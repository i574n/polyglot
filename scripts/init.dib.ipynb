{
 "cells": [
  {
   "cell_type": "code",
   "execution_count": null,
   "metadata": {
    "dotnet_interactive": {
     "language": "pwsh"
    },
    "polyglot_notebook": {
     "kernelName": "pwsh"
    }
   },
   "outputs": [],
   "source": [
    ". ./nbs_header.ps1\n",
    ". ./core.ps1"
   ]
  },
  {
   "cell_type": "code",
   "execution_count": null,
   "metadata": {
    "dotnet_interactive": {
     "language": "pwsh"
    },
    "polyglot_notebook": {
     "kernelName": "pwsh"
    }
   },
   "outputs": [],
   "source": [
    "# rustup +nightly component add clippy rust-src rustfmt"
   ]
  },
  {
   "cell_type": "code",
   "execution_count": null,
   "metadata": {
    "dotnet_interactive": {
     "language": "pwsh"
    },
    "polyglot_notebook": {
     "kernelName": "pwsh"
    }
   },
   "outputs": [],
   "source": [
    "# rustup +nightly target add wasm32-unknown-unknown"
   ]
  },
  {
   "cell_type": "code",
   "execution_count": null,
   "metadata": {
    "dotnet_interactive": {
     "language": "pwsh"
    },
    "polyglot_notebook": {
     "kernelName": "pwsh"
    }
   },
   "outputs": [
    {
     "name": "stdout",
     "output_type": "stream",
     "text": [
      "\u001B[31;1minfo: syncing channel updates for 'stable-x86_64-unknown-linux-gnu'\u001B[0m\n",
      "\u001B[31;1minfo: latest update on 2024-03-21, rust version 1.77.0 (aedd173a2 2024-03-17)\u001B[0m\n",
      "\u001B[31;1minfo: downloading component 'clippy'\u001B[0m\n",
      "\u001B[31;1minfo: downloading component 'rustfmt'\u001B[0m\n",
      "\u001B[31;1minfo: downloading component 'cargo'\u001B[0m\n",
      "\u001B[31;1minfo: downloading component 'rust-std'\u001B[0m\n",
      "\u001B[31;1minfo: downloading component 'rustc'\u001B[0m\n",
      "\u001B[31;1minfo: removing previous version of component 'clippy'\u001B[0m\n",
      "\u001B[31;1minfo: removing previous version of component 'rustfmt'\u001B[0m\n",
      "\u001B[31;1minfo: removing previous version of component 'cargo'\u001B[0m\n",
      "\u001B[31;1minfo: removing previous version of component 'rust-std'\u001B[0m\n",
      "\u001B[31;1minfo: removing previous version of component 'rustc'\u001B[0m\n",
      "\u001B[31;1minfo: installing component 'clippy'\u001B[0m\n",
      "\u001B[31;1minfo: installing component 'rustfmt'\u001B[0m\n",
      "\u001B[31;1minfo: installing component 'cargo'\u001B[0m\n",
      "\u001B[31;1minfo: installing component 'rust-std'\u001B[0m\n",
      "\u001B[31;1minfo: installing component 'rustc'\u001B[0m\n",
      "\u001B[31;1minfo: syncing channel updates for 'nightly-x86_64-unknown-linux-gnu'\u001B[0m\n",
      "\u001B[31;1minfo: checking for self-update\u001B[0m\n",
      "\n",
      "     stable-x86_64-unknown-linux-gnu updated - rustc 1.77.0 (aedd173a2 2024-03-17) (from rustc 1.75.0 (82e1608df 2023-12-21))\n",
      "  nightly-x86_64-unknown-linux-gnu unchanged - rustc 1.79.0-nightly (0824b300e 2024-03-24)\n",
      "\n",
      "\u001B[31;1mwarning: tool `rust-analyzer` is already installed, remove it from `/home/runner/.cargo/bin`, then run `rustup update` to have rustup manage this tool.\u001B[0m\n",
      "\u001B[31;1mwarning: tool `rustfmt` is already installed, remove it from `/home/runner/.cargo/bin`, then run `rustup update` to have rustup manage this tool.\u001B[0m\n",
      "\u001B[31;1mwarning: tool `cargo-fmt` is already installed, remove it from `/home/runner/.cargo/bin`, then run `rustup update` to have rustup manage this tool.\u001B[0m\n",
      "\u001B[31;1minfo: cleaning up downloads & tmp directories\u001B[0m\n"
     ]
    }
   ],
   "source": [
    "rustup update"
   ]
  },
  {
   "cell_type": "code",
   "execution_count": null,
   "metadata": {
    "dotnet_interactive": {
     "language": "pwsh"
    },
    "polyglot_notebook": {
     "kernelName": "pwsh"
    }
   },
   "outputs": [
    {
     "name": "stdout",
     "output_type": "stream",
     "text": [
      "\u001B[31;1m    Updating crates.io index\u001B[0m\n",
      "\u001B[31;1m     Ignored package `cargo-outdated v0.15.0` is already installed, use --force to override\u001B[0m\n"
     ]
    }
   ],
   "source": [
    "{ cargo +nightly install cargo-outdated } | Invoke-Block -OnError Continue"
   ]
  },
  {
   "cell_type": "code",
   "execution_count": null,
   "metadata": {
    "dotnet_interactive": {
     "language": "pwsh"
    },
    "polyglot_notebook": {
     "kernelName": "pwsh"
    }
   },
   "outputs": [
    {
     "name": "stdout",
     "output_type": "stream",
     "text": [
      "\u001B[31;1m    Updating crates.io index\u001B[0m\n",
      "\u001B[31;1merror: binary `wasm-pack` already exists in destination\u001B[0m\n",
      "\u001B[31;1mAdd --force to overwrite\u001B[0m\n",
      "\n",
      "# Invoke-Block / $Retry: 1 / $Location:  / $OnError: Continue / $exitcode: 101 / $EnvVars: null / $Error: '' / $ScriptBlock:\n",
      "'cargo +nightly install wasm-pack --locked'\n",
      "\n"
     ]
    }
   ],
   "source": [
    "{ cargo +nightly install wasm-pack --locked } | Invoke-Block -OnError Continue"
   ]
  },
  {
   "cell_type": "code",
   "execution_count": null,
   "metadata": {
    "dotnet_interactive": {
     "language": "pwsh"
    },
    "polyglot_notebook": {
     "kernelName": "pwsh"
    }
   },
   "outputs": [
    {
     "name": "stdout",
     "output_type": "stream",
     "text": [
      "\u001B[31;1m    Updating crates.io index\u001B[0m\n",
      "\u001B[31;1merror: binary `trunk` already exists in destination\u001B[0m\n",
      "\u001B[31;1mAdd --force to overwrite\u001B[0m\n",
      "\n",
      "# Invoke-Block / $Retry: 1 / $Location:  / $OnError: Continue / $exitcode: 101 / $EnvVars: null / $Error: '' / $ScriptBlock:\n",
      "'cargo +nightly install trunk --version 0.19.1'\n",
      "\n"
     ]
    }
   ],
   "source": [
    "{ cargo +nightly install trunk --version 0.19.1 } | Invoke-Block -OnError Continue"
   ]
  },
  {
   "cell_type": "code",
   "execution_count": null,
   "metadata": {
    "dotnet_interactive": {
     "language": "pwsh"
    },
    "polyglot_notebook": {
     "kernelName": "pwsh"
    }
   },
   "outputs": [
    {
     "name": "stdout",
     "output_type": "stream",
     "text": [
      "\u001B[31;1m    Updating git repository `https://github.com/bram209/leptosfmt.git`\u001B[0m\n",
      "\u001B[31;1merror: binary `leptosfmt` already exists in destination\u001B[0m\n",
      "\u001B[31;1mAdd --force to overwrite\u001B[0m\n",
      "\n",
      "# Invoke-Block / $Retry: 1 / $Location:  / $OnError: Continue / $exitcode: 101 / $EnvVars: null / $Error: '' / $ScriptBlock:\n",
      "'cargo +nightly install --git https://github.com/bram209/leptosfmt.git --locked'\n",
      "\n"
     ]
    }
   ],
   "source": [
    "{ cargo +nightly install --git https://github.com/bram209/leptosfmt.git --locked } | Invoke-Block -OnError Continue"
   ]
  },
  {
   "cell_type": "code",
   "execution_count": null,
   "metadata": {
    "dotnet_interactive": {
     "language": "pwsh"
    },
    "polyglot_notebook": {
     "kernelName": "pwsh"
    }
   },
   "outputs": [
    {
     "name": "stdout",
     "output_type": "stream",
     "text": [
      "\n",
      "added 1 package in 779ms\n",
      "\n",
      "1 package is looking for funding\n",
      "  run `npm fund` for details\n"
     ]
    }
   ],
   "source": [
    "npm install -g pnpm"
   ]
  },
  {
   "cell_type": "code",
   "execution_count": null,
   "metadata": {
    "dotnet_interactive": {
     "language": "pwsh"
    },
    "polyglot_notebook": {
     "kernelName": "pwsh"
    }
   },
   "outputs": [
    {
     "name": "stdout",
     "output_type": "stream",
     "text": [
      "\n",
      "added 2 packages in 1s\n"
     ]
    }
   ],
   "source": [
    "npm install -g esbuild"
   ]
  },
  {
   "cell_type": "code",
   "execution_count": null,
   "metadata": {
    "dotnet_interactive": {
     "language": "pwsh"
    },
    "polyglot_notebook": {
     "kernelName": "pwsh"
    }
   },
   "outputs": [
    {
     "name": "stdout",
     "output_type": "stream",
     "text": [
      "\n",
      "added 21 packages in 7s\n"
     ]
    }
   ],
   "source": [
    "npm install -g @chialab/rna"
   ]
  },
  {
   "cell_type": "code",
   "execution_count": null,
   "metadata": {
    "dotnet_interactive": {
     "language": "pwsh"
    },
    "polyglot_notebook": {
     "kernelName": "pwsh"
    }
   },
   "outputs": [
    {
     "name": "stdout",
     "output_type": "stream",
     "text": [
      "\n",
      "added 20 packages in 620ms\n"
     ]
    }
   ],
   "source": [
    "npm install -g @chialab/rna-bundler"
   ]
  },
  {
   "cell_type": "code",
   "execution_count": null,
   "metadata": {
    "dotnet_interactive": {
     "language": "pwsh"
    },
    "polyglot_notebook": {
     "kernelName": "pwsh"
    }
   },
   "outputs": [
    {
     "name": "stdout",
     "output_type": "stream",
     "text": [
      "\n",
      "added 3 packages in 2s\n"
     ]
    }
   ],
   "source": [
    "npm install -g @playwright/test@1.42.1"
   ]
  },
  {
   "cell_type": "code",
   "execution_count": null,
   "metadata": {
    "dotnet_interactive": {
     "language": "pwsh"
    },
    "polyglot_notebook": {
     "kernelName": "pwsh"
    }
   },
   "outputs": [
    {
     "name": "stdout",
     "output_type": "stream",
     "text": [
      "Downloading Chromium 123.0.6312.4 (playwright build v1105) from https://playwright.azureedge.net/builds/chromium/1105/chromium-linux.zip\n",
      "|                                                                                |   0% of 154.7 MiB\n",
      "|■■■■■■■■                                                                        |  10% of 154.7 MiB\n",
      "|■■■■■■■■■■■■■■■■                                                                |  20% of 154.7 MiB\n",
      "|■■■■■■■■■■■■■■■■■■■■■■■■                                                        |  30% of 154.7 MiB\n",
      "|■■■■■■■■■■■■■■■■■■■■■■■■■■■■■■■■                                                |  40% of 154.7 MiB\n",
      "|■■■■■■■■■■■■■■■■■■■■■■■■■■■■■■■■■■■■■■■■                                        |  50% of 154.7 MiB\n",
      "|■■■■■■■■■■■■■■■■■■■■■■■■■■■■■■■■■■■■■■■■■■■■■■■■                                |  60% of 154.7 MiB\n",
      "|■■■■■■■■■■■■■■■■■■■■■■■■■■■■■■■■■■■■■■■■■■■■■■■■■■■■■■■■                        |  70% of 154.7 MiB\n",
      "|■■■■■■■■■■■■■■■■■■■■■■■■■■■■■■■■■■■■■■■■■■■■■■■■■■■■■■■■■■■■■■■■                |  80% of 154.7 MiB\n",
      "|■■■■■■■■■■■■■■■■■■■■■■■■■■■■■■■■■■■■■■■■■■■■■■■■■■■■■■■■■■■■■■■■■■■■■■■■        |  90% of 154.7 MiB\n",
      "|■■■■■■■■■■■■■■■■■■■■■■■■■■■■■■■■■■■■■■■■■■■■■■■■■■■■■■■■■■■■■■■■■■■■■■■■■■■■■■■■| 100% of 154.7 MiB\n",
      "Chromium 123.0.6312.4 (playwright build v1105) downloaded to /home/runner/.cache/ms-playwright/chromium-1105\n",
      "Downloading FFMPEG playwright build v1009 from https://playwright.azureedge.net/builds/ffmpeg/1009/ffmpeg-linux.zip\n",
      "|                                                                                |   0% of 2.6 MiB\n",
      "|■■■■■■■■                                                                        |  10% of 2.6 MiB\n",
      "|■■■■■■■■■■■■■■■■                                                                |  20% of 2.6 MiB\n",
      "|■■■■■■■■■■■■■■■■■■■■■■■■                                                        |  30% of 2.6 MiB\n",
      "|■■■■■■■■■■■■■■■■■■■■■■■■■■■■■■■■                                                |  40% of 2.6 MiB\n",
      "|■■■■■■■■■■■■■■■■■■■■■■■■■■■■■■■■■■■■■■■■                                        |  50% of 2.6 MiB\n",
      "|■■■■■■■■■■■■■■■■■■■■■■■■■■■■■■■■■■■■■■■■■■■■■■■■                                |  60% of 2.6 MiB\n",
      "|■■■■■■■■■■■■■■■■■■■■■■■■■■■■■■■■■■■■■■■■■■■■■■■■■■■■■■■■                        |  70% of 2.6 MiB\n",
      "|■■■■■■■■■■■■■■■■■■■■■■■■■■■■■■■■■■■■■■■■■■■■■■■■■■■■■■■■■■■■■■■■                |  80% of 2.6 MiB\n",
      "|■■■■■■■■■■■■■■■■■■■■■■■■■■■■■■■■■■■■■■■■■■■■■■■■■■■■■■■■■■■■■■■■■■■■■■■■        |  90% of 2.6 MiB\n",
      "|■■■■■■■■■■■■■■■■■■■■■■■■■■■■■■■■■■■■■■■■■■■■■■■■■■■■■■■■■■■■■■■■■■■■■■■■■■■■■■■■| 100% of 2.6 MiB\n",
      "FFMPEG playwright build v1009 downloaded to /home/runner/.cache/ms-playwright/ffmpeg-1009\n",
      "Downloading Firefox 123.0 (playwright build v1440) from https://playwright.azureedge.net/builds/firefox/1440/firefox-ubuntu-22.04.zip\n",
      "|                                                                                |   0% of 84.7 MiB\n",
      "|■■■■■■■■                                                                        |  10% of 84.7 MiB\n",
      "|■■■■■■■■■■■■■■■■                                                                |  20% of 84.7 MiB\n",
      "|■■■■■■■■■■■■■■■■■■■■■■■■                                                        |  30% of 84.7 MiB\n",
      "|■■■■■■■■■■■■■■■■■■■■■■■■■■■■■■■■                                                |  40% of 84.7 MiB\n",
      "|■■■■■■■■■■■■■■■■■■■■■■■■■■■■■■■■■■■■■■■■                                        |  50% of 84.7 MiB\n",
      "|■■■■■■■■■■■■■■■■■■■■■■■■■■■■■■■■■■■■■■■■■■■■■■■■                                |  60% of 84.7 MiB\n",
      "|■■■■■■■■■■■■■■■■■■■■■■■■■■■■■■■■■■■■■■■■■■■■■■■■■■■■■■■■                        |  70% of 84.7 MiB\n",
      "|■■■■■■■■■■■■■■■■■■■■■■■■■■■■■■■■■■■■■■■■■■■■■■■■■■■■■■■■■■■■■■■■                |  80% of 84.7 MiB\n",
      "|■■■■■■■■■■■■■■■■■■■■■■■■■■■■■■■■■■■■■■■■■■■■■■■■■■■■■■■■■■■■■■■■■■■■■■■■        |  90% of 84.7 MiB\n",
      "|■■■■■■■■■■■■■■■■■■■■■■■■■■■■■■■■■■■■■■■■■■■■■■■■■■■■■■■■■■■■■■■■■■■■■■■■■■■■■■■■| 100% of 84.7 MiB\n",
      "Firefox 123.0 (playwright build v1440) downloaded to /home/runner/.cache/ms-playwright/firefox-1440\n",
      "Downloading Webkit 17.4 (playwright build v1983) from https://playwright.azureedge.net/builds/webkit/1983/webkit-ubuntu-22.04.zip\n",
      "|                                                                                |   0% of 86.1 MiB\n",
      "|■■■■■■■■                                                                        |  10% of 86.1 MiB\n",
      "|■■■■■■■■■■■■■■■■                                                                |  20% of 86.1 MiB\n",
      "|■■■■■■■■■■■■■■■■■■■■■■■■                                                        |  30% of 86.1 MiB\n",
      "|■■■■■■■■■■■■■■■■■■■■■■■■■■■■■■■■                                                |  40% of 86.1 MiB\n",
      "|■■■■■■■■■■■■■■■■■■■■■■■■■■■■■■■■■■■■■■■■                                        |  50% of 86.1 MiB\n",
      "|■■■■■■■■■■■■■■■■■■■■■■■■■■■■■■■■■■■■■■■■■■■■■■■■                                |  60% of 86.1 MiB\n",
      "|■■■■■■■■■■■■■■■■■■■■■■■■■■■■■■■■■■■■■■■■■■■■■■■■■■■■■■■■                        |  70% of 86.1 MiB\n",
      "|■■■■■■■■■■■■■■■■■■■■■■■■■■■■■■■■■■■■■■■■■■■■■■■■■■■■■■■■■■■■■■■■                |  80% of 86.1 MiB\n",
      "|■■■■■■■■■■■■■■■■■■■■■■■■■■■■■■■■■■■■■■■■■■■■■■■■■■■■■■■■■■■■■■■■■■■■■■■■        |  90% of 86.1 MiB\n",
      "|■■■■■■■■■■■■■■■■■■■■■■■■■■■■■■■■■■■■■■■■■■■■■■■■■■■■■■■■■■■■■■■■■■■■■■■■■■■■■■■■| 100% of 86.1 MiB\n",
      "Webkit 17.4 (playwright build v1983) downloaded to /home/runner/.cache/ms-playwright/webkit-1983\n",
      "\u001B[31;1mPlaywright Host validation warning: \u001B[0m\n",
      "\u001B[31;1m╔══════════════════════════════════════════════════════╗\u001B[0m\n",
      "\u001B[31;1m║ Host system is missing dependencies to run browsers. ║\u001B[0m\n",
      "\u001B[31;1m║ Missing libraries:                                   ║\u001B[0m\n",
      "\u001B[31;1m║     libwoff2dec.so.1.0.2                             ║\u001B[0m\n",
      "\u001B[31;1m║     libvpx.so.7                                      ║\u001B[0m\n",
      "\u001B[31;1m║     libevent-2.1.so.7                                ║\u001B[0m\n",
      "\u001B[31;1m║     libopus.so.0                                     ║\u001B[0m\n",
      "\u001B[31;1m║     libharfbuzz-icu.so.0                             ║\u001B[0m\n",
      "\u001B[31;1m║     libgstallocators-1.0.so.0                        ║\u001B[0m\n",
      "\u001B[31;1m║     libgstapp-1.0.so.0                               ║\u001B[0m\n",
      "\u001B[31;1m║     libgstpbutils-1.0.so.0                           ║\u001B[0m\n",
      "\u001B[31;1m║     libgstaudio-1.0.so.0                             ║\u001B[0m\n",
      "\u001B[31;1m║     libgsttag-1.0.so.0                               ║\u001B[0m\n",
      "\u001B[31;1m║     libgstvideo-1.0.so.0                             ║\u001B[0m\n",
      "\u001B[31;1m║     libgstgl-1.0.so.0                                ║\u001B[0m\n",
      "\u001B[31;1m║     libgstcodecparsers-1.0.so.0                      ║\u001B[0m\n",
      "\u001B[31;1m║     libgstfft-1.0.so.0                               ║\u001B[0m\n",
      "\u001B[31;1m║     libhyphen.so.0                                   ║\u001B[0m\n",
      "\u001B[31;1m║     libmanette-0.2.so.0                              ║\u001B[0m\n",
      "\u001B[31;1m║     libflite.so.1                                    ║\u001B[0m\n",
      "\u001B[31;1m║     libflite_usenglish.so.1                          ║\u001B[0m\n",
      "\u001B[31;1m║     libflite_cmu_grapheme_lang.so.1                  ║\u001B[0m\n",
      "\u001B[31;1m║     libflite_cmu_grapheme_lex.so.1                   ║\u001B[0m\n",
      "\u001B[31;1m║     libflite_cmu_indic_lang.so.1                     ║\u001B[0m\n",
      "\u001B[31;1m║     libflite_cmu_indic_lex.so.1                      ║\u001B[0m\n",
      "\u001B[31;1m║     libflite_cmulex.so.1                             ║\u001B[0m\n",
      "\u001B[31;1m║     libflite_cmu_time_awb.so.1                       ║\u001B[0m\n",
      "\u001B[31;1m║     libflite_cmu_us_awb.so.1                         ║\u001B[0m\n",
      "\u001B[31;1m║     libflite_cmu_us_kal16.so.1                       ║\u001B[0m\n",
      "\u001B[31;1m║     libflite_cmu_us_kal.so.1                         ║\u001B[0m\n",
      "\u001B[31;1m║     libflite_cmu_us_rms.so.1                         ║\u001B[0m\n",
      "\u001B[31;1m║     libflite_cmu_us_slt.so.1                         ║\u001B[0m\n",
      "\u001B[31;1m║     libGLESv2.so.2                                   ║\u001B[0m\n",
      "\u001B[31;1m║     libx264.so                                       ║\u001B[0m\n",
      "\u001B[31;1m╚══════════════════════════════════════════════════════╝\u001B[0m\n",
      "\u001B[31;1m    at validateDependenciesLinux (/opt/hostedtoolcache/node/21.7.1/x64/lib/node_modules/@playwright/test/node_modules/playwright-core/lib/server/registry/dependencies.js:216:9)\u001B[0m\n",
      "\u001B[31;1m    at process.processTicksAndRejections (node:internal/process/task_queues:95:5)\u001B[0m\n",
      "\u001B[31;1m    at async Registry._validateHostRequirements (/opt/hostedtoolcache/node/21.7.1/x64/lib/node_modules/@playwright/test/node_modules/playwright-core/lib/server/registry/index.js:627:43)\u001B[0m\n",
      "\u001B[31;1m    at async Registry._validateHostRequirementsForExecutableIfNeeded (/opt/hostedtoolcache/node/21.7.1/x64/lib/node_modules/@playwright/test/node_modules/playwright-core/lib/server/registry/index.js:725:7)\u001B[0m\n",
      "\u001B[31;1m    at async Registry.validateHostRequirementsForExecutablesIfNeeded (/opt/hostedtoolcache/node/21.7.1/x64/lib/node_modules/@playwright/test/node_modules/playwright-core/lib/server/registry/index.js:714:43)\u001B[0m\n",
      "\u001B[31;1m    at async t.<anonymous> (/opt/hostedtoolcache/node/21.7.1/x64/lib/node_modules/@playwright/test/node_modules/playwright-core/lib/cli/program.js:119:7)\u001B[0m\n"
     ]
    }
   ],
   "source": [
    "npx -y playwright@1.42.1 install"
   ]
  },
  {
   "cell_type": "code",
   "execution_count": null,
   "metadata": {
    "dotnet_interactive": {
     "language": "pwsh"
    },
    "polyglot_notebook": {
     "kernelName": "pwsh"
    }
   },
   "outputs": [],
   "source": [
    "[Net.ServicePointManager]::SecurityProtocol = [Net.SecurityProtocolType]::Tls12"
   ]
  },
  {
   "cell_type": "code",
   "execution_count": null,
   "metadata": {
    "dotnet_interactive": {
     "language": "pwsh"
    },
    "polyglot_notebook": {
     "kernelName": "pwsh"
    }
   },
   "outputs": [],
   "source": [
    "{ Install-Module -Name PowerShellGet -Force -AllowClobber -Scope CurrentUser } | Invoke-Block -OnError Continue"
   ]
  },
  {
   "cell_type": "code",
   "execution_count": null,
   "metadata": {
    "dotnet_interactive": {
     "language": "pwsh"
    },
    "polyglot_notebook": {
     "kernelName": "pwsh"
    }
   },
   "outputs": [
    {
     "name": "stdout",
     "output_type": "stream",
     "text": [
      "\n",
      "# Invoke-Block / $Retry: 1 / $Location:  / $OnError: Continue / $exitcode: 0 / $EnvVars: null / $Error: 'Cannot find a variable with the name 'PackageManagementProvider'. Cannot find a variable with the name 'SourceLocation'.' / $ScriptBlock:\n",
      "'Set-PSRepository -Name PSGallery -InstallationPolicy Trusted'\n",
      "\n"
     ]
    }
   ],
   "source": [
    "{ Set-PSRepository -Name PSGallery -InstallationPolicy Trusted } | Invoke-Block -OnError Continue"
   ]
  },
  {
   "cell_type": "code",
   "execution_count": null,
   "metadata": {
    "dotnet_interactive": {
     "language": "pwsh"
    },
    "polyglot_notebook": {
     "kernelName": "pwsh"
    }
   },
   "outputs": [
    {
     "name": "stdout",
     "output_type": "stream",
     "text": [
      "What if: Performing the operation \"Install-Module\" on target \"Version '0.3.1' of module 'PSToml'\".\n"
     ]
    }
   ],
   "source": [
    "{ Install-Module -Name PSToml -Scope CurrentUser -WhatIf } | Invoke-Block -OnError Continue"
   ]
  },
  {
   "cell_type": "code",
   "execution_count": null,
   "metadata": {
    "dotnet_interactive": {
     "language": "pwsh"
    },
    "polyglot_notebook": {
     "kernelName": "pwsh"
    }
   },
   "outputs": [
    {
     "name": "stdout",
     "output_type": "stream",
     "text": [
      "Lockfile is up to date, resolution step is skipped\n",
      "Progress: resolved 1, reused 0, downloaded 0, added 0\n",
      "Packages: +302\n",
      "++++++++++++++++++++++++++++++++++++++++++++++++++++++++++++++++++++++++++++++++\n",
      "Progress: resolved 302, reused 0, downloaded 299, added 299\n",
      "Progress: resolved 302, reused 0, downloaded 302, added 302, done\n",
      "\n",
      "devDependencies:\n",
      "+ @types/node 20.11.20\n",
      "+ npm-check-updates 16.14.11\n",
      "+ typescript 5.4.0-dev.20231129\n",
      "\n",
      "Done in 1.7s\n"
     ]
    }
   ],
   "source": [
    "{ pnpm -C .. install --frozen-lockfile } | Invoke-Block"
   ]
  },
  {
   "cell_type": "code",
   "execution_count": null,
   "metadata": {
    "dotnet_interactive": {
     "language": "pwsh"
    },
    "polyglot_notebook": {
     "kernelName": "pwsh"
    }
   },
   "outputs": [
    {
     "name": "stdout",
     "output_type": "stream",
     "text": [
      "\u001B[31;1mCloning into 'The-Spiral-Language'...\u001B[0m\n",
      "Already up to date.\n",
      "MSBuild version 17.10.0-preview-24101-01+07fd5d51f for .NET\n",
      "  Determining projects to restore...\n",
      "  Restored /home/runner/work/polyglot/polyglot/deps/The-Spiral-Language/The Spiral Language 2/The Spiral Language 2.fsproj (in 297 ms).\n",
      "/usr/share/dotnet/sdk/9.0.100-preview.1.24101.2/Sdks/Microsoft.NET.Sdk/targets/Microsoft.NET.RuntimeIdentifierInference.targets(313,5): message NETSDK1057: You are using a preview version of .NET. See: https://aka.ms/dotnet-support-policy [/home/runner/work/polyglot/polyglot/deps/The-Spiral-Language/The Spiral Language 2/The Spiral Language 2.fsproj]\n",
      "  The Spiral Language 2 -> /home/runner/work/polyglot/polyglot/deps/The-Spiral-Language/The Spiral Language 2/artifacts/bin/The Spiral Language 2/release/Spiral.dll\n",
      "\n",
      "Build succeeded.\n",
      "    0 Warning(s)\n",
      "    0 Error(s)\n",
      "\n",
      "Time Elapsed 00:00:22.58\n"
     ]
    }
   ],
   "source": [
    "{ . \"$ScriptDir/dep_spiral.ps1\" } | Invoke-Block"
   ]
  },
  {
   "cell_type": "code",
   "execution_count": null,
   "metadata": {
    "dotnet_interactive": {
     "language": "pwsh"
    },
    "polyglot_notebook": {
     "kernelName": "pwsh"
    }
   },
   "outputs": [],
   "source": [
    "{ . \"$ScriptDir/dep_spiral_extension.ps1\" } | Invoke-Block"
   ]
  },
  {
   "cell_type": "code",
   "execution_count": null,
   "metadata": {
    "dotnet_interactive": {
     "language": "pwsh"
    },
    "polyglot_notebook": {
     "kernelName": "pwsh"
    }
   },
   "outputs": [
    {
     "name": "stdout",
     "output_type": "stream",
     "text": [
      "\u001B[31;1mCloning into 'Fable'...\u001B[0m\n",
      "Already up to date.\n",
      "Tool path: /home/runner/.nuget/packages/fable/4.13.0/tools/net6.0/any\n",
      "MSBuild version 17.10.0-preview-24101-01+07fd5d51f for .NET\n",
      "  Determining projects to restore...\n",
      "  Restored /home/runner/work/polyglot/polyglot/deps/Fable/src/Fable.Transforms/Fable.Transforms.fsproj (in 320 ms).\n",
      "  Restored /home/runner/work/polyglot/polyglot/deps/Fable/src/Fable.Transforms/Rust/AST/Rust.AST.fsproj (in 320 ms).\n",
      "  Restored /home/runner/work/polyglot/polyglot/deps/Fable/src/Fable.Compiler/Fable.Compiler.fsproj (in 320 ms).\n",
      "  Restored /home/runner/work/polyglot/polyglot/deps/Fable/src/Fable.AST/Fable.AST.fsproj (in 1 ms).\n",
      "  Restored /home/runner/work/polyglot/polyglot/deps/Fable/src/Fable.Cli/Fable.Cli.fsproj (in 469 ms).\n",
      "/usr/share/dotnet/sdk/9.0.100-preview.1.24101.2/Sdks/Microsoft.NET.Sdk/targets/Microsoft.NET.RuntimeIdentifierInference.targets(313,5): message NETSDK1057: You are using a preview version of .NET. See: https://aka.ms/dotnet-support-policy [/home/runner/work/polyglot/polyglot/deps/Fable/src/Fable.Cli/Fable.Cli.fsproj]\n",
      "/usr/share/dotnet/sdk/9.0.100-preview.1.24101.2/Sdks/Microsoft.NET.Sdk/targets/Microsoft.NET.RuntimeIdentifierInference.targets(313,5): message NETSDK1057: You are using a preview version of .NET. See: https://aka.ms/dotnet-support-policy [/home/runner/work/polyglot/polyglot/deps/Fable/src/Fable.Transforms/Fable.Transforms.fsproj]\n",
      "/usr/share/dotnet/sdk/9.0.100-preview.1.24101.2/Sdks/Microsoft.NET.Sdk/targets/Microsoft.NET.RuntimeIdentifierInference.targets(313,5): message NETSDK1057: You are using a preview version of .NET. See: https://aka.ms/dotnet-support-policy [/home/runner/work/polyglot/polyglot/deps/Fable/src/Fable.AST/Fable.AST.fsproj]\n",
      "/usr/share/dotnet/sdk/9.0.100-preview.1.24101.2/Sdks/Microsoft.NET.Sdk/targets/Microsoft.NET.RuntimeIdentifierInference.targets(313,5): message NETSDK1057: You are using a preview version of .NET. See: https://aka.ms/dotnet-support-policy [/home/runner/work/polyglot/polyglot/deps/Fable/src/Fable.Transforms/Rust/AST/Rust.AST.fsproj]\n",
      "  Fable.AST -> /home/runner/work/polyglot/polyglot/deps/Fable/src/Fable.AST/bin/Release/netstandard2.0/Fable.AST.dll\n",
      "  Rust.AST -> /home/runner/work/polyglot/polyglot/deps/Fable/src/Fable.Transforms/Rust/AST/bin/Release/netstandard2.0/Rust.AST.dll\n",
      "/usr/share/dotnet/sdk/9.0.100-preview.1.24101.2/Microsoft.Common.CurrentVersion.targets(2401,5): warning MSB3277: Found conflicts between different versions of \"System.Memory\" that could not be resolved. [/home/runner/work/polyglot/polyglot/deps/Fable/src/Fable.Transforms/Fable.Transforms.fsproj]\n",
      "/usr/share/dotnet/sdk/9.0.100-preview.1.24101.2/Microsoft.Common.CurrentVersion.targets(2401,5): warning MSB3277: There was a conflict between \"System.Memory, Version=4.0.1.1, Culture=neutral, PublicKeyToken=cc7b13ffcd2ddd51\" and \"System.Memory, Version=4.0.1.2, Culture=neutral, PublicKeyToken=cc7b13ffcd2ddd51\". [/home/runner/work/polyglot/polyglot/deps/Fable/src/Fable.Transforms/Fable.Transforms.fsproj]\n",
      "/usr/share/dotnet/sdk/9.0.100-preview.1.24101.2/Microsoft.Common.CurrentVersion.targets(2401,5): warning MSB3277:     \"System.Memory, Version=4.0.1.1, Culture=neutral, PublicKeyToken=cc7b13ffcd2ddd51\" was chosen because it was primary and \"System.Memory, Version=4.0.1.2, Culture=neutral, PublicKeyToken=cc7b13ffcd2ddd51\" was not. [/home/runner/work/polyglot/polyglot/deps/Fable/src/Fable.Transforms/Fable.Transforms.fsproj]\n",
      "/usr/share/dotnet/sdk/9.0.100-preview.1.24101.2/Microsoft.Common.CurrentVersion.targets(2401,5): warning MSB3277:     References which depend on \"System.Memory, Version=4.0.1.1, Culture=neutral, PublicKeyToken=cc7b13ffcd2ddd51\" [/home/runner/.nuget/packages/system.memory/4.5.4/lib/netstandard2.0/System.Memory.dll]. [/home/runner/work/polyglot/polyglot/deps/Fable/src/Fable.Transforms/Fable.Transforms.fsproj]\n",
      "/usr/share/dotnet/sdk/9.0.100-preview.1.24101.2/Microsoft.Common.CurrentVersion.targets(2401,5): warning MSB3277:         /home/runner/.nuget/packages/system.memory/4.5.4/lib/netstandard2.0/System.Memory.dll [/home/runner/work/polyglot/polyglot/deps/Fable/src/Fable.Transforms/Fable.Transforms.fsproj]\n",
      "/usr/share/dotnet/sdk/9.0.100-preview.1.24101.2/Microsoft.Common.CurrentVersion.targets(2401,5): warning MSB3277:           Project file item includes which caused reference \"/home/runner/.nuget/packages/system.memory/4.5.4/lib/netstandard2.0/System.Memory.dll\". [/home/runner/work/polyglot/polyglot/deps/Fable/src/Fable.Transforms/Fable.Transforms.fsproj]\n",
      "/usr/share/dotnet/sdk/9.0.100-preview.1.24101.2/Microsoft.Common.CurrentVersion.targets(2401,5): warning MSB3277:             /home/runner/.nuget/packages/system.memory/4.5.4/lib/netstandard2.0/System.Memory.dll [/home/runner/work/polyglot/polyglot/deps/Fable/src/Fable.Transforms/Fable.Transforms.fsproj]\n",
      "/usr/share/dotnet/sdk/9.0.100-preview.1.24101.2/Microsoft.Common.CurrentVersion.targets(2401,5): warning MSB3277:     References which depend on or have been unified to \"System.Memory, Version=4.0.1.2, Culture=neutral, PublicKeyToken=cc7b13ffcd2ddd51\" []. [/home/runner/work/polyglot/polyglot/deps/Fable/src/Fable.Transforms/Fable.Transforms.fsproj]\n",
      "/usr/share/dotnet/sdk/9.0.100-preview.1.24101.2/Microsoft.Common.CurrentVersion.targets(2401,5): warning MSB3277:         /home/runner/work/polyglot/polyglot/deps/Fable/lib/fcs/FSharp.Compiler.Service.dll [/home/runner/work/polyglot/polyglot/deps/Fable/src/Fable.Transforms/Fable.Transforms.fsproj]\n",
      "/usr/share/dotnet/sdk/9.0.100-preview.1.24101.2/Microsoft.Common.CurrentVersion.targets(2401,5): warning MSB3277:           Project file item includes which caused reference \"/home/runner/work/polyglot/polyglot/deps/Fable/lib/fcs/FSharp.Compiler.Service.dll\". [/home/runner/work/polyglot/polyglot/deps/Fable/src/Fable.Transforms/Fable.Transforms.fsproj]\n",
      "/usr/share/dotnet/sdk/9.0.100-preview.1.24101.2/Microsoft.Common.CurrentVersion.targets(2401,5): warning MSB3277:             ../../lib/fcs/FSharp.Compiler.Service.dll [/home/runner/work/polyglot/polyglot/deps/Fable/src/Fable.Transforms/Fable.Transforms.fsproj]\n",
      "  Fable.Transforms -> /home/runner/work/polyglot/polyglot/deps/Fable/src/Fable.Transforms/bin/Release/netstandard2.0/Fable.Transforms.dll\n",
      "  Fable.Compiler -> /home/runner/work/polyglot/polyglot/deps/Fable/src/Fable.Compiler/bin/Release/net9.0/Fable.Compiler.dll\n",
      "  Fable.Cli -> /home/runner/work/polyglot/polyglot/deps/Fable/src/Fable.Cli/bin/Release/net9.0/fable.dll\n",
      "\n",
      "Build succeeded.\n",
      "\n",
      "/usr/share/dotnet/sdk/9.0.100-preview.1.24101.2/Microsoft.Common.CurrentVersion.targets(2401,5): warning MSB3277: Found conflicts between different versions of \"System.Memory\" that could not be resolved. [/home/runner/work/polyglot/polyglot/deps/Fable/src/Fable.Transforms/Fable.Transforms.fsproj]\n",
      "/usr/share/dotnet/sdk/9.0.100-preview.1.24101.2/Microsoft.Common.CurrentVersion.targets(2401,5): warning MSB3277: There was a conflict between \"System.Memory, Version=4.0.1.1, Culture=neutral, PublicKeyToken=cc7b13ffcd2ddd51\" and \"System.Memory, Version=4.0.1.2, Culture=neutral, PublicKeyToken=cc7b13ffcd2ddd51\". [/home/runner/work/polyglot/polyglot/deps/Fable/src/Fable.Transforms/Fable.Transforms.fsproj]\n",
      "/usr/share/dotnet/sdk/9.0.100-preview.1.24101.2/Microsoft.Common.CurrentVersion.targets(2401,5): warning MSB3277:     \"System.Memory, Version=4.0.1.1, Culture=neutral, PublicKeyToken=cc7b13ffcd2ddd51\" was chosen because it was primary and \"System.Memory, Version=4.0.1.2, Culture=neutral, PublicKeyToken=cc7b13ffcd2ddd51\" was not. [/home/runner/work/polyglot/polyglot/deps/Fable/src/Fable.Transforms/Fable.Transforms.fsproj]\n",
      "/usr/share/dotnet/sdk/9.0.100-preview.1.24101.2/Microsoft.Common.CurrentVersion.targets(2401,5): warning MSB3277:     References which depend on \"System.Memory, Version=4.0.1.1, Culture=neutral, PublicKeyToken=cc7b13ffcd2ddd51\" [/home/runner/.nuget/packages/system.memory/4.5.4/lib/netstandard2.0/System.Memory.dll]. [/home/runner/work/polyglot/polyglot/deps/Fable/src/Fable.Transforms/Fable.Transforms.fsproj]\n",
      "/usr/share/dotnet/sdk/9.0.100-preview.1.24101.2/Microsoft.Common.CurrentVersion.targets(2401,5): warning MSB3277:         /home/runner/.nuget/packages/system.memory/4.5.4/lib/netstandard2.0/System.Memory.dll [/home/runner/work/polyglot/polyglot/deps/Fable/src/Fable.Transforms/Fable.Transforms.fsproj]\n",
      "/usr/share/dotnet/sdk/9.0.100-preview.1.24101.2/Microsoft.Common.CurrentVersion.targets(2401,5): warning MSB3277:           Project file item includes which caused reference \"/home/runner/.nuget/packages/system.memory/4.5.4/lib/netstandard2.0/System.Memory.dll\". [/home/runner/work/polyglot/polyglot/deps/Fable/src/Fable.Transforms/Fable.Transforms.fsproj]\n",
      "/usr/share/dotnet/sdk/9.0.100-preview.1.24101.2/Microsoft.Common.CurrentVersion.targets(2401,5): warning MSB3277:             /home/runner/.nuget/packages/system.memory/4.5.4/lib/netstandard2.0/System.Memory.dll [/home/runner/work/polyglot/polyglot/deps/Fable/src/Fable.Transforms/Fable.Transforms.fsproj]\n",
      "/usr/share/dotnet/sdk/9.0.100-preview.1.24101.2/Microsoft.Common.CurrentVersion.targets(2401,5): warning MSB3277:     References which depend on or have been unified to \"System.Memory, Version=4.0.1.2, Culture=neutral, PublicKeyToken=cc7b13ffcd2ddd51\" []. [/home/runner/work/polyglot/polyglot/deps/Fable/src/Fable.Transforms/Fable.Transforms.fsproj]\n",
      "/usr/share/dotnet/sdk/9.0.100-preview.1.24101.2/Microsoft.Common.CurrentVersion.targets(2401,5): warning MSB3277:         /home/runner/work/polyglot/polyglot/deps/Fable/lib/fcs/FSharp.Compiler.Service.dll [/home/runner/work/polyglot/polyglot/deps/Fable/src/Fable.Transforms/Fable.Transforms.fsproj]\n",
      "/usr/share/dotnet/sdk/9.0.100-preview.1.24101.2/Microsoft.Common.CurrentVersion.targets(2401,5): warning MSB3277:           Project file item includes which caused reference \"/home/runner/work/polyglot/polyglot/deps/Fable/lib/fcs/FSharp.Compiler.Service.dll\". [/home/runner/work/polyglot/polyglot/deps/Fable/src/Fable.Transforms/Fable.Transforms.fsproj]\n",
      "/usr/share/dotnet/sdk/9.0.100-preview.1.24101.2/Microsoft.Common.CurrentVersion.targets(2401,5): warning MSB3277:             ../../lib/fcs/FSharp.Compiler.Service.dll [/home/runner/work/polyglot/polyglot/deps/Fable/src/Fable.Transforms/Fable.Transforms.fsproj]\n",
      "    1 Warning(s)\n",
      "    0 Error(s)\n",
      "\n",
      "Time Elapsed 00:00:32.41\n",
      "fable.dll path: /home/runner/work/polyglot/polyglot/deps/Fable/src/Fable.Cli/bin/Release/net9.0/fable.dll\n",
      "Lib path: /home/runner/.nuget/packages/fable.core/4.3.0/lib/netstandard2.0\n",
      "MSBuild version 17.10.0-preview-24101-01+07fd5d51f for .NET\n",
      "  Determining projects to restore...\n",
      "  Restored /home/runner/work/polyglot/polyglot/deps/Fable/src/Fable.Core/Fable.Core.fsproj (in 198 ms).\n",
      "/usr/share/dotnet/sdk/9.0.100-preview.1.24101.2/Sdks/Microsoft.NET.Sdk/targets/Microsoft.NET.RuntimeIdentifierInference.targets(313,5): message NETSDK1057: You are using a preview version of .NET. See: https://aka.ms/dotnet-support-policy [/home/runner/work/polyglot/polyglot/deps/Fable/src/Fable.Core/Fable.Core.fsproj]\n",
      "  Fable.Core -> /home/runner/work/polyglot/polyglot/deps/Fable/src/Fable.Core/bin/Release/netstandard2.0/Fable.Core.dll\n",
      "\n",
      "Build succeeded.\n",
      "    0 Warning(s)\n",
      "    0 Error(s)\n",
      "\n",
      "Time Elapsed 00:00:03.44\n"
     ]
    }
   ],
   "source": [
    "{ . \"$ScriptDir/dep_fable.ps1\" } | Invoke-Block"
   ]
  },
  {
   "cell_type": "code",
   "execution_count": null,
   "metadata": {
    "dotnet_interactive": {
     "language": "pwsh"
    },
    "polyglot_notebook": {
     "kernelName": "pwsh"
    }
   },
   "outputs": [
    {
     "name": "stdout",
     "output_type": "stream",
     "text": [
      "\u001B[31;1mCloning into 'hyperui'...\u001B[0m\n",
      "Already up to date.\n",
      "yarn install v1.22.22\n",
      "info No lockfile found.\n",
      "\u001B[31;1mwarning package-lock.json found. Your project contains lock files generated by tools other than Yarn. It is advised not to mix package managers in order to avoid resolution inconsistencies caused by unsynchronized lock files. To clear this warning, remove package-lock.json.\u001B[0m\n",
      "[1/4] Resolving packages...\n",
      "[2/4] Fetching packages...\n",
      "[3/4] Linking dependencies...\n",
      "\u001B[31;1mwarning \"eslint-config-next > @typescript-eslint/parser > @typescript-eslint/typescript-estree > ts-api-utils@1.3.0\" has unmet peer dependency \"typescript@>=4.2.0\".\u001B[0m\n",
      "[4/4] Building fresh packages...\n",
      "success Saved lockfile.\n",
      "Done in 21.17s.\n",
      "yarn run v1.22.22\n",
      "$ next build\n",
      "⚠ No build cache found. Please configure build caching for faster rebuilds. Read more: https://nextjs.org/docs/messages/no-cache\n",
      "Attention: Next.js now collects completely anonymous telemetry regarding usage.\n",
      "This information is used to shape Next.js' roadmap and prioritize features.\n",
      "You can learn more, including how to opt-out if you'd not like to participate in this anonymous program, by visiting the following URL:\n",
      "https://nextjs.org/telemetry\n",
      "\n",
      "   ▲ Next.js 14.1.4\n",
      "\n",
      "   Creating an optimized production build ...\n",
      "\u001B[31;1m(node:48577) [DEP0040] DeprecationWarning: The `punycode` module is deprecated. Please use a userland alternative instead.\u001B[0m\n",
      "\u001B[31;1m(Use `node --trace-deprecation ...` to show where the warning was created)\u001B[0m\n",
      "\u001B[31;1m(node:48618) [DEP0040] DeprecationWarning: The `punycode` module is deprecated. Please use a userland alternative instead.\u001B[0m\n",
      "\u001B[31;1m(Use `node --trace-deprecation ...` to show where the warning was created)\u001B[0m\n",
      "\u001B[31;1mrequest to https://fonts.gstatic.com/s/inter/v13/UcC73FwrK3iLTeHuS_fvQtMwCp50KnMa2pL7W0Q5n-wU.woff2 failed, reason: \u001B[0m\n",
      "\u001B[31;1m\u001B[0m\n",
      "\u001B[31;1mRetrying 1/3...\u001B[0m\n",
      " ✓ Compiled successfully\n",
      "   Linting and checking validity of types ...\n",
      "   Collecting page data ...\n",
      "   Generating static pages (0/8) ...\n",
      "\n",
      "   Generating static pages (2/8) \n",
      "\n",
      "   Generating static pages (4/8) \n",
      "\n",
      "   Generating static pages (6/8) \n",
      "\n",
      " ✓ Generating static pages (8/8) \n",
      "   Finalizing page optimization ...\n",
      "   Collecting build traces ...\n",
      "\n",
      "Route (app)                                Size     First Load JS\n",
      "┌ ○ /                                      180 B          91.3 kB\n",
      "├ ○ /_not-found                            0 B                0 B\n",
      "├ ● /[components]/[category]               180 B          91.3 kB\n",
      "├ ● /[components]/[category]/[collection]  3.79 kB         105 kB\n",
      "├ ● /about/[slug]                          2.63 kB          87 kB\n",
      "├ ○ /api/search                            0 B                0 B\n",
      "├ ○ /blog                                  180 B          91.3 kB\n",
      "├ ● /blog/[slug]                           3.04 kB        97.9 kB\n",
      "├ ○ /robots.txt                            0 B                0 B\n",
      "└ ○ /sitemap.xml                           0 B                0 B\n",
      "+ First Load JS shared by all              84.4 kB\n",
      "  ├ chunks/69-e2c27963538a19c9.js          29 kB\n",
      "  ├ chunks/fd9d1056-c6fa962edfe9fed9.js    53.4 kB\n",
      "  └ other shared chunks (total)            1.96 kB\n",
      "\n",
      "\n",
      "○  (Static)  prerendered as static content\n",
      "●  (SSG)     prerendered as static HTML (uses getStaticProps)\n",
      "\n",
      "$ npm run css\n",
      "\n",
      "> css\n",
      "> npm run css:components && npm run css:blogs\n",
      "\n",
      "\n",
      "> css:components\n",
      "> npx tailwindcss -i src/styles/components.css -o public/components.css -m\n",
      "\n",
      "\u001B[31;1m\u001B[0m\n",
      "\u001B[31;1mRebuilding...\u001B[0m\n",
      "\u001B[31;1m\u001B[0m\n",
      "\u001B[31;1mDone in 1125ms.\u001B[0m\n",
      "\n",
      "> css:blogs\n",
      "> npx tailwindcss -i src/styles/blogs.css -o public/blogs.css -m\n",
      "\n",
      "\u001B[31;1m\u001B[0m\n",
      "\u001B[31;1mRebuilding...\u001B[0m\n",
      "\u001B[31;1m\u001B[0m\n",
      "\u001B[31;1mDone in 357ms.\u001B[0m\n",
      "Done in 24.81s.\n"
     ]
    }
   ],
   "source": [
    "{ . \"$ScriptDir/dep_hyperui.ps1\" } | Invoke-Block"
   ]
  }
 ],
 "metadata": {},
 "nbformat": 4,
 "nbformat_minor": 5
}