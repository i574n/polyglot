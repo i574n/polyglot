{
 "cells": [
  {
   "cell_type": "code",
   "execution_count": null,
   "metadata": {
    "dotnet_interactive": {
     "language": "pwsh"
    },
    "polyglot_notebook": {
     "kernelName": "pwsh"
    }
   },
   "outputs": [],
   "source": [
    ". ./nbs_header.ps1\n",
    ". ./core.ps1"
   ]
  },
  {
   "cell_type": "code",
   "execution_count": null,
   "metadata": {
    "dotnet_interactive": {
     "language": "pwsh"
    },
    "polyglot_notebook": {
     "kernelName": "pwsh"
    }
   },
   "outputs": [],
   "source": [
    "# rustup +nightly component add clippy rust-src rustfmt"
   ]
  },
  {
   "cell_type": "code",
   "execution_count": null,
   "metadata": {
    "dotnet_interactive": {
     "language": "pwsh"
    },
    "polyglot_notebook": {
     "kernelName": "pwsh"
    }
   },
   "outputs": [],
   "source": [
    "# rustup +nightly target add wasm32-unknown-unknown"
   ]
  },
  {
   "cell_type": "code",
   "execution_count": null,
   "metadata": {
    "dotnet_interactive": {
     "language": "pwsh"
    },
    "polyglot_notebook": {
     "kernelName": "pwsh"
    }
   },
   "outputs": [
    {
     "name": "stdout",
     "output_type": "stream",
     "text": [
      "\u001B[31;1minfo: syncing channel updates for 'stable-x86_64-unknown-linux-gnu'\u001B[0m\n",
      "\u001B[31;1minfo: syncing channel updates for 'nightly-x86_64-unknown-linux-gnu'\u001B[0m\n",
      "\u001B[31;1minfo: checking for self-update\u001B[0m\n",
      "\u001B[31;1minfo: downloading self-update\u001B[0m\n",
      "\n",
      "   stable-x86_64-unknown-linux-gnu unchanged - rustc 1.75.0 (82e1608df 2023-12-21)\n",
      "  nightly-x86_64-unknown-linux-gnu unchanged - rustc 1.78.0-nightly (a165f1f65 2024-03-12)\n",
      "\n",
      "\u001B[31;1mwarning: tool `rust-analyzer` is already installed, remove it from `/home/runner/.cargo/bin`, then run `rustup update` to have rustup manage this tool.\u001B[0m\n",
      "\u001B[31;1mwarning: tool `rustfmt` is already installed, remove it from `/home/runner/.cargo/bin`, then run `rustup update` to have rustup manage this tool.\u001B[0m\n",
      "\u001B[31;1mwarning: tool `cargo-fmt` is already installed, remove it from `/home/runner/.cargo/bin`, then run `rustup update` to have rustup manage this tool.\u001B[0m\n",
      "\u001B[31;1minfo: cleaning up downloads & tmp directories\u001B[0m\n"
     ]
    }
   ],
   "source": [
    "rustup update"
   ]
  },
  {
   "cell_type": "code",
   "execution_count": null,
   "metadata": {
    "dotnet_interactive": {
     "language": "pwsh"
    },
    "polyglot_notebook": {
     "kernelName": "pwsh"
    }
   },
   "outputs": [
    {
     "name": "stdout",
     "output_type": "stream",
     "text": [
      "\u001B[31;1m    Updating crates.io index\u001B[0m\n",
      "\u001B[31;1m     Ignored package `cargo-outdated v0.15.0` is already installed, use --force to override\u001B[0m\n"
     ]
    }
   ],
   "source": [
    "{ cargo +nightly install cargo-outdated } | Invoke-Block -OnError Continue"
   ]
  },
  {
   "cell_type": "code",
   "execution_count": null,
   "metadata": {
    "dotnet_interactive": {
     "language": "pwsh"
    },
    "polyglot_notebook": {
     "kernelName": "pwsh"
    }
   },
   "outputs": [
    {
     "name": "stdout",
     "output_type": "stream",
     "text": [
      "\u001B[31;1m    Updating crates.io index\u001B[0m\n",
      "\u001B[31;1merror: binary `wasm-pack` already exists in destination\u001B[0m\n",
      "\u001B[31;1mAdd --force to overwrite\u001B[0m\n",
      "\n",
      "# Invoke-Block / $Retry: 1 / $OnError: Continue / $exitcode: 101 / $EnvVars: null / $Error: '' / $ScriptBlock:\n",
      "'cargo +nightly install wasm-pack --locked'\n",
      "\n"
     ]
    }
   ],
   "source": [
    "{ cargo +nightly install wasm-pack --locked } | Invoke-Block -OnError Continue"
   ]
  },
  {
   "cell_type": "code",
   "execution_count": null,
   "metadata": {
    "dotnet_interactive": {
     "language": "pwsh"
    },
    "polyglot_notebook": {
     "kernelName": "pwsh"
    }
   },
   "outputs": [
    {
     "name": "stdout",
     "output_type": "stream",
     "text": [
      "\u001B[31;1m    Updating crates.io index\u001B[0m\n",
      "\u001B[31;1m Downloading crates ...\u001B[0m\n",
      "\u001B[31;1m  Downloaded trunk v0.19.0\u001B[0m\n",
      "\u001B[31;1merror: binary `trunk` already exists in destination\u001B[0m\n",
      "\u001B[31;1mAdd --force to overwrite\u001B[0m\n",
      "\n",
      "# Invoke-Block / $Retry: 1 / $OnError: Continue / $exitcode: 101 / $EnvVars: null / $Error: '' / $ScriptBlock:\n",
      "'cargo +nightly install trunk --version 0.19.0'\n",
      "\n"
     ]
    }
   ],
   "source": [
    "{ cargo +nightly install trunk --version 0.19.0 } | Invoke-Block -OnError Continue"
   ]
  },
  {
   "cell_type": "code",
   "execution_count": null,
   "metadata": {
    "dotnet_interactive": {
     "language": "pwsh"
    },
    "polyglot_notebook": {
     "kernelName": "pwsh"
    }
   },
   "outputs": [
    {
     "name": "stdout",
     "output_type": "stream",
     "text": [
      "\u001B[31;1m    Updating git repository `https://github.com/bram209/leptosfmt.git`\u001B[0m\n",
      "\u001B[31;1merror: binary `leptosfmt` already exists in destination\u001B[0m\n",
      "\u001B[31;1mAdd --force to overwrite\u001B[0m\n",
      "\n",
      "# Invoke-Block / $Retry: 1 / $OnError: Continue / $exitcode: 101 / $EnvVars: null / $Error: '' / $ScriptBlock:\n",
      "'cargo +nightly install --git https://github.com/bram209/leptosfmt.git --locked'\n",
      "\n"
     ]
    }
   ],
   "source": [
    "{ cargo +nightly install --git https://github.com/bram209/leptosfmt.git --locked } | Invoke-Block -OnError Continue"
   ]
  },
  {
   "cell_type": "code",
   "execution_count": null,
   "metadata": {
    "dotnet_interactive": {
     "language": "pwsh"
    },
    "polyglot_notebook": {
     "kernelName": "pwsh"
    }
   },
   "outputs": [
    {
     "name": "stdout",
     "output_type": "stream",
     "text": [
      "\n",
      "added 1 package in 814ms\n",
      "\n",
      "1 package is looking for funding\n",
      "  run `npm fund` for details\n"
     ]
    }
   ],
   "source": [
    "npm install -g pnpm"
   ]
  },
  {
   "cell_type": "code",
   "execution_count": null,
   "metadata": {
    "dotnet_interactive": {
     "language": "pwsh"
    },
    "polyglot_notebook": {
     "kernelName": "pwsh"
    }
   },
   "outputs": [
    {
     "name": "stdout",
     "output_type": "stream",
     "text": [
      "\n",
      "added 2 packages in 1s\n"
     ]
    }
   ],
   "source": [
    "npm install -g esbuild"
   ]
  },
  {
   "cell_type": "code",
   "execution_count": null,
   "metadata": {
    "dotnet_interactive": {
     "language": "pwsh"
    },
    "polyglot_notebook": {
     "kernelName": "pwsh"
    }
   },
   "outputs": [
    {
     "name": "stdout",
     "output_type": "stream",
     "text": [
      "\n",
      "added 21 packages in 5s\n"
     ]
    }
   ],
   "source": [
    "npm install -g @chialab/rna"
   ]
  },
  {
   "cell_type": "code",
   "execution_count": null,
   "metadata": {
    "dotnet_interactive": {
     "language": "pwsh"
    },
    "polyglot_notebook": {
     "kernelName": "pwsh"
    }
   },
   "outputs": [
    {
     "name": "stdout",
     "output_type": "stream",
     "text": [
      "\n",
      "added 20 packages in 645ms\n"
     ]
    }
   ],
   "source": [
    "npm install -g @chialab/rna-bundler"
   ]
  },
  {
   "cell_type": "code",
   "execution_count": null,
   "metadata": {
    "dotnet_interactive": {
     "language": "pwsh"
    },
    "polyglot_notebook": {
     "kernelName": "pwsh"
    }
   },
   "outputs": [
    {
     "name": "stdout",
     "output_type": "stream",
     "text": [
      "\n",
      "added 3 packages in 2s\n"
     ]
    }
   ],
   "source": [
    "npm install -g @playwright/test@1.41.2"
   ]
  },
  {
   "cell_type": "code",
   "execution_count": null,
   "metadata": {
    "dotnet_interactive": {
     "language": "pwsh"
    },
    "polyglot_notebook": {
     "kernelName": "pwsh"
    }
   },
   "outputs": [
    {
     "name": "stdout",
     "output_type": "stream",
     "text": [
      "Downloading Chromium 121.0.6167.57 (playwright build v1097) from https://playwright.azureedge.net/builds/chromium/1097/chromium-linux.zip\n",
      "|                                                                                |   0% of 152.8 MiB\n",
      "|■■■■■■■■                                                                        |  10% of 152.8 MiB\n",
      "|■■■■■■■■■■■■■■■■                                                                |  20% of 152.8 MiB\n",
      "|■■■■■■■■■■■■■■■■■■■■■■■■                                                        |  30% of 152.8 MiB\n",
      "|■■■■■■■■■■■■■■■■■■■■■■■■■■■■■■■■                                                |  40% of 152.8 MiB\n",
      "|■■■■■■■■■■■■■■■■■■■■■■■■■■■■■■■■■■■■■■■■                                        |  50% of 152.8 MiB\n",
      "|■■■■■■■■■■■■■■■■■■■■■■■■■■■■■■■■■■■■■■■■■■■■■■■■                                |  60% of 152.8 MiB\n",
      "|■■■■■■■■■■■■■■■■■■■■■■■■■■■■■■■■■■■■■■■■■■■■■■■■■■■■■■■■                        |  70% of 152.8 MiB\n",
      "|■■■■■■■■■■■■■■■■■■■■■■■■■■■■■■■■■■■■■■■■■■■■■■■■■■■■■■■■■■■■■■■■                |  80% of 152.8 MiB\n",
      "|■■■■■■■■■■■■■■■■■■■■■■■■■■■■■■■■■■■■■■■■■■■■■■■■■■■■■■■■■■■■■■■■■■■■■■■■        |  90% of 152.8 MiB\n",
      "|■■■■■■■■■■■■■■■■■■■■■■■■■■■■■■■■■■■■■■■■■■■■■■■■■■■■■■■■■■■■■■■■■■■■■■■■■■■■■■■■| 100% of 152.8 MiB\n",
      "Chromium 121.0.6167.57 (playwright build v1097) downloaded to /home/runner/.cache/ms-playwright/chromium-1097\n",
      "Downloading FFMPEG playwright build v1009 from https://playwright.azureedge.net/builds/ffmpeg/1009/ffmpeg-linux.zip\n",
      "|                                                                                |   0% of 2.6 MiB\n",
      "|■■■■■■■■                                                                        |  10% of 2.6 MiB\n",
      "|■■■■■■■■■■■■■■■■                                                                |  20% of 2.6 MiB\n",
      "|■■■■■■■■■■■■■■■■■■■■■■■■                                                        |  30% of 2.6 MiB\n",
      "|■■■■■■■■■■■■■■■■■■■■■■■■■■■■■■■■                                                |  40% of 2.6 MiB\n",
      "|■■■■■■■■■■■■■■■■■■■■■■■■■■■■■■■■■■■■■■■■                                        |  50% of 2.6 MiB\n",
      "|■■■■■■■■■■■■■■■■■■■■■■■■■■■■■■■■■■■■■■■■■■■■■■■■                                |  60% of 2.6 MiB\n",
      "|■■■■■■■■■■■■■■■■■■■■■■■■■■■■■■■■■■■■■■■■■■■■■■■■■■■■■■■■                        |  70% of 2.6 MiB\n",
      "|■■■■■■■■■■■■■■■■■■■■■■■■■■■■■■■■■■■■■■■■■■■■■■■■■■■■■■■■■■■■■■■■                |  80% of 2.6 MiB\n",
      "|■■■■■■■■■■■■■■■■■■■■■■■■■■■■■■■■■■■■■■■■■■■■■■■■■■■■■■■■■■■■■■■■■■■■■■■■        |  90% of 2.6 MiB\n",
      "|■■■■■■■■■■■■■■■■■■■■■■■■■■■■■■■■■■■■■■■■■■■■■■■■■■■■■■■■■■■■■■■■■■■■■■■■■■■■■■■■| 100% of 2.6 MiB\n",
      "FFMPEG playwright build v1009 downloaded to /home/runner/.cache/ms-playwright/ffmpeg-1009\n",
      "Downloading Firefox 121.0 (playwright build v1438) from https://playwright.azureedge.net/builds/firefox/1438/firefox-ubuntu-22.04.zip\n",
      "|                                                                                |   0% of 82.2 MiB\n",
      "|■■■■■■■■                                                                        |  10% of 82.2 MiB\n",
      "|■■■■■■■■■■■■■■■■                                                                |  20% of 82.2 MiB\n",
      "|■■■■■■■■■■■■■■■■■■■■■■■■                                                        |  30% of 82.2 MiB\n",
      "|■■■■■■■■■■■■■■■■■■■■■■■■■■■■■■■■                                                |  40% of 82.2 MiB\n",
      "|■■■■■■■■■■■■■■■■■■■■■■■■■■■■■■■■■■■■■■■■                                        |  50% of 82.2 MiB\n",
      "|■■■■■■■■■■■■■■■■■■■■■■■■■■■■■■■■■■■■■■■■■■■■■■■■                                |  60% of 82.2 MiB\n",
      "|■■■■■■■■■■■■■■■■■■■■■■■■■■■■■■■■■■■■■■■■■■■■■■■■■■■■■■■■                        |  70% of 82.2 MiB\n",
      "|■■■■■■■■■■■■■■■■■■■■■■■■■■■■■■■■■■■■■■■■■■■■■■■■■■■■■■■■■■■■■■■■                |  80% of 82.2 MiB\n",
      "|■■■■■■■■■■■■■■■■■■■■■■■■■■■■■■■■■■■■■■■■■■■■■■■■■■■■■■■■■■■■■■■■■■■■■■■■        |  90% of 82.2 MiB\n",
      "|■■■■■■■■■■■■■■■■■■■■■■■■■■■■■■■■■■■■■■■■■■■■■■■■■■■■■■■■■■■■■■■■■■■■■■■■■■■■■■■■| 100% of 82.2 MiB\n",
      "Firefox 121.0 (playwright build v1438) downloaded to /home/runner/.cache/ms-playwright/firefox-1438\n",
      "Downloading Webkit 17.4 (playwright build v1967) from https://playwright.azureedge.net/builds/webkit/1967/webkit-ubuntu-22.04.zip\n",
      "|                                                                                |   0% of 84.8 MiB\n",
      "|■■■■■■■■                                                                        |  10% of 84.8 MiB\n",
      "|■■■■■■■■■■■■■■■■                                                                |  20% of 84.8 MiB\n",
      "|■■■■■■■■■■■■■■■■■■■■■■■■                                                        |  30% of 84.8 MiB\n",
      "|■■■■■■■■■■■■■■■■■■■■■■■■■■■■■■■■                                                |  40% of 84.8 MiB\n",
      "|■■■■■■■■■■■■■■■■■■■■■■■■■■■■■■■■■■■■■■■■                                        |  50% of 84.8 MiB\n",
      "|■■■■■■■■■■■■■■■■■■■■■■■■■■■■■■■■■■■■■■■■■■■■■■■■                                |  60% of 84.8 MiB\n",
      "|■■■■■■■■■■■■■■■■■■■■■■■■■■■■■■■■■■■■■■■■■■■■■■■■■■■■■■■■                        |  70% of 84.8 MiB\n",
      "|■■■■■■■■■■■■■■■■■■■■■■■■■■■■■■■■■■■■■■■■■■■■■■■■■■■■■■■■■■■■■■■■                |  80% of 84.8 MiB\n",
      "|■■■■■■■■■■■■■■■■■■■■■■■■■■■■■■■■■■■■■■■■■■■■■■■■■■■■■■■■■■■■■■■■■■■■■■■■        |  90% of 84.8 MiB\n",
      "|■■■■■■■■■■■■■■■■■■■■■■■■■■■■■■■■■■■■■■■■■■■■■■■■■■■■■■■■■■■■■■■■■■■■■■■■■■■■■■■■| 100% of 84.8 MiB\n",
      "Webkit 17.4 (playwright build v1967) downloaded to /home/runner/.cache/ms-playwright/webkit-1967\n"
     ]
    }
   ],
   "source": [
    "npx -y playwright@1.41.2 install"
   ]
  },
  {
   "cell_type": "code",
   "execution_count": null,
   "metadata": {
    "dotnet_interactive": {
     "language": "pwsh"
    },
    "polyglot_notebook": {
     "kernelName": "pwsh"
    }
   },
   "outputs": [],
   "source": [
    "[Net.ServicePointManager]::SecurityProtocol = [Net.SecurityProtocolType]::Tls12"
   ]
  },
  {
   "cell_type": "code",
   "execution_count": null,
   "metadata": {
    "dotnet_interactive": {
     "language": "pwsh"
    },
    "polyglot_notebook": {
     "kernelName": "pwsh"
    }
   },
   "outputs": [],
   "source": [
    "{ Install-Module -Name PowerShellGet -Force -AllowClobber -Scope CurrentUser } | Invoke-Block -OnError Continue"
   ]
  },
  {
   "cell_type": "code",
   "execution_count": null,
   "metadata": {
    "dotnet_interactive": {
     "language": "pwsh"
    },
    "polyglot_notebook": {
     "kernelName": "pwsh"
    }
   },
   "outputs": [
    {
     "name": "stdout",
     "output_type": "stream",
     "text": [
      "\n",
      "# Invoke-Block / $Retry: 1 / $OnError: Continue / $exitcode: 0 / $EnvVars: null / $Error: 'Cannot find a variable with the name 'PackageManagementProvider'. Cannot find a variable with the name 'SourceLocation'.' / $ScriptBlock:\n",
      "'Set-PSRepository -Name PSGallery -InstallationPolicy Trusted'\n",
      "\n"
     ]
    }
   ],
   "source": [
    "{ Set-PSRepository -Name PSGallery -InstallationPolicy Trusted } | Invoke-Block -OnError Continue"
   ]
  },
  {
   "cell_type": "code",
   "execution_count": null,
   "metadata": {
    "dotnet_interactive": {
     "language": "pwsh"
    },
    "polyglot_notebook": {
     "kernelName": "pwsh"
    }
   },
   "outputs": [
    {
     "name": "stdout",
     "output_type": "stream",
     "text": [
      "What if: Performing the operation \"Install-Module\" on target \"Version '0.3.1' of module 'PSToml'\".\n"
     ]
    }
   ],
   "source": [
    "{ Install-Module -Name PSToml -Scope CurrentUser -WhatIf } | Invoke-Block -OnError Continue"
   ]
  },
  {
   "cell_type": "code",
   "execution_count": null,
   "metadata": {
    "dotnet_interactive": {
     "language": "pwsh"
    },
    "polyglot_notebook": {
     "kernelName": "pwsh"
    }
   },
   "outputs": [
    {
     "name": "stdout",
     "output_type": "stream",
     "text": [
      "Lockfile is up to date, resolution step is skipped\n",
      "Progress: resolved 1, reused 0, downloaded 0, added 0\n",
      "Packages: +302\n",
      "++++++++++++++++++++++++++++++++++++++++++++++++++++++++++++++++++++++++++++++++\n",
      "Progress: resolved 302, reused 0, downloaded 206, added 202\n",
      "Progress: resolved 302, reused 0, downloaded 302, added 302, done\n",
      "\n",
      "devDependencies:\n",
      "+ @types/node 20.11.20\n",
      "+ npm-check-updates 16.14.11\n",
      "+ typescript 5.4.0-dev.20231129\n",
      "\n",
      "Done in 2s\n"
     ]
    }
   ],
   "source": [
    "{ pnpm -C .. install --frozen-lockfile } | Invoke-Block"
   ]
  },
  {
   "cell_type": "code",
   "execution_count": null,
   "metadata": {
    "dotnet_interactive": {
     "language": "pwsh"
    },
    "polyglot_notebook": {
     "kernelName": "pwsh"
    }
   },
   "outputs": [
    {
     "name": "stdout",
     "output_type": "stream",
     "text": [
      "\u001B[31;1mCloning into 'The-Spiral-Language'...\u001B[0m\n",
      "Already up to date.\n",
      "MSBuild version 17.10.0-preview-24101-01+07fd5d51f for .NET\n",
      "  Determining projects to restore...\n",
      "  Restored /home/runner/work/polyglot/polyglot/deps/The-Spiral-Language/The Spiral Language 2/The Spiral Language 2.fsproj (in 302 ms).\n",
      "/usr/share/dotnet/sdk/9.0.100-preview.1.24101.2/Sdks/Microsoft.NET.Sdk/targets/Microsoft.NET.RuntimeIdentifierInference.targets(313,5): message NETSDK1057: You are using a preview version of .NET. See: https://aka.ms/dotnet-support-policy [/home/runner/work/polyglot/polyglot/deps/The-Spiral-Language/The Spiral Language 2/The Spiral Language 2.fsproj]\n",
      "  The Spiral Language 2 -> /home/runner/work/polyglot/polyglot/deps/The-Spiral-Language/The Spiral Language 2/artifacts/bin/The Spiral Language 2/release/Spiral.dll\n",
      "\n",
      "Build succeeded.\n",
      "    0 Warning(s)\n",
      "    0 Error(s)\n",
      "\n",
      "Time Elapsed 00:00:23.01\n"
     ]
    }
   ],
   "source": [
    "{ . \"$ScriptDir/dep_spiral.ps1\" } | Invoke-Block"
   ]
  },
  {
   "cell_type": "code",
   "execution_count": null,
   "metadata": {
    "dotnet_interactive": {
     "language": "pwsh"
    },
    "polyglot_notebook": {
     "kernelName": "pwsh"
    }
   },
   "outputs": [],
   "source": [
    "{ . \"$ScriptDir/dep_spiral_extension.ps1\" } | Invoke-Block"
   ]
  },
  {
   "cell_type": "code",
   "execution_count": null,
   "metadata": {
    "dotnet_interactive": {
     "language": "pwsh"
    },
    "polyglot_notebook": {
     "kernelName": "pwsh"
    }
   },
   "outputs": [
    {
     "name": "stdout",
     "output_type": "stream",
     "text": [
      "\u001B[31;1mCloning into 'Fable'...\u001B[0m\n",
      "Already up to date.\n",
      "Tool path: /home/runner/.nuget/packages/fable/4.13.0/tools/net6.0/any\n",
      "MSBuild version 17.10.0-preview-24101-01+07fd5d51f for .NET\n",
      "  Determining projects to restore...\n",
      "  Restored /home/runner/work/polyglot/polyglot/deps/Fable/src/Fable.Transforms/Fable.Transforms.fsproj (in 355 ms).\n",
      "  Restored /home/runner/work/polyglot/polyglot/deps/Fable/src/Fable.Transforms/Rust/AST/Rust.AST.fsproj (in 356 ms).\n",
      "  Restored /home/runner/work/polyglot/polyglot/deps/Fable/src/Fable.AST/Fable.AST.fsproj (in 355 ms).\n",
      "  Restored /home/runner/work/polyglot/polyglot/deps/Fable/src/Fable.Compiler/Fable.Compiler.fsproj (in 9 ms).\n",
      "  Restored /home/runner/work/polyglot/polyglot/deps/Fable/src/Fable.Cli/Fable.Cli.fsproj (in 679 ms).\n",
      "/usr/share/dotnet/sdk/9.0.100-preview.1.24101.2/Sdks/Microsoft.NET.Sdk/targets/Microsoft.NET.RuntimeIdentifierInference.targets(313,5): message NETSDK1057: You are using a preview version of .NET. See: https://aka.ms/dotnet-support-policy [/home/runner/work/polyglot/polyglot/deps/Fable/src/Fable.Cli/Fable.Cli.fsproj]\n",
      "/usr/share/dotnet/sdk/9.0.100-preview.1.24101.2/Sdks/Microsoft.NET.Sdk/targets/Microsoft.NET.RuntimeIdentifierInference.targets(313,5): message NETSDK1057: You are using a preview version of .NET. See: https://aka.ms/dotnet-support-policy [/home/runner/work/polyglot/polyglot/deps/Fable/src/Fable.Transforms/Rust/AST/Rust.AST.fsproj]\n",
      "/usr/share/dotnet/sdk/9.0.100-preview.1.24101.2/Sdks/Microsoft.NET.Sdk/targets/Microsoft.NET.RuntimeIdentifierInference.targets(313,5): message NETSDK1057: You are using a preview version of .NET. See: https://aka.ms/dotnet-support-policy [/home/runner/work/polyglot/polyglot/deps/Fable/src/Fable.Transforms/Fable.Transforms.fsproj]\n",
      "/usr/share/dotnet/sdk/9.0.100-preview.1.24101.2/Sdks/Microsoft.NET.Sdk/targets/Microsoft.NET.RuntimeIdentifierInference.targets(313,5): message NETSDK1057: You are using a preview version of .NET. See: https://aka.ms/dotnet-support-policy [/home/runner/work/polyglot/polyglot/deps/Fable/src/Fable.AST/Fable.AST.fsproj]\n",
      "  Fable.AST -> /home/runner/work/polyglot/polyglot/deps/Fable/src/Fable.AST/bin/Release/netstandard2.0/Fable.AST.dll\n",
      "  Rust.AST -> /home/runner/work/polyglot/polyglot/deps/Fable/src/Fable.Transforms/Rust/AST/bin/Release/netstandard2.0/Rust.AST.dll\n",
      "/usr/share/dotnet/sdk/9.0.100-preview.1.24101.2/Microsoft.Common.CurrentVersion.targets(2401,5): warning MSB3277: Found conflicts between different versions of \"System.Memory\" that could not be resolved. [/home/runner/work/polyglot/polyglot/deps/Fable/src/Fable.Transforms/Fable.Transforms.fsproj]\n",
      "/usr/share/dotnet/sdk/9.0.100-preview.1.24101.2/Microsoft.Common.CurrentVersion.targets(2401,5): warning MSB3277: There was a conflict between \"System.Memory, Version=4.0.1.1, Culture=neutral, PublicKeyToken=cc7b13ffcd2ddd51\" and \"System.Memory, Version=4.0.1.2, Culture=neutral, PublicKeyToken=cc7b13ffcd2ddd51\". [/home/runner/work/polyglot/polyglot/deps/Fable/src/Fable.Transforms/Fable.Transforms.fsproj]\n",
      "/usr/share/dotnet/sdk/9.0.100-preview.1.24101.2/Microsoft.Common.CurrentVersion.targets(2401,5): warning MSB3277:     \"System.Memory, Version=4.0.1.1, Culture=neutral, PublicKeyToken=cc7b13ffcd2ddd51\" was chosen because it was primary and \"System.Memory, Version=4.0.1.2, Culture=neutral, PublicKeyToken=cc7b13ffcd2ddd51\" was not. [/home/runner/work/polyglot/polyglot/deps/Fable/src/Fable.Transforms/Fable.Transforms.fsproj]\n",
      "/usr/share/dotnet/sdk/9.0.100-preview.1.24101.2/Microsoft.Common.CurrentVersion.targets(2401,5): warning MSB3277:     References which depend on \"System.Memory, Version=4.0.1.1, Culture=neutral, PublicKeyToken=cc7b13ffcd2ddd51\" [/home/runner/.nuget/packages/system.memory/4.5.4/lib/netstandard2.0/System.Memory.dll]. [/home/runner/work/polyglot/polyglot/deps/Fable/src/Fable.Transforms/Fable.Transforms.fsproj]\n",
      "/usr/share/dotnet/sdk/9.0.100-preview.1.24101.2/Microsoft.Common.CurrentVersion.targets(2401,5): warning MSB3277:         /home/runner/.nuget/packages/system.memory/4.5.4/lib/netstandard2.0/System.Memory.dll [/home/runner/work/polyglot/polyglot/deps/Fable/src/Fable.Transforms/Fable.Transforms.fsproj]\n",
      "/usr/share/dotnet/sdk/9.0.100-preview.1.24101.2/Microsoft.Common.CurrentVersion.targets(2401,5): warning MSB3277:           Project file item includes which caused reference \"/home/runner/.nuget/packages/system.memory/4.5.4/lib/netstandard2.0/System.Memory.dll\". [/home/runner/work/polyglot/polyglot/deps/Fable/src/Fable.Transforms/Fable.Transforms.fsproj]\n",
      "/usr/share/dotnet/sdk/9.0.100-preview.1.24101.2/Microsoft.Common.CurrentVersion.targets(2401,5): warning MSB3277:             /home/runner/.nuget/packages/system.memory/4.5.4/lib/netstandard2.0/System.Memory.dll [/home/runner/work/polyglot/polyglot/deps/Fable/src/Fable.Transforms/Fable.Transforms.fsproj]\n",
      "/usr/share/dotnet/sdk/9.0.100-preview.1.24101.2/Microsoft.Common.CurrentVersion.targets(2401,5): warning MSB3277:     References which depend on or have been unified to \"System.Memory, Version=4.0.1.2, Culture=neutral, PublicKeyToken=cc7b13ffcd2ddd51\" []. [/home/runner/work/polyglot/polyglot/deps/Fable/src/Fable.Transforms/Fable.Transforms.fsproj]\n",
      "/usr/share/dotnet/sdk/9.0.100-preview.1.24101.2/Microsoft.Common.CurrentVersion.targets(2401,5): warning MSB3277:         /home/runner/work/polyglot/polyglot/deps/Fable/lib/fcs/FSharp.Compiler.Service.dll [/home/runner/work/polyglot/polyglot/deps/Fable/src/Fable.Transforms/Fable.Transforms.fsproj]\n",
      "/usr/share/dotnet/sdk/9.0.100-preview.1.24101.2/Microsoft.Common.CurrentVersion.targets(2401,5): warning MSB3277:           Project file item includes which caused reference \"/home/runner/work/polyglot/polyglot/deps/Fable/lib/fcs/FSharp.Compiler.Service.dll\". [/home/runner/work/polyglot/polyglot/deps/Fable/src/Fable.Transforms/Fable.Transforms.fsproj]\n",
      "/usr/share/dotnet/sdk/9.0.100-preview.1.24101.2/Microsoft.Common.CurrentVersion.targets(2401,5): warning MSB3277:             ../../lib/fcs/FSharp.Compiler.Service.dll [/home/runner/work/polyglot/polyglot/deps/Fable/src/Fable.Transforms/Fable.Transforms.fsproj]\n",
      "  Fable.Transforms -> /home/runner/work/polyglot/polyglot/deps/Fable/src/Fable.Transforms/bin/Release/netstandard2.0/Fable.Transforms.dll\n",
      "  Fable.Compiler -> /home/runner/work/polyglot/polyglot/deps/Fable/src/Fable.Compiler/bin/Release/net9.0/Fable.Compiler.dll\n",
      "  Fable.Cli -> /home/runner/work/polyglot/polyglot/deps/Fable/src/Fable.Cli/bin/Release/net9.0/fable.dll\n",
      "\n",
      "Build succeeded.\n",
      "\n",
      "/usr/share/dotnet/sdk/9.0.100-preview.1.24101.2/Microsoft.Common.CurrentVersion.targets(2401,5): warning MSB3277: Found conflicts between different versions of \"System.Memory\" that could not be resolved. [/home/runner/work/polyglot/polyglot/deps/Fable/src/Fable.Transforms/Fable.Transforms.fsproj]\n",
      "/usr/share/dotnet/sdk/9.0.100-preview.1.24101.2/Microsoft.Common.CurrentVersion.targets(2401,5): warning MSB3277: There was a conflict between \"System.Memory, Version=4.0.1.1, Culture=neutral, PublicKeyToken=cc7b13ffcd2ddd51\" and \"System.Memory, Version=4.0.1.2, Culture=neutral, PublicKeyToken=cc7b13ffcd2ddd51\". [/home/runner/work/polyglot/polyglot/deps/Fable/src/Fable.Transforms/Fable.Transforms.fsproj]\n",
      "/usr/share/dotnet/sdk/9.0.100-preview.1.24101.2/Microsoft.Common.CurrentVersion.targets(2401,5): warning MSB3277:     \"System.Memory, Version=4.0.1.1, Culture=neutral, PublicKeyToken=cc7b13ffcd2ddd51\" was chosen because it was primary and \"System.Memory, Version=4.0.1.2, Culture=neutral, PublicKeyToken=cc7b13ffcd2ddd51\" was not. [/home/runner/work/polyglot/polyglot/deps/Fable/src/Fable.Transforms/Fable.Transforms.fsproj]\n",
      "/usr/share/dotnet/sdk/9.0.100-preview.1.24101.2/Microsoft.Common.CurrentVersion.targets(2401,5): warning MSB3277:     References which depend on \"System.Memory, Version=4.0.1.1, Culture=neutral, PublicKeyToken=cc7b13ffcd2ddd51\" [/home/runner/.nuget/packages/system.memory/4.5.4/lib/netstandard2.0/System.Memory.dll]. [/home/runner/work/polyglot/polyglot/deps/Fable/src/Fable.Transforms/Fable.Transforms.fsproj]\n",
      "/usr/share/dotnet/sdk/9.0.100-preview.1.24101.2/Microsoft.Common.CurrentVersion.targets(2401,5): warning MSB3277:         /home/runner/.nuget/packages/system.memory/4.5.4/lib/netstandard2.0/System.Memory.dll [/home/runner/work/polyglot/polyglot/deps/Fable/src/Fable.Transforms/Fable.Transforms.fsproj]\n",
      "/usr/share/dotnet/sdk/9.0.100-preview.1.24101.2/Microsoft.Common.CurrentVersion.targets(2401,5): warning MSB3277:           Project file item includes which caused reference \"/home/runner/.nuget/packages/system.memory/4.5.4/lib/netstandard2.0/System.Memory.dll\". [/home/runner/work/polyglot/polyglot/deps/Fable/src/Fable.Transforms/Fable.Transforms.fsproj]\n",
      "/usr/share/dotnet/sdk/9.0.100-preview.1.24101.2/Microsoft.Common.CurrentVersion.targets(2401,5): warning MSB3277:             /home/runner/.nuget/packages/system.memory/4.5.4/lib/netstandard2.0/System.Memory.dll [/home/runner/work/polyglot/polyglot/deps/Fable/src/Fable.Transforms/Fable.Transforms.fsproj]\n",
      "/usr/share/dotnet/sdk/9.0.100-preview.1.24101.2/Microsoft.Common.CurrentVersion.targets(2401,5): warning MSB3277:     References which depend on or have been unified to \"System.Memory, Version=4.0.1.2, Culture=neutral, PublicKeyToken=cc7b13ffcd2ddd51\" []. [/home/runner/work/polyglot/polyglot/deps/Fable/src/Fable.Transforms/Fable.Transforms.fsproj]\n",
      "/usr/share/dotnet/sdk/9.0.100-preview.1.24101.2/Microsoft.Common.CurrentVersion.targets(2401,5): warning MSB3277:         /home/runner/work/polyglot/polyglot/deps/Fable/lib/fcs/FSharp.Compiler.Service.dll [/home/runner/work/polyglot/polyglot/deps/Fable/src/Fable.Transforms/Fable.Transforms.fsproj]\n",
      "/usr/share/dotnet/sdk/9.0.100-preview.1.24101.2/Microsoft.Common.CurrentVersion.targets(2401,5): warning MSB3277:           Project file item includes which caused reference \"/home/runner/work/polyglot/polyglot/deps/Fable/lib/fcs/FSharp.Compiler.Service.dll\". [/home/runner/work/polyglot/polyglot/deps/Fable/src/Fable.Transforms/Fable.Transforms.fsproj]\n",
      "/usr/share/dotnet/sdk/9.0.100-preview.1.24101.2/Microsoft.Common.CurrentVersion.targets(2401,5): warning MSB3277:             ../../lib/fcs/FSharp.Compiler.Service.dll [/home/runner/work/polyglot/polyglot/deps/Fable/src/Fable.Transforms/Fable.Transforms.fsproj]\n",
      "    1 Warning(s)\n",
      "    0 Error(s)\n",
      "\n",
      "Time Elapsed 00:00:34.20\n",
      "fable.dll path: /home/runner/work/polyglot/polyglot/deps/Fable/src/Fable.Cli/bin/Release/net9.0/fable.dll\n",
      "Lib path: /home/runner/.nuget/packages/fable.core/4.3.0/lib/netstandard2.0\n",
      "MSBuild version 17.10.0-preview-24101-01+07fd5d51f for .NET\n",
      "  Determining projects to restore...\n",
      "  Restored /home/runner/work/polyglot/polyglot/deps/Fable/src/Fable.Core/Fable.Core.fsproj (in 206 ms).\n",
      "/usr/share/dotnet/sdk/9.0.100-preview.1.24101.2/Sdks/Microsoft.NET.Sdk/targets/Microsoft.NET.RuntimeIdentifierInference.targets(313,5): message NETSDK1057: You are using a preview version of .NET. See: https://aka.ms/dotnet-support-policy [/home/runner/work/polyglot/polyglot/deps/Fable/src/Fable.Core/Fable.Core.fsproj]\n",
      "  Fable.Core -> /home/runner/work/polyglot/polyglot/deps/Fable/src/Fable.Core/bin/Release/netstandard2.0/Fable.Core.dll\n",
      "\n",
      "Build succeeded.\n",
      "    0 Warning(s)\n",
      "    0 Error(s)\n",
      "\n",
      "Time Elapsed 00:00:03.51\n"
     ]
    }
   ],
   "source": [
    "{ . \"$ScriptDir/dep_fable.ps1\" } | Invoke-Block"
   ]
  },
  {
   "cell_type": "code",
   "execution_count": null,
   "metadata": {
    "dotnet_interactive": {
     "language": "pwsh"
    },
    "polyglot_notebook": {
     "kernelName": "pwsh"
    }
   },
   "outputs": [
    {
     "name": "stdout",
     "output_type": "stream",
     "text": [
      "\u001B[31;1mCloning into 'hyperui'...\u001B[0m\n",
      "Already up to date.\n",
      "yarn install v1.22.21\n",
      "[1/4] Resolving packages...\n",
      "[2/4] Fetching packages...\n",
      "\u001B[31;1m(node:62515) [DEP0040] DeprecationWarning: The `punycode` module is deprecated. Please use a userland alternative instead.\u001B[0m\n",
      "\u001B[31;1m(Use `node --trace-deprecation ...` to show where the warning was created)\u001B[0m\n",
      "[3/4] Linking dependencies...\n",
      "\u001B[31;1mwarning \"eslint-config-next > @typescript-eslint/parser > @typescript-eslint/typescript-estree > ts-api-utils@1.0.2\" has unmet peer dependency \"typescript@>=4.2.0\".\u001B[0m\n",
      "[4/4] Building fresh packages...\n",
      "Done in 18.64s.\n",
      "yarn run v1.22.21\n",
      "$ next build\n",
      "- warn No build cache found. Please configure build caching for faster rebuilds. Read more: https://nextjs.org/docs/messages/no-cache\n",
      "Attention: Next.js now collects completely anonymous telemetry regarding usage.\n",
      "This information is used to shape Next.js' roadmap and prioritize features.\n",
      "You can learn more, including how to opt-out if you'd not like to participate in this anonymous program, by visiting the following URL:\n",
      "https://nextjs.org/telemetry\n",
      "\n",
      "- info Creating an optimized production build...\n",
      "\u001B[31;1m(node:62554) [DEP0040] DeprecationWarning: The `punycode` module is deprecated. Please use a userland alternative instead.\u001B[0m\n",
      "\u001B[31;1m(Use `node --trace-deprecation ...` to show where the warning was created)\u001B[0m\n",
      "\u001B[31;1mBrowserslist: caniuse-lite is outdated. Please run:\u001B[0m\n",
      "\u001B[31;1m  npx update-browserslist-db@latest\u001B[0m\n",
      "\u001B[31;1m  Why you should do it regularly: https://github.com/browserslist/update-db#readme\u001B[0m\n",
      "\u001B[31;1mBrowserslist: caniuse-lite is outdated. Please run:\u001B[0m\n",
      "\u001B[31;1m  npx browserslist@latest --update-db\u001B[0m\n",
      "\u001B[31;1m  Why you should do it regularly: https://github.com/browserslist/browserslist#browsers-data-updating\u001B[0m\n",
      "- info Compiled successfully\n",
      "- info Linting and checking validity of types...\n",
      "- info Collecting page data...\n",
      "- info Generating static pages (0/6)\n",
      "\u001B[31;1m- warn \u001B[0m\n",
      "\u001B[31;1mmetadata.metadataBase is not set for resolving social open graph or twitter images, using \"http://localhost:3000\". See https://nextjs.org/docs/app/api-reference/functions/generate-metadata#metadatabase\u001B[0m\n",
      "- info Generating static pages (1/6)\n",
      "- info Generating static pages (2/6)\n",
      "\u001B[31;1m- warn \u001B[0m\n",
      "\u001B[31;1mmetadata.metadataBase is not set for resolving social open graph or twitter images, using \"http://localhost:3000\". See https://nextjs.org/docs/app/api-reference/functions/generate-metadata#metadatabase\u001B[0m\n",
      "- info Generating static pages (4/6)\n",
      "- info Generating static pages (6/6)\n",
      "- info Finalizing page optimization...\n",
      "\n",
      "Route (app)                                Size     First Load JS\n",
      "┌ ○ /                                      181 B          84.6 kB\n",
      "├ ● /[components]/[category]               181 B          84.6 kB\n",
      "├ ● /[components]/[category]/[collection]  3.55 kB        99.6 kB\n",
      "├ ● /about/[slug]                          3.41 kB          82 kB\n",
      "├ ○ /api/search                            0 B                0 B\n",
      "├ ○ /blog                                  181 B          84.6 kB\n",
      "├ ● /blog/[slug]                           2.85 kB        93.1 kB\n",
      "└ ○ /sitemap.xml                           0 B                0 B\n",
      "+ First Load JS shared by all              78.6 kB\n",
      "  ├ chunks/596-ef6f8f5604ac81a7.js         26.1 kB\n",
      "  ├ chunks/fd9d1056-ae0ceb7ffa373b0f.js    50.6 kB\n",
      "  ├ chunks/main-app-f6770747d1b7df0f.js    219 B\n",
      "  └ chunks/webpack-347f78ff48cf5106.js     1.74 kB\n",
      "\n",
      "Route (pages)                              Size     First Load JS\n",
      "─ ○ /404                                   181 B          76.6 kB\n",
      "+ First Load JS shared by all              76.4 kB\n",
      "  ├ chunks/framework-8883d1e9be70c3da.js   45 kB\n",
      "  ├ chunks/main-9e0ffd36f36951ba.js        29.4 kB\n",
      "  ├ chunks/pages/_app-52924524f99094ab.js  195 B\n",
      "  └ chunks/webpack-347f78ff48cf5106.js     1.74 kB\n",
      "\n",
      "○  (Static)  automatically rendered as static HTML (uses no initial props)\n",
      "●  (SSG)     automatically generated as static HTML + JSON (uses getStaticProps)\n",
      "\n",
      "$ yarn css\n",
      "$ yarn css:components && yarn css:blogs\n",
      "$ npx tailwindcss -i src/styles/components.css -o public/components.css -m\n",
      "\u001B[31;1mBrowserslist: caniuse-lite is outdated. Please run:\u001B[0m\n",
      "\u001B[31;1m  npx update-browserslist-db@latest\u001B[0m\n",
      "\u001B[31;1m  Why you should do it regularly: https://github.com/browserslist/update-db#readme\u001B[0m\n",
      "\u001B[31;1mBrowserslist: caniuse-lite is outdated. Please run:\u001B[0m\n",
      "\u001B[31;1m  npx update-browserslist-db@latest\u001B[0m\n",
      "\u001B[31;1m  Why you should do it regularly: https://github.com/browserslist/update-db#readme\u001B[0m\n",
      "\u001B[31;1m\u001B[0m\n",
      "\u001B[31;1mRebuilding...\u001B[0m\n",
      "\u001B[31;1m\u001B[0m\n",
      "\u001B[31;1mDone in 1130ms.\u001B[0m\n",
      "$ npx tailwindcss -i src/styles/blogs.css -o public/blogs.css -m\n",
      "\u001B[31;1mBrowserslist: caniuse-lite is outdated. Please run:\u001B[0m\n",
      "\u001B[31;1m  npx update-browserslist-db@latest\u001B[0m\n",
      "\u001B[31;1m  Why you should do it regularly: https://github.com/browserslist/update-db#readme\u001B[0m\n",
      "\u001B[31;1mBrowserslist: caniuse-lite is outdated. Please run:\u001B[0m\n",
      "\u001B[31;1m  npx update-browserslist-db@latest\u001B[0m\n",
      "\u001B[31;1m  Why you should do it regularly: https://github.com/browserslist/update-db#readme\u001B[0m\n",
      "\u001B[31;1m\u001B[0m\n",
      "\u001B[31;1mRebuilding...\u001B[0m\n",
      "\u001B[31;1m\u001B[0m\n",
      "\u001B[31;1mDone in 415ms.\u001B[0m\n",
      "Done in 24.26s.\n"
     ]
    }
   ],
   "source": [
    "{ . \"$ScriptDir/dep_hyperui.ps1\" } | Invoke-Block"
   ]
  }
 ],
 "metadata": {},
 "nbformat": 4,
 "nbformat_minor": 5
}