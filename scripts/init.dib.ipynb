{
 "cells": [
  {
   "cell_type": "code",
   "execution_count": null,
   "metadata": {
    "dotnet_interactive": {
     "language": "pwsh"
    },
    "polyglot_notebook": {
     "kernelName": "pwsh"
    }
   },
   "outputs": [],
   "source": [
    ". ./nbs_header.ps1\n",
    ". ./core.ps1"
   ]
  },
  {
   "cell_type": "code",
   "execution_count": null,
   "metadata": {
    "dotnet_interactive": {
     "language": "pwsh"
    },
    "polyglot_notebook": {
     "kernelName": "pwsh"
    }
   },
   "outputs": [],
   "source": [
    "# rustup +nightly component add clippy rust-src rustfmt"
   ]
  },
  {
   "cell_type": "code",
   "execution_count": null,
   "metadata": {
    "dotnet_interactive": {
     "language": "pwsh"
    },
    "polyglot_notebook": {
     "kernelName": "pwsh"
    }
   },
   "outputs": [],
   "source": [
    "# rustup +nightly target add wasm32-unknown-unknown"
   ]
  },
  {
   "cell_type": "code",
   "execution_count": null,
   "metadata": {
    "dotnet_interactive": {
     "language": "pwsh"
    },
    "polyglot_notebook": {
     "kernelName": "pwsh"
    }
   },
   "outputs": [
    {
     "name": "stdout",
     "output_type": "stream",
     "text": [
      "\u001B[31;1minfo: syncing channel updates for 'stable-x86_64-unknown-linux-gnu'\u001B[0m\n",
      "\u001B[31;1minfo: syncing channel updates for 'nightly-x86_64-unknown-linux-gnu'\u001B[0m\n",
      "\u001B[31;1minfo: checking for self-update\u001B[0m\n",
      "\n",
      "   stable-x86_64-unknown-linux-gnu unchanged - rustc 1.75.0 (82e1608df 2023-12-21)\n",
      "  nightly-x86_64-unknown-linux-gnu unchanged - rustc 1.78.0-nightly (516b6162a 2024-03-03)\n",
      "\n",
      "\u001B[31;1mwarning: tool `rust-analyzer` is already installed, remove it from `/home/runner/.cargo/bin`, then run `rustup update` to have rustup manage this tool.\u001B[0m\n",
      "\u001B[31;1mwarning: tool `rustfmt` is already installed, remove it from `/home/runner/.cargo/bin`, then run `rustup update` to have rustup manage this tool.\u001B[0m\n",
      "\u001B[31;1mwarning: tool `cargo-fmt` is already installed, remove it from `/home/runner/.cargo/bin`, then run `rustup update` to have rustup manage this tool.\u001B[0m\n",
      "\u001B[31;1minfo: cleaning up downloads & tmp directories\u001B[0m\n"
     ]
    }
   ],
   "source": [
    "rustup update"
   ]
  },
  {
   "cell_type": "code",
   "execution_count": null,
   "metadata": {
    "dotnet_interactive": {
     "language": "pwsh"
    },
    "polyglot_notebook": {
     "kernelName": "pwsh"
    }
   },
   "outputs": [
    {
     "name": "stdout",
     "output_type": "stream",
     "text": [
      "\u001B[31;1m    Updating crates.io index\u001B[0m\n",
      "\u001B[31;1m  Installing cargo-outdated v0.15.0\u001B[0m\n",
      "\u001B[31;1m    Updating crates.io index\u001B[0m\n",
      "\u001B[31;1m Downloading crates ...\u001B[0m\n",
      "\u001B[31;1m  Downloaded cc v1.0.89\u001B[0m\n",
      "\u001B[31;1m  Downloaded arc-swap v1.7.0\u001B[0m\n",
      "\u001B[31;1m  Downloaded regex-automata v0.4.6\u001B[0m\n",
      "\u001B[31;1m   Compiling libc v0.2.153\u001B[0m\n",
      "\u001B[31;1m   Compiling proc-macro2 v1.0.78\u001B[0m\n",
      "\u001B[31;1m   Compiling unicode-ident v1.0.12\u001B[0m\n",
      "\u001B[31;1m   Compiling cfg-if v1.0.0\u001B[0m\n",
      "\u001B[31;1m   Compiling serde v1.0.197\u001B[0m\n",
      "\u001B[31;1m   Compiling pkg-config v0.3.30\u001B[0m\n",
      "\u001B[31;1m   Compiling vcpkg v0.2.15\u001B[0m\n",
      "\u001B[31;1m   Compiling quote v1.0.35\u001B[0m\n",
      "\u001B[31;1m   Compiling jobserver v0.1.28\u001B[0m\n",
      "\u001B[31;1m   Compiling memchr v2.7.1\u001B[0m\n",
      "\u001B[31;1m   Compiling syn v2.0.52\u001B[0m\n",
      "\u001B[31;1m   Compiling cc v1.0.89\u001B[0m\n",
      "\u001B[31;1m   Compiling thiserror v1.0.57\u001B[0m\n",
      "\u001B[31;1m   Compiling aho-corasick v1.1.2\u001B[0m\n",
      "\u001B[31;1m   Compiling regex-syntax v0.8.2\u001B[0m\n",
      "\u001B[31;1m   Compiling libz-sys v1.1.15\u001B[0m\n",
      "\u001B[31;1m   Compiling autocfg v1.1.0\u001B[0m\n",
      "\u001B[31;1m   Compiling once_cell v1.19.0\u001B[0m\n",
      "\u001B[31;1m   Compiling regex-automata v0.4.6\u001B[0m\n",
      "\u001B[31;1m   Compiling crc32fast v1.4.0\u001B[0m\n",
      "\u001B[31;1m   Compiling lock_api v0.4.11\u001B[0m\n",
      "\u001B[31;1m   Compiling smallvec v1.13.1\u001B[0m\n",
      "\u001B[31;1m   Compiling parking_lot_core v0.9.9\u001B[0m\n",
      "\u001B[31;1m   Compiling scopeguard v1.2.0\u001B[0m\n",
      "\u001B[31;1m   Compiling gix-trace v0.1.7\u001B[0m\n",
      "\u001B[31;1m   Compiling parking_lot v0.12.1\u001B[0m\n",
      "\u001B[31;1m   Compiling same-file v1.0.6\u001B[0m\n",
      "\u001B[31;1m   Compiling bstr v1.9.1\u001B[0m\n",
      "\u001B[31;1m   Compiling serde_derive v1.0.197\u001B[0m\n",
      "\u001B[31;1m   Compiling thiserror-impl v1.0.57\u001B[0m\n",
      "\u001B[31;1m   Compiling walkdir v2.5.0\u001B[0m\n",
      "\u001B[31;1m   Compiling bitflags v2.4.2\u001B[0m\n",
      "\u001B[31;1m   Compiling adler v1.0.2\u001B[0m\n",
      "\u001B[31;1m   Compiling miniz_oxide v0.7.2\u001B[0m\n",
      "\u001B[31;1m   Compiling prodash v26.2.2\u001B[0m\n",
      "\u001B[31;1m   Compiling flate2 v1.0.28\u001B[0m\n",
      "\u001B[31;1m   Compiling bytes v1.5.0\u001B[0m\n",
      "\u001B[31;1m   Compiling sha1_smol v1.0.0\u001B[0m\n",
      "\u001B[31;1m   Compiling itoa v1.0.10\u001B[0m\n",
      "\u001B[31;1m   Compiling version_check v0.9.4\u001B[0m\n",
      "\u001B[31;1m   Compiling num-conv v0.1.0\u001B[0m\n",
      "\u001B[31;1m   Compiling tinyvec_macros v0.1.1\u001B[0m\n",
      "\u001B[31;1m   Compiling time-core v0.1.2\u001B[0m\n",
      "\u001B[31;1m   Compiling powerfmt v0.2.0\u001B[0m\n",
      "\u001B[31;1m   Compiling time-macros v0.2.17\u001B[0m\n",
      "\u001B[31;1m   Compiling tinyvec v1.6.0\u001B[0m\n",
      "\u001B[31;1m   Compiling num-traits v0.2.18\u001B[0m\n",
      "\u001B[31;1m   Compiling num_threads v0.1.7\u001B[0m\n",
      "\u001B[31;1m   Compiling unicode-normalization v0.1.23\u001B[0m\n",
      "\u001B[31;1m   Compiling typenum v1.17.0\u001B[0m\n",
      "\u001B[31;1m   Compiling zeroize v1.7.0\u001B[0m\n",
      "\u001B[31;1m   Compiling rustix v0.38.31\u001B[0m\n",
      "\u001B[31;1m   Compiling linux-raw-sys v0.4.13\u001B[0m\n",
      "\u001B[31;1m   Compiling winnow v0.5.40\u001B[0m\n",
      "\u001B[31;1m   Compiling faster-hex v0.9.0\u001B[0m\n",
      "\u001B[31;1m   Compiling deranged v0.3.11\u001B[0m\n",
      "\u001B[31;1m   Compiling gix-hash v0.13.3\u001B[0m\n",
      "\u001B[31;1m   Compiling gix-features v0.36.1\u001B[0m\n",
      "\u001B[31;1m   Compiling time v0.3.34\u001B[0m\n",
      "\u001B[31;1m   Compiling fastrand v2.0.1\u001B[0m\n",
      "\u001B[31;1m   Compiling home v0.5.9\u001B[0m\n",
      "\u001B[31;1m   Compiling gix-path v0.10.6\u001B[0m\n",
      "\u001B[31;1m   Compiling btoi v0.4.3\u001B[0m\n",
      "\u001B[31;1m   Compiling generic-array v0.14.7\u001B[0m\n",
      "\u001B[31;1m   Compiling subtle v2.5.0\u001B[0m\n",
      "\u001B[31;1m   Compiling gix-validate v0.8.3\u001B[0m\n",
      "\u001B[31;1m   Compiling openssl-sys v0.9.101\u001B[0m\n",
      "\u001B[31;1m   Compiling const-oid v0.9.6\u001B[0m\n",
      "\u001B[31;1m   Compiling gix-date v0.8.4\u001B[0m\n",
      "\u001B[31;1m   Compiling hashbrown v0.14.3\u001B[0m\n",
      "\u001B[31;1m   Compiling gix-utils v0.1.10\u001B[0m\n",
      "\u001B[31;1m   Compiling gix-actor v0.28.1\u001B[0m\n",
      "\u001B[31;1m   Compiling gix-object v0.38.0\u001B[0m\n",
      "\u001B[31;1m   Compiling getrandom v0.2.12\u001B[0m\n",
      "\u001B[31;1m   Compiling crypto-common v0.1.6\u001B[0m\n",
      "\u001B[31;1m   Compiling rand_core v0.6.4\u001B[0m\n",
      "\u001B[31;1m   Compiling block-buffer v0.10.4\u001B[0m\n",
      "\u001B[31;1m   Compiling digest v0.10.7\u001B[0m\n",
      "\u001B[31;1m   Compiling tempfile v3.10.1\u001B[0m\n",
      "\u001B[31;1m   Compiling gix-chunk v0.4.7\u001B[0m\n",
      "\u001B[31;1m   Compiling libnghttp2-sys v0.1.9+1.58.0\u001B[0m\n",
      "\u001B[31;1m   Compiling gix-hashtable v0.4.1\u001B[0m\n",
      "\u001B[31;1m   Compiling gix-fs v0.8.1\u001B[0m\n",
      "\u001B[31;1m   Compiling unicode-bidi v0.3.15\u001B[0m\n",
      "\u001B[31;1m   Compiling percent-encoding v2.3.1\u001B[0m\n",
      "\u001B[31;1m   Compiling form_urlencoded v1.2.1\u001B[0m\n",
      "\u001B[31;1m   Compiling gix-tempfile v11.0.1\u001B[0m\n",
      "\u001B[31;1m   Compiling idna v0.5.0\u001B[0m\n",
      "\u001B[31;1m   Compiling curl-sys v0.4.72+curl-8.6.0\u001B[0m\n",
      "\u001B[31;1m   Compiling memmap2 v0.9.4\u001B[0m\n",
      "\u001B[31;1m   Compiling base64ct v1.6.0\u001B[0m\n",
      "\u001B[31;1m   Compiling log v0.4.21\u001B[0m\n",
      "\u001B[31;1m   Compiling gix-commitgraph v0.22.1\u001B[0m\n",
      "\u001B[31;1m   Compiling pem-rfc7468 v0.7.0\u001B[0m\n",
      "\u001B[31;1m   Compiling url v2.5.0\u001B[0m\n",
      "\u001B[31;1m   Compiling gix-quote v0.4.11\u001B[0m\n",
      "\u001B[31;1m   Compiling memmap2 v0.7.1\u001B[0m\n",
      "\u001B[31;1m   Compiling gix-revwalk v0.9.0\u001B[0m\n",
      "\u001B[31;1m   Compiling der v0.7.8\u001B[0m\n",
      "\u001B[31;1m   Compiling gix-glob v0.14.1\u001B[0m\n",
      "\u001B[31;1m   Compiling gix-config-value v0.14.5\u001B[0m\n",
      "\u001B[31;1m   Compiling crossbeam-utils v0.8.19\u001B[0m\n",
      "\u001B[31;1m   Compiling unicode-bom v2.0.3\u001B[0m\n",
      "\u001B[31;1m   Compiling spki v0.7.3\u001B[0m\n",
      "\u001B[31;1m   Compiling gix-lock v11.0.1\u001B[0m\n",
      "\u001B[31;1m   Compiling hmac v0.12.1\u001B[0m\n",
      "\u001B[31;1m   Compiling gix-sec v0.10.5\u001B[0m\n",
      "\u001B[31;1m   Compiling libssh2-sys v0.3.0\u001B[0m\n",
      "\u001B[31;1m   Compiling curl v0.4.46\u001B[0m\n",
      "\u001B[31;1m   Compiling openssl-probe v0.1.5\u001B[0m\n",
      "\u001B[31;1m   Compiling static_assertions v1.1.0\u001B[0m\n",
      "\u001B[31;1m   Compiling serde_json v1.0.114\u001B[0m\n",
      "\u001B[31;1m   Compiling kstring v2.0.0\u001B[0m\n",
      "\u001B[31;1m   Compiling pkcs8 v0.10.2\u001B[0m\n",
      "\u001B[31;1m   Compiling ff v0.13.0\u001B[0m\n",
      "\u001B[31;1m   Compiling faster-hex v0.8.1\u001B[0m\n",
      "\u001B[31;1m   Compiling gix-command v0.2.10\u001B[0m\n",
      "\u001B[31;1m   Compiling socket2 v0.5.6\u001B[0m\n",
      "\u001B[31;1m   Compiling ryu v1.0.17\u001B[0m\n",
      "\u001B[31;1m   Compiling base16ct v0.2.0\u001B[0m\n",
      "\u001B[31;1m   Compiling anyhow v1.0.80\u001B[0m\n",
      "\u001B[31;1m   Compiling sec1 v0.7.3\u001B[0m\n",
      "\u001B[31;1m   Compiling group v0.13.0\u001B[0m\n",
      "\u001B[31;1m   Compiling gix-attributes v0.20.1\u001B[0m\n",
      "\u001B[31;1m   Compiling hkdf v0.12.4\u001B[0m\n",
      "\u001B[31;1m   Compiling gix-url v0.25.2\u001B[0m\n",
      "\u001B[31;1m   Compiling crypto-bigint v0.5.5\u001B[0m\n",
      "\u001B[31;1m   Compiling libgit2-sys v0.16.2+1.7.2\u001B[0m\n",
      "\u001B[31;1m   Compiling filetime v0.2.23\u001B[0m\n",
      "\u001B[31;1m   Compiling cpufeatures v0.2.12\u001B[0m\n",
      "\u001B[31;1m   Compiling elliptic-curve v0.13.8\u001B[0m\n",
      "\u001B[31;1m   Compiling gix-prompt v0.7.0\u001B[0m\n",
      "\u001B[31;1m   Compiling gix-ref v0.38.0\u001B[0m\n",
      "\u001B[31;1m   Compiling tracing-core v0.1.32\u001B[0m\n",
      "\u001B[31;1m   Compiling equivalent v1.0.1\u001B[0m\n",
      "\u001B[31;1m   Compiling utf8parse v0.2.1\u001B[0m\n",
      "\u001B[31;1m   Compiling heck v0.4.1\u001B[0m\n",
      "\u001B[31;1m   Compiling syn v1.0.109\u001B[0m\n",
      "\u001B[31;1m   Compiling anstyle-parse v0.2.3\u001B[0m\n",
      "\u001B[31;1m   Compiling indexmap v2.2.5\u001B[0m\n",
      "\u001B[31;1m   Compiling gix-credentials v0.21.0\u001B[0m\n",
      "\u001B[31;1m   Compiling sha2 v0.10.8\u001B[0m\n",
      "\u001B[31;1m   Compiling gix-packetline v0.16.7\u001B[0m\n",
      "\u001B[31;1m   Compiling crossbeam-epoch v0.9.18\u001B[0m\n",
      "\u001B[31;1m   Compiling rfc6979 v0.4.0\u001B[0m\n",
      "\u001B[31;1m   Compiling gix-traverse v0.34.0\u001B[0m\n",
      "\u001B[31;1m   Compiling gix-revision v0.23.0\u001B[0m\n",
      "\u001B[31;1m   Compiling signature v2.2.0\u001B[0m\n",
      "\u001B[31;1m   Compiling toml_datetime v0.6.5\u001B[0m\n",
      "\u001B[31;1m   Compiling serde_spanned v0.6.5\u001B[0m\n",
      "\u001B[31;1m   Compiling unicase v2.7.0\u001B[0m\n",
      "\u001B[31;1m   Compiling gix-bitmap v0.2.10\u001B[0m\n",
      "\u001B[31;1m   Compiling tracing-attributes v0.1.27\u001B[0m\n",
      "\u001B[31;1m   Compiling regex v1.10.3\u001B[0m\n",
      "\u001B[31;1m   Compiling minimal-lexical v0.2.1\u001B[0m\n",
      "\u001B[31;1m   Compiling anstyle v1.0.6\u001B[0m\n",
      "\u001B[31;1m   Compiling regex-syntax v0.6.29\u001B[0m\n",
      "\u001B[31;1m   Compiling anstyle-query v1.0.2\u001B[0m\n",
      "\u001B[31;1m   Compiling colorchoice v1.0.0\u001B[0m\n",
      "\u001B[31;1m   Compiling base64 v0.21.7\u001B[0m\n",
      "\u001B[31;1m   Compiling clru v0.6.1\u001B[0m\n",
      "\u001B[31;1m   Compiling pin-project-lite v0.2.13\u001B[0m\n",
      "\u001B[31;1m   Compiling rustversion v1.0.14\u001B[0m\n",
      "\u001B[31;1m   Compiling tracing v0.1.40\u001B[0m\n",
      "\u001B[31;1m   Compiling gix-pack v0.44.0\u001B[0m\n",
      "\u001B[31;1m   Compiling regex-automata v0.1.10\u001B[0m\n",
      "\u001B[31;1m   Compiling anstream v0.6.13\u001B[0m\n",
      "\u001B[31;1m   Compiling nom v7.1.3\u001B[0m\n",
      "\u001B[31;1m   Compiling gix-index v0.26.0\u001B[0m\n",
      "\u001B[31;1m   Compiling gix-refspec v0.19.0\u001B[0m\n",
      "\u001B[31;1m   Compiling ecdsa v0.16.9\u001B[0m\n",
      "\u001B[31;1m   Compiling crossbeam-deque v0.8.5\u001B[0m\n",
      "\u001B[31;1m   Compiling tar v0.4.40\u001B[0m\n",
      "\u001B[31;1m   Compiling gix-config v0.31.0\u001B[0m\n",
      "\u001B[31;1m   Compiling primeorder v0.13.6\u001B[0m\n",
      "\u001B[31;1m   Compiling gix-pathspec v0.4.1\u001B[0m\n",
      "\u001B[31;1m   Compiling gix-packetline-blocking v0.16.6\u001B[0m\n",
      "\u001B[31;1m   Compiling gix-ignore v0.9.1\u001B[0m\n",
      "\u001B[31;1m   Compiling globset v0.4.14\u001B[0m\n",
      "\u001B[31;1m   Compiling terminal_size v0.3.0\u001B[0m\n",
      "\u001B[31;1m   Compiling bitmaps v2.1.0\u001B[0m\n",
      "\u001B[31;1m   Compiling im-rc v15.1.0\u001B[0m\n",
      "\u001B[31;1m   Compiling maybe-async v0.2.10\u001B[0m\n",
      "\u001B[31;1m   Compiling is-terminal v0.4.12\u001B[0m\n",
      "\u001B[31;1m   Compiling encoding_rs v0.8.33\u001B[0m\n",
      "\u001B[31;1m   Compiling semver v1.0.22\u001B[0m\n",
      "\u001B[31;1m   Compiling winnow v0.6.5\u001B[0m\n",
      "\u001B[31;1m   Compiling clap_lex v0.7.0\u001B[0m\n",
      "\u001B[31;1m   Compiling lazy_static v1.4.0\u001B[0m\n",
      "\u001B[31;1m   Compiling arc-swap v1.7.0\u001B[0m\n",
      "\u001B[31;1m   Compiling pulldown-cmark v0.9.6\u001B[0m\n",
      "\u001B[31;1m   Compiling fiat-crypto v0.2.6\u001B[0m\n",
      "\u001B[31;1m   Compiling ppv-lite86 v0.2.17\u001B[0m\n",
      "\u001B[31;1m   Compiling overload v0.1.1\u001B[0m\n",
      "\u001B[31;1m   Compiling strsim v0.11.0\u001B[0m\n",
      "\u001B[31;1m   Compiling clap_builder v4.5.1\u001B[0m\n",
      "\u001B[31;1m   Compiling orion v0.17.6\u001B[0m\n",
      "\u001B[31;1m   Compiling gix-transport v0.38.0\u001B[0m\n",
      "\u001B[31;1m   Compiling gix-protocol v0.41.1\u001B[0m\n",
      "\u001B[31;1m   Compiling nu-ansi-term v0.46.0\u001B[0m\n",
      "\u001B[31;1m   Compiling rand_chacha v0.3.1\u001B[0m\n",
      "\u001B[31;1m   Compiling gix-odb v0.54.0\u001B[0m\n",
      "\u001B[31;1m   Compiling sharded-slab v0.1.7\u001B[0m\n",
      "\u001B[31;1m   Compiling toml_edit v0.22.6\u001B[0m\n",
      "\u001B[31;1m   Compiling gix-filter v0.6.0\u001B[0m\n",
      "\u001B[31;1m   Compiling sized-chunks v0.6.5\u001B[0m\n",
      "\u001B[31;1m   Compiling ignore v0.4.22\u001B[0m\n",
      "\u001B[31;1m   Compiling gix-worktree v0.27.0\u001B[0m\n",
      "\u001B[31;1m   Compiling gix-submodule v0.5.0\u001B[0m\n",
      "\u001B[31;1m   Compiling p384 v0.13.0\u001B[0m\n",
      "\u001B[31;1m   Compiling color-print-proc-macro v0.3.5\u001B[0m\n",
      "\u001B[31;1m   Compiling cargo v0.76.0\u001B[0m\n",
      "\u001B[31;1m   Compiling matchers v0.1.0\u001B[0m\n",
      "\u001B[31;1m   Compiling clap_derive v4.5.0\u001B[0m\n",
      "\u001B[31;1m   Compiling gix-discover v0.26.0\u001B[0m\n",
      "\u001B[31;1m   Compiling tracing-log v0.2.0\u001B[0m\n",
      "\u001B[31;1m   Compiling cargo-credential v0.4.2\u001B[0m\n",
      "\u001B[31;1m   Compiling crossbeam-channel v0.5.12\u001B[0m\n",
      "\u001B[31;1m   Compiling gix-negotiate v0.9.0\u001B[0m\n",
      "\u001B[31;1m   Compiling gix-diff v0.37.0\u001B[0m\n",
      "\u001B[31;1m   Compiling rand_xoshiro v0.6.0\u001B[0m\n",
      "\u001B[31;1m   Compiling ed25519-compact v2.1.1\u001B[0m\n",
      "\u001B[31;1m   Compiling erased-serde v0.4.3\u001B[0m\n",
      "\u001B[31;1m   Compiling ordered-float v2.10.1\u001B[0m\n",
      "\u001B[31;1m   Compiling gix-macros v0.1.3\u001B[0m\n",
      "\u001B[31;1m   Compiling thread_local v1.1.8\u001B[0m\n",
      "\u001B[31;1m   Compiling libloading v0.8.2\u001B[0m\n",
      "\u001B[31;1m   Compiling unicode-width v0.1.11\u001B[0m\n",
      "\u001B[31;1m   Compiling ct-codecs v1.1.1\u001B[0m\n",
      "\u001B[31;1m   Compiling either v1.10.0\u001B[0m\n",
      "\u001B[31;1m   Compiling hex v0.4.3\u001B[0m\n",
      "\u001B[31;1m   Compiling humantime v2.1.0\u001B[0m\n",
      "\u001B[31;1m   Compiling shell-escape v0.1.5\u001B[0m\n",
      "\u001B[31;1m   Compiling cargo-util v0.2.9\u001B[0m\n",
      "\u001B[31;1m   Compiling itertools v0.11.0\u001B[0m\n",
      "\u001B[31;1m   Compiling gix v0.55.2\u001B[0m\n",
      "\u001B[31;1m   Compiling pasetors v0.6.8\u001B[0m\n",
      "\u001B[31;1m   Compiling cargo-credential-libsecret v0.4.2\u001B[0m\n",
      "\u001B[31;1m   Compiling tracing-subscriber v0.3.18\u001B[0m\n",
      "\u001B[31;1m   Compiling serde-value v0.7.0\u001B[0m\n",
      "\u001B[31;1m   Compiling serde-untagged v0.1.5\u001B[0m\n",
      "\u001B[31;1m   Compiling clap v4.5.1\u001B[0m\n",
      "\u001B[31;1m   Compiling gix-features v0.35.0\u001B[0m\n",
      "\u001B[31;1m   Compiling strum_macros v0.25.3\u001B[0m\n",
      "\u001B[31;1m   Compiling color-print v0.3.5\u001B[0m\n",
      "\u001B[31;1m   Compiling toml v0.8.10\u001B[0m\n",
      "\u001B[31;1m   Compiling rand v0.8.5\u001B[0m\n",
      "\u001B[31;1m   Compiling crates-io v0.39.2\u001B[0m\n",
      "\u001B[31;1m   Compiling supports-hyperlinks v2.1.0\u001B[0m\n",
      "\u001B[31;1m   Compiling toml_edit v0.20.7\u001B[0m\n",
      "\u001B[31;1m   Compiling rustfix v0.6.1\u001B[0m\n",
      "\u001B[31;1m   Compiling sha1 v0.10.6\u001B[0m\n",
      "\u001B[31;1m   Compiling os_info v3.7.0\u001B[0m\n",
      "\u001B[31;1m   Compiling serde_ignored v0.1.10\u001B[0m\n",
      "\u001B[31;1m   Compiling cargo-platform v0.1.7\u001B[0m\n",
      "\u001B[31;1m   Compiling opener v0.6.1\u001B[0m\n",
      "\u001B[31;1m   Compiling http-auth v0.1.9\u001B[0m\n",
      "\u001B[31;1m   Compiling pathdiff v0.2.1\u001B[0m\n",
      "\u001B[31;1m   Compiling bytesize v1.3.0\u001B[0m\n",
      "\u001B[31;1m   Compiling lazycell v1.3.0\u001B[0m\n",
      "\u001B[31;1m   Compiling glob v0.3.1\u001B[0m\n",
      "\u001B[31;1m   Compiling unicode-xid v0.2.4\u001B[0m\n",
      "\u001B[31;1m   Compiling termcolor v1.4.1\u001B[0m\n",
      "\u001B[31;1m   Compiling env_logger v0.10.2\u001B[0m\n",
      "\u001B[31;1m   Compiling strum v0.25.0\u001B[0m\n",
      "\u001B[31;1m   Compiling tabwriter v1.4.0\u001B[0m\n",
      "\u001B[31;1m   Compiling git2 v0.18.2\u001B[0m\n",
      "\u001B[31;1m   Compiling git2-curl v0.19.0\u001B[0m\n",
      "\u001B[31;1m   Compiling cargo-outdated v0.15.0\u001B[0m\n",
      "\u001B[31;1m    Finished `release` profile [optimized] target(s) in 4m 34s\u001B[0m\n",
      "\u001B[31;1m   Replacing /home/runner/.cargo/bin/cargo-outdated\u001B[0m\n",
      "\u001B[31;1m    Replaced package `cargo-outdated v0.14.0` with `cargo-outdated v0.15.0` (executable `cargo-outdated`)\u001B[0m\n"
     ]
    }
   ],
   "source": [
    "{ cargo +nightly install cargo-outdated } | Invoke-Block -OnError Continue"
   ]
  },
  {
   "cell_type": "code",
   "execution_count": null,
   "metadata": {
    "dotnet_interactive": {
     "language": "pwsh"
    },
    "polyglot_notebook": {
     "kernelName": "pwsh"
    }
   },
   "outputs": [
    {
     "name": "stdout",
     "output_type": "stream",
     "text": [
      "\u001B[31;1m    Updating crates.io index\u001B[0m\n",
      "\u001B[31;1merror: binary `wasm-pack` already exists in destination\u001B[0m\n",
      "\u001B[31;1mAdd --force to overwrite\u001B[0m\n",
      "\n",
      "# Invoke-Block / $Retry: 1 / $OnError: Continue / $exitcode: 101 / $EnvVars: null / $Error: '' / $ScriptBlock:\n",
      "'cargo +nightly install wasm-pack --locked'\n",
      "\n"
     ]
    }
   ],
   "source": [
    "{ cargo +nightly install wasm-pack --locked } | Invoke-Block -OnError Continue"
   ]
  },
  {
   "cell_type": "code",
   "execution_count": null,
   "metadata": {
    "dotnet_interactive": {
     "language": "pwsh"
    },
    "polyglot_notebook": {
     "kernelName": "pwsh"
    }
   },
   "outputs": [
    {
     "name": "stdout",
     "output_type": "stream",
     "text": [
      "\u001B[31;1m    Updating crates.io index\u001B[0m\n",
      "\u001B[31;1merror: binary `trunk` already exists in destination\u001B[0m\n",
      "\u001B[31;1mAdd --force to overwrite\u001B[0m\n",
      "\n",
      "# Invoke-Block / $Retry: 1 / $OnError: Continue / $exitcode: 101 / $EnvVars: null / $Error: '' / $ScriptBlock:\n",
      "'cargo +nightly install trunk --version 0.19.0-alpha.3'\n",
      "\n"
     ]
    }
   ],
   "source": [
    "{ cargo +nightly install trunk --version 0.19.0-alpha.3 } | Invoke-Block -OnError Continue"
   ]
  },
  {
   "cell_type": "code",
   "execution_count": null,
   "metadata": {
    "dotnet_interactive": {
     "language": "pwsh"
    },
    "polyglot_notebook": {
     "kernelName": "pwsh"
    }
   },
   "outputs": [
    {
     "name": "stdout",
     "output_type": "stream",
     "text": [
      "\u001B[31;1m    Updating git repository `https://github.com/bram209/leptosfmt.git`\u001B[0m\n",
      "\u001B[31;1merror: binary `leptosfmt` already exists in destination\u001B[0m\n",
      "\u001B[31;1mAdd --force to overwrite\u001B[0m\n",
      "\n",
      "# Invoke-Block / $Retry: 1 / $OnError: Continue / $exitcode: 101 / $EnvVars: null / $Error: '' / $ScriptBlock:\n",
      "'cargo +nightly install --git https://github.com/bram209/leptosfmt.git --locked'\n",
      "\n"
     ]
    }
   ],
   "source": [
    "{ cargo +nightly install --git https://github.com/bram209/leptosfmt.git --locked } | Invoke-Block -OnError Continue"
   ]
  },
  {
   "cell_type": "code",
   "execution_count": null,
   "metadata": {
    "dotnet_interactive": {
     "language": "pwsh"
    },
    "polyglot_notebook": {
     "kernelName": "pwsh"
    }
   },
   "outputs": [
    {
     "name": "stdout",
     "output_type": "stream",
     "text": [
      "\n",
      "added 1 package in 849ms\n",
      "\n",
      "1 package is looking for funding\n",
      "  run `npm fund` for details\n"
     ]
    }
   ],
   "source": [
    "npm install -g pnpm"
   ]
  },
  {
   "cell_type": "code",
   "execution_count": null,
   "metadata": {
    "dotnet_interactive": {
     "language": "pwsh"
    },
    "polyglot_notebook": {
     "kernelName": "pwsh"
    }
   },
   "outputs": [
    {
     "name": "stdout",
     "output_type": "stream",
     "text": [
      "\n",
      "added 2 packages in 749ms\n"
     ]
    }
   ],
   "source": [
    "npm install -g esbuild"
   ]
  },
  {
   "cell_type": "code",
   "execution_count": null,
   "metadata": {
    "dotnet_interactive": {
     "language": "pwsh"
    },
    "polyglot_notebook": {
     "kernelName": "pwsh"
    }
   },
   "outputs": [
    {
     "name": "stdout",
     "output_type": "stream",
     "text": [
      "\n",
      "added 21 packages in 4s\n"
     ]
    }
   ],
   "source": [
    "npm install -g @chialab/rna"
   ]
  },
  {
   "cell_type": "code",
   "execution_count": null,
   "metadata": {
    "dotnet_interactive": {
     "language": "pwsh"
    },
    "polyglot_notebook": {
     "kernelName": "pwsh"
    }
   },
   "outputs": [
    {
     "name": "stdout",
     "output_type": "stream",
     "text": [
      "\n",
      "added 20 packages in 610ms\n"
     ]
    }
   ],
   "source": [
    "npm install -g @chialab/rna-bundler"
   ]
  },
  {
   "cell_type": "code",
   "execution_count": null,
   "metadata": {
    "dotnet_interactive": {
     "language": "pwsh"
    },
    "polyglot_notebook": {
     "kernelName": "pwsh"
    }
   },
   "outputs": [
    {
     "name": "stdout",
     "output_type": "stream",
     "text": [
      "\n",
      "added 3 packages in 1s\n"
     ]
    }
   ],
   "source": [
    "npm install -g @playwright/test@1.41.2"
   ]
  },
  {
   "cell_type": "code",
   "execution_count": null,
   "metadata": {
    "dotnet_interactive": {
     "language": "pwsh"
    },
    "polyglot_notebook": {
     "kernelName": "pwsh"
    }
   },
   "outputs": [
    {
     "name": "stdout",
     "output_type": "stream",
     "text": [
      "Downloading Chromium 121.0.6167.57 (playwright build v1097) from https://playwright.azureedge.net/builds/chromium/1097/chromium-linux.zip\n",
      "|                                                                                |   0% of 152.8 MiB\n",
      "|■■■■■■■■                                                                        |  10% of 152.8 MiB\n",
      "|■■■■■■■■■■■■■■■■                                                                |  20% of 152.8 MiB\n",
      "|■■■■■■■■■■■■■■■■■■■■■■■■                                                        |  30% of 152.8 MiB\n",
      "|■■■■■■■■■■■■■■■■■■■■■■■■■■■■■■■■                                                |  40% of 152.8 MiB\n",
      "|■■■■■■■■■■■■■■■■■■■■■■■■■■■■■■■■■■■■■■■■                                        |  50% of 152.8 MiB\n",
      "|■■■■■■■■■■■■■■■■■■■■■■■■■■■■■■■■■■■■■■■■■■■■■■■■                                |  60% of 152.8 MiB\n",
      "|■■■■■■■■■■■■■■■■■■■■■■■■■■■■■■■■■■■■■■■■■■■■■■■■■■■■■■■■                        |  70% of 152.8 MiB\n",
      "|■■■■■■■■■■■■■■■■■■■■■■■■■■■■■■■■■■■■■■■■■■■■■■■■■■■■■■■■■■■■■■■■                |  80% of 152.8 MiB\n",
      "|■■■■■■■■■■■■■■■■■■■■■■■■■■■■■■■■■■■■■■■■■■■■■■■■■■■■■■■■■■■■■■■■■■■■■■■■        |  90% of 152.8 MiB\n",
      "|■■■■■■■■■■■■■■■■■■■■■■■■■■■■■■■■■■■■■■■■■■■■■■■■■■■■■■■■■■■■■■■■■■■■■■■■■■■■■■■■| 100% of 152.8 MiB\n",
      "Chromium 121.0.6167.57 (playwright build v1097) downloaded to /home/runner/.cache/ms-playwright/chromium-1097\n",
      "Downloading FFMPEG playwright build v1009 from https://playwright.azureedge.net/builds/ffmpeg/1009/ffmpeg-linux.zip\n",
      "|                                                                                |   0% of 2.6 MiB\n",
      "|■■■■■■■■                                                                        |  10% of 2.6 MiB\n",
      "|■■■■■■■■■■■■■■■■                                                                |  20% of 2.6 MiB\n",
      "|■■■■■■■■■■■■■■■■■■■■■■■■                                                        |  30% of 2.6 MiB\n",
      "|■■■■■■■■■■■■■■■■■■■■■■■■■■■■■■■■                                                |  40% of 2.6 MiB\n",
      "|■■■■■■■■■■■■■■■■■■■■■■■■■■■■■■■■■■■■■■■■                                        |  50% of 2.6 MiB\n",
      "|■■■■■■■■■■■■■■■■■■■■■■■■■■■■■■■■■■■■■■■■■■■■■■■■                                |  60% of 2.6 MiB\n",
      "|■■■■■■■■■■■■■■■■■■■■■■■■■■■■■■■■■■■■■■■■■■■■■■■■■■■■■■■■                        |  70% of 2.6 MiB\n",
      "|■■■■■■■■■■■■■■■■■■■■■■■■■■■■■■■■■■■■■■■■■■■■■■■■■■■■■■■■■■■■■■■■                |  80% of 2.6 MiB\n",
      "|■■■■■■■■■■■■■■■■■■■■■■■■■■■■■■■■■■■■■■■■■■■■■■■■■■■■■■■■■■■■■■■■■■■■■■■■        |  90% of 2.6 MiB\n",
      "|■■■■■■■■■■■■■■■■■■■■■■■■■■■■■■■■■■■■■■■■■■■■■■■■■■■■■■■■■■■■■■■■■■■■■■■■■■■■■■■■| 100% of 2.6 MiB\n",
      "FFMPEG playwright build v1009 downloaded to /home/runner/.cache/ms-playwright/ffmpeg-1009\n",
      "Downloading Firefox 121.0 (playwright build v1438) from https://playwright.azureedge.net/builds/firefox/1438/firefox-ubuntu-22.04.zip\n",
      "|                                                                                |   0% of 82.2 MiB\n",
      "|■■■■■■■■                                                                        |  10% of 82.2 MiB\n",
      "|■■■■■■■■■■■■■■■■                                                                |  20% of 82.2 MiB\n",
      "|■■■■■■■■■■■■■■■■■■■■■■■■                                                        |  30% of 82.2 MiB\n",
      "|■■■■■■■■■■■■■■■■■■■■■■■■■■■■■■■■                                                |  40% of 82.2 MiB\n",
      "|■■■■■■■■■■■■■■■■■■■■■■■■■■■■■■■■■■■■■■■■                                        |  50% of 82.2 MiB\n",
      "|■■■■■■■■■■■■■■■■■■■■■■■■■■■■■■■■■■■■■■■■■■■■■■■■                                |  60% of 82.2 MiB\n",
      "|■■■■■■■■■■■■■■■■■■■■■■■■■■■■■■■■■■■■■■■■■■■■■■■■■■■■■■■■                        |  70% of 82.2 MiB\n",
      "|■■■■■■■■■■■■■■■■■■■■■■■■■■■■■■■■■■■■■■■■■■■■■■■■■■■■■■■■■■■■■■■■                |  80% of 82.2 MiB\n",
      "|■■■■■■■■■■■■■■■■■■■■■■■■■■■■■■■■■■■■■■■■■■■■■■■■■■■■■■■■■■■■■■■■■■■■■■■■        |  90% of 82.2 MiB\n",
      "|■■■■■■■■■■■■■■■■■■■■■■■■■■■■■■■■■■■■■■■■■■■■■■■■■■■■■■■■■■■■■■■■■■■■■■■■■■■■■■■■| 100% of 82.2 MiB\n",
      "Firefox 121.0 (playwright build v1438) downloaded to /home/runner/.cache/ms-playwright/firefox-1438\n",
      "Downloading Webkit 17.4 (playwright build v1967) from https://playwright.azureedge.net/builds/webkit/1967/webkit-ubuntu-22.04.zip\n",
      "|                                                                                |   0% of 84.8 MiB\n",
      "|■■■■■■■■                                                                        |  10% of 84.8 MiB\n",
      "|■■■■■■■■■■■■■■■■                                                                |  20% of 84.8 MiB\n",
      "|■■■■■■■■■■■■■■■■■■■■■■■■                                                        |  30% of 84.8 MiB\n",
      "|■■■■■■■■■■■■■■■■■■■■■■■■■■■■■■■■                                                |  40% of 84.8 MiB\n",
      "|■■■■■■■■■■■■■■■■■■■■■■■■■■■■■■■■■■■■■■■■                                        |  50% of 84.8 MiB\n",
      "|■■■■■■■■■■■■■■■■■■■■■■■■■■■■■■■■■■■■■■■■■■■■■■■■                                |  60% of 84.8 MiB\n",
      "|■■■■■■■■■■■■■■■■■■■■■■■■■■■■■■■■■■■■■■■■■■■■■■■■■■■■■■■■                        |  70% of 84.8 MiB\n",
      "|■■■■■■■■■■■■■■■■■■■■■■■■■■■■■■■■■■■■■■■■■■■■■■■■■■■■■■■■■■■■■■■■                |  80% of 84.8 MiB\n",
      "|■■■■■■■■■■■■■■■■■■■■■■■■■■■■■■■■■■■■■■■■■■■■■■■■■■■■■■■■■■■■■■■■■■■■■■■■        |  90% of 84.8 MiB\n",
      "|■■■■■■■■■■■■■■■■■■■■■■■■■■■■■■■■■■■■■■■■■■■■■■■■■■■■■■■■■■■■■■■■■■■■■■■■■■■■■■■■| 100% of 84.8 MiB\n",
      "Webkit 17.4 (playwright build v1967) downloaded to /home/runner/.cache/ms-playwright/webkit-1967\n"
     ]
    }
   ],
   "source": [
    "npx -y playwright@1.41.2 install"
   ]
  },
  {
   "cell_type": "code",
   "execution_count": null,
   "metadata": {
    "dotnet_interactive": {
     "language": "pwsh"
    },
    "polyglot_notebook": {
     "kernelName": "pwsh"
    }
   },
   "outputs": [],
   "source": [
    "[Net.ServicePointManager]::SecurityProtocol = [Net.SecurityProtocolType]::Tls12"
   ]
  },
  {
   "cell_type": "code",
   "execution_count": null,
   "metadata": {
    "dotnet_interactive": {
     "language": "pwsh"
    },
    "polyglot_notebook": {
     "kernelName": "pwsh"
    }
   },
   "outputs": [],
   "source": [
    "{ Install-Module -Name PowerShellGet -Force -AllowClobber -Scope CurrentUser } | Invoke-Block -OnError Continue"
   ]
  },
  {
   "cell_type": "code",
   "execution_count": null,
   "metadata": {
    "dotnet_interactive": {
     "language": "pwsh"
    },
    "polyglot_notebook": {
     "kernelName": "pwsh"
    }
   },
   "outputs": [
    {
     "name": "stdout",
     "output_type": "stream",
     "text": [
      "\n",
      "# Invoke-Block / $Retry: 1 / $OnError: Continue / $exitcode: 0 / $EnvVars: null / $Error: 'Cannot find a variable with the name 'PackageManagementProvider'. Cannot find a variable with the name 'SourceLocation'.' / $ScriptBlock:\n",
      "'Set-PSRepository -Name PSGallery -InstallationPolicy Trusted'\n",
      "\n"
     ]
    }
   ],
   "source": [
    "{ Set-PSRepository -Name PSGallery -InstallationPolicy Trusted } | Invoke-Block -OnError Continue"
   ]
  },
  {
   "cell_type": "code",
   "execution_count": null,
   "metadata": {
    "dotnet_interactive": {
     "language": "pwsh"
    },
    "polyglot_notebook": {
     "kernelName": "pwsh"
    }
   },
   "outputs": [
    {
     "name": "stdout",
     "output_type": "stream",
     "text": [
      "What if: Performing the operation \"Install-Module\" on target \"Version '0.3.1' of module 'PSToml'\".\n"
     ]
    }
   ],
   "source": [
    "{ Install-Module -Name PSToml -Scope CurrentUser -WhatIf } | Invoke-Block -OnError Continue"
   ]
  },
  {
   "cell_type": "code",
   "execution_count": null,
   "metadata": {
    "dotnet_interactive": {
     "language": "pwsh"
    },
    "polyglot_notebook": {
     "kernelName": "pwsh"
    }
   },
   "outputs": [
    {
     "name": "stdout",
     "output_type": "stream",
     "text": [
      "Lockfile is up to date, resolution step is skipped\n",
      "Progress: resolved 1, reused 0, downloaded 0, added 0\n",
      "Packages: +302\n",
      "++++++++++++++++++++++++++++++++++++++++++++++++++++++++++++++++++++++++++++++++\n",
      "Progress: resolved 302, reused 0, downloaded 233, added 226\n",
      "Progress: resolved 302, reused 0, downloaded 301, added 301\n",
      "Progress: resolved 302, reused 0, downloaded 302, added 302, done\n",
      "\n",
      "devDependencies:\n",
      "+ @types/node 20.11.20\n",
      "+ npm-check-updates 16.14.11\n",
      "+ typescript 5.4.0-dev.20231129\n",
      "\n",
      "Done in 2.8s\n"
     ]
    }
   ],
   "source": [
    "{ pnpm -C .. install --frozen-lockfile } | Invoke-Block"
   ]
  },
  {
   "cell_type": "code",
   "execution_count": null,
   "metadata": {
    "dotnet_interactive": {
     "language": "pwsh"
    },
    "polyglot_notebook": {
     "kernelName": "pwsh"
    }
   },
   "outputs": [
    {
     "name": "stdout",
     "output_type": "stream",
     "text": [
      "\u001B[31;1mCloning into 'The-Spiral-Language'...\u001B[0m\n",
      "Already up to date.\n",
      "MSBuild version 17.10.0-preview-24101-01+07fd5d51f for .NET\n",
      "  Determining projects to restore...\n",
      "  Restored /home/runner/work/polyglot/polyglot/deps/The-Spiral-Language/The Spiral Language 2/The Spiral Language 2.fsproj (in 311 ms).\n",
      "/usr/share/dotnet/sdk/9.0.100-preview.1.24101.2/Sdks/Microsoft.NET.Sdk/targets/Microsoft.NET.RuntimeIdentifierInference.targets(313,5): message NETSDK1057: You are using a preview version of .NET. See: https://aka.ms/dotnet-support-policy [/home/runner/work/polyglot/polyglot/deps/The-Spiral-Language/The Spiral Language 2/The Spiral Language 2.fsproj]\n",
      "  The Spiral Language 2 -> /home/runner/work/polyglot/polyglot/deps/The-Spiral-Language/The Spiral Language 2/artifacts/bin/The Spiral Language 2/release/Spiral.dll\n",
      "\n",
      "Build succeeded.\n",
      "    0 Warning(s)\n",
      "    0 Error(s)\n",
      "\n",
      "Time Elapsed 00:00:24.26\n"
     ]
    }
   ],
   "source": [
    "{ . \"$ScriptDir/dep_spiral.ps1\" } | Invoke-Block"
   ]
  },
  {
   "cell_type": "code",
   "execution_count": null,
   "metadata": {
    "dotnet_interactive": {
     "language": "pwsh"
    },
    "polyglot_notebook": {
     "kernelName": "pwsh"
    }
   },
   "outputs": [],
   "source": [
    "{ . \"$ScriptDir/dep_spiral_extension.ps1\" } | Invoke-Block"
   ]
  },
  {
   "cell_type": "code",
   "execution_count": null,
   "metadata": {
    "dotnet_interactive": {
     "language": "pwsh"
    },
    "polyglot_notebook": {
     "kernelName": "pwsh"
    }
   },
   "outputs": [
    {
     "name": "stdout",
     "output_type": "stream",
     "text": [
      "\u001B[31;1mCloning into 'Fable'...\u001B[0m\n",
      "Already up to date.\n",
      "Tool path: /home/runner/.nuget/packages/fable/4.13.0/tools/net6.0/any\n",
      "MSBuild version 17.10.0-preview-24101-01+07fd5d51f for .NET\n",
      "  Determining projects to restore...\n",
      "  Restored /home/runner/work/polyglot/polyglot/deps/Fable/src/Fable.Transforms/Fable.Transforms.fsproj (in 332 ms).\n",
      "  Restored /home/runner/work/polyglot/polyglot/deps/Fable/src/Fable.Transforms/Rust/AST/Rust.AST.fsproj (in 332 ms).\n",
      "  Restored /home/runner/work/polyglot/polyglot/deps/Fable/src/Fable.AST/Fable.AST.fsproj (in 332 ms).\n",
      "  Restored /home/runner/work/polyglot/polyglot/deps/Fable/src/Fable.Compiler/Fable.Compiler.fsproj (in 9 ms).\n",
      "  Restored /home/runner/work/polyglot/polyglot/deps/Fable/src/Fable.Cli/Fable.Cli.fsproj (in 425 ms).\n",
      "/usr/share/dotnet/sdk/9.0.100-preview.1.24101.2/Sdks/Microsoft.NET.Sdk/targets/Microsoft.NET.RuntimeIdentifierInference.targets(313,5): message NETSDK1057: You are using a preview version of .NET. See: https://aka.ms/dotnet-support-policy [/home/runner/work/polyglot/polyglot/deps/Fable/src/Fable.Cli/Fable.Cli.fsproj]\n",
      "/usr/share/dotnet/sdk/9.0.100-preview.1.24101.2/Sdks/Microsoft.NET.Sdk/targets/Microsoft.NET.RuntimeIdentifierInference.targets(313,5): message NETSDK1057: You are using a preview version of .NET. See: https://aka.ms/dotnet-support-policy [/home/runner/work/polyglot/polyglot/deps/Fable/src/Fable.Transforms/Fable.Transforms.fsproj]\n",
      "/usr/share/dotnet/sdk/9.0.100-preview.1.24101.2/Sdks/Microsoft.NET.Sdk/targets/Microsoft.NET.RuntimeIdentifierInference.targets(313,5): message NETSDK1057: You are using a preview version of .NET. See: https://aka.ms/dotnet-support-policy [/home/runner/work/polyglot/polyglot/deps/Fable/src/Fable.Transforms/Rust/AST/Rust.AST.fsproj]\n",
      "/usr/share/dotnet/sdk/9.0.100-preview.1.24101.2/Sdks/Microsoft.NET.Sdk/targets/Microsoft.NET.RuntimeIdentifierInference.targets(313,5): message NETSDK1057: You are using a preview version of .NET. See: https://aka.ms/dotnet-support-policy [/home/runner/work/polyglot/polyglot/deps/Fable/src/Fable.AST/Fable.AST.fsproj]\n",
      "  Fable.AST -> /home/runner/work/polyglot/polyglot/deps/Fable/src/Fable.AST/bin/Release/netstandard2.0/Fable.AST.dll\n",
      "  Rust.AST -> /home/runner/work/polyglot/polyglot/deps/Fable/src/Fable.Transforms/Rust/AST/bin/Release/netstandard2.0/Rust.AST.dll\n",
      "/usr/share/dotnet/sdk/9.0.100-preview.1.24101.2/Microsoft.Common.CurrentVersion.targets(2401,5): warning MSB3277: Found conflicts between different versions of \"System.Memory\" that could not be resolved. [/home/runner/work/polyglot/polyglot/deps/Fable/src/Fable.Transforms/Fable.Transforms.fsproj]\n",
      "/usr/share/dotnet/sdk/9.0.100-preview.1.24101.2/Microsoft.Common.CurrentVersion.targets(2401,5): warning MSB3277: There was a conflict between \"System.Memory, Version=4.0.1.1, Culture=neutral, PublicKeyToken=cc7b13ffcd2ddd51\" and \"System.Memory, Version=4.0.1.2, Culture=neutral, PublicKeyToken=cc7b13ffcd2ddd51\". [/home/runner/work/polyglot/polyglot/deps/Fable/src/Fable.Transforms/Fable.Transforms.fsproj]\n",
      "/usr/share/dotnet/sdk/9.0.100-preview.1.24101.2/Microsoft.Common.CurrentVersion.targets(2401,5): warning MSB3277:     \"System.Memory, Version=4.0.1.1, Culture=neutral, PublicKeyToken=cc7b13ffcd2ddd51\" was chosen because it was primary and \"System.Memory, Version=4.0.1.2, Culture=neutral, PublicKeyToken=cc7b13ffcd2ddd51\" was not. [/home/runner/work/polyglot/polyglot/deps/Fable/src/Fable.Transforms/Fable.Transforms.fsproj]\n",
      "/usr/share/dotnet/sdk/9.0.100-preview.1.24101.2/Microsoft.Common.CurrentVersion.targets(2401,5): warning MSB3277:     References which depend on \"System.Memory, Version=4.0.1.1, Culture=neutral, PublicKeyToken=cc7b13ffcd2ddd51\" [/home/runner/.nuget/packages/system.memory/4.5.4/lib/netstandard2.0/System.Memory.dll]. [/home/runner/work/polyglot/polyglot/deps/Fable/src/Fable.Transforms/Fable.Transforms.fsproj]\n",
      "/usr/share/dotnet/sdk/9.0.100-preview.1.24101.2/Microsoft.Common.CurrentVersion.targets(2401,5): warning MSB3277:         /home/runner/.nuget/packages/system.memory/4.5.4/lib/netstandard2.0/System.Memory.dll [/home/runner/work/polyglot/polyglot/deps/Fable/src/Fable.Transforms/Fable.Transforms.fsproj]\n",
      "/usr/share/dotnet/sdk/9.0.100-preview.1.24101.2/Microsoft.Common.CurrentVersion.targets(2401,5): warning MSB3277:           Project file item includes which caused reference \"/home/runner/.nuget/packages/system.memory/4.5.4/lib/netstandard2.0/System.Memory.dll\". [/home/runner/work/polyglot/polyglot/deps/Fable/src/Fable.Transforms/Fable.Transforms.fsproj]\n",
      "/usr/share/dotnet/sdk/9.0.100-preview.1.24101.2/Microsoft.Common.CurrentVersion.targets(2401,5): warning MSB3277:             /home/runner/.nuget/packages/system.memory/4.5.4/lib/netstandard2.0/System.Memory.dll [/home/runner/work/polyglot/polyglot/deps/Fable/src/Fable.Transforms/Fable.Transforms.fsproj]\n",
      "/usr/share/dotnet/sdk/9.0.100-preview.1.24101.2/Microsoft.Common.CurrentVersion.targets(2401,5): warning MSB3277:     References which depend on or have been unified to \"System.Memory, Version=4.0.1.2, Culture=neutral, PublicKeyToken=cc7b13ffcd2ddd51\" []. [/home/runner/work/polyglot/polyglot/deps/Fable/src/Fable.Transforms/Fable.Transforms.fsproj]\n",
      "/usr/share/dotnet/sdk/9.0.100-preview.1.24101.2/Microsoft.Common.CurrentVersion.targets(2401,5): warning MSB3277:         /home/runner/work/polyglot/polyglot/deps/Fable/lib/fcs/FSharp.Compiler.Service.dll [/home/runner/work/polyglot/polyglot/deps/Fable/src/Fable.Transforms/Fable.Transforms.fsproj]\n",
      "/usr/share/dotnet/sdk/9.0.100-preview.1.24101.2/Microsoft.Common.CurrentVersion.targets(2401,5): warning MSB3277:           Project file item includes which caused reference \"/home/runner/work/polyglot/polyglot/deps/Fable/lib/fcs/FSharp.Compiler.Service.dll\". [/home/runner/work/polyglot/polyglot/deps/Fable/src/Fable.Transforms/Fable.Transforms.fsproj]\n",
      "/usr/share/dotnet/sdk/9.0.100-preview.1.24101.2/Microsoft.Common.CurrentVersion.targets(2401,5): warning MSB3277:             ../../lib/fcs/FSharp.Compiler.Service.dll [/home/runner/work/polyglot/polyglot/deps/Fable/src/Fable.Transforms/Fable.Transforms.fsproj]\n",
      "  Fable.Transforms -> /home/runner/work/polyglot/polyglot/deps/Fable/src/Fable.Transforms/bin/Release/netstandard2.0/Fable.Transforms.dll\n",
      "  Fable.Compiler -> /home/runner/work/polyglot/polyglot/deps/Fable/src/Fable.Compiler/bin/Release/net9.0/Fable.Compiler.dll\n",
      "  Fable.Cli -> /home/runner/work/polyglot/polyglot/deps/Fable/src/Fable.Cli/bin/Release/net9.0/fable.dll\n",
      "\n",
      "Build succeeded.\n",
      "\n",
      "/usr/share/dotnet/sdk/9.0.100-preview.1.24101.2/Microsoft.Common.CurrentVersion.targets(2401,5): warning MSB3277: Found conflicts between different versions of \"System.Memory\" that could not be resolved. [/home/runner/work/polyglot/polyglot/deps/Fable/src/Fable.Transforms/Fable.Transforms.fsproj]\n",
      "/usr/share/dotnet/sdk/9.0.100-preview.1.24101.2/Microsoft.Common.CurrentVersion.targets(2401,5): warning MSB3277: There was a conflict between \"System.Memory, Version=4.0.1.1, Culture=neutral, PublicKeyToken=cc7b13ffcd2ddd51\" and \"System.Memory, Version=4.0.1.2, Culture=neutral, PublicKeyToken=cc7b13ffcd2ddd51\". [/home/runner/work/polyglot/polyglot/deps/Fable/src/Fable.Transforms/Fable.Transforms.fsproj]\n",
      "/usr/share/dotnet/sdk/9.0.100-preview.1.24101.2/Microsoft.Common.CurrentVersion.targets(2401,5): warning MSB3277:     \"System.Memory, Version=4.0.1.1, Culture=neutral, PublicKeyToken=cc7b13ffcd2ddd51\" was chosen because it was primary and \"System.Memory, Version=4.0.1.2, Culture=neutral, PublicKeyToken=cc7b13ffcd2ddd51\" was not. [/home/runner/work/polyglot/polyglot/deps/Fable/src/Fable.Transforms/Fable.Transforms.fsproj]\n",
      "/usr/share/dotnet/sdk/9.0.100-preview.1.24101.2/Microsoft.Common.CurrentVersion.targets(2401,5): warning MSB3277:     References which depend on \"System.Memory, Version=4.0.1.1, Culture=neutral, PublicKeyToken=cc7b13ffcd2ddd51\" [/home/runner/.nuget/packages/system.memory/4.5.4/lib/netstandard2.0/System.Memory.dll]. [/home/runner/work/polyglot/polyglot/deps/Fable/src/Fable.Transforms/Fable.Transforms.fsproj]\n",
      "/usr/share/dotnet/sdk/9.0.100-preview.1.24101.2/Microsoft.Common.CurrentVersion.targets(2401,5): warning MSB3277:         /home/runner/.nuget/packages/system.memory/4.5.4/lib/netstandard2.0/System.Memory.dll [/home/runner/work/polyglot/polyglot/deps/Fable/src/Fable.Transforms/Fable.Transforms.fsproj]\n",
      "/usr/share/dotnet/sdk/9.0.100-preview.1.24101.2/Microsoft.Common.CurrentVersion.targets(2401,5): warning MSB3277:           Project file item includes which caused reference \"/home/runner/.nuget/packages/system.memory/4.5.4/lib/netstandard2.0/System.Memory.dll\". [/home/runner/work/polyglot/polyglot/deps/Fable/src/Fable.Transforms/Fable.Transforms.fsproj]\n",
      "/usr/share/dotnet/sdk/9.0.100-preview.1.24101.2/Microsoft.Common.CurrentVersion.targets(2401,5): warning MSB3277:             /home/runner/.nuget/packages/system.memory/4.5.4/lib/netstandard2.0/System.Memory.dll [/home/runner/work/polyglot/polyglot/deps/Fable/src/Fable.Transforms/Fable.Transforms.fsproj]\n",
      "/usr/share/dotnet/sdk/9.0.100-preview.1.24101.2/Microsoft.Common.CurrentVersion.targets(2401,5): warning MSB3277:     References which depend on or have been unified to \"System.Memory, Version=4.0.1.2, Culture=neutral, PublicKeyToken=cc7b13ffcd2ddd51\" []. [/home/runner/work/polyglot/polyglot/deps/Fable/src/Fable.Transforms/Fable.Transforms.fsproj]\n",
      "/usr/share/dotnet/sdk/9.0.100-preview.1.24101.2/Microsoft.Common.CurrentVersion.targets(2401,5): warning MSB3277:         /home/runner/work/polyglot/polyglot/deps/Fable/lib/fcs/FSharp.Compiler.Service.dll [/home/runner/work/polyglot/polyglot/deps/Fable/src/Fable.Transforms/Fable.Transforms.fsproj]\n",
      "/usr/share/dotnet/sdk/9.0.100-preview.1.24101.2/Microsoft.Common.CurrentVersion.targets(2401,5): warning MSB3277:           Project file item includes which caused reference \"/home/runner/work/polyglot/polyglot/deps/Fable/lib/fcs/FSharp.Compiler.Service.dll\". [/home/runner/work/polyglot/polyglot/deps/Fable/src/Fable.Transforms/Fable.Transforms.fsproj]\n",
      "/usr/share/dotnet/sdk/9.0.100-preview.1.24101.2/Microsoft.Common.CurrentVersion.targets(2401,5): warning MSB3277:             ../../lib/fcs/FSharp.Compiler.Service.dll [/home/runner/work/polyglot/polyglot/deps/Fable/src/Fable.Transforms/Fable.Transforms.fsproj]\n",
      "    1 Warning(s)\n",
      "    0 Error(s)\n",
      "\n",
      "Time Elapsed 00:00:34.54\n",
      "fable.dll path: /home/runner/work/polyglot/polyglot/deps/Fable/src/Fable.Cli/bin/Release/net9.0/fable.dll\n",
      "Lib path: /home/runner/.nuget/packages/fable.core/4.3.0/lib/netstandard2.0\n",
      "MSBuild version 17.10.0-preview-24101-01+07fd5d51f for .NET\n",
      "  Determining projects to restore...\n",
      "  Restored /home/runner/work/polyglot/polyglot/deps/Fable/src/Fable.Core/Fable.Core.fsproj (in 212 ms).\n",
      "/usr/share/dotnet/sdk/9.0.100-preview.1.24101.2/Sdks/Microsoft.NET.Sdk/targets/Microsoft.NET.RuntimeIdentifierInference.targets(313,5): message NETSDK1057: You are using a preview version of .NET. See: https://aka.ms/dotnet-support-policy [/home/runner/work/polyglot/polyglot/deps/Fable/src/Fable.Core/Fable.Core.fsproj]\n",
      "  Fable.Core -> /home/runner/work/polyglot/polyglot/deps/Fable/src/Fable.Core/bin/Release/netstandard2.0/Fable.Core.dll\n",
      "\n",
      "Build succeeded.\n",
      "    0 Warning(s)\n",
      "    0 Error(s)\n",
      "\n",
      "Time Elapsed 00:00:03.65\n"
     ]
    }
   ],
   "source": [
    "{ . \"$ScriptDir/dep_fable.ps1\" } | Invoke-Block"
   ]
  },
  {
   "cell_type": "code",
   "execution_count": null,
   "metadata": {
    "dotnet_interactive": {
     "language": "pwsh"
    },
    "polyglot_notebook": {
     "kernelName": "pwsh"
    }
   },
   "outputs": [
    {
     "name": "stdout",
     "output_type": "stream",
     "text": [
      "\u001B[31;1mCloning into 'hyperui'...\u001B[0m\n",
      "Already up to date.\n",
      "yarn install v1.22.21\n",
      "[1/4] Resolving packages...\n",
      "[2/4] Fetching packages...\n",
      "\u001B[31;1m(node:62226) [DEP0040] DeprecationWarning: The `punycode` module is deprecated. Please use a userland alternative instead.\u001B[0m\n",
      "\u001B[31;1m(Use `node --trace-deprecation ...` to show where the warning was created)\u001B[0m\n",
      "[3/4] Linking dependencies...\n",
      "\u001B[31;1mwarning \"eslint-config-next > @typescript-eslint/parser > @typescript-eslint/typescript-estree > ts-api-utils@1.0.2\" has unmet peer dependency \"typescript@>=4.2.0\".\u001B[0m\n",
      "[4/4] Building fresh packages...\n",
      "Done in 17.10s.\n",
      "yarn run v1.22.21\n",
      "$ next build\n",
      "- warn No build cache found. Please configure build caching for faster rebuilds. Read more: https://nextjs.org/docs/messages/no-cache\n",
      "Attention: Next.js now collects completely anonymous telemetry regarding usage.\n",
      "This information is used to shape Next.js' roadmap and prioritize features.\n",
      "You can learn more, including how to opt-out if you'd not like to participate in this anonymous program, by visiting the following URL:\n",
      "https://nextjs.org/telemetry\n",
      "\n",
      "- info Creating an optimized production build...\n",
      "\u001B[31;1m(node:62256) [DEP0040] DeprecationWarning: The `punycode` module is deprecated. Please use a userland alternative instead.\u001B[0m\n",
      "\u001B[31;1m(Use `node --trace-deprecation ...` to show where the warning was created)\u001B[0m\n",
      "\u001B[31;1mBrowserslist: caniuse-lite is outdated. Please run:\u001B[0m\n",
      "\u001B[31;1m  npx update-browserslist-db@latest\u001B[0m\n",
      "\u001B[31;1m  Why you should do it regularly: https://github.com/browserslist/update-db#readme\u001B[0m\n",
      "\u001B[31;1mBrowserslist: caniuse-lite is outdated. Please run:\u001B[0m\n",
      "\u001B[31;1m  npx browserslist@latest --update-db\u001B[0m\n",
      "\u001B[31;1m  Why you should do it regularly: https://github.com/browserslist/browserslist#browsers-data-updating\u001B[0m\n",
      "- info Compiled successfully\n",
      "- info Linting and checking validity of types...\n",
      "- info Collecting page data...\n",
      "- info Generating static pages (0/6)\n",
      "- info Generating static pages (1/6)\n",
      "\u001B[31;1m- warn \u001B[0m\n",
      "\u001B[31;1mmetadata.metadataBase is not set for resolving social open graph or twitter images, using \"http://localhost:3000\". See https://nextjs.org/docs/app/api-reference/functions/generate-metadata#metadatabase\u001B[0m\n",
      "- info Generating static pages (2/6)\n",
      "\u001B[31;1m- warn \u001B[0m\n",
      "\u001B[31;1mmetadata.metadataBase is not set for resolving social open graph or twitter images, using \"http://localhost:3000\". See https://nextjs.org/docs/app/api-reference/functions/generate-metadata#metadatabase\u001B[0m\n",
      "- info Generating static pages (4/6)\n",
      "- info Generating static pages (6/6)\n",
      "- info Finalizing page optimization...\n",
      "\n",
      "Route (app)                                Size     First Load JS\n",
      "┌ ○ /                                      181 B          84.6 kB\n",
      "├ ● /[components]/[category]               181 B          84.6 kB\n",
      "├ ● /[components]/[category]/[collection]  3.55 kB        99.6 kB\n",
      "├ ● /about/[slug]                          3.41 kB          82 kB\n",
      "├ ○ /api/search                            0 B                0 B\n",
      "├ ○ /blog                                  181 B          84.6 kB\n",
      "├ ● /blog/[slug]                           2.85 kB        93.1 kB\n",
      "└ ○ /sitemap.xml                           0 B                0 B\n",
      "+ First Load JS shared by all              78.6 kB\n",
      "  ├ chunks/596-ef6f8f5604ac81a7.js         26.1 kB\n",
      "  ├ chunks/fd9d1056-ae0ceb7ffa373b0f.js    50.6 kB\n",
      "  ├ chunks/main-app-f6770747d1b7df0f.js    219 B\n",
      "  └ chunks/webpack-c339567b9fa18577.js     1.74 kB\n",
      "\n",
      "Route (pages)                              Size     First Load JS\n",
      "─ ○ /404                                   181 B          76.6 kB\n",
      "+ First Load JS shared by all              76.4 kB\n",
      "  ├ chunks/framework-8883d1e9be70c3da.js   45 kB\n",
      "  ├ chunks/main-9e0ffd36f36951ba.js        29.4 kB\n",
      "  ├ chunks/pages/_app-52924524f99094ab.js  195 B\n",
      "  └ chunks/webpack-c339567b9fa18577.js     1.74 kB\n",
      "\n",
      "○  (Static)  automatically rendered as static HTML (uses no initial props)\n",
      "●  (SSG)     automatically generated as static HTML + JSON (uses getStaticProps)\n",
      "\n",
      "$ yarn css\n",
      "$ yarn css:components && yarn css:blogs\n",
      "$ npx tailwindcss -i src/styles/components.css -o public/components.css -m\n",
      "\u001B[31;1mBrowserslist: caniuse-lite is outdated. Please run:\u001B[0m\n",
      "\u001B[31;1m  npx update-browserslist-db@latest\u001B[0m\n",
      "\u001B[31;1m  Why you should do it regularly: https://github.com/browserslist/update-db#readme\u001B[0m\n",
      "\u001B[31;1mBrowserslist: caniuse-lite is outdated. Please run:\u001B[0m\n",
      "\u001B[31;1m  npx update-browserslist-db@latest\u001B[0m\n",
      "\u001B[31;1m  Why you should do it regularly: https://github.com/browserslist/update-db#readme\u001B[0m\n",
      "\u001B[31;1m\u001B[0m\n",
      "\u001B[31;1mRebuilding...\u001B[0m\n",
      "\u001B[31;1m\u001B[0m\n",
      "\u001B[31;1mDone in 1140ms.\u001B[0m\n",
      "$ npx tailwindcss -i src/styles/blogs.css -o public/blogs.css -m\n",
      "\u001B[31;1mBrowserslist: caniuse-lite is outdated. Please run:\u001B[0m\n",
      "\u001B[31;1m  npx update-browserslist-db@latest\u001B[0m\n",
      "\u001B[31;1m  Why you should do it regularly: https://github.com/browserslist/update-db#readme\u001B[0m\n",
      "\u001B[31;1mBrowserslist: caniuse-lite is outdated. Please run:\u001B[0m\n",
      "\u001B[31;1m  npx update-browserslist-db@latest\u001B[0m\n",
      "\u001B[31;1m  Why you should do it regularly: https://github.com/browserslist/update-db#readme\u001B[0m\n",
      "\u001B[31;1m\u001B[0m\n",
      "\u001B[31;1mRebuilding...\u001B[0m\n",
      "\u001B[31;1m\u001B[0m\n",
      "\u001B[31;1mDone in 434ms.\u001B[0m\n",
      "Done in 25.28s.\n"
     ]
    }
   ],
   "source": [
    "{ . \"$ScriptDir/dep_hyperui.ps1\" } | Invoke-Block"
   ]
  }
 ],
 "metadata": {},
 "nbformat": 4,
 "nbformat_minor": 5
}