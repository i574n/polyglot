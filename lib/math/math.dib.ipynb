{
 "cells": [
  {
   "cell_type": "markdown",
   "metadata": {},
   "source": [
    "# math"
   ]
  },
  {
   "cell_type": "code",
   "execution_count": null,
   "metadata": {
    "dotnet_interactive": {
     "language": "spiral"
    },
    "polyglot_notebook": {
     "kernelName": "spiral"
    }
   },
   "outputs": [
    {
     "name": "stdout",
     "output_type": "stream",
     "text": [
      "()\n",
      "\n"
     ]
    }
   ],
   "source": [
    "// // test\n",
    "\n",
    "open testing\n",
    "open rust_operators"
   ]
  },
  {
   "cell_type": "code",
   "execution_count": null,
   "metadata": {
    "dotnet_interactive": {
     "language": "spiral"
    },
    "polyglot_notebook": {
     "kernelName": "spiral"
    }
   },
   "outputs": [
    {
     "name": "stdout",
     "output_type": "stream",
     "text": [
      "()\n",
      "\n"
     ]
    }
   ],
   "source": [
    "inl types () =\n",
    "    global \"[<Fable.Core.Erase; Fable.Core.Emit(\\\"num_complex::Complex<$0>\\\")>] type num_complex_Complex<'T> = class end\"\n",
    "    global \"[<Fable.Core.Erase; Fable.Core.Emit(\\\"pyo3::types::PyModule\\\")>] type pyo3_types_PyModule = class end\"\n",
    "    global \"[<Fable.Core.Erase; Fable.Core.Emit(\\\"pyo3::Bound<$0>\\\")>] type pyo3_Bound<'T> = class end\"\n",
    "    global \"[<Fable.Core.Erase; Fable.Core.Emit(\\\"pyo3::Python\\\")>] type pyo3_Python = class end\"\n",
    "    global \"[<Fable.Core.Erase; Fable.Core.Emit(\\\"pyo3::PyAny\\\")>] type pyo3_PyAny = class end\"\n",
    "    global \"[<Fable.Core.Erase; Fable.Core.Emit(\\\"pyo3::PyErr\\\")>] type pyo3_PyErr = class end\""
   ]
  },
  {
   "cell_type": "code",
   "execution_count": null,
   "metadata": {
    "dotnet_interactive": {
     "language": "spiral"
    },
    "polyglot_notebook": {
     "kernelName": "spiral"
    }
   },
   "outputs": [
    {
     "name": "stdout",
     "output_type": "stream",
     "text": [
      "()\n",
      "\n"
     ]
    }
   ],
   "source": [
    "inl types () =\n",
    "    rust.types ()\n",
    "    sm'.types ()\n",
    "    types ()"
   ]
  },
  {
   "cell_type": "markdown",
   "metadata": {},
   "source": [
    "## complex"
   ]
  },
  {
   "cell_type": "code",
   "execution_count": null,
   "metadata": {
    "dotnet_interactive": {
     "language": "spiral"
    },
    "polyglot_notebook": {
     "kernelName": "spiral"
    }
   },
   "outputs": [
    {
     "name": "stdout",
     "output_type": "stream",
     "text": [
      "()\n",
      "\n"
     ]
    }
   ],
   "source": [
    "nominal complex t = $\"num_complex_Complex<`t>\"\n",
    "nominal bound t = $\"pyo3_Bound<`t>\"\n",
    "nominal python = $\"pyo3_Python\"\n",
    "nominal pymodule = $\"pyo3_types_PyModule\"\n",
    "nominal pyany = $\"pyo3_PyAny\"\n",
    "nominal pyerr = $\"pyo3_PyErr\"\n",
    "\n",
    "inl complex forall t. ((re : t), (im : t)) : complex t =\n",
    "    inl re = join re\n",
    "    inl im = join im\n",
    "    !\\($'\"num_complex::Complex::new(!re, !im)\"')"
   ]
  },
  {
   "cell_type": "code",
   "execution_count": null,
   "metadata": {
    "dotnet_interactive": {
     "language": "spiral"
    },
    "polyglot_notebook": {
     "kernelName": "spiral"
    }
   },
   "outputs": [
    {
     "data": {
      "text/plain": [
       ".rs output:\n",
       "\n"
      ]
     },
     "metadata": {},
     "output_type": "display_data"
    },
    {
     "name": "stdout",
     "output_type": "stream",
     "text": [
      "\n",
      ".fsx:\n",
      "[<Fable.Core.Erase; Fable.Core.Emit(\"Func0<$0>\")>] type Func0<'T> = class end\n",
      "[<Fable.Core.Erase; Fable.Core.Emit(\"Func1<$0, $1>\")>] type Func0<'T, 'U> = class end\n",
      "[<Fable.Core.Erase; Fable.Core.Emit(\"Box<$0>\")>] type Box<'T> = class end\n",
      "[<Fable.Core.Erase; Fable.Core.Emit(\"dyn $0\")>] type Dyn<'T> = class end\n",
      "[<Fable.Core.Erase; Fable.Core.Emit(\"Fn() -> $0\")>] type Fn<'T> = class end\n",
      "[<Fable.Core.Erase; Fable.Core.Emit(\"Fn()\")>] type FnUnit = class end\n",
      "[<Fable.Core.Erase; Fable.Core.Emit(\"FnOnce() -> $0\")>] type FnOnce<'T> = class end\n",
      "[<Fable.Core.Erase; Fable.Core.Emit(\"Fn($0, $1)\")>] type ActionFn2<'T, 'U> = class end\n",
      "[<Fable.Core.Erase; Fable.Core.Emit(\"impl $0\")>] type Impl<'T> = class end\n",
      "[<Fable.Core.Erase; Fable.Core.Emit(\"mut $0\")>] type Mut<'T> = class end\n",
      "[<Fable.Core.Erase; Fable.Core.Emit(\"&$0\")>] type Ref<'T> = class end\n",
      "[<Fable.Core.Erase; Fable.Core.Emit(\"&'static $0\")>] type StaticRef<'T> = class end\n",
      "[<Fable.Core.Erase; Fable.Core.Emit(\"MutCell<$0>\")>] type MutCell<'T> = class end\n",
      "[<Fable.Core.Erase; Fable.Core.Emit(\"std::any::Any\")>] type std_any_Any = class end\n",
      "[<Fable.Core.Erase; Fable.Core.Emit(\"std::cell::RefCell<$0>\")>] type std_cell_RefCell<'T> = class end\n",
      "[<Fable.Core.Erase; Fable.Core.Emit(\"std::pin::Pin<$0>\")>] type std_pin_Pin<'T> = class end\n",
      "[<Fable.Core.Erase; Fable.Core.Emit(\"std::rc::Rc<$0>\")>] type std_rc_Rc<'T> = class end\n",
      "[<Fable.Core.Erase; Fable.Core.Emit(\"std::rc::Weak<$0>\")>] type std_rc_Weak<'T> = class end\n",
      "[<Fable.Core.Erase; Fable.Core.Emit(\"std::sync::Arc<$0>\")>] type std_sync_Arc<'T> = class end\n",
      "[<Fable.Core.Erase; Fable.Core.Emit(\"str\")>] type Str = class end\n",
      "[<Fable.Core.Erase; Fable.Core.Emit(\"base64::DecodeError\")>] type base64_DecodeError = class end\n",
      "[<Fable.Core.Erase; Fable.Core.Emit(\"borsh::io::Error\")>] type borsh_io_Error = class end\n",
      "[<Fable.Core.Erase; Fable.Core.Emit(\"js_sys::JsString\")>] type js_sys_JsString = class end\n",
      "[<Fable.Core.Erase; Fable.Core.Emit(\"serde_json::Error\")>] type serde_json_Error = class end\n",
      "[<Fable.Core.Erase; Fable.Core.Emit(\"serde_json::Value\")>] type serde_json_Value = class end\n",
      "[<Fable.Core.Erase; Fable.Core.Emit(\"serde_wasm_bindgen::Error\")>] type serde_wasm_bindgen_Error = class end\n",
      "[<Fable.Core.Erase; Fable.Core.Emit(\"std::str::Utf8Error\")>] type std_str_Utf8Error = class end\n",
      "[<Fable.Core.Erase; Fable.Core.Emit(\"std::string::String\")>] type std_string_String = class end\n",
      "[<Fable.Core.Erase; Fable.Core.Emit(\"num_complex::Complex<$0>\")>] type num_complex_Complex<'T> = class end\n",
      "[<Fable.Core.Erase; Fable.Core.Emit(\"pyo3::types::PyModule\")>] type pyo3_types_PyModule = class end\n",
      "[<Fable.Core.Erase; Fable.Core.Emit(\"pyo3::Bound<$0>\")>] type pyo3_Bound<'T> = class end\n",
      "[<Fable.Core.Erase; Fable.Core.Emit(\"pyo3::Python\")>] type pyo3_Python = class end\n",
      "[<Fable.Core.Erase; Fable.Core.Emit(\"pyo3::PyAny\")>] type pyo3_PyAny = class end\n",
      "[<Fable.Core.Erase; Fable.Core.Emit(\"pyo3::PyErr\")>] type pyo3_PyErr = class end\n",
      "let rec method1 () : float =\n",
      "    0.0\n",
      "and method2 () : float =\n",
      "    0.0\n",
      "and method3 (v0 : std_string_String) : std_string_String =\n",
      "    v0\n",
      "and method4 (v0 : bool) : bool =\n",
      "    v0\n",
      "and method0 () : unit =\n",
      "    let v0 : float = method1()\n",
      "    let v1 : float = method2()\n",
      "    let v2 : string = \"num_complex::Complex::new(v0, v1)\"\n",
      "    let v3 : num_complex_Complex<float> = Fable.Core.RustInterop.emitRustExpr () v2\n",
      "    let v4 : string = @$\"format!(\"\"{{}}\"\", $0)\"\n",
      "    let v5 : std_string_String = Fable.Core.RustInterop.emitRustExpr v3 v4\n",
      "    let v6 : std_string_String = method3(v5)\n",
      "    let v7 : string = \"fable_library_rust::String_::fromString(v6)\"\n",
      "    let v8 : string = Fable.Core.RustInterop.emitRustExpr () v7\n",
      "    let v10 : bool = v8 = \"0+0i\"\n",
      "    let v12 : bool =\n",
      "        if v10 then\n",
      "            true\n",
      "        else\n",
      "            method4(v10)\n",
      "    let v13 : string = \"0+0i\"\n",
      "    let v14 : string = $\"__expect / actual: %A{v8} / expected: %A{v13}\"\n",
      "    let v15 : bool = v12 = false\n",
      "    if v15 then\n",
      "        failwith<unit> v14\n",
      "method0()\n",
      "\n",
      ".rs:\n",
      "#![allow(dead_code,)]\n",
      "#![allow(non_camel_case_types,)]\n",
      "#![allow(non_snake_case,)]\n",
      "#![allow(non_upper_case_globals,)]\n",
      "#![allow(unreachable_code,)]\n",
      "#![allow(unused_attributes,)]\n",
      "#![allow(unused_imports,)]\n",
      "#![allow(unused_macros,)]\n",
      "#![allow(unused_parens,)]\n",
      "#![allow(unused_variables,)]\n",
      "mod module_ccfa04bf {\n",
      "    pub mod Spiral_eval {\n",
      "        use super::*;\n",
      "        use fable_library_rust::Native_::on_startup;\n",
      "        use fable_library_rust::String_::sprintf;\n",
      "        use fable_library_rust::String_::string;\n",
      "        pub fn method1() -> f64 { 0.0_f64 }\n",
      "        pub fn method2() -> f64 { 0.0_f64 }\n",
      "        pub fn method3(v0: std::string::String) -> std::string::String { v0 }\n",
      "        pub fn method4(v0: bool) -> bool { v0 }\n",
      "        pub fn method0() {\n",
      "            let v0: f64 = Spiral_eval::method1();\n",
      "            let v1: f64 = Spiral_eval::method2();\n",
      "            let v3: num_complex::Complex<f64> =\n",
      "                num_complex::Complex::new(v0, v1);\n",
      "            let v6: std::string::String =\n",
      "                Spiral_eval::method3(format!(\"{}\", v3));\n",
      "            let v8: string = fable_library_rust::String_::fromString(v6);\n",
      "            let v10: bool = v8.clone() == string(\"0+0i\");\n",
      "            if (if v10 { true } else { Spiral_eval::method4(v10) }) == false {\n",
      "                panic!(\"{}\",\n",
      "                       sprintf!(\"__expect / actual: {:?} / expected: {:?}\", v8, string(\"0+0i\")));\n",
      "            }\n",
      "        }\n",
      "        on_startup!(Spiral_eval::method0());\n",
      "    }\n",
      "}\n",
      "pub use module_ccfa04bf::*;\n",
      "\n"
     ]
    }
   ],
   "source": [
    "// // test\n",
    "// // rust=\n",
    "\n",
    "types ()\n",
    "\n",
    "complex (0f64, 0f64)\n",
    "|> sm'.format'\n",
    "|> sm'.from_std_string\n",
    "|> _assert_eq \"0+0i\""
   ]
  },
  {
   "cell_type": "markdown",
   "metadata": {},
   "source": [
    "## run_test"
   ]
  },
  {
   "cell_type": "code",
   "execution_count": null,
   "metadata": {
    "dotnet_interactive": {
     "language": "spiral"
    },
    "polyglot_notebook": {
     "kernelName": "spiral"
    }
   },
   "outputs": [
    {
     "name": "stdout",
     "output_type": "stream",
     "text": [
      "()\n",
      "\n"
     ]
    }
   ],
   "source": [
    "inl re forall t. (c : complex t) : t =\n",
    "    !\\($'\"!c.re\"')\n",
    "\n",
    "inl im forall t. (c : complex t) : t =\n",
    "    !\\($'\"!c.im\"')\n",
    "\n",
    "inl complex_unbox forall t. (c : complex t) =\n",
    "    c |> re, c |> im\n",
    "\n",
    "inl powc forall t. (s : complex t) (c : complex t) : complex t =\n",
    "    !\\($'\"num_complex::Complex::powc(!c, !s)\"')\n",
    "\n",
    "inl complex_sub forall t. (a : complex t) (b : complex t) : complex t =\n",
    "    !\\($'\"!a - !b\"')\n",
    "\n",
    "inl complex_mult forall t. (a : complex t) (b : complex t) : complex t =\n",
    "    !\\($'\"!a * !b\"')\n",
    "\n",
    "inl complex_div forall t. (a : complex t) (b : complex t) : complex t =\n",
    "    !\\($'\"!a / !b\"')\n",
    "\n",
    "inl complex_sin forall t. (c : complex t) : complex t =\n",
    "    !\\($'\"!c.sin()\"')\n",
    "\n",
    "inl conj forall t. (c : complex t) : complex t =\n",
    "    !\\($'\"!c.conj()\"')\n",
    "\n",
    "inl module_from_code (py : python) (code : string) : resultm.result' (bound pymodule) pyerr =\n",
    "    inl py = join py\n",
    "    inl code = code |> sm'.as_str\n",
    "    !\\($'\"pyo3::types::PyModule::from_code_bound(!py, !code, \\\\\"\\\\\", \\\\\"\\\\\")\"')\n",
    "\n",
    "inl use_pyanymethods () =\n",
    "    global \"Fable.Core.RustInterop.emitRustExpr () \\\");\\nuse pyo3::prelude::PyAnyMethods;\\n//\\\"\"\n",
    "\n",
    "inl getattr (attr : string) (module : bound pymodule) : resultm.result' (bound pyany) pyerr =\n",
    "    inl attr = attr |> sm'.as_str\n",
    "    inl module = join module\n",
    "    use_pyanymethods ()\n",
    "    !\\($'\"!module.getattr(!attr)\"')\n",
    "\n",
    "inl call forall t. (args : t) (module : bound pyany) : resultm.result' (bound pyany) pyerr =\n",
    "    inl args = join args\n",
    "    inl module = join module\n",
    "    !\\($'\"pyo3::prelude::PyAnyMethods::call(&!module, (*(*!args).0, ()), None)\"')\n",
    "\n",
    "inl extract forall t. (result : bound pyany) : resultm.result' t pyerr =\n",
    "    inl result = join result\n",
    "    use_pyanymethods ()\n",
    "    !\\($'\"!result.extract()\"')\n",
    "\n",
    "inl eval py code args =\n",
    "    inl code =\n",
    "        code\n",
    "        |> module_from_code py\n",
    "        |> resultm.unwrap'\n",
    "    inl fn =\n",
    "        code\n",
    "        |> getattr \"fn\"\n",
    "        |> fun x => x : _ _ pyerr\n",
    "        |> resultm.unwrap'\n",
    "\n",
    "    fn\n",
    "    |> call args\n",
    "    |> resultm.unwrap'\n",
    "    |> extract\n",
    "    |> fun x => x : _ _ pyerr\n",
    "    |> resultm.unwrap'\n",
    "    |> complex\n",
    "    |> Ok\n",
    "    |> fun x => x : _ _ pyerr\n",
    "    |> resultm.box\n",
    "\n",
    "inl gamma_ py s =\n",
    "    inl code =\n",
    "        ;[\n",
    "            \"import mpmath\"\n",
    "            \"def fn(s, _):\"\n",
    "            \"    s = complex(*s)\"\n",
    "            \"    s = mpmath.gamma(s)\"\n",
    "            \"    return (s.real, s.imag)\"\n",
    "        ]\n",
    "    inl code = (a code : _ i32 _) |> sm'.concat_array_trailing \"\\n\"\n",
    "\n",
    "    inl s = new_pair (s |> re) (s |> im)\n",
    "    inl args = new_pair s ()\n",
    "\n",
    "    eval py code args\n",
    "\n",
    "inl zeta_ py s =\n",
    "    inl code =\n",
    "        ;[\n",
    "            \"import mpmath\"\n",
    "            \"def fn(s, _):\"\n",
    "            \"    s = complex(*s)\"\n",
    "            \"    try:\"\n",
    "            \"        s = mpmath.zeta(s)\"\n",
    "            \"    except ValueError as e:\"\n",
    "            \"        if s.real == 1:\"\n",
    "            \"            s = complex(float('inf'), 0)\"\n",
    "            \"    return (s.real, s.imag)\"\n",
    "        ]\n",
    "    inl code = (a code : _ i32 _) |> sm'.concat_array_trailing \"\\n\"\n",
    "    \n",
    "    inl s = new_pair (s |> re) (s |> im)\n",
    "    inl args = new_pair s ()\n",
    "\n",
    "    eval py code args\n",
    "\n",
    "inl run_test closure_fix (fn : (complex f64 -> complex f64) * (complex f64 -> complex f64) -> ()) =\n",
    "    inl fn_ (py : python) : resultm.result' () pyerr =\n",
    "        inl zeta = fun (s : complex f64) =>\n",
    "            inl s = zeta_ py s |> resultm.unwrap'\n",
    "            s\n",
    "        inl gamma = fun (s : complex f64) =>\n",
    "            inl s = gamma_ py s |> resultm.unwrap'\n",
    "            s\n",
    "        fn (zeta, gamma)\n",
    "        \n",
    "        Ok ()\n",
    "        |> resultm.box\n",
    "    \n",
    "    join\n",
    "        !\\($'\"pyo3::prepare_freethreaded_python()\"') : ()\n",
    "\n",
    "        !\\($'\"let __result = pyo3::Python::with_gil(|py| -> pyo3::PyResult<()> { //\"')\n",
    "\n",
    "        inl x = fn_\n",
    "        let x' = x (!\\($'\"py\"') : python)\n",
    "        inl x' = join x'\n",
    "        \n",
    "        x' |> rust.fix_closure closure_fix\n",
    "\n",
    "        (!\\($'\"__result\"') : _ () pyerr)\n",
    "        |> resultm.unwrap'"
   ]
  },
  {
   "cell_type": "markdown",
   "metadata": {},
   "source": [
    "## test_zeta_at_2___"
   ]
  },
  {
   "cell_type": "code",
   "execution_count": null,
   "metadata": {
    "dotnet_interactive": {
     "language": "spiral"
    },
    "polyglot_notebook": {
     "kernelName": "spiral"
    }
   },
   "outputs": [
    {
     "data": {
      "text/plain": [
       ".rs output:\n",
       "\n"
      ]
     },
     "metadata": {},
     "output_type": "display_data"
    },
    {
     "name": "stdout",
     "output_type": "stream",
     "text": [
      "\n",
      ".fsx:\n",
      "[<Fable.Core.Erase; Fable.Core.Emit(\"Func0<$0>\")>] type Func0<'T> = class end\n",
      "[<Fable.Core.Erase; Fable.Core.Emit(\"Func1<$0, $1>\")>] type Func0<'T, 'U> = class end\n",
      "[<Fable.Core.Erase; Fable.Core.Emit(\"Box<$0>\")>] type Box<'T> = class end\n",
      "[<Fable.Core.Erase; Fable.Core.Emit(\"dyn $0\")>] type Dyn<'T> = class end\n",
      "[<Fable.Core.Erase; Fable.Core.Emit(\"Fn() -> $0\")>] type Fn<'T> = class end\n",
      "[<Fable.Core.Erase; Fable.Core.Emit(\"Fn()\")>] type FnUnit = class end\n",
      "[<Fable.Core.Erase; Fable.Core.Emit(\"FnOnce() -> $0\")>] type FnOnce<'T> = class end\n",
      "[<Fable.Core.Erase; Fable.Core.Emit(\"Fn($0, $1)\")>] type ActionFn2<'T, 'U> = class end\n",
      "[<Fable.Core.Erase; Fable.Core.Emit(\"impl $0\")>] type Impl<'T> = class end\n",
      "[<Fable.Core.Erase; Fable.Core.Emit(\"mut $0\")>] type Mut<'T> = class end\n",
      "[<Fable.Core.Erase; Fable.Core.Emit(\"&$0\")>] type Ref<'T> = class end\n",
      "[<Fable.Core.Erase; Fable.Core.Emit(\"&'static $0\")>] type StaticRef<'T> = class end\n",
      "[<Fable.Core.Erase; Fable.Core.Emit(\"MutCell<$0>\")>] type MutCell<'T> = class end\n",
      "[<Fable.Core.Erase; Fable.Core.Emit(\"std::any::Any\")>] type std_any_Any = class end\n",
      "[<Fable.Core.Erase; Fable.Core.Emit(\"std::cell::RefCell<$0>\")>] type std_cell_RefCell<'T> = class end\n",
      "[<Fable.Core.Erase; Fable.Core.Emit(\"std::pin::Pin<$0>\")>] type std_pin_Pin<'T> = class end\n",
      "[<Fable.Core.Erase; Fable.Core.Emit(\"std::rc::Rc<$0>\")>] type std_rc_Rc<'T> = class end\n",
      "[<Fable.Core.Erase; Fable.Core.Emit(\"std::rc::Weak<$0>\")>] type std_rc_Weak<'T> = class end\n",
      "[<Fable.Core.Erase; Fable.Core.Emit(\"std::sync::Arc<$0>\")>] type std_sync_Arc<'T> = class end\n",
      "[<Fable.Core.Erase; Fable.Core.Emit(\"str\")>] type Str = class end\n",
      "[<Fable.Core.Erase; Fable.Core.Emit(\"base64::DecodeError\")>] type base64_DecodeError = class end\n",
      "[<Fable.Core.Erase; Fable.Core.Emit(\"borsh::io::Error\")>] type borsh_io_Error = class end\n",
      "[<Fable.Core.Erase; Fable.Core.Emit(\"js_sys::JsString\")>] type js_sys_JsString = class end\n",
      "[<Fable.Core.Erase; Fable.Core.Emit(\"serde_json::Error\")>] type serde_json_Error = class end\n",
      "[<Fable.Core.Erase; Fable.Core.Emit(\"serde_json::Value\")>] type serde_json_Value = class end\n",
      "[<Fable.Core.Erase; Fable.Core.Emit(\"serde_wasm_bindgen::Error\")>] type serde_wasm_bindgen_Error = class end\n",
      "[<Fable.Core.Erase; Fable.Core.Emit(\"std::str::Utf8Error\")>] type std_str_Utf8Error = class end\n",
      "[<Fable.Core.Erase; Fable.Core.Emit(\"std::string::String\")>] type std_string_String = class end\n",
      "[<Fable.Core.Erase; Fable.Core.Emit(\"num_complex::Complex<$0>\")>] type num_complex_Complex<'T> = class end\n",
      "[<Fable.Core.Erase; Fable.Core.Emit(\"pyo3::types::PyModule\")>] type pyo3_types_PyModule = class end\n",
      "[<Fable.Core.Erase; Fable.Core.Emit(\"pyo3::Bound<$0>\")>] type pyo3_Bound<'T> = class end\n",
      "[<Fable.Core.Erase; Fable.Core.Emit(\"pyo3::Python\")>] type pyo3_Python = class end\n",
      "[<Fable.Core.Erase; Fable.Core.Emit(\"pyo3::PyAny\")>] type pyo3_PyAny = class end\n",
      "[<Fable.Core.Erase; Fable.Core.Emit(\"pyo3::PyErr\")>] type pyo3_PyErr = class end\n",
      "Fable.Core.RustInterop.emitRustExpr () \");\n",
      "use pyo3::prelude::PyAnyMethods;\n",
      "//\"\n",
      "type Mut0 = {mutable l0 : int32; mutable l1 : string}\n",
      "let rec method2 () : float =\n",
      "    2.0\n",
      "and method3 () : float =\n",
      "    0.0\n",
      "and method4 (v0 : (string [])) : (string []) =\n",
      "    v0\n",
      "and method5 (v0 : int32, v1 : Mut0) : bool =\n",
      "    let v2 : int32 = v1.l0\n",
      "    let v3 : bool = v2 < v0\n",
      "    v3\n",
      "and method6 (v0 : pyo3_Python) : pyo3_Python =\n",
      "    v0\n",
      "and method7 (v0 : string) : string =\n",
      "    v0\n",
      "and method8 (v0 : Result<pyo3_Bound<pyo3_types_PyModule>, pyo3_PyErr>) : Result<pyo3_Bound<pyo3_types_PyModule>, pyo3_PyErr> =\n",
      "    v0\n",
      "and method9 () : string =\n",
      "    let v0 : string = \"fn\"\n",
      "    v0\n",
      "and method10 (v0 : pyo3_Bound<pyo3_types_PyModule>) : pyo3_Bound<pyo3_types_PyModule> =\n",
      "    v0\n",
      "and method11 (v0 : Result<pyo3_Bound<pyo3_PyAny>, pyo3_PyErr>) : Result<pyo3_Bound<pyo3_PyAny>, pyo3_PyErr> =\n",
      "    v0\n",
      "and method12 (v0 : ((float * float) * unit)) : ((float * float) * unit) =\n",
      "    v0\n",
      "and method13 (v0 : pyo3_Bound<pyo3_PyAny>) : pyo3_Bound<pyo3_PyAny> =\n",
      "    v0\n",
      "and method14 (v0 : pyo3_Bound<pyo3_PyAny>) : pyo3_Bound<pyo3_PyAny> =\n",
      "    v0\n",
      "and method15 (v0 : Result<struct (float * float), pyo3_PyErr>) : Result<struct (float * float), pyo3_PyErr> =\n",
      "    v0\n",
      "and method16 (v0 : float) : float =\n",
      "    v0\n",
      "and method17 (v0 : float) : float =\n",
      "    v0\n",
      "and method18 (v0 : Result<num_complex_Complex<float>, pyo3_PyErr>) : Result<num_complex_Complex<float>, pyo3_PyErr> =\n",
      "    v0\n",
      "and method19 (v0 : bool) : bool =\n",
      "    v0\n",
      "and method20 (v0 : Result<unit, pyo3_PyErr>) : Result<unit, pyo3_PyErr> =\n",
      "    v0\n",
      "and method21 (v0 : Result<unit, pyo3_PyErr>) : Result<unit, pyo3_PyErr> =\n",
      "    v0\n",
      "and method1 () : unit =\n",
      "    let v0 : string = \"pyo3::prepare_freethreaded_python()\"\n",
      "    Fable.Core.RustInterop.emitRustExpr () v0\n",
      "    let v1 : string = \"let __result = pyo3::Python::with_gil(|py| -> pyo3::PyResult<()> { //\"\n",
      "    Fable.Core.RustInterop.emitRustExpr () v1\n",
      "    let v2 : string = \"py\"\n",
      "    let v3 : pyo3_Python = Fable.Core.RustInterop.emitRustExpr () v2\n",
      "    let v4 : float = method2()\n",
      "    let v5 : float = method3()\n",
      "    let v6 : string = \"num_complex::Complex::new(v4, v5)\"\n",
      "    let v7 : num_complex_Complex<float> = Fable.Core.RustInterop.emitRustExpr () v6\n",
      "    let v8 : string = \"import mpmath\"\n",
      "    let v9 : string = \"def fn(s, _):\"\n",
      "    let v10 : string = \"    s = complex(*s)\"\n",
      "    let v11 : string = \"    try:\"\n",
      "    let v12 : string = \"        s = mpmath.zeta(s)\"\n",
      "    let v13 : string = \"    except ValueError as e:\"\n",
      "    let v14 : string = \"        if s.real == 1:\"\n",
      "    let v15 : string = \"            s = complex(float('inf'), 0)\"\n",
      "    let v16 : string = \"    return (s.real, s.imag)\"\n",
      "    let v17 : (string []) = [|v8; v9; v10; v11; v12; v13; v14; v15; v16|]\n",
      "    let v18 : (string []) = method4(v17)\n",
      "    let v19 : int32 = v18.Length\n",
      "    let v20 : string = \"\"\n",
      "    let v21 : Mut0 = {l0 = 0; l1 = v20} : Mut0\n",
      "    while method5(v19, v21) do\n",
      "        let v23 : int32 = v21.l0\n",
      "        let v24 : string = v21.l1\n",
      "        let v25 : string = v18.[int v23]\n",
      "        let v26 : string = \"\\n\"\n",
      "        let v27 : string = v24 + v25 + v26 + \"\"\n",
      "        let v28 : int32 = v23 + 1\n",
      "        v21.l0 <- v28\n",
      "        v21.l1 <- v27\n",
      "        ()\n",
      "    let v29 : string = v21.l1\n",
      "    let v30 : string = \"v7.re\"\n",
      "    let v31 : float = Fable.Core.RustInterop.emitRustExpr () v30\n",
      "    let v32 : string = \"v7.im\"\n",
      "    let v33 : float = Fable.Core.RustInterop.emitRustExpr () v32\n",
      "    let v34 : (float * float) = v31, v33\n",
      "    let v35 : ((float * float) * unit) = v34, ()\n",
      "    let v36 : pyo3_Python = method6(v3)\n",
      "    let v37 : string = method7(v29)\n",
      "    let v38 : string = $\"fable_library_rust::String_::LrcStr::as_str(&v37)\"\n",
      "    let v39 : Ref<Str> = Fable.Core.RustInterop.emitRustExpr () v38\n",
      "    let v40 : string = \"pyo3::types::PyModule::from_code_bound(v36, v39, \\\"\\\", \\\"\\\")\"\n",
      "    let v41 : Result<pyo3_Bound<pyo3_types_PyModule>, pyo3_PyErr> = Fable.Core.RustInterop.emitRustExpr () v40\n",
      "    let v42 : Result<pyo3_Bound<pyo3_types_PyModule>, pyo3_PyErr> = method8(v41)\n",
      "    let v43 : string = \"v42.unwrap()\"\n",
      "    let v44 : pyo3_Bound<pyo3_types_PyModule> = Fable.Core.RustInterop.emitRustExpr () v43\n",
      "    let v45 : string = method9()\n",
      "    let v46 : string = $\"fable_library_rust::String_::LrcStr::as_str(&v45)\"\n",
      "    let v47 : Ref<Str> = Fable.Core.RustInterop.emitRustExpr () v46\n",
      "    let v48 : pyo3_Bound<pyo3_types_PyModule> = method10(v44)\n",
      "    let v49 : string = \"v48.getattr(v47)\"\n",
      "    let v50 : Result<pyo3_Bound<pyo3_PyAny>, pyo3_PyErr> = Fable.Core.RustInterop.emitRustExpr () v49\n",
      "    let v51 : Result<pyo3_Bound<pyo3_PyAny>, pyo3_PyErr> = method11(v50)\n",
      "    let v52 : string = \"v51.unwrap()\"\n",
      "    let v53 : pyo3_Bound<pyo3_PyAny> = Fable.Core.RustInterop.emitRustExpr () v52\n",
      "    let v54 : ((float * float) * unit) = method12(v35)\n",
      "    let v55 : pyo3_Bound<pyo3_PyAny> = method13(v53)\n",
      "    let v56 : string = \"pyo3::prelude::PyAnyMethods::call(&v55, (*(*v54).0, ()), None)\"\n",
      "    let v57 : Result<pyo3_Bound<pyo3_PyAny>, pyo3_PyErr> = Fable.Core.RustInterop.emitRustExpr () v56\n",
      "    let v58 : Result<pyo3_Bound<pyo3_PyAny>, pyo3_PyErr> = method11(v57)\n",
      "    let v59 : string = \"v58.unwrap()\"\n",
      "    let v60 : pyo3_Bound<pyo3_PyAny> = Fable.Core.RustInterop.emitRustExpr () v59\n",
      "    let v61 : pyo3_Bound<pyo3_PyAny> = method14(v60)\n",
      "    let v62 : string = \"v61.extract()\"\n",
      "    let v63 : Result<struct (float * float), pyo3_PyErr> = Fable.Core.RustInterop.emitRustExpr () v62\n",
      "    let v64 : Result<struct (float * float), pyo3_PyErr> = method15(v63)\n",
      "    let v65 : string = \"v64.unwrap()\"\n",
      "    let struct (v66 : float, v67 : float) = Fable.Core.RustInterop.emitRustExpr () v65\n",
      "    let v68 : float = method16(v66)\n",
      "    let v69 : float = method17(v67)\n",
      "    let v70 : string = \"num_complex::Complex::new(v68, v69)\"\n",
      "    let v71 : num_complex_Complex<float> = Fable.Core.RustInterop.emitRustExpr () v70\n",
      "    let v72 : Result<num_complex_Complex<float>, pyo3_PyErr> = Ok v71\n",
      "    let v73 : Result<num_complex_Complex<float>, pyo3_PyErr> = method18(v72)\n",
      "    let v74 : string = \"v73.unwrap()\"\n",
      "    let v75 : num_complex_Complex<float> = Fable.Core.RustInterop.emitRustExpr () v74\n",
      "    let v76 : string = \"v75.im\"\n",
      "    let v77 : float = Fable.Core.RustInterop.emitRustExpr () v76\n",
      "    let v78 : bool = v77 = 0.0\n",
      "    let v80 : bool =\n",
      "        if v78 then\n",
      "            true\n",
      "        else\n",
      "            method19(v78)\n",
      "    let v81 : string = $\"__expect / actual: %A{v77} / expected: %A{0.0}\"\n",
      "    let v82 : bool = v80 = false\n",
      "    if v82 then\n",
      "        failwith<unit> v81\n",
      "    let v83 : string = \"v75.re\"\n",
      "    let v84 : float = Fable.Core.RustInterop.emitRustExpr () v83\n",
      "    let v85 : float = v84 - 1.6449340668482264\n",
      "    let v86 : float =  -v85\n",
      "    let v87 : bool = v85 >= v86\n",
      "    let v88 : float =\n",
      "        if v87 then\n",
      "            v85\n",
      "        else\n",
      "            v86\n",
      "    let v89 : bool = v88 < 0.001\n",
      "    let v91 : bool =\n",
      "        if v89 then\n",
      "            true\n",
      "        else\n",
      "            method19(v89)\n",
      "    let v92 : string = $\"__expect / actual: %A{v88} / expected: %A{0.001}\"\n",
      "    let v93 : bool = v91 = false\n",
      "    if v93 then\n",
      "        failwith<unit> v92\n",
      "    let v94 : Result<unit, pyo3_PyErr> = Ok ()\n",
      "    let v95 : Result<unit, pyo3_PyErr> = method20(v94)\n",
      "    let v96 : string = \"v95 }}}}})\"\n",
      "    Fable.Core.RustInterop.emitRustExpr () v96\n",
      "    let v97 : string = \" {{{{ //\"\n",
      "    Fable.Core.RustInterop.emitRustExpr () v97\n",
      "    let v98 : string = \"__result\"\n",
      "    let v99 : Result<unit, pyo3_PyErr> = Fable.Core.RustInterop.emitRustExpr () v98\n",
      "    let v100 : Result<unit, pyo3_PyErr> = method21(v99)\n",
      "    let v101 : string = \"v100.unwrap()\"\n",
      "    Fable.Core.RustInterop.emitRustExpr () v101\n",
      "    ()\n",
      "and method0 () : unit =\n",
      "    method1()\n",
      "method0()\n",
      "\n",
      ".rs:\n",
      "#![allow(dead_code,)]\n",
      "#![allow(non_camel_case_types,)]\n",
      "#![allow(non_snake_case,)]\n",
      "#![allow(non_upper_case_globals,)]\n",
      "#![allow(unreachable_code,)]\n",
      "#![allow(unused_attributes,)]\n",
      "#![allow(unused_imports,)]\n",
      "#![allow(unused_macros,)]\n",
      "#![allow(unused_parens,)]\n",
      "#![allow(unused_variables,)]\n",
      "mod module_ccfa04bf {\n",
      "    pub mod Spiral_eval {\n",
      "        use super::*;\n",
      "        use fable_library_rust::Native_::LrcPtr;\n",
      "        use fable_library_rust::Native_::MutCell;\n",
      "        use fable_library_rust::Native_::on_startup;\n",
      "        use fable_library_rust::NativeArray_::Array;\n",
      "        use fable_library_rust::NativeArray_::count;\n",
      "        use fable_library_rust::NativeArray_::new_array;\n",
      "        use fable_library_rust::String_::append;\n",
      "        use fable_library_rust::String_::sprintf;\n",
      "        use fable_library_rust::String_::string;\n",
      "        on_startup!();\n",
      "use pyo3::prelude::PyAnyMethods;\n",
      "//,);\n",
      "        #[derive(Clone, Debug, Default, PartialEq, PartialOrd, Hash, Eq,)]\n",
      "        pub struct Mut0 {\n",
      "            pub l0: MutCell<i32>,\n",
      "            pub l1: MutCell<string>,\n",
      "        }\n",
      "        impl core::fmt::Display for Spiral_eval::Mut0 {\n",
      "            fn fmt(&self, f: &mut core::fmt::Formatter) -> core::fmt::Result {\n",
      "                write!(f, \"{}\", core::any::type_name::<Self>())\n",
      "            }\n",
      "        }\n",
      "        pub fn method2() -> f64 { 2.0_f64 }\n",
      "        pub fn method3() -> f64 { 0.0_f64 }\n",
      "        pub fn method4(v0: Array<string>) -> Array<string> { v0 }\n",
      "        pub fn method5(v0: i32, v1: LrcPtr<Spiral_eval::Mut0>) -> bool {\n",
      "            v1.l0.get().clone() < v0\n",
      "        }\n",
      "        pub fn method6(v0: pyo3::Python) -> pyo3::Python { v0 }\n",
      "        pub fn method7(v0: string) -> string { v0 }\n",
      "        pub fn method8(v0:\n",
      "                           Result<pyo3::Bound<pyo3::types::PyModule>,\n",
      "                                  pyo3::PyErr>)\n",
      "         -> Result<pyo3::Bound<pyo3::types::PyModule>, pyo3::PyErr> {\n",
      "            v0\n",
      "        }\n",
      "        pub fn method9() -> string { string(\"fn\") }\n",
      "        pub fn method10(v0: pyo3::Bound<pyo3::types::PyModule>)\n",
      "         -> pyo3::Bound<pyo3::types::PyModule> {\n",
      "            v0\n",
      "        }\n",
      "        pub fn method11(v0: Result<pyo3::Bound<pyo3::PyAny>, pyo3::PyErr>)\n",
      "         -> Result<pyo3::Bound<pyo3::PyAny>, pyo3::PyErr> {\n",
      "            v0\n",
      "        }\n",
      "        pub fn method12(v0_: LrcPtr<(f64, f64)>, v0__1: ())\n",
      "         -> LrcPtr<(LrcPtr<(f64, f64)>, ())> {\n",
      "            LrcPtr::new((v0_, ()))\n",
      "        }\n",
      "        pub fn method13(v0: pyo3::Bound<pyo3::PyAny>)\n",
      "         -> pyo3::Bound<pyo3::PyAny> {\n",
      "            v0\n",
      "        }\n",
      "        pub fn method14(v0: pyo3::Bound<pyo3::PyAny>)\n",
      "         -> pyo3::Bound<pyo3::PyAny> {\n",
      "            v0\n",
      "        }\n",
      "        pub fn method15(v0: Result<(f64, f64), pyo3::PyErr>)\n",
      "         -> Result<(f64, f64), pyo3::PyErr> {\n",
      "            v0\n",
      "        }\n",
      "        pub fn method16(v0: f64) -> f64 { v0 }\n",
      "        pub fn method17(v0: f64) -> f64 { v0 }\n",
      "        pub fn method18(v0: Result<num_complex::Complex<f64>, pyo3::PyErr>)\n",
      "         -> Result<num_complex::Complex<f64>, pyo3::PyErr> {\n",
      "            v0\n",
      "        }\n",
      "        pub fn method19(v0: bool) -> bool { v0 }\n",
      "        pub fn method20(v0: Result<(), pyo3::PyErr>)\n",
      "         -> Result<(), pyo3::PyErr> {\n",
      "            v0\n",
      "        }\n",
      "        pub fn method21(v0: Result<(), pyo3::PyErr>)\n",
      "         -> Result<(), pyo3::PyErr> {\n",
      "            v0\n",
      "        }\n",
      "        pub fn method1() {\n",
      "            pyo3::prepare_freethreaded_python();\n",
      "            let __result = pyo3::Python::with_gil(|py| -> pyo3::PyResult<()> { //;\n",
      "            {\n",
      "                let v3: pyo3::Python = py;\n",
      "                let v4: f64 = Spiral_eval::method2();\n",
      "                let v5: f64 = Spiral_eval::method3();\n",
      "                let v7: num_complex::Complex<f64> =\n",
      "                    num_complex::Complex::new(v4, v5);\n",
      "                let v18: Array<string> =\n",
      "                    Spiral_eval::method4(new_array(&[string(\"import mpmath\"),\n",
      "                                                     string(\"def fn(s, _):\"),\n",
      "                                                     string(\"    s = complex(*s)\"),\n",
      "                                                     string(\"    try:\"),\n",
      "                                                     string(\"        s = mpmath.zeta(s)\"),\n",
      "                                                     string(\"    except ValueError as e:\"),\n",
      "                                                     string(\"        if s.real == 1:\"),\n",
      "                                                     string(\"            s = complex(float(\\'inf\\'), 0)\"),\n",
      "                                                     string(\"    return (s.real, s.imag)\")]));\n",
      "                let v19: i32 = count(v18.clone());\n",
      "                let v21: LrcPtr<Spiral_eval::Mut0> =\n",
      "                    LrcPtr::new(Spiral_eval::Mut0{l0: MutCell::new(0_i32),\n",
      "                                                  l1:\n",
      "                                                      MutCell::new(string(\"\")),});\n",
      "                while Spiral_eval::method5(v19, v21.clone()) {\n",
      "                    let v23: i32 = v21.l0.get().clone();\n",
      "                    let v27: string =\n",
      "                        append(append(append(v21.l1.get().clone(),\n",
      "                                             v18[v23].clone()), string(\"\\n\")),\n",
      "                               string(\"\"));\n",
      "                    let v28: i32 = v23 + 1_i32;\n",
      "                    v21.l0.set(v28);\n",
      "                    v21.l1.set(v27);\n",
      "                    ()\n",
      "                }\n",
      "                {\n",
      "                    let v29: string = v21.l1.get().clone();\n",
      "                    let v31: f64 = v7.re;\n",
      "                    let v33: f64 = v7.im;\n",
      "                    let v36: pyo3::Python = Spiral_eval::method6(v3);\n",
      "                    let v37: string = Spiral_eval::method7(v29);\n",
      "                    let v39: &str =\n",
      "                        fable_library_rust::String_::LrcStr::as_str(&v37);\n",
      "                    let v42:\n",
      "                            Result<pyo3::Bound<pyo3::types::PyModule>,\n",
      "                                   pyo3::PyErr> =\n",
      "                        Spiral_eval::method8(pyo3::types::PyModule::from_code_bound(v36, v39, \"\", \"\"));\n",
      "                    let v44: pyo3::Bound<pyo3::types::PyModule> =\n",
      "                        v42.unwrap();\n",
      "                    let v45: string = Spiral_eval::method9();\n",
      "                    let v47: &str =\n",
      "                        fable_library_rust::String_::LrcStr::as_str(&v45);\n",
      "                    let v48: pyo3::Bound<pyo3::types::PyModule> =\n",
      "                        Spiral_eval::method10(v44);\n",
      "                    let v51: Result<pyo3::Bound<pyo3::PyAny>, pyo3::PyErr> =\n",
      "                        Spiral_eval::method11(v48.getattr(v47));\n",
      "                    let v53: pyo3::Bound<pyo3::PyAny> = v51.unwrap();\n",
      "                    let v54: LrcPtr<(LrcPtr<(f64, f64)>, ())> =\n",
      "                        Spiral_eval::method12((LrcPtr::new((LrcPtr::new((v31,\n",
      "                                                                         v33)),\n",
      "                                                            ()))).0.clone(),\n",
      "                                              ());\n",
      "                    let v55: pyo3::Bound<pyo3::PyAny> =\n",
      "                        Spiral_eval::method13(v53);\n",
      "                    let v58: Result<pyo3::Bound<pyo3::PyAny>, pyo3::PyErr> =\n",
      "                        Spiral_eval::method11(pyo3::prelude::PyAnyMethods::call(&v55, (*(*v54).0, ()), None));\n",
      "                    let v61: pyo3::Bound<pyo3::PyAny> =\n",
      "                        Spiral_eval::method14(v58.unwrap());\n",
      "                    let v64: Result<(f64, f64), pyo3::PyErr> =\n",
      "                        Spiral_eval::method15(v61.extract());\n",
      "                    let patternInput: (f64, f64) = v64.unwrap();\n",
      "                    let v68: f64 =\n",
      "                        Spiral_eval::method16(patternInput.0.clone());\n",
      "                    let v69: f64 =\n",
      "                        Spiral_eval::method17(patternInput.1.clone());\n",
      "                    let v73: Result<num_complex::Complex<f64>, pyo3::PyErr> =\n",
      "                        Spiral_eval::method18(Ok::<num_complex::Complex<f64>,\n",
      "                                                   pyo3::PyErr>(num_complex::Complex::new(v68, v69)));\n",
      "                    let v75: num_complex::Complex<f64> = v73.unwrap();\n",
      "                    let v77: f64 = v75.im;\n",
      "                    let v78: bool = v77 == 0.0_f64;\n",
      "                    if (if v78 { true } else { Spiral_eval::method19(v78) })\n",
      "                           == false {\n",
      "                        panic!(\"{}\",\n",
      "                               sprintf!(\"__expect / actual: {:?} / expected: {:?}\", v77, 0.0_f64));\n",
      "                    }\n",
      "                    {\n",
      "                        let v85: f64 = v75.re - 1.6449340668482264_f64;\n",
      "                        let v86: f64 = -v85;\n",
      "                        let v88: f64 = if v85 >= v86 { v85 } else { v86 };\n",
      "                        let v89: bool = v88 < 0.001_f64;\n",
      "                        if (if v89 {\n",
      "                                true\n",
      "                            } else { Spiral_eval::method19(v89) }) == false {\n",
      "                            panic!(\"{}\",\n",
      "                                   sprintf!(\"__expect / actual: {:?} / expected: {:?}\", v88, 0.001_f64));\n",
      "                        }\n",
      "                        {\n",
      "                            let v95: Result<(), pyo3::PyErr> =\n",
      "                                Spiral_eval::method20(Ok::<(),\n",
      "                                                           pyo3::PyErr>(()));\n",
      "                            v95 }}}}});\n",
      "                             {{{{ //;\n",
      "                            {\n",
      "                                let v100: Result<(), pyo3::PyErr> =\n",
      "                                    Spiral_eval::method21(__result);\n",
      "                                v100.unwrap();\n",
      "                                ()\n",
      "                            }\n",
      "                        }\n",
      "                    }\n",
      "                }\n",
      "            }\n",
      "        }\n",
      "        pub fn method0() { Spiral_eval::method1(); }\n",
      "        on_startup!(Spiral_eval::method0());\n",
      "    }\n",
      "}\n",
      "pub use module_ccfa04bf::*;\n",
      "\n"
     ]
    }
   ],
   "source": [
    "// // test\n",
    "// // rust=\n",
    "// // print_code=true\n",
    "\n",
    "types ()\n",
    "\n",
    "run_test (5u8, 4u8) fun zeta, gamma =>\n",
    "    inl s = complex (2f64, 0f64)\n",
    "    inl result = zeta s\n",
    "\n",
    "    result\n",
    "    |> im\n",
    "    |> _assert_eq 0f64\n",
    "\n",
    "    ((result |> re) - (pi ** 2f64) / 6f64) |> abs\n",
    "    |> _assert_lt 0.001f64"
   ]
  },
  {
   "cell_type": "markdown",
   "metadata": {},
   "source": [
    "## test_zeta_at_2_minus2"
   ]
  },
  {
   "cell_type": "code",
   "execution_count": null,
   "metadata": {
    "dotnet_interactive": {
     "language": "spiral"
    },
    "polyglot_notebook": {
     "kernelName": "spiral"
    }
   },
   "outputs": [
    {
     "data": {
      "text/plain": [
       "\n"
      ]
     },
     "metadata": {},
     "output_type": "display_data"
    }
   ],
   "source": [
    "// // test\n",
    "// // rust=\n",
    "// // print_code=false\n",
    "\n",
    "types ()\n",
    "\n",
    "run_test (5u8, 4u8) fun zeta, gamma =>\n",
    "    inl s = complex (2f64, -2f64)\n",
    "    inl result = zeta s\n",
    "\n",
    "    ((result |> re) - 0.8673f64) |> abs\n",
    "    |> _assert_lt 0.001f64\n",
    "\n",
    "    ((result |> im) - 0.2750f64) |> abs\n",
    "    |> _assert_lt 0.001f64"
   ]
  },
  {
   "cell_type": "markdown",
   "metadata": {},
   "source": [
    "## test_trivial_zero_at_negative_even___"
   ]
  },
  {
   "cell_type": "code",
   "execution_count": null,
   "metadata": {
    "dotnet_interactive": {
     "language": "spiral"
    },
    "polyglot_notebook": {
     "kernelName": "spiral"
    }
   },
   "outputs": [
    {
     "data": {
      "text/plain": [
       "\n"
      ]
     },
     "metadata": {},
     "output_type": "display_data"
    }
   ],
   "source": [
    "// // test\n",
    "// // rust=\n",
    "// // print_code=false\n",
    "\n",
    "types ()\n",
    "\n",
    "run_test (2u8, 1u8) fun zeta, gamma =>\n",
    "    (join listm'.init_series -2f64 -20 -2)\n",
    "    |> listm.iter fun n =>\n",
    "        inl s = complex (n, 0)\n",
    "        inl result = zeta s\n",
    "\n",
    "        result\n",
    "        |> re\n",
    "        |> _assert_eq 0\n",
    "\n",
    "        result\n",
    "        |> im\n",
    "        |> _assert_eq 0"
   ]
  },
  {
   "cell_type": "markdown",
   "metadata": {},
   "source": [
    "## test_non_trivial_zero___"
   ]
  },
  {
   "cell_type": "code",
   "execution_count": null,
   "metadata": {
    "dotnet_interactive": {
     "language": "spiral"
    },
    "polyglot_notebook": {
     "kernelName": "spiral"
    }
   },
   "outputs": [
    {
     "data": {
      "text/plain": [
       "\n"
      ]
     },
     "metadata": {},
     "output_type": "display_data"
    }
   ],
   "source": [
    "// // test\n",
    "// // rust=\n",
    "// // print_code=false\n",
    "\n",
    "types ()\n",
    "\n",
    "run_test (3u8, 2u8) fun zeta, gamma =>\n",
    "    ;[\n",
    "        complex (0.5, 14.134725)\n",
    "        complex (0.5, 21.022040)\n",
    "        complex (0.5, 25.010857)\n",
    "    ]\n",
    "    |> fun x => a x : _ i32 _\n",
    "    |> am.iter fun x =>\n",
    "            inl result = zeta x\n",
    "            result |> re |> abs |> _assert_lt 0.001\n",
    "            result |> im |> abs |> _assert_lt 0.001"
   ]
  },
  {
   "cell_type": "markdown",
   "metadata": {},
   "source": [
    "## test_real_part_greater_than_one___"
   ]
  },
  {
   "cell_type": "code",
   "execution_count": null,
   "metadata": {
    "dotnet_interactive": {
     "language": "spiral"
    },
    "polyglot_notebook": {
     "kernelName": "spiral"
    }
   },
   "outputs": [
    {
     "data": {
      "text/plain": [
       "\n"
      ]
     },
     "metadata": {},
     "output_type": "display_data"
    }
   ],
   "source": [
    "// // test\n",
    "// // rust=\n",
    "// // print_code=false\n",
    "\n",
    "types ()\n",
    "\n",
    "run_test (3u8, 2u8) fun zeta, gamma =>\n",
    "    inl points = ;[2; 3; 4; 5; 10; 20; 50]\n",
    "    (a points : _ i32 _)\n",
    "    |> am.iter fun point =>\n",
    "        inl s = complex (point, 0)\n",
    "        inl result = zeta s\n",
    "        result |> re |> _assert_gt 0\n",
    "        result |> im |> _assert_eq 0"
   ]
  },
  {
   "cell_type": "markdown",
   "metadata": {},
   "source": [
    "## test_zeta_at_1___"
   ]
  },
  {
   "cell_type": "code",
   "execution_count": null,
   "metadata": {
    "dotnet_interactive": {
     "language": "spiral"
    },
    "polyglot_notebook": {
     "kernelName": "spiral"
    }
   },
   "outputs": [
    {
     "data": {
      "text/plain": [
       "\n"
      ]
     },
     "metadata": {},
     "output_type": "display_data"
    }
   ],
   "source": [
    "// // test\n",
    "// // rust=\n",
    "// // print_code=false\n",
    "\n",
    "types ()\n",
    "\n",
    "run_test (5u8, 4u8) fun zeta, gamma =>\n",
    "    inl s = complex (1, 0)\n",
    "    inl result = zeta s\n",
    "    result |> re |> _assert_eq limit.max\n",
    "    result |> im |> _assert_eq 0"
   ]
  },
  {
   "cell_type": "markdown",
   "metadata": {},
   "source": [
    "## test_symmetry_across_real_axis___"
   ]
  },
  {
   "cell_type": "code",
   "execution_count": null,
   "metadata": {
    "dotnet_interactive": {
     "language": "spiral"
    },
    "polyglot_notebook": {
     "kernelName": "spiral"
    }
   },
   "outputs": [
    {
     "data": {
      "text/plain": [
       "\n"
      ]
     },
     "metadata": {},
     "output_type": "display_data"
    }
   ],
   "source": [
    "// // test\n",
    "// // rust=\n",
    "// // print_code=false\n",
    "\n",
    "types ()\n",
    "\n",
    "run_test (6u8, 5u8) fun zeta, gamma =>\n",
    "    inl s = complex (2, 10)\n",
    "    inl result_positive_im = zeta s\n",
    "    inl result_negative_im = complex (s |> re, s |> im |> (~-)) |> zeta\n",
    "    inl conj = result_negative_im |> conj\n",
    "    result_positive_im |> re |> _assert_eq (conj |> re)\n",
    "    result_positive_im |> im |> _assert_eq (conj |> im)"
   ]
  },
  {
   "cell_type": "markdown",
   "metadata": {},
   "source": [
    "## test_behavior_near_origin___"
   ]
  },
  {
   "cell_type": "code",
   "execution_count": null,
   "metadata": {
    "dotnet_interactive": {
     "language": "spiral"
    },
    "polyglot_notebook": {
     "kernelName": "spiral"
    }
   },
   "outputs": [
    {
     "data": {
      "text/plain": [
       "\n"
      ]
     },
     "metadata": {},
     "output_type": "display_data"
    }
   ],
   "source": [
    "// // test\n",
    "// // rust=\n",
    "// // print_code=false\n",
    "\n",
    "types ()\n",
    "\n",
    "run_test (5u8, 4u8) fun zeta, gamma =>\n",
    "    inl s = complex (0.01, 0.01)\n",
    "    inl result = zeta s\n",
    "    result |> re |> _assert_lt limit.max\n",
    "    result |> im |> _assert_lt limit.max"
   ]
  },
  {
   "cell_type": "markdown",
   "metadata": {},
   "source": [
    "## test_zeta_at_minus_1"
   ]
  },
  {
   "cell_type": "code",
   "execution_count": null,
   "metadata": {
    "dotnet_interactive": {
     "language": "spiral"
    },
    "polyglot_notebook": {
     "kernelName": "spiral"
    }
   },
   "outputs": [
    {
     "data": {
      "text/plain": [
       "\n"
      ]
     },
     "metadata": {},
     "output_type": "display_data"
    }
   ],
   "source": [
    "// // test\n",
    "// // rust=\n",
    "// // print_code=false\n",
    "\n",
    "types ()\n",
    "\n",
    "run_test (5u8, 4u8) fun zeta, gamma =>\n",
    "    inl s = complex (-1, 0)\n",
    "    inl result = zeta s\n",
    "    (result |> re) + 1f64 / 12f64 |> abs |> _assert_lt 0.001\n",
    "    result |> im |> _assert_eq 0"
   ]
  },
  {
   "cell_type": "markdown",
   "metadata": {},
   "source": [
    "## test_imaginary_axis"
   ]
  },
  {
   "cell_type": "code",
   "execution_count": null,
   "metadata": {
    "dotnet_interactive": {
     "language": "spiral"
    },
    "polyglot_notebook": {
     "kernelName": "spiral"
    }
   },
   "outputs": [
    {
     "data": {
      "text/plain": [
       "\n"
      ]
     },
     "metadata": {},
     "output_type": "display_data"
    }
   ],
   "source": [
    "// // test\n",
    "// // rust=\n",
    "// // print_code=false\n",
    "\n",
    "types ()\n",
    "\n",
    "run_test (3u8, 2u8) fun zeta, gamma =>\n",
    "    (join a ;[10; 20; 30; 40; 50; 60; 70; 80; 90; 100] : _ i32 _)\n",
    "    |> am.iter fun s =>\n",
    "        inl s = complex (0, s)\n",
    "        inl result = zeta s\n",
    "        result |> re |> _assert_ne 0\n",
    "        result |> im |> _assert_ne 0"
   ]
  },
  {
   "cell_type": "markdown",
   "metadata": {},
   "source": [
    "## test_critical_strip"
   ]
  },
  {
   "cell_type": "code",
   "execution_count": null,
   "metadata": {
    "dotnet_interactive": {
     "language": "spiral"
    },
    "polyglot_notebook": {
     "kernelName": "spiral"
    }
   },
   "outputs": [
    {
     "data": {
      "text/plain": [
       "\n"
      ]
     },
     "metadata": {},
     "output_type": "display_data"
    }
   ],
   "source": [
    "// // test\n",
    "// // rust=\n",
    "// // print_code=false\n",
    "\n",
    "types ()\n",
    "\n",
    "run_test (3u8, 2u8) fun zeta, gamma =>\n",
    "    ;[\n",
    "        complex (0.5, 14.134725)\n",
    "        complex (0.75, 20.5)\n",
    "        complex (1.25, 30.1)\n",
    "        complex (0.25, 40.0)\n",
    "        complex (1.0, 50.0)\n",
    "    ]\n",
    "    |> fun x => a x : _ i32 _\n",
    "    |> am.iter fun s =>\n",
    "        inl result = zeta s\n",
    "        result |> re |> _assert_ne 0\n",
    "        result |> im |> _assert_ne 0"
   ]
  },
  {
   "cell_type": "markdown",
   "metadata": {},
   "source": [
    "## test_reflection_formula_for_specific_value"
   ]
  },
  {
   "cell_type": "code",
   "execution_count": null,
   "metadata": {
    "dotnet_interactive": {
     "language": "spiral"
    },
    "polyglot_notebook": {
     "kernelName": "spiral"
    }
   },
   "outputs": [
    {
     "data": {
      "text/plain": [
       "\n"
      ]
     },
     "metadata": {},
     "output_type": "display_data"
    }
   ],
   "source": [
    "// // test\n",
    "// // rust=\n",
    "// // print_code=false\n",
    "\n",
    "types ()\n",
    "\n",
    "run_test (3u8, 2u8) fun zeta, gamma =>\n",
    "    ;[\n",
    "        complex (3, 4)\n",
    "        complex (2.5, -3.5)\n",
    "        complex (1.5, 2.5)\n",
    "        complex (0.5, 14.134725)\n",
    "    ]\n",
    "    |> fun x => a x : _ i32 _\n",
    "    |> am.iter fun s =>\n",
    "        inl lhs = zeta s\n",
    "        inl reflection_coefficient =\n",
    "            complex_mult\n",
    "                (complex_mult\n",
    "                    (complex_mult\n",
    "                        (complex (2, 0) |> powc s)\n",
    "                        (complex (pi, 0) |> powc (complex_sub s (complex (1, 0))))\n",
    "                    )\n",
    "                    (\n",
    "                        (complex_div\n",
    "                            (complex_mult\n",
    "                                (complex (pi, 0))\n",
    "                                s\n",
    "                            )\n",
    "                            (complex (2, 0))\n",
    "                        )\n",
    "                        |> complex_sin\n",
    "                    )\n",
    "                )\n",
    "                (gamma (complex_sub (complex (1, 0)) s))\n",
    "                \n",
    "        inl one_minus_s = complex (1 - (s |> re), -(s |> im))\n",
    "        inl rhs_calculated = complex_mult reflection_coefficient (zeta one_minus_s)\n",
    "\n",
    "        ((lhs |> re) - (rhs_calculated |> re)) |> abs |> _assert_lt 0.01\n",
    "        ((lhs |> im) - (rhs_calculated |> im)) |> abs |> _assert_lt 0.01"
   ]
  },
  {
   "cell_type": "markdown",
   "metadata": {},
   "source": [
    "## test_euler_product_formula"
   ]
  },
  {
   "cell_type": "code",
   "execution_count": null,
   "metadata": {
    "dotnet_interactive": {
     "language": "spiral"
    },
    "polyglot_notebook": {
     "kernelName": "spiral"
    }
   },
   "outputs": [
    {
     "data": {
      "text/plain": [
       "\n"
      ]
     },
     "metadata": {},
     "output_type": "display_data"
    }
   ],
   "source": [
    "// // test\n",
    "// // rust=\n",
    "// // print_code=false\n",
    "\n",
    "types ()\n",
    "\n",
    "run_test (3u8, 2u8) fun zeta, gamma =>\n",
    "    inl s_values = ;[2; 3; 4; 5]\n",
    "    inl primes = ;[2; 3; 5; 7; 11; 13; 17; 19; 23; 29; 31; 37; 41; 43; 47; 53; 59; 61; 67; 71]\n",
    "    (a s_values : _ i32 _)\n",
    "    |> am.iter fun s_re =>\n",
    "        inl s = complex (s_re, 0)\n",
    "        inl product =\n",
    "            (1, (a primes : _ i32 _))\n",
    "            ||> am.fold fun acc x =>\n",
    "                acc * 1 / (1 - x ** -s_re)\n",
    "\n",
    "        inl result = zeta s\n",
    "        ((result |> re) - product) |> abs |> _assert_lt 0.01f64\n",
    "        result |> im |> _assert_lt 0.01f64\n",
    "        result |> im |> _assert_eq 0f64"
   ]
  }
 ],
 "metadata": {},
 "nbformat": 4,
 "nbformat_minor": 5
}