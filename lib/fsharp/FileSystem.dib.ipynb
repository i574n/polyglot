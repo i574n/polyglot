{
 "cells": [
  {
   "cell_type": "markdown",
   "metadata": {},
   "source": [
    "# FileSystem (Polyglot)"
   ]
  },
  {
   "cell_type": "code",
   "execution_count": null,
   "metadata": {
    "dotnet_interactive": {
     "language": "fsharp"
    },
    "polyglot_notebook": {
     "kernelName": "fsharp"
    }
   },
   "outputs": [],
   "source": [
    "#!import ../../lib/fsharp/Notebooks.dib\n",
    "#!import ../../lib/fsharp/Testing.dib"
   ]
  },
  {
   "cell_type": "code",
   "execution_count": null,
   "metadata": {
    "dotnet_interactive": {
     "language": "fsharp"
    },
    "polyglot_notebook": {
     "kernelName": "fsharp"
    }
   },
   "outputs": [],
   "source": [
    "#r @\"../../../../../../../.nuget/packages/fsharp.control.asyncseq/3.2.1/lib/netstandard2.1/FSharp.Control.AsyncSeq.dll\"\n",
    "#r @\"../../../../../../../.nuget/packages/system.reactive/6.0.1-preview.1/lib/net6.0/System.Reactive.dll\"\n",
    "#r @\"../../../../../../../.nuget/packages/system.reactive.linq/6.0.1-preview.1/lib/netstandard2.0/System.Reactive.Linq.dll\"\n",
    "#r @\"../../../../../../../.nuget/packages/argu/6.1.5/lib/netstandard2.0/Argu.dll\"\n",
    "#r @\"../../../../../../../.nuget/packages/system.commandline/2.0.0-beta4.22272.1/lib/net6.0/System.CommandLine.dll\""
   ]
  },
  {
   "cell_type": "code",
   "execution_count": null,
   "metadata": {
    "dotnet_interactive": {
     "language": "fsharp"
    },
    "polyglot_notebook": {
     "kernelName": "fsharp"
    }
   },
   "outputs": [],
   "source": [
    "#!import ../../lib/fsharp/Common.fs\n",
    "#!import ../../lib/fsharp/CommonFSharp.fs\n",
    "#!import ../../lib/fsharp/Async.fs\n",
    "#!import ../../lib/fsharp/AsyncSeq.fs\n",
    "#!import ../../lib/fsharp/Runtime.fs"
   ]
  },
  {
   "cell_type": "code",
   "execution_count": null,
   "metadata": {
    "dotnet_interactive": {
     "language": "fsharp"
    },
    "polyglot_notebook": {
     "kernelName": "fsharp"
    }
   },
   "outputs": [],
   "source": [
    "open Common"
   ]
  },
  {
   "cell_type": "markdown",
   "metadata": {},
   "source": [
    "## Operators"
   ]
  },
  {
   "cell_type": "code",
   "execution_count": null,
   "metadata": {
    "dotnet_interactive": {
     "language": "fsharp"
    },
    "polyglot_notebook": {
     "kernelName": "fsharp"
    }
   },
   "outputs": [],
   "source": [
    "module Operators =\n",
    "    let inline (</>) a b =\n",
    "        System.IO.Path.Combine (a, b)"
   ]
  },
  {
   "cell_type": "code",
   "execution_count": null,
   "metadata": {
    "dotnet_interactive": {
     "language": "fsharp"
    },
    "polyglot_notebook": {
     "kernelName": "fsharp"
    }
   },
   "outputs": [],
   "source": [
    "open Operators"
   ]
  },
  {
   "cell_type": "markdown",
   "metadata": {},
   "source": [
    "## createTempDirectoryName"
   ]
  },
  {
   "cell_type": "code",
   "execution_count": null,
   "metadata": {
    "dotnet_interactive": {
     "language": "fsharp"
    },
    "polyglot_notebook": {
     "kernelName": "fsharp"
    }
   },
   "outputs": [],
   "source": [
    "let inline createTempDirectoryName () =\n",
    "    let root = System.Reflection.Assembly.GetEntryAssembly().GetName().Name\n",
    "\n",
    "    System.IO.Path.GetTempPath ()\n",
    "    </> $\"!{root}\"\n",
    "    </> string (newGuidFromDateTime System.DateTime.Now)"
   ]
  },
  {
   "cell_type": "code",
   "execution_count": null,
   "metadata": {
    "dotnet_interactive": {
     "language": "fsharp"
    },
    "polyglot_notebook": {
     "kernelName": "fsharp"
    }
   },
   "outputs": [
    {
     "name": "stdout",
     "output_type": "stream",
     "text": [
      "/tmp/!dotnet-repl/20240306-1602-1868-6820-6af4fbb597e6\n"
     ]
    }
   ],
   "source": [
    "//// test\n",
    "\n",
    "createTempDirectoryName ()\n",
    "|> _contains System.IO.Path.DirectorySeparatorChar"
   ]
  },
  {
   "cell_type": "markdown",
   "metadata": {},
   "source": [
    "## createTempDirectory"
   ]
  },
  {
   "cell_type": "code",
   "execution_count": null,
   "metadata": {
    "dotnet_interactive": {
     "language": "fsharp"
    },
    "polyglot_notebook": {
     "kernelName": "fsharp"
    }
   },
   "outputs": [],
   "source": [
    "let inline createTempDirectory () =\n",
    "    let tempFolder = createTempDirectoryName ()\n",
    "    let result = System.IO.Directory.CreateDirectory tempFolder\n",
    "\n",
    "    if not result.Exists then\n",
    "        let getLocals () =\n",
    "            $\"tempFolder: {tempFolder} / result: {({|\n",
    "                Exists = result.Exists\n",
    "                CreationTime = result.CreationTime\n",
    "            |})} {getLocals ()}\"\n",
    "\n",
    "        trace Debug (fun () -> \"createTempDirectory\") getLocals\n",
    "\n",
    "    tempFolder"
   ]
  },
  {
   "cell_type": "code",
   "execution_count": null,
   "metadata": {
    "dotnet_interactive": {
     "language": "fsharp"
    },
    "polyglot_notebook": {
     "kernelName": "fsharp"
    }
   },
   "outputs": [
    {
     "name": "stdout",
     "output_type": "stream",
     "text": [
      "True\n"
     ]
    }
   ],
   "source": [
    "//// test\n",
    "\n",
    "let tempDirectory = createTempDirectory ()\n",
    "\n",
    "Directory.Exists tempDirectory\n",
    "|> _equal true"
   ]
  },
  {
   "cell_type": "markdown",
   "metadata": {},
   "source": [
    "## getSourceDirectory"
   ]
  },
  {
   "cell_type": "code",
   "execution_count": null,
   "metadata": {
    "dotnet_interactive": {
     "language": "fsharp"
    },
    "polyglot_notebook": {
     "kernelName": "fsharp"
    }
   },
   "outputs": [],
   "source": [
    "let getSourceDirectory =\n",
    "    fun () -> __SOURCE_DIRECTORY__\n",
    "    |> memoize"
   ]
  },
  {
   "cell_type": "code",
   "execution_count": null,
   "metadata": {
    "dotnet_interactive": {
     "language": "fsharp"
    },
    "polyglot_notebook": {
     "kernelName": "fsharp"
    }
   },
   "outputs": [
    {
     "name": "stdout",
     "output_type": "stream",
     "text": [
      "fsharp\n"
     ]
    }
   ],
   "source": [
    "//// test\n",
    "\n",
    "getSourceDirectory ()\n",
    "|> System.IO.DirectoryInfo\n",
    "|> fun dir -> dir.Name\n",
    "|> _equal \"fsharp\""
   ]
  },
  {
   "cell_type": "markdown",
   "metadata": {},
   "source": [
    "## findParent"
   ]
  },
  {
   "cell_type": "code",
   "execution_count": null,
   "metadata": {
    "dotnet_interactive": {
     "language": "fsharp"
    },
    "polyglot_notebook": {
     "kernelName": "fsharp"
    }
   },
   "outputs": [],
   "source": [
    "let inline findParent name isFile rootDir =\n",
    "    let rec loop dir =\n",
    "        if dir </> name |> (if isFile then System.IO.File.Exists else System.IO.Directory.Exists)\n",
    "        then dir\n",
    "        else\n",
    "            dir\n",
    "            |> System.IO.Directory.GetParent\n",
    "            |> function\n",
    "                | null -> failwith $\"\"\"No parent for {if isFile then \"file\" else \"dir\"} '{name}' at '{rootDir}'\"\"\"\n",
    "                | parent -> parent.FullName |> loop\n",
    "    loop rootDir"
   ]
  },
  {
   "cell_type": "code",
   "execution_count": null,
   "metadata": {
    "dotnet_interactive": {
     "language": "fsharp"
    },
    "polyglot_notebook": {
     "kernelName": "fsharp"
    }
   },
   "outputs": [
    {
     "name": "stdout",
     "output_type": "stream",
     "text": [
      "polyglot\n"
     ]
    }
   ],
   "source": [
    "//// test\n",
    "\n",
    "getSourceDirectory () |> findParent \".paket\" false\n",
    "|> System.IO.DirectoryInfo\n",
    "|> fun dir -> dir.Name\n",
    "|> _equal \"polyglot\""
   ]
  },
  {
   "cell_type": "code",
   "execution_count": null,
   "metadata": {
    "dotnet_interactive": {
     "language": "fsharp"
    },
    "polyglot_notebook": {
     "kernelName": "fsharp"
    }
   },
   "outputs": [
    {
     "name": "stdout",
     "output_type": "stream",
     "text": [
      "polyglot\n"
     ]
    }
   ],
   "source": [
    "//// test\n",
    "\n",
    "getSourceDirectory () |> findParent \"paket.dependencies\" true\n",
    "|> System.IO.DirectoryInfo\n",
    "|> fun dir -> dir.Name\n",
    "|> _equal \"polyglot\""
   ]
  },
  {
   "cell_type": "markdown",
   "metadata": {},
   "source": [
    "## readAllTextAsync"
   ]
  },
  {
   "cell_type": "code",
   "execution_count": null,
   "metadata": {
    "dotnet_interactive": {
     "language": "fsharp"
    },
    "polyglot_notebook": {
     "kernelName": "fsharp"
    }
   },
   "outputs": [],
   "source": [
    "let inline readAllTextAsync path =\n",
    "    path |> System.IO.File.ReadAllTextAsync |> Async.AwaitTask"
   ]
  },
  {
   "cell_type": "markdown",
   "metadata": {},
   "source": [
    "## fileExistsContent"
   ]
  },
  {
   "cell_type": "code",
   "execution_count": null,
   "metadata": {
    "dotnet_interactive": {
     "language": "fsharp"
    },
    "polyglot_notebook": {
     "kernelName": "fsharp"
    }
   },
   "outputs": [],
   "source": [
    "let inline fileExistsContent path content = async {\n",
    "    if path |> System.IO.File.Exists |> not\n",
    "    then return false\n",
    "    else\n",
    "        let! existingContent = path |> readAllTextAsync\n",
    "        return content = existingContent\n",
    "}"
   ]
  },
  {
   "cell_type": "markdown",
   "metadata": {},
   "source": [
    "## writeAllTextAsync"
   ]
  },
  {
   "cell_type": "code",
   "execution_count": null,
   "metadata": {
    "dotnet_interactive": {
     "language": "fsharp"
    },
    "polyglot_notebook": {
     "kernelName": "fsharp"
    }
   },
   "outputs": [],
   "source": [
    "let inline writeAllTextAsync path contents =\n",
    "    System.IO.File.WriteAllTextAsync (path, contents) |> Async.AwaitTask"
   ]
  },
  {
   "cell_type": "markdown",
   "metadata": {},
   "source": [
    "## writeAllTextExists"
   ]
  },
  {
   "cell_type": "code",
   "execution_count": null,
   "metadata": {
    "dotnet_interactive": {
     "language": "fsharp"
    },
    "polyglot_notebook": {
     "kernelName": "fsharp"
    }
   },
   "outputs": [],
   "source": [
    "let inline writeAllTextExists path contents = async {\n",
    "    let! exists = contents |> fileExistsContent path\n",
    "    if not exists\n",
    "    then do! contents |> writeAllTextAsync path\n",
    "}"
   ]
  },
  {
   "cell_type": "markdown",
   "metadata": {},
   "source": [
    "## waitForFileAccess"
   ]
  },
  {
   "cell_type": "code",
   "execution_count": null,
   "metadata": {
    "dotnet_interactive": {
     "language": "fsharp"
    },
    "polyglot_notebook": {
     "kernelName": "fsharp"
    }
   },
   "outputs": [],
   "source": [
    "let inline waitForFileAccess access path =\n",
    "    let fileAccess, fileShare =\n",
    "        access\n",
    "        |> Option.defaultValue (System.IO.FileAccess.ReadWrite, System.IO.FileShare.Read)\n",
    "\n",
    "    let rec loop retry = async {\n",
    "        try\n",
    "            use _ = new System.IO.FileStream (\n",
    "                path,\n",
    "                System.IO.FileMode.Open,\n",
    "                fileAccess,\n",
    "                fileShare\n",
    "            )\n",
    "            return retry\n",
    "        with ex ->\n",
    "            if retry % 100 = 0 then\n",
    "                let getLocals () = $\"path: {path |> System.IO.Path.GetFileName} / ex: {ex |> printException} / {getLocals ()}\"\n",
    "                trace Debug (fun () -> \"waitForFileAccess\") getLocals\n",
    "            do! Async.Sleep 10\n",
    "            return! loop (retry + 1)\n",
    "    }\n",
    "    loop 0"
   ]
  },
  {
   "cell_type": "code",
   "execution_count": null,
   "metadata": {
    "dotnet_interactive": {
     "language": "fsharp"
    },
    "polyglot_notebook": {
     "kernelName": "fsharp"
    }
   },
   "outputs": [
    {
     "name": "stdout",
     "output_type": "stream",
     "text": [
      "00:00:00 #1 [Debug] 1\n",
      "00:00:00 #2 [Debug] 2\n",
      "00:00:00 #3 [Debug] _1\n",
      "00:00:00 #4 [Debug] 3\n",
      "00:00:00 #5 [Debug] _2\n",
      "00:00:00 #6 [Debug] 4\n",
      "00:00:00 #7 [Debug] waitForFileAccess / path: test.txt / ex: System.IO.IOException: The process cannot access the file '/tmp/!dotnet-repl/20240306-1602-1921-2137-22adde044624/test.txt' because it is being used by another process.\n",
      "00:00:01 #8 [Debug] waitForFileAccess / path: test.txt / ex: System.IO.IOException: The process cannot access the file '/tmp/!dotnet-repl/20240306-1602-1921-2137-22adde044624/test.txt' because it is being used by another process.\n",
      "00:00:02 #9 [Debug] _3\n",
      "00:00:02 #10 [Debug] _4\n",
      "00:00:02 #11 [Debug] _5\n",
      "00:00:02 #12 [Debug] _6\n",
      "00:00:02 #13 [Debug] 5\n",
      "00:00:02 #14 [Debug] 6\n",
      "00:00:02 #15 [Debug] 7\n",
      "167\n",
      "167\n",
      "167\n",
      "1\n",
      "True\n"
     ]
    }
   ],
   "source": [
    "//// test\n",
    "\n",
    "let tempFolder = createTempDirectory ()\n",
    "let path = tempFolder </> \"test.txt\"\n",
    "\n",
    "let inline lockFile () = async {\n",
    "    trace Debug (fun () -> \"_1\") getLocals\n",
    "    use stream = new System.IO.FileStream (\n",
    "        path,\n",
    "        System.IO.FileMode.Open,\n",
    "        System.IO.FileAccess.ReadWrite,\n",
    "        System.IO.FileShare.None\n",
    "    )\n",
    "    trace Debug (fun () -> \"_2\") getLocals\n",
    "    do! Async.Sleep 2000\n",
    "    trace Debug (fun () -> \"_3\") getLocals\n",
    "    stream.Seek (0L, SeekOrigin.Begin) |> ignore\n",
    "    trace Debug (fun () -> \"_4\") getLocals\n",
    "    stream.WriteByte 49uy\n",
    "    trace Debug (fun () -> \"_5\") getLocals\n",
    "    stream.Flush ()\n",
    "    trace Debug (fun () -> \"_6\") getLocals\n",
    "}\n",
    "\n",
    "async {\n",
    "    trace Debug (fun () -> \"1\") getLocals\n",
    "    do! \"0\" |> writeAllTextAsync path\n",
    "    trace Debug (fun () -> \"2\") getLocals\n",
    "    let! child = lockFile () |> Async.StartChild\n",
    "    trace Debug (fun () -> \"3\") getLocals\n",
    "    do! Async.Sleep 1\n",
    "    trace Debug (fun () -> \"4\") getLocals\n",
    "    let! retries = path |> waitForFileAccess None\n",
    "    trace Debug (fun () -> \"5\") getLocals\n",
    "    let! text = path |> readAllTextAsync\n",
    "    trace Debug (fun () -> \"6\") getLocals\n",
    "    do! child\n",
    "    trace Debug (fun () -> \"7\") getLocals\n",
    "    return retries, text\n",
    "}\n",
    "|> Async.runWithTimeout 3000\n",
    "|> function\n",
    "    | Some (retries, text) ->\n",
    "        retries\n",
    "        |> _isBetween\n",
    "            (if Runtime.isWindows () then 100 else 100)\n",
    "            (if Runtime.isWindows () then 150 else 200)\n",
    "\n",
    "        text |> _equal \"1\"\n",
    "\n",
    "        true\n",
    "    | _ -> false\n",
    "|> _equal true"
   ]
  },
  {
   "cell_type": "markdown",
   "metadata": {},
   "source": [
    "## readAllTextRetryAsync"
   ]
  },
  {
   "cell_type": "code",
   "execution_count": null,
   "metadata": {
    "dotnet_interactive": {
     "language": "fsharp"
    },
    "polyglot_notebook": {
     "kernelName": "fsharp"
    }
   },
   "outputs": [],
   "source": [
    "let inline readAllTextRetryAsync fullPath =\n",
    "    let rec loop retry = async {\n",
    "        try\n",
    "            if retry > 0\n",
    "            then do!\n",
    "                fullPath\n",
    "                |> waitForFileAccess (Some (\n",
    "                    System.IO.FileAccess.Read,\n",
    "                    System.IO.FileShare.Read\n",
    "                ))\n",
    "                |> Async.runWithTimeoutAsync 1000\n",
    "                |> Async.Ignore\n",
    "            return! fullPath |> readAllTextAsync |> Async.map Some\n",
    "        with ex ->\n",
    "            let getLocals () = $\"retry: {retry} / ex: {ex |> printException} / {getLocals ()}\"\n",
    "            trace Debug (fun () -> $\"watchWithFilter / readContent\") getLocals\n",
    "            if retry = 0\n",
    "            then return! loop (retry + 1)\n",
    "            else return None\n",
    "    }\n",
    "    loop 0"
   ]
  },
  {
   "cell_type": "markdown",
   "metadata": {},
   "source": [
    "## deleteDirectoryAsync"
   ]
  },
  {
   "cell_type": "code",
   "execution_count": null,
   "metadata": {
    "dotnet_interactive": {
     "language": "fsharp"
    },
    "polyglot_notebook": {
     "kernelName": "fsharp"
    }
   },
   "outputs": [],
   "source": [
    "let inline deleteDirectoryAsync path =\n",
    "    let rec loop retry = async {\n",
    "        try\n",
    "            System.IO.Directory.Delete (path, true)\n",
    "            return retry\n",
    "        with ex ->\n",
    "            if retry % 100 = 0 then\n",
    "                let getLocals () = $\"path: {path |> System.IO.Path.GetFileName} / ex: {ex |> printException} / {getLocals ()}\"\n",
    "                trace Debug (fun () -> \"deleteDirectoryAsync\") getLocals\n",
    "            do! Async.Sleep 10\n",
    "            return! loop (retry + 1)\n",
    "    }\n",
    "    loop 0"
   ]
  },
  {
   "cell_type": "code",
   "execution_count": null,
   "metadata": {
    "dotnet_interactive": {
     "language": "fsharp"
    },
    "polyglot_notebook": {
     "kernelName": "fsharp"
    }
   },
   "outputs": [
    {
     "name": "stdout",
     "output_type": "stream",
     "text": [
      "00:00:02 #16 [Debug] 1\n",
      "00:00:02 #17 [Debug] 2\n",
      "00:00:02 #18 [Debug] 3\n",
      "00:00:02 #19 [Debug] _1\n",
      "00:00:02 #20 [Debug] _2\n",
      "00:00:02 #21 [Debug] 4\n",
      "00:00:02 #22 [Debug] 5\n",
      "00:00:04 #23 [Debug] _3\n",
      "00:00:04 #24 [Debug] 6\n",
      "0\n",
      "0\n",
      "0\n",
      "True\n"
     ]
    }
   ],
   "source": [
    "//// test\n",
    "\n",
    "let tempFolder = createTempDirectory ()\n",
    "let path = tempFolder </> \"test\"\n",
    "\n",
    "let inline lockDirectory () = async {\n",
    "    trace Debug (fun () -> \"_1\") getLocals\n",
    "    System.IO.File.WriteAllText (path </> \"test.txt\", \"0\")\n",
    "    use _ = new System.IO.FileStream (\n",
    "        path </> \"test.txt\",\n",
    "        System.IO.FileMode.Open,\n",
    "        System.IO.FileAccess.ReadWrite,\n",
    "        System.IO.FileShare.None\n",
    "    )\n",
    "    trace Debug (fun () -> \"_2\") getLocals\n",
    "    do! Async.Sleep 2000\n",
    "    trace Debug (fun () -> \"_3\") getLocals\n",
    "}\n",
    "\n",
    "async {\n",
    "    trace Debug (fun () -> \"1\") getLocals\n",
    "    Directory.CreateDirectory path |> ignore\n",
    "    trace Debug (fun () -> \"2\") getLocals\n",
    "    let! child = lockDirectory () |> Async.StartChild\n",
    "    trace Debug (fun () -> \"3\") getLocals\n",
    "    do! Async.Sleep 60\n",
    "    trace Debug (fun () -> \"4\") getLocals\n",
    "    let! retries = deleteDirectoryAsync path\n",
    "    trace Debug (fun () -> \"5\") getLocals\n",
    "    do! child\n",
    "    trace Debug (fun () -> \"6\") getLocals\n",
    "    return retries\n",
    "}\n",
    "|> Async.runWithTimeout 3000\n",
    "|> function\n",
    "    | Some retries ->\n",
    "        retries\n",
    "        |> _isBetween\n",
    "            (if Runtime.isWindows () then 100 else 0)\n",
    "            (if Runtime.isWindows () then 150 else 0)\n",
    "\n",
    "        true\n",
    "    | _ -> false\n",
    "|> _equal true"
   ]
  },
  {
   "cell_type": "markdown",
   "metadata": {},
   "source": [
    "## deleteFileAsync"
   ]
  },
  {
   "cell_type": "code",
   "execution_count": null,
   "metadata": {
    "dotnet_interactive": {
     "language": "fsharp"
    },
    "polyglot_notebook": {
     "kernelName": "fsharp"
    }
   },
   "outputs": [],
   "source": [
    "let inline deleteFileAsync path =\n",
    "    let rec loop retry = async {\n",
    "        try\n",
    "            System.IO.File.Delete path\n",
    "            return retry\n",
    "        with ex ->\n",
    "            if retry % 100 = 0 then\n",
    "                let getLocals () = $\"path: {path |> System.IO.Path.GetFileName} / ex: {ex |> printException} / {getLocals ()}\"\n",
    "                trace Warning (fun () -> \"deleteFileAsync\") getLocals\n",
    "            do! Async.Sleep 10\n",
    "            return! loop (retry + 1)\n",
    "    }\n",
    "    loop 0"
   ]
  },
  {
   "cell_type": "code",
   "execution_count": null,
   "metadata": {
    "dotnet_interactive": {
     "language": "fsharp"
    },
    "polyglot_notebook": {
     "kernelName": "fsharp"
    }
   },
   "outputs": [
    {
     "name": "stdout",
     "output_type": "stream",
     "text": [
      "00:00:04 #25 [Debug] 1\n",
      "00:00:04 #26 [Debug] 2\n",
      "00:00:04 #27 [Debug] _1\n",
      "00:00:04 #28 [Debug] 3\n",
      "00:00:04 #29 [Debug] _2\n",
      "00:00:04 #30 [Debug] 4\n",
      "00:00:04 #31 [Debug] 5\n",
      "00:00:06 #32 [Debug] _3\n",
      "00:00:06 #33 [Debug] 6\n",
      "0\n",
      "0\n",
      "0\n",
      "True\n"
     ]
    }
   ],
   "source": [
    "//// test\n",
    "\n",
    "let tempFolder = createTempDirectory ()\n",
    "let path = tempFolder </> \"test.txt\"\n",
    "\n",
    "let inline lockFile () = async {\n",
    "    trace Debug (fun () -> \"_1\") getLocals\n",
    "    use _ = new System.IO.FileStream (\n",
    "        path,\n",
    "        System.IO.FileMode.Open,\n",
    "        System.IO.FileAccess.ReadWrite,\n",
    "        System.IO.FileShare.None\n",
    "    )\n",
    "    trace Debug (fun () -> \"_2\") getLocals\n",
    "    do! Async.Sleep 2000\n",
    "    trace Debug (fun () -> \"_3\") getLocals\n",
    "}\n",
    "\n",
    "async {\n",
    "    trace Debug (fun () -> \"1\") getLocals\n",
    "    do! \"0\" |> writeAllTextAsync path\n",
    "    trace Debug (fun () -> \"2\") getLocals\n",
    "    let! child = lockFile () |> Async.StartChild\n",
    "    trace Debug (fun () -> \"3\") getLocals\n",
    "    do! Async.Sleep 1\n",
    "    trace Debug (fun () -> \"4\") getLocals\n",
    "    let! retries = deleteFileAsync path\n",
    "    trace Debug (fun () -> \"5\") getLocals\n",
    "    do! child\n",
    "    trace Debug (fun () -> \"6\") getLocals\n",
    "    return retries\n",
    "}\n",
    "|> Async.runWithTimeout 3000\n",
    "|> function\n",
    "    | Some retries ->\n",
    "        retries\n",
    "        |> _isBetween\n",
    "            (if Runtime.isWindows () then 100 else 0)\n",
    "            (if Runtime.isWindows () then 150 else 0)\n",
    "\n",
    "        true\n",
    "    | _ -> false\n",
    "|> _equal true"
   ]
  },
  {
   "cell_type": "markdown",
   "metadata": {},
   "source": [
    "## moveFileAsync"
   ]
  },
  {
   "cell_type": "code",
   "execution_count": null,
   "metadata": {
    "dotnet_interactive": {
     "language": "fsharp"
    },
    "polyglot_notebook": {
     "kernelName": "fsharp"
    }
   },
   "outputs": [],
   "source": [
    "let inline moveFileAsync newPath oldPath =\n",
    "    let rec loop retry = async {\n",
    "        try\n",
    "            System.IO.File.Move (oldPath, newPath)\n",
    "            return retry\n",
    "        with ex ->\n",
    "            if retry % 100 = 0 then\n",
    "                let getLocals () =\n",
    "                    $\"oldPath: {oldPath |> System.IO.Path.GetFileName} / newPath: {newPath |> System.IO.Path.GetFileName} / ex: {ex |> printException} / {getLocals ()}\"\n",
    "                trace Warning (fun () -> \"moveFileAsync\") getLocals\n",
    "            do! Async.Sleep 10\n",
    "            return! loop (retry + 1)\n",
    "    }\n",
    "    loop 0"
   ]
  },
  {
   "cell_type": "code",
   "execution_count": null,
   "metadata": {
    "dotnet_interactive": {
     "language": "fsharp"
    },
    "polyglot_notebook": {
     "kernelName": "fsharp"
    }
   },
   "outputs": [
    {
     "name": "stdout",
     "output_type": "stream",
     "text": [
      "00:00:06 #34 [Debug] 1\n",
      "00:00:06 #35 [Debug] 2\n",
      "00:00:06 #36 [Debug] 3\n",
      "00:00:06 #37 [Debug] _1\n",
      "00:00:06 #38 [Debug] _2\n",
      "00:00:06 #39 [Debug] 4\n",
      "00:00:06 #40 [Debug] 5\n",
      "00:00:06 #41 [Debug] waitForFileAccess / path: test2.txt / ex: System.IO.IOException: The process cannot access the file '/tmp/!dotnet-repl/20240306-1602-2602-0264-07d5b7b2c25f/test2.txt' because it is being used by another process.\n",
      "00:00:08 #42 [Debug] waitForFileAccess / path: test2.txt / ex: System.IO.IOException: The process cannot access the file '/tmp/!dotnet-repl/20240306-1602-2602-0264-07d5b7b2c25f/test2.txt' because it is being used by another process.\n",
      "00:00:08 #43 [Debug] _3\n",
      "00:00:08 #44 [Debug] 6\n",
      "00:00:08 #45 [Debug] 7\n",
      "00:00:08 #46 [Debug] 8\n",
      "0\n",
      "0\n",
      "0\n",
      "167\n",
      "167\n",
      "167\n",
      "0\n",
      "True\n"
     ]
    }
   ],
   "source": [
    "//// test\n",
    "\n",
    "let tempFolder = createTempDirectory ()\n",
    "let path = tempFolder </> \"test.txt\"\n",
    "let newPath = tempFolder </> \"test2.txt\"\n",
    "\n",
    "let inline lockFile () = async {\n",
    "    trace Debug (fun () -> \"_1\") getLocals\n",
    "    use _ = new System.IO.FileStream (\n",
    "        path,\n",
    "        System.IO.FileMode.Open,\n",
    "        System.IO.FileAccess.ReadWrite,\n",
    "        System.IO.FileShare.None\n",
    "    )\n",
    "    trace Debug (fun () -> \"_2\") getLocals\n",
    "    do! Async.Sleep 2000\n",
    "    trace Debug (fun () -> \"_3\") getLocals\n",
    "}\n",
    "\n",
    "async {\n",
    "    trace Debug (fun () -> \"1\") getLocals\n",
    "    do! \"0\" |> writeAllTextAsync path\n",
    "    trace Debug (fun () -> \"2\") getLocals\n",
    "    let! child = lockFile () |> Async.StartChild\n",
    "    trace Debug (fun () -> \"3\") getLocals\n",
    "    do! Async.Sleep 1\n",
    "    trace Debug (fun () -> \"4\") getLocals\n",
    "    let! retries1 = path |> moveFileAsync newPath\n",
    "    trace Debug (fun () -> \"5\") getLocals\n",
    "    let! retries2 = newPath |> waitForFileAccess None\n",
    "    trace Debug (fun () -> \"6\") getLocals\n",
    "    let! text = newPath |> readAllTextAsync\n",
    "    trace Debug (fun () -> \"7\") getLocals\n",
    "    do! child\n",
    "    trace Debug (fun () -> \"8\") getLocals\n",
    "    return retries1, retries2, text\n",
    "}\n",
    "|> Async.runWithTimeout 3000\n",
    "|> function\n",
    "    | Some (retries1, retries2, text) ->\n",
    "        retries1\n",
    "        |> _isBetween\n",
    "            (if Runtime.isWindows () then 100 else 0)\n",
    "            (if Runtime.isWindows () then 150 else 0)\n",
    "\n",
    "        retries2\n",
    "        |> _isBetween\n",
    "            (if Runtime.isWindows () then 0 else 100)\n",
    "            (if Runtime.isWindows () then 0 else 200)\n",
    "\n",
    "        text |> _equal \"0\"\n",
    "\n",
    "        true\n",
    "    | _ -> false\n",
    "|> _equal true"
   ]
  },
  {
   "cell_type": "markdown",
   "metadata": {},
   "source": [
    "## watchDirectory"
   ]
  },
  {
   "cell_type": "code",
   "execution_count": null,
   "metadata": {
    "dotnet_interactive": {
     "language": "fsharp"
    },
    "polyglot_notebook": {
     "kernelName": "fsharp"
    }
   },
   "outputs": [],
   "source": [
    "[<RequireQualifiedAccess>]\n",
    "type FileSystemChangeType =\n",
    "    | Failure\n",
    "    | Changed\n",
    "    | Created\n",
    "    | Deleted\n",
    "    | Renamed\n",
    "\n",
    "[<RequireQualifiedAccess>]\n",
    "type FileSystemChange =\n",
    "    | Failure of exn: exn\n",
    "    | Changed of path: string * content: string option\n",
    "    | Created of path: string * content: string option\n",
    "    | Deleted of path: string\n",
    "    | Renamed of oldPath: string * (string * string option)\n",
    "\n",
    "\n",
    "let inline watchDirectoryWithFilter filter shouldReadContent path =\n",
    "    let fullPath = path |> System.IO.Path.GetFullPath\n",
    "    let getLocals () = $\"filter: {filter} / {getLocals ()}\"\n",
    "\n",
    "    let watcher =\n",
    "        new System.IO.FileSystemWatcher (\n",
    "            Path = fullPath,\n",
    "            NotifyFilter = filter,\n",
    "            EnableRaisingEvents = true,\n",
    "            IncludeSubdirectories = true\n",
    "        )\n",
    "\n",
    "    let inline getEventPath (path : string) =\n",
    "        path |> String.trim |> String.replace fullPath \"\" |> String.trimStart [| '/'; '\\\\' |]\n",
    "\n",
    "    let inline ticks () =\n",
    "        System.DateTime.UtcNow.Ticks\n",
    "\n",
    "    let changedStream =\n",
    "        AsyncSeq.subscribeEvent\n",
    "            watcher.Changed\n",
    "            (fun event ->\n",
    "                ticks (),\n",
    "                [ FileSystemChange.Changed (getEventPath event.FullPath, None) ]\n",
    "            )\n",
    "\n",
    "    let deletedStream =\n",
    "        AsyncSeq.subscribeEvent\n",
    "            watcher.Deleted\n",
    "            (fun event ->\n",
    "                ticks (),\n",
    "                [ FileSystemChange.Deleted (getEventPath event.FullPath) ]\n",
    "            )\n",
    "\n",
    "    let createdStream =\n",
    "        AsyncSeq.subscribeEvent\n",
    "            watcher.Created\n",
    "            (fun event ->\n",
    "                let path = getEventPath event.FullPath\n",
    "                ticks (), [\n",
    "                    FileSystemChange.Created (path, None)\n",
    "                    if Runtime.isWindows () then\n",
    "                        FileSystemChange.Changed (path, None)\n",
    "                ])\n",
    "\n",
    "    let renamedStream =\n",
    "        AsyncSeq.subscribeEvent\n",
    "            watcher.Renamed\n",
    "            (fun event ->\n",
    "                ticks (), [\n",
    "                    FileSystemChange.Renamed (\n",
    "                        getEventPath event.OldFullPath,\n",
    "                        (getEventPath event.FullPath, None)\n",
    "                    )\n",
    "                ]\n",
    "            )\n",
    "\n",
    "    let failureStream =\n",
    "        AsyncSeq.subscribeEvent\n",
    "            watcher.Error\n",
    "            (fun event -> ticks (), [ FileSystemChange.Failure (event.GetException ()) ])\n",
    "\n",
    "    let stream =\n",
    "        [\n",
    "            changedStream\n",
    "            deletedStream\n",
    "            createdStream\n",
    "            renamedStream\n",
    "            failureStream\n",
    "        ]\n",
    "        |> FSharp.Control.AsyncSeq.mergeAll\n",
    "        |> FSharp.Control.AsyncSeq.map (fun (t, events) ->\n",
    "            events\n",
    "            |> List.fold\n",
    "                (fun (i, events) event ->\n",
    "                    i + 1L,\n",
    "                    (t + i, event) :: events)\n",
    "                (0L, [])\n",
    "            |> snd\n",
    "            |> List.rev\n",
    "        )\n",
    "        |> FSharp.Control.AsyncSeq.concatSeq\n",
    "        |> FSharp.Control.AsyncSeq.mapAsyncParallel (fun (t, event) -> async {\n",
    "            match shouldReadContent event, event with\n",
    "            | true, FileSystemChange.Changed (path, _) ->\n",
    "                do! Async.Sleep 5\n",
    "                let! content = fullPath </> path |> readAllTextRetryAsync\n",
    "                return t, FileSystemChange.Changed (path, content)\n",
    "            | true, FileSystemChange.Created (path, _) ->\n",
    "                do! Async.Sleep 5\n",
    "                let! content = fullPath </> path |> readAllTextRetryAsync\n",
    "                return t, FileSystemChange.Created (path, content)\n",
    "            | true, FileSystemChange.Renamed (oldPath, (newPath, _)) ->\n",
    "                let! content = fullPath </> newPath |> readAllTextRetryAsync\n",
    "                return t, FileSystemChange.Renamed (oldPath, (newPath, content))\n",
    "            | _ -> return t, event\n",
    "        })\n",
    "\n",
    "    let disposable =\n",
    "        newDisposable (fun () ->\n",
    "            trace Debug (fun () -> \"watchWithFilter / Disposing watch stream\") getLocals\n",
    "            watcher.EnableRaisingEvents <- false\n",
    "            watcher.Dispose ()\n",
    "        )\n",
    "\n",
    "    stream, disposable\n",
    "\n",
    "let inline watchDirectory path =\n",
    "    watchDirectoryWithFilter\n",
    "        (System.IO.NotifyFilters.FileName\n",
    "        // ||| System.IO.NotifyFilters.DirectoryName\n",
    "        // ||| System.IO.NotifyFilters.Attributes\n",
    "        //// ||| System.IO.NotifyFilters.Size\n",
    "        ||| System.IO.NotifyFilters.LastWrite\n",
    "        //// ||| System.IO.NotifyFilters.LastAccess\n",
    "        // ||| System.IO.NotifyFilters.CreationTime\n",
    "        // ||| System.IO.NotifyFilters.Security\n",
    "        )\n",
    "        path"
   ]
  },
  {
   "cell_type": "markdown",
   "metadata": {},
   "source": [
    "### testEventsRaw (test)"
   ]
  },
  {
   "cell_type": "code",
   "execution_count": null,
   "metadata": {
    "dotnet_interactive": {
     "language": "fsharp"
    },
    "polyglot_notebook": {
     "kernelName": "fsharp"
    }
   },
   "outputs": [],
   "source": [
    "//// test\n",
    "\n",
    "let inline testEventsRaw\n",
    "    (watchFn : (_ -> bool) -> string -> FSharp.Control.AsyncSeq<int64 * FileSystemChange> * IDisposable)\n",
    "    write\n",
    "    =\n",
    "    let tempDirectory = createTempDirectory ()\n",
    "    let stream, disposable = watchFn (fun _ -> true) tempDirectory\n",
    "\n",
    "    let events = System.Collections.Concurrent.ConcurrentBag ()\n",
    "\n",
    "    let inline iter () =\n",
    "        stream\n",
    "        |> FSharp.Control.AsyncSeq.iterAsyncParallel (fun event -> async { events.Add event })\n",
    "\n",
    "    let run = async {\n",
    "        let! _ = iter () |> Async.StartChild\n",
    "        do! Async.Sleep 250\n",
    "        return! write tempDirectory\n",
    "    }\n",
    "\n",
    "    try\n",
    "        run\n",
    "        |> Async.runWithTimeout 60000\n",
    "        |> _equal (Some ())\n",
    "    finally\n",
    "        disposable.Dispose ()\n",
    "        deleteDirectoryAsync tempDirectory |> Async.Ignore |> Async.RunSynchronously\n",
    "\n",
    "    let eventsLog =\n",
    "        events\n",
    "        |> Seq.toList\n",
    "        |> List.sortBy fst\n",
    "        |> List.fold\n",
    "            (fun (prev, acc) (ticks, event) ->\n",
    "                ticks, (ticks, (if prev = 0L then 0L else ticks - prev), event) :: acc\n",
    "            )\n",
    "            (0L, [])\n",
    "        |> snd\n",
    "        |> List.rev\n",
    "        |> List.map (fun (diff, n, event) ->\n",
    "            let text = $\"{n} / {diff} / {event}\"\n",
    "            if text |> String.length <= 100\n",
    "            then text\n",
    "            else text |> String.substring 0 100 |> String.replace \"\\n\" \"\"\n",
    "        )\n",
    "        |> String.concat \"\\n\"\n",
    "    let getLocals () = $\"eventsLog: \\n{eventsLog} / {getLocals ()}\"\n",
    "    trace Debug (fun () -> \"testEventsRaw\") getLocals\n",
    "\n",
    "    events\n",
    "    |> Seq.toList\n",
    "    |> List.sortBy fst\n",
    "    |> List.map snd\n",
    "    |> List.fold\n",
    "        (fun acc event ->\n",
    "            match acc, event with\n",
    "            | FileSystemChange.Changed (lastPath, Some lastContent) as lastEvent :: acc,\n",
    "                FileSystemChange.Changed (path, Some content)\n",
    "                when lastPath = path && content |> String.startsWith lastContent\n",
    "                ->\n",
    "                event :: acc\n",
    "            | _ -> event :: acc\n",
    "        )\n",
    "        []\n",
    "    |> List.rev"
   ]
  },
  {
   "cell_type": "markdown",
   "metadata": {},
   "source": [
    "#### fast (test)"
   ]
  },
  {
   "cell_type": "code",
   "execution_count": null,
   "metadata": {
    "dotnet_interactive": {
     "language": "fsharp"
    },
    "polyglot_notebook": {
     "kernelName": "fsharp"
    }
   },
   "outputs": [
    {
     "name": "stdout",
     "output_type": "stream",
     "text": [
      "FSharpOption<Unit>\n",
      "      Value: <null>\n",
      "00:00:13 #47 [Debug] watchWithFilter / Disposing watch stream / filter: FileName, LastWrite\n",
      "00:00:13 #48 [Debug] testEventsRaw / eventsLog: \n",
      "0 / 638453377511622651 / Created (\"file1.txt\", Some \"a1\")\n",
      "13058 / 638453377511635709 / Changed (\"file1.txt\", Some \"a1\")\n",
      "1845 / 638453377511637554 / Created (\"file2.txt\", Some \"a2\")\n",
      "57 / 638453377511637611 / Changed (\"file2.txt\", Some \"a2\")\n",
      "2479898 / 638453377514117509 / Changed (\"file1.txt\", Some \"b1\")\n",
      "614 / 638453377514118123 / Changed (\"file1.txt\", Some \"b1\")\n",
      "6607 / 638453377514124730 / Changed (\"file2.txt\", Some \"b2\")\n",
      "2527659 / 638453377516652389 / Renamed (\"file1.txt\", (\"file_1.txt\", Some \"b1\"))\n",
      "1335 / 638453377516653724 / Renamed (\"file2.txt\", (\"file_2.txt\", Some \"b2\"))\n",
      "2521717 / 638453377519175441 / Changed (\"file_1.txt\", Some \"c1\")\n",
      "295 / 638453377519175736 / Changed (\"file_1.txt\", Some \"c1\")\n",
      "4680 / 638453377519180416 / Changed (\"file_2.txt\", Some \"c2\")\n",
      "397 / 638453377519180813 / Changed (\"file_2.txt\", Some \"c2\")\n",
      "2498837 / 638453377521679650 / Deleted \"file_1.txt\"\n",
      "946 / 638453377521680596 / Deleted \"file_2.txt\"\n",
      "FSharpList<FileSystemChange>\n",
      "      - path: file1.txt\n",
      "        content: FSharpOption<String>\n",
      "          Value: a1\n",
      "        IsFailure: False\n",
      "        IsChanged: False\n",
      "        IsCreated: True\n",
      "        IsDeleted: False\n",
      "        IsRenamed: False\n",
      "      - path: file1.txt\n",
      "        content: FSharpOption<String>\n",
      "          Value: a1\n",
      "        IsFailure: False\n",
      "        IsChanged: True\n",
      "        IsCreated: False\n",
      "        IsDeleted: False\n",
      "        IsRenamed: False\n",
      "      - path: file2.txt\n",
      "        content: FSharpOption<String>\n",
      "          Value: a2\n",
      "        IsFailure: False\n",
      "        IsChanged: False\n",
      "        IsCreated: True\n",
      "        IsDeleted: False\n",
      "        IsRenamed: False\n",
      "      - path: file2.txt\n",
      "        content: FSharpOption<String>\n",
      "          Value: a2\n",
      "        IsFailure: False\n",
      "        IsChanged: True\n",
      "        IsCreated: False\n",
      "        IsDeleted: False\n",
      "        IsRenamed: False\n",
      "      - path: file1.txt\n",
      "        content: FSharpOption<String>\n",
      "          Value: b1\n",
      "        IsFailure: False\n",
      "        IsChanged: True\n",
      "        IsCreated: False\n",
      "        IsDeleted: False\n",
      "        IsRenamed: False\n",
      "      - path: file2.txt\n",
      "        content: FSharpOption<String>\n",
      "          Value: b2\n",
      "        IsFailure: False\n",
      "        IsChanged: True\n",
      "        IsCreated: False\n",
      "        IsDeleted: False\n",
      "        IsRenamed: False\n",
      "      - oldPath: file1.txt\n",
      "        Item2:         - file_1.txt\n",
      "        - FSharpOption<String>\n",
      "            Value: b1\n",
      "      - IsFailure: False\n",
      "        IsChanged: False\n",
      "        IsCreated: False\n",
      "        IsDeleted: False\n",
      "        IsRenamed: True\n",
      "      - oldPath: file2.txt\n",
      "        Item2:         - file_2.txt\n",
      "        - FSharpOption<String>\n",
      "            Value: b2\n",
      "      - IsFailure: False\n",
      "        IsChanged: False\n",
      "        IsCreated: False\n",
      "        IsDeleted: False\n",
      "        IsRenamed: True\n",
      "      - path: file_1.txt\n",
      "        content: FSharpOption<String>\n",
      "          Value: c1\n",
      "        IsFailure: False\n",
      "        IsChanged: True\n",
      "        IsCreated: False\n",
      "        IsDeleted: False\n",
      "        IsRenamed: False\n",
      "      - path: file_2.txt\n",
      "        content: FSharpOption<String>\n",
      "          Value: c2\n",
      "        IsFailure: False\n",
      "        IsChanged: True\n",
      "        IsCreated: False\n",
      "        IsDeleted: False\n",
      "        IsRenamed: False\n",
      "      - path: file_1.txt\n",
      "        IsFailure: False\n",
      "        IsChanged: False\n",
      "        IsCreated: False\n",
      "        IsDeleted: True\n",
      "        IsRenamed: False\n",
      "      - path: file_2.txt\n",
      "        IsFailure: False\n",
      "        IsChanged: False\n",
      "        IsCreated: False\n",
      "        IsDeleted: True\n",
      "        IsRenamed: False\n",
      "FSharpOption<Unit>\n",
      "      Value: <null>\n"
     ]
    }
   ],
   "source": [
    "//// test\n",
    "\n",
    "let inline write path = async {\n",
    "    let n = 2\n",
    "\n",
    "    for i = 1 to n do\n",
    "        do! $\"a{i}\" |> writeAllTextAsync (path </> $\"file{i}.txt\")\n",
    "\n",
    "    do! Async.Sleep 250\n",
    "\n",
    "    for i = 1 to n do\n",
    "        do! $\"b{i}\" |> writeAllTextAsync (path </> $\"file{i}.txt\")\n",
    "\n",
    "    do! Async.Sleep 250\n",
    "\n",
    "    for i = 1 to n do\n",
    "        do! path </> $\"file{i}.txt\" |> moveFileAsync (path </> $\"file_{i}.txt\") |> Async.Ignore\n",
    "\n",
    "    do! Async.Sleep 250\n",
    "\n",
    "    for i = 1 to n do\n",
    "        do! $\"c{i}\" |> writeAllTextAsync (path </> $\"file_{i}.txt\")\n",
    "\n",
    "    do! Async.Sleep 250\n",
    "\n",
    "    for i = 1 to n do\n",
    "        do! deleteFileAsync (path </> $\"file_{i}.txt\") |> Async.Ignore\n",
    "\n",
    "    do! Async.Sleep 250\n",
    "}\n",
    "\n",
    "let inline run () =\n",
    "    let events = testEventsRaw watchDirectory write\n",
    "\n",
    "    events\n",
    "    |> _sequenceEqual [\n",
    "        FileSystemChange.Created (\"file1.txt\", Some \"a1\")\n",
    "        FileSystemChange.Changed (\"file1.txt\", Some \"a1\")\n",
    "        FileSystemChange.Created (\"file2.txt\", Some \"a2\")\n",
    "        FileSystemChange.Changed (\"file2.txt\", Some \"a2\")\n",
    "\n",
    "        FileSystemChange.Changed (\"file1.txt\", Some \"b1\")\n",
    "        FileSystemChange.Changed (\"file2.txt\", Some \"b2\")\n",
    "\n",
    "        FileSystemChange.Renamed (\"file1.txt\", (\"file_1.txt\", Some \"b1\"))\n",
    "        FileSystemChange.Renamed (\"file2.txt\", (\"file_2.txt\", Some \"b2\"))\n",
    "\n",
    "        FileSystemChange.Changed (\"file_1.txt\", Some \"c1\")\n",
    "        FileSystemChange.Changed (\"file_2.txt\", Some \"c2\")\n",
    "\n",
    "        FileSystemChange.Deleted \"file_1.txt\"\n",
    "        FileSystemChange.Deleted \"file_2.txt\"\n",
    "    ]\n",
    "\n",
    "run\n",
    "|> retryFn 3\n",
    "|> _equal (Some ())"
   ]
  },
  {
   "cell_type": "markdown",
   "metadata": {},
   "source": [
    "#### slow (test)"
   ]
  },
  {
   "cell_type": "code",
   "execution_count": null,
   "metadata": {
    "dotnet_interactive": {
     "language": "fsharp"
    },
    "polyglot_notebook": {
     "kernelName": "fsharp"
    }
   },
   "outputs": [
    {
     "name": "stdout",
     "output_type": "stream",
     "text": [
      "FSharpOption<Unit>\n",
      "      Value: <null>\n",
      "00:00:23 #49 [Debug] watchWithFilter / Disposing watch stream / filter: FileName, LastWrite\n",
      "00:00:26 #50 [Debug] testEventsRaw / eventsLog: \n",
      "0 / 638453377551213068 / Created  (\"file1.txt\",   Some     \"1111111111111111111111111111111111111\n",
      "2690 / 638453377551215758 / Changed  (\"file1.txt\",   Some     \"1111111111111111111111111111111111\n",
      "476 / 638453377551216234 / Changed  (\"file1.txt\",   Some     \"11111111111111111111111111111111111\n",
      "48 / 638453377551216282 / Changed  (\"file1.txt\",   Some     \"111111111111111111111111111111111111\n",
      "9561 / 638453377551225843 / Changed  (\"file1.txt\",   Some     \"1111111111111111111111111111111111\n",
      "81 / 638453377551225924 / Changed  (\"file1.txt\",   Some     \"111111111111111111111111111111111111\n",
      "1724 / 638453377551227648 / Changed  (\"file1.txt\",   Some     \"1111111111111111111111111111111111\n",
      "84 / 638453377551227732 / Changed  (\"file1.txt\",   Some     \"111111111111111111111111111111111111\n",
      "605 / 638453377551228337 / Changed  (\"file1.txt\",   Some     \"11111111111111111111111111111111111\n",
      "61 / 638453377551228398 / Changed  (\"file1.txt\",   Some     \"111111111111111111111111111111111111\n",
      "487 / 638453377551228885 / Changed  (\"file1.txt\",   Some     \"11111111111111111111111111111111111\n",
      "335 / 638453377551229220 / Changed  (\"file1.txt\",   Some     \"11111111111111111111111111111111111\n",
      "43 / 638453377551229263 / Changed  (\"file1.txt\",   Some     \"111111111111111111111111111111111111\n",
      "124 / 638453377551229387 / Changed  (\"file1.txt\",   Some     \"11111111111111111111111111111111111\n",
      "172 / 638453377551229559 / Changed  (\"file1.txt\",   Some     \"11111111111111111111111111111111111\n",
      "26492 / 638453377551256051 / Created  (\"file2.txt\",   Some     \"222222222222222222222222222222222\n",
      "182 / 638453377551256233 / Changed  (\"file2.txt\",   Some     \"22222222222222222222222222222222222\n",
      "136 / 638453377551256369 / Changed  (\"file2.txt\",   Some     \"22222222222222222222222222222222222\n",
      "4879 / 638453377551261248 / Changed  (\"file2.txt\",   Some     \"2222222222222222222222222222222222\n",
      "259 / 638453377551261507 / Changed  (\"file2.txt\",   Some     \"22222222222222222222222222222222222\n",
      "252 / 638453377551261759 / Changed  (\"file2.txt\",   Some     \"22222222222222222222222222222222222\n",
      "50 / 638453377551261809 / Changed  (\"file2.txt\",   Some     \"222222222222222222222222222222222222\n",
      "5983 / 638453377551267792 / Changed  (\"file2.txt\",   Some     \"2222222222222222222222222222222222\n",
      "98 / 638453377551267890 / Changed  (\"file2.txt\",   Some     \"222222222222222222222222222222222222\n",
      "281 / 638453377551268171 / Changed  (\"file2.txt\",   Some     \"22222222222222222222222222222222222\n",
      "229 / 638453377551268400 / Changed  (\"file2.txt\",   Some     \"22222222222222222222222222222222222\n",
      "164 / 638453377551268564 / Changed  (\"file2.txt\",   Some     \"22222222222222222222222222222222222\n",
      "352 / 638453377551268916 / Changed  (\"file2.txt\",   Some     \"22222222222222222222222222222222222\n",
      "6043 / 638453377551274959 / Changed  (\"file2.txt\",   Some     \"2222222222222222222222222222222222\n",
      "15055902 / 638453377566330861 / Changed  (\"file1.txt\",   Some     \"111111111111111111111111111111\n",
      "261 / 638453377566331122 / Changed  (\"file1.txt\",   Some     \"11111111111111111111111111111111111\n",
      "1294 / 638453377566332416 / Changed  (\"file1.txt\",   Some     \"1111111111111111111111111111111111\n",
      "741 / 638453377566333157 / Changed  (\"file1.txt\",   Some     \"11111111111111111111111111111111111\n",
      "53 / 638453377566333210 / Changed  (\"file1.txt\",   Some     \"111111111111111111111111111111111111\n",
      "234 / 638453377566333444 / Changed  (\"file1.txt\",   Some     \"11111111111111111111111111111111111\n",
      "195 / 638453377566333639 / Changed  (\"file1.txt\",   Some     \"11111111111111111111111111111111111\n",
      "181 / 638453377566333820 / Changed  (\"file1.txt\",   Some     \"11111111111111111111111111111111111\n",
      "296 / 638453377566334116 / Changed  (\"file1.txt\",   Some     \"11111111111111111111111111111111111\n",
      "255 / 638453377566334371 / Changed  (\"file1.txt\",   Some     \"11111111111111111111111111111111111\n",
      "42 / 638453377566334413 / Changed  (\"file1.txt\",   Some     \"111111111111111111111111111111111111\n",
      "335 / 638453377566334748 / Changed  (\"file1.txt\",   Some     \"11111111111111111111111111111111111\n",
      "147 / 638453377566334895 / Changed  (\"file1.txt\",   Some     \"11111111111111111111111111111111111\n",
      "235 / 638453377566335130 / Changed  (\"file1.txt\",   Some     \"11111111111111111111111111111111111\n",
      "33 / 638453377566335163 / Changed  (\"file1.txt\",   Some     \"111111111111111111111111111111111111\n",
      "457 / 638453377566335620 / Changed  (\"file1.txt\",   Some     \"11111111111111111111111111111111111\n",
      "198 / 638453377566335818 / Changed  (\"file1.txt\",   Some     \"11111111111111111111111111111111111\n",
      "109 / 638453377566335927 / Changed  (\"file1.txt\",   Some     \"11111111111111111111111111111111111\n",
      "189 / 638453377566336116 / Changed  (\"file1.txt\",   Some     \"11111111111111111111111111111111111\n",
      "168 / 638453377566336284 / Changed  (\"file1.txt\",   Some     \"11111111111111111111111111111111111\n",
      "158 / 638453377566336442 / Changed  (\"file1.txt\",   Some     \"11111111111111111111111111111111111\n",
      "203 / 638453377566336645 / Changed  (\"file1.txt\",   Some     \"11111111111111111111111111111111111\n",
      "142 / 638453377566336787 / Changed  (\"file1.txt\",   Some     \"11111111111111111111111111111111111\n",
      "163 / 638453377566336950 / Changed  (\"file1.txt\",   Some     \"11111111111111111111111111111111111\n",
      "155 / 638453377566337105 / Changed  (\"file1.txt\",   Some     \"11111111111111111111111111111111111\n",
      "92 / 638453377566337197 / Changed  (\"file1.txt\",   Some     \"111111111111111111111111111111111111\n",
      "203 / 638453377566337400 / Changed  (\"file1.txt\",   Some     \"11111111111111111111111111111111111\n",
      "86 / 638453377566337486 / Changed  (\"file1.txt\",   Some     \"111111111111111111111111111111111111\n",
      "239 / 638453377566337725 / Changed  (\"file1.txt\",   Some     \"11111111111111111111111111111111111\n",
      "431 / 638453377566338156 / Changed  (\"file1.txt\",   Some     \"11111111111111111111111111111111111\n",
      "156 / 638453377566338312 / Changed  (\"file1.txt\",   Some     \"11111111111111111111111111111111111\n",
      "205 / 638453377566338517 / Changed  (\"file1.txt\",   Some     \"11111111111111111111111111111111111\n",
      "188 / 638453377566338705 / Changed  (\"file1.txt\",   Some     \"11111111111111111111111111111111111\n",
      "43 / 638453377566338748 / Changed  (\"file1.txt\",   Some     \"111111111111111111111111111111111111\n",
      "225 / 638453377566338973 / Changed  (\"file1.txt\",   Some     \"11111111111111111111111111111111111\n",
      "164 / 638453377566339137 / Changed  (\"file1.txt\",   Some     \"11111111111111111111111111111111111\n",
      "194 / 638453377566339331 / Changed  (\"file1.txt\",   Some     \"11111111111111111111111111111111111\n",
      "189 / 638453377566339520 / Changed  (\"file1.txt\",   Some     \"11111111111111111111111111111111111\n",
      "283 / 638453377566339803 / Changed  (\"file1.txt\",   Some     \"11111111111111111111111111111111111\n",
      "278 / 638453377566340081 / Changed  (\"file1.txt\",   Some     \"11111111111111111111111111111111111\n",
      "280 / 638453377566340361 / Changed  (\"file1.txt\",   Some     \"11111111111111111111111111111111111\n",
      "177 / 638453377566340538 / Changed  (\"file1.txt\",   Some     \"11111111111111111111111111111111111\n",
      "195 / 638453377566340733 / Changed  (\"file1.txt\",   Some     \"11111111111111111111111111111111111\n",
      "239 / 638453377566340972 / Changed  (\"file1.txt\",   Some     \"11111111111111111111111111111111111\n",
      "200 / 638453377566341172 / Changed  (\"file1.txt\",   Some     \"11111111111111111111111111111111111\n",
      "161 / 638453377566341333 / Changed  (\"file1.txt\",   Some     \"11111111111111111111111111111111111\n",
      "145 / 638453377566341478 / Changed  (\"file1.txt\",   Some     \"11111111111111111111111111111111111\n",
      "168 / 638453377566341646 / Changed  (\"file1.txt\",   Some     \"11111111111111111111111111111111111\n",
      "177 / 638453377566341823 / Changed  (\"file1.txt\",   Some     \"11111111111111111111111111111111111\n",
      "206 / 638453377566342029 / Changed  (\"file1.txt\",   Some     \"11111111111111111111111111111111111\n",
      "167 / 638453377566342196 / Changed  (\"file1.txt\",   Some     \"11111111111111111111111111111111111\n",
      "150 / 638453377566342346 / Changed  (\"file1.txt\",   Some     \"11111111111111111111111111111111111\n",
      "169 / 638453377566342515 / Changed  (\"file1.txt\",   Some     \"11111111111111111111111111111111111\n",
      "193 / 638453377566342708 / Changed  (\"file1.txt\",   Some     \"11111111111111111111111111111111111\n",
      "95 / 638453377566342803 / Changed  (\"file1.txt\",   Some     \"111111111111111111111111111111111111\n",
      "200 / 638453377566343003 / Changed  (\"file1.txt\",   Some     \"11111111111111111111111111111111111\n",
      "100 / 638453377566343103 / Changed  (\"file1.txt\",   Some     \"11111111111111111111111111111111111\n",
      "229 / 638453377566343332 / Changed  (\"file1.txt\",   Some     \"11111111111111111111111111111111111\n",
      "188 / 638453377566343520 / Changed  (\"file1.txt\",   Some     \"11111111111111111111111111111111111\n",
      "158 / 638453377566343678 / Changed  (\"file1.txt\",   Some     \"11111111111111111111111111111111111\n",
      "148 / 638453377566343826 / Changed  (\"file1.txt\",   Some     \"11111111111111111111111111111111111\n",
      "142 / 638453377566343968 / Changed  (\"file1.txt\",   Some     \"11111111111111111111111111111111111\n",
      "182 / 638453377566344150 / Changed  (\"file1.txt\",   Some     \"11111111111111111111111111111111111\n",
      "194 / 638453377566344344 / Changed  (\"file1.txt\",   Some     \"11111111111111111111111111111111111\n",
      "180 / 638453377566344524 / Changed  (\"file1.txt\",   Some     \"11111111111111111111111111111111111\n",
      "212 / 638453377566344736 / Changed  (\"file1.txt\",   Some     \"11111111111111111111111111111111111\n",
      "157 / 638453377566344893 / Changed  (\"file1.txt\",   Some     \"11111111111111111111111111111111111\n",
      "49 / 638453377566344942 / Changed  (\"file1.txt\",   Some     \"111111111111111111111111111111111111\n",
      "324 / 638453377566345266 / Changed  (\"file1.txt\",   Some     \"11111111111111111111111111111111111\n",
      "197 / 638453377566345463 / Changed  (\"file1.txt\",   Some     \"11111111111111111111111111111111111\n",
      "157 / 638453377566345620 / Changed  (\"file1.txt\",   Some     \"11111111111111111111111111111111111\n",
      "107 / 638453377566345727 / Changed  (\"file1.txt\",   Some     \"11111111111111111111111111111111111\n",
      "205 / 638453377566345932 / Changed  (\"file1.txt\",   Some     \"11111111111111111111111111111111111\n",
      "165 / 638453377566346097 / Changed  (\"file1.txt\",   Some     \"11111111111111111111111111111111111\n",
      "185 / 638453377566346282 / Changed  (\"file1.txt\",   Some     \"11111111111111111111111111111111111\n",
      "146 / 638453377566346428 / Changed  (\"file1.txt\",   Some     \"11111111111111111111111111111111111\n",
      "135 / 638453377566346563 / Changed  (\"file1.txt\",   Some     \"11111111111111111111111111111111111\n",
      "146 / 638453377566346709 / Changed  (\"file1.txt\",   Some     \"11111111111111111111111111111111111\n",
      "173 / 638453377566346882 / Changed  (\"file1.txt\",   Some     \"11111111111111111111111111111111111\n",
      "152 / 638453377566347034 / Changed  (\"file1.txt\",   Some     \"11111111111111111111111111111111111\n",
      "187 / 638453377566347221 / Changed  (\"file1.txt\",   Some     \"11111111111111111111111111111111111\n",
      "118 / 638453377566347339 / Changed  (\"file1.txt\",   Some     \"11111111111111111111111111111111111\n",
      "190 / 638453377566347529 / Changed  (\"file1.txt\",   Some     \"11111111111111111111111111111111111\n",
      "153 / 638453377566347682 / Changed  (\"file1.txt\",   Some     \"11111111111111111111111111111111111\n",
      "360 / 638453377566348042 / Changed  (\"file1.txt\",   Some     \"11111111111111111111111111111111111\n",
      "264 / 638453377566348306 / Changed  (\"file1.txt\",   Some     \"11111111111111111111111111111111111\n",
      "102 / 638453377566348408 / Changed  (\"file1.txt\",   Some     \"11111111111111111111111111111111111\n",
      "194 / 638453377566348602 / Changed  (\"file1.txt\",   Some     \"11111111111111111111111111111111111\n",
      "93 / 638453377566348695 / Changed  (\"file1.txt\",   Some     \"111111111111111111111111111111111111\n",
      "229 / 638453377566348924 / Changed  (\"file1.txt\",   Some     \"11111111111111111111111111111111111\n",
      "42 / 638453377566348966 / Changed  (\"file1.txt\",   Some     \"111111111111111111111111111111111111\n",
      "219 / 638453377566349185 / Changed  (\"file1.txt\",   Some     \"11111111111111111111111111111111111\n",
      "172 / 638453377566349357 / Changed  (\"file1.txt\",   Some     \"11111111111111111111111111111111111\n",
      "191 / 638453377566349548 / Changed  (\"file1.txt\",   Some     \"11111111111111111111111111111111111\n",
      "168 / 638453377566349716 / Changed  (\"file1.txt\",   Some     \"11111111111111111111111111111111111\n",
      "98 / 638453377566349814 / Changed  (\"file1.txt\",   Some     \"111111111111111111111111111111111111\n",
      "192 / 638453377566350006 / Changed  (\"file1.txt\",   Some     \"11111111111111111111111111111111111\n",
      "201 / 638453377566350207 / Changed  (\"file1.txt\",   Some     \"11111111111111111111111111111111111\n",
      "183 / 638453377566350390 / Changed  (\"file1.txt\",   Some     \"11111111111111111111111111111111111\n",
      "189 / 638453377566350579 / Changed  (\"file1.txt\",   Some     \"11111111111111111111111111111111111\n",
      "90 / 638453377566350669 / Changed  (\"file1.txt\",   Some     \"111111111111111111111111111111111111\n",
      "224 / 638453377566350893 / Changed  (\"file1.txt\",   Some     \"11111111111111111111111111111111111\n",
      "248 / 638453377566351141 / Changed  (\"file1.txt\",   Some     \"11111111111111111111111111111111111\n",
      "210 / 638453377566351351 / Changed  (\"file1.txt\",   Some     \"11111111111111111111111111111111111\n",
      "220 / 638453377566351571 / Changed  (\"file1.txt\",   Some     \"11111111111111111111111111111111111\n",
      "251 / 638453377566351822 / Changed  (\"file1.txt\",   Some     \"11111111111111111111111111111111111\n",
      "194 / 638453377566352016 / Changed  (\"file1.txt\",   Some     \"11111111111111111111111111111111111\n",
      "57 / 638453377566352073 / Changed  (\"file1.txt\",   Some     \"111111111111111111111111111111111111\n",
      "207 / 638453377566352280 / Changed  (\"file1.txt\",   Some     \"11111111111111111111111111111111111\n",
      "175 / 638453377566352455 / Changed  (\"file1.txt\",   Some     \"11111111111111111111111111111111111\n",
      "193 / 638453377566352648 / Changed  (\"file1.txt\",   Some     \"11111111111111111111111111111111111\n",
      "158 / 638453377566352806 / Changed  (\"file1.txt\",   Some     \"11111111111111111111111111111111111\n",
      "150 / 638453377566352956 / Changed  (\"file1.txt\",   Some     \"11111111111111111111111111111111111\n",
      "186 / 638453377566353142 / Changed  (\"file1.txt\",   Some     \"11111111111111111111111111111111111\n",
      "196 / 638453377566353338 / Changed  (\"file1.txt\",   Some     \"11111111111111111111111111111111111\n",
      "184 / 638453377566353522 / Changed  (\"file1.txt\",   Some     \"11111111111111111111111111111111111\n",
      "104 / 638453377566353626 / Changed  (\"file1.txt\",   Some     \"11111111111111111111111111111111111\n",
      "231 / 638453377566353857 / Changed  (\"file1.txt\",   Some     \"11111111111111111111111111111111111\n",
      "183 / 638453377566354040 / Changed  (\"file1.txt\",   Some     \"11111111111111111111111111111111111\n",
      "199 / 638453377566354239 / Changed  (\"file1.txt\",   Some     \"11111111111111111111111111111111111\n",
      "40 / 638453377566354279 / Changed  (\"file1.txt\",   Some     \"111111111111111111111111111111111111\n",
      "183 / 638453377566354462 / Changed  (\"file1.txt\",   Some     \"11111111111111111111111111111111111\n",
      "13837 / 638453377566368299 / Changed  (\"file2.txt\",   Some     \"222222222222222222222222222222222\n",
      "260 / 638453377566368559 / Changed  (\"file2.txt\",   Some     \"22222222222222222222222222222222222\n",
      "286 / 638453377566368845 / Changed  (\"file2.txt\",   Some     \"22222222222222222222222222222222222\n",
      "153 / 638453377566368998 / Changed  (\"file2.txt\",   Some     \"22222222222222222222222222222222222\n",
      "199 / 638453377566369197 / Changed  (\"file2.txt\",   Some     \"22222222222222222222222222222222222\n",
      "179 / 638453377566369376 / Changed  (\"file2.txt\",   Some     \"22222222222222222222222222222222222\n",
      "174 / 638453377566369550 / Changed  (\"file2.txt\",   Some     \"22222222222222222222222222222222222\n",
      "180 / 638453377566369730 / Changed  (\"file2.txt\",   Some     \"22222222222222222222222222222222222\n",
      "167 / 638453377566369897 / Changed  (\"file2.txt\",   Some     \"22222222222222222222222222222222222\n",
      "181 / 638453377566370078 / Changed  (\"file2.txt\",   Some     \"22222222222222222222222222222222222\n",
      "186 / 638453377566370264 / Changed  (\"file2.txt\",   Some     \"22222222222222222222222222222222222\n",
      "110 / 638453377566370374 / Changed  (\"file2.txt\",   Some     \"22222222222222222222222222222222222\n",
      "264 / 638453377566370638 / Changed  (\"file2.txt\",   Some     \"22222222222222222222222222222222222\n",
      "165 / 638453377566370803 / Changed  (\"file2.txt\",   Some     \"22222222222222222222222222222222222\n",
      "192 / 638453377566370995 / Changed  (\"file2.txt\",   Some     \"22222222222222222222222222222222222\n",
      "148 / 638453377566371143 / Changed  (\"file2.txt\",   Some     \"22222222222222222222222222222222222\n",
      "154 / 638453377566371297 / Changed  (\"file2.txt\",   Some     \"22222222222222222222222222222222222\n",
      "149 / 638453377566371446 / Changed  (\"file2.txt\",   Some     \"22222222222222222222222222222222222\n",
      "148 / 638453377566371594 / Changed  (\"file2.txt\",   Some     \"22222222222222222222222222222222222\n",
      "180 / 638453377566371774 / Changed  (\"file2.txt\",   Some     \"22222222222222222222222222222222222\n",
      "162 / 638453377566371936 / Changed  (\"file2.txt\",   Some     \"22222222222222222222222222222222222\n",
      "175 / 638453377566372111 / Changed  (\"file2.txt\",   Some     \"22222222222222222222222222222222222\n",
      "183 / 638453377566372294 / Changed  (\"file2.txt\",   Some     \"22222222222222222222222222222222222\n",
      "179 / 638453377566372473 / Changed  (\"file2.txt\",   Some     \"22222222222222222222222222222222222\n",
      "169 / 638453377566372642 / Changed  (\"file2.txt\",   Some     \"22222222222222222222222222222222222\n",
      "175 / 638453377566372817 / Changed  (\"file2.txt\",   Some     \"22222222222222222222222222222222222\n",
      "170 / 638453377566372987 / Changed  (\"file2.txt\",   Some     \"22222222222222222222222222222222222\n",
      "176 / 638453377566373163 / Changed  (\"file2.txt\",   Some     \"22222222222222222222222222222222222\n",
      "148 / 638453377566373311 / Changed  (\"file2.txt\",   Some     \"22222222222222222222222222222222222\n",
      "145 / 638453377566373456 / Changed  (\"file2.txt\",   Some     \"22222222222222222222222222222222222\n",
      "199 / 638453377566373655 / Changed  (\"file2.txt\",   Some     \"22222222222222222222222222222222222\n",
      "192 / 638453377566373847 / Changed  (\"file2.txt\",   Some     \"22222222222222222222222222222222222\n",
      "146 / 638453377566373993 / Changed  (\"file2.txt\",   Some     \"22222222222222222222222222222222222\n",
      "100 / 638453377566374093 / Changed  (\"file2.txt\",   Some     \"22222222222222222222222222222222222\n",
      "299 / 638453377566374392 / Changed  (\"file2.txt\",   Some     \"22222222222222222222222222222222222\n",
      "181 / 638453377566374573 / Changed  (\"file2.txt\",   Some     \"22222222222222222222222222222222222\n",
      "189 / 638453377566374762 / Changed  (\"file2.txt\",   Some     \"22222222222222222222222222222222222\n",
      "187 / 638453377566374949 / Changed  (\"file2.txt\",   Some     \"22222222222222222222222222222222222\n",
      "97 / 638453377566375046 / Changed  (\"file2.txt\",   Some     \"222222222222222222222222222222222222\n",
      "303 / 638453377566375349 / Changed  (\"file2.txt\",   Some     \"22222222222222222222222222222222222\n",
      "204 / 638453377566375553 / Changed  (\"file2.txt\",   Some     \"22222222222222222222222222222222222\n",
      "199 / 638453377566375752 / Changed  (\"file2.txt\",   Some     \"22222222222222222222222222222222222\n",
      "221 / 638453377566375973 / Changed  (\"file2.txt\",   Some     \"22222222222222222222222222222222222\n",
      "206 / 638453377566376179 / Changed  (\"file2.txt\",   Some     \"22222222222222222222222222222222222\n",
      "152 / 638453377566376331 / Changed  (\"file2.txt\",   Some     \"22222222222222222222222222222222222\n",
      "126 / 638453377566376457 / Changed  (\"file2.txt\",   Some     \"22222222222222222222222222222222222\n",
      "189 / 638453377566376646 / Changed  (\"file2.txt\",   Some     \"22222222222222222222222222222222222\n",
      "99 / 638453377566376745 / Changed  (\"file2.txt\",   Some     \"222222222222222222222222222222222222\n",
      "219 / 638453377566376964 / Changed  (\"file2.txt\",   Some     \"22222222222222222222222222222222222\n",
      "244 / 638453377566377208 / Changed  (\"file2.txt\",   Some     \"22222222222222222222222222222222222\n",
      "208 / 638453377566377416 / Changed  (\"file2.txt\",   Some     \"22222222222222222222222222222222222\n",
      "193 / 638453377566377609 / Changed  (\"file2.txt\",   Some     \"22222222222222222222222222222222222\n",
      "214 / 638453377566377823 / Changed  (\"file2.txt\",   Some     \"22222222222222222222222222222222222\n",
      "248 / 638453377566378071 / Changed  (\"file2.txt\",   Some     \"22222222222222222222222222222222222\n",
      "198 / 638453377566378269 / Changed  (\"file2.txt\",   Some     \"22222222222222222222222222222222222\n",
      "101 / 638453377566378370 / Changed  (\"file2.txt\",   Some     \"22222222222222222222222222222222222\n",
      "203 / 638453377566378573 / Changed  (\"file2.txt\",   Some     \"22222222222222222222222222222222222\n",
      "188 / 638453377566378761 / Changed  (\"file2.txt\",   Some     \"22222222222222222222222222222222222\n",
      "182 / 638453377566378943 / Changed  (\"file2.txt\",   Some     \"22222222222222222222222222222222222\n",
      "148 / 638453377566379091 / Changed  (\"file2.txt\",   Some     \"22222222222222222222222222222222222\n",
      "140 / 638453377566379231 / Changed  (\"file2.txt\",   Some     \"22222222222222222222222222222222222\n",
      "198 / 638453377566379429 / Changed  (\"file2.txt\",   Some     \"22222222222222222222222222222222222\n",
      "186 / 638453377566379615 / Changed  (\"file2.txt\",   Some     \"22222222222222222222222222222222222\n",
      "101 / 638453377566379716 / Changed  (\"file2.txt\",   Some     \"22222222222222222222222222222222222\n",
      "183 / 638453377566379899 / Changed  (\"file2.txt\",   Some     \"22222222222222222222222222222222222\n",
      "172 / 638453377566380071 / Changed  (\"file2.txt\",   Some     \"22222222222222222222222222222222222\n",
      "203 / 638453377566380274 / Changed  (\"file2.txt\",   Some     \"22222222222222222222222222222222222\n",
      "99 / 638453377566380373 / Changed  (\"file2.txt\",   Some     \"222222222222222222222222222222222222\n",
      "197 / 638453377566380570 / Changed  (\"file2.txt\",   Some     \"22222222222222222222222222222222222\n",
      "171 / 638453377566380741 / Changed  (\"file2.txt\",   Some     \"22222222222222222222222222222222222\n",
      "179 / 638453377566380920 / Changed  (\"file2.txt\",   Some     \"22222222222222222222222222222222222\n",
      "184 / 638453377566381104 / Changed  (\"file2.txt\",   Some     \"22222222222222222222222222222222222\n",
      "149 / 638453377566381253 / Changed  (\"file2.txt\",   Some     \"22222222222222222222222222222222222\n",
      "172 / 638453377566381425 / Changed  (\"file2.txt\",   Some     \"22222222222222222222222222222222222\n",
      "152 / 638453377566381577 / Changed  (\"file2.txt\",   Some     \"22222222222222222222222222222222222\n",
      "198 / 638453377566381775 / Changed  (\"file2.txt\",   Some     \"22222222222222222222222222222222222\n",
      "182 / 638453377566381957 / Changed  (\"file2.txt\",   Some     \"22222222222222222222222222222222222\n",
      "149 / 638453377566382106 / Changed  (\"file2.txt\",   Some     \"22222222222222222222222222222222222\n",
      "158 / 638453377566382264 / Changed  (\"file2.txt\",   Some     \"22222222222222222222222222222222222\n",
      "176 / 638453377566382440 / Changed  (\"file2.txt\",   Some     \"22222222222222222222222222222222222\n",
      "188 / 638453377566382628 / Changed  (\"file2.txt\",   Some     \"22222222222222222222222222222222222\n",
      "101 / 638453377566382729 / Changed  (\"file2.txt\",   Some     \"22222222222222222222222222222222222\n",
      "189 / 638453377566382918 / Changed  (\"file2.txt\",   Some     \"22222222222222222222222222222222222\n",
      "167 / 638453377566383085 / Changed  (\"file2.txt\",   Some     \"22222222222222222222222222222222222\n",
      "220 / 638453377566383305 / Changed  (\"file2.txt\",   Some     \"22222222222222222222222222222222222\n",
      "159 / 638453377566383464 / Changed  (\"file2.txt\",   Some     \"22222222222222222222222222222222222\n",
      "196 / 638453377566383660 / Changed  (\"file2.txt\",   Some     \"22222222222222222222222222222222222\n",
      "181 / 638453377566383841 / Changed  (\"file2.txt\",   Some     \"22222222222222222222222222222222222\n",
      "264 / 638453377566384105 / Changed  (\"file2.txt\",   Some     \"22222222222222222222222222222222222\n",
      "209 / 638453377566384314 / Changed  (\"file2.txt\",   Some     \"22222222222222222222222222222222222\n",
      "195 / 638453377566384509 / Changed  (\"file2.txt\",   Some     \"22222222222222222222222222222222222\n",
      "245 / 638453377566384754 / Changed  (\"file2.txt\",   Some     \"22222222222222222222222222222222222\n",
      "156 / 638453377566384910 / Changed  (\"file2.txt\",   Some     \"22222222222222222222222222222222222\n",
      "145 / 638453377566385055 / Changed  (\"file2.txt\",   Some     \"22222222222222222222222222222222222\n",
      "157 / 638453377566385212 / Changed  (\"file2.txt\",   Some     \"22222222222222222222222222222222222\n",
      "239 / 638453377566385451 / Changed  (\"file2.txt\",   Some     \"22222222222222222222222222222222222\n",
      "208 / 638453377566385659 / Changed  (\"file2.txt\",   Some     \"22222222222222222222222222222222222\n",
      "191 / 638453377566385850 / Changed  (\"file2.txt\",   Some     \"22222222222222222222222222222222222\n",
      "209 / 638453377566386059 / Changed  (\"file2.txt\",   Some     \"22222222222222222222222222222222222\n",
      "214 / 638453377566386273 / Changed  (\"file2.txt\",   Some     \"22222222222222222222222222222222222\n",
      "161 / 638453377566386434 / Changed  (\"file2.txt\",   Some     \"22222222222222222222222222222222222\n",
      "177 / 638453377566386611 / Changed  (\"file2.txt\",   Some     \"22222222222222222222222222222222222\n",
      "162 / 638453377566386773 / Changed  (\"file2.txt\",   Some     \"22222222222222222222222222222222222\n",
      "176 / 638453377566386949 / Changed  (\"file2.txt\",   Some     \"22222222222222222222222222222222222\n",
      "176 / 638453377566387125 / Changed  (\"file2.txt\",   Some     \"22222222222222222222222222222222222\n",
      "155 / 638453377566387280 / Changed  (\"file2.txt\",   Some     \"22222222222222222222222222222222222\n",
      "162 / 638453377566387442 / Changed  (\"file2.txt\",   Some     \"22222222222222222222222222222222222\n",
      "180 / 638453377566387622 / Changed  (\"file2.txt\",   Some     \"22222222222222222222222222222222222\n",
      "288 / 638453377566387910 / Changed  (\"file2.txt\",   Some     \"22222222222222222222222222222222222\n",
      "195 / 638453377566388105 / Changed  (\"file2.txt\",   Some     \"22222222222222222222222222222222222\n",
      "191 / 638453377566388296 / Changed  (\"file2.txt\",   Some     \"22222222222222222222222222222222222\n",
      "189 / 638453377566388485 / Changed  (\"file2.txt\",   Some     \"22222222222222222222222222222222222\n",
      "197 / 638453377566388682 / Changed  (\"file2.txt\",   Some     \"22222222222222222222222222222222222\n",
      "239 / 638453377566388921 / Changed  (\"file2.txt\",   Some     \"22222222222222222222222222222222222\n",
      "202 / 638453377566389123 / Changed  (\"file2.txt\",   Some     \"22222222222222222222222222222222222\n",
      "151 / 638453377566389274 / Changed  (\"file2.txt\",   Some     \"22222222222222222222222222222222222\n",
      "99 / 638453377566389373 / Changed  (\"file2.txt\",   Some     \"222222222222222222222222222222222222\n",
      "199 / 638453377566389572 / Changed  (\"file2.txt\",   Some     \"22222222222222222222222222222222222\n",
      "169 / 638453377566389741 / Changed  (\"file2.txt\",   Some     \"22222222222222222222222222222222222\n",
      "216 / 638453377566389957 / Changed  (\"file2.txt\",   Some     \"22222222222222222222222222222222222\n",
      "153 / 638453377566390110 / Changed  (\"file2.txt\",   Some     \"22222222222222222222222222222222222\n",
      "240 / 638453377566390350 / Changed  (\"file2.txt\",   Some     \"22222222222222222222222222222222222\n",
      "51 / 638453377566390401 / Changed  (\"file2.txt\",   Some     \"222222222222222222222222222222222222\n",
      "253 / 638453377566390654 / Changed  (\"file2.txt\",   Some     \"22222222222222222222222222222222222\n",
      "173 / 638453377566390827 / Changed  (\"file2.txt\",   Some     \"22222222222222222222222222222222222\n",
      "15043828 / 638453377581434655 / Renamed  (\"file1.txt\",   (\"file_1.txt\",    Some      \"1111111111\n",
      "544 / 638453377581435199 / Renamed  (\"file2.txt\",   (\"file_2.txt\",    Some      \"222222222222222\n",
      "15049823 / 638453377596485022 / Changed  (\"file_1.txt\",   Some     \"11111111111111111111111111111\n",
      "845 / 638453377596485867 / Changed  (\"file_1.txt\",   Some     \"1111111111111111111111111111111111\n",
      "344 / 638453377596486211 / Changed  (\"file_1.txt\",   Some     \"1111111111111111111111111111111111\n",
      "146 / 638453377596486357 / Changed  (\"file_1.txt\",   Some     \"1111111111111111111111111111111111\n",
      "135 / 638453377596486492 / Changed  (\"file_1.txt\",   Some     \"1111111111111111111111111111111111\n",
      "227 / 638453377596486719 / Changed  (\"file_1.txt\",   Some     \"1111111111111111111111111111111111\n",
      "150 / 638453377596486869 / Changed  (\"file_1.txt\",   Some     \"1111111111111111111111111111111111\n",
      "228 / 638453377596487097 / Changed  (\"file_1.txt\",   Some     \"1111111111111111111111111111111111\n",
      "183 / 638453377596487280 / Changed  (\"file_1.txt\",   Some     \"1111111111111111111111111111111111\n",
      "30 / 638453377596487310 / Changed  (\"file_1.txt\",   Some     \"11111111111111111111111111111111111\n",
      "292 / 638453377596487602 / Changed  (\"file_1.txt\",   Some     \"1111111111111111111111111111111111\n",
      "35 / 638453377596487637 / Changed  (\"file_1.txt\",   Some     \"11111111111111111111111111111111111\n",
      "221 / 638453377596487858 / Changed  (\"file_1.txt\",   Some     \"1111111111111111111111111111111111\n",
      "100 / 638453377596487958 / Changed  (\"file_1.txt\",   Some     \"1111111111111111111111111111111111\n",
      "228 / 638453377596488186 / Changed  (\"file_1.txt\",   Some     \"1111111111111111111111111111111111\n",
      "204 / 638453377596488390 / Changed  (\"file_1.txt\",   Some     \"1111111111111111111111111111111111\n",
      "138 / 638453377596488528 / Changed  (\"file_1.txt\",   Some     \"1111111111111111111111111111111111\n",
      "135 / 638453377596488663 / Changed  (\"file_1.txt\",   Some     \"1111111111111111111111111111111111\n",
      "161 / 638453377596488824 / Changed  (\"file_1.txt\",   Some     \"1111111111111111111111111111111111\n",
      "154 / 638453377596488978 / Changed  (\"file_1.txt\",   Some     \"1111111111111111111111111111111111\n",
      "116 / 638453377596489094 / Changed  (\"file_1.txt\",   Some     \"1111111111111111111111111111111111\n",
      "223 / 638453377596489317 / Changed  (\"file_1.txt\",   Some     \"1111111111111111111111111111111111\n",
      "190 / 638453377596489507 / Changed  (\"file_1.txt\",   Some     \"1111111111111111111111111111111111\n",
      "43 / 638453377596489550 / Changed  (\"file_1.txt\",   Some     \"11111111111111111111111111111111111\n",
      "243 / 638453377596489793 / Changed  (\"file_1.txt\",   Some     \"1111111111111111111111111111111111\n",
      "171 / 638453377596489964 / Changed  (\"file_1.txt\",   Some     \"1111111111111111111111111111111111\n",
      "299 / 638453377596490263 / Changed  (\"file_1.txt\",   Some     \"1111111111111111111111111111111111\n",
      "241 / 638453377596490504 / Changed  (\"file_1.txt\",   Some     \"1111111111111111111111111111111111\n",
      "193 / 638453377596490697 / Changed  (\"file_1.txt\",   Some     \"1111111111111111111111111111111111\n",
      "54 / 638453377596490751 / Changed  (\"file_1.txt\",   Some     \"11111111111111111111111111111111111\n",
      "135 / 638453377596490886 / Changed  (\"file_1.txt\",   Some     \"1111111111111111111111111111111111\n",
      "202 / 638453377596491088 / Changed  (\"file_1.txt\",   Some     \"1111111111111111111111111111111111\n",
      "205 / 638453377596491293 / Changed  (\"file_1.txt\",   Some     \"1111111111111111111111111111111111\n",
      "136 / 638453377596491429 / Changed  (\"file_1.txt\",   Some     \"1111111111111111111111111111111111\n",
      "186 / 638453377596491615 / Changed  (\"file_1.txt\",   Some     \"1111111111111111111111111111111111\n",
      "27 / 638453377596491642 / Changed  (\"file_1.txt\",   Some     \"11111111111111111111111111111111111\n",
      "257 / 638453377596491899 / Changed  (\"file_1.txt\",   Some     \"1111111111111111111111111111111111\n",
      "251 / 638453377596492150 / Changed  (\"file_1.txt\",   Some     \"1111111111111111111111111111111111\n",
      "222 / 638453377596492372 / Changed  (\"file_1.txt\",   Some     \"1111111111111111111111111111111111\n",
      "220 / 638453377596492592 / Changed  (\"file_1.txt\",   Some     \"1111111111111111111111111111111111\n",
      "136 / 638453377596492728 / Changed  (\"file_1.txt\",   Some     \"1111111111111111111111111111111111\n",
      "129 / 638453377596492857 / Changed  (\"file_1.txt\",   Some     \"1111111111111111111111111111111111\n",
      "219 / 638453377596493076 / Changed  (\"file_1.txt\",   Some     \"1111111111111111111111111111111111\n",
      "125 / 638453377596493201 / Changed  (\"file_1.txt\",   Some     \"1111111111111111111111111111111111\n",
      "197 / 638453377596493398 / Changed  (\"file_1.txt\",   Some     \"1111111111111111111111111111111111\n",
      "139 / 638453377596493537 / Changed  (\"file_1.txt\",   Some     \"1111111111111111111111111111111111\n",
      "183 / 638453377596493720 / Changed  (\"file_1.txt\",   Some     \"1111111111111111111111111111111111\n",
      "33 / 638453377596493753 / Changed  (\"file_1.txt\",   Some     \"11111111111111111111111111111111111\n",
      "219 / 638453377596493972 / Changed  (\"file_1.txt\",   Some     \"1111111111111111111111111111111111\n",
      "232 / 638453377596494204 / Changed  (\"file_1.txt\",   Some     \"1111111111111111111111111111111111\n",
      "33 / 638453377596494237 / Changed  (\"file_1.txt\",   Some     \"11111111111111111111111111111111111\n",
      "242 / 638453377596494479 / Changed  (\"file_1.txt\",   Some     \"1111111111111111111111111111111111\n",
      "124 / 638453377596494603 / Changed  (\"file_1.txt\",   Some     \"1111111111111111111111111111111111\n",
      "201 / 638453377596494804 / Changed  (\"file_1.txt\",   Some     \"1111111111111111111111111111111111\n",
      "172 / 638453377596494976 / Changed  (\"file_1.txt\",   Some     \"1111111111111111111111111111111111\n",
      "31 / 638453377596495007 / Changed  (\"file_1.txt\",   Some     \"11111111111111111111111111111111111\n",
      "237 / 638453377596495244 / Changed  (\"file_1.txt\",   Some     \"1111111111111111111111111111111111\n",
      "195 / 638453377596495439 / Changed  (\"file_1.txt\",   Some     \"1111111111111111111111111111111111\n",
      "129 / 638453377596495568 / Changed  (\"file_1.txt\",   Some     \"1111111111111111111111111111111111\n",
      "140 / 638453377596495708 / Changed  (\"file_1.txt\",   Some     \"1111111111111111111111111111111111\n",
      "170 / 638453377596495878 / Changed  (\"file_1.txt\",   Some     \"1111111111111111111111111111111111\n",
      "160 / 638453377596496038 / Changed  (\"file_1.txt\",   Some     \"1111111111111111111111111111111111\n",
      "126 / 638453377596496164 / Changed  (\"file_1.txt\",   Some     \"1111111111111111111111111111111111\n",
      "122 / 638453377596496286 / Changed  (\"file_1.txt\",   Some     \"1111111111111111111111111111111111\n",
      "237 / 638453377596496523 / Changed  (\"file_1.txt\",   Some     \"1111111111111111111111111111111111\n",
      "130 / 638453377596496653 / Changed  (\"file_1.txt\",   Some     \"1111111111111111111111111111111111\n",
      "134 / 638453377596496787 / Changed  (\"file_1.txt\",   Some     \"1111111111111111111111111111111111\n",
      "164 / 638453377596496951 / Changed  (\"file_1.txt\",   Some     \"1111111111111111111111111111111111\n",
      "116 / 638453377596497067 / Changed  (\"file_1.txt\",   Some     \"1111111111111111111111111111111111\n",
      "310 / 638453377596497377 / Changed  (\"file_1.txt\",   Some     \"1111111111111111111111111111111111\n",
      "138 / 638453377596497515 / Changed  (\"file_1.txt\",   Some     \"1111111111111111111111111111111111\n",
      "84 / 638453377596497599 / Changed  (\"file_1.txt\",   Some     \"11111111111111111111111111111111111\n",
      "245 / 638453377596497844 / Changed  (\"file_1.txt\",   Some     \"1111111111111111111111111111111111\n",
      "263 / 638453377596498107 / Changed  (\"file_1.txt\",   Some     \"1111111111111111111111111111111111\n",
      "229 / 638453377596498336 / Changed  (\"file_1.txt\",   Some     \"1111111111111111111111111111111111\n",
      "207 / 638453377596498543 / Changed  (\"file_1.txt\",   Some     \"1111111111111111111111111111111111\n",
      "33 / 638453377596498576 / Changed  (\"file_1.txt\",   Some     \"11111111111111111111111111111111111\n",
      "238 / 638453377596498814 / Changed  (\"file_1.txt\",   Some     \"1111111111111111111111111111111111\n",
      "164 / 638453377596498978 / Changed  (\"file_1.txt\",   Some     \"1111111111111111111111111111111111\n",
      "213 / 638453377596499191 / Changed  (\"file_1.txt\",   Some     \"1111111111111111111111111111111111\n",
      "35 / 638453377596499226 / Changed  (\"file_1.txt\",   Some     \"11111111111111111111111111111111111\n",
      "234 / 638453377596499460 / Changed  (\"file_1.txt\",   Some     \"1111111111111111111111111111111111\n",
      "162 / 638453377596499622 / Changed  (\"file_1.txt\",   Some     \"1111111111111111111111111111111111\n",
      "116 / 638453377596499738 / Changed  (\"file_1.txt\",   Some     \"1111111111111111111111111111111111\n",
      "308 / 638453377596500046 / Changed  (\"file_1.txt\",   Some     \"1111111111111111111111111111111111\n",
      "95 / 638453377596500141 / Changed  (\"file_1.txt\",   Some     \"11111111111111111111111111111111111\n",
      "215 / 638453377596500356 / Changed  (\"file_1.txt\",   Some     \"1111111111111111111111111111111111\n",
      "192 / 638453377596500548 / Changed  (\"file_1.txt\",   Some     \"1111111111111111111111111111111111\n",
      "142 / 638453377596500690 / Changed  (\"file_1.txt\",   Some     \"1111111111111111111111111111111111\n",
      "86 / 638453377596500776 / Changed  (\"file_1.txt\",   Some     \"11111111111111111111111111111111111\n",
      "225 / 638453377596501001 / Changed  (\"file_1.txt\",   Some     \"1111111111111111111111111111111111\n",
      "30 / 638453377596501031 / Changed  (\"file_1.txt\",   Some     \"11111111111111111111111111111111111\n",
      "238 / 638453377596501269 / Changed  (\"file_1.txt\",   Some     \"1111111111111111111111111111111111\n",
      "131 / 638453377596501400 / Changed  (\"file_1.txt\",   Some     \"1111111111111111111111111111111111\n",
      "245 / 638453377596501645 / Changed  (\"file_1.txt\",   Some     \"1111111111111111111111111111111111\n",
      "40 / 638453377596501685 / Changed  (\"file_1.txt\",   Some     \"11111111111111111111111111111111111\n",
      "215 / 638453377596501900 / Changed  (\"file_1.txt\",   Some     \"1111111111111111111111111111111111\n",
      "119 / 638453377596502019 / Changed  (\"file_1.txt\",   Some     \"1111111111111111111111111111111111\n",
      "237 / 638453377596502256 / Changed  (\"file_1.txt\",   Some     \"1111111111111111111111111111111111\n",
      "194 / 638453377596502450 / Changed  (\"file_1.txt\",   Some     \"1111111111111111111111111111111111\n",
      "32 / 638453377596502482 / Changed  (\"file_1.txt\",   Some     \"11111111111111111111111111111111111\n",
      "319 / 638453377596502801 / Changed  (\"file_1.txt\",   Some     \"1111111111111111111111111111111111\n",
      "214 / 638453377596503015 / Changed  (\"file_1.txt\",   Some     \"1111111111111111111111111111111111\n",
      "187 / 638453377596503202 / Changed  (\"file_1.txt\",   Some     \"1111111111111111111111111111111111\n",
      "33 / 638453377596503235 / Changed  (\"file_1.txt\",   Some     \"11111111111111111111111111111111111\n",
      "204 / 638453377596503439 / Changed  (\"file_1.txt\",   Some     \"1111111111111111111111111111111111\n",
      "121 / 638453377596503560 / Changed  (\"file_1.txt\",   Some     \"1111111111111111111111111111111111\n",
      "214 / 638453377596503774 / Changed  (\"file_1.txt\",   Some     \"1111111111111111111111111111111111\n",
      "91 / 638453377596503865 / Changed  (\"file_1.txt\",   Some     \"11111111111111111111111111111111111\n",
      "225 / 638453377596504090 / Changed  (\"file_1.txt\",   Some     \"1111111111111111111111111111111111\n",
      "121 / 638453377596504211 / Changed  (\"file_1.txt\",   Some     \"1111111111111111111111111111111111\n",
      "257 / 638453377596504468 / Changed  (\"file_1.txt\",   Some     \"1111111111111111111111111111111111\n",
      "327 / 638453377596504795 / Changed  (\"file_1.txt\",   Some     \"1111111111111111111111111111111111\n",
      "212 / 638453377596505007 / Changed  (\"file_1.txt\",   Some     \"1111111111111111111111111111111111\n",
      "136 / 638453377596505143 / Changed  (\"file_1.txt\",   Some     \"1111111111111111111111111111111111\n",
      "226 / 638453377596505369 / Changed  (\"file_1.txt\",   Some     \"1111111111111111111111111111111111\n",
      "34 / 638453377596505403 / Changed  (\"file_1.txt\",   Some     \"11111111111111111111111111111111111\n",
      "240 / 638453377596505643 / Changed  (\"file_1.txt\",   Some     \"1111111111111111111111111111111111\n",
      "80 / 638453377596505723 / Changed  (\"file_1.txt\",   Some     \"11111111111111111111111111111111111\n",
      "234 / 638453377596505957 / Changed  (\"file_1.txt\",   Some     \"1111111111111111111111111111111111\n",
      "190 / 638453377596506147 / Changed  (\"file_1.txt\",   Some     \"1111111111111111111111111111111111\n",
      "32427 / 638453377596538574 / Changed  (\"file_2.txt\",   Some     \"22222222222222222222222222222222\n",
      "226 / 638453377596538800 / Changed  (\"file_2.txt\",   Some     \"2222222222222222222222222222222222\n",
      "471 / 638453377596539271 / Changed  (\"file_2.txt\",   Some     \"2222222222222222222222222222222222\n",
      "66 / 638453377596539337 / Changed  (\"file_2.txt\",   Some     \"22222222222222222222222222222222222\n",
      "214 / 638453377596539551 / Changed  (\"file_2.txt\",   Some     \"2222222222222222222222222222222222\n",
      "59 / 638453377596539610 / Changed  (\"file_2.txt\",   Some     \"22222222222222222222222222222222222\n",
      "277 / 638453377596539887 / Changed  (\"file_2.txt\",   Some     \"2222222222222222222222222222222222\n",
      "37 / 638453377596539924 / Changed  (\"file_2.txt\",   Some     \"22222222222222222222222222222222222\n",
      "240 / 638453377596540164 / Changed  (\"file_2.txt\",   Some     \"2222222222222222222222222222222222\n",
      "264 / 638453377596540428 / Changed  (\"file_2.txt\",   Some     \"2222222222222222222222222222222222\n",
      "192 / 638453377596540620 / Changed  (\"file_2.txt\",   Some     \"2222222222222222222222222222222222\n",
      "178 / 638453377596540798 / Changed  (\"file_2.txt\",   Some     \"2222222222222222222222222222222222\n",
      "158 / 638453377596540956 / Changed  (\"file_2.txt\",   Some     \"2222222222222222222222222222222222\n",
      "107 / 638453377596541063 / Changed  (\"file_2.txt\",   Some     \"2222222222222222222222222222222222\n",
      "216 / 638453377596541279 / Changed  (\"file_2.txt\",   Some     \"2222222222222222222222222222222222\n",
      "146 / 638453377596541425 / Changed  (\"file_2.txt\",   Some     \"2222222222222222222222222222222222\n",
      "178 / 638453377596541603 / Changed  (\"file_2.txt\",   Some     \"2222222222222222222222222222222222\n",
      "91 / 638453377596541694 / Changed  (\"file_2.txt\",   Some     \"22222222222222222222222222222222222\n",
      "196 / 638453377596541890 / Changed  (\"file_2.txt\",   Some     \"2222222222222222222222222222222222\n",
      "240 / 638453377596542130 / Changed  (\"file_2.txt\",   Some     \"2222222222222222222222222222222222\n",
      "153 / 638453377596542283 / Changed  (\"file_2.txt\",   Some     \"2222222222222222222222222222222222\n",
      "187 / 638453377596542470 / Changed  (\"file_2.txt\",   Some     \"2222222222222222222222222222222222\n",
      "202 / 638453377596542672 / Changed  (\"file_2.txt\",   Some     \"2222222222222222222222222222222222\n",
      "229 / 638453377596542901 / Changed  (\"file_2.txt\",   Some     \"2222222222222222222222222222222222\n",
      "190 / 638453377596543091 / Changed  (\"file_2.txt\",   Some     \"2222222222222222222222222222222222\n",
      "186 / 638453377596543277 / Changed  (\"file_2.txt\",   Some     \"2222222222222222222222222222222222\n",
      "245 / 638453377596543522 / Changed  (\"file_2.txt\",   Some     \"2222222222222222222222222222222222\n",
      "204 / 638453377596543726 / Changed  (\"file_2.txt\",   Some     \"2222222222222222222222222222222222\n",
      "187 / 638453377596543913 / Changed  (\"file_2.txt\",   Some     \"2222222222222222222222222222222222\n",
      "198 / 638453377596544111 / Changed  (\"file_2.txt\",   Some     \"2222222222222222222222222222222222\n",
      "219 / 638453377596544330 / Changed  (\"file_2.txt\",   Some     \"2222222222222222222222222222222222\n",
      "193 / 638453377596544523 / Changed  (\"file_2.txt\",   Some     \"2222222222222222222222222222222222\n",
      "243 / 638453377596544766 / Changed  (\"file_2.txt\",   Some     \"2222222222222222222222222222222222\n",
      "276 / 638453377596545042 / Changed  (\"file_2.txt\",   Some     \"2222222222222222222222222222222222\n",
      "217 / 638453377596545259 / Changed  (\"file_2.txt\",   Some     \"2222222222222222222222222222222222\n",
      "190 / 638453377596545449 / Changed  (\"file_2.txt\",   Some     \"2222222222222222222222222222222222\n",
      "187 / 638453377596545636 / Changed  (\"file_2.txt\",   Some     \"2222222222222222222222222222222222\n",
      "191 / 638453377596545827 / Changed  (\"file_2.txt\",   Some     \"2222222222222222222222222222222222\n",
      "185 / 638453377596546012 / Changed  (\"file_2.txt\",   Some     \"2222222222222222222222222222222222\n",
      "181 / 638453377596546193 / Changed  (\"file_2.txt\",   Some     \"2222222222222222222222222222222222\n",
      "260 / 638453377596546453 / Changed  (\"file_2.txt\",   Some     \"2222222222222222222222222222222222\n",
      "223 / 638453377596546676 / Changed  (\"file_2.txt\",   Some     \"2222222222222222222222222222222222\n",
      "199 / 638453377596546875 / Changed  (\"file_2.txt\",   Some     \"2222222222222222222222222222222222\n",
      "192 / 638453377596547067 / Changed  (\"file_2.txt\",   Some     \"2222222222222222222222222222222222\n",
      "250 / 638453377596547317 / Changed  (\"file_2.txt\",   Some     \"2222222222222222222222222222222222\n",
      "222 / 638453377596547539 / Changed  (\"file_2.txt\",   Some     \"2222222222222222222222222222222222\n",
      "152 / 638453377596547691 / Changed  (\"file_2.txt\",   Some     \"2222222222222222222222222222222222\n",
      "180 / 638453377596547871 / Changed  (\"file_2.txt\",   Some     \"2222222222222222222222222222222222\n",
      "182 / 638453377596548053 / Changed  (\"file_2.txt\",   Some     \"2222222222222222222222222222222222\n",
      "183 / 638453377596548236 / Changed  (\"file_2.txt\",   Some     \"2222222222222222222222222222222222\n",
      "190 / 638453377596548426 / Changed  (\"file_2.txt\",   Some     \"2222222222222222222222222222222222\n",
      "188 / 638453377596548614 / Changed  (\"file_2.txt\",   Some     \"2222222222222222222222222222222222\n",
      "201 / 638453377596548815 / Changed  (\"file_2.txt\",   Some     \"2222222222222222222222222222222222\n",
      "183 / 638453377596548998 / Changed  (\"file_2.txt\",   Some     \"2222222222222222222222222222222222\n",
      "256 / 638453377596549254 / Changed  (\"file_2.txt\",   Some     \"2222222222222222222222222222222222\n",
      "210 / 638453377596549464 / Changed  (\"file_2.txt\",   Some     \"2222222222222222222222222222222222\n",
      "191 / 638453377596549655 / Changed  (\"file_2.txt\",   Some     \"2222222222222222222222222222222222\n",
      "186 / 638453377596549841 / Changed  (\"file_2.txt\",   Some     \"2222222222222222222222222222222222\n",
      "200 / 638453377596550041 / Changed  (\"file_2.txt\",   Some     \"2222222222222222222222222222222222\n",
      "158 / 638453377596550199 / Changed  (\"file_2.txt\",   Some     \"2222222222222222222222222222222222\n",
      "394 / 638453377596550593 / Changed  (\"file_2.txt\",   Some     \"2222222222222222222222222222222222\n",
      "94 / 638453377596550687 / Changed  (\"file_2.txt\",   Some     \"22222222222222222222222222222222222\n",
      "221 / 638453377596550908 / Changed  (\"file_2.txt\",   Some     \"2222222222222222222222222222222222\n",
      "188 / 638453377596551096 / Changed  (\"file_2.txt\",   Some     \"2222222222222222222222222222222222\n",
      "144 / 638453377596551240 / Changed  (\"file_2.txt\",   Some     \"2222222222222222222222222222222222\n",
      "294 / 638453377596551534 / Changed  (\"file_2.txt\",   Some     \"2222222222222222222222222222222222\n",
      "230 / 638453377596551764 / Changed  (\"file_2.txt\",   Some     \"2222222222222222222222222222222222\n",
      "190 / 638453377596551954 / Changed  (\"file_2.txt\",   Some     \"2222222222222222222222222222222222\n",
      "211 / 638453377596552165 / Changed  (\"file_2.txt\",   Some     \"2222222222222222222222222222222222\n",
      "177 / 638453377596552342 / Changed  (\"file_2.txt\",   Some     \"2222222222222222222222222222222222\n",
      "87 / 638453377596552429 / Changed  (\"file_2.txt\",   Some     \"22222222222222222222222222222222222\n",
      "197 / 638453377596552626 / Changed  (\"file_2.txt\",   Some     \"2222222222222222222222222222222222\n",
      "161 / 638453377596552787 / Changed  (\"file_2.txt\",   Some     \"2222222222222222222222222222222222\n",
      "198 / 638453377596552985 / Changed  (\"file_2.txt\",   Some     \"2222222222222222222222222222222222\n",
      "150 / 638453377596553135 / Changed  (\"file_2.txt\",   Some     \"2222222222222222222222222222222222\n",
      "164 / 638453377596553299 / Changed  (\"file_2.txt\",   Some     \"2222222222222222222222222222222222\n",
      "162 / 638453377596553461 / Changed  (\"file_2.txt\",   Some     \"2222222222222222222222222222222222\n",
      "175 / 638453377596553636 / Changed  (\"file_2.txt\",   Some     \"2222222222222222222222222222222222\n",
      "147 / 638453377596553783 / Changed  (\"file_2.txt\",   Some     \"2222222222222222222222222222222222\n",
      "164 / 638453377596553947 / Changed  (\"file_2.txt\",   Some     \"2222222222222222222222222222222222\n",
      "162 / 638453377596554109 / Changed  (\"file_2.txt\",   Some     \"2222222222222222222222222222222222\n",
      "212 / 638453377596554321 / Changed  (\"file_2.txt\",   Some     \"2222222222222222222222222222222222\n",
      "145 / 638453377596554466 / Changed  (\"file_2.txt\",   Some     \"2222222222222222222222222222222222\n",
      "177 / 638453377596554643 / Changed  (\"file_2.txt\",   Some     \"2222222222222222222222222222222222\n",
      "471 / 638453377596555114 / Changed  (\"file_2.txt\",   Some     \"2222222222222222222222222222222222\n",
      "44 / 638453377596555158 / Changed  (\"file_2.txt\",   Some     \"22222222222222222222222222222222222\n",
      "251 / 638453377596555409 / Changed  (\"file_2.txt\",   Some     \"2222222222222222222222222222222222\n",
      "148 / 638453377596555557 / Changed  (\"file_2.txt\",   Some     \"2222222222222222222222222222222222\n",
      "212 / 638453377596555769 / Changed  (\"file_2.txt\",   Some     \"2222222222222222222222222222222222\n",
      "107 / 638453377596555876 / Changed  (\"file_2.txt\",   Some     \"2222222222222222222222222222222222\n",
      "201 / 638453377596556077 / Changed  (\"file_2.txt\",   Some     \"2222222222222222222222222222222222\n",
      "193 / 638453377596556270 / Changed  (\"file_2.txt\",   Some     \"2222222222222222222222222222222222\n",
      "236 / 638453377596556506 / Changed  (\"file_2.txt\",   Some     \"2222222222222222222222222222222222\n",
      "197 / 638453377596556703 / Changed  (\"file_2.txt\",   Some     \"2222222222222222222222222222222222\n",
      "193 / 638453377596556896 / Changed  (\"file_2.txt\",   Some     \"2222222222222222222222222222222222\n",
      "150 / 638453377596557046 / Changed  (\"file_2.txt\",   Some     \"2222222222222222222222222222222222\n",
      "170 / 638453377596557216 / Changed  (\"file_2.txt\",   Some     \"2222222222222222222222222222222222\n",
      "201 / 638453377596557417 / Changed  (\"file_2.txt\",   Some     \"2222222222222222222222222222222222\n",
      "107 / 638453377596557524 / Changed  (\"file_2.txt\",   Some     \"2222222222222222222222222222222222\n",
      "179 / 638453377596557703 / Changed  (\"file_2.txt\",   Some     \"2222222222222222222222222222222222\n",
      "166 / 638453377596557869 / Changed  (\"file_2.txt\",   Some     \"2222222222222222222222222222222222\n",
      "210 / 638453377596558079 / Changed  (\"file_2.txt\",   Some     \"2222222222222222222222222222222222\n",
      "106 / 638453377596558185 / Changed  (\"file_2.txt\",   Some     \"2222222222222222222222222222222222\n",
      "180 / 638453377596558365 / Changed  (\"file_2.txt\",   Some     \"2222222222222222222222222222222222\n",
      "179 / 638453377596558544 / Changed  (\"file_2.txt\",   Some     \"2222222222222222222222222222222222\n",
      "223 / 638453377596558767 / Changed  (\"file_2.txt\",   Some     \"2222222222222222222222222222222222\n",
      "246 / 638453377596559013 / Changed  (\"file_2.txt\",   Some     \"2222222222222222222222222222222222\n",
      "108 / 638453377596559121 / Changed  (\"file_2.txt\",   Some     \"2222222222222222222222222222222222\n",
      "198 / 638453377596559319 / Changed  (\"file_2.txt\",   Some     \"2222222222222222222222222222222222\n",
      "146 / 638453377596559465 / Changed  (\"file_2.txt\",   Some     \"2222222222222222222222222222222222\n",
      "187 / 638453377596559652 / Changed  (\"file_2.txt\",   Some     \"2222222222222222222222222222222222\n",
      "158 / 638453377596559810 / Changed  (\"file_2.txt\",   Some     \"2222222222222222222222222222222222\n",
      "103 / 638453377596559913 / Changed  (\"file_2.txt\",   Some     \"2222222222222222222222222222222222\n",
      "188 / 638453377596560101 / Changed  (\"file_2.txt\",   Some     \"2222222222222222222222222222222222\n",
      "165 / 638453377596560266 / Changed  (\"file_2.txt\",   Some     \"2222222222222222222222222222222222\n",
      "195 / 638453377596560461 / Changed  (\"file_2.txt\",   Some     \"2222222222222222222222222222222222\n",
      "88 / 638453377596560549 / Changed  (\"file_2.txt\",   Some     \"22222222222222222222222222222222222\n",
      "188 / 638453377596560737 / Changed  (\"file_2.txt\",   Some     \"2222222222222222222222222222222222\n",
      "191 / 638453377596560928 / Changed  (\"file_2.txt\",   Some     \"2222222222222222222222222222222222\n",
      "493 / 638453377596561421 / Changed  (\"file_2.txt\",   Some     \"2222222222222222222222222222222222\n",
      "22 / 638453377596561443 / Changed  (\"file_2.txt\",   Some     \"22222222222222222222222222222222222\n",
      "178 / 638453377596561621 / Changed  (\"file_2.txt\",   Some     \"2222222222222222222222222222222222\n",
      "15040487 / 638453377611602108 / Deleted \"file_1.txt\"\n",
      "2890 / 638453377611604998 / Deleted \"file_2.txt\"\n",
      "FSharpList<FileSystemChange>\n",
      "      - path: file1.txt\n",
      "        content: FSharpOption<String>\n",
      "          Value: 1a\n",
      "        IsFailure: False\n",
      "        IsChanged: False\n",
      "        IsCreated: True\n",
      "        IsDeleted: False\n",
      "        IsRenamed: False\n",
      "      - path: file1.txt\n",
      "        content: FSharpOption<String>\n",
      "          Value: 1a\n",
      "        IsFailure: False\n",
      "        IsChanged: True\n",
      "        IsCreated: False\n",
      "        IsDeleted: False\n",
      "        IsRenamed: False\n",
      "      - path: file2.txt\n",
      "        content: FSharpOption<String>\n",
      "          Value: 2a\n",
      "        IsFailure: False\n",
      "        IsChanged: False\n",
      "        IsCreated: True\n",
      "        IsDeleted: False\n",
      "        IsRenamed: False\n",
      "      - path: file2.txt\n",
      "        content: FSharpOption<String>\n",
      "          Value: 2a\n",
      "        IsFailure: False\n",
      "        IsChanged: True\n",
      "        IsCreated: False\n",
      "        IsDeleted: False\n",
      "        IsRenamed: False\n",
      "      - path: file1.txt\n",
      "        content: FSharpOption<String>\n",
      "          Value: 1b\n",
      "        IsFailure: False\n",
      "        IsChanged: True\n",
      "        IsCreated: False\n",
      "        IsDeleted: False\n",
      "        IsRenamed: False\n",
      "      - path: file2.txt\n",
      "        content: FSharpOption<String>\n",
      "          Value: 2b\n",
      "        IsFailure: False\n",
      "        IsChanged: True\n",
      "        IsCreated: False\n",
      "        IsDeleted: False\n",
      "        IsRenamed: False\n",
      "      - oldPath: file1.txt\n",
      "        Item2:         - file_1.txt\n",
      "        - FSharpOption<String>\n",
      "            Value: 1b\n",
      "      - IsFailure: False\n",
      "        IsChanged: False\n",
      "        IsCreated: False\n",
      "        IsDeleted: False\n",
      "        IsRenamed: True\n",
      "      - oldPath: file2.txt\n",
      "        Item2:         - file_2.txt\n",
      "        - FSharpOption<String>\n",
      "            Value: 2b\n",
      "      - IsFailure: False\n",
      "        IsChanged: False\n",
      "        IsCreated: False\n",
      "        IsDeleted: False\n",
      "        IsRenamed: True\n",
      "      - path: file_1.txt\n",
      "        content: FSharpOption<String>\n",
      "          Value: 1c\n",
      "        IsFailure: False\n",
      "        IsChanged: True\n",
      "        IsCreated: False\n",
      "        IsDeleted: False\n",
      "        IsRenamed: False\n",
      "      - path: file_2.txt\n",
      "        content: FSharpOption<String>\n",
      "          Value: 2c\n",
      "        IsFailure: False\n",
      "        IsChanged: True\n",
      "        IsCreated: False\n",
      "        IsDeleted: False\n",
      "        IsRenamed: False\n",
      "      - path: file_1.txt\n",
      "        IsFailure: False\n",
      "        IsChanged: False\n",
      "        IsCreated: False\n",
      "        IsDeleted: True\n",
      "        IsRenamed: False\n",
      "      - path: file_2.txt\n",
      "        IsFailure: False\n",
      "        IsChanged: False\n",
      "        IsCreated: False\n",
      "        IsDeleted: True\n",
      "        IsRenamed: False\n",
      "FSharpOption<Unit>\n",
      "      Value: <null>\n"
     ]
    }
   ],
   "source": [
    "//// test\n",
    "\n",
    "let inline write path = async {\n",
    "    let n = 2\n",
    "\n",
    "    let contents =\n",
    "        [ 1 .. n ]\n",
    "        |> List.map (string >> String.replicate 1_000_000)\n",
    "\n",
    "    for i = 1 to n do\n",
    "        do! $\"{contents.[i - 1]}a\" |> writeAllTextAsync (path </> $\"file{i}.txt\")\n",
    "\n",
    "    do! Async.Sleep 1500\n",
    "\n",
    "    for i = 1 to n do\n",
    "        do! $\"{contents.[i - 1]}b\" |> writeAllTextAsync (path </> $\"file{i}.txt\")\n",
    "\n",
    "    do! Async.Sleep 1500\n",
    "\n",
    "    for i = 1 to n do\n",
    "        do! path </> $\"file{i}.txt\" |> moveFileAsync (path </> $\"file_{i}.txt\") |> Async.Ignore\n",
    "\n",
    "    do! Async.Sleep 1500\n",
    "\n",
    "    for i = 1 to n do\n",
    "        do! $\"{contents.[i - 1]}c\" |> writeAllTextAsync (path </> $\"file_{i}.txt\")\n",
    "\n",
    "    do! Async.Sleep 1500\n",
    "\n",
    "    for i = 1 to n do\n",
    "        do! deleteFileAsync (path </> $\"file_{i}.txt\") |> Async.Ignore\n",
    "\n",
    "    do! Async.Sleep 1500\n",
    "}\n",
    "\n",
    "let inline run () =\n",
    "    let events =\n",
    "        testEventsRaw watchDirectory write\n",
    "        |> List.map (function\n",
    "            | FileSystemChange.Changed (path, Some content) ->\n",
    "                FileSystemChange.Changed (path, content |> Seq.distinct |> Seq.map string |> String.concat \"\" |> Some)\n",
    "            | FileSystemChange.Created (path, Some content) ->\n",
    "                FileSystemChange.Created (path, content |> Seq.distinct |> Seq.map string |> String.concat \"\" |> Some)\n",
    "            | FileSystemChange.Renamed (oldPath, (newPath, Some content)) ->\n",
    "                FileSystemChange.Renamed (\n",
    "                    oldPath,\n",
    "                    (newPath, content |> Seq.distinct |> Seq.map string |> String.concat \"\" |> Some)\n",
    "                )\n",
    "            | event -> event\n",
    "        )\n",
    "\n",
    "    events\n",
    "    |> _sequenceEqual [\n",
    "        FileSystemChange.Created (\"file1.txt\", Some \"1a\")\n",
    "        FileSystemChange.Changed (\"file1.txt\", Some \"1a\")\n",
    "        FileSystemChange.Created (\"file2.txt\", Some \"2a\")\n",
    "        FileSystemChange.Changed (\"file2.txt\", Some \"2a\")\n",
    "\n",
    "        FileSystemChange.Changed (\"file1.txt\", Some \"1b\")\n",
    "        FileSystemChange.Changed (\"file2.txt\", Some \"2b\")\n",
    "\n",
    "        FileSystemChange.Renamed (\"file1.txt\", (\"file_1.txt\", Some \"1b\"))\n",
    "        FileSystemChange.Renamed (\"file2.txt\", (\"file_2.txt\", Some \"2b\"))\n",
    "\n",
    "        FileSystemChange.Changed (\"file_1.txt\", Some \"1c\")\n",
    "        FileSystemChange.Changed (\"file_2.txt\", Some \"2c\")\n",
    "\n",
    "        FileSystemChange.Deleted \"file_1.txt\"\n",
    "        FileSystemChange.Deleted \"file_2.txt\"\n",
    "    ]\n",
    "\n",
    "run\n",
    "|> retryFn 5\n",
    "|> _equal (Some ())"
   ]
  },
  {
   "cell_type": "markdown",
   "metadata": {},
   "source": [
    "### testEventsSorted (test)"
   ]
  },
  {
   "cell_type": "code",
   "execution_count": null,
   "metadata": {
    "dotnet_interactive": {
     "language": "fsharp"
    },
    "polyglot_notebook": {
     "kernelName": "fsharp"
    }
   },
   "outputs": [],
   "source": [
    "//// test\n",
    "\n",
    "let inline sortEvent event =\n",
    "    match event with\n",
    "    | FileSystemChange.Failure _ -> 0\n",
    "    | FileSystemChange.Created _ -> 1\n",
    "    | FileSystemChange.Changed _ -> 2\n",
    "    | FileSystemChange.Renamed (_oldPath, _) -> 3\n",
    "    | FileSystemChange.Deleted _ -> 4\n",
    "\n",
    "let inline formatEvents events =\n",
    "    events\n",
    "    |> Seq.toList\n",
    "    |> List.sortBy (snd >> sortEvent)\n",
    "    |> List.choose (fun (ticks, event) ->\n",
    "        match event with\n",
    "        | FileSystemChange.Failure _ ->\n",
    "            None\n",
    "        | FileSystemChange.Changed (path, _) ->\n",
    "            Some (ticks, System.IO.Path.GetFileName path, nameof FileSystemChangeType.Changed)\n",
    "        | FileSystemChange.Created (path, _) ->\n",
    "            Some (ticks, System.IO.Path.GetFileName path, nameof FileSystemChangeType.Created)\n",
    "        | FileSystemChange.Deleted path ->\n",
    "            Some (ticks, System.IO.Path.GetFileName path, nameof FileSystemChangeType.Deleted)\n",
    "        | FileSystemChange.Renamed (_oldPath, (path, _)) ->\n",
    "            Some (ticks, System.IO.Path.GetFileName path, nameof FileSystemChangeType.Renamed)\n",
    "    )\n",
    "    |> List.sortBy (fun (_, path, _) -> path)\n",
    "    |> List.distinctBy (fun (_, path, event) -> path, event)\n",
    "\n",
    "let inline testEventsSorted\n",
    "    (watchFn : string -> FSharp.Control.AsyncSeq<int64 * FileSystemChange> * IDisposable)\n",
    "    write\n",
    "    =\n",
    "    let path = createTempDirectory ()\n",
    "    let stream, disposable = watchFn path\n",
    "\n",
    "    let events = System.Collections.Concurrent.ConcurrentBag ()\n",
    "\n",
    "    let inline iter () =\n",
    "        stream\n",
    "        |> FSharp.Control.AsyncSeq.iterAsyncParallel (fun event -> async { events.Add event })\n",
    "\n",
    "    let run = async {\n",
    "        let! _ = iter () |> Async.StartChild\n",
    "        do! Async.Sleep 250\n",
    "        return! write path\n",
    "    }\n",
    "\n",
    "    try\n",
    "        run\n",
    "        |> Async.runWithTimeout 5000\n",
    "        |> _equal (Some ())\n",
    "    finally\n",
    "        disposable.Dispose ()\n",
    "        deleteDirectoryAsync path |> Async.Ignore |> Async.RunSynchronously\n",
    "\n",
    "    let events = formatEvents events\n",
    "\n",
    "    let eventMap =\n",
    "        events\n",
    "        |> List.map (fun (ticks, path, event) -> path, (event, ticks))\n",
    "        |> List.groupBy fst\n",
    "        |> List.map (fun (path, events) ->\n",
    "            let event, _ticks =\n",
    "                events\n",
    "                |> List.map snd\n",
    "                |> List.sortByDescending snd\n",
    "                |> List.head\n",
    "\n",
    "            path, event\n",
    "        )\n",
    "        |> Map.ofList\n",
    "\n",
    "    let eventList =\n",
    "        events\n",
    "        |> List.map (fun (_ticks, path, event) -> path, event)\n",
    "\n",
    "    eventMap, eventList"
   ]
  },
  {
   "cell_type": "markdown",
   "metadata": {},
   "source": [
    "#### create and delete (test)"
   ]
  },
  {
   "cell_type": "code",
   "execution_count": null,
   "metadata": {
    "dotnet_interactive": {
     "language": "fsharp"
    },
    "polyglot_notebook": {
     "kernelName": "fsharp"
    }
   },
   "outputs": [
    {
     "name": "stdout",
     "output_type": "stream",
     "text": [
      "FSharpOption<Unit>\n",
      "      Value: <null>\n",
      "00:00:29 #51 [Debug] watchWithFilter / Disposing watch stream / filter: FileName, LastWrite\n",
      "FSharpList<Tuple<String,String>>\n",
      "( file1.txt, Created )\n",
      "( file1.txt, Changed )\n",
      "( file1.txt, Deleted )\n",
      "( file2.txt, Created )\n",
      "( file2.txt, Changed )\n",
      "( file2.txt, Deleted )\n",
      "( file3.txt, Created )\n",
      "( file3.txt, Changed )\n",
      "( file3.txt, Deleted )\n",
      "FSharpMap<String,String>\n",
      "      - Key: file1.txt\n",
      "        Value: Deleted\n",
      "      - Key: file2.txt\n",
      "        Value: Deleted\n",
      "      - Key: file3.txt\n",
      "        Value: Deleted\n",
      "FSharpOption<Unit>\n",
      "      Value: <null>\n"
     ]
    }
   ],
   "source": [
    "//// test\n",
    "\n",
    "let inline write path = async {\n",
    "    let n = 3\n",
    "\n",
    "    for i = 1 to n do\n",
    "        do! $\"{i}\" |> writeAllTextAsync (path </> $\"file{i}.txt\")\n",
    "\n",
    "    for i = 1 to n do\n",
    "        do! deleteFileAsync (path </> $\"file{i}.txt\") |> Async.Ignore\n",
    "\n",
    "    do! Async.Sleep 150\n",
    "}\n",
    "\n",
    "let inline run () =\n",
    "    let eventMap, eventList = testEventsSorted (watchDirectory (fun _ -> false)) write\n",
    "\n",
    "    [\n",
    "        \"file1.txt\", nameof FileSystemChangeType.Created\n",
    "        \"file1.txt\", nameof FileSystemChangeType.Changed\n",
    "        \"file1.txt\", nameof FileSystemChangeType.Deleted\n",
    "\n",
    "        \"file2.txt\", nameof FileSystemChangeType.Created\n",
    "        \"file2.txt\", nameof FileSystemChangeType.Changed\n",
    "        \"file2.txt\", nameof FileSystemChangeType.Deleted\n",
    "\n",
    "        \"file3.txt\", nameof FileSystemChangeType.Created\n",
    "        \"file3.txt\", nameof FileSystemChangeType.Changed\n",
    "        \"file3.txt\", nameof FileSystemChangeType.Deleted\n",
    "    ]\n",
    "    |> _sequenceEqual eventList\n",
    "\n",
    "    [\n",
    "        \"file1.txt\", nameof FileSystemChangeType.Deleted\n",
    "        \"file2.txt\", nameof FileSystemChangeType.Deleted\n",
    "        \"file3.txt\", nameof FileSystemChangeType.Deleted\n",
    "    ]\n",
    "    |> Map.ofList\n",
    "    |> _sequenceEqual eventMap\n",
    "\n",
    "run\n",
    "|> retryFn 3\n",
    "|> _equal (Some ())"
   ]
  },
  {
   "cell_type": "markdown",
   "metadata": {},
   "source": [
    "#### change (test)"
   ]
  },
  {
   "cell_type": "code",
   "execution_count": null,
   "metadata": {
    "dotnet_interactive": {
     "language": "fsharp"
    },
    "polyglot_notebook": {
     "kernelName": "fsharp"
    }
   },
   "outputs": [
    {
     "name": "stdout",
     "output_type": "stream",
     "text": [
      "FSharpOption<Unit>\n",
      "      Value: <null>\n",
      "00:00:31 #52 [Debug] watchWithFilter / Disposing watch stream / filter: FileName, LastWrite\n",
      "FSharpList<Tuple<String,String>>\n",
      "( file1.txt, Created )\n",
      "( file1.txt, Changed )\n",
      "( file1.txt, Deleted )\n",
      "( file2.txt, Created )\n",
      "( file2.txt, Changed )\n",
      "( file2.txt, Deleted )\n",
      "FSharpMap<String,String>\n",
      "      - Key: file1.txt\n",
      "        Value: Deleted\n",
      "      - Key: file2.txt\n",
      "        Value: Deleted\n",
      "FSharpOption<Unit>\n",
      "      Value: <null>\n"
     ]
    }
   ],
   "source": [
    "//// test\n",
    "\n",
    "let inline write path = async {\n",
    "    let n = 2\n",
    "\n",
    "    for i = 1 to n do\n",
    "        do! $\"{i}\" |> writeAllTextAsync (path </> $\"file{i}.txt\")\n",
    "\n",
    "    for i = 1 to n do\n",
    "        do! \"\" |> writeAllTextAsync (path </> $\"file{i}.txt\")\n",
    "\n",
    "    for i = 1 to n do\n",
    "        do! deleteFileAsync (path </> $\"file{i}.txt\") |> Async.Ignore\n",
    "\n",
    "    do! Async.Sleep 150\n",
    "}\n",
    "\n",
    "let inline run () =\n",
    "    let eventMap, eventList = testEventsSorted (watchDirectory (fun _ -> false)) write\n",
    "\n",
    "    [\n",
    "        \"file1.txt\", nameof FileSystemChangeType.Created\n",
    "        \"file1.txt\", nameof FileSystemChangeType.Changed\n",
    "        \"file1.txt\", nameof FileSystemChangeType.Deleted\n",
    "\n",
    "        \"file2.txt\", nameof FileSystemChangeType.Created\n",
    "        \"file2.txt\", nameof FileSystemChangeType.Changed\n",
    "        \"file2.txt\", nameof FileSystemChangeType.Deleted\n",
    "    ]\n",
    "    |> _sequenceEqual eventList\n",
    "\n",
    "    [\n",
    "        \"file1.txt\", nameof FileSystemChangeType.Deleted\n",
    "        \"file2.txt\", nameof FileSystemChangeType.Deleted\n",
    "    ]\n",
    "    |> Map.ofList\n",
    "    |> _sequenceEqual eventMap\n",
    "\n",
    "run\n",
    "|> retryFn 3\n",
    "|> _equal (Some ())"
   ]
  },
  {
   "cell_type": "markdown",
   "metadata": {},
   "source": [
    "#### rename (test)"
   ]
  },
  {
   "cell_type": "code",
   "execution_count": null,
   "metadata": {
    "dotnet_interactive": {
     "language": "fsharp"
    },
    "polyglot_notebook": {
     "kernelName": "fsharp"
    }
   },
   "outputs": [
    {
     "name": "stdout",
     "output_type": "stream",
     "text": [
      "FSharpOption<Unit>\n",
      "      Value: <null>\n",
      "00:00:34 #53 [Debug] watchWithFilter / Disposing watch stream / filter: FileName, LastWrite\n",
      "FSharpList<Tuple<String,String>>\n",
      "( file1.txt, Created )\n",
      "( file1.txt, Changed )\n",
      "( file2.txt, Created )\n",
      "( file2.txt, Changed )\n",
      "( file_1.txt, Renamed )\n",
      "( file_1.txt, Deleted )\n",
      "( file_2.txt, Renamed )\n",
      "( file_2.txt, Deleted )\n",
      "FSharpMap<String,String>\n",
      "      - Key: file1.txt\n",
      "        Value: Changed\n",
      "      - Key: file2.txt\n",
      "        Value: Changed\n",
      "      - Key: file_1.txt\n",
      "        Value: Deleted\n",
      "      - Key: file_2.txt\n",
      "        Value: Deleted\n",
      "FSharpOption<Unit>\n",
      "      Value: <null>\n"
     ]
    }
   ],
   "source": [
    "//// test\n",
    "\n",
    "let inline write path = async {\n",
    "    let n = 2\n",
    "\n",
    "    for i = 1 to n do\n",
    "        do! $\"{i}\" |> writeAllTextAsync (path </> $\"file{i}.txt\")\n",
    "\n",
    "    for i = 1 to n do\n",
    "        do! path </> $\"file{i}.txt\" |> moveFileAsync (path </> $\"file_{i}.txt\") |> Async.Ignore\n",
    "\n",
    "    for i = 1 to n do\n",
    "        do! deleteFileAsync (path </> $\"file_{i}.txt\") |> Async.Ignore\n",
    "\n",
    "    do! Async.Sleep 150\n",
    "}\n",
    "\n",
    "let inline run () =\n",
    "    let eventMap, eventList = testEventsSorted (watchDirectory (fun _ -> false)) write\n",
    "\n",
    "    [\n",
    "        \"file1.txt\", nameof FileSystemChangeType.Created\n",
    "        \"file1.txt\", nameof FileSystemChangeType.Changed\n",
    "        \"file2.txt\", nameof FileSystemChangeType.Created\n",
    "        \"file2.txt\", nameof FileSystemChangeType.Changed\n",
    "\n",
    "        \"file_1.txt\", nameof FileSystemChangeType.Renamed\n",
    "        \"file_1.txt\", nameof FileSystemChangeType.Deleted\n",
    "\n",
    "        \"file_2.txt\", nameof FileSystemChangeType.Renamed\n",
    "        \"file_2.txt\", nameof FileSystemChangeType.Deleted\n",
    "    ]\n",
    "    |> _sequenceEqual eventList\n",
    "\n",
    "    [\n",
    "        \"file1.txt\", nameof FileSystemChangeType.Changed\n",
    "        \"file2.txt\", nameof FileSystemChangeType.Changed\n",
    "        \"file_1.txt\", nameof FileSystemChangeType.Deleted\n",
    "        \"file_2.txt\", nameof FileSystemChangeType.Deleted\n",
    "    ]\n",
    "    |> Map.ofList\n",
    "    |> _sequenceEqual eventMap\n",
    "\n",
    "run\n",
    "|> retryFn 3\n",
    "|> _equal (Some ())"
   ]
  },
  {
   "cell_type": "markdown",
   "metadata": {},
   "source": [
    "#### full (test)"
   ]
  },
  {
   "cell_type": "code",
   "execution_count": null,
   "metadata": {
    "dotnet_interactive": {
     "language": "fsharp"
    },
    "polyglot_notebook": {
     "kernelName": "fsharp"
    }
   },
   "outputs": [
    {
     "name": "stdout",
     "output_type": "stream",
     "text": [
      "FSharpOption<Unit>\n",
      "      Value: <null>\n",
      "00:00:37 #54 [Debug] watchWithFilter / Disposing watch stream / filter: FileName, LastWrite\n",
      "FSharpList<Tuple<String,String>>\n",
      "( file1.txt, Created )\n",
      "( file1.txt, Changed )\n",
      "( file2.txt, Created )\n",
      "( file2.txt, Changed )\n",
      "( file_1.txt, Changed )\n",
      "( file_1.txt, Renamed )\n",
      "( file_1.txt, Deleted )\n",
      "( file_2.txt, Changed )\n",
      "( file_2.txt, Renamed )\n",
      "( file_2.txt, Deleted )\n",
      "FSharpMap<String,String>\n",
      "      - Key: file1.txt\n",
      "        Value: Changed\n",
      "      - Key: file2.txt\n",
      "        Value: Changed\n",
      "      - Key: file_1.txt\n",
      "        Value: Deleted\n",
      "      - Key: file_2.txt\n",
      "        Value: Deleted\n",
      "FSharpOption<Unit>\n",
      "      Value: <null>\n"
     ]
    }
   ],
   "source": [
    "//// test\n",
    "\n",
    "let inline write path = async {\n",
    "    let n = 2\n",
    "\n",
    "    for i = 1 to n do\n",
    "        do! $\"{i}\" |> writeAllTextAsync (path </> $\"file{i}.txt\")\n",
    "\n",
    "    for i = 1 to n do\n",
    "        do! \"\" |> writeAllTextAsync (path </> $\"file{i}.txt\")\n",
    "\n",
    "    for i = 1 to n do\n",
    "        do! path </> $\"file{i}.txt\" |> moveFileAsync (path </> $\"file_{i}.txt\") |> Async.Ignore\n",
    "\n",
    "    for i = 1 to n do\n",
    "        do! $\"{i}\" |> writeAllTextAsync (path </> $\"file_{i}.txt\")\n",
    "\n",
    "    for i = 1 to n do\n",
    "        do! deleteFileAsync (path </> $\"file_{i}.txt\") |> Async.Ignore\n",
    "\n",
    "    do! Async.Sleep 150\n",
    "}\n",
    "\n",
    "let inline run () =\n",
    "    let eventMap, eventList = testEventsSorted (watchDirectory (fun _ -> false)) write\n",
    "\n",
    "    [\n",
    "        \"file1.txt\", nameof FileSystemChangeType.Created\n",
    "        \"file1.txt\", nameof FileSystemChangeType.Changed\n",
    "        \"file2.txt\", nameof FileSystemChangeType.Created\n",
    "        \"file2.txt\", nameof FileSystemChangeType.Changed\n",
    "\n",
    "        \"file_1.txt\", nameof FileSystemChangeType.Changed\n",
    "        \"file_1.txt\", nameof FileSystemChangeType.Renamed\n",
    "        \"file_1.txt\", nameof FileSystemChangeType.Deleted\n",
    "\n",
    "        \"file_2.txt\", nameof FileSystemChangeType.Changed\n",
    "        \"file_2.txt\", nameof FileSystemChangeType.Renamed\n",
    "        \"file_2.txt\", nameof FileSystemChangeType.Deleted\n",
    "    ]\n",
    "    |> _sequenceEqual eventList\n",
    "\n",
    "    [\n",
    "        \"file1.txt\", nameof FileSystemChangeType.Changed\n",
    "        \"file2.txt\", nameof FileSystemChangeType.Changed\n",
    "        \"file_1.txt\", nameof FileSystemChangeType.Deleted\n",
    "        \"file_2.txt\", nameof FileSystemChangeType.Deleted\n",
    "    ]\n",
    "    |> Map.ofList\n",
    "    |> _sequenceEqual eventMap\n",
    "\n",
    "run\n",
    "|> retryFn 3\n",
    "|> _equal (Some ())"
   ]
  }
 ],
 "metadata": {},
 "nbformat": 4,
 "nbformat_minor": 5
}