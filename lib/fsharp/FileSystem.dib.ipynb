{
 "cells": [
  {
   "cell_type": "markdown",
   "metadata": {},
   "source": [
    "# FileSystem (Polyglot)"
   ]
  },
  {
   "cell_type": "code",
   "execution_count": null,
   "metadata": {
    "dotnet_interactive": {
     "language": "fsharp"
    },
    "polyglot_notebook": {
     "kernelName": "fsharp"
    }
   },
   "outputs": [],
   "source": [
    "#!import ../../lib/fsharp/Notebooks.dib\n",
    "#!import ../../lib/fsharp/Testing.dib"
   ]
  },
  {
   "cell_type": "code",
   "execution_count": null,
   "metadata": {
    "dotnet_interactive": {
     "language": "fsharp"
    },
    "polyglot_notebook": {
     "kernelName": "fsharp"
    }
   },
   "outputs": [],
   "source": [
    "#r @\"../../../../../../../.nuget/packages/fsharp.control.asyncseq/3.2.1/lib/netstandard2.1/FSharp.Control.AsyncSeq.dll\"\n",
    "#r @\"../../../../../../../.nuget/packages/system.reactive/6.0.1-preview.1/lib/net6.0/System.Reactive.dll\"\n",
    "#r @\"../../../../../../../.nuget/packages/system.reactive.linq/6.0.1-preview.1/lib/netstandard2.0/System.Reactive.Linq.dll\"\n",
    "#r @\"../../../../../../../.nuget/packages/argu/6.2.2/lib/netstandard2.0/Argu.dll\"\n",
    "#r @\"../../../../../../../.nuget/packages/system.commandline/2.0.0-beta4.22272.1/lib/net6.0/System.CommandLine.dll\""
   ]
  },
  {
   "cell_type": "code",
   "execution_count": null,
   "metadata": {
    "dotnet_interactive": {
     "language": "fsharp"
    },
    "polyglot_notebook": {
     "kernelName": "fsharp"
    }
   },
   "outputs": [],
   "source": [
    "#!import ../../lib/fsharp/Common.fs\n",
    "#!import ../../lib/fsharp/CommonFSharp.fs\n",
    "#!import ../../lib/fsharp/Async.fs\n",
    "#!import ../../lib/fsharp/AsyncSeq.fs\n",
    "#!import ../../lib/fsharp/Runtime.fs"
   ]
  },
  {
   "cell_type": "code",
   "execution_count": null,
   "metadata": {
    "dotnet_interactive": {
     "language": "fsharp"
    },
    "polyglot_notebook": {
     "kernelName": "fsharp"
    }
   },
   "outputs": [],
   "source": [
    "open Common"
   ]
  },
  {
   "cell_type": "markdown",
   "metadata": {},
   "source": [
    "## Operators"
   ]
  },
  {
   "cell_type": "code",
   "execution_count": null,
   "metadata": {
    "dotnet_interactive": {
     "language": "fsharp"
    },
    "polyglot_notebook": {
     "kernelName": "fsharp"
    }
   },
   "outputs": [],
   "source": [
    "module Operators =\n",
    "    let inline (</>) a b =\n",
    "        System.IO.Path.Combine (a, b)"
   ]
  },
  {
   "cell_type": "code",
   "execution_count": null,
   "metadata": {
    "dotnet_interactive": {
     "language": "fsharp"
    },
    "polyglot_notebook": {
     "kernelName": "fsharp"
    }
   },
   "outputs": [],
   "source": [
    "open Operators"
   ]
  },
  {
   "cell_type": "markdown",
   "metadata": {},
   "source": [
    "## createTempDirectoryName"
   ]
  },
  {
   "cell_type": "code",
   "execution_count": null,
   "metadata": {
    "dotnet_interactive": {
     "language": "fsharp"
    },
    "polyglot_notebook": {
     "kernelName": "fsharp"
    }
   },
   "outputs": [],
   "source": [
    "let inline createTempDirectoryName () =\n",
    "    let root = System.Reflection.Assembly.GetEntryAssembly().GetName().Name\n",
    "\n",
    "    System.IO.Path.GetTempPath ()\n",
    "    </> $\"!{root}\"\n",
    "    </> string (newGuidFromDateTime System.DateTime.Now)"
   ]
  },
  {
   "cell_type": "code",
   "execution_count": null,
   "metadata": {
    "dotnet_interactive": {
     "language": "fsharp"
    },
    "polyglot_notebook": {
     "kernelName": "fsharp"
    }
   },
   "outputs": [
    {
     "name": "stdout",
     "output_type": "stream",
     "text": [
      "/tmp/!dotnet-repl/20240325-1709-5563-6369-68e3107c8b2c\n"
     ]
    }
   ],
   "source": [
    "//// test\n",
    "\n",
    "createTempDirectoryName ()\n",
    "|> _contains System.IO.Path.DirectorySeparatorChar"
   ]
  },
  {
   "cell_type": "markdown",
   "metadata": {},
   "source": [
    "## createTempDirectory"
   ]
  },
  {
   "cell_type": "code",
   "execution_count": null,
   "metadata": {
    "dotnet_interactive": {
     "language": "fsharp"
    },
    "polyglot_notebook": {
     "kernelName": "fsharp"
    }
   },
   "outputs": [],
   "source": [
    "let inline createTempDirectory () =\n",
    "    let tempFolder = createTempDirectoryName ()\n",
    "    let result = System.IO.Directory.CreateDirectory tempFolder\n",
    "\n",
    "    if not result.Exists then\n",
    "        let getLocals () =\n",
    "            $\"tempFolder: {tempFolder} / result: {({|\n",
    "                Exists = result.Exists\n",
    "                CreationTime = result.CreationTime\n",
    "            |})} {getLocals ()}\"\n",
    "\n",
    "        trace Debug (fun () -> \"createTempDirectory\") getLocals\n",
    "\n",
    "    tempFolder"
   ]
  },
  {
   "cell_type": "code",
   "execution_count": null,
   "metadata": {
    "dotnet_interactive": {
     "language": "fsharp"
    },
    "polyglot_notebook": {
     "kernelName": "fsharp"
    }
   },
   "outputs": [
    {
     "name": "stdout",
     "output_type": "stream",
     "text": [
      "True\n"
     ]
    }
   ],
   "source": [
    "//// test\n",
    "\n",
    "let tempDirectory = createTempDirectory ()\n",
    "\n",
    "Directory.Exists tempDirectory\n",
    "|> _assertEqual true"
   ]
  },
  {
   "cell_type": "markdown",
   "metadata": {},
   "source": [
    "## getSourceDirectory"
   ]
  },
  {
   "cell_type": "code",
   "execution_count": null,
   "metadata": {
    "dotnet_interactive": {
     "language": "fsharp"
    },
    "polyglot_notebook": {
     "kernelName": "fsharp"
    }
   },
   "outputs": [],
   "source": [
    "let getSourceDirectory =\n",
    "    fun () -> __SOURCE_DIRECTORY__\n",
    "    |> memoize"
   ]
  },
  {
   "cell_type": "code",
   "execution_count": null,
   "metadata": {
    "dotnet_interactive": {
     "language": "fsharp"
    },
    "polyglot_notebook": {
     "kernelName": "fsharp"
    }
   },
   "outputs": [
    {
     "name": "stdout",
     "output_type": "stream",
     "text": [
      "fsharp\n"
     ]
    }
   ],
   "source": [
    "//// test\n",
    "\n",
    "getSourceDirectory ()\n",
    "|> System.IO.DirectoryInfo\n",
    "|> fun dir -> dir.Name\n",
    "|> _assertEqual \"fsharp\""
   ]
  },
  {
   "cell_type": "markdown",
   "metadata": {},
   "source": [
    "## findParent"
   ]
  },
  {
   "cell_type": "code",
   "execution_count": null,
   "metadata": {
    "dotnet_interactive": {
     "language": "fsharp"
    },
    "polyglot_notebook": {
     "kernelName": "fsharp"
    }
   },
   "outputs": [],
   "source": [
    "let inline findParent name isFile rootDir =\n",
    "    let rec loop dir =\n",
    "        if dir </> name |> (if isFile then System.IO.File.Exists else System.IO.Directory.Exists)\n",
    "        then dir\n",
    "        else\n",
    "            dir\n",
    "            |> System.IO.Directory.GetParent\n",
    "            |> function\n",
    "                | null -> failwith $\"\"\"No parent for {if isFile then \"file\" else \"dir\"} '{name}' at '{rootDir}'\"\"\"\n",
    "                | parent -> parent.FullName |> loop\n",
    "    loop rootDir"
   ]
  },
  {
   "cell_type": "code",
   "execution_count": null,
   "metadata": {
    "dotnet_interactive": {
     "language": "fsharp"
    },
    "polyglot_notebook": {
     "kernelName": "fsharp"
    }
   },
   "outputs": [
    {
     "name": "stdout",
     "output_type": "stream",
     "text": [
      "polyglot\n"
     ]
    }
   ],
   "source": [
    "//// test\n",
    "\n",
    "getSourceDirectory () |> findParent \".paket\" false\n",
    "|> System.IO.DirectoryInfo\n",
    "|> fun dir -> dir.Name\n",
    "|> _assertEqual \"polyglot\""
   ]
  },
  {
   "cell_type": "code",
   "execution_count": null,
   "metadata": {
    "dotnet_interactive": {
     "language": "fsharp"
    },
    "polyglot_notebook": {
     "kernelName": "fsharp"
    }
   },
   "outputs": [
    {
     "name": "stdout",
     "output_type": "stream",
     "text": [
      "polyglot\n"
     ]
    }
   ],
   "source": [
    "//// test\n",
    "\n",
    "getSourceDirectory () |> findParent \"paket.dependencies\" true\n",
    "|> System.IO.DirectoryInfo\n",
    "|> fun dir -> dir.Name\n",
    "|> _assertEqual \"polyglot\""
   ]
  },
  {
   "cell_type": "markdown",
   "metadata": {},
   "source": [
    "## readAllTextAsync"
   ]
  },
  {
   "cell_type": "code",
   "execution_count": null,
   "metadata": {
    "dotnet_interactive": {
     "language": "fsharp"
    },
    "polyglot_notebook": {
     "kernelName": "fsharp"
    }
   },
   "outputs": [],
   "source": [
    "let inline readAllTextAsync path =\n",
    "    path |> System.IO.File.ReadAllTextAsync |> Async.AwaitTask"
   ]
  },
  {
   "cell_type": "markdown",
   "metadata": {},
   "source": [
    "## fileExistsContent"
   ]
  },
  {
   "cell_type": "code",
   "execution_count": null,
   "metadata": {
    "dotnet_interactive": {
     "language": "fsharp"
    },
    "polyglot_notebook": {
     "kernelName": "fsharp"
    }
   },
   "outputs": [],
   "source": [
    "let inline fileExistsContent path content = async {\n",
    "    if path |> System.IO.File.Exists |> not\n",
    "    then return false\n",
    "    else\n",
    "        let! existingContent = path |> readAllTextAsync\n",
    "        return content = existingContent\n",
    "}"
   ]
  },
  {
   "cell_type": "markdown",
   "metadata": {},
   "source": [
    "## writeAllTextAsync"
   ]
  },
  {
   "cell_type": "code",
   "execution_count": null,
   "metadata": {
    "dotnet_interactive": {
     "language": "fsharp"
    },
    "polyglot_notebook": {
     "kernelName": "fsharp"
    }
   },
   "outputs": [],
   "source": [
    "let inline writeAllTextAsync path contents =\n",
    "    System.IO.File.WriteAllTextAsync (path, contents) |> Async.AwaitTask"
   ]
  },
  {
   "cell_type": "markdown",
   "metadata": {},
   "source": [
    "## writeAllTextExists"
   ]
  },
  {
   "cell_type": "code",
   "execution_count": null,
   "metadata": {
    "dotnet_interactive": {
     "language": "fsharp"
    },
    "polyglot_notebook": {
     "kernelName": "fsharp"
    }
   },
   "outputs": [],
   "source": [
    "let inline writeAllTextExists path contents = async {\n",
    "    let! exists = contents |> fileExistsContent path\n",
    "    if not exists\n",
    "    then do! contents |> writeAllTextAsync path\n",
    "}"
   ]
  },
  {
   "cell_type": "markdown",
   "metadata": {},
   "source": [
    "## waitForFileAccess"
   ]
  },
  {
   "cell_type": "code",
   "execution_count": null,
   "metadata": {
    "dotnet_interactive": {
     "language": "fsharp"
    },
    "polyglot_notebook": {
     "kernelName": "fsharp"
    }
   },
   "outputs": [],
   "source": [
    "let inline waitForFileAccess access path =\n",
    "    let fileAccess, fileShare =\n",
    "        access\n",
    "        |> Option.defaultValue (System.IO.FileAccess.ReadWrite, System.IO.FileShare.Read)\n",
    "\n",
    "    let rec loop retry = async {\n",
    "        try\n",
    "            use _ = new System.IO.FileStream (\n",
    "                path,\n",
    "                System.IO.FileMode.Open,\n",
    "                fileAccess,\n",
    "                fileShare\n",
    "            )\n",
    "            return retry\n",
    "        with ex ->\n",
    "            if retry % 100 = 0 then\n",
    "                let getLocals () = $\"path: {path |> System.IO.Path.GetFileName} / ex: {ex |> printException} / {getLocals ()}\"\n",
    "                trace Debug (fun () -> \"waitForFileAccess\") getLocals\n",
    "            do! Async.Sleep 10\n",
    "            return! loop (retry + 1)\n",
    "    }\n",
    "    loop 0"
   ]
  },
  {
   "cell_type": "code",
   "execution_count": null,
   "metadata": {
    "dotnet_interactive": {
     "language": "fsharp"
    },
    "polyglot_notebook": {
     "kernelName": "fsharp"
    }
   },
   "outputs": [
    {
     "name": "stdout",
     "output_type": "stream",
     "text": [
      "00:00:00 #1 [Debug] 1\n",
      "00:00:00 #2 [Debug] 2\n",
      "00:00:00 #3 [Debug] _1\n",
      "00:00:00 #4 [Debug] 3\n",
      "00:00:00 #5 [Debug] _2\n",
      "00:00:00 #6 [Debug] 4\n",
      "00:00:00 #7 [Debug] waitForFileAccess / path: test.txt / ex: System.IO.IOException: The process cannot access the file '/tmp/!dotnet-repl/20240325-1709-5620-2046-282e2c892229/test.txt' because it is being used by another process.\n",
      "00:00:01 #8 [Debug] waitForFileAccess / path: test.txt / ex: System.IO.IOException: The process cannot access the file '/tmp/!dotnet-repl/20240325-1709-5620-2046-282e2c892229/test.txt' because it is being used by another process.\n",
      "00:00:02 #9 [Debug] _3\n",
      "00:00:02 #10 [Debug] _4\n",
      "00:00:02 #11 [Debug] _5\n",
      "00:00:02 #12 [Debug] _6\n",
      "00:00:02 #13 [Debug] 5\n",
      "00:00:02 #14 [Debug] 6\n",
      "00:00:02 #15 [Debug] 7\n",
      "167\n",
      "167\n",
      "167\n",
      "1\n",
      "True\n"
     ]
    }
   ],
   "source": [
    "//// test\n",
    "\n",
    "let tempFolder = createTempDirectory ()\n",
    "let path = tempFolder </> \"test.txt\"\n",
    "\n",
    "let inline lockFile () = async {\n",
    "    trace Debug (fun () -> \"_1\") getLocals\n",
    "    use stream = new System.IO.FileStream (\n",
    "        path,\n",
    "        System.IO.FileMode.Open,\n",
    "        System.IO.FileAccess.ReadWrite,\n",
    "        System.IO.FileShare.None\n",
    "    )\n",
    "    trace Debug (fun () -> \"_2\") getLocals\n",
    "    do! Async.Sleep 2000\n",
    "    trace Debug (fun () -> \"_3\") getLocals\n",
    "    stream.Seek (0L, SeekOrigin.Begin) |> ignore\n",
    "    trace Debug (fun () -> \"_4\") getLocals\n",
    "    stream.WriteByte 49uy\n",
    "    trace Debug (fun () -> \"_5\") getLocals\n",
    "    stream.Flush ()\n",
    "    trace Debug (fun () -> \"_6\") getLocals\n",
    "}\n",
    "\n",
    "async {\n",
    "    trace Debug (fun () -> \"1\") getLocals\n",
    "    do! \"0\" |> writeAllTextAsync path\n",
    "    trace Debug (fun () -> \"2\") getLocals\n",
    "    let! child = lockFile () |> Async.StartChild\n",
    "    trace Debug (fun () -> \"3\") getLocals\n",
    "    do! Async.Sleep 1\n",
    "    trace Debug (fun () -> \"4\") getLocals\n",
    "    let! retries = path |> waitForFileAccess None\n",
    "    trace Debug (fun () -> \"5\") getLocals\n",
    "    let! text = path |> readAllTextAsync\n",
    "    trace Debug (fun () -> \"6\") getLocals\n",
    "    do! child\n",
    "    trace Debug (fun () -> \"7\") getLocals\n",
    "    return retries, text\n",
    "}\n",
    "|> Async.runWithTimeout 3000\n",
    "|> function\n",
    "    | Some (retries, text) ->\n",
    "        retries\n",
    "        |> _isBetween\n",
    "            (if Runtime.isWindows () then 100 else 100)\n",
    "            (if Runtime.isWindows () then 150 else 200)\n",
    "\n",
    "        text |> _assertEqual \"1\"\n",
    "\n",
    "        true\n",
    "    | _ -> false\n",
    "|> _assertEqual true"
   ]
  },
  {
   "cell_type": "markdown",
   "metadata": {},
   "source": [
    "## readAllTextRetryAsync"
   ]
  },
  {
   "cell_type": "code",
   "execution_count": null,
   "metadata": {
    "dotnet_interactive": {
     "language": "fsharp"
    },
    "polyglot_notebook": {
     "kernelName": "fsharp"
    }
   },
   "outputs": [],
   "source": [
    "let inline readAllTextRetryAsync fullPath =\n",
    "    let rec loop retry = async {\n",
    "        try\n",
    "            if retry > 0\n",
    "            then do!\n",
    "                fullPath\n",
    "                |> waitForFileAccess (Some (\n",
    "                    System.IO.FileAccess.Read,\n",
    "                    System.IO.FileShare.Read\n",
    "                ))\n",
    "                |> Async.runWithTimeoutAsync 1000\n",
    "                |> Async.Ignore\n",
    "            return! fullPath |> readAllTextAsync |> Async.map Some\n",
    "        with ex ->\n",
    "            let getLocals () = $\"retry: {retry} / ex: {ex |> printException} / {getLocals ()}\"\n",
    "            trace Debug (fun () -> $\"watchWithFilter / readContent\") getLocals\n",
    "            if retry = 0\n",
    "            then return! loop (retry + 1)\n",
    "            else return None\n",
    "    }\n",
    "    loop 0"
   ]
  },
  {
   "cell_type": "markdown",
   "metadata": {},
   "source": [
    "## deleteDirectoryAsync"
   ]
  },
  {
   "cell_type": "code",
   "execution_count": null,
   "metadata": {
    "dotnet_interactive": {
     "language": "fsharp"
    },
    "polyglot_notebook": {
     "kernelName": "fsharp"
    }
   },
   "outputs": [],
   "source": [
    "let inline deleteDirectoryAsync path =\n",
    "    let rec loop retry = async {\n",
    "        try\n",
    "            System.IO.Directory.Delete (path, true)\n",
    "            return retry\n",
    "        with ex ->\n",
    "            if retry % 100 = 0 then\n",
    "                let getLocals () = $\"path: {path |> System.IO.Path.GetFileName} / ex: {ex |> printException} / {getLocals ()}\"\n",
    "                trace Debug (fun () -> \"deleteDirectoryAsync\") getLocals\n",
    "            do! Async.Sleep 10\n",
    "            return! loop (retry + 1)\n",
    "    }\n",
    "    loop 0"
   ]
  },
  {
   "cell_type": "code",
   "execution_count": null,
   "metadata": {
    "dotnet_interactive": {
     "language": "fsharp"
    },
    "polyglot_notebook": {
     "kernelName": "fsharp"
    }
   },
   "outputs": [
    {
     "name": "stdout",
     "output_type": "stream",
     "text": [
      "00:00:02 #16 [Debug] 1\n",
      "00:00:02 #17 [Debug] 2\n",
      "00:00:02 #18 [Debug] 3\n",
      "00:00:02 #19 [Debug] _1\n",
      "00:00:02 #20 [Debug] _2\n",
      "00:00:02 #21 [Debug] 4\n",
      "00:00:02 #22 [Debug] 5\n",
      "00:00:04 #23 [Debug] _3\n",
      "00:00:04 #24 [Debug] 6\n",
      "0\n",
      "0\n",
      "0\n",
      "True\n"
     ]
    }
   ],
   "source": [
    "//// test\n",
    "\n",
    "let tempFolder = createTempDirectory ()\n",
    "let path = tempFolder </> \"test\"\n",
    "\n",
    "let inline lockDirectory () = async {\n",
    "    trace Debug (fun () -> \"_1\") getLocals\n",
    "    System.IO.File.WriteAllText (path </> \"test.txt\", \"0\")\n",
    "    use _ = new System.IO.FileStream (\n",
    "        path </> \"test.txt\",\n",
    "        System.IO.FileMode.Open,\n",
    "        System.IO.FileAccess.ReadWrite,\n",
    "        System.IO.FileShare.None\n",
    "    )\n",
    "    trace Debug (fun () -> \"_2\") getLocals\n",
    "    do! Async.Sleep 2000\n",
    "    trace Debug (fun () -> \"_3\") getLocals\n",
    "}\n",
    "\n",
    "async {\n",
    "    trace Debug (fun () -> \"1\") getLocals\n",
    "    Directory.CreateDirectory path |> ignore\n",
    "    trace Debug (fun () -> \"2\") getLocals\n",
    "    let! child = lockDirectory () |> Async.StartChild\n",
    "    trace Debug (fun () -> \"3\") getLocals\n",
    "    do! Async.Sleep 60\n",
    "    trace Debug (fun () -> \"4\") getLocals\n",
    "    let! retries = deleteDirectoryAsync path\n",
    "    trace Debug (fun () -> \"5\") getLocals\n",
    "    do! child\n",
    "    trace Debug (fun () -> \"6\") getLocals\n",
    "    return retries\n",
    "}\n",
    "|> Async.runWithTimeout 3000\n",
    "|> function\n",
    "    | Some retries ->\n",
    "        retries\n",
    "        |> _isBetween\n",
    "            (if Runtime.isWindows () then 100 else 0)\n",
    "            (if Runtime.isWindows () then 150 else 0)\n",
    "\n",
    "        true\n",
    "    | _ -> false\n",
    "|> _assertEqual true"
   ]
  },
  {
   "cell_type": "markdown",
   "metadata": {},
   "source": [
    "## deleteFileAsync"
   ]
  },
  {
   "cell_type": "code",
   "execution_count": null,
   "metadata": {
    "dotnet_interactive": {
     "language": "fsharp"
    },
    "polyglot_notebook": {
     "kernelName": "fsharp"
    }
   },
   "outputs": [],
   "source": [
    "let inline deleteFileAsync path =\n",
    "    let rec loop retry = async {\n",
    "        try\n",
    "            System.IO.File.Delete path\n",
    "            return retry\n",
    "        with ex ->\n",
    "            if retry % 100 = 0 then\n",
    "                let getLocals () = $\"path: {path |> System.IO.Path.GetFileName} / ex: {ex |> printException} / {getLocals ()}\"\n",
    "                trace Warning (fun () -> \"deleteFileAsync\") getLocals\n",
    "            do! Async.Sleep 10\n",
    "            return! loop (retry + 1)\n",
    "    }\n",
    "    loop 0"
   ]
  },
  {
   "cell_type": "code",
   "execution_count": null,
   "metadata": {
    "dotnet_interactive": {
     "language": "fsharp"
    },
    "polyglot_notebook": {
     "kernelName": "fsharp"
    }
   },
   "outputs": [
    {
     "name": "stdout",
     "output_type": "stream",
     "text": [
      "00:00:04 #25 [Debug] 1\n",
      "00:00:04 #26 [Debug] 2\n",
      "00:00:04 #27 [Debug] 3\n",
      "00:00:04 #28 [Debug] _1\n",
      "00:00:04 #29 [Debug] _2\n",
      "00:00:04 #30 [Debug] 4\n",
      "00:00:04 #31 [Debug] 5\n",
      "00:00:06 #32 [Debug] _3\n",
      "00:00:06 #33 [Debug] 6\n",
      "0\n",
      "0\n",
      "0\n",
      "True\n"
     ]
    }
   ],
   "source": [
    "//// test\n",
    "\n",
    "let tempFolder = createTempDirectory ()\n",
    "let path = tempFolder </> \"test.txt\"\n",
    "\n",
    "let inline lockFile () = async {\n",
    "    trace Debug (fun () -> \"_1\") getLocals\n",
    "    use _ = new System.IO.FileStream (\n",
    "        path,\n",
    "        System.IO.FileMode.Open,\n",
    "        System.IO.FileAccess.ReadWrite,\n",
    "        System.IO.FileShare.None\n",
    "    )\n",
    "    trace Debug (fun () -> \"_2\") getLocals\n",
    "    do! Async.Sleep 2000\n",
    "    trace Debug (fun () -> \"_3\") getLocals\n",
    "}\n",
    "\n",
    "async {\n",
    "    trace Debug (fun () -> \"1\") getLocals\n",
    "    do! \"0\" |> writeAllTextAsync path\n",
    "    trace Debug (fun () -> \"2\") getLocals\n",
    "    let! child = lockFile () |> Async.StartChild\n",
    "    trace Debug (fun () -> \"3\") getLocals\n",
    "    do! Async.Sleep 1\n",
    "    trace Debug (fun () -> \"4\") getLocals\n",
    "    let! retries = deleteFileAsync path\n",
    "    trace Debug (fun () -> \"5\") getLocals\n",
    "    do! child\n",
    "    trace Debug (fun () -> \"6\") getLocals\n",
    "    return retries\n",
    "}\n",
    "|> Async.runWithTimeout 3000\n",
    "|> function\n",
    "    | Some retries ->\n",
    "        retries\n",
    "        |> _isBetween\n",
    "            (if Runtime.isWindows () then 100 else 0)\n",
    "            (if Runtime.isWindows () then 150 else 0)\n",
    "\n",
    "        true\n",
    "    | _ -> false\n",
    "|> _assertEqual true"
   ]
  },
  {
   "cell_type": "markdown",
   "metadata": {},
   "source": [
    "## moveFileAsync"
   ]
  },
  {
   "cell_type": "code",
   "execution_count": null,
   "metadata": {
    "dotnet_interactive": {
     "language": "fsharp"
    },
    "polyglot_notebook": {
     "kernelName": "fsharp"
    }
   },
   "outputs": [],
   "source": [
    "let inline moveFileAsync newPath oldPath =\n",
    "    let rec loop retry = async {\n",
    "        try\n",
    "            System.IO.File.Move (oldPath, newPath)\n",
    "            return retry\n",
    "        with ex ->\n",
    "            if retry % 100 = 0 then\n",
    "                let getLocals () =\n",
    "                    $\"oldPath: {oldPath |> System.IO.Path.GetFileName} / newPath: {newPath |> System.IO.Path.GetFileName} / ex: {ex |> printException} / {getLocals ()}\"\n",
    "                trace Warning (fun () -> \"moveFileAsync\") getLocals\n",
    "            do! Async.Sleep 10\n",
    "            return! loop (retry + 1)\n",
    "    }\n",
    "    loop 0"
   ]
  },
  {
   "cell_type": "code",
   "execution_count": null,
   "metadata": {
    "dotnet_interactive": {
     "language": "fsharp"
    },
    "polyglot_notebook": {
     "kernelName": "fsharp"
    }
   },
   "outputs": [
    {
     "name": "stdout",
     "output_type": "stream",
     "text": [
      "00:00:06 #34 [Debug] 1\n",
      "00:00:06 #35 [Debug] 2\n",
      "00:00:06 #36 [Debug] 3\n",
      "00:00:06 #37 [Debug] _1\n",
      "00:00:06 #38 [Debug] _2\n",
      "00:00:06 #39 [Debug] 4\n",
      "00:00:06 #40 [Debug] 5\n",
      "00:00:06 #41 [Debug] waitForFileAccess / path: test2.txt / ex: System.IO.IOException: The process cannot access the file '/tmp/!dotnet-repl/20240325-1710-0305-0543-0bc92598cb9a/test2.txt' because it is being used by another process.\n",
      "00:00:08 #42 [Debug] waitForFileAccess / path: test2.txt / ex: System.IO.IOException: The process cannot access the file '/tmp/!dotnet-repl/20240325-1710-0305-0543-0bc92598cb9a/test2.txt' because it is being used by another process.\n",
      "00:00:08 #43 [Debug] _3\n",
      "00:00:08 #44 [Debug] 6\n",
      "00:00:08 #45 [Debug] 7\n",
      "00:00:08 #46 [Debug] 8\n",
      "0\n",
      "0\n",
      "0\n",
      "167\n",
      "167\n",
      "167\n",
      "0\n",
      "True\n"
     ]
    }
   ],
   "source": [
    "//// test\n",
    "\n",
    "let tempFolder = createTempDirectory ()\n",
    "let path = tempFolder </> \"test.txt\"\n",
    "let newPath = tempFolder </> \"test2.txt\"\n",
    "\n",
    "let inline lockFile () = async {\n",
    "    trace Debug (fun () -> \"_1\") getLocals\n",
    "    use _ = new System.IO.FileStream (\n",
    "        path,\n",
    "        System.IO.FileMode.Open,\n",
    "        System.IO.FileAccess.ReadWrite,\n",
    "        System.IO.FileShare.None\n",
    "    )\n",
    "    trace Debug (fun () -> \"_2\") getLocals\n",
    "    do! Async.Sleep 2000\n",
    "    trace Debug (fun () -> \"_3\") getLocals\n",
    "}\n",
    "\n",
    "async {\n",
    "    trace Debug (fun () -> \"1\") getLocals\n",
    "    do! \"0\" |> writeAllTextAsync path\n",
    "    trace Debug (fun () -> \"2\") getLocals\n",
    "    let! child = lockFile () |> Async.StartChild\n",
    "    trace Debug (fun () -> \"3\") getLocals\n",
    "    do! Async.Sleep 1\n",
    "    trace Debug (fun () -> \"4\") getLocals\n",
    "    let! retries1 = path |> moveFileAsync newPath\n",
    "    trace Debug (fun () -> \"5\") getLocals\n",
    "    let! retries2 = newPath |> waitForFileAccess None\n",
    "    trace Debug (fun () -> \"6\") getLocals\n",
    "    let! text = newPath |> readAllTextAsync\n",
    "    trace Debug (fun () -> \"7\") getLocals\n",
    "    do! child\n",
    "    trace Debug (fun () -> \"8\") getLocals\n",
    "    return retries1, retries2, text\n",
    "}\n",
    "|> Async.runWithTimeout 3000\n",
    "|> function\n",
    "    | Some (retries1, retries2, text) ->\n",
    "        retries1\n",
    "        |> _isBetween\n",
    "            (if Runtime.isWindows () then 100 else 0)\n",
    "            (if Runtime.isWindows () then 150 else 0)\n",
    "\n",
    "        retries2\n",
    "        |> _isBetween\n",
    "            (if Runtime.isWindows () then 0 else 100)\n",
    "            (if Runtime.isWindows () then 0 else 200)\n",
    "\n",
    "        text |> _assertEqual \"0\"\n",
    "\n",
    "        true\n",
    "    | _ -> false\n",
    "|> _assertEqual true"
   ]
  },
  {
   "cell_type": "markdown",
   "metadata": {},
   "source": [
    "## watchDirectory"
   ]
  },
  {
   "cell_type": "code",
   "execution_count": null,
   "metadata": {
    "dotnet_interactive": {
     "language": "fsharp"
    },
    "polyglot_notebook": {
     "kernelName": "fsharp"
    }
   },
   "outputs": [],
   "source": [
    "[<RequireQualifiedAccess>]\n",
    "type FileSystemChangeType =\n",
    "    | Failure\n",
    "    | Changed\n",
    "    | Created\n",
    "    | Deleted\n",
    "    | Renamed\n",
    "\n",
    "[<RequireQualifiedAccess>]\n",
    "type FileSystemChange =\n",
    "    | Failure of exn: exn\n",
    "    | Changed of path: string * content: string option\n",
    "    | Created of path: string * content: string option\n",
    "    | Deleted of path: string\n",
    "    | Renamed of oldPath: string * (string * string option)\n",
    "\n",
    "\n",
    "let inline watchDirectoryWithFilter filter shouldReadContent path =\n",
    "    let fullPath = path |> System.IO.Path.GetFullPath\n",
    "    let getLocals () = $\"filter: {filter} / {getLocals ()}\"\n",
    "\n",
    "    let watcher =\n",
    "        new System.IO.FileSystemWatcher (\n",
    "            Path = fullPath,\n",
    "            NotifyFilter = filter,\n",
    "            EnableRaisingEvents = true,\n",
    "            IncludeSubdirectories = true\n",
    "        )\n",
    "\n",
    "    let inline getEventPath (path : string) =\n",
    "        path |> String.trim |> String.replace fullPath \"\" |> String.trimStart [| '/'; '\\\\' |]\n",
    "\n",
    "    let inline ticks () =\n",
    "        System.DateTime.UtcNow.Ticks\n",
    "\n",
    "    let changedStream =\n",
    "        AsyncSeq.subscribeEvent\n",
    "            watcher.Changed\n",
    "            (fun event ->\n",
    "                ticks (),\n",
    "                [ FileSystemChange.Changed (getEventPath event.FullPath, None) ]\n",
    "            )\n",
    "\n",
    "    let deletedStream =\n",
    "        AsyncSeq.subscribeEvent\n",
    "            watcher.Deleted\n",
    "            (fun event ->\n",
    "                ticks (),\n",
    "                [ FileSystemChange.Deleted (getEventPath event.FullPath) ]\n",
    "            )\n",
    "\n",
    "    let createdStream =\n",
    "        AsyncSeq.subscribeEvent\n",
    "            watcher.Created\n",
    "            (fun event ->\n",
    "                let path = getEventPath event.FullPath\n",
    "                ticks (), [\n",
    "                    FileSystemChange.Created (path, None)\n",
    "                    if Runtime.isWindows () then\n",
    "                        FileSystemChange.Changed (path, None)\n",
    "                ])\n",
    "\n",
    "    let renamedStream =\n",
    "        AsyncSeq.subscribeEvent\n",
    "            watcher.Renamed\n",
    "            (fun event ->\n",
    "                ticks (), [\n",
    "                    FileSystemChange.Renamed (\n",
    "                        getEventPath event.OldFullPath,\n",
    "                        (getEventPath event.FullPath, None)\n",
    "                    )\n",
    "                ]\n",
    "            )\n",
    "\n",
    "    let failureStream =\n",
    "        AsyncSeq.subscribeEvent\n",
    "            watcher.Error\n",
    "            (fun event -> ticks (), [ FileSystemChange.Failure (event.GetException ()) ])\n",
    "\n",
    "    let stream =\n",
    "        [\n",
    "            changedStream\n",
    "            deletedStream\n",
    "            createdStream\n",
    "            renamedStream\n",
    "            failureStream\n",
    "        ]\n",
    "        |> FSharp.Control.AsyncSeq.mergeAll\n",
    "        |> FSharp.Control.AsyncSeq.map (fun (t, events) ->\n",
    "            events\n",
    "            |> List.fold\n",
    "                (fun (i, events) event ->\n",
    "                    i + 1L,\n",
    "                    (t + i, event) :: events)\n",
    "                (0L, [])\n",
    "            |> snd\n",
    "            |> List.rev\n",
    "        )\n",
    "        |> FSharp.Control.AsyncSeq.concatSeq\n",
    "        |> FSharp.Control.AsyncSeq.mapAsyncParallel (fun (t, event) -> async {\n",
    "            match shouldReadContent event, event with\n",
    "            | true, FileSystemChange.Changed (path, _) ->\n",
    "                do! Async.Sleep 5\n",
    "                let! content = fullPath </> path |> readAllTextRetryAsync\n",
    "                return t, FileSystemChange.Changed (path, content)\n",
    "            | true, FileSystemChange.Created (path, _) ->\n",
    "                do! Async.Sleep 5\n",
    "                let! content = fullPath </> path |> readAllTextRetryAsync\n",
    "                return t, FileSystemChange.Created (path, content)\n",
    "            | true, FileSystemChange.Renamed (oldPath, (newPath, _)) ->\n",
    "                let! content = fullPath </> newPath |> readAllTextRetryAsync\n",
    "                return t, FileSystemChange.Renamed (oldPath, (newPath, content))\n",
    "            | _ -> return t, event\n",
    "        })\n",
    "\n",
    "    let disposable =\n",
    "        newDisposable (fun () ->\n",
    "            trace Debug (fun () -> \"watchWithFilter / Disposing watch stream\") getLocals\n",
    "            watcher.EnableRaisingEvents <- false\n",
    "            watcher.Dispose ()\n",
    "        )\n",
    "\n",
    "    stream, disposable\n",
    "\n",
    "let inline watchDirectory path =\n",
    "    watchDirectoryWithFilter\n",
    "        (System.IO.NotifyFilters.FileName\n",
    "        // ||| System.IO.NotifyFilters.DirectoryName\n",
    "        // ||| System.IO.NotifyFilters.Attributes\n",
    "        //// ||| System.IO.NotifyFilters.Size\n",
    "        ||| System.IO.NotifyFilters.LastWrite\n",
    "        //// ||| System.IO.NotifyFilters.LastAccess\n",
    "        // ||| System.IO.NotifyFilters.CreationTime\n",
    "        // ||| System.IO.NotifyFilters.Security\n",
    "        )\n",
    "        path"
   ]
  },
  {
   "cell_type": "markdown",
   "metadata": {},
   "source": [
    "### testEventsRaw (test)"
   ]
  },
  {
   "cell_type": "code",
   "execution_count": null,
   "metadata": {
    "dotnet_interactive": {
     "language": "fsharp"
    },
    "polyglot_notebook": {
     "kernelName": "fsharp"
    }
   },
   "outputs": [],
   "source": [
    "//// test\n",
    "\n",
    "let inline testEventsRaw\n",
    "    (watchFn : (_ -> bool) -> string -> FSharp.Control.AsyncSeq<int64 * FileSystemChange> * IDisposable)\n",
    "    write\n",
    "    =\n",
    "    let tempDirectory = createTempDirectory ()\n",
    "    let stream, disposable = watchFn (fun _ -> true) tempDirectory\n",
    "\n",
    "    let events = System.Collections.Concurrent.ConcurrentBag ()\n",
    "\n",
    "    let inline iter () =\n",
    "        stream\n",
    "        |> FSharp.Control.AsyncSeq.iterAsyncParallel (fun event -> async { events.Add event })\n",
    "\n",
    "    let run = async {\n",
    "        let! _ = iter () |> Async.StartChild\n",
    "        do! Async.Sleep 250\n",
    "        return! write tempDirectory\n",
    "    }\n",
    "\n",
    "    try\n",
    "        run\n",
    "        |> Async.runWithTimeout 60000\n",
    "        |> _assertEqual (Some ())\n",
    "    finally\n",
    "        disposable.Dispose ()\n",
    "        deleteDirectoryAsync tempDirectory |> Async.Ignore |> Async.RunSynchronously\n",
    "\n",
    "    let eventsLog =\n",
    "        events\n",
    "        |> Seq.toList\n",
    "        |> List.sortBy fst\n",
    "        |> List.fold\n",
    "            (fun (prev, acc) (ticks, event) ->\n",
    "                ticks, (ticks, (if prev = 0L then 0L else ticks - prev), event) :: acc\n",
    "            )\n",
    "            (0L, [])\n",
    "        |> snd\n",
    "        |> List.rev\n",
    "        |> List.map (fun (diff, n, event) ->\n",
    "            let text = $\"{n} / {diff} / {event}\"\n",
    "            if text |> String.length <= 100\n",
    "            then text\n",
    "            else text |> String.substring 0 100 |> String.replace \"\\n\" \"\"\n",
    "        )\n",
    "        |> String.concat \"\\n\"\n",
    "    let getLocals () = $\"eventsLog: \\n{eventsLog} / {getLocals ()}\"\n",
    "    trace Debug (fun () -> \"testEventsRaw\") getLocals\n",
    "\n",
    "    events\n",
    "    |> Seq.toList\n",
    "    |> List.sortBy fst\n",
    "    |> List.map snd\n",
    "    |> List.fold\n",
    "        (fun acc event ->\n",
    "            match acc, event with\n",
    "            | FileSystemChange.Changed (lastPath, Some lastContent) as lastEvent :: acc,\n",
    "                FileSystemChange.Changed (path, Some content)\n",
    "                when lastPath = path && content |> String.startsWith lastContent\n",
    "                ->\n",
    "                event :: acc\n",
    "            | _ -> event :: acc\n",
    "        )\n",
    "        []\n",
    "    |> List.rev"
   ]
  },
  {
   "cell_type": "markdown",
   "metadata": {},
   "source": [
    "#### fast (test)"
   ]
  },
  {
   "cell_type": "code",
   "execution_count": null,
   "metadata": {
    "dotnet_interactive": {
     "language": "fsharp"
    },
    "polyglot_notebook": {
     "kernelName": "fsharp"
    }
   },
   "outputs": [
    {
     "name": "stdout",
     "output_type": "stream",
     "text": [
      "FSharpOption<Unit>\n",
      "      Value: <null>\n",
      "00:00:13 #47 [Debug] watchWithFilter / Disposing watch stream / filter: FileName, LastWrite\n",
      "00:00:13 #48 [Debug] testEventsRaw / eventsLog: \n",
      "0 / 638469834082134630 / Created (\"file1.txt\", Some \"a1\")\n",
      "14110 / 638469834082148740 / Changed (\"file1.txt\", Some \"a1\")\n",
      "2389 / 638469834082151129 / Created (\"file2.txt\", Some \"a2\")\n",
      "242 / 638469834082151371 / Changed (\"file2.txt\", Some \"a2\")\n",
      "2525370 / 638469834084676741 / Changed (\"file1.txt\", Some \"b1\")\n",
      "1122 / 638469834084677863 / Changed (\"file1.txt\", Some \"b1\")\n",
      "4977 / 638469834084682840 / Changed (\"file2.txt\", Some \"b2\")\n",
      "276 / 638469834084683116 / Changed (\"file2.txt\", Some \"b2\")\n",
      "2536180 / 638469834087219296 / Renamed (\"file1.txt\", (\"file_1.txt\", Some \"b1\"))\n",
      "3718 / 638469834087223014 / Renamed (\"file2.txt\", (\"file_2.txt\", Some \"b2\"))\n",
      "2524312 / 638469834089747326 / Changed (\"file_1.txt\", Some \"c1\")\n",
      "483 / 638469834089747809 / Changed (\"file_1.txt\", Some \"c1\")\n",
      "4957 / 638469834089752766 / Changed (\"file_2.txt\", Some \"c2\")\n",
      "339 / 638469834089753105 / Changed (\"file_2.txt\", Some \"c2\")\n",
      "2532665 / 638469834092285770 / Deleted \"file_1.txt\"\n",
      "1012 / 638469834092286782 / Deleted \"file_2.txt\"\n",
      "FSharpList<FileSystemChange>\n",
      "      - path: file1.txt\n",
      "        content: FSharpOption<String>\n",
      "          Value: a1\n",
      "        IsFailure: False\n",
      "        IsChanged: False\n",
      "        IsCreated: True\n",
      "        IsDeleted: False\n",
      "        IsRenamed: False\n",
      "      - path: file1.txt\n",
      "        content: FSharpOption<String>\n",
      "          Value: a1\n",
      "        IsFailure: False\n",
      "        IsChanged: True\n",
      "        IsCreated: False\n",
      "        IsDeleted: False\n",
      "        IsRenamed: False\n",
      "      - path: file2.txt\n",
      "        content: FSharpOption<String>\n",
      "          Value: a2\n",
      "        IsFailure: False\n",
      "        IsChanged: False\n",
      "        IsCreated: True\n",
      "        IsDeleted: False\n",
      "        IsRenamed: False\n",
      "      - path: file2.txt\n",
      "        content: FSharpOption<String>\n",
      "          Value: a2\n",
      "        IsFailure: False\n",
      "        IsChanged: True\n",
      "        IsCreated: False\n",
      "        IsDeleted: False\n",
      "        IsRenamed: False\n",
      "      - path: file1.txt\n",
      "        content: FSharpOption<String>\n",
      "          Value: b1\n",
      "        IsFailure: False\n",
      "        IsChanged: True\n",
      "        IsCreated: False\n",
      "        IsDeleted: False\n",
      "        IsRenamed: False\n",
      "      - path: file2.txt\n",
      "        content: FSharpOption<String>\n",
      "          Value: b2\n",
      "        IsFailure: False\n",
      "        IsChanged: True\n",
      "        IsCreated: False\n",
      "        IsDeleted: False\n",
      "        IsRenamed: False\n",
      "      - oldPath: file1.txt\n",
      "        Item2:         - file_1.txt\n",
      "        - FSharpOption<String>\n",
      "            Value: b1\n",
      "      - IsFailure: False\n",
      "        IsChanged: False\n",
      "        IsCreated: False\n",
      "        IsDeleted: False\n",
      "        IsRenamed: True\n",
      "      - oldPath: file2.txt\n",
      "        Item2:         - file_2.txt\n",
      "        - FSharpOption<String>\n",
      "            Value: b2\n",
      "      - IsFailure: False\n",
      "        IsChanged: False\n",
      "        IsCreated: False\n",
      "        IsDeleted: False\n",
      "        IsRenamed: True\n",
      "      - path: file_1.txt\n",
      "        content: FSharpOption<String>\n",
      "          Value: c1\n",
      "        IsFailure: False\n",
      "        IsChanged: True\n",
      "        IsCreated: False\n",
      "        IsDeleted: False\n",
      "        IsRenamed: False\n",
      "      - path: file_2.txt\n",
      "        content: FSharpOption<String>\n",
      "          Value: c2\n",
      "        IsFailure: False\n",
      "        IsChanged: True\n",
      "        IsCreated: False\n",
      "        IsDeleted: False\n",
      "        IsRenamed: False\n",
      "      - path: file_1.txt\n",
      "        IsFailure: False\n",
      "        IsChanged: False\n",
      "        IsCreated: False\n",
      "        IsDeleted: True\n",
      "        IsRenamed: False\n",
      "      - path: file_2.txt\n",
      "        IsFailure: False\n",
      "        IsChanged: False\n",
      "        IsCreated: False\n",
      "        IsDeleted: True\n",
      "        IsRenamed: False\n",
      "FSharpOption<Unit>\n",
      "      Value: <null>\n"
     ]
    }
   ],
   "source": [
    "//// test\n",
    "\n",
    "let inline write path = async {\n",
    "    let n = 2\n",
    "\n",
    "    for i = 1 to n do\n",
    "        do! $\"a{i}\" |> writeAllTextAsync (path </> $\"file{i}.txt\")\n",
    "\n",
    "    do! Async.Sleep 250\n",
    "\n",
    "    for i = 1 to n do\n",
    "        do! $\"b{i}\" |> writeAllTextAsync (path </> $\"file{i}.txt\")\n",
    "\n",
    "    do! Async.Sleep 250\n",
    "\n",
    "    for i = 1 to n do\n",
    "        do! path </> $\"file{i}.txt\" |> moveFileAsync (path </> $\"file_{i}.txt\") |> Async.Ignore\n",
    "\n",
    "    do! Async.Sleep 250\n",
    "\n",
    "    for i = 1 to n do\n",
    "        do! $\"c{i}\" |> writeAllTextAsync (path </> $\"file_{i}.txt\")\n",
    "\n",
    "    do! Async.Sleep 250\n",
    "\n",
    "    for i = 1 to n do\n",
    "        do! deleteFileAsync (path </> $\"file_{i}.txt\") |> Async.Ignore\n",
    "\n",
    "    do! Async.Sleep 250\n",
    "}\n",
    "\n",
    "let inline run () =\n",
    "    let events = testEventsRaw watchDirectory write\n",
    "\n",
    "    events\n",
    "    |> _sequenceEqual [\n",
    "        FileSystemChange.Created (\"file1.txt\", Some \"a1\")\n",
    "        FileSystemChange.Changed (\"file1.txt\", Some \"a1\")\n",
    "        FileSystemChange.Created (\"file2.txt\", Some \"a2\")\n",
    "        FileSystemChange.Changed (\"file2.txt\", Some \"a2\")\n",
    "\n",
    "        FileSystemChange.Changed (\"file1.txt\", Some \"b1\")\n",
    "        FileSystemChange.Changed (\"file2.txt\", Some \"b2\")\n",
    "\n",
    "        FileSystemChange.Renamed (\"file1.txt\", (\"file_1.txt\", Some \"b1\"))\n",
    "        FileSystemChange.Renamed (\"file2.txt\", (\"file_2.txt\", Some \"b2\"))\n",
    "\n",
    "        FileSystemChange.Changed (\"file_1.txt\", Some \"c1\")\n",
    "        FileSystemChange.Changed (\"file_2.txt\", Some \"c2\")\n",
    "\n",
    "        FileSystemChange.Deleted \"file_1.txt\"\n",
    "        FileSystemChange.Deleted \"file_2.txt\"\n",
    "    ]\n",
    "\n",
    "run\n",
    "|> retryFn 3\n",
    "|> _assertEqual (Some ())"
   ]
  },
  {
   "cell_type": "markdown",
   "metadata": {},
   "source": [
    "#### slow (test)"
   ]
  },
  {
   "cell_type": "code",
   "execution_count": null,
   "metadata": {
    "dotnet_interactive": {
     "language": "fsharp"
    },
    "polyglot_notebook": {
     "kernelName": "fsharp"
    }
   },
   "outputs": [
    {
     "name": "stdout",
     "output_type": "stream",
     "text": [
      "FSharpOption<Unit>\n",
      "      Value: <null>\n",
      "00:00:23 #49 [Debug] watchWithFilter / Disposing watch stream / filter: FileName, LastWrite\n",
      "00:00:25 #50 [Debug] testEventsRaw / eventsLog: \n",
      "0 / 638469834121243787 / Created  (\"file1.txt\",   Some     \"1111111111111111111111111111111111111\n",
      "2579 / 638469834121246366 / Changed  (\"file1.txt\",   Some     \"1111111111111111111111111111111111\n",
      "276 / 638469834121246642 / Changed  (\"file1.txt\",   Some     \"11111111111111111111111111111111111\n",
      "4554 / 638469834121251196 / Changed  (\"file1.txt\",   Some     \"1111111111111111111111111111111111\n",
      "116 / 638469834121251312 / Changed  (\"file1.txt\",   Some     \"11111111111111111111111111111111111\n",
      "380 / 638469834121251692 / Changed  (\"file1.txt\",   Some     \"11111111111111111111111111111111111\n",
      "90 / 638469834121251782 / Changed  (\"file1.txt\",   Some     \"111111111111111111111111111111111111\n",
      "254 / 638469834121252036 / Changed  (\"file1.txt\",   Some     \"11111111111111111111111111111111111\n",
      "77 / 638469834121252113 / Changed  (\"file1.txt\",   Some     \"111111111111111111111111111111111111\n",
      "107 / 638469834121252220 / Changed  (\"file1.txt\",   Some     \"11111111111111111111111111111111111\n",
      "214 / 638469834121252434 / Changed  (\"file1.txt\",   Some     \"11111111111111111111111111111111111\n",
      "69 / 638469834121252503 / Changed  (\"file1.txt\",   Some     \"111111111111111111111111111111111111\n",
      "280 / 638469834121252783 / Changed  (\"file1.txt\",   Some     \"11111111111111111111111111111111111\n",
      "214 / 638469834121252997 / Changed  (\"file1.txt\",   Some     \"11111111111111111111111111111111111\n",
      "62 / 638469834121253059 / Changed  (\"file1.txt\",   Some     \"111111111111111111111111111111111111\n",
      "217 / 638469834121253276 / Changed  (\"file1.txt\",   Some     \"11111111111111111111111111111111111\n",
      "52 / 638469834121253328 / Changed  (\"file1.txt\",   Some     \"111111111111111111111111111111111111\n",
      "348 / 638469834121253676 / Changed  (\"file1.txt\",   Some     \"11111111111111111111111111111111111\n",
      "124 / 638469834121253800 / Changed  (\"file1.txt\",   Some     \"11111111111111111111111111111111111\n",
      "409 / 638469834121254209 / Changed  (\"file1.txt\",   Some     \"11111111111111111111111111111111111\n",
      "48 / 638469834121254257 / Changed  (\"file1.txt\",   Some     \"111111111111111111111111111111111111\n",
      "198 / 638469834121254455 / Changed  (\"file1.txt\",   Some     \"11111111111111111111111111111111111\n",
      "41 / 638469834121254496 / Changed  (\"file1.txt\",   Some     \"111111111111111111111111111111111111\n",
      "326 / 638469834121254822 / Changed  (\"file1.txt\",   Some     \"11111111111111111111111111111111111\n",
      "216 / 638469834121255038 / Changed  (\"file1.txt\",   Some     \"11111111111111111111111111111111111\n",
      "50 / 638469834121255088 / Changed  (\"file1.txt\",   Some     \"111111111111111111111111111111111111\n",
      "216 / 638469834121255304 / Changed  (\"file1.txt\",   Some     \"11111111111111111111111111111111111\n",
      "42 / 638469834121255346 / Changed  (\"file1.txt\",   Some     \"111111111111111111111111111111111111\n",
      "274 / 638469834121255620 / Changed  (\"file1.txt\",   Some     \"11111111111111111111111111111111111\n",
      "29 / 638469834121255649 / Changed  (\"file1.txt\",   Some     \"111111111111111111111111111111111111\n",
      "187 / 638469834121255836 / Changed  (\"file1.txt\",   Some     \"11111111111111111111111111111111111\n",
      "43 / 638469834121255879 / Changed  (\"file1.txt\",   Some     \"111111111111111111111111111111111111\n",
      "457 / 638469834121256336 / Changed  (\"file1.txt\",   Some     \"11111111111111111111111111111111111\n",
      "62 / 638469834121256398 / Changed  (\"file1.txt\",   Some     \"111111111111111111111111111111111111\n",
      "261 / 638469834121256659 / Changed  (\"file1.txt\",   Some     \"11111111111111111111111111111111111\n",
      "236 / 638469834121256895 / Changed  (\"file1.txt\",   Some     \"11111111111111111111111111111111111\n",
      "40 / 638469834121256935 / Changed  (\"file1.txt\",   Some     \"111111111111111111111111111111111111\n",
      "203 / 638469834121257138 / Changed  (\"file1.txt\",   Some     \"11111111111111111111111111111111111\n",
      "169 / 638469834121257307 / Changed  (\"file1.txt\",   Some     \"11111111111111111111111111111111111\n",
      "114 / 638469834121257421 / Changed  (\"file1.txt\",   Some     \"11111111111111111111111111111111111\n",
      "992 / 638469834121258413 / Changed  (\"file1.txt\",   Some     \"11111111111111111111111111111111111\n",
      "69 / 638469834121258482 / Changed  (\"file1.txt\",   Some     \"111111111111111111111111111111111111\n",
      "326 / 638469834121258808 / Changed  (\"file1.txt\",   Some     \"11111111111111111111111111111111111\n",
      "172 / 638469834121258980 / Changed  (\"file1.txt\",   Some     \"11111111111111111111111111111111111\n",
      "143 / 638469834121259123 / Changed  (\"file1.txt\",   Some     \"11111111111111111111111111111111111\n",
      "250 / 638469834121259373 / Changed  (\"file1.txt\",   Some     \"11111111111111111111111111111111111\n",
      "137 / 638469834121259510 / Changed  (\"file1.txt\",   Some     \"11111111111111111111111111111111111\n",
      "197 / 638469834121259707 / Changed  (\"file1.txt\",   Some     \"11111111111111111111111111111111111\n",
      "190 / 638469834121259897 / Changed  (\"file1.txt\",   Some     \"11111111111111111111111111111111111\n",
      "200 / 638469834121260097 / Changed  (\"file1.txt\",   Some     \"11111111111111111111111111111111111\n",
      "198 / 638469834121260295 / Changed  (\"file1.txt\",   Some     \"11111111111111111111111111111111111\n",
      "235 / 638469834121260530 / Changed  (\"file1.txt\",   Some     \"11111111111111111111111111111111111\n",
      "225 / 638469834121260755 / Changed  (\"file1.txt\",   Some     \"11111111111111111111111111111111111\n",
      "215 / 638469834121260970 / Changed  (\"file1.txt\",   Some     \"11111111111111111111111111111111111\n",
      "211 / 638469834121261181 / Changed  (\"file1.txt\",   Some     \"11111111111111111111111111111111111\n",
      "204 / 638469834121261385 / Changed  (\"file1.txt\",   Some     \"11111111111111111111111111111111111\n",
      "198 / 638469834121261583 / Changed  (\"file1.txt\",   Some     \"11111111111111111111111111111111111\n",
      "193 / 638469834121261776 / Changed  (\"file1.txt\",   Some     \"11111111111111111111111111111111111\n",
      "218 / 638469834121261994 / Changed  (\"file1.txt\",   Some     \"11111111111111111111111111111111111\n",
      "199 / 638469834121262193 / Changed  (\"file1.txt\",   Some     \"11111111111111111111111111111111111\n",
      "206 / 638469834121262399 / Changed  (\"file1.txt\",   Some     \"11111111111111111111111111111111111\n",
      "207 / 638469834121262606 / Changed  (\"file1.txt\",   Some     \"11111111111111111111111111111111111\n",
      "205 / 638469834121262811 / Changed  (\"file1.txt\",   Some     \"11111111111111111111111111111111111\n",
      "171 / 638469834121262982 / Changed  (\"file1.txt\",   Some     \"11111111111111111111111111111111111\n",
      "9298 / 638469834121272280 / Created  (\"file2.txt\",   Some     \"2222222222222222222222222222222222\n",
      "470 / 638469834121272750 / Changed  (\"file2.txt\",   Some     \"22222222222222222222222222222222222\n",
      "84 / 638469834121272834 / Changed  (\"file2.txt\",   Some     \"222222222222222222222222222222222222\n",
      "522 / 638469834121273356 / Changed  (\"file2.txt\",   Some     \"22222222222222222222222222222222222\n",
      "65 / 638469834121273421 / Changed  (\"file2.txt\",   Some     \"222222222222222222222222222222222222\n",
      "806 / 638469834121274227 / Changed  (\"file2.txt\",   Some     \"22222222222222222222222222222222222\n",
      "84 / 638469834121274311 / Changed  (\"file2.txt\",   Some     \"222222222222222222222222222222222222\n",
      "38 / 638469834121274349 / Changed  (\"file2.txt\",   Some     \"222222222222222222222222222222222222\n",
      "232 / 638469834121274581 / Changed  (\"file2.txt\",   Some     \"22222222222222222222222222222222222\n",
      "27584 / 638469834121302165 / Changed  (\"file2.txt\",   Some     \"222222222222222222222222222222222\n",
      "6747 / 638469834121308912 / Changed  (\"file2.txt\",   Some     \"2222222222222222222222222222222222\n",
      "181 / 638469834121309093 / Changed  (\"file2.txt\",   Some     \"22222222222222222222222222222222222\n",
      "297 / 638469834121309390 / Changed  (\"file2.txt\",   Some     \"22222222222222222222222222222222222\n",
      "125 / 638469834121309515 / Changed  (\"file2.txt\",   Some     \"22222222222222222222222222222222222\n",
      "378 / 638469834121309893 / Changed  (\"file2.txt\",   Some     \"22222222222222222222222222222222222\n",
      "51 / 638469834121309944 / Changed  (\"file2.txt\",   Some     \"222222222222222222222222222222222222\n",
      "291 / 638469834121310235 / Changed  (\"file2.txt\",   Some     \"22222222222222222222222222222222222\n",
      "271 / 638469834121310506 / Changed  (\"file2.txt\",   Some     \"22222222222222222222222222222222222\n",
      "163 / 638469834121310669 / Changed  (\"file2.txt\",   Some     \"22222222222222222222222222222222222\n",
      "194 / 638469834121310863 / Changed  (\"file2.txt\",   Some     \"22222222222222222222222222222222222\n",
      "196 / 638469834121311059 / Changed  (\"file2.txt\",   Some     \"22222222222222222222222222222222222\n",
      "182 / 638469834121311241 / Changed  (\"file2.txt\",   Some     \"22222222222222222222222222222222222\n",
      "191 / 638469834121311432 / Changed  (\"file2.txt\",   Some     \"22222222222222222222222222222222222\n",
      "208 / 638469834121311640 / Changed  (\"file2.txt\",   Some     \"22222222222222222222222222222222222\n",
      "235 / 638469834121311875 / Changed  (\"file2.txt\",   Some     \"22222222222222222222222222222222222\n",
      "45 / 638469834121311920 / Changed  (\"file2.txt\",   Some     \"222222222222222222222222222222222222\n",
      "281 / 638469834121312201 / Changed  (\"file2.txt\",   Some     \"22222222222222222222222222222222222\n",
      "52 / 638469834121312253 / Changed  (\"file2.txt\",   Some     \"222222222222222222222222222222222222\n",
      "290 / 638469834121312543 / Changed  (\"file2.txt\",   Some     \"22222222222222222222222222222222222\n",
      "34 / 638469834121312577 / Changed  (\"file2.txt\",   Some     \"222222222222222222222222222222222222\n",
      "239 / 638469834121312816 / Changed  (\"file2.txt\",   Some     \"22222222222222222222222222222222222\n",
      "196 / 638469834121313012 / Changed  (\"file2.txt\",   Some     \"22222222222222222222222222222222222\n",
      "188 / 638469834121313200 / Changed  (\"file2.txt\",   Some     \"22222222222222222222222222222222222\n",
      "193 / 638469834121313393 / Changed  (\"file2.txt\",   Some     \"22222222222222222222222222222222222\n",
      "141 / 638469834121313534 / Changed  (\"file2.txt\",   Some     \"22222222222222222222222222222222222\n",
      "247 / 638469834121313781 / Changed  (\"file2.txt\",   Some     \"22222222222222222222222222222222222\n",
      "161 / 638469834121313942 / Changed  (\"file2.txt\",   Some     \"22222222222222222222222222222222222\n",
      "183 / 638469834121314125 / Changed  (\"file2.txt\",   Some     \"22222222222222222222222222222222222\n",
      "103 / 638469834121314228 / Changed  (\"file2.txt\",   Some     \"22222222222222222222222222222222222\n",
      "236 / 638469834121314464 / Changed  (\"file2.txt\",   Some     \"22222222222222222222222222222222222\n",
      "44 / 638469834121314508 / Changed  (\"file2.txt\",   Some     \"222222222222222222222222222222222222\n",
      "231 / 638469834121314739 / Changed  (\"file2.txt\",   Some     \"22222222222222222222222222222222222\n",
      "286 / 638469834121315025 / Changed  (\"file2.txt\",   Some     \"22222222222222222222222222222222222\n",
      "227 / 638469834121315252 / Changed  (\"file2.txt\",   Some     \"22222222222222222222222222222222222\n",
      "208 / 638469834121315460 / Changed  (\"file2.txt\",   Some     \"22222222222222222222222222222222222\n",
      "173 / 638469834121315633 / Changed  (\"file2.txt\",   Some     \"22222222222222222222222222222222222\n",
      "176 / 638469834121315809 / Changed  (\"file2.txt\",   Some     \"22222222222222222222222222222222222\n",
      "173 / 638469834121315982 / Changed  (\"file2.txt\",   Some     \"22222222222222222222222222222222222\n",
      "162 / 638469834121316144 / Changed  (\"file2.txt\",   Some     \"22222222222222222222222222222222222\n",
      "198 / 638469834121316342 / Changed  (\"file2.txt\",   Some     \"22222222222222222222222222222222222\n",
      "175 / 638469834121316517 / Changed  (\"file2.txt\",   Some     \"22222222222222222222222222222222222\n",
      "189 / 638469834121316706 / Changed  (\"file2.txt\",   Some     \"22222222222222222222222222222222222\n",
      "209 / 638469834121316915 / Changed  (\"file2.txt\",   Some     \"22222222222222222222222222222222222\n",
      "205 / 638469834121317120 / Changed  (\"file2.txt\",   Some     \"22222222222222222222222222222222222\n",
      "43 / 638469834121317163 / Changed  (\"file2.txt\",   Some     \"222222222222222222222222222222222222\n",
      "232 / 638469834121317395 / Changed  (\"file2.txt\",   Some     \"22222222222222222222222222222222222\n",
      "132 / 638469834121317527 / Changed  (\"file2.txt\",   Some     \"22222222222222222222222222222222222\n",
      "215 / 638469834121317742 / Changed  (\"file2.txt\",   Some     \"22222222222222222222222222222222222\n",
      "293 / 638469834121318035 / Changed  (\"file2.txt\",   Some     \"22222222222222222222222222222222222\n",
      "236 / 638469834121318271 / Changed  (\"file2.txt\",   Some     \"22222222222222222222222222222222222\n",
      "367 / 638469834121318638 / Changed  (\"file2.txt\",   Some     \"22222222222222222222222222222222222\n",
      "241 / 638469834121318879 / Changed  (\"file2.txt\",   Some     \"22222222222222222222222222222222222\n",
      "244 / 638469834121319123 / Changed  (\"file2.txt\",   Some     \"22222222222222222222222222222222222\n",
      "208 / 638469834121319331 / Changed  (\"file2.txt\",   Some     \"22222222222222222222222222222222222\n",
      "228 / 638469834121319559 / Changed  (\"file2.txt\",   Some     \"22222222222222222222222222222222222\n",
      "245 / 638469834121319804 / Changed  (\"file2.txt\",   Some     \"22222222222222222222222222222222222\n",
      "204 / 638469834121320008 / Changed  (\"file2.txt\",   Some     \"22222222222222222222222222222222222\n",
      "206 / 638469834121320214 / Changed  (\"file2.txt\",   Some     \"22222222222222222222222222222222222\n",
      "9057 / 638469834121329271 / Changed  (\"file2.txt\",   Some     \"2222222222222222222222222222222222\n",
      "15027717 / 638469834136356988 / Changed  (\"file1.txt\",   Some     \"111111111111111111111111111111\n",
      "674 / 638469834136357662 / Changed  (\"file1.txt\",   Some     \"11111111111111111111111111111111111\n",
      "1243 / 638469834136358905 / Changed  (\"file1.txt\",   Some     \"1111111111111111111111111111111111\n",
      "521 / 638469834136359426 / Changed  (\"file1.txt\",   Some     \"11111111111111111111111111111111111\n",
      "81 / 638469834136359507 / Changed  (\"file1.txt\",   Some     \"111111111111111111111111111111111111\n",
      "289 / 638469834136359796 / Changed  (\"file1.txt\",   Some     \"11111111111111111111111111111111111\n",
      "192 / 638469834136359988 / Changed  (\"file1.txt\",   Some     \"11111111111111111111111111111111111\n",
      "260 / 638469834136360248 / Changed  (\"file1.txt\",   Some     \"11111111111111111111111111111111111\n",
      "203 / 638469834136360451 / Changed  (\"file1.txt\",   Some     \"11111111111111111111111111111111111\n",
      "262 / 638469834136360713 / Changed  (\"file1.txt\",   Some     \"11111111111111111111111111111111111\n",
      "235 / 638469834136360948 / Changed  (\"file1.txt\",   Some     \"11111111111111111111111111111111111\n",
      "210 / 638469834136361158 / Changed  (\"file1.txt\",   Some     \"11111111111111111111111111111111111\n",
      "229 / 638469834136361387 / Changed  (\"file1.txt\",   Some     \"11111111111111111111111111111111111\n",
      "498 / 638469834136361885 / Changed  (\"file1.txt\",   Some     \"11111111111111111111111111111111111\n",
      "195 / 638469834136362080 / Changed  (\"file1.txt\",   Some     \"11111111111111111111111111111111111\n",
      "332 / 638469834136362412 / Changed  (\"file1.txt\",   Some     \"11111111111111111111111111111111111\n",
      "349 / 638469834136362761 / Changed  (\"file1.txt\",   Some     \"11111111111111111111111111111111111\n",
      "47 / 638469834136362808 / Changed  (\"file1.txt\",   Some     \"111111111111111111111111111111111111\n",
      "191 / 638469834136362999 / Changed  (\"file1.txt\",   Some     \"11111111111111111111111111111111111\n",
      "156 / 638469834136363155 / Changed  (\"file1.txt\",   Some     \"11111111111111111111111111111111111\n",
      "148 / 638469834136363303 / Changed  (\"file1.txt\",   Some     \"11111111111111111111111111111111111\n",
      "147 / 638469834136363450 / Changed  (\"file1.txt\",   Some     \"11111111111111111111111111111111111\n",
      "180 / 638469834136363630 / Changed  (\"file1.txt\",   Some     \"11111111111111111111111111111111111\n",
      "229 / 638469834136363859 / Changed  (\"file1.txt\",   Some     \"11111111111111111111111111111111111\n",
      "220 / 638469834136364079 / Changed  (\"file1.txt\",   Some     \"11111111111111111111111111111111111\n",
      "164 / 638469834136364243 / Changed  (\"file1.txt\",   Some     \"11111111111111111111111111111111111\n",
      "250 / 638469834136364493 / Changed  (\"file1.txt\",   Some     \"11111111111111111111111111111111111\n",
      "234 / 638469834136364727 / Changed  (\"file1.txt\",   Some     \"11111111111111111111111111111111111\n",
      "116 / 638469834136364843 / Changed  (\"file1.txt\",   Some     \"11111111111111111111111111111111111\n",
      "552 / 638469834136365395 / Changed  (\"file1.txt\",   Some     \"11111111111111111111111111111111111\n",
      "174 / 638469834136365569 / Changed  (\"file1.txt\",   Some     \"11111111111111111111111111111111111\n",
      "260 / 638469834136365829 / Changed  (\"file1.txt\",   Some     \"11111111111111111111111111111111111\n",
      "176 / 638469834136366005 / Changed  (\"file1.txt\",   Some     \"11111111111111111111111111111111111\n",
      "172 / 638469834136366177 / Changed  (\"file1.txt\",   Some     \"11111111111111111111111111111111111\n",
      "188 / 638469834136366365 / Changed  (\"file1.txt\",   Some     \"11111111111111111111111111111111111\n",
      "155 / 638469834136366520 / Changed  (\"file1.txt\",   Some     \"11111111111111111111111111111111111\n",
      "147 / 638469834136366667 / Changed  (\"file1.txt\",   Some     \"11111111111111111111111111111111111\n",
      "188 / 638469834136366855 / Changed  (\"file1.txt\",   Some     \"11111111111111111111111111111111111\n",
      "195 / 638469834136367050 / Changed  (\"file1.txt\",   Some     \"11111111111111111111111111111111111\n",
      "188 / 638469834136367238 / Changed  (\"file1.txt\",   Some     \"11111111111111111111111111111111111\n",
      "155 / 638469834136367393 / Changed  (\"file1.txt\",   Some     \"11111111111111111111111111111111111\n",
      "180 / 638469834136367573 / Changed  (\"file1.txt\",   Some     \"11111111111111111111111111111111111\n",
      "165 / 638469834136367738 / Changed  (\"file1.txt\",   Some     \"11111111111111111111111111111111111\n",
      "186 / 638469834136367924 / Changed  (\"file1.txt\",   Some     \"11111111111111111111111111111111111\n",
      "190 / 638469834136368114 / Changed  (\"file1.txt\",   Some     \"11111111111111111111111111111111111\n",
      "142 / 638469834136368256 / Changed  (\"file1.txt\",   Some     \"11111111111111111111111111111111111\n",
      "182 / 638469834136368438 / Changed  (\"file1.txt\",   Some     \"11111111111111111111111111111111111\n",
      "206 / 638469834136368644 / Changed  (\"file1.txt\",   Some     \"11111111111111111111111111111111111\n",
      "172 / 638469834136368816 / Changed  (\"file1.txt\",   Some     \"11111111111111111111111111111111111\n",
      "212 / 638469834136369028 / Changed  (\"file1.txt\",   Some     \"11111111111111111111111111111111111\n",
      "267 / 638469834136369295 / Changed  (\"file1.txt\",   Some     \"11111111111111111111111111111111111\n",
      "194 / 638469834136369489 / Changed  (\"file1.txt\",   Some     \"11111111111111111111111111111111111\n",
      "156 / 638469834136369645 / Changed  (\"file1.txt\",   Some     \"11111111111111111111111111111111111\n",
      "95 / 638469834136369740 / Changed  (\"file1.txt\",   Some     \"111111111111111111111111111111111111\n",
      "232 / 638469834136369972 / Changed  (\"file1.txt\",   Some     \"11111111111111111111111111111111111\n",
      "273 / 638469834136370245 / Changed  (\"file1.txt\",   Some     \"11111111111111111111111111111111111\n",
      "232 / 638469834136370477 / Changed  (\"file1.txt\",   Some     \"11111111111111111111111111111111111\n",
      "192 / 638469834136370669 / Changed  (\"file1.txt\",   Some     \"11111111111111111111111111111111111\n",
      "192 / 638469834136370861 / Changed  (\"file1.txt\",   Some     \"11111111111111111111111111111111111\n",
      "138 / 638469834136370999 / Changed  (\"file1.txt\",   Some     \"11111111111111111111111111111111111\n",
      "181 / 638469834136371180 / Changed  (\"file1.txt\",   Some     \"11111111111111111111111111111111111\n",
      "240 / 638469834136371420 / Changed  (\"file1.txt\",   Some     \"11111111111111111111111111111111111\n",
      "215 / 638469834136371635 / Changed  (\"file1.txt\",   Some     \"11111111111111111111111111111111111\n",
      "200 / 638469834136371835 / Changed  (\"file1.txt\",   Some     \"11111111111111111111111111111111111\n",
      "256 / 638469834136372091 / Changed  (\"file1.txt\",   Some     \"11111111111111111111111111111111111\n",
      "164 / 638469834136372255 / Changed  (\"file1.txt\",   Some     \"11111111111111111111111111111111111\n",
      "159 / 638469834136372414 / Changed  (\"file1.txt\",   Some     \"11111111111111111111111111111111111\n",
      "209 / 638469834136372623 / Changed  (\"file1.txt\",   Some     \"11111111111111111111111111111111111\n",
      "195 / 638469834136372818 / Changed  (\"file1.txt\",   Some     \"11111111111111111111111111111111111\n",
      "166 / 638469834136372984 / Changed  (\"file1.txt\",   Some     \"11111111111111111111111111111111111\n",
      "141 / 638469834136373125 / Changed  (\"file1.txt\",   Some     \"11111111111111111111111111111111111\n",
      "149 / 638469834136373274 / Changed  (\"file1.txt\",   Some     \"11111111111111111111111111111111111\n",
      "146 / 638469834136373420 / Changed  (\"file1.txt\",   Some     \"11111111111111111111111111111111111\n",
      "182 / 638469834136373602 / Changed  (\"file1.txt\",   Some     \"11111111111111111111111111111111111\n",
      "180 / 638469834136373782 / Changed  (\"file1.txt\",   Some     \"11111111111111111111111111111111111\n",
      "152 / 638469834136373934 / Changed  (\"file1.txt\",   Some     \"11111111111111111111111111111111111\n",
      "97 / 638469834136374031 / Changed  (\"file1.txt\",   Some     \"111111111111111111111111111111111111\n",
      "205 / 638469834136374236 / Changed  (\"file1.txt\",   Some     \"11111111111111111111111111111111111\n",
      "145 / 638469834136374381 / Changed  (\"file1.txt\",   Some     \"11111111111111111111111111111111111\n",
      "288 / 638469834136374669 / Changed  (\"file1.txt\",   Some     \"11111111111111111111111111111111111\n",
      "212 / 638469834136374881 / Changed  (\"file1.txt\",   Some     \"11111111111111111111111111111111111\n",
      "232 / 638469834136375113 / Changed  (\"file1.txt\",   Some     \"11111111111111111111111111111111111\n",
      "105 / 638469834136375218 / Changed  (\"file1.txt\",   Some     \"11111111111111111111111111111111111\n",
      "196 / 638469834136375414 / Changed  (\"file1.txt\",   Some     \"11111111111111111111111111111111111\n",
      "174 / 638469834136375588 / Changed  (\"file1.txt\",   Some     \"11111111111111111111111111111111111\n",
      "217 / 638469834136375805 / Changed  (\"file1.txt\",   Some     \"11111111111111111111111111111111111\n",
      "184 / 638469834136375989 / Changed  (\"file1.txt\",   Some     \"11111111111111111111111111111111111\n",
      "99 / 638469834136376088 / Changed  (\"file1.txt\",   Some     \"111111111111111111111111111111111111\n",
      "398 / 638469834136376486 / Changed  (\"file1.txt\",   Some     \"11111111111111111111111111111111111\n",
      "283 / 638469834136376769 / Changed  (\"file1.txt\",   Some     \"11111111111111111111111111111111111\n",
      "208 / 638469834136376977 / Changed  (\"file1.txt\",   Some     \"11111111111111111111111111111111111\n",
      "203 / 638469834136377180 / Changed  (\"file1.txt\",   Some     \"11111111111111111111111111111111111\n",
      "240 / 638469834136377420 / Changed  (\"file1.txt\",   Some     \"11111111111111111111111111111111111\n",
      "203 / 638469834136377623 / Changed  (\"file1.txt\",   Some     \"11111111111111111111111111111111111\n",
      "195 / 638469834136377818 / Changed  (\"file1.txt\",   Some     \"11111111111111111111111111111111111\n",
      "158 / 638469834136377976 / Changed  (\"file1.txt\",   Some     \"11111111111111111111111111111111111\n",
      "110 / 638469834136378086 / Changed  (\"file1.txt\",   Some     \"11111111111111111111111111111111111\n",
      "189 / 638469834136378275 / Changed  (\"file1.txt\",   Some     \"11111111111111111111111111111111111\n",
      "164 / 638469834136378439 / Changed  (\"file1.txt\",   Some     \"11111111111111111111111111111111111\n",
      "185 / 638469834136378624 / Changed  (\"file1.txt\",   Some     \"11111111111111111111111111111111111\n",
      "191 / 638469834136378815 / Changed  (\"file1.txt\",   Some     \"11111111111111111111111111111111111\n",
      "40 / 638469834136378855 / Changed  (\"file1.txt\",   Some     \"111111111111111111111111111111111111\n",
      "258 / 638469834136379113 / Changed  (\"file1.txt\",   Some     \"11111111111111111111111111111111111\n",
      "241 / 638469834136379354 / Changed  (\"file1.txt\",   Some     \"11111111111111111111111111111111111\n",
      "207 / 638469834136379561 / Changed  (\"file1.txt\",   Some     \"11111111111111111111111111111111111\n",
      "193 / 638469834136379754 / Changed  (\"file1.txt\",   Some     \"11111111111111111111111111111111111\n",
      "227 / 638469834136379981 / Changed  (\"file1.txt\",   Some     \"11111111111111111111111111111111111\n",
      "217 / 638469834136380198 / Changed  (\"file1.txt\",   Some     \"11111111111111111111111111111111111\n",
      "154 / 638469834136380352 / Changed  (\"file1.txt\",   Some     \"11111111111111111111111111111111111\n",
      "183 / 638469834136380535 / Changed  (\"file1.txt\",   Some     \"11111111111111111111111111111111111\n",
      "212 / 638469834136380747 / Changed  (\"file1.txt\",   Some     \"11111111111111111111111111111111111\n",
      "190 / 638469834136380937 / Changed  (\"file1.txt\",   Some     \"11111111111111111111111111111111111\n",
      "195 / 638469834136381132 / Changed  (\"file1.txt\",   Some     \"11111111111111111111111111111111111\n",
      "107 / 638469834136381239 / Changed  (\"file1.txt\",   Some     \"11111111111111111111111111111111111\n",
      "219 / 638469834136381458 / Changed  (\"file1.txt\",   Some     \"11111111111111111111111111111111111\n",
      "220 / 638469834136381678 / Changed  (\"file1.txt\",   Some     \"11111111111111111111111111111111111\n",
      "168 / 638469834136381846 / Changed  (\"file1.txt\",   Some     \"11111111111111111111111111111111111\n",
      "184 / 638469834136382030 / Changed  (\"file1.txt\",   Some     \"11111111111111111111111111111111111\n",
      "145 / 638469834136382175 / Changed  (\"file1.txt\",   Some     \"11111111111111111111111111111111111\n",
      "256 / 638469834136382431 / Changed  (\"file1.txt\",   Some     \"11111111111111111111111111111111111\n",
      "227 / 638469834136382658 / Changed  (\"file1.txt\",   Some     \"11111111111111111111111111111111111\n",
      "41 / 638469834136382699 / Changed  (\"file1.txt\",   Some     \"111111111111111111111111111111111111\n",
      "45790 / 638469834136428489 / Changed  (\"file2.txt\",   Some     \"222222222222222222222222222222222\n",
      "129 / 638469834136428618 / Changed  (\"file2.txt\",   Some     \"22222222222222222222222222222222222\n",
      "427 / 638469834136429045 / Changed  (\"file2.txt\",   Some     \"22222222222222222222222222222222222\n",
      "51 / 638469834136429096 / Changed  (\"file2.txt\",   Some     \"222222222222222222222222222222222222\n",
      "247 / 638469834136429343 / Changed  (\"file2.txt\",   Some     \"22222222222222222222222222222222222\n",
      "216 / 638469834136429559 / Changed  (\"file2.txt\",   Some     \"22222222222222222222222222222222222\n",
      "42 / 638469834136429601 / Changed  (\"file2.txt\",   Some     \"222222222222222222222222222222222222\n",
      "226 / 638469834136429827 / Changed  (\"file2.txt\",   Some     \"22222222222222222222222222222222222\n",
      "165 / 638469834136429992 / Changed  (\"file2.txt\",   Some     \"22222222222222222222222222222222222\n",
      "207 / 638469834136430199 / Changed  (\"file2.txt\",   Some     \"22222222222222222222222222222222222\n",
      "191 / 638469834136430390 / Changed  (\"file2.txt\",   Some     \"22222222222222222222222222222222222\n",
      "155 / 638469834136430545 / Changed  (\"file2.txt\",   Some     \"22222222222222222222222222222222222\n",
      "198 / 638469834136430743 / Changed  (\"file2.txt\",   Some     \"22222222222222222222222222222222222\n",
      "194 / 638469834136430937 / Changed  (\"file2.txt\",   Some     \"22222222222222222222222222222222222\n",
      "106 / 638469834136431043 / Changed  (\"file2.txt\",   Some     \"22222222222222222222222222222222222\n",
      "224 / 638469834136431267 / Changed  (\"file2.txt\",   Some     \"22222222222222222222222222222222222\n",
      "183 / 638469834136431450 / Changed  (\"file2.txt\",   Some     \"22222222222222222222222222222222222\n",
      "198 / 638469834136431648 / Changed  (\"file2.txt\",   Some     \"22222222222222222222222222222222222\n",
      "195 / 638469834136431843 / Changed  (\"file2.txt\",   Some     \"22222222222222222222222222222222222\n",
      "158 / 638469834136432001 / Changed  (\"file2.txt\",   Some     \"22222222222222222222222222222222222\n",
      "194 / 638469834136432195 / Changed  (\"file2.txt\",   Some     \"22222222222222222222222222222222222\n",
      "190 / 638469834136432385 / Changed  (\"file2.txt\",   Some     \"22222222222222222222222222222222222\n",
      "101 / 638469834136432486 / Changed  (\"file2.txt\",   Some     \"22222222222222222222222222222222222\n",
      "207 / 638469834136432693 / Changed  (\"file2.txt\",   Some     \"22222222222222222222222222222222222\n",
      "280 / 638469834136432973 / Changed  (\"file2.txt\",   Some     \"22222222222222222222222222222222222\n",
      "193 / 638469834136433166 / Changed  (\"file2.txt\",   Some     \"22222222222222222222222222222222222\n",
      "161 / 638469834136433327 / Changed  (\"file2.txt\",   Some     \"22222222222222222222222222222222222\n",
      "279 / 638469834136433606 / Changed  (\"file2.txt\",   Some     \"22222222222222222222222222222222222\n",
      "183 / 638469834136433789 / Changed  (\"file2.txt\",   Some     \"22222222222222222222222222222222222\n",
      "194 / 638469834136433983 / Changed  (\"file2.txt\",   Some     \"22222222222222222222222222222222222\n",
      "115 / 638469834136434098 / Changed  (\"file2.txt\",   Some     \"22222222222222222222222222222222222\n",
      "228 / 638469834136434326 / Changed  (\"file2.txt\",   Some     \"22222222222222222222222222222222222\n",
      "166 / 638469834136434492 / Changed  (\"file2.txt\",   Some     \"22222222222222222222222222222222222\n",
      "199 / 638469834136434691 / Changed  (\"file2.txt\",   Some     \"22222222222222222222222222222222222\n",
      "206 / 638469834136434897 / Changed  (\"file2.txt\",   Some     \"22222222222222222222222222222222222\n",
      "272 / 638469834136435169 / Changed  (\"file2.txt\",   Some     \"22222222222222222222222222222222222\n",
      "47 / 638469834136435216 / Changed  (\"file2.txt\",   Some     \"222222222222222222222222222222222222\n",
      "190 / 638469834136435406 / Changed  (\"file2.txt\",   Some     \"22222222222222222222222222222222222\n",
      "179 / 638469834136435585 / Changed  (\"file2.txt\",   Some     \"22222222222222222222222222222222222\n",
      "193 / 638469834136435778 / Changed  (\"file2.txt\",   Some     \"22222222222222222222222222222222222\n",
      "195 / 638469834136435973 / Changed  (\"file2.txt\",   Some     \"22222222222222222222222222222222222\n",
      "193 / 638469834136436166 / Changed  (\"file2.txt\",   Some     \"22222222222222222222222222222222222\n",
      "155 / 638469834136436321 / Changed  (\"file2.txt\",   Some     \"22222222222222222222222222222222222\n",
      "212 / 638469834136436533 / Changed  (\"file2.txt\",   Some     \"22222222222222222222222222222222222\n",
      "161 / 638469834136436694 / Changed  (\"file2.txt\",   Some     \"22222222222222222222222222222222222\n",
      "208 / 638469834136436902 / Changed  (\"file2.txt\",   Some     \"22222222222222222222222222222222222\n",
      "204 / 638469834136437106 / Changed  (\"file2.txt\",   Some     \"22222222222222222222222222222222222\n",
      "194 / 638469834136437300 / Changed  (\"file2.txt\",   Some     \"22222222222222222222222222222222222\n",
      "195 / 638469834136437495 / Changed  (\"file2.txt\",   Some     \"22222222222222222222222222222222222\n",
      "163 / 638469834136437658 / Changed  (\"file2.txt\",   Some     \"22222222222222222222222222222222222\n",
      "195 / 638469834136437853 / Changed  (\"file2.txt\",   Some     \"22222222222222222222222222222222222\n",
      "164 / 638469834136438017 / Changed  (\"file2.txt\",   Some     \"22222222222222222222222222222222222\n",
      "192 / 638469834136438209 / Changed  (\"file2.txt\",   Some     \"22222222222222222222222222222222222\n",
      "160 / 638469834136438369 / Changed  (\"file2.txt\",   Some     \"22222222222222222222222222222222222\n",
      "204 / 638469834136438573 / Changed  (\"file2.txt\",   Some     \"22222222222222222222222222222222222\n",
      "195 / 638469834136438768 / Changed  (\"file2.txt\",   Some     \"22222222222222222222222222222222222\n",
      "185 / 638469834136438953 / Changed  (\"file2.txt\",   Some     \"22222222222222222222222222222222222\n",
      "205 / 638469834136439158 / Changed  (\"file2.txt\",   Some     \"22222222222222222222222222222222222\n",
      "161 / 638469834136439319 / Changed  (\"file2.txt\",   Some     \"22222222222222222222222222222222222\n",
      "194 / 638469834136439513 / Changed  (\"file2.txt\",   Some     \"22222222222222222222222222222222222\n",
      "187 / 638469834136439700 / Changed  (\"file2.txt\",   Some     \"22222222222222222222222222222222222\n",
      "212 / 638469834136439912 / Changed  (\"file2.txt\",   Some     \"22222222222222222222222222222222222\n",
      "184 / 638469834136440096 / Changed  (\"file2.txt\",   Some     \"22222222222222222222222222222222222\n",
      "165 / 638469834136440261 / Changed  (\"file2.txt\",   Some     \"22222222222222222222222222222222222\n",
      "196 / 638469834136440457 / Changed  (\"file2.txt\",   Some     \"22222222222222222222222222222222222\n",
      "192 / 638469834136440649 / Changed  (\"file2.txt\",   Some     \"22222222222222222222222222222222222\n",
      "191 / 638469834136440840 / Changed  (\"file2.txt\",   Some     \"22222222222222222222222222222222222\n",
      "189 / 638469834136441029 / Changed  (\"file2.txt\",   Some     \"22222222222222222222222222222222222\n",
      "192 / 638469834136441221 / Changed  (\"file2.txt\",   Some     \"22222222222222222222222222222222222\n",
      "211 / 638469834136441432 / Changed  (\"file2.txt\",   Some     \"22222222222222222222222222222222222\n",
      "199 / 638469834136441631 / Changed  (\"file2.txt\",   Some     \"22222222222222222222222222222222222\n",
      "163 / 638469834136441794 / Changed  (\"file2.txt\",   Some     \"22222222222222222222222222222222222\n",
      "189 / 638469834136441983 / Changed  (\"file2.txt\",   Some     \"22222222222222222222222222222222222\n",
      "196 / 638469834136442179 / Changed  (\"file2.txt\",   Some     \"22222222222222222222222222222222222\n",
      "190 / 638469834136442369 / Changed  (\"file2.txt\",   Some     \"22222222222222222222222222222222222\n",
      "210 / 638469834136442579 / Changed  (\"file2.txt\",   Some     \"22222222222222222222222222222222222\n",
      "215 / 638469834136442794 / Changed  (\"file2.txt\",   Some     \"22222222222222222222222222222222222\n",
      "212 / 638469834136443006 / Changed  (\"file2.txt\",   Some     \"22222222222222222222222222222222222\n",
      "163 / 638469834136443169 / Changed  (\"file2.txt\",   Some     \"22222222222222222222222222222222222\n",
      "193 / 638469834136443362 / Changed  (\"file2.txt\",   Some     \"22222222222222222222222222222222222\n",
      "192 / 638469834136443554 / Changed  (\"file2.txt\",   Some     \"22222222222222222222222222222222222\n",
      "157 / 638469834136443711 / Changed  (\"file2.txt\",   Some     \"22222222222222222222222222222222222\n",
      "195 / 638469834136443906 / Changed  (\"file2.txt\",   Some     \"22222222222222222222222222222222222\n",
      "197 / 638469834136444103 / Changed  (\"file2.txt\",   Some     \"22222222222222222222222222222222222\n",
      "202 / 638469834136444305 / Changed  (\"file2.txt\",   Some     \"22222222222222222222222222222222222\n",
      "186 / 638469834136444491 / Changed  (\"file2.txt\",   Some     \"22222222222222222222222222222222222\n",
      "187 / 638469834136444678 / Changed  (\"file2.txt\",   Some     \"22222222222222222222222222222222222\n",
      "156 / 638469834136444834 / Changed  (\"file2.txt\",   Some     \"22222222222222222222222222222222222\n",
      "203 / 638469834136445037 / Changed  (\"file2.txt\",   Some     \"22222222222222222222222222222222222\n",
      "186 / 638469834136445223 / Changed  (\"file2.txt\",   Some     \"22222222222222222222222222222222222\n",
      "105 / 638469834136445328 / Changed  (\"file2.txt\",   Some     \"22222222222222222222222222222222222\n",
      "231 / 638469834136445559 / Changed  (\"file2.txt\",   Some     \"22222222222222222222222222222222222\n",
      "201 / 638469834136445760 / Changed  (\"file2.txt\",   Some     \"22222222222222222222222222222222222\n",
      "357 / 638469834136446117 / Changed  (\"file2.txt\",   Some     \"22222222222222222222222222222222222\n",
      "165 / 638469834136446282 / Changed  (\"file2.txt\",   Some     \"22222222222222222222222222222222222\n",
      "209 / 638469834136446491 / Changed  (\"file2.txt\",   Some     \"22222222222222222222222222222222222\n",
      "121 / 638469834136446612 / Changed  (\"file2.txt\",   Some     \"22222222222222222222222222222222222\n",
      "210 / 638469834136446822 / Changed  (\"file2.txt\",   Some     \"22222222222222222222222222222222222\n",
      "209 / 638469834136447031 / Changed  (\"file2.txt\",   Some     \"22222222222222222222222222222222222\n",
      "185 / 638469834136447216 / Changed  (\"file2.txt\",   Some     \"22222222222222222222222222222222222\n",
      "183 / 638469834136447399 / Changed  (\"file2.txt\",   Some     \"22222222222222222222222222222222222\n",
      "191 / 638469834136447590 / Changed  (\"file2.txt\",   Some     \"22222222222222222222222222222222222\n",
      "193 / 638469834136447783 / Changed  (\"file2.txt\",   Some     \"22222222222222222222222222222222222\n",
      "153 / 638469834136447936 / Changed  (\"file2.txt\",   Some     \"22222222222222222222222222222222222\n",
      "203 / 638469834136448139 / Changed  (\"file2.txt\",   Some     \"22222222222222222222222222222222222\n",
      "211 / 638469834136448350 / Changed  (\"file2.txt\",   Some     \"22222222222222222222222222222222222\n",
      "211 / 638469834136448561 / Changed  (\"file2.txt\",   Some     \"22222222222222222222222222222222222\n",
      "201 / 638469834136448762 / Changed  (\"file2.txt\",   Some     \"22222222222222222222222222222222222\n",
      "195 / 638469834136448957 / Changed  (\"file2.txt\",   Some     \"22222222222222222222222222222222222\n",
      "195 / 638469834136449152 / Changed  (\"file2.txt\",   Some     \"22222222222222222222222222222222222\n",
      "187 / 638469834136449339 / Changed  (\"file2.txt\",   Some     \"22222222222222222222222222222222222\n",
      "159 / 638469834136449498 / Changed  (\"file2.txt\",   Some     \"22222222222222222222222222222222222\n",
      "197 / 638469834136449695 / Changed  (\"file2.txt\",   Some     \"22222222222222222222222222222222222\n",
      "212 / 638469834136449907 / Changed  (\"file2.txt\",   Some     \"22222222222222222222222222222222222\n",
      "188 / 638469834136450095 / Changed  (\"file2.txt\",   Some     \"22222222222222222222222222222222222\n",
      "161 / 638469834136450256 / Changed  (\"file2.txt\",   Some     \"22222222222222222222222222222222222\n",
      "200 / 638469834136450456 / Changed  (\"file2.txt\",   Some     \"22222222222222222222222222222222222\n",
      "194 / 638469834136450650 / Changed  (\"file2.txt\",   Some     \"22222222222222222222222222222222222\n",
      "195 / 638469834136450845 / Changed  (\"file2.txt\",   Some     \"22222222222222222222222222222222222\n",
      "181 / 638469834136451026 / Changed  (\"file2.txt\",   Some     \"22222222222222222222222222222222222\n",
      "327 / 638469834136451353 / Changed  (\"file2.txt\",   Some     \"22222222222222222222222222222222222\n",
      "187 / 638469834136451540 / Changed  (\"file2.txt\",   Some     \"22222222222222222222222222222222222\n",
      "39 / 638469834136451579 / Changed  (\"file2.txt\",   Some     \"222222222222222222222222222222222222\n",
      "15006431 / 638469834151458010 / Renamed  (\"file1.txt\",   (\"file_1.txt\",    Some      \"1111111111\n",
      "317 / 638469834151458327 / Renamed  (\"file2.txt\",   (\"file_2.txt\",    Some      \"222222222222222\n",
      "15062421 / 638469834166520748 / Changed  (\"file_1.txt\",   Some     \"11111111111111111111111111111\n",
      "759 / 638469834166521507 / Changed  (\"file_1.txt\",   Some     \"1111111111111111111111111111111111\n",
      "7187 / 638469834166528694 / Changed  (\"file_1.txt\",   Some     \"111111111111111111111111111111111\n",
      "147 / 638469834166528841 / Changed  (\"file_1.txt\",   Some     \"1111111111111111111111111111111111\n",
      "141 / 638469834166528982 / Changed  (\"file_1.txt\",   Some     \"1111111111111111111111111111111111\n",
      "343 / 638469834166529325 / Changed  (\"file_1.txt\",   Some     \"1111111111111111111111111111111111\n",
      "178 / 638469834166529503 / Changed  (\"file_1.txt\",   Some     \"1111111111111111111111111111111111\n",
      "158 / 638469834166529661 / Changed  (\"file_1.txt\",   Some     \"1111111111111111111111111111111111\n",
      "216 / 638469834166529877 / Changed  (\"file_1.txt\",   Some     \"1111111111111111111111111111111111\n",
      "164 / 638469834166530041 / Changed  (\"file_1.txt\",   Some     \"1111111111111111111111111111111111\n",
      "140 / 638469834166530181 / Changed  (\"file_1.txt\",   Some     \"1111111111111111111111111111111111\n",
      "225 / 638469834166530406 / Changed  (\"file_1.txt\",   Some     \"1111111111111111111111111111111111\n",
      "219 / 638469834166530625 / Changed  (\"file_1.txt\",   Some     \"1111111111111111111111111111111111\n",
      "143 / 638469834166530768 / Changed  (\"file_1.txt\",   Some     \"1111111111111111111111111111111111\n",
      "132 / 638469834166530900 / Changed  (\"file_1.txt\",   Some     \"1111111111111111111111111111111111\n",
      "225 / 638469834166531125 / Changed  (\"file_1.txt\",   Some     \"1111111111111111111111111111111111\n",
      "215 / 638469834166531340 / Changed  (\"file_1.txt\",   Some     \"1111111111111111111111111111111111\n",
      "174 / 638469834166531514 / Changed  (\"file_1.txt\",   Some     \"1111111111111111111111111111111111\n",
      "138 / 638469834166531652 / Changed  (\"file_1.txt\",   Some     \"1111111111111111111111111111111111\n",
      "220 / 638469834166531872 / Changed  (\"file_1.txt\",   Some     \"1111111111111111111111111111111111\n",
      "183 / 638469834166532055 / Changed  (\"file_1.txt\",   Some     \"1111111111111111111111111111111111\n",
      "202 / 638469834166532257 / Changed  (\"file_1.txt\",   Some     \"1111111111111111111111111111111111\n",
      "139 / 638469834166532396 / Changed  (\"file_1.txt\",   Some     \"1111111111111111111111111111111111\n",
      "216 / 638469834166532612 / Changed  (\"file_1.txt\",   Some     \"1111111111111111111111111111111111\n",
      "197 / 638469834166532809 / Changed  (\"file_1.txt\",   Some     \"1111111111111111111111111111111111\n",
      "164 / 638469834166532973 / Changed  (\"file_1.txt\",   Some     \"1111111111111111111111111111111111\n",
      "163 / 638469834166533136 / Changed  (\"file_1.txt\",   Some     \"1111111111111111111111111111111111\n",
      "206 / 638469834166533342 / Changed  (\"file_1.txt\",   Some     \"1111111111111111111111111111111111\n",
      "195 / 638469834166533537 / Changed  (\"file_1.txt\",   Some     \"1111111111111111111111111111111111\n",
      "193 / 638469834166533730 / Changed  (\"file_1.txt\",   Some     \"1111111111111111111111111111111111\n",
      "38 / 638469834166533768 / Changed  (\"file_1.txt\",   Some     \"11111111111111111111111111111111111\n",
      "243 / 638469834166534011 / Changed  (\"file_1.txt\",   Some     \"1111111111111111111111111111111111\n",
      "369 / 638469834166534380 / Changed  (\"file_1.txt\",   Some     \"1111111111111111111111111111111111\n",
      "38 / 638469834166534418 / Changed  (\"file_1.txt\",   Some     \"11111111111111111111111111111111111\n",
      "252 / 638469834166534670 / Changed  (\"file_1.txt\",   Some     \"1111111111111111111111111111111111\n",
      "152 / 638469834166534822 / Changed  (\"file_1.txt\",   Some     \"1111111111111111111111111111111111\n",
      "202 / 638469834166535024 / Changed  (\"file_1.txt\",   Some     \"1111111111111111111111111111111111\n",
      "212 / 638469834166535236 / Changed  (\"file_1.txt\",   Some     \"1111111111111111111111111111111111\n",
      "136 / 638469834166535372 / Changed  (\"file_1.txt\",   Some     \"1111111111111111111111111111111111\n",
      "214 / 638469834166535586 / Changed  (\"file_1.txt\",   Some     \"1111111111111111111111111111111111\n",
      "176 / 638469834166535762 / Changed  (\"file_1.txt\",   Some     \"1111111111111111111111111111111111\n",
      "172 / 638469834166535934 / Changed  (\"file_1.txt\",   Some     \"1111111111111111111111111111111111\n",
      "824 / 638469834166536758 / Changed  (\"file_1.txt\",   Some     \"1111111111111111111111111111111111\n",
      "30 / 638469834166536788 / Changed  (\"file_1.txt\",   Some     \"11111111111111111111111111111111111\n",
      "135 / 638469834166536923 / Changed  (\"file_1.txt\",   Some     \"1111111111111111111111111111111111\n",
      "167 / 638469834166537090 / Changed  (\"file_1.txt\",   Some     \"1111111111111111111111111111111111\n",
      "242 / 638469834166537332 / Changed  (\"file_1.txt\",   Some     \"1111111111111111111111111111111111\n",
      "169 / 638469834166537501 / Changed  (\"file_1.txt\",   Some     \"1111111111111111111111111111111111\n",
      "159 / 638469834166537660 / Changed  (\"file_1.txt\",   Some     \"1111111111111111111111111111111111\n",
      "166 / 638469834166537826 / Changed  (\"file_1.txt\",   Some     \"1111111111111111111111111111111111\n",
      "144 / 638469834166537970 / Changed  (\"file_1.txt\",   Some     \"1111111111111111111111111111111111\n",
      "152 / 638469834166538122 / Changed  (\"file_1.txt\",   Some     \"1111111111111111111111111111111111\n",
      "151 / 638469834166538273 / Changed  (\"file_1.txt\",   Some     \"1111111111111111111111111111111111\n",
      "170 / 638469834166538443 / Changed  (\"file_1.txt\",   Some     \"1111111111111111111111111111111111\n",
      "158 / 638469834166538601 / Changed  (\"file_1.txt\",   Some     \"1111111111111111111111111111111111\n",
      "151 / 638469834166538752 / Changed  (\"file_1.txt\",   Some     \"1111111111111111111111111111111111\n",
      "177 / 638469834166538929 / Changed  (\"file_1.txt\",   Some     \"1111111111111111111111111111111111\n",
      "129 / 638469834166539058 / Changed  (\"file_1.txt\",   Some     \"1111111111111111111111111111111111\n",
      "150 / 638469834166539208 / Changed  (\"file_1.txt\",   Some     \"1111111111111111111111111111111111\n",
      "148 / 638469834166539356 / Changed  (\"file_1.txt\",   Some     \"1111111111111111111111111111111111\n",
      "153 / 638469834166539509 / Changed  (\"file_1.txt\",   Some     \"1111111111111111111111111111111111\n",
      "166 / 638469834166539675 / Changed  (\"file_1.txt\",   Some     \"1111111111111111111111111111111111\n",
      "176 / 638469834166539851 / Changed  (\"file_1.txt\",   Some     \"1111111111111111111111111111111111\n",
      "144 / 638469834166539995 / Changed  (\"file_1.txt\",   Some     \"1111111111111111111111111111111111\n",
      "632 / 638469834166540627 / Changed  (\"file_1.txt\",   Some     \"1111111111111111111111111111111111\n",
      "37 / 638469834166540664 / Changed  (\"file_1.txt\",   Some     \"11111111111111111111111111111111111\n",
      "40942 / 638469834166581606 / Changed  (\"file_2.txt\",   Some     \"22222222222222222222222222222222\n",
      "146 / 638469834166581752 / Changed  (\"file_2.txt\",   Some     \"2222222222222222222222222222222222\n",
      "456 / 638469834166582208 / Changed  (\"file_2.txt\",   Some     \"2222222222222222222222222222222222\n",
      "76 / 638469834166582284 / Changed  (\"file_2.txt\",   Some     \"22222222222222222222222222222222222\n",
      "122 / 638469834166582406 / Changed  (\"file_2.txt\",   Some     \"2222222222222222222222222222222222\n",
      "203 / 638469834166582609 / Changed  (\"file_2.txt\",   Some     \"2222222222222222222222222222222222\n",
      "43 / 638469834166582652 / Changed  (\"file_2.txt\",   Some     \"22222222222222222222222222222222222\n",
      "202 / 638469834166582854 / Changed  (\"file_2.txt\",   Some     \"2222222222222222222222222222222222\n",
      "479 / 638469834166583333 / Changed  (\"file_2.txt\",   Some     \"2222222222222222222222222222222222\n",
      "290 / 638469834166583623 / Changed  (\"file_2.txt\",   Some     \"2222222222222222222222222222222222\n",
      "244 / 638469834166583867 / Changed  (\"file_2.txt\",   Some     \"2222222222222222222222222222222222\n",
      "224 / 638469834166584091 / Changed  (\"file_2.txt\",   Some     \"2222222222222222222222222222222222\n",
      "228 / 638469834166584319 / Changed  (\"file_2.txt\",   Some     \"2222222222222222222222222222222222\n",
      "244 / 638469834166584563 / Changed  (\"file_2.txt\",   Some     \"2222222222222222222222222222222222\n",
      "206 / 638469834166584769 / Changed  (\"file_2.txt\",   Some     \"2222222222222222222222222222222222\n",
      "220 / 638469834166584989 / Changed  (\"file_2.txt\",   Some     \"2222222222222222222222222222222222\n",
      "236 / 638469834166585225 / Changed  (\"file_2.txt\",   Some     \"2222222222222222222222222222222222\n",
      "246 / 638469834166585471 / Changed  (\"file_2.txt\",   Some     \"2222222222222222222222222222222222\n",
      "215 / 638469834166585686 / Changed  (\"file_2.txt\",   Some     \"2222222222222222222222222222222222\n",
      "259 / 638469834166585945 / Changed  (\"file_2.txt\",   Some     \"2222222222222222222222222222222222\n",
      "233 / 638469834166586178 / Changed  (\"file_2.txt\",   Some     \"2222222222222222222222222222222222\n",
      "255 / 638469834166586433 / Changed  (\"file_2.txt\",   Some     \"2222222222222222222222222222222222\n",
      "249 / 638469834166586682 / Changed  (\"file_2.txt\",   Some     \"2222222222222222222222222222222222\n",
      "235 / 638469834166586917 / Changed  (\"file_2.txt\",   Some     \"2222222222222222222222222222222222\n",
      "279 / 638469834166587196 / Changed  (\"file_2.txt\",   Some     \"2222222222222222222222222222222222\n",
      "248 / 638469834166587444 / Changed  (\"file_2.txt\",   Some     \"2222222222222222222222222222222222\n",
      "247 / 638469834166587691 / Changed  (\"file_2.txt\",   Some     \"2222222222222222222222222222222222\n",
      "248 / 638469834166587939 / Changed  (\"file_2.txt\",   Some     \"2222222222222222222222222222222222\n",
      "254 / 638469834166588193 / Changed  (\"file_2.txt\",   Some     \"2222222222222222222222222222222222\n",
      "335 / 638469834166588528 / Changed  (\"file_2.txt\",   Some     \"2222222222222222222222222222222222\n",
      "233 / 638469834166588761 / Changed  (\"file_2.txt\",   Some     \"2222222222222222222222222222222222\n",
      "251 / 638469834166589012 / Changed  (\"file_2.txt\",   Some     \"2222222222222222222222222222222222\n",
      "208 / 638469834166589220 / Changed  (\"file_2.txt\",   Some     \"2222222222222222222222222222222222\n",
      "211 / 638469834166589431 / Changed  (\"file_2.txt\",   Some     \"2222222222222222222222222222222222\n",
      "232 / 638469834166589663 / Changed  (\"file_2.txt\",   Some     \"2222222222222222222222222222222222\n",
      "222 / 638469834166589885 / Changed  (\"file_2.txt\",   Some     \"2222222222222222222222222222222222\n",
      "187 / 638469834166590072 / Changed  (\"file_2.txt\",   Some     \"2222222222222222222222222222222222\n",
      "199 / 638469834166590271 / Changed  (\"file_2.txt\",   Some     \"2222222222222222222222222222222222\n",
      "202 / 638469834166590473 / Changed  (\"file_2.txt\",   Some     \"2222222222222222222222222222222222\n",
      "239 / 638469834166590712 / Changed  (\"file_2.txt\",   Some     \"2222222222222222222222222222222222\n",
      "201 / 638469834166590913 / Changed  (\"file_2.txt\",   Some     \"2222222222222222222222222222222222\n",
      "184 / 638469834166591097 / Changed  (\"file_2.txt\",   Some     \"2222222222222222222222222222222222\n",
      "211 / 638469834166591308 / Changed  (\"file_2.txt\",   Some     \"2222222222222222222222222222222222\n",
      "201 / 638469834166591509 / Changed  (\"file_2.txt\",   Some     \"2222222222222222222222222222222222\n",
      "204 / 638469834166591713 / Changed  (\"file_2.txt\",   Some     \"2222222222222222222222222222222222\n",
      "218 / 638469834166591931 / Changed  (\"file_2.txt\",   Some     \"2222222222222222222222222222222222\n",
      "231 / 638469834166592162 / Changed  (\"file_2.txt\",   Some     \"2222222222222222222222222222222222\n",
      "204 / 638469834166592366 / Changed  (\"file_2.txt\",   Some     \"2222222222222222222222222222222222\n",
      "204 / 638469834166592570 / Changed  (\"file_2.txt\",   Some     \"2222222222222222222222222222222222\n",
      "198 / 638469834166592768 / Changed  (\"file_2.txt\",   Some     \"2222222222222222222222222222222222\n",
      "206 / 638469834166592974 / Changed  (\"file_2.txt\",   Some     \"2222222222222222222222222222222222\n",
      "202 / 638469834166593176 / Changed  (\"file_2.txt\",   Some     \"2222222222222222222222222222222222\n",
      "210 / 638469834166593386 / Changed  (\"file_2.txt\",   Some     \"2222222222222222222222222222222222\n",
      "197 / 638469834166593583 / Changed  (\"file_2.txt\",   Some     \"2222222222222222222222222222222222\n",
      "225 / 638469834166593808 / Changed  (\"file_2.txt\",   Some     \"2222222222222222222222222222222222\n",
      "201 / 638469834166594009 / Changed  (\"file_2.txt\",   Some     \"2222222222222222222222222222222222\n",
      "237 / 638469834166594246 / Changed  (\"file_2.txt\",   Some     \"2222222222222222222222222222222222\n",
      "212 / 638469834166594458 / Changed  (\"file_2.txt\",   Some     \"2222222222222222222222222222222222\n",
      "198 / 638469834166594656 / Changed  (\"file_2.txt\",   Some     \"2222222222222222222222222222222222\n",
      "197 / 638469834166594853 / Changed  (\"file_2.txt\",   Some     \"2222222222222222222222222222222222\n",
      "200 / 638469834166595053 / Changed  (\"file_2.txt\",   Some     \"2222222222222222222222222222222222\n",
      "228 / 638469834166595281 / Changed  (\"file_2.txt\",   Some     \"2222222222222222222222222222222222\n",
      "197 / 638469834166595478 / Changed  (\"file_2.txt\",   Some     \"2222222222222222222222222222222222\n",
      "199 / 638469834166595677 / Changed  (\"file_2.txt\",   Some     \"2222222222222222222222222222222222\n",
      "205 / 638469834166595882 / Changed  (\"file_2.txt\",   Some     \"2222222222222222222222222222222222\n",
      "206 / 638469834166596088 / Changed  (\"file_2.txt\",   Some     \"2222222222222222222222222222222222\n",
      "220 / 638469834166596308 / Changed  (\"file_2.txt\",   Some     \"2222222222222222222222222222222222\n",
      "211 / 638469834166596519 / Changed  (\"file_2.txt\",   Some     \"2222222222222222222222222222222222\n",
      "209 / 638469834166596728 / Changed  (\"file_2.txt\",   Some     \"2222222222222222222222222222222222\n",
      "223 / 638469834166596951 / Changed  (\"file_2.txt\",   Some     \"2222222222222222222222222222222222\n",
      "194 / 638469834166597145 / Changed  (\"file_2.txt\",   Some     \"2222222222222222222222222222222222\n",
      "190 / 638469834166597335 / Changed  (\"file_2.txt\",   Some     \"2222222222222222222222222222222222\n",
      "204 / 638469834166597539 / Changed  (\"file_2.txt\",   Some     \"2222222222222222222222222222222222\n",
      "217 / 638469834166597756 / Changed  (\"file_2.txt\",   Some     \"2222222222222222222222222222222222\n",
      "215 / 638469834166597971 / Changed  (\"file_2.txt\",   Some     \"2222222222222222222222222222222222\n",
      "172 / 638469834166598143 / Changed  (\"file_2.txt\",   Some     \"2222222222222222222222222222222222\n",
      "260 / 638469834166598403 / Changed  (\"file_2.txt\",   Some     \"2222222222222222222222222222222222\n",
      "202 / 638469834166598605 / Changed  (\"file_2.txt\",   Some     \"2222222222222222222222222222222222\n",
      "226 / 638469834166598831 / Changed  (\"file_2.txt\",   Some     \"2222222222222222222222222222222222\n",
      "211 / 638469834166599042 / Changed  (\"file_2.txt\",   Some     \"2222222222222222222222222222222222\n",
      "190 / 638469834166599232 / Changed  (\"file_2.txt\",   Some     \"2222222222222222222222222222222222\n",
      "198 / 638469834166599430 / Changed  (\"file_2.txt\",   Some     \"2222222222222222222222222222222222\n",
      "196 / 638469834166599626 / Changed  (\"file_2.txt\",   Some     \"2222222222222222222222222222222222\n",
      "212 / 638469834166599838 / Changed  (\"file_2.txt\",   Some     \"2222222222222222222222222222222222\n",
      "217 / 638469834166600055 / Changed  (\"file_2.txt\",   Some     \"2222222222222222222222222222222222\n",
      "197 / 638469834166600252 / Changed  (\"file_2.txt\",   Some     \"2222222222222222222222222222222222\n",
      "196 / 638469834166600448 / Changed  (\"file_2.txt\",   Some     \"2222222222222222222222222222222222\n",
      "205 / 638469834166600653 / Changed  (\"file_2.txt\",   Some     \"2222222222222222222222222222222222\n",
      "200 / 638469834166600853 / Changed  (\"file_2.txt\",   Some     \"2222222222222222222222222222222222\n",
      "191 / 638469834166601044 / Changed  (\"file_2.txt\",   Some     \"2222222222222222222222222222222222\n",
      "191 / 638469834166601235 / Changed  (\"file_2.txt\",   Some     \"2222222222222222222222222222222222\n",
      "61143 / 638469834166662378 / Changed  (\"file_2.txt\",   Some     \"22222222222222222222222222222222\n",
      "78 / 638469834166662456 / Changed  (\"file_2.txt\",   Some     \"22222222222222222222222222222222222\n",
      "15020660 / 638469834181683116 / Deleted \"file_1.txt\"\n",
      "4476 / 638469834181687592 / Deleted \"file_2.txt\"\n",
      "FSharpList<FileSystemChange>\n",
      "      - path: file1.txt\n",
      "        content: FSharpOption<String>\n",
      "          Value: 1a\n",
      "        IsFailure: False\n",
      "        IsChanged: False\n",
      "        IsCreated: True\n",
      "        IsDeleted: False\n",
      "        IsRenamed: False\n",
      "      - path: file1.txt\n",
      "        content: FSharpOption<String>\n",
      "          Value: 1a\n",
      "        IsFailure: False\n",
      "        IsChanged: True\n",
      "        IsCreated: False\n",
      "        IsDeleted: False\n",
      "        IsRenamed: False\n",
      "      - path: file2.txt\n",
      "        content: FSharpOption<String>\n",
      "          Value: 2a\n",
      "        IsFailure: False\n",
      "        IsChanged: False\n",
      "        IsCreated: True\n",
      "        IsDeleted: False\n",
      "        IsRenamed: False\n",
      "      - path: file2.txt\n",
      "        content: FSharpOption<String>\n",
      "          Value: 2a\n",
      "        IsFailure: False\n",
      "        IsChanged: True\n",
      "        IsCreated: False\n",
      "        IsDeleted: False\n",
      "        IsRenamed: False\n",
      "      - path: file1.txt\n",
      "        content: FSharpOption<String>\n",
      "          Value: 1b\n",
      "        IsFailure: False\n",
      "        IsChanged: True\n",
      "        IsCreated: False\n",
      "        IsDeleted: False\n",
      "        IsRenamed: False\n",
      "      - path: file2.txt\n",
      "        content: FSharpOption<String>\n",
      "          Value: 2b\n",
      "        IsFailure: False\n",
      "        IsChanged: True\n",
      "        IsCreated: False\n",
      "        IsDeleted: False\n",
      "        IsRenamed: False\n",
      "      - oldPath: file1.txt\n",
      "        Item2:         - file_1.txt\n",
      "        - FSharpOption<String>\n",
      "            Value: 1b\n",
      "      - IsFailure: False\n",
      "        IsChanged: False\n",
      "        IsCreated: False\n",
      "        IsDeleted: False\n",
      "        IsRenamed: True\n",
      "      - oldPath: file2.txt\n",
      "        Item2:         - file_2.txt\n",
      "        - FSharpOption<String>\n",
      "            Value: 2b\n",
      "      - IsFailure: False\n",
      "        IsChanged: False\n",
      "        IsCreated: False\n",
      "        IsDeleted: False\n",
      "        IsRenamed: True\n",
      "      - path: file_1.txt\n",
      "        content: FSharpOption<String>\n",
      "          Value: 1c\n",
      "        IsFailure: False\n",
      "        IsChanged: True\n",
      "        IsCreated: False\n",
      "        IsDeleted: False\n",
      "        IsRenamed: False\n",
      "      - path: file_2.txt\n",
      "        content: FSharpOption<String>\n",
      "          Value: 2c\n",
      "        IsFailure: False\n",
      "        IsChanged: True\n",
      "        IsCreated: False\n",
      "        IsDeleted: False\n",
      "        IsRenamed: False\n",
      "      - path: file_1.txt\n",
      "        IsFailure: False\n",
      "        IsChanged: False\n",
      "        IsCreated: False\n",
      "        IsDeleted: True\n",
      "        IsRenamed: False\n",
      "      - path: file_2.txt\n",
      "        IsFailure: False\n",
      "        IsChanged: False\n",
      "        IsCreated: False\n",
      "        IsDeleted: True\n",
      "        IsRenamed: False\n",
      "FSharpOption<Unit>\n",
      "      Value: <null>\n"
     ]
    }
   ],
   "source": [
    "//// test\n",
    "\n",
    "let inline write path = async {\n",
    "    let n = 2\n",
    "\n",
    "    let contents =\n",
    "        [ 1 .. n ]\n",
    "        |> List.map (string >> String.replicate 1_000_000)\n",
    "\n",
    "    for i = 1 to n do\n",
    "        do! $\"{contents.[i - 1]}a\" |> writeAllTextAsync (path </> $\"file{i}.txt\")\n",
    "\n",
    "    do! Async.Sleep 1500\n",
    "\n",
    "    for i = 1 to n do\n",
    "        do! $\"{contents.[i - 1]}b\" |> writeAllTextAsync (path </> $\"file{i}.txt\")\n",
    "\n",
    "    do! Async.Sleep 1500\n",
    "\n",
    "    for i = 1 to n do\n",
    "        do! path </> $\"file{i}.txt\" |> moveFileAsync (path </> $\"file_{i}.txt\") |> Async.Ignore\n",
    "\n",
    "    do! Async.Sleep 1500\n",
    "\n",
    "    for i = 1 to n do\n",
    "        do! $\"{contents.[i - 1]}c\" |> writeAllTextAsync (path </> $\"file_{i}.txt\")\n",
    "\n",
    "    do! Async.Sleep 1500\n",
    "\n",
    "    for i = 1 to n do\n",
    "        do! deleteFileAsync (path </> $\"file_{i}.txt\") |> Async.Ignore\n",
    "\n",
    "    do! Async.Sleep 1500\n",
    "}\n",
    "\n",
    "let inline run () =\n",
    "    let events =\n",
    "        testEventsRaw watchDirectory write\n",
    "        |> List.map (function\n",
    "            | FileSystemChange.Changed (path, Some content) ->\n",
    "                FileSystemChange.Changed (path, content |> Seq.distinct |> Seq.map string |> String.concat \"\" |> Some)\n",
    "            | FileSystemChange.Created (path, Some content) ->\n",
    "                FileSystemChange.Created (path, content |> Seq.distinct |> Seq.map string |> String.concat \"\" |> Some)\n",
    "            | FileSystemChange.Renamed (oldPath, (newPath, Some content)) ->\n",
    "                FileSystemChange.Renamed (\n",
    "                    oldPath,\n",
    "                    (newPath, content |> Seq.distinct |> Seq.map string |> String.concat \"\" |> Some)\n",
    "                )\n",
    "            | event -> event\n",
    "        )\n",
    "\n",
    "    events\n",
    "    |> _sequenceEqual [\n",
    "        FileSystemChange.Created (\"file1.txt\", Some \"1a\")\n",
    "        FileSystemChange.Changed (\"file1.txt\", Some \"1a\")\n",
    "        FileSystemChange.Created (\"file2.txt\", Some \"2a\")\n",
    "        FileSystemChange.Changed (\"file2.txt\", Some \"2a\")\n",
    "\n",
    "        FileSystemChange.Changed (\"file1.txt\", Some \"1b\")\n",
    "        FileSystemChange.Changed (\"file2.txt\", Some \"2b\")\n",
    "\n",
    "        FileSystemChange.Renamed (\"file1.txt\", (\"file_1.txt\", Some \"1b\"))\n",
    "        FileSystemChange.Renamed (\"file2.txt\", (\"file_2.txt\", Some \"2b\"))\n",
    "\n",
    "        FileSystemChange.Changed (\"file_1.txt\", Some \"1c\")\n",
    "        FileSystemChange.Changed (\"file_2.txt\", Some \"2c\")\n",
    "\n",
    "        FileSystemChange.Deleted \"file_1.txt\"\n",
    "        FileSystemChange.Deleted \"file_2.txt\"\n",
    "    ]\n",
    "\n",
    "run\n",
    "|> retryFn 5\n",
    "|> _assertEqual (Some ())"
   ]
  },
  {
   "cell_type": "markdown",
   "metadata": {},
   "source": [
    "### testEventsSorted (test)"
   ]
  },
  {
   "cell_type": "code",
   "execution_count": null,
   "metadata": {
    "dotnet_interactive": {
     "language": "fsharp"
    },
    "polyglot_notebook": {
     "kernelName": "fsharp"
    }
   },
   "outputs": [],
   "source": [
    "//// test\n",
    "\n",
    "let inline sortEvent event =\n",
    "    match event with\n",
    "    | FileSystemChange.Failure _ -> 0\n",
    "    | FileSystemChange.Created _ -> 1\n",
    "    | FileSystemChange.Changed _ -> 2\n",
    "    | FileSystemChange.Renamed (_oldPath, _) -> 3\n",
    "    | FileSystemChange.Deleted _ -> 4\n",
    "\n",
    "let inline formatEvents events =\n",
    "    events\n",
    "    |> Seq.toList\n",
    "    |> List.sortBy (snd >> sortEvent)\n",
    "    |> List.choose (fun (ticks, event) ->\n",
    "        match event with\n",
    "        | FileSystemChange.Failure _ ->\n",
    "            None\n",
    "        | FileSystemChange.Changed (path, _) ->\n",
    "            Some (ticks, System.IO.Path.GetFileName path, nameof FileSystemChangeType.Changed)\n",
    "        | FileSystemChange.Created (path, _) ->\n",
    "            Some (ticks, System.IO.Path.GetFileName path, nameof FileSystemChangeType.Created)\n",
    "        | FileSystemChange.Deleted path ->\n",
    "            Some (ticks, System.IO.Path.GetFileName path, nameof FileSystemChangeType.Deleted)\n",
    "        | FileSystemChange.Renamed (_oldPath, (path, _)) ->\n",
    "            Some (ticks, System.IO.Path.GetFileName path, nameof FileSystemChangeType.Renamed)\n",
    "    )\n",
    "    |> List.sortBy (fun (_, path, _) -> path)\n",
    "    |> List.distinctBy (fun (_, path, event) -> path, event)\n",
    "\n",
    "let inline testEventsSorted\n",
    "    (watchFn : string -> FSharp.Control.AsyncSeq<int64 * FileSystemChange> * IDisposable)\n",
    "    write\n",
    "    =\n",
    "    let path = createTempDirectory ()\n",
    "    let stream, disposable = watchFn path\n",
    "\n",
    "    let events = System.Collections.Concurrent.ConcurrentBag ()\n",
    "\n",
    "    let inline iter () =\n",
    "        stream\n",
    "        |> FSharp.Control.AsyncSeq.iterAsyncParallel (fun event -> async { events.Add event })\n",
    "\n",
    "    let run = async {\n",
    "        let! _ = iter () |> Async.StartChild\n",
    "        do! Async.Sleep 250\n",
    "        return! write path\n",
    "    }\n",
    "\n",
    "    try\n",
    "        run\n",
    "        |> Async.runWithTimeout 5000\n",
    "        |> _assertEqual (Some ())\n",
    "    finally\n",
    "        disposable.Dispose ()\n",
    "        deleteDirectoryAsync path |> Async.Ignore |> Async.RunSynchronously\n",
    "\n",
    "    let events = formatEvents events\n",
    "\n",
    "    let eventMap =\n",
    "        events\n",
    "        |> List.map (fun (ticks, path, event) -> path, (event, ticks))\n",
    "        |> List.groupBy fst\n",
    "        |> List.map (fun (path, events) ->\n",
    "            let event, _ticks =\n",
    "                events\n",
    "                |> List.map snd\n",
    "                |> List.sortByDescending snd\n",
    "                |> List.head\n",
    "\n",
    "            path, event\n",
    "        )\n",
    "        |> Map.ofList\n",
    "\n",
    "    let eventList =\n",
    "        events\n",
    "        |> List.map (fun (_ticks, path, event) -> path, event)\n",
    "\n",
    "    eventMap, eventList"
   ]
  },
  {
   "cell_type": "markdown",
   "metadata": {},
   "source": [
    "#### create and delete (test)"
   ]
  },
  {
   "cell_type": "code",
   "execution_count": null,
   "metadata": {
    "dotnet_interactive": {
     "language": "fsharp"
    },
    "polyglot_notebook": {
     "kernelName": "fsharp"
    }
   },
   "outputs": [
    {
     "name": "stdout",
     "output_type": "stream",
     "text": [
      "FSharpOption<Unit>\n",
      "      Value: <null>\n",
      "00:00:28 #51 [Debug] watchWithFilter / Disposing watch stream / filter: FileName, LastWrite\n",
      "FSharpList<Tuple<String,String>>\n",
      "( file1.txt, Created )\n",
      "( file1.txt, Changed )\n",
      "( file1.txt, Deleted )\n",
      "( file2.txt, Created )\n",
      "( file2.txt, Changed )\n",
      "( file2.txt, Deleted )\n",
      "( file3.txt, Created )\n",
      "( file3.txt, Changed )\n",
      "( file3.txt, Deleted )\n",
      "FSharpMap<String,String>\n",
      "      - Key: file1.txt\n",
      "        Value: Deleted\n",
      "      - Key: file2.txt\n",
      "        Value: Deleted\n",
      "      - Key: file3.txt\n",
      "        Value: Deleted\n",
      "FSharpOption<Unit>\n",
      "      Value: <null>\n"
     ]
    }
   ],
   "source": [
    "//// test\n",
    "\n",
    "let inline write path = async {\n",
    "    let n = 3\n",
    "\n",
    "    for i = 1 to n do\n",
    "        do! $\"{i}\" |> writeAllTextAsync (path </> $\"file{i}.txt\")\n",
    "\n",
    "    for i = 1 to n do\n",
    "        do! deleteFileAsync (path </> $\"file{i}.txt\") |> Async.Ignore\n",
    "\n",
    "    do! Async.Sleep 150\n",
    "}\n",
    "\n",
    "let inline run () =\n",
    "    let eventMap, eventList = testEventsSorted (watchDirectory (fun _ -> false)) write\n",
    "\n",
    "    [\n",
    "        \"file1.txt\", nameof FileSystemChangeType.Created\n",
    "        \"file1.txt\", nameof FileSystemChangeType.Changed\n",
    "        \"file1.txt\", nameof FileSystemChangeType.Deleted\n",
    "\n",
    "        \"file2.txt\", nameof FileSystemChangeType.Created\n",
    "        \"file2.txt\", nameof FileSystemChangeType.Changed\n",
    "        \"file2.txt\", nameof FileSystemChangeType.Deleted\n",
    "\n",
    "        \"file3.txt\", nameof FileSystemChangeType.Created\n",
    "        \"file3.txt\", nameof FileSystemChangeType.Changed\n",
    "        \"file3.txt\", nameof FileSystemChangeType.Deleted\n",
    "    ]\n",
    "    |> _sequenceEqual eventList\n",
    "\n",
    "    [\n",
    "        \"file1.txt\", nameof FileSystemChangeType.Deleted\n",
    "        \"file2.txt\", nameof FileSystemChangeType.Deleted\n",
    "        \"file3.txt\", nameof FileSystemChangeType.Deleted\n",
    "    ]\n",
    "    |> Map.ofList\n",
    "    |> _sequenceEqual eventMap\n",
    "\n",
    "run\n",
    "|> retryFn 3\n",
    "|> _assertEqual (Some ())"
   ]
  },
  {
   "cell_type": "markdown",
   "metadata": {},
   "source": [
    "#### change (test)"
   ]
  },
  {
   "cell_type": "code",
   "execution_count": null,
   "metadata": {
    "dotnet_interactive": {
     "language": "fsharp"
    },
    "polyglot_notebook": {
     "kernelName": "fsharp"
    }
   },
   "outputs": [
    {
     "name": "stdout",
     "output_type": "stream",
     "text": [
      "FSharpOption<Unit>\n",
      "      Value: <null>\n",
      "00:00:30 #52 [Debug] watchWithFilter / Disposing watch stream / filter: FileName, LastWrite\n",
      "FSharpList<Tuple<String,String>>\n",
      "( file1.txt, Created )\n",
      "( file1.txt, Changed )\n",
      "( file1.txt, Deleted )\n",
      "( file2.txt, Created )\n",
      "( file2.txt, Changed )\n",
      "( file2.txt, Deleted )\n",
      "FSharpMap<String,String>\n",
      "      - Key: file1.txt\n",
      "        Value: Deleted\n",
      "      - Key: file2.txt\n",
      "        Value: Deleted\n",
      "FSharpOption<Unit>\n",
      "      Value: <null>\n"
     ]
    }
   ],
   "source": [
    "//// test\n",
    "\n",
    "let inline write path = async {\n",
    "    let n = 2\n",
    "\n",
    "    for i = 1 to n do\n",
    "        do! $\"{i}\" |> writeAllTextAsync (path </> $\"file{i}.txt\")\n",
    "\n",
    "    for i = 1 to n do\n",
    "        do! \"\" |> writeAllTextAsync (path </> $\"file{i}.txt\")\n",
    "\n",
    "    for i = 1 to n do\n",
    "        do! deleteFileAsync (path </> $\"file{i}.txt\") |> Async.Ignore\n",
    "\n",
    "    do! Async.Sleep 150\n",
    "}\n",
    "\n",
    "let inline run () =\n",
    "    let eventMap, eventList = testEventsSorted (watchDirectory (fun _ -> false)) write\n",
    "\n",
    "    [\n",
    "        \"file1.txt\", nameof FileSystemChangeType.Created\n",
    "        \"file1.txt\", nameof FileSystemChangeType.Changed\n",
    "        \"file1.txt\", nameof FileSystemChangeType.Deleted\n",
    "\n",
    "        \"file2.txt\", nameof FileSystemChangeType.Created\n",
    "        \"file2.txt\", nameof FileSystemChangeType.Changed\n",
    "        \"file2.txt\", nameof FileSystemChangeType.Deleted\n",
    "    ]\n",
    "    |> _sequenceEqual eventList\n",
    "\n",
    "    [\n",
    "        \"file1.txt\", nameof FileSystemChangeType.Deleted\n",
    "        \"file2.txt\", nameof FileSystemChangeType.Deleted\n",
    "    ]\n",
    "    |> Map.ofList\n",
    "    |> _sequenceEqual eventMap\n",
    "\n",
    "run\n",
    "|> retryFn 3\n",
    "|> _assertEqual (Some ())"
   ]
  },
  {
   "cell_type": "markdown",
   "metadata": {},
   "source": [
    "#### rename (test)"
   ]
  },
  {
   "cell_type": "code",
   "execution_count": null,
   "metadata": {
    "dotnet_interactive": {
     "language": "fsharp"
    },
    "polyglot_notebook": {
     "kernelName": "fsharp"
    }
   },
   "outputs": [
    {
     "name": "stdout",
     "output_type": "stream",
     "text": [
      "FSharpOption<Unit>\n",
      "      Value: <null>\n",
      "00:00:33 #53 [Debug] watchWithFilter / Disposing watch stream / filter: FileName, LastWrite\n",
      "FSharpList<Tuple<String,String>>\n",
      "( file1.txt, Created )\n",
      "( file1.txt, Changed )\n",
      "( file2.txt, Created )\n",
      "( file2.txt, Changed )\n",
      "( file_1.txt, Renamed )\n",
      "( file_1.txt, Deleted )\n",
      "( file_2.txt, Renamed )\n",
      "( file_2.txt, Deleted )\n",
      "FSharpMap<String,String>\n",
      "      - Key: file1.txt\n",
      "        Value: Changed\n",
      "      - Key: file2.txt\n",
      "        Value: Changed\n",
      "      - Key: file_1.txt\n",
      "        Value: Deleted\n",
      "      - Key: file_2.txt\n",
      "        Value: Deleted\n",
      "FSharpOption<Unit>\n",
      "      Value: <null>\n"
     ]
    }
   ],
   "source": [
    "//// test\n",
    "\n",
    "let inline write path = async {\n",
    "    let n = 2\n",
    "\n",
    "    for i = 1 to n do\n",
    "        do! $\"{i}\" |> writeAllTextAsync (path </> $\"file{i}.txt\")\n",
    "\n",
    "    for i = 1 to n do\n",
    "        do! path </> $\"file{i}.txt\" |> moveFileAsync (path </> $\"file_{i}.txt\") |> Async.Ignore\n",
    "\n",
    "    for i = 1 to n do\n",
    "        do! deleteFileAsync (path </> $\"file_{i}.txt\") |> Async.Ignore\n",
    "\n",
    "    do! Async.Sleep 150\n",
    "}\n",
    "\n",
    "let inline run () =\n",
    "    let eventMap, eventList = testEventsSorted (watchDirectory (fun _ -> false)) write\n",
    "\n",
    "    [\n",
    "        \"file1.txt\", nameof FileSystemChangeType.Created\n",
    "        \"file1.txt\", nameof FileSystemChangeType.Changed\n",
    "        \"file2.txt\", nameof FileSystemChangeType.Created\n",
    "        \"file2.txt\", nameof FileSystemChangeType.Changed\n",
    "\n",
    "        \"file_1.txt\", nameof FileSystemChangeType.Renamed\n",
    "        \"file_1.txt\", nameof FileSystemChangeType.Deleted\n",
    "\n",
    "        \"file_2.txt\", nameof FileSystemChangeType.Renamed\n",
    "        \"file_2.txt\", nameof FileSystemChangeType.Deleted\n",
    "    ]\n",
    "    |> _sequenceEqual eventList\n",
    "\n",
    "    [\n",
    "        \"file1.txt\", nameof FileSystemChangeType.Changed\n",
    "        \"file2.txt\", nameof FileSystemChangeType.Changed\n",
    "        \"file_1.txt\", nameof FileSystemChangeType.Deleted\n",
    "        \"file_2.txt\", nameof FileSystemChangeType.Deleted\n",
    "    ]\n",
    "    |> Map.ofList\n",
    "    |> _sequenceEqual eventMap\n",
    "\n",
    "run\n",
    "|> retryFn 3\n",
    "|> _assertEqual (Some ())"
   ]
  },
  {
   "cell_type": "markdown",
   "metadata": {},
   "source": [
    "#### full (test)"
   ]
  },
  {
   "cell_type": "code",
   "execution_count": null,
   "metadata": {
    "dotnet_interactive": {
     "language": "fsharp"
    },
    "polyglot_notebook": {
     "kernelName": "fsharp"
    }
   },
   "outputs": [
    {
     "name": "stdout",
     "output_type": "stream",
     "text": [
      "FSharpOption<Unit>\n",
      "      Value: <null>\n",
      "00:00:36 #54 [Debug] watchWithFilter / Disposing watch stream / filter: FileName, LastWrite\n",
      "FSharpList<Tuple<String,String>>\n",
      "( file1.txt, Created )\n",
      "( file1.txt, Changed )\n",
      "( file2.txt, Created )\n",
      "( file2.txt, Changed )\n",
      "( file_1.txt, Changed )\n",
      "( file_1.txt, Renamed )\n",
      "( file_1.txt, Deleted )\n",
      "( file_2.txt, Changed )\n",
      "( file_2.txt, Renamed )\n",
      "( file_2.txt, Deleted )\n",
      "FSharpMap<String,String>\n",
      "      - Key: file1.txt\n",
      "        Value: Changed\n",
      "      - Key: file2.txt\n",
      "        Value: Changed\n",
      "      - Key: file_1.txt\n",
      "        Value: Deleted\n",
      "      - Key: file_2.txt\n",
      "        Value: Deleted\n",
      "FSharpOption<Unit>\n",
      "      Value: <null>\n"
     ]
    }
   ],
   "source": [
    "//// test\n",
    "\n",
    "let inline write path = async {\n",
    "    let n = 2\n",
    "\n",
    "    for i = 1 to n do\n",
    "        do! $\"{i}\" |> writeAllTextAsync (path </> $\"file{i}.txt\")\n",
    "\n",
    "    for i = 1 to n do\n",
    "        do! \"\" |> writeAllTextAsync (path </> $\"file{i}.txt\")\n",
    "\n",
    "    for i = 1 to n do\n",
    "        do! path </> $\"file{i}.txt\" |> moveFileAsync (path </> $\"file_{i}.txt\") |> Async.Ignore\n",
    "\n",
    "    for i = 1 to n do\n",
    "        do! $\"{i}\" |> writeAllTextAsync (path </> $\"file_{i}.txt\")\n",
    "\n",
    "    for i = 1 to n do\n",
    "        do! deleteFileAsync (path </> $\"file_{i}.txt\") |> Async.Ignore\n",
    "\n",
    "    do! Async.Sleep 150\n",
    "}\n",
    "\n",
    "let inline run () =\n",
    "    let eventMap, eventList = testEventsSorted (watchDirectory (fun _ -> false)) write\n",
    "\n",
    "    [\n",
    "        \"file1.txt\", nameof FileSystemChangeType.Created\n",
    "        \"file1.txt\", nameof FileSystemChangeType.Changed\n",
    "        \"file2.txt\", nameof FileSystemChangeType.Created\n",
    "        \"file2.txt\", nameof FileSystemChangeType.Changed\n",
    "\n",
    "        \"file_1.txt\", nameof FileSystemChangeType.Changed\n",
    "        \"file_1.txt\", nameof FileSystemChangeType.Renamed\n",
    "        \"file_1.txt\", nameof FileSystemChangeType.Deleted\n",
    "\n",
    "        \"file_2.txt\", nameof FileSystemChangeType.Changed\n",
    "        \"file_2.txt\", nameof FileSystemChangeType.Renamed\n",
    "        \"file_2.txt\", nameof FileSystemChangeType.Deleted\n",
    "    ]\n",
    "    |> _sequenceEqual eventList\n",
    "\n",
    "    [\n",
    "        \"file1.txt\", nameof FileSystemChangeType.Changed\n",
    "        \"file2.txt\", nameof FileSystemChangeType.Changed\n",
    "        \"file_1.txt\", nameof FileSystemChangeType.Deleted\n",
    "        \"file_2.txt\", nameof FileSystemChangeType.Deleted\n",
    "    ]\n",
    "    |> Map.ofList\n",
    "    |> _sequenceEqual eventMap\n",
    "\n",
    "run\n",
    "|> retryFn 3\n",
    "|> _assertEqual (Some ())"
   ]
  }
 ],
 "metadata": {},
 "nbformat": 4,
 "nbformat_minor": 5
}