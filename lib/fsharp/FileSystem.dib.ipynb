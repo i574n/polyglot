{
 "cells": [
  {
   "cell_type": "markdown",
   "metadata": {},
   "source": [
    "# FileSystem (Polyglot)"
   ]
  },
  {
   "cell_type": "code",
   "execution_count": null,
   "metadata": {
    "dotnet_interactive": {
     "language": "fsharp"
    },
    "polyglot_notebook": {
     "kernelName": "fsharp"
    }
   },
   "outputs": [],
   "source": [
    "#!import ../../lib/fsharp/Notebooks.dib\n",
    "#!import ../../lib/fsharp/Testing.dib"
   ]
  },
  {
   "cell_type": "code",
   "execution_count": null,
   "metadata": {
    "dotnet_interactive": {
     "language": "fsharp"
    },
    "polyglot_notebook": {
     "kernelName": "fsharp"
    }
   },
   "outputs": [],
   "source": [
    "#r @\"../../../../../../../.nuget/packages/fsharp.control.asyncseq/3.2.1/lib/netstandard2.1/FSharp.Control.AsyncSeq.dll\"\n",
    "#r @\"../../../../../../../.nuget/packages/system.reactive/6.0.1-preview.1/lib/net6.0/System.Reactive.dll\"\n",
    "#r @\"../../../../../../../.nuget/packages/system.reactive.linq/6.0.1-preview.1/lib/netstandard2.0/System.Reactive.Linq.dll\"\n",
    "#r @\"../../../../../../../.nuget/packages/argu/6.2.2/lib/netstandard2.0/Argu.dll\"\n",
    "#r @\"../../../../../../../.nuget/packages/system.commandline/2.0.0-beta4.22272.1/lib/net6.0/System.CommandLine.dll\""
   ]
  },
  {
   "cell_type": "code",
   "execution_count": null,
   "metadata": {
    "dotnet_interactive": {
     "language": "fsharp"
    },
    "polyglot_notebook": {
     "kernelName": "fsharp"
    }
   },
   "outputs": [],
   "source": [
    "#!import ../../lib/fsharp/Common.fs\n",
    "#!import ../../lib/fsharp/CommonFSharp.fs\n",
    "#!import ../../lib/fsharp/Async.fs\n",
    "#!import ../../lib/fsharp/AsyncSeq.fs\n",
    "#!import ../../lib/fsharp/Runtime.fs"
   ]
  },
  {
   "cell_type": "code",
   "execution_count": null,
   "metadata": {
    "dotnet_interactive": {
     "language": "fsharp"
    },
    "polyglot_notebook": {
     "kernelName": "fsharp"
    }
   },
   "outputs": [],
   "source": [
    "open Common"
   ]
  },
  {
   "cell_type": "markdown",
   "metadata": {},
   "source": [
    "## Operators"
   ]
  },
  {
   "cell_type": "code",
   "execution_count": null,
   "metadata": {
    "dotnet_interactive": {
     "language": "fsharp"
    },
    "polyglot_notebook": {
     "kernelName": "fsharp"
    }
   },
   "outputs": [],
   "source": [
    "module Operators =\n",
    "    let inline (</>) a b =\n",
    "        System.IO.Path.Combine (a, b)"
   ]
  },
  {
   "cell_type": "code",
   "execution_count": null,
   "metadata": {
    "dotnet_interactive": {
     "language": "fsharp"
    },
    "polyglot_notebook": {
     "kernelName": "fsharp"
    }
   },
   "outputs": [],
   "source": [
    "open Operators"
   ]
  },
  {
   "cell_type": "markdown",
   "metadata": {},
   "source": [
    "## createTempDirectoryName"
   ]
  },
  {
   "cell_type": "code",
   "execution_count": null,
   "metadata": {
    "dotnet_interactive": {
     "language": "fsharp"
    },
    "polyglot_notebook": {
     "kernelName": "fsharp"
    }
   },
   "outputs": [],
   "source": [
    "let inline createTempDirectoryName () =\n",
    "    let root = System.Reflection.Assembly.GetEntryAssembly().GetName().Name\n",
    "\n",
    "    System.IO.Path.GetTempPath ()\n",
    "    </> $\"!{root}\"\n",
    "    </> string (newGuidFromDateTime System.DateTime.Now)"
   ]
  },
  {
   "cell_type": "code",
   "execution_count": null,
   "metadata": {
    "dotnet_interactive": {
     "language": "fsharp"
    },
    "polyglot_notebook": {
     "kernelName": "fsharp"
    }
   },
   "outputs": [
    {
     "name": "stdout",
     "output_type": "stream",
     "text": [
      "/tmp/!dotnet-repl/20240320-1220-2457-5784-55cb8b83fa26\n"
     ]
    }
   ],
   "source": [
    "//// test\n",
    "\n",
    "createTempDirectoryName ()\n",
    "|> _contains System.IO.Path.DirectorySeparatorChar"
   ]
  },
  {
   "cell_type": "markdown",
   "metadata": {},
   "source": [
    "## createTempDirectory"
   ]
  },
  {
   "cell_type": "code",
   "execution_count": null,
   "metadata": {
    "dotnet_interactive": {
     "language": "fsharp"
    },
    "polyglot_notebook": {
     "kernelName": "fsharp"
    }
   },
   "outputs": [],
   "source": [
    "let inline createTempDirectory () =\n",
    "    let tempFolder = createTempDirectoryName ()\n",
    "    let result = System.IO.Directory.CreateDirectory tempFolder\n",
    "\n",
    "    if not result.Exists then\n",
    "        let getLocals () =\n",
    "            $\"tempFolder: {tempFolder} / result: {({|\n",
    "                Exists = result.Exists\n",
    "                CreationTime = result.CreationTime\n",
    "            |})} {getLocals ()}\"\n",
    "\n",
    "        trace Debug (fun () -> \"createTempDirectory\") getLocals\n",
    "\n",
    "    tempFolder"
   ]
  },
  {
   "cell_type": "code",
   "execution_count": null,
   "metadata": {
    "dotnet_interactive": {
     "language": "fsharp"
    },
    "polyglot_notebook": {
     "kernelName": "fsharp"
    }
   },
   "outputs": [
    {
     "name": "stdout",
     "output_type": "stream",
     "text": [
      "True\n"
     ]
    }
   ],
   "source": [
    "//// test\n",
    "\n",
    "let tempDirectory = createTempDirectory ()\n",
    "\n",
    "Directory.Exists tempDirectory\n",
    "|> _assert_eq true"
   ]
  },
  {
   "cell_type": "markdown",
   "metadata": {},
   "source": [
    "## getSourceDirectory"
   ]
  },
  {
   "cell_type": "code",
   "execution_count": null,
   "metadata": {
    "dotnet_interactive": {
     "language": "fsharp"
    },
    "polyglot_notebook": {
     "kernelName": "fsharp"
    }
   },
   "outputs": [],
   "source": [
    "let getSourceDirectory =\n",
    "    fun () -> __SOURCE_DIRECTORY__\n",
    "    |> memoize"
   ]
  },
  {
   "cell_type": "code",
   "execution_count": null,
   "metadata": {
    "dotnet_interactive": {
     "language": "fsharp"
    },
    "polyglot_notebook": {
     "kernelName": "fsharp"
    }
   },
   "outputs": [
    {
     "name": "stdout",
     "output_type": "stream",
     "text": [
      "fsharp\n"
     ]
    }
   ],
   "source": [
    "//// test\n",
    "\n",
    "getSourceDirectory ()\n",
    "|> System.IO.DirectoryInfo\n",
    "|> fun dir -> dir.Name\n",
    "|> _assert_eq \"fsharp\""
   ]
  },
  {
   "cell_type": "markdown",
   "metadata": {},
   "source": [
    "## findParent"
   ]
  },
  {
   "cell_type": "code",
   "execution_count": null,
   "metadata": {
    "dotnet_interactive": {
     "language": "fsharp"
    },
    "polyglot_notebook": {
     "kernelName": "fsharp"
    }
   },
   "outputs": [],
   "source": [
    "let inline findParent name isFile rootDir =\n",
    "    let rec loop dir =\n",
    "        if dir </> name |> (if isFile then System.IO.File.Exists else System.IO.Directory.Exists)\n",
    "        then dir\n",
    "        else\n",
    "            dir\n",
    "            |> System.IO.Directory.GetParent\n",
    "            |> function\n",
    "                | null -> failwith $\"\"\"No parent for {if isFile then \"file\" else \"dir\"} '{name}' at '{rootDir}'\"\"\"\n",
    "                | parent -> parent.FullName |> loop\n",
    "    loop rootDir"
   ]
  },
  {
   "cell_type": "code",
   "execution_count": null,
   "metadata": {
    "dotnet_interactive": {
     "language": "fsharp"
    },
    "polyglot_notebook": {
     "kernelName": "fsharp"
    }
   },
   "outputs": [
    {
     "name": "stdout",
     "output_type": "stream",
     "text": [
      "polyglot\n"
     ]
    }
   ],
   "source": [
    "//// test\n",
    "\n",
    "getSourceDirectory () |> findParent \".paket\" false\n",
    "|> System.IO.DirectoryInfo\n",
    "|> fun dir -> dir.Name\n",
    "|> _assert_eq \"polyglot\""
   ]
  },
  {
   "cell_type": "code",
   "execution_count": null,
   "metadata": {
    "dotnet_interactive": {
     "language": "fsharp"
    },
    "polyglot_notebook": {
     "kernelName": "fsharp"
    }
   },
   "outputs": [
    {
     "name": "stdout",
     "output_type": "stream",
     "text": [
      "polyglot\n"
     ]
    }
   ],
   "source": [
    "//// test\n",
    "\n",
    "getSourceDirectory () |> findParent \"paket.dependencies\" true\n",
    "|> System.IO.DirectoryInfo\n",
    "|> fun dir -> dir.Name\n",
    "|> _assert_eq \"polyglot\""
   ]
  },
  {
   "cell_type": "markdown",
   "metadata": {},
   "source": [
    "## readAllTextAsync"
   ]
  },
  {
   "cell_type": "code",
   "execution_count": null,
   "metadata": {
    "dotnet_interactive": {
     "language": "fsharp"
    },
    "polyglot_notebook": {
     "kernelName": "fsharp"
    }
   },
   "outputs": [],
   "source": [
    "let inline readAllTextAsync path =\n",
    "    path |> System.IO.File.ReadAllTextAsync |> Async.AwaitTask"
   ]
  },
  {
   "cell_type": "markdown",
   "metadata": {},
   "source": [
    "## fileExistsContent"
   ]
  },
  {
   "cell_type": "code",
   "execution_count": null,
   "metadata": {
    "dotnet_interactive": {
     "language": "fsharp"
    },
    "polyglot_notebook": {
     "kernelName": "fsharp"
    }
   },
   "outputs": [],
   "source": [
    "let inline fileExistsContent path content = async {\n",
    "    if path |> System.IO.File.Exists |> not\n",
    "    then return false\n",
    "    else\n",
    "        let! existingContent = path |> readAllTextAsync\n",
    "        return content = existingContent\n",
    "}"
   ]
  },
  {
   "cell_type": "markdown",
   "metadata": {},
   "source": [
    "## writeAllTextAsync"
   ]
  },
  {
   "cell_type": "code",
   "execution_count": null,
   "metadata": {
    "dotnet_interactive": {
     "language": "fsharp"
    },
    "polyglot_notebook": {
     "kernelName": "fsharp"
    }
   },
   "outputs": [],
   "source": [
    "let inline writeAllTextAsync path contents =\n",
    "    System.IO.File.WriteAllTextAsync (path, contents) |> Async.AwaitTask"
   ]
  },
  {
   "cell_type": "markdown",
   "metadata": {},
   "source": [
    "## writeAllTextExists"
   ]
  },
  {
   "cell_type": "code",
   "execution_count": null,
   "metadata": {
    "dotnet_interactive": {
     "language": "fsharp"
    },
    "polyglot_notebook": {
     "kernelName": "fsharp"
    }
   },
   "outputs": [],
   "source": [
    "let inline writeAllTextExists path contents = async {\n",
    "    let! exists = contents |> fileExistsContent path\n",
    "    if not exists\n",
    "    then do! contents |> writeAllTextAsync path\n",
    "}"
   ]
  },
  {
   "cell_type": "markdown",
   "metadata": {},
   "source": [
    "## waitForFileAccess"
   ]
  },
  {
   "cell_type": "code",
   "execution_count": null,
   "metadata": {
    "dotnet_interactive": {
     "language": "fsharp"
    },
    "polyglot_notebook": {
     "kernelName": "fsharp"
    }
   },
   "outputs": [],
   "source": [
    "let inline waitForFileAccess access path =\n",
    "    let fileAccess, fileShare =\n",
    "        access\n",
    "        |> Option.defaultValue (System.IO.FileAccess.ReadWrite, System.IO.FileShare.Read)\n",
    "\n",
    "    let rec loop retry = async {\n",
    "        try\n",
    "            use _ = new System.IO.FileStream (\n",
    "                path,\n",
    "                System.IO.FileMode.Open,\n",
    "                fileAccess,\n",
    "                fileShare\n",
    "            )\n",
    "            return retry\n",
    "        with ex ->\n",
    "            if retry % 100 = 0 then\n",
    "                let getLocals () = $\"path: {path |> System.IO.Path.GetFileName} / ex: {ex |> printException} / {getLocals ()}\"\n",
    "                trace Debug (fun () -> \"waitForFileAccess\") getLocals\n",
    "            do! Async.Sleep 10\n",
    "            return! loop (retry + 1)\n",
    "    }\n",
    "    loop 0"
   ]
  },
  {
   "cell_type": "code",
   "execution_count": null,
   "metadata": {
    "dotnet_interactive": {
     "language": "fsharp"
    },
    "polyglot_notebook": {
     "kernelName": "fsharp"
    }
   },
   "outputs": [
    {
     "name": "stdout",
     "output_type": "stream",
     "text": [
      "00:00:00 #1 [Debug] 1\n",
      "00:00:00 #2 [Debug] 2\n",
      "00:00:00 #3 [Debug] _1\n",
      "00:00:00 #4 [Debug] 3\n",
      "00:00:00 #5 [Debug] _2\n",
      "00:00:00 #6 [Debug] 4\n",
      "00:00:00 #7 [Debug] waitForFileAccess / path: test.txt / ex: System.IO.IOException: The process cannot access the file '/tmp/!dotnet-repl/20240320-1220-2508-0871-07cbe84e3739/test.txt' because it is being used by another process.\n",
      "00:00:01 #8 [Debug] waitForFileAccess / path: test.txt / ex: System.IO.IOException: The process cannot access the file '/tmp/!dotnet-repl/20240320-1220-2508-0871-07cbe84e3739/test.txt' because it is being used by another process.\n",
      "00:00:02 #9 [Debug] _3\n",
      "00:00:02 #10 [Debug] _4\n",
      "00:00:02 #11 [Debug] _5\n",
      "00:00:02 #12 [Debug] _6\n",
      "00:00:02 #13 [Debug] 5\n",
      "00:00:02 #14 [Debug] 6\n",
      "00:00:02 #15 [Debug] 7\n",
      "167\n",
      "167\n",
      "167\n",
      "1\n",
      "True\n"
     ]
    }
   ],
   "source": [
    "//// test\n",
    "\n",
    "let tempFolder = createTempDirectory ()\n",
    "let path = tempFolder </> \"test.txt\"\n",
    "\n",
    "let inline lockFile () = async {\n",
    "    trace Debug (fun () -> \"_1\") getLocals\n",
    "    use stream = new System.IO.FileStream (\n",
    "        path,\n",
    "        System.IO.FileMode.Open,\n",
    "        System.IO.FileAccess.ReadWrite,\n",
    "        System.IO.FileShare.None\n",
    "    )\n",
    "    trace Debug (fun () -> \"_2\") getLocals\n",
    "    do! Async.Sleep 2000\n",
    "    trace Debug (fun () -> \"_3\") getLocals\n",
    "    stream.Seek (0L, SeekOrigin.Begin) |> ignore\n",
    "    trace Debug (fun () -> \"_4\") getLocals\n",
    "    stream.WriteByte 49uy\n",
    "    trace Debug (fun () -> \"_5\") getLocals\n",
    "    stream.Flush ()\n",
    "    trace Debug (fun () -> \"_6\") getLocals\n",
    "}\n",
    "\n",
    "async {\n",
    "    trace Debug (fun () -> \"1\") getLocals\n",
    "    do! \"0\" |> writeAllTextAsync path\n",
    "    trace Debug (fun () -> \"2\") getLocals\n",
    "    let! child = lockFile () |> Async.StartChild\n",
    "    trace Debug (fun () -> \"3\") getLocals\n",
    "    do! Async.Sleep 1\n",
    "    trace Debug (fun () -> \"4\") getLocals\n",
    "    let! retries = path |> waitForFileAccess None\n",
    "    trace Debug (fun () -> \"5\") getLocals\n",
    "    let! text = path |> readAllTextAsync\n",
    "    trace Debug (fun () -> \"6\") getLocals\n",
    "    do! child\n",
    "    trace Debug (fun () -> \"7\") getLocals\n",
    "    return retries, text\n",
    "}\n",
    "|> Async.runWithTimeout 3000\n",
    "|> function\n",
    "    | Some (retries, text) ->\n",
    "        retries\n",
    "        |> _isBetween\n",
    "            (if Runtime.isWindows () then 100 else 100)\n",
    "            (if Runtime.isWindows () then 150 else 200)\n",
    "\n",
    "        text |> _assert_eq \"1\"\n",
    "\n",
    "        true\n",
    "    | _ -> false\n",
    "|> _assert_eq true"
   ]
  },
  {
   "cell_type": "markdown",
   "metadata": {},
   "source": [
    "## readAllTextRetryAsync"
   ]
  },
  {
   "cell_type": "code",
   "execution_count": null,
   "metadata": {
    "dotnet_interactive": {
     "language": "fsharp"
    },
    "polyglot_notebook": {
     "kernelName": "fsharp"
    }
   },
   "outputs": [],
   "source": [
    "let inline readAllTextRetryAsync fullPath =\n",
    "    let rec loop retry = async {\n",
    "        try\n",
    "            if retry > 0\n",
    "            then do!\n",
    "                fullPath\n",
    "                |> waitForFileAccess (Some (\n",
    "                    System.IO.FileAccess.Read,\n",
    "                    System.IO.FileShare.Read\n",
    "                ))\n",
    "                |> Async.runWithTimeoutAsync 1000\n",
    "                |> Async.Ignore\n",
    "            return! fullPath |> readAllTextAsync |> Async.map Some\n",
    "        with ex ->\n",
    "            let getLocals () = $\"retry: {retry} / ex: {ex |> printException} / {getLocals ()}\"\n",
    "            trace Debug (fun () -> $\"watchWithFilter / readContent\") getLocals\n",
    "            if retry = 0\n",
    "            then return! loop (retry + 1)\n",
    "            else return None\n",
    "    }\n",
    "    loop 0"
   ]
  },
  {
   "cell_type": "markdown",
   "metadata": {},
   "source": [
    "## deleteDirectoryAsync"
   ]
  },
  {
   "cell_type": "code",
   "execution_count": null,
   "metadata": {
    "dotnet_interactive": {
     "language": "fsharp"
    },
    "polyglot_notebook": {
     "kernelName": "fsharp"
    }
   },
   "outputs": [],
   "source": [
    "let inline deleteDirectoryAsync path =\n",
    "    let rec loop retry = async {\n",
    "        try\n",
    "            System.IO.Directory.Delete (path, true)\n",
    "            return retry\n",
    "        with ex ->\n",
    "            if retry % 100 = 0 then\n",
    "                let getLocals () = $\"path: {path |> System.IO.Path.GetFileName} / ex: {ex |> printException} / {getLocals ()}\"\n",
    "                trace Debug (fun () -> \"deleteDirectoryAsync\") getLocals\n",
    "            do! Async.Sleep 10\n",
    "            return! loop (retry + 1)\n",
    "    }\n",
    "    loop 0"
   ]
  },
  {
   "cell_type": "code",
   "execution_count": null,
   "metadata": {
    "dotnet_interactive": {
     "language": "fsharp"
    },
    "polyglot_notebook": {
     "kernelName": "fsharp"
    }
   },
   "outputs": [
    {
     "name": "stdout",
     "output_type": "stream",
     "text": [
      "00:00:02 #16 [Debug] 1\n",
      "00:00:02 #17 [Debug] 2\n",
      "00:00:02 #18 [Debug] 3\n",
      "00:00:02 #19 [Debug] _1\n",
      "00:00:02 #20 [Debug] _2\n",
      "00:00:02 #21 [Debug] 4\n",
      "00:00:02 #22 [Debug] 5\n",
      "00:00:04 #23 [Debug] _3\n",
      "00:00:04 #24 [Debug] 6\n",
      "0\n",
      "0\n",
      "0\n",
      "True\n"
     ]
    }
   ],
   "source": [
    "//// test\n",
    "\n",
    "let tempFolder = createTempDirectory ()\n",
    "let path = tempFolder </> \"test\"\n",
    "\n",
    "let inline lockDirectory () = async {\n",
    "    trace Debug (fun () -> \"_1\") getLocals\n",
    "    System.IO.File.WriteAllText (path </> \"test.txt\", \"0\")\n",
    "    use _ = new System.IO.FileStream (\n",
    "        path </> \"test.txt\",\n",
    "        System.IO.FileMode.Open,\n",
    "        System.IO.FileAccess.ReadWrite,\n",
    "        System.IO.FileShare.None\n",
    "    )\n",
    "    trace Debug (fun () -> \"_2\") getLocals\n",
    "    do! Async.Sleep 2000\n",
    "    trace Debug (fun () -> \"_3\") getLocals\n",
    "}\n",
    "\n",
    "async {\n",
    "    trace Debug (fun () -> \"1\") getLocals\n",
    "    Directory.CreateDirectory path |> ignore\n",
    "    trace Debug (fun () -> \"2\") getLocals\n",
    "    let! child = lockDirectory () |> Async.StartChild\n",
    "    trace Debug (fun () -> \"3\") getLocals\n",
    "    do! Async.Sleep 60\n",
    "    trace Debug (fun () -> \"4\") getLocals\n",
    "    let! retries = deleteDirectoryAsync path\n",
    "    trace Debug (fun () -> \"5\") getLocals\n",
    "    do! child\n",
    "    trace Debug (fun () -> \"6\") getLocals\n",
    "    return retries\n",
    "}\n",
    "|> Async.runWithTimeout 3000\n",
    "|> function\n",
    "    | Some retries ->\n",
    "        retries\n",
    "        |> _isBetween\n",
    "            (if Runtime.isWindows () then 100 else 0)\n",
    "            (if Runtime.isWindows () then 150 else 0)\n",
    "\n",
    "        true\n",
    "    | _ -> false\n",
    "|> _assert_eq true"
   ]
  },
  {
   "cell_type": "markdown",
   "metadata": {},
   "source": [
    "## deleteFileAsync"
   ]
  },
  {
   "cell_type": "code",
   "execution_count": null,
   "metadata": {
    "dotnet_interactive": {
     "language": "fsharp"
    },
    "polyglot_notebook": {
     "kernelName": "fsharp"
    }
   },
   "outputs": [],
   "source": [
    "let inline deleteFileAsync path =\n",
    "    let rec loop retry = async {\n",
    "        try\n",
    "            System.IO.File.Delete path\n",
    "            return retry\n",
    "        with ex ->\n",
    "            if retry % 100 = 0 then\n",
    "                let getLocals () = $\"path: {path |> System.IO.Path.GetFileName} / ex: {ex |> printException} / {getLocals ()}\"\n",
    "                trace Warning (fun () -> \"deleteFileAsync\") getLocals\n",
    "            do! Async.Sleep 10\n",
    "            return! loop (retry + 1)\n",
    "    }\n",
    "    loop 0"
   ]
  },
  {
   "cell_type": "code",
   "execution_count": null,
   "metadata": {
    "dotnet_interactive": {
     "language": "fsharp"
    },
    "polyglot_notebook": {
     "kernelName": "fsharp"
    }
   },
   "outputs": [
    {
     "name": "stdout",
     "output_type": "stream",
     "text": [
      "00:00:04 #25 [Debug] 1\n",
      "00:00:04 #26 [Debug] 2\n",
      "00:00:04 #27 [Debug] 3\n",
      "00:00:04 #28 [Debug] _1\n",
      "00:00:04 #29 [Debug] _2\n",
      "00:00:04 #30 [Debug] 4\n",
      "00:00:04 #31 [Debug] 5\n",
      "00:00:06 #32 [Debug] _3\n",
      "00:00:06 #33 [Debug] 6\n",
      "0\n",
      "0\n",
      "0\n",
      "True\n"
     ]
    }
   ],
   "source": [
    "//// test\n",
    "\n",
    "let tempFolder = createTempDirectory ()\n",
    "let path = tempFolder </> \"test.txt\"\n",
    "\n",
    "let inline lockFile () = async {\n",
    "    trace Debug (fun () -> \"_1\") getLocals\n",
    "    use _ = new System.IO.FileStream (\n",
    "        path,\n",
    "        System.IO.FileMode.Open,\n",
    "        System.IO.FileAccess.ReadWrite,\n",
    "        System.IO.FileShare.None\n",
    "    )\n",
    "    trace Debug (fun () -> \"_2\") getLocals\n",
    "    do! Async.Sleep 2000\n",
    "    trace Debug (fun () -> \"_3\") getLocals\n",
    "}\n",
    "\n",
    "async {\n",
    "    trace Debug (fun () -> \"1\") getLocals\n",
    "    do! \"0\" |> writeAllTextAsync path\n",
    "    trace Debug (fun () -> \"2\") getLocals\n",
    "    let! child = lockFile () |> Async.StartChild\n",
    "    trace Debug (fun () -> \"3\") getLocals\n",
    "    do! Async.Sleep 1\n",
    "    trace Debug (fun () -> \"4\") getLocals\n",
    "    let! retries = deleteFileAsync path\n",
    "    trace Debug (fun () -> \"5\") getLocals\n",
    "    do! child\n",
    "    trace Debug (fun () -> \"6\") getLocals\n",
    "    return retries\n",
    "}\n",
    "|> Async.runWithTimeout 3000\n",
    "|> function\n",
    "    | Some retries ->\n",
    "        retries\n",
    "        |> _isBetween\n",
    "            (if Runtime.isWindows () then 100 else 0)\n",
    "            (if Runtime.isWindows () then 150 else 0)\n",
    "\n",
    "        true\n",
    "    | _ -> false\n",
    "|> _assert_eq true"
   ]
  },
  {
   "cell_type": "markdown",
   "metadata": {},
   "source": [
    "## moveFileAsync"
   ]
  },
  {
   "cell_type": "code",
   "execution_count": null,
   "metadata": {
    "dotnet_interactive": {
     "language": "fsharp"
    },
    "polyglot_notebook": {
     "kernelName": "fsharp"
    }
   },
   "outputs": [],
   "source": [
    "let inline moveFileAsync newPath oldPath =\n",
    "    let rec loop retry = async {\n",
    "        try\n",
    "            System.IO.File.Move (oldPath, newPath)\n",
    "            return retry\n",
    "        with ex ->\n",
    "            if retry % 100 = 0 then\n",
    "                let getLocals () =\n",
    "                    $\"oldPath: {oldPath |> System.IO.Path.GetFileName} / newPath: {newPath |> System.IO.Path.GetFileName} / ex: {ex |> printException} / {getLocals ()}\"\n",
    "                trace Warning (fun () -> \"moveFileAsync\") getLocals\n",
    "            do! Async.Sleep 10\n",
    "            return! loop (retry + 1)\n",
    "    }\n",
    "    loop 0"
   ]
  },
  {
   "cell_type": "code",
   "execution_count": null,
   "metadata": {
    "dotnet_interactive": {
     "language": "fsharp"
    },
    "polyglot_notebook": {
     "kernelName": "fsharp"
    }
   },
   "outputs": [
    {
     "name": "stdout",
     "output_type": "stream",
     "text": [
      "00:00:06 #34 [Debug] 1\n",
      "00:00:06 #35 [Debug] 2\n",
      "00:00:06 #36 [Debug] 3\n",
      "00:00:06 #37 [Debug] _1\n",
      "00:00:06 #38 [Debug] _2\n",
      "00:00:06 #39 [Debug] 4\n",
      "00:00:06 #40 [Debug] 5\n",
      "00:00:06 #41 [Debug] waitForFileAccess / path: test2.txt / ex: System.IO.IOException: The process cannot access the file '/tmp/!dotnet-repl/20240320-1220-3192-9260-906aa6fd13ed/test2.txt' because it is being used by another process.\n",
      "00:00:08 #42 [Debug] waitForFileAccess / path: test2.txt / ex: System.IO.IOException: The process cannot access the file '/tmp/!dotnet-repl/20240320-1220-3192-9260-906aa6fd13ed/test2.txt' because it is being used by another process.\n",
      "00:00:08 #43 [Debug] _3\n",
      "00:00:08 #44 [Debug] 6\n",
      "00:00:08 #45 [Debug] 7\n",
      "00:00:08 #46 [Debug] 8\n",
      "0\n",
      "0\n",
      "0\n",
      "167\n",
      "167\n",
      "167\n",
      "0\n",
      "True\n"
     ]
    }
   ],
   "source": [
    "//// test\n",
    "\n",
    "let tempFolder = createTempDirectory ()\n",
    "let path = tempFolder </> \"test.txt\"\n",
    "let newPath = tempFolder </> \"test2.txt\"\n",
    "\n",
    "let inline lockFile () = async {\n",
    "    trace Debug (fun () -> \"_1\") getLocals\n",
    "    use _ = new System.IO.FileStream (\n",
    "        path,\n",
    "        System.IO.FileMode.Open,\n",
    "        System.IO.FileAccess.ReadWrite,\n",
    "        System.IO.FileShare.None\n",
    "    )\n",
    "    trace Debug (fun () -> \"_2\") getLocals\n",
    "    do! Async.Sleep 2000\n",
    "    trace Debug (fun () -> \"_3\") getLocals\n",
    "}\n",
    "\n",
    "async {\n",
    "    trace Debug (fun () -> \"1\") getLocals\n",
    "    do! \"0\" |> writeAllTextAsync path\n",
    "    trace Debug (fun () -> \"2\") getLocals\n",
    "    let! child = lockFile () |> Async.StartChild\n",
    "    trace Debug (fun () -> \"3\") getLocals\n",
    "    do! Async.Sleep 1\n",
    "    trace Debug (fun () -> \"4\") getLocals\n",
    "    let! retries1 = path |> moveFileAsync newPath\n",
    "    trace Debug (fun () -> \"5\") getLocals\n",
    "    let! retries2 = newPath |> waitForFileAccess None\n",
    "    trace Debug (fun () -> \"6\") getLocals\n",
    "    let! text = newPath |> readAllTextAsync\n",
    "    trace Debug (fun () -> \"7\") getLocals\n",
    "    do! child\n",
    "    trace Debug (fun () -> \"8\") getLocals\n",
    "    return retries1, retries2, text\n",
    "}\n",
    "|> Async.runWithTimeout 3000\n",
    "|> function\n",
    "    | Some (retries1, retries2, text) ->\n",
    "        retries1\n",
    "        |> _isBetween\n",
    "            (if Runtime.isWindows () then 100 else 0)\n",
    "            (if Runtime.isWindows () then 150 else 0)\n",
    "\n",
    "        retries2\n",
    "        |> _isBetween\n",
    "            (if Runtime.isWindows () then 0 else 100)\n",
    "            (if Runtime.isWindows () then 0 else 200)\n",
    "\n",
    "        text |> _assert_eq \"0\"\n",
    "\n",
    "        true\n",
    "    | _ -> false\n",
    "|> _assert_eq true"
   ]
  },
  {
   "cell_type": "markdown",
   "metadata": {},
   "source": [
    "## watchDirectory"
   ]
  },
  {
   "cell_type": "code",
   "execution_count": null,
   "metadata": {
    "dotnet_interactive": {
     "language": "fsharp"
    },
    "polyglot_notebook": {
     "kernelName": "fsharp"
    }
   },
   "outputs": [],
   "source": [
    "[<RequireQualifiedAccess>]\n",
    "type FileSystemChangeType =\n",
    "    | Failure\n",
    "    | Changed\n",
    "    | Created\n",
    "    | Deleted\n",
    "    | Renamed\n",
    "\n",
    "[<RequireQualifiedAccess>]\n",
    "type FileSystemChange =\n",
    "    | Failure of exn: exn\n",
    "    | Changed of path: string * content: string option\n",
    "    | Created of path: string * content: string option\n",
    "    | Deleted of path: string\n",
    "    | Renamed of oldPath: string * (string * string option)\n",
    "\n",
    "\n",
    "let inline watchDirectoryWithFilter filter shouldReadContent path =\n",
    "    let fullPath = path |> System.IO.Path.GetFullPath\n",
    "    let getLocals () = $\"filter: {filter} / {getLocals ()}\"\n",
    "\n",
    "    let watcher =\n",
    "        new System.IO.FileSystemWatcher (\n",
    "            Path = fullPath,\n",
    "            NotifyFilter = filter,\n",
    "            EnableRaisingEvents = true,\n",
    "            IncludeSubdirectories = true\n",
    "        )\n",
    "\n",
    "    let inline getEventPath (path : string) =\n",
    "        path |> String.trim |> String.replace fullPath \"\" |> String.trimStart [| '/'; '\\\\' |]\n",
    "\n",
    "    let inline ticks () =\n",
    "        System.DateTime.UtcNow.Ticks\n",
    "\n",
    "    let changedStream =\n",
    "        AsyncSeq.subscribeEvent\n",
    "            watcher.Changed\n",
    "            (fun event ->\n",
    "                ticks (),\n",
    "                [ FileSystemChange.Changed (getEventPath event.FullPath, None) ]\n",
    "            )\n",
    "\n",
    "    let deletedStream =\n",
    "        AsyncSeq.subscribeEvent\n",
    "            watcher.Deleted\n",
    "            (fun event ->\n",
    "                ticks (),\n",
    "                [ FileSystemChange.Deleted (getEventPath event.FullPath) ]\n",
    "            )\n",
    "\n",
    "    let createdStream =\n",
    "        AsyncSeq.subscribeEvent\n",
    "            watcher.Created\n",
    "            (fun event ->\n",
    "                let path = getEventPath event.FullPath\n",
    "                ticks (), [\n",
    "                    FileSystemChange.Created (path, None)\n",
    "                    if Runtime.isWindows () then\n",
    "                        FileSystemChange.Changed (path, None)\n",
    "                ])\n",
    "\n",
    "    let renamedStream =\n",
    "        AsyncSeq.subscribeEvent\n",
    "            watcher.Renamed\n",
    "            (fun event ->\n",
    "                ticks (), [\n",
    "                    FileSystemChange.Renamed (\n",
    "                        getEventPath event.OldFullPath,\n",
    "                        (getEventPath event.FullPath, None)\n",
    "                    )\n",
    "                ]\n",
    "            )\n",
    "\n",
    "    let failureStream =\n",
    "        AsyncSeq.subscribeEvent\n",
    "            watcher.Error\n",
    "            (fun event -> ticks (), [ FileSystemChange.Failure (event.GetException ()) ])\n",
    "\n",
    "    let stream =\n",
    "        [\n",
    "            changedStream\n",
    "            deletedStream\n",
    "            createdStream\n",
    "            renamedStream\n",
    "            failureStream\n",
    "        ]\n",
    "        |> FSharp.Control.AsyncSeq.mergeAll\n",
    "        |> FSharp.Control.AsyncSeq.map (fun (t, events) ->\n",
    "            events\n",
    "            |> List.fold\n",
    "                (fun (i, events) event ->\n",
    "                    i + 1L,\n",
    "                    (t + i, event) :: events)\n",
    "                (0L, [])\n",
    "            |> snd\n",
    "            |> List.rev\n",
    "        )\n",
    "        |> FSharp.Control.AsyncSeq.concatSeq\n",
    "        |> FSharp.Control.AsyncSeq.mapAsyncParallel (fun (t, event) -> async {\n",
    "            match shouldReadContent event, event with\n",
    "            | true, FileSystemChange.Changed (path, _) ->\n",
    "                do! Async.Sleep 5\n",
    "                let! content = fullPath </> path |> readAllTextRetryAsync\n",
    "                return t, FileSystemChange.Changed (path, content)\n",
    "            | true, FileSystemChange.Created (path, _) ->\n",
    "                do! Async.Sleep 5\n",
    "                let! content = fullPath </> path |> readAllTextRetryAsync\n",
    "                return t, FileSystemChange.Created (path, content)\n",
    "            | true, FileSystemChange.Renamed (oldPath, (newPath, _)) ->\n",
    "                let! content = fullPath </> newPath |> readAllTextRetryAsync\n",
    "                return t, FileSystemChange.Renamed (oldPath, (newPath, content))\n",
    "            | _ -> return t, event\n",
    "        })\n",
    "\n",
    "    let disposable =\n",
    "        newDisposable (fun () ->\n",
    "            trace Debug (fun () -> \"watchWithFilter / Disposing watch stream\") getLocals\n",
    "            watcher.EnableRaisingEvents <- false\n",
    "            watcher.Dispose ()\n",
    "        )\n",
    "\n",
    "    stream, disposable\n",
    "\n",
    "let inline watchDirectory path =\n",
    "    watchDirectoryWithFilter\n",
    "        (System.IO.NotifyFilters.FileName\n",
    "        // ||| System.IO.NotifyFilters.DirectoryName\n",
    "        // ||| System.IO.NotifyFilters.Attributes\n",
    "        //// ||| System.IO.NotifyFilters.Size\n",
    "        ||| System.IO.NotifyFilters.LastWrite\n",
    "        //// ||| System.IO.NotifyFilters.LastAccess\n",
    "        // ||| System.IO.NotifyFilters.CreationTime\n",
    "        // ||| System.IO.NotifyFilters.Security\n",
    "        )\n",
    "        path"
   ]
  },
  {
   "cell_type": "markdown",
   "metadata": {},
   "source": [
    "### testEventsRaw (test)"
   ]
  },
  {
   "cell_type": "code",
   "execution_count": null,
   "metadata": {
    "dotnet_interactive": {
     "language": "fsharp"
    },
    "polyglot_notebook": {
     "kernelName": "fsharp"
    }
   },
   "outputs": [],
   "source": [
    "//// test\n",
    "\n",
    "let inline testEventsRaw\n",
    "    (watchFn : (_ -> bool) -> string -> FSharp.Control.AsyncSeq<int64 * FileSystemChange> * IDisposable)\n",
    "    write\n",
    "    =\n",
    "    let tempDirectory = createTempDirectory ()\n",
    "    let stream, disposable = watchFn (fun _ -> true) tempDirectory\n",
    "\n",
    "    let events = System.Collections.Concurrent.ConcurrentBag ()\n",
    "\n",
    "    let inline iter () =\n",
    "        stream\n",
    "        |> FSharp.Control.AsyncSeq.iterAsyncParallel (fun event -> async { events.Add event })\n",
    "\n",
    "    let run = async {\n",
    "        let! _ = iter () |> Async.StartChild\n",
    "        do! Async.Sleep 250\n",
    "        return! write tempDirectory\n",
    "    }\n",
    "\n",
    "    try\n",
    "        run\n",
    "        |> Async.runWithTimeout 60000\n",
    "        |> _assert_eq (Some ())\n",
    "    finally\n",
    "        disposable.Dispose ()\n",
    "        deleteDirectoryAsync tempDirectory |> Async.Ignore |> Async.RunSynchronously\n",
    "\n",
    "    let eventsLog =\n",
    "        events\n",
    "        |> Seq.toList\n",
    "        |> List.sortBy fst\n",
    "        |> List.fold\n",
    "            (fun (prev, acc) (ticks, event) ->\n",
    "                ticks, (ticks, (if prev = 0L then 0L else ticks - prev), event) :: acc\n",
    "            )\n",
    "            (0L, [])\n",
    "        |> snd\n",
    "        |> List.rev\n",
    "        |> List.map (fun (diff, n, event) ->\n",
    "            let text = $\"{n} / {diff} / {event}\"\n",
    "            if text |> String.length <= 100\n",
    "            then text\n",
    "            else text |> String.substring 0 100 |> String.replace \"\\n\" \"\"\n",
    "        )\n",
    "        |> String.concat \"\\n\"\n",
    "    let getLocals () = $\"eventsLog: \\n{eventsLog} / {getLocals ()}\"\n",
    "    trace Debug (fun () -> \"testEventsRaw\") getLocals\n",
    "\n",
    "    events\n",
    "    |> Seq.toList\n",
    "    |> List.sortBy fst\n",
    "    |> List.map snd\n",
    "    |> List.fold\n",
    "        (fun acc event ->\n",
    "            match acc, event with\n",
    "            | FileSystemChange.Changed (lastPath, Some lastContent) as lastEvent :: acc,\n",
    "                FileSystemChange.Changed (path, Some content)\n",
    "                when lastPath = path && content |> String.startsWith lastContent\n",
    "                ->\n",
    "                event :: acc\n",
    "            | _ -> event :: acc\n",
    "        )\n",
    "        []\n",
    "    |> List.rev"
   ]
  },
  {
   "cell_type": "markdown",
   "metadata": {},
   "source": [
    "#### fast (test)"
   ]
  },
  {
   "cell_type": "code",
   "execution_count": null,
   "metadata": {
    "dotnet_interactive": {
     "language": "fsharp"
    },
    "polyglot_notebook": {
     "kernelName": "fsharp"
    }
   },
   "outputs": [
    {
     "name": "stdout",
     "output_type": "stream",
     "text": [
      "FSharpOption<Unit>\n",
      "      Value: <null>\n",
      "00:00:13 #47 [Debug] watchWithFilter / Disposing watch stream / filter: FileName, LastWrite\n",
      "00:00:13 #48 [Debug] testEventsRaw / eventsLog: \n",
      "0 / 638465340370268991 / Created (\"file1.txt\", Some \"a1\")\n",
      "13006 / 638465340370281997 / Changed (\"file1.txt\", Some \"a1\")\n",
      "1487 / 638465340370283484 / Created (\"file2.txt\", Some \"a2\")\n",
      "68 / 638465340370283552 / Changed (\"file2.txt\", Some \"a2\")\n",
      "2527167 / 638465340372810719 / Changed (\"file1.txt\", Some \"b1\")\n",
      "710 / 638465340372811429 / Changed (\"file1.txt\", Some \"b1\")\n",
      "4783 / 638465340372816212 / Changed (\"file2.txt\", Some \"b2\")\n",
      "177 / 638465340372816389 / Changed (\"file2.txt\", Some \"b2\")\n",
      "2536361 / 638465340375352750 / Renamed (\"file1.txt\", (\"file_1.txt\", Some \"b1\"))\n",
      "1496 / 638465340375354246 / Renamed (\"file2.txt\", (\"file_2.txt\", Some \"b2\"))\n",
      "2548892 / 638465340377903138 / Changed (\"file_1.txt\", Some \"c1\")\n",
      "680 / 638465340377903818 / Changed (\"file_1.txt\", Some \"c1\")\n",
      "4905 / 638465340377908723 / Changed (\"file_2.txt\", Some \"c2\")\n",
      "199 / 638465340377908922 / Changed (\"file_2.txt\", Some \"c2\")\n",
      "2554014 / 638465340380462936 / Deleted \"file_1.txt\"\n",
      "1065 / 638465340380464001 / Deleted \"file_2.txt\"\n",
      "FSharpList<FileSystemChange>\n",
      "      - path: file1.txt\n",
      "        content: FSharpOption<String>\n",
      "          Value: a1\n",
      "        IsFailure: False\n",
      "        IsChanged: False\n",
      "        IsCreated: True\n",
      "        IsDeleted: False\n",
      "        IsRenamed: False\n",
      "      - path: file1.txt\n",
      "        content: FSharpOption<String>\n",
      "          Value: a1\n",
      "        IsFailure: False\n",
      "        IsChanged: True\n",
      "        IsCreated: False\n",
      "        IsDeleted: False\n",
      "        IsRenamed: False\n",
      "      - path: file2.txt\n",
      "        content: FSharpOption<String>\n",
      "          Value: a2\n",
      "        IsFailure: False\n",
      "        IsChanged: False\n",
      "        IsCreated: True\n",
      "        IsDeleted: False\n",
      "        IsRenamed: False\n",
      "      - path: file2.txt\n",
      "        content: FSharpOption<String>\n",
      "          Value: a2\n",
      "        IsFailure: False\n",
      "        IsChanged: True\n",
      "        IsCreated: False\n",
      "        IsDeleted: False\n",
      "        IsRenamed: False\n",
      "      - path: file1.txt\n",
      "        content: FSharpOption<String>\n",
      "          Value: b1\n",
      "        IsFailure: False\n",
      "        IsChanged: True\n",
      "        IsCreated: False\n",
      "        IsDeleted: False\n",
      "        IsRenamed: False\n",
      "      - path: file2.txt\n",
      "        content: FSharpOption<String>\n",
      "          Value: b2\n",
      "        IsFailure: False\n",
      "        IsChanged: True\n",
      "        IsCreated: False\n",
      "        IsDeleted: False\n",
      "        IsRenamed: False\n",
      "      - oldPath: file1.txt\n",
      "        Item2:         - file_1.txt\n",
      "        - FSharpOption<String>\n",
      "            Value: b1\n",
      "      - IsFailure: False\n",
      "        IsChanged: False\n",
      "        IsCreated: False\n",
      "        IsDeleted: False\n",
      "        IsRenamed: True\n",
      "      - oldPath: file2.txt\n",
      "        Item2:         - file_2.txt\n",
      "        - FSharpOption<String>\n",
      "            Value: b2\n",
      "      - IsFailure: False\n",
      "        IsChanged: False\n",
      "        IsCreated: False\n",
      "        IsDeleted: False\n",
      "        IsRenamed: True\n",
      "      - path: file_1.txt\n",
      "        content: FSharpOption<String>\n",
      "          Value: c1\n",
      "        IsFailure: False\n",
      "        IsChanged: True\n",
      "        IsCreated: False\n",
      "        IsDeleted: False\n",
      "        IsRenamed: False\n",
      "      - path: file_2.txt\n",
      "        content: FSharpOption<String>\n",
      "          Value: c2\n",
      "        IsFailure: False\n",
      "        IsChanged: True\n",
      "        IsCreated: False\n",
      "        IsDeleted: False\n",
      "        IsRenamed: False\n",
      "      - path: file_1.txt\n",
      "        IsFailure: False\n",
      "        IsChanged: False\n",
      "        IsCreated: False\n",
      "        IsDeleted: True\n",
      "        IsRenamed: False\n",
      "      - path: file_2.txt\n",
      "        IsFailure: False\n",
      "        IsChanged: False\n",
      "        IsCreated: False\n",
      "        IsDeleted: True\n",
      "        IsRenamed: False\n",
      "FSharpOption<Unit>\n",
      "      Value: <null>\n"
     ]
    }
   ],
   "source": [
    "//// test\n",
    "\n",
    "let inline write path = async {\n",
    "    let n = 2\n",
    "\n",
    "    for i = 1 to n do\n",
    "        do! $\"a{i}\" |> writeAllTextAsync (path </> $\"file{i}.txt\")\n",
    "\n",
    "    do! Async.Sleep 250\n",
    "\n",
    "    for i = 1 to n do\n",
    "        do! $\"b{i}\" |> writeAllTextAsync (path </> $\"file{i}.txt\")\n",
    "\n",
    "    do! Async.Sleep 250\n",
    "\n",
    "    for i = 1 to n do\n",
    "        do! path </> $\"file{i}.txt\" |> moveFileAsync (path </> $\"file_{i}.txt\") |> Async.Ignore\n",
    "\n",
    "    do! Async.Sleep 250\n",
    "\n",
    "    for i = 1 to n do\n",
    "        do! $\"c{i}\" |> writeAllTextAsync (path </> $\"file_{i}.txt\")\n",
    "\n",
    "    do! Async.Sleep 250\n",
    "\n",
    "    for i = 1 to n do\n",
    "        do! deleteFileAsync (path </> $\"file_{i}.txt\") |> Async.Ignore\n",
    "\n",
    "    do! Async.Sleep 250\n",
    "}\n",
    "\n",
    "let inline run () =\n",
    "    let events = testEventsRaw watchDirectory write\n",
    "\n",
    "    events\n",
    "    |> _sequenceEqual [\n",
    "        FileSystemChange.Created (\"file1.txt\", Some \"a1\")\n",
    "        FileSystemChange.Changed (\"file1.txt\", Some \"a1\")\n",
    "        FileSystemChange.Created (\"file2.txt\", Some \"a2\")\n",
    "        FileSystemChange.Changed (\"file2.txt\", Some \"a2\")\n",
    "\n",
    "        FileSystemChange.Changed (\"file1.txt\", Some \"b1\")\n",
    "        FileSystemChange.Changed (\"file2.txt\", Some \"b2\")\n",
    "\n",
    "        FileSystemChange.Renamed (\"file1.txt\", (\"file_1.txt\", Some \"b1\"))\n",
    "        FileSystemChange.Renamed (\"file2.txt\", (\"file_2.txt\", Some \"b2\"))\n",
    "\n",
    "        FileSystemChange.Changed (\"file_1.txt\", Some \"c1\")\n",
    "        FileSystemChange.Changed (\"file_2.txt\", Some \"c2\")\n",
    "\n",
    "        FileSystemChange.Deleted \"file_1.txt\"\n",
    "        FileSystemChange.Deleted \"file_2.txt\"\n",
    "    ]\n",
    "\n",
    "run\n",
    "|> retryFn 3\n",
    "|> _assert_eq (Some ())"
   ]
  },
  {
   "cell_type": "markdown",
   "metadata": {},
   "source": [
    "#### slow (test)"
   ]
  },
  {
   "cell_type": "code",
   "execution_count": null,
   "metadata": {
    "dotnet_interactive": {
     "language": "fsharp"
    },
    "polyglot_notebook": {
     "kernelName": "fsharp"
    }
   },
   "outputs": [
    {
     "name": "stdout",
     "output_type": "stream",
     "text": [
      "FSharpOption<Unit>\n",
      "      Value: <null>\n",
      "00:00:23 #49 [Debug] watchWithFilter / Disposing watch stream / filter: FileName, LastWrite\n",
      "00:00:26 #50 [Debug] testEventsRaw / eventsLog: \n",
      "0 / 638465340410558271 / Created  (\"file1.txt\",   Some     \"1111111111111111111111111111111111111\n",
      "2842 / 638465340410561113 / Changed  (\"file1.txt\",   Some     \"1111111111111111111111111111111111\n",
      "230 / 638465340410561343 / Changed  (\"file1.txt\",   Some     \"11111111111111111111111111111111111\n",
      "231 / 638465340410561574 / Changed  (\"file1.txt\",   Some     \"11111111111111111111111111111111111\n",
      "226 / 638465340410561800 / Changed  (\"file1.txt\",   Some     \"11111111111111111111111111111111111\n",
      "232 / 638465340410562032 / Changed  (\"file1.txt\",   Some     \"11111111111111111111111111111111111\n",
      "314 / 638465340410562346 / Changed  (\"file1.txt\",   Some     \"11111111111111111111111111111111111\n",
      "81 / 638465340410562427 / Changed  (\"file1.txt\",   Some     \"111111111111111111111111111111111111\n",
      "265 / 638465340410562692 / Changed  (\"file1.txt\",   Some     \"11111111111111111111111111111111111\n",
      "224 / 638465340410562916 / Changed  (\"file1.txt\",   Some     \"11111111111111111111111111111111111\n",
      "151 / 638465340410563067 / Changed  (\"file1.txt\",   Some     \"11111111111111111111111111111111111\n",
      "497 / 638465340410563564 / Changed  (\"file1.txt\",   Some     \"11111111111111111111111111111111111\n",
      "203 / 638465340410563767 / Changed  (\"file1.txt\",   Some     \"11111111111111111111111111111111111\n",
      "231 / 638465340410563998 / Changed  (\"file1.txt\",   Some     \"11111111111111111111111111111111111\n",
      "255 / 638465340410564253 / Changed  (\"file1.txt\",   Some     \"11111111111111111111111111111111111\n",
      "221 / 638465340410564474 / Changed  (\"file1.txt\",   Some     \"11111111111111111111111111111111111\n",
      "120 / 638465340410564594 / Changed  (\"file1.txt\",   Some     \"11111111111111111111111111111111111\n",
      "263 / 638465340410564857 / Changed  (\"file1.txt\",   Some     \"11111111111111111111111111111111111\n",
      "109 / 638465340410564966 / Changed  (\"file1.txt\",   Some     \"11111111111111111111111111111111111\n",
      "275 / 638465340410565241 / Changed  (\"file1.txt\",   Some     \"11111111111111111111111111111111111\n",
      "138 / 638465340410565379 / Changed  (\"file1.txt\",   Some     \"11111111111111111111111111111111111\n",
      "240 / 638465340410565619 / Changed  (\"file1.txt\",   Some     \"11111111111111111111111111111111111\n",
      "250 / 638465340410565869 / Changed  (\"file1.txt\",   Some     \"11111111111111111111111111111111111\n",
      "166 / 638465340410566035 / Changed  (\"file1.txt\",   Some     \"11111111111111111111111111111111111\n",
      "279 / 638465340410566314 / Changed  (\"file1.txt\",   Some     \"11111111111111111111111111111111111\n",
      "274 / 638465340410566588 / Changed  (\"file1.txt\",   Some     \"11111111111111111111111111111111111\n",
      "199 / 638465340410566787 / Changed  (\"file1.txt\",   Some     \"11111111111111111111111111111111111\n",
      "243 / 638465340410567030 / Changed  (\"file1.txt\",   Some     \"11111111111111111111111111111111111\n",
      "152 / 638465340410567182 / Changed  (\"file1.txt\",   Some     \"11111111111111111111111111111111111\n",
      "258 / 638465340410567440 / Changed  (\"file1.txt\",   Some     \"11111111111111111111111111111111111\n",
      "267 / 638465340410567707 / Changed  (\"file1.txt\",   Some     \"11111111111111111111111111111111111\n",
      "240 / 638465340410567947 / Changed  (\"file1.txt\",   Some     \"11111111111111111111111111111111111\n",
      "185 / 638465340410568132 / Changed  (\"file1.txt\",   Some     \"11111111111111111111111111111111111\n",
      "189 / 638465340410568321 / Changed  (\"file1.txt\",   Some     \"11111111111111111111111111111111111\n",
      "235 / 638465340410568556 / Changed  (\"file1.txt\",   Some     \"11111111111111111111111111111111111\n",
      "239 / 638465340410568795 / Changed  (\"file1.txt\",   Some     \"11111111111111111111111111111111111\n",
      "202 / 638465340410568997 / Changed  (\"file1.txt\",   Some     \"11111111111111111111111111111111111\n",
      "267 / 638465340410569264 / Changed  (\"file1.txt\",   Some     \"11111111111111111111111111111111111\n",
      "206 / 638465340410569470 / Changed  (\"file1.txt\",   Some     \"11111111111111111111111111111111111\n",
      "191 / 638465340410569661 / Changed  (\"file1.txt\",   Some     \"11111111111111111111111111111111111\n",
      "211 / 638465340410569872 / Changed  (\"file1.txt\",   Some     \"11111111111111111111111111111111111\n",
      "196 / 638465340410570068 / Changed  (\"file1.txt\",   Some     \"11111111111111111111111111111111111\n",
      "236 / 638465340410570304 / Changed  (\"file1.txt\",   Some     \"11111111111111111111111111111111111\n",
      "135 / 638465340410570439 / Changed  (\"file1.txt\",   Some     \"11111111111111111111111111111111111\n",
      "241 / 638465340410570680 / Changed  (\"file1.txt\",   Some     \"11111111111111111111111111111111111\n",
      "173 / 638465340410570853 / Changed  (\"file1.txt\",   Some     \"11111111111111111111111111111111111\n",
      "228 / 638465340410571081 / Changed  (\"file1.txt\",   Some     \"11111111111111111111111111111111111\n",
      "153 / 638465340410571234 / Changed  (\"file1.txt\",   Some     \"11111111111111111111111111111111111\n",
      "239 / 638465340410571473 / Changed  (\"file1.txt\",   Some     \"11111111111111111111111111111111111\n",
      "193 / 638465340410571666 / Changed  (\"file1.txt\",   Some     \"11111111111111111111111111111111111\n",
      "204 / 638465340410571870 / Changed  (\"file1.txt\",   Some     \"11111111111111111111111111111111111\n",
      "131 / 638465340410572001 / Changed  (\"file1.txt\",   Some     \"11111111111111111111111111111111111\n",
      "233 / 638465340410572234 / Changed  (\"file1.txt\",   Some     \"11111111111111111111111111111111111\n",
      "189 / 638465340410572423 / Changed  (\"file1.txt\",   Some     \"11111111111111111111111111111111111\n",
      "212 / 638465340410572635 / Changed  (\"file1.txt\",   Some     \"11111111111111111111111111111111111\n",
      "189 / 638465340410572824 / Changed  (\"file1.txt\",   Some     \"11111111111111111111111111111111111\n",
      "200 / 638465340410573024 / Changed  (\"file1.txt\",   Some     \"11111111111111111111111111111111111\n",
      "238 / 638465340410573262 / Changed  (\"file1.txt\",   Some     \"11111111111111111111111111111111111\n",
      "169 / 638465340410573431 / Changed  (\"file1.txt\",   Some     \"11111111111111111111111111111111111\n",
      "196 / 638465340410573627 / Changed  (\"file1.txt\",   Some     \"11111111111111111111111111111111111\n",
      "194 / 638465340410573821 / Changed  (\"file1.txt\",   Some     \"11111111111111111111111111111111111\n",
      "1147 / 638465340410574968 / Changed  (\"file1.txt\",   Some     \"1111111111111111111111111111111111\n",
      "215 / 638465340410575183 / Changed  (\"file1.txt\",   Some     \"11111111111111111111111111111111111\n",
      "313 / 638465340410575496 / Changed  (\"file1.txt\",   Some     \"11111111111111111111111111111111111\n",
      "176 / 638465340410575672 / Changed  (\"file1.txt\",   Some     \"11111111111111111111111111111111111\n",
      "347 / 638465340410576019 / Changed  (\"file1.txt\",   Some     \"11111111111111111111111111111111111\n",
      "799 / 638465340410576818 / Changed  (\"file1.txt\",   Some     \"11111111111111111111111111111111111\n",
      "50 / 638465340410576868 / Changed  (\"file1.txt\",   Some     \"111111111111111111111111111111111111\n",
      "214 / 638465340410577082 / Changed  (\"file1.txt\",   Some     \"11111111111111111111111111111111111\n",
      "39 / 638465340410577121 / Changed  (\"file1.txt\",   Some     \"111111111111111111111111111111111111\n",
      "196 / 638465340410577317 / Changed  (\"file1.txt\",   Some     \"11111111111111111111111111111111111\n",
      "189 / 638465340410577506 / Changed  (\"file1.txt\",   Some     \"11111111111111111111111111111111111\n",
      "159 / 638465340410577665 / Changed  (\"file1.txt\",   Some     \"11111111111111111111111111111111111\n",
      "159 / 638465340410577824 / Changed  (\"file1.txt\",   Some     \"11111111111111111111111111111111111\n",
      "166 / 638465340410577990 / Changed  (\"file1.txt\",   Some     \"11111111111111111111111111111111111\n",
      "178 / 638465340410578168 / Changed  (\"file1.txt\",   Some     \"11111111111111111111111111111111111\n",
      "187 / 638465340410578355 / Changed  (\"file1.txt\",   Some     \"11111111111111111111111111111111111\n",
      "186 / 638465340410578541 / Changed  (\"file1.txt\",   Some     \"11111111111111111111111111111111111\n",
      "178 / 638465340410578719 / Changed  (\"file1.txt\",   Some     \"11111111111111111111111111111111111\n",
      "162 / 638465340410578881 / Changed  (\"file1.txt\",   Some     \"11111111111111111111111111111111111\n",
      "221 / 638465340410579102 / Changed  (\"file1.txt\",   Some     \"11111111111111111111111111111111111\n",
      "151 / 638465340410579253 / Changed  (\"file1.txt\",   Some     \"11111111111111111111111111111111111\n",
      "166 / 638465340410579419 / Changed  (\"file1.txt\",   Some     \"11111111111111111111111111111111111\n",
      "161 / 638465340410579580 / Changed  (\"file1.txt\",   Some     \"11111111111111111111111111111111111\n",
      "186 / 638465340410579766 / Changed  (\"file1.txt\",   Some     \"11111111111111111111111111111111111\n",
      "156 / 638465340410579922 / Changed  (\"file1.txt\",   Some     \"11111111111111111111111111111111111\n",
      "159 / 638465340410580081 / Changed  (\"file1.txt\",   Some     \"11111111111111111111111111111111111\n",
      "155 / 638465340410580236 / Changed  (\"file1.txt\",   Some     \"11111111111111111111111111111111111\n",
      "157 / 638465340410580393 / Changed  (\"file1.txt\",   Some     \"11111111111111111111111111111111111\n",
      "172 / 638465340410580565 / Changed  (\"file1.txt\",   Some     \"11111111111111111111111111111111111\n",
      "158 / 638465340410580723 / Changed  (\"file1.txt\",   Some     \"11111111111111111111111111111111111\n",
      "178 / 638465340410580901 / Changed  (\"file1.txt\",   Some     \"11111111111111111111111111111111111\n",
      "171 / 638465340410581072 / Changed  (\"file1.txt\",   Some     \"11111111111111111111111111111111111\n",
      "101 / 638465340410581173 / Changed  (\"file1.txt\",   Some     \"11111111111111111111111111111111111\n",
      "9697 / 638465340410590870 / Created  (\"file2.txt\",   Some     \"2222222222222222222222222222222222\n",
      "128 / 638465340410590998 / Changed  (\"file2.txt\",   Some     \"22222222222222222222222222222222222\n",
      "272 / 638465340410591270 / Changed  (\"file2.txt\",   Some     \"22222222222222222222222222222222222\n",
      "32313 / 638465340410623583 / Changed  (\"file2.txt\",   Some     \"222222222222222222222222222222222\n",
      "15004884 / 638465340425628467 / Changed  (\"file1.txt\",   Some     \"111111111111111111111111111111\n",
      "269 / 638465340425628736 / Changed  (\"file1.txt\",   Some     \"11111111111111111111111111111111111\n",
      "1084 / 638465340425629820 / Changed  (\"file1.txt\",   Some     \"1111111111111111111111111111111111\n",
      "950 / 638465340425630770 / Changed  (\"file1.txt\",   Some     \"11111111111111111111111111111111111\n",
      "192 / 638465340425630962 / Changed  (\"file1.txt\",   Some     \"11111111111111111111111111111111111\n",
      "244 / 638465340425631206 / Changed  (\"file1.txt\",   Some     \"11111111111111111111111111111111111\n",
      "200 / 638465340425631406 / Changed  (\"file1.txt\",   Some     \"11111111111111111111111111111111111\n",
      "249 / 638465340425631655 / Changed  (\"file1.txt\",   Some     \"11111111111111111111111111111111111\n",
      "222 / 638465340425631877 / Changed  (\"file1.txt\",   Some     \"11111111111111111111111111111111111\n",
      "234 / 638465340425632111 / Changed  (\"file1.txt\",   Some     \"11111111111111111111111111111111111\n",
      "230 / 638465340425632341 / Changed  (\"file1.txt\",   Some     \"11111111111111111111111111111111111\n",
      "210 / 638465340425632551 / Changed  (\"file1.txt\",   Some     \"11111111111111111111111111111111111\n",
      "203 / 638465340425632754 / Changed  (\"file1.txt\",   Some     \"11111111111111111111111111111111111\n",
      "193 / 638465340425632947 / Changed  (\"file1.txt\",   Some     \"11111111111111111111111111111111111\n",
      "198 / 638465340425633145 / Changed  (\"file1.txt\",   Some     \"11111111111111111111111111111111111\n",
      "224 / 638465340425633369 / Changed  (\"file1.txt\",   Some     \"11111111111111111111111111111111111\n",
      "240 / 638465340425633609 / Changed  (\"file1.txt\",   Some     \"11111111111111111111111111111111111\n",
      "250 / 638465340425633859 / Changed  (\"file1.txt\",   Some     \"11111111111111111111111111111111111\n",
      "102 / 638465340425633961 / Changed  (\"file1.txt\",   Some     \"11111111111111111111111111111111111\n",
      "204 / 638465340425634165 / Changed  (\"file1.txt\",   Some     \"11111111111111111111111111111111111\n",
      "188 / 638465340425634353 / Changed  (\"file1.txt\",   Some     \"11111111111111111111111111111111111\n",
      "294 / 638465340425634647 / Changed  (\"file1.txt\",   Some     \"11111111111111111111111111111111111\n",
      "337 / 638465340425634984 / Changed  (\"file1.txt\",   Some     \"11111111111111111111111111111111111\n",
      "212 / 638465340425635196 / Changed  (\"file1.txt\",   Some     \"11111111111111111111111111111111111\n",
      "162 / 638465340425635358 / Changed  (\"file1.txt\",   Some     \"11111111111111111111111111111111111\n",
      "195 / 638465340425635553 / Changed  (\"file1.txt\",   Some     \"11111111111111111111111111111111111\n",
      "235 / 638465340425635788 / Changed  (\"file1.txt\",   Some     \"11111111111111111111111111111111111\n",
      "215 / 638465340425636003 / Changed  (\"file1.txt\",   Some     \"11111111111111111111111111111111111\n",
      "201 / 638465340425636204 / Changed  (\"file1.txt\",   Some     \"11111111111111111111111111111111111\n",
      "512 / 638465340425636716 / Changed  (\"file1.txt\",   Some     \"11111111111111111111111111111111111\n",
      "254 / 638465340425636970 / Changed  (\"file1.txt\",   Some     \"11111111111111111111111111111111111\n",
      "293 / 638465340425637263 / Changed  (\"file1.txt\",   Some     \"11111111111111111111111111111111111\n",
      "269 / 638465340425637532 / Changed  (\"file1.txt\",   Some     \"11111111111111111111111111111111111\n",
      "214 / 638465340425637746 / Changed  (\"file1.txt\",   Some     \"11111111111111111111111111111111111\n",
      "221 / 638465340425637967 / Changed  (\"file1.txt\",   Some     \"11111111111111111111111111111111111\n",
      "218 / 638465340425638185 / Changed  (\"file1.txt\",   Some     \"11111111111111111111111111111111111\n",
      "167 / 638465340425638352 / Changed  (\"file1.txt\",   Some     \"11111111111111111111111111111111111\n",
      "312 / 638465340425638664 / Changed  (\"file1.txt\",   Some     \"11111111111111111111111111111111111\n",
      "239 / 638465340425638903 / Changed  (\"file1.txt\",   Some     \"11111111111111111111111111111111111\n",
      "44 / 638465340425638947 / Changed  (\"file1.txt\",   Some     \"111111111111111111111111111111111111\n",
      "213 / 638465340425639160 / Changed  (\"file1.txt\",   Some     \"11111111111111111111111111111111111\n",
      "213 / 638465340425639373 / Changed  (\"file1.txt\",   Some     \"11111111111111111111111111111111111\n",
      "246 / 638465340425639619 / Changed  (\"file1.txt\",   Some     \"11111111111111111111111111111111111\n",
      "247 / 638465340425639866 / Changed  (\"file1.txt\",   Some     \"11111111111111111111111111111111111\n",
      "191 / 638465340425640057 / Changed  (\"file1.txt\",   Some     \"11111111111111111111111111111111111\n",
      "163 / 638465340425640220 / Changed  (\"file1.txt\",   Some     \"11111111111111111111111111111111111\n",
      "153 / 638465340425640373 / Changed  (\"file1.txt\",   Some     \"11111111111111111111111111111111111\n",
      "211 / 638465340425640584 / Changed  (\"file1.txt\",   Some     \"11111111111111111111111111111111111\n",
      "231 / 638465340425640815 / Changed  (\"file1.txt\",   Some     \"11111111111111111111111111111111111\n",
      "284 / 638465340425641099 / Changed  (\"file1.txt\",   Some     \"11111111111111111111111111111111111\n",
      "210 / 638465340425641309 / Changed  (\"file1.txt\",   Some     \"11111111111111111111111111111111111\n",
      "207 / 638465340425641516 / Changed  (\"file1.txt\",   Some     \"11111111111111111111111111111111111\n",
      "44 / 638465340425641560 / Changed  (\"file1.txt\",   Some     \"111111111111111111111111111111111111\n",
      "289 / 638465340425641849 / Changed  (\"file1.txt\",   Some     \"11111111111111111111111111111111111\n",
      "259 / 638465340425642108 / Changed  (\"file1.txt\",   Some     \"11111111111111111111111111111111111\n",
      "219 / 638465340425642327 / Changed  (\"file1.txt\",   Some     \"11111111111111111111111111111111111\n",
      "40 / 638465340425642367 / Changed  (\"file1.txt\",   Some     \"111111111111111111111111111111111111\n",
      "241 / 638465340425642608 / Changed  (\"file1.txt\",   Some     \"11111111111111111111111111111111111\n",
      "100 / 638465340425642708 / Changed  (\"file1.txt\",   Some     \"11111111111111111111111111111111111\n",
      "210 / 638465340425642918 / Changed  (\"file1.txt\",   Some     \"11111111111111111111111111111111111\n",
      "201 / 638465340425643119 / Changed  (\"file1.txt\",   Some     \"11111111111111111111111111111111111\n",
      "203 / 638465340425643322 / Changed  (\"file1.txt\",   Some     \"11111111111111111111111111111111111\n",
      "197 / 638465340425643519 / Changed  (\"file1.txt\",   Some     \"11111111111111111111111111111111111\n",
      "147 / 638465340425643666 / Changed  (\"file1.txt\",   Some     \"11111111111111111111111111111111111\n",
      "210 / 638465340425643876 / Changed  (\"file1.txt\",   Some     \"11111111111111111111111111111111111\n",
      "250 / 638465340425644126 / Changed  (\"file1.txt\",   Some     \"11111111111111111111111111111111111\n",
      "253 / 638465340425644379 / Changed  (\"file1.txt\",   Some     \"11111111111111111111111111111111111\n",
      "191 / 638465340425644570 / Changed  (\"file1.txt\",   Some     \"11111111111111111111111111111111111\n",
      "93 / 638465340425644663 / Changed  (\"file1.txt\",   Some     \"111111111111111111111111111111111111\n",
      "207 / 638465340425644870 / Changed  (\"file1.txt\",   Some     \"11111111111111111111111111111111111\n",
      "37 / 638465340425644907 / Changed  (\"file1.txt\",   Some     \"111111111111111111111111111111111111\n",
      "244 / 638465340425645151 / Changed  (\"file1.txt\",   Some     \"11111111111111111111111111111111111\n",
      "145 / 638465340425645296 / Changed  (\"file1.txt\",   Some     \"11111111111111111111111111111111111\n",
      "167 / 638465340425645463 / Changed  (\"file1.txt\",   Some     \"11111111111111111111111111111111111\n",
      "178 / 638465340425645641 / Changed  (\"file1.txt\",   Some     \"11111111111111111111111111111111111\n",
      "191 / 638465340425645832 / Changed  (\"file1.txt\",   Some     \"11111111111111111111111111111111111\n",
      "156 / 638465340425645988 / Changed  (\"file1.txt\",   Some     \"11111111111111111111111111111111111\n",
      "99 / 638465340425646087 / Changed  (\"file1.txt\",   Some     \"111111111111111111111111111111111111\n",
      "227 / 638465340425646314 / Changed  (\"file1.txt\",   Some     \"11111111111111111111111111111111111\n",
      "233 / 638465340425646547 / Changed  (\"file1.txt\",   Some     \"11111111111111111111111111111111111\n",
      "237 / 638465340425646784 / Changed  (\"file1.txt\",   Some     \"11111111111111111111111111111111111\n",
      "249 / 638465340425647033 / Changed  (\"file1.txt\",   Some     \"11111111111111111111111111111111111\n",
      "201 / 638465340425647234 / Changed  (\"file1.txt\",   Some     \"11111111111111111111111111111111111\n",
      "56 / 638465340425647290 / Changed  (\"file1.txt\",   Some     \"111111111111111111111111111111111111\n",
      "219 / 638465340425647509 / Changed  (\"file1.txt\",   Some     \"11111111111111111111111111111111111\n",
      "201 / 638465340425647710 / Changed  (\"file1.txt\",   Some     \"11111111111111111111111111111111111\n",
      "160 / 638465340425647870 / Changed  (\"file1.txt\",   Some     \"11111111111111111111111111111111111\n",
      "159 / 638465340425648029 / Changed  (\"file1.txt\",   Some     \"11111111111111111111111111111111111\n",
      "158 / 638465340425648187 / Changed  (\"file1.txt\",   Some     \"11111111111111111111111111111111111\n",
      "201 / 638465340425648388 / Changed  (\"file1.txt\",   Some     \"11111111111111111111111111111111111\n",
      "199 / 638465340425648587 / Changed  (\"file1.txt\",   Some     \"11111111111111111111111111111111111\n",
      "194 / 638465340425648781 / Changed  (\"file1.txt\",   Some     \"11111111111111111111111111111111111\n",
      "41 / 638465340425648822 / Changed  (\"file1.txt\",   Some     \"111111111111111111111111111111111111\n",
      "220 / 638465340425649042 / Changed  (\"file1.txt\",   Some     \"11111111111111111111111111111111111\n",
      "190 / 638465340425649232 / Changed  (\"file1.txt\",   Some     \"11111111111111111111111111111111111\n",
      "201 / 638465340425649433 / Changed  (\"file1.txt\",   Some     \"11111111111111111111111111111111111\n",
      "210 / 638465340425649643 / Changed  (\"file1.txt\",   Some     \"11111111111111111111111111111111111\n",
      "38 / 638465340425649681 / Changed  (\"file1.txt\",   Some     \"111111111111111111111111111111111111\n",
      "240 / 638465340425649921 / Changed  (\"file1.txt\",   Some     \"11111111111111111111111111111111111\n",
      "199 / 638465340425650120 / Changed  (\"file1.txt\",   Some     \"11111111111111111111111111111111111\n",
      "184 / 638465340425650304 / Changed  (\"file1.txt\",   Some     \"11111111111111111111111111111111111\n",
      "182 / 638465340425650486 / Changed  (\"file1.txt\",   Some     \"11111111111111111111111111111111111\n",
      "500 / 638465340425650986 / Changed  (\"file1.txt\",   Some     \"11111111111111111111111111111111111\n",
      "203 / 638465340425651189 / Changed  (\"file1.txt\",   Some     \"11111111111111111111111111111111111\n",
      "229 / 638465340425651418 / Changed  (\"file1.txt\",   Some     \"11111111111111111111111111111111111\n",
      "210 / 638465340425651628 / Changed  (\"file1.txt\",   Some     \"11111111111111111111111111111111111\n",
      "215 / 638465340425651843 / Changed  (\"file1.txt\",   Some     \"11111111111111111111111111111111111\n",
      "45 / 638465340425651888 / Changed  (\"file1.txt\",   Some     \"111111111111111111111111111111111111\n",
      "189 / 638465340425652077 / Changed  (\"file1.txt\",   Some     \"11111111111111111111111111111111111\n",
      "188 / 638465340425652265 / Changed  (\"file1.txt\",   Some     \"11111111111111111111111111111111111\n",
      "201 / 638465340425652466 / Changed  (\"file1.txt\",   Some     \"11111111111111111111111111111111111\n",
      "41 / 638465340425652507 / Changed  (\"file1.txt\",   Some     \"111111111111111111111111111111111111\n",
      "229 / 638465340425652736 / Changed  (\"file1.txt\",   Some     \"11111111111111111111111111111111111\n",
      "191 / 638465340425652927 / Changed  (\"file1.txt\",   Some     \"11111111111111111111111111111111111\n",
      "246 / 638465340425653173 / Changed  (\"file1.txt\",   Some     \"11111111111111111111111111111111111\n",
      "212 / 638465340425653385 / Changed  (\"file1.txt\",   Some     \"11111111111111111111111111111111111\n",
      "190 / 638465340425653575 / Changed  (\"file1.txt\",   Some     \"11111111111111111111111111111111111\n",
      "194 / 638465340425653769 / Changed  (\"file1.txt\",   Some     \"11111111111111111111111111111111111\n",
      "189 / 638465340425653958 / Changed  (\"file1.txt\",   Some     \"11111111111111111111111111111111111\n",
      "252 / 638465340425654210 / Changed  (\"file1.txt\",   Some     \"11111111111111111111111111111111111\n",
      "197 / 638465340425654407 / Changed  (\"file1.txt\",   Some     \"11111111111111111111111111111111111\n",
      "98 / 638465340425654505 / Changed  (\"file1.txt\",   Some     \"111111111111111111111111111111111111\n",
      "208 / 638465340425654713 / Changed  (\"file1.txt\",   Some     \"11111111111111111111111111111111111\n",
      "226 / 638465340425654939 / Changed  (\"file1.txt\",   Some     \"11111111111111111111111111111111111\n",
      "53 / 638465340425654992 / Changed  (\"file1.txt\",   Some     \"111111111111111111111111111111111111\n",
      "25444 / 638465340425680436 / Changed  (\"file2.txt\",   Some     \"222222222222222222222222222222222\n",
      "102 / 638465340425680538 / Changed  (\"file2.txt\",   Some     \"22222222222222222222222222222222222\n",
      "588 / 638465340425681126 / Changed  (\"file2.txt\",   Some     \"22222222222222222222222222222222222\n",
      "230 / 638465340425681356 / Changed  (\"file2.txt\",   Some     \"22222222222222222222222222222222222\n",
      "215 / 638465340425681571 / Changed  (\"file2.txt\",   Some     \"22222222222222222222222222222222222\n",
      "177 / 638465340425681748 / Changed  (\"file2.txt\",   Some     \"22222222222222222222222222222222222\n",
      "101 / 638465340425681849 / Changed  (\"file2.txt\",   Some     \"22222222222222222222222222222222222\n",
      "230 / 638465340425682079 / Changed  (\"file2.txt\",   Some     \"22222222222222222222222222222222222\n",
      "128 / 638465340425682207 / Changed  (\"file2.txt\",   Some     \"22222222222222222222222222222222222\n",
      "250 / 638465340425682457 / Changed  (\"file2.txt\",   Some     \"22222222222222222222222222222222222\n",
      "251 / 638465340425682708 / Changed  (\"file2.txt\",   Some     \"22222222222222222222222222222222222\n",
      "24 / 638465340425682732 / Changed  (\"file2.txt\",   Some     \"222222222222222222222222222222222222\n",
      "221 / 638465340425682953 / Changed  (\"file2.txt\",   Some     \"22222222222222222222222222222222222\n",
      "262 / 638465340425683215 / Changed  (\"file2.txt\",   Some     \"22222222222222222222222222222222222\n",
      "228 / 638465340425683443 / Changed  (\"file2.txt\",   Some     \"22222222222222222222222222222222222\n",
      "201 / 638465340425683644 / Changed  (\"file2.txt\",   Some     \"22222222222222222222222222222222222\n",
      "162 / 638465340425683806 / Changed  (\"file2.txt\",   Some     \"22222222222222222222222222222222222\n",
      "200 / 638465340425684006 / Changed  (\"file2.txt\",   Some     \"22222222222222222222222222222222222\n",
      "151 / 638465340425684157 / Changed  (\"file2.txt\",   Some     \"22222222222222222222222222222222222\n",
      "242 / 638465340425684399 / Changed  (\"file2.txt\",   Some     \"22222222222222222222222222222222222\n",
      "276 / 638465340425684675 / Changed  (\"file2.txt\",   Some     \"22222222222222222222222222222222222\n",
      "143 / 638465340425684818 / Changed  (\"file2.txt\",   Some     \"22222222222222222222222222222222222\n",
      "130 / 638465340425684948 / Changed  (\"file2.txt\",   Some     \"22222222222222222222222222222222222\n",
      "204 / 638465340425685152 / Changed  (\"file2.txt\",   Some     \"22222222222222222222222222222222222\n",
      "120 / 638465340425685272 / Changed  (\"file2.txt\",   Some     \"22222222222222222222222222222222222\n",
      "303 / 638465340425685575 / Changed  (\"file2.txt\",   Some     \"22222222222222222222222222222222222\n",
      "206 / 638465340425685781 / Changed  (\"file2.txt\",   Some     \"22222222222222222222222222222222222\n",
      "165 / 638465340425685946 / Changed  (\"file2.txt\",   Some     \"22222222222222222222222222222222222\n",
      "145 / 638465340425686091 / Changed  (\"file2.txt\",   Some     \"22222222222222222222222222222222222\n",
      "200 / 638465340425686291 / Changed  (\"file2.txt\",   Some     \"22222222222222222222222222222222222\n",
      "128 / 638465340425686419 / Changed  (\"file2.txt\",   Some     \"22222222222222222222222222222222222\n",
      "203 / 638465340425686622 / Changed  (\"file2.txt\",   Some     \"22222222222222222222222222222222222\n",
      "41 / 638465340425686663 / Changed  (\"file2.txt\",   Some     \"222222222222222222222222222222222222\n",
      "342 / 638465340425687005 / Changed  (\"file2.txt\",   Some     \"22222222222222222222222222222222222\n",
      "252 / 638465340425687257 / Changed  (\"file2.txt\",   Some     \"22222222222222222222222222222222222\n",
      "141 / 638465340425687398 / Changed  (\"file2.txt\",   Some     \"22222222222222222222222222222222222\n",
      "150 / 638465340425687548 / Changed  (\"file2.txt\",   Some     \"22222222222222222222222222222222222\n",
      "188 / 638465340425687736 / Changed  (\"file2.txt\",   Some     \"22222222222222222222222222222222222\n",
      "202 / 638465340425687938 / Changed  (\"file2.txt\",   Some     \"22222222222222222222222222222222222\n",
      "147 / 638465340425688085 / Changed  (\"file2.txt\",   Some     \"22222222222222222222222222222222222\n",
      "41898 / 638465340425729983 / Changed  (\"file2.txt\",   Some     \"222222222222222222222222222222222\n",
      "86 / 638465340425730069 / Changed  (\"file2.txt\",   Some     \"222222222222222222222222222222222222\n",
      "236 / 638465340425730305 / Changed  (\"file2.txt\",   Some     \"22222222222222222222222222222222222\n",
      "164 / 638465340425730469 / Changed  (\"file2.txt\",   Some     \"22222222222222222222222222222222222\n",
      "209 / 638465340425730678 / Changed  (\"file2.txt\",   Some     \"22222222222222222222222222222222222\n",
      "166 / 638465340425730844 / Changed  (\"file2.txt\",   Some     \"22222222222222222222222222222222222\n",
      "191 / 638465340425731035 / Changed  (\"file2.txt\",   Some     \"22222222222222222222222222222222222\n",
      "227 / 638465340425731262 / Changed  (\"file2.txt\",   Some     \"22222222222222222222222222222222222\n",
      "235 / 638465340425731497 / Changed  (\"file2.txt\",   Some     \"22222222222222222222222222222222222\n",
      "222 / 638465340425731719 / Changed  (\"file2.txt\",   Some     \"22222222222222222222222222222222222\n",
      "213 / 638465340425731932 / Changed  (\"file2.txt\",   Some     \"22222222222222222222222222222222222\n",
      "275 / 638465340425732207 / Changed  (\"file2.txt\",   Some     \"22222222222222222222222222222222222\n",
      "235 / 638465340425732442 / Changed  (\"file2.txt\",   Some     \"22222222222222222222222222222222222\n",
      "203 / 638465340425732645 / Changed  (\"file2.txt\",   Some     \"22222222222222222222222222222222222\n",
      "228 / 638465340425732873 / Changed  (\"file2.txt\",   Some     \"22222222222222222222222222222222222\n",
      "238 / 638465340425733111 / Changed  (\"file2.txt\",   Some     \"22222222222222222222222222222222222\n",
      "208 / 638465340425733319 / Changed  (\"file2.txt\",   Some     \"22222222222222222222222222222222222\n",
      "167 / 638465340425733486 / Changed  (\"file2.txt\",   Some     \"22222222222222222222222222222222222\n",
      "247 / 638465340425733733 / Changed  (\"file2.txt\",   Some     \"22222222222222222222222222222222222\n",
      "173 / 638465340425733906 / Changed  (\"file2.txt\",   Some     \"22222222222222222222222222222222222\n",
      "191 / 638465340425734097 / Changed  (\"file2.txt\",   Some     \"22222222222222222222222222222222222\n",
      "118 / 638465340425734215 / Changed  (\"file2.txt\",   Some     \"22222222222222222222222222222222222\n",
      "253 / 638465340425734468 / Changed  (\"file2.txt\",   Some     \"22222222222222222222222222222222222\n",
      "100 / 638465340425734568 / Changed  (\"file2.txt\",   Some     \"22222222222222222222222222222222222\n",
      "246 / 638465340425734814 / Changed  (\"file2.txt\",   Some     \"22222222222222222222222222222222222\n",
      "184 / 638465340425734998 / Changed  (\"file2.txt\",   Some     \"22222222222222222222222222222222222\n",
      "116 / 638465340425735114 / Changed  (\"file2.txt\",   Some     \"22222222222222222222222222222222222\n",
      "240 / 638465340425735354 / Changed  (\"file2.txt\",   Some     \"22222222222222222222222222222222222\n",
      "128 / 638465340425735482 / Changed  (\"file2.txt\",   Some     \"22222222222222222222222222222222222\n",
      "227 / 638465340425735709 / Changed  (\"file2.txt\",   Some     \"22222222222222222222222222222222222\n",
      "218 / 638465340425735927 / Changed  (\"file2.txt\",   Some     \"22222222222222222222222222222222222\n",
      "107 / 638465340425736034 / Changed  (\"file2.txt\",   Some     \"22222222222222222222222222222222222\n",
      "240 / 638465340425736274 / Changed  (\"file2.txt\",   Some     \"22222222222222222222222222222222222\n",
      "115 / 638465340425736389 / Changed  (\"file2.txt\",   Some     \"22222222222222222222222222222222222\n",
      "240 / 638465340425736629 / Changed  (\"file2.txt\",   Some     \"22222222222222222222222222222222222\n",
      "187 / 638465340425736816 / Changed  (\"file2.txt\",   Some     \"22222222222222222222222222222222222\n",
      "114 / 638465340425736930 / Changed  (\"file2.txt\",   Some     \"22222222222222222222222222222222222\n",
      "272 / 638465340425737202 / Changed  (\"file2.txt\",   Some     \"22222222222222222222222222222222222\n",
      "120 / 638465340425737322 / Changed  (\"file2.txt\",   Some     \"22222222222222222222222222222222222\n",
      "227 / 638465340425737549 / Changed  (\"file2.txt\",   Some     \"22222222222222222222222222222222222\n",
      "202 / 638465340425737751 / Changed  (\"file2.txt\",   Some     \"22222222222222222222222222222222222\n",
      "131 / 638465340425737882 / Changed  (\"file2.txt\",   Some     \"22222222222222222222222222222222222\n",
      "213 / 638465340425738095 / Changed  (\"file2.txt\",   Some     \"22222222222222222222222222222222222\n",
      "184 / 638465340425738279 / Changed  (\"file2.txt\",   Some     \"22222222222222222222222222222222222\n",
      "209 / 638465340425738488 / Changed  (\"file2.txt\",   Some     \"22222222222222222222222222222222222\n",
      "201 / 638465340425738689 / Changed  (\"file2.txt\",   Some     \"22222222222222222222222222222222222\n",
      "209 / 638465340425738898 / Changed  (\"file2.txt\",   Some     \"22222222222222222222222222222222222\n",
      "101 / 638465340425738999 / Changed  (\"file2.txt\",   Some     \"22222222222222222222222222222222222\n",
      "236 / 638465340425739235 / Changed  (\"file2.txt\",   Some     \"22222222222222222222222222222222222\n",
      "206 / 638465340425739441 / Changed  (\"file2.txt\",   Some     \"22222222222222222222222222222222222\n",
      "115 / 638465340425739556 / Changed  (\"file2.txt\",   Some     \"22222222222222222222222222222222222\n",
      "222 / 638465340425739778 / Changed  (\"file2.txt\",   Some     \"22222222222222222222222222222222222\n",
      "210 / 638465340425739988 / Changed  (\"file2.txt\",   Some     \"22222222222222222222222222222222222\n",
      "115 / 638465340425740103 / Changed  (\"file2.txt\",   Some     \"22222222222222222222222222222222222\n",
      "232 / 638465340425740335 / Changed  (\"file2.txt\",   Some     \"22222222222222222222222222222222222\n",
      "185 / 638465340425740520 / Changed  (\"file2.txt\",   Some     \"22222222222222222222222222222222222\n",
      "187 / 638465340425740707 / Changed  (\"file2.txt\",   Some     \"22222222222222222222222222222222222\n",
      "170 / 638465340425740877 / Changed  (\"file2.txt\",   Some     \"22222222222222222222222222222222222\n",
      "206 / 638465340425741083 / Changed  (\"file2.txt\",   Some     \"22222222222222222222222222222222222\n",
      "156 / 638465340425741239 / Changed  (\"file2.txt\",   Some     \"22222222222222222222222222222222222\n",
      "163 / 638465340425741402 / Changed  (\"file2.txt\",   Some     \"22222222222222222222222222222222222\n",
      "275 / 638465340425741677 / Changed  (\"file2.txt\",   Some     \"22222222222222222222222222222222222\n",
      "42 / 638465340425741719 / Changed  (\"file2.txt\",   Some     \"222222222222222222222222222222222222\n",
      "278 / 638465340425741997 / Changed  (\"file2.txt\",   Some     \"22222222222222222222222222222222222\n",
      "46 / 638465340425742043 / Changed  (\"file2.txt\",   Some     \"222222222222222222222222222222222222\n",
      "292 / 638465340425742335 / Changed  (\"file2.txt\",   Some     \"22222222222222222222222222222222222\n",
      "135 / 638465340425742470 / Changed  (\"file2.txt\",   Some     \"22222222222222222222222222222222222\n",
      "279 / 638465340425742749 / Changed  (\"file2.txt\",   Some     \"22222222222222222222222222222222222\n",
      "108 / 638465340425742857 / Changed  (\"file2.txt\",   Some     \"22222222222222222222222222222222222\n",
      "237 / 638465340425743094 / Changed  (\"file2.txt\",   Some     \"22222222222222222222222222222222222\n",
      "207 / 638465340425743301 / Changed  (\"file2.txt\",   Some     \"22222222222222222222222222222222222\n",
      "45 / 638465340425743346 / Changed  (\"file2.txt\",   Some     \"222222222222222222222222222222222222\n",
      "304 / 638465340425743650 / Changed  (\"file2.txt\",   Some     \"22222222222222222222222222222222222\n",
      "44 / 638465340425743694 / Changed  (\"file2.txt\",   Some     \"222222222222222222222222222222222222\n",
      "295 / 638465340425743989 / Changed  (\"file2.txt\",   Some     \"22222222222222222222222222222222222\n",
      "164 / 638465340425744153 / Changed  (\"file2.txt\",   Some     \"22222222222222222222222222222222222\n",
      "159 / 638465340425744312 / Changed  (\"file2.txt\",   Some     \"22222222222222222222222222222222222\n",
      "150 / 638465340425744462 / Changed  (\"file2.txt\",   Some     \"22222222222222222222222222222222222\n",
      "156 / 638465340425744618 / Changed  (\"file2.txt\",   Some     \"22222222222222222222222222222222222\n",
      "154 / 638465340425744772 / Changed  (\"file2.txt\",   Some     \"22222222222222222222222222222222222\n",
      "154 / 638465340425744926 / Changed  (\"file2.txt\",   Some     \"22222222222222222222222222222222222\n",
      "149 / 638465340425745075 / Changed  (\"file2.txt\",   Some     \"22222222222222222222222222222222222\n",
      "39 / 638465340425745114 / Changed  (\"file2.txt\",   Some     \"222222222222222222222222222222222222\n",
      "15035902 / 638465340440781016 / Renamed  (\"file1.txt\",   (\"file_1.txt\",    Some      \"1111111111\n",
      "354 / 638465340440781370 / Renamed  (\"file2.txt\",   (\"file_2.txt\",    Some      \"222222222222222\n",
      "15065492 / 638465340455846862 / Changed  (\"file_1.txt\",   Some     \"11111111111111111111111111111\n",
      "899 / 638465340455847761 / Changed  (\"file_1.txt\",   Some     \"1111111111111111111111111111111111\n",
      "383 / 638465340455848144 / Changed  (\"file_1.txt\",   Some     \"1111111111111111111111111111111111\n",
      "166 / 638465340455848310 / Changed  (\"file_1.txt\",   Some     \"1111111111111111111111111111111111\n",
      "146 / 638465340455848456 / Changed  (\"file_1.txt\",   Some     \"1111111111111111111111111111111111\n",
      "235 / 638465340455848691 / Changed  (\"file_1.txt\",   Some     \"1111111111111111111111111111111111\n",
      "207 / 638465340455848898 / Changed  (\"file_1.txt\",   Some     \"1111111111111111111111111111111111\n",
      "151 / 638465340455849049 / Changed  (\"file_1.txt\",   Some     \"1111111111111111111111111111111111\n",
      "147 / 638465340455849196 / Changed  (\"file_1.txt\",   Some     \"1111111111111111111111111111111111\n",
      "295 / 638465340455849491 / Changed  (\"file_1.txt\",   Some     \"1111111111111111111111111111111111\n",
      "212 / 638465340455849703 / Changed  (\"file_1.txt\",   Some     \"1111111111111111111111111111111111\n",
      "100 / 638465340455849803 / Changed  (\"file_1.txt\",   Some     \"1111111111111111111111111111111111\n",
      "291 / 638465340455850094 / Changed  (\"file_1.txt\",   Some     \"1111111111111111111111111111111111\n",
      "29 / 638465340455850123 / Changed  (\"file_1.txt\",   Some     \"11111111111111111111111111111111111\n",
      "249 / 638465340455850372 / Changed  (\"file_1.txt\",   Some     \"1111111111111111111111111111111111\n",
      "138 / 638465340455850510 / Changed  (\"file_1.txt\",   Some     \"1111111111111111111111111111111111\n",
      "89 / 638465340455850599 / Changed  (\"file_1.txt\",   Some     \"11111111111111111111111111111111111\n",
      "211 / 638465340455850810 / Changed  (\"file_1.txt\",   Some     \"1111111111111111111111111111111111\n",
      "38 / 638465340455850848 / Changed  (\"file_1.txt\",   Some     \"11111111111111111111111111111111111\n",
      "246 / 638465340455851094 / Changed  (\"file_1.txt\",   Some     \"1111111111111111111111111111111111\n",
      "196 / 638465340455851290 / Changed  (\"file_1.txt\",   Some     \"1111111111111111111111111111111111\n",
      "142 / 638465340455851432 / Changed  (\"file_1.txt\",   Some     \"1111111111111111111111111111111111\n",
      "201 / 638465340455851633 / Changed  (\"file_1.txt\",   Some     \"1111111111111111111111111111111111\n",
      "43 / 638465340455851676 / Changed  (\"file_1.txt\",   Some     \"11111111111111111111111111111111111\n",
      "229 / 638465340455851905 / Changed  (\"file_1.txt\",   Some     \"1111111111111111111111111111111111\n",
      "136 / 638465340455852041 / Changed  (\"file_1.txt\",   Some     \"1111111111111111111111111111111111\n",
      "138 / 638465340455852179 / Changed  (\"file_1.txt\",   Some     \"1111111111111111111111111111111111\n",
      "143 / 638465340455852322 / Changed  (\"file_1.txt\",   Some     \"1111111111111111111111111111111111\n",
      "142 / 638465340455852464 / Changed  (\"file_1.txt\",   Some     \"1111111111111111111111111111111111\n",
      "349 / 638465340455852813 / Changed  (\"file_1.txt\",   Some     \"1111111111111111111111111111111111\n",
      "168 / 638465340455852981 / Changed  (\"file_1.txt\",   Some     \"1111111111111111111111111111111111\n",
      "246 / 638465340455853227 / Changed  (\"file_1.txt\",   Some     \"1111111111111111111111111111111111\n",
      "96 / 638465340455853323 / Changed  (\"file_1.txt\",   Some     \"11111111111111111111111111111111111\n",
      "214 / 638465340455853537 / Changed  (\"file_1.txt\",   Some     \"1111111111111111111111111111111111\n",
      "34 / 638465340455853571 / Changed  (\"file_1.txt\",   Some     \"11111111111111111111111111111111111\n",
      "264 / 638465340455853835 / Changed  (\"file_1.txt\",   Some     \"1111111111111111111111111111111111\n",
      "262 / 638465340455854097 / Changed  (\"file_1.txt\",   Some     \"1111111111111111111111111111111111\n",
      "38 / 638465340455854135 / Changed  (\"file_1.txt\",   Some     \"11111111111111111111111111111111111\n",
      "211 / 638465340455854346 / Changed  (\"file_1.txt\",   Some     \"1111111111111111111111111111111111\n",
      "129 / 638465340455854475 / Changed  (\"file_1.txt\",   Some     \"1111111111111111111111111111111111\n",
      "180 / 638465340455854655 / Changed  (\"file_1.txt\",   Some     \"1111111111111111111111111111111111\n",
      "138 / 638465340455854793 / Changed  (\"file_1.txt\",   Some     \"1111111111111111111111111111111111\n",
      "141 / 638465340455854934 / Changed  (\"file_1.txt\",   Some     \"1111111111111111111111111111111111\n",
      "135 / 638465340455855069 / Changed  (\"file_1.txt\",   Some     \"1111111111111111111111111111111111\n",
      "182 / 638465340455855251 / Changed  (\"file_1.txt\",   Some     \"1111111111111111111111111111111111\n",
      "239 / 638465340455855490 / Changed  (\"file_1.txt\",   Some     \"1111111111111111111111111111111111\n",
      "31 / 638465340455855521 / Changed  (\"file_1.txt\",   Some     \"11111111111111111111111111111111111\n",
      "245 / 638465340455855766 / Changed  (\"file_1.txt\",   Some     \"1111111111111111111111111111111111\n",
      "89 / 638465340455855855 / Changed  (\"file_1.txt\",   Some     \"11111111111111111111111111111111111\n",
      "260 / 638465340455856115 / Changed  (\"file_1.txt\",   Some     \"1111111111111111111111111111111111\n",
      "221 / 638465340455856336 / Changed  (\"file_1.txt\",   Some     \"1111111111111111111111111111111111\n",
      "33 / 638465340455856369 / Changed  (\"file_1.txt\",   Some     \"11111111111111111111111111111111111\n",
      "251 / 638465340455856620 / Changed  (\"file_1.txt\",   Some     \"1111111111111111111111111111111111\n",
      "141 / 638465340455856761 / Changed  (\"file_1.txt\",   Some     \"1111111111111111111111111111111111\n",
      "133 / 638465340455856894 / Changed  (\"file_1.txt\",   Some     \"1111111111111111111111111111111111\n",
      "139 / 638465340455857033 / Changed  (\"file_1.txt\",   Some     \"1111111111111111111111111111111111\n",
      "147 / 638465340455857180 / Changed  (\"file_1.txt\",   Some     \"1111111111111111111111111111111111\n",
      "128 / 638465340455857308 / Changed  (\"file_1.txt\",   Some     \"1111111111111111111111111111111111\n",
      "239 / 638465340455857547 / Changed  (\"file_1.txt\",   Some     \"1111111111111111111111111111111111\n",
      "206 / 638465340455857753 / Changed  (\"file_1.txt\",   Some     \"1111111111111111111111111111111111\n",
      "33 / 638465340455857786 / Changed  (\"file_1.txt\",   Some     \"11111111111111111111111111111111111\n",
      "242 / 638465340455858028 / Changed  (\"file_1.txt\",   Some     \"1111111111111111111111111111111111\n",
      "192 / 638465340455858220 / Changed  (\"file_1.txt\",   Some     \"1111111111111111111111111111111111\n",
      "252 / 638465340455858472 / Changed  (\"file_1.txt\",   Some     \"1111111111111111111111111111111111\n",
      "263 / 638465340455858735 / Changed  (\"file_1.txt\",   Some     \"1111111111111111111111111111111111\n",
      "96 / 638465340455858831 / Changed  (\"file_1.txt\",   Some     \"11111111111111111111111111111111111\n",
      "217 / 638465340455859048 / Changed  (\"file_1.txt\",   Some     \"1111111111111111111111111111111111\n",
      "175 / 638465340455859223 / Changed  (\"file_1.txt\",   Some     \"1111111111111111111111111111111111\n",
      "259 / 638465340455859482 / Changed  (\"file_1.txt\",   Some     \"1111111111111111111111111111111111\n",
      "149 / 638465340455859631 / Changed  (\"file_1.txt\",   Some     \"1111111111111111111111111111111111\n",
      "209 / 638465340455859840 / Changed  (\"file_1.txt\",   Some     \"1111111111111111111111111111111111\n",
      "144 / 638465340455859984 / Changed  (\"file_1.txt\",   Some     \"1111111111111111111111111111111111\n",
      "241 / 638465340455860225 / Changed  (\"file_1.txt\",   Some     \"1111111111111111111111111111111111\n",
      "132 / 638465340455860357 / Changed  (\"file_1.txt\",   Some     \"1111111111111111111111111111111111\n",
      "199 / 638465340455860556 / Changed  (\"file_1.txt\",   Some     \"1111111111111111111111111111111111\n",
      "221 / 638465340455860777 / Changed  (\"file_1.txt\",   Some     \"1111111111111111111111111111111111\n",
      "146 / 638465340455860923 / Changed  (\"file_1.txt\",   Some     \"1111111111111111111111111111111111\n",
      "198 / 638465340455861121 / Changed  (\"file_1.txt\",   Some     \"1111111111111111111111111111111111\n",
      "35 / 638465340455861156 / Changed  (\"file_1.txt\",   Some     \"11111111111111111111111111111111111\n",
      "221 / 638465340455861377 / Changed  (\"file_1.txt\",   Some     \"1111111111111111111111111111111111\n",
      "128 / 638465340455861505 / Changed  (\"file_1.txt\",   Some     \"1111111111111111111111111111111111\n",
      "245 / 638465340455861750 / Changed  (\"file_1.txt\",   Some     \"1111111111111111111111111111111111\n",
      "33 / 638465340455861783 / Changed  (\"file_1.txt\",   Some     \"11111111111111111111111111111111111\n",
      "238 / 638465340455862021 / Changed  (\"file_1.txt\",   Some     \"1111111111111111111111111111111111\n",
      "81 / 638465340455862102 / Changed  (\"file_1.txt\",   Some     \"11111111111111111111111111111111111\n",
      "260 / 638465340455862362 / Changed  (\"file_1.txt\",   Some     \"1111111111111111111111111111111111\n",
      "35 / 638465340455862397 / Changed  (\"file_1.txt\",   Some     \"11111111111111111111111111111111111\n",
      "254 / 638465340455862651 / Changed  (\"file_1.txt\",   Some     \"1111111111111111111111111111111111\n",
      "181 / 638465340455862832 / Changed  (\"file_1.txt\",   Some     \"1111111111111111111111111111111111\n",
      "130 / 638465340455862962 / Changed  (\"file_1.txt\",   Some     \"1111111111111111111111111111111111\n",
      "238 / 638465340455863200 / Changed  (\"file_1.txt\",   Some     \"1111111111111111111111111111111111\n",
      "36 / 638465340455863236 / Changed  (\"file_1.txt\",   Some     \"11111111111111111111111111111111111\n",
      "230 / 638465340455863466 / Changed  (\"file_1.txt\",   Some     \"1111111111111111111111111111111111\n",
      "125 / 638465340455863591 / Changed  (\"file_1.txt\",   Some     \"1111111111111111111111111111111111\n",
      "256 / 638465340455863847 / Changed  (\"file_1.txt\",   Some     \"1111111111111111111111111111111111\n",
      "270 / 638465340455864117 / Changed  (\"file_1.txt\",   Some     \"1111111111111111111111111111111111\n",
      "163 / 638465340455864280 / Changed  (\"file_1.txt\",   Some     \"1111111111111111111111111111111111\n",
      "130 / 638465340455864410 / Changed  (\"file_1.txt\",   Some     \"1111111111111111111111111111111111\n",
      "140 / 638465340455864550 / Changed  (\"file_1.txt\",   Some     \"1111111111111111111111111111111111\n",
      "146 / 638465340455864696 / Changed  (\"file_1.txt\",   Some     \"1111111111111111111111111111111111\n",
      "141 / 638465340455864837 / Changed  (\"file_1.txt\",   Some     \"1111111111111111111111111111111111\n",
      "319 / 638465340455865156 / Changed  (\"file_1.txt\",   Some     \"1111111111111111111111111111111111\n",
      "224 / 638465340455865380 / Changed  (\"file_1.txt\",   Some     \"1111111111111111111111111111111111\n",
      "144 / 638465340455865524 / Changed  (\"file_1.txt\",   Some     \"1111111111111111111111111111111111\n",
      "142 / 638465340455865666 / Changed  (\"file_1.txt\",   Some     \"1111111111111111111111111111111111\n",
      "137 / 638465340455865803 / Changed  (\"file_1.txt\",   Some     \"1111111111111111111111111111111111\n",
      "187 / 638465340455865990 / Changed  (\"file_1.txt\",   Some     \"1111111111111111111111111111111111\n",
      "188 / 638465340455866178 / Changed  (\"file_1.txt\",   Some     \"1111111111111111111111111111111111\n",
      "143 / 638465340455866321 / Changed  (\"file_1.txt\",   Some     \"1111111111111111111111111111111111\n",
      "194 / 638465340455866515 / Changed  (\"file_1.txt\",   Some     \"1111111111111111111111111111111111\n",
      "30 / 638465340455866545 / Changed  (\"file_1.txt\",   Some     \"11111111111111111111111111111111111\n",
      "248 / 638465340455866793 / Changed  (\"file_1.txt\",   Some     \"1111111111111111111111111111111111\n",
      "140 / 638465340455866933 / Changed  (\"file_1.txt\",   Some     \"1111111111111111111111111111111111\n",
      "134 / 638465340455867067 / Changed  (\"file_1.txt\",   Some     \"1111111111111111111111111111111111\n",
      "148 / 638465340455867215 / Changed  (\"file_1.txt\",   Some     \"1111111111111111111111111111111111\n",
      "126 / 638465340455867341 / Changed  (\"file_1.txt\",   Some     \"1111111111111111111111111111111111\n",
      "195 / 638465340455867536 / Changed  (\"file_1.txt\",   Some     \"1111111111111111111111111111111111\n",
      "136 / 638465340455867672 / Changed  (\"file_1.txt\",   Some     \"1111111111111111111111111111111111\n",
      "138 / 638465340455867810 / Changed  (\"file_1.txt\",   Some     \"1111111111111111111111111111111111\n",
      "138 / 638465340455867948 / Changed  (\"file_1.txt\",   Some     \"1111111111111111111111111111111111\n",
      "220 / 638465340455868168 / Changed  (\"file_1.txt\",   Some     \"1111111111111111111111111111111111\n",
      "29 / 638465340455868197 / Changed  (\"file_1.txt\",   Some     \"11111111111111111111111111111111111\n",
      "42759 / 638465340455910956 / Changed  (\"file_2.txt\",   Some     \"22222222222222222222222222222222\n",
      "118 / 638465340455911074 / Changed  (\"file_2.txt\",   Some     \"2222222222222222222222222222222222\n",
      "522 / 638465340455911596 / Changed  (\"file_2.txt\",   Some     \"2222222222222222222222222222222222\n",
      "56 / 638465340455911652 / Changed  (\"file_2.txt\",   Some     \"22222222222222222222222222222222222\n",
      "154 / 638465340455911806 / Changed  (\"file_2.txt\",   Some     \"2222222222222222222222222222222222\n",
      "158 / 638465340455911964 / Changed  (\"file_2.txt\",   Some     \"2222222222222222222222222222222222\n",
      "174 / 638465340455912138 / Changed  (\"file_2.txt\",   Some     \"2222222222222222222222222222222222\n",
      "124 / 638465340455912262 / Changed  (\"file_2.txt\",   Some     \"2222222222222222222222222222222222\n",
      "256 / 638465340455912518 / Changed  (\"file_2.txt\",   Some     \"2222222222222222222222222222222222\n",
      "34 / 638465340455912552 / Changed  (\"file_2.txt\",   Some     \"22222222222222222222222222222222222\n",
      "258 / 638465340455912810 / Changed  (\"file_2.txt\",   Some     \"2222222222222222222222222222222222\n",
      "170 / 638465340455912980 / Changed  (\"file_2.txt\",   Some     \"2222222222222222222222222222222222\n",
      "168 / 638465340455913148 / Changed  (\"file_2.txt\",   Some     \"2222222222222222222222222222222222\n",
      "167 / 638465340455913315 / Changed  (\"file_2.txt\",   Some     \"2222222222222222222222222222222222\n",
      "170 / 638465340455913485 / Changed  (\"file_2.txt\",   Some     \"2222222222222222222222222222222222\n",
      "211 / 638465340455913696 / Changed  (\"file_2.txt\",   Some     \"2222222222222222222222222222222222\n",
      "210 / 638465340455913906 / Changed  (\"file_2.txt\",   Some     \"2222222222222222222222222222222222\n",
      "185 / 638465340455914091 / Changed  (\"file_2.txt\",   Some     \"2222222222222222222222222222222222\n",
      "168 / 638465340455914259 / Changed  (\"file_2.txt\",   Some     \"2222222222222222222222222222222222\n",
      "186 / 638465340455914445 / Changed  (\"file_2.txt\",   Some     \"2222222222222222222222222222222222\n",
      "199 / 638465340455914644 / Changed  (\"file_2.txt\",   Some     \"2222222222222222222222222222222222\n",
      "183 / 638465340455914827 / Changed  (\"file_2.txt\",   Some     \"2222222222222222222222222222222222\n",
      "176 / 638465340455915003 / Changed  (\"file_2.txt\",   Some     \"2222222222222222222222222222222222\n",
      "182 / 638465340455915185 / Changed  (\"file_2.txt\",   Some     \"2222222222222222222222222222222222\n",
      "208 / 638465340455915393 / Changed  (\"file_2.txt\",   Some     \"2222222222222222222222222222222222\n",
      "179 / 638465340455915572 / Changed  (\"file_2.txt\",   Some     \"2222222222222222222222222222222222\n",
      "181 / 638465340455915753 / Changed  (\"file_2.txt\",   Some     \"2222222222222222222222222222222222\n",
      "159 / 638465340455915912 / Changed  (\"file_2.txt\",   Some     \"2222222222222222222222222222222222\n",
      "214 / 638465340455916126 / Changed  (\"file_2.txt\",   Some     \"2222222222222222222222222222222222\n",
      "199 / 638465340455916325 / Changed  (\"file_2.txt\",   Some     \"2222222222222222222222222222222222\n",
      "150 / 638465340455916475 / Changed  (\"file_2.txt\",   Some     \"2222222222222222222222222222222222\n",
      "219 / 638465340455916694 / Changed  (\"file_2.txt\",   Some     \"2222222222222222222222222222222222\n",
      "163 / 638465340455916857 / Changed  (\"file_2.txt\",   Some     \"2222222222222222222222222222222222\n",
      "182 / 638465340455917039 / Changed  (\"file_2.txt\",   Some     \"2222222222222222222222222222222222\n",
      "205 / 638465340455917244 / Changed  (\"file_2.txt\",   Some     \"2222222222222222222222222222222222\n",
      "180 / 638465340455917424 / Changed  (\"file_2.txt\",   Some     \"2222222222222222222222222222222222\n",
      "177 / 638465340455917601 / Changed  (\"file_2.txt\",   Some     \"2222222222222222222222222222222222\n",
      "194 / 638465340455917795 / Changed  (\"file_2.txt\",   Some     \"2222222222222222222222222222222222\n",
      "183 / 638465340455917978 / Changed  (\"file_2.txt\",   Some     \"2222222222222222222222222222222222\n",
      "206 / 638465340455918184 / Changed  (\"file_2.txt\",   Some     \"2222222222222222222222222222222222\n",
      "183 / 638465340455918367 / Changed  (\"file_2.txt\",   Some     \"2222222222222222222222222222222222\n",
      "196 / 638465340455918563 / Changed  (\"file_2.txt\",   Some     \"2222222222222222222222222222222222\n",
      "190 / 638465340455918753 / Changed  (\"file_2.txt\",   Some     \"2222222222222222222222222222222222\n",
      "178 / 638465340455918931 / Changed  (\"file_2.txt\",   Some     \"2222222222222222222222222222222222\n",
      "193 / 638465340455919124 / Changed  (\"file_2.txt\",   Some     \"2222222222222222222222222222222222\n",
      "185 / 638465340455919309 / Changed  (\"file_2.txt\",   Some     \"2222222222222222222222222222222222\n",
      "201 / 638465340455919510 / Changed  (\"file_2.txt\",   Some     \"2222222222222222222222222222222222\n",
      "191 / 638465340455919701 / Changed  (\"file_2.txt\",   Some     \"2222222222222222222222222222222222\n",
      "183 / 638465340455919884 / Changed  (\"file_2.txt\",   Some     \"2222222222222222222222222222222222\n",
      "156 / 638465340455920040 / Changed  (\"file_2.txt\",   Some     \"2222222222222222222222222222222222\n",
      "199 / 638465340455920239 / Changed  (\"file_2.txt\",   Some     \"2222222222222222222222222222222222\n",
      "187 / 638465340455920426 / Changed  (\"file_2.txt\",   Some     \"2222222222222222222222222222222222\n",
      "181 / 638465340455920607 / Changed  (\"file_2.txt\",   Some     \"2222222222222222222222222222222222\n",
      "191 / 638465340455920798 / Changed  (\"file_2.txt\",   Some     \"2222222222222222222222222222222222\n",
      "199 / 638465340455920997 / Changed  (\"file_2.txt\",   Some     \"2222222222222222222222222222222222\n",
      "187 / 638465340455921184 / Changed  (\"file_2.txt\",   Some     \"2222222222222222222222222222222222\n",
      "192 / 638465340455921376 / Changed  (\"file_2.txt\",   Some     \"2222222222222222222222222222222222\n",
      "175 / 638465340455921551 / Changed  (\"file_2.txt\",   Some     \"2222222222222222222222222222222222\n",
      "160 / 638465340455921711 / Changed  (\"file_2.txt\",   Some     \"2222222222222222222222222222222222\n",
      "204 / 638465340455921915 / Changed  (\"file_2.txt\",   Some     \"2222222222222222222222222222222222\n",
      "185 / 638465340455922100 / Changed  (\"file_2.txt\",   Some     \"2222222222222222222222222222222222\n",
      "202 / 638465340455922302 / Changed  (\"file_2.txt\",   Some     \"2222222222222222222222222222222222\n",
      "203 / 638465340455922505 / Changed  (\"file_2.txt\",   Some     \"2222222222222222222222222222222222\n",
      "148 / 638465340455922653 / Changed  (\"file_2.txt\",   Some     \"2222222222222222222222222222222222\n",
      "183 / 638465340455922836 / Changed  (\"file_2.txt\",   Some     \"2222222222222222222222222222222222\n",
      "179 / 638465340455923015 / Changed  (\"file_2.txt\",   Some     \"2222222222222222222222222222222222\n",
      "235 / 638465340455923250 / Changed  (\"file_2.txt\",   Some     \"2222222222222222222222222222222222\n",
      "184 / 638465340455923434 / Changed  (\"file_2.txt\",   Some     \"2222222222222222222222222222222222\n",
      "441 / 638465340455923875 / Changed  (\"file_2.txt\",   Some     \"2222222222222222222222222222222222\n",
      "38 / 638465340455923913 / Changed  (\"file_2.txt\",   Some     \"22222222222222222222222222222222222\n",
      "244 / 638465340455924157 / Changed  (\"file_2.txt\",   Some     \"2222222222222222222222222222222222\n",
      "96 / 638465340455924253 / Changed  (\"file_2.txt\",   Some     \"22222222222222222222222222222222222\n",
      "214 / 638465340455924467 / Changed  (\"file_2.txt\",   Some     \"2222222222222222222222222222222222\n",
      "211 / 638465340455924678 / Changed  (\"file_2.txt\",   Some     \"2222222222222222222222222222222222\n",
      "183 / 638465340455924861 / Changed  (\"file_2.txt\",   Some     \"2222222222222222222222222222222222\n",
      "196 / 638465340455925057 / Changed  (\"file_2.txt\",   Some     \"2222222222222222222222222222222222\n",
      "187 / 638465340455925244 / Changed  (\"file_2.txt\",   Some     \"2222222222222222222222222222222222\n",
      "190 / 638465340455925434 / Changed  (\"file_2.txt\",   Some     \"2222222222222222222222222222222222\n",
      "185 / 638465340455925619 / Changed  (\"file_2.txt\",   Some     \"2222222222222222222222222222222222\n",
      "178 / 638465340455925797 / Changed  (\"file_2.txt\",   Some     \"2222222222222222222222222222222222\n",
      "163 / 638465340455925960 / Changed  (\"file_2.txt\",   Some     \"2222222222222222222222222222222222\n",
      "187 / 638465340455926147 / Changed  (\"file_2.txt\",   Some     \"2222222222222222222222222222222222\n",
      "199 / 638465340455926346 / Changed  (\"file_2.txt\",   Some     \"2222222222222222222222222222222222\n",
      "199 / 638465340455926545 / Changed  (\"file_2.txt\",   Some     \"2222222222222222222222222222222222\n",
      "179 / 638465340455926724 / Changed  (\"file_2.txt\",   Some     \"2222222222222222222222222222222222\n",
      "186 / 638465340455926910 / Changed  (\"file_2.txt\",   Some     \"2222222222222222222222222222222222\n",
      "190 / 638465340455927100 / Changed  (\"file_2.txt\",   Some     \"2222222222222222222222222222222222\n",
      "172 / 638465340455927272 / Changed  (\"file_2.txt\",   Some     \"2222222222222222222222222222222222\n",
      "187 / 638465340455927459 / Changed  (\"file_2.txt\",   Some     \"2222222222222222222222222222222222\n",
      "179 / 638465340455927638 / Changed  (\"file_2.txt\",   Some     \"2222222222222222222222222222222222\n",
      "204 / 638465340455927842 / Changed  (\"file_2.txt\",   Some     \"2222222222222222222222222222222222\n",
      "172 / 638465340455928014 / Changed  (\"file_2.txt\",   Some     \"2222222222222222222222222222222222\n",
      "178 / 638465340455928192 / Changed  (\"file_2.txt\",   Some     \"2222222222222222222222222222222222\n",
      "169 / 638465340455928361 / Changed  (\"file_2.txt\",   Some     \"2222222222222222222222222222222222\n",
      "169 / 638465340455928530 / Changed  (\"file_2.txt\",   Some     \"2222222222222222222222222222222222\n",
      "142 / 638465340455928672 / Changed  (\"file_2.txt\",   Some     \"2222222222222222222222222222222222\n",
      "177 / 638465340455928849 / Changed  (\"file_2.txt\",   Some     \"2222222222222222222222222222222222\n",
      "166 / 638465340455929015 / Changed  (\"file_2.txt\",   Some     \"2222222222222222222222222222222222\n",
      "184 / 638465340455929199 / Changed  (\"file_2.txt\",   Some     \"2222222222222222222222222222222222\n",
      "162 / 638465340455929361 / Changed  (\"file_2.txt\",   Some     \"2222222222222222222222222222222222\n",
      "139 / 638465340455929500 / Changed  (\"file_2.txt\",   Some     \"2222222222222222222222222222222222\n",
      "176 / 638465340455929676 / Changed  (\"file_2.txt\",   Some     \"2222222222222222222222222222222222\n",
      "163 / 638465340455929839 / Changed  (\"file_2.txt\",   Some     \"2222222222222222222222222222222222\n",
      "165 / 638465340455930004 / Changed  (\"file_2.txt\",   Some     \"2222222222222222222222222222222222\n",
      "182 / 638465340455930186 / Changed  (\"file_2.txt\",   Some     \"2222222222222222222222222222222222\n",
      "165 / 638465340455930351 / Changed  (\"file_2.txt\",   Some     \"2222222222222222222222222222222222\n",
      "185 / 638465340455930536 / Changed  (\"file_2.txt\",   Some     \"2222222222222222222222222222222222\n",
      "170 / 638465340455930706 / Changed  (\"file_2.txt\",   Some     \"2222222222222222222222222222222222\n",
      "168 / 638465340455930874 / Changed  (\"file_2.txt\",   Some     \"2222222222222222222222222222222222\n",
      "173 / 638465340455931047 / Changed  (\"file_2.txt\",   Some     \"2222222222222222222222222222222222\n",
      "140 / 638465340455931187 / Changed  (\"file_2.txt\",   Some     \"2222222222222222222222222222222222\n",
      "163 / 638465340455931350 / Changed  (\"file_2.txt\",   Some     \"2222222222222222222222222222222222\n",
      "165 / 638465340455931515 / Changed  (\"file_2.txt\",   Some     \"2222222222222222222222222222222222\n",
      "187 / 638465340455931702 / Changed  (\"file_2.txt\",   Some     \"2222222222222222222222222222222222\n",
      "163 / 638465340455931865 / Changed  (\"file_2.txt\",   Some     \"2222222222222222222222222222222222\n",
      "169 / 638465340455932034 / Changed  (\"file_2.txt\",   Some     \"2222222222222222222222222222222222\n",
      "171 / 638465340455932205 / Changed  (\"file_2.txt\",   Some     \"2222222222222222222222222222222222\n",
      "143 / 638465340455932348 / Changed  (\"file_2.txt\",   Some     \"2222222222222222222222222222222222\n",
      "170 / 638465340455932518 / Changed  (\"file_2.txt\",   Some     \"2222222222222222222222222222222222\n",
      "174 / 638465340455932692 / Changed  (\"file_2.txt\",   Some     \"2222222222222222222222222222222222\n",
      "178 / 638465340455932870 / Changed  (\"file_2.txt\",   Some     \"2222222222222222222222222222222222\n",
      "174 / 638465340455933044 / Changed  (\"file_2.txt\",   Some     \"2222222222222222222222222222222222\n",
      "201 / 638465340455933245 / Changed  (\"file_2.txt\",   Some     \"2222222222222222222222222222222222\n",
      "15032945 / 638465340470966190 / Deleted \"file_1.txt\"\n",
      "3427 / 638465340470969617 / Deleted \"file_2.txt\"\n",
      "FSharpList<FileSystemChange>\n",
      "      - path: file1.txt\n",
      "        content: FSharpOption<String>\n",
      "          Value: 1a\n",
      "        IsFailure: False\n",
      "        IsChanged: False\n",
      "        IsCreated: True\n",
      "        IsDeleted: False\n",
      "        IsRenamed: False\n",
      "      - path: file1.txt\n",
      "        content: FSharpOption<String>\n",
      "          Value: 1a\n",
      "        IsFailure: False\n",
      "        IsChanged: True\n",
      "        IsCreated: False\n",
      "        IsDeleted: False\n",
      "        IsRenamed: False\n",
      "      - path: file2.txt\n",
      "        content: FSharpOption<String>\n",
      "          Value: 2a\n",
      "        IsFailure: False\n",
      "        IsChanged: False\n",
      "        IsCreated: True\n",
      "        IsDeleted: False\n",
      "        IsRenamed: False\n",
      "      - path: file2.txt\n",
      "        content: FSharpOption<String>\n",
      "          Value: 2a\n",
      "        IsFailure: False\n",
      "        IsChanged: True\n",
      "        IsCreated: False\n",
      "        IsDeleted: False\n",
      "        IsRenamed: False\n",
      "      - path: file1.txt\n",
      "        content: FSharpOption<String>\n",
      "          Value: 1b\n",
      "        IsFailure: False\n",
      "        IsChanged: True\n",
      "        IsCreated: False\n",
      "        IsDeleted: False\n",
      "        IsRenamed: False\n",
      "      - path: file2.txt\n",
      "        content: FSharpOption<String>\n",
      "          Value: 2b\n",
      "        IsFailure: False\n",
      "        IsChanged: True\n",
      "        IsCreated: False\n",
      "        IsDeleted: False\n",
      "        IsRenamed: False\n",
      "      - oldPath: file1.txt\n",
      "        Item2:         - file_1.txt\n",
      "        - FSharpOption<String>\n",
      "            Value: 1b\n",
      "      - IsFailure: False\n",
      "        IsChanged: False\n",
      "        IsCreated: False\n",
      "        IsDeleted: False\n",
      "        IsRenamed: True\n",
      "      - oldPath: file2.txt\n",
      "        Item2:         - file_2.txt\n",
      "        - FSharpOption<String>\n",
      "            Value: 2b\n",
      "      - IsFailure: False\n",
      "        IsChanged: False\n",
      "        IsCreated: False\n",
      "        IsDeleted: False\n",
      "        IsRenamed: True\n",
      "      - path: file_1.txt\n",
      "        content: FSharpOption<String>\n",
      "          Value: 1c\n",
      "        IsFailure: False\n",
      "        IsChanged: True\n",
      "        IsCreated: False\n",
      "        IsDeleted: False\n",
      "        IsRenamed: False\n",
      "      - path: file_2.txt\n",
      "        content: FSharpOption<String>\n",
      "          Value: 2c\n",
      "        IsFailure: False\n",
      "        IsChanged: True\n",
      "        IsCreated: False\n",
      "        IsDeleted: False\n",
      "        IsRenamed: False\n",
      "      - path: file_1.txt\n",
      "        IsFailure: False\n",
      "        IsChanged: False\n",
      "        IsCreated: False\n",
      "        IsDeleted: True\n",
      "        IsRenamed: False\n",
      "      - path: file_2.txt\n",
      "        IsFailure: False\n",
      "        IsChanged: False\n",
      "        IsCreated: False\n",
      "        IsDeleted: True\n",
      "        IsRenamed: False\n",
      "FSharpOption<Unit>\n",
      "      Value: <null>\n"
     ]
    }
   ],
   "source": [
    "//// test\n",
    "\n",
    "let inline write path = async {\n",
    "    let n = 2\n",
    "\n",
    "    let contents =\n",
    "        [ 1 .. n ]\n",
    "        |> List.map (string >> String.replicate 1_000_000)\n",
    "\n",
    "    for i = 1 to n do\n",
    "        do! $\"{contents.[i - 1]}a\" |> writeAllTextAsync (path </> $\"file{i}.txt\")\n",
    "\n",
    "    do! Async.Sleep 1500\n",
    "\n",
    "    for i = 1 to n do\n",
    "        do! $\"{contents.[i - 1]}b\" |> writeAllTextAsync (path </> $\"file{i}.txt\")\n",
    "\n",
    "    do! Async.Sleep 1500\n",
    "\n",
    "    for i = 1 to n do\n",
    "        do! path </> $\"file{i}.txt\" |> moveFileAsync (path </> $\"file_{i}.txt\") |> Async.Ignore\n",
    "\n",
    "    do! Async.Sleep 1500\n",
    "\n",
    "    for i = 1 to n do\n",
    "        do! $\"{contents.[i - 1]}c\" |> writeAllTextAsync (path </> $\"file_{i}.txt\")\n",
    "\n",
    "    do! Async.Sleep 1500\n",
    "\n",
    "    for i = 1 to n do\n",
    "        do! deleteFileAsync (path </> $\"file_{i}.txt\") |> Async.Ignore\n",
    "\n",
    "    do! Async.Sleep 1500\n",
    "}\n",
    "\n",
    "let inline run () =\n",
    "    let events =\n",
    "        testEventsRaw watchDirectory write\n",
    "        |> List.map (function\n",
    "            | FileSystemChange.Changed (path, Some content) ->\n",
    "                FileSystemChange.Changed (path, content |> Seq.distinct |> Seq.map string |> String.concat \"\" |> Some)\n",
    "            | FileSystemChange.Created (path, Some content) ->\n",
    "                FileSystemChange.Created (path, content |> Seq.distinct |> Seq.map string |> String.concat \"\" |> Some)\n",
    "            | FileSystemChange.Renamed (oldPath, (newPath, Some content)) ->\n",
    "                FileSystemChange.Renamed (\n",
    "                    oldPath,\n",
    "                    (newPath, content |> Seq.distinct |> Seq.map string |> String.concat \"\" |> Some)\n",
    "                )\n",
    "            | event -> event\n",
    "        )\n",
    "\n",
    "    events\n",
    "    |> _sequenceEqual [\n",
    "        FileSystemChange.Created (\"file1.txt\", Some \"1a\")\n",
    "        FileSystemChange.Changed (\"file1.txt\", Some \"1a\")\n",
    "        FileSystemChange.Created (\"file2.txt\", Some \"2a\")\n",
    "        FileSystemChange.Changed (\"file2.txt\", Some \"2a\")\n",
    "\n",
    "        FileSystemChange.Changed (\"file1.txt\", Some \"1b\")\n",
    "        FileSystemChange.Changed (\"file2.txt\", Some \"2b\")\n",
    "\n",
    "        FileSystemChange.Renamed (\"file1.txt\", (\"file_1.txt\", Some \"1b\"))\n",
    "        FileSystemChange.Renamed (\"file2.txt\", (\"file_2.txt\", Some \"2b\"))\n",
    "\n",
    "        FileSystemChange.Changed (\"file_1.txt\", Some \"1c\")\n",
    "        FileSystemChange.Changed (\"file_2.txt\", Some \"2c\")\n",
    "\n",
    "        FileSystemChange.Deleted \"file_1.txt\"\n",
    "        FileSystemChange.Deleted \"file_2.txt\"\n",
    "    ]\n",
    "\n",
    "run\n",
    "|> retryFn 5\n",
    "|> _assert_eq (Some ())"
   ]
  },
  {
   "cell_type": "markdown",
   "metadata": {},
   "source": [
    "### testEventsSorted (test)"
   ]
  },
  {
   "cell_type": "code",
   "execution_count": null,
   "metadata": {
    "dotnet_interactive": {
     "language": "fsharp"
    },
    "polyglot_notebook": {
     "kernelName": "fsharp"
    }
   },
   "outputs": [],
   "source": [
    "//// test\n",
    "\n",
    "let inline sortEvent event =\n",
    "    match event with\n",
    "    | FileSystemChange.Failure _ -> 0\n",
    "    | FileSystemChange.Created _ -> 1\n",
    "    | FileSystemChange.Changed _ -> 2\n",
    "    | FileSystemChange.Renamed (_oldPath, _) -> 3\n",
    "    | FileSystemChange.Deleted _ -> 4\n",
    "\n",
    "let inline formatEvents events =\n",
    "    events\n",
    "    |> Seq.toList\n",
    "    |> List.sortBy (snd >> sortEvent)\n",
    "    |> List.choose (fun (ticks, event) ->\n",
    "        match event with\n",
    "        | FileSystemChange.Failure _ ->\n",
    "            None\n",
    "        | FileSystemChange.Changed (path, _) ->\n",
    "            Some (ticks, System.IO.Path.GetFileName path, nameof FileSystemChangeType.Changed)\n",
    "        | FileSystemChange.Created (path, _) ->\n",
    "            Some (ticks, System.IO.Path.GetFileName path, nameof FileSystemChangeType.Created)\n",
    "        | FileSystemChange.Deleted path ->\n",
    "            Some (ticks, System.IO.Path.GetFileName path, nameof FileSystemChangeType.Deleted)\n",
    "        | FileSystemChange.Renamed (_oldPath, (path, _)) ->\n",
    "            Some (ticks, System.IO.Path.GetFileName path, nameof FileSystemChangeType.Renamed)\n",
    "    )\n",
    "    |> List.sortBy (fun (_, path, _) -> path)\n",
    "    |> List.distinctBy (fun (_, path, event) -> path, event)\n",
    "\n",
    "let inline testEventsSorted\n",
    "    (watchFn : string -> FSharp.Control.AsyncSeq<int64 * FileSystemChange> * IDisposable)\n",
    "    write\n",
    "    =\n",
    "    let path = createTempDirectory ()\n",
    "    let stream, disposable = watchFn path\n",
    "\n",
    "    let events = System.Collections.Concurrent.ConcurrentBag ()\n",
    "\n",
    "    let inline iter () =\n",
    "        stream\n",
    "        |> FSharp.Control.AsyncSeq.iterAsyncParallel (fun event -> async { events.Add event })\n",
    "\n",
    "    let run = async {\n",
    "        let! _ = iter () |> Async.StartChild\n",
    "        do! Async.Sleep 250\n",
    "        return! write path\n",
    "    }\n",
    "\n",
    "    try\n",
    "        run\n",
    "        |> Async.runWithTimeout 5000\n",
    "        |> _assert_eq (Some ())\n",
    "    finally\n",
    "        disposable.Dispose ()\n",
    "        deleteDirectoryAsync path |> Async.Ignore |> Async.RunSynchronously\n",
    "\n",
    "    let events = formatEvents events\n",
    "\n",
    "    let eventMap =\n",
    "        events\n",
    "        |> List.map (fun (ticks, path, event) -> path, (event, ticks))\n",
    "        |> List.groupBy fst\n",
    "        |> List.map (fun (path, events) ->\n",
    "            let event, _ticks =\n",
    "                events\n",
    "                |> List.map snd\n",
    "                |> List.sortByDescending snd\n",
    "                |> List.head\n",
    "\n",
    "            path, event\n",
    "        )\n",
    "        |> Map.ofList\n",
    "\n",
    "    let eventList =\n",
    "        events\n",
    "        |> List.map (fun (_ticks, path, event) -> path, event)\n",
    "\n",
    "    eventMap, eventList"
   ]
  },
  {
   "cell_type": "markdown",
   "metadata": {},
   "source": [
    "#### create and delete (test)"
   ]
  },
  {
   "cell_type": "code",
   "execution_count": null,
   "metadata": {
    "dotnet_interactive": {
     "language": "fsharp"
    },
    "polyglot_notebook": {
     "kernelName": "fsharp"
    }
   },
   "outputs": [
    {
     "name": "stdout",
     "output_type": "stream",
     "text": [
      "FSharpOption<Unit>\n",
      "      Value: <null>\n",
      "00:00:29 #51 [Debug] watchWithFilter / Disposing watch stream / filter: FileName, LastWrite\n",
      "FSharpList<Tuple<String,String>>\n",
      "( file1.txt, Created )\n",
      "( file1.txt, Changed )\n",
      "( file1.txt, Deleted )\n",
      "( file2.txt, Created )\n",
      "( file2.txt, Changed )\n",
      "( file2.txt, Deleted )\n",
      "( file3.txt, Created )\n",
      "( file3.txt, Changed )\n",
      "( file3.txt, Deleted )\n",
      "FSharpMap<String,String>\n",
      "      - Key: file1.txt\n",
      "        Value: Deleted\n",
      "      - Key: file2.txt\n",
      "        Value: Deleted\n",
      "      - Key: file3.txt\n",
      "        Value: Deleted\n",
      "FSharpOption<Unit>\n",
      "      Value: <null>\n"
     ]
    }
   ],
   "source": [
    "//// test\n",
    "\n",
    "let inline write path = async {\n",
    "    let n = 3\n",
    "\n",
    "    for i = 1 to n do\n",
    "        do! $\"{i}\" |> writeAllTextAsync (path </> $\"file{i}.txt\")\n",
    "\n",
    "    for i = 1 to n do\n",
    "        do! deleteFileAsync (path </> $\"file{i}.txt\") |> Async.Ignore\n",
    "\n",
    "    do! Async.Sleep 150\n",
    "}\n",
    "\n",
    "let inline run () =\n",
    "    let eventMap, eventList = testEventsSorted (watchDirectory (fun _ -> false)) write\n",
    "\n",
    "    [\n",
    "        \"file1.txt\", nameof FileSystemChangeType.Created\n",
    "        \"file1.txt\", nameof FileSystemChangeType.Changed\n",
    "        \"file1.txt\", nameof FileSystemChangeType.Deleted\n",
    "\n",
    "        \"file2.txt\", nameof FileSystemChangeType.Created\n",
    "        \"file2.txt\", nameof FileSystemChangeType.Changed\n",
    "        \"file2.txt\", nameof FileSystemChangeType.Deleted\n",
    "\n",
    "        \"file3.txt\", nameof FileSystemChangeType.Created\n",
    "        \"file3.txt\", nameof FileSystemChangeType.Changed\n",
    "        \"file3.txt\", nameof FileSystemChangeType.Deleted\n",
    "    ]\n",
    "    |> _sequenceEqual eventList\n",
    "\n",
    "    [\n",
    "        \"file1.txt\", nameof FileSystemChangeType.Deleted\n",
    "        \"file2.txt\", nameof FileSystemChangeType.Deleted\n",
    "        \"file3.txt\", nameof FileSystemChangeType.Deleted\n",
    "    ]\n",
    "    |> Map.ofList\n",
    "    |> _sequenceEqual eventMap\n",
    "\n",
    "run\n",
    "|> retryFn 3\n",
    "|> _assert_eq (Some ())"
   ]
  },
  {
   "cell_type": "markdown",
   "metadata": {},
   "source": [
    "#### change (test)"
   ]
  },
  {
   "cell_type": "code",
   "execution_count": null,
   "metadata": {
    "dotnet_interactive": {
     "language": "fsharp"
    },
    "polyglot_notebook": {
     "kernelName": "fsharp"
    }
   },
   "outputs": [
    {
     "name": "stdout",
     "output_type": "stream",
     "text": [
      "FSharpOption<Unit>\n",
      "      Value: <null>\n",
      "00:00:31 #52 [Debug] watchWithFilter / Disposing watch stream / filter: FileName, LastWrite\n",
      "FSharpList<Tuple<String,String>>\n",
      "( file1.txt, Created )\n",
      "( file1.txt, Changed )\n",
      "( file1.txt, Deleted )\n",
      "( file2.txt, Created )\n",
      "( file2.txt, Changed )\n",
      "( file2.txt, Deleted )\n",
      "FSharpMap<String,String>\n",
      "      - Key: file1.txt\n",
      "        Value: Deleted\n",
      "      - Key: file2.txt\n",
      "        Value: Deleted\n",
      "FSharpOption<Unit>\n",
      "      Value: <null>\n"
     ]
    }
   ],
   "source": [
    "//// test\n",
    "\n",
    "let inline write path = async {\n",
    "    let n = 2\n",
    "\n",
    "    for i = 1 to n do\n",
    "        do! $\"{i}\" |> writeAllTextAsync (path </> $\"file{i}.txt\")\n",
    "\n",
    "    for i = 1 to n do\n",
    "        do! \"\" |> writeAllTextAsync (path </> $\"file{i}.txt\")\n",
    "\n",
    "    for i = 1 to n do\n",
    "        do! deleteFileAsync (path </> $\"file{i}.txt\") |> Async.Ignore\n",
    "\n",
    "    do! Async.Sleep 150\n",
    "}\n",
    "\n",
    "let inline run () =\n",
    "    let eventMap, eventList = testEventsSorted (watchDirectory (fun _ -> false)) write\n",
    "\n",
    "    [\n",
    "        \"file1.txt\", nameof FileSystemChangeType.Created\n",
    "        \"file1.txt\", nameof FileSystemChangeType.Changed\n",
    "        \"file1.txt\", nameof FileSystemChangeType.Deleted\n",
    "\n",
    "        \"file2.txt\", nameof FileSystemChangeType.Created\n",
    "        \"file2.txt\", nameof FileSystemChangeType.Changed\n",
    "        \"file2.txt\", nameof FileSystemChangeType.Deleted\n",
    "    ]\n",
    "    |> _sequenceEqual eventList\n",
    "\n",
    "    [\n",
    "        \"file1.txt\", nameof FileSystemChangeType.Deleted\n",
    "        \"file2.txt\", nameof FileSystemChangeType.Deleted\n",
    "    ]\n",
    "    |> Map.ofList\n",
    "    |> _sequenceEqual eventMap\n",
    "\n",
    "run\n",
    "|> retryFn 3\n",
    "|> _assert_eq (Some ())"
   ]
  },
  {
   "cell_type": "markdown",
   "metadata": {},
   "source": [
    "#### rename (test)"
   ]
  },
  {
   "cell_type": "code",
   "execution_count": null,
   "metadata": {
    "dotnet_interactive": {
     "language": "fsharp"
    },
    "polyglot_notebook": {
     "kernelName": "fsharp"
    }
   },
   "outputs": [
    {
     "name": "stdout",
     "output_type": "stream",
     "text": [
      "FSharpOption<Unit>\n",
      "      Value: <null>\n",
      "00:00:34 #53 [Debug] watchWithFilter / Disposing watch stream / filter: FileName, LastWrite\n",
      "FSharpList<Tuple<String,String>>\n",
      "( file1.txt, Created )\n",
      "( file1.txt, Changed )\n",
      "( file2.txt, Created )\n",
      "( file2.txt, Changed )\n",
      "( file_1.txt, Renamed )\n",
      "( file_1.txt, Deleted )\n",
      "( file_2.txt, Renamed )\n",
      "( file_2.txt, Deleted )\n",
      "FSharpMap<String,String>\n",
      "      - Key: file1.txt\n",
      "        Value: Changed\n",
      "      - Key: file2.txt\n",
      "        Value: Changed\n",
      "      - Key: file_1.txt\n",
      "        Value: Deleted\n",
      "      - Key: file_2.txt\n",
      "        Value: Deleted\n",
      "FSharpOption<Unit>\n",
      "      Value: <null>\n"
     ]
    }
   ],
   "source": [
    "//// test\n",
    "\n",
    "let inline write path = async {\n",
    "    let n = 2\n",
    "\n",
    "    for i = 1 to n do\n",
    "        do! $\"{i}\" |> writeAllTextAsync (path </> $\"file{i}.txt\")\n",
    "\n",
    "    for i = 1 to n do\n",
    "        do! path </> $\"file{i}.txt\" |> moveFileAsync (path </> $\"file_{i}.txt\") |> Async.Ignore\n",
    "\n",
    "    for i = 1 to n do\n",
    "        do! deleteFileAsync (path </> $\"file_{i}.txt\") |> Async.Ignore\n",
    "\n",
    "    do! Async.Sleep 150\n",
    "}\n",
    "\n",
    "let inline run () =\n",
    "    let eventMap, eventList = testEventsSorted (watchDirectory (fun _ -> false)) write\n",
    "\n",
    "    [\n",
    "        \"file1.txt\", nameof FileSystemChangeType.Created\n",
    "        \"file1.txt\", nameof FileSystemChangeType.Changed\n",
    "        \"file2.txt\", nameof FileSystemChangeType.Created\n",
    "        \"file2.txt\", nameof FileSystemChangeType.Changed\n",
    "\n",
    "        \"file_1.txt\", nameof FileSystemChangeType.Renamed\n",
    "        \"file_1.txt\", nameof FileSystemChangeType.Deleted\n",
    "\n",
    "        \"file_2.txt\", nameof FileSystemChangeType.Renamed\n",
    "        \"file_2.txt\", nameof FileSystemChangeType.Deleted\n",
    "    ]\n",
    "    |> _sequenceEqual eventList\n",
    "\n",
    "    [\n",
    "        \"file1.txt\", nameof FileSystemChangeType.Changed\n",
    "        \"file2.txt\", nameof FileSystemChangeType.Changed\n",
    "        \"file_1.txt\", nameof FileSystemChangeType.Deleted\n",
    "        \"file_2.txt\", nameof FileSystemChangeType.Deleted\n",
    "    ]\n",
    "    |> Map.ofList\n",
    "    |> _sequenceEqual eventMap\n",
    "\n",
    "run\n",
    "|> retryFn 3\n",
    "|> _assert_eq (Some ())"
   ]
  },
  {
   "cell_type": "markdown",
   "metadata": {},
   "source": [
    "#### full (test)"
   ]
  },
  {
   "cell_type": "code",
   "execution_count": null,
   "metadata": {
    "dotnet_interactive": {
     "language": "fsharp"
    },
    "polyglot_notebook": {
     "kernelName": "fsharp"
    }
   },
   "outputs": [
    {
     "name": "stdout",
     "output_type": "stream",
     "text": [
      "FSharpOption<Unit>\n",
      "      Value: <null>\n",
      "00:00:37 #54 [Debug] watchWithFilter / Disposing watch stream / filter: FileName, LastWrite\n",
      "FSharpList<Tuple<String,String>>\n",
      "( file1.txt, Created )\n",
      "( file1.txt, Changed )\n",
      "( file2.txt, Created )\n",
      "( file2.txt, Changed )\n",
      "( file_1.txt, Changed )\n",
      "( file_1.txt, Renamed )\n",
      "( file_1.txt, Deleted )\n",
      "( file_2.txt, Changed )\n",
      "( file_2.txt, Renamed )\n",
      "( file_2.txt, Deleted )\n",
      "FSharpMap<String,String>\n",
      "      - Key: file1.txt\n",
      "        Value: Changed\n",
      "      - Key: file2.txt\n",
      "        Value: Changed\n",
      "      - Key: file_1.txt\n",
      "        Value: Deleted\n",
      "      - Key: file_2.txt\n",
      "        Value: Deleted\n",
      "FSharpOption<Unit>\n",
      "      Value: <null>\n"
     ]
    }
   ],
   "source": [
    "//// test\n",
    "\n",
    "let inline write path = async {\n",
    "    let n = 2\n",
    "\n",
    "    for i = 1 to n do\n",
    "        do! $\"{i}\" |> writeAllTextAsync (path </> $\"file{i}.txt\")\n",
    "\n",
    "    for i = 1 to n do\n",
    "        do! \"\" |> writeAllTextAsync (path </> $\"file{i}.txt\")\n",
    "\n",
    "    for i = 1 to n do\n",
    "        do! path </> $\"file{i}.txt\" |> moveFileAsync (path </> $\"file_{i}.txt\") |> Async.Ignore\n",
    "\n",
    "    for i = 1 to n do\n",
    "        do! $\"{i}\" |> writeAllTextAsync (path </> $\"file_{i}.txt\")\n",
    "\n",
    "    for i = 1 to n do\n",
    "        do! deleteFileAsync (path </> $\"file_{i}.txt\") |> Async.Ignore\n",
    "\n",
    "    do! Async.Sleep 150\n",
    "}\n",
    "\n",
    "let inline run () =\n",
    "    let eventMap, eventList = testEventsSorted (watchDirectory (fun _ -> false)) write\n",
    "\n",
    "    [\n",
    "        \"file1.txt\", nameof FileSystemChangeType.Created\n",
    "        \"file1.txt\", nameof FileSystemChangeType.Changed\n",
    "        \"file2.txt\", nameof FileSystemChangeType.Created\n",
    "        \"file2.txt\", nameof FileSystemChangeType.Changed\n",
    "\n",
    "        \"file_1.txt\", nameof FileSystemChangeType.Changed\n",
    "        \"file_1.txt\", nameof FileSystemChangeType.Renamed\n",
    "        \"file_1.txt\", nameof FileSystemChangeType.Deleted\n",
    "\n",
    "        \"file_2.txt\", nameof FileSystemChangeType.Changed\n",
    "        \"file_2.txt\", nameof FileSystemChangeType.Renamed\n",
    "        \"file_2.txt\", nameof FileSystemChangeType.Deleted\n",
    "    ]\n",
    "    |> _sequenceEqual eventList\n",
    "\n",
    "    [\n",
    "        \"file1.txt\", nameof FileSystemChangeType.Changed\n",
    "        \"file2.txt\", nameof FileSystemChangeType.Changed\n",
    "        \"file_1.txt\", nameof FileSystemChangeType.Deleted\n",
    "        \"file_2.txt\", nameof FileSystemChangeType.Deleted\n",
    "    ]\n",
    "    |> Map.ofList\n",
    "    |> _sequenceEqual eventMap\n",
    "\n",
    "run\n",
    "|> retryFn 3\n",
    "|> _assert_eq (Some ())"
   ]
  }
 ],
 "metadata": {},
 "nbformat": 4,
 "nbformat_minor": 5
}