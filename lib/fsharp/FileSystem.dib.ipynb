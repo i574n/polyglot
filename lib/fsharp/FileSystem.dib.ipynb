{
 "cells": [
  {
   "cell_type": "markdown",
   "metadata": {},
   "source": [
    "# FileSystem (Polyglot)"
   ]
  },
  {
   "cell_type": "code",
   "execution_count": null,
   "metadata": {
    "dotnet_interactive": {
     "language": "fsharp"
    },
    "polyglot_notebook": {
     "kernelName": "fsharp"
    }
   },
   "outputs": [],
   "source": [
    "#!import ../../lib/fsharp/Notebooks.dib\n",
    "#!import ../../lib/fsharp/Testing.dib"
   ]
  },
  {
   "cell_type": "code",
   "execution_count": null,
   "metadata": {
    "dotnet_interactive": {
     "language": "fsharp"
    },
    "polyglot_notebook": {
     "kernelName": "fsharp"
    }
   },
   "outputs": [],
   "source": [
    "#r @\"../../../../../../../.nuget/packages/fsharp.control.asyncseq/3.2.1/lib/netstandard2.1/FSharp.Control.AsyncSeq.dll\"\n",
    "#r @\"../../../../../../../.nuget/packages/system.reactive/6.0.1-preview.1/lib/net6.0/System.Reactive.dll\"\n",
    "#r @\"../../../../../../../.nuget/packages/system.reactive.linq/6.0.1-preview.1/lib/netstandard2.0/System.Reactive.Linq.dll\"\n",
    "#r @\"../../../../../../../.nuget/packages/argu/6.2.2/lib/netstandard2.0/Argu.dll\"\n",
    "#r @\"../../../../../../../.nuget/packages/system.commandline/2.0.0-beta4.22272.1/lib/net6.0/System.CommandLine.dll\""
   ]
  },
  {
   "cell_type": "code",
   "execution_count": null,
   "metadata": {
    "dotnet_interactive": {
     "language": "fsharp"
    },
    "polyglot_notebook": {
     "kernelName": "fsharp"
    }
   },
   "outputs": [],
   "source": [
    "#!import ../../lib/fsharp/Common.fs\n",
    "#!import ../../lib/fsharp/CommonFSharp.fs\n",
    "#!import ../../lib/fsharp/Async.fs\n",
    "#!import ../../lib/fsharp/AsyncSeq.fs\n",
    "#!import ../../lib/fsharp/Runtime.fs"
   ]
  },
  {
   "cell_type": "code",
   "execution_count": null,
   "metadata": {
    "dotnet_interactive": {
     "language": "fsharp"
    },
    "polyglot_notebook": {
     "kernelName": "fsharp"
    }
   },
   "outputs": [],
   "source": [
    "open Common"
   ]
  },
  {
   "cell_type": "markdown",
   "metadata": {},
   "source": [
    "## Operators"
   ]
  },
  {
   "cell_type": "code",
   "execution_count": null,
   "metadata": {
    "dotnet_interactive": {
     "language": "fsharp"
    },
    "polyglot_notebook": {
     "kernelName": "fsharp"
    }
   },
   "outputs": [],
   "source": [
    "module Operators =\n",
    "    let inline (</>) a b =\n",
    "        System.IO.Path.Combine (a, b)"
   ]
  },
  {
   "cell_type": "code",
   "execution_count": null,
   "metadata": {
    "dotnet_interactive": {
     "language": "fsharp"
    },
    "polyglot_notebook": {
     "kernelName": "fsharp"
    }
   },
   "outputs": [],
   "source": [
    "open Operators"
   ]
  },
  {
   "cell_type": "markdown",
   "metadata": {},
   "source": [
    "## createTempDirectoryName"
   ]
  },
  {
   "cell_type": "code",
   "execution_count": null,
   "metadata": {
    "dotnet_interactive": {
     "language": "fsharp"
    },
    "polyglot_notebook": {
     "kernelName": "fsharp"
    }
   },
   "outputs": [],
   "source": [
    "let inline createTempDirectoryName () =\n",
    "    let root = System.Reflection.Assembly.GetEntryAssembly().GetName().Name\n",
    "\n",
    "    System.IO.Path.GetTempPath ()\n",
    "    </> $\"!{root}\"\n",
    "    </> string (newGuidFromDateTime System.DateTime.Now)"
   ]
  },
  {
   "cell_type": "code",
   "execution_count": null,
   "metadata": {
    "dotnet_interactive": {
     "language": "fsharp"
    },
    "polyglot_notebook": {
     "kernelName": "fsharp"
    }
   },
   "outputs": [
    {
     "name": "stdout",
     "output_type": "stream",
     "text": [
      "/tmp/!dotnet-repl/20240325-2017-3180-8055-84893c5e6675\n"
     ]
    }
   ],
   "source": [
    "//// test\n",
    "\n",
    "createTempDirectoryName ()\n",
    "|> _contains System.IO.Path.DirectorySeparatorChar"
   ]
  },
  {
   "cell_type": "markdown",
   "metadata": {},
   "source": [
    "## createTempDirectory"
   ]
  },
  {
   "cell_type": "code",
   "execution_count": null,
   "metadata": {
    "dotnet_interactive": {
     "language": "fsharp"
    },
    "polyglot_notebook": {
     "kernelName": "fsharp"
    }
   },
   "outputs": [],
   "source": [
    "let inline createTempDirectory () =\n",
    "    let tempFolder = createTempDirectoryName ()\n",
    "    let result = System.IO.Directory.CreateDirectory tempFolder\n",
    "\n",
    "    if not result.Exists then\n",
    "        let getLocals () =\n",
    "            $\"tempFolder: {tempFolder} / result: {({|\n",
    "                Exists = result.Exists\n",
    "                CreationTime = result.CreationTime\n",
    "            |})} {getLocals ()}\"\n",
    "\n",
    "        trace Debug (fun () -> \"createTempDirectory\") getLocals\n",
    "\n",
    "    tempFolder"
   ]
  },
  {
   "cell_type": "code",
   "execution_count": null,
   "metadata": {
    "dotnet_interactive": {
     "language": "fsharp"
    },
    "polyglot_notebook": {
     "kernelName": "fsharp"
    }
   },
   "outputs": [
    {
     "name": "stdout",
     "output_type": "stream",
     "text": [
      "True\n"
     ]
    }
   ],
   "source": [
    "//// test\n",
    "\n",
    "let tempDirectory = createTempDirectory ()\n",
    "\n",
    "Directory.Exists tempDirectory\n",
    "|> _assertEqual true"
   ]
  },
  {
   "cell_type": "markdown",
   "metadata": {},
   "source": [
    "## getSourceDirectory"
   ]
  },
  {
   "cell_type": "code",
   "execution_count": null,
   "metadata": {
    "dotnet_interactive": {
     "language": "fsharp"
    },
    "polyglot_notebook": {
     "kernelName": "fsharp"
    }
   },
   "outputs": [],
   "source": [
    "let getSourceDirectory =\n",
    "    fun () -> __SOURCE_DIRECTORY__\n",
    "    |> memoize"
   ]
  },
  {
   "cell_type": "code",
   "execution_count": null,
   "metadata": {
    "dotnet_interactive": {
     "language": "fsharp"
    },
    "polyglot_notebook": {
     "kernelName": "fsharp"
    }
   },
   "outputs": [
    {
     "name": "stdout",
     "output_type": "stream",
     "text": [
      "fsharp\n"
     ]
    }
   ],
   "source": [
    "//// test\n",
    "\n",
    "getSourceDirectory ()\n",
    "|> System.IO.DirectoryInfo\n",
    "|> fun dir -> dir.Name\n",
    "|> _assertEqual \"fsharp\""
   ]
  },
  {
   "cell_type": "markdown",
   "metadata": {},
   "source": [
    "## findParent"
   ]
  },
  {
   "cell_type": "code",
   "execution_count": null,
   "metadata": {
    "dotnet_interactive": {
     "language": "fsharp"
    },
    "polyglot_notebook": {
     "kernelName": "fsharp"
    }
   },
   "outputs": [],
   "source": [
    "let inline findParent name isFile rootDir =\n",
    "    let rec loop dir =\n",
    "        if dir </> name |> (if isFile then System.IO.File.Exists else System.IO.Directory.Exists)\n",
    "        then dir\n",
    "        else\n",
    "            dir\n",
    "            |> System.IO.Directory.GetParent\n",
    "            |> function\n",
    "                | null -> failwith $\"\"\"No parent for {if isFile then \"file\" else \"dir\"} '{name}' at '{rootDir}'\"\"\"\n",
    "                | parent -> parent.FullName |> loop\n",
    "    loop rootDir"
   ]
  },
  {
   "cell_type": "code",
   "execution_count": null,
   "metadata": {
    "dotnet_interactive": {
     "language": "fsharp"
    },
    "polyglot_notebook": {
     "kernelName": "fsharp"
    }
   },
   "outputs": [
    {
     "name": "stdout",
     "output_type": "stream",
     "text": [
      "polyglot\n"
     ]
    }
   ],
   "source": [
    "//// test\n",
    "\n",
    "getSourceDirectory () |> findParent \".paket\" false\n",
    "|> System.IO.DirectoryInfo\n",
    "|> fun dir -> dir.Name\n",
    "|> _assertEqual \"polyglot\""
   ]
  },
  {
   "cell_type": "code",
   "execution_count": null,
   "metadata": {
    "dotnet_interactive": {
     "language": "fsharp"
    },
    "polyglot_notebook": {
     "kernelName": "fsharp"
    }
   },
   "outputs": [
    {
     "name": "stdout",
     "output_type": "stream",
     "text": [
      "polyglot\n"
     ]
    }
   ],
   "source": [
    "//// test\n",
    "\n",
    "getSourceDirectory () |> findParent \"paket.dependencies\" true\n",
    "|> System.IO.DirectoryInfo\n",
    "|> fun dir -> dir.Name\n",
    "|> _assertEqual \"polyglot\""
   ]
  },
  {
   "cell_type": "markdown",
   "metadata": {},
   "source": [
    "## readAllTextAsync"
   ]
  },
  {
   "cell_type": "code",
   "execution_count": null,
   "metadata": {
    "dotnet_interactive": {
     "language": "fsharp"
    },
    "polyglot_notebook": {
     "kernelName": "fsharp"
    }
   },
   "outputs": [],
   "source": [
    "let inline readAllTextAsync path =\n",
    "    path |> System.IO.File.ReadAllTextAsync |> Async.AwaitTask"
   ]
  },
  {
   "cell_type": "markdown",
   "metadata": {},
   "source": [
    "## fileExistsContent"
   ]
  },
  {
   "cell_type": "code",
   "execution_count": null,
   "metadata": {
    "dotnet_interactive": {
     "language": "fsharp"
    },
    "polyglot_notebook": {
     "kernelName": "fsharp"
    }
   },
   "outputs": [],
   "source": [
    "let inline fileExistsContent path content = async {\n",
    "    if path |> System.IO.File.Exists |> not\n",
    "    then return false\n",
    "    else\n",
    "        let! existingContent = path |> readAllTextAsync\n",
    "        return content = existingContent\n",
    "}"
   ]
  },
  {
   "cell_type": "markdown",
   "metadata": {},
   "source": [
    "## writeAllTextAsync"
   ]
  },
  {
   "cell_type": "code",
   "execution_count": null,
   "metadata": {
    "dotnet_interactive": {
     "language": "fsharp"
    },
    "polyglot_notebook": {
     "kernelName": "fsharp"
    }
   },
   "outputs": [],
   "source": [
    "let inline writeAllTextAsync path contents =\n",
    "    System.IO.File.WriteAllTextAsync (path, contents) |> Async.AwaitTask"
   ]
  },
  {
   "cell_type": "markdown",
   "metadata": {},
   "source": [
    "## writeAllTextExists"
   ]
  },
  {
   "cell_type": "code",
   "execution_count": null,
   "metadata": {
    "dotnet_interactive": {
     "language": "fsharp"
    },
    "polyglot_notebook": {
     "kernelName": "fsharp"
    }
   },
   "outputs": [],
   "source": [
    "let inline writeAllTextExists path contents = async {\n",
    "    let! exists = contents |> fileExistsContent path\n",
    "    if not exists\n",
    "    then do! contents |> writeAllTextAsync path\n",
    "}"
   ]
  },
  {
   "cell_type": "markdown",
   "metadata": {},
   "source": [
    "## waitForFileAccess"
   ]
  },
  {
   "cell_type": "code",
   "execution_count": null,
   "metadata": {
    "dotnet_interactive": {
     "language": "fsharp"
    },
    "polyglot_notebook": {
     "kernelName": "fsharp"
    }
   },
   "outputs": [],
   "source": [
    "let inline waitForFileAccess access path =\n",
    "    let fileAccess, fileShare =\n",
    "        access\n",
    "        |> Option.defaultValue (System.IO.FileAccess.ReadWrite, System.IO.FileShare.Read)\n",
    "\n",
    "    let rec loop retry = async {\n",
    "        try\n",
    "            use _ = new System.IO.FileStream (\n",
    "                path,\n",
    "                System.IO.FileMode.Open,\n",
    "                fileAccess,\n",
    "                fileShare\n",
    "            )\n",
    "            return retry\n",
    "        with ex ->\n",
    "            if retry % 100 = 0 then\n",
    "                let getLocals () = $\"path: {path |> System.IO.Path.GetFileName} / ex: {ex |> printException} / {getLocals ()}\"\n",
    "                trace Debug (fun () -> \"waitForFileAccess\") getLocals\n",
    "            do! Async.Sleep 10\n",
    "            return! loop (retry + 1)\n",
    "    }\n",
    "    loop 0"
   ]
  },
  {
   "cell_type": "code",
   "execution_count": null,
   "metadata": {
    "dotnet_interactive": {
     "language": "fsharp"
    },
    "polyglot_notebook": {
     "kernelName": "fsharp"
    }
   },
   "outputs": [
    {
     "name": "stdout",
     "output_type": "stream",
     "text": [
      "00:00:00 #1 [Debug] 1\n",
      "00:00:00 #2 [Debug] 2\n",
      "00:00:00 #3 [Debug] _1\n",
      "00:00:00 #4 [Debug] 3\n",
      "00:00:00 #5 [Debug] _2\n",
      "00:00:00 #6 [Debug] 4\n",
      "00:00:00 #7 [Debug] waitForFileAccess / path: test.txt / ex: System.IO.IOException: The process cannot access the file '/tmp/!dotnet-repl/20240325-2017-3237-3753-36c495e25904/test.txt' because it is being used by another process.\n",
      "00:00:01 #8 [Debug] waitForFileAccess / path: test.txt / ex: System.IO.IOException: The process cannot access the file '/tmp/!dotnet-repl/20240325-2017-3237-3753-36c495e25904/test.txt' because it is being used by another process.\n",
      "00:00:02 #9 [Debug] _3\n",
      "00:00:02 #10 [Debug] _4\n",
      "00:00:02 #11 [Debug] _5\n",
      "00:00:02 #12 [Debug] _6\n",
      "00:00:02 #13 [Debug] 5\n",
      "00:00:02 #14 [Debug] 6\n",
      "00:00:02 #15 [Debug] 7\n",
      "167\n",
      "167\n",
      "167\n",
      "1\n",
      "True\n"
     ]
    }
   ],
   "source": [
    "//// test\n",
    "\n",
    "let tempFolder = createTempDirectory ()\n",
    "let path = tempFolder </> \"test.txt\"\n",
    "\n",
    "let inline lockFile () = async {\n",
    "    trace Debug (fun () -> \"_1\") getLocals\n",
    "    use stream = new System.IO.FileStream (\n",
    "        path,\n",
    "        System.IO.FileMode.Open,\n",
    "        System.IO.FileAccess.ReadWrite,\n",
    "        System.IO.FileShare.None\n",
    "    )\n",
    "    trace Debug (fun () -> \"_2\") getLocals\n",
    "    do! Async.Sleep 2000\n",
    "    trace Debug (fun () -> \"_3\") getLocals\n",
    "    stream.Seek (0L, SeekOrigin.Begin) |> ignore\n",
    "    trace Debug (fun () -> \"_4\") getLocals\n",
    "    stream.WriteByte 49uy\n",
    "    trace Debug (fun () -> \"_5\") getLocals\n",
    "    stream.Flush ()\n",
    "    trace Debug (fun () -> \"_6\") getLocals\n",
    "}\n",
    "\n",
    "async {\n",
    "    trace Debug (fun () -> \"1\") getLocals\n",
    "    do! \"0\" |> writeAllTextAsync path\n",
    "    trace Debug (fun () -> \"2\") getLocals\n",
    "    let! child = lockFile () |> Async.StartChild\n",
    "    trace Debug (fun () -> \"3\") getLocals\n",
    "    do! Async.Sleep 1\n",
    "    trace Debug (fun () -> \"4\") getLocals\n",
    "    let! retries = path |> waitForFileAccess None\n",
    "    trace Debug (fun () -> \"5\") getLocals\n",
    "    let! text = path |> readAllTextAsync\n",
    "    trace Debug (fun () -> \"6\") getLocals\n",
    "    do! child\n",
    "    trace Debug (fun () -> \"7\") getLocals\n",
    "    return retries, text\n",
    "}\n",
    "|> Async.runWithTimeout 3000\n",
    "|> function\n",
    "    | Some (retries, text) ->\n",
    "        retries\n",
    "        |> _isBetween\n",
    "            (if Runtime.isWindows () then 100 else 100)\n",
    "            (if Runtime.isWindows () then 150 else 200)\n",
    "\n",
    "        text |> _assertEqual \"1\"\n",
    "\n",
    "        true\n",
    "    | _ -> false\n",
    "|> _assertEqual true"
   ]
  },
  {
   "cell_type": "markdown",
   "metadata": {},
   "source": [
    "## readAllTextRetryAsync"
   ]
  },
  {
   "cell_type": "code",
   "execution_count": null,
   "metadata": {
    "dotnet_interactive": {
     "language": "fsharp"
    },
    "polyglot_notebook": {
     "kernelName": "fsharp"
    }
   },
   "outputs": [],
   "source": [
    "let inline readAllTextRetryAsync fullPath =\n",
    "    let rec loop retry = async {\n",
    "        try\n",
    "            if retry > 0\n",
    "            then do!\n",
    "                fullPath\n",
    "                |> waitForFileAccess (Some (\n",
    "                    System.IO.FileAccess.Read,\n",
    "                    System.IO.FileShare.Read\n",
    "                ))\n",
    "                |> Async.runWithTimeoutAsync 1000\n",
    "                |> Async.Ignore\n",
    "            return! fullPath |> readAllTextAsync |> Async.map Some\n",
    "        with ex ->\n",
    "            let getLocals () = $\"retry: {retry} / ex: {ex |> printException} / {getLocals ()}\"\n",
    "            trace Debug (fun () -> $\"watchWithFilter / readContent\") getLocals\n",
    "            if retry = 0\n",
    "            then return! loop (retry + 1)\n",
    "            else return None\n",
    "    }\n",
    "    loop 0"
   ]
  },
  {
   "cell_type": "markdown",
   "metadata": {},
   "source": [
    "## deleteDirectoryAsync"
   ]
  },
  {
   "cell_type": "code",
   "execution_count": null,
   "metadata": {
    "dotnet_interactive": {
     "language": "fsharp"
    },
    "polyglot_notebook": {
     "kernelName": "fsharp"
    }
   },
   "outputs": [],
   "source": [
    "let inline deleteDirectoryAsync path =\n",
    "    let rec loop retry = async {\n",
    "        try\n",
    "            System.IO.Directory.Delete (path, true)\n",
    "            return retry\n",
    "        with ex ->\n",
    "            if retry % 100 = 0 then\n",
    "                let getLocals () = $\"path: {path |> System.IO.Path.GetFileName} / ex: {ex |> printException} / {getLocals ()}\"\n",
    "                trace Debug (fun () -> \"deleteDirectoryAsync\") getLocals\n",
    "            do! Async.Sleep 10\n",
    "            return! loop (retry + 1)\n",
    "    }\n",
    "    loop 0"
   ]
  },
  {
   "cell_type": "code",
   "execution_count": null,
   "metadata": {
    "dotnet_interactive": {
     "language": "fsharp"
    },
    "polyglot_notebook": {
     "kernelName": "fsharp"
    }
   },
   "outputs": [
    {
     "name": "stdout",
     "output_type": "stream",
     "text": [
      "00:00:02 #16 [Debug] 1\n",
      "00:00:02 #17 [Debug] 2\n",
      "00:00:02 #18 [Debug] 3\n",
      "00:00:02 #19 [Debug] _1\n",
      "00:00:02 #20 [Debug] _2\n",
      "00:00:02 #21 [Debug] 4\n",
      "00:00:02 #22 [Debug] 5\n",
      "00:00:04 #23 [Debug] _3\n",
      "00:00:04 #24 [Debug] 6\n",
      "0\n",
      "0\n",
      "0\n",
      "True\n"
     ]
    }
   ],
   "source": [
    "//// test\n",
    "\n",
    "let tempFolder = createTempDirectory ()\n",
    "let path = tempFolder </> \"test\"\n",
    "\n",
    "let inline lockDirectory () = async {\n",
    "    trace Debug (fun () -> \"_1\") getLocals\n",
    "    System.IO.File.WriteAllText (path </> \"test.txt\", \"0\")\n",
    "    use _ = new System.IO.FileStream (\n",
    "        path </> \"test.txt\",\n",
    "        System.IO.FileMode.Open,\n",
    "        System.IO.FileAccess.ReadWrite,\n",
    "        System.IO.FileShare.None\n",
    "    )\n",
    "    trace Debug (fun () -> \"_2\") getLocals\n",
    "    do! Async.Sleep 2000\n",
    "    trace Debug (fun () -> \"_3\") getLocals\n",
    "}\n",
    "\n",
    "async {\n",
    "    trace Debug (fun () -> \"1\") getLocals\n",
    "    Directory.CreateDirectory path |> ignore\n",
    "    trace Debug (fun () -> \"2\") getLocals\n",
    "    let! child = lockDirectory () |> Async.StartChild\n",
    "    trace Debug (fun () -> \"3\") getLocals\n",
    "    do! Async.Sleep 60\n",
    "    trace Debug (fun () -> \"4\") getLocals\n",
    "    let! retries = deleteDirectoryAsync path\n",
    "    trace Debug (fun () -> \"5\") getLocals\n",
    "    do! child\n",
    "    trace Debug (fun () -> \"6\") getLocals\n",
    "    return retries\n",
    "}\n",
    "|> Async.runWithTimeout 3000\n",
    "|> function\n",
    "    | Some retries ->\n",
    "        retries\n",
    "        |> _isBetween\n",
    "            (if Runtime.isWindows () then 100 else 0)\n",
    "            (if Runtime.isWindows () then 150 else 0)\n",
    "\n",
    "        true\n",
    "    | _ -> false\n",
    "|> _assertEqual true"
   ]
  },
  {
   "cell_type": "markdown",
   "metadata": {},
   "source": [
    "## deleteFileAsync"
   ]
  },
  {
   "cell_type": "code",
   "execution_count": null,
   "metadata": {
    "dotnet_interactive": {
     "language": "fsharp"
    },
    "polyglot_notebook": {
     "kernelName": "fsharp"
    }
   },
   "outputs": [],
   "source": [
    "let inline deleteFileAsync path =\n",
    "    let rec loop retry = async {\n",
    "        try\n",
    "            System.IO.File.Delete path\n",
    "            return retry\n",
    "        with ex ->\n",
    "            if retry % 100 = 0 then\n",
    "                let getLocals () = $\"path: {path |> System.IO.Path.GetFileName} / ex: {ex |> printException} / {getLocals ()}\"\n",
    "                trace Warning (fun () -> \"deleteFileAsync\") getLocals\n",
    "            do! Async.Sleep 10\n",
    "            return! loop (retry + 1)\n",
    "    }\n",
    "    loop 0"
   ]
  },
  {
   "cell_type": "code",
   "execution_count": null,
   "metadata": {
    "dotnet_interactive": {
     "language": "fsharp"
    },
    "polyglot_notebook": {
     "kernelName": "fsharp"
    }
   },
   "outputs": [
    {
     "name": "stdout",
     "output_type": "stream",
     "text": [
      "00:00:04 #25 [Debug] 1\n",
      "00:00:04 #26 [Debug] 2\n",
      "00:00:04 #27 [Debug] 3\n",
      "00:00:04 #28 [Debug] _1\n",
      "00:00:04 #29 [Debug] _2\n",
      "00:00:04 #30 [Debug] 4\n",
      "00:00:04 #31 [Debug] 5\n",
      "00:00:06 #32 [Debug] _3\n",
      "00:00:06 #33 [Debug] 6\n",
      "0\n",
      "0\n",
      "0\n",
      "True\n"
     ]
    }
   ],
   "source": [
    "//// test\n",
    "\n",
    "let tempFolder = createTempDirectory ()\n",
    "let path = tempFolder </> \"test.txt\"\n",
    "\n",
    "let inline lockFile () = async {\n",
    "    trace Debug (fun () -> \"_1\") getLocals\n",
    "    use _ = new System.IO.FileStream (\n",
    "        path,\n",
    "        System.IO.FileMode.Open,\n",
    "        System.IO.FileAccess.ReadWrite,\n",
    "        System.IO.FileShare.None\n",
    "    )\n",
    "    trace Debug (fun () -> \"_2\") getLocals\n",
    "    do! Async.Sleep 2000\n",
    "    trace Debug (fun () -> \"_3\") getLocals\n",
    "}\n",
    "\n",
    "async {\n",
    "    trace Debug (fun () -> \"1\") getLocals\n",
    "    do! \"0\" |> writeAllTextAsync path\n",
    "    trace Debug (fun () -> \"2\") getLocals\n",
    "    let! child = lockFile () |> Async.StartChild\n",
    "    trace Debug (fun () -> \"3\") getLocals\n",
    "    do! Async.Sleep 1\n",
    "    trace Debug (fun () -> \"4\") getLocals\n",
    "    let! retries = deleteFileAsync path\n",
    "    trace Debug (fun () -> \"5\") getLocals\n",
    "    do! child\n",
    "    trace Debug (fun () -> \"6\") getLocals\n",
    "    return retries\n",
    "}\n",
    "|> Async.runWithTimeout 3000\n",
    "|> function\n",
    "    | Some retries ->\n",
    "        retries\n",
    "        |> _isBetween\n",
    "            (if Runtime.isWindows () then 100 else 0)\n",
    "            (if Runtime.isWindows () then 150 else 0)\n",
    "\n",
    "        true\n",
    "    | _ -> false\n",
    "|> _assertEqual true"
   ]
  },
  {
   "cell_type": "markdown",
   "metadata": {},
   "source": [
    "## moveFileAsync"
   ]
  },
  {
   "cell_type": "code",
   "execution_count": null,
   "metadata": {
    "dotnet_interactive": {
     "language": "fsharp"
    },
    "polyglot_notebook": {
     "kernelName": "fsharp"
    }
   },
   "outputs": [],
   "source": [
    "let inline moveFileAsync newPath oldPath =\n",
    "    let rec loop retry = async {\n",
    "        try\n",
    "            System.IO.File.Move (oldPath, newPath)\n",
    "            return retry\n",
    "        with ex ->\n",
    "            if retry % 100 = 0 then\n",
    "                let getLocals () =\n",
    "                    $\"oldPath: {oldPath |> System.IO.Path.GetFileName} / newPath: {newPath |> System.IO.Path.GetFileName} / ex: {ex |> printException} / {getLocals ()}\"\n",
    "                trace Warning (fun () -> \"moveFileAsync\") getLocals\n",
    "            do! Async.Sleep 10\n",
    "            return! loop (retry + 1)\n",
    "    }\n",
    "    loop 0"
   ]
  },
  {
   "cell_type": "code",
   "execution_count": null,
   "metadata": {
    "dotnet_interactive": {
     "language": "fsharp"
    },
    "polyglot_notebook": {
     "kernelName": "fsharp"
    }
   },
   "outputs": [
    {
     "name": "stdout",
     "output_type": "stream",
     "text": [
      "00:00:06 #34 [Debug] 1\n",
      "00:00:06 #35 [Debug] 2\n",
      "00:00:06 #36 [Debug] 3\n",
      "00:00:06 #37 [Debug] _1\n",
      "00:00:06 #38 [Debug] _2\n",
      "00:00:06 #39 [Debug] 4\n",
      "00:00:06 #40 [Debug] 5\n",
      "00:00:06 #41 [Debug] waitForFileAccess / path: test2.txt / ex: System.IO.IOException: The process cannot access the file '/tmp/!dotnet-repl/20240325-2017-3922-2205-2bdeac745b9d/test2.txt' because it is being used by another process.\n",
      "00:00:08 #42 [Debug] waitForFileAccess / path: test2.txt / ex: System.IO.IOException: The process cannot access the file '/tmp/!dotnet-repl/20240325-2017-3922-2205-2bdeac745b9d/test2.txt' because it is being used by another process.\n",
      "00:00:08 #43 [Debug] _3\n",
      "00:00:08 #44 [Debug] 6\n",
      "00:00:08 #45 [Debug] 7\n",
      "00:00:08 #46 [Debug] 8\n",
      "0\n",
      "0\n",
      "0\n",
      "167\n",
      "167\n",
      "167\n",
      "0\n",
      "True\n"
     ]
    }
   ],
   "source": [
    "//// test\n",
    "\n",
    "let tempFolder = createTempDirectory ()\n",
    "let path = tempFolder </> \"test.txt\"\n",
    "let newPath = tempFolder </> \"test2.txt\"\n",
    "\n",
    "let inline lockFile () = async {\n",
    "    trace Debug (fun () -> \"_1\") getLocals\n",
    "    use _ = new System.IO.FileStream (\n",
    "        path,\n",
    "        System.IO.FileMode.Open,\n",
    "        System.IO.FileAccess.ReadWrite,\n",
    "        System.IO.FileShare.None\n",
    "    )\n",
    "    trace Debug (fun () -> \"_2\") getLocals\n",
    "    do! Async.Sleep 2000\n",
    "    trace Debug (fun () -> \"_3\") getLocals\n",
    "}\n",
    "\n",
    "async {\n",
    "    trace Debug (fun () -> \"1\") getLocals\n",
    "    do! \"0\" |> writeAllTextAsync path\n",
    "    trace Debug (fun () -> \"2\") getLocals\n",
    "    let! child = lockFile () |> Async.StartChild\n",
    "    trace Debug (fun () -> \"3\") getLocals\n",
    "    do! Async.Sleep 1\n",
    "    trace Debug (fun () -> \"4\") getLocals\n",
    "    let! retries1 = path |> moveFileAsync newPath\n",
    "    trace Debug (fun () -> \"5\") getLocals\n",
    "    let! retries2 = newPath |> waitForFileAccess None\n",
    "    trace Debug (fun () -> \"6\") getLocals\n",
    "    let! text = newPath |> readAllTextAsync\n",
    "    trace Debug (fun () -> \"7\") getLocals\n",
    "    do! child\n",
    "    trace Debug (fun () -> \"8\") getLocals\n",
    "    return retries1, retries2, text\n",
    "}\n",
    "|> Async.runWithTimeout 3000\n",
    "|> function\n",
    "    | Some (retries1, retries2, text) ->\n",
    "        retries1\n",
    "        |> _isBetween\n",
    "            (if Runtime.isWindows () then 100 else 0)\n",
    "            (if Runtime.isWindows () then 150 else 0)\n",
    "\n",
    "        retries2\n",
    "        |> _isBetween\n",
    "            (if Runtime.isWindows () then 0 else 100)\n",
    "            (if Runtime.isWindows () then 0 else 200)\n",
    "\n",
    "        text |> _assertEqual \"0\"\n",
    "\n",
    "        true\n",
    "    | _ -> false\n",
    "|> _assertEqual true"
   ]
  },
  {
   "cell_type": "markdown",
   "metadata": {},
   "source": [
    "## watchDirectory"
   ]
  },
  {
   "cell_type": "code",
   "execution_count": null,
   "metadata": {
    "dotnet_interactive": {
     "language": "fsharp"
    },
    "polyglot_notebook": {
     "kernelName": "fsharp"
    }
   },
   "outputs": [],
   "source": [
    "[<RequireQualifiedAccess>]\n",
    "type FileSystemChangeType =\n",
    "    | Failure\n",
    "    | Changed\n",
    "    | Created\n",
    "    | Deleted\n",
    "    | Renamed\n",
    "\n",
    "[<RequireQualifiedAccess>]\n",
    "type FileSystemChange =\n",
    "    | Failure of exn: exn\n",
    "    | Changed of path: string * content: string option\n",
    "    | Created of path: string * content: string option\n",
    "    | Deleted of path: string\n",
    "    | Renamed of oldPath: string * (string * string option)\n",
    "\n",
    "\n",
    "let inline watchDirectoryWithFilter filter shouldReadContent path =\n",
    "    let fullPath = path |> System.IO.Path.GetFullPath\n",
    "    let getLocals () = $\"filter: {filter} / {getLocals ()}\"\n",
    "\n",
    "    let watcher =\n",
    "        new System.IO.FileSystemWatcher (\n",
    "            Path = fullPath,\n",
    "            NotifyFilter = filter,\n",
    "            EnableRaisingEvents = true,\n",
    "            IncludeSubdirectories = true\n",
    "        )\n",
    "\n",
    "    let inline getEventPath (path : string) =\n",
    "        path |> String.trim |> String.replace fullPath \"\" |> String.trimStart [| '/'; '\\\\' |]\n",
    "\n",
    "    let inline ticks () =\n",
    "        System.DateTime.UtcNow.Ticks\n",
    "\n",
    "    let changedStream =\n",
    "        AsyncSeq.subscribeEvent\n",
    "            watcher.Changed\n",
    "            (fun event ->\n",
    "                ticks (),\n",
    "                [ FileSystemChange.Changed (getEventPath event.FullPath, None) ]\n",
    "            )\n",
    "\n",
    "    let deletedStream =\n",
    "        AsyncSeq.subscribeEvent\n",
    "            watcher.Deleted\n",
    "            (fun event ->\n",
    "                ticks (),\n",
    "                [ FileSystemChange.Deleted (getEventPath event.FullPath) ]\n",
    "            )\n",
    "\n",
    "    let createdStream =\n",
    "        AsyncSeq.subscribeEvent\n",
    "            watcher.Created\n",
    "            (fun event ->\n",
    "                let path = getEventPath event.FullPath\n",
    "                ticks (), [\n",
    "                    FileSystemChange.Created (path, None)\n",
    "                    if Runtime.isWindows () then\n",
    "                        FileSystemChange.Changed (path, None)\n",
    "                ])\n",
    "\n",
    "    let renamedStream =\n",
    "        AsyncSeq.subscribeEvent\n",
    "            watcher.Renamed\n",
    "            (fun event ->\n",
    "                ticks (), [\n",
    "                    FileSystemChange.Renamed (\n",
    "                        getEventPath event.OldFullPath,\n",
    "                        (getEventPath event.FullPath, None)\n",
    "                    )\n",
    "                ]\n",
    "            )\n",
    "\n",
    "    let failureStream =\n",
    "        AsyncSeq.subscribeEvent\n",
    "            watcher.Error\n",
    "            (fun event -> ticks (), [ FileSystemChange.Failure (event.GetException ()) ])\n",
    "\n",
    "    let stream =\n",
    "        [\n",
    "            changedStream\n",
    "            deletedStream\n",
    "            createdStream\n",
    "            renamedStream\n",
    "            failureStream\n",
    "        ]\n",
    "        |> FSharp.Control.AsyncSeq.mergeAll\n",
    "        |> FSharp.Control.AsyncSeq.map (fun (t, events) ->\n",
    "            events\n",
    "            |> List.fold\n",
    "                (fun (i, events) event ->\n",
    "                    i + 1L,\n",
    "                    (t + i, event) :: events)\n",
    "                (0L, [])\n",
    "            |> snd\n",
    "            |> List.rev\n",
    "        )\n",
    "        |> FSharp.Control.AsyncSeq.concatSeq\n",
    "        |> FSharp.Control.AsyncSeq.mapAsyncParallel (fun (t, event) -> async {\n",
    "            match shouldReadContent event, event with\n",
    "            | true, FileSystemChange.Changed (path, _) ->\n",
    "                do! Async.Sleep 5\n",
    "                let! content = fullPath </> path |> readAllTextRetryAsync\n",
    "                return t, FileSystemChange.Changed (path, content)\n",
    "            | true, FileSystemChange.Created (path, _) ->\n",
    "                do! Async.Sleep 5\n",
    "                let! content = fullPath </> path |> readAllTextRetryAsync\n",
    "                return t, FileSystemChange.Created (path, content)\n",
    "            | true, FileSystemChange.Renamed (oldPath, (newPath, _)) ->\n",
    "                let! content = fullPath </> newPath |> readAllTextRetryAsync\n",
    "                return t, FileSystemChange.Renamed (oldPath, (newPath, content))\n",
    "            | _ -> return t, event\n",
    "        })\n",
    "\n",
    "    let disposable =\n",
    "        newDisposable (fun () ->\n",
    "            trace Debug (fun () -> \"watchWithFilter / Disposing watch stream\") getLocals\n",
    "            watcher.EnableRaisingEvents <- false\n",
    "            watcher.Dispose ()\n",
    "        )\n",
    "\n",
    "    stream, disposable\n",
    "\n",
    "let inline watchDirectory path =\n",
    "    watchDirectoryWithFilter\n",
    "        (System.IO.NotifyFilters.FileName\n",
    "        // ||| System.IO.NotifyFilters.DirectoryName\n",
    "        // ||| System.IO.NotifyFilters.Attributes\n",
    "        //// ||| System.IO.NotifyFilters.Size\n",
    "        ||| System.IO.NotifyFilters.LastWrite\n",
    "        //// ||| System.IO.NotifyFilters.LastAccess\n",
    "        // ||| System.IO.NotifyFilters.CreationTime\n",
    "        // ||| System.IO.NotifyFilters.Security\n",
    "        )\n",
    "        path"
   ]
  },
  {
   "cell_type": "markdown",
   "metadata": {},
   "source": [
    "### testEventsRaw (test)"
   ]
  },
  {
   "cell_type": "code",
   "execution_count": null,
   "metadata": {
    "dotnet_interactive": {
     "language": "fsharp"
    },
    "polyglot_notebook": {
     "kernelName": "fsharp"
    }
   },
   "outputs": [],
   "source": [
    "//// test\n",
    "\n",
    "let inline testEventsRaw\n",
    "    (watchFn : (_ -> bool) -> string -> FSharp.Control.AsyncSeq<int64 * FileSystemChange> * IDisposable)\n",
    "    write\n",
    "    =\n",
    "    let tempDirectory = createTempDirectory ()\n",
    "    let stream, disposable = watchFn (fun _ -> true) tempDirectory\n",
    "\n",
    "    let events = System.Collections.Concurrent.ConcurrentBag ()\n",
    "\n",
    "    let inline iter () =\n",
    "        stream\n",
    "        |> FSharp.Control.AsyncSeq.iterAsyncParallel (fun event -> async { events.Add event })\n",
    "\n",
    "    let run = async {\n",
    "        let! _ = iter () |> Async.StartChild\n",
    "        do! Async.Sleep 250\n",
    "        return! write tempDirectory\n",
    "    }\n",
    "\n",
    "    try\n",
    "        run\n",
    "        |> Async.runWithTimeout 60000\n",
    "        |> _assertEqual (Some ())\n",
    "    finally\n",
    "        disposable.Dispose ()\n",
    "        deleteDirectoryAsync tempDirectory |> Async.Ignore |> Async.RunSynchronously\n",
    "\n",
    "    let eventsLog =\n",
    "        events\n",
    "        |> Seq.toList\n",
    "        |> List.sortBy fst\n",
    "        |> List.fold\n",
    "            (fun (prev, acc) (ticks, event) ->\n",
    "                ticks, (ticks, (if prev = 0L then 0L else ticks - prev), event) :: acc\n",
    "            )\n",
    "            (0L, [])\n",
    "        |> snd\n",
    "        |> List.rev\n",
    "        |> List.map (fun (diff, n, event) ->\n",
    "            let text = $\"{n} / {diff} / {event}\"\n",
    "            if text |> String.length <= 100\n",
    "            then text\n",
    "            else text |> String.substring 0 100 |> String.replace \"\\n\" \"\"\n",
    "        )\n",
    "        |> String.concat \"\\n\"\n",
    "    let getLocals () = $\"eventsLog: \\n{eventsLog} / {getLocals ()}\"\n",
    "    trace Debug (fun () -> \"testEventsRaw\") getLocals\n",
    "\n",
    "    events\n",
    "    |> Seq.toList\n",
    "    |> List.sortBy fst\n",
    "    |> List.map snd\n",
    "    |> List.fold\n",
    "        (fun acc event ->\n",
    "            match acc, event with\n",
    "            | FileSystemChange.Changed (lastPath, Some lastContent) as lastEvent :: acc,\n",
    "                FileSystemChange.Changed (path, Some content)\n",
    "                when lastPath = path && content |> String.startsWith lastContent\n",
    "                ->\n",
    "                event :: acc\n",
    "            | _ -> event :: acc\n",
    "        )\n",
    "        []\n",
    "    |> List.rev"
   ]
  },
  {
   "cell_type": "markdown",
   "metadata": {},
   "source": [
    "#### fast (test)"
   ]
  },
  {
   "cell_type": "code",
   "execution_count": null,
   "metadata": {
    "dotnet_interactive": {
     "language": "fsharp"
    },
    "polyglot_notebook": {
     "kernelName": "fsharp"
    }
   },
   "outputs": [
    {
     "name": "stdout",
     "output_type": "stream",
     "text": [
      "FSharpOption<Unit>\n",
      "      Value: <null>\n",
      "00:00:13 #47 [Debug] watchWithFilter / Disposing watch stream / filter: FileName, LastWrite\n",
      "00:00:13 #48 [Debug] testEventsRaw / eventsLog: \n",
      "0 / 638469946643797212 / Created (\"file1.txt\", Some \"a1\")\n",
      "14185 / 638469946643811397 / Changed (\"file1.txt\", Some \"a1\")\n",
      "1503 / 638469946643812900 / Created (\"file2.txt\", Some \"a2\")\n",
      "47 / 638469946643812947 / Changed (\"file2.txt\", Some \"a2\")\n",
      "2479044 / 638469946646291991 / Changed (\"file1.txt\", Some \"b1\")\n",
      "702 / 638469946646292693 / Changed (\"file1.txt\", Some \"b1\")\n",
      "5332 / 638469946646298025 / Changed (\"file2.txt\", Some \"b2\")\n",
      "463 / 638469946646298488 / Changed (\"file2.txt\", Some \"b2\")\n",
      "2548052 / 638469946648846540 / Renamed (\"file1.txt\", (\"file_1.txt\", Some \"b1\"))\n",
      "1658 / 638469946648848198 / Renamed (\"file2.txt\", (\"file_2.txt\", Some \"b2\"))\n",
      "2521447 / 638469946651369645 / Changed (\"file_1.txt\", Some \"c1\")\n",
      "602 / 638469946651370247 / Changed (\"file_1.txt\", Some \"c1\")\n",
      "4612 / 638469946651374859 / Changed (\"file_2.txt\", Some \"c2\")\n",
      "318 / 638469946651375177 / Changed (\"file_2.txt\", Some \"c2\")\n",
      "2520627 / 638469946653895804 / Deleted \"file_1.txt\"\n",
      "1270 / 638469946653897074 / Deleted \"file_2.txt\"\n",
      "FSharpList<FileSystemChange>\n",
      "      - path: file1.txt\n",
      "        content: FSharpOption<String>\n",
      "          Value: a1\n",
      "        IsFailure: False\n",
      "        IsChanged: False\n",
      "        IsCreated: True\n",
      "        IsDeleted: False\n",
      "        IsRenamed: False\n",
      "      - path: file1.txt\n",
      "        content: FSharpOption<String>\n",
      "          Value: a1\n",
      "        IsFailure: False\n",
      "        IsChanged: True\n",
      "        IsCreated: False\n",
      "        IsDeleted: False\n",
      "        IsRenamed: False\n",
      "      - path: file2.txt\n",
      "        content: FSharpOption<String>\n",
      "          Value: a2\n",
      "        IsFailure: False\n",
      "        IsChanged: False\n",
      "        IsCreated: True\n",
      "        IsDeleted: False\n",
      "        IsRenamed: False\n",
      "      - path: file2.txt\n",
      "        content: FSharpOption<String>\n",
      "          Value: a2\n",
      "        IsFailure: False\n",
      "        IsChanged: True\n",
      "        IsCreated: False\n",
      "        IsDeleted: False\n",
      "        IsRenamed: False\n",
      "      - path: file1.txt\n",
      "        content: FSharpOption<String>\n",
      "          Value: b1\n",
      "        IsFailure: False\n",
      "        IsChanged: True\n",
      "        IsCreated: False\n",
      "        IsDeleted: False\n",
      "        IsRenamed: False\n",
      "      - path: file2.txt\n",
      "        content: FSharpOption<String>\n",
      "          Value: b2\n",
      "        IsFailure: False\n",
      "        IsChanged: True\n",
      "        IsCreated: False\n",
      "        IsDeleted: False\n",
      "        IsRenamed: False\n",
      "      - oldPath: file1.txt\n",
      "        Item2:         - file_1.txt\n",
      "        - FSharpOption<String>\n",
      "            Value: b1\n",
      "      - IsFailure: False\n",
      "        IsChanged: False\n",
      "        IsCreated: False\n",
      "        IsDeleted: False\n",
      "        IsRenamed: True\n",
      "      - oldPath: file2.txt\n",
      "        Item2:         - file_2.txt\n",
      "        - FSharpOption<String>\n",
      "            Value: b2\n",
      "      - IsFailure: False\n",
      "        IsChanged: False\n",
      "        IsCreated: False\n",
      "        IsDeleted: False\n",
      "        IsRenamed: True\n",
      "      - path: file_1.txt\n",
      "        content: FSharpOption<String>\n",
      "          Value: c1\n",
      "        IsFailure: False\n",
      "        IsChanged: True\n",
      "        IsCreated: False\n",
      "        IsDeleted: False\n",
      "        IsRenamed: False\n",
      "      - path: file_2.txt\n",
      "        content: FSharpOption<String>\n",
      "          Value: c2\n",
      "        IsFailure: False\n",
      "        IsChanged: True\n",
      "        IsCreated: False\n",
      "        IsDeleted: False\n",
      "        IsRenamed: False\n",
      "      - path: file_1.txt\n",
      "        IsFailure: False\n",
      "        IsChanged: False\n",
      "        IsCreated: False\n",
      "        IsDeleted: True\n",
      "        IsRenamed: False\n",
      "      - path: file_2.txt\n",
      "        IsFailure: False\n",
      "        IsChanged: False\n",
      "        IsCreated: False\n",
      "        IsDeleted: True\n",
      "        IsRenamed: False\n",
      "FSharpOption<Unit>\n",
      "      Value: <null>\n"
     ]
    }
   ],
   "source": [
    "//// test\n",
    "\n",
    "let inline write path = async {\n",
    "    let n = 2\n",
    "\n",
    "    for i = 1 to n do\n",
    "        do! $\"a{i}\" |> writeAllTextAsync (path </> $\"file{i}.txt\")\n",
    "\n",
    "    do! Async.Sleep 250\n",
    "\n",
    "    for i = 1 to n do\n",
    "        do! $\"b{i}\" |> writeAllTextAsync (path </> $\"file{i}.txt\")\n",
    "\n",
    "    do! Async.Sleep 250\n",
    "\n",
    "    for i = 1 to n do\n",
    "        do! path </> $\"file{i}.txt\" |> moveFileAsync (path </> $\"file_{i}.txt\") |> Async.Ignore\n",
    "\n",
    "    do! Async.Sleep 250\n",
    "\n",
    "    for i = 1 to n do\n",
    "        do! $\"c{i}\" |> writeAllTextAsync (path </> $\"file_{i}.txt\")\n",
    "\n",
    "    do! Async.Sleep 250\n",
    "\n",
    "    for i = 1 to n do\n",
    "        do! deleteFileAsync (path </> $\"file_{i}.txt\") |> Async.Ignore\n",
    "\n",
    "    do! Async.Sleep 250\n",
    "}\n",
    "\n",
    "let inline run () =\n",
    "    let events = testEventsRaw watchDirectory write\n",
    "\n",
    "    events\n",
    "    |> _sequenceEqual [\n",
    "        FileSystemChange.Created (\"file1.txt\", Some \"a1\")\n",
    "        FileSystemChange.Changed (\"file1.txt\", Some \"a1\")\n",
    "        FileSystemChange.Created (\"file2.txt\", Some \"a2\")\n",
    "        FileSystemChange.Changed (\"file2.txt\", Some \"a2\")\n",
    "\n",
    "        FileSystemChange.Changed (\"file1.txt\", Some \"b1\")\n",
    "        FileSystemChange.Changed (\"file2.txt\", Some \"b2\")\n",
    "\n",
    "        FileSystemChange.Renamed (\"file1.txt\", (\"file_1.txt\", Some \"b1\"))\n",
    "        FileSystemChange.Renamed (\"file2.txt\", (\"file_2.txt\", Some \"b2\"))\n",
    "\n",
    "        FileSystemChange.Changed (\"file_1.txt\", Some \"c1\")\n",
    "        FileSystemChange.Changed (\"file_2.txt\", Some \"c2\")\n",
    "\n",
    "        FileSystemChange.Deleted \"file_1.txt\"\n",
    "        FileSystemChange.Deleted \"file_2.txt\"\n",
    "    ]\n",
    "\n",
    "run\n",
    "|> retryFn 3\n",
    "|> _assertEqual (Some ())"
   ]
  },
  {
   "cell_type": "markdown",
   "metadata": {},
   "source": [
    "#### slow (test)"
   ]
  },
  {
   "cell_type": "code",
   "execution_count": null,
   "metadata": {
    "dotnet_interactive": {
     "language": "fsharp"
    },
    "polyglot_notebook": {
     "kernelName": "fsharp"
    }
   },
   "outputs": [
    {
     "name": "stdout",
     "output_type": "stream",
     "text": [
      "FSharpOption<Unit>\n",
      "      Value: <null>\n",
      "00:00:23 #49 [Debug] watchWithFilter / Disposing watch stream / filter: FileName, LastWrite\n",
      "00:00:25 #50 [Debug] testEventsRaw / eventsLog: \n",
      "0 / 638469946682946396 / Created  (\"file1.txt\",   Some     \"1111111111111111111111111111111111111\n",
      "2105 / 638469946682948501 / Changed  (\"file1.txt\",   Some     \"1111111111111111111111111111111111\n",
      "245 / 638469946682948746 / Changed  (\"file1.txt\",   Some     \"11111111111111111111111111111111111\n",
      "75 / 638469946682948821 / Changed  (\"file1.txt\",   Some     \"111111111111111111111111111111111111\n",
      "276 / 638469946682949097 / Changed  (\"file1.txt\",   Some     \"11111111111111111111111111111111111\n",
      "172 / 638469946682949269 / Changed  (\"file1.txt\",   Some     \"11111111111111111111111111111111111\n",
      "190 / 638469946682949459 / Changed  (\"file1.txt\",   Some     \"11111111111111111111111111111111111\n",
      "189 / 638469946682949648 / Changed  (\"file1.txt\",   Some     \"11111111111111111111111111111111111\n",
      "221 / 638469946682949869 / Changed  (\"file1.txt\",   Some     \"11111111111111111111111111111111111\n",
      "417 / 638469946682950286 / Changed  (\"file1.txt\",   Some     \"11111111111111111111111111111111111\n",
      "79 / 638469946682950365 / Changed  (\"file1.txt\",   Some     \"111111111111111111111111111111111111\n",
      "168 / 638469946682950533 / Changed  (\"file1.txt\",   Some     \"11111111111111111111111111111111111\n",
      "206 / 638469946682950739 / Changed  (\"file1.txt\",   Some     \"11111111111111111111111111111111111\n",
      "262 / 638469946682951001 / Changed  (\"file1.txt\",   Some     \"11111111111111111111111111111111111\n",
      "254 / 638469946682951255 / Changed  (\"file1.txt\",   Some     \"11111111111111111111111111111111111\n",
      "214 / 638469946682951469 / Changed  (\"file1.txt\",   Some     \"11111111111111111111111111111111111\n",
      "142 / 638469946682951611 / Changed  (\"file1.txt\",   Some     \"11111111111111111111111111111111111\n",
      "263 / 638469946682951874 / Changed  (\"file1.txt\",   Some     \"11111111111111111111111111111111111\n",
      "110 / 638469946682951984 / Changed  (\"file1.txt\",   Some     \"11111111111111111111111111111111111\n",
      "147 / 638469946682952131 / Changed  (\"file1.txt\",   Some     \"11111111111111111111111111111111111\n",
      "213 / 638469946682952344 / Changed  (\"file1.txt\",   Some     \"11111111111111111111111111111111111\n",
      "194 / 638469946682952538 / Changed  (\"file1.txt\",   Some     \"11111111111111111111111111111111111\n",
      "192 / 638469946682952730 / Changed  (\"file1.txt\",   Some     \"11111111111111111111111111111111111\n",
      "230 / 638469946682952960 / Changed  (\"file1.txt\",   Some     \"11111111111111111111111111111111111\n",
      "339 / 638469946682953299 / Changed  (\"file1.txt\",   Some     \"11111111111111111111111111111111111\n",
      "306 / 638469946682953605 / Changed  (\"file1.txt\",   Some     \"11111111111111111111111111111111111\n",
      "317 / 638469946682953922 / Changed  (\"file1.txt\",   Some     \"11111111111111111111111111111111111\n",
      "269 / 638469946682954191 / Changed  (\"file1.txt\",   Some     \"11111111111111111111111111111111111\n",
      "300 / 638469946682954491 / Changed  (\"file1.txt\",   Some     \"11111111111111111111111111111111111\n",
      "295 / 638469946682954786 / Changed  (\"file1.txt\",   Some     \"11111111111111111111111111111111111\n",
      "309 / 638469946682955095 / Changed  (\"file1.txt\",   Some     \"11111111111111111111111111111111111\n",
      "225 / 638469946682955320 / Changed  (\"file1.txt\",   Some     \"11111111111111111111111111111111111\n",
      "322 / 638469946682955642 / Changed  (\"file1.txt\",   Some     \"11111111111111111111111111111111111\n",
      "322 / 638469946682955964 / Changed  (\"file1.txt\",   Some     \"11111111111111111111111111111111111\n",
      "283 / 638469946682956247 / Changed  (\"file1.txt\",   Some     \"11111111111111111111111111111111111\n",
      "308 / 638469946682956555 / Changed  (\"file1.txt\",   Some     \"11111111111111111111111111111111111\n",
      "223 / 638469946682956778 / Changed  (\"file1.txt\",   Some     \"11111111111111111111111111111111111\n",
      "203 / 638469946682956981 / Changed  (\"file1.txt\",   Some     \"11111111111111111111111111111111111\n",
      "268 / 638469946682957249 / Changed  (\"file1.txt\",   Some     \"11111111111111111111111111111111111\n",
      "206 / 638469946682957455 / Changed  (\"file1.txt\",   Some     \"11111111111111111111111111111111111\n",
      "214 / 638469946682957669 / Changed  (\"file1.txt\",   Some     \"11111111111111111111111111111111111\n",
      "398 / 638469946682958067 / Changed  (\"file1.txt\",   Some     \"11111111111111111111111111111111111\n",
      "449 / 638469946682958516 / Changed  (\"file1.txt\",   Some     \"11111111111111111111111111111111111\n",
      "310 / 638469946682958826 / Changed  (\"file1.txt\",   Some     \"11111111111111111111111111111111111\n",
      "215 / 638469946682959041 / Changed  (\"file1.txt\",   Some     \"11111111111111111111111111111111111\n",
      "158 / 638469946682959199 / Changed  (\"file1.txt\",   Some     \"11111111111111111111111111111111111\n",
      "334 / 638469946682959533 / Changed  (\"file1.txt\",   Some     \"11111111111111111111111111111111111\n",
      "307 / 638469946682959840 / Changed  (\"file1.txt\",   Some     \"11111111111111111111111111111111111\n",
      "215 / 638469946682960055 / Changed  (\"file1.txt\",   Some     \"11111111111111111111111111111111111\n",
      "167 / 638469946682960222 / Changed  (\"file1.txt\",   Some     \"11111111111111111111111111111111111\n",
      "1295 / 638469946682961517 / Changed  (\"file1.txt\",   Some     \"1111111111111111111111111111111111\n",
      "62 / 638469946682961579 / Changed  (\"file1.txt\",   Some     \"111111111111111111111111111111111111\n",
      "397 / 638469946682961976 / Changed  (\"file1.txt\",   Some     \"11111111111111111111111111111111111\n",
      "227 / 638469946682962203 / Changed  (\"file1.txt\",   Some     \"11111111111111111111111111111111111\n",
      "446 / 638469946682962649 / Changed  (\"file1.txt\",   Some     \"11111111111111111111111111111111111\n",
      "575 / 638469946682963224 / Changed  (\"file1.txt\",   Some     \"11111111111111111111111111111111111\n",
      "2237 / 638469946682965461 / Changed  (\"file1.txt\",   Some     \"1111111111111111111111111111111111\n",
      "83 / 638469946682965544 / Changed  (\"file1.txt\",   Some     \"111111111111111111111111111111111111\n",
      "283 / 638469946682965827 / Changed  (\"file1.txt\",   Some     \"11111111111111111111111111111111111\n",
      "180 / 638469946682966007 / Changed  (\"file1.txt\",   Some     \"11111111111111111111111111111111111\n",
      "223 / 638469946682966230 / Changed  (\"file1.txt\",   Some     \"11111111111111111111111111111111111\n",
      "179 / 638469946682966409 / Changed  (\"file1.txt\",   Some     \"11111111111111111111111111111111111\n",
      "196 / 638469946682966605 / Changed  (\"file1.txt\",   Some     \"11111111111111111111111111111111111\n",
      "199 / 638469946682966804 / Changed  (\"file1.txt\",   Some     \"11111111111111111111111111111111111\n",
      "198 / 638469946682967002 / Changed  (\"file1.txt\",   Some     \"11111111111111111111111111111111111\n",
      "224 / 638469946682967226 / Changed  (\"file1.txt\",   Some     \"11111111111111111111111111111111111\n",
      "429 / 638469946682967655 / Changed  (\"file1.txt\",   Some     \"11111111111111111111111111111111111\n",
      "224 / 638469946682967879 / Changed  (\"file1.txt\",   Some     \"11111111111111111111111111111111111\n",
      "223 / 638469946682968102 / Changed  (\"file1.txt\",   Some     \"11111111111111111111111111111111111\n",
      "198 / 638469946682968300 / Changed  (\"file1.txt\",   Some     \"11111111111111111111111111111111111\n",
      "186 / 638469946682968486 / Changed  (\"file1.txt\",   Some     \"11111111111111111111111111111111111\n",
      "291 / 638469946682968777 / Changed  (\"file1.txt\",   Some     \"11111111111111111111111111111111111\n",
      "214 / 638469946682968991 / Changed  (\"file1.txt\",   Some     \"11111111111111111111111111111111111\n",
      "200 / 638469946682969191 / Changed  (\"file1.txt\",   Some     \"11111111111111111111111111111111111\n",
      "194 / 638469946682969385 / Changed  (\"file1.txt\",   Some     \"11111111111111111111111111111111111\n",
      "206 / 638469946682969591 / Changed  (\"file1.txt\",   Some     \"11111111111111111111111111111111111\n",
      "175 / 638469946682969766 / Changed  (\"file1.txt\",   Some     \"11111111111111111111111111111111111\n",
      "163 / 638469946682969929 / Changed  (\"file1.txt\",   Some     \"11111111111111111111111111111111111\n",
      "206 / 638469946682970135 / Changed  (\"file1.txt\",   Some     \"11111111111111111111111111111111111\n",
      "160 / 638469946682970295 / Changed  (\"file1.txt\",   Some     \"11111111111111111111111111111111111\n",
      "168 / 638469946682970463 / Changed  (\"file1.txt\",   Some     \"11111111111111111111111111111111111\n",
      "159 / 638469946682970622 / Changed  (\"file1.txt\",   Some     \"11111111111111111111111111111111111\n",
      "189 / 638469946682970811 / Changed  (\"file1.txt\",   Some     \"11111111111111111111111111111111111\n",
      "181 / 638469946682970992 / Changed  (\"file1.txt\",   Some     \"11111111111111111111111111111111111\n",
      "184 / 638469946682971176 / Changed  (\"file1.txt\",   Some     \"11111111111111111111111111111111111\n",
      "203 / 638469946682971379 / Changed  (\"file1.txt\",   Some     \"11111111111111111111111111111111111\n",
      "179 / 638469946682971558 / Changed  (\"file1.txt\",   Some     \"11111111111111111111111111111111111\n",
      "121 / 638469946682971679 / Changed  (\"file1.txt\",   Some     \"11111111111111111111111111111111111\n",
      "47649 / 638469946683019328 / Created  (\"file2.txt\",   Some     \"222222222222222222222222222222222\n",
      "342 / 638469946683019670 / Changed  (\"file2.txt\",   Some     \"22222222222222222222222222222222222\n",
      "15047103 / 638469946698066773 / Changed  (\"file1.txt\",   Some     \"111111111111111111111111111111\n",
      "260 / 638469946698067033 / Changed  (\"file1.txt\",   Some     \"11111111111111111111111111111111111\n",
      "670 / 638469946698067703 / Changed  (\"file1.txt\",   Some     \"11111111111111111111111111111111111\n",
      "1191 / 638469946698068894 / Changed  (\"file1.txt\",   Some     \"1111111111111111111111111111111111\n",
      "201 / 638469946698069095 / Changed  (\"file1.txt\",   Some     \"11111111111111111111111111111111111\n",
      "169 / 638469946698069264 / Changed  (\"file1.txt\",   Some     \"11111111111111111111111111111111111\n",
      "187 / 638469946698069451 / Changed  (\"file1.txt\",   Some     \"11111111111111111111111111111111111\n",
      "182 / 638469946698069633 / Changed  (\"file1.txt\",   Some     \"11111111111111111111111111111111111\n",
      "190 / 638469946698069823 / Changed  (\"file1.txt\",   Some     \"11111111111111111111111111111111111\n",
      "181 / 638469946698070004 / Changed  (\"file1.txt\",   Some     \"11111111111111111111111111111111111\n",
      "265 / 638469946698070269 / Changed  (\"file1.txt\",   Some     \"11111111111111111111111111111111111\n",
      "241 / 638469946698070510 / Changed  (\"file1.txt\",   Some     \"11111111111111111111111111111111111\n",
      "815 / 638469946698071325 / Changed  (\"file1.txt\",   Some     \"11111111111111111111111111111111111\n",
      "64 / 638469946698071389 / Changed  (\"file1.txt\",   Some     \"111111111111111111111111111111111111\n",
      "296 / 638469946698071685 / Changed  (\"file1.txt\",   Some     \"11111111111111111111111111111111111\n",
      "148 / 638469946698071833 / Changed  (\"file1.txt\",   Some     \"11111111111111111111111111111111111\n",
      "139 / 638469946698071972 / Changed  (\"file1.txt\",   Some     \"11111111111111111111111111111111111\n",
      "141 / 638469946698072113 / Changed  (\"file1.txt\",   Some     \"11111111111111111111111111111111111\n",
      "187 / 638469946698072300 / Changed  (\"file1.txt\",   Some     \"11111111111111111111111111111111111\n",
      "881 / 638469946698073181 / Changed  (\"file1.txt\",   Some     \"11111111111111111111111111111111111\n",
      "229 / 638469946698073410 / Changed  (\"file1.txt\",   Some     \"11111111111111111111111111111111111\n",
      "198 / 638469946698073608 / Changed  (\"file1.txt\",   Some     \"11111111111111111111111111111111111\n",
      "167 / 638469946698073775 / Changed  (\"file1.txt\",   Some     \"11111111111111111111111111111111111\n",
      "174 / 638469946698073949 / Changed  (\"file1.txt\",   Some     \"11111111111111111111111111111111111\n",
      "1268 / 638469946698075217 / Changed  (\"file1.txt\",   Some     \"1111111111111111111111111111111111\n",
      "74 / 638469946698075291 / Changed  (\"file1.txt\",   Some     \"111111111111111111111111111111111111\n",
      "168 / 638469946698075459 / Changed  (\"file1.txt\",   Some     \"11111111111111111111111111111111111\n",
      "158 / 638469946698075617 / Changed  (\"file1.txt\",   Some     \"11111111111111111111111111111111111\n",
      "380 / 638469946698075997 / Changed  (\"file1.txt\",   Some     \"11111111111111111111111111111111111\n",
      "275 / 638469946698076272 / Changed  (\"file1.txt\",   Some     \"11111111111111111111111111111111111\n",
      "159 / 638469946698076431 / Changed  (\"file1.txt\",   Some     \"11111111111111111111111111111111111\n",
      "142 / 638469946698076573 / Changed  (\"file1.txt\",   Some     \"11111111111111111111111111111111111\n",
      "174 / 638469946698076747 / Changed  (\"file1.txt\",   Some     \"11111111111111111111111111111111111\n",
      "172 / 638469946698076919 / Changed  (\"file1.txt\",   Some     \"11111111111111111111111111111111111\n",
      "203 / 638469946698077122 / Changed  (\"file1.txt\",   Some     \"11111111111111111111111111111111111\n",
      "44 / 638469946698077166 / Changed  (\"file1.txt\",   Some     \"111111111111111111111111111111111111\n",
      "179 / 638469946698077345 / Changed  (\"file1.txt\",   Some     \"11111111111111111111111111111111111\n",
      "187 / 638469946698077532 / Changed  (\"file1.txt\",   Some     \"11111111111111111111111111111111111\n",
      "880 / 638469946698078412 / Changed  (\"file1.txt\",   Some     \"11111111111111111111111111111111111\n",
      "182 / 638469946698078594 / Changed  (\"file1.txt\",   Some     \"11111111111111111111111111111111111\n",
      "156 / 638469946698078750 / Changed  (\"file1.txt\",   Some     \"11111111111111111111111111111111111\n",
      "163 / 638469946698078913 / Changed  (\"file1.txt\",   Some     \"11111111111111111111111111111111111\n",
      "151 / 638469946698079064 / Changed  (\"file1.txt\",   Some     \"11111111111111111111111111111111111\n",
      "703 / 638469946698079767 / Changed  (\"file1.txt\",   Some     \"11111111111111111111111111111111111\n",
      "48 / 638469946698079815 / Changed  (\"file1.txt\",   Some     \"111111111111111111111111111111111111\n",
      "137 / 638469946698079952 / Changed  (\"file1.txt\",   Some     \"11111111111111111111111111111111111\n",
      "150 / 638469946698080102 / Changed  (\"file1.txt\",   Some     \"11111111111111111111111111111111111\n",
      "175 / 638469946698080277 / Changed  (\"file1.txt\",   Some     \"11111111111111111111111111111111111\n",
      "160 / 638469946698080437 / Changed  (\"file1.txt\",   Some     \"11111111111111111111111111111111111\n",
      "163 / 638469946698080600 / Changed  (\"file1.txt\",   Some     \"11111111111111111111111111111111111\n",
      "1283 / 638469946698081883 / Changed  (\"file1.txt\",   Some     \"1111111111111111111111111111111111\n",
      "153 / 638469946698082036 / Changed  (\"file1.txt\",   Some     \"11111111111111111111111111111111111\n",
      "207 / 638469946698082243 / Changed  (\"file1.txt\",   Some     \"11111111111111111111111111111111111\n",
      "199 / 638469946698082442 / Changed  (\"file1.txt\",   Some     \"11111111111111111111111111111111111\n",
      "180 / 638469946698082622 / Changed  (\"file1.txt\",   Some     \"11111111111111111111111111111111111\n",
      "162 / 638469946698082784 / Changed  (\"file1.txt\",   Some     \"11111111111111111111111111111111111\n",
      "158 / 638469946698082942 / Changed  (\"file1.txt\",   Some     \"11111111111111111111111111111111111\n",
      "166 / 638469946698083108 / Changed  (\"file1.txt\",   Some     \"11111111111111111111111111111111111\n",
      "159 / 638469946698083267 / Changed  (\"file1.txt\",   Some     \"11111111111111111111111111111111111\n",
      "152 / 638469946698083419 / Changed  (\"file1.txt\",   Some     \"11111111111111111111111111111111111\n",
      "197 / 638469946698083616 / Changed  (\"file1.txt\",   Some     \"11111111111111111111111111111111111\n",
      "103 / 638469946698083719 / Changed  (\"file1.txt\",   Some     \"11111111111111111111111111111111111\n",
      "169 / 638469946698083888 / Changed  (\"file1.txt\",   Some     \"11111111111111111111111111111111111\n",
      "151 / 638469946698084039 / Changed  (\"file1.txt\",   Some     \"11111111111111111111111111111111111\n",
      "174 / 638469946698084213 / Changed  (\"file1.txt\",   Some     \"11111111111111111111111111111111111\n",
      "1516 / 638469946698085729 / Changed  (\"file1.txt\",   Some     \"1111111111111111111111111111111111\n",
      "62 / 638469946698085791 / Changed  (\"file1.txt\",   Some     \"111111111111111111111111111111111111\n",
      "134 / 638469946698085925 / Changed  (\"file1.txt\",   Some     \"11111111111111111111111111111111111\n",
      "140 / 638469946698086065 / Changed  (\"file1.txt\",   Some     \"11111111111111111111111111111111111\n",
      "1766 / 638469946698087831 / Changed  (\"file1.txt\",   Some     \"1111111111111111111111111111111111\n",
      "306 / 638469946698088137 / Changed  (\"file1.txt\",   Some     \"11111111111111111111111111111111111\n",
      "148 / 638469946698088285 / Changed  (\"file1.txt\",   Some     \"11111111111111111111111111111111111\n",
      "799 / 638469946698089084 / Changed  (\"file1.txt\",   Some     \"11111111111111111111111111111111111\n",
      "55 / 638469946698089139 / Changed  (\"file1.txt\",   Some     \"111111111111111111111111111111111111\n",
      "158 / 638469946698089297 / Changed  (\"file1.txt\",   Some     \"11111111111111111111111111111111111\n",
      "154 / 638469946698089451 / Changed  (\"file1.txt\",   Some     \"11111111111111111111111111111111111\n",
      "110 / 638469946698089561 / Changed  (\"file1.txt\",   Some     \"11111111111111111111111111111111111\n",
      "30645 / 638469946698120206 / Changed  (\"file2.txt\",   Some     \"222222222222222222222222222222222\n",
      "209 / 638469946698120415 / Changed  (\"file2.txt\",   Some     \"22222222222222222222222222222222222\n",
      "227 / 638469946698120642 / Changed  (\"file2.txt\",   Some     \"22222222222222222222222222222222222\n",
      "136 / 638469946698120778 / Changed  (\"file2.txt\",   Some     \"22222222222222222222222222222222222\n",
      "214 / 638469946698120992 / Changed  (\"file2.txt\",   Some     \"22222222222222222222222222222222222\n",
      "49 / 638469946698121041 / Changed  (\"file2.txt\",   Some     \"222222222222222222222222222222222222\n",
      "233 / 638469946698121274 / Changed  (\"file2.txt\",   Some     \"22222222222222222222222222222222222\n",
      "47 / 638469946698121321 / Changed  (\"file2.txt\",   Some     \"222222222222222222222222222222222222\n",
      "204 / 638469946698121525 / Changed  (\"file2.txt\",   Some     \"22222222222222222222222222222222222\n",
      "173 / 638469946698121698 / Changed  (\"file2.txt\",   Some     \"22222222222222222222222222222222222\n",
      "115 / 638469946698121813 / Changed  (\"file2.txt\",   Some     \"22222222222222222222222222222222222\n",
      "196 / 638469946698122009 / Changed  (\"file2.txt\",   Some     \"22222222222222222222222222222222222\n",
      "145 / 638469946698122154 / Changed  (\"file2.txt\",   Some     \"22222222222222222222222222222222222\n",
      "152 / 638469946698122306 / Changed  (\"file2.txt\",   Some     \"22222222222222222222222222222222222\n",
      "141 / 638469946698122447 / Changed  (\"file2.txt\",   Some     \"22222222222222222222222222222222222\n",
      "167 / 638469946698122614 / Changed  (\"file2.txt\",   Some     \"22222222222222222222222222222222222\n",
      "157 / 638469946698122771 / Changed  (\"file2.txt\",   Some     \"22222222222222222222222222222222222\n",
      "220 / 638469946698122991 / Changed  (\"file2.txt\",   Some     \"22222222222222222222222222222222222\n",
      "152 / 638469946698123143 / Changed  (\"file2.txt\",   Some     \"22222222222222222222222222222222222\n",
      "138 / 638469946698123281 / Changed  (\"file2.txt\",   Some     \"22222222222222222222222222222222222\n",
      "184 / 638469946698123465 / Changed  (\"file2.txt\",   Some     \"22222222222222222222222222222222222\n",
      "44 / 638469946698123509 / Changed  (\"file2.txt\",   Some     \"222222222222222222222222222222222222\n",
      "178 / 638469946698123687 / Changed  (\"file2.txt\",   Some     \"22222222222222222222222222222222222\n",
      "291 / 638469946698123978 / Changed  (\"file2.txt\",   Some     \"22222222222222222222222222222222222\n",
      "247 / 638469946698124225 / Changed  (\"file2.txt\",   Some     \"22222222222222222222222222222222222\n",
      "198 / 638469946698124423 / Changed  (\"file2.txt\",   Some     \"22222222222222222222222222222222222\n",
      "166 / 638469946698124589 / Changed  (\"file2.txt\",   Some     \"22222222222222222222222222222222222\n",
      "142 / 638469946698124731 / Changed  (\"file2.txt\",   Some     \"22222222222222222222222222222222222\n",
      "158 / 638469946698124889 / Changed  (\"file2.txt\",   Some     \"22222222222222222222222222222222222\n",
      "170 / 638469946698125059 / Changed  (\"file2.txt\",   Some     \"22222222222222222222222222222222222\n",
      "174 / 638469946698125233 / Changed  (\"file2.txt\",   Some     \"22222222222222222222222222222222222\n",
      "143 / 638469946698125376 / Changed  (\"file2.txt\",   Some     \"22222222222222222222222222222222222\n",
      "144 / 638469946698125520 / Changed  (\"file2.txt\",   Some     \"22222222222222222222222222222222222\n",
      "182 / 638469946698125702 / Changed  (\"file2.txt\",   Some     \"22222222222222222222222222222222222\n",
      "188 / 638469946698125890 / Changed  (\"file2.txt\",   Some     \"22222222222222222222222222222222222\n",
      "160 / 638469946698126050 / Changed  (\"file2.txt\",   Some     \"22222222222222222222222222222222222\n",
      "155 / 638469946698126205 / Changed  (\"file2.txt\",   Some     \"22222222222222222222222222222222222\n",
      "162 / 638469946698126367 / Changed  (\"file2.txt\",   Some     \"22222222222222222222222222222222222\n",
      "385 / 638469946698126752 / Changed  (\"file2.txt\",   Some     \"22222222222222222222222222222222222\n",
      "51 / 638469946698126803 / Changed  (\"file2.txt\",   Some     \"222222222222222222222222222222222222\n",
      "244 / 638469946698127047 / Changed  (\"file2.txt\",   Some     \"22222222222222222222222222222222222\n",
      "49 / 638469946698127096 / Changed  (\"file2.txt\",   Some     \"222222222222222222222222222222222222\n",
      "162 / 638469946698127258 / Changed  (\"file2.txt\",   Some     \"22222222222222222222222222222222222\n",
      "497 / 638469946698127755 / Changed  (\"file2.txt\",   Some     \"22222222222222222222222222222222222\n",
      "68 / 638469946698127823 / Changed  (\"file2.txt\",   Some     \"222222222222222222222222222222222222\n",
      "155 / 638469946698127978 / Changed  (\"file2.txt\",   Some     \"22222222222222222222222222222222222\n",
      "149 / 638469946698128127 / Changed  (\"file2.txt\",   Some     \"22222222222222222222222222222222222\n",
      "163 / 638469946698128290 / Changed  (\"file2.txt\",   Some     \"22222222222222222222222222222222222\n",
      "175 / 638469946698128465 / Changed  (\"file2.txt\",   Some     \"22222222222222222222222222222222222\n",
      "175 / 638469946698128640 / Changed  (\"file2.txt\",   Some     \"22222222222222222222222222222222222\n",
      "137 / 638469946698128777 / Changed  (\"file2.txt\",   Some     \"22222222222222222222222222222222222\n",
      "156 / 638469946698128933 / Changed  (\"file2.txt\",   Some     \"22222222222222222222222222222222222\n",
      "150 / 638469946698129083 / Changed  (\"file2.txt\",   Some     \"22222222222222222222222222222222222\n",
      "176 / 638469946698129259 / Changed  (\"file2.txt\",   Some     \"22222222222222222222222222222222222\n",
      "161 / 638469946698129420 / Changed  (\"file2.txt\",   Some     \"22222222222222222222222222222222222\n",
      "179 / 638469946698129599 / Changed  (\"file2.txt\",   Some     \"22222222222222222222222222222222222\n",
      "147 / 638469946698129746 / Changed  (\"file2.txt\",   Some     \"22222222222222222222222222222222222\n",
      "175 / 638469946698129921 / Changed  (\"file2.txt\",   Some     \"22222222222222222222222222222222222\n",
      "174 / 638469946698130095 / Changed  (\"file2.txt\",   Some     \"22222222222222222222222222222222222\n",
      "172 / 638469946698130267 / Changed  (\"file2.txt\",   Some     \"22222222222222222222222222222222222\n",
      "162 / 638469946698130429 / Changed  (\"file2.txt\",   Some     \"22222222222222222222222222222222222\n",
      "677 / 638469946698131106 / Changed  (\"file2.txt\",   Some     \"22222222222222222222222222222222222\n",
      "152 / 638469946698131258 / Changed  (\"file2.txt\",   Some     \"22222222222222222222222222222222222\n",
      "126 / 638469946698131384 / Changed  (\"file2.txt\",   Some     \"22222222222222222222222222222222222\n",
      "169 / 638469946698131553 / Changed  (\"file2.txt\",   Some     \"22222222222222222222222222222222222\n",
      "178 / 638469946698131731 / Changed  (\"file2.txt\",   Some     \"22222222222222222222222222222222222\n",
      "170 / 638469946698131901 / Changed  (\"file2.txt\",   Some     \"22222222222222222222222222222222222\n",
      "146 / 638469946698132047 / Changed  (\"file2.txt\",   Some     \"22222222222222222222222222222222222\n",
      "165 / 638469946698132212 / Changed  (\"file2.txt\",   Some     \"22222222222222222222222222222222222\n",
      "179 / 638469946698132391 / Changed  (\"file2.txt\",   Some     \"22222222222222222222222222222222222\n",
      "579 / 638469946698132970 / Changed  (\"file2.txt\",   Some     \"22222222222222222222222222222222222\n",
      "151 / 638469946698133121 / Changed  (\"file2.txt\",   Some     \"22222222222222222222222222222222222\n",
      "601 / 638469946698133722 / Changed  (\"file2.txt\",   Some     \"22222222222222222222222222222222222\n",
      "156 / 638469946698133878 / Changed  (\"file2.txt\",   Some     \"22222222222222222222222222222222222\n",
      "176 / 638469946698134054 / Changed  (\"file2.txt\",   Some     \"22222222222222222222222222222222222\n",
      "156 / 638469946698134210 / Changed  (\"file2.txt\",   Some     \"22222222222222222222222222222222222\n",
      "145 / 638469946698134355 / Changed  (\"file2.txt\",   Some     \"22222222222222222222222222222222222\n",
      "150 / 638469946698134505 / Changed  (\"file2.txt\",   Some     \"22222222222222222222222222222222222\n",
      "167 / 638469946698134672 / Changed  (\"file2.txt\",   Some     \"22222222222222222222222222222222222\n",
      "564 / 638469946698135236 / Changed  (\"file2.txt\",   Some     \"22222222222222222222222222222222222\n",
      "160 / 638469946698135396 / Changed  (\"file2.txt\",   Some     \"22222222222222222222222222222222222\n",
      "149 / 638469946698135545 / Changed  (\"file2.txt\",   Some     \"22222222222222222222222222222222222\n",
      "167 / 638469946698135712 / Changed  (\"file2.txt\",   Some     \"22222222222222222222222222222222222\n",
      "625 / 638469946698136337 / Changed  (\"file2.txt\",   Some     \"22222222222222222222222222222222222\n",
      "138 / 638469946698136475 / Changed  (\"file2.txt\",   Some     \"22222222222222222222222222222222222\n",
      "545 / 638469946698137020 / Changed  (\"file2.txt\",   Some     \"22222222222222222222222222222222222\n",
      "23 / 638469946698137043 / Changed  (\"file2.txt\",   Some     \"222222222222222222222222222222222222\n",
      "397 / 638469946698137440 / Changed  (\"file2.txt\",   Some     \"22222222222222222222222222222222222\n",
      "75 / 638469946698137515 / Changed  (\"file2.txt\",   Some     \"222222222222222222222222222222222222\n",
      "165 / 638469946698137680 / Changed  (\"file2.txt\",   Some     \"22222222222222222222222222222222222\n",
      "366 / 638469946698138046 / Changed  (\"file2.txt\",   Some     \"22222222222222222222222222222222222\n",
      "13744 / 638469946698151790 / Changed  (\"file2.txt\",   Some     \"222222222222222222222222222222222\n",
      "15004990 / 638469946713156780 / Renamed  (\"file1.txt\",   (\"file_1.txt\",    Some      \"1111111111\n",
      "301 / 638469946713157081 / Renamed  (\"file2.txt\",   (\"file_2.txt\",    Some      \"222222222222222\n",
      "15062793 / 638469946728219874 / Changed  (\"file_1.txt\",   Some     \"11111111111111111111111111111\n",
      "947 / 638469946728220821 / Changed  (\"file_1.txt\",   Some     \"1111111111111111111111111111111111\n",
      "350 / 638469946728221171 / Changed  (\"file_1.txt\",   Some     \"1111111111111111111111111111111111\n",
      "99 / 638469946728221270 / Changed  (\"file_1.txt\",   Some     \"11111111111111111111111111111111111\n",
      "267 / 638469946728221537 / Changed  (\"file_1.txt\",   Some     \"1111111111111111111111111111111111\n",
      "95 / 638469946728221632 / Changed  (\"file_1.txt\",   Some     \"11111111111111111111111111111111111\n",
      "258 / 638469946728221890 / Changed  (\"file_1.txt\",   Some     \"1111111111111111111111111111111111\n",
      "95 / 638469946728221985 / Changed  (\"file_1.txt\",   Some     \"11111111111111111111111111111111111\n",
      "268 / 638469946728222253 / Changed  (\"file_1.txt\",   Some     \"1111111111111111111111111111111111\n",
      "217 / 638469946728222470 / Changed  (\"file_1.txt\",   Some     \"1111111111111111111111111111111111\n",
      "369 / 638469946728222839 / Changed  (\"file_1.txt\",   Some     \"1111111111111111111111111111111111\n",
      "39 / 638469946728222878 / Changed  (\"file_1.txt\",   Some     \"11111111111111111111111111111111111\n",
      "285 / 638469946728223163 / Changed  (\"file_1.txt\",   Some     \"1111111111111111111111111111111111\n",
      "380 / 638469946728223543 / Changed  (\"file_1.txt\",   Some     \"1111111111111111111111111111111111\n",
      "314 / 638469946728223857 / Changed  (\"file_1.txt\",   Some     \"1111111111111111111111111111111111\n",
      "205 / 638469946728224062 / Changed  (\"file_1.txt\",   Some     \"1111111111111111111111111111111111\n",
      "34 / 638469946728224096 / Changed  (\"file_1.txt\",   Some     \"11111111111111111111111111111111111\n",
      "247 / 638469946728224343 / Changed  (\"file_1.txt\",   Some     \"1111111111111111111111111111111111\n",
      "239 / 638469946728224582 / Changed  (\"file_1.txt\",   Some     \"1111111111111111111111111111111111\n",
      "190 / 638469946728224772 / Changed  (\"file_1.txt\",   Some     \"1111111111111111111111111111111111\n",
      "195 / 638469946728224967 / Changed  (\"file_1.txt\",   Some     \"1111111111111111111111111111111111\n",
      "176 / 638469946728225143 / Changed  (\"file_1.txt\",   Some     \"1111111111111111111111111111111111\n",
      "81 / 638469946728225224 / Changed  (\"file_1.txt\",   Some     \"11111111111111111111111111111111111\n",
      "249 / 638469946728225473 / Changed  (\"file_1.txt\",   Some     \"1111111111111111111111111111111111\n",
      "35 / 638469946728225508 / Changed  (\"file_1.txt\",   Some     \"11111111111111111111111111111111111\n",
      "233 / 638469946728225741 / Changed  (\"file_1.txt\",   Some     \"1111111111111111111111111111111111\n",
      "36 / 638469946728225777 / Changed  (\"file_1.txt\",   Some     \"11111111111111111111111111111111111\n",
      "273 / 638469946728226050 / Changed  (\"file_1.txt\",   Some     \"1111111111111111111111111111111111\n",
      "270 / 638469946728226320 / Changed  (\"file_1.txt\",   Some     \"1111111111111111111111111111111111\n",
      "246 / 638469946728226566 / Changed  (\"file_1.txt\",   Some     \"1111111111111111111111111111111111\n",
      "225 / 638469946728226791 / Changed  (\"file_1.txt\",   Some     \"1111111111111111111111111111111111\n",
      "490 / 638469946728227281 / Changed  (\"file_1.txt\",   Some     \"1111111111111111111111111111111111\n",
      "153 / 638469946728227434 / Changed  (\"file_1.txt\",   Some     \"1111111111111111111111111111111111\n",
      "135 / 638469946728227569 / Changed  (\"file_1.txt\",   Some     \"1111111111111111111111111111111111\n",
      "143 / 638469946728227712 / Changed  (\"file_1.txt\",   Some     \"1111111111111111111111111111111111\n",
      "196 / 638469946728227908 / Changed  (\"file_1.txt\",   Some     \"1111111111111111111111111111111111\n",
      "46 / 638469946728227954 / Changed  (\"file_1.txt\",   Some     \"11111111111111111111111111111111111\n",
      "223 / 638469946728228177 / Changed  (\"file_1.txt\",   Some     \"1111111111111111111111111111111111\n",
      "194 / 638469946728228371 / Changed  (\"file_1.txt\",   Some     \"1111111111111111111111111111111111\n",
      "209 / 638469946728228580 / Changed  (\"file_1.txt\",   Some     \"1111111111111111111111111111111111\n",
      "16 / 638469946728228596 / Changed  (\"file_1.txt\",   Some     \"11111111111111111111111111111111111\n",
      "221 / 638469946728228817 / Changed  (\"file_1.txt\",   Some     \"1111111111111111111111111111111111\n",
      "137 / 638469946728228954 / Changed  (\"file_1.txt\",   Some     \"1111111111111111111111111111111111\n",
      "256 / 638469946728229210 / Changed  (\"file_1.txt\",   Some     \"1111111111111111111111111111111111\n",
      "163 / 638469946728229373 / Changed  (\"file_1.txt\",   Some     \"1111111111111111111111111111111111\n",
      "135 / 638469946728229508 / Changed  (\"file_1.txt\",   Some     \"1111111111111111111111111111111111\n",
      "138 / 638469946728229646 / Changed  (\"file_1.txt\",   Some     \"1111111111111111111111111111111111\n",
      "144 / 638469946728229790 / Changed  (\"file_1.txt\",   Some     \"1111111111111111111111111111111111\n",
      "83 / 638469946728229873 / Changed  (\"file_1.txt\",   Some     \"11111111111111111111111111111111111\n",
      "248 / 638469946728230121 / Changed  (\"file_1.txt\",   Some     \"1111111111111111111111111111111111\n",
      "139 / 638469946728230260 / Changed  (\"file_1.txt\",   Some     \"1111111111111111111111111111111111\n",
      "191 / 638469946728230451 / Changed  (\"file_1.txt\",   Some     \"1111111111111111111111111111111111\n",
      "32 / 638469946728230483 / Changed  (\"file_1.txt\",   Some     \"11111111111111111111111111111111111\n",
      "249 / 638469946728230732 / Changed  (\"file_1.txt\",   Some     \"1111111111111111111111111111111111\n",
      "133 / 638469946728230865 / Changed  (\"file_1.txt\",   Some     \"1111111111111111111111111111111111\n",
      "199 / 638469946728231064 / Changed  (\"file_1.txt\",   Some     \"1111111111111111111111111111111111\n",
      "149 / 638469946728231213 / Changed  (\"file_1.txt\",   Some     \"1111111111111111111111111111111111\n",
      "87 / 638469946728231300 / Changed  (\"file_1.txt\",   Some     \"11111111111111111111111111111111111\n",
      "341 / 638469946728231641 / Changed  (\"file_1.txt\",   Some     \"1111111111111111111111111111111111\n",
      "146 / 638469946728231787 / Changed  (\"file_1.txt\",   Some     \"1111111111111111111111111111111111\n",
      "144 / 638469946728231931 / Changed  (\"file_1.txt\",   Some     \"1111111111111111111111111111111111\n",
      "139 / 638469946728232070 / Changed  (\"file_1.txt\",   Some     \"1111111111111111111111111111111111\n",
      "223 / 638469946728232293 / Changed  (\"file_1.txt\",   Some     \"1111111111111111111111111111111111\n",
      "130 / 638469946728232423 / Changed  (\"file_1.txt\",   Some     \"1111111111111111111111111111111111\n",
      "199 / 638469946728232622 / Changed  (\"file_1.txt\",   Some     \"1111111111111111111111111111111111\n",
      "153 / 638469946728232775 / Changed  (\"file_1.txt\",   Some     \"1111111111111111111111111111111111\n",
      "146 / 638469946728232921 / Changed  (\"file_1.txt\",   Some     \"1111111111111111111111111111111111\n",
      "122 / 638469946728233043 / Changed  (\"file_1.txt\",   Some     \"1111111111111111111111111111111111\n",
      "226 / 638469946728233269 / Changed  (\"file_1.txt\",   Some     \"1111111111111111111111111111111111\n",
      "146 / 638469946728233415 / Changed  (\"file_1.txt\",   Some     \"1111111111111111111111111111111111\n",
      "193 / 638469946728233608 / Changed  (\"file_1.txt\",   Some     \"1111111111111111111111111111111111\n",
      "29 / 638469946728233637 / Changed  (\"file_1.txt\",   Some     \"11111111111111111111111111111111111\n",
      "254 / 638469946728233891 / Changed  (\"file_1.txt\",   Some     \"1111111111111111111111111111111111\n",
      "148 / 638469946728234039 / Changed  (\"file_1.txt\",   Some     \"1111111111111111111111111111111111\n",
      "183 / 638469946728234222 / Changed  (\"file_1.txt\",   Some     \"1111111111111111111111111111111111\n",
      "47 / 638469946728234269 / Changed  (\"file_1.txt\",   Some     \"11111111111111111111111111111111111\n",
      "232 / 638469946728234501 / Changed  (\"file_1.txt\",   Some     \"1111111111111111111111111111111111\n",
      "130 / 638469946728234631 / Changed  (\"file_1.txt\",   Some     \"1111111111111111111111111111111111\n",
      "141 / 638469946728234772 / Changed  (\"file_1.txt\",   Some     \"1111111111111111111111111111111111\n",
      "140 / 638469946728234912 / Changed  (\"file_1.txt\",   Some     \"1111111111111111111111111111111111\n",
      "188 / 638469946728235100 / Changed  (\"file_1.txt\",   Some     \"1111111111111111111111111111111111\n",
      "124 / 638469946728235224 / Changed  (\"file_1.txt\",   Some     \"1111111111111111111111111111111111\n",
      "227 / 638469946728235451 / Changed  (\"file_1.txt\",   Some     \"1111111111111111111111111111111111\n",
      "34 / 638469946728235485 / Changed  (\"file_1.txt\",   Some     \"11111111111111111111111111111111111\n",
      "247 / 638469946728235732 / Changed  (\"file_1.txt\",   Some     \"1111111111111111111111111111111111\n",
      "37 / 638469946728235769 / Changed  (\"file_1.txt\",   Some     \"11111111111111111111111111111111111\n",
      "247 / 638469946728236016 / Changed  (\"file_1.txt\",   Some     \"1111111111111111111111111111111111\n",
      "140 / 638469946728236156 / Changed  (\"file_1.txt\",   Some     \"1111111111111111111111111111111111\n",
      "159 / 638469946728236315 / Changed  (\"file_1.txt\",   Some     \"1111111111111111111111111111111111\n",
      "193 / 638469946728236508 / Changed  (\"file_1.txt\",   Some     \"1111111111111111111111111111111111\n",
      "28 / 638469946728236536 / Changed  (\"file_1.txt\",   Some     \"11111111111111111111111111111111111\n",
      "239 / 638469946728236775 / Changed  (\"file_1.txt\",   Some     \"1111111111111111111111111111111111\n",
      "147 / 638469946728236922 / Changed  (\"file_1.txt\",   Some     \"1111111111111111111111111111111111\n",
      "92 / 638469946728237014 / Changed  (\"file_1.txt\",   Some     \"11111111111111111111111111111111111\n",
      "213 / 638469946728237227 / Changed  (\"file_1.txt\",   Some     \"1111111111111111111111111111111111\n",
      "130 / 638469946728237357 / Changed  (\"file_1.txt\",   Some     \"1111111111111111111111111111111111\n",
      "216 / 638469946728237573 / Changed  (\"file_1.txt\",   Some     \"1111111111111111111111111111111111\n",
      "191 / 638469946728237764 / Changed  (\"file_1.txt\",   Some     \"1111111111111111111111111111111111\n",
      "31 / 638469946728237795 / Changed  (\"file_1.txt\",   Some     \"11111111111111111111111111111111111\n",
      "221 / 638469946728238016 / Changed  (\"file_1.txt\",   Some     \"1111111111111111111111111111111111\n",
      "149 / 638469946728238165 / Changed  (\"file_1.txt\",   Some     \"1111111111111111111111111111111111\n",
      "251 / 638469946728238416 / Changed  (\"file_1.txt\",   Some     \"1111111111111111111111111111111111\n",
      "232 / 638469946728238648 / Changed  (\"file_1.txt\",   Some     \"1111111111111111111111111111111111\n",
      "146 / 638469946728238794 / Changed  (\"file_1.txt\",   Some     \"1111111111111111111111111111111111\n",
      "200 / 638469946728238994 / Changed  (\"file_1.txt\",   Some     \"1111111111111111111111111111111111\n",
      "15 / 638469946728239009 / Changed  (\"file_1.txt\",   Some     \"11111111111111111111111111111111111\n",
      "229 / 638469946728239238 / Changed  (\"file_1.txt\",   Some     \"1111111111111111111111111111111111\n",
      "132 / 638469946728239370 / Changed  (\"file_1.txt\",   Some     \"1111111111111111111111111111111111\n",
      "142 / 638469946728239512 / Changed  (\"file_1.txt\",   Some     \"1111111111111111111111111111111111\n",
      "140 / 638469946728239652 / Changed  (\"file_1.txt\",   Some     \"1111111111111111111111111111111111\n",
      "139 / 638469946728239791 / Changed  (\"file_1.txt\",   Some     \"1111111111111111111111111111111111\n",
      "121 / 638469946728239912 / Changed  (\"file_1.txt\",   Some     \"1111111111111111111111111111111111\n",
      "222 / 638469946728240134 / Changed  (\"file_1.txt\",   Some     \"1111111111111111111111111111111111\n",
      "97 / 638469946728240231 / Changed  (\"file_1.txt\",   Some     \"11111111111111111111111111111111111\n",
      "245 / 638469946728240476 / Changed  (\"file_1.txt\",   Some     \"1111111111111111111111111111111111\n",
      "33 / 638469946728240509 / Changed  (\"file_1.txt\",   Some     \"11111111111111111111111111111111111\n",
      "254 / 638469946728240763 / Changed  (\"file_1.txt\",   Some     \"1111111111111111111111111111111111\n",
      "142 / 638469946728240905 / Changed  (\"file_1.txt\",   Some     \"1111111111111111111111111111111111\n",
      "199 / 638469946728241104 / Changed  (\"file_1.txt\",   Some     \"1111111111111111111111111111111111\n",
      "90 / 638469946728241194 / Changed  (\"file_1.txt\",   Some     \"11111111111111111111111111111111111\n",
      "222 / 638469946728241416 / Changed  (\"file_1.txt\",   Some     \"1111111111111111111111111111111111\n",
      "28 / 638469946728241444 / Changed  (\"file_1.txt\",   Some     \"11111111111111111111111111111111111\n",
      "51313 / 638469946728292757 / Changed  (\"file_2.txt\",   Some     \"22222222222222222222222222222222\n",
      "112 / 638469946728292869 / Changed  (\"file_2.txt\",   Some     \"2222222222222222222222222222222222\n",
      "476 / 638469946728293345 / Changed  (\"file_2.txt\",   Some     \"2222222222222222222222222222222222\n",
      "261 / 638469946728293606 / Changed  (\"file_2.txt\",   Some     \"2222222222222222222222222222222222\n",
      "233 / 638469946728293839 / Changed  (\"file_2.txt\",   Some     \"2222222222222222222222222222222222\n",
      "122 / 638469946728293961 / Changed  (\"file_2.txt\",   Some     \"2222222222222222222222222222222222\n",
      "174 / 638469946728294135 / Changed  (\"file_2.txt\",   Some     \"2222222222222222222222222222222222\n",
      "155 / 638469946728294290 / Changed  (\"file_2.txt\",   Some     \"2222222222222222222222222222222222\n",
      "90 / 638469946728294380 / Changed  (\"file_2.txt\",   Some     \"22222222222222222222222222222222222\n",
      "205 / 638469946728294585 / Changed  (\"file_2.txt\",   Some     \"2222222222222222222222222222222222\n",
      "213 / 638469946728294798 / Changed  (\"file_2.txt\",   Some     \"2222222222222222222222222222222222\n",
      "158 / 638469946728294956 / Changed  (\"file_2.txt\",   Some     \"2222222222222222222222222222222222\n",
      "134 / 638469946728295090 / Changed  (\"file_2.txt\",   Some     \"2222222222222222222222222222222222\n",
      "175 / 638469946728295265 / Changed  (\"file_2.txt\",   Some     \"2222222222222222222222222222222222\n",
      "187 / 638469946728295452 / Changed  (\"file_2.txt\",   Some     \"2222222222222222222222222222222222\n",
      "138 / 638469946728295590 / Changed  (\"file_2.txt\",   Some     \"2222222222222222222222222222222222\n",
      "197 / 638469946728295787 / Changed  (\"file_2.txt\",   Some     \"2222222222222222222222222222222222\n",
      "142 / 638469946728295929 / Changed  (\"file_2.txt\",   Some     \"2222222222222222222222222222222222\n",
      "205 / 638469946728296134 / Changed  (\"file_2.txt\",   Some     \"2222222222222222222222222222222222\n",
      "100 / 638469946728296234 / Changed  (\"file_2.txt\",   Some     \"2222222222222222222222222222222222\n",
      "350 / 638469946728296584 / Changed  (\"file_2.txt\",   Some     \"2222222222222222222222222222222222\n",
      "19 / 638469946728296603 / Changed  (\"file_2.txt\",   Some     \"22222222222222222222222222222222222\n",
      "200 / 638469946728296803 / Changed  (\"file_2.txt\",   Some     \"2222222222222222222222222222222222\n",
      "374 / 638469946728297177 / Changed  (\"file_2.txt\",   Some     \"2222222222222222222222222222222222\n",
      "39 / 638469946728297216 / Changed  (\"file_2.txt\",   Some     \"22222222222222222222222222222222222\n",
      "247 / 638469946728297463 / Changed  (\"file_2.txt\",   Some     \"2222222222222222222222222222222222\n",
      "115 / 638469946728297578 / Changed  (\"file_2.txt\",   Some     \"2222222222222222222222222222222222\n",
      "218 / 638469946728297796 / Changed  (\"file_2.txt\",   Some     \"2222222222222222222222222222222222\n",
      "190 / 638469946728297986 / Changed  (\"file_2.txt\",   Some     \"2222222222222222222222222222222222\n",
      "165 / 638469946728298151 / Changed  (\"file_2.txt\",   Some     \"2222222222222222222222222222222222\n",
      "197 / 638469946728298348 / Changed  (\"file_2.txt\",   Some     \"2222222222222222222222222222222222\n",
      "202 / 638469946728298550 / Changed  (\"file_2.txt\",   Some     \"2222222222222222222222222222222222\n",
      "118 / 638469946728298668 / Changed  (\"file_2.txt\",   Some     \"2222222222222222222222222222222222\n",
      "219 / 638469946728298887 / Changed  (\"file_2.txt\",   Some     \"2222222222222222222222222222222222\n",
      "173 / 638469946728299060 / Changed  (\"file_2.txt\",   Some     \"2222222222222222222222222222222222\n",
      "196 / 638469946728299256 / Changed  (\"file_2.txt\",   Some     \"2222222222222222222222222222222222\n",
      "168 / 638469946728299424 / Changed  (\"file_2.txt\",   Some     \"2222222222222222222222222222222222\n",
      "166 / 638469946728299590 / Changed  (\"file_2.txt\",   Some     \"2222222222222222222222222222222222\n",
      "213 / 638469946728299803 / Changed  (\"file_2.txt\",   Some     \"2222222222222222222222222222222222\n",
      "171 / 638469946728299974 / Changed  (\"file_2.txt\",   Some     \"2222222222222222222222222222222222\n",
      "164 / 638469946728300138 / Changed  (\"file_2.txt\",   Some     \"2222222222222222222222222222222222\n",
      "201 / 638469946728300339 / Changed  (\"file_2.txt\",   Some     \"2222222222222222222222222222222222\n",
      "108 / 638469946728300447 / Changed  (\"file_2.txt\",   Some     \"2222222222222222222222222222222222\n",
      "224 / 638469946728300671 / Changed  (\"file_2.txt\",   Some     \"2222222222222222222222222222222222\n",
      "122 / 638469946728300793 / Changed  (\"file_2.txt\",   Some     \"2222222222222222222222222222222222\n",
      "224 / 638469946728301017 / Changed  (\"file_2.txt\",   Some     \"2222222222222222222222222222222222\n",
      "120 / 638469946728301137 / Changed  (\"file_2.txt\",   Some     \"2222222222222222222222222222222222\n",
      "213 / 638469946728301350 / Changed  (\"file_2.txt\",   Some     \"2222222222222222222222222222222222\n",
      "102 / 638469946728301452 / Changed  (\"file_2.txt\",   Some     \"2222222222222222222222222222222222\n",
      "219 / 638469946728301671 / Changed  (\"file_2.txt\",   Some     \"2222222222222222222222222222222222\n",
      "168 / 638469946728301839 / Changed  (\"file_2.txt\",   Some     \"2222222222222222222222222222222222\n",
      "194 / 638469946728302033 / Changed  (\"file_2.txt\",   Some     \"2222222222222222222222222222222222\n",
      "168 / 638469946728302201 / Changed  (\"file_2.txt\",   Some     \"2222222222222222222222222222222222\n",
      "211 / 638469946728302412 / Changed  (\"file_2.txt\",   Some     \"2222222222222222222222222222222222\n",
      "169 / 638469946728302581 / Changed  (\"file_2.txt\",   Some     \"2222222222222222222222222222222222\n",
      "205 / 638469946728302786 / Changed  (\"file_2.txt\",   Some     \"2222222222222222222222222222222222\n",
      "106 / 638469946728302892 / Changed  (\"file_2.txt\",   Some     \"2222222222222222222222222222222222\n",
      "227 / 638469946728303119 / Changed  (\"file_2.txt\",   Some     \"2222222222222222222222222222222222\n",
      "114 / 638469946728303233 / Changed  (\"file_2.txt\",   Some     \"2222222222222222222222222222222222\n",
      "205 / 638469946728303438 / Changed  (\"file_2.txt\",   Some     \"2222222222222222222222222222222222\n",
      "204 / 638469946728303642 / Changed  (\"file_2.txt\",   Some     \"2222222222222222222222222222222222\n",
      "195 / 638469946728303837 / Changed  (\"file_2.txt\",   Some     \"2222222222222222222222222222222222\n",
      "167 / 638469946728304004 / Changed  (\"file_2.txt\",   Some     \"2222222222222222222222222222222222\n",
      "109 / 638469946728304113 / Changed  (\"file_2.txt\",   Some     \"2222222222222222222222222222222222\n",
      "222 / 638469946728304335 / Changed  (\"file_2.txt\",   Some     \"2222222222222222222222222222222222\n",
      "173 / 638469946728304508 / Changed  (\"file_2.txt\",   Some     \"2222222222222222222222222222222222\n",
      "196 / 638469946728304704 / Changed  (\"file_2.txt\",   Some     \"2222222222222222222222222222222222\n",
      "171 / 638469946728304875 / Changed  (\"file_2.txt\",   Some     \"2222222222222222222222222222222222\n",
      "192 / 638469946728305067 / Changed  (\"file_2.txt\",   Some     \"2222222222222222222222222222222222\n",
      "174 / 638469946728305241 / Changed  (\"file_2.txt\",   Some     \"2222222222222222222222222222222222\n",
      "189 / 638469946728305430 / Changed  (\"file_2.txt\",   Some     \"2222222222222222222222222222222222\n",
      "168 / 638469946728305598 / Changed  (\"file_2.txt\",   Some     \"2222222222222222222222222222222222\n",
      "201 / 638469946728305799 / Changed  (\"file_2.txt\",   Some     \"2222222222222222222222222222222222\n",
      "106 / 638469946728305905 / Changed  (\"file_2.txt\",   Some     \"2222222222222222222222222222222222\n",
      "212 / 638469946728306117 / Changed  (\"file_2.txt\",   Some     \"2222222222222222222222222222222222\n",
      "204 / 638469946728306321 / Changed  (\"file_2.txt\",   Some     \"2222222222222222222222222222222222\n",
      "165 / 638469946728306486 / Changed  (\"file_2.txt\",   Some     \"2222222222222222222222222222222222\n",
      "201 / 638469946728306687 / Changed  (\"file_2.txt\",   Some     \"2222222222222222222222222222222222\n",
      "109 / 638469946728306796 / Changed  (\"file_2.txt\",   Some     \"2222222222222222222222222222222222\n",
      "208 / 638469946728307004 / Changed  (\"file_2.txt\",   Some     \"2222222222222222222222222222222222\n",
      "163 / 638469946728307167 / Changed  (\"file_2.txt\",   Some     \"2222222222222222222222222222222222\n",
      "189 / 638469946728307356 / Changed  (\"file_2.txt\",   Some     \"2222222222222222222222222222222222\n",
      "193 / 638469946728307549 / Changed  (\"file_2.txt\",   Some     \"2222222222222222222222222222222222\n",
      "344 / 638469946728307893 / Changed  (\"file_2.txt\",   Some     \"2222222222222222222222222222222222\n",
      "121 / 638469946728308014 / Changed  (\"file_2.txt\",   Some     \"2222222222222222222222222222222222\n",
      "215 / 638469946728308229 / Changed  (\"file_2.txt\",   Some     \"2222222222222222222222222222222222\n",
      "111 / 638469946728308340 / Changed  (\"file_2.txt\",   Some     \"2222222222222222222222222222222222\n",
      "208 / 638469946728308548 / Changed  (\"file_2.txt\",   Some     \"2222222222222222222222222222222222\n",
      "166 / 638469946728308714 / Changed  (\"file_2.txt\",   Some     \"2222222222222222222222222222222222\n",
      "204 / 638469946728308918 / Changed  (\"file_2.txt\",   Some     \"2222222222222222222222222222222222\n",
      "165 / 638469946728309083 / Changed  (\"file_2.txt\",   Some     \"2222222222222222222222222222222222\n",
      "201 / 638469946728309284 / Changed  (\"file_2.txt\",   Some     \"2222222222222222222222222222222222\n",
      "170 / 638469946728309454 / Changed  (\"file_2.txt\",   Some     \"2222222222222222222222222222222222\n",
      "192 / 638469946728309646 / Changed  (\"file_2.txt\",   Some     \"2222222222222222222222222222222222\n",
      "113 / 638469946728309759 / Changed  (\"file_2.txt\",   Some     \"2222222222222222222222222222222222\n",
      "217 / 638469946728309976 / Changed  (\"file_2.txt\",   Some     \"2222222222222222222222222222222222\n",
      "178 / 638469946728310154 / Changed  (\"file_2.txt\",   Some     \"2222222222222222222222222222222222\n",
      "205 / 638469946728310359 / Changed  (\"file_2.txt\",   Some     \"2222222222222222222222222222222222\n",
      "157 / 638469946728310516 / Changed  (\"file_2.txt\",   Some     \"2222222222222222222222222222222222\n",
      "198 / 638469946728310714 / Changed  (\"file_2.txt\",   Some     \"2222222222222222222222222222222222\n",
      "167 / 638469946728310881 / Changed  (\"file_2.txt\",   Some     \"2222222222222222222222222222222222\n",
      "167 / 638469946728311048 / Changed  (\"file_2.txt\",   Some     \"2222222222222222222222222222222222\n",
      "175 / 638469946728311223 / Changed  (\"file_2.txt\",   Some     \"2222222222222222222222222222222222\n",
      "170 / 638469946728311393 / Changed  (\"file_2.txt\",   Some     \"2222222222222222222222222222222222\n",
      "191 / 638469946728311584 / Changed  (\"file_2.txt\",   Some     \"2222222222222222222222222222222222\n",
      "88 / 638469946728311672 / Changed  (\"file_2.txt\",   Some     \"22222222222222222222222222222222222\n",
      "241 / 638469946728311913 / Changed  (\"file_2.txt\",   Some     \"2222222222222222222222222222222222\n",
      "148 / 638469946728312061 / Changed  (\"file_2.txt\",   Some     \"2222222222222222222222222222222222\n",
      "178 / 638469946728312239 / Changed  (\"file_2.txt\",   Some     \"2222222222222222222222222222222222\n",
      "164 / 638469946728312403 / Changed  (\"file_2.txt\",   Some     \"2222222222222222222222222222222222\n",
      "101 / 638469946728312504 / Changed  (\"file_2.txt\",   Some     \"2222222222222222222222222222222222\n",
      "191 / 638469946728312695 / Changed  (\"file_2.txt\",   Some     \"2222222222222222222222222222222222\n",
      "185 / 638469946728312880 / Changed  (\"file_2.txt\",   Some     \"2222222222222222222222222222222222\n",
      "152 / 638469946728313032 / Changed  (\"file_2.txt\",   Some     \"2222222222222222222222222222222222\n",
      "165 / 638469946728313197 / Changed  (\"file_2.txt\",   Some     \"2222222222222222222222222222222222\n",
      "179 / 638469946728313376 / Changed  (\"file_2.txt\",   Some     \"2222222222222222222222222222222222\n",
      "99 / 638469946728313475 / Changed  (\"file_2.txt\",   Some     \"22222222222222222222222222222222222\n",
      "202 / 638469946728313677 / Changed  (\"file_2.txt\",   Some     \"2222222222222222222222222222222222\n",
      "147 / 638469946728313824 / Changed  (\"file_2.txt\",   Some     \"2222222222222222222222222222222222\n",
      "193 / 638469946728314017 / Changed  (\"file_2.txt\",   Some     \"2222222222222222222222222222222222\n",
      "178 / 638469946728314195 / Changed  (\"file_2.txt\",   Some     \"2222222222222222222222222222222222\n",
      "32 / 638469946728314227 / Changed  (\"file_2.txt\",   Some     \"22222222222222222222222222222222222\n",
      "15005868 / 638469946743320095 / Deleted \"file_1.txt\"\n",
      "3798 / 638469946743323893 / Deleted \"file_2.txt\"\n",
      "FSharpList<FileSystemChange>\n",
      "      - path: file1.txt\n",
      "        content: FSharpOption<String>\n",
      "          Value: 1a\n",
      "        IsFailure: False\n",
      "        IsChanged: False\n",
      "        IsCreated: True\n",
      "        IsDeleted: False\n",
      "        IsRenamed: False\n",
      "      - path: file1.txt\n",
      "        content: FSharpOption<String>\n",
      "          Value: 1a\n",
      "        IsFailure: False\n",
      "        IsChanged: True\n",
      "        IsCreated: False\n",
      "        IsDeleted: False\n",
      "        IsRenamed: False\n",
      "      - path: file2.txt\n",
      "        content: FSharpOption<String>\n",
      "          Value: 2a\n",
      "        IsFailure: False\n",
      "        IsChanged: False\n",
      "        IsCreated: True\n",
      "        IsDeleted: False\n",
      "        IsRenamed: False\n",
      "      - path: file2.txt\n",
      "        content: FSharpOption<String>\n",
      "          Value: 2a\n",
      "        IsFailure: False\n",
      "        IsChanged: True\n",
      "        IsCreated: False\n",
      "        IsDeleted: False\n",
      "        IsRenamed: False\n",
      "      - path: file1.txt\n",
      "        content: FSharpOption<String>\n",
      "          Value: 1b\n",
      "        IsFailure: False\n",
      "        IsChanged: True\n",
      "        IsCreated: False\n",
      "        IsDeleted: False\n",
      "        IsRenamed: False\n",
      "      - path: file2.txt\n",
      "        content: FSharpOption<String>\n",
      "          Value: 2b\n",
      "        IsFailure: False\n",
      "        IsChanged: True\n",
      "        IsCreated: False\n",
      "        IsDeleted: False\n",
      "        IsRenamed: False\n",
      "      - oldPath: file1.txt\n",
      "        Item2:         - file_1.txt\n",
      "        - FSharpOption<String>\n",
      "            Value: 1b\n",
      "      - IsFailure: False\n",
      "        IsChanged: False\n",
      "        IsCreated: False\n",
      "        IsDeleted: False\n",
      "        IsRenamed: True\n",
      "      - oldPath: file2.txt\n",
      "        Item2:         - file_2.txt\n",
      "        - FSharpOption<String>\n",
      "            Value: 2b\n",
      "      - IsFailure: False\n",
      "        IsChanged: False\n",
      "        IsCreated: False\n",
      "        IsDeleted: False\n",
      "        IsRenamed: True\n",
      "      - path: file_1.txt\n",
      "        content: FSharpOption<String>\n",
      "          Value: 1c\n",
      "        IsFailure: False\n",
      "        IsChanged: True\n",
      "        IsCreated: False\n",
      "        IsDeleted: False\n",
      "        IsRenamed: False\n",
      "      - path: file_2.txt\n",
      "        content: FSharpOption<String>\n",
      "          Value: 2c\n",
      "        IsFailure: False\n",
      "        IsChanged: True\n",
      "        IsCreated: False\n",
      "        IsDeleted: False\n",
      "        IsRenamed: False\n",
      "      - path: file_1.txt\n",
      "        IsFailure: False\n",
      "        IsChanged: False\n",
      "        IsCreated: False\n",
      "        IsDeleted: True\n",
      "        IsRenamed: False\n",
      "      - path: file_2.txt\n",
      "        IsFailure: False\n",
      "        IsChanged: False\n",
      "        IsCreated: False\n",
      "        IsDeleted: True\n",
      "        IsRenamed: False\n",
      "FSharpOption<Unit>\n",
      "      Value: <null>\n"
     ]
    }
   ],
   "source": [
    "//// test\n",
    "\n",
    "let inline write path = async {\n",
    "    let n = 2\n",
    "\n",
    "    let contents =\n",
    "        [ 1 .. n ]\n",
    "        |> List.map (string >> String.replicate 1_000_000)\n",
    "\n",
    "    for i = 1 to n do\n",
    "        do! $\"{contents.[i - 1]}a\" |> writeAllTextAsync (path </> $\"file{i}.txt\")\n",
    "\n",
    "    do! Async.Sleep 1500\n",
    "\n",
    "    for i = 1 to n do\n",
    "        do! $\"{contents.[i - 1]}b\" |> writeAllTextAsync (path </> $\"file{i}.txt\")\n",
    "\n",
    "    do! Async.Sleep 1500\n",
    "\n",
    "    for i = 1 to n do\n",
    "        do! path </> $\"file{i}.txt\" |> moveFileAsync (path </> $\"file_{i}.txt\") |> Async.Ignore\n",
    "\n",
    "    do! Async.Sleep 1500\n",
    "\n",
    "    for i = 1 to n do\n",
    "        do! $\"{contents.[i - 1]}c\" |> writeAllTextAsync (path </> $\"file_{i}.txt\")\n",
    "\n",
    "    do! Async.Sleep 1500\n",
    "\n",
    "    for i = 1 to n do\n",
    "        do! deleteFileAsync (path </> $\"file_{i}.txt\") |> Async.Ignore\n",
    "\n",
    "    do! Async.Sleep 1500\n",
    "}\n",
    "\n",
    "let inline run () =\n",
    "    let events =\n",
    "        testEventsRaw watchDirectory write\n",
    "        |> List.map (function\n",
    "            | FileSystemChange.Changed (path, Some content) ->\n",
    "                FileSystemChange.Changed (path, content |> Seq.distinct |> Seq.map string |> String.concat \"\" |> Some)\n",
    "            | FileSystemChange.Created (path, Some content) ->\n",
    "                FileSystemChange.Created (path, content |> Seq.distinct |> Seq.map string |> String.concat \"\" |> Some)\n",
    "            | FileSystemChange.Renamed (oldPath, (newPath, Some content)) ->\n",
    "                FileSystemChange.Renamed (\n",
    "                    oldPath,\n",
    "                    (newPath, content |> Seq.distinct |> Seq.map string |> String.concat \"\" |> Some)\n",
    "                )\n",
    "            | event -> event\n",
    "        )\n",
    "\n",
    "    events\n",
    "    |> _sequenceEqual [\n",
    "        FileSystemChange.Created (\"file1.txt\", Some \"1a\")\n",
    "        FileSystemChange.Changed (\"file1.txt\", Some \"1a\")\n",
    "        FileSystemChange.Created (\"file2.txt\", Some \"2a\")\n",
    "        FileSystemChange.Changed (\"file2.txt\", Some \"2a\")\n",
    "\n",
    "        FileSystemChange.Changed (\"file1.txt\", Some \"1b\")\n",
    "        FileSystemChange.Changed (\"file2.txt\", Some \"2b\")\n",
    "\n",
    "        FileSystemChange.Renamed (\"file1.txt\", (\"file_1.txt\", Some \"1b\"))\n",
    "        FileSystemChange.Renamed (\"file2.txt\", (\"file_2.txt\", Some \"2b\"))\n",
    "\n",
    "        FileSystemChange.Changed (\"file_1.txt\", Some \"1c\")\n",
    "        FileSystemChange.Changed (\"file_2.txt\", Some \"2c\")\n",
    "\n",
    "        FileSystemChange.Deleted \"file_1.txt\"\n",
    "        FileSystemChange.Deleted \"file_2.txt\"\n",
    "    ]\n",
    "\n",
    "run\n",
    "|> retryFn 5\n",
    "|> _assertEqual (Some ())"
   ]
  },
  {
   "cell_type": "markdown",
   "metadata": {},
   "source": [
    "### testEventsSorted (test)"
   ]
  },
  {
   "cell_type": "code",
   "execution_count": null,
   "metadata": {
    "dotnet_interactive": {
     "language": "fsharp"
    },
    "polyglot_notebook": {
     "kernelName": "fsharp"
    }
   },
   "outputs": [],
   "source": [
    "//// test\n",
    "\n",
    "let inline sortEvent event =\n",
    "    match event with\n",
    "    | FileSystemChange.Failure _ -> 0\n",
    "    | FileSystemChange.Created _ -> 1\n",
    "    | FileSystemChange.Changed _ -> 2\n",
    "    | FileSystemChange.Renamed (_oldPath, _) -> 3\n",
    "    | FileSystemChange.Deleted _ -> 4\n",
    "\n",
    "let inline formatEvents events =\n",
    "    events\n",
    "    |> Seq.toList\n",
    "    |> List.sortBy (snd >> sortEvent)\n",
    "    |> List.choose (fun (ticks, event) ->\n",
    "        match event with\n",
    "        | FileSystemChange.Failure _ ->\n",
    "            None\n",
    "        | FileSystemChange.Changed (path, _) ->\n",
    "            Some (ticks, System.IO.Path.GetFileName path, nameof FileSystemChangeType.Changed)\n",
    "        | FileSystemChange.Created (path, _) ->\n",
    "            Some (ticks, System.IO.Path.GetFileName path, nameof FileSystemChangeType.Created)\n",
    "        | FileSystemChange.Deleted path ->\n",
    "            Some (ticks, System.IO.Path.GetFileName path, nameof FileSystemChangeType.Deleted)\n",
    "        | FileSystemChange.Renamed (_oldPath, (path, _)) ->\n",
    "            Some (ticks, System.IO.Path.GetFileName path, nameof FileSystemChangeType.Renamed)\n",
    "    )\n",
    "    |> List.sortBy (fun (_, path, _) -> path)\n",
    "    |> List.distinctBy (fun (_, path, event) -> path, event)\n",
    "\n",
    "let inline testEventsSorted\n",
    "    (watchFn : string -> FSharp.Control.AsyncSeq<int64 * FileSystemChange> * IDisposable)\n",
    "    write\n",
    "    =\n",
    "    let path = createTempDirectory ()\n",
    "    let stream, disposable = watchFn path\n",
    "\n",
    "    let events = System.Collections.Concurrent.ConcurrentBag ()\n",
    "\n",
    "    let inline iter () =\n",
    "        stream\n",
    "        |> FSharp.Control.AsyncSeq.iterAsyncParallel (fun event -> async { events.Add event })\n",
    "\n",
    "    let run = async {\n",
    "        let! _ = iter () |> Async.StartChild\n",
    "        do! Async.Sleep 250\n",
    "        return! write path\n",
    "    }\n",
    "\n",
    "    try\n",
    "        run\n",
    "        |> Async.runWithTimeout 5000\n",
    "        |> _assertEqual (Some ())\n",
    "    finally\n",
    "        disposable.Dispose ()\n",
    "        deleteDirectoryAsync path |> Async.Ignore |> Async.RunSynchronously\n",
    "\n",
    "    let events = formatEvents events\n",
    "\n",
    "    let eventMap =\n",
    "        events\n",
    "        |> List.map (fun (ticks, path, event) -> path, (event, ticks))\n",
    "        |> List.groupBy fst\n",
    "        |> List.map (fun (path, events) ->\n",
    "            let event, _ticks =\n",
    "                events\n",
    "                |> List.map snd\n",
    "                |> List.sortByDescending snd\n",
    "                |> List.head\n",
    "\n",
    "            path, event\n",
    "        )\n",
    "        |> Map.ofList\n",
    "\n",
    "    let eventList =\n",
    "        events\n",
    "        |> List.map (fun (_ticks, path, event) -> path, event)\n",
    "\n",
    "    eventMap, eventList"
   ]
  },
  {
   "cell_type": "markdown",
   "metadata": {},
   "source": [
    "#### create and delete (test)"
   ]
  },
  {
   "cell_type": "code",
   "execution_count": null,
   "metadata": {
    "dotnet_interactive": {
     "language": "fsharp"
    },
    "polyglot_notebook": {
     "kernelName": "fsharp"
    }
   },
   "outputs": [
    {
     "name": "stdout",
     "output_type": "stream",
     "text": [
      "FSharpOption<Unit>\n",
      "      Value: <null>\n",
      "00:00:28 #51 [Debug] watchWithFilter / Disposing watch stream / filter: FileName, LastWrite\n",
      "FSharpList<Tuple<String,String>>\n",
      "( file1.txt, Created )\n",
      "( file1.txt, Changed )\n",
      "( file1.txt, Deleted )\n",
      "( file2.txt, Created )\n",
      "( file2.txt, Changed )\n",
      "( file2.txt, Deleted )\n",
      "( file3.txt, Created )\n",
      "( file3.txt, Changed )\n",
      "( file3.txt, Deleted )\n",
      "FSharpMap<String,String>\n",
      "      - Key: file1.txt\n",
      "        Value: Deleted\n",
      "      - Key: file2.txt\n",
      "        Value: Deleted\n",
      "      - Key: file3.txt\n",
      "        Value: Deleted\n",
      "FSharpOption<Unit>\n",
      "      Value: <null>\n"
     ]
    }
   ],
   "source": [
    "//// test\n",
    "\n",
    "let inline write path = async {\n",
    "    let n = 3\n",
    "\n",
    "    for i = 1 to n do\n",
    "        do! $\"{i}\" |> writeAllTextAsync (path </> $\"file{i}.txt\")\n",
    "\n",
    "    for i = 1 to n do\n",
    "        do! deleteFileAsync (path </> $\"file{i}.txt\") |> Async.Ignore\n",
    "\n",
    "    do! Async.Sleep 150\n",
    "}\n",
    "\n",
    "let inline run () =\n",
    "    let eventMap, eventList = testEventsSorted (watchDirectory (fun _ -> false)) write\n",
    "\n",
    "    [\n",
    "        \"file1.txt\", nameof FileSystemChangeType.Created\n",
    "        \"file1.txt\", nameof FileSystemChangeType.Changed\n",
    "        \"file1.txt\", nameof FileSystemChangeType.Deleted\n",
    "\n",
    "        \"file2.txt\", nameof FileSystemChangeType.Created\n",
    "        \"file2.txt\", nameof FileSystemChangeType.Changed\n",
    "        \"file2.txt\", nameof FileSystemChangeType.Deleted\n",
    "\n",
    "        \"file3.txt\", nameof FileSystemChangeType.Created\n",
    "        \"file3.txt\", nameof FileSystemChangeType.Changed\n",
    "        \"file3.txt\", nameof FileSystemChangeType.Deleted\n",
    "    ]\n",
    "    |> _sequenceEqual eventList\n",
    "\n",
    "    [\n",
    "        \"file1.txt\", nameof FileSystemChangeType.Deleted\n",
    "        \"file2.txt\", nameof FileSystemChangeType.Deleted\n",
    "        \"file3.txt\", nameof FileSystemChangeType.Deleted\n",
    "    ]\n",
    "    |> Map.ofList\n",
    "    |> _sequenceEqual eventMap\n",
    "\n",
    "run\n",
    "|> retryFn 3\n",
    "|> _assertEqual (Some ())"
   ]
  },
  {
   "cell_type": "markdown",
   "metadata": {},
   "source": [
    "#### change (test)"
   ]
  },
  {
   "cell_type": "code",
   "execution_count": null,
   "metadata": {
    "dotnet_interactive": {
     "language": "fsharp"
    },
    "polyglot_notebook": {
     "kernelName": "fsharp"
    }
   },
   "outputs": [
    {
     "name": "stdout",
     "output_type": "stream",
     "text": [
      "FSharpOption<Unit>\n",
      "      Value: <null>\n",
      "00:00:30 #52 [Debug] watchWithFilter / Disposing watch stream / filter: FileName, LastWrite\n",
      "FSharpList<Tuple<String,String>>\n",
      "( file1.txt, Created )\n",
      "( file1.txt, Changed )\n",
      "( file1.txt, Deleted )\n",
      "( file2.txt, Created )\n",
      "( file2.txt, Changed )\n",
      "( file2.txt, Deleted )\n",
      "FSharpMap<String,String>\n",
      "      - Key: file1.txt\n",
      "        Value: Deleted\n",
      "      - Key: file2.txt\n",
      "        Value: Deleted\n",
      "FSharpOption<Unit>\n",
      "      Value: <null>\n"
     ]
    }
   ],
   "source": [
    "//// test\n",
    "\n",
    "let inline write path = async {\n",
    "    let n = 2\n",
    "\n",
    "    for i = 1 to n do\n",
    "        do! $\"{i}\" |> writeAllTextAsync (path </> $\"file{i}.txt\")\n",
    "\n",
    "    for i = 1 to n do\n",
    "        do! \"\" |> writeAllTextAsync (path </> $\"file{i}.txt\")\n",
    "\n",
    "    for i = 1 to n do\n",
    "        do! deleteFileAsync (path </> $\"file{i}.txt\") |> Async.Ignore\n",
    "\n",
    "    do! Async.Sleep 150\n",
    "}\n",
    "\n",
    "let inline run () =\n",
    "    let eventMap, eventList = testEventsSorted (watchDirectory (fun _ -> false)) write\n",
    "\n",
    "    [\n",
    "        \"file1.txt\", nameof FileSystemChangeType.Created\n",
    "        \"file1.txt\", nameof FileSystemChangeType.Changed\n",
    "        \"file1.txt\", nameof FileSystemChangeType.Deleted\n",
    "\n",
    "        \"file2.txt\", nameof FileSystemChangeType.Created\n",
    "        \"file2.txt\", nameof FileSystemChangeType.Changed\n",
    "        \"file2.txt\", nameof FileSystemChangeType.Deleted\n",
    "    ]\n",
    "    |> _sequenceEqual eventList\n",
    "\n",
    "    [\n",
    "        \"file1.txt\", nameof FileSystemChangeType.Deleted\n",
    "        \"file2.txt\", nameof FileSystemChangeType.Deleted\n",
    "    ]\n",
    "    |> Map.ofList\n",
    "    |> _sequenceEqual eventMap\n",
    "\n",
    "run\n",
    "|> retryFn 3\n",
    "|> _assertEqual (Some ())"
   ]
  },
  {
   "cell_type": "markdown",
   "metadata": {},
   "source": [
    "#### rename (test)"
   ]
  },
  {
   "cell_type": "code",
   "execution_count": null,
   "metadata": {
    "dotnet_interactive": {
     "language": "fsharp"
    },
    "polyglot_notebook": {
     "kernelName": "fsharp"
    }
   },
   "outputs": [
    {
     "name": "stdout",
     "output_type": "stream",
     "text": [
      "FSharpOption<Unit>\n",
      "      Value: <null>\n",
      "00:00:33 #53 [Debug] watchWithFilter / Disposing watch stream / filter: FileName, LastWrite\n",
      "FSharpList<Tuple<String,String>>\n",
      "( file1.txt, Created )\n",
      "( file1.txt, Changed )\n",
      "( file2.txt, Created )\n",
      "( file2.txt, Changed )\n",
      "( file_1.txt, Renamed )\n",
      "( file_1.txt, Deleted )\n",
      "( file_2.txt, Renamed )\n",
      "( file_2.txt, Deleted )\n",
      "FSharpMap<String,String>\n",
      "      - Key: file1.txt\n",
      "        Value: Changed\n",
      "      - Key: file2.txt\n",
      "        Value: Changed\n",
      "      - Key: file_1.txt\n",
      "        Value: Deleted\n",
      "      - Key: file_2.txt\n",
      "        Value: Deleted\n",
      "FSharpOption<Unit>\n",
      "      Value: <null>\n"
     ]
    }
   ],
   "source": [
    "//// test\n",
    "\n",
    "let inline write path = async {\n",
    "    let n = 2\n",
    "\n",
    "    for i = 1 to n do\n",
    "        do! $\"{i}\" |> writeAllTextAsync (path </> $\"file{i}.txt\")\n",
    "\n",
    "    for i = 1 to n do\n",
    "        do! path </> $\"file{i}.txt\" |> moveFileAsync (path </> $\"file_{i}.txt\") |> Async.Ignore\n",
    "\n",
    "    for i = 1 to n do\n",
    "        do! deleteFileAsync (path </> $\"file_{i}.txt\") |> Async.Ignore\n",
    "\n",
    "    do! Async.Sleep 150\n",
    "}\n",
    "\n",
    "let inline run () =\n",
    "    let eventMap, eventList = testEventsSorted (watchDirectory (fun _ -> false)) write\n",
    "\n",
    "    [\n",
    "        \"file1.txt\", nameof FileSystemChangeType.Created\n",
    "        \"file1.txt\", nameof FileSystemChangeType.Changed\n",
    "        \"file2.txt\", nameof FileSystemChangeType.Created\n",
    "        \"file2.txt\", nameof FileSystemChangeType.Changed\n",
    "\n",
    "        \"file_1.txt\", nameof FileSystemChangeType.Renamed\n",
    "        \"file_1.txt\", nameof FileSystemChangeType.Deleted\n",
    "\n",
    "        \"file_2.txt\", nameof FileSystemChangeType.Renamed\n",
    "        \"file_2.txt\", nameof FileSystemChangeType.Deleted\n",
    "    ]\n",
    "    |> _sequenceEqual eventList\n",
    "\n",
    "    [\n",
    "        \"file1.txt\", nameof FileSystemChangeType.Changed\n",
    "        \"file2.txt\", nameof FileSystemChangeType.Changed\n",
    "        \"file_1.txt\", nameof FileSystemChangeType.Deleted\n",
    "        \"file_2.txt\", nameof FileSystemChangeType.Deleted\n",
    "    ]\n",
    "    |> Map.ofList\n",
    "    |> _sequenceEqual eventMap\n",
    "\n",
    "run\n",
    "|> retryFn 3\n",
    "|> _assertEqual (Some ())"
   ]
  },
  {
   "cell_type": "markdown",
   "metadata": {},
   "source": [
    "#### full (test)"
   ]
  },
  {
   "cell_type": "code",
   "execution_count": null,
   "metadata": {
    "dotnet_interactive": {
     "language": "fsharp"
    },
    "polyglot_notebook": {
     "kernelName": "fsharp"
    }
   },
   "outputs": [
    {
     "name": "stdout",
     "output_type": "stream",
     "text": [
      "FSharpOption<Unit>\n",
      "      Value: <null>\n",
      "00:00:36 #54 [Debug] watchWithFilter / Disposing watch stream / filter: FileName, LastWrite\n",
      "FSharpList<Tuple<String,String>>\n",
      "( file1.txt, Created )\n",
      "( file1.txt, Changed )\n",
      "( file2.txt, Created )\n",
      "( file2.txt, Changed )\n",
      "( file_1.txt, Changed )\n",
      "( file_1.txt, Renamed )\n",
      "( file_1.txt, Deleted )\n",
      "( file_2.txt, Changed )\n",
      "( file_2.txt, Renamed )\n",
      "( file_2.txt, Deleted )\n",
      "FSharpMap<String,String>\n",
      "      - Key: file1.txt\n",
      "        Value: Changed\n",
      "      - Key: file2.txt\n",
      "        Value: Changed\n",
      "      - Key: file_1.txt\n",
      "        Value: Deleted\n",
      "      - Key: file_2.txt\n",
      "        Value: Deleted\n",
      "FSharpOption<Unit>\n",
      "      Value: <null>\n"
     ]
    }
   ],
   "source": [
    "//// test\n",
    "\n",
    "let inline write path = async {\n",
    "    let n = 2\n",
    "\n",
    "    for i = 1 to n do\n",
    "        do! $\"{i}\" |> writeAllTextAsync (path </> $\"file{i}.txt\")\n",
    "\n",
    "    for i = 1 to n do\n",
    "        do! \"\" |> writeAllTextAsync (path </> $\"file{i}.txt\")\n",
    "\n",
    "    for i = 1 to n do\n",
    "        do! path </> $\"file{i}.txt\" |> moveFileAsync (path </> $\"file_{i}.txt\") |> Async.Ignore\n",
    "\n",
    "    for i = 1 to n do\n",
    "        do! $\"{i}\" |> writeAllTextAsync (path </> $\"file_{i}.txt\")\n",
    "\n",
    "    for i = 1 to n do\n",
    "        do! deleteFileAsync (path </> $\"file_{i}.txt\") |> Async.Ignore\n",
    "\n",
    "    do! Async.Sleep 150\n",
    "}\n",
    "\n",
    "let inline run () =\n",
    "    let eventMap, eventList = testEventsSorted (watchDirectory (fun _ -> false)) write\n",
    "\n",
    "    [\n",
    "        \"file1.txt\", nameof FileSystemChangeType.Created\n",
    "        \"file1.txt\", nameof FileSystemChangeType.Changed\n",
    "        \"file2.txt\", nameof FileSystemChangeType.Created\n",
    "        \"file2.txt\", nameof FileSystemChangeType.Changed\n",
    "\n",
    "        \"file_1.txt\", nameof FileSystemChangeType.Changed\n",
    "        \"file_1.txt\", nameof FileSystemChangeType.Renamed\n",
    "        \"file_1.txt\", nameof FileSystemChangeType.Deleted\n",
    "\n",
    "        \"file_2.txt\", nameof FileSystemChangeType.Changed\n",
    "        \"file_2.txt\", nameof FileSystemChangeType.Renamed\n",
    "        \"file_2.txt\", nameof FileSystemChangeType.Deleted\n",
    "    ]\n",
    "    |> _sequenceEqual eventList\n",
    "\n",
    "    [\n",
    "        \"file1.txt\", nameof FileSystemChangeType.Changed\n",
    "        \"file2.txt\", nameof FileSystemChangeType.Changed\n",
    "        \"file_1.txt\", nameof FileSystemChangeType.Deleted\n",
    "        \"file_2.txt\", nameof FileSystemChangeType.Deleted\n",
    "    ]\n",
    "    |> Map.ofList\n",
    "    |> _sequenceEqual eventMap\n",
    "\n",
    "run\n",
    "|> retryFn 3\n",
    "|> _assertEqual (Some ())"
   ]
  }
 ],
 "metadata": {},
 "nbformat": 4,
 "nbformat_minor": 5
}