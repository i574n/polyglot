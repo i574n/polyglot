{
 "cells": [
  {
   "cell_type": "markdown",
   "metadata": {},
   "source": [
    "# FileSystem (Polyglot)"
   ]
  },
  {
   "cell_type": "code",
   "execution_count": null,
   "metadata": {
    "dotnet_interactive": {
     "language": "fsharp"
    },
    "polyglot_notebook": {
     "kernelName": "fsharp"
    }
   },
   "outputs": [],
   "source": [
    "#!import ../../lib/fsharp/Notebooks.dib\n",
    "#!import ../../lib/fsharp/Testing.dib"
   ]
  },
  {
   "cell_type": "code",
   "execution_count": null,
   "metadata": {
    "dotnet_interactive": {
     "language": "fsharp"
    },
    "polyglot_notebook": {
     "kernelName": "fsharp"
    }
   },
   "outputs": [],
   "source": [
    "#r @\"../../../../../../../.nuget/packages/fsharp.control.asyncseq/3.2.1/lib/netstandard2.1/FSharp.Control.AsyncSeq.dll\"\n",
    "#r @\"../../../../../../../.nuget/packages/system.reactive/6.0.1-preview.1/lib/net6.0/System.Reactive.dll\"\n",
    "#r @\"../../../../../../../.nuget/packages/system.reactive.linq/6.0.1-preview.1/lib/netstandard2.0/System.Reactive.Linq.dll\"\n",
    "#r @\"../../../../../../../.nuget/packages/argu/6.1.5/lib/netstandard2.0/Argu.dll\"\n",
    "#r @\"../../../../../../../.nuget/packages/system.commandline/2.0.0-beta4.22272.1/lib/net6.0/System.CommandLine.dll\""
   ]
  },
  {
   "cell_type": "code",
   "execution_count": null,
   "metadata": {
    "dotnet_interactive": {
     "language": "fsharp"
    },
    "polyglot_notebook": {
     "kernelName": "fsharp"
    }
   },
   "outputs": [],
   "source": [
    "#!import ../../lib/fsharp/Common.fs\n",
    "#!import ../../lib/fsharp/CommonFSharp.fs\n",
    "#!import ../../lib/fsharp/Async.fs\n",
    "#!import ../../lib/fsharp/AsyncSeq.fs\n",
    "#!import ../../lib/fsharp/Runtime.fs"
   ]
  },
  {
   "cell_type": "code",
   "execution_count": null,
   "metadata": {
    "dotnet_interactive": {
     "language": "fsharp"
    },
    "polyglot_notebook": {
     "kernelName": "fsharp"
    }
   },
   "outputs": [],
   "source": [
    "open Common"
   ]
  },
  {
   "cell_type": "markdown",
   "metadata": {},
   "source": [
    "## Operators"
   ]
  },
  {
   "cell_type": "code",
   "execution_count": null,
   "metadata": {
    "dotnet_interactive": {
     "language": "fsharp"
    },
    "polyglot_notebook": {
     "kernelName": "fsharp"
    }
   },
   "outputs": [],
   "source": [
    "module Operators =\n",
    "    let inline (</>) a b =\n",
    "        System.IO.Path.Combine (a, b)"
   ]
  },
  {
   "cell_type": "code",
   "execution_count": null,
   "metadata": {
    "dotnet_interactive": {
     "language": "fsharp"
    },
    "polyglot_notebook": {
     "kernelName": "fsharp"
    }
   },
   "outputs": [],
   "source": [
    "open Operators"
   ]
  },
  {
   "cell_type": "markdown",
   "metadata": {},
   "source": [
    "## createTempDirectoryName"
   ]
  },
  {
   "cell_type": "code",
   "execution_count": null,
   "metadata": {
    "dotnet_interactive": {
     "language": "fsharp"
    },
    "polyglot_notebook": {
     "kernelName": "fsharp"
    }
   },
   "outputs": [],
   "source": [
    "let inline createTempDirectoryName () =\n",
    "    let root = System.Reflection.Assembly.GetEntryAssembly().GetName().Name\n",
    "\n",
    "    System.IO.Path.GetTempPath ()\n",
    "    </> $\"!{root}\"\n",
    "    </> string (newGuidFromDateTime System.DateTime.Now)"
   ]
  },
  {
   "cell_type": "code",
   "execution_count": null,
   "metadata": {
    "dotnet_interactive": {
     "language": "fsharp"
    },
    "polyglot_notebook": {
     "kernelName": "fsharp"
    }
   },
   "outputs": [
    {
     "name": "stdout",
     "output_type": "stream",
     "text": [
      "/tmp/!dotnet-repl/20240217-1802-2016-1684-11a5b384c5e1\n"
     ]
    }
   ],
   "source": [
    "//// test\n",
    "\n",
    "createTempDirectoryName ()\n",
    "|> _contains System.IO.Path.DirectorySeparatorChar"
   ]
  },
  {
   "cell_type": "markdown",
   "metadata": {},
   "source": [
    "## createTempDirectory"
   ]
  },
  {
   "cell_type": "code",
   "execution_count": null,
   "metadata": {
    "dotnet_interactive": {
     "language": "fsharp"
    },
    "polyglot_notebook": {
     "kernelName": "fsharp"
    }
   },
   "outputs": [],
   "source": [
    "let inline createTempDirectory () =\n",
    "    let tempFolder = createTempDirectoryName ()\n",
    "    let result = System.IO.Directory.CreateDirectory tempFolder\n",
    "\n",
    "    if not result.Exists then\n",
    "        let getLocals () =\n",
    "            $\"tempFolder: {tempFolder} / result: {({|\n",
    "                Exists = result.Exists\n",
    "                CreationTime = result.CreationTime\n",
    "            |})} {getLocals ()}\"\n",
    "\n",
    "        trace Debug (fun () -> \"createTempDirectory\") getLocals\n",
    "\n",
    "    tempFolder"
   ]
  },
  {
   "cell_type": "code",
   "execution_count": null,
   "metadata": {
    "dotnet_interactive": {
     "language": "fsharp"
    },
    "polyglot_notebook": {
     "kernelName": "fsharp"
    }
   },
   "outputs": [
    {
     "name": "stdout",
     "output_type": "stream",
     "text": [
      "True\n"
     ]
    }
   ],
   "source": [
    "//// test\n",
    "\n",
    "let tempDirectory = createTempDirectory ()\n",
    "\n",
    "Directory.Exists tempDirectory\n",
    "|> _equal true"
   ]
  },
  {
   "cell_type": "markdown",
   "metadata": {},
   "source": [
    "## getSourceDirectory"
   ]
  },
  {
   "cell_type": "code",
   "execution_count": null,
   "metadata": {
    "dotnet_interactive": {
     "language": "fsharp"
    },
    "polyglot_notebook": {
     "kernelName": "fsharp"
    }
   },
   "outputs": [],
   "source": [
    "let getSourceDirectory =\n",
    "    fun () -> __SOURCE_DIRECTORY__\n",
    "    |> memoize"
   ]
  },
  {
   "cell_type": "code",
   "execution_count": null,
   "metadata": {
    "dotnet_interactive": {
     "language": "fsharp"
    },
    "polyglot_notebook": {
     "kernelName": "fsharp"
    }
   },
   "outputs": [
    {
     "name": "stdout",
     "output_type": "stream",
     "text": [
      "fsharp\n"
     ]
    }
   ],
   "source": [
    "//// test\n",
    "\n",
    "getSourceDirectory ()\n",
    "|> System.IO.DirectoryInfo\n",
    "|> fun dir -> dir.Name\n",
    "|> _equal \"fsharp\""
   ]
  },
  {
   "cell_type": "markdown",
   "metadata": {},
   "source": [
    "## findParent"
   ]
  },
  {
   "cell_type": "code",
   "execution_count": null,
   "metadata": {
    "dotnet_interactive": {
     "language": "fsharp"
    },
    "polyglot_notebook": {
     "kernelName": "fsharp"
    }
   },
   "outputs": [],
   "source": [
    "let inline findParent name isFile rootDir =\n",
    "    let rec loop dir =\n",
    "        if dir </> name |> (if isFile then System.IO.File.Exists else System.IO.Directory.Exists)\n",
    "        then dir\n",
    "        else\n",
    "            dir\n",
    "            |> System.IO.Directory.GetParent\n",
    "            |> function\n",
    "                | null -> failwith $\"\"\"No parent for {if isFile then \"file\" else \"dir\"} '{name}' at '{rootDir}'\"\"\"\n",
    "                | parent -> parent.FullName |> loop\n",
    "    loop rootDir"
   ]
  },
  {
   "cell_type": "code",
   "execution_count": null,
   "metadata": {
    "dotnet_interactive": {
     "language": "fsharp"
    },
    "polyglot_notebook": {
     "kernelName": "fsharp"
    }
   },
   "outputs": [
    {
     "name": "stdout",
     "output_type": "stream",
     "text": [
      "polyglot\n"
     ]
    }
   ],
   "source": [
    "//// test\n",
    "\n",
    "getSourceDirectory () |> findParent \".paket\" false\n",
    "|> System.IO.DirectoryInfo\n",
    "|> fun dir -> dir.Name\n",
    "|> _equal \"polyglot\""
   ]
  },
  {
   "cell_type": "code",
   "execution_count": null,
   "metadata": {
    "dotnet_interactive": {
     "language": "fsharp"
    },
    "polyglot_notebook": {
     "kernelName": "fsharp"
    }
   },
   "outputs": [
    {
     "name": "stdout",
     "output_type": "stream",
     "text": [
      "polyglot\n"
     ]
    }
   ],
   "source": [
    "//// test\n",
    "\n",
    "getSourceDirectory () |> findParent \"paket.dependencies\" true\n",
    "|> System.IO.DirectoryInfo\n",
    "|> fun dir -> dir.Name\n",
    "|> _equal \"polyglot\""
   ]
  },
  {
   "cell_type": "markdown",
   "metadata": {},
   "source": [
    "## readAllTextAsync"
   ]
  },
  {
   "cell_type": "code",
   "execution_count": null,
   "metadata": {
    "dotnet_interactive": {
     "language": "fsharp"
    },
    "polyglot_notebook": {
     "kernelName": "fsharp"
    }
   },
   "outputs": [],
   "source": [
    "let inline readAllTextAsync path =\n",
    "    path |> System.IO.File.ReadAllTextAsync |> Async.AwaitTask"
   ]
  },
  {
   "cell_type": "markdown",
   "metadata": {},
   "source": [
    "## fileExistsContent"
   ]
  },
  {
   "cell_type": "code",
   "execution_count": null,
   "metadata": {
    "dotnet_interactive": {
     "language": "fsharp"
    },
    "polyglot_notebook": {
     "kernelName": "fsharp"
    }
   },
   "outputs": [],
   "source": [
    "let inline fileExistsContent path content = async {\n",
    "    if path |> System.IO.File.Exists |> not\n",
    "    then return false\n",
    "    else\n",
    "        let! existingContent = path |> readAllTextAsync\n",
    "        return content = existingContent\n",
    "}"
   ]
  },
  {
   "cell_type": "markdown",
   "metadata": {},
   "source": [
    "## writeAllTextAsync"
   ]
  },
  {
   "cell_type": "code",
   "execution_count": null,
   "metadata": {
    "dotnet_interactive": {
     "language": "fsharp"
    },
    "polyglot_notebook": {
     "kernelName": "fsharp"
    }
   },
   "outputs": [],
   "source": [
    "let inline writeAllTextAsync path contents =\n",
    "    System.IO.File.WriteAllTextAsync (path, contents) |> Async.AwaitTask"
   ]
  },
  {
   "cell_type": "markdown",
   "metadata": {},
   "source": [
    "## writeAllTextExists"
   ]
  },
  {
   "cell_type": "code",
   "execution_count": null,
   "metadata": {
    "dotnet_interactive": {
     "language": "fsharp"
    },
    "polyglot_notebook": {
     "kernelName": "fsharp"
    }
   },
   "outputs": [],
   "source": [
    "let inline writeAllTextExists path contents = async {\n",
    "    let! exists = contents |> fileExistsContent path\n",
    "    if not exists\n",
    "    then do! contents |> writeAllTextAsync path\n",
    "}"
   ]
  },
  {
   "cell_type": "markdown",
   "metadata": {},
   "source": [
    "## waitForFileAccess"
   ]
  },
  {
   "cell_type": "code",
   "execution_count": null,
   "metadata": {
    "dotnet_interactive": {
     "language": "fsharp"
    },
    "polyglot_notebook": {
     "kernelName": "fsharp"
    }
   },
   "outputs": [],
   "source": [
    "let inline waitForFileAccess access path =\n",
    "    let fileAccess, fileShare =\n",
    "        access\n",
    "        |> Option.defaultValue (System.IO.FileAccess.ReadWrite, System.IO.FileShare.Read)\n",
    "\n",
    "    let rec loop retry = async {\n",
    "        try\n",
    "            use _ = new System.IO.FileStream (\n",
    "                path,\n",
    "                System.IO.FileMode.Open,\n",
    "                fileAccess,\n",
    "                fileShare\n",
    "            )\n",
    "            return retry\n",
    "        with ex ->\n",
    "            if retry % 100 = 0 then\n",
    "                let getLocals () = $\"path: {path |> System.IO.Path.GetFileName} / ex: {ex |> printException} / {getLocals ()}\"\n",
    "                trace Debug (fun () -> \"waitForFileAccess\") getLocals\n",
    "            do! Async.Sleep 10\n",
    "            return! loop (retry + 1)\n",
    "    }\n",
    "    loop 0"
   ]
  },
  {
   "cell_type": "code",
   "execution_count": null,
   "metadata": {
    "dotnet_interactive": {
     "language": "fsharp"
    },
    "polyglot_notebook": {
     "kernelName": "fsharp"
    }
   },
   "outputs": [
    {
     "name": "stdout",
     "output_type": "stream",
     "text": [
      "00:00:00 #1 [Debug] 1\n",
      "00:00:00 #2 [Debug] 2\n",
      "00:00:00 #3 [Debug] _1\n",
      "00:00:00 #4 [Debug] 3\n",
      "00:00:00 #5 [Debug] _2\n",
      "00:00:00 #6 [Debug] 4\n",
      "00:00:00 #7 [Debug] waitForFileAccess / path: test.txt / ex: System.IO.IOException: The process cannot access the file '/tmp/!dotnet-repl/20240217-1802-2074-7402-74e90e160131/test.txt' because it is being used by another process.\n",
      "00:00:01 #8 [Debug] waitForFileAccess / path: test.txt / ex: System.IO.IOException: The process cannot access the file '/tmp/!dotnet-repl/20240217-1802-2074-7402-74e90e160131/test.txt' because it is being used by another process.\n",
      "00:00:02 #9 [Debug] _3\n",
      "00:00:02 #10 [Debug] _4\n",
      "00:00:02 #11 [Debug] _5\n",
      "00:00:02 #12 [Debug] _6\n",
      "00:00:02 #13 [Debug] 5\n",
      "00:00:02 #14 [Debug] 6\n",
      "00:00:02 #15 [Debug] 7\n",
      "167\n",
      "167\n",
      "167\n",
      "1\n",
      "True\n"
     ]
    }
   ],
   "source": [
    "//// test\n",
    "\n",
    "let tempFolder = createTempDirectory ()\n",
    "let path = tempFolder </> \"test.txt\"\n",
    "\n",
    "let inline lockFile () = async {\n",
    "    trace Debug (fun () -> \"_1\") getLocals\n",
    "    use stream = new System.IO.FileStream (\n",
    "        path,\n",
    "        System.IO.FileMode.Open,\n",
    "        System.IO.FileAccess.ReadWrite,\n",
    "        System.IO.FileShare.None\n",
    "    )\n",
    "    trace Debug (fun () -> \"_2\") getLocals\n",
    "    do! Async.Sleep 2000\n",
    "    trace Debug (fun () -> \"_3\") getLocals\n",
    "    stream.Seek (0L, SeekOrigin.Begin) |> ignore\n",
    "    trace Debug (fun () -> \"_4\") getLocals\n",
    "    stream.WriteByte 49uy\n",
    "    trace Debug (fun () -> \"_5\") getLocals\n",
    "    stream.Flush ()\n",
    "    trace Debug (fun () -> \"_6\") getLocals\n",
    "}\n",
    "\n",
    "async {\n",
    "    trace Debug (fun () -> \"1\") getLocals\n",
    "    do! \"0\" |> writeAllTextAsync path\n",
    "    trace Debug (fun () -> \"2\") getLocals\n",
    "    let! child = lockFile () |> Async.StartChild\n",
    "    trace Debug (fun () -> \"3\") getLocals\n",
    "    do! Async.Sleep 1\n",
    "    trace Debug (fun () -> \"4\") getLocals\n",
    "    let! retries = path |> waitForFileAccess None\n",
    "    trace Debug (fun () -> \"5\") getLocals\n",
    "    let! text = path |> readAllTextAsync\n",
    "    trace Debug (fun () -> \"6\") getLocals\n",
    "    do! child\n",
    "    trace Debug (fun () -> \"7\") getLocals\n",
    "    return retries, text\n",
    "}\n",
    "|> Async.runWithTimeout 3000\n",
    "|> function\n",
    "    | Some (retries, text) ->\n",
    "        retries\n",
    "        |> _isBetween\n",
    "            (if Runtime.isWindows () then 100 else 100)\n",
    "            (if Runtime.isWindows () then 150 else 200)\n",
    "        \n",
    "        text |> _equal \"1\"\n",
    "        \n",
    "        true\n",
    "    | _ -> false\n",
    "|> _equal true"
   ]
  },
  {
   "cell_type": "markdown",
   "metadata": {},
   "source": [
    "## readAllTextRetryAsync"
   ]
  },
  {
   "cell_type": "code",
   "execution_count": null,
   "metadata": {
    "dotnet_interactive": {
     "language": "fsharp"
    },
    "polyglot_notebook": {
     "kernelName": "fsharp"
    }
   },
   "outputs": [],
   "source": [
    "let inline readAllTextRetryAsync fullPath =\n",
    "    let rec loop retry = async {\n",
    "        try\n",
    "            if retry > 0\n",
    "            then do!\n",
    "                fullPath\n",
    "                |> waitForFileAccess (Some (\n",
    "                    System.IO.FileAccess.Read,\n",
    "                    System.IO.FileShare.Read\n",
    "                ))\n",
    "                |> Async.runWithTimeoutAsync 1000\n",
    "                |> Async.Ignore\n",
    "            return! fullPath |> readAllTextAsync |> Async.map Some\n",
    "        with ex ->\n",
    "            let getLocals () = $\"retry: {retry} / ex: {ex |> printException} / {getLocals ()}\"\n",
    "            trace Debug (fun () -> $\"watchWithFilter / readContent\") getLocals\n",
    "            if retry = 0\n",
    "            then return! loop (retry + 1)\n",
    "            else return None\n",
    "    }\n",
    "    loop 0"
   ]
  },
  {
   "cell_type": "markdown",
   "metadata": {},
   "source": [
    "## deleteDirectoryAsync"
   ]
  },
  {
   "cell_type": "code",
   "execution_count": null,
   "metadata": {
    "dotnet_interactive": {
     "language": "fsharp"
    },
    "polyglot_notebook": {
     "kernelName": "fsharp"
    }
   },
   "outputs": [],
   "source": [
    "let inline deleteDirectoryAsync path =\n",
    "    let rec loop retry = async {\n",
    "        try\n",
    "            System.IO.Directory.Delete (path, true)\n",
    "            return retry\n",
    "        with ex ->\n",
    "            if retry % 100 = 0 then\n",
    "                let getLocals () = $\"path: {path |> System.IO.Path.GetFileName} / ex: {ex |> printException} / {getLocals ()}\"\n",
    "                trace Debug (fun () -> \"deleteDirectoryAsync\") getLocals\n",
    "            do! Async.Sleep 10\n",
    "            return! loop (retry + 1)\n",
    "    }\n",
    "    loop 0"
   ]
  },
  {
   "cell_type": "code",
   "execution_count": null,
   "metadata": {
    "dotnet_interactive": {
     "language": "fsharp"
    },
    "polyglot_notebook": {
     "kernelName": "fsharp"
    }
   },
   "outputs": [
    {
     "name": "stdout",
     "output_type": "stream",
     "text": [
      "00:00:02 #16 [Debug] 1\n",
      "00:00:02 #17 [Debug] 2\n",
      "00:00:02 #18 [Debug] 3\n",
      "00:00:02 #19 [Debug] _1\n",
      "00:00:02 #20 [Debug] _2\n",
      "00:00:02 #21 [Debug] 4\n",
      "00:00:02 #22 [Debug] 5\n",
      "00:00:04 #23 [Debug] _3\n",
      "00:00:04 #24 [Debug] 6\n",
      "0\n",
      "0\n",
      "0\n",
      "True\n"
     ]
    }
   ],
   "source": [
    "//// test\n",
    "\n",
    "let tempFolder = createTempDirectory ()\n",
    "let path = tempFolder </> \"test\"\n",
    "\n",
    "let inline lockDirectory () = async {\n",
    "    trace Debug (fun () -> \"_1\") getLocals\n",
    "    System.IO.File.WriteAllText (path </> \"test.txt\", \"0\")\n",
    "    use _ = new System.IO.FileStream (\n",
    "        path </> \"test.txt\",\n",
    "        System.IO.FileMode.Open,\n",
    "        System.IO.FileAccess.ReadWrite,\n",
    "        System.IO.FileShare.None\n",
    "    )\n",
    "    trace Debug (fun () -> \"_2\") getLocals\n",
    "    do! Async.Sleep 2000\n",
    "    trace Debug (fun () -> \"_3\") getLocals\n",
    "}\n",
    "\n",
    "async {\n",
    "    trace Debug (fun () -> \"1\") getLocals\n",
    "    Directory.CreateDirectory path |> ignore\n",
    "    trace Debug (fun () -> \"2\") getLocals\n",
    "    let! child = lockDirectory () |> Async.StartChild\n",
    "    trace Debug (fun () -> \"3\") getLocals\n",
    "    do! Async.Sleep 60\n",
    "    trace Debug (fun () -> \"4\") getLocals\n",
    "    let! retries = deleteDirectoryAsync path\n",
    "    trace Debug (fun () -> \"5\") getLocals\n",
    "    do! child\n",
    "    trace Debug (fun () -> \"6\") getLocals\n",
    "    return retries\n",
    "}\n",
    "|> Async.runWithTimeout 3000\n",
    "|> function\n",
    "    | Some retries ->\n",
    "        retries\n",
    "        |> _isBetween\n",
    "            (if Runtime.isWindows () then 100 else 0)\n",
    "            (if Runtime.isWindows () then 150 else 0)\n",
    "\n",
    "        true\n",
    "    | _ -> false\n",
    "|> _equal true"
   ]
  },
  {
   "cell_type": "markdown",
   "metadata": {},
   "source": [
    "## deleteFileAsync"
   ]
  },
  {
   "cell_type": "code",
   "execution_count": null,
   "metadata": {
    "dotnet_interactive": {
     "language": "fsharp"
    },
    "polyglot_notebook": {
     "kernelName": "fsharp"
    }
   },
   "outputs": [],
   "source": [
    "let inline deleteFileAsync path =\n",
    "    let rec loop retry = async {\n",
    "        try\n",
    "            System.IO.File.Delete path\n",
    "            return retry\n",
    "        with ex ->\n",
    "            if retry % 100 = 0 then\n",
    "                let getLocals () = $\"path: {path |> System.IO.Path.GetFileName} / ex: {ex |> printException} / {getLocals ()}\"\n",
    "                trace Warning (fun () -> \"deleteFileAsync\") getLocals\n",
    "            do! Async.Sleep 10\n",
    "            return! loop (retry + 1)\n",
    "    }\n",
    "    loop 0"
   ]
  },
  {
   "cell_type": "code",
   "execution_count": null,
   "metadata": {
    "dotnet_interactive": {
     "language": "fsharp"
    },
    "polyglot_notebook": {
     "kernelName": "fsharp"
    }
   },
   "outputs": [
    {
     "name": "stdout",
     "output_type": "stream",
     "text": [
      "00:00:04 #25 [Debug] 1\n",
      "00:00:04 #26 [Debug] 2\n",
      "00:00:04 #27 [Debug] 3\n",
      "00:00:04 #28 [Debug] _1\n",
      "00:00:04 #29 [Debug] _2\n",
      "00:00:04 #30 [Debug] 4\n",
      "00:00:04 #31 [Debug] 5\n",
      "00:00:06 #32 [Debug] _3\n",
      "00:00:06 #33 [Debug] 6\n",
      "0\n",
      "0\n",
      "0\n",
      "True\n"
     ]
    }
   ],
   "source": [
    "//// test\n",
    "\n",
    "let tempFolder = createTempDirectory ()\n",
    "let path = tempFolder </> \"test.txt\"\n",
    "\n",
    "let inline lockFile () = async {\n",
    "    trace Debug (fun () -> \"_1\") getLocals\n",
    "    use _ = new System.IO.FileStream (\n",
    "        path,\n",
    "        System.IO.FileMode.Open,\n",
    "        System.IO.FileAccess.ReadWrite,\n",
    "        System.IO.FileShare.None\n",
    "    )\n",
    "    trace Debug (fun () -> \"_2\") getLocals\n",
    "    do! Async.Sleep 2000\n",
    "    trace Debug (fun () -> \"_3\") getLocals\n",
    "}\n",
    "\n",
    "async {\n",
    "    trace Debug (fun () -> \"1\") getLocals\n",
    "    do! \"0\" |> writeAllTextAsync path\n",
    "    trace Debug (fun () -> \"2\") getLocals\n",
    "    let! child = lockFile () |> Async.StartChild\n",
    "    trace Debug (fun () -> \"3\") getLocals\n",
    "    do! Async.Sleep 1\n",
    "    trace Debug (fun () -> \"4\") getLocals\n",
    "    let! retries = deleteFileAsync path\n",
    "    trace Debug (fun () -> \"5\") getLocals\n",
    "    do! child\n",
    "    trace Debug (fun () -> \"6\") getLocals\n",
    "    return retries\n",
    "}\n",
    "|> Async.runWithTimeout 3000\n",
    "|> function\n",
    "    | Some retries ->\n",
    "        retries\n",
    "        |> _isBetween\n",
    "            (if Runtime.isWindows () then 100 else 0)\n",
    "            (if Runtime.isWindows () then 150 else 0)\n",
    "\n",
    "        true\n",
    "    | _ -> false\n",
    "|> _equal true"
   ]
  },
  {
   "cell_type": "markdown",
   "metadata": {},
   "source": [
    "## moveFileAsync"
   ]
  },
  {
   "cell_type": "code",
   "execution_count": null,
   "metadata": {
    "dotnet_interactive": {
     "language": "fsharp"
    },
    "polyglot_notebook": {
     "kernelName": "fsharp"
    }
   },
   "outputs": [],
   "source": [
    "let inline moveFileAsync newPath oldPath =\n",
    "    let rec loop retry = async {\n",
    "        try\n",
    "            System.IO.File.Move (oldPath, newPath)\n",
    "            return retry\n",
    "        with ex ->\n",
    "            if retry % 100 = 0 then\n",
    "                let getLocals () =\n",
    "                    $\"oldPath: {oldPath |> System.IO.Path.GetFileName} / newPath: {newPath |> System.IO.Path.GetFileName} / ex: {ex |> printException} / {getLocals ()}\"\n",
    "                trace Warning (fun () -> \"moveFileAsync\") getLocals\n",
    "            do! Async.Sleep 10\n",
    "            return! loop (retry + 1)\n",
    "    }\n",
    "    loop 0"
   ]
  },
  {
   "cell_type": "code",
   "execution_count": null,
   "metadata": {
    "dotnet_interactive": {
     "language": "fsharp"
    },
    "polyglot_notebook": {
     "kernelName": "fsharp"
    }
   },
   "outputs": [
    {
     "name": "stdout",
     "output_type": "stream",
     "text": [
      "00:00:06 #34 [Debug] 1\n",
      "00:00:06 #35 [Debug] 2\n",
      "00:00:06 #36 [Debug] 3\n",
      "00:00:06 #37 [Debug] _1\n",
      "00:00:06 #38 [Debug] _2\n",
      "00:00:06 #39 [Debug] 4\n",
      "00:00:06 #40 [Debug] 5\n",
      "00:00:06 #41 [Debug] waitForFileAccess / path: test2.txt / ex: System.IO.IOException: The process cannot access the file '/tmp/!dotnet-repl/20240217-1802-2759-5943-565957818e9b/test2.txt' because it is being used by another process.\n",
      "00:00:08 #42 [Debug] waitForFileAccess / path: test2.txt / ex: System.IO.IOException: The process cannot access the file '/tmp/!dotnet-repl/20240217-1802-2759-5943-565957818e9b/test2.txt' because it is being used by another process.\n",
      "00:00:08 #43 [Debug] _3\n",
      "00:00:08 #44 [Debug] 6\n",
      "00:00:08 #45 [Debug] 7\n",
      "00:00:08 #46 [Debug] 8\n",
      "0\n",
      "0\n",
      "0\n",
      "167\n",
      "167\n",
      "167\n",
      "0\n",
      "True\n"
     ]
    }
   ],
   "source": [
    "//// test\n",
    "\n",
    "let tempFolder = createTempDirectory ()\n",
    "let path = tempFolder </> \"test.txt\"\n",
    "let newPath = tempFolder </> \"test2.txt\"\n",
    "\n",
    "let inline lockFile () = async {\n",
    "    trace Debug (fun () -> \"_1\") getLocals\n",
    "    use _ = new System.IO.FileStream (\n",
    "        path,\n",
    "        System.IO.FileMode.Open,\n",
    "        System.IO.FileAccess.ReadWrite,\n",
    "        System.IO.FileShare.None\n",
    "    )\n",
    "    trace Debug (fun () -> \"_2\") getLocals\n",
    "    do! Async.Sleep 2000\n",
    "    trace Debug (fun () -> \"_3\") getLocals\n",
    "}\n",
    "\n",
    "async {\n",
    "    trace Debug (fun () -> \"1\") getLocals\n",
    "    do! \"0\" |> writeAllTextAsync path\n",
    "    trace Debug (fun () -> \"2\") getLocals\n",
    "    let! child = lockFile () |> Async.StartChild\n",
    "    trace Debug (fun () -> \"3\") getLocals\n",
    "    do! Async.Sleep 1\n",
    "    trace Debug (fun () -> \"4\") getLocals\n",
    "    let! retries1 = path |> moveFileAsync newPath\n",
    "    trace Debug (fun () -> \"5\") getLocals\n",
    "    let! retries2 = newPath |> waitForFileAccess None\n",
    "    trace Debug (fun () -> \"6\") getLocals\n",
    "    let! text = newPath |> readAllTextAsync\n",
    "    trace Debug (fun () -> \"7\") getLocals\n",
    "    do! child\n",
    "    trace Debug (fun () -> \"8\") getLocals\n",
    "    return retries1, retries2, text\n",
    "}\n",
    "|> Async.runWithTimeout 3000\n",
    "|> function\n",
    "    | Some (retries1, retries2, text) ->\n",
    "        retries1\n",
    "        |> _isBetween\n",
    "            (if Runtime.isWindows () then 100 else 0)\n",
    "            (if Runtime.isWindows () then 150 else 0)\n",
    "\n",
    "        retries2\n",
    "        |> _isBetween\n",
    "            (if Runtime.isWindows () then 0 else 100)\n",
    "            (if Runtime.isWindows () then 0 else 200)\n",
    "        \n",
    "        text |> _equal \"0\"\n",
    "        \n",
    "        true\n",
    "    | _ -> false\n",
    "|> _equal true"
   ]
  },
  {
   "cell_type": "markdown",
   "metadata": {},
   "source": [
    "## watchDirectory"
   ]
  },
  {
   "cell_type": "code",
   "execution_count": null,
   "metadata": {
    "dotnet_interactive": {
     "language": "fsharp"
    },
    "polyglot_notebook": {
     "kernelName": "fsharp"
    }
   },
   "outputs": [],
   "source": [
    "[<RequireQualifiedAccess>]\n",
    "type FileSystemChangeType =\n",
    "    | Failure\n",
    "    | Changed\n",
    "    | Created\n",
    "    | Deleted\n",
    "    | Renamed\n",
    "\n",
    "[<RequireQualifiedAccess>]\n",
    "type FileSystemChange =\n",
    "    | Failure of exn: exn\n",
    "    | Changed of path: string * content: string option\n",
    "    | Created of path: string * content: string option\n",
    "    | Deleted of path: string\n",
    "    | Renamed of oldPath: string * (string * string option)\n",
    "\n",
    "\n",
    "let inline watchDirectoryWithFilter filter shouldReadContent path =\n",
    "    let fullPath = path |> System.IO.Path.GetFullPath\n",
    "    let getLocals () = $\"filter: {filter} / {getLocals ()}\"\n",
    "\n",
    "    let watcher =\n",
    "        new System.IO.FileSystemWatcher (\n",
    "            Path = fullPath,\n",
    "            NotifyFilter = filter,\n",
    "            EnableRaisingEvents = true,\n",
    "            IncludeSubdirectories = true\n",
    "        )\n",
    "\n",
    "    let inline getEventPath (path : string) =\n",
    "        path |> String.trim |> String.replace fullPath \"\" |> String.trimStart [| '/'; '\\\\' |]\n",
    "\n",
    "    let inline ticks () =\n",
    "        System.DateTime.UtcNow.Ticks\n",
    "\n",
    "    let changedStream =\n",
    "        AsyncSeq.subscribeEvent\n",
    "            watcher.Changed\n",
    "            (fun event ->\n",
    "                ticks (),\n",
    "                [ FileSystemChange.Changed (getEventPath event.FullPath, None) ]\n",
    "            )\n",
    "\n",
    "    let deletedStream =\n",
    "        AsyncSeq.subscribeEvent\n",
    "            watcher.Deleted\n",
    "            (fun event ->\n",
    "                ticks (),\n",
    "                [ FileSystemChange.Deleted (getEventPath event.FullPath) ]\n",
    "            )\n",
    "\n",
    "    let createdStream =\n",
    "        AsyncSeq.subscribeEvent\n",
    "            watcher.Created\n",
    "            (fun event ->\n",
    "                let path = getEventPath event.FullPath\n",
    "                ticks (), [\n",
    "                    FileSystemChange.Created (path, None)\n",
    "                    if Runtime.isWindows () then\n",
    "                        FileSystemChange.Changed (path, None)\n",
    "                ])\n",
    "\n",
    "    let renamedStream =\n",
    "        AsyncSeq.subscribeEvent\n",
    "            watcher.Renamed\n",
    "            (fun event ->\n",
    "                ticks (), [\n",
    "                    FileSystemChange.Renamed (\n",
    "                        getEventPath event.OldFullPath,\n",
    "                        (getEventPath event.FullPath, None)\n",
    "                    )\n",
    "                ]\n",
    "            )\n",
    "\n",
    "    let failureStream =\n",
    "        AsyncSeq.subscribeEvent\n",
    "            watcher.Error\n",
    "            (fun event -> ticks (), [ FileSystemChange.Failure (event.GetException ()) ])\n",
    "\n",
    "    let stream =\n",
    "        [\n",
    "            changedStream\n",
    "            deletedStream\n",
    "            createdStream\n",
    "            renamedStream\n",
    "            failureStream\n",
    "        ]\n",
    "        |> FSharp.Control.AsyncSeq.mergeAll\n",
    "        |> FSharp.Control.AsyncSeq.map (fun (t, events) ->\n",
    "            events\n",
    "            |> List.fold\n",
    "                (fun (i, events) event ->\n",
    "                    i + 1L,\n",
    "                    (t + i, event) :: events)\n",
    "                (0L, [])\n",
    "            |> snd\n",
    "            |> List.rev\n",
    "        )\n",
    "        |> FSharp.Control.AsyncSeq.concatSeq\n",
    "        |> FSharp.Control.AsyncSeq.mapAsyncParallel (fun (t, event) -> async {\n",
    "            match shouldReadContent event, event with\n",
    "            | true, FileSystemChange.Changed (path, _) ->\n",
    "                do! Async.Sleep 5\n",
    "                let! content = fullPath </> path |> readAllTextRetryAsync\n",
    "                return t, FileSystemChange.Changed (path, content)\n",
    "            | true, FileSystemChange.Created (path, _) ->\n",
    "                do! Async.Sleep 5\n",
    "                let! content = fullPath </> path |> readAllTextRetryAsync\n",
    "                return t, FileSystemChange.Created (path, content)\n",
    "            | true, FileSystemChange.Renamed (oldPath, (newPath, _)) ->\n",
    "                let! content = fullPath </> newPath |> readAllTextRetryAsync\n",
    "                return t, FileSystemChange.Renamed (oldPath, (newPath, content))\n",
    "            | _ -> return t, event\n",
    "        })\n",
    "\n",
    "    let disposable =\n",
    "        newDisposable (fun () ->\n",
    "            trace Debug (fun () -> \"watchWithFilter / Disposing watch stream\") getLocals\n",
    "            watcher.EnableRaisingEvents <- false\n",
    "            watcher.Dispose ()\n",
    "        )\n",
    "\n",
    "    stream, disposable\n",
    "\n",
    "let inline watchDirectory path =\n",
    "    watchDirectoryWithFilter\n",
    "        (System.IO.NotifyFilters.FileName\n",
    "        // ||| System.IO.NotifyFilters.DirectoryName\n",
    "        // ||| System.IO.NotifyFilters.Attributes\n",
    "        //// ||| System.IO.NotifyFilters.Size\n",
    "        ||| System.IO.NotifyFilters.LastWrite\n",
    "        //// ||| System.IO.NotifyFilters.LastAccess\n",
    "        // ||| System.IO.NotifyFilters.CreationTime\n",
    "        // ||| System.IO.NotifyFilters.Security\n",
    "        )\n",
    "        path"
   ]
  },
  {
   "cell_type": "markdown",
   "metadata": {},
   "source": [
    "### testEventsRaw (test)"
   ]
  },
  {
   "cell_type": "code",
   "execution_count": null,
   "metadata": {
    "dotnet_interactive": {
     "language": "fsharp"
    },
    "polyglot_notebook": {
     "kernelName": "fsharp"
    }
   },
   "outputs": [],
   "source": [
    "//// test\n",
    "\n",
    "let inline testEventsRaw\n",
    "    (watchFn : (_ -> bool) -> string -> FSharp.Control.AsyncSeq<int64 * FileSystemChange> * IDisposable)\n",
    "    write\n",
    "    =\n",
    "    let tempDirectory = createTempDirectory ()\n",
    "    let stream, disposable = watchFn (fun _ -> true) tempDirectory\n",
    "\n",
    "    let events = System.Collections.Concurrent.ConcurrentBag ()\n",
    "\n",
    "    let inline iter () =\n",
    "        stream\n",
    "        |> FSharp.Control.AsyncSeq.iterAsyncParallel (fun event -> async { events.Add event })\n",
    "\n",
    "    let run = async {\n",
    "        let! _ = iter () |> Async.StartChild\n",
    "        do! Async.Sleep 250\n",
    "        return! write tempDirectory\n",
    "    }\n",
    "\n",
    "    try\n",
    "        run\n",
    "        |> Async.runWithTimeout 60000\n",
    "        |> _equal (Some ())\n",
    "    finally\n",
    "        disposable.Dispose ()\n",
    "        deleteDirectoryAsync tempDirectory |> Async.Ignore |> Async.RunSynchronously\n",
    "\n",
    "    let eventsLog =\n",
    "        events\n",
    "        |> Seq.toList\n",
    "        |> List.sortBy fst\n",
    "        |> List.fold\n",
    "            (fun (prev, acc) (ticks, event) ->\n",
    "                ticks, (ticks, (if prev = 0L then 0L else ticks - prev), event) :: acc\n",
    "            )\n",
    "            (0L, [])\n",
    "        |> snd\n",
    "        |> List.rev\n",
    "        |> List.map (fun (diff, n, event) ->\n",
    "            let text = $\"{n} / {diff} / {event}\"\n",
    "            if text |> String.length <= 100\n",
    "            then text\n",
    "            else text |> String.substring 0 100 |> String.replace \"\\n\" \"\"\n",
    "        )\n",
    "        |> String.concat \"\\n\"\n",
    "    let getLocals () = $\"eventsLog: \\n{eventsLog} / {getLocals ()}\"\n",
    "    trace Debug (fun () -> \"testEventsRaw\") getLocals\n",
    "\n",
    "    events\n",
    "    |> Seq.toList\n",
    "    |> List.sortBy fst\n",
    "    |> List.map snd\n",
    "    |> List.fold\n",
    "        (fun acc event ->\n",
    "            match acc, event with\n",
    "            | FileSystemChange.Changed (lastPath, Some lastContent) as lastEvent :: acc,\n",
    "                FileSystemChange.Changed (path, Some content)\n",
    "                when lastPath = path && content |> String.startsWith lastContent\n",
    "                ->\n",
    "                event :: acc\n",
    "            | _ -> event :: acc\n",
    "        )\n",
    "        []\n",
    "    |> List.rev"
   ]
  },
  {
   "cell_type": "markdown",
   "metadata": {},
   "source": [
    "#### fast (test)"
   ]
  },
  {
   "cell_type": "code",
   "execution_count": null,
   "metadata": {
    "dotnet_interactive": {
     "language": "fsharp"
    },
    "polyglot_notebook": {
     "kernelName": "fsharp"
    }
   },
   "outputs": [
    {
     "name": "stdout",
     "output_type": "stream",
     "text": [
      "FSharpOption<Unit>\n",
      "      Value: <null>\n",
      "00:00:13 #47 [Debug] watchWithFilter / Disposing watch stream / filter: FileName, LastWrite\n",
      "00:00:13 #48 [Debug] testEventsRaw / eventsLog: \n",
      "0 / 638437897527994624 / Created (\"file1.txt\", Some \"a1\")\n",
      "11922 / 638437897528006546 / Changed (\"file1.txt\", Some \"a1\")\n",
      "1153 / 638437897528007699 / Created (\"file2.txt\", Some \"a2\")\n",
      "62 / 638437897528007761 / Changed (\"file2.txt\", Some \"a2\")\n",
      "2484941 / 638437897530492702 / Changed (\"file1.txt\", Some \"b1\")\n",
      "748 / 638437897530493450 / Changed (\"file1.txt\", Some \"b1\")\n",
      "4686 / 638437897530498136 / Changed (\"file2.txt\", Some \"b2\")\n",
      "138 / 638437897530498274 / Changed (\"file2.txt\", Some \"b2\")\n",
      "2509381 / 638437897533007655 / Renamed (\"file1.txt\", (\"file_1.txt\", Some \"b1\"))\n",
      "1236 / 638437897533008891 / Renamed (\"file2.txt\", (\"file_2.txt\", Some \"b2\"))\n",
      "2502687 / 638437897535511578 / Changed (\"file_1.txt\", Some \"c1\")\n",
      "1026 / 638437897535512604 / Changed (\"file_1.txt\", Some \"c1\")\n",
      "4113 / 638437897535516717 / Changed (\"file_2.txt\", Some \"c2\")\n",
      "268 / 638437897535516985 / Changed (\"file_2.txt\", Some \"c2\")\n",
      "2548123 / 638437897538065108 / Deleted \"file_1.txt\"\n",
      "82959 / 638437897538148067 / Deleted \"file_2.txt\"\n",
      "FSharpList<FileSystemChange>\n",
      "      - path: file1.txt\n",
      "        content: FSharpOption<String>\n",
      "          Value: a1\n",
      "        IsFailure: False\n",
      "        IsChanged: False\n",
      "        IsCreated: True\n",
      "        IsDeleted: False\n",
      "        IsRenamed: False\n",
      "      - path: file1.txt\n",
      "        content: FSharpOption<String>\n",
      "          Value: a1\n",
      "        IsFailure: False\n",
      "        IsChanged: True\n",
      "        IsCreated: False\n",
      "        IsDeleted: False\n",
      "        IsRenamed: False\n",
      "      - path: file2.txt\n",
      "        content: FSharpOption<String>\n",
      "          Value: a2\n",
      "        IsFailure: False\n",
      "        IsChanged: False\n",
      "        IsCreated: True\n",
      "        IsDeleted: False\n",
      "        IsRenamed: False\n",
      "      - path: file2.txt\n",
      "        content: FSharpOption<String>\n",
      "          Value: a2\n",
      "        IsFailure: False\n",
      "        IsChanged: True\n",
      "        IsCreated: False\n",
      "        IsDeleted: False\n",
      "        IsRenamed: False\n",
      "      - path: file1.txt\n",
      "        content: FSharpOption<String>\n",
      "          Value: b1\n",
      "        IsFailure: False\n",
      "        IsChanged: True\n",
      "        IsCreated: False\n",
      "        IsDeleted: False\n",
      "        IsRenamed: False\n",
      "      - path: file2.txt\n",
      "        content: FSharpOption<String>\n",
      "          Value: b2\n",
      "        IsFailure: False\n",
      "        IsChanged: True\n",
      "        IsCreated: False\n",
      "        IsDeleted: False\n",
      "        IsRenamed: False\n",
      "      - oldPath: file1.txt\n",
      "        Item2:         - file_1.txt\n",
      "        - FSharpOption<String>\n",
      "            Value: b1\n",
      "      - IsFailure: False\n",
      "        IsChanged: False\n",
      "        IsCreated: False\n",
      "        IsDeleted: False\n",
      "        IsRenamed: True\n",
      "      - oldPath: file2.txt\n",
      "        Item2:         - file_2.txt\n",
      "        - FSharpOption<String>\n",
      "            Value: b2\n",
      "      - IsFailure: False\n",
      "        IsChanged: False\n",
      "        IsCreated: False\n",
      "        IsDeleted: False\n",
      "        IsRenamed: True\n",
      "      - path: file_1.txt\n",
      "        content: FSharpOption<String>\n",
      "          Value: c1\n",
      "        IsFailure: False\n",
      "        IsChanged: True\n",
      "        IsCreated: False\n",
      "        IsDeleted: False\n",
      "        IsRenamed: False\n",
      "      - path: file_2.txt\n",
      "        content: FSharpOption<String>\n",
      "          Value: c2\n",
      "        IsFailure: False\n",
      "        IsChanged: True\n",
      "        IsCreated: False\n",
      "        IsDeleted: False\n",
      "        IsRenamed: False\n",
      "      - path: file_1.txt\n",
      "        IsFailure: False\n",
      "        IsChanged: False\n",
      "        IsCreated: False\n",
      "        IsDeleted: True\n",
      "        IsRenamed: False\n",
      "      - path: file_2.txt\n",
      "        IsFailure: False\n",
      "        IsChanged: False\n",
      "        IsCreated: False\n",
      "        IsDeleted: True\n",
      "        IsRenamed: False\n",
      "FSharpOption<Unit>\n",
      "      Value: <null>\n"
     ]
    }
   ],
   "source": [
    "//// test\n",
    "\n",
    "let inline write path = async {\n",
    "    let n = 2\n",
    "\n",
    "    for i = 1 to n do\n",
    "        do! $\"a{i}\" |> writeAllTextAsync (path </> $\"file{i}.txt\")\n",
    "\n",
    "    do! Async.Sleep 250\n",
    "\n",
    "    for i = 1 to n do\n",
    "        do! $\"b{i}\" |> writeAllTextAsync (path </> $\"file{i}.txt\")\n",
    "\n",
    "    do! Async.Sleep 250\n",
    "\n",
    "    for i = 1 to n do\n",
    "        do! path </> $\"file{i}.txt\" |> moveFileAsync (path </> $\"file_{i}.txt\") |> Async.Ignore\n",
    "\n",
    "    do! Async.Sleep 250\n",
    "\n",
    "    for i = 1 to n do\n",
    "        do! $\"c{i}\" |> writeAllTextAsync (path </> $\"file_{i}.txt\")\n",
    "\n",
    "    do! Async.Sleep 250\n",
    "\n",
    "    for i = 1 to n do\n",
    "        do! deleteFileAsync (path </> $\"file_{i}.txt\") |> Async.Ignore\n",
    "\n",
    "    do! Async.Sleep 250\n",
    "}\n",
    "\n",
    "let inline run () =\n",
    "    let events = testEventsRaw watchDirectory write\n",
    "\n",
    "    events\n",
    "    |> _sequenceEqual [\n",
    "        FileSystemChange.Created (\"file1.txt\", Some \"a1\")\n",
    "        FileSystemChange.Changed (\"file1.txt\", Some \"a1\")\n",
    "        FileSystemChange.Created (\"file2.txt\", Some \"a2\")\n",
    "        FileSystemChange.Changed (\"file2.txt\", Some \"a2\")\n",
    "\n",
    "        FileSystemChange.Changed (\"file1.txt\", Some \"b1\")\n",
    "        FileSystemChange.Changed (\"file2.txt\", Some \"b2\")\n",
    "\n",
    "        FileSystemChange.Renamed (\"file1.txt\", (\"file_1.txt\", Some \"b1\"))\n",
    "        FileSystemChange.Renamed (\"file2.txt\", (\"file_2.txt\", Some \"b2\"))\n",
    "\n",
    "        FileSystemChange.Changed (\"file_1.txt\", Some \"c1\")\n",
    "        FileSystemChange.Changed (\"file_2.txt\", Some \"c2\")\n",
    "\n",
    "        FileSystemChange.Deleted \"file_1.txt\"\n",
    "        FileSystemChange.Deleted \"file_2.txt\"\n",
    "    ]\n",
    "\n",
    "run\n",
    "|> retryFn 3\n",
    "|> _equal (Some ())"
   ]
  },
  {
   "cell_type": "markdown",
   "metadata": {},
   "source": [
    "#### slow (test)"
   ]
  },
  {
   "cell_type": "code",
   "execution_count": null,
   "metadata": {
    "dotnet_interactive": {
     "language": "fsharp"
    },
    "polyglot_notebook": {
     "kernelName": "fsharp"
    }
   },
   "outputs": [
    {
     "name": "stdout",
     "output_type": "stream",
     "text": [
      "FSharpOption<Unit>\n",
      "      Value: <null>\n",
      "00:00:23 #49 [Debug] watchWithFilter / Disposing watch stream / filter: FileName, LastWrite\n",
      "00:00:25 #50 [Debug] testEventsRaw / eventsLog: \n",
      "0 / 638437897567909097 / Created  (\"file1.txt\",   Some     \"1111111111111111111111111111111111111\n",
      "2691 / 638437897567911788 / Changed  (\"file1.txt\",   Some     \"1111111111111111111111111111111111\n",
      "200 / 638437897567911988 / Changed  (\"file1.txt\",   Some     \"11111111111111111111111111111111111\n",
      "360 / 638437897567912348 / Changed  (\"file1.txt\",   Some     \"11111111111111111111111111111111111\n",
      "43 / 638437897567912391 / Changed  (\"file1.txt\",   Some     \"111111111111111111111111111111111111\n",
      "223 / 638437897567912614 / Changed  (\"file1.txt\",   Some     \"11111111111111111111111111111111111\n",
      "241 / 638437897567912855 / Changed  (\"file1.txt\",   Some     \"11111111111111111111111111111111111\n",
      "208 / 638437897567913063 / Changed  (\"file1.txt\",   Some     \"11111111111111111111111111111111111\n",
      "213 / 638437897567913276 / Changed  (\"file1.txt\",   Some     \"11111111111111111111111111111111111\n",
      "165 / 638437897567913441 / Changed  (\"file1.txt\",   Some     \"11111111111111111111111111111111111\n",
      "173 / 638437897567913614 / Changed  (\"file1.txt\",   Some     \"11111111111111111111111111111111111\n",
      "158 / 638437897567913772 / Changed  (\"file1.txt\",   Some     \"11111111111111111111111111111111111\n",
      "734 / 638437897567914506 / Changed  (\"file1.txt\",   Some     \"11111111111111111111111111111111111\n",
      "220 / 638437897567914726 / Changed  (\"file1.txt\",   Some     \"11111111111111111111111111111111111\n",
      "480 / 638437897567915206 / Changed  (\"file1.txt\",   Some     \"11111111111111111111111111111111111\n",
      "335 / 638437897567915541 / Changed  (\"file1.txt\",   Some     \"11111111111111111111111111111111111\n",
      "211 / 638437897567915752 / Changed  (\"file1.txt\",   Some     \"11111111111111111111111111111111111\n",
      "278 / 638437897567916030 / Changed  (\"file1.txt\",   Some     \"11111111111111111111111111111111111\n",
      "347 / 638437897567916377 / Changed  (\"file1.txt\",   Some     \"11111111111111111111111111111111111\n",
      "40 / 638437897567916417 / Changed  (\"file1.txt\",   Some     \"111111111111111111111111111111111111\n",
      "298 / 638437897567916715 / Changed  (\"file1.txt\",   Some     \"11111111111111111111111111111111111\n",
      "195 / 638437897567916910 / Changed  (\"file1.txt\",   Some     \"11111111111111111111111111111111111\n",
      "276 / 638437897567917186 / Changed  (\"file1.txt\",   Some     \"11111111111111111111111111111111111\n",
      "160 / 638437897567917346 / Changed  (\"file1.txt\",   Some     \"11111111111111111111111111111111111\n",
      "174 / 638437897567917520 / Changed  (\"file1.txt\",   Some     \"11111111111111111111111111111111111\n",
      "270 / 638437897567917790 / Changed  (\"file1.txt\",   Some     \"11111111111111111111111111111111111\n",
      "193 / 638437897567917983 / Changed  (\"file1.txt\",   Some     \"11111111111111111111111111111111111\n",
      "291 / 638437897567918274 / Changed  (\"file1.txt\",   Some     \"11111111111111111111111111111111111\n",
      "193 / 638437897567918467 / Changed  (\"file1.txt\",   Some     \"11111111111111111111111111111111111\n",
      "172 / 638437897567918639 / Changed  (\"file1.txt\",   Some     \"11111111111111111111111111111111111\n",
      "190 / 638437897567918829 / Changed  (\"file1.txt\",   Some     \"11111111111111111111111111111111111\n",
      "323 / 638437897567919152 / Changed  (\"file1.txt\",   Some     \"11111111111111111111111111111111111\n",
      "154 / 638437897567919306 / Changed  (\"file1.txt\",   Some     \"11111111111111111111111111111111111\n",
      "211 / 638437897567919517 / Changed  (\"file1.txt\",   Some     \"11111111111111111111111111111111111\n",
      "231 / 638437897567919748 / Changed  (\"file1.txt\",   Some     \"11111111111111111111111111111111111\n",
      "48 / 638437897567919796 / Changed  (\"file1.txt\",   Some     \"111111111111111111111111111111111111\n",
      "328 / 638437897567920124 / Changed  (\"file1.txt\",   Some     \"11111111111111111111111111111111111\n",
      "48 / 638437897567920172 / Changed  (\"file1.txt\",   Some     \"111111111111111111111111111111111111\n",
      "288 / 638437897567920460 / Changed  (\"file1.txt\",   Some     \"11111111111111111111111111111111111\n",
      "65 / 638437897567920525 / Changed  (\"file1.txt\",   Some     \"111111111111111111111111111111111111\n",
      "308 / 638437897567920833 / Changed  (\"file1.txt\",   Some     \"11111111111111111111111111111111111\n",
      "50 / 638437897567920883 / Changed  (\"file1.txt\",   Some     \"111111111111111111111111111111111111\n",
      "340 / 638437897567921223 / Changed  (\"file1.txt\",   Some     \"11111111111111111111111111111111111\n",
      "51 / 638437897567921274 / Changed  (\"file1.txt\",   Some     \"111111111111111111111111111111111111\n",
      "279 / 638437897567921553 / Changed  (\"file1.txt\",   Some     \"11111111111111111111111111111111111\n",
      "269 / 638437897567921822 / Changed  (\"file1.txt\",   Some     \"11111111111111111111111111111111111\n",
      "302 / 638437897567922124 / Changed  (\"file1.txt\",   Some     \"11111111111111111111111111111111111\n",
      "249 / 638437897567922373 / Changed  (\"file1.txt\",   Some     \"11111111111111111111111111111111111\n",
      "49 / 638437897567922422 / Changed  (\"file1.txt\",   Some     \"111111111111111111111111111111111111\n",
      "269 / 638437897567922691 / Changed  (\"file1.txt\",   Some     \"11111111111111111111111111111111111\n",
      "45 / 638437897567922736 / Changed  (\"file1.txt\",   Some     \"111111111111111111111111111111111111\n",
      "322 / 638437897567923058 / Changed  (\"file1.txt\",   Some     \"11111111111111111111111111111111111\n",
      "57 / 638437897567923115 / Changed  (\"file1.txt\",   Some     \"111111111111111111111111111111111111\n",
      "310 / 638437897567923425 / Changed  (\"file1.txt\",   Some     \"11111111111111111111111111111111111\n",
      "26 / 638437897567923451 / Changed  (\"file1.txt\",   Some     \"111111111111111111111111111111111111\n",
      "209 / 638437897567923660 / Changed  (\"file1.txt\",   Some     \"11111111111111111111111111111111111\n",
      "46 / 638437897567923706 / Changed  (\"file1.txt\",   Some     \"111111111111111111111111111111111111\n",
      "201 / 638437897567923907 / Changed  (\"file1.txt\",   Some     \"11111111111111111111111111111111111\n",
      "295 / 638437897567924202 / Changed  (\"file1.txt\",   Some     \"11111111111111111111111111111111111\n",
      "286 / 638437897567924488 / Changed  (\"file1.txt\",   Some     \"11111111111111111111111111111111111\n",
      "51 / 638437897567924539 / Changed  (\"file1.txt\",   Some     \"111111111111111111111111111111111111\n",
      "1269 / 638437897567925808 / Changed  (\"file1.txt\",   Some     \"1111111111111111111111111111111111\n",
      "80 / 638437897567925888 / Changed  (\"file1.txt\",   Some     \"111111111111111111111111111111111111\n",
      "152 / 638437897567926040 / Changed  (\"file1.txt\",   Some     \"11111111111111111111111111111111111\n",
      "415 / 638437897567926455 / Changed  (\"file1.txt\",   Some     \"11111111111111111111111111111111111\n",
      "1113 / 638437897567927568 / Changed  (\"file1.txt\",   Some     \"1111111111111111111111111111111111\n",
      "204 / 638437897567927772 / Changed  (\"file1.txt\",   Some     \"11111111111111111111111111111111111\n",
      "229 / 638437897567928001 / Changed  (\"file1.txt\",   Some     \"11111111111111111111111111111111111\n",
      "414 / 638437897567928415 / Changed  (\"file1.txt\",   Some     \"11111111111111111111111111111111111\n",
      "152 / 638437897567928567 / Changed  (\"file1.txt\",   Some     \"11111111111111111111111111111111111\n",
      "203 / 638437897567928770 / Changed  (\"file1.txt\",   Some     \"11111111111111111111111111111111111\n",
      "236 / 638437897567929006 / Changed  (\"file1.txt\",   Some     \"11111111111111111111111111111111111\n",
      "264 / 638437897567929270 / Changed  (\"file1.txt\",   Some     \"11111111111111111111111111111111111\n",
      "308 / 638437897567929578 / Changed  (\"file1.txt\",   Some     \"11111111111111111111111111111111111\n",
      "113 / 638437897567929691 / Changed  (\"file1.txt\",   Some     \"11111111111111111111111111111111111\n",
      "282 / 638437897567929973 / Changed  (\"file1.txt\",   Some     \"11111111111111111111111111111111111\n",
      "49 / 638437897567930022 / Changed  (\"file1.txt\",   Some     \"111111111111111111111111111111111111\n",
      "184 / 638437897567930206 / Changed  (\"file1.txt\",   Some     \"11111111111111111111111111111111111\n",
      "60 / 638437897567930266 / Changed  (\"file1.txt\",   Some     \"111111111111111111111111111111111111\n",
      "101 / 638437897567930367 / Changed  (\"file1.txt\",   Some     \"11111111111111111111111111111111111\n",
      "181 / 638437897567930548 / Changed  (\"file1.txt\",   Some     \"11111111111111111111111111111111111\n",
      "189 / 638437897567930737 / Changed  (\"file1.txt\",   Some     \"11111111111111111111111111111111111\n",
      "23 / 638437897567930760 / Changed  (\"file1.txt\",   Some     \"111111111111111111111111111111111111\n",
      "35 / 638437897567930795 / Changed  (\"file1.txt\",   Some     \"111111111111111111111111111111111111\n",
      "49720 / 638437897567980515 / Created  (\"file2.txt\",   Some     \"222222222222222222222222222222222\n",
      "166 / 638437897567980681 / Changed  (\"file2.txt\",   Some     \"22222222222222222222222222222222222\n",
      "232 / 638437897567980913 / Changed  (\"file2.txt\",   Some     \"22222222222222222222222222222222222\n",
      "640 / 638437897567981553 / Changed  (\"file2.txt\",   Some     \"22222222222222222222222222222222222\n",
      "112 / 638437897567981665 / Changed  (\"file2.txt\",   Some     \"22222222222222222222222222222222222\n",
      "302 / 638437897567981967 / Changed  (\"file2.txt\",   Some     \"22222222222222222222222222222222222\n",
      "39 / 638437897567982006 / Changed  (\"file2.txt\",   Some     \"222222222222222222222222222222222222\n",
      "177 / 638437897567982183 / Changed  (\"file2.txt\",   Some     \"22222222222222222222222222222222222\n",
      "188 / 638437897567982371 / Changed  (\"file2.txt\",   Some     \"22222222222222222222222222222222222\n",
      "183 / 638437897567982554 / Changed  (\"file2.txt\",   Some     \"22222222222222222222222222222222222\n",
      "163 / 638437897567982717 / Changed  (\"file2.txt\",   Some     \"22222222222222222222222222222222222\n",
      "153 / 638437897567982870 / Changed  (\"file2.txt\",   Some     \"22222222222222222222222222222222222\n",
      "153 / 638437897567983023 / Changed  (\"file2.txt\",   Some     \"22222222222222222222222222222222222\n",
      "199 / 638437897567983222 / Changed  (\"file2.txt\",   Some     \"22222222222222222222222222222222222\n",
      "182 / 638437897567983404 / Changed  (\"file2.txt\",   Some     \"22222222222222222222222222222222222\n",
      "170 / 638437897567983574 / Changed  (\"file2.txt\",   Some     \"22222222222222222222222222222222222\n",
      "176 / 638437897567983750 / Changed  (\"file2.txt\",   Some     \"22222222222222222222222222222222222\n",
      "190 / 638437897567983940 / Changed  (\"file2.txt\",   Some     \"22222222222222222222222222222222222\n",
      "168 / 638437897567984108 / Changed  (\"file2.txt\",   Some     \"22222222222222222222222222222222222\n",
      "138 / 638437897567984246 / Changed  (\"file2.txt\",   Some     \"22222222222222222222222222222222222\n",
      "187 / 638437897567984433 / Changed  (\"file2.txt\",   Some     \"22222222222222222222222222222222222\n",
      "179 / 638437897567984612 / Changed  (\"file2.txt\",   Some     \"22222222222222222222222222222222222\n",
      "189 / 638437897567984801 / Changed  (\"file2.txt\",   Some     \"22222222222222222222222222222222222\n",
      "155 / 638437897567984956 / Changed  (\"file2.txt\",   Some     \"22222222222222222222222222222222222\n",
      "174 / 638437897567985130 / Changed  (\"file2.txt\",   Some     \"22222222222222222222222222222222222\n",
      "942 / 638437897567986072 / Changed  (\"file2.txt\",   Some     \"22222222222222222222222222222222222\n",
      "160 / 638437897567986232 / Changed  (\"file2.txt\",   Some     \"22222222222222222222222222222222222\n",
      "150 / 638437897567986382 / Changed  (\"file2.txt\",   Some     \"22222222222222222222222222222222222\n",
      "216 / 638437897567986598 / Changed  (\"file2.txt\",   Some     \"22222222222222222222222222222222222\n",
      "256 / 638437897567986854 / Changed  (\"file2.txt\",   Some     \"22222222222222222222222222222222222\n",
      "177 / 638437897567987031 / Changed  (\"file2.txt\",   Some     \"22222222222222222222222222222222222\n",
      "168 / 638437897567987199 / Changed  (\"file2.txt\",   Some     \"22222222222222222222222222222222222\n",
      "158 / 638437897567987357 / Changed  (\"file2.txt\",   Some     \"22222222222222222222222222222222222\n",
      "209 / 638437897567987566 / Changed  (\"file2.txt\",   Some     \"22222222222222222222222222222222222\n",
      "645 / 638437897567988211 / Changed  (\"file2.txt\",   Some     \"22222222222222222222222222222222222\n",
      "128 / 638437897567988339 / Changed  (\"file2.txt\",   Some     \"22222222222222222222222222222222222\n",
      "682 / 638437897567989021 / Changed  (\"file2.txt\",   Some     \"22222222222222222222222222222222222\n",
      "132 / 638437897567989153 / Changed  (\"file2.txt\",   Some     \"22222222222222222222222222222222222\n",
      "182 / 638437897567989335 / Changed  (\"file2.txt\",   Some     \"22222222222222222222222222222222222\n",
      "158 / 638437897567989493 / Changed  (\"file2.txt\",   Some     \"22222222222222222222222222222222222\n",
      "166 / 638437897567989659 / Changed  (\"file2.txt\",   Some     \"22222222222222222222222222222222222\n",
      "279 / 638437897567989938 / Changed  (\"file2.txt\",   Some     \"22222222222222222222222222222222222\n",
      "191 / 638437897567990129 / Changed  (\"file2.txt\",   Some     \"22222222222222222222222222222222222\n",
      "178 / 638437897567990307 / Changed  (\"file2.txt\",   Some     \"22222222222222222222222222222222222\n",
      "153 / 638437897567990460 / Changed  (\"file2.txt\",   Some     \"22222222222222222222222222222222222\n",
      "145 / 638437897567990605 / Changed  (\"file2.txt\",   Some     \"22222222222222222222222222222222222\n",
      "171 / 638437897567990776 / Changed  (\"file2.txt\",   Some     \"22222222222222222222222222222222222\n",
      "638 / 638437897567991414 / Changed  (\"file2.txt\",   Some     \"22222222222222222222222222222222222\n",
      "112 / 638437897567991526 / Changed  (\"file2.txt\",   Some     \"22222222222222222222222222222222222\n",
      "183 / 638437897567991709 / Changed  (\"file2.txt\",   Some     \"22222222222222222222222222222222222\n",
      "170 / 638437897567991879 / Changed  (\"file2.txt\",   Some     \"22222222222222222222222222222222222\n",
      "155 / 638437897567992034 / Changed  (\"file2.txt\",   Some     \"22222222222222222222222222222222222\n",
      "676 / 638437897567992710 / Changed  (\"file2.txt\",   Some     \"22222222222222222222222222222222222\n",
      "62 / 638437897567992772 / Changed  (\"file2.txt\",   Some     \"222222222222222222222222222222222222\n",
      "132 / 638437897567992904 / Changed  (\"file2.txt\",   Some     \"22222222222222222222222222222222222\n",
      "144 / 638437897567993048 / Changed  (\"file2.txt\",   Some     \"22222222222222222222222222222222222\n",
      "186 / 638437897567993234 / Changed  (\"file2.txt\",   Some     \"22222222222222222222222222222222222\n",
      "174 / 638437897567993408 / Changed  (\"file2.txt\",   Some     \"22222222222222222222222222222222222\n",
      "184 / 638437897567993592 / Changed  (\"file2.txt\",   Some     \"22222222222222222222222222222222222\n",
      "178 / 638437897567993770 / Changed  (\"file2.txt\",   Some     \"22222222222222222222222222222222222\n",
      "251 / 638437897567994021 / Changed  (\"file2.txt\",   Some     \"22222222222222222222222222222222222\n",
      "247 / 638437897567994268 / Changed  (\"file2.txt\",   Some     \"22222222222222222222222222222222222\n",
      "250 / 638437897567994518 / Changed  (\"file2.txt\",   Some     \"22222222222222222222222222222222222\n",
      "199 / 638437897567994717 / Changed  (\"file2.txt\",   Some     \"22222222222222222222222222222222222\n",
      "228 / 638437897567994945 / Changed  (\"file2.txt\",   Some     \"22222222222222222222222222222222222\n",
      "195 / 638437897567995140 / Changed  (\"file2.txt\",   Some     \"22222222222222222222222222222222222\n",
      "231 / 638437897567995371 / Changed  (\"file2.txt\",   Some     \"22222222222222222222222222222222222\n",
      "188 / 638437897567995559 / Changed  (\"file2.txt\",   Some     \"22222222222222222222222222222222222\n",
      "678 / 638437897567996237 / Changed  (\"file2.txt\",   Some     \"22222222222222222222222222222222222\n",
      "51 / 638437897567996288 / Changed  (\"file2.txt\",   Some     \"222222222222222222222222222222222222\n",
      "158 / 638437897567996446 / Changed  (\"file2.txt\",   Some     \"22222222222222222222222222222222222\n",
      "656 / 638437897567997102 / Changed  (\"file2.txt\",   Some     \"22222222222222222222222222222222222\n",
      "30 / 638437897567997132 / Changed  (\"file2.txt\",   Some     \"222222222222222222222222222222222222\n",
      "127 / 638437897567997259 / Changed  (\"file2.txt\",   Some     \"22222222222222222222222222222222222\n",
      "161 / 638437897567997420 / Changed  (\"file2.txt\",   Some     \"22222222222222222222222222222222222\n",
      "158 / 638437897567997578 / Changed  (\"file2.txt\",   Some     \"22222222222222222222222222222222222\n",
      "180 / 638437897567997758 / Changed  (\"file2.txt\",   Some     \"22222222222222222222222222222222222\n",
      "232 / 638437897567997990 / Changed  (\"file2.txt\",   Some     \"22222222222222222222222222222222222\n",
      "191 / 638437897567998181 / Changed  (\"file2.txt\",   Some     \"22222222222222222222222222222222222\n",
      "155 / 638437897567998336 / Changed  (\"file2.txt\",   Some     \"22222222222222222222222222222222222\n",
      "249 / 638437897567998585 / Changed  (\"file2.txt\",   Some     \"22222222222222222222222222222222222\n",
      "474 / 638437897567999059 / Changed  (\"file2.txt\",   Some     \"22222222222222222222222222222222222\n",
      "168 / 638437897567999227 / Changed  (\"file2.txt\",   Some     \"22222222222222222222222222222222222\n",
      "448 / 638437897567999675 / Changed  (\"file2.txt\",   Some     \"22222222222222222222222222222222222\n",
      "153 / 638437897567999828 / Changed  (\"file2.txt\",   Some     \"22222222222222222222222222222222222\n",
      "812 / 638437897568000640 / Changed  (\"file2.txt\",   Some     \"22222222222222222222222222222222222\n",
      "36 / 638437897568000676 / Changed  (\"file2.txt\",   Some     \"222222222222222222222222222222222222\n",
      "129 / 638437897568000805 / Changed  (\"file2.txt\",   Some     \"22222222222222222222222222222222222\n",
      "640 / 638437897568001445 / Changed  (\"file2.txt\",   Some     \"22222222222222222222222222222222222\n",
      "156 / 638437897568001601 / Changed  (\"file2.txt\",   Some     \"22222222222222222222222222222222222\n",
      "193 / 638437897568001794 / Changed  (\"file2.txt\",   Some     \"22222222222222222222222222222222222\n",
      "169 / 638437897568001963 / Changed  (\"file2.txt\",   Some     \"22222222222222222222222222222222222\n",
      "159 / 638437897568002122 / Changed  (\"file2.txt\",   Some     \"22222222222222222222222222222222222\n",
      "156 / 638437897568002278 / Changed  (\"file2.txt\",   Some     \"22222222222222222222222222222222222\n",
      "269 / 638437897568002547 / Changed  (\"file2.txt\",   Some     \"22222222222222222222222222222222222\n",
      "151 / 638437897568002698 / Changed  (\"file2.txt\",   Some     \"22222222222222222222222222222222222\n",
      "217 / 638437897568002915 / Changed  (\"file2.txt\",   Some     \"22222222222222222222222222222222222\n",
      "227 / 638437897568003142 / Changed  (\"file2.txt\",   Some     \"22222222222222222222222222222222222\n",
      "156 / 638437897568003298 / Changed  (\"file2.txt\",   Some     \"22222222222222222222222222222222222\n",
      "153 / 638437897568003451 / Changed  (\"file2.txt\",   Some     \"22222222222222222222222222222222222\n",
      "126 / 638437897568003577 / Changed  (\"file2.txt\",   Some     \"22222222222222222222222222222222222\n",
      "15046538 / 638437897583050115 / Changed  (\"file1.txt\",   Some     \"111111111111111111111111111111\n",
      "598 / 638437897583050713 / Changed  (\"file1.txt\",   Some     \"11111111111111111111111111111111111\n",
      "1557 / 638437897583052270 / Changed  (\"file1.txt\",   Some     \"1111111111111111111111111111111111\n",
      "465 / 638437897583052735 / Changed  (\"file1.txt\",   Some     \"11111111111111111111111111111111111\n",
      "286 / 638437897583053021 / Changed  (\"file1.txt\",   Some     \"11111111111111111111111111111111111\n",
      "47 / 638437897583053068 / Changed  (\"file1.txt\",   Some     \"111111111111111111111111111111111111\n",
      "300 / 638437897583053368 / Changed  (\"file1.txt\",   Some     \"11111111111111111111111111111111111\n",
      "41 / 638437897583053409 / Changed  (\"file1.txt\",   Some     \"111111111111111111111111111111111111\n",
      "266 / 638437897583053675 / Changed  (\"file1.txt\",   Some     \"11111111111111111111111111111111111\n",
      "461 / 638437897583054136 / Changed  (\"file1.txt\",   Some     \"11111111111111111111111111111111111\n",
      "27 / 638437897583054163 / Changed  (\"file1.txt\",   Some     \"111111111111111111111111111111111111\n",
      "192 / 638437897583054355 / Changed  (\"file1.txt\",   Some     \"11111111111111111111111111111111111\n",
      "40 / 638437897583054395 / Changed  (\"file1.txt\",   Some     \"111111111111111111111111111111111111\n",
      "184 / 638437897583054579 / Changed  (\"file1.txt\",   Some     \"11111111111111111111111111111111111\n",
      "60 / 638437897583054639 / Changed  (\"file1.txt\",   Some     \"111111111111111111111111111111111111\n",
      "310 / 638437897583054949 / Changed  (\"file1.txt\",   Some     \"11111111111111111111111111111111111\n",
      "229 / 638437897583055178 / Changed  (\"file1.txt\",   Some     \"11111111111111111111111111111111111\n",
      "48 / 638437897583055226 / Changed  (\"file1.txt\",   Some     \"111111111111111111111111111111111111\n",
      "184 / 638437897583055410 / Changed  (\"file1.txt\",   Some     \"11111111111111111111111111111111111\n",
      "235 / 638437897583055645 / Changed  (\"file1.txt\",   Some     \"11111111111111111111111111111111111\n",
      "45 / 638437897583055690 / Changed  (\"file1.txt\",   Some     \"111111111111111111111111111111111111\n",
      "221 / 638437897583055911 / Changed  (\"file1.txt\",   Some     \"11111111111111111111111111111111111\n",
      "404 / 638437897583056315 / Changed  (\"file1.txt\",   Some     \"11111111111111111111111111111111111\n",
      "74 / 638437897583056389 / Changed  (\"file1.txt\",   Some     \"111111111111111111111111111111111111\n",
      "154 / 638437897583056543 / Changed  (\"file1.txt\",   Some     \"11111111111111111111111111111111111\n",
      "195 / 638437897583056738 / Changed  (\"file1.txt\",   Some     \"11111111111111111111111111111111111\n",
      "187 / 638437897583056925 / Changed  (\"file1.txt\",   Some     \"11111111111111111111111111111111111\n",
      "261 / 638437897583057186 / Changed  (\"file1.txt\",   Some     \"11111111111111111111111111111111111\n",
      "67 / 638437897583057253 / Changed  (\"file1.txt\",   Some     \"111111111111111111111111111111111111\n",
      "413 / 638437897583057666 / Changed  (\"file1.txt\",   Some     \"11111111111111111111111111111111111\n",
      "197 / 638437897583057863 / Changed  (\"file1.txt\",   Some     \"11111111111111111111111111111111111\n",
      "145 / 638437897583058008 / Changed  (\"file1.txt\",   Some     \"11111111111111111111111111111111111\n",
      "180 / 638437897583058188 / Changed  (\"file1.txt\",   Some     \"11111111111111111111111111111111111\n",
      "223 / 638437897583058411 / Changed  (\"file1.txt\",   Some     \"11111111111111111111111111111111111\n",
      "51 / 638437897583058462 / Changed  (\"file1.txt\",   Some     \"111111111111111111111111111111111111\n",
      "175 / 638437897583058637 / Changed  (\"file1.txt\",   Some     \"11111111111111111111111111111111111\n",
      "158 / 638437897583058795 / Changed  (\"file1.txt\",   Some     \"11111111111111111111111111111111111\n",
      "223 / 638437897583059018 / Changed  (\"file1.txt\",   Some     \"11111111111111111111111111111111111\n",
      "46 / 638437897583059064 / Changed  (\"file1.txt\",   Some     \"111111111111111111111111111111111111\n",
      "330 / 638437897583059394 / Changed  (\"file1.txt\",   Some     \"11111111111111111111111111111111111\n",
      "249 / 638437897583059643 / Changed  (\"file1.txt\",   Some     \"11111111111111111111111111111111111\n",
      "65 / 638437897583059708 / Changed  (\"file1.txt\",   Some     \"111111111111111111111111111111111111\n",
      "111 / 638437897583059819 / Changed  (\"file1.txt\",   Some     \"11111111111111111111111111111111111\n",
      "416 / 638437897583060235 / Changed  (\"file1.txt\",   Some     \"11111111111111111111111111111111111\n",
      "192 / 638437897583060427 / Changed  (\"file1.txt\",   Some     \"11111111111111111111111111111111111\n",
      "321 / 638437897583060748 / Changed  (\"file1.txt\",   Some     \"11111111111111111111111111111111111\n",
      "52 / 638437897583060800 / Changed  (\"file1.txt\",   Some     \"111111111111111111111111111111111111\n",
      "364 / 638437897583061164 / Changed  (\"file1.txt\",   Some     \"11111111111111111111111111111111111\n",
      "52 / 638437897583061216 / Changed  (\"file1.txt\",   Some     \"111111111111111111111111111111111111\n",
      "317 / 638437897583061533 / Changed  (\"file1.txt\",   Some     \"11111111111111111111111111111111111\n",
      "30 / 638437897583061563 / Changed  (\"file1.txt\",   Some     \"111111111111111111111111111111111111\n",
      "185 / 638437897583061748 / Changed  (\"file1.txt\",   Some     \"11111111111111111111111111111111111\n",
      "118 / 638437897583061866 / Changed  (\"file1.txt\",   Some     \"11111111111111111111111111111111111\n",
      "186 / 638437897583062052 / Changed  (\"file1.txt\",   Some     \"11111111111111111111111111111111111\n",
      "46 / 638437897583062098 / Changed  (\"file1.txt\",   Some     \"111111111111111111111111111111111111\n",
      "185 / 638437897583062283 / Changed  (\"file1.txt\",   Some     \"11111111111111111111111111111111111\n",
      "44 / 638437897583062327 / Changed  (\"file1.txt\",   Some     \"111111111111111111111111111111111111\n",
      "167 / 638437897583062494 / Changed  (\"file1.txt\",   Some     \"11111111111111111111111111111111111\n",
      "188 / 638437897583062682 / Changed  (\"file1.txt\",   Some     \"11111111111111111111111111111111111\n",
      "46 / 638437897583062728 / Changed  (\"file1.txt\",   Some     \"111111111111111111111111111111111111\n",
      "284 / 638437897583063012 / Changed  (\"file1.txt\",   Some     \"11111111111111111111111111111111111\n",
      "56 / 638437897583063068 / Changed  (\"file1.txt\",   Some     \"111111111111111111111111111111111111\n",
      "232 / 638437897583063300 / Changed  (\"file1.txt\",   Some     \"11111111111111111111111111111111111\n",
      "22 / 638437897583063322 / Changed  (\"file1.txt\",   Some     \"111111111111111111111111111111111111\n",
      "231 / 638437897583063553 / Changed  (\"file1.txt\",   Some     \"11111111111111111111111111111111111\n",
      "178 / 638437897583063731 / Changed  (\"file1.txt\",   Some     \"11111111111111111111111111111111111\n",
      "147 / 638437897583063878 / Changed  (\"file1.txt\",   Some     \"11111111111111111111111111111111111\n",
      "187 / 638437897583064065 / Changed  (\"file1.txt\",   Some     \"11111111111111111111111111111111111\n",
      "43 / 638437897583064108 / Changed  (\"file1.txt\",   Some     \"111111111111111111111111111111111111\n",
      "243 / 638437897583064351 / Changed  (\"file1.txt\",   Some     \"11111111111111111111111111111111111\n",
      "131 / 638437897583064482 / Changed  (\"file1.txt\",   Some     \"11111111111111111111111111111111111\n",
      "181 / 638437897583064663 / Changed  (\"file1.txt\",   Some     \"11111111111111111111111111111111111\n",
      "145 / 638437897583064808 / Changed  (\"file1.txt\",   Some     \"11111111111111111111111111111111111\n",
      "150 / 638437897583064958 / Changed  (\"file1.txt\",   Some     \"11111111111111111111111111111111111\n",
      "96 / 638437897583065054 / Changed  (\"file1.txt\",   Some     \"111111111111111111111111111111111111\n",
      "237 / 638437897583065291 / Changed  (\"file1.txt\",   Some     \"11111111111111111111111111111111111\n",
      "134 / 638437897583065425 / Changed  (\"file1.txt\",   Some     \"11111111111111111111111111111111111\n",
      "144 / 638437897583065569 / Changed  (\"file1.txt\",   Some     \"11111111111111111111111111111111111\n",
      "93 / 638437897583065662 / Changed  (\"file1.txt\",   Some     \"111111111111111111111111111111111111\n",
      "268 / 638437897583065930 / Changed  (\"file1.txt\",   Some     \"11111111111111111111111111111111111\n",
      "260 / 638437897583066190 / Changed  (\"file1.txt\",   Some     \"11111111111111111111111111111111111\n",
      "152 / 638437897583066342 / Changed  (\"file1.txt\",   Some     \"11111111111111111111111111111111111\n",
      "251 / 638437897583066593 / Changed  (\"file1.txt\",   Some     \"11111111111111111111111111111111111\n",
      "163 / 638437897583066756 / Changed  (\"file1.txt\",   Some     \"11111111111111111111111111111111111\n",
      "100 / 638437897583066856 / Changed  (\"file1.txt\",   Some     \"11111111111111111111111111111111111\n",
      "232 / 638437897583067088 / Changed  (\"file1.txt\",   Some     \"11111111111111111111111111111111111\n",
      "130 / 638437897583067218 / Changed  (\"file1.txt\",   Some     \"11111111111111111111111111111111111\n",
      "213 / 638437897583067431 / Changed  (\"file1.txt\",   Some     \"11111111111111111111111111111111111\n",
      "98 / 638437897583067529 / Changed  (\"file1.txt\",   Some     \"111111111111111111111111111111111111\n",
      "216 / 638437897583067745 / Changed  (\"file1.txt\",   Some     \"11111111111111111111111111111111111\n",
      "189 / 638437897583067934 / Changed  (\"file1.txt\",   Some     \"11111111111111111111111111111111111\n",
      "153 / 638437897583068087 / Changed  (\"file1.txt\",   Some     \"11111111111111111111111111111111111\n",
      "121 / 638437897583068208 / Changed  (\"file1.txt\",   Some     \"11111111111111111111111111111111111\n",
      "184 / 638437897583068392 / Changed  (\"file1.txt\",   Some     \"11111111111111111111111111111111111\n",
      "121 / 638437897583068513 / Changed  (\"file1.txt\",   Some     \"11111111111111111111111111111111111\n",
      "223 / 638437897583068736 / Changed  (\"file1.txt\",   Some     \"11111111111111111111111111111111111\n",
      "46 / 638437897583068782 / Changed  (\"file1.txt\",   Some     \"111111111111111111111111111111111111\n",
      "225 / 638437897583069007 / Changed  (\"file1.txt\",   Some     \"11111111111111111111111111111111111\n",
      "167 / 638437897583069174 / Changed  (\"file1.txt\",   Some     \"11111111111111111111111111111111111\n",
      "224 / 638437897583069398 / Changed  (\"file1.txt\",   Some     \"11111111111111111111111111111111111\n",
      "43 / 638437897583069441 / Changed  (\"file1.txt\",   Some     \"111111111111111111111111111111111111\n",
      "218 / 638437897583069659 / Changed  (\"file1.txt\",   Some     \"11111111111111111111111111111111111\n",
      "93 / 638437897583069752 / Changed  (\"file1.txt\",   Some     \"111111111111111111111111111111111111\n",
      "266 / 638437897583070018 / Changed  (\"file1.txt\",   Some     \"11111111111111111111111111111111111\n",
      "255 / 638437897583070273 / Changed  (\"file1.txt\",   Some     \"11111111111111111111111111111111111\n",
      "240 / 638437897583070513 / Changed  (\"file1.txt\",   Some     \"11111111111111111111111111111111111\n",
      "194 / 638437897583070707 / Changed  (\"file1.txt\",   Some     \"11111111111111111111111111111111111\n",
      "40 / 638437897583070747 / Changed  (\"file1.txt\",   Some     \"111111111111111111111111111111111111\n",
      "250 / 638437897583070997 / Changed  (\"file1.txt\",   Some     \"11111111111111111111111111111111111\n",
      "167 / 638437897583071164 / Changed  (\"file1.txt\",   Some     \"11111111111111111111111111111111111\n",
      "142 / 638437897583071306 / Changed  (\"file1.txt\",   Some     \"11111111111111111111111111111111111\n",
      "187 / 638437897583071493 / Changed  (\"file1.txt\",   Some     \"11111111111111111111111111111111111\n",
      "96 / 638437897583071589 / Changed  (\"file1.txt\",   Some     \"111111111111111111111111111111111111\n",
      "246 / 638437897583071835 / Changed  (\"file1.txt\",   Some     \"11111111111111111111111111111111111\n",
      "259 / 638437897583072094 / Changed  (\"file1.txt\",   Some     \"11111111111111111111111111111111111\n",
      "247 / 638437897583072341 / Changed  (\"file1.txt\",   Some     \"11111111111111111111111111111111111\n",
      "97 / 638437897583072438 / Changed  (\"file1.txt\",   Some     \"111111111111111111111111111111111111\n",
      "48399 / 638437897583120837 / Changed  (\"file2.txt\",   Some     \"222222222222222222222222222222222\n",
      "130 / 638437897583120967 / Changed  (\"file2.txt\",   Some     \"22222222222222222222222222222222222\n",
      "468 / 638437897583121435 / Changed  (\"file2.txt\",   Some     \"22222222222222222222222222222222222\n",
      "218 / 638437897583121653 / Changed  (\"file2.txt\",   Some     \"22222222222222222222222222222222222\n",
      "228 / 638437897583121881 / Changed  (\"file2.txt\",   Some     \"22222222222222222222222222222222222\n",
      "213 / 638437897583122094 / Changed  (\"file2.txt\",   Some     \"22222222222222222222222222222222222\n",
      "252 / 638437897583122346 / Changed  (\"file2.txt\",   Some     \"22222222222222222222222222222222222\n",
      "207 / 638437897583122553 / Changed  (\"file2.txt\",   Some     \"22222222222222222222222222222222222\n",
      "43 / 638437897583122596 / Changed  (\"file2.txt\",   Some     \"222222222222222222222222222222222222\n",
      "224 / 638437897583122820 / Changed  (\"file2.txt\",   Some     \"22222222222222222222222222222222222\n",
      "162 / 638437897583122982 / Changed  (\"file2.txt\",   Some     \"22222222222222222222222222222222222\n",
      "99 / 638437897583123081 / Changed  (\"file2.txt\",   Some     \"222222222222222222222222222222222222\n",
      "221 / 638437897583123302 / Changed  (\"file2.txt\",   Some     \"22222222222222222222222222222222222\n",
      "181 / 638437897583123483 / Changed  (\"file2.txt\",   Some     \"22222222222222222222222222222222222\n",
      "314 / 638437897583123797 / Changed  (\"file2.txt\",   Some     \"22222222222222222222222222222222222\n",
      "169 / 638437897583123966 / Changed  (\"file2.txt\",   Some     \"22222222222222222222222222222222222\n",
      "91 / 638437897583124057 / Changed  (\"file2.txt\",   Some     \"222222222222222222222222222222222222\n",
      "215 / 638437897583124272 / Changed  (\"file2.txt\",   Some     \"22222222222222222222222222222222222\n",
      "266 / 638437897583124538 / Changed  (\"file2.txt\",   Some     \"22222222222222222222222222222222222\n",
      "251 / 638437897583124789 / Changed  (\"file2.txt\",   Some     \"22222222222222222222222222222222222\n",
      "166 / 638437897583124955 / Changed  (\"file2.txt\",   Some     \"22222222222222222222222222222222222\n",
      "172 / 638437897583125127 / Changed  (\"file2.txt\",   Some     \"22222222222222222222222222222222222\n",
      "143 / 638437897583125270 / Changed  (\"file2.txt\",   Some     \"22222222222222222222222222222222222\n",
      "209 / 638437897583125479 / Changed  (\"file2.txt\",   Some     \"22222222222222222222222222222222222\n",
      "236 / 638437897583125715 / Changed  (\"file2.txt\",   Some     \"22222222222222222222222222222222222\n",
      "220 / 638437897583125935 / Changed  (\"file2.txt\",   Some     \"22222222222222222222222222222222222\n",
      "209 / 638437897583126144 / Changed  (\"file2.txt\",   Some     \"22222222222222222222222222222222222\n",
      "99 / 638437897583126243 / Changed  (\"file2.txt\",   Some     \"222222222222222222222222222222222222\n",
      "208 / 638437897583126451 / Changed  (\"file2.txt\",   Some     \"22222222222222222222222222222222222\n",
      "173 / 638437897583126624 / Changed  (\"file2.txt\",   Some     \"22222222222222222222222222222222222\n",
      "172 / 638437897583126796 / Changed  (\"file2.txt\",   Some     \"22222222222222222222222222222222222\n",
      "227 / 638437897583127023 / Changed  (\"file2.txt\",   Some     \"22222222222222222222222222222222222\n",
      "268 / 638437897583127291 / Changed  (\"file2.txt\",   Some     \"22222222222222222222222222222222222\n",
      "173 / 638437897583127464 / Changed  (\"file2.txt\",   Some     \"22222222222222222222222222222222222\n",
      "189 / 638437897583127653 / Changed  (\"file2.txt\",   Some     \"22222222222222222222222222222222222\n",
      "49 / 638437897583127702 / Changed  (\"file2.txt\",   Some     \"222222222222222222222222222222222222\n",
      "264 / 638437897583127966 / Changed  (\"file2.txt\",   Some     \"22222222222222222222222222222222222\n",
      "190 / 638437897583128156 / Changed  (\"file2.txt\",   Some     \"22222222222222222222222222222222222\n",
      "155 / 638437897583128311 / Changed  (\"file2.txt\",   Some     \"22222222222222222222222222222222222\n",
      "144 / 638437897583128455 / Changed  (\"file2.txt\",   Some     \"22222222222222222222222222222222222\n",
      "181 / 638437897583128636 / Changed  (\"file2.txt\",   Some     \"22222222222222222222222222222222222\n",
      "326 / 638437897583128962 / Changed  (\"file2.txt\",   Some     \"22222222222222222222222222222222222\n",
      "253 / 638437897583129215 / Changed  (\"file2.txt\",   Some     \"22222222222222222222222222222222222\n",
      "203 / 638437897583129418 / Changed  (\"file2.txt\",   Some     \"22222222222222222222222222222222222\n",
      "41 / 638437897583129459 / Changed  (\"file2.txt\",   Some     \"222222222222222222222222222222222222\n",
      "214 / 638437897583129673 / Changed  (\"file2.txt\",   Some     \"22222222222222222222222222222222222\n",
      "166 / 638437897583129839 / Changed  (\"file2.txt\",   Some     \"22222222222222222222222222222222222\n",
      "207 / 638437897583130046 / Changed  (\"file2.txt\",   Some     \"22222222222222222222222222222222222\n",
      "113 / 638437897583130159 / Changed  (\"file2.txt\",   Some     \"22222222222222222222222222222222222\n",
      "193 / 638437897583130352 / Changed  (\"file2.txt\",   Some     \"22222222222222222222222222222222222\n",
      "137 / 638437897583130489 / Changed  (\"file2.txt\",   Some     \"22222222222222222222222222222222222\n",
      "180 / 638437897583130669 / Changed  (\"file2.txt\",   Some     \"22222222222222222222222222222222222\n",
      "183 / 638437897583130852 / Changed  (\"file2.txt\",   Some     \"22222222222222222222222222222222222\n",
      "101 / 638437897583130953 / Changed  (\"file2.txt\",   Some     \"22222222222222222222222222222222222\n",
      "193 / 638437897583131146 / Changed  (\"file2.txt\",   Some     \"22222222222222222222222222222222222\n",
      "165 / 638437897583131311 / Changed  (\"file2.txt\",   Some     \"22222222222222222222222222222222222\n",
      "202 / 638437897583131513 / Changed  (\"file2.txt\",   Some     \"22222222222222222222222222222222222\n",
      "95 / 638437897583131608 / Changed  (\"file2.txt\",   Some     \"222222222222222222222222222222222222\n",
      "227 / 638437897583131835 / Changed  (\"file2.txt\",   Some     \"22222222222222222222222222222222222\n",
      "38 / 638437897583131873 / Changed  (\"file2.txt\",   Some     \"222222222222222222222222222222222222\n",
      "209 / 638437897583132082 / Changed  (\"file2.txt\",   Some     \"22222222222222222222222222222222222\n",
      "183 / 638437897583132265 / Changed  (\"file2.txt\",   Some     \"22222222222222222222222222222222222\n",
      "332 / 638437897583132597 / Changed  (\"file2.txt\",   Some     \"22222222222222222222222222222222222\n",
      "266 / 638437897583132863 / Changed  (\"file2.txt\",   Some     \"22222222222222222222222222222222222\n",
      "39 / 638437897583132902 / Changed  (\"file2.txt\",   Some     \"222222222222222222222222222222222222\n",
      "229 / 638437897583133131 / Changed  (\"file2.txt\",   Some     \"22222222222222222222222222222222222\n",
      "269 / 638437897583133400 / Changed  (\"file2.txt\",   Some     \"22222222222222222222222222222222222\n",
      "241 / 638437897583133641 / Changed  (\"file2.txt\",   Some     \"22222222222222222222222222222222222\n",
      "220 / 638437897583133861 / Changed  (\"file2.txt\",   Some     \"22222222222222222222222222222222222\n",
      "215 / 638437897583134076 / Changed  (\"file2.txt\",   Some     \"22222222222222222222222222222222222\n",
      "41 / 638437897583134117 / Changed  (\"file2.txt\",   Some     \"222222222222222222222222222222222222\n",
      "238 / 638437897583134355 / Changed  (\"file2.txt\",   Some     \"22222222222222222222222222222222222\n",
      "157 / 638437897583134512 / Changed  (\"file2.txt\",   Some     \"22222222222222222222222222222222222\n",
      "208 / 638437897583134720 / Changed  (\"file2.txt\",   Some     \"22222222222222222222222222222222222\n",
      "221 / 638437897583134941 / Changed  (\"file2.txt\",   Some     \"22222222222222222222222222222222222\n",
      "42 / 638437897583134983 / Changed  (\"file2.txt\",   Some     \"222222222222222222222222222222222222\n",
      "254 / 638437897583135237 / Changed  (\"file2.txt\",   Some     \"22222222222222222222222222222222222\n",
      "180 / 638437897583135417 / Changed  (\"file2.txt\",   Some     \"22222222222222222222222222222222222\n",
      "265 / 638437897583135682 / Changed  (\"file2.txt\",   Some     \"22222222222222222222222222222222222\n",
      "177 / 638437897583135859 / Changed  (\"file2.txt\",   Some     \"22222222222222222222222222222222222\n",
      "40 / 638437897583135899 / Changed  (\"file2.txt\",   Some     \"222222222222222222222222222222222222\n",
      "231 / 638437897583136130 / Changed  (\"file2.txt\",   Some     \"22222222222222222222222222222222222\n",
      "152 / 638437897583136282 / Changed  (\"file2.txt\",   Some     \"22222222222222222222222222222222222\n",
      "254 / 638437897583136536 / Changed  (\"file2.txt\",   Some     \"22222222222222222222222222222222222\n",
      "250 / 638437897583136786 / Changed  (\"file2.txt\",   Some     \"22222222222222222222222222222222222\n",
      "120 / 638437897583136906 / Changed  (\"file2.txt\",   Some     \"22222222222222222222222222222222222\n",
      "181 / 638437897583137087 / Changed  (\"file2.txt\",   Some     \"22222222222222222222222222222222222\n",
      "100 / 638437897583137187 / Changed  (\"file2.txt\",   Some     \"22222222222222222222222222222222222\n",
      "232 / 638437897583137419 / Changed  (\"file2.txt\",   Some     \"22222222222222222222222222222222222\n",
      "187 / 638437897583137606 / Changed  (\"file2.txt\",   Some     \"22222222222222222222222222222222222\n",
      "115 / 638437897583137721 / Changed  (\"file2.txt\",   Some     \"22222222222222222222222222222222222\n",
      "202 / 638437897583137923 / Changed  (\"file2.txt\",   Some     \"22222222222222222222222222222222222\n",
      "152 / 638437897583138075 / Changed  (\"file2.txt\",   Some     \"22222222222222222222222222222222222\n",
      "180 / 638437897583138255 / Changed  (\"file2.txt\",   Some     \"22222222222222222222222222222222222\n",
      "195 / 638437897583138450 / Changed  (\"file2.txt\",   Some     \"22222222222222222222222222222222222\n",
      "45 / 638437897583138495 / Changed  (\"file2.txt\",   Some     \"222222222222222222222222222222222222\n",
      "254 / 638437897583138749 / Changed  (\"file2.txt\",   Some     \"22222222222222222222222222222222222\n",
      "155 / 638437897583138904 / Changed  (\"file2.txt\",   Some     \"22222222222222222222222222222222222\n",
      "185 / 638437897583139089 / Changed  (\"file2.txt\",   Some     \"22222222222222222222222222222222222\n",
      "173 / 638437897583139262 / Changed  (\"file2.txt\",   Some     \"22222222222222222222222222222222222\n",
      "150 / 638437897583139412 / Changed  (\"file2.txt\",   Some     \"22222222222222222222222222222222222\n",
      "33 / 638437897583139445 / Changed  (\"file2.txt\",   Some     \"222222222222222222222222222222222222\n",
      "175 / 638437897583139620 / Changed  (\"file2.txt\",   Some     \"22222222222222222222222222222222222\n",
      "257 / 638437897583139877 / Changed  (\"file2.txt\",   Some     \"22222222222222222222222222222222222\n",
      "205 / 638437897583140082 / Changed  (\"file2.txt\",   Some     \"22222222222222222222222222222222222\n",
      "37 / 638437897583140119 / Changed  (\"file2.txt\",   Some     \"222222222222222222222222222222222222\n",
      "266 / 638437897583140385 / Changed  (\"file2.txt\",   Some     \"22222222222222222222222222222222222\n",
      "44 / 638437897583140429 / Changed  (\"file2.txt\",   Some     \"222222222222222222222222222222222222\n",
      "248 / 638437897583140677 / Changed  (\"file2.txt\",   Some     \"22222222222222222222222222222222222\n",
      "183 / 638437897583140860 / Changed  (\"file2.txt\",   Some     \"22222222222222222222222222222222222\n",
      "166 / 638437897583141026 / Changed  (\"file2.txt\",   Some     \"22222222222222222222222222222222222\n",
      "227 / 638437897583141253 / Changed  (\"file2.txt\",   Some     \"22222222222222222222222222222222222\n",
      "106 / 638437897583141359 / Changed  (\"file2.txt\",   Some     \"22222222222222222222222222222222222\n",
      "223 / 638437897583141582 / Changed  (\"file2.txt\",   Some     \"22222222222222222222222222222222222\n",
      "171 / 638437897583141753 / Changed  (\"file2.txt\",   Some     \"22222222222222222222222222222222222\n",
      "101 / 638437897583141854 / Changed  (\"file2.txt\",   Some     \"22222222222222222222222222222222222\n",
      "222 / 638437897583142076 / Changed  (\"file2.txt\",   Some     \"22222222222222222222222222222222222\n",
      "134 / 638437897583142210 / Changed  (\"file2.txt\",   Some     \"22222222222222222222222222222222222\n",
      "211 / 638437897583142421 / Changed  (\"file2.txt\",   Some     \"22222222222222222222222222222222222\n",
      "116 / 638437897583142537 / Changed  (\"file2.txt\",   Some     \"22222222222222222222222222222222222\n",
      "207 / 638437897583142744 / Changed  (\"file2.txt\",   Some     \"22222222222222222222222222222222222\n",
      "119 / 638437897583142863 / Changed  (\"file2.txt\",   Some     \"22222222222222222222222222222222222\n",
      "218 / 638437897583143081 / Changed  (\"file2.txt\",   Some     \"22222222222222222222222222222222222\n",
      "115 / 638437897583143196 / Changed  (\"file2.txt\",   Some     \"22222222222222222222222222222222222\n",
      "109 / 638437897583143305 / Changed  (\"file2.txt\",   Some     \"22222222222222222222222222222222222\n",
      "15031217 / 638437897598174522 / Renamed  (\"file1.txt\",   (\"file_1.txt\",    Some      \"1111111111\n",
      "295 / 638437897598174817 / Renamed  (\"file2.txt\",   (\"file_2.txt\",    Some      \"222222222222222\n",
      "15062997 / 638437897613237814 / Changed  (\"file_1.txt\",   Some     \"11111111111111111111111111111\n",
      "1409 / 638437897613239223 / Changed  (\"file_1.txt\",   Some     \"111111111111111111111111111111111\n",
      "335 / 638437897613239558 / Changed  (\"file_1.txt\",   Some     \"1111111111111111111111111111111111\n",
      "43 / 638437897613239601 / Changed  (\"file_1.txt\",   Some     \"11111111111111111111111111111111111\n",
      "1339 / 638437897613240940 / Changed  (\"file_1.txt\",   Some     \"111111111111111111111111111111111\n",
      "162 / 638437897613241102 / Changed  (\"file_1.txt\",   Some     \"1111111111111111111111111111111111\n",
      "179 / 638437897613241281 / Changed  (\"file_1.txt\",   Some     \"1111111111111111111111111111111111\n",
      "634 / 638437897613241915 / Changed  (\"file_1.txt\",   Some     \"1111111111111111111111111111111111\n",
      "76 / 638437897613241991 / Changed  (\"file_1.txt\",   Some     \"11111111111111111111111111111111111\n",
      "3925 / 638437897613245916 / Changed  (\"file_1.txt\",   Some     \"111111111111111111111111111111111\n",
      "137 / 638437897613246053 / Changed  (\"file_1.txt\",   Some     \"1111111111111111111111111111111111\n",
      "381 / 638437897613246434 / Changed  (\"file_1.txt\",   Some     \"1111111111111111111111111111111111\n",
      "51 / 638437897613246485 / Changed  (\"file_1.txt\",   Some     \"11111111111111111111111111111111111\n",
      "339 / 638437897613246824 / Changed  (\"file_1.txt\",   Some     \"1111111111111111111111111111111111\n",
      "47 / 638437897613246871 / Changed  (\"file_1.txt\",   Some     \"11111111111111111111111111111111111\n",
      "367 / 638437897613247238 / Changed  (\"file_1.txt\",   Some     \"1111111111111111111111111111111111\n",
      "47 / 638437897613247285 / Changed  (\"file_1.txt\",   Some     \"11111111111111111111111111111111111\n",
      "307 / 638437897613247592 / Changed  (\"file_1.txt\",   Some     \"1111111111111111111111111111111111\n",
      "157 / 638437897613247749 / Changed  (\"file_1.txt\",   Some     \"1111111111111111111111111111111111\n",
      "206 / 638437897613247955 / Changed  (\"file_1.txt\",   Some     \"1111111111111111111111111111111111\n",
      "36 / 638437897613247991 / Changed  (\"file_1.txt\",   Some     \"11111111111111111111111111111111111\n",
      "308 / 638437897613248299 / Changed  (\"file_1.txt\",   Some     \"1111111111111111111111111111111111\n",
      "232 / 638437897613248531 / Changed  (\"file_1.txt\",   Some     \"1111111111111111111111111111111111\n",
      "53 / 638437897613248584 / Changed  (\"file_1.txt\",   Some     \"11111111111111111111111111111111111\n",
      "199 / 638437897613248783 / Changed  (\"file_1.txt\",   Some     \"1111111111111111111111111111111111\n",
      "164 / 638437897613248947 / Changed  (\"file_1.txt\",   Some     \"1111111111111111111111111111111111\n",
      "149 / 638437897613249096 / Changed  (\"file_1.txt\",   Some     \"1111111111111111111111111111111111\n",
      "140 / 638437897613249236 / Changed  (\"file_1.txt\",   Some     \"1111111111111111111111111111111111\n",
      "151 / 638437897613249387 / Changed  (\"file_1.txt\",   Some     \"1111111111111111111111111111111111\n",
      "241 / 638437897613249628 / Changed  (\"file_1.txt\",   Some     \"1111111111111111111111111111111111\n",
      "44 / 638437897613249672 / Changed  (\"file_1.txt\",   Some     \"11111111111111111111111111111111111\n",
      "155 / 638437897613249827 / Changed  (\"file_1.txt\",   Some     \"1111111111111111111111111111111111\n",
      "139 / 638437897613249966 / Changed  (\"file_1.txt\",   Some     \"1111111111111111111111111111111111\n",
      "232 / 638437897613250198 / Changed  (\"file_1.txt\",   Some     \"1111111111111111111111111111111111\n",
      "128 / 638437897613250326 / Changed  (\"file_1.txt\",   Some     \"1111111111111111111111111111111111\n",
      "238 / 638437897613250564 / Changed  (\"file_1.txt\",   Some     \"1111111111111111111111111111111111\n",
      "45 / 638437897613250609 / Changed  (\"file_1.txt\",   Some     \"11111111111111111111111111111111111\n",
      "181 / 638437897613250790 / Changed  (\"file_1.txt\",   Some     \"1111111111111111111111111111111111\n",
      "206 / 638437897613250996 / Changed  (\"file_1.txt\",   Some     \"1111111111111111111111111111111111\n",
      "29 / 638437897613251025 / Changed  (\"file_1.txt\",   Some     \"11111111111111111111111111111111111\n",
      "303 / 638437897613251328 / Changed  (\"file_1.txt\",   Some     \"1111111111111111111111111111111111\n",
      "38 / 638437897613251366 / Changed  (\"file_1.txt\",   Some     \"11111111111111111111111111111111111\n",
      "467 / 638437897613251833 / Changed  (\"file_1.txt\",   Some     \"1111111111111111111111111111111111\n",
      "58 / 638437897613251891 / Changed  (\"file_1.txt\",   Some     \"11111111111111111111111111111111111\n",
      "216 / 638437897613252107 / Changed  (\"file_1.txt\",   Some     \"1111111111111111111111111111111111\n",
      "506 / 638437897613252613 / Changed  (\"file_1.txt\",   Some     \"1111111111111111111111111111111111\n",
      "63 / 638437897613252676 / Changed  (\"file_1.txt\",   Some     \"11111111111111111111111111111111111\n",
      "265 / 638437897613252941 / Changed  (\"file_1.txt\",   Some     \"1111111111111111111111111111111111\n",
      "148 / 638437897613253089 / Changed  (\"file_1.txt\",   Some     \"1111111111111111111111111111111111\n",
      "174 / 638437897613253263 / Changed  (\"file_1.txt\",   Some     \"1111111111111111111111111111111111\n",
      "608 / 638437897613253871 / Changed  (\"file_1.txt\",   Some     \"1111111111111111111111111111111111\n",
      "164 / 638437897613254035 / Changed  (\"file_1.txt\",   Some     \"1111111111111111111111111111111111\n",
      "457 / 638437897613254492 / Changed  (\"file_1.txt\",   Some     \"1111111111111111111111111111111111\n",
      "115 / 638437897613254607 / Changed  (\"file_1.txt\",   Some     \"1111111111111111111111111111111111\n",
      "143 / 638437897613254750 / Changed  (\"file_1.txt\",   Some     \"1111111111111111111111111111111111\n",
      "152 / 638437897613254902 / Changed  (\"file_1.txt\",   Some     \"1111111111111111111111111111111111\n",
      "165 / 638437897613255067 / Changed  (\"file_1.txt\",   Some     \"1111111111111111111111111111111111\n",
      "168 / 638437897613255235 / Changed  (\"file_1.txt\",   Some     \"1111111111111111111111111111111111\n",
      "154 / 638437897613255389 / Changed  (\"file_1.txt\",   Some     \"1111111111111111111111111111111111\n",
      "171 / 638437897613255560 / Changed  (\"file_1.txt\",   Some     \"1111111111111111111111111111111111\n",
      "183 / 638437897613255743 / Changed  (\"file_1.txt\",   Some     \"1111111111111111111111111111111111\n",
      "165 / 638437897613255908 / Changed  (\"file_1.txt\",   Some     \"1111111111111111111111111111111111\n",
      "161 / 638437897613256069 / Changed  (\"file_1.txt\",   Some     \"1111111111111111111111111111111111\n",
      "141 / 638437897613256210 / Changed  (\"file_1.txt\",   Some     \"1111111111111111111111111111111111\n",
      "173 / 638437897613256383 / Changed  (\"file_1.txt\",   Some     \"1111111111111111111111111111111111\n",
      "162 / 638437897613256545 / Changed  (\"file_1.txt\",   Some     \"1111111111111111111111111111111111\n",
      "146 / 638437897613256691 / Changed  (\"file_1.txt\",   Some     \"1111111111111111111111111111111111\n",
      "182 / 638437897613256873 / Changed  (\"file_1.txt\",   Some     \"1111111111111111111111111111111111\n",
      "569 / 638437897613257442 / Changed  (\"file_1.txt\",   Some     \"1111111111111111111111111111111111\n",
      "149 / 638437897613257591 / Changed  (\"file_1.txt\",   Some     \"1111111111111111111111111111111111\n",
      "131 / 638437897613257722 / Changed  (\"file_1.txt\",   Some     \"1111111111111111111111111111111111\n",
      "185 / 638437897613257907 / Changed  (\"file_1.txt\",   Some     \"1111111111111111111111111111111111\n",
      "544 / 638437897613258451 / Changed  (\"file_1.txt\",   Some     \"1111111111111111111111111111111111\n",
      "155 / 638437897613258606 / Changed  (\"file_1.txt\",   Some     \"1111111111111111111111111111111111\n",
      "179 / 638437897613258785 / Changed  (\"file_1.txt\",   Some     \"1111111111111111111111111111111111\n",
      "163 / 638437897613258948 / Changed  (\"file_1.txt\",   Some     \"1111111111111111111111111111111111\n",
      "134 / 638437897613259082 / Changed  (\"file_1.txt\",   Some     \"1111111111111111111111111111111111\n",
      "170 / 638437897613259252 / Changed  (\"file_1.txt\",   Some     \"1111111111111111111111111111111111\n",
      "165 / 638437897613259417 / Changed  (\"file_1.txt\",   Some     \"1111111111111111111111111111111111\n",
      "178 / 638437897613259595 / Changed  (\"file_1.txt\",   Some     \"1111111111111111111111111111111111\n",
      "150 / 638437897613259745 / Changed  (\"file_1.txt\",   Some     \"1111111111111111111111111111111111\n",
      "111 / 638437897613259856 / Changed  (\"file_1.txt\",   Some     \"1111111111111111111111111111111111\n",
      "32027 / 638437897613291883 / Changed  (\"file_2.txt\",   Some     \"22222222222222222222222222222222\n",
      "107 / 638437897613291990 / Changed  (\"file_2.txt\",   Some     \"2222222222222222222222222222222222\n",
      "673 / 638437897613292663 / Changed  (\"file_2.txt\",   Some     \"2222222222222222222222222222222222\n",
      "210 / 638437897613292873 / Changed  (\"file_2.txt\",   Some     \"2222222222222222222222222222222222\n",
      "202 / 638437897613293075 / Changed  (\"file_2.txt\",   Some     \"2222222222222222222222222222222222\n",
      "439 / 638437897613293514 / Changed  (\"file_2.txt\",   Some     \"2222222222222222222222222222222222\n",
      "160 / 638437897613293674 / Changed  (\"file_2.txt\",   Some     \"2222222222222222222222222222222222\n",
      "131 / 638437897613293805 / Changed  (\"file_2.txt\",   Some     \"2222222222222222222222222222222222\n",
      "148 / 638437897613293953 / Changed  (\"file_2.txt\",   Some     \"2222222222222222222222222222222222\n",
      "379 / 638437897613294332 / Changed  (\"file_2.txt\",   Some     \"2222222222222222222222222222222222\n",
      "41156 / 638437897613335488 / Changed  (\"file_2.txt\",   Some     \"22222222222222222222222222222222\n",
      "14951257 / 638437897628286745 / Deleted \"file_1.txt\"\n",
      "2747 / 638437897628289492 / Deleted \"file_2.txt\"\n",
      "FSharpList<FileSystemChange>\n",
      "      - path: file1.txt\n",
      "        content: FSharpOption<String>\n",
      "          Value: 1a\n",
      "        IsFailure: False\n",
      "        IsChanged: False\n",
      "        IsCreated: True\n",
      "        IsDeleted: False\n",
      "        IsRenamed: False\n",
      "      - path: file1.txt\n",
      "        content: FSharpOption<String>\n",
      "          Value: 1a\n",
      "        IsFailure: False\n",
      "        IsChanged: True\n",
      "        IsCreated: False\n",
      "        IsDeleted: False\n",
      "        IsRenamed: False\n",
      "      - path: file2.txt\n",
      "        content: FSharpOption<String>\n",
      "          Value: 2a\n",
      "        IsFailure: False\n",
      "        IsChanged: False\n",
      "        IsCreated: True\n",
      "        IsDeleted: False\n",
      "        IsRenamed: False\n",
      "      - path: file2.txt\n",
      "        content: FSharpOption<String>\n",
      "          Value: 2a\n",
      "        IsFailure: False\n",
      "        IsChanged: True\n",
      "        IsCreated: False\n",
      "        IsDeleted: False\n",
      "        IsRenamed: False\n",
      "      - path: file1.txt\n",
      "        content: FSharpOption<String>\n",
      "          Value: 1b\n",
      "        IsFailure: False\n",
      "        IsChanged: True\n",
      "        IsCreated: False\n",
      "        IsDeleted: False\n",
      "        IsRenamed: False\n",
      "      - path: file2.txt\n",
      "        content: FSharpOption<String>\n",
      "          Value: 2b\n",
      "        IsFailure: False\n",
      "        IsChanged: True\n",
      "        IsCreated: False\n",
      "        IsDeleted: False\n",
      "        IsRenamed: False\n",
      "      - oldPath: file1.txt\n",
      "        Item2:         - file_1.txt\n",
      "        - FSharpOption<String>\n",
      "            Value: 1b\n",
      "      - IsFailure: False\n",
      "        IsChanged: False\n",
      "        IsCreated: False\n",
      "        IsDeleted: False\n",
      "        IsRenamed: True\n",
      "      - oldPath: file2.txt\n",
      "        Item2:         - file_2.txt\n",
      "        - FSharpOption<String>\n",
      "            Value: 2b\n",
      "      - IsFailure: False\n",
      "        IsChanged: False\n",
      "        IsCreated: False\n",
      "        IsDeleted: False\n",
      "        IsRenamed: True\n",
      "      - path: file_1.txt\n",
      "        content: FSharpOption<String>\n",
      "          Value: 1c\n",
      "        IsFailure: False\n",
      "        IsChanged: True\n",
      "        IsCreated: False\n",
      "        IsDeleted: False\n",
      "        IsRenamed: False\n",
      "      - path: file_2.txt\n",
      "        content: FSharpOption<String>\n",
      "          Value: 2c\n",
      "        IsFailure: False\n",
      "        IsChanged: True\n",
      "        IsCreated: False\n",
      "        IsDeleted: False\n",
      "        IsRenamed: False\n",
      "      - path: file_1.txt\n",
      "        IsFailure: False\n",
      "        IsChanged: False\n",
      "        IsCreated: False\n",
      "        IsDeleted: True\n",
      "        IsRenamed: False\n",
      "      - path: file_2.txt\n",
      "        IsFailure: False\n",
      "        IsChanged: False\n",
      "        IsCreated: False\n",
      "        IsDeleted: True\n",
      "        IsRenamed: False\n",
      "FSharpOption<Unit>\n",
      "      Value: <null>\n"
     ]
    }
   ],
   "source": [
    "//// test\n",
    "\n",
    "let inline write path = async {\n",
    "    let n = 2\n",
    "\n",
    "    let contents =\n",
    "        [ 1 .. n ]\n",
    "        |> List.map (string >> String.replicate 1_000_000)\n",
    "\n",
    "    for i = 1 to n do\n",
    "        do! $\"{contents.[i - 1]}a\" |> writeAllTextAsync (path </> $\"file{i}.txt\")\n",
    "\n",
    "    do! Async.Sleep 1500\n",
    "\n",
    "    for i = 1 to n do\n",
    "        do! $\"{contents.[i - 1]}b\" |> writeAllTextAsync (path </> $\"file{i}.txt\")\n",
    "\n",
    "    do! Async.Sleep 1500\n",
    "\n",
    "    for i = 1 to n do\n",
    "        do! path </> $\"file{i}.txt\" |> moveFileAsync (path </> $\"file_{i}.txt\") |> Async.Ignore\n",
    "\n",
    "    do! Async.Sleep 1500\n",
    "\n",
    "    for i = 1 to n do\n",
    "        do! $\"{contents.[i - 1]}c\" |> writeAllTextAsync (path </> $\"file_{i}.txt\")\n",
    "\n",
    "    do! Async.Sleep 1500\n",
    "\n",
    "    for i = 1 to n do\n",
    "        do! deleteFileAsync (path </> $\"file_{i}.txt\") |> Async.Ignore\n",
    "\n",
    "    do! Async.Sleep 1500\n",
    "}\n",
    "\n",
    "let inline run () =\n",
    "    let events =\n",
    "        testEventsRaw watchDirectory write\n",
    "        |> List.map (function\n",
    "            | FileSystemChange.Changed (path, Some content) ->\n",
    "                FileSystemChange.Changed (path, content |> Seq.distinct |> Seq.map string |> String.concat \"\" |> Some)\n",
    "            | FileSystemChange.Created (path, Some content) ->\n",
    "                FileSystemChange.Created (path, content |> Seq.distinct |> Seq.map string |> String.concat \"\" |> Some)\n",
    "            | FileSystemChange.Renamed (oldPath, (newPath, Some content)) ->\n",
    "                FileSystemChange.Renamed (\n",
    "                    oldPath,\n",
    "                    (newPath, content |> Seq.distinct |> Seq.map string |> String.concat \"\" |> Some)\n",
    "                )\n",
    "            | event -> event\n",
    "        )\n",
    "\n",
    "    events\n",
    "    |> _sequenceEqual [\n",
    "        FileSystemChange.Created (\"file1.txt\", Some \"1a\")\n",
    "        FileSystemChange.Changed (\"file1.txt\", Some \"1a\")\n",
    "        FileSystemChange.Created (\"file2.txt\", Some \"2a\")\n",
    "        FileSystemChange.Changed (\"file2.txt\", Some \"2a\")\n",
    "\n",
    "        FileSystemChange.Changed (\"file1.txt\", Some \"1b\")\n",
    "        FileSystemChange.Changed (\"file2.txt\", Some \"2b\")\n",
    "\n",
    "        FileSystemChange.Renamed (\"file1.txt\", (\"file_1.txt\", Some \"1b\"))\n",
    "        FileSystemChange.Renamed (\"file2.txt\", (\"file_2.txt\", Some \"2b\"))\n",
    "\n",
    "        FileSystemChange.Changed (\"file_1.txt\", Some \"1c\")\n",
    "        FileSystemChange.Changed (\"file_2.txt\", Some \"2c\")\n",
    "\n",
    "        FileSystemChange.Deleted \"file_1.txt\"\n",
    "        FileSystemChange.Deleted \"file_2.txt\"\n",
    "    ]\n",
    "\n",
    "run\n",
    "|> retryFn 5\n",
    "|> _equal (Some ())"
   ]
  },
  {
   "cell_type": "markdown",
   "metadata": {},
   "source": [
    "### testEventsSorted (test)"
   ]
  },
  {
   "cell_type": "code",
   "execution_count": null,
   "metadata": {
    "dotnet_interactive": {
     "language": "fsharp"
    },
    "polyglot_notebook": {
     "kernelName": "fsharp"
    }
   },
   "outputs": [],
   "source": [
    "//// test\n",
    "\n",
    "let inline sortEvent event =\n",
    "    match event with\n",
    "    | FileSystemChange.Failure _ -> 0\n",
    "    | FileSystemChange.Created _ -> 1\n",
    "    | FileSystemChange.Changed _ -> 2\n",
    "    | FileSystemChange.Renamed (_oldPath, _) -> 3\n",
    "    | FileSystemChange.Deleted _ -> 4\n",
    "\n",
    "let inline formatEvents events =\n",
    "    events\n",
    "    |> Seq.toList\n",
    "    |> List.sortBy (snd >> sortEvent)\n",
    "    |> List.choose (fun (ticks, event) ->\n",
    "        match event with\n",
    "        | FileSystemChange.Failure _ ->\n",
    "            None\n",
    "        | FileSystemChange.Changed (path, _) ->\n",
    "            Some (ticks, System.IO.Path.GetFileName path, nameof FileSystemChangeType.Changed)\n",
    "        | FileSystemChange.Created (path, _) ->\n",
    "            Some (ticks, System.IO.Path.GetFileName path, nameof FileSystemChangeType.Created)\n",
    "        | FileSystemChange.Deleted path ->\n",
    "            Some (ticks, System.IO.Path.GetFileName path, nameof FileSystemChangeType.Deleted)\n",
    "        | FileSystemChange.Renamed (_oldPath, (path, _)) ->\n",
    "            Some (ticks, System.IO.Path.GetFileName path, nameof FileSystemChangeType.Renamed)\n",
    "    )\n",
    "    |> List.sortBy (fun (_, path, _) -> path)\n",
    "    |> List.distinctBy (fun (_, path, event) -> path, event)\n",
    "\n",
    "let inline testEventsSorted\n",
    "    (watchFn : string -> FSharp.Control.AsyncSeq<int64 * FileSystemChange> * IDisposable)\n",
    "    write\n",
    "    =\n",
    "    let path = createTempDirectory ()\n",
    "    let stream, disposable = watchFn path\n",
    "\n",
    "    let events = System.Collections.Concurrent.ConcurrentBag ()\n",
    "\n",
    "    let inline iter () =\n",
    "        stream\n",
    "        |> FSharp.Control.AsyncSeq.iterAsyncParallel (fun event -> async { events.Add event })\n",
    "\n",
    "    let run = async {\n",
    "        let! _ = iter () |> Async.StartChild\n",
    "        do! Async.Sleep 250\n",
    "        return! write path\n",
    "    }\n",
    "\n",
    "    try\n",
    "        run\n",
    "        |> Async.runWithTimeout 5000\n",
    "        |> _equal (Some ())\n",
    "    finally\n",
    "        disposable.Dispose ()\n",
    "        deleteDirectoryAsync path |> Async.Ignore |> Async.RunSynchronously\n",
    "\n",
    "    let events = formatEvents events\n",
    "\n",
    "    let eventMap =\n",
    "        events\n",
    "        |> List.map (fun (ticks, path, event) -> path, (event, ticks))\n",
    "        |> List.groupBy fst\n",
    "        |> List.map (fun (path, events) ->\n",
    "            let event, _ticks =\n",
    "                events\n",
    "                |> List.map snd\n",
    "                |> List.sortByDescending snd\n",
    "                |> List.head\n",
    "\n",
    "            path, event\n",
    "        )\n",
    "        |> Map.ofList\n",
    "\n",
    "    let eventList =\n",
    "        events\n",
    "        |> List.map (fun (_ticks, path, event) -> path, event)\n",
    "\n",
    "    eventMap, eventList"
   ]
  },
  {
   "cell_type": "markdown",
   "metadata": {},
   "source": [
    "#### create and delete (test)"
   ]
  },
  {
   "cell_type": "code",
   "execution_count": null,
   "metadata": {
    "dotnet_interactive": {
     "language": "fsharp"
    },
    "polyglot_notebook": {
     "kernelName": "fsharp"
    }
   },
   "outputs": [
    {
     "name": "stdout",
     "output_type": "stream",
     "text": [
      "FSharpOption<Unit>\n",
      "      Value: <null>\n",
      "00:00:28 #51 [Debug] watchWithFilter / Disposing watch stream / filter: FileName, LastWrite\n",
      "FSharpList<Tuple<String,String>>\n",
      "( file1.txt, Created )\n",
      "( file1.txt, Changed )\n",
      "( file1.txt, Deleted )\n",
      "( file2.txt, Created )\n",
      "( file2.txt, Changed )\n",
      "( file2.txt, Deleted )\n",
      "( file3.txt, Created )\n",
      "( file3.txt, Changed )\n",
      "( file3.txt, Deleted )\n",
      "FSharpMap<String,String>\n",
      "      - Key: file1.txt\n",
      "        Value: Deleted\n",
      "      - Key: file2.txt\n",
      "        Value: Deleted\n",
      "      - Key: file3.txt\n",
      "        Value: Deleted\n",
      "FSharpOption<Unit>\n",
      "      Value: <null>\n"
     ]
    }
   ],
   "source": [
    "//// test\n",
    "\n",
    "let inline write path = async {\n",
    "    let n = 3\n",
    "\n",
    "    for i = 1 to n do\n",
    "        do! $\"{i}\" |> writeAllTextAsync (path </> $\"file{i}.txt\")\n",
    "\n",
    "    for i = 1 to n do\n",
    "        do! deleteFileAsync (path </> $\"file{i}.txt\") |> Async.Ignore\n",
    "    \n",
    "    do! Async.Sleep 150\n",
    "}\n",
    "\n",
    "let inline run () =\n",
    "    let eventMap, eventList = testEventsSorted (watchDirectory (fun _ -> false)) write\n",
    "\n",
    "    [\n",
    "        \"file1.txt\", nameof FileSystemChangeType.Created\n",
    "        \"file1.txt\", nameof FileSystemChangeType.Changed\n",
    "        \"file1.txt\", nameof FileSystemChangeType.Deleted\n",
    "\n",
    "        \"file2.txt\", nameof FileSystemChangeType.Created\n",
    "        \"file2.txt\", nameof FileSystemChangeType.Changed\n",
    "        \"file2.txt\", nameof FileSystemChangeType.Deleted\n",
    "\n",
    "        \"file3.txt\", nameof FileSystemChangeType.Created\n",
    "        \"file3.txt\", nameof FileSystemChangeType.Changed\n",
    "        \"file3.txt\", nameof FileSystemChangeType.Deleted\n",
    "    ]\n",
    "    |> _sequenceEqual eventList\n",
    "\n",
    "    [\n",
    "        \"file1.txt\", nameof FileSystemChangeType.Deleted\n",
    "        \"file2.txt\", nameof FileSystemChangeType.Deleted\n",
    "        \"file3.txt\", nameof FileSystemChangeType.Deleted\n",
    "    ]\n",
    "    |> Map.ofList\n",
    "    |> _sequenceEqual eventMap\n",
    "\n",
    "run\n",
    "|> retryFn 3\n",
    "|> _equal (Some ())"
   ]
  },
  {
   "cell_type": "markdown",
   "metadata": {},
   "source": [
    "#### change (test)"
   ]
  },
  {
   "cell_type": "code",
   "execution_count": null,
   "metadata": {
    "dotnet_interactive": {
     "language": "fsharp"
    },
    "polyglot_notebook": {
     "kernelName": "fsharp"
    }
   },
   "outputs": [
    {
     "name": "stdout",
     "output_type": "stream",
     "text": [
      "FSharpOption<Unit>\n",
      "      Value: <null>\n",
      "00:00:30 #52 [Debug] watchWithFilter / Disposing watch stream / filter: FileName, LastWrite\n",
      "FSharpList<Tuple<String,String>>\n",
      "( file1.txt, Created )\n",
      "( file1.txt, Changed )\n",
      "( file1.txt, Deleted )\n",
      "( file2.txt, Created )\n",
      "( file2.txt, Changed )\n",
      "( file2.txt, Deleted )\n",
      "FSharpMap<String,String>\n",
      "      - Key: file1.txt\n",
      "        Value: Deleted\n",
      "      - Key: file2.txt\n",
      "        Value: Deleted\n",
      "FSharpOption<Unit>\n",
      "      Value: <null>\n"
     ]
    }
   ],
   "source": [
    "//// test\n",
    "\n",
    "let inline write path = async {\n",
    "    let n = 2\n",
    "\n",
    "    for i = 1 to n do\n",
    "        do! $\"{i}\" |> writeAllTextAsync (path </> $\"file{i}.txt\")\n",
    "\n",
    "    for i = 1 to n do\n",
    "        do! \"\" |> writeAllTextAsync (path </> $\"file{i}.txt\")\n",
    "\n",
    "    for i = 1 to n do\n",
    "        do! deleteFileAsync (path </> $\"file{i}.txt\") |> Async.Ignore\n",
    "    \n",
    "    do! Async.Sleep 150\n",
    "}\n",
    "\n",
    "let inline run () =\n",
    "    let eventMap, eventList = testEventsSorted (watchDirectory (fun _ -> false)) write\n",
    "\n",
    "    [\n",
    "        \"file1.txt\", nameof FileSystemChangeType.Created\n",
    "        \"file1.txt\", nameof FileSystemChangeType.Changed\n",
    "        \"file1.txt\", nameof FileSystemChangeType.Deleted\n",
    "\n",
    "        \"file2.txt\", nameof FileSystemChangeType.Created\n",
    "        \"file2.txt\", nameof FileSystemChangeType.Changed\n",
    "        \"file2.txt\", nameof FileSystemChangeType.Deleted\n",
    "    ]\n",
    "    |> _sequenceEqual eventList\n",
    "\n",
    "    [\n",
    "        \"file1.txt\", nameof FileSystemChangeType.Deleted\n",
    "        \"file2.txt\", nameof FileSystemChangeType.Deleted\n",
    "    ]\n",
    "    |> Map.ofList\n",
    "    |> _sequenceEqual eventMap\n",
    "\n",
    "run\n",
    "|> retryFn 3\n",
    "|> _equal (Some ())"
   ]
  },
  {
   "cell_type": "markdown",
   "metadata": {},
   "source": [
    "#### rename (test)"
   ]
  },
  {
   "cell_type": "code",
   "execution_count": null,
   "metadata": {
    "dotnet_interactive": {
     "language": "fsharp"
    },
    "polyglot_notebook": {
     "kernelName": "fsharp"
    }
   },
   "outputs": [
    {
     "name": "stdout",
     "output_type": "stream",
     "text": [
      "FSharpOption<Unit>\n",
      "      Value: <null>\n",
      "00:00:33 #53 [Debug] watchWithFilter / Disposing watch stream / filter: FileName, LastWrite\n",
      "FSharpList<Tuple<String,String>>\n",
      "( file1.txt, Created )\n",
      "( file1.txt, Changed )\n",
      "( file2.txt, Created )\n",
      "( file2.txt, Changed )\n",
      "( file_1.txt, Renamed )\n",
      "( file_1.txt, Deleted )\n",
      "( file_2.txt, Renamed )\n",
      "( file_2.txt, Deleted )\n",
      "FSharpMap<String,String>\n",
      "      - Key: file1.txt\n",
      "        Value: Changed\n",
      "      - Key: file2.txt\n",
      "        Value: Changed\n",
      "      - Key: file_1.txt\n",
      "        Value: Deleted\n",
      "      - Key: file_2.txt\n",
      "        Value: Deleted\n",
      "FSharpOption<Unit>\n",
      "      Value: <null>\n"
     ]
    }
   ],
   "source": [
    "//// test\n",
    "\n",
    "let inline write path = async {\n",
    "    let n = 2\n",
    "\n",
    "    for i = 1 to n do\n",
    "        do! $\"{i}\" |> writeAllTextAsync (path </> $\"file{i}.txt\")\n",
    "\n",
    "    for i = 1 to n do\n",
    "        do! path </> $\"file{i}.txt\" |> moveFileAsync (path </> $\"file_{i}.txt\") |> Async.Ignore\n",
    "\n",
    "    for i = 1 to n do\n",
    "        do! deleteFileAsync (path </> $\"file_{i}.txt\") |> Async.Ignore\n",
    "    \n",
    "    do! Async.Sleep 150\n",
    "}\n",
    "\n",
    "let inline run () =\n",
    "    let eventMap, eventList = testEventsSorted (watchDirectory (fun _ -> false)) write\n",
    "\n",
    "    [\n",
    "        \"file1.txt\", nameof FileSystemChangeType.Created\n",
    "        \"file1.txt\", nameof FileSystemChangeType.Changed\n",
    "        \"file2.txt\", nameof FileSystemChangeType.Created\n",
    "        \"file2.txt\", nameof FileSystemChangeType.Changed\n",
    "\n",
    "        \"file_1.txt\", nameof FileSystemChangeType.Renamed\n",
    "        \"file_1.txt\", nameof FileSystemChangeType.Deleted\n",
    "\n",
    "        \"file_2.txt\", nameof FileSystemChangeType.Renamed\n",
    "        \"file_2.txt\", nameof FileSystemChangeType.Deleted\n",
    "    ]\n",
    "    |> _sequenceEqual eventList\n",
    "\n",
    "    [\n",
    "        \"file1.txt\", nameof FileSystemChangeType.Changed\n",
    "        \"file2.txt\", nameof FileSystemChangeType.Changed\n",
    "        \"file_1.txt\", nameof FileSystemChangeType.Deleted\n",
    "        \"file_2.txt\", nameof FileSystemChangeType.Deleted\n",
    "    ]\n",
    "    |> Map.ofList\n",
    "    |> _sequenceEqual eventMap\n",
    "\n",
    "run\n",
    "|> retryFn 3\n",
    "|> _equal (Some ())"
   ]
  },
  {
   "cell_type": "markdown",
   "metadata": {},
   "source": [
    "#### full (test)"
   ]
  },
  {
   "cell_type": "code",
   "execution_count": null,
   "metadata": {
    "dotnet_interactive": {
     "language": "fsharp"
    },
    "polyglot_notebook": {
     "kernelName": "fsharp"
    }
   },
   "outputs": [
    {
     "name": "stdout",
     "output_type": "stream",
     "text": [
      "FSharpOption<Unit>\n",
      "      Value: <null>\n",
      "00:00:36 #54 [Debug] watchWithFilter / Disposing watch stream / filter: FileName, LastWrite\n",
      "FSharpList<Tuple<String,String>>\n",
      "( file1.txt, Created )\n",
      "( file1.txt, Changed )\n",
      "( file2.txt, Created )\n",
      "( file2.txt, Changed )\n",
      "( file_1.txt, Changed )\n",
      "( file_1.txt, Renamed )\n",
      "( file_1.txt, Deleted )\n",
      "( file_2.txt, Changed )\n",
      "( file_2.txt, Renamed )\n",
      "( file_2.txt, Deleted )\n",
      "FSharpMap<String,String>\n",
      "      - Key: file1.txt\n",
      "        Value: Changed\n",
      "      - Key: file2.txt\n",
      "        Value: Changed\n",
      "      - Key: file_1.txt\n",
      "        Value: Deleted\n",
      "      - Key: file_2.txt\n",
      "        Value: Deleted\n",
      "FSharpOption<Unit>\n",
      "      Value: <null>\n"
     ]
    }
   ],
   "source": [
    "//// test\n",
    "\n",
    "let inline write path = async {\n",
    "    let n = 2\n",
    "\n",
    "    for i = 1 to n do\n",
    "        do! $\"{i}\" |> writeAllTextAsync (path </> $\"file{i}.txt\")\n",
    "\n",
    "    for i = 1 to n do\n",
    "        do! \"\" |> writeAllTextAsync (path </> $\"file{i}.txt\")\n",
    "\n",
    "    for i = 1 to n do\n",
    "        do! path </> $\"file{i}.txt\" |> moveFileAsync (path </> $\"file_{i}.txt\") |> Async.Ignore\n",
    "\n",
    "    for i = 1 to n do\n",
    "        do! $\"{i}\" |> writeAllTextAsync (path </> $\"file_{i}.txt\")\n",
    "\n",
    "    for i = 1 to n do\n",
    "        do! deleteFileAsync (path </> $\"file_{i}.txt\") |> Async.Ignore\n",
    "    \n",
    "    do! Async.Sleep 150\n",
    "}\n",
    "\n",
    "let inline run () =\n",
    "    let eventMap, eventList = testEventsSorted (watchDirectory (fun _ -> false)) write\n",
    "\n",
    "    [\n",
    "        \"file1.txt\", nameof FileSystemChangeType.Created\n",
    "        \"file1.txt\", nameof FileSystemChangeType.Changed\n",
    "        \"file2.txt\", nameof FileSystemChangeType.Created\n",
    "        \"file2.txt\", nameof FileSystemChangeType.Changed\n",
    "\n",
    "        \"file_1.txt\", nameof FileSystemChangeType.Changed\n",
    "        \"file_1.txt\", nameof FileSystemChangeType.Renamed\n",
    "        \"file_1.txt\", nameof FileSystemChangeType.Deleted\n",
    "\n",
    "        \"file_2.txt\", nameof FileSystemChangeType.Changed\n",
    "        \"file_2.txt\", nameof FileSystemChangeType.Renamed\n",
    "        \"file_2.txt\", nameof FileSystemChangeType.Deleted\n",
    "    ]\n",
    "    |> _sequenceEqual eventList\n",
    "\n",
    "    [\n",
    "        \"file1.txt\", nameof FileSystemChangeType.Changed\n",
    "        \"file2.txt\", nameof FileSystemChangeType.Changed\n",
    "        \"file_1.txt\", nameof FileSystemChangeType.Deleted\n",
    "        \"file_2.txt\", nameof FileSystemChangeType.Deleted\n",
    "    ]\n",
    "    |> Map.ofList\n",
    "    |> _sequenceEqual eventMap\n",
    "\n",
    "run\n",
    "|> retryFn 3\n",
    "|> _equal (Some ())"
   ]
  }
 ],
 "metadata": {},
 "nbformat": 4,
 "nbformat_minor": 5
}