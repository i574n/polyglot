{
 "cells": [
  {
   "cell_type": "markdown",
   "metadata": {},
   "source": [
    "# FileSystem (Polyglot)"
   ]
  },
  {
   "cell_type": "code",
   "execution_count": null,
   "metadata": {
    "dotnet_interactive": {
     "language": "fsharp"
    },
    "polyglot_notebook": {
     "kernelName": "fsharp"
    }
   },
   "outputs": [],
   "source": [
    "#!import ../../lib/fsharp/Notebooks.dib\n",
    "#!import ../../lib/fsharp/Testing.dib"
   ]
  },
  {
   "cell_type": "code",
   "execution_count": null,
   "metadata": {
    "dotnet_interactive": {
     "language": "fsharp"
    },
    "polyglot_notebook": {
     "kernelName": "fsharp"
    }
   },
   "outputs": [],
   "source": [
    "#r @\"../../../../../../../.nuget/packages/fsharp.control.asyncseq/3.2.1/lib/netstandard2.1/FSharp.Control.AsyncSeq.dll\"\n",
    "#r @\"../../../../../../../.nuget/packages/system.reactive/6.0.1-preview.1/lib/net6.0/System.Reactive.dll\"\n",
    "#r @\"../../../../../../../.nuget/packages/system.reactive.linq/6.0.1-preview.1/lib/netstandard2.0/System.Reactive.Linq.dll\"\n",
    "#r @\"../../../../../../../.nuget/packages/argu/6.2.2/lib/netstandard2.0/Argu.dll\"\n",
    "#r @\"../../../../../../../.nuget/packages/system.commandline/2.0.0-beta4.22272.1/lib/net6.0/System.CommandLine.dll\""
   ]
  },
  {
   "cell_type": "code",
   "execution_count": null,
   "metadata": {
    "dotnet_interactive": {
     "language": "fsharp"
    },
    "polyglot_notebook": {
     "kernelName": "fsharp"
    }
   },
   "outputs": [],
   "source": [
    "#!import ../../lib/fsharp/Common.fs\n",
    "#!import ../../lib/fsharp/CommonFSharp.fs\n",
    "#!import ../../lib/fsharp/Async.fs\n",
    "#!import ../../lib/fsharp/AsyncSeq.fs\n",
    "#!import ../../lib/fsharp/Runtime.fs"
   ]
  },
  {
   "cell_type": "code",
   "execution_count": null,
   "metadata": {
    "dotnet_interactive": {
     "language": "fsharp"
    },
    "polyglot_notebook": {
     "kernelName": "fsharp"
    }
   },
   "outputs": [],
   "source": [
    "open Common"
   ]
  },
  {
   "cell_type": "markdown",
   "metadata": {},
   "source": [
    "## Operators"
   ]
  },
  {
   "cell_type": "code",
   "execution_count": null,
   "metadata": {
    "dotnet_interactive": {
     "language": "fsharp"
    },
    "polyglot_notebook": {
     "kernelName": "fsharp"
    }
   },
   "outputs": [],
   "source": [
    "module Operators =\n",
    "    let inline (</>) a b =\n",
    "        System.IO.Path.Combine (a, b)"
   ]
  },
  {
   "cell_type": "code",
   "execution_count": null,
   "metadata": {
    "dotnet_interactive": {
     "language": "fsharp"
    },
    "polyglot_notebook": {
     "kernelName": "fsharp"
    }
   },
   "outputs": [],
   "source": [
    "open Operators"
   ]
  },
  {
   "cell_type": "markdown",
   "metadata": {},
   "source": [
    "## createTempDirectoryName"
   ]
  },
  {
   "cell_type": "code",
   "execution_count": null,
   "metadata": {
    "dotnet_interactive": {
     "language": "fsharp"
    },
    "polyglot_notebook": {
     "kernelName": "fsharp"
    }
   },
   "outputs": [],
   "source": [
    "let inline createTempDirectoryName () =\n",
    "    let root = System.Reflection.Assembly.GetEntryAssembly().GetName().Name\n",
    "\n",
    "    System.IO.Path.GetTempPath ()\n",
    "    </> $\"!{root}\"\n",
    "    </> string (newGuidFromDateTime System.DateTime.Now)"
   ]
  },
  {
   "cell_type": "code",
   "execution_count": null,
   "metadata": {
    "dotnet_interactive": {
     "language": "fsharp"
    },
    "polyglot_notebook": {
     "kernelName": "fsharp"
    }
   },
   "outputs": [
    {
     "name": "stdout",
     "output_type": "stream",
     "text": [
      "/tmp/!dotnet-repl/20240324-2033-0053-5365-5b617c9bff3e\n"
     ]
    }
   ],
   "source": [
    "//// test\n",
    "\n",
    "createTempDirectoryName ()\n",
    "|> _contains System.IO.Path.DirectorySeparatorChar"
   ]
  },
  {
   "cell_type": "markdown",
   "metadata": {},
   "source": [
    "## createTempDirectory"
   ]
  },
  {
   "cell_type": "code",
   "execution_count": null,
   "metadata": {
    "dotnet_interactive": {
     "language": "fsharp"
    },
    "polyglot_notebook": {
     "kernelName": "fsharp"
    }
   },
   "outputs": [],
   "source": [
    "let inline createTempDirectory () =\n",
    "    let tempFolder = createTempDirectoryName ()\n",
    "    let result = System.IO.Directory.CreateDirectory tempFolder\n",
    "\n",
    "    if not result.Exists then\n",
    "        let getLocals () =\n",
    "            $\"tempFolder: {tempFolder} / result: {({|\n",
    "                Exists = result.Exists\n",
    "                CreationTime = result.CreationTime\n",
    "            |})} {getLocals ()}\"\n",
    "\n",
    "        trace Debug (fun () -> \"createTempDirectory\") getLocals\n",
    "\n",
    "    tempFolder"
   ]
  },
  {
   "cell_type": "code",
   "execution_count": null,
   "metadata": {
    "dotnet_interactive": {
     "language": "fsharp"
    },
    "polyglot_notebook": {
     "kernelName": "fsharp"
    }
   },
   "outputs": [
    {
     "name": "stdout",
     "output_type": "stream",
     "text": [
      "True\n"
     ]
    }
   ],
   "source": [
    "//// test\n",
    "\n",
    "let tempDirectory = createTempDirectory ()\n",
    "\n",
    "Directory.Exists tempDirectory\n",
    "|> _assertEqual true"
   ]
  },
  {
   "cell_type": "markdown",
   "metadata": {},
   "source": [
    "## getSourceDirectory"
   ]
  },
  {
   "cell_type": "code",
   "execution_count": null,
   "metadata": {
    "dotnet_interactive": {
     "language": "fsharp"
    },
    "polyglot_notebook": {
     "kernelName": "fsharp"
    }
   },
   "outputs": [],
   "source": [
    "let getSourceDirectory =\n",
    "    fun () -> __SOURCE_DIRECTORY__\n",
    "    |> memoize"
   ]
  },
  {
   "cell_type": "code",
   "execution_count": null,
   "metadata": {
    "dotnet_interactive": {
     "language": "fsharp"
    },
    "polyglot_notebook": {
     "kernelName": "fsharp"
    }
   },
   "outputs": [
    {
     "name": "stdout",
     "output_type": "stream",
     "text": [
      "fsharp\n"
     ]
    }
   ],
   "source": [
    "//// test\n",
    "\n",
    "getSourceDirectory ()\n",
    "|> System.IO.DirectoryInfo\n",
    "|> fun dir -> dir.Name\n",
    "|> _assertEqual \"fsharp\""
   ]
  },
  {
   "cell_type": "markdown",
   "metadata": {},
   "source": [
    "## findParent"
   ]
  },
  {
   "cell_type": "code",
   "execution_count": null,
   "metadata": {
    "dotnet_interactive": {
     "language": "fsharp"
    },
    "polyglot_notebook": {
     "kernelName": "fsharp"
    }
   },
   "outputs": [],
   "source": [
    "let inline findParent name isFile rootDir =\n",
    "    let rec loop dir =\n",
    "        if dir </> name |> (if isFile then System.IO.File.Exists else System.IO.Directory.Exists)\n",
    "        then dir\n",
    "        else\n",
    "            dir\n",
    "            |> System.IO.Directory.GetParent\n",
    "            |> function\n",
    "                | null -> failwith $\"\"\"No parent for {if isFile then \"file\" else \"dir\"} '{name}' at '{rootDir}'\"\"\"\n",
    "                | parent -> parent.FullName |> loop\n",
    "    loop rootDir"
   ]
  },
  {
   "cell_type": "code",
   "execution_count": null,
   "metadata": {
    "dotnet_interactive": {
     "language": "fsharp"
    },
    "polyglot_notebook": {
     "kernelName": "fsharp"
    }
   },
   "outputs": [
    {
     "name": "stdout",
     "output_type": "stream",
     "text": [
      "polyglot\n"
     ]
    }
   ],
   "source": [
    "//// test\n",
    "\n",
    "getSourceDirectory () |> findParent \".paket\" false\n",
    "|> System.IO.DirectoryInfo\n",
    "|> fun dir -> dir.Name\n",
    "|> _assertEqual \"polyglot\""
   ]
  },
  {
   "cell_type": "code",
   "execution_count": null,
   "metadata": {
    "dotnet_interactive": {
     "language": "fsharp"
    },
    "polyglot_notebook": {
     "kernelName": "fsharp"
    }
   },
   "outputs": [
    {
     "name": "stdout",
     "output_type": "stream",
     "text": [
      "polyglot\n"
     ]
    }
   ],
   "source": [
    "//// test\n",
    "\n",
    "getSourceDirectory () |> findParent \"paket.dependencies\" true\n",
    "|> System.IO.DirectoryInfo\n",
    "|> fun dir -> dir.Name\n",
    "|> _assertEqual \"polyglot\""
   ]
  },
  {
   "cell_type": "markdown",
   "metadata": {},
   "source": [
    "## readAllTextAsync"
   ]
  },
  {
   "cell_type": "code",
   "execution_count": null,
   "metadata": {
    "dotnet_interactive": {
     "language": "fsharp"
    },
    "polyglot_notebook": {
     "kernelName": "fsharp"
    }
   },
   "outputs": [],
   "source": [
    "let inline readAllTextAsync path =\n",
    "    path |> System.IO.File.ReadAllTextAsync |> Async.AwaitTask"
   ]
  },
  {
   "cell_type": "markdown",
   "metadata": {},
   "source": [
    "## fileExistsContent"
   ]
  },
  {
   "cell_type": "code",
   "execution_count": null,
   "metadata": {
    "dotnet_interactive": {
     "language": "fsharp"
    },
    "polyglot_notebook": {
     "kernelName": "fsharp"
    }
   },
   "outputs": [],
   "source": [
    "let inline fileExistsContent path content = async {\n",
    "    if path |> System.IO.File.Exists |> not\n",
    "    then return false\n",
    "    else\n",
    "        let! existingContent = path |> readAllTextAsync\n",
    "        return content = existingContent\n",
    "}"
   ]
  },
  {
   "cell_type": "markdown",
   "metadata": {},
   "source": [
    "## writeAllTextAsync"
   ]
  },
  {
   "cell_type": "code",
   "execution_count": null,
   "metadata": {
    "dotnet_interactive": {
     "language": "fsharp"
    },
    "polyglot_notebook": {
     "kernelName": "fsharp"
    }
   },
   "outputs": [],
   "source": [
    "let inline writeAllTextAsync path contents =\n",
    "    System.IO.File.WriteAllTextAsync (path, contents) |> Async.AwaitTask"
   ]
  },
  {
   "cell_type": "markdown",
   "metadata": {},
   "source": [
    "## writeAllTextExists"
   ]
  },
  {
   "cell_type": "code",
   "execution_count": null,
   "metadata": {
    "dotnet_interactive": {
     "language": "fsharp"
    },
    "polyglot_notebook": {
     "kernelName": "fsharp"
    }
   },
   "outputs": [],
   "source": [
    "let inline writeAllTextExists path contents = async {\n",
    "    let! exists = contents |> fileExistsContent path\n",
    "    if not exists\n",
    "    then do! contents |> writeAllTextAsync path\n",
    "}"
   ]
  },
  {
   "cell_type": "markdown",
   "metadata": {},
   "source": [
    "## waitForFileAccess"
   ]
  },
  {
   "cell_type": "code",
   "execution_count": null,
   "metadata": {
    "dotnet_interactive": {
     "language": "fsharp"
    },
    "polyglot_notebook": {
     "kernelName": "fsharp"
    }
   },
   "outputs": [],
   "source": [
    "let inline waitForFileAccess access path =\n",
    "    let fileAccess, fileShare =\n",
    "        access\n",
    "        |> Option.defaultValue (System.IO.FileAccess.ReadWrite, System.IO.FileShare.Read)\n",
    "\n",
    "    let rec loop retry = async {\n",
    "        try\n",
    "            use _ = new System.IO.FileStream (\n",
    "                path,\n",
    "                System.IO.FileMode.Open,\n",
    "                fileAccess,\n",
    "                fileShare\n",
    "            )\n",
    "            return retry\n",
    "        with ex ->\n",
    "            if retry % 100 = 0 then\n",
    "                let getLocals () = $\"path: {path |> System.IO.Path.GetFileName} / ex: {ex |> printException} / {getLocals ()}\"\n",
    "                trace Debug (fun () -> \"waitForFileAccess\") getLocals\n",
    "            do! Async.Sleep 10\n",
    "            return! loop (retry + 1)\n",
    "    }\n",
    "    loop 0"
   ]
  },
  {
   "cell_type": "code",
   "execution_count": null,
   "metadata": {
    "dotnet_interactive": {
     "language": "fsharp"
    },
    "polyglot_notebook": {
     "kernelName": "fsharp"
    }
   },
   "outputs": [
    {
     "name": "stdout",
     "output_type": "stream",
     "text": [
      "00:00:00 #1 [Debug] 1\n",
      "00:00:00 #2 [Debug] 2\n",
      "00:00:00 #3 [Debug] _1\n",
      "00:00:00 #4 [Debug] 3\n",
      "00:00:00 #5 [Debug] _2\n",
      "00:00:00 #6 [Debug] 4\n",
      "00:00:00 #7 [Debug] waitForFileAccess / path: test.txt / ex: System.IO.IOException: The process cannot access the file '/tmp/!dotnet-repl/20240324-2033-0104-0458-01f9dfc9bacb/test.txt' because it is being used by another process.\n",
      "00:00:01 #8 [Debug] waitForFileAccess / path: test.txt / ex: System.IO.IOException: The process cannot access the file '/tmp/!dotnet-repl/20240324-2033-0104-0458-01f9dfc9bacb/test.txt' because it is being used by another process.\n",
      "00:00:02 #9 [Debug] _3\n",
      "00:00:02 #10 [Debug] _4\n",
      "00:00:02 #11 [Debug] _5\n",
      "00:00:02 #12 [Debug] _6\n",
      "00:00:02 #13 [Debug] 5\n",
      "00:00:02 #14 [Debug] 6\n",
      "00:00:02 #15 [Debug] 7\n",
      "167\n",
      "167\n",
      "167\n",
      "1\n",
      "True\n"
     ]
    }
   ],
   "source": [
    "//// test\n",
    "\n",
    "let tempFolder = createTempDirectory ()\n",
    "let path = tempFolder </> \"test.txt\"\n",
    "\n",
    "let inline lockFile () = async {\n",
    "    trace Debug (fun () -> \"_1\") getLocals\n",
    "    use stream = new System.IO.FileStream (\n",
    "        path,\n",
    "        System.IO.FileMode.Open,\n",
    "        System.IO.FileAccess.ReadWrite,\n",
    "        System.IO.FileShare.None\n",
    "    )\n",
    "    trace Debug (fun () -> \"_2\") getLocals\n",
    "    do! Async.Sleep 2000\n",
    "    trace Debug (fun () -> \"_3\") getLocals\n",
    "    stream.Seek (0L, SeekOrigin.Begin) |> ignore\n",
    "    trace Debug (fun () -> \"_4\") getLocals\n",
    "    stream.WriteByte 49uy\n",
    "    trace Debug (fun () -> \"_5\") getLocals\n",
    "    stream.Flush ()\n",
    "    trace Debug (fun () -> \"_6\") getLocals\n",
    "}\n",
    "\n",
    "async {\n",
    "    trace Debug (fun () -> \"1\") getLocals\n",
    "    do! \"0\" |> writeAllTextAsync path\n",
    "    trace Debug (fun () -> \"2\") getLocals\n",
    "    let! child = lockFile () |> Async.StartChild\n",
    "    trace Debug (fun () -> \"3\") getLocals\n",
    "    do! Async.Sleep 1\n",
    "    trace Debug (fun () -> \"4\") getLocals\n",
    "    let! retries = path |> waitForFileAccess None\n",
    "    trace Debug (fun () -> \"5\") getLocals\n",
    "    let! text = path |> readAllTextAsync\n",
    "    trace Debug (fun () -> \"6\") getLocals\n",
    "    do! child\n",
    "    trace Debug (fun () -> \"7\") getLocals\n",
    "    return retries, text\n",
    "}\n",
    "|> Async.runWithTimeout 3000\n",
    "|> function\n",
    "    | Some (retries, text) ->\n",
    "        retries\n",
    "        |> _isBetween\n",
    "            (if Runtime.isWindows () then 100 else 100)\n",
    "            (if Runtime.isWindows () then 150 else 200)\n",
    "\n",
    "        text |> _assertEqual \"1\"\n",
    "\n",
    "        true\n",
    "    | _ -> false\n",
    "|> _assertEqual true"
   ]
  },
  {
   "cell_type": "markdown",
   "metadata": {},
   "source": [
    "## readAllTextRetryAsync"
   ]
  },
  {
   "cell_type": "code",
   "execution_count": null,
   "metadata": {
    "dotnet_interactive": {
     "language": "fsharp"
    },
    "polyglot_notebook": {
     "kernelName": "fsharp"
    }
   },
   "outputs": [],
   "source": [
    "let inline readAllTextRetryAsync fullPath =\n",
    "    let rec loop retry = async {\n",
    "        try\n",
    "            if retry > 0\n",
    "            then do!\n",
    "                fullPath\n",
    "                |> waitForFileAccess (Some (\n",
    "                    System.IO.FileAccess.Read,\n",
    "                    System.IO.FileShare.Read\n",
    "                ))\n",
    "                |> Async.runWithTimeoutAsync 1000\n",
    "                |> Async.Ignore\n",
    "            return! fullPath |> readAllTextAsync |> Async.map Some\n",
    "        with ex ->\n",
    "            let getLocals () = $\"retry: {retry} / ex: {ex |> printException} / {getLocals ()}\"\n",
    "            trace Debug (fun () -> $\"watchWithFilter / readContent\") getLocals\n",
    "            if retry = 0\n",
    "            then return! loop (retry + 1)\n",
    "            else return None\n",
    "    }\n",
    "    loop 0"
   ]
  },
  {
   "cell_type": "markdown",
   "metadata": {},
   "source": [
    "## deleteDirectoryAsync"
   ]
  },
  {
   "cell_type": "code",
   "execution_count": null,
   "metadata": {
    "dotnet_interactive": {
     "language": "fsharp"
    },
    "polyglot_notebook": {
     "kernelName": "fsharp"
    }
   },
   "outputs": [],
   "source": [
    "let inline deleteDirectoryAsync path =\n",
    "    let rec loop retry = async {\n",
    "        try\n",
    "            System.IO.Directory.Delete (path, true)\n",
    "            return retry\n",
    "        with ex ->\n",
    "            if retry % 100 = 0 then\n",
    "                let getLocals () = $\"path: {path |> System.IO.Path.GetFileName} / ex: {ex |> printException} / {getLocals ()}\"\n",
    "                trace Debug (fun () -> \"deleteDirectoryAsync\") getLocals\n",
    "            do! Async.Sleep 10\n",
    "            return! loop (retry + 1)\n",
    "    }\n",
    "    loop 0"
   ]
  },
  {
   "cell_type": "code",
   "execution_count": null,
   "metadata": {
    "dotnet_interactive": {
     "language": "fsharp"
    },
    "polyglot_notebook": {
     "kernelName": "fsharp"
    }
   },
   "outputs": [
    {
     "name": "stdout",
     "output_type": "stream",
     "text": [
      "00:00:02 #16 [Debug] 1\n",
      "00:00:02 #17 [Debug] 2\n",
      "00:00:02 #18 [Debug] 3\n",
      "00:00:02 #19 [Debug] _1\n",
      "00:00:02 #20 [Debug] _2\n",
      "00:00:02 #21 [Debug] 4\n",
      "00:00:02 #22 [Debug] 5\n",
      "00:00:04 #23 [Debug] _3\n",
      "00:00:04 #24 [Debug] 6\n",
      "0\n",
      "0\n",
      "0\n",
      "True\n"
     ]
    }
   ],
   "source": [
    "//// test\n",
    "\n",
    "let tempFolder = createTempDirectory ()\n",
    "let path = tempFolder </> \"test\"\n",
    "\n",
    "let inline lockDirectory () = async {\n",
    "    trace Debug (fun () -> \"_1\") getLocals\n",
    "    System.IO.File.WriteAllText (path </> \"test.txt\", \"0\")\n",
    "    use _ = new System.IO.FileStream (\n",
    "        path </> \"test.txt\",\n",
    "        System.IO.FileMode.Open,\n",
    "        System.IO.FileAccess.ReadWrite,\n",
    "        System.IO.FileShare.None\n",
    "    )\n",
    "    trace Debug (fun () -> \"_2\") getLocals\n",
    "    do! Async.Sleep 2000\n",
    "    trace Debug (fun () -> \"_3\") getLocals\n",
    "}\n",
    "\n",
    "async {\n",
    "    trace Debug (fun () -> \"1\") getLocals\n",
    "    Directory.CreateDirectory path |> ignore\n",
    "    trace Debug (fun () -> \"2\") getLocals\n",
    "    let! child = lockDirectory () |> Async.StartChild\n",
    "    trace Debug (fun () -> \"3\") getLocals\n",
    "    do! Async.Sleep 60\n",
    "    trace Debug (fun () -> \"4\") getLocals\n",
    "    let! retries = deleteDirectoryAsync path\n",
    "    trace Debug (fun () -> \"5\") getLocals\n",
    "    do! child\n",
    "    trace Debug (fun () -> \"6\") getLocals\n",
    "    return retries\n",
    "}\n",
    "|> Async.runWithTimeout 3000\n",
    "|> function\n",
    "    | Some retries ->\n",
    "        retries\n",
    "        |> _isBetween\n",
    "            (if Runtime.isWindows () then 100 else 0)\n",
    "            (if Runtime.isWindows () then 150 else 0)\n",
    "\n",
    "        true\n",
    "    | _ -> false\n",
    "|> _assertEqual true"
   ]
  },
  {
   "cell_type": "markdown",
   "metadata": {},
   "source": [
    "## deleteFileAsync"
   ]
  },
  {
   "cell_type": "code",
   "execution_count": null,
   "metadata": {
    "dotnet_interactive": {
     "language": "fsharp"
    },
    "polyglot_notebook": {
     "kernelName": "fsharp"
    }
   },
   "outputs": [],
   "source": [
    "let inline deleteFileAsync path =\n",
    "    let rec loop retry = async {\n",
    "        try\n",
    "            System.IO.File.Delete path\n",
    "            return retry\n",
    "        with ex ->\n",
    "            if retry % 100 = 0 then\n",
    "                let getLocals () = $\"path: {path |> System.IO.Path.GetFileName} / ex: {ex |> printException} / {getLocals ()}\"\n",
    "                trace Warning (fun () -> \"deleteFileAsync\") getLocals\n",
    "            do! Async.Sleep 10\n",
    "            return! loop (retry + 1)\n",
    "    }\n",
    "    loop 0"
   ]
  },
  {
   "cell_type": "code",
   "execution_count": null,
   "metadata": {
    "dotnet_interactive": {
     "language": "fsharp"
    },
    "polyglot_notebook": {
     "kernelName": "fsharp"
    }
   },
   "outputs": [
    {
     "name": "stdout",
     "output_type": "stream",
     "text": [
      "00:00:04 #25 [Debug] 1\n",
      "00:00:04 #26 [Debug] 2\n",
      "00:00:04 #27 [Debug] 3\n",
      "00:00:04 #28 [Debug] _1\n",
      "00:00:04 #29 [Debug] _2\n",
      "00:00:04 #30 [Debug] 4\n",
      "00:00:04 #31 [Debug] 5\n",
      "00:00:06 #32 [Debug] _3\n",
      "00:00:06 #33 [Debug] 6\n",
      "0\n",
      "0\n",
      "0\n",
      "True\n"
     ]
    }
   ],
   "source": [
    "//// test\n",
    "\n",
    "let tempFolder = createTempDirectory ()\n",
    "let path = tempFolder </> \"test.txt\"\n",
    "\n",
    "let inline lockFile () = async {\n",
    "    trace Debug (fun () -> \"_1\") getLocals\n",
    "    use _ = new System.IO.FileStream (\n",
    "        path,\n",
    "        System.IO.FileMode.Open,\n",
    "        System.IO.FileAccess.ReadWrite,\n",
    "        System.IO.FileShare.None\n",
    "    )\n",
    "    trace Debug (fun () -> \"_2\") getLocals\n",
    "    do! Async.Sleep 2000\n",
    "    trace Debug (fun () -> \"_3\") getLocals\n",
    "}\n",
    "\n",
    "async {\n",
    "    trace Debug (fun () -> \"1\") getLocals\n",
    "    do! \"0\" |> writeAllTextAsync path\n",
    "    trace Debug (fun () -> \"2\") getLocals\n",
    "    let! child = lockFile () |> Async.StartChild\n",
    "    trace Debug (fun () -> \"3\") getLocals\n",
    "    do! Async.Sleep 1\n",
    "    trace Debug (fun () -> \"4\") getLocals\n",
    "    let! retries = deleteFileAsync path\n",
    "    trace Debug (fun () -> \"5\") getLocals\n",
    "    do! child\n",
    "    trace Debug (fun () -> \"6\") getLocals\n",
    "    return retries\n",
    "}\n",
    "|> Async.runWithTimeout 3000\n",
    "|> function\n",
    "    | Some retries ->\n",
    "        retries\n",
    "        |> _isBetween\n",
    "            (if Runtime.isWindows () then 100 else 0)\n",
    "            (if Runtime.isWindows () then 150 else 0)\n",
    "\n",
    "        true\n",
    "    | _ -> false\n",
    "|> _assertEqual true"
   ]
  },
  {
   "cell_type": "markdown",
   "metadata": {},
   "source": [
    "## moveFileAsync"
   ]
  },
  {
   "cell_type": "code",
   "execution_count": null,
   "metadata": {
    "dotnet_interactive": {
     "language": "fsharp"
    },
    "polyglot_notebook": {
     "kernelName": "fsharp"
    }
   },
   "outputs": [],
   "source": [
    "let inline moveFileAsync newPath oldPath =\n",
    "    let rec loop retry = async {\n",
    "        try\n",
    "            System.IO.File.Move (oldPath, newPath)\n",
    "            return retry\n",
    "        with ex ->\n",
    "            if retry % 100 = 0 then\n",
    "                let getLocals () =\n",
    "                    $\"oldPath: {oldPath |> System.IO.Path.GetFileName} / newPath: {newPath |> System.IO.Path.GetFileName} / ex: {ex |> printException} / {getLocals ()}\"\n",
    "                trace Warning (fun () -> \"moveFileAsync\") getLocals\n",
    "            do! Async.Sleep 10\n",
    "            return! loop (retry + 1)\n",
    "    }\n",
    "    loop 0"
   ]
  },
  {
   "cell_type": "code",
   "execution_count": null,
   "metadata": {
    "dotnet_interactive": {
     "language": "fsharp"
    },
    "polyglot_notebook": {
     "kernelName": "fsharp"
    }
   },
   "outputs": [
    {
     "name": "stdout",
     "output_type": "stream",
     "text": [
      "00:00:06 #34 [Debug] 1\n",
      "00:00:06 #35 [Debug] 2\n",
      "00:00:06 #36 [Debug] 3\n",
      "00:00:06 #37 [Debug] _1\n",
      "00:00:06 #38 [Debug] _2\n",
      "00:00:06 #39 [Debug] 4\n",
      "00:00:06 #40 [Debug] 5\n",
      "00:00:06 #41 [Debug] waitForFileAccess / path: test2.txt / ex: System.IO.IOException: The process cannot access the file '/tmp/!dotnet-repl/20240324-2033-0790-9021-9cdfd455ea29/test2.txt' because it is being used by another process.\n",
      "00:00:08 #42 [Debug] waitForFileAccess / path: test2.txt / ex: System.IO.IOException: The process cannot access the file '/tmp/!dotnet-repl/20240324-2033-0790-9021-9cdfd455ea29/test2.txt' because it is being used by another process.\n",
      "00:00:08 #43 [Debug] _3\n",
      "00:00:08 #44 [Debug] 6\n",
      "00:00:08 #45 [Debug] 7\n",
      "00:00:08 #46 [Debug] 8\n",
      "0\n",
      "0\n",
      "0\n",
      "167\n",
      "167\n",
      "167\n",
      "0\n",
      "True\n"
     ]
    }
   ],
   "source": [
    "//// test\n",
    "\n",
    "let tempFolder = createTempDirectory ()\n",
    "let path = tempFolder </> \"test.txt\"\n",
    "let newPath = tempFolder </> \"test2.txt\"\n",
    "\n",
    "let inline lockFile () = async {\n",
    "    trace Debug (fun () -> \"_1\") getLocals\n",
    "    use _ = new System.IO.FileStream (\n",
    "        path,\n",
    "        System.IO.FileMode.Open,\n",
    "        System.IO.FileAccess.ReadWrite,\n",
    "        System.IO.FileShare.None\n",
    "    )\n",
    "    trace Debug (fun () -> \"_2\") getLocals\n",
    "    do! Async.Sleep 2000\n",
    "    trace Debug (fun () -> \"_3\") getLocals\n",
    "}\n",
    "\n",
    "async {\n",
    "    trace Debug (fun () -> \"1\") getLocals\n",
    "    do! \"0\" |> writeAllTextAsync path\n",
    "    trace Debug (fun () -> \"2\") getLocals\n",
    "    let! child = lockFile () |> Async.StartChild\n",
    "    trace Debug (fun () -> \"3\") getLocals\n",
    "    do! Async.Sleep 1\n",
    "    trace Debug (fun () -> \"4\") getLocals\n",
    "    let! retries1 = path |> moveFileAsync newPath\n",
    "    trace Debug (fun () -> \"5\") getLocals\n",
    "    let! retries2 = newPath |> waitForFileAccess None\n",
    "    trace Debug (fun () -> \"6\") getLocals\n",
    "    let! text = newPath |> readAllTextAsync\n",
    "    trace Debug (fun () -> \"7\") getLocals\n",
    "    do! child\n",
    "    trace Debug (fun () -> \"8\") getLocals\n",
    "    return retries1, retries2, text\n",
    "}\n",
    "|> Async.runWithTimeout 3000\n",
    "|> function\n",
    "    | Some (retries1, retries2, text) ->\n",
    "        retries1\n",
    "        |> _isBetween\n",
    "            (if Runtime.isWindows () then 100 else 0)\n",
    "            (if Runtime.isWindows () then 150 else 0)\n",
    "\n",
    "        retries2\n",
    "        |> _isBetween\n",
    "            (if Runtime.isWindows () then 0 else 100)\n",
    "            (if Runtime.isWindows () then 0 else 200)\n",
    "\n",
    "        text |> _assertEqual \"0\"\n",
    "\n",
    "        true\n",
    "    | _ -> false\n",
    "|> _assertEqual true"
   ]
  },
  {
   "cell_type": "markdown",
   "metadata": {},
   "source": [
    "## watchDirectory"
   ]
  },
  {
   "cell_type": "code",
   "execution_count": null,
   "metadata": {
    "dotnet_interactive": {
     "language": "fsharp"
    },
    "polyglot_notebook": {
     "kernelName": "fsharp"
    }
   },
   "outputs": [],
   "source": [
    "[<RequireQualifiedAccess>]\n",
    "type FileSystemChangeType =\n",
    "    | Failure\n",
    "    | Changed\n",
    "    | Created\n",
    "    | Deleted\n",
    "    | Renamed\n",
    "\n",
    "[<RequireQualifiedAccess>]\n",
    "type FileSystemChange =\n",
    "    | Failure of exn: exn\n",
    "    | Changed of path: string * content: string option\n",
    "    | Created of path: string * content: string option\n",
    "    | Deleted of path: string\n",
    "    | Renamed of oldPath: string * (string * string option)\n",
    "\n",
    "\n",
    "let inline watchDirectoryWithFilter filter shouldReadContent path =\n",
    "    let fullPath = path |> System.IO.Path.GetFullPath\n",
    "    let getLocals () = $\"filter: {filter} / {getLocals ()}\"\n",
    "\n",
    "    let watcher =\n",
    "        new System.IO.FileSystemWatcher (\n",
    "            Path = fullPath,\n",
    "            NotifyFilter = filter,\n",
    "            EnableRaisingEvents = true,\n",
    "            IncludeSubdirectories = true\n",
    "        )\n",
    "\n",
    "    let inline getEventPath (path : string) =\n",
    "        path |> String.trim |> String.replace fullPath \"\" |> String.trimStart [| '/'; '\\\\' |]\n",
    "\n",
    "    let inline ticks () =\n",
    "        System.DateTime.UtcNow.Ticks\n",
    "\n",
    "    let changedStream =\n",
    "        AsyncSeq.subscribeEvent\n",
    "            watcher.Changed\n",
    "            (fun event ->\n",
    "                ticks (),\n",
    "                [ FileSystemChange.Changed (getEventPath event.FullPath, None) ]\n",
    "            )\n",
    "\n",
    "    let deletedStream =\n",
    "        AsyncSeq.subscribeEvent\n",
    "            watcher.Deleted\n",
    "            (fun event ->\n",
    "                ticks (),\n",
    "                [ FileSystemChange.Deleted (getEventPath event.FullPath) ]\n",
    "            )\n",
    "\n",
    "    let createdStream =\n",
    "        AsyncSeq.subscribeEvent\n",
    "            watcher.Created\n",
    "            (fun event ->\n",
    "                let path = getEventPath event.FullPath\n",
    "                ticks (), [\n",
    "                    FileSystemChange.Created (path, None)\n",
    "                    if Runtime.isWindows () then\n",
    "                        FileSystemChange.Changed (path, None)\n",
    "                ])\n",
    "\n",
    "    let renamedStream =\n",
    "        AsyncSeq.subscribeEvent\n",
    "            watcher.Renamed\n",
    "            (fun event ->\n",
    "                ticks (), [\n",
    "                    FileSystemChange.Renamed (\n",
    "                        getEventPath event.OldFullPath,\n",
    "                        (getEventPath event.FullPath, None)\n",
    "                    )\n",
    "                ]\n",
    "            )\n",
    "\n",
    "    let failureStream =\n",
    "        AsyncSeq.subscribeEvent\n",
    "            watcher.Error\n",
    "            (fun event -> ticks (), [ FileSystemChange.Failure (event.GetException ()) ])\n",
    "\n",
    "    let stream =\n",
    "        [\n",
    "            changedStream\n",
    "            deletedStream\n",
    "            createdStream\n",
    "            renamedStream\n",
    "            failureStream\n",
    "        ]\n",
    "        |> FSharp.Control.AsyncSeq.mergeAll\n",
    "        |> FSharp.Control.AsyncSeq.map (fun (t, events) ->\n",
    "            events\n",
    "            |> List.fold\n",
    "                (fun (i, events) event ->\n",
    "                    i + 1L,\n",
    "                    (t + i, event) :: events)\n",
    "                (0L, [])\n",
    "            |> snd\n",
    "            |> List.rev\n",
    "        )\n",
    "        |> FSharp.Control.AsyncSeq.concatSeq\n",
    "        |> FSharp.Control.AsyncSeq.mapAsyncParallel (fun (t, event) -> async {\n",
    "            match shouldReadContent event, event with\n",
    "            | true, FileSystemChange.Changed (path, _) ->\n",
    "                do! Async.Sleep 5\n",
    "                let! content = fullPath </> path |> readAllTextRetryAsync\n",
    "                return t, FileSystemChange.Changed (path, content)\n",
    "            | true, FileSystemChange.Created (path, _) ->\n",
    "                do! Async.Sleep 5\n",
    "                let! content = fullPath </> path |> readAllTextRetryAsync\n",
    "                return t, FileSystemChange.Created (path, content)\n",
    "            | true, FileSystemChange.Renamed (oldPath, (newPath, _)) ->\n",
    "                let! content = fullPath </> newPath |> readAllTextRetryAsync\n",
    "                return t, FileSystemChange.Renamed (oldPath, (newPath, content))\n",
    "            | _ -> return t, event\n",
    "        })\n",
    "\n",
    "    let disposable =\n",
    "        newDisposable (fun () ->\n",
    "            trace Debug (fun () -> \"watchWithFilter / Disposing watch stream\") getLocals\n",
    "            watcher.EnableRaisingEvents <- false\n",
    "            watcher.Dispose ()\n",
    "        )\n",
    "\n",
    "    stream, disposable\n",
    "\n",
    "let inline watchDirectory path =\n",
    "    watchDirectoryWithFilter\n",
    "        (System.IO.NotifyFilters.FileName\n",
    "        // ||| System.IO.NotifyFilters.DirectoryName\n",
    "        // ||| System.IO.NotifyFilters.Attributes\n",
    "        //// ||| System.IO.NotifyFilters.Size\n",
    "        ||| System.IO.NotifyFilters.LastWrite\n",
    "        //// ||| System.IO.NotifyFilters.LastAccess\n",
    "        // ||| System.IO.NotifyFilters.CreationTime\n",
    "        // ||| System.IO.NotifyFilters.Security\n",
    "        )\n",
    "        path"
   ]
  },
  {
   "cell_type": "markdown",
   "metadata": {},
   "source": [
    "### testEventsRaw (test)"
   ]
  },
  {
   "cell_type": "code",
   "execution_count": null,
   "metadata": {
    "dotnet_interactive": {
     "language": "fsharp"
    },
    "polyglot_notebook": {
     "kernelName": "fsharp"
    }
   },
   "outputs": [],
   "source": [
    "//// test\n",
    "\n",
    "let inline testEventsRaw\n",
    "    (watchFn : (_ -> bool) -> string -> FSharp.Control.AsyncSeq<int64 * FileSystemChange> * IDisposable)\n",
    "    write\n",
    "    =\n",
    "    let tempDirectory = createTempDirectory ()\n",
    "    let stream, disposable = watchFn (fun _ -> true) tempDirectory\n",
    "\n",
    "    let events = System.Collections.Concurrent.ConcurrentBag ()\n",
    "\n",
    "    let inline iter () =\n",
    "        stream\n",
    "        |> FSharp.Control.AsyncSeq.iterAsyncParallel (fun event -> async { events.Add event })\n",
    "\n",
    "    let run = async {\n",
    "        let! _ = iter () |> Async.StartChild\n",
    "        do! Async.Sleep 250\n",
    "        return! write tempDirectory\n",
    "    }\n",
    "\n",
    "    try\n",
    "        run\n",
    "        |> Async.runWithTimeout 60000\n",
    "        |> _assertEqual (Some ())\n",
    "    finally\n",
    "        disposable.Dispose ()\n",
    "        deleteDirectoryAsync tempDirectory |> Async.Ignore |> Async.RunSynchronously\n",
    "\n",
    "    let eventsLog =\n",
    "        events\n",
    "        |> Seq.toList\n",
    "        |> List.sortBy fst\n",
    "        |> List.fold\n",
    "            (fun (prev, acc) (ticks, event) ->\n",
    "                ticks, (ticks, (if prev = 0L then 0L else ticks - prev), event) :: acc\n",
    "            )\n",
    "            (0L, [])\n",
    "        |> snd\n",
    "        |> List.rev\n",
    "        |> List.map (fun (diff, n, event) ->\n",
    "            let text = $\"{n} / {diff} / {event}\"\n",
    "            if text |> String.length <= 100\n",
    "            then text\n",
    "            else text |> String.substring 0 100 |> String.replace \"\\n\" \"\"\n",
    "        )\n",
    "        |> String.concat \"\\n\"\n",
    "    let getLocals () = $\"eventsLog: \\n{eventsLog} / {getLocals ()}\"\n",
    "    trace Debug (fun () -> \"testEventsRaw\") getLocals\n",
    "\n",
    "    events\n",
    "    |> Seq.toList\n",
    "    |> List.sortBy fst\n",
    "    |> List.map snd\n",
    "    |> List.fold\n",
    "        (fun acc event ->\n",
    "            match acc, event with\n",
    "            | FileSystemChange.Changed (lastPath, Some lastContent) as lastEvent :: acc,\n",
    "                FileSystemChange.Changed (path, Some content)\n",
    "                when lastPath = path && content |> String.startsWith lastContent\n",
    "                ->\n",
    "                event :: acc\n",
    "            | _ -> event :: acc\n",
    "        )\n",
    "        []\n",
    "    |> List.rev"
   ]
  },
  {
   "cell_type": "markdown",
   "metadata": {},
   "source": [
    "#### fast (test)"
   ]
  },
  {
   "cell_type": "code",
   "execution_count": null,
   "metadata": {
    "dotnet_interactive": {
     "language": "fsharp"
    },
    "polyglot_notebook": {
     "kernelName": "fsharp"
    }
   },
   "outputs": [
    {
     "name": "stdout",
     "output_type": "stream",
     "text": [
      "FSharpOption<Unit>\n",
      "      Value: <null>\n",
      "00:00:13 #47 [Debug] watchWithFilter / Disposing watch stream / filter: FileName, LastWrite\n",
      "00:00:13 #48 [Debug] testEventsRaw / eventsLog: \n",
      "0 / 638469091929859088 / Created (\"file1.txt\", Some \"a1\")\n",
      "12174 / 638469091929871262 / Changed (\"file1.txt\", Some \"a1\")\n",
      "1447 / 638469091929872709 / Created (\"file2.txt\", Some \"a2\")\n",
      "52 / 638469091929872761 / Changed (\"file2.txt\", Some \"a2\")\n",
      "2489099 / 638469091932361860 / Changed (\"file1.txt\", Some \"b1\")\n",
      "858 / 638469091932362718 / Changed (\"file1.txt\", Some \"b1\")\n",
      "4893 / 638469091932367611 / Changed (\"file2.txt\", Some \"b2\")\n",
      "559 / 638469091932368170 / Changed (\"file2.txt\", Some \"b2\")\n",
      "2546299 / 638469091934914469 / Renamed (\"file1.txt\", (\"file_1.txt\", Some \"b1\"))\n",
      "1054 / 638469091934915523 / Renamed (\"file2.txt\", (\"file_2.txt\", Some \"b2\"))\n",
      "2491967 / 638469091937407490 / Changed (\"file_1.txt\", Some \"c1\")\n",
      "923 / 638469091937408413 / Changed (\"file_1.txt\", Some \"c1\")\n",
      "4094 / 638469091937412507 / Changed (\"file_2.txt\", Some \"c2\")\n",
      "391 / 638469091937412898 / Changed (\"file_2.txt\", Some \"c2\")\n",
      "2519102 / 638469091939932000 / Deleted \"file_1.txt\"\n",
      "1229 / 638469091939933229 / Deleted \"file_2.txt\"\n",
      "FSharpList<FileSystemChange>\n",
      "      - path: file1.txt\n",
      "        content: FSharpOption<String>\n",
      "          Value: a1\n",
      "        IsFailure: False\n",
      "        IsChanged: False\n",
      "        IsCreated: True\n",
      "        IsDeleted: False\n",
      "        IsRenamed: False\n",
      "      - path: file1.txt\n",
      "        content: FSharpOption<String>\n",
      "          Value: a1\n",
      "        IsFailure: False\n",
      "        IsChanged: True\n",
      "        IsCreated: False\n",
      "        IsDeleted: False\n",
      "        IsRenamed: False\n",
      "      - path: file2.txt\n",
      "        content: FSharpOption<String>\n",
      "          Value: a2\n",
      "        IsFailure: False\n",
      "        IsChanged: False\n",
      "        IsCreated: True\n",
      "        IsDeleted: False\n",
      "        IsRenamed: False\n",
      "      - path: file2.txt\n",
      "        content: FSharpOption<String>\n",
      "          Value: a2\n",
      "        IsFailure: False\n",
      "        IsChanged: True\n",
      "        IsCreated: False\n",
      "        IsDeleted: False\n",
      "        IsRenamed: False\n",
      "      - path: file1.txt\n",
      "        content: FSharpOption<String>\n",
      "          Value: b1\n",
      "        IsFailure: False\n",
      "        IsChanged: True\n",
      "        IsCreated: False\n",
      "        IsDeleted: False\n",
      "        IsRenamed: False\n",
      "      - path: file2.txt\n",
      "        content: FSharpOption<String>\n",
      "          Value: b2\n",
      "        IsFailure: False\n",
      "        IsChanged: True\n",
      "        IsCreated: False\n",
      "        IsDeleted: False\n",
      "        IsRenamed: False\n",
      "      - oldPath: file1.txt\n",
      "        Item2:         - file_1.txt\n",
      "        - FSharpOption<String>\n",
      "            Value: b1\n",
      "      - IsFailure: False\n",
      "        IsChanged: False\n",
      "        IsCreated: False\n",
      "        IsDeleted: False\n",
      "        IsRenamed: True\n",
      "      - oldPath: file2.txt\n",
      "        Item2:         - file_2.txt\n",
      "        - FSharpOption<String>\n",
      "            Value: b2\n",
      "      - IsFailure: False\n",
      "        IsChanged: False\n",
      "        IsCreated: False\n",
      "        IsDeleted: False\n",
      "        IsRenamed: True\n",
      "      - path: file_1.txt\n",
      "        content: FSharpOption<String>\n",
      "          Value: c1\n",
      "        IsFailure: False\n",
      "        IsChanged: True\n",
      "        IsCreated: False\n",
      "        IsDeleted: False\n",
      "        IsRenamed: False\n",
      "      - path: file_2.txt\n",
      "        content: FSharpOption<String>\n",
      "          Value: c2\n",
      "        IsFailure: False\n",
      "        IsChanged: True\n",
      "        IsCreated: False\n",
      "        IsDeleted: False\n",
      "        IsRenamed: False\n",
      "      - path: file_1.txt\n",
      "        IsFailure: False\n",
      "        IsChanged: False\n",
      "        IsCreated: False\n",
      "        IsDeleted: True\n",
      "        IsRenamed: False\n",
      "      - path: file_2.txt\n",
      "        IsFailure: False\n",
      "        IsChanged: False\n",
      "        IsCreated: False\n",
      "        IsDeleted: True\n",
      "        IsRenamed: False\n",
      "FSharpOption<Unit>\n",
      "      Value: <null>\n"
     ]
    }
   ],
   "source": [
    "//// test\n",
    "\n",
    "let inline write path = async {\n",
    "    let n = 2\n",
    "\n",
    "    for i = 1 to n do\n",
    "        do! $\"a{i}\" |> writeAllTextAsync (path </> $\"file{i}.txt\")\n",
    "\n",
    "    do! Async.Sleep 250\n",
    "\n",
    "    for i = 1 to n do\n",
    "        do! $\"b{i}\" |> writeAllTextAsync (path </> $\"file{i}.txt\")\n",
    "\n",
    "    do! Async.Sleep 250\n",
    "\n",
    "    for i = 1 to n do\n",
    "        do! path </> $\"file{i}.txt\" |> moveFileAsync (path </> $\"file_{i}.txt\") |> Async.Ignore\n",
    "\n",
    "    do! Async.Sleep 250\n",
    "\n",
    "    for i = 1 to n do\n",
    "        do! $\"c{i}\" |> writeAllTextAsync (path </> $\"file_{i}.txt\")\n",
    "\n",
    "    do! Async.Sleep 250\n",
    "\n",
    "    for i = 1 to n do\n",
    "        do! deleteFileAsync (path </> $\"file_{i}.txt\") |> Async.Ignore\n",
    "\n",
    "    do! Async.Sleep 250\n",
    "}\n",
    "\n",
    "let inline run () =\n",
    "    let events = testEventsRaw watchDirectory write\n",
    "\n",
    "    events\n",
    "    |> _sequenceEqual [\n",
    "        FileSystemChange.Created (\"file1.txt\", Some \"a1\")\n",
    "        FileSystemChange.Changed (\"file1.txt\", Some \"a1\")\n",
    "        FileSystemChange.Created (\"file2.txt\", Some \"a2\")\n",
    "        FileSystemChange.Changed (\"file2.txt\", Some \"a2\")\n",
    "\n",
    "        FileSystemChange.Changed (\"file1.txt\", Some \"b1\")\n",
    "        FileSystemChange.Changed (\"file2.txt\", Some \"b2\")\n",
    "\n",
    "        FileSystemChange.Renamed (\"file1.txt\", (\"file_1.txt\", Some \"b1\"))\n",
    "        FileSystemChange.Renamed (\"file2.txt\", (\"file_2.txt\", Some \"b2\"))\n",
    "\n",
    "        FileSystemChange.Changed (\"file_1.txt\", Some \"c1\")\n",
    "        FileSystemChange.Changed (\"file_2.txt\", Some \"c2\")\n",
    "\n",
    "        FileSystemChange.Deleted \"file_1.txt\"\n",
    "        FileSystemChange.Deleted \"file_2.txt\"\n",
    "    ]\n",
    "\n",
    "run\n",
    "|> retryFn 3\n",
    "|> _assertEqual (Some ())"
   ]
  },
  {
   "cell_type": "markdown",
   "metadata": {},
   "source": [
    "#### slow (test)"
   ]
  },
  {
   "cell_type": "code",
   "execution_count": null,
   "metadata": {
    "dotnet_interactive": {
     "language": "fsharp"
    },
    "polyglot_notebook": {
     "kernelName": "fsharp"
    }
   },
   "outputs": [
    {
     "name": "stdout",
     "output_type": "stream",
     "text": [
      "FSharpOption<Unit>\n",
      "      Value: <null>\n",
      "00:00:23 #49 [Debug] watchWithFilter / Disposing watch stream / filter: FileName, LastWrite\n",
      "00:00:25 #50 [Debug] testEventsRaw / eventsLog: \n",
      "0 / 638469091969253023 / Created  (\"file1.txt\",   Some     \"1111111111111111111111111111111111111\n",
      "2795 / 638469091969255818 / Changed  (\"file1.txt\",   Some     \"1111111111111111111111111111111111\n",
      "500 / 638469091969256318 / Changed  (\"file1.txt\",   Some     \"11111111111111111111111111111111111\n",
      "218 / 638469091969256536 / Changed  (\"file1.txt\",   Some     \"11111111111111111111111111111111111\n",
      "360 / 638469091969256896 / Changed  (\"file1.txt\",   Some     \"11111111111111111111111111111111111\n",
      "304 / 638469091969257200 / Changed  (\"file1.txt\",   Some     \"11111111111111111111111111111111111\n",
      "186 / 638469091969257386 / Changed  (\"file1.txt\",   Some     \"11111111111111111111111111111111111\n",
      "64 / 638469091969257450 / Changed  (\"file1.txt\",   Some     \"111111111111111111111111111111111111\n",
      "202 / 638469091969257652 / Changed  (\"file1.txt\",   Some     \"11111111111111111111111111111111111\n",
      "43 / 638469091969257695 / Changed  (\"file1.txt\",   Some     \"111111111111111111111111111111111111\n",
      "310 / 638469091969258005 / Changed  (\"file1.txt\",   Some     \"11111111111111111111111111111111111\n",
      "184 / 638469091969258189 / Changed  (\"file1.txt\",   Some     \"11111111111111111111111111111111111\n",
      "142 / 638469091969258331 / Changed  (\"file1.txt\",   Some     \"11111111111111111111111111111111111\n",
      "134 / 638469091969258465 / Changed  (\"file1.txt\",   Some     \"11111111111111111111111111111111111\n",
      "269 / 638469091969258734 / Changed  (\"file1.txt\",   Some     \"11111111111111111111111111111111111\n",
      "76 / 638469091969258810 / Changed  (\"file1.txt\",   Some     \"111111111111111111111111111111111111\n",
      "123 / 638469091969258933 / Changed  (\"file1.txt\",   Some     \"11111111111111111111111111111111111\n",
      "310 / 638469091969259243 / Changed  (\"file1.txt\",   Some     \"11111111111111111111111111111111111\n",
      "108 / 638469091969259351 / Changed  (\"file1.txt\",   Some     \"11111111111111111111111111111111111\n",
      "180 / 638469091969259531 / Changed  (\"file1.txt\",   Some     \"11111111111111111111111111111111111\n",
      "39 / 638469091969259570 / Changed  (\"file1.txt\",   Some     \"111111111111111111111111111111111111\n",
      "204 / 638469091969259774 / Changed  (\"file1.txt\",   Some     \"11111111111111111111111111111111111\n",
      "38 / 638469091969259812 / Changed  (\"file1.txt\",   Some     \"111111111111111111111111111111111111\n",
      "2838 / 638469091969262650 / Changed  (\"file1.txt\",   Some     \"1111111111111111111111111111111111\n",
      "85 / 638469091969262735 / Changed  (\"file1.txt\",   Some     \"111111111111111111111111111111111111\n",
      "235 / 638469091969262970 / Changed  (\"file1.txt\",   Some     \"11111111111111111111111111111111111\n",
      "240 / 638469091969263210 / Changed  (\"file1.txt\",   Some     \"11111111111111111111111111111111111\n",
      "315 / 638469091969263525 / Changed  (\"file1.txt\",   Some     \"11111111111111111111111111111111111\n",
      "54 / 638469091969263579 / Changed  (\"file1.txt\",   Some     \"111111111111111111111111111111111111\n",
      "250 / 638469091969263829 / Changed  (\"file1.txt\",   Some     \"11111111111111111111111111111111111\n",
      "49 / 638469091969263878 / Changed  (\"file1.txt\",   Some     \"111111111111111111111111111111111111\n",
      "189 / 638469091969264067 / Changed  (\"file1.txt\",   Some     \"11111111111111111111111111111111111\n",
      "42 / 638469091969264109 / Changed  (\"file1.txt\",   Some     \"111111111111111111111111111111111111\n",
      "182 / 638469091969264291 / Changed  (\"file1.txt\",   Some     \"11111111111111111111111111111111111\n",
      "45 / 638469091969264336 / Changed  (\"file1.txt\",   Some     \"111111111111111111111111111111111111\n",
      "291 / 638469091969264627 / Changed  (\"file1.txt\",   Some     \"11111111111111111111111111111111111\n",
      "263 / 638469091969264890 / Changed  (\"file1.txt\",   Some     \"11111111111111111111111111111111111\n",
      "46 / 638469091969264936 / Changed  (\"file1.txt\",   Some     \"111111111111111111111111111111111111\n",
      "236 / 638469091969265172 / Changed  (\"file1.txt\",   Some     \"11111111111111111111111111111111111\n",
      "71 / 638469091969265243 / Changed  (\"file1.txt\",   Some     \"111111111111111111111111111111111111\n",
      "224 / 638469091969265467 / Changed  (\"file1.txt\",   Some     \"11111111111111111111111111111111111\n",
      "255 / 638469091969265722 / Changed  (\"file1.txt\",   Some     \"11111111111111111111111111111111111\n",
      "43 / 638469091969265765 / Changed  (\"file1.txt\",   Some     \"111111111111111111111111111111111111\n",
      "174 / 638469091969265939 / Changed  (\"file1.txt\",   Some     \"11111111111111111111111111111111111\n",
      "153 / 638469091969266092 / Changed  (\"file1.txt\",   Some     \"11111111111111111111111111111111111\n",
      "106 / 638469091969266198 / Changed  (\"file1.txt\",   Some     \"11111111111111111111111111111111111\n",
      "180 / 638469091969266378 / Changed  (\"file1.txt\",   Some     \"11111111111111111111111111111111111\n",
      "40 / 638469091969266418 / Changed  (\"file1.txt\",   Some     \"111111111111111111111111111111111111\n",
      "3450 / 638469091969269868 / Changed  (\"file1.txt\",   Some     \"1111111111111111111111111111111111\n",
      "8376 / 638469091969278244 / Changed  (\"file1.txt\",   Some     \"1111111111111111111111111111111111\n",
      "28484 / 638469091969306728 / Created  (\"file2.txt\",   Some     \"222222222222222222222222222222222\n",
      "169 / 638469091969306897 / Changed  (\"file2.txt\",   Some     \"22222222222222222222222222222222222\n",
      "15011518 / 638469091984318415 / Changed  (\"file1.txt\",   Some     \"111111111111111111111111111111\n",
      "240 / 638469091984318655 / Changed  (\"file1.txt\",   Some     \"11111111111111111111111111111111111\n",
      "1172 / 638469091984319827 / Changed  (\"file1.txt\",   Some     \"1111111111111111111111111111111111\n",
      "845 / 638469091984320672 / Changed  (\"file1.txt\",   Some     \"11111111111111111111111111111111111\n",
      "189 / 638469091984320861 / Changed  (\"file1.txt\",   Some     \"11111111111111111111111111111111111\n",
      "226 / 638469091984321087 / Changed  (\"file1.txt\",   Some     \"11111111111111111111111111111111111\n",
      "190 / 638469091984321277 / Changed  (\"file1.txt\",   Some     \"11111111111111111111111111111111111\n",
      "195 / 638469091984321472 / Changed  (\"file1.txt\",   Some     \"11111111111111111111111111111111111\n",
      "327 / 638469091984321799 / Changed  (\"file1.txt\",   Some     \"11111111111111111111111111111111111\n",
      "203 / 638469091984322002 / Changed  (\"file1.txt\",   Some     \"11111111111111111111111111111111111\n",
      "406 / 638469091984322408 / Changed  (\"file1.txt\",   Some     \"11111111111111111111111111111111111\n",
      "98 / 638469091984322506 / Changed  (\"file1.txt\",   Some     \"111111111111111111111111111111111111\n",
      "188 / 638469091984322694 / Changed  (\"file1.txt\",   Some     \"11111111111111111111111111111111111\n",
      "420 / 638469091984323114 / Changed  (\"file1.txt\",   Some     \"11111111111111111111111111111111111\n",
      "268 / 638469091984323382 / Changed  (\"file1.txt\",   Some     \"11111111111111111111111111111111111\n",
      "48 / 638469091984323430 / Changed  (\"file1.txt\",   Some     \"111111111111111111111111111111111111\n",
      "188 / 638469091984323618 / Changed  (\"file1.txt\",   Some     \"11111111111111111111111111111111111\n",
      "46 / 638469091984323664 / Changed  (\"file1.txt\",   Some     \"111111111111111111111111111111111111\n",
      "193 / 638469091984323857 / Changed  (\"file1.txt\",   Some     \"11111111111111111111111111111111111\n",
      "192 / 638469091984324049 / Changed  (\"file1.txt\",   Some     \"11111111111111111111111111111111111\n",
      "40 / 638469091984324089 / Changed  (\"file1.txt\",   Some     \"111111111111111111111111111111111111\n",
      "408 / 638469091984324497 / Changed  (\"file1.txt\",   Some     \"11111111111111111111111111111111111\n",
      "193 / 638469091984324690 / Changed  (\"file1.txt\",   Some     \"11111111111111111111111111111111111\n",
      "49 / 638469091984324739 / Changed  (\"file1.txt\",   Some     \"111111111111111111111111111111111111\n",
      "233 / 638469091984324972 / Changed  (\"file1.txt\",   Some     \"11111111111111111111111111111111111\n",
      "47 / 638469091984325019 / Changed  (\"file1.txt\",   Some     \"111111111111111111111111111111111111\n",
      "593 / 638469091984325612 / Changed  (\"file1.txt\",   Some     \"11111111111111111111111111111111111\n",
      "55 / 638469091984325667 / Changed  (\"file1.txt\",   Some     \"111111111111111111111111111111111111\n",
      "291 / 638469091984325958 / Changed  (\"file1.txt\",   Some     \"11111111111111111111111111111111111\n",
      "182 / 638469091984326140 / Changed  (\"file1.txt\",   Some     \"11111111111111111111111111111111111\n",
      "161 / 638469091984326301 / Changed  (\"file1.txt\",   Some     \"11111111111111111111111111111111111\n",
      "350 / 638469091984326651 / Changed  (\"file1.txt\",   Some     \"11111111111111111111111111111111111\n",
      "217 / 638469091984326868 / Changed  (\"file1.txt\",   Some     \"11111111111111111111111111111111111\n",
      "52 / 638469091984326920 / Changed  (\"file1.txt\",   Some     \"111111111111111111111111111111111111\n",
      "355 / 638469091984327275 / Changed  (\"file1.txt\",   Some     \"11111111111111111111111111111111111\n",
      "265 / 638469091984327540 / Changed  (\"file1.txt\",   Some     \"11111111111111111111111111111111111\n",
      "246 / 638469091984327786 / Changed  (\"file1.txt\",   Some     \"11111111111111111111111111111111111\n",
      "48 / 638469091984327834 / Changed  (\"file1.txt\",   Some     \"111111111111111111111111111111111111\n",
      "328 / 638469091984328162 / Changed  (\"file1.txt\",   Some     \"11111111111111111111111111111111111\n",
      "55 / 638469091984328217 / Changed  (\"file1.txt\",   Some     \"111111111111111111111111111111111111\n",
      "180 / 638469091984328397 / Changed  (\"file1.txt\",   Some     \"11111111111111111111111111111111111\n",
      "62 / 638469091984328459 / Changed  (\"file1.txt\",   Some     \"111111111111111111111111111111111111\n",
      "254 / 638469091984328713 / Changed  (\"file1.txt\",   Some     \"11111111111111111111111111111111111\n",
      "248 / 638469091984328961 / Changed  (\"file1.txt\",   Some     \"11111111111111111111111111111111111\n",
      "50 / 638469091984329011 / Changed  (\"file1.txt\",   Some     \"111111111111111111111111111111111111\n",
      "188 / 638469091984329199 / Changed  (\"file1.txt\",   Some     \"11111111111111111111111111111111111\n",
      "165 / 638469091984329364 / Changed  (\"file1.txt\",   Some     \"11111111111111111111111111111111111\n",
      "109 / 638469091984329473 / Changed  (\"file1.txt\",   Some     \"11111111111111111111111111111111111\n",
      "385 / 638469091984329858 / Changed  (\"file1.txt\",   Some     \"11111111111111111111111111111111111\n",
      "278 / 638469091984330136 / Changed  (\"file1.txt\",   Some     \"11111111111111111111111111111111111\n",
      "210 / 638469091984330346 / Changed  (\"file1.txt\",   Some     \"11111111111111111111111111111111111\n",
      "126 / 638469091984330472 / Changed  (\"file1.txt\",   Some     \"11111111111111111111111111111111111\n",
      "186 / 638469091984330658 / Changed  (\"file1.txt\",   Some     \"11111111111111111111111111111111111\n",
      "48 / 638469091984330706 / Changed  (\"file1.txt\",   Some     \"111111111111111111111111111111111111\n",
      "195 / 638469091984330901 / Changed  (\"file1.txt\",   Some     \"11111111111111111111111111111111111\n",
      "51 / 638469091984330952 / Changed  (\"file1.txt\",   Some     \"111111111111111111111111111111111111\n",
      "268 / 638469091984331220 / Changed  (\"file1.txt\",   Some     \"11111111111111111111111111111111111\n",
      "42 / 638469091984331262 / Changed  (\"file1.txt\",   Some     \"111111111111111111111111111111111111\n",
      "260 / 638469091984331522 / Changed  (\"file1.txt\",   Some     \"11111111111111111111111111111111111\n",
      "282 / 638469091984331804 / Changed  (\"file1.txt\",   Some     \"11111111111111111111111111111111111\n",
      "256 / 638469091984332060 / Changed  (\"file1.txt\",   Some     \"11111111111111111111111111111111111\n",
      "215 / 638469091984332275 / Changed  (\"file1.txt\",   Some     \"11111111111111111111111111111111111\n",
      "104 / 638469091984332379 / Changed  (\"file1.txt\",   Some     \"11111111111111111111111111111111111\n",
      "220 / 638469091984332599 / Changed  (\"file1.txt\",   Some     \"11111111111111111111111111111111111\n",
      "190 / 638469091984332789 / Changed  (\"file1.txt\",   Some     \"11111111111111111111111111111111111\n",
      "147 / 638469091984332936 / Changed  (\"file1.txt\",   Some     \"11111111111111111111111111111111111\n",
      "164 / 638469091984333100 / Changed  (\"file1.txt\",   Some     \"11111111111111111111111111111111111\n",
      "41 / 638469091984333141 / Changed  (\"file1.txt\",   Some     \"111111111111111111111111111111111111\n",
      "245 / 638469091984333386 / Changed  (\"file1.txt\",   Some     \"11111111111111111111111111111111111\n",
      "197 / 638469091984333583 / Changed  (\"file1.txt\",   Some     \"11111111111111111111111111111111111\n",
      "151 / 638469091984333734 / Changed  (\"file1.txt\",   Some     \"11111111111111111111111111111111111\n",
      "99 / 638469091984333833 / Changed  (\"file1.txt\",   Some     \"111111111111111111111111111111111111\n",
      "225 / 638469091984334058 / Changed  (\"file1.txt\",   Some     \"11111111111111111111111111111111111\n",
      "95 / 638469091984334153 / Changed  (\"file1.txt\",   Some     \"111111111111111111111111111111111111\n",
      "234 / 638469091984334387 / Changed  (\"file1.txt\",   Some     \"11111111111111111111111111111111111\n",
      "148 / 638469091984334535 / Changed  (\"file1.txt\",   Some     \"11111111111111111111111111111111111\n",
      "145 / 638469091984334680 / Changed  (\"file1.txt\",   Some     \"11111111111111111111111111111111111\n",
      "205 / 638469091984334885 / Changed  (\"file1.txt\",   Some     \"11111111111111111111111111111111111\n",
      "20 / 638469091984334905 / Changed  (\"file1.txt\",   Some     \"111111111111111111111111111111111111\n",
      "221 / 638469091984335126 / Changed  (\"file1.txt\",   Some     \"11111111111111111111111111111111111\n",
      "40 / 638469091984335166 / Changed  (\"file1.txt\",   Some     \"111111111111111111111111111111111111\n",
      "245 / 638469091984335411 / Changed  (\"file1.txt\",   Some     \"11111111111111111111111111111111111\n",
      "39 / 638469091984335450 / Changed  (\"file1.txt\",   Some     \"111111111111111111111111111111111111\n",
      "283 / 638469091984335733 / Changed  (\"file1.txt\",   Some     \"11111111111111111111111111111111111\n",
      "139 / 638469091984335872 / Changed  (\"file1.txt\",   Some     \"11111111111111111111111111111111111\n",
      "364 / 638469091984336236 / Changed  (\"file1.txt\",   Some     \"11111111111111111111111111111111111\n",
      "175 / 638469091984336411 / Changed  (\"file1.txt\",   Some     \"11111111111111111111111111111111111\n",
      "225 / 638469091984336636 / Changed  (\"file1.txt\",   Some     \"11111111111111111111111111111111111\n",
      "153 / 638469091984336789 / Changed  (\"file1.txt\",   Some     \"11111111111111111111111111111111111\n",
      "250 / 638469091984337039 / Changed  (\"file1.txt\",   Some     \"11111111111111111111111111111111111\n",
      "157 / 638469091984337196 / Changed  (\"file1.txt\",   Some     \"11111111111111111111111111111111111\n",
      "160 / 638469091984337356 / Changed  (\"file1.txt\",   Some     \"11111111111111111111111111111111111\n",
      "158 / 638469091984337514 / Changed  (\"file1.txt\",   Some     \"11111111111111111111111111111111111\n",
      "99 / 638469091984337613 / Changed  (\"file1.txt\",   Some     \"111111111111111111111111111111111111\n",
      "155 / 638469091984337768 / Changed  (\"file1.txt\",   Some     \"11111111111111111111111111111111111\n",
      "152 / 638469091984337920 / Changed  (\"file1.txt\",   Some     \"11111111111111111111111111111111111\n",
      "142 / 638469091984338062 / Changed  (\"file1.txt\",   Some     \"11111111111111111111111111111111111\n",
      "131 / 638469091984338193 / Changed  (\"file1.txt\",   Some     \"11111111111111111111111111111111111\n",
      "141 / 638469091984338334 / Changed  (\"file1.txt\",   Some     \"11111111111111111111111111111111111\n",
      "150 / 638469091984338484 / Changed  (\"file1.txt\",   Some     \"11111111111111111111111111111111111\n",
      "200 / 638469091984338684 / Changed  (\"file1.txt\",   Some     \"11111111111111111111111111111111111\n",
      "37 / 638469091984338721 / Changed  (\"file1.txt\",   Some     \"111111111111111111111111111111111111\n",
      "268 / 638469091984338989 / Changed  (\"file1.txt\",   Some     \"11111111111111111111111111111111111\n",
      "266 / 638469091984339255 / Changed  (\"file1.txt\",   Some     \"11111111111111111111111111111111111\n",
      "294 / 638469091984339549 / Changed  (\"file1.txt\",   Some     \"11111111111111111111111111111111111\n",
      "174 / 638469091984339723 / Changed  (\"file1.txt\",   Some     \"11111111111111111111111111111111111\n",
      "187 / 638469091984339910 / Changed  (\"file1.txt\",   Some     \"11111111111111111111111111111111111\n",
      "187 / 638469091984340097 / Changed  (\"file1.txt\",   Some     \"11111111111111111111111111111111111\n",
      "133 / 638469091984340230 / Changed  (\"file1.txt\",   Some     \"11111111111111111111111111111111111\n",
      "157 / 638469091984340387 / Changed  (\"file1.txt\",   Some     \"11111111111111111111111111111111111\n",
      "153 / 638469091984340540 / Changed  (\"file1.txt\",   Some     \"11111111111111111111111111111111111\n",
      "37 / 638469091984340577 / Changed  (\"file1.txt\",   Some     \"111111111111111111111111111111111111\n",
      "260 / 638469091984340837 / Changed  (\"file1.txt\",   Some     \"11111111111111111111111111111111111\n",
      "39 / 638469091984340876 / Changed  (\"file1.txt\",   Some     \"111111111111111111111111111111111111\n",
      "296 / 638469091984341172 / Changed  (\"file1.txt\",   Some     \"11111111111111111111111111111111111\n",
      "211 / 638469091984341383 / Changed  (\"file1.txt\",   Some     \"11111111111111111111111111111111111\n",
      "373 / 638469091984341756 / Changed  (\"file1.txt\",   Some     \"11111111111111111111111111111111111\n",
      "33511 / 638469091984375267 / Changed  (\"file2.txt\",   Some     \"222222222222222222222222222222222\n",
      "129 / 638469091984375396 / Changed  (\"file2.txt\",   Some     \"22222222222222222222222222222222222\n",
      "536 / 638469091984375932 / Changed  (\"file2.txt\",   Some     \"22222222222222222222222222222222222\n",
      "148 / 638469091984376080 / Changed  (\"file2.txt\",   Some     \"22222222222222222222222222222222222\n",
      "135 / 638469091984376215 / Changed  (\"file2.txt\",   Some     \"22222222222222222222222222222222222\n",
      "183 / 638469091984376398 / Changed  (\"file2.txt\",   Some     \"22222222222222222222222222222222222\n",
      "152 / 638469091984376550 / Changed  (\"file2.txt\",   Some     \"22222222222222222222222222222222222\n",
      "138 / 638469091984376688 / Changed  (\"file2.txt\",   Some     \"22222222222222222222222222222222222\n",
      "306 / 638469091984376994 / Changed  (\"file2.txt\",   Some     \"22222222222222222222222222222222222\n",
      "253 / 638469091984377247 / Changed  (\"file2.txt\",   Some     \"22222222222222222222222222222222222\n",
      "153 / 638469091984377400 / Changed  (\"file2.txt\",   Some     \"22222222222222222222222222222222222\n",
      "37 / 638469091984377437 / Changed  (\"file2.txt\",   Some     \"222222222222222222222222222222222222\n",
      "271 / 638469091984377708 / Changed  (\"file2.txt\",   Some     \"22222222222222222222222222222222222\n",
      "45 / 638469091984377753 / Changed  (\"file2.txt\",   Some     \"222222222222222222222222222222222222\n",
      "214 / 638469091984377967 / Changed  (\"file2.txt\",   Some     \"22222222222222222222222222222222222\n",
      "103 / 638469091984378070 / Changed  (\"file2.txt\",   Some     \"22222222222222222222222222222222222\n",
      "207 / 638469091984378277 / Changed  (\"file2.txt\",   Some     \"22222222222222222222222222222222222\n",
      "141 / 638469091984378418 / Changed  (\"file2.txt\",   Some     \"22222222222222222222222222222222222\n",
      "143 / 638469091984378561 / Changed  (\"file2.txt\",   Some     \"22222222222222222222222222222222222\n",
      "228 / 638469091984378789 / Changed  (\"file2.txt\",   Some     \"22222222222222222222222222222222222\n",
      "24 / 638469091984378813 / Changed  (\"file2.txt\",   Some     \"222222222222222222222222222222222222\n",
      "159 / 638469091984378972 / Changed  (\"file2.txt\",   Some     \"22222222222222222222222222222222222\n",
      "130 / 638469091984379102 / Changed  (\"file2.txt\",   Some     \"22222222222222222222222222222222222\n",
      "235 / 638469091984379337 / Changed  (\"file2.txt\",   Some     \"22222222222222222222222222222222222\n",
      "40 / 638469091984379377 / Changed  (\"file2.txt\",   Some     \"222222222222222222222222222222222222\n",
      "253 / 638469091984379630 / Changed  (\"file2.txt\",   Some     \"22222222222222222222222222222222222\n",
      "43 / 638469091984379673 / Changed  (\"file2.txt\",   Some     \"222222222222222222222222222222222222\n",
      "226 / 638469091984379899 / Changed  (\"file2.txt\",   Some     \"22222222222222222222222222222222222\n",
      "141 / 638469091984380040 / Changed  (\"file2.txt\",   Some     \"22222222222222222222222222222222222\n",
      "295 / 638469091984380335 / Changed  (\"file2.txt\",   Some     \"22222222222222222222222222222222222\n",
      "247 / 638469091984380582 / Changed  (\"file2.txt\",   Some     \"22222222222222222222222222222222222\n",
      "215 / 638469091984380797 / Changed  (\"file2.txt\",   Some     \"22222222222222222222222222222222222\n",
      "39 / 638469091984380836 / Changed  (\"file2.txt\",   Some     \"222222222222222222222222222222222222\n",
      "250 / 638469091984381086 / Changed  (\"file2.txt\",   Some     \"22222222222222222222222222222222222\n",
      "134 / 638469091984381220 / Changed  (\"file2.txt\",   Some     \"22222222222222222222222222222222222\n",
      "220 / 638469091984381440 / Changed  (\"file2.txt\",   Some     \"22222222222222222222222222222222222\n",
      "39 / 638469091984381479 / Changed  (\"file2.txt\",   Some     \"222222222222222222222222222222222222\n",
      "272 / 638469091984381751 / Changed  (\"file2.txt\",   Some     \"22222222222222222222222222222222222\n",
      "39 / 638469091984381790 / Changed  (\"file2.txt\",   Some     \"222222222222222222222222222222222222\n",
      "334 / 638469091984382124 / Changed  (\"file2.txt\",   Some     \"22222222222222222222222222222222222\n",
      "166 / 638469091984382290 / Changed  (\"file2.txt\",   Some     \"22222222222222222222222222222222222\n",
      "100 / 638469091984382390 / Changed  (\"file2.txt\",   Some     \"22222222222222222222222222222222222\n",
      "226 / 638469091984382616 / Changed  (\"file2.txt\",   Some     \"22222222222222222222222222222222222\n",
      "97 / 638469091984382713 / Changed  (\"file2.txt\",   Some     \"222222222222222222222222222222222222\n",
      "235 / 638469091984382948 / Changed  (\"file2.txt\",   Some     \"22222222222222222222222222222222222\n",
      "150 / 638469091984383098 / Changed  (\"file2.txt\",   Some     \"22222222222222222222222222222222222\n",
      "157 / 638469091984383255 / Changed  (\"file2.txt\",   Some     \"22222222222222222222222222222222222\n",
      "35 / 638469091984383290 / Changed  (\"file2.txt\",   Some     \"222222222222222222222222222222222222\n",
      "256 / 638469091984383546 / Changed  (\"file2.txt\",   Some     \"22222222222222222222222222222222222\n",
      "171 / 638469091984383717 / Changed  (\"file2.txt\",   Some     \"22222222222222222222222222222222222\n",
      "183 / 638469091984383900 / Changed  (\"file2.txt\",   Some     \"22222222222222222222222222222222222\n",
      "37 / 638469091984383937 / Changed  (\"file2.txt\",   Some     \"222222222222222222222222222222222222\n",
      "259 / 638469091984384196 / Changed  (\"file2.txt\",   Some     \"22222222222222222222222222222222222\n",
      "39 / 638469091984384235 / Changed  (\"file2.txt\",   Some     \"222222222222222222222222222222222222\n",
      "332 / 638469091984384567 / Changed  (\"file2.txt\",   Some     \"22222222222222222222222222222222222\n",
      "165 / 638469091984384732 / Changed  (\"file2.txt\",   Some     \"22222222222222222222222222222222222\n",
      "246 / 638469091984384978 / Changed  (\"file2.txt\",   Some     \"22222222222222222222222222222222222\n",
      "155 / 638469091984385133 / Changed  (\"file2.txt\",   Some     \"22222222222222222222222222222222222\n",
      "152 / 638469091984385285 / Changed  (\"file2.txt\",   Some     \"22222222222222222222222222222222222\n",
      "52 / 638469091984385337 / Changed  (\"file2.txt\",   Some     \"222222222222222222222222222222222222\n",
      "254 / 638469091984385591 / Changed  (\"file2.txt\",   Some     \"22222222222222222222222222222222222\n",
      "141 / 638469091984385732 / Changed  (\"file2.txt\",   Some     \"22222222222222222222222222222222222\n",
      "144 / 638469091984385876 / Changed  (\"file2.txt\",   Some     \"22222222222222222222222222222222222\n",
      "102 / 638469091984385978 / Changed  (\"file2.txt\",   Some     \"22222222222222222222222222222222222\n",
      "215 / 638469091984386193 / Changed  (\"file2.txt\",   Some     \"22222222222222222222222222222222222\n",
      "132 / 638469091984386325 / Changed  (\"file2.txt\",   Some     \"22222222222222222222222222222222222\n",
      "230 / 638469091984386555 / Changed  (\"file2.txt\",   Some     \"22222222222222222222222222222222222\n",
      "38 / 638469091984386593 / Changed  (\"file2.txt\",   Some     \"222222222222222222222222222222222222\n",
      "260 / 638469091984386853 / Changed  (\"file2.txt\",   Some     \"22222222222222222222222222222222222\n",
      "108 / 638469091984386961 / Changed  (\"file2.txt\",   Some     \"22222222222222222222222222222222222\n",
      "218 / 638469091984387179 / Changed  (\"file2.txt\",   Some     \"22222222222222222222222222222222222\n",
      "38 / 638469091984387217 / Changed  (\"file2.txt\",   Some     \"222222222222222222222222222222222222\n",
      "292 / 638469091984387509 / Changed  (\"file2.txt\",   Some     \"22222222222222222222222222222222222\n",
      "50 / 638469091984387559 / Changed  (\"file2.txt\",   Some     \"222222222222222222222222222222222222\n",
      "217 / 638469091984387776 / Changed  (\"file2.txt\",   Some     \"22222222222222222222222222222222222\n",
      "175 / 638469091984387951 / Changed  (\"file2.txt\",   Some     \"22222222222222222222222222222222222\n",
      "87 / 638469091984388038 / Changed  (\"file2.txt\",   Some     \"222222222222222222222222222222222222\n",
      "245 / 638469091984388283 / Changed  (\"file2.txt\",   Some     \"22222222222222222222222222222222222\n",
      "41 / 638469091984388324 / Changed  (\"file2.txt\",   Some     \"222222222222222222222222222222222222\n",
      "220 / 638469091984388544 / Changed  (\"file2.txt\",   Some     \"22222222222222222222222222222222222\n",
      "174 / 638469091984388718 / Changed  (\"file2.txt\",   Some     \"22222222222222222222222222222222222\n",
      "201 / 638469091984388919 / Changed  (\"file2.txt\",   Some     \"22222222222222222222222222222222222\n",
      "40 / 638469091984388959 / Changed  (\"file2.txt\",   Some     \"222222222222222222222222222222222222\n",
      "260 / 638469091984389219 / Changed  (\"file2.txt\",   Some     \"22222222222222222222222222222222222\n",
      "41 / 638469091984389260 / Changed  (\"file2.txt\",   Some     \"222222222222222222222222222222222222\n",
      "257 / 638469091984389517 / Changed  (\"file2.txt\",   Some     \"22222222222222222222222222222222222\n",
      "289 / 638469091984389806 / Changed  (\"file2.txt\",   Some     \"22222222222222222222222222222222222\n",
      "153 / 638469091984389959 / Changed  (\"file2.txt\",   Some     \"22222222222222222222222222222222222\n",
      "215 / 638469091984390174 / Changed  (\"file2.txt\",   Some     \"22222222222222222222222222222222222\n",
      "102 / 638469091984390276 / Changed  (\"file2.txt\",   Some     \"22222222222222222222222222222222222\n",
      "237 / 638469091984390513 / Changed  (\"file2.txt\",   Some     \"22222222222222222222222222222222222\n",
      "177 / 638469091984390690 / Changed  (\"file2.txt\",   Some     \"22222222222222222222222222222222222\n",
      "179 / 638469091984390869 / Changed  (\"file2.txt\",   Some     \"22222222222222222222222222222222222\n",
      "41 / 638469091984390910 / Changed  (\"file2.txt\",   Some     \"222222222222222222222222222222222222\n",
      "271 / 638469091984391181 / Changed  (\"file2.txt\",   Some     \"22222222222222222222222222222222222\n",
      "42 / 638469091984391223 / Changed  (\"file2.txt\",   Some     \"222222222222222222222222222222222222\n",
      "233 / 638469091984391456 / Changed  (\"file2.txt\",   Some     \"22222222222222222222222222222222222\n",
      "145 / 638469091984391601 / Changed  (\"file2.txt\",   Some     \"22222222222222222222222222222222222\n",
      "148 / 638469091984391749 / Changed  (\"file2.txt\",   Some     \"22222222222222222222222222222222222\n",
      "37 / 638469091984391786 / Changed  (\"file2.txt\",   Some     \"222222222222222222222222222222222222\n",
      "286 / 638469091984392072 / Changed  (\"file2.txt\",   Some     \"22222222222222222222222222222222222\n",
      "38 / 638469091984392110 / Changed  (\"file2.txt\",   Some     \"222222222222222222222222222222222222\n",
      "293 / 638469091984392403 / Changed  (\"file2.txt\",   Some     \"22222222222222222222222222222222222\n",
      "213 / 638469091984392616 / Changed  (\"file2.txt\",   Some     \"22222222222222222222222222222222222\n",
      "21 / 638469091984392637 / Changed  (\"file2.txt\",   Some     \"222222222222222222222222222222222222\n",
      "240 / 638469091984392877 / Changed  (\"file2.txt\",   Some     \"22222222222222222222222222222222222\n",
      "134 / 638469091984393011 / Changed  (\"file2.txt\",   Some     \"22222222222222222222222222222222222\n",
      "226 / 638469091984393237 / Changed  (\"file2.txt\",   Some     \"22222222222222222222222222222222222\n",
      "38 / 638469091984393275 / Changed  (\"file2.txt\",   Some     \"222222222222222222222222222222222222\n",
      "240 / 638469091984393515 / Changed  (\"file2.txt\",   Some     \"22222222222222222222222222222222222\n",
      "44 / 638469091984393559 / Changed  (\"file2.txt\",   Some     \"222222222222222222222222222222222222\n",
      "228 / 638469091984393787 / Changed  (\"file2.txt\",   Some     \"22222222222222222222222222222222222\n",
      "139 / 638469091984393926 / Changed  (\"file2.txt\",   Some     \"22222222222222222222222222222222222\n",
      "298 / 638469091984394224 / Changed  (\"file2.txt\",   Some     \"22222222222222222222222222222222222\n",
      "262 / 638469091984394486 / Changed  (\"file2.txt\",   Some     \"22222222222222222222222222222222222\n",
      "211 / 638469091984394697 / Changed  (\"file2.txt\",   Some     \"22222222222222222222222222222222222\n",
      "235 / 638469091984394932 / Changed  (\"file2.txt\",   Some     \"22222222222222222222222222222222222\n",
      "155 / 638469091984395087 / Changed  (\"file2.txt\",   Some     \"22222222222222222222222222222222222\n",
      "203 / 638469091984395290 / Changed  (\"file2.txt\",   Some     \"22222222222222222222222222222222222\n",
      "39 / 638469091984395329 / Changed  (\"file2.txt\",   Some     \"222222222222222222222222222222222222\n",
      "231 / 638469091984395560 / Changed  (\"file2.txt\",   Some     \"22222222222222222222222222222222222\n",
      "132 / 638469091984395692 / Changed  (\"file2.txt\",   Some     \"22222222222222222222222222222222222\n",
      "237 / 638469091984395929 / Changed  (\"file2.txt\",   Some     \"22222222222222222222222222222222222\n",
      "40 / 638469091984395969 / Changed  (\"file2.txt\",   Some     \"222222222222222222222222222222222222\n",
      "96 / 638469091984396065 / Changed  (\"file2.txt\",   Some     \"222222222222222222222222222222222222\n",
      "15043951 / 638469091999440016 / Renamed  (\"file1.txt\",   (\"file_1.txt\",    Some      \"1111111111\n",
      "390 / 638469091999440406 / Renamed  (\"file2.txt\",   (\"file_2.txt\",    Some      \"222222222222222\n",
      "15064041 / 638469092014504447 / Changed  (\"file_1.txt\",   Some     \"11111111111111111111111111111\n",
      "241 / 638469092014504688 / Changed  (\"file_1.txt\",   Some     \"1111111111111111111111111111111111\n",
      "914 / 638469092014505602 / Changed  (\"file_1.txt\",   Some     \"1111111111111111111111111111111111\n",
      "405 / 638469092014506007 / Changed  (\"file_1.txt\",   Some     \"1111111111111111111111111111111111\n",
      "307 / 638469092014506314 / Changed  (\"file_1.txt\",   Some     \"1111111111111111111111111111111111\n",
      "4304 / 638469092014510618 / Changed  (\"file_1.txt\",   Some     \"111111111111111111111111111111111\n",
      "94 / 638469092014510712 / Changed  (\"file_1.txt\",   Some     \"11111111111111111111111111111111111\n",
      "41 / 638469092014510753 / Changed  (\"file_1.txt\",   Some     \"11111111111111111111111111111111111\n",
      "315 / 638469092014511068 / Changed  (\"file_1.txt\",   Some     \"1111111111111111111111111111111111\n",
      "257 / 638469092014511325 / Changed  (\"file_1.txt\",   Some     \"1111111111111111111111111111111111\n",
      "3076 / 638469092014514401 / Changed  (\"file_1.txt\",   Some     \"111111111111111111111111111111111\n",
      "76 / 638469092014514477 / Changed  (\"file_1.txt\",   Some     \"11111111111111111111111111111111111\n",
      "181 / 638469092014514658 / Changed  (\"file_1.txt\",   Some     \"1111111111111111111111111111111111\n",
      "230 / 638469092014514888 / Changed  (\"file_1.txt\",   Some     \"1111111111111111111111111111111111\n",
      "35 / 638469092014514923 / Changed  (\"file_1.txt\",   Some     \"11111111111111111111111111111111111\n",
      "1773 / 638469092014516696 / Changed  (\"file_1.txt\",   Some     \"111111111111111111111111111111111\n",
      "134 / 638469092014516830 / Changed  (\"file_1.txt\",   Some     \"1111111111111111111111111111111111\n",
      "256 / 638469092014517086 / Changed  (\"file_1.txt\",   Some     \"1111111111111111111111111111111111\n",
      "163 / 638469092014517249 / Changed  (\"file_1.txt\",   Some     \"1111111111111111111111111111111111\n",
      "153 / 638469092014517402 / Changed  (\"file_1.txt\",   Some     \"1111111111111111111111111111111111\n",
      "160 / 638469092014517562 / Changed  (\"file_1.txt\",   Some     \"1111111111111111111111111111111111\n",
      "167 / 638469092014517729 / Changed  (\"file_1.txt\",   Some     \"1111111111111111111111111111111111\n",
      "641 / 638469092014518370 / Changed  (\"file_1.txt\",   Some     \"1111111111111111111111111111111111\n",
      "48 / 638469092014518418 / Changed  (\"file_1.txt\",   Some     \"11111111111111111111111111111111111\n",
      "128 / 638469092014518546 / Changed  (\"file_1.txt\",   Some     \"1111111111111111111111111111111111\n",
      "163 / 638469092014518709 / Changed  (\"file_1.txt\",   Some     \"1111111111111111111111111111111111\n",
      "921 / 638469092014519630 / Changed  (\"file_1.txt\",   Some     \"1111111111111111111111111111111111\n",
      "48 / 638469092014519678 / Changed  (\"file_1.txt\",   Some     \"11111111111111111111111111111111111\n",
      "157 / 638469092014519835 / Changed  (\"file_1.txt\",   Some     \"1111111111111111111111111111111111\n",
      "166 / 638469092014520001 / Changed  (\"file_1.txt\",   Some     \"1111111111111111111111111111111111\n",
      "154 / 638469092014520155 / Changed  (\"file_1.txt\",   Some     \"1111111111111111111111111111111111\n",
      "198 / 638469092014520353 / Changed  (\"file_1.txt\",   Some     \"1111111111111111111111111111111111\n",
      "187 / 638469092014520540 / Changed  (\"file_1.txt\",   Some     \"1111111111111111111111111111111111\n",
      "109 / 638469092014520649 / Changed  (\"file_1.txt\",   Some     \"1111111111111111111111111111111111\n",
      "156 / 638469092014520805 / Changed  (\"file_1.txt\",   Some     \"1111111111111111111111111111111111\n",
      "587 / 638469092014521392 / Changed  (\"file_1.txt\",   Some     \"1111111111111111111111111111111111\n",
      "52 / 638469092014521444 / Changed  (\"file_1.txt\",   Some     \"11111111111111111111111111111111111\n",
      "169 / 638469092014521613 / Changed  (\"file_1.txt\",   Some     \"1111111111111111111111111111111111\n",
      "153 / 638469092014521766 / Changed  (\"file_1.txt\",   Some     \"1111111111111111111111111111111111\n",
      "169 / 638469092014521935 / Changed  (\"file_1.txt\",   Some     \"1111111111111111111111111111111111\n",
      "189 / 638469092014522124 / Changed  (\"file_1.txt\",   Some     \"1111111111111111111111111111111111\n",
      "157 / 638469092014522281 / Changed  (\"file_1.txt\",   Some     \"1111111111111111111111111111111111\n",
      "148 / 638469092014522429 / Changed  (\"file_1.txt\",   Some     \"1111111111111111111111111111111111\n",
      "164 / 638469092014522593 / Changed  (\"file_1.txt\",   Some     \"1111111111111111111111111111111111\n",
      "169 / 638469092014522762 / Changed  (\"file_1.txt\",   Some     \"1111111111111111111111111111111111\n",
      "171 / 638469092014522933 / Changed  (\"file_1.txt\",   Some     \"1111111111111111111111111111111111\n",
      "149 / 638469092014523082 / Changed  (\"file_1.txt\",   Some     \"1111111111111111111111111111111111\n",
      "160 / 638469092014523242 / Changed  (\"file_1.txt\",   Some     \"1111111111111111111111111111111111\n",
      "165 / 638469092014523407 / Changed  (\"file_1.txt\",   Some     \"1111111111111111111111111111111111\n",
      "161 / 638469092014523568 / Changed  (\"file_1.txt\",   Some     \"1111111111111111111111111111111111\n",
      "140 / 638469092014523708 / Changed  (\"file_1.txt\",   Some     \"1111111111111111111111111111111111\n",
      "167 / 638469092014523875 / Changed  (\"file_1.txt\",   Some     \"1111111111111111111111111111111111\n",
      "190 / 638469092014524065 / Changed  (\"file_1.txt\",   Some     \"1111111111111111111111111111111111\n",
      "170 / 638469092014524235 / Changed  (\"file_1.txt\",   Some     \"1111111111111111111111111111111111\n",
      "147 / 638469092014524382 / Changed  (\"file_1.txt\",   Some     \"1111111111111111111111111111111111\n",
      "164 / 638469092014524546 / Changed  (\"file_1.txt\",   Some     \"1111111111111111111111111111111111\n",
      "161 / 638469092014524707 / Changed  (\"file_1.txt\",   Some     \"1111111111111111111111111111111111\n",
      "153 / 638469092014524860 / Changed  (\"file_1.txt\",   Some     \"1111111111111111111111111111111111\n",
      "141 / 638469092014525001 / Changed  (\"file_1.txt\",   Some     \"1111111111111111111111111111111111\n",
      "164 / 638469092014525165 / Changed  (\"file_1.txt\",   Some     \"1111111111111111111111111111111111\n",
      "247 / 638469092014525412 / Changed  (\"file_1.txt\",   Some     \"1111111111111111111111111111111111\n",
      "517 / 638469092014525929 / Changed  (\"file_1.txt\",   Some     \"1111111111111111111111111111111111\n",
      "155 / 638469092014526084 / Changed  (\"file_1.txt\",   Some     \"1111111111111111111111111111111111\n",
      "470 / 638469092014526554 / Changed  (\"file_1.txt\",   Some     \"1111111111111111111111111111111111\n",
      "28889 / 638469092014555443 / Changed  (\"file_2.txt\",   Some     \"22222222222222222222222222222222\n",
      "298 / 638469092014555741 / Changed  (\"file_2.txt\",   Some     \"2222222222222222222222222222222222\n",
      "187 / 638469092014555928 / Changed  (\"file_2.txt\",   Some     \"2222222222222222222222222222222222\n",
      "31 / 638469092014555959 / Changed  (\"file_2.txt\",   Some     \"22222222222222222222222222222222222\n",
      "245 / 638469092014556204 / Changed  (\"file_2.txt\",   Some     \"2222222222222222222222222222222222\n",
      "88 / 638469092014556292 / Changed  (\"file_2.txt\",   Some     \"22222222222222222222222222222222222\n",
      "166 / 638469092014556458 / Changed  (\"file_2.txt\",   Some     \"2222222222222222222222222222222222\n",
      "100 / 638469092014556558 / Changed  (\"file_2.txt\",   Some     \"2222222222222222222222222222222222\n",
      "199 / 638469092014556757 / Changed  (\"file_2.txt\",   Some     \"2222222222222222222222222222222222\n",
      "128 / 638469092014556885 / Changed  (\"file_2.txt\",   Some     \"2222222222222222222222222222222222\n",
      "141 / 638469092014557026 / Changed  (\"file_2.txt\",   Some     \"2222222222222222222222222222222222\n",
      "155 / 638469092014557181 / Changed  (\"file_2.txt\",   Some     \"2222222222222222222222222222222222\n",
      "143 / 638469092014557324 / Changed  (\"file_2.txt\",   Some     \"2222222222222222222222222222222222\n",
      "149 / 638469092014557473 / Changed  (\"file_2.txt\",   Some     \"2222222222222222222222222222222222\n",
      "151 / 638469092014557624 / Changed  (\"file_2.txt\",   Some     \"2222222222222222222222222222222222\n",
      "171 / 638469092014557795 / Changed  (\"file_2.txt\",   Some     \"2222222222222222222222222222222222\n",
      "164 / 638469092014557959 / Changed  (\"file_2.txt\",   Some     \"2222222222222222222222222222222222\n",
      "132 / 638469092014558091 / Changed  (\"file_2.txt\",   Some     \"2222222222222222222222222222222222\n",
      "148 / 638469092014558239 / Changed  (\"file_2.txt\",   Some     \"2222222222222222222222222222222222\n",
      "146 / 638469092014558385 / Changed  (\"file_2.txt\",   Some     \"2222222222222222222222222222222222\n",
      "142 / 638469092014558527 / Changed  (\"file_2.txt\",   Some     \"2222222222222222222222222222222222\n",
      "144 / 638469092014558671 / Changed  (\"file_2.txt\",   Some     \"2222222222222222222222222222222222\n",
      "144 / 638469092014558815 / Changed  (\"file_2.txt\",   Some     \"2222222222222222222222222222222222\n",
      "904 / 638469092014559719 / Changed  (\"file_2.txt\",   Some     \"2222222222222222222222222222222222\n",
      "208 / 638469092014559927 / Changed  (\"file_2.txt\",   Some     \"2222222222222222222222222222222222\n",
      "657 / 638469092014560584 / Changed  (\"file_2.txt\",   Some     \"2222222222222222222222222222222222\n",
      "44 / 638469092014560628 / Changed  (\"file_2.txt\",   Some     \"22222222222222222222222222222222222\n",
      "155 / 638469092014560783 / Changed  (\"file_2.txt\",   Some     \"2222222222222222222222222222222222\n",
      "148 / 638469092014560931 / Changed  (\"file_2.txt\",   Some     \"2222222222222222222222222222222222\n",
      "165 / 638469092014561096 / Changed  (\"file_2.txt\",   Some     \"2222222222222222222222222222222222\n",
      "632 / 638469092014561728 / Changed  (\"file_2.txt\",   Some     \"2222222222222222222222222222222222\n",
      "41 / 638469092014561769 / Changed  (\"file_2.txt\",   Some     \"22222222222222222222222222222222222\n",
      "876 / 638469092014562645 / Changed  (\"file_2.txt\",   Some     \"2222222222222222222222222222222222\n",
      "47 / 638469092014562692 / Changed  (\"file_2.txt\",   Some     \"22222222222222222222222222222222222\n",
      "195 / 638469092014562887 / Changed  (\"file_2.txt\",   Some     \"2222222222222222222222222222222222\n",
      "193 / 638469092014563080 / Changed  (\"file_2.txt\",   Some     \"2222222222222222222222222222222222\n",
      "14108 / 638469092014577188 / Changed  (\"file_2.txt\",   Some     \"22222222222222222222222222222222\n",
      "15056043 / 638469092029633231 / Deleted \"file_1.txt\"\n",
      "3795 / 638469092029637026 / Deleted \"file_2.txt\"\n",
      "FSharpList<FileSystemChange>\n",
      "      - path: file1.txt\n",
      "        content: FSharpOption<String>\n",
      "          Value: 1a\n",
      "        IsFailure: False\n",
      "        IsChanged: False\n",
      "        IsCreated: True\n",
      "        IsDeleted: False\n",
      "        IsRenamed: False\n",
      "      - path: file1.txt\n",
      "        content: FSharpOption<String>\n",
      "          Value: 1a\n",
      "        IsFailure: False\n",
      "        IsChanged: True\n",
      "        IsCreated: False\n",
      "        IsDeleted: False\n",
      "        IsRenamed: False\n",
      "      - path: file2.txt\n",
      "        content: FSharpOption<String>\n",
      "          Value: 2a\n",
      "        IsFailure: False\n",
      "        IsChanged: False\n",
      "        IsCreated: True\n",
      "        IsDeleted: False\n",
      "        IsRenamed: False\n",
      "      - path: file2.txt\n",
      "        content: FSharpOption<String>\n",
      "          Value: 2a\n",
      "        IsFailure: False\n",
      "        IsChanged: True\n",
      "        IsCreated: False\n",
      "        IsDeleted: False\n",
      "        IsRenamed: False\n",
      "      - path: file1.txt\n",
      "        content: FSharpOption<String>\n",
      "          Value: 1b\n",
      "        IsFailure: False\n",
      "        IsChanged: True\n",
      "        IsCreated: False\n",
      "        IsDeleted: False\n",
      "        IsRenamed: False\n",
      "      - path: file2.txt\n",
      "        content: FSharpOption<String>\n",
      "          Value: 2b\n",
      "        IsFailure: False\n",
      "        IsChanged: True\n",
      "        IsCreated: False\n",
      "        IsDeleted: False\n",
      "        IsRenamed: False\n",
      "      - oldPath: file1.txt\n",
      "        Item2:         - file_1.txt\n",
      "        - FSharpOption<String>\n",
      "            Value: 1b\n",
      "      - IsFailure: False\n",
      "        IsChanged: False\n",
      "        IsCreated: False\n",
      "        IsDeleted: False\n",
      "        IsRenamed: True\n",
      "      - oldPath: file2.txt\n",
      "        Item2:         - file_2.txt\n",
      "        - FSharpOption<String>\n",
      "            Value: 2b\n",
      "      - IsFailure: False\n",
      "        IsChanged: False\n",
      "        IsCreated: False\n",
      "        IsDeleted: False\n",
      "        IsRenamed: True\n",
      "      - path: file_1.txt\n",
      "        content: FSharpOption<String>\n",
      "          Value: 1c\n",
      "        IsFailure: False\n",
      "        IsChanged: True\n",
      "        IsCreated: False\n",
      "        IsDeleted: False\n",
      "        IsRenamed: False\n",
      "      - path: file_2.txt\n",
      "        content: FSharpOption<String>\n",
      "          Value: 2c\n",
      "        IsFailure: False\n",
      "        IsChanged: True\n",
      "        IsCreated: False\n",
      "        IsDeleted: False\n",
      "        IsRenamed: False\n",
      "      - path: file_1.txt\n",
      "        IsFailure: False\n",
      "        IsChanged: False\n",
      "        IsCreated: False\n",
      "        IsDeleted: True\n",
      "        IsRenamed: False\n",
      "      - path: file_2.txt\n",
      "        IsFailure: False\n",
      "        IsChanged: False\n",
      "        IsCreated: False\n",
      "        IsDeleted: True\n",
      "        IsRenamed: False\n",
      "FSharpOption<Unit>\n",
      "      Value: <null>\n"
     ]
    }
   ],
   "source": [
    "//// test\n",
    "\n",
    "let inline write path = async {\n",
    "    let n = 2\n",
    "\n",
    "    let contents =\n",
    "        [ 1 .. n ]\n",
    "        |> List.map (string >> String.replicate 1_000_000)\n",
    "\n",
    "    for i = 1 to n do\n",
    "        do! $\"{contents.[i - 1]}a\" |> writeAllTextAsync (path </> $\"file{i}.txt\")\n",
    "\n",
    "    do! Async.Sleep 1500\n",
    "\n",
    "    for i = 1 to n do\n",
    "        do! $\"{contents.[i - 1]}b\" |> writeAllTextAsync (path </> $\"file{i}.txt\")\n",
    "\n",
    "    do! Async.Sleep 1500\n",
    "\n",
    "    for i = 1 to n do\n",
    "        do! path </> $\"file{i}.txt\" |> moveFileAsync (path </> $\"file_{i}.txt\") |> Async.Ignore\n",
    "\n",
    "    do! Async.Sleep 1500\n",
    "\n",
    "    for i = 1 to n do\n",
    "        do! $\"{contents.[i - 1]}c\" |> writeAllTextAsync (path </> $\"file_{i}.txt\")\n",
    "\n",
    "    do! Async.Sleep 1500\n",
    "\n",
    "    for i = 1 to n do\n",
    "        do! deleteFileAsync (path </> $\"file_{i}.txt\") |> Async.Ignore\n",
    "\n",
    "    do! Async.Sleep 1500\n",
    "}\n",
    "\n",
    "let inline run () =\n",
    "    let events =\n",
    "        testEventsRaw watchDirectory write\n",
    "        |> List.map (function\n",
    "            | FileSystemChange.Changed (path, Some content) ->\n",
    "                FileSystemChange.Changed (path, content |> Seq.distinct |> Seq.map string |> String.concat \"\" |> Some)\n",
    "            | FileSystemChange.Created (path, Some content) ->\n",
    "                FileSystemChange.Created (path, content |> Seq.distinct |> Seq.map string |> String.concat \"\" |> Some)\n",
    "            | FileSystemChange.Renamed (oldPath, (newPath, Some content)) ->\n",
    "                FileSystemChange.Renamed (\n",
    "                    oldPath,\n",
    "                    (newPath, content |> Seq.distinct |> Seq.map string |> String.concat \"\" |> Some)\n",
    "                )\n",
    "            | event -> event\n",
    "        )\n",
    "\n",
    "    events\n",
    "    |> _sequenceEqual [\n",
    "        FileSystemChange.Created (\"file1.txt\", Some \"1a\")\n",
    "        FileSystemChange.Changed (\"file1.txt\", Some \"1a\")\n",
    "        FileSystemChange.Created (\"file2.txt\", Some \"2a\")\n",
    "        FileSystemChange.Changed (\"file2.txt\", Some \"2a\")\n",
    "\n",
    "        FileSystemChange.Changed (\"file1.txt\", Some \"1b\")\n",
    "        FileSystemChange.Changed (\"file2.txt\", Some \"2b\")\n",
    "\n",
    "        FileSystemChange.Renamed (\"file1.txt\", (\"file_1.txt\", Some \"1b\"))\n",
    "        FileSystemChange.Renamed (\"file2.txt\", (\"file_2.txt\", Some \"2b\"))\n",
    "\n",
    "        FileSystemChange.Changed (\"file_1.txt\", Some \"1c\")\n",
    "        FileSystemChange.Changed (\"file_2.txt\", Some \"2c\")\n",
    "\n",
    "        FileSystemChange.Deleted \"file_1.txt\"\n",
    "        FileSystemChange.Deleted \"file_2.txt\"\n",
    "    ]\n",
    "\n",
    "run\n",
    "|> retryFn 5\n",
    "|> _assertEqual (Some ())"
   ]
  },
  {
   "cell_type": "markdown",
   "metadata": {},
   "source": [
    "### testEventsSorted (test)"
   ]
  },
  {
   "cell_type": "code",
   "execution_count": null,
   "metadata": {
    "dotnet_interactive": {
     "language": "fsharp"
    },
    "polyglot_notebook": {
     "kernelName": "fsharp"
    }
   },
   "outputs": [],
   "source": [
    "//// test\n",
    "\n",
    "let inline sortEvent event =\n",
    "    match event with\n",
    "    | FileSystemChange.Failure _ -> 0\n",
    "    | FileSystemChange.Created _ -> 1\n",
    "    | FileSystemChange.Changed _ -> 2\n",
    "    | FileSystemChange.Renamed (_oldPath, _) -> 3\n",
    "    | FileSystemChange.Deleted _ -> 4\n",
    "\n",
    "let inline formatEvents events =\n",
    "    events\n",
    "    |> Seq.toList\n",
    "    |> List.sortBy (snd >> sortEvent)\n",
    "    |> List.choose (fun (ticks, event) ->\n",
    "        match event with\n",
    "        | FileSystemChange.Failure _ ->\n",
    "            None\n",
    "        | FileSystemChange.Changed (path, _) ->\n",
    "            Some (ticks, System.IO.Path.GetFileName path, nameof FileSystemChangeType.Changed)\n",
    "        | FileSystemChange.Created (path, _) ->\n",
    "            Some (ticks, System.IO.Path.GetFileName path, nameof FileSystemChangeType.Created)\n",
    "        | FileSystemChange.Deleted path ->\n",
    "            Some (ticks, System.IO.Path.GetFileName path, nameof FileSystemChangeType.Deleted)\n",
    "        | FileSystemChange.Renamed (_oldPath, (path, _)) ->\n",
    "            Some (ticks, System.IO.Path.GetFileName path, nameof FileSystemChangeType.Renamed)\n",
    "    )\n",
    "    |> List.sortBy (fun (_, path, _) -> path)\n",
    "    |> List.distinctBy (fun (_, path, event) -> path, event)\n",
    "\n",
    "let inline testEventsSorted\n",
    "    (watchFn : string -> FSharp.Control.AsyncSeq<int64 * FileSystemChange> * IDisposable)\n",
    "    write\n",
    "    =\n",
    "    let path = createTempDirectory ()\n",
    "    let stream, disposable = watchFn path\n",
    "\n",
    "    let events = System.Collections.Concurrent.ConcurrentBag ()\n",
    "\n",
    "    let inline iter () =\n",
    "        stream\n",
    "        |> FSharp.Control.AsyncSeq.iterAsyncParallel (fun event -> async { events.Add event })\n",
    "\n",
    "    let run = async {\n",
    "        let! _ = iter () |> Async.StartChild\n",
    "        do! Async.Sleep 250\n",
    "        return! write path\n",
    "    }\n",
    "\n",
    "    try\n",
    "        run\n",
    "        |> Async.runWithTimeout 5000\n",
    "        |> _assertEqual (Some ())\n",
    "    finally\n",
    "        disposable.Dispose ()\n",
    "        deleteDirectoryAsync path |> Async.Ignore |> Async.RunSynchronously\n",
    "\n",
    "    let events = formatEvents events\n",
    "\n",
    "    let eventMap =\n",
    "        events\n",
    "        |> List.map (fun (ticks, path, event) -> path, (event, ticks))\n",
    "        |> List.groupBy fst\n",
    "        |> List.map (fun (path, events) ->\n",
    "            let event, _ticks =\n",
    "                events\n",
    "                |> List.map snd\n",
    "                |> List.sortByDescending snd\n",
    "                |> List.head\n",
    "\n",
    "            path, event\n",
    "        )\n",
    "        |> Map.ofList\n",
    "\n",
    "    let eventList =\n",
    "        events\n",
    "        |> List.map (fun (_ticks, path, event) -> path, event)\n",
    "\n",
    "    eventMap, eventList"
   ]
  },
  {
   "cell_type": "markdown",
   "metadata": {},
   "source": [
    "#### create and delete (test)"
   ]
  },
  {
   "cell_type": "code",
   "execution_count": null,
   "metadata": {
    "dotnet_interactive": {
     "language": "fsharp"
    },
    "polyglot_notebook": {
     "kernelName": "fsharp"
    }
   },
   "outputs": [
    {
     "name": "stdout",
     "output_type": "stream",
     "text": [
      "FSharpOption<Unit>\n",
      "      Value: <null>\n",
      "00:00:27 #51 [Debug] watchWithFilter / Disposing watch stream / filter: FileName, LastWrite\n",
      "FSharpList<Tuple<String,String>>\n",
      "( file1.txt, Created )\n",
      "( file1.txt, Changed )\n",
      "( file1.txt, Deleted )\n",
      "( file2.txt, Created )\n",
      "( file2.txt, Changed )\n",
      "( file2.txt, Deleted )\n",
      "( file3.txt, Created )\n",
      "( file3.txt, Changed )\n",
      "( file3.txt, Deleted )\n",
      "FSharpMap<String,String>\n",
      "      - Key: file1.txt\n",
      "        Value: Deleted\n",
      "      - Key: file2.txt\n",
      "        Value: Deleted\n",
      "      - Key: file3.txt\n",
      "        Value: Deleted\n",
      "FSharpOption<Unit>\n",
      "      Value: <null>\n"
     ]
    }
   ],
   "source": [
    "//// test\n",
    "\n",
    "let inline write path = async {\n",
    "    let n = 3\n",
    "\n",
    "    for i = 1 to n do\n",
    "        do! $\"{i}\" |> writeAllTextAsync (path </> $\"file{i}.txt\")\n",
    "\n",
    "    for i = 1 to n do\n",
    "        do! deleteFileAsync (path </> $\"file{i}.txt\") |> Async.Ignore\n",
    "\n",
    "    do! Async.Sleep 150\n",
    "}\n",
    "\n",
    "let inline run () =\n",
    "    let eventMap, eventList = testEventsSorted (watchDirectory (fun _ -> false)) write\n",
    "\n",
    "    [\n",
    "        \"file1.txt\", nameof FileSystemChangeType.Created\n",
    "        \"file1.txt\", nameof FileSystemChangeType.Changed\n",
    "        \"file1.txt\", nameof FileSystemChangeType.Deleted\n",
    "\n",
    "        \"file2.txt\", nameof FileSystemChangeType.Created\n",
    "        \"file2.txt\", nameof FileSystemChangeType.Changed\n",
    "        \"file2.txt\", nameof FileSystemChangeType.Deleted\n",
    "\n",
    "        \"file3.txt\", nameof FileSystemChangeType.Created\n",
    "        \"file3.txt\", nameof FileSystemChangeType.Changed\n",
    "        \"file3.txt\", nameof FileSystemChangeType.Deleted\n",
    "    ]\n",
    "    |> _sequenceEqual eventList\n",
    "\n",
    "    [\n",
    "        \"file1.txt\", nameof FileSystemChangeType.Deleted\n",
    "        \"file2.txt\", nameof FileSystemChangeType.Deleted\n",
    "        \"file3.txt\", nameof FileSystemChangeType.Deleted\n",
    "    ]\n",
    "    |> Map.ofList\n",
    "    |> _sequenceEqual eventMap\n",
    "\n",
    "run\n",
    "|> retryFn 3\n",
    "|> _assertEqual (Some ())"
   ]
  },
  {
   "cell_type": "markdown",
   "metadata": {},
   "source": [
    "#### change (test)"
   ]
  },
  {
   "cell_type": "code",
   "execution_count": null,
   "metadata": {
    "dotnet_interactive": {
     "language": "fsharp"
    },
    "polyglot_notebook": {
     "kernelName": "fsharp"
    }
   },
   "outputs": [
    {
     "name": "stdout",
     "output_type": "stream",
     "text": [
      "FSharpOption<Unit>\n",
      "      Value: <null>\n",
      "00:00:30 #52 [Debug] watchWithFilter / Disposing watch stream / filter: FileName, LastWrite\n",
      "FSharpList<Tuple<String,String>>\n",
      "( file1.txt, Created )\n",
      "( file1.txt, Changed )\n",
      "( file1.txt, Deleted )\n",
      "( file2.txt, Created )\n",
      "( file2.txt, Changed )\n",
      "( file2.txt, Deleted )\n",
      "FSharpMap<String,String>\n",
      "      - Key: file1.txt\n",
      "        Value: Deleted\n",
      "      - Key: file2.txt\n",
      "        Value: Deleted\n",
      "FSharpOption<Unit>\n",
      "      Value: <null>\n"
     ]
    }
   ],
   "source": [
    "//// test\n",
    "\n",
    "let inline write path = async {\n",
    "    let n = 2\n",
    "\n",
    "    for i = 1 to n do\n",
    "        do! $\"{i}\" |> writeAllTextAsync (path </> $\"file{i}.txt\")\n",
    "\n",
    "    for i = 1 to n do\n",
    "        do! \"\" |> writeAllTextAsync (path </> $\"file{i}.txt\")\n",
    "\n",
    "    for i = 1 to n do\n",
    "        do! deleteFileAsync (path </> $\"file{i}.txt\") |> Async.Ignore\n",
    "\n",
    "    do! Async.Sleep 150\n",
    "}\n",
    "\n",
    "let inline run () =\n",
    "    let eventMap, eventList = testEventsSorted (watchDirectory (fun _ -> false)) write\n",
    "\n",
    "    [\n",
    "        \"file1.txt\", nameof FileSystemChangeType.Created\n",
    "        \"file1.txt\", nameof FileSystemChangeType.Changed\n",
    "        \"file1.txt\", nameof FileSystemChangeType.Deleted\n",
    "\n",
    "        \"file2.txt\", nameof FileSystemChangeType.Created\n",
    "        \"file2.txt\", nameof FileSystemChangeType.Changed\n",
    "        \"file2.txt\", nameof FileSystemChangeType.Deleted\n",
    "    ]\n",
    "    |> _sequenceEqual eventList\n",
    "\n",
    "    [\n",
    "        \"file1.txt\", nameof FileSystemChangeType.Deleted\n",
    "        \"file2.txt\", nameof FileSystemChangeType.Deleted\n",
    "    ]\n",
    "    |> Map.ofList\n",
    "    |> _sequenceEqual eventMap\n",
    "\n",
    "run\n",
    "|> retryFn 3\n",
    "|> _assertEqual (Some ())"
   ]
  },
  {
   "cell_type": "markdown",
   "metadata": {},
   "source": [
    "#### rename (test)"
   ]
  },
  {
   "cell_type": "code",
   "execution_count": null,
   "metadata": {
    "dotnet_interactive": {
     "language": "fsharp"
    },
    "polyglot_notebook": {
     "kernelName": "fsharp"
    }
   },
   "outputs": [
    {
     "name": "stdout",
     "output_type": "stream",
     "text": [
      "FSharpOption<Unit>\n",
      "      Value: <null>\n",
      "00:00:33 #53 [Debug] watchWithFilter / Disposing watch stream / filter: FileName, LastWrite\n",
      "FSharpList<Tuple<String,String>>\n",
      "( file1.txt, Created )\n",
      "( file1.txt, Changed )\n",
      "( file2.txt, Created )\n",
      "( file2.txt, Changed )\n",
      "( file_1.txt, Renamed )\n",
      "( file_1.txt, Deleted )\n",
      "( file_2.txt, Renamed )\n",
      "( file_2.txt, Deleted )\n",
      "FSharpMap<String,String>\n",
      "      - Key: file1.txt\n",
      "        Value: Changed\n",
      "      - Key: file2.txt\n",
      "        Value: Changed\n",
      "      - Key: file_1.txt\n",
      "        Value: Deleted\n",
      "      - Key: file_2.txt\n",
      "        Value: Deleted\n",
      "FSharpOption<Unit>\n",
      "      Value: <null>\n"
     ]
    }
   ],
   "source": [
    "//// test\n",
    "\n",
    "let inline write path = async {\n",
    "    let n = 2\n",
    "\n",
    "    for i = 1 to n do\n",
    "        do! $\"{i}\" |> writeAllTextAsync (path </> $\"file{i}.txt\")\n",
    "\n",
    "    for i = 1 to n do\n",
    "        do! path </> $\"file{i}.txt\" |> moveFileAsync (path </> $\"file_{i}.txt\") |> Async.Ignore\n",
    "\n",
    "    for i = 1 to n do\n",
    "        do! deleteFileAsync (path </> $\"file_{i}.txt\") |> Async.Ignore\n",
    "\n",
    "    do! Async.Sleep 150\n",
    "}\n",
    "\n",
    "let inline run () =\n",
    "    let eventMap, eventList = testEventsSorted (watchDirectory (fun _ -> false)) write\n",
    "\n",
    "    [\n",
    "        \"file1.txt\", nameof FileSystemChangeType.Created\n",
    "        \"file1.txt\", nameof FileSystemChangeType.Changed\n",
    "        \"file2.txt\", nameof FileSystemChangeType.Created\n",
    "        \"file2.txt\", nameof FileSystemChangeType.Changed\n",
    "\n",
    "        \"file_1.txt\", nameof FileSystemChangeType.Renamed\n",
    "        \"file_1.txt\", nameof FileSystemChangeType.Deleted\n",
    "\n",
    "        \"file_2.txt\", nameof FileSystemChangeType.Renamed\n",
    "        \"file_2.txt\", nameof FileSystemChangeType.Deleted\n",
    "    ]\n",
    "    |> _sequenceEqual eventList\n",
    "\n",
    "    [\n",
    "        \"file1.txt\", nameof FileSystemChangeType.Changed\n",
    "        \"file2.txt\", nameof FileSystemChangeType.Changed\n",
    "        \"file_1.txt\", nameof FileSystemChangeType.Deleted\n",
    "        \"file_2.txt\", nameof FileSystemChangeType.Deleted\n",
    "    ]\n",
    "    |> Map.ofList\n",
    "    |> _sequenceEqual eventMap\n",
    "\n",
    "run\n",
    "|> retryFn 3\n",
    "|> _assertEqual (Some ())"
   ]
  },
  {
   "cell_type": "markdown",
   "metadata": {},
   "source": [
    "#### full (test)"
   ]
  },
  {
   "cell_type": "code",
   "execution_count": null,
   "metadata": {
    "dotnet_interactive": {
     "language": "fsharp"
    },
    "polyglot_notebook": {
     "kernelName": "fsharp"
    }
   },
   "outputs": [
    {
     "name": "stdout",
     "output_type": "stream",
     "text": [
      "FSharpOption<Unit>\n",
      "      Value: <null>\n",
      "00:00:36 #54 [Debug] watchWithFilter / Disposing watch stream / filter: FileName, LastWrite\n",
      "FSharpList<Tuple<String,String>>\n",
      "( file1.txt, Created )\n",
      "( file1.txt, Changed )\n",
      "( file2.txt, Created )\n",
      "( file2.txt, Changed )\n",
      "( file_1.txt, Changed )\n",
      "( file_1.txt, Renamed )\n",
      "( file_1.txt, Deleted )\n",
      "( file_2.txt, Changed )\n",
      "( file_2.txt, Renamed )\n",
      "( file_2.txt, Deleted )\n",
      "FSharpMap<String,String>\n",
      "      - Key: file1.txt\n",
      "        Value: Changed\n",
      "      - Key: file2.txt\n",
      "        Value: Changed\n",
      "      - Key: file_1.txt\n",
      "        Value: Deleted\n",
      "      - Key: file_2.txt\n",
      "        Value: Deleted\n",
      "FSharpOption<Unit>\n",
      "      Value: <null>\n"
     ]
    }
   ],
   "source": [
    "//// test\n",
    "\n",
    "let inline write path = async {\n",
    "    let n = 2\n",
    "\n",
    "    for i = 1 to n do\n",
    "        do! $\"{i}\" |> writeAllTextAsync (path </> $\"file{i}.txt\")\n",
    "\n",
    "    for i = 1 to n do\n",
    "        do! \"\" |> writeAllTextAsync (path </> $\"file{i}.txt\")\n",
    "\n",
    "    for i = 1 to n do\n",
    "        do! path </> $\"file{i}.txt\" |> moveFileAsync (path </> $\"file_{i}.txt\") |> Async.Ignore\n",
    "\n",
    "    for i = 1 to n do\n",
    "        do! $\"{i}\" |> writeAllTextAsync (path </> $\"file_{i}.txt\")\n",
    "\n",
    "    for i = 1 to n do\n",
    "        do! deleteFileAsync (path </> $\"file_{i}.txt\") |> Async.Ignore\n",
    "\n",
    "    do! Async.Sleep 150\n",
    "}\n",
    "\n",
    "let inline run () =\n",
    "    let eventMap, eventList = testEventsSorted (watchDirectory (fun _ -> false)) write\n",
    "\n",
    "    [\n",
    "        \"file1.txt\", nameof FileSystemChangeType.Created\n",
    "        \"file1.txt\", nameof FileSystemChangeType.Changed\n",
    "        \"file2.txt\", nameof FileSystemChangeType.Created\n",
    "        \"file2.txt\", nameof FileSystemChangeType.Changed\n",
    "\n",
    "        \"file_1.txt\", nameof FileSystemChangeType.Changed\n",
    "        \"file_1.txt\", nameof FileSystemChangeType.Renamed\n",
    "        \"file_1.txt\", nameof FileSystemChangeType.Deleted\n",
    "\n",
    "        \"file_2.txt\", nameof FileSystemChangeType.Changed\n",
    "        \"file_2.txt\", nameof FileSystemChangeType.Renamed\n",
    "        \"file_2.txt\", nameof FileSystemChangeType.Deleted\n",
    "    ]\n",
    "    |> _sequenceEqual eventList\n",
    "\n",
    "    [\n",
    "        \"file1.txt\", nameof FileSystemChangeType.Changed\n",
    "        \"file2.txt\", nameof FileSystemChangeType.Changed\n",
    "        \"file_1.txt\", nameof FileSystemChangeType.Deleted\n",
    "        \"file_2.txt\", nameof FileSystemChangeType.Deleted\n",
    "    ]\n",
    "    |> Map.ofList\n",
    "    |> _sequenceEqual eventMap\n",
    "\n",
    "run\n",
    "|> retryFn 3\n",
    "|> _assertEqual (Some ())"
   ]
  }
 ],
 "metadata": {},
 "nbformat": 4,
 "nbformat_minor": 5
}