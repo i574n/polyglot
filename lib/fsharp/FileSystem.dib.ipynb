{
 "cells": [
  {
   "cell_type": "markdown",
   "metadata": {},
   "source": [
    "# FileSystem (Polyglot)"
   ]
  },
  {
   "cell_type": "code",
   "execution_count": null,
   "metadata": {
    "dotnet_interactive": {
     "language": "fsharp"
    },
    "polyglot_notebook": {
     "kernelName": "fsharp"
    }
   },
   "outputs": [],
   "source": [
    "#!import ../../lib/fsharp/Notebooks.dib\n",
    "#!import ../../lib/fsharp/Testing.dib"
   ]
  },
  {
   "cell_type": "code",
   "execution_count": null,
   "metadata": {
    "dotnet_interactive": {
     "language": "fsharp"
    },
    "polyglot_notebook": {
     "kernelName": "fsharp"
    }
   },
   "outputs": [],
   "source": [
    "#r @\"../../../../../../../.nuget/packages/fsharp.control.asyncseq/3.2.1/lib/netstandard2.1/FSharp.Control.AsyncSeq.dll\"\n",
    "#r @\"../../../../../../../.nuget/packages/system.reactive/6.0.1-preview.1/lib/net6.0/System.Reactive.dll\"\n",
    "#r @\"../../../../../../../.nuget/packages/system.reactive.linq/6.0.1-preview.1/lib/netstandard2.0/System.Reactive.Linq.dll\"\n",
    "#r @\"../../../../../../../.nuget/packages/argu/6.1.5/lib/netstandard2.0/Argu.dll\"\n",
    "#r @\"../../../../../../../.nuget/packages/system.commandline/2.0.0-beta4.22272.1/lib/net6.0/System.CommandLine.dll\""
   ]
  },
  {
   "cell_type": "code",
   "execution_count": null,
   "metadata": {
    "dotnet_interactive": {
     "language": "fsharp"
    },
    "polyglot_notebook": {
     "kernelName": "fsharp"
    }
   },
   "outputs": [],
   "source": [
    "#!import ../../lib/fsharp/Common.fs\n",
    "#!import ../../lib/fsharp/CommonFSharp.fs\n",
    "#!import ../../lib/fsharp/Async.fs\n",
    "#!import ../../lib/fsharp/AsyncSeq.fs\n",
    "#!import ../../lib/fsharp/Runtime.fs"
   ]
  },
  {
   "cell_type": "code",
   "execution_count": null,
   "metadata": {
    "dotnet_interactive": {
     "language": "fsharp"
    },
    "polyglot_notebook": {
     "kernelName": "fsharp"
    }
   },
   "outputs": [],
   "source": [
    "open Common"
   ]
  },
  {
   "cell_type": "markdown",
   "metadata": {},
   "source": [
    "## Operators"
   ]
  },
  {
   "cell_type": "code",
   "execution_count": null,
   "metadata": {
    "dotnet_interactive": {
     "language": "fsharp"
    },
    "polyglot_notebook": {
     "kernelName": "fsharp"
    }
   },
   "outputs": [],
   "source": [
    "module Operators =\n",
    "    let inline (</>) a b =\n",
    "        System.IO.Path.Combine (a, b)"
   ]
  },
  {
   "cell_type": "code",
   "execution_count": null,
   "metadata": {
    "dotnet_interactive": {
     "language": "fsharp"
    },
    "polyglot_notebook": {
     "kernelName": "fsharp"
    }
   },
   "outputs": [],
   "source": [
    "open Operators"
   ]
  },
  {
   "cell_type": "markdown",
   "metadata": {},
   "source": [
    "## createTempDirectoryName"
   ]
  },
  {
   "cell_type": "code",
   "execution_count": null,
   "metadata": {
    "dotnet_interactive": {
     "language": "fsharp"
    },
    "polyglot_notebook": {
     "kernelName": "fsharp"
    }
   },
   "outputs": [],
   "source": [
    "let inline createTempDirectoryName () =\n",
    "    let root = System.Reflection.Assembly.GetEntryAssembly().GetName().Name\n",
    "\n",
    "    System.IO.Path.GetTempPath ()\n",
    "    </> $\"!{root}\"\n",
    "    </> string (newGuidFromDateTime System.DateTime.Now)"
   ]
  },
  {
   "cell_type": "code",
   "execution_count": null,
   "metadata": {
    "dotnet_interactive": {
     "language": "fsharp"
    },
    "polyglot_notebook": {
     "kernelName": "fsharp"
    }
   },
   "outputs": [
    {
     "name": "stdout",
     "output_type": "stream",
     "text": [
      "/tmp/!dotnet-repl/20240311-0509-0485-8588-866e063703d9\n"
     ]
    }
   ],
   "source": [
    "//// test\n",
    "\n",
    "createTempDirectoryName ()\n",
    "|> _contains System.IO.Path.DirectorySeparatorChar"
   ]
  },
  {
   "cell_type": "markdown",
   "metadata": {},
   "source": [
    "## createTempDirectory"
   ]
  },
  {
   "cell_type": "code",
   "execution_count": null,
   "metadata": {
    "dotnet_interactive": {
     "language": "fsharp"
    },
    "polyglot_notebook": {
     "kernelName": "fsharp"
    }
   },
   "outputs": [],
   "source": [
    "let inline createTempDirectory () =\n",
    "    let tempFolder = createTempDirectoryName ()\n",
    "    let result = System.IO.Directory.CreateDirectory tempFolder\n",
    "\n",
    "    if not result.Exists then\n",
    "        let getLocals () =\n",
    "            $\"tempFolder: {tempFolder} / result: {({|\n",
    "                Exists = result.Exists\n",
    "                CreationTime = result.CreationTime\n",
    "            |})} {getLocals ()}\"\n",
    "\n",
    "        trace Debug (fun () -> \"createTempDirectory\") getLocals\n",
    "\n",
    "    tempFolder"
   ]
  },
  {
   "cell_type": "code",
   "execution_count": null,
   "metadata": {
    "dotnet_interactive": {
     "language": "fsharp"
    },
    "polyglot_notebook": {
     "kernelName": "fsharp"
    }
   },
   "outputs": [
    {
     "name": "stdout",
     "output_type": "stream",
     "text": [
      "True\n"
     ]
    }
   ],
   "source": [
    "//// test\n",
    "\n",
    "let tempDirectory = createTempDirectory ()\n",
    "\n",
    "Directory.Exists tempDirectory\n",
    "|> _equal true"
   ]
  },
  {
   "cell_type": "markdown",
   "metadata": {},
   "source": [
    "## getSourceDirectory"
   ]
  },
  {
   "cell_type": "code",
   "execution_count": null,
   "metadata": {
    "dotnet_interactive": {
     "language": "fsharp"
    },
    "polyglot_notebook": {
     "kernelName": "fsharp"
    }
   },
   "outputs": [],
   "source": [
    "let getSourceDirectory =\n",
    "    fun () -> __SOURCE_DIRECTORY__\n",
    "    |> memoize"
   ]
  },
  {
   "cell_type": "code",
   "execution_count": null,
   "metadata": {
    "dotnet_interactive": {
     "language": "fsharp"
    },
    "polyglot_notebook": {
     "kernelName": "fsharp"
    }
   },
   "outputs": [
    {
     "name": "stdout",
     "output_type": "stream",
     "text": [
      "fsharp\n"
     ]
    }
   ],
   "source": [
    "//// test\n",
    "\n",
    "getSourceDirectory ()\n",
    "|> System.IO.DirectoryInfo\n",
    "|> fun dir -> dir.Name\n",
    "|> _equal \"fsharp\""
   ]
  },
  {
   "cell_type": "markdown",
   "metadata": {},
   "source": [
    "## findParent"
   ]
  },
  {
   "cell_type": "code",
   "execution_count": null,
   "metadata": {
    "dotnet_interactive": {
     "language": "fsharp"
    },
    "polyglot_notebook": {
     "kernelName": "fsharp"
    }
   },
   "outputs": [],
   "source": [
    "let inline findParent name isFile rootDir =\n",
    "    let rec loop dir =\n",
    "        if dir </> name |> (if isFile then System.IO.File.Exists else System.IO.Directory.Exists)\n",
    "        then dir\n",
    "        else\n",
    "            dir\n",
    "            |> System.IO.Directory.GetParent\n",
    "            |> function\n",
    "                | null -> failwith $\"\"\"No parent for {if isFile then \"file\" else \"dir\"} '{name}' at '{rootDir}'\"\"\"\n",
    "                | parent -> parent.FullName |> loop\n",
    "    loop rootDir"
   ]
  },
  {
   "cell_type": "code",
   "execution_count": null,
   "metadata": {
    "dotnet_interactive": {
     "language": "fsharp"
    },
    "polyglot_notebook": {
     "kernelName": "fsharp"
    }
   },
   "outputs": [
    {
     "name": "stdout",
     "output_type": "stream",
     "text": [
      "polyglot\n"
     ]
    }
   ],
   "source": [
    "//// test\n",
    "\n",
    "getSourceDirectory () |> findParent \".paket\" false\n",
    "|> System.IO.DirectoryInfo\n",
    "|> fun dir -> dir.Name\n",
    "|> _equal \"polyglot\""
   ]
  },
  {
   "cell_type": "code",
   "execution_count": null,
   "metadata": {
    "dotnet_interactive": {
     "language": "fsharp"
    },
    "polyglot_notebook": {
     "kernelName": "fsharp"
    }
   },
   "outputs": [
    {
     "name": "stdout",
     "output_type": "stream",
     "text": [
      "polyglot\n"
     ]
    }
   ],
   "source": [
    "//// test\n",
    "\n",
    "getSourceDirectory () |> findParent \"paket.dependencies\" true\n",
    "|> System.IO.DirectoryInfo\n",
    "|> fun dir -> dir.Name\n",
    "|> _equal \"polyglot\""
   ]
  },
  {
   "cell_type": "markdown",
   "metadata": {},
   "source": [
    "## readAllTextAsync"
   ]
  },
  {
   "cell_type": "code",
   "execution_count": null,
   "metadata": {
    "dotnet_interactive": {
     "language": "fsharp"
    },
    "polyglot_notebook": {
     "kernelName": "fsharp"
    }
   },
   "outputs": [],
   "source": [
    "let inline readAllTextAsync path =\n",
    "    path |> System.IO.File.ReadAllTextAsync |> Async.AwaitTask"
   ]
  },
  {
   "cell_type": "markdown",
   "metadata": {},
   "source": [
    "## fileExistsContent"
   ]
  },
  {
   "cell_type": "code",
   "execution_count": null,
   "metadata": {
    "dotnet_interactive": {
     "language": "fsharp"
    },
    "polyglot_notebook": {
     "kernelName": "fsharp"
    }
   },
   "outputs": [],
   "source": [
    "let inline fileExistsContent path content = async {\n",
    "    if path |> System.IO.File.Exists |> not\n",
    "    then return false\n",
    "    else\n",
    "        let! existingContent = path |> readAllTextAsync\n",
    "        return content = existingContent\n",
    "}"
   ]
  },
  {
   "cell_type": "markdown",
   "metadata": {},
   "source": [
    "## writeAllTextAsync"
   ]
  },
  {
   "cell_type": "code",
   "execution_count": null,
   "metadata": {
    "dotnet_interactive": {
     "language": "fsharp"
    },
    "polyglot_notebook": {
     "kernelName": "fsharp"
    }
   },
   "outputs": [],
   "source": [
    "let inline writeAllTextAsync path contents =\n",
    "    System.IO.File.WriteAllTextAsync (path, contents) |> Async.AwaitTask"
   ]
  },
  {
   "cell_type": "markdown",
   "metadata": {},
   "source": [
    "## writeAllTextExists"
   ]
  },
  {
   "cell_type": "code",
   "execution_count": null,
   "metadata": {
    "dotnet_interactive": {
     "language": "fsharp"
    },
    "polyglot_notebook": {
     "kernelName": "fsharp"
    }
   },
   "outputs": [],
   "source": [
    "let inline writeAllTextExists path contents = async {\n",
    "    let! exists = contents |> fileExistsContent path\n",
    "    if not exists\n",
    "    then do! contents |> writeAllTextAsync path\n",
    "}"
   ]
  },
  {
   "cell_type": "markdown",
   "metadata": {},
   "source": [
    "## waitForFileAccess"
   ]
  },
  {
   "cell_type": "code",
   "execution_count": null,
   "metadata": {
    "dotnet_interactive": {
     "language": "fsharp"
    },
    "polyglot_notebook": {
     "kernelName": "fsharp"
    }
   },
   "outputs": [],
   "source": [
    "let inline waitForFileAccess access path =\n",
    "    let fileAccess, fileShare =\n",
    "        access\n",
    "        |> Option.defaultValue (System.IO.FileAccess.ReadWrite, System.IO.FileShare.Read)\n",
    "\n",
    "    let rec loop retry = async {\n",
    "        try\n",
    "            use _ = new System.IO.FileStream (\n",
    "                path,\n",
    "                System.IO.FileMode.Open,\n",
    "                fileAccess,\n",
    "                fileShare\n",
    "            )\n",
    "            return retry\n",
    "        with ex ->\n",
    "            if retry % 100 = 0 then\n",
    "                let getLocals () = $\"path: {path |> System.IO.Path.GetFileName} / ex: {ex |> printException} / {getLocals ()}\"\n",
    "                trace Debug (fun () -> \"waitForFileAccess\") getLocals\n",
    "            do! Async.Sleep 10\n",
    "            return! loop (retry + 1)\n",
    "    }\n",
    "    loop 0"
   ]
  },
  {
   "cell_type": "code",
   "execution_count": null,
   "metadata": {
    "dotnet_interactive": {
     "language": "fsharp"
    },
    "polyglot_notebook": {
     "kernelName": "fsharp"
    }
   },
   "outputs": [
    {
     "name": "stdout",
     "output_type": "stream",
     "text": [
      "00:00:00 #1 [Debug] 1\n",
      "00:00:00 #2 [Debug] 2\n",
      "00:00:00 #3 [Debug] _1\n",
      "00:00:00 #4 [Debug] 3\n",
      "00:00:00 #5 [Debug] _2\n",
      "00:00:00 #6 [Debug] 4\n",
      "00:00:00 #7 [Debug] waitForFileAccess / path: test.txt / ex: System.IO.IOException: The process cannot access the file '/tmp/!dotnet-repl/20240311-0509-0537-3757-345b89831523/test.txt' because it is being used by another process.\n",
      "00:00:01 #8 [Debug] waitForFileAccess / path: test.txt / ex: System.IO.IOException: The process cannot access the file '/tmp/!dotnet-repl/20240311-0509-0537-3757-345b89831523/test.txt' because it is being used by another process.\n",
      "00:00:02 #9 [Debug] _3\n",
      "00:00:02 #10 [Debug] _4\n",
      "00:00:02 #11 [Debug] _5\n",
      "00:00:02 #12 [Debug] _6\n",
      "00:00:02 #13 [Debug] 5\n",
      "00:00:02 #14 [Debug] 6\n",
      "00:00:02 #15 [Debug] 7\n",
      "167\n",
      "167\n",
      "167\n",
      "1\n",
      "True\n"
     ]
    }
   ],
   "source": [
    "//// test\n",
    "\n",
    "let tempFolder = createTempDirectory ()\n",
    "let path = tempFolder </> \"test.txt\"\n",
    "\n",
    "let inline lockFile () = async {\n",
    "    trace Debug (fun () -> \"_1\") getLocals\n",
    "    use stream = new System.IO.FileStream (\n",
    "        path,\n",
    "        System.IO.FileMode.Open,\n",
    "        System.IO.FileAccess.ReadWrite,\n",
    "        System.IO.FileShare.None\n",
    "    )\n",
    "    trace Debug (fun () -> \"_2\") getLocals\n",
    "    do! Async.Sleep 2000\n",
    "    trace Debug (fun () -> \"_3\") getLocals\n",
    "    stream.Seek (0L, SeekOrigin.Begin) |> ignore\n",
    "    trace Debug (fun () -> \"_4\") getLocals\n",
    "    stream.WriteByte 49uy\n",
    "    trace Debug (fun () -> \"_5\") getLocals\n",
    "    stream.Flush ()\n",
    "    trace Debug (fun () -> \"_6\") getLocals\n",
    "}\n",
    "\n",
    "async {\n",
    "    trace Debug (fun () -> \"1\") getLocals\n",
    "    do! \"0\" |> writeAllTextAsync path\n",
    "    trace Debug (fun () -> \"2\") getLocals\n",
    "    let! child = lockFile () |> Async.StartChild\n",
    "    trace Debug (fun () -> \"3\") getLocals\n",
    "    do! Async.Sleep 1\n",
    "    trace Debug (fun () -> \"4\") getLocals\n",
    "    let! retries = path |> waitForFileAccess None\n",
    "    trace Debug (fun () -> \"5\") getLocals\n",
    "    let! text = path |> readAllTextAsync\n",
    "    trace Debug (fun () -> \"6\") getLocals\n",
    "    do! child\n",
    "    trace Debug (fun () -> \"7\") getLocals\n",
    "    return retries, text\n",
    "}\n",
    "|> Async.runWithTimeout 3000\n",
    "|> function\n",
    "    | Some (retries, text) ->\n",
    "        retries\n",
    "        |> _isBetween\n",
    "            (if Runtime.isWindows () then 100 else 100)\n",
    "            (if Runtime.isWindows () then 150 else 200)\n",
    "\n",
    "        text |> _equal \"1\"\n",
    "\n",
    "        true\n",
    "    | _ -> false\n",
    "|> _equal true"
   ]
  },
  {
   "cell_type": "markdown",
   "metadata": {},
   "source": [
    "## readAllTextRetryAsync"
   ]
  },
  {
   "cell_type": "code",
   "execution_count": null,
   "metadata": {
    "dotnet_interactive": {
     "language": "fsharp"
    },
    "polyglot_notebook": {
     "kernelName": "fsharp"
    }
   },
   "outputs": [],
   "source": [
    "let inline readAllTextRetryAsync fullPath =\n",
    "    let rec loop retry = async {\n",
    "        try\n",
    "            if retry > 0\n",
    "            then do!\n",
    "                fullPath\n",
    "                |> waitForFileAccess (Some (\n",
    "                    System.IO.FileAccess.Read,\n",
    "                    System.IO.FileShare.Read\n",
    "                ))\n",
    "                |> Async.runWithTimeoutAsync 1000\n",
    "                |> Async.Ignore\n",
    "            return! fullPath |> readAllTextAsync |> Async.map Some\n",
    "        with ex ->\n",
    "            let getLocals () = $\"retry: {retry} / ex: {ex |> printException} / {getLocals ()}\"\n",
    "            trace Debug (fun () -> $\"watchWithFilter / readContent\") getLocals\n",
    "            if retry = 0\n",
    "            then return! loop (retry + 1)\n",
    "            else return None\n",
    "    }\n",
    "    loop 0"
   ]
  },
  {
   "cell_type": "markdown",
   "metadata": {},
   "source": [
    "## deleteDirectoryAsync"
   ]
  },
  {
   "cell_type": "code",
   "execution_count": null,
   "metadata": {
    "dotnet_interactive": {
     "language": "fsharp"
    },
    "polyglot_notebook": {
     "kernelName": "fsharp"
    }
   },
   "outputs": [],
   "source": [
    "let inline deleteDirectoryAsync path =\n",
    "    let rec loop retry = async {\n",
    "        try\n",
    "            System.IO.Directory.Delete (path, true)\n",
    "            return retry\n",
    "        with ex ->\n",
    "            if retry % 100 = 0 then\n",
    "                let getLocals () = $\"path: {path |> System.IO.Path.GetFileName} / ex: {ex |> printException} / {getLocals ()}\"\n",
    "                trace Debug (fun () -> \"deleteDirectoryAsync\") getLocals\n",
    "            do! Async.Sleep 10\n",
    "            return! loop (retry + 1)\n",
    "    }\n",
    "    loop 0"
   ]
  },
  {
   "cell_type": "code",
   "execution_count": null,
   "metadata": {
    "dotnet_interactive": {
     "language": "fsharp"
    },
    "polyglot_notebook": {
     "kernelName": "fsharp"
    }
   },
   "outputs": [
    {
     "name": "stdout",
     "output_type": "stream",
     "text": [
      "00:00:02 #16 [Debug] 1\n",
      "00:00:02 #17 [Debug] 2\n",
      "00:00:02 #18 [Debug] 3\n",
      "00:00:02 #19 [Debug] _1\n",
      "00:00:02 #20 [Debug] _2\n",
      "00:00:02 #21 [Debug] 4\n",
      "00:00:02 #22 [Debug] 5\n",
      "00:00:04 #23 [Debug] _3\n",
      "00:00:04 #24 [Debug] 6\n",
      "0\n",
      "0\n",
      "0\n",
      "True\n"
     ]
    }
   ],
   "source": [
    "//// test\n",
    "\n",
    "let tempFolder = createTempDirectory ()\n",
    "let path = tempFolder </> \"test\"\n",
    "\n",
    "let inline lockDirectory () = async {\n",
    "    trace Debug (fun () -> \"_1\") getLocals\n",
    "    System.IO.File.WriteAllText (path </> \"test.txt\", \"0\")\n",
    "    use _ = new System.IO.FileStream (\n",
    "        path </> \"test.txt\",\n",
    "        System.IO.FileMode.Open,\n",
    "        System.IO.FileAccess.ReadWrite,\n",
    "        System.IO.FileShare.None\n",
    "    )\n",
    "    trace Debug (fun () -> \"_2\") getLocals\n",
    "    do! Async.Sleep 2000\n",
    "    trace Debug (fun () -> \"_3\") getLocals\n",
    "}\n",
    "\n",
    "async {\n",
    "    trace Debug (fun () -> \"1\") getLocals\n",
    "    Directory.CreateDirectory path |> ignore\n",
    "    trace Debug (fun () -> \"2\") getLocals\n",
    "    let! child = lockDirectory () |> Async.StartChild\n",
    "    trace Debug (fun () -> \"3\") getLocals\n",
    "    do! Async.Sleep 60\n",
    "    trace Debug (fun () -> \"4\") getLocals\n",
    "    let! retries = deleteDirectoryAsync path\n",
    "    trace Debug (fun () -> \"5\") getLocals\n",
    "    do! child\n",
    "    trace Debug (fun () -> \"6\") getLocals\n",
    "    return retries\n",
    "}\n",
    "|> Async.runWithTimeout 3000\n",
    "|> function\n",
    "    | Some retries ->\n",
    "        retries\n",
    "        |> _isBetween\n",
    "            (if Runtime.isWindows () then 100 else 0)\n",
    "            (if Runtime.isWindows () then 150 else 0)\n",
    "\n",
    "        true\n",
    "    | _ -> false\n",
    "|> _equal true"
   ]
  },
  {
   "cell_type": "markdown",
   "metadata": {},
   "source": [
    "## deleteFileAsync"
   ]
  },
  {
   "cell_type": "code",
   "execution_count": null,
   "metadata": {
    "dotnet_interactive": {
     "language": "fsharp"
    },
    "polyglot_notebook": {
     "kernelName": "fsharp"
    }
   },
   "outputs": [],
   "source": [
    "let inline deleteFileAsync path =\n",
    "    let rec loop retry = async {\n",
    "        try\n",
    "            System.IO.File.Delete path\n",
    "            return retry\n",
    "        with ex ->\n",
    "            if retry % 100 = 0 then\n",
    "                let getLocals () = $\"path: {path |> System.IO.Path.GetFileName} / ex: {ex |> printException} / {getLocals ()}\"\n",
    "                trace Warning (fun () -> \"deleteFileAsync\") getLocals\n",
    "            do! Async.Sleep 10\n",
    "            return! loop (retry + 1)\n",
    "    }\n",
    "    loop 0"
   ]
  },
  {
   "cell_type": "code",
   "execution_count": null,
   "metadata": {
    "dotnet_interactive": {
     "language": "fsharp"
    },
    "polyglot_notebook": {
     "kernelName": "fsharp"
    }
   },
   "outputs": [
    {
     "name": "stdout",
     "output_type": "stream",
     "text": [
      "00:00:04 #25 [Debug] 1\n",
      "00:00:04 #26 [Debug] 2\n",
      "00:00:04 #27 [Debug] 3\n",
      "00:00:04 #28 [Debug] _1\n",
      "00:00:04 #29 [Debug] _2\n",
      "00:00:04 #30 [Debug] 4\n",
      "00:00:04 #31 [Debug] 5\n",
      "00:00:06 #32 [Debug] _3\n",
      "00:00:06 #33 [Debug] 6\n",
      "0\n",
      "0\n",
      "0\n",
      "True\n"
     ]
    }
   ],
   "source": [
    "//// test\n",
    "\n",
    "let tempFolder = createTempDirectory ()\n",
    "let path = tempFolder </> \"test.txt\"\n",
    "\n",
    "let inline lockFile () = async {\n",
    "    trace Debug (fun () -> \"_1\") getLocals\n",
    "    use _ = new System.IO.FileStream (\n",
    "        path,\n",
    "        System.IO.FileMode.Open,\n",
    "        System.IO.FileAccess.ReadWrite,\n",
    "        System.IO.FileShare.None\n",
    "    )\n",
    "    trace Debug (fun () -> \"_2\") getLocals\n",
    "    do! Async.Sleep 2000\n",
    "    trace Debug (fun () -> \"_3\") getLocals\n",
    "}\n",
    "\n",
    "async {\n",
    "    trace Debug (fun () -> \"1\") getLocals\n",
    "    do! \"0\" |> writeAllTextAsync path\n",
    "    trace Debug (fun () -> \"2\") getLocals\n",
    "    let! child = lockFile () |> Async.StartChild\n",
    "    trace Debug (fun () -> \"3\") getLocals\n",
    "    do! Async.Sleep 1\n",
    "    trace Debug (fun () -> \"4\") getLocals\n",
    "    let! retries = deleteFileAsync path\n",
    "    trace Debug (fun () -> \"5\") getLocals\n",
    "    do! child\n",
    "    trace Debug (fun () -> \"6\") getLocals\n",
    "    return retries\n",
    "}\n",
    "|> Async.runWithTimeout 3000\n",
    "|> function\n",
    "    | Some retries ->\n",
    "        retries\n",
    "        |> _isBetween\n",
    "            (if Runtime.isWindows () then 100 else 0)\n",
    "            (if Runtime.isWindows () then 150 else 0)\n",
    "\n",
    "        true\n",
    "    | _ -> false\n",
    "|> _equal true"
   ]
  },
  {
   "cell_type": "markdown",
   "metadata": {},
   "source": [
    "## moveFileAsync"
   ]
  },
  {
   "cell_type": "code",
   "execution_count": null,
   "metadata": {
    "dotnet_interactive": {
     "language": "fsharp"
    },
    "polyglot_notebook": {
     "kernelName": "fsharp"
    }
   },
   "outputs": [],
   "source": [
    "let inline moveFileAsync newPath oldPath =\n",
    "    let rec loop retry = async {\n",
    "        try\n",
    "            System.IO.File.Move (oldPath, newPath)\n",
    "            return retry\n",
    "        with ex ->\n",
    "            if retry % 100 = 0 then\n",
    "                let getLocals () =\n",
    "                    $\"oldPath: {oldPath |> System.IO.Path.GetFileName} / newPath: {newPath |> System.IO.Path.GetFileName} / ex: {ex |> printException} / {getLocals ()}\"\n",
    "                trace Warning (fun () -> \"moveFileAsync\") getLocals\n",
    "            do! Async.Sleep 10\n",
    "            return! loop (retry + 1)\n",
    "    }\n",
    "    loop 0"
   ]
  },
  {
   "cell_type": "code",
   "execution_count": null,
   "metadata": {
    "dotnet_interactive": {
     "language": "fsharp"
    },
    "polyglot_notebook": {
     "kernelName": "fsharp"
    }
   },
   "outputs": [
    {
     "name": "stdout",
     "output_type": "stream",
     "text": [
      "00:00:06 #34 [Debug] 1\n",
      "00:00:06 #35 [Debug] 2\n",
      "00:00:06 #36 [Debug] 3\n",
      "00:00:06 #37 [Debug] _1\n",
      "00:00:06 #38 [Debug] _2\n",
      "00:00:06 #39 [Debug] 4\n",
      "00:00:06 #40 [Debug] 5\n",
      "00:00:06 #41 [Debug] waitForFileAccess / path: test2.txt / ex: System.IO.IOException: The process cannot access the file '/tmp/!dotnet-repl/20240311-0509-1216-1693-1412da70f254/test2.txt' because it is being used by another process.\n",
      "00:00:07 #42 [Debug] waitForFileAccess / path: test2.txt / ex: System.IO.IOException: The process cannot access the file '/tmp/!dotnet-repl/20240311-0509-1216-1693-1412da70f254/test2.txt' because it is being used by another process.\n",
      "00:00:08 #43 [Debug] _3\n",
      "00:00:08 #44 [Debug] 6\n",
      "00:00:08 #45 [Debug] 7\n",
      "00:00:08 #46 [Debug] 8\n",
      "0\n",
      "0\n",
      "0\n",
      "167\n",
      "167\n",
      "167\n",
      "0\n",
      "True\n"
     ]
    }
   ],
   "source": [
    "//// test\n",
    "\n",
    "let tempFolder = createTempDirectory ()\n",
    "let path = tempFolder </> \"test.txt\"\n",
    "let newPath = tempFolder </> \"test2.txt\"\n",
    "\n",
    "let inline lockFile () = async {\n",
    "    trace Debug (fun () -> \"_1\") getLocals\n",
    "    use _ = new System.IO.FileStream (\n",
    "        path,\n",
    "        System.IO.FileMode.Open,\n",
    "        System.IO.FileAccess.ReadWrite,\n",
    "        System.IO.FileShare.None\n",
    "    )\n",
    "    trace Debug (fun () -> \"_2\") getLocals\n",
    "    do! Async.Sleep 2000\n",
    "    trace Debug (fun () -> \"_3\") getLocals\n",
    "}\n",
    "\n",
    "async {\n",
    "    trace Debug (fun () -> \"1\") getLocals\n",
    "    do! \"0\" |> writeAllTextAsync path\n",
    "    trace Debug (fun () -> \"2\") getLocals\n",
    "    let! child = lockFile () |> Async.StartChild\n",
    "    trace Debug (fun () -> \"3\") getLocals\n",
    "    do! Async.Sleep 1\n",
    "    trace Debug (fun () -> \"4\") getLocals\n",
    "    let! retries1 = path |> moveFileAsync newPath\n",
    "    trace Debug (fun () -> \"5\") getLocals\n",
    "    let! retries2 = newPath |> waitForFileAccess None\n",
    "    trace Debug (fun () -> \"6\") getLocals\n",
    "    let! text = newPath |> readAllTextAsync\n",
    "    trace Debug (fun () -> \"7\") getLocals\n",
    "    do! child\n",
    "    trace Debug (fun () -> \"8\") getLocals\n",
    "    return retries1, retries2, text\n",
    "}\n",
    "|> Async.runWithTimeout 3000\n",
    "|> function\n",
    "    | Some (retries1, retries2, text) ->\n",
    "        retries1\n",
    "        |> _isBetween\n",
    "            (if Runtime.isWindows () then 100 else 0)\n",
    "            (if Runtime.isWindows () then 150 else 0)\n",
    "\n",
    "        retries2\n",
    "        |> _isBetween\n",
    "            (if Runtime.isWindows () then 0 else 100)\n",
    "            (if Runtime.isWindows () then 0 else 200)\n",
    "\n",
    "        text |> _equal \"0\"\n",
    "\n",
    "        true\n",
    "    | _ -> false\n",
    "|> _equal true"
   ]
  },
  {
   "cell_type": "markdown",
   "metadata": {},
   "source": [
    "## watchDirectory"
   ]
  },
  {
   "cell_type": "code",
   "execution_count": null,
   "metadata": {
    "dotnet_interactive": {
     "language": "fsharp"
    },
    "polyglot_notebook": {
     "kernelName": "fsharp"
    }
   },
   "outputs": [],
   "source": [
    "[<RequireQualifiedAccess>]\n",
    "type FileSystemChangeType =\n",
    "    | Failure\n",
    "    | Changed\n",
    "    | Created\n",
    "    | Deleted\n",
    "    | Renamed\n",
    "\n",
    "[<RequireQualifiedAccess>]\n",
    "type FileSystemChange =\n",
    "    | Failure of exn: exn\n",
    "    | Changed of path: string * content: string option\n",
    "    | Created of path: string * content: string option\n",
    "    | Deleted of path: string\n",
    "    | Renamed of oldPath: string * (string * string option)\n",
    "\n",
    "\n",
    "let inline watchDirectoryWithFilter filter shouldReadContent path =\n",
    "    let fullPath = path |> System.IO.Path.GetFullPath\n",
    "    let getLocals () = $\"filter: {filter} / {getLocals ()}\"\n",
    "\n",
    "    let watcher =\n",
    "        new System.IO.FileSystemWatcher (\n",
    "            Path = fullPath,\n",
    "            NotifyFilter = filter,\n",
    "            EnableRaisingEvents = true,\n",
    "            IncludeSubdirectories = true\n",
    "        )\n",
    "\n",
    "    let inline getEventPath (path : string) =\n",
    "        path |> String.trim |> String.replace fullPath \"\" |> String.trimStart [| '/'; '\\\\' |]\n",
    "\n",
    "    let inline ticks () =\n",
    "        System.DateTime.UtcNow.Ticks\n",
    "\n",
    "    let changedStream =\n",
    "        AsyncSeq.subscribeEvent\n",
    "            watcher.Changed\n",
    "            (fun event ->\n",
    "                ticks (),\n",
    "                [ FileSystemChange.Changed (getEventPath event.FullPath, None) ]\n",
    "            )\n",
    "\n",
    "    let deletedStream =\n",
    "        AsyncSeq.subscribeEvent\n",
    "            watcher.Deleted\n",
    "            (fun event ->\n",
    "                ticks (),\n",
    "                [ FileSystemChange.Deleted (getEventPath event.FullPath) ]\n",
    "            )\n",
    "\n",
    "    let createdStream =\n",
    "        AsyncSeq.subscribeEvent\n",
    "            watcher.Created\n",
    "            (fun event ->\n",
    "                let path = getEventPath event.FullPath\n",
    "                ticks (), [\n",
    "                    FileSystemChange.Created (path, None)\n",
    "                    if Runtime.isWindows () then\n",
    "                        FileSystemChange.Changed (path, None)\n",
    "                ])\n",
    "\n",
    "    let renamedStream =\n",
    "        AsyncSeq.subscribeEvent\n",
    "            watcher.Renamed\n",
    "            (fun event ->\n",
    "                ticks (), [\n",
    "                    FileSystemChange.Renamed (\n",
    "                        getEventPath event.OldFullPath,\n",
    "                        (getEventPath event.FullPath, None)\n",
    "                    )\n",
    "                ]\n",
    "            )\n",
    "\n",
    "    let failureStream =\n",
    "        AsyncSeq.subscribeEvent\n",
    "            watcher.Error\n",
    "            (fun event -> ticks (), [ FileSystemChange.Failure (event.GetException ()) ])\n",
    "\n",
    "    let stream =\n",
    "        [\n",
    "            changedStream\n",
    "            deletedStream\n",
    "            createdStream\n",
    "            renamedStream\n",
    "            failureStream\n",
    "        ]\n",
    "        |> FSharp.Control.AsyncSeq.mergeAll\n",
    "        |> FSharp.Control.AsyncSeq.map (fun (t, events) ->\n",
    "            events\n",
    "            |> List.fold\n",
    "                (fun (i, events) event ->\n",
    "                    i + 1L,\n",
    "                    (t + i, event) :: events)\n",
    "                (0L, [])\n",
    "            |> snd\n",
    "            |> List.rev\n",
    "        )\n",
    "        |> FSharp.Control.AsyncSeq.concatSeq\n",
    "        |> FSharp.Control.AsyncSeq.mapAsyncParallel (fun (t, event) -> async {\n",
    "            match shouldReadContent event, event with\n",
    "            | true, FileSystemChange.Changed (path, _) ->\n",
    "                do! Async.Sleep 5\n",
    "                let! content = fullPath </> path |> readAllTextRetryAsync\n",
    "                return t, FileSystemChange.Changed (path, content)\n",
    "            | true, FileSystemChange.Created (path, _) ->\n",
    "                do! Async.Sleep 5\n",
    "                let! content = fullPath </> path |> readAllTextRetryAsync\n",
    "                return t, FileSystemChange.Created (path, content)\n",
    "            | true, FileSystemChange.Renamed (oldPath, (newPath, _)) ->\n",
    "                let! content = fullPath </> newPath |> readAllTextRetryAsync\n",
    "                return t, FileSystemChange.Renamed (oldPath, (newPath, content))\n",
    "            | _ -> return t, event\n",
    "        })\n",
    "\n",
    "    let disposable =\n",
    "        newDisposable (fun () ->\n",
    "            trace Debug (fun () -> \"watchWithFilter / Disposing watch stream\") getLocals\n",
    "            watcher.EnableRaisingEvents <- false\n",
    "            watcher.Dispose ()\n",
    "        )\n",
    "\n",
    "    stream, disposable\n",
    "\n",
    "let inline watchDirectory path =\n",
    "    watchDirectoryWithFilter\n",
    "        (System.IO.NotifyFilters.FileName\n",
    "        // ||| System.IO.NotifyFilters.DirectoryName\n",
    "        // ||| System.IO.NotifyFilters.Attributes\n",
    "        //// ||| System.IO.NotifyFilters.Size\n",
    "        ||| System.IO.NotifyFilters.LastWrite\n",
    "        //// ||| System.IO.NotifyFilters.LastAccess\n",
    "        // ||| System.IO.NotifyFilters.CreationTime\n",
    "        // ||| System.IO.NotifyFilters.Security\n",
    "        )\n",
    "        path"
   ]
  },
  {
   "cell_type": "markdown",
   "metadata": {},
   "source": [
    "### testEventsRaw (test)"
   ]
  },
  {
   "cell_type": "code",
   "execution_count": null,
   "metadata": {
    "dotnet_interactive": {
     "language": "fsharp"
    },
    "polyglot_notebook": {
     "kernelName": "fsharp"
    }
   },
   "outputs": [],
   "source": [
    "//// test\n",
    "\n",
    "let inline testEventsRaw\n",
    "    (watchFn : (_ -> bool) -> string -> FSharp.Control.AsyncSeq<int64 * FileSystemChange> * IDisposable)\n",
    "    write\n",
    "    =\n",
    "    let tempDirectory = createTempDirectory ()\n",
    "    let stream, disposable = watchFn (fun _ -> true) tempDirectory\n",
    "\n",
    "    let events = System.Collections.Concurrent.ConcurrentBag ()\n",
    "\n",
    "    let inline iter () =\n",
    "        stream\n",
    "        |> FSharp.Control.AsyncSeq.iterAsyncParallel (fun event -> async { events.Add event })\n",
    "\n",
    "    let run = async {\n",
    "        let! _ = iter () |> Async.StartChild\n",
    "        do! Async.Sleep 250\n",
    "        return! write tempDirectory\n",
    "    }\n",
    "\n",
    "    try\n",
    "        run\n",
    "        |> Async.runWithTimeout 60000\n",
    "        |> _equal (Some ())\n",
    "    finally\n",
    "        disposable.Dispose ()\n",
    "        deleteDirectoryAsync tempDirectory |> Async.Ignore |> Async.RunSynchronously\n",
    "\n",
    "    let eventsLog =\n",
    "        events\n",
    "        |> Seq.toList\n",
    "        |> List.sortBy fst\n",
    "        |> List.fold\n",
    "            (fun (prev, acc) (ticks, event) ->\n",
    "                ticks, (ticks, (if prev = 0L then 0L else ticks - prev), event) :: acc\n",
    "            )\n",
    "            (0L, [])\n",
    "        |> snd\n",
    "        |> List.rev\n",
    "        |> List.map (fun (diff, n, event) ->\n",
    "            let text = $\"{n} / {diff} / {event}\"\n",
    "            if text |> String.length <= 100\n",
    "            then text\n",
    "            else text |> String.substring 0 100 |> String.replace \"\\n\" \"\"\n",
    "        )\n",
    "        |> String.concat \"\\n\"\n",
    "    let getLocals () = $\"eventsLog: \\n{eventsLog} / {getLocals ()}\"\n",
    "    trace Debug (fun () -> \"testEventsRaw\") getLocals\n",
    "\n",
    "    events\n",
    "    |> Seq.toList\n",
    "    |> List.sortBy fst\n",
    "    |> List.map snd\n",
    "    |> List.fold\n",
    "        (fun acc event ->\n",
    "            match acc, event with\n",
    "            | FileSystemChange.Changed (lastPath, Some lastContent) as lastEvent :: acc,\n",
    "                FileSystemChange.Changed (path, Some content)\n",
    "                when lastPath = path && content |> String.startsWith lastContent\n",
    "                ->\n",
    "                event :: acc\n",
    "            | _ -> event :: acc\n",
    "        )\n",
    "        []\n",
    "    |> List.rev"
   ]
  },
  {
   "cell_type": "markdown",
   "metadata": {},
   "source": [
    "#### fast (test)"
   ]
  },
  {
   "cell_type": "code",
   "execution_count": null,
   "metadata": {
    "dotnet_interactive": {
     "language": "fsharp"
    },
    "polyglot_notebook": {
     "kernelName": "fsharp"
    }
   },
   "outputs": [
    {
     "name": "stdout",
     "output_type": "stream",
     "text": [
      "FSharpOption<Unit>\n",
      "      Value: <null>\n",
      "00:00:13 #47 [Debug] watchWithFilter / Disposing watch stream / filter: FileName, LastWrite\n",
      "00:00:13 #48 [Debug] testEventsRaw / eventsLog: \n",
      "0 / 638457305573449505 / Created (\"file1.txt\", Some \"a1\")\n",
      "12317 / 638457305573461822 / Changed (\"file1.txt\", Some \"a1\")\n",
      "1647 / 638457305573463469 / Created (\"file2.txt\", Some \"a2\")\n",
      "33 / 638457305573463502 / Changed (\"file2.txt\", Some \"a2\")\n",
      "2487281 / 638457305575950783 / Changed (\"file1.txt\", Some \"b1\")\n",
      "654 / 638457305575951437 / Changed (\"file1.txt\", Some \"b1\")\n",
      "5020 / 638457305575956457 / Changed (\"file2.txt\", Some \"b2\")\n",
      "210 / 638457305575956667 / Changed (\"file2.txt\", Some \"b2\")\n",
      "2550658 / 638457305578507325 / Renamed (\"file1.txt\", (\"file_1.txt\", Some \"b1\"))\n",
      "1549 / 638457305578508874 / Renamed (\"file2.txt\", (\"file_2.txt\", Some \"b2\"))\n",
      "2540311 / 638457305581049185 / Changed (\"file_1.txt\", Some \"c1\")\n",
      "702 / 638457305581049887 / Changed (\"file_1.txt\", Some \"c1\")\n",
      "5235 / 638457305581055122 / Changed (\"file_2.txt\", Some \"c2\")\n",
      "176 / 638457305581055298 / Changed (\"file_2.txt\", Some \"c2\")\n",
      "2523386 / 638457305583578684 / Deleted \"file_1.txt\"\n",
      "1319 / 638457305583580003 / Deleted \"file_2.txt\"\n",
      "FSharpList<FileSystemChange>\n",
      "      - path: file1.txt\n",
      "        content: FSharpOption<String>\n",
      "          Value: a1\n",
      "        IsFailure: False\n",
      "        IsChanged: False\n",
      "        IsCreated: True\n",
      "        IsDeleted: False\n",
      "        IsRenamed: False\n",
      "      - path: file1.txt\n",
      "        content: FSharpOption<String>\n",
      "          Value: a1\n",
      "        IsFailure: False\n",
      "        IsChanged: True\n",
      "        IsCreated: False\n",
      "        IsDeleted: False\n",
      "        IsRenamed: False\n",
      "      - path: file2.txt\n",
      "        content: FSharpOption<String>\n",
      "          Value: a2\n",
      "        IsFailure: False\n",
      "        IsChanged: False\n",
      "        IsCreated: True\n",
      "        IsDeleted: False\n",
      "        IsRenamed: False\n",
      "      - path: file2.txt\n",
      "        content: FSharpOption<String>\n",
      "          Value: a2\n",
      "        IsFailure: False\n",
      "        IsChanged: True\n",
      "        IsCreated: False\n",
      "        IsDeleted: False\n",
      "        IsRenamed: False\n",
      "      - path: file1.txt\n",
      "        content: FSharpOption<String>\n",
      "          Value: b1\n",
      "        IsFailure: False\n",
      "        IsChanged: True\n",
      "        IsCreated: False\n",
      "        IsDeleted: False\n",
      "        IsRenamed: False\n",
      "      - path: file2.txt\n",
      "        content: FSharpOption<String>\n",
      "          Value: b2\n",
      "        IsFailure: False\n",
      "        IsChanged: True\n",
      "        IsCreated: False\n",
      "        IsDeleted: False\n",
      "        IsRenamed: False\n",
      "      - oldPath: file1.txt\n",
      "        Item2:         - file_1.txt\n",
      "        - FSharpOption<String>\n",
      "            Value: b1\n",
      "      - IsFailure: False\n",
      "        IsChanged: False\n",
      "        IsCreated: False\n",
      "        IsDeleted: False\n",
      "        IsRenamed: True\n",
      "      - oldPath: file2.txt\n",
      "        Item2:         - file_2.txt\n",
      "        - FSharpOption<String>\n",
      "            Value: b2\n",
      "      - IsFailure: False\n",
      "        IsChanged: False\n",
      "        IsCreated: False\n",
      "        IsDeleted: False\n",
      "        IsRenamed: True\n",
      "      - path: file_1.txt\n",
      "        content: FSharpOption<String>\n",
      "          Value: c1\n",
      "        IsFailure: False\n",
      "        IsChanged: True\n",
      "        IsCreated: False\n",
      "        IsDeleted: False\n",
      "        IsRenamed: False\n",
      "      - path: file_2.txt\n",
      "        content: FSharpOption<String>\n",
      "          Value: c2\n",
      "        IsFailure: False\n",
      "        IsChanged: True\n",
      "        IsCreated: False\n",
      "        IsDeleted: False\n",
      "        IsRenamed: False\n",
      "      - path: file_1.txt\n",
      "        IsFailure: False\n",
      "        IsChanged: False\n",
      "        IsCreated: False\n",
      "        IsDeleted: True\n",
      "        IsRenamed: False\n",
      "      - path: file_2.txt\n",
      "        IsFailure: False\n",
      "        IsChanged: False\n",
      "        IsCreated: False\n",
      "        IsDeleted: True\n",
      "        IsRenamed: False\n",
      "FSharpOption<Unit>\n",
      "      Value: <null>\n"
     ]
    }
   ],
   "source": [
    "//// test\n",
    "\n",
    "let inline write path = async {\n",
    "    let n = 2\n",
    "\n",
    "    for i = 1 to n do\n",
    "        do! $\"a{i}\" |> writeAllTextAsync (path </> $\"file{i}.txt\")\n",
    "\n",
    "    do! Async.Sleep 250\n",
    "\n",
    "    for i = 1 to n do\n",
    "        do! $\"b{i}\" |> writeAllTextAsync (path </> $\"file{i}.txt\")\n",
    "\n",
    "    do! Async.Sleep 250\n",
    "\n",
    "    for i = 1 to n do\n",
    "        do! path </> $\"file{i}.txt\" |> moveFileAsync (path </> $\"file_{i}.txt\") |> Async.Ignore\n",
    "\n",
    "    do! Async.Sleep 250\n",
    "\n",
    "    for i = 1 to n do\n",
    "        do! $\"c{i}\" |> writeAllTextAsync (path </> $\"file_{i}.txt\")\n",
    "\n",
    "    do! Async.Sleep 250\n",
    "\n",
    "    for i = 1 to n do\n",
    "        do! deleteFileAsync (path </> $\"file_{i}.txt\") |> Async.Ignore\n",
    "\n",
    "    do! Async.Sleep 250\n",
    "}\n",
    "\n",
    "let inline run () =\n",
    "    let events = testEventsRaw watchDirectory write\n",
    "\n",
    "    events\n",
    "    |> _sequenceEqual [\n",
    "        FileSystemChange.Created (\"file1.txt\", Some \"a1\")\n",
    "        FileSystemChange.Changed (\"file1.txt\", Some \"a1\")\n",
    "        FileSystemChange.Created (\"file2.txt\", Some \"a2\")\n",
    "        FileSystemChange.Changed (\"file2.txt\", Some \"a2\")\n",
    "\n",
    "        FileSystemChange.Changed (\"file1.txt\", Some \"b1\")\n",
    "        FileSystemChange.Changed (\"file2.txt\", Some \"b2\")\n",
    "\n",
    "        FileSystemChange.Renamed (\"file1.txt\", (\"file_1.txt\", Some \"b1\"))\n",
    "        FileSystemChange.Renamed (\"file2.txt\", (\"file_2.txt\", Some \"b2\"))\n",
    "\n",
    "        FileSystemChange.Changed (\"file_1.txt\", Some \"c1\")\n",
    "        FileSystemChange.Changed (\"file_2.txt\", Some \"c2\")\n",
    "\n",
    "        FileSystemChange.Deleted \"file_1.txt\"\n",
    "        FileSystemChange.Deleted \"file_2.txt\"\n",
    "    ]\n",
    "\n",
    "run\n",
    "|> retryFn 3\n",
    "|> _equal (Some ())"
   ]
  },
  {
   "cell_type": "markdown",
   "metadata": {},
   "source": [
    "#### slow (test)"
   ]
  },
  {
   "cell_type": "code",
   "execution_count": null,
   "metadata": {
    "dotnet_interactive": {
     "language": "fsharp"
    },
    "polyglot_notebook": {
     "kernelName": "fsharp"
    }
   },
   "outputs": [
    {
     "name": "stdout",
     "output_type": "stream",
     "text": [
      "FSharpOption<Unit>\n",
      "      Value: <null>\n",
      "00:00:23 #49 [Debug] watchWithFilter / Disposing watch stream / filter: FileName, LastWrite\n",
      "00:00:25 #50 [Debug] testEventsRaw / eventsLog: \n",
      "0 / 638457305613191104 / Created  (\"file1.txt\",   Some     \"1111111111111111111111111111111111111\n",
      "2532 / 638457305613193636 / Changed  (\"file1.txt\",   Some     \"1111111111111111111111111111111111\n",
      "215 / 638457305613193851 / Changed  (\"file1.txt\",   Some     \"11111111111111111111111111111111111\n",
      "41 / 638457305613193892 / Changed  (\"file1.txt\",   Some     \"111111111111111111111111111111111111\n",
      "11755 / 638457305613205647 / Changed  (\"file1.txt\",   Some     \"111111111111111111111111111111111\n",
      "81 / 638457305613205728 / Changed  (\"file1.txt\",   Some     \"111111111111111111111111111111111111\n",
      "2339 / 638457305613208067 / Changed  (\"file1.txt\",   Some     \"1111111111111111111111111111111111\n",
      "26770 / 638457305613234837 / Created  (\"file2.txt\",   Some     \"222222222222222222222222222222222\n",
      "183 / 638457305613235020 / Changed  (\"file2.txt\",   Some     \"22222222222222222222222222222222222\n",
      "228 / 638457305613235248 / Changed  (\"file2.txt\",   Some     \"22222222222222222222222222222222222\n",
      "534 / 638457305613235782 / Changed  (\"file2.txt\",   Some     \"22222222222222222222222222222222222\n",
      "103 / 638457305613235885 / Changed  (\"file2.txt\",   Some     \"22222222222222222222222222222222222\n",
      "187 / 638457305613236072 / Changed  (\"file2.txt\",   Some     \"22222222222222222222222222222222222\n",
      "166 / 638457305613236238 / Changed  (\"file2.txt\",   Some     \"22222222222222222222222222222222222\n",
      "556 / 638457305613236794 / Changed  (\"file2.txt\",   Some     \"22222222222222222222222222222222222\n",
      "89 / 638457305613236883 / Changed  (\"file2.txt\",   Some     \"222222222222222222222222222222222222\n",
      "177 / 638457305613237060 / Changed  (\"file2.txt\",   Some     \"22222222222222222222222222222222222\n",
      "208 / 638457305613237268 / Changed  (\"file2.txt\",   Some     \"22222222222222222222222222222222222\n",
      "110 / 638457305613237378 / Changed  (\"file2.txt\",   Some     \"22222222222222222222222222222222222\n",
      "158 / 638457305613237536 / Changed  (\"file2.txt\",   Some     \"22222222222222222222222222222222222\n",
      "197 / 638457305613237733 / Changed  (\"file2.txt\",   Some     \"22222222222222222222222222222222222\n",
      "14705 / 638457305613252438 / Changed  (\"file2.txt\",   Some     \"222222222222222222222222222222222\n",
      "281 / 638457305613252719 / Changed  (\"file2.txt\",   Some     \"22222222222222222222222222222222222\n",
      "33 / 638457305613252752 / Changed  (\"file2.txt\",   Some     \"222222222222222222222222222222222222\n",
      "222 / 638457305613252974 / Changed  (\"file2.txt\",   Some     \"22222222222222222222222222222222222\n",
      "3304 / 638457305613256278 / Changed  (\"file2.txt\",   Some     \"2222222222222222222222222222222222\n",
      "15025997 / 638457305628282275 / Changed  (\"file1.txt\",   Some     \"111111111111111111111111111111\n",
      "1062 / 638457305628283337 / Changed  (\"file1.txt\",   Some     \"1111111111111111111111111111111111\n",
      "1140 / 638457305628284477 / Changed  (\"file1.txt\",   Some     \"1111111111111111111111111111111111\n",
      "56 / 638457305628284533 / Changed  (\"file1.txt\",   Some     \"111111111111111111111111111111111111\n",
      "181 / 638457305628284714 / Changed  (\"file1.txt\",   Some     \"11111111111111111111111111111111111\n",
      "92 / 638457305628284806 / Changed  (\"file1.txt\",   Some     \"111111111111111111111111111111111111\n",
      "280 / 638457305628285086 / Changed  (\"file1.txt\",   Some     \"11111111111111111111111111111111111\n",
      "43 / 638457305628285129 / Changed  (\"file1.txt\",   Some     \"111111111111111111111111111111111111\n",
      "225 / 638457305628285354 / Changed  (\"file1.txt\",   Some     \"11111111111111111111111111111111111\n",
      "273 / 638457305628285627 / Changed  (\"file1.txt\",   Some     \"11111111111111111111111111111111111\n",
      "130 / 638457305628285757 / Changed  (\"file1.txt\",   Some     \"11111111111111111111111111111111111\n",
      "212 / 638457305628285969 / Changed  (\"file1.txt\",   Some     \"11111111111111111111111111111111111\n",
      "129 / 638457305628286098 / Changed  (\"file1.txt\",   Some     \"11111111111111111111111111111111111\n",
      "144 / 638457305628286242 / Changed  (\"file1.txt\",   Some     \"11111111111111111111111111111111111\n",
      "238 / 638457305628286480 / Changed  (\"file1.txt\",   Some     \"11111111111111111111111111111111111\n",
      "43 / 638457305628286523 / Changed  (\"file1.txt\",   Some     \"111111111111111111111111111111111111\n",
      "582 / 638457305628287105 / Changed  (\"file1.txt\",   Some     \"11111111111111111111111111111111111\n",
      "61 / 638457305628287166 / Changed  (\"file1.txt\",   Some     \"111111111111111111111111111111111111\n",
      "173 / 638457305628287339 / Changed  (\"file1.txt\",   Some     \"11111111111111111111111111111111111\n",
      "140 / 638457305628287479 / Changed  (\"file1.txt\",   Some     \"11111111111111111111111111111111111\n",
      "136 / 638457305628287615 / Changed  (\"file1.txt\",   Some     \"11111111111111111111111111111111111\n",
      "262 / 638457305628287877 / Changed  (\"file1.txt\",   Some     \"11111111111111111111111111111111111\n",
      "45 / 638457305628287922 / Changed  (\"file1.txt\",   Some     \"111111111111111111111111111111111111\n",
      "225 / 638457305628288147 / Changed  (\"file1.txt\",   Some     \"11111111111111111111111111111111111\n",
      "90 / 638457305628288237 / Changed  (\"file1.txt\",   Some     \"111111111111111111111111111111111111\n",
      "192 / 638457305628288429 / Changed  (\"file1.txt\",   Some     \"11111111111111111111111111111111111\n",
      "133 / 638457305628288562 / Changed  (\"file1.txt\",   Some     \"11111111111111111111111111111111111\n",
      "145 / 638457305628288707 / Changed  (\"file1.txt\",   Some     \"11111111111111111111111111111111111\n",
      "160 / 638457305628288867 / Changed  (\"file1.txt\",   Some     \"11111111111111111111111111111111111\n",
      "406 / 638457305628289273 / Changed  (\"file1.txt\",   Some     \"11111111111111111111111111111111111\n",
      "192 / 638457305628289465 / Changed  (\"file1.txt\",   Some     \"11111111111111111111111111111111111\n",
      "351 / 638457305628289816 / Changed  (\"file1.txt\",   Some     \"11111111111111111111111111111111111\n",
      "220 / 638457305628290036 / Changed  (\"file1.txt\",   Some     \"11111111111111111111111111111111111\n",
      "267 / 638457305628290303 / Changed  (\"file1.txt\",   Some     \"11111111111111111111111111111111111\n",
      "145 / 638457305628290448 / Changed  (\"file1.txt\",   Some     \"11111111111111111111111111111111111\n",
      "290 / 638457305628290738 / Changed  (\"file1.txt\",   Some     \"11111111111111111111111111111111111\n",
      "215 / 638457305628290953 / Changed  (\"file1.txt\",   Some     \"11111111111111111111111111111111111\n",
      "101 / 638457305628291054 / Changed  (\"file1.txt\",   Some     \"11111111111111111111111111111111111\n",
      "268 / 638457305628291322 / Changed  (\"file1.txt\",   Some     \"11111111111111111111111111111111111\n",
      "103 / 638457305628291425 / Changed  (\"file1.txt\",   Some     \"11111111111111111111111111111111111\n",
      "356 / 638457305628291781 / Changed  (\"file1.txt\",   Some     \"11111111111111111111111111111111111\n",
      "60 / 638457305628291841 / Changed  (\"file1.txt\",   Some     \"111111111111111111111111111111111111\n",
      "279 / 638457305628292120 / Changed  (\"file1.txt\",   Some     \"11111111111111111111111111111111111\n",
      "50 / 638457305628292170 / Changed  (\"file1.txt\",   Some     \"111111111111111111111111111111111111\n",
      "242 / 638457305628292412 / Changed  (\"file1.txt\",   Some     \"11111111111111111111111111111111111\n",
      "140 / 638457305628292552 / Changed  (\"file1.txt\",   Some     \"11111111111111111111111111111111111\n",
      "160 / 638457305628292712 / Changed  (\"file1.txt\",   Some     \"11111111111111111111111111111111111\n",
      "212 / 638457305628292924 / Changed  (\"file1.txt\",   Some     \"11111111111111111111111111111111111\n",
      "45 / 638457305628292969 / Changed  (\"file1.txt\",   Some     \"111111111111111111111111111111111111\n",
      "173 / 638457305628293142 / Changed  (\"file1.txt\",   Some     \"11111111111111111111111111111111111\n",
      "139 / 638457305628293281 / Changed  (\"file1.txt\",   Some     \"11111111111111111111111111111111111\n",
      "148 / 638457305628293429 / Changed  (\"file1.txt\",   Some     \"11111111111111111111111111111111111\n",
      "334 / 638457305628293763 / Changed  (\"file1.txt\",   Some     \"11111111111111111111111111111111111\n",
      "229 / 638457305628293992 / Changed  (\"file1.txt\",   Some     \"11111111111111111111111111111111111\n",
      "59 / 638457305628294051 / Changed  (\"file1.txt\",   Some     \"111111111111111111111111111111111111\n",
      "347 / 638457305628294398 / Changed  (\"file1.txt\",   Some     \"11111111111111111111111111111111111\n",
      "119 / 638457305628294517 / Changed  (\"file1.txt\",   Some     \"11111111111111111111111111111111111\n",
      "174 / 638457305628294691 / Changed  (\"file1.txt\",   Some     \"11111111111111111111111111111111111\n",
      "46 / 638457305628294737 / Changed  (\"file1.txt\",   Some     \"111111111111111111111111111111111111\n",
      "292 / 638457305628295029 / Changed  (\"file1.txt\",   Some     \"11111111111111111111111111111111111\n",
      "51 / 638457305628295080 / Changed  (\"file1.txt\",   Some     \"111111111111111111111111111111111111\n",
      "178 / 638457305628295258 / Changed  (\"file1.txt\",   Some     \"11111111111111111111111111111111111\n",
      "243 / 638457305628295501 / Changed  (\"file1.txt\",   Some     \"11111111111111111111111111111111111\n",
      "29 / 638457305628295530 / Changed  (\"file1.txt\",   Some     \"111111111111111111111111111111111111\n",
      "244 / 638457305628295774 / Changed  (\"file1.txt\",   Some     \"11111111111111111111111111111111111\n",
      "48 / 638457305628295822 / Changed  (\"file1.txt\",   Some     \"111111111111111111111111111111111111\n",
      "250 / 638457305628296072 / Changed  (\"file1.txt\",   Some     \"11111111111111111111111111111111111\n",
      "48 / 638457305628296120 / Changed  (\"file1.txt\",   Some     \"111111111111111111111111111111111111\n",
      "189 / 638457305628296309 / Changed  (\"file1.txt\",   Some     \"11111111111111111111111111111111111\n",
      "42 / 638457305628296351 / Changed  (\"file1.txt\",   Some     \"111111111111111111111111111111111111\n",
      "305 / 638457305628296656 / Changed  (\"file1.txt\",   Some     \"11111111111111111111111111111111111\n",
      "30 / 638457305628296686 / Changed  (\"file1.txt\",   Some     \"111111111111111111111111111111111111\n",
      "176 / 638457305628296862 / Changed  (\"file1.txt\",   Some     \"11111111111111111111111111111111111\n",
      "201 / 638457305628297063 / Changed  (\"file1.txt\",   Some     \"11111111111111111111111111111111111\n",
      "143 / 638457305628297206 / Changed  (\"file1.txt\",   Some     \"11111111111111111111111111111111111\n",
      "161 / 638457305628297367 / Changed  (\"file1.txt\",   Some     \"11111111111111111111111111111111111\n",
      "223 / 638457305628297590 / Changed  (\"file1.txt\",   Some     \"11111111111111111111111111111111111\n",
      "27 / 638457305628297617 / Changed  (\"file1.txt\",   Some     \"111111111111111111111111111111111111\n",
      "172 / 638457305628297789 / Changed  (\"file1.txt\",   Some     \"11111111111111111111111111111111111\n",
      "153 / 638457305628297942 / Changed  (\"file1.txt\",   Some     \"11111111111111111111111111111111111\n",
      "223 / 638457305628298165 / Changed  (\"file1.txt\",   Some     \"11111111111111111111111111111111111\n",
      "298 / 638457305628298463 / Changed  (\"file1.txt\",   Some     \"11111111111111111111111111111111111\n",
      "114 / 638457305628298577 / Changed  (\"file1.txt\",   Some     \"11111111111111111111111111111111111\n",
      "274 / 638457305628298851 / Changed  (\"file1.txt\",   Some     \"11111111111111111111111111111111111\n",
      "217 / 638457305628299068 / Changed  (\"file1.txt\",   Some     \"11111111111111111111111111111111111\n",
      "157 / 638457305628299225 / Changed  (\"file1.txt\",   Some     \"11111111111111111111111111111111111\n",
      "228 / 638457305628299453 / Changed  (\"file1.txt\",   Some     \"11111111111111111111111111111111111\n",
      "205 / 638457305628299658 / Changed  (\"file1.txt\",   Some     \"11111111111111111111111111111111111\n",
      "98 / 638457305628299756 / Changed  (\"file1.txt\",   Some     \"111111111111111111111111111111111111\n",
      "258 / 638457305628300014 / Changed  (\"file1.txt\",   Some     \"11111111111111111111111111111111111\n",
      "213 / 638457305628300227 / Changed  (\"file1.txt\",   Some     \"11111111111111111111111111111111111\n",
      "42 / 638457305628300269 / Changed  (\"file1.txt\",   Some     \"111111111111111111111111111111111111\n",
      "287 / 638457305628300556 / Changed  (\"file1.txt\",   Some     \"11111111111111111111111111111111111\n",
      "210 / 638457305628300766 / Changed  (\"file1.txt\",   Some     \"11111111111111111111111111111111111\n",
      "103 / 638457305628300869 / Changed  (\"file1.txt\",   Some     \"11111111111111111111111111111111111\n",
      "272 / 638457305628301141 / Changed  (\"file1.txt\",   Some     \"11111111111111111111111111111111111\n",
      "103 / 638457305628301244 / Changed  (\"file1.txt\",   Some     \"11111111111111111111111111111111111\n",
      "265 / 638457305628301509 / Changed  (\"file1.txt\",   Some     \"11111111111111111111111111111111111\n",
      "103 / 638457305628301612 / Changed  (\"file1.txt\",   Some     \"11111111111111111111111111111111111\n",
      "333 / 638457305628301945 / Changed  (\"file1.txt\",   Some     \"11111111111111111111111111111111111\n",
      "219 / 638457305628302164 / Changed  (\"file1.txt\",   Some     \"11111111111111111111111111111111111\n",
      "42 / 638457305628302206 / Changed  (\"file1.txt\",   Some     \"111111111111111111111111111111111111\n",
      "254 / 638457305628302460 / Changed  (\"file1.txt\",   Some     \"11111111111111111111111111111111111\n",
      "180 / 638457305628302640 / Changed  (\"file1.txt\",   Some     \"11111111111111111111111111111111111\n",
      "180 / 638457305628302820 / Changed  (\"file1.txt\",   Some     \"11111111111111111111111111111111111\n",
      "95 / 638457305628302915 / Changed  (\"file1.txt\",   Some     \"111111111111111111111111111111111111\n",
      "229 / 638457305628303144 / Changed  (\"file1.txt\",   Some     \"11111111111111111111111111111111111\n",
      "154 / 638457305628303298 / Changed  (\"file1.txt\",   Some     \"11111111111111111111111111111111111\n",
      "213 / 638457305628303511 / Changed  (\"file1.txt\",   Some     \"11111111111111111111111111111111111\n",
      "226 / 638457305628303737 / Changed  (\"file1.txt\",   Some     \"11111111111111111111111111111111111\n",
      "49 / 638457305628303786 / Changed  (\"file1.txt\",   Some     \"111111111111111111111111111111111111\n",
      "154 / 638457305628303940 / Changed  (\"file1.txt\",   Some     \"11111111111111111111111111111111111\n",
      "202 / 638457305628304142 / Changed  (\"file1.txt\",   Some     \"11111111111111111111111111111111111\n",
      "37 / 638457305628304179 / Changed  (\"file1.txt\",   Some     \"111111111111111111111111111111111111\n",
      "289 / 638457305628304468 / Changed  (\"file1.txt\",   Some     \"11111111111111111111111111111111111\n",
      "201 / 638457305628304669 / Changed  (\"file1.txt\",   Some     \"11111111111111111111111111111111111\n",
      "40 / 638457305628304709 / Changed  (\"file1.txt\",   Some     \"111111111111111111111111111111111111\n",
      "214 / 638457305628304923 / Changed  (\"file1.txt\",   Some     \"11111111111111111111111111111111111\n",
      "175 / 638457305628305098 / Changed  (\"file1.txt\",   Some     \"11111111111111111111111111111111111\n",
      "167 / 638457305628305265 / Changed  (\"file1.txt\",   Some     \"11111111111111111111111111111111111\n",
      "200 / 638457305628305465 / Changed  (\"file1.txt\",   Some     \"11111111111111111111111111111111111\n",
      "51 / 638457305628305516 / Changed  (\"file1.txt\",   Some     \"111111111111111111111111111111111111\n",
      "202 / 638457305628305718 / Changed  (\"file1.txt\",   Some     \"11111111111111111111111111111111111\n",
      "16829 / 638457305628322547 / Changed  (\"file2.txt\",   Some     \"222222222222222222222222222222222\n",
      "227 / 638457305628322774 / Changed  (\"file2.txt\",   Some     \"22222222222222222222222222222222222\n",
      "308 / 638457305628323082 / Changed  (\"file2.txt\",   Some     \"22222222222222222222222222222222222\n",
      "263 / 638457305628323345 / Changed  (\"file2.txt\",   Some     \"22222222222222222222222222222222222\n",
      "266 / 638457305628323611 / Changed  (\"file2.txt\",   Some     \"22222222222222222222222222222222222\n",
      "151 / 638457305628323762 / Changed  (\"file2.txt\",   Some     \"22222222222222222222222222222222222\n",
      "190 / 638457305628323952 / Changed  (\"file2.txt\",   Some     \"22222222222222222222222222222222222\n",
      "155 / 638457305628324107 / Changed  (\"file2.txt\",   Some     \"22222222222222222222222222222222222\n",
      "158 / 638457305628324265 / Changed  (\"file2.txt\",   Some     \"22222222222222222222222222222222222\n",
      "274 / 638457305628324539 / Changed  (\"file2.txt\",   Some     \"22222222222222222222222222222222222\n",
      "209 / 638457305628324748 / Changed  (\"file2.txt\",   Some     \"22222222222222222222222222222222222\n",
      "206 / 638457305628324954 / Changed  (\"file2.txt\",   Some     \"22222222222222222222222222222222222\n",
      "88 / 638457305628325042 / Changed  (\"file2.txt\",   Some     \"222222222222222222222222222222222222\n",
      "230 / 638457305628325272 / Changed  (\"file2.txt\",   Some     \"22222222222222222222222222222222222\n",
      "175 / 638457305628325447 / Changed  (\"file2.txt\",   Some     \"22222222222222222222222222222222222\n",
      "219 / 638457305628325666 / Changed  (\"file2.txt\",   Some     \"22222222222222222222222222222222222\n",
      "95 / 638457305628325761 / Changed  (\"file2.txt\",   Some     \"222222222222222222222222222222222222\n",
      "302 / 638457305628326063 / Changed  (\"file2.txt\",   Some     \"22222222222222222222222222222222222\n",
      "168 / 638457305628326231 / Changed  (\"file2.txt\",   Some     \"22222222222222222222222222222222222\n",
      "105 / 638457305628326336 / Changed  (\"file2.txt\",   Some     \"22222222222222222222222222222222222\n",
      "205 / 638457305628326541 / Changed  (\"file2.txt\",   Some     \"22222222222222222222222222222222222\n",
      "180 / 638457305628326721 / Changed  (\"file2.txt\",   Some     \"22222222222222222222222222222222222\n",
      "216 / 638457305628326937 / Changed  (\"file2.txt\",   Some     \"22222222222222222222222222222222222\n",
      "152 / 638457305628327089 / Changed  (\"file2.txt\",   Some     \"22222222222222222222222222222222222\n",
      "103 / 638457305628327192 / Changed  (\"file2.txt\",   Some     \"22222222222222222222222222222222222\n",
      "262 / 638457305628327454 / Changed  (\"file2.txt\",   Some     \"22222222222222222222222222222222222\n",
      "242 / 638457305628327696 / Changed  (\"file2.txt\",   Some     \"22222222222222222222222222222222222\n",
      "47 / 638457305628327743 / Changed  (\"file2.txt\",   Some     \"222222222222222222222222222222222222\n",
      "223 / 638457305628327966 / Changed  (\"file2.txt\",   Some     \"22222222222222222222222222222222222\n",
      "147 / 638457305628328113 / Changed  (\"file2.txt\",   Some     \"22222222222222222222222222222222222\n",
      "216 / 638457305628328329 / Changed  (\"file2.txt\",   Some     \"22222222222222222222222222222222222\n",
      "161 / 638457305628328490 / Changed  (\"file2.txt\",   Some     \"22222222222222222222222222222222222\n",
      "94 / 638457305628328584 / Changed  (\"file2.txt\",   Some     \"222222222222222222222222222222222222\n",
      "231 / 638457305628328815 / Changed  (\"file2.txt\",   Some     \"22222222222222222222222222222222222\n",
      "251 / 638457305628329066 / Changed  (\"file2.txt\",   Some     \"22222222222222222222222222222222222\n",
      "237 / 638457305628329303 / Changed  (\"file2.txt\",   Some     \"22222222222222222222222222222222222\n",
      "142 / 638457305628329445 / Changed  (\"file2.txt\",   Some     \"22222222222222222222222222222222222\n",
      "100 / 638457305628329545 / Changed  (\"file2.txt\",   Some     \"22222222222222222222222222222222222\n",
      "197 / 638457305628329742 / Changed  (\"file2.txt\",   Some     \"22222222222222222222222222222222222\n",
      "236 / 638457305628329978 / Changed  (\"file2.txt\",   Some     \"22222222222222222222222222222222222\n",
      "100 / 638457305628330078 / Changed  (\"file2.txt\",   Some     \"22222222222222222222222222222222222\n",
      "209 / 638457305628330287 / Changed  (\"file2.txt\",   Some     \"22222222222222222222222222222222222\n",
      "98 / 638457305628330385 / Changed  (\"file2.txt\",   Some     \"222222222222222222222222222222222222\n",
      "206 / 638457305628330591 / Changed  (\"file2.txt\",   Some     \"22222222222222222222222222222222222\n",
      "209 / 638457305628330800 / Changed  (\"file2.txt\",   Some     \"22222222222222222222222222222222222\n",
      "98 / 638457305628330898 / Changed  (\"file2.txt\",   Some     \"222222222222222222222222222222222222\n",
      "223 / 638457305628331121 / Changed  (\"file2.txt\",   Some     \"22222222222222222222222222222222222\n",
      "173 / 638457305628331294 / Changed  (\"file2.txt\",   Some     \"22222222222222222222222222222222222\n",
      "196 / 638457305628331490 / Changed  (\"file2.txt\",   Some     \"22222222222222222222222222222222222\n",
      "192 / 638457305628331682 / Changed  (\"file2.txt\",   Some     \"22222222222222222222222222222222222\n",
      "103 / 638457305628331785 / Changed  (\"file2.txt\",   Some     \"22222222222222222222222222222222222\n",
      "188 / 638457305628331973 / Changed  (\"file2.txt\",   Some     \"22222222222222222222222222222222222\n",
      "188 / 638457305628332161 / Changed  (\"file2.txt\",   Some     \"22222222222222222222222222222222222\n",
      "267 / 638457305628332428 / Changed  (\"file2.txt\",   Some     \"22222222222222222222222222222222222\n",
      "210 / 638457305628332638 / Changed  (\"file2.txt\",   Some     \"22222222222222222222222222222222222\n",
      "170 / 638457305628332808 / Changed  (\"file2.txt\",   Some     \"22222222222222222222222222222222222\n",
      "197 / 638457305628333005 / Changed  (\"file2.txt\",   Some     \"22222222222222222222222222222222222\n",
      "242 / 638457305628333247 / Changed  (\"file2.txt\",   Some     \"22222222222222222222222222222222222\n",
      "208 / 638457305628333455 / Changed  (\"file2.txt\",   Some     \"22222222222222222222222222222222222\n",
      "42 / 638457305628333497 / Changed  (\"file2.txt\",   Some     \"222222222222222222222222222222222222\n",
      "229 / 638457305628333726 / Changed  (\"file2.txt\",   Some     \"22222222222222222222222222222222222\n",
      "181 / 638457305628333907 / Changed  (\"file2.txt\",   Some     \"22222222222222222222222222222222222\n",
      "230 / 638457305628334137 / Changed  (\"file2.txt\",   Some     \"22222222222222222222222222222222222\n",
      "236 / 638457305628334373 / Changed  (\"file2.txt\",   Some     \"22222222222222222222222222222222222\n",
      "201 / 638457305628334574 / Changed  (\"file2.txt\",   Some     \"22222222222222222222222222222222222\n",
      "321 / 638457305628334895 / Changed  (\"file2.txt\",   Some     \"22222222222222222222222222222222222\n",
      "204 / 638457305628335099 / Changed  (\"file2.txt\",   Some     \"22222222222222222222222222222222222\n",
      "113 / 638457305628335212 / Changed  (\"file2.txt\",   Some     \"22222222222222222222222222222222222\n",
      "262 / 638457305628335474 / Changed  (\"file2.txt\",   Some     \"22222222222222222222222222222222222\n",
      "269 / 638457305628335743 / Changed  (\"file2.txt\",   Some     \"22222222222222222222222222222222222\n",
      "200 / 638457305628335943 / Changed  (\"file2.txt\",   Some     \"22222222222222222222222222222222222\n",
      "162 / 638457305628336105 / Changed  (\"file2.txt\",   Some     \"22222222222222222222222222222222222\n",
      "249 / 638457305628336354 / Changed  (\"file2.txt\",   Some     \"22222222222222222222222222222222222\n",
      "207 / 638457305628336561 / Changed  (\"file2.txt\",   Some     \"22222222222222222222222222222222222\n",
      "237 / 638457305628336798 / Changed  (\"file2.txt\",   Some     \"22222222222222222222222222222222222\n",
      "291 / 638457305628337089 / Changed  (\"file2.txt\",   Some     \"22222222222222222222222222222222222\n",
      "274 / 638457305628337363 / Changed  (\"file2.txt\",   Some     \"22222222222222222222222222222222222\n",
      "190 / 638457305628337553 / Changed  (\"file2.txt\",   Some     \"22222222222222222222222222222222222\n",
      "273 / 638457305628337826 / Changed  (\"file2.txt\",   Some     \"22222222222222222222222222222222222\n",
      "167 / 638457305628337993 / Changed  (\"file2.txt\",   Some     \"22222222222222222222222222222222222\n",
      "200 / 638457305628338193 / Changed  (\"file2.txt\",   Some     \"22222222222222222222222222222222222\n",
      "57 / 638457305628338250 / Changed  (\"file2.txt\",   Some     \"222222222222222222222222222222222222\n",
      "287 / 638457305628338537 / Changed  (\"file2.txt\",   Some     \"22222222222222222222222222222222222\n",
      "237 / 638457305628338774 / Changed  (\"file2.txt\",   Some     \"22222222222222222222222222222222222\n",
      "42 / 638457305628338816 / Changed  (\"file2.txt\",   Some     \"222222222222222222222222222222222222\n",
      "227 / 638457305628339043 / Changed  (\"file2.txt\",   Some     \"22222222222222222222222222222222222\n",
      "198 / 638457305628339241 / Changed  (\"file2.txt\",   Some     \"22222222222222222222222222222222222\n",
      "232 / 638457305628339473 / Changed  (\"file2.txt\",   Some     \"22222222222222222222222222222222222\n",
      "233 / 638457305628339706 / Changed  (\"file2.txt\",   Some     \"22222222222222222222222222222222222\n",
      "227 / 638457305628339933 / Changed  (\"file2.txt\",   Some     \"22222222222222222222222222222222222\n",
      "444 / 638457305628340377 / Changed  (\"file2.txt\",   Some     \"22222222222222222222222222222222222\n",
      "266 / 638457305628340643 / Changed  (\"file2.txt\",   Some     \"22222222222222222222222222222222222\n",
      "159 / 638457305628340802 / Changed  (\"file2.txt\",   Some     \"22222222222222222222222222222222222\n",
      "162 / 638457305628340964 / Changed  (\"file2.txt\",   Some     \"22222222222222222222222222222222222\n",
      "194 / 638457305628341158 / Changed  (\"file2.txt\",   Some     \"22222222222222222222222222222222222\n",
      "180 / 638457305628341338 / Changed  (\"file2.txt\",   Some     \"22222222222222222222222222222222222\n",
      "187 / 638457305628341525 / Changed  (\"file2.txt\",   Some     \"22222222222222222222222222222222222\n",
      "151 / 638457305628341676 / Changed  (\"file2.txt\",   Some     \"22222222222222222222222222222222222\n",
      "191 / 638457305628341867 / Changed  (\"file2.txt\",   Some     \"22222222222222222222222222222222222\n",
      "181 / 638457305628342048 / Changed  (\"file2.txt\",   Some     \"22222222222222222222222222222222222\n",
      "191 / 638457305628342239 / Changed  (\"file2.txt\",   Some     \"22222222222222222222222222222222222\n",
      "159 / 638457305628342398 / Changed  (\"file2.txt\",   Some     \"22222222222222222222222222222222222\n",
      "161 / 638457305628342559 / Changed  (\"file2.txt\",   Some     \"22222222222222222222222222222222222\n",
      "254 / 638457305628342813 / Changed  (\"file2.txt\",   Some     \"22222222222222222222222222222222222\n",
      "221 / 638457305628343034 / Changed  (\"file2.txt\",   Some     \"22222222222222222222222222222222222\n",
      "214 / 638457305628343248 / Changed  (\"file2.txt\",   Some     \"22222222222222222222222222222222222\n",
      "206 / 638457305628343454 / Changed  (\"file2.txt\",   Some     \"22222222222222222222222222222222222\n",
      "193 / 638457305628343647 / Changed  (\"file2.txt\",   Some     \"22222222222222222222222222222222222\n",
      "179 / 638457305628343826 / Changed  (\"file2.txt\",   Some     \"22222222222222222222222222222222222\n",
      "201 / 638457305628344027 / Changed  (\"file2.txt\",   Some     \"22222222222222222222222222222222222\n",
      "189 / 638457305628344216 / Changed  (\"file2.txt\",   Some     \"22222222222222222222222222222222222\n",
      "187 / 638457305628344403 / Changed  (\"file2.txt\",   Some     \"22222222222222222222222222222222222\n",
      "227 / 638457305628344630 / Changed  (\"file2.txt\",   Some     \"22222222222222222222222222222222222\n",
      "221 / 638457305628344851 / Changed  (\"file2.txt\",   Some     \"22222222222222222222222222222222222\n",
      "101 / 638457305628344952 / Changed  (\"file2.txt\",   Some     \"22222222222222222222222222222222222\n",
      "245 / 638457305628345197 / Changed  (\"file2.txt\",   Some     \"22222222222222222222222222222222222\n",
      "106 / 638457305628345303 / Changed  (\"file2.txt\",   Some     \"22222222222222222222222222222222222\n",
      "218 / 638457305628345521 / Changed  (\"file2.txt\",   Some     \"22222222222222222222222222222222222\n",
      "85 / 638457305628345606 / Changed  (\"file2.txt\",   Some     \"222222222222222222222222222222222222\n",
      "213 / 638457305628345819 / Changed  (\"file2.txt\",   Some     \"22222222222222222222222222222222222\n",
      "191 / 638457305628346010 / Changed  (\"file2.txt\",   Some     \"22222222222222222222222222222222222\n",
      "103 / 638457305628346113 / Changed  (\"file2.txt\",   Some     \"22222222222222222222222222222222222\n",
      "235 / 638457305628346348 / Changed  (\"file2.txt\",   Some     \"22222222222222222222222222222222222\n",
      "36 / 638457305628346384 / Changed  (\"file2.txt\",   Some     \"222222222222222222222222222222222222\n",
      "15051079 / 638457305643397463 / Renamed  (\"file1.txt\",   (\"file_1.txt\",    Some      \"1111111111\n",
      "327 / 638457305643397790 / Renamed  (\"file2.txt\",   (\"file_2.txt\",    Some      \"222222222222222\n",
      "15067898 / 638457305658465688 / Changed  (\"file_1.txt\",   Some     \"11111111111111111111111111111\n",
      "786 / 638457305658466474 / Changed  (\"file_1.txt\",   Some     \"1111111111111111111111111111111111\n",
      "586 / 638457305658467060 / Changed  (\"file_1.txt\",   Some     \"1111111111111111111111111111111111\n",
      "612 / 638457305658467672 / Changed  (\"file_1.txt\",   Some     \"1111111111111111111111111111111111\n",
      "331 / 638457305658468003 / Changed  (\"file_1.txt\",   Some     \"1111111111111111111111111111111111\n",
      "214 / 638457305658468217 / Changed  (\"file_1.txt\",   Some     \"1111111111111111111111111111111111\n",
      "274 / 638457305658468491 / Changed  (\"file_1.txt\",   Some     \"1111111111111111111111111111111111\n",
      "263 / 638457305658468754 / Changed  (\"file_1.txt\",   Some     \"1111111111111111111111111111111111\n",
      "263 / 638457305658469017 / Changed  (\"file_1.txt\",   Some     \"1111111111111111111111111111111111\n",
      "248 / 638457305658469265 / Changed  (\"file_1.txt\",   Some     \"1111111111111111111111111111111111\n",
      "291 / 638457305658469556 / Changed  (\"file_1.txt\",   Some     \"1111111111111111111111111111111111\n",
      "177 / 638457305658469733 / Changed  (\"file_1.txt\",   Some     \"1111111111111111111111111111111111\n",
      "243 / 638457305658469976 / Changed  (\"file_1.txt\",   Some     \"1111111111111111111111111111111111\n",
      "233 / 638457305658470209 / Changed  (\"file_1.txt\",   Some     \"1111111111111111111111111111111111\n",
      "421 / 638457305658470630 / Changed  (\"file_1.txt\",   Some     \"1111111111111111111111111111111111\n",
      "379 / 638457305658471009 / Changed  (\"file_1.txt\",   Some     \"1111111111111111111111111111111111\n",
      "370 / 638457305658471379 / Changed  (\"file_1.txt\",   Some     \"1111111111111111111111111111111111\n",
      "185 / 638457305658471564 / Changed  (\"file_1.txt\",   Some     \"1111111111111111111111111111111111\n",
      "141 / 638457305658471705 / Changed  (\"file_1.txt\",   Some     \"1111111111111111111111111111111111\n",
      "145 / 638457305658471850 / Changed  (\"file_1.txt\",   Some     \"1111111111111111111111111111111111\n",
      "142 / 638457305658471992 / Changed  (\"file_1.txt\",   Some     \"1111111111111111111111111111111111\n",
      "154 / 638457305658472146 / Changed  (\"file_1.txt\",   Some     \"1111111111111111111111111111111111\n",
      "335 / 638457305658472481 / Changed  (\"file_1.txt\",   Some     \"1111111111111111111111111111111111\n",
      "144 / 638457305658472625 / Changed  (\"file_1.txt\",   Some     \"1111111111111111111111111111111111\n",
      "146 / 638457305658472771 / Changed  (\"file_1.txt\",   Some     \"1111111111111111111111111111111111\n",
      "150 / 638457305658472921 / Changed  (\"file_1.txt\",   Some     \"1111111111111111111111111111111111\n",
      "163 / 638457305658473084 / Changed  (\"file_1.txt\",   Some     \"1111111111111111111111111111111111\n",
      "181 / 638457305658473265 / Changed  (\"file_1.txt\",   Some     \"1111111111111111111111111111111111\n",
      "140 / 638457305658473405 / Changed  (\"file_1.txt\",   Some     \"1111111111111111111111111111111111\n",
      "206 / 638457305658473611 / Changed  (\"file_1.txt\",   Some     \"1111111111111111111111111111111111\n",
      "122 / 638457305658473733 / Changed  (\"file_1.txt\",   Some     \"1111111111111111111111111111111111\n",
      "155 / 638457305658473888 / Changed  (\"file_1.txt\",   Some     \"1111111111111111111111111111111111\n",
      "197 / 638457305658474085 / Changed  (\"file_1.txt\",   Some     \"1111111111111111111111111111111111\n",
      "144 / 638457305658474229 / Changed  (\"file_1.txt\",   Some     \"1111111111111111111111111111111111\n",
      "713 / 638457305658474942 / Changed  (\"file_1.txt\",   Some     \"1111111111111111111111111111111111\n",
      "43 / 638457305658474985 / Changed  (\"file_1.txt\",   Some     \"11111111111111111111111111111111111\n",
      "191 / 638457305658475176 / Changed  (\"file_1.txt\",   Some     \"1111111111111111111111111111111111\n",
      "165 / 638457305658475341 / Changed  (\"file_1.txt\",   Some     \"1111111111111111111111111111111111\n",
      "139 / 638457305658475480 / Changed  (\"file_1.txt\",   Some     \"1111111111111111111111111111111111\n",
      "147 / 638457305658475627 / Changed  (\"file_1.txt\",   Some     \"1111111111111111111111111111111111\n",
      "174 / 638457305658475801 / Changed  (\"file_1.txt\",   Some     \"1111111111111111111111111111111111\n",
      "195 / 638457305658475996 / Changed  (\"file_1.txt\",   Some     \"1111111111111111111111111111111111\n",
      "140 / 638457305658476136 / Changed  (\"file_1.txt\",   Some     \"1111111111111111111111111111111111\n",
      "145 / 638457305658476281 / Changed  (\"file_1.txt\",   Some     \"1111111111111111111111111111111111\n",
      "145 / 638457305658476426 / Changed  (\"file_1.txt\",   Some     \"1111111111111111111111111111111111\n",
      "167 / 638457305658476593 / Changed  (\"file_1.txt\",   Some     \"1111111111111111111111111111111111\n",
      "163 / 638457305658476756 / Changed  (\"file_1.txt\",   Some     \"1111111111111111111111111111111111\n",
      "802 / 638457305658477558 / Changed  (\"file_1.txt\",   Some     \"1111111111111111111111111111111111\n",
      "152 / 638457305658477710 / Changed  (\"file_1.txt\",   Some     \"1111111111111111111111111111111111\n",
      "157 / 638457305658477867 / Changed  (\"file_1.txt\",   Some     \"1111111111111111111111111111111111\n",
      "155 / 638457305658478022 / Changed  (\"file_1.txt\",   Some     \"1111111111111111111111111111111111\n",
      "152 / 638457305658478174 / Changed  (\"file_1.txt\",   Some     \"1111111111111111111111111111111111\n",
      "167 / 638457305658478341 / Changed  (\"file_1.txt\",   Some     \"1111111111111111111111111111111111\n",
      "166 / 638457305658478507 / Changed  (\"file_1.txt\",   Some     \"1111111111111111111111111111111111\n",
      "148 / 638457305658478655 / Changed  (\"file_1.txt\",   Some     \"1111111111111111111111111111111111\n",
      "141 / 638457305658478796 / Changed  (\"file_1.txt\",   Some     \"1111111111111111111111111111111111\n",
      "207 / 638457305658479003 / Changed  (\"file_1.txt\",   Some     \"1111111111111111111111111111111111\n",
      "143 / 638457305658479146 / Changed  (\"file_1.txt\",   Some     \"1111111111111111111111111111111111\n",
      "150 / 638457305658479296 / Changed  (\"file_1.txt\",   Some     \"1111111111111111111111111111111111\n",
      "159 / 638457305658479455 / Changed  (\"file_1.txt\",   Some     \"1111111111111111111111111111111111\n",
      "138 / 638457305658479593 / Changed  (\"file_1.txt\",   Some     \"1111111111111111111111111111111111\n",
      "645 / 638457305658480238 / Changed  (\"file_1.txt\",   Some     \"1111111111111111111111111111111111\n",
      "51 / 638457305658480289 / Changed  (\"file_1.txt\",   Some     \"11111111111111111111111111111111111\n",
      "147 / 638457305658480436 / Changed  (\"file_1.txt\",   Some     \"1111111111111111111111111111111111\n",
      "144 / 638457305658480580 / Changed  (\"file_1.txt\",   Some     \"1111111111111111111111111111111111\n",
      "169 / 638457305658480749 / Changed  (\"file_1.txt\",   Some     \"1111111111111111111111111111111111\n",
      "159 / 638457305658480908 / Changed  (\"file_1.txt\",   Some     \"1111111111111111111111111111111111\n",
      "142 / 638457305658481050 / Changed  (\"file_1.txt\",   Some     \"1111111111111111111111111111111111\n",
      "139 / 638457305658481189 / Changed  (\"file_1.txt\",   Some     \"1111111111111111111111111111111111\n",
      "184 / 638457305658481373 / Changed  (\"file_1.txt\",   Some     \"1111111111111111111111111111111111\n",
      "162 / 638457305658481535 / Changed  (\"file_1.txt\",   Some     \"1111111111111111111111111111111111\n",
      "146 / 638457305658481681 / Changed  (\"file_1.txt\",   Some     \"1111111111111111111111111111111111\n",
      "577 / 638457305658482258 / Changed  (\"file_1.txt\",   Some     \"1111111111111111111111111111111111\n",
      "169 / 638457305658482427 / Changed  (\"file_1.txt\",   Some     \"1111111111111111111111111111111111\n",
      "507 / 638457305658482934 / Changed  (\"file_1.txt\",   Some     \"1111111111111111111111111111111111\n",
      "108 / 638457305658483042 / Changed  (\"file_1.txt\",   Some     \"1111111111111111111111111111111111\n",
      "162 / 638457305658483204 / Changed  (\"file_1.txt\",   Some     \"1111111111111111111111111111111111\n",
      "152 / 638457305658483356 / Changed  (\"file_1.txt\",   Some     \"1111111111111111111111111111111111\n",
      "141 / 638457305658483497 / Changed  (\"file_1.txt\",   Some     \"1111111111111111111111111111111111\n",
      "172 / 638457305658483669 / Changed  (\"file_1.txt\",   Some     \"1111111111111111111111111111111111\n",
      "169 / 638457305658483838 / Changed  (\"file_1.txt\",   Some     \"1111111111111111111111111111111111\n",
      "165 / 638457305658484003 / Changed  (\"file_1.txt\",   Some     \"1111111111111111111111111111111111\n",
      "148 / 638457305658484151 / Changed  (\"file_1.txt\",   Some     \"1111111111111111111111111111111111\n",
      "151 / 638457305658484302 / Changed  (\"file_1.txt\",   Some     \"1111111111111111111111111111111111\n",
      "164 / 638457305658484466 / Changed  (\"file_1.txt\",   Some     \"1111111111111111111111111111111111\n",
      "165 / 638457305658484631 / Changed  (\"file_1.txt\",   Some     \"1111111111111111111111111111111111\n",
      "154 / 638457305658484785 / Changed  (\"file_1.txt\",   Some     \"1111111111111111111111111111111111\n",
      "155 / 638457305658484940 / Changed  (\"file_1.txt\",   Some     \"1111111111111111111111111111111111\n",
      "171 / 638457305658485111 / Changed  (\"file_1.txt\",   Some     \"1111111111111111111111111111111111\n",
      "149 / 638457305658485260 / Changed  (\"file_1.txt\",   Some     \"1111111111111111111111111111111111\n",
      "143 / 638457305658485403 / Changed  (\"file_1.txt\",   Some     \"1111111111111111111111111111111111\n",
      "157 / 638457305658485560 / Changed  (\"file_1.txt\",   Some     \"1111111111111111111111111111111111\n",
      "167 / 638457305658485727 / Changed  (\"file_1.txt\",   Some     \"1111111111111111111111111111111111\n",
      "167 / 638457305658485894 / Changed  (\"file_1.txt\",   Some     \"1111111111111111111111111111111111\n",
      "165 / 638457305658486059 / Changed  (\"file_1.txt\",   Some     \"1111111111111111111111111111111111\n",
      "556 / 638457305658486615 / Changed  (\"file_1.txt\",   Some     \"1111111111111111111111111111111111\n",
      "109 / 638457305658486724 / Changed  (\"file_1.txt\",   Some     \"1111111111111111111111111111111111\n",
      "171 / 638457305658486895 / Changed  (\"file_1.txt\",   Some     \"1111111111111111111111111111111111\n",
      "149 / 638457305658487044 / Changed  (\"file_1.txt\",   Some     \"1111111111111111111111111111111111\n",
      "175 / 638457305658487219 / Changed  (\"file_1.txt\",   Some     \"1111111111111111111111111111111111\n",
      "285 / 638457305658487504 / Changed  (\"file_1.txt\",   Some     \"1111111111111111111111111111111111\n",
      "284 / 638457305658487788 / Changed  (\"file_1.txt\",   Some     \"1111111111111111111111111111111111\n",
      "247 / 638457305658488035 / Changed  (\"file_1.txt\",   Some     \"1111111111111111111111111111111111\n",
      "67290 / 638457305658555325 / Changed  (\"file_2.txt\",   Some     \"22222222222222222222222222222222\n",
      "265 / 638457305658555590 / Changed  (\"file_2.txt\",   Some     \"2222222222222222222222222222222222\n",
      "1512 / 638457305658557102 / Changed  (\"file_2.txt\",   Some     \"222222222222222222222222222222222\n",
      "45 / 638457305658557147 / Changed  (\"file_2.txt\",   Some     \"22222222222222222222222222222222222\n",
      "1184 / 638457305658558331 / Changed  (\"file_2.txt\",   Some     \"222222222222222222222222222222222\n",
      "44 / 638457305658558375 / Changed  (\"file_2.txt\",   Some     \"22222222222222222222222222222222222\n",
      "1327 / 638457305658559702 / Changed  (\"file_2.txt\",   Some     \"222222222222222222222222222222222\n",
      "804 / 638457305658560506 / Changed  (\"file_2.txt\",   Some     \"2222222222222222222222222222222222\n",
      "42 / 638457305658560548 / Changed  (\"file_2.txt\",   Some     \"22222222222222222222222222222222222\n",
      "1152 / 638457305658561700 / Changed  (\"file_2.txt\",   Some     \"222222222222222222222222222222222\n",
      "737 / 638457305658562437 / Changed  (\"file_2.txt\",   Some     \"2222222222222222222222222222222222\n",
      "551 / 638457305658562988 / Changed  (\"file_2.txt\",   Some     \"2222222222222222222222222222222222\n",
      "134 / 638457305658563122 / Changed  (\"file_2.txt\",   Some     \"2222222222222222222222222222222222\n",
      "154 / 638457305658563276 / Changed  (\"file_2.txt\",   Some     \"2222222222222222222222222222222222\n",
      "504 / 638457305658563780 / Changed  (\"file_2.txt\",   Some     \"2222222222222222222222222222222222\n",
      "38 / 638457305658563818 / Changed  (\"file_2.txt\",   Some     \"22222222222222222222222222222222222\n",
      "161 / 638457305658563979 / Changed  (\"file_2.txt\",   Some     \"2222222222222222222222222222222222\n",
      "573 / 638457305658564552 / Changed  (\"file_2.txt\",   Some     \"2222222222222222222222222222222222\n",
      "459 / 638457305658565011 / Changed  (\"file_2.txt\",   Some     \"2222222222222222222222222222222222\n",
      "14505 / 638457305658579516 / Changed  (\"file_2.txt\",   Some     \"22222222222222222222222222222222\n",
      "15030009 / 638457305673609525 / Deleted \"file_1.txt\"\n",
      "3336 / 638457305673612861 / Deleted \"file_2.txt\"\n",
      "FSharpList<FileSystemChange>\n",
      "      - path: file1.txt\n",
      "        content: FSharpOption<String>\n",
      "          Value: 1a\n",
      "        IsFailure: False\n",
      "        IsChanged: False\n",
      "        IsCreated: True\n",
      "        IsDeleted: False\n",
      "        IsRenamed: False\n",
      "      - path: file1.txt\n",
      "        content: FSharpOption<String>\n",
      "          Value: 1a\n",
      "        IsFailure: False\n",
      "        IsChanged: True\n",
      "        IsCreated: False\n",
      "        IsDeleted: False\n",
      "        IsRenamed: False\n",
      "      - path: file2.txt\n",
      "        content: FSharpOption<String>\n",
      "          Value: 2a\n",
      "        IsFailure: False\n",
      "        IsChanged: False\n",
      "        IsCreated: True\n",
      "        IsDeleted: False\n",
      "        IsRenamed: False\n",
      "      - path: file2.txt\n",
      "        content: FSharpOption<String>\n",
      "          Value: 2a\n",
      "        IsFailure: False\n",
      "        IsChanged: True\n",
      "        IsCreated: False\n",
      "        IsDeleted: False\n",
      "        IsRenamed: False\n",
      "      - path: file1.txt\n",
      "        content: FSharpOption<String>\n",
      "          Value: 1b\n",
      "        IsFailure: False\n",
      "        IsChanged: True\n",
      "        IsCreated: False\n",
      "        IsDeleted: False\n",
      "        IsRenamed: False\n",
      "      - path: file2.txt\n",
      "        content: FSharpOption<String>\n",
      "          Value: 2b\n",
      "        IsFailure: False\n",
      "        IsChanged: True\n",
      "        IsCreated: False\n",
      "        IsDeleted: False\n",
      "        IsRenamed: False\n",
      "      - oldPath: file1.txt\n",
      "        Item2:         - file_1.txt\n",
      "        - FSharpOption<String>\n",
      "            Value: 1b\n",
      "      - IsFailure: False\n",
      "        IsChanged: False\n",
      "        IsCreated: False\n",
      "        IsDeleted: False\n",
      "        IsRenamed: True\n",
      "      - oldPath: file2.txt\n",
      "        Item2:         - file_2.txt\n",
      "        - FSharpOption<String>\n",
      "            Value: 2b\n",
      "      - IsFailure: False\n",
      "        IsChanged: False\n",
      "        IsCreated: False\n",
      "        IsDeleted: False\n",
      "        IsRenamed: True\n",
      "      - path: file_1.txt\n",
      "        content: FSharpOption<String>\n",
      "          Value: 1c\n",
      "        IsFailure: False\n",
      "        IsChanged: True\n",
      "        IsCreated: False\n",
      "        IsDeleted: False\n",
      "        IsRenamed: False\n",
      "      - path: file_2.txt\n",
      "        content: FSharpOption<String>\n",
      "          Value: 2c\n",
      "        IsFailure: False\n",
      "        IsChanged: True\n",
      "        IsCreated: False\n",
      "        IsDeleted: False\n",
      "        IsRenamed: False\n",
      "      - path: file_1.txt\n",
      "        IsFailure: False\n",
      "        IsChanged: False\n",
      "        IsCreated: False\n",
      "        IsDeleted: True\n",
      "        IsRenamed: False\n",
      "      - path: file_2.txt\n",
      "        IsFailure: False\n",
      "        IsChanged: False\n",
      "        IsCreated: False\n",
      "        IsDeleted: True\n",
      "        IsRenamed: False\n",
      "FSharpOption<Unit>\n",
      "      Value: <null>\n"
     ]
    }
   ],
   "source": [
    "//// test\n",
    "\n",
    "let inline write path = async {\n",
    "    let n = 2\n",
    "\n",
    "    let contents =\n",
    "        [ 1 .. n ]\n",
    "        |> List.map (string >> String.replicate 1_000_000)\n",
    "\n",
    "    for i = 1 to n do\n",
    "        do! $\"{contents.[i - 1]}a\" |> writeAllTextAsync (path </> $\"file{i}.txt\")\n",
    "\n",
    "    do! Async.Sleep 1500\n",
    "\n",
    "    for i = 1 to n do\n",
    "        do! $\"{contents.[i - 1]}b\" |> writeAllTextAsync (path </> $\"file{i}.txt\")\n",
    "\n",
    "    do! Async.Sleep 1500\n",
    "\n",
    "    for i = 1 to n do\n",
    "        do! path </> $\"file{i}.txt\" |> moveFileAsync (path </> $\"file_{i}.txt\") |> Async.Ignore\n",
    "\n",
    "    do! Async.Sleep 1500\n",
    "\n",
    "    for i = 1 to n do\n",
    "        do! $\"{contents.[i - 1]}c\" |> writeAllTextAsync (path </> $\"file_{i}.txt\")\n",
    "\n",
    "    do! Async.Sleep 1500\n",
    "\n",
    "    for i = 1 to n do\n",
    "        do! deleteFileAsync (path </> $\"file_{i}.txt\") |> Async.Ignore\n",
    "\n",
    "    do! Async.Sleep 1500\n",
    "}\n",
    "\n",
    "let inline run () =\n",
    "    let events =\n",
    "        testEventsRaw watchDirectory write\n",
    "        |> List.map (function\n",
    "            | FileSystemChange.Changed (path, Some content) ->\n",
    "                FileSystemChange.Changed (path, content |> Seq.distinct |> Seq.map string |> String.concat \"\" |> Some)\n",
    "            | FileSystemChange.Created (path, Some content) ->\n",
    "                FileSystemChange.Created (path, content |> Seq.distinct |> Seq.map string |> String.concat \"\" |> Some)\n",
    "            | FileSystemChange.Renamed (oldPath, (newPath, Some content)) ->\n",
    "                FileSystemChange.Renamed (\n",
    "                    oldPath,\n",
    "                    (newPath, content |> Seq.distinct |> Seq.map string |> String.concat \"\" |> Some)\n",
    "                )\n",
    "            | event -> event\n",
    "        )\n",
    "\n",
    "    events\n",
    "    |> _sequenceEqual [\n",
    "        FileSystemChange.Created (\"file1.txt\", Some \"1a\")\n",
    "        FileSystemChange.Changed (\"file1.txt\", Some \"1a\")\n",
    "        FileSystemChange.Created (\"file2.txt\", Some \"2a\")\n",
    "        FileSystemChange.Changed (\"file2.txt\", Some \"2a\")\n",
    "\n",
    "        FileSystemChange.Changed (\"file1.txt\", Some \"1b\")\n",
    "        FileSystemChange.Changed (\"file2.txt\", Some \"2b\")\n",
    "\n",
    "        FileSystemChange.Renamed (\"file1.txt\", (\"file_1.txt\", Some \"1b\"))\n",
    "        FileSystemChange.Renamed (\"file2.txt\", (\"file_2.txt\", Some \"2b\"))\n",
    "\n",
    "        FileSystemChange.Changed (\"file_1.txt\", Some \"1c\")\n",
    "        FileSystemChange.Changed (\"file_2.txt\", Some \"2c\")\n",
    "\n",
    "        FileSystemChange.Deleted \"file_1.txt\"\n",
    "        FileSystemChange.Deleted \"file_2.txt\"\n",
    "    ]\n",
    "\n",
    "run\n",
    "|> retryFn 5\n",
    "|> _equal (Some ())"
   ]
  },
  {
   "cell_type": "markdown",
   "metadata": {},
   "source": [
    "### testEventsSorted (test)"
   ]
  },
  {
   "cell_type": "code",
   "execution_count": null,
   "metadata": {
    "dotnet_interactive": {
     "language": "fsharp"
    },
    "polyglot_notebook": {
     "kernelName": "fsharp"
    }
   },
   "outputs": [],
   "source": [
    "//// test\n",
    "\n",
    "let inline sortEvent event =\n",
    "    match event with\n",
    "    | FileSystemChange.Failure _ -> 0\n",
    "    | FileSystemChange.Created _ -> 1\n",
    "    | FileSystemChange.Changed _ -> 2\n",
    "    | FileSystemChange.Renamed (_oldPath, _) -> 3\n",
    "    | FileSystemChange.Deleted _ -> 4\n",
    "\n",
    "let inline formatEvents events =\n",
    "    events\n",
    "    |> Seq.toList\n",
    "    |> List.sortBy (snd >> sortEvent)\n",
    "    |> List.choose (fun (ticks, event) ->\n",
    "        match event with\n",
    "        | FileSystemChange.Failure _ ->\n",
    "            None\n",
    "        | FileSystemChange.Changed (path, _) ->\n",
    "            Some (ticks, System.IO.Path.GetFileName path, nameof FileSystemChangeType.Changed)\n",
    "        | FileSystemChange.Created (path, _) ->\n",
    "            Some (ticks, System.IO.Path.GetFileName path, nameof FileSystemChangeType.Created)\n",
    "        | FileSystemChange.Deleted path ->\n",
    "            Some (ticks, System.IO.Path.GetFileName path, nameof FileSystemChangeType.Deleted)\n",
    "        | FileSystemChange.Renamed (_oldPath, (path, _)) ->\n",
    "            Some (ticks, System.IO.Path.GetFileName path, nameof FileSystemChangeType.Renamed)\n",
    "    )\n",
    "    |> List.sortBy (fun (_, path, _) -> path)\n",
    "    |> List.distinctBy (fun (_, path, event) -> path, event)\n",
    "\n",
    "let inline testEventsSorted\n",
    "    (watchFn : string -> FSharp.Control.AsyncSeq<int64 * FileSystemChange> * IDisposable)\n",
    "    write\n",
    "    =\n",
    "    let path = createTempDirectory ()\n",
    "    let stream, disposable = watchFn path\n",
    "\n",
    "    let events = System.Collections.Concurrent.ConcurrentBag ()\n",
    "\n",
    "    let inline iter () =\n",
    "        stream\n",
    "        |> FSharp.Control.AsyncSeq.iterAsyncParallel (fun event -> async { events.Add event })\n",
    "\n",
    "    let run = async {\n",
    "        let! _ = iter () |> Async.StartChild\n",
    "        do! Async.Sleep 250\n",
    "        return! write path\n",
    "    }\n",
    "\n",
    "    try\n",
    "        run\n",
    "        |> Async.runWithTimeout 5000\n",
    "        |> _equal (Some ())\n",
    "    finally\n",
    "        disposable.Dispose ()\n",
    "        deleteDirectoryAsync path |> Async.Ignore |> Async.RunSynchronously\n",
    "\n",
    "    let events = formatEvents events\n",
    "\n",
    "    let eventMap =\n",
    "        events\n",
    "        |> List.map (fun (ticks, path, event) -> path, (event, ticks))\n",
    "        |> List.groupBy fst\n",
    "        |> List.map (fun (path, events) ->\n",
    "            let event, _ticks =\n",
    "                events\n",
    "                |> List.map snd\n",
    "                |> List.sortByDescending snd\n",
    "                |> List.head\n",
    "\n",
    "            path, event\n",
    "        )\n",
    "        |> Map.ofList\n",
    "\n",
    "    let eventList =\n",
    "        events\n",
    "        |> List.map (fun (_ticks, path, event) -> path, event)\n",
    "\n",
    "    eventMap, eventList"
   ]
  },
  {
   "cell_type": "markdown",
   "metadata": {},
   "source": [
    "#### create and delete (test)"
   ]
  },
  {
   "cell_type": "code",
   "execution_count": null,
   "metadata": {
    "dotnet_interactive": {
     "language": "fsharp"
    },
    "polyglot_notebook": {
     "kernelName": "fsharp"
    }
   },
   "outputs": [
    {
     "name": "stdout",
     "output_type": "stream",
     "text": [
      "FSharpOption<Unit>\n",
      "      Value: <null>\n",
      "00:00:28 #51 [Debug] watchWithFilter / Disposing watch stream / filter: FileName, LastWrite\n",
      "FSharpList<Tuple<String,String>>\n",
      "( file1.txt, Created )\n",
      "( file1.txt, Changed )\n",
      "( file1.txt, Deleted )\n",
      "( file2.txt, Created )\n",
      "( file2.txt, Changed )\n",
      "( file2.txt, Deleted )\n",
      "( file3.txt, Created )\n",
      "( file3.txt, Changed )\n",
      "( file3.txt, Deleted )\n",
      "FSharpMap<String,String>\n",
      "      - Key: file1.txt\n",
      "        Value: Deleted\n",
      "      - Key: file2.txt\n",
      "        Value: Deleted\n",
      "      - Key: file3.txt\n",
      "        Value: Deleted\n",
      "FSharpOption<Unit>\n",
      "      Value: <null>\n"
     ]
    }
   ],
   "source": [
    "//// test\n",
    "\n",
    "let inline write path = async {\n",
    "    let n = 3\n",
    "\n",
    "    for i = 1 to n do\n",
    "        do! $\"{i}\" |> writeAllTextAsync (path </> $\"file{i}.txt\")\n",
    "\n",
    "    for i = 1 to n do\n",
    "        do! deleteFileAsync (path </> $\"file{i}.txt\") |> Async.Ignore\n",
    "\n",
    "    do! Async.Sleep 150\n",
    "}\n",
    "\n",
    "let inline run () =\n",
    "    let eventMap, eventList = testEventsSorted (watchDirectory (fun _ -> false)) write\n",
    "\n",
    "    [\n",
    "        \"file1.txt\", nameof FileSystemChangeType.Created\n",
    "        \"file1.txt\", nameof FileSystemChangeType.Changed\n",
    "        \"file1.txt\", nameof FileSystemChangeType.Deleted\n",
    "\n",
    "        \"file2.txt\", nameof FileSystemChangeType.Created\n",
    "        \"file2.txt\", nameof FileSystemChangeType.Changed\n",
    "        \"file2.txt\", nameof FileSystemChangeType.Deleted\n",
    "\n",
    "        \"file3.txt\", nameof FileSystemChangeType.Created\n",
    "        \"file3.txt\", nameof FileSystemChangeType.Changed\n",
    "        \"file3.txt\", nameof FileSystemChangeType.Deleted\n",
    "    ]\n",
    "    |> _sequenceEqual eventList\n",
    "\n",
    "    [\n",
    "        \"file1.txt\", nameof FileSystemChangeType.Deleted\n",
    "        \"file2.txt\", nameof FileSystemChangeType.Deleted\n",
    "        \"file3.txt\", nameof FileSystemChangeType.Deleted\n",
    "    ]\n",
    "    |> Map.ofList\n",
    "    |> _sequenceEqual eventMap\n",
    "\n",
    "run\n",
    "|> retryFn 3\n",
    "|> _equal (Some ())"
   ]
  },
  {
   "cell_type": "markdown",
   "metadata": {},
   "source": [
    "#### change (test)"
   ]
  },
  {
   "cell_type": "code",
   "execution_count": null,
   "metadata": {
    "dotnet_interactive": {
     "language": "fsharp"
    },
    "polyglot_notebook": {
     "kernelName": "fsharp"
    }
   },
   "outputs": [
    {
     "name": "stdout",
     "output_type": "stream",
     "text": [
      "FSharpOption<Unit>\n",
      "      Value: <null>\n",
      "00:00:30 #52 [Debug] watchWithFilter / Disposing watch stream / filter: FileName, LastWrite\n",
      "FSharpList<Tuple<String,String>>\n",
      "( file1.txt, Created )\n",
      "( file1.txt, Changed )\n",
      "( file1.txt, Deleted )\n",
      "( file2.txt, Created )\n",
      "( file2.txt, Changed )\n",
      "( file2.txt, Deleted )\n",
      "FSharpMap<String,String>\n",
      "      - Key: file1.txt\n",
      "        Value: Deleted\n",
      "      - Key: file2.txt\n",
      "        Value: Deleted\n",
      "FSharpOption<Unit>\n",
      "      Value: <null>\n"
     ]
    }
   ],
   "source": [
    "//// test\n",
    "\n",
    "let inline write path = async {\n",
    "    let n = 2\n",
    "\n",
    "    for i = 1 to n do\n",
    "        do! $\"{i}\" |> writeAllTextAsync (path </> $\"file{i}.txt\")\n",
    "\n",
    "    for i = 1 to n do\n",
    "        do! \"\" |> writeAllTextAsync (path </> $\"file{i}.txt\")\n",
    "\n",
    "    for i = 1 to n do\n",
    "        do! deleteFileAsync (path </> $\"file{i}.txt\") |> Async.Ignore\n",
    "\n",
    "    do! Async.Sleep 150\n",
    "}\n",
    "\n",
    "let inline run () =\n",
    "    let eventMap, eventList = testEventsSorted (watchDirectory (fun _ -> false)) write\n",
    "\n",
    "    [\n",
    "        \"file1.txt\", nameof FileSystemChangeType.Created\n",
    "        \"file1.txt\", nameof FileSystemChangeType.Changed\n",
    "        \"file1.txt\", nameof FileSystemChangeType.Deleted\n",
    "\n",
    "        \"file2.txt\", nameof FileSystemChangeType.Created\n",
    "        \"file2.txt\", nameof FileSystemChangeType.Changed\n",
    "        \"file2.txt\", nameof FileSystemChangeType.Deleted\n",
    "    ]\n",
    "    |> _sequenceEqual eventList\n",
    "\n",
    "    [\n",
    "        \"file1.txt\", nameof FileSystemChangeType.Deleted\n",
    "        \"file2.txt\", nameof FileSystemChangeType.Deleted\n",
    "    ]\n",
    "    |> Map.ofList\n",
    "    |> _sequenceEqual eventMap\n",
    "\n",
    "run\n",
    "|> retryFn 3\n",
    "|> _equal (Some ())"
   ]
  },
  {
   "cell_type": "markdown",
   "metadata": {},
   "source": [
    "#### rename (test)"
   ]
  },
  {
   "cell_type": "code",
   "execution_count": null,
   "metadata": {
    "dotnet_interactive": {
     "language": "fsharp"
    },
    "polyglot_notebook": {
     "kernelName": "fsharp"
    }
   },
   "outputs": [
    {
     "name": "stdout",
     "output_type": "stream",
     "text": [
      "FSharpOption<Unit>\n",
      "      Value: <null>\n",
      "00:00:33 #53 [Debug] watchWithFilter / Disposing watch stream / filter: FileName, LastWrite\n",
      "FSharpList<Tuple<String,String>>\n",
      "( file1.txt, Created )\n",
      "( file1.txt, Changed )\n",
      "( file2.txt, Created )\n",
      "( file2.txt, Changed )\n",
      "( file_1.txt, Renamed )\n",
      "( file_1.txt, Deleted )\n",
      "( file_2.txt, Renamed )\n",
      "( file_2.txt, Deleted )\n",
      "FSharpMap<String,String>\n",
      "      - Key: file1.txt\n",
      "        Value: Changed\n",
      "      - Key: file2.txt\n",
      "        Value: Changed\n",
      "      - Key: file_1.txt\n",
      "        Value: Deleted\n",
      "      - Key: file_2.txt\n",
      "        Value: Deleted\n",
      "FSharpOption<Unit>\n",
      "      Value: <null>\n"
     ]
    }
   ],
   "source": [
    "//// test\n",
    "\n",
    "let inline write path = async {\n",
    "    let n = 2\n",
    "\n",
    "    for i = 1 to n do\n",
    "        do! $\"{i}\" |> writeAllTextAsync (path </> $\"file{i}.txt\")\n",
    "\n",
    "    for i = 1 to n do\n",
    "        do! path </> $\"file{i}.txt\" |> moveFileAsync (path </> $\"file_{i}.txt\") |> Async.Ignore\n",
    "\n",
    "    for i = 1 to n do\n",
    "        do! deleteFileAsync (path </> $\"file_{i}.txt\") |> Async.Ignore\n",
    "\n",
    "    do! Async.Sleep 150\n",
    "}\n",
    "\n",
    "let inline run () =\n",
    "    let eventMap, eventList = testEventsSorted (watchDirectory (fun _ -> false)) write\n",
    "\n",
    "    [\n",
    "        \"file1.txt\", nameof FileSystemChangeType.Created\n",
    "        \"file1.txt\", nameof FileSystemChangeType.Changed\n",
    "        \"file2.txt\", nameof FileSystemChangeType.Created\n",
    "        \"file2.txt\", nameof FileSystemChangeType.Changed\n",
    "\n",
    "        \"file_1.txt\", nameof FileSystemChangeType.Renamed\n",
    "        \"file_1.txt\", nameof FileSystemChangeType.Deleted\n",
    "\n",
    "        \"file_2.txt\", nameof FileSystemChangeType.Renamed\n",
    "        \"file_2.txt\", nameof FileSystemChangeType.Deleted\n",
    "    ]\n",
    "    |> _sequenceEqual eventList\n",
    "\n",
    "    [\n",
    "        \"file1.txt\", nameof FileSystemChangeType.Changed\n",
    "        \"file2.txt\", nameof FileSystemChangeType.Changed\n",
    "        \"file_1.txt\", nameof FileSystemChangeType.Deleted\n",
    "        \"file_2.txt\", nameof FileSystemChangeType.Deleted\n",
    "    ]\n",
    "    |> Map.ofList\n",
    "    |> _sequenceEqual eventMap\n",
    "\n",
    "run\n",
    "|> retryFn 3\n",
    "|> _equal (Some ())"
   ]
  },
  {
   "cell_type": "markdown",
   "metadata": {},
   "source": [
    "#### full (test)"
   ]
  },
  {
   "cell_type": "code",
   "execution_count": null,
   "metadata": {
    "dotnet_interactive": {
     "language": "fsharp"
    },
    "polyglot_notebook": {
     "kernelName": "fsharp"
    }
   },
   "outputs": [
    {
     "name": "stdout",
     "output_type": "stream",
     "text": [
      "FSharpOption<Unit>\n",
      "      Value: <null>\n",
      "00:00:36 #54 [Debug] watchWithFilter / Disposing watch stream / filter: FileName, LastWrite\n",
      "FSharpList<Tuple<String,String>>\n",
      "( file1.txt, Created )\n",
      "( file1.txt, Changed )\n",
      "( file2.txt, Created )\n",
      "( file2.txt, Changed )\n",
      "( file_1.txt, Changed )\n",
      "( file_1.txt, Renamed )\n",
      "( file_1.txt, Deleted )\n",
      "( file_2.txt, Changed )\n",
      "( file_2.txt, Renamed )\n",
      "( file_2.txt, Deleted )\n",
      "FSharpMap<String,String>\n",
      "      - Key: file1.txt\n",
      "        Value: Changed\n",
      "      - Key: file2.txt\n",
      "        Value: Changed\n",
      "      - Key: file_1.txt\n",
      "        Value: Deleted\n",
      "      - Key: file_2.txt\n",
      "        Value: Deleted\n",
      "FSharpOption<Unit>\n",
      "      Value: <null>\n"
     ]
    }
   ],
   "source": [
    "//// test\n",
    "\n",
    "let inline write path = async {\n",
    "    let n = 2\n",
    "\n",
    "    for i = 1 to n do\n",
    "        do! $\"{i}\" |> writeAllTextAsync (path </> $\"file{i}.txt\")\n",
    "\n",
    "    for i = 1 to n do\n",
    "        do! \"\" |> writeAllTextAsync (path </> $\"file{i}.txt\")\n",
    "\n",
    "    for i = 1 to n do\n",
    "        do! path </> $\"file{i}.txt\" |> moveFileAsync (path </> $\"file_{i}.txt\") |> Async.Ignore\n",
    "\n",
    "    for i = 1 to n do\n",
    "        do! $\"{i}\" |> writeAllTextAsync (path </> $\"file_{i}.txt\")\n",
    "\n",
    "    for i = 1 to n do\n",
    "        do! deleteFileAsync (path </> $\"file_{i}.txt\") |> Async.Ignore\n",
    "\n",
    "    do! Async.Sleep 150\n",
    "}\n",
    "\n",
    "let inline run () =\n",
    "    let eventMap, eventList = testEventsSorted (watchDirectory (fun _ -> false)) write\n",
    "\n",
    "    [\n",
    "        \"file1.txt\", nameof FileSystemChangeType.Created\n",
    "        \"file1.txt\", nameof FileSystemChangeType.Changed\n",
    "        \"file2.txt\", nameof FileSystemChangeType.Created\n",
    "        \"file2.txt\", nameof FileSystemChangeType.Changed\n",
    "\n",
    "        \"file_1.txt\", nameof FileSystemChangeType.Changed\n",
    "        \"file_1.txt\", nameof FileSystemChangeType.Renamed\n",
    "        \"file_1.txt\", nameof FileSystemChangeType.Deleted\n",
    "\n",
    "        \"file_2.txt\", nameof FileSystemChangeType.Changed\n",
    "        \"file_2.txt\", nameof FileSystemChangeType.Renamed\n",
    "        \"file_2.txt\", nameof FileSystemChangeType.Deleted\n",
    "    ]\n",
    "    |> _sequenceEqual eventList\n",
    "\n",
    "    [\n",
    "        \"file1.txt\", nameof FileSystemChangeType.Changed\n",
    "        \"file2.txt\", nameof FileSystemChangeType.Changed\n",
    "        \"file_1.txt\", nameof FileSystemChangeType.Deleted\n",
    "        \"file_2.txt\", nameof FileSystemChangeType.Deleted\n",
    "    ]\n",
    "    |> Map.ofList\n",
    "    |> _sequenceEqual eventMap\n",
    "\n",
    "run\n",
    "|> retryFn 3\n",
    "|> _equal (Some ())"
   ]
  }
 ],
 "metadata": {},
 "nbformat": 4,
 "nbformat_minor": 5
}