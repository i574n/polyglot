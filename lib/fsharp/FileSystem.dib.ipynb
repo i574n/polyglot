{
 "cells": [
  {
   "cell_type": "markdown",
   "metadata": {},
   "source": [
    "# FileSystem (Polyglot)"
   ]
  },
  {
   "cell_type": "code",
   "execution_count": null,
   "metadata": {
    "dotnet_interactive": {
     "language": "fsharp"
    },
    "polyglot_notebook": {
     "kernelName": "fsharp"
    }
   },
   "outputs": [],
   "source": [
    "#!import ../../lib/fsharp/Notebooks.dib\n",
    "#!import ../../lib/fsharp/Testing.dib"
   ]
  },
  {
   "cell_type": "code",
   "execution_count": null,
   "metadata": {
    "dotnet_interactive": {
     "language": "fsharp"
    },
    "polyglot_notebook": {
     "kernelName": "fsharp"
    }
   },
   "outputs": [],
   "source": [
    "#r @\"../../../../../../../.nuget/packages/fsharp.control.asyncseq/3.2.1/lib/netstandard2.1/FSharp.Control.AsyncSeq.dll\"\n",
    "#r @\"../../../../../../../.nuget/packages/system.reactive/6.0.1-preview.1/lib/net6.0/System.Reactive.dll\"\n",
    "#r @\"../../../../../../../.nuget/packages/system.reactive.linq/6.0.1-preview.1/lib/netstandard2.0/System.Reactive.Linq.dll\"\n",
    "#r @\"../../../../../../../.nuget/packages/argu/6.1.5/lib/netstandard2.0/Argu.dll\"\n",
    "#r @\"../../../../../../../.nuget/packages/system.commandline/2.0.0-beta4.22272.1/lib/net6.0/System.CommandLine.dll\""
   ]
  },
  {
   "cell_type": "code",
   "execution_count": null,
   "metadata": {
    "dotnet_interactive": {
     "language": "fsharp"
    },
    "polyglot_notebook": {
     "kernelName": "fsharp"
    }
   },
   "outputs": [],
   "source": [
    "#!import ../../lib/fsharp/Common.fs\n",
    "#!import ../../lib/fsharp/CommonFSharp.fs\n",
    "#!import ../../lib/fsharp/Async.fs\n",
    "#!import ../../lib/fsharp/AsyncSeq.fs\n",
    "#!import ../../lib/fsharp/Runtime.fs"
   ]
  },
  {
   "cell_type": "code",
   "execution_count": null,
   "metadata": {
    "dotnet_interactive": {
     "language": "fsharp"
    },
    "polyglot_notebook": {
     "kernelName": "fsharp"
    }
   },
   "outputs": [],
   "source": [
    "open Common"
   ]
  },
  {
   "cell_type": "markdown",
   "metadata": {},
   "source": [
    "## Operators"
   ]
  },
  {
   "cell_type": "code",
   "execution_count": null,
   "metadata": {
    "dotnet_interactive": {
     "language": "fsharp"
    },
    "polyglot_notebook": {
     "kernelName": "fsharp"
    }
   },
   "outputs": [],
   "source": [
    "module Operators =\n",
    "    let inline (</>) a b =\n",
    "        System.IO.Path.Combine (a, b)"
   ]
  },
  {
   "cell_type": "code",
   "execution_count": null,
   "metadata": {
    "dotnet_interactive": {
     "language": "fsharp"
    },
    "polyglot_notebook": {
     "kernelName": "fsharp"
    }
   },
   "outputs": [],
   "source": [
    "open Operators"
   ]
  },
  {
   "cell_type": "markdown",
   "metadata": {},
   "source": [
    "## createTempDirectoryName"
   ]
  },
  {
   "cell_type": "code",
   "execution_count": null,
   "metadata": {
    "dotnet_interactive": {
     "language": "fsharp"
    },
    "polyglot_notebook": {
     "kernelName": "fsharp"
    }
   },
   "outputs": [],
   "source": [
    "let inline createTempDirectoryName () =\n",
    "    let root = System.Reflection.Assembly.GetEntryAssembly().GetName().Name\n",
    "\n",
    "    System.IO.Path.GetTempPath ()\n",
    "    </> $\"!{root}\"\n",
    "    </> string (newGuidFromDateTime System.DateTime.Now)"
   ]
  },
  {
   "cell_type": "code",
   "execution_count": null,
   "metadata": {
    "dotnet_interactive": {
     "language": "fsharp"
    },
    "polyglot_notebook": {
     "kernelName": "fsharp"
    }
   },
   "outputs": [
    {
     "name": "stdout",
     "output_type": "stream",
     "text": [
      "/tmp/!dotnet-repl/20240302-1604-2561-6124-62315ff5b50c\n"
     ]
    }
   ],
   "source": [
    "//// test\n",
    "\n",
    "createTempDirectoryName ()\n",
    "|> _contains System.IO.Path.DirectorySeparatorChar"
   ]
  },
  {
   "cell_type": "markdown",
   "metadata": {},
   "source": [
    "## createTempDirectory"
   ]
  },
  {
   "cell_type": "code",
   "execution_count": null,
   "metadata": {
    "dotnet_interactive": {
     "language": "fsharp"
    },
    "polyglot_notebook": {
     "kernelName": "fsharp"
    }
   },
   "outputs": [],
   "source": [
    "let inline createTempDirectory () =\n",
    "    let tempFolder = createTempDirectoryName ()\n",
    "    let result = System.IO.Directory.CreateDirectory tempFolder\n",
    "\n",
    "    if not result.Exists then\n",
    "        let getLocals () =\n",
    "            $\"tempFolder: {tempFolder} / result: {({|\n",
    "                Exists = result.Exists\n",
    "                CreationTime = result.CreationTime\n",
    "            |})} {getLocals ()}\"\n",
    "\n",
    "        trace Debug (fun () -> \"createTempDirectory\") getLocals\n",
    "\n",
    "    tempFolder"
   ]
  },
  {
   "cell_type": "code",
   "execution_count": null,
   "metadata": {
    "dotnet_interactive": {
     "language": "fsharp"
    },
    "polyglot_notebook": {
     "kernelName": "fsharp"
    }
   },
   "outputs": [
    {
     "name": "stdout",
     "output_type": "stream",
     "text": [
      "True\n"
     ]
    }
   ],
   "source": [
    "//// test\n",
    "\n",
    "let tempDirectory = createTempDirectory ()\n",
    "\n",
    "Directory.Exists tempDirectory\n",
    "|> _equal true"
   ]
  },
  {
   "cell_type": "markdown",
   "metadata": {},
   "source": [
    "## getSourceDirectory"
   ]
  },
  {
   "cell_type": "code",
   "execution_count": null,
   "metadata": {
    "dotnet_interactive": {
     "language": "fsharp"
    },
    "polyglot_notebook": {
     "kernelName": "fsharp"
    }
   },
   "outputs": [],
   "source": [
    "let getSourceDirectory =\n",
    "    fun () -> __SOURCE_DIRECTORY__\n",
    "    |> memoize"
   ]
  },
  {
   "cell_type": "code",
   "execution_count": null,
   "metadata": {
    "dotnet_interactive": {
     "language": "fsharp"
    },
    "polyglot_notebook": {
     "kernelName": "fsharp"
    }
   },
   "outputs": [
    {
     "name": "stdout",
     "output_type": "stream",
     "text": [
      "fsharp\n"
     ]
    }
   ],
   "source": [
    "//// test\n",
    "\n",
    "getSourceDirectory ()\n",
    "|> System.IO.DirectoryInfo\n",
    "|> fun dir -> dir.Name\n",
    "|> _equal \"fsharp\""
   ]
  },
  {
   "cell_type": "markdown",
   "metadata": {},
   "source": [
    "## findParent"
   ]
  },
  {
   "cell_type": "code",
   "execution_count": null,
   "metadata": {
    "dotnet_interactive": {
     "language": "fsharp"
    },
    "polyglot_notebook": {
     "kernelName": "fsharp"
    }
   },
   "outputs": [],
   "source": [
    "let inline findParent name isFile rootDir =\n",
    "    let rec loop dir =\n",
    "        if dir </> name |> (if isFile then System.IO.File.Exists else System.IO.Directory.Exists)\n",
    "        then dir\n",
    "        else\n",
    "            dir\n",
    "            |> System.IO.Directory.GetParent\n",
    "            |> function\n",
    "                | null -> failwith $\"\"\"No parent for {if isFile then \"file\" else \"dir\"} '{name}' at '{rootDir}'\"\"\"\n",
    "                | parent -> parent.FullName |> loop\n",
    "    loop rootDir"
   ]
  },
  {
   "cell_type": "code",
   "execution_count": null,
   "metadata": {
    "dotnet_interactive": {
     "language": "fsharp"
    },
    "polyglot_notebook": {
     "kernelName": "fsharp"
    }
   },
   "outputs": [
    {
     "name": "stdout",
     "output_type": "stream",
     "text": [
      "polyglot\n"
     ]
    }
   ],
   "source": [
    "//// test\n",
    "\n",
    "getSourceDirectory () |> findParent \".paket\" false\n",
    "|> System.IO.DirectoryInfo\n",
    "|> fun dir -> dir.Name\n",
    "|> _equal \"polyglot\""
   ]
  },
  {
   "cell_type": "code",
   "execution_count": null,
   "metadata": {
    "dotnet_interactive": {
     "language": "fsharp"
    },
    "polyglot_notebook": {
     "kernelName": "fsharp"
    }
   },
   "outputs": [
    {
     "name": "stdout",
     "output_type": "stream",
     "text": [
      "polyglot\n"
     ]
    }
   ],
   "source": [
    "//// test\n",
    "\n",
    "getSourceDirectory () |> findParent \"paket.dependencies\" true\n",
    "|> System.IO.DirectoryInfo\n",
    "|> fun dir -> dir.Name\n",
    "|> _equal \"polyglot\""
   ]
  },
  {
   "cell_type": "markdown",
   "metadata": {},
   "source": [
    "## readAllTextAsync"
   ]
  },
  {
   "cell_type": "code",
   "execution_count": null,
   "metadata": {
    "dotnet_interactive": {
     "language": "fsharp"
    },
    "polyglot_notebook": {
     "kernelName": "fsharp"
    }
   },
   "outputs": [],
   "source": [
    "let inline readAllTextAsync path =\n",
    "    path |> System.IO.File.ReadAllTextAsync |> Async.AwaitTask"
   ]
  },
  {
   "cell_type": "markdown",
   "metadata": {},
   "source": [
    "## fileExistsContent"
   ]
  },
  {
   "cell_type": "code",
   "execution_count": null,
   "metadata": {
    "dotnet_interactive": {
     "language": "fsharp"
    },
    "polyglot_notebook": {
     "kernelName": "fsharp"
    }
   },
   "outputs": [],
   "source": [
    "let inline fileExistsContent path content = async {\n",
    "    if path |> System.IO.File.Exists |> not\n",
    "    then return false\n",
    "    else\n",
    "        let! existingContent = path |> readAllTextAsync\n",
    "        return content = existingContent\n",
    "}"
   ]
  },
  {
   "cell_type": "markdown",
   "metadata": {},
   "source": [
    "## writeAllTextAsync"
   ]
  },
  {
   "cell_type": "code",
   "execution_count": null,
   "metadata": {
    "dotnet_interactive": {
     "language": "fsharp"
    },
    "polyglot_notebook": {
     "kernelName": "fsharp"
    }
   },
   "outputs": [],
   "source": [
    "let inline writeAllTextAsync path contents =\n",
    "    System.IO.File.WriteAllTextAsync (path, contents) |> Async.AwaitTask"
   ]
  },
  {
   "cell_type": "markdown",
   "metadata": {},
   "source": [
    "## writeAllTextExists"
   ]
  },
  {
   "cell_type": "code",
   "execution_count": null,
   "metadata": {
    "dotnet_interactive": {
     "language": "fsharp"
    },
    "polyglot_notebook": {
     "kernelName": "fsharp"
    }
   },
   "outputs": [],
   "source": [
    "let inline writeAllTextExists path contents = async {\n",
    "    let! exists = contents |> fileExistsContent path\n",
    "    if not exists\n",
    "    then do! contents |> writeAllTextAsync path\n",
    "}"
   ]
  },
  {
   "cell_type": "markdown",
   "metadata": {},
   "source": [
    "## waitForFileAccess"
   ]
  },
  {
   "cell_type": "code",
   "execution_count": null,
   "metadata": {
    "dotnet_interactive": {
     "language": "fsharp"
    },
    "polyglot_notebook": {
     "kernelName": "fsharp"
    }
   },
   "outputs": [],
   "source": [
    "let inline waitForFileAccess access path =\n",
    "    let fileAccess, fileShare =\n",
    "        access\n",
    "        |> Option.defaultValue (System.IO.FileAccess.ReadWrite, System.IO.FileShare.Read)\n",
    "\n",
    "    let rec loop retry = async {\n",
    "        try\n",
    "            use _ = new System.IO.FileStream (\n",
    "                path,\n",
    "                System.IO.FileMode.Open,\n",
    "                fileAccess,\n",
    "                fileShare\n",
    "            )\n",
    "            return retry\n",
    "        with ex ->\n",
    "            if retry % 100 = 0 then\n",
    "                let getLocals () = $\"path: {path |> System.IO.Path.GetFileName} / ex: {ex |> printException} / {getLocals ()}\"\n",
    "                trace Debug (fun () -> \"waitForFileAccess\") getLocals\n",
    "            do! Async.Sleep 10\n",
    "            return! loop (retry + 1)\n",
    "    }\n",
    "    loop 0"
   ]
  },
  {
   "cell_type": "code",
   "execution_count": null,
   "metadata": {
    "dotnet_interactive": {
     "language": "fsharp"
    },
    "polyglot_notebook": {
     "kernelName": "fsharp"
    }
   },
   "outputs": [
    {
     "name": "stdout",
     "output_type": "stream",
     "text": [
      "00:00:00 #1 [Debug] 1\n",
      "00:00:00 #2 [Debug] 2\n",
      "00:00:00 #3 [Debug] _1\n",
      "00:00:00 #4 [Debug] 3\n",
      "00:00:00 #5 [Debug] _2\n",
      "00:00:00 #6 [Debug] 4\n",
      "00:00:00 #7 [Debug] waitForFileAccess / path: test.txt / ex: System.IO.IOException: The process cannot access the file '/tmp/!dotnet-repl/20240302-1604-2620-2063-2461c34bf536/test.txt' because it is being used by another process.\n",
      "00:00:01 #8 [Debug] waitForFileAccess / path: test.txt / ex: System.IO.IOException: The process cannot access the file '/tmp/!dotnet-repl/20240302-1604-2620-2063-2461c34bf536/test.txt' because it is being used by another process.\n",
      "00:00:02 #9 [Debug] _3\n",
      "00:00:02 #10 [Debug] _4\n",
      "00:00:02 #11 [Debug] _5\n",
      "00:00:02 #12 [Debug] _6\n",
      "00:00:02 #13 [Debug] 5\n",
      "00:00:02 #14 [Debug] 6\n",
      "00:00:02 #15 [Debug] 7\n",
      "167\n",
      "167\n",
      "167\n",
      "1\n",
      "True\n"
     ]
    }
   ],
   "source": [
    "//// test\n",
    "\n",
    "let tempFolder = createTempDirectory ()\n",
    "let path = tempFolder </> \"test.txt\"\n",
    "\n",
    "let inline lockFile () = async {\n",
    "    trace Debug (fun () -> \"_1\") getLocals\n",
    "    use stream = new System.IO.FileStream (\n",
    "        path,\n",
    "        System.IO.FileMode.Open,\n",
    "        System.IO.FileAccess.ReadWrite,\n",
    "        System.IO.FileShare.None\n",
    "    )\n",
    "    trace Debug (fun () -> \"_2\") getLocals\n",
    "    do! Async.Sleep 2000\n",
    "    trace Debug (fun () -> \"_3\") getLocals\n",
    "    stream.Seek (0L, SeekOrigin.Begin) |> ignore\n",
    "    trace Debug (fun () -> \"_4\") getLocals\n",
    "    stream.WriteByte 49uy\n",
    "    trace Debug (fun () -> \"_5\") getLocals\n",
    "    stream.Flush ()\n",
    "    trace Debug (fun () -> \"_6\") getLocals\n",
    "}\n",
    "\n",
    "async {\n",
    "    trace Debug (fun () -> \"1\") getLocals\n",
    "    do! \"0\" |> writeAllTextAsync path\n",
    "    trace Debug (fun () -> \"2\") getLocals\n",
    "    let! child = lockFile () |> Async.StartChild\n",
    "    trace Debug (fun () -> \"3\") getLocals\n",
    "    do! Async.Sleep 1\n",
    "    trace Debug (fun () -> \"4\") getLocals\n",
    "    let! retries = path |> waitForFileAccess None\n",
    "    trace Debug (fun () -> \"5\") getLocals\n",
    "    let! text = path |> readAllTextAsync\n",
    "    trace Debug (fun () -> \"6\") getLocals\n",
    "    do! child\n",
    "    trace Debug (fun () -> \"7\") getLocals\n",
    "    return retries, text\n",
    "}\n",
    "|> Async.runWithTimeout 3000\n",
    "|> function\n",
    "    | Some (retries, text) ->\n",
    "        retries\n",
    "        |> _isBetween\n",
    "            (if Runtime.isWindows () then 100 else 100)\n",
    "            (if Runtime.isWindows () then 150 else 200)\n",
    "\n",
    "        text |> _equal \"1\"\n",
    "\n",
    "        true\n",
    "    | _ -> false\n",
    "|> _equal true"
   ]
  },
  {
   "cell_type": "markdown",
   "metadata": {},
   "source": [
    "## readAllTextRetryAsync"
   ]
  },
  {
   "cell_type": "code",
   "execution_count": null,
   "metadata": {
    "dotnet_interactive": {
     "language": "fsharp"
    },
    "polyglot_notebook": {
     "kernelName": "fsharp"
    }
   },
   "outputs": [],
   "source": [
    "let inline readAllTextRetryAsync fullPath =\n",
    "    let rec loop retry = async {\n",
    "        try\n",
    "            if retry > 0\n",
    "            then do!\n",
    "                fullPath\n",
    "                |> waitForFileAccess (Some (\n",
    "                    System.IO.FileAccess.Read,\n",
    "                    System.IO.FileShare.Read\n",
    "                ))\n",
    "                |> Async.runWithTimeoutAsync 1000\n",
    "                |> Async.Ignore\n",
    "            return! fullPath |> readAllTextAsync |> Async.map Some\n",
    "        with ex ->\n",
    "            let getLocals () = $\"retry: {retry} / ex: {ex |> printException} / {getLocals ()}\"\n",
    "            trace Debug (fun () -> $\"watchWithFilter / readContent\") getLocals\n",
    "            if retry = 0\n",
    "            then return! loop (retry + 1)\n",
    "            else return None\n",
    "    }\n",
    "    loop 0"
   ]
  },
  {
   "cell_type": "markdown",
   "metadata": {},
   "source": [
    "## deleteDirectoryAsync"
   ]
  },
  {
   "cell_type": "code",
   "execution_count": null,
   "metadata": {
    "dotnet_interactive": {
     "language": "fsharp"
    },
    "polyglot_notebook": {
     "kernelName": "fsharp"
    }
   },
   "outputs": [],
   "source": [
    "let inline deleteDirectoryAsync path =\n",
    "    let rec loop retry = async {\n",
    "        try\n",
    "            System.IO.Directory.Delete (path, true)\n",
    "            return retry\n",
    "        with ex ->\n",
    "            if retry % 100 = 0 then\n",
    "                let getLocals () = $\"path: {path |> System.IO.Path.GetFileName} / ex: {ex |> printException} / {getLocals ()}\"\n",
    "                trace Debug (fun () -> \"deleteDirectoryAsync\") getLocals\n",
    "            do! Async.Sleep 10\n",
    "            return! loop (retry + 1)\n",
    "    }\n",
    "    loop 0"
   ]
  },
  {
   "cell_type": "code",
   "execution_count": null,
   "metadata": {
    "dotnet_interactive": {
     "language": "fsharp"
    },
    "polyglot_notebook": {
     "kernelName": "fsharp"
    }
   },
   "outputs": [
    {
     "name": "stdout",
     "output_type": "stream",
     "text": [
      "00:00:02 #16 [Debug] 1\n",
      "00:00:02 #17 [Debug] 2\n",
      "00:00:02 #18 [Debug] 3\n",
      "00:00:02 #19 [Debug] _1\n",
      "00:00:02 #20 [Debug] _2\n",
      "00:00:02 #21 [Debug] 4\n",
      "00:00:02 #22 [Debug] 5\n",
      "00:00:04 #23 [Debug] _3\n",
      "00:00:04 #24 [Debug] 6\n",
      "0\n",
      "0\n",
      "0\n",
      "True\n"
     ]
    }
   ],
   "source": [
    "//// test\n",
    "\n",
    "let tempFolder = createTempDirectory ()\n",
    "let path = tempFolder </> \"test\"\n",
    "\n",
    "let inline lockDirectory () = async {\n",
    "    trace Debug (fun () -> \"_1\") getLocals\n",
    "    System.IO.File.WriteAllText (path </> \"test.txt\", \"0\")\n",
    "    use _ = new System.IO.FileStream (\n",
    "        path </> \"test.txt\",\n",
    "        System.IO.FileMode.Open,\n",
    "        System.IO.FileAccess.ReadWrite,\n",
    "        System.IO.FileShare.None\n",
    "    )\n",
    "    trace Debug (fun () -> \"_2\") getLocals\n",
    "    do! Async.Sleep 2000\n",
    "    trace Debug (fun () -> \"_3\") getLocals\n",
    "}\n",
    "\n",
    "async {\n",
    "    trace Debug (fun () -> \"1\") getLocals\n",
    "    Directory.CreateDirectory path |> ignore\n",
    "    trace Debug (fun () -> \"2\") getLocals\n",
    "    let! child = lockDirectory () |> Async.StartChild\n",
    "    trace Debug (fun () -> \"3\") getLocals\n",
    "    do! Async.Sleep 60\n",
    "    trace Debug (fun () -> \"4\") getLocals\n",
    "    let! retries = deleteDirectoryAsync path\n",
    "    trace Debug (fun () -> \"5\") getLocals\n",
    "    do! child\n",
    "    trace Debug (fun () -> \"6\") getLocals\n",
    "    return retries\n",
    "}\n",
    "|> Async.runWithTimeout 3000\n",
    "|> function\n",
    "    | Some retries ->\n",
    "        retries\n",
    "        |> _isBetween\n",
    "            (if Runtime.isWindows () then 100 else 0)\n",
    "            (if Runtime.isWindows () then 150 else 0)\n",
    "\n",
    "        true\n",
    "    | _ -> false\n",
    "|> _equal true"
   ]
  },
  {
   "cell_type": "markdown",
   "metadata": {},
   "source": [
    "## deleteFileAsync"
   ]
  },
  {
   "cell_type": "code",
   "execution_count": null,
   "metadata": {
    "dotnet_interactive": {
     "language": "fsharp"
    },
    "polyglot_notebook": {
     "kernelName": "fsharp"
    }
   },
   "outputs": [],
   "source": [
    "let inline deleteFileAsync path =\n",
    "    let rec loop retry = async {\n",
    "        try\n",
    "            System.IO.File.Delete path\n",
    "            return retry\n",
    "        with ex ->\n",
    "            if retry % 100 = 0 then\n",
    "                let getLocals () = $\"path: {path |> System.IO.Path.GetFileName} / ex: {ex |> printException} / {getLocals ()}\"\n",
    "                trace Warning (fun () -> \"deleteFileAsync\") getLocals\n",
    "            do! Async.Sleep 10\n",
    "            return! loop (retry + 1)\n",
    "    }\n",
    "    loop 0"
   ]
  },
  {
   "cell_type": "code",
   "execution_count": null,
   "metadata": {
    "dotnet_interactive": {
     "language": "fsharp"
    },
    "polyglot_notebook": {
     "kernelName": "fsharp"
    }
   },
   "outputs": [
    {
     "name": "stdout",
     "output_type": "stream",
     "text": [
      "00:00:04 #25 [Debug] 1\n",
      "00:00:04 #26 [Debug] 2\n",
      "00:00:04 #27 [Debug] 3\n",
      "00:00:04 #28 [Debug] _1\n",
      "00:00:04 #29 [Debug] _2\n",
      "00:00:04 #30 [Debug] 4\n",
      "00:00:04 #31 [Debug] 5\n",
      "00:00:06 #32 [Debug] _3\n",
      "00:00:06 #33 [Debug] 6\n",
      "0\n",
      "0\n",
      "0\n",
      "True\n"
     ]
    }
   ],
   "source": [
    "//// test\n",
    "\n",
    "let tempFolder = createTempDirectory ()\n",
    "let path = tempFolder </> \"test.txt\"\n",
    "\n",
    "let inline lockFile () = async {\n",
    "    trace Debug (fun () -> \"_1\") getLocals\n",
    "    use _ = new System.IO.FileStream (\n",
    "        path,\n",
    "        System.IO.FileMode.Open,\n",
    "        System.IO.FileAccess.ReadWrite,\n",
    "        System.IO.FileShare.None\n",
    "    )\n",
    "    trace Debug (fun () -> \"_2\") getLocals\n",
    "    do! Async.Sleep 2000\n",
    "    trace Debug (fun () -> \"_3\") getLocals\n",
    "}\n",
    "\n",
    "async {\n",
    "    trace Debug (fun () -> \"1\") getLocals\n",
    "    do! \"0\" |> writeAllTextAsync path\n",
    "    trace Debug (fun () -> \"2\") getLocals\n",
    "    let! child = lockFile () |> Async.StartChild\n",
    "    trace Debug (fun () -> \"3\") getLocals\n",
    "    do! Async.Sleep 1\n",
    "    trace Debug (fun () -> \"4\") getLocals\n",
    "    let! retries = deleteFileAsync path\n",
    "    trace Debug (fun () -> \"5\") getLocals\n",
    "    do! child\n",
    "    trace Debug (fun () -> \"6\") getLocals\n",
    "    return retries\n",
    "}\n",
    "|> Async.runWithTimeout 3000\n",
    "|> function\n",
    "    | Some retries ->\n",
    "        retries\n",
    "        |> _isBetween\n",
    "            (if Runtime.isWindows () then 100 else 0)\n",
    "            (if Runtime.isWindows () then 150 else 0)\n",
    "\n",
    "        true\n",
    "    | _ -> false\n",
    "|> _equal true"
   ]
  },
  {
   "cell_type": "markdown",
   "metadata": {},
   "source": [
    "## moveFileAsync"
   ]
  },
  {
   "cell_type": "code",
   "execution_count": null,
   "metadata": {
    "dotnet_interactive": {
     "language": "fsharp"
    },
    "polyglot_notebook": {
     "kernelName": "fsharp"
    }
   },
   "outputs": [],
   "source": [
    "let inline moveFileAsync newPath oldPath =\n",
    "    let rec loop retry = async {\n",
    "        try\n",
    "            System.IO.File.Move (oldPath, newPath)\n",
    "            return retry\n",
    "        with ex ->\n",
    "            if retry % 100 = 0 then\n",
    "                let getLocals () =\n",
    "                    $\"oldPath: {oldPath |> System.IO.Path.GetFileName} / newPath: {newPath |> System.IO.Path.GetFileName} / ex: {ex |> printException} / {getLocals ()}\"\n",
    "                trace Warning (fun () -> \"moveFileAsync\") getLocals\n",
    "            do! Async.Sleep 10\n",
    "            return! loop (retry + 1)\n",
    "    }\n",
    "    loop 0"
   ]
  },
  {
   "cell_type": "code",
   "execution_count": null,
   "metadata": {
    "dotnet_interactive": {
     "language": "fsharp"
    },
    "polyglot_notebook": {
     "kernelName": "fsharp"
    }
   },
   "outputs": [
    {
     "name": "stdout",
     "output_type": "stream",
     "text": [
      "00:00:06 #34 [Debug] 1\n",
      "00:00:06 #35 [Debug] 2\n",
      "00:00:06 #36 [Debug] 3\n",
      "00:00:06 #37 [Debug] _1\n",
      "00:00:06 #38 [Debug] _2\n",
      "00:00:06 #39 [Debug] 4\n",
      "00:00:06 #40 [Debug] 5\n",
      "00:00:06 #41 [Debug] waitForFileAccess / path: test2.txt / ex: System.IO.IOException: The process cannot access the file '/tmp/!dotnet-repl/20240302-1604-3306-0674-04dee994f0e8/test2.txt' because it is being used by another process.\n",
      "00:00:08 #42 [Debug] waitForFileAccess / path: test2.txt / ex: System.IO.IOException: The process cannot access the file '/tmp/!dotnet-repl/20240302-1604-3306-0674-04dee994f0e8/test2.txt' because it is being used by another process.\n",
      "00:00:08 #43 [Debug] _3\n",
      "00:00:08 #44 [Debug] 6\n",
      "00:00:08 #45 [Debug] 7\n",
      "00:00:08 #46 [Debug] 8\n",
      "0\n",
      "0\n",
      "0\n",
      "167\n",
      "167\n",
      "167\n",
      "0\n",
      "True\n"
     ]
    }
   ],
   "source": [
    "//// test\n",
    "\n",
    "let tempFolder = createTempDirectory ()\n",
    "let path = tempFolder </> \"test.txt\"\n",
    "let newPath = tempFolder </> \"test2.txt\"\n",
    "\n",
    "let inline lockFile () = async {\n",
    "    trace Debug (fun () -> \"_1\") getLocals\n",
    "    use _ = new System.IO.FileStream (\n",
    "        path,\n",
    "        System.IO.FileMode.Open,\n",
    "        System.IO.FileAccess.ReadWrite,\n",
    "        System.IO.FileShare.None\n",
    "    )\n",
    "    trace Debug (fun () -> \"_2\") getLocals\n",
    "    do! Async.Sleep 2000\n",
    "    trace Debug (fun () -> \"_3\") getLocals\n",
    "}\n",
    "\n",
    "async {\n",
    "    trace Debug (fun () -> \"1\") getLocals\n",
    "    do! \"0\" |> writeAllTextAsync path\n",
    "    trace Debug (fun () -> \"2\") getLocals\n",
    "    let! child = lockFile () |> Async.StartChild\n",
    "    trace Debug (fun () -> \"3\") getLocals\n",
    "    do! Async.Sleep 1\n",
    "    trace Debug (fun () -> \"4\") getLocals\n",
    "    let! retries1 = path |> moveFileAsync newPath\n",
    "    trace Debug (fun () -> \"5\") getLocals\n",
    "    let! retries2 = newPath |> waitForFileAccess None\n",
    "    trace Debug (fun () -> \"6\") getLocals\n",
    "    let! text = newPath |> readAllTextAsync\n",
    "    trace Debug (fun () -> \"7\") getLocals\n",
    "    do! child\n",
    "    trace Debug (fun () -> \"8\") getLocals\n",
    "    return retries1, retries2, text\n",
    "}\n",
    "|> Async.runWithTimeout 3000\n",
    "|> function\n",
    "    | Some (retries1, retries2, text) ->\n",
    "        retries1\n",
    "        |> _isBetween\n",
    "            (if Runtime.isWindows () then 100 else 0)\n",
    "            (if Runtime.isWindows () then 150 else 0)\n",
    "\n",
    "        retries2\n",
    "        |> _isBetween\n",
    "            (if Runtime.isWindows () then 0 else 100)\n",
    "            (if Runtime.isWindows () then 0 else 200)\n",
    "\n",
    "        text |> _equal \"0\"\n",
    "\n",
    "        true\n",
    "    | _ -> false\n",
    "|> _equal true"
   ]
  },
  {
   "cell_type": "markdown",
   "metadata": {},
   "source": [
    "## watchDirectory"
   ]
  },
  {
   "cell_type": "code",
   "execution_count": null,
   "metadata": {
    "dotnet_interactive": {
     "language": "fsharp"
    },
    "polyglot_notebook": {
     "kernelName": "fsharp"
    }
   },
   "outputs": [],
   "source": [
    "[<RequireQualifiedAccess>]\n",
    "type FileSystemChangeType =\n",
    "    | Failure\n",
    "    | Changed\n",
    "    | Created\n",
    "    | Deleted\n",
    "    | Renamed\n",
    "\n",
    "[<RequireQualifiedAccess>]\n",
    "type FileSystemChange =\n",
    "    | Failure of exn: exn\n",
    "    | Changed of path: string * content: string option\n",
    "    | Created of path: string * content: string option\n",
    "    | Deleted of path: string\n",
    "    | Renamed of oldPath: string * (string * string option)\n",
    "\n",
    "\n",
    "let inline watchDirectoryWithFilter filter shouldReadContent path =\n",
    "    let fullPath = path |> System.IO.Path.GetFullPath\n",
    "    let getLocals () = $\"filter: {filter} / {getLocals ()}\"\n",
    "\n",
    "    let watcher =\n",
    "        new System.IO.FileSystemWatcher (\n",
    "            Path = fullPath,\n",
    "            NotifyFilter = filter,\n",
    "            EnableRaisingEvents = true,\n",
    "            IncludeSubdirectories = true\n",
    "        )\n",
    "\n",
    "    let inline getEventPath (path : string) =\n",
    "        path |> String.trim |> String.replace fullPath \"\" |> String.trimStart [| '/'; '\\\\' |]\n",
    "\n",
    "    let inline ticks () =\n",
    "        System.DateTime.UtcNow.Ticks\n",
    "\n",
    "    let changedStream =\n",
    "        AsyncSeq.subscribeEvent\n",
    "            watcher.Changed\n",
    "            (fun event ->\n",
    "                ticks (),\n",
    "                [ FileSystemChange.Changed (getEventPath event.FullPath, None) ]\n",
    "            )\n",
    "\n",
    "    let deletedStream =\n",
    "        AsyncSeq.subscribeEvent\n",
    "            watcher.Deleted\n",
    "            (fun event ->\n",
    "                ticks (),\n",
    "                [ FileSystemChange.Deleted (getEventPath event.FullPath) ]\n",
    "            )\n",
    "\n",
    "    let createdStream =\n",
    "        AsyncSeq.subscribeEvent\n",
    "            watcher.Created\n",
    "            (fun event ->\n",
    "                let path = getEventPath event.FullPath\n",
    "                ticks (), [\n",
    "                    FileSystemChange.Created (path, None)\n",
    "                    if Runtime.isWindows () then\n",
    "                        FileSystemChange.Changed (path, None)\n",
    "                ])\n",
    "\n",
    "    let renamedStream =\n",
    "        AsyncSeq.subscribeEvent\n",
    "            watcher.Renamed\n",
    "            (fun event ->\n",
    "                ticks (), [\n",
    "                    FileSystemChange.Renamed (\n",
    "                        getEventPath event.OldFullPath,\n",
    "                        (getEventPath event.FullPath, None)\n",
    "                    )\n",
    "                ]\n",
    "            )\n",
    "\n",
    "    let failureStream =\n",
    "        AsyncSeq.subscribeEvent\n",
    "            watcher.Error\n",
    "            (fun event -> ticks (), [ FileSystemChange.Failure (event.GetException ()) ])\n",
    "\n",
    "    let stream =\n",
    "        [\n",
    "            changedStream\n",
    "            deletedStream\n",
    "            createdStream\n",
    "            renamedStream\n",
    "            failureStream\n",
    "        ]\n",
    "        |> FSharp.Control.AsyncSeq.mergeAll\n",
    "        |> FSharp.Control.AsyncSeq.map (fun (t, events) ->\n",
    "            events\n",
    "            |> List.fold\n",
    "                (fun (i, events) event ->\n",
    "                    i + 1L,\n",
    "                    (t + i, event) :: events)\n",
    "                (0L, [])\n",
    "            |> snd\n",
    "            |> List.rev\n",
    "        )\n",
    "        |> FSharp.Control.AsyncSeq.concatSeq\n",
    "        |> FSharp.Control.AsyncSeq.mapAsyncParallel (fun (t, event) -> async {\n",
    "            match shouldReadContent event, event with\n",
    "            | true, FileSystemChange.Changed (path, _) ->\n",
    "                do! Async.Sleep 5\n",
    "                let! content = fullPath </> path |> readAllTextRetryAsync\n",
    "                return t, FileSystemChange.Changed (path, content)\n",
    "            | true, FileSystemChange.Created (path, _) ->\n",
    "                do! Async.Sleep 5\n",
    "                let! content = fullPath </> path |> readAllTextRetryAsync\n",
    "                return t, FileSystemChange.Created (path, content)\n",
    "            | true, FileSystemChange.Renamed (oldPath, (newPath, _)) ->\n",
    "                let! content = fullPath </> newPath |> readAllTextRetryAsync\n",
    "                return t, FileSystemChange.Renamed (oldPath, (newPath, content))\n",
    "            | _ -> return t, event\n",
    "        })\n",
    "\n",
    "    let disposable =\n",
    "        newDisposable (fun () ->\n",
    "            trace Debug (fun () -> \"watchWithFilter / Disposing watch stream\") getLocals\n",
    "            watcher.EnableRaisingEvents <- false\n",
    "            watcher.Dispose ()\n",
    "        )\n",
    "\n",
    "    stream, disposable\n",
    "\n",
    "let inline watchDirectory path =\n",
    "    watchDirectoryWithFilter\n",
    "        (System.IO.NotifyFilters.FileName\n",
    "        // ||| System.IO.NotifyFilters.DirectoryName\n",
    "        // ||| System.IO.NotifyFilters.Attributes\n",
    "        //// ||| System.IO.NotifyFilters.Size\n",
    "        ||| System.IO.NotifyFilters.LastWrite\n",
    "        //// ||| System.IO.NotifyFilters.LastAccess\n",
    "        // ||| System.IO.NotifyFilters.CreationTime\n",
    "        // ||| System.IO.NotifyFilters.Security\n",
    "        )\n",
    "        path"
   ]
  },
  {
   "cell_type": "markdown",
   "metadata": {},
   "source": [
    "### testEventsRaw (test)"
   ]
  },
  {
   "cell_type": "code",
   "execution_count": null,
   "metadata": {
    "dotnet_interactive": {
     "language": "fsharp"
    },
    "polyglot_notebook": {
     "kernelName": "fsharp"
    }
   },
   "outputs": [],
   "source": [
    "//// test\n",
    "\n",
    "let inline testEventsRaw\n",
    "    (watchFn : (_ -> bool) -> string -> FSharp.Control.AsyncSeq<int64 * FileSystemChange> * IDisposable)\n",
    "    write\n",
    "    =\n",
    "    let tempDirectory = createTempDirectory ()\n",
    "    let stream, disposable = watchFn (fun _ -> true) tempDirectory\n",
    "\n",
    "    let events = System.Collections.Concurrent.ConcurrentBag ()\n",
    "\n",
    "    let inline iter () =\n",
    "        stream\n",
    "        |> FSharp.Control.AsyncSeq.iterAsyncParallel (fun event -> async { events.Add event })\n",
    "\n",
    "    let run = async {\n",
    "        let! _ = iter () |> Async.StartChild\n",
    "        do! Async.Sleep 250\n",
    "        return! write tempDirectory\n",
    "    }\n",
    "\n",
    "    try\n",
    "        run\n",
    "        |> Async.runWithTimeout 60000\n",
    "        |> _equal (Some ())\n",
    "    finally\n",
    "        disposable.Dispose ()\n",
    "        deleteDirectoryAsync tempDirectory |> Async.Ignore |> Async.RunSynchronously\n",
    "\n",
    "    let eventsLog =\n",
    "        events\n",
    "        |> Seq.toList\n",
    "        |> List.sortBy fst\n",
    "        |> List.fold\n",
    "            (fun (prev, acc) (ticks, event) ->\n",
    "                ticks, (ticks, (if prev = 0L then 0L else ticks - prev), event) :: acc\n",
    "            )\n",
    "            (0L, [])\n",
    "        |> snd\n",
    "        |> List.rev\n",
    "        |> List.map (fun (diff, n, event) ->\n",
    "            let text = $\"{n} / {diff} / {event}\"\n",
    "            if text |> String.length <= 100\n",
    "            then text\n",
    "            else text |> String.substring 0 100 |> String.replace \"\\n\" \"\"\n",
    "        )\n",
    "        |> String.concat \"\\n\"\n",
    "    let getLocals () = $\"eventsLog: \\n{eventsLog} / {getLocals ()}\"\n",
    "    trace Debug (fun () -> \"testEventsRaw\") getLocals\n",
    "\n",
    "    events\n",
    "    |> Seq.toList\n",
    "    |> List.sortBy fst\n",
    "    |> List.map snd\n",
    "    |> List.fold\n",
    "        (fun acc event ->\n",
    "            match acc, event with\n",
    "            | FileSystemChange.Changed (lastPath, Some lastContent) as lastEvent :: acc,\n",
    "                FileSystemChange.Changed (path, Some content)\n",
    "                when lastPath = path && content |> String.startsWith lastContent\n",
    "                ->\n",
    "                event :: acc\n",
    "            | _ -> event :: acc\n",
    "        )\n",
    "        []\n",
    "    |> List.rev"
   ]
  },
  {
   "cell_type": "markdown",
   "metadata": {},
   "source": [
    "#### fast (test)"
   ]
  },
  {
   "cell_type": "code",
   "execution_count": null,
   "metadata": {
    "dotnet_interactive": {
     "language": "fsharp"
    },
    "polyglot_notebook": {
     "kernelName": "fsharp"
    }
   },
   "outputs": [
    {
     "name": "stdout",
     "output_type": "stream",
     "text": [
      "FSharpOption<Unit>\n",
      "      Value: <null>\n",
      "00:00:13 #47 [Debug] watchWithFilter / Disposing watch stream / filter: FileName, LastWrite\n",
      "00:00:13 #48 [Debug] testEventsRaw / eventsLog: \n",
      "0 / 638449922783092285 / Created (\"file1.txt\", Some \"a1\")\n",
      "12597 / 638449922783104882 / Changed (\"file1.txt\", Some \"a1\")\n",
      "1408 / 638449922783106290 / Created (\"file2.txt\", Some \"a2\")\n",
      "54 / 638449922783106344 / Changed (\"file2.txt\", Some \"a2\")\n",
      "2485403 / 638449922785591747 / Changed (\"file1.txt\", Some \"b1\")\n",
      "593 / 638449922785592340 / Changed (\"file1.txt\", Some \"b1\")\n",
      "5340 / 638449922785597680 / Changed (\"file2.txt\", Some \"b2\")\n",
      "448 / 638449922785598128 / Changed (\"file2.txt\", Some \"b2\")\n",
      "2547895 / 638449922788146023 / Renamed (\"file1.txt\", (\"file_1.txt\", Some \"b1\"))\n",
      "1379 / 638449922788147402 / Renamed (\"file2.txt\", (\"file_2.txt\", Some \"b2\"))\n",
      "2524642 / 638449922790672044 / Changed (\"file_1.txt\", Some \"c1\")\n",
      "363 / 638449922790672407 / Changed (\"file_1.txt\", Some \"c1\")\n",
      "4484 / 638449922790676891 / Changed (\"file_2.txt\", Some \"c2\")\n",
      "290 / 638449922790677181 / Changed (\"file_2.txt\", Some \"c2\")\n",
      "2515952 / 638449922793193133 / Deleted \"file_1.txt\"\n",
      "1374 / 638449922793194507 / Deleted \"file_2.txt\"\n",
      "FSharpList<FileSystemChange>\n",
      "      - path: file1.txt\n",
      "        content: FSharpOption<String>\n",
      "          Value: a1\n",
      "        IsFailure: False\n",
      "        IsChanged: False\n",
      "        IsCreated: True\n",
      "        IsDeleted: False\n",
      "        IsRenamed: False\n",
      "      - path: file1.txt\n",
      "        content: FSharpOption<String>\n",
      "          Value: a1\n",
      "        IsFailure: False\n",
      "        IsChanged: True\n",
      "        IsCreated: False\n",
      "        IsDeleted: False\n",
      "        IsRenamed: False\n",
      "      - path: file2.txt\n",
      "        content: FSharpOption<String>\n",
      "          Value: a2\n",
      "        IsFailure: False\n",
      "        IsChanged: False\n",
      "        IsCreated: True\n",
      "        IsDeleted: False\n",
      "        IsRenamed: False\n",
      "      - path: file2.txt\n",
      "        content: FSharpOption<String>\n",
      "          Value: a2\n",
      "        IsFailure: False\n",
      "        IsChanged: True\n",
      "        IsCreated: False\n",
      "        IsDeleted: False\n",
      "        IsRenamed: False\n",
      "      - path: file1.txt\n",
      "        content: FSharpOption<String>\n",
      "          Value: b1\n",
      "        IsFailure: False\n",
      "        IsChanged: True\n",
      "        IsCreated: False\n",
      "        IsDeleted: False\n",
      "        IsRenamed: False\n",
      "      - path: file2.txt\n",
      "        content: FSharpOption<String>\n",
      "          Value: b2\n",
      "        IsFailure: False\n",
      "        IsChanged: True\n",
      "        IsCreated: False\n",
      "        IsDeleted: False\n",
      "        IsRenamed: False\n",
      "      - oldPath: file1.txt\n",
      "        Item2:         - file_1.txt\n",
      "        - FSharpOption<String>\n",
      "            Value: b1\n",
      "      - IsFailure: False\n",
      "        IsChanged: False\n",
      "        IsCreated: False\n",
      "        IsDeleted: False\n",
      "        IsRenamed: True\n",
      "      - oldPath: file2.txt\n",
      "        Item2:         - file_2.txt\n",
      "        - FSharpOption<String>\n",
      "            Value: b2\n",
      "      - IsFailure: False\n",
      "        IsChanged: False\n",
      "        IsCreated: False\n",
      "        IsDeleted: False\n",
      "        IsRenamed: True\n",
      "      - path: file_1.txt\n",
      "        content: FSharpOption<String>\n",
      "          Value: c1\n",
      "        IsFailure: False\n",
      "        IsChanged: True\n",
      "        IsCreated: False\n",
      "        IsDeleted: False\n",
      "        IsRenamed: False\n",
      "      - path: file_2.txt\n",
      "        content: FSharpOption<String>\n",
      "          Value: c2\n",
      "        IsFailure: False\n",
      "        IsChanged: True\n",
      "        IsCreated: False\n",
      "        IsDeleted: False\n",
      "        IsRenamed: False\n",
      "      - path: file_1.txt\n",
      "        IsFailure: False\n",
      "        IsChanged: False\n",
      "        IsCreated: False\n",
      "        IsDeleted: True\n",
      "        IsRenamed: False\n",
      "      - path: file_2.txt\n",
      "        IsFailure: False\n",
      "        IsChanged: False\n",
      "        IsCreated: False\n",
      "        IsDeleted: True\n",
      "        IsRenamed: False\n",
      "FSharpOption<Unit>\n",
      "      Value: <null>\n"
     ]
    }
   ],
   "source": [
    "//// test\n",
    "\n",
    "let inline write path = async {\n",
    "    let n = 2\n",
    "\n",
    "    for i = 1 to n do\n",
    "        do! $\"a{i}\" |> writeAllTextAsync (path </> $\"file{i}.txt\")\n",
    "\n",
    "    do! Async.Sleep 250\n",
    "\n",
    "    for i = 1 to n do\n",
    "        do! $\"b{i}\" |> writeAllTextAsync (path </> $\"file{i}.txt\")\n",
    "\n",
    "    do! Async.Sleep 250\n",
    "\n",
    "    for i = 1 to n do\n",
    "        do! path </> $\"file{i}.txt\" |> moveFileAsync (path </> $\"file_{i}.txt\") |> Async.Ignore\n",
    "\n",
    "    do! Async.Sleep 250\n",
    "\n",
    "    for i = 1 to n do\n",
    "        do! $\"c{i}\" |> writeAllTextAsync (path </> $\"file_{i}.txt\")\n",
    "\n",
    "    do! Async.Sleep 250\n",
    "\n",
    "    for i = 1 to n do\n",
    "        do! deleteFileAsync (path </> $\"file_{i}.txt\") |> Async.Ignore\n",
    "\n",
    "    do! Async.Sleep 250\n",
    "}\n",
    "\n",
    "let inline run () =\n",
    "    let events = testEventsRaw watchDirectory write\n",
    "\n",
    "    events\n",
    "    |> _sequenceEqual [\n",
    "        FileSystemChange.Created (\"file1.txt\", Some \"a1\")\n",
    "        FileSystemChange.Changed (\"file1.txt\", Some \"a1\")\n",
    "        FileSystemChange.Created (\"file2.txt\", Some \"a2\")\n",
    "        FileSystemChange.Changed (\"file2.txt\", Some \"a2\")\n",
    "\n",
    "        FileSystemChange.Changed (\"file1.txt\", Some \"b1\")\n",
    "        FileSystemChange.Changed (\"file2.txt\", Some \"b2\")\n",
    "\n",
    "        FileSystemChange.Renamed (\"file1.txt\", (\"file_1.txt\", Some \"b1\"))\n",
    "        FileSystemChange.Renamed (\"file2.txt\", (\"file_2.txt\", Some \"b2\"))\n",
    "\n",
    "        FileSystemChange.Changed (\"file_1.txt\", Some \"c1\")\n",
    "        FileSystemChange.Changed (\"file_2.txt\", Some \"c2\")\n",
    "\n",
    "        FileSystemChange.Deleted \"file_1.txt\"\n",
    "        FileSystemChange.Deleted \"file_2.txt\"\n",
    "    ]\n",
    "\n",
    "run\n",
    "|> retryFn 3\n",
    "|> _equal (Some ())"
   ]
  },
  {
   "cell_type": "markdown",
   "metadata": {},
   "source": [
    "#### slow (test)"
   ]
  },
  {
   "cell_type": "code",
   "execution_count": null,
   "metadata": {
    "dotnet_interactive": {
     "language": "fsharp"
    },
    "polyglot_notebook": {
     "kernelName": "fsharp"
    }
   },
   "outputs": [
    {
     "name": "stdout",
     "output_type": "stream",
     "text": [
      "FSharpOption<Unit>\n",
      "      Value: <null>\n",
      "00:00:23 #49 [Debug] watchWithFilter / Disposing watch stream / filter: FileName, LastWrite\n",
      "00:00:25 #50 [Debug] testEventsRaw / eventsLog: \n",
      "0 / 638449922823537774 / Created  (\"file1.txt\",   Some     \"1111111111111111111111111111111111111\n",
      "3302 / 638449922823541076 / Changed  (\"file1.txt\",   Some     \"1111111111111111111111111111111111\n",
      "315 / 638449922823541391 / Changed  (\"file1.txt\",   Some     \"11111111111111111111111111111111111\n",
      "83 / 638449922823541474 / Changed  (\"file1.txt\",   Some     \"111111111111111111111111111111111111\n",
      "7861 / 638449922823549335 / Changed  (\"file1.txt\",   Some     \"1111111111111111111111111111111111\n",
      "70 / 638449922823549405 / Changed  (\"file1.txt\",   Some     \"111111111111111111111111111111111111\n",
      "54 / 638449922823549459 / Changed  (\"file1.txt\",   Some     \"111111111111111111111111111111111111\n",
      "292 / 638449922823549751 / Changed  (\"file1.txt\",   Some     \"11111111111111111111111111111111111\n",
      "4711 / 638449922823554462 / Changed  (\"file1.txt\",   Some     \"1111111111111111111111111111111111\n",
      "29632 / 638449922823584094 / Created  (\"file2.txt\",   Some     \"222222222222222222222222222222222\n",
      "179 / 638449922823584273 / Changed  (\"file2.txt\",   Some     \"22222222222222222222222222222222222\n",
      "302 / 638449922823584575 / Changed  (\"file2.txt\",   Some     \"22222222222222222222222222222222222\n",
      "2424 / 638449922823586999 / Changed  (\"file2.txt\",   Some     \"2222222222222222222222222222222222\n",
      "82 / 638449922823587081 / Changed  (\"file2.txt\",   Some     \"222222222222222222222222222222222222\n",
      "243 / 638449922823587324 / Changed  (\"file2.txt\",   Some     \"22222222222222222222222222222222222\n",
      "1610 / 638449922823588934 / Changed  (\"file2.txt\",   Some     \"2222222222222222222222222222222222\n",
      "70 / 638449922823589004 / Changed  (\"file2.txt\",   Some     \"222222222222222222222222222222222222\n",
      "267 / 638449922823589271 / Changed  (\"file2.txt\",   Some     \"22222222222222222222222222222222222\n",
      "120 / 638449922823589391 / Changed  (\"file2.txt\",   Some     \"22222222222222222222222222222222222\n",
      "130 / 638449922823589521 / Changed  (\"file2.txt\",   Some     \"22222222222222222222222222222222222\n",
      "199 / 638449922823589720 / Changed  (\"file2.txt\",   Some     \"22222222222222222222222222222222222\n",
      "121 / 638449922823589841 / Changed  (\"file2.txt\",   Some     \"22222222222222222222222222222222222\n",
      "174 / 638449922823590015 / Changed  (\"file2.txt\",   Some     \"22222222222222222222222222222222222\n",
      "165 / 638449922823590180 / Changed  (\"file2.txt\",   Some     \"22222222222222222222222222222222222\n",
      "163 / 638449922823590343 / Changed  (\"file2.txt\",   Some     \"22222222222222222222222222222222222\n",
      "224 / 638449922823590567 / Changed  (\"file2.txt\",   Some     \"22222222222222222222222222222222222\n",
      "139 / 638449922823590706 / Changed  (\"file2.txt\",   Some     \"22222222222222222222222222222222222\n",
      "157 / 638449922823590863 / Changed  (\"file2.txt\",   Some     \"22222222222222222222222222222222222\n",
      "168 / 638449922823591031 / Changed  (\"file2.txt\",   Some     \"22222222222222222222222222222222222\n",
      "184 / 638449922823591215 / Changed  (\"file2.txt\",   Some     \"22222222222222222222222222222222222\n",
      "159 / 638449922823591374 / Changed  (\"file2.txt\",   Some     \"22222222222222222222222222222222222\n",
      "160 / 638449922823591534 / Changed  (\"file2.txt\",   Some     \"22222222222222222222222222222222222\n",
      "170 / 638449922823591704 / Changed  (\"file2.txt\",   Some     \"22222222222222222222222222222222222\n",
      "165 / 638449922823591869 / Changed  (\"file2.txt\",   Some     \"22222222222222222222222222222222222\n",
      "159 / 638449922823592028 / Changed  (\"file2.txt\",   Some     \"22222222222222222222222222222222222\n",
      "158 / 638449922823592186 / Changed  (\"file2.txt\",   Some     \"22222222222222222222222222222222222\n",
      "170 / 638449922823592356 / Changed  (\"file2.txt\",   Some     \"22222222222222222222222222222222222\n",
      "192 / 638449922823592548 / Changed  (\"file2.txt\",   Some     \"22222222222222222222222222222222222\n",
      "1308 / 638449922823593856 / Changed  (\"file2.txt\",   Some     \"2222222222222222222222222222222222\n",
      "146 / 638449922823594002 / Changed  (\"file2.txt\",   Some     \"22222222222222222222222222222222222\n",
      "276 / 638449922823594278 / Changed  (\"file2.txt\",   Some     \"22222222222222222222222222222222222\n",
      "228 / 638449922823594506 / Changed  (\"file2.txt\",   Some     \"22222222222222222222222222222222222\n",
      "169 / 638449922823594675 / Changed  (\"file2.txt\",   Some     \"22222222222222222222222222222222222\n",
      "172 / 638449922823594847 / Changed  (\"file2.txt\",   Some     \"22222222222222222222222222222222222\n",
      "144 / 638449922823594991 / Changed  (\"file2.txt\",   Some     \"22222222222222222222222222222222222\n",
      "165 / 638449922823595156 / Changed  (\"file2.txt\",   Some     \"22222222222222222222222222222222222\n",
      "184 / 638449922823595340 / Changed  (\"file2.txt\",   Some     \"22222222222222222222222222222222222\n",
      "215 / 638449922823595555 / Changed  (\"file2.txt\",   Some     \"22222222222222222222222222222222222\n",
      "193 / 638449922823595748 / Changed  (\"file2.txt\",   Some     \"22222222222222222222222222222222222\n",
      "161 / 638449922823595909 / Changed  (\"file2.txt\",   Some     \"22222222222222222222222222222222222\n",
      "167 / 638449922823596076 / Changed  (\"file2.txt\",   Some     \"22222222222222222222222222222222222\n",
      "171 / 638449922823596247 / Changed  (\"file2.txt\",   Some     \"22222222222222222222222222222222222\n",
      "187 / 638449922823596434 / Changed  (\"file2.txt\",   Some     \"22222222222222222222222222222222222\n",
      "193 / 638449922823596627 / Changed  (\"file2.txt\",   Some     \"22222222222222222222222222222222222\n",
      "176 / 638449922823596803 / Changed  (\"file2.txt\",   Some     \"22222222222222222222222222222222222\n",
      "160 / 638449922823596963 / Changed  (\"file2.txt\",   Some     \"22222222222222222222222222222222222\n",
      "213 / 638449922823597176 / Changed  (\"file2.txt\",   Some     \"22222222222222222222222222222222222\n",
      "166 / 638449922823597342 / Changed  (\"file2.txt\",   Some     \"22222222222222222222222222222222222\n",
      "166 / 638449922823597508 / Changed  (\"file2.txt\",   Some     \"22222222222222222222222222222222222\n",
      "673 / 638449922823598181 / Changed  (\"file2.txt\",   Some     \"22222222222222222222222222222222222\n",
      "59 / 638449922823598240 / Changed  (\"file2.txt\",   Some     \"222222222222222222222222222222222222\n",
      "212 / 638449922823598452 / Changed  (\"file2.txt\",   Some     \"22222222222222222222222222222222222\n",
      "309 / 638449922823598761 / Changed  (\"file2.txt\",   Some     \"22222222222222222222222222222222222\n",
      "922 / 638449922823599683 / Changed  (\"file2.txt\",   Some     \"22222222222222222222222222222222222\n",
      "58 / 638449922823599741 / Changed  (\"file2.txt\",   Some     \"222222222222222222222222222222222222\n",
      "169 / 638449922823599910 / Changed  (\"file2.txt\",   Some     \"22222222222222222222222222222222222\n",
      "216 / 638449922823600126 / Changed  (\"file2.txt\",   Some     \"22222222222222222222222222222222222\n",
      "196 / 638449922823600322 / Changed  (\"file2.txt\",   Some     \"22222222222222222222222222222222222\n",
      "167 / 638449922823600489 / Changed  (\"file2.txt\",   Some     \"22222222222222222222222222222222222\n",
      "145 / 638449922823600634 / Changed  (\"file2.txt\",   Some     \"22222222222222222222222222222222222\n",
      "168 / 638449922823600802 / Changed  (\"file2.txt\",   Some     \"22222222222222222222222222222222222\n",
      "732 / 638449922823601534 / Changed  (\"file2.txt\",   Some     \"22222222222222222222222222222222222\n",
      "180 / 638449922823601714 / Changed  (\"file2.txt\",   Some     \"22222222222222222222222222222222222\n",
      "155 / 638449922823601869 / Changed  (\"file2.txt\",   Some     \"22222222222222222222222222222222222\n",
      "186 / 638449922823602055 / Changed  (\"file2.txt\",   Some     \"22222222222222222222222222222222222\n",
      "690 / 638449922823602745 / Changed  (\"file2.txt\",   Some     \"22222222222222222222222222222222222\n",
      "138 / 638449922823602883 / Changed  (\"file2.txt\",   Some     \"22222222222222222222222222222222222\n",
      "670 / 638449922823603553 / Changed  (\"file2.txt\",   Some     \"22222222222222222222222222222222222\n",
      "60 / 638449922823603613 / Changed  (\"file2.txt\",   Some     \"222222222222222222222222222222222222\n",
      "189 / 638449922823603802 / Changed  (\"file2.txt\",   Some     \"22222222222222222222222222222222222\n",
      "173 / 638449922823603975 / Changed  (\"file2.txt\",   Some     \"22222222222222222222222222222222222\n",
      "166 / 638449922823604141 / Changed  (\"file2.txt\",   Some     \"22222222222222222222222222222222222\n",
      "181 / 638449922823604322 / Changed  (\"file2.txt\",   Some     \"22222222222222222222222222222222222\n",
      "191 / 638449922823604513 / Changed  (\"file2.txt\",   Some     \"22222222222222222222222222222222222\n",
      "161 / 638449922823604674 / Changed  (\"file2.txt\",   Some     \"22222222222222222222222222222222222\n",
      "168 / 638449922823604842 / Changed  (\"file2.txt\",   Some     \"22222222222222222222222222222222222\n",
      "184 / 638449922823605026 / Changed  (\"file2.txt\",   Some     \"22222222222222222222222222222222222\n",
      "240 / 638449922823605266 / Changed  (\"file2.txt\",   Some     \"22222222222222222222222222222222222\n",
      "217 / 638449922823605483 / Changed  (\"file2.txt\",   Some     \"22222222222222222222222222222222222\n",
      "163 / 638449922823605646 / Changed  (\"file2.txt\",   Some     \"22222222222222222222222222222222222\n",
      "168 / 638449922823605814 / Changed  (\"file2.txt\",   Some     \"22222222222222222222222222222222222\n",
      "185 / 638449922823605999 / Changed  (\"file2.txt\",   Some     \"22222222222222222222222222222222222\n",
      "164 / 638449922823606163 / Changed  (\"file2.txt\",   Some     \"22222222222222222222222222222222222\n",
      "174 / 638449922823606337 / Changed  (\"file2.txt\",   Some     \"22222222222222222222222222222222222\n",
      "133 / 638449922823606470 / Changed  (\"file2.txt\",   Some     \"22222222222222222222222222222222222\n",
      "15058525 / 638449922838664995 / Changed  (\"file1.txt\",   Some     \"111111111111111111111111111111\n",
      "299 / 638449922838665294 / Changed  (\"file1.txt\",   Some     \"11111111111111111111111111111111111\n",
      "1494 / 638449922838666788 / Changed  (\"file1.txt\",   Some     \"1111111111111111111111111111111111\n",
      "1700 / 638449922838668488 / Changed  (\"file1.txt\",   Some     \"1111111111111111111111111111111111\n",
      "369 / 638449922838668857 / Changed  (\"file1.txt\",   Some     \"11111111111111111111111111111111111\n",
      "237 / 638449922838669094 / Changed  (\"file1.txt\",   Some     \"11111111111111111111111111111111111\n",
      "221 / 638449922838669315 / Changed  (\"file1.txt\",   Some     \"11111111111111111111111111111111111\n",
      "215 / 638449922838669530 / Changed  (\"file1.txt\",   Some     \"11111111111111111111111111111111111\n",
      "213 / 638449922838669743 / Changed  (\"file1.txt\",   Some     \"11111111111111111111111111111111111\n",
      "206 / 638449922838669949 / Changed  (\"file1.txt\",   Some     \"11111111111111111111111111111111111\n",
      "235 / 638449922838670184 / Changed  (\"file1.txt\",   Some     \"11111111111111111111111111111111111\n",
      "225 / 638449922838670409 / Changed  (\"file1.txt\",   Some     \"11111111111111111111111111111111111\n",
      "473 / 638449922838670882 / Changed  (\"file1.txt\",   Some     \"11111111111111111111111111111111111\n",
      "183 / 638449922838671065 / Changed  (\"file1.txt\",   Some     \"11111111111111111111111111111111111\n",
      "243 / 638449922838671308 / Changed  (\"file1.txt\",   Some     \"11111111111111111111111111111111111\n",
      "172 / 638449922838671480 / Changed  (\"file1.txt\",   Some     \"11111111111111111111111111111111111\n",
      "213 / 638449922838671693 / Changed  (\"file1.txt\",   Some     \"11111111111111111111111111111111111\n",
      "580 / 638449922838672273 / Changed  (\"file1.txt\",   Some     \"11111111111111111111111111111111111\n",
      "30 / 638449922838672303 / Changed  (\"file1.txt\",   Some     \"111111111111111111111111111111111111\n",
      "217 / 638449922838672520 / Changed  (\"file1.txt\",   Some     \"11111111111111111111111111111111111\n",
      "176 / 638449922838672696 / Changed  (\"file1.txt\",   Some     \"11111111111111111111111111111111111\n",
      "400 / 638449922838673096 / Changed  (\"file1.txt\",   Some     \"11111111111111111111111111111111111\n",
      "44 / 638449922838673140 / Changed  (\"file1.txt\",   Some     \"111111111111111111111111111111111111\n",
      "261 / 638449922838673401 / Changed  (\"file1.txt\",   Some     \"11111111111111111111111111111111111\n",
      "336 / 638449922838673737 / Changed  (\"file1.txt\",   Some     \"11111111111111111111111111111111111\n",
      "57 / 638449922838673794 / Changed  (\"file1.txt\",   Some     \"111111111111111111111111111111111111\n",
      "245 / 638449922838674039 / Changed  (\"file1.txt\",   Some     \"11111111111111111111111111111111111\n",
      "179 / 638449922838674218 / Changed  (\"file1.txt\",   Some     \"11111111111111111111111111111111111\n",
      "227 / 638449922838674445 / Changed  (\"file1.txt\",   Some     \"11111111111111111111111111111111111\n",
      "407 / 638449922838674852 / Changed  (\"file1.txt\",   Some     \"11111111111111111111111111111111111\n",
      "171 / 638449922838675023 / Changed  (\"file1.txt\",   Some     \"11111111111111111111111111111111111\n",
      "132 / 638449922838675155 / Changed  (\"file1.txt\",   Some     \"11111111111111111111111111111111111\n",
      "231 / 638449922838675386 / Changed  (\"file1.txt\",   Some     \"11111111111111111111111111111111111\n",
      "215 / 638449922838675601 / Changed  (\"file1.txt\",   Some     \"11111111111111111111111111111111111\n",
      "114 / 638449922838675715 / Changed  (\"file1.txt\",   Some     \"11111111111111111111111111111111111\n",
      "213 / 638449922838675928 / Changed  (\"file1.txt\",   Some     \"11111111111111111111111111111111111\n",
      "47 / 638449922838675975 / Changed  (\"file1.txt\",   Some     \"111111111111111111111111111111111111\n",
      "279 / 638449922838676254 / Changed  (\"file1.txt\",   Some     \"11111111111111111111111111111111111\n",
      "317 / 638449922838676571 / Changed  (\"file1.txt\",   Some     \"11111111111111111111111111111111111\n",
      "251 / 638449922838676822 / Changed  (\"file1.txt\",   Some     \"11111111111111111111111111111111111\n",
      "508 / 638449922838677330 / Changed  (\"file1.txt\",   Some     \"11111111111111111111111111111111111\n",
      "79 / 638449922838677409 / Changed  (\"file1.txt\",   Some     \"111111111111111111111111111111111111\n",
      "211 / 638449922838677620 / Changed  (\"file1.txt\",   Some     \"11111111111111111111111111111111111\n",
      "208 / 638449922838677828 / Changed  (\"file1.txt\",   Some     \"11111111111111111111111111111111111\n",
      "206 / 638449922838678034 / Changed  (\"file1.txt\",   Some     \"11111111111111111111111111111111111\n",
      "172 / 638449922838678206 / Changed  (\"file1.txt\",   Some     \"11111111111111111111111111111111111\n",
      "100 / 638449922838678306 / Changed  (\"file1.txt\",   Some     \"11111111111111111111111111111111111\n",
      "233 / 638449922838678539 / Changed  (\"file1.txt\",   Some     \"11111111111111111111111111111111111\n",
      "189 / 638449922838678728 / Changed  (\"file1.txt\",   Some     \"11111111111111111111111111111111111\n",
      "281 / 638449922838679009 / Changed  (\"file1.txt\",   Some     \"11111111111111111111111111111111111\n",
      "326 / 638449922838679335 / Changed  (\"file1.txt\",   Some     \"11111111111111111111111111111111111\n",
      "246 / 638449922838679581 / Changed  (\"file1.txt\",   Some     \"11111111111111111111111111111111111\n",
      "44 / 638449922838679625 / Changed  (\"file1.txt\",   Some     \"111111111111111111111111111111111111\n",
      "263 / 638449922838679888 / Changed  (\"file1.txt\",   Some     \"11111111111111111111111111111111111\n",
      "103 / 638449922838679991 / Changed  (\"file1.txt\",   Some     \"11111111111111111111111111111111111\n",
      "370 / 638449922838680361 / Changed  (\"file1.txt\",   Some     \"11111111111111111111111111111111111\n",
      "280 / 638449922838680641 / Changed  (\"file1.txt\",   Some     \"11111111111111111111111111111111111\n",
      "274 / 638449922838680915 / Changed  (\"file1.txt\",   Some     \"11111111111111111111111111111111111\n",
      "274 / 638449922838681189 / Changed  (\"file1.txt\",   Some     \"11111111111111111111111111111111111\n",
      "214 / 638449922838681403 / Changed  (\"file1.txt\",   Some     \"11111111111111111111111111111111111\n",
      "46 / 638449922838681449 / Changed  (\"file1.txt\",   Some     \"111111111111111111111111111111111111\n",
      "266 / 638449922838681715 / Changed  (\"file1.txt\",   Some     \"11111111111111111111111111111111111\n",
      "113 / 638449922838681828 / Changed  (\"file1.txt\",   Some     \"11111111111111111111111111111111111\n",
      "233 / 638449922838682061 / Changed  (\"file1.txt\",   Some     \"11111111111111111111111111111111111\n",
      "212 / 638449922838682273 / Changed  (\"file1.txt\",   Some     \"11111111111111111111111111111111111\n",
      "122 / 638449922838682395 / Changed  (\"file1.txt\",   Some     \"11111111111111111111111111111111111\n",
      "232 / 638449922838682627 / Changed  (\"file1.txt\",   Some     \"11111111111111111111111111111111111\n",
      "203 / 638449922838682830 / Changed  (\"file1.txt\",   Some     \"11111111111111111111111111111111111\n",
      "98 / 638449922838682928 / Changed  (\"file1.txt\",   Some     \"111111111111111111111111111111111111\n",
      "240 / 638449922838683168 / Changed  (\"file1.txt\",   Some     \"11111111111111111111111111111111111\n",
      "108 / 638449922838683276 / Changed  (\"file1.txt\",   Some     \"11111111111111111111111111111111111\n",
      "204 / 638449922838683480 / Changed  (\"file1.txt\",   Some     \"11111111111111111111111111111111111\n",
      "210 / 638449922838683690 / Changed  (\"file1.txt\",   Some     \"11111111111111111111111111111111111\n",
      "255 / 638449922838683945 / Changed  (\"file1.txt\",   Some     \"11111111111111111111111111111111111\n",
      "238 / 638449922838684183 / Changed  (\"file1.txt\",   Some     \"11111111111111111111111111111111111\n",
      "218 / 638449922838684401 / Changed  (\"file1.txt\",   Some     \"11111111111111111111111111111111111\n",
      "134 / 638449922838684535 / Changed  (\"file1.txt\",   Some     \"11111111111111111111111111111111111\n",
      "221 / 638449922838684756 / Changed  (\"file1.txt\",   Some     \"11111111111111111111111111111111111\n",
      "97 / 638449922838684853 / Changed  (\"file1.txt\",   Some     \"111111111111111111111111111111111111\n",
      "193 / 638449922838685046 / Changed  (\"file1.txt\",   Some     \"11111111111111111111111111111111111\n",
      "184 / 638449922838685230 / Changed  (\"file1.txt\",   Some     \"11111111111111111111111111111111111\n",
      "167 / 638449922838685397 / Changed  (\"file1.txt\",   Some     \"11111111111111111111111111111111111\n",
      "193 / 638449922838685590 / Changed  (\"file1.txt\",   Some     \"11111111111111111111111111111111111\n",
      "199 / 638449922838685789 / Changed  (\"file1.txt\",   Some     \"11111111111111111111111111111111111\n",
      "180 / 638449922838685969 / Changed  (\"file1.txt\",   Some     \"11111111111111111111111111111111111\n",
      "198 / 638449922838686167 / Changed  (\"file1.txt\",   Some     \"11111111111111111111111111111111111\n",
      "178 / 638449922838686345 / Changed  (\"file1.txt\",   Some     \"11111111111111111111111111111111111\n",
      "199 / 638449922838686544 / Changed  (\"file1.txt\",   Some     \"11111111111111111111111111111111111\n",
      "180 / 638449922838686724 / Changed  (\"file1.txt\",   Some     \"11111111111111111111111111111111111\n",
      "206 / 638449922838686930 / Changed  (\"file1.txt\",   Some     \"11111111111111111111111111111111111\n",
      "278 / 638449922838687208 / Changed  (\"file1.txt\",   Some     \"11111111111111111111111111111111111\n",
      "216 / 638449922838687424 / Changed  (\"file1.txt\",   Some     \"11111111111111111111111111111111111\n",
      "203 / 638449922838687627 / Changed  (\"file1.txt\",   Some     \"11111111111111111111111111111111111\n",
      "227 / 638449922838687854 / Changed  (\"file1.txt\",   Some     \"11111111111111111111111111111111111\n",
      "234 / 638449922838688088 / Changed  (\"file1.txt\",   Some     \"11111111111111111111111111111111111\n",
      "270 / 638449922838688358 / Changed  (\"file1.txt\",   Some     \"11111111111111111111111111111111111\n",
      "224 / 638449922838688582 / Changed  (\"file1.txt\",   Some     \"11111111111111111111111111111111111\n",
      "101 / 638449922838688683 / Changed  (\"file1.txt\",   Some     \"11111111111111111111111111111111111\n",
      "214 / 638449922838688897 / Changed  (\"file1.txt\",   Some     \"11111111111111111111111111111111111\n",
      "183 / 638449922838689080 / Changed  (\"file1.txt\",   Some     \"11111111111111111111111111111111111\n",
      "204 / 638449922838689284 / Changed  (\"file1.txt\",   Some     \"11111111111111111111111111111111111\n",
      "204 / 638449922838689488 / Changed  (\"file1.txt\",   Some     \"11111111111111111111111111111111111\n",
      "116 / 638449922838689604 / Changed  (\"file1.txt\",   Some     \"11111111111111111111111111111111111\n",
      "281 / 638449922838689885 / Changed  (\"file1.txt\",   Some     \"11111111111111111111111111111111111\n",
      "242 / 638449922838690127 / Changed  (\"file1.txt\",   Some     \"11111111111111111111111111111111111\n",
      "105 / 638449922838690232 / Changed  (\"file1.txt\",   Some     \"11111111111111111111111111111111111\n",
      "198 / 638449922838690430 / Changed  (\"file1.txt\",   Some     \"11111111111111111111111111111111111\n",
      "171 / 638449922838690601 / Changed  (\"file1.txt\",   Some     \"11111111111111111111111111111111111\n",
      "191 / 638449922838690792 / Changed  (\"file1.txt\",   Some     \"11111111111111111111111111111111111\n",
      "207 / 638449922838690999 / Changed  (\"file1.txt\",   Some     \"11111111111111111111111111111111111\n",
      "107 / 638449922838691106 / Changed  (\"file1.txt\",   Some     \"11111111111111111111111111111111111\n",
      "210 / 638449922838691316 / Changed  (\"file1.txt\",   Some     \"11111111111111111111111111111111111\n",
      "179 / 638449922838691495 / Changed  (\"file1.txt\",   Some     \"11111111111111111111111111111111111\n",
      "268 / 638449922838691763 / Changed  (\"file1.txt\",   Some     \"11111111111111111111111111111111111\n",
      "251 / 638449922838692014 / Changed  (\"file1.txt\",   Some     \"11111111111111111111111111111111111\n",
      "208 / 638449922838692222 / Changed  (\"file1.txt\",   Some     \"11111111111111111111111111111111111\n",
      "125 / 638449922838692347 / Changed  (\"file1.txt\",   Some     \"11111111111111111111111111111111111\n",
      "199 / 638449922838692546 / Changed  (\"file1.txt\",   Some     \"11111111111111111111111111111111111\n",
      "182 / 638449922838692728 / Changed  (\"file1.txt\",   Some     \"11111111111111111111111111111111111\n",
      "179 / 638449922838692907 / Changed  (\"file1.txt\",   Some     \"11111111111111111111111111111111111\n",
      "113 / 638449922838693020 / Changed  (\"file1.txt\",   Some     \"11111111111111111111111111111111111\n",
      "204 / 638449922838693224 / Changed  (\"file1.txt\",   Some     \"11111111111111111111111111111111111\n",
      "40 / 638449922838693264 / Changed  (\"file1.txt\",   Some     \"111111111111111111111111111111111111\n",
      "38217 / 638449922838731481 / Changed  (\"file2.txt\",   Some     \"222222222222222222222222222222222\n",
      "246 / 638449922838731727 / Changed  (\"file2.txt\",   Some     \"22222222222222222222222222222222222\n",
      "567 / 638449922838732294 / Changed  (\"file2.txt\",   Some     \"22222222222222222222222222222222222\n",
      "273 / 638449922838732567 / Changed  (\"file2.txt\",   Some     \"22222222222222222222222222222222222\n",
      "227 / 638449922838732794 / Changed  (\"file2.txt\",   Some     \"22222222222222222222222222222222222\n",
      "246 / 638449922838733040 / Changed  (\"file2.txt\",   Some     \"22222222222222222222222222222222222\n",
      "167 / 638449922838733207 / Changed  (\"file2.txt\",   Some     \"22222222222222222222222222222222222\n",
      "167 / 638449922838733374 / Changed  (\"file2.txt\",   Some     \"22222222222222222222222222222222222\n",
      "159 / 638449922838733533 / Changed  (\"file2.txt\",   Some     \"22222222222222222222222222222222222\n",
      "167 / 638449922838733700 / Changed  (\"file2.txt\",   Some     \"22222222222222222222222222222222222\n",
      "185 / 638449922838733885 / Changed  (\"file2.txt\",   Some     \"22222222222222222222222222222222222\n",
      "170 / 638449922838734055 / Changed  (\"file2.txt\",   Some     \"22222222222222222222222222222222222\n",
      "210 / 638449922838734265 / Changed  (\"file2.txt\",   Some     \"22222222222222222222222222222222222\n",
      "233 / 638449922838734498 / Changed  (\"file2.txt\",   Some     \"22222222222222222222222222222222222\n",
      "29 / 638449922838734527 / Changed  (\"file2.txt\",   Some     \"222222222222222222222222222222222222\n",
      "203 / 638449922838734730 / Changed  (\"file2.txt\",   Some     \"22222222222222222222222222222222222\n",
      "163 / 638449922838734893 / Changed  (\"file2.txt\",   Some     \"22222222222222222222222222222222222\n",
      "162 / 638449922838735055 / Changed  (\"file2.txt\",   Some     \"22222222222222222222222222222222222\n",
      "168 / 638449922838735223 / Changed  (\"file2.txt\",   Some     \"22222222222222222222222222222222222\n",
      "172 / 638449922838735395 / Changed  (\"file2.txt\",   Some     \"22222222222222222222222222222222222\n",
      "206 / 638449922838735601 / Changed  (\"file2.txt\",   Some     \"22222222222222222222222222222222222\n",
      "160 / 638449922838735761 / Changed  (\"file2.txt\",   Some     \"22222222222222222222222222222222222\n",
      "196 / 638449922838735957 / Changed  (\"file2.txt\",   Some     \"22222222222222222222222222222222222\n",
      "190 / 638449922838736147 / Changed  (\"file2.txt\",   Some     \"22222222222222222222222222222222222\n",
      "198 / 638449922838736345 / Changed  (\"file2.txt\",   Some     \"22222222222222222222222222222222222\n",
      "197 / 638449922838736542 / Changed  (\"file2.txt\",   Some     \"22222222222222222222222222222222222\n",
      "208 / 638449922838736750 / Changed  (\"file2.txt\",   Some     \"22222222222222222222222222222222222\n",
      "178 / 638449922838736928 / Changed  (\"file2.txt\",   Some     \"22222222222222222222222222222222222\n",
      "162 / 638449922838737090 / Changed  (\"file2.txt\",   Some     \"22222222222222222222222222222222222\n",
      "197 / 638449922838737287 / Changed  (\"file2.txt\",   Some     \"22222222222222222222222222222222222\n",
      "171 / 638449922838737458 / Changed  (\"file2.txt\",   Some     \"22222222222222222222222222222222222\n",
      "190 / 638449922838737648 / Changed  (\"file2.txt\",   Some     \"22222222222222222222222222222222222\n",
      "167 / 638449922838737815 / Changed  (\"file2.txt\",   Some     \"22222222222222222222222222222222222\n",
      "235 / 638449922838738050 / Changed  (\"file2.txt\",   Some     \"22222222222222222222222222222222222\n",
      "223 / 638449922838738273 / Changed  (\"file2.txt\",   Some     \"22222222222222222222222222222222222\n",
      "193 / 638449922838738466 / Changed  (\"file2.txt\",   Some     \"22222222222222222222222222222222222\n",
      "198 / 638449922838738664 / Changed  (\"file2.txt\",   Some     \"22222222222222222222222222222222222\n",
      "168 / 638449922838738832 / Changed  (\"file2.txt\",   Some     \"22222222222222222222222222222222222\n",
      "176 / 638449922838739008 / Changed  (\"file2.txt\",   Some     \"22222222222222222222222222222222222\n",
      "193 / 638449922838739201 / Changed  (\"file2.txt\",   Some     \"22222222222222222222222222222222222\n",
      "200 / 638449922838739401 / Changed  (\"file2.txt\",   Some     \"22222222222222222222222222222222222\n",
      "173 / 638449922838739574 / Changed  (\"file2.txt\",   Some     \"22222222222222222222222222222222222\n",
      "179 / 638449922838739753 / Changed  (\"file2.txt\",   Some     \"22222222222222222222222222222222222\n",
      "182 / 638449922838739935 / Changed  (\"file2.txt\",   Some     \"22222222222222222222222222222222222\n",
      "204 / 638449922838740139 / Changed  (\"file2.txt\",   Some     \"22222222222222222222222222222222222\n",
      "211 / 638449922838740350 / Changed  (\"file2.txt\",   Some     \"22222222222222222222222222222222222\n",
      "181 / 638449922838740531 / Changed  (\"file2.txt\",   Some     \"22222222222222222222222222222222222\n",
      "199 / 638449922838740730 / Changed  (\"file2.txt\",   Some     \"22222222222222222222222222222222222\n",
      "172 / 638449922838740902 / Changed  (\"file2.txt\",   Some     \"22222222222222222222222222222222222\n",
      "173 / 638449922838741075 / Changed  (\"file2.txt\",   Some     \"22222222222222222222222222222222222\n",
      "174 / 638449922838741249 / Changed  (\"file2.txt\",   Some     \"22222222222222222222222222222222222\n",
      "179 / 638449922838741428 / Changed  (\"file2.txt\",   Some     \"22222222222222222222222222222222222\n",
      "180 / 638449922838741608 / Changed  (\"file2.txt\",   Some     \"22222222222222222222222222222222222\n",
      "188 / 638449922838741796 / Changed  (\"file2.txt\",   Some     \"22222222222222222222222222222222222\n",
      "190 / 638449922838741986 / Changed  (\"file2.txt\",   Some     \"22222222222222222222222222222222222\n",
      "170 / 638449922838742156 / Changed  (\"file2.txt\",   Some     \"22222222222222222222222222222222222\n",
      "178 / 638449922838742334 / Changed  (\"file2.txt\",   Some     \"22222222222222222222222222222222222\n",
      "168 / 638449922838742502 / Changed  (\"file2.txt\",   Some     \"22222222222222222222222222222222222\n",
      "169 / 638449922838742671 / Changed  (\"file2.txt\",   Some     \"22222222222222222222222222222222222\n",
      "168 / 638449922838742839 / Changed  (\"file2.txt\",   Some     \"22222222222222222222222222222222222\n",
      "194 / 638449922838743033 / Changed  (\"file2.txt\",   Some     \"22222222222222222222222222222222222\n",
      "200 / 638449922838743233 / Changed  (\"file2.txt\",   Some     \"22222222222222222222222222222222222\n",
      "215 / 638449922838743448 / Changed  (\"file2.txt\",   Some     \"22222222222222222222222222222222222\n",
      "413 / 638449922838743861 / Changed  (\"file2.txt\",   Some     \"22222222222222222222222222222222222\n",
      "222 / 638449922838744083 / Changed  (\"file2.txt\",   Some     \"22222222222222222222222222222222222\n",
      "213 / 638449922838744296 / Changed  (\"file2.txt\",   Some     \"22222222222222222222222222222222222\n",
      "229 / 638449922838744525 / Changed  (\"file2.txt\",   Some     \"22222222222222222222222222222222222\n",
      "172 / 638449922838744697 / Changed  (\"file2.txt\",   Some     \"22222222222222222222222222222222222\n",
      "190 / 638449922838744887 / Changed  (\"file2.txt\",   Some     \"22222222222222222222222222222222222\n",
      "192 / 638449922838745079 / Changed  (\"file2.txt\",   Some     \"22222222222222222222222222222222222\n",
      "283 / 638449922838745362 / Changed  (\"file2.txt\",   Some     \"22222222222222222222222222222222222\n",
      "226 / 638449922838745588 / Changed  (\"file2.txt\",   Some     \"22222222222222222222222222222222222\n",
      "204 / 638449922838745792 / Changed  (\"file2.txt\",   Some     \"22222222222222222222222222222222222\n",
      "182 / 638449922838745974 / Changed  (\"file2.txt\",   Some     \"22222222222222222222222222222222222\n",
      "196 / 638449922838746170 / Changed  (\"file2.txt\",   Some     \"22222222222222222222222222222222222\n",
      "232 / 638449922838746402 / Changed  (\"file2.txt\",   Some     \"22222222222222222222222222222222222\n",
      "40 / 638449922838746442 / Changed  (\"file2.txt\",   Some     \"222222222222222222222222222222222222\n",
      "233 / 638449922838746675 / Changed  (\"file2.txt\",   Some     \"22222222222222222222222222222222222\n",
      "152 / 638449922838746827 / Changed  (\"file2.txt\",   Some     \"22222222222222222222222222222222222\n",
      "187 / 638449922838747014 / Changed  (\"file2.txt\",   Some     \"22222222222222222222222222222222222\n",
      "215 / 638449922838747229 / Changed  (\"file2.txt\",   Some     \"22222222222222222222222222222222222\n",
      "203 / 638449922838747432 / Changed  (\"file2.txt\",   Some     \"22222222222222222222222222222222222\n",
      "198 / 638449922838747630 / Changed  (\"file2.txt\",   Some     \"22222222222222222222222222222222222\n",
      "236 / 638449922838747866 / Changed  (\"file2.txt\",   Some     \"22222222222222222222222222222222222\n",
      "207 / 638449922838748073 / Changed  (\"file2.txt\",   Some     \"22222222222222222222222222222222222\n",
      "199 / 638449922838748272 / Changed  (\"file2.txt\",   Some     \"22222222222222222222222222222222222\n",
      "201 / 638449922838748473 / Changed  (\"file2.txt\",   Some     \"22222222222222222222222222222222222\n",
      "212 / 638449922838748685 / Changed  (\"file2.txt\",   Some     \"22222222222222222222222222222222222\n",
      "214 / 638449922838748899 / Changed  (\"file2.txt\",   Some     \"22222222222222222222222222222222222\n",
      "214 / 638449922838749113 / Changed  (\"file2.txt\",   Some     \"22222222222222222222222222222222222\n",
      "227 / 638449922838749340 / Changed  (\"file2.txt\",   Some     \"22222222222222222222222222222222222\n",
      "210 / 638449922838749550 / Changed  (\"file2.txt\",   Some     \"22222222222222222222222222222222222\n",
      "196 / 638449922838749746 / Changed  (\"file2.txt\",   Some     \"22222222222222222222222222222222222\n",
      "205 / 638449922838749951 / Changed  (\"file2.txt\",   Some     \"22222222222222222222222222222222222\n",
      "218 / 638449922838750169 / Changed  (\"file2.txt\",   Some     \"22222222222222222222222222222222222\n",
      "210 / 638449922838750379 / Changed  (\"file2.txt\",   Some     \"22222222222222222222222222222222222\n",
      "196 / 638449922838750575 / Changed  (\"file2.txt\",   Some     \"22222222222222222222222222222222222\n",
      "225 / 638449922838750800 / Changed  (\"file2.txt\",   Some     \"22222222222222222222222222222222222\n",
      "237 / 638449922838751037 / Changed  (\"file2.txt\",   Some     \"22222222222222222222222222222222222\n",
      "201 / 638449922838751238 / Changed  (\"file2.txt\",   Some     \"22222222222222222222222222222222222\n",
      "209 / 638449922838751447 / Changed  (\"file2.txt\",   Some     \"22222222222222222222222222222222222\n",
      "212 / 638449922838751659 / Changed  (\"file2.txt\",   Some     \"22222222222222222222222222222222222\n",
      "193 / 638449922838751852 / Changed  (\"file2.txt\",   Some     \"22222222222222222222222222222222222\n",
      "221 / 638449922838752073 / Changed  (\"file2.txt\",   Some     \"22222222222222222222222222222222222\n",
      "198 / 638449922838752271 / Changed  (\"file2.txt\",   Some     \"22222222222222222222222222222222222\n",
      "226 / 638449922838752497 / Changed  (\"file2.txt\",   Some     \"22222222222222222222222222222222222\n",
      "197 / 638449922838752694 / Changed  (\"file2.txt\",   Some     \"22222222222222222222222222222222222\n",
      "216 / 638449922838752910 / Changed  (\"file2.txt\",   Some     \"22222222222222222222222222222222222\n",
      "225 / 638449922838753135 / Changed  (\"file2.txt\",   Some     \"22222222222222222222222222222222222\n",
      "206 / 638449922838753341 / Changed  (\"file2.txt\",   Some     \"22222222222222222222222222222222222\n",
      "196 / 638449922838753537 / Changed  (\"file2.txt\",   Some     \"22222222222222222222222222222222222\n",
      "209 / 638449922838753746 / Changed  (\"file2.txt\",   Some     \"22222222222222222222222222222222222\n",
      "201 / 638449922838753947 / Changed  (\"file2.txt\",   Some     \"22222222222222222222222222222222222\n",
      "233 / 638449922838754180 / Changed  (\"file2.txt\",   Some     \"22222222222222222222222222222222222\n",
      "198 / 638449922838754378 / Changed  (\"file2.txt\",   Some     \"22222222222222222222222222222222222\n",
      "220 / 638449922838754598 / Changed  (\"file2.txt\",   Some     \"22222222222222222222222222222222222\n",
      "219 / 638449922838754817 / Changed  (\"file2.txt\",   Some     \"22222222222222222222222222222222222\n",
      "210 / 638449922838755027 / Changed  (\"file2.txt\",   Some     \"22222222222222222222222222222222222\n",
      "195 / 638449922838755222 / Changed  (\"file2.txt\",   Some     \"22222222222222222222222222222222222\n",
      "205 / 638449922838755427 / Changed  (\"file2.txt\",   Some     \"22222222222222222222222222222222222\n",
      "258 / 638449922838755685 / Changed  (\"file2.txt\",   Some     \"22222222222222222222222222222222222\n",
      "207 / 638449922838755892 / Changed  (\"file2.txt\",   Some     \"22222222222222222222222222222222222\n",
      "218 / 638449922838756110 / Changed  (\"file2.txt\",   Some     \"22222222222222222222222222222222222\n",
      "130 / 638449922838756240 / Changed  (\"file2.txt\",   Some     \"22222222222222222222222222222222222\n",
      "15074015 / 638449922853830255 / Renamed  (\"file1.txt\",   (\"file_1.txt\",    Some      \"1111111111\n",
      "308 / 638449922853830563 / Renamed  (\"file2.txt\",   (\"file_2.txt\",    Some      \"222222222222222\n",
      "15050228 / 638449922868880791 / Changed  (\"file_1.txt\",   Some     \"11111111111111111111111111111\n",
      "842 / 638449922868881633 / Changed  (\"file_1.txt\",   Some     \"1111111111111111111111111111111111\n",
      "458 / 638449922868882091 / Changed  (\"file_1.txt\",   Some     \"1111111111111111111111111111111111\n",
      "407 / 638449922868882498 / Changed  (\"file_1.txt\",   Some     \"1111111111111111111111111111111111\n",
      "2570 / 638449922868885068 / Changed  (\"file_1.txt\",   Some     \"111111111111111111111111111111111\n",
      "91 / 638449922868885159 / Changed  (\"file_1.txt\",   Some     \"11111111111111111111111111111111111\n",
      "380 / 638449922868885539 / Changed  (\"file_1.txt\",   Some     \"1111111111111111111111111111111111\n",
      "58 / 638449922868885597 / Changed  (\"file_1.txt\",   Some     \"11111111111111111111111111111111111\n",
      "167 / 638449922868885764 / Changed  (\"file_1.txt\",   Some     \"1111111111111111111111111111111111\n",
      "199 / 638449922868885963 / Changed  (\"file_1.txt\",   Some     \"1111111111111111111111111111111111\n",
      "167 / 638449922868886130 / Changed  (\"file_1.txt\",   Some     \"1111111111111111111111111111111111\n",
      "256 / 638449922868886386 / Changed  (\"file_1.txt\",   Some     \"1111111111111111111111111111111111\n",
      "161 / 638449922868886547 / Changed  (\"file_1.txt\",   Some     \"1111111111111111111111111111111111\n",
      "223 / 638449922868886770 / Changed  (\"file_1.txt\",   Some     \"1111111111111111111111111111111111\n",
      "35 / 638449922868886805 / Changed  (\"file_1.txt\",   Some     \"11111111111111111111111111111111111\n",
      "211 / 638449922868887016 / Changed  (\"file_1.txt\",   Some     \"1111111111111111111111111111111111\n",
      "325 / 638449922868887341 / Changed  (\"file_1.txt\",   Some     \"1111111111111111111111111111111111\n",
      "381 / 638449922868887722 / Changed  (\"file_1.txt\",   Some     \"1111111111111111111111111111111111\n",
      "257 / 638449922868887979 / Changed  (\"file_1.txt\",   Some     \"1111111111111111111111111111111111\n",
      "181 / 638449922868888160 / Changed  (\"file_1.txt\",   Some     \"1111111111111111111111111111111111\n",
      "133 / 638449922868888293 / Changed  (\"file_1.txt\",   Some     \"1111111111111111111111111111111111\n",
      "244 / 638449922868888537 / Changed  (\"file_1.txt\",   Some     \"1111111111111111111111111111111111\n",
      "212 / 638449922868888749 / Changed  (\"file_1.txt\",   Some     \"1111111111111111111111111111111111\n",
      "128 / 638449922868888877 / Changed  (\"file_1.txt\",   Some     \"1111111111111111111111111111111111\n",
      "253 / 638449922868889130 / Changed  (\"file_1.txt\",   Some     \"1111111111111111111111111111111111\n",
      "138 / 638449922868889268 / Changed  (\"file_1.txt\",   Some     \"1111111111111111111111111111111111\n",
      "109 / 638449922868889377 / Changed  (\"file_1.txt\",   Some     \"1111111111111111111111111111111111\n",
      "210 / 638449922868889587 / Changed  (\"file_1.txt\",   Some     \"1111111111111111111111111111111111\n",
      "319 / 638449922868889906 / Changed  (\"file_1.txt\",   Some     \"1111111111111111111111111111111111\n",
      "300 / 638449922868890206 / Changed  (\"file_1.txt\",   Some     \"1111111111111111111111111111111111\n",
      "192 / 638449922868890398 / Changed  (\"file_1.txt\",   Some     \"1111111111111111111111111111111111\n",
      "178 / 638449922868890576 / Changed  (\"file_1.txt\",   Some     \"1111111111111111111111111111111111\n",
      "152 / 638449922868890728 / Changed  (\"file_1.txt\",   Some     \"1111111111111111111111111111111111\n",
      "185 / 638449922868890913 / Changed  (\"file_1.txt\",   Some     \"1111111111111111111111111111111111\n",
      "196 / 638449922868891109 / Changed  (\"file_1.txt\",   Some     \"1111111111111111111111111111111111\n",
      "119 / 638449922868891228 / Changed  (\"file_1.txt\",   Some     \"1111111111111111111111111111111111\n",
      "182 / 638449922868891410 / Changed  (\"file_1.txt\",   Some     \"1111111111111111111111111111111111\n",
      "176 / 638449922868891586 / Changed  (\"file_1.txt\",   Some     \"1111111111111111111111111111111111\n",
      "221 / 638449922868891807 / Changed  (\"file_1.txt\",   Some     \"1111111111111111111111111111111111\n",
      "136 / 638449922868891943 / Changed  (\"file_1.txt\",   Some     \"1111111111111111111111111111111111\n",
      "165 / 638449922868892108 / Changed  (\"file_1.txt\",   Some     \"1111111111111111111111111111111111\n",
      "198 / 638449922868892306 / Changed  (\"file_1.txt\",   Some     \"1111111111111111111111111111111111\n",
      "176 / 638449922868892482 / Changed  (\"file_1.txt\",   Some     \"1111111111111111111111111111111111\n",
      "167 / 638449922868892649 / Changed  (\"file_1.txt\",   Some     \"1111111111111111111111111111111111\n",
      "158 / 638449922868892807 / Changed  (\"file_1.txt\",   Some     \"1111111111111111111111111111111111\n",
      "209 / 638449922868893016 / Changed  (\"file_1.txt\",   Some     \"1111111111111111111111111111111111\n",
      "211 / 638449922868893227 / Changed  (\"file_1.txt\",   Some     \"1111111111111111111111111111111111\n",
      "185 / 638449922868893412 / Changed  (\"file_1.txt\",   Some     \"1111111111111111111111111111111111\n",
      "172 / 638449922868893584 / Changed  (\"file_1.txt\",   Some     \"1111111111111111111111111111111111\n",
      "207 / 638449922868893791 / Changed  (\"file_1.txt\",   Some     \"1111111111111111111111111111111111\n",
      "183 / 638449922868893974 / Changed  (\"file_1.txt\",   Some     \"1111111111111111111111111111111111\n",
      "176 / 638449922868894150 / Changed  (\"file_1.txt\",   Some     \"1111111111111111111111111111111111\n",
      "177 / 638449922868894327 / Changed  (\"file_1.txt\",   Some     \"1111111111111111111111111111111111\n",
      "229 / 638449922868894556 / Changed  (\"file_1.txt\",   Some     \"1111111111111111111111111111111111\n",
      "167 / 638449922868894723 / Changed  (\"file_1.txt\",   Some     \"1111111111111111111111111111111111\n",
      "160 / 638449922868894883 / Changed  (\"file_1.txt\",   Some     \"1111111111111111111111111111111111\n",
      "162 / 638449922868895045 / Changed  (\"file_1.txt\",   Some     \"1111111111111111111111111111111111\n",
      "163 / 638449922868895208 / Changed  (\"file_1.txt\",   Some     \"1111111111111111111111111111111111\n",
      "154 / 638449922868895362 / Changed  (\"file_1.txt\",   Some     \"1111111111111111111111111111111111\n",
      "163 / 638449922868895525 / Changed  (\"file_1.txt\",   Some     \"1111111111111111111111111111111111\n",
      "191 / 638449922868895716 / Changed  (\"file_1.txt\",   Some     \"1111111111111111111111111111111111\n",
      "159 / 638449922868895875 / Changed  (\"file_1.txt\",   Some     \"1111111111111111111111111111111111\n",
      "179 / 638449922868896054 / Changed  (\"file_1.txt\",   Some     \"1111111111111111111111111111111111\n",
      "180 / 638449922868896234 / Changed  (\"file_1.txt\",   Some     \"1111111111111111111111111111111111\n",
      "224 / 638449922868896458 / Changed  (\"file_1.txt\",   Some     \"1111111111111111111111111111111111\n",
      "176 / 638449922868896634 / Changed  (\"file_1.txt\",   Some     \"1111111111111111111111111111111111\n",
      "175 / 638449922868896809 / Changed  (\"file_1.txt\",   Some     \"1111111111111111111111111111111111\n",
      "189 / 638449922868896998 / Changed  (\"file_1.txt\",   Some     \"1111111111111111111111111111111111\n",
      "227 / 638449922868897225 / Changed  (\"file_1.txt\",   Some     \"1111111111111111111111111111111111\n",
      "178 / 638449922868897403 / Changed  (\"file_1.txt\",   Some     \"1111111111111111111111111111111111\n",
      "183 / 638449922868897586 / Changed  (\"file_1.txt\",   Some     \"1111111111111111111111111111111111\n",
      "197 / 638449922868897783 / Changed  (\"file_1.txt\",   Some     \"1111111111111111111111111111111111\n",
      "180 / 638449922868897963 / Changed  (\"file_1.txt\",   Some     \"1111111111111111111111111111111111\n",
      "155 / 638449922868898118 / Changed  (\"file_1.txt\",   Some     \"1111111111111111111111111111111111\n",
      "167 / 638449922868898285 / Changed  (\"file_1.txt\",   Some     \"1111111111111111111111111111111111\n",
      "207 / 638449922868898492 / Changed  (\"file_1.txt\",   Some     \"1111111111111111111111111111111111\n",
      "190 / 638449922868898682 / Changed  (\"file_1.txt\",   Some     \"1111111111111111111111111111111111\n",
      "214 / 638449922868898896 / Changed  (\"file_1.txt\",   Some     \"1111111111111111111111111111111111\n",
      "161 / 638449922868899057 / Changed  (\"file_1.txt\",   Some     \"1111111111111111111111111111111111\n",
      "171 / 638449922868899228 / Changed  (\"file_1.txt\",   Some     \"1111111111111111111111111111111111\n",
      "189 / 638449922868899417 / Changed  (\"file_1.txt\",   Some     \"1111111111111111111111111111111111\n",
      "210 / 638449922868899627 / Changed  (\"file_1.txt\",   Some     \"1111111111111111111111111111111111\n",
      "178 / 638449922868899805 / Changed  (\"file_1.txt\",   Some     \"1111111111111111111111111111111111\n",
      "193 / 638449922868899998 / Changed  (\"file_1.txt\",   Some     \"1111111111111111111111111111111111\n",
      "195 / 638449922868900193 / Changed  (\"file_1.txt\",   Some     \"1111111111111111111111111111111111\n",
      "185 / 638449922868900378 / Changed  (\"file_1.txt\",   Some     \"1111111111111111111111111111111111\n",
      "161 / 638449922868900539 / Changed  (\"file_1.txt\",   Some     \"1111111111111111111111111111111111\n",
      "161 / 638449922868900700 / Changed  (\"file_1.txt\",   Some     \"1111111111111111111111111111111111\n",
      "177 / 638449922868900877 / Changed  (\"file_1.txt\",   Some     \"1111111111111111111111111111111111\n",
      "156 / 638449922868901033 / Changed  (\"file_1.txt\",   Some     \"1111111111111111111111111111111111\n",
      "200 / 638449922868901233 / Changed  (\"file_1.txt\",   Some     \"1111111111111111111111111111111111\n",
      "168 / 638449922868901401 / Changed  (\"file_1.txt\",   Some     \"1111111111111111111111111111111111\n",
      "164 / 638449922868901565 / Changed  (\"file_1.txt\",   Some     \"1111111111111111111111111111111111\n",
      "176 / 638449922868901741 / Changed  (\"file_1.txt\",   Some     \"1111111111111111111111111111111111\n",
      "193 / 638449922868901934 / Changed  (\"file_1.txt\",   Some     \"1111111111111111111111111111111111\n",
      "490 / 638449922868902424 / Changed  (\"file_1.txt\",   Some     \"1111111111111111111111111111111111\n",
      "209 / 638449922868902633 / Changed  (\"file_1.txt\",   Some     \"1111111111111111111111111111111111\n",
      "201 / 638449922868902834 / Changed  (\"file_1.txt\",   Some     \"1111111111111111111111111111111111\n",
      "202 / 638449922868903036 / Changed  (\"file_1.txt\",   Some     \"1111111111111111111111111111111111\n",
      "201 / 638449922868903237 / Changed  (\"file_1.txt\",   Some     \"1111111111111111111111111111111111\n",
      "207 / 638449922868903444 / Changed  (\"file_1.txt\",   Some     \"1111111111111111111111111111111111\n",
      "644 / 638449922868904088 / Changed  (\"file_1.txt\",   Some     \"1111111111111111111111111111111111\n",
      "175 / 638449922868904263 / Changed  (\"file_1.txt\",   Some     \"1111111111111111111111111111111111\n",
      "161 / 638449922868904424 / Changed  (\"file_1.txt\",   Some     \"1111111111111111111111111111111111\n",
      "209 / 638449922868904633 / Changed  (\"file_1.txt\",   Some     \"1111111111111111111111111111111111\n",
      "208 / 638449922868904841 / Changed  (\"file_1.txt\",   Some     \"1111111111111111111111111111111111\n",
      "199 / 638449922868905040 / Changed  (\"file_1.txt\",   Some     \"1111111111111111111111111111111111\n",
      "176 / 638449922868905216 / Changed  (\"file_1.txt\",   Some     \"1111111111111111111111111111111111\n",
      "183 / 638449922868905399 / Changed  (\"file_1.txt\",   Some     \"1111111111111111111111111111111111\n",
      "196 / 638449922868905595 / Changed  (\"file_1.txt\",   Some     \"1111111111111111111111111111111111\n",
      "180 / 638449922868905775 / Changed  (\"file_1.txt\",   Some     \"1111111111111111111111111111111111\n",
      "160 / 638449922868905935 / Changed  (\"file_1.txt\",   Some     \"1111111111111111111111111111111111\n",
      "191 / 638449922868906126 / Changed  (\"file_1.txt\",   Some     \"1111111111111111111111111111111111\n",
      "163 / 638449922868906289 / Changed  (\"file_1.txt\",   Some     \"1111111111111111111111111111111111\n",
      "186 / 638449922868906475 / Changed  (\"file_1.txt\",   Some     \"1111111111111111111111111111111111\n",
      "157 / 638449922868906632 / Changed  (\"file_1.txt\",   Some     \"1111111111111111111111111111111111\n",
      "165 / 638449922868906797 / Changed  (\"file_1.txt\",   Some     \"1111111111111111111111111111111111\n",
      "163 / 638449922868906960 / Changed  (\"file_1.txt\",   Some     \"1111111111111111111111111111111111\n",
      "175 / 638449922868907135 / Changed  (\"file_1.txt\",   Some     \"1111111111111111111111111111111111\n",
      "184 / 638449922868907319 / Changed  (\"file_1.txt\",   Some     \"1111111111111111111111111111111111\n",
      "159 / 638449922868907478 / Changed  (\"file_1.txt\",   Some     \"1111111111111111111111111111111111\n",
      "135 / 638449922868907613 / Changed  (\"file_1.txt\",   Some     \"1111111111111111111111111111111111\n",
      "36507 / 638449922868944120 / Changed  (\"file_2.txt\",   Some     \"22222222222222222222222222222222\n",
      "169 / 638449922868944289 / Changed  (\"file_2.txt\",   Some     \"2222222222222222222222222222222222\n",
      "563 / 638449922868944852 / Changed  (\"file_2.txt\",   Some     \"2222222222222222222222222222222222\n",
      "245 / 638449922868945097 / Changed  (\"file_2.txt\",   Some     \"2222222222222222222222222222222222\n",
      "227 / 638449922868945324 / Changed  (\"file_2.txt\",   Some     \"2222222222222222222222222222222222\n",
      "179 / 638449922868945503 / Changed  (\"file_2.txt\",   Some     \"2222222222222222222222222222222222\n",
      "148 / 638449922868945651 / Changed  (\"file_2.txt\",   Some     \"2222222222222222222222222222222222\n",
      "197 / 638449922868945848 / Changed  (\"file_2.txt\",   Some     \"2222222222222222222222222222222222\n",
      "257 / 638449922868946105 / Changed  (\"file_2.txt\",   Some     \"2222222222222222222222222222222222\n",
      "274 / 638449922868946379 / Changed  (\"file_2.txt\",   Some     \"2222222222222222222222222222222222\n",
      "214 / 638449922868946593 / Changed  (\"file_2.txt\",   Some     \"2222222222222222222222222222222222\n",
      "192 / 638449922868946785 / Changed  (\"file_2.txt\",   Some     \"2222222222222222222222222222222222\n",
      "197 / 638449922868946982 / Changed  (\"file_2.txt\",   Some     \"2222222222222222222222222222222222\n",
      "209 / 638449922868947191 / Changed  (\"file_2.txt\",   Some     \"2222222222222222222222222222222222\n",
      "175 / 638449922868947366 / Changed  (\"file_2.txt\",   Some     \"2222222222222222222222222222222222\n",
      "217 / 638449922868947583 / Changed  (\"file_2.txt\",   Some     \"2222222222222222222222222222222222\n",
      "215 / 638449922868947798 / Changed  (\"file_2.txt\",   Some     \"2222222222222222222222222222222222\n",
      "165 / 638449922868947963 / Changed  (\"file_2.txt\",   Some     \"2222222222222222222222222222222222\n",
      "162 / 638449922868948125 / Changed  (\"file_2.txt\",   Some     \"2222222222222222222222222222222222\n",
      "156 / 638449922868948281 / Changed  (\"file_2.txt\",   Some     \"2222222222222222222222222222222222\n",
      "157 / 638449922868948438 / Changed  (\"file_2.txt\",   Some     \"2222222222222222222222222222222222\n",
      "165 / 638449922868948603 / Changed  (\"file_2.txt\",   Some     \"2222222222222222222222222222222222\n",
      "176 / 638449922868948779 / Changed  (\"file_2.txt\",   Some     \"2222222222222222222222222222222222\n",
      "156 / 638449922868948935 / Changed  (\"file_2.txt\",   Some     \"2222222222222222222222222222222222\n",
      "169 / 638449922868949104 / Changed  (\"file_2.txt\",   Some     \"2222222222222222222222222222222222\n",
      "152 / 638449922868949256 / Changed  (\"file_2.txt\",   Some     \"2222222222222222222222222222222222\n",
      "167 / 638449922868949423 / Changed  (\"file_2.txt\",   Some     \"2222222222222222222222222222222222\n",
      "173 / 638449922868949596 / Changed  (\"file_2.txt\",   Some     \"2222222222222222222222222222222222\n",
      "156 / 638449922868949752 / Changed  (\"file_2.txt\",   Some     \"2222222222222222222222222222222222\n",
      "202 / 638449922868949954 / Changed  (\"file_2.txt\",   Some     \"2222222222222222222222222222222222\n",
      "222 / 638449922868950176 / Changed  (\"file_2.txt\",   Some     \"2222222222222222222222222222222222\n",
      "183 / 638449922868950359 / Changed  (\"file_2.txt\",   Some     \"2222222222222222222222222222222222\n",
      "152 / 638449922868950511 / Changed  (\"file_2.txt\",   Some     \"2222222222222222222222222222222222\n",
      "164 / 638449922868950675 / Changed  (\"file_2.txt\",   Some     \"2222222222222222222222222222222222\n",
      "219 / 638449922868950894 / Changed  (\"file_2.txt\",   Some     \"2222222222222222222222222222222222\n",
      "201 / 638449922868951095 / Changed  (\"file_2.txt\",   Some     \"2222222222222222222222222222222222\n",
      "118458 / 638449922869069553 / Changed  (\"file_2.txt\",   Some     \"2222222222222222222222222222222\n",
      "198 / 638449922869069751 / Changed  (\"file_2.txt\",   Some     \"2222222222222222222222222222222222\n",
      "14994120 / 638449922884063871 / Deleted \"file_1.txt\"\n",
      "3550 / 638449922884067421 / Deleted \"file_2.txt\"\n",
      "FSharpList<FileSystemChange>\n",
      "      - path: file1.txt\n",
      "        content: FSharpOption<String>\n",
      "          Value: 1a\n",
      "        IsFailure: False\n",
      "        IsChanged: False\n",
      "        IsCreated: True\n",
      "        IsDeleted: False\n",
      "        IsRenamed: False\n",
      "      - path: file1.txt\n",
      "        content: FSharpOption<String>\n",
      "          Value: 1a\n",
      "        IsFailure: False\n",
      "        IsChanged: True\n",
      "        IsCreated: False\n",
      "        IsDeleted: False\n",
      "        IsRenamed: False\n",
      "      - path: file2.txt\n",
      "        content: FSharpOption<String>\n",
      "          Value: 2a\n",
      "        IsFailure: False\n",
      "        IsChanged: False\n",
      "        IsCreated: True\n",
      "        IsDeleted: False\n",
      "        IsRenamed: False\n",
      "      - path: file2.txt\n",
      "        content: FSharpOption<String>\n",
      "          Value: 2a\n",
      "        IsFailure: False\n",
      "        IsChanged: True\n",
      "        IsCreated: False\n",
      "        IsDeleted: False\n",
      "        IsRenamed: False\n",
      "      - path: file1.txt\n",
      "        content: FSharpOption<String>\n",
      "          Value: 1b\n",
      "        IsFailure: False\n",
      "        IsChanged: True\n",
      "        IsCreated: False\n",
      "        IsDeleted: False\n",
      "        IsRenamed: False\n",
      "      - path: file2.txt\n",
      "        content: FSharpOption<String>\n",
      "          Value: 2b\n",
      "        IsFailure: False\n",
      "        IsChanged: True\n",
      "        IsCreated: False\n",
      "        IsDeleted: False\n",
      "        IsRenamed: False\n",
      "      - oldPath: file1.txt\n",
      "        Item2:         - file_1.txt\n",
      "        - FSharpOption<String>\n",
      "            Value: 1b\n",
      "      - IsFailure: False\n",
      "        IsChanged: False\n",
      "        IsCreated: False\n",
      "        IsDeleted: False\n",
      "        IsRenamed: True\n",
      "      - oldPath: file2.txt\n",
      "        Item2:         - file_2.txt\n",
      "        - FSharpOption<String>\n",
      "            Value: 2b\n",
      "      - IsFailure: False\n",
      "        IsChanged: False\n",
      "        IsCreated: False\n",
      "        IsDeleted: False\n",
      "        IsRenamed: True\n",
      "      - path: file_1.txt\n",
      "        content: FSharpOption<String>\n",
      "          Value: 1c\n",
      "        IsFailure: False\n",
      "        IsChanged: True\n",
      "        IsCreated: False\n",
      "        IsDeleted: False\n",
      "        IsRenamed: False\n",
      "      - path: file_2.txt\n",
      "        content: FSharpOption<String>\n",
      "          Value: 2c\n",
      "        IsFailure: False\n",
      "        IsChanged: True\n",
      "        IsCreated: False\n",
      "        IsDeleted: False\n",
      "        IsRenamed: False\n",
      "      - path: file_1.txt\n",
      "        IsFailure: False\n",
      "        IsChanged: False\n",
      "        IsCreated: False\n",
      "        IsDeleted: True\n",
      "        IsRenamed: False\n",
      "      - path: file_2.txt\n",
      "        IsFailure: False\n",
      "        IsChanged: False\n",
      "        IsCreated: False\n",
      "        IsDeleted: True\n",
      "        IsRenamed: False\n",
      "FSharpOption<Unit>\n",
      "      Value: <null>\n"
     ]
    }
   ],
   "source": [
    "//// test\n",
    "\n",
    "let inline write path = async {\n",
    "    let n = 2\n",
    "\n",
    "    let contents =\n",
    "        [ 1 .. n ]\n",
    "        |> List.map (string >> String.replicate 1_000_000)\n",
    "\n",
    "    for i = 1 to n do\n",
    "        do! $\"{contents.[i - 1]}a\" |> writeAllTextAsync (path </> $\"file{i}.txt\")\n",
    "\n",
    "    do! Async.Sleep 1500\n",
    "\n",
    "    for i = 1 to n do\n",
    "        do! $\"{contents.[i - 1]}b\" |> writeAllTextAsync (path </> $\"file{i}.txt\")\n",
    "\n",
    "    do! Async.Sleep 1500\n",
    "\n",
    "    for i = 1 to n do\n",
    "        do! path </> $\"file{i}.txt\" |> moveFileAsync (path </> $\"file_{i}.txt\") |> Async.Ignore\n",
    "\n",
    "    do! Async.Sleep 1500\n",
    "\n",
    "    for i = 1 to n do\n",
    "        do! $\"{contents.[i - 1]}c\" |> writeAllTextAsync (path </> $\"file_{i}.txt\")\n",
    "\n",
    "    do! Async.Sleep 1500\n",
    "\n",
    "    for i = 1 to n do\n",
    "        do! deleteFileAsync (path </> $\"file_{i}.txt\") |> Async.Ignore\n",
    "\n",
    "    do! Async.Sleep 1500\n",
    "}\n",
    "\n",
    "let inline run () =\n",
    "    let events =\n",
    "        testEventsRaw watchDirectory write\n",
    "        |> List.map (function\n",
    "            | FileSystemChange.Changed (path, Some content) ->\n",
    "                FileSystemChange.Changed (path, content |> Seq.distinct |> Seq.map string |> String.concat \"\" |> Some)\n",
    "            | FileSystemChange.Created (path, Some content) ->\n",
    "                FileSystemChange.Created (path, content |> Seq.distinct |> Seq.map string |> String.concat \"\" |> Some)\n",
    "            | FileSystemChange.Renamed (oldPath, (newPath, Some content)) ->\n",
    "                FileSystemChange.Renamed (\n",
    "                    oldPath,\n",
    "                    (newPath, content |> Seq.distinct |> Seq.map string |> String.concat \"\" |> Some)\n",
    "                )\n",
    "            | event -> event\n",
    "        )\n",
    "\n",
    "    events\n",
    "    |> _sequenceEqual [\n",
    "        FileSystemChange.Created (\"file1.txt\", Some \"1a\")\n",
    "        FileSystemChange.Changed (\"file1.txt\", Some \"1a\")\n",
    "        FileSystemChange.Created (\"file2.txt\", Some \"2a\")\n",
    "        FileSystemChange.Changed (\"file2.txt\", Some \"2a\")\n",
    "\n",
    "        FileSystemChange.Changed (\"file1.txt\", Some \"1b\")\n",
    "        FileSystemChange.Changed (\"file2.txt\", Some \"2b\")\n",
    "\n",
    "        FileSystemChange.Renamed (\"file1.txt\", (\"file_1.txt\", Some \"1b\"))\n",
    "        FileSystemChange.Renamed (\"file2.txt\", (\"file_2.txt\", Some \"2b\"))\n",
    "\n",
    "        FileSystemChange.Changed (\"file_1.txt\", Some \"1c\")\n",
    "        FileSystemChange.Changed (\"file_2.txt\", Some \"2c\")\n",
    "\n",
    "        FileSystemChange.Deleted \"file_1.txt\"\n",
    "        FileSystemChange.Deleted \"file_2.txt\"\n",
    "    ]\n",
    "\n",
    "run\n",
    "|> retryFn 5\n",
    "|> _equal (Some ())"
   ]
  },
  {
   "cell_type": "markdown",
   "metadata": {},
   "source": [
    "### testEventsSorted (test)"
   ]
  },
  {
   "cell_type": "code",
   "execution_count": null,
   "metadata": {
    "dotnet_interactive": {
     "language": "fsharp"
    },
    "polyglot_notebook": {
     "kernelName": "fsharp"
    }
   },
   "outputs": [],
   "source": [
    "//// test\n",
    "\n",
    "let inline sortEvent event =\n",
    "    match event with\n",
    "    | FileSystemChange.Failure _ -> 0\n",
    "    | FileSystemChange.Created _ -> 1\n",
    "    | FileSystemChange.Changed _ -> 2\n",
    "    | FileSystemChange.Renamed (_oldPath, _) -> 3\n",
    "    | FileSystemChange.Deleted _ -> 4\n",
    "\n",
    "let inline formatEvents events =\n",
    "    events\n",
    "    |> Seq.toList\n",
    "    |> List.sortBy (snd >> sortEvent)\n",
    "    |> List.choose (fun (ticks, event) ->\n",
    "        match event with\n",
    "        | FileSystemChange.Failure _ ->\n",
    "            None\n",
    "        | FileSystemChange.Changed (path, _) ->\n",
    "            Some (ticks, System.IO.Path.GetFileName path, nameof FileSystemChangeType.Changed)\n",
    "        | FileSystemChange.Created (path, _) ->\n",
    "            Some (ticks, System.IO.Path.GetFileName path, nameof FileSystemChangeType.Created)\n",
    "        | FileSystemChange.Deleted path ->\n",
    "            Some (ticks, System.IO.Path.GetFileName path, nameof FileSystemChangeType.Deleted)\n",
    "        | FileSystemChange.Renamed (_oldPath, (path, _)) ->\n",
    "            Some (ticks, System.IO.Path.GetFileName path, nameof FileSystemChangeType.Renamed)\n",
    "    )\n",
    "    |> List.sortBy (fun (_, path, _) -> path)\n",
    "    |> List.distinctBy (fun (_, path, event) -> path, event)\n",
    "\n",
    "let inline testEventsSorted\n",
    "    (watchFn : string -> FSharp.Control.AsyncSeq<int64 * FileSystemChange> * IDisposable)\n",
    "    write\n",
    "    =\n",
    "    let path = createTempDirectory ()\n",
    "    let stream, disposable = watchFn path\n",
    "\n",
    "    let events = System.Collections.Concurrent.ConcurrentBag ()\n",
    "\n",
    "    let inline iter () =\n",
    "        stream\n",
    "        |> FSharp.Control.AsyncSeq.iterAsyncParallel (fun event -> async { events.Add event })\n",
    "\n",
    "    let run = async {\n",
    "        let! _ = iter () |> Async.StartChild\n",
    "        do! Async.Sleep 250\n",
    "        return! write path\n",
    "    }\n",
    "\n",
    "    try\n",
    "        run\n",
    "        |> Async.runWithTimeout 5000\n",
    "        |> _equal (Some ())\n",
    "    finally\n",
    "        disposable.Dispose ()\n",
    "        deleteDirectoryAsync path |> Async.Ignore |> Async.RunSynchronously\n",
    "\n",
    "    let events = formatEvents events\n",
    "\n",
    "    let eventMap =\n",
    "        events\n",
    "        |> List.map (fun (ticks, path, event) -> path, (event, ticks))\n",
    "        |> List.groupBy fst\n",
    "        |> List.map (fun (path, events) ->\n",
    "            let event, _ticks =\n",
    "                events\n",
    "                |> List.map snd\n",
    "                |> List.sortByDescending snd\n",
    "                |> List.head\n",
    "\n",
    "            path, event\n",
    "        )\n",
    "        |> Map.ofList\n",
    "\n",
    "    let eventList =\n",
    "        events\n",
    "        |> List.map (fun (_ticks, path, event) -> path, event)\n",
    "\n",
    "    eventMap, eventList"
   ]
  },
  {
   "cell_type": "markdown",
   "metadata": {},
   "source": [
    "#### create and delete (test)"
   ]
  },
  {
   "cell_type": "code",
   "execution_count": null,
   "metadata": {
    "dotnet_interactive": {
     "language": "fsharp"
    },
    "polyglot_notebook": {
     "kernelName": "fsharp"
    }
   },
   "outputs": [
    {
     "name": "stdout",
     "output_type": "stream",
     "text": [
      "FSharpOption<Unit>\n",
      "      Value: <null>\n",
      "00:00:28 #51 [Debug] watchWithFilter / Disposing watch stream / filter: FileName, LastWrite\n",
      "FSharpList<Tuple<String,String>>\n",
      "( file1.txt, Created )\n",
      "( file1.txt, Changed )\n",
      "( file1.txt, Deleted )\n",
      "( file2.txt, Created )\n",
      "( file2.txt, Changed )\n",
      "( file2.txt, Deleted )\n",
      "( file3.txt, Created )\n",
      "( file3.txt, Changed )\n",
      "( file3.txt, Deleted )\n",
      "FSharpMap<String,String>\n",
      "      - Key: file1.txt\n",
      "        Value: Deleted\n",
      "      - Key: file2.txt\n",
      "        Value: Deleted\n",
      "      - Key: file3.txt\n",
      "        Value: Deleted\n",
      "FSharpOption<Unit>\n",
      "      Value: <null>\n"
     ]
    }
   ],
   "source": [
    "//// test\n",
    "\n",
    "let inline write path = async {\n",
    "    let n = 3\n",
    "\n",
    "    for i = 1 to n do\n",
    "        do! $\"{i}\" |> writeAllTextAsync (path </> $\"file{i}.txt\")\n",
    "\n",
    "    for i = 1 to n do\n",
    "        do! deleteFileAsync (path </> $\"file{i}.txt\") |> Async.Ignore\n",
    "\n",
    "    do! Async.Sleep 150\n",
    "}\n",
    "\n",
    "let inline run () =\n",
    "    let eventMap, eventList = testEventsSorted (watchDirectory (fun _ -> false)) write\n",
    "\n",
    "    [\n",
    "        \"file1.txt\", nameof FileSystemChangeType.Created\n",
    "        \"file1.txt\", nameof FileSystemChangeType.Changed\n",
    "        \"file1.txt\", nameof FileSystemChangeType.Deleted\n",
    "\n",
    "        \"file2.txt\", nameof FileSystemChangeType.Created\n",
    "        \"file2.txt\", nameof FileSystemChangeType.Changed\n",
    "        \"file2.txt\", nameof FileSystemChangeType.Deleted\n",
    "\n",
    "        \"file3.txt\", nameof FileSystemChangeType.Created\n",
    "        \"file3.txt\", nameof FileSystemChangeType.Changed\n",
    "        \"file3.txt\", nameof FileSystemChangeType.Deleted\n",
    "    ]\n",
    "    |> _sequenceEqual eventList\n",
    "\n",
    "    [\n",
    "        \"file1.txt\", nameof FileSystemChangeType.Deleted\n",
    "        \"file2.txt\", nameof FileSystemChangeType.Deleted\n",
    "        \"file3.txt\", nameof FileSystemChangeType.Deleted\n",
    "    ]\n",
    "    |> Map.ofList\n",
    "    |> _sequenceEqual eventMap\n",
    "\n",
    "run\n",
    "|> retryFn 3\n",
    "|> _equal (Some ())"
   ]
  },
  {
   "cell_type": "markdown",
   "metadata": {},
   "source": [
    "#### change (test)"
   ]
  },
  {
   "cell_type": "code",
   "execution_count": null,
   "metadata": {
    "dotnet_interactive": {
     "language": "fsharp"
    },
    "polyglot_notebook": {
     "kernelName": "fsharp"
    }
   },
   "outputs": [
    {
     "name": "stdout",
     "output_type": "stream",
     "text": [
      "FSharpOption<Unit>\n",
      "      Value: <null>\n",
      "00:00:31 #52 [Debug] watchWithFilter / Disposing watch stream / filter: FileName, LastWrite\n",
      "FSharpList<Tuple<String,String>>\n",
      "( file1.txt, Created )\n",
      "( file1.txt, Changed )\n",
      "( file1.txt, Deleted )\n",
      "( file2.txt, Created )\n",
      "( file2.txt, Changed )\n",
      "( file2.txt, Deleted )\n",
      "FSharpMap<String,String>\n",
      "      - Key: file1.txt\n",
      "        Value: Deleted\n",
      "      - Key: file2.txt\n",
      "        Value: Deleted\n",
      "FSharpOption<Unit>\n",
      "      Value: <null>\n"
     ]
    }
   ],
   "source": [
    "//// test\n",
    "\n",
    "let inline write path = async {\n",
    "    let n = 2\n",
    "\n",
    "    for i = 1 to n do\n",
    "        do! $\"{i}\" |> writeAllTextAsync (path </> $\"file{i}.txt\")\n",
    "\n",
    "    for i = 1 to n do\n",
    "        do! \"\" |> writeAllTextAsync (path </> $\"file{i}.txt\")\n",
    "\n",
    "    for i = 1 to n do\n",
    "        do! deleteFileAsync (path </> $\"file{i}.txt\") |> Async.Ignore\n",
    "\n",
    "    do! Async.Sleep 150\n",
    "}\n",
    "\n",
    "let inline run () =\n",
    "    let eventMap, eventList = testEventsSorted (watchDirectory (fun _ -> false)) write\n",
    "\n",
    "    [\n",
    "        \"file1.txt\", nameof FileSystemChangeType.Created\n",
    "        \"file1.txt\", nameof FileSystemChangeType.Changed\n",
    "        \"file1.txt\", nameof FileSystemChangeType.Deleted\n",
    "\n",
    "        \"file2.txt\", nameof FileSystemChangeType.Created\n",
    "        \"file2.txt\", nameof FileSystemChangeType.Changed\n",
    "        \"file2.txt\", nameof FileSystemChangeType.Deleted\n",
    "    ]\n",
    "    |> _sequenceEqual eventList\n",
    "\n",
    "    [\n",
    "        \"file1.txt\", nameof FileSystemChangeType.Deleted\n",
    "        \"file2.txt\", nameof FileSystemChangeType.Deleted\n",
    "    ]\n",
    "    |> Map.ofList\n",
    "    |> _sequenceEqual eventMap\n",
    "\n",
    "run\n",
    "|> retryFn 3\n",
    "|> _equal (Some ())"
   ]
  },
  {
   "cell_type": "markdown",
   "metadata": {},
   "source": [
    "#### rename (test)"
   ]
  },
  {
   "cell_type": "code",
   "execution_count": null,
   "metadata": {
    "dotnet_interactive": {
     "language": "fsharp"
    },
    "polyglot_notebook": {
     "kernelName": "fsharp"
    }
   },
   "outputs": [
    {
     "name": "stdout",
     "output_type": "stream",
     "text": [
      "FSharpOption<Unit>\n",
      "      Value: <null>\n",
      "00:00:33 #53 [Debug] watchWithFilter / Disposing watch stream / filter: FileName, LastWrite\n",
      "FSharpList<Tuple<String,String>>\n",
      "( file1.txt, Created )\n",
      "( file1.txt, Changed )\n",
      "( file2.txt, Created )\n",
      "( file2.txt, Changed )\n",
      "( file_1.txt, Renamed )\n",
      "( file_1.txt, Deleted )\n",
      "( file_2.txt, Renamed )\n",
      "( file_2.txt, Deleted )\n",
      "FSharpMap<String,String>\n",
      "      - Key: file1.txt\n",
      "        Value: Changed\n",
      "      - Key: file2.txt\n",
      "        Value: Changed\n",
      "      - Key: file_1.txt\n",
      "        Value: Deleted\n",
      "      - Key: file_2.txt\n",
      "        Value: Deleted\n",
      "FSharpOption<Unit>\n",
      "      Value: <null>\n"
     ]
    }
   ],
   "source": [
    "//// test\n",
    "\n",
    "let inline write path = async {\n",
    "    let n = 2\n",
    "\n",
    "    for i = 1 to n do\n",
    "        do! $\"{i}\" |> writeAllTextAsync (path </> $\"file{i}.txt\")\n",
    "\n",
    "    for i = 1 to n do\n",
    "        do! path </> $\"file{i}.txt\" |> moveFileAsync (path </> $\"file_{i}.txt\") |> Async.Ignore\n",
    "\n",
    "    for i = 1 to n do\n",
    "        do! deleteFileAsync (path </> $\"file_{i}.txt\") |> Async.Ignore\n",
    "\n",
    "    do! Async.Sleep 150\n",
    "}\n",
    "\n",
    "let inline run () =\n",
    "    let eventMap, eventList = testEventsSorted (watchDirectory (fun _ -> false)) write\n",
    "\n",
    "    [\n",
    "        \"file1.txt\", nameof FileSystemChangeType.Created\n",
    "        \"file1.txt\", nameof FileSystemChangeType.Changed\n",
    "        \"file2.txt\", nameof FileSystemChangeType.Created\n",
    "        \"file2.txt\", nameof FileSystemChangeType.Changed\n",
    "\n",
    "        \"file_1.txt\", nameof FileSystemChangeType.Renamed\n",
    "        \"file_1.txt\", nameof FileSystemChangeType.Deleted\n",
    "\n",
    "        \"file_2.txt\", nameof FileSystemChangeType.Renamed\n",
    "        \"file_2.txt\", nameof FileSystemChangeType.Deleted\n",
    "    ]\n",
    "    |> _sequenceEqual eventList\n",
    "\n",
    "    [\n",
    "        \"file1.txt\", nameof FileSystemChangeType.Changed\n",
    "        \"file2.txt\", nameof FileSystemChangeType.Changed\n",
    "        \"file_1.txt\", nameof FileSystemChangeType.Deleted\n",
    "        \"file_2.txt\", nameof FileSystemChangeType.Deleted\n",
    "    ]\n",
    "    |> Map.ofList\n",
    "    |> _sequenceEqual eventMap\n",
    "\n",
    "run\n",
    "|> retryFn 3\n",
    "|> _equal (Some ())"
   ]
  },
  {
   "cell_type": "markdown",
   "metadata": {},
   "source": [
    "#### full (test)"
   ]
  },
  {
   "cell_type": "code",
   "execution_count": null,
   "metadata": {
    "dotnet_interactive": {
     "language": "fsharp"
    },
    "polyglot_notebook": {
     "kernelName": "fsharp"
    }
   },
   "outputs": [
    {
     "name": "stdout",
     "output_type": "stream",
     "text": [
      "FSharpOption<Unit>\n",
      "      Value: <null>\n",
      "00:00:37 #54 [Debug] watchWithFilter / Disposing watch stream / filter: FileName, LastWrite\n",
      "FSharpList<Tuple<String,String>>\n",
      "( file1.txt, Created )\n",
      "( file1.txt, Changed )\n",
      "( file2.txt, Created )\n",
      "( file2.txt, Changed )\n",
      "( file_1.txt, Changed )\n",
      "( file_1.txt, Renamed )\n",
      "( file_1.txt, Deleted )\n",
      "( file_2.txt, Changed )\n",
      "( file_2.txt, Renamed )\n",
      "( file_2.txt, Deleted )\n",
      "FSharpMap<String,String>\n",
      "      - Key: file1.txt\n",
      "        Value: Changed\n",
      "      - Key: file2.txt\n",
      "        Value: Changed\n",
      "      - Key: file_1.txt\n",
      "        Value: Deleted\n",
      "      - Key: file_2.txt\n",
      "        Value: Deleted\n",
      "FSharpOption<Unit>\n",
      "      Value: <null>\n"
     ]
    }
   ],
   "source": [
    "//// test\n",
    "\n",
    "let inline write path = async {\n",
    "    let n = 2\n",
    "\n",
    "    for i = 1 to n do\n",
    "        do! $\"{i}\" |> writeAllTextAsync (path </> $\"file{i}.txt\")\n",
    "\n",
    "    for i = 1 to n do\n",
    "        do! \"\" |> writeAllTextAsync (path </> $\"file{i}.txt\")\n",
    "\n",
    "    for i = 1 to n do\n",
    "        do! path </> $\"file{i}.txt\" |> moveFileAsync (path </> $\"file_{i}.txt\") |> Async.Ignore\n",
    "\n",
    "    for i = 1 to n do\n",
    "        do! $\"{i}\" |> writeAllTextAsync (path </> $\"file_{i}.txt\")\n",
    "\n",
    "    for i = 1 to n do\n",
    "        do! deleteFileAsync (path </> $\"file_{i}.txt\") |> Async.Ignore\n",
    "\n",
    "    do! Async.Sleep 150\n",
    "}\n",
    "\n",
    "let inline run () =\n",
    "    let eventMap, eventList = testEventsSorted (watchDirectory (fun _ -> false)) write\n",
    "\n",
    "    [\n",
    "        \"file1.txt\", nameof FileSystemChangeType.Created\n",
    "        \"file1.txt\", nameof FileSystemChangeType.Changed\n",
    "        \"file2.txt\", nameof FileSystemChangeType.Created\n",
    "        \"file2.txt\", nameof FileSystemChangeType.Changed\n",
    "\n",
    "        \"file_1.txt\", nameof FileSystemChangeType.Changed\n",
    "        \"file_1.txt\", nameof FileSystemChangeType.Renamed\n",
    "        \"file_1.txt\", nameof FileSystemChangeType.Deleted\n",
    "\n",
    "        \"file_2.txt\", nameof FileSystemChangeType.Changed\n",
    "        \"file_2.txt\", nameof FileSystemChangeType.Renamed\n",
    "        \"file_2.txt\", nameof FileSystemChangeType.Deleted\n",
    "    ]\n",
    "    |> _sequenceEqual eventList\n",
    "\n",
    "    [\n",
    "        \"file1.txt\", nameof FileSystemChangeType.Changed\n",
    "        \"file2.txt\", nameof FileSystemChangeType.Changed\n",
    "        \"file_1.txt\", nameof FileSystemChangeType.Deleted\n",
    "        \"file_2.txt\", nameof FileSystemChangeType.Deleted\n",
    "    ]\n",
    "    |> Map.ofList\n",
    "    |> _sequenceEqual eventMap\n",
    "\n",
    "run\n",
    "|> retryFn 3\n",
    "|> _equal (Some ())"
   ]
  }
 ],
 "metadata": {},
 "nbformat": 4,
 "nbformat_minor": 5
}