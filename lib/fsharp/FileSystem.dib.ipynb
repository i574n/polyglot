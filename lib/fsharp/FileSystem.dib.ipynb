{
 "cells": [
  {
   "cell_type": "markdown",
   "metadata": {},
   "source": [
    "# FileSystem (Polyglot)"
   ]
  },
  {
   "cell_type": "code",
   "execution_count": null,
   "metadata": {
    "dotnet_interactive": {
     "language": "fsharp"
    },
    "polyglot_notebook": {
     "kernelName": "fsharp"
    }
   },
   "outputs": [],
   "source": [
    "#!import ../../lib/fsharp/Notebooks.dib\n",
    "#!import ../../lib/fsharp/Testing.dib"
   ]
  },
  {
   "cell_type": "code",
   "execution_count": null,
   "metadata": {
    "dotnet_interactive": {
     "language": "fsharp"
    },
    "polyglot_notebook": {
     "kernelName": "fsharp"
    }
   },
   "outputs": [],
   "source": [
    "#r @\"../../../../../../../.nuget/packages/fsharp.control.asyncseq/3.2.1/lib/netstandard2.1/FSharp.Control.AsyncSeq.dll\"\n",
    "#r @\"../../../../../../../.nuget/packages/system.reactive/6.0.1-preview.1/lib/net6.0/System.Reactive.dll\"\n",
    "#r @\"../../../../../../../.nuget/packages/system.reactive.linq/6.0.1-preview.1/lib/netstandard2.0/System.Reactive.Linq.dll\"\n",
    "#r @\"../../../../../../../.nuget/packages/argu/6.2.2/lib/netstandard2.0/Argu.dll\"\n",
    "#r @\"../../../../../../../.nuget/packages/system.commandline/2.0.0-beta4.22272.1/lib/net6.0/System.CommandLine.dll\""
   ]
  },
  {
   "cell_type": "code",
   "execution_count": null,
   "metadata": {
    "dotnet_interactive": {
     "language": "fsharp"
    },
    "polyglot_notebook": {
     "kernelName": "fsharp"
    }
   },
   "outputs": [],
   "source": [
    "#!import ../../lib/spiral/common.fsx\n",
    "#!import ../../lib/spiral/date_time.fsx\n",
    "#!import ../../lib/spiral/file_system.fsx\n",
    "#!import ../../lib/fsharp/Common.fs\n",
    "#!import ../../lib/fsharp/CommonFSharp.fs\n",
    "#!import ../../lib/fsharp/Async.fs\n",
    "#!import ../../lib/fsharp/AsyncSeq.fs\n",
    "#!import ../../lib/fsharp/Runtime.fs"
   ]
  },
  {
   "cell_type": "code",
   "execution_count": null,
   "metadata": {
    "dotnet_interactive": {
     "language": "fsharp"
    },
    "polyglot_notebook": {
     "kernelName": "fsharp"
    }
   },
   "outputs": [],
   "source": [
    "let File_system = {|\n",
    "    create_temp_directory_name =\n",
    "#if !INTERACTIVE\n",
    "        File_system.create_temp_directory_name\n",
    "#else\n",
    "        create_temp_directory_name\n",
    "#endif\n",
    "|}"
   ]
  },
  {
   "cell_type": "code",
   "execution_count": null,
   "metadata": {
    "dotnet_interactive": {
     "language": "fsharp"
    },
    "polyglot_notebook": {
     "kernelName": "fsharp"
    }
   },
   "outputs": [],
   "source": [
    "open Common"
   ]
  },
  {
   "cell_type": "markdown",
   "metadata": {},
   "source": [
    "## Operators"
   ]
  },
  {
   "cell_type": "code",
   "execution_count": null,
   "metadata": {
    "dotnet_interactive": {
     "language": "fsharp"
    },
    "polyglot_notebook": {
     "kernelName": "fsharp"
    }
   },
   "outputs": [],
   "source": [
    "module Operators =\n",
    "    let inline (</>) a b =\n",
    "        System.IO.Path.Combine (a, b)"
   ]
  },
  {
   "cell_type": "code",
   "execution_count": null,
   "metadata": {
    "dotnet_interactive": {
     "language": "fsharp"
    },
    "polyglot_notebook": {
     "kernelName": "fsharp"
    }
   },
   "outputs": [],
   "source": [
    "open Operators"
   ]
  },
  {
   "cell_type": "markdown",
   "metadata": {},
   "source": [
    "## createTempDirectory"
   ]
  },
  {
   "cell_type": "code",
   "execution_count": null,
   "metadata": {
    "dotnet_interactive": {
     "language": "fsharp"
    },
    "polyglot_notebook": {
     "kernelName": "fsharp"
    }
   },
   "outputs": [],
   "source": [
    "let inline createTempDirectory () =\n",
    "    let tempFolder = File_system.create_temp_directory_name ()\n",
    "    let result = System.IO.Directory.CreateDirectory tempFolder\n",
    "\n",
    "    if not result.Exists then\n",
    "        let getLocals () =\n",
    "            $\"tempFolder: {tempFolder} / result: {({|\n",
    "                Exists = result.Exists\n",
    "                CreationTime = result.CreationTime\n",
    "            |})} {getLocals ()}\"\n",
    "\n",
    "        trace Debug (fun () -> \"createTempDirectory\") getLocals\n",
    "\n",
    "    tempFolder"
   ]
  },
  {
   "cell_type": "code",
   "execution_count": null,
   "metadata": {
    "dotnet_interactive": {
     "language": "fsharp"
    },
    "polyglot_notebook": {
     "kernelName": "fsharp"
    }
   },
   "outputs": [
    {
     "name": "stdout",
     "output_type": "stream",
     "text": [
      "True\n"
     ]
    }
   ],
   "source": [
    "//// test\n",
    "\n",
    "let tempDirectory = createTempDirectory ()\n",
    "\n",
    "Directory.Exists tempDirectory\n",
    "|> _assertEqual true"
   ]
  },
  {
   "cell_type": "markdown",
   "metadata": {},
   "source": [
    "## getSourceDirectory"
   ]
  },
  {
   "cell_type": "code",
   "execution_count": null,
   "metadata": {
    "dotnet_interactive": {
     "language": "fsharp"
    },
    "polyglot_notebook": {
     "kernelName": "fsharp"
    }
   },
   "outputs": [],
   "source": [
    "let getSourceDirectory =\n",
    "    fun () -> __SOURCE_DIRECTORY__\n",
    "    |> memoize"
   ]
  },
  {
   "cell_type": "code",
   "execution_count": null,
   "metadata": {
    "dotnet_interactive": {
     "language": "fsharp"
    },
    "polyglot_notebook": {
     "kernelName": "fsharp"
    }
   },
   "outputs": [
    {
     "name": "stdout",
     "output_type": "stream",
     "text": [
      "fsharp\n"
     ]
    }
   ],
   "source": [
    "//// test\n",
    "\n",
    "getSourceDirectory ()\n",
    "|> System.IO.DirectoryInfo\n",
    "|> fun dir -> dir.Name\n",
    "|> _assertEqual \"fsharp\""
   ]
  },
  {
   "cell_type": "markdown",
   "metadata": {},
   "source": [
    "## findParent"
   ]
  },
  {
   "cell_type": "code",
   "execution_count": null,
   "metadata": {
    "dotnet_interactive": {
     "language": "fsharp"
    },
    "polyglot_notebook": {
     "kernelName": "fsharp"
    }
   },
   "outputs": [],
   "source": [
    "let inline findParent name isFile rootDir =\n",
    "    let rec loop dir =\n",
    "        if dir </> name |> (if isFile then System.IO.File.Exists else System.IO.Directory.Exists)\n",
    "        then dir\n",
    "        else\n",
    "            dir\n",
    "            |> System.IO.Directory.GetParent\n",
    "            |> function\n",
    "                | null -> failwith $\"\"\"No parent for {if isFile then \"file\" else \"dir\"} '{name}' at '{rootDir}'\"\"\"\n",
    "                | parent -> parent.FullName |> loop\n",
    "    loop rootDir"
   ]
  },
  {
   "cell_type": "code",
   "execution_count": null,
   "metadata": {
    "dotnet_interactive": {
     "language": "fsharp"
    },
    "polyglot_notebook": {
     "kernelName": "fsharp"
    }
   },
   "outputs": [
    {
     "name": "stdout",
     "output_type": "stream",
     "text": [
      "polyglot\n"
     ]
    }
   ],
   "source": [
    "//// test\n",
    "\n",
    "getSourceDirectory () |> findParent \".paket\" false\n",
    "|> System.IO.DirectoryInfo\n",
    "|> fun dir -> dir.Name\n",
    "|> _assertEqual \"polyglot\""
   ]
  },
  {
   "cell_type": "code",
   "execution_count": null,
   "metadata": {
    "dotnet_interactive": {
     "language": "fsharp"
    },
    "polyglot_notebook": {
     "kernelName": "fsharp"
    }
   },
   "outputs": [
    {
     "name": "stdout",
     "output_type": "stream",
     "text": [
      "polyglot\n"
     ]
    }
   ],
   "source": [
    "//// test\n",
    "\n",
    "getSourceDirectory () |> findParent \"paket.dependencies\" true\n",
    "|> System.IO.DirectoryInfo\n",
    "|> fun dir -> dir.Name\n",
    "|> _assertEqual \"polyglot\""
   ]
  },
  {
   "cell_type": "markdown",
   "metadata": {},
   "source": [
    "## readAllTextAsync"
   ]
  },
  {
   "cell_type": "code",
   "execution_count": null,
   "metadata": {
    "dotnet_interactive": {
     "language": "fsharp"
    },
    "polyglot_notebook": {
     "kernelName": "fsharp"
    }
   },
   "outputs": [],
   "source": [
    "let inline readAllTextAsync path =\n",
    "    path |> System.IO.File.ReadAllTextAsync |> Async.AwaitTask"
   ]
  },
  {
   "cell_type": "markdown",
   "metadata": {},
   "source": [
    "## fileExistsContent"
   ]
  },
  {
   "cell_type": "code",
   "execution_count": null,
   "metadata": {
    "dotnet_interactive": {
     "language": "fsharp"
    },
    "polyglot_notebook": {
     "kernelName": "fsharp"
    }
   },
   "outputs": [],
   "source": [
    "let inline fileExistsContent path content = async {\n",
    "    if path |> System.IO.File.Exists |> not\n",
    "    then return false\n",
    "    else\n",
    "        let! existingContent = path |> readAllTextAsync\n",
    "        return content = existingContent\n",
    "}"
   ]
  },
  {
   "cell_type": "markdown",
   "metadata": {},
   "source": [
    "## writeAllTextAsync"
   ]
  },
  {
   "cell_type": "code",
   "execution_count": null,
   "metadata": {
    "dotnet_interactive": {
     "language": "fsharp"
    },
    "polyglot_notebook": {
     "kernelName": "fsharp"
    }
   },
   "outputs": [],
   "source": [
    "let inline writeAllTextAsync path contents =\n",
    "    System.IO.File.WriteAllTextAsync (path, contents) |> Async.AwaitTask"
   ]
  },
  {
   "cell_type": "markdown",
   "metadata": {},
   "source": [
    "## writeAllTextExists"
   ]
  },
  {
   "cell_type": "code",
   "execution_count": null,
   "metadata": {
    "dotnet_interactive": {
     "language": "fsharp"
    },
    "polyglot_notebook": {
     "kernelName": "fsharp"
    }
   },
   "outputs": [],
   "source": [
    "let inline writeAllTextExists path contents = async {\n",
    "    let! exists = contents |> fileExistsContent path\n",
    "    if not exists\n",
    "    then do! contents |> writeAllTextAsync path\n",
    "}"
   ]
  },
  {
   "cell_type": "markdown",
   "metadata": {},
   "source": [
    "## waitForFileAccess"
   ]
  },
  {
   "cell_type": "code",
   "execution_count": null,
   "metadata": {
    "dotnet_interactive": {
     "language": "fsharp"
    },
    "polyglot_notebook": {
     "kernelName": "fsharp"
    }
   },
   "outputs": [],
   "source": [
    "let inline waitForFileAccess access path =\n",
    "    let fileAccess, fileShare =\n",
    "        access\n",
    "        |> Option.defaultValue (System.IO.FileAccess.ReadWrite, System.IO.FileShare.Read)\n",
    "\n",
    "    let rec loop retry = async {\n",
    "        try\n",
    "            use _ = new System.IO.FileStream (\n",
    "                path,\n",
    "                System.IO.FileMode.Open,\n",
    "                fileAccess,\n",
    "                fileShare\n",
    "            )\n",
    "            return retry\n",
    "        with ex ->\n",
    "            if retry % 100 = 0 then\n",
    "                let getLocals () = $\"path: {path |> System.IO.Path.GetFileName} / ex: {ex |> formatException} / {getLocals ()}\"\n",
    "                trace Debug (fun () -> \"waitForFileAccess\") getLocals\n",
    "            do! Async.Sleep 10\n",
    "            return! loop (retry + 1)\n",
    "    }\n",
    "    loop 0"
   ]
  },
  {
   "cell_type": "code",
   "execution_count": null,
   "metadata": {
    "dotnet_interactive": {
     "language": "fsharp"
    },
    "polyglot_notebook": {
     "kernelName": "fsharp"
    }
   },
   "outputs": [
    {
     "name": "stdout",
     "output_type": "stream",
     "text": [
      "00:00:00 #1 [Debug] 1\n",
      "00:00:00 #2 [Debug] 2\n",
      "00:00:00 #3 [Debug] _1\n",
      "00:00:00 #4 [Debug] 3\n",
      "00:00:00 #5 [Debug] _2\n",
      "00:00:00 #6 [Debug] 4\n",
      "00:00:00 #7 [Debug] waitForFileAccess / path: test.txt / ex: System.IO.IOException: The process cannot access the file '/tmp/dotnet-repl/20240329-2202-1776-7615-724767b7e464/test.txt' because it is being used by another process.\n",
      "00:00:01 #8 [Debug] waitForFileAccess / path: test.txt / ex: System.IO.IOException: The process cannot access the file '/tmp/dotnet-repl/20240329-2202-1776-7615-724767b7e464/test.txt' because it is being used by another process.\n",
      "00:00:02 #9 [Debug] _3\n",
      "00:00:02 #10 [Debug] _4\n",
      "00:00:02 #11 [Debug] _5\n",
      "00:00:02 #12 [Debug] _6\n",
      "00:00:02 #13 [Debug] 5\n",
      "00:00:02 #14 [Debug] 6\n",
      "00:00:02 #15 [Debug] 7\n",
      "167\n",
      "167\n",
      "167\n",
      "1\n",
      "True\n"
     ]
    }
   ],
   "source": [
    "//// test\n",
    "\n",
    "let tempFolder = createTempDirectory ()\n",
    "let path = tempFolder </> \"test.txt\"\n",
    "\n",
    "let inline lockFile () = async {\n",
    "    trace Debug (fun () -> \"_1\") getLocals\n",
    "    use stream = new System.IO.FileStream (\n",
    "        path,\n",
    "        System.IO.FileMode.Open,\n",
    "        System.IO.FileAccess.ReadWrite,\n",
    "        System.IO.FileShare.None\n",
    "    )\n",
    "    trace Debug (fun () -> \"_2\") getLocals\n",
    "    do! Async.Sleep 2000\n",
    "    trace Debug (fun () -> \"_3\") getLocals\n",
    "    stream.Seek (0L, SeekOrigin.Begin) |> ignore\n",
    "    trace Debug (fun () -> \"_4\") getLocals\n",
    "    stream.WriteByte 49uy\n",
    "    trace Debug (fun () -> \"_5\") getLocals\n",
    "    stream.Flush ()\n",
    "    trace Debug (fun () -> \"_6\") getLocals\n",
    "}\n",
    "\n",
    "async {\n",
    "    trace Debug (fun () -> \"1\") getLocals\n",
    "    do! \"0\" |> writeAllTextAsync path\n",
    "    trace Debug (fun () -> \"2\") getLocals\n",
    "    let! child = lockFile () |> Async.StartChild\n",
    "    trace Debug (fun () -> \"3\") getLocals\n",
    "    do! Async.Sleep 1\n",
    "    trace Debug (fun () -> \"4\") getLocals\n",
    "    let! retries = path |> waitForFileAccess None\n",
    "    trace Debug (fun () -> \"5\") getLocals\n",
    "    let! text = path |> readAllTextAsync\n",
    "    trace Debug (fun () -> \"6\") getLocals\n",
    "    do! child\n",
    "    trace Debug (fun () -> \"7\") getLocals\n",
    "    return retries, text\n",
    "}\n",
    "|> Async.runWithTimeout 3000\n",
    "|> function\n",
    "    | Some (retries, text) ->\n",
    "        retries\n",
    "        |> _isBetween\n",
    "            (if Runtime.isWindows () then 100 else 100)\n",
    "            (if Runtime.isWindows () then 150 else 200)\n",
    "\n",
    "        text |> _assertEqual \"1\"\n",
    "\n",
    "        true\n",
    "    | _ -> false\n",
    "|> _assertEqual true"
   ]
  },
  {
   "cell_type": "markdown",
   "metadata": {},
   "source": [
    "## readAllTextRetryAsync"
   ]
  },
  {
   "cell_type": "code",
   "execution_count": null,
   "metadata": {
    "dotnet_interactive": {
     "language": "fsharp"
    },
    "polyglot_notebook": {
     "kernelName": "fsharp"
    }
   },
   "outputs": [],
   "source": [
    "let inline readAllTextRetryAsync fullPath =\n",
    "    let rec loop retry = async {\n",
    "        try\n",
    "            if retry > 0\n",
    "            then do!\n",
    "                fullPath\n",
    "                |> waitForFileAccess (Some (\n",
    "                    System.IO.FileAccess.Read,\n",
    "                    System.IO.FileShare.Read\n",
    "                ))\n",
    "                |> Async.runWithTimeoutAsync 1000\n",
    "                |> Async.Ignore\n",
    "            return! fullPath |> readAllTextAsync |> Async.map Some\n",
    "        with ex ->\n",
    "            let getLocals () = $\"retry: {retry} / ex: {ex |> formatException} / {getLocals ()}\"\n",
    "            trace Debug (fun () -> $\"watchWithFilter / readContent\") getLocals\n",
    "            if retry = 0\n",
    "            then return! loop (retry + 1)\n",
    "            else return None\n",
    "    }\n",
    "    loop 0"
   ]
  },
  {
   "cell_type": "markdown",
   "metadata": {},
   "source": [
    "## deleteDirectoryAsync"
   ]
  },
  {
   "cell_type": "code",
   "execution_count": null,
   "metadata": {
    "dotnet_interactive": {
     "language": "fsharp"
    },
    "polyglot_notebook": {
     "kernelName": "fsharp"
    }
   },
   "outputs": [],
   "source": [
    "let inline deleteDirectoryAsync path =\n",
    "    let rec loop retry = async {\n",
    "        try\n",
    "            System.IO.Directory.Delete (path, true)\n",
    "            return retry\n",
    "        with ex ->\n",
    "            if retry % 100 = 0 then\n",
    "                let getLocals () = $\"path: {path |> System.IO.Path.GetFileName} / ex: {ex |> formatException} / {getLocals ()}\"\n",
    "                trace Debug (fun () -> \"deleteDirectoryAsync\") getLocals\n",
    "            do! Async.Sleep 10\n",
    "            return! loop (retry + 1)\n",
    "    }\n",
    "    loop 0"
   ]
  },
  {
   "cell_type": "code",
   "execution_count": null,
   "metadata": {
    "dotnet_interactive": {
     "language": "fsharp"
    },
    "polyglot_notebook": {
     "kernelName": "fsharp"
    }
   },
   "outputs": [
    {
     "name": "stdout",
     "output_type": "stream",
     "text": [
      "00:00:02 #16 [Debug] 1\n",
      "00:00:02 #17 [Debug] 2\n",
      "00:00:02 #18 [Debug] 3\n",
      "00:00:02 #19 [Debug] _1\n",
      "00:00:02 #20 [Debug] _2\n",
      "00:00:02 #21 [Debug] 4\n",
      "00:00:02 #22 [Debug] 5\n",
      "00:00:04 #23 [Debug] _3\n",
      "00:00:04 #24 [Debug] 6\n",
      "0\n",
      "0\n",
      "0\n",
      "True\n"
     ]
    }
   ],
   "source": [
    "//// test\n",
    "\n",
    "let tempFolder = createTempDirectory ()\n",
    "let path = tempFolder </> \"test\"\n",
    "\n",
    "let inline lockDirectory () = async {\n",
    "    trace Debug (fun () -> \"_1\") getLocals\n",
    "    System.IO.File.WriteAllText (path </> \"test.txt\", \"0\")\n",
    "    use _ = new System.IO.FileStream (\n",
    "        path </> \"test.txt\",\n",
    "        System.IO.FileMode.Open,\n",
    "        System.IO.FileAccess.ReadWrite,\n",
    "        System.IO.FileShare.None\n",
    "    )\n",
    "    trace Debug (fun () -> \"_2\") getLocals\n",
    "    do! Async.Sleep 2000\n",
    "    trace Debug (fun () -> \"_3\") getLocals\n",
    "}\n",
    "\n",
    "async {\n",
    "    trace Debug (fun () -> \"1\") getLocals\n",
    "    Directory.CreateDirectory path |> ignore\n",
    "    trace Debug (fun () -> \"2\") getLocals\n",
    "    let! child = lockDirectory () |> Async.StartChild\n",
    "    trace Debug (fun () -> \"3\") getLocals\n",
    "    do! Async.Sleep 60\n",
    "    trace Debug (fun () -> \"4\") getLocals\n",
    "    let! retries = deleteDirectoryAsync path\n",
    "    trace Debug (fun () -> \"5\") getLocals\n",
    "    do! child\n",
    "    trace Debug (fun () -> \"6\") getLocals\n",
    "    return retries\n",
    "}\n",
    "|> Async.runWithTimeout 3000\n",
    "|> function\n",
    "    | Some retries ->\n",
    "        retries\n",
    "        |> _isBetween\n",
    "            (if Runtime.isWindows () then 100 else 0)\n",
    "            (if Runtime.isWindows () then 150 else 0)\n",
    "\n",
    "        true\n",
    "    | _ -> false\n",
    "|> _assertEqual true"
   ]
  },
  {
   "cell_type": "markdown",
   "metadata": {},
   "source": [
    "## deleteFileAsync"
   ]
  },
  {
   "cell_type": "code",
   "execution_count": null,
   "metadata": {
    "dotnet_interactive": {
     "language": "fsharp"
    },
    "polyglot_notebook": {
     "kernelName": "fsharp"
    }
   },
   "outputs": [],
   "source": [
    "let inline deleteFileAsync path =\n",
    "    let rec loop retry = async {\n",
    "        try\n",
    "            System.IO.File.Delete path\n",
    "            return retry\n",
    "        with ex ->\n",
    "            if retry % 100 = 0 then\n",
    "                let getLocals () = $\"path: {path |> System.IO.Path.GetFileName} / ex: {ex |> formatException} / {getLocals ()}\"\n",
    "                trace Warning (fun () -> \"deleteFileAsync\") getLocals\n",
    "            do! Async.Sleep 10\n",
    "            return! loop (retry + 1)\n",
    "    }\n",
    "    loop 0"
   ]
  },
  {
   "cell_type": "code",
   "execution_count": null,
   "metadata": {
    "dotnet_interactive": {
     "language": "fsharp"
    },
    "polyglot_notebook": {
     "kernelName": "fsharp"
    }
   },
   "outputs": [
    {
     "name": "stdout",
     "output_type": "stream",
     "text": [
      "00:00:04 #25 [Debug] 1\n",
      "00:00:04 #26 [Debug] 2\n",
      "00:00:04 #27 [Debug] 3\n",
      "00:00:04 #28 [Debug] _1\n",
      "00:00:04 #29 [Debug] _2\n",
      "00:00:04 #30 [Debug] 4\n",
      "00:00:04 #31 [Debug] 5\n",
      "00:00:06 #32 [Debug] _3\n",
      "00:00:06 #33 [Debug] 6\n",
      "0\n",
      "0\n",
      "0\n",
      "True\n"
     ]
    }
   ],
   "source": [
    "//// test\n",
    "\n",
    "let tempFolder = createTempDirectory ()\n",
    "let path = tempFolder </> \"test.txt\"\n",
    "\n",
    "let inline lockFile () = async {\n",
    "    trace Debug (fun () -> \"_1\") getLocals\n",
    "    use _ = new System.IO.FileStream (\n",
    "        path,\n",
    "        System.IO.FileMode.Open,\n",
    "        System.IO.FileAccess.ReadWrite,\n",
    "        System.IO.FileShare.None\n",
    "    )\n",
    "    trace Debug (fun () -> \"_2\") getLocals\n",
    "    do! Async.Sleep 2000\n",
    "    trace Debug (fun () -> \"_3\") getLocals\n",
    "}\n",
    "\n",
    "async {\n",
    "    trace Debug (fun () -> \"1\") getLocals\n",
    "    do! \"0\" |> writeAllTextAsync path\n",
    "    trace Debug (fun () -> \"2\") getLocals\n",
    "    let! child = lockFile () |> Async.StartChild\n",
    "    trace Debug (fun () -> \"3\") getLocals\n",
    "    do! Async.Sleep 1\n",
    "    trace Debug (fun () -> \"4\") getLocals\n",
    "    let! retries = deleteFileAsync path\n",
    "    trace Debug (fun () -> \"5\") getLocals\n",
    "    do! child\n",
    "    trace Debug (fun () -> \"6\") getLocals\n",
    "    return retries\n",
    "}\n",
    "|> Async.runWithTimeout 3000\n",
    "|> function\n",
    "    | Some retries ->\n",
    "        retries\n",
    "        |> _isBetween\n",
    "            (if Runtime.isWindows () then 100 else 0)\n",
    "            (if Runtime.isWindows () then 150 else 0)\n",
    "\n",
    "        true\n",
    "    | _ -> false\n",
    "|> _assertEqual true"
   ]
  },
  {
   "cell_type": "markdown",
   "metadata": {},
   "source": [
    "## moveFileAsync"
   ]
  },
  {
   "cell_type": "code",
   "execution_count": null,
   "metadata": {
    "dotnet_interactive": {
     "language": "fsharp"
    },
    "polyglot_notebook": {
     "kernelName": "fsharp"
    }
   },
   "outputs": [],
   "source": [
    "let inline moveFileAsync newPath oldPath =\n",
    "    let rec loop retry = async {\n",
    "        try\n",
    "            System.IO.File.Move (oldPath, newPath)\n",
    "            return retry\n",
    "        with ex ->\n",
    "            if retry % 100 = 0 then\n",
    "                let getLocals () =\n",
    "                    $\"oldPath: {oldPath |> System.IO.Path.GetFileName} / newPath: {newPath |> System.IO.Path.GetFileName} / ex: {ex |> formatException} / {getLocals ()}\"\n",
    "                trace Warning (fun () -> \"moveFileAsync\") getLocals\n",
    "            do! Async.Sleep 10\n",
    "            return! loop (retry + 1)\n",
    "    }\n",
    "    loop 0"
   ]
  },
  {
   "cell_type": "code",
   "execution_count": null,
   "metadata": {
    "dotnet_interactive": {
     "language": "fsharp"
    },
    "polyglot_notebook": {
     "kernelName": "fsharp"
    }
   },
   "outputs": [
    {
     "name": "stdout",
     "output_type": "stream",
     "text": [
      "00:00:06 #34 [Debug] 1\n",
      "00:00:06 #35 [Debug] 2\n",
      "00:00:06 #36 [Debug] 3\n",
      "00:00:06 #37 [Debug] _1\n",
      "00:00:06 #38 [Debug] _2\n",
      "00:00:06 #39 [Debug] 4\n",
      "00:00:06 #40 [Debug] 5\n",
      "00:00:06 #41 [Debug] waitForFileAccess / path: test2.txt / ex: System.IO.IOException: The process cannot access the file '/tmp/dotnet-repl/20240329-2202-2467-6774-6d8af9f2b4af/test2.txt' because it is being used by another process.\n",
      "00:00:08 #42 [Debug] waitForFileAccess / path: test2.txt / ex: System.IO.IOException: The process cannot access the file '/tmp/dotnet-repl/20240329-2202-2467-6774-6d8af9f2b4af/test2.txt' because it is being used by another process.\n",
      "00:00:08 #43 [Debug] _3\n",
      "00:00:08 #44 [Debug] 6\n",
      "00:00:08 #45 [Debug] 7\n",
      "00:00:08 #46 [Debug] 8\n",
      "0\n",
      "0\n",
      "0\n",
      "167\n",
      "167\n",
      "167\n",
      "0\n",
      "True\n"
     ]
    }
   ],
   "source": [
    "//// test\n",
    "\n",
    "let tempFolder = createTempDirectory ()\n",
    "let path = tempFolder </> \"test.txt\"\n",
    "let newPath = tempFolder </> \"test2.txt\"\n",
    "\n",
    "let inline lockFile () = async {\n",
    "    trace Debug (fun () -> \"_1\") getLocals\n",
    "    use _ = new System.IO.FileStream (\n",
    "        path,\n",
    "        System.IO.FileMode.Open,\n",
    "        System.IO.FileAccess.ReadWrite,\n",
    "        System.IO.FileShare.None\n",
    "    )\n",
    "    trace Debug (fun () -> \"_2\") getLocals\n",
    "    do! Async.Sleep 2000\n",
    "    trace Debug (fun () -> \"_3\") getLocals\n",
    "}\n",
    "\n",
    "async {\n",
    "    trace Debug (fun () -> \"1\") getLocals\n",
    "    do! \"0\" |> writeAllTextAsync path\n",
    "    trace Debug (fun () -> \"2\") getLocals\n",
    "    let! child = lockFile () |> Async.StartChild\n",
    "    trace Debug (fun () -> \"3\") getLocals\n",
    "    do! Async.Sleep 1\n",
    "    trace Debug (fun () -> \"4\") getLocals\n",
    "    let! retries1 = path |> moveFileAsync newPath\n",
    "    trace Debug (fun () -> \"5\") getLocals\n",
    "    let! retries2 = newPath |> waitForFileAccess None\n",
    "    trace Debug (fun () -> \"6\") getLocals\n",
    "    let! text = newPath |> readAllTextAsync\n",
    "    trace Debug (fun () -> \"7\") getLocals\n",
    "    do! child\n",
    "    trace Debug (fun () -> \"8\") getLocals\n",
    "    return retries1, retries2, text\n",
    "}\n",
    "|> Async.runWithTimeout 3000\n",
    "|> function\n",
    "    | Some (retries1, retries2, text) ->\n",
    "        retries1\n",
    "        |> _isBetween\n",
    "            (if Runtime.isWindows () then 100 else 0)\n",
    "            (if Runtime.isWindows () then 150 else 0)\n",
    "\n",
    "        retries2\n",
    "        |> _isBetween\n",
    "            (if Runtime.isWindows () then 0 else 100)\n",
    "            (if Runtime.isWindows () then 0 else 200)\n",
    "\n",
    "        text |> _assertEqual \"0\"\n",
    "\n",
    "        true\n",
    "    | _ -> false\n",
    "|> _assertEqual true"
   ]
  },
  {
   "cell_type": "markdown",
   "metadata": {},
   "source": [
    "## watchDirectory"
   ]
  },
  {
   "cell_type": "code",
   "execution_count": null,
   "metadata": {
    "dotnet_interactive": {
     "language": "fsharp"
    },
    "polyglot_notebook": {
     "kernelName": "fsharp"
    }
   },
   "outputs": [],
   "source": [
    "[<RequireQualifiedAccess>]\n",
    "type FileSystemChangeType =\n",
    "    | Failure\n",
    "    | Changed\n",
    "    | Created\n",
    "    | Deleted\n",
    "    | Renamed\n",
    "\n",
    "[<RequireQualifiedAccess>]\n",
    "type FileSystemChange =\n",
    "    | Failure of exn: exn\n",
    "    | Changed of path: string * content: string option\n",
    "    | Created of path: string * content: string option\n",
    "    | Deleted of path: string\n",
    "    | Renamed of oldPath: string * (string * string option)\n",
    "\n",
    "\n",
    "let inline watchDirectoryWithFilter filter shouldReadContent path =\n",
    "    let fullPath = path |> System.IO.Path.GetFullPath\n",
    "    let getLocals () = $\"filter: {filter} / {getLocals ()}\"\n",
    "\n",
    "    let watcher =\n",
    "        new System.IO.FileSystemWatcher (\n",
    "            Path = fullPath,\n",
    "            NotifyFilter = filter,\n",
    "            EnableRaisingEvents = true,\n",
    "            IncludeSubdirectories = true\n",
    "        )\n",
    "\n",
    "    let inline getEventPath (path : string) =\n",
    "        path |> String.trim |> String.replace fullPath \"\" |> String.trimStart [| '/'; '\\\\' |]\n",
    "\n",
    "    let inline ticks () =\n",
    "        System.DateTime.UtcNow.Ticks\n",
    "\n",
    "    let changedStream =\n",
    "        AsyncSeq.subscribeEvent\n",
    "            watcher.Changed\n",
    "            (fun event ->\n",
    "                ticks (),\n",
    "                [ FileSystemChange.Changed (getEventPath event.FullPath, None) ]\n",
    "            )\n",
    "\n",
    "    let deletedStream =\n",
    "        AsyncSeq.subscribeEvent\n",
    "            watcher.Deleted\n",
    "            (fun event ->\n",
    "                ticks (),\n",
    "                [ FileSystemChange.Deleted (getEventPath event.FullPath) ]\n",
    "            )\n",
    "\n",
    "    let createdStream =\n",
    "        AsyncSeq.subscribeEvent\n",
    "            watcher.Created\n",
    "            (fun event ->\n",
    "                let path = getEventPath event.FullPath\n",
    "                ticks (), [\n",
    "                    FileSystemChange.Created (path, None)\n",
    "                    if Runtime.isWindows () then\n",
    "                        FileSystemChange.Changed (path, None)\n",
    "                ])\n",
    "\n",
    "    let renamedStream =\n",
    "        AsyncSeq.subscribeEvent\n",
    "            watcher.Renamed\n",
    "            (fun event ->\n",
    "                ticks (), [\n",
    "                    FileSystemChange.Renamed (\n",
    "                        getEventPath event.OldFullPath,\n",
    "                        (getEventPath event.FullPath, None)\n",
    "                    )\n",
    "                ]\n",
    "            )\n",
    "\n",
    "    let failureStream =\n",
    "        AsyncSeq.subscribeEvent\n",
    "            watcher.Error\n",
    "            (fun event -> ticks (), [ FileSystemChange.Failure (event.GetException ()) ])\n",
    "\n",
    "    let stream =\n",
    "        [\n",
    "            changedStream\n",
    "            deletedStream\n",
    "            createdStream\n",
    "            renamedStream\n",
    "            failureStream\n",
    "        ]\n",
    "        |> FSharp.Control.AsyncSeq.mergeAll\n",
    "        |> FSharp.Control.AsyncSeq.map (fun (t, events) ->\n",
    "            events\n",
    "            |> List.fold\n",
    "                (fun (i, events) event ->\n",
    "                    i + 1L,\n",
    "                    (t + i, event) :: events)\n",
    "                (0L, [])\n",
    "            |> snd\n",
    "            |> List.rev\n",
    "        )\n",
    "        |> FSharp.Control.AsyncSeq.concatSeq\n",
    "        |> FSharp.Control.AsyncSeq.mapAsyncParallel (fun (t, event) -> async {\n",
    "            match shouldReadContent event, event with\n",
    "            | true, FileSystemChange.Changed (path, _) ->\n",
    "                do! Async.Sleep 5\n",
    "                let! content = fullPath </> path |> readAllTextRetryAsync\n",
    "                return t, FileSystemChange.Changed (path, content)\n",
    "            | true, FileSystemChange.Created (path, _) ->\n",
    "                do! Async.Sleep 5\n",
    "                let! content = fullPath </> path |> readAllTextRetryAsync\n",
    "                return t, FileSystemChange.Created (path, content)\n",
    "            | true, FileSystemChange.Renamed (oldPath, (newPath, _)) ->\n",
    "                let! content = fullPath </> newPath |> readAllTextRetryAsync\n",
    "                return t, FileSystemChange.Renamed (oldPath, (newPath, content))\n",
    "            | _ -> return t, event\n",
    "        })\n",
    "\n",
    "    let disposable =\n",
    "        new_disposable (fun () ->\n",
    "            trace Debug (fun () -> \"watchWithFilter / Disposing watch stream\") getLocals\n",
    "            watcher.EnableRaisingEvents <- false\n",
    "            watcher.Dispose ()\n",
    "        )\n",
    "\n",
    "    stream, disposable\n",
    "\n",
    "let inline watchDirectory path =\n",
    "    watchDirectoryWithFilter\n",
    "        (System.IO.NotifyFilters.FileName\n",
    "        // ||| System.IO.NotifyFilters.DirectoryName\n",
    "        // ||| System.IO.NotifyFilters.Attributes\n",
    "        //// ||| System.IO.NotifyFilters.Size\n",
    "        ||| System.IO.NotifyFilters.LastWrite\n",
    "        //// ||| System.IO.NotifyFilters.LastAccess\n",
    "        // ||| System.IO.NotifyFilters.CreationTime\n",
    "        // ||| System.IO.NotifyFilters.Security\n",
    "        )\n",
    "        path"
   ]
  },
  {
   "cell_type": "markdown",
   "metadata": {},
   "source": [
    "### testEventsRaw (test)"
   ]
  },
  {
   "cell_type": "code",
   "execution_count": null,
   "metadata": {
    "dotnet_interactive": {
     "language": "fsharp"
    },
    "polyglot_notebook": {
     "kernelName": "fsharp"
    }
   },
   "outputs": [],
   "source": [
    "//// test\n",
    "\n",
    "let inline testEventsRaw\n",
    "    (watchFn : (_ -> bool) -> string -> FSharp.Control.AsyncSeq<int64 * FileSystemChange> * IDisposable)\n",
    "    write\n",
    "    =\n",
    "    let tempDirectory = createTempDirectory ()\n",
    "    let stream, disposable = watchFn (fun _ -> true) tempDirectory\n",
    "\n",
    "    let events = System.Collections.Concurrent.ConcurrentBag ()\n",
    "\n",
    "    let inline iter () =\n",
    "        stream\n",
    "        |> FSharp.Control.AsyncSeq.iterAsyncParallel (fun event -> async { events.Add event })\n",
    "\n",
    "    let run = async {\n",
    "        let! _ = iter () |> Async.StartChild\n",
    "        do! Async.Sleep 250\n",
    "        return! write tempDirectory\n",
    "    }\n",
    "\n",
    "    try\n",
    "        run\n",
    "        |> Async.runWithTimeout 60000\n",
    "        |> _assertEqual (Some ())\n",
    "    finally\n",
    "        disposable.Dispose ()\n",
    "        deleteDirectoryAsync tempDirectory |> Async.Ignore |> Async.RunSynchronously\n",
    "\n",
    "    let eventsLog =\n",
    "        events\n",
    "        |> Seq.toList\n",
    "        |> List.sortBy fst\n",
    "        |> List.fold\n",
    "            (fun (prev, acc) (ticks, event) ->\n",
    "                ticks, (ticks, (if prev = 0L then 0L else ticks - prev), event) :: acc\n",
    "            )\n",
    "            (0L, [])\n",
    "        |> snd\n",
    "        |> List.rev\n",
    "        |> List.map (fun (diff, n, event) ->\n",
    "            let text = $\"{n} / {diff} / {event}\"\n",
    "            if text |> String.length <= 100\n",
    "            then text\n",
    "            else text |> String.substring 0 100 |> String.replace \"\\n\" \"\"\n",
    "        )\n",
    "        |> String.concat \"\\n\"\n",
    "    let getLocals () = $\"eventsLog: \\n{eventsLog} / {getLocals ()}\"\n",
    "    trace Debug (fun () -> \"testEventsRaw\") getLocals\n",
    "\n",
    "    events\n",
    "    |> Seq.toList\n",
    "    |> List.sortBy fst\n",
    "    |> List.map snd\n",
    "    |> List.fold\n",
    "        (fun acc event ->\n",
    "            match acc, event with\n",
    "            | FileSystemChange.Changed (lastPath, Some lastContent) as lastEvent :: acc,\n",
    "                FileSystemChange.Changed (path, Some content)\n",
    "                when lastPath = path && content |> String.startsWith lastContent\n",
    "                ->\n",
    "                event :: acc\n",
    "            | _ -> event :: acc\n",
    "        )\n",
    "        []\n",
    "    |> List.rev"
   ]
  },
  {
   "cell_type": "markdown",
   "metadata": {},
   "source": [
    "#### fast (test)"
   ]
  },
  {
   "cell_type": "code",
   "execution_count": null,
   "metadata": {
    "dotnet_interactive": {
     "language": "fsharp"
    },
    "polyglot_notebook": {
     "kernelName": "fsharp"
    }
   },
   "outputs": [
    {
     "name": "stdout",
     "output_type": "stream",
     "text": [
      "FSharpOption<Unit>\n",
      "      Value: <null>\n",
      "00:00:13 #47 [Debug] watchWithFilter / Disposing watch stream / filter: FileName, LastWrite\n",
      "00:00:13 #48 [Debug] testEventsRaw / eventsLog: \n",
      "0 / 638473465498834404 / Created (\"file1.txt\", Some \"a1\")\n",
      "11566 / 638473465498845970 / Changed (\"file1.txt\", Some \"a1\")\n",
      "2014 / 638473465498847984 / Created (\"file2.txt\", Some \"a2\")\n",
      "43 / 638473465498848027 / Changed (\"file2.txt\", Some \"a2\")\n",
      "2475647 / 638473465501323674 / Changed (\"file1.txt\", Some \"b1\")\n",
      "352 / 638473465501324026 / Changed (\"file1.txt\", Some \"b1\")\n",
      "4534 / 638473465501328560 / Changed (\"file2.txt\", Some \"b2\")\n",
      "347 / 638473465501328907 / Changed (\"file2.txt\", Some \"b2\")\n",
      "2559163 / 638473465503888070 / Renamed (\"file1.txt\", (\"file_1.txt\", Some \"b1\"))\n",
      "1083 / 638473465503889153 / Renamed (\"file2.txt\", (\"file_2.txt\", Some \"b2\"))\n",
      "2511347 / 638473465506400500 / Changed (\"file_1.txt\", Some \"c1\")\n",
      "589 / 638473465506401089 / Changed (\"file_1.txt\", Some \"c1\")\n",
      "4207 / 638473465506405296 / Changed (\"file_2.txt\", Some \"c2\")\n",
      "368 / 638473465506405664 / Changed (\"file_2.txt\", Some \"c2\")\n",
      "2537892 / 638473465508943556 / Deleted \"file_1.txt\"\n",
      "887 / 638473465508944443 / Deleted \"file_2.txt\"\n",
      "FSharpList<FileSystemChange>\n",
      "      - path: file1.txt\n",
      "        content: FSharpOption<String>\n",
      "          Value: a1\n",
      "        IsFailure: False\n",
      "        IsChanged: False\n",
      "        IsCreated: True\n",
      "        IsDeleted: False\n",
      "        IsRenamed: False\n",
      "      - path: file1.txt\n",
      "        content: FSharpOption<String>\n",
      "          Value: a1\n",
      "        IsFailure: False\n",
      "        IsChanged: True\n",
      "        IsCreated: False\n",
      "        IsDeleted: False\n",
      "        IsRenamed: False\n",
      "      - path: file2.txt\n",
      "        content: FSharpOption<String>\n",
      "          Value: a2\n",
      "        IsFailure: False\n",
      "        IsChanged: False\n",
      "        IsCreated: True\n",
      "        IsDeleted: False\n",
      "        IsRenamed: False\n",
      "      - path: file2.txt\n",
      "        content: FSharpOption<String>\n",
      "          Value: a2\n",
      "        IsFailure: False\n",
      "        IsChanged: True\n",
      "        IsCreated: False\n",
      "        IsDeleted: False\n",
      "        IsRenamed: False\n",
      "      - path: file1.txt\n",
      "        content: FSharpOption<String>\n",
      "          Value: b1\n",
      "        IsFailure: False\n",
      "        IsChanged: True\n",
      "        IsCreated: False\n",
      "        IsDeleted: False\n",
      "        IsRenamed: False\n",
      "      - path: file2.txt\n",
      "        content: FSharpOption<String>\n",
      "          Value: b2\n",
      "        IsFailure: False\n",
      "        IsChanged: True\n",
      "        IsCreated: False\n",
      "        IsDeleted: False\n",
      "        IsRenamed: False\n",
      "      - oldPath: file1.txt\n",
      "        Item2:         - file_1.txt\n",
      "        - FSharpOption<String>\n",
      "            Value: b1\n",
      "      - IsFailure: False\n",
      "        IsChanged: False\n",
      "        IsCreated: False\n",
      "        IsDeleted: False\n",
      "        IsRenamed: True\n",
      "      - oldPath: file2.txt\n",
      "        Item2:         - file_2.txt\n",
      "        - FSharpOption<String>\n",
      "            Value: b2\n",
      "      - IsFailure: False\n",
      "        IsChanged: False\n",
      "        IsCreated: False\n",
      "        IsDeleted: False\n",
      "        IsRenamed: True\n",
      "      - path: file_1.txt\n",
      "        content: FSharpOption<String>\n",
      "          Value: c1\n",
      "        IsFailure: False\n",
      "        IsChanged: True\n",
      "        IsCreated: False\n",
      "        IsDeleted: False\n",
      "        IsRenamed: False\n",
      "      - path: file_2.txt\n",
      "        content: FSharpOption<String>\n",
      "          Value: c2\n",
      "        IsFailure: False\n",
      "        IsChanged: True\n",
      "        IsCreated: False\n",
      "        IsDeleted: False\n",
      "        IsRenamed: False\n",
      "      - path: file_1.txt\n",
      "        IsFailure: False\n",
      "        IsChanged: False\n",
      "        IsCreated: False\n",
      "        IsDeleted: True\n",
      "        IsRenamed: False\n",
      "      - path: file_2.txt\n",
      "        IsFailure: False\n",
      "        IsChanged: False\n",
      "        IsCreated: False\n",
      "        IsDeleted: True\n",
      "        IsRenamed: False\n",
      "FSharpOption<Unit>\n",
      "      Value: <null>\n"
     ]
    }
   ],
   "source": [
    "//// test\n",
    "\n",
    "let inline write path = async {\n",
    "    let n = 2\n",
    "\n",
    "    for i = 1 to n do\n",
    "        do! $\"a{i}\" |> writeAllTextAsync (path </> $\"file{i}.txt\")\n",
    "\n",
    "    do! Async.Sleep 250\n",
    "\n",
    "    for i = 1 to n do\n",
    "        do! $\"b{i}\" |> writeAllTextAsync (path </> $\"file{i}.txt\")\n",
    "\n",
    "    do! Async.Sleep 250\n",
    "\n",
    "    for i = 1 to n do\n",
    "        do! path </> $\"file{i}.txt\" |> moveFileAsync (path </> $\"file_{i}.txt\") |> Async.Ignore\n",
    "\n",
    "    do! Async.Sleep 250\n",
    "\n",
    "    for i = 1 to n do\n",
    "        do! $\"c{i}\" |> writeAllTextAsync (path </> $\"file_{i}.txt\")\n",
    "\n",
    "    do! Async.Sleep 250\n",
    "\n",
    "    for i = 1 to n do\n",
    "        do! deleteFileAsync (path </> $\"file_{i}.txt\") |> Async.Ignore\n",
    "\n",
    "    do! Async.Sleep 250\n",
    "}\n",
    "\n",
    "let inline run () =\n",
    "    let events = testEventsRaw watchDirectory write\n",
    "\n",
    "    events\n",
    "    |> _sequenceEqual [\n",
    "        FileSystemChange.Created (\"file1.txt\", Some \"a1\")\n",
    "        FileSystemChange.Changed (\"file1.txt\", Some \"a1\")\n",
    "        FileSystemChange.Created (\"file2.txt\", Some \"a2\")\n",
    "        FileSystemChange.Changed (\"file2.txt\", Some \"a2\")\n",
    "\n",
    "        FileSystemChange.Changed (\"file1.txt\", Some \"b1\")\n",
    "        FileSystemChange.Changed (\"file2.txt\", Some \"b2\")\n",
    "\n",
    "        FileSystemChange.Renamed (\"file1.txt\", (\"file_1.txt\", Some \"b1\"))\n",
    "        FileSystemChange.Renamed (\"file2.txt\", (\"file_2.txt\", Some \"b2\"))\n",
    "\n",
    "        FileSystemChange.Changed (\"file_1.txt\", Some \"c1\")\n",
    "        FileSystemChange.Changed (\"file_2.txt\", Some \"c2\")\n",
    "\n",
    "        FileSystemChange.Deleted \"file_1.txt\"\n",
    "        FileSystemChange.Deleted \"file_2.txt\"\n",
    "    ]\n",
    "\n",
    "run\n",
    "|> retry_fn 3\n",
    "|> _assertEqual (Some ())"
   ]
  },
  {
   "cell_type": "markdown",
   "metadata": {},
   "source": [
    "#### slow (test)"
   ]
  },
  {
   "cell_type": "code",
   "execution_count": null,
   "metadata": {
    "dotnet_interactive": {
     "language": "fsharp"
    },
    "polyglot_notebook": {
     "kernelName": "fsharp"
    }
   },
   "outputs": [
    {
     "name": "stdout",
     "output_type": "stream",
     "text": [
      "FSharpOption<Unit>\n",
      "      Value: <null>\n",
      "00:00:23 #49 [Debug] watchWithFilter / Disposing watch stream / filter: FileName, LastWrite\n",
      "00:00:25 #50 [Debug] testEventsRaw / eventsLog: \n",
      "0 / 638473465538537844 / Created  (\"file1.txt\",   Some     \"1111111111111111111111111111111111111\n",
      "2755 / 638473465538540599 / Changed  (\"file1.txt\",   Some     \"1111111111111111111111111111111111\n",
      "524 / 638473465538541123 / Changed  (\"file1.txt\",   Some     \"11111111111111111111111111111111111\n",
      "36 / 638473465538541159 / Changed  (\"file1.txt\",   Some     \"111111111111111111111111111111111111\n",
      "72 / 638473465538541231 / Changed  (\"file1.txt\",   Some     \"111111111111111111111111111111111111\n",
      "13301 / 638473465538554532 / Changed  (\"file1.txt\",   Some     \"111111111111111111111111111111111\n",
      "8794 / 638473465538563326 / Created  (\"file2.txt\",   Some     \"2222222222222222222222222222222222\n",
      "153 / 638473465538563479 / Changed  (\"file2.txt\",   Some     \"22222222222222222222222222222222222\n",
      "78 / 638473465538563557 / Changed  (\"file2.txt\",   Some     \"222222222222222222222222222222222222\n",
      "480 / 638473465538564037 / Changed  (\"file2.txt\",   Some     \"22222222222222222222222222222222222\n",
      "78 / 638473465538564115 / Changed  (\"file2.txt\",   Some     \"222222222222222222222222222222222222\n",
      "195 / 638473465538564310 / Changed  (\"file2.txt\",   Some     \"22222222222222222222222222222222222\n",
      "193 / 638473465538564503 / Changed  (\"file2.txt\",   Some     \"22222222222222222222222222222222222\n",
      "149 / 638473465538564652 / Changed  (\"file2.txt\",   Some     \"22222222222222222222222222222222222\n",
      "215 / 638473465538564867 / Changed  (\"file2.txt\",   Some     \"22222222222222222222222222222222222\n",
      "84 / 638473465538564951 / Changed  (\"file2.txt\",   Some     \"222222222222222222222222222222222222\n",
      "975 / 638473465538565926 / Changed  (\"file2.txt\",   Some     \"22222222222222222222222222222222222\n",
      "154 / 638473465538566080 / Changed  (\"file2.txt\",   Some     \"22222222222222222222222222222222222\n",
      "131 / 638473465538566211 / Changed  (\"file2.txt\",   Some     \"22222222222222222222222222222222222\n",
      "403 / 638473465538566614 / Changed  (\"file2.txt\",   Some     \"22222222222222222222222222222222222\n",
      "170 / 638473465538566784 / Changed  (\"file2.txt\",   Some     \"22222222222222222222222222222222222\n",
      "154 / 638473465538566938 / Changed  (\"file2.txt\",   Some     \"22222222222222222222222222222222222\n",
      "753 / 638473465538567691 / Changed  (\"file2.txt\",   Some     \"22222222222222222222222222222222222\n",
      "66 / 638473465538567757 / Changed  (\"file2.txt\",   Some     \"222222222222222222222222222222222222\n",
      "205 / 638473465538567962 / Changed  (\"file2.txt\",   Some     \"22222222222222222222222222222222222\n",
      "645 / 638473465538568607 / Changed  (\"file2.txt\",   Some     \"22222222222222222222222222222222222\n",
      "174 / 638473465538568781 / Changed  (\"file2.txt\",   Some     \"22222222222222222222222222222222222\n",
      "128 / 638473465538568909 / Changed  (\"file2.txt\",   Some     \"22222222222222222222222222222222222\n",
      "641 / 638473465538569550 / Changed  (\"file2.txt\",   Some     \"22222222222222222222222222222222222\n",
      "152 / 638473465538569702 / Changed  (\"file2.txt\",   Some     \"22222222222222222222222222222222222\n",
      "849 / 638473465538570551 / Changed  (\"file2.txt\",   Some     \"22222222222222222222222222222222222\n",
      "59 / 638473465538570610 / Changed  (\"file2.txt\",   Some     \"222222222222222222222222222222222222\n",
      "152 / 638473465538570762 / Changed  (\"file2.txt\",   Some     \"22222222222222222222222222222222222\n",
      "902 / 638473465538571664 / Changed  (\"file2.txt\",   Some     \"22222222222222222222222222222222222\n",
      "61 / 638473465538571725 / Changed  (\"file2.txt\",   Some     \"222222222222222222222222222222222222\n",
      "139 / 638473465538571864 / Changed  (\"file2.txt\",   Some     \"22222222222222222222222222222222222\n",
      "626 / 638473465538572490 / Changed  (\"file2.txt\",   Some     \"22222222222222222222222222222222222\n",
      "33 / 638473465538572523 / Changed  (\"file2.txt\",   Some     \"222222222222222222222222222222222222\n",
      "143 / 638473465538572666 / Changed  (\"file2.txt\",   Some     \"22222222222222222222222222222222222\n",
      "613 / 638473465538573279 / Changed  (\"file2.txt\",   Some     \"22222222222222222222222222222222222\n",
      "70 / 638473465538573349 / Changed  (\"file2.txt\",   Some     \"222222222222222222222222222222222222\n",
      "153 / 638473465538573502 / Changed  (\"file2.txt\",   Some     \"22222222222222222222222222222222222\n",
      "1167 / 638473465538574669 / Changed  (\"file2.txt\",   Some     \"2222222222222222222222222222222222\n",
      "36 / 638473465538574705 / Changed  (\"file2.txt\",   Some     \"222222222222222222222222222222222222\n",
      "45 / 638473465538574750 / Changed  (\"file2.txt\",   Some     \"222222222222222222222222222222222222\n",
      "166 / 638473465538574916 / Changed  (\"file2.txt\",   Some     \"22222222222222222222222222222222222\n",
      "633 / 638473465538575549 / Changed  (\"file2.txt\",   Some     \"22222222222222222222222222222222222\n",
      "167 / 638473465538575716 / Changed  (\"file2.txt\",   Some     \"22222222222222222222222222222222222\n",
      "616 / 638473465538576332 / Changed  (\"file2.txt\",   Some     \"22222222222222222222222222222222222\n",
      "177 / 638473465538576509 / Changed  (\"file2.txt\",   Some     \"22222222222222222222222222222222222\n",
      "608 / 638473465538577117 / Changed  (\"file2.txt\",   Some     \"22222222222222222222222222222222222\n",
      "34 / 638473465538577151 / Changed  (\"file2.txt\",   Some     \"222222222222222222222222222222222222\n",
      "144 / 638473465538577295 / Changed  (\"file2.txt\",   Some     \"22222222222222222222222222222222222\n",
      "1331 / 638473465538578626 / Changed  (\"file2.txt\",   Some     \"2222222222222222222222222222222222\n",
      "71 / 638473465538578697 / Changed  (\"file2.txt\",   Some     \"222222222222222222222222222222222222\n",
      "35 / 638473465538578732 / Changed  (\"file2.txt\",   Some     \"222222222222222222222222222222222222\n",
      "162 / 638473465538578894 / Changed  (\"file2.txt\",   Some     \"22222222222222222222222222222222222\n",
      "132 / 638473465538579026 / Changed  (\"file2.txt\",   Some     \"22222222222222222222222222222222222\n",
      "694 / 638473465538579720 / Changed  (\"file2.txt\",   Some     \"22222222222222222222222222222222222\n",
      "60 / 638473465538579780 / Changed  (\"file2.txt\",   Some     \"222222222222222222222222222222222222\n",
      "6771 / 638473465538586551 / Changed  (\"file2.txt\",   Some     \"2222222222222222222222222222222222\n",
      "15015999 / 638473465553602550 / Changed  (\"file1.txt\",   Some     \"111111111111111111111111111111\n",
      "251 / 638473465553602801 / Changed  (\"file1.txt\",   Some     \"11111111111111111111111111111111111\n",
      "1057 / 638473465553603858 / Changed  (\"file1.txt\",   Some     \"1111111111111111111111111111111111\n",
      "99 / 638473465553603957 / Changed  (\"file1.txt\",   Some     \"111111111111111111111111111111111111\n",
      "338 / 638473465553604295 / Changed  (\"file1.txt\",   Some     \"11111111111111111111111111111111111\n",
      "53 / 638473465553604348 / Changed  (\"file1.txt\",   Some     \"111111111111111111111111111111111111\n",
      "345 / 638473465553604693 / Changed  (\"file1.txt\",   Some     \"11111111111111111111111111111111111\n",
      "126 / 638473465553604819 / Changed  (\"file1.txt\",   Some     \"11111111111111111111111111111111111\n",
      "325 / 638473465553605144 / Changed  (\"file1.txt\",   Some     \"11111111111111111111111111111111111\n",
      "139 / 638473465553605283 / Changed  (\"file1.txt\",   Some     \"11111111111111111111111111111111111\n",
      "213 / 638473465553605496 / Changed  (\"file1.txt\",   Some     \"11111111111111111111111111111111111\n",
      "360 / 638473465553605856 / Changed  (\"file1.txt\",   Some     \"11111111111111111111111111111111111\n",
      "503 / 638473465553606359 / Changed  (\"file1.txt\",   Some     \"11111111111111111111111111111111111\n",
      "521 / 638473465553606880 / Changed  (\"file1.txt\",   Some     \"11111111111111111111111111111111111\n",
      "80 / 638473465553606960 / Changed  (\"file1.txt\",   Some     \"111111111111111111111111111111111111\n",
      "413 / 638473465553607373 / Changed  (\"file1.txt\",   Some     \"11111111111111111111111111111111111\n",
      "36 / 638473465553607409 / Changed  (\"file1.txt\",   Some     \"111111111111111111111111111111111111\n",
      "131 / 638473465553607540 / Changed  (\"file1.txt\",   Some     \"11111111111111111111111111111111111\n",
      "190 / 638473465553607730 / Changed  (\"file1.txt\",   Some     \"11111111111111111111111111111111111\n",
      "160 / 638473465553607890 / Changed  (\"file1.txt\",   Some     \"11111111111111111111111111111111111\n",
      "105 / 638473465553607995 / Changed  (\"file1.txt\",   Some     \"11111111111111111111111111111111111\n",
      "270 / 638473465553608265 / Changed  (\"file1.txt\",   Some     \"11111111111111111111111111111111111\n",
      "52 / 638473465553608317 / Changed  (\"file1.txt\",   Some     \"111111111111111111111111111111111111\n",
      "193 / 638473465553608510 / Changed  (\"file1.txt\",   Some     \"11111111111111111111111111111111111\n",
      "45 / 638473465553608555 / Changed  (\"file1.txt\",   Some     \"111111111111111111111111111111111111\n",
      "281 / 638473465553608836 / Changed  (\"file1.txt\",   Some     \"11111111111111111111111111111111111\n",
      "57 / 638473465553608893 / Changed  (\"file1.txt\",   Some     \"111111111111111111111111111111111111\n",
      "196 / 638473465553609089 / Changed  (\"file1.txt\",   Some     \"11111111111111111111111111111111111\n",
      "56 / 638473465553609145 / Changed  (\"file1.txt\",   Some     \"111111111111111111111111111111111111\n",
      "623 / 638473465553609768 / Changed  (\"file1.txt\",   Some     \"11111111111111111111111111111111111\n",
      "192 / 638473465553609960 / Changed  (\"file1.txt\",   Some     \"11111111111111111111111111111111111\n",
      "336 / 638473465553610296 / Changed  (\"file1.txt\",   Some     \"11111111111111111111111111111111111\n",
      "55 / 638473465553610351 / Changed  (\"file1.txt\",   Some     \"111111111111111111111111111111111111\n",
      "189 / 638473465553610540 / Changed  (\"file1.txt\",   Some     \"11111111111111111111111111111111111\n",
      "49 / 638473465553610589 / Changed  (\"file1.txt\",   Some     \"111111111111111111111111111111111111\n",
      "317 / 638473465553610906 / Changed  (\"file1.txt\",   Some     \"11111111111111111111111111111111111\n",
      "51 / 638473465553610957 / Changed  (\"file1.txt\",   Some     \"111111111111111111111111111111111111\n",
      "163 / 638473465553611120 / Changed  (\"file1.txt\",   Some     \"11111111111111111111111111111111111\n",
      "182 / 638473465553611302 / Changed  (\"file1.txt\",   Some     \"11111111111111111111111111111111111\n",
      "46 / 638473465553611348 / Changed  (\"file1.txt\",   Some     \"111111111111111111111111111111111111\n",
      "327 / 638473465553611675 / Changed  (\"file1.txt\",   Some     \"11111111111111111111111111111111111\n",
      "45 / 638473465553611720 / Changed  (\"file1.txt\",   Some     \"111111111111111111111111111111111111\n",
      "189 / 638473465553611909 / Changed  (\"file1.txt\",   Some     \"11111111111111111111111111111111111\n",
      "40 / 638473465553611949 / Changed  (\"file1.txt\",   Some     \"111111111111111111111111111111111111\n",
      "300 / 638473465553612249 / Changed  (\"file1.txt\",   Some     \"11111111111111111111111111111111111\n",
      "50 / 638473465553612299 / Changed  (\"file1.txt\",   Some     \"111111111111111111111111111111111111\n",
      "193 / 638473465553612492 / Changed  (\"file1.txt\",   Some     \"11111111111111111111111111111111111\n",
      "313 / 638473465553612805 / Changed  (\"file1.txt\",   Some     \"11111111111111111111111111111111111\n",
      "43 / 638473465553612848 / Changed  (\"file1.txt\",   Some     \"111111111111111111111111111111111111\n",
      "233 / 638473465553613081 / Changed  (\"file1.txt\",   Some     \"11111111111111111111111111111111111\n",
      "332 / 638473465553613413 / Changed  (\"file1.txt\",   Some     \"11111111111111111111111111111111111\n",
      "268 / 638473465553613681 / Changed  (\"file1.txt\",   Some     \"11111111111111111111111111111111111\n",
      "52 / 638473465553613733 / Changed  (\"file1.txt\",   Some     \"111111111111111111111111111111111111\n",
      "184 / 638473465553613917 / Changed  (\"file1.txt\",   Some     \"11111111111111111111111111111111111\n",
      "135 / 638473465553614052 / Changed  (\"file1.txt\",   Some     \"11111111111111111111111111111111111\n",
      "328 / 638473465553614380 / Changed  (\"file1.txt\",   Some     \"11111111111111111111111111111111111\n",
      "125 / 638473465553614505 / Changed  (\"file1.txt\",   Some     \"11111111111111111111111111111111111\n",
      "192 / 638473465553614697 / Changed  (\"file1.txt\",   Some     \"11111111111111111111111111111111111\n",
      "49 / 638473465553614746 / Changed  (\"file1.txt\",   Some     \"111111111111111111111111111111111111\n",
      "273 / 638473465553615019 / Changed  (\"file1.txt\",   Some     \"11111111111111111111111111111111111\n",
      "45 / 638473465553615064 / Changed  (\"file1.txt\",   Some     \"111111111111111111111111111111111111\n",
      "275 / 638473465553615339 / Changed  (\"file1.txt\",   Some     \"11111111111111111111111111111111111\n",
      "37 / 638473465553615376 / Changed  (\"file1.txt\",   Some     \"111111111111111111111111111111111111\n",
      "287 / 638473465553615663 / Changed  (\"file1.txt\",   Some     \"11111111111111111111111111111111111\n",
      "44 / 638473465553615707 / Changed  (\"file1.txt\",   Some     \"111111111111111111111111111111111111\n",
      "245 / 638473465553615952 / Changed  (\"file1.txt\",   Some     \"11111111111111111111111111111111111\n",
      "134 / 638473465553616086 / Changed  (\"file1.txt\",   Some     \"11111111111111111111111111111111111\n",
      "144 / 638473465553616230 / Changed  (\"file1.txt\",   Some     \"11111111111111111111111111111111111\n",
      "229 / 638473465553616459 / Changed  (\"file1.txt\",   Some     \"11111111111111111111111111111111111\n",
      "41 / 638473465553616500 / Changed  (\"file1.txt\",   Some     \"111111111111111111111111111111111111\n",
      "243 / 638473465553616743 / Changed  (\"file1.txt\",   Some     \"11111111111111111111111111111111111\n",
      "135 / 638473465553616878 / Changed  (\"file1.txt\",   Some     \"11111111111111111111111111111111111\n",
      "145 / 638473465553617023 / Changed  (\"file1.txt\",   Some     \"11111111111111111111111111111111111\n",
      "94 / 638473465553617117 / Changed  (\"file1.txt\",   Some     \"111111111111111111111111111111111111\n",
      "231 / 638473465553617348 / Changed  (\"file1.txt\",   Some     \"11111111111111111111111111111111111\n",
      "40 / 638473465553617388 / Changed  (\"file1.txt\",   Some     \"111111111111111111111111111111111111\n",
      "360 / 638473465553617748 / Changed  (\"file1.txt\",   Some     \"11111111111111111111111111111111111\n",
      "179 / 638473465553617927 / Changed  (\"file1.txt\",   Some     \"11111111111111111111111111111111111\n",
      "208 / 638473465553618135 / Changed  (\"file1.txt\",   Some     \"11111111111111111111111111111111111\n",
      "44 / 638473465553618179 / Changed  (\"file1.txt\",   Some     \"111111111111111111111111111111111111\n",
      "245 / 638473465553618424 / Changed  (\"file1.txt\",   Some     \"11111111111111111111111111111111111\n",
      "126 / 638473465553618550 / Changed  (\"file1.txt\",   Some     \"11111111111111111111111111111111111\n",
      "195 / 638473465553618745 / Changed  (\"file1.txt\",   Some     \"11111111111111111111111111111111111\n",
      "371 / 638473465553619116 / Changed  (\"file1.txt\",   Some     \"11111111111111111111111111111111111\n",
      "166 / 638473465553619282 / Changed  (\"file1.txt\",   Some     \"11111111111111111111111111111111111\n",
      "96 / 638473465553619378 / Changed  (\"file1.txt\",   Some     \"111111111111111111111111111111111111\n",
      "251 / 638473465553619629 / Changed  (\"file1.txt\",   Some     \"11111111111111111111111111111111111\n",
      "153 / 638473465553619782 / Changed  (\"file1.txt\",   Some     \"11111111111111111111111111111111111\n",
      "149 / 638473465553619931 / Changed  (\"file1.txt\",   Some     \"11111111111111111111111111111111111\n",
      "204 / 638473465553620135 / Changed  (\"file1.txt\",   Some     \"11111111111111111111111111111111111\n",
      "41 / 638473465553620176 / Changed  (\"file1.txt\",   Some     \"111111111111111111111111111111111111\n",
      "240 / 638473465553620416 / Changed  (\"file1.txt\",   Some     \"11111111111111111111111111111111111\n",
      "135 / 638473465553620551 / Changed  (\"file1.txt\",   Some     \"11111111111111111111111111111111111\n",
      "142 / 638473465553620693 / Changed  (\"file1.txt\",   Some     \"11111111111111111111111111111111111\n",
      "149 / 638473465553620842 / Changed  (\"file1.txt\",   Some     \"11111111111111111111111111111111111\n",
      "224 / 638473465553621066 / Changed  (\"file1.txt\",   Some     \"11111111111111111111111111111111111\n",
      "50 / 638473465553621116 / Changed  (\"file1.txt\",   Some     \"111111111111111111111111111111111111\n",
      "265 / 638473465553621381 / Changed  (\"file1.txt\",   Some     \"11111111111111111111111111111111111\n",
      "275 / 638473465553621656 / Changed  (\"file1.txt\",   Some     \"11111111111111111111111111111111111\n",
      "258 / 638473465553621914 / Changed  (\"file1.txt\",   Some     \"11111111111111111111111111111111111\n",
      "110 / 638473465553622024 / Changed  (\"file1.txt\",   Some     \"11111111111111111111111111111111111\n",
      "251 / 638473465553622275 / Changed  (\"file1.txt\",   Some     \"11111111111111111111111111111111111\n",
      "39 / 638473465553622314 / Changed  (\"file1.txt\",   Some     \"111111111111111111111111111111111111\n",
      "255 / 638473465553622569 / Changed  (\"file1.txt\",   Some     \"11111111111111111111111111111111111\n",
      "208 / 638473465553622777 / Changed  (\"file1.txt\",   Some     \"11111111111111111111111111111111111\n",
      "105 / 638473465553622882 / Changed  (\"file1.txt\",   Some     \"11111111111111111111111111111111111\n",
      "156 / 638473465553623038 / Changed  (\"file1.txt\",   Some     \"11111111111111111111111111111111111\n",
      "137 / 638473465553623175 / Changed  (\"file1.txt\",   Some     \"11111111111111111111111111111111111\n",
      "148 / 638473465553623323 / Changed  (\"file1.txt\",   Some     \"11111111111111111111111111111111111\n",
      "300 / 638473465553623623 / Changed  (\"file1.txt\",   Some     \"11111111111111111111111111111111111\n",
      "210 / 638473465553623833 / Changed  (\"file1.txt\",   Some     \"11111111111111111111111111111111111\n",
      "151 / 638473465553623984 / Changed  (\"file1.txt\",   Some     \"11111111111111111111111111111111111\n",
      "148 / 638473465553624132 / Changed  (\"file1.txt\",   Some     \"11111111111111111111111111111111111\n",
      "149 / 638473465553624281 / Changed  (\"file1.txt\",   Some     \"11111111111111111111111111111111111\n",
      "279 / 638473465553624560 / Changed  (\"file1.txt\",   Some     \"11111111111111111111111111111111111\n",
      "47 / 638473465553624607 / Changed  (\"file1.txt\",   Some     \"111111111111111111111111111111111111\n",
      "281 / 638473465553624888 / Changed  (\"file1.txt\",   Some     \"11111111111111111111111111111111111\n",
      "39 / 638473465553624927 / Changed  (\"file1.txt\",   Some     \"111111111111111111111111111111111111\n",
      "289 / 638473465553625216 / Changed  (\"file1.txt\",   Some     \"11111111111111111111111111111111111\n",
      "154 / 638473465553625370 / Changed  (\"file1.txt\",   Some     \"11111111111111111111111111111111111\n",
      "97 / 638473465553625467 / Changed  (\"file1.txt\",   Some     \"111111111111111111111111111111111111\n",
      "103 / 638473465553625570 / Changed  (\"file1.txt\",   Some     \"11111111111111111111111111111111111\n",
      "54864 / 638473465553680434 / Changed  (\"file2.txt\",   Some     \"222222222222222222222222222222222\n",
      "128 / 638473465553680562 / Changed  (\"file2.txt\",   Some     \"22222222222222222222222222222222222\n",
      "397 / 638473465553680959 / Changed  (\"file2.txt\",   Some     \"22222222222222222222222222222222222\n",
      "172 / 638473465553681131 / Changed  (\"file2.txt\",   Some     \"22222222222222222222222222222222222\n",
      "106 / 638473465553681237 / Changed  (\"file2.txt\",   Some     \"22222222222222222222222222222222222\n",
      "196 / 638473465553681433 / Changed  (\"file2.txt\",   Some     \"22222222222222222222222222222222222\n",
      "157 / 638473465553681590 / Changed  (\"file2.txt\",   Some     \"22222222222222222222222222222222222\n",
      "103 / 638473465553681693 / Changed  (\"file2.txt\",   Some     \"22222222222222222222222222222222222\n",
      "207 / 638473465553681900 / Changed  (\"file2.txt\",   Some     \"22222222222222222222222222222222222\n",
      "166 / 638473465553682066 / Changed  (\"file2.txt\",   Some     \"22222222222222222222222222222222222\n",
      "206 / 638473465553682272 / Changed  (\"file2.txt\",   Some     \"22222222222222222222222222222222222\n",
      "42 / 638473465553682314 / Changed  (\"file2.txt\",   Some     \"222222222222222222222222222222222222\n",
      "209 / 638473465553682523 / Changed  (\"file2.txt\",   Some     \"22222222222222222222222222222222222\n",
      "114 / 638473465553682637 / Changed  (\"file2.txt\",   Some     \"22222222222222222222222222222222222\n",
      "176 / 638473465553682813 / Changed  (\"file2.txt\",   Some     \"22222222222222222222222222222222222\n",
      "167 / 638473465553682980 / Changed  (\"file2.txt\",   Some     \"22222222222222222222222222222222222\n",
      "189 / 638473465553683169 / Changed  (\"file2.txt\",   Some     \"22222222222222222222222222222222222\n",
      "153 / 638473465553683322 / Changed  (\"file2.txt\",   Some     \"22222222222222222222222222222222222\n",
      "102 / 638473465553683424 / Changed  (\"file2.txt\",   Some     \"22222222222222222222222222222222222\n",
      "211 / 638473465553683635 / Changed  (\"file2.txt\",   Some     \"22222222222222222222222222222222222\n",
      "102 / 638473465553683737 / Changed  (\"file2.txt\",   Some     \"22222222222222222222222222222222222\n",
      "208 / 638473465553683945 / Changed  (\"file2.txt\",   Some     \"22222222222222222222222222222222222\n",
      "101 / 638473465553684046 / Changed  (\"file2.txt\",   Some     \"22222222222222222222222222222222222\n",
      "189 / 638473465553684235 / Changed  (\"file2.txt\",   Some     \"22222222222222222222222222222222222\n",
      "198 / 638473465553684433 / Changed  (\"file2.txt\",   Some     \"22222222222222222222222222222222222\n",
      "108 / 638473465553684541 / Changed  (\"file2.txt\",   Some     \"22222222222222222222222222222222222\n",
      "210 / 638473465553684751 / Changed  (\"file2.txt\",   Some     \"22222222222222222222222222222222222\n",
      "119 / 638473465553684870 / Changed  (\"file2.txt\",   Some     \"22222222222222222222222222222222222\n",
      "203 / 638473465553685073 / Changed  (\"file2.txt\",   Some     \"22222222222222222222222222222222222\n",
      "159 / 638473465553685232 / Changed  (\"file2.txt\",   Some     \"22222222222222222222222222222222222\n",
      "161 / 638473465553685393 / Changed  (\"file2.txt\",   Some     \"22222222222222222222222222222222222\n",
      "215 / 638473465553685608 / Changed  (\"file2.txt\",   Some     \"22222222222222222222222222222222222\n",
      "196 / 638473465553685804 / Changed  (\"file2.txt\",   Some     \"22222222222222222222222222222222222\n",
      "155 / 638473465553685959 / Changed  (\"file2.txt\",   Some     \"22222222222222222222222222222222222\n",
      "205 / 638473465553686164 / Changed  (\"file2.txt\",   Some     \"22222222222222222222222222222222222\n",
      "170 / 638473465553686334 / Changed  (\"file2.txt\",   Some     \"22222222222222222222222222222222222\n",
      "379 / 638473465553686713 / Changed  (\"file2.txt\",   Some     \"22222222222222222222222222222222222\n",
      "229 / 638473465553686942 / Changed  (\"file2.txt\",   Some     \"22222222222222222222222222222222222\n",
      "205 / 638473465553687147 / Changed  (\"file2.txt\",   Some     \"22222222222222222222222222222222222\n",
      "265 / 638473465553687412 / Changed  (\"file2.txt\",   Some     \"22222222222222222222222222222222222\n",
      "47 / 638473465553687459 / Changed  (\"file2.txt\",   Some     \"222222222222222222222222222222222222\n",
      "193 / 638473465553687652 / Changed  (\"file2.txt\",   Some     \"22222222222222222222222222222222222\n",
      "156 / 638473465553687808 / Changed  (\"file2.txt\",   Some     \"22222222222222222222222222222222222\n",
      "200 / 638473465553688008 / Changed  (\"file2.txt\",   Some     \"22222222222222222222222222222222222\n",
      "206 / 638473465553688214 / Changed  (\"file2.txt\",   Some     \"22222222222222222222222222222222222\n",
      "163 / 638473465553688377 / Changed  (\"file2.txt\",   Some     \"22222222222222222222222222222222222\n",
      "221 / 638473465553688598 / Changed  (\"file2.txt\",   Some     \"22222222222222222222222222222222222\n",
      "162 / 638473465553688760 / Changed  (\"file2.txt\",   Some     \"22222222222222222222222222222222222\n",
      "199 / 638473465553688959 / Changed  (\"file2.txt\",   Some     \"22222222222222222222222222222222222\n",
      "109 / 638473465553689068 / Changed  (\"file2.txt\",   Some     \"22222222222222222222222222222222222\n",
      "217 / 638473465553689285 / Changed  (\"file2.txt\",   Some     \"22222222222222222222222222222222222\n",
      "161 / 638473465553689446 / Changed  (\"file2.txt\",   Some     \"22222222222222222222222222222222222\n",
      "188 / 638473465553689634 / Changed  (\"file2.txt\",   Some     \"22222222222222222222222222222222222\n",
      "185 / 638473465553689819 / Changed  (\"file2.txt\",   Some     \"22222222222222222222222222222222222\n",
      "195 / 638473465553690014 / Changed  (\"file2.txt\",   Some     \"22222222222222222222222222222222222\n",
      "198 / 638473465553690212 / Changed  (\"file2.txt\",   Some     \"22222222222222222222222222222222222\n",
      "186 / 638473465553690398 / Changed  (\"file2.txt\",   Some     \"22222222222222222222222222222222222\n",
      "95 / 638473465553690493 / Changed  (\"file2.txt\",   Some     \"222222222222222222222222222222222222\n",
      "215 / 638473465553690708 / Changed  (\"file2.txt\",   Some     \"22222222222222222222222222222222222\n",
      "181 / 638473465553690889 / Changed  (\"file2.txt\",   Some     \"22222222222222222222222222222222222\n",
      "175 / 638473465553691064 / Changed  (\"file2.txt\",   Some     \"22222222222222222222222222222222222\n",
      "187 / 638473465553691251 / Changed  (\"file2.txt\",   Some     \"22222222222222222222222222222222222\n",
      "194 / 638473465553691445 / Changed  (\"file2.txt\",   Some     \"22222222222222222222222222222222222\n",
      "151 / 638473465553691596 / Changed  (\"file2.txt\",   Some     \"22222222222222222222222222222222222\n",
      "190 / 638473465553691786 / Changed  (\"file2.txt\",   Some     \"22222222222222222222222222222222222\n",
      "174 / 638473465553691960 / Changed  (\"file2.txt\",   Some     \"22222222222222222222222222222222222\n",
      "193 / 638473465553692153 / Changed  (\"file2.txt\",   Some     \"22222222222222222222222222222222222\n",
      "184 / 638473465553692337 / Changed  (\"file2.txt\",   Some     \"22222222222222222222222222222222222\n",
      "196 / 638473465553692533 / Changed  (\"file2.txt\",   Some     \"22222222222222222222222222222222222\n",
      "185 / 638473465553692718 / Changed  (\"file2.txt\",   Some     \"22222222222222222222222222222222222\n",
      "193 / 638473465553692911 / Changed  (\"file2.txt\",   Some     \"22222222222222222222222222222222222\n",
      "175 / 638473465553693086 / Changed  (\"file2.txt\",   Some     \"22222222222222222222222222222222222\n",
      "195 / 638473465553693281 / Changed  (\"file2.txt\",   Some     \"22222222222222222222222222222222222\n",
      "150 / 638473465553693431 / Changed  (\"file2.txt\",   Some     \"22222222222222222222222222222222222\n",
      "188 / 638473465553693619 / Changed  (\"file2.txt\",   Some     \"22222222222222222222222222222222222\n",
      "179 / 638473465553693798 / Changed  (\"file2.txt\",   Some     \"22222222222222222222222222222222222\n",
      "196 / 638473465553693994 / Changed  (\"file2.txt\",   Some     \"22222222222222222222222222222222222\n",
      "182 / 638473465553694176 / Changed  (\"file2.txt\",   Some     \"22222222222222222222222222222222222\n",
      "183 / 638473465553694359 / Changed  (\"file2.txt\",   Some     \"22222222222222222222222222222222222\n",
      "180 / 638473465553694539 / Changed  (\"file2.txt\",   Some     \"22222222222222222222222222222222222\n",
      "178 / 638473465553694717 / Changed  (\"file2.txt\",   Some     \"22222222222222222222222222222222222\n",
      "177 / 638473465553694894 / Changed  (\"file2.txt\",   Some     \"22222222222222222222222222222222222\n",
      "195 / 638473465553695089 / Changed  (\"file2.txt\",   Some     \"22222222222222222222222222222222222\n",
      "159 / 638473465553695248 / Changed  (\"file2.txt\",   Some     \"22222222222222222222222222222222222\n",
      "205 / 638473465553695453 / Changed  (\"file2.txt\",   Some     \"22222222222222222222222222222222222\n",
      "189 / 638473465553695642 / Changed  (\"file2.txt\",   Some     \"22222222222222222222222222222222222\n",
      "186 / 638473465553695828 / Changed  (\"file2.txt\",   Some     \"22222222222222222222222222222222222\n",
      "183 / 638473465553696011 / Changed  (\"file2.txt\",   Some     \"22222222222222222222222222222222222\n",
      "178 / 638473465553696189 / Changed  (\"file2.txt\",   Some     \"22222222222222222222222222222222222\n",
      "179 / 638473465553696368 / Changed  (\"file2.txt\",   Some     \"22222222222222222222222222222222222\n",
      "145 / 638473465553696513 / Changed  (\"file2.txt\",   Some     \"22222222222222222222222222222222222\n",
      "227 / 638473465553696740 / Changed  (\"file2.txt\",   Some     \"22222222222222222222222222222222222\n",
      "188 / 638473465553696928 / Changed  (\"file2.txt\",   Some     \"22222222222222222222222222222222222\n",
      "150 / 638473465553697078 / Changed  (\"file2.txt\",   Some     \"22222222222222222222222222222222222\n",
      "191 / 638473465553697269 / Changed  (\"file2.txt\",   Some     \"22222222222222222222222222222222222\n",
      "192 / 638473465553697461 / Changed  (\"file2.txt\",   Some     \"22222222222222222222222222222222222\n",
      "195 / 638473465553697656 / Changed  (\"file2.txt\",   Some     \"22222222222222222222222222222222222\n",
      "152 / 638473465553697808 / Changed  (\"file2.txt\",   Some     \"22222222222222222222222222222222222\n",
      "197 / 638473465553698005 / Changed  (\"file2.txt\",   Some     \"22222222222222222222222222222222222\n",
      "198 / 638473465553698203 / Changed  (\"file2.txt\",   Some     \"22222222222222222222222222222222222\n",
      "183 / 638473465553698386 / Changed  (\"file2.txt\",   Some     \"22222222222222222222222222222222222\n",
      "182 / 638473465553698568 / Changed  (\"file2.txt\",   Some     \"22222222222222222222222222222222222\n",
      "184 / 638473465553698752 / Changed  (\"file2.txt\",   Some     \"22222222222222222222222222222222222\n",
      "147 / 638473465553698899 / Changed  (\"file2.txt\",   Some     \"22222222222222222222222222222222222\n",
      "194 / 638473465553699093 / Changed  (\"file2.txt\",   Some     \"22222222222222222222222222222222222\n",
      "177 / 638473465553699270 / Changed  (\"file2.txt\",   Some     \"22222222222222222222222222222222222\n",
      "206 / 638473465553699476 / Changed  (\"file2.txt\",   Some     \"22222222222222222222222222222222222\n",
      "211 / 638473465553699687 / Changed  (\"file2.txt\",   Some     \"22222222222222222222222222222222222\n",
      "181 / 638473465553699868 / Changed  (\"file2.txt\",   Some     \"22222222222222222222222222222222222\n",
      "186 / 638473465553700054 / Changed  (\"file2.txt\",   Some     \"22222222222222222222222222222222222\n",
      "209 / 638473465553700263 / Changed  (\"file2.txt\",   Some     \"22222222222222222222222222222222222\n",
      "141 / 638473465553700404 / Changed  (\"file2.txt\",   Some     \"22222222222222222222222222222222222\n",
      "193 / 638473465553700597 / Changed  (\"file2.txt\",   Some     \"22222222222222222222222222222222222\n",
      "176 / 638473465553700773 / Changed  (\"file2.txt\",   Some     \"22222222222222222222222222222222222\n",
      "199 / 638473465553700972 / Changed  (\"file2.txt\",   Some     \"22222222222222222222222222222222222\n",
      "196 / 638473465553701168 / Changed  (\"file2.txt\",   Some     \"22222222222222222222222222222222222\n",
      "327 / 638473465553701495 / Changed  (\"file2.txt\",   Some     \"22222222222222222222222222222222222\n",
      "140 / 638473465553701635 / Changed  (\"file2.txt\",   Some     \"22222222222222222222222222222222222\n",
      "220 / 638473465553701855 / Changed  (\"file2.txt\",   Some     \"22222222222222222222222222222222222\n",
      "145 / 638473465553702000 / Changed  (\"file2.txt\",   Some     \"22222222222222222222222222222222222\n",
      "213 / 638473465553702213 / Changed  (\"file2.txt\",   Some     \"22222222222222222222222222222222222\n",
      "147 / 638473465553702360 / Changed  (\"file2.txt\",   Some     \"22222222222222222222222222222222222\n",
      "197 / 638473465553702557 / Changed  (\"file2.txt\",   Some     \"22222222222222222222222222222222222\n",
      "21 / 638473465553702578 / Changed  (\"file2.txt\",   Some     \"222222222222222222222222222222222222\n",
      "15010415 / 638473465568712993 / Renamed  (\"file1.txt\",   (\"file_1.txt\",    Some      \"1111111111\n",
      "347 / 638473465568713340 / Renamed  (\"file2.txt\",   (\"file_2.txt\",    Some      \"222222222222222\n",
      "15075763 / 638473465583789103 / Changed  (\"file_1.txt\",   Some     \"11111111111111111111111111111\n",
      "225 / 638473465583789328 / Changed  (\"file_1.txt\",   Some     \"1111111111111111111111111111111111\n",
      "691 / 638473465583790019 / Changed  (\"file_1.txt\",   Some     \"1111111111111111111111111111111111\n",
      "803 / 638473465583790822 / Changed  (\"file_1.txt\",   Some     \"1111111111111111111111111111111111\n",
      "71 / 638473465583790893 / Changed  (\"file_1.txt\",   Some     \"11111111111111111111111111111111111\n",
      "5426 / 638473465583796319 / Changed  (\"file_1.txt\",   Some     \"111111111111111111111111111111111\n",
      "51 / 638473465583796370 / Changed  (\"file_1.txt\",   Some     \"11111111111111111111111111111111111\n",
      "303 / 638473465583796673 / Changed  (\"file_1.txt\",   Some     \"1111111111111111111111111111111111\n",
      "233 / 638473465583796906 / Changed  (\"file_1.txt\",   Some     \"1111111111111111111111111111111111\n",
      "237 / 638473465583797143 / Changed  (\"file_1.txt\",   Some     \"1111111111111111111111111111111111\n",
      "145 / 638473465583797288 / Changed  (\"file_1.txt\",   Some     \"1111111111111111111111111111111111\n",
      "227 / 638473465583797515 / Changed  (\"file_1.txt\",   Some     \"1111111111111111111111111111111111\n",
      "551 / 638473465583798066 / Changed  (\"file_1.txt\",   Some     \"1111111111111111111111111111111111\n",
      "263 / 638473465583798329 / Changed  (\"file_1.txt\",   Some     \"1111111111111111111111111111111111\n",
      "148 / 638473465583798477 / Changed  (\"file_1.txt\",   Some     \"1111111111111111111111111111111111\n",
      "171 / 638473465583798648 / Changed  (\"file_1.txt\",   Some     \"1111111111111111111111111111111111\n",
      "168 / 638473465583798816 / Changed  (\"file_1.txt\",   Some     \"1111111111111111111111111111111111\n",
      "163 / 638473465583798979 / Changed  (\"file_1.txt\",   Some     \"1111111111111111111111111111111111\n",
      "145 / 638473465583799124 / Changed  (\"file_1.txt\",   Some     \"1111111111111111111111111111111111\n",
      "158 / 638473465583799282 / Changed  (\"file_1.txt\",   Some     \"1111111111111111111111111111111111\n",
      "172 / 638473465583799454 / Changed  (\"file_1.txt\",   Some     \"1111111111111111111111111111111111\n",
      "168 / 638473465583799622 / Changed  (\"file_1.txt\",   Some     \"1111111111111111111111111111111111\n",
      "185 / 638473465583799807 / Changed  (\"file_1.txt\",   Some     \"1111111111111111111111111111111111\n",
      "139 / 638473465583799946 / Changed  (\"file_1.txt\",   Some     \"1111111111111111111111111111111111\n",
      "4908 / 638473465583804854 / Changed  (\"file_1.txt\",   Some     \"111111111111111111111111111111111\n",
      "275 / 638473465583805129 / Changed  (\"file_1.txt\",   Some     \"1111111111111111111111111111111111\n",
      "379 / 638473465583805508 / Changed  (\"file_1.txt\",   Some     \"1111111111111111111111111111111111\n",
      "35 / 638473465583805543 / Changed  (\"file_1.txt\",   Some     \"11111111111111111111111111111111111\n",
      "169 / 638473465583805712 / Changed  (\"file_1.txt\",   Some     \"1111111111111111111111111111111111\n",
      "887 / 638473465583806599 / Changed  (\"file_1.txt\",   Some     \"1111111111111111111111111111111111\n",
      "58 / 638473465583806657 / Changed  (\"file_1.txt\",   Some     \"11111111111111111111111111111111111\n",
      "182 / 638473465583806839 / Changed  (\"file_1.txt\",   Some     \"1111111111111111111111111111111111\n",
      "124 / 638473465583806963 / Changed  (\"file_1.txt\",   Some     \"1111111111111111111111111111111111\n",
      "167 / 638473465583807130 / Changed  (\"file_1.txt\",   Some     \"1111111111111111111111111111111111\n",
      "179 / 638473465583807309 / Changed  (\"file_1.txt\",   Some     \"1111111111111111111111111111111111\n",
      "178 / 638473465583807487 / Changed  (\"file_1.txt\",   Some     \"1111111111111111111111111111111111\n",
      "148 / 638473465583807635 / Changed  (\"file_1.txt\",   Some     \"1111111111111111111111111111111111\n",
      "213 / 638473465583807848 / Changed  (\"file_1.txt\",   Some     \"1111111111111111111111111111111111\n",
      "693 / 638473465583808541 / Changed  (\"file_1.txt\",   Some     \"1111111111111111111111111111111111\n",
      "139 / 638473465583808680 / Changed  (\"file_1.txt\",   Some     \"1111111111111111111111111111111111\n",
      "143 / 638473465583808823 / Changed  (\"file_1.txt\",   Some     \"1111111111111111111111111111111111\n",
      "169 / 638473465583808992 / Changed  (\"file_1.txt\",   Some     \"1111111111111111111111111111111111\n",
      "113 / 638473465583809105 / Changed  (\"file_1.txt\",   Some     \"1111111111111111111111111111111111\n",
      "44965 / 638473465583854070 / Changed  (\"file_2.txt\",   Some     \"22222222222222222222222222222222\n",
      "145 / 638473465583854215 / Changed  (\"file_2.txt\",   Some     \"2222222222222222222222222222222222\n",
      "458 / 638473465583854673 / Changed  (\"file_2.txt\",   Some     \"2222222222222222222222222222222222\n",
      "322 / 638473465583854995 / Changed  (\"file_2.txt\",   Some     \"2222222222222222222222222222222222\n",
      "251 / 638473465583855246 / Changed  (\"file_2.txt\",   Some     \"2222222222222222222222222222222222\n",
      "180 / 638473465583855426 / Changed  (\"file_2.txt\",   Some     \"2222222222222222222222222222222222\n",
      "175 / 638473465583855601 / Changed  (\"file_2.txt\",   Some     \"2222222222222222222222222222222222\n",
      "863 / 638473465583856464 / Changed  (\"file_2.txt\",   Some     \"2222222222222222222222222222222222\n",
      "185 / 638473465583856649 / Changed  (\"file_2.txt\",   Some     \"2222222222222222222222222222222222\n",
      "1099 / 638473465583857748 / Changed  (\"file_2.txt\",   Some     \"222222222222222222222222222222222\n",
      "4718 / 638473465583862466 / Changed  (\"file_2.txt\",   Some     \"222222222222222222222222222222222\n",
      "36 / 638473465583862502 / Changed  (\"file_2.txt\",   Some     \"22222222222222222222222222222222222\n",
      "9156 / 638473465583871658 / Changed  (\"file_2.txt\",   Some     \"222222222222222222222222222222222\n",
      "56 / 638473465583871714 / Changed  (\"file_2.txt\",   Some     \"22222222222222222222222222222222222\n",
      "7290 / 638473465583879004 / Changed  (\"file_2.txt\",   Some     \"222222222222222222222222222222222\n",
      "12404 / 638473465583891408 / Changed  (\"file_2.txt\",   Some     \"22222222222222222222222222222222\n",
      "356 / 638473465583891764 / Changed  (\"file_2.txt\",   Some     \"2222222222222222222222222222222222\n",
      "297 / 638473465583892061 / Changed  (\"file_2.txt\",   Some     \"2222222222222222222222222222222222\n",
      "285 / 638473465583892346 / Changed  (\"file_2.txt\",   Some     \"2222222222222222222222222222222222\n",
      "206 / 638473465583892552 / Changed  (\"file_2.txt\",   Some     \"2222222222222222222222222222222222\n",
      "15031101 / 638473465598923653 / Deleted \"file_1.txt\"\n",
      "3092 / 638473465598926745 / Deleted \"file_2.txt\"\n",
      "FSharpList<FileSystemChange>\n",
      "      - path: file1.txt\n",
      "        content: FSharpOption<String>\n",
      "          Value: 1a\n",
      "        IsFailure: False\n",
      "        IsChanged: False\n",
      "        IsCreated: True\n",
      "        IsDeleted: False\n",
      "        IsRenamed: False\n",
      "      - path: file1.txt\n",
      "        content: FSharpOption<String>\n",
      "          Value: 1a\n",
      "        IsFailure: False\n",
      "        IsChanged: True\n",
      "        IsCreated: False\n",
      "        IsDeleted: False\n",
      "        IsRenamed: False\n",
      "      - path: file2.txt\n",
      "        content: FSharpOption<String>\n",
      "          Value: 2a\n",
      "        IsFailure: False\n",
      "        IsChanged: False\n",
      "        IsCreated: True\n",
      "        IsDeleted: False\n",
      "        IsRenamed: False\n",
      "      - path: file2.txt\n",
      "        content: FSharpOption<String>\n",
      "          Value: 2a\n",
      "        IsFailure: False\n",
      "        IsChanged: True\n",
      "        IsCreated: False\n",
      "        IsDeleted: False\n",
      "        IsRenamed: False\n",
      "      - path: file1.txt\n",
      "        content: FSharpOption<String>\n",
      "          Value: 1b\n",
      "        IsFailure: False\n",
      "        IsChanged: True\n",
      "        IsCreated: False\n",
      "        IsDeleted: False\n",
      "        IsRenamed: False\n",
      "      - path: file2.txt\n",
      "        content: FSharpOption<String>\n",
      "          Value: 2b\n",
      "        IsFailure: False\n",
      "        IsChanged: True\n",
      "        IsCreated: False\n",
      "        IsDeleted: False\n",
      "        IsRenamed: False\n",
      "      - oldPath: file1.txt\n",
      "        Item2:         - file_1.txt\n",
      "        - FSharpOption<String>\n",
      "            Value: 1b\n",
      "      - IsFailure: False\n",
      "        IsChanged: False\n",
      "        IsCreated: False\n",
      "        IsDeleted: False\n",
      "        IsRenamed: True\n",
      "      - oldPath: file2.txt\n",
      "        Item2:         - file_2.txt\n",
      "        - FSharpOption<String>\n",
      "            Value: 2b\n",
      "      - IsFailure: False\n",
      "        IsChanged: False\n",
      "        IsCreated: False\n",
      "        IsDeleted: False\n",
      "        IsRenamed: True\n",
      "      - path: file_1.txt\n",
      "        content: FSharpOption<String>\n",
      "          Value: 1c\n",
      "        IsFailure: False\n",
      "        IsChanged: True\n",
      "        IsCreated: False\n",
      "        IsDeleted: False\n",
      "        IsRenamed: False\n",
      "      - path: file_2.txt\n",
      "        content: FSharpOption<String>\n",
      "          Value: 2c\n",
      "        IsFailure: False\n",
      "        IsChanged: True\n",
      "        IsCreated: False\n",
      "        IsDeleted: False\n",
      "        IsRenamed: False\n",
      "      - path: file_1.txt\n",
      "        IsFailure: False\n",
      "        IsChanged: False\n",
      "        IsCreated: False\n",
      "        IsDeleted: True\n",
      "        IsRenamed: False\n",
      "      - path: file_2.txt\n",
      "        IsFailure: False\n",
      "        IsChanged: False\n",
      "        IsCreated: False\n",
      "        IsDeleted: True\n",
      "        IsRenamed: False\n",
      "FSharpOption<Unit>\n",
      "      Value: <null>\n"
     ]
    }
   ],
   "source": [
    "//// test\n",
    "\n",
    "let inline write path = async {\n",
    "    let n = 2\n",
    "\n",
    "    let contents =\n",
    "        [ 1 .. n ]\n",
    "        |> List.map (string >> String.replicate 1_000_000)\n",
    "\n",
    "    for i = 1 to n do\n",
    "        do! $\"{contents.[i - 1]}a\" |> writeAllTextAsync (path </> $\"file{i}.txt\")\n",
    "\n",
    "    do! Async.Sleep 1500\n",
    "\n",
    "    for i = 1 to n do\n",
    "        do! $\"{contents.[i - 1]}b\" |> writeAllTextAsync (path </> $\"file{i}.txt\")\n",
    "\n",
    "    do! Async.Sleep 1500\n",
    "\n",
    "    for i = 1 to n do\n",
    "        do! path </> $\"file{i}.txt\" |> moveFileAsync (path </> $\"file_{i}.txt\") |> Async.Ignore\n",
    "\n",
    "    do! Async.Sleep 1500\n",
    "\n",
    "    for i = 1 to n do\n",
    "        do! $\"{contents.[i - 1]}c\" |> writeAllTextAsync (path </> $\"file_{i}.txt\")\n",
    "\n",
    "    do! Async.Sleep 1500\n",
    "\n",
    "    for i = 1 to n do\n",
    "        do! deleteFileAsync (path </> $\"file_{i}.txt\") |> Async.Ignore\n",
    "\n",
    "    do! Async.Sleep 1500\n",
    "}\n",
    "\n",
    "let inline run () =\n",
    "    let events =\n",
    "        testEventsRaw watchDirectory write\n",
    "        |> List.map (function\n",
    "            | FileSystemChange.Changed (path, Some content) ->\n",
    "                FileSystemChange.Changed (path, content |> Seq.distinct |> Seq.map string |> String.concat \"\" |> Some)\n",
    "            | FileSystemChange.Created (path, Some content) ->\n",
    "                FileSystemChange.Created (path, content |> Seq.distinct |> Seq.map string |> String.concat \"\" |> Some)\n",
    "            | FileSystemChange.Renamed (oldPath, (newPath, Some content)) ->\n",
    "                FileSystemChange.Renamed (\n",
    "                    oldPath,\n",
    "                    (newPath, content |> Seq.distinct |> Seq.map string |> String.concat \"\" |> Some)\n",
    "                )\n",
    "            | event -> event\n",
    "        )\n",
    "\n",
    "    events\n",
    "    |> _sequenceEqual [\n",
    "        FileSystemChange.Created (\"file1.txt\", Some \"1a\")\n",
    "        FileSystemChange.Changed (\"file1.txt\", Some \"1a\")\n",
    "        FileSystemChange.Created (\"file2.txt\", Some \"2a\")\n",
    "        FileSystemChange.Changed (\"file2.txt\", Some \"2a\")\n",
    "\n",
    "        FileSystemChange.Changed (\"file1.txt\", Some \"1b\")\n",
    "        FileSystemChange.Changed (\"file2.txt\", Some \"2b\")\n",
    "\n",
    "        FileSystemChange.Renamed (\"file1.txt\", (\"file_1.txt\", Some \"1b\"))\n",
    "        FileSystemChange.Renamed (\"file2.txt\", (\"file_2.txt\", Some \"2b\"))\n",
    "\n",
    "        FileSystemChange.Changed (\"file_1.txt\", Some \"1c\")\n",
    "        FileSystemChange.Changed (\"file_2.txt\", Some \"2c\")\n",
    "\n",
    "        FileSystemChange.Deleted \"file_1.txt\"\n",
    "        FileSystemChange.Deleted \"file_2.txt\"\n",
    "    ]\n",
    "\n",
    "run\n",
    "|> retry_fn 5\n",
    "|> _assertEqual (Some ())"
   ]
  },
  {
   "cell_type": "markdown",
   "metadata": {},
   "source": [
    "### testEventsSorted (test)"
   ]
  },
  {
   "cell_type": "code",
   "execution_count": null,
   "metadata": {
    "dotnet_interactive": {
     "language": "fsharp"
    },
    "polyglot_notebook": {
     "kernelName": "fsharp"
    }
   },
   "outputs": [],
   "source": [
    "//// test\n",
    "\n",
    "let inline sortEvent event =\n",
    "    match event with\n",
    "    | FileSystemChange.Failure _ -> 0\n",
    "    | FileSystemChange.Created _ -> 1\n",
    "    | FileSystemChange.Changed _ -> 2\n",
    "    | FileSystemChange.Renamed (_oldPath, _) -> 3\n",
    "    | FileSystemChange.Deleted _ -> 4\n",
    "\n",
    "let inline formatEvents events =\n",
    "    events\n",
    "    |> Seq.toList\n",
    "    |> List.sortBy (snd >> sortEvent)\n",
    "    |> List.choose (fun (ticks, event) ->\n",
    "        match event with\n",
    "        | FileSystemChange.Failure _ ->\n",
    "            None\n",
    "        | FileSystemChange.Changed (path, _) ->\n",
    "            Some (ticks, System.IO.Path.GetFileName path, nameof FileSystemChangeType.Changed)\n",
    "        | FileSystemChange.Created (path, _) ->\n",
    "            Some (ticks, System.IO.Path.GetFileName path, nameof FileSystemChangeType.Created)\n",
    "        | FileSystemChange.Deleted path ->\n",
    "            Some (ticks, System.IO.Path.GetFileName path, nameof FileSystemChangeType.Deleted)\n",
    "        | FileSystemChange.Renamed (_oldPath, (path, _)) ->\n",
    "            Some (ticks, System.IO.Path.GetFileName path, nameof FileSystemChangeType.Renamed)\n",
    "    )\n",
    "    |> List.sortBy (fun (_, path, _) -> path)\n",
    "    |> List.distinctBy (fun (_, path, event) -> path, event)\n",
    "\n",
    "let inline testEventsSorted\n",
    "    (watchFn : string -> FSharp.Control.AsyncSeq<int64 * FileSystemChange> * IDisposable)\n",
    "    write\n",
    "    =\n",
    "    let path = createTempDirectory ()\n",
    "    let stream, disposable = watchFn path\n",
    "\n",
    "    let events = System.Collections.Concurrent.ConcurrentBag ()\n",
    "\n",
    "    let inline iter () =\n",
    "        stream\n",
    "        |> FSharp.Control.AsyncSeq.iterAsyncParallel (fun event -> async { events.Add event })\n",
    "\n",
    "    let run = async {\n",
    "        let! _ = iter () |> Async.StartChild\n",
    "        do! Async.Sleep 250\n",
    "        return! write path\n",
    "    }\n",
    "\n",
    "    try\n",
    "        run\n",
    "        |> Async.runWithTimeout 5000\n",
    "        |> _assertEqual (Some ())\n",
    "    finally\n",
    "        disposable.Dispose ()\n",
    "        deleteDirectoryAsync path |> Async.Ignore |> Async.RunSynchronously\n",
    "\n",
    "    let events = formatEvents events\n",
    "\n",
    "    let eventMap =\n",
    "        events\n",
    "        |> List.map (fun (ticks, path, event) -> path, (event, ticks))\n",
    "        |> List.groupBy fst\n",
    "        |> List.map (fun (path, events) ->\n",
    "            let event, _ticks =\n",
    "                events\n",
    "                |> List.map snd\n",
    "                |> List.sortByDescending snd\n",
    "                |> List.head\n",
    "\n",
    "            path, event\n",
    "        )\n",
    "        |> Map.ofList\n",
    "\n",
    "    let eventList =\n",
    "        events\n",
    "        |> List.map (fun (_ticks, path, event) -> path, event)\n",
    "\n",
    "    eventMap, eventList"
   ]
  },
  {
   "cell_type": "markdown",
   "metadata": {},
   "source": [
    "#### create and delete (test)"
   ]
  },
  {
   "cell_type": "code",
   "execution_count": null,
   "metadata": {
    "dotnet_interactive": {
     "language": "fsharp"
    },
    "polyglot_notebook": {
     "kernelName": "fsharp"
    }
   },
   "outputs": [
    {
     "name": "stdout",
     "output_type": "stream",
     "text": [
      "FSharpOption<Unit>\n",
      "      Value: <null>\n",
      "00:00:28 #51 [Debug] watchWithFilter / Disposing watch stream / filter: FileName, LastWrite\n",
      "FSharpList<Tuple<String,String>>\n",
      "( file1.txt, Created )\n",
      "( file1.txt, Changed )\n",
      "( file1.txt, Deleted )\n",
      "( file2.txt, Created )\n",
      "( file2.txt, Changed )\n",
      "( file2.txt, Deleted )\n",
      "( file3.txt, Created )\n",
      "( file3.txt, Changed )\n",
      "( file3.txt, Deleted )\n",
      "FSharpMap<String,String>\n",
      "      - Key: file1.txt\n",
      "        Value: Deleted\n",
      "      - Key: file2.txt\n",
      "        Value: Deleted\n",
      "      - Key: file3.txt\n",
      "        Value: Deleted\n",
      "FSharpOption<Unit>\n",
      "      Value: <null>\n"
     ]
    }
   ],
   "source": [
    "//// test\n",
    "\n",
    "let inline write path = async {\n",
    "    let n = 3\n",
    "\n",
    "    for i = 1 to n do\n",
    "        do! $\"{i}\" |> writeAllTextAsync (path </> $\"file{i}.txt\")\n",
    "\n",
    "    for i = 1 to n do\n",
    "        do! deleteFileAsync (path </> $\"file{i}.txt\") |> Async.Ignore\n",
    "\n",
    "    do! Async.Sleep 150\n",
    "}\n",
    "\n",
    "let inline run () =\n",
    "    let eventMap, eventList = testEventsSorted (watchDirectory (fun _ -> false)) write\n",
    "\n",
    "    [\n",
    "        \"file1.txt\", nameof FileSystemChangeType.Created\n",
    "        \"file1.txt\", nameof FileSystemChangeType.Changed\n",
    "        \"file1.txt\", nameof FileSystemChangeType.Deleted\n",
    "\n",
    "        \"file2.txt\", nameof FileSystemChangeType.Created\n",
    "        \"file2.txt\", nameof FileSystemChangeType.Changed\n",
    "        \"file2.txt\", nameof FileSystemChangeType.Deleted\n",
    "\n",
    "        \"file3.txt\", nameof FileSystemChangeType.Created\n",
    "        \"file3.txt\", nameof FileSystemChangeType.Changed\n",
    "        \"file3.txt\", nameof FileSystemChangeType.Deleted\n",
    "    ]\n",
    "    |> _sequenceEqual eventList\n",
    "\n",
    "    [\n",
    "        \"file1.txt\", nameof FileSystemChangeType.Deleted\n",
    "        \"file2.txt\", nameof FileSystemChangeType.Deleted\n",
    "        \"file3.txt\", nameof FileSystemChangeType.Deleted\n",
    "    ]\n",
    "    |> Map.ofList\n",
    "    |> _sequenceEqual eventMap\n",
    "\n",
    "run\n",
    "|> retry_fn 3\n",
    "|> _assertEqual (Some ())"
   ]
  },
  {
   "cell_type": "markdown",
   "metadata": {},
   "source": [
    "#### change (test)"
   ]
  },
  {
   "cell_type": "code",
   "execution_count": null,
   "metadata": {
    "dotnet_interactive": {
     "language": "fsharp"
    },
    "polyglot_notebook": {
     "kernelName": "fsharp"
    }
   },
   "outputs": [
    {
     "name": "stdout",
     "output_type": "stream",
     "text": [
      "FSharpOption<Unit>\n",
      "      Value: <null>\n",
      "00:00:30 #52 [Debug] watchWithFilter / Disposing watch stream / filter: FileName, LastWrite\n",
      "FSharpList<Tuple<String,String>>\n",
      "( file1.txt, Created )\n",
      "( file1.txt, Changed )\n",
      "( file1.txt, Deleted )\n",
      "( file2.txt, Created )\n",
      "( file2.txt, Changed )\n",
      "( file2.txt, Deleted )\n",
      "FSharpMap<String,String>\n",
      "      - Key: file1.txt\n",
      "        Value: Deleted\n",
      "      - Key: file2.txt\n",
      "        Value: Deleted\n",
      "FSharpOption<Unit>\n",
      "      Value: <null>\n"
     ]
    }
   ],
   "source": [
    "//// test\n",
    "\n",
    "let inline write path = async {\n",
    "    let n = 2\n",
    "\n",
    "    for i = 1 to n do\n",
    "        do! $\"{i}\" |> writeAllTextAsync (path </> $\"file{i}.txt\")\n",
    "\n",
    "    for i = 1 to n do\n",
    "        do! \"\" |> writeAllTextAsync (path </> $\"file{i}.txt\")\n",
    "\n",
    "    for i = 1 to n do\n",
    "        do! deleteFileAsync (path </> $\"file{i}.txt\") |> Async.Ignore\n",
    "\n",
    "    do! Async.Sleep 150\n",
    "}\n",
    "\n",
    "let inline run () =\n",
    "    let eventMap, eventList = testEventsSorted (watchDirectory (fun _ -> false)) write\n",
    "\n",
    "    [\n",
    "        \"file1.txt\", nameof FileSystemChangeType.Created\n",
    "        \"file1.txt\", nameof FileSystemChangeType.Changed\n",
    "        \"file1.txt\", nameof FileSystemChangeType.Deleted\n",
    "\n",
    "        \"file2.txt\", nameof FileSystemChangeType.Created\n",
    "        \"file2.txt\", nameof FileSystemChangeType.Changed\n",
    "        \"file2.txt\", nameof FileSystemChangeType.Deleted\n",
    "    ]\n",
    "    |> _sequenceEqual eventList\n",
    "\n",
    "    [\n",
    "        \"file1.txt\", nameof FileSystemChangeType.Deleted\n",
    "        \"file2.txt\", nameof FileSystemChangeType.Deleted\n",
    "    ]\n",
    "    |> Map.ofList\n",
    "    |> _sequenceEqual eventMap\n",
    "\n",
    "run\n",
    "|> retry_fn 3\n",
    "|> _assertEqual (Some ())"
   ]
  },
  {
   "cell_type": "markdown",
   "metadata": {},
   "source": [
    "#### rename (test)"
   ]
  },
  {
   "cell_type": "code",
   "execution_count": null,
   "metadata": {
    "dotnet_interactive": {
     "language": "fsharp"
    },
    "polyglot_notebook": {
     "kernelName": "fsharp"
    }
   },
   "outputs": [
    {
     "name": "stdout",
     "output_type": "stream",
     "text": [
      "FSharpOption<Unit>\n",
      "      Value: <null>\n",
      "00:00:33 #53 [Debug] watchWithFilter / Disposing watch stream / filter: FileName, LastWrite\n",
      "FSharpList<Tuple<String,String>>\n",
      "( file1.txt, Created )\n",
      "( file1.txt, Changed )\n",
      "( file2.txt, Created )\n",
      "( file2.txt, Changed )\n",
      "( file_1.txt, Renamed )\n",
      "( file_1.txt, Deleted )\n",
      "( file_2.txt, Renamed )\n",
      "( file_2.txt, Deleted )\n",
      "FSharpMap<String,String>\n",
      "      - Key: file1.txt\n",
      "        Value: Changed\n",
      "      - Key: file2.txt\n",
      "        Value: Changed\n",
      "      - Key: file_1.txt\n",
      "        Value: Deleted\n",
      "      - Key: file_2.txt\n",
      "        Value: Deleted\n",
      "FSharpOption<Unit>\n",
      "      Value: <null>\n"
     ]
    }
   ],
   "source": [
    "//// test\n",
    "\n",
    "let inline write path = async {\n",
    "    let n = 2\n",
    "\n",
    "    for i = 1 to n do\n",
    "        do! $\"{i}\" |> writeAllTextAsync (path </> $\"file{i}.txt\")\n",
    "\n",
    "    for i = 1 to n do\n",
    "        do! path </> $\"file{i}.txt\" |> moveFileAsync (path </> $\"file_{i}.txt\") |> Async.Ignore\n",
    "\n",
    "    for i = 1 to n do\n",
    "        do! deleteFileAsync (path </> $\"file_{i}.txt\") |> Async.Ignore\n",
    "\n",
    "    do! Async.Sleep 150\n",
    "}\n",
    "\n",
    "let inline run () =\n",
    "    let eventMap, eventList = testEventsSorted (watchDirectory (fun _ -> false)) write\n",
    "\n",
    "    [\n",
    "        \"file1.txt\", nameof FileSystemChangeType.Created\n",
    "        \"file1.txt\", nameof FileSystemChangeType.Changed\n",
    "        \"file2.txt\", nameof FileSystemChangeType.Created\n",
    "        \"file2.txt\", nameof FileSystemChangeType.Changed\n",
    "\n",
    "        \"file_1.txt\", nameof FileSystemChangeType.Renamed\n",
    "        \"file_1.txt\", nameof FileSystemChangeType.Deleted\n",
    "\n",
    "        \"file_2.txt\", nameof FileSystemChangeType.Renamed\n",
    "        \"file_2.txt\", nameof FileSystemChangeType.Deleted\n",
    "    ]\n",
    "    |> _sequenceEqual eventList\n",
    "\n",
    "    [\n",
    "        \"file1.txt\", nameof FileSystemChangeType.Changed\n",
    "        \"file2.txt\", nameof FileSystemChangeType.Changed\n",
    "        \"file_1.txt\", nameof FileSystemChangeType.Deleted\n",
    "        \"file_2.txt\", nameof FileSystemChangeType.Deleted\n",
    "    ]\n",
    "    |> Map.ofList\n",
    "    |> _sequenceEqual eventMap\n",
    "\n",
    "run\n",
    "|> retry_fn 3\n",
    "|> _assertEqual (Some ())"
   ]
  },
  {
   "cell_type": "markdown",
   "metadata": {},
   "source": [
    "#### full (test)"
   ]
  },
  {
   "cell_type": "code",
   "execution_count": null,
   "metadata": {
    "dotnet_interactive": {
     "language": "fsharp"
    },
    "polyglot_notebook": {
     "kernelName": "fsharp"
    }
   },
   "outputs": [
    {
     "name": "stdout",
     "output_type": "stream",
     "text": [
      "FSharpOption<Unit>\n",
      "      Value: <null>\n",
      "00:00:36 #54 [Debug] watchWithFilter / Disposing watch stream / filter: FileName, LastWrite\n",
      "FSharpList<Tuple<String,String>>\n",
      "( file1.txt, Created )\n",
      "( file1.txt, Changed )\n",
      "( file2.txt, Created )\n",
      "( file2.txt, Changed )\n",
      "( file_1.txt, Changed )\n",
      "( file_1.txt, Renamed )\n",
      "( file_1.txt, Deleted )\n",
      "( file_2.txt, Changed )\n",
      "( file_2.txt, Renamed )\n",
      "( file_2.txt, Deleted )\n",
      "FSharpMap<String,String>\n",
      "      - Key: file1.txt\n",
      "        Value: Changed\n",
      "      - Key: file2.txt\n",
      "        Value: Changed\n",
      "      - Key: file_1.txt\n",
      "        Value: Deleted\n",
      "      - Key: file_2.txt\n",
      "        Value: Deleted\n",
      "FSharpOption<Unit>\n",
      "      Value: <null>\n"
     ]
    }
   ],
   "source": [
    "//// test\n",
    "\n",
    "let inline write path = async {\n",
    "    let n = 2\n",
    "\n",
    "    for i = 1 to n do\n",
    "        do! $\"{i}\" |> writeAllTextAsync (path </> $\"file{i}.txt\")\n",
    "\n",
    "    for i = 1 to n do\n",
    "        do! \"\" |> writeAllTextAsync (path </> $\"file{i}.txt\")\n",
    "\n",
    "    for i = 1 to n do\n",
    "        do! path </> $\"file{i}.txt\" |> moveFileAsync (path </> $\"file_{i}.txt\") |> Async.Ignore\n",
    "\n",
    "    for i = 1 to n do\n",
    "        do! $\"{i}\" |> writeAllTextAsync (path </> $\"file_{i}.txt\")\n",
    "\n",
    "    for i = 1 to n do\n",
    "        do! deleteFileAsync (path </> $\"file_{i}.txt\") |> Async.Ignore\n",
    "\n",
    "    do! Async.Sleep 150\n",
    "}\n",
    "\n",
    "let inline run () =\n",
    "    let eventMap, eventList = testEventsSorted (watchDirectory (fun _ -> false)) write\n",
    "\n",
    "    [\n",
    "        \"file1.txt\", nameof FileSystemChangeType.Created\n",
    "        \"file1.txt\", nameof FileSystemChangeType.Changed\n",
    "        \"file2.txt\", nameof FileSystemChangeType.Created\n",
    "        \"file2.txt\", nameof FileSystemChangeType.Changed\n",
    "\n",
    "        \"file_1.txt\", nameof FileSystemChangeType.Changed\n",
    "        \"file_1.txt\", nameof FileSystemChangeType.Renamed\n",
    "        \"file_1.txt\", nameof FileSystemChangeType.Deleted\n",
    "\n",
    "        \"file_2.txt\", nameof FileSystemChangeType.Changed\n",
    "        \"file_2.txt\", nameof FileSystemChangeType.Renamed\n",
    "        \"file_2.txt\", nameof FileSystemChangeType.Deleted\n",
    "    ]\n",
    "    |> _sequenceEqual eventList\n",
    "\n",
    "    [\n",
    "        \"file1.txt\", nameof FileSystemChangeType.Changed\n",
    "        \"file2.txt\", nameof FileSystemChangeType.Changed\n",
    "        \"file_1.txt\", nameof FileSystemChangeType.Deleted\n",
    "        \"file_2.txt\", nameof FileSystemChangeType.Deleted\n",
    "    ]\n",
    "    |> Map.ofList\n",
    "    |> _sequenceEqual eventMap\n",
    "\n",
    "run\n",
    "|> retry_fn 3\n",
    "|> _assertEqual (Some ())"
   ]
  }
 ],
 "metadata": {},
 "nbformat": 4,
 "nbformat_minor": 5
}