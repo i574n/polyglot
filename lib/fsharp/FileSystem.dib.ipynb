{
 "cells": [
  {
   "cell_type": "markdown",
   "metadata": {},
   "source": [
    "# FileSystem (Polyglot)"
   ]
  },
  {
   "cell_type": "code",
   "execution_count": null,
   "metadata": {
    "dotnet_interactive": {
     "language": "fsharp"
    },
    "polyglot_notebook": {
     "kernelName": "fsharp"
    }
   },
   "outputs": [],
   "source": [
    "#!import ../../lib/fsharp/Notebooks.dib\n",
    "#!import ../../lib/fsharp/Testing.dib"
   ]
  },
  {
   "cell_type": "code",
   "execution_count": null,
   "metadata": {
    "dotnet_interactive": {
     "language": "fsharp"
    },
    "polyglot_notebook": {
     "kernelName": "fsharp"
    }
   },
   "outputs": [],
   "source": [
    "#r @\"../../../../../../../.nuget/packages/fsharp.control.asyncseq/3.2.1/lib/netstandard2.1/FSharp.Control.AsyncSeq.dll\"\n",
    "#r @\"../../../../../../../.nuget/packages/system.reactive/6.0.1-preview.1/lib/net6.0/System.Reactive.dll\"\n",
    "#r @\"../../../../../../../.nuget/packages/system.reactive.linq/6.0.1-preview.1/lib/netstandard2.0/System.Reactive.Linq.dll\"\n",
    "#r @\"../../../../../../../.nuget/packages/argu/6.1.5/lib/netstandard2.0/Argu.dll\"\n",
    "#r @\"../../../../../../../.nuget/packages/system.commandline/2.0.0-beta4.22272.1/lib/net6.0/System.CommandLine.dll\""
   ]
  },
  {
   "cell_type": "code",
   "execution_count": null,
   "metadata": {
    "dotnet_interactive": {
     "language": "fsharp"
    },
    "polyglot_notebook": {
     "kernelName": "fsharp"
    }
   },
   "outputs": [],
   "source": [
    "#!import ../../lib/fsharp/Common.fs\n",
    "#!import ../../lib/fsharp/CommonFSharp.fs\n",
    "#!import ../../lib/fsharp/Async.fs\n",
    "#!import ../../lib/fsharp/AsyncSeq.fs\n",
    "#!import ../../lib/fsharp/Runtime.fs"
   ]
  },
  {
   "cell_type": "code",
   "execution_count": null,
   "metadata": {
    "dotnet_interactive": {
     "language": "fsharp"
    },
    "polyglot_notebook": {
     "kernelName": "fsharp"
    }
   },
   "outputs": [],
   "source": [
    "open Common"
   ]
  },
  {
   "cell_type": "markdown",
   "metadata": {},
   "source": [
    "## Operators"
   ]
  },
  {
   "cell_type": "code",
   "execution_count": null,
   "metadata": {
    "dotnet_interactive": {
     "language": "fsharp"
    },
    "polyglot_notebook": {
     "kernelName": "fsharp"
    }
   },
   "outputs": [],
   "source": [
    "module Operators =\n",
    "    let inline (</>) a b =\n",
    "        System.IO.Path.Combine (a, b)"
   ]
  },
  {
   "cell_type": "code",
   "execution_count": null,
   "metadata": {
    "dotnet_interactive": {
     "language": "fsharp"
    },
    "polyglot_notebook": {
     "kernelName": "fsharp"
    }
   },
   "outputs": [],
   "source": [
    "open Operators"
   ]
  },
  {
   "cell_type": "markdown",
   "metadata": {},
   "source": [
    "## createTempDirectoryName"
   ]
  },
  {
   "cell_type": "code",
   "execution_count": null,
   "metadata": {
    "dotnet_interactive": {
     "language": "fsharp"
    },
    "polyglot_notebook": {
     "kernelName": "fsharp"
    }
   },
   "outputs": [],
   "source": [
    "let inline createTempDirectoryName () =\n",
    "    let root = System.Reflection.Assembly.GetEntryAssembly().GetName().Name\n",
    "\n",
    "    System.IO.Path.GetTempPath ()\n",
    "    </> $\"!{root}\"\n",
    "    </> string (newGuidFromDateTime System.DateTime.Now)"
   ]
  },
  {
   "cell_type": "code",
   "execution_count": null,
   "metadata": {
    "dotnet_interactive": {
     "language": "fsharp"
    },
    "polyglot_notebook": {
     "kernelName": "fsharp"
    }
   },
   "outputs": [
    {
     "name": "stdout",
     "output_type": "stream",
     "text": [
      "/tmp/!dotnet-repl/20240307-2244-5481-8188-8a7a5d6cf839\n"
     ]
    }
   ],
   "source": [
    "//// test\n",
    "\n",
    "createTempDirectoryName ()\n",
    "|> _contains System.IO.Path.DirectorySeparatorChar"
   ]
  },
  {
   "cell_type": "markdown",
   "metadata": {},
   "source": [
    "## createTempDirectory"
   ]
  },
  {
   "cell_type": "code",
   "execution_count": null,
   "metadata": {
    "dotnet_interactive": {
     "language": "fsharp"
    },
    "polyglot_notebook": {
     "kernelName": "fsharp"
    }
   },
   "outputs": [],
   "source": [
    "let inline createTempDirectory () =\n",
    "    let tempFolder = createTempDirectoryName ()\n",
    "    let result = System.IO.Directory.CreateDirectory tempFolder\n",
    "\n",
    "    if not result.Exists then\n",
    "        let getLocals () =\n",
    "            $\"tempFolder: {tempFolder} / result: {({|\n",
    "                Exists = result.Exists\n",
    "                CreationTime = result.CreationTime\n",
    "            |})} {getLocals ()}\"\n",
    "\n",
    "        trace Debug (fun () -> \"createTempDirectory\") getLocals\n",
    "\n",
    "    tempFolder"
   ]
  },
  {
   "cell_type": "code",
   "execution_count": null,
   "metadata": {
    "dotnet_interactive": {
     "language": "fsharp"
    },
    "polyglot_notebook": {
     "kernelName": "fsharp"
    }
   },
   "outputs": [
    {
     "name": "stdout",
     "output_type": "stream",
     "text": [
      "True\n"
     ]
    }
   ],
   "source": [
    "//// test\n",
    "\n",
    "let tempDirectory = createTempDirectory ()\n",
    "\n",
    "Directory.Exists tempDirectory\n",
    "|> _equal true"
   ]
  },
  {
   "cell_type": "markdown",
   "metadata": {},
   "source": [
    "## getSourceDirectory"
   ]
  },
  {
   "cell_type": "code",
   "execution_count": null,
   "metadata": {
    "dotnet_interactive": {
     "language": "fsharp"
    },
    "polyglot_notebook": {
     "kernelName": "fsharp"
    }
   },
   "outputs": [],
   "source": [
    "let getSourceDirectory =\n",
    "    fun () -> __SOURCE_DIRECTORY__\n",
    "    |> memoize"
   ]
  },
  {
   "cell_type": "code",
   "execution_count": null,
   "metadata": {
    "dotnet_interactive": {
     "language": "fsharp"
    },
    "polyglot_notebook": {
     "kernelName": "fsharp"
    }
   },
   "outputs": [
    {
     "name": "stdout",
     "output_type": "stream",
     "text": [
      "fsharp\n"
     ]
    }
   ],
   "source": [
    "//// test\n",
    "\n",
    "getSourceDirectory ()\n",
    "|> System.IO.DirectoryInfo\n",
    "|> fun dir -> dir.Name\n",
    "|> _equal \"fsharp\""
   ]
  },
  {
   "cell_type": "markdown",
   "metadata": {},
   "source": [
    "## findParent"
   ]
  },
  {
   "cell_type": "code",
   "execution_count": null,
   "metadata": {
    "dotnet_interactive": {
     "language": "fsharp"
    },
    "polyglot_notebook": {
     "kernelName": "fsharp"
    }
   },
   "outputs": [],
   "source": [
    "let inline findParent name isFile rootDir =\n",
    "    let rec loop dir =\n",
    "        if dir </> name |> (if isFile then System.IO.File.Exists else System.IO.Directory.Exists)\n",
    "        then dir\n",
    "        else\n",
    "            dir\n",
    "            |> System.IO.Directory.GetParent\n",
    "            |> function\n",
    "                | null -> failwith $\"\"\"No parent for {if isFile then \"file\" else \"dir\"} '{name}' at '{rootDir}'\"\"\"\n",
    "                | parent -> parent.FullName |> loop\n",
    "    loop rootDir"
   ]
  },
  {
   "cell_type": "code",
   "execution_count": null,
   "metadata": {
    "dotnet_interactive": {
     "language": "fsharp"
    },
    "polyglot_notebook": {
     "kernelName": "fsharp"
    }
   },
   "outputs": [
    {
     "name": "stdout",
     "output_type": "stream",
     "text": [
      "polyglot\n"
     ]
    }
   ],
   "source": [
    "//// test\n",
    "\n",
    "getSourceDirectory () |> findParent \".paket\" false\n",
    "|> System.IO.DirectoryInfo\n",
    "|> fun dir -> dir.Name\n",
    "|> _equal \"polyglot\""
   ]
  },
  {
   "cell_type": "code",
   "execution_count": null,
   "metadata": {
    "dotnet_interactive": {
     "language": "fsharp"
    },
    "polyglot_notebook": {
     "kernelName": "fsharp"
    }
   },
   "outputs": [
    {
     "name": "stdout",
     "output_type": "stream",
     "text": [
      "polyglot\n"
     ]
    }
   ],
   "source": [
    "//// test\n",
    "\n",
    "getSourceDirectory () |> findParent \"paket.dependencies\" true\n",
    "|> System.IO.DirectoryInfo\n",
    "|> fun dir -> dir.Name\n",
    "|> _equal \"polyglot\""
   ]
  },
  {
   "cell_type": "markdown",
   "metadata": {},
   "source": [
    "## readAllTextAsync"
   ]
  },
  {
   "cell_type": "code",
   "execution_count": null,
   "metadata": {
    "dotnet_interactive": {
     "language": "fsharp"
    },
    "polyglot_notebook": {
     "kernelName": "fsharp"
    }
   },
   "outputs": [],
   "source": [
    "let inline readAllTextAsync path =\n",
    "    path |> System.IO.File.ReadAllTextAsync |> Async.AwaitTask"
   ]
  },
  {
   "cell_type": "markdown",
   "metadata": {},
   "source": [
    "## fileExistsContent"
   ]
  },
  {
   "cell_type": "code",
   "execution_count": null,
   "metadata": {
    "dotnet_interactive": {
     "language": "fsharp"
    },
    "polyglot_notebook": {
     "kernelName": "fsharp"
    }
   },
   "outputs": [],
   "source": [
    "let inline fileExistsContent path content = async {\n",
    "    if path |> System.IO.File.Exists |> not\n",
    "    then return false\n",
    "    else\n",
    "        let! existingContent = path |> readAllTextAsync\n",
    "        return content = existingContent\n",
    "}"
   ]
  },
  {
   "cell_type": "markdown",
   "metadata": {},
   "source": [
    "## writeAllTextAsync"
   ]
  },
  {
   "cell_type": "code",
   "execution_count": null,
   "metadata": {
    "dotnet_interactive": {
     "language": "fsharp"
    },
    "polyglot_notebook": {
     "kernelName": "fsharp"
    }
   },
   "outputs": [],
   "source": [
    "let inline writeAllTextAsync path contents =\n",
    "    System.IO.File.WriteAllTextAsync (path, contents) |> Async.AwaitTask"
   ]
  },
  {
   "cell_type": "markdown",
   "metadata": {},
   "source": [
    "## writeAllTextExists"
   ]
  },
  {
   "cell_type": "code",
   "execution_count": null,
   "metadata": {
    "dotnet_interactive": {
     "language": "fsharp"
    },
    "polyglot_notebook": {
     "kernelName": "fsharp"
    }
   },
   "outputs": [],
   "source": [
    "let inline writeAllTextExists path contents = async {\n",
    "    let! exists = contents |> fileExistsContent path\n",
    "    if not exists\n",
    "    then do! contents |> writeAllTextAsync path\n",
    "}"
   ]
  },
  {
   "cell_type": "markdown",
   "metadata": {},
   "source": [
    "## waitForFileAccess"
   ]
  },
  {
   "cell_type": "code",
   "execution_count": null,
   "metadata": {
    "dotnet_interactive": {
     "language": "fsharp"
    },
    "polyglot_notebook": {
     "kernelName": "fsharp"
    }
   },
   "outputs": [],
   "source": [
    "let inline waitForFileAccess access path =\n",
    "    let fileAccess, fileShare =\n",
    "        access\n",
    "        |> Option.defaultValue (System.IO.FileAccess.ReadWrite, System.IO.FileShare.Read)\n",
    "\n",
    "    let rec loop retry = async {\n",
    "        try\n",
    "            use _ = new System.IO.FileStream (\n",
    "                path,\n",
    "                System.IO.FileMode.Open,\n",
    "                fileAccess,\n",
    "                fileShare\n",
    "            )\n",
    "            return retry\n",
    "        with ex ->\n",
    "            if retry % 100 = 0 then\n",
    "                let getLocals () = $\"path: {path |> System.IO.Path.GetFileName} / ex: {ex |> printException} / {getLocals ()}\"\n",
    "                trace Debug (fun () -> \"waitForFileAccess\") getLocals\n",
    "            do! Async.Sleep 10\n",
    "            return! loop (retry + 1)\n",
    "    }\n",
    "    loop 0"
   ]
  },
  {
   "cell_type": "code",
   "execution_count": null,
   "metadata": {
    "dotnet_interactive": {
     "language": "fsharp"
    },
    "polyglot_notebook": {
     "kernelName": "fsharp"
    }
   },
   "outputs": [
    {
     "name": "stdout",
     "output_type": "stream",
     "text": [
      "00:00:00 #1 [Debug] 1\n",
      "00:00:00 #2 [Debug] 2\n",
      "00:00:00 #3 [Debug] _1\n",
      "00:00:00 #4 [Debug] 3\n",
      "00:00:00 #5 [Debug] _2\n",
      "00:00:00 #6 [Debug] 4\n",
      "00:00:00 #7 [Debug] waitForFileAccess / path: test.txt / ex: System.IO.IOException: The process cannot access the file '/tmp/!dotnet-repl/20240307-2244-5541-4137-4c8b9c766295/test.txt' because it is being used by another process.\n",
      "00:00:01 #8 [Debug] waitForFileAccess / path: test.txt / ex: System.IO.IOException: The process cannot access the file '/tmp/!dotnet-repl/20240307-2244-5541-4137-4c8b9c766295/test.txt' because it is being used by another process.\n",
      "00:00:02 #9 [Debug] _3\n",
      "00:00:02 #10 [Debug] _4\n",
      "00:00:02 #11 [Debug] _5\n",
      "00:00:02 #12 [Debug] _6\n",
      "00:00:02 #13 [Debug] 5\n",
      "00:00:02 #14 [Debug] 6\n",
      "00:00:02 #15 [Debug] 7\n",
      "167\n",
      "167\n",
      "167\n",
      "1\n",
      "True\n"
     ]
    }
   ],
   "source": [
    "//// test\n",
    "\n",
    "let tempFolder = createTempDirectory ()\n",
    "let path = tempFolder </> \"test.txt\"\n",
    "\n",
    "let inline lockFile () = async {\n",
    "    trace Debug (fun () -> \"_1\") getLocals\n",
    "    use stream = new System.IO.FileStream (\n",
    "        path,\n",
    "        System.IO.FileMode.Open,\n",
    "        System.IO.FileAccess.ReadWrite,\n",
    "        System.IO.FileShare.None\n",
    "    )\n",
    "    trace Debug (fun () -> \"_2\") getLocals\n",
    "    do! Async.Sleep 2000\n",
    "    trace Debug (fun () -> \"_3\") getLocals\n",
    "    stream.Seek (0L, SeekOrigin.Begin) |> ignore\n",
    "    trace Debug (fun () -> \"_4\") getLocals\n",
    "    stream.WriteByte 49uy\n",
    "    trace Debug (fun () -> \"_5\") getLocals\n",
    "    stream.Flush ()\n",
    "    trace Debug (fun () -> \"_6\") getLocals\n",
    "}\n",
    "\n",
    "async {\n",
    "    trace Debug (fun () -> \"1\") getLocals\n",
    "    do! \"0\" |> writeAllTextAsync path\n",
    "    trace Debug (fun () -> \"2\") getLocals\n",
    "    let! child = lockFile () |> Async.StartChild\n",
    "    trace Debug (fun () -> \"3\") getLocals\n",
    "    do! Async.Sleep 1\n",
    "    trace Debug (fun () -> \"4\") getLocals\n",
    "    let! retries = path |> waitForFileAccess None\n",
    "    trace Debug (fun () -> \"5\") getLocals\n",
    "    let! text = path |> readAllTextAsync\n",
    "    trace Debug (fun () -> \"6\") getLocals\n",
    "    do! child\n",
    "    trace Debug (fun () -> \"7\") getLocals\n",
    "    return retries, text\n",
    "}\n",
    "|> Async.runWithTimeout 3000\n",
    "|> function\n",
    "    | Some (retries, text) ->\n",
    "        retries\n",
    "        |> _isBetween\n",
    "            (if Runtime.isWindows () then 100 else 100)\n",
    "            (if Runtime.isWindows () then 150 else 200)\n",
    "\n",
    "        text |> _equal \"1\"\n",
    "\n",
    "        true\n",
    "    | _ -> false\n",
    "|> _equal true"
   ]
  },
  {
   "cell_type": "markdown",
   "metadata": {},
   "source": [
    "## readAllTextRetryAsync"
   ]
  },
  {
   "cell_type": "code",
   "execution_count": null,
   "metadata": {
    "dotnet_interactive": {
     "language": "fsharp"
    },
    "polyglot_notebook": {
     "kernelName": "fsharp"
    }
   },
   "outputs": [],
   "source": [
    "let inline readAllTextRetryAsync fullPath =\n",
    "    let rec loop retry = async {\n",
    "        try\n",
    "            if retry > 0\n",
    "            then do!\n",
    "                fullPath\n",
    "                |> waitForFileAccess (Some (\n",
    "                    System.IO.FileAccess.Read,\n",
    "                    System.IO.FileShare.Read\n",
    "                ))\n",
    "                |> Async.runWithTimeoutAsync 1000\n",
    "                |> Async.Ignore\n",
    "            return! fullPath |> readAllTextAsync |> Async.map Some\n",
    "        with ex ->\n",
    "            let getLocals () = $\"retry: {retry} / ex: {ex |> printException} / {getLocals ()}\"\n",
    "            trace Debug (fun () -> $\"watchWithFilter / readContent\") getLocals\n",
    "            if retry = 0\n",
    "            then return! loop (retry + 1)\n",
    "            else return None\n",
    "    }\n",
    "    loop 0"
   ]
  },
  {
   "cell_type": "markdown",
   "metadata": {},
   "source": [
    "## deleteDirectoryAsync"
   ]
  },
  {
   "cell_type": "code",
   "execution_count": null,
   "metadata": {
    "dotnet_interactive": {
     "language": "fsharp"
    },
    "polyglot_notebook": {
     "kernelName": "fsharp"
    }
   },
   "outputs": [],
   "source": [
    "let inline deleteDirectoryAsync path =\n",
    "    let rec loop retry = async {\n",
    "        try\n",
    "            System.IO.Directory.Delete (path, true)\n",
    "            return retry\n",
    "        with ex ->\n",
    "            if retry % 100 = 0 then\n",
    "                let getLocals () = $\"path: {path |> System.IO.Path.GetFileName} / ex: {ex |> printException} / {getLocals ()}\"\n",
    "                trace Debug (fun () -> \"deleteDirectoryAsync\") getLocals\n",
    "            do! Async.Sleep 10\n",
    "            return! loop (retry + 1)\n",
    "    }\n",
    "    loop 0"
   ]
  },
  {
   "cell_type": "code",
   "execution_count": null,
   "metadata": {
    "dotnet_interactive": {
     "language": "fsharp"
    },
    "polyglot_notebook": {
     "kernelName": "fsharp"
    }
   },
   "outputs": [
    {
     "name": "stdout",
     "output_type": "stream",
     "text": [
      "00:00:02 #16 [Debug] 1\n",
      "00:00:02 #17 [Debug] 2\n",
      "00:00:02 #18 [Debug] 3\n",
      "00:00:02 #19 [Debug] _1\n",
      "00:00:02 #20 [Debug] _2\n",
      "00:00:02 #21 [Debug] 4\n",
      "00:00:02 #22 [Debug] 5\n",
      "00:00:04 #23 [Debug] _3\n",
      "00:00:04 #24 [Debug] 6\n",
      "0\n",
      "0\n",
      "0\n",
      "True\n"
     ]
    }
   ],
   "source": [
    "//// test\n",
    "\n",
    "let tempFolder = createTempDirectory ()\n",
    "let path = tempFolder </> \"test\"\n",
    "\n",
    "let inline lockDirectory () = async {\n",
    "    trace Debug (fun () -> \"_1\") getLocals\n",
    "    System.IO.File.WriteAllText (path </> \"test.txt\", \"0\")\n",
    "    use _ = new System.IO.FileStream (\n",
    "        path </> \"test.txt\",\n",
    "        System.IO.FileMode.Open,\n",
    "        System.IO.FileAccess.ReadWrite,\n",
    "        System.IO.FileShare.None\n",
    "    )\n",
    "    trace Debug (fun () -> \"_2\") getLocals\n",
    "    do! Async.Sleep 2000\n",
    "    trace Debug (fun () -> \"_3\") getLocals\n",
    "}\n",
    "\n",
    "async {\n",
    "    trace Debug (fun () -> \"1\") getLocals\n",
    "    Directory.CreateDirectory path |> ignore\n",
    "    trace Debug (fun () -> \"2\") getLocals\n",
    "    let! child = lockDirectory () |> Async.StartChild\n",
    "    trace Debug (fun () -> \"3\") getLocals\n",
    "    do! Async.Sleep 60\n",
    "    trace Debug (fun () -> \"4\") getLocals\n",
    "    let! retries = deleteDirectoryAsync path\n",
    "    trace Debug (fun () -> \"5\") getLocals\n",
    "    do! child\n",
    "    trace Debug (fun () -> \"6\") getLocals\n",
    "    return retries\n",
    "}\n",
    "|> Async.runWithTimeout 3000\n",
    "|> function\n",
    "    | Some retries ->\n",
    "        retries\n",
    "        |> _isBetween\n",
    "            (if Runtime.isWindows () then 100 else 0)\n",
    "            (if Runtime.isWindows () then 150 else 0)\n",
    "\n",
    "        true\n",
    "    | _ -> false\n",
    "|> _equal true"
   ]
  },
  {
   "cell_type": "markdown",
   "metadata": {},
   "source": [
    "## deleteFileAsync"
   ]
  },
  {
   "cell_type": "code",
   "execution_count": null,
   "metadata": {
    "dotnet_interactive": {
     "language": "fsharp"
    },
    "polyglot_notebook": {
     "kernelName": "fsharp"
    }
   },
   "outputs": [],
   "source": [
    "let inline deleteFileAsync path =\n",
    "    let rec loop retry = async {\n",
    "        try\n",
    "            System.IO.File.Delete path\n",
    "            return retry\n",
    "        with ex ->\n",
    "            if retry % 100 = 0 then\n",
    "                let getLocals () = $\"path: {path |> System.IO.Path.GetFileName} / ex: {ex |> printException} / {getLocals ()}\"\n",
    "                trace Warning (fun () -> \"deleteFileAsync\") getLocals\n",
    "            do! Async.Sleep 10\n",
    "            return! loop (retry + 1)\n",
    "    }\n",
    "    loop 0"
   ]
  },
  {
   "cell_type": "code",
   "execution_count": null,
   "metadata": {
    "dotnet_interactive": {
     "language": "fsharp"
    },
    "polyglot_notebook": {
     "kernelName": "fsharp"
    }
   },
   "outputs": [
    {
     "name": "stdout",
     "output_type": "stream",
     "text": [
      "00:00:04 #25 [Debug] 1\n",
      "00:00:04 #26 [Debug] 2\n",
      "00:00:04 #27 [Debug] 3\n",
      "00:00:04 #28 [Debug] _1\n",
      "00:00:04 #29 [Debug] _2\n",
      "00:00:04 #30 [Debug] 4\n",
      "00:00:04 #31 [Debug] 5\n",
      "00:00:06 #32 [Debug] _3\n",
      "00:00:06 #33 [Debug] 6\n",
      "0\n",
      "0\n",
      "0\n",
      "True\n"
     ]
    }
   ],
   "source": [
    "//// test\n",
    "\n",
    "let tempFolder = createTempDirectory ()\n",
    "let path = tempFolder </> \"test.txt\"\n",
    "\n",
    "let inline lockFile () = async {\n",
    "    trace Debug (fun () -> \"_1\") getLocals\n",
    "    use _ = new System.IO.FileStream (\n",
    "        path,\n",
    "        System.IO.FileMode.Open,\n",
    "        System.IO.FileAccess.ReadWrite,\n",
    "        System.IO.FileShare.None\n",
    "    )\n",
    "    trace Debug (fun () -> \"_2\") getLocals\n",
    "    do! Async.Sleep 2000\n",
    "    trace Debug (fun () -> \"_3\") getLocals\n",
    "}\n",
    "\n",
    "async {\n",
    "    trace Debug (fun () -> \"1\") getLocals\n",
    "    do! \"0\" |> writeAllTextAsync path\n",
    "    trace Debug (fun () -> \"2\") getLocals\n",
    "    let! child = lockFile () |> Async.StartChild\n",
    "    trace Debug (fun () -> \"3\") getLocals\n",
    "    do! Async.Sleep 1\n",
    "    trace Debug (fun () -> \"4\") getLocals\n",
    "    let! retries = deleteFileAsync path\n",
    "    trace Debug (fun () -> \"5\") getLocals\n",
    "    do! child\n",
    "    trace Debug (fun () -> \"6\") getLocals\n",
    "    return retries\n",
    "}\n",
    "|> Async.runWithTimeout 3000\n",
    "|> function\n",
    "    | Some retries ->\n",
    "        retries\n",
    "        |> _isBetween\n",
    "            (if Runtime.isWindows () then 100 else 0)\n",
    "            (if Runtime.isWindows () then 150 else 0)\n",
    "\n",
    "        true\n",
    "    | _ -> false\n",
    "|> _equal true"
   ]
  },
  {
   "cell_type": "markdown",
   "metadata": {},
   "source": [
    "## moveFileAsync"
   ]
  },
  {
   "cell_type": "code",
   "execution_count": null,
   "metadata": {
    "dotnet_interactive": {
     "language": "fsharp"
    },
    "polyglot_notebook": {
     "kernelName": "fsharp"
    }
   },
   "outputs": [],
   "source": [
    "let inline moveFileAsync newPath oldPath =\n",
    "    let rec loop retry = async {\n",
    "        try\n",
    "            System.IO.File.Move (oldPath, newPath)\n",
    "            return retry\n",
    "        with ex ->\n",
    "            if retry % 100 = 0 then\n",
    "                let getLocals () =\n",
    "                    $\"oldPath: {oldPath |> System.IO.Path.GetFileName} / newPath: {newPath |> System.IO.Path.GetFileName} / ex: {ex |> printException} / {getLocals ()}\"\n",
    "                trace Warning (fun () -> \"moveFileAsync\") getLocals\n",
    "            do! Async.Sleep 10\n",
    "            return! loop (retry + 1)\n",
    "    }\n",
    "    loop 0"
   ]
  },
  {
   "cell_type": "code",
   "execution_count": null,
   "metadata": {
    "dotnet_interactive": {
     "language": "fsharp"
    },
    "polyglot_notebook": {
     "kernelName": "fsharp"
    }
   },
   "outputs": [
    {
     "name": "stdout",
     "output_type": "stream",
     "text": [
      "00:00:06 #34 [Debug] 1\n",
      "00:00:06 #35 [Debug] 2\n",
      "00:00:06 #36 [Debug] 3\n",
      "00:00:06 #37 [Debug] _1\n",
      "00:00:06 #38 [Debug] _2\n",
      "00:00:06 #39 [Debug] 4\n",
      "00:00:06 #40 [Debug] 5\n",
      "00:00:06 #41 [Debug] waitForFileAccess / path: test2.txt / ex: System.IO.IOException: The process cannot access the file '/tmp/!dotnet-repl/20240307-2245-0227-2727-26d1fd5790cd/test2.txt' because it is being used by another process.\n",
      "00:00:08 #42 [Debug] waitForFileAccess / path: test2.txt / ex: System.IO.IOException: The process cannot access the file '/tmp/!dotnet-repl/20240307-2245-0227-2727-26d1fd5790cd/test2.txt' because it is being used by another process.\n",
      "00:00:08 #43 [Debug] _3\n",
      "00:00:08 #44 [Debug] 6\n",
      "00:00:08 #45 [Debug] 7\n",
      "00:00:08 #46 [Debug] 8\n",
      "0\n",
      "0\n",
      "0\n",
      "167\n",
      "167\n",
      "167\n",
      "0\n",
      "True\n"
     ]
    }
   ],
   "source": [
    "//// test\n",
    "\n",
    "let tempFolder = createTempDirectory ()\n",
    "let path = tempFolder </> \"test.txt\"\n",
    "let newPath = tempFolder </> \"test2.txt\"\n",
    "\n",
    "let inline lockFile () = async {\n",
    "    trace Debug (fun () -> \"_1\") getLocals\n",
    "    use _ = new System.IO.FileStream (\n",
    "        path,\n",
    "        System.IO.FileMode.Open,\n",
    "        System.IO.FileAccess.ReadWrite,\n",
    "        System.IO.FileShare.None\n",
    "    )\n",
    "    trace Debug (fun () -> \"_2\") getLocals\n",
    "    do! Async.Sleep 2000\n",
    "    trace Debug (fun () -> \"_3\") getLocals\n",
    "}\n",
    "\n",
    "async {\n",
    "    trace Debug (fun () -> \"1\") getLocals\n",
    "    do! \"0\" |> writeAllTextAsync path\n",
    "    trace Debug (fun () -> \"2\") getLocals\n",
    "    let! child = lockFile () |> Async.StartChild\n",
    "    trace Debug (fun () -> \"3\") getLocals\n",
    "    do! Async.Sleep 1\n",
    "    trace Debug (fun () -> \"4\") getLocals\n",
    "    let! retries1 = path |> moveFileAsync newPath\n",
    "    trace Debug (fun () -> \"5\") getLocals\n",
    "    let! retries2 = newPath |> waitForFileAccess None\n",
    "    trace Debug (fun () -> \"6\") getLocals\n",
    "    let! text = newPath |> readAllTextAsync\n",
    "    trace Debug (fun () -> \"7\") getLocals\n",
    "    do! child\n",
    "    trace Debug (fun () -> \"8\") getLocals\n",
    "    return retries1, retries2, text\n",
    "}\n",
    "|> Async.runWithTimeout 3000\n",
    "|> function\n",
    "    | Some (retries1, retries2, text) ->\n",
    "        retries1\n",
    "        |> _isBetween\n",
    "            (if Runtime.isWindows () then 100 else 0)\n",
    "            (if Runtime.isWindows () then 150 else 0)\n",
    "\n",
    "        retries2\n",
    "        |> _isBetween\n",
    "            (if Runtime.isWindows () then 0 else 100)\n",
    "            (if Runtime.isWindows () then 0 else 200)\n",
    "\n",
    "        text |> _equal \"0\"\n",
    "\n",
    "        true\n",
    "    | _ -> false\n",
    "|> _equal true"
   ]
  },
  {
   "cell_type": "markdown",
   "metadata": {},
   "source": [
    "## watchDirectory"
   ]
  },
  {
   "cell_type": "code",
   "execution_count": null,
   "metadata": {
    "dotnet_interactive": {
     "language": "fsharp"
    },
    "polyglot_notebook": {
     "kernelName": "fsharp"
    }
   },
   "outputs": [],
   "source": [
    "[<RequireQualifiedAccess>]\n",
    "type FileSystemChangeType =\n",
    "    | Failure\n",
    "    | Changed\n",
    "    | Created\n",
    "    | Deleted\n",
    "    | Renamed\n",
    "\n",
    "[<RequireQualifiedAccess>]\n",
    "type FileSystemChange =\n",
    "    | Failure of exn: exn\n",
    "    | Changed of path: string * content: string option\n",
    "    | Created of path: string * content: string option\n",
    "    | Deleted of path: string\n",
    "    | Renamed of oldPath: string * (string * string option)\n",
    "\n",
    "\n",
    "let inline watchDirectoryWithFilter filter shouldReadContent path =\n",
    "    let fullPath = path |> System.IO.Path.GetFullPath\n",
    "    let getLocals () = $\"filter: {filter} / {getLocals ()}\"\n",
    "\n",
    "    let watcher =\n",
    "        new System.IO.FileSystemWatcher (\n",
    "            Path = fullPath,\n",
    "            NotifyFilter = filter,\n",
    "            EnableRaisingEvents = true,\n",
    "            IncludeSubdirectories = true\n",
    "        )\n",
    "\n",
    "    let inline getEventPath (path : string) =\n",
    "        path |> String.trim |> String.replace fullPath \"\" |> String.trimStart [| '/'; '\\\\' |]\n",
    "\n",
    "    let inline ticks () =\n",
    "        System.DateTime.UtcNow.Ticks\n",
    "\n",
    "    let changedStream =\n",
    "        AsyncSeq.subscribeEvent\n",
    "            watcher.Changed\n",
    "            (fun event ->\n",
    "                ticks (),\n",
    "                [ FileSystemChange.Changed (getEventPath event.FullPath, None) ]\n",
    "            )\n",
    "\n",
    "    let deletedStream =\n",
    "        AsyncSeq.subscribeEvent\n",
    "            watcher.Deleted\n",
    "            (fun event ->\n",
    "                ticks (),\n",
    "                [ FileSystemChange.Deleted (getEventPath event.FullPath) ]\n",
    "            )\n",
    "\n",
    "    let createdStream =\n",
    "        AsyncSeq.subscribeEvent\n",
    "            watcher.Created\n",
    "            (fun event ->\n",
    "                let path = getEventPath event.FullPath\n",
    "                ticks (), [\n",
    "                    FileSystemChange.Created (path, None)\n",
    "                    if Runtime.isWindows () then\n",
    "                        FileSystemChange.Changed (path, None)\n",
    "                ])\n",
    "\n",
    "    let renamedStream =\n",
    "        AsyncSeq.subscribeEvent\n",
    "            watcher.Renamed\n",
    "            (fun event ->\n",
    "                ticks (), [\n",
    "                    FileSystemChange.Renamed (\n",
    "                        getEventPath event.OldFullPath,\n",
    "                        (getEventPath event.FullPath, None)\n",
    "                    )\n",
    "                ]\n",
    "            )\n",
    "\n",
    "    let failureStream =\n",
    "        AsyncSeq.subscribeEvent\n",
    "            watcher.Error\n",
    "            (fun event -> ticks (), [ FileSystemChange.Failure (event.GetException ()) ])\n",
    "\n",
    "    let stream =\n",
    "        [\n",
    "            changedStream\n",
    "            deletedStream\n",
    "            createdStream\n",
    "            renamedStream\n",
    "            failureStream\n",
    "        ]\n",
    "        |> FSharp.Control.AsyncSeq.mergeAll\n",
    "        |> FSharp.Control.AsyncSeq.map (fun (t, events) ->\n",
    "            events\n",
    "            |> List.fold\n",
    "                (fun (i, events) event ->\n",
    "                    i + 1L,\n",
    "                    (t + i, event) :: events)\n",
    "                (0L, [])\n",
    "            |> snd\n",
    "            |> List.rev\n",
    "        )\n",
    "        |> FSharp.Control.AsyncSeq.concatSeq\n",
    "        |> FSharp.Control.AsyncSeq.mapAsyncParallel (fun (t, event) -> async {\n",
    "            match shouldReadContent event, event with\n",
    "            | true, FileSystemChange.Changed (path, _) ->\n",
    "                do! Async.Sleep 5\n",
    "                let! content = fullPath </> path |> readAllTextRetryAsync\n",
    "                return t, FileSystemChange.Changed (path, content)\n",
    "            | true, FileSystemChange.Created (path, _) ->\n",
    "                do! Async.Sleep 5\n",
    "                let! content = fullPath </> path |> readAllTextRetryAsync\n",
    "                return t, FileSystemChange.Created (path, content)\n",
    "            | true, FileSystemChange.Renamed (oldPath, (newPath, _)) ->\n",
    "                let! content = fullPath </> newPath |> readAllTextRetryAsync\n",
    "                return t, FileSystemChange.Renamed (oldPath, (newPath, content))\n",
    "            | _ -> return t, event\n",
    "        })\n",
    "\n",
    "    let disposable =\n",
    "        newDisposable (fun () ->\n",
    "            trace Debug (fun () -> \"watchWithFilter / Disposing watch stream\") getLocals\n",
    "            watcher.EnableRaisingEvents <- false\n",
    "            watcher.Dispose ()\n",
    "        )\n",
    "\n",
    "    stream, disposable\n",
    "\n",
    "let inline watchDirectory path =\n",
    "    watchDirectoryWithFilter\n",
    "        (System.IO.NotifyFilters.FileName\n",
    "        // ||| System.IO.NotifyFilters.DirectoryName\n",
    "        // ||| System.IO.NotifyFilters.Attributes\n",
    "        //// ||| System.IO.NotifyFilters.Size\n",
    "        ||| System.IO.NotifyFilters.LastWrite\n",
    "        //// ||| System.IO.NotifyFilters.LastAccess\n",
    "        // ||| System.IO.NotifyFilters.CreationTime\n",
    "        // ||| System.IO.NotifyFilters.Security\n",
    "        )\n",
    "        path"
   ]
  },
  {
   "cell_type": "markdown",
   "metadata": {},
   "source": [
    "### testEventsRaw (test)"
   ]
  },
  {
   "cell_type": "code",
   "execution_count": null,
   "metadata": {
    "dotnet_interactive": {
     "language": "fsharp"
    },
    "polyglot_notebook": {
     "kernelName": "fsharp"
    }
   },
   "outputs": [],
   "source": [
    "//// test\n",
    "\n",
    "let inline testEventsRaw\n",
    "    (watchFn : (_ -> bool) -> string -> FSharp.Control.AsyncSeq<int64 * FileSystemChange> * IDisposable)\n",
    "    write\n",
    "    =\n",
    "    let tempDirectory = createTempDirectory ()\n",
    "    let stream, disposable = watchFn (fun _ -> true) tempDirectory\n",
    "\n",
    "    let events = System.Collections.Concurrent.ConcurrentBag ()\n",
    "\n",
    "    let inline iter () =\n",
    "        stream\n",
    "        |> FSharp.Control.AsyncSeq.iterAsyncParallel (fun event -> async { events.Add event })\n",
    "\n",
    "    let run = async {\n",
    "        let! _ = iter () |> Async.StartChild\n",
    "        do! Async.Sleep 250\n",
    "        return! write tempDirectory\n",
    "    }\n",
    "\n",
    "    try\n",
    "        run\n",
    "        |> Async.runWithTimeout 60000\n",
    "        |> _equal (Some ())\n",
    "    finally\n",
    "        disposable.Dispose ()\n",
    "        deleteDirectoryAsync tempDirectory |> Async.Ignore |> Async.RunSynchronously\n",
    "\n",
    "    let eventsLog =\n",
    "        events\n",
    "        |> Seq.toList\n",
    "        |> List.sortBy fst\n",
    "        |> List.fold\n",
    "            (fun (prev, acc) (ticks, event) ->\n",
    "                ticks, (ticks, (if prev = 0L then 0L else ticks - prev), event) :: acc\n",
    "            )\n",
    "            (0L, [])\n",
    "        |> snd\n",
    "        |> List.rev\n",
    "        |> List.map (fun (diff, n, event) ->\n",
    "            let text = $\"{n} / {diff} / {event}\"\n",
    "            if text |> String.length <= 100\n",
    "            then text\n",
    "            else text |> String.substring 0 100 |> String.replace \"\\n\" \"\"\n",
    "        )\n",
    "        |> String.concat \"\\n\"\n",
    "    let getLocals () = $\"eventsLog: \\n{eventsLog} / {getLocals ()}\"\n",
    "    trace Debug (fun () -> \"testEventsRaw\") getLocals\n",
    "\n",
    "    events\n",
    "    |> Seq.toList\n",
    "    |> List.sortBy fst\n",
    "    |> List.map snd\n",
    "    |> List.fold\n",
    "        (fun acc event ->\n",
    "            match acc, event with\n",
    "            | FileSystemChange.Changed (lastPath, Some lastContent) as lastEvent :: acc,\n",
    "                FileSystemChange.Changed (path, Some content)\n",
    "                when lastPath = path && content |> String.startsWith lastContent\n",
    "                ->\n",
    "                event :: acc\n",
    "            | _ -> event :: acc\n",
    "        )\n",
    "        []\n",
    "    |> List.rev"
   ]
  },
  {
   "cell_type": "markdown",
   "metadata": {},
   "source": [
    "#### fast (test)"
   ]
  },
  {
   "cell_type": "code",
   "execution_count": null,
   "metadata": {
    "dotnet_interactive": {
     "language": "fsharp"
    },
    "polyglot_notebook": {
     "kernelName": "fsharp"
    }
   },
   "outputs": [
    {
     "name": "stdout",
     "output_type": "stream",
     "text": [
      "FSharpOption<Unit>\n",
      "      Value: <null>\n",
      "00:00:13 #47 [Debug] watchWithFilter / Disposing watch stream / filter: FileName, LastWrite\n",
      "00:00:13 #48 [Debug] testEventsRaw / eventsLog: \n",
      "0 / 638454483074846816 / Created (\"file1.txt\", Some \"a1\")\n",
      "11863 / 638454483074858679 / Changed (\"file1.txt\", Some \"a1\")\n",
      "1309 / 638454483074859988 / Created (\"file2.txt\", Some \"a2\")\n",
      "46 / 638454483074860034 / Changed (\"file2.txt\", Some \"a2\")\n",
      "2503341 / 638454483077363375 / Changed (\"file1.txt\", Some \"b1\")\n",
      "797 / 638454483077364172 / Changed (\"file1.txt\", Some \"b1\")\n",
      "4360 / 638454483077368532 / Changed (\"file2.txt\", Some \"b2\")\n",
      "236 / 638454483077368768 / Changed (\"file2.txt\", Some \"b2\")\n",
      "2546986 / 638454483079915754 / Renamed (\"file1.txt\", (\"file_1.txt\", Some \"b1\"))\n",
      "1943 / 638454483079917697 / Renamed (\"file2.txt\", (\"file_2.txt\", Some \"b2\"))\n",
      "2543786 / 638454483082461483 / Changed (\"file_1.txt\", Some \"c1\")\n",
      "773 / 638454483082462256 / Changed (\"file_1.txt\", Some \"c1\")\n",
      "3875 / 638454483082466131 / Changed (\"file_2.txt\", Some \"c2\")\n",
      "382 / 638454483082466513 / Changed (\"file_2.txt\", Some \"c2\")\n",
      "2501698 / 638454483084968211 / Deleted \"file_1.txt\"\n",
      "947 / 638454483084969158 / Deleted \"file_2.txt\"\n",
      "FSharpList<FileSystemChange>\n",
      "      - path: file1.txt\n",
      "        content: FSharpOption<String>\n",
      "          Value: a1\n",
      "        IsFailure: False\n",
      "        IsChanged: False\n",
      "        IsCreated: True\n",
      "        IsDeleted: False\n",
      "        IsRenamed: False\n",
      "      - path: file1.txt\n",
      "        content: FSharpOption<String>\n",
      "          Value: a1\n",
      "        IsFailure: False\n",
      "        IsChanged: True\n",
      "        IsCreated: False\n",
      "        IsDeleted: False\n",
      "        IsRenamed: False\n",
      "      - path: file2.txt\n",
      "        content: FSharpOption<String>\n",
      "          Value: a2\n",
      "        IsFailure: False\n",
      "        IsChanged: False\n",
      "        IsCreated: True\n",
      "        IsDeleted: False\n",
      "        IsRenamed: False\n",
      "      - path: file2.txt\n",
      "        content: FSharpOption<String>\n",
      "          Value: a2\n",
      "        IsFailure: False\n",
      "        IsChanged: True\n",
      "        IsCreated: False\n",
      "        IsDeleted: False\n",
      "        IsRenamed: False\n",
      "      - path: file1.txt\n",
      "        content: FSharpOption<String>\n",
      "          Value: b1\n",
      "        IsFailure: False\n",
      "        IsChanged: True\n",
      "        IsCreated: False\n",
      "        IsDeleted: False\n",
      "        IsRenamed: False\n",
      "      - path: file2.txt\n",
      "        content: FSharpOption<String>\n",
      "          Value: b2\n",
      "        IsFailure: False\n",
      "        IsChanged: True\n",
      "        IsCreated: False\n",
      "        IsDeleted: False\n",
      "        IsRenamed: False\n",
      "      - oldPath: file1.txt\n",
      "        Item2:         - file_1.txt\n",
      "        - FSharpOption<String>\n",
      "            Value: b1\n",
      "      - IsFailure: False\n",
      "        IsChanged: False\n",
      "        IsCreated: False\n",
      "        IsDeleted: False\n",
      "        IsRenamed: True\n",
      "      - oldPath: file2.txt\n",
      "        Item2:         - file_2.txt\n",
      "        - FSharpOption<String>\n",
      "            Value: b2\n",
      "      - IsFailure: False\n",
      "        IsChanged: False\n",
      "        IsCreated: False\n",
      "        IsDeleted: False\n",
      "        IsRenamed: True\n",
      "      - path: file_1.txt\n",
      "        content: FSharpOption<String>\n",
      "          Value: c1\n",
      "        IsFailure: False\n",
      "        IsChanged: True\n",
      "        IsCreated: False\n",
      "        IsDeleted: False\n",
      "        IsRenamed: False\n",
      "      - path: file_2.txt\n",
      "        content: FSharpOption<String>\n",
      "          Value: c2\n",
      "        IsFailure: False\n",
      "        IsChanged: True\n",
      "        IsCreated: False\n",
      "        IsDeleted: False\n",
      "        IsRenamed: False\n",
      "      - path: file_1.txt\n",
      "        IsFailure: False\n",
      "        IsChanged: False\n",
      "        IsCreated: False\n",
      "        IsDeleted: True\n",
      "        IsRenamed: False\n",
      "      - path: file_2.txt\n",
      "        IsFailure: False\n",
      "        IsChanged: False\n",
      "        IsCreated: False\n",
      "        IsDeleted: True\n",
      "        IsRenamed: False\n",
      "FSharpOption<Unit>\n",
      "      Value: <null>\n"
     ]
    }
   ],
   "source": [
    "//// test\n",
    "\n",
    "let inline write path = async {\n",
    "    let n = 2\n",
    "\n",
    "    for i = 1 to n do\n",
    "        do! $\"a{i}\" |> writeAllTextAsync (path </> $\"file{i}.txt\")\n",
    "\n",
    "    do! Async.Sleep 250\n",
    "\n",
    "    for i = 1 to n do\n",
    "        do! $\"b{i}\" |> writeAllTextAsync (path </> $\"file{i}.txt\")\n",
    "\n",
    "    do! Async.Sleep 250\n",
    "\n",
    "    for i = 1 to n do\n",
    "        do! path </> $\"file{i}.txt\" |> moveFileAsync (path </> $\"file_{i}.txt\") |> Async.Ignore\n",
    "\n",
    "    do! Async.Sleep 250\n",
    "\n",
    "    for i = 1 to n do\n",
    "        do! $\"c{i}\" |> writeAllTextAsync (path </> $\"file_{i}.txt\")\n",
    "\n",
    "    do! Async.Sleep 250\n",
    "\n",
    "    for i = 1 to n do\n",
    "        do! deleteFileAsync (path </> $\"file_{i}.txt\") |> Async.Ignore\n",
    "\n",
    "    do! Async.Sleep 250\n",
    "}\n",
    "\n",
    "let inline run () =\n",
    "    let events = testEventsRaw watchDirectory write\n",
    "\n",
    "    events\n",
    "    |> _sequenceEqual [\n",
    "        FileSystemChange.Created (\"file1.txt\", Some \"a1\")\n",
    "        FileSystemChange.Changed (\"file1.txt\", Some \"a1\")\n",
    "        FileSystemChange.Created (\"file2.txt\", Some \"a2\")\n",
    "        FileSystemChange.Changed (\"file2.txt\", Some \"a2\")\n",
    "\n",
    "        FileSystemChange.Changed (\"file1.txt\", Some \"b1\")\n",
    "        FileSystemChange.Changed (\"file2.txt\", Some \"b2\")\n",
    "\n",
    "        FileSystemChange.Renamed (\"file1.txt\", (\"file_1.txt\", Some \"b1\"))\n",
    "        FileSystemChange.Renamed (\"file2.txt\", (\"file_2.txt\", Some \"b2\"))\n",
    "\n",
    "        FileSystemChange.Changed (\"file_1.txt\", Some \"c1\")\n",
    "        FileSystemChange.Changed (\"file_2.txt\", Some \"c2\")\n",
    "\n",
    "        FileSystemChange.Deleted \"file_1.txt\"\n",
    "        FileSystemChange.Deleted \"file_2.txt\"\n",
    "    ]\n",
    "\n",
    "run\n",
    "|> retryFn 3\n",
    "|> _equal (Some ())"
   ]
  },
  {
   "cell_type": "markdown",
   "metadata": {},
   "source": [
    "#### slow (test)"
   ]
  },
  {
   "cell_type": "code",
   "execution_count": null,
   "metadata": {
    "dotnet_interactive": {
     "language": "fsharp"
    },
    "polyglot_notebook": {
     "kernelName": "fsharp"
    }
   },
   "outputs": [
    {
     "name": "stdout",
     "output_type": "stream",
     "text": [
      "FSharpOption<Unit>\n",
      "      Value: <null>\n",
      "00:00:23 #49 [Debug] watchWithFilter / Disposing watch stream / filter: FileName, LastWrite\n",
      "00:00:25 #50 [Debug] testEventsRaw / eventsLog: \n",
      "0 / 638454483114931530 / Created  (\"file1.txt\",   Some     \"1111111111111111111111111111111111111\n",
      "3024 / 638454483114934554 / Changed  (\"file1.txt\",   Some     \"1111111111111111111111111111111111\n",
      "230 / 638454483114934784 / Changed  (\"file1.txt\",   Some     \"11111111111111111111111111111111111\n",
      "25 / 638454483114934809 / Changed  (\"file1.txt\",   Some     \"111111111111111111111111111111111111\n",
      "3925 / 638454483114938734 / Changed  (\"file1.txt\",   Some     \"1111111111111111111111111111111111\n",
      "81 / 638454483114938815 / Changed  (\"file1.txt\",   Some     \"111111111111111111111111111111111111\n",
      "293 / 638454483114939108 / Changed  (\"file1.txt\",   Some     \"11111111111111111111111111111111111\n",
      "255 / 638454483114939363 / Changed  (\"file1.txt\",   Some     \"11111111111111111111111111111111111\n",
      "287 / 638454483114939650 / Changed  (\"file1.txt\",   Some     \"11111111111111111111111111111111111\n",
      "239 / 638454483114939889 / Changed  (\"file1.txt\",   Some     \"11111111111111111111111111111111111\n",
      "199 / 638454483114940088 / Changed  (\"file1.txt\",   Some     \"11111111111111111111111111111111111\n",
      "175 / 638454483114940263 / Changed  (\"file1.txt\",   Some     \"11111111111111111111111111111111111\n",
      "243 / 638454483114940506 / Changed  (\"file1.txt\",   Some     \"11111111111111111111111111111111111\n",
      "177 / 638454483114940683 / Changed  (\"file1.txt\",   Some     \"11111111111111111111111111111111111\n",
      "230 / 638454483114940913 / Changed  (\"file1.txt\",   Some     \"11111111111111111111111111111111111\n",
      "163 / 638454483114941076 / Changed  (\"file1.txt\",   Some     \"11111111111111111111111111111111111\n",
      "194 / 638454483114941270 / Changed  (\"file1.txt\",   Some     \"11111111111111111111111111111111111\n",
      "291 / 638454483114941561 / Changed  (\"file1.txt\",   Some     \"11111111111111111111111111111111111\n",
      "122 / 638454483114941683 / Changed  (\"file1.txt\",   Some     \"11111111111111111111111111111111111\n",
      "157 / 638454483114941840 / Changed  (\"file1.txt\",   Some     \"11111111111111111111111111111111111\n",
      "289 / 638454483114942129 / Changed  (\"file1.txt\",   Some     \"11111111111111111111111111111111111\n",
      "292 / 638454483114942421 / Changed  (\"file1.txt\",   Some     \"11111111111111111111111111111111111\n",
      "180 / 638454483114942601 / Changed  (\"file1.txt\",   Some     \"11111111111111111111111111111111111\n",
      "215 / 638454483114942816 / Changed  (\"file1.txt\",   Some     \"11111111111111111111111111111111111\n",
      "202 / 638454483114943018 / Changed  (\"file1.txt\",   Some     \"11111111111111111111111111111111111\n",
      "270 / 638454483114943288 / Changed  (\"file1.txt\",   Some     \"11111111111111111111111111111111111\n",
      "67 / 638454483114943355 / Changed  (\"file1.txt\",   Some     \"111111111111111111111111111111111111\n",
      "239 / 638454483114943594 / Changed  (\"file1.txt\",   Some     \"11111111111111111111111111111111111\n",
      "159 / 638454483114943753 / Changed  (\"file1.txt\",   Some     \"11111111111111111111111111111111111\n",
      "203 / 638454483114943956 / Changed  (\"file1.txt\",   Some     \"11111111111111111111111111111111111\n",
      "195 / 638454483114944151 / Changed  (\"file1.txt\",   Some     \"11111111111111111111111111111111111\n",
      "169 / 638454483114944320 / Changed  (\"file1.txt\",   Some     \"11111111111111111111111111111111111\n",
      "207 / 638454483114944527 / Changed  (\"file1.txt\",   Some     \"11111111111111111111111111111111111\n",
      "264 / 638454483114944791 / Changed  (\"file1.txt\",   Some     \"11111111111111111111111111111111111\n",
      "223 / 638454483114945014 / Changed  (\"file1.txt\",   Some     \"11111111111111111111111111111111111\n",
      "171 / 638454483114945185 / Changed  (\"file1.txt\",   Some     \"11111111111111111111111111111111111\n",
      "208 / 638454483114945393 / Changed  (\"file1.txt\",   Some     \"11111111111111111111111111111111111\n",
      "189 / 638454483114945582 / Changed  (\"file1.txt\",   Some     \"11111111111111111111111111111111111\n",
      "198 / 638454483114945780 / Changed  (\"file1.txt\",   Some     \"11111111111111111111111111111111111\n",
      "177 / 638454483114945957 / Changed  (\"file1.txt\",   Some     \"11111111111111111111111111111111111\n",
      "249 / 638454483114946206 / Changed  (\"file1.txt\",   Some     \"11111111111111111111111111111111111\n",
      "151 / 638454483114946357 / Changed  (\"file1.txt\",   Some     \"11111111111111111111111111111111111\n",
      "1676 / 638454483114948033 / Changed  (\"file1.txt\",   Some     \"1111111111111111111111111111111111\n",
      "1090 / 638454483114949123 / Changed  (\"file1.txt\",   Some     \"1111111111111111111111111111111111\n",
      "45 / 638454483114949168 / Changed  (\"file1.txt\",   Some     \"111111111111111111111111111111111111\n",
      "248 / 638454483114949416 / Changed  (\"file1.txt\",   Some     \"11111111111111111111111111111111111\n",
      "166 / 638454483114949582 / Changed  (\"file1.txt\",   Some     \"11111111111111111111111111111111111\n",
      "218 / 638454483114949800 / Changed  (\"file1.txt\",   Some     \"11111111111111111111111111111111111\n",
      "177 / 638454483114949977 / Changed  (\"file1.txt\",   Some     \"11111111111111111111111111111111111\n",
      "192 / 638454483114950169 / Changed  (\"file1.txt\",   Some     \"11111111111111111111111111111111111\n",
      "361 / 638454483114950530 / Changed  (\"file1.txt\",   Some     \"11111111111111111111111111111111111\n",
      "303 / 638454483114950833 / Changed  (\"file1.txt\",   Some     \"11111111111111111111111111111111111\n",
      "208 / 638454483114951041 / Changed  (\"file1.txt\",   Some     \"11111111111111111111111111111111111\n",
      "203 / 638454483114951244 / Changed  (\"file1.txt\",   Some     \"11111111111111111111111111111111111\n",
      "179 / 638454483114951423 / Changed  (\"file1.txt\",   Some     \"11111111111111111111111111111111111\n",
      "184 / 638454483114951607 / Changed  (\"file1.txt\",   Some     \"11111111111111111111111111111111111\n",
      "119 / 638454483114951726 / Changed  (\"file1.txt\",   Some     \"11111111111111111111111111111111111\n",
      "227 / 638454483114951953 / Changed  (\"file1.txt\",   Some     \"11111111111111111111111111111111111\n",
      "197 / 638454483114952150 / Changed  (\"file1.txt\",   Some     \"11111111111111111111111111111111111\n",
      "228 / 638454483114952378 / Changed  (\"file1.txt\",   Some     \"11111111111111111111111111111111111\n",
      "183 / 638454483114952561 / Changed  (\"file1.txt\",   Some     \"11111111111111111111111111111111111\n",
      "288 / 638454483114952849 / Changed  (\"file1.txt\",   Some     \"11111111111111111111111111111111111\n",
      "68 / 638454483114952917 / Changed  (\"file1.txt\",   Some     \"111111111111111111111111111111111111\n",
      "33 / 638454483114952950 / Changed  (\"file1.txt\",   Some     \"111111111111111111111111111111111111\n",
      "31335 / 638454483114984285 / Created  (\"file2.txt\",   Some     \"222222222222222222222222222222222\n",
      "291 / 638454483114984576 / Changed  (\"file2.txt\",   Some     \"22222222222222222222222222222222222\n",
      "262 / 638454483114984838 / Changed  (\"file2.txt\",   Some     \"22222222222222222222222222222222222\n",
      "617 / 638454483114985455 / Changed  (\"file2.txt\",   Some     \"22222222222222222222222222222222222\n",
      "292 / 638454483114985747 / Changed  (\"file2.txt\",   Some     \"22222222222222222222222222222222222\n",
      "173 / 638454483114985920 / Changed  (\"file2.txt\",   Some     \"22222222222222222222222222222222222\n",
      "126 / 638454483114986046 / Changed  (\"file2.txt\",   Some     \"22222222222222222222222222222222222\n",
      "176 / 638454483114986222 / Changed  (\"file2.txt\",   Some     \"22222222222222222222222222222222222\n",
      "162 / 638454483114986384 / Changed  (\"file2.txt\",   Some     \"22222222222222222222222222222222222\n",
      "164 / 638454483114986548 / Changed  (\"file2.txt\",   Some     \"22222222222222222222222222222222222\n",
      "194 / 638454483114986742 / Changed  (\"file2.txt\",   Some     \"22222222222222222222222222222222222\n",
      "311 / 638454483114987053 / Changed  (\"file2.txt\",   Some     \"22222222222222222222222222222222222\n",
      "162 / 638454483114987215 / Changed  (\"file2.txt\",   Some     \"22222222222222222222222222222222222\n",
      "203 / 638454483114987418 / Changed  (\"file2.txt\",   Some     \"22222222222222222222222222222222222\n",
      "147 / 638454483114987565 / Changed  (\"file2.txt\",   Some     \"22222222222222222222222222222222222\n",
      "162 / 638454483114987727 / Changed  (\"file2.txt\",   Some     \"22222222222222222222222222222222222\n",
      "172 / 638454483114987899 / Changed  (\"file2.txt\",   Some     \"22222222222222222222222222222222222\n",
      "162 / 638454483114988061 / Changed  (\"file2.txt\",   Some     \"22222222222222222222222222222222222\n",
      "164 / 638454483114988225 / Changed  (\"file2.txt\",   Some     \"22222222222222222222222222222222222\n",
      "207 / 638454483114988432 / Changed  (\"file2.txt\",   Some     \"22222222222222222222222222222222222\n",
      "155 / 638454483114988587 / Changed  (\"file2.txt\",   Some     \"22222222222222222222222222222222222\n",
      "156 / 638454483114988743 / Changed  (\"file2.txt\",   Some     \"22222222222222222222222222222222222\n",
      "163 / 638454483114988906 / Changed  (\"file2.txt\",   Some     \"22222222222222222222222222222222222\n",
      "180 / 638454483114989086 / Changed  (\"file2.txt\",   Some     \"22222222222222222222222222222222222\n",
      "161 / 638454483114989247 / Changed  (\"file2.txt\",   Some     \"22222222222222222222222222222222222\n",
      "180 / 638454483114989427 / Changed  (\"file2.txt\",   Some     \"22222222222222222222222222222222222\n",
      "173 / 638454483114989600 / Changed  (\"file2.txt\",   Some     \"22222222222222222222222222222222222\n",
      "161 / 638454483114989761 / Changed  (\"file2.txt\",   Some     \"22222222222222222222222222222222222\n",
      "169 / 638454483114989930 / Changed  (\"file2.txt\",   Some     \"22222222222222222222222222222222222\n",
      "152 / 638454483114990082 / Changed  (\"file2.txt\",   Some     \"22222222222222222222222222222222222\n",
      "204 / 638454483114990286 / Changed  (\"file2.txt\",   Some     \"22222222222222222222222222222222222\n",
      "147 / 638454483114990433 / Changed  (\"file2.txt\",   Some     \"22222222222222222222222222222222222\n",
      "164 / 638454483114990597 / Changed  (\"file2.txt\",   Some     \"22222222222222222222222222222222222\n",
      "190 / 638454483114990787 / Changed  (\"file2.txt\",   Some     \"22222222222222222222222222222222222\n",
      "213 / 638454483114991000 / Changed  (\"file2.txt\",   Some     \"22222222222222222222222222222222222\n",
      "157 / 638454483114991157 / Changed  (\"file2.txt\",   Some     \"22222222222222222222222222222222222\n",
      "157 / 638454483114991314 / Changed  (\"file2.txt\",   Some     \"22222222222222222222222222222222222\n",
      "164 / 638454483114991478 / Changed  (\"file2.txt\",   Some     \"22222222222222222222222222222222222\n",
      "158 / 638454483114991636 / Changed  (\"file2.txt\",   Some     \"22222222222222222222222222222222222\n",
      "204 / 638454483114991840 / Changed  (\"file2.txt\",   Some     \"22222222222222222222222222222222222\n",
      "138 / 638454483114991978 / Changed  (\"file2.txt\",   Some     \"22222222222222222222222222222222222\n",
      "175 / 638454483114992153 / Changed  (\"file2.txt\",   Some     \"22222222222222222222222222222222222\n",
      "162 / 638454483114992315 / Changed  (\"file2.txt\",   Some     \"22222222222222222222222222222222222\n",
      "168 / 638454483114992483 / Changed  (\"file2.txt\",   Some     \"22222222222222222222222222222222222\n",
      "191 / 638454483114992674 / Changed  (\"file2.txt\",   Some     \"22222222222222222222222222222222222\n",
      "167 / 638454483114992841 / Changed  (\"file2.txt\",   Some     \"22222222222222222222222222222222222\n",
      "172 / 638454483114993013 / Changed  (\"file2.txt\",   Some     \"22222222222222222222222222222222222\n",
      "198 / 638454483114993211 / Changed  (\"file2.txt\",   Some     \"22222222222222222222222222222222222\n",
      "170 / 638454483114993381 / Changed  (\"file2.txt\",   Some     \"22222222222222222222222222222222222\n",
      "193 / 638454483114993574 / Changed  (\"file2.txt\",   Some     \"22222222222222222222222222222222222\n",
      "188 / 638454483114993762 / Changed  (\"file2.txt\",   Some     \"22222222222222222222222222222222222\n",
      "169 / 638454483114993931 / Changed  (\"file2.txt\",   Some     \"22222222222222222222222222222222222\n",
      "168 / 638454483114994099 / Changed  (\"file2.txt\",   Some     \"22222222222222222222222222222222222\n",
      "190 / 638454483114994289 / Changed  (\"file2.txt\",   Some     \"22222222222222222222222222222222222\n",
      "171 / 638454483114994460 / Changed  (\"file2.txt\",   Some     \"22222222222222222222222222222222222\n",
      "214 / 638454483114994674 / Changed  (\"file2.txt\",   Some     \"22222222222222222222222222222222222\n",
      "213 / 638454483114994887 / Changed  (\"file2.txt\",   Some     \"22222222222222222222222222222222222\n",
      "219 / 638454483114995106 / Changed  (\"file2.txt\",   Some     \"22222222222222222222222222222222222\n",
      "384 / 638454483114995490 / Changed  (\"file2.txt\",   Some     \"22222222222222222222222222222222222\n",
      "274 / 638454483114995764 / Changed  (\"file2.txt\",   Some     \"22222222222222222222222222222222222\n",
      "484 / 638454483114996248 / Changed  (\"file2.txt\",   Some     \"22222222222222222222222222222222222\n",
      "317 / 638454483114996565 / Changed  (\"file2.txt\",   Some     \"22222222222222222222222222222222222\n",
      "219 / 638454483114996784 / Changed  (\"file2.txt\",   Some     \"22222222222222222222222222222222222\n",
      "247 / 638454483114997031 / Changed  (\"file2.txt\",   Some     \"22222222222222222222222222222222222\n",
      "222 / 638454483114997253 / Changed  (\"file2.txt\",   Some     \"22222222222222222222222222222222222\n",
      "296 / 638454483114997549 / Changed  (\"file2.txt\",   Some     \"22222222222222222222222222222222222\n",
      "263 / 638454483114997812 / Changed  (\"file2.txt\",   Some     \"22222222222222222222222222222222222\n",
      "199 / 638454483114998011 / Changed  (\"file2.txt\",   Some     \"22222222222222222222222222222222222\n",
      "154 / 638454483114998165 / Changed  (\"file2.txt\",   Some     \"22222222222222222222222222222222222\n",
      "176 / 638454483114998341 / Changed  (\"file2.txt\",   Some     \"22222222222222222222222222222222222\n",
      "162 / 638454483114998503 / Changed  (\"file2.txt\",   Some     \"22222222222222222222222222222222222\n",
      "170 / 638454483114998673 / Changed  (\"file2.txt\",   Some     \"22222222222222222222222222222222222\n",
      "151 / 638454483114998824 / Changed  (\"file2.txt\",   Some     \"22222222222222222222222222222222222\n",
      "168 / 638454483114998992 / Changed  (\"file2.txt\",   Some     \"22222222222222222222222222222222222\n",
      "195 / 638454483114999187 / Changed  (\"file2.txt\",   Some     \"22222222222222222222222222222222222\n",
      "166 / 638454483114999353 / Changed  (\"file2.txt\",   Some     \"22222222222222222222222222222222222\n",
      "186 / 638454483114999539 / Changed  (\"file2.txt\",   Some     \"22222222222222222222222222222222222\n",
      "172 / 638454483114999711 / Changed  (\"file2.txt\",   Some     \"22222222222222222222222222222222222\n",
      "168 / 638454483114999879 / Changed  (\"file2.txt\",   Some     \"22222222222222222222222222222222222\n",
      "187 / 638454483115000066 / Changed  (\"file2.txt\",   Some     \"22222222222222222222222222222222222\n",
      "168 / 638454483115000234 / Changed  (\"file2.txt\",   Some     \"22222222222222222222222222222222222\n",
      "209 / 638454483115000443 / Changed  (\"file2.txt\",   Some     \"22222222222222222222222222222222222\n",
      "172 / 638454483115000615 / Changed  (\"file2.txt\",   Some     \"22222222222222222222222222222222222\n",
      "168 / 638454483115000783 / Changed  (\"file2.txt\",   Some     \"22222222222222222222222222222222222\n",
      "163 / 638454483115000946 / Changed  (\"file2.txt\",   Some     \"22222222222222222222222222222222222\n",
      "197 / 638454483115001143 / Changed  (\"file2.txt\",   Some     \"22222222222222222222222222222222222\n",
      "185 / 638454483115001328 / Changed  (\"file2.txt\",   Some     \"22222222222222222222222222222222222\n",
      "165 / 638454483115001493 / Changed  (\"file2.txt\",   Some     \"22222222222222222222222222222222222\n",
      "167 / 638454483115001660 / Changed  (\"file2.txt\",   Some     \"22222222222222222222222222222222222\n",
      "190 / 638454483115001850 / Changed  (\"file2.txt\",   Some     \"22222222222222222222222222222222222\n",
      "646 / 638454483115002496 / Changed  (\"file2.txt\",   Some     \"22222222222222222222222222222222222\n",
      "54 / 638454483115002550 / Changed  (\"file2.txt\",   Some     \"222222222222222222222222222222222222\n",
      "172 / 638454483115002722 / Changed  (\"file2.txt\",   Some     \"22222222222222222222222222222222222\n",
      "475 / 638454483115003197 / Changed  (\"file2.txt\",   Some     \"22222222222222222222222222222222222\n",
      "190 / 638454483115003387 / Changed  (\"file2.txt\",   Some     \"22222222222222222222222222222222222\n",
      "196 / 638454483115003583 / Changed  (\"file2.txt\",   Some     \"22222222222222222222222222222222222\n",
      "153 / 638454483115003736 / Changed  (\"file2.txt\",   Some     \"22222222222222222222222222222222222\n",
      "195 / 638454483115003931 / Changed  (\"file2.txt\",   Some     \"22222222222222222222222222222222222\n",
      "163 / 638454483115004094 / Changed  (\"file2.txt\",   Some     \"22222222222222222222222222222222222\n",
      "200 / 638454483115004294 / Changed  (\"file2.txt\",   Some     \"22222222222222222222222222222222222\n",
      "172 / 638454483115004466 / Changed  (\"file2.txt\",   Some     \"22222222222222222222222222222222222\n",
      "191 / 638454483115004657 / Changed  (\"file2.txt\",   Some     \"22222222222222222222222222222222222\n",
      "281 / 638454483115004938 / Changed  (\"file2.txt\",   Some     \"22222222222222222222222222222222222\n",
      "177 / 638454483115005115 / Changed  (\"file2.txt\",   Some     \"22222222222222222222222222222222222\n",
      "151 / 638454483115005266 / Changed  (\"file2.txt\",   Some     \"22222222222222222222222222222222222\n",
      "167 / 638454483115005433 / Changed  (\"file2.txt\",   Some     \"22222222222222222222222222222222222\n",
      "188 / 638454483115005621 / Changed  (\"file2.txt\",   Some     \"22222222222222222222222222222222222\n",
      "173 / 638454483115005794 / Changed  (\"file2.txt\",   Some     \"22222222222222222222222222222222222\n",
      "156 / 638454483115005950 / Changed  (\"file2.txt\",   Some     \"22222222222222222222222222222222222\n",
      "172 / 638454483115006122 / Changed  (\"file2.txt\",   Some     \"22222222222222222222222222222222222\n",
      "181 / 638454483115006303 / Changed  (\"file2.txt\",   Some     \"22222222222222222222222222222222222\n",
      "176 / 638454483115006479 / Changed  (\"file2.txt\",   Some     \"22222222222222222222222222222222222\n",
      "183 / 638454483115006662 / Changed  (\"file2.txt\",   Some     \"22222222222222222222222222222222222\n",
      "176 / 638454483115006838 / Changed  (\"file2.txt\",   Some     \"22222222222222222222222222222222222\n",
      "181 / 638454483115007019 / Changed  (\"file2.txt\",   Some     \"22222222222222222222222222222222222\n",
      "164 / 638454483115007183 / Changed  (\"file2.txt\",   Some     \"22222222222222222222222222222222222\n",
      "175 / 638454483115007358 / Changed  (\"file2.txt\",   Some     \"22222222222222222222222222222222222\n",
      "170 / 638454483115007528 / Changed  (\"file2.txt\",   Some     \"22222222222222222222222222222222222\n",
      "171 / 638454483115007699 / Changed  (\"file2.txt\",   Some     \"22222222222222222222222222222222222\n",
      "189 / 638454483115007888 / Changed  (\"file2.txt\",   Some     \"22222222222222222222222222222222222\n",
      "171 / 638454483115008059 / Changed  (\"file2.txt\",   Some     \"22222222222222222222222222222222222\n",
      "195 / 638454483115008254 / Changed  (\"file2.txt\",   Some     \"22222222222222222222222222222222222\n",
      "191 / 638454483115008445 / Changed  (\"file2.txt\",   Some     \"22222222222222222222222222222222222\n",
      "36 / 638454483115008481 / Changed  (\"file2.txt\",   Some     \"222222222222222222222222222222222222\n",
      "15049482 / 638454483130057963 / Changed  (\"file1.txt\",   Some     \"111111111111111111111111111111\n",
      "831 / 638454483130058794 / Changed  (\"file1.txt\",   Some     \"11111111111111111111111111111111111\n",
      "1365 / 638454483130060159 / Changed  (\"file1.txt\",   Some     \"1111111111111111111111111111111111\n",
      "84 / 638454483130060243 / Changed  (\"file1.txt\",   Some     \"111111111111111111111111111111111111\n",
      "315 / 638454483130060558 / Changed  (\"file1.txt\",   Some     \"11111111111111111111111111111111111\n",
      "52 / 638454483130060610 / Changed  (\"file1.txt\",   Some     \"111111111111111111111111111111111111\n",
      "343 / 638454483130060953 / Changed  (\"file1.txt\",   Some     \"11111111111111111111111111111111111\n",
      "55 / 638454483130061008 / Changed  (\"file1.txt\",   Some     \"111111111111111111111111111111111111\n",
      "332 / 638454483130061340 / Changed  (\"file1.txt\",   Some     \"11111111111111111111111111111111111\n",
      "195 / 638454483130061535 / Changed  (\"file1.txt\",   Some     \"11111111111111111111111111111111111\n",
      "171 / 638454483130061706 / Changed  (\"file1.txt\",   Some     \"11111111111111111111111111111111111\n",
      "37 / 638454483130061743 / Changed  (\"file1.txt\",   Some     \"111111111111111111111111111111111111\n",
      "280 / 638454483130062023 / Changed  (\"file1.txt\",   Some     \"11111111111111111111111111111111111\n",
      "36 / 638454483130062059 / Changed  (\"file1.txt\",   Some     \"111111111111111111111111111111111111\n",
      "292 / 638454483130062351 / Changed  (\"file1.txt\",   Some     \"11111111111111111111111111111111111\n",
      "47 / 638454483130062398 / Changed  (\"file1.txt\",   Some     \"111111111111111111111111111111111111\n",
      "356 / 638454483130062754 / Changed  (\"file1.txt\",   Some     \"11111111111111111111111111111111111\n",
      "188 / 638454483130062942 / Changed  (\"file1.txt\",   Some     \"11111111111111111111111111111111111\n",
      "299 / 638454483130063241 / Changed  (\"file1.txt\",   Some     \"11111111111111111111111111111111111\n",
      "237 / 638454483130063478 / Changed  (\"file1.txt\",   Some     \"11111111111111111111111111111111111\n",
      "180 / 638454483130063658 / Changed  (\"file1.txt\",   Some     \"11111111111111111111111111111111111\n",
      "441 / 638454483130064099 / Changed  (\"file1.txt\",   Some     \"11111111111111111111111111111111111\n",
      "55 / 638454483130064154 / Changed  (\"file1.txt\",   Some     \"111111111111111111111111111111111111\n",
      "222 / 638454483130064376 / Changed  (\"file1.txt\",   Some     \"11111111111111111111111111111111111\n",
      "192 / 638454483130064568 / Changed  (\"file1.txt\",   Some     \"11111111111111111111111111111111111\n",
      "196 / 638454483130064764 / Changed  (\"file1.txt\",   Some     \"11111111111111111111111111111111111\n",
      "192 / 638454483130064956 / Changed  (\"file1.txt\",   Some     \"11111111111111111111111111111111111\n",
      "440 / 638454483130065396 / Changed  (\"file1.txt\",   Some     \"11111111111111111111111111111111111\n",
      "155 / 638454483130065551 / Changed  (\"file1.txt\",   Some     \"11111111111111111111111111111111111\n",
      "365 / 638454483130065916 / Changed  (\"file1.txt\",   Some     \"11111111111111111111111111111111111\n",
      "172 / 638454483130066088 / Changed  (\"file1.txt\",   Some     \"11111111111111111111111111111111111\n",
      "222 / 638454483130066310 / Changed  (\"file1.txt\",   Some     \"11111111111111111111111111111111111\n",
      "194 / 638454483130066504 / Changed  (\"file1.txt\",   Some     \"11111111111111111111111111111111111\n",
      "187 / 638454483130066691 / Changed  (\"file1.txt\",   Some     \"11111111111111111111111111111111111\n",
      "332 / 638454483130067023 / Changed  (\"file1.txt\",   Some     \"11111111111111111111111111111111111\n",
      "57 / 638454483130067080 / Changed  (\"file1.txt\",   Some     \"111111111111111111111111111111111111\n",
      "206 / 638454483130067286 / Changed  (\"file1.txt\",   Some     \"11111111111111111111111111111111111\n",
      "111 / 638454483130067397 / Changed  (\"file1.txt\",   Some     \"11111111111111111111111111111111111\n",
      "250 / 638454483130067647 / Changed  (\"file1.txt\",   Some     \"11111111111111111111111111111111111\n",
      "134 / 638454483130067781 / Changed  (\"file1.txt\",   Some     \"11111111111111111111111111111111111\n",
      "238 / 638454483130068019 / Changed  (\"file1.txt\",   Some     \"11111111111111111111111111111111111\n",
      "120 / 638454483130068139 / Changed  (\"file1.txt\",   Some     \"11111111111111111111111111111111111\n",
      "163 / 638454483130068302 / Changed  (\"file1.txt\",   Some     \"11111111111111111111111111111111111\n",
      "181 / 638454483130068483 / Changed  (\"file1.txt\",   Some     \"11111111111111111111111111111111111\n",
      "236 / 638454483130068719 / Changed  (\"file1.txt\",   Some     \"11111111111111111111111111111111111\n",
      "41 / 638454483130068760 / Changed  (\"file1.txt\",   Some     \"111111111111111111111111111111111111\n",
      "291 / 638454483130069051 / Changed  (\"file1.txt\",   Some     \"11111111111111111111111111111111111\n",
      "52 / 638454483130069103 / Changed  (\"file1.txt\",   Some     \"111111111111111111111111111111111111\n",
      "245 / 638454483130069348 / Changed  (\"file1.txt\",   Some     \"11111111111111111111111111111111111\n",
      "141 / 638454483130069489 / Changed  (\"file1.txt\",   Some     \"11111111111111111111111111111111111\n",
      "148 / 638454483130069637 / Changed  (\"file1.txt\",   Some     \"11111111111111111111111111111111111\n",
      "209 / 638454483130069846 / Changed  (\"file1.txt\",   Some     \"11111111111111111111111111111111111\n",
      "50 / 638454483130069896 / Changed  (\"file1.txt\",   Some     \"111111111111111111111111111111111111\n",
      "267 / 638454483130070163 / Changed  (\"file1.txt\",   Some     \"11111111111111111111111111111111111\n",
      "145 / 638454483130070308 / Changed  (\"file1.txt\",   Some     \"11111111111111111111111111111111111\n",
      "161 / 638454483130070469 / Changed  (\"file1.txt\",   Some     \"11111111111111111111111111111111111\n",
      "49 / 638454483130070518 / Changed  (\"file1.txt\",   Some     \"111111111111111111111111111111111111\n",
      "260 / 638454483130070778 / Changed  (\"file1.txt\",   Some     \"11111111111111111111111111111111111\n",
      "185 / 638454483130070963 / Changed  (\"file1.txt\",   Some     \"11111111111111111111111111111111111\n",
      "92 / 638454483130071055 / Changed  (\"file1.txt\",   Some     \"111111111111111111111111111111111111\n",
      "277 / 638454483130071332 / Changed  (\"file1.txt\",   Some     \"11111111111111111111111111111111111\n",
      "46 / 638454483130071378 / Changed  (\"file1.txt\",   Some     \"111111111111111111111111111111111111\n",
      "265 / 638454483130071643 / Changed  (\"file1.txt\",   Some     \"11111111111111111111111111111111111\n",
      "143 / 638454483130071786 / Changed  (\"file1.txt\",   Some     \"11111111111111111111111111111111111\n",
      "156 / 638454483130071942 / Changed  (\"file1.txt\",   Some     \"11111111111111111111111111111111111\n",
      "96 / 638454483130072038 / Changed  (\"file1.txt\",   Some     \"111111111111111111111111111111111111\n",
      "154 / 638454483130072192 / Changed  (\"file1.txt\",   Some     \"11111111111111111111111111111111111\n",
      "143 / 638454483130072335 / Changed  (\"file1.txt\",   Some     \"11111111111111111111111111111111111\n",
      "252 / 638454483130072587 / Changed  (\"file1.txt\",   Some     \"11111111111111111111111111111111111\n",
      "230 / 638454483130072817 / Changed  (\"file1.txt\",   Some     \"11111111111111111111111111111111111\n",
      "45 / 638454483130072862 / Changed  (\"file1.txt\",   Some     \"111111111111111111111111111111111111\n",
      "215 / 638454483130073077 / Changed  (\"file1.txt\",   Some     \"11111111111111111111111111111111111\n",
      "139 / 638454483130073216 / Changed  (\"file1.txt\",   Some     \"11111111111111111111111111111111111\n",
      "235 / 638454483130073451 / Changed  (\"file1.txt\",   Some     \"11111111111111111111111111111111111\n",
      "166 / 638454483130073617 / Changed  (\"file1.txt\",   Some     \"11111111111111111111111111111111111\n",
      "98 / 638454483130073715 / Changed  (\"file1.txt\",   Some     \"111111111111111111111111111111111111\n",
      "263 / 638454483130073978 / Changed  (\"file1.txt\",   Some     \"11111111111111111111111111111111111\n",
      "143 / 638454483130074121 / Changed  (\"file1.txt\",   Some     \"11111111111111111111111111111111111\n",
      "154 / 638454483130074275 / Changed  (\"file1.txt\",   Some     \"11111111111111111111111111111111111\n",
      "155 / 638454483130074430 / Changed  (\"file1.txt\",   Some     \"11111111111111111111111111111111111\n",
      "42 / 638454483130074472 / Changed  (\"file1.txt\",   Some     \"111111111111111111111111111111111111\n",
      "262 / 638454483130074734 / Changed  (\"file1.txt\",   Some     \"11111111111111111111111111111111111\n",
      "130 / 638454483130074864 / Changed  (\"file1.txt\",   Some     \"11111111111111111111111111111111111\n",
      "137 / 638454483130075001 / Changed  (\"file1.txt\",   Some     \"11111111111111111111111111111111111\n",
      "250 / 638454483130075251 / Changed  (\"file1.txt\",   Some     \"11111111111111111111111111111111111\n",
      "134 / 638454483130075385 / Changed  (\"file1.txt\",   Some     \"11111111111111111111111111111111111\n",
      "221 / 638454483130075606 / Changed  (\"file1.txt\",   Some     \"11111111111111111111111111111111111\n",
      "161 / 638454483130075767 / Changed  (\"file1.txt\",   Some     \"11111111111111111111111111111111111\n",
      "309 / 638454483130076076 / Changed  (\"file1.txt\",   Some     \"11111111111111111111111111111111111\n",
      "223 / 638454483130076299 / Changed  (\"file1.txt\",   Some     \"11111111111111111111111111111111111\n",
      "203 / 638454483130076502 / Changed  (\"file1.txt\",   Some     \"11111111111111111111111111111111111\n",
      "159 / 638454483130076661 / Changed  (\"file1.txt\",   Some     \"11111111111111111111111111111111111\n",
      "300 / 638454483130076961 / Changed  (\"file1.txt\",   Some     \"11111111111111111111111111111111111\n",
      "230 / 638454483130077191 / Changed  (\"file1.txt\",   Some     \"11111111111111111111111111111111111\n",
      "201 / 638454483130077392 / Changed  (\"file1.txt\",   Some     \"11111111111111111111111111111111111\n",
      "197 / 638454483130077589 / Changed  (\"file1.txt\",   Some     \"11111111111111111111111111111111111\n",
      "177 / 638454483130077766 / Changed  (\"file1.txt\",   Some     \"11111111111111111111111111111111111\n",
      "205 / 638454483130077971 / Changed  (\"file1.txt\",   Some     \"11111111111111111111111111111111111\n",
      "196 / 638454483130078167 / Changed  (\"file1.txt\",   Some     \"11111111111111111111111111111111111\n",
      "193 / 638454483130078360 / Changed  (\"file1.txt\",   Some     \"11111111111111111111111111111111111\n",
      "193 / 638454483130078553 / Changed  (\"file1.txt\",   Some     \"11111111111111111111111111111111111\n",
      "211 / 638454483130078764 / Changed  (\"file1.txt\",   Some     \"11111111111111111111111111111111111\n",
      "312 / 638454483130079076 / Changed  (\"file1.txt\",   Some     \"11111111111111111111111111111111111\n",
      "180 / 638454483130079256 / Changed  (\"file1.txt\",   Some     \"11111111111111111111111111111111111\n",
      "105 / 638454483130079361 / Changed  (\"file1.txt\",   Some     \"11111111111111111111111111111111111\n",
      "204 / 638454483130079565 / Changed  (\"file1.txt\",   Some     \"11111111111111111111111111111111111\n",
      "177 / 638454483130079742 / Changed  (\"file1.txt\",   Some     \"11111111111111111111111111111111111\n",
      "204 / 638454483130079946 / Changed  (\"file1.txt\",   Some     \"11111111111111111111111111111111111\n",
      "158 / 638454483130080104 / Changed  (\"file1.txt\",   Some     \"11111111111111111111111111111111111\n",
      "206 / 638454483130080310 / Changed  (\"file1.txt\",   Some     \"11111111111111111111111111111111111\n",
      "253 / 638454483130080563 / Changed  (\"file1.txt\",   Some     \"11111111111111111111111111111111111\n",
      "185 / 638454483130080748 / Changed  (\"file1.txt\",   Some     \"11111111111111111111111111111111111\n",
      "223 / 638454483130080971 / Changed  (\"file1.txt\",   Some     \"11111111111111111111111111111111111\n",
      "196 / 638454483130081167 / Changed  (\"file1.txt\",   Some     \"11111111111111111111111111111111111\n",
      "189 / 638454483130081356 / Changed  (\"file1.txt\",   Some     \"11111111111111111111111111111111111\n",
      "258 / 638454483130081614 / Changed  (\"file1.txt\",   Some     \"11111111111111111111111111111111111\n",
      "244 / 638454483130081858 / Changed  (\"file1.txt\",   Some     \"11111111111111111111111111111111111\n",
      "101 / 638454483130081959 / Changed  (\"file1.txt\",   Some     \"11111111111111111111111111111111111\n",
      "323 / 638454483130082282 / Changed  (\"file1.txt\",   Some     \"11111111111111111111111111111111111\n",
      "209 / 638454483130082491 / Changed  (\"file1.txt\",   Some     \"11111111111111111111111111111111111\n",
      "41 / 638454483130082532 / Changed  (\"file1.txt\",   Some     \"111111111111111111111111111111111111\n",
      "34696 / 638454483130117228 / Changed  (\"file2.txt\",   Some     \"222222222222222222222222222222222\n",
      "131 / 638454483130117359 / Changed  (\"file2.txt\",   Some     \"22222222222222222222222222222222222\n",
      "656 / 638454483130118015 / Changed  (\"file2.txt\",   Some     \"22222222222222222222222222222222222\n",
      "249 / 638454483130118264 / Changed  (\"file2.txt\",   Some     \"22222222222222222222222222222222222\n",
      "232 / 638454483130118496 / Changed  (\"file2.txt\",   Some     \"22222222222222222222222222222222222\n",
      "205 / 638454483130118701 / Changed  (\"file2.txt\",   Some     \"22222222222222222222222222222222222\n",
      "227 / 638454483130118928 / Changed  (\"file2.txt\",   Some     \"22222222222222222222222222222222222\n",
      "43 / 638454483130118971 / Changed  (\"file2.txt\",   Some     \"222222222222222222222222222222222222\n",
      "492 / 638454483130119463 / Changed  (\"file2.txt\",   Some     \"22222222222222222222222222222222222\n",
      "54 / 638454483130119517 / Changed  (\"file2.txt\",   Some     \"222222222222222222222222222222222222\n",
      "351 / 638454483130119868 / Changed  (\"file2.txt\",   Some     \"22222222222222222222222222222222222\n",
      "141 / 638454483130120009 / Changed  (\"file2.txt\",   Some     \"22222222222222222222222222222222222\n",
      "229 / 638454483130120238 / Changed  (\"file2.txt\",   Some     \"22222222222222222222222222222222222\n",
      "206 / 638454483130120444 / Changed  (\"file2.txt\",   Some     \"22222222222222222222222222222222222\n",
      "166 / 638454483130120610 / Changed  (\"file2.txt\",   Some     \"22222222222222222222222222222222222\n",
      "194 / 638454483130120804 / Changed  (\"file2.txt\",   Some     \"22222222222222222222222222222222222\n",
      "243 / 638454483130121047 / Changed  (\"file2.txt\",   Some     \"22222222222222222222222222222222222\n",
      "180 / 638454483130121227 / Changed  (\"file2.txt\",   Some     \"22222222222222222222222222222222222\n",
      "238 / 638454483130121465 / Changed  (\"file2.txt\",   Some     \"22222222222222222222222222222222222\n",
      "200 / 638454483130121665 / Changed  (\"file2.txt\",   Some     \"22222222222222222222222222222222222\n",
      "166 / 638454483130121831 / Changed  (\"file2.txt\",   Some     \"22222222222222222222222222222222222\n",
      "194 / 638454483130122025 / Changed  (\"file2.txt\",   Some     \"22222222222222222222222222222222222\n",
      "192 / 638454483130122217 / Changed  (\"file2.txt\",   Some     \"22222222222222222222222222222222222\n",
      "154 / 638454483130122371 / Changed  (\"file2.txt\",   Some     \"22222222222222222222222222222222222\n",
      "222 / 638454483130122593 / Changed  (\"file2.txt\",   Some     \"22222222222222222222222222222222222\n",
      "194 / 638454483130122787 / Changed  (\"file2.txt\",   Some     \"22222222222222222222222222222222222\n",
      "201 / 638454483130122988 / Changed  (\"file2.txt\",   Some     \"22222222222222222222222222222222222\n",
      "192 / 638454483130123180 / Changed  (\"file2.txt\",   Some     \"22222222222222222222222222222222222\n",
      "196 / 638454483130123376 / Changed  (\"file2.txt\",   Some     \"22222222222222222222222222222222222\n",
      "161 / 638454483130123537 / Changed  (\"file2.txt\",   Some     \"22222222222222222222222222222222222\n",
      "202 / 638454483130123739 / Changed  (\"file2.txt\",   Some     \"22222222222222222222222222222222222\n",
      "187 / 638454483130123926 / Changed  (\"file2.txt\",   Some     \"22222222222222222222222222222222222\n",
      "207 / 638454483130124133 / Changed  (\"file2.txt\",   Some     \"22222222222222222222222222222222222\n",
      "215 / 638454483130124348 / Changed  (\"file2.txt\",   Some     \"22222222222222222222222222222222222\n",
      "197 / 638454483130124545 / Changed  (\"file2.txt\",   Some     \"22222222222222222222222222222222222\n",
      "173 / 638454483130124718 / Changed  (\"file2.txt\",   Some     \"22222222222222222222222222222222222\n",
      "179 / 638454483130124897 / Changed  (\"file2.txt\",   Some     \"22222222222222222222222222222222222\n",
      "207 / 638454483130125104 / Changed  (\"file2.txt\",   Some     \"22222222222222222222222222222222222\n",
      "224 / 638454483130125328 / Changed  (\"file2.txt\",   Some     \"22222222222222222222222222222222222\n",
      "221 / 638454483130125549 / Changed  (\"file2.txt\",   Some     \"22222222222222222222222222222222222\n",
      "212 / 638454483130125761 / Changed  (\"file2.txt\",   Some     \"22222222222222222222222222222222222\n",
      "165 / 638454483130125926 / Changed  (\"file2.txt\",   Some     \"22222222222222222222222222222222222\n",
      "209 / 638454483130126135 / Changed  (\"file2.txt\",   Some     \"22222222222222222222222222222222222\n",
      "153 / 638454483130126288 / Changed  (\"file2.txt\",   Some     \"22222222222222222222222222222222222\n",
      "212 / 638454483130126500 / Changed  (\"file2.txt\",   Some     \"22222222222222222222222222222222222\n",
      "199 / 638454483130126699 / Changed  (\"file2.txt\",   Some     \"22222222222222222222222222222222222\n",
      "197 / 638454483130126896 / Changed  (\"file2.txt\",   Some     \"22222222222222222222222222222222222\n",
      "205 / 638454483130127101 / Changed  (\"file2.txt\",   Some     \"22222222222222222222222222222222222\n",
      "206 / 638454483130127307 / Changed  (\"file2.txt\",   Some     \"22222222222222222222222222222222222\n",
      "160 / 638454483130127467 / Changed  (\"file2.txt\",   Some     \"22222222222222222222222222222222222\n",
      "193 / 638454483130127660 / Changed  (\"file2.txt\",   Some     \"22222222222222222222222222222222222\n",
      "195 / 638454483130127855 / Changed  (\"file2.txt\",   Some     \"22222222222222222222222222222222222\n",
      "184 / 638454483130128039 / Changed  (\"file2.txt\",   Some     \"22222222222222222222222222222222222\n",
      "197 / 638454483130128236 / Changed  (\"file2.txt\",   Some     \"22222222222222222222222222222222222\n",
      "241 / 638454483130128477 / Changed  (\"file2.txt\",   Some     \"22222222222222222222222222222222222\n",
      "196 / 638454483130128673 / Changed  (\"file2.txt\",   Some     \"22222222222222222222222222222222222\n",
      "197 / 638454483130128870 / Changed  (\"file2.txt\",   Some     \"22222222222222222222222222222222222\n",
      "201 / 638454483130129071 / Changed  (\"file2.txt\",   Some     \"22222222222222222222222222222222222\n",
      "208 / 638454483130129279 / Changed  (\"file2.txt\",   Some     \"22222222222222222222222222222222222\n",
      "166 / 638454483130129445 / Changed  (\"file2.txt\",   Some     \"22222222222222222222222222222222222\n",
      "180 / 638454483130129625 / Changed  (\"file2.txt\",   Some     \"22222222222222222222222222222222222\n",
      "220 / 638454483130129845 / Changed  (\"file2.txt\",   Some     \"22222222222222222222222222222222222\n",
      "206 / 638454483130130051 / Changed  (\"file2.txt\",   Some     \"22222222222222222222222222222222222\n",
      "204 / 638454483130130255 / Changed  (\"file2.txt\",   Some     \"22222222222222222222222222222222222\n",
      "138 / 638454483130130393 / Changed  (\"file2.txt\",   Some     \"22222222222222222222222222222222222\n",
      "174 / 638454483130130567 / Changed  (\"file2.txt\",   Some     \"22222222222222222222222222222222222\n",
      "269 / 638454483130130836 / Changed  (\"file2.txt\",   Some     \"22222222222222222222222222222222222\n",
      "105 / 638454483130130941 / Changed  (\"file2.txt\",   Some     \"22222222222222222222222222222222222\n",
      "227 / 638454483130131168 / Changed  (\"file2.txt\",   Some     \"22222222222222222222222222222222222\n",
      "224 / 638454483130131392 / Changed  (\"file2.txt\",   Some     \"22222222222222222222222222222222222\n",
      "201 / 638454483130131593 / Changed  (\"file2.txt\",   Some     \"22222222222222222222222222222222222\n",
      "156 / 638454483130131749 / Changed  (\"file2.txt\",   Some     \"22222222222222222222222222222222222\n",
      "239 / 638454483130131988 / Changed  (\"file2.txt\",   Some     \"22222222222222222222222222222222222\n",
      "104 / 638454483130132092 / Changed  (\"file2.txt\",   Some     \"22222222222222222222222222222222222\n",
      "229 / 638454483130132321 / Changed  (\"file2.txt\",   Some     \"22222222222222222222222222222222222\n",
      "198 / 638454483130132519 / Changed  (\"file2.txt\",   Some     \"22222222222222222222222222222222222\n",
      "215 / 638454483130132734 / Changed  (\"file2.txt\",   Some     \"22222222222222222222222222222222222\n",
      "197 / 638454483130132931 / Changed  (\"file2.txt\",   Some     \"22222222222222222222222222222222222\n",
      "194 / 638454483130133125 / Changed  (\"file2.txt\",   Some     \"22222222222222222222222222222222222\n",
      "200 / 638454483130133325 / Changed  (\"file2.txt\",   Some     \"22222222222222222222222222222222222\n",
      "194 / 638454483130133519 / Changed  (\"file2.txt\",   Some     \"22222222222222222222222222222222222\n",
      "205 / 638454483130133724 / Changed  (\"file2.txt\",   Some     \"22222222222222222222222222222222222\n",
      "204 / 638454483130133928 / Changed  (\"file2.txt\",   Some     \"22222222222222222222222222222222222\n",
      "210 / 638454483130134138 / Changed  (\"file2.txt\",   Some     \"22222222222222222222222222222222222\n",
      "219 / 638454483130134357 / Changed  (\"file2.txt\",   Some     \"22222222222222222222222222222222222\n",
      "208 / 638454483130134565 / Changed  (\"file2.txt\",   Some     \"22222222222222222222222222222222222\n",
      "177 / 638454483130134742 / Changed  (\"file2.txt\",   Some     \"22222222222222222222222222222222222\n",
      "211 / 638454483130134953 / Changed  (\"file2.txt\",   Some     \"22222222222222222222222222222222222\n",
      "198 / 638454483130135151 / Changed  (\"file2.txt\",   Some     \"22222222222222222222222222222222222\n",
      "207 / 638454483130135358 / Changed  (\"file2.txt\",   Some     \"22222222222222222222222222222222222\n",
      "196 / 638454483130135554 / Changed  (\"file2.txt\",   Some     \"22222222222222222222222222222222222\n",
      "224 / 638454483130135778 / Changed  (\"file2.txt\",   Some     \"22222222222222222222222222222222222\n",
      "196 / 638454483130135974 / Changed  (\"file2.txt\",   Some     \"22222222222222222222222222222222222\n",
      "227 / 638454483130136201 / Changed  (\"file2.txt\",   Some     \"22222222222222222222222222222222222\n",
      "164 / 638454483130136365 / Changed  (\"file2.txt\",   Some     \"22222222222222222222222222222222222\n",
      "235 / 638454483130136600 / Changed  (\"file2.txt\",   Some     \"22222222222222222222222222222222222\n",
      "208 / 638454483130136808 / Changed  (\"file2.txt\",   Some     \"22222222222222222222222222222222222\n",
      "224 / 638454483130137032 / Changed  (\"file2.txt\",   Some     \"22222222222222222222222222222222222\n",
      "212 / 638454483130137244 / Changed  (\"file2.txt\",   Some     \"22222222222222222222222222222222222\n",
      "234 / 638454483130137478 / Changed  (\"file2.txt\",   Some     \"22222222222222222222222222222222222\n",
      "191 / 638454483130137669 / Changed  (\"file2.txt\",   Some     \"22222222222222222222222222222222222\n",
      "210 / 638454483130137879 / Changed  (\"file2.txt\",   Some     \"22222222222222222222222222222222222\n",
      "207 / 638454483130138086 / Changed  (\"file2.txt\",   Some     \"22222222222222222222222222222222222\n",
      "189 / 638454483130138275 / Changed  (\"file2.txt\",   Some     \"22222222222222222222222222222222222\n",
      "202 / 638454483130138477 / Changed  (\"file2.txt\",   Some     \"22222222222222222222222222222222222\n",
      "184 / 638454483130138661 / Changed  (\"file2.txt\",   Some     \"22222222222222222222222222222222222\n",
      "236 / 638454483130138897 / Changed  (\"file2.txt\",   Some     \"22222222222222222222222222222222222\n",
      "219 / 638454483130139116 / Changed  (\"file2.txt\",   Some     \"22222222222222222222222222222222222\n",
      "235 / 638454483130139351 / Changed  (\"file2.txt\",   Some     \"22222222222222222222222222222222222\n",
      "200 / 638454483130139551 / Changed  (\"file2.txt\",   Some     \"22222222222222222222222222222222222\n",
      "200 / 638454483130139751 / Changed  (\"file2.txt\",   Some     \"22222222222222222222222222222222222\n",
      "200 / 638454483130139951 / Changed  (\"file2.txt\",   Some     \"22222222222222222222222222222222222\n",
      "203 / 638454483130140154 / Changed  (\"file2.txt\",   Some     \"22222222222222222222222222222222222\n",
      "190 / 638454483130140344 / Changed  (\"file2.txt\",   Some     \"22222222222222222222222222222222222\n",
      "221 / 638454483130140565 / Changed  (\"file2.txt\",   Some     \"22222222222222222222222222222222222\n",
      "203 / 638454483130140768 / Changed  (\"file2.txt\",   Some     \"22222222222222222222222222222222222\n",
      "195 / 638454483130140963 / Changed  (\"file2.txt\",   Some     \"22222222222222222222222222222222222\n",
      "143 / 638454483130141106 / Changed  (\"file2.txt\",   Some     \"22222222222222222222222222222222222\n",
      "179 / 638454483130141285 / Changed  (\"file2.txt\",   Some     \"22222222222222222222222222222222222\n",
      "246 / 638454483130141531 / Changed  (\"file2.txt\",   Some     \"22222222222222222222222222222222222\n",
      "169 / 638454483130141700 / Changed  (\"file2.txt\",   Some     \"22222222222222222222222222222222222\n",
      "230 / 638454483130141930 / Changed  (\"file2.txt\",   Some     \"22222222222222222222222222222222222\n",
      "197 / 638454483130142127 / Changed  (\"file2.txt\",   Some     \"22222222222222222222222222222222222\n",
      "38 / 638454483130142165 / Changed  (\"file2.txt\",   Some     \"222222222222222222222222222222222222\n",
      "15015109 / 638454483145157274 / Renamed  (\"file1.txt\",   (\"file_1.txt\",    Some      \"1111111111\n",
      "393 / 638454483145157667 / Renamed  (\"file2.txt\",   (\"file_2.txt\",    Some      \"222222222222222\n",
      "15075871 / 638454483160233538 / Changed  (\"file_1.txt\",   Some     \"11111111111111111111111111111\n",
      "1266 / 638454483160234804 / Changed  (\"file_1.txt\",   Some     \"111111111111111111111111111111111\n",
      "65 / 638454483160234869 / Changed  (\"file_1.txt\",   Some     \"11111111111111111111111111111111111\n",
      "288 / 638454483160235157 / Changed  (\"file_1.txt\",   Some     \"1111111111111111111111111111111111\n",
      "264 / 638454483160235421 / Changed  (\"file_1.txt\",   Some     \"1111111111111111111111111111111111\n",
      "400 / 638454483160235821 / Changed  (\"file_1.txt\",   Some     \"1111111111111111111111111111111111\n",
      "443 / 638454483160236264 / Changed  (\"file_1.txt\",   Some     \"1111111111111111111111111111111111\n",
      "256 / 638454483160236520 / Changed  (\"file_1.txt\",   Some     \"1111111111111111111111111111111111\n",
      "620 / 638454483160237140 / Changed  (\"file_1.txt\",   Some     \"1111111111111111111111111111111111\n",
      "80 / 638454483160237220 / Changed  (\"file_1.txt\",   Some     \"11111111111111111111111111111111111\n",
      "245 / 638454483160237465 / Changed  (\"file_1.txt\",   Some     \"1111111111111111111111111111111111\n",
      "280 / 638454483160237745 / Changed  (\"file_1.txt\",   Some     \"1111111111111111111111111111111111\n",
      "201 / 638454483160237946 / Changed  (\"file_1.txt\",   Some     \"1111111111111111111111111111111111\n",
      "203 / 638454483160238149 / Changed  (\"file_1.txt\",   Some     \"1111111111111111111111111111111111\n",
      "191 / 638454483160238340 / Changed  (\"file_1.txt\",   Some     \"1111111111111111111111111111111111\n",
      "166 / 638454483160238506 / Changed  (\"file_1.txt\",   Some     \"1111111111111111111111111111111111\n",
      "174 / 638454483160238680 / Changed  (\"file_1.txt\",   Some     \"1111111111111111111111111111111111\n",
      "231 / 638454483160238911 / Changed  (\"file_1.txt\",   Some     \"1111111111111111111111111111111111\n",
      "190 / 638454483160239101 / Changed  (\"file_1.txt\",   Some     \"1111111111111111111111111111111111\n",
      "229 / 638454483160239330 / Changed  (\"file_1.txt\",   Some     \"1111111111111111111111111111111111\n",
      "36 / 638454483160239366 / Changed  (\"file_1.txt\",   Some     \"11111111111111111111111111111111111\n",
      "216 / 638454483160239582 / Changed  (\"file_1.txt\",   Some     \"1111111111111111111111111111111111\n",
      "163 / 638454483160239745 / Changed  (\"file_1.txt\",   Some     \"1111111111111111111111111111111111\n",
      "183 / 638454483160239928 / Changed  (\"file_1.txt\",   Some     \"1111111111111111111111111111111111\n",
      "216 / 638454483160240144 / Changed  (\"file_1.txt\",   Some     \"1111111111111111111111111111111111\n",
      "202 / 638454483160240346 / Changed  (\"file_1.txt\",   Some     \"1111111111111111111111111111111111\n",
      "203 / 638454483160240549 / Changed  (\"file_1.txt\",   Some     \"1111111111111111111111111111111111\n",
      "172 / 638454483160240721 / Changed  (\"file_1.txt\",   Some     \"1111111111111111111111111111111111\n",
      "215 / 638454483160240936 / Changed  (\"file_1.txt\",   Some     \"1111111111111111111111111111111111\n",
      "12311 / 638454483160253247 / Changed  (\"file_1.txt\",   Some     \"11111111111111111111111111111111\n",
      "93 / 638454483160253340 / Changed  (\"file_1.txt\",   Some     \"11111111111111111111111111111111111\n",
      "35233 / 638454483160288573 / Changed  (\"file_2.txt\",   Some     \"22222222222222222222222222222222\n",
      "947 / 638454483160289520 / Changed  (\"file_2.txt\",   Some     \"2222222222222222222222222222222222\n",
      "60 / 638454483160289580 / Changed  (\"file_2.txt\",   Some     \"22222222222222222222222222222222222\n",
      "2056 / 638454483160291636 / Changed  (\"file_2.txt\",   Some     \"222222222222222222222222222222222\n",
      "83 / 638454483160291719 / Changed  (\"file_2.txt\",   Some     \"22222222222222222222222222222222222\n",
      "232 / 638454483160291951 / Changed  (\"file_2.txt\",   Some     \"2222222222222222222222222222222222\n",
      "405 / 638454483160292356 / Changed  (\"file_2.txt\",   Some     \"2222222222222222222222222222222222\n",
      "704 / 638454483160293060 / Changed  (\"file_2.txt\",   Some     \"2222222222222222222222222222222222\n",
      "124 / 638454483160293184 / Changed  (\"file_2.txt\",   Some     \"2222222222222222222222222222222222\n",
      "168 / 638454483160293352 / Changed  (\"file_2.txt\",   Some     \"2222222222222222222222222222222222\n",
      "157 / 638454483160293509 / Changed  (\"file_2.txt\",   Some     \"2222222222222222222222222222222222\n",
      "190 / 638454483160293699 / Changed  (\"file_2.txt\",   Some     \"2222222222222222222222222222222222\n",
      "106 / 638454483160293805 / Changed  (\"file_2.txt\",   Some     \"2222222222222222222222222222222222\n",
      "692 / 638454483160294497 / Changed  (\"file_2.txt\",   Some     \"2222222222222222222222222222222222\n",
      "149 / 638454483160294646 / Changed  (\"file_2.txt\",   Some     \"2222222222222222222222222222222222\n",
      "140 / 638454483160294786 / Changed  (\"file_2.txt\",   Some     \"2222222222222222222222222222222222\n",
      "169 / 638454483160294955 / Changed  (\"file_2.txt\",   Some     \"2222222222222222222222222222222222\n",
      "522 / 638454483160295477 / Changed  (\"file_2.txt\",   Some     \"2222222222222222222222222222222222\n",
      "46 / 638454483160295523 / Changed  (\"file_2.txt\",   Some     \"22222222222222222222222222222222222\n",
      "570 / 638454483160296093 / Changed  (\"file_2.txt\",   Some     \"2222222222222222222222222222222222\n",
      "178 / 638454483160296271 / Changed  (\"file_2.txt\",   Some     \"2222222222222222222222222222222222\n",
      "542 / 638454483160296813 / Changed  (\"file_2.txt\",   Some     \"2222222222222222222222222222222222\n",
      "169 / 638454483160296982 / Changed  (\"file_2.txt\",   Some     \"2222222222222222222222222222222222\n",
      "185 / 638454483160297167 / Changed  (\"file_2.txt\",   Some     \"2222222222222222222222222222222222\n",
      "157 / 638454483160297324 / Changed  (\"file_2.txt\",   Some     \"2222222222222222222222222222222222\n",
      "137 / 638454483160297461 / Changed  (\"file_2.txt\",   Some     \"2222222222222222222222222222222222\n",
      "173 / 638454483160297634 / Changed  (\"file_2.txt\",   Some     \"2222222222222222222222222222222222\n",
      "204 / 638454483160297838 / Changed  (\"file_2.txt\",   Some     \"2222222222222222222222222222222222\n",
      "213 / 638454483160298051 / Changed  (\"file_2.txt\",   Some     \"2222222222222222222222222222222222\n",
      "107 / 638454483160298158 / Changed  (\"file_2.txt\",   Some     \"2222222222222222222222222222222222\n",
      "168 / 638454483160298326 / Changed  (\"file_2.txt\",   Some     \"2222222222222222222222222222222222\n",
      "151 / 638454483160298477 / Changed  (\"file_2.txt\",   Some     \"2222222222222222222222222222222222\n",
      "167 / 638454483160298644 / Changed  (\"file_2.txt\",   Some     \"2222222222222222222222222222222222\n",
      "149 / 638454483160298793 / Changed  (\"file_2.txt\",   Some     \"2222222222222222222222222222222222\n",
      "160 / 638454483160298953 / Changed  (\"file_2.txt\",   Some     \"2222222222222222222222222222222222\n",
      "137 / 638454483160299090 / Changed  (\"file_2.txt\",   Some     \"2222222222222222222222222222222222\n",
      "681 / 638454483160299771 / Changed  (\"file_2.txt\",   Some     \"2222222222222222222222222222222222\n",
      "42 / 638454483160299813 / Changed  (\"file_2.txt\",   Some     \"22222222222222222222222222222222222\n",
      "575 / 638454483160300388 / Changed  (\"file_2.txt\",   Some     \"2222222222222222222222222222222222\n",
      "121 / 638454483160300509 / Changed  (\"file_2.txt\",   Some     \"2222222222222222222222222222222222\n",
      "142 / 638454483160300651 / Changed  (\"file_2.txt\",   Some     \"2222222222222222222222222222222222\n",
      "167 / 638454483160300818 / Changed  (\"file_2.txt\",   Some     \"2222222222222222222222222222222222\n",
      "138 / 638454483160300956 / Changed  (\"file_2.txt\",   Some     \"2222222222222222222222222222222222\n",
      "168 / 638454483160301124 / Changed  (\"file_2.txt\",   Some     \"2222222222222222222222222222222222\n",
      "171 / 638454483160301295 / Changed  (\"file_2.txt\",   Some     \"2222222222222222222222222222222222\n",
      "144 / 638454483160301439 / Changed  (\"file_2.txt\",   Some     \"2222222222222222222222222222222222\n",
      "144 / 638454483160301583 / Changed  (\"file_2.txt\",   Some     \"2222222222222222222222222222222222\n",
      "615 / 638454483160302198 / Changed  (\"file_2.txt\",   Some     \"2222222222222222222222222222222222\n",
      "164 / 638454483160302362 / Changed  (\"file_2.txt\",   Some     \"2222222222222222222222222222222222\n",
      "145 / 638454483160302507 / Changed  (\"file_2.txt\",   Some     \"2222222222222222222222222222222222\n",
      "147 / 638454483160302654 / Changed  (\"file_2.txt\",   Some     \"2222222222222222222222222222222222\n",
      "167 / 638454483160302821 / Changed  (\"file_2.txt\",   Some     \"2222222222222222222222222222222222\n",
      "126 / 638454483160302947 / Changed  (\"file_2.txt\",   Some     \"2222222222222222222222222222222222\n",
      "165 / 638454483160303112 / Changed  (\"file_2.txt\",   Some     \"2222222222222222222222222222222222\n",
      "140 / 638454483160303252 / Changed  (\"file_2.txt\",   Some     \"2222222222222222222222222222222222\n",
      "184 / 638454483160303436 / Changed  (\"file_2.txt\",   Some     \"2222222222222222222222222222222222\n",
      "127 / 638454483160303563 / Changed  (\"file_2.txt\",   Some     \"2222222222222222222222222222222222\n",
      "168 / 638454483160303731 / Changed  (\"file_2.txt\",   Some     \"2222222222222222222222222222222222\n",
      "130 / 638454483160303861 / Changed  (\"file_2.txt\",   Some     \"2222222222222222222222222222222222\n",
      "157 / 638454483160304018 / Changed  (\"file_2.txt\",   Some     \"2222222222222222222222222222222222\n",
      "166 / 638454483160304184 / Changed  (\"file_2.txt\",   Some     \"2222222222222222222222222222222222\n",
      "135 / 638454483160304319 / Changed  (\"file_2.txt\",   Some     \"2222222222222222222222222222222222\n",
      "180 / 638454483160304499 / Changed  (\"file_2.txt\",   Some     \"2222222222222222222222222222222222\n",
      "144 / 638454483160304643 / Changed  (\"file_2.txt\",   Some     \"2222222222222222222222222222222222\n",
      "149 / 638454483160304792 / Changed  (\"file_2.txt\",   Some     \"2222222222222222222222222222222222\n",
      "144 / 638454483160304936 / Changed  (\"file_2.txt\",   Some     \"2222222222222222222222222222222222\n",
      "894 / 638454483160305830 / Changed  (\"file_2.txt\",   Some     \"2222222222222222222222222222222222\n",
      "42 / 638454483160305872 / Changed  (\"file_2.txt\",   Some     \"22222222222222222222222222222222222\n",
      "144 / 638454483160306016 / Changed  (\"file_2.txt\",   Some     \"2222222222222222222222222222222222\n",
      "300 / 638454483160306316 / Changed  (\"file_2.txt\",   Some     \"2222222222222222222222222222222222\n",
      "529 / 638454483160306845 / Changed  (\"file_2.txt\",   Some     \"2222222222222222222222222222222222\n",
      "39 / 638454483160306884 / Changed  (\"file_2.txt\",   Some     \"22222222222222222222222222222222222\n",
      "148 / 638454483160307032 / Changed  (\"file_2.txt\",   Some     \"2222222222222222222222222222222222\n",
      "162 / 638454483160307194 / Changed  (\"file_2.txt\",   Some     \"2222222222222222222222222222222222\n",
      "173 / 638454483160307367 / Changed  (\"file_2.txt\",   Some     \"2222222222222222222222222222222222\n",
      "166 / 638454483160307533 / Changed  (\"file_2.txt\",   Some     \"2222222222222222222222222222222222\n",
      "155 / 638454483160307688 / Changed  (\"file_2.txt\",   Some     \"2222222222222222222222222222222222\n",
      "182 / 638454483160307870 / Changed  (\"file_2.txt\",   Some     \"2222222222222222222222222222222222\n",
      "231 / 638454483160308101 / Changed  (\"file_2.txt\",   Some     \"2222222222222222222222222222222222\n",
      "168 / 638454483160308269 / Changed  (\"file_2.txt\",   Some     \"2222222222222222222222222222222222\n",
      "624 / 638454483160308893 / Changed  (\"file_2.txt\",   Some     \"2222222222222222222222222222222222\n",
      "15009978 / 638454483175318871 / Deleted \"file_1.txt\"\n",
      "4299 / 638454483175323170 / Deleted \"file_2.txt\"\n",
      "FSharpList<FileSystemChange>\n",
      "      - path: file1.txt\n",
      "        content: FSharpOption<String>\n",
      "          Value: 1a\n",
      "        IsFailure: False\n",
      "        IsChanged: False\n",
      "        IsCreated: True\n",
      "        IsDeleted: False\n",
      "        IsRenamed: False\n",
      "      - path: file1.txt\n",
      "        content: FSharpOption<String>\n",
      "          Value: 1a\n",
      "        IsFailure: False\n",
      "        IsChanged: True\n",
      "        IsCreated: False\n",
      "        IsDeleted: False\n",
      "        IsRenamed: False\n",
      "      - path: file2.txt\n",
      "        content: FSharpOption<String>\n",
      "          Value: 2a\n",
      "        IsFailure: False\n",
      "        IsChanged: False\n",
      "        IsCreated: True\n",
      "        IsDeleted: False\n",
      "        IsRenamed: False\n",
      "      - path: file2.txt\n",
      "        content: FSharpOption<String>\n",
      "          Value: 2a\n",
      "        IsFailure: False\n",
      "        IsChanged: True\n",
      "        IsCreated: False\n",
      "        IsDeleted: False\n",
      "        IsRenamed: False\n",
      "      - path: file1.txt\n",
      "        content: FSharpOption<String>\n",
      "          Value: 1b\n",
      "        IsFailure: False\n",
      "        IsChanged: True\n",
      "        IsCreated: False\n",
      "        IsDeleted: False\n",
      "        IsRenamed: False\n",
      "      - path: file2.txt\n",
      "        content: FSharpOption<String>\n",
      "          Value: 2b\n",
      "        IsFailure: False\n",
      "        IsChanged: True\n",
      "        IsCreated: False\n",
      "        IsDeleted: False\n",
      "        IsRenamed: False\n",
      "      - oldPath: file1.txt\n",
      "        Item2:         - file_1.txt\n",
      "        - FSharpOption<String>\n",
      "            Value: 1b\n",
      "      - IsFailure: False\n",
      "        IsChanged: False\n",
      "        IsCreated: False\n",
      "        IsDeleted: False\n",
      "        IsRenamed: True\n",
      "      - oldPath: file2.txt\n",
      "        Item2:         - file_2.txt\n",
      "        - FSharpOption<String>\n",
      "            Value: 2b\n",
      "      - IsFailure: False\n",
      "        IsChanged: False\n",
      "        IsCreated: False\n",
      "        IsDeleted: False\n",
      "        IsRenamed: True\n",
      "      - path: file_1.txt\n",
      "        content: FSharpOption<String>\n",
      "          Value: 1c\n",
      "        IsFailure: False\n",
      "        IsChanged: True\n",
      "        IsCreated: False\n",
      "        IsDeleted: False\n",
      "        IsRenamed: False\n",
      "      - path: file_2.txt\n",
      "        content: FSharpOption<String>\n",
      "          Value: 2c\n",
      "        IsFailure: False\n",
      "        IsChanged: True\n",
      "        IsCreated: False\n",
      "        IsDeleted: False\n",
      "        IsRenamed: False\n",
      "      - path: file_1.txt\n",
      "        IsFailure: False\n",
      "        IsChanged: False\n",
      "        IsCreated: False\n",
      "        IsDeleted: True\n",
      "        IsRenamed: False\n",
      "      - path: file_2.txt\n",
      "        IsFailure: False\n",
      "        IsChanged: False\n",
      "        IsCreated: False\n",
      "        IsDeleted: True\n",
      "        IsRenamed: False\n",
      "FSharpOption<Unit>\n",
      "      Value: <null>\n"
     ]
    }
   ],
   "source": [
    "//// test\n",
    "\n",
    "let inline write path = async {\n",
    "    let n = 2\n",
    "\n",
    "    let contents =\n",
    "        [ 1 .. n ]\n",
    "        |> List.map (string >> String.replicate 1_000_000)\n",
    "\n",
    "    for i = 1 to n do\n",
    "        do! $\"{contents.[i - 1]}a\" |> writeAllTextAsync (path </> $\"file{i}.txt\")\n",
    "\n",
    "    do! Async.Sleep 1500\n",
    "\n",
    "    for i = 1 to n do\n",
    "        do! $\"{contents.[i - 1]}b\" |> writeAllTextAsync (path </> $\"file{i}.txt\")\n",
    "\n",
    "    do! Async.Sleep 1500\n",
    "\n",
    "    for i = 1 to n do\n",
    "        do! path </> $\"file{i}.txt\" |> moveFileAsync (path </> $\"file_{i}.txt\") |> Async.Ignore\n",
    "\n",
    "    do! Async.Sleep 1500\n",
    "\n",
    "    for i = 1 to n do\n",
    "        do! $\"{contents.[i - 1]}c\" |> writeAllTextAsync (path </> $\"file_{i}.txt\")\n",
    "\n",
    "    do! Async.Sleep 1500\n",
    "\n",
    "    for i = 1 to n do\n",
    "        do! deleteFileAsync (path </> $\"file_{i}.txt\") |> Async.Ignore\n",
    "\n",
    "    do! Async.Sleep 1500\n",
    "}\n",
    "\n",
    "let inline run () =\n",
    "    let events =\n",
    "        testEventsRaw watchDirectory write\n",
    "        |> List.map (function\n",
    "            | FileSystemChange.Changed (path, Some content) ->\n",
    "                FileSystemChange.Changed (path, content |> Seq.distinct |> Seq.map string |> String.concat \"\" |> Some)\n",
    "            | FileSystemChange.Created (path, Some content) ->\n",
    "                FileSystemChange.Created (path, content |> Seq.distinct |> Seq.map string |> String.concat \"\" |> Some)\n",
    "            | FileSystemChange.Renamed (oldPath, (newPath, Some content)) ->\n",
    "                FileSystemChange.Renamed (\n",
    "                    oldPath,\n",
    "                    (newPath, content |> Seq.distinct |> Seq.map string |> String.concat \"\" |> Some)\n",
    "                )\n",
    "            | event -> event\n",
    "        )\n",
    "\n",
    "    events\n",
    "    |> _sequenceEqual [\n",
    "        FileSystemChange.Created (\"file1.txt\", Some \"1a\")\n",
    "        FileSystemChange.Changed (\"file1.txt\", Some \"1a\")\n",
    "        FileSystemChange.Created (\"file2.txt\", Some \"2a\")\n",
    "        FileSystemChange.Changed (\"file2.txt\", Some \"2a\")\n",
    "\n",
    "        FileSystemChange.Changed (\"file1.txt\", Some \"1b\")\n",
    "        FileSystemChange.Changed (\"file2.txt\", Some \"2b\")\n",
    "\n",
    "        FileSystemChange.Renamed (\"file1.txt\", (\"file_1.txt\", Some \"1b\"))\n",
    "        FileSystemChange.Renamed (\"file2.txt\", (\"file_2.txt\", Some \"2b\"))\n",
    "\n",
    "        FileSystemChange.Changed (\"file_1.txt\", Some \"1c\")\n",
    "        FileSystemChange.Changed (\"file_2.txt\", Some \"2c\")\n",
    "\n",
    "        FileSystemChange.Deleted \"file_1.txt\"\n",
    "        FileSystemChange.Deleted \"file_2.txt\"\n",
    "    ]\n",
    "\n",
    "run\n",
    "|> retryFn 5\n",
    "|> _equal (Some ())"
   ]
  },
  {
   "cell_type": "markdown",
   "metadata": {},
   "source": [
    "### testEventsSorted (test)"
   ]
  },
  {
   "cell_type": "code",
   "execution_count": null,
   "metadata": {
    "dotnet_interactive": {
     "language": "fsharp"
    },
    "polyglot_notebook": {
     "kernelName": "fsharp"
    }
   },
   "outputs": [],
   "source": [
    "//// test\n",
    "\n",
    "let inline sortEvent event =\n",
    "    match event with\n",
    "    | FileSystemChange.Failure _ -> 0\n",
    "    | FileSystemChange.Created _ -> 1\n",
    "    | FileSystemChange.Changed _ -> 2\n",
    "    | FileSystemChange.Renamed (_oldPath, _) -> 3\n",
    "    | FileSystemChange.Deleted _ -> 4\n",
    "\n",
    "let inline formatEvents events =\n",
    "    events\n",
    "    |> Seq.toList\n",
    "    |> List.sortBy (snd >> sortEvent)\n",
    "    |> List.choose (fun (ticks, event) ->\n",
    "        match event with\n",
    "        | FileSystemChange.Failure _ ->\n",
    "            None\n",
    "        | FileSystemChange.Changed (path, _) ->\n",
    "            Some (ticks, System.IO.Path.GetFileName path, nameof FileSystemChangeType.Changed)\n",
    "        | FileSystemChange.Created (path, _) ->\n",
    "            Some (ticks, System.IO.Path.GetFileName path, nameof FileSystemChangeType.Created)\n",
    "        | FileSystemChange.Deleted path ->\n",
    "            Some (ticks, System.IO.Path.GetFileName path, nameof FileSystemChangeType.Deleted)\n",
    "        | FileSystemChange.Renamed (_oldPath, (path, _)) ->\n",
    "            Some (ticks, System.IO.Path.GetFileName path, nameof FileSystemChangeType.Renamed)\n",
    "    )\n",
    "    |> List.sortBy (fun (_, path, _) -> path)\n",
    "    |> List.distinctBy (fun (_, path, event) -> path, event)\n",
    "\n",
    "let inline testEventsSorted\n",
    "    (watchFn : string -> FSharp.Control.AsyncSeq<int64 * FileSystemChange> * IDisposable)\n",
    "    write\n",
    "    =\n",
    "    let path = createTempDirectory ()\n",
    "    let stream, disposable = watchFn path\n",
    "\n",
    "    let events = System.Collections.Concurrent.ConcurrentBag ()\n",
    "\n",
    "    let inline iter () =\n",
    "        stream\n",
    "        |> FSharp.Control.AsyncSeq.iterAsyncParallel (fun event -> async { events.Add event })\n",
    "\n",
    "    let run = async {\n",
    "        let! _ = iter () |> Async.StartChild\n",
    "        do! Async.Sleep 250\n",
    "        return! write path\n",
    "    }\n",
    "\n",
    "    try\n",
    "        run\n",
    "        |> Async.runWithTimeout 5000\n",
    "        |> _equal (Some ())\n",
    "    finally\n",
    "        disposable.Dispose ()\n",
    "        deleteDirectoryAsync path |> Async.Ignore |> Async.RunSynchronously\n",
    "\n",
    "    let events = formatEvents events\n",
    "\n",
    "    let eventMap =\n",
    "        events\n",
    "        |> List.map (fun (ticks, path, event) -> path, (event, ticks))\n",
    "        |> List.groupBy fst\n",
    "        |> List.map (fun (path, events) ->\n",
    "            let event, _ticks =\n",
    "                events\n",
    "                |> List.map snd\n",
    "                |> List.sortByDescending snd\n",
    "                |> List.head\n",
    "\n",
    "            path, event\n",
    "        )\n",
    "        |> Map.ofList\n",
    "\n",
    "    let eventList =\n",
    "        events\n",
    "        |> List.map (fun (_ticks, path, event) -> path, event)\n",
    "\n",
    "    eventMap, eventList"
   ]
  },
  {
   "cell_type": "markdown",
   "metadata": {},
   "source": [
    "#### create and delete (test)"
   ]
  },
  {
   "cell_type": "code",
   "execution_count": null,
   "metadata": {
    "dotnet_interactive": {
     "language": "fsharp"
    },
    "polyglot_notebook": {
     "kernelName": "fsharp"
    }
   },
   "outputs": [
    {
     "name": "stdout",
     "output_type": "stream",
     "text": [
      "FSharpOption<Unit>\n",
      "      Value: <null>\n",
      "00:00:28 #51 [Debug] watchWithFilter / Disposing watch stream / filter: FileName, LastWrite\n",
      "FSharpList<Tuple<String,String>>\n",
      "( file1.txt, Created )\n",
      "( file1.txt, Changed )\n",
      "( file1.txt, Deleted )\n",
      "( file2.txt, Created )\n",
      "( file2.txt, Changed )\n",
      "( file2.txt, Deleted )\n",
      "( file3.txt, Created )\n",
      "( file3.txt, Changed )\n",
      "( file3.txt, Deleted )\n",
      "FSharpMap<String,String>\n",
      "      - Key: file1.txt\n",
      "        Value: Deleted\n",
      "      - Key: file2.txt\n",
      "        Value: Deleted\n",
      "      - Key: file3.txt\n",
      "        Value: Deleted\n",
      "FSharpOption<Unit>\n",
      "      Value: <null>\n"
     ]
    }
   ],
   "source": [
    "//// test\n",
    "\n",
    "let inline write path = async {\n",
    "    let n = 3\n",
    "\n",
    "    for i = 1 to n do\n",
    "        do! $\"{i}\" |> writeAllTextAsync (path </> $\"file{i}.txt\")\n",
    "\n",
    "    for i = 1 to n do\n",
    "        do! deleteFileAsync (path </> $\"file{i}.txt\") |> Async.Ignore\n",
    "\n",
    "    do! Async.Sleep 150\n",
    "}\n",
    "\n",
    "let inline run () =\n",
    "    let eventMap, eventList = testEventsSorted (watchDirectory (fun _ -> false)) write\n",
    "\n",
    "    [\n",
    "        \"file1.txt\", nameof FileSystemChangeType.Created\n",
    "        \"file1.txt\", nameof FileSystemChangeType.Changed\n",
    "        \"file1.txt\", nameof FileSystemChangeType.Deleted\n",
    "\n",
    "        \"file2.txt\", nameof FileSystemChangeType.Created\n",
    "        \"file2.txt\", nameof FileSystemChangeType.Changed\n",
    "        \"file2.txt\", nameof FileSystemChangeType.Deleted\n",
    "\n",
    "        \"file3.txt\", nameof FileSystemChangeType.Created\n",
    "        \"file3.txt\", nameof FileSystemChangeType.Changed\n",
    "        \"file3.txt\", nameof FileSystemChangeType.Deleted\n",
    "    ]\n",
    "    |> _sequenceEqual eventList\n",
    "\n",
    "    [\n",
    "        \"file1.txt\", nameof FileSystemChangeType.Deleted\n",
    "        \"file2.txt\", nameof FileSystemChangeType.Deleted\n",
    "        \"file3.txt\", nameof FileSystemChangeType.Deleted\n",
    "    ]\n",
    "    |> Map.ofList\n",
    "    |> _sequenceEqual eventMap\n",
    "\n",
    "run\n",
    "|> retryFn 3\n",
    "|> _equal (Some ())"
   ]
  },
  {
   "cell_type": "markdown",
   "metadata": {},
   "source": [
    "#### change (test)"
   ]
  },
  {
   "cell_type": "code",
   "execution_count": null,
   "metadata": {
    "dotnet_interactive": {
     "language": "fsharp"
    },
    "polyglot_notebook": {
     "kernelName": "fsharp"
    }
   },
   "outputs": [
    {
     "name": "stdout",
     "output_type": "stream",
     "text": [
      "FSharpOption<Unit>\n",
      "      Value: <null>\n",
      "00:00:31 #52 [Debug] watchWithFilter / Disposing watch stream / filter: FileName, LastWrite\n",
      "FSharpList<Tuple<String,String>>\n",
      "( file1.txt, Created )\n",
      "( file1.txt, Changed )\n",
      "( file1.txt, Deleted )\n",
      "( file2.txt, Created )\n",
      "( file2.txt, Changed )\n",
      "( file2.txt, Deleted )\n",
      "FSharpMap<String,String>\n",
      "      - Key: file1.txt\n",
      "        Value: Deleted\n",
      "      - Key: file2.txt\n",
      "        Value: Deleted\n",
      "FSharpOption<Unit>\n",
      "      Value: <null>\n"
     ]
    }
   ],
   "source": [
    "//// test\n",
    "\n",
    "let inline write path = async {\n",
    "    let n = 2\n",
    "\n",
    "    for i = 1 to n do\n",
    "        do! $\"{i}\" |> writeAllTextAsync (path </> $\"file{i}.txt\")\n",
    "\n",
    "    for i = 1 to n do\n",
    "        do! \"\" |> writeAllTextAsync (path </> $\"file{i}.txt\")\n",
    "\n",
    "    for i = 1 to n do\n",
    "        do! deleteFileAsync (path </> $\"file{i}.txt\") |> Async.Ignore\n",
    "\n",
    "    do! Async.Sleep 150\n",
    "}\n",
    "\n",
    "let inline run () =\n",
    "    let eventMap, eventList = testEventsSorted (watchDirectory (fun _ -> false)) write\n",
    "\n",
    "    [\n",
    "        \"file1.txt\", nameof FileSystemChangeType.Created\n",
    "        \"file1.txt\", nameof FileSystemChangeType.Changed\n",
    "        \"file1.txt\", nameof FileSystemChangeType.Deleted\n",
    "\n",
    "        \"file2.txt\", nameof FileSystemChangeType.Created\n",
    "        \"file2.txt\", nameof FileSystemChangeType.Changed\n",
    "        \"file2.txt\", nameof FileSystemChangeType.Deleted\n",
    "    ]\n",
    "    |> _sequenceEqual eventList\n",
    "\n",
    "    [\n",
    "        \"file1.txt\", nameof FileSystemChangeType.Deleted\n",
    "        \"file2.txt\", nameof FileSystemChangeType.Deleted\n",
    "    ]\n",
    "    |> Map.ofList\n",
    "    |> _sequenceEqual eventMap\n",
    "\n",
    "run\n",
    "|> retryFn 3\n",
    "|> _equal (Some ())"
   ]
  },
  {
   "cell_type": "markdown",
   "metadata": {},
   "source": [
    "#### rename (test)"
   ]
  },
  {
   "cell_type": "code",
   "execution_count": null,
   "metadata": {
    "dotnet_interactive": {
     "language": "fsharp"
    },
    "polyglot_notebook": {
     "kernelName": "fsharp"
    }
   },
   "outputs": [
    {
     "name": "stdout",
     "output_type": "stream",
     "text": [
      "FSharpOption<Unit>\n",
      "      Value: <null>\n",
      "00:00:34 #53 [Debug] watchWithFilter / Disposing watch stream / filter: FileName, LastWrite\n",
      "FSharpList<Tuple<String,String>>\n",
      "( file1.txt, Created )\n",
      "( file1.txt, Changed )\n",
      "( file2.txt, Created )\n",
      "( file2.txt, Changed )\n",
      "( file_1.txt, Renamed )\n",
      "( file_1.txt, Deleted )\n",
      "( file_2.txt, Renamed )\n",
      "( file_2.txt, Deleted )\n",
      "FSharpMap<String,String>\n",
      "      - Key: file1.txt\n",
      "        Value: Changed\n",
      "      - Key: file2.txt\n",
      "        Value: Changed\n",
      "      - Key: file_1.txt\n",
      "        Value: Deleted\n",
      "      - Key: file_2.txt\n",
      "        Value: Deleted\n",
      "FSharpOption<Unit>\n",
      "      Value: <null>\n"
     ]
    }
   ],
   "source": [
    "//// test\n",
    "\n",
    "let inline write path = async {\n",
    "    let n = 2\n",
    "\n",
    "    for i = 1 to n do\n",
    "        do! $\"{i}\" |> writeAllTextAsync (path </> $\"file{i}.txt\")\n",
    "\n",
    "    for i = 1 to n do\n",
    "        do! path </> $\"file{i}.txt\" |> moveFileAsync (path </> $\"file_{i}.txt\") |> Async.Ignore\n",
    "\n",
    "    for i = 1 to n do\n",
    "        do! deleteFileAsync (path </> $\"file_{i}.txt\") |> Async.Ignore\n",
    "\n",
    "    do! Async.Sleep 150\n",
    "}\n",
    "\n",
    "let inline run () =\n",
    "    let eventMap, eventList = testEventsSorted (watchDirectory (fun _ -> false)) write\n",
    "\n",
    "    [\n",
    "        \"file1.txt\", nameof FileSystemChangeType.Created\n",
    "        \"file1.txt\", nameof FileSystemChangeType.Changed\n",
    "        \"file2.txt\", nameof FileSystemChangeType.Created\n",
    "        \"file2.txt\", nameof FileSystemChangeType.Changed\n",
    "\n",
    "        \"file_1.txt\", nameof FileSystemChangeType.Renamed\n",
    "        \"file_1.txt\", nameof FileSystemChangeType.Deleted\n",
    "\n",
    "        \"file_2.txt\", nameof FileSystemChangeType.Renamed\n",
    "        \"file_2.txt\", nameof FileSystemChangeType.Deleted\n",
    "    ]\n",
    "    |> _sequenceEqual eventList\n",
    "\n",
    "    [\n",
    "        \"file1.txt\", nameof FileSystemChangeType.Changed\n",
    "        \"file2.txt\", nameof FileSystemChangeType.Changed\n",
    "        \"file_1.txt\", nameof FileSystemChangeType.Deleted\n",
    "        \"file_2.txt\", nameof FileSystemChangeType.Deleted\n",
    "    ]\n",
    "    |> Map.ofList\n",
    "    |> _sequenceEqual eventMap\n",
    "\n",
    "run\n",
    "|> retryFn 3\n",
    "|> _equal (Some ())"
   ]
  },
  {
   "cell_type": "markdown",
   "metadata": {},
   "source": [
    "#### full (test)"
   ]
  },
  {
   "cell_type": "code",
   "execution_count": null,
   "metadata": {
    "dotnet_interactive": {
     "language": "fsharp"
    },
    "polyglot_notebook": {
     "kernelName": "fsharp"
    }
   },
   "outputs": [
    {
     "name": "stdout",
     "output_type": "stream",
     "text": [
      "FSharpOption<Unit>\n",
      "      Value: <null>\n",
      "00:00:37 #54 [Debug] watchWithFilter / Disposing watch stream / filter: FileName, LastWrite\n",
      "FSharpList<Tuple<String,String>>\n",
      "( file1.txt, Created )\n",
      "( file1.txt, Changed )\n",
      "( file2.txt, Created )\n",
      "( file2.txt, Changed )\n",
      "( file_1.txt, Changed )\n",
      "( file_1.txt, Renamed )\n",
      "( file_1.txt, Deleted )\n",
      "( file_2.txt, Changed )\n",
      "( file_2.txt, Renamed )\n",
      "( file_2.txt, Deleted )\n",
      "FSharpMap<String,String>\n",
      "      - Key: file1.txt\n",
      "        Value: Changed\n",
      "      - Key: file2.txt\n",
      "        Value: Changed\n",
      "      - Key: file_1.txt\n",
      "        Value: Deleted\n",
      "      - Key: file_2.txt\n",
      "        Value: Deleted\n",
      "FSharpOption<Unit>\n",
      "      Value: <null>\n"
     ]
    }
   ],
   "source": [
    "//// test\n",
    "\n",
    "let inline write path = async {\n",
    "    let n = 2\n",
    "\n",
    "    for i = 1 to n do\n",
    "        do! $\"{i}\" |> writeAllTextAsync (path </> $\"file{i}.txt\")\n",
    "\n",
    "    for i = 1 to n do\n",
    "        do! \"\" |> writeAllTextAsync (path </> $\"file{i}.txt\")\n",
    "\n",
    "    for i = 1 to n do\n",
    "        do! path </> $\"file{i}.txt\" |> moveFileAsync (path </> $\"file_{i}.txt\") |> Async.Ignore\n",
    "\n",
    "    for i = 1 to n do\n",
    "        do! $\"{i}\" |> writeAllTextAsync (path </> $\"file_{i}.txt\")\n",
    "\n",
    "    for i = 1 to n do\n",
    "        do! deleteFileAsync (path </> $\"file_{i}.txt\") |> Async.Ignore\n",
    "\n",
    "    do! Async.Sleep 150\n",
    "}\n",
    "\n",
    "let inline run () =\n",
    "    let eventMap, eventList = testEventsSorted (watchDirectory (fun _ -> false)) write\n",
    "\n",
    "    [\n",
    "        \"file1.txt\", nameof FileSystemChangeType.Created\n",
    "        \"file1.txt\", nameof FileSystemChangeType.Changed\n",
    "        \"file2.txt\", nameof FileSystemChangeType.Created\n",
    "        \"file2.txt\", nameof FileSystemChangeType.Changed\n",
    "\n",
    "        \"file_1.txt\", nameof FileSystemChangeType.Changed\n",
    "        \"file_1.txt\", nameof FileSystemChangeType.Renamed\n",
    "        \"file_1.txt\", nameof FileSystemChangeType.Deleted\n",
    "\n",
    "        \"file_2.txt\", nameof FileSystemChangeType.Changed\n",
    "        \"file_2.txt\", nameof FileSystemChangeType.Renamed\n",
    "        \"file_2.txt\", nameof FileSystemChangeType.Deleted\n",
    "    ]\n",
    "    |> _sequenceEqual eventList\n",
    "\n",
    "    [\n",
    "        \"file1.txt\", nameof FileSystemChangeType.Changed\n",
    "        \"file2.txt\", nameof FileSystemChangeType.Changed\n",
    "        \"file_1.txt\", nameof FileSystemChangeType.Deleted\n",
    "        \"file_2.txt\", nameof FileSystemChangeType.Deleted\n",
    "    ]\n",
    "    |> Map.ofList\n",
    "    |> _sequenceEqual eventMap\n",
    "\n",
    "run\n",
    "|> retryFn 3\n",
    "|> _equal (Some ())"
   ]
  }
 ],
 "metadata": {},
 "nbformat": 4,
 "nbformat_minor": 5
}