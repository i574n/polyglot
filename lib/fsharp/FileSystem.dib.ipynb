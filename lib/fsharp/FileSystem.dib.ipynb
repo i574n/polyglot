{
 "cells": [
  {
   "cell_type": "markdown",
   "metadata": {},
   "source": [
    "# FileSystem (Polyglot)"
   ]
  },
  {
   "cell_type": "code",
   "execution_count": null,
   "metadata": {
    "dotnet_interactive": {
     "language": "fsharp"
    },
    "polyglot_notebook": {
     "kernelName": "fsharp"
    }
   },
   "outputs": [],
   "source": [
    "#!import ../../lib/fsharp/Notebooks.dib\n",
    "#!import ../../lib/fsharp/Testing.dib"
   ]
  },
  {
   "cell_type": "code",
   "execution_count": null,
   "metadata": {
    "dotnet_interactive": {
     "language": "fsharp"
    },
    "polyglot_notebook": {
     "kernelName": "fsharp"
    }
   },
   "outputs": [],
   "source": [
    "#r @\"../../../../../../../.nuget/packages/fsharp.control.asyncseq/3.2.1/lib/netstandard2.1/FSharp.Control.AsyncSeq.dll\"\n",
    "#r @\"../../../../../../../.nuget/packages/system.reactive/6.0.1-preview.1/lib/net6.0/System.Reactive.dll\"\n",
    "#r @\"../../../../../../../.nuget/packages/system.reactive.linq/6.0.1-preview.1/lib/netstandard2.0/System.Reactive.Linq.dll\"\n",
    "#r @\"../../../../../../../.nuget/packages/argu/6.2.2/lib/netstandard2.0/Argu.dll\"\n",
    "#r @\"../../../../../../../.nuget/packages/system.commandline/2.0.0-beta4.22272.1/lib/net6.0/System.CommandLine.dll\""
   ]
  },
  {
   "cell_type": "code",
   "execution_count": null,
   "metadata": {
    "dotnet_interactive": {
     "language": "fsharp"
    },
    "polyglot_notebook": {
     "kernelName": "fsharp"
    }
   },
   "outputs": [],
   "source": [
    "#!import ../../lib/fsharp/Common.fs\n",
    "#!import ../../lib/fsharp/CommonFSharp.fs\n",
    "#!import ../../lib/fsharp/Async.fs\n",
    "#!import ../../lib/fsharp/AsyncSeq.fs\n",
    "#!import ../../lib/fsharp/Runtime.fs"
   ]
  },
  {
   "cell_type": "code",
   "execution_count": null,
   "metadata": {
    "dotnet_interactive": {
     "language": "fsharp"
    },
    "polyglot_notebook": {
     "kernelName": "fsharp"
    }
   },
   "outputs": [],
   "source": [
    "open Common"
   ]
  },
  {
   "cell_type": "markdown",
   "metadata": {},
   "source": [
    "## Operators"
   ]
  },
  {
   "cell_type": "code",
   "execution_count": null,
   "metadata": {
    "dotnet_interactive": {
     "language": "fsharp"
    },
    "polyglot_notebook": {
     "kernelName": "fsharp"
    }
   },
   "outputs": [],
   "source": [
    "module Operators =\n",
    "    let inline (</>) a b =\n",
    "        System.IO.Path.Combine (a, b)"
   ]
  },
  {
   "cell_type": "code",
   "execution_count": null,
   "metadata": {
    "dotnet_interactive": {
     "language": "fsharp"
    },
    "polyglot_notebook": {
     "kernelName": "fsharp"
    }
   },
   "outputs": [],
   "source": [
    "open Operators"
   ]
  },
  {
   "cell_type": "markdown",
   "metadata": {},
   "source": [
    "## createTempDirectoryName"
   ]
  },
  {
   "cell_type": "code",
   "execution_count": null,
   "metadata": {
    "dotnet_interactive": {
     "language": "fsharp"
    },
    "polyglot_notebook": {
     "kernelName": "fsharp"
    }
   },
   "outputs": [],
   "source": [
    "let inline createTempDirectoryName () =\n",
    "    let root = System.Reflection.Assembly.GetEntryAssembly().GetName().Name\n",
    "\n",
    "    System.IO.Path.GetTempPath ()\n",
    "    </> $\"!{root}\"\n",
    "    </> string (newGuidFromDateTime System.DateTime.Now)"
   ]
  },
  {
   "cell_type": "code",
   "execution_count": null,
   "metadata": {
    "dotnet_interactive": {
     "language": "fsharp"
    },
    "polyglot_notebook": {
     "kernelName": "fsharp"
    }
   },
   "outputs": [
    {
     "name": "stdout",
     "output_type": "stream",
     "text": [
      "/tmp/!dotnet-repl/20240325-1416-3123-2397-240cb0a197d9\n"
     ]
    }
   ],
   "source": [
    "//// test\n",
    "\n",
    "createTempDirectoryName ()\n",
    "|> _contains System.IO.Path.DirectorySeparatorChar"
   ]
  },
  {
   "cell_type": "markdown",
   "metadata": {},
   "source": [
    "## createTempDirectory"
   ]
  },
  {
   "cell_type": "code",
   "execution_count": null,
   "metadata": {
    "dotnet_interactive": {
     "language": "fsharp"
    },
    "polyglot_notebook": {
     "kernelName": "fsharp"
    }
   },
   "outputs": [],
   "source": [
    "let inline createTempDirectory () =\n",
    "    let tempFolder = createTempDirectoryName ()\n",
    "    let result = System.IO.Directory.CreateDirectory tempFolder\n",
    "\n",
    "    if not result.Exists then\n",
    "        let getLocals () =\n",
    "            $\"tempFolder: {tempFolder} / result: {({|\n",
    "                Exists = result.Exists\n",
    "                CreationTime = result.CreationTime\n",
    "            |})} {getLocals ()}\"\n",
    "\n",
    "        trace Debug (fun () -> \"createTempDirectory\") getLocals\n",
    "\n",
    "    tempFolder"
   ]
  },
  {
   "cell_type": "code",
   "execution_count": null,
   "metadata": {
    "dotnet_interactive": {
     "language": "fsharp"
    },
    "polyglot_notebook": {
     "kernelName": "fsharp"
    }
   },
   "outputs": [
    {
     "name": "stdout",
     "output_type": "stream",
     "text": [
      "True\n"
     ]
    }
   ],
   "source": [
    "//// test\n",
    "\n",
    "let tempDirectory = createTempDirectory ()\n",
    "\n",
    "Directory.Exists tempDirectory\n",
    "|> _assertEqual true"
   ]
  },
  {
   "cell_type": "markdown",
   "metadata": {},
   "source": [
    "## getSourceDirectory"
   ]
  },
  {
   "cell_type": "code",
   "execution_count": null,
   "metadata": {
    "dotnet_interactive": {
     "language": "fsharp"
    },
    "polyglot_notebook": {
     "kernelName": "fsharp"
    }
   },
   "outputs": [],
   "source": [
    "let getSourceDirectory =\n",
    "    fun () -> __SOURCE_DIRECTORY__\n",
    "    |> memoize"
   ]
  },
  {
   "cell_type": "code",
   "execution_count": null,
   "metadata": {
    "dotnet_interactive": {
     "language": "fsharp"
    },
    "polyglot_notebook": {
     "kernelName": "fsharp"
    }
   },
   "outputs": [
    {
     "name": "stdout",
     "output_type": "stream",
     "text": [
      "fsharp\n"
     ]
    }
   ],
   "source": [
    "//// test\n",
    "\n",
    "getSourceDirectory ()\n",
    "|> System.IO.DirectoryInfo\n",
    "|> fun dir -> dir.Name\n",
    "|> _assertEqual \"fsharp\""
   ]
  },
  {
   "cell_type": "markdown",
   "metadata": {},
   "source": [
    "## findParent"
   ]
  },
  {
   "cell_type": "code",
   "execution_count": null,
   "metadata": {
    "dotnet_interactive": {
     "language": "fsharp"
    },
    "polyglot_notebook": {
     "kernelName": "fsharp"
    }
   },
   "outputs": [],
   "source": [
    "let inline findParent name isFile rootDir =\n",
    "    let rec loop dir =\n",
    "        if dir </> name |> (if isFile then System.IO.File.Exists else System.IO.Directory.Exists)\n",
    "        then dir\n",
    "        else\n",
    "            dir\n",
    "            |> System.IO.Directory.GetParent\n",
    "            |> function\n",
    "                | null -> failwith $\"\"\"No parent for {if isFile then \"file\" else \"dir\"} '{name}' at '{rootDir}'\"\"\"\n",
    "                | parent -> parent.FullName |> loop\n",
    "    loop rootDir"
   ]
  },
  {
   "cell_type": "code",
   "execution_count": null,
   "metadata": {
    "dotnet_interactive": {
     "language": "fsharp"
    },
    "polyglot_notebook": {
     "kernelName": "fsharp"
    }
   },
   "outputs": [
    {
     "name": "stdout",
     "output_type": "stream",
     "text": [
      "polyglot\n"
     ]
    }
   ],
   "source": [
    "//// test\n",
    "\n",
    "getSourceDirectory () |> findParent \".paket\" false\n",
    "|> System.IO.DirectoryInfo\n",
    "|> fun dir -> dir.Name\n",
    "|> _assertEqual \"polyglot\""
   ]
  },
  {
   "cell_type": "code",
   "execution_count": null,
   "metadata": {
    "dotnet_interactive": {
     "language": "fsharp"
    },
    "polyglot_notebook": {
     "kernelName": "fsharp"
    }
   },
   "outputs": [
    {
     "name": "stdout",
     "output_type": "stream",
     "text": [
      "polyglot\n"
     ]
    }
   ],
   "source": [
    "//// test\n",
    "\n",
    "getSourceDirectory () |> findParent \"paket.dependencies\" true\n",
    "|> System.IO.DirectoryInfo\n",
    "|> fun dir -> dir.Name\n",
    "|> _assertEqual \"polyglot\""
   ]
  },
  {
   "cell_type": "markdown",
   "metadata": {},
   "source": [
    "## readAllTextAsync"
   ]
  },
  {
   "cell_type": "code",
   "execution_count": null,
   "metadata": {
    "dotnet_interactive": {
     "language": "fsharp"
    },
    "polyglot_notebook": {
     "kernelName": "fsharp"
    }
   },
   "outputs": [],
   "source": [
    "let inline readAllTextAsync path =\n",
    "    path |> System.IO.File.ReadAllTextAsync |> Async.AwaitTask"
   ]
  },
  {
   "cell_type": "markdown",
   "metadata": {},
   "source": [
    "## fileExistsContent"
   ]
  },
  {
   "cell_type": "code",
   "execution_count": null,
   "metadata": {
    "dotnet_interactive": {
     "language": "fsharp"
    },
    "polyglot_notebook": {
     "kernelName": "fsharp"
    }
   },
   "outputs": [],
   "source": [
    "let inline fileExistsContent path content = async {\n",
    "    if path |> System.IO.File.Exists |> not\n",
    "    then return false\n",
    "    else\n",
    "        let! existingContent = path |> readAllTextAsync\n",
    "        return content = existingContent\n",
    "}"
   ]
  },
  {
   "cell_type": "markdown",
   "metadata": {},
   "source": [
    "## writeAllTextAsync"
   ]
  },
  {
   "cell_type": "code",
   "execution_count": null,
   "metadata": {
    "dotnet_interactive": {
     "language": "fsharp"
    },
    "polyglot_notebook": {
     "kernelName": "fsharp"
    }
   },
   "outputs": [],
   "source": [
    "let inline writeAllTextAsync path contents =\n",
    "    System.IO.File.WriteAllTextAsync (path, contents) |> Async.AwaitTask"
   ]
  },
  {
   "cell_type": "markdown",
   "metadata": {},
   "source": [
    "## writeAllTextExists"
   ]
  },
  {
   "cell_type": "code",
   "execution_count": null,
   "metadata": {
    "dotnet_interactive": {
     "language": "fsharp"
    },
    "polyglot_notebook": {
     "kernelName": "fsharp"
    }
   },
   "outputs": [],
   "source": [
    "let inline writeAllTextExists path contents = async {\n",
    "    let! exists = contents |> fileExistsContent path\n",
    "    if not exists\n",
    "    then do! contents |> writeAllTextAsync path\n",
    "}"
   ]
  },
  {
   "cell_type": "markdown",
   "metadata": {},
   "source": [
    "## waitForFileAccess"
   ]
  },
  {
   "cell_type": "code",
   "execution_count": null,
   "metadata": {
    "dotnet_interactive": {
     "language": "fsharp"
    },
    "polyglot_notebook": {
     "kernelName": "fsharp"
    }
   },
   "outputs": [],
   "source": [
    "let inline waitForFileAccess access path =\n",
    "    let fileAccess, fileShare =\n",
    "        access\n",
    "        |> Option.defaultValue (System.IO.FileAccess.ReadWrite, System.IO.FileShare.Read)\n",
    "\n",
    "    let rec loop retry = async {\n",
    "        try\n",
    "            use _ = new System.IO.FileStream (\n",
    "                path,\n",
    "                System.IO.FileMode.Open,\n",
    "                fileAccess,\n",
    "                fileShare\n",
    "            )\n",
    "            return retry\n",
    "        with ex ->\n",
    "            if retry % 100 = 0 then\n",
    "                let getLocals () = $\"path: {path |> System.IO.Path.GetFileName} / ex: {ex |> printException} / {getLocals ()}\"\n",
    "                trace Debug (fun () -> \"waitForFileAccess\") getLocals\n",
    "            do! Async.Sleep 10\n",
    "            return! loop (retry + 1)\n",
    "    }\n",
    "    loop 0"
   ]
  },
  {
   "cell_type": "code",
   "execution_count": null,
   "metadata": {
    "dotnet_interactive": {
     "language": "fsharp"
    },
    "polyglot_notebook": {
     "kernelName": "fsharp"
    }
   },
   "outputs": [
    {
     "name": "stdout",
     "output_type": "stream",
     "text": [
      "00:00:00 #1 [Debug] 1\n",
      "00:00:00 #2 [Debug] 2\n",
      "00:00:00 #3 [Debug] _1\n",
      "00:00:00 #4 [Debug] 3\n",
      "00:00:00 #5 [Debug] _2\n",
      "00:00:00 #6 [Debug] 4\n",
      "00:00:00 #7 [Debug] waitForFileAccess / path: test.txt / ex: System.IO.IOException: The process cannot access the file '/tmp/!dotnet-repl/20240325-1416-3172-7261-725ee7414d8e/test.txt' because it is being used by another process.\n",
      "00:00:01 #8 [Debug] waitForFileAccess / path: test.txt / ex: System.IO.IOException: The process cannot access the file '/tmp/!dotnet-repl/20240325-1416-3172-7261-725ee7414d8e/test.txt' because it is being used by another process.\n",
      "00:00:02 #9 [Debug] _3\n",
      "00:00:02 #10 [Debug] _4\n",
      "00:00:02 #11 [Debug] _5\n",
      "00:00:02 #12 [Debug] _6\n",
      "00:00:02 #13 [Debug] 5\n",
      "00:00:02 #14 [Debug] 6\n",
      "00:00:02 #15 [Debug] 7\n",
      "167\n",
      "167\n",
      "167\n",
      "1\n",
      "True\n"
     ]
    }
   ],
   "source": [
    "//// test\n",
    "\n",
    "let tempFolder = createTempDirectory ()\n",
    "let path = tempFolder </> \"test.txt\"\n",
    "\n",
    "let inline lockFile () = async {\n",
    "    trace Debug (fun () -> \"_1\") getLocals\n",
    "    use stream = new System.IO.FileStream (\n",
    "        path,\n",
    "        System.IO.FileMode.Open,\n",
    "        System.IO.FileAccess.ReadWrite,\n",
    "        System.IO.FileShare.None\n",
    "    )\n",
    "    trace Debug (fun () -> \"_2\") getLocals\n",
    "    do! Async.Sleep 2000\n",
    "    trace Debug (fun () -> \"_3\") getLocals\n",
    "    stream.Seek (0L, SeekOrigin.Begin) |> ignore\n",
    "    trace Debug (fun () -> \"_4\") getLocals\n",
    "    stream.WriteByte 49uy\n",
    "    trace Debug (fun () -> \"_5\") getLocals\n",
    "    stream.Flush ()\n",
    "    trace Debug (fun () -> \"_6\") getLocals\n",
    "}\n",
    "\n",
    "async {\n",
    "    trace Debug (fun () -> \"1\") getLocals\n",
    "    do! \"0\" |> writeAllTextAsync path\n",
    "    trace Debug (fun () -> \"2\") getLocals\n",
    "    let! child = lockFile () |> Async.StartChild\n",
    "    trace Debug (fun () -> \"3\") getLocals\n",
    "    do! Async.Sleep 1\n",
    "    trace Debug (fun () -> \"4\") getLocals\n",
    "    let! retries = path |> waitForFileAccess None\n",
    "    trace Debug (fun () -> \"5\") getLocals\n",
    "    let! text = path |> readAllTextAsync\n",
    "    trace Debug (fun () -> \"6\") getLocals\n",
    "    do! child\n",
    "    trace Debug (fun () -> \"7\") getLocals\n",
    "    return retries, text\n",
    "}\n",
    "|> Async.runWithTimeout 3000\n",
    "|> function\n",
    "    | Some (retries, text) ->\n",
    "        retries\n",
    "        |> _isBetween\n",
    "            (if Runtime.isWindows () then 100 else 100)\n",
    "            (if Runtime.isWindows () then 150 else 200)\n",
    "\n",
    "        text |> _assertEqual \"1\"\n",
    "\n",
    "        true\n",
    "    | _ -> false\n",
    "|> _assertEqual true"
   ]
  },
  {
   "cell_type": "markdown",
   "metadata": {},
   "source": [
    "## readAllTextRetryAsync"
   ]
  },
  {
   "cell_type": "code",
   "execution_count": null,
   "metadata": {
    "dotnet_interactive": {
     "language": "fsharp"
    },
    "polyglot_notebook": {
     "kernelName": "fsharp"
    }
   },
   "outputs": [],
   "source": [
    "let inline readAllTextRetryAsync fullPath =\n",
    "    let rec loop retry = async {\n",
    "        try\n",
    "            if retry > 0\n",
    "            then do!\n",
    "                fullPath\n",
    "                |> waitForFileAccess (Some (\n",
    "                    System.IO.FileAccess.Read,\n",
    "                    System.IO.FileShare.Read\n",
    "                ))\n",
    "                |> Async.runWithTimeoutAsync 1000\n",
    "                |> Async.Ignore\n",
    "            return! fullPath |> readAllTextAsync |> Async.map Some\n",
    "        with ex ->\n",
    "            let getLocals () = $\"retry: {retry} / ex: {ex |> printException} / {getLocals ()}\"\n",
    "            trace Debug (fun () -> $\"watchWithFilter / readContent\") getLocals\n",
    "            if retry = 0\n",
    "            then return! loop (retry + 1)\n",
    "            else return None\n",
    "    }\n",
    "    loop 0"
   ]
  },
  {
   "cell_type": "markdown",
   "metadata": {},
   "source": [
    "## deleteDirectoryAsync"
   ]
  },
  {
   "cell_type": "code",
   "execution_count": null,
   "metadata": {
    "dotnet_interactive": {
     "language": "fsharp"
    },
    "polyglot_notebook": {
     "kernelName": "fsharp"
    }
   },
   "outputs": [],
   "source": [
    "let inline deleteDirectoryAsync path =\n",
    "    let rec loop retry = async {\n",
    "        try\n",
    "            System.IO.Directory.Delete (path, true)\n",
    "            return retry\n",
    "        with ex ->\n",
    "            if retry % 100 = 0 then\n",
    "                let getLocals () = $\"path: {path |> System.IO.Path.GetFileName} / ex: {ex |> printException} / {getLocals ()}\"\n",
    "                trace Debug (fun () -> \"deleteDirectoryAsync\") getLocals\n",
    "            do! Async.Sleep 10\n",
    "            return! loop (retry + 1)\n",
    "    }\n",
    "    loop 0"
   ]
  },
  {
   "cell_type": "code",
   "execution_count": null,
   "metadata": {
    "dotnet_interactive": {
     "language": "fsharp"
    },
    "polyglot_notebook": {
     "kernelName": "fsharp"
    }
   },
   "outputs": [
    {
     "name": "stdout",
     "output_type": "stream",
     "text": [
      "00:00:02 #16 [Debug] 1\n",
      "00:00:02 #17 [Debug] 2\n",
      "00:00:02 #18 [Debug] 3\n",
      "00:00:02 #19 [Debug] _1\n",
      "00:00:02 #20 [Debug] _2\n",
      "00:00:02 #21 [Debug] 4\n",
      "00:00:02 #22 [Debug] 5\n",
      "00:00:04 #23 [Debug] _3\n",
      "00:00:04 #24 [Debug] 6\n",
      "0\n",
      "0\n",
      "0\n",
      "True\n"
     ]
    }
   ],
   "source": [
    "//// test\n",
    "\n",
    "let tempFolder = createTempDirectory ()\n",
    "let path = tempFolder </> \"test\"\n",
    "\n",
    "let inline lockDirectory () = async {\n",
    "    trace Debug (fun () -> \"_1\") getLocals\n",
    "    System.IO.File.WriteAllText (path </> \"test.txt\", \"0\")\n",
    "    use _ = new System.IO.FileStream (\n",
    "        path </> \"test.txt\",\n",
    "        System.IO.FileMode.Open,\n",
    "        System.IO.FileAccess.ReadWrite,\n",
    "        System.IO.FileShare.None\n",
    "    )\n",
    "    trace Debug (fun () -> \"_2\") getLocals\n",
    "    do! Async.Sleep 2000\n",
    "    trace Debug (fun () -> \"_3\") getLocals\n",
    "}\n",
    "\n",
    "async {\n",
    "    trace Debug (fun () -> \"1\") getLocals\n",
    "    Directory.CreateDirectory path |> ignore\n",
    "    trace Debug (fun () -> \"2\") getLocals\n",
    "    let! child = lockDirectory () |> Async.StartChild\n",
    "    trace Debug (fun () -> \"3\") getLocals\n",
    "    do! Async.Sleep 60\n",
    "    trace Debug (fun () -> \"4\") getLocals\n",
    "    let! retries = deleteDirectoryAsync path\n",
    "    trace Debug (fun () -> \"5\") getLocals\n",
    "    do! child\n",
    "    trace Debug (fun () -> \"6\") getLocals\n",
    "    return retries\n",
    "}\n",
    "|> Async.runWithTimeout 3000\n",
    "|> function\n",
    "    | Some retries ->\n",
    "        retries\n",
    "        |> _isBetween\n",
    "            (if Runtime.isWindows () then 100 else 0)\n",
    "            (if Runtime.isWindows () then 150 else 0)\n",
    "\n",
    "        true\n",
    "    | _ -> false\n",
    "|> _assertEqual true"
   ]
  },
  {
   "cell_type": "markdown",
   "metadata": {},
   "source": [
    "## deleteFileAsync"
   ]
  },
  {
   "cell_type": "code",
   "execution_count": null,
   "metadata": {
    "dotnet_interactive": {
     "language": "fsharp"
    },
    "polyglot_notebook": {
     "kernelName": "fsharp"
    }
   },
   "outputs": [],
   "source": [
    "let inline deleteFileAsync path =\n",
    "    let rec loop retry = async {\n",
    "        try\n",
    "            System.IO.File.Delete path\n",
    "            return retry\n",
    "        with ex ->\n",
    "            if retry % 100 = 0 then\n",
    "                let getLocals () = $\"path: {path |> System.IO.Path.GetFileName} / ex: {ex |> printException} / {getLocals ()}\"\n",
    "                trace Warning (fun () -> \"deleteFileAsync\") getLocals\n",
    "            do! Async.Sleep 10\n",
    "            return! loop (retry + 1)\n",
    "    }\n",
    "    loop 0"
   ]
  },
  {
   "cell_type": "code",
   "execution_count": null,
   "metadata": {
    "dotnet_interactive": {
     "language": "fsharp"
    },
    "polyglot_notebook": {
     "kernelName": "fsharp"
    }
   },
   "outputs": [
    {
     "name": "stdout",
     "output_type": "stream",
     "text": [
      "00:00:04 #25 [Debug] 1\n",
      "00:00:04 #26 [Debug] 2\n",
      "00:00:04 #27 [Debug] 3\n",
      "00:00:04 #28 [Debug] _1\n",
      "00:00:04 #29 [Debug] _2\n",
      "00:00:04 #30 [Debug] 4\n",
      "00:00:04 #31 [Debug] 5\n",
      "00:00:06 #32 [Debug] _3\n",
      "00:00:06 #33 [Debug] 6\n",
      "0\n",
      "0\n",
      "0\n",
      "True\n"
     ]
    }
   ],
   "source": [
    "//// test\n",
    "\n",
    "let tempFolder = createTempDirectory ()\n",
    "let path = tempFolder </> \"test.txt\"\n",
    "\n",
    "let inline lockFile () = async {\n",
    "    trace Debug (fun () -> \"_1\") getLocals\n",
    "    use _ = new System.IO.FileStream (\n",
    "        path,\n",
    "        System.IO.FileMode.Open,\n",
    "        System.IO.FileAccess.ReadWrite,\n",
    "        System.IO.FileShare.None\n",
    "    )\n",
    "    trace Debug (fun () -> \"_2\") getLocals\n",
    "    do! Async.Sleep 2000\n",
    "    trace Debug (fun () -> \"_3\") getLocals\n",
    "}\n",
    "\n",
    "async {\n",
    "    trace Debug (fun () -> \"1\") getLocals\n",
    "    do! \"0\" |> writeAllTextAsync path\n",
    "    trace Debug (fun () -> \"2\") getLocals\n",
    "    let! child = lockFile () |> Async.StartChild\n",
    "    trace Debug (fun () -> \"3\") getLocals\n",
    "    do! Async.Sleep 1\n",
    "    trace Debug (fun () -> \"4\") getLocals\n",
    "    let! retries = deleteFileAsync path\n",
    "    trace Debug (fun () -> \"5\") getLocals\n",
    "    do! child\n",
    "    trace Debug (fun () -> \"6\") getLocals\n",
    "    return retries\n",
    "}\n",
    "|> Async.runWithTimeout 3000\n",
    "|> function\n",
    "    | Some retries ->\n",
    "        retries\n",
    "        |> _isBetween\n",
    "            (if Runtime.isWindows () then 100 else 0)\n",
    "            (if Runtime.isWindows () then 150 else 0)\n",
    "\n",
    "        true\n",
    "    | _ -> false\n",
    "|> _assertEqual true"
   ]
  },
  {
   "cell_type": "markdown",
   "metadata": {},
   "source": [
    "## moveFileAsync"
   ]
  },
  {
   "cell_type": "code",
   "execution_count": null,
   "metadata": {
    "dotnet_interactive": {
     "language": "fsharp"
    },
    "polyglot_notebook": {
     "kernelName": "fsharp"
    }
   },
   "outputs": [],
   "source": [
    "let inline moveFileAsync newPath oldPath =\n",
    "    let rec loop retry = async {\n",
    "        try\n",
    "            System.IO.File.Move (oldPath, newPath)\n",
    "            return retry\n",
    "        with ex ->\n",
    "            if retry % 100 = 0 then\n",
    "                let getLocals () =\n",
    "                    $\"oldPath: {oldPath |> System.IO.Path.GetFileName} / newPath: {newPath |> System.IO.Path.GetFileName} / ex: {ex |> printException} / {getLocals ()}\"\n",
    "                trace Warning (fun () -> \"moveFileAsync\") getLocals\n",
    "            do! Async.Sleep 10\n",
    "            return! loop (retry + 1)\n",
    "    }\n",
    "    loop 0"
   ]
  },
  {
   "cell_type": "code",
   "execution_count": null,
   "metadata": {
    "dotnet_interactive": {
     "language": "fsharp"
    },
    "polyglot_notebook": {
     "kernelName": "fsharp"
    }
   },
   "outputs": [
    {
     "name": "stdout",
     "output_type": "stream",
     "text": [
      "00:00:06 #34 [Debug] 1\n",
      "00:00:06 #35 [Debug] 2\n",
      "00:00:06 #36 [Debug] 3\n",
      "00:00:06 #37 [Debug] _1\n",
      "00:00:06 #38 [Debug] _2\n",
      "00:00:06 #39 [Debug] 4\n",
      "00:00:06 #40 [Debug] 5\n",
      "00:00:06 #41 [Debug] waitForFileAccess / path: test2.txt / ex: System.IO.IOException: The process cannot access the file '/tmp/!dotnet-repl/20240325-1416-3856-5675-589ed2d9e414/test2.txt' because it is being used by another process.\n",
      "00:00:08 #42 [Debug] waitForFileAccess / path: test2.txt / ex: System.IO.IOException: The process cannot access the file '/tmp/!dotnet-repl/20240325-1416-3856-5675-589ed2d9e414/test2.txt' because it is being used by another process.\n",
      "00:00:08 #43 [Debug] _3\n",
      "00:00:08 #44 [Debug] 6\n",
      "00:00:08 #45 [Debug] 7\n",
      "00:00:08 #46 [Debug] 8\n",
      "0\n",
      "0\n",
      "0\n",
      "167\n",
      "167\n",
      "167\n",
      "0\n",
      "True\n"
     ]
    }
   ],
   "source": [
    "//// test\n",
    "\n",
    "let tempFolder = createTempDirectory ()\n",
    "let path = tempFolder </> \"test.txt\"\n",
    "let newPath = tempFolder </> \"test2.txt\"\n",
    "\n",
    "let inline lockFile () = async {\n",
    "    trace Debug (fun () -> \"_1\") getLocals\n",
    "    use _ = new System.IO.FileStream (\n",
    "        path,\n",
    "        System.IO.FileMode.Open,\n",
    "        System.IO.FileAccess.ReadWrite,\n",
    "        System.IO.FileShare.None\n",
    "    )\n",
    "    trace Debug (fun () -> \"_2\") getLocals\n",
    "    do! Async.Sleep 2000\n",
    "    trace Debug (fun () -> \"_3\") getLocals\n",
    "}\n",
    "\n",
    "async {\n",
    "    trace Debug (fun () -> \"1\") getLocals\n",
    "    do! \"0\" |> writeAllTextAsync path\n",
    "    trace Debug (fun () -> \"2\") getLocals\n",
    "    let! child = lockFile () |> Async.StartChild\n",
    "    trace Debug (fun () -> \"3\") getLocals\n",
    "    do! Async.Sleep 1\n",
    "    trace Debug (fun () -> \"4\") getLocals\n",
    "    let! retries1 = path |> moveFileAsync newPath\n",
    "    trace Debug (fun () -> \"5\") getLocals\n",
    "    let! retries2 = newPath |> waitForFileAccess None\n",
    "    trace Debug (fun () -> \"6\") getLocals\n",
    "    let! text = newPath |> readAllTextAsync\n",
    "    trace Debug (fun () -> \"7\") getLocals\n",
    "    do! child\n",
    "    trace Debug (fun () -> \"8\") getLocals\n",
    "    return retries1, retries2, text\n",
    "}\n",
    "|> Async.runWithTimeout 3000\n",
    "|> function\n",
    "    | Some (retries1, retries2, text) ->\n",
    "        retries1\n",
    "        |> _isBetween\n",
    "            (if Runtime.isWindows () then 100 else 0)\n",
    "            (if Runtime.isWindows () then 150 else 0)\n",
    "\n",
    "        retries2\n",
    "        |> _isBetween\n",
    "            (if Runtime.isWindows () then 0 else 100)\n",
    "            (if Runtime.isWindows () then 0 else 200)\n",
    "\n",
    "        text |> _assertEqual \"0\"\n",
    "\n",
    "        true\n",
    "    | _ -> false\n",
    "|> _assertEqual true"
   ]
  },
  {
   "cell_type": "markdown",
   "metadata": {},
   "source": [
    "## watchDirectory"
   ]
  },
  {
   "cell_type": "code",
   "execution_count": null,
   "metadata": {
    "dotnet_interactive": {
     "language": "fsharp"
    },
    "polyglot_notebook": {
     "kernelName": "fsharp"
    }
   },
   "outputs": [],
   "source": [
    "[<RequireQualifiedAccess>]\n",
    "type FileSystemChangeType =\n",
    "    | Failure\n",
    "    | Changed\n",
    "    | Created\n",
    "    | Deleted\n",
    "    | Renamed\n",
    "\n",
    "[<RequireQualifiedAccess>]\n",
    "type FileSystemChange =\n",
    "    | Failure of exn: exn\n",
    "    | Changed of path: string * content: string option\n",
    "    | Created of path: string * content: string option\n",
    "    | Deleted of path: string\n",
    "    | Renamed of oldPath: string * (string * string option)\n",
    "\n",
    "\n",
    "let inline watchDirectoryWithFilter filter shouldReadContent path =\n",
    "    let fullPath = path |> System.IO.Path.GetFullPath\n",
    "    let getLocals () = $\"filter: {filter} / {getLocals ()}\"\n",
    "\n",
    "    let watcher =\n",
    "        new System.IO.FileSystemWatcher (\n",
    "            Path = fullPath,\n",
    "            NotifyFilter = filter,\n",
    "            EnableRaisingEvents = true,\n",
    "            IncludeSubdirectories = true\n",
    "        )\n",
    "\n",
    "    let inline getEventPath (path : string) =\n",
    "        path |> String.trim |> String.replace fullPath \"\" |> String.trimStart [| '/'; '\\\\' |]\n",
    "\n",
    "    let inline ticks () =\n",
    "        System.DateTime.UtcNow.Ticks\n",
    "\n",
    "    let changedStream =\n",
    "        AsyncSeq.subscribeEvent\n",
    "            watcher.Changed\n",
    "            (fun event ->\n",
    "                ticks (),\n",
    "                [ FileSystemChange.Changed (getEventPath event.FullPath, None) ]\n",
    "            )\n",
    "\n",
    "    let deletedStream =\n",
    "        AsyncSeq.subscribeEvent\n",
    "            watcher.Deleted\n",
    "            (fun event ->\n",
    "                ticks (),\n",
    "                [ FileSystemChange.Deleted (getEventPath event.FullPath) ]\n",
    "            )\n",
    "\n",
    "    let createdStream =\n",
    "        AsyncSeq.subscribeEvent\n",
    "            watcher.Created\n",
    "            (fun event ->\n",
    "                let path = getEventPath event.FullPath\n",
    "                ticks (), [\n",
    "                    FileSystemChange.Created (path, None)\n",
    "                    if Runtime.isWindows () then\n",
    "                        FileSystemChange.Changed (path, None)\n",
    "                ])\n",
    "\n",
    "    let renamedStream =\n",
    "        AsyncSeq.subscribeEvent\n",
    "            watcher.Renamed\n",
    "            (fun event ->\n",
    "                ticks (), [\n",
    "                    FileSystemChange.Renamed (\n",
    "                        getEventPath event.OldFullPath,\n",
    "                        (getEventPath event.FullPath, None)\n",
    "                    )\n",
    "                ]\n",
    "            )\n",
    "\n",
    "    let failureStream =\n",
    "        AsyncSeq.subscribeEvent\n",
    "            watcher.Error\n",
    "            (fun event -> ticks (), [ FileSystemChange.Failure (event.GetException ()) ])\n",
    "\n",
    "    let stream =\n",
    "        [\n",
    "            changedStream\n",
    "            deletedStream\n",
    "            createdStream\n",
    "            renamedStream\n",
    "            failureStream\n",
    "        ]\n",
    "        |> FSharp.Control.AsyncSeq.mergeAll\n",
    "        |> FSharp.Control.AsyncSeq.map (fun (t, events) ->\n",
    "            events\n",
    "            |> List.fold\n",
    "                (fun (i, events) event ->\n",
    "                    i + 1L,\n",
    "                    (t + i, event) :: events)\n",
    "                (0L, [])\n",
    "            |> snd\n",
    "            |> List.rev\n",
    "        )\n",
    "        |> FSharp.Control.AsyncSeq.concatSeq\n",
    "        |> FSharp.Control.AsyncSeq.mapAsyncParallel (fun (t, event) -> async {\n",
    "            match shouldReadContent event, event with\n",
    "            | true, FileSystemChange.Changed (path, _) ->\n",
    "                do! Async.Sleep 5\n",
    "                let! content = fullPath </> path |> readAllTextRetryAsync\n",
    "                return t, FileSystemChange.Changed (path, content)\n",
    "            | true, FileSystemChange.Created (path, _) ->\n",
    "                do! Async.Sleep 5\n",
    "                let! content = fullPath </> path |> readAllTextRetryAsync\n",
    "                return t, FileSystemChange.Created (path, content)\n",
    "            | true, FileSystemChange.Renamed (oldPath, (newPath, _)) ->\n",
    "                let! content = fullPath </> newPath |> readAllTextRetryAsync\n",
    "                return t, FileSystemChange.Renamed (oldPath, (newPath, content))\n",
    "            | _ -> return t, event\n",
    "        })\n",
    "\n",
    "    let disposable =\n",
    "        newDisposable (fun () ->\n",
    "            trace Debug (fun () -> \"watchWithFilter / Disposing watch stream\") getLocals\n",
    "            watcher.EnableRaisingEvents <- false\n",
    "            watcher.Dispose ()\n",
    "        )\n",
    "\n",
    "    stream, disposable\n",
    "\n",
    "let inline watchDirectory path =\n",
    "    watchDirectoryWithFilter\n",
    "        (System.IO.NotifyFilters.FileName\n",
    "        // ||| System.IO.NotifyFilters.DirectoryName\n",
    "        // ||| System.IO.NotifyFilters.Attributes\n",
    "        //// ||| System.IO.NotifyFilters.Size\n",
    "        ||| System.IO.NotifyFilters.LastWrite\n",
    "        //// ||| System.IO.NotifyFilters.LastAccess\n",
    "        // ||| System.IO.NotifyFilters.CreationTime\n",
    "        // ||| System.IO.NotifyFilters.Security\n",
    "        )\n",
    "        path"
   ]
  },
  {
   "cell_type": "markdown",
   "metadata": {},
   "source": [
    "### testEventsRaw (test)"
   ]
  },
  {
   "cell_type": "code",
   "execution_count": null,
   "metadata": {
    "dotnet_interactive": {
     "language": "fsharp"
    },
    "polyglot_notebook": {
     "kernelName": "fsharp"
    }
   },
   "outputs": [],
   "source": [
    "//// test\n",
    "\n",
    "let inline testEventsRaw\n",
    "    (watchFn : (_ -> bool) -> string -> FSharp.Control.AsyncSeq<int64 * FileSystemChange> * IDisposable)\n",
    "    write\n",
    "    =\n",
    "    let tempDirectory = createTempDirectory ()\n",
    "    let stream, disposable = watchFn (fun _ -> true) tempDirectory\n",
    "\n",
    "    let events = System.Collections.Concurrent.ConcurrentBag ()\n",
    "\n",
    "    let inline iter () =\n",
    "        stream\n",
    "        |> FSharp.Control.AsyncSeq.iterAsyncParallel (fun event -> async { events.Add event })\n",
    "\n",
    "    let run = async {\n",
    "        let! _ = iter () |> Async.StartChild\n",
    "        do! Async.Sleep 250\n",
    "        return! write tempDirectory\n",
    "    }\n",
    "\n",
    "    try\n",
    "        run\n",
    "        |> Async.runWithTimeout 60000\n",
    "        |> _assertEqual (Some ())\n",
    "    finally\n",
    "        disposable.Dispose ()\n",
    "        deleteDirectoryAsync tempDirectory |> Async.Ignore |> Async.RunSynchronously\n",
    "\n",
    "    let eventsLog =\n",
    "        events\n",
    "        |> Seq.toList\n",
    "        |> List.sortBy fst\n",
    "        |> List.fold\n",
    "            (fun (prev, acc) (ticks, event) ->\n",
    "                ticks, (ticks, (if prev = 0L then 0L else ticks - prev), event) :: acc\n",
    "            )\n",
    "            (0L, [])\n",
    "        |> snd\n",
    "        |> List.rev\n",
    "        |> List.map (fun (diff, n, event) ->\n",
    "            let text = $\"{n} / {diff} / {event}\"\n",
    "            if text |> String.length <= 100\n",
    "            then text\n",
    "            else text |> String.substring 0 100 |> String.replace \"\\n\" \"\"\n",
    "        )\n",
    "        |> String.concat \"\\n\"\n",
    "    let getLocals () = $\"eventsLog: \\n{eventsLog} / {getLocals ()}\"\n",
    "    trace Debug (fun () -> \"testEventsRaw\") getLocals\n",
    "\n",
    "    events\n",
    "    |> Seq.toList\n",
    "    |> List.sortBy fst\n",
    "    |> List.map snd\n",
    "    |> List.fold\n",
    "        (fun acc event ->\n",
    "            match acc, event with\n",
    "            | FileSystemChange.Changed (lastPath, Some lastContent) as lastEvent :: acc,\n",
    "                FileSystemChange.Changed (path, Some content)\n",
    "                when lastPath = path && content |> String.startsWith lastContent\n",
    "                ->\n",
    "                event :: acc\n",
    "            | _ -> event :: acc\n",
    "        )\n",
    "        []\n",
    "    |> List.rev"
   ]
  },
  {
   "cell_type": "markdown",
   "metadata": {},
   "source": [
    "#### fast (test)"
   ]
  },
  {
   "cell_type": "code",
   "execution_count": null,
   "metadata": {
    "dotnet_interactive": {
     "language": "fsharp"
    },
    "polyglot_notebook": {
     "kernelName": "fsharp"
    }
   },
   "outputs": [
    {
     "name": "stdout",
     "output_type": "stream",
     "text": [
      "FSharpOption<Unit>\n",
      "      Value: <null>\n",
      "00:00:13 #47 [Debug] watchWithFilter / Disposing watch stream / filter: FileName, LastWrite\n",
      "00:00:13 #48 [Debug] testEventsRaw / eventsLog: \n",
      "0 / 638469730035560451 / Created (\"file1.txt\", Some \"a1\")\n",
      "11657 / 638469730035572108 / Changed (\"file1.txt\", Some \"a1\")\n",
      "1418 / 638469730035573526 / Created (\"file2.txt\", Some \"a2\")\n",
      "47 / 638469730035573573 / Changed (\"file2.txt\", Some \"a2\")\n",
      "2477516 / 638469730038051089 / Changed (\"file1.txt\", Some \"b1\")\n",
      "578 / 638469730038051667 / Changed (\"file1.txt\", Some \"b1\")\n",
      "4284 / 638469730038055951 / Changed (\"file2.txt\", Some \"b2\")\n",
      "166 / 638469730038056117 / Changed (\"file2.txt\", Some \"b2\")\n",
      "2531209 / 638469730040587326 / Renamed (\"file1.txt\", (\"file_1.txt\", Some \"b1\"))\n",
      "1120 / 638469730040588446 / Renamed (\"file2.txt\", (\"file_2.txt\", Some \"b2\"))\n",
      "2519141 / 638469730043107587 / Changed (\"file_1.txt\", Some \"c1\")\n",
      "665 / 638469730043108252 / Changed (\"file_1.txt\", Some \"c1\")\n",
      "5621 / 638469730043113873 / Changed (\"file_2.txt\", Some \"c2\")\n",
      "361 / 638469730043114234 / Changed (\"file_2.txt\", Some \"c2\")\n",
      "2527450 / 638469730045641684 / Deleted \"file_1.txt\"\n",
      "923 / 638469730045642607 / Deleted \"file_2.txt\"\n",
      "FSharpList<FileSystemChange>\n",
      "      - path: file1.txt\n",
      "        content: FSharpOption<String>\n",
      "          Value: a1\n",
      "        IsFailure: False\n",
      "        IsChanged: False\n",
      "        IsCreated: True\n",
      "        IsDeleted: False\n",
      "        IsRenamed: False\n",
      "      - path: file1.txt\n",
      "        content: FSharpOption<String>\n",
      "          Value: a1\n",
      "        IsFailure: False\n",
      "        IsChanged: True\n",
      "        IsCreated: False\n",
      "        IsDeleted: False\n",
      "        IsRenamed: False\n",
      "      - path: file2.txt\n",
      "        content: FSharpOption<String>\n",
      "          Value: a2\n",
      "        IsFailure: False\n",
      "        IsChanged: False\n",
      "        IsCreated: True\n",
      "        IsDeleted: False\n",
      "        IsRenamed: False\n",
      "      - path: file2.txt\n",
      "        content: FSharpOption<String>\n",
      "          Value: a2\n",
      "        IsFailure: False\n",
      "        IsChanged: True\n",
      "        IsCreated: False\n",
      "        IsDeleted: False\n",
      "        IsRenamed: False\n",
      "      - path: file1.txt\n",
      "        content: FSharpOption<String>\n",
      "          Value: b1\n",
      "        IsFailure: False\n",
      "        IsChanged: True\n",
      "        IsCreated: False\n",
      "        IsDeleted: False\n",
      "        IsRenamed: False\n",
      "      - path: file2.txt\n",
      "        content: FSharpOption<String>\n",
      "          Value: b2\n",
      "        IsFailure: False\n",
      "        IsChanged: True\n",
      "        IsCreated: False\n",
      "        IsDeleted: False\n",
      "        IsRenamed: False\n",
      "      - oldPath: file1.txt\n",
      "        Item2:         - file_1.txt\n",
      "        - FSharpOption<String>\n",
      "            Value: b1\n",
      "      - IsFailure: False\n",
      "        IsChanged: False\n",
      "        IsCreated: False\n",
      "        IsDeleted: False\n",
      "        IsRenamed: True\n",
      "      - oldPath: file2.txt\n",
      "        Item2:         - file_2.txt\n",
      "        - FSharpOption<String>\n",
      "            Value: b2\n",
      "      - IsFailure: False\n",
      "        IsChanged: False\n",
      "        IsCreated: False\n",
      "        IsDeleted: False\n",
      "        IsRenamed: True\n",
      "      - path: file_1.txt\n",
      "        content: FSharpOption<String>\n",
      "          Value: c1\n",
      "        IsFailure: False\n",
      "        IsChanged: True\n",
      "        IsCreated: False\n",
      "        IsDeleted: False\n",
      "        IsRenamed: False\n",
      "      - path: file_2.txt\n",
      "        content: FSharpOption<String>\n",
      "          Value: c2\n",
      "        IsFailure: False\n",
      "        IsChanged: True\n",
      "        IsCreated: False\n",
      "        IsDeleted: False\n",
      "        IsRenamed: False\n",
      "      - path: file_1.txt\n",
      "        IsFailure: False\n",
      "        IsChanged: False\n",
      "        IsCreated: False\n",
      "        IsDeleted: True\n",
      "        IsRenamed: False\n",
      "      - path: file_2.txt\n",
      "        IsFailure: False\n",
      "        IsChanged: False\n",
      "        IsCreated: False\n",
      "        IsDeleted: True\n",
      "        IsRenamed: False\n",
      "FSharpOption<Unit>\n",
      "      Value: <null>\n"
     ]
    }
   ],
   "source": [
    "//// test\n",
    "\n",
    "let inline write path = async {\n",
    "    let n = 2\n",
    "\n",
    "    for i = 1 to n do\n",
    "        do! $\"a{i}\" |> writeAllTextAsync (path </> $\"file{i}.txt\")\n",
    "\n",
    "    do! Async.Sleep 250\n",
    "\n",
    "    for i = 1 to n do\n",
    "        do! $\"b{i}\" |> writeAllTextAsync (path </> $\"file{i}.txt\")\n",
    "\n",
    "    do! Async.Sleep 250\n",
    "\n",
    "    for i = 1 to n do\n",
    "        do! path </> $\"file{i}.txt\" |> moveFileAsync (path </> $\"file_{i}.txt\") |> Async.Ignore\n",
    "\n",
    "    do! Async.Sleep 250\n",
    "\n",
    "    for i = 1 to n do\n",
    "        do! $\"c{i}\" |> writeAllTextAsync (path </> $\"file_{i}.txt\")\n",
    "\n",
    "    do! Async.Sleep 250\n",
    "\n",
    "    for i = 1 to n do\n",
    "        do! deleteFileAsync (path </> $\"file_{i}.txt\") |> Async.Ignore\n",
    "\n",
    "    do! Async.Sleep 250\n",
    "}\n",
    "\n",
    "let inline run () =\n",
    "    let events = testEventsRaw watchDirectory write\n",
    "\n",
    "    events\n",
    "    |> _sequenceEqual [\n",
    "        FileSystemChange.Created (\"file1.txt\", Some \"a1\")\n",
    "        FileSystemChange.Changed (\"file1.txt\", Some \"a1\")\n",
    "        FileSystemChange.Created (\"file2.txt\", Some \"a2\")\n",
    "        FileSystemChange.Changed (\"file2.txt\", Some \"a2\")\n",
    "\n",
    "        FileSystemChange.Changed (\"file1.txt\", Some \"b1\")\n",
    "        FileSystemChange.Changed (\"file2.txt\", Some \"b2\")\n",
    "\n",
    "        FileSystemChange.Renamed (\"file1.txt\", (\"file_1.txt\", Some \"b1\"))\n",
    "        FileSystemChange.Renamed (\"file2.txt\", (\"file_2.txt\", Some \"b2\"))\n",
    "\n",
    "        FileSystemChange.Changed (\"file_1.txt\", Some \"c1\")\n",
    "        FileSystemChange.Changed (\"file_2.txt\", Some \"c2\")\n",
    "\n",
    "        FileSystemChange.Deleted \"file_1.txt\"\n",
    "        FileSystemChange.Deleted \"file_2.txt\"\n",
    "    ]\n",
    "\n",
    "run\n",
    "|> retryFn 3\n",
    "|> _assertEqual (Some ())"
   ]
  },
  {
   "cell_type": "markdown",
   "metadata": {},
   "source": [
    "#### slow (test)"
   ]
  },
  {
   "cell_type": "code",
   "execution_count": null,
   "metadata": {
    "dotnet_interactive": {
     "language": "fsharp"
    },
    "polyglot_notebook": {
     "kernelName": "fsharp"
    }
   },
   "outputs": [
    {
     "name": "stdout",
     "output_type": "stream",
     "text": [
      "FSharpOption<Unit>\n",
      "      Value: <null>\n",
      "00:00:23 #49 [Debug] watchWithFilter / Disposing watch stream / filter: FileName, LastWrite\n",
      "00:00:25 #50 [Debug] testEventsRaw / eventsLog: \n",
      "0 / 638469730073506514 / Created  (\"file1.txt\",   Some     \"1111111111111111111111111111111111111\n",
      "3090 / 638469730073509604 / Changed  (\"file1.txt\",   Some     \"1111111111111111111111111111111111\n",
      "1290 / 638469730073510894 / Changed  (\"file1.txt\",   Some     \"1111111111111111111111111111111111\n",
      "58 / 638469730073510952 / Changed  (\"file1.txt\",   Some     \"111111111111111111111111111111111111\n",
      "5612 / 638469730073516564 / Changed  (\"file1.txt\",   Some     \"1111111111111111111111111111111111\n",
      "66 / 638469730073516630 / Changed  (\"file1.txt\",   Some     \"111111111111111111111111111111111111\n",
      "9675 / 638469730073526305 / Changed  (\"file1.txt\",   Some     \"1111111111111111111111111111111111\n",
      "12023 / 638469730073538328 / Created  (\"file2.txt\",   Some     \"222222222222222222222222222222222\n",
      "184 / 638469730073538512 / Changed  (\"file2.txt\",   Some     \"22222222222222222222222222222222222\n",
      "148 / 638469730073538660 / Changed  (\"file2.txt\",   Some     \"22222222222222222222222222222222222\n",
      "431 / 638469730073539091 / Changed  (\"file2.txt\",   Some     \"22222222222222222222222222222222222\n",
      "162 / 638469730073539253 / Changed  (\"file2.txt\",   Some     \"22222222222222222222222222222222222\n",
      "192 / 638469730073539445 / Changed  (\"file2.txt\",   Some     \"22222222222222222222222222222222222\n",
      "147 / 638469730073539592 / Changed  (\"file2.txt\",   Some     \"22222222222222222222222222222222222\n",
      "194 / 638469730073539786 / Changed  (\"file2.txt\",   Some     \"22222222222222222222222222222222222\n",
      "171 / 638469730073539957 / Changed  (\"file2.txt\",   Some     \"22222222222222222222222222222222222\n",
      "217 / 638469730073540174 / Changed  (\"file2.txt\",   Some     \"22222222222222222222222222222222222\n",
      "214 / 638469730073540388 / Changed  (\"file2.txt\",   Some     \"22222222222222222222222222222222222\n",
      "109 / 638469730073540497 / Changed  (\"file2.txt\",   Some     \"22222222222222222222222222222222222\n",
      "226 / 638469730073540723 / Changed  (\"file2.txt\",   Some     \"22222222222222222222222222222222222\n",
      "342 / 638469730073541065 / Changed  (\"file2.txt\",   Some     \"22222222222222222222222222222222222\n",
      "142 / 638469730073541207 / Changed  (\"file2.txt\",   Some     \"22222222222222222222222222222222222\n",
      "224 / 638469730073541431 / Changed  (\"file2.txt\",   Some     \"22222222222222222222222222222222222\n",
      "201 / 638469730073541632 / Changed  (\"file2.txt\",   Some     \"22222222222222222222222222222222222\n",
      "154 / 638469730073541786 / Changed  (\"file2.txt\",   Some     \"22222222222222222222222222222222222\n",
      "154 / 638469730073541940 / Changed  (\"file2.txt\",   Some     \"22222222222222222222222222222222222\n",
      "223 / 638469730073542163 / Changed  (\"file2.txt\",   Some     \"22222222222222222222222222222222222\n",
      "128 / 638469730073542291 / Changed  (\"file2.txt\",   Some     \"22222222222222222222222222222222222\n",
      "157 / 638469730073542448 / Changed  (\"file2.txt\",   Some     \"22222222222222222222222222222222222\n",
      "149 / 638469730073542597 / Changed  (\"file2.txt\",   Some     \"22222222222222222222222222222222222\n",
      "152 / 638469730073542749 / Changed  (\"file2.txt\",   Some     \"22222222222222222222222222222222222\n",
      "194 / 638469730073542943 / Changed  (\"file2.txt\",   Some     \"22222222222222222222222222222222222\n",
      "948 / 638469730073543891 / Changed  (\"file2.txt\",   Some     \"22222222222222222222222222222222222\n",
      "48 / 638469730073543939 / Changed  (\"file2.txt\",   Some     \"222222222222222222222222222222222222\n",
      "193 / 638469730073544132 / Changed  (\"file2.txt\",   Some     \"22222222222222222222222222222222222\n",
      "187 / 638469730073544319 / Changed  (\"file2.txt\",   Some     \"22222222222222222222222222222222222\n",
      "148 / 638469730073544467 / Changed  (\"file2.txt\",   Some     \"22222222222222222222222222222222222\n",
      "166 / 638469730073544633 / Changed  (\"file2.txt\",   Some     \"22222222222222222222222222222222222\n",
      "185 / 638469730073544818 / Changed  (\"file2.txt\",   Some     \"22222222222222222222222222222222222\n",
      "660 / 638469730073545478 / Changed  (\"file2.txt\",   Some     \"22222222222222222222222222222222222\n",
      "68 / 638469730073545546 / Changed  (\"file2.txt\",   Some     \"222222222222222222222222222222222222\n",
      "132 / 638469730073545678 / Changed  (\"file2.txt\",   Some     \"22222222222222222222222222222222222\n",
      "143 / 638469730073545821 / Changed  (\"file2.txt\",   Some     \"22222222222222222222222222222222222\n",
      "176 / 638469730073545997 / Changed  (\"file2.txt\",   Some     \"22222222222222222222222222222222222\n",
      "689 / 638469730073546686 / Changed  (\"file2.txt\",   Some     \"22222222222222222222222222222222222\n",
      "53 / 638469730073546739 / Changed  (\"file2.txt\",   Some     \"222222222222222222222222222222222222\n",
      "141 / 638469730073546880 / Changed  (\"file2.txt\",   Some     \"22222222222222222222222222222222222\n",
      "151 / 638469730073547031 / Changed  (\"file2.txt\",   Some     \"22222222222222222222222222222222222\n",
      "165 / 638469730073547196 / Changed  (\"file2.txt\",   Some     \"22222222222222222222222222222222222\n",
      "241 / 638469730073547437 / Changed  (\"file2.txt\",   Some     \"22222222222222222222222222222222222\n",
      "199 / 638469730073547636 / Changed  (\"file2.txt\",   Some     \"22222222222222222222222222222222222\n",
      "157 / 638469730073547793 / Changed  (\"file2.txt\",   Some     \"22222222222222222222222222222222222\n",
      "166 / 638469730073547959 / Changed  (\"file2.txt\",   Some     \"22222222222222222222222222222222222\n",
      "180 / 638469730073548139 / Changed  (\"file2.txt\",   Some     \"22222222222222222222222222222222222\n",
      "797 / 638469730073548936 / Changed  (\"file2.txt\",   Some     \"22222222222222222222222222222222222\n",
      "158 / 638469730073549094 / Changed  (\"file2.txt\",   Some     \"22222222222222222222222222222222222\n",
      "207 / 638469730073549301 / Changed  (\"file2.txt\",   Some     \"22222222222222222222222222222222222\n",
      "162 / 638469730073549463 / Changed  (\"file2.txt\",   Some     \"22222222222222222222222222222222222\n",
      "147 / 638469730073549610 / Changed  (\"file2.txt\",   Some     \"22222222222222222222222222222222222\n",
      "161 / 638469730073549771 / Changed  (\"file2.txt\",   Some     \"22222222222222222222222222222222222\n",
      "189 / 638469730073549960 / Changed  (\"file2.txt\",   Some     \"22222222222222222222222222222222222\n",
      "224 / 638469730073550184 / Changed  (\"file2.txt\",   Some     \"22222222222222222222222222222222222\n",
      "233 / 638469730073550417 / Changed  (\"file2.txt\",   Some     \"22222222222222222222222222222222222\n",
      "236 / 638469730073550653 / Changed  (\"file2.txt\",   Some     \"22222222222222222222222222222222222\n",
      "161 / 638469730073550814 / Changed  (\"file2.txt\",   Some     \"22222222222222222222222222222222222\n",
      "175 / 638469730073550989 / Changed  (\"file2.txt\",   Some     \"22222222222222222222222222222222222\n",
      "185 / 638469730073551174 / Changed  (\"file2.txt\",   Some     \"22222222222222222222222222222222222\n",
      "173 / 638469730073551347 / Changed  (\"file2.txt\",   Some     \"22222222222222222222222222222222222\n",
      "172 / 638469730073551519 / Changed  (\"file2.txt\",   Some     \"22222222222222222222222222222222222\n",
      "148 / 638469730073551667 / Changed  (\"file2.txt\",   Some     \"22222222222222222222222222222222222\n",
      "140 / 638469730073551807 / Changed  (\"file2.txt\",   Some     \"22222222222222222222222222222222222\n",
      "169 / 638469730073551976 / Changed  (\"file2.txt\",   Some     \"22222222222222222222222222222222222\n",
      "223 / 638469730073552199 / Changed  (\"file2.txt\",   Some     \"22222222222222222222222222222222222\n",
      "178 / 638469730073552377 / Changed  (\"file2.txt\",   Some     \"22222222222222222222222222222222222\n",
      "167 / 638469730073552544 / Changed  (\"file2.txt\",   Some     \"22222222222222222222222222222222222\n",
      "180 / 638469730073552724 / Changed  (\"file2.txt\",   Some     \"22222222222222222222222222222222222\n",
      "240 / 638469730073552964 / Changed  (\"file2.txt\",   Some     \"22222222222222222222222222222222222\n",
      "158 / 638469730073553122 / Changed  (\"file2.txt\",   Some     \"22222222222222222222222222222222222\n",
      "141 / 638469730073553263 / Changed  (\"file2.txt\",   Some     \"22222222222222222222222222222222222\n",
      "142 / 638469730073553405 / Changed  (\"file2.txt\",   Some     \"22222222222222222222222222222222222\n",
      "154 / 638469730073553559 / Changed  (\"file2.txt\",   Some     \"22222222222222222222222222222222222\n",
      "135 / 638469730073553694 / Changed  (\"file2.txt\",   Some     \"22222222222222222222222222222222222\n",
      "145 / 638469730073553839 / Changed  (\"file2.txt\",   Some     \"22222222222222222222222222222222222\n",
      "167 / 638469730073554006 / Changed  (\"file2.txt\",   Some     \"22222222222222222222222222222222222\n",
      "149 / 638469730073554155 / Changed  (\"file2.txt\",   Some     \"22222222222222222222222222222222222\n",
      "145 / 638469730073554300 / Changed  (\"file2.txt\",   Some     \"22222222222222222222222222222222222\n",
      "141 / 638469730073554441 / Changed  (\"file2.txt\",   Some     \"22222222222222222222222222222222222\n",
      "160 / 638469730073554601 / Changed  (\"file2.txt\",   Some     \"22222222222222222222222222222222222\n",
      "136 / 638469730073554737 / Changed  (\"file2.txt\",   Some     \"22222222222222222222222222222222222\n",
      "162 / 638469730073554899 / Changed  (\"file2.txt\",   Some     \"22222222222222222222222222222222222\n",
      "132 / 638469730073555031 / Changed  (\"file2.txt\",   Some     \"22222222222222222222222222222222222\n",
      "171 / 638469730073555202 / Changed  (\"file2.txt\",   Some     \"22222222222222222222222222222222222\n",
      "153 / 638469730073555355 / Changed  (\"file2.txt\",   Some     \"22222222222222222222222222222222222\n",
      "146 / 638469730073555501 / Changed  (\"file2.txt\",   Some     \"22222222222222222222222222222222222\n",
      "173 / 638469730073555674 / Changed  (\"file2.txt\",   Some     \"22222222222222222222222222222222222\n",
      "136 / 638469730073555810 / Changed  (\"file2.txt\",   Some     \"22222222222222222222222222222222222\n",
      "142 / 638469730073555952 / Changed  (\"file2.txt\",   Some     \"22222222222222222222222222222222222\n",
      "147 / 638469730073556099 / Changed  (\"file2.txt\",   Some     \"22222222222222222222222222222222222\n",
      "164 / 638469730073556263 / Changed  (\"file2.txt\",   Some     \"22222222222222222222222222222222222\n",
      "141 / 638469730073556404 / Changed  (\"file2.txt\",   Some     \"22222222222222222222222222222222222\n",
      "145 / 638469730073556549 / Changed  (\"file2.txt\",   Some     \"22222222222222222222222222222222222\n",
      "166 / 638469730073556715 / Changed  (\"file2.txt\",   Some     \"22222222222222222222222222222222222\n",
      "142 / 638469730073556857 / Changed  (\"file2.txt\",   Some     \"22222222222222222222222222222222222\n",
      "143 / 638469730073557000 / Changed  (\"file2.txt\",   Some     \"22222222222222222222222222222222222\n",
      "156 / 638469730073557156 / Changed  (\"file2.txt\",   Some     \"22222222222222222222222222222222222\n",
      "145 / 638469730073557301 / Changed  (\"file2.txt\",   Some     \"22222222222222222222222222222222222\n",
      "169 / 638469730073557470 / Changed  (\"file2.txt\",   Some     \"22222222222222222222222222222222222\n",
      "147 / 638469730073557617 / Changed  (\"file2.txt\",   Some     \"22222222222222222222222222222222222\n",
      "145 / 638469730073557762 / Changed  (\"file2.txt\",   Some     \"22222222222222222222222222222222222\n",
      "144 / 638469730073557906 / Changed  (\"file2.txt\",   Some     \"22222222222222222222222222222222222\n",
      "150 / 638469730073558056 / Changed  (\"file2.txt\",   Some     \"22222222222222222222222222222222222\n",
      "142 / 638469730073558198 / Changed  (\"file2.txt\",   Some     \"22222222222222222222222222222222222\n",
      "139 / 638469730073558337 / Changed  (\"file2.txt\",   Some     \"22222222222222222222222222222222222\n",
      "169 / 638469730073558506 / Changed  (\"file2.txt\",   Some     \"22222222222222222222222222222222222\n",
      "167 / 638469730073558673 / Changed  (\"file2.txt\",   Some     \"22222222222222222222222222222222222\n",
      "149 / 638469730073558822 / Changed  (\"file2.txt\",   Some     \"22222222222222222222222222222222222\n",
      "141 / 638469730073558963 / Changed  (\"file2.txt\",   Some     \"22222222222222222222222222222222222\n",
      "149 / 638469730073559112 / Changed  (\"file2.txt\",   Some     \"22222222222222222222222222222222222\n",
      "108 / 638469730073559220 / Changed  (\"file2.txt\",   Some     \"22222222222222222222222222222222222\n",
      "15015909 / 638469730088575129 / Changed  (\"file1.txt\",   Some     \"111111111111111111111111111111\n",
      "913 / 638469730088576042 / Changed  (\"file1.txt\",   Some     \"11111111111111111111111111111111111\n",
      "884 / 638469730088576926 / Changed  (\"file1.txt\",   Some     \"11111111111111111111111111111111111\n",
      "58 / 638469730088576984 / Changed  (\"file1.txt\",   Some     \"111111111111111111111111111111111111\n",
      "111 / 638469730088577095 / Changed  (\"file1.txt\",   Some     \"11111111111111111111111111111111111\n",
      "197 / 638469730088577292 / Changed  (\"file1.txt\",   Some     \"11111111111111111111111111111111111\n",
      "257 / 638469730088577549 / Changed  (\"file1.txt\",   Some     \"11111111111111111111111111111111111\n",
      "47 / 638469730088577596 / Changed  (\"file1.txt\",   Some     \"111111111111111111111111111111111111\n",
      "373 / 638469730088577969 / Changed  (\"file1.txt\",   Some     \"11111111111111111111111111111111111\n",
      "453 / 638469730088578422 / Changed  (\"file1.txt\",   Some     \"11111111111111111111111111111111111\n",
      "421 / 638469730088578843 / Changed  (\"file1.txt\",   Some     \"11111111111111111111111111111111111\n",
      "236 / 638469730088579079 / Changed  (\"file1.txt\",   Some     \"11111111111111111111111111111111111\n",
      "206 / 638469730088579285 / Changed  (\"file1.txt\",   Some     \"11111111111111111111111111111111111\n",
      "183 / 638469730088579468 / Changed  (\"file1.txt\",   Some     \"11111111111111111111111111111111111\n",
      "122 / 638469730088579590 / Changed  (\"file1.txt\",   Some     \"11111111111111111111111111111111111\n",
      "241 / 638469730088579831 / Changed  (\"file1.txt\",   Some     \"11111111111111111111111111111111111\n",
      "195 / 638469730088580026 / Changed  (\"file1.txt\",   Some     \"11111111111111111111111111111111111\n",
      "140 / 638469730088580166 / Changed  (\"file1.txt\",   Some     \"11111111111111111111111111111111111\n",
      "230 / 638469730088580396 / Changed  (\"file1.txt\",   Some     \"11111111111111111111111111111111111\n",
      "42 / 638469730088580438 / Changed  (\"file1.txt\",   Some     \"111111111111111111111111111111111111\n",
      "140 / 638469730088580578 / Changed  (\"file1.txt\",   Some     \"11111111111111111111111111111111111\n",
      "162 / 638469730088580740 / Changed  (\"file1.txt\",   Some     \"11111111111111111111111111111111111\n",
      "121 / 638469730088580861 / Changed  (\"file1.txt\",   Some     \"11111111111111111111111111111111111\n",
      "213 / 638469730088581074 / Changed  (\"file1.txt\",   Some     \"11111111111111111111111111111111111\n",
      "39 / 638469730088581113 / Changed  (\"file1.txt\",   Some     \"111111111111111111111111111111111111\n",
      "207 / 638469730088581320 / Changed  (\"file1.txt\",   Some     \"11111111111111111111111111111111111\n",
      "35 / 638469730088581355 / Changed  (\"file1.txt\",   Some     \"111111111111111111111111111111111111\n",
      "233 / 638469730088581588 / Changed  (\"file1.txt\",   Some     \"11111111111111111111111111111111111\n",
      "315 / 638469730088581903 / Changed  (\"file1.txt\",   Some     \"11111111111111111111111111111111111\n",
      "269 / 638469730088582172 / Changed  (\"file1.txt\",   Some     \"11111111111111111111111111111111111\n",
      "139 / 638469730088582311 / Changed  (\"file1.txt\",   Some     \"11111111111111111111111111111111111\n",
      "213 / 638469730088582524 / Changed  (\"file1.txt\",   Some     \"11111111111111111111111111111111111\n",
      "40 / 638469730088582564 / Changed  (\"file1.txt\",   Some     \"111111111111111111111111111111111111\n",
      "286 / 638469730088582850 / Changed  (\"file1.txt\",   Some     \"11111111111111111111111111111111111\n",
      "145 / 638469730088582995 / Changed  (\"file1.txt\",   Some     \"11111111111111111111111111111111111\n",
      "264 / 638469730088583259 / Changed  (\"file1.txt\",   Some     \"11111111111111111111111111111111111\n",
      "160 / 638469730088583419 / Changed  (\"file1.txt\",   Some     \"11111111111111111111111111111111111\n",
      "152 / 638469730088583571 / Changed  (\"file1.txt\",   Some     \"11111111111111111111111111111111111\n",
      "220 / 638469730088583791 / Changed  (\"file1.txt\",   Some     \"11111111111111111111111111111111111\n",
      "215 / 638469730088584006 / Changed  (\"file1.txt\",   Some     \"11111111111111111111111111111111111\n",
      "41 / 638469730088584047 / Changed  (\"file1.txt\",   Some     \"111111111111111111111111111111111111\n",
      "281 / 638469730088584328 / Changed  (\"file1.txt\",   Some     \"11111111111111111111111111111111111\n",
      "44 / 638469730088584372 / Changed  (\"file1.txt\",   Some     \"111111111111111111111111111111111111\n",
      "298 / 638469730088584670 / Changed  (\"file1.txt\",   Some     \"11111111111111111111111111111111111\n",
      "106 / 638469730088584776 / Changed  (\"file1.txt\",   Some     \"11111111111111111111111111111111111\n",
      "263 / 638469730088585039 / Changed  (\"file1.txt\",   Some     \"11111111111111111111111111111111111\n",
      "101 / 638469730088585140 / Changed  (\"file1.txt\",   Some     \"11111111111111111111111111111111111\n",
      "269 / 638469730088585409 / Changed  (\"file1.txt\",   Some     \"11111111111111111111111111111111111\n",
      "102 / 638469730088585511 / Changed  (\"file1.txt\",   Some     \"11111111111111111111111111111111111\n",
      "266 / 638469730088585777 / Changed  (\"file1.txt\",   Some     \"11111111111111111111111111111111111\n",
      "204 / 638469730088585981 / Changed  (\"file1.txt\",   Some     \"11111111111111111111111111111111111\n",
      "159 / 638469730088586140 / Changed  (\"file1.txt\",   Some     \"11111111111111111111111111111111111\n",
      "37 / 638469730088586177 / Changed  (\"file1.txt\",   Some     \"111111111111111111111111111111111111\n",
      "271 / 638469730088586448 / Changed  (\"file1.txt\",   Some     \"11111111111111111111111111111111111\n",
      "110 / 638469730088586558 / Changed  (\"file1.txt\",   Some     \"11111111111111111111111111111111111\n",
      "623 / 638469730088587181 / Changed  (\"file1.txt\",   Some     \"11111111111111111111111111111111111\n",
      "52 / 638469730088587233 / Changed  (\"file1.txt\",   Some     \"111111111111111111111111111111111111\n",
      "242 / 638469730088587475 / Changed  (\"file1.txt\",   Some     \"11111111111111111111111111111111111\n",
      "218 / 638469730088587693 / Changed  (\"file1.txt\",   Some     \"11111111111111111111111111111111111\n",
      "24 / 638469730088587717 / Changed  (\"file1.txt\",   Some     \"111111111111111111111111111111111111\n",
      "156 / 638469730088587873 / Changed  (\"file1.txt\",   Some     \"11111111111111111111111111111111111\n",
      "199 / 638469730088588072 / Changed  (\"file1.txt\",   Some     \"11111111111111111111111111111111111\n",
      "169 / 638469730088588241 / Changed  (\"file1.txt\",   Some     \"11111111111111111111111111111111111\n",
      "128 / 638469730088588369 / Changed  (\"file1.txt\",   Some     \"11111111111111111111111111111111111\n",
      "134 / 638469730088588503 / Changed  (\"file1.txt\",   Some     \"11111111111111111111111111111111111\n",
      "222 / 638469730088588725 / Changed  (\"file1.txt\",   Some     \"11111111111111111111111111111111111\n",
      "42 / 638469730088588767 / Changed  (\"file1.txt\",   Some     \"111111111111111111111111111111111111\n",
      "244 / 638469730088589011 / Changed  (\"file1.txt\",   Some     \"11111111111111111111111111111111111\n",
      "42 / 638469730088589053 / Changed  (\"file1.txt\",   Some     \"111111111111111111111111111111111111\n",
      "252 / 638469730088589305 / Changed  (\"file1.txt\",   Some     \"11111111111111111111111111111111111\n",
      "152 / 638469730088589457 / Changed  (\"file1.txt\",   Some     \"11111111111111111111111111111111111\n",
      "293 / 638469730088589750 / Changed  (\"file1.txt\",   Some     \"11111111111111111111111111111111111\n",
      "166 / 638469730088589916 / Changed  (\"file1.txt\",   Some     \"11111111111111111111111111111111111\n",
      "151 / 638469730088590067 / Changed  (\"file1.txt\",   Some     \"11111111111111111111111111111111111\n",
      "234 / 638469730088590301 / Changed  (\"file1.txt\",   Some     \"11111111111111111111111111111111111\n",
      "154 / 638469730088590455 / Changed  (\"file1.txt\",   Some     \"11111111111111111111111111111111111\n",
      "244 / 638469730088590699 / Changed  (\"file1.txt\",   Some     \"11111111111111111111111111111111111\n",
      "43 / 638469730088590742 / Changed  (\"file1.txt\",   Some     \"111111111111111111111111111111111111\n",
      "295 / 638469730088591037 / Changed  (\"file1.txt\",   Some     \"11111111111111111111111111111111111\n",
      "43 / 638469730088591080 / Changed  (\"file1.txt\",   Some     \"111111111111111111111111111111111111\n",
      "322 / 638469730088591402 / Changed  (\"file1.txt\",   Some     \"11111111111111111111111111111111111\n",
      "151 / 638469730088591553 / Changed  (\"file1.txt\",   Some     \"11111111111111111111111111111111111\n",
      "230 / 638469730088591783 / Changed  (\"file1.txt\",   Some     \"11111111111111111111111111111111111\n",
      "118 / 638469730088591901 / Changed  (\"file1.txt\",   Some     \"11111111111111111111111111111111111\n",
      "273 / 638469730088592174 / Changed  (\"file1.txt\",   Some     \"11111111111111111111111111111111111\n",
      "104 / 638469730088592278 / Changed  (\"file1.txt\",   Some     \"11111111111111111111111111111111111\n",
      "245 / 638469730088592523 / Changed  (\"file1.txt\",   Some     \"11111111111111111111111111111111111\n",
      "247 / 638469730088592770 / Changed  (\"file1.txt\",   Some     \"11111111111111111111111111111111111\n",
      "266 / 638469730088593036 / Changed  (\"file1.txt\",   Some     \"11111111111111111111111111111111111\n",
      "42 / 638469730088593078 / Changed  (\"file1.txt\",   Some     \"111111111111111111111111111111111111\n",
      "256 / 638469730088593334 / Changed  (\"file1.txt\",   Some     \"11111111111111111111111111111111111\n",
      "137 / 638469730088593471 / Changed  (\"file1.txt\",   Some     \"11111111111111111111111111111111111\n",
      "151 / 638469730088593622 / Changed  (\"file1.txt\",   Some     \"11111111111111111111111111111111111\n",
      "207 / 638469730088593829 / Changed  (\"file1.txt\",   Some     \"11111111111111111111111111111111111\n",
      "40 / 638469730088593869 / Changed  (\"file1.txt\",   Some     \"111111111111111111111111111111111111\n",
      "248 / 638469730088594117 / Changed  (\"file1.txt\",   Some     \"11111111111111111111111111111111111\n",
      "147 / 638469730088594264 / Changed  (\"file1.txt\",   Some     \"11111111111111111111111111111111111\n",
      "139 / 638469730088594403 / Changed  (\"file1.txt\",   Some     \"11111111111111111111111111111111111\n",
      "245 / 638469730088594648 / Changed  (\"file1.txt\",   Some     \"11111111111111111111111111111111111\n",
      "42 / 638469730088594690 / Changed  (\"file1.txt\",   Some     \"111111111111111111111111111111111111\n",
      "155 / 638469730088594845 / Changed  (\"file1.txt\",   Some     \"11111111111111111111111111111111111\n",
      "133 / 638469730088594978 / Changed  (\"file1.txt\",   Some     \"11111111111111111111111111111111111\n",
      "234 / 638469730088595212 / Changed  (\"file1.txt\",   Some     \"11111111111111111111111111111111111\n",
      "37 / 638469730088595249 / Changed  (\"file1.txt\",   Some     \"111111111111111111111111111111111111\n",
      "279 / 638469730088595528 / Changed  (\"file1.txt\",   Some     \"11111111111111111111111111111111111\n",
      "47 / 638469730088595575 / Changed  (\"file1.txt\",   Some     \"111111111111111111111111111111111111\n",
      "317 / 638469730088595892 / Changed  (\"file1.txt\",   Some     \"11111111111111111111111111111111111\n",
      "224 / 638469730088596116 / Changed  (\"file1.txt\",   Some     \"11111111111111111111111111111111111\n",
      "39 / 638469730088596155 / Changed  (\"file1.txt\",   Some     \"111111111111111111111111111111111111\n",
      "270 / 638469730088596425 / Changed  (\"file1.txt\",   Some     \"11111111111111111111111111111111111\n",
      "171 / 638469730088596596 / Changed  (\"file1.txt\",   Some     \"11111111111111111111111111111111111\n",
      "259 / 638469730088596855 / Changed  (\"file1.txt\",   Some     \"11111111111111111111111111111111111\n",
      "166 / 638469730088597021 / Changed  (\"file1.txt\",   Some     \"11111111111111111111111111111111111\n",
      "99 / 638469730088597120 / Changed  (\"file1.txt\",   Some     \"111111111111111111111111111111111111\n",
      "156 / 638469730088597276 / Changed  (\"file1.txt\",   Some     \"11111111111111111111111111111111111\n",
      "137 / 638469730088597413 / Changed  (\"file1.txt\",   Some     \"11111111111111111111111111111111111\n",
      "133 / 638469730088597546 / Changed  (\"file1.txt\",   Some     \"11111111111111111111111111111111111\n",
      "253 / 638469730088597799 / Changed  (\"file1.txt\",   Some     \"11111111111111111111111111111111111\n",
      "102 / 638469730088597901 / Changed  (\"file1.txt\",   Some     \"11111111111111111111111111111111111\n",
      "167 / 638469730088598068 / Changed  (\"file1.txt\",   Some     \"11111111111111111111111111111111111\n",
      "32 / 638469730088598100 / Changed  (\"file1.txt\",   Some     \"111111111111111111111111111111111111\n",
      "46337 / 638469730088644437 / Changed  (\"file2.txt\",   Some     \"222222222222222222222222222222222\n",
      "139 / 638469730088644576 / Changed  (\"file2.txt\",   Some     \"22222222222222222222222222222222222\n",
      "509 / 638469730088645085 / Changed  (\"file2.txt\",   Some     \"22222222222222222222222222222222222\n",
      "192 / 638469730088645277 / Changed  (\"file2.txt\",   Some     \"22222222222222222222222222222222222\n",
      "243 / 638469730088645520 / Changed  (\"file2.txt\",   Some     \"22222222222222222222222222222222222\n",
      "272 / 638469730088645792 / Changed  (\"file2.txt\",   Some     \"22222222222222222222222222222222222\n",
      "396 / 638469730088646188 / Changed  (\"file2.txt\",   Some     \"22222222222222222222222222222222222\n",
      "52 / 638469730088646240 / Changed  (\"file2.txt\",   Some     \"222222222222222222222222222222222222\n",
      "242 / 638469730088646482 / Changed  (\"file2.txt\",   Some     \"22222222222222222222222222222222222\n",
      "178 / 638469730088646660 / Changed  (\"file2.txt\",   Some     \"22222222222222222222222222222222222\n",
      "191 / 638469730088646851 / Changed  (\"file2.txt\",   Some     \"22222222222222222222222222222222222\n",
      "171 / 638469730088647022 / Changed  (\"file2.txt\",   Some     \"22222222222222222222222222222222222\n",
      "36 / 638469730088647058 / Changed  (\"file2.txt\",   Some     \"222222222222222222222222222222222222\n",
      "229 / 638469730088647287 / Changed  (\"file2.txt\",   Some     \"22222222222222222222222222222222222\n",
      "208 / 638469730088647495 / Changed  (\"file2.txt\",   Some     \"22222222222222222222222222222222222\n",
      "187 / 638469730088647682 / Changed  (\"file2.txt\",   Some     \"22222222222222222222222222222222222\n",
      "179 / 638469730088647861 / Changed  (\"file2.txt\",   Some     \"22222222222222222222222222222222222\n",
      "98 / 638469730088647959 / Changed  (\"file2.txt\",   Some     \"222222222222222222222222222222222222\n",
      "288 / 638469730088648247 / Changed  (\"file2.txt\",   Some     \"22222222222222222222222222222222222\n",
      "234 / 638469730088648481 / Changed  (\"file2.txt\",   Some     \"22222222222222222222222222222222222\n",
      "174 / 638469730088648655 / Changed  (\"file2.txt\",   Some     \"22222222222222222222222222222222222\n",
      "41 / 638469730088648696 / Changed  (\"file2.txt\",   Some     \"222222222222222222222222222222222222\n",
      "228 / 638469730088648924 / Changed  (\"file2.txt\",   Some     \"22222222222222222222222222222222222\n",
      "177 / 638469730088649101 / Changed  (\"file2.txt\",   Some     \"22222222222222222222222222222222222\n",
      "111 / 638469730088649212 / Changed  (\"file2.txt\",   Some     \"22222222222222222222222222222222222\n",
      "223 / 638469730088649435 / Changed  (\"file2.txt\",   Some     \"22222222222222222222222222222222222\n",
      "178 / 638469730088649613 / Changed  (\"file2.txt\",   Some     \"22222222222222222222222222222222222\n",
      "172 / 638469730088649785 / Changed  (\"file2.txt\",   Some     \"22222222222222222222222222222222222\n",
      "184 / 638469730088649969 / Changed  (\"file2.txt\",   Some     \"22222222222222222222222222222222222\n",
      "179 / 638469730088650148 / Changed  (\"file2.txt\",   Some     \"22222222222222222222222222222222222\n",
      "170 / 638469730088650318 / Changed  (\"file2.txt\",   Some     \"22222222222222222222222222222222222\n",
      "94 / 638469730088650412 / Changed  (\"file2.txt\",   Some     \"222222222222222222222222222222222222\n",
      "309 / 638469730088650721 / Changed  (\"file2.txt\",   Some     \"22222222222222222222222222222222222\n",
      "239 / 638469730088650960 / Changed  (\"file2.txt\",   Some     \"22222222222222222222222222222222222\n",
      "179 / 638469730088651139 / Changed  (\"file2.txt\",   Some     \"22222222222222222222222222222222222\n",
      "210 / 638469730088651349 / Changed  (\"file2.txt\",   Some     \"22222222222222222222222222222222222\n",
      "176 / 638469730088651525 / Changed  (\"file2.txt\",   Some     \"22222222222222222222222222222222222\n",
      "99 / 638469730088651624 / Changed  (\"file2.txt\",   Some     \"222222222222222222222222222222222222\n",
      "269 / 638469730088651893 / Changed  (\"file2.txt\",   Some     \"22222222222222222222222222222222222\n",
      "217 / 638469730088652110 / Changed  (\"file2.txt\",   Some     \"22222222222222222222222222222222222\n",
      "247 / 638469730088652357 / Changed  (\"file2.txt\",   Some     \"22222222222222222222222222222222222\n",
      "192 / 638469730088652549 / Changed  (\"file2.txt\",   Some     \"22222222222222222222222222222222222\n",
      "174 / 638469730088652723 / Changed  (\"file2.txt\",   Some     \"22222222222222222222222222222222222\n",
      "50 / 638469730088652773 / Changed  (\"file2.txt\",   Some     \"222222222222222222222222222222222222\n",
      "296 / 638469730088653069 / Changed  (\"file2.txt\",   Some     \"22222222222222222222222222222222222\n",
      "234 / 638469730088653303 / Changed  (\"file2.txt\",   Some     \"22222222222222222222222222222222222\n",
      "117 / 638469730088653420 / Changed  (\"file2.txt\",   Some     \"22222222222222222222222222222222222\n",
      "216 / 638469730088653636 / Changed  (\"file2.txt\",   Some     \"22222222222222222222222222222222222\n",
      "119 / 638469730088653755 / Changed  (\"file2.txt\",   Some     \"22222222222222222222222222222222222\n",
      "273 / 638469730088654028 / Changed  (\"file2.txt\",   Some     \"22222222222222222222222222222222222\n",
      "190 / 638469730088654218 / Changed  (\"file2.txt\",   Some     \"22222222222222222222222222222222222\n",
      "136 / 638469730088654354 / Changed  (\"file2.txt\",   Some     \"22222222222222222222222222222222222\n",
      "113 / 638469730088654467 / Changed  (\"file2.txt\",   Some     \"22222222222222222222222222222222222\n",
      "200 / 638469730088654667 / Changed  (\"file2.txt\",   Some     \"22222222222222222222222222222222222\n",
      "208 / 638469730088654875 / Changed  (\"file2.txt\",   Some     \"22222222222222222222222222222222222\n",
      "125 / 638469730088655000 / Changed  (\"file2.txt\",   Some     \"22222222222222222222222222222222222\n",
      "223 / 638469730088655223 / Changed  (\"file2.txt\",   Some     \"22222222222222222222222222222222222\n",
      "41 / 638469730088655264 / Changed  (\"file2.txt\",   Some     \"222222222222222222222222222222222222\n",
      "230 / 638469730088655494 / Changed  (\"file2.txt\",   Some     \"22222222222222222222222222222222222\n",
      "189 / 638469730088655683 / Changed  (\"file2.txt\",   Some     \"22222222222222222222222222222222222\n",
      "178 / 638469730088655861 / Changed  (\"file2.txt\",   Some     \"22222222222222222222222222222222222\n",
      "449 / 638469730088656310 / Changed  (\"file2.txt\",   Some     \"22222222222222222222222222222222222\n",
      "45 / 638469730088656355 / Changed  (\"file2.txt\",   Some     \"222222222222222222222222222222222222\n",
      "199 / 638469730088656554 / Changed  (\"file2.txt\",   Some     \"22222222222222222222222222222222222\n",
      "232 / 638469730088656786 / Changed  (\"file2.txt\",   Some     \"22222222222222222222222222222222222\n",
      "216 / 638469730088657002 / Changed  (\"file2.txt\",   Some     \"22222222222222222222222222222222222\n",
      "103 / 638469730088657105 / Changed  (\"file2.txt\",   Some     \"22222222222222222222222222222222222\n",
      "228 / 638469730088657333 / Changed  (\"file2.txt\",   Some     \"22222222222222222222222222222222222\n",
      "187 / 638469730088657520 / Changed  (\"file2.txt\",   Some     \"22222222222222222222222222222222222\n",
      "169 / 638469730088657689 / Changed  (\"file2.txt\",   Some     \"22222222222222222222222222222222222\n",
      "192 / 638469730088657881 / Changed  (\"file2.txt\",   Some     \"22222222222222222222222222222222222\n",
      "41 / 638469730088657922 / Changed  (\"file2.txt\",   Some     \"222222222222222222222222222222222222\n",
      "281 / 638469730088658203 / Changed  (\"file2.txt\",   Some     \"22222222222222222222222222222222222\n",
      "190 / 638469730088658393 / Changed  (\"file2.txt\",   Some     \"22222222222222222222222222222222222\n",
      "123 / 638469730088658516 / Changed  (\"file2.txt\",   Some     \"22222222222222222222222222222222222\n",
      "211 / 638469730088658727 / Changed  (\"file2.txt\",   Some     \"22222222222222222222222222222222222\n",
      "122 / 638469730088658849 / Changed  (\"file2.txt\",   Some     \"22222222222222222222222222222222222\n",
      "217 / 638469730088659066 / Changed  (\"file2.txt\",   Some     \"22222222222222222222222222222222222\n",
      "100 / 638469730088659166 / Changed  (\"file2.txt\",   Some     \"22222222222222222222222222222222222\n",
      "225 / 638469730088659391 / Changed  (\"file2.txt\",   Some     \"22222222222222222222222222222222222\n",
      "215 / 638469730088659606 / Changed  (\"file2.txt\",   Some     \"22222222222222222222222222222222222\n",
      "182 / 638469730088659788 / Changed  (\"file2.txt\",   Some     \"22222222222222222222222222222222222\n",
      "181 / 638469730088659969 / Changed  (\"file2.txt\",   Some     \"22222222222222222222222222222222222\n",
      "119 / 638469730088660088 / Changed  (\"file2.txt\",   Some     \"22222222222222222222222222222222222\n",
      "224 / 638469730088660312 / Changed  (\"file2.txt\",   Some     \"22222222222222222222222222222222222\n",
      "176 / 638469730088660488 / Changed  (\"file2.txt\",   Some     \"22222222222222222222222222222222222\n",
      "103 / 638469730088660591 / Changed  (\"file2.txt\",   Some     \"22222222222222222222222222222222222\n",
      "220 / 638469730088660811 / Changed  (\"file2.txt\",   Some     \"22222222222222222222222222222222222\n",
      "186 / 638469730088660997 / Changed  (\"file2.txt\",   Some     \"22222222222222222222222222222222222\n",
      "203 / 638469730088661200 / Changed  (\"file2.txt\",   Some     \"22222222222222222222222222222222222\n",
      "104 / 638469730088661304 / Changed  (\"file2.txt\",   Some     \"22222222222222222222222222222222222\n",
      "221 / 638469730088661525 / Changed  (\"file2.txt\",   Some     \"22222222222222222222222222222222222\n",
      "213 / 638469730088661738 / Changed  (\"file2.txt\",   Some     \"22222222222222222222222222222222222\n",
      "181 / 638469730088661919 / Changed  (\"file2.txt\",   Some     \"22222222222222222222222222222222222\n",
      "176 / 638469730088662095 / Changed  (\"file2.txt\",   Some     \"22222222222222222222222222222222222\n",
      "212 / 638469730088662307 / Changed  (\"file2.txt\",   Some     \"22222222222222222222222222222222222\n",
      "174 / 638469730088662481 / Changed  (\"file2.txt\",   Some     \"22222222222222222222222222222222222\n",
      "104 / 638469730088662585 / Changed  (\"file2.txt\",   Some     \"22222222222222222222222222222222222\n",
      "230 / 638469730088662815 / Changed  (\"file2.txt\",   Some     \"22222222222222222222222222222222222\n",
      "167 / 638469730088662982 / Changed  (\"file2.txt\",   Some     \"22222222222222222222222222222222222\n",
      "169 / 638469730088663151 / Changed  (\"file2.txt\",   Some     \"22222222222222222222222222222222222\n",
      "120 / 638469730088663271 / Changed  (\"file2.txt\",   Some     \"22222222222222222222222222222222222\n",
      "226 / 638469730088663497 / Changed  (\"file2.txt\",   Some     \"22222222222222222222222222222222222\n",
      "185 / 638469730088663682 / Changed  (\"file2.txt\",   Some     \"22222222222222222222222222222222222\n",
      "189 / 638469730088663871 / Changed  (\"file2.txt\",   Some     \"22222222222222222222222222222222222\n",
      "119 / 638469730088663990 / Changed  (\"file2.txt\",   Some     \"22222222222222222222222222222222222\n",
      "212 / 638469730088664202 / Changed  (\"file2.txt\",   Some     \"22222222222222222222222222222222222\n",
      "118 / 638469730088664320 / Changed  (\"file2.txt\",   Some     \"22222222222222222222222222222222222\n",
      "203 / 638469730088664523 / Changed  (\"file2.txt\",   Some     \"22222222222222222222222222222222222\n",
      "125 / 638469730088664648 / Changed  (\"file2.txt\",   Some     \"22222222222222222222222222222222222\n",
      "231 / 638469730088664879 / Changed  (\"file2.txt\",   Some     \"22222222222222222222222222222222222\n",
      "204 / 638469730088665083 / Changed  (\"file2.txt\",   Some     \"22222222222222222222222222222222222\n",
      "185 / 638469730088665268 / Changed  (\"file2.txt\",   Some     \"22222222222222222222222222222222222\n",
      "167 / 638469730088665435 / Changed  (\"file2.txt\",   Some     \"22222222222222222222222222222222222\n",
      "121 / 638469730088665556 / Changed  (\"file2.txt\",   Some     \"22222222222222222222222222222222222\n",
      "209 / 638469730088665765 / Changed  (\"file2.txt\",   Some     \"22222222222222222222222222222222222\n",
      "183 / 638469730088665948 / Changed  (\"file2.txt\",   Some     \"22222222222222222222222222222222222\n",
      "122 / 638469730088666070 / Changed  (\"file2.txt\",   Some     \"22222222222222222222222222222222222\n",
      "235 / 638469730088666305 / Changed  (\"file2.txt\",   Some     \"22222222222222222222222222222222222\n",
      "125 / 638469730088666430 / Changed  (\"file2.txt\",   Some     \"22222222222222222222222222222222222\n",
      "208 / 638469730088666638 / Changed  (\"file2.txt\",   Some     \"22222222222222222222222222222222222\n",
      "41 / 638469730088666679 / Changed  (\"file2.txt\",   Some     \"222222222222222222222222222222222222\n",
      "15023820 / 638469730103690499 / Renamed  (\"file1.txt\",   (\"file_1.txt\",    Some      \"1111111111\n",
      "264 / 638469730103690763 / Renamed  (\"file2.txt\",   (\"file_2.txt\",    Some      \"222222222222222\n",
      "15047725 / 638469730118738488 / Changed  (\"file_1.txt\",   Some     \"11111111111111111111111111111\n",
      "211 / 638469730118738699 / Changed  (\"file_1.txt\",   Some     \"1111111111111111111111111111111111\n",
      "2857 / 638469730118741556 / Changed  (\"file_1.txt\",   Some     \"111111111111111111111111111111111\n",
      "55 / 638469730118741611 / Changed  (\"file_1.txt\",   Some     \"11111111111111111111111111111111111\n",
      "563 / 638469730118742174 / Changed  (\"file_1.txt\",   Some     \"1111111111111111111111111111111111\n",
      "39 / 638469730118742213 / Changed  (\"file_1.txt\",   Some     \"11111111111111111111111111111111111\n",
      "293 / 638469730118742506 / Changed  (\"file_1.txt\",   Some     \"1111111111111111111111111111111111\n",
      "67 / 638469730118742573 / Changed  (\"file_1.txt\",   Some     \"11111111111111111111111111111111111\n",
      "136 / 638469730118742709 / Changed  (\"file_1.txt\",   Some     \"1111111111111111111111111111111111\n",
      "173 / 638469730118742882 / Changed  (\"file_1.txt\",   Some     \"1111111111111111111111111111111111\n",
      "199 / 638469730118743081 / Changed  (\"file_1.txt\",   Some     \"1111111111111111111111111111111111\n",
      "33 / 638469730118743114 / Changed  (\"file_1.txt\",   Some     \"11111111111111111111111111111111111\n",
      "293 / 638469730118743407 / Changed  (\"file_1.txt\",   Some     \"1111111111111111111111111111111111\n",
      "122 / 638469730118743529 / Changed  (\"file_1.txt\",   Some     \"1111111111111111111111111111111111\n",
      "205 / 638469730118743734 / Changed  (\"file_1.txt\",   Some     \"1111111111111111111111111111111111\n",
      "141 / 638469730118743875 / Changed  (\"file_1.txt\",   Some     \"1111111111111111111111111111111111\n",
      "136 / 638469730118744011 / Changed  (\"file_1.txt\",   Some     \"1111111111111111111111111111111111\n",
      "192 / 638469730118744203 / Changed  (\"file_1.txt\",   Some     \"1111111111111111111111111111111111\n",
      "137 / 638469730118744340 / Changed  (\"file_1.txt\",   Some     \"1111111111111111111111111111111111\n",
      "131 / 638469730118744471 / Changed  (\"file_1.txt\",   Some     \"1111111111111111111111111111111111\n",
      "235 / 638469730118744706 / Changed  (\"file_1.txt\",   Some     \"1111111111111111111111111111111111\n",
      "189 / 638469730118744895 / Changed  (\"file_1.txt\",   Some     \"1111111111111111111111111111111111\n",
      "191 / 638469730118745086 / Changed  (\"file_1.txt\",   Some     \"1111111111111111111111111111111111\n",
      "182 / 638469730118745268 / Changed  (\"file_1.txt\",   Some     \"1111111111111111111111111111111111\n",
      "87 / 638469730118745355 / Changed  (\"file_1.txt\",   Some     \"11111111111111111111111111111111111\n",
      "247 / 638469730118745602 / Changed  (\"file_1.txt\",   Some     \"1111111111111111111111111111111111\n",
      "248 / 638469730118745850 / Changed  (\"file_1.txt\",   Some     \"1111111111111111111111111111111111\n",
      "257 / 638469730118746107 / Changed  (\"file_1.txt\",   Some     \"1111111111111111111111111111111111\n",
      "142 / 638469730118746249 / Changed  (\"file_1.txt\",   Some     \"1111111111111111111111111111111111\n",
      "148 / 638469730118746397 / Changed  (\"file_1.txt\",   Some     \"1111111111111111111111111111111111\n",
      "89 / 638469730118746486 / Changed  (\"file_1.txt\",   Some     \"11111111111111111111111111111111111\n",
      "229 / 638469730118746715 / Changed  (\"file_1.txt\",   Some     \"1111111111111111111111111111111111\n",
      "176 / 638469730118746891 / Changed  (\"file_1.txt\",   Some     \"1111111111111111111111111111111111\n",
      "179 / 638469730118747070 / Changed  (\"file_1.txt\",   Some     \"1111111111111111111111111111111111\n",
      "32 / 638469730118747102 / Changed  (\"file_1.txt\",   Some     \"11111111111111111111111111111111111\n",
      "287 / 638469730118747389 / Changed  (\"file_1.txt\",   Some     \"1111111111111111111111111111111111\n",
      "435 / 638469730118747824 / Changed  (\"file_1.txt\",   Some     \"1111111111111111111111111111111111\n",
      "40 / 638469730118747864 / Changed  (\"file_1.txt\",   Some     \"11111111111111111111111111111111111\n",
      "236 / 638469730118748100 / Changed  (\"file_1.txt\",   Some     \"1111111111111111111111111111111111\n",
      "96 / 638469730118748196 / Changed  (\"file_1.txt\",   Some     \"11111111111111111111111111111111111\n",
      "232 / 638469730118748428 / Changed  (\"file_1.txt\",   Some     \"1111111111111111111111111111111111\n",
      "142 / 638469730118748570 / Changed  (\"file_1.txt\",   Some     \"1111111111111111111111111111111111\n",
      "134 / 638469730118748704 / Changed  (\"file_1.txt\",   Some     \"1111111111111111111111111111111111\n",
      "176 / 638469730118748880 / Changed  (\"file_1.txt\",   Some     \"1111111111111111111111111111111111\n",
      "200 / 638469730118749080 / Changed  (\"file_1.txt\",   Some     \"1111111111111111111111111111111111\n",
      "185 / 638469730118749265 / Changed  (\"file_1.txt\",   Some     \"1111111111111111111111111111111111\n",
      "33 / 638469730118749298 / Changed  (\"file_1.txt\",   Some     \"11111111111111111111111111111111111\n",
      "224 / 638469730118749522 / Changed  (\"file_1.txt\",   Some     \"1111111111111111111111111111111111\n",
      "126 / 638469730118749648 / Changed  (\"file_1.txt\",   Some     \"1111111111111111111111111111111111\n",
      "209 / 638469730118749857 / Changed  (\"file_1.txt\",   Some     \"1111111111111111111111111111111111\n",
      "186 / 638469730118750043 / Changed  (\"file_1.txt\",   Some     \"1111111111111111111111111111111111\n",
      "32 / 638469730118750075 / Changed  (\"file_1.txt\",   Some     \"11111111111111111111111111111111111\n",
      "225 / 638469730118750300 / Changed  (\"file_1.txt\",   Some     \"1111111111111111111111111111111111\n",
      "128 / 638469730118750428 / Changed  (\"file_1.txt\",   Some     \"1111111111111111111111111111111111\n",
      "129 / 638469730118750557 / Changed  (\"file_1.txt\",   Some     \"1111111111111111111111111111111111\n",
      "131 / 638469730118750688 / Changed  (\"file_1.txt\",   Some     \"1111111111111111111111111111111111\n",
      "134 / 638469730118750822 / Changed  (\"file_1.txt\",   Some     \"1111111111111111111111111111111111\n",
      "217 / 638469730118751039 / Changed  (\"file_1.txt\",   Some     \"1111111111111111111111111111111111\n",
      "123 / 638469730118751162 / Changed  (\"file_1.txt\",   Some     \"1111111111111111111111111111111111\n",
      "129 / 638469730118751291 / Changed  (\"file_1.txt\",   Some     \"1111111111111111111111111111111111\n",
      "132 / 638469730118751423 / Changed  (\"file_1.txt\",   Some     \"1111111111111111111111111111111111\n",
      "125 / 638469730118751548 / Changed  (\"file_1.txt\",   Some     \"1111111111111111111111111111111111\n",
      "181 / 638469730118751729 / Changed  (\"file_1.txt\",   Some     \"1111111111111111111111111111111111\n",
      "120 / 638469730118751849 / Changed  (\"file_1.txt\",   Some     \"1111111111111111111111111111111111\n",
      "190 / 638469730118752039 / Changed  (\"file_1.txt\",   Some     \"1111111111111111111111111111111111\n",
      "154 / 638469730118752193 / Changed  (\"file_1.txt\",   Some     \"1111111111111111111111111111111111\n",
      "124 / 638469730118752317 / Changed  (\"file_1.txt\",   Some     \"1111111111111111111111111111111111\n",
      "198 / 638469730118752515 / Changed  (\"file_1.txt\",   Some     \"1111111111111111111111111111111111\n",
      "132 / 638469730118752647 / Changed  (\"file_1.txt\",   Some     \"1111111111111111111111111111111111\n",
      "133 / 638469730118752780 / Changed  (\"file_1.txt\",   Some     \"1111111111111111111111111111111111\n",
      "183 / 638469730118752963 / Changed  (\"file_1.txt\",   Some     \"1111111111111111111111111111111111\n",
      "27 / 638469730118752990 / Changed  (\"file_1.txt\",   Some     \"11111111111111111111111111111111111\n",
      "295 / 638469730118753285 / Changed  (\"file_1.txt\",   Some     \"1111111111111111111111111111111111\n",
      "141 / 638469730118753426 / Changed  (\"file_1.txt\",   Some     \"1111111111111111111111111111111111\n",
      "180 / 638469730118753606 / Changed  (\"file_1.txt\",   Some     \"1111111111111111111111111111111111\n",
      "30 / 638469730118753636 / Changed  (\"file_1.txt\",   Some     \"11111111111111111111111111111111111\n",
      "248 / 638469730118753884 / Changed  (\"file_1.txt\",   Some     \"1111111111111111111111111111111111\n",
      "141 / 638469730118754025 / Changed  (\"file_1.txt\",   Some     \"1111111111111111111111111111111111\n",
      "189 / 638469730118754214 / Changed  (\"file_1.txt\",   Some     \"1111111111111111111111111111111111\n",
      "33 / 638469730118754247 / Changed  (\"file_1.txt\",   Some     \"11111111111111111111111111111111111\n",
      "244 / 638469730118754491 / Changed  (\"file_1.txt\",   Some     \"1111111111111111111111111111111111\n",
      "123 / 638469730118754614 / Changed  (\"file_1.txt\",   Some     \"1111111111111111111111111111111111\n",
      "129 / 638469730118754743 / Changed  (\"file_1.txt\",   Some     \"1111111111111111111111111111111111\n",
      "129 / 638469730118754872 / Changed  (\"file_1.txt\",   Some     \"1111111111111111111111111111111111\n",
      "136 / 638469730118755008 / Changed  (\"file_1.txt\",   Some     \"1111111111111111111111111111111111\n",
      "117 / 638469730118755125 / Changed  (\"file_1.txt\",   Some     \"1111111111111111111111111111111111\n",
      "211 / 638469730118755336 / Changed  (\"file_1.txt\",   Some     \"1111111111111111111111111111111111\n",
      "135 / 638469730118755471 / Changed  (\"file_1.txt\",   Some     \"1111111111111111111111111111111111\n",
      "142 / 638469730118755613 / Changed  (\"file_1.txt\",   Some     \"1111111111111111111111111111111111\n",
      "136 / 638469730118755749 / Changed  (\"file_1.txt\",   Some     \"1111111111111111111111111111111111\n",
      "302 / 638469730118756051 / Changed  (\"file_1.txt\",   Some     \"1111111111111111111111111111111111\n",
      "168 / 638469730118756219 / Changed  (\"file_1.txt\",   Some     \"1111111111111111111111111111111111\n",
      "136 / 638469730118756355 / Changed  (\"file_1.txt\",   Some     \"1111111111111111111111111111111111\n",
      "195 / 638469730118756550 / Changed  (\"file_1.txt\",   Some     \"1111111111111111111111111111111111\n",
      "142 / 638469730118756692 / Changed  (\"file_1.txt\",   Some     \"1111111111111111111111111111111111\n",
      "195 / 638469730118756887 / Changed  (\"file_1.txt\",   Some     \"1111111111111111111111111111111111\n",
      "142 / 638469730118757029 / Changed  (\"file_1.txt\",   Some     \"1111111111111111111111111111111111\n",
      "133 / 638469730118757162 / Changed  (\"file_1.txt\",   Some     \"1111111111111111111111111111111111\n",
      "243 / 638469730118757405 / Changed  (\"file_1.txt\",   Some     \"1111111111111111111111111111111111\n",
      "236 / 638469730118757641 / Changed  (\"file_1.txt\",   Some     \"1111111111111111111111111111111111\n",
      "147 / 638469730118757788 / Changed  (\"file_1.txt\",   Some     \"1111111111111111111111111111111111\n",
      "135 / 638469730118757923 / Changed  (\"file_1.txt\",   Some     \"1111111111111111111111111111111111\n",
      "25 / 638469730118757948 / Changed  (\"file_1.txt\",   Some     \"11111111111111111111111111111111111\n",
      "30462 / 638469730118788410 / Changed  (\"file_2.txt\",   Some     \"22222222222222222222222222222222\n",
      "197 / 638469730118788607 / Changed  (\"file_2.txt\",   Some     \"2222222222222222222222222222222222\n",
      "489 / 638469730118789096 / Changed  (\"file_2.txt\",   Some     \"2222222222222222222222222222222222\n",
      "60 / 638469730118789156 / Changed  (\"file_2.txt\",   Some     \"22222222222222222222222222222222222\n",
      "182 / 638469730118789338 / Changed  (\"file_2.txt\",   Some     \"2222222222222222222222222222222222\n",
      "143 / 638469730118789481 / Changed  (\"file_2.txt\",   Some     \"2222222222222222222222222222222222\n",
      "165 / 638469730118789646 / Changed  (\"file_2.txt\",   Some     \"2222222222222222222222222222222222\n",
      "175 / 638469730118789821 / Changed  (\"file_2.txt\",   Some     \"2222222222222222222222222222222222\n",
      "172 / 638469730118789993 / Changed  (\"file_2.txt\",   Some     \"2222222222222222222222222222222222\n",
      "183 / 638469730118790176 / Changed  (\"file_2.txt\",   Some     \"2222222222222222222222222222222222\n",
      "137 / 638469730118790313 / Changed  (\"file_2.txt\",   Some     \"2222222222222222222222222222222222\n",
      "170 / 638469730118790483 / Changed  (\"file_2.txt\",   Some     \"2222222222222222222222222222222222\n",
      "189 / 638469730118790672 / Changed  (\"file_2.txt\",   Some     \"2222222222222222222222222222222222\n",
      "151 / 638469730118790823 / Changed  (\"file_2.txt\",   Some     \"2222222222222222222222222222222222\n",
      "107 / 638469730118790930 / Changed  (\"file_2.txt\",   Some     \"2222222222222222222222222222222222\n",
      "175 / 638469730118791105 / Changed  (\"file_2.txt\",   Some     \"2222222222222222222222222222222222\n",
      "201 / 638469730118791306 / Changed  (\"file_2.txt\",   Some     \"2222222222222222222222222222222222\n",
      "168 / 638469730118791474 / Changed  (\"file_2.txt\",   Some     \"2222222222222222222222222222222222\n",
      "139 / 638469730118791613 / Changed  (\"file_2.txt\",   Some     \"2222222222222222222222222222222222\n",
      "193 / 638469730118791806 / Changed  (\"file_2.txt\",   Some     \"2222222222222222222222222222222222\n",
      "123 / 638469730118791929 / Changed  (\"file_2.txt\",   Some     \"2222222222222222222222222222222222\n",
      "174 / 638469730118792103 / Changed  (\"file_2.txt\",   Some     \"2222222222222222222222222222222222\n",
      "94 / 638469730118792197 / Changed  (\"file_2.txt\",   Some     \"22222222222222222222222222222222222\n",
      "183 / 638469730118792380 / Changed  (\"file_2.txt\",   Some     \"2222222222222222222222222222222222\n",
      "191 / 638469730118792571 / Changed  (\"file_2.txt\",   Some     \"2222222222222222222222222222222222\n",
      "171 / 638469730118792742 / Changed  (\"file_2.txt\",   Some     \"2222222222222222222222222222222222\n",
      "149 / 638469730118792891 / Changed  (\"file_2.txt\",   Some     \"2222222222222222222222222222222222\n",
      "190 / 638469730118793081 / Changed  (\"file_2.txt\",   Some     \"2222222222222222222222222222222222\n",
      "230 / 638469730118793311 / Changed  (\"file_2.txt\",   Some     \"2222222222222222222222222222222222\n",
      "206 / 638469730118793517 / Changed  (\"file_2.txt\",   Some     \"2222222222222222222222222222222222\n",
      "179 / 638469730118793696 / Changed  (\"file_2.txt\",   Some     \"2222222222222222222222222222222222\n",
      "178 / 638469730118793874 / Changed  (\"file_2.txt\",   Some     \"2222222222222222222222222222222222\n",
      "142 / 638469730118794016 / Changed  (\"file_2.txt\",   Some     \"2222222222222222222222222222222222\n",
      "189 / 638469730118794205 / Changed  (\"file_2.txt\",   Some     \"2222222222222222222222222222222222\n",
      "205 / 638469730118794410 / Changed  (\"file_2.txt\",   Some     \"2222222222222222222222222222222222\n",
      "183 / 638469730118794593 / Changed  (\"file_2.txt\",   Some     \"2222222222222222222222222222222222\n",
      "181 / 638469730118794774 / Changed  (\"file_2.txt\",   Some     \"2222222222222222222222222222222222\n",
      "184 / 638469730118794958 / Changed  (\"file_2.txt\",   Some     \"2222222222222222222222222222222222\n",
      "233 / 638469730118795191 / Changed  (\"file_2.txt\",   Some     \"2222222222222222222222222222222222\n",
      "190 / 638469730118795381 / Changed  (\"file_2.txt\",   Some     \"2222222222222222222222222222222222\n",
      "194 / 638469730118795575 / Changed  (\"file_2.txt\",   Some     \"2222222222222222222222222222222222\n",
      "168 / 638469730118795743 / Changed  (\"file_2.txt\",   Some     \"2222222222222222222222222222222222\n",
      "191 / 638469730118795934 / Changed  (\"file_2.txt\",   Some     \"2222222222222222222222222222222222\n",
      "177 / 638469730118796111 / Changed  (\"file_2.txt\",   Some     \"2222222222222222222222222222222222\n",
      "93 / 638469730118796204 / Changed  (\"file_2.txt\",   Some     \"22222222222222222222222222222222222\n",
      "191 / 638469730118796395 / Changed  (\"file_2.txt\",   Some     \"2222222222222222222222222222222222\n",
      "175 / 638469730118796570 / Changed  (\"file_2.txt\",   Some     \"2222222222222222222222222222222222\n",
      "174 / 638469730118796744 / Changed  (\"file_2.txt\",   Some     \"2222222222222222222222222222222222\n",
      "261 / 638469730118797005 / Changed  (\"file_2.txt\",   Some     \"2222222222222222222222222222222222\n",
      "170 / 638469730118797175 / Changed  (\"file_2.txt\",   Some     \"2222222222222222222222222222222222\n",
      "290 / 638469730118797465 / Changed  (\"file_2.txt\",   Some     \"2222222222222222222222222222222222\n",
      "36 / 638469730118797501 / Changed  (\"file_2.txt\",   Some     \"22222222222222222222222222222222222\n",
      "167 / 638469730118797668 / Changed  (\"file_2.txt\",   Some     \"2222222222222222222222222222222222\n",
      "176 / 638469730118797844 / Changed  (\"file_2.txt\",   Some     \"2222222222222222222222222222222222\n",
      "193 / 638469730118798037 / Changed  (\"file_2.txt\",   Some     \"2222222222222222222222222222222222\n",
      "177 / 638469730118798214 / Changed  (\"file_2.txt\",   Some     \"2222222222222222222222222222222222\n",
      "140 / 638469730118798354 / Changed  (\"file_2.txt\",   Some     \"2222222222222222222222222222222222\n",
      "153 / 638469730118798507 / Changed  (\"file_2.txt\",   Some     \"2222222222222222222222222222222222\n",
      "170 / 638469730118798677 / Changed  (\"file_2.txt\",   Some     \"2222222222222222222222222222222222\n",
      "170 / 638469730118798847 / Changed  (\"file_2.txt\",   Some     \"2222222222222222222222222222222222\n",
      "141 / 638469730118798988 / Changed  (\"file_2.txt\",   Some     \"2222222222222222222222222222222222\n",
      "152 / 638469730118799140 / Changed  (\"file_2.txt\",   Some     \"2222222222222222222222222222222222\n",
      "169 / 638469730118799309 / Changed  (\"file_2.txt\",   Some     \"2222222222222222222222222222222222\n",
      "214 / 638469730118799523 / Changed  (\"file_2.txt\",   Some     \"2222222222222222222222222222222222\n",
      "95 / 638469730118799618 / Changed  (\"file_2.txt\",   Some     \"22222222222222222222222222222222222\n",
      "183 / 638469730118799801 / Changed  (\"file_2.txt\",   Some     \"2222222222222222222222222222222222\n",
      "187 / 638469730118799988 / Changed  (\"file_2.txt\",   Some     \"2222222222222222222222222222222222\n",
      "166 / 638469730118800154 / Changed  (\"file_2.txt\",   Some     \"2222222222222222222222222222222222\n",
      "144 / 638469730118800298 / Changed  (\"file_2.txt\",   Some     \"2222222222222222222222222222222222\n",
      "160 / 638469730118800458 / Changed  (\"file_2.txt\",   Some     \"2222222222222222222222222222222222\n",
      "186 / 638469730118800644 / Changed  (\"file_2.txt\",   Some     \"2222222222222222222222222222222222\n",
      "184 / 638469730118800828 / Changed  (\"file_2.txt\",   Some     \"2222222222222222222222222222222222\n",
      "95 / 638469730118800923 / Changed  (\"file_2.txt\",   Some     \"22222222222222222222222222222222222\n",
      "204 / 638469730118801127 / Changed  (\"file_2.txt\",   Some     \"2222222222222222222222222222222222\n",
      "177 / 638469730118801304 / Changed  (\"file_2.txt\",   Some     \"2222222222222222222222222222222222\n",
      "179 / 638469730118801483 / Changed  (\"file_2.txt\",   Some     \"2222222222222222222222222222222222\n",
      "146 / 638469730118801629 / Changed  (\"file_2.txt\",   Some     \"2222222222222222222222222222222222\n",
      "164 / 638469730118801793 / Changed  (\"file_2.txt\",   Some     \"2222222222222222222222222222222222\n",
      "179 / 638469730118801972 / Changed  (\"file_2.txt\",   Some     \"2222222222222222222222222222222222\n",
      "187 / 638469730118802159 / Changed  (\"file_2.txt\",   Some     \"2222222222222222222222222222222222\n",
      "143 / 638469730118802302 / Changed  (\"file_2.txt\",   Some     \"2222222222222222222222222222222222\n",
      "137 / 638469730118802439 / Changed  (\"file_2.txt\",   Some     \"2222222222222222222222222222222222\n",
      "163 / 638469730118802602 / Changed  (\"file_2.txt\",   Some     \"2222222222222222222222222222222222\n",
      "176 / 638469730118802778 / Changed  (\"file_2.txt\",   Some     \"2222222222222222222222222222222222\n",
      "149 / 638469730118802927 / Changed  (\"file_2.txt\",   Some     \"2222222222222222222222222222222222\n",
      "176 / 638469730118803103 / Changed  (\"file_2.txt\",   Some     \"2222222222222222222222222222222222\n",
      "165 / 638469730118803268 / Changed  (\"file_2.txt\",   Some     \"2222222222222222222222222222222222\n",
      "176 / 638469730118803444 / Changed  (\"file_2.txt\",   Some     \"2222222222222222222222222222222222\n",
      "142 / 638469730118803586 / Changed  (\"file_2.txt\",   Some     \"2222222222222222222222222222222222\n",
      "163 / 638469730118803749 / Changed  (\"file_2.txt\",   Some     \"2222222222222222222222222222222222\n",
      "165 / 638469730118803914 / Changed  (\"file_2.txt\",   Some     \"2222222222222222222222222222222222\n",
      "243 / 638469730118804157 / Changed  (\"file_2.txt\",   Some     \"2222222222222222222222222222222222\n",
      "214 / 638469730118804371 / Changed  (\"file_2.txt\",   Some     \"2222222222222222222222222222222222\n",
      "180 / 638469730118804551 / Changed  (\"file_2.txt\",   Some     \"2222222222222222222222222222222222\n",
      "166 / 638469730118804717 / Changed  (\"file_2.txt\",   Some     \"2222222222222222222222222222222222\n",
      "213 / 638469730118804930 / Changed  (\"file_2.txt\",   Some     \"2222222222222222222222222222222222\n",
      "194 / 638469730118805124 / Changed  (\"file_2.txt\",   Some     \"2222222222222222222222222222222222\n",
      "179 / 638469730118805303 / Changed  (\"file_2.txt\",   Some     \"2222222222222222222222222222222222\n",
      "137 / 638469730118805440 / Changed  (\"file_2.txt\",   Some     \"2222222222222222222222222222222222\n",
      "170 / 638469730118805610 / Changed  (\"file_2.txt\",   Some     \"2222222222222222222222222222222222\n",
      "181 / 638469730118805791 / Changed  (\"file_2.txt\",   Some     \"2222222222222222222222222222222222\n",
      "506 / 638469730118806297 / Changed  (\"file_2.txt\",   Some     \"2222222222222222222222222222222222\n",
      "46 / 638469730118806343 / Changed  (\"file_2.txt\",   Some     \"22222222222222222222222222222222222\n",
      "248 / 638469730118806591 / Changed  (\"file_2.txt\",   Some     \"2222222222222222222222222222222222\n",
      "180 / 638469730118806771 / Changed  (\"file_2.txt\",   Some     \"2222222222222222222222222222222222\n",
      "117 / 638469730118806888 / Changed  (\"file_2.txt\",   Some     \"2222222222222222222222222222222222\n",
      "160 / 638469730118807048 / Changed  (\"file_2.txt\",   Some     \"2222222222222222222222222222222222\n",
      "161 / 638469730118807209 / Changed  (\"file_2.txt\",   Some     \"2222222222222222222222222222222222\n",
      "176 / 638469730118807385 / Changed  (\"file_2.txt\",   Some     \"2222222222222222222222222222222222\n",
      "152 / 638469730118807537 / Changed  (\"file_2.txt\",   Some     \"2222222222222222222222222222222222\n",
      "98 / 638469730118807635 / Changed  (\"file_2.txt\",   Some     \"22222222222222222222222222222222222\n",
      "212 / 638469730118807847 / Changed  (\"file_2.txt\",   Some     \"2222222222222222222222222222222222\n",
      "166 / 638469730118808013 / Changed  (\"file_2.txt\",   Some     \"2222222222222222222222222222222222\n",
      "437 / 638469730118808450 / Changed  (\"file_2.txt\",   Some     \"2222222222222222222222222222222222\n",
      "160 / 638469730118808610 / Changed  (\"file_2.txt\",   Some     \"2222222222222222222222222222222222\n",
      "367 / 638469730118808977 / Changed  (\"file_2.txt\",   Some     \"2222222222222222222222222222222222\n",
      "144 / 638469730118809121 / Changed  (\"file_2.txt\",   Some     \"2222222222222222222222222222222222\n",
      "191 / 638469730118809312 / Changed  (\"file_2.txt\",   Some     \"2222222222222222222222222222222222\n",
      "206 / 638469730118809518 / Changed  (\"file_2.txt\",   Some     \"2222222222222222222222222222222222\n",
      "103 / 638469730118809621 / Changed  (\"file_2.txt\",   Some     \"2222222222222222222222222222222222\n",
      "153 / 638469730118809774 / Changed  (\"file_2.txt\",   Some     \"2222222222222222222222222222222222\n",
      "15057977 / 638469730133867751 / Deleted \"file_1.txt\"\n",
      "3747 / 638469730133871498 / Deleted \"file_2.txt\"\n",
      "FSharpList<FileSystemChange>\n",
      "      - path: file1.txt\n",
      "        content: FSharpOption<String>\n",
      "          Value: 1a\n",
      "        IsFailure: False\n",
      "        IsChanged: False\n",
      "        IsCreated: True\n",
      "        IsDeleted: False\n",
      "        IsRenamed: False\n",
      "      - path: file1.txt\n",
      "        content: FSharpOption<String>\n",
      "          Value: 1a\n",
      "        IsFailure: False\n",
      "        IsChanged: True\n",
      "        IsCreated: False\n",
      "        IsDeleted: False\n",
      "        IsRenamed: False\n",
      "      - path: file2.txt\n",
      "        content: FSharpOption<String>\n",
      "          Value: 2a\n",
      "        IsFailure: False\n",
      "        IsChanged: False\n",
      "        IsCreated: True\n",
      "        IsDeleted: False\n",
      "        IsRenamed: False\n",
      "      - path: file2.txt\n",
      "        content: FSharpOption<String>\n",
      "          Value: 2a\n",
      "        IsFailure: False\n",
      "        IsChanged: True\n",
      "        IsCreated: False\n",
      "        IsDeleted: False\n",
      "        IsRenamed: False\n",
      "      - path: file1.txt\n",
      "        content: FSharpOption<String>\n",
      "          Value: 1b\n",
      "        IsFailure: False\n",
      "        IsChanged: True\n",
      "        IsCreated: False\n",
      "        IsDeleted: False\n",
      "        IsRenamed: False\n",
      "      - path: file2.txt\n",
      "        content: FSharpOption<String>\n",
      "          Value: 2b\n",
      "        IsFailure: False\n",
      "        IsChanged: True\n",
      "        IsCreated: False\n",
      "        IsDeleted: False\n",
      "        IsRenamed: False\n",
      "      - oldPath: file1.txt\n",
      "        Item2:         - file_1.txt\n",
      "        - FSharpOption<String>\n",
      "            Value: 1b\n",
      "      - IsFailure: False\n",
      "        IsChanged: False\n",
      "        IsCreated: False\n",
      "        IsDeleted: False\n",
      "        IsRenamed: True\n",
      "      - oldPath: file2.txt\n",
      "        Item2:         - file_2.txt\n",
      "        - FSharpOption<String>\n",
      "            Value: 2b\n",
      "      - IsFailure: False\n",
      "        IsChanged: False\n",
      "        IsCreated: False\n",
      "        IsDeleted: False\n",
      "        IsRenamed: True\n",
      "      - path: file_1.txt\n",
      "        content: FSharpOption<String>\n",
      "          Value: 1c\n",
      "        IsFailure: False\n",
      "        IsChanged: True\n",
      "        IsCreated: False\n",
      "        IsDeleted: False\n",
      "        IsRenamed: False\n",
      "      - path: file_2.txt\n",
      "        content: FSharpOption<String>\n",
      "          Value: 2c\n",
      "        IsFailure: False\n",
      "        IsChanged: True\n",
      "        IsCreated: False\n",
      "        IsDeleted: False\n",
      "        IsRenamed: False\n",
      "      - path: file_1.txt\n",
      "        IsFailure: False\n",
      "        IsChanged: False\n",
      "        IsCreated: False\n",
      "        IsDeleted: True\n",
      "        IsRenamed: False\n",
      "      - path: file_2.txt\n",
      "        IsFailure: False\n",
      "        IsChanged: False\n",
      "        IsCreated: False\n",
      "        IsDeleted: True\n",
      "        IsRenamed: False\n",
      "FSharpOption<Unit>\n",
      "      Value: <null>\n"
     ]
    }
   ],
   "source": [
    "//// test\n",
    "\n",
    "let inline write path = async {\n",
    "    let n = 2\n",
    "\n",
    "    let contents =\n",
    "        [ 1 .. n ]\n",
    "        |> List.map (string >> String.replicate 1_000_000)\n",
    "\n",
    "    for i = 1 to n do\n",
    "        do! $\"{contents.[i - 1]}a\" |> writeAllTextAsync (path </> $\"file{i}.txt\")\n",
    "\n",
    "    do! Async.Sleep 1500\n",
    "\n",
    "    for i = 1 to n do\n",
    "        do! $\"{contents.[i - 1]}b\" |> writeAllTextAsync (path </> $\"file{i}.txt\")\n",
    "\n",
    "    do! Async.Sleep 1500\n",
    "\n",
    "    for i = 1 to n do\n",
    "        do! path </> $\"file{i}.txt\" |> moveFileAsync (path </> $\"file_{i}.txt\") |> Async.Ignore\n",
    "\n",
    "    do! Async.Sleep 1500\n",
    "\n",
    "    for i = 1 to n do\n",
    "        do! $\"{contents.[i - 1]}c\" |> writeAllTextAsync (path </> $\"file_{i}.txt\")\n",
    "\n",
    "    do! Async.Sleep 1500\n",
    "\n",
    "    for i = 1 to n do\n",
    "        do! deleteFileAsync (path </> $\"file_{i}.txt\") |> Async.Ignore\n",
    "\n",
    "    do! Async.Sleep 1500\n",
    "}\n",
    "\n",
    "let inline run () =\n",
    "    let events =\n",
    "        testEventsRaw watchDirectory write\n",
    "        |> List.map (function\n",
    "            | FileSystemChange.Changed (path, Some content) ->\n",
    "                FileSystemChange.Changed (path, content |> Seq.distinct |> Seq.map string |> String.concat \"\" |> Some)\n",
    "            | FileSystemChange.Created (path, Some content) ->\n",
    "                FileSystemChange.Created (path, content |> Seq.distinct |> Seq.map string |> String.concat \"\" |> Some)\n",
    "            | FileSystemChange.Renamed (oldPath, (newPath, Some content)) ->\n",
    "                FileSystemChange.Renamed (\n",
    "                    oldPath,\n",
    "                    (newPath, content |> Seq.distinct |> Seq.map string |> String.concat \"\" |> Some)\n",
    "                )\n",
    "            | event -> event\n",
    "        )\n",
    "\n",
    "    events\n",
    "    |> _sequenceEqual [\n",
    "        FileSystemChange.Created (\"file1.txt\", Some \"1a\")\n",
    "        FileSystemChange.Changed (\"file1.txt\", Some \"1a\")\n",
    "        FileSystemChange.Created (\"file2.txt\", Some \"2a\")\n",
    "        FileSystemChange.Changed (\"file2.txt\", Some \"2a\")\n",
    "\n",
    "        FileSystemChange.Changed (\"file1.txt\", Some \"1b\")\n",
    "        FileSystemChange.Changed (\"file2.txt\", Some \"2b\")\n",
    "\n",
    "        FileSystemChange.Renamed (\"file1.txt\", (\"file_1.txt\", Some \"1b\"))\n",
    "        FileSystemChange.Renamed (\"file2.txt\", (\"file_2.txt\", Some \"2b\"))\n",
    "\n",
    "        FileSystemChange.Changed (\"file_1.txt\", Some \"1c\")\n",
    "        FileSystemChange.Changed (\"file_2.txt\", Some \"2c\")\n",
    "\n",
    "        FileSystemChange.Deleted \"file_1.txt\"\n",
    "        FileSystemChange.Deleted \"file_2.txt\"\n",
    "    ]\n",
    "\n",
    "run\n",
    "|> retryFn 5\n",
    "|> _assertEqual (Some ())"
   ]
  },
  {
   "cell_type": "markdown",
   "metadata": {},
   "source": [
    "### testEventsSorted (test)"
   ]
  },
  {
   "cell_type": "code",
   "execution_count": null,
   "metadata": {
    "dotnet_interactive": {
     "language": "fsharp"
    },
    "polyglot_notebook": {
     "kernelName": "fsharp"
    }
   },
   "outputs": [],
   "source": [
    "//// test\n",
    "\n",
    "let inline sortEvent event =\n",
    "    match event with\n",
    "    | FileSystemChange.Failure _ -> 0\n",
    "    | FileSystemChange.Created _ -> 1\n",
    "    | FileSystemChange.Changed _ -> 2\n",
    "    | FileSystemChange.Renamed (_oldPath, _) -> 3\n",
    "    | FileSystemChange.Deleted _ -> 4\n",
    "\n",
    "let inline formatEvents events =\n",
    "    events\n",
    "    |> Seq.toList\n",
    "    |> List.sortBy (snd >> sortEvent)\n",
    "    |> List.choose (fun (ticks, event) ->\n",
    "        match event with\n",
    "        | FileSystemChange.Failure _ ->\n",
    "            None\n",
    "        | FileSystemChange.Changed (path, _) ->\n",
    "            Some (ticks, System.IO.Path.GetFileName path, nameof FileSystemChangeType.Changed)\n",
    "        | FileSystemChange.Created (path, _) ->\n",
    "            Some (ticks, System.IO.Path.GetFileName path, nameof FileSystemChangeType.Created)\n",
    "        | FileSystemChange.Deleted path ->\n",
    "            Some (ticks, System.IO.Path.GetFileName path, nameof FileSystemChangeType.Deleted)\n",
    "        | FileSystemChange.Renamed (_oldPath, (path, _)) ->\n",
    "            Some (ticks, System.IO.Path.GetFileName path, nameof FileSystemChangeType.Renamed)\n",
    "    )\n",
    "    |> List.sortBy (fun (_, path, _) -> path)\n",
    "    |> List.distinctBy (fun (_, path, event) -> path, event)\n",
    "\n",
    "let inline testEventsSorted\n",
    "    (watchFn : string -> FSharp.Control.AsyncSeq<int64 * FileSystemChange> * IDisposable)\n",
    "    write\n",
    "    =\n",
    "    let path = createTempDirectory ()\n",
    "    let stream, disposable = watchFn path\n",
    "\n",
    "    let events = System.Collections.Concurrent.ConcurrentBag ()\n",
    "\n",
    "    let inline iter () =\n",
    "        stream\n",
    "        |> FSharp.Control.AsyncSeq.iterAsyncParallel (fun event -> async { events.Add event })\n",
    "\n",
    "    let run = async {\n",
    "        let! _ = iter () |> Async.StartChild\n",
    "        do! Async.Sleep 250\n",
    "        return! write path\n",
    "    }\n",
    "\n",
    "    try\n",
    "        run\n",
    "        |> Async.runWithTimeout 5000\n",
    "        |> _assertEqual (Some ())\n",
    "    finally\n",
    "        disposable.Dispose ()\n",
    "        deleteDirectoryAsync path |> Async.Ignore |> Async.RunSynchronously\n",
    "\n",
    "    let events = formatEvents events\n",
    "\n",
    "    let eventMap =\n",
    "        events\n",
    "        |> List.map (fun (ticks, path, event) -> path, (event, ticks))\n",
    "        |> List.groupBy fst\n",
    "        |> List.map (fun (path, events) ->\n",
    "            let event, _ticks =\n",
    "                events\n",
    "                |> List.map snd\n",
    "                |> List.sortByDescending snd\n",
    "                |> List.head\n",
    "\n",
    "            path, event\n",
    "        )\n",
    "        |> Map.ofList\n",
    "\n",
    "    let eventList =\n",
    "        events\n",
    "        |> List.map (fun (_ticks, path, event) -> path, event)\n",
    "\n",
    "    eventMap, eventList"
   ]
  },
  {
   "cell_type": "markdown",
   "metadata": {},
   "source": [
    "#### create and delete (test)"
   ]
  },
  {
   "cell_type": "code",
   "execution_count": null,
   "metadata": {
    "dotnet_interactive": {
     "language": "fsharp"
    },
    "polyglot_notebook": {
     "kernelName": "fsharp"
    }
   },
   "outputs": [
    {
     "name": "stdout",
     "output_type": "stream",
     "text": [
      "FSharpOption<Unit>\n",
      "      Value: <null>\n",
      "00:00:28 #51 [Debug] watchWithFilter / Disposing watch stream / filter: FileName, LastWrite\n",
      "FSharpList<Tuple<String,String>>\n",
      "( file1.txt, Created )\n",
      "( file1.txt, Changed )\n",
      "( file1.txt, Deleted )\n",
      "( file2.txt, Created )\n",
      "( file2.txt, Changed )\n",
      "( file2.txt, Deleted )\n",
      "( file3.txt, Created )\n",
      "( file3.txt, Changed )\n",
      "( file3.txt, Deleted )\n",
      "FSharpMap<String,String>\n",
      "      - Key: file1.txt\n",
      "        Value: Deleted\n",
      "      - Key: file2.txt\n",
      "        Value: Deleted\n",
      "      - Key: file3.txt\n",
      "        Value: Deleted\n",
      "FSharpOption<Unit>\n",
      "      Value: <null>\n"
     ]
    }
   ],
   "source": [
    "//// test\n",
    "\n",
    "let inline write path = async {\n",
    "    let n = 3\n",
    "\n",
    "    for i = 1 to n do\n",
    "        do! $\"{i}\" |> writeAllTextAsync (path </> $\"file{i}.txt\")\n",
    "\n",
    "    for i = 1 to n do\n",
    "        do! deleteFileAsync (path </> $\"file{i}.txt\") |> Async.Ignore\n",
    "\n",
    "    do! Async.Sleep 150\n",
    "}\n",
    "\n",
    "let inline run () =\n",
    "    let eventMap, eventList = testEventsSorted (watchDirectory (fun _ -> false)) write\n",
    "\n",
    "    [\n",
    "        \"file1.txt\", nameof FileSystemChangeType.Created\n",
    "        \"file1.txt\", nameof FileSystemChangeType.Changed\n",
    "        \"file1.txt\", nameof FileSystemChangeType.Deleted\n",
    "\n",
    "        \"file2.txt\", nameof FileSystemChangeType.Created\n",
    "        \"file2.txt\", nameof FileSystemChangeType.Changed\n",
    "        \"file2.txt\", nameof FileSystemChangeType.Deleted\n",
    "\n",
    "        \"file3.txt\", nameof FileSystemChangeType.Created\n",
    "        \"file3.txt\", nameof FileSystemChangeType.Changed\n",
    "        \"file3.txt\", nameof FileSystemChangeType.Deleted\n",
    "    ]\n",
    "    |> _sequenceEqual eventList\n",
    "\n",
    "    [\n",
    "        \"file1.txt\", nameof FileSystemChangeType.Deleted\n",
    "        \"file2.txt\", nameof FileSystemChangeType.Deleted\n",
    "        \"file3.txt\", nameof FileSystemChangeType.Deleted\n",
    "    ]\n",
    "    |> Map.ofList\n",
    "    |> _sequenceEqual eventMap\n",
    "\n",
    "run\n",
    "|> retryFn 3\n",
    "|> _assertEqual (Some ())"
   ]
  },
  {
   "cell_type": "markdown",
   "metadata": {},
   "source": [
    "#### change (test)"
   ]
  },
  {
   "cell_type": "code",
   "execution_count": null,
   "metadata": {
    "dotnet_interactive": {
     "language": "fsharp"
    },
    "polyglot_notebook": {
     "kernelName": "fsharp"
    }
   },
   "outputs": [
    {
     "name": "stdout",
     "output_type": "stream",
     "text": [
      "FSharpOption<Unit>\n",
      "      Value: <null>\n",
      "00:00:31 #52 [Debug] watchWithFilter / Disposing watch stream / filter: FileName, LastWrite\n",
      "FSharpList<Tuple<String,String>>\n",
      "( file1.txt, Created )\n",
      "( file1.txt, Changed )\n",
      "( file1.txt, Deleted )\n",
      "( file2.txt, Created )\n",
      "( file2.txt, Changed )\n",
      "( file2.txt, Deleted )\n",
      "FSharpMap<String,String>\n",
      "      - Key: file1.txt\n",
      "        Value: Deleted\n",
      "      - Key: file2.txt\n",
      "        Value: Deleted\n",
      "FSharpOption<Unit>\n",
      "      Value: <null>\n"
     ]
    }
   ],
   "source": [
    "//// test\n",
    "\n",
    "let inline write path = async {\n",
    "    let n = 2\n",
    "\n",
    "    for i = 1 to n do\n",
    "        do! $\"{i}\" |> writeAllTextAsync (path </> $\"file{i}.txt\")\n",
    "\n",
    "    for i = 1 to n do\n",
    "        do! \"\" |> writeAllTextAsync (path </> $\"file{i}.txt\")\n",
    "\n",
    "    for i = 1 to n do\n",
    "        do! deleteFileAsync (path </> $\"file{i}.txt\") |> Async.Ignore\n",
    "\n",
    "    do! Async.Sleep 150\n",
    "}\n",
    "\n",
    "let inline run () =\n",
    "    let eventMap, eventList = testEventsSorted (watchDirectory (fun _ -> false)) write\n",
    "\n",
    "    [\n",
    "        \"file1.txt\", nameof FileSystemChangeType.Created\n",
    "        \"file1.txt\", nameof FileSystemChangeType.Changed\n",
    "        \"file1.txt\", nameof FileSystemChangeType.Deleted\n",
    "\n",
    "        \"file2.txt\", nameof FileSystemChangeType.Created\n",
    "        \"file2.txt\", nameof FileSystemChangeType.Changed\n",
    "        \"file2.txt\", nameof FileSystemChangeType.Deleted\n",
    "    ]\n",
    "    |> _sequenceEqual eventList\n",
    "\n",
    "    [\n",
    "        \"file1.txt\", nameof FileSystemChangeType.Deleted\n",
    "        \"file2.txt\", nameof FileSystemChangeType.Deleted\n",
    "    ]\n",
    "    |> Map.ofList\n",
    "    |> _sequenceEqual eventMap\n",
    "\n",
    "run\n",
    "|> retryFn 3\n",
    "|> _assertEqual (Some ())"
   ]
  },
  {
   "cell_type": "markdown",
   "metadata": {},
   "source": [
    "#### rename (test)"
   ]
  },
  {
   "cell_type": "code",
   "execution_count": null,
   "metadata": {
    "dotnet_interactive": {
     "language": "fsharp"
    },
    "polyglot_notebook": {
     "kernelName": "fsharp"
    }
   },
   "outputs": [
    {
     "name": "stdout",
     "output_type": "stream",
     "text": [
      "FSharpOption<Unit>\n",
      "      Value: <null>\n",
      "00:00:33 #53 [Debug] watchWithFilter / Disposing watch stream / filter: FileName, LastWrite\n",
      "FSharpList<Tuple<String,String>>\n",
      "( file1.txt, Created )\n",
      "( file1.txt, Changed )\n",
      "( file2.txt, Created )\n",
      "( file2.txt, Changed )\n",
      "( file_1.txt, Renamed )\n",
      "( file_1.txt, Deleted )\n",
      "( file_2.txt, Renamed )\n",
      "( file_2.txt, Deleted )\n",
      "FSharpMap<String,String>\n",
      "      - Key: file1.txt\n",
      "        Value: Changed\n",
      "      - Key: file2.txt\n",
      "        Value: Changed\n",
      "      - Key: file_1.txt\n",
      "        Value: Deleted\n",
      "      - Key: file_2.txt\n",
      "        Value: Deleted\n",
      "FSharpOption<Unit>\n",
      "      Value: <null>\n"
     ]
    }
   ],
   "source": [
    "//// test\n",
    "\n",
    "let inline write path = async {\n",
    "    let n = 2\n",
    "\n",
    "    for i = 1 to n do\n",
    "        do! $\"{i}\" |> writeAllTextAsync (path </> $\"file{i}.txt\")\n",
    "\n",
    "    for i = 1 to n do\n",
    "        do! path </> $\"file{i}.txt\" |> moveFileAsync (path </> $\"file_{i}.txt\") |> Async.Ignore\n",
    "\n",
    "    for i = 1 to n do\n",
    "        do! deleteFileAsync (path </> $\"file_{i}.txt\") |> Async.Ignore\n",
    "\n",
    "    do! Async.Sleep 150\n",
    "}\n",
    "\n",
    "let inline run () =\n",
    "    let eventMap, eventList = testEventsSorted (watchDirectory (fun _ -> false)) write\n",
    "\n",
    "    [\n",
    "        \"file1.txt\", nameof FileSystemChangeType.Created\n",
    "        \"file1.txt\", nameof FileSystemChangeType.Changed\n",
    "        \"file2.txt\", nameof FileSystemChangeType.Created\n",
    "        \"file2.txt\", nameof FileSystemChangeType.Changed\n",
    "\n",
    "        \"file_1.txt\", nameof FileSystemChangeType.Renamed\n",
    "        \"file_1.txt\", nameof FileSystemChangeType.Deleted\n",
    "\n",
    "        \"file_2.txt\", nameof FileSystemChangeType.Renamed\n",
    "        \"file_2.txt\", nameof FileSystemChangeType.Deleted\n",
    "    ]\n",
    "    |> _sequenceEqual eventList\n",
    "\n",
    "    [\n",
    "        \"file1.txt\", nameof FileSystemChangeType.Changed\n",
    "        \"file2.txt\", nameof FileSystemChangeType.Changed\n",
    "        \"file_1.txt\", nameof FileSystemChangeType.Deleted\n",
    "        \"file_2.txt\", nameof FileSystemChangeType.Deleted\n",
    "    ]\n",
    "    |> Map.ofList\n",
    "    |> _sequenceEqual eventMap\n",
    "\n",
    "run\n",
    "|> retryFn 3\n",
    "|> _assertEqual (Some ())"
   ]
  },
  {
   "cell_type": "markdown",
   "metadata": {},
   "source": [
    "#### full (test)"
   ]
  },
  {
   "cell_type": "code",
   "execution_count": null,
   "metadata": {
    "dotnet_interactive": {
     "language": "fsharp"
    },
    "polyglot_notebook": {
     "kernelName": "fsharp"
    }
   },
   "outputs": [
    {
     "name": "stdout",
     "output_type": "stream",
     "text": [
      "FSharpOption<Unit>\n",
      "      Value: <null>\n",
      "00:00:37 #54 [Debug] watchWithFilter / Disposing watch stream / filter: FileName, LastWrite\n",
      "FSharpList<Tuple<String,String>>\n",
      "( file1.txt, Created )\n",
      "( file1.txt, Changed )\n",
      "( file2.txt, Created )\n",
      "( file2.txt, Changed )\n",
      "( file_1.txt, Changed )\n",
      "( file_1.txt, Renamed )\n",
      "( file_1.txt, Deleted )\n",
      "( file_2.txt, Changed )\n",
      "( file_2.txt, Renamed )\n",
      "( file_2.txt, Deleted )\n",
      "FSharpMap<String,String>\n",
      "      - Key: file1.txt\n",
      "        Value: Changed\n",
      "      - Key: file2.txt\n",
      "        Value: Changed\n",
      "      - Key: file_1.txt\n",
      "        Value: Deleted\n",
      "      - Key: file_2.txt\n",
      "        Value: Deleted\n",
      "FSharpOption<Unit>\n",
      "      Value: <null>\n"
     ]
    }
   ],
   "source": [
    "//// test\n",
    "\n",
    "let inline write path = async {\n",
    "    let n = 2\n",
    "\n",
    "    for i = 1 to n do\n",
    "        do! $\"{i}\" |> writeAllTextAsync (path </> $\"file{i}.txt\")\n",
    "\n",
    "    for i = 1 to n do\n",
    "        do! \"\" |> writeAllTextAsync (path </> $\"file{i}.txt\")\n",
    "\n",
    "    for i = 1 to n do\n",
    "        do! path </> $\"file{i}.txt\" |> moveFileAsync (path </> $\"file_{i}.txt\") |> Async.Ignore\n",
    "\n",
    "    for i = 1 to n do\n",
    "        do! $\"{i}\" |> writeAllTextAsync (path </> $\"file_{i}.txt\")\n",
    "\n",
    "    for i = 1 to n do\n",
    "        do! deleteFileAsync (path </> $\"file_{i}.txt\") |> Async.Ignore\n",
    "\n",
    "    do! Async.Sleep 150\n",
    "}\n",
    "\n",
    "let inline run () =\n",
    "    let eventMap, eventList = testEventsSorted (watchDirectory (fun _ -> false)) write\n",
    "\n",
    "    [\n",
    "        \"file1.txt\", nameof FileSystemChangeType.Created\n",
    "        \"file1.txt\", nameof FileSystemChangeType.Changed\n",
    "        \"file2.txt\", nameof FileSystemChangeType.Created\n",
    "        \"file2.txt\", nameof FileSystemChangeType.Changed\n",
    "\n",
    "        \"file_1.txt\", nameof FileSystemChangeType.Changed\n",
    "        \"file_1.txt\", nameof FileSystemChangeType.Renamed\n",
    "        \"file_1.txt\", nameof FileSystemChangeType.Deleted\n",
    "\n",
    "        \"file_2.txt\", nameof FileSystemChangeType.Changed\n",
    "        \"file_2.txt\", nameof FileSystemChangeType.Renamed\n",
    "        \"file_2.txt\", nameof FileSystemChangeType.Deleted\n",
    "    ]\n",
    "    |> _sequenceEqual eventList\n",
    "\n",
    "    [\n",
    "        \"file1.txt\", nameof FileSystemChangeType.Changed\n",
    "        \"file2.txt\", nameof FileSystemChangeType.Changed\n",
    "        \"file_1.txt\", nameof FileSystemChangeType.Deleted\n",
    "        \"file_2.txt\", nameof FileSystemChangeType.Deleted\n",
    "    ]\n",
    "    |> Map.ofList\n",
    "    |> _sequenceEqual eventMap\n",
    "\n",
    "run\n",
    "|> retryFn 3\n",
    "|> _assertEqual (Some ())"
   ]
  }
 ],
 "metadata": {},
 "nbformat": 4,
 "nbformat_minor": 5
}