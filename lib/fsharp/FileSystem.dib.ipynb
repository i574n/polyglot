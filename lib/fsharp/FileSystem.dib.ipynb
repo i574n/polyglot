{
 "cells": [
  {
   "cell_type": "markdown",
   "metadata": {},
   "source": [
    "# FileSystem (Polyglot)"
   ]
  },
  {
   "cell_type": "code",
   "execution_count": null,
   "metadata": {
    "dotnet_interactive": {
     "language": "fsharp"
    },
    "polyglot_notebook": {
     "kernelName": "fsharp"
    }
   },
   "outputs": [],
   "source": [
    "#!import ../../lib/fsharp/Notebooks.dib\n",
    "#!import ../../lib/fsharp/Testing.dib"
   ]
  },
  {
   "cell_type": "code",
   "execution_count": null,
   "metadata": {
    "dotnet_interactive": {
     "language": "fsharp"
    },
    "polyglot_notebook": {
     "kernelName": "fsharp"
    }
   },
   "outputs": [],
   "source": [
    "#r @\"../../../../../../../.nuget/packages/fsharp.control.asyncseq/3.2.1/lib/netstandard2.1/FSharp.Control.AsyncSeq.dll\"\n",
    "#r @\"../../../../../../../.nuget/packages/system.reactive/6.0.1-preview.1/lib/net6.0/System.Reactive.dll\"\n",
    "#r @\"../../../../../../../.nuget/packages/system.reactive.linq/6.0.1-preview.1/lib/netstandard2.0/System.Reactive.Linq.dll\"\n",
    "#r @\"../../../../../../../.nuget/packages/argu/6.1.5/lib/netstandard2.0/Argu.dll\"\n",
    "#r @\"../../../../../../../.nuget/packages/system.commandline/2.0.0-beta4.22272.1/lib/net6.0/System.CommandLine.dll\""
   ]
  },
  {
   "cell_type": "code",
   "execution_count": null,
   "metadata": {
    "dotnet_interactive": {
     "language": "fsharp"
    },
    "polyglot_notebook": {
     "kernelName": "fsharp"
    }
   },
   "outputs": [],
   "source": [
    "#!import ../../lib/fsharp/Common.fs\n",
    "#!import ../../lib/fsharp/CommonFSharp.fs\n",
    "#!import ../../lib/fsharp/Async.fs\n",
    "#!import ../../lib/fsharp/AsyncSeq.fs\n",
    "#!import ../../lib/fsharp/Runtime.fs"
   ]
  },
  {
   "cell_type": "code",
   "execution_count": null,
   "metadata": {
    "dotnet_interactive": {
     "language": "fsharp"
    },
    "polyglot_notebook": {
     "kernelName": "fsharp"
    }
   },
   "outputs": [],
   "source": [
    "open Common"
   ]
  },
  {
   "cell_type": "markdown",
   "metadata": {},
   "source": [
    "## Operators"
   ]
  },
  {
   "cell_type": "code",
   "execution_count": null,
   "metadata": {
    "dotnet_interactive": {
     "language": "fsharp"
    },
    "polyglot_notebook": {
     "kernelName": "fsharp"
    }
   },
   "outputs": [],
   "source": [
    "module Operators =\n",
    "    let inline (</>) a b =\n",
    "        System.IO.Path.Combine (a, b)"
   ]
  },
  {
   "cell_type": "code",
   "execution_count": null,
   "metadata": {
    "dotnet_interactive": {
     "language": "fsharp"
    },
    "polyglot_notebook": {
     "kernelName": "fsharp"
    }
   },
   "outputs": [],
   "source": [
    "open Operators"
   ]
  },
  {
   "cell_type": "markdown",
   "metadata": {},
   "source": [
    "## createTempDirectoryName"
   ]
  },
  {
   "cell_type": "code",
   "execution_count": null,
   "metadata": {
    "dotnet_interactive": {
     "language": "fsharp"
    },
    "polyglot_notebook": {
     "kernelName": "fsharp"
    }
   },
   "outputs": [],
   "source": [
    "let inline createTempDirectoryName () =\n",
    "    let root = System.Reflection.Assembly.GetEntryAssembly().GetName().Name\n",
    "\n",
    "    System.IO.Path.GetTempPath ()\n",
    "    </> $\"!{root}\"\n",
    "    </> string (newGuidFromDateTime System.DateTime.Now)"
   ]
  },
  {
   "cell_type": "code",
   "execution_count": null,
   "metadata": {
    "dotnet_interactive": {
     "language": "fsharp"
    },
    "polyglot_notebook": {
     "kernelName": "fsharp"
    }
   },
   "outputs": [
    {
     "name": "stdout",
     "output_type": "stream",
     "text": [
      "/tmp/!dotnet-repl/20240311-1609-0437-3771-3c972b4f0c32\n"
     ]
    }
   ],
   "source": [
    "//// test\n",
    "\n",
    "createTempDirectoryName ()\n",
    "|> _contains System.IO.Path.DirectorySeparatorChar"
   ]
  },
  {
   "cell_type": "markdown",
   "metadata": {},
   "source": [
    "## createTempDirectory"
   ]
  },
  {
   "cell_type": "code",
   "execution_count": null,
   "metadata": {
    "dotnet_interactive": {
     "language": "fsharp"
    },
    "polyglot_notebook": {
     "kernelName": "fsharp"
    }
   },
   "outputs": [],
   "source": [
    "let inline createTempDirectory () =\n",
    "    let tempFolder = createTempDirectoryName ()\n",
    "    let result = System.IO.Directory.CreateDirectory tempFolder\n",
    "\n",
    "    if not result.Exists then\n",
    "        let getLocals () =\n",
    "            $\"tempFolder: {tempFolder} / result: {({|\n",
    "                Exists = result.Exists\n",
    "                CreationTime = result.CreationTime\n",
    "            |})} {getLocals ()}\"\n",
    "\n",
    "        trace Debug (fun () -> \"createTempDirectory\") getLocals\n",
    "\n",
    "    tempFolder"
   ]
  },
  {
   "cell_type": "code",
   "execution_count": null,
   "metadata": {
    "dotnet_interactive": {
     "language": "fsharp"
    },
    "polyglot_notebook": {
     "kernelName": "fsharp"
    }
   },
   "outputs": [
    {
     "name": "stdout",
     "output_type": "stream",
     "text": [
      "True\n"
     ]
    }
   ],
   "source": [
    "//// test\n",
    "\n",
    "let tempDirectory = createTempDirectory ()\n",
    "\n",
    "Directory.Exists tempDirectory\n",
    "|> _equal true"
   ]
  },
  {
   "cell_type": "markdown",
   "metadata": {},
   "source": [
    "## getSourceDirectory"
   ]
  },
  {
   "cell_type": "code",
   "execution_count": null,
   "metadata": {
    "dotnet_interactive": {
     "language": "fsharp"
    },
    "polyglot_notebook": {
     "kernelName": "fsharp"
    }
   },
   "outputs": [],
   "source": [
    "let getSourceDirectory =\n",
    "    fun () -> __SOURCE_DIRECTORY__\n",
    "    |> memoize"
   ]
  },
  {
   "cell_type": "code",
   "execution_count": null,
   "metadata": {
    "dotnet_interactive": {
     "language": "fsharp"
    },
    "polyglot_notebook": {
     "kernelName": "fsharp"
    }
   },
   "outputs": [
    {
     "name": "stdout",
     "output_type": "stream",
     "text": [
      "fsharp\n"
     ]
    }
   ],
   "source": [
    "//// test\n",
    "\n",
    "getSourceDirectory ()\n",
    "|> System.IO.DirectoryInfo\n",
    "|> fun dir -> dir.Name\n",
    "|> _equal \"fsharp\""
   ]
  },
  {
   "cell_type": "markdown",
   "metadata": {},
   "source": [
    "## findParent"
   ]
  },
  {
   "cell_type": "code",
   "execution_count": null,
   "metadata": {
    "dotnet_interactive": {
     "language": "fsharp"
    },
    "polyglot_notebook": {
     "kernelName": "fsharp"
    }
   },
   "outputs": [],
   "source": [
    "let inline findParent name isFile rootDir =\n",
    "    let rec loop dir =\n",
    "        if dir </> name |> (if isFile then System.IO.File.Exists else System.IO.Directory.Exists)\n",
    "        then dir\n",
    "        else\n",
    "            dir\n",
    "            |> System.IO.Directory.GetParent\n",
    "            |> function\n",
    "                | null -> failwith $\"\"\"No parent for {if isFile then \"file\" else \"dir\"} '{name}' at '{rootDir}'\"\"\"\n",
    "                | parent -> parent.FullName |> loop\n",
    "    loop rootDir"
   ]
  },
  {
   "cell_type": "code",
   "execution_count": null,
   "metadata": {
    "dotnet_interactive": {
     "language": "fsharp"
    },
    "polyglot_notebook": {
     "kernelName": "fsharp"
    }
   },
   "outputs": [
    {
     "name": "stdout",
     "output_type": "stream",
     "text": [
      "polyglot\n"
     ]
    }
   ],
   "source": [
    "//// test\n",
    "\n",
    "getSourceDirectory () |> findParent \".paket\" false\n",
    "|> System.IO.DirectoryInfo\n",
    "|> fun dir -> dir.Name\n",
    "|> _equal \"polyglot\""
   ]
  },
  {
   "cell_type": "code",
   "execution_count": null,
   "metadata": {
    "dotnet_interactive": {
     "language": "fsharp"
    },
    "polyglot_notebook": {
     "kernelName": "fsharp"
    }
   },
   "outputs": [
    {
     "name": "stdout",
     "output_type": "stream",
     "text": [
      "polyglot\n"
     ]
    }
   ],
   "source": [
    "//// test\n",
    "\n",
    "getSourceDirectory () |> findParent \"paket.dependencies\" true\n",
    "|> System.IO.DirectoryInfo\n",
    "|> fun dir -> dir.Name\n",
    "|> _equal \"polyglot\""
   ]
  },
  {
   "cell_type": "markdown",
   "metadata": {},
   "source": [
    "## readAllTextAsync"
   ]
  },
  {
   "cell_type": "code",
   "execution_count": null,
   "metadata": {
    "dotnet_interactive": {
     "language": "fsharp"
    },
    "polyglot_notebook": {
     "kernelName": "fsharp"
    }
   },
   "outputs": [],
   "source": [
    "let inline readAllTextAsync path =\n",
    "    path |> System.IO.File.ReadAllTextAsync |> Async.AwaitTask"
   ]
  },
  {
   "cell_type": "markdown",
   "metadata": {},
   "source": [
    "## fileExistsContent"
   ]
  },
  {
   "cell_type": "code",
   "execution_count": null,
   "metadata": {
    "dotnet_interactive": {
     "language": "fsharp"
    },
    "polyglot_notebook": {
     "kernelName": "fsharp"
    }
   },
   "outputs": [],
   "source": [
    "let inline fileExistsContent path content = async {\n",
    "    if path |> System.IO.File.Exists |> not\n",
    "    then return false\n",
    "    else\n",
    "        let! existingContent = path |> readAllTextAsync\n",
    "        return content = existingContent\n",
    "}"
   ]
  },
  {
   "cell_type": "markdown",
   "metadata": {},
   "source": [
    "## writeAllTextAsync"
   ]
  },
  {
   "cell_type": "code",
   "execution_count": null,
   "metadata": {
    "dotnet_interactive": {
     "language": "fsharp"
    },
    "polyglot_notebook": {
     "kernelName": "fsharp"
    }
   },
   "outputs": [],
   "source": [
    "let inline writeAllTextAsync path contents =\n",
    "    System.IO.File.WriteAllTextAsync (path, contents) |> Async.AwaitTask"
   ]
  },
  {
   "cell_type": "markdown",
   "metadata": {},
   "source": [
    "## writeAllTextExists"
   ]
  },
  {
   "cell_type": "code",
   "execution_count": null,
   "metadata": {
    "dotnet_interactive": {
     "language": "fsharp"
    },
    "polyglot_notebook": {
     "kernelName": "fsharp"
    }
   },
   "outputs": [],
   "source": [
    "let inline writeAllTextExists path contents = async {\n",
    "    let! exists = contents |> fileExistsContent path\n",
    "    if not exists\n",
    "    then do! contents |> writeAllTextAsync path\n",
    "}"
   ]
  },
  {
   "cell_type": "markdown",
   "metadata": {},
   "source": [
    "## waitForFileAccess"
   ]
  },
  {
   "cell_type": "code",
   "execution_count": null,
   "metadata": {
    "dotnet_interactive": {
     "language": "fsharp"
    },
    "polyglot_notebook": {
     "kernelName": "fsharp"
    }
   },
   "outputs": [],
   "source": [
    "let inline waitForFileAccess access path =\n",
    "    let fileAccess, fileShare =\n",
    "        access\n",
    "        |> Option.defaultValue (System.IO.FileAccess.ReadWrite, System.IO.FileShare.Read)\n",
    "\n",
    "    let rec loop retry = async {\n",
    "        try\n",
    "            use _ = new System.IO.FileStream (\n",
    "                path,\n",
    "                System.IO.FileMode.Open,\n",
    "                fileAccess,\n",
    "                fileShare\n",
    "            )\n",
    "            return retry\n",
    "        with ex ->\n",
    "            if retry % 100 = 0 then\n",
    "                let getLocals () = $\"path: {path |> System.IO.Path.GetFileName} / ex: {ex |> printException} / {getLocals ()}\"\n",
    "                trace Debug (fun () -> \"waitForFileAccess\") getLocals\n",
    "            do! Async.Sleep 10\n",
    "            return! loop (retry + 1)\n",
    "    }\n",
    "    loop 0"
   ]
  },
  {
   "cell_type": "code",
   "execution_count": null,
   "metadata": {
    "dotnet_interactive": {
     "language": "fsharp"
    },
    "polyglot_notebook": {
     "kernelName": "fsharp"
    }
   },
   "outputs": [
    {
     "name": "stdout",
     "output_type": "stream",
     "text": [
      "00:00:00 #1 [Debug] 1\n",
      "00:00:00 #2 [Debug] 2\n",
      "00:00:00 #3 [Debug] _1\n",
      "00:00:00 #4 [Debug] 3\n",
      "00:00:00 #5 [Debug] _2\n",
      "00:00:00 #6 [Debug] 4\n",
      "00:00:00 #7 [Debug] waitForFileAccess / path: test.txt / ex: System.IO.IOException: The process cannot access the file '/tmp/!dotnet-repl/20240311-1609-0495-9537-94d606300859/test.txt' because it is being used by another process.\n",
      "00:00:01 #8 [Debug] waitForFileAccess / path: test.txt / ex: System.IO.IOException: The process cannot access the file '/tmp/!dotnet-repl/20240311-1609-0495-9537-94d606300859/test.txt' because it is being used by another process.\n",
      "00:00:02 #9 [Debug] _3\n",
      "00:00:02 #10 [Debug] _4\n",
      "00:00:02 #11 [Debug] _5\n",
      "00:00:02 #12 [Debug] _6\n",
      "00:00:02 #13 [Debug] 5\n",
      "00:00:02 #14 [Debug] 6\n",
      "00:00:02 #15 [Debug] 7\n",
      "167\n",
      "167\n",
      "167\n",
      "1\n",
      "True\n"
     ]
    }
   ],
   "source": [
    "//// test\n",
    "\n",
    "let tempFolder = createTempDirectory ()\n",
    "let path = tempFolder </> \"test.txt\"\n",
    "\n",
    "let inline lockFile () = async {\n",
    "    trace Debug (fun () -> \"_1\") getLocals\n",
    "    use stream = new System.IO.FileStream (\n",
    "        path,\n",
    "        System.IO.FileMode.Open,\n",
    "        System.IO.FileAccess.ReadWrite,\n",
    "        System.IO.FileShare.None\n",
    "    )\n",
    "    trace Debug (fun () -> \"_2\") getLocals\n",
    "    do! Async.Sleep 2000\n",
    "    trace Debug (fun () -> \"_3\") getLocals\n",
    "    stream.Seek (0L, SeekOrigin.Begin) |> ignore\n",
    "    trace Debug (fun () -> \"_4\") getLocals\n",
    "    stream.WriteByte 49uy\n",
    "    trace Debug (fun () -> \"_5\") getLocals\n",
    "    stream.Flush ()\n",
    "    trace Debug (fun () -> \"_6\") getLocals\n",
    "}\n",
    "\n",
    "async {\n",
    "    trace Debug (fun () -> \"1\") getLocals\n",
    "    do! \"0\" |> writeAllTextAsync path\n",
    "    trace Debug (fun () -> \"2\") getLocals\n",
    "    let! child = lockFile () |> Async.StartChild\n",
    "    trace Debug (fun () -> \"3\") getLocals\n",
    "    do! Async.Sleep 1\n",
    "    trace Debug (fun () -> \"4\") getLocals\n",
    "    let! retries = path |> waitForFileAccess None\n",
    "    trace Debug (fun () -> \"5\") getLocals\n",
    "    let! text = path |> readAllTextAsync\n",
    "    trace Debug (fun () -> \"6\") getLocals\n",
    "    do! child\n",
    "    trace Debug (fun () -> \"7\") getLocals\n",
    "    return retries, text\n",
    "}\n",
    "|> Async.runWithTimeout 3000\n",
    "|> function\n",
    "    | Some (retries, text) ->\n",
    "        retries\n",
    "        |> _isBetween\n",
    "            (if Runtime.isWindows () then 100 else 100)\n",
    "            (if Runtime.isWindows () then 150 else 200)\n",
    "\n",
    "        text |> _equal \"1\"\n",
    "\n",
    "        true\n",
    "    | _ -> false\n",
    "|> _equal true"
   ]
  },
  {
   "cell_type": "markdown",
   "metadata": {},
   "source": [
    "## readAllTextRetryAsync"
   ]
  },
  {
   "cell_type": "code",
   "execution_count": null,
   "metadata": {
    "dotnet_interactive": {
     "language": "fsharp"
    },
    "polyglot_notebook": {
     "kernelName": "fsharp"
    }
   },
   "outputs": [],
   "source": [
    "let inline readAllTextRetryAsync fullPath =\n",
    "    let rec loop retry = async {\n",
    "        try\n",
    "            if retry > 0\n",
    "            then do!\n",
    "                fullPath\n",
    "                |> waitForFileAccess (Some (\n",
    "                    System.IO.FileAccess.Read,\n",
    "                    System.IO.FileShare.Read\n",
    "                ))\n",
    "                |> Async.runWithTimeoutAsync 1000\n",
    "                |> Async.Ignore\n",
    "            return! fullPath |> readAllTextAsync |> Async.map Some\n",
    "        with ex ->\n",
    "            let getLocals () = $\"retry: {retry} / ex: {ex |> printException} / {getLocals ()}\"\n",
    "            trace Debug (fun () -> $\"watchWithFilter / readContent\") getLocals\n",
    "            if retry = 0\n",
    "            then return! loop (retry + 1)\n",
    "            else return None\n",
    "    }\n",
    "    loop 0"
   ]
  },
  {
   "cell_type": "markdown",
   "metadata": {},
   "source": [
    "## deleteDirectoryAsync"
   ]
  },
  {
   "cell_type": "code",
   "execution_count": null,
   "metadata": {
    "dotnet_interactive": {
     "language": "fsharp"
    },
    "polyglot_notebook": {
     "kernelName": "fsharp"
    }
   },
   "outputs": [],
   "source": [
    "let inline deleteDirectoryAsync path =\n",
    "    let rec loop retry = async {\n",
    "        try\n",
    "            System.IO.Directory.Delete (path, true)\n",
    "            return retry\n",
    "        with ex ->\n",
    "            if retry % 100 = 0 then\n",
    "                let getLocals () = $\"path: {path |> System.IO.Path.GetFileName} / ex: {ex |> printException} / {getLocals ()}\"\n",
    "                trace Debug (fun () -> \"deleteDirectoryAsync\") getLocals\n",
    "            do! Async.Sleep 10\n",
    "            return! loop (retry + 1)\n",
    "    }\n",
    "    loop 0"
   ]
  },
  {
   "cell_type": "code",
   "execution_count": null,
   "metadata": {
    "dotnet_interactive": {
     "language": "fsharp"
    },
    "polyglot_notebook": {
     "kernelName": "fsharp"
    }
   },
   "outputs": [
    {
     "name": "stdout",
     "output_type": "stream",
     "text": [
      "00:00:02 #16 [Debug] 1\n",
      "00:00:02 #17 [Debug] 2\n",
      "00:00:02 #18 [Debug] 3\n",
      "00:00:02 #19 [Debug] _1\n",
      "00:00:02 #20 [Debug] _2\n",
      "00:00:02 #21 [Debug] 4\n",
      "00:00:02 #22 [Debug] 5\n",
      "00:00:04 #23 [Debug] _3\n",
      "00:00:04 #24 [Debug] 6\n",
      "0\n",
      "0\n",
      "0\n",
      "True\n"
     ]
    }
   ],
   "source": [
    "//// test\n",
    "\n",
    "let tempFolder = createTempDirectory ()\n",
    "let path = tempFolder </> \"test\"\n",
    "\n",
    "let inline lockDirectory () = async {\n",
    "    trace Debug (fun () -> \"_1\") getLocals\n",
    "    System.IO.File.WriteAllText (path </> \"test.txt\", \"0\")\n",
    "    use _ = new System.IO.FileStream (\n",
    "        path </> \"test.txt\",\n",
    "        System.IO.FileMode.Open,\n",
    "        System.IO.FileAccess.ReadWrite,\n",
    "        System.IO.FileShare.None\n",
    "    )\n",
    "    trace Debug (fun () -> \"_2\") getLocals\n",
    "    do! Async.Sleep 2000\n",
    "    trace Debug (fun () -> \"_3\") getLocals\n",
    "}\n",
    "\n",
    "async {\n",
    "    trace Debug (fun () -> \"1\") getLocals\n",
    "    Directory.CreateDirectory path |> ignore\n",
    "    trace Debug (fun () -> \"2\") getLocals\n",
    "    let! child = lockDirectory () |> Async.StartChild\n",
    "    trace Debug (fun () -> \"3\") getLocals\n",
    "    do! Async.Sleep 60\n",
    "    trace Debug (fun () -> \"4\") getLocals\n",
    "    let! retries = deleteDirectoryAsync path\n",
    "    trace Debug (fun () -> \"5\") getLocals\n",
    "    do! child\n",
    "    trace Debug (fun () -> \"6\") getLocals\n",
    "    return retries\n",
    "}\n",
    "|> Async.runWithTimeout 3000\n",
    "|> function\n",
    "    | Some retries ->\n",
    "        retries\n",
    "        |> _isBetween\n",
    "            (if Runtime.isWindows () then 100 else 0)\n",
    "            (if Runtime.isWindows () then 150 else 0)\n",
    "\n",
    "        true\n",
    "    | _ -> false\n",
    "|> _equal true"
   ]
  },
  {
   "cell_type": "markdown",
   "metadata": {},
   "source": [
    "## deleteFileAsync"
   ]
  },
  {
   "cell_type": "code",
   "execution_count": null,
   "metadata": {
    "dotnet_interactive": {
     "language": "fsharp"
    },
    "polyglot_notebook": {
     "kernelName": "fsharp"
    }
   },
   "outputs": [],
   "source": [
    "let inline deleteFileAsync path =\n",
    "    let rec loop retry = async {\n",
    "        try\n",
    "            System.IO.File.Delete path\n",
    "            return retry\n",
    "        with ex ->\n",
    "            if retry % 100 = 0 then\n",
    "                let getLocals () = $\"path: {path |> System.IO.Path.GetFileName} / ex: {ex |> printException} / {getLocals ()}\"\n",
    "                trace Warning (fun () -> \"deleteFileAsync\") getLocals\n",
    "            do! Async.Sleep 10\n",
    "            return! loop (retry + 1)\n",
    "    }\n",
    "    loop 0"
   ]
  },
  {
   "cell_type": "code",
   "execution_count": null,
   "metadata": {
    "dotnet_interactive": {
     "language": "fsharp"
    },
    "polyglot_notebook": {
     "kernelName": "fsharp"
    }
   },
   "outputs": [
    {
     "name": "stdout",
     "output_type": "stream",
     "text": [
      "00:00:04 #25 [Debug] 1\n",
      "00:00:04 #26 [Debug] 2\n",
      "00:00:04 #27 [Debug] 3\n",
      "00:00:04 #28 [Debug] _1\n",
      "00:00:04 #29 [Debug] _2\n",
      "00:00:04 #30 [Debug] 4\n",
      "00:00:04 #31 [Debug] 5\n",
      "00:00:06 #32 [Debug] _3\n",
      "00:00:06 #33 [Debug] 6\n",
      "0\n",
      "0\n",
      "0\n",
      "True\n"
     ]
    }
   ],
   "source": [
    "//// test\n",
    "\n",
    "let tempFolder = createTempDirectory ()\n",
    "let path = tempFolder </> \"test.txt\"\n",
    "\n",
    "let inline lockFile () = async {\n",
    "    trace Debug (fun () -> \"_1\") getLocals\n",
    "    use _ = new System.IO.FileStream (\n",
    "        path,\n",
    "        System.IO.FileMode.Open,\n",
    "        System.IO.FileAccess.ReadWrite,\n",
    "        System.IO.FileShare.None\n",
    "    )\n",
    "    trace Debug (fun () -> \"_2\") getLocals\n",
    "    do! Async.Sleep 2000\n",
    "    trace Debug (fun () -> \"_3\") getLocals\n",
    "}\n",
    "\n",
    "async {\n",
    "    trace Debug (fun () -> \"1\") getLocals\n",
    "    do! \"0\" |> writeAllTextAsync path\n",
    "    trace Debug (fun () -> \"2\") getLocals\n",
    "    let! child = lockFile () |> Async.StartChild\n",
    "    trace Debug (fun () -> \"3\") getLocals\n",
    "    do! Async.Sleep 1\n",
    "    trace Debug (fun () -> \"4\") getLocals\n",
    "    let! retries = deleteFileAsync path\n",
    "    trace Debug (fun () -> \"5\") getLocals\n",
    "    do! child\n",
    "    trace Debug (fun () -> \"6\") getLocals\n",
    "    return retries\n",
    "}\n",
    "|> Async.runWithTimeout 3000\n",
    "|> function\n",
    "    | Some retries ->\n",
    "        retries\n",
    "        |> _isBetween\n",
    "            (if Runtime.isWindows () then 100 else 0)\n",
    "            (if Runtime.isWindows () then 150 else 0)\n",
    "\n",
    "        true\n",
    "    | _ -> false\n",
    "|> _equal true"
   ]
  },
  {
   "cell_type": "markdown",
   "metadata": {},
   "source": [
    "## moveFileAsync"
   ]
  },
  {
   "cell_type": "code",
   "execution_count": null,
   "metadata": {
    "dotnet_interactive": {
     "language": "fsharp"
    },
    "polyglot_notebook": {
     "kernelName": "fsharp"
    }
   },
   "outputs": [],
   "source": [
    "let inline moveFileAsync newPath oldPath =\n",
    "    let rec loop retry = async {\n",
    "        try\n",
    "            System.IO.File.Move (oldPath, newPath)\n",
    "            return retry\n",
    "        with ex ->\n",
    "            if retry % 100 = 0 then\n",
    "                let getLocals () =\n",
    "                    $\"oldPath: {oldPath |> System.IO.Path.GetFileName} / newPath: {newPath |> System.IO.Path.GetFileName} / ex: {ex |> printException} / {getLocals ()}\"\n",
    "                trace Warning (fun () -> \"moveFileAsync\") getLocals\n",
    "            do! Async.Sleep 10\n",
    "            return! loop (retry + 1)\n",
    "    }\n",
    "    loop 0"
   ]
  },
  {
   "cell_type": "code",
   "execution_count": null,
   "metadata": {
    "dotnet_interactive": {
     "language": "fsharp"
    },
    "polyglot_notebook": {
     "kernelName": "fsharp"
    }
   },
   "outputs": [
    {
     "name": "stdout",
     "output_type": "stream",
     "text": [
      "00:00:06 #34 [Debug] 1\n",
      "00:00:06 #35 [Debug] 2\n",
      "00:00:06 #36 [Debug] 3\n",
      "00:00:06 #37 [Debug] _1\n",
      "00:00:06 #38 [Debug] _2\n",
      "00:00:06 #39 [Debug] 4\n",
      "00:00:06 #40 [Debug] 5\n",
      "00:00:06 #41 [Debug] waitForFileAccess / path: test2.txt / ex: System.IO.IOException: The process cannot access the file '/tmp/!dotnet-repl/20240311-1609-1182-8290-8ff027ccf5e5/test2.txt' because it is being used by another process.\n",
      "00:00:08 #42 [Debug] waitForFileAccess / path: test2.txt / ex: System.IO.IOException: The process cannot access the file '/tmp/!dotnet-repl/20240311-1609-1182-8290-8ff027ccf5e5/test2.txt' because it is being used by another process.\n",
      "00:00:08 #43 [Debug] _3\n",
      "00:00:08 #44 [Debug] 6\n",
      "00:00:08 #45 [Debug] 7\n",
      "00:00:08 #46 [Debug] 8\n",
      "0\n",
      "0\n",
      "0\n",
      "167\n",
      "167\n",
      "167\n",
      "0\n",
      "True\n"
     ]
    }
   ],
   "source": [
    "//// test\n",
    "\n",
    "let tempFolder = createTempDirectory ()\n",
    "let path = tempFolder </> \"test.txt\"\n",
    "let newPath = tempFolder </> \"test2.txt\"\n",
    "\n",
    "let inline lockFile () = async {\n",
    "    trace Debug (fun () -> \"_1\") getLocals\n",
    "    use _ = new System.IO.FileStream (\n",
    "        path,\n",
    "        System.IO.FileMode.Open,\n",
    "        System.IO.FileAccess.ReadWrite,\n",
    "        System.IO.FileShare.None\n",
    "    )\n",
    "    trace Debug (fun () -> \"_2\") getLocals\n",
    "    do! Async.Sleep 2000\n",
    "    trace Debug (fun () -> \"_3\") getLocals\n",
    "}\n",
    "\n",
    "async {\n",
    "    trace Debug (fun () -> \"1\") getLocals\n",
    "    do! \"0\" |> writeAllTextAsync path\n",
    "    trace Debug (fun () -> \"2\") getLocals\n",
    "    let! child = lockFile () |> Async.StartChild\n",
    "    trace Debug (fun () -> \"3\") getLocals\n",
    "    do! Async.Sleep 1\n",
    "    trace Debug (fun () -> \"4\") getLocals\n",
    "    let! retries1 = path |> moveFileAsync newPath\n",
    "    trace Debug (fun () -> \"5\") getLocals\n",
    "    let! retries2 = newPath |> waitForFileAccess None\n",
    "    trace Debug (fun () -> \"6\") getLocals\n",
    "    let! text = newPath |> readAllTextAsync\n",
    "    trace Debug (fun () -> \"7\") getLocals\n",
    "    do! child\n",
    "    trace Debug (fun () -> \"8\") getLocals\n",
    "    return retries1, retries2, text\n",
    "}\n",
    "|> Async.runWithTimeout 3000\n",
    "|> function\n",
    "    | Some (retries1, retries2, text) ->\n",
    "        retries1\n",
    "        |> _isBetween\n",
    "            (if Runtime.isWindows () then 100 else 0)\n",
    "            (if Runtime.isWindows () then 150 else 0)\n",
    "\n",
    "        retries2\n",
    "        |> _isBetween\n",
    "            (if Runtime.isWindows () then 0 else 100)\n",
    "            (if Runtime.isWindows () then 0 else 200)\n",
    "\n",
    "        text |> _equal \"0\"\n",
    "\n",
    "        true\n",
    "    | _ -> false\n",
    "|> _equal true"
   ]
  },
  {
   "cell_type": "markdown",
   "metadata": {},
   "source": [
    "## watchDirectory"
   ]
  },
  {
   "cell_type": "code",
   "execution_count": null,
   "metadata": {
    "dotnet_interactive": {
     "language": "fsharp"
    },
    "polyglot_notebook": {
     "kernelName": "fsharp"
    }
   },
   "outputs": [],
   "source": [
    "[<RequireQualifiedAccess>]\n",
    "type FileSystemChangeType =\n",
    "    | Failure\n",
    "    | Changed\n",
    "    | Created\n",
    "    | Deleted\n",
    "    | Renamed\n",
    "\n",
    "[<RequireQualifiedAccess>]\n",
    "type FileSystemChange =\n",
    "    | Failure of exn: exn\n",
    "    | Changed of path: string * content: string option\n",
    "    | Created of path: string * content: string option\n",
    "    | Deleted of path: string\n",
    "    | Renamed of oldPath: string * (string * string option)\n",
    "\n",
    "\n",
    "let inline watchDirectoryWithFilter filter shouldReadContent path =\n",
    "    let fullPath = path |> System.IO.Path.GetFullPath\n",
    "    let getLocals () = $\"filter: {filter} / {getLocals ()}\"\n",
    "\n",
    "    let watcher =\n",
    "        new System.IO.FileSystemWatcher (\n",
    "            Path = fullPath,\n",
    "            NotifyFilter = filter,\n",
    "            EnableRaisingEvents = true,\n",
    "            IncludeSubdirectories = true\n",
    "        )\n",
    "\n",
    "    let inline getEventPath (path : string) =\n",
    "        path |> String.trim |> String.replace fullPath \"\" |> String.trimStart [| '/'; '\\\\' |]\n",
    "\n",
    "    let inline ticks () =\n",
    "        System.DateTime.UtcNow.Ticks\n",
    "\n",
    "    let changedStream =\n",
    "        AsyncSeq.subscribeEvent\n",
    "            watcher.Changed\n",
    "            (fun event ->\n",
    "                ticks (),\n",
    "                [ FileSystemChange.Changed (getEventPath event.FullPath, None) ]\n",
    "            )\n",
    "\n",
    "    let deletedStream =\n",
    "        AsyncSeq.subscribeEvent\n",
    "            watcher.Deleted\n",
    "            (fun event ->\n",
    "                ticks (),\n",
    "                [ FileSystemChange.Deleted (getEventPath event.FullPath) ]\n",
    "            )\n",
    "\n",
    "    let createdStream =\n",
    "        AsyncSeq.subscribeEvent\n",
    "            watcher.Created\n",
    "            (fun event ->\n",
    "                let path = getEventPath event.FullPath\n",
    "                ticks (), [\n",
    "                    FileSystemChange.Created (path, None)\n",
    "                    if Runtime.isWindows () then\n",
    "                        FileSystemChange.Changed (path, None)\n",
    "                ])\n",
    "\n",
    "    let renamedStream =\n",
    "        AsyncSeq.subscribeEvent\n",
    "            watcher.Renamed\n",
    "            (fun event ->\n",
    "                ticks (), [\n",
    "                    FileSystemChange.Renamed (\n",
    "                        getEventPath event.OldFullPath,\n",
    "                        (getEventPath event.FullPath, None)\n",
    "                    )\n",
    "                ]\n",
    "            )\n",
    "\n",
    "    let failureStream =\n",
    "        AsyncSeq.subscribeEvent\n",
    "            watcher.Error\n",
    "            (fun event -> ticks (), [ FileSystemChange.Failure (event.GetException ()) ])\n",
    "\n",
    "    let stream =\n",
    "        [\n",
    "            changedStream\n",
    "            deletedStream\n",
    "            createdStream\n",
    "            renamedStream\n",
    "            failureStream\n",
    "        ]\n",
    "        |> FSharp.Control.AsyncSeq.mergeAll\n",
    "        |> FSharp.Control.AsyncSeq.map (fun (t, events) ->\n",
    "            events\n",
    "            |> List.fold\n",
    "                (fun (i, events) event ->\n",
    "                    i + 1L,\n",
    "                    (t + i, event) :: events)\n",
    "                (0L, [])\n",
    "            |> snd\n",
    "            |> List.rev\n",
    "        )\n",
    "        |> FSharp.Control.AsyncSeq.concatSeq\n",
    "        |> FSharp.Control.AsyncSeq.mapAsyncParallel (fun (t, event) -> async {\n",
    "            match shouldReadContent event, event with\n",
    "            | true, FileSystemChange.Changed (path, _) ->\n",
    "                do! Async.Sleep 5\n",
    "                let! content = fullPath </> path |> readAllTextRetryAsync\n",
    "                return t, FileSystemChange.Changed (path, content)\n",
    "            | true, FileSystemChange.Created (path, _) ->\n",
    "                do! Async.Sleep 5\n",
    "                let! content = fullPath </> path |> readAllTextRetryAsync\n",
    "                return t, FileSystemChange.Created (path, content)\n",
    "            | true, FileSystemChange.Renamed (oldPath, (newPath, _)) ->\n",
    "                let! content = fullPath </> newPath |> readAllTextRetryAsync\n",
    "                return t, FileSystemChange.Renamed (oldPath, (newPath, content))\n",
    "            | _ -> return t, event\n",
    "        })\n",
    "\n",
    "    let disposable =\n",
    "        newDisposable (fun () ->\n",
    "            trace Debug (fun () -> \"watchWithFilter / Disposing watch stream\") getLocals\n",
    "            watcher.EnableRaisingEvents <- false\n",
    "            watcher.Dispose ()\n",
    "        )\n",
    "\n",
    "    stream, disposable\n",
    "\n",
    "let inline watchDirectory path =\n",
    "    watchDirectoryWithFilter\n",
    "        (System.IO.NotifyFilters.FileName\n",
    "        // ||| System.IO.NotifyFilters.DirectoryName\n",
    "        // ||| System.IO.NotifyFilters.Attributes\n",
    "        //// ||| System.IO.NotifyFilters.Size\n",
    "        ||| System.IO.NotifyFilters.LastWrite\n",
    "        //// ||| System.IO.NotifyFilters.LastAccess\n",
    "        // ||| System.IO.NotifyFilters.CreationTime\n",
    "        // ||| System.IO.NotifyFilters.Security\n",
    "        )\n",
    "        path"
   ]
  },
  {
   "cell_type": "markdown",
   "metadata": {},
   "source": [
    "### testEventsRaw (test)"
   ]
  },
  {
   "cell_type": "code",
   "execution_count": null,
   "metadata": {
    "dotnet_interactive": {
     "language": "fsharp"
    },
    "polyglot_notebook": {
     "kernelName": "fsharp"
    }
   },
   "outputs": [],
   "source": [
    "//// test\n",
    "\n",
    "let inline testEventsRaw\n",
    "    (watchFn : (_ -> bool) -> string -> FSharp.Control.AsyncSeq<int64 * FileSystemChange> * IDisposable)\n",
    "    write\n",
    "    =\n",
    "    let tempDirectory = createTempDirectory ()\n",
    "    let stream, disposable = watchFn (fun _ -> true) tempDirectory\n",
    "\n",
    "    let events = System.Collections.Concurrent.ConcurrentBag ()\n",
    "\n",
    "    let inline iter () =\n",
    "        stream\n",
    "        |> FSharp.Control.AsyncSeq.iterAsyncParallel (fun event -> async { events.Add event })\n",
    "\n",
    "    let run = async {\n",
    "        let! _ = iter () |> Async.StartChild\n",
    "        do! Async.Sleep 250\n",
    "        return! write tempDirectory\n",
    "    }\n",
    "\n",
    "    try\n",
    "        run\n",
    "        |> Async.runWithTimeout 60000\n",
    "        |> _equal (Some ())\n",
    "    finally\n",
    "        disposable.Dispose ()\n",
    "        deleteDirectoryAsync tempDirectory |> Async.Ignore |> Async.RunSynchronously\n",
    "\n",
    "    let eventsLog =\n",
    "        events\n",
    "        |> Seq.toList\n",
    "        |> List.sortBy fst\n",
    "        |> List.fold\n",
    "            (fun (prev, acc) (ticks, event) ->\n",
    "                ticks, (ticks, (if prev = 0L then 0L else ticks - prev), event) :: acc\n",
    "            )\n",
    "            (0L, [])\n",
    "        |> snd\n",
    "        |> List.rev\n",
    "        |> List.map (fun (diff, n, event) ->\n",
    "            let text = $\"{n} / {diff} / {event}\"\n",
    "            if text |> String.length <= 100\n",
    "            then text\n",
    "            else text |> String.substring 0 100 |> String.replace \"\\n\" \"\"\n",
    "        )\n",
    "        |> String.concat \"\\n\"\n",
    "    let getLocals () = $\"eventsLog: \\n{eventsLog} / {getLocals ()}\"\n",
    "    trace Debug (fun () -> \"testEventsRaw\") getLocals\n",
    "\n",
    "    events\n",
    "    |> Seq.toList\n",
    "    |> List.sortBy fst\n",
    "    |> List.map snd\n",
    "    |> List.fold\n",
    "        (fun acc event ->\n",
    "            match acc, event with\n",
    "            | FileSystemChange.Changed (lastPath, Some lastContent) as lastEvent :: acc,\n",
    "                FileSystemChange.Changed (path, Some content)\n",
    "                when lastPath = path && content |> String.startsWith lastContent\n",
    "                ->\n",
    "                event :: acc\n",
    "            | _ -> event :: acc\n",
    "        )\n",
    "        []\n",
    "    |> List.rev"
   ]
  },
  {
   "cell_type": "markdown",
   "metadata": {},
   "source": [
    "#### fast (test)"
   ]
  },
  {
   "cell_type": "code",
   "execution_count": null,
   "metadata": {
    "dotnet_interactive": {
     "language": "fsharp"
    },
    "polyglot_notebook": {
     "kernelName": "fsharp"
    }
   },
   "outputs": [
    {
     "name": "stdout",
     "output_type": "stream",
     "text": [
      "FSharpOption<Unit>\n",
      "      Value: <null>\n",
      "00:00:13 #47 [Debug] watchWithFilter / Disposing watch stream / filter: FileName, LastWrite\n",
      "00:00:13 #48 [Debug] testEventsRaw / eventsLog: \n",
      "0 / 638457701570756750 / Created (\"file1.txt\", Some \"a1\")\n",
      "12256 / 638457701570769006 / Changed (\"file1.txt\", Some \"a1\")\n",
      "1951 / 638457701570770957 / Created (\"file2.txt\", Some \"a2\")\n",
      "49 / 638457701570771006 / Changed (\"file2.txt\", Some \"a2\")\n",
      "2522292 / 638457701573293298 / Changed (\"file1.txt\", Some \"b1\")\n",
      "507 / 638457701573293805 / Changed (\"file1.txt\", Some \"b1\")\n",
      "6230 / 638457701573300035 / Changed (\"file2.txt\", Some \"b2\")\n",
      "205 / 638457701573300240 / Changed (\"file2.txt\", Some \"b2\")\n",
      "2556243 / 638457701575856483 / Renamed (\"file1.txt\", (\"file_1.txt\", Some \"b1\"))\n",
      "1176 / 638457701575857659 / Renamed (\"file2.txt\", (\"file_2.txt\", Some \"b2\"))\n",
      "2520361 / 638457701578378020 / Changed (\"file_1.txt\", Some \"c1\")\n",
      "319 / 638457701578378339 / Changed (\"file_1.txt\", Some \"c1\")\n",
      "5174 / 638457701578383513 / Changed (\"file_2.txt\", Some \"c2\")\n",
      "288 / 638457701578383801 / Changed (\"file_2.txt\", Some \"c2\")\n",
      "2551622 / 638457701580935423 / Deleted \"file_1.txt\"\n",
      "1084 / 638457701580936507 / Deleted \"file_2.txt\"\n",
      "FSharpList<FileSystemChange>\n",
      "      - path: file1.txt\n",
      "        content: FSharpOption<String>\n",
      "          Value: a1\n",
      "        IsFailure: False\n",
      "        IsChanged: False\n",
      "        IsCreated: True\n",
      "        IsDeleted: False\n",
      "        IsRenamed: False\n",
      "      - path: file1.txt\n",
      "        content: FSharpOption<String>\n",
      "          Value: a1\n",
      "        IsFailure: False\n",
      "        IsChanged: True\n",
      "        IsCreated: False\n",
      "        IsDeleted: False\n",
      "        IsRenamed: False\n",
      "      - path: file2.txt\n",
      "        content: FSharpOption<String>\n",
      "          Value: a2\n",
      "        IsFailure: False\n",
      "        IsChanged: False\n",
      "        IsCreated: True\n",
      "        IsDeleted: False\n",
      "        IsRenamed: False\n",
      "      - path: file2.txt\n",
      "        content: FSharpOption<String>\n",
      "          Value: a2\n",
      "        IsFailure: False\n",
      "        IsChanged: True\n",
      "        IsCreated: False\n",
      "        IsDeleted: False\n",
      "        IsRenamed: False\n",
      "      - path: file1.txt\n",
      "        content: FSharpOption<String>\n",
      "          Value: b1\n",
      "        IsFailure: False\n",
      "        IsChanged: True\n",
      "        IsCreated: False\n",
      "        IsDeleted: False\n",
      "        IsRenamed: False\n",
      "      - path: file2.txt\n",
      "        content: FSharpOption<String>\n",
      "          Value: b2\n",
      "        IsFailure: False\n",
      "        IsChanged: True\n",
      "        IsCreated: False\n",
      "        IsDeleted: False\n",
      "        IsRenamed: False\n",
      "      - oldPath: file1.txt\n",
      "        Item2:         - file_1.txt\n",
      "        - FSharpOption<String>\n",
      "            Value: b1\n",
      "      - IsFailure: False\n",
      "        IsChanged: False\n",
      "        IsCreated: False\n",
      "        IsDeleted: False\n",
      "        IsRenamed: True\n",
      "      - oldPath: file2.txt\n",
      "        Item2:         - file_2.txt\n",
      "        - FSharpOption<String>\n",
      "            Value: b2\n",
      "      - IsFailure: False\n",
      "        IsChanged: False\n",
      "        IsCreated: False\n",
      "        IsDeleted: False\n",
      "        IsRenamed: True\n",
      "      - path: file_1.txt\n",
      "        content: FSharpOption<String>\n",
      "          Value: c1\n",
      "        IsFailure: False\n",
      "        IsChanged: True\n",
      "        IsCreated: False\n",
      "        IsDeleted: False\n",
      "        IsRenamed: False\n",
      "      - path: file_2.txt\n",
      "        content: FSharpOption<String>\n",
      "          Value: c2\n",
      "        IsFailure: False\n",
      "        IsChanged: True\n",
      "        IsCreated: False\n",
      "        IsDeleted: False\n",
      "        IsRenamed: False\n",
      "      - path: file_1.txt\n",
      "        IsFailure: False\n",
      "        IsChanged: False\n",
      "        IsCreated: False\n",
      "        IsDeleted: True\n",
      "        IsRenamed: False\n",
      "      - path: file_2.txt\n",
      "        IsFailure: False\n",
      "        IsChanged: False\n",
      "        IsCreated: False\n",
      "        IsDeleted: True\n",
      "        IsRenamed: False\n",
      "FSharpOption<Unit>\n",
      "      Value: <null>\n"
     ]
    }
   ],
   "source": [
    "//// test\n",
    "\n",
    "let inline write path = async {\n",
    "    let n = 2\n",
    "\n",
    "    for i = 1 to n do\n",
    "        do! $\"a{i}\" |> writeAllTextAsync (path </> $\"file{i}.txt\")\n",
    "\n",
    "    do! Async.Sleep 250\n",
    "\n",
    "    for i = 1 to n do\n",
    "        do! $\"b{i}\" |> writeAllTextAsync (path </> $\"file{i}.txt\")\n",
    "\n",
    "    do! Async.Sleep 250\n",
    "\n",
    "    for i = 1 to n do\n",
    "        do! path </> $\"file{i}.txt\" |> moveFileAsync (path </> $\"file_{i}.txt\") |> Async.Ignore\n",
    "\n",
    "    do! Async.Sleep 250\n",
    "\n",
    "    for i = 1 to n do\n",
    "        do! $\"c{i}\" |> writeAllTextAsync (path </> $\"file_{i}.txt\")\n",
    "\n",
    "    do! Async.Sleep 250\n",
    "\n",
    "    for i = 1 to n do\n",
    "        do! deleteFileAsync (path </> $\"file_{i}.txt\") |> Async.Ignore\n",
    "\n",
    "    do! Async.Sleep 250\n",
    "}\n",
    "\n",
    "let inline run () =\n",
    "    let events = testEventsRaw watchDirectory write\n",
    "\n",
    "    events\n",
    "    |> _sequenceEqual [\n",
    "        FileSystemChange.Created (\"file1.txt\", Some \"a1\")\n",
    "        FileSystemChange.Changed (\"file1.txt\", Some \"a1\")\n",
    "        FileSystemChange.Created (\"file2.txt\", Some \"a2\")\n",
    "        FileSystemChange.Changed (\"file2.txt\", Some \"a2\")\n",
    "\n",
    "        FileSystemChange.Changed (\"file1.txt\", Some \"b1\")\n",
    "        FileSystemChange.Changed (\"file2.txt\", Some \"b2\")\n",
    "\n",
    "        FileSystemChange.Renamed (\"file1.txt\", (\"file_1.txt\", Some \"b1\"))\n",
    "        FileSystemChange.Renamed (\"file2.txt\", (\"file_2.txt\", Some \"b2\"))\n",
    "\n",
    "        FileSystemChange.Changed (\"file_1.txt\", Some \"c1\")\n",
    "        FileSystemChange.Changed (\"file_2.txt\", Some \"c2\")\n",
    "\n",
    "        FileSystemChange.Deleted \"file_1.txt\"\n",
    "        FileSystemChange.Deleted \"file_2.txt\"\n",
    "    ]\n",
    "\n",
    "run\n",
    "|> retryFn 3\n",
    "|> _equal (Some ())"
   ]
  },
  {
   "cell_type": "markdown",
   "metadata": {},
   "source": [
    "#### slow (test)"
   ]
  },
  {
   "cell_type": "code",
   "execution_count": null,
   "metadata": {
    "dotnet_interactive": {
     "language": "fsharp"
    },
    "polyglot_notebook": {
     "kernelName": "fsharp"
    }
   },
   "outputs": [
    {
     "name": "stdout",
     "output_type": "stream",
     "text": [
      "FSharpOption<Unit>\n",
      "      Value: <null>\n",
      "00:00:23 #49 [Debug] watchWithFilter / Disposing watch stream / filter: FileName, LastWrite\n",
      "00:00:25 #50 [Debug] testEventsRaw / eventsLog: \n",
      "0 / 638457701611204455 / Created  (\"file1.txt\",   Some     \"1111111111111111111111111111111111111\n",
      "2369 / 638457701611206824 / Changed  (\"file1.txt\",   Some     \"1111111111111111111111111111111111\n",
      "291 / 638457701611207115 / Changed  (\"file1.txt\",   Some     \"11111111111111111111111111111111111\n",
      "310 / 638457701611207425 / Changed  (\"file1.txt\",   Some     \"11111111111111111111111111111111111\n",
      "182 / 638457701611207607 / Changed  (\"file1.txt\",   Some     \"11111111111111111111111111111111111\n",
      "243 / 638457701611207850 / Changed  (\"file1.txt\",   Some     \"11111111111111111111111111111111111\n",
      "281 / 638457701611208131 / Changed  (\"file1.txt\",   Some     \"11111111111111111111111111111111111\n",
      "231 / 638457701611208362 / Changed  (\"file1.txt\",   Some     \"11111111111111111111111111111111111\n",
      "230 / 638457701611208592 / Changed  (\"file1.txt\",   Some     \"11111111111111111111111111111111111\n",
      "245 / 638457701611208837 / Changed  (\"file1.txt\",   Some     \"11111111111111111111111111111111111\n",
      "284 / 638457701611209121 / Changed  (\"file1.txt\",   Some     \"11111111111111111111111111111111111\n",
      "248 / 638457701611209369 / Changed  (\"file1.txt\",   Some     \"11111111111111111111111111111111111\n",
      "263 / 638457701611209632 / Changed  (\"file1.txt\",   Some     \"11111111111111111111111111111111111\n",
      "226 / 638457701611209858 / Changed  (\"file1.txt\",   Some     \"11111111111111111111111111111111111\n",
      "248 / 638457701611210106 / Changed  (\"file1.txt\",   Some     \"11111111111111111111111111111111111\n",
      "239 / 638457701611210345 / Changed  (\"file1.txt\",   Some     \"11111111111111111111111111111111111\n",
      "364 / 638457701611210709 / Changed  (\"file1.txt\",   Some     \"11111111111111111111111111111111111\n",
      "167 / 638457701611210876 / Changed  (\"file1.txt\",   Some     \"11111111111111111111111111111111111\n",
      "92 / 638457701611210968 / Changed  (\"file1.txt\",   Some     \"111111111111111111111111111111111111\n",
      "9649 / 638457701611220617 / Changed  (\"file1.txt\",   Some     \"1111111111111111111111111111111111\n",
      "77 / 638457701611220694 / Changed  (\"file1.txt\",   Some     \"111111111111111111111111111111111111\n",
      "243 / 638457701611220937 / Changed  (\"file1.txt\",   Some     \"11111111111111111111111111111111111\n",
      "186 / 638457701611221123 / Changed  (\"file1.txt\",   Some     \"11111111111111111111111111111111111\n",
      "1123 / 638457701611222246 / Changed  (\"file1.txt\",   Some     \"1111111111111111111111111111111111\n",
      "1854 / 638457701611224100 / Changed  (\"file1.txt\",   Some     \"1111111111111111111111111111111111\n",
      "78 / 638457701611224178 / Changed  (\"file1.txt\",   Some     \"111111111111111111111111111111111111\n",
      "265 / 638457701611224443 / Changed  (\"file1.txt\",   Some     \"11111111111111111111111111111111111\n",
      "187 / 638457701611224630 / Changed  (\"file1.txt\",   Some     \"11111111111111111111111111111111111\n",
      "279 / 638457701611224909 / Changed  (\"file1.txt\",   Some     \"11111111111111111111111111111111111\n",
      "257 / 638457701611225166 / Changed  (\"file1.txt\",   Some     \"11111111111111111111111111111111111\n",
      "175 / 638457701611225341 / Changed  (\"file1.txt\",   Some     \"11111111111111111111111111111111111\n",
      "244 / 638457701611225585 / Changed  (\"file1.txt\",   Some     \"11111111111111111111111111111111111\n",
      "48 / 638457701611225633 / Changed  (\"file1.txt\",   Some     \"111111111111111111111111111111111111\n",
      "242 / 638457701611225875 / Changed  (\"file1.txt\",   Some     \"11111111111111111111111111111111111\n",
      "45 / 638457701611225920 / Changed  (\"file1.txt\",   Some     \"111111111111111111111111111111111111\n",
      "29214 / 638457701611255134 / Created  (\"file2.txt\",   Some     \"222222222222222222222222222222222\n",
      "167 / 638457701611255301 / Changed  (\"file2.txt\",   Some     \"22222222222222222222222222222222222\n",
      "334 / 638457701611255635 / Changed  (\"file2.txt\",   Some     \"22222222222222222222222222222222222\n",
      "364 / 638457701611255999 / Changed  (\"file2.txt\",   Some     \"22222222222222222222222222222222222\n",
      "399 / 638457701611256398 / Changed  (\"file2.txt\",   Some     \"22222222222222222222222222222222222\n",
      "168 / 638457701611256566 / Changed  (\"file2.txt\",   Some     \"22222222222222222222222222222222222\n",
      "939 / 638457701611257505 / Changed  (\"file2.txt\",   Some     \"22222222222222222222222222222222222\n",
      "71 / 638457701611257576 / Changed  (\"file2.txt\",   Some     \"222222222222222222222222222222222222\n",
      "128 / 638457701611257704 / Changed  (\"file2.txt\",   Some     \"22222222222222222222222222222222222\n",
      "169 / 638457701611257873 / Changed  (\"file2.txt\",   Some     \"22222222222222222222222222222222222\n",
      "226 / 638457701611258099 / Changed  (\"file2.txt\",   Some     \"22222222222222222222222222222222222\n",
      "128 / 638457701611258227 / Changed  (\"file2.txt\",   Some     \"22222222222222222222222222222222222\n",
      "157 / 638457701611258384 / Changed  (\"file2.txt\",   Some     \"22222222222222222222222222222222222\n",
      "742 / 638457701611259126 / Changed  (\"file2.txt\",   Some     \"22222222222222222222222222222222222\n",
      "196 / 638457701611259322 / Changed  (\"file2.txt\",   Some     \"22222222222222222222222222222222222\n",
      "164 / 638457701611259486 / Changed  (\"file2.txt\",   Some     \"22222222222222222222222222222222222\n",
      "247 / 638457701611259733 / Changed  (\"file2.txt\",   Some     \"22222222222222222222222222222222222\n",
      "183 / 638457701611259916 / Changed  (\"file2.txt\",   Some     \"22222222222222222222222222222222222\n",
      "201 / 638457701611260117 / Changed  (\"file2.txt\",   Some     \"22222222222222222222222222222222222\n",
      "161 / 638457701611260278 / Changed  (\"file2.txt\",   Some     \"22222222222222222222222222222222222\n",
      "150 / 638457701611260428 / Changed  (\"file2.txt\",   Some     \"22222222222222222222222222222222222\n",
      "188 / 638457701611260616 / Changed  (\"file2.txt\",   Some     \"22222222222222222222222222222222222\n",
      "196 / 638457701611260812 / Changed  (\"file2.txt\",   Some     \"22222222222222222222222222222222222\n",
      "217 / 638457701611261029 / Changed  (\"file2.txt\",   Some     \"22222222222222222222222222222222222\n",
      "255 / 638457701611261284 / Changed  (\"file2.txt\",   Some     \"22222222222222222222222222222222222\n",
      "343 / 638457701611261627 / Changed  (\"file2.txt\",   Some     \"22222222222222222222222222222222222\n",
      "172 / 638457701611261799 / Changed  (\"file2.txt\",   Some     \"22222222222222222222222222222222222\n",
      "161 / 638457701611261960 / Changed  (\"file2.txt\",   Some     \"22222222222222222222222222222222222\n",
      "187 / 638457701611262147 / Changed  (\"file2.txt\",   Some     \"22222222222222222222222222222222222\n",
      "174 / 638457701611262321 / Changed  (\"file2.txt\",   Some     \"22222222222222222222222222222222222\n",
      "155 / 638457701611262476 / Changed  (\"file2.txt\",   Some     \"22222222222222222222222222222222222\n",
      "159 / 638457701611262635 / Changed  (\"file2.txt\",   Some     \"22222222222222222222222222222222222\n",
      "173 / 638457701611262808 / Changed  (\"file2.txt\",   Some     \"22222222222222222222222222222222222\n",
      "148 / 638457701611262956 / Changed  (\"file2.txt\",   Some     \"22222222222222222222222222222222222\n",
      "231 / 638457701611263187 / Changed  (\"file2.txt\",   Some     \"22222222222222222222222222222222222\n",
      "127 / 638457701611263314 / Changed  (\"file2.txt\",   Some     \"22222222222222222222222222222222222\n",
      "158 / 638457701611263472 / Changed  (\"file2.txt\",   Some     \"22222222222222222222222222222222222\n",
      "254 / 638457701611263726 / Changed  (\"file2.txt\",   Some     \"22222222222222222222222222222222222\n",
      "208 / 638457701611263934 / Changed  (\"file2.txt\",   Some     \"22222222222222222222222222222222222\n",
      "176 / 638457701611264110 / Changed  (\"file2.txt\",   Some     \"22222222222222222222222222222222222\n",
      "185 / 638457701611264295 / Changed  (\"file2.txt\",   Some     \"22222222222222222222222222222222222\n",
      "179 / 638457701611264474 / Changed  (\"file2.txt\",   Some     \"22222222222222222222222222222222222\n",
      "183 / 638457701611264657 / Changed  (\"file2.txt\",   Some     \"22222222222222222222222222222222222\n",
      "197 / 638457701611264854 / Changed  (\"file2.txt\",   Some     \"22222222222222222222222222222222222\n",
      "123 / 638457701611264977 / Changed  (\"file2.txt\",   Some     \"22222222222222222222222222222222222\n",
      "165 / 638457701611265142 / Changed  (\"file2.txt\",   Some     \"22222222222222222222222222222222222\n",
      "708 / 638457701611265850 / Changed  (\"file2.txt\",   Some     \"22222222222222222222222222222222222\n",
      "55 / 638457701611265905 / Changed  (\"file2.txt\",   Some     \"222222222222222222222222222222222222\n",
      "135 / 638457701611266040 / Changed  (\"file2.txt\",   Some     \"22222222222222222222222222222222222\n",
      "234 / 638457701611266274 / Changed  (\"file2.txt\",   Some     \"22222222222222222222222222222222222\n",
      "210 / 638457701611266484 / Changed  (\"file2.txt\",   Some     \"22222222222222222222222222222222222\n",
      "177 / 638457701611266661 / Changed  (\"file2.txt\",   Some     \"22222222222222222222222222222222222\n",
      "701 / 638457701611267362 / Changed  (\"file2.txt\",   Some     \"22222222222222222222222222222222222\n",
      "44 / 638457701611267406 / Changed  (\"file2.txt\",   Some     \"222222222222222222222222222222222222\n",
      "201 / 638457701611267607 / Changed  (\"file2.txt\",   Some     \"22222222222222222222222222222222222\n",
      "208 / 638457701611267815 / Changed  (\"file2.txt\",   Some     \"22222222222222222222222222222222222\n",
      "159 / 638457701611267974 / Changed  (\"file2.txt\",   Some     \"22222222222222222222222222222222222\n",
      "176 / 638457701611268150 / Changed  (\"file2.txt\",   Some     \"22222222222222222222222222222222222\n",
      "239 / 638457701611268389 / Changed  (\"file2.txt\",   Some     \"22222222222222222222222222222222222\n",
      "187 / 638457701611268576 / Changed  (\"file2.txt\",   Some     \"22222222222222222222222222222222222\n",
      "182 / 638457701611268758 / Changed  (\"file2.txt\",   Some     \"22222222222222222222222222222222222\n",
      "216 / 638457701611268974 / Changed  (\"file2.txt\",   Some     \"22222222222222222222222222222222222\n",
      "196 / 638457701611269170 / Changed  (\"file2.txt\",   Some     \"22222222222222222222222222222222222\n",
      "160 / 638457701611269330 / Changed  (\"file2.txt\",   Some     \"22222222222222222222222222222222222\n",
      "204 / 638457701611269534 / Changed  (\"file2.txt\",   Some     \"22222222222222222222222222222222222\n",
      "715 / 638457701611270249 / Changed  (\"file2.txt\",   Some     \"22222222222222222222222222222222222\n",
      "57 / 638457701611270306 / Changed  (\"file2.txt\",   Some     \"222222222222222222222222222222222222\n",
      "200 / 638457701611270506 / Changed  (\"file2.txt\",   Some     \"22222222222222222222222222222222222\n",
      "167 / 638457701611270673 / Changed  (\"file2.txt\",   Some     \"22222222222222222222222222222222222\n",
      "196 / 638457701611270869 / Changed  (\"file2.txt\",   Some     \"22222222222222222222222222222222222\n",
      "188 / 638457701611271057 / Changed  (\"file2.txt\",   Some     \"22222222222222222222222222222222222\n",
      "188 / 638457701611271245 / Changed  (\"file2.txt\",   Some     \"22222222222222222222222222222222222\n",
      "160 / 638457701611271405 / Changed  (\"file2.txt\",   Some     \"22222222222222222222222222222222222\n",
      "180 / 638457701611271585 / Changed  (\"file2.txt\",   Some     \"22222222222222222222222222222222222\n",
      "183 / 638457701611271768 / Changed  (\"file2.txt\",   Some     \"22222222222222222222222222222222222\n",
      "168 / 638457701611271936 / Changed  (\"file2.txt\",   Some     \"22222222222222222222222222222222222\n",
      "158 / 638457701611272094 / Changed  (\"file2.txt\",   Some     \"22222222222222222222222222222222222\n",
      "176 / 638457701611272270 / Changed  (\"file2.txt\",   Some     \"22222222222222222222222222222222222\n",
      "735 / 638457701611273005 / Changed  (\"file2.txt\",   Some     \"22222222222222222222222222222222222\n",
      "62 / 638457701611273067 / Changed  (\"file2.txt\",   Some     \"222222222222222222222222222222222222\n",
      "724 / 638457701611273791 / Changed  (\"file2.txt\",   Some     \"22222222222222222222222222222222222\n",
      "165 / 638457701611273956 / Changed  (\"file2.txt\",   Some     \"22222222222222222222222222222222222\n",
      "143 / 638457701611274099 / Changed  (\"file2.txt\",   Some     \"22222222222222222222222222222222222\n",
      "237 / 638457701611274336 / Changed  (\"file2.txt\",   Some     \"22222222222222222222222222222222222\n",
      "206 / 638457701611274542 / Changed  (\"file2.txt\",   Some     \"22222222222222222222222222222222222\n",
      "232 / 638457701611274774 / Changed  (\"file2.txt\",   Some     \"22222222222222222222222222222222222\n",
      "125 / 638457701611274899 / Changed  (\"file2.txt\",   Some     \"22222222222222222222222222222222222\n",
      "172 / 638457701611275071 / Changed  (\"file2.txt\",   Some     \"22222222222222222222222222222222222\n",
      "188 / 638457701611275259 / Changed  (\"file2.txt\",   Some     \"22222222222222222222222222222222222\n",
      "173 / 638457701611275432 / Changed  (\"file2.txt\",   Some     \"22222222222222222222222222222222222\n",
      "636 / 638457701611276068 / Changed  (\"file2.txt\",   Some     \"22222222222222222222222222222222222\n",
      "117 / 638457701611276185 / Changed  (\"file2.txt\",   Some     \"22222222222222222222222222222222222\n",
      "179 / 638457701611276364 / Changed  (\"file2.txt\",   Some     \"22222222222222222222222222222222222\n",
      "181 / 638457701611276545 / Changed  (\"file2.txt\",   Some     \"22222222222222222222222222222222222\n",
      "159 / 638457701611276704 / Changed  (\"file2.txt\",   Some     \"22222222222222222222222222222222222\n",
      "591 / 638457701611277295 / Changed  (\"file2.txt\",   Some     \"22222222222222222222222222222222222\n",
      "147 / 638457701611277442 / Changed  (\"file2.txt\",   Some     \"22222222222222222222222222222222222\n",
      "174 / 638457701611277616 / Changed  (\"file2.txt\",   Some     \"22222222222222222222222222222222222\n",
      "178 / 638457701611277794 / Changed  (\"file2.txt\",   Some     \"22222222222222222222222222222222222\n",
      "120 / 638457701611277914 / Changed  (\"file2.txt\",   Some     \"22222222222222222222222222222222222\n",
      "15055109 / 638457701626333023 / Changed  (\"file1.txt\",   Some     \"111111111111111111111111111111\n",
      "624 / 638457701626333647 / Changed  (\"file1.txt\",   Some     \"11111111111111111111111111111111111\n",
      "1558 / 638457701626335205 / Changed  (\"file1.txt\",   Some     \"1111111111111111111111111111111111\n",
      "98 / 638457701626335303 / Changed  (\"file1.txt\",   Some     \"111111111111111111111111111111111111\n",
      "212 / 638457701626335515 / Changed  (\"file1.txt\",   Some     \"11111111111111111111111111111111111\n",
      "268 / 638457701626335783 / Changed  (\"file1.txt\",   Some     \"11111111111111111111111111111111111\n",
      "50 / 638457701626335833 / Changed  (\"file1.txt\",   Some     \"111111111111111111111111111111111111\n",
      "185 / 638457701626336018 / Changed  (\"file1.txt\",   Some     \"11111111111111111111111111111111111\n",
      "242 / 638457701626336260 / Changed  (\"file1.txt\",   Some     \"11111111111111111111111111111111111\n",
      "172 / 638457701626336432 / Changed  (\"file1.txt\",   Some     \"11111111111111111111111111111111111\n",
      "106 / 638457701626336538 / Changed  (\"file1.txt\",   Some     \"11111111111111111111111111111111111\n",
      "170 / 638457701626336708 / Changed  (\"file1.txt\",   Some     \"11111111111111111111111111111111111\n",
      "42 / 638457701626336750 / Changed  (\"file1.txt\",   Some     \"111111111111111111111111111111111111\n",
      "264 / 638457701626337014 / Changed  (\"file1.txt\",   Some     \"11111111111111111111111111111111111\n",
      "626 / 638457701626337640 / Changed  (\"file1.txt\",   Some     \"11111111111111111111111111111111111\n",
      "63 / 638457701626337703 / Changed  (\"file1.txt\",   Some     \"111111111111111111111111111111111111\n",
      "191 / 638457701626337894 / Changed  (\"file1.txt\",   Some     \"11111111111111111111111111111111111\n",
      "149 / 638457701626338043 / Changed  (\"file1.txt\",   Some     \"11111111111111111111111111111111111\n",
      "214 / 638457701626338257 / Changed  (\"file1.txt\",   Some     \"11111111111111111111111111111111111\n",
      "127 / 638457701626338384 / Changed  (\"file1.txt\",   Some     \"11111111111111111111111111111111111\n",
      "23 / 638457701626338407 / Changed  (\"file1.txt\",   Some     \"111111111111111111111111111111111111\n",
      "299 / 638457701626338706 / Changed  (\"file1.txt\",   Some     \"11111111111111111111111111111111111\n",
      "56 / 638457701626338762 / Changed  (\"file1.txt\",   Some     \"111111111111111111111111111111111111\n",
      "208 / 638457701626338970 / Changed  (\"file1.txt\",   Some     \"11111111111111111111111111111111111\n",
      "171 / 638457701626339141 / Changed  (\"file1.txt\",   Some     \"11111111111111111111111111111111111\n",
      "367 / 638457701626339508 / Changed  (\"file1.txt\",   Some     \"11111111111111111111111111111111111\n",
      "366 / 638457701626339874 / Changed  (\"file1.txt\",   Some     \"11111111111111111111111111111111111\n",
      "54 / 638457701626339928 / Changed  (\"file1.txt\",   Some     \"111111111111111111111111111111111111\n",
      "198 / 638457701626340126 / Changed  (\"file1.txt\",   Some     \"11111111111111111111111111111111111\n",
      "295 / 638457701626340421 / Changed  (\"file1.txt\",   Some     \"11111111111111111111111111111111111\n",
      "140 / 638457701626340561 / Changed  (\"file1.txt\",   Some     \"11111111111111111111111111111111111\n",
      "144 / 638457701626340705 / Changed  (\"file1.txt\",   Some     \"11111111111111111111111111111111111\n",
      "190 / 638457701626340895 / Changed  (\"file1.txt\",   Some     \"11111111111111111111111111111111111\n",
      "47 / 638457701626340942 / Changed  (\"file1.txt\",   Some     \"111111111111111111111111111111111111\n",
      "183 / 638457701626341125 / Changed  (\"file1.txt\",   Some     \"11111111111111111111111111111111111\n",
      "422 / 638457701626341547 / Changed  (\"file1.txt\",   Some     \"11111111111111111111111111111111111\n",
      "250 / 638457701626341797 / Changed  (\"file1.txt\",   Some     \"11111111111111111111111111111111111\n",
      "47 / 638457701626341844 / Changed  (\"file1.txt\",   Some     \"111111111111111111111111111111111111\n",
      "275 / 638457701626342119 / Changed  (\"file1.txt\",   Some     \"11111111111111111111111111111111111\n",
      "56 / 638457701626342175 / Changed  (\"file1.txt\",   Some     \"111111111111111111111111111111111111\n",
      "176 / 638457701626342351 / Changed  (\"file1.txt\",   Some     \"11111111111111111111111111111111111\n",
      "168 / 638457701626342519 / Changed  (\"file1.txt\",   Some     \"11111111111111111111111111111111111\n",
      "156 / 638457701626342675 / Changed  (\"file1.txt\",   Some     \"11111111111111111111111111111111111\n",
      "113 / 638457701626342788 / Changed  (\"file1.txt\",   Some     \"11111111111111111111111111111111111\n",
      "181 / 638457701626342969 / Changed  (\"file1.txt\",   Some     \"11111111111111111111111111111111111\n",
      "46 / 638457701626343015 / Changed  (\"file1.txt\",   Some     \"111111111111111111111111111111111111\n",
      "354 / 638457701626343369 / Changed  (\"file1.txt\",   Some     \"11111111111111111111111111111111111\n",
      "191 / 638457701626343560 / Changed  (\"file1.txt\",   Some     \"11111111111111111111111111111111111\n",
      "410 / 638457701626343970 / Changed  (\"file1.txt\",   Some     \"11111111111111111111111111111111111\n",
      "214 / 638457701626344184 / Changed  (\"file1.txt\",   Some     \"11111111111111111111111111111111111\n",
      "47 / 638457701626344231 / Changed  (\"file1.txt\",   Some     \"111111111111111111111111111111111111\n",
      "255 / 638457701626344486 / Changed  (\"file1.txt\",   Some     \"11111111111111111111111111111111111\n",
      "41 / 638457701626344527 / Changed  (\"file1.txt\",   Some     \"111111111111111111111111111111111111\n",
      "283 / 638457701626344810 / Changed  (\"file1.txt\",   Some     \"11111111111111111111111111111111111\n",
      "131 / 638457701626344941 / Changed  (\"file1.txt\",   Some     \"11111111111111111111111111111111111\n",
      "257 / 638457701626345198 / Changed  (\"file1.txt\",   Some     \"11111111111111111111111111111111111\n",
      "56 / 638457701626345254 / Changed  (\"file1.txt\",   Some     \"111111111111111111111111111111111111\n",
      "157 / 638457701626345411 / Changed  (\"file1.txt\",   Some     \"11111111111111111111111111111111111\n",
      "178 / 638457701626345589 / Changed  (\"file1.txt\",   Some     \"11111111111111111111111111111111111\n",
      "133 / 638457701626345722 / Changed  (\"file1.txt\",   Some     \"11111111111111111111111111111111111\n",
      "241 / 638457701626345963 / Changed  (\"file1.txt\",   Some     \"11111111111111111111111111111111111\n",
      "45 / 638457701626346008 / Changed  (\"file1.txt\",   Some     \"111111111111111111111111111111111111\n",
      "242 / 638457701626346250 / Changed  (\"file1.txt\",   Some     \"11111111111111111111111111111111111\n",
      "38 / 638457701626346288 / Changed  (\"file1.txt\",   Some     \"111111111111111111111111111111111111\n",
      "263 / 638457701626346551 / Changed  (\"file1.txt\",   Some     \"11111111111111111111111111111111111\n",
      "153 / 638457701626346704 / Changed  (\"file1.txt\",   Some     \"11111111111111111111111111111111111\n",
      "154 / 638457701626346858 / Changed  (\"file1.txt\",   Some     \"11111111111111111111111111111111111\n",
      "96 / 638457701626346954 / Changed  (\"file1.txt\",   Some     \"111111111111111111111111111111111111\n",
      "238 / 638457701626347192 / Changed  (\"file1.txt\",   Some     \"11111111111111111111111111111111111\n",
      "233 / 638457701626347425 / Changed  (\"file1.txt\",   Some     \"11111111111111111111111111111111111\n",
      "98 / 638457701626347523 / Changed  (\"file1.txt\",   Some     \"111111111111111111111111111111111111\n",
      "215 / 638457701626347738 / Changed  (\"file1.txt\",   Some     \"11111111111111111111111111111111111\n",
      "96 / 638457701626347834 / Changed  (\"file1.txt\",   Some     \"111111111111111111111111111111111111\n",
      "234 / 638457701626348068 / Changed  (\"file1.txt\",   Some     \"11111111111111111111111111111111111\n",
      "144 / 638457701626348212 / Changed  (\"file1.txt\",   Some     \"11111111111111111111111111111111111\n",
      "124 / 638457701626348336 / Changed  (\"file1.txt\",   Some     \"11111111111111111111111111111111111\n",
      "291 / 638457701626348627 / Changed  (\"file1.txt\",   Some     \"11111111111111111111111111111111111\n",
      "45 / 638457701626348672 / Changed  (\"file1.txt\",   Some     \"111111111111111111111111111111111111\n",
      "157 / 638457701626348829 / Changed  (\"file1.txt\",   Some     \"11111111111111111111111111111111111\n",
      "146 / 638457701626348975 / Changed  (\"file1.txt\",   Some     \"11111111111111111111111111111111111\n",
      "126 / 638457701626349101 / Changed  (\"file1.txt\",   Some     \"11111111111111111111111111111111111\n",
      "242 / 638457701626349343 / Changed  (\"file1.txt\",   Some     \"11111111111111111111111111111111111\n",
      "41 / 638457701626349384 / Changed  (\"file1.txt\",   Some     \"111111111111111111111111111111111111\n",
      "284 / 638457701626349668 / Changed  (\"file1.txt\",   Some     \"11111111111111111111111111111111111\n",
      "175 / 638457701626349843 / Changed  (\"file1.txt\",   Some     \"11111111111111111111111111111111111\n",
      "186 / 638457701626350029 / Changed  (\"file1.txt\",   Some     \"11111111111111111111111111111111111\n",
      "149 / 638457701626350178 / Changed  (\"file1.txt\",   Some     \"11111111111111111111111111111111111\n",
      "96 / 638457701626350274 / Changed  (\"file1.txt\",   Some     \"111111111111111111111111111111111111\n",
      "219 / 638457701626350493 / Changed  (\"file1.txt\",   Some     \"11111111111111111111111111111111111\n",
      "130 / 638457701626350623 / Changed  (\"file1.txt\",   Some     \"11111111111111111111111111111111111\n",
      "118 / 638457701626350741 / Changed  (\"file1.txt\",   Some     \"11111111111111111111111111111111111\n",
      "212 / 638457701626350953 / Changed  (\"file1.txt\",   Some     \"11111111111111111111111111111111111\n",
      "198 / 638457701626351151 / Changed  (\"file1.txt\",   Some     \"11111111111111111111111111111111111\n",
      "184 / 638457701626351335 / Changed  (\"file1.txt\",   Some     \"11111111111111111111111111111111111\n",
      "147 / 638457701626351482 / Changed  (\"file1.txt\",   Some     \"11111111111111111111111111111111111\n",
      "151 / 638457701626351633 / Changed  (\"file1.txt\",   Some     \"11111111111111111111111111111111111\n",
      "214 / 638457701626351847 / Changed  (\"file1.txt\",   Some     \"11111111111111111111111111111111111\n",
      "35 / 638457701626351882 / Changed  (\"file1.txt\",   Some     \"111111111111111111111111111111111111\n",
      "251 / 638457701626352133 / Changed  (\"file1.txt\",   Some     \"11111111111111111111111111111111111\n",
      "142 / 638457701626352275 / Changed  (\"file1.txt\",   Some     \"11111111111111111111111111111111111\n",
      "133 / 638457701626352408 / Changed  (\"file1.txt\",   Some     \"11111111111111111111111111111111111\n",
      "215 / 638457701626352623 / Changed  (\"file1.txt\",   Some     \"11111111111111111111111111111111111\n",
      "190 / 638457701626352813 / Changed  (\"file1.txt\",   Some     \"11111111111111111111111111111111111\n",
      "103 / 638457701626352916 / Changed  (\"file1.txt\",   Some     \"11111111111111111111111111111111111\n",
      "217 / 638457701626353133 / Changed  (\"file1.txt\",   Some     \"11111111111111111111111111111111111\n",
      "174 / 638457701626353307 / Changed  (\"file1.txt\",   Some     \"11111111111111111111111111111111111\n",
      "180 / 638457701626353487 / Changed  (\"file1.txt\",   Some     \"11111111111111111111111111111111111\n",
      "97 / 638457701626353584 / Changed  (\"file1.txt\",   Some     \"111111111111111111111111111111111111\n",
      "261 / 638457701626353845 / Changed  (\"file1.txt\",   Some     \"11111111111111111111111111111111111\n",
      "42 / 638457701626353887 / Changed  (\"file1.txt\",   Some     \"111111111111111111111111111111111111\n",
      "235 / 638457701626354122 / Changed  (\"file1.txt\",   Some     \"11111111111111111111111111111111111\n",
      "146 / 638457701626354268 / Changed  (\"file1.txt\",   Some     \"11111111111111111111111111111111111\n",
      "95 / 638457701626354363 / Changed  (\"file1.txt\",   Some     \"111111111111111111111111111111111111\n",
      "253 / 638457701626354616 / Changed  (\"file1.txt\",   Some     \"11111111111111111111111111111111111\n",
      "37 / 638457701626354653 / Changed  (\"file1.txt\",   Some     \"111111111111111111111111111111111111\n",
      "244 / 638457701626354897 / Changed  (\"file1.txt\",   Some     \"11111111111111111111111111111111111\n",
      "146 / 638457701626355043 / Changed  (\"file1.txt\",   Some     \"11111111111111111111111111111111111\n",
      "36 / 638457701626355079 / Changed  (\"file1.txt\",   Some     \"111111111111111111111111111111111111\n",
      "53980 / 638457701626409059 / Changed  (\"file2.txt\",   Some     \"222222222222222222222222222222222\n",
      "149 / 638457701626409208 / Changed  (\"file2.txt\",   Some     \"22222222222222222222222222222222222\n",
      "419 / 638457701626409627 / Changed  (\"file2.txt\",   Some     \"22222222222222222222222222222222222\n",
      "169 / 638457701626409796 / Changed  (\"file2.txt\",   Some     \"22222222222222222222222222222222222\n",
      "123 / 638457701626409919 / Changed  (\"file2.txt\",   Some     \"22222222222222222222222222222222222\n",
      "190 / 638457701626410109 / Changed  (\"file2.txt\",   Some     \"22222222222222222222222222222222222\n",
      "193 / 638457701626410302 / Changed  (\"file2.txt\",   Some     \"22222222222222222222222222222222222\n",
      "97 / 638457701626410399 / Changed  (\"file2.txt\",   Some     \"222222222222222222222222222222222222\n",
      "283 / 638457701626410682 / Changed  (\"file2.txt\",   Some     \"22222222222222222222222222222222222\n",
      "38 / 638457701626410720 / Changed  (\"file2.txt\",   Some     \"222222222222222222222222222222222222\n",
      "207 / 638457701626410927 / Changed  (\"file2.txt\",   Some     \"22222222222222222222222222222222222\n",
      "173 / 638457701626411100 / Changed  (\"file2.txt\",   Some     \"22222222222222222222222222222222222\n",
      "234 / 638457701626411334 / Changed  (\"file2.txt\",   Some     \"22222222222222222222222222222222222\n",
      "238 / 638457701626411572 / Changed  (\"file2.txt\",   Some     \"22222222222222222222222222222222222\n",
      "41 / 638457701626411613 / Changed  (\"file2.txt\",   Some     \"222222222222222222222222222222222222\n",
      "263 / 638457701626411876 / Changed  (\"file2.txt\",   Some     \"22222222222222222222222222222222222\n",
      "44 / 638457701626411920 / Changed  (\"file2.txt\",   Some     \"222222222222222222222222222222222222\n",
      "259 / 638457701626412179 / Changed  (\"file2.txt\",   Some     \"22222222222222222222222222222222222\n",
      "56 / 638457701626412235 / Changed  (\"file2.txt\",   Some     \"222222222222222222222222222222222222\n",
      "266 / 638457701626412501 / Changed  (\"file2.txt\",   Some     \"22222222222222222222222222222222222\n",
      "247 / 638457701626412748 / Changed  (\"file2.txt\",   Some     \"22222222222222222222222222222222222\n",
      "43 / 638457701626412791 / Changed  (\"file2.txt\",   Some     \"222222222222222222222222222222222222\n",
      "278 / 638457701626413069 / Changed  (\"file2.txt\",   Some     \"22222222222222222222222222222222222\n",
      "45 / 638457701626413114 / Changed  (\"file2.txt\",   Some     \"222222222222222222222222222222222222\n",
      "249 / 638457701626413363 / Changed  (\"file2.txt\",   Some     \"22222222222222222222222222222222222\n",
      "39 / 638457701626413402 / Changed  (\"file2.txt\",   Some     \"222222222222222222222222222222222222\n",
      "265 / 638457701626413667 / Changed  (\"file2.txt\",   Some     \"22222222222222222222222222222222222\n",
      "40 / 638457701626413707 / Changed  (\"file2.txt\",   Some     \"222222222222222222222222222222222222\n",
      "264 / 638457701626413971 / Changed  (\"file2.txt\",   Some     \"22222222222222222222222222222222222\n",
      "43 / 638457701626414014 / Changed  (\"file2.txt\",   Some     \"222222222222222222222222222222222222\n",
      "250 / 638457701626414264 / Changed  (\"file2.txt\",   Some     \"22222222222222222222222222222222222\n",
      "52 / 638457701626414316 / Changed  (\"file2.txt\",   Some     \"222222222222222222222222222222222222\n",
      "294 / 638457701626414610 / Changed  (\"file2.txt\",   Some     \"22222222222222222222222222222222222\n",
      "264 / 638457701626414874 / Changed  (\"file2.txt\",   Some     \"22222222222222222222222222222222222\n",
      "45 / 638457701626414919 / Changed  (\"file2.txt\",   Some     \"222222222222222222222222222222222222\n",
      "251 / 638457701626415170 / Changed  (\"file2.txt\",   Some     \"22222222222222222222222222222222222\n",
      "209 / 638457701626415379 / Changed  (\"file2.txt\",   Some     \"22222222222222222222222222222222222\n",
      "39 / 638457701626415418 / Changed  (\"file2.txt\",   Some     \"222222222222222222222222222222222222\n",
      "325 / 638457701626415743 / Changed  (\"file2.txt\",   Some     \"22222222222222222222222222222222222\n",
      "176 / 638457701626415919 / Changed  (\"file2.txt\",   Some     \"22222222222222222222222222222222222\n",
      "104 / 638457701626416023 / Changed  (\"file2.txt\",   Some     \"22222222222222222222222222222222222\n",
      "239 / 638457701626416262 / Changed  (\"file2.txt\",   Some     \"22222222222222222222222222222222222\n",
      "103 / 638457701626416365 / Changed  (\"file2.txt\",   Some     \"22222222222222222222222222222222222\n",
      "155 / 638457701626416520 / Changed  (\"file2.txt\",   Some     \"22222222222222222222222222222222222\n",
      "153 / 638457701626416673 / Changed  (\"file2.txt\",   Some     \"22222222222222222222222222222222222\n",
      "223 / 638457701626416896 / Changed  (\"file2.txt\",   Some     \"22222222222222222222222222222222222\n",
      "37 / 638457701626416933 / Changed  (\"file2.txt\",   Some     \"222222222222222222222222222222222222\n",
      "154 / 638457701626417087 / Changed  (\"file2.txt\",   Some     \"22222222222222222222222222222222222\n",
      "203 / 638457701626417290 / Changed  (\"file2.txt\",   Some     \"22222222222222222222222222222222222\n",
      "40 / 638457701626417330 / Changed  (\"file2.txt\",   Some     \"222222222222222222222222222222222222\n",
      "275 / 638457701626417605 / Changed  (\"file2.txt\",   Some     \"22222222222222222222222222222222222\n",
      "44 / 638457701626417649 / Changed  (\"file2.txt\",   Some     \"222222222222222222222222222222222222\n",
      "254 / 638457701626417903 / Changed  (\"file2.txt\",   Some     \"22222222222222222222222222222222222\n",
      "209 / 638457701626418112 / Changed  (\"file2.txt\",   Some     \"22222222222222222222222222222222222\n",
      "46 / 638457701626418158 / Changed  (\"file2.txt\",   Some     \"222222222222222222222222222222222222\n",
      "262 / 638457701626418420 / Changed  (\"file2.txt\",   Some     \"22222222222222222222222222222222222\n",
      "167 / 638457701626418587 / Changed  (\"file2.txt\",   Some     \"22222222222222222222222222222222222\n",
      "160 / 638457701626418747 / Changed  (\"file2.txt\",   Some     \"22222222222222222222222222222222222\n",
      "152 / 638457701626418899 / Changed  (\"file2.txt\",   Some     \"22222222222222222222222222222222222\n",
      "172 / 638457701626419071 / Changed  (\"file2.txt\",   Some     \"22222222222222222222222222222222222\n",
      "154 / 638457701626419225 / Changed  (\"file2.txt\",   Some     \"22222222222222222222222222222222222\n",
      "150 / 638457701626419375 / Changed  (\"file2.txt\",   Some     \"22222222222222222222222222222222222\n",
      "151 / 638457701626419526 / Changed  (\"file2.txt\",   Some     \"22222222222222222222222222222222222\n",
      "223 / 638457701626419749 / Changed  (\"file2.txt\",   Some     \"22222222222222222222222222222222222\n",
      "165 / 638457701626419914 / Changed  (\"file2.txt\",   Some     \"22222222222222222222222222222222222\n",
      "222 / 638457701626420136 / Changed  (\"file2.txt\",   Some     \"22222222222222222222222222222222222\n",
      "220 / 638457701626420356 / Changed  (\"file2.txt\",   Some     \"22222222222222222222222222222222222\n",
      "38 / 638457701626420394 / Changed  (\"file2.txt\",   Some     \"222222222222222222222222222222222222\n",
      "327 / 638457701626420721 / Changed  (\"file2.txt\",   Some     \"22222222222222222222222222222222222\n",
      "47 / 638457701626420768 / Changed  (\"file2.txt\",   Some     \"222222222222222222222222222222222222\n",
      "270 / 638457701626421038 / Changed  (\"file2.txt\",   Some     \"22222222222222222222222222222222222\n",
      "108 / 638457701626421146 / Changed  (\"file2.txt\",   Some     \"22222222222222222222222222222222222\n",
      "528 / 638457701626421674 / Changed  (\"file2.txt\",   Some     \"22222222222222222222222222222222222\n",
      "65 / 638457701626421739 / Changed  (\"file2.txt\",   Some     \"222222222222222222222222222222222222\n",
      "261 / 638457701626422000 / Changed  (\"file2.txt\",   Some     \"22222222222222222222222222222222222\n",
      "128 / 638457701626422128 / Changed  (\"file2.txt\",   Some     \"22222222222222222222222222222222222\n",
      "275 / 638457701626422403 / Changed  (\"file2.txt\",   Some     \"22222222222222222222222222222222222\n",
      "48 / 638457701626422451 / Changed  (\"file2.txt\",   Some     \"222222222222222222222222222222222222\n",
      "276 / 638457701626422727 / Changed  (\"file2.txt\",   Some     \"22222222222222222222222222222222222\n",
      "48 / 638457701626422775 / Changed  (\"file2.txt\",   Some     \"222222222222222222222222222222222222\n",
      "286 / 638457701626423061 / Changed  (\"file2.txt\",   Some     \"22222222222222222222222222222222222\n",
      "185 / 638457701626423246 / Changed  (\"file2.txt\",   Some     \"22222222222222222222222222222222222\n",
      "171 / 638457701626423417 / Changed  (\"file2.txt\",   Some     \"22222222222222222222222222222222222\n",
      "199 / 638457701626423616 / Changed  (\"file2.txt\",   Some     \"22222222222222222222222222222222222\n",
      "114 / 638457701626423730 / Changed  (\"file2.txt\",   Some     \"22222222222222222222222222222222222\n",
      "248 / 638457701626423978 / Changed  (\"file2.txt\",   Some     \"22222222222222222222222222222222222\n",
      "144 / 638457701626424122 / Changed  (\"file2.txt\",   Some     \"22222222222222222222222222222222222\n",
      "238 / 638457701626424360 / Changed  (\"file2.txt\",   Some     \"22222222222222222222222222222222222\n",
      "151 / 638457701626424511 / Changed  (\"file2.txt\",   Some     \"22222222222222222222222222222222222\n",
      "325 / 638457701626424836 / Changed  (\"file2.txt\",   Some     \"22222222222222222222222222222222222\n",
      "192 / 638457701626425028 / Changed  (\"file2.txt\",   Some     \"22222222222222222222222222222222222\n",
      "210 / 638457701626425238 / Changed  (\"file2.txt\",   Some     \"22222222222222222222222222222222222\n",
      "180 / 638457701626425418 / Changed  (\"file2.txt\",   Some     \"22222222222222222222222222222222222\n",
      "203 / 638457701626425621 / Changed  (\"file2.txt\",   Some     \"22222222222222222222222222222222222\n",
      "249 / 638457701626425870 / Changed  (\"file2.txt\",   Some     \"22222222222222222222222222222222222\n",
      "142 / 638457701626426012 / Changed  (\"file2.txt\",   Some     \"22222222222222222222222222222222222\n",
      "198 / 638457701626426210 / Changed  (\"file2.txt\",   Some     \"22222222222222222222222222222222222\n",
      "191 / 638457701626426401 / Changed  (\"file2.txt\",   Some     \"22222222222222222222222222222222222\n",
      "183 / 638457701626426584 / Changed  (\"file2.txt\",   Some     \"22222222222222222222222222222222222\n",
      "203 / 638457701626426787 / Changed  (\"file2.txt\",   Some     \"22222222222222222222222222222222222\n",
      "198 / 638457701626426985 / Changed  (\"file2.txt\",   Some     \"22222222222222222222222222222222222\n",
      "201 / 638457701626427186 / Changed  (\"file2.txt\",   Some     \"22222222222222222222222222222222222\n",
      "198 / 638457701626427384 / Changed  (\"file2.txt\",   Some     \"22222222222222222222222222222222222\n",
      "181 / 638457701626427565 / Changed  (\"file2.txt\",   Some     \"22222222222222222222222222222222222\n",
      "186 / 638457701626427751 / Changed  (\"file2.txt\",   Some     \"22222222222222222222222222222222222\n",
      "177 / 638457701626427928 / Changed  (\"file2.txt\",   Some     \"22222222222222222222222222222222222\n",
      "184 / 638457701626428112 / Changed  (\"file2.txt\",   Some     \"22222222222222222222222222222222222\n",
      "187 / 638457701626428299 / Changed  (\"file2.txt\",   Some     \"22222222222222222222222222222222222\n",
      "190 / 638457701626428489 / Changed  (\"file2.txt\",   Some     \"22222222222222222222222222222222222\n",
      "213 / 638457701626428702 / Changed  (\"file2.txt\",   Some     \"22222222222222222222222222222222222\n",
      "198 / 638457701626428900 / Changed  (\"file2.txt\",   Some     \"22222222222222222222222222222222222\n",
      "189 / 638457701626429089 / Changed  (\"file2.txt\",   Some     \"22222222222222222222222222222222222\n",
      "185 / 638457701626429274 / Changed  (\"file2.txt\",   Some     \"22222222222222222222222222222222222\n",
      "188 / 638457701626429462 / Changed  (\"file2.txt\",   Some     \"22222222222222222222222222222222222\n",
      "175 / 638457701626429637 / Changed  (\"file2.txt\",   Some     \"22222222222222222222222222222222222\n",
      "185 / 638457701626429822 / Changed  (\"file2.txt\",   Some     \"22222222222222222222222222222222222\n",
      "204 / 638457701626430026 / Changed  (\"file2.txt\",   Some     \"22222222222222222222222222222222222\n",
      "182 / 638457701626430208 / Changed  (\"file2.txt\",   Some     \"22222222222222222222222222222222222\n",
      "220 / 638457701626430428 / Changed  (\"file2.txt\",   Some     \"22222222222222222222222222222222222\n",
      "20 / 638457701626430448 / Changed  (\"file2.txt\",   Some     \"222222222222222222222222222222222222\n",
      "15002974 / 638457701641433422 / Renamed  (\"file1.txt\",   (\"file_1.txt\",    Some      \"1111111111\n",
      "314 / 638457701641433736 / Renamed  (\"file2.txt\",   (\"file_2.txt\",    Some      \"222222222222222\n",
      "15064189 / 638457701656497925 / Changed  (\"file_1.txt\",   Some     \"11111111111111111111111111111\n",
      "269 / 638457701656498194 / Changed  (\"file_1.txt\",   Some     \"1111111111111111111111111111111111\n",
      "1307 / 638457701656499501 / Changed  (\"file_1.txt\",   Some     \"111111111111111111111111111111111\n",
      "396 / 638457701656499897 / Changed  (\"file_1.txt\",   Some     \"1111111111111111111111111111111111\n",
      "306 / 638457701656500203 / Changed  (\"file_1.txt\",   Some     \"1111111111111111111111111111111111\n",
      "58 / 638457701656500261 / Changed  (\"file_1.txt\",   Some     \"11111111111111111111111111111111111\n",
      "347 / 638457701656500608 / Changed  (\"file_1.txt\",   Some     \"1111111111111111111111111111111111\n",
      "49 / 638457701656500657 / Changed  (\"file_1.txt\",   Some     \"11111111111111111111111111111111111\n",
      "459 / 638457701656501116 / Changed  (\"file_1.txt\",   Some     \"1111111111111111111111111111111111\n",
      "30 / 638457701656501146 / Changed  (\"file_1.txt\",   Some     \"11111111111111111111111111111111111\n",
      "378 / 638457701656501524 / Changed  (\"file_1.txt\",   Some     \"1111111111111111111111111111111111\n",
      "564 / 638457701656502088 / Changed  (\"file_1.txt\",   Some     \"1111111111111111111111111111111111\n",
      "211 / 638457701656502299 / Changed  (\"file_1.txt\",   Some     \"1111111111111111111111111111111111\n",
      "238 / 638457701656502537 / Changed  (\"file_1.txt\",   Some     \"1111111111111111111111111111111111\n",
      "379 / 638457701656502916 / Changed  (\"file_1.txt\",   Some     \"1111111111111111111111111111111111\n",
      "287 / 638457701656503203 / Changed  (\"file_1.txt\",   Some     \"1111111111111111111111111111111111\n",
      "224 / 638457701656503427 / Changed  (\"file_1.txt\",   Some     \"1111111111111111111111111111111111\n",
      "237 / 638457701656503664 / Changed  (\"file_1.txt\",   Some     \"1111111111111111111111111111111111\n",
      "226 / 638457701656503890 / Changed  (\"file_1.txt\",   Some     \"1111111111111111111111111111111111\n",
      "233 / 638457701656504123 / Changed  (\"file_1.txt\",   Some     \"1111111111111111111111111111111111\n",
      "244 / 638457701656504367 / Changed  (\"file_1.txt\",   Some     \"1111111111111111111111111111111111\n",
      "233 / 638457701656504600 / Changed  (\"file_1.txt\",   Some     \"1111111111111111111111111111111111\n",
      "227 / 638457701656504827 / Changed  (\"file_1.txt\",   Some     \"1111111111111111111111111111111111\n",
      "439 / 638457701656505266 / Changed  (\"file_1.txt\",   Some     \"1111111111111111111111111111111111\n",
      "216 / 638457701656505482 / Changed  (\"file_1.txt\",   Some     \"1111111111111111111111111111111111\n",
      "42 / 638457701656505524 / Changed  (\"file_1.txt\",   Some     \"11111111111111111111111111111111111\n",
      "263 / 638457701656505787 / Changed  (\"file_1.txt\",   Some     \"1111111111111111111111111111111111\n",
      "43 / 638457701656505830 / Changed  (\"file_1.txt\",   Some     \"11111111111111111111111111111111111\n",
      "228 / 638457701656506058 / Changed  (\"file_1.txt\",   Some     \"1111111111111111111111111111111111\n",
      "229 / 638457701656506287 / Changed  (\"file_1.txt\",   Some     \"1111111111111111111111111111111111\n",
      "43 / 638457701656506330 / Changed  (\"file_1.txt\",   Some     \"11111111111111111111111111111111111\n",
      "238 / 638457701656506568 / Changed  (\"file_1.txt\",   Some     \"1111111111111111111111111111111111\n",
      "174 / 638457701656506742 / Changed  (\"file_1.txt\",   Some     \"1111111111111111111111111111111111\n",
      "155 / 638457701656506897 / Changed  (\"file_1.txt\",   Some     \"1111111111111111111111111111111111\n",
      "196 / 638457701656507093 / Changed  (\"file_1.txt\",   Some     \"1111111111111111111111111111111111\n",
      "176 / 638457701656507269 / Changed  (\"file_1.txt\",   Some     \"1111111111111111111111111111111111\n",
      "55 / 638457701656507324 / Changed  (\"file_1.txt\",   Some     \"11111111111111111111111111111111111\n",
      "252 / 638457701656507576 / Changed  (\"file_1.txt\",   Some     \"1111111111111111111111111111111111\n",
      "159 / 638457701656507735 / Changed  (\"file_1.txt\",   Some     \"1111111111111111111111111111111111\n",
      "165 / 638457701656507900 / Changed  (\"file_1.txt\",   Some     \"1111111111111111111111111111111111\n",
      "109 / 638457701656508009 / Changed  (\"file_1.txt\",   Some     \"1111111111111111111111111111111111\n",
      "178 / 638457701656508187 / Changed  (\"file_1.txt\",   Some     \"1111111111111111111111111111111111\n",
      "167 / 638457701656508354 / Changed  (\"file_1.txt\",   Some     \"1111111111111111111111111111111111\n",
      "97 / 638457701656508451 / Changed  (\"file_1.txt\",   Some     \"11111111111111111111111111111111111\n",
      "226 / 638457701656508677 / Changed  (\"file_1.txt\",   Some     \"1111111111111111111111111111111111\n",
      "182 / 638457701656508859 / Changed  (\"file_1.txt\",   Some     \"1111111111111111111111111111111111\n",
      "170 / 638457701656509029 / Changed  (\"file_1.txt\",   Some     \"1111111111111111111111111111111111\n",
      "107 / 638457701656509136 / Changed  (\"file_1.txt\",   Some     \"1111111111111111111111111111111111\n",
      "201 / 638457701656509337 / Changed  (\"file_1.txt\",   Some     \"1111111111111111111111111111111111\n",
      "221 / 638457701656509558 / Changed  (\"file_1.txt\",   Some     \"1111111111111111111111111111111111\n",
      "38 / 638457701656509596 / Changed  (\"file_1.txt\",   Some     \"11111111111111111111111111111111111\n",
      "226 / 638457701656509822 / Changed  (\"file_1.txt\",   Some     \"1111111111111111111111111111111111\n",
      "173 / 638457701656509995 / Changed  (\"file_1.txt\",   Some     \"1111111111111111111111111111111111\n",
      "191 / 638457701656510186 / Changed  (\"file_1.txt\",   Some     \"1111111111111111111111111111111111\n",
      "220 / 638457701656510406 / Changed  (\"file_1.txt\",   Some     \"1111111111111111111111111111111111\n",
      "38 / 638457701656510444 / Changed  (\"file_1.txt\",   Some     \"11111111111111111111111111111111111\n",
      "213 / 638457701656510657 / Changed  (\"file_1.txt\",   Some     \"1111111111111111111111111111111111\n",
      "37 / 638457701656510694 / Changed  (\"file_1.txt\",   Some     \"11111111111111111111111111111111111\n",
      "264 / 638457701656510958 / Changed  (\"file_1.txt\",   Some     \"1111111111111111111111111111111111\n",
      "148 / 638457701656511106 / Changed  (\"file_1.txt\",   Some     \"1111111111111111111111111111111111\n",
      "185 / 638457701656511291 / Changed  (\"file_1.txt\",   Some     \"1111111111111111111111111111111111\n",
      "141 / 638457701656511432 / Changed  (\"file_1.txt\",   Some     \"1111111111111111111111111111111111\n",
      "193 / 638457701656511625 / Changed  (\"file_1.txt\",   Some     \"1111111111111111111111111111111111\n",
      "221 / 638457701656511846 / Changed  (\"file_1.txt\",   Some     \"1111111111111111111111111111111111\n",
      "38 / 638457701656511884 / Changed  (\"file_1.txt\",   Some     \"11111111111111111111111111111111111\n",
      "212 / 638457701656512096 / Changed  (\"file_1.txt\",   Some     \"1111111111111111111111111111111111\n",
      "153 / 638457701656512249 / Changed  (\"file_1.txt\",   Some     \"1111111111111111111111111111111111\n",
      "223 / 638457701656512472 / Changed  (\"file_1.txt\",   Some     \"1111111111111111111111111111111111\n",
      "180 / 638457701656512652 / Changed  (\"file_1.txt\",   Some     \"1111111111111111111111111111111111\n",
      "139 / 638457701656512791 / Changed  (\"file_1.txt\",   Some     \"1111111111111111111111111111111111\n",
      "158 / 638457701656512949 / Changed  (\"file_1.txt\",   Some     \"1111111111111111111111111111111111\n",
      "203 / 638457701656513152 / Changed  (\"file_1.txt\",   Some     \"1111111111111111111111111111111111\n",
      "176 / 638457701656513328 / Changed  (\"file_1.txt\",   Some     \"1111111111111111111111111111111111\n",
      "151 / 638457701656513479 / Changed  (\"file_1.txt\",   Some     \"1111111111111111111111111111111111\n",
      "170 / 638457701656513649 / Changed  (\"file_1.txt\",   Some     \"1111111111111111111111111111111111\n",
      "237 / 638457701656513886 / Changed  (\"file_1.txt\",   Some     \"1111111111111111111111111111111111\n",
      "100 / 638457701656513986 / Changed  (\"file_1.txt\",   Some     \"1111111111111111111111111111111111\n",
      "223 / 638457701656514209 / Changed  (\"file_1.txt\",   Some     \"1111111111111111111111111111111111\n",
      "171 / 638457701656514380 / Changed  (\"file_1.txt\",   Some     \"1111111111111111111111111111111111\n",
      "191 / 638457701656514571 / Changed  (\"file_1.txt\",   Some     \"1111111111111111111111111111111111\n",
      "198 / 638457701656514769 / Changed  (\"file_1.txt\",   Some     \"1111111111111111111111111111111111\n",
      "150 / 638457701656514919 / Changed  (\"file_1.txt\",   Some     \"1111111111111111111111111111111111\n",
      "190 / 638457701656515109 / Changed  (\"file_1.txt\",   Some     \"1111111111111111111111111111111111\n",
      "185 / 638457701656515294 / Changed  (\"file_1.txt\",   Some     \"1111111111111111111111111111111111\n",
      "197 / 638457701656515491 / Changed  (\"file_1.txt\",   Some     \"1111111111111111111111111111111111\n",
      "150 / 638457701656515641 / Changed  (\"file_1.txt\",   Some     \"1111111111111111111111111111111111\n",
      "268 / 638457701656515909 / Changed  (\"file_1.txt\",   Some     \"1111111111111111111111111111111111\n",
      "219 / 638457701656516128 / Changed  (\"file_1.txt\",   Some     \"1111111111111111111111111111111111\n",
      "139 / 638457701656516267 / Changed  (\"file_1.txt\",   Some     \"1111111111111111111111111111111111\n",
      "188 / 638457701656516455 / Changed  (\"file_1.txt\",   Some     \"1111111111111111111111111111111111\n",
      "165 / 638457701656516620 / Changed  (\"file_1.txt\",   Some     \"1111111111111111111111111111111111\n",
      "188 / 638457701656516808 / Changed  (\"file_1.txt\",   Some     \"1111111111111111111111111111111111\n",
      "165 / 638457701656516973 / Changed  (\"file_1.txt\",   Some     \"1111111111111111111111111111111111\n",
      "170 / 638457701656517143 / Changed  (\"file_1.txt\",   Some     \"1111111111111111111111111111111111\n",
      "177 / 638457701656517320 / Changed  (\"file_1.txt\",   Some     \"1111111111111111111111111111111111\n",
      "156 / 638457701656517476 / Changed  (\"file_1.txt\",   Some     \"1111111111111111111111111111111111\n",
      "215 / 638457701656517691 / Changed  (\"file_1.txt\",   Some     \"1111111111111111111111111111111111\n",
      "194 / 638457701656517885 / Changed  (\"file_1.txt\",   Some     \"1111111111111111111111111111111111\n",
      "154 / 638457701656518039 / Changed  (\"file_1.txt\",   Some     \"1111111111111111111111111111111111\n",
      "169 / 638457701656518208 / Changed  (\"file_1.txt\",   Some     \"1111111111111111111111111111111111\n",
      "191 / 638457701656518399 / Changed  (\"file_1.txt\",   Some     \"1111111111111111111111111111111111\n",
      "196 / 638457701656518595 / Changed  (\"file_1.txt\",   Some     \"1111111111111111111111111111111111\n",
      "97 / 638457701656518692 / Changed  (\"file_1.txt\",   Some     \"11111111111111111111111111111111111\n",
      "196 / 638457701656518888 / Changed  (\"file_1.txt\",   Some     \"1111111111111111111111111111111111\n",
      "204 / 638457701656519092 / Changed  (\"file_1.txt\",   Some     \"1111111111111111111111111111111111\n",
      "203 / 638457701656519295 / Changed  (\"file_1.txt\",   Some     \"1111111111111111111111111111111111\n",
      "147 / 638457701656519442 / Changed  (\"file_1.txt\",   Some     \"1111111111111111111111111111111111\n",
      "167 / 638457701656519609 / Changed  (\"file_1.txt\",   Some     \"1111111111111111111111111111111111\n",
      "180 / 638457701656519789 / Changed  (\"file_1.txt\",   Some     \"1111111111111111111111111111111111\n",
      "196 / 638457701656519985 / Changed  (\"file_1.txt\",   Some     \"1111111111111111111111111111111111\n",
      "147 / 638457701656520132 / Changed  (\"file_1.txt\",   Some     \"1111111111111111111111111111111111\n",
      "171 / 638457701656520303 / Changed  (\"file_1.txt\",   Some     \"1111111111111111111111111111111111\n",
      "198 / 638457701656520501 / Changed  (\"file_1.txt\",   Some     \"1111111111111111111111111111111111\n",
      "197 / 638457701656520698 / Changed  (\"file_1.txt\",   Some     \"1111111111111111111111111111111111\n",
      "176 / 638457701656520874 / Changed  (\"file_1.txt\",   Some     \"1111111111111111111111111111111111\n",
      "97 / 638457701656520971 / Changed  (\"file_1.txt\",   Some     \"11111111111111111111111111111111111\n",
      "211 / 638457701656521182 / Changed  (\"file_1.txt\",   Some     \"1111111111111111111111111111111111\n",
      "198 / 638457701656521380 / Changed  (\"file_1.txt\",   Some     \"1111111111111111111111111111111111\n",
      "195 / 638457701656521575 / Changed  (\"file_1.txt\",   Some     \"1111111111111111111111111111111111\n",
      "103 / 638457701656521678 / Changed  (\"file_1.txt\",   Some     \"1111111111111111111111111111111111\n",
      "203 / 638457701656521881 / Changed  (\"file_1.txt\",   Some     \"1111111111111111111111111111111111\n",
      "203 / 638457701656522084 / Changed  (\"file_1.txt\",   Some     \"1111111111111111111111111111111111\n",
      "158 / 638457701656522242 / Changed  (\"file_1.txt\",   Some     \"1111111111111111111111111111111111\n",
      "58991 / 638457701656581233 / Changed  (\"file_2.txt\",   Some     \"22222222222222222222222222222222\n",
      "394 / 638457701656581627 / Changed  (\"file_2.txt\",   Some     \"2222222222222222222222222222222222\n",
      "486 / 638457701656582113 / Changed  (\"file_2.txt\",   Some     \"2222222222222222222222222222222222\n",
      "208 / 638457701656582321 / Changed  (\"file_2.txt\",   Some     \"2222222222222222222222222222222222\n",
      "185 / 638457701656582506 / Changed  (\"file_2.txt\",   Some     \"2222222222222222222222222222222222\n",
      "170 / 638457701656582676 / Changed  (\"file_2.txt\",   Some     \"2222222222222222222222222222222222\n",
      "192 / 638457701656582868 / Changed  (\"file_2.txt\",   Some     \"2222222222222222222222222222222222\n",
      "185 / 638457701656583053 / Changed  (\"file_2.txt\",   Some     \"2222222222222222222222222222222222\n",
      "185 / 638457701656583238 / Changed  (\"file_2.txt\",   Some     \"2222222222222222222222222222222222\n",
      "209 / 638457701656583447 / Changed  (\"file_2.txt\",   Some     \"2222222222222222222222222222222222\n",
      "179 / 638457701656583626 / Changed  (\"file_2.txt\",   Some     \"2222222222222222222222222222222222\n",
      "174 / 638457701656583800 / Changed  (\"file_2.txt\",   Some     \"2222222222222222222222222222222222\n",
      "187 / 638457701656583987 / Changed  (\"file_2.txt\",   Some     \"2222222222222222222222222222222222\n",
      "192 / 638457701656584179 / Changed  (\"file_2.txt\",   Some     \"2222222222222222222222222222222222\n",
      "105 / 638457701656584284 / Changed  (\"file_2.txt\",   Some     \"2222222222222222222222222222222222\n",
      "207 / 638457701656584491 / Changed  (\"file_2.txt\",   Some     \"2222222222222222222222222222222222\n",
      "206 / 638457701656584697 / Changed  (\"file_2.txt\",   Some     \"2222222222222222222222222222222222\n",
      "157 / 638457701656584854 / Changed  (\"file_2.txt\",   Some     \"2222222222222222222222222222222222\n",
      "199 / 638457701656585053 / Changed  (\"file_2.txt\",   Some     \"2222222222222222222222222222222222\n",
      "181 / 638457701656585234 / Changed  (\"file_2.txt\",   Some     \"2222222222222222222222222222222222\n",
      "178 / 638457701656585412 / Changed  (\"file_2.txt\",   Some     \"2222222222222222222222222222222222\n",
      "188 / 638457701656585600 / Changed  (\"file_2.txt\",   Some     \"2222222222222222222222222222222222\n",
      "186 / 638457701656585786 / Changed  (\"file_2.txt\",   Some     \"2222222222222222222222222222222222\n",
      "200 / 638457701656585986 / Changed  (\"file_2.txt\",   Some     \"2222222222222222222222222222222222\n",
      "97 / 638457701656586083 / Changed  (\"file_2.txt\",   Some     \"22222222222222222222222222222222222\n",
      "204 / 638457701656586287 / Changed  (\"file_2.txt\",   Some     \"2222222222222222222222222222222222\n",
      "192 / 638457701656586479 / Changed  (\"file_2.txt\",   Some     \"2222222222222222222222222222222222\n",
      "184 / 638457701656586663 / Changed  (\"file_2.txt\",   Some     \"2222222222222222222222222222222222\n",
      "98 / 638457701656586761 / Changed  (\"file_2.txt\",   Some     \"22222222222222222222222222222222222\n",
      "214 / 638457701656586975 / Changed  (\"file_2.txt\",   Some     \"2222222222222222222222222222222222\n",
      "178 / 638457701656587153 / Changed  (\"file_2.txt\",   Some     \"2222222222222222222222222222222222\n",
      "209 / 638457701656587362 / Changed  (\"file_2.txt\",   Some     \"2222222222222222222222222222222222\n",
      "183 / 638457701656587545 / Changed  (\"file_2.txt\",   Some     \"2222222222222222222222222222222222\n",
      "180 / 638457701656587725 / Changed  (\"file_2.txt\",   Some     \"2222222222222222222222222222222222\n",
      "202 / 638457701656587927 / Changed  (\"file_2.txt\",   Some     \"2222222222222222222222222222222222\n",
      "188 / 638457701656588115 / Changed  (\"file_2.txt\",   Some     \"2222222222222222222222222222222222\n",
      "215 / 638457701656588330 / Changed  (\"file_2.txt\",   Some     \"2222222222222222222222222222222222\n",
      "98 / 638457701656588428 / Changed  (\"file_2.txt\",   Some     \"22222222222222222222222222222222222\n",
      "213 / 638457701656588641 / Changed  (\"file_2.txt\",   Some     \"2222222222222222222222222222222222\n",
      "240 / 638457701656588881 / Changed  (\"file_2.txt\",   Some     \"2222222222222222222222222222222222\n",
      "150 / 638457701656589031 / Changed  (\"file_2.txt\",   Some     \"2222222222222222222222222222222222\n",
      "192 / 638457701656589223 / Changed  (\"file_2.txt\",   Some     \"2222222222222222222222222222222222\n",
      "186 / 638457701656589409 / Changed  (\"file_2.txt\",   Some     \"2222222222222222222222222222222222\n",
      "193 / 638457701656589602 / Changed  (\"file_2.txt\",   Some     \"2222222222222222222222222222222222\n",
      "150 / 638457701656589752 / Changed  (\"file_2.txt\",   Some     \"2222222222222222222222222222222222\n",
      "204 / 638457701656589956 / Changed  (\"file_2.txt\",   Some     \"2222222222222222222222222222222222\n",
      "203 / 638457701656590159 / Changed  (\"file_2.txt\",   Some     \"2222222222222222222222222222222222\n",
      "185 / 638457701656590344 / Changed  (\"file_2.txt\",   Some     \"2222222222222222222222222222222222\n",
      "185 / 638457701656590529 / Changed  (\"file_2.txt\",   Some     \"2222222222222222222222222222222222\n",
      "179 / 638457701656590708 / Changed  (\"file_2.txt\",   Some     \"2222222222222222222222222222222222\n",
      "177 / 638457701656590885 / Changed  (\"file_2.txt\",   Some     \"2222222222222222222222222222222222\n",
      "184 / 638457701656591069 / Changed  (\"file_2.txt\",   Some     \"2222222222222222222222222222222222\n",
      "207 / 638457701656591276 / Changed  (\"file_2.txt\",   Some     \"2222222222222222222222222222222222\n",
      "189 / 638457701656591465 / Changed  (\"file_2.txt\",   Some     \"2222222222222222222222222222222222\n",
      "201 / 638457701656591666 / Changed  (\"file_2.txt\",   Some     \"2222222222222222222222222222222222\n",
      "178 / 638457701656591844 / Changed  (\"file_2.txt\",   Some     \"2222222222222222222222222222222222\n",
      "191 / 638457701656592035 / Changed  (\"file_2.txt\",   Some     \"2222222222222222222222222222222222\n",
      "156 / 638457701656592191 / Changed  (\"file_2.txt\",   Some     \"2222222222222222222222222222222222\n",
      "192 / 638457701656592383 / Changed  (\"file_2.txt\",   Some     \"2222222222222222222222222222222222\n",
      "191 / 638457701656592574 / Changed  (\"file_2.txt\",   Some     \"2222222222222222222222222222222222\n",
      "195 / 638457701656592769 / Changed  (\"file_2.txt\",   Some     \"2222222222222222222222222222222222\n",
      "187 / 638457701656592956 / Changed  (\"file_2.txt\",   Some     \"2222222222222222222222222222222222\n",
      "181 / 638457701656593137 / Changed  (\"file_2.txt\",   Some     \"2222222222222222222222222222222222\n",
      "190 / 638457701656593327 / Changed  (\"file_2.txt\",   Some     \"2222222222222222222222222222222222\n",
      "185 / 638457701656593512 / Changed  (\"file_2.txt\",   Some     \"2222222222222222222222222222222222\n",
      "196 / 638457701656593708 / Changed  (\"file_2.txt\",   Some     \"2222222222222222222222222222222222\n",
      "178 / 638457701656593886 / Changed  (\"file_2.txt\",   Some     \"2222222222222222222222222222222222\n",
      "192 / 638457701656594078 / Changed  (\"file_2.txt\",   Some     \"2222222222222222222222222222222222\n",
      "185 / 638457701656594263 / Changed  (\"file_2.txt\",   Some     \"2222222222222222222222222222222222\n",
      "220 / 638457701656594483 / Changed  (\"file_2.txt\",   Some     \"2222222222222222222222222222222222\n",
      "180 / 638457701656594663 / Changed  (\"file_2.txt\",   Some     \"2222222222222222222222222222222222\n",
      "181 / 638457701656594844 / Changed  (\"file_2.txt\",   Some     \"2222222222222222222222222222222222\n",
      "180 / 638457701656595024 / Changed  (\"file_2.txt\",   Some     \"2222222222222222222222222222222222\n",
      "185 / 638457701656595209 / Changed  (\"file_2.txt\",   Some     \"2222222222222222222222222222222222\n",
      "185 / 638457701656595394 / Changed  (\"file_2.txt\",   Some     \"2222222222222222222222222222222222\n",
      "210 / 638457701656595604 / Changed  (\"file_2.txt\",   Some     \"2222222222222222222222222222222222\n",
      "200 / 638457701656595804 / Changed  (\"file_2.txt\",   Some     \"2222222222222222222222222222222222\n",
      "183 / 638457701656595987 / Changed  (\"file_2.txt\",   Some     \"2222222222222222222222222222222222\n",
      "194 / 638457701656596181 / Changed  (\"file_2.txt\",   Some     \"2222222222222222222222222222222222\n",
      "193 / 638457701656596374 / Changed  (\"file_2.txt\",   Some     \"2222222222222222222222222222222222\n",
      "184 / 638457701656596558 / Changed  (\"file_2.txt\",   Some     \"2222222222222222222222222222222222\n",
      "184 / 638457701656596742 / Changed  (\"file_2.txt\",   Some     \"2222222222222222222222222222222222\n",
      "163 / 638457701656596905 / Changed  (\"file_2.txt\",   Some     \"2222222222222222222222222222222222\n",
      "204 / 638457701656597109 / Changed  (\"file_2.txt\",   Some     \"2222222222222222222222222222222222\n",
      "186 / 638457701656597295 / Changed  (\"file_2.txt\",   Some     \"2222222222222222222222222222222222\n",
      "189 / 638457701656597484 / Changed  (\"file_2.txt\",   Some     \"2222222222222222222222222222222222\n",
      "141 / 638457701656597625 / Changed  (\"file_2.txt\",   Some     \"2222222222222222222222222222222222\n",
      "175 / 638457701656597800 / Changed  (\"file_2.txt\",   Some     \"2222222222222222222222222222222222\n",
      "170 / 638457701656597970 / Changed  (\"file_2.txt\",   Some     \"2222222222222222222222222222222222\n",
      "165 / 638457701656598135 / Changed  (\"file_2.txt\",   Some     \"2222222222222222222222222222222222\n",
      "174 / 638457701656598309 / Changed  (\"file_2.txt\",   Some     \"2222222222222222222222222222222222\n",
      "203 / 638457701656598512 / Changed  (\"file_2.txt\",   Some     \"2222222222222222222222222222222222\n",
      "147 / 638457701656598659 / Changed  (\"file_2.txt\",   Some     \"2222222222222222222222222222222222\n",
      "178 / 638457701656598837 / Changed  (\"file_2.txt\",   Some     \"2222222222222222222222222222222222\n",
      "176 / 638457701656599013 / Changed  (\"file_2.txt\",   Some     \"2222222222222222222222222222222222\n",
      "142 / 638457701656599155 / Changed  (\"file_2.txt\",   Some     \"2222222222222222222222222222222222\n",
      "185 / 638457701656599340 / Changed  (\"file_2.txt\",   Some     \"2222222222222222222222222222222222\n",
      "178 / 638457701656599518 / Changed  (\"file_2.txt\",   Some     \"2222222222222222222222222222222222\n",
      "158 / 638457701656599676 / Changed  (\"file_2.txt\",   Some     \"2222222222222222222222222222222222\n",
      "203 / 638457701656599879 / Changed  (\"file_2.txt\",   Some     \"2222222222222222222222222222222222\n",
      "164 / 638457701656600043 / Changed  (\"file_2.txt\",   Some     \"2222222222222222222222222222222222\n",
      "176 / 638457701656600219 / Changed  (\"file_2.txt\",   Some     \"2222222222222222222222222222222222\n",
      "170 / 638457701656600389 / Changed  (\"file_2.txt\",   Some     \"2222222222222222222222222222222222\n",
      "167 / 638457701656600556 / Changed  (\"file_2.txt\",   Some     \"2222222222222222222222222222222222\n",
      "180 / 638457701656600736 / Changed  (\"file_2.txt\",   Some     \"2222222222222222222222222222222222\n",
      "175 / 638457701656600911 / Changed  (\"file_2.txt\",   Some     \"2222222222222222222222222222222222\n",
      "170 / 638457701656601081 / Changed  (\"file_2.txt\",   Some     \"2222222222222222222222222222222222\n",
      "199 / 638457701656601280 / Changed  (\"file_2.txt\",   Some     \"2222222222222222222222222222222222\n",
      "154 / 638457701656601434 / Changed  (\"file_2.txt\",   Some     \"2222222222222222222222222222222222\n",
      "200 / 638457701656601634 / Changed  (\"file_2.txt\",   Some     \"2222222222222222222222222222222222\n",
      "134 / 638457701656601768 / Changed  (\"file_2.txt\",   Some     \"2222222222222222222222222222222222\n",
      "183 / 638457701656601951 / Changed  (\"file_2.txt\",   Some     \"2222222222222222222222222222222222\n",
      "163 / 638457701656602114 / Changed  (\"file_2.txt\",   Some     \"2222222222222222222222222222222222\n",
      "162 / 638457701656602276 / Changed  (\"file_2.txt\",   Some     \"2222222222222222222222222222222222\n",
      "192 / 638457701656602468 / Changed  (\"file_2.txt\",   Some     \"2222222222222222222222222222222222\n",
      "167 / 638457701656602635 / Changed  (\"file_2.txt\",   Some     \"2222222222222222222222222222222222\n",
      "181 / 638457701656602816 / Changed  (\"file_2.txt\",   Some     \"2222222222222222222222222222222222\n",
      "186 / 638457701656603002 / Changed  (\"file_2.txt\",   Some     \"2222222222222222222222222222222222\n",
      "139 / 638457701656603141 / Changed  (\"file_2.txt\",   Some     \"2222222222222222222222222222222222\n",
      "181 / 638457701656603322 / Changed  (\"file_2.txt\",   Some     \"2222222222222222222222222222222222\n",
      "138 / 638457701656603460 / Changed  (\"file_2.txt\",   Some     \"2222222222222222222222222222222222\n",
      "213 / 638457701656603673 / Changed  (\"file_2.txt\",   Some     \"2222222222222222222222222222222222\n",
      "206 / 638457701656603879 / Changed  (\"file_2.txt\",   Some     \"2222222222222222222222222222222222\n",
      "192 / 638457701656604071 / Changed  (\"file_2.txt\",   Some     \"2222222222222222222222222222222222\n",
      "13 / 638457701656604084 / Changed  (\"file_2.txt\",   Some     \"22222222222222222222222222222222222\n",
      "14983218 / 638457701671587302 / Deleted \"file_1.txt\"\n",
      "2789 / 638457701671590091 / Deleted \"file_2.txt\"\n",
      "FSharpList<FileSystemChange>\n",
      "      - path: file1.txt\n",
      "        content: FSharpOption<String>\n",
      "          Value: 1a\n",
      "        IsFailure: False\n",
      "        IsChanged: False\n",
      "        IsCreated: True\n",
      "        IsDeleted: False\n",
      "        IsRenamed: False\n",
      "      - path: file1.txt\n",
      "        content: FSharpOption<String>\n",
      "          Value: 1a\n",
      "        IsFailure: False\n",
      "        IsChanged: True\n",
      "        IsCreated: False\n",
      "        IsDeleted: False\n",
      "        IsRenamed: False\n",
      "      - path: file2.txt\n",
      "        content: FSharpOption<String>\n",
      "          Value: 2a\n",
      "        IsFailure: False\n",
      "        IsChanged: False\n",
      "        IsCreated: True\n",
      "        IsDeleted: False\n",
      "        IsRenamed: False\n",
      "      - path: file2.txt\n",
      "        content: FSharpOption<String>\n",
      "          Value: 2a\n",
      "        IsFailure: False\n",
      "        IsChanged: True\n",
      "        IsCreated: False\n",
      "        IsDeleted: False\n",
      "        IsRenamed: False\n",
      "      - path: file1.txt\n",
      "        content: FSharpOption<String>\n",
      "          Value: 1b\n",
      "        IsFailure: False\n",
      "        IsChanged: True\n",
      "        IsCreated: False\n",
      "        IsDeleted: False\n",
      "        IsRenamed: False\n",
      "      - path: file2.txt\n",
      "        content: FSharpOption<String>\n",
      "          Value: 2b\n",
      "        IsFailure: False\n",
      "        IsChanged: True\n",
      "        IsCreated: False\n",
      "        IsDeleted: False\n",
      "        IsRenamed: False\n",
      "      - oldPath: file1.txt\n",
      "        Item2:         - file_1.txt\n",
      "        - FSharpOption<String>\n",
      "            Value: 1b\n",
      "      - IsFailure: False\n",
      "        IsChanged: False\n",
      "        IsCreated: False\n",
      "        IsDeleted: False\n",
      "        IsRenamed: True\n",
      "      - oldPath: file2.txt\n",
      "        Item2:         - file_2.txt\n",
      "        - FSharpOption<String>\n",
      "            Value: 2b\n",
      "      - IsFailure: False\n",
      "        IsChanged: False\n",
      "        IsCreated: False\n",
      "        IsDeleted: False\n",
      "        IsRenamed: True\n",
      "      - path: file_1.txt\n",
      "        content: FSharpOption<String>\n",
      "          Value: 1c\n",
      "        IsFailure: False\n",
      "        IsChanged: True\n",
      "        IsCreated: False\n",
      "        IsDeleted: False\n",
      "        IsRenamed: False\n",
      "      - path: file_2.txt\n",
      "        content: FSharpOption<String>\n",
      "          Value: 2c\n",
      "        IsFailure: False\n",
      "        IsChanged: True\n",
      "        IsCreated: False\n",
      "        IsDeleted: False\n",
      "        IsRenamed: False\n",
      "      - path: file_1.txt\n",
      "        IsFailure: False\n",
      "        IsChanged: False\n",
      "        IsCreated: False\n",
      "        IsDeleted: True\n",
      "        IsRenamed: False\n",
      "      - path: file_2.txt\n",
      "        IsFailure: False\n",
      "        IsChanged: False\n",
      "        IsCreated: False\n",
      "        IsDeleted: True\n",
      "        IsRenamed: False\n",
      "FSharpOption<Unit>\n",
      "      Value: <null>\n"
     ]
    }
   ],
   "source": [
    "//// test\n",
    "\n",
    "let inline write path = async {\n",
    "    let n = 2\n",
    "\n",
    "    let contents =\n",
    "        [ 1 .. n ]\n",
    "        |> List.map (string >> String.replicate 1_000_000)\n",
    "\n",
    "    for i = 1 to n do\n",
    "        do! $\"{contents.[i - 1]}a\" |> writeAllTextAsync (path </> $\"file{i}.txt\")\n",
    "\n",
    "    do! Async.Sleep 1500\n",
    "\n",
    "    for i = 1 to n do\n",
    "        do! $\"{contents.[i - 1]}b\" |> writeAllTextAsync (path </> $\"file{i}.txt\")\n",
    "\n",
    "    do! Async.Sleep 1500\n",
    "\n",
    "    for i = 1 to n do\n",
    "        do! path </> $\"file{i}.txt\" |> moveFileAsync (path </> $\"file_{i}.txt\") |> Async.Ignore\n",
    "\n",
    "    do! Async.Sleep 1500\n",
    "\n",
    "    for i = 1 to n do\n",
    "        do! $\"{contents.[i - 1]}c\" |> writeAllTextAsync (path </> $\"file_{i}.txt\")\n",
    "\n",
    "    do! Async.Sleep 1500\n",
    "\n",
    "    for i = 1 to n do\n",
    "        do! deleteFileAsync (path </> $\"file_{i}.txt\") |> Async.Ignore\n",
    "\n",
    "    do! Async.Sleep 1500\n",
    "}\n",
    "\n",
    "let inline run () =\n",
    "    let events =\n",
    "        testEventsRaw watchDirectory write\n",
    "        |> List.map (function\n",
    "            | FileSystemChange.Changed (path, Some content) ->\n",
    "                FileSystemChange.Changed (path, content |> Seq.distinct |> Seq.map string |> String.concat \"\" |> Some)\n",
    "            | FileSystemChange.Created (path, Some content) ->\n",
    "                FileSystemChange.Created (path, content |> Seq.distinct |> Seq.map string |> String.concat \"\" |> Some)\n",
    "            | FileSystemChange.Renamed (oldPath, (newPath, Some content)) ->\n",
    "                FileSystemChange.Renamed (\n",
    "                    oldPath,\n",
    "                    (newPath, content |> Seq.distinct |> Seq.map string |> String.concat \"\" |> Some)\n",
    "                )\n",
    "            | event -> event\n",
    "        )\n",
    "\n",
    "    events\n",
    "    |> _sequenceEqual [\n",
    "        FileSystemChange.Created (\"file1.txt\", Some \"1a\")\n",
    "        FileSystemChange.Changed (\"file1.txt\", Some \"1a\")\n",
    "        FileSystemChange.Created (\"file2.txt\", Some \"2a\")\n",
    "        FileSystemChange.Changed (\"file2.txt\", Some \"2a\")\n",
    "\n",
    "        FileSystemChange.Changed (\"file1.txt\", Some \"1b\")\n",
    "        FileSystemChange.Changed (\"file2.txt\", Some \"2b\")\n",
    "\n",
    "        FileSystemChange.Renamed (\"file1.txt\", (\"file_1.txt\", Some \"1b\"))\n",
    "        FileSystemChange.Renamed (\"file2.txt\", (\"file_2.txt\", Some \"2b\"))\n",
    "\n",
    "        FileSystemChange.Changed (\"file_1.txt\", Some \"1c\")\n",
    "        FileSystemChange.Changed (\"file_2.txt\", Some \"2c\")\n",
    "\n",
    "        FileSystemChange.Deleted \"file_1.txt\"\n",
    "        FileSystemChange.Deleted \"file_2.txt\"\n",
    "    ]\n",
    "\n",
    "run\n",
    "|> retryFn 5\n",
    "|> _equal (Some ())"
   ]
  },
  {
   "cell_type": "markdown",
   "metadata": {},
   "source": [
    "### testEventsSorted (test)"
   ]
  },
  {
   "cell_type": "code",
   "execution_count": null,
   "metadata": {
    "dotnet_interactive": {
     "language": "fsharp"
    },
    "polyglot_notebook": {
     "kernelName": "fsharp"
    }
   },
   "outputs": [],
   "source": [
    "//// test\n",
    "\n",
    "let inline sortEvent event =\n",
    "    match event with\n",
    "    | FileSystemChange.Failure _ -> 0\n",
    "    | FileSystemChange.Created _ -> 1\n",
    "    | FileSystemChange.Changed _ -> 2\n",
    "    | FileSystemChange.Renamed (_oldPath, _) -> 3\n",
    "    | FileSystemChange.Deleted _ -> 4\n",
    "\n",
    "let inline formatEvents events =\n",
    "    events\n",
    "    |> Seq.toList\n",
    "    |> List.sortBy (snd >> sortEvent)\n",
    "    |> List.choose (fun (ticks, event) ->\n",
    "        match event with\n",
    "        | FileSystemChange.Failure _ ->\n",
    "            None\n",
    "        | FileSystemChange.Changed (path, _) ->\n",
    "            Some (ticks, System.IO.Path.GetFileName path, nameof FileSystemChangeType.Changed)\n",
    "        | FileSystemChange.Created (path, _) ->\n",
    "            Some (ticks, System.IO.Path.GetFileName path, nameof FileSystemChangeType.Created)\n",
    "        | FileSystemChange.Deleted path ->\n",
    "            Some (ticks, System.IO.Path.GetFileName path, nameof FileSystemChangeType.Deleted)\n",
    "        | FileSystemChange.Renamed (_oldPath, (path, _)) ->\n",
    "            Some (ticks, System.IO.Path.GetFileName path, nameof FileSystemChangeType.Renamed)\n",
    "    )\n",
    "    |> List.sortBy (fun (_, path, _) -> path)\n",
    "    |> List.distinctBy (fun (_, path, event) -> path, event)\n",
    "\n",
    "let inline testEventsSorted\n",
    "    (watchFn : string -> FSharp.Control.AsyncSeq<int64 * FileSystemChange> * IDisposable)\n",
    "    write\n",
    "    =\n",
    "    let path = createTempDirectory ()\n",
    "    let stream, disposable = watchFn path\n",
    "\n",
    "    let events = System.Collections.Concurrent.ConcurrentBag ()\n",
    "\n",
    "    let inline iter () =\n",
    "        stream\n",
    "        |> FSharp.Control.AsyncSeq.iterAsyncParallel (fun event -> async { events.Add event })\n",
    "\n",
    "    let run = async {\n",
    "        let! _ = iter () |> Async.StartChild\n",
    "        do! Async.Sleep 250\n",
    "        return! write path\n",
    "    }\n",
    "\n",
    "    try\n",
    "        run\n",
    "        |> Async.runWithTimeout 5000\n",
    "        |> _equal (Some ())\n",
    "    finally\n",
    "        disposable.Dispose ()\n",
    "        deleteDirectoryAsync path |> Async.Ignore |> Async.RunSynchronously\n",
    "\n",
    "    let events = formatEvents events\n",
    "\n",
    "    let eventMap =\n",
    "        events\n",
    "        |> List.map (fun (ticks, path, event) -> path, (event, ticks))\n",
    "        |> List.groupBy fst\n",
    "        |> List.map (fun (path, events) ->\n",
    "            let event, _ticks =\n",
    "                events\n",
    "                |> List.map snd\n",
    "                |> List.sortByDescending snd\n",
    "                |> List.head\n",
    "\n",
    "            path, event\n",
    "        )\n",
    "        |> Map.ofList\n",
    "\n",
    "    let eventList =\n",
    "        events\n",
    "        |> List.map (fun (_ticks, path, event) -> path, event)\n",
    "\n",
    "    eventMap, eventList"
   ]
  },
  {
   "cell_type": "markdown",
   "metadata": {},
   "source": [
    "#### create and delete (test)"
   ]
  },
  {
   "cell_type": "code",
   "execution_count": null,
   "metadata": {
    "dotnet_interactive": {
     "language": "fsharp"
    },
    "polyglot_notebook": {
     "kernelName": "fsharp"
    }
   },
   "outputs": [
    {
     "name": "stdout",
     "output_type": "stream",
     "text": [
      "FSharpOption<Unit>\n",
      "      Value: <null>\n",
      "00:00:29 #51 [Debug] watchWithFilter / Disposing watch stream / filter: FileName, LastWrite\n",
      "FSharpList<Tuple<String,String>>\n",
      "( file1.txt, Created )\n",
      "( file1.txt, Changed )\n",
      "( file1.txt, Deleted )\n",
      "( file2.txt, Created )\n",
      "( file2.txt, Changed )\n",
      "( file2.txt, Deleted )\n",
      "( file3.txt, Created )\n",
      "( file3.txt, Changed )\n",
      "( file3.txt, Deleted )\n",
      "FSharpMap<String,String>\n",
      "      - Key: file1.txt\n",
      "        Value: Deleted\n",
      "      - Key: file2.txt\n",
      "        Value: Deleted\n",
      "      - Key: file3.txt\n",
      "        Value: Deleted\n",
      "FSharpOption<Unit>\n",
      "      Value: <null>\n"
     ]
    }
   ],
   "source": [
    "//// test\n",
    "\n",
    "let inline write path = async {\n",
    "    let n = 3\n",
    "\n",
    "    for i = 1 to n do\n",
    "        do! $\"{i}\" |> writeAllTextAsync (path </> $\"file{i}.txt\")\n",
    "\n",
    "    for i = 1 to n do\n",
    "        do! deleteFileAsync (path </> $\"file{i}.txt\") |> Async.Ignore\n",
    "\n",
    "    do! Async.Sleep 150\n",
    "}\n",
    "\n",
    "let inline run () =\n",
    "    let eventMap, eventList = testEventsSorted (watchDirectory (fun _ -> false)) write\n",
    "\n",
    "    [\n",
    "        \"file1.txt\", nameof FileSystemChangeType.Created\n",
    "        \"file1.txt\", nameof FileSystemChangeType.Changed\n",
    "        \"file1.txt\", nameof FileSystemChangeType.Deleted\n",
    "\n",
    "        \"file2.txt\", nameof FileSystemChangeType.Created\n",
    "        \"file2.txt\", nameof FileSystemChangeType.Changed\n",
    "        \"file2.txt\", nameof FileSystemChangeType.Deleted\n",
    "\n",
    "        \"file3.txt\", nameof FileSystemChangeType.Created\n",
    "        \"file3.txt\", nameof FileSystemChangeType.Changed\n",
    "        \"file3.txt\", nameof FileSystemChangeType.Deleted\n",
    "    ]\n",
    "    |> _sequenceEqual eventList\n",
    "\n",
    "    [\n",
    "        \"file1.txt\", nameof FileSystemChangeType.Deleted\n",
    "        \"file2.txt\", nameof FileSystemChangeType.Deleted\n",
    "        \"file3.txt\", nameof FileSystemChangeType.Deleted\n",
    "    ]\n",
    "    |> Map.ofList\n",
    "    |> _sequenceEqual eventMap\n",
    "\n",
    "run\n",
    "|> retryFn 3\n",
    "|> _equal (Some ())"
   ]
  },
  {
   "cell_type": "markdown",
   "metadata": {},
   "source": [
    "#### change (test)"
   ]
  },
  {
   "cell_type": "code",
   "execution_count": null,
   "metadata": {
    "dotnet_interactive": {
     "language": "fsharp"
    },
    "polyglot_notebook": {
     "kernelName": "fsharp"
    }
   },
   "outputs": [
    {
     "name": "stdout",
     "output_type": "stream",
     "text": [
      "FSharpOption<Unit>\n",
      "      Value: <null>\n",
      "00:00:31 #52 [Debug] watchWithFilter / Disposing watch stream / filter: FileName, LastWrite\n",
      "FSharpList<Tuple<String,String>>\n",
      "( file1.txt, Created )\n",
      "( file1.txt, Changed )\n",
      "( file1.txt, Deleted )\n",
      "( file2.txt, Created )\n",
      "( file2.txt, Changed )\n",
      "( file2.txt, Deleted )\n",
      "FSharpMap<String,String>\n",
      "      - Key: file1.txt\n",
      "        Value: Deleted\n",
      "      - Key: file2.txt\n",
      "        Value: Deleted\n",
      "FSharpOption<Unit>\n",
      "      Value: <null>\n"
     ]
    }
   ],
   "source": [
    "//// test\n",
    "\n",
    "let inline write path = async {\n",
    "    let n = 2\n",
    "\n",
    "    for i = 1 to n do\n",
    "        do! $\"{i}\" |> writeAllTextAsync (path </> $\"file{i}.txt\")\n",
    "\n",
    "    for i = 1 to n do\n",
    "        do! \"\" |> writeAllTextAsync (path </> $\"file{i}.txt\")\n",
    "\n",
    "    for i = 1 to n do\n",
    "        do! deleteFileAsync (path </> $\"file{i}.txt\") |> Async.Ignore\n",
    "\n",
    "    do! Async.Sleep 150\n",
    "}\n",
    "\n",
    "let inline run () =\n",
    "    let eventMap, eventList = testEventsSorted (watchDirectory (fun _ -> false)) write\n",
    "\n",
    "    [\n",
    "        \"file1.txt\", nameof FileSystemChangeType.Created\n",
    "        \"file1.txt\", nameof FileSystemChangeType.Changed\n",
    "        \"file1.txt\", nameof FileSystemChangeType.Deleted\n",
    "\n",
    "        \"file2.txt\", nameof FileSystemChangeType.Created\n",
    "        \"file2.txt\", nameof FileSystemChangeType.Changed\n",
    "        \"file2.txt\", nameof FileSystemChangeType.Deleted\n",
    "    ]\n",
    "    |> _sequenceEqual eventList\n",
    "\n",
    "    [\n",
    "        \"file1.txt\", nameof FileSystemChangeType.Deleted\n",
    "        \"file2.txt\", nameof FileSystemChangeType.Deleted\n",
    "    ]\n",
    "    |> Map.ofList\n",
    "    |> _sequenceEqual eventMap\n",
    "\n",
    "run\n",
    "|> retryFn 3\n",
    "|> _equal (Some ())"
   ]
  },
  {
   "cell_type": "markdown",
   "metadata": {},
   "source": [
    "#### rename (test)"
   ]
  },
  {
   "cell_type": "code",
   "execution_count": null,
   "metadata": {
    "dotnet_interactive": {
     "language": "fsharp"
    },
    "polyglot_notebook": {
     "kernelName": "fsharp"
    }
   },
   "outputs": [
    {
     "name": "stdout",
     "output_type": "stream",
     "text": [
      "FSharpOption<Unit>\n",
      "      Value: <null>\n",
      "00:00:34 #53 [Debug] watchWithFilter / Disposing watch stream / filter: FileName, LastWrite\n",
      "FSharpList<Tuple<String,String>>\n",
      "( file1.txt, Created )\n",
      "( file1.txt, Changed )\n",
      "( file2.txt, Created )\n",
      "( file2.txt, Changed )\n",
      "( file_1.txt, Renamed )\n",
      "( file_1.txt, Deleted )\n",
      "( file_2.txt, Renamed )\n",
      "( file_2.txt, Deleted )\n",
      "FSharpMap<String,String>\n",
      "      - Key: file1.txt\n",
      "        Value: Changed\n",
      "      - Key: file2.txt\n",
      "        Value: Changed\n",
      "      - Key: file_1.txt\n",
      "        Value: Deleted\n",
      "      - Key: file_2.txt\n",
      "        Value: Deleted\n",
      "FSharpOption<Unit>\n",
      "      Value: <null>\n"
     ]
    }
   ],
   "source": [
    "//// test\n",
    "\n",
    "let inline write path = async {\n",
    "    let n = 2\n",
    "\n",
    "    for i = 1 to n do\n",
    "        do! $\"{i}\" |> writeAllTextAsync (path </> $\"file{i}.txt\")\n",
    "\n",
    "    for i = 1 to n do\n",
    "        do! path </> $\"file{i}.txt\" |> moveFileAsync (path </> $\"file_{i}.txt\") |> Async.Ignore\n",
    "\n",
    "    for i = 1 to n do\n",
    "        do! deleteFileAsync (path </> $\"file_{i}.txt\") |> Async.Ignore\n",
    "\n",
    "    do! Async.Sleep 150\n",
    "}\n",
    "\n",
    "let inline run () =\n",
    "    let eventMap, eventList = testEventsSorted (watchDirectory (fun _ -> false)) write\n",
    "\n",
    "    [\n",
    "        \"file1.txt\", nameof FileSystemChangeType.Created\n",
    "        \"file1.txt\", nameof FileSystemChangeType.Changed\n",
    "        \"file2.txt\", nameof FileSystemChangeType.Created\n",
    "        \"file2.txt\", nameof FileSystemChangeType.Changed\n",
    "\n",
    "        \"file_1.txt\", nameof FileSystemChangeType.Renamed\n",
    "        \"file_1.txt\", nameof FileSystemChangeType.Deleted\n",
    "\n",
    "        \"file_2.txt\", nameof FileSystemChangeType.Renamed\n",
    "        \"file_2.txt\", nameof FileSystemChangeType.Deleted\n",
    "    ]\n",
    "    |> _sequenceEqual eventList\n",
    "\n",
    "    [\n",
    "        \"file1.txt\", nameof FileSystemChangeType.Changed\n",
    "        \"file2.txt\", nameof FileSystemChangeType.Changed\n",
    "        \"file_1.txt\", nameof FileSystemChangeType.Deleted\n",
    "        \"file_2.txt\", nameof FileSystemChangeType.Deleted\n",
    "    ]\n",
    "    |> Map.ofList\n",
    "    |> _sequenceEqual eventMap\n",
    "\n",
    "run\n",
    "|> retryFn 3\n",
    "|> _equal (Some ())"
   ]
  },
  {
   "cell_type": "markdown",
   "metadata": {},
   "source": [
    "#### full (test)"
   ]
  },
  {
   "cell_type": "code",
   "execution_count": null,
   "metadata": {
    "dotnet_interactive": {
     "language": "fsharp"
    },
    "polyglot_notebook": {
     "kernelName": "fsharp"
    }
   },
   "outputs": [
    {
     "name": "stdout",
     "output_type": "stream",
     "text": [
      "FSharpOption<Unit>\n",
      "      Value: <null>\n",
      "00:00:37 #54 [Debug] watchWithFilter / Disposing watch stream / filter: FileName, LastWrite\n",
      "FSharpList<Tuple<String,String>>\n",
      "( file1.txt, Created )\n",
      "( file1.txt, Changed )\n",
      "( file2.txt, Created )\n",
      "( file2.txt, Changed )\n",
      "( file_1.txt, Changed )\n",
      "( file_1.txt, Renamed )\n",
      "( file_1.txt, Deleted )\n",
      "( file_2.txt, Changed )\n",
      "( file_2.txt, Renamed )\n",
      "( file_2.txt, Deleted )\n",
      "FSharpMap<String,String>\n",
      "      - Key: file1.txt\n",
      "        Value: Changed\n",
      "      - Key: file2.txt\n",
      "        Value: Changed\n",
      "      - Key: file_1.txt\n",
      "        Value: Deleted\n",
      "      - Key: file_2.txt\n",
      "        Value: Deleted\n",
      "FSharpOption<Unit>\n",
      "      Value: <null>\n"
     ]
    }
   ],
   "source": [
    "//// test\n",
    "\n",
    "let inline write path = async {\n",
    "    let n = 2\n",
    "\n",
    "    for i = 1 to n do\n",
    "        do! $\"{i}\" |> writeAllTextAsync (path </> $\"file{i}.txt\")\n",
    "\n",
    "    for i = 1 to n do\n",
    "        do! \"\" |> writeAllTextAsync (path </> $\"file{i}.txt\")\n",
    "\n",
    "    for i = 1 to n do\n",
    "        do! path </> $\"file{i}.txt\" |> moveFileAsync (path </> $\"file_{i}.txt\") |> Async.Ignore\n",
    "\n",
    "    for i = 1 to n do\n",
    "        do! $\"{i}\" |> writeAllTextAsync (path </> $\"file_{i}.txt\")\n",
    "\n",
    "    for i = 1 to n do\n",
    "        do! deleteFileAsync (path </> $\"file_{i}.txt\") |> Async.Ignore\n",
    "\n",
    "    do! Async.Sleep 150\n",
    "}\n",
    "\n",
    "let inline run () =\n",
    "    let eventMap, eventList = testEventsSorted (watchDirectory (fun _ -> false)) write\n",
    "\n",
    "    [\n",
    "        \"file1.txt\", nameof FileSystemChangeType.Created\n",
    "        \"file1.txt\", nameof FileSystemChangeType.Changed\n",
    "        \"file2.txt\", nameof FileSystemChangeType.Created\n",
    "        \"file2.txt\", nameof FileSystemChangeType.Changed\n",
    "\n",
    "        \"file_1.txt\", nameof FileSystemChangeType.Changed\n",
    "        \"file_1.txt\", nameof FileSystemChangeType.Renamed\n",
    "        \"file_1.txt\", nameof FileSystemChangeType.Deleted\n",
    "\n",
    "        \"file_2.txt\", nameof FileSystemChangeType.Changed\n",
    "        \"file_2.txt\", nameof FileSystemChangeType.Renamed\n",
    "        \"file_2.txt\", nameof FileSystemChangeType.Deleted\n",
    "    ]\n",
    "    |> _sequenceEqual eventList\n",
    "\n",
    "    [\n",
    "        \"file1.txt\", nameof FileSystemChangeType.Changed\n",
    "        \"file2.txt\", nameof FileSystemChangeType.Changed\n",
    "        \"file_1.txt\", nameof FileSystemChangeType.Deleted\n",
    "        \"file_2.txt\", nameof FileSystemChangeType.Deleted\n",
    "    ]\n",
    "    |> Map.ofList\n",
    "    |> _sequenceEqual eventMap\n",
    "\n",
    "run\n",
    "|> retryFn 3\n",
    "|> _equal (Some ())"
   ]
  }
 ],
 "metadata": {},
 "nbformat": 4,
 "nbformat_minor": 5
}