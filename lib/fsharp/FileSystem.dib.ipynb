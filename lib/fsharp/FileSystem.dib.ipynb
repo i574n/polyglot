{
 "cells": [
  {
   "cell_type": "markdown",
   "metadata": {},
   "source": [
    "# FileSystem (Polyglot)"
   ]
  },
  {
   "cell_type": "code",
   "execution_count": null,
   "metadata": {
    "dotnet_interactive": {
     "language": "fsharp"
    },
    "polyglot_notebook": {
     "kernelName": "fsharp"
    }
   },
   "outputs": [],
   "source": [
    "#!import ../../lib/fsharp/Notebooks.dib\n",
    "#!import ../../lib/fsharp/Testing.dib"
   ]
  },
  {
   "cell_type": "code",
   "execution_count": null,
   "metadata": {
    "dotnet_interactive": {
     "language": "fsharp"
    },
    "polyglot_notebook": {
     "kernelName": "fsharp"
    }
   },
   "outputs": [],
   "source": [
    "#r @\"../../../../../../../.nuget/packages/fsharp.control.asyncseq/3.2.1/lib/netstandard2.1/FSharp.Control.AsyncSeq.dll\"\n",
    "#r @\"../../../../../../../.nuget/packages/system.reactive/6.0.1-preview.1/lib/net6.0/System.Reactive.dll\"\n",
    "#r @\"../../../../../../../.nuget/packages/system.reactive.linq/6.0.1-preview.1/lib/netstandard2.0/System.Reactive.Linq.dll\"\n",
    "#r @\"../../../../../../../.nuget/packages/argu/6.2.2/lib/netstandard2.0/Argu.dll\"\n",
    "#r @\"../../../../../../../.nuget/packages/system.commandline/2.0.0-beta4.22272.1/lib/net6.0/System.CommandLine.dll\""
   ]
  },
  {
   "cell_type": "code",
   "execution_count": null,
   "metadata": {
    "dotnet_interactive": {
     "language": "fsharp"
    },
    "polyglot_notebook": {
     "kernelName": "fsharp"
    }
   },
   "outputs": [],
   "source": [
    "#!import ../../lib/fsharp/Common.fs\n",
    "#!import ../../lib/fsharp/CommonFSharp.fs\n",
    "#!import ../../lib/fsharp/Async.fs\n",
    "#!import ../../lib/fsharp/AsyncSeq.fs\n",
    "#!import ../../lib/fsharp/Runtime.fs"
   ]
  },
  {
   "cell_type": "code",
   "execution_count": null,
   "metadata": {
    "dotnet_interactive": {
     "language": "fsharp"
    },
    "polyglot_notebook": {
     "kernelName": "fsharp"
    }
   },
   "outputs": [],
   "source": [
    "open Common"
   ]
  },
  {
   "cell_type": "markdown",
   "metadata": {},
   "source": [
    "## Operators"
   ]
  },
  {
   "cell_type": "code",
   "execution_count": null,
   "metadata": {
    "dotnet_interactive": {
     "language": "fsharp"
    },
    "polyglot_notebook": {
     "kernelName": "fsharp"
    }
   },
   "outputs": [],
   "source": [
    "module Operators =\n",
    "    let inline (</>) a b =\n",
    "        System.IO.Path.Combine (a, b)"
   ]
  },
  {
   "cell_type": "code",
   "execution_count": null,
   "metadata": {
    "dotnet_interactive": {
     "language": "fsharp"
    },
    "polyglot_notebook": {
     "kernelName": "fsharp"
    }
   },
   "outputs": [],
   "source": [
    "open Operators"
   ]
  },
  {
   "cell_type": "markdown",
   "metadata": {},
   "source": [
    "## createTempDirectoryName"
   ]
  },
  {
   "cell_type": "code",
   "execution_count": null,
   "metadata": {
    "dotnet_interactive": {
     "language": "fsharp"
    },
    "polyglot_notebook": {
     "kernelName": "fsharp"
    }
   },
   "outputs": [],
   "source": [
    "let inline createTempDirectoryName () =\n",
    "    let root = System.Reflection.Assembly.GetEntryAssembly().GetName().Name\n",
    "\n",
    "    System.IO.Path.GetTempPath ()\n",
    "    </> $\"!{root}\"\n",
    "    </> string (newGuidFromDateTime System.DateTime.Now)"
   ]
  },
  {
   "cell_type": "code",
   "execution_count": null,
   "metadata": {
    "dotnet_interactive": {
     "language": "fsharp"
    },
    "polyglot_notebook": {
     "kernelName": "fsharp"
    }
   },
   "outputs": [
    {
     "name": "stdout",
     "output_type": "stream",
     "text": [
      "/tmp/!dotnet-repl/20240323-1549-0045-4574-40b425e4c318\n"
     ]
    }
   ],
   "source": [
    "//// test\n",
    "\n",
    "createTempDirectoryName ()\n",
    "|> _contains System.IO.Path.DirectorySeparatorChar"
   ]
  },
  {
   "cell_type": "markdown",
   "metadata": {},
   "source": [
    "## createTempDirectory"
   ]
  },
  {
   "cell_type": "code",
   "execution_count": null,
   "metadata": {
    "dotnet_interactive": {
     "language": "fsharp"
    },
    "polyglot_notebook": {
     "kernelName": "fsharp"
    }
   },
   "outputs": [],
   "source": [
    "let inline createTempDirectory () =\n",
    "    let tempFolder = createTempDirectoryName ()\n",
    "    let result = System.IO.Directory.CreateDirectory tempFolder\n",
    "\n",
    "    if not result.Exists then\n",
    "        let getLocals () =\n",
    "            $\"tempFolder: {tempFolder} / result: {({|\n",
    "                Exists = result.Exists\n",
    "                CreationTime = result.CreationTime\n",
    "            |})} {getLocals ()}\"\n",
    "\n",
    "        trace Debug (fun () -> \"createTempDirectory\") getLocals\n",
    "\n",
    "    tempFolder"
   ]
  },
  {
   "cell_type": "code",
   "execution_count": null,
   "metadata": {
    "dotnet_interactive": {
     "language": "fsharp"
    },
    "polyglot_notebook": {
     "kernelName": "fsharp"
    }
   },
   "outputs": [
    {
     "name": "stdout",
     "output_type": "stream",
     "text": [
      "True\n"
     ]
    }
   ],
   "source": [
    "//// test\n",
    "\n",
    "let tempDirectory = createTempDirectory ()\n",
    "\n",
    "Directory.Exists tempDirectory\n",
    "|> _assertEqual true"
   ]
  },
  {
   "cell_type": "markdown",
   "metadata": {},
   "source": [
    "## getSourceDirectory"
   ]
  },
  {
   "cell_type": "code",
   "execution_count": null,
   "metadata": {
    "dotnet_interactive": {
     "language": "fsharp"
    },
    "polyglot_notebook": {
     "kernelName": "fsharp"
    }
   },
   "outputs": [],
   "source": [
    "let getSourceDirectory =\n",
    "    fun () -> __SOURCE_DIRECTORY__\n",
    "    |> memoize"
   ]
  },
  {
   "cell_type": "code",
   "execution_count": null,
   "metadata": {
    "dotnet_interactive": {
     "language": "fsharp"
    },
    "polyglot_notebook": {
     "kernelName": "fsharp"
    }
   },
   "outputs": [
    {
     "name": "stdout",
     "output_type": "stream",
     "text": [
      "fsharp\n"
     ]
    }
   ],
   "source": [
    "//// test\n",
    "\n",
    "getSourceDirectory ()\n",
    "|> System.IO.DirectoryInfo\n",
    "|> fun dir -> dir.Name\n",
    "|> _assertEqual \"fsharp\""
   ]
  },
  {
   "cell_type": "markdown",
   "metadata": {},
   "source": [
    "## findParent"
   ]
  },
  {
   "cell_type": "code",
   "execution_count": null,
   "metadata": {
    "dotnet_interactive": {
     "language": "fsharp"
    },
    "polyglot_notebook": {
     "kernelName": "fsharp"
    }
   },
   "outputs": [],
   "source": [
    "let inline findParent name isFile rootDir =\n",
    "    let rec loop dir =\n",
    "        if dir </> name |> (if isFile then System.IO.File.Exists else System.IO.Directory.Exists)\n",
    "        then dir\n",
    "        else\n",
    "            dir\n",
    "            |> System.IO.Directory.GetParent\n",
    "            |> function\n",
    "                | null -> failwith $\"\"\"No parent for {if isFile then \"file\" else \"dir\"} '{name}' at '{rootDir}'\"\"\"\n",
    "                | parent -> parent.FullName |> loop\n",
    "    loop rootDir"
   ]
  },
  {
   "cell_type": "code",
   "execution_count": null,
   "metadata": {
    "dotnet_interactive": {
     "language": "fsharp"
    },
    "polyglot_notebook": {
     "kernelName": "fsharp"
    }
   },
   "outputs": [
    {
     "name": "stdout",
     "output_type": "stream",
     "text": [
      "polyglot\n"
     ]
    }
   ],
   "source": [
    "//// test\n",
    "\n",
    "getSourceDirectory () |> findParent \".paket\" false\n",
    "|> System.IO.DirectoryInfo\n",
    "|> fun dir -> dir.Name\n",
    "|> _assertEqual \"polyglot\""
   ]
  },
  {
   "cell_type": "code",
   "execution_count": null,
   "metadata": {
    "dotnet_interactive": {
     "language": "fsharp"
    },
    "polyglot_notebook": {
     "kernelName": "fsharp"
    }
   },
   "outputs": [
    {
     "name": "stdout",
     "output_type": "stream",
     "text": [
      "polyglot\n"
     ]
    }
   ],
   "source": [
    "//// test\n",
    "\n",
    "getSourceDirectory () |> findParent \"paket.dependencies\" true\n",
    "|> System.IO.DirectoryInfo\n",
    "|> fun dir -> dir.Name\n",
    "|> _assertEqual \"polyglot\""
   ]
  },
  {
   "cell_type": "markdown",
   "metadata": {},
   "source": [
    "## readAllTextAsync"
   ]
  },
  {
   "cell_type": "code",
   "execution_count": null,
   "metadata": {
    "dotnet_interactive": {
     "language": "fsharp"
    },
    "polyglot_notebook": {
     "kernelName": "fsharp"
    }
   },
   "outputs": [],
   "source": [
    "let inline readAllTextAsync path =\n",
    "    path |> System.IO.File.ReadAllTextAsync |> Async.AwaitTask"
   ]
  },
  {
   "cell_type": "markdown",
   "metadata": {},
   "source": [
    "## fileExistsContent"
   ]
  },
  {
   "cell_type": "code",
   "execution_count": null,
   "metadata": {
    "dotnet_interactive": {
     "language": "fsharp"
    },
    "polyglot_notebook": {
     "kernelName": "fsharp"
    }
   },
   "outputs": [],
   "source": [
    "let inline fileExistsContent path content = async {\n",
    "    if path |> System.IO.File.Exists |> not\n",
    "    then return false\n",
    "    else\n",
    "        let! existingContent = path |> readAllTextAsync\n",
    "        return content = existingContent\n",
    "}"
   ]
  },
  {
   "cell_type": "markdown",
   "metadata": {},
   "source": [
    "## writeAllTextAsync"
   ]
  },
  {
   "cell_type": "code",
   "execution_count": null,
   "metadata": {
    "dotnet_interactive": {
     "language": "fsharp"
    },
    "polyglot_notebook": {
     "kernelName": "fsharp"
    }
   },
   "outputs": [],
   "source": [
    "let inline writeAllTextAsync path contents =\n",
    "    System.IO.File.WriteAllTextAsync (path, contents) |> Async.AwaitTask"
   ]
  },
  {
   "cell_type": "markdown",
   "metadata": {},
   "source": [
    "## writeAllTextExists"
   ]
  },
  {
   "cell_type": "code",
   "execution_count": null,
   "metadata": {
    "dotnet_interactive": {
     "language": "fsharp"
    },
    "polyglot_notebook": {
     "kernelName": "fsharp"
    }
   },
   "outputs": [],
   "source": [
    "let inline writeAllTextExists path contents = async {\n",
    "    let! exists = contents |> fileExistsContent path\n",
    "    if not exists\n",
    "    then do! contents |> writeAllTextAsync path\n",
    "}"
   ]
  },
  {
   "cell_type": "markdown",
   "metadata": {},
   "source": [
    "## waitForFileAccess"
   ]
  },
  {
   "cell_type": "code",
   "execution_count": null,
   "metadata": {
    "dotnet_interactive": {
     "language": "fsharp"
    },
    "polyglot_notebook": {
     "kernelName": "fsharp"
    }
   },
   "outputs": [],
   "source": [
    "let inline waitForFileAccess access path =\n",
    "    let fileAccess, fileShare =\n",
    "        access\n",
    "        |> Option.defaultValue (System.IO.FileAccess.ReadWrite, System.IO.FileShare.Read)\n",
    "\n",
    "    let rec loop retry = async {\n",
    "        try\n",
    "            use _ = new System.IO.FileStream (\n",
    "                path,\n",
    "                System.IO.FileMode.Open,\n",
    "                fileAccess,\n",
    "                fileShare\n",
    "            )\n",
    "            return retry\n",
    "        with ex ->\n",
    "            if retry % 100 = 0 then\n",
    "                let getLocals () = $\"path: {path |> System.IO.Path.GetFileName} / ex: {ex |> printException} / {getLocals ()}\"\n",
    "                trace Debug (fun () -> \"waitForFileAccess\") getLocals\n",
    "            do! Async.Sleep 10\n",
    "            return! loop (retry + 1)\n",
    "    }\n",
    "    loop 0"
   ]
  },
  {
   "cell_type": "code",
   "execution_count": null,
   "metadata": {
    "dotnet_interactive": {
     "language": "fsharp"
    },
    "polyglot_notebook": {
     "kernelName": "fsharp"
    }
   },
   "outputs": [
    {
     "name": "stdout",
     "output_type": "stream",
     "text": [
      "00:00:00 #1 [Debug] 1\n",
      "00:00:00 #2 [Debug] 2\n",
      "00:00:00 #3 [Debug] _1\n",
      "00:00:00 #4 [Debug] 3\n",
      "00:00:00 #5 [Debug] _2\n",
      "00:00:00 #6 [Debug] 4\n",
      "00:00:00 #7 [Debug] waitForFileAccess / path: test.txt / ex: System.IO.IOException: The process cannot access the file '/tmp/!dotnet-repl/20240323-1549-0102-0283-047327838b8d/test.txt' because it is being used by another process.\n",
      "00:00:01 #8 [Debug] waitForFileAccess / path: test.txt / ex: System.IO.IOException: The process cannot access the file '/tmp/!dotnet-repl/20240323-1549-0102-0283-047327838b8d/test.txt' because it is being used by another process.\n",
      "00:00:02 #9 [Debug] _3\n",
      "00:00:02 #10 [Debug] _4\n",
      "00:00:02 #11 [Debug] _5\n",
      "00:00:02 #12 [Debug] _6\n",
      "00:00:02 #13 [Debug] 5\n",
      "00:00:02 #14 [Debug] 6\n",
      "00:00:02 #15 [Debug] 7\n",
      "167\n",
      "167\n",
      "167\n",
      "1\n",
      "True\n"
     ]
    }
   ],
   "source": [
    "//// test\n",
    "\n",
    "let tempFolder = createTempDirectory ()\n",
    "let path = tempFolder </> \"test.txt\"\n",
    "\n",
    "let inline lockFile () = async {\n",
    "    trace Debug (fun () -> \"_1\") getLocals\n",
    "    use stream = new System.IO.FileStream (\n",
    "        path,\n",
    "        System.IO.FileMode.Open,\n",
    "        System.IO.FileAccess.ReadWrite,\n",
    "        System.IO.FileShare.None\n",
    "    )\n",
    "    trace Debug (fun () -> \"_2\") getLocals\n",
    "    do! Async.Sleep 2000\n",
    "    trace Debug (fun () -> \"_3\") getLocals\n",
    "    stream.Seek (0L, SeekOrigin.Begin) |> ignore\n",
    "    trace Debug (fun () -> \"_4\") getLocals\n",
    "    stream.WriteByte 49uy\n",
    "    trace Debug (fun () -> \"_5\") getLocals\n",
    "    stream.Flush ()\n",
    "    trace Debug (fun () -> \"_6\") getLocals\n",
    "}\n",
    "\n",
    "async {\n",
    "    trace Debug (fun () -> \"1\") getLocals\n",
    "    do! \"0\" |> writeAllTextAsync path\n",
    "    trace Debug (fun () -> \"2\") getLocals\n",
    "    let! child = lockFile () |> Async.StartChild\n",
    "    trace Debug (fun () -> \"3\") getLocals\n",
    "    do! Async.Sleep 1\n",
    "    trace Debug (fun () -> \"4\") getLocals\n",
    "    let! retries = path |> waitForFileAccess None\n",
    "    trace Debug (fun () -> \"5\") getLocals\n",
    "    let! text = path |> readAllTextAsync\n",
    "    trace Debug (fun () -> \"6\") getLocals\n",
    "    do! child\n",
    "    trace Debug (fun () -> \"7\") getLocals\n",
    "    return retries, text\n",
    "}\n",
    "|> Async.runWithTimeout 3000\n",
    "|> function\n",
    "    | Some (retries, text) ->\n",
    "        retries\n",
    "        |> _isBetween\n",
    "            (if Runtime.isWindows () then 100 else 100)\n",
    "            (if Runtime.isWindows () then 150 else 200)\n",
    "\n",
    "        text |> _assertEqual \"1\"\n",
    "\n",
    "        true\n",
    "    | _ -> false\n",
    "|> _assertEqual true"
   ]
  },
  {
   "cell_type": "markdown",
   "metadata": {},
   "source": [
    "## readAllTextRetryAsync"
   ]
  },
  {
   "cell_type": "code",
   "execution_count": null,
   "metadata": {
    "dotnet_interactive": {
     "language": "fsharp"
    },
    "polyglot_notebook": {
     "kernelName": "fsharp"
    }
   },
   "outputs": [],
   "source": [
    "let inline readAllTextRetryAsync fullPath =\n",
    "    let rec loop retry = async {\n",
    "        try\n",
    "            if retry > 0\n",
    "            then do!\n",
    "                fullPath\n",
    "                |> waitForFileAccess (Some (\n",
    "                    System.IO.FileAccess.Read,\n",
    "                    System.IO.FileShare.Read\n",
    "                ))\n",
    "                |> Async.runWithTimeoutAsync 1000\n",
    "                |> Async.Ignore\n",
    "            return! fullPath |> readAllTextAsync |> Async.map Some\n",
    "        with ex ->\n",
    "            let getLocals () = $\"retry: {retry} / ex: {ex |> printException} / {getLocals ()}\"\n",
    "            trace Debug (fun () -> $\"watchWithFilter / readContent\") getLocals\n",
    "            if retry = 0\n",
    "            then return! loop (retry + 1)\n",
    "            else return None\n",
    "    }\n",
    "    loop 0"
   ]
  },
  {
   "cell_type": "markdown",
   "metadata": {},
   "source": [
    "## deleteDirectoryAsync"
   ]
  },
  {
   "cell_type": "code",
   "execution_count": null,
   "metadata": {
    "dotnet_interactive": {
     "language": "fsharp"
    },
    "polyglot_notebook": {
     "kernelName": "fsharp"
    }
   },
   "outputs": [],
   "source": [
    "let inline deleteDirectoryAsync path =\n",
    "    let rec loop retry = async {\n",
    "        try\n",
    "            System.IO.Directory.Delete (path, true)\n",
    "            return retry\n",
    "        with ex ->\n",
    "            if retry % 100 = 0 then\n",
    "                let getLocals () = $\"path: {path |> System.IO.Path.GetFileName} / ex: {ex |> printException} / {getLocals ()}\"\n",
    "                trace Debug (fun () -> \"deleteDirectoryAsync\") getLocals\n",
    "            do! Async.Sleep 10\n",
    "            return! loop (retry + 1)\n",
    "    }\n",
    "    loop 0"
   ]
  },
  {
   "cell_type": "code",
   "execution_count": null,
   "metadata": {
    "dotnet_interactive": {
     "language": "fsharp"
    },
    "polyglot_notebook": {
     "kernelName": "fsharp"
    }
   },
   "outputs": [
    {
     "name": "stdout",
     "output_type": "stream",
     "text": [
      "00:00:02 #16 [Debug] 1\n",
      "00:00:02 #17 [Debug] 2\n",
      "00:00:02 #18 [Debug] 3\n",
      "00:00:02 #19 [Debug] _1\n",
      "00:00:02 #20 [Debug] _2\n",
      "00:00:02 #21 [Debug] 4\n",
      "00:00:02 #22 [Debug] 5\n",
      "00:00:04 #23 [Debug] _3\n",
      "00:00:04 #24 [Debug] 6\n",
      "0\n",
      "0\n",
      "0\n",
      "True\n"
     ]
    }
   ],
   "source": [
    "//// test\n",
    "\n",
    "let tempFolder = createTempDirectory ()\n",
    "let path = tempFolder </> \"test\"\n",
    "\n",
    "let inline lockDirectory () = async {\n",
    "    trace Debug (fun () -> \"_1\") getLocals\n",
    "    System.IO.File.WriteAllText (path </> \"test.txt\", \"0\")\n",
    "    use _ = new System.IO.FileStream (\n",
    "        path </> \"test.txt\",\n",
    "        System.IO.FileMode.Open,\n",
    "        System.IO.FileAccess.ReadWrite,\n",
    "        System.IO.FileShare.None\n",
    "    )\n",
    "    trace Debug (fun () -> \"_2\") getLocals\n",
    "    do! Async.Sleep 2000\n",
    "    trace Debug (fun () -> \"_3\") getLocals\n",
    "}\n",
    "\n",
    "async {\n",
    "    trace Debug (fun () -> \"1\") getLocals\n",
    "    Directory.CreateDirectory path |> ignore\n",
    "    trace Debug (fun () -> \"2\") getLocals\n",
    "    let! child = lockDirectory () |> Async.StartChild\n",
    "    trace Debug (fun () -> \"3\") getLocals\n",
    "    do! Async.Sleep 60\n",
    "    trace Debug (fun () -> \"4\") getLocals\n",
    "    let! retries = deleteDirectoryAsync path\n",
    "    trace Debug (fun () -> \"5\") getLocals\n",
    "    do! child\n",
    "    trace Debug (fun () -> \"6\") getLocals\n",
    "    return retries\n",
    "}\n",
    "|> Async.runWithTimeout 3000\n",
    "|> function\n",
    "    | Some retries ->\n",
    "        retries\n",
    "        |> _isBetween\n",
    "            (if Runtime.isWindows () then 100 else 0)\n",
    "            (if Runtime.isWindows () then 150 else 0)\n",
    "\n",
    "        true\n",
    "    | _ -> false\n",
    "|> _assertEqual true"
   ]
  },
  {
   "cell_type": "markdown",
   "metadata": {},
   "source": [
    "## deleteFileAsync"
   ]
  },
  {
   "cell_type": "code",
   "execution_count": null,
   "metadata": {
    "dotnet_interactive": {
     "language": "fsharp"
    },
    "polyglot_notebook": {
     "kernelName": "fsharp"
    }
   },
   "outputs": [],
   "source": [
    "let inline deleteFileAsync path =\n",
    "    let rec loop retry = async {\n",
    "        try\n",
    "            System.IO.File.Delete path\n",
    "            return retry\n",
    "        with ex ->\n",
    "            if retry % 100 = 0 then\n",
    "                let getLocals () = $\"path: {path |> System.IO.Path.GetFileName} / ex: {ex |> printException} / {getLocals ()}\"\n",
    "                trace Warning (fun () -> \"deleteFileAsync\") getLocals\n",
    "            do! Async.Sleep 10\n",
    "            return! loop (retry + 1)\n",
    "    }\n",
    "    loop 0"
   ]
  },
  {
   "cell_type": "code",
   "execution_count": null,
   "metadata": {
    "dotnet_interactive": {
     "language": "fsharp"
    },
    "polyglot_notebook": {
     "kernelName": "fsharp"
    }
   },
   "outputs": [
    {
     "name": "stdout",
     "output_type": "stream",
     "text": [
      "00:00:04 #25 [Debug] 1\n",
      "00:00:04 #26 [Debug] 2\n",
      "00:00:04 #27 [Debug] 3\n",
      "00:00:04 #28 [Debug] _1\n",
      "00:00:04 #29 [Debug] _2\n",
      "00:00:04 #30 [Debug] 4\n",
      "00:00:04 #31 [Debug] 5\n",
      "00:00:06 #32 [Debug] _3\n",
      "00:00:06 #33 [Debug] 6\n",
      "0\n",
      "0\n",
      "0\n",
      "True\n"
     ]
    }
   ],
   "source": [
    "//// test\n",
    "\n",
    "let tempFolder = createTempDirectory ()\n",
    "let path = tempFolder </> \"test.txt\"\n",
    "\n",
    "let inline lockFile () = async {\n",
    "    trace Debug (fun () -> \"_1\") getLocals\n",
    "    use _ = new System.IO.FileStream (\n",
    "        path,\n",
    "        System.IO.FileMode.Open,\n",
    "        System.IO.FileAccess.ReadWrite,\n",
    "        System.IO.FileShare.None\n",
    "    )\n",
    "    trace Debug (fun () -> \"_2\") getLocals\n",
    "    do! Async.Sleep 2000\n",
    "    trace Debug (fun () -> \"_3\") getLocals\n",
    "}\n",
    "\n",
    "async {\n",
    "    trace Debug (fun () -> \"1\") getLocals\n",
    "    do! \"0\" |> writeAllTextAsync path\n",
    "    trace Debug (fun () -> \"2\") getLocals\n",
    "    let! child = lockFile () |> Async.StartChild\n",
    "    trace Debug (fun () -> \"3\") getLocals\n",
    "    do! Async.Sleep 1\n",
    "    trace Debug (fun () -> \"4\") getLocals\n",
    "    let! retries = deleteFileAsync path\n",
    "    trace Debug (fun () -> \"5\") getLocals\n",
    "    do! child\n",
    "    trace Debug (fun () -> \"6\") getLocals\n",
    "    return retries\n",
    "}\n",
    "|> Async.runWithTimeout 3000\n",
    "|> function\n",
    "    | Some retries ->\n",
    "        retries\n",
    "        |> _isBetween\n",
    "            (if Runtime.isWindows () then 100 else 0)\n",
    "            (if Runtime.isWindows () then 150 else 0)\n",
    "\n",
    "        true\n",
    "    | _ -> false\n",
    "|> _assertEqual true"
   ]
  },
  {
   "cell_type": "markdown",
   "metadata": {},
   "source": [
    "## moveFileAsync"
   ]
  },
  {
   "cell_type": "code",
   "execution_count": null,
   "metadata": {
    "dotnet_interactive": {
     "language": "fsharp"
    },
    "polyglot_notebook": {
     "kernelName": "fsharp"
    }
   },
   "outputs": [],
   "source": [
    "let inline moveFileAsync newPath oldPath =\n",
    "    let rec loop retry = async {\n",
    "        try\n",
    "            System.IO.File.Move (oldPath, newPath)\n",
    "            return retry\n",
    "        with ex ->\n",
    "            if retry % 100 = 0 then\n",
    "                let getLocals () =\n",
    "                    $\"oldPath: {oldPath |> System.IO.Path.GetFileName} / newPath: {newPath |> System.IO.Path.GetFileName} / ex: {ex |> printException} / {getLocals ()}\"\n",
    "                trace Warning (fun () -> \"moveFileAsync\") getLocals\n",
    "            do! Async.Sleep 10\n",
    "            return! loop (retry + 1)\n",
    "    }\n",
    "    loop 0"
   ]
  },
  {
   "cell_type": "code",
   "execution_count": null,
   "metadata": {
    "dotnet_interactive": {
     "language": "fsharp"
    },
    "polyglot_notebook": {
     "kernelName": "fsharp"
    }
   },
   "outputs": [
    {
     "name": "stdout",
     "output_type": "stream",
     "text": [
      "00:00:06 #34 [Debug] 1\n",
      "00:00:06 #35 [Debug] 2\n",
      "00:00:06 #36 [Debug] 3\n",
      "00:00:06 #37 [Debug] _1\n",
      "00:00:06 #38 [Debug] _2\n",
      "00:00:06 #39 [Debug] 4\n",
      "00:00:06 #40 [Debug] 5\n",
      "00:00:06 #41 [Debug] waitForFileAccess / path: test2.txt / ex: System.IO.IOException: The process cannot access the file '/tmp/!dotnet-repl/20240323-1549-0787-8748-8f8c122efda4/test2.txt' because it is being used by another process.\n",
      "00:00:08 #42 [Debug] waitForFileAccess / path: test2.txt / ex: System.IO.IOException: The process cannot access the file '/tmp/!dotnet-repl/20240323-1549-0787-8748-8f8c122efda4/test2.txt' because it is being used by another process.\n",
      "00:00:08 #43 [Debug] _3\n",
      "00:00:08 #44 [Debug] 6\n",
      "00:00:08 #45 [Debug] 7\n",
      "00:00:08 #46 [Debug] 8\n",
      "0\n",
      "0\n",
      "0\n",
      "167\n",
      "167\n",
      "167\n",
      "0\n",
      "True\n"
     ]
    }
   ],
   "source": [
    "//// test\n",
    "\n",
    "let tempFolder = createTempDirectory ()\n",
    "let path = tempFolder </> \"test.txt\"\n",
    "let newPath = tempFolder </> \"test2.txt\"\n",
    "\n",
    "let inline lockFile () = async {\n",
    "    trace Debug (fun () -> \"_1\") getLocals\n",
    "    use _ = new System.IO.FileStream (\n",
    "        path,\n",
    "        System.IO.FileMode.Open,\n",
    "        System.IO.FileAccess.ReadWrite,\n",
    "        System.IO.FileShare.None\n",
    "    )\n",
    "    trace Debug (fun () -> \"_2\") getLocals\n",
    "    do! Async.Sleep 2000\n",
    "    trace Debug (fun () -> \"_3\") getLocals\n",
    "}\n",
    "\n",
    "async {\n",
    "    trace Debug (fun () -> \"1\") getLocals\n",
    "    do! \"0\" |> writeAllTextAsync path\n",
    "    trace Debug (fun () -> \"2\") getLocals\n",
    "    let! child = lockFile () |> Async.StartChild\n",
    "    trace Debug (fun () -> \"3\") getLocals\n",
    "    do! Async.Sleep 1\n",
    "    trace Debug (fun () -> \"4\") getLocals\n",
    "    let! retries1 = path |> moveFileAsync newPath\n",
    "    trace Debug (fun () -> \"5\") getLocals\n",
    "    let! retries2 = newPath |> waitForFileAccess None\n",
    "    trace Debug (fun () -> \"6\") getLocals\n",
    "    let! text = newPath |> readAllTextAsync\n",
    "    trace Debug (fun () -> \"7\") getLocals\n",
    "    do! child\n",
    "    trace Debug (fun () -> \"8\") getLocals\n",
    "    return retries1, retries2, text\n",
    "}\n",
    "|> Async.runWithTimeout 3000\n",
    "|> function\n",
    "    | Some (retries1, retries2, text) ->\n",
    "        retries1\n",
    "        |> _isBetween\n",
    "            (if Runtime.isWindows () then 100 else 0)\n",
    "            (if Runtime.isWindows () then 150 else 0)\n",
    "\n",
    "        retries2\n",
    "        |> _isBetween\n",
    "            (if Runtime.isWindows () then 0 else 100)\n",
    "            (if Runtime.isWindows () then 0 else 200)\n",
    "\n",
    "        text |> _assertEqual \"0\"\n",
    "\n",
    "        true\n",
    "    | _ -> false\n",
    "|> _assertEqual true"
   ]
  },
  {
   "cell_type": "markdown",
   "metadata": {},
   "source": [
    "## watchDirectory"
   ]
  },
  {
   "cell_type": "code",
   "execution_count": null,
   "metadata": {
    "dotnet_interactive": {
     "language": "fsharp"
    },
    "polyglot_notebook": {
     "kernelName": "fsharp"
    }
   },
   "outputs": [],
   "source": [
    "[<RequireQualifiedAccess>]\n",
    "type FileSystemChangeType =\n",
    "    | Failure\n",
    "    | Changed\n",
    "    | Created\n",
    "    | Deleted\n",
    "    | Renamed\n",
    "\n",
    "[<RequireQualifiedAccess>]\n",
    "type FileSystemChange =\n",
    "    | Failure of exn: exn\n",
    "    | Changed of path: string * content: string option\n",
    "    | Created of path: string * content: string option\n",
    "    | Deleted of path: string\n",
    "    | Renamed of oldPath: string * (string * string option)\n",
    "\n",
    "\n",
    "let inline watchDirectoryWithFilter filter shouldReadContent path =\n",
    "    let fullPath = path |> System.IO.Path.GetFullPath\n",
    "    let getLocals () = $\"filter: {filter} / {getLocals ()}\"\n",
    "\n",
    "    let watcher =\n",
    "        new System.IO.FileSystemWatcher (\n",
    "            Path = fullPath,\n",
    "            NotifyFilter = filter,\n",
    "            EnableRaisingEvents = true,\n",
    "            IncludeSubdirectories = true\n",
    "        )\n",
    "\n",
    "    let inline getEventPath (path : string) =\n",
    "        path |> String.trim |> String.replace fullPath \"\" |> String.trimStart [| '/'; '\\\\' |]\n",
    "\n",
    "    let inline ticks () =\n",
    "        System.DateTime.UtcNow.Ticks\n",
    "\n",
    "    let changedStream =\n",
    "        AsyncSeq.subscribeEvent\n",
    "            watcher.Changed\n",
    "            (fun event ->\n",
    "                ticks (),\n",
    "                [ FileSystemChange.Changed (getEventPath event.FullPath, None) ]\n",
    "            )\n",
    "\n",
    "    let deletedStream =\n",
    "        AsyncSeq.subscribeEvent\n",
    "            watcher.Deleted\n",
    "            (fun event ->\n",
    "                ticks (),\n",
    "                [ FileSystemChange.Deleted (getEventPath event.FullPath) ]\n",
    "            )\n",
    "\n",
    "    let createdStream =\n",
    "        AsyncSeq.subscribeEvent\n",
    "            watcher.Created\n",
    "            (fun event ->\n",
    "                let path = getEventPath event.FullPath\n",
    "                ticks (), [\n",
    "                    FileSystemChange.Created (path, None)\n",
    "                    if Runtime.isWindows () then\n",
    "                        FileSystemChange.Changed (path, None)\n",
    "                ])\n",
    "\n",
    "    let renamedStream =\n",
    "        AsyncSeq.subscribeEvent\n",
    "            watcher.Renamed\n",
    "            (fun event ->\n",
    "                ticks (), [\n",
    "                    FileSystemChange.Renamed (\n",
    "                        getEventPath event.OldFullPath,\n",
    "                        (getEventPath event.FullPath, None)\n",
    "                    )\n",
    "                ]\n",
    "            )\n",
    "\n",
    "    let failureStream =\n",
    "        AsyncSeq.subscribeEvent\n",
    "            watcher.Error\n",
    "            (fun event -> ticks (), [ FileSystemChange.Failure (event.GetException ()) ])\n",
    "\n",
    "    let stream =\n",
    "        [\n",
    "            changedStream\n",
    "            deletedStream\n",
    "            createdStream\n",
    "            renamedStream\n",
    "            failureStream\n",
    "        ]\n",
    "        |> FSharp.Control.AsyncSeq.mergeAll\n",
    "        |> FSharp.Control.AsyncSeq.map (fun (t, events) ->\n",
    "            events\n",
    "            |> List.fold\n",
    "                (fun (i, events) event ->\n",
    "                    i + 1L,\n",
    "                    (t + i, event) :: events)\n",
    "                (0L, [])\n",
    "            |> snd\n",
    "            |> List.rev\n",
    "        )\n",
    "        |> FSharp.Control.AsyncSeq.concatSeq\n",
    "        |> FSharp.Control.AsyncSeq.mapAsyncParallel (fun (t, event) -> async {\n",
    "            match shouldReadContent event, event with\n",
    "            | true, FileSystemChange.Changed (path, _) ->\n",
    "                do! Async.Sleep 5\n",
    "                let! content = fullPath </> path |> readAllTextRetryAsync\n",
    "                return t, FileSystemChange.Changed (path, content)\n",
    "            | true, FileSystemChange.Created (path, _) ->\n",
    "                do! Async.Sleep 5\n",
    "                let! content = fullPath </> path |> readAllTextRetryAsync\n",
    "                return t, FileSystemChange.Created (path, content)\n",
    "            | true, FileSystemChange.Renamed (oldPath, (newPath, _)) ->\n",
    "                let! content = fullPath </> newPath |> readAllTextRetryAsync\n",
    "                return t, FileSystemChange.Renamed (oldPath, (newPath, content))\n",
    "            | _ -> return t, event\n",
    "        })\n",
    "\n",
    "    let disposable =\n",
    "        newDisposable (fun () ->\n",
    "            trace Debug (fun () -> \"watchWithFilter / Disposing watch stream\") getLocals\n",
    "            watcher.EnableRaisingEvents <- false\n",
    "            watcher.Dispose ()\n",
    "        )\n",
    "\n",
    "    stream, disposable\n",
    "\n",
    "let inline watchDirectory path =\n",
    "    watchDirectoryWithFilter\n",
    "        (System.IO.NotifyFilters.FileName\n",
    "        // ||| System.IO.NotifyFilters.DirectoryName\n",
    "        // ||| System.IO.NotifyFilters.Attributes\n",
    "        //// ||| System.IO.NotifyFilters.Size\n",
    "        ||| System.IO.NotifyFilters.LastWrite\n",
    "        //// ||| System.IO.NotifyFilters.LastAccess\n",
    "        // ||| System.IO.NotifyFilters.CreationTime\n",
    "        // ||| System.IO.NotifyFilters.Security\n",
    "        )\n",
    "        path"
   ]
  },
  {
   "cell_type": "markdown",
   "metadata": {},
   "source": [
    "### testEventsRaw (test)"
   ]
  },
  {
   "cell_type": "code",
   "execution_count": null,
   "metadata": {
    "dotnet_interactive": {
     "language": "fsharp"
    },
    "polyglot_notebook": {
     "kernelName": "fsharp"
    }
   },
   "outputs": [],
   "source": [
    "//// test\n",
    "\n",
    "let inline testEventsRaw\n",
    "    (watchFn : (_ -> bool) -> string -> FSharp.Control.AsyncSeq<int64 * FileSystemChange> * IDisposable)\n",
    "    write\n",
    "    =\n",
    "    let tempDirectory = createTempDirectory ()\n",
    "    let stream, disposable = watchFn (fun _ -> true) tempDirectory\n",
    "\n",
    "    let events = System.Collections.Concurrent.ConcurrentBag ()\n",
    "\n",
    "    let inline iter () =\n",
    "        stream\n",
    "        |> FSharp.Control.AsyncSeq.iterAsyncParallel (fun event -> async { events.Add event })\n",
    "\n",
    "    let run = async {\n",
    "        let! _ = iter () |> Async.StartChild\n",
    "        do! Async.Sleep 250\n",
    "        return! write tempDirectory\n",
    "    }\n",
    "\n",
    "    try\n",
    "        run\n",
    "        |> Async.runWithTimeout 60000\n",
    "        |> _assertEqual (Some ())\n",
    "    finally\n",
    "        disposable.Dispose ()\n",
    "        deleteDirectoryAsync tempDirectory |> Async.Ignore |> Async.RunSynchronously\n",
    "\n",
    "    let eventsLog =\n",
    "        events\n",
    "        |> Seq.toList\n",
    "        |> List.sortBy fst\n",
    "        |> List.fold\n",
    "            (fun (prev, acc) (ticks, event) ->\n",
    "                ticks, (ticks, (if prev = 0L then 0L else ticks - prev), event) :: acc\n",
    "            )\n",
    "            (0L, [])\n",
    "        |> snd\n",
    "        |> List.rev\n",
    "        |> List.map (fun (diff, n, event) ->\n",
    "            let text = $\"{n} / {diff} / {event}\"\n",
    "            if text |> String.length <= 100\n",
    "            then text\n",
    "            else text |> String.substring 0 100 |> String.replace \"\\n\" \"\"\n",
    "        )\n",
    "        |> String.concat \"\\n\"\n",
    "    let getLocals () = $\"eventsLog: \\n{eventsLog} / {getLocals ()}\"\n",
    "    trace Debug (fun () -> \"testEventsRaw\") getLocals\n",
    "\n",
    "    events\n",
    "    |> Seq.toList\n",
    "    |> List.sortBy fst\n",
    "    |> List.map snd\n",
    "    |> List.fold\n",
    "        (fun acc event ->\n",
    "            match acc, event with\n",
    "            | FileSystemChange.Changed (lastPath, Some lastContent) as lastEvent :: acc,\n",
    "                FileSystemChange.Changed (path, Some content)\n",
    "                when lastPath = path && content |> String.startsWith lastContent\n",
    "                ->\n",
    "                event :: acc\n",
    "            | _ -> event :: acc\n",
    "        )\n",
    "        []\n",
    "    |> List.rev"
   ]
  },
  {
   "cell_type": "markdown",
   "metadata": {},
   "source": [
    "#### fast (test)"
   ]
  },
  {
   "cell_type": "code",
   "execution_count": null,
   "metadata": {
    "dotnet_interactive": {
     "language": "fsharp"
    },
    "polyglot_notebook": {
     "kernelName": "fsharp"
    }
   },
   "outputs": [
    {
     "name": "stdout",
     "output_type": "stream",
     "text": [
      "FSharpOption<Unit>\n",
      "      Value: <null>\n",
      "00:00:13 #47 [Debug] watchWithFilter / Disposing watch stream / filter: FileName, LastWrite\n",
      "00:00:13 #48 [Debug] testEventsRaw / eventsLog: \n",
      "0 / 638468057530359547 / Created (\"file1.txt\", Some \"a1\")\n",
      "12434 / 638468057530371981 / Changed (\"file1.txt\", Some \"a1\")\n",
      "2534 / 638468057530374515 / Created (\"file2.txt\", Some \"a2\")\n",
      "65 / 638468057530374580 / Changed (\"file2.txt\", Some \"a2\")\n",
      "2499847 / 638468057532874427 / Changed (\"file1.txt\", Some \"b1\")\n",
      "249 / 638468057532874676 / Changed (\"file1.txt\", Some \"b1\")\n",
      "4565 / 638468057532879241 / Changed (\"file2.txt\", Some \"b2\")\n",
      "283 / 638468057532879524 / Changed (\"file2.txt\", Some \"b2\")\n",
      "2533488 / 638468057535413012 / Renamed (\"file1.txt\", (\"file_1.txt\", Some \"b1\"))\n",
      "1513 / 638468057535414525 / Renamed (\"file2.txt\", (\"file_2.txt\", Some \"b2\"))\n",
      "2502174 / 638468057537916699 / Changed (\"file_1.txt\", Some \"c1\")\n",
      "746 / 638468057537917445 / Changed (\"file_1.txt\", Some \"c1\")\n",
      "4198 / 638468057537921643 / Changed (\"file_2.txt\", Some \"c2\")\n",
      "317 / 638468057537921960 / Changed (\"file_2.txt\", Some \"c2\")\n",
      "2545920 / 638468057540467880 / Deleted \"file_1.txt\"\n",
      "1095 / 638468057540468975 / Deleted \"file_2.txt\"\n",
      "FSharpList<FileSystemChange>\n",
      "      - path: file1.txt\n",
      "        content: FSharpOption<String>\n",
      "          Value: a1\n",
      "        IsFailure: False\n",
      "        IsChanged: False\n",
      "        IsCreated: True\n",
      "        IsDeleted: False\n",
      "        IsRenamed: False\n",
      "      - path: file1.txt\n",
      "        content: FSharpOption<String>\n",
      "          Value: a1\n",
      "        IsFailure: False\n",
      "        IsChanged: True\n",
      "        IsCreated: False\n",
      "        IsDeleted: False\n",
      "        IsRenamed: False\n",
      "      - path: file2.txt\n",
      "        content: FSharpOption<String>\n",
      "          Value: a2\n",
      "        IsFailure: False\n",
      "        IsChanged: False\n",
      "        IsCreated: True\n",
      "        IsDeleted: False\n",
      "        IsRenamed: False\n",
      "      - path: file2.txt\n",
      "        content: FSharpOption<String>\n",
      "          Value: a2\n",
      "        IsFailure: False\n",
      "        IsChanged: True\n",
      "        IsCreated: False\n",
      "        IsDeleted: False\n",
      "        IsRenamed: False\n",
      "      - path: file1.txt\n",
      "        content: FSharpOption<String>\n",
      "          Value: b1\n",
      "        IsFailure: False\n",
      "        IsChanged: True\n",
      "        IsCreated: False\n",
      "        IsDeleted: False\n",
      "        IsRenamed: False\n",
      "      - path: file2.txt\n",
      "        content: FSharpOption<String>\n",
      "          Value: b2\n",
      "        IsFailure: False\n",
      "        IsChanged: True\n",
      "        IsCreated: False\n",
      "        IsDeleted: False\n",
      "        IsRenamed: False\n",
      "      - oldPath: file1.txt\n",
      "        Item2:         - file_1.txt\n",
      "        - FSharpOption<String>\n",
      "            Value: b1\n",
      "      - IsFailure: False\n",
      "        IsChanged: False\n",
      "        IsCreated: False\n",
      "        IsDeleted: False\n",
      "        IsRenamed: True\n",
      "      - oldPath: file2.txt\n",
      "        Item2:         - file_2.txt\n",
      "        - FSharpOption<String>\n",
      "            Value: b2\n",
      "      - IsFailure: False\n",
      "        IsChanged: False\n",
      "        IsCreated: False\n",
      "        IsDeleted: False\n",
      "        IsRenamed: True\n",
      "      - path: file_1.txt\n",
      "        content: FSharpOption<String>\n",
      "          Value: c1\n",
      "        IsFailure: False\n",
      "        IsChanged: True\n",
      "        IsCreated: False\n",
      "        IsDeleted: False\n",
      "        IsRenamed: False\n",
      "      - path: file_2.txt\n",
      "        content: FSharpOption<String>\n",
      "          Value: c2\n",
      "        IsFailure: False\n",
      "        IsChanged: True\n",
      "        IsCreated: False\n",
      "        IsDeleted: False\n",
      "        IsRenamed: False\n",
      "      - path: file_1.txt\n",
      "        IsFailure: False\n",
      "        IsChanged: False\n",
      "        IsCreated: False\n",
      "        IsDeleted: True\n",
      "        IsRenamed: False\n",
      "      - path: file_2.txt\n",
      "        IsFailure: False\n",
      "        IsChanged: False\n",
      "        IsCreated: False\n",
      "        IsDeleted: True\n",
      "        IsRenamed: False\n",
      "FSharpOption<Unit>\n",
      "      Value: <null>\n"
     ]
    }
   ],
   "source": [
    "//// test\n",
    "\n",
    "let inline write path = async {\n",
    "    let n = 2\n",
    "\n",
    "    for i = 1 to n do\n",
    "        do! $\"a{i}\" |> writeAllTextAsync (path </> $\"file{i}.txt\")\n",
    "\n",
    "    do! Async.Sleep 250\n",
    "\n",
    "    for i = 1 to n do\n",
    "        do! $\"b{i}\" |> writeAllTextAsync (path </> $\"file{i}.txt\")\n",
    "\n",
    "    do! Async.Sleep 250\n",
    "\n",
    "    for i = 1 to n do\n",
    "        do! path </> $\"file{i}.txt\" |> moveFileAsync (path </> $\"file_{i}.txt\") |> Async.Ignore\n",
    "\n",
    "    do! Async.Sleep 250\n",
    "\n",
    "    for i = 1 to n do\n",
    "        do! $\"c{i}\" |> writeAllTextAsync (path </> $\"file_{i}.txt\")\n",
    "\n",
    "    do! Async.Sleep 250\n",
    "\n",
    "    for i = 1 to n do\n",
    "        do! deleteFileAsync (path </> $\"file_{i}.txt\") |> Async.Ignore\n",
    "\n",
    "    do! Async.Sleep 250\n",
    "}\n",
    "\n",
    "let inline run () =\n",
    "    let events = testEventsRaw watchDirectory write\n",
    "\n",
    "    events\n",
    "    |> _sequenceEqual [\n",
    "        FileSystemChange.Created (\"file1.txt\", Some \"a1\")\n",
    "        FileSystemChange.Changed (\"file1.txt\", Some \"a1\")\n",
    "        FileSystemChange.Created (\"file2.txt\", Some \"a2\")\n",
    "        FileSystemChange.Changed (\"file2.txt\", Some \"a2\")\n",
    "\n",
    "        FileSystemChange.Changed (\"file1.txt\", Some \"b1\")\n",
    "        FileSystemChange.Changed (\"file2.txt\", Some \"b2\")\n",
    "\n",
    "        FileSystemChange.Renamed (\"file1.txt\", (\"file_1.txt\", Some \"b1\"))\n",
    "        FileSystemChange.Renamed (\"file2.txt\", (\"file_2.txt\", Some \"b2\"))\n",
    "\n",
    "        FileSystemChange.Changed (\"file_1.txt\", Some \"c1\")\n",
    "        FileSystemChange.Changed (\"file_2.txt\", Some \"c2\")\n",
    "\n",
    "        FileSystemChange.Deleted \"file_1.txt\"\n",
    "        FileSystemChange.Deleted \"file_2.txt\"\n",
    "    ]\n",
    "\n",
    "run\n",
    "|> retryFn 3\n",
    "|> _assertEqual (Some ())"
   ]
  },
  {
   "cell_type": "markdown",
   "metadata": {},
   "source": [
    "#### slow (test)"
   ]
  },
  {
   "cell_type": "code",
   "execution_count": null,
   "metadata": {
    "dotnet_interactive": {
     "language": "fsharp"
    },
    "polyglot_notebook": {
     "kernelName": "fsharp"
    }
   },
   "outputs": [
    {
     "name": "stdout",
     "output_type": "stream",
     "text": [
      "FSharpOption<Unit>\n",
      "      Value: <null>\n",
      "00:00:23 #49 [Debug] watchWithFilter / Disposing watch stream / filter: FileName, LastWrite\n",
      "00:00:25 #50 [Debug] testEventsRaw / eventsLog: \n",
      "0 / 638468057569297894 / Created  (\"file1.txt\",   Some     \"1111111111111111111111111111111111111\n",
      "2622 / 638468057569300516 / Changed  (\"file1.txt\",   Some     \"1111111111111111111111111111111111\n",
      "222 / 638468057569300738 / Changed  (\"file1.txt\",   Some     \"11111111111111111111111111111111111\n",
      "42 / 638468057569300780 / Changed  (\"file1.txt\",   Some     \"111111111111111111111111111111111111\n",
      "8708 / 638468057569309488 / Changed  (\"file1.txt\",   Some     \"1111111111111111111111111111111111\n",
      "91 / 638468057569309579 / Changed  (\"file1.txt\",   Some     \"111111111111111111111111111111111111\n",
      "656 / 638468057569310235 / Changed  (\"file1.txt\",   Some     \"11111111111111111111111111111111111\n",
      "94 / 638468057569310329 / Changed  (\"file1.txt\",   Some     \"111111111111111111111111111111111111\n",
      "193 / 638468057569310522 / Changed  (\"file1.txt\",   Some     \"11111111111111111111111111111111111\n",
      "330 / 638468057569310852 / Changed  (\"file1.txt\",   Some     \"11111111111111111111111111111111111\n",
      "203 / 638468057569311055 / Changed  (\"file1.txt\",   Some     \"11111111111111111111111111111111111\n",
      "135 / 638468057569311190 / Changed  (\"file1.txt\",   Some     \"11111111111111111111111111111111111\n",
      "293 / 638468057569311483 / Changed  (\"file1.txt\",   Some     \"11111111111111111111111111111111111\n",
      "191 / 638468057569311674 / Changed  (\"file1.txt\",   Some     \"11111111111111111111111111111111111\n",
      "205 / 638468057569311879 / Changed  (\"file1.txt\",   Some     \"11111111111111111111111111111111111\n",
      "203 / 638468057569312082 / Changed  (\"file1.txt\",   Some     \"11111111111111111111111111111111111\n",
      "167 / 638468057569312249 / Changed  (\"file1.txt\",   Some     \"11111111111111111111111111111111111\n",
      "267 / 638468057569312516 / Changed  (\"file1.txt\",   Some     \"11111111111111111111111111111111111\n",
      "78 / 638468057569312594 / Changed  (\"file1.txt\",   Some     \"111111111111111111111111111111111111\n",
      "229 / 638468057569312823 / Changed  (\"file1.txt\",   Some     \"11111111111111111111111111111111111\n",
      "182 / 638468057569313005 / Changed  (\"file1.txt\",   Some     \"11111111111111111111111111111111111\n",
      "203 / 638468057569313208 / Changed  (\"file1.txt\",   Some     \"11111111111111111111111111111111111\n",
      "211 / 638468057569313419 / Changed  (\"file1.txt\",   Some     \"11111111111111111111111111111111111\n",
      "202 / 638468057569313621 / Changed  (\"file1.txt\",   Some     \"11111111111111111111111111111111111\n",
      "225 / 638468057569313846 / Changed  (\"file1.txt\",   Some     \"11111111111111111111111111111111111\n",
      "203 / 638468057569314049 / Changed  (\"file1.txt\",   Some     \"11111111111111111111111111111111111\n",
      "195 / 638468057569314244 / Changed  (\"file1.txt\",   Some     \"11111111111111111111111111111111111\n",
      "192 / 638468057569314436 / Changed  (\"file1.txt\",   Some     \"11111111111111111111111111111111111\n",
      "201 / 638468057569314637 / Changed  (\"file1.txt\",   Some     \"11111111111111111111111111111111111\n",
      "195 / 638468057569314832 / Changed  (\"file1.txt\",   Some     \"11111111111111111111111111111111111\n",
      "185 / 638468057569315017 / Changed  (\"file1.txt\",   Some     \"11111111111111111111111111111111111\n",
      "199 / 638468057569315216 / Changed  (\"file1.txt\",   Some     \"11111111111111111111111111111111111\n",
      "234 / 638468057569315450 / Changed  (\"file1.txt\",   Some     \"11111111111111111111111111111111111\n",
      "327 / 638468057569315777 / Changed  (\"file1.txt\",   Some     \"11111111111111111111111111111111111\n",
      "66 / 638468057569315843 / Changed  (\"file1.txt\",   Some     \"111111111111111111111111111111111111\n",
      "245 / 638468057569316088 / Changed  (\"file1.txt\",   Some     \"11111111111111111111111111111111111\n",
      "217 / 638468057569316305 / Changed  (\"file1.txt\",   Some     \"11111111111111111111111111111111111\n",
      "321 / 638468057569316626 / Changed  (\"file1.txt\",   Some     \"11111111111111111111111111111111111\n",
      "46092 / 638468057569362718 / Created  (\"file2.txt\",   Some     \"222222222222222222222222222222222\n",
      "190 / 638468057569362908 / Changed  (\"file2.txt\",   Some     \"22222222222222222222222222222222222\n",
      "180 / 638468057569363088 / Changed  (\"file2.txt\",   Some     \"22222222222222222222222222222222222\n",
      "645 / 638468057569363733 / Changed  (\"file2.txt\",   Some     \"22222222222222222222222222222222222\n",
      "169 / 638468057569363902 / Changed  (\"file2.txt\",   Some     \"22222222222222222222222222222222222\n",
      "330 / 638468057569364232 / Changed  (\"file2.txt\",   Some     \"22222222222222222222222222222222222\n",
      "324 / 638468057569364556 / Changed  (\"file2.txt\",   Some     \"22222222222222222222222222222222222\n",
      "145 / 638468057569364701 / Changed  (\"file2.txt\",   Some     \"22222222222222222222222222222222222\n",
      "223 / 638468057569364924 / Changed  (\"file2.txt\",   Some     \"22222222222222222222222222222222222\n",
      "184 / 638468057569365108 / Changed  (\"file2.txt\",   Some     \"22222222222222222222222222222222222\n",
      "146 / 638468057569365254 / Changed  (\"file2.txt\",   Some     \"22222222222222222222222222222222222\n",
      "159 / 638468057569365413 / Changed  (\"file2.txt\",   Some     \"22222222222222222222222222222222222\n",
      "204 / 638468057569365617 / Changed  (\"file2.txt\",   Some     \"22222222222222222222222222222222222\n",
      "111 / 638468057569365728 / Changed  (\"file2.txt\",   Some     \"22222222222222222222222222222222222\n",
      "180 / 638468057569365908 / Changed  (\"file2.txt\",   Some     \"22222222222222222222222222222222222\n",
      "159 / 638468057569366067 / Changed  (\"file2.txt\",   Some     \"22222222222222222222222222222222222\n",
      "190 / 638468057569366257 / Changed  (\"file2.txt\",   Some     \"22222222222222222222222222222222222\n",
      "190 / 638468057569366447 / Changed  (\"file2.txt\",   Some     \"22222222222222222222222222222222222\n",
      "163 / 638468057569366610 / Changed  (\"file2.txt\",   Some     \"22222222222222222222222222222222222\n",
      "157 / 638468057569366767 / Changed  (\"file2.txt\",   Some     \"22222222222222222222222222222222222\n",
      "157 / 638468057569366924 / Changed  (\"file2.txt\",   Some     \"22222222222222222222222222222222222\n",
      "158 / 638468057569367082 / Changed  (\"file2.txt\",   Some     \"22222222222222222222222222222222222\n",
      "266 / 638468057569367348 / Changed  (\"file2.txt\",   Some     \"22222222222222222222222222222222222\n",
      "174 / 638468057569367522 / Changed  (\"file2.txt\",   Some     \"22222222222222222222222222222222222\n",
      "168 / 638468057569367690 / Changed  (\"file2.txt\",   Some     \"22222222222222222222222222222222222\n",
      "155 / 638468057569367845 / Changed  (\"file2.txt\",   Some     \"22222222222222222222222222222222222\n",
      "156 / 638468057569368001 / Changed  (\"file2.txt\",   Some     \"22222222222222222222222222222222222\n",
      "159 / 638468057569368160 / Changed  (\"file2.txt\",   Some     \"22222222222222222222222222222222222\n",
      "255 / 638468057569368415 / Changed  (\"file2.txt\",   Some     \"22222222222222222222222222222222222\n",
      "47 / 638468057569368462 / Changed  (\"file2.txt\",   Some     \"222222222222222222222222222222222222\n",
      "157 / 638468057569368619 / Changed  (\"file2.txt\",   Some     \"22222222222222222222222222222222222\n",
      "178 / 638468057569368797 / Changed  (\"file2.txt\",   Some     \"22222222222222222222222222222222222\n",
      "157 / 638468057569368954 / Changed  (\"file2.txt\",   Some     \"22222222222222222222222222222222222\n",
      "156 / 638468057569369110 / Changed  (\"file2.txt\",   Some     \"22222222222222222222222222222222222\n",
      "171 / 638468057569369281 / Changed  (\"file2.txt\",   Some     \"22222222222222222222222222222222222\n",
      "163 / 638468057569369444 / Changed  (\"file2.txt\",   Some     \"22222222222222222222222222222222222\n",
      "185 / 638468057569369629 / Changed  (\"file2.txt\",   Some     \"22222222222222222222222222222222222\n",
      "157 / 638468057569369786 / Changed  (\"file2.txt\",   Some     \"22222222222222222222222222222222222\n",
      "199 / 638468057569369985 / Changed  (\"file2.txt\",   Some     \"22222222222222222222222222222222222\n",
      "346 / 638468057569370331 / Changed  (\"file2.txt\",   Some     \"22222222222222222222222222222222222\n",
      "142 / 638468057569370473 / Changed  (\"file2.txt\",   Some     \"22222222222222222222222222222222222\n",
      "226 / 638468057569370699 / Changed  (\"file2.txt\",   Some     \"22222222222222222222222222222222222\n",
      "1303 / 638468057569372002 / Changed  (\"file2.txt\",   Some     \"2222222222222222222222222222222222\n",
      "73 / 638468057569372075 / Changed  (\"file2.txt\",   Some     \"222222222222222222222222222222222222\n",
      "36 / 638468057569372111 / Changed  (\"file2.txt\",   Some     \"222222222222222222222222222222222222\n",
      "250 / 638468057569372361 / Changed  (\"file2.txt\",   Some     \"22222222222222222222222222222222222\n",
      "155 / 638468057569372516 / Changed  (\"file2.txt\",   Some     \"22222222222222222222222222222222222\n",
      "151 / 638468057569372667 / Changed  (\"file2.txt\",   Some     \"22222222222222222222222222222222222\n",
      "143 / 638468057569372810 / Changed  (\"file2.txt\",   Some     \"22222222222222222222222222222222222\n",
      "165 / 638468057569372975 / Changed  (\"file2.txt\",   Some     \"22222222222222222222222222222222222\n",
      "166 / 638468057569373141 / Changed  (\"file2.txt\",   Some     \"22222222222222222222222222222222222\n",
      "152 / 638468057569373293 / Changed  (\"file2.txt\",   Some     \"22222222222222222222222222222222222\n",
      "203 / 638468057569373496 / Changed  (\"file2.txt\",   Some     \"22222222222222222222222222222222222\n",
      "128 / 638468057569373624 / Changed  (\"file2.txt\",   Some     \"22222222222222222222222222222222222\n",
      "145 / 638468057569373769 / Changed  (\"file2.txt\",   Some     \"22222222222222222222222222222222222\n",
      "161 / 638468057569373930 / Changed  (\"file2.txt\",   Some     \"22222222222222222222222222222222222\n",
      "182 / 638468057569374112 / Changed  (\"file2.txt\",   Some     \"22222222222222222222222222222222222\n",
      "150 / 638468057569374262 / Changed  (\"file2.txt\",   Some     \"22222222222222222222222222222222222\n",
      "150 / 638468057569374412 / Changed  (\"file2.txt\",   Some     \"22222222222222222222222222222222222\n",
      "170 / 638468057569374582 / Changed  (\"file2.txt\",   Some     \"22222222222222222222222222222222222\n",
      "191 / 638468057569374773 / Changed  (\"file2.txt\",   Some     \"22222222222222222222222222222222222\n",
      "995 / 638468057569375768 / Changed  (\"file2.txt\",   Some     \"22222222222222222222222222222222222\n",
      "124 / 638468057569375892 / Changed  (\"file2.txt\",   Some     \"22222222222222222222222222222222222\n",
      "170 / 638468057569376062 / Changed  (\"file2.txt\",   Some     \"22222222222222222222222222222222222\n",
      "177 / 638468057569376239 / Changed  (\"file2.txt\",   Some     \"22222222222222222222222222222222222\n",
      "178 / 638468057569376417 / Changed  (\"file2.txt\",   Some     \"22222222222222222222222222222222222\n",
      "172 / 638468057569376589 / Changed  (\"file2.txt\",   Some     \"22222222222222222222222222222222222\n",
      "139 / 638468057569376728 / Changed  (\"file2.txt\",   Some     \"22222222222222222222222222222222222\n",
      "144 / 638468057569376872 / Changed  (\"file2.txt\",   Some     \"22222222222222222222222222222222222\n",
      "148 / 638468057569377020 / Changed  (\"file2.txt\",   Some     \"22222222222222222222222222222222222\n",
      "187 / 638468057569377207 / Changed  (\"file2.txt\",   Some     \"22222222222222222222222222222222222\n",
      "136 / 638468057569377343 / Changed  (\"file2.txt\",   Some     \"22222222222222222222222222222222222\n",
      "199 / 638468057569377542 / Changed  (\"file2.txt\",   Some     \"22222222222222222222222222222222222\n",
      "196 / 638468057569377738 / Changed  (\"file2.txt\",   Some     \"22222222222222222222222222222222222\n",
      "183 / 638468057569377921 / Changed  (\"file2.txt\",   Some     \"22222222222222222222222222222222222\n",
      "147 / 638468057569378068 / Changed  (\"file2.txt\",   Some     \"22222222222222222222222222222222222\n",
      "136 / 638468057569378204 / Changed  (\"file2.txt\",   Some     \"22222222222222222222222222222222222\n",
      "227 / 638468057569378431 / Changed  (\"file2.txt\",   Some     \"22222222222222222222222222222222222\n",
      "42 / 638468057569378473 / Changed  (\"file2.txt\",   Some     \"222222222222222222222222222222222222\n",
      "152 / 638468057569378625 / Changed  (\"file2.txt\",   Some     \"22222222222222222222222222222222222\n",
      "181 / 638468057569378806 / Changed  (\"file2.txt\",   Some     \"22222222222222222222222222222222222\n",
      "235 / 638468057569379041 / Changed  (\"file2.txt\",   Some     \"22222222222222222222222222222222222\n",
      "180 / 638468057569379221 / Changed  (\"file2.txt\",   Some     \"22222222222222222222222222222222222\n",
      "234 / 638468057569379455 / Changed  (\"file2.txt\",   Some     \"22222222222222222222222222222222222\n",
      "40 / 638468057569379495 / Changed  (\"file2.txt\",   Some     \"222222222222222222222222222222222222\n",
      "174 / 638468057569379669 / Changed  (\"file2.txt\",   Some     \"22222222222222222222222222222222222\n",
      "173 / 638468057569379842 / Changed  (\"file2.txt\",   Some     \"22222222222222222222222222222222222\n",
      "179 / 638468057569380021 / Changed  (\"file2.txt\",   Some     \"22222222222222222222222222222222222\n",
      "181 / 638468057569380202 / Changed  (\"file2.txt\",   Some     \"22222222222222222222222222222222222\n",
      "171 / 638468057569380373 / Changed  (\"file2.txt\",   Some     \"22222222222222222222222222222222222\n",
      "235 / 638468057569380608 / Changed  (\"file2.txt\",   Some     \"22222222222222222222222222222222222\n",
      "970 / 638468057569381578 / Changed  (\"file2.txt\",   Some     \"22222222222222222222222222222222222\n",
      "9029 / 638468057569390607 / Changed  (\"file2.txt\",   Some     \"2222222222222222222222222222222222\n",
      "1655 / 638468057569392262 / Changed  (\"file2.txt\",   Some     \"2222222222222222222222222222222222\n",
      "69 / 638468057569392331 / Changed  (\"file2.txt\",   Some     \"222222222222222222222222222222222222\n",
      "134 / 638468057569392465 / Changed  (\"file2.txt\",   Some     \"22222222222222222222222222222222222\n",
      "205 / 638468057569392670 / Changed  (\"file2.txt\",   Some     \"22222222222222222222222222222222222\n",
      "242 / 638468057569392912 / Changed  (\"file2.txt\",   Some     \"22222222222222222222222222222222222\n",
      "44 / 638468057569392956 / Changed  (\"file2.txt\",   Some     \"222222222222222222222222222222222222\n",
      "248 / 638468057569393204 / Changed  (\"file2.txt\",   Some     \"22222222222222222222222222222222222\n",
      "165 / 638468057569393369 / Changed  (\"file2.txt\",   Some     \"22222222222222222222222222222222222\n",
      "136 / 638468057569393505 / Changed  (\"file2.txt\",   Some     \"22222222222222222222222222222222222\n",
      "169 / 638468057569393674 / Changed  (\"file2.txt\",   Some     \"22222222222222222222222222222222222\n",
      "187 / 638468057569393861 / Changed  (\"file2.txt\",   Some     \"22222222222222222222222222222222222\n",
      "178 / 638468057569394039 / Changed  (\"file2.txt\",   Some     \"22222222222222222222222222222222222\n",
      "186 / 638468057569394225 / Changed  (\"file2.txt\",   Some     \"22222222222222222222222222222222222\n",
      "100 / 638468057569394325 / Changed  (\"file2.txt\",   Some     \"22222222222222222222222222222222222\n",
      "15049202 / 638468057584443527 / Changed  (\"file1.txt\",   Some     \"111111111111111111111111111111\n",
      "269 / 638468057584443796 / Changed  (\"file1.txt\",   Some     \"11111111111111111111111111111111111\n",
      "775 / 638468057584444571 / Changed  (\"file1.txt\",   Some     \"11111111111111111111111111111111111\n",
      "1065 / 638468057584445636 / Changed  (\"file1.txt\",   Some     \"1111111111111111111111111111111111\n",
      "72 / 638468057584445708 / Changed  (\"file1.txt\",   Some     \"111111111111111111111111111111111111\n",
      "34 / 638468057584445742 / Changed  (\"file1.txt\",   Some     \"111111111111111111111111111111111111\n",
      "300 / 638468057584446042 / Changed  (\"file1.txt\",   Some     \"11111111111111111111111111111111111\n",
      "44 / 638468057584446086 / Changed  (\"file1.txt\",   Some     \"111111111111111111111111111111111111\n",
      "274 / 638468057584446360 / Changed  (\"file1.txt\",   Some     \"11111111111111111111111111111111111\n",
      "225 / 638468057584446585 / Changed  (\"file1.txt\",   Some     \"11111111111111111111111111111111111\n",
      "97 / 638468057584446682 / Changed  (\"file1.txt\",   Some     \"111111111111111111111111111111111111\n",
      "343 / 638468057584447025 / Changed  (\"file1.txt\",   Some     \"11111111111111111111111111111111111\n",
      "266 / 638468057584447291 / Changed  (\"file1.txt\",   Some     \"11111111111111111111111111111111111\n",
      "135 / 638468057584447426 / Changed  (\"file1.txt\",   Some     \"11111111111111111111111111111111111\n",
      "192 / 638468057584447618 / Changed  (\"file1.txt\",   Some     \"11111111111111111111111111111111111\n",
      "338 / 638468057584447956 / Changed  (\"file1.txt\",   Some     \"11111111111111111111111111111111111\n",
      "42 / 638468057584447998 / Changed  (\"file1.txt\",   Some     \"111111111111111111111111111111111111\n",
      "185 / 638468057584448183 / Changed  (\"file1.txt\",   Some     \"11111111111111111111111111111111111\n",
      "200 / 638468057584448383 / Changed  (\"file1.txt\",   Some     \"11111111111111111111111111111111111\n",
      "39 / 638468057584448422 / Changed  (\"file1.txt\",   Some     \"111111111111111111111111111111111111\n",
      "360 / 638468057584448782 / Changed  (\"file1.txt\",   Some     \"11111111111111111111111111111111111\n",
      "131 / 638468057584448913 / Changed  (\"file1.txt\",   Some     \"11111111111111111111111111111111111\n",
      "263 / 638468057584449176 / Changed  (\"file1.txt\",   Some     \"11111111111111111111111111111111111\n",
      "41 / 638468057584449217 / Changed  (\"file1.txt\",   Some     \"111111111111111111111111111111111111\n",
      "307 / 638468057584449524 / Changed  (\"file1.txt\",   Some     \"11111111111111111111111111111111111\n",
      "379 / 638468057584449903 / Changed  (\"file1.txt\",   Some     \"11111111111111111111111111111111111\n",
      "250 / 638468057584450153 / Changed  (\"file1.txt\",   Some     \"11111111111111111111111111111111111\n",
      "962 / 638468057584451115 / Changed  (\"file1.txt\",   Some     \"11111111111111111111111111111111111\n",
      "69 / 638468057584451184 / Changed  (\"file1.txt\",   Some     \"111111111111111111111111111111111111\n",
      "273 / 638468057584451457 / Changed  (\"file1.txt\",   Some     \"11111111111111111111111111111111111\n",
      "142 / 638468057584451599 / Changed  (\"file1.txt\",   Some     \"11111111111111111111111111111111111\n",
      "157 / 638468057584451756 / Changed  (\"file1.txt\",   Some     \"11111111111111111111111111111111111\n",
      "1010 / 638468057584452766 / Changed  (\"file1.txt\",   Some     \"1111111111111111111111111111111111\n",
      "145 / 638468057584452911 / Changed  (\"file1.txt\",   Some     \"11111111111111111111111111111111111\n",
      "144 / 638468057584453055 / Changed  (\"file1.txt\",   Some     \"11111111111111111111111111111111111\n",
      "156 / 638468057584453211 / Changed  (\"file1.txt\",   Some     \"11111111111111111111111111111111111\n",
      "176 / 638468057584453387 / Changed  (\"file1.txt\",   Some     \"11111111111111111111111111111111111\n",
      "168 / 638468057584453555 / Changed  (\"file1.txt\",   Some     \"11111111111111111111111111111111111\n",
      "175 / 638468057584453730 / Changed  (\"file1.txt\",   Some     \"11111111111111111111111111111111111\n",
      "153 / 638468057584453883 / Changed  (\"file1.txt\",   Some     \"11111111111111111111111111111111111\n",
      "738 / 638468057584454621 / Changed  (\"file1.txt\",   Some     \"11111111111111111111111111111111111\n",
      "138 / 638468057584454759 / Changed  (\"file1.txt\",   Some     \"11111111111111111111111111111111111\n",
      "176 / 638468057584454935 / Changed  (\"file1.txt\",   Some     \"11111111111111111111111111111111111\n",
      "162 / 638468057584455097 / Changed  (\"file1.txt\",   Some     \"11111111111111111111111111111111111\n",
      "147 / 638468057584455244 / Changed  (\"file1.txt\",   Some     \"11111111111111111111111111111111111\n",
      "151 / 638468057584455395 / Changed  (\"file1.txt\",   Some     \"11111111111111111111111111111111111\n",
      "170 / 638468057584455565 / Changed  (\"file1.txt\",   Some     \"11111111111111111111111111111111111\n",
      "528 / 638468057584456093 / Changed  (\"file1.txt\",   Some     \"11111111111111111111111111111111111\n",
      "40 / 638468057584456133 / Changed  (\"file1.txt\",   Some     \"111111111111111111111111111111111111\n",
      "200 / 638468057584456333 / Changed  (\"file1.txt\",   Some     \"11111111111111111111111111111111111\n",
      "213 / 638468057584456546 / Changed  (\"file1.txt\",   Some     \"11111111111111111111111111111111111\n",
      "672 / 638468057584457218 / Changed  (\"file1.txt\",   Some     \"11111111111111111111111111111111111\n",
      "31 / 638468057584457249 / Changed  (\"file1.txt\",   Some     \"111111111111111111111111111111111111\n",
      "151 / 638468057584457400 / Changed  (\"file1.txt\",   Some     \"11111111111111111111111111111111111\n",
      "184 / 638468057584457584 / Changed  (\"file1.txt\",   Some     \"11111111111111111111111111111111111\n",
      "167 / 638468057584457751 / Changed  (\"file1.txt\",   Some     \"11111111111111111111111111111111111\n",
      "147 / 638468057584457898 / Changed  (\"file1.txt\",   Some     \"11111111111111111111111111111111111\n",
      "202 / 638468057584458100 / Changed  (\"file1.txt\",   Some     \"11111111111111111111111111111111111\n",
      "633 / 638468057584458733 / Changed  (\"file1.txt\",   Some     \"11111111111111111111111111111111111\n",
      "52 / 638468057584458785 / Changed  (\"file1.txt\",   Some     \"111111111111111111111111111111111111\n",
      "162 / 638468057584458947 / Changed  (\"file1.txt\",   Some     \"11111111111111111111111111111111111\n",
      "174 / 638468057584459121 / Changed  (\"file1.txt\",   Some     \"11111111111111111111111111111111111\n",
      "209 / 638468057584459330 / Changed  (\"file1.txt\",   Some     \"11111111111111111111111111111111111\n",
      "172 / 638468057584459502 / Changed  (\"file1.txt\",   Some     \"11111111111111111111111111111111111\n",
      "166 / 638468057584459668 / Changed  (\"file1.txt\",   Some     \"11111111111111111111111111111111111\n",
      "140 / 638468057584459808 / Changed  (\"file1.txt\",   Some     \"11111111111111111111111111111111111\n",
      "150 / 638468057584459958 / Changed  (\"file1.txt\",   Some     \"11111111111111111111111111111111111\n",
      "281 / 638468057584460239 / Changed  (\"file1.txt\",   Some     \"11111111111111111111111111111111111\n",
      "901 / 638468057584461140 / Changed  (\"file1.txt\",   Some     \"11111111111111111111111111111111111\n",
      "62 / 638468057584461202 / Changed  (\"file1.txt\",   Some     \"111111111111111111111111111111111111\n",
      "343 / 638468057584461545 / Changed  (\"file1.txt\",   Some     \"11111111111111111111111111111111111\n",
      "81 / 638468057584461626 / Changed  (\"file1.txt\",   Some     \"111111111111111111111111111111111111\n",
      "126 / 638468057584461752 / Changed  (\"file1.txt\",   Some     \"11111111111111111111111111111111111\n",
      "270 / 638468057584462022 / Changed  (\"file1.txt\",   Some     \"11111111111111111111111111111111111\n",
      "280 / 638468057584462302 / Changed  (\"file1.txt\",   Some     \"11111111111111111111111111111111111\n",
      "162 / 638468057584462464 / Changed  (\"file1.txt\",   Some     \"11111111111111111111111111111111111\n",
      "146 / 638468057584462610 / Changed  (\"file1.txt\",   Some     \"11111111111111111111111111111111111\n",
      "132 / 638468057584462742 / Changed  (\"file1.txt\",   Some     \"11111111111111111111111111111111111\n",
      "227 / 638468057584462969 / Changed  (\"file1.txt\",   Some     \"11111111111111111111111111111111111\n",
      "148 / 638468057584463117 / Changed  (\"file1.txt\",   Some     \"11111111111111111111111111111111111\n",
      "198 / 638468057584463315 / Changed  (\"file1.txt\",   Some     \"11111111111111111111111111111111111\n",
      "41 / 638468057584463356 / Changed  (\"file1.txt\",   Some     \"111111111111111111111111111111111111\n",
      "259 / 638468057584463615 / Changed  (\"file1.txt\",   Some     \"11111111111111111111111111111111111\n",
      "103 / 638468057584463718 / Changed  (\"file1.txt\",   Some     \"11111111111111111111111111111111111\n",
      "242 / 638468057584463960 / Changed  (\"file1.txt\",   Some     \"11111111111111111111111111111111111\n",
      "45 / 638468057584464005 / Changed  (\"file1.txt\",   Some     \"111111111111111111111111111111111111\n",
      "239 / 638468057584464244 / Changed  (\"file1.txt\",   Some     \"11111111111111111111111111111111111\n",
      "223 / 638468057584464467 / Changed  (\"file1.txt\",   Some     \"11111111111111111111111111111111111\n",
      "131 / 638468057584464598 / Changed  (\"file1.txt\",   Some     \"11111111111111111111111111111111111\n",
      "146 / 638468057584464744 / Changed  (\"file1.txt\",   Some     \"11111111111111111111111111111111111\n",
      "192 / 638468057584464936 / Changed  (\"file1.txt\",   Some     \"11111111111111111111111111111111111\n",
      "101 / 638468057584465037 / Changed  (\"file1.txt\",   Some     \"11111111111111111111111111111111111\n",
      "310 / 638468057584465347 / Changed  (\"file1.txt\",   Some     \"11111111111111111111111111111111111\n",
      "163 / 638468057584465510 / Changed  (\"file1.txt\",   Some     \"11111111111111111111111111111111111\n",
      "33 / 638468057584465543 / Changed  (\"file1.txt\",   Some     \"111111111111111111111111111111111111\n",
      "30505 / 638468057584496048 / Changed  (\"file2.txt\",   Some     \"222222222222222222222222222222222\n",
      "180 / 638468057584496228 / Changed  (\"file2.txt\",   Some     \"22222222222222222222222222222222222\n",
      "467 / 638468057584496695 / Changed  (\"file2.txt\",   Some     \"22222222222222222222222222222222222\n",
      "72 / 638468057584496767 / Changed  (\"file2.txt\",   Some     \"222222222222222222222222222222222222\n",
      "191 / 638468057584496958 / Changed  (\"file2.txt\",   Some     \"22222222222222222222222222222222222\n",
      "38 / 638468057584496996 / Changed  (\"file2.txt\",   Some     \"222222222222222222222222222222222222\n",
      "309 / 638468057584497305 / Changed  (\"file2.txt\",   Some     \"22222222222222222222222222222222222\n",
      "208 / 638468057584497513 / Changed  (\"file2.txt\",   Some     \"22222222222222222222222222222222222\n",
      "114 / 638468057584497627 / Changed  (\"file2.txt\",   Some     \"22222222222222222222222222222222222\n",
      "206 / 638468057584497833 / Changed  (\"file2.txt\",   Some     \"22222222222222222222222222222222222\n",
      "186 / 638468057584498019 / Changed  (\"file2.txt\",   Some     \"22222222222222222222222222222222222\n",
      "172 / 638468057584498191 / Changed  (\"file2.txt\",   Some     \"22222222222222222222222222222222222\n",
      "113 / 638468057584498304 / Changed  (\"file2.txt\",   Some     \"22222222222222222222222222222222222\n",
      "240 / 638468057584498544 / Changed  (\"file2.txt\",   Some     \"22222222222222222222222222222222222\n",
      "45 / 638468057584498589 / Changed  (\"file2.txt\",   Some     \"222222222222222222222222222222222222\n",
      "255 / 638468057584498844 / Changed  (\"file2.txt\",   Some     \"22222222222222222222222222222222222\n",
      "44 / 638468057584498888 / Changed  (\"file2.txt\",   Some     \"222222222222222222222222222222222222\n",
      "273 / 638468057584499161 / Changed  (\"file2.txt\",   Some     \"22222222222222222222222222222222222\n",
      "192 / 638468057584499353 / Changed  (\"file2.txt\",   Some     \"22222222222222222222222222222222222\n",
      "44 / 638468057584499397 / Changed  (\"file2.txt\",   Some     \"222222222222222222222222222222222222\n",
      "395 / 638468057584499792 / Changed  (\"file2.txt\",   Some     \"22222222222222222222222222222222222\n",
      "282 / 638468057584500074 / Changed  (\"file2.txt\",   Some     \"22222222222222222222222222222222222\n",
      "285 / 638468057584500359 / Changed  (\"file2.txt\",   Some     \"22222222222222222222222222222222222\n",
      "220 / 638468057584500579 / Changed  (\"file2.txt\",   Some     \"22222222222222222222222222222222222\n",
      "241 / 638468057584500820 / Changed  (\"file2.txt\",   Some     \"22222222222222222222222222222222222\n",
      "206 / 638468057584501026 / Changed  (\"file2.txt\",   Some     \"22222222222222222222222222222222222\n",
      "300 / 638468057584501326 / Changed  (\"file2.txt\",   Some     \"22222222222222222222222222222222222\n",
      "379 / 638468057584501705 / Changed  (\"file2.txt\",   Some     \"22222222222222222222222222222222222\n",
      "36 / 638468057584501741 / Changed  (\"file2.txt\",   Some     \"222222222222222222222222222222222222\n",
      "214 / 638468057584501955 / Changed  (\"file2.txt\",   Some     \"22222222222222222222222222222222222\n",
      "161 / 638468057584502116 / Changed  (\"file2.txt\",   Some     \"22222222222222222222222222222222222\n",
      "213 / 638468057584502329 / Changed  (\"file2.txt\",   Some     \"22222222222222222222222222222222222\n",
      "26 / 638468057584502355 / Changed  (\"file2.txt\",   Some     \"222222222222222222222222222222222222\n",
      "185 / 638468057584502540 / Changed  (\"file2.txt\",   Some     \"22222222222222222222222222222222222\n",
      "117 / 638468057584502657 / Changed  (\"file2.txt\",   Some     \"22222222222222222222222222222222222\n",
      "183 / 638468057584502840 / Changed  (\"file2.txt\",   Some     \"22222222222222222222222222222222222\n",
      "43 / 638468057584502883 / Changed  (\"file2.txt\",   Some     \"222222222222222222222222222222222222\n",
      "310 / 638468057584503193 / Changed  (\"file2.txt\",   Some     \"22222222222222222222222222222222222\n",
      "49 / 638468057584503242 / Changed  (\"file2.txt\",   Some     \"222222222222222222222222222222222222\n",
      "254 / 638468057584503496 / Changed  (\"file2.txt\",   Some     \"22222222222222222222222222222222222\n",
      "116 / 638468057584503612 / Changed  (\"file2.txt\",   Some     \"22222222222222222222222222222222222\n",
      "180 / 638468057584503792 / Changed  (\"file2.txt\",   Some     \"22222222222222222222222222222222222\n",
      "45 / 638468057584503837 / Changed  (\"file2.txt\",   Some     \"222222222222222222222222222222222222\n",
      "270 / 638468057584504107 / Changed  (\"file2.txt\",   Some     \"22222222222222222222222222222222222\n",
      "50 / 638468057584504157 / Changed  (\"file2.txt\",   Some     \"222222222222222222222222222222222222\n",
      "383 / 638468057584504540 / Changed  (\"file2.txt\",   Some     \"22222222222222222222222222222222222\n",
      "188 / 638468057584504728 / Changed  (\"file2.txt\",   Some     \"22222222222222222222222222222222222\n",
      "173 / 638468057584504901 / Changed  (\"file2.txt\",   Some     \"22222222222222222222222222222222222\n",
      "47 / 638468057584504948 / Changed  (\"file2.txt\",   Some     \"222222222222222222222222222222222222\n",
      "265 / 638468057584505213 / Changed  (\"file2.txt\",   Some     \"22222222222222222222222222222222222\n",
      "51 / 638468057584505264 / Changed  (\"file2.txt\",   Some     \"222222222222222222222222222222222222\n",
      "184 / 638468057584505448 / Changed  (\"file2.txt\",   Some     \"22222222222222222222222222222222222\n",
      "319 / 638468057584505767 / Changed  (\"file2.txt\",   Some     \"22222222222222222222222222222222222\n",
      "176 / 638468057584505943 / Changed  (\"file2.txt\",   Some     \"22222222222222222222222222222222222\n",
      "175 / 638468057584506118 / Changed  (\"file2.txt\",   Some     \"22222222222222222222222222222222222\n",
      "44 / 638468057584506162 / Changed  (\"file2.txt\",   Some     \"222222222222222222222222222222222222\n",
      "314 / 638468057584506476 / Changed  (\"file2.txt\",   Some     \"22222222222222222222222222222222222\n",
      "71 / 638468057584506547 / Changed  (\"file2.txt\",   Some     \"222222222222222222222222222222222222\n",
      "164 / 638468057584506711 / Changed  (\"file2.txt\",   Some     \"22222222222222222222222222222222222\n",
      "219 / 638468057584506930 / Changed  (\"file2.txt\",   Some     \"22222222222222222222222222222222222\n",
      "44 / 638468057584506974 / Changed  (\"file2.txt\",   Some     \"222222222222222222222222222222222222\n",
      "261 / 638468057584507235 / Changed  (\"file2.txt\",   Some     \"22222222222222222222222222222222222\n",
      "53 / 638468057584507288 / Changed  (\"file2.txt\",   Some     \"222222222222222222222222222222222222\n",
      "183 / 638468057584507471 / Changed  (\"file2.txt\",   Some     \"22222222222222222222222222222222222\n",
      "47 / 638468057584507518 / Changed  (\"file2.txt\",   Some     \"222222222222222222222222222222222222\n",
      "297 / 638468057584507815 / Changed  (\"file2.txt\",   Some     \"22222222222222222222222222222222222\n",
      "59 / 638468057584507874 / Changed  (\"file2.txt\",   Some     \"222222222222222222222222222222222222\n",
      "160 / 638468057584508034 / Changed  (\"file2.txt\",   Some     \"22222222222222222222222222222222222\n",
      "189 / 638468057584508223 / Changed  (\"file2.txt\",   Some     \"22222222222222222222222222222222222\n",
      "200 / 638468057584508423 / Changed  (\"file2.txt\",   Some     \"22222222222222222222222222222222222\n",
      "48 / 638468057584508471 / Changed  (\"file2.txt\",   Some     \"222222222222222222222222222222222222\n",
      "228 / 638468057584508699 / Changed  (\"file2.txt\",   Some     \"22222222222222222222222222222222222\n",
      "182 / 638468057584508881 / Changed  (\"file2.txt\",   Some     \"22222222222222222222222222222222222\n",
      "275 / 638468057584509156 / Changed  (\"file2.txt\",   Some     \"22222222222222222222222222222222222\n",
      "235 / 638468057584509391 / Changed  (\"file2.txt\",   Some     \"22222222222222222222222222222222222\n",
      "202 / 638468057584509593 / Changed  (\"file2.txt\",   Some     \"22222222222222222222222222222222222\n",
      "40 / 638468057584509633 / Changed  (\"file2.txt\",   Some     \"222222222222222222222222222222222222\n",
      "230 / 638468057584509863 / Changed  (\"file2.txt\",   Some     \"22222222222222222222222222222222222\n",
      "277 / 638468057584510140 / Changed  (\"file2.txt\",   Some     \"22222222222222222222222222222222222\n",
      "248 / 638468057584510388 / Changed  (\"file2.txt\",   Some     \"22222222222222222222222222222222222\n",
      "214 / 638468057584510602 / Changed  (\"file2.txt\",   Some     \"22222222222222222222222222222222222\n",
      "100 / 638468057584510702 / Changed  (\"file2.txt\",   Some     \"22222222222222222222222222222222222\n",
      "199 / 638468057584510901 / Changed  (\"file2.txt\",   Some     \"22222222222222222222222222222222222\n",
      "170 / 638468057584511071 / Changed  (\"file2.txt\",   Some     \"22222222222222222222222222222222222\n",
      "194 / 638468057584511265 / Changed  (\"file2.txt\",   Some     \"22222222222222222222222222222222222\n",
      "45 / 638468057584511310 / Changed  (\"file2.txt\",   Some     \"222222222222222222222222222222222222\n",
      "239 / 638468057584511549 / Changed  (\"file2.txt\",   Some     \"22222222222222222222222222222222222\n",
      "148 / 638468057584511697 / Changed  (\"file2.txt\",   Some     \"22222222222222222222222222222222222\n",
      "188 / 638468057584511885 / Changed  (\"file2.txt\",   Some     \"22222222222222222222222222222222222\n",
      "169 / 638468057584512054 / Changed  (\"file2.txt\",   Some     \"22222222222222222222222222222222222\n",
      "163 / 638468057584512217 / Changed  (\"file2.txt\",   Some     \"22222222222222222222222222222222222\n",
      "97 / 638468057584512314 / Changed  (\"file2.txt\",   Some     \"222222222222222222222222222222222222\n",
      "334 / 638468057584512648 / Changed  (\"file2.txt\",   Some     \"22222222222222222222222222222222222\n",
      "42 / 638468057584512690 / Changed  (\"file2.txt\",   Some     \"222222222222222222222222222222222222\n",
      "269 / 638468057584512959 / Changed  (\"file2.txt\",   Some     \"22222222222222222222222222222222222\n",
      "318 / 638468057584513277 / Changed  (\"file2.txt\",   Some     \"22222222222222222222222222222222222\n",
      "227 / 638468057584513504 / Changed  (\"file2.txt\",   Some     \"22222222222222222222222222222222222\n",
      "178 / 638468057584513682 / Changed  (\"file2.txt\",   Some     \"22222222222222222222222222222222222\n",
      "236 / 638468057584513918 / Changed  (\"file2.txt\",   Some     \"22222222222222222222222222222222222\n",
      "98 / 638468057584514016 / Changed  (\"file2.txt\",   Some     \"222222222222222222222222222222222222\n",
      "225 / 638468057584514241 / Changed  (\"file2.txt\",   Some     \"22222222222222222222222222222222222\n",
      "180 / 638468057584514421 / Changed  (\"file2.txt\",   Some     \"22222222222222222222222222222222222\n",
      "173 / 638468057584514594 / Changed  (\"file2.txt\",   Some     \"22222222222222222222222222222222222\n",
      "221 / 638468057584514815 / Changed  (\"file2.txt\",   Some     \"22222222222222222222222222222222222\n",
      "200 / 638468057584515015 / Changed  (\"file2.txt\",   Some     \"22222222222222222222222222222222222\n",
      "208 / 638468057584515223 / Changed  (\"file2.txt\",   Some     \"22222222222222222222222222222222222\n",
      "114 / 638468057584515337 / Changed  (\"file2.txt\",   Some     \"22222222222222222222222222222222222\n",
      "229 / 638468057584515566 / Changed  (\"file2.txt\",   Some     \"22222222222222222222222222222222222\n",
      "166 / 638468057584515732 / Changed  (\"file2.txt\",   Some     \"22222222222222222222222222222222222\n",
      "172 / 638468057584515904 / Changed  (\"file2.txt\",   Some     \"22222222222222222222222222222222222\n",
      "261 / 638468057584516165 / Changed  (\"file2.txt\",   Some     \"22222222222222222222222222222222222\n",
      "40 / 638468057584516205 / Changed  (\"file2.txt\",   Some     \"222222222222222222222222222222222222\n",
      "213 / 638468057584516418 / Changed  (\"file2.txt\",   Some     \"22222222222222222222222222222222222\n",
      "211 / 638468057584516629 / Changed  (\"file2.txt\",   Some     \"22222222222222222222222222222222222\n",
      "194 / 638468057584516823 / Changed  (\"file2.txt\",   Some     \"22222222222222222222222222222222222\n",
      "175 / 638468057584516998 / Changed  (\"file2.txt\",   Some     \"22222222222222222222222222222222222\n",
      "177 / 638468057584517175 / Changed  (\"file2.txt\",   Some     \"22222222222222222222222222222222222\n",
      "174 / 638468057584517349 / Changed  (\"file2.txt\",   Some     \"22222222222222222222222222222222222\n",
      "202 / 638468057584517551 / Changed  (\"file2.txt\",   Some     \"22222222222222222222222222222222222\n",
      "178 / 638468057584517729 / Changed  (\"file2.txt\",   Some     \"22222222222222222222222222222222222\n",
      "221 / 638468057584517950 / Changed  (\"file2.txt\",   Some     \"22222222222222222222222222222222222\n",
      "179 / 638468057584518129 / Changed  (\"file2.txt\",   Some     \"22222222222222222222222222222222222\n",
      "172 / 638468057584518301 / Changed  (\"file2.txt\",   Some     \"22222222222222222222222222222222222\n",
      "39 / 638468057584518340 / Changed  (\"file2.txt\",   Some     \"222222222222222222222222222222222222\n",
      "15035094 / 638468057599553434 / Renamed  (\"file1.txt\",   (\"file_1.txt\",    Some      \"1111111111\n",
      "357 / 638468057599553791 / Renamed  (\"file2.txt\",   (\"file_2.txt\",    Some      \"222222222222222\n",
      "15055625 / 638468057614609416 / Changed  (\"file_1.txt\",   Some     \"11111111111111111111111111111\n",
      "1431 / 638468057614610847 / Changed  (\"file_1.txt\",   Some     \"111111111111111111111111111111111\n",
      "219 / 638468057614611066 / Changed  (\"file_1.txt\",   Some     \"1111111111111111111111111111111111\n",
      "216 / 638468057614611282 / Changed  (\"file_1.txt\",   Some     \"1111111111111111111111111111111111\n",
      "1196 / 638468057614612478 / Changed  (\"file_1.txt\",   Some     \"111111111111111111111111111111111\n",
      "212 / 638468057614612690 / Changed  (\"file_1.txt\",   Some     \"1111111111111111111111111111111111\n",
      "159 / 638468057614612849 / Changed  (\"file_1.txt\",   Some     \"1111111111111111111111111111111111\n",
      "642 / 638468057614613491 / Changed  (\"file_1.txt\",   Some     \"1111111111111111111111111111111111\n",
      "127 / 638468057614613618 / Changed  (\"file_1.txt\",   Some     \"1111111111111111111111111111111111\n",
      "143 / 638468057614613761 / Changed  (\"file_1.txt\",   Some     \"1111111111111111111111111111111111\n",
      "155 / 638468057614613916 / Changed  (\"file_1.txt\",   Some     \"1111111111111111111111111111111111\n",
      "162 / 638468057614614078 / Changed  (\"file_1.txt\",   Some     \"1111111111111111111111111111111111\n",
      "189 / 638468057614614267 / Changed  (\"file_1.txt\",   Some     \"1111111111111111111111111111111111\n",
      "162 / 638468057614614429 / Changed  (\"file_1.txt\",   Some     \"1111111111111111111111111111111111\n",
      "152 / 638468057614614581 / Changed  (\"file_1.txt\",   Some     \"1111111111111111111111111111111111\n",
      "184 / 638468057614614765 / Changed  (\"file_1.txt\",   Some     \"1111111111111111111111111111111111\n",
      "492 / 638468057614615257 / Changed  (\"file_1.txt\",   Some     \"1111111111111111111111111111111111\n",
      "129 / 638468057614615386 / Changed  (\"file_1.txt\",   Some     \"1111111111111111111111111111111111\n",
      "806 / 638468057614616192 / Changed  (\"file_1.txt\",   Some     \"1111111111111111111111111111111111\n",
      "550 / 638468057614616742 / Changed  (\"file_1.txt\",   Some     \"1111111111111111111111111111111111\n",
      "144 / 638468057614616886 / Changed  (\"file_1.txt\",   Some     \"1111111111111111111111111111111111\n",
      "170 / 638468057614617056 / Changed  (\"file_1.txt\",   Some     \"1111111111111111111111111111111111\n",
      "192 / 638468057614617248 / Changed  (\"file_1.txt\",   Some     \"1111111111111111111111111111111111\n",
      "175 / 638468057614617423 / Changed  (\"file_1.txt\",   Some     \"1111111111111111111111111111111111\n",
      "141 / 638468057614617564 / Changed  (\"file_1.txt\",   Some     \"1111111111111111111111111111111111\n",
      "148 / 638468057614617712 / Changed  (\"file_1.txt\",   Some     \"1111111111111111111111111111111111\n",
      "160 / 638468057614617872 / Changed  (\"file_1.txt\",   Some     \"1111111111111111111111111111111111\n",
      "4516 / 638468057614622388 / Changed  (\"file_1.txt\",   Some     \"111111111111111111111111111111111\n",
      "54 / 638468057614622442 / Changed  (\"file_1.txt\",   Some     \"11111111111111111111111111111111111\n",
      "626 / 638468057614623068 / Changed  (\"file_1.txt\",   Some     \"1111111111111111111111111111111111\n",
      "36 / 638468057614623104 / Changed  (\"file_1.txt\",   Some     \"11111111111111111111111111111111111\n",
      "330 / 638468057614623434 / Changed  (\"file_1.txt\",   Some     \"1111111111111111111111111111111111\n",
      "48 / 638468057614623482 / Changed  (\"file_1.txt\",   Some     \"11111111111111111111111111111111111\n",
      "164 / 638468057614623646 / Changed  (\"file_1.txt\",   Some     \"1111111111111111111111111111111111\n",
      "129 / 638468057614623775 / Changed  (\"file_1.txt\",   Some     \"1111111111111111111111111111111111\n",
      "177 / 638468057614623952 / Changed  (\"file_1.txt\",   Some     \"1111111111111111111111111111111111\n",
      "131 / 638468057614624083 / Changed  (\"file_1.txt\",   Some     \"1111111111111111111111111111111111\n",
      "185 / 638468057614624268 / Changed  (\"file_1.txt\",   Some     \"1111111111111111111111111111111111\n",
      "143 / 638468057614624411 / Changed  (\"file_1.txt\",   Some     \"1111111111111111111111111111111111\n",
      "174 / 638468057614624585 / Changed  (\"file_1.txt\",   Some     \"1111111111111111111111111111111111\n",
      "214 / 638468057614624799 / Changed  (\"file_1.txt\",   Some     \"1111111111111111111111111111111111\n",
      "14 / 638468057614624813 / Changed  (\"file_1.txt\",   Some     \"11111111111111111111111111111111111\n",
      "255 / 638468057614625068 / Changed  (\"file_1.txt\",   Some     \"1111111111111111111111111111111111\n",
      "38 / 638468057614625106 / Changed  (\"file_1.txt\",   Some     \"11111111111111111111111111111111111\n",
      "270 / 638468057614625376 / Changed  (\"file_1.txt\",   Some     \"1111111111111111111111111111111111\n",
      "197 / 638468057614625573 / Changed  (\"file_1.txt\",   Some     \"1111111111111111111111111111111111\n",
      "34 / 638468057614625607 / Changed  (\"file_1.txt\",   Some     \"11111111111111111111111111111111111\n",
      "289 / 638468057614625896 / Changed  (\"file_1.txt\",   Some     \"1111111111111111111111111111111111\n",
      "37 / 638468057614625933 / Changed  (\"file_1.txt\",   Some     \"11111111111111111111111111111111111\n",
      "182 / 638468057614626115 / Changed  (\"file_1.txt\",   Some     \"1111111111111111111111111111111111\n",
      "231 / 638468057614626346 / Changed  (\"file_1.txt\",   Some     \"1111111111111111111111111111111111\n",
      "16 / 638468057614626362 / Changed  (\"file_1.txt\",   Some     \"11111111111111111111111111111111111\n",
      "284 / 638468057614626646 / Changed  (\"file_1.txt\",   Some     \"1111111111111111111111111111111111\n",
      "33 / 638468057614626679 / Changed  (\"file_1.txt\",   Some     \"11111111111111111111111111111111111\n",
      "263 / 638468057614626942 / Changed  (\"file_1.txt\",   Some     \"1111111111111111111111111111111111\n",
      "268 / 638468057614627210 / Changed  (\"file_1.txt\",   Some     \"1111111111111111111111111111111111\n",
      "431 / 638468057614627641 / Changed  (\"file_1.txt\",   Some     \"1111111111111111111111111111111111\n",
      "169 / 638468057614627810 / Changed  (\"file_1.txt\",   Some     \"1111111111111111111111111111111111\n",
      "110 / 638468057614627920 / Changed  (\"file_1.txt\",   Some     \"1111111111111111111111111111111111\n",
      "192 / 638468057614628112 / Changed  (\"file_1.txt\",   Some     \"1111111111111111111111111111111111\n",
      "146 / 638468057614628258 / Changed  (\"file_1.txt\",   Some     \"1111111111111111111111111111111111\n",
      "161 / 638468057614628419 / Changed  (\"file_1.txt\",   Some     \"1111111111111111111111111111111111\n",
      "159 / 638468057614628578 / Changed  (\"file_1.txt\",   Some     \"1111111111111111111111111111111111\n",
      "631 / 638468057614629209 / Changed  (\"file_1.txt\",   Some     \"1111111111111111111111111111111111\n",
      "125 / 638468057614629334 / Changed  (\"file_1.txt\",   Some     \"1111111111111111111111111111111111\n",
      "134 / 638468057614629468 / Changed  (\"file_1.txt\",   Some     \"1111111111111111111111111111111111\n",
      "184 / 638468057614629652 / Changed  (\"file_1.txt\",   Some     \"1111111111111111111111111111111111\n",
      "155 / 638468057614629807 / Changed  (\"file_1.txt\",   Some     \"1111111111111111111111111111111111\n",
      "387 / 638468057614630194 / Changed  (\"file_1.txt\",   Some     \"1111111111111111111111111111111111\n",
      "39 / 638468057614630233 / Changed  (\"file_1.txt\",   Some     \"11111111111111111111111111111111111\n",
      "30271 / 638468057614660504 / Changed  (\"file_2.txt\",   Some     \"22222222222222222222222222222222\n",
      "137 / 638468057614660641 / Changed  (\"file_2.txt\",   Some     \"2222222222222222222222222222222222\n",
      "423 / 638468057614661064 / Changed  (\"file_2.txt\",   Some     \"2222222222222222222222222222222222\n",
      "45 / 638468057614661109 / Changed  (\"file_2.txt\",   Some     \"22222222222222222222222222222222222\n",
      "272 / 638468057614661381 / Changed  (\"file_2.txt\",   Some     \"2222222222222222222222222222222222\n",
      "200 / 638468057614661581 / Changed  (\"file_2.txt\",   Some     \"2222222222222222222222222222222222\n",
      "165 / 638468057614661746 / Changed  (\"file_2.txt\",   Some     \"2222222222222222222222222222222222\n",
      "153 / 638468057614661899 / Changed  (\"file_2.txt\",   Some     \"2222222222222222222222222222222222\n",
      "173 / 638468057614662072 / Changed  (\"file_2.txt\",   Some     \"2222222222222222222222222222222222\n",
      "211 / 638468057614662283 / Changed  (\"file_2.txt\",   Some     \"2222222222222222222222222222222222\n",
      "184 / 638468057614662467 / Changed  (\"file_2.txt\",   Some     \"2222222222222222222222222222222222\n",
      "164 / 638468057614662631 / Changed  (\"file_2.txt\",   Some     \"2222222222222222222222222222222222\n",
      "161 / 638468057614662792 / Changed  (\"file_2.txt\",   Some     \"2222222222222222222222222222222222\n",
      "158 / 638468057614662950 / Changed  (\"file_2.txt\",   Some     \"2222222222222222222222222222222222\n",
      "150 / 638468057614663100 / Changed  (\"file_2.txt\",   Some     \"2222222222222222222222222222222222\n",
      "155 / 638468057614663255 / Changed  (\"file_2.txt\",   Some     \"2222222222222222222222222222222222\n",
      "182 / 638468057614663437 / Changed  (\"file_2.txt\",   Some     \"2222222222222222222222222222222222\n",
      "146 / 638468057614663583 / Changed  (\"file_2.txt\",   Some     \"2222222222222222222222222222222222\n",
      "167 / 638468057614663750 / Changed  (\"file_2.txt\",   Some     \"2222222222222222222222222222222222\n",
      "150 / 638468057614663900 / Changed  (\"file_2.txt\",   Some     \"2222222222222222222222222222222222\n",
      "172 / 638468057614664072 / Changed  (\"file_2.txt\",   Some     \"2222222222222222222222222222222222\n",
      "157 / 638468057614664229 / Changed  (\"file_2.txt\",   Some     \"2222222222222222222222222222222222\n",
      "159 / 638468057614664388 / Changed  (\"file_2.txt\",   Some     \"2222222222222222222222222222222222\n",
      "156 / 638468057614664544 / Changed  (\"file_2.txt\",   Some     \"2222222222222222222222222222222222\n",
      "185 / 638468057614664729 / Changed  (\"file_2.txt\",   Some     \"2222222222222222222222222222222222\n",
      "172 / 638468057614664901 / Changed  (\"file_2.txt\",   Some     \"2222222222222222222222222222222222\n",
      "150 / 638468057614665051 / Changed  (\"file_2.txt\",   Some     \"2222222222222222222222222222222222\n",
      "163 / 638468057614665214 / Changed  (\"file_2.txt\",   Some     \"2222222222222222222222222222222222\n",
      "159 / 638468057614665373 / Changed  (\"file_2.txt\",   Some     \"2222222222222222222222222222222222\n",
      "156 / 638468057614665529 / Changed  (\"file_2.txt\",   Some     \"2222222222222222222222222222222222\n",
      "157 / 638468057614665686 / Changed  (\"file_2.txt\",   Some     \"2222222222222222222222222222222222\n",
      "200 / 638468057614665886 / Changed  (\"file_2.txt\",   Some     \"2222222222222222222222222222222222\n",
      "152 / 638468057614666038 / Changed  (\"file_2.txt\",   Some     \"2222222222222222222222222222222222\n",
      "149 / 638468057614666187 / Changed  (\"file_2.txt\",   Some     \"2222222222222222222222222222222222\n",
      "180 / 638468057614666367 / Changed  (\"file_2.txt\",   Some     \"2222222222222222222222222222222222\n",
      "194 / 638468057614666561 / Changed  (\"file_2.txt\",   Some     \"2222222222222222222222222222222222\n",
      "191 / 638468057614666752 / Changed  (\"file_2.txt\",   Some     \"2222222222222222222222222222222222\n",
      "173 / 638468057614666925 / Changed  (\"file_2.txt\",   Some     \"2222222222222222222222222222222222\n",
      "158 / 638468057614667083 / Changed  (\"file_2.txt\",   Some     \"2222222222222222222222222222222222\n",
      "189 / 638468057614667272 / Changed  (\"file_2.txt\",   Some     \"2222222222222222222222222222222222\n",
      "153 / 638468057614667425 / Changed  (\"file_2.txt\",   Some     \"2222222222222222222222222222222222\n",
      "160 / 638468057614667585 / Changed  (\"file_2.txt\",   Some     \"2222222222222222222222222222222222\n",
      "157 / 638468057614667742 / Changed  (\"file_2.txt\",   Some     \"2222222222222222222222222222222222\n",
      "164 / 638468057614667906 / Changed  (\"file_2.txt\",   Some     \"2222222222222222222222222222222222\n",
      "185 / 638468057614668091 / Changed  (\"file_2.txt\",   Some     \"2222222222222222222222222222222222\n",
      "147 / 638468057614668238 / Changed  (\"file_2.txt\",   Some     \"2222222222222222222222222222222222\n",
      "186 / 638468057614668424 / Changed  (\"file_2.txt\",   Some     \"2222222222222222222222222222222222\n",
      "175 / 638468057614668599 / Changed  (\"file_2.txt\",   Some     \"2222222222222222222222222222222222\n",
      "337 / 638468057614668936 / Changed  (\"file_2.txt\",   Some     \"2222222222222222222222222222222222\n",
      "148 / 638468057614669084 / Changed  (\"file_2.txt\",   Some     \"2222222222222222222222222222222222\n",
      "136 / 638468057614669220 / Changed  (\"file_2.txt\",   Some     \"2222222222222222222222222222222222\n",
      "138 / 638468057614669358 / Changed  (\"file_2.txt\",   Some     \"2222222222222222222222222222222222\n",
      "154 / 638468057614669512 / Changed  (\"file_2.txt\",   Some     \"2222222222222222222222222222222222\n",
      "138 / 638468057614669650 / Changed  (\"file_2.txt\",   Some     \"2222222222222222222222222222222222\n",
      "172 / 638468057614669822 / Changed  (\"file_2.txt\",   Some     \"2222222222222222222222222222222222\n",
      "317 / 638468057614670139 / Changed  (\"file_2.txt\",   Some     \"2222222222222222222222222222222222\n",
      "172 / 638468057614670311 / Changed  (\"file_2.txt\",   Some     \"2222222222222222222222222222222222\n",
      "678 / 638468057614670989 / Changed  (\"file_2.txt\",   Some     \"2222222222222222222222222222222222\n",
      "46 / 638468057614671035 / Changed  (\"file_2.txt\",   Some     \"22222222222222222222222222222222222\n",
      "966 / 638468057614672001 / Changed  (\"file_2.txt\",   Some     \"2222222222222222222222222222222222\n",
      "46 / 638468057614672047 / Changed  (\"file_2.txt\",   Some     \"22222222222222222222222222222222222\n",
      "178 / 638468057614672225 / Changed  (\"file_2.txt\",   Some     \"2222222222222222222222222222222222\n",
      "147 / 638468057614672372 / Changed  (\"file_2.txt\",   Some     \"2222222222222222222222222222222222\n",
      "146 / 638468057614672518 / Changed  (\"file_2.txt\",   Some     \"2222222222222222222222222222222222\n",
      "145 / 638468057614672663 / Changed  (\"file_2.txt\",   Some     \"2222222222222222222222222222222222\n",
      "146 / 638468057614672809 / Changed  (\"file_2.txt\",   Some     \"2222222222222222222222222222222222\n",
      "141 / 638468057614672950 / Changed  (\"file_2.txt\",   Some     \"2222222222222222222222222222222222\n",
      "145 / 638468057614673095 / Changed  (\"file_2.txt\",   Some     \"2222222222222222222222222222222222\n",
      "167 / 638468057614673262 / Changed  (\"file_2.txt\",   Some     \"2222222222222222222222222222222222\n",
      "147 / 638468057614673409 / Changed  (\"file_2.txt\",   Some     \"2222222222222222222222222222222222\n",
      "626 / 638468057614674035 / Changed  (\"file_2.txt\",   Some     \"2222222222222222222222222222222222\n",
      "131 / 638468057614674166 / Changed  (\"file_2.txt\",   Some     \"2222222222222222222222222222222222\n",
      "129 / 638468057614674295 / Changed  (\"file_2.txt\",   Some     \"2222222222222222222222222222222222\n",
      "165 / 638468057614674460 / Changed  (\"file_2.txt\",   Some     \"2222222222222222222222222222222222\n",
      "147 / 638468057614674607 / Changed  (\"file_2.txt\",   Some     \"2222222222222222222222222222222222\n",
      "643 / 638468057614675250 / Changed  (\"file_2.txt\",   Some     \"2222222222222222222222222222222222\n",
      "206 / 638468057614675456 / Changed  (\"file_2.txt\",   Some     \"2222222222222222222222222222222222\n",
      "144 / 638468057614675600 / Changed  (\"file_2.txt\",   Some     \"2222222222222222222222222222222222\n",
      "163 / 638468057614675763 / Changed  (\"file_2.txt\",   Some     \"2222222222222222222222222222222222\n",
      "513 / 638468057614676276 / Changed  (\"file_2.txt\",   Some     \"2222222222222222222222222222222222\n",
      "29 / 638468057614676305 / Changed  (\"file_2.txt\",   Some     \"22222222222222222222222222222222222\n",
      "179 / 638468057614676484 / Changed  (\"file_2.txt\",   Some     \"2222222222222222222222222222222222\n",
      "186 / 638468057614676670 / Changed  (\"file_2.txt\",   Some     \"2222222222222222222222222222222222\n",
      "165 / 638468057614676835 / Changed  (\"file_2.txt\",   Some     \"2222222222222222222222222222222222\n",
      "153 / 638468057614676988 / Changed  (\"file_2.txt\",   Some     \"2222222222222222222222222222222222\n",
      "168 / 638468057614677156 / Changed  (\"file_2.txt\",   Some     \"2222222222222222222222222222222222\n",
      "163 / 638468057614677319 / Changed  (\"file_2.txt\",   Some     \"2222222222222222222222222222222222\n",
      "174 / 638468057614677493 / Changed  (\"file_2.txt\",   Some     \"2222222222222222222222222222222222\n",
      "140 / 638468057614677633 / Changed  (\"file_2.txt\",   Some     \"2222222222222222222222222222222222\n",
      "551 / 638468057614678184 / Changed  (\"file_2.txt\",   Some     \"2222222222222222222222222222222222\n",
      "31 / 638468057614678215 / Changed  (\"file_2.txt\",   Some     \"22222222222222222222222222222222222\n",
      "171 / 638468057614678386 / Changed  (\"file_2.txt\",   Some     \"2222222222222222222222222222222222\n",
      "161 / 638468057614678547 / Changed  (\"file_2.txt\",   Some     \"2222222222222222222222222222222222\n",
      "172 / 638468057614678719 / Changed  (\"file_2.txt\",   Some     \"2222222222222222222222222222222222\n",
      "156 / 638468057614678875 / Changed  (\"file_2.txt\",   Some     \"2222222222222222222222222222222222\n",
      "176 / 638468057614679051 / Changed  (\"file_2.txt\",   Some     \"2222222222222222222222222222222222\n",
      "197 / 638468057614679248 / Changed  (\"file_2.txt\",   Some     \"2222222222222222222222222222222222\n",
      "378 / 638468057614679626 / Changed  (\"file_2.txt\",   Some     \"2222222222222222222222222222222222\n",
      "156 / 638468057614679782 / Changed  (\"file_2.txt\",   Some     \"2222222222222222222222222222222222\n",
      "169 / 638468057614679951 / Changed  (\"file_2.txt\",   Some     \"2222222222222222222222222222222222\n",
      "14864 / 638468057614694815 / Changed  (\"file_2.txt\",   Some     \"22222222222222222222222222222222\n",
      "15004788 / 638468057629699603 / Deleted \"file_1.txt\"\n",
      "4162 / 638468057629703765 / Deleted \"file_2.txt\"\n",
      "FSharpList<FileSystemChange>\n",
      "      - path: file1.txt\n",
      "        content: FSharpOption<String>\n",
      "          Value: 1a\n",
      "        IsFailure: False\n",
      "        IsChanged: False\n",
      "        IsCreated: True\n",
      "        IsDeleted: False\n",
      "        IsRenamed: False\n",
      "      - path: file1.txt\n",
      "        content: FSharpOption<String>\n",
      "          Value: 1a\n",
      "        IsFailure: False\n",
      "        IsChanged: True\n",
      "        IsCreated: False\n",
      "        IsDeleted: False\n",
      "        IsRenamed: False\n",
      "      - path: file2.txt\n",
      "        content: FSharpOption<String>\n",
      "          Value: 2a\n",
      "        IsFailure: False\n",
      "        IsChanged: False\n",
      "        IsCreated: True\n",
      "        IsDeleted: False\n",
      "        IsRenamed: False\n",
      "      - path: file2.txt\n",
      "        content: FSharpOption<String>\n",
      "          Value: 2a\n",
      "        IsFailure: False\n",
      "        IsChanged: True\n",
      "        IsCreated: False\n",
      "        IsDeleted: False\n",
      "        IsRenamed: False\n",
      "      - path: file1.txt\n",
      "        content: FSharpOption<String>\n",
      "          Value: 1b\n",
      "        IsFailure: False\n",
      "        IsChanged: True\n",
      "        IsCreated: False\n",
      "        IsDeleted: False\n",
      "        IsRenamed: False\n",
      "      - path: file2.txt\n",
      "        content: FSharpOption<String>\n",
      "          Value: 2b\n",
      "        IsFailure: False\n",
      "        IsChanged: True\n",
      "        IsCreated: False\n",
      "        IsDeleted: False\n",
      "        IsRenamed: False\n",
      "      - oldPath: file1.txt\n",
      "        Item2:         - file_1.txt\n",
      "        - FSharpOption<String>\n",
      "            Value: 1b\n",
      "      - IsFailure: False\n",
      "        IsChanged: False\n",
      "        IsCreated: False\n",
      "        IsDeleted: False\n",
      "        IsRenamed: True\n",
      "      - oldPath: file2.txt\n",
      "        Item2:         - file_2.txt\n",
      "        - FSharpOption<String>\n",
      "            Value: 2b\n",
      "      - IsFailure: False\n",
      "        IsChanged: False\n",
      "        IsCreated: False\n",
      "        IsDeleted: False\n",
      "        IsRenamed: True\n",
      "      - path: file_1.txt\n",
      "        content: FSharpOption<String>\n",
      "          Value: 1c\n",
      "        IsFailure: False\n",
      "        IsChanged: True\n",
      "        IsCreated: False\n",
      "        IsDeleted: False\n",
      "        IsRenamed: False\n",
      "      - path: file_2.txt\n",
      "        content: FSharpOption<String>\n",
      "          Value: 2c\n",
      "        IsFailure: False\n",
      "        IsChanged: True\n",
      "        IsCreated: False\n",
      "        IsDeleted: False\n",
      "        IsRenamed: False\n",
      "      - path: file_1.txt\n",
      "        IsFailure: False\n",
      "        IsChanged: False\n",
      "        IsCreated: False\n",
      "        IsDeleted: True\n",
      "        IsRenamed: False\n",
      "      - path: file_2.txt\n",
      "        IsFailure: False\n",
      "        IsChanged: False\n",
      "        IsCreated: False\n",
      "        IsDeleted: True\n",
      "        IsRenamed: False\n",
      "FSharpOption<Unit>\n",
      "      Value: <null>\n"
     ]
    }
   ],
   "source": [
    "//// test\n",
    "\n",
    "let inline write path = async {\n",
    "    let n = 2\n",
    "\n",
    "    let contents =\n",
    "        [ 1 .. n ]\n",
    "        |> List.map (string >> String.replicate 1_000_000)\n",
    "\n",
    "    for i = 1 to n do\n",
    "        do! $\"{contents.[i - 1]}a\" |> writeAllTextAsync (path </> $\"file{i}.txt\")\n",
    "\n",
    "    do! Async.Sleep 1500\n",
    "\n",
    "    for i = 1 to n do\n",
    "        do! $\"{contents.[i - 1]}b\" |> writeAllTextAsync (path </> $\"file{i}.txt\")\n",
    "\n",
    "    do! Async.Sleep 1500\n",
    "\n",
    "    for i = 1 to n do\n",
    "        do! path </> $\"file{i}.txt\" |> moveFileAsync (path </> $\"file_{i}.txt\") |> Async.Ignore\n",
    "\n",
    "    do! Async.Sleep 1500\n",
    "\n",
    "    for i = 1 to n do\n",
    "        do! $\"{contents.[i - 1]}c\" |> writeAllTextAsync (path </> $\"file_{i}.txt\")\n",
    "\n",
    "    do! Async.Sleep 1500\n",
    "\n",
    "    for i = 1 to n do\n",
    "        do! deleteFileAsync (path </> $\"file_{i}.txt\") |> Async.Ignore\n",
    "\n",
    "    do! Async.Sleep 1500\n",
    "}\n",
    "\n",
    "let inline run () =\n",
    "    let events =\n",
    "        testEventsRaw watchDirectory write\n",
    "        |> List.map (function\n",
    "            | FileSystemChange.Changed (path, Some content) ->\n",
    "                FileSystemChange.Changed (path, content |> Seq.distinct |> Seq.map string |> String.concat \"\" |> Some)\n",
    "            | FileSystemChange.Created (path, Some content) ->\n",
    "                FileSystemChange.Created (path, content |> Seq.distinct |> Seq.map string |> String.concat \"\" |> Some)\n",
    "            | FileSystemChange.Renamed (oldPath, (newPath, Some content)) ->\n",
    "                FileSystemChange.Renamed (\n",
    "                    oldPath,\n",
    "                    (newPath, content |> Seq.distinct |> Seq.map string |> String.concat \"\" |> Some)\n",
    "                )\n",
    "            | event -> event\n",
    "        )\n",
    "\n",
    "    events\n",
    "    |> _sequenceEqual [\n",
    "        FileSystemChange.Created (\"file1.txt\", Some \"1a\")\n",
    "        FileSystemChange.Changed (\"file1.txt\", Some \"1a\")\n",
    "        FileSystemChange.Created (\"file2.txt\", Some \"2a\")\n",
    "        FileSystemChange.Changed (\"file2.txt\", Some \"2a\")\n",
    "\n",
    "        FileSystemChange.Changed (\"file1.txt\", Some \"1b\")\n",
    "        FileSystemChange.Changed (\"file2.txt\", Some \"2b\")\n",
    "\n",
    "        FileSystemChange.Renamed (\"file1.txt\", (\"file_1.txt\", Some \"1b\"))\n",
    "        FileSystemChange.Renamed (\"file2.txt\", (\"file_2.txt\", Some \"2b\"))\n",
    "\n",
    "        FileSystemChange.Changed (\"file_1.txt\", Some \"1c\")\n",
    "        FileSystemChange.Changed (\"file_2.txt\", Some \"2c\")\n",
    "\n",
    "        FileSystemChange.Deleted \"file_1.txt\"\n",
    "        FileSystemChange.Deleted \"file_2.txt\"\n",
    "    ]\n",
    "\n",
    "run\n",
    "|> retryFn 5\n",
    "|> _assertEqual (Some ())"
   ]
  },
  {
   "cell_type": "markdown",
   "metadata": {},
   "source": [
    "### testEventsSorted (test)"
   ]
  },
  {
   "cell_type": "code",
   "execution_count": null,
   "metadata": {
    "dotnet_interactive": {
     "language": "fsharp"
    },
    "polyglot_notebook": {
     "kernelName": "fsharp"
    }
   },
   "outputs": [],
   "source": [
    "//// test\n",
    "\n",
    "let inline sortEvent event =\n",
    "    match event with\n",
    "    | FileSystemChange.Failure _ -> 0\n",
    "    | FileSystemChange.Created _ -> 1\n",
    "    | FileSystemChange.Changed _ -> 2\n",
    "    | FileSystemChange.Renamed (_oldPath, _) -> 3\n",
    "    | FileSystemChange.Deleted _ -> 4\n",
    "\n",
    "let inline formatEvents events =\n",
    "    events\n",
    "    |> Seq.toList\n",
    "    |> List.sortBy (snd >> sortEvent)\n",
    "    |> List.choose (fun (ticks, event) ->\n",
    "        match event with\n",
    "        | FileSystemChange.Failure _ ->\n",
    "            None\n",
    "        | FileSystemChange.Changed (path, _) ->\n",
    "            Some (ticks, System.IO.Path.GetFileName path, nameof FileSystemChangeType.Changed)\n",
    "        | FileSystemChange.Created (path, _) ->\n",
    "            Some (ticks, System.IO.Path.GetFileName path, nameof FileSystemChangeType.Created)\n",
    "        | FileSystemChange.Deleted path ->\n",
    "            Some (ticks, System.IO.Path.GetFileName path, nameof FileSystemChangeType.Deleted)\n",
    "        | FileSystemChange.Renamed (_oldPath, (path, _)) ->\n",
    "            Some (ticks, System.IO.Path.GetFileName path, nameof FileSystemChangeType.Renamed)\n",
    "    )\n",
    "    |> List.sortBy (fun (_, path, _) -> path)\n",
    "    |> List.distinctBy (fun (_, path, event) -> path, event)\n",
    "\n",
    "let inline testEventsSorted\n",
    "    (watchFn : string -> FSharp.Control.AsyncSeq<int64 * FileSystemChange> * IDisposable)\n",
    "    write\n",
    "    =\n",
    "    let path = createTempDirectory ()\n",
    "    let stream, disposable = watchFn path\n",
    "\n",
    "    let events = System.Collections.Concurrent.ConcurrentBag ()\n",
    "\n",
    "    let inline iter () =\n",
    "        stream\n",
    "        |> FSharp.Control.AsyncSeq.iterAsyncParallel (fun event -> async { events.Add event })\n",
    "\n",
    "    let run = async {\n",
    "        let! _ = iter () |> Async.StartChild\n",
    "        do! Async.Sleep 250\n",
    "        return! write path\n",
    "    }\n",
    "\n",
    "    try\n",
    "        run\n",
    "        |> Async.runWithTimeout 5000\n",
    "        |> _assertEqual (Some ())\n",
    "    finally\n",
    "        disposable.Dispose ()\n",
    "        deleteDirectoryAsync path |> Async.Ignore |> Async.RunSynchronously\n",
    "\n",
    "    let events = formatEvents events\n",
    "\n",
    "    let eventMap =\n",
    "        events\n",
    "        |> List.map (fun (ticks, path, event) -> path, (event, ticks))\n",
    "        |> List.groupBy fst\n",
    "        |> List.map (fun (path, events) ->\n",
    "            let event, _ticks =\n",
    "                events\n",
    "                |> List.map snd\n",
    "                |> List.sortByDescending snd\n",
    "                |> List.head\n",
    "\n",
    "            path, event\n",
    "        )\n",
    "        |> Map.ofList\n",
    "\n",
    "    let eventList =\n",
    "        events\n",
    "        |> List.map (fun (_ticks, path, event) -> path, event)\n",
    "\n",
    "    eventMap, eventList"
   ]
  },
  {
   "cell_type": "markdown",
   "metadata": {},
   "source": [
    "#### create and delete (test)"
   ]
  },
  {
   "cell_type": "code",
   "execution_count": null,
   "metadata": {
    "dotnet_interactive": {
     "language": "fsharp"
    },
    "polyglot_notebook": {
     "kernelName": "fsharp"
    }
   },
   "outputs": [
    {
     "name": "stdout",
     "output_type": "stream",
     "text": [
      "FSharpOption<Unit>\n",
      "      Value: <null>\n",
      "00:00:28 #51 [Debug] watchWithFilter / Disposing watch stream / filter: FileName, LastWrite\n",
      "FSharpList<Tuple<String,String>>\n",
      "( file1.txt, Created )\n",
      "( file1.txt, Changed )\n",
      "( file1.txt, Deleted )\n",
      "( file2.txt, Created )\n",
      "( file2.txt, Changed )\n",
      "( file2.txt, Deleted )\n",
      "( file3.txt, Created )\n",
      "( file3.txt, Changed )\n",
      "( file3.txt, Deleted )\n",
      "FSharpMap<String,String>\n",
      "      - Key: file1.txt\n",
      "        Value: Deleted\n",
      "      - Key: file2.txt\n",
      "        Value: Deleted\n",
      "      - Key: file3.txt\n",
      "        Value: Deleted\n",
      "FSharpOption<Unit>\n",
      "      Value: <null>\n"
     ]
    }
   ],
   "source": [
    "//// test\n",
    "\n",
    "let inline write path = async {\n",
    "    let n = 3\n",
    "\n",
    "    for i = 1 to n do\n",
    "        do! $\"{i}\" |> writeAllTextAsync (path </> $\"file{i}.txt\")\n",
    "\n",
    "    for i = 1 to n do\n",
    "        do! deleteFileAsync (path </> $\"file{i}.txt\") |> Async.Ignore\n",
    "\n",
    "    do! Async.Sleep 150\n",
    "}\n",
    "\n",
    "let inline run () =\n",
    "    let eventMap, eventList = testEventsSorted (watchDirectory (fun _ -> false)) write\n",
    "\n",
    "    [\n",
    "        \"file1.txt\", nameof FileSystemChangeType.Created\n",
    "        \"file1.txt\", nameof FileSystemChangeType.Changed\n",
    "        \"file1.txt\", nameof FileSystemChangeType.Deleted\n",
    "\n",
    "        \"file2.txt\", nameof FileSystemChangeType.Created\n",
    "        \"file2.txt\", nameof FileSystemChangeType.Changed\n",
    "        \"file2.txt\", nameof FileSystemChangeType.Deleted\n",
    "\n",
    "        \"file3.txt\", nameof FileSystemChangeType.Created\n",
    "        \"file3.txt\", nameof FileSystemChangeType.Changed\n",
    "        \"file3.txt\", nameof FileSystemChangeType.Deleted\n",
    "    ]\n",
    "    |> _sequenceEqual eventList\n",
    "\n",
    "    [\n",
    "        \"file1.txt\", nameof FileSystemChangeType.Deleted\n",
    "        \"file2.txt\", nameof FileSystemChangeType.Deleted\n",
    "        \"file3.txt\", nameof FileSystemChangeType.Deleted\n",
    "    ]\n",
    "    |> Map.ofList\n",
    "    |> _sequenceEqual eventMap\n",
    "\n",
    "run\n",
    "|> retryFn 3\n",
    "|> _assertEqual (Some ())"
   ]
  },
  {
   "cell_type": "markdown",
   "metadata": {},
   "source": [
    "#### change (test)"
   ]
  },
  {
   "cell_type": "code",
   "execution_count": null,
   "metadata": {
    "dotnet_interactive": {
     "language": "fsharp"
    },
    "polyglot_notebook": {
     "kernelName": "fsharp"
    }
   },
   "outputs": [
    {
     "name": "stdout",
     "output_type": "stream",
     "text": [
      "FSharpOption<Unit>\n",
      "      Value: <null>\n",
      "00:00:31 #52 [Debug] watchWithFilter / Disposing watch stream / filter: FileName, LastWrite\n",
      "FSharpList<Tuple<String,String>>\n",
      "( file1.txt, Created )\n",
      "( file1.txt, Changed )\n",
      "( file1.txt, Deleted )\n",
      "( file2.txt, Created )\n",
      "( file2.txt, Changed )\n",
      "( file2.txt, Deleted )\n",
      "FSharpMap<String,String>\n",
      "      - Key: file1.txt\n",
      "        Value: Deleted\n",
      "      - Key: file2.txt\n",
      "        Value: Deleted\n",
      "FSharpOption<Unit>\n",
      "      Value: <null>\n"
     ]
    }
   ],
   "source": [
    "//// test\n",
    "\n",
    "let inline write path = async {\n",
    "    let n = 2\n",
    "\n",
    "    for i = 1 to n do\n",
    "        do! $\"{i}\" |> writeAllTextAsync (path </> $\"file{i}.txt\")\n",
    "\n",
    "    for i = 1 to n do\n",
    "        do! \"\" |> writeAllTextAsync (path </> $\"file{i}.txt\")\n",
    "\n",
    "    for i = 1 to n do\n",
    "        do! deleteFileAsync (path </> $\"file{i}.txt\") |> Async.Ignore\n",
    "\n",
    "    do! Async.Sleep 150\n",
    "}\n",
    "\n",
    "let inline run () =\n",
    "    let eventMap, eventList = testEventsSorted (watchDirectory (fun _ -> false)) write\n",
    "\n",
    "    [\n",
    "        \"file1.txt\", nameof FileSystemChangeType.Created\n",
    "        \"file1.txt\", nameof FileSystemChangeType.Changed\n",
    "        \"file1.txt\", nameof FileSystemChangeType.Deleted\n",
    "\n",
    "        \"file2.txt\", nameof FileSystemChangeType.Created\n",
    "        \"file2.txt\", nameof FileSystemChangeType.Changed\n",
    "        \"file2.txt\", nameof FileSystemChangeType.Deleted\n",
    "    ]\n",
    "    |> _sequenceEqual eventList\n",
    "\n",
    "    [\n",
    "        \"file1.txt\", nameof FileSystemChangeType.Deleted\n",
    "        \"file2.txt\", nameof FileSystemChangeType.Deleted\n",
    "    ]\n",
    "    |> Map.ofList\n",
    "    |> _sequenceEqual eventMap\n",
    "\n",
    "run\n",
    "|> retryFn 3\n",
    "|> _assertEqual (Some ())"
   ]
  },
  {
   "cell_type": "markdown",
   "metadata": {},
   "source": [
    "#### rename (test)"
   ]
  },
  {
   "cell_type": "code",
   "execution_count": null,
   "metadata": {
    "dotnet_interactive": {
     "language": "fsharp"
    },
    "polyglot_notebook": {
     "kernelName": "fsharp"
    }
   },
   "outputs": [
    {
     "name": "stdout",
     "output_type": "stream",
     "text": [
      "FSharpOption<Unit>\n",
      "      Value: <null>\n",
      "00:00:34 #53 [Debug] watchWithFilter / Disposing watch stream / filter: FileName, LastWrite\n",
      "FSharpList<Tuple<String,String>>\n",
      "( file1.txt, Created )\n",
      "( file1.txt, Changed )\n",
      "( file2.txt, Created )\n",
      "( file2.txt, Changed )\n",
      "( file_1.txt, Renamed )\n",
      "( file_1.txt, Deleted )\n",
      "( file_2.txt, Renamed )\n",
      "( file_2.txt, Deleted )\n",
      "FSharpMap<String,String>\n",
      "      - Key: file1.txt\n",
      "        Value: Changed\n",
      "      - Key: file2.txt\n",
      "        Value: Changed\n",
      "      - Key: file_1.txt\n",
      "        Value: Deleted\n",
      "      - Key: file_2.txt\n",
      "        Value: Deleted\n",
      "FSharpOption<Unit>\n",
      "      Value: <null>\n"
     ]
    }
   ],
   "source": [
    "//// test\n",
    "\n",
    "let inline write path = async {\n",
    "    let n = 2\n",
    "\n",
    "    for i = 1 to n do\n",
    "        do! $\"{i}\" |> writeAllTextAsync (path </> $\"file{i}.txt\")\n",
    "\n",
    "    for i = 1 to n do\n",
    "        do! path </> $\"file{i}.txt\" |> moveFileAsync (path </> $\"file_{i}.txt\") |> Async.Ignore\n",
    "\n",
    "    for i = 1 to n do\n",
    "        do! deleteFileAsync (path </> $\"file_{i}.txt\") |> Async.Ignore\n",
    "\n",
    "    do! Async.Sleep 150\n",
    "}\n",
    "\n",
    "let inline run () =\n",
    "    let eventMap, eventList = testEventsSorted (watchDirectory (fun _ -> false)) write\n",
    "\n",
    "    [\n",
    "        \"file1.txt\", nameof FileSystemChangeType.Created\n",
    "        \"file1.txt\", nameof FileSystemChangeType.Changed\n",
    "        \"file2.txt\", nameof FileSystemChangeType.Created\n",
    "        \"file2.txt\", nameof FileSystemChangeType.Changed\n",
    "\n",
    "        \"file_1.txt\", nameof FileSystemChangeType.Renamed\n",
    "        \"file_1.txt\", nameof FileSystemChangeType.Deleted\n",
    "\n",
    "        \"file_2.txt\", nameof FileSystemChangeType.Renamed\n",
    "        \"file_2.txt\", nameof FileSystemChangeType.Deleted\n",
    "    ]\n",
    "    |> _sequenceEqual eventList\n",
    "\n",
    "    [\n",
    "        \"file1.txt\", nameof FileSystemChangeType.Changed\n",
    "        \"file2.txt\", nameof FileSystemChangeType.Changed\n",
    "        \"file_1.txt\", nameof FileSystemChangeType.Deleted\n",
    "        \"file_2.txt\", nameof FileSystemChangeType.Deleted\n",
    "    ]\n",
    "    |> Map.ofList\n",
    "    |> _sequenceEqual eventMap\n",
    "\n",
    "run\n",
    "|> retryFn 3\n",
    "|> _assertEqual (Some ())"
   ]
  },
  {
   "cell_type": "markdown",
   "metadata": {},
   "source": [
    "#### full (test)"
   ]
  },
  {
   "cell_type": "code",
   "execution_count": null,
   "metadata": {
    "dotnet_interactive": {
     "language": "fsharp"
    },
    "polyglot_notebook": {
     "kernelName": "fsharp"
    }
   },
   "outputs": [
    {
     "name": "stdout",
     "output_type": "stream",
     "text": [
      "FSharpOption<Unit>\n",
      "      Value: <null>\n",
      "00:00:37 #54 [Debug] watchWithFilter / Disposing watch stream / filter: FileName, LastWrite\n",
      "FSharpList<Tuple<String,String>>\n",
      "( file1.txt, Created )\n",
      "( file1.txt, Changed )\n",
      "( file2.txt, Created )\n",
      "( file2.txt, Changed )\n",
      "( file_1.txt, Changed )\n",
      "( file_1.txt, Renamed )\n",
      "( file_1.txt, Deleted )\n",
      "( file_2.txt, Changed )\n",
      "( file_2.txt, Renamed )\n",
      "( file_2.txt, Deleted )\n",
      "FSharpMap<String,String>\n",
      "      - Key: file1.txt\n",
      "        Value: Changed\n",
      "      - Key: file2.txt\n",
      "        Value: Changed\n",
      "      - Key: file_1.txt\n",
      "        Value: Deleted\n",
      "      - Key: file_2.txt\n",
      "        Value: Deleted\n",
      "FSharpOption<Unit>\n",
      "      Value: <null>\n"
     ]
    }
   ],
   "source": [
    "//// test\n",
    "\n",
    "let inline write path = async {\n",
    "    let n = 2\n",
    "\n",
    "    for i = 1 to n do\n",
    "        do! $\"{i}\" |> writeAllTextAsync (path </> $\"file{i}.txt\")\n",
    "\n",
    "    for i = 1 to n do\n",
    "        do! \"\" |> writeAllTextAsync (path </> $\"file{i}.txt\")\n",
    "\n",
    "    for i = 1 to n do\n",
    "        do! path </> $\"file{i}.txt\" |> moveFileAsync (path </> $\"file_{i}.txt\") |> Async.Ignore\n",
    "\n",
    "    for i = 1 to n do\n",
    "        do! $\"{i}\" |> writeAllTextAsync (path </> $\"file_{i}.txt\")\n",
    "\n",
    "    for i = 1 to n do\n",
    "        do! deleteFileAsync (path </> $\"file_{i}.txt\") |> Async.Ignore\n",
    "\n",
    "    do! Async.Sleep 150\n",
    "}\n",
    "\n",
    "let inline run () =\n",
    "    let eventMap, eventList = testEventsSorted (watchDirectory (fun _ -> false)) write\n",
    "\n",
    "    [\n",
    "        \"file1.txt\", nameof FileSystemChangeType.Created\n",
    "        \"file1.txt\", nameof FileSystemChangeType.Changed\n",
    "        \"file2.txt\", nameof FileSystemChangeType.Created\n",
    "        \"file2.txt\", nameof FileSystemChangeType.Changed\n",
    "\n",
    "        \"file_1.txt\", nameof FileSystemChangeType.Changed\n",
    "        \"file_1.txt\", nameof FileSystemChangeType.Renamed\n",
    "        \"file_1.txt\", nameof FileSystemChangeType.Deleted\n",
    "\n",
    "        \"file_2.txt\", nameof FileSystemChangeType.Changed\n",
    "        \"file_2.txt\", nameof FileSystemChangeType.Renamed\n",
    "        \"file_2.txt\", nameof FileSystemChangeType.Deleted\n",
    "    ]\n",
    "    |> _sequenceEqual eventList\n",
    "\n",
    "    [\n",
    "        \"file1.txt\", nameof FileSystemChangeType.Changed\n",
    "        \"file2.txt\", nameof FileSystemChangeType.Changed\n",
    "        \"file_1.txt\", nameof FileSystemChangeType.Deleted\n",
    "        \"file_2.txt\", nameof FileSystemChangeType.Deleted\n",
    "    ]\n",
    "    |> Map.ofList\n",
    "    |> _sequenceEqual eventMap\n",
    "\n",
    "run\n",
    "|> retryFn 3\n",
    "|> _assertEqual (Some ())"
   ]
  }
 ],
 "metadata": {},
 "nbformat": 4,
 "nbformat_minor": 5
}