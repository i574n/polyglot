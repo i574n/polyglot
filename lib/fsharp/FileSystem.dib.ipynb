{
 "cells": [
  {
   "cell_type": "markdown",
   "metadata": {},
   "source": [
    "# FileSystem (Polyglot)"
   ]
  },
  {
   "cell_type": "code",
   "execution_count": null,
   "metadata": {
    "dotnet_interactive": {
     "language": "fsharp"
    },
    "polyglot_notebook": {
     "kernelName": "fsharp"
    }
   },
   "outputs": [],
   "source": [
    "#!import ../../lib/fsharp/Notebooks.dib\n",
    "#!import ../../lib/fsharp/Testing.dib"
   ]
  },
  {
   "cell_type": "code",
   "execution_count": null,
   "metadata": {
    "dotnet_interactive": {
     "language": "fsharp"
    },
    "polyglot_notebook": {
     "kernelName": "fsharp"
    }
   },
   "outputs": [],
   "source": [
    "#r @\"../../../../../../../.nuget/packages/fsharp.control.asyncseq/3.2.1/lib/netstandard2.1/FSharp.Control.AsyncSeq.dll\"\n",
    "#r @\"../../../../../../../.nuget/packages/system.reactive/6.0.1-preview.1/lib/net6.0/System.Reactive.dll\"\n",
    "#r @\"../../../../../../../.nuget/packages/system.reactive.linq/6.0.1-preview.1/lib/netstandard2.0/System.Reactive.Linq.dll\"\n",
    "#r @\"../../../../../../../.nuget/packages/argu/6.1.5/lib/netstandard2.0/Argu.dll\"\n",
    "#r @\"../../../../../../../.nuget/packages/system.commandline/2.0.0-beta4.22272.1/lib/net6.0/System.CommandLine.dll\""
   ]
  },
  {
   "cell_type": "code",
   "execution_count": null,
   "metadata": {
    "dotnet_interactive": {
     "language": "fsharp"
    },
    "polyglot_notebook": {
     "kernelName": "fsharp"
    }
   },
   "outputs": [],
   "source": [
    "#!import ../../lib/fsharp/Common.fs\n",
    "#!import ../../lib/fsharp/CommonFSharp.fs\n",
    "#!import ../../lib/fsharp/Async.fs\n",
    "#!import ../../lib/fsharp/AsyncSeq.fs\n",
    "#!import ../../lib/fsharp/Runtime.fs"
   ]
  },
  {
   "cell_type": "code",
   "execution_count": null,
   "metadata": {
    "dotnet_interactive": {
     "language": "fsharp"
    },
    "polyglot_notebook": {
     "kernelName": "fsharp"
    }
   },
   "outputs": [],
   "source": [
    "open Common"
   ]
  },
  {
   "cell_type": "markdown",
   "metadata": {},
   "source": [
    "## Operators"
   ]
  },
  {
   "cell_type": "code",
   "execution_count": null,
   "metadata": {
    "dotnet_interactive": {
     "language": "fsharp"
    },
    "polyglot_notebook": {
     "kernelName": "fsharp"
    }
   },
   "outputs": [],
   "source": [
    "module Operators =\n",
    "    let inline (</>) a b =\n",
    "        System.IO.Path.Combine (a, b)"
   ]
  },
  {
   "cell_type": "code",
   "execution_count": null,
   "metadata": {
    "dotnet_interactive": {
     "language": "fsharp"
    },
    "polyglot_notebook": {
     "kernelName": "fsharp"
    }
   },
   "outputs": [],
   "source": [
    "open Operators"
   ]
  },
  {
   "cell_type": "markdown",
   "metadata": {},
   "source": [
    "## createTempDirectoryName"
   ]
  },
  {
   "cell_type": "code",
   "execution_count": null,
   "metadata": {
    "dotnet_interactive": {
     "language": "fsharp"
    },
    "polyglot_notebook": {
     "kernelName": "fsharp"
    }
   },
   "outputs": [],
   "source": [
    "let inline createTempDirectoryName () =\n",
    "    let root = System.Reflection.Assembly.GetEntryAssembly().GetName().Name\n",
    "\n",
    "    System.IO.Path.GetTempPath ()\n",
    "    </> $\"!{root}\"\n",
    "    </> string (newGuidFromDateTime System.DateTime.Now)"
   ]
  },
  {
   "cell_type": "code",
   "execution_count": null,
   "metadata": {
    "dotnet_interactive": {
     "language": "fsharp"
    },
    "polyglot_notebook": {
     "kernelName": "fsharp"
    }
   },
   "outputs": [
    {
     "name": "stdout",
     "output_type": "stream",
     "text": [
      "/tmp/!dotnet-repl/20240215-2354-3462-6230-60a8959fddf0\n"
     ]
    }
   ],
   "source": [
    "//// test\n",
    "\n",
    "createTempDirectoryName ()\n",
    "|> _contains System.IO.Path.DirectorySeparatorChar"
   ]
  },
  {
   "cell_type": "markdown",
   "metadata": {},
   "source": [
    "## createTempDirectory"
   ]
  },
  {
   "cell_type": "code",
   "execution_count": null,
   "metadata": {
    "dotnet_interactive": {
     "language": "fsharp"
    },
    "polyglot_notebook": {
     "kernelName": "fsharp"
    }
   },
   "outputs": [],
   "source": [
    "let inline createTempDirectory () =\n",
    "    let tempFolder = createTempDirectoryName ()\n",
    "    let result = System.IO.Directory.CreateDirectory tempFolder\n",
    "\n",
    "    if not result.Exists then\n",
    "        let getLocals () =\n",
    "            $\"tempFolder: {tempFolder} / result: {({|\n",
    "                Exists = result.Exists\n",
    "                CreationTime = result.CreationTime\n",
    "            |})} {getLocals ()}\"\n",
    "\n",
    "        trace Debug (fun () -> \"createTempDirectory\") getLocals\n",
    "\n",
    "    tempFolder"
   ]
  },
  {
   "cell_type": "code",
   "execution_count": null,
   "metadata": {
    "dotnet_interactive": {
     "language": "fsharp"
    },
    "polyglot_notebook": {
     "kernelName": "fsharp"
    }
   },
   "outputs": [
    {
     "name": "stdout",
     "output_type": "stream",
     "text": [
      "True\n"
     ]
    }
   ],
   "source": [
    "//// test\n",
    "\n",
    "let tempDirectory = createTempDirectory ()\n",
    "\n",
    "Directory.Exists tempDirectory\n",
    "|> _equal true"
   ]
  },
  {
   "cell_type": "markdown",
   "metadata": {},
   "source": [
    "## getSourceDirectory"
   ]
  },
  {
   "cell_type": "code",
   "execution_count": null,
   "metadata": {
    "dotnet_interactive": {
     "language": "fsharp"
    },
    "polyglot_notebook": {
     "kernelName": "fsharp"
    }
   },
   "outputs": [],
   "source": [
    "let getSourceDirectory =\n",
    "    fun () -> __SOURCE_DIRECTORY__\n",
    "    |> memoize"
   ]
  },
  {
   "cell_type": "code",
   "execution_count": null,
   "metadata": {
    "dotnet_interactive": {
     "language": "fsharp"
    },
    "polyglot_notebook": {
     "kernelName": "fsharp"
    }
   },
   "outputs": [
    {
     "name": "stdout",
     "output_type": "stream",
     "text": [
      "fsharp\n"
     ]
    }
   ],
   "source": [
    "//// test\n",
    "\n",
    "getSourceDirectory ()\n",
    "|> System.IO.DirectoryInfo\n",
    "|> fun dir -> dir.Name\n",
    "|> _equal \"fsharp\""
   ]
  },
  {
   "cell_type": "markdown",
   "metadata": {},
   "source": [
    "## findParent"
   ]
  },
  {
   "cell_type": "code",
   "execution_count": null,
   "metadata": {
    "dotnet_interactive": {
     "language": "fsharp"
    },
    "polyglot_notebook": {
     "kernelName": "fsharp"
    }
   },
   "outputs": [],
   "source": [
    "let inline findParent name isFile rootDir =\n",
    "    let rec loop dir =\n",
    "        if dir </> name |> (if isFile then System.IO.File.Exists else System.IO.Directory.Exists)\n",
    "        then dir\n",
    "        else\n",
    "            dir\n",
    "            |> System.IO.Directory.GetParent\n",
    "            |> function\n",
    "                | null -> failwith $\"\"\"No parent for {if isFile then \"file\" else \"dir\"} '{name}' at '{rootDir}'\"\"\"\n",
    "                | parent -> parent.FullName |> loop\n",
    "    loop rootDir"
   ]
  },
  {
   "cell_type": "code",
   "execution_count": null,
   "metadata": {
    "dotnet_interactive": {
     "language": "fsharp"
    },
    "polyglot_notebook": {
     "kernelName": "fsharp"
    }
   },
   "outputs": [
    {
     "name": "stdout",
     "output_type": "stream",
     "text": [
      "polyglot\n"
     ]
    }
   ],
   "source": [
    "//// test\n",
    "\n",
    "getSourceDirectory () |> findParent \".paket\" false\n",
    "|> System.IO.DirectoryInfo\n",
    "|> fun dir -> dir.Name\n",
    "|> _equal \"polyglot\""
   ]
  },
  {
   "cell_type": "code",
   "execution_count": null,
   "metadata": {
    "dotnet_interactive": {
     "language": "fsharp"
    },
    "polyglot_notebook": {
     "kernelName": "fsharp"
    }
   },
   "outputs": [
    {
     "name": "stdout",
     "output_type": "stream",
     "text": [
      "polyglot\n"
     ]
    }
   ],
   "source": [
    "//// test\n",
    "\n",
    "getSourceDirectory () |> findParent \"paket.dependencies\" true\n",
    "|> System.IO.DirectoryInfo\n",
    "|> fun dir -> dir.Name\n",
    "|> _equal \"polyglot\""
   ]
  },
  {
   "cell_type": "markdown",
   "metadata": {},
   "source": [
    "## readAllTextAsync"
   ]
  },
  {
   "cell_type": "code",
   "execution_count": null,
   "metadata": {
    "dotnet_interactive": {
     "language": "fsharp"
    },
    "polyglot_notebook": {
     "kernelName": "fsharp"
    }
   },
   "outputs": [],
   "source": [
    "let inline readAllTextAsync path =\n",
    "    path |> System.IO.File.ReadAllTextAsync |> Async.AwaitTask"
   ]
  },
  {
   "cell_type": "markdown",
   "metadata": {},
   "source": [
    "## fileExistsContent"
   ]
  },
  {
   "cell_type": "code",
   "execution_count": null,
   "metadata": {
    "dotnet_interactive": {
     "language": "fsharp"
    },
    "polyglot_notebook": {
     "kernelName": "fsharp"
    }
   },
   "outputs": [],
   "source": [
    "let inline fileExistsContent path content = async {\n",
    "    if path |> System.IO.File.Exists |> not\n",
    "    then return false\n",
    "    else\n",
    "        let! existingContent = path |> readAllTextAsync\n",
    "        return content = existingContent\n",
    "}"
   ]
  },
  {
   "cell_type": "markdown",
   "metadata": {},
   "source": [
    "## writeAllTextAsync"
   ]
  },
  {
   "cell_type": "code",
   "execution_count": null,
   "metadata": {
    "dotnet_interactive": {
     "language": "fsharp"
    },
    "polyglot_notebook": {
     "kernelName": "fsharp"
    }
   },
   "outputs": [],
   "source": [
    "let inline writeAllTextAsync path contents =\n",
    "    System.IO.File.WriteAllTextAsync (path, contents) |> Async.AwaitTask"
   ]
  },
  {
   "cell_type": "markdown",
   "metadata": {},
   "source": [
    "## writeAllTextExists"
   ]
  },
  {
   "cell_type": "code",
   "execution_count": null,
   "metadata": {
    "dotnet_interactive": {
     "language": "fsharp"
    },
    "polyglot_notebook": {
     "kernelName": "fsharp"
    }
   },
   "outputs": [],
   "source": [
    "let inline writeAllTextExists path contents = async {\n",
    "    let! exists = contents |> fileExistsContent path\n",
    "    if not exists\n",
    "    then do! contents |> writeAllTextAsync path\n",
    "}"
   ]
  },
  {
   "cell_type": "markdown",
   "metadata": {},
   "source": [
    "## waitForFileAccess"
   ]
  },
  {
   "cell_type": "code",
   "execution_count": null,
   "metadata": {
    "dotnet_interactive": {
     "language": "fsharp"
    },
    "polyglot_notebook": {
     "kernelName": "fsharp"
    }
   },
   "outputs": [],
   "source": [
    "let inline waitForFileAccess access path =\n",
    "    let fileAccess, fileShare =\n",
    "        access\n",
    "        |> Option.defaultValue (System.IO.FileAccess.ReadWrite, System.IO.FileShare.Read)\n",
    "\n",
    "    let rec loop retry = async {\n",
    "        try\n",
    "            use _ = new System.IO.FileStream (\n",
    "                path,\n",
    "                System.IO.FileMode.Open,\n",
    "                fileAccess,\n",
    "                fileShare\n",
    "            )\n",
    "            return retry\n",
    "        with ex ->\n",
    "            if retry % 100 = 0 then\n",
    "                let getLocals () = $\"path: {path |> System.IO.Path.GetFileName} / ex: {ex |> printException} / {getLocals ()}\"\n",
    "                trace Debug (fun () -> \"waitForFileAccess\") getLocals\n",
    "            do! Async.Sleep 10\n",
    "            return! loop (retry + 1)\n",
    "    }\n",
    "    loop 0"
   ]
  },
  {
   "cell_type": "code",
   "execution_count": null,
   "metadata": {
    "dotnet_interactive": {
     "language": "fsharp"
    },
    "polyglot_notebook": {
     "kernelName": "fsharp"
    }
   },
   "outputs": [
    {
     "name": "stdout",
     "output_type": "stream",
     "text": [
      "00:00:00 #1 [Debug] 1\n",
      "00:00:00 #2 [Debug] 2\n",
      "00:00:00 #3 [Debug] _1\n",
      "00:00:00 #4 [Debug] 3\n",
      "00:00:00 #5 [Debug] _2\n",
      "00:00:00 #6 [Debug] 4\n",
      "00:00:00 #7 [Debug] waitForFileAccess / path: test.txt / ex: System.IO.IOException: The process cannot access the file '/tmp/!dotnet-repl/20240215-2354-3516-1694-13c59fa56ed9/test.txt' because it is being used by another process.\n",
      "00:00:01 #8 [Debug] waitForFileAccess / path: test.txt / ex: System.IO.IOException: The process cannot access the file '/tmp/!dotnet-repl/20240215-2354-3516-1694-13c59fa56ed9/test.txt' because it is being used by another process.\n",
      "00:00:02 #9 [Debug] _3\n",
      "00:00:02 #10 [Debug] _4\n",
      "00:00:02 #11 [Debug] _5\n",
      "00:00:02 #12 [Debug] _6\n",
      "00:00:02 #13 [Debug] 5\n",
      "00:00:02 #14 [Debug] 6\n",
      "00:00:02 #15 [Debug] 7\n",
      "167\n",
      "167\n",
      "167\n",
      "1\n",
      "True\n"
     ]
    }
   ],
   "source": [
    "//// test\n",
    "\n",
    "let tempFolder = createTempDirectory ()\n",
    "let path = tempFolder </> \"test.txt\"\n",
    "\n",
    "let inline lockFile () = async {\n",
    "    trace Debug (fun () -> \"_1\") getLocals\n",
    "    use stream = new System.IO.FileStream (\n",
    "        path,\n",
    "        System.IO.FileMode.Open,\n",
    "        System.IO.FileAccess.ReadWrite,\n",
    "        System.IO.FileShare.None\n",
    "    )\n",
    "    trace Debug (fun () -> \"_2\") getLocals\n",
    "    do! Async.Sleep 2000\n",
    "    trace Debug (fun () -> \"_3\") getLocals\n",
    "    stream.Seek (0L, SeekOrigin.Begin) |> ignore\n",
    "    trace Debug (fun () -> \"_4\") getLocals\n",
    "    stream.WriteByte 49uy\n",
    "    trace Debug (fun () -> \"_5\") getLocals\n",
    "    stream.Flush ()\n",
    "    trace Debug (fun () -> \"_6\") getLocals\n",
    "}\n",
    "\n",
    "async {\n",
    "    trace Debug (fun () -> \"1\") getLocals\n",
    "    do! \"0\" |> writeAllTextAsync path\n",
    "    trace Debug (fun () -> \"2\") getLocals\n",
    "    let! child = lockFile () |> Async.StartChild\n",
    "    trace Debug (fun () -> \"3\") getLocals\n",
    "    do! Async.Sleep 1\n",
    "    trace Debug (fun () -> \"4\") getLocals\n",
    "    let! retries = path |> waitForFileAccess None\n",
    "    trace Debug (fun () -> \"5\") getLocals\n",
    "    let! text = path |> readAllTextAsync\n",
    "    trace Debug (fun () -> \"6\") getLocals\n",
    "    do! child\n",
    "    trace Debug (fun () -> \"7\") getLocals\n",
    "    return retries, text\n",
    "}\n",
    "|> Async.runWithTimeout 3000\n",
    "|> function\n",
    "    | Some (retries, text) ->\n",
    "        retries\n",
    "        |> _isBetween\n",
    "            (if Runtime.isWindows () then 100 else 100)\n",
    "            (if Runtime.isWindows () then 150 else 200)\n",
    "        \n",
    "        text |> _equal \"1\"\n",
    "        \n",
    "        true\n",
    "    | _ -> false\n",
    "|> _equal true"
   ]
  },
  {
   "cell_type": "markdown",
   "metadata": {},
   "source": [
    "## readAllTextRetryAsync"
   ]
  },
  {
   "cell_type": "code",
   "execution_count": null,
   "metadata": {
    "dotnet_interactive": {
     "language": "fsharp"
    },
    "polyglot_notebook": {
     "kernelName": "fsharp"
    }
   },
   "outputs": [],
   "source": [
    "let inline readAllTextRetryAsync fullPath =\n",
    "    let rec loop retry = async {\n",
    "        try\n",
    "            if retry > 0\n",
    "            then do!\n",
    "                fullPath\n",
    "                |> waitForFileAccess (Some (\n",
    "                    System.IO.FileAccess.Read,\n",
    "                    System.IO.FileShare.Read\n",
    "                ))\n",
    "                |> Async.runWithTimeoutAsync 1000\n",
    "                |> Async.Ignore\n",
    "            return! fullPath |> readAllTextAsync |> Async.map Some\n",
    "        with ex ->\n",
    "            let getLocals () = $\"retry: {retry} / ex: {ex |> printException} / {getLocals ()}\"\n",
    "            trace Debug (fun () -> $\"watchWithFilter / readContent\") getLocals\n",
    "            if retry = 0\n",
    "            then return! loop (retry + 1)\n",
    "            else return None\n",
    "    }\n",
    "    loop 0"
   ]
  },
  {
   "cell_type": "markdown",
   "metadata": {},
   "source": [
    "## deleteDirectoryAsync"
   ]
  },
  {
   "cell_type": "code",
   "execution_count": null,
   "metadata": {
    "dotnet_interactive": {
     "language": "fsharp"
    },
    "polyglot_notebook": {
     "kernelName": "fsharp"
    }
   },
   "outputs": [],
   "source": [
    "let inline deleteDirectoryAsync path =\n",
    "    let rec loop retry = async {\n",
    "        try\n",
    "            System.IO.Directory.Delete (path, true)\n",
    "            return retry\n",
    "        with ex ->\n",
    "            if retry % 100 = 0 then\n",
    "                let getLocals () = $\"path: {path |> System.IO.Path.GetFileName} / ex: {ex |> printException} / {getLocals ()}\"\n",
    "                trace Debug (fun () -> \"deleteDirectoryAsync\") getLocals\n",
    "            do! Async.Sleep 10\n",
    "            return! loop (retry + 1)\n",
    "    }\n",
    "    loop 0"
   ]
  },
  {
   "cell_type": "code",
   "execution_count": null,
   "metadata": {
    "dotnet_interactive": {
     "language": "fsharp"
    },
    "polyglot_notebook": {
     "kernelName": "fsharp"
    }
   },
   "outputs": [
    {
     "name": "stdout",
     "output_type": "stream",
     "text": [
      "00:00:02 #16 [Debug] 1\n",
      "00:00:02 #17 [Debug] 2\n",
      "00:00:02 #18 [Debug] 3\n",
      "00:00:02 #19 [Debug] _1\n",
      "00:00:02 #20 [Debug] _2\n",
      "00:00:02 #21 [Debug] 4\n",
      "00:00:02 #22 [Debug] 5\n",
      "00:00:04 #23 [Debug] _3\n",
      "00:00:04 #24 [Debug] 6\n",
      "0\n",
      "0\n",
      "0\n",
      "True\n"
     ]
    }
   ],
   "source": [
    "//// test\n",
    "\n",
    "let tempFolder = createTempDirectory ()\n",
    "let path = tempFolder </> \"test\"\n",
    "\n",
    "let inline lockDirectory () = async {\n",
    "    trace Debug (fun () -> \"_1\") getLocals\n",
    "    System.IO.File.WriteAllText (path </> \"test.txt\", \"0\")\n",
    "    use _ = new System.IO.FileStream (\n",
    "        path </> \"test.txt\",\n",
    "        System.IO.FileMode.Open,\n",
    "        System.IO.FileAccess.ReadWrite,\n",
    "        System.IO.FileShare.None\n",
    "    )\n",
    "    trace Debug (fun () -> \"_2\") getLocals\n",
    "    do! Async.Sleep 2000\n",
    "    trace Debug (fun () -> \"_3\") getLocals\n",
    "}\n",
    "\n",
    "async {\n",
    "    trace Debug (fun () -> \"1\") getLocals\n",
    "    Directory.CreateDirectory path |> ignore\n",
    "    trace Debug (fun () -> \"2\") getLocals\n",
    "    let! child = lockDirectory () |> Async.StartChild\n",
    "    trace Debug (fun () -> \"3\") getLocals\n",
    "    do! Async.Sleep 60\n",
    "    trace Debug (fun () -> \"4\") getLocals\n",
    "    let! retries = deleteDirectoryAsync path\n",
    "    trace Debug (fun () -> \"5\") getLocals\n",
    "    do! child\n",
    "    trace Debug (fun () -> \"6\") getLocals\n",
    "    return retries\n",
    "}\n",
    "|> Async.runWithTimeout 3000\n",
    "|> function\n",
    "    | Some retries ->\n",
    "        retries\n",
    "        |> _isBetween\n",
    "            (if Runtime.isWindows () then 100 else 0)\n",
    "            (if Runtime.isWindows () then 150 else 0)\n",
    "\n",
    "        true\n",
    "    | _ -> false\n",
    "|> _equal true"
   ]
  },
  {
   "cell_type": "markdown",
   "metadata": {},
   "source": [
    "## deleteFileAsync"
   ]
  },
  {
   "cell_type": "code",
   "execution_count": null,
   "metadata": {
    "dotnet_interactive": {
     "language": "fsharp"
    },
    "polyglot_notebook": {
     "kernelName": "fsharp"
    }
   },
   "outputs": [],
   "source": [
    "let inline deleteFileAsync path =\n",
    "    let rec loop retry = async {\n",
    "        try\n",
    "            System.IO.File.Delete path\n",
    "            return retry\n",
    "        with ex ->\n",
    "            if retry % 100 = 0 then\n",
    "                let getLocals () = $\"path: {path |> System.IO.Path.GetFileName} / ex: {ex |> printException} / {getLocals ()}\"\n",
    "                trace Warning (fun () -> \"deleteFileAsync\") getLocals\n",
    "            do! Async.Sleep 10\n",
    "            return! loop (retry + 1)\n",
    "    }\n",
    "    loop 0"
   ]
  },
  {
   "cell_type": "code",
   "execution_count": null,
   "metadata": {
    "dotnet_interactive": {
     "language": "fsharp"
    },
    "polyglot_notebook": {
     "kernelName": "fsharp"
    }
   },
   "outputs": [
    {
     "name": "stdout",
     "output_type": "stream",
     "text": [
      "00:00:04 #25 [Debug] 1\n",
      "00:00:04 #26 [Debug] 2\n",
      "00:00:04 #27 [Debug] 3\n",
      "00:00:04 #28 [Debug] _1\n",
      "00:00:04 #29 [Debug] _2\n",
      "00:00:04 #30 [Debug] 4\n",
      "00:00:04 #31 [Debug] 5\n",
      "00:00:06 #32 [Debug] _3\n",
      "00:00:06 #33 [Debug] 6\n",
      "0\n",
      "0\n",
      "0\n",
      "True\n"
     ]
    }
   ],
   "source": [
    "//// test\n",
    "\n",
    "let tempFolder = createTempDirectory ()\n",
    "let path = tempFolder </> \"test.txt\"\n",
    "\n",
    "let inline lockFile () = async {\n",
    "    trace Debug (fun () -> \"_1\") getLocals\n",
    "    use _ = new System.IO.FileStream (\n",
    "        path,\n",
    "        System.IO.FileMode.Open,\n",
    "        System.IO.FileAccess.ReadWrite,\n",
    "        System.IO.FileShare.None\n",
    "    )\n",
    "    trace Debug (fun () -> \"_2\") getLocals\n",
    "    do! Async.Sleep 2000\n",
    "    trace Debug (fun () -> \"_3\") getLocals\n",
    "}\n",
    "\n",
    "async {\n",
    "    trace Debug (fun () -> \"1\") getLocals\n",
    "    do! \"0\" |> writeAllTextAsync path\n",
    "    trace Debug (fun () -> \"2\") getLocals\n",
    "    let! child = lockFile () |> Async.StartChild\n",
    "    trace Debug (fun () -> \"3\") getLocals\n",
    "    do! Async.Sleep 1\n",
    "    trace Debug (fun () -> \"4\") getLocals\n",
    "    let! retries = deleteFileAsync path\n",
    "    trace Debug (fun () -> \"5\") getLocals\n",
    "    do! child\n",
    "    trace Debug (fun () -> \"6\") getLocals\n",
    "    return retries\n",
    "}\n",
    "|> Async.runWithTimeout 3000\n",
    "|> function\n",
    "    | Some retries ->\n",
    "        retries\n",
    "        |> _isBetween\n",
    "            (if Runtime.isWindows () then 100 else 0)\n",
    "            (if Runtime.isWindows () then 150 else 0)\n",
    "\n",
    "        true\n",
    "    | _ -> false\n",
    "|> _equal true"
   ]
  },
  {
   "cell_type": "markdown",
   "metadata": {},
   "source": [
    "## moveFileAsync"
   ]
  },
  {
   "cell_type": "code",
   "execution_count": null,
   "metadata": {
    "dotnet_interactive": {
     "language": "fsharp"
    },
    "polyglot_notebook": {
     "kernelName": "fsharp"
    }
   },
   "outputs": [],
   "source": [
    "let inline moveFileAsync newPath oldPath =\n",
    "    let rec loop retry = async {\n",
    "        try\n",
    "            System.IO.File.Move (oldPath, newPath)\n",
    "            return retry\n",
    "        with ex ->\n",
    "            if retry % 100 = 0 then\n",
    "                let getLocals () =\n",
    "                    $\"oldPath: {oldPath |> System.IO.Path.GetFileName} / newPath: {newPath |> System.IO.Path.GetFileName} / ex: {ex |> printException} / {getLocals ()}\"\n",
    "                trace Warning (fun () -> \"moveFileAsync\") getLocals\n",
    "            do! Async.Sleep 10\n",
    "            return! loop (retry + 1)\n",
    "    }\n",
    "    loop 0"
   ]
  },
  {
   "cell_type": "code",
   "execution_count": null,
   "metadata": {
    "dotnet_interactive": {
     "language": "fsharp"
    },
    "polyglot_notebook": {
     "kernelName": "fsharp"
    }
   },
   "outputs": [
    {
     "name": "stdout",
     "output_type": "stream",
     "text": [
      "00:00:06 #34 [Debug] 1\n",
      "00:00:06 #35 [Debug] 2\n",
      "00:00:06 #36 [Debug] 3\n",
      "00:00:06 #37 [Debug] _1\n",
      "00:00:06 #38 [Debug] _2\n",
      "00:00:06 #39 [Debug] 4\n",
      "00:00:06 #40 [Debug] 5\n",
      "00:00:06 #41 [Debug] waitForFileAccess / path: test2.txt / ex: System.IO.IOException: The process cannot access the file '/tmp/!dotnet-repl/20240215-2354-4203-0334-0525c5f55c1c/test2.txt' because it is being used by another process.\n",
      "00:00:08 #42 [Debug] waitForFileAccess / path: test2.txt / ex: System.IO.IOException: The process cannot access the file '/tmp/!dotnet-repl/20240215-2354-4203-0334-0525c5f55c1c/test2.txt' because it is being used by another process.\n",
      "00:00:08 #43 [Debug] _3\n",
      "00:00:08 #44 [Debug] 6\n",
      "00:00:08 #45 [Debug] 7\n",
      "00:00:08 #46 [Debug] 8\n",
      "0\n",
      "0\n",
      "0\n",
      "167\n",
      "167\n",
      "167\n",
      "0\n",
      "True\n"
     ]
    }
   ],
   "source": [
    "//// test\n",
    "\n",
    "let tempFolder = createTempDirectory ()\n",
    "let path = tempFolder </> \"test.txt\"\n",
    "let newPath = tempFolder </> \"test2.txt\"\n",
    "\n",
    "let inline lockFile () = async {\n",
    "    trace Debug (fun () -> \"_1\") getLocals\n",
    "    use _ = new System.IO.FileStream (\n",
    "        path,\n",
    "        System.IO.FileMode.Open,\n",
    "        System.IO.FileAccess.ReadWrite,\n",
    "        System.IO.FileShare.None\n",
    "    )\n",
    "    trace Debug (fun () -> \"_2\") getLocals\n",
    "    do! Async.Sleep 2000\n",
    "    trace Debug (fun () -> \"_3\") getLocals\n",
    "}\n",
    "\n",
    "async {\n",
    "    trace Debug (fun () -> \"1\") getLocals\n",
    "    do! \"0\" |> writeAllTextAsync path\n",
    "    trace Debug (fun () -> \"2\") getLocals\n",
    "    let! child = lockFile () |> Async.StartChild\n",
    "    trace Debug (fun () -> \"3\") getLocals\n",
    "    do! Async.Sleep 1\n",
    "    trace Debug (fun () -> \"4\") getLocals\n",
    "    let! retries1 = path |> moveFileAsync newPath\n",
    "    trace Debug (fun () -> \"5\") getLocals\n",
    "    let! retries2 = newPath |> waitForFileAccess None\n",
    "    trace Debug (fun () -> \"6\") getLocals\n",
    "    let! text = newPath |> readAllTextAsync\n",
    "    trace Debug (fun () -> \"7\") getLocals\n",
    "    do! child\n",
    "    trace Debug (fun () -> \"8\") getLocals\n",
    "    return retries1, retries2, text\n",
    "}\n",
    "|> Async.runWithTimeout 3000\n",
    "|> function\n",
    "    | Some (retries1, retries2, text) ->\n",
    "        retries1\n",
    "        |> _isBetween\n",
    "            (if Runtime.isWindows () then 100 else 0)\n",
    "            (if Runtime.isWindows () then 150 else 0)\n",
    "\n",
    "        retries2\n",
    "        |> _isBetween\n",
    "            (if Runtime.isWindows () then 0 else 100)\n",
    "            (if Runtime.isWindows () then 0 else 200)\n",
    "        \n",
    "        text |> _equal \"0\"\n",
    "        \n",
    "        true\n",
    "    | _ -> false\n",
    "|> _equal true"
   ]
  },
  {
   "cell_type": "markdown",
   "metadata": {},
   "source": [
    "## watchDirectory"
   ]
  },
  {
   "cell_type": "code",
   "execution_count": null,
   "metadata": {
    "dotnet_interactive": {
     "language": "fsharp"
    },
    "polyglot_notebook": {
     "kernelName": "fsharp"
    }
   },
   "outputs": [],
   "source": [
    "[<RequireQualifiedAccess>]\n",
    "type FileSystemChangeType =\n",
    "    | Failure\n",
    "    | Changed\n",
    "    | Created\n",
    "    | Deleted\n",
    "    | Renamed\n",
    "\n",
    "[<RequireQualifiedAccess>]\n",
    "type FileSystemChange =\n",
    "    | Failure of exn: exn\n",
    "    | Changed of path: string * content: string option\n",
    "    | Created of path: string * content: string option\n",
    "    | Deleted of path: string\n",
    "    | Renamed of oldPath: string * (string * string option)\n",
    "\n",
    "\n",
    "let inline watchDirectoryWithFilter filter shouldReadContent path =\n",
    "    let fullPath = path |> System.IO.Path.GetFullPath\n",
    "    let getLocals () = $\"filter: {filter} / {getLocals ()}\"\n",
    "\n",
    "    let watcher =\n",
    "        new System.IO.FileSystemWatcher (\n",
    "            Path = fullPath,\n",
    "            NotifyFilter = filter,\n",
    "            EnableRaisingEvents = true,\n",
    "            IncludeSubdirectories = true\n",
    "        )\n",
    "\n",
    "    let inline getEventPath (path : string) =\n",
    "        path |> String.trim |> String.replace fullPath \"\" |> String.trimStart [| '/'; '\\\\' |]\n",
    "\n",
    "    let inline ticks () =\n",
    "        System.DateTime.UtcNow.Ticks\n",
    "\n",
    "    let changedStream =\n",
    "        AsyncSeq.subscribeEvent\n",
    "            watcher.Changed\n",
    "            (fun event ->\n",
    "                ticks (),\n",
    "                [ FileSystemChange.Changed (getEventPath event.FullPath, None) ]\n",
    "            )\n",
    "\n",
    "    let deletedStream =\n",
    "        AsyncSeq.subscribeEvent\n",
    "            watcher.Deleted\n",
    "            (fun event ->\n",
    "                ticks (),\n",
    "                [ FileSystemChange.Deleted (getEventPath event.FullPath) ]\n",
    "            )\n",
    "\n",
    "    let createdStream =\n",
    "        AsyncSeq.subscribeEvent\n",
    "            watcher.Created\n",
    "            (fun event ->\n",
    "                let path = getEventPath event.FullPath\n",
    "                ticks (), [\n",
    "                    FileSystemChange.Created (path, None)\n",
    "                    if Runtime.isWindows () then\n",
    "                        FileSystemChange.Changed (path, None)\n",
    "                ])\n",
    "\n",
    "    let renamedStream =\n",
    "        AsyncSeq.subscribeEvent\n",
    "            watcher.Renamed\n",
    "            (fun event ->\n",
    "                ticks (), [\n",
    "                    FileSystemChange.Renamed (\n",
    "                        getEventPath event.OldFullPath,\n",
    "                        (getEventPath event.FullPath, None)\n",
    "                    )\n",
    "                ]\n",
    "            )\n",
    "\n",
    "    let failureStream =\n",
    "        AsyncSeq.subscribeEvent\n",
    "            watcher.Error\n",
    "            (fun event -> ticks (), [ FileSystemChange.Failure (event.GetException ()) ])\n",
    "\n",
    "    let stream =\n",
    "        [\n",
    "            changedStream\n",
    "            deletedStream\n",
    "            createdStream\n",
    "            renamedStream\n",
    "            failureStream\n",
    "        ]\n",
    "        |> FSharp.Control.AsyncSeq.mergeAll\n",
    "        |> FSharp.Control.AsyncSeq.map (fun (t, events) ->\n",
    "            events\n",
    "            |> List.fold\n",
    "                (fun (i, events) event ->\n",
    "                    i + 1L,\n",
    "                    (t + i, event) :: events)\n",
    "                (0L, [])\n",
    "            |> snd\n",
    "            |> List.rev\n",
    "        )\n",
    "        |> FSharp.Control.AsyncSeq.concatSeq\n",
    "        |> FSharp.Control.AsyncSeq.mapAsyncParallel (fun (t, event) -> async {\n",
    "            match shouldReadContent event, event with\n",
    "            | true, FileSystemChange.Changed (path, _) ->\n",
    "                do! Async.Sleep 5\n",
    "                let! content = fullPath </> path |> readAllTextRetryAsync\n",
    "                return t, FileSystemChange.Changed (path, content)\n",
    "            | true, FileSystemChange.Created (path, _) ->\n",
    "                do! Async.Sleep 5\n",
    "                let! content = fullPath </> path |> readAllTextRetryAsync\n",
    "                return t, FileSystemChange.Created (path, content)\n",
    "            | true, FileSystemChange.Renamed (oldPath, (newPath, _)) ->\n",
    "                let! content = fullPath </> newPath |> readAllTextRetryAsync\n",
    "                return t, FileSystemChange.Renamed (oldPath, (newPath, content))\n",
    "            | _ -> return t, event\n",
    "        })\n",
    "\n",
    "    let disposable =\n",
    "        newDisposable (fun () ->\n",
    "            trace Debug (fun () -> \"watchWithFilter / Disposing watch stream\") getLocals\n",
    "            watcher.EnableRaisingEvents <- false\n",
    "            watcher.Dispose ()\n",
    "        )\n",
    "\n",
    "    stream, disposable\n",
    "\n",
    "let inline watchDirectory path =\n",
    "    watchDirectoryWithFilter\n",
    "        (System.IO.NotifyFilters.FileName\n",
    "        // ||| System.IO.NotifyFilters.DirectoryName\n",
    "        // ||| System.IO.NotifyFilters.Attributes\n",
    "        //// ||| System.IO.NotifyFilters.Size\n",
    "        ||| System.IO.NotifyFilters.LastWrite\n",
    "        //// ||| System.IO.NotifyFilters.LastAccess\n",
    "        // ||| System.IO.NotifyFilters.CreationTime\n",
    "        // ||| System.IO.NotifyFilters.Security\n",
    "        )\n",
    "        path"
   ]
  },
  {
   "cell_type": "markdown",
   "metadata": {},
   "source": [
    "### testEventsRaw (test)"
   ]
  },
  {
   "cell_type": "code",
   "execution_count": null,
   "metadata": {
    "dotnet_interactive": {
     "language": "fsharp"
    },
    "polyglot_notebook": {
     "kernelName": "fsharp"
    }
   },
   "outputs": [],
   "source": [
    "//// test\n",
    "\n",
    "let inline testEventsRaw\n",
    "    (watchFn : (_ -> bool) -> string -> FSharp.Control.AsyncSeq<int64 * FileSystemChange> * IDisposable)\n",
    "    write\n",
    "    =\n",
    "    let tempDirectory = createTempDirectory ()\n",
    "    let stream, disposable = watchFn (fun _ -> true) tempDirectory\n",
    "\n",
    "    let events = System.Collections.Concurrent.ConcurrentBag ()\n",
    "\n",
    "    let inline iter () =\n",
    "        stream\n",
    "        |> FSharp.Control.AsyncSeq.iterAsyncParallel (fun event -> async { events.Add event })\n",
    "\n",
    "    let run = async {\n",
    "        let! _ = iter () |> Async.StartChild\n",
    "        do! Async.Sleep 250\n",
    "        return! write tempDirectory\n",
    "    }\n",
    "\n",
    "    try\n",
    "        run\n",
    "        |> Async.runWithTimeout 60000\n",
    "        |> _equal (Some ())\n",
    "    finally\n",
    "        disposable.Dispose ()\n",
    "        deleteDirectoryAsync tempDirectory |> Async.Ignore |> Async.RunSynchronously\n",
    "\n",
    "    let eventsLog =\n",
    "        events\n",
    "        |> Seq.toList\n",
    "        |> List.sortBy fst\n",
    "        |> List.fold\n",
    "            (fun (prev, acc) (ticks, event) ->\n",
    "                ticks, (ticks, (if prev = 0L then 0L else ticks - prev), event) :: acc\n",
    "            )\n",
    "            (0L, [])\n",
    "        |> snd\n",
    "        |> List.rev\n",
    "        |> List.map (fun (diff, n, event) ->\n",
    "            let text = $\"{n} / {diff} / {event}\"\n",
    "            if text |> String.length <= 100\n",
    "            then text\n",
    "            else text |> String.substring 0 100 |> String.replace \"\\n\" \"\"\n",
    "        )\n",
    "        |> String.concat \"\\n\"\n",
    "    let getLocals () = $\"eventsLog: \\n{eventsLog} / {getLocals ()}\"\n",
    "    trace Debug (fun () -> \"testEventsRaw\") getLocals\n",
    "\n",
    "    events\n",
    "    |> Seq.toList\n",
    "    |> List.sortBy fst\n",
    "    |> List.map snd\n",
    "    |> List.fold\n",
    "        (fun acc event ->\n",
    "            match acc, event with\n",
    "            | FileSystemChange.Changed (lastPath, Some lastContent) as lastEvent :: acc,\n",
    "                FileSystemChange.Changed (path, Some content)\n",
    "                when lastPath = path && content |> String.startsWith lastContent\n",
    "                ->\n",
    "                event :: acc\n",
    "            | _ -> event :: acc\n",
    "        )\n",
    "        []\n",
    "    |> List.rev"
   ]
  },
  {
   "cell_type": "markdown",
   "metadata": {},
   "source": [
    "#### fast (test)"
   ]
  },
  {
   "cell_type": "code",
   "execution_count": null,
   "metadata": {
    "dotnet_interactive": {
     "language": "fsharp"
    },
    "polyglot_notebook": {
     "kernelName": "fsharp"
    }
   },
   "outputs": [
    {
     "name": "stdout",
     "output_type": "stream",
     "text": [
      "FSharpOption<Unit>\n",
      "      Value: <null>\n",
      "00:00:13 #47 [Debug] watchWithFilter / Disposing watch stream / filter: FileName, LastWrite\n",
      "00:00:13 #48 [Debug] testEventsRaw / eventsLog: \n",
      "0 / 638436380871540856 / Created (\"file1.txt\", Some \"a1\")\n",
      "12685 / 638436380871553541 / Changed (\"file1.txt\", Some \"a1\")\n",
      "2122 / 638436380871555663 / Created (\"file2.txt\", Some \"a2\")\n",
      "44 / 638436380871555707 / Changed (\"file2.txt\", Some \"a2\")\n",
      "2522117 / 638436380874077824 / Changed (\"file1.txt\", Some \"b1\")\n",
      "287 / 638436380874078111 / Changed (\"file1.txt\", Some \"b1\")\n",
      "4680 / 638436380874082791 / Changed (\"file2.txt\", Some \"b2\")\n",
      "467 / 638436380874083258 / Changed (\"file2.txt\", Some \"b2\")\n",
      "2509036 / 638436380876592294 / Renamed (\"file1.txt\", (\"file_1.txt\", Some \"b1\"))\n",
      "1149 / 638436380876593443 / Renamed (\"file2.txt\", (\"file_2.txt\", Some \"b2\"))\n",
      "2501950 / 638436380879095393 / Changed (\"file_1.txt\", Some \"c1\")\n",
      "738 / 638436380879096131 / Changed (\"file_1.txt\", Some \"c1\")\n",
      "5214 / 638436380879101345 / Changed (\"file_2.txt\", Some \"c2\")\n",
      "337 / 638436380879101682 / Changed (\"file_2.txt\", Some \"c2\")\n",
      "2544883 / 638436380881646565 / Deleted \"file_1.txt\"\n",
      "1069 / 638436380881647634 / Deleted \"file_2.txt\"\n",
      "FSharpList<FileSystemChange>\n",
      "      - path: file1.txt\n",
      "        content: FSharpOption<String>\n",
      "          Value: a1\n",
      "      - path: file1.txt\n",
      "        content: FSharpOption<String>\n",
      "          Value: a1\n",
      "      - path: file2.txt\n",
      "        content: FSharpOption<String>\n",
      "          Value: a2\n",
      "      - path: file2.txt\n",
      "        content: FSharpOption<String>\n",
      "          Value: a2\n",
      "      - path: file1.txt\n",
      "        content: FSharpOption<String>\n",
      "          Value: b1\n",
      "      - path: file2.txt\n",
      "        content: FSharpOption<String>\n",
      "          Value: b2\n",
      "      - oldPath: file1.txt\n",
      "        Item2:         - file_1.txt\n",
      "        - FSharpOption<String>\n",
      "            Value: b1\n",
      "      - oldPath: file2.txt\n",
      "        Item2:         - file_2.txt\n",
      "        - FSharpOption<String>\n",
      "            Value: b2\n",
      "      - path: file_1.txt\n",
      "        content: FSharpOption<String>\n",
      "          Value: c1\n",
      "      - path: file_2.txt\n",
      "        content: FSharpOption<String>\n",
      "          Value: c2\n",
      "      - path: file_1.txt\n",
      "      - path: file_2.txt\n",
      "FSharpOption<Unit>\n",
      "      Value: <null>\n"
     ]
    }
   ],
   "source": [
    "//// test\n",
    "\n",
    "let inline write path = async {\n",
    "    let n = 2\n",
    "\n",
    "    for i = 1 to n do\n",
    "        do! $\"a{i}\" |> writeAllTextAsync (path </> $\"file{i}.txt\")\n",
    "\n",
    "    do! Async.Sleep 250\n",
    "\n",
    "    for i = 1 to n do\n",
    "        do! $\"b{i}\" |> writeAllTextAsync (path </> $\"file{i}.txt\")\n",
    "\n",
    "    do! Async.Sleep 250\n",
    "\n",
    "    for i = 1 to n do\n",
    "        do! path </> $\"file{i}.txt\" |> moveFileAsync (path </> $\"file_{i}.txt\") |> Async.Ignore\n",
    "\n",
    "    do! Async.Sleep 250\n",
    "\n",
    "    for i = 1 to n do\n",
    "        do! $\"c{i}\" |> writeAllTextAsync (path </> $\"file_{i}.txt\")\n",
    "\n",
    "    do! Async.Sleep 250\n",
    "\n",
    "    for i = 1 to n do\n",
    "        do! deleteFileAsync (path </> $\"file_{i}.txt\") |> Async.Ignore\n",
    "\n",
    "    do! Async.Sleep 250\n",
    "}\n",
    "\n",
    "let inline run () =\n",
    "    let events = testEventsRaw watchDirectory write\n",
    "\n",
    "    events\n",
    "    |> _sequenceEqual [\n",
    "        FileSystemChange.Created (\"file1.txt\", Some \"a1\")\n",
    "        FileSystemChange.Changed (\"file1.txt\", Some \"a1\")\n",
    "        FileSystemChange.Created (\"file2.txt\", Some \"a2\")\n",
    "        FileSystemChange.Changed (\"file2.txt\", Some \"a2\")\n",
    "\n",
    "        FileSystemChange.Changed (\"file1.txt\", Some \"b1\")\n",
    "        FileSystemChange.Changed (\"file2.txt\", Some \"b2\")\n",
    "\n",
    "        FileSystemChange.Renamed (\"file1.txt\", (\"file_1.txt\", Some \"b1\"))\n",
    "        FileSystemChange.Renamed (\"file2.txt\", (\"file_2.txt\", Some \"b2\"))\n",
    "\n",
    "        FileSystemChange.Changed (\"file_1.txt\", Some \"c1\")\n",
    "        FileSystemChange.Changed (\"file_2.txt\", Some \"c2\")\n",
    "\n",
    "        FileSystemChange.Deleted \"file_1.txt\"\n",
    "        FileSystemChange.Deleted \"file_2.txt\"\n",
    "    ]\n",
    "\n",
    "run\n",
    "|> retryFn 3\n",
    "|> _equal (Some ())"
   ]
  },
  {
   "cell_type": "markdown",
   "metadata": {},
   "source": [
    "#### slow (test)"
   ]
  },
  {
   "cell_type": "code",
   "execution_count": null,
   "metadata": {
    "dotnet_interactive": {
     "language": "fsharp"
    },
    "polyglot_notebook": {
     "kernelName": "fsharp"
    }
   },
   "outputs": [
    {
     "name": "stdout",
     "output_type": "stream",
     "text": [
      "FSharpOption<Unit>\n",
      "      Value: <null>\n",
      "00:00:23 #49 [Debug] watchWithFilter / Disposing watch stream / filter: FileName, LastWrite\n",
      "00:00:26 #50 [Debug] testEventsRaw / eventsLog: \n",
      "0 / 638436380910075975 / Created  (\"file1.txt\",   Some     \"1111111111111111111111111111111111111\n",
      "2299 / 638436380910078274 / Changed  (\"file1.txt\",   Some     \"1111111111111111111111111111111111\n",
      "128 / 638436380910078402 / Changed  (\"file1.txt\",   Some     \"11111111111111111111111111111111111\n",
      "52 / 638436380910078454 / Changed  (\"file1.txt\",   Some     \"111111111111111111111111111111111111\n",
      "252 / 638436380910078706 / Changed  (\"file1.txt\",   Some     \"11111111111111111111111111111111111\n",
      "288 / 638436380910078994 / Changed  (\"file1.txt\",   Some     \"11111111111111111111111111111111111\n",
      "312 / 638436380910079306 / Changed  (\"file1.txt\",   Some     \"11111111111111111111111111111111111\n",
      "66 / 638436380910079372 / Changed  (\"file1.txt\",   Some     \"111111111111111111111111111111111111\n",
      "255 / 638436380910079627 / Changed  (\"file1.txt\",   Some     \"11111111111111111111111111111111111\n",
      "134 / 638436380910079761 / Changed  (\"file1.txt\",   Some     \"11111111111111111111111111111111111\n",
      "388 / 638436380910080149 / Changed  (\"file1.txt\",   Some     \"11111111111111111111111111111111111\n",
      "254 / 638436380910080403 / Changed  (\"file1.txt\",   Some     \"11111111111111111111111111111111111\n",
      "194 / 638436380910080597 / Changed  (\"file1.txt\",   Some     \"11111111111111111111111111111111111\n",
      "201 / 638436380910080798 / Changed  (\"file1.txt\",   Some     \"11111111111111111111111111111111111\n",
      "171 / 638436380910080969 / Changed  (\"file1.txt\",   Some     \"11111111111111111111111111111111111\n",
      "320 / 638436380910081289 / Changed  (\"file1.txt\",   Some     \"11111111111111111111111111111111111\n",
      "158 / 638436380910081447 / Changed  (\"file1.txt\",   Some     \"11111111111111111111111111111111111\n",
      "327 / 638436380910081774 / Changed  (\"file1.txt\",   Some     \"11111111111111111111111111111111111\n",
      "98 / 638436380910081872 / Changed  (\"file1.txt\",   Some     \"111111111111111111111111111111111111\n",
      "268 / 638436380910082140 / Changed  (\"file1.txt\",   Some     \"11111111111111111111111111111111111\n",
      "163 / 638436380910082303 / Changed  (\"file1.txt\",   Some     \"11111111111111111111111111111111111\n",
      "274 / 638436380910082577 / Changed  (\"file1.txt\",   Some     \"11111111111111111111111111111111111\n",
      "262 / 638436380910082839 / Changed  (\"file1.txt\",   Some     \"11111111111111111111111111111111111\n",
      "44 / 638436380910082883 / Changed  (\"file1.txt\",   Some     \"111111111111111111111111111111111111\n",
      "375 / 638436380910083258 / Changed  (\"file1.txt\",   Some     \"11111111111111111111111111111111111\n",
      "35 / 638436380910083293 / Changed  (\"file1.txt\",   Some     \"111111111111111111111111111111111111\n",
      "424 / 638436380910083717 / Changed  (\"file1.txt\",   Some     \"11111111111111111111111111111111111\n",
      "103 / 638436380910083820 / Changed  (\"file1.txt\",   Some     \"11111111111111111111111111111111111\n",
      "228 / 638436380910084048 / Changed  (\"file1.txt\",   Some     \"11111111111111111111111111111111111\n",
      "82 / 638436380910084130 / Changed  (\"file1.txt\",   Some     \"111111111111111111111111111111111111\n",
      "222 / 638436380910084352 / Changed  (\"file1.txt\",   Some     \"11111111111111111111111111111111111\n",
      "169 / 638436380910084521 / Changed  (\"file1.txt\",   Some     \"11111111111111111111111111111111111\n",
      "175 / 638436380910084696 / Changed  (\"file1.txt\",   Some     \"11111111111111111111111111111111111\n",
      "138 / 638436380910084834 / Changed  (\"file1.txt\",   Some     \"11111111111111111111111111111111111\n",
      "285 / 638436380910085119 / Changed  (\"file1.txt\",   Some     \"11111111111111111111111111111111111\n",
      "49 / 638436380910085168 / Changed  (\"file1.txt\",   Some     \"111111111111111111111111111111111111\n",
      "393 / 638436380910085561 / Changed  (\"file1.txt\",   Some     \"11111111111111111111111111111111111\n",
      "491 / 638436380910086052 / Changed  (\"file1.txt\",   Some     \"11111111111111111111111111111111111\n",
      "270 / 638436380910086322 / Changed  (\"file1.txt\",   Some     \"11111111111111111111111111111111111\n",
      "236 / 638436380910086558 / Changed  (\"file1.txt\",   Some     \"11111111111111111111111111111111111\n",
      "202 / 638436380910086760 / Changed  (\"file1.txt\",   Some     \"11111111111111111111111111111111111\n",
      "191 / 638436380910086951 / Changed  (\"file1.txt\",   Some     \"11111111111111111111111111111111111\n",
      "226 / 638436380910087177 / Changed  (\"file1.txt\",   Some     \"11111111111111111111111111111111111\n",
      "207 / 638436380910087384 / Changed  (\"file1.txt\",   Some     \"11111111111111111111111111111111111\n",
      "309 / 638436380910087693 / Changed  (\"file1.txt\",   Some     \"11111111111111111111111111111111111\n",
      "293 / 638436380910087986 / Changed  (\"file1.txt\",   Some     \"11111111111111111111111111111111111\n",
      "219 / 638436380910088205 / Changed  (\"file1.txt\",   Some     \"11111111111111111111111111111111111\n",
      "294 / 638436380910088499 / Changed  (\"file1.txt\",   Some     \"11111111111111111111111111111111111\n",
      "255 / 638436380910088754 / Changed  (\"file1.txt\",   Some     \"11111111111111111111111111111111111\n",
      "165 / 638436380910088919 / Changed  (\"file1.txt\",   Some     \"11111111111111111111111111111111111\n",
      "157 / 638436380910089076 / Changed  (\"file1.txt\",   Some     \"11111111111111111111111111111111111\n",
      "194 / 638436380910089270 / Changed  (\"file1.txt\",   Some     \"11111111111111111111111111111111111\n",
      "299 / 638436380910089569 / Changed  (\"file1.txt\",   Some     \"11111111111111111111111111111111111\n",
      "309 / 638436380910089878 / Changed  (\"file1.txt\",   Some     \"11111111111111111111111111111111111\n",
      "364 / 638436380910090242 / Changed  (\"file1.txt\",   Some     \"11111111111111111111111111111111111\n",
      "283 / 638436380910090525 / Changed  (\"file1.txt\",   Some     \"11111111111111111111111111111111111\n",
      "241 / 638436380910090766 / Changed  (\"file1.txt\",   Some     \"11111111111111111111111111111111111\n",
      "194 / 638436380910090960 / Changed  (\"file1.txt\",   Some     \"11111111111111111111111111111111111\n",
      "260 / 638436380910091220 / Changed  (\"file1.txt\",   Some     \"11111111111111111111111111111111111\n",
      "119 / 638436380910091339 / Changed  (\"file1.txt\",   Some     \"11111111111111111111111111111111111\n",
      "329 / 638436380910091668 / Changed  (\"file1.txt\",   Some     \"11111111111111111111111111111111111\n",
      "310 / 638436380910091978 / Changed  (\"file1.txt\",   Some     \"11111111111111111111111111111111111\n",
      "840 / 638436380910092818 / Changed  (\"file1.txt\",   Some     \"11111111111111111111111111111111111\n",
      "206 / 638436380910093024 / Changed  (\"file1.txt\",   Some     \"11111111111111111111111111111111111\n",
      "1784 / 638436380910094808 / Changed  (\"file1.txt\",   Some     \"1111111111111111111111111111111111\n",
      "89 / 638436380910094897 / Changed  (\"file1.txt\",   Some     \"111111111111111111111111111111111111\n",
      "319 / 638436380910095216 / Changed  (\"file1.txt\",   Some     \"11111111111111111111111111111111111\n",
      "113 / 638436380910095329 / Changed  (\"file1.txt\",   Some     \"11111111111111111111111111111111111\n",
      "244 / 638436380910095573 / Changed  (\"file1.txt\",   Some     \"11111111111111111111111111111111111\n",
      "180 / 638436380910095753 / Changed  (\"file1.txt\",   Some     \"11111111111111111111111111111111111\n",
      "242 / 638436380910095995 / Changed  (\"file1.txt\",   Some     \"11111111111111111111111111111111111\n",
      "203 / 638436380910096198 / Changed  (\"file1.txt\",   Some     \"11111111111111111111111111111111111\n",
      "218 / 638436380910096416 / Changed  (\"file1.txt\",   Some     \"11111111111111111111111111111111111\n",
      "168 / 638436380910096584 / Changed  (\"file1.txt\",   Some     \"11111111111111111111111111111111111\n",
      "235 / 638436380910096819 / Changed  (\"file1.txt\",   Some     \"11111111111111111111111111111111111\n",
      "177 / 638436380910096996 / Changed  (\"file1.txt\",   Some     \"11111111111111111111111111111111111\n",
      "234 / 638436380910097230 / Changed  (\"file1.txt\",   Some     \"11111111111111111111111111111111111\n",
      "216 / 638436380910097446 / Changed  (\"file1.txt\",   Some     \"11111111111111111111111111111111111\n",
      "216 / 638436380910097662 / Changed  (\"file1.txt\",   Some     \"11111111111111111111111111111111111\n",
      "186 / 638436380910097848 / Changed  (\"file1.txt\",   Some     \"11111111111111111111111111111111111\n",
      "221 / 638436380910098069 / Changed  (\"file1.txt\",   Some     \"11111111111111111111111111111111111\n",
      "208 / 638436380910098277 / Changed  (\"file1.txt\",   Some     \"11111111111111111111111111111111111\n",
      "201 / 638436380910098478 / Changed  (\"file1.txt\",   Some     \"11111111111111111111111111111111111\n",
      "220 / 638436380910098698 / Changed  (\"file1.txt\",   Some     \"11111111111111111111111111111111111\n",
      "38 / 638436380910098736 / Changed  (\"file1.txt\",   Some     \"111111111111111111111111111111111111\n",
      "193 / 638436380910098929 / Changed  (\"file1.txt\",   Some     \"11111111111111111111111111111111111\n",
      "159 / 638436380910099088 / Changed  (\"file1.txt\",   Some     \"11111111111111111111111111111111111\n",
      "152 / 638436380910099240 / Changed  (\"file1.txt\",   Some     \"11111111111111111111111111111111111\n",
      "161 / 638436380910099401 / Changed  (\"file1.txt\",   Some     \"11111111111111111111111111111111111\n",
      "154 / 638436380910099555 / Changed  (\"file1.txt\",   Some     \"11111111111111111111111111111111111\n",
      "156 / 638436380910099711 / Changed  (\"file1.txt\",   Some     \"11111111111111111111111111111111111\n",
      "99 / 638436380910099810 / Changed  (\"file1.txt\",   Some     \"111111111111111111111111111111111111\n",
      "30493 / 638436380910130303 / Created  (\"file2.txt\",   Some     \"222222222222222222222222222222222\n",
      "156 / 638436380910130459 / Changed  (\"file2.txt\",   Some     \"22222222222222222222222222222222222\n",
      "40 / 638436380910130499 / Changed  (\"file2.txt\",   Some     \"222222222222222222222222222222222222\n",
      "435 / 638436380910130934 / Changed  (\"file2.txt\",   Some     \"22222222222222222222222222222222222\n",
      "52 / 638436380910130986 / Changed  (\"file2.txt\",   Some     \"222222222222222222222222222222222222\n",
      "200 / 638436380910131186 / Changed  (\"file2.txt\",   Some     \"22222222222222222222222222222222222\n",
      "43 / 638436380910131229 / Changed  (\"file2.txt\",   Some     \"222222222222222222222222222222222222\n",
      "2659 / 638436380910133888 / Changed  (\"file2.txt\",   Some     \"2222222222222222222222222222222222\n",
      "71 / 638436380910133959 / Changed  (\"file2.txt\",   Some     \"222222222222222222222222222222222222\n",
      "163 / 638436380910134122 / Changed  (\"file2.txt\",   Some     \"22222222222222222222222222222222222\n",
      "122 / 638436380910134244 / Changed  (\"file2.txt\",   Some     \"22222222222222222222222222222222222\n",
      "698 / 638436380910134942 / Changed  (\"file2.txt\",   Some     \"22222222222222222222222222222222222\n",
      "144 / 638436380910135086 / Changed  (\"file2.txt\",   Some     \"22222222222222222222222222222222222\n",
      "189 / 638436380910135275 / Changed  (\"file2.txt\",   Some     \"22222222222222222222222222222222222\n",
      "780 / 638436380910136055 / Changed  (\"file2.txt\",   Some     \"22222222222222222222222222222222222\n",
      "62 / 638436380910136117 / Changed  (\"file2.txt\",   Some     \"222222222222222222222222222222222222\n",
      "33 / 638436380910136150 / Changed  (\"file2.txt\",   Some     \"222222222222222222222222222222222222\n",
      "687 / 638436380910136837 / Changed  (\"file2.txt\",   Some     \"22222222222222222222222222222222222\n",
      "57 / 638436380910136894 / Changed  (\"file2.txt\",   Some     \"222222222222222222222222222222222222\n",
      "194 / 638436380910137088 / Changed  (\"file2.txt\",   Some     \"22222222222222222222222222222222222\n",
      "592 / 638436380910137680 / Changed  (\"file2.txt\",   Some     \"22222222222222222222222222222222222\n",
      "30 / 638436380910137710 / Changed  (\"file2.txt\",   Some     \"222222222222222222222222222222222222\n",
      "134 / 638436380910137844 / Changed  (\"file2.txt\",   Some     \"22222222222222222222222222222222222\n",
      "580 / 638436380910138424 / Changed  (\"file2.txt\",   Some     \"22222222222222222222222222222222222\n",
      "55 / 638436380910138479 / Changed  (\"file2.txt\",   Some     \"222222222222222222222222222222222222\n",
      "141 / 638436380910138620 / Changed  (\"file2.txt\",   Some     \"22222222222222222222222222222222222\n",
      "573 / 638436380910139193 / Changed  (\"file2.txt\",   Some     \"22222222222222222222222222222222222\n",
      "52 / 638436380910139245 / Changed  (\"file2.txt\",   Some     \"222222222222222222222222222222222222\n",
      "144 / 638436380910139389 / Changed  (\"file2.txt\",   Some     \"22222222222222222222222222222222222\n",
      "569 / 638436380910139958 / Changed  (\"file2.txt\",   Some     \"22222222222222222222222222222222222\n",
      "55 / 638436380910140013 / Changed  (\"file2.txt\",   Some     \"222222222222222222222222222222222222\n",
      "140 / 638436380910140153 / Changed  (\"file2.txt\",   Some     \"22222222222222222222222222222222222\n",
      "580 / 638436380910140733 / Changed  (\"file2.txt\",   Some     \"22222222222222222222222222222222222\n",
      "51 / 638436380910140784 / Changed  (\"file2.txt\",   Some     \"222222222222222222222222222222222222\n",
      "128 / 638436380910140912 / Changed  (\"file2.txt\",   Some     \"22222222222222222222222222222222222\n",
      "586 / 638436380910141498 / Changed  (\"file2.txt\",   Some     \"22222222222222222222222222222222222\n",
      "56 / 638436380910141554 / Changed  (\"file2.txt\",   Some     \"222222222222222222222222222222222222\n",
      "136 / 638436380910141690 / Changed  (\"file2.txt\",   Some     \"22222222222222222222222222222222222\n",
      "563 / 638436380910142253 / Changed  (\"file2.txt\",   Some     \"22222222222222222222222222222222222\n",
      "53 / 638436380910142306 / Changed  (\"file2.txt\",   Some     \"222222222222222222222222222222222222\n",
      "126 / 638436380910142432 / Changed  (\"file2.txt\",   Some     \"22222222222222222222222222222222222\n",
      "563 / 638436380910142995 / Changed  (\"file2.txt\",   Some     \"22222222222222222222222222222222222\n",
      "60 / 638436380910143055 / Changed  (\"file2.txt\",   Some     \"222222222222222222222222222222222222\n",
      "671 / 638436380910143726 / Changed  (\"file2.txt\",   Some     \"22222222222222222222222222222222222\n",
      "153 / 638436380910143879 / Changed  (\"file2.txt\",   Some     \"22222222222222222222222222222222222\n",
      "567 / 638436380910144446 / Changed  (\"file2.txt\",   Some     \"22222222222222222222222222222222222\n",
      "54 / 638436380910144500 / Changed  (\"file2.txt\",   Some     \"222222222222222222222222222222222222\n",
      "129 / 638436380910144629 / Changed  (\"file2.txt\",   Some     \"22222222222222222222222222222222222\n",
      "575 / 638436380910145204 / Changed  (\"file2.txt\",   Some     \"22222222222222222222222222222222222\n",
      "52 / 638436380910145256 / Changed  (\"file2.txt\",   Some     \"222222222222222222222222222222222222\n",
      "129 / 638436380910145385 / Changed  (\"file2.txt\",   Some     \"22222222222222222222222222222222222\n",
      "612 / 638436380910145997 / Changed  (\"file2.txt\",   Some     \"22222222222222222222222222222222222\n",
      "53 / 638436380910146050 / Changed  (\"file2.txt\",   Some     \"222222222222222222222222222222222222\n",
      "132 / 638436380910146182 / Changed  (\"file2.txt\",   Some     \"22222222222222222222222222222222222\n",
      "580 / 638436380910146762 / Changed  (\"file2.txt\",   Some     \"22222222222222222222222222222222222\n",
      "63 / 638436380910146825 / Changed  (\"file2.txt\",   Some     \"222222222222222222222222222222222222\n",
      "152 / 638436380910146977 / Changed  (\"file2.txt\",   Some     \"22222222222222222222222222222222222\n",
      "578 / 638436380910147555 / Changed  (\"file2.txt\",   Some     \"22222222222222222222222222222222222\n",
      "15062374 / 638436380925209929 / Changed  (\"file1.txt\",   Some     \"111111111111111111111111111111\n",
      "727 / 638436380925210656 / Changed  (\"file1.txt\",   Some     \"11111111111111111111111111111111111\n",
      "1975 / 638436380925212631 / Changed  (\"file1.txt\",   Some     \"1111111111111111111111111111111111\n",
      "85 / 638436380925212716 / Changed  (\"file1.txt\",   Some     \"111111111111111111111111111111111111\n",
      "237 / 638436380925212953 / Changed  (\"file1.txt\",   Some     \"11111111111111111111111111111111111\n",
      "227 / 638436380925213180 / Changed  (\"file1.txt\",   Some     \"11111111111111111111111111111111111\n",
      "327 / 638436380925213507 / Changed  (\"file1.txt\",   Some     \"11111111111111111111111111111111111\n",
      "196 / 638436380925213703 / Changed  (\"file1.txt\",   Some     \"11111111111111111111111111111111111\n",
      "49 / 638436380925213752 / Changed  (\"file1.txt\",   Some     \"111111111111111111111111111111111111\n",
      "297 / 638436380925214049 / Changed  (\"file1.txt\",   Some     \"11111111111111111111111111111111111\n",
      "47 / 638436380925214096 / Changed  (\"file1.txt\",   Some     \"111111111111111111111111111111111111\n",
      "394 / 638436380925214490 / Changed  (\"file1.txt\",   Some     \"11111111111111111111111111111111111\n",
      "55 / 638436380925214545 / Changed  (\"file1.txt\",   Some     \"111111111111111111111111111111111111\n",
      "216 / 638436380925214761 / Changed  (\"file1.txt\",   Some     \"11111111111111111111111111111111111\n",
      "65 / 638436380925214826 / Changed  (\"file1.txt\",   Some     \"111111111111111111111111111111111111\n",
      "176 / 638436380925215002 / Changed  (\"file1.txt\",   Some     \"11111111111111111111111111111111111\n",
      "38 / 638436380925215040 / Changed  (\"file1.txt\",   Some     \"111111111111111111111111111111111111\n",
      "180 / 638436380925215220 / Changed  (\"file1.txt\",   Some     \"11111111111111111111111111111111111\n",
      "35 / 638436380925215255 / Changed  (\"file1.txt\",   Some     \"111111111111111111111111111111111111\n",
      "286 / 638436380925215541 / Changed  (\"file1.txt\",   Some     \"11111111111111111111111111111111111\n",
      "183 / 638436380925215724 / Changed  (\"file1.txt\",   Some     \"11111111111111111111111111111111111\n",
      "98 / 638436380925215822 / Changed  (\"file1.txt\",   Some     \"111111111111111111111111111111111111\n",
      "190 / 638436380925216012 / Changed  (\"file1.txt\",   Some     \"11111111111111111111111111111111111\n",
      "40 / 638436380925216052 / Changed  (\"file1.txt\",   Some     \"111111111111111111111111111111111111\n",
      "239 / 638436380925216291 / Changed  (\"file1.txt\",   Some     \"11111111111111111111111111111111111\n",
      "44 / 638436380925216335 / Changed  (\"file1.txt\",   Some     \"111111111111111111111111111111111111\n",
      "219 / 638436380925216554 / Changed  (\"file1.txt\",   Some     \"11111111111111111111111111111111111\n",
      "210 / 638436380925216764 / Changed  (\"file1.txt\",   Some     \"11111111111111111111111111111111111\n",
      "152 / 638436380925216916 / Changed  (\"file1.txt\",   Some     \"11111111111111111111111111111111111\n",
      "274 / 638436380925217190 / Changed  (\"file1.txt\",   Some     \"11111111111111111111111111111111111\n",
      "125 / 638436380925217315 / Changed  (\"file1.txt\",   Some     \"11111111111111111111111111111111111\n",
      "270 / 638436380925217585 / Changed  (\"file1.txt\",   Some     \"11111111111111111111111111111111111\n",
      "161 / 638436380925217746 / Changed  (\"file1.txt\",   Some     \"11111111111111111111111111111111111\n",
      "92 / 638436380925217838 / Changed  (\"file1.txt\",   Some     \"111111111111111111111111111111111111\n",
      "264 / 638436380925218102 / Changed  (\"file1.txt\",   Some     \"11111111111111111111111111111111111\n",
      "44 / 638436380925218146 / Changed  (\"file1.txt\",   Some     \"111111111111111111111111111111111111\n",
      "243 / 638436380925218389 / Changed  (\"file1.txt\",   Some     \"11111111111111111111111111111111111\n",
      "159 / 638436380925218548 / Changed  (\"file1.txt\",   Some     \"11111111111111111111111111111111111\n",
      "310 / 638436380925218858 / Changed  (\"file1.txt\",   Some     \"11111111111111111111111111111111111\n",
      "277 / 638436380925219135 / Changed  (\"file1.txt\",   Some     \"11111111111111111111111111111111111\n",
      "41 / 638436380925219176 / Changed  (\"file1.txt\",   Some     \"111111111111111111111111111111111111\n",
      "299 / 638436380925219475 / Changed  (\"file1.txt\",   Some     \"11111111111111111111111111111111111\n",
      "42 / 638436380925219517 / Changed  (\"file1.txt\",   Some     \"111111111111111111111111111111111111\n",
      "241 / 638436380925219758 / Changed  (\"file1.txt\",   Some     \"11111111111111111111111111111111111\n",
      "150 / 638436380925219908 / Changed  (\"file1.txt\",   Some     \"11111111111111111111111111111111111\n",
      "159 / 638436380925220067 / Changed  (\"file1.txt\",   Some     \"11111111111111111111111111111111111\n",
      "35 / 638436380925220102 / Changed  (\"file1.txt\",   Some     \"111111111111111111111111111111111111\n",
      "362 / 638436380925220464 / Changed  (\"file1.txt\",   Some     \"11111111111111111111111111111111111\n",
      "239 / 638436380925220703 / Changed  (\"file1.txt\",   Some     \"11111111111111111111111111111111111\n",
      "40 / 638436380925220743 / Changed  (\"file1.txt\",   Some     \"111111111111111111111111111111111111\n",
      "267 / 638436380925221010 / Changed  (\"file1.txt\",   Some     \"11111111111111111111111111111111111\n",
      "42 / 638436380925221052 / Changed  (\"file1.txt\",   Some     \"111111111111111111111111111111111111\n",
      "252 / 638436380925221304 / Changed  (\"file1.txt\",   Some     \"11111111111111111111111111111111111\n",
      "194 / 638436380925221498 / Changed  (\"file1.txt\",   Some     \"11111111111111111111111111111111111\n",
      "34 / 638436380925221532 / Changed  (\"file1.txt\",   Some     \"111111111111111111111111111111111111\n",
      "274 / 638436380925221806 / Changed  (\"file1.txt\",   Some     \"11111111111111111111111111111111111\n",
      "47 / 638436380925221853 / Changed  (\"file1.txt\",   Some     \"111111111111111111111111111111111111\n",
      "155 / 638436380925222008 / Changed  (\"file1.txt\",   Some     \"11111111111111111111111111111111111\n",
      "245 / 638436380925222253 / Changed  (\"file1.txt\",   Some     \"11111111111111111111111111111111111\n",
      "40 / 638436380925222293 / Changed  (\"file1.txt\",   Some     \"111111111111111111111111111111111111\n",
      "25487 / 638436380925247780 / Changed  (\"file1.txt\",   Some     \"111111111111111111111111111111111\n",
      "115 / 638436380925247895 / Changed  (\"file1.txt\",   Some     \"11111111111111111111111111111111111\n",
      "464 / 638436380925248359 / Changed  (\"file1.txt\",   Some     \"11111111111111111111111111111111111\n",
      "315 / 638436380925248674 / Changed  (\"file1.txt\",   Some     \"11111111111111111111111111111111111\n",
      "435 / 638436380925249109 / Changed  (\"file1.txt\",   Some     \"11111111111111111111111111111111111\n",
      "135 / 638436380925249244 / Changed  (\"file1.txt\",   Some     \"11111111111111111111111111111111111\n",
      "215 / 638436380925249459 / Changed  (\"file1.txt\",   Some     \"11111111111111111111111111111111111\n",
      "198 / 638436380925249657 / Changed  (\"file1.txt\",   Some     \"11111111111111111111111111111111111\n",
      "197 / 638436380925249854 / Changed  (\"file1.txt\",   Some     \"11111111111111111111111111111111111\n",
      "219 / 638436380925250073 / Changed  (\"file1.txt\",   Some     \"11111111111111111111111111111111111\n",
      "225 / 638436380925250298 / Changed  (\"file1.txt\",   Some     \"11111111111111111111111111111111111\n",
      "210 / 638436380925250508 / Changed  (\"file1.txt\",   Some     \"11111111111111111111111111111111111\n",
      "330 / 638436380925250838 / Changed  (\"file1.txt\",   Some     \"11111111111111111111111111111111111\n",
      "221 / 638436380925251059 / Changed  (\"file1.txt\",   Some     \"11111111111111111111111111111111111\n",
      "234 / 638436380925251293 / Changed  (\"file1.txt\",   Some     \"11111111111111111111111111111111111\n",
      "197 / 638436380925251490 / Changed  (\"file1.txt\",   Some     \"11111111111111111111111111111111111\n",
      "265 / 638436380925251755 / Changed  (\"file1.txt\",   Some     \"11111111111111111111111111111111111\n",
      "230 / 638436380925251985 / Changed  (\"file1.txt\",   Some     \"11111111111111111111111111111111111\n",
      "159 / 638436380925252144 / Changed  (\"file1.txt\",   Some     \"11111111111111111111111111111111111\n",
      "200 / 638436380925252344 / Changed  (\"file1.txt\",   Some     \"11111111111111111111111111111111111\n",
      "201 / 638436380925252545 / Changed  (\"file1.txt\",   Some     \"11111111111111111111111111111111111\n",
      "320 / 638436380925252865 / Changed  (\"file1.txt\",   Some     \"11111111111111111111111111111111111\n",
      "262 / 638436380925253127 / Changed  (\"file1.txt\",   Some     \"11111111111111111111111111111111111\n",
      "236 / 638436380925253363 / Changed  (\"file1.txt\",   Some     \"11111111111111111111111111111111111\n",
      "233 / 638436380925253596 / Changed  (\"file1.txt\",   Some     \"11111111111111111111111111111111111\n",
      "227 / 638436380925253823 / Changed  (\"file1.txt\",   Some     \"11111111111111111111111111111111111\n",
      "224 / 638436380925254047 / Changed  (\"file1.txt\",   Some     \"11111111111111111111111111111111111\n",
      "638 / 638436380925254685 / Changed  (\"file1.txt\",   Some     \"11111111111111111111111111111111111\n",
      "243 / 638436380925254928 / Changed  (\"file1.txt\",   Some     \"11111111111111111111111111111111111\n",
      "197 / 638436380925255125 / Changed  (\"file1.txt\",   Some     \"11111111111111111111111111111111111\n",
      "230 / 638436380925255355 / Changed  (\"file1.txt\",   Some     \"11111111111111111111111111111111111\n",
      "200 / 638436380925255555 / Changed  (\"file1.txt\",   Some     \"11111111111111111111111111111111111\n",
      "209 / 638436380925255764 / Changed  (\"file1.txt\",   Some     \"11111111111111111111111111111111111\n",
      "187 / 638436380925255951 / Changed  (\"file1.txt\",   Some     \"11111111111111111111111111111111111\n",
      "214 / 638436380925256165 / Changed  (\"file1.txt\",   Some     \"11111111111111111111111111111111111\n",
      "190 / 638436380925256355 / Changed  (\"file1.txt\",   Some     \"11111111111111111111111111111111111\n",
      "152 / 638436380925256507 / Changed  (\"file1.txt\",   Some     \"11111111111111111111111111111111111\n",
      "190 / 638436380925256697 / Changed  (\"file1.txt\",   Some     \"11111111111111111111111111111111111\n",
      "197 / 638436380925256894 / Changed  (\"file1.txt\",   Some     \"11111111111111111111111111111111111\n",
      "208 / 638436380925257102 / Changed  (\"file1.txt\",   Some     \"11111111111111111111111111111111111\n",
      "280 / 638436380925257382 / Changed  (\"file1.txt\",   Some     \"11111111111111111111111111111111111\n",
      "224 / 638436380925257606 / Changed  (\"file1.txt\",   Some     \"11111111111111111111111111111111111\n",
      "105 / 638436380925257711 / Changed  (\"file1.txt\",   Some     \"11111111111111111111111111111111111\n",
      "200 / 638436380925257911 / Changed  (\"file1.txt\",   Some     \"11111111111111111111111111111111111\n",
      "171 / 638436380925258082 / Changed  (\"file1.txt\",   Some     \"11111111111111111111111111111111111\n",
      "242 / 638436380925258324 / Changed  (\"file1.txt\",   Some     \"11111111111111111111111111111111111\n",
      "214 / 638436380925258538 / Changed  (\"file1.txt\",   Some     \"11111111111111111111111111111111111\n",
      "202 / 638436380925258740 / Changed  (\"file1.txt\",   Some     \"11111111111111111111111111111111111\n",
      "194 / 638436380925258934 / Changed  (\"file1.txt\",   Some     \"11111111111111111111111111111111111\n",
      "262 / 638436380925259196 / Changed  (\"file1.txt\",   Some     \"11111111111111111111111111111111111\n",
      "264 / 638436380925259460 / Changed  (\"file1.txt\",   Some     \"11111111111111111111111111111111111\n",
      "211 / 638436380925259671 / Changed  (\"file1.txt\",   Some     \"11111111111111111111111111111111111\n",
      "192 / 638436380925259863 / Changed  (\"file1.txt\",   Some     \"11111111111111111111111111111111111\n",
      "147 / 638436380925260010 / Changed  (\"file1.txt\",   Some     \"11111111111111111111111111111111111\n",
      "213 / 638436380925260223 / Changed  (\"file1.txt\",   Some     \"11111111111111111111111111111111111\n",
      "159 / 638436380925260382 / Changed  (\"file1.txt\",   Some     \"11111111111111111111111111111111111\n",
      "101 / 638436380925260483 / Changed  (\"file1.txt\",   Some     \"11111111111111111111111111111111111\n",
      "192 / 638436380925260675 / Changed  (\"file1.txt\",   Some     \"11111111111111111111111111111111111\n",
      "37 / 638436380925260712 / Changed  (\"file1.txt\",   Some     \"111111111111111111111111111111111111\n",
      "34640 / 638436380925295352 / Changed  (\"file2.txt\",   Some     \"222222222222222222222222222222222\n",
      "198 / 638436380925295550 / Changed  (\"file2.txt\",   Some     \"22222222222222222222222222222222222\n",
      "473 / 638436380925296023 / Changed  (\"file2.txt\",   Some     \"22222222222222222222222222222222222\n",
      "193 / 638436380925296216 / Changed  (\"file2.txt\",   Some     \"22222222222222222222222222222222222\n",
      "184 / 638436380925296400 / Changed  (\"file2.txt\",   Some     \"22222222222222222222222222222222222\n",
      "186 / 638436380925296586 / Changed  (\"file2.txt\",   Some     \"22222222222222222222222222222222222\n",
      "152 / 638436380925296738 / Changed  (\"file2.txt\",   Some     \"22222222222222222222222222222222222\n",
      "96 / 638436380925296834 / Changed  (\"file2.txt\",   Some     \"222222222222222222222222222222222222\n",
      "226 / 638436380925297060 / Changed  (\"file2.txt\",   Some     \"22222222222222222222222222222222222\n",
      "88 / 638436380925297148 / Changed  (\"file2.txt\",   Some     \"222222222222222222222222222222222222\n",
      "215 / 638436380925297363 / Changed  (\"file2.txt\",   Some     \"22222222222222222222222222222222222\n",
      "156 / 638436380925297519 / Changed  (\"file2.txt\",   Some     \"22222222222222222222222222222222222\n",
      "151 / 638436380925297670 / Changed  (\"file2.txt\",   Some     \"22222222222222222222222222222222222\n",
      "171 / 638436380925297841 / Changed  (\"file2.txt\",   Some     \"22222222222222222222222222222222222\n",
      "161 / 638436380925298002 / Changed  (\"file2.txt\",   Some     \"22222222222222222222222222222222222\n",
      "260 / 638436380925298262 / Changed  (\"file2.txt\",   Some     \"22222222222222222222222222222222222\n",
      "210 / 638436380925298472 / Changed  (\"file2.txt\",   Some     \"22222222222222222222222222222222222\n",
      "197 / 638436380925298669 / Changed  (\"file2.txt\",   Some     \"22222222222222222222222222222222222\n",
      "191 / 638436380925298860 / Changed  (\"file2.txt\",   Some     \"22222222222222222222222222222222222\n",
      "208 / 638436380925299068 / Changed  (\"file2.txt\",   Some     \"22222222222222222222222222222222222\n",
      "186 / 638436380925299254 / Changed  (\"file2.txt\",   Some     \"22222222222222222222222222222222222\n",
      "155 / 638436380925299409 / Changed  (\"file2.txt\",   Some     \"22222222222222222222222222222222222\n",
      "208 / 638436380925299617 / Changed  (\"file2.txt\",   Some     \"22222222222222222222222222222222222\n",
      "151 / 638436380925299768 / Changed  (\"file2.txt\",   Some     \"22222222222222222222222222222222222\n",
      "244 / 638436380925300012 / Changed  (\"file2.txt\",   Some     \"22222222222222222222222222222222222\n",
      "226 / 638436380925300238 / Changed  (\"file2.txt\",   Some     \"22222222222222222222222222222222222\n",
      "42 / 638436380925300280 / Changed  (\"file2.txt\",   Some     \"222222222222222222222222222222222222\n",
      "214 / 638436380925300494 / Changed  (\"file2.txt\",   Some     \"22222222222222222222222222222222222\n",
      "140 / 638436380925300634 / Changed  (\"file2.txt\",   Some     \"22222222222222222222222222222222222\n",
      "186 / 638436380925300820 / Changed  (\"file2.txt\",   Some     \"22222222222222222222222222222222222\n",
      "202 / 638436380925301022 / Changed  (\"file2.txt\",   Some     \"22222222222222222222222222222222222\n",
      "370 / 638436380925301392 / Changed  (\"file2.txt\",   Some     \"22222222222222222222222222222222222\n",
      "24 / 638436380925301416 / Changed  (\"file2.txt\",   Some     \"222222222222222222222222222222222222\n",
      "165 / 638436380925301581 / Changed  (\"file2.txt\",   Some     \"22222222222222222222222222222222222\n",
      "311 / 638436380925301892 / Changed  (\"file2.txt\",   Some     \"22222222222222222222222222222222222\n",
      "330 / 638436380925302222 / Changed  (\"file2.txt\",   Some     \"22222222222222222222222222222222222\n",
      "178 / 638436380925302400 / Changed  (\"file2.txt\",   Some     \"22222222222222222222222222222222222\n",
      "173 / 638436380925302573 / Changed  (\"file2.txt\",   Some     \"22222222222222222222222222222222222\n",
      "132 / 638436380925302705 / Changed  (\"file2.txt\",   Some     \"22222222222222222222222222222222222\n",
      "157 / 638436380925302862 / Changed  (\"file2.txt\",   Some     \"22222222222222222222222222222222222\n",
      "202 / 638436380925303064 / Changed  (\"file2.txt\",   Some     \"22222222222222222222222222222222222\n",
      "192 / 638436380925303256 / Changed  (\"file2.txt\",   Some     \"22222222222222222222222222222222222\n",
      "157 / 638436380925303413 / Changed  (\"file2.txt\",   Some     \"22222222222222222222222222222222222\n",
      "220 / 638436380925303633 / Changed  (\"file2.txt\",   Some     \"22222222222222222222222222222222222\n",
      "162 / 638436380925303795 / Changed  (\"file2.txt\",   Some     \"22222222222222222222222222222222222\n",
      "184 / 638436380925303979 / Changed  (\"file2.txt\",   Some     \"22222222222222222222222222222222222\n",
      "186 / 638436380925304165 / Changed  (\"file2.txt\",   Some     \"22222222222222222222222222222222222\n",
      "157 / 638436380925304322 / Changed  (\"file2.txt\",   Some     \"22222222222222222222222222222222222\n",
      "187 / 638436380925304509 / Changed  (\"file2.txt\",   Some     \"22222222222222222222222222222222222\n",
      "164 / 638436380925304673 / Changed  (\"file2.txt\",   Some     \"22222222222222222222222222222222222\n",
      "228 / 638436380925304901 / Changed  (\"file2.txt\",   Some     \"22222222222222222222222222222222222\n",
      "179 / 638436380925305080 / Changed  (\"file2.txt\",   Some     \"22222222222222222222222222222222222\n",
      "169 / 638436380925305249 / Changed  (\"file2.txt\",   Some     \"22222222222222222222222222222222222\n",
      "255 / 638436380925305504 / Changed  (\"file2.txt\",   Some     \"22222222222222222222222222222222222\n",
      "99 / 638436380925305603 / Changed  (\"file2.txt\",   Some     \"222222222222222222222222222222222222\n",
      "230 / 638436380925305833 / Changed  (\"file2.txt\",   Some     \"22222222222222222222222222222222222\n",
      "163 / 638436380925305996 / Changed  (\"file2.txt\",   Some     \"22222222222222222222222222222222222\n",
      "188 / 638436380925306184 / Changed  (\"file2.txt\",   Some     \"22222222222222222222222222222222222\n",
      "209 / 638436380925306393 / Changed  (\"file2.txt\",   Some     \"22222222222222222222222222222222222\n",
      "185 / 638436380925306578 / Changed  (\"file2.txt\",   Some     \"22222222222222222222222222222222222\n",
      "159 / 638436380925306737 / Changed  (\"file2.txt\",   Some     \"22222222222222222222222222222222222\n",
      "187 / 638436380925306924 / Changed  (\"file2.txt\",   Some     \"22222222222222222222222222222222222\n",
      "184 / 638436380925307108 / Changed  (\"file2.txt\",   Some     \"22222222222222222222222222222222222\n",
      "190 / 638436380925307298 / Changed  (\"file2.txt\",   Some     \"22222222222222222222222222222222222\n",
      "185 / 638436380925307483 / Changed  (\"file2.txt\",   Some     \"22222222222222222222222222222222222\n",
      "196 / 638436380925307679 / Changed  (\"file2.txt\",   Some     \"22222222222222222222222222222222222\n",
      "188 / 638436380925307867 / Changed  (\"file2.txt\",   Some     \"22222222222222222222222222222222222\n",
      "191 / 638436380925308058 / Changed  (\"file2.txt\",   Some     \"22222222222222222222222222222222222\n",
      "195 / 638436380925308253 / Changed  (\"file2.txt\",   Some     \"22222222222222222222222222222222222\n",
      "166 / 638436380925308419 / Changed  (\"file2.txt\",   Some     \"22222222222222222222222222222222222\n",
      "159 / 638436380925308578 / Changed  (\"file2.txt\",   Some     \"22222222222222222222222222222222222\n",
      "186 / 638436380925308764 / Changed  (\"file2.txt\",   Some     \"22222222222222222222222222222222222\n",
      "104 / 638436380925308868 / Changed  (\"file2.txt\",   Some     \"22222222222222222222222222222222222\n",
      "245 / 638436380925309113 / Changed  (\"file2.txt\",   Some     \"22222222222222222222222222222222222\n",
      "194 / 638436380925309307 / Changed  (\"file2.txt\",   Some     \"22222222222222222222222222222222222\n",
      "160 / 638436380925309467 / Changed  (\"file2.txt\",   Some     \"22222222222222222222222222222222222\n",
      "170 / 638436380925309637 / Changed  (\"file2.txt\",   Some     \"22222222222222222222222222222222222\n",
      "188 / 638436380925309825 / Changed  (\"file2.txt\",   Some     \"22222222222222222222222222222222222\n",
      "165 / 638436380925309990 / Changed  (\"file2.txt\",   Some     \"22222222222222222222222222222222222\n",
      "166 / 638436380925310156 / Changed  (\"file2.txt\",   Some     \"22222222222222222222222222222222222\n",
      "279 / 638436380925310435 / Changed  (\"file2.txt\",   Some     \"22222222222222222222222222222222222\n",
      "42 / 638436380925310477 / Changed  (\"file2.txt\",   Some     \"222222222222222222222222222222222222\n",
      "221 / 638436380925310698 / Changed  (\"file2.txt\",   Some     \"22222222222222222222222222222222222\n",
      "163 / 638436380925310861 / Changed  (\"file2.txt\",   Some     \"22222222222222222222222222222222222\n",
      "206 / 638436380925311067 / Changed  (\"file2.txt\",   Some     \"22222222222222222222222222222222222\n",
      "181 / 638436380925311248 / Changed  (\"file2.txt\",   Some     \"22222222222222222222222222222222222\n",
      "188 / 638436380925311436 / Changed  (\"file2.txt\",   Some     \"22222222222222222222222222222222222\n",
      "157 / 638436380925311593 / Changed  (\"file2.txt\",   Some     \"22222222222222222222222222222222222\n",
      "223 / 638436380925311816 / Changed  (\"file2.txt\",   Some     \"22222222222222222222222222222222222\n",
      "198 / 638436380925312014 / Changed  (\"file2.txt\",   Some     \"22222222222222222222222222222222222\n",
      "158 / 638436380925312172 / Changed  (\"file2.txt\",   Some     \"22222222222222222222222222222222222\n",
      "187 / 638436380925312359 / Changed  (\"file2.txt\",   Some     \"22222222222222222222222222222222222\n",
      "159 / 638436380925312518 / Changed  (\"file2.txt\",   Some     \"22222222222222222222222222222222222\n",
      "421 / 638436380925312939 / Changed  (\"file2.txt\",   Some     \"22222222222222222222222222222222222\n",
      "44 / 638436380925312983 / Changed  (\"file2.txt\",   Some     \"222222222222222222222222222222222222\n",
      "201 / 638436380925313184 / Changed  (\"file2.txt\",   Some     \"22222222222222222222222222222222222\n",
      "172 / 638436380925313356 / Changed  (\"file2.txt\",   Some     \"22222222222222222222222222222222222\n",
      "161 / 638436380925313517 / Changed  (\"file2.txt\",   Some     \"22222222222222222222222222222222222\n",
      "200 / 638436380925313717 / Changed  (\"file2.txt\",   Some     \"22222222222222222222222222222222222\n",
      "169 / 638436380925313886 / Changed  (\"file2.txt\",   Some     \"22222222222222222222222222222222222\n",
      "185 / 638436380925314071 / Changed  (\"file2.txt\",   Some     \"22222222222222222222222222222222222\n",
      "186 / 638436380925314257 / Changed  (\"file2.txt\",   Some     \"22222222222222222222222222222222222\n",
      "193 / 638436380925314450 / Changed  (\"file2.txt\",   Some     \"22222222222222222222222222222222222\n",
      "188 / 638436380925314638 / Changed  (\"file2.txt\",   Some     \"22222222222222222222222222222222222\n",
      "183 / 638436380925314821 / Changed  (\"file2.txt\",   Some     \"22222222222222222222222222222222222\n",
      "99 / 638436380925314920 / Changed  (\"file2.txt\",   Some     \"222222222222222222222222222222222222\n",
      "232 / 638436380925315152 / Changed  (\"file2.txt\",   Some     \"22222222222222222222222222222222222\n",
      "156 / 638436380925315308 / Changed  (\"file2.txt\",   Some     \"22222222222222222222222222222222222\n",
      "166 / 638436380925315474 / Changed  (\"file2.txt\",   Some     \"22222222222222222222222222222222222\n",
      "205 / 638436380925315679 / Changed  (\"file2.txt\",   Some     \"22222222222222222222222222222222222\n",
      "189 / 638436380925315868 / Changed  (\"file2.txt\",   Some     \"22222222222222222222222222222222222\n",
      "155 / 638436380925316023 / Changed  (\"file2.txt\",   Some     \"22222222222222222222222222222222222\n",
      "197 / 638436380925316220 / Changed  (\"file2.txt\",   Some     \"22222222222222222222222222222222222\n",
      "154 / 638436380925316374 / Changed  (\"file2.txt\",   Some     \"22222222222222222222222222222222222\n",
      "165 / 638436380925316539 / Changed  (\"file2.txt\",   Some     \"22222222222222222222222222222222222\n",
      "206 / 638436380925316745 / Changed  (\"file2.txt\",   Some     \"22222222222222222222222222222222222\n",
      "197 / 638436380925316942 / Changed  (\"file2.txt\",   Some     \"22222222222222222222222222222222222\n",
      "194 / 638436380925317136 / Changed  (\"file2.txt\",   Some     \"22222222222222222222222222222222222\n",
      "155 / 638436380925317291 / Changed  (\"file2.txt\",   Some     \"22222222222222222222222222222222222\n",
      "154 / 638436380925317445 / Changed  (\"file2.txt\",   Some     \"22222222222222222222222222222222222\n",
      "169 / 638436380925317614 / Changed  (\"file2.txt\",   Some     \"22222222222222222222222222222222222\n",
      "35 / 638436380925317649 / Changed  (\"file2.txt\",   Some     \"222222222222222222222222222222222222\n",
      "15014595 / 638436380940332244 / Renamed  (\"file1.txt\",   (\"file_1.txt\",    Some      \"1111111111\n",
      "316 / 638436380940332560 / Renamed  (\"file2.txt\",   (\"file_2.txt\",    Some      \"222222222222222\n",
      "15065716 / 638436380955398276 / Changed  (\"file_1.txt\",   Some     \"11111111111111111111111111111\n",
      "200 / 638436380955398476 / Changed  (\"file_1.txt\",   Some     \"1111111111111111111111111111111111\n",
      "875 / 638436380955399351 / Changed  (\"file_1.txt\",   Some     \"1111111111111111111111111111111111\n",
      "974 / 638436380955400325 / Changed  (\"file_1.txt\",   Some     \"1111111111111111111111111111111111\n",
      "112 / 638436380955400437 / Changed  (\"file_1.txt\",   Some     \"1111111111111111111111111111111111\n",
      "405 / 638436380955400842 / Changed  (\"file_1.txt\",   Some     \"1111111111111111111111111111111111\n",
      "188 / 638436380955401030 / Changed  (\"file_1.txt\",   Some     \"1111111111111111111111111111111111\n",
      "146 / 638436380955401176 / Changed  (\"file_1.txt\",   Some     \"1111111111111111111111111111111111\n",
      "142 / 638436380955401318 / Changed  (\"file_1.txt\",   Some     \"1111111111111111111111111111111111\n",
      "204 / 638436380955401522 / Changed  (\"file_1.txt\",   Some     \"1111111111111111111111111111111111\n",
      "303 / 638436380955401825 / Changed  (\"file_1.txt\",   Some     \"1111111111111111111111111111111111\n",
      "232 / 638436380955402057 / Changed  (\"file_1.txt\",   Some     \"1111111111111111111111111111111111\n",
      "35 / 638436380955402092 / Changed  (\"file_1.txt\",   Some     \"11111111111111111111111111111111111\n",
      "277 / 638436380955402369 / Changed  (\"file_1.txt\",   Some     \"1111111111111111111111111111111111\n",
      "36 / 638436380955402405 / Changed  (\"file_1.txt\",   Some     \"11111111111111111111111111111111111\n",
      "236 / 638436380955402641 / Changed  (\"file_1.txt\",   Some     \"1111111111111111111111111111111111\n",
      "127 / 638436380955402768 / Changed  (\"file_1.txt\",   Some     \"1111111111111111111111111111111111\n",
      "224 / 638436380955402992 / Changed  (\"file_1.txt\",   Some     \"1111111111111111111111111111111111\n",
      "36 / 638436380955403028 / Changed  (\"file_1.txt\",   Some     \"11111111111111111111111111111111111\n",
      "236 / 638436380955403264 / Changed  (\"file_1.txt\",   Some     \"1111111111111111111111111111111111\n",
      "30 / 638436380955403294 / Changed  (\"file_1.txt\",   Some     \"11111111111111111111111111111111111\n",
      "268 / 638436380955403562 / Changed  (\"file_1.txt\",   Some     \"1111111111111111111111111111111111\n",
      "233 / 638436380955403795 / Changed  (\"file_1.txt\",   Some     \"1111111111111111111111111111111111\n",
      "239 / 638436380955404034 / Changed  (\"file_1.txt\",   Some     \"1111111111111111111111111111111111\n",
      "146 / 638436380955404180 / Changed  (\"file_1.txt\",   Some     \"1111111111111111111111111111111111\n",
      "294 / 638436380955404474 / Changed  (\"file_1.txt\",   Some     \"1111111111111111111111111111111111\n",
      "207 / 638436380955404681 / Changed  (\"file_1.txt\",   Some     \"1111111111111111111111111111111111\n",
      "170 / 638436380955404851 / Changed  (\"file_1.txt\",   Some     \"1111111111111111111111111111111111\n",
      "143 / 638436380955404994 / Changed  (\"file_1.txt\",   Some     \"1111111111111111111111111111111111\n",
      "214 / 638436380955405208 / Changed  (\"file_1.txt\",   Some     \"1111111111111111111111111111111111\n",
      "30 / 638436380955405238 / Changed  (\"file_1.txt\",   Some     \"11111111111111111111111111111111111\n",
      "229 / 638436380955405467 / Changed  (\"file_1.txt\",   Some     \"1111111111111111111111111111111111\n",
      "139 / 638436380955405606 / Changed  (\"file_1.txt\",   Some     \"1111111111111111111111111111111111\n",
      "136 / 638436380955405742 / Changed  (\"file_1.txt\",   Some     \"1111111111111111111111111111111111\n",
      "139 / 638436380955405881 / Changed  (\"file_1.txt\",   Some     \"1111111111111111111111111111111111\n",
      "167 / 638436380955406048 / Changed  (\"file_1.txt\",   Some     \"1111111111111111111111111111111111\n",
      "141 / 638436380955406189 / Changed  (\"file_1.txt\",   Some     \"1111111111111111111111111111111111\n",
      "207 / 638436380955406396 / Changed  (\"file_1.txt\",   Some     \"1111111111111111111111111111111111\n",
      "34 / 638436380955406430 / Changed  (\"file_1.txt\",   Some     \"11111111111111111111111111111111111\n",
      "239 / 638436380955406669 / Changed  (\"file_1.txt\",   Some     \"1111111111111111111111111111111111\n",
      "129 / 638436380955406798 / Changed  (\"file_1.txt\",   Some     \"1111111111111111111111111111111111\n",
      "120 / 638436380955406918 / Changed  (\"file_1.txt\",   Some     \"1111111111111111111111111111111111\n",
      "200 / 638436380955407118 / Changed  (\"file_1.txt\",   Some     \"1111111111111111111111111111111111\n",
      "146 / 638436380955407264 / Changed  (\"file_1.txt\",   Some     \"1111111111111111111111111111111111\n",
      "82 / 638436380955407346 / Changed  (\"file_1.txt\",   Some     \"11111111111111111111111111111111111\n",
      "223 / 638436380955407569 / Changed  (\"file_1.txt\",   Some     \"1111111111111111111111111111111111\n",
      "135 / 638436380955407704 / Changed  (\"file_1.txt\",   Some     \"1111111111111111111111111111111111\n",
      "140 / 638436380955407844 / Changed  (\"file_1.txt\",   Some     \"1111111111111111111111111111111111\n",
      "196 / 638436380955408040 / Changed  (\"file_1.txt\",   Some     \"1111111111111111111111111111111111\n",
      "40 / 638436380955408080 / Changed  (\"file_1.txt\",   Some     \"11111111111111111111111111111111111\n",
      "218 / 638436380955408298 / Changed  (\"file_1.txt\",   Some     \"1111111111111111111111111111111111\n",
      "230 / 638436380955408528 / Changed  (\"file_1.txt\",   Some     \"1111111111111111111111111111111111\n",
      "33 / 638436380955408561 / Changed  (\"file_1.txt\",   Some     \"11111111111111111111111111111111111\n",
      "204 / 638436380955408765 / Changed  (\"file_1.txt\",   Some     \"1111111111111111111111111111111111\n",
      "124 / 638436380955408889 / Changed  (\"file_1.txt\",   Some     \"1111111111111111111111111111111111\n",
      "117 / 638436380955409006 / Changed  (\"file_1.txt\",   Some     \"1111111111111111111111111111111111\n",
      "224 / 638436380955409230 / Changed  (\"file_1.txt\",   Some     \"1111111111111111111111111111111111\n",
      "36 / 638436380955409266 / Changed  (\"file_1.txt\",   Some     \"11111111111111111111111111111111111\n",
      "269 / 638436380955409535 / Changed  (\"file_1.txt\",   Some     \"1111111111111111111111111111111111\n",
      "128 / 638436380955409663 / Changed  (\"file_1.txt\",   Some     \"1111111111111111111111111111111111\n",
      "128 / 638436380955409791 / Changed  (\"file_1.txt\",   Some     \"1111111111111111111111111111111111\n",
      "134 / 638436380955409925 / Changed  (\"file_1.txt\",   Some     \"1111111111111111111111111111111111\n",
      "153 / 638436380955410078 / Changed  (\"file_1.txt\",   Some     \"1111111111111111111111111111111111\n",
      "87 / 638436380955410165 / Changed  (\"file_1.txt\",   Some     \"11111111111111111111111111111111111\n",
      "333 / 638436380955410498 / Changed  (\"file_1.txt\",   Some     \"1111111111111111111111111111111111\n",
      "257 / 638436380955410755 / Changed  (\"file_1.txt\",   Some     \"1111111111111111111111111111111111\n",
      "36 / 638436380955410791 / Changed  (\"file_1.txt\",   Some     \"11111111111111111111111111111111111\n",
      "233 / 638436380955411024 / Changed  (\"file_1.txt\",   Some     \"1111111111111111111111111111111111\n",
      "130 / 638436380955411154 / Changed  (\"file_1.txt\",   Some     \"1111111111111111111111111111111111\n",
      "138 / 638436380955411292 / Changed  (\"file_1.txt\",   Some     \"1111111111111111111111111111111111\n",
      "223 / 638436380955411515 / Changed  (\"file_1.txt\",   Some     \"1111111111111111111111111111111111\n",
      "54 / 638436380955411569 / Changed  (\"file_1.txt\",   Some     \"11111111111111111111111111111111111\n",
      "307 / 638436380955411876 / Changed  (\"file_1.txt\",   Some     \"1111111111111111111111111111111111\n",
      "126 / 638436380955412002 / Changed  (\"file_1.txt\",   Some     \"1111111111111111111111111111111111\n",
      "194 / 638436380955412196 / Changed  (\"file_1.txt\",   Some     \"1111111111111111111111111111111111\n",
      "102 / 638436380955412298 / Changed  (\"file_1.txt\",   Some     \"1111111111111111111111111111111111\n",
      "196 / 638436380955412494 / Changed  (\"file_1.txt\",   Some     \"1111111111111111111111111111111111\n",
      "132 / 638436380955412626 / Changed  (\"file_1.txt\",   Some     \"1111111111111111111111111111111111\n",
      "215 / 638436380955412841 / Changed  (\"file_1.txt\",   Some     \"1111111111111111111111111111111111\n",
      "34 / 638436380955412875 / Changed  (\"file_1.txt\",   Some     \"11111111111111111111111111111111111\n",
      "278 / 638436380955413153 / Changed  (\"file_1.txt\",   Some     \"1111111111111111111111111111111111\n",
      "84 / 638436380955413237 / Changed  (\"file_1.txt\",   Some     \"11111111111111111111111111111111111\n",
      "241 / 638436380955413478 / Changed  (\"file_1.txt\",   Some     \"1111111111111111111111111111111111\n",
      "196 / 638436380955413674 / Changed  (\"file_1.txt\",   Some     \"1111111111111111111111111111111111\n",
      "34 / 638436380955413708 / Changed  (\"file_1.txt\",   Some     \"11111111111111111111111111111111111\n",
      "220 / 638436380955413928 / Changed  (\"file_1.txt\",   Some     \"1111111111111111111111111111111111\n",
      "133 / 638436380955414061 / Changed  (\"file_1.txt\",   Some     \"1111111111111111111111111111111111\n",
      "377 / 638436380955414438 / Changed  (\"file_1.txt\",   Some     \"1111111111111111111111111111111111\n",
      "222 / 638436380955414660 / Changed  (\"file_1.txt\",   Some     \"1111111111111111111111111111111111\n",
      "32 / 638436380955414692 / Changed  (\"file_1.txt\",   Some     \"11111111111111111111111111111111111\n",
      "259 / 638436380955414951 / Changed  (\"file_1.txt\",   Some     \"1111111111111111111111111111111111\n",
      "141 / 638436380955415092 / Changed  (\"file_1.txt\",   Some     \"1111111111111111111111111111111111\n",
      "190 / 638436380955415282 / Changed  (\"file_1.txt\",   Some     \"1111111111111111111111111111111111\n",
      "32 / 638436380955415314 / Changed  (\"file_1.txt\",   Some     \"11111111111111111111111111111111111\n",
      "241 / 638436380955415555 / Changed  (\"file_1.txt\",   Some     \"1111111111111111111111111111111111\n",
      "210 / 638436380955415765 / Changed  (\"file_1.txt\",   Some     \"1111111111111111111111111111111111\n",
      "184 / 638436380955415949 / Changed  (\"file_1.txt\",   Some     \"1111111111111111111111111111111111\n",
      "32 / 638436380955415981 / Changed  (\"file_1.txt\",   Some     \"11111111111111111111111111111111111\n",
      "216 / 638436380955416197 / Changed  (\"file_1.txt\",   Some     \"1111111111111111111111111111111111\n",
      "123 / 638436380955416320 / Changed  (\"file_1.txt\",   Some     \"1111111111111111111111111111111111\n",
      "223 / 638436380955416543 / Changed  (\"file_1.txt\",   Some     \"1111111111111111111111111111111111\n",
      "157 / 638436380955416700 / Changed  (\"file_1.txt\",   Some     \"1111111111111111111111111111111111\n",
      "127 / 638436380955416827 / Changed  (\"file_1.txt\",   Some     \"1111111111111111111111111111111111\n",
      "213 / 638436380955417040 / Changed  (\"file_1.txt\",   Some     \"1111111111111111111111111111111111\n",
      "195 / 638436380955417235 / Changed  (\"file_1.txt\",   Some     \"1111111111111111111111111111111111\n",
      "32 / 638436380955417267 / Changed  (\"file_1.txt\",   Some     \"11111111111111111111111111111111111\n",
      "231 / 638436380955417498 / Changed  (\"file_1.txt\",   Some     \"1111111111111111111111111111111111\n",
      "126 / 638436380955417624 / Changed  (\"file_1.txt\",   Some     \"1111111111111111111111111111111111\n",
      "217 / 638436380955417841 / Changed  (\"file_1.txt\",   Some     \"1111111111111111111111111111111111\n",
      "31 / 638436380955417872 / Changed  (\"file_1.txt\",   Some     \"11111111111111111111111111111111111\n",
      "263 / 638436380955418135 / Changed  (\"file_1.txt\",   Some     \"1111111111111111111111111111111111\n",
      "129 / 638436380955418264 / Changed  (\"file_1.txt\",   Some     \"1111111111111111111111111111111111\n",
      "213 / 638436380955418477 / Changed  (\"file_1.txt\",   Some     \"1111111111111111111111111111111111\n",
      "98 / 638436380955418575 / Changed  (\"file_1.txt\",   Some     \"11111111111111111111111111111111111\n",
      "240 / 638436380955418815 / Changed  (\"file_1.txt\",   Some     \"1111111111111111111111111111111111\n",
      "35 / 638436380955418850 / Changed  (\"file_1.txt\",   Some     \"11111111111111111111111111111111111\n",
      "236 / 638436380955419086 / Changed  (\"file_1.txt\",   Some     \"1111111111111111111111111111111111\n",
      "227 / 638436380955419313 / Changed  (\"file_1.txt\",   Some     \"1111111111111111111111111111111111\n",
      "32 / 638436380955419345 / Changed  (\"file_1.txt\",   Some     \"11111111111111111111111111111111111\n",
      "135 / 638436380955419480 / Changed  (\"file_1.txt\",   Some     \"1111111111111111111111111111111111\n",
      "31712 / 638436380955451192 / Changed  (\"file_2.txt\",   Some     \"22222222222222222222222222222222\n",
      "166 / 638436380955451358 / Changed  (\"file_2.txt\",   Some     \"2222222222222222222222222222222222\n",
      "540 / 638436380955451898 / Changed  (\"file_2.txt\",   Some     \"2222222222222222222222222222222222\n",
      "66 / 638436380955451964 / Changed  (\"file_2.txt\",   Some     \"22222222222222222222222222222222222\n",
      "161 / 638436380955452125 / Changed  (\"file_2.txt\",   Some     \"2222222222222222222222222222222222\n",
      "85 / 638436380955452210 / Changed  (\"file_2.txt\",   Some     \"22222222222222222222222222222222222\n",
      "230 / 638436380955452440 / Changed  (\"file_2.txt\",   Some     \"2222222222222222222222222222222222\n",
      "141 / 638436380955452581 / Changed  (\"file_2.txt\",   Some     \"2222222222222222222222222222222222\n",
      "163 / 638436380955452744 / Changed  (\"file_2.txt\",   Some     \"2222222222222222222222222222222222\n",
      "38 / 638436380955452782 / Changed  (\"file_2.txt\",   Some     \"22222222222222222222222222222222222\n",
      "417 / 638436380955453199 / Changed  (\"file_2.txt\",   Some     \"2222222222222222222222222222222222\n",
      "165 / 638436380955453364 / Changed  (\"file_2.txt\",   Some     \"2222222222222222222222222222222222\n",
      "229 / 638436380955453593 / Changed  (\"file_2.txt\",   Some     \"2222222222222222222222222222222222\n",
      "17 / 638436380955453610 / Changed  (\"file_2.txt\",   Some     \"22222222222222222222222222222222222\n",
      "253 / 638436380955453863 / Changed  (\"file_2.txt\",   Some     \"2222222222222222222222222222222222\n",
      "20 / 638436380955453883 / Changed  (\"file_2.txt\",   Some     \"22222222222222222222222222222222222\n",
      "264 / 638436380955454147 / Changed  (\"file_2.txt\",   Some     \"2222222222222222222222222222222222\n",
      "42 / 638436380955454189 / Changed  (\"file_2.txt\",   Some     \"22222222222222222222222222222222222\n",
      "469 / 638436380955454658 / Changed  (\"file_2.txt\",   Some     \"2222222222222222222222222222222222\n",
      "47 / 638436380955454705 / Changed  (\"file_2.txt\",   Some     \"22222222222222222222222222222222222\n",
      "172 / 638436380955454877 / Changed  (\"file_2.txt\",   Some     \"2222222222222222222222222222222222\n",
      "397 / 638436380955455274 / Changed  (\"file_2.txt\",   Some     \"2222222222222222222222222222222222\n",
      "44 / 638436380955455318 / Changed  (\"file_2.txt\",   Some     \"22222222222222222222222222222222222\n",
      "365 / 638436380955455683 / Changed  (\"file_2.txt\",   Some     \"2222222222222222222222222222222222\n",
      "43 / 638436380955455726 / Changed  (\"file_2.txt\",   Some     \"22222222222222222222222222222222222\n",
      "262 / 638436380955455988 / Changed  (\"file_2.txt\",   Some     \"2222222222222222222222222222222222\n",
      "157 / 638436380955456145 / Changed  (\"file_2.txt\",   Some     \"2222222222222222222222222222222222\n",
      "136 / 638436380955456281 / Changed  (\"file_2.txt\",   Some     \"2222222222222222222222222222222222\n",
      "208 / 638436380955456489 / Changed  (\"file_2.txt\",   Some     \"2222222222222222222222222222222222\n",
      "133 / 638436380955456622 / Changed  (\"file_2.txt\",   Some     \"2222222222222222222222222222222222\n",
      "246 / 638436380955456868 / Changed  (\"file_2.txt\",   Some     \"2222222222222222222222222222222222\n",
      "110 / 638436380955456978 / Changed  (\"file_2.txt\",   Some     \"2222222222222222222222222222222222\n",
      "229 / 638436380955457207 / Changed  (\"file_2.txt\",   Some     \"2222222222222222222222222222222222\n",
      "124 / 638436380955457331 / Changed  (\"file_2.txt\",   Some     \"2222222222222222222222222222222222\n",
      "210 / 638436380955457541 / Changed  (\"file_2.txt\",   Some     \"2222222222222222222222222222222222\n",
      "197 / 638436380955457738 / Changed  (\"file_2.txt\",   Some     \"2222222222222222222222222222222222\n",
      "40 / 638436380955457778 / Changed  (\"file_2.txt\",   Some     \"22222222222222222222222222222222222\n",
      "312 / 638436380955458090 / Changed  (\"file_2.txt\",   Some     \"2222222222222222222222222222222222\n",
      "40 / 638436380955458130 / Changed  (\"file_2.txt\",   Some     \"22222222222222222222222222222222222\n",
      "276 / 638436380955458406 / Changed  (\"file_2.txt\",   Some     \"2222222222222222222222222222222222\n",
      "121 / 638436380955458527 / Changed  (\"file_2.txt\",   Some     \"2222222222222222222222222222222222\n",
      "231 / 638436380955458758 / Changed  (\"file_2.txt\",   Some     \"2222222222222222222222222222222222\n",
      "120 / 638436380955458878 / Changed  (\"file_2.txt\",   Some     \"2222222222222222222222222222222222\n",
      "248 / 638436380955459126 / Changed  (\"file_2.txt\",   Some     \"2222222222222222222222222222222222\n",
      "195 / 638436380955459321 / Changed  (\"file_2.txt\",   Some     \"2222222222222222222222222222222222\n",
      "39 / 638436380955459360 / Changed  (\"file_2.txt\",   Some     \"22222222222222222222222222222222222\n",
      "281 / 638436380955459641 / Changed  (\"file_2.txt\",   Some     \"2222222222222222222222222222222222\n",
      "40 / 638436380955459681 / Changed  (\"file_2.txt\",   Some     \"22222222222222222222222222222222222\n",
      "258 / 638436380955459939 / Changed  (\"file_2.txt\",   Some     \"2222222222222222222222222222222222\n",
      "204 / 638436380955460143 / Changed  (\"file_2.txt\",   Some     \"2222222222222222222222222222222222\n",
      "41 / 638436380955460184 / Changed  (\"file_2.txt\",   Some     \"22222222222222222222222222222222222\n",
      "287 / 638436380955460471 / Changed  (\"file_2.txt\",   Some     \"2222222222222222222222222222222222\n",
      "45 / 638436380955460516 / Changed  (\"file_2.txt\",   Some     \"22222222222222222222222222222222222\n",
      "257 / 638436380955460773 / Changed  (\"file_2.txt\",   Some     \"2222222222222222222222222222222222\n",
      "197 / 638436380955460970 / Changed  (\"file_2.txt\",   Some     \"2222222222222222222222222222222222\n",
      "39 / 638436380955461009 / Changed  (\"file_2.txt\",   Some     \"22222222222222222222222222222222222\n",
      "272 / 638436380955461281 / Changed  (\"file_2.txt\",   Some     \"2222222222222222222222222222222222\n",
      "116 / 638436380955461397 / Changed  (\"file_2.txt\",   Some     \"2222222222222222222222222222222222\n",
      "242 / 638436380955461639 / Changed  (\"file_2.txt\",   Some     \"2222222222222222222222222222222222\n",
      "150 / 638436380955461789 / Changed  (\"file_2.txt\",   Some     \"2222222222222222222222222222222222\n",
      "125 / 638436380955461914 / Changed  (\"file_2.txt\",   Some     \"2222222222222222222222222222222222\n",
      "229 / 638436380955462143 / Changed  (\"file_2.txt\",   Some     \"2222222222222222222222222222222222\n",
      "198 / 638436380955462341 / Changed  (\"file_2.txt\",   Some     \"2222222222222222222222222222222222\n",
      "103 / 638436380955462444 / Changed  (\"file_2.txt\",   Some     \"2222222222222222222222222222222222\n",
      "242 / 638436380955462686 / Changed  (\"file_2.txt\",   Some     \"2222222222222222222222222222222222\n",
      "109 / 638436380955462795 / Changed  (\"file_2.txt\",   Some     \"2222222222222222222222222222222222\n",
      "207 / 638436380955463002 / Changed  (\"file_2.txt\",   Some     \"2222222222222222222222222222222222\n",
      "213 / 638436380955463215 / Changed  (\"file_2.txt\",   Some     \"2222222222222222222222222222222222\n",
      "189 / 638436380955463404 / Changed  (\"file_2.txt\",   Some     \"2222222222222222222222222222222222\n",
      "191 / 638436380955463595 / Changed  (\"file_2.txt\",   Some     \"2222222222222222222222222222222222\n",
      "157 / 638436380955463752 / Changed  (\"file_2.txt\",   Some     \"2222222222222222222222222222222222\n",
      "200 / 638436380955463952 / Changed  (\"file_2.txt\",   Some     \"2222222222222222222222222222222222\n",
      "175 / 638436380955464127 / Changed  (\"file_2.txt\",   Some     \"2222222222222222222222222222222222\n",
      "105 / 638436380955464232 / Changed  (\"file_2.txt\",   Some     \"2222222222222222222222222222222222\n",
      "253 / 638436380955464485 / Changed  (\"file_2.txt\",   Some     \"2222222222222222222222222222222222\n",
      "108 / 638436380955464593 / Changed  (\"file_2.txt\",   Some     \"2222222222222222222222222222222222\n",
      "220 / 638436380955464813 / Changed  (\"file_2.txt\",   Some     \"2222222222222222222222222222222222\n",
      "205 / 638436380955465018 / Changed  (\"file_2.txt\",   Some     \"2222222222222222222222222222222222\n",
      "157 / 638436380955465175 / Changed  (\"file_2.txt\",   Some     \"2222222222222222222222222222222222\n",
      "199 / 638436380955465374 / Changed  (\"file_2.txt\",   Some     \"2222222222222222222222222222222222\n",
      "108 / 638436380955465482 / Changed  (\"file_2.txt\",   Some     \"2222222222222222222222222222222222\n",
      "212 / 638436380955465694 / Changed  (\"file_2.txt\",   Some     \"2222222222222222222222222222222222\n",
      "211 / 638436380955465905 / Changed  (\"file_2.txt\",   Some     \"2222222222222222222222222222222222\n",
      "154 / 638436380955466059 / Changed  (\"file_2.txt\",   Some     \"2222222222222222222222222222222222\n",
      "337 / 638436380955466396 / Changed  (\"file_2.txt\",   Some     \"2222222222222222222222222222222222\n",
      "210 / 638436380955466606 / Changed  (\"file_2.txt\",   Some     \"2222222222222222222222222222222222\n",
      "155 / 638436380955466761 / Changed  (\"file_2.txt\",   Some     \"2222222222222222222222222222222222\n",
      "175 / 638436380955466936 / Changed  (\"file_2.txt\",   Some     \"2222222222222222222222222222222222\n",
      "218 / 638436380955467154 / Changed  (\"file_2.txt\",   Some     \"2222222222222222222222222222222222\n",
      "173 / 638436380955467327 / Changed  (\"file_2.txt\",   Some     \"2222222222222222222222222222222222\n",
      "176 / 638436380955467503 / Changed  (\"file_2.txt\",   Some     \"2222222222222222222222222222222222\n",
      "171 / 638436380955467674 / Changed  (\"file_2.txt\",   Some     \"2222222222222222222222222222222222\n",
      "166 / 638436380955467840 / Changed  (\"file_2.txt\",   Some     \"2222222222222222222222222222222222\n",
      "190 / 638436380955468030 / Changed  (\"file_2.txt\",   Some     \"2222222222222222222222222222222222\n",
      "176 / 638436380955468206 / Changed  (\"file_2.txt\",   Some     \"2222222222222222222222222222222222\n",
      "167 / 638436380955468373 / Changed  (\"file_2.txt\",   Some     \"2222222222222222222222222222222222\n",
      "212 / 638436380955468585 / Changed  (\"file_2.txt\",   Some     \"2222222222222222222222222222222222\n",
      "171 / 638436380955468756 / Changed  (\"file_2.txt\",   Some     \"2222222222222222222222222222222222\n",
      "176 / 638436380955468932 / Changed  (\"file_2.txt\",   Some     \"2222222222222222222222222222222222\n",
      "236 / 638436380955469168 / Changed  (\"file_2.txt\",   Some     \"2222222222222222222222222222222222\n",
      "33 / 638436380955469201 / Changed  (\"file_2.txt\",   Some     \"22222222222222222222222222222222222\n",
      "235 / 638436380955469436 / Changed  (\"file_2.txt\",   Some     \"2222222222222222222222222222222222\n",
      "95 / 638436380955469531 / Changed  (\"file_2.txt\",   Some     \"22222222222222222222222222222222222\n",
      "238 / 638436380955469769 / Changed  (\"file_2.txt\",   Some     \"2222222222222222222222222222222222\n",
      "169 / 638436380955469938 / Changed  (\"file_2.txt\",   Some     \"2222222222222222222222222222222222\n",
      "163 / 638436380955470101 / Changed  (\"file_2.txt\",   Some     \"2222222222222222222222222222222222\n",
      "104 / 638436380955470205 / Changed  (\"file_2.txt\",   Some     \"2222222222222222222222222222222222\n",
      "250 / 638436380955470455 / Changed  (\"file_2.txt\",   Some     \"2222222222222222222222222222222222\n",
      "243 / 638436380955470698 / Changed  (\"file_2.txt\",   Some     \"2222222222222222222222222222222222\n",
      "164 / 638436380955470862 / Changed  (\"file_2.txt\",   Some     \"2222222222222222222222222222222222\n",
      "165 / 638436380955471027 / Changed  (\"file_2.txt\",   Some     \"2222222222222222222222222222222222\n",
      "167 / 638436380955471194 / Changed  (\"file_2.txt\",   Some     \"2222222222222222222222222222222222\n",
      "111 / 638436380955471305 / Changed  (\"file_2.txt\",   Some     \"2222222222222222222222222222222222\n",
      "165 / 638436380955471470 / Changed  (\"file_2.txt\",   Some     \"2222222222222222222222222222222222\n",
      "110 / 638436380955471580 / Changed  (\"file_2.txt\",   Some     \"2222222222222222222222222222222222\n",
      "192 / 638436380955471772 / Changed  (\"file_2.txt\",   Some     \"2222222222222222222222222222222222\n",
      "136 / 638436380955471908 / Changed  (\"file_2.txt\",   Some     \"2222222222222222222222222222222222\n",
      "192 / 638436380955472100 / Changed  (\"file_2.txt\",   Some     \"2222222222222222222222222222222222\n",
      "191 / 638436380955472291 / Changed  (\"file_2.txt\",   Some     \"2222222222222222222222222222222222\n",
      "35 / 638436380955472326 / Changed  (\"file_2.txt\",   Some     \"22222222222222222222222222222222222\n",
      "14990130 / 638436380970462456 / Deleted \"file_1.txt\"\n",
      "2573 / 638436380970465029 / Deleted \"file_2.txt\"\n",
      "FSharpList<FileSystemChange>\n",
      "      - path: file1.txt\n",
      "        content: FSharpOption<String>\n",
      "          Value: 1a\n",
      "      - path: file1.txt\n",
      "        content: FSharpOption<String>\n",
      "          Value: 1a\n",
      "      - path: file2.txt\n",
      "        content: FSharpOption<String>\n",
      "          Value: 2a\n",
      "      - path: file2.txt\n",
      "        content: FSharpOption<String>\n",
      "          Value: 2a\n",
      "      - path: file1.txt\n",
      "        content: FSharpOption<String>\n",
      "          Value: 1b\n",
      "      - path: file2.txt\n",
      "        content: FSharpOption<String>\n",
      "          Value: 2b\n",
      "      - oldPath: file1.txt\n",
      "        Item2:         - file_1.txt\n",
      "        - FSharpOption<String>\n",
      "            Value: 1b\n",
      "      - oldPath: file2.txt\n",
      "        Item2:         - file_2.txt\n",
      "        - FSharpOption<String>\n",
      "            Value: 2b\n",
      "      - path: file_1.txt\n",
      "        content: FSharpOption<String>\n",
      "          Value: 1c\n",
      "      - path: file_2.txt\n",
      "        content: FSharpOption<String>\n",
      "          Value: 2c\n",
      "      - path: file_1.txt\n",
      "      - path: file_2.txt\n",
      "FSharpOption<Unit>\n",
      "      Value: <null>\n"
     ]
    }
   ],
   "source": [
    "//// test\n",
    "\n",
    "let inline write path = async {\n",
    "    let n = 2\n",
    "\n",
    "    let contents =\n",
    "        [ 1 .. n ]\n",
    "        |> List.map (string >> String.replicate 1_000_000)\n",
    "\n",
    "    for i = 1 to n do\n",
    "        do! $\"{contents.[i - 1]}a\" |> writeAllTextAsync (path </> $\"file{i}.txt\")\n",
    "\n",
    "    do! Async.Sleep 1500\n",
    "\n",
    "    for i = 1 to n do\n",
    "        do! $\"{contents.[i - 1]}b\" |> writeAllTextAsync (path </> $\"file{i}.txt\")\n",
    "\n",
    "    do! Async.Sleep 1500\n",
    "\n",
    "    for i = 1 to n do\n",
    "        do! path </> $\"file{i}.txt\" |> moveFileAsync (path </> $\"file_{i}.txt\") |> Async.Ignore\n",
    "\n",
    "    do! Async.Sleep 1500\n",
    "\n",
    "    for i = 1 to n do\n",
    "        do! $\"{contents.[i - 1]}c\" |> writeAllTextAsync (path </> $\"file_{i}.txt\")\n",
    "\n",
    "    do! Async.Sleep 1500\n",
    "\n",
    "    for i = 1 to n do\n",
    "        do! deleteFileAsync (path </> $\"file_{i}.txt\") |> Async.Ignore\n",
    "\n",
    "    do! Async.Sleep 1500\n",
    "}\n",
    "\n",
    "let inline run () =\n",
    "    let events =\n",
    "        testEventsRaw watchDirectory write\n",
    "        |> List.map (function\n",
    "            | FileSystemChange.Changed (path, Some content) ->\n",
    "                FileSystemChange.Changed (path, content |> Seq.distinct |> Seq.map string |> String.concat \"\" |> Some)\n",
    "            | FileSystemChange.Created (path, Some content) ->\n",
    "                FileSystemChange.Created (path, content |> Seq.distinct |> Seq.map string |> String.concat \"\" |> Some)\n",
    "            | FileSystemChange.Renamed (oldPath, (newPath, Some content)) ->\n",
    "                FileSystemChange.Renamed (\n",
    "                    oldPath,\n",
    "                    (newPath, content |> Seq.distinct |> Seq.map string |> String.concat \"\" |> Some)\n",
    "                )\n",
    "            | event -> event\n",
    "        )\n",
    "\n",
    "    events\n",
    "    |> _sequenceEqual [\n",
    "        FileSystemChange.Created (\"file1.txt\", Some \"1a\")\n",
    "        FileSystemChange.Changed (\"file1.txt\", Some \"1a\")\n",
    "        FileSystemChange.Created (\"file2.txt\", Some \"2a\")\n",
    "        FileSystemChange.Changed (\"file2.txt\", Some \"2a\")\n",
    "\n",
    "        FileSystemChange.Changed (\"file1.txt\", Some \"1b\")\n",
    "        FileSystemChange.Changed (\"file2.txt\", Some \"2b\")\n",
    "\n",
    "        FileSystemChange.Renamed (\"file1.txt\", (\"file_1.txt\", Some \"1b\"))\n",
    "        FileSystemChange.Renamed (\"file2.txt\", (\"file_2.txt\", Some \"2b\"))\n",
    "\n",
    "        FileSystemChange.Changed (\"file_1.txt\", Some \"1c\")\n",
    "        FileSystemChange.Changed (\"file_2.txt\", Some \"2c\")\n",
    "\n",
    "        FileSystemChange.Deleted \"file_1.txt\"\n",
    "        FileSystemChange.Deleted \"file_2.txt\"\n",
    "    ]\n",
    "\n",
    "run\n",
    "|> retryFn 5\n",
    "|> _equal (Some ())"
   ]
  },
  {
   "cell_type": "markdown",
   "metadata": {},
   "source": [
    "### testEventsSorted (test)"
   ]
  },
  {
   "cell_type": "code",
   "execution_count": null,
   "metadata": {
    "dotnet_interactive": {
     "language": "fsharp"
    },
    "polyglot_notebook": {
     "kernelName": "fsharp"
    }
   },
   "outputs": [],
   "source": [
    "//// test\n",
    "\n",
    "let inline sortEvent event =\n",
    "    match event with\n",
    "    | FileSystemChange.Failure _ -> 0\n",
    "    | FileSystemChange.Created _ -> 1\n",
    "    | FileSystemChange.Changed _ -> 2\n",
    "    | FileSystemChange.Renamed (_oldPath, _) -> 3\n",
    "    | FileSystemChange.Deleted _ -> 4\n",
    "\n",
    "let inline formatEvents events =\n",
    "    events\n",
    "    |> Seq.toList\n",
    "    |> List.sortBy (snd >> sortEvent)\n",
    "    |> List.choose (fun (ticks, event) ->\n",
    "        match event with\n",
    "        | FileSystemChange.Failure _ ->\n",
    "            None\n",
    "        | FileSystemChange.Changed (path, _) ->\n",
    "            Some (ticks, System.IO.Path.GetFileName path, nameof FileSystemChangeType.Changed)\n",
    "        | FileSystemChange.Created (path, _) ->\n",
    "            Some (ticks, System.IO.Path.GetFileName path, nameof FileSystemChangeType.Created)\n",
    "        | FileSystemChange.Deleted path ->\n",
    "            Some (ticks, System.IO.Path.GetFileName path, nameof FileSystemChangeType.Deleted)\n",
    "        | FileSystemChange.Renamed (_oldPath, (path, _)) ->\n",
    "            Some (ticks, System.IO.Path.GetFileName path, nameof FileSystemChangeType.Renamed)\n",
    "    )\n",
    "    |> List.sortBy (fun (_, path, _) -> path)\n",
    "    |> List.distinctBy (fun (_, path, event) -> path, event)\n",
    "\n",
    "let inline testEventsSorted\n",
    "    (watchFn : string -> FSharp.Control.AsyncSeq<int64 * FileSystemChange> * IDisposable)\n",
    "    write\n",
    "    =\n",
    "    let path = createTempDirectory ()\n",
    "    let stream, disposable = watchFn path\n",
    "\n",
    "    let events = System.Collections.Concurrent.ConcurrentBag ()\n",
    "\n",
    "    let inline iter () =\n",
    "        stream\n",
    "        |> FSharp.Control.AsyncSeq.iterAsyncParallel (fun event -> async { events.Add event })\n",
    "\n",
    "    let run = async {\n",
    "        let! _ = iter () |> Async.StartChild\n",
    "        do! Async.Sleep 250\n",
    "        return! write path\n",
    "    }\n",
    "\n",
    "    try\n",
    "        run\n",
    "        |> Async.runWithTimeout 5000\n",
    "        |> _equal (Some ())\n",
    "    finally\n",
    "        disposable.Dispose ()\n",
    "        deleteDirectoryAsync path |> Async.Ignore |> Async.RunSynchronously\n",
    "\n",
    "    let events = formatEvents events\n",
    "\n",
    "    let eventMap =\n",
    "        events\n",
    "        |> List.map (fun (ticks, path, event) -> path, (event, ticks))\n",
    "        |> List.groupBy fst\n",
    "        |> List.map (fun (path, events) ->\n",
    "            let event, _ticks =\n",
    "                events\n",
    "                |> List.map snd\n",
    "                |> List.sortByDescending snd\n",
    "                |> List.head\n",
    "\n",
    "            path, event\n",
    "        )\n",
    "        |> Map.ofList\n",
    "\n",
    "    let eventList =\n",
    "        events\n",
    "        |> List.map (fun (_ticks, path, event) -> path, event)\n",
    "\n",
    "    eventMap, eventList"
   ]
  },
  {
   "cell_type": "markdown",
   "metadata": {},
   "source": [
    "#### create and delete (test)"
   ]
  },
  {
   "cell_type": "code",
   "execution_count": null,
   "metadata": {
    "dotnet_interactive": {
     "language": "fsharp"
    },
    "polyglot_notebook": {
     "kernelName": "fsharp"
    }
   },
   "outputs": [
    {
     "name": "stdout",
     "output_type": "stream",
     "text": [
      "FSharpOption<Unit>\n",
      "      Value: <null>\n",
      "00:00:29 #51 [Debug] watchWithFilter / Disposing watch stream / filter: FileName, LastWrite\n",
      "FSharpList<Tuple<String,String>>\n",
      "( file1.txt, Created )\n",
      "( file1.txt, Changed )\n",
      "( file1.txt, Deleted )\n",
      "( file2.txt, Created )\n",
      "( file2.txt, Changed )\n",
      "( file2.txt, Deleted )\n",
      "( file3.txt, Created )\n",
      "( file3.txt, Changed )\n",
      "( file3.txt, Deleted )\n",
      "FSharpMap<String,String>\n",
      "      - Key: file1.txt\n",
      "        Value: Deleted\n",
      "      - Key: file2.txt\n",
      "        Value: Deleted\n",
      "      - Key: file3.txt\n",
      "        Value: Deleted\n",
      "FSharpOption<Unit>\n",
      "      Value: <null>\n"
     ]
    }
   ],
   "source": [
    "//// test\n",
    "\n",
    "let inline write path = async {\n",
    "    let n = 3\n",
    "\n",
    "    for i = 1 to n do\n",
    "        do! $\"{i}\" |> writeAllTextAsync (path </> $\"file{i}.txt\")\n",
    "\n",
    "    for i = 1 to n do\n",
    "        do! deleteFileAsync (path </> $\"file{i}.txt\") |> Async.Ignore\n",
    "    \n",
    "    do! Async.Sleep 150\n",
    "}\n",
    "\n",
    "let inline run () =\n",
    "    let eventMap, eventList = testEventsSorted (watchDirectory (fun _ -> false)) write\n",
    "\n",
    "    [\n",
    "        \"file1.txt\", nameof FileSystemChangeType.Created\n",
    "        \"file1.txt\", nameof FileSystemChangeType.Changed\n",
    "        \"file1.txt\", nameof FileSystemChangeType.Deleted\n",
    "\n",
    "        \"file2.txt\", nameof FileSystemChangeType.Created\n",
    "        \"file2.txt\", nameof FileSystemChangeType.Changed\n",
    "        \"file2.txt\", nameof FileSystemChangeType.Deleted\n",
    "\n",
    "        \"file3.txt\", nameof FileSystemChangeType.Created\n",
    "        \"file3.txt\", nameof FileSystemChangeType.Changed\n",
    "        \"file3.txt\", nameof FileSystemChangeType.Deleted\n",
    "    ]\n",
    "    |> _sequenceEqual eventList\n",
    "\n",
    "    [\n",
    "        \"file1.txt\", nameof FileSystemChangeType.Deleted\n",
    "        \"file2.txt\", nameof FileSystemChangeType.Deleted\n",
    "        \"file3.txt\", nameof FileSystemChangeType.Deleted\n",
    "    ]\n",
    "    |> Map.ofList\n",
    "    |> _sequenceEqual eventMap\n",
    "\n",
    "run\n",
    "|> retryFn 3\n",
    "|> _equal (Some ())"
   ]
  },
  {
   "cell_type": "markdown",
   "metadata": {},
   "source": [
    "#### change (test)"
   ]
  },
  {
   "cell_type": "code",
   "execution_count": null,
   "metadata": {
    "dotnet_interactive": {
     "language": "fsharp"
    },
    "polyglot_notebook": {
     "kernelName": "fsharp"
    }
   },
   "outputs": [
    {
     "name": "stdout",
     "output_type": "stream",
     "text": [
      "FSharpOption<Unit>\n",
      "      Value: <null>\n",
      "00:00:31 #52 [Debug] watchWithFilter / Disposing watch stream / filter: FileName, LastWrite\n",
      "FSharpList<Tuple<String,String>>\n",
      "( file1.txt, Created )\n",
      "( file1.txt, Changed )\n",
      "( file1.txt, Deleted )\n",
      "( file2.txt, Created )\n",
      "( file2.txt, Changed )\n",
      "( file2.txt, Deleted )\n",
      "FSharpMap<String,String>\n",
      "      - Key: file1.txt\n",
      "        Value: Deleted\n",
      "      - Key: file2.txt\n",
      "        Value: Deleted\n",
      "FSharpOption<Unit>\n",
      "      Value: <null>\n"
     ]
    }
   ],
   "source": [
    "//// test\n",
    "\n",
    "let inline write path = async {\n",
    "    let n = 2\n",
    "\n",
    "    for i = 1 to n do\n",
    "        do! $\"{i}\" |> writeAllTextAsync (path </> $\"file{i}.txt\")\n",
    "\n",
    "    for i = 1 to n do\n",
    "        do! \"\" |> writeAllTextAsync (path </> $\"file{i}.txt\")\n",
    "\n",
    "    for i = 1 to n do\n",
    "        do! deleteFileAsync (path </> $\"file{i}.txt\") |> Async.Ignore\n",
    "    \n",
    "    do! Async.Sleep 150\n",
    "}\n",
    "\n",
    "let inline run () =\n",
    "    let eventMap, eventList = testEventsSorted (watchDirectory (fun _ -> false)) write\n",
    "\n",
    "    [\n",
    "        \"file1.txt\", nameof FileSystemChangeType.Created\n",
    "        \"file1.txt\", nameof FileSystemChangeType.Changed\n",
    "        \"file1.txt\", nameof FileSystemChangeType.Deleted\n",
    "\n",
    "        \"file2.txt\", nameof FileSystemChangeType.Created\n",
    "        \"file2.txt\", nameof FileSystemChangeType.Changed\n",
    "        \"file2.txt\", nameof FileSystemChangeType.Deleted\n",
    "    ]\n",
    "    |> _sequenceEqual eventList\n",
    "\n",
    "    [\n",
    "        \"file1.txt\", nameof FileSystemChangeType.Deleted\n",
    "        \"file2.txt\", nameof FileSystemChangeType.Deleted\n",
    "    ]\n",
    "    |> Map.ofList\n",
    "    |> _sequenceEqual eventMap\n",
    "\n",
    "run\n",
    "|> retryFn 3\n",
    "|> _equal (Some ())"
   ]
  },
  {
   "cell_type": "markdown",
   "metadata": {},
   "source": [
    "#### rename (test)"
   ]
  },
  {
   "cell_type": "code",
   "execution_count": null,
   "metadata": {
    "dotnet_interactive": {
     "language": "fsharp"
    },
    "polyglot_notebook": {
     "kernelName": "fsharp"
    }
   },
   "outputs": [
    {
     "name": "stdout",
     "output_type": "stream",
     "text": [
      "FSharpOption<Unit>\n",
      "      Value: <null>\n",
      "00:00:34 #53 [Debug] watchWithFilter / Disposing watch stream / filter: FileName, LastWrite\n",
      "FSharpList<Tuple<String,String>>\n",
      "( file1.txt, Created )\n",
      "( file1.txt, Changed )\n",
      "( file2.txt, Created )\n",
      "( file2.txt, Changed )\n",
      "( file_1.txt, Renamed )\n",
      "( file_1.txt, Deleted )\n",
      "( file_2.txt, Renamed )\n",
      "( file_2.txt, Deleted )\n",
      "FSharpMap<String,String>\n",
      "      - Key: file1.txt\n",
      "        Value: Changed\n",
      "      - Key: file2.txt\n",
      "        Value: Changed\n",
      "      - Key: file_1.txt\n",
      "        Value: Deleted\n",
      "      - Key: file_2.txt\n",
      "        Value: Deleted\n",
      "FSharpOption<Unit>\n",
      "      Value: <null>\n"
     ]
    }
   ],
   "source": [
    "//// test\n",
    "\n",
    "let inline write path = async {\n",
    "    let n = 2\n",
    "\n",
    "    for i = 1 to n do\n",
    "        do! $\"{i}\" |> writeAllTextAsync (path </> $\"file{i}.txt\")\n",
    "\n",
    "    for i = 1 to n do\n",
    "        do! path </> $\"file{i}.txt\" |> moveFileAsync (path </> $\"file_{i}.txt\") |> Async.Ignore\n",
    "\n",
    "    for i = 1 to n do\n",
    "        do! deleteFileAsync (path </> $\"file_{i}.txt\") |> Async.Ignore\n",
    "    \n",
    "    do! Async.Sleep 150\n",
    "}\n",
    "\n",
    "let inline run () =\n",
    "    let eventMap, eventList = testEventsSorted (watchDirectory (fun _ -> false)) write\n",
    "\n",
    "    [\n",
    "        \"file1.txt\", nameof FileSystemChangeType.Created\n",
    "        \"file1.txt\", nameof FileSystemChangeType.Changed\n",
    "        \"file2.txt\", nameof FileSystemChangeType.Created\n",
    "        \"file2.txt\", nameof FileSystemChangeType.Changed\n",
    "\n",
    "        \"file_1.txt\", nameof FileSystemChangeType.Renamed\n",
    "        \"file_1.txt\", nameof FileSystemChangeType.Deleted\n",
    "\n",
    "        \"file_2.txt\", nameof FileSystemChangeType.Renamed\n",
    "        \"file_2.txt\", nameof FileSystemChangeType.Deleted\n",
    "    ]\n",
    "    |> _sequenceEqual eventList\n",
    "\n",
    "    [\n",
    "        \"file1.txt\", nameof FileSystemChangeType.Changed\n",
    "        \"file2.txt\", nameof FileSystemChangeType.Changed\n",
    "        \"file_1.txt\", nameof FileSystemChangeType.Deleted\n",
    "        \"file_2.txt\", nameof FileSystemChangeType.Deleted\n",
    "    ]\n",
    "    |> Map.ofList\n",
    "    |> _sequenceEqual eventMap\n",
    "\n",
    "run\n",
    "|> retryFn 3\n",
    "|> _equal (Some ())"
   ]
  },
  {
   "cell_type": "markdown",
   "metadata": {},
   "source": [
    "#### full (test)"
   ]
  },
  {
   "cell_type": "code",
   "execution_count": null,
   "metadata": {
    "dotnet_interactive": {
     "language": "fsharp"
    },
    "polyglot_notebook": {
     "kernelName": "fsharp"
    }
   },
   "outputs": [
    {
     "name": "stdout",
     "output_type": "stream",
     "text": [
      "FSharpOption<Unit>\n",
      "      Value: <null>\n",
      "00:00:37 #54 [Debug] watchWithFilter / Disposing watch stream / filter: FileName, LastWrite\n",
      "FSharpList<Tuple<String,String>>\n",
      "( file1.txt, Created )\n",
      "( file1.txt, Changed )\n",
      "( file2.txt, Created )\n",
      "( file2.txt, Changed )\n",
      "( file_1.txt, Changed )\n",
      "( file_1.txt, Renamed )\n",
      "( file_1.txt, Deleted )\n",
      "( file_2.txt, Changed )\n",
      "( file_2.txt, Renamed )\n",
      "( file_2.txt, Deleted )\n",
      "FSharpMap<String,String>\n",
      "      - Key: file1.txt\n",
      "        Value: Changed\n",
      "      - Key: file2.txt\n",
      "        Value: Changed\n",
      "      - Key: file_1.txt\n",
      "        Value: Deleted\n",
      "      - Key: file_2.txt\n",
      "        Value: Deleted\n",
      "FSharpOption<Unit>\n",
      "      Value: <null>\n"
     ]
    }
   ],
   "source": [
    "//// test\n",
    "\n",
    "let inline write path = async {\n",
    "    let n = 2\n",
    "\n",
    "    for i = 1 to n do\n",
    "        do! $\"{i}\" |> writeAllTextAsync (path </> $\"file{i}.txt\")\n",
    "\n",
    "    for i = 1 to n do\n",
    "        do! \"\" |> writeAllTextAsync (path </> $\"file{i}.txt\")\n",
    "\n",
    "    for i = 1 to n do\n",
    "        do! path </> $\"file{i}.txt\" |> moveFileAsync (path </> $\"file_{i}.txt\") |> Async.Ignore\n",
    "\n",
    "    for i = 1 to n do\n",
    "        do! $\"{i}\" |> writeAllTextAsync (path </> $\"file_{i}.txt\")\n",
    "\n",
    "    for i = 1 to n do\n",
    "        do! deleteFileAsync (path </> $\"file_{i}.txt\") |> Async.Ignore\n",
    "    \n",
    "    do! Async.Sleep 150\n",
    "}\n",
    "\n",
    "let inline run () =\n",
    "    let eventMap, eventList = testEventsSorted (watchDirectory (fun _ -> false)) write\n",
    "\n",
    "    [\n",
    "        \"file1.txt\", nameof FileSystemChangeType.Created\n",
    "        \"file1.txt\", nameof FileSystemChangeType.Changed\n",
    "        \"file2.txt\", nameof FileSystemChangeType.Created\n",
    "        \"file2.txt\", nameof FileSystemChangeType.Changed\n",
    "\n",
    "        \"file_1.txt\", nameof FileSystemChangeType.Changed\n",
    "        \"file_1.txt\", nameof FileSystemChangeType.Renamed\n",
    "        \"file_1.txt\", nameof FileSystemChangeType.Deleted\n",
    "\n",
    "        \"file_2.txt\", nameof FileSystemChangeType.Changed\n",
    "        \"file_2.txt\", nameof FileSystemChangeType.Renamed\n",
    "        \"file_2.txt\", nameof FileSystemChangeType.Deleted\n",
    "    ]\n",
    "    |> _sequenceEqual eventList\n",
    "\n",
    "    [\n",
    "        \"file1.txt\", nameof FileSystemChangeType.Changed\n",
    "        \"file2.txt\", nameof FileSystemChangeType.Changed\n",
    "        \"file_1.txt\", nameof FileSystemChangeType.Deleted\n",
    "        \"file_2.txt\", nameof FileSystemChangeType.Deleted\n",
    "    ]\n",
    "    |> Map.ofList\n",
    "    |> _sequenceEqual eventMap\n",
    "\n",
    "run\n",
    "|> retryFn 3\n",
    "|> _equal (Some ())"
   ]
  }
 ],
 "metadata": {},
 "nbformat": 4,
 "nbformat_minor": 5
}