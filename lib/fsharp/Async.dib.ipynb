{
 "cells": [
  {
   "cell_type": "markdown",
   "metadata": {},
   "source": [
    "# Async (Polyglot)"
   ]
  },
  {
   "cell_type": "code",
   "execution_count": null,
   "metadata": {
    "dotnet_interactive": {
     "language": "fsharp"
    },
    "polyglot_notebook": {
     "kernelName": "fsharp"
    }
   },
   "outputs": [],
   "source": [
    "#!import ../../lib/fsharp/Notebooks.dib\n",
    "#!import ../../lib/fsharp/Testing.dib"
   ]
  },
  {
   "cell_type": "code",
   "execution_count": null,
   "metadata": {
    "dotnet_interactive": {
     "language": "fsharp"
    },
    "polyglot_notebook": {
     "kernelName": "fsharp"
    }
   },
   "outputs": [],
   "source": [
    "#!import ../../lib/fsharp/Common.fs"
   ]
  },
  {
   "cell_type": "code",
   "execution_count": null,
   "metadata": {
    "dotnet_interactive": {
     "language": "fsharp"
    },
    "polyglot_notebook": {
     "kernelName": "fsharp"
    }
   },
   "outputs": [],
   "source": [
    "open Common"
   ]
  },
  {
   "cell_type": "markdown",
   "metadata": {},
   "source": [
    "## choice"
   ]
  },
  {
   "cell_type": "code",
   "execution_count": null,
   "metadata": {
    "dotnet_interactive": {
     "language": "fsharp"
    },
    "polyglot_notebook": {
     "kernelName": "fsharp"
    }
   },
   "outputs": [],
   "source": [
    "let inline choice asyncs = async {\n",
    "    let e = Event<_> ()\n",
    "    use cts = new System.Threading.CancellationTokenSource ()\n",
    "    let fn =\n",
    "        asyncs\n",
    "        |> Seq.map (fun a -> async {\n",
    "            let! x = a\n",
    "            e.Trigger x\n",
    "        })\n",
    "        |> Async.Parallel\n",
    "        |> Async.Ignore\n",
    "    Async.Start (fn, cts.Token)\n",
    "    let! result = Async.AwaitEvent e.Publish\n",
    "    cts.Cancel ()\n",
    "    return result\n",
    "}"
   ]
  },
  {
   "cell_type": "markdown",
   "metadata": {},
   "source": [
    "## map"
   ]
  },
  {
   "cell_type": "code",
   "execution_count": null,
   "metadata": {
    "dotnet_interactive": {
     "language": "fsharp"
    },
    "polyglot_notebook": {
     "kernelName": "fsharp"
    }
   },
   "outputs": [],
   "source": [
    "let inline map fn a = async {\n",
    "    let! x = a\n",
    "    return fn x\n",
    "}"
   ]
  },
  {
   "cell_type": "markdown",
   "metadata": {},
   "source": [
    "## catch"
   ]
  },
  {
   "cell_type": "code",
   "execution_count": null,
   "metadata": {
    "dotnet_interactive": {
     "language": "fsharp"
    },
    "polyglot_notebook": {
     "kernelName": "fsharp"
    }
   },
   "outputs": [],
   "source": [
    "let inline catch a =\n",
    "    a\n",
    "    |> Async.Catch\n",
    "    |> map (function\n",
    "        | Choice1Of2 result -> Ok result\n",
    "        | Choice2Of2 ex -> Error ex\n",
    "    )"
   ]
  },
  {
   "cell_type": "markdown",
   "metadata": {},
   "source": [
    "## runWithTimeoutAsync"
   ]
  },
  {
   "cell_type": "code",
   "execution_count": null,
   "metadata": {
    "dotnet_interactive": {
     "language": "fsharp"
    },
    "polyglot_notebook": {
     "kernelName": "fsharp"
    }
   },
   "outputs": [],
   "source": [
    "let inline runWithTimeoutAsync (timeout : int) fn =\n",
    "    let getLocals () = $\"timeout: {timeout} / {getLocals ()}\"\n",
    "\n",
    "    let timeoutTask = async {\n",
    "        do! Async.Sleep timeout\n",
    "        trace Debug (fun () -> \"runWithTimeoutAsync\") getLocals\n",
    "        return None\n",
    "    }\n",
    "\n",
    "    let task = async {\n",
    "        try\n",
    "            let! result = fn\n",
    "            return Some result\n",
    "        with\n",
    "        | :? System.AggregateException as ex when\n",
    "            ex.InnerExceptions\n",
    "            |> Seq.exists (function :? System.Threading.Tasks.TaskCanceledException -> true | _ -> false)\n",
    "            ->\n",
    "            let getLocals () = $\"ex: {ex |> printException} / {getLocals ()}\"\n",
    "            trace Warning (fun () -> \"runWithTimeoutAsync\") getLocals\n",
    "            return None\n",
    "        | ex ->\n",
    "            trace Critical (fun () -> $\"runWithTimeoutAsync** / ex: {ex |> printException}\") getLocals\n",
    "            return None\n",
    "    }\n",
    "\n",
    "    [ timeoutTask; task ]\n",
    "    |> choice"
   ]
  },
  {
   "cell_type": "code",
   "execution_count": null,
   "metadata": {
    "dotnet_interactive": {
     "language": "fsharp"
    },
    "polyglot_notebook": {
     "kernelName": "fsharp"
    }
   },
   "outputs": [],
   "source": [
    "let inline runWithTimeout timeout fn =\n",
    "    fn\n",
    "    |> runWithTimeoutAsync timeout\n",
    "    |> Async.RunSynchronously"
   ]
  },
  {
   "cell_type": "code",
   "execution_count": null,
   "metadata": {
    "dotnet_interactive": {
     "language": "fsharp"
    },
    "polyglot_notebook": {
     "kernelName": "fsharp"
    }
   },
   "outputs": [
    {
     "name": "stdout",
     "output_type": "stream",
     "text": [
      "00:00:00 #1 [Debug] runWithTimeoutAsync / timeout: 10\n",
      "<null>\n"
     ]
    }
   ],
   "source": [
    "//// test\n",
    "\n",
    "Async.Sleep 60\n",
    "|> runWithTimeout 10\n",
    "|> _assertEqual None"
   ]
  },
  {
   "cell_type": "code",
   "execution_count": null,
   "metadata": {
    "dotnet_interactive": {
     "language": "fsharp"
    },
    "polyglot_notebook": {
     "kernelName": "fsharp"
    }
   },
   "outputs": [
    {
     "name": "stdout",
     "output_type": "stream",
     "text": [
      "FSharpOption<Unit>\n",
      "      Value: <null>\n"
     ]
    }
   ],
   "source": [
    "//// test\n",
    "\n",
    "Async.Sleep 10\n",
    "|> runWithTimeout 60\n",
    "|> _assertEqual (Some ())"
   ]
  },
  {
   "cell_type": "code",
   "execution_count": null,
   "metadata": {
    "dotnet_interactive": {
     "language": "fsharp"
    },
    "polyglot_notebook": {
     "kernelName": "fsharp"
    }
   },
   "outputs": [
    {
     "name": "stdout",
     "output_type": "stream",
     "text": [
      "00:00:00 #2 [Critical] runWithTimeoutAsync** / ex: System.Exception: error / timeout: 60\n",
      "<null>\n"
     ]
    }
   ],
   "source": [
    "//// test\n",
    "\n",
    "async {\n",
    "    raise (exn \"error\")\n",
    "}\n",
    "|> runWithTimeout 60\n",
    "|> _assertEqual None"
   ]
  },
  {
   "cell_type": "markdown",
   "metadata": {},
   "source": [
    "## runWithTimeoutChildAsync"
   ]
  },
  {
   "cell_type": "code",
   "execution_count": null,
   "metadata": {
    "dotnet_interactive": {
     "language": "fsharp"
    },
    "polyglot_notebook": {
     "kernelName": "fsharp"
    }
   },
   "outputs": [],
   "source": [
    "let inline runWithTimeoutChildAsync (timeout : int) fn = async {\n",
    "    let getLocals () = $\"timeout: {timeout} / {getLocals ()}\"\n",
    "    let! child = Async.StartChild (fn, timeout)\n",
    "    return!\n",
    "        child\n",
    "        |> catch\n",
    "        |> map (function\n",
    "            | Ok result -> Some result\n",
    "            | Error (:? System.TimeoutException as ex) ->\n",
    "                trace Debug (fun () -> $\"runWithTimeoutChildAsync\") getLocals\n",
    "                None\n",
    "            | Error ex ->\n",
    "                trace Critical (fun () -> $\"runWithTimeoutChildAsync** / ex: {ex |> printException}\") getLocals\n",
    "                None\n",
    "        )\n",
    "}"
   ]
  },
  {
   "cell_type": "code",
   "execution_count": null,
   "metadata": {
    "dotnet_interactive": {
     "language": "fsharp"
    },
    "polyglot_notebook": {
     "kernelName": "fsharp"
    }
   },
   "outputs": [],
   "source": [
    "let inline runWithTimeoutChild timeout fn =\n",
    "    fn\n",
    "    |> runWithTimeoutChildAsync timeout\n",
    "    |> Async.RunSynchronously"
   ]
  },
  {
   "cell_type": "code",
   "execution_count": null,
   "metadata": {
    "dotnet_interactive": {
     "language": "fsharp"
    },
    "polyglot_notebook": {
     "kernelName": "fsharp"
    }
   },
   "outputs": [
    {
     "name": "stdout",
     "output_type": "stream",
     "text": [
      "00:00:00 #3 [Debug] runWithTimeoutChildAsync / timeout: 10\n",
      "<null>\n"
     ]
    }
   ],
   "source": [
    "//// test\n",
    "\n",
    "Async.Sleep 60\n",
    "|> runWithTimeoutChild 10\n",
    "|> _assertEqual None"
   ]
  },
  {
   "cell_type": "code",
   "execution_count": null,
   "metadata": {
    "dotnet_interactive": {
     "language": "fsharp"
    },
    "polyglot_notebook": {
     "kernelName": "fsharp"
    }
   },
   "outputs": [
    {
     "name": "stdout",
     "output_type": "stream",
     "text": [
      "FSharpOption<Unit>\n",
      "      Value: <null>\n"
     ]
    }
   ],
   "source": [
    "//// test\n",
    "\n",
    "Async.Sleep 10\n",
    "|> runWithTimeoutChild 60\n",
    "|> _assertEqual (Some ())"
   ]
  },
  {
   "cell_type": "code",
   "execution_count": null,
   "metadata": {
    "dotnet_interactive": {
     "language": "fsharp"
    },
    "polyglot_notebook": {
     "kernelName": "fsharp"
    }
   },
   "outputs": [
    {
     "name": "stdout",
     "output_type": "stream",
     "text": [
      "00:00:00 #4 [Critical] runWithTimeoutChildAsync** / ex: System.Exception: error / timeout: 60\n",
      "<null>\n"
     ]
    }
   ],
   "source": [
    "//// test\n",
    "\n",
    "async {\n",
    "    raise (exn \"error\")\n",
    "}\n",
    "|> runWithTimeoutChild 60\n",
    "|> _assertEqual None"
   ]
  },
  {
   "cell_type": "markdown",
   "metadata": {},
   "source": [
    "## runWithTimeoutStrict"
   ]
  },
  {
   "cell_type": "code",
   "execution_count": null,
   "metadata": {
    "dotnet_interactive": {
     "language": "fsharp"
    },
    "polyglot_notebook": {
     "kernelName": "fsharp"
    }
   },
   "outputs": [],
   "source": [
    "let inline runWithTimeoutStrict (timeout : int) fn =\n",
    "    let getLocals () = $\"timeout: {timeout} / {getLocals ()}\"\n",
    "\n",
    "    let timeoutTask = async {\n",
    "        do! Async.Sleep timeout\n",
    "        return None, getLocals\n",
    "    }\n",
    "\n",
    "    let task = async {\n",
    "        try\n",
    "            return Async.RunSynchronously (fn, timeout) |> Some, getLocals\n",
    "        with\n",
    "        | :? System.TimeoutException as ex ->\n",
    "            let getLocals () = $\"ex: {ex |> printException} / {getLocals ()}\"\n",
    "            return None, getLocals\n",
    "        | ex ->\n",
    "            trace Critical (fun () -> $\"runWithTimeoutStrict / ex: {ex |> printException}\") getLocals\n",
    "            return raise ex\n",
    "    }\n",
    "\n",
    "    try\n",
    "        [| timeoutTask; task |]\n",
    "        |> Array.map Async.StartAsTask\n",
    "        |> System.Threading.Tasks.Task.WhenAny\n",
    "        |> fun task ->\n",
    "            match task.Result.Result with\n",
    "            | None, getLocals ->\n",
    "                trace Debug (fun () -> \"runWithTimeoutStrict\") getLocals\n",
    "                None\n",
    "            | result, _ -> result\n",
    "    with\n",
    "    | :? System.AggregateException as ex when\n",
    "        ex.InnerExceptions\n",
    "        |> Seq.exists (function :? System.Threading.Tasks.TaskCanceledException -> true | _ -> false)\n",
    "        ->\n",
    "        let getLocals () = $\"ex: {ex |> printException} / {getLocals ()}\"\n",
    "        trace Warning (fun () -> \"runWithTimeoutStrict\") getLocals\n",
    "        None\n",
    "    | ex ->\n",
    "        let getLocals () = $\"ex: {ex |> printException} / {getLocals ()}\"\n",
    "        trace Critical (fun () -> \"runWithTimeoutStrict**\") getLocals\n",
    "        None"
   ]
  },
  {
   "cell_type": "code",
   "execution_count": null,
   "metadata": {
    "dotnet_interactive": {
     "language": "fsharp"
    },
    "polyglot_notebook": {
     "kernelName": "fsharp"
    }
   },
   "outputs": [
    {
     "name": "stdout",
     "output_type": "stream",
     "text": [
      "00:00:00 #5 [Debug] runWithTimeoutStrict / timeout: 10\n",
      "<null>\n"
     ]
    }
   ],
   "source": [
    "//// test\n",
    "\n",
    "Async.Sleep 60\n",
    "|> runWithTimeoutStrict 10\n",
    "|> _assertEqual None"
   ]
  },
  {
   "cell_type": "code",
   "execution_count": null,
   "metadata": {
    "dotnet_interactive": {
     "language": "fsharp"
    },
    "polyglot_notebook": {
     "kernelName": "fsharp"
    }
   },
   "outputs": [
    {
     "name": "stdout",
     "output_type": "stream",
     "text": [
      "FSharpOption<Unit>\n",
      "      Value: <null>\n"
     ]
    }
   ],
   "source": [
    "//// test\n",
    "\n",
    "Async.Sleep 10\n",
    "|> runWithTimeoutStrict 60\n",
    "|> _assertEqual (Some ())"
   ]
  },
  {
   "cell_type": "code",
   "execution_count": null,
   "metadata": {
    "dotnet_interactive": {
     "language": "fsharp"
    },
    "polyglot_notebook": {
     "kernelName": "fsharp"
    }
   },
   "outputs": [
    {
     "name": "stdout",
     "output_type": "stream",
     "text": [
      "00:00:00 #6 [Critical] runWithTimeoutStrict / ex: System.Exception: error / timeout: 60\n",
      "00:00:00 #7 [Critical] runWithTimeoutStrict** / ex: System.AggregateException: One or more errors occurred. (error) / timeout: 60\n",
      "<null>\n"
     ]
    }
   ],
   "source": [
    "//// test\n",
    "\n",
    "async {\n",
    "    raise (exn \"error\")\n",
    "}\n",
    "|> runWithTimeoutStrict 60\n",
    "|> _assertEqual None"
   ]
  },
  {
   "cell_type": "markdown",
   "metadata": {},
   "source": [
    "## awaitValueTask"
   ]
  },
  {
   "cell_type": "code",
   "execution_count": null,
   "metadata": {
    "dotnet_interactive": {
     "language": "fsharp"
    },
    "polyglot_notebook": {
     "kernelName": "fsharp"
    }
   },
   "outputs": [],
   "source": [
    "let inline awaitValueTaskUnit (task : System.Threading.Tasks.ValueTask) =\n",
    "    task.AsTask () |> Async.AwaitTask\n",
    "\n",
    "let inline awaitValueTask (task : System.Threading.Tasks.ValueTask<_>) =\n",
    "    task.AsTask () |> Async.AwaitTask"
   ]
  },
  {
   "cell_type": "markdown",
   "metadata": {},
   "source": [
    "## init"
   ]
  },
  {
   "cell_type": "code",
   "execution_count": null,
   "metadata": {
    "dotnet_interactive": {
     "language": "fsharp"
    },
    "polyglot_notebook": {
     "kernelName": "fsharp"
    }
   },
   "outputs": [],
   "source": [
    "let inline init x = async {\n",
    "    return x\n",
    "}"
   ]
  },
  {
   "cell_type": "code",
   "execution_count": null,
   "metadata": {
    "dotnet_interactive": {
     "language": "fsharp"
    },
    "polyglot_notebook": {
     "kernelName": "fsharp"
    }
   },
   "outputs": [
    {
     "name": "stdout",
     "output_type": "stream",
     "text": [
      "1\n"
     ]
    }
   ],
   "source": [
    "//// test\n",
    "\n",
    "init 1\n",
    "|> Async.RunSynchronously\n",
    "|> _assertEqual 1"
   ]
  },
  {
   "cell_type": "markdown",
   "metadata": {},
   "source": [
    "## mergeCancellationTokenWithDefaultAsync"
   ]
  },
  {
   "cell_type": "code",
   "execution_count": null,
   "metadata": {
    "dotnet_interactive": {
     "language": "fsharp"
    },
    "polyglot_notebook": {
     "kernelName": "fsharp"
    }
   },
   "outputs": [],
   "source": [
    "let inline mergeCancellationTokenWithDefaultAsync (token : System.Threading.CancellationToken) = async {\n",
    "    let! ct = Async.CancellationToken\n",
    "    let dct = Async.DefaultCancellationToken\n",
    "    let cts = System.Threading.CancellationTokenSource.CreateLinkedTokenSource [| ct; dct; token |]\n",
    "    return cts.Token\n",
    "}"
   ]
  },
  {
   "cell_type": "markdown",
   "metadata": {},
   "source": [
    "## withCancellationToken"
   ]
  },
  {
   "cell_type": "code",
   "execution_count": null,
   "metadata": {
    "dotnet_interactive": {
     "language": "fsharp"
    },
    "polyglot_notebook": {
     "kernelName": "fsharp"
    }
   },
   "outputs": [],
   "source": [
    "let inline withCancellationToken (ct : System.Threading.CancellationToken) fn =\n",
    "    Async.StartImmediateAsTask (fn, ct)\n",
    "    |> Async.AwaitTask"
   ]
  },
  {
   "cell_type": "code",
   "execution_count": null,
   "metadata": {
    "dotnet_interactive": {
     "language": "fsharp"
    },
    "polyglot_notebook": {
     "kernelName": "fsharp"
    }
   },
   "outputs": [
    {
     "name": "stdout",
     "output_type": "stream",
     "text": [
      "FSharpResult<Int32,String>\n",
      "      ResultValue: 0\n",
      "      ErrorValue: A task was canceled.\n"
     ]
    }
   ],
   "source": [
    "//// test\n",
    "\n",
    "let cts = new System.Threading.CancellationTokenSource ()\n",
    "\n",
    "async {\n",
    "    let run = async {\n",
    "        do! Async.Sleep 100\n",
    "        return 1\n",
    "    }\n",
    "\n",
    "    let! child =\n",
    "        run\n",
    "        |> withCancellationToken cts.Token\n",
    "        |> catch\n",
    "        |> Async.StartChild\n",
    "\n",
    "    do! Async.Sleep 50\n",
    "    cts.Cancel ()\n",
    "    return! child\n",
    "}\n",
    "|> Async.RunSynchronously\n",
    "|> Result.mapError _.Message\n",
    "|> _assertEqual (Error (\"A task was canceled.\"))"
   ]
  },
  {
   "cell_type": "markdown",
   "metadata": {},
   "source": [
    "## withTraceLevel"
   ]
  },
  {
   "cell_type": "code",
   "execution_count": null,
   "metadata": {
    "dotnet_interactive": {
     "language": "fsharp"
    },
    "polyglot_notebook": {
     "kernelName": "fsharp"
    }
   },
   "outputs": [],
   "source": [
    "let inline withTraceLevel level fn = async {\n",
    "    let oldTraceLevel = traceLevel\n",
    "    try\n",
    "        traceLevel <- level\n",
    "        return! fn\n",
    "    finally\n",
    "        traceLevel <- oldTraceLevel\n",
    "}"
   ]
  }
 ],
 "metadata": {},
 "nbformat": 4,
 "nbformat_minor": 5
}