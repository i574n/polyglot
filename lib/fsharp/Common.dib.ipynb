{
 "cells": [
  {
   "cell_type": "markdown",
   "metadata": {},
   "source": [
    "# Common (Polyglot)"
   ]
  },
  {
   "cell_type": "code",
   "execution_count": null,
   "metadata": {
    "dotnet_interactive": {
     "language": "fsharp"
    },
    "polyglot_notebook": {
     "kernelName": "fsharp"
    }
   },
   "outputs": [],
   "source": [
    "#!import ../../lib/fsharp/Notebooks.dib\n",
    "#!import ../../lib/fsharp/Testing.dib"
   ]
  },
  {
   "cell_type": "code",
   "execution_count": null,
   "metadata": {
    "dotnet_interactive": {
     "language": "fsharp"
    },
    "polyglot_notebook": {
     "kernelName": "fsharp"
    }
   },
   "outputs": [],
   "source": [
    "#!import ../../lib/spiral/common.fsx\n",
    "#!import ../../lib/spiral/date_time.fsx"
   ]
  },
  {
   "cell_type": "code",
   "execution_count": null,
   "metadata": {
    "dotnet_interactive": {
     "language": "fsharp"
    },
    "polyglot_notebook": {
     "kernelName": "fsharp"
    }
   },
   "outputs": [],
   "source": [
    "#if !WASM && !FABLE_COMPILER\n",
    "let Date_time = {|\n",
    "    new_guid_from_date_time =\n",
    "#if !INTERACTIVE\n",
    "        Date_time.new_guid_from_date_time\n",
    "#else\n",
    "        new_guid_from_date_time\n",
    "#endif\n",
    "|}\n",
    "#endif"
   ]
  },
  {
   "cell_type": "code",
   "execution_count": null,
   "metadata": {
    "dotnet_interactive": {
     "language": "fsharp"
    },
    "polyglot_notebook": {
     "kernelName": "fsharp"
    }
   },
   "outputs": [],
   "source": [
    "let nl = System.Environment.NewLine\n",
    "let q = @\"\"\"\""
   ]
  },
  {
   "cell_type": "code",
   "execution_count": null,
   "metadata": {
    "dotnet_interactive": {
     "language": "fsharp"
    },
    "polyglot_notebook": {
     "kernelName": "fsharp"
    }
   },
   "outputs": [],
   "source": [
    "let inline cons head tail = head :: tail"
   ]
  },
  {
   "cell_type": "code",
   "execution_count": null,
   "metadata": {
    "dotnet_interactive": {
     "language": "fsharp"
    },
    "polyglot_notebook": {
     "kernelName": "fsharp"
    }
   },
   "outputs": [],
   "source": [
    "module String =\n",
    "    let inline contains (value : string) (input : string) =\n",
    "        input.Contains value\n",
    "\n",
    "    let inline endsWith (value : string) (input : string) =\n",
    "        input.EndsWith value\n",
    "\n",
    "    let inline padLeft totalWidth paddingChar (input : string) =\n",
    "        input.PadLeft (totalWidth, paddingChar)\n",
    "\n",
    "    let inline replace (oldValue : string) (newValue : string) (input : string) =\n",
    "        input.Replace (oldValue, newValue)\n",
    "\n",
    "    let inline split separator (input : string) =\n",
    "        input.Split separator\n",
    "\n",
    "    let inline splitString (separator : string array) (input : string) =\n",
    "        input.Split (separator, System.StringSplitOptions.None)\n",
    "\n",
    "    let inline startsWith (value : string) (input : string) =\n",
    "        input.StartsWith value\n",
    "\n",
    "    let inline substring startIndex length (input : string) =\n",
    "        input.Substring (startIndex, length)\n",
    "\n",
    "    let inline toLower (input : string) =\n",
    "        input.ToLower ()\n",
    "\n",
    "    let inline toUpper (input : string) =\n",
    "        input.ToUpper ()\n",
    "\n",
    "    let inline trim (input : string) =\n",
    "        input.Trim ()\n",
    "\n",
    "    let inline trimEnd (trimChars : char array) (input : string) =\n",
    "        input.TrimEnd trimChars\n",
    "\n",
    "    let inline trimStart (trimChars : char array) (input : string) =\n",
    "        input.TrimStart trimChars\n",
    "\n",
    "\n",
    "    let ellipsis max value =\n",
    "        if value |> String.length <= max\n",
    "        then value\n",
    "        else $\"{value |> substring 0 max}...\""
   ]
  },
  {
   "cell_type": "markdown",
   "metadata": {},
   "source": [
    "## formatException"
   ]
  },
  {
   "cell_type": "code",
   "execution_count": null,
   "metadata": {
    "dotnet_interactive": {
     "language": "fsharp"
    },
    "polyglot_notebook": {
     "kernelName": "fsharp"
    }
   },
   "outputs": [],
   "source": [
    "let inline formatException (ex : exn) =\n",
    "    $\"{ex.GetType ()}: {ex.Message}\""
   ]
  },
  {
   "cell_type": "markdown",
   "metadata": {},
   "source": [
    "## memoize"
   ]
  },
  {
   "cell_type": "code",
   "execution_count": null,
   "metadata": {
    "dotnet_interactive": {
     "language": "fsharp"
    },
    "polyglot_notebook": {
     "kernelName": "fsharp"
    }
   },
   "outputs": [],
   "source": [
    "let inline memoize fn =\n",
    "    let result = lazy fn ()\n",
    "    fun () -> result.Value"
   ]
  },
  {
   "cell_type": "markdown",
   "metadata": {},
   "source": [
    "## TraceLevel"
   ]
  },
  {
   "cell_type": "code",
   "execution_count": null,
   "metadata": {
    "dotnet_interactive": {
     "language": "fsharp"
    },
    "polyglot_notebook": {
     "kernelName": "fsharp"
    }
   },
   "outputs": [],
   "source": [
    "type TraceLevel =\n",
    "    | Verbose\n",
    "    | Debug\n",
    "    | Info\n",
    "    | Warning\n",
    "    | Critical\n",
    "\n",
    "let inline getLocals () = \"\"\n",
    "\n",
    "let mutable traceEnabled = true\n",
    "let mutable traceCount = 0\n",
    "let mutable traceLevel = Verbose\n",
    "let mutable traceDump = false"
   ]
  },
  {
   "cell_type": "code",
   "execution_count": null,
   "metadata": {
    "dotnet_interactive": {
     "language": "fsharp"
    },
    "polyglot_notebook": {
     "kernelName": "fsharp"
    }
   },
   "outputs": [],
   "source": [
    "let testTraceLevel level =\n",
    "    traceEnabled && level >= traceLevel"
   ]
  },
  {
   "cell_type": "markdown",
   "metadata": {},
   "source": [
    "## traceRaw"
   ]
  },
  {
   "cell_type": "code",
   "execution_count": null,
   "metadata": {
    "dotnet_interactive": {
     "language": "fsharp"
    },
    "polyglot_notebook": {
     "kernelName": "fsharp"
    }
   },
   "outputs": [],
   "source": [
    "let rec traceRaw level fn =\n",
    "    if level |> testTraceLevel then\n",
    "        traceCount <- traceCount + 1\n",
    "\n",
    "        let text = $\"%s{fn ()}\"\n",
    "#if FABLE_COMPILER_RUST\n",
    "        Fable.Core.RustInterop.emitRustExpr () @\"println!(\"\"{}\"\", text)\"\n",
    "#else\n",
    "        System.Console.WriteLine text\n",
    "#endif\n",
    "\n",
    "#if !WASM && !FABLE_COMPILER\n",
    "        if traceDump then\n",
    "            try\n",
    "                let tmpPath = System.IO.Path.GetTempPath ()\n",
    "                let logDir = System.IO.Path.Combine (tmpPath, \"!polyglot\")\n",
    "                System.IO.Directory.CreateDirectory logDir |> ignore\n",
    "                let logFile = System.IO.Path.Combine (logDir, $\"{Date_time.new_guid_from_date_time System.DateTime.Now}.txt\")\n",
    "                System.IO.File.WriteAllTextAsync (logFile, text) |> Async.AwaitTask |> Async.RunSynchronously\n",
    "            with ex ->\n",
    "                traceRaw Critical (fun () -> $\"trace / ex: {ex |> formatException}\")\n",
    "#endif"
   ]
  },
  {
   "cell_type": "code",
   "execution_count": null,
   "metadata": {
    "dotnet_interactive": {
     "language": "fsharp"
    },
    "polyglot_notebook": {
     "kernelName": "fsharp"
    }
   },
   "outputs": [
    {
     "name": "stdout",
     "output_type": "stream",
     "text": [
      "test\n"
     ]
    }
   ],
   "source": [
    "//// test\n",
    "\n",
    "traceRaw Debug (fun () -> \"test\")"
   ]
  },
  {
   "cell_type": "markdown",
   "metadata": {},
   "source": [
    "## trace"
   ]
  },
  {
   "cell_type": "code",
   "execution_count": null,
   "metadata": {
    "dotnet_interactive": {
     "language": "fsharp"
    },
    "polyglot_notebook": {
     "kernelName": "fsharp"
    }
   },
   "outputs": [],
   "source": [
    "let private replStart =\n",
    "#if INTERACTIVE || !FABLE_COMPILER\n",
    "    fun () ->\n",
    "        if System.Reflection.Assembly.GetEntryAssembly().GetName().Name <> \"Microsoft.DotNet.Interactive.App\"\n",
    "        then Some System.DateTime.Now.Ticks\n",
    "        else None\n",
    "    |> memoize\n",
    "#else\n",
    "    fun () -> None : int64 option\n",
    "#endif\n",
    "\n",
    "let trace level fn getLocals =\n",
    "    fun () ->\n",
    "        let time =\n",
    "#if WASM\n",
    "            \"\"\n",
    "#else\n",
    "            match replStart () with\n",
    "            | Some replStart ->\n",
    "                let t = System.DateTime.Now.Ticks - replStart |> System.TimeSpan\n",
    "                System.DateTime (1, 1, 1, t.Hours, t.Minutes, t.Seconds, t.Milliseconds)\n",
    "            | None -> System.DateTime.Now\n",
    "            |> fun dateTime ->\n",
    "#if FABLE_COMPILER_RUST\n",
    "                \"hh:mm:ss\"\n",
    "#else\n",
    "                \"HH:mm:ss\"\n",
    "#endif\n",
    "                |> dateTime.ToString\n",
    "#endif\n",
    "        $\"{time} #{traceCount} [%A{level}] %s{fn ()} / %s{getLocals ()}\"\n",
    "        |> String.trimStart [||]\n",
    "        |> String.trimEnd [| ' '; '/' |]\n",
    "    |> traceRaw level\n",
    "\n",
    "let inline withTrace enabled fn =\n",
    "    let oldTraceEnabled = traceEnabled\n",
    "    try\n",
    "        traceEnabled <- enabled\n",
    "        fn ()\n",
    "    finally\n",
    "        traceEnabled <- oldTraceEnabled\n",
    "\n",
    "let inline withTraceEnabled fn =\n",
    "    withTrace true fn\n",
    "\n",
    "let inline withTraceDisabled fn =\n",
    "    withTrace false fn\n",
    "\n",
    "let inline withTraceLevel level fn =\n",
    "    let oldTraceLevel = traceLevel\n",
    "    try\n",
    "        traceLevel <- level\n",
    "        fn ()\n",
    "    finally\n",
    "        traceLevel <- oldTraceLevel\n",
    "\n",
    "let inline withTraceDump dump fn =\n",
    "    let oldTraceDump = traceDump\n",
    "    try\n",
    "        traceDump <- dump\n",
    "        fn ()\n",
    "    finally\n",
    "        traceDump <- oldTraceDump"
   ]
  },
  {
   "cell_type": "code",
   "execution_count": null,
   "metadata": {
    "dotnet_interactive": {
     "language": "fsharp"
    },
    "polyglot_notebook": {
     "kernelName": "fsharp"
    }
   },
   "outputs": [
    {
     "name": "stdout",
     "output_type": "stream",
     "text": [
      "00:00:00 #2 [Debug] test\n"
     ]
    }
   ],
   "source": [
    "//// test\n",
    "\n",
    "trace Debug (fun () -> \"test\") getLocals"
   ]
  }
 ],
 "metadata": {},
 "nbformat": 4,
 "nbformat_minor": 5
}