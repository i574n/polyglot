{
 "cells": [
  {
   "cell_type": "markdown",
   "metadata": {},
   "source": [
    "# Threading (Polyglot)"
   ]
  },
  {
   "cell_type": "code",
   "execution_count": null,
   "metadata": {
    "dotnet_interactive": {
     "language": "fsharp"
    },
    "polyglot_notebook": {
     "kernelName": "fsharp"
    }
   },
   "outputs": [],
   "source": [
    "#!import ../../lib/fsharp/Notebooks.dib\n",
    "#!import ../../lib/fsharp/Testing.dib"
   ]
  },
  {
   "cell_type": "code",
   "execution_count": null,
   "metadata": {
    "dotnet_interactive": {
     "language": "fsharp"
    },
    "polyglot_notebook": {
     "kernelName": "fsharp"
    }
   },
   "outputs": [],
   "source": [
    "#!import ../../lib/fsharp/Common.fs"
   ]
  },
  {
   "cell_type": "code",
   "execution_count": null,
   "metadata": {
    "dotnet_interactive": {
     "language": "fsharp"
    },
    "polyglot_notebook": {
     "kernelName": "fsharp"
    }
   },
   "outputs": [],
   "source": [
    "open Common"
   ]
  },
  {
   "cell_type": "markdown",
   "metadata": {},
   "source": [
    "## newDisposableToken"
   ]
  },
  {
   "cell_type": "code",
   "execution_count": null,
   "metadata": {
    "dotnet_interactive": {
     "language": "fsharp"
    },
    "polyglot_notebook": {
     "kernelName": "fsharp"
    }
   },
   "outputs": [],
   "source": [
    "let inline newDisposableToken (mergeToken: System.Threading.CancellationToken option) =\n",
    "    let cts = new System.Threading.CancellationTokenSource ()\n",
    "    let cts =\n",
    "        match mergeToken with\n",
    "        | None -> cts\n",
    "        | Some mergeToken ->\n",
    "            System.Threading.CancellationTokenSource.CreateLinkedTokenSource [| cts.Token; mergeToken |]\n",
    "    let disposable = newDisposable cts.Cancel\n",
    "    cts.Token, disposable"
   ]
  },
  {
   "cell_type": "code",
   "execution_count": null,
   "metadata": {
    "dotnet_interactive": {
     "language": "fsharp"
    },
    "polyglot_notebook": {
     "kernelName": "fsharp"
    }
   },
   "outputs": [
    {
     "name": "stdout",
     "output_type": "stream",
     "text": [
      "11\n"
     ]
    }
   ],
   "source": [
    "//// test\n",
    "\n",
    "let mutable counter = 0\n",
    "\n",
    "let inline run fn =\n",
    "    let token, disposable = newDisposableToken None\n",
    "    use _ = disposable\n",
    "    fn token\n",
    "    async {\n",
    "        fn token\n",
    "    }\n",
    "    |> Async.Start\n",
    "\n",
    "let inline fn (token : System.Threading.CancellationToken) =\n",
    "    counter <- counter + (if token.IsCancellationRequested then 10 else 1)\n",
    "\n",
    "async {\n",
    "    run fn\n",
    "    do! Async.Sleep 10\n",
    "    return counter\n",
    "}\n",
    "|> Async.RunSynchronously\n",
    "|> _equal 11"
   ]
  }
 ],
 "metadata": {},
 "nbformat": 4,
 "nbformat_minor": 5
}