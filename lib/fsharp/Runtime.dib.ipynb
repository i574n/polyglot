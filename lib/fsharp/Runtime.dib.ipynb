{
 "cells": [
  {
   "cell_type": "markdown",
   "metadata": {},
   "source": [
    "# Runtime (Polyglot)"
   ]
  },
  {
   "cell_type": "code",
   "execution_count": null,
   "metadata": {
    "dotnet_interactive": {
     "language": "fsharp"
    },
    "polyglot_notebook": {
     "kernelName": "fsharp"
    }
   },
   "outputs": [],
   "source": [
    "#r @\"../../../../../../../.nuget/packages/fsharp.control.asyncseq/3.2.1/lib/netstandard2.1/FSharp.Control.AsyncSeq.dll\"\n",
    "#r @\"../../../../../../../.nuget/packages/system.reactive/6.0.1-preview.1/lib/net6.0/System.Reactive.dll\"\n",
    "#r @\"../../../../../../../.nuget/packages/system.reactive.linq/6.0.1-preview.1/lib/netstandard2.0/System.Reactive.Linq.dll\"\n",
    "#r @\"../../../../../../../.nuget/packages/argu/6.2.4/lib/netstandard2.0/Argu.dll\""
   ]
  },
  {
   "cell_type": "code",
   "execution_count": null,
   "metadata": {
    "dotnet_interactive": {
     "language": "fsharp"
    },
    "polyglot_notebook": {
     "kernelName": "fsharp"
    }
   },
   "outputs": [],
   "source": [
    "#!import ../../lib/fsharp/Notebooks.dib\n",
    "#!import ../../lib/fsharp/Testing.dib"
   ]
  },
  {
   "cell_type": "code",
   "execution_count": null,
   "metadata": {
    "dotnet_interactive": {
     "language": "fsharp"
    },
    "polyglot_notebook": {
     "kernelName": "fsharp"
    }
   },
   "outputs": [],
   "source": [
    "#!import ../../lib/fsharp/Common.fs\n",
    "#!import ../../lib/fsharp/CommonFSharp.fs\n",
    "#!import ../../lib/fsharp/Async.fs\n",
    "#!import ../../lib/fsharp/AsyncSeq.fs\n",
    "#!import ../../lib/fsharp/Runtime.fs\n",
    "#!import ../../lib/fsharp/FileSystem.fs"
   ]
  },
  {
   "cell_type": "code",
   "execution_count": null,
   "metadata": {
    "dotnet_interactive": {
     "language": "fsharp"
    },
    "polyglot_notebook": {
     "kernelName": "fsharp"
    }
   },
   "outputs": [],
   "source": [
    "#if !INTERACTIVE\n",
    "open Lib\n",
    "#endif"
   ]
  },
  {
   "cell_type": "code",
   "execution_count": null,
   "metadata": {
    "dotnet_interactive": {
     "language": "fsharp"
    },
    "polyglot_notebook": {
     "kernelName": "fsharp"
    }
   },
   "outputs": [],
   "source": [
    "open Common"
   ]
  },
  {
   "cell_type": "code",
   "execution_count": null,
   "metadata": {
    "dotnet_interactive": {
     "language": "fsharp"
    },
    "polyglot_notebook": {
     "kernelName": "fsharp"
    }
   },
   "outputs": [],
   "source": [
    "//// test\n",
    "\n",
    "open SpiralFileSystem.Operators"
   ]
  },
  {
   "cell_type": "markdown",
   "metadata": {},
   "source": [
    "## parseArgs"
   ]
  },
  {
   "cell_type": "code",
   "execution_count": null,
   "metadata": {
    "dotnet_interactive": {
     "language": "fsharp"
    },
    "polyglot_notebook": {
     "kernelName": "fsharp"
    }
   },
   "outputs": [],
   "source": [
    "let inline parseArgs<'T when 'T :> Argu.IArgParserTemplate> args =\n",
    "    let assemblyName = System.Reflection.Assembly.GetEntryAssembly().GetName().Name\n",
    "    let errorHandler : Argu.IExiter =\n",
    "        if [ \"Microsoft.DotNet.Interactive.App\"; \"dotnet-repl\" ] |> List.contains assemblyName\n",
    "        then Argu.ExceptionExiter ()\n",
    "        else Argu.ProcessExiter (function Argu.ErrorCode.HelpText -> None | _ -> Some System.ConsoleColor.Red)\n",
    "\n",
    "    let parser =\n",
    "        Argu.ArgumentParser.Create<'T> (\n",
    "            programName = $\"{assemblyName}{SpiralPlatform.get_executable_suffix ()}\",\n",
    "            errorHandler = errorHandler\n",
    "        )\n",
    "\n",
    "    parser.ParseCommandLine args"
   ]
  },
  {
   "cell_type": "code",
   "execution_count": null,
   "metadata": {
    "dotnet_interactive": {
     "language": "fsharp"
    },
    "polyglot_notebook": {
     "kernelName": "fsharp"
    }
   },
   "outputs": [],
   "source": [
    "//// test\n",
    "\n",
    "[<RequireQualifiedAccess>]\n",
    "type Arguments =\n",
    "    | [<Argu.ArguAttributes.MainCommand; Argu.ArguAttributes.ExactlyOnce; Argu.ArguAttributes.Last>]\n",
    "        Paths of paths : string list\n",
    "\n",
    "    interface Argu.IArgParserTemplate with\n",
    "        member s.Usage =\n",
    "            match s with\n",
    "            | Paths _ -> nameof Paths"
   ]
  },
  {
   "cell_type": "code",
   "execution_count": null,
   "metadata": {
    "dotnet_interactive": {
     "language": "fsharp"
    },
    "polyglot_notebook": {
     "kernelName": "fsharp"
    }
   },
   "outputs": [
    {
     "data": {
      "text/plain": [
       "\"USAGE: dotnet-repl [--help] <paths>...\n",
       "\n",
       "PATHS:\n",
       "\n",
       "    <paths>...            Paths\n",
       "\n",
       "OPTIONS:\n",
       "\n",
       "    --help                display this list of options.\n",
       "\"\n"
      ]
     },
     "metadata": {},
     "output_type": "display_data"
    }
   ],
   "source": [
    "//// test\n",
    "\n",
    "Argu.ArgumentParser.Create<Arguments>().PrintUsage ()"
   ]
  },
  {
   "cell_type": "code",
   "execution_count": null,
   "metadata": {
    "dotnet_interactive": {
     "language": "fsharp"
    },
    "polyglot_notebook": {
     "kernelName": "fsharp"
    }
   },
   "outputs": [
    {
     "name": "stdout",
     "output_type": "stream",
     "text": [
      "<fun:it@3-3>\n",
      "\n",
      "\"Argu.ArguParseException: ERROR: missing parameter '<paths>...'.\n",
      "USAGE: dotnet-repl [--help] <paths>...\n",
      "\n",
      "PATHS:\n",
      "\n",
      "    <paths>...            Paths\n",
      "\n",
      "OPTIONS:\n",
      "\n",
      "    --help                display this list of options.\n",
      "\"\n",
      "\n"
     ]
    }
   ],
   "source": [
    "//// test\n",
    "\n",
    "fun () -> parseArgs<Arguments> [||] |> ignore\n",
    "|> _throwsC (fun ex _ ->\n",
    "    SpiralSm.format_exception ex\n",
    "    |> _stringContains \"Argu.ArguParseException: ERROR: missing parameter '<paths>...'.\"\n",
    ")"
   ]
  },
  {
   "cell_type": "code",
   "execution_count": null,
   "metadata": {
    "dotnet_interactive": {
     "language": "fsharp"
    },
    "polyglot_notebook": {
     "kernelName": "fsharp"
    }
   },
   "outputs": [],
   "source": [
    "let inline parseAllArgs<'T when 'T :> Argu.IArgParserTemplate> args =\n",
    "    args\n",
    "    |> parseArgs<'T>\n",
    "    |> fun results -> results.GetAllResults ()"
   ]
  },
  {
   "cell_type": "code",
   "execution_count": null,
   "metadata": {
    "dotnet_interactive": {
     "language": "fsharp"
    },
    "polyglot_notebook": {
     "kernelName": "fsharp"
    }
   },
   "outputs": [
    {
     "name": "stdout",
     "output_type": "stream",
     "text": [
      "[Paths [\"a b\"; \"c\"]]\n",
      "\n"
     ]
    }
   ],
   "source": [
    "//// test\n",
    "\n",
    "[<RequireQualifiedAccess>]\n",
    "type Arguments =\n",
    "    | [<Argu.ArguAttributes.MainCommand; Argu.ArguAttributes.ExactlyOnce; Argu.ArguAttributes.Last>]\n",
    "        Paths of paths : string list\n",
    "\n",
    "    interface Argu.IArgParserTemplate with\n",
    "        member s.Usage =\n",
    "            match s with\n",
    "            | Paths _ -> nameof Paths\n",
    "\n",
    "parseAllArgs<Arguments> [| \"a b\"; \"c\" |]\n",
    "|> _assertEqual [ Arguments.Paths [ \"a b\"; \"c\" ] ]"
   ]
  },
  {
   "cell_type": "code",
   "execution_count": null,
   "metadata": {
    "dotnet_interactive": {
     "language": "fsharp"
    },
    "polyglot_notebook": {
     "kernelName": "fsharp"
    }
   },
   "outputs": [],
   "source": [
    "let inline parseArgsMap<'T when 'T :> Argu.IArgParserTemplate> args =\n",
    "    args\n",
    "    |> parseAllArgs<'T>\n",
    "    |> List.groupBy CommonFSharp.getUnionCaseName<'T>\n",
    "    |> Map.ofList"
   ]
  },
  {
   "cell_type": "code",
   "execution_count": null,
   "metadata": {
    "dotnet_interactive": {
     "language": "fsharp"
    },
    "polyglot_notebook": {
     "kernelName": "fsharp"
    }
   },
   "outputs": [
    {
     "name": "stdout",
     "output_type": "stream",
     "text": [
      "map [(\"Paths\", [Paths [\"a b\"; \"c\"]])]\n",
      "\n"
     ]
    }
   ],
   "source": [
    "//// test\n",
    "\n",
    "parseArgsMap<Arguments> [| \"a b\"; \"c\" |]\n",
    "|> _assertEqual (\n",
    "    [ nameof Arguments.Paths, [ Arguments.Paths [ \"a b\"; \"c\" ] ] ]\n",
    "    |> Map.ofList\n",
    ")"
   ]
  }
 ],
 "metadata": {},
 "nbformat": 4,
 "nbformat_minor": 5
}