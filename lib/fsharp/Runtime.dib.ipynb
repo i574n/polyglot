{
 "cells": [
  {
   "cell_type": "markdown",
   "metadata": {},
   "source": [
    "# Runtime (Polyglot)"
   ]
  },
  {
   "cell_type": "code",
   "execution_count": null,
   "metadata": {
    "dotnet_interactive": {
     "language": "fsharp"
    },
    "polyglot_notebook": {
     "kernelName": "fsharp"
    }
   },
   "outputs": [],
   "source": [
    "#!import ../../lib/fsharp/Notebooks.dib\n",
    "#!import ../../lib/fsharp/Testing.dib"
   ]
  },
  {
   "cell_type": "code",
   "execution_count": null,
   "metadata": {
    "dotnet_interactive": {
     "language": "fsharp"
    },
    "polyglot_notebook": {
     "kernelName": "fsharp"
    }
   },
   "outputs": [],
   "source": [
    "#r @\"../../../../../../../.nuget/packages/fsharp.control.asyncseq/3.2.1/lib/netstandard2.1/FSharp.Control.AsyncSeq.dll\"\n",
    "#r @\"../../../../../../../.nuget/packages/system.reactive/6.0.1-preview.1/lib/net6.0/System.Reactive.dll\"\n",
    "#r @\"../../../../../../../.nuget/packages/system.reactive.linq/6.0.1-preview.1/lib/netstandard2.0/System.Reactive.Linq.dll\"\n",
    "#r @\"../../../../../../../.nuget/packages/argu/6.1.5/lib/netstandard2.0/Argu.dll\"\n",
    "#r @\"../../../../../../../.nuget/packages/system.commandline/2.0.0-beta4.22272.1/lib/net6.0/System.CommandLine.dll\""
   ]
  },
  {
   "cell_type": "code",
   "execution_count": null,
   "metadata": {
    "dotnet_interactive": {
     "language": "fsharp"
    },
    "polyglot_notebook": {
     "kernelName": "fsharp"
    }
   },
   "outputs": [],
   "source": [
    "#!import ../../lib/fsharp/Common.fs\n",
    "#!import ../../lib/fsharp/CommonFSharp.fs\n",
    "#!import ../../lib/fsharp/Async.fs\n",
    "#!import ../../lib/fsharp/AsyncSeq.fs\n",
    "#!import ../../lib/fsharp/Runtime.fs\n",
    "#!import ../../lib/fsharp/FileSystem.fs"
   ]
  },
  {
   "cell_type": "code",
   "execution_count": null,
   "metadata": {
    "dotnet_interactive": {
     "language": "fsharp"
    },
    "polyglot_notebook": {
     "kernelName": "fsharp"
    }
   },
   "outputs": [],
   "source": [
    "open Common"
   ]
  },
  {
   "cell_type": "code",
   "execution_count": null,
   "metadata": {
    "dotnet_interactive": {
     "language": "fsharp"
    },
    "polyglot_notebook": {
     "kernelName": "fsharp"
    }
   },
   "outputs": [],
   "source": [
    "//// test\n",
    "\n",
    "open FileSystem.Operators"
   ]
  },
  {
   "cell_type": "markdown",
   "metadata": {},
   "source": [
    "## isWindows"
   ]
  },
  {
   "cell_type": "code",
   "execution_count": null,
   "metadata": {
    "dotnet_interactive": {
     "language": "fsharp"
    },
    "polyglot_notebook": {
     "kernelName": "fsharp"
    }
   },
   "outputs": [],
   "source": [
    "let isWindows =\n",
    "    fun () ->\n",
    "        System.Runtime.InteropServices.RuntimeInformation.IsOSPlatform\n",
    "            System.Runtime.InteropServices.OSPlatform.Windows\n",
    "    |> memoize"
   ]
  },
  {
   "cell_type": "code",
   "execution_count": null,
   "metadata": {
    "dotnet_interactive": {
     "language": "fsharp"
    },
    "polyglot_notebook": {
     "kernelName": "fsharp"
    }
   },
   "outputs": [
    {
     "data": {
      "text/html": [
       "<div class=\"dni-plaintext\"><pre>False</pre></div><style>\n",
       ".dni-code-hint {\n",
       "    font-style: italic;\n",
       "    overflow: hidden;\n",
       "    white-space: nowrap;\n",
       "}\n",
       ".dni-treeview {\n",
       "    white-space: nowrap;\n",
       "}\n",
       ".dni-treeview td {\n",
       "    vertical-align: top;\n",
       "    text-align: start;\n",
       "}\n",
       "details.dni-treeview {\n",
       "    padding-left: 1em;\n",
       "}\n",
       "table td {\n",
       "    text-align: start;\n",
       "}\n",
       "table tr { \n",
       "    vertical-align: top; \n",
       "    margin: 0em 0px;\n",
       "}\n",
       "table tr td pre \n",
       "{ \n",
       "    vertical-align: top !important; \n",
       "    margin: 0em 0px !important;\n",
       "} \n",
       "table th {\n",
       "    text-align: start;\n",
       "}\n",
       "</style>"
      ]
     },
     "metadata": {},
     "output_type": "display_data"
    }
   ],
   "source": [
    "//// test\n",
    "\n",
    "isWindows ()"
   ]
  },
  {
   "cell_type": "markdown",
   "metadata": {},
   "source": [
    "## getExecutableSuffix"
   ]
  },
  {
   "cell_type": "code",
   "execution_count": null,
   "metadata": {
    "dotnet_interactive": {
     "language": "fsharp"
    },
    "polyglot_notebook": {
     "kernelName": "fsharp"
    }
   },
   "outputs": [],
   "source": [
    "let inline getExecutableSuffix () =\n",
    "    if isWindows ()\n",
    "    then \".exe\"\n",
    "    else \"\""
   ]
  },
  {
   "cell_type": "code",
   "execution_count": null,
   "metadata": {
    "dotnet_interactive": {
     "language": "fsharp"
    },
    "polyglot_notebook": {
     "kernelName": "fsharp"
    }
   },
   "outputs": [
    {
     "data": {
      "text/plain": []
     },
     "metadata": {},
     "output_type": "display_data"
    }
   ],
   "source": [
    "//// test\n",
    "\n",
    "getExecutableSuffix ()"
   ]
  },
  {
   "cell_type": "markdown",
   "metadata": {},
   "source": [
    "## splitCommand"
   ]
  },
  {
   "cell_type": "code",
   "execution_count": null,
   "metadata": {
    "dotnet_interactive": {
     "language": "fsharp"
    },
    "polyglot_notebook": {
     "kernelName": "fsharp"
    }
   },
   "outputs": [],
   "source": [
    "type private CommandParseStep =\n",
    "    | Start\n",
    "    | Path of quoted: bool\n",
    "    | Arguments\n",
    "\n",
    "let splitCommand (command: string) =\n",
    "    let rec loop (path, args) chars step =\n",
    "        match chars, step with\n",
    "        | ('\"' | '\\'') :: tail, _ when path = \"\" -> loop (path, args) tail (Path true)\n",
    "        | ('\"' | '\\'') :: tail, Path true -> loop (path, args) tail (Path false)\n",
    "        | ' ' :: tail, Path true -> loop ($\"{path} \", args) tail (Path true)\n",
    "        | ' ' :: tail, (Start | Path _) -> loop (path, args) tail Arguments\n",
    "        | char :: tail, Arguments -> loop (path, $\"{args}{char}\") tail Arguments\n",
    "        | char :: tail, _ -> loop ($\"{path}{char}\", args) tail step\n",
    "        | _, _ -> path |> String.replace @\"\\\" \"/\", args\n",
    "    loop (\"\", \"\") (command |> Seq.toList) Start"
   ]
  },
  {
   "cell_type": "code",
   "execution_count": null,
   "metadata": {
    "dotnet_interactive": {
     "language": "fsharp"
    },
    "polyglot_notebook": {
     "kernelName": "fsharp"
    }
   },
   "outputs": [
    {
     "name": "stdout",
     "output_type": "stream",
     "text": [
      "( ,  )\n",
      "( /a/b/c,  )\n",
      "( cat, file.txt )\n",
      "( ../../file.exe, file1.txt file2.txt )\n",
      "( c:/dir/file.exe, \"file1.txt file2.txt\" )\n",
      "( ../../dir name/file.exe, \"file 1.txt\" file2.txt )\n",
      "( ../../file 1.exe, -c \\\\\"echo 1\\\\\" )\n",
      "( ../../file, 1.exe -c \\\\\"echo 1\\\\\" )\n"
     ]
    }
   ],
   "source": [
    "//// test\n",
    "\n",
    "splitCommand \"\"\n",
    "|> _equal (\"\", \"\")\n",
    "\n",
    "splitCommand \"/a/b/c\"\n",
    "|> _equal (\"/a/b/c\", \"\")\n",
    "\n",
    "splitCommand \"cat file.txt\"\n",
    "|> _equal (\"cat\", \"file.txt\")\n",
    "\n",
    "splitCommand \"\"\"..\\..\\file.exe file1.txt file2.txt\"\"\"\n",
    "|> _equal (\"../../file.exe\", \"file1.txt file2.txt\")\n",
    "\n",
    "splitCommand @\"c:\\dir\\file.exe \"\"file1.txt file2.txt\"\"\"\n",
    "|> _equal (\"c:/dir/file.exe\", @\"\"\"file1.txt file2.txt\"\"\")\n",
    "\n",
    "splitCommand @\"\"\"..\\..\\dir name\\file.exe\"\" \"\"file 1.txt\"\" file2.txt\"\n",
    "|> _equal (\"../../dir name/file.exe\", @\"\"\"file 1.txt\"\" file2.txt\")\n",
    "\n",
    "splitCommand @\"\"\"..\\..\\file 1.exe\"\" -c \\\\\"\"echo 1\\\\\"\"\"\n",
    "|> _equal (\"../../file 1.exe\", @\"-c \\\\\"\"echo 1\\\\\"\"\")\n",
    "\n",
    "splitCommand @\"..\\..\\file 1.exe -c \\\\\"\"echo 1\\\\\"\"\"\n",
    "|> _equal (\"../../file\", @\"1.exe -c \\\\\"\"echo 1\\\\\"\"\")"
   ]
  },
  {
   "cell_type": "markdown",
   "metadata": {},
   "source": [
    "## executeAsync"
   ]
  },
  {
   "cell_type": "code",
   "execution_count": null,
   "metadata": {
    "dotnet_interactive": {
     "language": "fsharp"
    },
    "polyglot_notebook": {
     "kernelName": "fsharp"
    }
   },
   "outputs": [],
   "source": [
    "type ExecutionLine =\n",
    "    {\n",
    "        ProcessId : int\n",
    "        Line : string\n",
    "        Error : bool\n",
    "    }\n",
    "\n",
    "type ExecutionOptions =\n",
    "    {\n",
    "        Command : string\n",
    "        WorkingDirectory : string option\n",
    "        CancellationToken : System.Threading.CancellationToken option\n",
    "        OnLine : (ExecutionLine -> Async<unit>) option\n",
    "    }\n",
    "\n",
    "let inline executeWithOptionsAsync (options : ExecutionOptions) = async {\n",
    "    let fileName, arguments = options.Command |> splitCommand\n",
    "    let workingDirectory = options.WorkingDirectory |> Option.defaultValue \"\"\n",
    "\n",
    "    trace Debug (fun () -> $\"executeAsync / options: {options}\") getLocals\n",
    "\n",
    "    let startInfo = System.Diagnostics.ProcessStartInfo (\n",
    "        Arguments = arguments,\n",
    "        CreateNoWindow = true,\n",
    "        FileName = fileName,\n",
    "        RedirectStandardError = true,\n",
    "        RedirectStandardOutput = true,\n",
    "        StandardOutputEncoding = System.Text.Encoding.UTF8,\n",
    "        UseShellExecute = false,\n",
    "        WorkingDirectory = workingDirectory\n",
    "    )\n",
    "\n",
    "    use proc = new System.Diagnostics.Process (StartInfo = startInfo)\n",
    "    let output = System.Collections.Concurrent.ConcurrentStack<string> ()\n",
    "\n",
    "    let inline event error (e: System.Diagnostics.DataReceivedEventArgs) = async {\n",
    "        if e.Data <> null then\n",
    "            match options.OnLine with\n",
    "            | Some onLine ->\n",
    "                do!\n",
    "                    onLine\n",
    "                        {\n",
    "                            ProcessId = proc.Id\n",
    "                            Line = e.Data\n",
    "                            Error = error\n",
    "                        }\n",
    "            | None -> ()\n",
    "\n",
    "            trace\n",
    "                Verbose\n",
    "                (fun () -> $\"> {e.Data}\")\n",
    "                Common.getLocals\n",
    "\n",
    "            output.Push\n",
    "                $\"{\n",
    "                    if error then '['.ToString() else System.String.Empty\n",
    "                }{\n",
    "                    e.Data\n",
    "                }{\n",
    "                    if error then ']'.ToString() else System.String.Empty\n",
    "                }\"\n",
    "    }\n",
    "\n",
    "    proc.OutputDataReceived.Add (event false >> Async.StartImmediate)\n",
    "    proc.ErrorDataReceived.Add (event true >> Async.StartImmediate)\n",
    "\n",
    "    if proc.Start () |> not\n",
    "    then failwith $\"executeAsync / proc.Start () error\"\n",
    "\n",
    "    proc.BeginErrorReadLine ()\n",
    "    proc.BeginOutputReadLine ()\n",
    "\n",
    "    let! ct =\n",
    "        options.CancellationToken\n",
    "        |> Option.defaultValue System.Threading.CancellationToken.None\n",
    "        |> Async.mergeCancellationTokenWithDefaultAsync\n",
    "\n",
    "    use reg = ct.Register (fun _ ->\n",
    "        if not proc.HasExited then proc.Kill ()\n",
    "    )\n",
    "\n",
    "    let! exitCode = async {\n",
    "        try\n",
    "            do! proc.WaitForExitAsync ct |> Async.AwaitTask\n",
    "            return proc.ExitCode\n",
    "        with :? System.Threading.Tasks.TaskCanceledException as ex ->\n",
    "            trace Warning (fun () -> $\"executeAsync / WaitForExitAsync / ex: {ex |> printException}\") getLocals\n",
    "            ex |> printException |> output.Push\n",
    "            return System.Int32.MinValue\n",
    "    }\n",
    "\n",
    "    let output = output |> Seq.rev |> String.concat \"\\n\"\n",
    "\n",
    "    trace Debug (fun () ->\n",
    "        $\"executeAsync / exitCode: {exitCode} / output.Length: {output.Length}\"\n",
    "    ) getLocals\n",
    "\n",
    "    return exitCode, output\n",
    "}\n",
    "\n",
    "let inline executeAsync command =\n",
    "    executeWithOptionsAsync\n",
    "        {\n",
    "            Command = command\n",
    "            CancellationToken = None\n",
    "            OnLine = None\n",
    "            WorkingDirectory = None\n",
    "        }"
   ]
  },
  {
   "cell_type": "code",
   "execution_count": null,
   "metadata": {
    "dotnet_interactive": {
     "language": "fsharp"
    },
    "polyglot_notebook": {
     "kernelName": "fsharp"
    }
   },
   "outputs": [
    {
     "name": "stdout",
     "output_type": "stream",
     "text": [
      "00:00:00 #1 [Debug] executeAsync / options: { Command =\n",
      "   \"pwsh -c \"Get-Content /tmp/!dotnet-repl/20240214-1744-1535-3546-3ee7ddebcd9b/test.txt\"\"\n",
      "  WorkingDirectory = None\n",
      "  CancellationToken = None\n",
      "  OnLine = None }\n",
      "00:00:00 #2 [Verbose] > \u001B[31;1mGet-Content: \u001B[31;1mCannot find path '/tmp/!dotnet-repl/20240214-1744-1535-3546-3ee7ddebcd9b/test.txt' because it does not exist.\u001B[0m\n",
      "00:00:00 #3 [Debug] executeAsync / exitCode: 1 / output.Length: 142\n",
      "1\n",
      "[\u001B[31;1mGet-Content: \u001B[31;1mCannot find path '/tmp/!dotnet-repl/20240214-1744-1535-3546-3ee7ddebcd9b/test.txt' because it does not exist.\u001B[0m]\n",
      "00:00:00 #4 [Debug] executeAsync / options: { Command = \"pwsh -c \"Get-Content test.txt\"\"\n",
      "  WorkingDirectory =\n",
      "   Some \"/tmp/!dotnet-repl/20240214-1744-1535-3546-3ee7ddebcd9b\"\n",
      "  CancellationToken = None\n",
      "  OnLine = None }\n",
      "00:00:00 #5 [Verbose] > 0\n",
      "00:00:01 #6 [Debug] executeAsync / exitCode: 0 / output.Length: 1\n",
      "0\n",
      "0\n",
      "True\n"
     ]
    }
   ],
   "source": [
    "//// test\n",
    "\n",
    "let tempFolder = FileSystem.createTempDirectory ()\n",
    "let fileName = \"test.txt\"\n",
    "let path = tempFolder </> fileName\n",
    "\n",
    "async {\n",
    "    let! exitCode, result = executeAsync @$\"pwsh -c \"\"Get-Content {path}\"\"\"\n",
    "    exitCode |> _equal 1\n",
    "    result |> _stringContains \"not exist\"\n",
    "\n",
    "    do! \"0\" |> FileSystem.writeAllTextAsync path\n",
    "\n",
    "    return!\n",
    "        executeWithOptionsAsync\n",
    "            {\n",
    "                Command = @$\"pwsh -c \"\"Get-Content {fileName}\"\"\"\n",
    "                CancellationToken = None\n",
    "                OnLine = None\n",
    "                WorkingDirectory = Some tempFolder\n",
    "            }\n",
    "\n",
    "}\n",
    "|> Async.runWithTimeout 10000\n",
    "|> function\n",
    "    | Some (exitCode, output) ->\n",
    "        exitCode |> _equal 0\n",
    "        output |> _equal \"0\"\n",
    "\n",
    "        true\n",
    "    | _ -> false\n",
    "|> _equal true"
   ]
  },
  {
   "cell_type": "code",
   "execution_count": null,
   "metadata": {
    "dotnet_interactive": {
     "language": "fsharp"
    },
    "polyglot_notebook": {
     "kernelName": "fsharp"
    }
   },
   "outputs": [
    {
     "name": "stdout",
     "output_type": "stream",
     "text": [
      "00:00:01 #7 [Debug] 1\n",
      "00:00:01 #9 [Debug] 2\n",
      "00:00:01 #8 [Debug] executeAsync / options: { Command =\n",
      "   \"pwsh -c \"Get-Content /tmp/!dotnet-repl/20240214-1744-1669-6909-6b2984a051e6/test.txt\"\"\n",
      "  WorkingDirectory = None\n",
      "  CancellationToken = Some System.Threading.CancellationToken\n",
      "  OnLine = None }\n",
      "00:00:01 #10 [Debug] 3\n",
      "00:00:01 #11 [Debug] 4\n",
      "00:00:01 #12 [Warning] executeAsync / WaitForExitAsync / ex: System.Threading.Tasks.TaskCanceledException: A task was canceled.\n",
      "00:00:01 #13 [Debug] executeAsync / exitCode: -2147483648 / output.Length: 66\n",
      "00:00:01 #14 [Debug] 5\n",
      "-2147483648\n",
      "System.Threading.Tasks.TaskCanceledException: A task was canceled.\n",
      "True\n"
     ]
    }
   ],
   "source": [
    "//// test\n",
    "\n",
    "let tempFolder = FileSystem.createTempDirectory ()\n",
    "let path = tempFolder </> \"test.txt\"\n",
    "\n",
    "let command = @$\"pwsh -c \"\"Get-Content {path}\"\"\"\n",
    "\n",
    "async {\n",
    "    do! \"0\" |> FileSystem.writeAllTextAsync path\n",
    "    let cts = new System.Threading.CancellationTokenSource ()\n",
    "    trace Debug (fun () -> \"1\") getLocals\n",
    "    let! result =\n",
    "        executeWithOptionsAsync\n",
    "            {\n",
    "                Command = command\n",
    "                CancellationToken = Some cts.Token\n",
    "                OnLine = None\n",
    "                WorkingDirectory = None\n",
    "            }\n",
    "        |> Async.StartChild\n",
    "    trace Debug (fun () -> \"2\") getLocals\n",
    "    do! Async.Sleep 100\n",
    "    trace Debug (fun () -> \"3\") getLocals\n",
    "    cts.Cancel ()\n",
    "    trace Debug (fun () -> \"4\") getLocals\n",
    "    let! exitCode, output = result\n",
    "    trace Debug (fun () -> \"5\") getLocals\n",
    "    return exitCode, output\n",
    "}\n",
    "|> Async.runWithTimeout 10000\n",
    "|> function\n",
    "    | Some (exitCode, output) ->\n",
    "        exitCode |> _equal -2147483648\n",
    "        output |> _equal \"System.Threading.Tasks.TaskCanceledException: A task was canceled.\"\n",
    "\n",
    "        true\n",
    "    | _ -> false\n",
    "|> _equal true"
   ]
  },
  {
   "cell_type": "markdown",
   "metadata": {},
   "source": [
    "## splitArgs"
   ]
  },
  {
   "cell_type": "code",
   "execution_count": null,
   "metadata": {
    "dotnet_interactive": {
     "language": "fsharp"
    },
    "polyglot_notebook": {
     "kernelName": "fsharp"
    }
   },
   "outputs": [],
   "source": [
    "let inline splitArgs commandLine =\n",
    "    commandLine\n",
    "    |> System.CommandLine.Parsing.CommandLineStringSplitter.Instance.Split"
   ]
  },
  {
   "cell_type": "code",
   "execution_count": null,
   "metadata": {
    "dotnet_interactive": {
     "language": "fsharp"
    },
    "polyglot_notebook": {
     "kernelName": "fsharp"
    }
   },
   "outputs": [
    {
     "name": "stdout",
     "output_type": "stream",
     "text": [
      "[ a, b, c d, e ]\n"
     ]
    }
   ],
   "source": [
    "//// test\n",
    "\n",
    "\"\"\"a b \"c d\" e\"\"\"\n",
    "|> splitArgs\n",
    "|> Seq.toArray\n",
    "|> _equal [| \"a\"; \"b\"; \"c d\"; \"e\" |]"
   ]
  },
  {
   "cell_type": "markdown",
   "metadata": {},
   "source": [
    "## parseArgs"
   ]
  },
  {
   "cell_type": "code",
   "execution_count": null,
   "metadata": {
    "dotnet_interactive": {
     "language": "fsharp"
    },
    "polyglot_notebook": {
     "kernelName": "fsharp"
    }
   },
   "outputs": [],
   "source": [
    "let inline parseArgs<'T when 'T :> Argu.IArgParserTemplate> args =\n",
    "    let assemblyName = System.Reflection.Assembly.GetEntryAssembly().GetName().Name\n",
    "    let errorHandler : Argu.IExiter =\n",
    "        if [ \"Microsoft.DotNet.Interactive.App\"; \"dotnet-repl\" ] |> List.contains assemblyName\n",
    "        then Argu.ExceptionExiter ()\n",
    "        else Argu.ProcessExiter (function Argu.ErrorCode.HelpText -> None | _ -> Some System.ConsoleColor.Red)\n",
    "\n",
    "    let parser =\n",
    "        Argu.ArgumentParser.Create<'T> (\n",
    "            programName = $\"{assemblyName}{getExecutableSuffix ()}\",\n",
    "            errorHandler = errorHandler\n",
    "        )\n",
    "\n",
    "    parser.ParseCommandLine args"
   ]
  },
  {
   "cell_type": "code",
   "execution_count": null,
   "metadata": {
    "dotnet_interactive": {
     "language": "fsharp"
    },
    "polyglot_notebook": {
     "kernelName": "fsharp"
    }
   },
   "outputs": [],
   "source": [
    "//// test\n",
    "\n",
    "[<RequireQualifiedAccess>]\n",
    "type Arguments =\n",
    "    | [<Argu.ArguAttributes.MainCommand; Argu.ArguAttributes.ExactlyOnce; Argu.ArguAttributes.Last>]\n",
    "        Paths of paths : string list\n",
    "\n",
    "    interface Argu.IArgParserTemplate with\n",
    "        member s.Usage =\n",
    "            match s with\n",
    "            | Paths _ -> nameof Paths"
   ]
  },
  {
   "cell_type": "code",
   "execution_count": null,
   "metadata": {
    "dotnet_interactive": {
     "language": "fsharp"
    },
    "polyglot_notebook": {
     "kernelName": "fsharp"
    }
   },
   "outputs": [
    {
     "data": {
      "text/plain": [
       "USAGE: dotnet [--help] <paths>...\n",
       "\n",
       "PATHS:\n",
       "\n",
       "    <paths>...            Paths\n",
       "\n",
       "OPTIONS:\n",
       "\n",
       "    --help                display this list of options.\n"
      ]
     },
     "metadata": {},
     "output_type": "display_data"
    }
   ],
   "source": [
    "//// test\n",
    "\n",
    "Argu.ArgumentParser.Create<Arguments>().PrintUsage ()"
   ]
  },
  {
   "cell_type": "code",
   "execution_count": null,
   "metadata": {
    "dotnet_interactive": {
     "language": "fsharp"
    },
    "polyglot_notebook": {
     "kernelName": "fsharp"
    }
   },
   "outputs": [
    {
     "name": "stdout",
     "output_type": "stream",
     "text": [
      "FSI_0030+it@3-246\n",
      "Argu.ArguParseException: ERROR: missing parameter '<paths>...'.\n",
      "USAGE: dotnet-repl [--help] <paths>...\n",
      "\n",
      "PATHS:\n",
      "\n",
      "    <paths>...            Paths\n",
      "\n",
      "OPTIONS:\n",
      "\n",
      "    --help                display this list of options.\n",
      "\n"
     ]
    }
   ],
   "source": [
    "//// test\n",
    "\n",
    "fun () -> parseArgs<Arguments> [||] |> ignore\n",
    "|> _throwsC (fun ex _ ->\n",
    "    printException ex\n",
    "    |> _stringContains \"Argu.ArguParseException: ERROR: missing parameter '<paths>...'.\"\n",
    ")"
   ]
  },
  {
   "cell_type": "code",
   "execution_count": null,
   "metadata": {
    "dotnet_interactive": {
     "language": "fsharp"
    },
    "polyglot_notebook": {
     "kernelName": "fsharp"
    }
   },
   "outputs": [],
   "source": [
    "let inline parseAllArgs<'T when 'T :> Argu.IArgParserTemplate> args =\n",
    "    args\n",
    "    |> parseArgs<'T>\n",
    "    |> fun results -> results.GetAllResults ()"
   ]
  },
  {
   "cell_type": "code",
   "execution_count": null,
   "metadata": {
    "dotnet_interactive": {
     "language": "fsharp"
    },
    "polyglot_notebook": {
     "kernelName": "fsharp"
    }
   },
   "outputs": [
    {
     "name": "stdout",
     "output_type": "stream",
     "text": [
      "FSharpList<Arguments>\n",
      "      - paths: [ a b, c ]\n"
     ]
    }
   ],
   "source": [
    "//// test\n",
    "\n",
    "[<RequireQualifiedAccess>]\n",
    "type Arguments =\n",
    "    | [<Argu.ArguAttributes.MainCommand; Argu.ArguAttributes.ExactlyOnce; Argu.ArguAttributes.Last>]\n",
    "        Paths of paths : string list\n",
    "\n",
    "    interface Argu.IArgParserTemplate with\n",
    "        member s.Usage =\n",
    "            match s with\n",
    "            | Paths _ -> nameof Paths\n",
    "\n",
    "parseAllArgs<Arguments> [| \"a b\"; \"c\" |]\n",
    "|> _equal [ Arguments.Paths [ \"a b\"; \"c\" ] ]"
   ]
  },
  {
   "cell_type": "code",
   "execution_count": null,
   "metadata": {
    "dotnet_interactive": {
     "language": "fsharp"
    },
    "polyglot_notebook": {
     "kernelName": "fsharp"
    }
   },
   "outputs": [],
   "source": [
    "let inline parseArgsMap<'T when 'T :> Argu.IArgParserTemplate> args =\n",
    "    args\n",
    "    |> parseAllArgs<'T>\n",
    "    |> List.groupBy CommonFSharp.getUnionCaseName<'T>\n",
    "    |> Map.ofList"
   ]
  },
  {
   "cell_type": "code",
   "execution_count": null,
   "metadata": {
    "dotnet_interactive": {
     "language": "fsharp"
    },
    "polyglot_notebook": {
     "kernelName": "fsharp"
    }
   },
   "outputs": [
    {
     "name": "stdout",
     "output_type": "stream",
     "text": [
      "FSharpMap<String,FSharpList<Arguments>>\n",
      "      - Key: Paths\n",
      "        Value: FSharpList<Arguments>\n",
      "          - paths: [ a b, c ]\n"
     ]
    }
   ],
   "source": [
    "//// test\n",
    "\n",
    "parseArgsMap<Arguments> [| \"a b\"; \"c\" |]\n",
    "|> _equal (\n",
    "    [ nameof Arguments.Paths, [ Arguments.Paths [ \"a b\"; \"c\" ] ] ]\n",
    "    |> Map.ofList\n",
    ")"
   ]
  }
 ],
 "metadata": {},
 "nbformat": 4,
 "nbformat_minor": 5
}