{
 "cells": [
  {
   "cell_type": "markdown",
   "metadata": {},
   "source": [
    "# optionm"
   ]
  },
  {
   "cell_type": "code",
   "execution_count": null,
   "metadata": {
    "dotnet_interactive": {
     "language": "spiral"
    },
    "polyglot_notebook": {
     "kernelName": "spiral"
    }
   },
   "outputs": [
    {
     "name": "stdout",
     "output_type": "stream",
     "text": [
      "()\n",
      "\n"
     ]
    }
   ],
   "source": [
    "//// test\n",
    "\n",
    "open testing"
   ]
  },
  {
   "cell_type": "code",
   "execution_count": null,
   "metadata": {
    "dotnet_interactive": {
     "language": "spiral"
    },
    "polyglot_notebook": {
     "kernelName": "spiral"
    }
   },
   "outputs": [
    {
     "name": "stdout",
     "output_type": "stream",
     "text": [
      "()\n",
      "\n"
     ]
    }
   ],
   "source": [
    "open rust_operators"
   ]
  },
  {
   "cell_type": "markdown",
   "metadata": {},
   "source": [
    "## default_value"
   ]
  },
  {
   "cell_type": "code",
   "execution_count": null,
   "metadata": {
    "dotnet_interactive": {
     "language": "spiral"
    },
    "polyglot_notebook": {
     "kernelName": "spiral"
    }
   },
   "outputs": [
    {
     "name": "stdout",
     "output_type": "stream",
     "text": [
      "()\n",
      "\n"
     ]
    }
   ],
   "source": [
    "inl default_value d =\n",
    "    optionm.defaultWith d"
   ]
  },
  {
   "cell_type": "code",
   "execution_count": null,
   "metadata": {
    "dotnet_interactive": {
     "language": "spiral"
    },
    "polyglot_notebook": {
     "kernelName": "spiral"
    }
   },
   "outputs": [
    {
     "name": "stdout",
     "output_type": "stream",
     "text": [
      "let rec method0 () : unit =\n",
      "    let v0 : string = \"assert_eq\"\n",
      "    let v1 : string = $\"{v0} / actual: %A{3} / expected: %A{3}\"\n",
      "    System.Console.WriteLine v1\n",
      "    ()\n",
      "method0()\n",
      "\n",
      "assert_eq / actual: 3 / expected: 3\n"
     ]
    }
   ],
   "source": [
    "//// test\n",
    "\n",
    "None\n",
    "|> default_value 3i32\n",
    "|> _assert_eq 3i32"
   ]
  },
  {
   "cell_type": "markdown",
   "metadata": {},
   "source": [
    "## (/??)"
   ]
  },
  {
   "cell_type": "code",
   "execution_count": null,
   "metadata": {
    "dotnet_interactive": {
     "language": "spiral"
    },
    "polyglot_notebook": {
     "kernelName": "spiral"
    }
   },
   "outputs": [
    {
     "name": "stdout",
     "output_type": "stream",
     "text": [
      "()\n",
      "\n"
     ]
    }
   ],
   "source": [
    "inl (/??) a b =\n",
    "    a |> default_value b"
   ]
  },
  {
   "cell_type": "code",
   "execution_count": null,
   "metadata": {
    "dotnet_interactive": {
     "language": "spiral"
    },
    "polyglot_notebook": {
     "kernelName": "spiral"
    }
   },
   "outputs": [
    {
     "name": "stdout",
     "output_type": "stream",
     "text": [
      "let rec method0 () : unit =\n",
      "    let v0 : string = \"assert_eq\"\n",
      "    let v1 : string = $\"{v0} / actual: %A{3} / expected: %A{3}\"\n",
      "    System.Console.WriteLine v1\n",
      "    ()\n",
      "method0()\n",
      "\n",
      "assert_eq / actual: 3 / expected: 3\n"
     ]
    }
   ],
   "source": [
    "//// test\n",
    "\n",
    "None /?? 3i32\n",
    "|> _assert_eq 3i32"
   ]
  },
  {
   "cell_type": "markdown",
   "metadata": {},
   "source": [
    "## default_with"
   ]
  },
  {
   "cell_type": "code",
   "execution_count": null,
   "metadata": {
    "dotnet_interactive": {
     "language": "spiral"
    },
    "polyglot_notebook": {
     "kernelName": "spiral"
    }
   },
   "outputs": [
    {
     "name": "stdout",
     "output_type": "stream",
     "text": [
      "()\n",
      "\n"
     ]
    }
   ],
   "source": [
    "inl default_with fn = function\n",
    "    | Some x => x\n",
    "    | None => fn ()"
   ]
  },
  {
   "cell_type": "code",
   "execution_count": null,
   "metadata": {
    "dotnet_interactive": {
     "language": "spiral"
    },
    "polyglot_notebook": {
     "kernelName": "spiral"
    }
   },
   "outputs": [
    {
     "name": "stdout",
     "output_type": "stream",
     "text": [
      "let rec method0 () : unit =\n",
      "    let v0 : string = \"assert_eq\"\n",
      "    let v1 : string = $\"{v0} / actual: %A{3} / expected: %A{3}\"\n",
      "    System.Console.WriteLine v1\n",
      "    ()\n",
      "method0()\n",
      "\n",
      "assert_eq / actual: 3 / expected: 3\n"
     ]
    }
   ],
   "source": [
    "//// test\n",
    "\n",
    "None\n",
    "|> default_with fun () => 3i32\n",
    "|> _assert_eq 3i32"
   ]
  },
  {
   "cell_type": "markdown",
   "metadata": {},
   "source": [
    "## choose"
   ]
  },
  {
   "cell_type": "code",
   "execution_count": null,
   "metadata": {
    "dotnet_interactive": {
     "language": "spiral"
    },
    "polyglot_notebook": {
     "kernelName": "spiral"
    }
   },
   "outputs": [
    {
     "name": "stdout",
     "output_type": "stream",
     "text": [
      "()\n",
      "\n"
     ]
    }
   ],
   "source": [
    "inl choose fn a b =\n",
    "    match a, b with\n",
    "    | Some x, Some y => fn x y |> Some\n",
    "    | _ => None"
   ]
  },
  {
   "cell_type": "code",
   "execution_count": null,
   "metadata": {
    "dotnet_interactive": {
     "language": "spiral"
    },
    "polyglot_notebook": {
     "kernelName": "spiral"
    }
   },
   "outputs": [
    {
     "name": "stdout",
     "output_type": "stream",
     "text": [
      "type [<Struct>] US0 =\n",
      "    | US0_0 of f0_0 : int32\n",
      "    | US0_1\n",
      "let rec method0 () : unit =\n",
      "    let v3 : string = \"assert_eq\"\n",
      "    let v4 : US0 = US0_0(5)\n",
      "    let v5 : US0 = US0_0(5)\n",
      "    let v6 : string = $\"{v3} / actual: %A{v4} / expected: %A{v5}\"\n",
      "    System.Console.WriteLine v6\n",
      "    ()\n",
      "method0()\n",
      "\n",
      "assert_eq / actual: US0_0 5 / expected: US0_0 5\n"
     ]
    }
   ],
   "source": [
    "//// test\n",
    "\n",
    "(Some 2i32, Some 3)\n",
    "||> choose (+)\n",
    "|> _assert_eq (Some 5)"
   ]
  },
  {
   "cell_type": "markdown",
   "metadata": {},
   "source": [
    "## iter"
   ]
  },
  {
   "cell_type": "code",
   "execution_count": null,
   "metadata": {
    "dotnet_interactive": {
     "language": "spiral"
    },
    "polyglot_notebook": {
     "kernelName": "spiral"
    }
   },
   "outputs": [
    {
     "name": "stdout",
     "output_type": "stream",
     "text": [
      "()\n",
      "\n"
     ]
    }
   ],
   "source": [
    "inl iter fn = function\n",
    "    | Some x => fn x\n",
    "    | None => ()"
   ]
  },
  {
   "cell_type": "code",
   "execution_count": null,
   "metadata": {
    "dotnet_interactive": {
     "language": "spiral"
    },
    "polyglot_notebook": {
     "kernelName": "spiral"
    }
   },
   "outputs": [
    {
     "name": "stdout",
     "output_type": "stream",
     "text": [
      "type Mut0 = {mutable l0 : int32}\n",
      "let rec method1 (v0 : bool) : bool =\n",
      "    v0\n",
      "and method0 () : unit =\n",
      "    let v0 : Mut0 = {l0 = 1} : Mut0\n",
      "    let v1 : int32 = v0.l0\n",
      "    let v2 : int32 = v1 + 1\n",
      "    v0.l0 <- v2\n",
      "    let v3 : int32 = v0.l0\n",
      "    let v4 : bool = v3 = 2\n",
      "    let v6 : bool =\n",
      "        if v4 then\n",
      "            true\n",
      "        else\n",
      "            method1(v4)\n",
      "    let v7 : string = \"assert_eq\"\n",
      "    let v8 : string = $\"{v7} / actual: %A{v3} / expected: %A{2}\"\n",
      "    System.Console.WriteLine v8\n",
      "    let v9 : bool = v6 = false\n",
      "    if v9 then\n",
      "        failwith<unit> v8\n",
      "method0()\n",
      "\n",
      "assert_eq / actual: 2 / expected: 2\n"
     ]
    }
   ],
   "source": [
    "//// test\n",
    "\n",
    "inl n = mut 1i32\n",
    "inl fn =\n",
    "    fun n' =>\n",
    "        n <- *n + n'\n",
    "Some 1i32 |> iter fn\n",
    "None |> iter fn\n",
    "*n\n",
    "|> _assert_eq 2i32"
   ]
  },
  {
   "cell_type": "markdown",
   "metadata": {},
   "source": [
    "## option'"
   ]
  },
  {
   "cell_type": "code",
   "execution_count": null,
   "metadata": {
    "dotnet_interactive": {
     "language": "spiral"
    },
    "polyglot_notebook": {
     "kernelName": "spiral"
    }
   },
   "outputs": [
    {
     "name": "stdout",
     "output_type": "stream",
     "text": [
      "()\n",
      "\n"
     ]
    }
   ],
   "source": [
    "nominal option' t = $\"`t option\""
   ]
  },
  {
   "cell_type": "markdown",
   "metadata": {},
   "source": [
    "## none'"
   ]
  },
  {
   "cell_type": "code",
   "execution_count": null,
   "metadata": {
    "dotnet_interactive": {
     "language": "spiral"
    },
    "polyglot_notebook": {
     "kernelName": "spiral"
    }
   },
   "outputs": [
    {
     "name": "stdout",
     "output_type": "stream",
     "text": [
      "()\n",
      "\n"
     ]
    }
   ],
   "source": [
    "inl none' forall t. () : option' t =\n",
    "    $'None'"
   ]
  },
  {
   "cell_type": "markdown",
   "metadata": {},
   "source": [
    "## some'"
   ]
  },
  {
   "cell_type": "code",
   "execution_count": null,
   "metadata": {
    "dotnet_interactive": {
     "language": "spiral"
    },
    "polyglot_notebook": {
     "kernelName": "spiral"
    }
   },
   "outputs": [
    {
     "name": "stdout",
     "output_type": "stream",
     "text": [
      "()\n",
      "\n"
     ]
    }
   ],
   "source": [
    "inl some' forall t. (x : t) : option' t =\n",
    "    $'Some !x '"
   ]
  },
  {
   "cell_type": "markdown",
   "metadata": {},
   "source": [
    "## default_value'"
   ]
  },
  {
   "cell_type": "code",
   "execution_count": null,
   "metadata": {
    "dotnet_interactive": {
     "language": "spiral"
    },
    "polyglot_notebook": {
     "kernelName": "spiral"
    }
   },
   "outputs": [
    {
     "name": "stdout",
     "output_type": "stream",
     "text": [
      "()\n",
      "\n"
     ]
    }
   ],
   "source": [
    "inl default_value' forall t. (value : t) (x : option' t) : t =\n",
    "    $'!x |> Option.defaultValue !value '"
   ]
  },
  {
   "cell_type": "markdown",
   "metadata": {},
   "source": [
    "## try'"
   ]
  },
  {
   "cell_type": "code",
   "execution_count": null,
   "metadata": {
    "dotnet_interactive": {
     "language": "spiral"
    },
    "polyglot_notebook": {
     "kernelName": "spiral"
    }
   },
   "outputs": [
    {
     "name": "stdout",
     "output_type": "stream",
     "text": [
      "()\n",
      "\n"
     ]
    }
   ],
   "source": [
    "inl try' forall t. (x : option' t) : t =\n",
    "    !\\\\(x, $'\"$0?\"')"
   ]
  },
  {
   "cell_type": "markdown",
   "metadata": {},
   "source": [
    "## map"
   ]
  },
  {
   "cell_type": "code",
   "execution_count": null,
   "metadata": {
    "dotnet_interactive": {
     "language": "spiral"
    },
    "polyglot_notebook": {
     "kernelName": "spiral"
    }
   },
   "outputs": [
    {
     "name": "stdout",
     "output_type": "stream",
     "text": [
      "()\n",
      "\n"
     ]
    }
   ],
   "source": [
    "inl map forall t u. (fn : t -> u) (x : option' t) : option' u =\n",
    "    inl result : option' u = none' ()\n",
    "    $'let _!result = ref !result '\n",
    "    $'match !x with'\n",
    "    $'| Some x -> ('\n",
    "    $'(fun () ->'\n",
    "    $'(fun () ->'\n",
    "    inl x = dyn $'x'\n",
    "    x |> fn |> emit_unit\n",
    "    $')'\n",
    "    $\"|> fun x -> x () |> Some\"\n",
    "    $') () ) | None -> None'\n",
    "    $\"|> fun x -> _!result.Value <- x\"\n",
    "    $'_!result.Value '"
   ]
  },
  {
   "cell_type": "markdown",
   "metadata": {},
   "source": [
    "## box"
   ]
  },
  {
   "cell_type": "code",
   "execution_count": null,
   "metadata": {
    "dotnet_interactive": {
     "language": "spiral"
    },
    "polyglot_notebook": {
     "kernelName": "spiral"
    }
   },
   "outputs": [
    {
     "name": "stdout",
     "output_type": "stream",
     "text": [
      "()\n",
      "\n"
     ]
    }
   ],
   "source": [
    "inl box forall t. (x : option t) : option' t =\n",
    "    // x\n",
    "    // |> optionm.map some'\n",
    "    // |> default_with none'\n",
    "    match x with\n",
    "    | Some x => some' x\n",
    "    | None => none' ()"
   ]
  },
  {
   "cell_type": "markdown",
   "metadata": {},
   "source": [
    "## map'"
   ]
  },
  {
   "cell_type": "code",
   "execution_count": null,
   "metadata": {
    "dotnet_interactive": {
     "language": "spiral"
    },
    "polyglot_notebook": {
     "kernelName": "spiral"
    }
   },
   "outputs": [
    {
     "name": "stdout",
     "output_type": "stream",
     "text": [
      "()\n",
      "\n"
     ]
    }
   ],
   "source": [
    "inl map' forall t u. (fn : t -> u) (x : option' t) : option' u =\n",
    "    (!\\($'\"true; let _result = !x.map(|x| { //\"') : bool) |> ignore\n",
    "    (!\\\\(fn !\\($'\"x\"'), $'\"true; $0 })\"') : bool) |> ignore\n",
    "    !\\($'\"_result\"')"
   ]
  },
  {
   "cell_type": "markdown",
   "metadata": {},
   "source": [
    "## map''"
   ]
  },
  {
   "cell_type": "code",
   "execution_count": null,
   "metadata": {
    "dotnet_interactive": {
     "language": "spiral"
    },
    "polyglot_notebook": {
     "kernelName": "spiral"
    }
   },
   "outputs": [
    {
     "name": "stdout",
     "output_type": "stream",
     "text": [
      "()\n",
      "\n"
     ]
    }
   ],
   "source": [
    "inl map'' forall t u. (fn : t -> u) (x : option' t) : option' u =\n",
    "    $'!x |> Option.map !fn '"
   ]
  },
  {
   "cell_type": "markdown",
   "metadata": {},
   "source": [
    "## unbox"
   ]
  },
  {
   "cell_type": "code",
   "execution_count": null,
   "metadata": {
    "dotnet_interactive": {
     "language": "spiral"
    },
    "polyglot_notebook": {
     "kernelName": "spiral"
    }
   },
   "outputs": [
    {
     "name": "stdout",
     "output_type": "stream",
     "text": [
      "()\n",
      "\n"
     ]
    }
   ],
   "source": [
    "inl unbox forall t. (x : option' t) : option t =\n",
    "    x |> map Some |> default_value' None\n",
    "    // inl some x : option t = Some x\n",
    "    // inl some = join some\n",
    "    // inl none : option t = None\n",
    "    // $'!x |> Option.map !some |> Option.defaultValue !none '"
   ]
  },
  {
   "cell_type": "code",
   "execution_count": null,
   "metadata": {
    "dotnet_interactive": {
     "language": "spiral"
    },
    "polyglot_notebook": {
     "kernelName": "spiral"
    }
   },
   "outputs": [
    {
     "name": "stdout",
     "output_type": "stream",
     "text": [
      "type [<Struct>] US0 =\n",
      "    | US0_0 of f0_0 : int32\n",
      "    | US0_1\n",
      "let rec method1 (v0 : bool) : bool =\n",
      "    v0\n",
      "and method0 () : unit =\n",
      "    let v0 : int32 option = Some 3 \n",
      "    let v1 : US0 option = None\n",
      "    let _v1 = ref v1 \n",
      "    match v0 with\n",
      "    | Some x -> (\n",
      "    (fun () ->\n",
      "    (fun () ->\n",
      "    let v2 : int32 = x\n",
      "    let v3 : US0 = US0_0(v2)\n",
      "    v3 \n",
      "    )\n",
      "    |> fun x -> x () |> Some\n",
      "    ) () ) | None -> None\n",
      "    |> fun x -> _v1.Value <- x\n",
      "    let v4 : US0 option = _v1.Value \n",
      "    let v5 : US0 = US0_1\n",
      "    let v6 : US0 = v4 |> Option.defaultValue v5 \n",
      "    let v7 : int32 option = None\n",
      "    let v8 : int32 option = None\n",
      "    let _v8 = ref v8 \n",
      "    match v7 with\n",
      "    | Some x -> (\n",
      "    (fun () ->\n",
      "    (fun () ->\n",
      "    let v9 : int32 = x\n",
      "    v9 \n",
      "    )\n",
      "    |> fun x -> x () |> Some\n",
      "    ) () ) | None -> None\n",
      "    |> fun x -> _v8.Value <- x\n",
      "    let v10 : int32 option = _v8.Value \n",
      "    let v11 : US0 option = None\n",
      "    let _v11 = ref v11 \n",
      "    match v10 with\n",
      "    | Some x -> (\n",
      "    (fun () ->\n",
      "    (fun () ->\n",
      "    let v12 : int32 = x\n",
      "    let v13 : US0 = US0_0(v12)\n",
      "    v13 \n",
      "    )\n",
      "    |> fun x -> x () |> Some\n",
      "    ) () ) | None -> None\n",
      "    |> fun x -> _v11.Value <- x\n",
      "    let v14 : US0 option = _v11.Value \n",
      "    let v15 : US0 = US0_1\n",
      "    let v16 : US0 = v14 |> Option.defaultValue v15 \n",
      "    let v21 : bool =\n",
      "        match v6 with\n",
      "        | US0_0(v19) -> (* Some *)\n",
      "            let v20 : bool = v19 = 3\n",
      "            v20\n",
      "        | _ ->\n",
      "            false\n",
      "    let v23 : bool =\n",
      "        if v21 then\n",
      "            match v16 with\n",
      "            | US0_1 -> (* None *)\n",
      "                true\n",
      "            | _ ->\n",
      "                false\n",
      "        else\n",
      "            false\n",
      "    let v25 : bool =\n",
      "        if v23 then\n",
      "            true\n",
      "        else\n",
      "            method1(v23)\n",
      "    let v26 : string = \"assert_eq\"\n",
      "    let v27 : US0 = US0_0(3)\n",
      "    let v28 : US0 = US0_1\n",
      "    let v29 : string = $\"{v26} / actual: %A{struct (v6, v16)} / expected: %A{struct (v27, v28)}\"\n",
      "    System.Console.WriteLine v29\n",
      "    let v30 : bool = v25 = false\n",
      "    if v30 then\n",
      "        failwith<unit> v29\n",
      "method0()\n",
      "\n",
      "assert_eq / actual: struct (US0_0 3, US0_1) / expected: struct (US0_0 3, US0_1)\n"
     ]
    }
   ],
   "source": [
    "//// test\n",
    "\n",
    "inl x = Some 3i32\n",
    "inl y : option i32 = None\n",
    "inl x' = x |> box |> unbox\n",
    "inl y' = y |> box |> map id |> unbox\n",
    "(x', y') |> _assert_eq (x, y)"
   ]
  },
  {
   "cell_type": "code",
   "execution_count": null,
   "metadata": {
    "dotnet_interactive": {
     "language": "spiral"
    },
    "polyglot_notebook": {
     "kernelName": "spiral"
    }
   },
   "outputs": [
    {
     "data": {
      "text/plain": [
       ".rs output:\n",
       "assert_eq' / actual: (US0_0(3), US0_1) / expected: (US0_0(3), US0_1)\n",
       "\n",
       "\n"
      ]
     },
     "metadata": {},
     "output_type": "display_data"
    },
    {
     "name": "stdout",
     "output_type": "stream",
     "text": [
      ".fsx:\n",
      "type [<Struct>] US0 =\n",
      "    | US0_0 of f0_0 : int32\n",
      "    | US0_1\n",
      "let rec method1 (v0 : bool) : bool =\n",
      "    v0\n",
      "and method0 () : unit =\n",
      "    let v0 : int32 option = Some 3 \n",
      "    let v1 : US0 option = None\n",
      "    let _v1 = ref v1 \n",
      "    match v0 with\n",
      "    | Some x -> (\n",
      "    (fun () ->\n",
      "    (fun () ->\n",
      "    let v2 : int32 = x\n",
      "    let v3 : US0 = US0_0(v2)\n",
      "    v3 \n",
      "    )\n",
      "    |> fun x -> x () |> Some\n",
      "    ) () ) | None -> None\n",
      "    |> fun x -> _v1.Value <- x\n",
      "    let v4 : US0 option = _v1.Value \n",
      "    let v5 : US0 = US0_1\n",
      "    let v6 : US0 = v4 |> Option.defaultValue v5 \n",
      "    let v7 : int32 option = None\n",
      "    let v8 : int32 option = None\n",
      "    let _v8 = ref v8 \n",
      "    match v7 with\n",
      "    | Some x -> (\n",
      "    (fun () ->\n",
      "    (fun () ->\n",
      "    let v9 : int32 = x\n",
      "    v9 \n",
      "    )\n",
      "    |> fun x -> x () |> Some\n",
      "    ) () ) | None -> None\n",
      "    |> fun x -> _v8.Value <- x\n",
      "    let v10 : int32 option = _v8.Value \n",
      "    let v11 : US0 option = None\n",
      "    let _v11 = ref v11 \n",
      "    match v10 with\n",
      "    | Some x -> (\n",
      "    (fun () ->\n",
      "    (fun () ->\n",
      "    let v12 : int32 = x\n",
      "    let v13 : US0 = US0_0(v12)\n",
      "    v13 \n",
      "    )\n",
      "    |> fun x -> x () |> Some\n",
      "    ) () ) | None -> None\n",
      "    |> fun x -> _v11.Value <- x\n",
      "    let v14 : US0 option = _v11.Value \n",
      "    let v15 : US0 = US0_1\n",
      "    let v16 : US0 = v14 |> Option.defaultValue v15 \n",
      "    let v17 : US0 = US0_0(3)\n",
      "    let v18 : US0 = US0_1\n",
      "    let v19 : bool = struct (v6, v16) = struct (v17, v18)\n",
      "    let v21 : bool =\n",
      "        if v19 then\n",
      "            true\n",
      "        else\n",
      "            method1(v19)\n",
      "    let v22 : string = \"assert_eq'\"\n",
      "    let v23 : US0 = US0_0(3)\n",
      "    let v24 : US0 = US0_1\n",
      "    let v25 : string = $\"{v22} / actual: %A{struct (v6, v16)} / expected: %A{struct (v23, v24)}\"\n",
      "    System.Console.WriteLine v25\n",
      "    let v26 : bool = v21 = false\n",
      "    if v26 then\n",
      "        failwith<unit> v25\n",
      "method0()\n",
      "\n",
      "\n",
      ".rs:\n",
      "#![allow(dead_code)]\n",
      "#![allow(non_camel_case_types)]\n",
      "#![allow(non_snake_case)]\n",
      "#![allow(non_upper_case_globals)]\n",
      "#![allow(unreachable_code)]\n",
      "#![allow(unused_attributes)]\n",
      "#![allow(unused_imports)]\n",
      "#![allow(unused_macros)]\n",
      "#![allow(unused_parens)]\n",
      "#![allow(unused_variables)]\n",
      "mod module_ccfa04bf {\n",
      "    pub mod Spiral_eval {\n",
      "        use super::*;\n",
      "        use fable_library_rust::Native_::on_startup;\n",
      "        use fable_library_rust::Native_::refCell;\n",
      "        use fable_library_rust::Native_::Func0;\n",
      "        use fable_library_rust::Native_::LrcPtr;\n",
      "        use fable_library_rust::Native_::MutCell;\n",
      "        use fable_library_rust::Option_::defaultValue;\n",
      "        use fable_library_rust::String_::printfn;\n",
      "        use fable_library_rust::String_::sprintf;\n",
      "        use fable_library_rust::String_::string;\n",
      "        #[derive(Clone, Copy, Debug, PartialEq, PartialOrd, Hash, Eq)]\n",
      "        pub enum US0 {\n",
      "            US0_0(i32),\n",
      "            US0_1,\n",
      "        }\n",
      "        impl Spiral_eval::US0 {\n",
      "            pub fn get_IsUS0_0(this_: &MutCell<Spiral_eval::US0>, unitArg: ()) -> bool {\n",
      "                if unreachable!() {\n",
      "                    true\n",
      "                } else {\n",
      "                    false\n",
      "                }\n",
      "            }\n",
      "            pub fn get_IsUS0_1(this_: &MutCell<Spiral_eval::US0>, unitArg: ()) -> bool {\n",
      "                if unreachable!() {\n",
      "                    true\n",
      "                } else {\n",
      "                    false\n",
      "                }\n",
      "            }\n",
      "        }\n",
      "        impl core::fmt::Display for Spiral_eval::US0 {\n",
      "            fn fmt(&self, f: &mut core::fmt::Formatter) -> core::fmt::Result {\n",
      "                write!(f, \"{}\", core::any::type_name::<Self>())\n",
      "            }\n",
      "        }\n",
      "        pub fn method1(v0: bool) -> bool {\n",
      "            v0\n",
      "        }\n",
      "        pub fn method0() {\n",
      "            let v0: Option<i32> = Some(3_i32);\n",
      "            let _v1: LrcPtr<MutCell<Option<Spiral_eval::US0>>> = refCell(None::<Spiral_eval::US0>);\n",
      "            {\n",
      "                let x_2: Option<Spiral_eval::US0> = match &v0 {\n",
      "                    None => None::<Spiral_eval::US0>,\n",
      "                    Some(v0_0_0) => {\n",
      "                        let x: i32 = v0_0_0.clone();\n",
      "                        Some((Func0::new({\n",
      "                            let x = x.clone();\n",
      "                            move || Spiral_eval::US0::US0_0(x)\n",
      "                        }))())\n",
      "                    }\n",
      "                };\n",
      "                _v1.set(x_2)\n",
      "            }\n",
      "            {\n",
      "                let v6: Spiral_eval::US0 = defaultValue(Spiral_eval::US0::US0_1, _v1.get().clone());\n",
      "                let v7: Option<i32> = None::<i32>;\n",
      "                let _v8: LrcPtr<MutCell<Option<i32>>> = refCell(None::<i32>);\n",
      "                {\n",
      "                    let x_5: Option<i32> = match &v7 {\n",
      "                        None => None::<i32>,\n",
      "                        Some(v7_0_0) => {\n",
      "                            let x_3: i32 = v7_0_0.clone();\n",
      "                            Some((Func0::new({\n",
      "                                let x_3 = x_3.clone();\n",
      "                                move || x_3\n",
      "                            }))())\n",
      "                        }\n",
      "                    };\n",
      "                    _v8.set(x_5)\n",
      "                }\n",
      "                {\n",
      "                    let v10: Option<i32> = _v8.get().clone();\n",
      "                    let _v11: LrcPtr<MutCell<Option<Spiral_eval::US0>>> =\n",
      "                        refCell(None::<Spiral_eval::US0>);\n",
      "                    {\n",
      "                        let x_8: Option<Spiral_eval::US0> = match &v10 {\n",
      "                            None => None::<Spiral_eval::US0>,\n",
      "                            Some(v10_0_0) => {\n",
      "                                let x_6: i32 = v10_0_0.clone();\n",
      "                                Some((Func0::new({\n",
      "                                    let x_6 = x_6.clone();\n",
      "                                    move || Spiral_eval::US0::US0_0(x_6)\n",
      "                                }))())\n",
      "                            }\n",
      "                        };\n",
      "                        _v11.set(x_8)\n",
      "                    }\n",
      "                    {\n",
      "                        let v16: Spiral_eval::US0 =\n",
      "                            defaultValue(Spiral_eval::US0::US0_1, _v11.get().clone());\n",
      "                        let v19: bool = (v6.clone(), v16.clone())\n",
      "                            == (Spiral_eval::US0::US0_0(3_i32), Spiral_eval::US0::US0_1);\n",
      "                        let v21: bool = if v19 { true } else { Spiral_eval::method1(v19) };\n",
      "                        let v25: string = sprintf!(\n",
      "                            \"{} / actual: {:?} / expected: {:?}\",\n",
      "                            string(\"assert_eq\\'\"),\n",
      "                            (v6, v16),\n",
      "                            (Spiral_eval::US0::US0_0(3_i32), Spiral_eval::US0::US0_1)\n",
      "                        );\n",
      "                        printfn!(\"{0}\", v25.clone());\n",
      "                        if v21 == false {\n",
      "                            panic!(\"{}\", v25,);\n",
      "                        }\n",
      "                    }\n",
      "                }\n",
      "            }\n",
      "        }\n",
      "        on_startup!(Spiral_eval::method0());\n",
      "    }\n",
      "}\n",
      "pub use module_ccfa04bf::*;\n",
      "\n"
     ]
    }
   ],
   "source": [
    "//// test\n",
    "//// print_code=true\n",
    "///! rust\n",
    "\n",
    "inl x = Some 3i32\n",
    "inl y : option i32 = None\n",
    "inl x' = x |> box |> unbox\n",
    "inl y' = y |> box |> map id |> unbox\n",
    "(x', y') |> _assert_eq' (x, y)"
   ]
  },
  {
   "cell_type": "markdown",
   "metadata": {},
   "source": [
    "## of_obj"
   ]
  },
  {
   "cell_type": "code",
   "execution_count": null,
   "metadata": {
    "dotnet_interactive": {
     "language": "spiral"
    },
    "polyglot_notebook": {
     "kernelName": "spiral"
    }
   },
   "outputs": [
    {
     "name": "stdout",
     "output_type": "stream",
     "text": [
      "()\n",
      "\n"
     ]
    }
   ],
   "source": [
    "inl of_obj forall t. (x : t) : option' t =\n",
    "    $'let mutable _!x = None'\n",
    "    $\"#if \\!FABLE_COMPILER && \\!WASM && \\!CONTRACT\"\n",
    "    ((x |> $'Option.ofObj') : option' t)\n",
    "    |> fun x => $'!x '\n",
    "    $\"#else\"\n",
    "    $'Some !x '\n",
    "    $\"#endif\"\n",
    "    $\"|> fun x -> _!x <- Some x\"\n",
    "    $'_!x.Value'"
   ]
  },
  {
   "cell_type": "code",
   "execution_count": null,
   "metadata": {
    "dotnet_interactive": {
     "language": "spiral"
    },
    "polyglot_notebook": {
     "kernelName": "spiral"
    }
   },
   "outputs": [
    {
     "name": "stdout",
     "output_type": "stream",
     "text": [
      "type [<Struct>] US0 =\n",
      "    | US0_0 of f0_0 : string\n",
      "    | US0_1\n",
      "let rec method1 (v0 : bool) : bool =\n",
      "    v0\n",
      "and method0 () : unit =\n",
      "    let v0 : string = null |> unbox<string>\n",
      "    let mutable _v0 = None\n",
      "    #if !FABLE_COMPILER && !WASM && !CONTRACT\n",
      "    let v1 : (string -> string option) = Option.ofObj\n",
      "    let v2 : string option = v1 v0\n",
      "    v2 \n",
      "    #else\n",
      "    Some v0 \n",
      "    #endif\n",
      "    |> fun x -> _v0 <- Some x\n",
      "    let v3 : string option = _v0.Value\n",
      "    let v4 : US0 option = None\n",
      "    let _v4 = ref v4 \n",
      "    match v3 with\n",
      "    | Some x -> (\n",
      "    (fun () ->\n",
      "    (fun () ->\n",
      "    let v5 : string = x\n",
      "    let v6 : US0 = US0_0(v5)\n",
      "    v6 \n",
      "    )\n",
      "    |> fun x -> x () |> Some\n",
      "    ) () ) | None -> None\n",
      "    |> fun x -> _v4.Value <- x\n",
      "    let v7 : US0 option = _v4.Value \n",
      "    let v8 : US0 = US0_1\n",
      "    let v9 : US0 = v7 |> Option.defaultValue v8 \n",
      "    let v11 : bool =\n",
      "        match v9 with\n",
      "        | US0_1 -> (* None *)\n",
      "            true\n",
      "        | _ ->\n",
      "            false\n",
      "    let v13 : bool =\n",
      "        if v11 then\n",
      "            true\n",
      "        else\n",
      "            method1(v11)\n",
      "    let v14 : string = \"assert_eq\"\n",
      "    let v15 : US0 = US0_1\n",
      "    let v16 : string = $\"{v14} / actual: %A{v9} / expected: %A{v15}\"\n",
      "    System.Console.WriteLine v16\n",
      "    let v17 : bool = v13 = false\n",
      "    if v17 then\n",
      "        failwith<unit> v16\n",
      "method0()\n",
      "\n",
      "assert_eq / actual: US0_1 / expected: US0_1\n"
     ]
    }
   ],
   "source": [
    "//// test\n",
    "\n",
    "null ()\n",
    "|> of_obj\n",
    "|> unbox\n",
    "|> _assert_eq (None : option string)"
   ]
  },
  {
   "cell_type": "code",
   "execution_count": null,
   "metadata": {
    "dotnet_interactive": {
     "language": "spiral"
    },
    "polyglot_notebook": {
     "kernelName": "spiral"
    }
   },
   "outputs": [
    {
     "data": {
      "text/plain": [
       ".rs output:\n",
       "assert_eq' / actual: US0_0(\"\") / expected: US0_0(\"\")\n",
       "\n",
       "\n"
      ]
     },
     "metadata": {},
     "output_type": "display_data"
    },
    {
     "name": "stdout",
     "output_type": "stream",
     "text": [
      ".fsx:\n",
      "type [<Struct>] US0 =\n",
      "    | US0_0 of f0_0 : string\n",
      "    | US0_1\n",
      "let rec method1 (v0 : bool) : bool =\n",
      "    v0\n",
      "and method0 () : unit =\n",
      "    let v0 : string = \"\"\n",
      "    let mutable _v0 = None\n",
      "    #if !FABLE_COMPILER && !WASM && !CONTRACT\n",
      "    let v1 : (string -> string option) = Option.ofObj\n",
      "    let v2 : string option = v1 v0\n",
      "    v2 \n",
      "    #else\n",
      "    Some v0 \n",
      "    #endif\n",
      "    |> fun x -> _v0 <- Some x\n",
      "    let v3 : string option = _v0.Value\n",
      "    let v4 : US0 option = None\n",
      "    let _v4 = ref v4 \n",
      "    match v3 with\n",
      "    | Some x -> (\n",
      "    (fun () ->\n",
      "    (fun () ->\n",
      "    let v5 : string = x\n",
      "    let v6 : US0 = US0_0(v5)\n",
      "    v6 \n",
      "    )\n",
      "    |> fun x -> x () |> Some\n",
      "    ) () ) | None -> None\n",
      "    |> fun x -> _v4.Value <- x\n",
      "    let v7 : US0 option = _v4.Value \n",
      "    let v8 : US0 = US0_1\n",
      "    let v9 : US0 = v7 |> Option.defaultValue v8 \n",
      "    let v10 : US0 = US0_0(v0)\n",
      "    let v11 : bool = v9 = v10\n",
      "    let v13 : bool =\n",
      "        if v11 then\n",
      "            true\n",
      "        else\n",
      "            method1(v11)\n",
      "    let v14 : string = \"assert_eq'\"\n",
      "    let v15 : US0 = US0_0(v0)\n",
      "    let v16 : string = $\"{v14} / actual: %A{v9} / expected: %A{v15}\"\n",
      "    System.Console.WriteLine v16\n",
      "    let v17 : bool = v13 = false\n",
      "    if v17 then\n",
      "        failwith<unit> v16\n",
      "method0()\n",
      "\n",
      "\n",
      ".rs:\n",
      "#![allow(dead_code)]\n",
      "#![allow(non_camel_case_types)]\n",
      "#![allow(non_snake_case)]\n",
      "#![allow(non_upper_case_globals)]\n",
      "#![allow(unreachable_code)]\n",
      "#![allow(unused_attributes)]\n",
      "#![allow(unused_imports)]\n",
      "#![allow(unused_macros)]\n",
      "#![allow(unused_parens)]\n",
      "#![allow(unused_variables)]\n",
      "mod module_ccfa04bf {\n",
      "    pub mod Spiral_eval {\n",
      "        use super::*;\n",
      "        use fable_library_rust::Native_::on_startup;\n",
      "        use fable_library_rust::Native_::refCell;\n",
      "        use fable_library_rust::Native_::Func0;\n",
      "        use fable_library_rust::Native_::LrcPtr;\n",
      "        use fable_library_rust::Native_::MutCell;\n",
      "        use fable_library_rust::Option_::defaultValue;\n",
      "        use fable_library_rust::Option_::getValue;\n",
      "        use fable_library_rust::String_::printfn;\n",
      "        use fable_library_rust::String_::sprintf;\n",
      "        use fable_library_rust::String_::string;\n",
      "        #[derive(Clone, Debug, PartialEq, PartialOrd, Hash, Eq)]\n",
      "        pub enum US0 {\n",
      "            US0_0(string),\n",
      "            US0_1,\n",
      "        }\n",
      "        impl Spiral_eval::US0 {\n",
      "            pub fn get_IsUS0_0(this_: &MutCell<Spiral_eval::US0>, unitArg: ()) -> bool {\n",
      "                if unreachable!() {\n",
      "                    true\n",
      "                } else {\n",
      "                    false\n",
      "                }\n",
      "            }\n",
      "            pub fn get_IsUS0_1(this_: &MutCell<Spiral_eval::US0>, unitArg: ()) -> bool {\n",
      "                if unreachable!() {\n",
      "                    true\n",
      "                } else {\n",
      "                    false\n",
      "                }\n",
      "            }\n",
      "        }\n",
      "        impl core::fmt::Display for Spiral_eval::US0 {\n",
      "            fn fmt(&self, f: &mut core::fmt::Formatter) -> core::fmt::Result {\n",
      "                write!(f, \"{}\", core::any::type_name::<Self>())\n",
      "            }\n",
      "        }\n",
      "        pub fn method1(v0: bool) -> bool {\n",
      "            v0\n",
      "        }\n",
      "        pub fn method0() {\n",
      "            let _v0: MutCell<Option<Option<string>>> = MutCell::new(None::<Option<string>>);\n",
      "            _v0.set(Some(Some(string(\"\"))));\n",
      "            {\n",
      "                let v3: Option<string> = getValue(_v0.get().clone());\n",
      "                let _v4: LrcPtr<MutCell<Option<Spiral_eval::US0>>> =\n",
      "                    refCell(None::<Spiral_eval::US0>);\n",
      "                {\n",
      "                    let x_3: Option<Spiral_eval::US0> = match &v3 {\n",
      "                        None => None::<Spiral_eval::US0>,\n",
      "                        Some(v3_0_0) => {\n",
      "                            let x_1: string = v3_0_0.clone();\n",
      "                            Some((Func0::new({\n",
      "                                let x_1 = x_1.clone();\n",
      "                                move || Spiral_eval::US0::US0_0(x_1.clone())\n",
      "                            }))())\n",
      "                        }\n",
      "                    };\n",
      "                    _v4.set(x_3)\n",
      "                }\n",
      "                {\n",
      "                    let v9: Spiral_eval::US0 =\n",
      "                        defaultValue(Spiral_eval::US0::US0_1, _v4.get().clone());\n",
      "                    let v11: bool = v9.clone() == Spiral_eval::US0::US0_0(string(\"\"));\n",
      "                    let v13: bool = if v11 { true } else { Spiral_eval::method1(v11) };\n",
      "                    let v16: string = sprintf!(\n",
      "                        \"{} / actual: {:?} / expected: {:?}\",\n",
      "                        string(\"assert_eq\\'\"),\n",
      "                        v9,\n",
      "                        Spiral_eval::US0::US0_0(string(\"\"))\n",
      "                    );\n",
      "                    printfn!(\"{0}\", v16.clone());\n",
      "                    if v13 == false {\n",
      "                        panic!(\"{}\", v16,);\n",
      "                    }\n",
      "                }\n",
      "            }\n",
      "        }\n",
      "        on_startup!(Spiral_eval::method0());\n",
      "    }\n",
      "}\n",
      "pub use module_ccfa04bf::*;\n",
      "\n"
     ]
    }
   ],
   "source": [
    "//// test\n",
    "///! rust\n",
    "\n",
    "\"\"\n",
    "|> of_obj\n",
    "|> unbox\n",
    "|> _assert_eq' (Some \"\")"
   ]
  },
  {
   "cell_type": "markdown",
   "metadata": {},
   "source": [
    "## flatten"
   ]
  },
  {
   "cell_type": "code",
   "execution_count": null,
   "metadata": {
    "dotnet_interactive": {
     "language": "spiral"
    },
    "polyglot_notebook": {
     "kernelName": "spiral"
    }
   },
   "outputs": [
    {
     "name": "stdout",
     "output_type": "stream",
     "text": [
      "()\n",
      "\n"
     ]
    }
   ],
   "source": [
    "inl flatten x =\n",
    "    match x with\n",
    "    | Some (Some x) => Some x\n",
    "    | _ => None"
   ]
  },
  {
   "cell_type": "markdown",
   "metadata": {},
   "source": [
    "## unwrap"
   ]
  },
  {
   "cell_type": "code",
   "execution_count": null,
   "metadata": {
    "dotnet_interactive": {
     "language": "spiral"
    },
    "polyglot_notebook": {
     "kernelName": "spiral"
    }
   },
   "outputs": [
    {
     "name": "stdout",
     "output_type": "stream",
     "text": [
      "()\n",
      "\n"
     ]
    }
   ],
   "source": [
    "inl unwrap forall t. (x : option' t) : t =\n",
    "    !\\\\(x, $'\"$0.unwrap()\"')"
   ]
  },
  {
   "cell_type": "markdown",
   "metadata": {},
   "source": [
    "## unwrap_or"
   ]
  },
  {
   "cell_type": "code",
   "execution_count": null,
   "metadata": {
    "dotnet_interactive": {
     "language": "spiral"
    },
    "polyglot_notebook": {
     "kernelName": "spiral"
    }
   },
   "outputs": [
    {
     "name": "stdout",
     "output_type": "stream",
     "text": [
      "()\n",
      "\n"
     ]
    }
   ],
   "source": [
    "inl unwrap_or forall t. (def : t) (x : option' t) : t =\n",
    "    !\\($'\"!x.unwrap_or(!def)\"')"
   ]
  },
  {
   "cell_type": "markdown",
   "metadata": {},
   "source": [
    "## rc_upgrade"
   ]
  },
  {
   "cell_type": "code",
   "execution_count": null,
   "metadata": {
    "dotnet_interactive": {
     "language": "spiral"
    },
    "polyglot_notebook": {
     "kernelName": "spiral"
    }
   },
   "outputs": [
    {
     "name": "stdout",
     "output_type": "stream",
     "text": [
      "()\n",
      "\n"
     ]
    }
   ],
   "source": [
    "inl rc_upgrade forall t. (x : rust.weak_rc t) : option' (rust.rc t) =\n",
    "    !\\\\(x, $'\"std::rc::Weak::upgrade(&$0)\"')"
   ]
  },
  {
   "cell_type": "markdown",
   "metadata": {},
   "source": [
    "## rc_into_inner"
   ]
  },
  {
   "cell_type": "code",
   "execution_count": null,
   "metadata": {
    "dotnet_interactive": {
     "language": "spiral"
    },
    "polyglot_notebook": {
     "kernelName": "spiral"
    }
   },
   "outputs": [
    {
     "name": "stdout",
     "output_type": "stream",
     "text": [
      "()\n",
      "\n"
     ]
    }
   ],
   "source": [
    "inl rc_into_inner forall t. (x : rust.rc t) : option' t =\n",
    "    !\\\\(x, $'\"std::rc::Rc::into_inner($0)\"')"
   ]
  },
  {
   "cell_type": "code",
   "execution_count": null,
   "metadata": {
    "dotnet_interactive": {
     "language": "spiral"
    },
    "polyglot_notebook": {
     "kernelName": "spiral"
    }
   },
   "outputs": [
    {
     "data": {
      "text/plain": [
       "assert_eq' / actual: US0_0(0) / expected: US0_0(0)\n"
      ]
     },
     "metadata": {},
     "output_type": "display_data"
    }
   ],
   "source": [
    "//// test\n",
    "//// print_code=false\n",
    "///! rust\n",
    "\n",
    "types ()\n",
    "rust.new_rc 0i32\n",
    "|> rc_into_inner\n",
    "|> unbox\n",
    "|> _assert_eq' (Some 0i32)"
   ]
  }
 ],
 "metadata": {},
 "nbformat": 4,
 "nbformat_minor": 5
}