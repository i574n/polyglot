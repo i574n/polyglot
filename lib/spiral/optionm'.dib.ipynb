{
 "cells": [
  {
   "cell_type": "markdown",
   "metadata": {},
   "source": [
    "# optionm"
   ]
  },
  {
   "cell_type": "code",
   "execution_count": null,
   "metadata": {
    "dotnet_interactive": {
     "language": "spiral"
    },
    "polyglot_notebook": {
     "kernelName": "spiral"
    }
   },
   "outputs": [
    {
     "name": "stdout",
     "output_type": "stream",
     "text": [
      "()\n",
      "\n"
     ]
    }
   ],
   "source": [
    "// // test\n",
    "\n",
    "open testing"
   ]
  },
  {
   "cell_type": "code",
   "execution_count": null,
   "metadata": {
    "dotnet_interactive": {
     "language": "spiral"
    },
    "polyglot_notebook": {
     "kernelName": "spiral"
    }
   },
   "outputs": [
    {
     "name": "stdout",
     "output_type": "stream",
     "text": [
      "()\n",
      "\n"
     ]
    }
   ],
   "source": [
    "open rust_operators"
   ]
  },
  {
   "cell_type": "markdown",
   "metadata": {},
   "source": [
    "## default_value"
   ]
  },
  {
   "cell_type": "code",
   "execution_count": null,
   "metadata": {
    "dotnet_interactive": {
     "language": "spiral"
    },
    "polyglot_notebook": {
     "kernelName": "spiral"
    }
   },
   "outputs": [
    {
     "name": "stdout",
     "output_type": "stream",
     "text": [
      "()\n",
      "\n"
     ]
    }
   ],
   "source": [
    "inl default_value d =\n",
    "    optionm.defaultWith d"
   ]
  },
  {
   "cell_type": "code",
   "execution_count": null,
   "metadata": {
    "dotnet_interactive": {
     "language": "spiral"
    },
    "polyglot_notebook": {
     "kernelName": "spiral"
    }
   },
   "outputs": [
    {
     "name": "stdout",
     "output_type": "stream",
     "text": [
      "let rec method0 () : unit =\n",
      "    let v0 : string = $\"%A{3}\"\n",
      "    System.Console.WriteLine v0\n",
      "    let v1 : string = $\"__expect / actual: %A{3} / expected: %A{3}\"\n",
      "    ()\n",
      "method0()\n",
      "\n",
      "3\n"
     ]
    }
   ],
   "source": [
    "// // test\n",
    "\n",
    "None\n",
    "|> default_value 3i32\n",
    "|> _assert_eq 3i32"
   ]
  },
  {
   "cell_type": "markdown",
   "metadata": {},
   "source": [
    "## (/??)"
   ]
  },
  {
   "cell_type": "code",
   "execution_count": null,
   "metadata": {
    "dotnet_interactive": {
     "language": "spiral"
    },
    "polyglot_notebook": {
     "kernelName": "spiral"
    }
   },
   "outputs": [
    {
     "name": "stdout",
     "output_type": "stream",
     "text": [
      "()\n",
      "\n"
     ]
    }
   ],
   "source": [
    "inl (/??) a b =\n",
    "    a |> default_value b"
   ]
  },
  {
   "cell_type": "code",
   "execution_count": null,
   "metadata": {
    "dotnet_interactive": {
     "language": "spiral"
    },
    "polyglot_notebook": {
     "kernelName": "spiral"
    }
   },
   "outputs": [
    {
     "name": "stdout",
     "output_type": "stream",
     "text": [
      "let rec method0 () : unit =\n",
      "    let v0 : string = $\"%A{3}\"\n",
      "    System.Console.WriteLine v0\n",
      "    let v1 : string = $\"__expect / actual: %A{3} / expected: %A{3}\"\n",
      "    ()\n",
      "method0()\n",
      "\n",
      "3\n"
     ]
    }
   ],
   "source": [
    "// // test\n",
    "\n",
    "None /?? 3i32\n",
    "|> _assert_eq 3i32"
   ]
  },
  {
   "cell_type": "markdown",
   "metadata": {},
   "source": [
    "## default_with"
   ]
  },
  {
   "cell_type": "code",
   "execution_count": null,
   "metadata": {
    "dotnet_interactive": {
     "language": "spiral"
    },
    "polyglot_notebook": {
     "kernelName": "spiral"
    }
   },
   "outputs": [
    {
     "name": "stdout",
     "output_type": "stream",
     "text": [
      "()\n",
      "\n"
     ]
    }
   ],
   "source": [
    "inl default_with fn = function\n",
    "    | Some x => x\n",
    "    | None => fn ()"
   ]
  },
  {
   "cell_type": "code",
   "execution_count": null,
   "metadata": {
    "dotnet_interactive": {
     "language": "spiral"
    },
    "polyglot_notebook": {
     "kernelName": "spiral"
    }
   },
   "outputs": [
    {
     "name": "stdout",
     "output_type": "stream",
     "text": [
      "let rec method0 () : unit =\n",
      "    let v0 : string = $\"%A{3}\"\n",
      "    System.Console.WriteLine v0\n",
      "    let v1 : string = $\"__expect / actual: %A{3} / expected: %A{3}\"\n",
      "    ()\n",
      "method0()\n",
      "\n",
      "3\n"
     ]
    }
   ],
   "source": [
    "// // test\n",
    "\n",
    "None\n",
    "|> default_with fun () => 3i32\n",
    "|> _assert_eq 3i32"
   ]
  },
  {
   "cell_type": "markdown",
   "metadata": {},
   "source": [
    "## choose"
   ]
  },
  {
   "cell_type": "code",
   "execution_count": null,
   "metadata": {
    "dotnet_interactive": {
     "language": "spiral"
    },
    "polyglot_notebook": {
     "kernelName": "spiral"
    }
   },
   "outputs": [
    {
     "name": "stdout",
     "output_type": "stream",
     "text": [
      "()\n",
      "\n"
     ]
    }
   ],
   "source": [
    "inl choose fn a b =\n",
    "    match a, b with\n",
    "    | Some x, Some y => fn x y |> Some\n",
    "    | _ => None"
   ]
  },
  {
   "cell_type": "code",
   "execution_count": null,
   "metadata": {
    "dotnet_interactive": {
     "language": "spiral"
    },
    "polyglot_notebook": {
     "kernelName": "spiral"
    }
   },
   "outputs": [
    {
     "name": "stdout",
     "output_type": "stream",
     "text": [
      "type [<Struct>] US0 =\n",
      "    | US0_0 of f0_0 : int32\n",
      "    | US0_1\n",
      "let rec method0 () : unit =\n",
      "    let v0 : US0 = US0_0(5)\n",
      "    let v1 : string = $\"%A{v0}\"\n",
      "    System.Console.WriteLine v1\n",
      "    let v5 : US0 = US0_0(5)\n",
      "    let v6 : US0 = US0_0(5)\n",
      "    let v7 : string = $\"__expect / actual: %A{v5} / expected: %A{v6}\"\n",
      "    ()\n",
      "method0()\n",
      "\n",
      "US0_0 5\n"
     ]
    }
   ],
   "source": [
    "// // test\n",
    "\n",
    "(Some 2i32, Some 3)\n",
    "||> choose (+)\n",
    "|> _assert_eq (Some 5)"
   ]
  },
  {
   "cell_type": "markdown",
   "metadata": {},
   "source": [
    "## iter"
   ]
  },
  {
   "cell_type": "code",
   "execution_count": null,
   "metadata": {
    "dotnet_interactive": {
     "language": "spiral"
    },
    "polyglot_notebook": {
     "kernelName": "spiral"
    }
   },
   "outputs": [
    {
     "name": "stdout",
     "output_type": "stream",
     "text": [
      "()\n",
      "\n"
     ]
    }
   ],
   "source": [
    "inl iter fn = function\n",
    "    | Some x => fn x\n",
    "    | None => ()"
   ]
  },
  {
   "cell_type": "code",
   "execution_count": null,
   "metadata": {
    "dotnet_interactive": {
     "language": "spiral"
    },
    "polyglot_notebook": {
     "kernelName": "spiral"
    }
   },
   "outputs": [
    {
     "name": "stdout",
     "output_type": "stream",
     "text": [
      "type Mut0 = {mutable l0 : int32}\n",
      "let rec method1 (v0 : bool) : bool =\n",
      "    v0\n",
      "and method0 () : unit =\n",
      "    let v0 : Mut0 = {l0 = 1} : Mut0\n",
      "    let v1 : int32 = v0.l0\n",
      "    let v2 : int32 = v1 + 1\n",
      "    v0.l0 <- v2\n",
      "    let v3 : int32 = v0.l0\n",
      "    let v4 : string = $\"%A{v3}\"\n",
      "    System.Console.WriteLine v4\n",
      "    let v5 : bool = v3 = 2\n",
      "    let v7 : bool =\n",
      "        if v5 then\n",
      "            true\n",
      "        else\n",
      "            method1(v5)\n",
      "    let v8 : string = $\"__expect / actual: %A{v3} / expected: %A{2}\"\n",
      "    let v9 : bool = v7 = false\n",
      "    if v9 then\n",
      "        failwith<unit> v8\n",
      "method0()\n",
      "\n",
      "2\n"
     ]
    }
   ],
   "source": [
    "// // test\n",
    "\n",
    "inl n = mut 1i32\n",
    "inl fn =\n",
    "    fun n' =>\n",
    "        n <- *n + n'\n",
    "Some 1i32 |> iter fn\n",
    "None |> iter fn\n",
    "*n\n",
    "|> _assert_eq 2i32"
   ]
  },
  {
   "cell_type": "markdown",
   "metadata": {},
   "source": [
    "## option'"
   ]
  },
  {
   "cell_type": "code",
   "execution_count": null,
   "metadata": {
    "dotnet_interactive": {
     "language": "spiral"
    },
    "polyglot_notebook": {
     "kernelName": "spiral"
    }
   },
   "outputs": [
    {
     "name": "stdout",
     "output_type": "stream",
     "text": [
      "()\n",
      "\n"
     ]
    }
   ],
   "source": [
    "nominal option' t = $\"`t option\""
   ]
  },
  {
   "cell_type": "markdown",
   "metadata": {},
   "source": [
    "## none'"
   ]
  },
  {
   "cell_type": "code",
   "execution_count": null,
   "metadata": {
    "dotnet_interactive": {
     "language": "spiral"
    },
    "polyglot_notebook": {
     "kernelName": "spiral"
    }
   },
   "outputs": [
    {
     "name": "stdout",
     "output_type": "stream",
     "text": [
      "()\n",
      "\n"
     ]
    }
   ],
   "source": [
    "inl none' forall t. () : option' t =\n",
    "    $'None'"
   ]
  },
  {
   "cell_type": "code",
   "execution_count": null,
   "metadata": {
    "dotnet_interactive": {
     "language": "spiral"
    },
    "polyglot_notebook": {
     "kernelName": "spiral"
    }
   },
   "outputs": [
    {
     "name": "stdout",
     "output_type": "stream",
     "text": [
      "\n"
     ]
    }
   ],
   "source": [
    "inl some' forall t. (x : t) : option' t =\n",
    "    $'Some !x '"
   ]
  },
  {
   "cell_type": "markdown",
   "metadata": {},
   "source": [
    "## map"
   ]
  },
  {
   "cell_type": "code",
   "execution_count": null,
   "metadata": {
    "dotnet_interactive": {
     "language": "spiral"
    },
    "polyglot_notebook": {
     "kernelName": "spiral"
    }
   },
   "outputs": [
    {
     "name": "stdout",
     "output_type": "stream",
     "text": [
      "()\n",
      "\n"
     ]
    }
   ],
   "source": [
    "inl map forall t u. (fn : t -> u) (x : option' t) : option' u =\n",
    "    $'!x |> Option.map !fn '"
   ]
  },
  {
   "cell_type": "markdown",
   "metadata": {},
   "source": [
    "## default_value'"
   ]
  },
  {
   "cell_type": "code",
   "execution_count": null,
   "metadata": {
    "dotnet_interactive": {
     "language": "spiral"
    },
    "polyglot_notebook": {
     "kernelName": "spiral"
    }
   },
   "outputs": [
    {
     "name": "stdout",
     "output_type": "stream",
     "text": [
      "()\n",
      "\n"
     ]
    }
   ],
   "source": [
    "inl default_value' forall t. (value : t) (x : option' t) : t =\n",
    "    $'!x |> Option.defaultValue !value '"
   ]
  },
  {
   "cell_type": "markdown",
   "metadata": {},
   "source": [
    "## unbox"
   ]
  },
  {
   "cell_type": "code",
   "execution_count": null,
   "metadata": {
    "dotnet_interactive": {
     "language": "spiral"
    },
    "polyglot_notebook": {
     "kernelName": "spiral"
    }
   },
   "outputs": [
    {
     "name": "stdout",
     "output_type": "stream",
     "text": [
      "()\n",
      "\n"
     ]
    }
   ],
   "source": [
    "inl unbox forall t. (x : option' t) : option t =\n",
    "    // x\n",
    "    // |> map Some\n",
    "    // |> default_value' None\n",
    "    inl some x : option t = Some x\n",
    "    inl some = join some\n",
    "    inl none : option t = None\n",
    "    $'!x |> Option.map !some |> Option.defaultValue !none '"
   ]
  },
  {
   "cell_type": "markdown",
   "metadata": {},
   "source": [
    "## box"
   ]
  },
  {
   "cell_type": "code",
   "execution_count": null,
   "metadata": {
    "dotnet_interactive": {
     "language": "spiral"
    },
    "polyglot_notebook": {
     "kernelName": "spiral"
    }
   },
   "outputs": [
    {
     "name": "stdout",
     "output_type": "stream",
     "text": [
      "()\n",
      "\n"
     ]
    }
   ],
   "source": [
    "inl box forall t. (x : option t) : option' t =\n",
    "    // x\n",
    "    // |> optionm.map some'\n",
    "    // |> default_with none'\n",
    "    match x with\n",
    "    | Some x => some' x\n",
    "    | None => none' ()"
   ]
  },
  {
   "cell_type": "code",
   "execution_count": null,
   "metadata": {
    "dotnet_interactive": {
     "language": "spiral"
    },
    "polyglot_notebook": {
     "kernelName": "spiral"
    }
   },
   "outputs": [
    {
     "name": "stdout",
     "output_type": "stream",
     "text": [
      "type [<Struct>] US0 =\n",
      "    | US0_0 of f0_0 : int32\n",
      "    | US0_1\n",
      "let rec closure0 () (v0 : int32) : US0 =\n",
      "    US0_0(v0)\n",
      "and method1 () : (int32 -> US0) =\n",
      "    closure0()\n",
      "and method2 (v0 : bool) : bool =\n",
      "    v0\n",
      "and method0 () : unit =\n",
      "    let v0 : int32 option = Some 3 \n",
      "    let v1 : (int32 -> US0) = method1()\n",
      "    let v2 : US0 = US0_1\n",
      "    let v3 : US0 = v0 |> Option.map v1 |> Option.defaultValue v2 \n",
      "    let v4 : int32 option = None\n",
      "    let v5 : (int32 -> US0) = method1()\n",
      "    let v6 : US0 = US0_1\n",
      "    let v7 : US0 = v4 |> Option.map v5 |> Option.defaultValue v6 \n",
      "    let v8 : string = $\"%A{struct (v3, v7)}\"\n",
      "    System.Console.WriteLine v8\n",
      "    let v13 : bool =\n",
      "        match v3 with\n",
      "        | US0_0(v11) -> (* Some *)\n",
      "            let v12 : bool = v11 = 3\n",
      "            v12\n",
      "        | _ ->\n",
      "            false\n",
      "    let v15 : bool =\n",
      "        if v13 then\n",
      "            match v7 with\n",
      "            | US0_1 -> (* None *)\n",
      "                true\n",
      "            | _ ->\n",
      "                false\n",
      "        else\n",
      "            false\n",
      "    let v17 : bool =\n",
      "        if v15 then\n",
      "            true\n",
      "        else\n",
      "            method2(v15)\n",
      "    let v18 : US0 = US0_0(3)\n",
      "    let v19 : US0 = US0_1\n",
      "    let v20 : string = $\"__expect / actual: %A{struct (v3, v7)} / expected: %A{struct (v18, v19)}\"\n",
      "    let v21 : bool = v17 = false\n",
      "    if v21 then\n",
      "        failwith<unit> v20\n",
      "method0()\n",
      "\n",
      "struct (US0_0 3, US0_1)\n"
     ]
    }
   ],
   "source": [
    "// // test\n",
    "\n",
    "inl x = Some 3i32\n",
    "inl y : option i32 = None\n",
    "inl x' = x |> box |> unbox\n",
    "inl y' = y |> box |> unbox\n",
    "(x', y') |> _assert_eq (x, y)"
   ]
  },
  {
   "cell_type": "markdown",
   "metadata": {},
   "source": [
    "## try'"
   ]
  },
  {
   "cell_type": "code",
   "execution_count": null,
   "metadata": {
    "dotnet_interactive": {
     "language": "spiral"
    },
    "polyglot_notebook": {
     "kernelName": "spiral"
    }
   },
   "outputs": [
    {
     "name": "stdout",
     "output_type": "stream",
     "text": [
      "()\n",
      "\n"
     ]
    }
   ],
   "source": [
    "inl try' forall t. (x : option' t) : t =\n",
    "    !\\\\(x, $'\"$0?\"')"
   ]
  },
  {
   "cell_type": "markdown",
   "metadata": {},
   "source": [
    "## flatten"
   ]
  },
  {
   "cell_type": "code",
   "execution_count": null,
   "metadata": {
    "dotnet_interactive": {
     "language": "spiral"
    },
    "polyglot_notebook": {
     "kernelName": "spiral"
    }
   },
   "outputs": [
    {
     "name": "stdout",
     "output_type": "stream",
     "text": [
      "()\n",
      "\n"
     ]
    }
   ],
   "source": [
    "inl flatten x =\n",
    "    match x with\n",
    "    | Some (Some x) => Some x\n",
    "    | _ => None"
   ]
  },
  {
   "cell_type": "markdown",
   "metadata": {},
   "source": [
    "## unwrap"
   ]
  },
  {
   "cell_type": "code",
   "execution_count": null,
   "metadata": {
    "dotnet_interactive": {
     "language": "spiral"
    },
    "polyglot_notebook": {
     "kernelName": "spiral"
    }
   },
   "outputs": [
    {
     "name": "stdout",
     "output_type": "stream",
     "text": [
      "()\n",
      "\n"
     ]
    }
   ],
   "source": [
    "inl unwrap forall t. (x : option' t) : t =\n",
    "    !\\($'\"!x.unwrap()\"')"
   ]
  },
  {
   "cell_type": "markdown",
   "metadata": {},
   "source": [
    "## unwrap_or"
   ]
  },
  {
   "cell_type": "code",
   "execution_count": null,
   "metadata": {
    "dotnet_interactive": {
     "language": "spiral"
    },
    "polyglot_notebook": {
     "kernelName": "spiral"
    }
   },
   "outputs": [
    {
     "name": "stdout",
     "output_type": "stream",
     "text": [
      "()\n",
      "\n"
     ]
    }
   ],
   "source": [
    "inl unwrap_or forall t. (def : t) (x : option' t) : t =\n",
    "    !\\($'\"!x.unwrap_or(!def)\"')"
   ]
  },
  {
   "cell_type": "markdown",
   "metadata": {},
   "source": [
    "## rc_upgrade"
   ]
  },
  {
   "cell_type": "code",
   "execution_count": null,
   "metadata": {
    "dotnet_interactive": {
     "language": "spiral"
    },
    "polyglot_notebook": {
     "kernelName": "spiral"
    }
   },
   "outputs": [
    {
     "name": "stdout",
     "output_type": "stream",
     "text": [
      "()\n",
      "\n"
     ]
    }
   ],
   "source": [
    "inl rc_upgrade forall t. (x : rust.weak_rc t) : option' (rust.rc t) =\n",
    "    inl x = join x\n",
    "    !\\($'\"std::rc::Weak::upgrade(&!x)\"')"
   ]
  },
  {
   "cell_type": "markdown",
   "metadata": {},
   "source": [
    "## rc_into_inner"
   ]
  },
  {
   "cell_type": "code",
   "execution_count": null,
   "metadata": {
    "dotnet_interactive": {
     "language": "spiral"
    },
    "polyglot_notebook": {
     "kernelName": "spiral"
    }
   },
   "outputs": [
    {
     "name": "stdout",
     "output_type": "stream",
     "text": [
      "()\n",
      "\n"
     ]
    }
   ],
   "source": [
    "inl rc_into_inner forall t. (x : rust.rc t) : option' t =\n",
    "    !\\\\(x, $'\"std::rc::Rc::into_inner($0)\"')"
   ]
  },
  {
   "cell_type": "code",
   "execution_count": null,
   "metadata": {
    "dotnet_interactive": {
     "language": "spiral"
    },
    "polyglot_notebook": {
     "kernelName": "spiral"
    }
   },
   "outputs": [
    {
     "data": {
      "text/plain": [
       "US0_0(0)\n"
      ]
     },
     "metadata": {},
     "output_type": "display_data"
    }
   ],
   "source": [
    "// // test\n",
    "// // rust=true\n",
    "// // print_code=false\n",
    "\n",
    "types ()\n",
    "rust.new_rc 0i32\n",
    "|> rc_into_inner\n",
    "|> unbox\n",
    "|> _assert_eq' (Some 0i32)"
   ]
  }
 ],
 "metadata": {},
 "nbformat": 4,
 "nbformat_minor": 5
}