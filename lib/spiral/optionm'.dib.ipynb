{
 "cells": [
  {
   "cell_type": "markdown",
   "metadata": {},
   "source": [
    "# optionm"
   ]
  },
  {
   "cell_type": "code",
   "execution_count": null,
   "metadata": {
    "dotnet_interactive": {
     "language": "spiral"
    },
    "polyglot_notebook": {
     "kernelName": "spiral"
    }
   },
   "outputs": [
    {
     "name": "stdout",
     "output_type": "stream",
     "text": [
      "()\n",
      "\n"
     ]
    }
   ],
   "source": [
    "// // test\n",
    "\n",
    "open testing"
   ]
  },
  {
   "cell_type": "code",
   "execution_count": null,
   "metadata": {
    "dotnet_interactive": {
     "language": "spiral"
    },
    "polyglot_notebook": {
     "kernelName": "spiral"
    }
   },
   "outputs": [
    {
     "name": "stdout",
     "output_type": "stream",
     "text": [
      "()\n",
      "\n"
     ]
    }
   ],
   "source": [
    "open rust_operators"
   ]
  },
  {
   "cell_type": "markdown",
   "metadata": {},
   "source": [
    "## default_value"
   ]
  },
  {
   "cell_type": "code",
   "execution_count": null,
   "metadata": {
    "dotnet_interactive": {
     "language": "spiral"
    },
    "polyglot_notebook": {
     "kernelName": "spiral"
    }
   },
   "outputs": [
    {
     "name": "stdout",
     "output_type": "stream",
     "text": [
      "()\n",
      "\n"
     ]
    }
   ],
   "source": [
    "inl default_value d =\n",
    "    optionm.defaultWith d"
   ]
  },
  {
   "cell_type": "code",
   "execution_count": null,
   "metadata": {
    "dotnet_interactive": {
     "language": "spiral"
    },
    "polyglot_notebook": {
     "kernelName": "spiral"
    }
   },
   "outputs": [
    {
     "name": "stdout",
     "output_type": "stream",
     "text": [
      "let rec method0 () : unit =\n",
      "    let v0 : string = $\"__expect / actual: %A{3} / expected: %A{3}\"\n",
      "    ()\n",
      "method0()\n",
      "\n"
     ]
    }
   ],
   "source": [
    "// // test\n",
    "\n",
    "None\n",
    "|> default_value 3i32\n",
    "|> _equal 3i32"
   ]
  },
  {
   "cell_type": "markdown",
   "metadata": {},
   "source": [
    "## (/??)"
   ]
  },
  {
   "cell_type": "code",
   "execution_count": null,
   "metadata": {
    "dotnet_interactive": {
     "language": "spiral"
    },
    "polyglot_notebook": {
     "kernelName": "spiral"
    }
   },
   "outputs": [
    {
     "name": "stdout",
     "output_type": "stream",
     "text": [
      "()\n",
      "\n"
     ]
    }
   ],
   "source": [
    "inl (/??) a b =\n",
    "    a |> default_value b"
   ]
  },
  {
   "cell_type": "code",
   "execution_count": null,
   "metadata": {
    "dotnet_interactive": {
     "language": "spiral"
    },
    "polyglot_notebook": {
     "kernelName": "spiral"
    }
   },
   "outputs": [
    {
     "name": "stdout",
     "output_type": "stream",
     "text": [
      "let rec method0 () : unit =\n",
      "    let v0 : string = $\"__expect / actual: %A{3} / expected: %A{3}\"\n",
      "    ()\n",
      "method0()\n",
      "\n"
     ]
    }
   ],
   "source": [
    "// // test\n",
    "\n",
    "None /?? 3i32\n",
    "|> _equal 3i32"
   ]
  },
  {
   "cell_type": "markdown",
   "metadata": {},
   "source": [
    "## default_with"
   ]
  },
  {
   "cell_type": "code",
   "execution_count": null,
   "metadata": {
    "dotnet_interactive": {
     "language": "spiral"
    },
    "polyglot_notebook": {
     "kernelName": "spiral"
    }
   },
   "outputs": [
    {
     "name": "stdout",
     "output_type": "stream",
     "text": [
      "()\n",
      "\n"
     ]
    }
   ],
   "source": [
    "inl default_with fn =\n",
    "    function Some x => x | None => fn ()"
   ]
  },
  {
   "cell_type": "code",
   "execution_count": null,
   "metadata": {
    "dotnet_interactive": {
     "language": "spiral"
    },
    "polyglot_notebook": {
     "kernelName": "spiral"
    }
   },
   "outputs": [
    {
     "name": "stdout",
     "output_type": "stream",
     "text": [
      "let rec method0 () : unit =\n",
      "    let v0 : string = $\"__expect / actual: %A{3} / expected: %A{3}\"\n",
      "    ()\n",
      "method0()\n",
      "\n"
     ]
    }
   ],
   "source": [
    "// // test\n",
    "\n",
    "None\n",
    "|> default_with (fun () => 3i32)\n",
    "|> _equal 3i32"
   ]
  },
  {
   "cell_type": "markdown",
   "metadata": {},
   "source": [
    "## choose"
   ]
  },
  {
   "cell_type": "code",
   "execution_count": null,
   "metadata": {
    "dotnet_interactive": {
     "language": "spiral"
    },
    "polyglot_notebook": {
     "kernelName": "spiral"
    }
   },
   "outputs": [
    {
     "name": "stdout",
     "output_type": "stream",
     "text": [
      "()\n",
      "\n"
     ]
    }
   ],
   "source": [
    "inl choose fn a b =\n",
    "    match a, b with\n",
    "    | Some x, Some y => fn x y |> Some\n",
    "    | _ => None"
   ]
  },
  {
   "cell_type": "code",
   "execution_count": null,
   "metadata": {
    "dotnet_interactive": {
     "language": "spiral"
    },
    "polyglot_notebook": {
     "kernelName": "spiral"
    }
   },
   "outputs": [
    {
     "name": "stdout",
     "output_type": "stream",
     "text": [
      "type [<Struct>] US0 =\n",
      "    | US0_0\n",
      "    | US0_1 of f1_0 : int32\n",
      "let rec method0 () : unit =\n",
      "    let v0 : US0 = US0_1(5)\n",
      "    let v1 : US0 = US0_1(5)\n",
      "    let v2 : string = $\"__expect / actual: %A{v0} / expected: %A{v1}\"\n",
      "    ()\n",
      "method0()\n",
      "\n"
     ]
    }
   ],
   "source": [
    "// // test\n",
    "\n",
    "(Some 2i32, Some 3)\n",
    "||> choose (+)\n",
    "|> _equal (Some 5)"
   ]
  },
  {
   "cell_type": "markdown",
   "metadata": {},
   "source": [
    "## iter"
   ]
  },
  {
   "cell_type": "code",
   "execution_count": null,
   "metadata": {
    "dotnet_interactive": {
     "language": "spiral"
    },
    "polyglot_notebook": {
     "kernelName": "spiral"
    }
   },
   "outputs": [
    {
     "name": "stdout",
     "output_type": "stream",
     "text": [
      "()\n",
      "\n"
     ]
    }
   ],
   "source": [
    "inl iter fn = function\n",
    "    | Some x => fn x\n",
    "    | None => ()"
   ]
  },
  {
   "cell_type": "code",
   "execution_count": null,
   "metadata": {
    "dotnet_interactive": {
     "language": "spiral"
    },
    "polyglot_notebook": {
     "kernelName": "spiral"
    }
   },
   "outputs": [
    {
     "name": "stdout",
     "output_type": "stream",
     "text": [
      "type Mut0 = {mutable l0 : int32}\n",
      "let rec method0 () : unit =\n",
      "    let v0 : Mut0 = {l0 = 1} : Mut0\n",
      "    let v1 : int32 = v0.l0\n",
      "    let v2 : int32 = v1 + 1\n",
      "    v0.l0 <- v2\n",
      "    let v3 : int32 = v0.l0\n",
      "    let v4 : string = $\"__expect / actual: %A{v3} / expected: %A{2}\"\n",
      "    let v5 : bool = v3 = 2\n",
      "    let v6 : bool = v5 = false\n",
      "    if v6 then\n",
      "        failwith<unit> v4\n",
      "method0()\n",
      "\n"
     ]
    }
   ],
   "source": [
    "// // test\n",
    "\n",
    "inl n = mut 1i32\n",
    "inl fn =\n",
    "    fun n' =>\n",
    "        n <- *n + n'\n",
    "Some 1i32 |> iter fn\n",
    "None |> iter fn\n",
    "*n\n",
    "|> _equal 2i32"
   ]
  },
  {
   "cell_type": "markdown",
   "metadata": {},
   "source": [
    "## option'"
   ]
  },
  {
   "cell_type": "code",
   "execution_count": null,
   "metadata": {
    "dotnet_interactive": {
     "language": "spiral"
    },
    "polyglot_notebook": {
     "kernelName": "spiral"
    }
   },
   "outputs": [
    {
     "name": "stdout",
     "output_type": "stream",
     "text": [
      "()\n",
      "\n"
     ]
    }
   ],
   "source": [
    "nominal option' t = $\"`t option\"\n",
    "\n",
    "inl unbox forall t. (x : option' t) : option t =\n",
    "    inl some x : option t = Some x\n",
    "    inl none : option t = None\n",
    "    $\"!x |> Option.map !some |> Option.defaultValue !none\"\n",
    "\n",
    "inl box forall t. (x : option t) : option' t =\n",
    "    match x with\n",
    "    | Some x => $\"Some !x\"\n",
    "    | None => $\"None\""
   ]
  },
  {
   "cell_type": "code",
   "execution_count": null,
   "metadata": {
    "dotnet_interactive": {
     "language": "spiral"
    },
    "polyglot_notebook": {
     "kernelName": "spiral"
    }
   },
   "outputs": [
    {
     "name": "stdout",
     "output_type": "stream",
     "text": [
      "type [<Struct>] US0 =\n",
      "    | US0_0\n",
      "    | US0_1 of f1_0 : int32\n",
      "let rec closure0 () (v0 : int32) : US0 =\n",
      "    US0_1(v0)\n",
      "and method0 () : unit =\n",
      "    let v0 : int32 option = Some 3\n",
      "    let v1 : (int32 -> US0) = closure0()\n",
      "    let v2 : US0 = US0_0\n",
      "    let v3 : US0 = v0 |> Option.map v1 |> Option.defaultValue v2\n",
      "    let v4 : int32 option = None\n",
      "    let v5 : US0 = US0_0\n",
      "    let v6 : US0 = v4 |> Option.map v1 |> Option.defaultValue v5\n",
      "    let v7 : US0 = US0_1(3)\n",
      "    let v8 : US0 = US0_0\n",
      "    let v9 : string = $\"__expect / actual: %A{struct (v3, v6)} / expected: %A{struct (v7, v8)}\"\n",
      "    let v14 : bool =\n",
      "        match v3 with\n",
      "        | US0_1(v12) -> (* Some *)\n",
      "            let v13 : bool = v12 = 3\n",
      "            v13\n",
      "        | _ ->\n",
      "            false\n",
      "    let v16 : bool =\n",
      "        if v14 then\n",
      "            match v6 with\n",
      "            | US0_0 -> (* None *)\n",
      "                true\n",
      "            | _ ->\n",
      "                false\n",
      "        else\n",
      "            false\n",
      "    let v17 : bool = v16 = false\n",
      "    if v17 then\n",
      "        failwith<unit> v9\n",
      "method0()\n",
      "\n"
     ]
    }
   ],
   "source": [
    "// // test\n",
    "\n",
    "inl x = Some 3i32\n",
    "inl y : option i32 = None\n",
    "inl x' = x |> box |> unbox\n",
    "inl y' = y |> box |> unbox\n",
    "(x', y') |> _equal (x, y)"
   ]
  },
  {
   "cell_type": "markdown",
   "metadata": {},
   "source": [
    "## map"
   ]
  },
  {
   "cell_type": "code",
   "execution_count": null,
   "metadata": {
    "dotnet_interactive": {
     "language": "spiral"
    },
    "polyglot_notebook": {
     "kernelName": "spiral"
    }
   },
   "outputs": [
    {
     "name": "stdout",
     "output_type": "stream",
     "text": [
      "()\n",
      "\n"
     ]
    }
   ],
   "source": [
    "inl map forall t u. (fn : t -> u) (x : option' t) : option' u =\n",
    "    inl x = join x\n",
    "    inl fn = join fn\n",
    "    !\\($'\"!x.map(|x| !fn(x))\"')"
   ]
  },
  {
   "cell_type": "markdown",
   "metadata": {},
   "source": [
    "## flatten"
   ]
  },
  {
   "cell_type": "code",
   "execution_count": null,
   "metadata": {
    "dotnet_interactive": {
     "language": "spiral"
    },
    "polyglot_notebook": {
     "kernelName": "spiral"
    }
   },
   "outputs": [
    {
     "name": "stdout",
     "output_type": "stream",
     "text": [
      "()\n",
      "\n"
     ]
    }
   ],
   "source": [
    "inl flatten x =\n",
    "    match x with\n",
    "    | Some (Some x) => Some x\n",
    "    | _ => None"
   ]
  },
  {
   "cell_type": "markdown",
   "metadata": {},
   "source": [
    "## unwrap"
   ]
  },
  {
   "cell_type": "code",
   "execution_count": null,
   "metadata": {
    "dotnet_interactive": {
     "language": "spiral"
    },
    "polyglot_notebook": {
     "kernelName": "spiral"
    }
   },
   "outputs": [
    {
     "name": "stdout",
     "output_type": "stream",
     "text": [
      "()\n",
      "\n"
     ]
    }
   ],
   "source": [
    "inl unwrap forall t. (x : option' t) : t =\n",
    "    !\\($'\"!x.unwrap()\"')"
   ]
  },
  {
   "cell_type": "markdown",
   "metadata": {},
   "source": [
    "## unwrap_or"
   ]
  },
  {
   "cell_type": "code",
   "execution_count": null,
   "metadata": {
    "dotnet_interactive": {
     "language": "spiral"
    },
    "polyglot_notebook": {
     "kernelName": "spiral"
    }
   },
   "outputs": [
    {
     "name": "stdout",
     "output_type": "stream",
     "text": [
      "()\n",
      "\n"
     ]
    }
   ],
   "source": [
    "inl unwrap_or forall t. (def : t) (x : option' t) : t =\n",
    "    !\\($'\"!x.unwrap_or(!def)\"')"
   ]
  },
  {
   "cell_type": "markdown",
   "metadata": {},
   "source": [
    "## rc_upgrade"
   ]
  },
  {
   "cell_type": "code",
   "execution_count": null,
   "metadata": {
    "dotnet_interactive": {
     "language": "spiral"
    },
    "polyglot_notebook": {
     "kernelName": "spiral"
    }
   },
   "outputs": [
    {
     "name": "stdout",
     "output_type": "stream",
     "text": [
      "()\n",
      "\n"
     ]
    }
   ],
   "source": [
    "inl rc_upgrade forall t. (x : rust.weak_rc t) : option (rust.rc t) =\n",
    "    inl x = join x\n",
    "    !\\($'\"std::rc::Weak::upgrade(&!x)\"')\n",
    "    |> unbox"
   ]
  }
 ],
 "metadata": {},
 "nbformat": 4,
 "nbformat_minor": 5
}