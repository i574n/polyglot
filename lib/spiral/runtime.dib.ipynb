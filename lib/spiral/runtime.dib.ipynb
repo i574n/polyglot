{
 "cells": [
  {
   "cell_type": "markdown",
   "metadata": {},
   "source": [
    "# runtime"
   ]
  },
  {
   "cell_type": "code",
   "execution_count": null,
   "metadata": {
    "dotnet_interactive": {
     "language": "spiral"
    },
    "polyglot_notebook": {
     "kernelName": "spiral"
    }
   },
   "outputs": [],
   "source": [
    "open rust\n",
    "open rust_operators\n",
    "open sm'_operators"
   ]
  },
  {
   "cell_type": "code",
   "execution_count": null,
   "metadata": {
    "dotnet_interactive": {
     "language": "spiral"
    },
    "polyglot_notebook": {
     "kernelName": "spiral"
    }
   },
   "outputs": [],
   "source": [
    "//// test\n",
    "\n",
    "open testing\n",
    "open file_system_operators"
   ]
  },
  {
   "cell_type": "markdown",
   "metadata": {},
   "source": [
    "## runtime"
   ]
  },
  {
   "cell_type": "markdown",
   "metadata": {},
   "source": [
    "### split_args"
   ]
  },
  {
   "cell_type": "code",
   "execution_count": null,
   "metadata": {
    "dotnet_interactive": {
     "language": "spiral"
    },
    "polyglot_notebook": {
     "kernelName": "spiral"
    }
   },
   "outputs": [],
   "source": [
    "let split_args (args : string) : result (array_base string) string =\n",
    "    open parsing\n",
    "    inl esc = [ '\\\\'; '`' ]\n",
    "    inl quotes = [ '\"' ]\n",
    "    inl special = esc ++ quotes\n",
    "    inl p_esc_char c =\n",
    "        p_char c >>. any_char () |>> fun c' => $'$\"{!c}{!c'}\"'\n",
    "    inl p_word = special |> none_of |>> sm'.obj_to_string\n",
    "    inl p_plain = special ++ [ ' ' ] |> none_of |> many1_chars\n",
    "    inl p_text = p_word |> many1_strings\n",
    "    inl p_esc = esc |> listm.map p_esc_char |> choice\n",
    "    inl p_quoted = (p_word <|> p_esc) |> many |>> sm'.concat_list \"\"\n",
    "    inl p_quoted_all = p_quoted |> between (p_char '\"') (p_char '\"')\n",
    "    inl p_esc_root = p_esc >>% \"\" >>. (p_word |> many) |>> sm'.concat_list \"\"\n",
    "    inl p_content = p_plain <|> p_quoted_all <|> p_esc_root\n",
    "    inl p_args = spaces1 () |> sep_by p_content\n",
    "    args\n",
    "    |> parse p_args\n",
    "    |> resultm.map (fst >> listm'.box >> listm'.to_array')"
   ]
  },
  {
   "cell_type": "code",
   "execution_count": null,
   "metadata": {
    "dotnet_interactive": {
     "language": "spiral"
    },
    "polyglot_notebook": {
     "kernelName": "spiral"
    }
   },
   "outputs": [
    {
     "data": {
      "text/plain": [
       "\n",
       ".rs output:\n",
       "\n",
       "00:00:00 \u001B[90mv\u001B[39m #1 _assert_fn / { input = a b c }\n",
       "__assert_eq' / actual: Array(MutCell([\"a\", \"b\", \"c\"])) / expected: Array(MutCell([\"a\", \"b\", \"c\"]))\n",
       "\n",
       "00:00:00 \u001B[90mv\u001B[39m #2 _assert_fn / { input = e f \"g h\" i }\n",
       "__assert_eq' / actual: Array(MutCell([\"e\", \"f\", \"g h\", \"i\"])) / expected: Array(MutCell([\"e\", \"f\", \"g h\", \"i\"]))\n",
       "\n",
       "00:00:00 \u001B[90mv\u001B[39m #3 _assert_fn / { input = \"j k\" \"l\" \"m\" }\n",
       "__assert_eq' / actual: Array(MutCell([\"j k\", \"l\", \"m\"])) / expected: Array(MutCell([\"j k\", \"l\", \"m\"]))\n",
       "\n",
       "00:00:00 \u001B[90mv\u001B[39m #4 _assert_fn / { input = s -t \"u `\"v`\" w\" }\n",
       "__assert_eq' / actual: Array(MutCell([\"s\", \"-t\", \"u `\"v`\" w\"])) / expected: Array(MutCell([\"s\", \"-t\", \"u `\"v`\" w\"]))\n",
       "\n",
       "00:00:00 \u001B[90mv\u001B[39m #5 _assert_fn / { input = n -o \"p \\\"q\\\" r\" }\n",
       "__assert_eq' / actual: Array(MutCell([\"n\", \"-o\", \"p \\\"q\\\" r\"])) / expected: Array(MutCell([\"n\", \"-o\", \"p \\\"q\\\" r\"]))\n",
       "\n",
       "00:00:00 \u001B[90mv\u001B[39m #6 _assert_fn / { input = r -s \"t \\\"u\\\"\" }\n",
       "__assert_eq' / actual: Array(MutCell([\"r\", \"-s\", \"t \\\"u\\\"\"])) / expected: Array(MutCell([\"r\", \"-s\", \"t \\\"u\\\"\"]))\n",
       "\n",
       "00:00:00 \u001B[90mv\u001B[39m #7 _assert_fn / { input = x -y \"$z -a '(b=\\\"c-id=)[a-fA-F0-9]{8}', { `$_[1] + `$d++ }\" }\n",
       "__assert_eq' / actual: Array(MutCell([\"x\", \"-y\", \"$z -a '(b=\\\"c-id=)[a-fA-F0-9]{8}', { `$_[1] + `$d++ }\"])) / expected: Array(MutCell([\"x\", \"-y\", \"$z -a '(b=\\\"c-id=)[a-fA-F0-9]{8}', { `$_[1] + `$d++ }\"]))\n",
       "\n",
       "00:00:00 \u001B[90mv\u001B[39m #8 _assert_fn / { input = e -f \"$g -h '(i=`\"j-id=)[a-fA-F0-9]{8}', { `$_[1] + `$k++ }\" }\n",
       "__assert_eq' / actual: Array(MutCell([\"e\", \"-f\", \"$g -h '(i=`\"j-id=)[a-fA-F0-9]{8}', { `$_[1] + `$k++ }\"])) / expected: Array(MutCell([\"e\", \"-f\", \"$g -h '(i=`\"j-id=)[a-fA-F0-9]{8}', { `$_[1] + `$k++ }\"]))\n",
       "\n",
       "00:00:00 \u001B[90mv\u001B[39m #9 _assert_fn / { input = --l \\\"''' m '''\\\"  }\n",
       "__assert_eq' / actual: Array(MutCell([\"--l\", \"''' m '''\"])) / expected: Array(MutCell([\"--l\", \"''' m '''\"]))\n",
       "\n",
       "00:00:00 \u001B[90mv\u001B[39m #10 _assert_fn / { input = n --o --p q --r \"s:/t u/v.w\" --x \"y:/z.a\" --b c.d \"\\e{f-g}\" h.i \"j (k)\" }\n",
       "__assert_eq' / actual: Array(MutCell([\"n\", \"--o\", \"--p\", \"q\", \"--r\", \"s:/t u/v.w\", \"--x\", \"y:/z.a\", \"--b\", \"c.d\", \"\\e{f-g}\", \"h.i\", \"j (k)\"])) / expected: Array(MutCell([\"n\", \"--o\", \"--p\", \"q\", \"--r\", \"s:/t u/v.w\", \"--x\", \"y:/z.a\", \"--b\", \"c.d\", \"\\e{f-g}\", \"h.i\", \"j (k)\"]))\n",
       "\n",
       "00:00:00 \u001B[90mv\u001B[39m #11 _assert_fn / { input = l \"m n:\\o.p\" }\n",
       "__assert_eq' / actual: Array(MutCell([\"l\", \"m n:\\o.p\"])) / expected: Array(MutCell([\"l\", \"m n:\\o.p\"]))\n",
       "\n",
       "\n",
       ".ts output:\n",
       "\n",
       "00:00:00 \u001B[90mv\u001B[0m #1 _assert_fn / { input = a b c }\n",
       "__assert_eq' / actual: a,b,c / expected: a,b,c\n",
       "\n",
       "00:00:00 \u001B[90mv\u001B[0m #2 _assert_fn / { input = e f \"g h\" i }\n",
       "__assert_eq' / actual: e,f,g h,i / expected: e,f,g h,i\n",
       "\n",
       "00:00:00 \u001B[90mv\u001B[0m #3 _assert_fn / { input = \"j k\" \"l\" \"m\" }\n",
       "__assert_eq' / actual: j k,l,m / expected: j k,l,m\n",
       "\n",
       "00:00:00 \u001B[90mv\u001B[0m #4 _assert_fn / { input = s -t \"u `\"v`\" w\" }\n",
       "__assert_eq' / actual: s,-t,u `\"v`\" w / expected: s,-t,u `\"v`\" w\n",
       "\n",
       "00:00:00 \u001B[90mv\u001B[0m #5 _assert_fn / { input = n -o \"p \\\"q\\\" r\" }\n",
       "__assert_eq' / actual: n,-o,p \\\"q\\\" r / expected: n,-o,p \\\"q\\\" r\n",
       "\n",
       "00:00:00 \u001B[90mv\u001B[0m #6 _assert_fn / { input = r -s \"t \\\"u\\\"\" }\n",
       "__assert_eq' / actual: r,-s,t \\\"u\\\" / expected: r,-s,t \\\"u\\\"\n",
       "\n",
       "00:00:00 \u001B[90mv\u001B[0m #7 _assert_fn / { input = x -y \"$z -a '(b=\\\"c-id=)[a-fA-F0-9]{8}', { `$_[1] + `$d++ }\" }\n",
       "__assert_eq' / actual: x,-y,$z -a '(b=\\\"c-id=)[a-fA-F0-9]{8}', { `$_[1] + `$d++ } / expected: x,-y,$z -a '(b=\\\"c-id=)[a-fA-F0-9]{8}', { `$_[1] + `$d++ }\n",
       "\n",
       "00:00:00 \u001B[90mv\u001B[0m #8 _assert_fn / { input = e -f \"$g -h '(i=`\"j-id=)[a-fA-F0-9]{8}', { `$_[1] + `$k++ }\" }\n",
       "__assert_eq' / actual: e,-f,$g -h '(i=`\"j-id=)[a-fA-F0-9]{8}', { `$_[1] + `$k++ } / expected: e,-f,$g -h '(i=`\"j-id=)[a-fA-F0-9]{8}', { `$_[1] + `$k++ }\n",
       "\n",
       "00:00:00 \u001B[90mv\u001B[0m #9 _assert_fn / { input = --l \\\"''' m '''\\\"  }\n",
       "__assert_eq' / actual: --l,''' m ''' / expected: --l,''' m '''\n",
       "\n",
       "00:00:00 \u001B[90mv\u001B[0m #10 _assert_fn / { input = n --o --p q --r \"s:/t u/v.w\" --x \"y:/z.a\" --b c.d \"\\e{f-g}\" h.i \"j (k)\" }\n",
       "__assert_eq' / actual: n,--o,--p,q,--r,s:/t u/v.w,--x,y:/z.a,--b,c.d,\\e{f-g},h.i,j (k) / expected: n,--o,--p,q,--r,s:/t u/v.w,--x,y:/z.a,--b,c.d,\\e{f-g},h.i,j (k)\n",
       "\n",
       "00:00:00 \u001B[90mv\u001B[0m #11 _assert_fn / { input = l \"m n:\\o.p\" }\n",
       "__assert_eq' / actual: l,m n:\\o.p / expected: l,m n:\\o.p\n",
       "\n",
       "\n",
       ".py output:\n",
       "\n",
       "00:00:00 \u001B[90mv\u001B[0m #1 _assert_fn / { input = a b c }\n",
       "__assert_eq' / actual: ['a', 'b', 'c'] / expected: ['a', 'b', 'c']\n",
       "\n",
       "00:00:00 \u001B[90mv\u001B[0m #2 _assert_fn / { input = e f \"g h\" i }\n",
       "__assert_eq' / actual: ['e', 'f', 'g h', 'i'] / expected: ['e', 'f', 'g h', 'i']\n",
       "\n",
       "00:00:00 \u001B[90mv\u001B[0m #3 _assert_fn / { input = \"j k\" \"l\" \"m\" }\n",
       "__assert_eq' / actual: ['j k', 'l', 'm'] / expected: ['j k', 'l', 'm']\n",
       "\n",
       "00:00:00 \u001B[90mv\u001B[0m #4 _assert_fn / { input = s -t \"u `\"v`\" w\" }\n",
       "__assert_eq' / actual: ['s', '-t', 'u `\"v`\" w'] / expected: ['s', '-t', 'u `\"v`\" w']\n",
       "\n",
       "00:00:00 \u001B[90mv\u001B[0m #5 _assert_fn / { input = n -o \"p \\\"q\\\" r\" }\n",
       "__assert_eq' / actual: ['n', '-o', 'p \\\\\"q\\\\\" r'] / expected: ['n', '-o', 'p \\\\\"q\\\\\" r']\n",
       "\n",
       "00:00:00 \u001B[90mv\u001B[0m #6 _assert_fn / { input = r -s \"t \\\"u\\\"\" }\n",
       "__assert_eq' / actual: ['r', '-s', 't \\\\\"u\\\\\"'] / expected: ['r', '-s', 't \\\\\"u\\\\\"']\n",
       "\n",
       "00:00:00 \u001B[90mv\u001B[0m #7 _assert_fn / { input = x -y \"$z -a '(b=\\\"c-id=)[a-fA-F0-9]{8}', { `$_[1] + `$d++ }\" }\n",
       "__assert_eq' / actual: ['x', '-y', '$z -a \\'(b=\\\\\"c-id=)[a-fA-F0-9]{8}\\', { `$_[1] + `$d++ }'] / expected: ['x', '-y', '$z -a \\'(b=\\\\\"c-id=)[a-fA-F0-9]{8}\\', { `$_[1] + `$d++ }']\n",
       "\n",
       "00:00:00 \u001B[90mv\u001B[0m #8 _assert_fn / { input = e -f \"$g -h '(i=`\"j-id=)[a-fA-F0-9]{8}', { `$_[1] + `$k++ }\" }\n",
       "__assert_eq' / actual: ['e', '-f', '$g -h \\'(i=`\"j-id=)[a-fA-F0-9]{8}\\', { `$_[1] + `$k++ }'] / expected: ['e', '-f', '$g -h \\'(i=`\"j-id=)[a-fA-F0-9]{8}\\', { `$_[1] + `$k++ }']\n",
       "\n",
       "00:00:00 \u001B[90mv\u001B[0m #9 _assert_fn / { input = --l \\\"''' m '''\\\"  }\n",
       "__assert_eq' / actual: ['--l', \"''' m '''\"] / expected: ['--l', \"''' m '''\"]\n",
       "\n",
       "00:00:00 \u001B[90mv\u001B[0m #10 _assert_fn / { input = n --o --p q --r \"s:/t u/v.w\" --x \"y:/z.a\" --b c.d \"\\e{f-g}\" h.i \"j (k)\" }\n",
       "__assert_eq' / actual: ['n', '--o', '--p', 'q', '--r', 's:/t u/v.w', '--x', 'y:/z.a', '--b', 'c.d', '\\\\e{f-g}', 'h.i', 'j (k)'] / expected: ['n', '--o', '--p', 'q', '--r', 's:/t u/v.w', '--x', 'y:/z.a', '--b', 'c.d', '\\\\e{f-g}', 'h.i', 'j (k)']\n",
       "\n",
       "00:00:00 \u001B[90mv\u001B[0m #11 _assert_fn / { input = l \"m n:\\o.p\" }\n",
       "__assert_eq' / actual: ['l', 'm n:\\\\o.p'] / expected: ['l', 'm n:\\\\o.p']\n",
       "\n",
       "\n"
      ]
     },
     "metadata": {},
     "output_type": "display_data"
    },
    {
     "name": "stdout",
     "output_type": "stream",
     "text": [
      ".fsx output:\n",
      "\n",
      "00:00:00 \u001B[90mv\u001B[0m #1 _assert_fn / { input = a b c }\n",
      "__assert_eq' / actual: [|\"a\"; \"b\"; \"c\"|] / expected: [|\"a\"; \"b\"; \"c\"|]\n",
      "\n",
      "00:00:00 \u001B[90mv\u001B[0m #2 _assert_fn / { input = e f \"g h\" i }\n",
      "__assert_eq' / actual: [|\"e\"; \"f\"; \"g h\"; \"i\"|] / expected: [|\"e\"; \"f\"; \"g h\"; \"i\"|]\n",
      "\n",
      "00:00:00 \u001B[90mv\u001B[0m #3 _assert_fn / { input = \"j k\" \"l\" \"m\" }\n",
      "__assert_eq' / actual: [|\"j k\"; \"l\"; \"m\"|] / expected: [|\"j k\"; \"l\"; \"m\"|]\n",
      "\n",
      "00:00:00 \u001B[90mv\u001B[0m #4 _assert_fn / { input = s -t \"u `\"v`\" w\" }\n",
      "__assert_eq' / actual: [|\"s\"; \"-t\"; \"u `\"v`\" w\"|] / expected: [|\"s\"; \"-t\"; \"u `\"v`\" w\"|]\n",
      "\n",
      "00:00:00 \u001B[90mv\u001B[0m #5 _assert_fn / { input = n -o \"p \\\"q\\\" r\" }\n",
      "__assert_eq' / actual: [|\"n\"; \"-o\"; \"p \\\"q\\\" r\"|] / expected: [|\"n\"; \"-o\"; \"p \\\"q\\\" r\"|]\n",
      "\n",
      "00:00:00 \u001B[90mv\u001B[0m #6 _assert_fn / { input = r -s \"t \\\"u\\\"\" }\n",
      "__assert_eq' / actual: [|\"r\"; \"-s\"; \"t \\\"u\\\"\"|] / expected: [|\"r\"; \"-s\"; \"t \\\"u\\\"\"|]\n",
      "\n",
      "00:00:00 \u001B[90mv\u001B[0m #7 _assert_fn / { input = x -y \"$z -a '(b=\\\"c-id=)[a-fA-F0-9]{8}', { `$_[1] + `$d++ }\" }\n",
      "__assert_eq' / actual: [|\"x\"; \"-y\"; \"$z -a '(b=\\\"c-id=)[a-fA-F0-9]{8}', { `$_[1] + `$d++ }\"|] / expected: [|\"x\"; \"-y\"; \"$z -a '(b=\\\"c-id=)[a-fA-F0-9]{8}', { `$_[1] + `$d++ }\"|]\n",
      "\n",
      "00:00:00 \u001B[90mv\u001B[0m #8 _assert_fn / { input = e -f \"$g -h '(i=`\"j-id=)[a-fA-F0-9]{8}', { `$_[1] + `$k++ }\" }\n",
      "__assert_eq' / actual: [|\"e\"; \"-f\"; \"$g -h '(i=`\"j-id=)[a-fA-F0-9]{8}', { `$_[1] + `$k++ }\"|] / expected: [|\"e\"; \"-f\"; \"$g -h '(i=`\"j-id=)[a-fA-F0-9]{8}', { `$_[1] + `$k++ }\"|]\n",
      "\n",
      "00:00:00 \u001B[90mv\u001B[0m #9 _assert_fn / { input = --l \\\"''' m '''\\\"  }\n",
      "__assert_eq' / actual: [|\"--l\"; \"''' m '''\"|] / expected: [|\"--l\"; \"''' m '''\"|]\n",
      "\n",
      "00:00:00 \u001B[90mv\u001B[0m #10 _assert_fn / { input = n --o --p q --r \"s:/t u/v.w\" --x \"y:/z.a\" --b c.d \"\\e{f-g}\" h.i \"j (k)\" }\n",
      "__assert_eq' / actual: [|\"n\"; \"--o\"; \"--p\"; \"q\"; \"--r\"; \"s:/t u/v.w\"; \"--x\"; \"y:/z.a\"; \"--b\"; \"c.d\";\n",
      "  \"\\e{f-g}\"; \"h.i\"; \"j (k)\"|] / expected: [|\"n\"; \"--o\"; \"--p\"; \"q\"; \"--r\"; \"s:/t u/v.w\"; \"--x\"; \"y:/z.a\"; \"--b\"; \"c.d\";\n",
      "  \"\\e{f-g}\"; \"h.i\"; \"j (k)\"|]\n",
      "\n",
      "00:00:00 \u001B[90mv\u001B[0m #11 _assert_fn / { input = l \"m n:\\o.p\" }\n",
      "__assert_eq' / actual: [|\"l\"; \"m n:\\o.p\"|] / expected: [|\"l\"; \"m n:\\o.p\"|]\n"
     ]
    }
   ],
   "source": [
    "//// test\n",
    "///! fsharp\n",
    "////! cuda // Only stack allocated primitive types (i8,i16,i32,i64 and u8,u16,u32,u64 and f32,f64 and bool) are allowed in CuPy arrays.\n",
    "///! rust\n",
    "///! typescript\n",
    "///! python\n",
    "\n",
    "[\n",
    "    \"a b c\",\n",
    "    ;[ \"a\"; \"b\"; \"c\" ]\n",
    "\n",
    "    \"e f \\\"g h\\\" i\",\n",
    "    ;[ \"e\"; \"f\"; \"g h\"; \"i\" ]\n",
    "\n",
    "    \"\\\"j k\\\" \\\"l\\\" \\\"m\\\"\",\n",
    "    ;[ \"j k\"; \"l\"; \"m\" ]\n",
    "\n",
    "    \"s -t \\\"u \\`\\\"v\\`\\\" w\\\"\",\n",
    "    ;[ \"s\"; \"-t\"; \"u \\`\\\"v\\`\\\" w\" ]\n",
    "\n",
    "    \"n -o \\\"p \\\\\\\"q\\\\\\\" r\\\"\",\n",
    "    ;[ \"n\"; \"-o\"; \"p \\\\\\\"q\\\\\\\" r\" ]\n",
    "\n",
    "    \"r -s \\\"t \\\\\\\"u\\\\\\\"\\\"\",\n",
    "    ;[ \"r\"; \"-s\"; \"t \\\\\\\"u\\\\\\\"\" ]\n",
    "\n",
    "    $'$\"x -y \\\\\\\"$z -a \\'(b=\\\\\\\\\\\\\"c-id=)[a-fA-F0-9]{{8}}\\', {{ \\`$_[1] + \\`$d++ }}\\\\\\\"\"',\n",
    "    ;[ \"x\"; \"-y\"; \"$z -a '(b=\\\\\\\"c-id=)[a-fA-F0-9]{8}', { `$_[1] + `$d++ }\" ]\n",
    "\n",
    "    \"e -f \\\"$g -h '(i=`\\\"j-id=)[a-fA-F0-9]{8}', { `$_[1] + `$k++ }\\\"\",\n",
    "    ;[ \"e\"; \"-f\"; \"$g -h '(i=`\\\"j-id=)[a-fA-F0-9]{8}', { `$_[1] + `$k++ }\" ]\n",
    "\n",
    "    $'$\"--l \\\\\\\\\\\\\"\\'\\'\\' m \\'\\'\\'\\\\\\\\\\\\\" \"',\n",
    "    ;[ \"--l\"; \"''' m '''\" ]\n",
    "\n",
    "    $'$\"n --o --p q --r \\\\\\\"s:/t u/v.w\\\\\\\" --x \\\\\\\"y:/z.a\\\\\\\" --b c.d \\\\\\\"\\\\\\\\e{{f-g}}\\\\\\\" h.i \\\\\\\"j (k)\\\\\\\"\"',\n",
    "    ;[ \"n\"; \"--o\"; \"--p\"; \"q\"; \"--r\"; \"s:/t u/v.w\"; \"--x\"; \"y:/z.a\"; \"--b\"; \"c.d\"; \"\\\\e{f-g}\"; \"h.i\"; \"j (k)\" ]\n",
    "\n",
    "    $'\\@$\"l \"\"m n:\\\\o.p\"\"\"',\n",
    "    ;[ \"l\"; \"m n:\\\\o.p\" ]\n",
    "]\n",
    "|> _assert_fn split_args"
   ]
  },
  {
   "cell_type": "markdown",
   "metadata": {},
   "source": [
    "### split_command"
   ]
  },
  {
   "cell_type": "code",
   "execution_count": null,
   "metadata": {
    "dotnet_interactive": {
     "language": "spiral"
    },
    "polyglot_notebook": {
     "kernelName": "spiral"
    }
   },
   "outputs": [],
   "source": [
    "let split_command (command : string) : result (string * option string) string =\n",
    "    open parsing\n",
    "    inl quotes = [ '\"'; '\\'' ]\n",
    "    inl p_quoted_char = quotes |> listm.map p_char |> choice\n",
    "    inl normalize = function '\\\\' => '/' | c => c\n",
    "    inl p_quoted = quotes |> none_of |>> normalize |> many_chars |> between p_quoted_char p_quoted_char\n",
    "    inl p_unquoted = quotes ++ [ ' ' ] |> none_of |>> normalize |> many1_chars\n",
    "    inl p_path = p_quoted <|> p_unquoted <|> eof () >>% \"\" .>> spaces ()\n",
    "    inl p_args = p_char ' ' |> opt >>. (any_char () |> many1_chars)\n",
    "    inl p_command = p_path .>>. (p_args |> opt)\n",
    "    command\n",
    "    |> parse p_command\n",
    "    |> resultm.map fst"
   ]
  },
  {
   "cell_type": "code",
   "execution_count": null,
   "metadata": {
    "dotnet_interactive": {
     "language": "spiral"
    },
    "polyglot_notebook": {
     "kernelName": "spiral"
    }
   },
   "outputs": [
    {
     "data": {
      "text/plain": [
       "\n",
       ".rs output:\n",
       "\n",
       "00:00:00 \u001B[90mv\u001B[39m #1 _assert_fn / { input =  }\n",
       "__assert_eq' / actual: (\"\", US1_1) / expected: (\"\", US1_1)\n",
       "\n",
       "00:00:00 \u001B[90mv\u001B[39m #2 _assert_fn / { input = /a/b/c }\n",
       "__assert_eq' / actual: (\"/a/b/c\", US1_1) / expected: (\"/a/b/c\", US1_1)\n",
       "\n",
       "00:00:00 \u001B[90mv\u001B[39m #3 _assert_fn / { input = d e.f }\n",
       "__assert_eq' / actual: (\"d\", US1_0(\"e.f\")) / expected: (\"d\", US1_0(\"e.f\"))\n",
       "\n",
       "00:00:00 \u001B[90mv\u001B[39m #4 _assert_fn / { input = ..\\..\\g.h i.j k.l }\n",
       "__assert_eq' / actual: (\"../../g.h\", US1_0(\"i.j k.l\")) / expected: (\"../../g.h\", US1_0(\"i.j k.l\"))\n",
       "\n",
       "00:00:00 \u001B[90mv\u001B[39m #5 _assert_fn / { input = m:\\n\\o.p \"q.r s.t\" }\n",
       "__assert_eq' / actual: (\"m:/n/o.p\", US1_0(\"\"q.r s.t\"\")) / expected: (\"m:/n/o.p\", US1_0(\"\"q.r s.t\"\"))\n",
       "\n",
       "00:00:00 \u001B[90mv\u001B[39m #6 _assert_fn / { input = \"..\\..\\u v\\w.x\" \"y z.a\" b.c }\n",
       "__assert_eq' / actual: (\"../../u v/w.x\", US1_0(\"\"y z.a\" b.c\")) / expected: (\"../../u v/w.x\", US1_0(\"\"y z.a\" b.c\"))\n",
       "\n",
       "00:00:00 \u001B[90mv\u001B[39m #7 _assert_fn / { input = \"..\\..\\d e.f\" -g \\\\\"h i\\\\\" }\n",
       "__assert_eq' / actual: (\"../../d e.f\", US1_0(\"-g \\\\\"h i\\\\\"\")) / expected: (\"../../d e.f\", US1_0(\"-g \\\\\"h i\\\\\"\"))\n",
       "\n",
       "00:00:00 \u001B[90mv\u001B[39m #8 _assert_fn / { input = ..\\..\\j k.l -m \\\\\"n o\\\\\" }\n",
       "__assert_eq' / actual: (\"../../j\", US1_0(\"k.l -m \\\\\"n o\\\\\"\")) / expected: (\"../../j\", US1_0(\"k.l -m \\\\\"n o\\\\\"\"))\n",
       "\n",
       "\n",
       ".ts output:\n",
       "\n",
       "00:00:00 \u001B[90mv\u001B[0m #1 _assert_fn / { input =  }\n",
       "__assert_eq' / actual: ,US1_1 / expected: ,US1_1\n",
       "\n",
       "00:00:00 \u001B[90mv\u001B[0m #2 _assert_fn / { input = /a/b/c }\n",
       "__assert_eq' / actual: /a/b/c,US1_1 / expected: /a/b/c,US1_1\n",
       "\n",
       "00:00:00 \u001B[90mv\u001B[0m #3 _assert_fn / { input = d e.f }\n",
       "__assert_eq' / actual: d,US1_0 e.f / expected: d,US1_0 e.f\n",
       "\n",
       "00:00:00 \u001B[90mv\u001B[0m #4 _assert_fn / { input = ..\\..\\g.h i.j k.l }\n",
       "__assert_eq' / actual: ../../g.h,US1_0 (i.j k.l) / expected: ../../g.h,US1_0 (i.j k.l)\n",
       "\n",
       "00:00:00 \u001B[90mv\u001B[0m #5 _assert_fn / { input = m:\\n\\o.p \"q.r s.t\" }\n",
       "__assert_eq' / actual: m:/n/o.p,US1_0 (\"q.r s.t\") / expected: m:/n/o.p,US1_0 (\"q.r s.t\")\n",
       "\n",
       "00:00:00 \u001B[90mv\u001B[0m #6 _assert_fn / { input = \"..\\..\\u v\\w.x\" \"y z.a\" b.c }\n",
       "__assert_eq' / actual: ../../u v/w.x,US1_0 (\"y z.a\" b.c) / expected: ../../u v/w.x,US1_0 (\"y z.a\" b.c)\n",
       "\n",
       "00:00:00 \u001B[90mv\u001B[0m #7 _assert_fn / { input = \"..\\..\\d e.f\" -g \\\\\"h i\\\\\" }\n",
       "__assert_eq' / actual: ../../d e.f,US1_0 (-g \\\\\"h i\\\\\") / expected: ../../d e.f,US1_0 (-g \\\\\"h i\\\\\")\n",
       "\n",
       "00:00:00 \u001B[90mv\u001B[0m #8 _assert_fn / { input = ..\\..\\j k.l -m \\\\\"n o\\\\\" }\n",
       "__assert_eq' / actual: ../../j,US1_0 (k.l -m \\\\\"n o\\\\\") / expected: ../../j,US1_0 (k.l -m \\\\\"n o\\\\\")\n",
       "\n",
       "\n",
       ".py output:\n",
       "\n",
       "00:00:00 \u001B[90mv\u001B[0m #1 _assert_fn / { input =  }\n",
       "__assert_eq' / actual: ('', US1_1) / expected: ('', US1_1)\n",
       "\n",
       "00:00:00 \u001B[90mv\u001B[0m #2 _assert_fn / { input = /a/b/c }\n",
       "__assert_eq' / actual: ('/a/b/c', US1_1) / expected: ('/a/b/c', US1_1)\n",
       "\n",
       "00:00:00 \u001B[90mv\u001B[0m #3 _assert_fn / { input = d e.f }\n",
       "__assert_eq' / actual: ('d', US1_0 \"e.f\") / expected: ('d', US1_0 \"e.f\")\n",
       "\n",
       "00:00:00 \u001B[90mv\u001B[0m #4 _assert_fn / { input = ..\\..\\g.h i.j k.l }\n",
       "__assert_eq' / actual: ('../../g.h', US1_0 (\"i.j k.l\")) / expected: ('../../g.h', US1_0 (\"i.j k.l\"))\n",
       "\n",
       "00:00:00 \u001B[90mv\u001B[0m #5 _assert_fn / { input = m:\\n\\o.p \"q.r s.t\" }\n",
       "__assert_eq' / actual: ('m:/n/o.p', US1_0 (\"\"q.r s.t\"\")) / expected: ('m:/n/o.p', US1_0 (\"\"q.r s.t\"\"))\n",
       "\n",
       "00:00:00 \u001B[90mv\u001B[0m #6 _assert_fn / { input = \"..\\..\\u v\\w.x\" \"y z.a\" b.c }\n",
       "__assert_eq' / actual: ('../../u v/w.x', US1_0 (\"\"y z.a\" b.c\")) / expected: ('../../u v/w.x', US1_0 (\"\"y z.a\" b.c\"))\n",
       "\n",
       "00:00:00 \u001B[90mv\u001B[0m #7 _assert_fn / { input = \"..\\..\\d e.f\" -g \\\\\"h i\\\\\" }\n",
       "__assert_eq' / actual: ('../../d e.f', US1_0 (\"-g \\\\\"h i\\\\\"\")) / expected: ('../../d e.f', US1_0 (\"-g \\\\\"h i\\\\\"\"))\n",
       "\n",
       "00:00:00 \u001B[90mv\u001B[0m #8 _assert_fn / { input = ..\\..\\j k.l -m \\\\\"n o\\\\\" }\n",
       "__assert_eq' / actual: ('../../j', US1_0 (\"k.l -m \\\\\"n o\\\\\"\")) / expected: ('../../j', US1_0 (\"k.l -m \\\\\"n o\\\\\"\"))\n",
       "\n",
       "\n"
      ]
     },
     "metadata": {},
     "output_type": "display_data"
    },
    {
     "name": "stdout",
     "output_type": "stream",
     "text": [
      ".fsx output:\n",
      "\n",
      "00:00:00 \u001B[90mv\u001B[0m #1 _assert_fn / { input =  }\n",
      "__assert_eq' / actual: struct (\"\", US1_1) / expected: struct (\"\", US1_1)\n",
      "\n",
      "00:00:00 \u001B[90mv\u001B[0m #2 _assert_fn / { input = /a/b/c }\n",
      "__assert_eq' / actual: struct (\"/a/b/c\", US1_1) / expected: struct (\"/a/b/c\", US1_1)\n",
      "\n",
      "00:00:00 \u001B[90mv\u001B[0m #3 _assert_fn / { input = d e.f }\n",
      "__assert_eq' / actual: struct (\"d\", US1_0 \"e.f\") / expected: struct (\"d\", US1_0 \"e.f\")\n",
      "\n",
      "00:00:00 \u001B[90mv\u001B[0m #4 _assert_fn / { input = ..\\..\\g.h i.j k.l }\n",
      "__assert_eq' / actual: struct (\"../../g.h\", US1_0 \"i.j k.l\") / expected: struct (\"../../g.h\", US1_0 \"i.j k.l\")\n",
      "\n",
      "00:00:00 \u001B[90mv\u001B[0m #5 _assert_fn / { input = m:\\n\\o.p \"q.r s.t\" }\n",
      "__assert_eq' / actual: struct (\"m:/n/o.p\", US1_0 \"\"q.r s.t\"\") / expected: struct (\"m:/n/o.p\", US1_0 \"\"q.r s.t\"\")\n",
      "\n",
      "00:00:00 \u001B[90mv\u001B[0m #6 _assert_fn / { input = \"..\\..\\u v\\w.x\" \"y z.a\" b.c }\n",
      "__assert_eq' / actual: struct (\"../../u v/w.x\", US1_0 \"\"y z.a\" b.c\") / expected: struct (\"../../u v/w.x\", US1_0 \"\"y z.a\" b.c\")\n",
      "\n",
      "00:00:00 \u001B[90mv\u001B[0m #7 _assert_fn / { input = \"..\\..\\d e.f\" -g \\\\\"h i\\\\\" }\n",
      "__assert_eq' / actual: struct (\"../../d e.f\", US1_0 \"-g \\\\\"h i\\\\\"\") / expected: struct (\"../../d e.f\", US1_0 \"-g \\\\\"h i\\\\\"\")\n",
      "\n",
      "00:00:00 \u001B[90mv\u001B[0m #8 _assert_fn / { input = ..\\..\\j k.l -m \\\\\"n o\\\\\" }\n",
      "__assert_eq' / actual: struct (\"../../j\", US1_0 \"k.l -m \\\\\"n o\\\\\"\") / expected: struct (\"../../j\", US1_0 \"k.l -m \\\\\"n o\\\\\"\")\n"
     ]
    }
   ],
   "source": [
    "//// test\n",
    "///! fsharp\n",
    "////! cuda // Only stack allocated primitive types (i8,i16,i32,i64 and u8,u16,u32,u64 and f32,f64 and bool) are allowed in CuPy arrays.\n",
    "///! rust\n",
    "///! typescript\n",
    "///! python\n",
    "\n",
    "[\n",
    "    \"\",\n",
    "    (\"\", None)\n",
    "\n",
    "    \"/a/b/c\",\n",
    "    (\"/a/b/c\", None)\n",
    "\n",
    "    \"d e.f\",\n",
    "    (\"d\", Some \"e.f\")\n",
    "\n",
    "    $'\"\"\"..\\\\..\\\\g.h i.j k.l\"\"\"',\n",
    "    (\"../../g.h\", Some \"i.j k.l\")\n",
    "\n",
    "    $'\\@\"m:\\\\n\\\\o.p \"\"q.r s.t\"\"\"',\n",
    "    (\"m:/n/o.p\", Some $'\\@\"\"\"q.r s.t\"\"\"')\n",
    "\n",
    "    $'\\@\"\"\"..\\\\..\\\\u v\\\\w.x\"\" \"\"y z.a\"\" b.c\"',\n",
    "    (\"../../u v/w.x\", Some $'\\@\"\"\"y z.a\"\" b.c\"')\n",
    "\n",
    "    $'\\@\"\"\"..\\\\..\\\\d e.f\"\" -g \\\\\\\\\"\"h i\\\\\\\\\"\"\"',\n",
    "    (\"../../d e.f\", Some $'\\@\"-g \\\\\\\\\"\"h i\\\\\\\\\"\"\"')\n",
    "\n",
    "    $'\\@\"..\\\\..\\\\j k.l -m \\\\\\\\\"\"n o\\\\\\\\\"\"\"',\n",
    "    (\"../../j\", Some $'\\@\"k.l -m \\\\\\\\\"\"n o\\\\\\\\\"\"\"')\n",
    "]\n",
    "|> _assert_fn split_command"
   ]
  },
  {
   "cell_type": "markdown",
   "metadata": {},
   "source": [
    "### execution_line"
   ]
  },
  {
   "cell_type": "code",
   "execution_count": null,
   "metadata": {
    "dotnet_interactive": {
     "language": "spiral"
    },
    "polyglot_notebook": {
     "kernelName": "spiral"
    }
   },
   "outputs": [],
   "source": [
    "type execution_line =\n",
    "    {\n",
    "        process_id : int\n",
    "        line : string\n",
    "        error : bool\n",
    "    }"
   ]
  },
  {
   "cell_type": "markdown",
   "metadata": {},
   "source": [
    "## rust"
   ]
  },
  {
   "cell_type": "markdown",
   "metadata": {},
   "source": [
    "### process_child"
   ]
  },
  {
   "cell_type": "code",
   "execution_count": null,
   "metadata": {
    "dotnet_interactive": {
     "language": "spiral"
    },
    "polyglot_notebook": {
     "kernelName": "spiral"
    }
   },
   "outputs": [],
   "source": [
    "nominal process_child =\n",
    "    `(\n",
    "        global \"#if FABLE_COMPILER\\n[<Fable.Core.Erase; Fable.Core.Emit(\\\"std::process::Child\\\")>]\\n#endif\\ntype std_process_Child = class end\"\n",
    "        $'' : $'std_process_Child'\n",
    "    )"
   ]
  },
  {
   "cell_type": "markdown",
   "metadata": {},
   "source": [
    "### process_child_stdin"
   ]
  },
  {
   "cell_type": "code",
   "execution_count": null,
   "metadata": {
    "dotnet_interactive": {
     "language": "spiral"
    },
    "polyglot_notebook": {
     "kernelName": "spiral"
    }
   },
   "outputs": [],
   "source": [
    "nominal process_child_stdin =\n",
    "    `(\n",
    "        global \"#if FABLE_COMPILER\\n[<Fable.Core.Erase; Fable.Core.Emit(\\\"std::process::ChildStdin\\\")>]\\n#endif\\ntype std_process_ChildStdin = class end\"\n",
    "        $'' : $'std_process_ChildStdin'\n",
    "    )\n",
    "\n",
    "inl process_child_stdin\n",
    "    (child : rust.ref (rust.mut' process_child))\n",
    "    : rust.ref (rust.mut' (optionm'.option' process_child_stdin))\n",
    "    =\n",
    "    !\\\\(child, $'\"&mut $0.stdin\"')"
   ]
  },
  {
   "cell_type": "markdown",
   "metadata": {},
   "source": [
    "## runtime"
   ]
  },
  {
   "cell_type": "markdown",
   "metadata": {},
   "source": [
    "### execution_options"
   ]
  },
  {
   "cell_type": "code",
   "execution_count": null,
   "metadata": {
    "dotnet_interactive": {
     "language": "spiral"
    },
    "polyglot_notebook": {
     "kernelName": "spiral"
    }
   },
   "outputs": [],
   "source": [
    "type execution_options =\n",
    "    {\n",
    "        command : string\n",
    "        cancellation_token : optionm'.option' threading.cancellation_token\n",
    "        environment_variables : array_base (string * string)\n",
    "        on_line : optionm'.option' (execution_line -> async.async ())\n",
    "        stdin : optionm'.option' (threading.arc (threading.mutex process_child_stdin) -> ())\n",
    "        trace : bool\n",
    "        working_directory : optionm'.option' string\n",
    "    }\n",
    "\n",
    "inl execution_options (fn : execution_options -> execution_options) : execution_options =\n",
    "    {\n",
    "        command = \"\"\n",
    "        cancellation_token = None |> optionm'.box\n",
    "        environment_variables = ;[]\n",
    "        on_line = None |> optionm'.box\n",
    "        stdin = None |> optionm'.box\n",
    "        trace = true\n",
    "        working_directory = None |> optionm'.box\n",
    "    }\n",
    "    |> fn"
   ]
  },
  {
   "cell_type": "markdown",
   "metadata": {},
   "source": [
    "## rust"
   ]
  },
  {
   "cell_type": "markdown",
   "metadata": {},
   "source": [
    "### process_child_stderr"
   ]
  },
  {
   "cell_type": "code",
   "execution_count": null,
   "metadata": {
    "dotnet_interactive": {
     "language": "spiral"
    },
    "polyglot_notebook": {
     "kernelName": "spiral"
    }
   },
   "outputs": [],
   "source": [
    "nominal process_child_stderr =\n",
    "    `(\n",
    "        global \"#if FABLE_COMPILER\\n[<Fable.Core.Erase; Fable.Core.Emit(\\\"std::process::ChildStderr\\\")>]\\n#endif\\ntype std_process_ChildStderr = class end\"\n",
    "        $'' : $'std_process_ChildStderr'\n",
    "    )\n",
    "\n",
    "inl process_child_stderr\n",
    "    (child : rust.ref (rust.mut' process_child))\n",
    "    : rust.ref (rust.mut' (optionm'.option' process_child_stderr))\n",
    "    =\n",
    "    !\\\\(child, $'\"&mut $0.stderr\"')"
   ]
  },
  {
   "cell_type": "markdown",
   "metadata": {},
   "source": [
    "### process_child_stdout"
   ]
  },
  {
   "cell_type": "code",
   "execution_count": null,
   "metadata": {
    "dotnet_interactive": {
     "language": "spiral"
    },
    "polyglot_notebook": {
     "kernelName": "spiral"
    }
   },
   "outputs": [],
   "source": [
    "nominal process_child_stdout =\n",
    "    `(\n",
    "        global \"#if FABLE_COMPILER\\n[<Fable.Core.Erase; Fable.Core.Emit(\\\"std::process::ChildStdout\\\")>]\\n#endif\\ntype std_process_ChildStdout = class end\"\n",
    "        $'' : $'std_process_ChildStdout'\n",
    "    )\n",
    "\n",
    "inl process_child_stdout\n",
    "    (child : rust.ref (rust.mut' process_child))\n",
    "    : rust.ref (rust.mut' (optionm'.option' process_child_stdout))\n",
    "    =\n",
    "    !\\\\(child, $'\"&mut $0.stdout\"')"
   ]
  },
  {
   "cell_type": "markdown",
   "metadata": {},
   "source": [
    "### process_command"
   ]
  },
  {
   "cell_type": "code",
   "execution_count": null,
   "metadata": {
    "dotnet_interactive": {
     "language": "spiral"
    },
    "polyglot_notebook": {
     "kernelName": "spiral"
    }
   },
   "outputs": [],
   "source": [
    "nominal process_command =\n",
    "    `(\n",
    "        global \"#if FABLE_COMPILER\\n[<Fable.Core.Erase; Fable.Core.Emit(\\\"std::process::Command\\\")>]\\n#endif\\ntype std_process_Command = class end\"\n",
    "        $'' : $'std_process_Command'\n",
    "    )"
   ]
  },
  {
   "cell_type": "markdown",
   "metadata": {},
   "source": [
    "### process_stdio"
   ]
  },
  {
   "cell_type": "code",
   "execution_count": null,
   "metadata": {
    "dotnet_interactive": {
     "language": "spiral"
    },
    "polyglot_notebook": {
     "kernelName": "spiral"
    }
   },
   "outputs": [],
   "source": [
    "nominal process_stdio =\n",
    "    `(\n",
    "        global \"#if FABLE_COMPILER\\n[<Fable.Core.Erase; Fable.Core.Emit(\\\"std::process::Stdio\\\")>]\\n#endif\\ntype std_process_Stdio = class end\"\n",
    "        $'' : $'std_process_Stdio'\n",
    "    )"
   ]
  },
  {
   "cell_type": "markdown",
   "metadata": {},
   "source": [
    "### process_output"
   ]
  },
  {
   "cell_type": "code",
   "execution_count": null,
   "metadata": {
    "dotnet_interactive": {
     "language": "spiral"
    },
    "polyglot_notebook": {
     "kernelName": "spiral"
    }
   },
   "outputs": [],
   "source": [
    "nominal process_output =\n",
    "    `(\n",
    "        global \"#if FABLE_COMPILER\\n[<Fable.Core.Erase; Fable.Core.Emit(\\\"std::process::Output\\\")>]\\n#endif\\ntype std_process_Output = class end\"\n",
    "        $'' : $'std_process_Output'\n",
    "    )"
   ]
  },
  {
   "cell_type": "markdown",
   "metadata": {},
   "source": [
    "### process_exit_status"
   ]
  },
  {
   "cell_type": "code",
   "execution_count": null,
   "metadata": {
    "dotnet_interactive": {
     "language": "spiral"
    },
    "polyglot_notebook": {
     "kernelName": "spiral"
    }
   },
   "outputs": [],
   "source": [
    "nominal process_exit_status =\n",
    "    `(\n",
    "        global \"#if FABLE_COMPILER\\n[<Fable.Core.Erase; Fable.Core.Emit(\\\"std::process::ExitStatus\\\")>]\\n#endif\\ntype std_process_ExitStatus = class end\"\n",
    "        $'' : $'std_process_ExitStatus'\n",
    "    )"
   ]
  },
  {
   "cell_type": "markdown",
   "metadata": {},
   "source": [
    "### process_output_status"
   ]
  },
  {
   "cell_type": "code",
   "execution_count": null,
   "metadata": {
    "dotnet_interactive": {
     "language": "spiral"
    },
    "polyglot_notebook": {
     "kernelName": "spiral"
    }
   },
   "outputs": [],
   "source": [
    "inl process_output_status (output : process_output) : process_exit_status =\n",
    "    !\\\\(output, $'\"$0.status\"')"
   ]
  },
  {
   "cell_type": "markdown",
   "metadata": {},
   "source": [
    "### process_exit_status_code"
   ]
  },
  {
   "cell_type": "code",
   "execution_count": null,
   "metadata": {
    "dotnet_interactive": {
     "language": "spiral"
    },
    "polyglot_notebook": {
     "kernelName": "spiral"
    }
   },
   "outputs": [],
   "source": [
    "inl process_exit_status_code (status : process_exit_status) : optionm'.option' i32 =\n",
    "    !\\\\(status, $'\"$0.code()\"')"
   ]
  },
  {
   "cell_type": "markdown",
   "metadata": {},
   "source": [
    "### stdin_write_all"
   ]
  },
  {
   "cell_type": "code",
   "execution_count": null,
   "metadata": {
    "dotnet_interactive": {
     "language": "spiral"
    },
    "polyglot_notebook": {
     "kernelName": "spiral"
    }
   },
   "outputs": [],
   "source": [
    "inl stdin_write_all (stdin : threading.mutex_guard process_child_stdin) (text : string) : () =\n",
    "    inl stream = text |> sm'.as_bytes\n",
    "    inl stdin = join stdin\n",
    "    (!\\($'\"true; let mut !stdin = !stdin\"') : bool) |> ignore\n",
    "    (!\\\\(stdin, $'\"true; std::io::Write::write_all(&mut *$0, !stream).unwrap()\"') : bool) |> ignore"
   ]
  },
  {
   "cell_type": "markdown",
   "metadata": {},
   "source": [
    "### stdin_flush"
   ]
  },
  {
   "cell_type": "code",
   "execution_count": null,
   "metadata": {
    "dotnet_interactive": {
     "language": "spiral"
    },
    "polyglot_notebook": {
     "kernelName": "spiral"
    }
   },
   "outputs": [],
   "source": [
    "inl stdin_flush (stdin : threading.mutex_guard process_child_stdin) : () =\n",
    "    inl stdin = join stdin\n",
    "    (!\\($'\"true; let mut !stdin = !stdin\"') : bool) |> ignore\n",
    "    (!\\\\(stdin, $'\"true; std::io::Write::flush(&mut *$0).unwrap()\"') : bool) |> ignore"
   ]
  },
  {
   "cell_type": "markdown",
   "metadata": {},
   "source": [
    "### new_process_command"
   ]
  },
  {
   "cell_type": "code",
   "execution_count": null,
   "metadata": {
    "dotnet_interactive": {
     "language": "spiral"
    },
    "polyglot_notebook": {
     "kernelName": "spiral"
    }
   },
   "outputs": [],
   "source": [
    "inl new_process_command (file_name : string) : process_command =\n",
    "    !\\\\(file_name, $'\"std::process::Command::new(&*$0)\"')"
   ]
  },
  {
   "cell_type": "markdown",
   "metadata": {},
   "source": [
    "### process_stdio_piped"
   ]
  },
  {
   "cell_type": "code",
   "execution_count": null,
   "metadata": {
    "dotnet_interactive": {
     "language": "spiral"
    },
    "polyglot_notebook": {
     "kernelName": "spiral"
    }
   },
   "outputs": [],
   "source": [
    "inl process_stdio_piped () : process_stdio =\n",
    "    !\\($'\"std::process::Stdio::piped()\"')"
   ]
  },
  {
   "cell_type": "markdown",
   "metadata": {},
   "source": [
    "### process_command_args"
   ]
  },
  {
   "cell_type": "code",
   "execution_count": null,
   "metadata": {
    "dotnet_interactive": {
     "language": "spiral"
    },
    "polyglot_notebook": {
     "kernelName": "spiral"
    }
   },
   "outputs": [],
   "source": [
    "inl process_command_args (args : am'.vec sm'.std_string) (c : process_command) : rust.ref (rust.mut' process_command) =\n",
    "    (!\\($'\"true; let mut !c = !c\"') : bool) |> ignore\n",
    "    !\\\\((c, args), $'\"std::process::Command::args(&mut $0, &*$1)\"')"
   ]
  },
  {
   "cell_type": "markdown",
   "metadata": {},
   "source": [
    "### process_command_stdout"
   ]
  },
  {
   "cell_type": "code",
   "execution_count": null,
   "metadata": {
    "dotnet_interactive": {
     "language": "spiral"
    },
    "polyglot_notebook": {
     "kernelName": "spiral"
    }
   },
   "outputs": [],
   "source": [
    "inl process_command_stdout (stdio : process_stdio) (c : rust.ref (rust.mut' process_command)) : rust.ref (rust.mut' process_command) =\n",
    "    !\\\\(c, $'\"std::process::Command::stdout($0, std::process::Stdio::piped())\"')"
   ]
  },
  {
   "cell_type": "markdown",
   "metadata": {},
   "source": [
    "### process_command_stderr"
   ]
  },
  {
   "cell_type": "code",
   "execution_count": null,
   "metadata": {
    "dotnet_interactive": {
     "language": "spiral"
    },
    "polyglot_notebook": {
     "kernelName": "spiral"
    }
   },
   "outputs": [],
   "source": [
    "inl process_command_stderr (stdio : process_stdio) (c : rust.ref (rust.mut' process_command)) : rust.ref (rust.mut' process_command) =\n",
    "    !\\\\(c, $'\"std::process::Command::stderr($0, std::process::Stdio::piped())\"')"
   ]
  },
  {
   "cell_type": "markdown",
   "metadata": {},
   "source": [
    "### process_command_stdin"
   ]
  },
  {
   "cell_type": "code",
   "execution_count": null,
   "metadata": {
    "dotnet_interactive": {
     "language": "spiral"
    },
    "polyglot_notebook": {
     "kernelName": "spiral"
    }
   },
   "outputs": [],
   "source": [
    "inl process_command_stdin (stdio : process_stdio) (c : rust.ref (rust.mut' process_command)) : rust.ref (rust.mut' process_command) =\n",
    "    !\\\\(c, $'\"std::process::Command::stdin($0, std::process::Stdio::piped())\"')"
   ]
  },
  {
   "cell_type": "markdown",
   "metadata": {},
   "source": [
    "### process_command_current_dir"
   ]
  },
  {
   "cell_type": "code",
   "execution_count": null,
   "metadata": {
    "dotnet_interactive": {
     "language": "spiral"
    },
    "polyglot_notebook": {
     "kernelName": "spiral"
    }
   },
   "outputs": [],
   "source": [
    "inl process_command_current_dir\n",
    "    (dir : string)\n",
    "    (c : rust.ref (rust.mut' process_command))\n",
    "    : rust.ref (rust.mut' process_command)\n",
    "    =\n",
    "    !\\\\(dir, $'\"std::process::Command::current_dir(!c, &*$0)\"')"
   ]
  },
  {
   "cell_type": "markdown",
   "metadata": {},
   "source": [
    "### process_command_env"
   ]
  },
  {
   "cell_type": "code",
   "execution_count": null,
   "metadata": {
    "dotnet_interactive": {
     "language": "spiral"
    },
    "polyglot_notebook": {
     "kernelName": "spiral"
    }
   },
   "outputs": [],
   "source": [
    "inl process_command_env\n",
    "    (key : string)\n",
    "    (value : string)\n",
    "    (c : rust.ref (rust.mut' process_command))\n",
    "    : rust.ref (rust.mut' process_command)\n",
    "    =\n",
    "    !\\\\((key, value), $'\"std::process::Command::env(!c, &*$0, &*$1)\"')"
   ]
  },
  {
   "cell_type": "markdown",
   "metadata": {},
   "source": [
    "### process_command_spawn"
   ]
  },
  {
   "cell_type": "code",
   "execution_count": null,
   "metadata": {
    "dotnet_interactive": {
     "language": "spiral"
    },
    "polyglot_notebook": {
     "kernelName": "spiral"
    }
   },
   "outputs": [],
   "source": [
    "inl process_command_spawn\n",
    "    (c : rust.ref (rust.mut' process_command))\n",
    "    : resultm.result' process_child stream.io_error\n",
    "    =\n",
    "    !\\\\(c, $'\"std::process::Command::spawn($0)\"')"
   ]
  },
  {
   "cell_type": "markdown",
   "metadata": {},
   "source": [
    "### child_wait_with_output"
   ]
  },
  {
   "cell_type": "code",
   "execution_count": null,
   "metadata": {
    "dotnet_interactive": {
     "language": "spiral"
    },
    "polyglot_notebook": {
     "kernelName": "spiral"
    }
   },
   "outputs": [],
   "source": [
    "inl child_wait_with_output\n",
    "    (child : process_child)\n",
    "    : resultm.result' process_output stream.io_error\n",
    "    =\n",
    "    !\\\\(child, $'\"$0.wait_with_output()\"')"
   ]
  },
  {
   "cell_type": "markdown",
   "metadata": {},
   "source": [
    "### stdio_line"
   ]
  },
  {
   "cell_type": "code",
   "execution_count": null,
   "metadata": {
    "dotnet_interactive": {
     "language": "spiral"
    },
    "polyglot_notebook": {
     "kernelName": "spiral"
    }
   },
   "outputs": [],
   "source": [
    "inl stdio_line\n",
    "    (stdio : result () ())\n",
    "    (trace' : bool)\n",
    "    (channel_sender : threading.arc (threading.mutex (threading.channel_sender sm'.std_string)))\n",
    "    (line : resultm.result' sm'.std_string stream.io_error)\n",
    "    : resultm.result' () sm'.std_string\n",
    "    =\n",
    "    inl highlight text =\n",
    "        $'$\"\\\\u001b[4;7m{!text}\\\\u001b[0m\"'\n",
    "    inl line =\n",
    "        match\n",
    "            line\n",
    "            |> resultm.map_error' sm'.format'\n",
    "            |> resultm.unbox'\n",
    "        with\n",
    "        | Ok line =>\n",
    "            inl line =\n",
    "                line\n",
    "                |> sm'.from_std_string\n",
    "                // |> sm'.as_bytes\n",
    "                // |> am'.slice_to_vec\n",
    "                |> sm'.encoding_encode' (sm'.encoding_utf8' ())\n",
    "                |> rust.cow_as_ref\n",
    "                |> sm'.str_from_utf8\n",
    "                // |> sm'.utf8_decode\n",
    "                |> resultm.unwrap'\n",
    "                |> sm'.ref_to_std_string\n",
    "                // String::from_utf8_lossy(line.as_bytes()).into()\n",
    "            inl line_log = line |> sm'.from_std_string\n",
    "            inl text =\n",
    "                match stdio with\n",
    "                | Ok () => $'$\"> {!line_log}\"'\n",
    "                | Error () => $'$\"\\! {!line_log}\"'\n",
    "            if trace'\n",
    "            then trace Verbose (fun () => text) id\n",
    "            else text |> console.write_line\n",
    "            match stdio with\n",
    "            | Ok () => line\n",
    "            | Error () => line |> highlight |> sm'.to_std_string\n",
    "        | Error e =>\n",
    "            trace Critical\n",
    "                fun () => \"runtime.stdio_line\"\n",
    "                fun () => { trace' e }\n",
    "            e |> highlight |> sm'.to_std_string\n",
    "    channel_sender\n",
    "    |> threading.arc_mutex_lock\n",
    "    |> resultm.unwrap'\n",
    "    |> threading.mutex_guard_ref\n",
    "    |> threading.channel_send line\n",
    "    |> resultm.map_error' sm'.format'"
   ]
  },
  {
   "cell_type": "markdown",
   "metadata": {},
   "source": [
    "### command"
   ]
  },
  {
   "cell_type": "code",
   "execution_count": null,
   "metadata": {
    "dotnet_interactive": {
     "language": "spiral"
    },
    "polyglot_notebook": {
     "kernelName": "spiral"
    }
   },
   "outputs": [],
   "source": [
    "nominal command =\n",
    "    `(\n",
    "        global \"#if FABLE_COMPILER\\n[<Fable.Core.Erase; Fable.Core.Emit(\\\"clap::Command\\\")>]\\n#endif\\ntype clap_Command = class end\"\n",
    "        $'' : $'clap_Command'\n",
    "    )"
   ]
  },
  {
   "cell_type": "markdown",
   "metadata": {},
   "source": [
    "### new_command"
   ]
  },
  {
   "cell_type": "code",
   "execution_count": null,
   "metadata": {
    "dotnet_interactive": {
     "language": "spiral"
    },
    "polyglot_notebook": {
     "kernelName": "spiral"
    }
   },
   "outputs": [],
   "source": [
    "inl new_command (s : rust.static_ref sm'.str) : command =\n",
    "    !\\\\(s, $'\"clap::Command::new($0)\"')"
   ]
  },
  {
   "cell_type": "code",
   "execution_count": null,
   "metadata": {
    "dotnet_interactive": {
     "language": "spiral"
    },
    "polyglot_notebook": {
     "kernelName": "spiral"
    }
   },
   "outputs": [
    {
     "data": {
      "text/plain": [
       "__assert / actual: \"\"command\"\" / expected: \"Command {\n",
       "    name: \"command\",\n",
       "    long_flag: None,\n",
       "    short_flag: None,\n",
       "    display_name: None,\n",
       "    bin_name: None,\n",
       "    author: None,\n",
       "    version: None,\n",
       "    long_version: None,\n",
       "    about: None,\n",
       "    long_about: None,\n",
       "    before_help: None,\n",
       "    before_long_help: None,\n",
       "    after_help: None,\n",
       "    after_long_help: None,\n",
       "    aliases: [],\n",
       "    short_flag_aliases: [],\n",
       "    long_flag_aliases: [],\n",
       "    usage_str: None,\n",
       "    usage_name: None,\n",
       "    help_str: None,\n",
       "    disp_ord: None,\n",
       "    template: None,\n",
       "    settings: AppFlags(\n",
       "        0,\n",
       "    ),\n",
       "    g_settings: AppFlags(\n",
       "        0,\n",
       "    ),\n",
       "    args: MKeyMap {\n",
       "        args: [],\n",
       "        keys: [],\n",
       "    },\n",
       "    subcommands: [],\n",
       "    groups: [],\n",
       "    current_help_heading: None,\n",
       "    current_disp_ord: Some(\n",
       "        0,\n",
       "    ),\n",
       "    subcommand_value_name: None,\n",
       "    subcommand_heading: None,\n",
       "    external_value_parser: None,\n",
       "    long_help_exists: false,\n",
       "    deferred: None,\n",
       "    app_ext: Extensions {\n",
       "        extensions: FlatMap {\n",
       "            keys: [],\n",
       "            values: [],\n",
       "        },\n",
       "    },\n",
       "}\"\n"
      ]
     },
     "metadata": {},
     "output_type": "display_data"
    }
   ],
   "source": [
    "//// test\n",
    "///! rust -d clap\n",
    "\n",
    "##\"command\"\n",
    "|> new_command\n",
    "|> sm'.format_pretty\n",
    "|> _assert sm'.contains \"\\\"command\\\"\""
   ]
  },
  {
   "cell_type": "markdown",
   "metadata": {},
   "source": [
    "### arg"
   ]
  },
  {
   "cell_type": "code",
   "execution_count": null,
   "metadata": {
    "dotnet_interactive": {
     "language": "spiral"
    },
    "polyglot_notebook": {
     "kernelName": "spiral"
    }
   },
   "outputs": [],
   "source": [
    "nominal arg =\n",
    "    `(\n",
    "        global \"#if FABLE_COMPILER\\n[<Fable.Core.Erase; Fable.Core.Emit(\\\"clap::Arg\\\")>]\\n#endif\\ntype clap_Arg = class end\"\n",
    "        $'' : $'clap_Arg'\n",
    "    )"
   ]
  },
  {
   "cell_type": "markdown",
   "metadata": {},
   "source": [
    "### new_arg"
   ]
  },
  {
   "cell_type": "code",
   "execution_count": null,
   "metadata": {
    "dotnet_interactive": {
     "language": "spiral"
    },
    "polyglot_notebook": {
     "kernelName": "spiral"
    }
   },
   "outputs": [],
   "source": [
    "inl new_arg (s : rust.static_ref sm'.str) : arg =\n",
    "    !\\\\(s, $'\"clap::Arg::new($0)\"')"
   ]
  },
  {
   "cell_type": "code",
   "execution_count": null,
   "metadata": {
    "dotnet_interactive": {
     "language": "spiral"
    },
    "polyglot_notebook": {
     "kernelName": "spiral"
    }
   },
   "outputs": [
    {
     "data": {
      "text/plain": [
       "__assert / actual: \"\"arg\"\" / expected: \"Arg {\n",
       "    id: \"arg\",\n",
       "    help: None,\n",
       "    long_help: None,\n",
       "    action: None,\n",
       "    value_parser: None,\n",
       "    blacklist: [],\n",
       "    settings: ArgFlags(\n",
       "        0,\n",
       "    ),\n",
       "    overrides: [],\n",
       "    groups: [],\n",
       "    requires: [],\n",
       "    r_ifs: [],\n",
       "    r_unless: [],\n",
       "    short: None,\n",
       "    long: None,\n",
       "    aliases: [],\n",
       "    short_aliases: [],\n",
       "    disp_ord: None,\n",
       "    val_names: [],\n",
       "    num_vals: None,\n",
       "    val_delim: None,\n",
       "    default_vals: [],\n",
       "    default_vals_ifs: [],\n",
       "    terminator: None,\n",
       "    index: None,\n",
       "    help_heading: None,\n",
       "    default_missing_vals: [],\n",
       "    ext: Extensions {\n",
       "        extensions: FlatMap {\n",
       "            keys: [],\n",
       "            values: [],\n",
       "        },\n",
       "    },\n",
       "}\"\n"
      ]
     },
     "metadata": {},
     "output_type": "display_data"
    }
   ],
   "source": [
    "//// test\n",
    "///! rust -d clap\n",
    "\n",
    "##\"arg\"\n",
    "|> new_arg\n",
    "|> sm'.format_pretty\n",
    "|> _assert sm'.contains \"\\\"arg\\\"\""
   ]
  },
  {
   "cell_type": "markdown",
   "metadata": {},
   "source": [
    "### command_arg"
   ]
  },
  {
   "cell_type": "code",
   "execution_count": null,
   "metadata": {
    "dotnet_interactive": {
     "language": "spiral"
    },
    "polyglot_notebook": {
     "kernelName": "spiral"
    }
   },
   "outputs": [],
   "source": [
    "inl command_arg (arg : arg) (command : command) : command =\n",
    "    !\\\\((command, arg), $'\"clap::Command::arg($0, $1)\"')"
   ]
  },
  {
   "cell_type": "markdown",
   "metadata": {},
   "source": [
    "### arg_required"
   ]
  },
  {
   "cell_type": "code",
   "execution_count": null,
   "metadata": {
    "dotnet_interactive": {
     "language": "spiral"
    },
    "polyglot_notebook": {
     "kernelName": "spiral"
    }
   },
   "outputs": [],
   "source": [
    "inl arg_required (value : bool) (arg : arg) : arg =\n",
    "    !\\\\((arg, value), $'\"$0.required($1)\"')"
   ]
  },
  {
   "cell_type": "markdown",
   "metadata": {},
   "source": [
    "### arg_require_equals"
   ]
  },
  {
   "cell_type": "code",
   "execution_count": null,
   "metadata": {
    "dotnet_interactive": {
     "language": "spiral"
    },
    "polyglot_notebook": {
     "kernelName": "spiral"
    }
   },
   "outputs": [],
   "source": [
    "inl arg_require_equals (value : bool) (arg : arg) : arg =\n",
    "    !\\\\((arg, value), $'\"$0.require_equals($1)\"')"
   ]
  },
  {
   "cell_type": "markdown",
   "metadata": {},
   "source": [
    "### arg_default_value"
   ]
  },
  {
   "cell_type": "code",
   "execution_count": null,
   "metadata": {
    "dotnet_interactive": {
     "language": "spiral"
    },
    "polyglot_notebook": {
     "kernelName": "spiral"
    }
   },
   "outputs": [],
   "source": [
    "inl arg_default_value (value : string) (arg : arg) : arg =\n",
    "    inl value = #value\n",
    "    !\\\\((arg, value), $'\"$0.default_value($1)\"')"
   ]
  },
  {
   "cell_type": "markdown",
   "metadata": {},
   "source": [
    "### arg_default_missing_value"
   ]
  },
  {
   "cell_type": "code",
   "execution_count": null,
   "metadata": {
    "dotnet_interactive": {
     "language": "spiral"
    },
    "polyglot_notebook": {
     "kernelName": "spiral"
    }
   },
   "outputs": [],
   "source": [
    "inl arg_default_missing_value (value : string) (arg : arg) : arg =\n",
    "    inl value = #value\n",
    "    !\\\\((arg, value), $'\"$0.default_missing_value($1)\"')"
   ]
  },
  {
   "cell_type": "markdown",
   "metadata": {},
   "source": [
    "### arg_overrides_with"
   ]
  },
  {
   "cell_type": "code",
   "execution_count": null,
   "metadata": {
    "dotnet_interactive": {
     "language": "spiral"
    },
    "polyglot_notebook": {
     "kernelName": "spiral"
    }
   },
   "outputs": [],
   "source": [
    "inl arg_overrides_with (value : string) (arg : arg) : arg =\n",
    "    inl value = #value\n",
    "    !\\\\((arg, value), $'\"$0.overrides_with($1)\"')"
   ]
  },
  {
   "cell_type": "markdown",
   "metadata": {},
   "source": [
    "### arg_short"
   ]
  },
  {
   "cell_type": "code",
   "execution_count": null,
   "metadata": {
    "dotnet_interactive": {
     "language": "spiral"
    },
    "polyglot_notebook": {
     "kernelName": "spiral"
    }
   },
   "outputs": [],
   "source": [
    "inl arg_short (value : char) (arg : arg) : arg =\n",
    "    !\\\\((arg, value), $'\"$0.short($1)\"')"
   ]
  },
  {
   "cell_type": "markdown",
   "metadata": {},
   "source": [
    "### arg_long"
   ]
  },
  {
   "cell_type": "code",
   "execution_count": null,
   "metadata": {
    "dotnet_interactive": {
     "language": "spiral"
    },
    "polyglot_notebook": {
     "kernelName": "spiral"
    }
   },
   "outputs": [],
   "source": [
    "inl arg_long (value : rust.static_ref sm'.str) (arg : arg) : arg =\n",
    "    !\\\\((arg, value), $'\"$0.long($1)\"')"
   ]
  },
  {
   "cell_type": "markdown",
   "metadata": {},
   "source": [
    "### arg_value_names"
   ]
  },
  {
   "cell_type": "code",
   "execution_count": null,
   "metadata": {
    "dotnet_interactive": {
     "language": "spiral"
    },
    "polyglot_notebook": {
     "kernelName": "spiral"
    }
   },
   "outputs": [],
   "source": [
    "inl arg_value_names (values : array_base (rust.static_ref sm'.str)) (arg : arg) : arg =\n",
    "    inl values = values |> am'.to_vec\n",
    "    !\\\\((arg, values), $'\"$0.value_names($1)\"')"
   ]
  },
  {
   "cell_type": "markdown",
   "metadata": {},
   "source": [
    "### arg_num_args"
   ]
  },
  {
   "cell_type": "code",
   "execution_count": null,
   "metadata": {
    "dotnet_interactive": {
     "language": "spiral"
    },
    "polyglot_notebook": {
     "kernelName": "spiral"
    }
   },
   "outputs": [],
   "source": [
    "inl arg_num_args (value : i32) (arg : arg) : arg =\n",
    "    !\\\\((arg, value), $'\"$0.num_args($1)\"')"
   ]
  },
  {
   "cell_type": "markdown",
   "metadata": {},
   "source": [
    "### value_range"
   ]
  },
  {
   "cell_type": "code",
   "execution_count": null,
   "metadata": {
    "dotnet_interactive": {
     "language": "spiral"
    },
    "polyglot_notebook": {
     "kernelName": "spiral"
    }
   },
   "outputs": [],
   "source": [
    "nominal value_range =\n",
    "    `(\n",
    "        global \"#if FABLE_COMPILER\\n[<Fable.Core.Erase; Fable.Core.Emit(\\\"clap::builder::ValueRange\\\")>]\\n#endif\\ntype clap_builder_ValueRange = class end\"\n",
    "        $'' : $'clap_builder_ValueRange'\n",
    "    )"
   ]
  },
  {
   "cell_type": "markdown",
   "metadata": {},
   "source": [
    "### new_value_range"
   ]
  },
  {
   "cell_type": "code",
   "execution_count": null,
   "metadata": {
    "dotnet_interactive": {
     "language": "spiral"
    },
    "polyglot_notebook": {
     "kernelName": "spiral"
    }
   },
   "outputs": [],
   "source": [
    "inl new_value_range inclusive start end : value_range =\n",
    "    inl len = 0i32 |> convert\n",
    "    inl start, end =\n",
    "        open am'\n",
    "        match start, end with\n",
    "        | Start start, End fn =>\n",
    "            start, len |> fn\n",
    "        | End start_fn, End end_fn =>\n",
    "            start_fn len, end_fn len\n",
    "    inl inclusive =\n",
    "        if inclusive\n",
    "        then \"=\"\n",
    "        else \"\"\n",
    "    match start, end with\n",
    "    | start, end when end =. len => !\\\\(start, $'\"clap::builder::ValueRange::new($0..)\"')\n",
    "    | start, end => !\\\\((start, end), $'\"clap::builder::ValueRange::new($0..\" + !inclusive + \"$1)\"')"
   ]
  },
  {
   "cell_type": "markdown",
   "metadata": {},
   "source": [
    "### arg_num_args_range"
   ]
  },
  {
   "cell_type": "code",
   "execution_count": null,
   "metadata": {
    "dotnet_interactive": {
     "language": "spiral"
    },
    "polyglot_notebook": {
     "kernelName": "spiral"
    }
   },
   "outputs": [],
   "source": [
    "inl arg_num_args_range (value : value_range) (arg : arg) : arg =\n",
    "    !\\\\((arg, value), $'\"$0.num_args($1)\"')"
   ]
  },
  {
   "cell_type": "markdown",
   "metadata": {},
   "source": [
    "### arg_value_name"
   ]
  },
  {
   "cell_type": "code",
   "execution_count": null,
   "metadata": {
    "dotnet_interactive": {
     "language": "spiral"
    },
    "polyglot_notebook": {
     "kernelName": "spiral"
    }
   },
   "outputs": [],
   "source": [
    "inl arg_value_name (value : string) (arg : arg) : arg =\n",
    "    inl value = value |> sm'.as_str\n",
    "    !\\\\((arg, value), $'\"$0.value_name($1)\"')"
   ]
  },
  {
   "cell_type": "markdown",
   "metadata": {},
   "source": [
    "### value_parser"
   ]
  },
  {
   "cell_type": "code",
   "execution_count": null,
   "metadata": {
    "dotnet_interactive": {
     "language": "spiral"
    },
    "polyglot_notebook": {
     "kernelName": "spiral"
    }
   },
   "outputs": [],
   "source": [
    "nominal value_parser =\n",
    "    `(\n",
    "        global \"#if FABLE_COMPILER\\n[<Fable.Core.Erase; Fable.Core.Emit(\\\"clap::builder::ValueParser\\\")>]\\n#endif\\ntype clap_builder_ValueParser = class end\"\n",
    "        $'' : $'clap_builder_ValueParser'\n",
    "    )"
   ]
  },
  {
   "cell_type": "markdown",
   "metadata": {},
   "source": [
    "### possible_value"
   ]
  },
  {
   "cell_type": "code",
   "execution_count": null,
   "metadata": {
    "dotnet_interactive": {
     "language": "spiral"
    },
    "polyglot_notebook": {
     "kernelName": "spiral"
    }
   },
   "outputs": [],
   "source": [
    "nominal possible_value =\n",
    "    `(\n",
    "        global \"#if FABLE_COMPILER\\n[<Fable.Core.Erase; Fable.Core.Emit(\\\"clap::builder::PossibleValue\\\")>]\\n#endif\\ntype clap_builder_PossibleValue = class end\"\n",
    "        $'' : $'clap_builder_PossibleValue'\n",
    "    )"
   ]
  },
  {
   "cell_type": "markdown",
   "metadata": {},
   "source": [
    "### new_possible_value"
   ]
  },
  {
   "cell_type": "code",
   "execution_count": null,
   "metadata": {
    "dotnet_interactive": {
     "language": "spiral"
    },
    "polyglot_notebook": {
     "kernelName": "spiral"
    }
   },
   "outputs": [],
   "source": [
    "inl new_possible_value forall t. (x : t) : possible_value =\n",
    "    !\\\\(x, $'\"clap::builder::PossibleValue::new(&**$0)\"')"
   ]
  },
  {
   "cell_type": "markdown",
   "metadata": {},
   "source": [
    "### value_parser_path_buf"
   ]
  },
  {
   "cell_type": "code",
   "execution_count": null,
   "metadata": {
    "dotnet_interactive": {
     "language": "spiral"
    },
    "polyglot_notebook": {
     "kernelName": "spiral"
    }
   },
   "outputs": [],
   "source": [
    "inl value_parser_path_buf () : value_parser =\n",
    "    !\\($'\"clap::value_parser\\!(std::path::PathBuf)\"')"
   ]
  },
  {
   "cell_type": "markdown",
   "metadata": {},
   "source": [
    "### value_parser_expr"
   ]
  },
  {
   "cell_type": "code",
   "execution_count": null,
   "metadata": {
    "dotnet_interactive": {
     "language": "spiral"
    },
    "polyglot_notebook": {
     "kernelName": "spiral"
    }
   },
   "outputs": [],
   "source": [
    "inl value_parser_expr (expr : string) : value_parser =\n",
    "    !\\($'\"clap::value_parser\\!(\" + !expr + \").into()\"')"
   ]
  },
  {
   "cell_type": "markdown",
   "metadata": {},
   "source": [
    "### arg_value_parser"
   ]
  },
  {
   "cell_type": "code",
   "execution_count": null,
   "metadata": {
    "dotnet_interactive": {
     "language": "spiral"
    },
    "polyglot_notebook": {
     "kernelName": "spiral"
    }
   },
   "outputs": [],
   "source": [
    "inl arg_value_parser (values : value_parser) (arg : arg) : arg =\n",
    "    !\\\\((arg, values), $'\"$0.value_parser($1)\"')"
   ]
  },
  {
   "cell_type": "markdown",
   "metadata": {},
   "source": [
    "### arg_action"
   ]
  },
  {
   "cell_type": "code",
   "execution_count": null,
   "metadata": {
    "dotnet_interactive": {
     "language": "spiral"
    },
    "polyglot_notebook": {
     "kernelName": "spiral"
    }
   },
   "outputs": [],
   "source": [
    "nominal arg_action' =\n",
    "    `(\n",
    "        global \"#if FABLE_COMPILER\\n[<Fable.Core.Erase; Fable.Core.Emit(\\\"clap::ArgAction\\\")>]\\n#endif\\ntype clap_ArgAction = class end\"\n",
    "        $'' : $'clap_ArgAction'\n",
    "    )\n",
    "\n",
    "union arg_action =\n",
    "    | Set\n",
    "    | Append\n",
    "    | SetTrue\n",
    "    | SetFalse\n",
    "    | Count\n",
    "    | Help\n",
    "    | HelpShort\n",
    "    | HelpLong\n",
    "    | Version\n",
    "\n",
    "inl arg_action = function\n",
    "    | Set => !\\($'\"clap::ArgAction::Set\"') : arg_action'\n",
    "    | Append => !\\($'\"clap::ArgAction::Append\"') : arg_action'\n",
    "    | SetTrue => !\\($'\"clap::ArgAction::SetTrue\"') : arg_action'\n",
    "    | SetFalse => !\\($'\"clap::ArgAction::SetFalse\"') : arg_action'\n",
    "    | Count => !\\($'\"clap::ArgAction::Count\"') : arg_action'\n",
    "    | Help => !\\($'\"clap::ArgAction::Help\"') : arg_action'\n",
    "    | HelpShort => !\\($'\"clap::ArgAction::HelpShort\"') : arg_action'\n",
    "    | HelpLong => !\\($'\"clap::ArgAction::HelpLong\"') : arg_action'\n",
    "    | Version => !\\($'\"clap::ArgAction::Version\"') : arg_action'\n",
    "\n",
    "inl arg_action (value : arg_action) (arg : arg) : arg =\n",
    "    inl value = value |> arg_action\n",
    "    !\\\\((arg, value), $'\"$0.action($1)\"')"
   ]
  },
  {
   "cell_type": "markdown",
   "metadata": {},
   "source": [
    "### arg_index"
   ]
  },
  {
   "cell_type": "code",
   "execution_count": null,
   "metadata": {
    "dotnet_interactive": {
     "language": "spiral"
    },
    "polyglot_notebook": {
     "kernelName": "spiral"
    }
   },
   "outputs": [],
   "source": [
    "inl arg_index (value : i32) (arg : arg) : arg =\n",
    "    !\\\\((arg, value), $'\"$0.index($1)\"')"
   ]
  },
  {
   "cell_type": "markdown",
   "metadata": {},
   "source": [
    "### arg_matches"
   ]
  },
  {
   "cell_type": "code",
   "execution_count": null,
   "metadata": {
    "dotnet_interactive": {
     "language": "spiral"
    },
    "polyglot_notebook": {
     "kernelName": "spiral"
    }
   },
   "outputs": [],
   "source": [
    "nominal arg_matches =\n",
    "    `(\n",
    "        global \"#if FABLE_COMPILER\\n[<Fable.Core.Erase; Fable.Core.Emit(\\\"clap::ArgMatches\\\")>]\\n#endif\\ntype clap_ArgMatches = class end\"\n",
    "        $'' : $'clap_ArgMatches'\n",
    "    )"
   ]
  },
  {
   "cell_type": "markdown",
   "metadata": {},
   "source": [
    "### command_get_matches"
   ]
  },
  {
   "cell_type": "code",
   "execution_count": null,
   "metadata": {
    "dotnet_interactive": {
     "language": "spiral"
    },
    "polyglot_notebook": {
     "kernelName": "spiral"
    }
   },
   "outputs": [],
   "source": [
    "inl command_get_matches (command : command) : arg_matches =\n",
    "    !\\\\(command, $'\"clap::Command::get_matches($0)\"')"
   ]
  },
  {
   "cell_type": "markdown",
   "metadata": {},
   "source": [
    "### command_get_matches_from"
   ]
  },
  {
   "cell_type": "code",
   "execution_count": null,
   "metadata": {
    "dotnet_interactive": {
     "language": "spiral"
    },
    "polyglot_notebook": {
     "kernelName": "spiral"
    }
   },
   "outputs": [],
   "source": [
    "inl command_get_matches_from (args : array_base string) (command : command) : arg_matches =\n",
    "    inl args = args |> am'.to_vec |> am'.vec_map sm'.to_std_string\n",
    "    !\\\\(command, $'\"clap::Command::get_matches_from($0, !args)\"')"
   ]
  },
  {
   "cell_type": "markdown",
   "metadata": {},
   "source": [
    "### command_args_override_self"
   ]
  },
  {
   "cell_type": "code",
   "execution_count": null,
   "metadata": {
    "dotnet_interactive": {
     "language": "spiral"
    },
    "polyglot_notebook": {
     "kernelName": "spiral"
    }
   },
   "outputs": [],
   "source": [
    "inl command_args_override_self (yes : bool) (command : command) : command =\n",
    "    !\\\\(command, $'\"clap::Command::args_override_self($0, !yes)\"')"
   ]
  },
  {
   "cell_type": "markdown",
   "metadata": {},
   "source": [
    "### command_init_arg"
   ]
  },
  {
   "cell_type": "code",
   "execution_count": null,
   "metadata": {
    "dotnet_interactive": {
     "language": "spiral"
    },
    "polyglot_notebook": {
     "kernelName": "spiral"
    }
   },
   "outputs": [],
   "source": [
    "inl command_init_arg (long, short) fn command =\n",
    "    command\n",
    "    |> command_arg (\n",
    "        ##long\n",
    "        |> new_arg\n",
    "        |> arg_short short\n",
    "        |> arg_long ##long\n",
    "        |> fn\n",
    "    )"
   ]
  },
  {
   "cell_type": "markdown",
   "metadata": {},
   "source": [
    "### matches_get_one"
   ]
  },
  {
   "cell_type": "code",
   "execution_count": null,
   "metadata": {
    "dotnet_interactive": {
     "language": "spiral"
    },
    "polyglot_notebook": {
     "kernelName": "spiral"
    }
   },
   "outputs": [],
   "source": [
    "inl matches_get_one forall t. (x : string) (matches : arg_matches) : optionm'.option' t =\n",
    "    inl x = join x\n",
    "    inl x = x |> sm'.as_str\n",
    "    !\\\\((matches, x), $'\"clap::ArgMatches::get_one(&$0, $1).cloned()\"')"
   ]
  },
  {
   "cell_type": "markdown",
   "metadata": {},
   "source": [
    "### matches_get_flag"
   ]
  },
  {
   "cell_type": "code",
   "execution_count": null,
   "metadata": {
    "dotnet_interactive": {
     "language": "spiral"
    },
    "polyglot_notebook": {
     "kernelName": "spiral"
    }
   },
   "outputs": [],
   "source": [
    "inl matches_get_flag (x : string) (matches : arg_matches) : bool =\n",
    "    inl x = join x\n",
    "    inl x = x |> sm'.as_str\n",
    "    !\\\\((matches, x), $'\"clap::ArgMatches::get_flag(&$0, $1)\"')"
   ]
  },
  {
   "cell_type": "markdown",
   "metadata": {},
   "source": [
    "### matches_get_many"
   ]
  },
  {
   "cell_type": "code",
   "execution_count": null,
   "metadata": {
    "dotnet_interactive": {
     "language": "spiral"
    },
    "polyglot_notebook": {
     "kernelName": "spiral"
    }
   },
   "outputs": [],
   "source": [
    "inl matches_get_many forall t. (x : string) (matches : arg_matches) : optionm'.option' (am'.vec t) =\n",
    "    inl x = join x\n",
    "    inl x = x |> sm'.as_str\n",
    "    !\\\\((matches, x), $'\"clap::ArgMatches::get_many(&$0, $1).map(|x| x.cloned().into_iter().collect())\"')"
   ]
  },
  {
   "cell_type": "markdown",
   "metadata": {},
   "source": [
    "### matches_get_occurrences"
   ]
  },
  {
   "cell_type": "code",
   "execution_count": null,
   "metadata": {
    "dotnet_interactive": {
     "language": "spiral"
    },
    "polyglot_notebook": {
     "kernelName": "spiral"
    }
   },
   "outputs": [],
   "source": [
    "inl matches_get_occurrences (x : string) (matches : arg_matches) : optionm'.option' (array_base sm'.std_string) =\n",
    "    inl x = join x\n",
    "    inl x = x |> sm'.as_str\n",
    "    !\\($'\"clap::ArgMatches::get_occurrences(&!matches, !x).cloned()\"')"
   ]
  },
  {
   "cell_type": "markdown",
   "metadata": {},
   "source": [
    "### matches_subcommand"
   ]
  },
  {
   "cell_type": "code",
   "execution_count": null,
   "metadata": {
    "dotnet_interactive": {
     "language": "spiral"
    },
    "polyglot_notebook": {
     "kernelName": "spiral"
    }
   },
   "outputs": [],
   "source": [
    "inl matches_subcommand (matches : arg_matches) : optionm'.option' (sm'.std_string * arg_matches) =\n",
    "    !\\\\((matches, sm'.ref_to_std_string), $'\"clap::ArgMatches::subcommand(Box::leak(Box::new($0))).map(|(a, b)| ($1(a), b.clone()))\"')"
   ]
  },
  {
   "cell_type": "markdown",
   "metadata": {},
   "source": [
    "### matches_values_of"
   ]
  },
  {
   "cell_type": "code",
   "execution_count": null,
   "metadata": {
    "dotnet_interactive": {
     "language": "spiral"
    },
    "polyglot_notebook": {
     "kernelName": "spiral"
    }
   },
   "outputs": [],
   "source": [
    "inl matches_values_of (x : string) (matches : arg_matches) : array_base sm'.std_string =\n",
    "    !\\\\((matches, x), $'\"clap::ArgMatches::values_of($0, &*$1)\"')"
   ]
  },
  {
   "cell_type": "markdown",
   "metadata": {},
   "source": [
    "### command_subcommand_required"
   ]
  },
  {
   "cell_type": "code",
   "execution_count": null,
   "metadata": {
    "dotnet_interactive": {
     "language": "spiral"
    },
    "polyglot_notebook": {
     "kernelName": "spiral"
    }
   },
   "outputs": [],
   "source": [
    "inl command_subcommand_required (value : bool) (command : command) : command =\n",
    "    !\\\\(command, $'\"clap::Command::subcommand_required($0, !value)\"')"
   ]
  },
  {
   "cell_type": "markdown",
   "metadata": {},
   "source": [
    "### command_subcommand"
   ]
  },
  {
   "cell_type": "code",
   "execution_count": null,
   "metadata": {
    "dotnet_interactive": {
     "language": "spiral"
    },
    "polyglot_notebook": {
     "kernelName": "spiral"
    }
   },
   "outputs": [],
   "source": [
    "inl command_subcommand (subcommand : command) (command : command) : command =\n",
    "    !\\\\(command, $'\"clap::Command::subcommand($0, !subcommand)\"')"
   ]
  },
  {
   "cell_type": "markdown",
   "metadata": {},
   "source": [
    "### value_parser_possible_values"
   ]
  },
  {
   "cell_type": "code",
   "execution_count": null,
   "metadata": {
    "dotnet_interactive": {
     "language": "spiral"
    },
    "polyglot_notebook": {
     "kernelName": "spiral"
    }
   },
   "outputs": [],
   "source": [
    "inl value_parser_possible_values (values : array_base string) : value_parser =\n",
    "    inl values =\n",
    "        values\n",
    "        |> am'.to_vec\n",
    "        |> am'.vec_map (sm'.to_std_string >> rust.new_box >> rust.box_leak >> new_possible_value)\n",
    "    !\\\\(values, $'\"Into::<clap::builder::ValueParser>::into(clap::builder::PossibleValuesParser::new($0))\"')"
   ]
  },
  {
   "cell_type": "markdown",
   "metadata": {},
   "source": [
    "### arg_union"
   ]
  },
  {
   "cell_type": "code",
   "execution_count": null,
   "metadata": {
    "dotnet_interactive": {
     "language": "spiral"
    },
    "polyglot_notebook": {
     "kernelName": "spiral"
    }
   },
   "outputs": [],
   "source": [
    "inl arg_union forall union_type. (fn : union_type -> ()) (arg : arg) : arg =\n",
    "    arg\n",
    "    |> arg_value_parser (\n",
    "        real reflection.get_union_fields_untag `union_type ()\n",
    "        |> fun x => x : _ (string * union_type)\n",
    "        |> listm.map fst\n",
    "        |> listm'.box\n",
    "        |> listm'.to_array'\n",
    "        |> value_parser_possible_values\n",
    "    )"
   ]
  },
  {
   "cell_type": "code",
   "execution_count": null,
   "metadata": {
    "dotnet_interactive": {
     "language": "spiral"
    },
    "polyglot_notebook": {
     "kernelName": "spiral"
    }
   },
   "outputs": [
    {
     "data": {
      "text/plain": [
       "__assert_eq / actual: US1_4 / expected: US1_4\n"
      ]
     },
     "metadata": {},
     "output_type": "display_data"
    }
   ],
   "source": [
    "//// test\n",
    "///! rust -d clap\n",
    "\n",
    "##\"command\"\n",
    "|> new_command\n",
    "|> command_init_arg (\"trace-level\", 't') (\n",
    "    real arg_union `trace_level ignore\n",
    ")\n",
    "|> command_get_matches_from ;[ \"_\"; \"--trace-level\"; \"Critical\" ]\n",
    "|> matches_get_one \"trace-level\"\n",
    "|> optionm'.unwrap\n",
    "|> sm'.from_std_string\n",
    "|> reflection.union_try_pick\n",
    "|> optionm.value\n",
    "|> _assert_eq Critical"
   ]
  },
  {
   "cell_type": "markdown",
   "metadata": {},
   "source": [
    "### command_debug_assert"
   ]
  },
  {
   "cell_type": "code",
   "execution_count": null,
   "metadata": {
    "dotnet_interactive": {
     "language": "spiral"
    },
    "polyglot_notebook": {
     "kernelName": "spiral"
    }
   },
   "outputs": [],
   "source": [
    "inl command_debug_assert (command : command) : () =\n",
    "    !\\\\(command, $'\"clap::Command::debug_assert($0)\"')"
   ]
  },
  {
   "cell_type": "markdown",
   "metadata": {},
   "source": [
    "## fsharp"
   ]
  },
  {
   "cell_type": "markdown",
   "metadata": {},
   "source": [
    "### process"
   ]
  },
  {
   "cell_type": "code",
   "execution_count": null,
   "metadata": {
    "dotnet_interactive": {
     "language": "spiral"
    },
    "polyglot_notebook": {
     "kernelName": "spiral"
    }
   },
   "outputs": [],
   "source": [
    "nominal process = $'System.Diagnostics.Process'"
   ]
  },
  {
   "cell_type": "markdown",
   "metadata": {},
   "source": [
    "### process_start_info"
   ]
  },
  {
   "cell_type": "code",
   "execution_count": null,
   "metadata": {
    "dotnet_interactive": {
     "language": "spiral"
    },
    "polyglot_notebook": {
     "kernelName": "spiral"
    }
   },
   "outputs": [],
   "source": [
    "nominal process_start_info = $'System.Diagnostics.ProcessStartInfo'"
   ]
  },
  {
   "cell_type": "markdown",
   "metadata": {},
   "source": [
    "### data_received_event_args"
   ]
  },
  {
   "cell_type": "code",
   "execution_count": null,
   "metadata": {
    "dotnet_interactive": {
     "language": "spiral"
    },
    "polyglot_notebook": {
     "kernelName": "spiral"
    }
   },
   "outputs": [],
   "source": [
    "nominal data_received_event_args = $'System.Diagnostics.DataReceivedEventArgs'"
   ]
  },
  {
   "cell_type": "markdown",
   "metadata": {},
   "source": [
    "### new_process"
   ]
  },
  {
   "cell_type": "code",
   "execution_count": null,
   "metadata": {
    "dotnet_interactive": {
     "language": "spiral"
    },
    "polyglot_notebook": {
     "kernelName": "spiral"
    }
   },
   "outputs": [],
   "source": [
    "inl new_process (process_start_info : process_start_info) : process =\n",
    "    $'new `process (StartInfo = !process_start_info)'"
   ]
  },
  {
   "cell_type": "markdown",
   "metadata": {},
   "source": [
    "### process_start"
   ]
  },
  {
   "cell_type": "code",
   "execution_count": null,
   "metadata": {
    "dotnet_interactive": {
     "language": "spiral"
    },
    "polyglot_notebook": {
     "kernelName": "spiral"
    }
   },
   "outputs": [],
   "source": [
    "inl process_start (process : process) : bool =\n",
    "    $'!process.Start' ()"
   ]
  },
  {
   "cell_type": "markdown",
   "metadata": {},
   "source": [
    "### process_exit_code"
   ]
  },
  {
   "cell_type": "code",
   "execution_count": null,
   "metadata": {
    "dotnet_interactive": {
     "language": "spiral"
    },
    "polyglot_notebook": {
     "kernelName": "spiral"
    }
   },
   "outputs": [],
   "source": [
    "inl process_exit_code (process : process) : i32 =\n",
    "    $'!process.ExitCode'"
   ]
  },
  {
   "cell_type": "markdown",
   "metadata": {},
   "source": [
    "### process_id"
   ]
  },
  {
   "cell_type": "code",
   "execution_count": null,
   "metadata": {
    "dotnet_interactive": {
     "language": "spiral"
    },
    "polyglot_notebook": {
     "kernelName": "spiral"
    }
   },
   "outputs": [],
   "source": [
    "inl process_id (process : process) : i32 =\n",
    "    $'!process.Id'"
   ]
  },
  {
   "cell_type": "markdown",
   "metadata": {},
   "source": [
    "### process_has_exited"
   ]
  },
  {
   "cell_type": "code",
   "execution_count": null,
   "metadata": {
    "dotnet_interactive": {
     "language": "spiral"
    },
    "polyglot_notebook": {
     "kernelName": "spiral"
    }
   },
   "outputs": [],
   "source": [
    "inl process_has_exited (process : process) : bool =\n",
    "    run_target function\n",
    "        | Fsharp (Native) => fun () =>\n",
    "            $'!process.HasExited'\n",
    "        | _ => fun () => null ()"
   ]
  },
  {
   "cell_type": "markdown",
   "metadata": {},
   "source": [
    "### process_kill"
   ]
  },
  {
   "cell_type": "code",
   "execution_count": null,
   "metadata": {
    "dotnet_interactive": {
     "language": "spiral"
    },
    "polyglot_notebook": {
     "kernelName": "spiral"
    }
   },
   "outputs": [],
   "source": [
    "inl process_kill (process : process) : () =\n",
    "    run_target function\n",
    "        | Fsharp (Native) => fun () =>\n",
    "            $'!process.Kill' ()\n",
    "        | _ => fun () => ()"
   ]
  },
  {
   "cell_type": "markdown",
   "metadata": {},
   "source": [
    "### process_begin_error_read_line"
   ]
  },
  {
   "cell_type": "code",
   "execution_count": null,
   "metadata": {
    "dotnet_interactive": {
     "language": "spiral"
    },
    "polyglot_notebook": {
     "kernelName": "spiral"
    }
   },
   "outputs": [],
   "source": [
    "inl process_begin_error_read_line (process : process) : () =\n",
    "    $'!process.BeginErrorReadLine' ()"
   ]
  },
  {
   "cell_type": "markdown",
   "metadata": {},
   "source": [
    "### process_begin_output_read_line"
   ]
  },
  {
   "cell_type": "code",
   "execution_count": null,
   "metadata": {
    "dotnet_interactive": {
     "language": "spiral"
    },
    "polyglot_notebook": {
     "kernelName": "spiral"
    }
   },
   "outputs": [],
   "source": [
    "inl process_begin_output_read_line (process : process) : () =\n",
    "    $'!process.BeginOutputReadLine' ()"
   ]
  },
  {
   "cell_type": "markdown",
   "metadata": {},
   "source": [
    "### process_add_output_data_received"
   ]
  },
  {
   "cell_type": "code",
   "execution_count": null,
   "metadata": {
    "dotnet_interactive": {
     "language": "spiral"
    },
    "polyglot_notebook": {
     "kernelName": "spiral"
    }
   },
   "outputs": [],
   "source": [
    "inl process_add_output_data_received fn (process : process) : () =\n",
    "    $'!process.OutputDataReceived.Add !fn '"
   ]
  },
  {
   "cell_type": "markdown",
   "metadata": {},
   "source": [
    "### process_add_error_data_received"
   ]
  },
  {
   "cell_type": "code",
   "execution_count": null,
   "metadata": {
    "dotnet_interactive": {
     "language": "spiral"
    },
    "polyglot_notebook": {
     "kernelName": "spiral"
    }
   },
   "outputs": [],
   "source": [
    "inl process_add_error_data_received fn (process : process) : () =\n",
    "    $'!process.ErrorDataReceived.Add !fn '"
   ]
  },
  {
   "cell_type": "markdown",
   "metadata": {},
   "source": [
    "### process_wait_for_exit_async"
   ]
  },
  {
   "cell_type": "code",
   "execution_count": null,
   "metadata": {
    "dotnet_interactive": {
     "language": "spiral"
    },
    "polyglot_notebook": {
     "kernelName": "spiral"
    }
   },
   "outputs": [],
   "source": [
    "inl process_wait_for_exit_async (ct : threading.cancellation_token) (process : process) : async.task () =\n",
    "    $'!process.WaitForExitAsync !ct '"
   ]
  },
  {
   "cell_type": "markdown",
   "metadata": {},
   "source": [
    "### event_data"
   ]
  },
  {
   "cell_type": "code",
   "execution_count": null,
   "metadata": {
    "dotnet_interactive": {
     "language": "spiral"
    },
    "polyglot_notebook": {
     "kernelName": "spiral"
    }
   },
   "outputs": [],
   "source": [
    "inl event_data (e : data_received_event_args) : string =\n",
    "    $'!e.Data'"
   ]
  },
  {
   "cell_type": "markdown",
   "metadata": {},
   "source": [
    "### execute_with_options_async"
   ]
  },
  {
   "cell_type": "code",
   "execution_count": null,
   "metadata": {
    "dotnet_interactive": {
     "language": "spiral"
    },
    "polyglot_notebook": {
     "kernelName": "spiral"
    }
   },
   "outputs": [],
   "source": [
    "let execute_with_options_async (options : execution_options) : _ (i32 * string) =\n",
    "    run_target function\n",
    "        | Fsharp (Native) => fun () =>\n",
    "            fun () =>\n",
    "                inl file_name, arguments = options.command |> split_command |> resultm.get\n",
    "                inl working_directory = options.working_directory |> optionm'.unbox |> optionm'.default_value \"\"\n",
    "\n",
    "                trace Debug\n",
    "                    fun () => \"runtime.execute_with_options_async\"\n",
    "                    fun () => { file_name arguments options }\n",
    "\n",
    "                inl utf8 = sm'.encoding_utf8 ()\n",
    "                inl arguments = arguments |> optionm'.default_value \"\"\n",
    "\n",
    "                $'let start_info = System.Diagnostics.ProcessStartInfo ('\n",
    "                $'  Arguments = !arguments,'\n",
    "                $'  StandardOutputEncoding = !utf8,'\n",
    "                $'  WorkingDirectory = !working_directory,'\n",
    "                $'  FileName = !file_name,'\n",
    "                $'  CreateNoWindow = true,'\n",
    "                $'  RedirectStandardError = true,'\n",
    "                $'  RedirectStandardOutput = true,'\n",
    "                $'  UseShellExecute = false'\n",
    "                $')'\n",
    "                inl start_info : process_start_info = $'start_info'\n",
    "\n",
    "                (a options.environment_variables : _ i32 _)\n",
    "                |> am.iter fun key, value =>\n",
    "                    $'!start_info.EnvironmentVariables.[!key] <- !value '\n",
    "\n",
    "                inl proc = start_info |> new_process |> use\n",
    "                inl output : _ string = threading.new_concurrent_stack ()\n",
    "\n",
    "                inl event error (e : data_received_event_args) = async.new_async fun () =>\n",
    "                    inl data = e |> event_data\n",
    "                    if data <> null () then\n",
    "                        match options.on_line |> optionm'.unbox with\n",
    "                        | Some on_line =>\n",
    "                            on_line\n",
    "                                {\n",
    "                                    process_id = proc |> process_id\n",
    "                                    line = data\n",
    "                                    error = error\n",
    "                                }\n",
    "                            |> async.do\n",
    "                        | None => ()\n",
    "\n",
    "                        inl text =\n",
    "                            if error\n",
    "                            then $'$\"\\! {!data}\"'\n",
    "                            else $'$\"> {!data}\"'\n",
    "                        if options.trace\n",
    "                        then trace Verbose (fun () => text) id\n",
    "                        else text |> console.write_line\n",
    "\n",
    "                        inl l = if error then $'\"\\\\u001b[7;4m\"' else \"\"\n",
    "                        inl r = if error then $'\"\\\\u001b[0m\"' else \"\"\n",
    "                        output |> threading.concurrent_stack_push $'$\"{!l}{!data}{!r}\"'\n",
    "\n",
    "                proc |> process_add_output_data_received (event false >> async.start_immediate)\n",
    "                proc |> process_add_error_data_received (event true >> async.start_immediate)\n",
    "\n",
    "                if proc |> process_start |> not\n",
    "                then failwith $'$\"runtime.execute_with_options_async / process_start error\"'\n",
    "\n",
    "                proc |> process_begin_error_read_line\n",
    "                proc |> process_begin_output_read_line\n",
    "\n",
    "                inl ct =\n",
    "                    options.cancellation_token\n",
    "                    |> optionm'.unbox\n",
    "                    |> optionm'.default_with threading.token_none\n",
    "                    |> async.merge_cancellation_token_with_default_async\n",
    "                    |> async.let'\n",
    "\n",
    "                ct |> threading.token_register fun () =>\n",
    "                    if proc |> process_has_exited |> not\n",
    "                    then proc |> process_kill\n",
    "                |> use\n",
    "                |> ignore\n",
    "\n",
    "                inl exit_code : i32 =\n",
    "                    fun () =>\n",
    "                        try_unit\n",
    "                            fun () =>\n",
    "                                proc\n",
    "                                |> process_wait_for_exit_async ct\n",
    "                                |> async.await_task\n",
    "                                |> async.do\n",
    "                                proc |> process_exit_code |> return\n",
    "                            fun ex =>\n",
    "                                // with :? System.Threading.Tasks.TaskCanceledException as ex =>\n",
    "                                inl ex' = ex |> sm'.format_exception\n",
    "                                output |> threading.concurrent_stack_push ex'\n",
    "                                inl ex : async.task_canceled_exception = ex |> unbox\n",
    "                                trace Warning\n",
    "                                    fun () => \"runtime.execute_with_options_async / WaitForExitAsync\"\n",
    "                                    fun () => { ex }\n",
    "                                (limit.min : i32) |> return\n",
    "                    |> async.new_async_unit\n",
    "                    |> async.let'\n",
    "\n",
    "                inl output =\n",
    "                    output\n",
    "                    |> seq.rev''\n",
    "                    |> fun x => x : seq.seq' string\n",
    "                    |> sm'.concat \"\\n\"\n",
    "\n",
    "                trace Debug\n",
    "                    fun () => \"runtime.execute_with_options_async\"\n",
    "                    fun () => { exit_code output_length = output |> sm'.length : i32 }\n",
    "\n",
    "                (exit_code, output) |> return\n",
    "            |> async.new_async_unit\n",
    "        | _ => fun () =>\n",
    "            global \"#if FABLE_COMPILER\\n[<CompilationRepresentation (CompilationRepresentationFlags.ModuleSuffix)>]\\nmodule System =\\n module Diagnostics =\\n  type Process = unit\\n  type DataReceivedEventArgs = unit\\n#endif\"\n",
    "            null ()"
   ]
  },
  {
   "cell_type": "markdown",
   "metadata": {},
   "source": [
    "### execute_async"
   ]
  },
  {
   "cell_type": "code",
   "execution_count": null,
   "metadata": {
    "dotnet_interactive": {
     "language": "spiral"
    },
    "polyglot_notebook": {
     "kernelName": "spiral"
    }
   },
   "outputs": [],
   "source": [
    "inl execute_async command =\n",
    "    execution_options fun x => { x with\n",
    "        command = command\n",
    "    }\n",
    "    |> execute_with_options_async"
   ]
  },
  {
   "cell_type": "code",
   "execution_count": null,
   "metadata": {
    "dotnet_interactive": {
     "language": "spiral"
    },
    "polyglot_notebook": {
     "kernelName": "spiral"
    }
   },
   "outputs": [
    {
     "name": "stdout",
     "output_type": "stream",
     "text": [
      "00:00:00 \u001B[94md\u001B[0m #1 runtime.execute_with_options_async / { file_name = pwsh; arguments = US2_0\n",
      "  \"-c \"Get-Content /tmp/!create_temp_path_/dotnet-repl/76793606-813b-88ad-7791-7ce2871edce9/test.txt\"\"; options = { command = pwsh -c \"Get-Content /tmp/!create_temp_path_/dotnet-repl/76793606-813b-88ad-7791-7ce2871edce9/test.txt\"; cancellation_token = None; environment_variables = [||]; on_line = None; stdin = None; trace = true; working_directory = None } }\n",
      "00:00:00 \u001B[90mv\u001B[0m #2 ! \u001B[31;1mGet-Content: \u001B[31;1mCannot find path '/tmp/!create_temp_path_/dotnet-repl/76793606-813b-88ad-7791-7ce2871edce9/test.txt' because it does not exist.\u001B[0m\n",
      "00:00:00 \u001B[94md\u001B[0m #3 runtime.execute_with_options_async / { exit_code = 1; output_length = 168 }\n",
      "__assert_eq / actual: 1 / expected: 1\n",
      "__assert / actual: \"not exist\" / expected: \"\u001B[7;4m\u001B[31;1mGet-Content: \u001B[31;1mCannot find path '/tmp/!create_temp_path_/dotnet-repl/76793606-813b-88ad-7791-7ce2871edce9/test.txt' because it does not exist.\u001B[0m\u001B[0m\"\n",
      "00:00:00 \u001B[94md\u001B[0m #4 runtime.execute_with_options_async / { file_name = cat; arguments = US2_0 \"\"test.txt\"\"; options = { command = cat \"test.txt\"; cancellation_token = None; environment_variables = [||]; on_line = None; stdin = None; trace = true; working_directory = Some \"/tmp/!create_temp_path_/dotnet-repl/76793606-813b-88ad-7791-7ce2871edce9\" } }\n",
      "00:00:00 \u001B[90mv\u001B[0m #5 > ╭─[ 你好，世界！こんにちは世界！ ]─╮\n",
      "00:00:00 \u001B[94md\u001B[0m #6 runtime.execute_with_options_async / { exit_code = 0; output_length = 22 }\n",
      "00:00:00 \u001B[94md\u001B[0m #7 runtime.execute_with_options_async / { file_name = pwsh; arguments = US2_0\n",
      "  \"-c \"[System.Console]::OutputEncoding = [System.Text.Encoding]::UTF8; Get-Content test.txt\"\"; options = { command = pwsh -c \"[System.Console]::OutputEncoding = [System.Text.Encoding]::UTF8; Get-Content test.txt\"; cancellation_token = None; environment_variables = [||]; on_line = None; stdin = None; trace = true; working_directory = Some \"/tmp/!create_temp_path_/dotnet-repl/76793606-813b-88ad-7791-7ce2871edce9\" } }\n",
      "00:00:00 \u001B[90mv\u001B[0m #8 > ╭─[ 你好，世界！こんにちは世界！ ]─╮\n",
      "00:00:00 \u001B[94md\u001B[0m #9 runtime.execute_with_options_async / { exit_code = 0; output_length = 22 }\n",
      "__assert_eq / actual: 0 / expected: 0\n",
      "__assert_eq / actual: \"╭─[ 你好，世界！こんにちは世界！ ]─╮\" / expected: \"╭─[ 你好，世界！こんにちは世界！ ]─╮\"\n",
      "__assert_eq / actual: true / expected: true\n"
     ]
    }
   ],
   "source": [
    "//// test\n",
    "\n",
    "inl content = \"╭─[ 你好，世界！こんにちは世界！ ]─╮\"\n",
    "fun () =>\n",
    "    inl file_name = \"test.txt\"\n",
    "    inl temp_dir, disposable =\n",
    "        (file_name, content)\n",
    "        |> sm'.format_debug\n",
    "        |> crypto.hash_text\n",
    "        |> file_system.create_temp_dir'\n",
    "    disposable |> use |> ignore\n",
    "\n",
    "    inl path = temp_dir </> file_name\n",
    "\n",
    "    inl exit_code, result = execute_async $'\\@$\"pwsh -c \"\"Get-Content {!path}\"\"\"' |> async.let'\n",
    "    exit_code |> join _assert_eq 1\n",
    "    result |> _assert sm'.contains \"not exist\"\n",
    "\n",
    "    content |> file_system.write_all_text_async path |> async.do\n",
    "\n",
    "    execution_options fun x => { x with\n",
    "        command = $'\\@$\"cat \"\"{!file_name}\"\"\"'\n",
    "        working_directory = Some temp_dir |> optionm'.box\n",
    "    }\n",
    "    |> execute_with_options_async\n",
    "    |> async.let'\n",
    "    |> ignore\n",
    "\n",
    "    execution_options fun x => { x with\n",
    "        command = $'\\@$\"pwsh -c \"\"[System.Console]::OutputEncoding = [System.Text.Encoding]::UTF8; Get-Content {!file_name}\"\"\"'\n",
    "        working_directory = Some temp_dir |> optionm'.box\n",
    "    }\n",
    "    |> execute_with_options_async\n",
    "    |> async.return_await\n",
    "|> async.new_async_unit\n",
    "|> async.run_with_timeout 10000\n",
    "|> function\n",
    "    | Some (exit_code, output) =>\n",
    "        exit_code |> join _assert_eq 0i32\n",
    "        output |> join _assert_eq content\n",
    "        true\n",
    "    | _ => false\n",
    "|> _assert_eq true"
   ]
  },
  {
   "cell_type": "code",
   "execution_count": null,
   "metadata": {
    "dotnet_interactive": {
     "language": "spiral"
    },
    "polyglot_notebook": {
     "kernelName": "spiral"
    }
   },
   "outputs": [
    {
     "name": "stdout",
     "output_type": "stream",
     "text": [
      "00:00:00 \u001B[94md\u001B[0m #1 1\n",
      "00:00:00 \u001B[94md\u001B[0m #2 2\n",
      "00:00:00 \u001B[94md\u001B[0m #3 runtime.execute_with_options_async / { file_name = pwsh; arguments = US2_0\n",
      "  \"-c \"Get-Content /tmp/!create_temp_path_/dotnet-repl/613830ed-016e-d959-8d21-02dc1c63c252/test.txt\"\"; options = { command = pwsh -c \"Get-Content /tmp/!create_temp_path_/dotnet-repl/613830ed-016e-d959-8d21-02dc1c63c252/test.txt\"; cancellation_token = Some System.Threading.CancellationToken; environment_variables = [||]; on_line = None; stdin = None; trace = true; working_directory = None } }\n",
      "00:00:00 \u001B[94md\u001B[0m #4 3\n",
      "00:00:00 \u001B[94md\u001B[0m #5 4\n",
      "00:00:00 \u001B[93mw\u001B[0m #6 runtime.execute_with_options_async / WaitForExitAsync / { ex = System.Threading.Tasks.TaskCanceledException: A task was canceled. }\n",
      "00:00:00 \u001B[94md\u001B[0m #7 runtime.execute_with_options_async / { exit_code = -2147483648; output_length = 66 }\n",
      "00:00:00 \u001B[94md\u001B[0m #8 5\n",
      "__assert_eq / actual: -2147483648 / expected: -2147483648\n",
      "__assert_eq / actual: \"System.Threading.Tasks.TaskCanceledException: A task was canceled.\" / expected: \"System.Threading.Tasks.TaskCanceledException: A task was canceled.\"\n",
      "__assert_eq / actual: true / expected: true\n"
     ]
    }
   ],
   "source": [
    "//// test\n",
    "\n",
    "fun () =>\n",
    "    inl file_name = \"test.txt\"\n",
    "    inl text = \"0\"\n",
    "\n",
    "    inl temp_dir, disposable =\n",
    "        (file_name, text)\n",
    "        |> sm'.format_debug\n",
    "        |> crypto.hash_text\n",
    "        |> file_system.create_temp_dir'\n",
    "    disposable |> use |> ignore\n",
    "    inl path = temp_dir </> file_name\n",
    "    text |> file_system.write_all_text_async path |> async.do\n",
    "\n",
    "    inl cts = threading.new_cancellation_token_source ()\n",
    "    trace Debug (fun () => \"1\") id\n",
    "    inl result =\n",
    "        execution_options fun x => { x with\n",
    "            command = $'\\@$\"pwsh -c \"\"Get-Content {!path}\"\"\"'\n",
    "            cancellation_token = cts |> threading.cancellation_source_token |> Some |> optionm'.box\n",
    "        }\n",
    "        |> execute_with_options_async\n",
    "        |> async.start_child\n",
    "        |> async.let'\n",
    "    trace Debug (fun () => \"2\") id\n",
    "    async.sleep 100 |> async.do\n",
    "    trace Debug (fun () => \"3\") id\n",
    "    cts |> threading.cancellation_source_cancel\n",
    "    trace Debug (fun () => \"4\") id\n",
    "    inl exit_code, output = result |> async.let'\n",
    "    trace Debug (fun () => \"5\") id\n",
    "    (exit_code, output) |> return\n",
    "|> async.new_async_unit\n",
    "|> async.run_with_timeout 10000\n",
    "|> function\n",
    "    | Some (exit_code, output) =>\n",
    "        exit_code |> _assert_eq -2147483648i32\n",
    "        output |> _assert_eq (join \"System.Threading.Tasks.TaskCanceledException: A task was canceled.\")\n",
    "        true\n",
    "    | _ => false\n",
    "|> _assert_eq true"
   ]
  },
  {
   "cell_type": "markdown",
   "metadata": {},
   "source": [
    "### current_process_kill"
   ]
  },
  {
   "cell_type": "code",
   "execution_count": null,
   "metadata": {
    "dotnet_interactive": {
     "language": "spiral"
    },
    "polyglot_notebook": {
     "kernelName": "spiral"
    }
   },
   "outputs": [],
   "source": [
    "inl current_process_kill () =\n",
    "    run_target function\n",
    "        | Fsharp (Native) => fun () =>\n",
    "            inl fn () =\n",
    "                run_target function\n",
    "                    | Fsharp (Native) => fun () =>\n",
    "                        trace Warning (fun () => \"runtime.current_process_kill / exiting... 3\") id\n",
    "                        $'System.Threading.Thread.Sleep 300'\n",
    "                        trace Warning (fun () => \"runtime.current_process_kill / exiting... 2\") id\n",
    "                        $'System.Console.Out.Flush ()'\n",
    "                        $'System.Threading.Thread.Sleep 60'\n",
    "                        trace Warning (fun () => \"runtime.current_process_kill / exiting... 1\") id\n",
    "                        $'System.Diagnostics.Process.GetCurrentProcess().Kill ()' : ()\n",
    "                    | _ => fun () => ()\n",
    "            inl thread : threading.thread = $'new System.Threading.Thread (!fn)'\n",
    "            thread |> $'_.Start()' : ()\n",
    "        | _ => fun () => ()"
   ]
  },
  {
   "cell_type": "markdown",
   "metadata": {},
   "source": [
    "### gc_collect"
   ]
  },
  {
   "cell_type": "code",
   "execution_count": null,
   "metadata": {
    "dotnet_interactive": {
     "language": "spiral"
    },
    "polyglot_notebook": {
     "kernelName": "spiral"
    }
   },
   "outputs": [],
   "source": [
    "inl gc_collect () =\n",
    "    run_target function\n",
    "        | Fsharp _ => fun () => $'System.GC.Collect' () : ()\n",
    "        | Python _ => fun () =>\n",
    "            backend_switch {\n",
    "                Python = fun () => global \"import gc\"\n",
    "            }\n",
    "            ($'gc.collect()' : int) |> ignore\n",
    "        | _ => fun () => ()"
   ]
  },
  {
   "cell_type": "markdown",
   "metadata": {},
   "source": [
    "## runtime"
   ]
  },
  {
   "cell_type": "markdown",
   "metadata": {},
   "source": [
    "### execute_with_options"
   ]
  },
  {
   "cell_type": "code",
   "execution_count": null,
   "metadata": {
    "dotnet_interactive": {
     "language": "spiral"
    },
    "polyglot_notebook": {
     "kernelName": "spiral"
    }
   },
   "outputs": [],
   "source": [
    "let execute_with_options (options : execution_options) : i32 * string =\n",
    "    run_target function\n",
    "        | Fsharp (Native) => fun () =>\n",
    "            options |> execute_with_options_async |> async.run_synchronously\n",
    "        | Rust (Native) => fun () =>\n",
    "            inl command = join options.command\n",
    "            inl file_name, arguments = command |> split_command |> resultm.get\n",
    "            inl arguments =\n",
    "                arguments\n",
    "                |> optionm'.default_value \"\"\n",
    "                |> split_args\n",
    "                |> resultm.get\n",
    "                |> am'.to_vec\n",
    "                |> am'.vec_map sm'.to_std_string\n",
    "            trace Debug\n",
    "                fun () => \"runtime.execute_with_options\"\n",
    "                fun () => { file_name arguments = arguments |> sm'.format_debug; options }\n",
    "            fun () =>\n",
    "                fun () =>\n",
    "                    file_name\n",
    "                    |> new_process_command\n",
    "                    |> process_command_args arguments\n",
    "                    |> process_command_stdout (process_stdio_piped ())\n",
    "                    |> process_command_stderr (process_stdio_piped ())\n",
    "                    |> process_command_stdin (process_stdio_piped ())\n",
    "                    |> fun command =>\n",
    "                        match options.working_directory |> optionm'.unbox with\n",
    "                        | Some working_directory =>\n",
    "                            command\n",
    "                            |> process_command_current_dir working_directory\n",
    "                        | None => command\n",
    "                    |> fun command =>\n",
    "                        match options.environment_variables with\n",
    "                        | ;[] => command\n",
    "                        | vars =>\n",
    "                            (command, vars |> am'.to_vec)\n",
    "                            ||> am'.vec_fold' fun command (key, value) =>\n",
    "                                command |> process_command_env key value\n",
    "                    |> process_command_spawn\n",
    "                    |> resultm.map_error' sm'.format'\n",
    "                    |> resultm.map' (optionm'.some' >> (join id) >> threading.new_arc_mutex)\n",
    "                    |> resultm.unbox'\n",
    "                    |> function\n",
    "                        | Ok child =>\n",
    "                            inl stdout =\n",
    "                                fun () =>\n",
    "                                    child\n",
    "                                    |> threading.arc_mutex_lock\n",
    "                                    |> resultm.unwrap'\n",
    "                                    |> threading.mutex_guard_ref_mut\n",
    "                                    |> optionm'.as_mut\n",
    "                                    |> optionm'.unwrap\n",
    "                                    |> process_child_stdout\n",
    "                                    |> optionm'.take_ref_mut\n",
    "                                    |> optionm'.unwrap\n",
    "                                |> rust.capture\n",
    "                            inl stderr =\n",
    "                                fun () =>\n",
    "                                    child\n",
    "                                    |> threading.arc_mutex_lock\n",
    "                                    |> resultm.unwrap'\n",
    "                                    |> threading.mutex_guard_ref_mut\n",
    "                                    |> optionm'.as_mut\n",
    "                                    |> optionm'.unwrap\n",
    "                                    |> process_child_stderr\n",
    "                                    |> optionm'.take_ref_mut\n",
    "                                    |> optionm'.unwrap\n",
    "                                |> rust.capture\n",
    "                            inl stdin =\n",
    "                                fun () =>\n",
    "                                    child\n",
    "                                    |> threading.arc_mutex_lock\n",
    "                                    |> resultm.unwrap'\n",
    "                                    |> threading.mutex_guard_ref_mut\n",
    "                                    |> optionm'.as_mut\n",
    "                                    |> optionm'.unwrap\n",
    "                                    |> process_child_stdin\n",
    "                                    |> optionm'.take_ref_mut\n",
    "                                    |> optionm'.unwrap\n",
    "                                    |> optionm'.some'\n",
    "                                    |> join id\n",
    "                                    |> threading.new_arc_mutex\n",
    "                                |> rust.capture\n",
    "                            inl channel_sender, channel_receiver = threading.new_channel ()\n",
    "                            inl channel_sender'' = channel_sender |> (join id) |> threading.new_arc_mutex\n",
    "                            inl channel_sender' = channel_sender |> (join id) |> threading.new_arc_mutex\n",
    "                            inl channel_receiver' = channel_receiver |> (join id) |> threading.new_arc_mutex\n",
    "                            inl stdout_handle =\n",
    "                                fun () =>\n",
    "                                    stdout\n",
    "                                    |> stream.decode_reader_bytes_build\n",
    "                                    |> stream.new_buf_reader\n",
    "                                    |> stream.buf_read_lines\n",
    "                                    |> iter.try_for_each fun lines =>\n",
    "                                        inl channel_sender'' = channel_sender'' |> rust.clone\n",
    "                                        lines\n",
    "                                        |> stdio_line (Ok ()) options.trace channel_sender''\n",
    "                                        |> resultm.to_try\n",
    "                                |> threading.spawn (1, 0) 1\n",
    "                            inl stderr_handle =\n",
    "                                fun () =>\n",
    "                                    stderr\n",
    "                                    |> stream.decode_reader_bytes_build\n",
    "                                    |> stream.new_buf_reader\n",
    "                                    |> stream.buf_read_lines\n",
    "                                    |> iter.try_for_each fun lines =>\n",
    "                                        inl channel_sender' = channel_sender' |> rust.clone\n",
    "                                        lines\n",
    "                                        |> stdio_line (Error ()) options.trace channel_sender'\n",
    "                                        |> resultm.to_try\n",
    "                                |> threading.spawn (1, 0) 1\n",
    "                            match options.stdin |> optionm'.unbox with\n",
    "                            | Some stdin' =>\n",
    "                                stdin\n",
    "                                |> threading.arc_mutex_lock\n",
    "                                |> resultm.unwrap'\n",
    "                                |> threading.mutex_guard_ref_mut\n",
    "                                |> optionm'.take_ref_mut\n",
    "                                |> optionm'.map' threading.new_arc_mutex\n",
    "                                |> optionm'.unbox\n",
    "                                |> function\n",
    "                                    | Some stdin =>\n",
    "                                        stdin |> stdin'\n",
    "                                        stdin\n",
    "                                        |> threading.arc_mutex_lock\n",
    "                                        |> resultm.unwrap'\n",
    "                                        |> stdin_flush\n",
    "                                    | None => ()\n",
    "                            | None => ()\n",
    "                            inl output =\n",
    "                                child\n",
    "                                |> threading.arc_mutex_lock\n",
    "                                |> resultm.unwrap'\n",
    "                                |> threading.mutex_guard_ref_mut\n",
    "                                |> optionm'.take_ref_mut\n",
    "                                |> optionm'.unwrap\n",
    "                                |> child_wait_with_output\n",
    "                                |> resultm.map_error' sm'.format'\n",
    "                            [ stdout_handle; stderr_handle ]\n",
    "                            |> am'.new_vec\n",
    "                            |> am'.vec_for_each' (threading.join' >> resultm.unwrap' >> resultm.unwrap')\n",
    "                            match output |> resultm.unbox with\n",
    "                            | Ok output =>\n",
    "                                inl exit_code =\n",
    "                                    output\n",
    "                                    |> process_output_status\n",
    "                                    |> process_exit_status_code\n",
    "                                    |> optionm'.unbox\n",
    "                                match exit_code with\n",
    "                                | Some exit_code => exit_code, None, Some channel_receiver'\n",
    "                                | None =>\n",
    "                                    -1,\n",
    "                                    (\"runtime.execute_with_options / exit_code=None\" |> sm'.to_std_string |> Some),\n",
    "                                    Some channel_receiver'\n",
    "                            | Error error =>\n",
    "                                trace Critical\n",
    "                                    fun () => \"runtime.execute_with_options / output error\"\n",
    "                                    fun () => { error }\n",
    "                                -2i32, error |> Some, None\n",
    "                        | Error error =>\n",
    "                            trace Critical\n",
    "                                fun () => \"runtime.execute_with_options / child error\"\n",
    "                                fun () => { error }\n",
    "                            -1i32, error |> Some, None\n",
    "                    |> function\n",
    "                        | exit_code, std_trace, channel_receiver =>\n",
    "                            inl std_trace =\n",
    "                                channel_receiver\n",
    "                                |> optionm'.box\n",
    "                                |> optionm'.map' fun channel_receiver =>\n",
    "                                    channel_receiver\n",
    "                                    |> threading.arc_mutex_lock\n",
    "                                    |> resultm.unwrap'\n",
    "                                    |> iter.iter\n",
    "                                    |> iter_collect''\n",
    "                                    |> am'.vec_map sm'.from_std_string\n",
    "                                    |> am'.from_vec\n",
    "                                    |> fun x => x : _ i32 _\n",
    "                                    |> seq.of_array\n",
    "                                    |> sm'.concat \"\\n\"\n",
    "                                |> optionm'.default_value' (\n",
    "                                    std_trace\n",
    "                                    |> optionm.map sm'.from_std_string\n",
    "                                    |> optionm'.default_value \"\"\n",
    "                                )\n",
    "                            trace Verbose\n",
    "                                fun () => \"runtime.execute_with_options / result\"\n",
    "                                fun () => { exit_code std_trace_length = std_trace |> sm'.length : i32 }\n",
    "                            new_pair exit_code std_trace\n",
    "                |> capture\n",
    "            // |> async.new_future_move\n",
    "            // |> async.block_on\n",
    "            |> fun x => x ()\n",
    "            |> from_pair\n",
    "        | _ => fun () => null ()"
   ]
  },
  {
   "cell_type": "markdown",
   "metadata": {},
   "source": [
    "#### execute"
   ]
  },
  {
   "cell_type": "code",
   "execution_count": null,
   "metadata": {
    "dotnet_interactive": {
     "language": "spiral"
    },
    "polyglot_notebook": {
     "kernelName": "spiral"
    }
   },
   "outputs": [],
   "source": [
    "inl execute command =\n",
    "    execution_options fun x => { x with\n",
    "        command = command\n",
    "    }\n",
    "    |> execute_with_options"
   ]
  },
  {
   "cell_type": "markdown",
   "metadata": {},
   "source": [
    "#### tests"
   ]
  },
  {
   "cell_type": "code",
   "execution_count": null,
   "metadata": {
    "dotnet_interactive": {
     "language": "spiral"
    },
    "polyglot_notebook": {
     "kernelName": "spiral"
    }
   },
   "outputs": [
    {
     "data": {
      "text/plain": [
       "00:00:00 \u001B[90mv\u001B[39m #1 file_system.create_dir / { dir = /tmp/!create_temp_path_/spiral_builder_b3890cad7003cb1483256a94022cbf3f9d09820d1f26d9310c5a2d989ebebbf4/9242780b-ce0e-9155-5e07-f6ee5667aa16 }\n",
       "00:00:00 \u001B[94md\u001B[39m #2 runtime.execute_with_options / { file_name = pwsh; arguments = [\"-c\", \"[IO.File]::ReadAllText('/tmp/!create_temp_path_/spiral_builder_b3890cad7003cb1483256a94022cbf3f9d09820d1f26d9310c5a2d989ebebbf4/9242780b-ce0e-9155-5e07-f6ee5667aa16/test.txt')\"]; options = { command = pwsh -c \"[IO.File]::ReadAllText('/tmp/!create_temp_path_/spiral_builder_b3890cad7003cb1483256a94022cbf3f9d09820d1f26d9310c5a2d989ebebbf4/9242780b-ce0e-9155-5e07-f6ee5667aa16/test.txt')\"; cancellation_token = None; environment_variables = Array(MutCell([])); on_line = None; stdin = None; trace = true; working_directory = None } }\n",
       "00:00:00 \u001B[90mv\u001B[39m #3 ! \u001B[31;1mMethodInvocationException: \u001B[31;1mException calling \"ReadAllText\" with \"1\" argument(s): \"Could not find file '/tmp/!create_temp_path_/spiral_builder_b3890cad7003cb1483256a94022cbf3f9d09820d1f26d9310c5a2d989ebebbf4/9242780b-ce0e-9155-5e07-f6ee5667aa16/test.txt'.\"\u001B[0m\n",
       "00:00:00 \u001B[90mv\u001B[39m #4 runtime.execute_with_options / result / { exit_code = 1; std_trace_length = 283 }\n",
       "__assert_eq / actual: 1 / expected: 1\n",
       "__assert / actual: \"not find file\" / expected: \"\u001B[4;7m\u001B[31;1mMethodInvocationException: \u001B[31;1mException calling \"ReadAllText\" with \"1\" argument(s): \"Could not find file '/tmp/!create_temp_path_/spiral_builder_b3890cad7003cb1483256a94022cbf3f9d09820d1f26d9310c5a2d989ebebbf4/9242780b-ce0e-9155-5e07-f6ee5667aa16/test.txt'.\"\u001B[0m\u001B[0m\"\n",
       "00:00:00 \u001B[94md\u001B[39m #5 runtime.execute_with_options / { file_name = cat; arguments = [\"test.txt\"]; options = { command = cat \"test.txt\"; cancellation_token = None; environment_variables = Array(MutCell([])); on_line = None; stdin = None; trace = true; working_directory = Some(\n",
       "    \"/tmp/!create_temp_path_/spiral_builder_b3890cad7003cb1483256a94022cbf3f9d09820d1f26d9310c5a2d989ebebbf4/9242780b-ce0e-9155-5e07-f6ee5667aa16\",\n",
       ") } }\n",
       "00:00:00 \u001B[90mv\u001B[39m #6 > ╭─[ 你好，世界！こんにちは世界！ ]─╮\n",
       "00:00:00 \u001B[90mv\u001B[39m #7 runtime.execute_with_options / result / { exit_code = 0; std_trace_length = 22 }\n",
       "00:00:00 \u001B[94md\u001B[39m #8 runtime.execute_with_options / { file_name = pwsh; arguments = [\"-c\", \"[System.Console]::OutputEncoding = [System.Text.Encoding]::UTF8; [IO.File]::ReadAllText('test.txt')\"]; options = { command = pwsh -c \"[System.Console]::OutputEncoding = [System.Text.Encoding]::UTF8; [IO.File]::ReadAllText('test.txt')\"; cancellation_token = None; environment_variables = Array(MutCell([])); on_line = None; stdin = None; trace = true; working_directory = Some(\n",
       "    \"/tmp/!create_temp_path_/spiral_builder_b3890cad7003cb1483256a94022cbf3f9d09820d1f26d9310c5a2d989ebebbf4/9242780b-ce0e-9155-5e07-f6ee5667aa16\",\n",
       ") } }\n",
       "00:00:00 \u001B[90mv\u001B[39m #9 > ╭─[ 你好，世界！こんにちは世界！ ]─╮\n",
       "00:00:00 \u001B[90mv\u001B[39m #10 runtime.execute_with_options / result / { exit_code = 0; std_trace_length = 22 }\n",
       "__assert_eq / actual: 0 / expected: 0\n",
       "__assert_eq / actual: \"╭─[ 你好，世界！こんにちは世界！ ]─╮\" / expected: \"╭─[ 你好，世界！こんにちは世界！ ]─╮\"\n"
      ]
     },
     "metadata": {},
     "output_type": "display_data"
    }
   ],
   "source": [
    "//// test\n",
    "///! rust -d chrono encoding_rs encoding_rs_io regex sha2\n",
    "\n",
    "inl content = \"╭─[ 你好，世界！こんにちは世界！ ]─╮\"\n",
    "\n",
    "inl file_name = join \"test.txt\"\n",
    "inl temp_dir, disposable =\n",
    "    (file_name, content)\n",
    "    |> sm'.format_debug\n",
    "    |> crypto.hash_text\n",
    "    |> file_system.create_temp_dir'\n",
    "inl path = temp_dir </> file_name |> file_system.normalize_path\n",
    "inl exit_code, result =\n",
    "    execute $'\\@$\"pwsh -c \"\"[IO.File]::ReadAllText(\\'{!path}\\')\"\"\"'\n",
    "exit_code |> _assert_eq 1\n",
    "result |> _assert sm'.contains \"not find file\"\n",
    "\n",
    "content |> file_system.write_all_text path\n",
    "\n",
    "execution_options fun x => { x with\n",
    "    command = $'\\@$\"cat \"\"{!file_name}\"\"\"'\n",
    "    working_directory = Some temp_dir |> optionm'.box\n",
    "}\n",
    "|> execute_with_options\n",
    "|> ignore\n",
    "\n",
    "inl exit_code, output =\n",
    "    execution_options fun x => { x with\n",
    "        command = $'\\@$\"pwsh -c \"\"[System.Console]::OutputEncoding = [System.Text.Encoding]::UTF8; [IO.File]::ReadAllText(\\'{!file_name}\\')\"\"\"'\n",
    "        working_directory = Some temp_dir |> optionm'.box\n",
    "    }\n",
    "    |> execute_with_options\n",
    "\n",
    "exit_code |> _assert_eq 0i32\n",
    "output |> _assert_eq content\n",
    "\n",
    "disposable |> use |> ignore"
   ]
  },
  {
   "cell_type": "markdown",
   "metadata": {},
   "source": [
    "### execute_retry"
   ]
  },
  {
   "cell_type": "code",
   "execution_count": null,
   "metadata": {
    "dotnet_interactive": {
     "language": "spiral"
    },
    "polyglot_notebook": {
     "kernelName": "spiral"
    }
   },
   "outputs": [],
   "source": [
    "let execute_retry retries options =\n",
    "    fun () =>\n",
    "        inl exit_code, result = options |> execute_with_options\n",
    "        if exit_code = 0\n",
    "        then Ok (exit_code, result)\n",
    "        else Error (exit_code, result)\n",
    "    |> retry_fn' retries"
   ]
  },
  {
   "cell_type": "markdown",
   "metadata": {},
   "source": [
    "## main"
   ]
  },
  {
   "cell_type": "code",
   "execution_count": null,
   "metadata": {
    "dotnet_interactive": {
     "language": "spiral"
    },
    "polyglot_notebook": {
     "kernelName": "spiral"
    }
   },
   "outputs": [],
   "source": [
    "inl main () =\n",
    "    init_trace_state None\n",
    "    $'let current_process_kill () = !current_process_kill ()' : ()\n",
    "    $'let execute_async x = !execute_async x' : ()\n",
    "    $'let execute_with_options_async x = !execute_with_options_async x' : ()\n",
    "    inl execution_options fn =\n",
    "        execution_options fun x =>\n",
    "            x\n",
    "            |> heap\n",
    "            |> fn\n",
    "            |> fun x => !x\n",
    "    $'let execution_options x = !execution_options x' : ()\n",
    "    inl split_args x = x |> split_args |> resultm.box\n",
    "    $'let split_args x = !split_args x' : ()"
   ]
  }
 ],
 "metadata": {},
 "nbformat": 4,
 "nbformat_minor": 5
}