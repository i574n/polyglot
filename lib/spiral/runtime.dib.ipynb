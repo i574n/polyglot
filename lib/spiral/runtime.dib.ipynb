{
 "cells": [
  {
   "cell_type": "markdown",
   "metadata": {},
   "source": [
    "# runtime"
   ]
  },
  {
   "cell_type": "code",
   "execution_count": null,
   "metadata": {
    "dotnet_interactive": {
     "language": "spiral"
    },
    "polyglot_notebook": {
     "kernelName": "spiral"
    }
   },
   "outputs": [],
   "source": [
    "open rust_operators\n",
    "open sm'_operators"
   ]
  },
  {
   "cell_type": "code",
   "execution_count": null,
   "metadata": {
    "dotnet_interactive": {
     "language": "spiral"
    },
    "polyglot_notebook": {
     "kernelName": "spiral"
    }
   },
   "outputs": [],
   "source": [
    "//// test\n",
    "\n",
    "open testing\n",
    "open file_system_operators"
   ]
  },
  {
   "cell_type": "markdown",
   "metadata": {},
   "source": [
    "## types"
   ]
  },
  {
   "cell_type": "code",
   "execution_count": null,
   "metadata": {
    "dotnet_interactive": {
     "language": "spiral"
    },
    "polyglot_notebook": {
     "kernelName": "spiral"
    }
   },
   "outputs": [],
   "source": [
    "inl types () =\n",
    "    global \"#if FABLE_COMPILER\\n[<Fable.Core.Erase; Fable.Core.Emit(\\\"clap::Arg\\\")>]\\n#endif\\ntype clap_Arg = class end\"\n",
    "    global \"#if FABLE_COMPILER\\n[<Fable.Core.Erase; Fable.Core.Emit(\\\"clap::ArgAction\\\")>]\\n#endif\\ntype clap_ArgAction = class end\"\n",
    "    global \"#if FABLE_COMPILER\\n[<Fable.Core.Erase; Fable.Core.Emit(\\\"clap::Command\\\")>]\\n#endif\\ntype clap_Command = class end\"\n",
    "    global \"#if FABLE_COMPILER\\n[<Fable.Core.Erase; Fable.Core.Emit(\\\"clap::ArgMatches\\\")>]\\n#endif\\ntype clap_ArgMatches = class end\"\n",
    "    global \"#if FABLE_COMPILER\\n[<Fable.Core.Erase; Fable.Core.Emit(\\\"clap::builder::ValueRange\\\")>]\\n#endif\\ntype clap_builder_ValueRange = class end\"\n",
    "    global \"#if FABLE_COMPILER\\n[<Fable.Core.Erase; Fable.Core.Emit(\\\"clap::builder::ValueParser\\\")>]\\n#endif\\ntype clap_builder_ValueParser = class end\"\n",
    "    global \"#if FABLE_COMPILER\\n[<Fable.Core.Erase; Fable.Core.Emit(\\\"clap::builder::PossibleValue\\\")>]\\n#endif\\ntype clap_builder_PossibleValue = class end\"\n",
    "    global \"#if FABLE_COMPILER\\n[<Fable.Core.Erase; Fable.Core.Emit(\\\"std::process::Child\\\")>]\\n#endif\\ntype std_process_Child = class end\"\n",
    "    global \"#if FABLE_COMPILER\\n[<Fable.Core.Erase; Fable.Core.Emit(\\\"std::process::ChildStderr\\\")>]\\n#endif\\ntype std_process_ChildStderr = class end\"\n",
    "    global \"#if FABLE_COMPILER\\n[<Fable.Core.Erase; Fable.Core.Emit(\\\"std::process::ChildStdout\\\")>]\\n#endif\\ntype std_process_ChildStdout = class end\"\n",
    "    global \"#if FABLE_COMPILER\\n[<Fable.Core.Erase; Fable.Core.Emit(\\\"std::process::ChildStdin\\\")>]\\n#endif\\ntype std_process_ChildStdin = class end\"\n",
    "    global \"#if FABLE_COMPILER\\n[<Fable.Core.Erase; Fable.Core.Emit(\\\"std::process::Command\\\")>]\\n#endif\\ntype std_process_Command = class end\"\n",
    "    global \"#if FABLE_COMPILER\\n[<Fable.Core.Erase; Fable.Core.Emit(\\\"std::process::ExitStatus\\\")>]\\n#endif\\ntype std_process_ExitStatus = class end\"\n",
    "    global \"#if FABLE_COMPILER\\n[<Fable.Core.Erase; Fable.Core.Emit(\\\"std::process::Output\\\")>]\\n#endif\\ntype std_process_Output = class end\"\n",
    "    global \"#if FABLE_COMPILER\\n[<Fable.Core.Erase; Fable.Core.Emit(\\\"std::process::Stdio\\\")>]\\n#endif\\ntype std_process_Stdio = class end\""
   ]
  },
  {
   "cell_type": "code",
   "execution_count": null,
   "metadata": {
    "dotnet_interactive": {
     "language": "spiral"
    },
    "polyglot_notebook": {
     "kernelName": "spiral"
    }
   },
   "outputs": [],
   "source": [
    "inl types () =\n",
    "    types ()\n",
    "    am'.types ()\n",
    "    async.types ()\n",
    "    env.types ()\n",
    "    rust.types ()\n",
    "    seq.types ()\n",
    "    sm'.types ()\n",
    "    threading.types ()"
   ]
  },
  {
   "cell_type": "code",
   "execution_count": null,
   "metadata": {
    "dotnet_interactive": {
     "language": "spiral"
    },
    "polyglot_notebook": {
     "kernelName": "spiral"
    }
   },
   "outputs": [],
   "source": [
    "//// test\n",
    "\n",
    "inl types () =\n",
    "    file_system.types ()\n",
    "    types ()"
   ]
  },
  {
   "cell_type": "markdown",
   "metadata": {},
   "source": [
    "## process_child"
   ]
  },
  {
   "cell_type": "code",
   "execution_count": null,
   "metadata": {
    "dotnet_interactive": {
     "language": "spiral"
    },
    "polyglot_notebook": {
     "kernelName": "spiral"
    }
   },
   "outputs": [],
   "source": [
    "nominal process_child = $'std_process_Child'"
   ]
  },
  {
   "cell_type": "markdown",
   "metadata": {},
   "source": [
    "## process_child_stderr"
   ]
  },
  {
   "cell_type": "code",
   "execution_count": null,
   "metadata": {
    "dotnet_interactive": {
     "language": "spiral"
    },
    "polyglot_notebook": {
     "kernelName": "spiral"
    }
   },
   "outputs": [],
   "source": [
    "nominal process_child_stderr = $\"std_process_ChildStderr\"\n",
    "\n",
    "inl process_child_stderr (child : rust.ref' (rust.mut' process_child)) : rust.ref' (rust.mut' (optionm'.option' process_child_stderr)) =\n",
    "    !\\\\(child, $'\"&mut $0.stderr\"')"
   ]
  },
  {
   "cell_type": "markdown",
   "metadata": {},
   "source": [
    "## process_child_stdout"
   ]
  },
  {
   "cell_type": "code",
   "execution_count": null,
   "metadata": {
    "dotnet_interactive": {
     "language": "spiral"
    },
    "polyglot_notebook": {
     "kernelName": "spiral"
    }
   },
   "outputs": [],
   "source": [
    "nominal process_child_stdout = $\"std_process_ChildStdout\"\n",
    "\n",
    "inl process_child_stdout (child : rust.ref' (rust.mut' process_child)) : rust.ref' (rust.mut' (optionm'.option' process_child_stdout)) =\n",
    "    !\\\\(child, $'\"&mut $0.stdout\"')"
   ]
  },
  {
   "cell_type": "markdown",
   "metadata": {},
   "source": [
    "## process_child_stdin"
   ]
  },
  {
   "cell_type": "code",
   "execution_count": null,
   "metadata": {
    "dotnet_interactive": {
     "language": "spiral"
    },
    "polyglot_notebook": {
     "kernelName": "spiral"
    }
   },
   "outputs": [],
   "source": [
    "nominal process_child_stdin = $\"std_process_ChildStdin\"\n",
    "\n",
    "inl process_child_stdin (child : rust.ref' (rust.mut' process_child)) : rust.ref' (rust.mut' (optionm'.option' process_child_stdin)) =\n",
    "    !\\\\(child, $'\"&mut $0.stdin\"')"
   ]
  },
  {
   "cell_type": "markdown",
   "metadata": {},
   "source": [
    "## process_command"
   ]
  },
  {
   "cell_type": "code",
   "execution_count": null,
   "metadata": {
    "dotnet_interactive": {
     "language": "spiral"
    },
    "polyglot_notebook": {
     "kernelName": "spiral"
    }
   },
   "outputs": [],
   "source": [
    "nominal process_command = $'std_process_Command'"
   ]
  },
  {
   "cell_type": "markdown",
   "metadata": {},
   "source": [
    "## process_stdio"
   ]
  },
  {
   "cell_type": "code",
   "execution_count": null,
   "metadata": {
    "dotnet_interactive": {
     "language": "spiral"
    },
    "polyglot_notebook": {
     "kernelName": "spiral"
    }
   },
   "outputs": [],
   "source": [
    "nominal process_stdio = $'std_process_Stdio'"
   ]
  },
  {
   "cell_type": "markdown",
   "metadata": {},
   "source": [
    "## process_output"
   ]
  },
  {
   "cell_type": "code",
   "execution_count": null,
   "metadata": {
    "dotnet_interactive": {
     "language": "spiral"
    },
    "polyglot_notebook": {
     "kernelName": "spiral"
    }
   },
   "outputs": [],
   "source": [
    "nominal process_output = $'std_process_Output'"
   ]
  },
  {
   "cell_type": "markdown",
   "metadata": {},
   "source": [
    "## process_exit_status"
   ]
  },
  {
   "cell_type": "code",
   "execution_count": null,
   "metadata": {
    "dotnet_interactive": {
     "language": "spiral"
    },
    "polyglot_notebook": {
     "kernelName": "spiral"
    }
   },
   "outputs": [],
   "source": [
    "nominal process_exit_status = $'std_process_ExitStatus'"
   ]
  },
  {
   "cell_type": "markdown",
   "metadata": {},
   "source": [
    "## process_output_status"
   ]
  },
  {
   "cell_type": "code",
   "execution_count": null,
   "metadata": {
    "dotnet_interactive": {
     "language": "spiral"
    },
    "polyglot_notebook": {
     "kernelName": "spiral"
    }
   },
   "outputs": [],
   "source": [
    "inl process_output_status (output : process_output) : process_exit_status =\n",
    "    !\\\\(output, $'\"$0.status\"')"
   ]
  },
  {
   "cell_type": "markdown",
   "metadata": {},
   "source": [
    "## process_exit_status_code"
   ]
  },
  {
   "cell_type": "code",
   "execution_count": null,
   "metadata": {
    "dotnet_interactive": {
     "language": "spiral"
    },
    "polyglot_notebook": {
     "kernelName": "spiral"
    }
   },
   "outputs": [],
   "source": [
    "inl process_exit_status_code (status : process_exit_status) : optionm'.option' i32 =\n",
    "    !\\\\(status, $'\"$0.code()\"')"
   ]
  },
  {
   "cell_type": "markdown",
   "metadata": {},
   "source": [
    "## os_platform"
   ]
  },
  {
   "cell_type": "code",
   "execution_count": null,
   "metadata": {
    "dotnet_interactive": {
     "language": "spiral"
    },
    "polyglot_notebook": {
     "kernelName": "spiral"
    }
   },
   "outputs": [],
   "source": [
    "nominal os_platform' = $'System.Runtime.InteropServices.OSPlatform'\n",
    "\n",
    "union os_platform =\n",
    "    | Windows\n",
    "\n",
    "inl os_platform = function\n",
    "    | Windows => $'`os_platform'.Windows' : os_platform'"
   ]
  },
  {
   "cell_type": "markdown",
   "metadata": {},
   "source": [
    "## is_os_platform"
   ]
  },
  {
   "cell_type": "code",
   "execution_count": null,
   "metadata": {
    "dotnet_interactive": {
     "language": "spiral"
    },
    "polyglot_notebook": {
     "kernelName": "spiral"
    }
   },
   "outputs": [],
   "source": [
    "inl is_os_platform (x : os_platform') : bool =\n",
    "    x |> $'System.Runtime.InteropServices.RuntimeInformation.IsOSPlatform'"
   ]
  },
  {
   "cell_type": "markdown",
   "metadata": {},
   "source": [
    "## is_windows"
   ]
  },
  {
   "cell_type": "code",
   "execution_count": null,
   "metadata": {
    "dotnet_interactive": {
     "language": "spiral"
    },
    "polyglot_notebook": {
     "kernelName": "spiral"
    }
   },
   "outputs": [],
   "source": [
    "inl is_windows () : bool =\n",
    "    run_target function\n",
    "        | Fsharp (Native) => fun () =>\n",
    "            Windows |> os_platform |> is_os_platform\n",
    "        | Rust (Native) => fun () =>\n",
    "            !\\($'\"cfg\\!(windows)\"')\n",
    "        | _ => fun () => null ()"
   ]
  },
  {
   "cell_type": "markdown",
   "metadata": {},
   "source": [
    "## get_executable_suffix"
   ]
  },
  {
   "cell_type": "code",
   "execution_count": null,
   "metadata": {
    "dotnet_interactive": {
     "language": "spiral"
    },
    "polyglot_notebook": {
     "kernelName": "spiral"
    }
   },
   "outputs": [],
   "source": [
    "inl get_executable_suffix () =\n",
    "    if is_windows ()\n",
    "    then \".exe\"\n",
    "    else \"\""
   ]
  },
  {
   "cell_type": "code",
   "execution_count": null,
   "metadata": {
    "dotnet_interactive": {
     "language": "spiral"
    },
    "polyglot_notebook": {
     "kernelName": "spiral"
    }
   },
   "outputs": [
    {
     "data": {
      "text/plain": []
     },
     "metadata": {},
     "output_type": "display_data"
    }
   ],
   "source": [
    "//// test\n",
    "\n",
    "get_executable_suffix ()"
   ]
  },
  {
   "cell_type": "markdown",
   "metadata": {},
   "source": [
    "## quoted"
   ]
  },
  {
   "cell_type": "code",
   "execution_count": null,
   "metadata": {
    "dotnet_interactive": {
     "language": "spiral"
    },
    "polyglot_notebook": {
     "kernelName": "spiral"
    }
   },
   "outputs": [],
   "source": [
    "union quoted =\n",
    "    | Quoted\n",
    "    | NotQuoted"
   ]
  },
  {
   "cell_type": "markdown",
   "metadata": {},
   "source": [
    "## split_command"
   ]
  },
  {
   "cell_type": "code",
   "execution_count": null,
   "metadata": {
    "dotnet_interactive": {
     "language": "spiral"
    },
    "polyglot_notebook": {
     "kernelName": "spiral"
    }
   },
   "outputs": [],
   "source": [
    "union command_parse_step =\n",
    "    | Start\n",
    "    | Path : quoted\n",
    "    | Arguments\n",
    "\n",
    "inl split_command (command : string) =\n",
    "    let rec loop (path, args) (chars : list char) step =\n",
    "        match step, chars with\n",
    "        | _, (('\"' | '\\'') :: tail) when path = \"\" => loop (path, args) tail (Path Quoted)\n",
    "        | Path (Quoted), (('\"' | '\\'') :: tail) => loop (path, args) tail (Path NotQuoted)\n",
    "        | Path (Quoted), (' ' :: tail) => loop ($'$\"{!path} \"', args) tail (Path Quoted)\n",
    "        | (Start | Path _), (' ' :: tail) => loop (path, args) tail Arguments\n",
    "        | Arguments, (char :: tail) => loop (path, $'$\"{!args}{!char}\"') tail Arguments\n",
    "        | _, (char :: tail) => loop ($'$\"{!path}{!char}\"', args) tail step\n",
    "        | _ => path |> sm'.replace @\"\\\" \"/\", args\n",
    "    loop (join \"\", \"\") (command |> sm'.to_char_array |> am'.to_list' |> listm'.unbox) Start"
   ]
  },
  {
   "cell_type": "code",
   "execution_count": null,
   "metadata": {
    "dotnet_interactive": {
     "language": "spiral"
    },
    "polyglot_notebook": {
     "kernelName": "spiral"
    }
   },
   "outputs": [
    {
     "name": "stdout",
     "output_type": "stream",
     "text": [
      "assert_eq / actual: struct (\"\", \"\") / expected: struct (\"\", \"\")\n",
      "assert_eq / actual: struct (\"/a/b/c\", \"\") / expected: struct (\"/a/b/c\", \"\")\n",
      "assert_eq / actual: struct (\"cat\", \"file.txt\") / expected: struct (\"cat\", \"file.txt\")\n",
      "assert_eq / actual: struct (\"../../file.exe\", \"file1.txt file2.txt\") / expected: struct (\"../../file.exe\", \"file1.txt file2.txt\")\n",
      "assert_eq / actual: struct (\"c:/dir/file.exe\", \"\"file1.txt file2.txt\"\") / expected: struct (\"c:/dir/file.exe\", \"\"file1.txt file2.txt\"\")\n",
      "assert_eq / actual: struct (\"../../dir name/file.exe\", \"\"file 1.txt\" file2.txt\") / expected: struct (\"../../dir name/file.exe\", \"\"file 1.txt\" file2.txt\")\n",
      "assert_eq / actual: struct (\"../../file 1.exe\", \"-c \\\\\"echo 1\\\\\"\") / expected: struct (\"../../file 1.exe\", \"-c \\\\\"echo 1\\\\\"\")\n",
      "assert_eq / actual: struct (\"../../file\", \"1.exe -c \\\\\"echo 1\\\\\"\") / expected: struct (\"../../file\", \"1.exe -c \\\\\"echo 1\\\\\"\")\n"
     ]
    }
   ],
   "source": [
    "//// test\n",
    "\n",
    "split_command \"\"\n",
    "|> _assert_eq (\"\", \"\")\n",
    "\n",
    "split_command \"/a/b/c\"\n",
    "|> _assert_eq (\"/a/b/c\", \"\")\n",
    "\n",
    "split_command \"cat file.txt\"\n",
    "|> _assert_eq (\"cat\", \"file.txt\")\n",
    "\n",
    "split_command $'\"\"\"..\\\\..\\\\file.exe file1.txt file2.txt\"\"\"'\n",
    "|> _assert_eq (\"../../file.exe\", \"file1.txt file2.txt\")\n",
    "\n",
    "split_command $'\\@\"c:\\\\dir\\\\file.exe \"\"file1.txt file2.txt\"\"\"'\n",
    "|> _assert_eq (\"c:/dir/file.exe\", $'\\@\"\"\"file1.txt file2.txt\"\"\"')\n",
    "\n",
    "split_command $'\\@\"\"\"..\\\\..\\\\dir name\\\\file.exe\"\" \"\"file 1.txt\"\" file2.txt\"'\n",
    "|> _assert_eq (\"../../dir name/file.exe\", $'\\@\"\"\"file 1.txt\"\" file2.txt\"')\n",
    "\n",
    "split_command $'\\@\"\"\"..\\\\..\\\\file 1.exe\"\" -c \\\\\\\\\"\"echo 1\\\\\\\\\"\"\"'\n",
    "|> _assert_eq (\"../../file 1.exe\", $'\\@\"-c \\\\\\\\\"\"echo 1\\\\\\\\\"\"\"')\n",
    "\n",
    "split_command $'\\@\"..\\\\..\\\\file 1.exe -c \\\\\\\\\"\"echo 1\\\\\\\\\"\"\"'\n",
    "|> _assert_eq (\"../../file\", $'\\@\"1.exe -c \\\\\\\\\"\"echo 1\\\\\\\\\"\"\"')"
   ]
  },
  {
   "cell_type": "markdown",
   "metadata": {},
   "source": [
    "## process"
   ]
  },
  {
   "cell_type": "code",
   "execution_count": null,
   "metadata": {
    "dotnet_interactive": {
     "language": "spiral"
    },
    "polyglot_notebook": {
     "kernelName": "spiral"
    }
   },
   "outputs": [],
   "source": [
    "nominal process = $'System.Diagnostics.Process'\n",
    "nominal process_start_info = $'System.Diagnostics.ProcessStartInfo'\n",
    "nominal data_received_event_args = $'System.Diagnostics.DataReceivedEventArgs'\n",
    "\n",
    "inl new_process (process_start_info : process_start_info) : process =\n",
    "    $'new `process (StartInfo = !process_start_info)'\n",
    "\n",
    "inl process_start (process : process) : bool =\n",
    "    $'!process.Start' ()\n",
    "\n",
    "inl process_exit_code (process : process) : i32 =\n",
    "    $'!process.ExitCode'\n",
    "\n",
    "inl process_id (process : process) : i32 =\n",
    "    $'!process.Id'\n",
    "\n",
    "inl process_has_exited (process : process) : bool =\n",
    "    run_target function\n",
    "        | Fsharp (Native) => fun () =>\n",
    "            $'!process.HasExited'\n",
    "        | _ => fun () => null ()\n",
    "\n",
    "inl process_kill (process : process) : () =\n",
    "    run_target function\n",
    "        | Fsharp (Native) => fun () =>\n",
    "            $'!process.Kill' ()\n",
    "        | _ => fun () => null ()\n",
    "\n",
    "inl process_begin_error_read_line (process : process) : () =\n",
    "    $'!process.BeginErrorReadLine' ()\n",
    "\n",
    "inl process_begin_output_read_line (process : process) : () =\n",
    "    $'!process.BeginOutputReadLine' ()\n",
    "\n",
    "inl process_add_output_data_received fn (process : process) : () =\n",
    "    $'!process.OutputDataReceived.Add !fn '\n",
    "\n",
    "inl process_add_error_data_received fn (process : process) : () =\n",
    "    $'!process.ErrorDataReceived.Add !fn '\n",
    "\n",
    "inl process_wait_for_exit_async (ct : threading.cancellation_token) (process : process) : async.task () =\n",
    "    $'!process.WaitForExitAsync !ct '\n",
    "\n",
    "inl event_data (e : data_received_event_args) : string =\n",
    "    $'!e.Data'"
   ]
  },
  {
   "cell_type": "markdown",
   "metadata": {},
   "source": [
    "## execution_line"
   ]
  },
  {
   "cell_type": "code",
   "execution_count": null,
   "metadata": {
    "dotnet_interactive": {
     "language": "spiral"
    },
    "polyglot_notebook": {
     "kernelName": "spiral"
    }
   },
   "outputs": [],
   "source": [
    "type execution_line =\n",
    "    {\n",
    "        process_id : int\n",
    "        line : string\n",
    "        error : bool\n",
    "    }"
   ]
  },
  {
   "cell_type": "markdown",
   "metadata": {},
   "source": [
    "## execution_options"
   ]
  },
  {
   "cell_type": "code",
   "execution_count": null,
   "metadata": {
    "dotnet_interactive": {
     "language": "spiral"
    },
    "polyglot_notebook": {
     "kernelName": "spiral"
    }
   },
   "outputs": [],
   "source": [
    "type execution_options =\n",
    "    {\n",
    "        command : string\n",
    "        cancellation_token : optionm'.option' threading.cancellation_token\n",
    "        environment_variables : array_base (string * string)\n",
    "        on_line : optionm'.option' (execution_line -> async.async ())\n",
    "        stdin : optionm'.option' (threading.arc (threading.mutex process_child_stdin) -> ())\n",
    "        trace : bool\n",
    "        working_directory : optionm'.option' string\n",
    "    }\n",
    "\n",
    "inl execution_options (fn : execution_options -> execution_options) : execution_options =\n",
    "    {\n",
    "        command = \"\"\n",
    "        cancellation_token = None |> optionm'.box\n",
    "        environment_variables = ;[]\n",
    "        on_line = None |> optionm'.box\n",
    "        stdin = None |> optionm'.box\n",
    "        trace = true\n",
    "        working_directory = None |> optionm'.box\n",
    "    }\n",
    "    |> fn"
   ]
  },
  {
   "cell_type": "markdown",
   "metadata": {},
   "source": [
    "## execute_with_options_async"
   ]
  },
  {
   "cell_type": "code",
   "execution_count": null,
   "metadata": {
    "dotnet_interactive": {
     "language": "spiral"
    },
    "polyglot_notebook": {
     "kernelName": "spiral"
    }
   },
   "outputs": [],
   "source": [
    "let execute_with_options_async (options : execution_options) : _ (i32 * string) =\n",
    "    run_target function\n",
    "        | Fsharp (Native) => fun () =>\n",
    "            fun () =>\n",
    "                inl file_name, arguments = options.command |> split_command\n",
    "                inl working_directory = options.working_directory |> optionm'.unbox |> optionm'.default_value \"\"\n",
    "\n",
    "                trace Debug (fun () => $'$\"execute_with_options_async / options: %A{!options}\"') (join _locals)\n",
    "\n",
    "                inl utf8 = sm'.encoding_utf8 ()\n",
    "                inl start_info : process_start_info = $'System.Diagnostics.ProcessStartInfo (Arguments = !arguments, StandardOutputEncoding = !utf8, WorkingDirectory = !working_directory, FileName = !file_name, CreateNoWindow = true, RedirectStandardError = true, RedirectStandardOutput = true, UseShellExecute = false)'\n",
    "\n",
    "                (a options.environment_variables : _ i32 _)\n",
    "                |> am.iter fun key, value =>\n",
    "                    $'!start_info.EnvironmentVariables.[!key] <- !value '\n",
    "\n",
    "                inl proc = start_info |> new_process |> use\n",
    "                inl output : _ string = threading.new_concurrent_stack ()\n",
    "\n",
    "                inl event error (e : data_received_event_args) = async.new_async fun () =>\n",
    "                    inl data = e |> event_data\n",
    "                    if data <> null () then\n",
    "                        match options.on_line |> optionm'.unbox with\n",
    "                        | Some on_line =>\n",
    "                            on_line\n",
    "                                {\n",
    "                                    process_id = proc |> process_id\n",
    "                                    line = data\n",
    "                                    error = error\n",
    "                                }\n",
    "                            |> async.do\n",
    "                        | None => ()\n",
    "\n",
    "                        inl text =\n",
    "                            if error\n",
    "                            then $'$\"\\! {!data}\"'\n",
    "                            else $'$\"> {!data}\"'\n",
    "                        if options.trace\n",
    "                        then trace Verbose (fun () => text) _locals\n",
    "                        else text |> console.write_line\n",
    "\n",
    "                        inl l = if error then $'\"\\\\u001b[7;4m\"' else \"\"\n",
    "                        inl r = if error then $'\"\\\\u001b[0m\"' else \"\"\n",
    "                        output |> threading.concurrent_stack_push $'$\"{!l}{!data}{!r}\"'\n",
    "\n",
    "                proc |> process_add_output_data_received (event false >> async.start_immediate)\n",
    "                proc |> process_add_error_data_received (event true >> async.start_immediate)\n",
    "\n",
    "                if proc |> process_start |> not\n",
    "                then failwith $'$\"execute_with_options_async / process_start error\"'\n",
    "\n",
    "                proc |> process_begin_error_read_line\n",
    "                proc |> process_begin_output_read_line\n",
    "\n",
    "                inl ct =\n",
    "                    options.cancellation_token\n",
    "                    |> optionm'.unbox\n",
    "                    |> optionm'.default_with threading.token_none\n",
    "                    |> async.merge_cancellation_token_with_default_async\n",
    "                    |> async.let'\n",
    "\n",
    "                ct |> threading.token_register fun () =>\n",
    "                    if proc |> process_has_exited |> not\n",
    "                    then proc |> process_kill\n",
    "                |> use\n",
    "                |> ignore\n",
    "\n",
    "                inl exit_code : i32 =\n",
    "                    fun () =>\n",
    "                        try_unit\n",
    "                            fun () =>\n",
    "                                proc\n",
    "                                |> process_wait_for_exit_async ct\n",
    "                                |> async.await_task\n",
    "                                |> async.do\n",
    "                                proc |> process_exit_code |> return\n",
    "                            fun ex =>\n",
    "                                // with :? System.Threading.Tasks.TaskCanceledException as ex =>\n",
    "                                inl ex' = ex |> sm'.format_exception\n",
    "                                output |> threading.concurrent_stack_push ex'\n",
    "                                inl ex : async.task_canceled_exception = ex |> unbox\n",
    "                                trace Warning (fun () => $'$\"execute_with_options_async / WaitForExitAsync / ex: %A{!ex}\"') (join _locals)\n",
    "                                (limit.min : i32) |> return\n",
    "                    |> async.new_async_unit\n",
    "                    |> async.let'\n",
    "\n",
    "                inl output =\n",
    "                    output\n",
    "                    |> seq.rev''\n",
    "                    |> fun x => x : seq.seq' string\n",
    "                    |> sm'.concat \"\\n\"\n",
    "\n",
    "                trace Debug (fun () =>\n",
    "                    $'$\"execute_with_options_async / exit_code: {!exit_code} / output.Length: {!output.Length}\"'\n",
    "                ) (join _locals)\n",
    "\n",
    "                (exit_code, output) |> return\n",
    "            |> async.new_async_unit\n",
    "        | _ => fun () =>\n",
    "            global \"#if FABLE_COMPILER\\n[<CompilationRepresentation (CompilationRepresentationFlags.ModuleSuffix)>]\\nmodule System =\\n module Diagnostics =\\n  type Process = unit\\n  type DataReceivedEventArgs = unit\\n#endif\"\n",
    "            null ()"
   ]
  },
  {
   "cell_type": "markdown",
   "metadata": {},
   "source": [
    "## execute_async"
   ]
  },
  {
   "cell_type": "code",
   "execution_count": null,
   "metadata": {
    "dotnet_interactive": {
     "language": "spiral"
    },
    "polyglot_notebook": {
     "kernelName": "spiral"
    }
   },
   "outputs": [],
   "source": [
    "inl execute_async command =\n",
    "    execution_options fun x => { x with\n",
    "        command = command\n",
    "    }\n",
    "    |> execute_with_options_async"
   ]
  },
  {
   "cell_type": "code",
   "execution_count": null,
   "metadata": {
    "dotnet_interactive": {
     "language": "spiral"
    },
    "polyglot_notebook": {
     "kernelName": "spiral"
    }
   },
   "outputs": [
    {
     "name": "stdout",
     "output_type": "stream",
     "text": [
      "00:00:00   debug #1 execute_with_options_async / options: struct (None,\n",
      "        \"pwsh -c \"Get-Content /tmp/!dotnet-repl/20240520-1342-3365-6577-60000003f314/test.txt\"\",\n",
      "        [||], None, None, true, None)\n",
      "00:00:00 verbose #2 ! \u001B[31;1mGet-Content: \u001B[31;1mCannot find path '/tmp/!dotnet-repl/20240520-1342-3365-6577-60000003f314/test.txt' because it does not exist.\u001B[0m\n",
      "00:00:00   debug #3 execute_with_options_async / exit_code: 1 / output.Length: 150\n",
      "assert_eq / actual: 1 / expected: 1\n",
      "assert_string_contains / actual: \"not exist\" / expected: \"\u001B[7;4m\u001B[31;1mGet-Content: \u001B[31;1mCannot find path '/tmp/!dotnet-repl/20240520-1342-3365-6577-60000003f314/test.txt' because it does not exist.\u001B[0m\u001B[0m\"\n",
      "00:00:00   debug #4 execute_with_options_async / options: struct (None, \"cat \"test.txt\"\", [||], None, None, true,\n",
      "        Some \"/tmp/!dotnet-repl/20240520-1342-3365-6577-60000003f314\")\n",
      "00:00:00 verbose #5 > ╭─[ 你好，世界！こんにちは世界！ ]─╮\n",
      "00:00:00   debug #6 execute_with_options_async / exit_code: 0 / output.Length: 22\n",
      "00:00:00   debug #7 execute_with_options_async / options: struct (None,\n",
      "        \"pwsh -c \"[System.Console]::OutputEncoding = [System.Text.Encoding]::UTF8; Get-Content test.txt\"\",\n",
      "        [||], None, None, true,\n",
      "        Some \"/tmp/!dotnet-repl/20240520-1342-3365-6577-60000003f314\")\n",
      "00:00:00 verbose #8 > ╭─[ 你好，世界！こんにちは世界！ ]─╮\n",
      "00:00:00   debug #9 execute_with_options_async / exit_code: 0 / output.Length: 22\n",
      "assert_eq / actual: 0 / expected: 0\n",
      "assert_eq / actual: \"╭─[ 你好，世界！こんにちは世界！ ]─╮\" / expected: \"╭─[ 你好，世界！こんにちは世界！ ]─╮\"\n",
      "assert_eq / actual: true / expected: true\n"
     ]
    }
   ],
   "source": [
    "//// test\n",
    "\n",
    "types ()\n",
    "inl temp_folder, disposable = file_system.create_temp_directory ()\n",
    "disposable |> use |> ignore\n",
    "inl file_name = \"test.txt\"\n",
    "inl path = temp_folder </> file_name\n",
    "\n",
    "inl content = \"╭─[ 你好，世界！こんにちは世界！ ]─╮\"\n",
    "fun () =>\n",
    "    inl exit_code, result = execute_async $'\\@$\"pwsh -c \"\"Get-Content {!path}\"\"\"' |> async.let'\n",
    "    exit_code |> join _assert_eq 1\n",
    "    result |> _assert_string_contains \"not exist\"\n",
    "\n",
    "    content |> file_system.write_all_text_async path |> async.do\n",
    "\n",
    "    execution_options fun x => { x with\n",
    "        command = $'\\@$\"cat \"\"{!file_name}\"\"\"'\n",
    "        working_directory = Some temp_folder |> optionm'.box\n",
    "    }\n",
    "    |> execute_with_options_async\n",
    "    |> async.let'\n",
    "    |> ignore\n",
    "\n",
    "    execution_options fun x => { x with\n",
    "        command = $'\\@$\"pwsh -c \"\"[System.Console]::OutputEncoding = [System.Text.Encoding]::UTF8; Get-Content {!file_name}\"\"\"'\n",
    "        working_directory = Some temp_folder |> optionm'.box\n",
    "    }\n",
    "    |> execute_with_options_async\n",
    "    |> async.return_await\n",
    "|> async.new_async_unit\n",
    "|> async.run_with_timeout 10000\n",
    "|> function\n",
    "    | Some (exit_code, output) =>\n",
    "        exit_code |> join _assert_eq 0i32\n",
    "        output |> join _assert_eq content\n",
    "        true\n",
    "    | _ => false\n",
    "|> _assert_eq true"
   ]
  },
  {
   "cell_type": "code",
   "execution_count": null,
   "metadata": {
    "dotnet_interactive": {
     "language": "spiral"
    },
    "polyglot_notebook": {
     "kernelName": "spiral"
    }
   },
   "outputs": [
    {
     "name": "stdout",
     "output_type": "stream",
     "text": [
      "00:00:00   debug #1 1\n",
      "00:00:00   debug #2 2\n",
      "00:00:00   debug #3 execute_with_options_async / options: struct (Some System.Threading.CancellationToken,\n",
      "        \"pwsh -c \"Get-Content /tmp/!dotnet-repl/20240520-1342-3571-7115-70000032b7d9/test.txt\"\",\n",
      "        [||], None, None, true, None)\n",
      "00:00:00   debug #4 3\n",
      "00:00:00   debug #5 4\n",
      "00:00:00 warning #6 execute_with_options_async / WaitForExitAsync / ex: System.Threading.Tasks.TaskCanceledException: A task was canceled.\n",
      "00:00:00   debug #7 execute_with_options_async / exit_code: -2147483648 / output.Length: 66\n",
      "00:00:00   debug #8 5\n",
      "assert_eq / actual: -2147483648 / expected: -2147483648\n",
      "assert_eq / actual: \"System.Threading.Tasks.TaskCanceledException: A task was canceled.\" / expected: \"System.Threading.Tasks.TaskCanceledException: A task was canceled.\"\n",
      "assert_eq / actual: true / expected: true\n"
     ]
    }
   ],
   "source": [
    "//// test\n",
    "\n",
    "file_system.types ()\n",
    "inl temp_dir, disposable = file_system.create_temp_directory ()\n",
    "disposable |> use |> ignore\n",
    "fun () =>\n",
    "    inl path = temp_dir </> \"test.txt\"\n",
    "    \"0\" |> file_system.write_all_text_async path |> async.do\n",
    "\n",
    "    inl cts = threading.new_cancellation_token_source ()\n",
    "    trace Debug (fun () => \"1\") _locals\n",
    "    inl result =\n",
    "        execution_options fun x => { x with\n",
    "            command = $'\\@$\"pwsh -c \"\"Get-Content {!path}\"\"\"'\n",
    "            cancellation_token = cts |> threading.cancellation_source_token |> Some |> optionm'.box\n",
    "        }\n",
    "        |> execute_with_options_async\n",
    "        |> async.start_child\n",
    "        |> async.let'\n",
    "    trace Debug (fun () => \"2\") _locals\n",
    "    async.sleep 100 |> async.do\n",
    "    trace Debug (fun () => \"3\") _locals\n",
    "    cts |> threading.cancellation_source_cancel\n",
    "    trace Debug (fun () => \"4\") _locals\n",
    "    inl exit_code, output = result |> async.let'\n",
    "    trace Debug (fun () => \"5\") _locals\n",
    "    (exit_code, output) |> return\n",
    "|> async.new_async_unit\n",
    "|> async.run_with_timeout 10000\n",
    "|> function\n",
    "    | Some (exit_code, output) =>\n",
    "        exit_code |> _assert_eq -2147483648i32\n",
    "        output |> _assert_eq (join \"System.Threading.Tasks.TaskCanceledException: A task was canceled.\")\n",
    "        true\n",
    "    | _ => false\n",
    "|> _assert_eq true"
   ]
  },
  {
   "cell_type": "markdown",
   "metadata": {},
   "source": [
    "## split_args"
   ]
  },
  {
   "cell_type": "code",
   "execution_count": null,
   "metadata": {
    "dotnet_interactive": {
     "language": "spiral"
    },
    "polyglot_notebook": {
     "kernelName": "spiral"
    }
   },
   "outputs": [],
   "source": [
    "union args_parse_step =\n",
    "    | Start\n",
    "    | Quoted : char\n",
    "    | Escaped : u8 * char\n",
    "\n",
    "let split_args (args : string) : array_base string =\n",
    "    let rec loop (acc, current) (chars : list char) (step, last) =\n",
    "        // trace Verbose (fun () => $'$\"split_args / current: %A{!current} / acc: %A{!acc} / step: %A{!step} / last: %A{!last}\"') _locals\n",
    "        match step, last, chars with\n",
    "        | Start, _, ('\"' :: tail) =>\n",
    "            loop (acc, \"\") tail (Quoted '\"', step)\n",
    "        | Escaped _, _, (('\\\\' | '\\`') & c :: tail) =>\n",
    "            loop (acc, current) tail (Quoted c, step)\n",
    "        | Escaped _, Start, ('\"' :: tail) =>\n",
    "            loop (acc, current) tail (step, step)\n",
    "        | Quoted ('\"'), Quoted _, ('\"' :: tail) =>\n",
    "            loop (acc, current) tail (Start, step)\n",
    "        | Escaped (0, ('\\\\' | '\\`') & c), Quoted ('\"'), (c' :: tail) =>\n",
    "            loop (acc, $'$\"{!current}{!c}{!c'}\"') tail (Quoted '\"', step)\n",
    "        | Quoted (('\\\\' | '\\`') as c), _, ('\"' :: tail)\n",
    "                when last <>. Escaped (0, '\\\\') && last <>. Escaped (0, '\\`') =>\n",
    "            loop (acc, $'$\"{!current}{!c}\\\\\\\"\"') tail (Quoted '\"', step)\n",
    "        | Quoted (('\\\\' | '\\`') as c), Quoted _, ('\"' :: tail) =>\n",
    "            loop (acc, $'$\"{!current}{!c}\\\\\\\"\"') tail (Quoted '\"', step)\n",
    "        | Quoted ('\\\\' | '\\`'), _, ('\"' :: tail) =>\n",
    "            loop (acc, current) tail (Start, step)\n",
    "        | Escaped (n, c), _, ('\"' :: tail) =>\n",
    "            loop (acc, $'$\"{!current}{!c}\\\\\\\"\"') tail (Escaped (n, c), step)\n",
    "        | Quoted _, Quoted _, (('\\\\' | '\\`') & c :: tail) =>\n",
    "            loop (acc, current) tail (Escaped (0, c), step)\n",
    "        | Quoted _, _, (('\\\\' | '\\`') & c :: tail) =>\n",
    "            loop (acc, current) tail (Escaped (1, c), step)\n",
    "        | Quoted _, Escaped (0, _), ('\"' :: tail) =>\n",
    "            loop (acc, $'$\"{!current}\"') tail (Quoted '\"', step)\n",
    "        | Quoted _, _, ('\"' :: tail) =>\n",
    "            loop (acc ++ [ current ], \"\") tail (Start, step)\n",
    "        | (Escaped _ | Quoted _), _, (' ' :: tail) =>\n",
    "            loop (acc, $'$\"{!current} \"') tail (step, step)\n",
    "        | _, _, (('\\\\' | '\\`') & c :: tail) =>\n",
    "            loop (acc, current) tail (Escaped (0, c), step)\n",
    "        | _, _, (' ' :: tail) =>\n",
    "            loop ((if current = \"\" then acc else acc ++ [ current ]), \"\") tail (step, step)\n",
    "        | Escaped (1, _), _, (char :: tail) when last <>. step =>\n",
    "            loop (acc, $'$\"{!current}\\\\{!char}\"') tail (last, step)\n",
    "        | _, _, (char :: tail) =>\n",
    "            loop (acc, $'$\"{!current}{!char}\"') tail (step, step)\n",
    "        | _ =>\n",
    "            (if current = \"\" then acc else acc ++ [ current ]), current\n",
    "    loop\n",
    "        ([], \"\")\n",
    "        (\n",
    "            args\n",
    "            |> optionm'.of_obj\n",
    "            |> optionm'.unbox\n",
    "            |> optionm'.default_value \"\"\n",
    "            |> sm'.to_char_array\n",
    "            |> am'.to_list'\n",
    "            |> listm'.unbox\n",
    "        )\n",
    "        (Start, Start)\n",
    "    |> fst\n",
    "    |> listm'.box\n",
    "    |> listm'.to_array'\n",
    "    |> fun (a x : _ i32 _) => x"
   ]
  },
  {
   "cell_type": "code",
   "execution_count": null,
   "metadata": {
    "dotnet_interactive": {
     "language": "spiral"
    },
    "polyglot_notebook": {
     "kernelName": "spiral"
    }
   },
   "outputs": [
    {
     "name": "stdout",
     "output_type": "stream",
     "text": [
      "assert_eq' / actual: [|\"a\"; \"b\"; \"c d\"; \"e\"|] / expected: [|\"a\"; \"b\"; \"c d\"; \"e\"|]\n"
     ]
    }
   ],
   "source": [
    "//// test\n",
    "\n",
    "\"a b \\\"c d\\\" e\"\n",
    "|> split_args\n",
    "|> _assert_eq' ;[ \"a\"; \"b\"; \"c d\"; \"e\" ]"
   ]
  },
  {
   "cell_type": "code",
   "execution_count": null,
   "metadata": {
    "dotnet_interactive": {
     "language": "spiral"
    },
    "polyglot_notebook": {
     "kernelName": "spiral"
    }
   },
   "outputs": [
    {
     "name": "stdout",
     "output_type": "stream",
     "text": [
      "assert_eq' / actual: [|\"a\"; \"b\"; \"e\"|] / expected: [|\"a\"; \"b\"; \"e\"|]\n"
     ]
    }
   ],
   "source": [
    "//// test\n",
    "\n",
    "\"a b e\"\n",
    "|> split_args\n",
    "|> _assert_eq' ;[ \"a\"; \"b\"; \"e\" ]"
   ]
  },
  {
   "cell_type": "code",
   "execution_count": null,
   "metadata": {
    "dotnet_interactive": {
     "language": "spiral"
    },
    "polyglot_notebook": {
     "kernelName": "spiral"
    }
   },
   "outputs": [
    {
     "name": "stdout",
     "output_type": "stream",
     "text": [
      "assert_eq' / actual: [|\"a b\"; \"e\"; \"f\"|] / expected: [|\"a b\"; \"e\"; \"f\"|]\n"
     ]
    }
   ],
   "source": [
    "//// test\n",
    "\n",
    "\"\\\"a b\\\" \\\"e\\\" \\\"f\\\"\"\n",
    "|> split_args\n",
    "|> _assert_eq' ;[ \"a b\"; \"e\"; \"f\" ]"
   ]
  },
  {
   "cell_type": "code",
   "execution_count": null,
   "metadata": {
    "dotnet_interactive": {
     "language": "spiral"
    },
    "polyglot_notebook": {
     "kernelName": "spiral"
    }
   },
   "outputs": [
    {
     "name": "stdout",
     "output_type": "stream",
     "text": [
      "assert_eq' / actual: [|\"a\"; \"-b\"; \"c \\\"d\\\"\"|] / expected: [|\"a\"; \"-b\"; \"c \\\"d\\\"\"|]\n"
     ]
    }
   ],
   "source": [
    "//// test\n",
    "\n",
    "\"a -b \\\"c \\\\\\\"d\\\\\\\"\\\"\"\n",
    "|> split_args\n",
    "|> _assert_eq' ;[ \"a\"; \"-b\"; \"c \\\\\\\"d\\\\\\\"\" ]"
   ]
  },
  {
   "cell_type": "code",
   "execution_count": null,
   "metadata": {
    "dotnet_interactive": {
     "language": "spiral"
    },
    "polyglot_notebook": {
     "kernelName": "spiral"
    }
   },
   "outputs": [
    {
     "name": "stdout",
     "output_type": "stream",
     "text": [
      "assert_eq' / actual: [|\"a\"; \"-b\"; \"c \\\"d\\\" e\"|] / expected: [|\"a\"; \"-b\"; \"c \\\"d\\\" e\"|]\n"
     ]
    }
   ],
   "source": [
    "//// test\n",
    "\n",
    "\"a -b \\\"c \\\\\\\"d\\\\\\\" e\\\"\"\n",
    "|> split_args\n",
    "|> _assert_eq' ;[ \"a\"; \"-b\"; \"c \\\\\\\"d\\\\\\\" e\" ]"
   ]
  },
  {
   "cell_type": "code",
   "execution_count": null,
   "metadata": {
    "dotnet_interactive": {
     "language": "spiral"
    },
    "polyglot_notebook": {
     "kernelName": "spiral"
    }
   },
   "outputs": [
    {
     "name": "stdout",
     "output_type": "stream",
     "text": [
      "assert_eq' / actual: [|\"a\"; \"-b\"; \"c `\"d`\" e\"|] / expected: [|\"a\"; \"-b\"; \"c `\"d`\" e\"|]\n"
     ]
    }
   ],
   "source": [
    "//// test\n",
    "\n",
    "\"a -b \\\"c \\`\\\"d\\`\\\" e\\\"\"\n",
    "|> split_args\n",
    "|> _assert_eq' ;[ \"a\"; \"-b\"; \"c \\`\\\"d\\`\\\" e\" ]"
   ]
  },
  {
   "cell_type": "code",
   "execution_count": null,
   "metadata": {
    "dotnet_interactive": {
     "language": "spiral"
    },
    "polyglot_notebook": {
     "kernelName": "spiral"
    }
   },
   "outputs": [
    {
     "name": "stdout",
     "output_type": "stream",
     "text": [
      "assert_eq' / actual: [|\"--text\"; \"''' value '''\"|] / expected: [|\"--text\"; \"''' value '''\"|]\n"
     ]
    }
   ],
   "source": [
    "//// test\n",
    "\n",
    "$'$\"--text \\\\\\\\\\\\\"\\'\\'\\' value \\'\\'\\'\\\\\\\\\\\\\" \"'\n",
    "|> split_args\n",
    "|> _assert_eq' ;[ \"--text\"; \"''' value '''\" ]"
   ]
  },
  {
   "cell_type": "code",
   "execution_count": null,
   "metadata": {
    "dotnet_interactive": {
     "language": "spiral"
    },
    "polyglot_notebook": {
     "kernelName": "spiral"
    }
   },
   "outputs": [
    {
     "name": "stdout",
     "output_type": "stream",
     "text": [
      "assert_eq' / actual: [|\"run\"; \"get c:\\test.txt\"|] / expected: [|\"run\"; \"get c:\\test.txt\"|]\n"
     ]
    }
   ],
   "source": [
    "//// test\n",
    "\n",
    "$'\\@$\"run \"\"get c:\\\\test.txt\"\"\"'\n",
    "|> split_args\n",
    "|> _assert_eq' ;[ \"run\"; \"get c:\\\\test.txt\" ]"
   ]
  },
  {
   "cell_type": "code",
   "execution_count": null,
   "metadata": {
    "dotnet_interactive": {
     "language": "spiral"
    },
    "polyglot_notebook": {
     "kernelName": "spiral"
    }
   },
   "outputs": [
    {
     "name": "stdout",
     "output_type": "stream",
     "text": [
      "assert_eq' / actual: [|\"pwsh\"; \"-c\";\n",
      "  \"$x -replace '(id=`\"cell-id=)[a-fA-F0-9]{8}', { `$_[1] + `$counter++ }\"|] / expected: [|\"pwsh\"; \"-c\";\n",
      "  \"$x -replace '(id=`\"cell-id=)[a-fA-F0-9]{8}', { `$_[1] + `$counter++ }\"|]\n"
     ]
    }
   ],
   "source": [
    "//// test\n",
    "\n",
    "\"pwsh -c \\\"$x -replace '(id=`\\\"cell-id=)[a-fA-F0-9]{8}', { `$_[1] + `$counter++ }\\\"\"\n",
    "|> split_args\n",
    "|> _assert_eq' ;[ \"pwsh\"; \"-c\"; \"$x -replace '(id=`\\\"cell-id=)[a-fA-F0-9]{8}', { `$_[1] + `$counter++ }\" ]"
   ]
  },
  {
   "cell_type": "code",
   "execution_count": null,
   "metadata": {
    "dotnet_interactive": {
     "language": "spiral"
    },
    "polyglot_notebook": {
     "kernelName": "spiral"
    }
   },
   "outputs": [
    {
     "name": "stdout",
     "output_type": "stream",
     "text": [
      "assert_eq' / actual: [|\"pwsh\"; \"-c\";\n",
      "  \"$x -replace '(id=\\\"cell-id=)[a-fA-F0-9]{8}', { `$_[1] + `$counter++ }\"|] / expected: [|\"pwsh\"; \"-c\";\n",
      "  \"$x -replace '(id=\\\"cell-id=)[a-fA-F0-9]{8}', { `$_[1] + `$counter++ }\"|]\n"
     ]
    }
   ],
   "source": [
    "//// test\n",
    "\n",
    "$'$\"pwsh -c \\\\\\\"$x -replace \\'(id=\\\\\\\\\\\\\"cell-id=)[a-fA-F0-9]{{8}}\\', {{ \\`$_[1] + \\`$counter++ }}\\\\\\\"\"'\n",
    "|> split_args\n",
    "|> _assert_eq' ;[ \"pwsh\"; \"-c\"; \"$x -replace '(id=\\\\\\\"cell-id=)[a-fA-F0-9]{8}', { `$_[1] + `$counter++ }\" ]"
   ]
  },
  {
   "cell_type": "code",
   "execution_count": null,
   "metadata": {
    "dotnet_interactive": {
     "language": "spiral"
    },
    "polyglot_notebook": {
     "kernelName": "spiral"
    }
   },
   "outputs": [
    {
     "name": "stdout",
     "output_type": "stream",
     "text": [
      "assert_eq' / actual: [|\"a\"; \"--b\"; \"--c\"; \"d\"; \"--e\"; \"c:/f f/test.hangul.md\"; \"--output\";\n",
      "  \"c:/md.pdf\"; \"--set\"; \"tex.template.add\"; \"\\usepackage{cjkutf8-ko}\";\n",
      "  \"rendering.highlight.theme\"; \"Solarized (dark)\"|] / expected: [|\"a\"; \"--b\"; \"--c\"; \"d\"; \"--e\"; \"c:/f f/test.hangul.md\"; \"--output\";\n",
      "  \"c:/md.pdf\"; \"--set\"; \"tex.template.add\"; \"\\usepackage{cjkutf8-ko}\";\n",
      "  \"rendering.highlight.theme\"; \"Solarized (dark)\"|]\n"
     ]
    }
   ],
   "source": [
    "//// test\n",
    "\n",
    "$'$\"a --b --c d --e \\\\\\\"c:/f f/test.hangul.md\\\\\\\" --output \\\\\\\"c:/md.pdf\\\\\\\" --set tex.template.add \\\\\\\"\\\\\\\\usepackage{{cjkutf8-ko}}\\\\\\\" rendering.highlight.theme \\\\\\\"Solarized (dark)\\\\\\\"\"'\n",
    "|> split_args\n",
    "|> _assert_eq' ;[ \"a\"; \"--b\"; \"--c\"; \"d\"; \"--e\"; \"c:/f f/test.hangul.md\"; \"--output\"; \"c:/md.pdf\"; \"--set\"; \"tex.template.add\"; \"\\\\usepackage{cjkutf8-ko}\"; \"rendering.highlight.theme\"; \"Solarized (dark)\" ]"
   ]
  },
  {
   "cell_type": "markdown",
   "metadata": {},
   "source": [
    "## stdin_write_all"
   ]
  },
  {
   "cell_type": "code",
   "execution_count": null,
   "metadata": {
    "dotnet_interactive": {
     "language": "spiral"
    },
    "polyglot_notebook": {
     "kernelName": "spiral"
    }
   },
   "outputs": [],
   "source": [
    "inl stdin_write_all (stdin : threading.mutex_guard process_child_stdin) (text : string) : () =\n",
    "    inl stream = text |> sm'.as_bytes\n",
    "    inl stdin = join stdin\n",
    "    (!\\($'\"true; let mut !stdin = !stdin\"') : bool) |> ignore\n",
    "    (!\\\\(stdin, $'\"true; std::io::Write::write_all(&mut *$0, !stream).unwrap()\"') : bool) |> ignore"
   ]
  },
  {
   "cell_type": "markdown",
   "metadata": {},
   "source": [
    "## stdin_flush"
   ]
  },
  {
   "cell_type": "code",
   "execution_count": null,
   "metadata": {
    "dotnet_interactive": {
     "language": "spiral"
    },
    "polyglot_notebook": {
     "kernelName": "spiral"
    }
   },
   "outputs": [],
   "source": [
    "inl stdin_flush (stdin : threading.mutex_guard process_child_stdin) : () =\n",
    "    inl stdin = join stdin\n",
    "    (!\\($'\"true; let mut !stdin = !stdin\"') : bool) |> ignore\n",
    "    (!\\\\(stdin, $'\"true; std::io::Write::flush(&mut *$0).unwrap()\"') : bool) |> ignore"
   ]
  },
  {
   "cell_type": "markdown",
   "metadata": {},
   "source": [
    "## new_process_command"
   ]
  },
  {
   "cell_type": "code",
   "execution_count": null,
   "metadata": {
    "dotnet_interactive": {
     "language": "spiral"
    },
    "polyglot_notebook": {
     "kernelName": "spiral"
    }
   },
   "outputs": [],
   "source": [
    "inl new_process_command (file_name : string) : process_command =\n",
    "    !\\\\(file_name, $'\"std::process::Command::new(&*$0)\"')"
   ]
  },
  {
   "cell_type": "markdown",
   "metadata": {},
   "source": [
    "## process_stdio_piped"
   ]
  },
  {
   "cell_type": "code",
   "execution_count": null,
   "metadata": {
    "dotnet_interactive": {
     "language": "spiral"
    },
    "polyglot_notebook": {
     "kernelName": "spiral"
    }
   },
   "outputs": [],
   "source": [
    "inl process_stdio_piped () : process_stdio =\n",
    "    !\\($'\"std::process::Stdio::piped()\"')"
   ]
  },
  {
   "cell_type": "markdown",
   "metadata": {},
   "source": [
    "## process_command_args"
   ]
  },
  {
   "cell_type": "code",
   "execution_count": null,
   "metadata": {
    "dotnet_interactive": {
     "language": "spiral"
    },
    "polyglot_notebook": {
     "kernelName": "spiral"
    }
   },
   "outputs": [],
   "source": [
    "inl process_command_args (args : am'.vec sm'.std_string) (c : process_command) : rust.ref' (rust.mut' process_command) =\n",
    "    (!\\($'\"true; let mut !c = !c\"') : bool) |> ignore\n",
    "    !\\\\((c, args), $'\"std::process::Command::args(&mut $0, &*$1)\"')"
   ]
  },
  {
   "cell_type": "markdown",
   "metadata": {},
   "source": [
    "## process_command_stdout"
   ]
  },
  {
   "cell_type": "code",
   "execution_count": null,
   "metadata": {
    "dotnet_interactive": {
     "language": "spiral"
    },
    "polyglot_notebook": {
     "kernelName": "spiral"
    }
   },
   "outputs": [],
   "source": [
    "inl process_command_stdout (stdio : process_stdio) (c : rust.ref' (rust.mut' process_command)) : rust.ref' (rust.mut' process_command) =\n",
    "    !\\\\(c, $'\"std::process::Command::stdout($0, std::process::Stdio::piped())\"')"
   ]
  },
  {
   "cell_type": "markdown",
   "metadata": {},
   "source": [
    "## process_command_stderr"
   ]
  },
  {
   "cell_type": "code",
   "execution_count": null,
   "metadata": {
    "dotnet_interactive": {
     "language": "spiral"
    },
    "polyglot_notebook": {
     "kernelName": "spiral"
    }
   },
   "outputs": [],
   "source": [
    "inl process_command_stderr (stdio : process_stdio) (c : rust.ref' (rust.mut' process_command)) : rust.ref' (rust.mut' process_command) =\n",
    "    !\\\\(c, $'\"std::process::Command::stderr($0, std::process::Stdio::piped())\"')"
   ]
  },
  {
   "cell_type": "markdown",
   "metadata": {},
   "source": [
    "## process_command_stdin"
   ]
  },
  {
   "cell_type": "code",
   "execution_count": null,
   "metadata": {
    "dotnet_interactive": {
     "language": "spiral"
    },
    "polyglot_notebook": {
     "kernelName": "spiral"
    }
   },
   "outputs": [],
   "source": [
    "inl process_command_stdin (stdio : process_stdio) (c : rust.ref' (rust.mut' process_command)) : rust.ref' (rust.mut' process_command) =\n",
    "    !\\\\(c, $'\"std::process::Command::stdin($0, std::process::Stdio::piped())\"')"
   ]
  },
  {
   "cell_type": "markdown",
   "metadata": {},
   "source": [
    "## process_command_current_dir"
   ]
  },
  {
   "cell_type": "code",
   "execution_count": null,
   "metadata": {
    "dotnet_interactive": {
     "language": "spiral"
    },
    "polyglot_notebook": {
     "kernelName": "spiral"
    }
   },
   "outputs": [],
   "source": [
    "inl process_command_current_dir\n",
    "    (dir : string)\n",
    "    (c : rust.ref' (rust.mut' process_command))\n",
    "    : rust.ref' (rust.mut' process_command)\n",
    "    =\n",
    "    !\\\\(dir, $'\"std::process::Command::current_dir(!c, &*$0)\"')"
   ]
  },
  {
   "cell_type": "markdown",
   "metadata": {},
   "source": [
    "## process_command_env"
   ]
  },
  {
   "cell_type": "code",
   "execution_count": null,
   "metadata": {
    "dotnet_interactive": {
     "language": "spiral"
    },
    "polyglot_notebook": {
     "kernelName": "spiral"
    }
   },
   "outputs": [],
   "source": [
    "inl process_command_env\n",
    "    (key : string)\n",
    "    (value : string)\n",
    "    (c : rust.ref' (rust.mut' process_command))\n",
    "    : rust.ref' (rust.mut' process_command)\n",
    "    =\n",
    "    !\\\\((key, value), $'\"std::process::Command::env(!c, &*$0, &*$1)\"')"
   ]
  },
  {
   "cell_type": "markdown",
   "metadata": {},
   "source": [
    "## process_command_spawn"
   ]
  },
  {
   "cell_type": "code",
   "execution_count": null,
   "metadata": {
    "dotnet_interactive": {
     "language": "spiral"
    },
    "polyglot_notebook": {
     "kernelName": "spiral"
    }
   },
   "outputs": [],
   "source": [
    "inl process_command_spawn\n",
    "    (c : rust.ref' (rust.mut' process_command))\n",
    "    : resultm.result' process_child stream.io_error\n",
    "    =\n",
    "    !\\\\(c, $'\"std::process::Command::spawn($0)\"')"
   ]
  },
  {
   "cell_type": "markdown",
   "metadata": {},
   "source": [
    "## child_wait_with_output"
   ]
  },
  {
   "cell_type": "code",
   "execution_count": null,
   "metadata": {
    "dotnet_interactive": {
     "language": "spiral"
    },
    "polyglot_notebook": {
     "kernelName": "spiral"
    }
   },
   "outputs": [],
   "source": [
    "inl child_wait_with_output\n",
    "    (child : process_child)\n",
    "    : resultm.result' process_output stream.io_error\n",
    "    =\n",
    "    !\\\\(child, $'\"$0.wait_with_output()\"')"
   ]
  },
  {
   "cell_type": "markdown",
   "metadata": {},
   "source": [
    "## stdio_line"
   ]
  },
  {
   "cell_type": "code",
   "execution_count": null,
   "metadata": {
    "dotnet_interactive": {
     "language": "spiral"
    },
    "polyglot_notebook": {
     "kernelName": "spiral"
    }
   },
   "outputs": [],
   "source": [
    "inl stdio_line\n",
    "    (stdio : result () ())\n",
    "    (trace' : bool)\n",
    "    (channel_sender : threading.arc (threading.mutex (threading.channel_sender sm'.std_string)))\n",
    "    (line : resultm.result' sm'.std_string stream.io_error)\n",
    "    : resultm.result' () sm'.std_string\n",
    "    =\n",
    "    inl highlight text =\n",
    "        $'$\"\\\\u001b[4;7m{!text}\\\\u001b[0m\"'\n",
    "    inl line =\n",
    "        match\n",
    "            line\n",
    "            |> resultm.map_error' sm'.format'\n",
    "            |> resultm.unbox'\n",
    "        with\n",
    "        | Ok line =>\n",
    "            inl line =\n",
    "                line\n",
    "                |> sm'.from_std_string\n",
    "                // |> sm'.as_bytes\n",
    "                // |> am'.slice_to_vec\n",
    "                |> sm'.encoding_encode' (sm'.encoding_utf8' ())\n",
    "                |> rust.cow_as_ref\n",
    "                |> sm'.str_from_utf8\n",
    "                // |> sm'.utf8_decode\n",
    "                |> resultm.unwrap'\n",
    "                |> sm'.ref_to_std_string\n",
    "                // String::from_utf8_lossy(line.as_bytes()).into()\n",
    "            inl line_log = line |> sm'.from_std_string\n",
    "            inl text =\n",
    "                match stdio with\n",
    "                | Ok () => $'$\"> {!line_log}\"'\n",
    "                | Error () => $'$\"\\! {!line_log}\"'\n",
    "            if trace'\n",
    "            then trace Verbose (fun () => text) _locals\n",
    "            else text |> console.write_line\n",
    "            match stdio with\n",
    "            | Ok () => line\n",
    "            | Error () => line |> highlight |> sm'.to_std_string\n",
    "        | Error e =>\n",
    "            trace Critical\n",
    "                fun () => $'$\"runtime.stdio_line\"'\n",
    "                fun () => $'$\"e: {!e} / {!_locals ()}\"'\n",
    "            e |> highlight |> sm'.to_std_string\n",
    "    channel_sender\n",
    "    |> threading.arc_mutex_lock\n",
    "    |> resultm.unwrap'\n",
    "    |> threading.mutex_guard_ref\n",
    "    |> threading.channel_send line\n",
    "    |> resultm.map_error' sm'.format'"
   ]
  },
  {
   "cell_type": "markdown",
   "metadata": {},
   "source": [
    "## execute_with_options"
   ]
  },
  {
   "cell_type": "code",
   "execution_count": null,
   "metadata": {
    "dotnet_interactive": {
     "language": "spiral"
    },
    "polyglot_notebook": {
     "kernelName": "spiral"
    }
   },
   "outputs": [],
   "source": [
    "let execute_with_options (options : execution_options) : i32 * string =\n",
    "    run_target function\n",
    "        | Fsharp (Native) => fun () =>\n",
    "            options |> execute_with_options_async |> async.run_synchronously\n",
    "        | Rust (Native) => fun () =>\n",
    "            inl command = join options.command\n",
    "            inl file_name, arguments = command |> split_command\n",
    "            inl arguments =\n",
    "                arguments\n",
    "                |> split_args\n",
    "                |> am'.to_vec\n",
    "                |> am'.vec_map sm'.to_std_string\n",
    "\n",
    "            trace Debug\n",
    "                fun () => $'$\"runtime.execute_with_options\"'\n",
    "                fun () => $'$\"file_name: {!file_name} / arguments: %A{!arguments} / options: %A{!options} / {!_locals ()}\"'\n",
    "\n",
    "            fun () =>\n",
    "                fun () =>\n",
    "                    file_name\n",
    "                    |> new_process_command\n",
    "                    |> process_command_args arguments\n",
    "                    |> process_command_stdout (process_stdio_piped ())\n",
    "                    |> process_command_stderr (process_stdio_piped ())\n",
    "                    |> process_command_stdin (process_stdio_piped ())\n",
    "                    |> fun command =>\n",
    "                        match options.working_directory |> optionm'.unbox with\n",
    "                        | Some working_directory => command |> process_command_current_dir working_directory\n",
    "                        | None => command\n",
    "                    |> fun command =>\n",
    "                        match options.environment_variables with\n",
    "                        | ;[] => command\n",
    "                        | vars =>\n",
    "                            (command, vars |> am'.to_vec)\n",
    "                            ||> am'.vec_fold' fun command (key, value) =>\n",
    "                                command |> process_command_env key value\n",
    "                    |> process_command_spawn\n",
    "                    |> resultm.map_error' sm'.format'\n",
    "                    |> resultm.map' (optionm'.some' >> threading.new_arc_mutex)\n",
    "                    |> resultm.unbox'\n",
    "                    |> function\n",
    "                        | Ok child =>\n",
    "                            // inl stdout =\n",
    "                            //     child\n",
    "                            //     |> threading.arc_mutex_lock\n",
    "                            //     |> resultm.unwrap'\n",
    "                            //     |> threading.mutex_guard_ref_mut\n",
    "                            //     |> optionm'.as_mut\n",
    "                            //     |> optionm'.unwrap\n",
    "                            //     |> process_child_stdout\n",
    "                            //     |> optionm'.ref_take\n",
    "                            //     |> optionm'.unwrap\n",
    "                            //     |> optionm'.some'\n",
    "                            //     |> threading.new_arc_mutex\n",
    "                            // inl stderr =\n",
    "                            //     child\n",
    "                            //     |> threading.arc_mutex_lock\n",
    "                            //     |> resultm.unwrap'\n",
    "                            //     |> threading.mutex_guard_ref_mut\n",
    "                            //     |> optionm'.as_mut\n",
    "                            //     |> optionm'.unwrap\n",
    "                            //     |> process_child_stderr\n",
    "                            //     |> optionm'.ref_take\n",
    "                            //     |> optionm'.unwrap\n",
    "                            //     |> optionm'.some'\n",
    "                            //     |> threading.new_arc_mutex\n",
    "                            // inl stdin =\n",
    "                            //     child\n",
    "                            //     |> threading.arc_mutex_lock\n",
    "                            //     |> resultm.unwrap'\n",
    "                            //     |> threading.mutex_guard_ref_mut\n",
    "                            //     |> optionm'.as_mut\n",
    "                            //     |> optionm'.unwrap\n",
    "                            //     |> process_child_stdin\n",
    "                            //     |> optionm'.ref_take\n",
    "                            //     |> optionm'.unwrap\n",
    "                            //     |> optionm'.some'\n",
    "                            //     |> threading.new_arc_mutex\n",
    "\n",
    "                            inl stdout : process_child_stdout =\n",
    "                                !\\\\(child, $'\"$0.lock().unwrap().as_mut().unwrap().stdout.take().unwrap()\"')\n",
    "                            inl stderr : process_child_stderr =\n",
    "                                !\\\\(child, $'\"$0.lock().unwrap().as_mut().unwrap().stderr.take().unwrap()\"')\n",
    "                            inl stdin : process_child_stdin =\n",
    "                                !\\\\(child, $'\"$0.lock().unwrap().as_mut().unwrap().stdin.take().unwrap()\"')\n",
    "                            inl stdout = stdout |> threading.new_arc_mutex\n",
    "                            inl stderr = stderr |> threading.new_arc_mutex\n",
    "                            inl stdin = stdin |> optionm'.some' |> threading.new_arc_mutex\n",
    "                            inl channel_sender, channel_receiver = threading.new_channel ()\n",
    "                            inl channel_sender'' = channel_sender |> threading.new_arc_mutex\n",
    "                            inl channel_sender' = channel_sender |> threading.new_arc_mutex\n",
    "                            inl channel_receiver' = channel_receiver |> threading.new_arc_mutex\n",
    "\n",
    "                            inl stdout_handle =\n",
    "                                fun () =>\n",
    "                                    stdout\n",
    "                                    |> threading.arc_mutex_lock\n",
    "                                    |> resultm.unwrap'\n",
    "                                    |> threading.mutex_guard_ref_mut\n",
    "                                    |> stream.decode_reader_bytes_build\n",
    "                                    |> stream.new_buf_reader\n",
    "                                    |> stream.buf_read_lines\n",
    "                                    |> iter.try_for_each fun lines =>\n",
    "                                        inl channel_sender'' = channel_sender'' |> rust.clone\n",
    "                                        lines\n",
    "                                        |> stdio_line (Ok ()) options.trace channel_sender''\n",
    "                                        |> resultm.to_try\n",
    "                                |> threading.spawn (1, 0) 1\n",
    "\n",
    "                            inl stderr_handle =\n",
    "                                fun () =>\n",
    "                                    stderr\n",
    "                                    |> threading.arc_mutex_lock\n",
    "                                    |> resultm.unwrap'\n",
    "                                    |> threading.mutex_guard_ref_mut\n",
    "                                    |> stream.decode_reader_bytes_build\n",
    "                                    |> stream.new_buf_reader\n",
    "                                    |> stream.buf_read_lines\n",
    "                                    |> iter.try_for_each fun lines =>\n",
    "                                        inl channel_sender' = channel_sender' |> rust.clone\n",
    "                                        lines\n",
    "                                        |> stdio_line (Error ()) options.trace channel_sender'\n",
    "                                        |> resultm.to_try\n",
    "                                |> threading.spawn (1, 0) 1\n",
    "\n",
    "                            match options.stdin |> optionm'.unbox with\n",
    "                            | Some stdin' =>\n",
    "                                stdin\n",
    "                                |> threading.arc_mutex_lock\n",
    "                                |> resultm.unwrap'\n",
    "                                |> threading.mutex_guard_ref_mut\n",
    "                                |> optionm'.ref_take\n",
    "                                |> optionm'.map' threading.new_arc_mutex\n",
    "                                |> optionm'.unbox\n",
    "                                |> function\n",
    "                                    | Some stdin =>\n",
    "                                        stdin |> stdin'\n",
    "                                        stdin\n",
    "                                        |> threading.arc_mutex_lock\n",
    "                                        |> resultm.unwrap'\n",
    "                                        |> stdin_flush\n",
    "                                    | None => ()\n",
    "                            | None => ()\n",
    "\n",
    "                            inl output =\n",
    "                                child\n",
    "                                |> threading.arc_mutex_lock\n",
    "                                |> resultm.unwrap'\n",
    "                                |> threading.mutex_guard_ref_mut\n",
    "                                |> optionm'.ref_take\n",
    "                                |> optionm'.unwrap\n",
    "                                |> child_wait_with_output\n",
    "                                |> resultm.map_error' sm'.format'\n",
    "\n",
    "                            [ stdout_handle; stderr_handle ]\n",
    "                            |> am'.new_vec\n",
    "                            |> am'.vec_for_each' (threading.join' >> resultm.unwrap' >> resultm.unwrap')\n",
    "\n",
    "                            match output |> resultm.unbox with\n",
    "                            | Ok output =>\n",
    "                                inl exit_code =\n",
    "                                    output\n",
    "                                    |> process_output_status\n",
    "                                    |> process_exit_status_code\n",
    "                                    |> optionm'.unwrap\n",
    "                                exit_code, None, Some channel_receiver'\n",
    "                            | Error error =>\n",
    "                                trace Critical\n",
    "                                    fun () => $'$\"runtime.execute_with_options / output error\"'\n",
    "                                    fun () => $'$\"error: {!error} / {!_locals ()}\"'\n",
    "                                -2i32, error |> Some, None\n",
    "                        | Error error =>\n",
    "                            trace Critical\n",
    "                                fun () => $'$\"runtime.execute_with_options / child error\"'\n",
    "                                fun () => $'$\"error: {!error} / {!_locals ()}\"'\n",
    "                            -1i32, error |> Some, None\n",
    "                    |> function\n",
    "                        | exit_code, std_trace, channel_receiver =>\n",
    "                            inl std_trace =\n",
    "                                channel_receiver\n",
    "                                |> optionm'.box\n",
    "                                |> optionm'.map' fun channel_receiver =>\n",
    "                                    channel_receiver\n",
    "                                    |> threading.arc_mutex_lock\n",
    "                                    |> resultm.unwrap'\n",
    "                                    |> iter.iter\n",
    "                                    |> iter_prototypes.iter_collect''\n",
    "                                    |> am'.vec_map sm'.from_std_string\n",
    "                                    |> am'.from_vec\n",
    "                                    |> fun x => x : _ i32 _\n",
    "                                    |> seq.of_array\n",
    "                                    |> sm'.concat \"\\n\"\n",
    "                                |> optionm'.default_value' (\n",
    "                                    std_trace\n",
    "                                    |> optionm.map sm'.from_std_string\n",
    "                                    |> optionm'.default_value \"\"\n",
    "                                )\n",
    "                            trace Verbose\n",
    "                                fun () => $'$\"runtime.execute_with_options / result\"'\n",
    "                                fun () => $'$\"exit_code: {!exit_code} / std_trace.Length: {!std_trace.Length} / {!_locals ()}\"'\n",
    "                            new_pair exit_code std_trace\n",
    "                |> capture\n",
    "            |> async.future_init (3, 2) 1\n",
    "            |> async.block_on\n",
    "            |> from_pair\n",
    "        | _ => fun () => null ()"
   ]
  },
  {
   "cell_type": "markdown",
   "metadata": {},
   "source": [
    "### execute"
   ]
  },
  {
   "cell_type": "code",
   "execution_count": null,
   "metadata": {
    "dotnet_interactive": {
     "language": "spiral"
    },
    "polyglot_notebook": {
     "kernelName": "spiral"
    }
   },
   "outputs": [],
   "source": [
    "inl execute command =\n",
    "    execution_options fun x => { x with\n",
    "        command = command\n",
    "    }\n",
    "    |> execute_with_options"
   ]
  },
  {
   "cell_type": "markdown",
   "metadata": {},
   "source": [
    "### test 1"
   ]
  },
  {
   "cell_type": "code",
   "execution_count": null,
   "metadata": {
    "dotnet_interactive": {
     "language": "spiral"
    },
    "polyglot_notebook": {
     "kernelName": "spiral"
    }
   },
   "outputs": [
    {
     "data": {
      "text/plain": [
       "00:00:00 \u001B[90mverbose\u001B[39m #1 file_system.create_directory / dir: /tmp/!spiral_builder_d1dcde62ab9238eb4feb7d7163f5f76a3bd0cf7be4b24c45691835e49198feb6/20240520-1342-5897-0313-00000006485a\n",
       "00:00:00 \u001B[94m  debug\u001B[39m #2 runtime.execute_with_options / file_name: pwsh / arguments: [\"-c\", \"[IO.File]::ReadAllText('/tmp/!spiral_builder_d1dcde62ab9238eb4feb7d7163f5f76a3bd0cf7be4b24c45691835e49198feb6/20240520-1342-5897-0313-00000006485a/test.txt')\"] / options: (None, \"pwsh -c \"[IO.File]::ReadAllText('/tmp/!spiral_builder_d1dcde62ab9238eb4feb7d7163f5f76a3bd0cf7be4b24c45691835e49198feb6/20240520-1342-5897-0313-00000006485a/test.txt')\"\", Array(MutCell([])), None, None, true, None)\n",
       "00:00:00 \u001B[90mverbose\u001B[39m #3 ! \u001B[31;1mMethodInvocationException: \u001B[31;1mException calling \"ReadAllText\" with \"1\" argument(s): \"Could not find file '/tmp/!spiral_builder_d1dcde62ab9238eb4feb7d7163f5f76a3bd0cf7be4b24c45691835e49198feb6/20240520-1342-5897-0313-00000006485a/test.txt'.\"\u001B[0m\n",
       "00:00:00 \u001B[90mverbose\u001B[39m #4 runtime.execute_with_options / result / exit_code: 1 / std_trace.Length: 265\n",
       "assert_eq / actual: 1 / expected: 1\n",
       "assert_string_contains / actual: \"not find file\" / expected: \"\u001B[4;7m\u001B[31;1mMethodInvocationException: \u001B[31;1mException calling \"ReadAllText\" with \"1\" argument(s): \"Could not find file '/tmp/!spiral_builder_d1dcde62ab9238eb4feb7d7163f5f76a3bd0cf7be4b24c45691835e49198feb6/20240520-1342-5897-0313-00000006485a/test.txt'.\"\u001B[0m\u001B[0m\"\n",
       "00:00:00 \u001B[94m  debug\u001B[39m #5 runtime.execute_with_options / file_name: cat / arguments: [\"test.txt\"] / options: (None, \"cat \"test.txt\"\", Array(MutCell([])), None, None, true, Some(\"/tmp/!spiral_builder_d1dcde62ab9238eb4feb7d7163f5f76a3bd0cf7be4b24c45691835e49198feb6/20240520-1342-5897-0313-00000006485a\"))\n",
       "00:00:00 \u001B[90mverbose\u001B[39m #6 > ╭─[ 你好，世界！こんにちは世界！ ]─╮\n",
       "00:00:00 \u001B[90mverbose\u001B[39m #7 runtime.execute_with_options / result / exit_code: 0 / std_trace.Length: 22\n",
       "00:00:00 \u001B[94m  debug\u001B[39m #8 runtime.execute_with_options / file_name: pwsh / arguments: [\"-c\", \"[System.Console]::OutputEncoding = [System.Text.Encoding]::UTF8; [IO.File]::ReadAllText('test.txt')\"] / options: (None, \"pwsh -c \"[System.Console]::OutputEncoding = [System.Text.Encoding]::UTF8; [IO.File]::ReadAllText('test.txt')\"\", Array(MutCell([])), None, None, true, Some(\"/tmp/!spiral_builder_d1dcde62ab9238eb4feb7d7163f5f76a3bd0cf7be4b24c45691835e49198feb6/20240520-1342-5897-0313-00000006485a\"))\n",
       "00:00:00 \u001B[90mverbose\u001B[39m #9 > ╭─[ 你好，世界！こんにちは世界！ ]─╮\n",
       "00:00:00 \u001B[90mverbose\u001B[39m #10 runtime.execute_with_options / result / exit_code: 0 / std_trace.Length: 22\n",
       "assert_eq / actual: 0 / expected: 0\n",
       "assert_eq / actual: \"╭─[ 你好，世界！こんにちは世界！ ]─╮\" / expected: \"╭─[ 你好，世界！こんにちは世界！ ]─╮\"\n",
       "assert_eq / actual: true / expected: true\n"
      ]
     },
     "metadata": {},
     "output_type": "display_data"
    }
   ],
   "source": [
    "//// test\n",
    "///! rust -d chrono encoding_rs encoding_rs_io futures futures-lite regex\n",
    "\n",
    "types ()\n",
    "inl temp_folder, disposable = file_system.create_temp_directory ()\n",
    "inl content = \"╭─[ 你好，世界！こんにちは世界！ ]─╮\"\n",
    "// inl content = \"test\"\n",
    "fun () =>\n",
    "    inl file_name = join \"test.txt\"\n",
    "    inl path = temp_folder </> file_name |> file_system.normalize_path\n",
    "    inl exit_code, result =\n",
    "        execute $'\\@$\"pwsh -c \"\"[IO.File]::ReadAllText(\\'{!path}\\')\"\"\"'\n",
    "    exit_code |> _assert_eq 1\n",
    "    result |> _assert_string_contains \"not find file\"\n",
    "\n",
    "    content |> file_system.write_all_text path\n",
    "\n",
    "    execution_options fun x => { x with\n",
    "        command = $'\\@$\"cat \"\"{!file_name}\"\"\"'\n",
    "        working_directory = Some temp_folder |> optionm'.box\n",
    "    }\n",
    "    |> execute_with_options\n",
    "    |> ignore\n",
    "\n",
    "    execution_options fun x => { x with\n",
    "        command = $'\\@$\"pwsh -c \"\"[System.Console]::OutputEncoding = [System.Text.Encoding]::UTF8; [IO.File]::ReadAllText(\\'{!file_name}\\')\"\"\"'\n",
    "        working_directory = Some temp_folder |> optionm'.box\n",
    "    }\n",
    "    |> execute_with_options\n",
    "|> fun fn => fn () |> Some\n",
    "|> function\n",
    "    | Some (exit_code, output) =>\n",
    "        exit_code |> _assert_eq 0i32\n",
    "        output |> _assert_eq content\n",
    "        true\n",
    "    | _ => false\n",
    "|> _assert_eq true\n",
    "disposable |> use |> ignore"
   ]
  },
  {
   "cell_type": "markdown",
   "metadata": {},
   "source": [
    "## command"
   ]
  },
  {
   "cell_type": "code",
   "execution_count": null,
   "metadata": {
    "dotnet_interactive": {
     "language": "spiral"
    },
    "polyglot_notebook": {
     "kernelName": "spiral"
    }
   },
   "outputs": [],
   "source": [
    "nominal command = $'clap_Command'"
   ]
  },
  {
   "cell_type": "markdown",
   "metadata": {},
   "source": [
    "## new_command"
   ]
  },
  {
   "cell_type": "code",
   "execution_count": null,
   "metadata": {
    "dotnet_interactive": {
     "language": "spiral"
    },
    "polyglot_notebook": {
     "kernelName": "spiral"
    }
   },
   "outputs": [],
   "source": [
    "inl new_command (s : rust.static_ref' sm'.str) : command =\n",
    "    !\\\\(s, $'\"clap::Command::new($0)\"')"
   ]
  },
  {
   "cell_type": "code",
   "execution_count": null,
   "metadata": {
    "dotnet_interactive": {
     "language": "spiral"
    },
    "polyglot_notebook": {
     "kernelName": "spiral"
    }
   },
   "outputs": [
    {
     "data": {
      "text/plain": [
       "assert_string_contains / actual: \"command\" / expected: \"Command {\n",
       "    name: \"command\",\n",
       "    long_flag: None,\n",
       "    short_flag: None,\n",
       "    display_name: None,\n",
       "    bin_name: None,\n",
       "    author: None,\n",
       "    version: None,\n",
       "    long_version: None,\n",
       "    about: None,\n",
       "    long_about: None,\n",
       "    before_help: None,\n",
       "    before_long_help: None,\n",
       "    after_help: None,\n",
       "    after_long_help: None,\n",
       "    aliases: [],\n",
       "    short_flag_aliases: [],\n",
       "    long_flag_aliases: [],\n",
       "    usage_str: None,\n",
       "    usage_name: None,\n",
       "    help_str: None,\n",
       "    disp_ord: None,\n",
       "    template: None,\n",
       "    settings: AppFlags(\n",
       "        0,\n",
       "    ),\n",
       "    g_settings: AppFlags(\n",
       "        0,\n",
       "    ),\n",
       "    args: MKeyMap {\n",
       "        args: [],\n",
       "        keys: [],\n",
       "    },\n",
       "    subcommands: [],\n",
       "    groups: [],\n",
       "    current_help_heading: None,\n",
       "    current_disp_ord: Some(\n",
       "        0,\n",
       "    ),\n",
       "    subcommand_value_name: None,\n",
       "    subcommand_heading: None,\n",
       "    external_value_parser: None,\n",
       "    long_help_exists: false,\n",
       "    deferred: None,\n",
       "    app_ext: Extensions {\n",
       "        extensions: FlatMap {\n",
       "            keys: [],\n",
       "            values: [],\n",
       "        },\n",
       "    },\n",
       "}\"\n"
      ]
     },
     "metadata": {},
     "output_type": "display_data"
    }
   ],
   "source": [
    "//// test\n",
    "///! rust -d clap\n",
    "\n",
    "types ()\n",
    "##\"command\"\n",
    "|> new_command\n",
    "|> sm'.format_pretty'\n",
    "|> sm'.from_std_string\n",
    "|> _assert_string_contains \"command\""
   ]
  },
  {
   "cell_type": "markdown",
   "metadata": {},
   "source": [
    "## arg"
   ]
  },
  {
   "cell_type": "code",
   "execution_count": null,
   "metadata": {
    "dotnet_interactive": {
     "language": "spiral"
    },
    "polyglot_notebook": {
     "kernelName": "spiral"
    }
   },
   "outputs": [],
   "source": [
    "nominal arg = $'clap_Arg'"
   ]
  },
  {
   "cell_type": "markdown",
   "metadata": {},
   "source": [
    "## new_arg"
   ]
  },
  {
   "cell_type": "code",
   "execution_count": null,
   "metadata": {
    "dotnet_interactive": {
     "language": "spiral"
    },
    "polyglot_notebook": {
     "kernelName": "spiral"
    }
   },
   "outputs": [],
   "source": [
    "inl new_arg (s : rust.static_ref' sm'.str) : arg =\n",
    "    !\\\\(s, $'\"clap::Arg::new($0)\"')"
   ]
  },
  {
   "cell_type": "code",
   "execution_count": null,
   "metadata": {
    "dotnet_interactive": {
     "language": "spiral"
    },
    "polyglot_notebook": {
     "kernelName": "spiral"
    }
   },
   "outputs": [
    {
     "data": {
      "text/plain": [
       "assert_string_contains / actual: \"arg\" / expected: \"Arg {\n",
       "    id: \"arg\",\n",
       "    help: None,\n",
       "    long_help: None,\n",
       "    action: None,\n",
       "    value_parser: None,\n",
       "    blacklist: [],\n",
       "    settings: ArgFlags(\n",
       "        0,\n",
       "    ),\n",
       "    overrides: [],\n",
       "    groups: [],\n",
       "    requires: [],\n",
       "    r_ifs: [],\n",
       "    r_unless: [],\n",
       "    short: None,\n",
       "    long: None,\n",
       "    aliases: [],\n",
       "    short_aliases: [],\n",
       "    disp_ord: None,\n",
       "    val_names: [],\n",
       "    num_vals: None,\n",
       "    val_delim: None,\n",
       "    default_vals: [],\n",
       "    default_vals_ifs: [],\n",
       "    terminator: None,\n",
       "    index: None,\n",
       "    help_heading: None,\n",
       "    value_hint: None,\n",
       "    default_missing_vals: [],\n",
       "}\"\n"
      ]
     },
     "metadata": {},
     "output_type": "display_data"
    }
   ],
   "source": [
    "//// test\n",
    "///! rust -d clap\n",
    "\n",
    "types ()\n",
    "##\"arg\"\n",
    "|> new_arg\n",
    "|> sm'.format_pretty'\n",
    "|> sm'.from_std_string\n",
    "|> _assert_string_contains \"arg\""
   ]
  },
  {
   "cell_type": "markdown",
   "metadata": {},
   "source": [
    "## command_arg"
   ]
  },
  {
   "cell_type": "code",
   "execution_count": null,
   "metadata": {
    "dotnet_interactive": {
     "language": "spiral"
    },
    "polyglot_notebook": {
     "kernelName": "spiral"
    }
   },
   "outputs": [],
   "source": [
    "inl command_arg (arg : arg) (command : command) : command =\n",
    "    !\\\\((command, arg), $'\"clap::Command::arg($0, $1)\"')"
   ]
  },
  {
   "cell_type": "markdown",
   "metadata": {},
   "source": [
    "## arg_required"
   ]
  },
  {
   "cell_type": "code",
   "execution_count": null,
   "metadata": {
    "dotnet_interactive": {
     "language": "spiral"
    },
    "polyglot_notebook": {
     "kernelName": "spiral"
    }
   },
   "outputs": [],
   "source": [
    "inl arg_required (value : bool) (arg : arg) : arg =\n",
    "    !\\\\((arg, value), $'\"$0.required($1)\"')"
   ]
  },
  {
   "cell_type": "markdown",
   "metadata": {},
   "source": [
    "## arg_short"
   ]
  },
  {
   "cell_type": "code",
   "execution_count": null,
   "metadata": {
    "dotnet_interactive": {
     "language": "spiral"
    },
    "polyglot_notebook": {
     "kernelName": "spiral"
    }
   },
   "outputs": [],
   "source": [
    "inl arg_short (value : char) (arg : arg) : arg =\n",
    "    !\\\\((arg, value), $'\"$0.short($1)\"')"
   ]
  },
  {
   "cell_type": "markdown",
   "metadata": {},
   "source": [
    "## arg_long"
   ]
  },
  {
   "cell_type": "code",
   "execution_count": null,
   "metadata": {
    "dotnet_interactive": {
     "language": "spiral"
    },
    "polyglot_notebook": {
     "kernelName": "spiral"
    }
   },
   "outputs": [],
   "source": [
    "inl arg_long (value : rust.static_ref' sm'.str) (arg : arg) : arg =\n",
    "    !\\\\((arg, value), $'\"$0.long($1)\"')"
   ]
  },
  {
   "cell_type": "markdown",
   "metadata": {},
   "source": [
    "## arg_value_names"
   ]
  },
  {
   "cell_type": "code",
   "execution_count": null,
   "metadata": {
    "dotnet_interactive": {
     "language": "spiral"
    },
    "polyglot_notebook": {
     "kernelName": "spiral"
    }
   },
   "outputs": [],
   "source": [
    "inl arg_value_names (values : array_base (rust.static_ref' sm'.str)) (arg : arg) : arg =\n",
    "    inl values = values |> am'.to_vec\n",
    "    !\\\\((arg, values), $'\"$0.value_names($1)\"')"
   ]
  },
  {
   "cell_type": "markdown",
   "metadata": {},
   "source": [
    "## arg_num_args"
   ]
  },
  {
   "cell_type": "code",
   "execution_count": null,
   "metadata": {
    "dotnet_interactive": {
     "language": "spiral"
    },
    "polyglot_notebook": {
     "kernelName": "spiral"
    }
   },
   "outputs": [],
   "source": [
    "inl arg_num_args (value : i32) (arg : arg) : arg =\n",
    "    !\\\\((arg, value), $'\"$0.num_args($1)\"')"
   ]
  },
  {
   "cell_type": "markdown",
   "metadata": {},
   "source": [
    "## value_range"
   ]
  },
  {
   "cell_type": "code",
   "execution_count": null,
   "metadata": {
    "dotnet_interactive": {
     "language": "spiral"
    },
    "polyglot_notebook": {
     "kernelName": "spiral"
    }
   },
   "outputs": [],
   "source": [
    "nominal value_range = $'clap_builder_ValueRange'"
   ]
  },
  {
   "cell_type": "markdown",
   "metadata": {},
   "source": [
    "## new_value_range"
   ]
  },
  {
   "cell_type": "code",
   "execution_count": null,
   "metadata": {
    "dotnet_interactive": {
     "language": "spiral"
    },
    "polyglot_notebook": {
     "kernelName": "spiral"
    }
   },
   "outputs": [],
   "source": [
    "inl new_value_range start end : value_range =\n",
    "    inl len = 0i32 |> unativeint\n",
    "    inl start, end =\n",
    "        open am'\n",
    "        match start, end with\n",
    "        | Start start, End fn =>\n",
    "            start, len |> fn\n",
    "        | End start_fn, End end_fn =>\n",
    "            start_fn len, end_fn len\n",
    "    match start, end with\n",
    "    | start, end when end =. len => !\\($'\"clap::builder::ValueRange::new(!start..)\"')\n",
    "    | start, end => !\\($'\"clap::builder::ValueRange::new(!start..!end)\"')"
   ]
  },
  {
   "cell_type": "markdown",
   "metadata": {},
   "source": [
    "## arg_num_args_range"
   ]
  },
  {
   "cell_type": "code",
   "execution_count": null,
   "metadata": {
    "dotnet_interactive": {
     "language": "spiral"
    },
    "polyglot_notebook": {
     "kernelName": "spiral"
    }
   },
   "outputs": [],
   "source": [
    "inl arg_num_args_range (value : value_range) (arg : arg) : arg =\n",
    "    !\\\\((arg, value), $'\"$0.num_args($1)\"')"
   ]
  },
  {
   "cell_type": "markdown",
   "metadata": {},
   "source": [
    "## arg_value_name"
   ]
  },
  {
   "cell_type": "code",
   "execution_count": null,
   "metadata": {
    "dotnet_interactive": {
     "language": "spiral"
    },
    "polyglot_notebook": {
     "kernelName": "spiral"
    }
   },
   "outputs": [],
   "source": [
    "inl arg_value_name (value : string) (arg : arg) : arg =\n",
    "    inl value = value |> sm'.as_str\n",
    "    !\\\\((arg, value), $'\"$0.value_name($1)\"')"
   ]
  },
  {
   "cell_type": "markdown",
   "metadata": {},
   "source": [
    "## value_parser"
   ]
  },
  {
   "cell_type": "code",
   "execution_count": null,
   "metadata": {
    "dotnet_interactive": {
     "language": "spiral"
    },
    "polyglot_notebook": {
     "kernelName": "spiral"
    }
   },
   "outputs": [],
   "source": [
    "nominal value_parser = $'clap_builder_ValueParser'"
   ]
  },
  {
   "cell_type": "markdown",
   "metadata": {},
   "source": [
    "## possible_value"
   ]
  },
  {
   "cell_type": "code",
   "execution_count": null,
   "metadata": {
    "dotnet_interactive": {
     "language": "spiral"
    },
    "polyglot_notebook": {
     "kernelName": "spiral"
    }
   },
   "outputs": [],
   "source": [
    "nominal possible_value = $'clap_builder_PossibleValue'"
   ]
  },
  {
   "cell_type": "markdown",
   "metadata": {},
   "source": [
    "## new_possible_value"
   ]
  },
  {
   "cell_type": "code",
   "execution_count": null,
   "metadata": {
    "dotnet_interactive": {
     "language": "spiral"
    },
    "polyglot_notebook": {
     "kernelName": "spiral"
    }
   },
   "outputs": [],
   "source": [
    "inl new_possible_value forall t. (x : t) : possible_value =\n",
    "    !\\\\(x, $'\"clap::builder::PossibleValue::new(&**$0)\"')"
   ]
  },
  {
   "cell_type": "markdown",
   "metadata": {},
   "source": [
    "## value_parser_possible_values"
   ]
  },
  {
   "cell_type": "code",
   "execution_count": null,
   "metadata": {
    "dotnet_interactive": {
     "language": "spiral"
    },
    "polyglot_notebook": {
     "kernelName": "spiral"
    }
   },
   "outputs": [],
   "source": [
    "inl value_parser_possible_values (values : array_base string) : value_parser =\n",
    "    inl values =\n",
    "        values\n",
    "        |> am'.to_vec\n",
    "        |> am'.vec_map (sm'.to_std_string >> rust.new_box >> rust.box_leak >> new_possible_value)\n",
    "    !\\\\(values, $'\"clap::builder::PossibleValuesParser::new($0).into()\"')"
   ]
  },
  {
   "cell_type": "markdown",
   "metadata": {},
   "source": [
    "## value_parser_path_buf"
   ]
  },
  {
   "cell_type": "code",
   "execution_count": null,
   "metadata": {
    "dotnet_interactive": {
     "language": "spiral"
    },
    "polyglot_notebook": {
     "kernelName": "spiral"
    }
   },
   "outputs": [],
   "source": [
    "inl value_parser_path_buf () : value_parser =\n",
    "    !\\($'\"clap::value_parser\\!(std::path::PathBuf)\"')"
   ]
  },
  {
   "cell_type": "markdown",
   "metadata": {},
   "source": [
    "## value_parser_expr"
   ]
  },
  {
   "cell_type": "code",
   "execution_count": null,
   "metadata": {
    "dotnet_interactive": {
     "language": "spiral"
    },
    "polyglot_notebook": {
     "kernelName": "spiral"
    }
   },
   "outputs": [],
   "source": [
    "inl value_parser_expr (expr : string) : value_parser =\n",
    "    !\\($'\"clap::value_parser\\!(\" + !expr + \").into()\"')"
   ]
  },
  {
   "cell_type": "markdown",
   "metadata": {},
   "source": [
    "## arg_value_parser"
   ]
  },
  {
   "cell_type": "code",
   "execution_count": null,
   "metadata": {
    "dotnet_interactive": {
     "language": "spiral"
    },
    "polyglot_notebook": {
     "kernelName": "spiral"
    }
   },
   "outputs": [],
   "source": [
    "inl arg_value_parser (values : value_parser) (arg : arg) : arg =\n",
    "    !\\\\((arg, values), $'\"$0.value_parser($1)\"')"
   ]
  },
  {
   "cell_type": "markdown",
   "metadata": {},
   "source": [
    "## arg_union"
   ]
  },
  {
   "cell_type": "code",
   "execution_count": null,
   "metadata": {
    "dotnet_interactive": {
     "language": "spiral"
    },
    "polyglot_notebook": {
     "kernelName": "spiral"
    }
   },
   "outputs": [],
   "source": [
    "inl arg_union forall union_type {to_string}. (fn : union_type -> ()) (arg : arg) : arg =\n",
    "    arg\n",
    "    |> arg_value_parser (\n",
    "        real get_union_fields_untag `union_type ()\n",
    "        |> fun x => x : list union_type\n",
    "        |> listm.map to_string\n",
    "        |> listm'.box\n",
    "        |> listm'.to_array'\n",
    "        |> fun (a x : _ i32 _) => x\n",
    "        |> value_parser_possible_values\n",
    "    )"
   ]
  },
  {
   "cell_type": "markdown",
   "metadata": {},
   "source": [
    "## arg_action"
   ]
  },
  {
   "cell_type": "code",
   "execution_count": null,
   "metadata": {
    "dotnet_interactive": {
     "language": "spiral"
    },
    "polyglot_notebook": {
     "kernelName": "spiral"
    }
   },
   "outputs": [],
   "source": [
    "nominal arg_action' = $'clap_ArgAction'\n",
    "\n",
    "union arg_action =\n",
    "    | Set\n",
    "    | Append\n",
    "    | SetTrue\n",
    "    | SetFalse\n",
    "    | Count\n",
    "    | Help\n",
    "    | HelpShort\n",
    "    | HelpLong\n",
    "    | Version\n",
    "\n",
    "inl arg_action = function\n",
    "    | Set => !\\($'\"clap::ArgAction::Set\"') : arg_action'\n",
    "    | Append => !\\($'\"clap::ArgAction::Append\"') : arg_action'\n",
    "    | SetTrue => !\\($'\"clap::ArgAction::SetTrue\"') : arg_action'\n",
    "    | SetFalse => !\\($'\"clap::ArgAction::SetFalse\"') : arg_action'\n",
    "    | Count => !\\($'\"clap::ArgAction::Count\"') : arg_action'\n",
    "    | Help => !\\($'\"clap::ArgAction::Help\"') : arg_action'\n",
    "    | HelpShort => !\\($'\"clap::ArgAction::HelpShort\"') : arg_action'\n",
    "    | HelpLong => !\\($'\"clap::ArgAction::HelpLong\"') : arg_action'\n",
    "    | Version => !\\($'\"clap::ArgAction::Version\"') : arg_action'\n",
    "\n",
    "inl arg_action (value : arg_action) (arg : arg) : arg =\n",
    "    inl value = value |> arg_action\n",
    "    !\\\\((arg, value), $'\"$0.action($1)\"')"
   ]
  },
  {
   "cell_type": "markdown",
   "metadata": {},
   "source": [
    "## arg_index"
   ]
  },
  {
   "cell_type": "code",
   "execution_count": null,
   "metadata": {
    "dotnet_interactive": {
     "language": "spiral"
    },
    "polyglot_notebook": {
     "kernelName": "spiral"
    }
   },
   "outputs": [],
   "source": [
    "inl arg_index (value : i32) (arg : arg) : arg =\n",
    "    !\\\\((arg, value), $'\"$0.index($1)\"')"
   ]
  },
  {
   "cell_type": "markdown",
   "metadata": {},
   "source": [
    "## arg_matches"
   ]
  },
  {
   "cell_type": "code",
   "execution_count": null,
   "metadata": {
    "dotnet_interactive": {
     "language": "spiral"
    },
    "polyglot_notebook": {
     "kernelName": "spiral"
    }
   },
   "outputs": [],
   "source": [
    "nominal arg_matches = $'clap_ArgMatches'"
   ]
  },
  {
   "cell_type": "markdown",
   "metadata": {},
   "source": [
    "## command_get_matches"
   ]
  },
  {
   "cell_type": "code",
   "execution_count": null,
   "metadata": {
    "dotnet_interactive": {
     "language": "spiral"
    },
    "polyglot_notebook": {
     "kernelName": "spiral"
    }
   },
   "outputs": [],
   "source": [
    "inl command_get_matches (command : command) : arg_matches =\n",
    "    !\\\\(command, $'\"clap::Command::get_matches($0)\"')"
   ]
  },
  {
   "cell_type": "markdown",
   "metadata": {},
   "source": [
    "## command_get_matches_from"
   ]
  },
  {
   "cell_type": "code",
   "execution_count": null,
   "metadata": {
    "dotnet_interactive": {
     "language": "spiral"
    },
    "polyglot_notebook": {
     "kernelName": "spiral"
    }
   },
   "outputs": [],
   "source": [
    "inl command_get_matches_from (args : array_base string) (command : command) : arg_matches =\n",
    "    inl args = args |> am'.to_vec |> am'.vec_map sm'.to_std_string\n",
    "    !\\\\(command, $'\"clap::Command::get_matches_from($0, !args)\"')"
   ]
  },
  {
   "cell_type": "markdown",
   "metadata": {},
   "source": [
    "## command_init_arg"
   ]
  },
  {
   "cell_type": "code",
   "execution_count": null,
   "metadata": {
    "dotnet_interactive": {
     "language": "spiral"
    },
    "polyglot_notebook": {
     "kernelName": "spiral"
    }
   },
   "outputs": [],
   "source": [
    "inl command_init_arg (long, short) fn command =\n",
    "    command\n",
    "    |> command_arg (\n",
    "        new_arg ##long\n",
    "        |> arg_short short\n",
    "        |> arg_long ##long\n",
    "        |> fn\n",
    "    )"
   ]
  },
  {
   "cell_type": "markdown",
   "metadata": {},
   "source": [
    "## matches_get_one"
   ]
  },
  {
   "cell_type": "code",
   "execution_count": null,
   "metadata": {
    "dotnet_interactive": {
     "language": "spiral"
    },
    "polyglot_notebook": {
     "kernelName": "spiral"
    }
   },
   "outputs": [],
   "source": [
    "inl matches_get_one forall t. (x : string) (matches : arg_matches) : optionm'.option' t =\n",
    "    inl x = join x\n",
    "    inl x = x |> sm'.as_str\n",
    "    !\\\\(matches, $'\"clap::ArgMatches::get_one(&$0, !x).cloned()\"')"
   ]
  },
  {
   "cell_type": "markdown",
   "metadata": {},
   "source": [
    "## matches_get_flag"
   ]
  },
  {
   "cell_type": "code",
   "execution_count": null,
   "metadata": {
    "dotnet_interactive": {
     "language": "spiral"
    },
    "polyglot_notebook": {
     "kernelName": "spiral"
    }
   },
   "outputs": [],
   "source": [
    "inl matches_get_flag (x : string) (matches : arg_matches) : bool =\n",
    "    inl x = join x\n",
    "    inl x = x |> sm'.as_str\n",
    "    !\\($'\"clap::ArgMatches::get_flag(&!matches, !x)\"')"
   ]
  },
  {
   "cell_type": "markdown",
   "metadata": {},
   "source": [
    "## matches_get_many"
   ]
  },
  {
   "cell_type": "code",
   "execution_count": null,
   "metadata": {
    "dotnet_interactive": {
     "language": "spiral"
    },
    "polyglot_notebook": {
     "kernelName": "spiral"
    }
   },
   "outputs": [],
   "source": [
    "inl matches_get_many forall t. (x : string) (matches : arg_matches) : optionm'.option' (am'.vec t) =\n",
    "    inl x = join x\n",
    "    inl x = x |> sm'.as_str\n",
    "    !\\\\(matches, $'\"clap::ArgMatches::get_many(&$0, !x).map(|x| x.cloned().into_iter().collect())\"')"
   ]
  },
  {
   "cell_type": "markdown",
   "metadata": {},
   "source": [
    "## matches_get_occurrences"
   ]
  },
  {
   "cell_type": "code",
   "execution_count": null,
   "metadata": {
    "dotnet_interactive": {
     "language": "spiral"
    },
    "polyglot_notebook": {
     "kernelName": "spiral"
    }
   },
   "outputs": [],
   "source": [
    "inl matches_get_occurrences (x : string) (matches : arg_matches) : optionm'.option' (array_base sm'.std_string) =\n",
    "    inl x = join x\n",
    "    inl x = x |> sm'.as_str\n",
    "    !\\($'\"clap::ArgMatches::get_occurrences(&!matches, !x).cloned()\"')"
   ]
  },
  {
   "cell_type": "markdown",
   "metadata": {},
   "source": [
    "## matches_subcommand"
   ]
  },
  {
   "cell_type": "code",
   "execution_count": null,
   "metadata": {
    "dotnet_interactive": {
     "language": "spiral"
    },
    "polyglot_notebook": {
     "kernelName": "spiral"
    }
   },
   "outputs": [],
   "source": [
    "inl matches_subcommand (matches : arg_matches) : optionm'.option' (sm'.std_string * arg_matches) =\n",
    "    !\\\\((matches, sm'.ref_to_std_string), $'\"clap::ArgMatches::subcommand(Box::leak(Box::new($0))).map(|(a, b)| ($1(a), b.clone()))\"')"
   ]
  },
  {
   "cell_type": "markdown",
   "metadata": {},
   "source": [
    "## matches_values_of"
   ]
  },
  {
   "cell_type": "code",
   "execution_count": null,
   "metadata": {
    "dotnet_interactive": {
     "language": "spiral"
    },
    "polyglot_notebook": {
     "kernelName": "spiral"
    }
   },
   "outputs": [],
   "source": [
    "inl matches_values_of (x : string) (matches : arg_matches) : array_base sm'.std_string =\n",
    "    !\\\\((matches, x), $'\"clap::ArgMatches::values_of($0, &*$1)\"')"
   ]
  },
  {
   "cell_type": "markdown",
   "metadata": {},
   "source": [
    "## command_debug_assert"
   ]
  },
  {
   "cell_type": "code",
   "execution_count": null,
   "metadata": {
    "dotnet_interactive": {
     "language": "spiral"
    },
    "polyglot_notebook": {
     "kernelName": "spiral"
    }
   },
   "outputs": [],
   "source": [
    "inl command_debug_assert (command : command) : () =\n",
    "    !\\\\(command, $'\"clap::Command::debug_assert($0)\"')"
   ]
  },
  {
   "cell_type": "markdown",
   "metadata": {},
   "source": [
    "## command_subcommand_required"
   ]
  },
  {
   "cell_type": "code",
   "execution_count": null,
   "metadata": {
    "dotnet_interactive": {
     "language": "spiral"
    },
    "polyglot_notebook": {
     "kernelName": "spiral"
    }
   },
   "outputs": [],
   "source": [
    "inl command_subcommand_required (value : bool) (command : command) : command =\n",
    "    !\\\\(command, $'\"clap::Command::subcommand_required($0, !value)\"')"
   ]
  },
  {
   "cell_type": "markdown",
   "metadata": {},
   "source": [
    "## command_subcommand"
   ]
  },
  {
   "cell_type": "code",
   "execution_count": null,
   "metadata": {
    "dotnet_interactive": {
     "language": "spiral"
    },
    "polyglot_notebook": {
     "kernelName": "spiral"
    }
   },
   "outputs": [],
   "source": [
    "inl command_subcommand (subcommand : command) (command : command) : command =\n",
    "    !\\\\(command, $'\"clap::Command::subcommand($0, !subcommand)\"')"
   ]
  },
  {
   "cell_type": "markdown",
   "metadata": {},
   "source": [
    "## main"
   ]
  },
  {
   "cell_type": "code",
   "execution_count": null,
   "metadata": {
    "dotnet_interactive": {
     "language": "spiral"
    },
    "polyglot_notebook": {
     "kernelName": "spiral"
    }
   },
   "outputs": [],
   "source": [
    "inl main () =\n",
    "    types ()\n",
    "    init_trace_state None\n",
    "    $\"let is_windows () = !is_windows ()\" : ()\n",
    "    $\"let get_executable_suffix () = !get_executable_suffix ()\" : ()\n",
    "    $\"let execute_async x = !execute_async x\" : ()\n",
    "    $\"let execute_with_options_async x = !execute_with_options_async x\" : ()\n",
    "    inl execution_options fn =\n",
    "        execution_options fun x =>\n",
    "            x\n",
    "            |> heap\n",
    "            |> fn\n",
    "            |> fun x => !x\n",
    "    $\"let execution_options x = !execution_options x\" : ()\n",
    "    $\"let split_args x = !split_args x\" : ()"
   ]
  }
 ],
 "metadata": {},
 "nbformat": 4,
 "nbformat_minor": 5
}