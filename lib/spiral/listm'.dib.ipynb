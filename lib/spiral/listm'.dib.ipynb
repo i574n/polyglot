{
 "cells": [
  {
   "cell_type": "markdown",
   "metadata": {},
   "source": [
    "# listm"
   ]
  },
  {
   "cell_type": "code",
   "execution_count": null,
   "metadata": {
    "dotnet_interactive": {
     "language": "spiral"
    },
    "polyglot_notebook": {
     "kernelName": "spiral"
    }
   },
   "outputs": [
    {
     "name": "stdout",
     "output_type": "stream",
     "text": [
      "()\n",
      "\n"
     ]
    }
   ],
   "source": [
    "// // test\n",
    "\n",
    "open testing\n",
    "\n",
    "prototype append t : t -> t -> t"
   ]
  },
  {
   "cell_type": "markdown",
   "metadata": {},
   "source": [
    "## append"
   ]
  },
  {
   "cell_type": "code",
   "execution_count": null,
   "metadata": {
    "dotnet_interactive": {
     "language": "spiral"
    },
    "polyglot_notebook": {
     "kernelName": "spiral"
    }
   },
   "outputs": [
    {
     "name": "stdout",
     "output_type": "stream",
     "text": [
      "()\n",
      "\n"
     ]
    }
   ],
   "source": [
    "instance append list t =\n",
    "    listm.append"
   ]
  },
  {
   "cell_type": "markdown",
   "metadata": {},
   "source": [
    "## /@"
   ]
  },
  {
   "cell_type": "code",
   "execution_count": null,
   "metadata": {
    "dotnet_interactive": {
     "language": "spiral"
    },
    "polyglot_notebook": {
     "kernelName": "spiral"
    }
   },
   "outputs": [
    {
     "name": "stdout",
     "output_type": "stream",
     "text": [
      "()\n",
      "\n"
     ]
    }
   ],
   "source": [
    "inl (/@) a b =\n",
    "    b |> append a"
   ]
  },
  {
   "cell_type": "code",
   "execution_count": null,
   "metadata": {
    "dotnet_interactive": {
     "language": "spiral"
    },
    "polyglot_notebook": {
     "kernelName": "spiral"
    }
   },
   "outputs": [
    {
     "name": "stdout",
     "output_type": "stream",
     "text": [
      "type UH0 =\n",
      "    | UH0_0 of string * UH0\n",
      "    | UH0_1\n",
      "let rec method0 () : unit =\n",
      "    let v0 : string = \"a\"\n",
      "    let v1 : string = \"b\"\n",
      "    let v2 : string = \"c\"\n",
      "    let v3 : string = \"d\"\n",
      "    let v4 : UH0 = UH0_1\n",
      "    let v5 : UH0 = UH0_0(v3, v4)\n",
      "    let v6 : UH0 = UH0_0(v2, v5)\n",
      "    let v7 : UH0 = UH0_0(v1, v6)\n",
      "    let v8 : UH0 = UH0_0(v0, v7)\n",
      "    let v9 : UH0 = UH0_1\n",
      "    let v10 : UH0 = UH0_0(v3, v9)\n",
      "    let v11 : UH0 = UH0_0(v2, v10)\n",
      "    let v12 : UH0 = UH0_0(v1, v11)\n",
      "    let v13 : UH0 = UH0_0(v0, v12)\n",
      "    let v14 : string = $\"__expect / actual: %A{v8} / expected: %A{v13}\"\n",
      "    ()\n",
      "method0()\n",
      "\n"
     ]
    }
   ],
   "source": [
    "// // test\n",
    "\n",
    "[ \"a\"; \"b\" ] /@ [ \"c\"; \"d\" ]\n",
    "|> _equal [ \"a\"; \"b\"; \"c\"; \"d\" ]"
   ]
  },
  {
   "cell_type": "markdown",
   "metadata": {},
   "source": [
    "## init_series"
   ]
  },
  {
   "cell_type": "code",
   "execution_count": null,
   "metadata": {
    "dotnet_interactive": {
     "language": "spiral"
    },
    "polyglot_notebook": {
     "kernelName": "spiral"
    }
   },
   "outputs": [
    {
     "name": "stdout",
     "output_type": "stream",
     "text": [
      "()\n",
      "\n"
     ]
    }
   ],
   "source": [
    "inl init_series start end inc =\n",
    "    inl total : f64 = conv ((end - start) / inc) + 1\n",
    "    listm.init total (conv >> (*) inc >> (+) start)"
   ]
  },
  {
   "cell_type": "code",
   "execution_count": null,
   "metadata": {
    "dotnet_interactive": {
     "language": "spiral"
    },
    "polyglot_notebook": {
     "kernelName": "spiral"
    }
   },
   "outputs": [
    {
     "name": "stdout",
     "output_type": "stream",
     "text": [
      "type UH0 =\n",
      "    | UH0_0 of float * UH0\n",
      "    | UH0_1\n",
      "let rec method0 () : unit =\n",
      "    let v0 : UH0 = UH0_1\n",
      "    let v1 : UH0 = UH0_0(1.0, v0)\n",
      "    let v2 : UH0 = UH0_0(0.5, v1)\n",
      "    let v3 : UH0 = UH0_0(0.0, v2)\n",
      "    let v4 : UH0 = UH0_1\n",
      "    let v5 : UH0 = UH0_0(1.0, v4)\n",
      "    let v6 : UH0 = UH0_0(0.5, v5)\n",
      "    let v7 : UH0 = UH0_0(0.0, v6)\n",
      "    let v8 : string = $\"__expect / actual: %A{v3} / expected: %A{v7}\"\n",
      "    ()\n",
      "method0()\n",
      "\n"
     ]
    }
   ],
   "source": [
    "// // test\n",
    "\n",
    "init_series 0 1 0.5\n",
    "|> _equal [ 0f64; 0.5; 1 ]"
   ]
  },
  {
   "cell_type": "markdown",
   "metadata": {},
   "source": [
    "## try_item"
   ]
  },
  {
   "cell_type": "code",
   "execution_count": null,
   "metadata": {
    "dotnet_interactive": {
     "language": "spiral"
    },
    "polyglot_notebook": {
     "kernelName": "spiral"
    }
   },
   "outputs": [
    {
     "name": "stdout",
     "output_type": "stream",
     "text": [
      "()\n",
      "\n"
     ]
    }
   ],
   "source": [
    "inl rec try_item i = function\n",
    "    | Cons (x, _) when i = 0 => Some x\n",
    "    | Cons (_, xs) => try_item (i - 1) xs\n",
    "    | Nil => None"
   ]
  },
  {
   "cell_type": "code",
   "execution_count": null,
   "metadata": {
    "dotnet_interactive": {
     "language": "spiral"
    },
    "polyglot_notebook": {
     "kernelName": "spiral"
    }
   },
   "outputs": [
    {
     "name": "stdout",
     "output_type": "stream",
     "text": [
      "type [<Struct>] US0 =\n",
      "    | US0_0\n",
      "    | US0_1 of f1_0 : int32\n",
      "let rec method0 () : unit =\n",
      "    let v0 : US0 = US0_1(9)\n",
      "    let v1 : US0 = US0_1(9)\n",
      "    let v2 : string = $\"__expect / actual: %A{v0} / expected: %A{v1}\"\n",
      "    ()\n",
      "method0()\n",
      "\n"
     ]
    }
   ],
   "source": [
    "// // test\n",
    "\n",
    "listm.init 10i32 id\n",
    "|> try_item 9i32\n",
    "|> _equal (Some 9)"
   ]
  },
  {
   "cell_type": "code",
   "execution_count": null,
   "metadata": {
    "dotnet_interactive": {
     "language": "spiral"
    },
    "polyglot_notebook": {
     "kernelName": "spiral"
    }
   },
   "outputs": [
    {
     "name": "stdout",
     "output_type": "stream",
     "text": [
      "type [<Struct>] US0 =\n",
      "    | US0_0\n",
      "    | US0_1 of f1_0 : int32\n",
      "let rec method0 () : unit =\n",
      "    let v0 : US0 = US0_0\n",
      "    let v1 : US0 = US0_0\n",
      "    let v2 : string = $\"__expect / actual: %A{v0} / expected: %A{v1}\"\n",
      "    ()\n",
      "method0()\n",
      "\n"
     ]
    }
   ],
   "source": [
    "// // test\n",
    "\n",
    "listm.init 10i32 id\n",
    "|> try_item 10i32\n",
    "|> _equal None"
   ]
  },
  {
   "cell_type": "markdown",
   "metadata": {},
   "source": [
    "## list_item"
   ]
  },
  {
   "cell_type": "code",
   "execution_count": null,
   "metadata": {
    "dotnet_interactive": {
     "language": "spiral"
    },
    "polyglot_notebook": {
     "kernelName": "spiral"
    }
   },
   "outputs": [
    {
     "name": "stdout",
     "output_type": "stream",
     "text": [
      "()\n",
      "\n"
     ]
    }
   ],
   "source": [
    "inl item i =\n",
    "    try_item i >> optionm.value"
   ]
  },
  {
   "cell_type": "code",
   "execution_count": null,
   "metadata": {
    "dotnet_interactive": {
     "language": "spiral"
    },
    "polyglot_notebook": {
     "kernelName": "spiral"
    }
   },
   "outputs": [
    {
     "name": "stdout",
     "output_type": "stream",
     "text": [
      "let rec method0 () : unit =\n",
      "    let v0 : string = $\"__expect / actual: %A{9} / expected: %A{9}\"\n",
      "    ()\n",
      "method0()\n",
      "\n"
     ]
    }
   ],
   "source": [
    "// // test\n",
    "\n",
    "listm.init 10i32 id\n",
    "|> item 9i32\n",
    "|> _equal 9"
   ]
  },
  {
   "cell_type": "code",
   "execution_count": null,
   "metadata": {
    "dotnet_interactive": {
     "language": "spiral"
    },
    "polyglot_notebook": {
     "kernelName": "spiral"
    }
   },
   "outputs": [
    {
     "name": "stdout",
     "output_type": "stream",
     "text": [
      "type [<Struct>] US0 =\n",
      "    | US0_0\n",
      "    | US0_1 of f1_0 : string\n",
      "let rec closure0 () () : unit =\n",
      "    let v0 : int32 = failwith<int32> \"Option does not have a value.\"\n",
      "    ()\n",
      "and closure1 () (v0 : string) : US0 =\n",
      "    US0_1(v0)\n",
      "and method0 () : unit =\n",
      "    let v0 : (unit -> unit) = closure0()\n",
      "    let v1 : US0 = US0_0\n",
      "    let v2 : (string -> US0) = closure1()\n",
      "    let v3 : US0 = try v0 (); v1 with ex -> v2 ex.Message\n",
      "    let v4 : string = \"Option does not have a value.\"\n",
      "    let v5 : US0 = US0_1(v4)\n",
      "    let v6 : string = $\"__expect / actual: %A{v3} / expected: %A{v5}\"\n",
      "    let v10 : bool =\n",
      "        match v3 with\n",
      "        | US0_1(v8) -> (* Some *)\n",
      "            let v9 : bool = v8 = \"Option does not have a value.\"\n",
      "            v9\n",
      "        | _ ->\n",
      "            false\n",
      "    let v11 : bool = v10 = false\n",
      "    if v11 then\n",
      "        failwith<unit> v6\n",
      "method0()\n",
      "\n"
     ]
    }
   ],
   "source": [
    "// // test\n",
    "\n",
    "fun () =>\n",
    "    listm.init 10i32 id\n",
    "    |> item 10i32\n",
    "    |> ignore\n",
    "|> _throws\n",
    "|> _equal (Some \"Option does not have a value.\")"
   ]
  },
  {
   "cell_type": "markdown",
   "metadata": {},
   "source": [
    "## try_item_"
   ]
  },
  {
   "cell_type": "code",
   "execution_count": null,
   "metadata": {
    "dotnet_interactive": {
     "language": "spiral"
    },
    "polyglot_notebook": {
     "kernelName": "spiral"
    }
   },
   "outputs": [
    {
     "name": "stdout",
     "output_type": "stream",
     "text": [
      "()\n",
      "\n"
     ]
    }
   ],
   "source": [
    "let rec try_item_ i = function\n",
    "    | Cons (x, _) when i = 0 => Some x\n",
    "    | Cons (_, xs) => try_item_ (i - 1) xs\n",
    "    | Nil => None"
   ]
  },
  {
   "cell_type": "markdown",
   "metadata": {},
   "source": [
    "## item_"
   ]
  },
  {
   "cell_type": "code",
   "execution_count": null,
   "metadata": {
    "dotnet_interactive": {
     "language": "spiral"
    },
    "polyglot_notebook": {
     "kernelName": "spiral"
    }
   },
   "outputs": [
    {
     "name": "stdout",
     "output_type": "stream",
     "text": [
      "()\n",
      "\n"
     ]
    }
   ],
   "source": [
    "inl item_ i =\n",
    "    try_item_ i >> optionm.value"
   ]
  },
  {
   "cell_type": "markdown",
   "metadata": {},
   "source": [
    "## sum"
   ]
  },
  {
   "cell_type": "code",
   "execution_count": null,
   "metadata": {
    "dotnet_interactive": {
     "language": "spiral"
    },
    "polyglot_notebook": {
     "kernelName": "spiral"
    }
   },
   "outputs": [
    {
     "name": "stdout",
     "output_type": "stream",
     "text": [
      "()\n",
      "\n"
     ]
    }
   ],
   "source": [
    "inl sum list =\n",
    "    list |> listm.fold (+) 0"
   ]
  },
  {
   "cell_type": "code",
   "execution_count": null,
   "metadata": {
    "dotnet_interactive": {
     "language": "spiral"
    },
    "polyglot_notebook": {
     "kernelName": "spiral"
    }
   },
   "outputs": [
    {
     "name": "stdout",
     "output_type": "stream",
     "text": [
      "let rec method0 () : unit =\n",
      "    let v0 : string = $\"__expect / actual: %A{45} / expected: %A{45}\"\n",
      "    ()\n",
      "method0()\n",
      "\n"
     ]
    }
   ],
   "source": [
    "// // test\n",
    "\n",
    "listm.init 10i32 id\n",
    "|> sum\n",
    "|> _equal 45"
   ]
  },
  {
   "cell_type": "markdown",
   "metadata": {},
   "source": [
    "## unzip"
   ]
  },
  {
   "cell_type": "code",
   "execution_count": null,
   "metadata": {
    "dotnet_interactive": {
     "language": "spiral"
    },
    "polyglot_notebook": {
     "kernelName": "spiral"
    }
   },
   "outputs": [
    {
     "name": "stdout",
     "output_type": "stream",
     "text": [
      "()\n",
      "\n"
     ]
    }
   ],
   "source": [
    "inl unzip list =\n",
    "    (([], []), list)\n",
    "    ||> listm.fold fun (acc_x, acc_y) (x, y) =>\n",
    "        x :: acc_x, y :: acc_y\n",
    "    |> fun x, y =>\n",
    "        x |> listm.rev, y |> listm.rev"
   ]
  },
  {
   "cell_type": "code",
   "execution_count": null,
   "metadata": {
    "dotnet_interactive": {
     "language": "spiral"
    },
    "polyglot_notebook": {
     "kernelName": "spiral"
    }
   },
   "outputs": [
    {
     "name": "stdout",
     "output_type": "stream",
     "text": [
      "let rec method0 () : unit =\n",
      "    let v0 : string = $\"__expect / actual: %A{45} / expected: %A{45}\"\n",
      "    let v1 : string = $\"__expect / actual: %A{45} / expected: %A{45}\"\n",
      "    ()\n",
      "method0()\n",
      "\n"
     ]
    }
   ],
   "source": [
    "// // test\n",
    "\n",
    "listm.init 10i32 id\n",
    "|> listm.map (fun x => x, x)\n",
    "|> unzip\n",
    "|> fun x, y =>\n",
    "    x |> sum\n",
    "    |> _equal 45\n",
    "\n",
    "    y |> sum\n",
    "    |> _equal 45"
   ]
  },
  {
   "cell_type": "markdown",
   "metadata": {},
   "source": [
    "## try_index_of"
   ]
  },
  {
   "cell_type": "code",
   "execution_count": null,
   "metadata": {
    "dotnet_interactive": {
     "language": "spiral"
    },
    "polyglot_notebook": {
     "kernelName": "spiral"
    }
   },
   "outputs": [
    {
     "name": "stdout",
     "output_type": "stream",
     "text": [
      "()\n",
      "\n"
     ]
    }
   ],
   "source": [
    "inl try_index_of item list =\n",
    "    inl rec loop i = function\n",
    "        | [] => None\n",
    "        | x :: xs =>\n",
    "            if x = item\n",
    "            then Some i\n",
    "            else loop (i + 1) xs\n",
    "    loop 0 list\n",
    "\n",
    "inl index_of item =\n",
    "    try_index_of item >> optionm.value\n",
    "\n",
    "inl try_index_of_ item list =\n",
    "    let rec loop i = function\n",
    "        | [] => None\n",
    "        | x :: xs =>\n",
    "            if x = item\n",
    "            then Some i\n",
    "            else loop (i + 1) xs\n",
    "    loop 0 list\n",
    "\n",
    "inl index_of_ item =\n",
    "    try_index_of_ item >> optionm.value\n",
    "\n",
    "inl try_index_of__ item list =\n",
    "    inl i = mut 0\n",
    "    inl list = mut list\n",
    "    inl result = mut None\n",
    "    let rec loop () =\n",
    "        match *list with\n",
    "        | [] => result <- None\n",
    "        | x :: xs =>\n",
    "            if x = item\n",
    "            then result <- Some *i\n",
    "            else\n",
    "                i <- *i + 1\n",
    "                list <- xs\n",
    "                loop ()\n",
    "    loop ()\n",
    "    *result\n",
    "\n",
    "inl index_of__ item =\n",
    "    try_index_of__ item >> optionm.value"
   ]
  },
  {
   "cell_type": "code",
   "execution_count": null,
   "metadata": {
    "dotnet_interactive": {
     "language": "spiral"
    },
    "polyglot_notebook": {
     "kernelName": "spiral"
    }
   },
   "outputs": [
    {
     "name": "stdout",
     "output_type": "stream",
     "text": [
      "let rec method0 () : unit =\n",
      "    let v0 : string = $\"__expect / actual: %A{5} / expected: %A{5}\"\n",
      "    ()\n",
      "method0()\n",
      "\n"
     ]
    }
   ],
   "source": [
    "// // test\n",
    "\n",
    "listm.init 10i32 id\n",
    "|> index_of 5i32\n",
    "|> _equal 5i32"
   ]
  },
  {
   "cell_type": "code",
   "execution_count": null,
   "metadata": {
    "dotnet_interactive": {
     "language": "spiral"
    },
    "polyglot_notebook": {
     "kernelName": "spiral"
    }
   },
   "outputs": [
    {
     "name": "stdout",
     "output_type": "stream",
     "text": [
      "type [<Struct>] US0 =\n",
      "    | US0_0\n",
      "    | US0_1 of f1_0 : int32\n",
      "let rec method0 () : unit =\n",
      "    let v0 : US0 = US0_0\n",
      "    let v1 : US0 = US0_0\n",
      "    let v2 : string = $\"__expect / actual: %A{v0} / expected: %A{v1}\"\n",
      "    ()\n",
      "method0()\n",
      "\n"
     ]
    }
   ],
   "source": [
    "// // test\n",
    "\n",
    "listm.init 10i32 id\n",
    "|> try_index_of 10i32\n",
    "|> _equal (None : option i32)"
   ]
  },
  {
   "cell_type": "markdown",
   "metadata": {},
   "source": [
    "## try_find"
   ]
  },
  {
   "cell_type": "code",
   "execution_count": null,
   "metadata": {
    "dotnet_interactive": {
     "language": "spiral"
    },
    "polyglot_notebook": {
     "kernelName": "spiral"
    }
   },
   "outputs": [
    {
     "name": "stdout",
     "output_type": "stream",
     "text": [
      "()\n",
      "\n"
     ]
    }
   ],
   "source": [
    "inl try_find fn list =\n",
    "    inl rec loop = function\n",
    "        | [] => None\n",
    "        | x :: xs =>\n",
    "            if fn x\n",
    "            then Some x\n",
    "            else loop xs\n",
    "    loop list\n",
    "\n",
    "inl try_find_ fn list =\n",
    "    let rec loop = function\n",
    "        | [] => None\n",
    "        | x :: xs =>\n",
    "            if fn x\n",
    "            then Some x\n",
    "            else loop xs\n",
    "    loop list"
   ]
  },
  {
   "cell_type": "code",
   "execution_count": null,
   "metadata": {
    "dotnet_interactive": {
     "language": "spiral"
    },
    "polyglot_notebook": {
     "kernelName": "spiral"
    }
   },
   "outputs": [
    {
     "name": "stdout",
     "output_type": "stream",
     "text": [
      "type [<Struct>] US0 =\n",
      "    | US0_0\n",
      "    | US0_1 of f1_0 : int32\n",
      "let rec method0 () : unit =\n",
      "    let v0 : US0 = US0_1(5)\n",
      "    let v1 : US0 = US0_1(5)\n",
      "    let v2 : string = $\"__expect / actual: %A{v0} / expected: %A{v1}\"\n",
      "    ()\n",
      "method0()\n",
      "\n"
     ]
    }
   ],
   "source": [
    "// // test\n",
    "\n",
    "listm.init 10i32 id\n",
    "|> try_find ((=) 5i32)\n",
    "|> _equal (Some 5i32)"
   ]
  },
  {
   "cell_type": "code",
   "execution_count": null,
   "metadata": {
    "dotnet_interactive": {
     "language": "spiral"
    },
    "polyglot_notebook": {
     "kernelName": "spiral"
    }
   },
   "outputs": [
    {
     "name": "stdout",
     "output_type": "stream",
     "text": [
      "()\n",
      "\n"
     ]
    }
   ],
   "source": [
    "inl find x =\n",
    "    try_find x >> optionm.value\n",
    "\n",
    "inl find_ x =\n",
    "    try_find_ x >> optionm.value"
   ]
  },
  {
   "cell_type": "code",
   "execution_count": null,
   "metadata": {
    "dotnet_interactive": {
     "language": "spiral"
    },
    "polyglot_notebook": {
     "kernelName": "spiral"
    }
   },
   "outputs": [
    {
     "name": "stdout",
     "output_type": "stream",
     "text": [
      "let rec method0 () : unit =\n",
      "    let v0 : string = $\"__expect / actual: %A{5} / expected: %A{5}\"\n",
      "    ()\n",
      "method0()\n",
      "\n"
     ]
    }
   ],
   "source": [
    "// // test\n",
    "\n",
    "listm.init 10i32 id\n",
    "|> find ((=) 5i32)\n",
    "|> _equal 5i32"
   ]
  },
  {
   "cell_type": "markdown",
   "metadata": {},
   "source": [
    "## choose"
   ]
  },
  {
   "cell_type": "code",
   "execution_count": null,
   "metadata": {
    "dotnet_interactive": {
     "language": "spiral"
    },
    "polyglot_notebook": {
     "kernelName": "spiral"
    }
   },
   "outputs": [
    {
     "name": "stdout",
     "output_type": "stream",
     "text": [
      "()\n",
      "\n"
     ]
    }
   ],
   "source": [
    "inl choose f l =\n",
    "    (l, [])\n",
    "    ||> listm.foldBack fun x acc =>\n",
    "        match f x with\n",
    "        | Some y => y :: acc\n",
    "        | None => acc"
   ]
  },
  {
   "cell_type": "code",
   "execution_count": null,
   "metadata": {
    "dotnet_interactive": {
     "language": "spiral"
    },
    "polyglot_notebook": {
     "kernelName": "spiral"
    }
   },
   "outputs": [
    {
     "name": "stdout",
     "output_type": "stream",
     "text": [
      "type UH0 =\n",
      "    | UH0_0 of int32 * UH0\n",
      "    | UH0_1\n",
      "let rec method0 () : unit =\n",
      "    let v0 : UH0 = UH0_1\n",
      "    let v1 : UH0 = UH0_0(8, v0)\n",
      "    let v2 : UH0 = UH0_0(6, v1)\n",
      "    let v3 : UH0 = UH0_0(4, v2)\n",
      "    let v4 : UH0 = UH0_0(2, v3)\n",
      "    let v5 : UH0 = UH0_0(0, v4)\n",
      "    let v6 : UH0 = UH0_1\n",
      "    let v7 : UH0 = UH0_0(8, v6)\n",
      "    let v8 : UH0 = UH0_0(6, v7)\n",
      "    let v9 : UH0 = UH0_0(4, v8)\n",
      "    let v10 : UH0 = UH0_0(2, v9)\n",
      "    let v11 : UH0 = UH0_0(0, v10)\n",
      "    let v12 : string = $\"__expect / actual: %A{v5} / expected: %A{v11}\"\n",
      "    ()\n",
      "method0()\n",
      "\n"
     ]
    }
   ],
   "source": [
    "// // test\n",
    "\n",
    "listm.init 10i32 id\n",
    "|> choose (fun x => if x % 2 = 0 then Some x else None)\n",
    "|> _equal [ 0; 2; 4; 6; 8 ]"
   ]
  },
  {
   "cell_type": "markdown",
   "metadata": {},
   "source": [
    "## zip_with"
   ]
  },
  {
   "cell_type": "code",
   "execution_count": null,
   "metadata": {
    "dotnet_interactive": {
     "language": "spiral"
    },
    "polyglot_notebook": {
     "kernelName": "spiral"
    }
   },
   "outputs": [
    {
     "name": "stdout",
     "output_type": "stream",
     "text": [
      "()\n",
      "\n"
     ]
    }
   ],
   "source": [
    "inl zip_with fn xs ys =\n",
    "    inl rec loop acc xs ys =\n",
    "        match xs, ys with\n",
    "        | Cons (x, xs), Cons (y, ys) =>\n",
    "            loop (fn x y :: acc) xs ys\n",
    "        | _ => listm.rev acc\n",
    "    loop [] xs ys\n",
    "\n",
    "inl zip_with_ fn xs ys =\n",
    "    let rec loop acc xs ys =\n",
    "        match xs, ys with\n",
    "        | Cons (x, xs), Cons (y, ys) =>\n",
    "            loop (fn x y :: acc) xs ys\n",
    "        | _ => listm.rev acc\n",
    "    loop [] xs ys"
   ]
  },
  {
   "cell_type": "code",
   "execution_count": null,
   "metadata": {
    "dotnet_interactive": {
     "language": "spiral"
    },
    "polyglot_notebook": {
     "kernelName": "spiral"
    }
   },
   "outputs": [
    {
     "name": "stdout",
     "output_type": "stream",
     "text": [
      "type UH0 =\n",
      "    | UH0_0 of int32 * UH0\n",
      "    | UH0_1\n",
      "let rec method0 () : unit =\n",
      "    let v0 : UH0 = UH0_1\n",
      "    let v1 : UH0 = UH0_0(9, v0)\n",
      "    let v2 : UH0 = UH0_0(7, v1)\n",
      "    let v3 : UH0 = UH0_0(5, v2)\n",
      "    let v4 : UH0 = UH0_1\n",
      "    let v5 : UH0 = UH0_0(9, v4)\n",
      "    let v6 : UH0 = UH0_0(7, v5)\n",
      "    let v7 : UH0 = UH0_0(5, v6)\n",
      "    let v8 : string = $\"__expect / actual: %A{v3} / expected: %A{v7}\"\n",
      "    ()\n",
      "method0()\n",
      "\n"
     ]
    }
   ],
   "source": [
    "// // test\n",
    "\n",
    "([ 1i32; 2; 3 ], [ 4; 5; 6 ])\n",
    "||> zip_with (+)\n",
    "|> _equal [ 5; 7; 9 ]"
   ]
  },
  {
   "cell_type": "markdown",
   "metadata": {},
   "source": [
    "## zip"
   ]
  },
  {
   "cell_type": "code",
   "execution_count": null,
   "metadata": {
    "dotnet_interactive": {
     "language": "spiral"
    },
    "polyglot_notebook": {
     "kernelName": "spiral"
    }
   },
   "outputs": [
    {
     "name": "stdout",
     "output_type": "stream",
     "text": [
      "()\n",
      "\n"
     ]
    }
   ],
   "source": [
    "inl zip xs ys =\n",
    "    zip_with pair xs ys\n",
    "\n",
    "inl zip_ xs ys =\n",
    "    zip_with_ pair xs ys"
   ]
  },
  {
   "cell_type": "code",
   "execution_count": null,
   "metadata": {
    "dotnet_interactive": {
     "language": "spiral"
    },
    "polyglot_notebook": {
     "kernelName": "spiral"
    }
   },
   "outputs": [
    {
     "name": "stdout",
     "output_type": "stream",
     "text": [
      "type UH0 =\n",
      "    | UH0_0 of int32 * int32 * UH0\n",
      "    | UH0_1\n",
      "let rec method0 () : unit =\n",
      "    let v0 : UH0 = UH0_1\n",
      "    let v1 : UH0 = UH0_0(3, 6, v0)\n",
      "    let v2 : UH0 = UH0_0(2, 5, v1)\n",
      "    let v3 : UH0 = UH0_0(1, 4, v2)\n",
      "    let v4 : UH0 = UH0_1\n",
      "    let v5 : UH0 = UH0_0(3, 6, v4)\n",
      "    let v6 : UH0 = UH0_0(2, 5, v5)\n",
      "    let v7 : UH0 = UH0_0(1, 4, v6)\n",
      "    let v8 : string = $\"__expect / actual: %A{v3} / expected: %A{v7}\"\n",
      "    ()\n",
      "method0()\n",
      "\n"
     ]
    }
   ],
   "source": [
    "// // test\n",
    "\n",
    "([ 1i32; 2; 3 ], [ 4i32; 5; 6 ])\n",
    "||> zip\n",
    "|> _equal [ 1, 4; 2, 5; 3, 6 ]"
   ]
  },
  {
   "cell_type": "markdown",
   "metadata": {},
   "source": [
    "## indexed"
   ]
  },
  {
   "cell_type": "code",
   "execution_count": null,
   "metadata": {
    "dotnet_interactive": {
     "language": "spiral"
    },
    "polyglot_notebook": {
     "kernelName": "spiral"
    }
   },
   "outputs": [
    {
     "name": "stdout",
     "output_type": "stream",
     "text": [
      "()\n",
      "\n"
     ]
    }
   ],
   "source": [
    "inl indexed list =\n",
    "    (([], 0), list)\n",
    "    ||> listm.fold fun (acc, i) x =>\n",
    "        (i, x) :: acc, i + 1\n",
    "    |> fst\n",
    "    |> listm.rev"
   ]
  },
  {
   "cell_type": "code",
   "execution_count": null,
   "metadata": {
    "dotnet_interactive": {
     "language": "spiral"
    },
    "polyglot_notebook": {
     "kernelName": "spiral"
    }
   },
   "outputs": [
    {
     "name": "stdout",
     "output_type": "stream",
     "text": [
      "type UH0 =\n",
      "    | UH0_0 of int32 * int32 * UH0\n",
      "    | UH0_1\n",
      "let rec method0 () : unit =\n",
      "    let v0 : UH0 = UH0_1\n",
      "    let v1 : UH0 = UH0_0(4, 8, v0)\n",
      "    let v2 : UH0 = UH0_0(3, 6, v1)\n",
      "    let v3 : UH0 = UH0_0(2, 4, v2)\n",
      "    let v4 : UH0 = UH0_0(1, 2, v3)\n",
      "    let v5 : UH0 = UH0_0(0, 0, v4)\n",
      "    let v6 : UH0 = UH0_1\n",
      "    let v7 : UH0 = UH0_0(4, 8, v6)\n",
      "    let v8 : UH0 = UH0_0(3, 6, v7)\n",
      "    let v9 : UH0 = UH0_0(2, 4, v8)\n",
      "    let v10 : UH0 = UH0_0(1, 2, v9)\n",
      "    let v11 : UH0 = UH0_0(0, 0, v10)\n",
      "    let v12 : string = $\"__expect / actual: %A{v5} / expected: %A{v11}\"\n",
      "    ()\n",
      "method0()\n",
      "\n"
     ]
    }
   ],
   "source": [
    "// // test\n",
    "\n",
    "listm.init 5i32 ((*) 2)\n",
    "|> indexed\n",
    "|> _equal [ 0i32, 0; 1, 2; 2, 4; 3, 6; 4, 8 ]"
   ]
  },
  {
   "cell_type": "markdown",
   "metadata": {},
   "source": [
    "## group_by"
   ]
  },
  {
   "cell_type": "code",
   "execution_count": null,
   "metadata": {
    "dotnet_interactive": {
     "language": "spiral"
    },
    "polyglot_notebook": {
     "kernelName": "spiral"
    }
   },
   "outputs": [
    {
     "name": "stdout",
     "output_type": "stream",
     "text": [
      "()\n",
      "\n"
     ]
    }
   ],
   "source": [
    "inl group_by fn list =\n",
    "    (list, [])\n",
    "    ||> listm.foldBack fun x acc =>\n",
    "        inl xk = fn x\n",
    "        inl found, new_acc =\n",
    "            ((false, []), acc)\n",
    "            ||> listm.fold fun (found, acc') (k, xs) =>\n",
    "                if k = xk\n",
    "                then true, (k, x :: xs) :: acc'\n",
    "                else found, (k, xs) :: acc'\n",
    "        if found\n",
    "        then new_acc\n",
    "        else (xk, [ x ]) :: new_acc"
   ]
  },
  {
   "cell_type": "code",
   "execution_count": null,
   "metadata": {
    "dotnet_interactive": {
     "language": "spiral"
    },
    "polyglot_notebook": {
     "kernelName": "spiral"
    }
   },
   "outputs": [
    {
     "name": "stdout",
     "output_type": "stream",
     "text": [
      "type UH0 =\n",
      "    | UH0_0 of int32 * UH0\n",
      "    | UH0_1\n",
      "and UH1 =\n",
      "    | UH1_0 of bool * UH0 * UH1\n",
      "    | UH1_1\n",
      "let rec method0 () : unit =\n",
      "    let v0 : UH0 = UH0_1\n",
      "    let v1 : UH0 = UH0_0(8, v0)\n",
      "    let v2 : UH0 = UH0_0(6, v1)\n",
      "    let v3 : UH0 = UH0_0(4, v2)\n",
      "    let v4 : UH0 = UH0_0(2, v3)\n",
      "    let v5 : UH0 = UH0_0(0, v4)\n",
      "    let v6 : UH0 = UH0_1\n",
      "    let v7 : UH0 = UH0_0(9, v6)\n",
      "    let v8 : UH0 = UH0_0(7, v7)\n",
      "    let v9 : UH0 = UH0_0(5, v8)\n",
      "    let v10 : UH0 = UH0_0(3, v9)\n",
      "    let v11 : UH0 = UH0_0(1, v10)\n",
      "    let v12 : UH1 = UH1_1\n",
      "    let v13 : UH1 = UH1_0(false, v11, v12)\n",
      "    let v14 : UH1 = UH1_0(true, v5, v13)\n",
      "    let v15 : UH0 = UH0_1\n",
      "    let v16 : UH0 = UH0_0(8, v15)\n",
      "    let v17 : UH0 = UH0_0(6, v16)\n",
      "    let v18 : UH0 = UH0_0(4, v17)\n",
      "    let v19 : UH0 = UH0_0(2, v18)\n",
      "    let v20 : UH0 = UH0_0(0, v19)\n",
      "    let v21 : UH0 = UH0_1\n",
      "    let v22 : UH0 = UH0_0(9, v21)\n",
      "    let v23 : UH0 = UH0_0(7, v22)\n",
      "    let v24 : UH0 = UH0_0(5, v23)\n",
      "    let v25 : UH0 = UH0_0(3, v24)\n",
      "    let v26 : UH0 = UH0_0(1, v25)\n",
      "    let v27 : UH1 = UH1_1\n",
      "    let v28 : UH1 = UH1_0(false, v26, v27)\n",
      "    let v29 : UH1 = UH1_0(true, v20, v28)\n",
      "    let v30 : string = $\"__expect / actual: %A{v14} / expected: %A{v29}\"\n",
      "    ()\n",
      "method0()\n",
      "\n"
     ]
    }
   ],
   "source": [
    "// // test\n",
    "\n",
    "listm.init 10i32 id\n",
    "|> group_by (fun x => x % 2 = 0)\n",
    "|> _equal [ true, [ 0; 2; 4; 6; 8 ]; false, [ 1; 3; 5; 7; 9 ] ]"
   ]
  },
  {
   "cell_type": "markdown",
   "metadata": {},
   "source": [
    "## forall'"
   ]
  },
  {
   "cell_type": "code",
   "execution_count": null,
   "metadata": {
    "dotnet_interactive": {
     "language": "spiral"
    },
    "polyglot_notebook": {
     "kernelName": "spiral"
    }
   },
   "outputs": [
    {
     "name": "stdout",
     "output_type": "stream",
     "text": [
      "()\n",
      "\n"
     ]
    }
   ],
   "source": [
    "inl forall' fn (head :: tail) =\n",
    "    (true, tail)\n",
    "    ||> listm.fold fun acc x =>\n",
    "        acc && x = head"
   ]
  },
  {
   "cell_type": "code",
   "execution_count": null,
   "metadata": {
    "dotnet_interactive": {
     "language": "spiral"
    },
    "polyglot_notebook": {
     "kernelName": "spiral"
    }
   },
   "outputs": [
    {
     "name": "stdout",
     "output_type": "stream",
     "text": [
      "let rec method0 () : unit =\n",
      "    let v0 : string = $\"__expect / actual: %A{true} / expected: %A{true}\"\n",
      "    ()\n",
      "method0()\n",
      "\n"
     ]
    }
   ],
   "source": [
    "// // test\n",
    "\n",
    "[ 1i32; 1; 1; 1; 1 ]\n",
    "|> forall' ((=) 1i32)\n",
    "|> _equal true"
   ]
  },
  {
   "cell_type": "markdown",
   "metadata": {},
   "source": [
    "## last"
   ]
  },
  {
   "cell_type": "code",
   "execution_count": null,
   "metadata": {
    "dotnet_interactive": {
     "language": "spiral"
    },
    "polyglot_notebook": {
     "kernelName": "spiral"
    }
   },
   "outputs": [
    {
     "name": "stdout",
     "output_type": "stream",
     "text": [
      "()\n",
      "\n"
     ]
    }
   ],
   "source": [
    "inl last list =\n",
    "    list\n",
    "    |> listm.rev\n",
    "    |> item 0i32"
   ]
  },
  {
   "cell_type": "code",
   "execution_count": null,
   "metadata": {
    "dotnet_interactive": {
     "language": "spiral"
    },
    "polyglot_notebook": {
     "kernelName": "spiral"
    }
   },
   "outputs": [
    {
     "name": "stdout",
     "output_type": "stream",
     "text": [
      "let rec method0 () : unit =\n",
      "    let v0 : string = $\"__expect / actual: %A{9} / expected: %A{9}\"\n",
      "    ()\n",
      "method0()\n",
      "\n"
     ]
    }
   ],
   "source": [
    "// // test\n",
    "\n",
    "listm.init 10i32 id\n",
    "|> last\n",
    "|> _equal 9"
   ]
  },
  {
   "cell_type": "markdown",
   "metadata": {},
   "source": [
    "## try_pick"
   ]
  },
  {
   "cell_type": "code",
   "execution_count": null,
   "metadata": {
    "dotnet_interactive": {
     "language": "spiral"
    },
    "polyglot_notebook": {
     "kernelName": "spiral"
    }
   },
   "outputs": [
    {
     "name": "stdout",
     "output_type": "stream",
     "text": [
      "()\n",
      "\n"
     ]
    }
   ],
   "source": [
    "inl try_pick fn list =\n",
    "    inl rec body fn = function\n",
    "        | [] => None\n",
    "        | x :: xs =>\n",
    "            match fn x with\n",
    "            | Some y => Some y\n",
    "            | None => loop xs\n",
    "    and inl loop list =\n",
    "        if var_is list |> not\n",
    "        then body fn list\n",
    "        else\n",
    "            inl fn = join fn\n",
    "            inl list = dyn list\n",
    "            join body fn list\n",
    "    loop list"
   ]
  },
  {
   "cell_type": "code",
   "execution_count": null,
   "metadata": {
    "dotnet_interactive": {
     "language": "spiral"
    },
    "polyglot_notebook": {
     "kernelName": "spiral"
    }
   },
   "outputs": [
    {
     "name": "stdout",
     "output_type": "stream",
     "text": [
      "type [<Struct>] US0 =\n",
      "    | US0_0\n",
      "    | US0_1 of f1_0 : int32\n",
      "let rec method0 () : unit =\n",
      "    let v0 : US0 = US0_1(5)\n",
      "    let v1 : US0 = US0_1(5)\n",
      "    let v2 : string = $\"__expect / actual: %A{v0} / expected: %A{v1}\"\n",
      "    ()\n",
      "method0()\n",
      "\n"
     ]
    }
   ],
   "source": [
    "// // test\n",
    "\n",
    "listm.init 10i32 id\n",
    "|> try_pick (fun x => if x = 5i32 then Some x else None)\n",
    "|> _equal (Some 5i32)"
   ]
  }
 ],
 "metadata": {},
 "nbformat": 4,
 "nbformat_minor": 5
}