{
 "cells": [
  {
   "cell_type": "markdown",
   "metadata": {},
   "source": [
    "# listm"
   ]
  },
  {
   "cell_type": "code",
   "execution_count": null,
   "metadata": {
    "dotnet_interactive": {
     "language": "spiral"
    },
    "polyglot_notebook": {
     "kernelName": "spiral"
    }
   },
   "outputs": [
    {
     "name": "stdout",
     "output_type": "stream",
     "text": [
      "()\n",
      "\n"
     ]
    }
   ],
   "source": [
    "//// test\n",
    "\n",
    "open testing"
   ]
  },
  {
   "cell_type": "markdown",
   "metadata": {},
   "source": [
    "## list'"
   ]
  },
  {
   "cell_type": "code",
   "execution_count": null,
   "metadata": {
    "dotnet_interactive": {
     "language": "spiral"
    },
    "polyglot_notebook": {
     "kernelName": "spiral"
    }
   },
   "outputs": [
    {
     "name": "stdout",
     "output_type": "stream",
     "text": [
      "()\n",
      "\n"
     ]
    }
   ],
   "source": [
    "nominal list' t = $'`t list'"
   ]
  },
  {
   "cell_type": "code",
   "execution_count": null,
   "metadata": {
    "dotnet_interactive": {
     "language": "spiral"
    },
    "polyglot_notebook": {
     "kernelName": "spiral"
    }
   },
   "outputs": [
    {
     "name": "stdout",
     "output_type": "stream",
     "text": [
      "()\n",
      "\n"
     ]
    }
   ],
   "source": [
    "inl empty' forall t. () : list' t =\n",
    "    $'[]'"
   ]
  },
  {
   "cell_type": "code",
   "execution_count": null,
   "metadata": {
    "dotnet_interactive": {
     "language": "spiral"
    },
    "polyglot_notebook": {
     "kernelName": "spiral"
    }
   },
   "outputs": [
    {
     "name": "stdout",
     "output_type": "stream",
     "text": [
      "()\n",
      "\n"
     ]
    }
   ],
   "source": [
    "inl cons' forall t. (head : t) (tail : list' t) : list' t =\n",
    "    $'!head :: !tail '"
   ]
  },
  {
   "cell_type": "markdown",
   "metadata": {},
   "source": [
    "## box"
   ]
  },
  {
   "cell_type": "code",
   "execution_count": null,
   "metadata": {
    "dotnet_interactive": {
     "language": "spiral"
    },
    "polyglot_notebook": {
     "kernelName": "spiral"
    }
   },
   "outputs": [
    {
     "name": "stdout",
     "output_type": "stream",
     "text": [
      "()\n",
      "\n"
     ]
    }
   ],
   "source": [
    "inl box forall t. (list : list t) : list' t =\n",
    "    (list, empty' ())\n",
    "    ||> listm.foldBack fun x acc =>\n",
    "        acc |> cons' x"
   ]
  },
  {
   "cell_type": "markdown",
   "metadata": {},
   "source": [
    "## fold'"
   ]
  },
  {
   "cell_type": "code",
   "execution_count": null,
   "metadata": {
    "dotnet_interactive": {
     "language": "spiral"
    },
    "polyglot_notebook": {
     "kernelName": "spiral"
    }
   },
   "outputs": [
    {
     "name": "stdout",
     "output_type": "stream",
     "text": [
      "()\n",
      "\n"
     ]
    }
   ],
   "source": [
    "inl fold' forall t u. (fn : t -> u) (init : list u) (list : list' t) : list u =\n",
    "    (init, list)\n",
    "    ||> $'List.fold' join fun acc x => Cons (fn x, acc)"
   ]
  },
  {
   "cell_type": "markdown",
   "metadata": {},
   "source": [
    "## fold_back'"
   ]
  },
  {
   "cell_type": "code",
   "execution_count": null,
   "metadata": {
    "dotnet_interactive": {
     "language": "spiral"
    },
    "polyglot_notebook": {
     "kernelName": "spiral"
    }
   },
   "outputs": [
    {
     "name": "stdout",
     "output_type": "stream",
     "text": [
      "()\n",
      "\n"
     ]
    }
   ],
   "source": [
    "inl fold_back' forall t u. (fn : t -> u) (list : list' t) (init : list u) : list u =\n",
    "    (list, init)\n",
    "    ||> $'List.foldBack' join fun x acc => Cons (fn x, acc)"
   ]
  },
  {
   "cell_type": "markdown",
   "metadata": {},
   "source": [
    "## filter'"
   ]
  },
  {
   "cell_type": "code",
   "execution_count": null,
   "metadata": {
    "dotnet_interactive": {
     "language": "spiral"
    },
    "polyglot_notebook": {
     "kernelName": "spiral"
    }
   },
   "outputs": [
    {
     "name": "stdout",
     "output_type": "stream",
     "text": [
      "()\n",
      "\n"
     ]
    }
   ],
   "source": [
    "inl filter' forall t. (fn : t -> bool) (list : list' t) : list' t =\n",
    "    list |> $'\"List.filter !fn\"'"
   ]
  },
  {
   "cell_type": "markdown",
   "metadata": {},
   "source": [
    "## filter"
   ]
  },
  {
   "cell_type": "code",
   "execution_count": null,
   "metadata": {
    "dotnet_interactive": {
     "language": "spiral"
    },
    "polyglot_notebook": {
     "kernelName": "spiral"
    }
   },
   "outputs": [
    {
     "name": "stdout",
     "output_type": "stream",
     "text": [
      "()\n",
      "\n"
     ]
    }
   ],
   "source": [
    "inl filter forall t. (fn : t -> bool) (list : list t) : list t =\n",
    "    (list, Nil)\n",
    "    ||> listm.foldBack fun x acc =>\n",
    "        if fn x then x :: acc else acc"
   ]
  },
  {
   "cell_type": "markdown",
   "metadata": {},
   "source": [
    "## unbox"
   ]
  },
  {
   "cell_type": "code",
   "execution_count": null,
   "metadata": {
    "dotnet_interactive": {
     "language": "spiral"
    },
    "polyglot_notebook": {
     "kernelName": "spiral"
    }
   },
   "outputs": [
    {
     "name": "stdout",
     "output_type": "stream",
     "text": [
      "()\n",
      "\n"
     ]
    }
   ],
   "source": [
    "inl unbox forall t. (list : list' t) : list t =\n",
    "    (list, Nil)\n",
    "    ||> fold_back' id"
   ]
  },
  {
   "cell_type": "markdown",
   "metadata": {},
   "source": [
    "## distinct'"
   ]
  },
  {
   "cell_type": "code",
   "execution_count": null,
   "metadata": {
    "dotnet_interactive": {
     "language": "spiral"
    },
    "polyglot_notebook": {
     "kernelName": "spiral"
    }
   },
   "outputs": [
    {
     "name": "stdout",
     "output_type": "stream",
     "text": [
      "()\n",
      "\n"
     ]
    }
   ],
   "source": [
    "inl distinct' forall t. (list : list' t) : list' t =\n",
    "    list |> $'List.distinct'"
   ]
  },
  {
   "cell_type": "code",
   "execution_count": null,
   "metadata": {
    "dotnet_interactive": {
     "language": "spiral"
    },
    "polyglot_notebook": {
     "kernelName": "spiral"
    }
   },
   "outputs": [
    {
     "name": "stdout",
     "output_type": "stream",
     "text": [
      "type UH0 =\n",
      "    | UH0_0\n",
      "    | UH0_1 of string * UH0\n",
      "let rec closure1 (v0 : string) (v1 : UH0) : UH0 =\n",
      "    UH0_1(v0, v1)\n",
      "and closure0 () (v0 : string) : (UH0 -> UH0) =\n",
      "    closure1(v0)\n",
      "and method1 () : (string -> (UH0 -> UH0)) =\n",
      "    closure0()\n",
      "and method2 (v0 : bool) : bool =\n",
      "    v0\n",
      "and method0 () : unit =\n",
      "    let v0 : string list = []\n",
      "    let v1 : string = \"3\"\n",
      "    let v2 : string list = v1 :: v0 \n",
      "    let v3 : string = \"2\"\n",
      "    let v4 : string list = v3 :: v2 \n",
      "    let v5 : string list = v3 :: v4 \n",
      "    let v6 : string = \"1\"\n",
      "    let v7 : string list = v6 :: v5 \n",
      "    let v8 : (string list -> string list) = List.distinct\n",
      "    let v9 : string list = v8 v7\n",
      "    let v10 : ((string -> (UH0 -> UH0)) -> (string list -> (UH0 -> UH0))) = List.foldBack\n",
      "    let v11 : (string -> (UH0 -> UH0)) = method1()\n",
      "    let v12 : (string list -> (UH0 -> UH0)) = v10 v11\n",
      "    let v13 : (UH0 -> UH0) = v12 v9\n",
      "    let v14 : UH0 = UH0_0\n",
      "    let v15 : UH0 = v13 v14\n",
      "    let v35 : bool =\n",
      "        match v15 with\n",
      "        | UH0_1(v20, v21) -> (* Cons *)\n",
      "            let v22 : bool = v20 = \"1\"\n",
      "            if v22 then\n",
      "                match v21 with\n",
      "                | UH0_1(v23, v24) -> (* Cons *)\n",
      "                    let v25 : bool = v23 = \"2\"\n",
      "                    if v25 then\n",
      "                        match v24 with\n",
      "                        | UH0_1(v26, v27) -> (* Cons *)\n",
      "                            let v28 : bool = v26 = \"3\"\n",
      "                            if v28 then\n",
      "                                match v27 with\n",
      "                                | UH0_0 -> (* Nil *)\n",
      "                                    true\n",
      "                                | _ ->\n",
      "                                    false\n",
      "                            else\n",
      "                                false\n",
      "                        | _ ->\n",
      "                            false\n",
      "                    else\n",
      "                        false\n",
      "                | _ ->\n",
      "                    false\n",
      "            else\n",
      "                false\n",
      "        | _ ->\n",
      "            false\n",
      "    let v37 : bool =\n",
      "        if v35 then\n",
      "            true\n",
      "        else\n",
      "            method2(v35)\n",
      "    let v38 : string = \"assert_eq\"\n",
      "    let v39 : UH0 = UH0_0\n",
      "    let v40 : UH0 = UH0_1(v1, v39)\n",
      "    let v41 : UH0 = UH0_1(v3, v40)\n",
      "    let v42 : UH0 = UH0_1(v6, v41)\n",
      "    let v43 : string = $\"{v38} / actual: %A{v15} / expected: %A{v42}\"\n",
      "    System.Console.WriteLine v43\n",
      "    let v44 : bool = v37 = false\n",
      "    if v44 then\n",
      "        failwith<unit> v43\n",
      "method0()\n",
      "\n",
      "assert_eq / actual: UH0_1 (\"1\", UH0_1 (\"2\", UH0_1 (\"3\", UH0_0))) / expected: UH0_1 (\"1\", UH0_1 (\"2\", UH0_1 (\"3\", UH0_0)))\n"
     ]
    }
   ],
   "source": [
    "//// test\n",
    "\n",
    "[ \"1\"; \"2\"; \"2\"; \"3\" ]\n",
    "|> box\n",
    "|> distinct'\n",
    "|> unbox\n",
    "|> _assert_eq [ \"1\"; \"2\"; \"3\" ]"
   ]
  },
  {
   "cell_type": "markdown",
   "metadata": {},
   "source": [
    "## to_array'"
   ]
  },
  {
   "cell_type": "code",
   "execution_count": null,
   "metadata": {
    "dotnet_interactive": {
     "language": "spiral"
    },
    "polyglot_notebook": {
     "kernelName": "spiral"
    }
   },
   "outputs": [
    {
     "name": "stdout",
     "output_type": "stream",
     "text": [
      "()\n",
      "\n"
     ]
    }
   ],
   "source": [
    "inl to_array' forall dim t. (items : list' t) : a dim t =\n",
    "    items |> $'List.toArray'"
   ]
  },
  {
   "cell_type": "markdown",
   "metadata": {},
   "source": [
    "## append"
   ]
  },
  {
   "cell_type": "code",
   "execution_count": null,
   "metadata": {
    "dotnet_interactive": {
     "language": "spiral"
    },
    "polyglot_notebook": {
     "kernelName": "spiral"
    }
   },
   "outputs": [
    {
     "name": "stdout",
     "output_type": "stream",
     "text": [
      "()\n",
      "\n"
     ]
    }
   ],
   "source": [
    "instance append list t =\n",
    "    listm.append"
   ]
  },
  {
   "cell_type": "code",
   "execution_count": null,
   "metadata": {
    "dotnet_interactive": {
     "language": "spiral"
    },
    "polyglot_notebook": {
     "kernelName": "spiral"
    }
   },
   "outputs": [
    {
     "name": "stdout",
     "output_type": "stream",
     "text": [
      "type UH0 =\n",
      "    | UH0_0\n",
      "    | UH0_1 of string * UH0\n",
      "let rec method0 () : unit =\n",
      "    let v43 : string = \"assert_eq\"\n",
      "    let v44 : string = \"a\"\n",
      "    let v45 : string = \"b\"\n",
      "    let v46 : string = \"c\"\n",
      "    let v47 : string = \"d\"\n",
      "    let v48 : UH0 = UH0_0\n",
      "    let v49 : UH0 = UH0_1(v47, v48)\n",
      "    let v50 : UH0 = UH0_1(v46, v49)\n",
      "    let v51 : UH0 = UH0_1(v45, v50)\n",
      "    let v52 : UH0 = UH0_1(v44, v51)\n",
      "    let v53 : UH0 = UH0_0\n",
      "    let v54 : UH0 = UH0_1(v47, v53)\n",
      "    let v55 : UH0 = UH0_1(v46, v54)\n",
      "    let v56 : UH0 = UH0_1(v45, v55)\n",
      "    let v57 : UH0 = UH0_1(v44, v56)\n",
      "    let v58 : string = $\"{v43} / actual: %A{v52} / expected: %A{v57}\"\n",
      "    System.Console.WriteLine v58\n",
      "    ()\n",
      "method0()\n",
      "\n",
      "assert_eq / actual: UH0_1 (\"a\", UH0_1 (\"b\", UH0_1 (\"c\", UH0_1 (\"d\", UH0_0)))) / expected: UH0_1 (\"a\", UH0_1 (\"b\", UH0_1 (\"c\", UH0_1 (\"d\", UH0_0))))\n"
     ]
    }
   ],
   "source": [
    "//// test\n",
    "\n",
    "[ \"a\"; \"b\" ] ++ [ \"c\"; \"d\" ]\n",
    "|> _assert_eq [ \"a\"; \"b\"; \"c\"; \"d\" ]"
   ]
  },
  {
   "cell_type": "markdown",
   "metadata": {},
   "source": [
    "## collect"
   ]
  },
  {
   "cell_type": "code",
   "execution_count": null,
   "metadata": {
    "dotnet_interactive": {
     "language": "spiral"
    },
    "polyglot_notebook": {
     "kernelName": "spiral"
    }
   },
   "outputs": [
    {
     "name": "stdout",
     "output_type": "stream",
     "text": [
      "()\n",
      "\n"
     ]
    }
   ],
   "source": [
    "inl collect forall t r. (fn : t -> list r) (items : list t) : list r =\n",
    "    items\n",
    "    |> listm.map fn\n",
    "    |> listm.fold (++) []"
   ]
  },
  {
   "cell_type": "markdown",
   "metadata": {},
   "source": [
    "## init_series"
   ]
  },
  {
   "cell_type": "code",
   "execution_count": null,
   "metadata": {
    "dotnet_interactive": {
     "language": "spiral"
    },
    "polyglot_notebook": {
     "kernelName": "spiral"
    }
   },
   "outputs": [
    {
     "name": "stdout",
     "output_type": "stream",
     "text": [
      "()\n",
      "\n"
     ]
    }
   ],
   "source": [
    "inl init_series start end inc =\n",
    "    inl total : f64 = conv ((end - start) / inc) + 1\n",
    "    listm.init total (conv >> (*) inc >> (+) start)"
   ]
  },
  {
   "cell_type": "code",
   "execution_count": null,
   "metadata": {
    "dotnet_interactive": {
     "language": "spiral"
    },
    "polyglot_notebook": {
     "kernelName": "spiral"
    }
   },
   "outputs": [
    {
     "name": "stdout",
     "output_type": "stream",
     "text": [
      "type UH0 =\n",
      "    | UH0_0\n",
      "    | UH0_1 of float * UH0\n",
      "let rec method0 () : unit =\n",
      "    let v18 : string = \"assert_eq\"\n",
      "    let v19 : UH0 = UH0_0\n",
      "    let v20 : UH0 = UH0_1(1.0, v19)\n",
      "    let v21 : UH0 = UH0_1(0.5, v20)\n",
      "    let v22 : UH0 = UH0_1(0.0, v21)\n",
      "    let v23 : UH0 = UH0_0\n",
      "    let v24 : UH0 = UH0_1(1.0, v23)\n",
      "    let v25 : UH0 = UH0_1(0.5, v24)\n",
      "    let v26 : UH0 = UH0_1(0.0, v25)\n",
      "    let v27 : string = $\"{v18} / actual: %A{v22} / expected: %A{v26}\"\n",
      "    System.Console.WriteLine v27\n",
      "    ()\n",
      "method0()\n",
      "\n",
      "assert_eq / actual: UH0_1 (0.0, UH0_1 (0.5, UH0_1 (1.0, UH0_0))) / expected: UH0_1 (0.0, UH0_1 (0.5, UH0_1 (1.0, UH0_0)))\n"
     ]
    }
   ],
   "source": [
    "//// test\n",
    "\n",
    "init_series 0 1 0.5\n",
    "|> _assert_eq [ 0f64; 0.5; 1 ]"
   ]
  },
  {
   "cell_type": "markdown",
   "metadata": {},
   "source": [
    "## try_item"
   ]
  },
  {
   "cell_type": "code",
   "execution_count": null,
   "metadata": {
    "dotnet_interactive": {
     "language": "spiral"
    },
    "polyglot_notebook": {
     "kernelName": "spiral"
    }
   },
   "outputs": [
    {
     "name": "stdout",
     "output_type": "stream",
     "text": [
      "()\n",
      "\n"
     ]
    }
   ],
   "source": [
    "inl rec try_item i = function\n",
    "    | Cons (x, _) when i = 0 => Some x\n",
    "    | Cons (_, xs) => try_item (i - 1) xs\n",
    "    | Nil => None"
   ]
  },
  {
   "cell_type": "code",
   "execution_count": null,
   "metadata": {
    "dotnet_interactive": {
     "language": "spiral"
    },
    "polyglot_notebook": {
     "kernelName": "spiral"
    }
   },
   "outputs": [
    {
     "name": "stdout",
     "output_type": "stream",
     "text": [
      "type [<Struct>] US0 =\n",
      "    | US0_0 of f0_0 : int32\n",
      "    | US0_1\n",
      "let rec method0 () : unit =\n",
      "    let v3 : string = \"assert_eq\"\n",
      "    let v4 : US0 = US0_0(9)\n",
      "    let v5 : US0 = US0_0(9)\n",
      "    let v6 : string = $\"{v3} / actual: %A{v4} / expected: %A{v5}\"\n",
      "    System.Console.WriteLine v6\n",
      "    ()\n",
      "method0()\n",
      "\n",
      "assert_eq / actual: US0_0 9 / expected: US0_0 9\n"
     ]
    }
   ],
   "source": [
    "//// test\n",
    "\n",
    "listm.init 10i32 id\n",
    "|> try_item 9i32\n",
    "|> _assert_eq (Some 9)"
   ]
  },
  {
   "cell_type": "code",
   "execution_count": null,
   "metadata": {
    "dotnet_interactive": {
     "language": "spiral"
    },
    "polyglot_notebook": {
     "kernelName": "spiral"
    }
   },
   "outputs": [
    {
     "name": "stdout",
     "output_type": "stream",
     "text": [
      "type [<Struct>] US0 =\n",
      "    | US0_0 of f0_0 : int32\n",
      "    | US0_1\n",
      "let rec method0 () : unit =\n",
      "    let v3 : string = \"assert_eq\"\n",
      "    let v4 : US0 = US0_1\n",
      "    let v5 : US0 = US0_1\n",
      "    let v6 : string = $\"{v3} / actual: %A{v4} / expected: %A{v5}\"\n",
      "    System.Console.WriteLine v6\n",
      "    ()\n",
      "method0()\n",
      "\n",
      "assert_eq / actual: US0_1 / expected: US0_1\n"
     ]
    }
   ],
   "source": [
    "//// test\n",
    "\n",
    "listm.init 10i32 id\n",
    "|> try_item 10i32\n",
    "|> _assert_eq None"
   ]
  },
  {
   "cell_type": "markdown",
   "metadata": {},
   "source": [
    "## list_item"
   ]
  },
  {
   "cell_type": "code",
   "execution_count": null,
   "metadata": {
    "dotnet_interactive": {
     "language": "spiral"
    },
    "polyglot_notebook": {
     "kernelName": "spiral"
    }
   },
   "outputs": [
    {
     "name": "stdout",
     "output_type": "stream",
     "text": [
      "()\n",
      "\n"
     ]
    }
   ],
   "source": [
    "inl item i =\n",
    "    try_item i >> optionm.value"
   ]
  },
  {
   "cell_type": "code",
   "execution_count": null,
   "metadata": {
    "dotnet_interactive": {
     "language": "spiral"
    },
    "polyglot_notebook": {
     "kernelName": "spiral"
    }
   },
   "outputs": [
    {
     "name": "stdout",
     "output_type": "stream",
     "text": [
      "let rec method0 () : unit =\n",
      "    let v0 : string = \"assert_eq\"\n",
      "    let v1 : string = $\"{v0} / actual: %A{9} / expected: %A{9}\"\n",
      "    System.Console.WriteLine v1\n",
      "    ()\n",
      "method0()\n",
      "\n",
      "assert_eq / actual: 9 / expected: 9\n"
     ]
    }
   ],
   "source": [
    "//// test\n",
    "\n",
    "listm.init 10i32 id\n",
    "|> item 9i32\n",
    "|> _assert_eq 9"
   ]
  },
  {
   "cell_type": "code",
   "execution_count": null,
   "metadata": {
    "dotnet_interactive": {
     "language": "spiral"
    },
    "polyglot_notebook": {
     "kernelName": "spiral"
    }
   },
   "outputs": [
    {
     "name": "stdout",
     "output_type": "stream",
     "text": [
      "type [<Struct>] US0 =\n",
      "    | US0_0 of f0_0 : exn\n",
      "    | US0_1\n",
      "and [<Struct>] US1 =\n",
      "    | US1_0 of f0_0 : string\n",
      "    | US1_1\n",
      "let rec closure0 () () : unit =\n",
      "    let v0 : int32 = failwith<int32> \"Option does not have a value.\"\n",
      "    ()\n",
      "and closure1 () (v0 : exn) : US0 =\n",
      "    US0_0(v0)\n",
      "and method1 (v0 : bool) : bool =\n",
      "    v0\n",
      "and method0 () : unit =\n",
      "    let v0 : (unit -> unit) = closure0()\n",
      "    let v1 : US0 = US0_1\n",
      "    let v2 : (exn -> US0) = closure1()\n",
      "    let v3 : US0 = try v0 (); v1 with ex -> ex |> v2\n",
      "    let v16 : US1 =\n",
      "        match v3 with\n",
      "        | US0_1 -> (* None *)\n",
      "            US1_1\n",
      "        | US0_0(v4) -> (* Some *)\n",
      "            let v5 : bool = true\n",
      "            let mutable _v5 : string option = None \n",
      "            \n",
      "#if FABLE_COMPILER || WASM || CONTRACT\n",
      "            \n",
      "#if FABLE_COMPILER_RUST && !WASM && !CONTRACT\n",
      "            let v6 : string = $\"%A{v4}\"\n",
      "            v6 \n",
      "            #endif\n",
      "#if FABLE_COMPILER_RUST && WASM\n",
      "            let v7 : string = $\"%A{v4}\"\n",
      "            v7 \n",
      "            #endif\n",
      "#if FABLE_COMPILER_RUST && CONTRACT\n",
      "            let v8 : string = $\"%A{v4}\"\n",
      "            v8 \n",
      "            #endif\n",
      "#if FABLE_COMPILER_TYPESCRIPT\n",
      "            let v9 : string = $\"%A{v4}\"\n",
      "            v9 \n",
      "            #endif\n",
      "#if FABLE_COMPILER_PYTHON\n",
      "            let v10 : string = $\"%A{v4}\"\n",
      "            v10 \n",
      "            #endif\n",
      "#else\n",
      "            let v11 : string = $\"{v4.GetType ()}: {v4.Message}\"\n",
      "            v11 \n",
      "            #endif\n",
      "            |> fun x -> _v5 <- Some x\n",
      "            let v12 : string = _v5.Value\n",
      "            US1_0(v12)\n",
      "    let v21 : bool =\n",
      "        match v16 with\n",
      "        | US1_0(v19) -> (* Some *)\n",
      "            let v20 : bool = v19 = \"System.Exception: Option does not have a value.\"\n",
      "            v20\n",
      "        | _ ->\n",
      "            false\n",
      "    let v23 : bool =\n",
      "        if v21 then\n",
      "            true\n",
      "        else\n",
      "            method1(v21)\n",
      "    let v24 : string = \"assert_eq\"\n",
      "    let v25 : string = \"System.Exception: Option does not have a value.\"\n",
      "    let v26 : US1 = US1_0(v25)\n",
      "    let v27 : string = $\"{v24} / actual: %A{v16} / expected: %A{v26}\"\n",
      "    System.Console.WriteLine v27\n",
      "    let v28 : bool = v23 = false\n",
      "    if v28 then\n",
      "        failwith<unit> v27\n",
      "method0()\n",
      "\n",
      "assert_eq / actual: US1_0 \"System.Exception: Option does not have a value.\" / expected: US1_0 \"System.Exception: Option does not have a value.\"\n"
     ]
    }
   ],
   "source": [
    "//// test\n",
    "\n",
    "fun () =>\n",
    "    listm.init 10i32 id\n",
    "    |> item 10i32\n",
    "    |> ignore\n",
    "|> _throws\n",
    "|> optionm.map sm'.format_exception\n",
    "|> _assert_eq (Some \"System.Exception: Option does not have a value.\")"
   ]
  },
  {
   "cell_type": "markdown",
   "metadata": {},
   "source": [
    "## try_item_"
   ]
  },
  {
   "cell_type": "code",
   "execution_count": null,
   "metadata": {
    "dotnet_interactive": {
     "language": "spiral"
    },
    "polyglot_notebook": {
     "kernelName": "spiral"
    }
   },
   "outputs": [
    {
     "name": "stdout",
     "output_type": "stream",
     "text": [
      "()\n",
      "\n"
     ]
    }
   ],
   "source": [
    "let rec try_item_ i = function\n",
    "    | Cons (x, _) when i = 0 => Some x\n",
    "    | Cons (_, xs) => try_item_ (i - 1) xs\n",
    "    | Nil => None"
   ]
  },
  {
   "cell_type": "markdown",
   "metadata": {},
   "source": [
    "## item_"
   ]
  },
  {
   "cell_type": "code",
   "execution_count": null,
   "metadata": {
    "dotnet_interactive": {
     "language": "spiral"
    },
    "polyglot_notebook": {
     "kernelName": "spiral"
    }
   },
   "outputs": [
    {
     "name": "stdout",
     "output_type": "stream",
     "text": [
      "()\n",
      "\n"
     ]
    }
   ],
   "source": [
    "inl item_ i =\n",
    "    try_item_ i >> optionm.value"
   ]
  },
  {
   "cell_type": "markdown",
   "metadata": {},
   "source": [
    "## sum"
   ]
  },
  {
   "cell_type": "code",
   "execution_count": null,
   "metadata": {
    "dotnet_interactive": {
     "language": "spiral"
    },
    "polyglot_notebook": {
     "kernelName": "spiral"
    }
   },
   "outputs": [
    {
     "name": "stdout",
     "output_type": "stream",
     "text": [
      "()\n",
      "\n"
     ]
    }
   ],
   "source": [
    "inl sum list =\n",
    "    list |> listm.fold (+) 0"
   ]
  },
  {
   "cell_type": "code",
   "execution_count": null,
   "metadata": {
    "dotnet_interactive": {
     "language": "spiral"
    },
    "polyglot_notebook": {
     "kernelName": "spiral"
    }
   },
   "outputs": [
    {
     "name": "stdout",
     "output_type": "stream",
     "text": [
      "let rec method0 () : unit =\n",
      "    let v0 : string = \"assert_eq\"\n",
      "    let v1 : string = $\"{v0} / actual: %A{45} / expected: %A{45}\"\n",
      "    System.Console.WriteLine v1\n",
      "    ()\n",
      "method0()\n",
      "\n",
      "assert_eq / actual: 45 / expected: 45\n"
     ]
    }
   ],
   "source": [
    "//// test\n",
    "\n",
    "listm.init 10i32 id\n",
    "|> sum\n",
    "|> _assert_eq 45"
   ]
  },
  {
   "cell_type": "markdown",
   "metadata": {},
   "source": [
    "## unzip"
   ]
  },
  {
   "cell_type": "code",
   "execution_count": null,
   "metadata": {
    "dotnet_interactive": {
     "language": "spiral"
    },
    "polyglot_notebook": {
     "kernelName": "spiral"
    }
   },
   "outputs": [
    {
     "name": "stdout",
     "output_type": "stream",
     "text": [
      "()\n",
      "\n"
     ]
    }
   ],
   "source": [
    "inl unzip list =\n",
    "    (([], []), list)\n",
    "    ||> listm.fold fun (acc_x, acc_y) (x, y) =>\n",
    "        x :: acc_x, y :: acc_y\n",
    "    |> fun x, y =>\n",
    "        x |> listm.rev, y |> listm.rev"
   ]
  },
  {
   "cell_type": "code",
   "execution_count": null,
   "metadata": {
    "dotnet_interactive": {
     "language": "spiral"
    },
    "polyglot_notebook": {
     "kernelName": "spiral"
    }
   },
   "outputs": [
    {
     "name": "stdout",
     "output_type": "stream",
     "text": [
      "let rec method0 () : unit =\n",
      "    let v0 : string = \"assert_eq\"\n",
      "    let v1 : string = $\"{v0} / actual: %A{45} / expected: %A{45}\"\n",
      "    System.Console.WriteLine v1\n",
      "    let v2 : string = $\"{v0} / actual: %A{45} / expected: %A{45}\"\n",
      "    System.Console.WriteLine v2\n",
      "    ()\n",
      "method0()\n",
      "\n",
      "assert_eq / actual: 45 / expected: 45\n",
      "assert_eq / actual: 45 / expected: 45\n"
     ]
    }
   ],
   "source": [
    "//// test\n",
    "\n",
    "listm.init 10i32 id\n",
    "|> listm.map (fun x => x, x)\n",
    "|> unzip\n",
    "|> fun x, y =>\n",
    "    x |> sum\n",
    "    |> _assert_eq 45\n",
    "\n",
    "    y |> sum\n",
    "    |> _assert_eq 45"
   ]
  },
  {
   "cell_type": "markdown",
   "metadata": {},
   "source": [
    "## try_index_of"
   ]
  },
  {
   "cell_type": "code",
   "execution_count": null,
   "metadata": {
    "dotnet_interactive": {
     "language": "spiral"
    },
    "polyglot_notebook": {
     "kernelName": "spiral"
    }
   },
   "outputs": [
    {
     "name": "stdout",
     "output_type": "stream",
     "text": [
      "()\n",
      "\n"
     ]
    }
   ],
   "source": [
    "inl try_index_of item list =\n",
    "    inl rec loop i = function\n",
    "        | [] => None\n",
    "        | x :: xs =>\n",
    "            if x = item\n",
    "            then Some i\n",
    "            else loop (i + 1) xs\n",
    "    loop 0 list\n",
    "\n",
    "inl index_of item =\n",
    "    try_index_of item >> optionm.value\n",
    "\n",
    "inl try_index_of_ item list =\n",
    "    let rec loop i = function\n",
    "        | [] => None\n",
    "        | x :: xs =>\n",
    "            if x = item\n",
    "            then Some i\n",
    "            else loop (i + 1) xs\n",
    "    loop 0 list\n",
    "\n",
    "inl index_of_ item =\n",
    "    try_index_of_ item >> optionm.value\n",
    "\n",
    "inl try_index_of__ item list =\n",
    "    inl i = mut 0\n",
    "    inl list = mut list\n",
    "    inl result = mut None\n",
    "    let rec loop () =\n",
    "        match *list with\n",
    "        | [] => result <- None\n",
    "        | x :: xs =>\n",
    "            if x = item\n",
    "            then result <- Some *i\n",
    "            else\n",
    "                i <- *i + 1\n",
    "                list <- xs\n",
    "                loop ()\n",
    "    loop ()\n",
    "    *result\n",
    "\n",
    "inl index_of__ item =\n",
    "    try_index_of__ item >> optionm.value"
   ]
  },
  {
   "cell_type": "code",
   "execution_count": null,
   "metadata": {
    "dotnet_interactive": {
     "language": "spiral"
    },
    "polyglot_notebook": {
     "kernelName": "spiral"
    }
   },
   "outputs": [
    {
     "name": "stdout",
     "output_type": "stream",
     "text": [
      "let rec method0 () : unit =\n",
      "    let v0 : string = \"assert_eq\"\n",
      "    let v1 : string = $\"{v0} / actual: %A{5} / expected: %A{5}\"\n",
      "    System.Console.WriteLine v1\n",
      "    ()\n",
      "method0()\n",
      "\n",
      "assert_eq / actual: 5 / expected: 5\n"
     ]
    }
   ],
   "source": [
    "//// test\n",
    "\n",
    "listm.init 10i32 id\n",
    "|> index_of 5i32\n",
    "|> _assert_eq 5i32"
   ]
  },
  {
   "cell_type": "code",
   "execution_count": null,
   "metadata": {
    "dotnet_interactive": {
     "language": "spiral"
    },
    "polyglot_notebook": {
     "kernelName": "spiral"
    }
   },
   "outputs": [
    {
     "name": "stdout",
     "output_type": "stream",
     "text": [
      "type [<Struct>] US0 =\n",
      "    | US0_0 of f0_0 : int32\n",
      "    | US0_1\n",
      "let rec method0 () : unit =\n",
      "    let v3 : string = \"assert_eq\"\n",
      "    let v4 : US0 = US0_1\n",
      "    let v5 : US0 = US0_1\n",
      "    let v6 : string = $\"{v3} / actual: %A{v4} / expected: %A{v5}\"\n",
      "    System.Console.WriteLine v6\n",
      "    ()\n",
      "method0()\n",
      "\n",
      "assert_eq / actual: US0_1 / expected: US0_1\n"
     ]
    }
   ],
   "source": [
    "//// test\n",
    "\n",
    "listm.init 10i32 id\n",
    "|> try_index_of 10i32\n",
    "|> _assert_eq (None : option i32)"
   ]
  },
  {
   "cell_type": "markdown",
   "metadata": {},
   "source": [
    "## try_find"
   ]
  },
  {
   "cell_type": "code",
   "execution_count": null,
   "metadata": {
    "dotnet_interactive": {
     "language": "spiral"
    },
    "polyglot_notebook": {
     "kernelName": "spiral"
    }
   },
   "outputs": [
    {
     "name": "stdout",
     "output_type": "stream",
     "text": [
      "()\n",
      "\n"
     ]
    }
   ],
   "source": [
    "inl try_find fn list =\n",
    "    inl rec loop = function\n",
    "        | [] => None\n",
    "        | x :: xs =>\n",
    "            if fn x\n",
    "            then Some x\n",
    "            else loop xs\n",
    "    loop list\n",
    "\n",
    "inl try_find_ fn list =\n",
    "    let rec loop = function\n",
    "        | [] => None\n",
    "        | x :: xs =>\n",
    "            if fn x\n",
    "            then Some x\n",
    "            else loop xs\n",
    "    loop list"
   ]
  },
  {
   "cell_type": "code",
   "execution_count": null,
   "metadata": {
    "dotnet_interactive": {
     "language": "spiral"
    },
    "polyglot_notebook": {
     "kernelName": "spiral"
    }
   },
   "outputs": [
    {
     "name": "stdout",
     "output_type": "stream",
     "text": [
      "type [<Struct>] US0 =\n",
      "    | US0_0 of f0_0 : int32\n",
      "    | US0_1\n",
      "let rec method0 () : unit =\n",
      "    let v3 : string = \"assert_eq\"\n",
      "    let v4 : US0 = US0_0(5)\n",
      "    let v5 : US0 = US0_0(5)\n",
      "    let v6 : string = $\"{v3} / actual: %A{v4} / expected: %A{v5}\"\n",
      "    System.Console.WriteLine v6\n",
      "    ()\n",
      "method0()\n",
      "\n",
      "assert_eq / actual: US0_0 5 / expected: US0_0 5\n"
     ]
    }
   ],
   "source": [
    "//// test\n",
    "\n",
    "listm.init 10i32 id\n",
    "|> try_find ((=) 5i32)\n",
    "|> _assert_eq (Some 5i32)"
   ]
  },
  {
   "cell_type": "code",
   "execution_count": null,
   "metadata": {
    "dotnet_interactive": {
     "language": "spiral"
    },
    "polyglot_notebook": {
     "kernelName": "spiral"
    }
   },
   "outputs": [
    {
     "name": "stdout",
     "output_type": "stream",
     "text": [
      "()\n",
      "\n"
     ]
    }
   ],
   "source": [
    "inl find x =\n",
    "    try_find x >> optionm.value\n",
    "\n",
    "inl find_ x =\n",
    "    try_find_ x >> optionm.value"
   ]
  },
  {
   "cell_type": "code",
   "execution_count": null,
   "metadata": {
    "dotnet_interactive": {
     "language": "spiral"
    },
    "polyglot_notebook": {
     "kernelName": "spiral"
    }
   },
   "outputs": [
    {
     "name": "stdout",
     "output_type": "stream",
     "text": [
      "let rec method0 () : unit =\n",
      "    let v0 : string = \"assert_eq\"\n",
      "    let v1 : string = $\"{v0} / actual: %A{5} / expected: %A{5}\"\n",
      "    System.Console.WriteLine v1\n",
      "    ()\n",
      "method0()\n",
      "\n",
      "assert_eq / actual: 5 / expected: 5\n"
     ]
    }
   ],
   "source": [
    "//// test\n",
    "\n",
    "listm.init 10i32 id\n",
    "|> find ((=) 5i32)\n",
    "|> _assert_eq 5i32"
   ]
  },
  {
   "cell_type": "markdown",
   "metadata": {},
   "source": [
    "## choose"
   ]
  },
  {
   "cell_type": "code",
   "execution_count": null,
   "metadata": {
    "dotnet_interactive": {
     "language": "spiral"
    },
    "polyglot_notebook": {
     "kernelName": "spiral"
    }
   },
   "outputs": [
    {
     "name": "stdout",
     "output_type": "stream",
     "text": [
      "()\n",
      "\n"
     ]
    }
   ],
   "source": [
    "inl choose f l =\n",
    "    (l, [])\n",
    "    ||> listm.foldBack fun x acc =>\n",
    "        match f x with\n",
    "        | Some y => y :: acc\n",
    "        | None => acc"
   ]
  },
  {
   "cell_type": "code",
   "execution_count": null,
   "metadata": {
    "dotnet_interactive": {
     "language": "spiral"
    },
    "polyglot_notebook": {
     "kernelName": "spiral"
    }
   },
   "outputs": [
    {
     "name": "stdout",
     "output_type": "stream",
     "text": [
      "type UH0 =\n",
      "    | UH0_0\n",
      "    | UH0_1 of int32 * UH0\n",
      "let rec method0 () : unit =\n",
      "    let v33 : string = \"assert_eq\"\n",
      "    let v34 : UH0 = UH0_0\n",
      "    let v35 : UH0 = UH0_1(8, v34)\n",
      "    let v36 : UH0 = UH0_1(6, v35)\n",
      "    let v37 : UH0 = UH0_1(4, v36)\n",
      "    let v38 : UH0 = UH0_1(2, v37)\n",
      "    let v39 : UH0 = UH0_1(0, v38)\n",
      "    let v40 : UH0 = UH0_0\n",
      "    let v41 : UH0 = UH0_1(8, v40)\n",
      "    let v42 : UH0 = UH0_1(6, v41)\n",
      "    let v43 : UH0 = UH0_1(4, v42)\n",
      "    let v44 : UH0 = UH0_1(2, v43)\n",
      "    let v45 : UH0 = UH0_1(0, v44)\n",
      "    let v46 : string = $\"{v33} / actual: %A{v39} / expected: %A{v45}\"\n",
      "    System.Console.WriteLine v46\n",
      "    ()\n",
      "method0()\n",
      "\n",
      "assert_eq / actual: UH0_1 (0, UH0_1 (2, UH0_1 (4, UH0_1 (6, UH0_1 (8, UH0_0))))) / expected: UH0_1 (0, UH0_1 (2, UH0_1 (4, UH0_1 (6, UH0_1 (8, UH0_0)))))\n"
     ]
    }
   ],
   "source": [
    "//// test\n",
    "\n",
    "listm.init 10i32 id\n",
    "|> choose (fun x => if x % 2 = 0 then Some x else None)\n",
    "|> _assert_eq [ 0; 2; 4; 6; 8 ]"
   ]
  },
  {
   "cell_type": "markdown",
   "metadata": {},
   "source": [
    "## zip_with"
   ]
  },
  {
   "cell_type": "code",
   "execution_count": null,
   "metadata": {
    "dotnet_interactive": {
     "language": "spiral"
    },
    "polyglot_notebook": {
     "kernelName": "spiral"
    }
   },
   "outputs": [
    {
     "name": "stdout",
     "output_type": "stream",
     "text": [
      "()\n",
      "\n"
     ]
    }
   ],
   "source": [
    "inl zip_with fn xs ys =\n",
    "    inl rec loop acc xs ys =\n",
    "        match xs, ys with\n",
    "        | Cons (x, xs), Cons (y, ys) =>\n",
    "            loop (fn x y :: acc) xs ys\n",
    "        | _ => listm.rev acc\n",
    "    loop [] xs ys\n",
    "\n",
    "inl zip_with_ fn xs ys =\n",
    "    let rec loop acc xs ys =\n",
    "        match xs, ys with\n",
    "        | Cons (x, xs), Cons (y, ys) =>\n",
    "            loop (fn x y :: acc) xs ys\n",
    "        | _ => listm.rev acc\n",
    "    loop [] xs ys"
   ]
  },
  {
   "cell_type": "code",
   "execution_count": null,
   "metadata": {
    "dotnet_interactive": {
     "language": "spiral"
    },
    "polyglot_notebook": {
     "kernelName": "spiral"
    }
   },
   "outputs": [
    {
     "name": "stdout",
     "output_type": "stream",
     "text": [
      "type UH0 =\n",
      "    | UH0_0\n",
      "    | UH0_1 of int32 * UH0\n",
      "let rec method0 () : unit =\n",
      "    let v18 : string = \"assert_eq\"\n",
      "    let v19 : UH0 = UH0_0\n",
      "    let v20 : UH0 = UH0_1(9, v19)\n",
      "    let v21 : UH0 = UH0_1(7, v20)\n",
      "    let v22 : UH0 = UH0_1(5, v21)\n",
      "    let v23 : UH0 = UH0_0\n",
      "    let v24 : UH0 = UH0_1(9, v23)\n",
      "    let v25 : UH0 = UH0_1(7, v24)\n",
      "    let v26 : UH0 = UH0_1(5, v25)\n",
      "    let v27 : string = $\"{v18} / actual: %A{v22} / expected: %A{v26}\"\n",
      "    System.Console.WriteLine v27\n",
      "    ()\n",
      "method0()\n",
      "\n",
      "assert_eq / actual: UH0_1 (5, UH0_1 (7, UH0_1 (9, UH0_0))) / expected: UH0_1 (5, UH0_1 (7, UH0_1 (9, UH0_0)))\n"
     ]
    }
   ],
   "source": [
    "//// test\n",
    "\n",
    "([ 1i32; 2; 3 ], [ 4; 5; 6 ])\n",
    "||> zip_with (+)\n",
    "|> _assert_eq [ 5; 7; 9 ]"
   ]
  },
  {
   "cell_type": "markdown",
   "metadata": {},
   "source": [
    "## zip"
   ]
  },
  {
   "cell_type": "code",
   "execution_count": null,
   "metadata": {
    "dotnet_interactive": {
     "language": "spiral"
    },
    "polyglot_notebook": {
     "kernelName": "spiral"
    }
   },
   "outputs": [
    {
     "name": "stdout",
     "output_type": "stream",
     "text": [
      "()\n",
      "\n"
     ]
    }
   ],
   "source": [
    "inl zip xs ys =\n",
    "    zip_with pair xs ys\n",
    "\n",
    "inl zip_ xs ys =\n",
    "    zip_with_ pair xs ys"
   ]
  },
  {
   "cell_type": "code",
   "execution_count": null,
   "metadata": {
    "dotnet_interactive": {
     "language": "spiral"
    },
    "polyglot_notebook": {
     "kernelName": "spiral"
    }
   },
   "outputs": [
    {
     "name": "stdout",
     "output_type": "stream",
     "text": [
      "type UH0 =\n",
      "    | UH0_0\n",
      "    | UH0_1 of int32 * int32 * UH0\n",
      "let rec method0 () : unit =\n",
      "    let v18 : string = \"assert_eq\"\n",
      "    let v19 : UH0 = UH0_0\n",
      "    let v20 : UH0 = UH0_1(3, 6, v19)\n",
      "    let v21 : UH0 = UH0_1(2, 5, v20)\n",
      "    let v22 : UH0 = UH0_1(1, 4, v21)\n",
      "    let v23 : UH0 = UH0_0\n",
      "    let v24 : UH0 = UH0_1(3, 6, v23)\n",
      "    let v25 : UH0 = UH0_1(2, 5, v24)\n",
      "    let v26 : UH0 = UH0_1(1, 4, v25)\n",
      "    let v27 : string = $\"{v18} / actual: %A{v22} / expected: %A{v26}\"\n",
      "    System.Console.WriteLine v27\n",
      "    ()\n",
      "method0()\n",
      "\n",
      "assert_eq / actual: UH0_1 (1, 4, UH0_1 (2, 5, UH0_1 (3, 6, UH0_0))) / expected: UH0_1 (1, 4, UH0_1 (2, 5, UH0_1 (3, 6, UH0_0)))\n"
     ]
    }
   ],
   "source": [
    "//// test\n",
    "\n",
    "([ 1i32; 2; 3 ], [ 4i32; 5; 6 ])\n",
    "||> zip\n",
    "|> _assert_eq [ 1, 4; 2, 5; 3, 6 ]"
   ]
  },
  {
   "cell_type": "markdown",
   "metadata": {},
   "source": [
    "## indexed"
   ]
  },
  {
   "cell_type": "code",
   "execution_count": null,
   "metadata": {
    "dotnet_interactive": {
     "language": "spiral"
    },
    "polyglot_notebook": {
     "kernelName": "spiral"
    }
   },
   "outputs": [
    {
     "name": "stdout",
     "output_type": "stream",
     "text": [
      "()\n",
      "\n"
     ]
    }
   ],
   "source": [
    "inl indexed list =\n",
    "    (([], 0), list)\n",
    "    ||> listm.fold fun (acc, i) x =>\n",
    "        (i, x) :: acc, i + 1\n",
    "    |> fst\n",
    "    |> listm.rev"
   ]
  },
  {
   "cell_type": "code",
   "execution_count": null,
   "metadata": {
    "dotnet_interactive": {
     "language": "spiral"
    },
    "polyglot_notebook": {
     "kernelName": "spiral"
    }
   },
   "outputs": [
    {
     "name": "stdout",
     "output_type": "stream",
     "text": [
      "type UH0 =\n",
      "    | UH0_0\n",
      "    | UH0_1 of int32 * int32 * UH0\n",
      "let rec method0 () : unit =\n",
      "    let v33 : string = \"assert_eq\"\n",
      "    let v34 : UH0 = UH0_0\n",
      "    let v35 : UH0 = UH0_1(4, 8, v34)\n",
      "    let v36 : UH0 = UH0_1(3, 6, v35)\n",
      "    let v37 : UH0 = UH0_1(2, 4, v36)\n",
      "    let v38 : UH0 = UH0_1(1, 2, v37)\n",
      "    let v39 : UH0 = UH0_1(0, 0, v38)\n",
      "    let v40 : UH0 = UH0_0\n",
      "    let v41 : UH0 = UH0_1(4, 8, v40)\n",
      "    let v42 : UH0 = UH0_1(3, 6, v41)\n",
      "    let v43 : UH0 = UH0_1(2, 4, v42)\n",
      "    let v44 : UH0 = UH0_1(1, 2, v43)\n",
      "    let v45 : UH0 = UH0_1(0, 0, v44)\n",
      "    let v46 : string = $\"{v33} / actual: %A{v39} / expected: %A{v45}\"\n",
      "    System.Console.WriteLine v46\n",
      "    ()\n",
      "method0()\n",
      "\n",
      "assert_eq / actual: UH0_1 (0, 0, UH0_1 (1, 2, UH0_1 (2, 4, UH0_1 (3, 6, UH0_1 (4, 8, UH0_0))))) / expected: UH0_1 (0, 0, UH0_1 (1, 2, UH0_1 (2, 4, UH0_1 (3, 6, UH0_1 (4, 8, UH0_0)))))\n"
     ]
    }
   ],
   "source": [
    "//// test\n",
    "\n",
    "listm.init 5i32 ((*) 2)\n",
    "|> indexed\n",
    "|> _assert_eq [ 0i32, 0; 1, 2; 2, 4; 3, 6; 4, 8 ]"
   ]
  },
  {
   "cell_type": "markdown",
   "metadata": {},
   "source": [
    "## group_by"
   ]
  },
  {
   "cell_type": "code",
   "execution_count": null,
   "metadata": {
    "dotnet_interactive": {
     "language": "spiral"
    },
    "polyglot_notebook": {
     "kernelName": "spiral"
    }
   },
   "outputs": [
    {
     "name": "stdout",
     "output_type": "stream",
     "text": [
      "()\n",
      "\n"
     ]
    }
   ],
   "source": [
    "inl group_by fn list =\n",
    "    (list, [])\n",
    "    ||> listm.foldBack fun x acc =>\n",
    "        inl xk = fn x\n",
    "        inl found, new_acc =\n",
    "            ((false, []), acc)\n",
    "            ||> listm.fold fun (found, acc') (k, xs) =>\n",
    "                if k = xk\n",
    "                then true, (k, x :: xs) :: acc'\n",
    "                else found, (k, xs) :: acc'\n",
    "        if found\n",
    "        then new_acc\n",
    "        else (xk, [ x ]) :: new_acc"
   ]
  },
  {
   "cell_type": "code",
   "execution_count": null,
   "metadata": {
    "dotnet_interactive": {
     "language": "spiral"
    },
    "polyglot_notebook": {
     "kernelName": "spiral"
    }
   },
   "outputs": [
    {
     "name": "stdout",
     "output_type": "stream",
     "text": [
      "type UH0 =\n",
      "    | UH0_0\n",
      "    | UH0_1 of int32 * UH0\n",
      "and UH1 =\n",
      "    | UH1_0\n",
      "    | UH1_1 of bool * UH0 * UH1\n",
      "let rec method0 () : unit =\n",
      "    let v96 : string = \"assert_eq\"\n",
      "    let v97 : UH0 = UH0_0\n",
      "    let v98 : UH0 = UH0_1(8, v97)\n",
      "    let v99 : UH0 = UH0_1(6, v98)\n",
      "    let v100 : UH0 = UH0_1(4, v99)\n",
      "    let v101 : UH0 = UH0_1(2, v100)\n",
      "    let v102 : UH0 = UH0_1(0, v101)\n",
      "    let v103 : UH0 = UH0_0\n",
      "    let v104 : UH0 = UH0_1(9, v103)\n",
      "    let v105 : UH0 = UH0_1(7, v104)\n",
      "    let v106 : UH0 = UH0_1(5, v105)\n",
      "    let v107 : UH0 = UH0_1(3, v106)\n",
      "    let v108 : UH0 = UH0_1(1, v107)\n",
      "    let v109 : UH1 = UH1_0\n",
      "    let v110 : UH1 = UH1_1(false, v108, v109)\n",
      "    let v111 : UH1 = UH1_1(true, v102, v110)\n",
      "    let v112 : UH0 = UH0_0\n",
      "    let v113 : UH0 = UH0_1(8, v112)\n",
      "    let v114 : UH0 = UH0_1(6, v113)\n",
      "    let v115 : UH0 = UH0_1(4, v114)\n",
      "    let v116 : UH0 = UH0_1(2, v115)\n",
      "    let v117 : UH0 = UH0_1(0, v116)\n",
      "    let v118 : UH0 = UH0_0\n",
      "    let v119 : UH0 = UH0_1(9, v118)\n",
      "    let v120 : UH0 = UH0_1(7, v119)\n",
      "    let v121 : UH0 = UH0_1(5, v120)\n",
      "    let v122 : UH0 = UH0_1(3, v121)\n",
      "    let v123 : UH0 = UH0_1(1, v122)\n",
      "    let v124 : UH1 = UH1_0\n",
      "    let v125 : UH1 = UH1_1(false, v123, v124)\n",
      "    let v126 : UH1 = UH1_1(true, v117, v125)\n",
      "    let v127 : string = $\"{v96} / actual: %A{v111} / expected: %A{v126}\"\n",
      "    System.Console.WriteLine v127\n",
      "    ()\n",
      "method0()\n",
      "\n",
      "assert_eq / actual: UH1_1\n",
      "  (true, UH0_1 (0, UH0_1 (2, UH0_1 (4, UH0_1 (6, UH0_1 (8, UH0_0))))),\n",
      "   UH1_1\n",
      "     (false, UH0_1 (1, UH0_1 (3, UH0_1 (5, UH0_1 (7, UH0_1 (9, UH0_0))))), UH1_0)) / expected: UH1_1\n",
      "  (true, UH0_1 (0, UH0_1 (2, UH0_1 (4, UH0_1 (6, UH0_1 (8, UH0_0))))),\n",
      "   UH1_1\n",
      "     (false, UH0_1 (1, UH0_1 (3, UH0_1 (5, UH0_1 (7, UH0_1 (9, UH0_0))))), UH1_0))\n"
     ]
    }
   ],
   "source": [
    "//// test\n",
    "\n",
    "listm.init 10i32 id\n",
    "|> group_by (fun x => x % 2 = 0)\n",
    "|> _assert_eq [ true, [ 0; 2; 4; 6; 8 ]; false, [ 1; 3; 5; 7; 9 ] ]"
   ]
  },
  {
   "cell_type": "markdown",
   "metadata": {},
   "source": [
    "## forall'"
   ]
  },
  {
   "cell_type": "code",
   "execution_count": null,
   "metadata": {
    "dotnet_interactive": {
     "language": "spiral"
    },
    "polyglot_notebook": {
     "kernelName": "spiral"
    }
   },
   "outputs": [
    {
     "name": "stdout",
     "output_type": "stream",
     "text": [
      "()\n",
      "\n"
     ]
    }
   ],
   "source": [
    "inl forall' fn (head :: tail) =\n",
    "    (true, tail)\n",
    "    ||> listm.fold fun acc x =>\n",
    "        acc && x = head"
   ]
  },
  {
   "cell_type": "code",
   "execution_count": null,
   "metadata": {
    "dotnet_interactive": {
     "language": "spiral"
    },
    "polyglot_notebook": {
     "kernelName": "spiral"
    }
   },
   "outputs": [
    {
     "name": "stdout",
     "output_type": "stream",
     "text": [
      "let rec method0 () : unit =\n",
      "    let v0 : string = \"assert_eq\"\n",
      "    let v1 : string = $\"{v0} / actual: %A{true} / expected: %A{true}\"\n",
      "    System.Console.WriteLine v1\n",
      "    ()\n",
      "method0()\n",
      "\n",
      "assert_eq / actual: true / expected: true\n"
     ]
    }
   ],
   "source": [
    "//// test\n",
    "\n",
    "[ 1i32; 1; 1; 1; 1 ]\n",
    "|> forall' ((=) 1i32)\n",
    "|> _assert_eq true"
   ]
  },
  {
   "cell_type": "markdown",
   "metadata": {},
   "source": [
    "## last"
   ]
  },
  {
   "cell_type": "code",
   "execution_count": null,
   "metadata": {
    "dotnet_interactive": {
     "language": "spiral"
    },
    "polyglot_notebook": {
     "kernelName": "spiral"
    }
   },
   "outputs": [
    {
     "name": "stdout",
     "output_type": "stream",
     "text": [
      "()\n",
      "\n"
     ]
    }
   ],
   "source": [
    "inl last list =\n",
    "    list\n",
    "    |> listm.rev\n",
    "    |> item 0i32"
   ]
  },
  {
   "cell_type": "code",
   "execution_count": null,
   "metadata": {
    "dotnet_interactive": {
     "language": "spiral"
    },
    "polyglot_notebook": {
     "kernelName": "spiral"
    }
   },
   "outputs": [
    {
     "name": "stdout",
     "output_type": "stream",
     "text": [
      "let rec method0 () : unit =\n",
      "    let v0 : string = \"assert_eq\"\n",
      "    let v1 : string = $\"{v0} / actual: %A{9} / expected: %A{9}\"\n",
      "    System.Console.WriteLine v1\n",
      "    ()\n",
      "method0()\n",
      "\n",
      "assert_eq / actual: 9 / expected: 9\n"
     ]
    }
   ],
   "source": [
    "//// test\n",
    "\n",
    "listm.init 10i32 id\n",
    "|> last\n",
    "|> _assert_eq 9"
   ]
  },
  {
   "cell_type": "markdown",
   "metadata": {},
   "source": [
    "## try_pick"
   ]
  },
  {
   "cell_type": "code",
   "execution_count": null,
   "metadata": {
    "dotnet_interactive": {
     "language": "spiral"
    },
    "polyglot_notebook": {
     "kernelName": "spiral"
    }
   },
   "outputs": [
    {
     "name": "stdout",
     "output_type": "stream",
     "text": [
      "()\n",
      "\n"
     ]
    }
   ],
   "source": [
    "inl try_pick fn list =\n",
    "    inl rec body fn = function\n",
    "        | [] => None\n",
    "        | x :: xs =>\n",
    "            match fn x with\n",
    "            | Some y => Some y\n",
    "            | None => loop xs\n",
    "    and inl loop list =\n",
    "        if var_is list |> not\n",
    "        then body fn list\n",
    "        else\n",
    "            inl fn = join fn\n",
    "            inl list = dyn list\n",
    "            join body fn list\n",
    "    loop list"
   ]
  },
  {
   "cell_type": "code",
   "execution_count": null,
   "metadata": {
    "dotnet_interactive": {
     "language": "spiral"
    },
    "polyglot_notebook": {
     "kernelName": "spiral"
    }
   },
   "outputs": [
    {
     "name": "stdout",
     "output_type": "stream",
     "text": [
      "type [<Struct>] US0 =\n",
      "    | US0_0 of f0_0 : int32\n",
      "    | US0_1\n",
      "let rec method0 () : unit =\n",
      "    let v3 : string = \"assert_eq\"\n",
      "    let v4 : US0 = US0_0(5)\n",
      "    let v5 : US0 = US0_0(5)\n",
      "    let v6 : string = $\"{v3} / actual: %A{v4} / expected: %A{v5}\"\n",
      "    System.Console.WriteLine v6\n",
      "    ()\n",
      "method0()\n",
      "\n",
      "assert_eq / actual: US0_0 5 / expected: US0_0 5\n"
     ]
    }
   ],
   "source": [
    "//// test\n",
    "\n",
    "listm.init 10i32 id\n",
    "|> try_pick (fun x => if x = 5i32 then Some x else None)\n",
    "|> _assert_eq (Some 5i32)"
   ]
  }
 ],
 "metadata": {},
 "nbformat": 4,
 "nbformat_minor": 5
}