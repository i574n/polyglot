{
 "cells": [
  {
   "cell_type": "markdown",
   "metadata": {},
   "source": [
    "# listm"
   ]
  },
  {
   "cell_type": "code",
   "execution_count": null,
   "metadata": {
    "dotnet_interactive": {
     "language": "spiral"
    },
    "polyglot_notebook": {
     "kernelName": "spiral"
    }
   },
   "outputs": [
    {
     "name": "stdout",
     "output_type": "stream",
     "text": [
      "()\n",
      "\n"
     ]
    }
   ],
   "source": [
    "// // test\n",
    "\n",
    "open testing"
   ]
  },
  {
   "cell_type": "code",
   "execution_count": null,
   "metadata": {
    "dotnet_interactive": {
     "language": "spiral"
    },
    "polyglot_notebook": {
     "kernelName": "spiral"
    }
   },
   "outputs": [
    {
     "name": "stdout",
     "output_type": "stream",
     "text": [
      "()\n",
      "\n"
     ]
    }
   ],
   "source": [
    "// // test\n",
    "\n",
    "prototype append t : t -> t -> t"
   ]
  },
  {
   "cell_type": "markdown",
   "metadata": {},
   "source": [
    "## list'"
   ]
  },
  {
   "cell_type": "code",
   "execution_count": null,
   "metadata": {
    "dotnet_interactive": {
     "language": "spiral"
    },
    "polyglot_notebook": {
     "kernelName": "spiral"
    }
   },
   "outputs": [
    {
     "name": "stdout",
     "output_type": "stream",
     "text": [
      "()\n",
      "\n"
     ]
    }
   ],
   "source": [
    "nominal list' t = $'`t list'"
   ]
  },
  {
   "cell_type": "code",
   "execution_count": null,
   "metadata": {
    "dotnet_interactive": {
     "language": "spiral"
    },
    "polyglot_notebook": {
     "kernelName": "spiral"
    }
   },
   "outputs": [
    {
     "name": "stdout",
     "output_type": "stream",
     "text": [
      "()\n",
      "\n"
     ]
    }
   ],
   "source": [
    "inl empty' forall t. () : list' t =\n",
    "    $'[]'"
   ]
  },
  {
   "cell_type": "code",
   "execution_count": null,
   "metadata": {
    "dotnet_interactive": {
     "language": "spiral"
    },
    "polyglot_notebook": {
     "kernelName": "spiral"
    }
   },
   "outputs": [
    {
     "name": "stdout",
     "output_type": "stream",
     "text": [
      "()\n",
      "\n"
     ]
    }
   ],
   "source": [
    "inl cons' forall t. (head : t) (tail : list' t) : list' t =\n",
    "    $'!head :: !tail '"
   ]
  },
  {
   "cell_type": "markdown",
   "metadata": {},
   "source": [
    "## box"
   ]
  },
  {
   "cell_type": "code",
   "execution_count": null,
   "metadata": {
    "dotnet_interactive": {
     "language": "spiral"
    },
    "polyglot_notebook": {
     "kernelName": "spiral"
    }
   },
   "outputs": [
    {
     "name": "stdout",
     "output_type": "stream",
     "text": [
      "()\n",
      "\n"
     ]
    }
   ],
   "source": [
    "inl box forall t. (list : list t) : list' t =\n",
    "    (empty' (), list)\n",
    "    ||> listm.fold fun acc x =>\n",
    "        acc |> cons' x"
   ]
  },
  {
   "cell_type": "markdown",
   "metadata": {},
   "source": [
    "## fold'"
   ]
  },
  {
   "cell_type": "code",
   "execution_count": null,
   "metadata": {
    "dotnet_interactive": {
     "language": "spiral"
    },
    "polyglot_notebook": {
     "kernelName": "spiral"
    }
   },
   "outputs": [
    {
     "name": "stdout",
     "output_type": "stream",
     "text": [
      "()\n",
      "\n"
     ]
    }
   ],
   "source": [
    "inl fold' forall t u. (fn : t -> u) (init : list u) (list : list' t) : list u =\n",
    "    (init, list)\n",
    "    ||> $'List.fold' (fun acc x => Cons (fn x, acc))"
   ]
  },
  {
   "cell_type": "markdown",
   "metadata": {},
   "source": [
    "## unbox"
   ]
  },
  {
   "cell_type": "code",
   "execution_count": null,
   "metadata": {
    "dotnet_interactive": {
     "language": "spiral"
    },
    "polyglot_notebook": {
     "kernelName": "spiral"
    }
   },
   "outputs": [
    {
     "name": "stdout",
     "output_type": "stream",
     "text": [
      "()\n",
      "\n"
     ]
    }
   ],
   "source": [
    "inl unbox forall t. (list : list' t) : list t =\n",
    "    (Nil, list)\n",
    "    ||> fold' id"
   ]
  },
  {
   "cell_type": "markdown",
   "metadata": {},
   "source": [
    "## distinct'"
   ]
  },
  {
   "cell_type": "code",
   "execution_count": null,
   "metadata": {
    "dotnet_interactive": {
     "language": "spiral"
    },
    "polyglot_notebook": {
     "kernelName": "spiral"
    }
   },
   "outputs": [
    {
     "name": "stdout",
     "output_type": "stream",
     "text": [
      "()\n",
      "\n"
     ]
    }
   ],
   "source": [
    "inl distinct' forall t. (list : list' t) : list' t =\n",
    "    list |> $'List.distinct'"
   ]
  },
  {
   "cell_type": "code",
   "execution_count": null,
   "metadata": {
    "dotnet_interactive": {
     "language": "spiral"
    },
    "polyglot_notebook": {
     "kernelName": "spiral"
    }
   },
   "outputs": [
    {
     "name": "stdout",
     "output_type": "stream",
     "text": [
      "type UH0 =\n",
      "    | UH0_0\n",
      "    | UH0_1 of string * UH0\n",
      "let rec closure1 (v0 : UH0) (v1 : string) : UH0 =\n",
      "    UH0_1(v1, v0)\n",
      "and closure0 () (v0 : UH0) : (string -> UH0) =\n",
      "    closure1(v0)\n",
      "and method1 (v0 : bool) : bool =\n",
      "    v0\n",
      "and method0 () : unit =\n",
      "    let v0 : string list = []\n",
      "    let v1 : string = \"\"\n",
      "    let v2 : string list = v1 :: v0 \n",
      "    let v3 : string list = v1 :: v2 \n",
      "    let v4 : (string list -> string list) = List.distinct\n",
      "    let v5 : string list = v4 v3\n",
      "    let v6 : ((UH0 -> (string -> UH0)) -> (UH0 -> (string list -> UH0))) = List.fold\n",
      "    let v7 : (UH0 -> (string -> UH0)) = closure0()\n",
      "    let v8 : (UH0 -> (string list -> UH0)) = v6 v7\n",
      "    let v9 : UH0 = UH0_0\n",
      "    let v10 : (string list -> UH0) = v8 v9\n",
      "    let v11 : UH0 = v10 v5\n",
      "    let v12 : string = $\"%A{v11}\"\n",
      "    System.Console.WriteLine v12\n",
      "    let v20 : bool =\n",
      "        match v11 with\n",
      "        | UH0_1(v15, v16) -> (* Cons *)\n",
      "            let v17 : bool = v15 = \"\"\n",
      "            if v17 then\n",
      "                match v16 with\n",
      "                | UH0_0 -> (* Nil *)\n",
      "                    true\n",
      "                | _ ->\n",
      "                    false\n",
      "            else\n",
      "                false\n",
      "        | _ ->\n",
      "            false\n",
      "    let v22 : bool =\n",
      "        if v20 then\n",
      "            true\n",
      "        else\n",
      "            method1(v20)\n",
      "    let v23 : UH0 = UH0_0\n",
      "    let v24 : UH0 = UH0_1(v1, v23)\n",
      "    let v25 : string = $\"__expect / actual: %A{v11} / expected: %A{v24}\"\n",
      "    let v26 : bool = v22 = false\n",
      "    if v26 then\n",
      "        failwith<unit> v25\n",
      "method0()\n",
      "\n",
      "UH0_1 (\"\", UH0_0)\n"
     ]
    }
   ],
   "source": [
    "// // test\n",
    "\n",
    "[ \"\"; \"\" ]\n",
    "|> box\n",
    "|> distinct'\n",
    "|> unbox\n",
    "|> _assert_eq [ \"\" ]"
   ]
  },
  {
   "cell_type": "markdown",
   "metadata": {},
   "source": [
    "## append"
   ]
  },
  {
   "cell_type": "code",
   "execution_count": null,
   "metadata": {
    "dotnet_interactive": {
     "language": "spiral"
    },
    "polyglot_notebook": {
     "kernelName": "spiral"
    }
   },
   "outputs": [
    {
     "name": "stdout",
     "output_type": "stream",
     "text": [
      "()\n",
      "\n"
     ]
    }
   ],
   "source": [
    "instance append list t =\n",
    "    listm.append"
   ]
  },
  {
   "cell_type": "markdown",
   "metadata": {},
   "source": [
    "## /@"
   ]
  },
  {
   "cell_type": "code",
   "execution_count": null,
   "metadata": {
    "dotnet_interactive": {
     "language": "spiral"
    },
    "polyglot_notebook": {
     "kernelName": "spiral"
    }
   },
   "outputs": [
    {
     "name": "stdout",
     "output_type": "stream",
     "text": [
      "()\n",
      "\n"
     ]
    }
   ],
   "source": [
    "inl (/@) a b =\n",
    "    b |> append a"
   ]
  },
  {
   "cell_type": "code",
   "execution_count": null,
   "metadata": {
    "dotnet_interactive": {
     "language": "spiral"
    },
    "polyglot_notebook": {
     "kernelName": "spiral"
    }
   },
   "outputs": [
    {
     "name": "stdout",
     "output_type": "stream",
     "text": [
      "type UH0 =\n",
      "    | UH0_0\n",
      "    | UH0_1 of string * UH0\n",
      "let rec method0 () : unit =\n",
      "    let v0 : string = \"a\"\n",
      "    let v1 : string = \"b\"\n",
      "    let v2 : string = \"c\"\n",
      "    let v3 : string = \"d\"\n",
      "    let v4 : UH0 = UH0_0\n",
      "    let v5 : UH0 = UH0_1(v3, v4)\n",
      "    let v6 : UH0 = UH0_1(v2, v5)\n",
      "    let v7 : UH0 = UH0_1(v1, v6)\n",
      "    let v8 : UH0 = UH0_1(v0, v7)\n",
      "    let v9 : string = $\"%A{v8}\"\n",
      "    System.Console.WriteLine v9\n",
      "    let v35 : UH0 = UH0_0\n",
      "    let v36 : UH0 = UH0_1(v3, v35)\n",
      "    let v37 : UH0 = UH0_1(v2, v36)\n",
      "    let v38 : UH0 = UH0_1(v1, v37)\n",
      "    let v39 : UH0 = UH0_1(v0, v38)\n",
      "    let v40 : UH0 = UH0_0\n",
      "    let v41 : UH0 = UH0_1(v3, v40)\n",
      "    let v42 : UH0 = UH0_1(v2, v41)\n",
      "    let v43 : UH0 = UH0_1(v1, v42)\n",
      "    let v44 : UH0 = UH0_1(v0, v43)\n",
      "    let v45 : string = $\"__expect / actual: %A{v39} / expected: %A{v44}\"\n",
      "    ()\n",
      "method0()\n",
      "\n",
      "UH0_1 (\"a\", UH0_1 (\"b\", UH0_1 (\"c\", UH0_1 (\"d\", UH0_0))))\n"
     ]
    }
   ],
   "source": [
    "// // test\n",
    "\n",
    "[ \"a\"; \"b\" ] /@ [ \"c\"; \"d\" ]\n",
    "|> _assert_eq [ \"a\"; \"b\"; \"c\"; \"d\" ]"
   ]
  },
  {
   "cell_type": "markdown",
   "metadata": {},
   "source": [
    "## init_series"
   ]
  },
  {
   "cell_type": "code",
   "execution_count": null,
   "metadata": {
    "dotnet_interactive": {
     "language": "spiral"
    },
    "polyglot_notebook": {
     "kernelName": "spiral"
    }
   },
   "outputs": [
    {
     "name": "stdout",
     "output_type": "stream",
     "text": [
      "()\n",
      "\n"
     ]
    }
   ],
   "source": [
    "inl init_series start end inc =\n",
    "    inl total : f64 = conv ((end - start) / inc) + 1\n",
    "    listm.init total (conv >> (*) inc >> (+) start)"
   ]
  },
  {
   "cell_type": "code",
   "execution_count": null,
   "metadata": {
    "dotnet_interactive": {
     "language": "spiral"
    },
    "polyglot_notebook": {
     "kernelName": "spiral"
    }
   },
   "outputs": [
    {
     "name": "stdout",
     "output_type": "stream",
     "text": [
      "type UH0 =\n",
      "    | UH0_0\n",
      "    | UH0_1 of float * UH0\n",
      "let rec method0 () : unit =\n",
      "    let v0 : UH0 = UH0_0\n",
      "    let v1 : UH0 = UH0_1(1.0, v0)\n",
      "    let v2 : UH0 = UH0_1(0.5, v1)\n",
      "    let v3 : UH0 = UH0_1(0.0, v2)\n",
      "    let v4 : string = $\"%A{v3}\"\n",
      "    System.Console.WriteLine v4\n",
      "    let v23 : UH0 = UH0_0\n",
      "    let v24 : UH0 = UH0_1(1.0, v23)\n",
      "    let v25 : UH0 = UH0_1(0.5, v24)\n",
      "    let v26 : UH0 = UH0_1(0.0, v25)\n",
      "    let v27 : UH0 = UH0_0\n",
      "    let v28 : UH0 = UH0_1(1.0, v27)\n",
      "    let v29 : UH0 = UH0_1(0.5, v28)\n",
      "    let v30 : UH0 = UH0_1(0.0, v29)\n",
      "    let v31 : string = $\"__expect / actual: %A{v26} / expected: %A{v30}\"\n",
      "    ()\n",
      "method0()\n",
      "\n",
      "UH0_1 (0.0, UH0_1 (0.5, UH0_1 (1.0, UH0_0)))\n"
     ]
    }
   ],
   "source": [
    "// // test\n",
    "\n",
    "init_series 0 1 0.5\n",
    "|> _assert_eq [ 0f64; 0.5; 1 ]"
   ]
  },
  {
   "cell_type": "markdown",
   "metadata": {},
   "source": [
    "## try_item"
   ]
  },
  {
   "cell_type": "code",
   "execution_count": null,
   "metadata": {
    "dotnet_interactive": {
     "language": "spiral"
    },
    "polyglot_notebook": {
     "kernelName": "spiral"
    }
   },
   "outputs": [
    {
     "name": "stdout",
     "output_type": "stream",
     "text": [
      "()\n",
      "\n"
     ]
    }
   ],
   "source": [
    "inl rec try_item i = function\n",
    "    | Cons (x, _) when i = 0 => Some x\n",
    "    | Cons (_, xs) => try_item (i - 1) xs\n",
    "    | Nil => None"
   ]
  },
  {
   "cell_type": "code",
   "execution_count": null,
   "metadata": {
    "dotnet_interactive": {
     "language": "spiral"
    },
    "polyglot_notebook": {
     "kernelName": "spiral"
    }
   },
   "outputs": [
    {
     "name": "stdout",
     "output_type": "stream",
     "text": [
      "type [<Struct>] US0 =\n",
      "    | US0_0 of f0_0 : int32\n",
      "    | US0_1\n",
      "let rec method0 () : unit =\n",
      "    let v0 : US0 = US0_0(9)\n",
      "    let v1 : string = $\"%A{v0}\"\n",
      "    System.Console.WriteLine v1\n",
      "    let v5 : US0 = US0_0(9)\n",
      "    let v6 : US0 = US0_0(9)\n",
      "    let v7 : string = $\"__expect / actual: %A{v5} / expected: %A{v6}\"\n",
      "    ()\n",
      "method0()\n",
      "\n",
      "US0_0 9\n"
     ]
    }
   ],
   "source": [
    "// // test\n",
    "\n",
    "listm.init 10i32 id\n",
    "|> try_item 9i32\n",
    "|> _assert_eq (Some 9)"
   ]
  },
  {
   "cell_type": "code",
   "execution_count": null,
   "metadata": {
    "dotnet_interactive": {
     "language": "spiral"
    },
    "polyglot_notebook": {
     "kernelName": "spiral"
    }
   },
   "outputs": [
    {
     "name": "stdout",
     "output_type": "stream",
     "text": [
      "type [<Struct>] US0 =\n",
      "    | US0_0 of f0_0 : int32\n",
      "    | US0_1\n",
      "let rec method0 () : unit =\n",
      "    let v0 : US0 = US0_1\n",
      "    let v1 : string = $\"%A{v0}\"\n",
      "    System.Console.WriteLine v1\n",
      "    let v5 : US0 = US0_1\n",
      "    let v6 : US0 = US0_1\n",
      "    let v7 : string = $\"__expect / actual: %A{v5} / expected: %A{v6}\"\n",
      "    ()\n",
      "method0()\n",
      "\n",
      "US0_1\n"
     ]
    }
   ],
   "source": [
    "// // test\n",
    "\n",
    "listm.init 10i32 id\n",
    "|> try_item 10i32\n",
    "|> _assert_eq None"
   ]
  },
  {
   "cell_type": "markdown",
   "metadata": {},
   "source": [
    "## list_item"
   ]
  },
  {
   "cell_type": "code",
   "execution_count": null,
   "metadata": {
    "dotnet_interactive": {
     "language": "spiral"
    },
    "polyglot_notebook": {
     "kernelName": "spiral"
    }
   },
   "outputs": [
    {
     "name": "stdout",
     "output_type": "stream",
     "text": [
      "()\n",
      "\n"
     ]
    }
   ],
   "source": [
    "inl item i =\n",
    "    try_item i >> optionm.value"
   ]
  },
  {
   "cell_type": "code",
   "execution_count": null,
   "metadata": {
    "dotnet_interactive": {
     "language": "spiral"
    },
    "polyglot_notebook": {
     "kernelName": "spiral"
    }
   },
   "outputs": [
    {
     "name": "stdout",
     "output_type": "stream",
     "text": [
      "let rec method0 () : unit =\n",
      "    let v0 : string = $\"%A{9}\"\n",
      "    System.Console.WriteLine v0\n",
      "    let v1 : string = $\"__expect / actual: %A{9} / expected: %A{9}\"\n",
      "    ()\n",
      "method0()\n",
      "\n",
      "9\n"
     ]
    }
   ],
   "source": [
    "// // test\n",
    "\n",
    "listm.init 10i32 id\n",
    "|> item 9i32\n",
    "|> _assert_eq 9"
   ]
  },
  {
   "cell_type": "code",
   "execution_count": null,
   "metadata": {
    "dotnet_interactive": {
     "language": "spiral"
    },
    "polyglot_notebook": {
     "kernelName": "spiral"
    }
   },
   "outputs": [
    {
     "name": "stdout",
     "output_type": "stream",
     "text": [
      "type [<Struct>] US0 =\n",
      "    | US0_0 of f0_0 : exn\n",
      "    | US0_1\n",
      "and [<Struct>] US1 =\n",
      "    | US1_0 of f0_0 : string\n",
      "    | US1_1\n",
      "let rec closure0 () () : unit =\n",
      "    let v0 : int32 = failwith<int32> \"Option does not have a value.\"\n",
      "    ()\n",
      "and closure1 () (v0 : exn) : US0 =\n",
      "    US0_0(v0)\n",
      "and method1 (v0 : bool) : bool =\n",
      "    v0\n",
      "and method0 () : unit =\n",
      "    let v0 : (unit -> unit) = closure0()\n",
      "    let v1 : US0 = US0_1\n",
      "    let v2 : (exn -> US0) = closure1()\n",
      "    let v3 : US0 = try v0 (); v1 with ex -> ex |> v2\n",
      "    let v15 : US1 =\n",
      "        match v3 with\n",
      "        | US0_1 -> (* None *)\n",
      "            US1_1\n",
      "        | US0_0(v4) -> (* Some *)\n",
      "            let v5 : string option = None\n",
      "            let mutable _v5 = v5\n",
      "            #if FABLE_COMPILER_RUST && !WASM && !CONTRACT\n",
      "            let v6 : string = $\"%A{v4}\"\n",
      "            v6 \n",
      "            #endif\n",
      "            #if FABLE_COMPILER_RUST && WASM\n",
      "            let v7 : string = $\"%A{v4}\"\n",
      "            v7 \n",
      "            #endif\n",
      "            #if FABLE_COMPILER_RUST && CONTRACT\n",
      "            let v8 : string = $\"%A{v4}\"\n",
      "            v8 \n",
      "            #endif\n",
      "            #if !FABLE_COMPILER && !FABLE_COMPILER_RUST && !FABLE_COMPILER_TYPESCRIPT && !WASM && !CONTRACT\n",
      "            let v9 : string = $\"{v4.GetType ()}: {v4.Message}\"\n",
      "            v9 \n",
      "            #endif\n",
      "            #if FABLE_COMPILER_TYPESCRIPT\n",
      "            let v10 : string = $\"%A{v4}\"\n",
      "            v10 \n",
      "            #endif\n",
      "            |> fun x -> _v5 <- Some x\n",
      "            let v11 : string = _v5 |> Option.get\n",
      "            US1_0(v11)\n",
      "    let v16 : string = $\"%A{v15}\"\n",
      "    System.Console.WriteLine v16\n",
      "    let v21 : bool =\n",
      "        match v15 with\n",
      "        | US1_0(v19) -> (* Some *)\n",
      "            let v20 : bool = v19 = \"System.Exception: Option does not have a value.\"\n",
      "            v20\n",
      "        | _ ->\n",
      "            false\n",
      "    let v23 : bool =\n",
      "        if v21 then\n",
      "            true\n",
      "        else\n",
      "            method1(v21)\n",
      "    let v24 : string = \"System.Exception: Option does not have a value.\"\n",
      "    let v25 : US1 = US1_0(v24)\n",
      "    let v26 : string = $\"__expect / actual: %A{v15} / expected: %A{v25}\"\n",
      "    let v27 : bool = v23 = false\n",
      "    if v27 then\n",
      "        failwith<unit> v26\n",
      "method0()\n",
      "\n",
      "US1_0 \"System.Exception: Option does not have a value.\"\n"
     ]
    }
   ],
   "source": [
    "// // test\n",
    "\n",
    "fun () =>\n",
    "    listm.init 10i32 id\n",
    "    |> item 10i32\n",
    "    |> ignore\n",
    "|> _throws\n",
    "|> optionm.map sm'.format_exception\n",
    "|> _assert_eq (Some \"System.Exception: Option does not have a value.\")"
   ]
  },
  {
   "cell_type": "markdown",
   "metadata": {},
   "source": [
    "## try_item_"
   ]
  },
  {
   "cell_type": "code",
   "execution_count": null,
   "metadata": {
    "dotnet_interactive": {
     "language": "spiral"
    },
    "polyglot_notebook": {
     "kernelName": "spiral"
    }
   },
   "outputs": [
    {
     "name": "stdout",
     "output_type": "stream",
     "text": [
      "()\n",
      "\n"
     ]
    }
   ],
   "source": [
    "let rec try_item_ i = function\n",
    "    | Cons (x, _) when i = 0 => Some x\n",
    "    | Cons (_, xs) => try_item_ (i - 1) xs\n",
    "    | Nil => None"
   ]
  },
  {
   "cell_type": "markdown",
   "metadata": {},
   "source": [
    "## item_"
   ]
  },
  {
   "cell_type": "code",
   "execution_count": null,
   "metadata": {
    "dotnet_interactive": {
     "language": "spiral"
    },
    "polyglot_notebook": {
     "kernelName": "spiral"
    }
   },
   "outputs": [
    {
     "name": "stdout",
     "output_type": "stream",
     "text": [
      "()\n",
      "\n"
     ]
    }
   ],
   "source": [
    "inl item_ i =\n",
    "    try_item_ i >> optionm.value"
   ]
  },
  {
   "cell_type": "markdown",
   "metadata": {},
   "source": [
    "## sum"
   ]
  },
  {
   "cell_type": "code",
   "execution_count": null,
   "metadata": {
    "dotnet_interactive": {
     "language": "spiral"
    },
    "polyglot_notebook": {
     "kernelName": "spiral"
    }
   },
   "outputs": [
    {
     "name": "stdout",
     "output_type": "stream",
     "text": [
      "()\n",
      "\n"
     ]
    }
   ],
   "source": [
    "inl sum list =\n",
    "    list |> listm.fold (+) 0"
   ]
  },
  {
   "cell_type": "code",
   "execution_count": null,
   "metadata": {
    "dotnet_interactive": {
     "language": "spiral"
    },
    "polyglot_notebook": {
     "kernelName": "spiral"
    }
   },
   "outputs": [
    {
     "name": "stdout",
     "output_type": "stream",
     "text": [
      "let rec method0 () : unit =\n",
      "    let v0 : string = $\"%A{45}\"\n",
      "    System.Console.WriteLine v0\n",
      "    let v1 : string = $\"__expect / actual: %A{45} / expected: %A{45}\"\n",
      "    ()\n",
      "method0()\n",
      "\n",
      "45\n"
     ]
    }
   ],
   "source": [
    "// // test\n",
    "\n",
    "listm.init 10i32 id\n",
    "|> sum\n",
    "|> _assert_eq 45"
   ]
  },
  {
   "cell_type": "markdown",
   "metadata": {},
   "source": [
    "## unzip"
   ]
  },
  {
   "cell_type": "code",
   "execution_count": null,
   "metadata": {
    "dotnet_interactive": {
     "language": "spiral"
    },
    "polyglot_notebook": {
     "kernelName": "spiral"
    }
   },
   "outputs": [
    {
     "name": "stdout",
     "output_type": "stream",
     "text": [
      "()\n",
      "\n"
     ]
    }
   ],
   "source": [
    "inl unzip list =\n",
    "    (([], []), list)\n",
    "    ||> listm.fold fun (acc_x, acc_y) (x, y) =>\n",
    "        x :: acc_x, y :: acc_y\n",
    "    |> fun x, y =>\n",
    "        x |> listm.rev, y |> listm.rev"
   ]
  },
  {
   "cell_type": "code",
   "execution_count": null,
   "metadata": {
    "dotnet_interactive": {
     "language": "spiral"
    },
    "polyglot_notebook": {
     "kernelName": "spiral"
    }
   },
   "outputs": [
    {
     "name": "stdout",
     "output_type": "stream",
     "text": [
      "let rec method0 () : unit =\n",
      "    let v0 : string = $\"%A{45}\"\n",
      "    System.Console.WriteLine v0\n",
      "    let v1 : string = $\"__expect / actual: %A{45} / expected: %A{45}\"\n",
      "    let v2 : string = $\"%A{45}\"\n",
      "    System.Console.WriteLine v2\n",
      "    let v3 : string = $\"__expect / actual: %A{45} / expected: %A{45}\"\n",
      "    ()\n",
      "method0()\n",
      "\n",
      "45\n",
      "45\n"
     ]
    }
   ],
   "source": [
    "// // test\n",
    "\n",
    "listm.init 10i32 id\n",
    "|> listm.map (fun x => x, x)\n",
    "|> unzip\n",
    "|> fun x, y =>\n",
    "    x |> sum\n",
    "    |> _assert_eq 45\n",
    "\n",
    "    y |> sum\n",
    "    |> _assert_eq 45"
   ]
  },
  {
   "cell_type": "markdown",
   "metadata": {},
   "source": [
    "## try_index_of"
   ]
  },
  {
   "cell_type": "code",
   "execution_count": null,
   "metadata": {
    "dotnet_interactive": {
     "language": "spiral"
    },
    "polyglot_notebook": {
     "kernelName": "spiral"
    }
   },
   "outputs": [
    {
     "name": "stdout",
     "output_type": "stream",
     "text": [
      "()\n",
      "\n"
     ]
    }
   ],
   "source": [
    "inl try_index_of item list =\n",
    "    inl rec loop i = function\n",
    "        | [] => None\n",
    "        | x :: xs =>\n",
    "            if x = item\n",
    "            then Some i\n",
    "            else loop (i + 1) xs\n",
    "    loop 0 list\n",
    "\n",
    "inl index_of item =\n",
    "    try_index_of item >> optionm.value\n",
    "\n",
    "inl try_index_of_ item list =\n",
    "    let rec loop i = function\n",
    "        | [] => None\n",
    "        | x :: xs =>\n",
    "            if x = item\n",
    "            then Some i\n",
    "            else loop (i + 1) xs\n",
    "    loop 0 list\n",
    "\n",
    "inl index_of_ item =\n",
    "    try_index_of_ item >> optionm.value\n",
    "\n",
    "inl try_index_of__ item list =\n",
    "    inl i = mut 0\n",
    "    inl list = mut list\n",
    "    inl result = mut None\n",
    "    let rec loop () =\n",
    "        match *list with\n",
    "        | [] => result <- None\n",
    "        | x :: xs =>\n",
    "            if x = item\n",
    "            then result <- Some *i\n",
    "            else\n",
    "                i <- *i + 1\n",
    "                list <- xs\n",
    "                loop ()\n",
    "    loop ()\n",
    "    *result\n",
    "\n",
    "inl index_of__ item =\n",
    "    try_index_of__ item >> optionm.value"
   ]
  },
  {
   "cell_type": "code",
   "execution_count": null,
   "metadata": {
    "dotnet_interactive": {
     "language": "spiral"
    },
    "polyglot_notebook": {
     "kernelName": "spiral"
    }
   },
   "outputs": [
    {
     "name": "stdout",
     "output_type": "stream",
     "text": [
      "let rec method0 () : unit =\n",
      "    let v0 : string = $\"%A{5}\"\n",
      "    System.Console.WriteLine v0\n",
      "    let v1 : string = $\"__expect / actual: %A{5} / expected: %A{5}\"\n",
      "    ()\n",
      "method0()\n",
      "\n",
      "5\n"
     ]
    }
   ],
   "source": [
    "// // test\n",
    "\n",
    "listm.init 10i32 id\n",
    "|> index_of 5i32\n",
    "|> _assert_eq 5i32"
   ]
  },
  {
   "cell_type": "code",
   "execution_count": null,
   "metadata": {
    "dotnet_interactive": {
     "language": "spiral"
    },
    "polyglot_notebook": {
     "kernelName": "spiral"
    }
   },
   "outputs": [
    {
     "name": "stdout",
     "output_type": "stream",
     "text": [
      "type [<Struct>] US0 =\n",
      "    | US0_0 of f0_0 : int32\n",
      "    | US0_1\n",
      "let rec method0 () : unit =\n",
      "    let v0 : US0 = US0_1\n",
      "    let v1 : string = $\"%A{v0}\"\n",
      "    System.Console.WriteLine v1\n",
      "    let v5 : US0 = US0_1\n",
      "    let v6 : US0 = US0_1\n",
      "    let v7 : string = $\"__expect / actual: %A{v5} / expected: %A{v6}\"\n",
      "    ()\n",
      "method0()\n",
      "\n",
      "US0_1\n"
     ]
    }
   ],
   "source": [
    "// // test\n",
    "\n",
    "listm.init 10i32 id\n",
    "|> try_index_of 10i32\n",
    "|> _assert_eq (None : option i32)"
   ]
  },
  {
   "cell_type": "markdown",
   "metadata": {},
   "source": [
    "## try_find"
   ]
  },
  {
   "cell_type": "code",
   "execution_count": null,
   "metadata": {
    "dotnet_interactive": {
     "language": "spiral"
    },
    "polyglot_notebook": {
     "kernelName": "spiral"
    }
   },
   "outputs": [
    {
     "name": "stdout",
     "output_type": "stream",
     "text": [
      "()\n",
      "\n"
     ]
    }
   ],
   "source": [
    "inl try_find fn list =\n",
    "    inl rec loop = function\n",
    "        | [] => None\n",
    "        | x :: xs =>\n",
    "            if fn x\n",
    "            then Some x\n",
    "            else loop xs\n",
    "    loop list\n",
    "\n",
    "inl try_find_ fn list =\n",
    "    let rec loop = function\n",
    "        | [] => None\n",
    "        | x :: xs =>\n",
    "            if fn x\n",
    "            then Some x\n",
    "            else loop xs\n",
    "    loop list"
   ]
  },
  {
   "cell_type": "code",
   "execution_count": null,
   "metadata": {
    "dotnet_interactive": {
     "language": "spiral"
    },
    "polyglot_notebook": {
     "kernelName": "spiral"
    }
   },
   "outputs": [
    {
     "name": "stdout",
     "output_type": "stream",
     "text": [
      "type [<Struct>] US0 =\n",
      "    | US0_0 of f0_0 : int32\n",
      "    | US0_1\n",
      "let rec method0 () : unit =\n",
      "    let v0 : US0 = US0_0(5)\n",
      "    let v1 : string = $\"%A{v0}\"\n",
      "    System.Console.WriteLine v1\n",
      "    let v5 : US0 = US0_0(5)\n",
      "    let v6 : US0 = US0_0(5)\n",
      "    let v7 : string = $\"__expect / actual: %A{v5} / expected: %A{v6}\"\n",
      "    ()\n",
      "method0()\n",
      "\n",
      "US0_0 5\n"
     ]
    }
   ],
   "source": [
    "// // test\n",
    "\n",
    "listm.init 10i32 id\n",
    "|> try_find ((=) 5i32)\n",
    "|> _assert_eq (Some 5i32)"
   ]
  },
  {
   "cell_type": "code",
   "execution_count": null,
   "metadata": {
    "dotnet_interactive": {
     "language": "spiral"
    },
    "polyglot_notebook": {
     "kernelName": "spiral"
    }
   },
   "outputs": [
    {
     "name": "stdout",
     "output_type": "stream",
     "text": [
      "()\n",
      "\n"
     ]
    }
   ],
   "source": [
    "inl find x =\n",
    "    try_find x >> optionm.value\n",
    "\n",
    "inl find_ x =\n",
    "    try_find_ x >> optionm.value"
   ]
  },
  {
   "cell_type": "code",
   "execution_count": null,
   "metadata": {
    "dotnet_interactive": {
     "language": "spiral"
    },
    "polyglot_notebook": {
     "kernelName": "spiral"
    }
   },
   "outputs": [
    {
     "name": "stdout",
     "output_type": "stream",
     "text": [
      "let rec method0 () : unit =\n",
      "    let v0 : string = $\"%A{5}\"\n",
      "    System.Console.WriteLine v0\n",
      "    let v1 : string = $\"__expect / actual: %A{5} / expected: %A{5}\"\n",
      "    ()\n",
      "method0()\n",
      "\n",
      "5\n"
     ]
    }
   ],
   "source": [
    "// // test\n",
    "\n",
    "listm.init 10i32 id\n",
    "|> find ((=) 5i32)\n",
    "|> _assert_eq 5i32"
   ]
  },
  {
   "cell_type": "markdown",
   "metadata": {},
   "source": [
    "## choose"
   ]
  },
  {
   "cell_type": "code",
   "execution_count": null,
   "metadata": {
    "dotnet_interactive": {
     "language": "spiral"
    },
    "polyglot_notebook": {
     "kernelName": "spiral"
    }
   },
   "outputs": [
    {
     "name": "stdout",
     "output_type": "stream",
     "text": [
      "()\n",
      "\n"
     ]
    }
   ],
   "source": [
    "inl choose f l =\n",
    "    (l, [])\n",
    "    ||> listm.foldBack fun x acc =>\n",
    "        match f x with\n",
    "        | Some y => y :: acc\n",
    "        | None => acc"
   ]
  },
  {
   "cell_type": "code",
   "execution_count": null,
   "metadata": {
    "dotnet_interactive": {
     "language": "spiral"
    },
    "polyglot_notebook": {
     "kernelName": "spiral"
    }
   },
   "outputs": [
    {
     "name": "stdout",
     "output_type": "stream",
     "text": [
      "type UH0 =\n",
      "    | UH0_0\n",
      "    | UH0_1 of int32 * UH0\n",
      "let rec method0 () : unit =\n",
      "    let v0 : UH0 = UH0_0\n",
      "    let v1 : UH0 = UH0_1(8, v0)\n",
      "    let v2 : UH0 = UH0_1(6, v1)\n",
      "    let v3 : UH0 = UH0_1(4, v2)\n",
      "    let v4 : UH0 = UH0_1(2, v3)\n",
      "    let v5 : UH0 = UH0_1(0, v4)\n",
      "    let v6 : string = $\"%A{v5}\"\n",
      "    System.Console.WriteLine v6\n",
      "    let v40 : UH0 = UH0_0\n",
      "    let v41 : UH0 = UH0_1(8, v40)\n",
      "    let v42 : UH0 = UH0_1(6, v41)\n",
      "    let v43 : UH0 = UH0_1(4, v42)\n",
      "    let v44 : UH0 = UH0_1(2, v43)\n",
      "    let v45 : UH0 = UH0_1(0, v44)\n",
      "    let v46 : UH0 = UH0_0\n",
      "    let v47 : UH0 = UH0_1(8, v46)\n",
      "    let v48 : UH0 = UH0_1(6, v47)\n",
      "    let v49 : UH0 = UH0_1(4, v48)\n",
      "    let v50 : UH0 = UH0_1(2, v49)\n",
      "    let v51 : UH0 = UH0_1(0, v50)\n",
      "    let v52 : string = $\"__expect / actual: %A{v45} / expected: %A{v51}\"\n",
      "    ()\n",
      "method0()\n",
      "\n",
      "UH0_1 (0, UH0_1 (2, UH0_1 (4, UH0_1 (6, UH0_1 (8, UH0_0)))))\n"
     ]
    }
   ],
   "source": [
    "// // test\n",
    "\n",
    "listm.init 10i32 id\n",
    "|> choose (fun x => if x % 2 = 0 then Some x else None)\n",
    "|> _assert_eq [ 0; 2; 4; 6; 8 ]"
   ]
  },
  {
   "cell_type": "markdown",
   "metadata": {},
   "source": [
    "## zip_with"
   ]
  },
  {
   "cell_type": "code",
   "execution_count": null,
   "metadata": {
    "dotnet_interactive": {
     "language": "spiral"
    },
    "polyglot_notebook": {
     "kernelName": "spiral"
    }
   },
   "outputs": [
    {
     "name": "stdout",
     "output_type": "stream",
     "text": [
      "()\n",
      "\n"
     ]
    }
   ],
   "source": [
    "inl zip_with fn xs ys =\n",
    "    inl rec loop acc xs ys =\n",
    "        match xs, ys with\n",
    "        | Cons (x, xs), Cons (y, ys) =>\n",
    "            loop (fn x y :: acc) xs ys\n",
    "        | _ => listm.rev acc\n",
    "    loop [] xs ys\n",
    "\n",
    "inl zip_with_ fn xs ys =\n",
    "    let rec loop acc xs ys =\n",
    "        match xs, ys with\n",
    "        | Cons (x, xs), Cons (y, ys) =>\n",
    "            loop (fn x y :: acc) xs ys\n",
    "        | _ => listm.rev acc\n",
    "    loop [] xs ys"
   ]
  },
  {
   "cell_type": "code",
   "execution_count": null,
   "metadata": {
    "dotnet_interactive": {
     "language": "spiral"
    },
    "polyglot_notebook": {
     "kernelName": "spiral"
    }
   },
   "outputs": [
    {
     "name": "stdout",
     "output_type": "stream",
     "text": [
      "type UH0 =\n",
      "    | UH0_0\n",
      "    | UH0_1 of int32 * UH0\n",
      "let rec method0 () : unit =\n",
      "    let v0 : UH0 = UH0_0\n",
      "    let v1 : UH0 = UH0_1(9, v0)\n",
      "    let v2 : UH0 = UH0_1(7, v1)\n",
      "    let v3 : UH0 = UH0_1(5, v2)\n",
      "    let v4 : string = $\"%A{v3}\"\n",
      "    System.Console.WriteLine v4\n",
      "    let v23 : UH0 = UH0_0\n",
      "    let v24 : UH0 = UH0_1(9, v23)\n",
      "    let v25 : UH0 = UH0_1(7, v24)\n",
      "    let v26 : UH0 = UH0_1(5, v25)\n",
      "    let v27 : UH0 = UH0_0\n",
      "    let v28 : UH0 = UH0_1(9, v27)\n",
      "    let v29 : UH0 = UH0_1(7, v28)\n",
      "    let v30 : UH0 = UH0_1(5, v29)\n",
      "    let v31 : string = $\"__expect / actual: %A{v26} / expected: %A{v30}\"\n",
      "    ()\n",
      "method0()\n",
      "\n",
      "UH0_1 (5, UH0_1 (7, UH0_1 (9, UH0_0)))\n"
     ]
    }
   ],
   "source": [
    "// // test\n",
    "\n",
    "([ 1i32; 2; 3 ], [ 4; 5; 6 ])\n",
    "||> zip_with (+)\n",
    "|> _assert_eq [ 5; 7; 9 ]"
   ]
  },
  {
   "cell_type": "markdown",
   "metadata": {},
   "source": [
    "## zip"
   ]
  },
  {
   "cell_type": "code",
   "execution_count": null,
   "metadata": {
    "dotnet_interactive": {
     "language": "spiral"
    },
    "polyglot_notebook": {
     "kernelName": "spiral"
    }
   },
   "outputs": [
    {
     "name": "stdout",
     "output_type": "stream",
     "text": [
      "()\n",
      "\n"
     ]
    }
   ],
   "source": [
    "inl zip xs ys =\n",
    "    zip_with pair xs ys\n",
    "\n",
    "inl zip_ xs ys =\n",
    "    zip_with_ pair xs ys"
   ]
  },
  {
   "cell_type": "code",
   "execution_count": null,
   "metadata": {
    "dotnet_interactive": {
     "language": "spiral"
    },
    "polyglot_notebook": {
     "kernelName": "spiral"
    }
   },
   "outputs": [
    {
     "name": "stdout",
     "output_type": "stream",
     "text": [
      "type UH0 =\n",
      "    | UH0_0\n",
      "    | UH0_1 of int32 * int32 * UH0\n",
      "let rec method0 () : unit =\n",
      "    let v0 : UH0 = UH0_0\n",
      "    let v1 : UH0 = UH0_1(3, 6, v0)\n",
      "    let v2 : UH0 = UH0_1(2, 5, v1)\n",
      "    let v3 : UH0 = UH0_1(1, 4, v2)\n",
      "    let v4 : string = $\"%A{v3}\"\n",
      "    System.Console.WriteLine v4\n",
      "    let v23 : UH0 = UH0_0\n",
      "    let v24 : UH0 = UH0_1(3, 6, v23)\n",
      "    let v25 : UH0 = UH0_1(2, 5, v24)\n",
      "    let v26 : UH0 = UH0_1(1, 4, v25)\n",
      "    let v27 : UH0 = UH0_0\n",
      "    let v28 : UH0 = UH0_1(3, 6, v27)\n",
      "    let v29 : UH0 = UH0_1(2, 5, v28)\n",
      "    let v30 : UH0 = UH0_1(1, 4, v29)\n",
      "    let v31 : string = $\"__expect / actual: %A{v26} / expected: %A{v30}\"\n",
      "    ()\n",
      "method0()\n",
      "\n",
      "UH0_1 (1, 4, UH0_1 (2, 5, UH0_1 (3, 6, UH0_0)))\n"
     ]
    }
   ],
   "source": [
    "// // test\n",
    "\n",
    "([ 1i32; 2; 3 ], [ 4i32; 5; 6 ])\n",
    "||> zip\n",
    "|> _assert_eq [ 1, 4; 2, 5; 3, 6 ]"
   ]
  },
  {
   "cell_type": "markdown",
   "metadata": {},
   "source": [
    "## indexed"
   ]
  },
  {
   "cell_type": "code",
   "execution_count": null,
   "metadata": {
    "dotnet_interactive": {
     "language": "spiral"
    },
    "polyglot_notebook": {
     "kernelName": "spiral"
    }
   },
   "outputs": [
    {
     "name": "stdout",
     "output_type": "stream",
     "text": [
      "()\n",
      "\n"
     ]
    }
   ],
   "source": [
    "inl indexed list =\n",
    "    (([], 0), list)\n",
    "    ||> listm.fold fun (acc, i) x =>\n",
    "        (i, x) :: acc, i + 1\n",
    "    |> fst\n",
    "    |> listm.rev"
   ]
  },
  {
   "cell_type": "code",
   "execution_count": null,
   "metadata": {
    "dotnet_interactive": {
     "language": "spiral"
    },
    "polyglot_notebook": {
     "kernelName": "spiral"
    }
   },
   "outputs": [
    {
     "name": "stdout",
     "output_type": "stream",
     "text": [
      "type UH0 =\n",
      "    | UH0_0\n",
      "    | UH0_1 of int32 * int32 * UH0\n",
      "let rec method0 () : unit =\n",
      "    let v0 : UH0 = UH0_0\n",
      "    let v1 : UH0 = UH0_1(4, 8, v0)\n",
      "    let v2 : UH0 = UH0_1(3, 6, v1)\n",
      "    let v3 : UH0 = UH0_1(2, 4, v2)\n",
      "    let v4 : UH0 = UH0_1(1, 2, v3)\n",
      "    let v5 : UH0 = UH0_1(0, 0, v4)\n",
      "    let v6 : string = $\"%A{v5}\"\n",
      "    System.Console.WriteLine v6\n",
      "    let v40 : UH0 = UH0_0\n",
      "    let v41 : UH0 = UH0_1(4, 8, v40)\n",
      "    let v42 : UH0 = UH0_1(3, 6, v41)\n",
      "    let v43 : UH0 = UH0_1(2, 4, v42)\n",
      "    let v44 : UH0 = UH0_1(1, 2, v43)\n",
      "    let v45 : UH0 = UH0_1(0, 0, v44)\n",
      "    let v46 : UH0 = UH0_0\n",
      "    let v47 : UH0 = UH0_1(4, 8, v46)\n",
      "    let v48 : UH0 = UH0_1(3, 6, v47)\n",
      "    let v49 : UH0 = UH0_1(2, 4, v48)\n",
      "    let v50 : UH0 = UH0_1(1, 2, v49)\n",
      "    let v51 : UH0 = UH0_1(0, 0, v50)\n",
      "    let v52 : string = $\"__expect / actual: %A{v45} / expected: %A{v51}\"\n",
      "    ()\n",
      "method0()\n",
      "\n",
      "UH0_1 (0, 0, UH0_1 (1, 2, UH0_1 (2, 4, UH0_1 (3, 6, UH0_1 (4, 8, UH0_0)))))\n"
     ]
    }
   ],
   "source": [
    "// // test\n",
    "\n",
    "listm.init 5i32 ((*) 2)\n",
    "|> indexed\n",
    "|> _assert_eq [ 0i32, 0; 1, 2; 2, 4; 3, 6; 4, 8 ]"
   ]
  },
  {
   "cell_type": "markdown",
   "metadata": {},
   "source": [
    "## group_by"
   ]
  },
  {
   "cell_type": "code",
   "execution_count": null,
   "metadata": {
    "dotnet_interactive": {
     "language": "spiral"
    },
    "polyglot_notebook": {
     "kernelName": "spiral"
    }
   },
   "outputs": [
    {
     "name": "stdout",
     "output_type": "stream",
     "text": [
      "()\n",
      "\n"
     ]
    }
   ],
   "source": [
    "inl group_by fn list =\n",
    "    (list, [])\n",
    "    ||> listm.foldBack fun x acc =>\n",
    "        inl xk = fn x\n",
    "        inl found, new_acc =\n",
    "            ((false, []), acc)\n",
    "            ||> listm.fold fun (found, acc') (k, xs) =>\n",
    "                if k = xk\n",
    "                then true, (k, x :: xs) :: acc'\n",
    "                else found, (k, xs) :: acc'\n",
    "        if found\n",
    "        then new_acc\n",
    "        else (xk, [ x ]) :: new_acc"
   ]
  },
  {
   "cell_type": "code",
   "execution_count": null,
   "metadata": {
    "dotnet_interactive": {
     "language": "spiral"
    },
    "polyglot_notebook": {
     "kernelName": "spiral"
    }
   },
   "outputs": [
    {
     "name": "stdout",
     "output_type": "stream",
     "text": [
      "type UH0 =\n",
      "    | UH0_0\n",
      "    | UH0_1 of int32 * UH0\n",
      "and UH1 =\n",
      "    | UH1_0\n",
      "    | UH1_1 of bool * UH0 * UH1\n",
      "let rec method0 () : unit =\n",
      "    let v0 : UH0 = UH0_0\n",
      "    let v1 : UH0 = UH0_1(8, v0)\n",
      "    let v2 : UH0 = UH0_1(6, v1)\n",
      "    let v3 : UH0 = UH0_1(4, v2)\n",
      "    let v4 : UH0 = UH0_1(2, v3)\n",
      "    let v5 : UH0 = UH0_1(0, v4)\n",
      "    let v6 : UH0 = UH0_0\n",
      "    let v7 : UH0 = UH0_1(9, v6)\n",
      "    let v8 : UH0 = UH0_1(7, v7)\n",
      "    let v9 : UH0 = UH0_1(5, v8)\n",
      "    let v10 : UH0 = UH0_1(3, v9)\n",
      "    let v11 : UH0 = UH0_1(1, v10)\n",
      "    let v12 : UH1 = UH1_0\n",
      "    let v13 : UH1 = UH1_1(false, v11, v12)\n",
      "    let v14 : UH1 = UH1_1(true, v5, v13)\n",
      "    let v15 : string = $\"%A{v14}\"\n",
      "    System.Console.WriteLine v15\n",
      "    let v112 : UH0 = UH0_0\n",
      "    let v113 : UH0 = UH0_1(8, v112)\n",
      "    let v114 : UH0 = UH0_1(6, v113)\n",
      "    let v115 : UH0 = UH0_1(4, v114)\n",
      "    let v116 : UH0 = UH0_1(2, v115)\n",
      "    let v117 : UH0 = UH0_1(0, v116)\n",
      "    let v118 : UH0 = UH0_0\n",
      "    let v119 : UH0 = UH0_1(9, v118)\n",
      "    let v120 : UH0 = UH0_1(7, v119)\n",
      "    let v121 : UH0 = UH0_1(5, v120)\n",
      "    let v122 : UH0 = UH0_1(3, v121)\n",
      "    let v123 : UH0 = UH0_1(1, v122)\n",
      "    let v124 : UH1 = UH1_0\n",
      "    let v125 : UH1 = UH1_1(false, v123, v124)\n",
      "    let v126 : UH1 = UH1_1(true, v117, v125)\n",
      "    let v127 : UH0 = UH0_0\n",
      "    let v128 : UH0 = UH0_1(8, v127)\n",
      "    let v129 : UH0 = UH0_1(6, v128)\n",
      "    let v130 : UH0 = UH0_1(4, v129)\n",
      "    let v131 : UH0 = UH0_1(2, v130)\n",
      "    let v132 : UH0 = UH0_1(0, v131)\n",
      "    let v133 : UH0 = UH0_0\n",
      "    let v134 : UH0 = UH0_1(9, v133)\n",
      "    let v135 : UH0 = UH0_1(7, v134)\n",
      "    let v136 : UH0 = UH0_1(5, v135)\n",
      "    let v137 : UH0 = UH0_1(3, v136)\n",
      "    let v138 : UH0 = UH0_1(1, v137)\n",
      "    let v139 : UH1 = UH1_0\n",
      "    let v140 : UH1 = UH1_1(false, v138, v139)\n",
      "    let v141 : UH1 = UH1_1(true, v132, v140)\n",
      "    let v142 : string = $\"__expect / actual: %A{v126} / expected: %A{v141}\"\n",
      "    ()\n",
      "method0()\n",
      "\n",
      "UH1_1\n",
      "  (true, UH0_1 (0, UH0_1 (2, UH0_1 (4, UH0_1 (6, UH0_1 (8, UH0_0))))),\n",
      "   UH1_1\n",
      "     (false, UH0_1 (1, UH0_1 (3, UH0_1 (5, UH0_1 (7, UH0_1 (9, UH0_0))))), UH1_0))\n"
     ]
    }
   ],
   "source": [
    "// // test\n",
    "\n",
    "listm.init 10i32 id\n",
    "|> group_by (fun x => x % 2 = 0)\n",
    "|> _assert_eq [ true, [ 0; 2; 4; 6; 8 ]; false, [ 1; 3; 5; 7; 9 ] ]"
   ]
  },
  {
   "cell_type": "markdown",
   "metadata": {},
   "source": [
    "## forall'"
   ]
  },
  {
   "cell_type": "code",
   "execution_count": null,
   "metadata": {
    "dotnet_interactive": {
     "language": "spiral"
    },
    "polyglot_notebook": {
     "kernelName": "spiral"
    }
   },
   "outputs": [
    {
     "name": "stdout",
     "output_type": "stream",
     "text": [
      "()\n",
      "\n"
     ]
    }
   ],
   "source": [
    "inl forall' fn (head :: tail) =\n",
    "    (true, tail)\n",
    "    ||> listm.fold fun acc x =>\n",
    "        acc && x = head"
   ]
  },
  {
   "cell_type": "code",
   "execution_count": null,
   "metadata": {
    "dotnet_interactive": {
     "language": "spiral"
    },
    "polyglot_notebook": {
     "kernelName": "spiral"
    }
   },
   "outputs": [
    {
     "name": "stdout",
     "output_type": "stream",
     "text": [
      "let rec method0 () : unit =\n",
      "    let v0 : string = $\"%A{true}\"\n",
      "    System.Console.WriteLine v0\n",
      "    let v1 : string = $\"__expect / actual: %A{true} / expected: %A{true}\"\n",
      "    ()\n",
      "method0()\n",
      "\n",
      "true\n"
     ]
    }
   ],
   "source": [
    "// // test\n",
    "\n",
    "[ 1i32; 1; 1; 1; 1 ]\n",
    "|> forall' ((=) 1i32)\n",
    "|> _assert_eq true"
   ]
  },
  {
   "cell_type": "markdown",
   "metadata": {},
   "source": [
    "## last"
   ]
  },
  {
   "cell_type": "code",
   "execution_count": null,
   "metadata": {
    "dotnet_interactive": {
     "language": "spiral"
    },
    "polyglot_notebook": {
     "kernelName": "spiral"
    }
   },
   "outputs": [
    {
     "name": "stdout",
     "output_type": "stream",
     "text": [
      "()\n",
      "\n"
     ]
    }
   ],
   "source": [
    "inl last list =\n",
    "    list\n",
    "    |> listm.rev\n",
    "    |> item 0i32"
   ]
  },
  {
   "cell_type": "code",
   "execution_count": null,
   "metadata": {
    "dotnet_interactive": {
     "language": "spiral"
    },
    "polyglot_notebook": {
     "kernelName": "spiral"
    }
   },
   "outputs": [
    {
     "name": "stdout",
     "output_type": "stream",
     "text": [
      "let rec method0 () : unit =\n",
      "    let v0 : string = $\"%A{9}\"\n",
      "    System.Console.WriteLine v0\n",
      "    let v1 : string = $\"__expect / actual: %A{9} / expected: %A{9}\"\n",
      "    ()\n",
      "method0()\n",
      "\n",
      "9\n"
     ]
    }
   ],
   "source": [
    "// // test\n",
    "\n",
    "listm.init 10i32 id\n",
    "|> last\n",
    "|> _assert_eq 9"
   ]
  },
  {
   "cell_type": "markdown",
   "metadata": {},
   "source": [
    "## try_pick"
   ]
  },
  {
   "cell_type": "code",
   "execution_count": null,
   "metadata": {
    "dotnet_interactive": {
     "language": "spiral"
    },
    "polyglot_notebook": {
     "kernelName": "spiral"
    }
   },
   "outputs": [
    {
     "name": "stdout",
     "output_type": "stream",
     "text": [
      "()\n",
      "\n"
     ]
    }
   ],
   "source": [
    "inl try_pick fn list =\n",
    "    inl rec body fn = function\n",
    "        | [] => None\n",
    "        | x :: xs =>\n",
    "            match fn x with\n",
    "            | Some y => Some y\n",
    "            | None => loop xs\n",
    "    and inl loop list =\n",
    "        if var_is list |> not\n",
    "        then body fn list\n",
    "        else\n",
    "            inl fn = join fn\n",
    "            inl list = dyn list\n",
    "            join body fn list\n",
    "    loop list"
   ]
  },
  {
   "cell_type": "code",
   "execution_count": null,
   "metadata": {
    "dotnet_interactive": {
     "language": "spiral"
    },
    "polyglot_notebook": {
     "kernelName": "spiral"
    }
   },
   "outputs": [
    {
     "name": "stdout",
     "output_type": "stream",
     "text": [
      "type [<Struct>] US0 =\n",
      "    | US0_0 of f0_0 : int32\n",
      "    | US0_1\n",
      "let rec method0 () : unit =\n",
      "    let v0 : US0 = US0_0(5)\n",
      "    let v1 : string = $\"%A{v0}\"\n",
      "    System.Console.WriteLine v1\n",
      "    let v5 : US0 = US0_0(5)\n",
      "    let v6 : US0 = US0_0(5)\n",
      "    let v7 : string = $\"__expect / actual: %A{v5} / expected: %A{v6}\"\n",
      "    ()\n",
      "method0()\n",
      "\n",
      "US0_0 5\n"
     ]
    }
   ],
   "source": [
    "// // test\n",
    "\n",
    "listm.init 10i32 id\n",
    "|> try_pick (fun x => if x = 5i32 then Some x else None)\n",
    "|> _assert_eq (Some 5i32)"
   ]
  }
 ],
 "metadata": {},
 "nbformat": 4,
 "nbformat_minor": 5
}