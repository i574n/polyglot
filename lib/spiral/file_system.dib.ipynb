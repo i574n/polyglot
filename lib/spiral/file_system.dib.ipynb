{
 "cells": [
  {
   "cell_type": "markdown",
   "metadata": {},
   "source": [
    "# file_system"
   ]
  },
  {
   "cell_type": "code",
   "execution_count": null,
   "metadata": {
    "dotnet_interactive": {
     "language": "spiral"
    },
    "polyglot_notebook": {
     "kernelName": "spiral"
    }
   },
   "outputs": [],
   "source": [
    "open sm'_operators\n",
    "open rust\n",
    "open rust_operators"
   ]
  },
  {
   "cell_type": "code",
   "execution_count": null,
   "metadata": {
    "dotnet_interactive": {
     "language": "spiral"
    },
    "polyglot_notebook": {
     "kernelName": "spiral"
    }
   },
   "outputs": [],
   "source": [
    "//// test\n",
    "\n",
    "open testing"
   ]
  },
  {
   "cell_type": "markdown",
   "metadata": {},
   "source": [
    "## fsharp"
   ]
  },
  {
   "cell_type": "markdown",
   "metadata": {},
   "source": [
    "### file_mode"
   ]
  },
  {
   "cell_type": "code",
   "execution_count": null,
   "metadata": {
    "dotnet_interactive": {
     "language": "spiral"
    },
    "polyglot_notebook": {
     "kernelName": "spiral"
    }
   },
   "outputs": [],
   "source": [
    "nominal file_mode' = $'System.IO.FileMode'\n",
    "\n",
    "union file_mode =\n",
    "    | ModeCreateNew\n",
    "    | ModeCreate\n",
    "    | ModeOpen\n",
    "    | ModeOpenOrCreate\n",
    "    | Truncate\n",
    "    | Append\n",
    "\n",
    "inl file_mode = function\n",
    "    | ModeCreateNew => $'System.IO.FileMode.CreateNew' : file_mode'\n",
    "    | ModeCreate => $'System.IO.FileMode.Create' : file_mode'\n",
    "    | ModeOpen => $'System.IO.FileMode.Open' : file_mode'\n",
    "    | ModeOpenOrCreate => $'System.IO.FileMode.OpenOrCreate' : file_mode'\n",
    "    | Truncate => $'System.IO.FileMode.Truncate' : file_mode'\n",
    "    | Append => $'System.IO.FileMode.Append' : file_mode'"
   ]
  },
  {
   "cell_type": "markdown",
   "metadata": {},
   "source": [
    "### file_access"
   ]
  },
  {
   "cell_type": "code",
   "execution_count": null,
   "metadata": {
    "dotnet_interactive": {
     "language": "spiral"
    },
    "polyglot_notebook": {
     "kernelName": "spiral"
    }
   },
   "outputs": [],
   "source": [
    "nominal file_access' = $'System.IO.FileAccess'\n",
    "\n",
    "union file_access =\n",
    "    | AccessRead\n",
    "    | AccessWrite\n",
    "    | AccessReadWrite\n",
    "\n",
    "inl file_access = function\n",
    "    | AccessRead => $'System.IO.FileAccess.Read' : file_access'\n",
    "    | AccessWrite => $'System.IO.FileAccess.ReadWrite' : file_access'\n",
    "    | AccessReadWrite => $'System.IO.FileAccess.ReadWrite' : file_access'"
   ]
  },
  {
   "cell_type": "markdown",
   "metadata": {},
   "source": [
    "### file_share"
   ]
  },
  {
   "cell_type": "code",
   "execution_count": null,
   "metadata": {
    "dotnet_interactive": {
     "language": "spiral"
    },
    "polyglot_notebook": {
     "kernelName": "spiral"
    }
   },
   "outputs": [],
   "source": [
    "nominal file_share' = $'System.IO.FileShare'\n",
    "\n",
    "union file_share =\n",
    "    | ShareNone\n",
    "    | ShareRead\n",
    "    | ShareWrite\n",
    "    | ShareReadWrite\n",
    "    | ShareDelete\n",
    "\n",
    "inl file_share = function\n",
    "    | ShareNone => $'System.IO.FileShare.None' : file_share'\n",
    "    | ShareRead => $'System.IO.FileShare.Read' : file_share'\n",
    "    | ShareWrite => $'System.IO.FileShare.Write' : file_share'\n",
    "    | ShareReadWrite => $'System.IO.FileShare.ReadWrite' : file_share'\n",
    "    | ShareDelete => $'System.IO.FileShare.Delete' : file_share'"
   ]
  },
  {
   "cell_type": "markdown",
   "metadata": {},
   "source": [
    "### file_stream"
   ]
  },
  {
   "cell_type": "code",
   "execution_count": null,
   "metadata": {
    "dotnet_interactive": {
     "language": "spiral"
    },
    "polyglot_notebook": {
     "kernelName": "spiral"
    }
   },
   "outputs": [],
   "source": [
    "nominal file_stream' = $'System.IO.FileStream'\n",
    "\n",
    "inl file_stream (path : string) mode access share : file_stream' =\n",
    "    run_target function\n",
    "        | Fsharp (Native) => fun () =>\n",
    "            inl mode = mode |> file_mode\n",
    "            inl access = access |> file_access\n",
    "            inl share = share |> file_share\n",
    "            $'new System.IO.FileStream (!path, !mode, !access, !share)'\n",
    "        | _ => fun () => null ()"
   ]
  },
  {
   "cell_type": "markdown",
   "metadata": {},
   "source": [
    "### directory_info"
   ]
  },
  {
   "cell_type": "code",
   "execution_count": null,
   "metadata": {
    "dotnet_interactive": {
     "language": "spiral"
    },
    "polyglot_notebook": {
     "kernelName": "spiral"
    }
   },
   "outputs": [],
   "source": [
    "nominal directory_info = $'System.IO.DirectoryInfo'\n",
    "\n",
    "inl directory_info (path : string) : directory_info =\n",
    "    path |> $'`directory_info '"
   ]
  },
  {
   "cell_type": "markdown",
   "metadata": {},
   "source": [
    "### directory_info_exists"
   ]
  },
  {
   "cell_type": "code",
   "execution_count": null,
   "metadata": {
    "dotnet_interactive": {
     "language": "spiral"
    },
    "polyglot_notebook": {
     "kernelName": "spiral"
    }
   },
   "outputs": [],
   "source": [
    "inl directory_info_exists (info : directory_info) : bool =\n",
    "    run_target function\n",
    "        | Fsharp (Native) => fun () =>\n",
    "            $'!info.Exists'\n",
    "        | _ => fun () => null ()"
   ]
  },
  {
   "cell_type": "markdown",
   "metadata": {},
   "source": [
    "### directory_info_creation_time"
   ]
  },
  {
   "cell_type": "code",
   "execution_count": null,
   "metadata": {
    "dotnet_interactive": {
     "language": "spiral"
    },
    "polyglot_notebook": {
     "kernelName": "spiral"
    }
   },
   "outputs": [],
   "source": [
    "inl directory_info_creation_time (info : directory_info) : date_time.date_time =\n",
    "    run_target function\n",
    "        | Fsharp (Native) => fun () =>\n",
    "            $'!info.CreationTime'\n",
    "        | _ => fun () => null ()"
   ]
  },
  {
   "cell_type": "markdown",
   "metadata": {},
   "source": [
    "### directory_info_name"
   ]
  },
  {
   "cell_type": "code",
   "execution_count": null,
   "metadata": {
    "dotnet_interactive": {
     "language": "spiral"
    },
    "polyglot_notebook": {
     "kernelName": "spiral"
    }
   },
   "outputs": [],
   "source": [
    "inl directory_info_name (info : directory_info) : string =\n",
    "    run_target function\n",
    "        | Fsharp (Native) => fun () =>\n",
    "            $'!info.Name'\n",
    "        | _ => fun () => null ()"
   ]
  },
  {
   "cell_type": "markdown",
   "metadata": {},
   "source": [
    "### directory_info_full_name"
   ]
  },
  {
   "cell_type": "code",
   "execution_count": null,
   "metadata": {
    "dotnet_interactive": {
     "language": "spiral"
    },
    "polyglot_notebook": {
     "kernelName": "spiral"
    }
   },
   "outputs": [],
   "source": [
    "inl directory_info_full_name (info : directory_info) : string =\n",
    "    run_target function\n",
    "        | Fsharp (Native) => fun () =>\n",
    "            $'!info.FullName'\n",
    "        | _ => fun () => null ()"
   ]
  },
  {
   "cell_type": "markdown",
   "metadata": {},
   "source": [
    "### create_directory"
   ]
  },
  {
   "cell_type": "code",
   "execution_count": null,
   "metadata": {
    "dotnet_interactive": {
     "language": "spiral"
    },
    "polyglot_notebook": {
     "kernelName": "spiral"
    }
   },
   "outputs": [],
   "source": [
    "inl create_directory (path : string) : directory_info =\n",
    "    run_target function\n",
    "        | Fsharp (Native) => fun () =>\n",
    "            path |> $'System.IO.Directory.CreateDirectory'\n",
    "        | _ => fun () => null ()"
   ]
  },
  {
   "cell_type": "markdown",
   "metadata": {},
   "source": [
    "### directory_get_files"
   ]
  },
  {
   "cell_type": "code",
   "execution_count": null,
   "metadata": {
    "dotnet_interactive": {
     "language": "spiral"
    },
    "polyglot_notebook": {
     "kernelName": "spiral"
    }
   },
   "outputs": [],
   "source": [
    "inl directory_get_files (path : string) : array_base string =\n",
    "    run_target function\n",
    "        | Fsharp (Native) => fun () =>\n",
    "            path |> $'System.IO.Directory.GetFiles'\n",
    "        | _ => fun () => null ()"
   ]
  },
  {
   "cell_type": "markdown",
   "metadata": {},
   "source": [
    "### file_move"
   ]
  },
  {
   "cell_type": "code",
   "execution_count": null,
   "metadata": {
    "dotnet_interactive": {
     "language": "spiral"
    },
    "polyglot_notebook": {
     "kernelName": "spiral"
    }
   },
   "outputs": [],
   "source": [
    "inl file_move (new_path : string) (old_path : string) : () =\n",
    "    run_target function\n",
    "        | Fsharp (Native) => fun () =>\n",
    "            $'System.IO.File.Move (!old_path, !new_path)'\n",
    "        | _ => fun () => ()"
   ]
  },
  {
   "cell_type": "markdown",
   "metadata": {},
   "source": [
    "### read_all_text_async"
   ]
  },
  {
   "cell_type": "code",
   "execution_count": null,
   "metadata": {
    "dotnet_interactive": {
     "language": "spiral"
    },
    "polyglot_notebook": {
     "kernelName": "spiral"
    }
   },
   "outputs": [],
   "source": [
    "inl read_all_text_async (path : string) : _ string =\n",
    "    run_target function\n",
    "        | Fsharp (Native) => fun () =>\n",
    "            path |> $'System.IO.File.ReadAllTextAsync' |> async.await_task\n",
    "        | _ => fun () => null ()"
   ]
  },
  {
   "cell_type": "markdown",
   "metadata": {},
   "source": [
    "### write_all_text_async"
   ]
  },
  {
   "cell_type": "code",
   "execution_count": null,
   "metadata": {
    "dotnet_interactive": {
     "language": "spiral"
    },
    "polyglot_notebook": {
     "kernelName": "spiral"
    }
   },
   "outputs": [],
   "source": [
    "inl write_all_text_async (path : string) (text : string) : _ () =\n",
    "    run_target function\n",
    "        | Fsharp (Native) => fun () =>\n",
    "            $'System.IO.File.WriteAllTextAsync (!path, !text)' |> async.await_task\n",
    "        | _ => fun () => null ()"
   ]
  },
  {
   "cell_type": "markdown",
   "metadata": {},
   "source": [
    "### file_system_info"
   ]
  },
  {
   "cell_type": "code",
   "execution_count": null,
   "metadata": {
    "dotnet_interactive": {
     "language": "spiral"
    },
    "polyglot_notebook": {
     "kernelName": "spiral"
    }
   },
   "outputs": [],
   "source": [
    "nominal file_system_info = $'System.IO.FileSystemInfo'"
   ]
  },
  {
   "cell_type": "markdown",
   "metadata": {},
   "source": [
    "### get_source_directory"
   ]
  },
  {
   "cell_type": "code",
   "execution_count": null,
   "metadata": {
    "dotnet_interactive": {
     "language": "spiral"
    },
    "polyglot_notebook": {
     "kernelName": "spiral"
    }
   },
   "outputs": [],
   "source": [
    "inl get_source_directory () =\n",
    "    $'__SOURCE_DIRECTORY__' : string"
   ]
  },
  {
   "cell_type": "code",
   "execution_count": null,
   "metadata": {
    "dotnet_interactive": {
     "language": "spiral"
    },
    "polyglot_notebook": {
     "kernelName": "spiral"
    }
   },
   "outputs": [
    {
     "name": "stdout",
     "output_type": "stream",
     "text": [
      "__assert_eq / actual: \"spiral\" / expected: \"spiral\"\n"
     ]
    }
   ],
   "source": [
    "//// test\n",
    "\n",
    "get_source_directory ()\n",
    "|> directory_info\n",
    "|> directory_info_name\n",
    "|> _assert_eq \"spiral\""
   ]
  },
  {
   "cell_type": "markdown",
   "metadata": {},
   "source": [
    "## rust"
   ]
  },
  {
   "cell_type": "markdown",
   "metadata": {},
   "source": [
    "### display"
   ]
  },
  {
   "cell_type": "code",
   "execution_count": null,
   "metadata": {
    "dotnet_interactive": {
     "language": "spiral"
    },
    "polyglot_notebook": {
     "kernelName": "spiral"
    }
   },
   "outputs": [],
   "source": [
    "nominal display =\n",
    "    `(\n",
    "        global \"#if FABLE_COMPILER\\n[<Fable.Core.Erase; Fable.Core.Emit(\\\"std::path::Display\\\")>]\\n#endif\\ntype std_path_Display = class end\"\n",
    "        $'' : $'std_path_Display'\n",
    "    )"
   ]
  },
  {
   "cell_type": "markdown",
   "metadata": {},
   "source": [
    "### path"
   ]
  },
  {
   "cell_type": "code",
   "execution_count": null,
   "metadata": {
    "dotnet_interactive": {
     "language": "spiral"
    },
    "polyglot_notebook": {
     "kernelName": "spiral"
    }
   },
   "outputs": [],
   "source": [
    "nominal path =\n",
    "    `(\n",
    "        global \"#if FABLE_COMPILER\\n[<Fable.Core.Erase; Fable.Core.Emit(\\\"std::path::Path\\\")>]\\n#endif\\ntype std_path_Path = class end\"\n",
    "        $'' : $'std_path_Path'\n",
    "    )"
   ]
  },
  {
   "cell_type": "markdown",
   "metadata": {},
   "source": [
    "### path_buf"
   ]
  },
  {
   "cell_type": "code",
   "execution_count": null,
   "metadata": {
    "dotnet_interactive": {
     "language": "spiral"
    },
    "polyglot_notebook": {
     "kernelName": "spiral"
    }
   },
   "outputs": [],
   "source": [
    "nominal path_buf =\n",
    "    `(\n",
    "        global \"#if FABLE_COMPILER\\n[<Fable.Core.Erase; Fable.Core.Emit(\\\"std::path::PathBuf\\\")>]\\n#endif\\ntype std_path_PathBuf = class end\"\n",
    "        $'' : $'std_path_PathBuf'\n",
    "    )"
   ]
  },
  {
   "cell_type": "markdown",
   "metadata": {},
   "source": [
    "### new_path_buf"
   ]
  },
  {
   "cell_type": "code",
   "execution_count": null,
   "metadata": {
    "dotnet_interactive": {
     "language": "spiral"
    },
    "polyglot_notebook": {
     "kernelName": "spiral"
    }
   },
   "outputs": [],
   "source": [
    "inl new_path_buf (path : sm'.std_string) : path_buf =\n",
    "    !\\\\(path, $'\"std::path::PathBuf::from($0)\"')"
   ]
  },
  {
   "cell_type": "markdown",
   "metadata": {},
   "source": [
    "### path_buf_from"
   ]
  },
  {
   "cell_type": "code",
   "execution_count": null,
   "metadata": {
    "dotnet_interactive": {
     "language": "spiral"
    },
    "polyglot_notebook": {
     "kernelName": "spiral"
    }
   },
   "outputs": [],
   "source": [
    "inl path_buf_from (path : rust.box path) : path_buf =\n",
    "    !\\\\(path, $'\"std::path::PathBuf::from($0)\"')"
   ]
  },
  {
   "cell_type": "markdown",
   "metadata": {},
   "source": [
    "### path_buf_join"
   ]
  },
  {
   "cell_type": "code",
   "execution_count": null,
   "metadata": {
    "dotnet_interactive": {
     "language": "spiral"
    },
    "polyglot_notebook": {
     "kernelName": "spiral"
    }
   },
   "outputs": [],
   "source": [
    "inl path_buf_join (s : string) (path_buf : path_buf) : path_buf =\n",
    "    !\\\\((path_buf, s |> sm'.to_std_string), $'\"$0.join($1)\"')"
   ]
  },
  {
   "cell_type": "markdown",
   "metadata": {},
   "source": [
    "### path_buf_strip_prefix"
   ]
  },
  {
   "cell_type": "code",
   "execution_count": null,
   "metadata": {
    "dotnet_interactive": {
     "language": "spiral"
    },
    "polyglot_notebook": {
     "kernelName": "spiral"
    }
   },
   "outputs": [],
   "source": [
    "inl path_buf_strip_prefix (s : string) (path_buf : path_buf) : path_buf =\n",
    "    !\\\\((path_buf, s |> sm'.to_std_string), $'\"$0.strip_prefix($1).unwrap().to_path_buf()\"')"
   ]
  },
  {
   "cell_type": "markdown",
   "metadata": {},
   "source": [
    "### path_display"
   ]
  },
  {
   "cell_type": "code",
   "execution_count": null,
   "metadata": {
    "dotnet_interactive": {
     "language": "spiral"
    },
    "polyglot_notebook": {
     "kernelName": "spiral"
    }
   },
   "outputs": [],
   "source": [
    "inl path_display (path : rust.ref path) : display =\n",
    "    !\\\\(path, $'\"$0.display()\"')"
   ]
  },
  {
   "cell_type": "markdown",
   "metadata": {},
   "source": [
    "### path_buf_display"
   ]
  },
  {
   "cell_type": "code",
   "execution_count": null,
   "metadata": {
    "dotnet_interactive": {
     "language": "spiral"
    },
    "polyglot_notebook": {
     "kernelName": "spiral"
    }
   },
   "outputs": [],
   "source": [
    "inl path_buf_display (path_buf : path_buf) : display =\n",
    "    !\\\\(path_buf, $'\"$0.display()\"')"
   ]
  },
  {
   "cell_type": "markdown",
   "metadata": {},
   "source": [
    "### path_buf_file_name"
   ]
  },
  {
   "cell_type": "code",
   "execution_count": null,
   "metadata": {
    "dotnet_interactive": {
     "language": "spiral"
    },
    "polyglot_notebook": {
     "kernelName": "spiral"
    }
   },
   "outputs": [],
   "source": [
    "inl path_buf_file_name (path : path_buf) : optionm'.option' (rust.ref sm'.os_str) =\n",
    "    !\\($'\"!path.file_name()\"')"
   ]
  },
  {
   "cell_type": "markdown",
   "metadata": {},
   "source": [
    "### path_buf_exists"
   ]
  },
  {
   "cell_type": "code",
   "execution_count": null,
   "metadata": {
    "dotnet_interactive": {
     "language": "spiral"
    },
    "polyglot_notebook": {
     "kernelName": "spiral"
    }
   },
   "outputs": [],
   "source": [
    "inl path_buf_exists (path_buf : path_buf) : bool =\n",
    "    !\\\\(path_buf, $'\"$0.exists()\"')"
   ]
  },
  {
   "cell_type": "markdown",
   "metadata": {},
   "source": [
    "### path_buf_is_dir"
   ]
  },
  {
   "cell_type": "code",
   "execution_count": null,
   "metadata": {
    "dotnet_interactive": {
     "language": "spiral"
    },
    "polyglot_notebook": {
     "kernelName": "spiral"
    }
   },
   "outputs": [],
   "source": [
    "inl path_buf_is_dir (path_buf : path_buf) : bool =\n",
    "    !\\\\(path_buf, $'\"$0.is_dir()\"')"
   ]
  },
  {
   "cell_type": "markdown",
   "metadata": {},
   "source": [
    "### path_buf_is_file"
   ]
  },
  {
   "cell_type": "code",
   "execution_count": null,
   "metadata": {
    "dotnet_interactive": {
     "language": "spiral"
    },
    "polyglot_notebook": {
     "kernelName": "spiral"
    }
   },
   "outputs": [],
   "source": [
    "inl path_buf_is_file (path_buf : path_buf) : bool =\n",
    "    !\\\\(path_buf, $'\"$0.is_file()\"')"
   ]
  },
  {
   "cell_type": "markdown",
   "metadata": {},
   "source": [
    "### path_buf_is_symlink"
   ]
  },
  {
   "cell_type": "code",
   "execution_count": null,
   "metadata": {
    "dotnet_interactive": {
     "language": "spiral"
    },
    "polyglot_notebook": {
     "kernelName": "spiral"
    }
   },
   "outputs": [],
   "source": [
    "inl path_buf_is_symlink (path_buf : path_buf) : bool =\n",
    "    !\\\\(path_buf, $'\"$0.is_symlink()\"')"
   ]
  },
  {
   "cell_type": "markdown",
   "metadata": {},
   "source": [
    "### path_buf_parent"
   ]
  },
  {
   "cell_type": "code",
   "execution_count": null,
   "metadata": {
    "dotnet_interactive": {
     "language": "spiral"
    },
    "polyglot_notebook": {
     "kernelName": "spiral"
    }
   },
   "outputs": [],
   "source": [
    "inl path_buf_parent (path_buf : path_buf) : optionm'.option' path_buf =\n",
    "    !\\\\(path_buf, $'\"$0.parent().map(std::path::PathBuf::from)\"')"
   ]
  },
  {
   "cell_type": "markdown",
   "metadata": {},
   "source": [
    "### dir_entry"
   ]
  },
  {
   "cell_type": "code",
   "execution_count": null,
   "metadata": {
    "dotnet_interactive": {
     "language": "spiral"
    },
    "polyglot_notebook": {
     "kernelName": "spiral"
    }
   },
   "outputs": [],
   "source": [
    "nominal dir_entry =\n",
    "    `(\n",
    "        global \"#if FABLE_COMPILER\\n[<Fable.Core.Erase; Fable.Core.Emit(\\\"async_walkdir::DirEntry\\\")>]\\n#endif\\ntype async_walkdir_DirEntry = class end\"\n",
    "        $'' : $'async_walkdir_DirEntry'\n",
    "    )"
   ]
  },
  {
   "cell_type": "markdown",
   "metadata": {},
   "source": [
    "### walk_dir"
   ]
  },
  {
   "cell_type": "code",
   "execution_count": null,
   "metadata": {
    "dotnet_interactive": {
     "language": "spiral"
    },
    "polyglot_notebook": {
     "kernelName": "spiral"
    }
   },
   "outputs": [],
   "source": [
    "nominal walk_dir =\n",
    "    `(\n",
    "        global \"#if FABLE_COMPILER\\n[<Fable.Core.Erase; Fable.Core.Emit(\\\"async_walkdir::WalkDir\\\")>]\\n#endif\\ntype async_walkdir_WalkDir = class end\"\n",
    "        $'' : $'async_walkdir_WalkDir'\n",
    "    )"
   ]
  },
  {
   "cell_type": "markdown",
   "metadata": {},
   "source": [
    "### async_walkdir_filtering"
   ]
  },
  {
   "cell_type": "code",
   "execution_count": null,
   "metadata": {
    "dotnet_interactive": {
     "language": "spiral"
    },
    "polyglot_notebook": {
     "kernelName": "spiral"
    }
   },
   "outputs": [],
   "source": [
    "nominal async_walkdir_filtering =\n",
    "    `(\n",
    "        global \"#if FABLE_COMPILER\\n[<Fable.Core.Erase; Fable.Core.Emit(\\\"async_walkdir::Filtering\\\")>]\\n#endif\\ntype async_walkdir_Filtering = class end\"\n",
    "        $'' : $'async_walkdir_Filtering'\n",
    "    )"
   ]
  },
  {
   "cell_type": "markdown",
   "metadata": {},
   "source": [
    "### filtering"
   ]
  },
  {
   "cell_type": "code",
   "execution_count": null,
   "metadata": {
    "dotnet_interactive": {
     "language": "spiral"
    },
    "polyglot_notebook": {
     "kernelName": "spiral"
    }
   },
   "outputs": [],
   "source": [
    "union filtering =\n",
    "    | Ignore\n",
    "    | IgnoreDir\n",
    "    | Continue"
   ]
  },
  {
   "cell_type": "markdown",
   "metadata": {},
   "source": [
    "### async_walkdir_error"
   ]
  },
  {
   "cell_type": "code",
   "execution_count": null,
   "metadata": {
    "dotnet_interactive": {
     "language": "spiral"
    },
    "polyglot_notebook": {
     "kernelName": "spiral"
    }
   },
   "outputs": [],
   "source": [
    "nominal async_walkdir_error =\n",
    "    `(\n",
    "        global \"#if FABLE_COMPILER\\n[<Fable.Core.Erase; Fable.Core.Emit(\\\"async_walkdir::Error\\\")>]\\n#endif\\ntype async_walkdir_Error = class end\"\n",
    "        $'' : $'async_walkdir_Error'\n",
    "    )"
   ]
  },
  {
   "cell_type": "markdown",
   "metadata": {},
   "source": [
    "### stream_filter_map"
   ]
  },
  {
   "cell_type": "code",
   "execution_count": null,
   "metadata": {
    "dotnet_interactive": {
     "language": "spiral"
    },
    "polyglot_notebook": {
     "kernelName": "spiral"
    }
   },
   "outputs": [],
   "source": [
    "inl stream_filter_map forall t.\n",
    "    (fn : resultm.result' dir_entry async_walkdir_error -> optionm'.option' t)\n",
    "    (stream : walk_dir)\n",
    "    : am'.vec t =\n",
    "\n",
    "    inl fn = join fn\n",
    "    inl result : am'.vec t =\n",
    "        !\\($'\"tokio_stream::StreamExt::collect(tokio_stream::StreamExt::filter_map(!stream, |x| !fn(x))).await\"')\n",
    "    result"
   ]
  },
  {
   "cell_type": "markdown",
   "metadata": {},
   "source": [
    "### new_walk_dir"
   ]
  },
  {
   "cell_type": "code",
   "execution_count": null,
   "metadata": {
    "dotnet_interactive": {
     "language": "spiral"
    },
    "polyglot_notebook": {
     "kernelName": "spiral"
    }
   },
   "outputs": [],
   "source": [
    "inl new_walk_dir (dir : string) : walk_dir =\n",
    "    !\\\\(dir, $'\"async_walkdir::WalkDir::new(&*$0)\"')\n",
    "    // inl walk_dir : walk_dir = walk_dir |> rust.to_mut\n",
    "    // (!\\($'\"true; let mut !walk_dir = !walk_dir\"') : bool) |> ignore"
   ]
  },
  {
   "cell_type": "markdown",
   "metadata": {},
   "source": [
    "### walk_dir_filter"
   ]
  },
  {
   "cell_type": "code",
   "execution_count": null,
   "metadata": {
    "dotnet_interactive": {
     "language": "spiral"
    },
    "polyglot_notebook": {
     "kernelName": "spiral"
    }
   },
   "outputs": [],
   "source": [
    "inl walk_dir_filter (fn : dir_entry -> async.future_pin_send filtering) (walk_dir : walk_dir) : walk_dir =\n",
    "    inl fn entry = async.future_init_send (2, 1) 0 fun () =>\n",
    "        inl result = fn entry |> async.await_send\n",
    "        inl filtering : async_walkdir_filtering =\n",
    "            match result with\n",
    "            | Ignore => !\\($'\"async_walkdir::Filtering::Ignore\"')\n",
    "            | IgnoreDir => !\\($'\"async_walkdir::Filtering::IgnoreDir\"')\n",
    "            | Continue => !\\($'\"async_walkdir::Filtering::Continue\"')\n",
    "        filtering\n",
    "    !\\\\((walk_dir, fn), $'\"async_walkdir::WalkDir::filter($0, |x| $1(x))\"')"
   ]
  },
  {
   "cell_type": "markdown",
   "metadata": {},
   "source": [
    "### file_type"
   ]
  },
  {
   "cell_type": "code",
   "execution_count": null,
   "metadata": {
    "dotnet_interactive": {
     "language": "spiral"
    },
    "polyglot_notebook": {
     "kernelName": "spiral"
    }
   },
   "outputs": [],
   "source": [
    "nominal file_type =\n",
    "    `(\n",
    "        global \"#if FABLE_COMPILER\\n[<Fable.Core.Erase; Fable.Core.Emit(\\\"std::fs::FileType\\\")>]\\n#endif\\ntype std_fs_FileType = class end\"\n",
    "        $'' : $'std_fs_FileType'\n",
    "    )"
   ]
  },
  {
   "cell_type": "markdown",
   "metadata": {},
   "source": [
    "### dir_entry_file_type"
   ]
  },
  {
   "cell_type": "code",
   "execution_count": null,
   "metadata": {
    "dotnet_interactive": {
     "language": "spiral"
    },
    "polyglot_notebook": {
     "kernelName": "spiral"
    }
   },
   "outputs": [],
   "source": [
    "inl dir_entry_file_type (dir_entry : dir_entry) : async.future_pin_send (resultm.result' file_type stream.io_error) =\n",
    "    inl dir_entry = join dir_entry\n",
    "    !\\($'\"Box::pin(async_walkdir::DirEntry::file_type(&!dir_entry))\"')"
   ]
  },
  {
   "cell_type": "markdown",
   "metadata": {},
   "source": [
    "### file_type_is_dir"
   ]
  },
  {
   "cell_type": "code",
   "execution_count": null,
   "metadata": {
    "dotnet_interactive": {
     "language": "spiral"
    },
    "polyglot_notebook": {
     "kernelName": "spiral"
    }
   },
   "outputs": [],
   "source": [
    "inl file_type_is_dir (file_type : file_type) : bool =\n",
    "    inl file_type = join file_type\n",
    "    !\\($'\"std::fs::FileType::is_dir(&!file_type)\"')"
   ]
  },
  {
   "cell_type": "markdown",
   "metadata": {},
   "source": [
    "### file"
   ]
  },
  {
   "cell_type": "code",
   "execution_count": null,
   "metadata": {
    "dotnet_interactive": {
     "language": "spiral"
    },
    "polyglot_notebook": {
     "kernelName": "spiral"
    }
   },
   "outputs": [],
   "source": [
    "nominal file =\n",
    "    `(\n",
    "        global \"#if FABLE_COMPILER\\n[<Fable.Core.Erase; Fable.Core.Emit(\\\"std::fs::File\\\")>]\\n#endif\\ntype std_fs_File = class end\"\n",
    "        $'' : $'std_fs_File'\n",
    "    )"
   ]
  },
  {
   "cell_type": "markdown",
   "metadata": {},
   "source": [
    "### file_open"
   ]
  },
  {
   "cell_type": "code",
   "execution_count": null,
   "metadata": {
    "dotnet_interactive": {
     "language": "spiral"
    },
    "polyglot_notebook": {
     "kernelName": "spiral"
    }
   },
   "outputs": [],
   "source": [
    "inl file_open (path : string) : resultm.result' file stream.io_error =\n",
    "    !\\($'\"std::fs::File::open(&*!path)\"')"
   ]
  },
  {
   "cell_type": "markdown",
   "metadata": {},
   "source": [
    "### rename"
   ]
  },
  {
   "cell_type": "code",
   "execution_count": null,
   "metadata": {
    "dotnet_interactive": {
     "language": "spiral"
    },
    "polyglot_notebook": {
     "kernelName": "spiral"
    }
   },
   "outputs": [],
   "source": [
    "inl rename (to : string) (path : string) : resultm.result' () stream.io_error =\n",
    "    !\\($'\"std::fs::rename(&*!path, &*!to)\"')"
   ]
  },
  {
   "cell_type": "markdown",
   "metadata": {},
   "source": [
    "### dir_entry_path"
   ]
  },
  {
   "cell_type": "code",
   "execution_count": null,
   "metadata": {
    "dotnet_interactive": {
     "language": "spiral"
    },
    "polyglot_notebook": {
     "kernelName": "spiral"
    }
   },
   "outputs": [],
   "source": [
    "inl dir_entry_path (dir_entry : dir_entry) : path_buf =\n",
    "    !\\\\(dir_entry, $'\"async_walkdir::DirEntry::path(&$0)\"')"
   ]
  },
  {
   "cell_type": "markdown",
   "metadata": {},
   "source": [
    "### create_dir_all"
   ]
  },
  {
   "cell_type": "code",
   "execution_count": null,
   "metadata": {
    "dotnet_interactive": {
     "language": "spiral"
    },
    "polyglot_notebook": {
     "kernelName": "spiral"
    }
   },
   "outputs": [],
   "source": [
    "inl create_dir_all (path : string) : resultm.result' () stream.io_error =\n",
    "    !\\\\(path, $'\"std::fs::create_dir_all(&*$0)\"')"
   ]
  },
  {
   "cell_type": "markdown",
   "metadata": {},
   "source": [
    "### read_link"
   ]
  },
  {
   "cell_type": "code",
   "execution_count": null,
   "metadata": {
    "dotnet_interactive": {
     "language": "spiral"
    },
    "polyglot_notebook": {
     "kernelName": "spiral"
    }
   },
   "outputs": [],
   "source": [
    "inl read_link (path : string) : resultm.result' path_buf stream.io_error =\n",
    "    !\\\\(path, $'\"std::fs::read_link(&*$0)\"')"
   ]
  },
  {
   "cell_type": "markdown",
   "metadata": {},
   "source": [
    "### read"
   ]
  },
  {
   "cell_type": "code",
   "execution_count": null,
   "metadata": {
    "dotnet_interactive": {
     "language": "spiral"
    },
    "polyglot_notebook": {
     "kernelName": "spiral"
    }
   },
   "outputs": [],
   "source": [
    "inl read (path : string) : resultm.result' (am'.vec u8) stream.io_error =\n",
    "    !\\\\(path, $'\"std::fs::read(&*$0)\"')"
   ]
  },
  {
   "cell_type": "markdown",
   "metadata": {},
   "source": [
    "## typescript"
   ]
  },
  {
   "cell_type": "markdown",
   "metadata": {},
   "source": [
    "### ts_path_join"
   ]
  },
  {
   "cell_type": "code",
   "execution_count": null,
   "metadata": {
    "dotnet_interactive": {
     "language": "spiral"
    },
    "polyglot_notebook": {
     "kernelName": "spiral"
    }
   },
   "outputs": [],
   "source": [
    "inl ts_path_join (b : string) (a : string) : string =\n",
    "    open typescript_operators\n",
    "    global \"type IPathJoin = abstract join: [<System.ParamArray>] paths: string[] -> string\"\n",
    "    inl path : $'IPathJoin' = typescript.import_all \"path\"\n",
    "    !\\\\((join a, join b), $'\"!path.join($0, $1)\"')"
   ]
  },
  {
   "cell_type": "markdown",
   "metadata": {},
   "source": [
    "## file_system"
   ]
  },
  {
   "cell_type": "markdown",
   "metadata": {},
   "source": [
    "### (< />)"
   ]
  },
  {
   "cell_type": "code",
   "execution_count": null,
   "metadata": {
    "dotnet_interactive": {
     "language": "spiral"
    },
    "polyglot_notebook": {
     "kernelName": "spiral"
    }
   },
   "outputs": [],
   "source": [
    "let (</>) (a : string) (b : string) : string =\n",
    "    run_target function\n",
    "        | Rust (Contract) => fun () => null ()\n",
    "        | Rust (Native) => fun () =>\n",
    "            a\n",
    "            |> sm'.to_std_string\n",
    "            |> new_path_buf\n",
    "            |> path_buf_join b\n",
    "            |> path_buf_display\n",
    "            |> sm'.format'\n",
    "            |> sm'.from_std_string\n",
    "        | TypeScript (Native) => fun () =>\n",
    "            a |> ts_path_join b\n",
    "        | Fsharp (Native) => fun () =>\n",
    "            $'System.IO.Path.Combine (!a, !b)'\n",
    "        | target => fun () => failwith $'$\"file_system.(</>) / target: {!target} / a: {!a} / b: {!b}\"'"
   ]
  },
  {
   "cell_type": "markdown",
   "metadata": {},
   "source": [
    "### get_temp_path"
   ]
  },
  {
   "cell_type": "code",
   "execution_count": null,
   "metadata": {
    "dotnet_interactive": {
     "language": "spiral"
    },
    "polyglot_notebook": {
     "kernelName": "spiral"
    }
   },
   "outputs": [],
   "source": [
    "let get_temp_path () : string =\n",
    "    run_target function\n",
    "        | Rust (Contract) => fun () => null ()\n",
    "        | Rust (Native) => fun () =>\n",
    "            !\\($'\"std::env::temp_dir()\"')\n",
    "            |> path_buf_display\n",
    "            |> sm'.format'\n",
    "            |> sm'.from_std_string\n",
    "        | Fsharp (Native) => fun () =>\n",
    "            $'System.IO.Path.GetTempPath' ()\n",
    "        | target => fun () => failwith $'$\"file_system.get_temp_path / target: {!target}\"'"
   ]
  },
  {
   "cell_type": "markdown",
   "metadata": {},
   "source": [
    "### get_file_name"
   ]
  },
  {
   "cell_type": "code",
   "execution_count": null,
   "metadata": {
    "dotnet_interactive": {
     "language": "spiral"
    },
    "polyglot_notebook": {
     "kernelName": "spiral"
    }
   },
   "outputs": [],
   "source": [
    "let get_file_name (path : string) : string =\n",
    "    run_target function\n",
    "        | Rust (Contract) => fun () => null ()\n",
    "        | Rust (Native) => fun () =>\n",
    "            inl path_buf = path |> sm'.to_std_string |> new_path_buf\n",
    "            !\\\\(path_buf, $'\"$0.file_name()\"')\n",
    "            |> optionm'.unwrap\n",
    "            |> sm'.from_os_str_ref\n",
    "        | Fsharp (Native) => fun () =>\n",
    "            path |> $'System.IO.Path.GetFileName'\n",
    "        | target => fun () => failwith $'$\"file_system.get_file_name / target: {!target} / path: {!path}\"'"
   ]
  },
  {
   "cell_type": "markdown",
   "metadata": {},
   "source": [
    "### get_file_name_without_extension"
   ]
  },
  {
   "cell_type": "code",
   "execution_count": null,
   "metadata": {
    "dotnet_interactive": {
     "language": "spiral"
    },
    "polyglot_notebook": {
     "kernelName": "spiral"
    }
   },
   "outputs": [],
   "source": [
    "let get_file_name_without_extension (path : string) : string =\n",
    "    run_target function\n",
    "        | Rust (Contract) => fun () => null ()\n",
    "        | Rust (Native) => fun () =>\n",
    "            inl path_buf = path |> sm'.to_std_string |> new_path_buf\n",
    "            !\\\\(path_buf, $'\"$0.file_stem()\"')\n",
    "            |> optionm'.unwrap\n",
    "            |> sm'.from_os_str_ref\n",
    "        | _ => fun () =>\n",
    "            path |> $'System.IO.Path.GetFileNameWithoutExtension'"
   ]
  },
  {
   "cell_type": "markdown",
   "metadata": {},
   "source": [
    "### get_directory_name"
   ]
  },
  {
   "cell_type": "code",
   "execution_count": null,
   "metadata": {
    "dotnet_interactive": {
     "language": "spiral"
    },
    "polyglot_notebook": {
     "kernelName": "spiral"
    }
   },
   "outputs": [],
   "source": [
    "let get_directory_name (path : string) : string =\n",
    "    run_target function\n",
    "        | Rust (Contract) => fun () => null ()\n",
    "        | Rust (Native) => fun () =>\n",
    "            inl path_buf = path |> sm'.to_std_string |> new_path_buf\n",
    "            !\\\\(path_buf, $'\"$0.parent()\"')\n",
    "            |> optionm'.unwrap\n",
    "            |> path_display\n",
    "            |> sm'.format'\n",
    "            |> sm'.from_std_string\n",
    "        | _ => fun () =>\n",
    "            path |> $'System.IO.Path.GetDirectoryName'"
   ]
  },
  {
   "cell_type": "markdown",
   "metadata": {},
   "source": [
    "### get_extension"
   ]
  },
  {
   "cell_type": "code",
   "execution_count": null,
   "metadata": {
    "dotnet_interactive": {
     "language": "spiral"
    },
    "polyglot_notebook": {
     "kernelName": "spiral"
    }
   },
   "outputs": [],
   "source": [
    "let get_extension (path : string) : string =\n",
    "    run_target function\n",
    "        | Rust (Contract) => fun () => null ()\n",
    "        | Rust (Native) => fun () =>\n",
    "            inl path_buf = path |> sm'.to_std_string |> new_path_buf\n",
    "            !\\\\(path_buf, $'\"$0.extension()\"')\n",
    "            |> optionm'.unwrap\n",
    "            |> sm'.from_os_str_ref\n",
    "        | _ => fun () =>\n",
    "            path |> $'System.IO.Path.GetExtension'"
   ]
  },
  {
   "cell_type": "markdown",
   "metadata": {},
   "source": [
    "### directory_separator_char"
   ]
  },
  {
   "cell_type": "code",
   "execution_count": null,
   "metadata": {
    "dotnet_interactive": {
     "language": "spiral"
    },
    "polyglot_notebook": {
     "kernelName": "spiral"
    }
   },
   "outputs": [],
   "source": [
    "let directory_separator_char () : char =\n",
    "    run_target function\n",
    "        | Rust (Native) => fun () =>\n",
    "            !\\($'\"std::path::MAIN_SEPARATOR\"')\n",
    "        | _ => fun () =>\n",
    "            $'System.IO.Path.DirectorySeparatorChar'"
   ]
  },
  {
   "cell_type": "markdown",
   "metadata": {},
   "source": [
    "### get_current_directory"
   ]
  },
  {
   "cell_type": "code",
   "execution_count": null,
   "metadata": {
    "dotnet_interactive": {
     "language": "spiral"
    },
    "polyglot_notebook": {
     "kernelName": "spiral"
    }
   },
   "outputs": [],
   "source": [
    "let get_current_directory () : string =\n",
    "    run_target function\n",
    "        | Rust (Contract | Wasm) => fun () => null ()\n",
    "        | Rust (Native) => fun () =>\n",
    "            inl current_dir = !\\($'\"std::env::current_dir()\"') : resultm.result' path_buf stream.io_error\n",
    "            current_dir\n",
    "            |> resultm.unwrap'\n",
    "            |> path_buf_display\n",
    "            |> sm'.format'\n",
    "            |> sm'.from_std_string\n",
    "        | Fsharp (Native) => fun () =>\n",
    "            $'System.IO.Directory.GetCurrentDirectory' ()\n",
    "        | _ => fun () => null ()"
   ]
  },
  {
   "cell_type": "code",
   "execution_count": null,
   "metadata": {
    "dotnet_interactive": {
     "language": "spiral"
    },
    "polyglot_notebook": {
     "kernelName": "spiral"
    }
   },
   "outputs": [
    {
     "name": "stdout",
     "output_type": "stream",
     "text": [
      "__assert_contains / actual: \"/home/runner/work/polyglot/polyglot/lib/spiral\" / expected: '/'\n"
     ]
    }
   ],
   "source": [
    "//// test\n",
    "\n",
    "get_current_directory ()\n",
    "|> _assert_contains (directory_separator_char ())"
   ]
  },
  {
   "cell_type": "markdown",
   "metadata": {},
   "source": [
    "### normalize_path"
   ]
  },
  {
   "cell_type": "code",
   "execution_count": null,
   "metadata": {
    "dotnet_interactive": {
     "language": "spiral"
    },
    "polyglot_notebook": {
     "kernelName": "spiral"
    }
   },
   "outputs": [],
   "source": [
    "let normalize_path (path : string) : string =\n",
    "    if path = \"\"\n",
    "    then \"\"\n",
    "    else\n",
    "        inl path = path |> sm'.replace_regex @\"^\\\\\\\\\\?\\\\\" \"\"\n",
    "        $'$\"{!path.[0] |> string |> _.ToLower()}{!path.[1..]}\"' |> sm'.replace \"\\\\\" \"/\""
   ]
  },
  {
   "cell_type": "markdown",
   "metadata": {},
   "source": [
    "### get_full_path"
   ]
  },
  {
   "cell_type": "code",
   "execution_count": null,
   "metadata": {
    "dotnet_interactive": {
     "language": "spiral"
    },
    "polyglot_notebook": {
     "kernelName": "spiral"
    }
   },
   "outputs": [],
   "source": [
    "let get_full_path (path : string) : string =\n",
    "    run_target_args (fun () => path) function\n",
    "        | Fsharp (Native) => fun path =>\n",
    "            path |> $'System.IO.Path.GetFullPath'\n",
    "        | Rust (Native) => fun path =>\n",
    "            inl path_buf = path |> sm'.to_std_string |> new_path_buf\n",
    "            if path_buf |> path_buf_exists |> not then\n",
    "                inl current_dir = get_current_directory ()\n",
    "                current_dir </> path\n",
    "                |> normalize_path\n",
    "                |> sm'.split \"/\"\n",
    "                |> fun x =>\n",
    "                    ((a x : _ i32 _), (0i32, (a ;[] : _ i32 _)))\n",
    "                    ||> am.foldBack fun x level, acc =>\n",
    "                        match x, level with\n",
    "                        | \"..\", _ => level + 1, acc\n",
    "                        | \".\", _ => level, acc\n",
    "                        | _, 0 when x |> sm'.ends_with \":\" => 0, a ;[ $'$\"{!current_dir.[0]}:\"' ] ++ acc\n",
    "                        | _, 0 => 0, a ;[ x ] ++ acc\n",
    "                        | _ => level - 1, acc\n",
    "                |> snd\n",
    "                |> seq.of_array'\n",
    "                |> sm'.concat (directory_separator_char () |> sm'.obj_to_string)\n",
    "            else\n",
    "                inl path = !\\\\(path, $'\"std::fs::canonicalize(&*$0)\"') : resultm.result' path_buf stream.io_error\n",
    "                path\n",
    "                |> resultm.unwrap'\n",
    "                |> path_buf_display\n",
    "                |> sm'.format'\n",
    "                |> sm'.from_std_string\n",
    "        | _ => fun _ => null ()"
   ]
  },
  {
   "cell_type": "code",
   "execution_count": null,
   "metadata": {
    "dotnet_interactive": {
     "language": "spiral"
    },
    "polyglot_notebook": {
     "kernelName": "spiral"
    }
   },
   "outputs": [
    {
     "name": "stdout",
     "output_type": "stream",
     "text": [
      "__assert_eq / actual: \"spiral\" / expected: \"spiral\"\n"
     ]
    }
   ],
   "source": [
    "//// test\n",
    "\n",
    "\".\"\n",
    "|> get_full_path\n",
    "|> directory_info\n",
    "|> directory_info_name\n",
    "|> _assert_eq \"spiral\""
   ]
  },
  {
   "cell_type": "code",
   "execution_count": null,
   "metadata": {
    "dotnet_interactive": {
     "language": "spiral"
    },
    "polyglot_notebook": {
     "kernelName": "spiral"
    }
   },
   "outputs": [
    {
     "name": "stdout",
     "output_type": "stream",
     "text": [
      "__assert_eq / actual: \"/home/runner/work/polyglot/polyglot/lib/spiral/._file\" / expected: \"/home/runner/work/polyglot/polyglot/lib/spiral/._file\"\n"
     ]
    }
   ],
   "source": [
    "//// test\n",
    "\n",
    "\"dir/.././._file\"\n",
    "|> get_full_path\n",
    "|> _assert_eq (get_current_directory () </> \"._file\")"
   ]
  },
  {
   "cell_type": "code",
   "execution_count": null,
   "metadata": {
    "dotnet_interactive": {
     "language": "spiral"
    },
    "polyglot_notebook": {
     "kernelName": "spiral"
    }
   },
   "outputs": [
    {
     "data": {
      "text/plain": [
       "__assert_eq / actual: \"spiral\" / expected: \"spiral\"\n"
      ]
     },
     "metadata": {},
     "output_type": "display_data"
    }
   ],
   "source": [
    "//// test\n",
    "///! rust -d regex\n",
    "\n",
    "\".\"\n",
    "|> get_full_path\n",
    "|> sm'.to_std_string\n",
    "|> new_path_buf\n",
    "|> path_buf_file_name\n",
    "|> optionm'.unwrap\n",
    "|> sm'.from_os_str_ref\n",
    "|> _assert_eq \"spiral\""
   ]
  },
  {
   "cell_type": "code",
   "execution_count": null,
   "metadata": {
    "dotnet_interactive": {
     "language": "spiral"
    },
    "polyglot_notebook": {
     "kernelName": "spiral"
    }
   },
   "outputs": [
    {
     "data": {
      "text/plain": [
       "__assert_eq / actual: \"/home/runner/work/polyglot/polyglot/lib/spiral/._file\" / expected: \"/home/runner/work/polyglot/polyglot/lib/spiral/._file\"\n"
      ]
     },
     "metadata": {},
     "output_type": "display_data"
    }
   ],
   "source": [
    "//// test\n",
    "///! rust -d regex\n",
    "\n",
    "\"dir/.././._file\"\n",
    "|> get_full_path\n",
    "|> _assert_eq (get_current_directory () </> \"._file\")"
   ]
  },
  {
   "cell_type": "markdown",
   "metadata": {},
   "source": [
    "### create_temp_path'"
   ]
  },
  {
   "cell_type": "code",
   "execution_count": null,
   "metadata": {
    "dotnet_interactive": {
     "language": "spiral"
    },
    "polyglot_notebook": {
     "kernelName": "spiral"
    }
   },
   "outputs": [],
   "source": [
    "let create_temp_path' (guid : guid.guid) =\n",
    "    run_target function\n",
    "        | Rust (Contract) => fun () => null ()\n",
    "        | _ => fun () =>\n",
    "            get_temp_path ()\n",
    "            </> (join \"!create_temp_path_\")\n",
    "            </> (env.get_entry_assembly_name ())\n",
    "            </> (guid |> sm'.obj_to_string)"
   ]
  },
  {
   "cell_type": "markdown",
   "metadata": {},
   "source": [
    "### create_temp_path"
   ]
  },
  {
   "cell_type": "code",
   "execution_count": null,
   "metadata": {
    "dotnet_interactive": {
     "language": "spiral"
    },
    "polyglot_notebook": {
     "kernelName": "spiral"
    }
   },
   "outputs": [],
   "source": [
    "let create_temp_path () =\n",
    "    run_target function\n",
    "        | Rust (Contract) => fun () => null ()\n",
    "        | _ => fun () =>\n",
    "            date_time.now ()\n",
    "            |> date_time.new_guid_from_date_time\n",
    "            |> create_temp_path'"
   ]
  },
  {
   "cell_type": "code",
   "execution_count": null,
   "metadata": {
    "dotnet_interactive": {
     "language": "spiral"
    },
    "polyglot_notebook": {
     "kernelName": "spiral"
    }
   },
   "outputs": [
    {
     "data": {
      "text/plain": [
       ".rs output (rust -d chrono):\n",
       "__assert_contains / actual: \"/tmp/!create_temp_path_/spiral_builder_0e978990afc9cba4a333609b9e317726579ac3fc8820795765803b9e19536c13/20240808-2218-2754-2363-0000002162b6\" / expected: '/'\n",
       "\n"
      ]
     },
     "metadata": {},
     "output_type": "display_data"
    },
    {
     "name": "stdout",
     "output_type": "stream",
     "text": [
      ".fsx output:\n",
      "__assert_contains / actual: \"/tmp/!create_temp_path_/dotnet-repl/20240808-2218-2780-8064-80000055aeb0\" / expected: '/'\n"
     ]
    }
   ],
   "source": [
    "//// test\n",
    "///! fsharp\n",
    "///! rust -d chrono\n",
    "\n",
    "create_temp_path ()\n",
    "|> _assert_contains (directory_separator_char ())"
   ]
  },
  {
   "cell_type": "markdown",
   "metadata": {},
   "source": [
    "### directory_exists"
   ]
  },
  {
   "cell_type": "code",
   "execution_count": null,
   "metadata": {
    "dotnet_interactive": {
     "language": "spiral"
    },
    "polyglot_notebook": {
     "kernelName": "spiral"
    }
   },
   "outputs": [],
   "source": [
    "let directory_exists (path : string) : bool =\n",
    "    run_target function\n",
    "        | Fsharp (Native) => fun () =>\n",
    "            path |> $'System.IO.Directory.Exists'\n",
    "        | Rust (Native) => fun () =>\n",
    "            inl path = path |> sm'.to_std_string |> new_path_buf\n",
    "            path_buf_exists path || path_buf_is_dir path || path_buf_is_symlink path\n",
    "        | TypeScript (Native) => fun () =>\n",
    "            global \"type IFsExistsSync = abstract existsSync: path: string -> bool\"\n",
    "            open typescript_operators\n",
    "            inl fs : $'IFsExistsSync' = typescript.import_all \"fs\"\n",
    "            !\\\\((fs, path), $'\"$0.existsSync($1)\"')\n",
    "        | _ => fun () => null ()"
   ]
  },
  {
   "cell_type": "markdown",
   "metadata": {},
   "source": [
    "### directory_get_parent"
   ]
  },
  {
   "cell_type": "code",
   "execution_count": null,
   "metadata": {
    "dotnet_interactive": {
     "language": "spiral"
    },
    "polyglot_notebook": {
     "kernelName": "spiral"
    }
   },
   "outputs": [],
   "source": [
    "let directory_get_parent (path : string) : optionm'.option' string =\n",
    "    run_target function\n",
    "        | Fsharp (Native) => fun () =>\n",
    "            inl parent : directory_info = path |> $'System.IO.Directory.GetParent'\n",
    "            if parent =. null ()\n",
    "            then None\n",
    "            else parent |> directory_info_full_name |> Some\n",
    "        | Rust (Native) => fun () =>\n",
    "            path\n",
    "            |> sm'.to_std_string\n",
    "            |> new_path_buf\n",
    "            |> path_buf_parent\n",
    "            |> optionm'.try'\n",
    "            |> path_buf_display\n",
    "            |> sm'.format'\n",
    "            |> sm'.from_std_string\n",
    "            |> Some\n",
    "        | TypeScript _ => fun () =>\n",
    "            open typescript_operators\n",
    "            global \"type IPathDirname = abstract dirname: path: string -> string\"\n",
    "            inl fs : $'IPathDirname' = typescript.import_all \"path\"\n",
    "            !\\\\(path, $'\"!fs.dirname($0)\"') |> Some\n",
    "        | _ => fun () => null ()\n",
    "    |> optionm'.box"
   ]
  },
  {
   "cell_type": "markdown",
   "metadata": {},
   "source": [
    "### file_copy"
   ]
  },
  {
   "cell_type": "code",
   "execution_count": null,
   "metadata": {
    "dotnet_interactive": {
     "language": "spiral"
    },
    "polyglot_notebook": {
     "kernelName": "spiral"
    }
   },
   "outputs": [],
   "source": [
    "let file_copy (new_path : string) (old_path : string) : () =\n",
    "    run_target function\n",
    "        | Fsharp (Native) => fun () =>\n",
    "            $'System.IO.File.Copy (!old_path, !new_path, true)'\n",
    "        | Rust (Native) => fun () =>\n",
    "            inl new_path = join new_path\n",
    "            !\\\\(old_path, $'\"std::fs::copy(&*$0, &*!new_path)\"')\n",
    "            |> fun x => x : _ u64 stream.io_error\n",
    "            |> resultm.unwrap'\n",
    "            |> ignore\n",
    "        | _ => fun () => ()"
   ]
  },
  {
   "cell_type": "markdown",
   "metadata": {},
   "source": [
    "### file_exists"
   ]
  },
  {
   "cell_type": "code",
   "execution_count": null,
   "metadata": {
    "dotnet_interactive": {
     "language": "spiral"
    },
    "polyglot_notebook": {
     "kernelName": "spiral"
    }
   },
   "outputs": [],
   "source": [
    "let file_exists (path : string) : bool =\n",
    "    run_target function\n",
    "        | Fsharp (Native) => fun () =>\n",
    "            path |> $'System.IO.File.Exists'\n",
    "        | Rust (Native) => fun () =>\n",
    "            inl path_buf = path |> sm'.to_std_string |> new_path_buf\n",
    "            path_buf_exists path_buf && path_buf_is_file path_buf\n",
    "        | TypeScript (Native) => fun () =>\n",
    "            open typescript_operators\n",
    "            global \"type IFsExistsSync = abstract existsSync: path: string -> bool\"\n",
    "            inl fs : $'IFsExistsSync' = typescript.import_all \"fs\"\n",
    "            !\\\\((fs, path), $'\"$0.existsSync($1)\"')\n",
    "        | _ => fun () => null ()"
   ]
  },
  {
   "cell_type": "markdown",
   "metadata": {},
   "source": [
    "### directory_delete"
   ]
  },
  {
   "cell_type": "code",
   "execution_count": null,
   "metadata": {
    "dotnet_interactive": {
     "language": "spiral"
    },
    "polyglot_notebook": {
     "kernelName": "spiral"
    }
   },
   "outputs": [],
   "source": [
    "let directory_delete recursive (path : string) : () =\n",
    "    run_target function\n",
    "        | Fsharp (Native) => fun () =>\n",
    "            $'System.IO.Directory.Delete (!path, !recursive)'\n",
    "        | Rust (Native) => fun () =>\n",
    "            inl path = join path\n",
    "            if path |> directory_exists then\n",
    "                if recursive\n",
    "                then !\\\\(path, $'\"std::fs::remove_dir_all(&*$0).unwrap()\"')\n",
    "                else !\\\\(path, $'\"std::fs::remove_dir(&*$0).unwrap()\"')\n",
    "        | _ => fun () => ()"
   ]
  },
  {
   "cell_type": "markdown",
   "metadata": {},
   "source": [
    "### write_all_text"
   ]
  },
  {
   "cell_type": "code",
   "execution_count": null,
   "metadata": {
    "dotnet_interactive": {
     "language": "spiral"
    },
    "polyglot_notebook": {
     "kernelName": "spiral"
    }
   },
   "outputs": [],
   "source": [
    "inl write_all_text (path : string) (text : string) : () =\n",
    "    run_target function\n",
    "        | Fsharp (Native) => fun () =>\n",
    "            inl text = join text\n",
    "            $'System.IO.File.WriteAllText (!path, !text)'\n",
    "        | Rust (Native) => fun () =>\n",
    "            !\\\\((path, text), $'\"std::fs::write(&*$0, &*$1).unwrap()\"')\n",
    "        | _ => fun () => ()"
   ]
  },
  {
   "cell_type": "markdown",
   "metadata": {},
   "source": [
    "### read_all_bytes"
   ]
  },
  {
   "cell_type": "code",
   "execution_count": null,
   "metadata": {
    "dotnet_interactive": {
     "language": "spiral"
    },
    "polyglot_notebook": {
     "kernelName": "spiral"
    }
   },
   "outputs": [],
   "source": [
    "inl read_all_bytes (path : string) : am'.vec u8 =\n",
    "    run_target function\n",
    "        | Fsharp (Native) => fun () =>\n",
    "            $'!path |> System.IO.File.ReadAllBytes'\n",
    "            |> am'.to_vec\n",
    "        | Rust (Native) => fun () =>\n",
    "            path |> read |> resultm.unwrap'\n",
    "        | _ => fun () => null ()"
   ]
  },
  {
   "cell_type": "markdown",
   "metadata": {},
   "source": [
    "### read_all_text"
   ]
  },
  {
   "cell_type": "code",
   "execution_count": null,
   "metadata": {
    "dotnet_interactive": {
     "language": "spiral"
    },
    "polyglot_notebook": {
     "kernelName": "spiral"
    }
   },
   "outputs": [],
   "source": [
    "inl read_all_text (path : string) : string =\n",
    "    run_target function\n",
    "        | Fsharp (Native) => fun () =>\n",
    "            $'!path |> System.IO.File.ReadAllText'\n",
    "        | Rust (Native) => fun () =>\n",
    "            path\n",
    "            |> read_all_bytes\n",
    "            |> sm'.string_from_utf8\n",
    "            |> resultm.unwrap'\n",
    "            |> sm'.from_std_string\n",
    "        | _ => fun () => null ()"
   ]
  },
  {
   "cell_type": "markdown",
   "metadata": {},
   "source": [
    "### directory_create_symbolic_link"
   ]
  },
  {
   "cell_type": "code",
   "execution_count": null,
   "metadata": {
    "dotnet_interactive": {
     "language": "spiral"
    },
    "polyglot_notebook": {
     "kernelName": "spiral"
    }
   },
   "outputs": [],
   "source": [
    "inl directory_create_symbolic_link (target : string) (path : string) : () =\n",
    "    run_target function\n",
    "        | Fsharp (Native) => fun () =>\n",
    "            ($'System.IO.Directory.CreateSymbolicLink (!path, !target)' : file_system_info)\n",
    "            |> ignore\n",
    "        | Rust (Native) => fun () =>\n",
    "            platform.run_platform function\n",
    "                | Windows => fun () => !\\\\((target, path), $'\"std::os::windows::fs::symlink_dir(&*$0, &*$1).unwrap()\"')\n",
    "                | _ => fun () => !\\\\((target, path), $'\"std::os::unix::fs::symlink(&*$0, &*$1).unwrap()\"')\n",
    "        | _ => fun () => ()"
   ]
  },
  {
   "cell_type": "markdown",
   "metadata": {},
   "source": [
    "### find_parent"
   ]
  },
  {
   "cell_type": "code",
   "execution_count": null,
   "metadata": {
    "dotnet_interactive": {
     "language": "spiral"
    },
    "polyglot_notebook": {
     "kernelName": "spiral"
    }
   },
   "outputs": [],
   "source": [
    "inl find_parent name is_file root_dir =\n",
    "    let rec loop dir =\n",
    "        if dir </> name |> (if is_file then file_exists else directory_exists)\n",
    "        then dir |> Ok\n",
    "        else\n",
    "            inl result = dir |> (join directory_get_parent)\n",
    "            match result |> optionm'.unbox with\n",
    "            | Some parent => parent |> loop\n",
    "            | None => ($'$\"\"\"No parent for {if !is_file then \"file\" else \"dir\"} \\'{!name}\\' at \\'{!root_dir}\\' (until \\'{!dir}\\')\"\"\"' : string) |> Error\n",
    "    loop root_dir"
   ]
  },
  {
   "cell_type": "code",
   "execution_count": null,
   "metadata": {
    "dotnet_interactive": {
     "language": "spiral"
    },
    "polyglot_notebook": {
     "kernelName": "spiral"
    }
   },
   "outputs": [
    {
     "name": "stdout",
     "output_type": "stream",
     "text": [
      "__assert_eq' / actual: [|\"polyglot\"|] / expected: [|\"polyglot\"|]\n"
     ]
    }
   ],
   "source": [
    "//// test\n",
    "\n",
    "a ;[ \".paket\", false; \"paket.dependencies\", true ]\n",
    "|> am.map fun (file, is_file) =>\n",
    "    get_source_directory ()\n",
    "    |> find_parent file is_file\n",
    "    |> resultm.get\n",
    "    |> directory_info\n",
    "    |> directory_info_name\n",
    "|> am'.distinct\n",
    "|> fun (a x : _ int _) => x\n",
    "|> _assert_eq' ;[ \"polyglot\" ]"
   ]
  },
  {
   "cell_type": "code",
   "execution_count": null,
   "metadata": {
    "dotnet_interactive": {
     "language": "spiral"
    },
    "polyglot_notebook": {
     "kernelName": "spiral"
    }
   },
   "outputs": [
    {
     "data": {
      "text/plain": [
       "__assert_eq / actual: 1 / expected: 1\n",
       "__assert_eq / actual: \"polyglot\" / expected: \"polyglot\"\n"
      ]
     },
     "metadata": {},
     "output_type": "display_data"
    }
   ],
   "source": [
    "//// test\n",
    "///! rust\n",
    "\n",
    "a ;[ \".paket\", false; \"paket.dependencies\", true ]\n",
    "|> am.map fun (file, is_file) =>\n",
    "    fun () =>\n",
    "        join\n",
    "            get_source_directory ()\n",
    "            |> find_parent file is_file\n",
    "            |> resultm.get\n",
    "            |> sm'.to_std_string\n",
    "            |> new_path_buf\n",
    "            |> path_buf_file_name\n",
    "            |> optionm'.try'\n",
    "            |> sm'.from_os_str_ref\n",
    "            |> Some\n",
    "            |> optionm'.box\n",
    "    |> fun x => x () |> optionm'.unbox\n",
    "    |> optionm'.default_value \"\"\n",
    "|> am'.distinct\n",
    "|> fun result =>\n",
    "    result |> am'.length |> _assert_eq 1i32\n",
    "    index result 0i32 |> _assert_eq \"polyglot\""
   ]
  },
  {
   "cell_type": "markdown",
   "metadata": {},
   "source": [
    "### get_workspace_root"
   ]
  },
  {
   "cell_type": "code",
   "execution_count": null,
   "metadata": {
    "dotnet_interactive": {
     "language": "spiral"
    },
    "polyglot_notebook": {
     "kernelName": "spiral"
    }
   },
   "outputs": [],
   "source": [
    "inl get_workspace_root () =\n",
    "    (None, [ get_source_directory; get_current_directory ])\n",
    "    ||> listm.fold fun acc path =>\n",
    "        match acc with\n",
    "        | Some path => Some path\n",
    "        | None =>\n",
    "            path ()\n",
    "            |> find_parent (\"polyglot\" </> \".devcontainer\") false\n",
    "            |> function\n",
    "                | Ok path => Some path\n",
    "                | Error error =>\n",
    "                    trace Warning\n",
    "                        fun () => \"file_system.get_workspace_root\"\n",
    "                        fun () => { error }\n",
    "                    None\n",
    "    |> optionm.value\n",
    "    |> fun root => root </> \"polyglot\""
   ]
  },
  {
   "cell_type": "markdown",
   "metadata": {},
   "source": [
    "### get_workspace_root_external"
   ]
  },
  {
   "cell_type": "code",
   "execution_count": null,
   "metadata": {
    "dotnet_interactive": {
     "language": "spiral"
    },
    "polyglot_notebook": {
     "kernelName": "spiral"
    }
   },
   "outputs": [],
   "source": [
    "inl get_workspace_root_external () =\n",
    "    inl workspace_root = get_workspace_root ()\n",
    "    inl current_dir = get_current_directory () |> sm'.to_lower\n",
    "    inl workspace_root = workspace_root |> sm'.to_lower\n",
    "    if current_dir |> sm'.starts_with workspace_root\n",
    "    then Error workspace_root\n",
    "    else Ok workspace_root"
   ]
  },
  {
   "cell_type": "code",
   "execution_count": null,
   "metadata": {
    "dotnet_interactive": {
     "language": "spiral"
    },
    "polyglot_notebook": {
     "kernelName": "spiral"
    }
   },
   "outputs": [
    {
     "name": "stdout",
     "output_type": "stream",
     "text": [
      "__assert_eq / actual: \"polyglot\" / expected: \"polyglot\"\n"
     ]
    }
   ],
   "source": [
    "//// test\n",
    "\n",
    "get_workspace_root_external ()\n",
    "|> resultm.unwrap_err\n",
    "|> get_file_name\n",
    "|> _assert_eq \"polyglot\""
   ]
  },
  {
   "cell_type": "markdown",
   "metadata": {},
   "source": [
    "### standardize_path"
   ]
  },
  {
   "cell_type": "code",
   "execution_count": null,
   "metadata": {
    "dotnet_interactive": {
     "language": "spiral"
    },
    "polyglot_notebook": {
     "kernelName": "spiral"
    }
   },
   "outputs": [],
   "source": [
    "let standardize_path path =\n",
    "    path |> get_full_path |> normalize_path"
   ]
  },
  {
   "cell_type": "markdown",
   "metadata": {},
   "source": [
    "### absolute_path"
   ]
  },
  {
   "cell_type": "code",
   "execution_count": null,
   "metadata": {
    "dotnet_interactive": {
     "language": "spiral"
    },
    "polyglot_notebook": {
     "kernelName": "spiral"
    }
   },
   "outputs": [],
   "source": [
    "let absolute_path path =\n",
    "    inl current_dir = get_current_directory ()\n",
    "    current_dir </> path |> standardize_path"
   ]
  },
  {
   "cell_type": "markdown",
   "metadata": {},
   "source": [
    "### new_file_uri"
   ]
  },
  {
   "cell_type": "code",
   "execution_count": null,
   "metadata": {
    "dotnet_interactive": {
     "language": "spiral"
    },
    "polyglot_notebook": {
     "kernelName": "spiral"
    }
   },
   "outputs": [],
   "source": [
    "inl new_file_uri (path : string) : string =\n",
    "    inl path = path |> sm'.trim_start [ '/' ]\n",
    "    $'$\"file:///{!path}\"'"
   ]
  },
  {
   "cell_type": "code",
   "execution_count": null,
   "metadata": {
    "dotnet_interactive": {
     "language": "spiral"
    },
    "polyglot_notebook": {
     "kernelName": "spiral"
    }
   },
   "outputs": [
    {
     "name": "stdout",
     "output_type": "stream",
     "text": [
      "__assert_eq / actual: \"file:///c:/test\" / expected: \"file:///c:/test\"\n"
     ]
    }
   ],
   "source": [
    "//// test\n",
    "\n",
    "@\"\\\\?\\C:\\test\"\n",
    "|> normalize_path\n",
    "|> new_file_uri\n",
    "|> _assert_eq \"file:///c:/test\""
   ]
  },
  {
   "cell_type": "code",
   "execution_count": null,
   "metadata": {
    "dotnet_interactive": {
     "language": "spiral"
    },
    "polyglot_notebook": {
     "kernelName": "spiral"
    }
   },
   "outputs": [
    {
     "data": {
      "text/plain": [
       "__assert_eq / actual: \"file:///c:/test\" / expected: \"file:///c:/test\"\n"
      ]
     },
     "metadata": {},
     "output_type": "display_data"
    }
   ],
   "source": [
    "//// test\n",
    "///! rust -d regex\n",
    "\n",
    "@\"\\\\?\\C:\\test\"\n",
    "|> normalize_path\n",
    "|> new_file_uri\n",
    "|> _assert_eq \"file:///c:/test\""
   ]
  },
  {
   "cell_type": "markdown",
   "metadata": {},
   "source": [
    "### file_delete"
   ]
  },
  {
   "cell_type": "code",
   "execution_count": null,
   "metadata": {
    "dotnet_interactive": {
     "language": "spiral"
    },
    "polyglot_notebook": {
     "kernelName": "spiral"
    }
   },
   "outputs": [],
   "source": [
    "inl file_delete (path : string) : () =\n",
    "    run_target function\n",
    "        | Fsharp (Native) => fun () =>\n",
    "            path |> $'System.IO.File.Delete'\n",
    "        | Rust (Native) => fun () =>\n",
    "            !\\\\(path, $'\"std::fs::remove_file(&*$0).unwrap()\"')\n",
    "        | _ => fun () => ()"
   ]
  },
  {
   "cell_type": "markdown",
   "metadata": {},
   "source": [
    "## fsharp"
   ]
  },
  {
   "cell_type": "markdown",
   "metadata": {},
   "source": [
    "### file_exists_content_async"
   ]
  },
  {
   "cell_type": "code",
   "execution_count": null,
   "metadata": {
    "dotnet_interactive": {
     "language": "spiral"
    },
    "polyglot_notebook": {
     "kernelName": "spiral"
    }
   },
   "outputs": [],
   "source": [
    "inl file_exists_content_async path content : async.async bool =\n",
    "    run_target function\n",
    "        | Fsharp (Native) => fun () =>\n",
    "            fun () =>\n",
    "                fix_condition\n",
    "                    fun () => path |> file_exists |> not\n",
    "                    fun () => false |> return\n",
    "                    fun () =>\n",
    "                        inl existing_content = path |> read_all_text_async |> async.let'\n",
    "                        content = existing_content |> return\n",
    "            |> async.new_async_unit\n",
    "        | _ => fun () => null ()"
   ]
  },
  {
   "cell_type": "markdown",
   "metadata": {},
   "source": [
    "### write_all_text_exists_async"
   ]
  },
  {
   "cell_type": "code",
   "execution_count": null,
   "metadata": {
    "dotnet_interactive": {
     "language": "spiral"
    },
    "polyglot_notebook": {
     "kernelName": "spiral"
    }
   },
   "outputs": [],
   "source": [
    "inl write_all_text_exists_async path contents =\n",
    "    fun () =>\n",
    "        inl exists' = contents |> file_exists_content_async path |> async.let'\n",
    "        if not exists'\n",
    "        then contents |> write_all_text_async path |> async.do\n",
    "    |> async.new_async"
   ]
  },
  {
   "cell_type": "markdown",
   "metadata": {},
   "source": [
    "### delete_directory_async"
   ]
  },
  {
   "cell_type": "code",
   "execution_count": null,
   "metadata": {
    "dotnet_interactive": {
     "language": "spiral"
    },
    "polyglot_notebook": {
     "kernelName": "spiral"
    }
   },
   "outputs": [],
   "source": [
    "inl delete_directory_async path : _ i64 =\n",
    "    run_target function\n",
    "        | Fsharp (Native) => fun () =>\n",
    "            let rec loop (retry : i64) =\n",
    "                fun () =>\n",
    "                    try_unit\n",
    "                        fun () =>\n",
    "                            path |> directory_delete true\n",
    "                            retry |> return\n",
    "                        fun ex =>\n",
    "                            if retry % 100i64 = 0 then\n",
    "                                inl ex = ex |> sm'.format_exception\n",
    "                                trace Debug\n",
    "                                    fun () => \"file_system.delete_directory_async\"\n",
    "                                    fun () => { ex path = path |> get_file_name }\n",
    "                            async.sleep 10i32 |> async.do\n",
    "                            loop (retry + 1) |> async.return_await\n",
    "                |> async.new_async\n",
    "            loop 0\n",
    "        | _ => fun () => null ()"
   ]
  },
  {
   "cell_type": "markdown",
   "metadata": {},
   "source": [
    "### trace_file"
   ]
  },
  {
   "cell_type": "code",
   "execution_count": null,
   "metadata": {
    "dotnet_interactive": {
     "language": "spiral"
    },
    "polyglot_notebook": {
     "kernelName": "spiral"
    }
   },
   "outputs": [],
   "source": [
    "let rec trace_file text =\n",
    "    run_target function\n",
    "    | Fsharp (Native) => fun () =>\n",
    "        try_unit\n",
    "            fun () =>\n",
    "                inl assembly_name = env.get_entry_assembly_name ()\n",
    "                inl guid = date_time.now () |> date_time.new_guid_from_date_time\n",
    "                inl file_name = $'$\"{!assembly_name}_{!guid}.txt\"'\n",
    "\n",
    "                inl workspace_root = get_workspace_root ()\n",
    "                inl trace_dir = workspace_root </> \"target/trace\"\n",
    "                trace_dir |> create_directory |> ignore\n",
    "                inl path = trace_dir </> file_name\n",
    "                text |> write_all_text_async path |> async.run_synchronously\n",
    "            fun ex =>\n",
    "                trace_file $'$\"file_system.trace_file / ex: %A{!ex}\"'\n",
    "    | _ => fun () => ()"
   ]
  },
  {
   "cell_type": "code",
   "execution_count": null,
   "metadata": {
    "dotnet_interactive": {
     "language": "spiral"
    },
    "polyglot_notebook": {
     "kernelName": "spiral"
    }
   },
   "outputs": [
    {
     "name": "stdout",
     "output_type": "stream",
     "text": [
      "__assert_eq / actual: 1L / expected: 1L\n"
     ]
    }
   ],
   "source": [
    "//// test\n",
    "\n",
    "inl get_count dir : i64 =\n",
    "    inl files = dir |> directory_get_files\n",
    "    a files |> am'.length\n",
    "\n",
    "inl trace_dir = get_workspace_root () </> \"target/trace\"\n",
    "trace_dir |> create_directory |> ignore\n",
    "\n",
    "inl count = get_count trace_dir\n",
    "\n",
    "trace_file \"test\"\n",
    "\n",
    "get_count trace_dir\n",
    "|> _assert_eq (count + 1)"
   ]
  },
  {
   "cell_type": "markdown",
   "metadata": {},
   "source": [
    "### init_trace_file"
   ]
  },
  {
   "cell_type": "code",
   "execution_count": null,
   "metadata": {
    "dotnet_interactive": {
     "language": "spiral"
    },
    "polyglot_notebook": {
     "kernelName": "spiral"
    }
   },
   "outputs": [],
   "source": [
    "inl init_trace_file enabled =\n",
    "    inl state_trace_file = get_trace_state_or_init None .trace_file\n",
    "    state_trace_file <- if enabled then trace_file else ignore"
   ]
  },
  {
   "cell_type": "markdown",
   "metadata": {},
   "source": [
    "## file_system"
   ]
  },
  {
   "cell_type": "markdown",
   "metadata": {},
   "source": [
    "### create_dir"
   ]
  },
  {
   "cell_type": "code",
   "execution_count": null,
   "metadata": {
    "dotnet_interactive": {
     "language": "spiral"
    },
    "polyglot_notebook": {
     "kernelName": "spiral"
    }
   },
   "outputs": [],
   "source": [
    "let create_dir dir =\n",
    "    run_target function\n",
    "        | Rust (Contract | Wasm) => fun () => null ()\n",
    "        | Rust (Native) => fun () =>\n",
    "            inl dir = join dir\n",
    "            match dir |> create_dir_all |> resultm.map_error' sm'.format' |> resultm.unbox with\n",
    "            | Ok () =>\n",
    "                trace Verbose\n",
    "                    fun () => \"file_system.create_dir\"\n",
    "                    fun () => { dir }\n",
    "            | Error error =>\n",
    "                trace Critical\n",
    "                    fun () => \"file_system.create_dir\"\n",
    "                    fun () => { dir error }\n",
    "            inl disposable : _ () = new_disposable fun () =>\n",
    "                dir\n",
    "                |> directory_delete true\n",
    "            disposable\n",
    "        | _ => fun () =>\n",
    "            inl directory_info = dir |> create_directory\n",
    "            inl exists' = directory_info |> directory_info_exists\n",
    "            if not exists' then\n",
    "                inl creation_time = directory_info |> directory_info_creation_time\n",
    "                inl result = ($'{| Exists = !exists'; CreationTime = !creation_time |}' : any) |> sm'.format_debug\n",
    "                trace Debug\n",
    "                    fun () => \"file_system.create_dir\"\n",
    "                    fun () => { dir result }\n",
    "            inl disposable : _ () = new_disposable fun () =>\n",
    "                dir\n",
    "                |> delete_directory_async\n",
    "                |> async.ignore\n",
    "                |> async.run_synchronously\n",
    "            disposable"
   ]
  },
  {
   "cell_type": "markdown",
   "metadata": {},
   "source": [
    "### create_temp_dir"
   ]
  },
  {
   "cell_type": "code",
   "execution_count": null,
   "metadata": {
    "dotnet_interactive": {
     "language": "spiral"
    },
    "polyglot_notebook": {
     "kernelName": "spiral"
    }
   },
   "outputs": [],
   "source": [
    "inl create_temp_dir () =\n",
    "    inl dir = create_temp_path ()\n",
    "    dir, dir |> create_dir"
   ]
  },
  {
   "cell_type": "code",
   "execution_count": null,
   "metadata": {
    "dotnet_interactive": {
     "language": "spiral"
    },
    "polyglot_notebook": {
     "kernelName": "spiral"
    }
   },
   "outputs": [
    {
     "name": "stdout",
     "output_type": "stream",
     "text": [
      "__assert_eq / actual: true / expected: true\n"
     ]
    }
   ],
   "source": [
    "//// test\n",
    "\n",
    "inl path, disposable = create_temp_dir ()\n",
    "disposable |> use |> ignore\n",
    "path\n",
    "|> directory_exists\n",
    "|> _assert_eq true"
   ]
  },
  {
   "cell_type": "code",
   "execution_count": null,
   "metadata": {
    "dotnet_interactive": {
     "language": "spiral"
    },
    "polyglot_notebook": {
     "kernelName": "spiral"
    }
   },
   "outputs": [
    {
     "data": {
      "text/plain": [
       "00:00:00 \u001B[90mverbose\u001B[39m #1 file_system.create_dir / { dir = /tmp/!create_temp_path_/spiral_builder_d6378cf152c1c0c2f88c025233bfb0caa0acae405693b14550eed5f5a4823955/20240808-2218-5657-1541-0000000dc3b4 }\n",
       "__assert_eq / actual: true / expected: true\n",
       "__assert_eq / actual: false / expected: false\n"
      ]
     },
     "metadata": {},
     "output_type": "display_data"
    }
   ],
   "source": [
    "//// test\n",
    "///! rust -d chrono\n",
    "\n",
    "inl path, disposable = create_temp_dir ()\n",
    "path\n",
    "|> directory_exists\n",
    "|> _assert_eq true\n",
    "disposable |> use |> ignore\n",
    "path\n",
    "|> directory_exists\n",
    "|> _assert_eq false"
   ]
  },
  {
   "cell_type": "code",
   "execution_count": null,
   "metadata": {
    "dotnet_interactive": {
     "language": "spiral"
    },
    "polyglot_notebook": {
     "kernelName": "spiral"
    }
   },
   "outputs": [
    {
     "name": "stdout",
     "output_type": "stream",
     "text": [
      "00:00:00 \u001B[94m  debug\u001B[0m #1 1\n",
      "00:00:00 \u001B[94m  debug\u001B[0m #2 2\n",
      "00:00:00 \u001B[94m  debug\u001B[0m #4 3\n",
      "00:00:00 \u001B[94m  debug\u001B[0m #4 _1\n",
      "00:00:00 \u001B[94m  debug\u001B[0m #5 _2\n",
      "00:00:00 \u001B[94m  debug\u001B[0m #6 4\n",
      "00:00:00 \u001B[94m  debug\u001B[0m #7 5\n",
      "00:00:02 \u001B[94m  debug\u001B[0m #8 _3\n",
      "00:00:02 \u001B[94m  debug\u001B[0m #9 6\n",
      "__assert_between / actual: 0L / expected: struct (0L, 0L)\n",
      "__assert_eq / actual: true / expected: true\n"
     ]
    }
   ],
   "source": [
    "//// test\n",
    "\n",
    "inl lock_directory path =\n",
    "    fun () =>\n",
    "        trace Debug (fun () => \"_1\") id\n",
    "        \"0\" |> write_all_text_async (path </> \"test.txt\") |> async.do\n",
    "        file_stream\n",
    "            (path </> \"test.txt\")\n",
    "            ModeOpen\n",
    "            AccessReadWrite\n",
    "            ShareNone\n",
    "        |> use\n",
    "        |> ignore\n",
    "        trace Debug (fun () => \"_2\") id\n",
    "        async.sleep 2000 |> async.do\n",
    "        trace Debug (fun () => \"_3\") id\n",
    "        () |> return\n",
    "    |> async.new_async\n",
    "\n",
    "inl temp_dir, disposable = create_temp_dir ()\n",
    "disposable |> use |> ignore\n",
    "inl path = temp_dir </> \"test\"\n",
    "\n",
    "fun () =>\n",
    "    trace Debug (fun () => \"1\") id\n",
    "    path |> create_directory |> ignore\n",
    "    trace Debug (fun () => \"2\") id\n",
    "    inl child = path |> lock_directory |> async.start_child |> async.let'\n",
    "    trace Debug (fun () => \"3\") id\n",
    "    async.sleep 60 |> async.do\n",
    "    trace Debug (fun () => \"4\") id\n",
    "    inl retries = path |> delete_directory_async |> async.let'\n",
    "    trace Debug (fun () => \"5\") id\n",
    "    child |> async.do\n",
    "    trace Debug (fun () => \"6\") id\n",
    "    retries |> return\n",
    "|> async.new_async_unit\n",
    "|> async.run_with_timeout 3000\n",
    "|> fun x => x : _ i64\n",
    "|> function\n",
    "    | Some (retries : i64) =>\n",
    "        retries\n",
    "        |> _assert_between\n",
    "            (if platform.is_windows () then 50 else 0)\n",
    "            (if platform.is_windows () then 180 else 0)\n",
    "\n",
    "        true\n",
    "    | _ => false\n",
    "|> _assert_eq true"
   ]
  },
  {
   "cell_type": "markdown",
   "metadata": {},
   "source": [
    "### create_temp_dir'"
   ]
  },
  {
   "cell_type": "code",
   "execution_count": null,
   "metadata": {
    "dotnet_interactive": {
     "language": "spiral"
    },
    "polyglot_notebook": {
     "kernelName": "spiral"
    }
   },
   "outputs": [],
   "source": [
    "inl create_temp_dir' (hash : string) =\n",
    "    inl dir = hash |> guid.hash_guid |> create_temp_path'\n",
    "    dir, dir |> create_dir"
   ]
  },
  {
   "cell_type": "markdown",
   "metadata": {},
   "source": [
    "### link_directory"
   ]
  },
  {
   "cell_type": "code",
   "execution_count": null,
   "metadata": {
    "dotnet_interactive": {
     "language": "spiral"
    },
    "polyglot_notebook": {
     "kernelName": "spiral"
    }
   },
   "outputs": [],
   "source": [
    "let link_directory target_path path =\n",
    "    if target_path |> directory_exists |> not\n",
    "    then target_path |> create_dir |> ignore\n",
    "\n",
    "    inl lib_dir_path = path |> get_directory_name\n",
    "    if lib_dir_path |> directory_exists |> not\n",
    "    then lib_dir_path |> create_dir |> ignore\n",
    "\n",
    "    if (path |> directory_exists)\n",
    "        && (path |> read_link |> resultm.is_err) then\n",
    "        path |> directory_delete true\n",
    "\n",
    "    if path |> directory_exists |> not then\n",
    "        path |> directory_create_symbolic_link target_path"
   ]
  },
  {
   "cell_type": "markdown",
   "metadata": {},
   "source": [
    "## rust"
   ]
  },
  {
   "cell_type": "markdown",
   "metadata": {},
   "source": [
    "### file_exists_content"
   ]
  },
  {
   "cell_type": "code",
   "execution_count": null,
   "metadata": {
    "dotnet_interactive": {
     "language": "spiral"
    },
    "polyglot_notebook": {
     "kernelName": "spiral"
    }
   },
   "outputs": [],
   "source": [
    "let file_exists_content path content : bool =\n",
    "    run_target function\n",
    "        | Rust (Native) => fun () =>\n",
    "            if path |> file_exists |> not\n",
    "            then false\n",
    "            else\n",
    "                inl existing_content = path |> read_all_text\n",
    "                content = existing_content\n",
    "        | _ => fun () => null ()"
   ]
  },
  {
   "cell_type": "markdown",
   "metadata": {},
   "source": [
    "### write_all_text_exists"
   ]
  },
  {
   "cell_type": "code",
   "execution_count": null,
   "metadata": {
    "dotnet_interactive": {
     "language": "spiral"
    },
    "polyglot_notebook": {
     "kernelName": "spiral"
    }
   },
   "outputs": [],
   "source": [
    "let write_all_text_exists path contents =\n",
    "    inl exists' = contents |> file_exists_content path\n",
    "    if not exists' then\n",
    "        inl dir = path |> get_directory_name\n",
    "        if dir |> directory_exists |> not\n",
    "        then dir |> create_dir |> ignore\n",
    "        contents |> write_all_text path"
   ]
  },
  {
   "cell_type": "markdown",
   "metadata": {},
   "source": [
    "## fsharp"
   ]
  },
  {
   "cell_type": "markdown",
   "metadata": {},
   "source": [
    "### wait_for_file_access"
   ]
  },
  {
   "cell_type": "code",
   "execution_count": null,
   "metadata": {
    "dotnet_interactive": {
     "language": "spiral"
    },
    "polyglot_notebook": {
     "kernelName": "spiral"
    }
   },
   "outputs": [],
   "source": [
    "inl wait_for_file_access access path =\n",
    "    run_target function\n",
    "        | Fsharp (Native) => fun () =>\n",
    "            inl file_access, file_share =\n",
    "                access\n",
    "                |> optionm'.default_value (AccessReadWrite, ShareRead)\n",
    "            let rec loop (retry : i64) : _ i64 =\n",
    "                fun () =>\n",
    "                    try_unit\n",
    "                        fun () =>\n",
    "                            file_stream\n",
    "                                path\n",
    "                                ModeOpen\n",
    "                                file_access\n",
    "                                file_share\n",
    "                            |> use\n",
    "                            |> ignore\n",
    "                            retry |> return\n",
    "                        fun ex =>\n",
    "                            if retry > 0 && retry % 100i64 = 0 then\n",
    "                                inl ex = ex |> sm'.format_exception\n",
    "                                trace Debug\n",
    "                                    fun () => \"file_system.wait_for_file_access\"\n",
    "                                    fun () => { path = path |> get_file_name; retry ex }\n",
    "                            async.sleep 10i32 |> async.do\n",
    "                            loop (retry + 1) |> async.return_await\n",
    "                |> async.new_async\n",
    "            loop 0\n",
    "        | _ => fun () => null ()\n",
    "\n",
    "inl wait_for_file_access_read path =\n",
    "    path\n",
    "    |> wait_for_file_access (Some (\n",
    "        AccessRead,\n",
    "        ShareRead\n",
    "    ))"
   ]
  },
  {
   "cell_type": "code",
   "execution_count": null,
   "metadata": {
    "dotnet_interactive": {
     "language": "spiral"
    },
    "polyglot_notebook": {
     "kernelName": "spiral"
    }
   },
   "outputs": [
    {
     "name": "stdout",
     "output_type": "stream",
     "text": [
      "00:00:00 \u001B[94m  debug\u001B[0m #1 1\n",
      "00:00:00 \u001B[94m  debug\u001B[0m #2 2\n",
      "00:00:00 \u001B[94m  debug\u001B[0m #4 3\n",
      "00:00:00 \u001B[94m  debug\u001B[0m #4 _1\n",
      "00:00:00 \u001B[94m  debug\u001B[0m #5 _2\n",
      "00:00:00 \u001B[94m  debug\u001B[0m #6 4\n",
      "00:00:01 \u001B[94m  debug\u001B[0m #7 file_system.wait_for_file_access / { path = test.txt; retry = 100; ex = System.IO.IOException: The process cannot access the file '/tmp/!create_temp_path_/dotnet-repl/613830ed-016e-d959-8d21-02dc1c63c252/test.txt' because it is being used by another process. }\n",
      "00:00:02 \u001B[94m  debug\u001B[0m #8 _3\n",
      "00:00:02 \u001B[94m  debug\u001B[0m #9 _4\n",
      "00:00:02 \u001B[94m  debug\u001B[0m #10 _5\n",
      "00:00:02 \u001B[94m  debug\u001B[0m #11 _6\n",
      "00:00:02 \u001B[94m  debug\u001B[0m #12 5\n",
      "00:00:02 \u001B[94m  debug\u001B[0m #13 6\n",
      "00:00:02 \u001B[94m  debug\u001B[0m #14 7\n",
      "__assert_between / actual: 168L / expected: struct (100L, 200L)\n",
      "__assert_eq / actual: \"1\" / expected: \"1\"\n",
      "__assert_eq / actual: true / expected: true\n"
     ]
    }
   ],
   "source": [
    "//// test\n",
    "\n",
    "inl lock_file path =\n",
    "    fun () =>\n",
    "        trace Debug (fun () => \"_1\") id\n",
    "        inl stream : file_stream' =\n",
    "            file_stream\n",
    "                path\n",
    "                ModeOpen\n",
    "                AccessReadWrite\n",
    "                ShareNone\n",
    "            |> use\n",
    "        trace Debug (fun () => \"_2\") id\n",
    "        async.sleep 2000 |> async.do\n",
    "        trace Debug (fun () => \"_3\") id\n",
    "        ($'!stream.Seek (0L, System.IO.SeekOrigin.Begin)' : i64) |> ignore\n",
    "        trace Debug (fun () => \"_4\") id\n",
    "        $'!stream.WriteByte' 49u8\n",
    "        trace Debug (fun () => \"_5\") id\n",
    "        stream |> $'_.Flush()'\n",
    "        trace Debug (fun () => \"_6\") id\n",
    "    |> async.new_async\n",
    "\n",
    "inl file_name = \"test.txt\"\n",
    "inl text = \"0\"\n",
    "\n",
    "inl temp_dir, disposable =\n",
    "    (file_name, text)\n",
    "    |> sm'.format_debug\n",
    "    |> crypto.hash_text\n",
    "    |> create_temp_dir'\n",
    "disposable |> use |> ignore\n",
    "inl path = temp_dir </> file_name\n",
    "\n",
    "fun () =>\n",
    "    trace Debug (fun () => \"1\") id\n",
    "    text |> write_all_text_async path |> async.do\n",
    "    trace Debug (fun () => \"2\") id\n",
    "    inl child = path |> lock_file |> async.start_child |> async.let'\n",
    "    trace Debug (fun () => \"3\") id\n",
    "    async.sleep 1 |> async.do\n",
    "    trace Debug (fun () => \"4\") id\n",
    "    inl retries = path |> wait_for_file_access None |> async.let'\n",
    "    trace Debug (fun () => \"5\") id\n",
    "    inl text = path |> read_all_text_async |> async.let'\n",
    "    trace Debug (fun () => \"6\") id\n",
    "    child |> async.do\n",
    "    trace Debug (fun () => \"7\") id\n",
    "    (retries, text) |> return\n",
    "|> async.new_async_unit\n",
    "|> async.run_with_timeout 3000\n",
    "|> function\n",
    "    | Some ((retries : i64), text) =>\n",
    "        retries\n",
    "        |> _assert_between\n",
    "            (if platform.is_windows () then 50 else 100)\n",
    "            (if platform.is_windows () then 180 else 200)\n",
    "\n",
    "        text |> _assert_eq (join \"1\")\n",
    "\n",
    "        true\n",
    "    | _ => false\n",
    "|> _assert_eq true"
   ]
  },
  {
   "cell_type": "markdown",
   "metadata": {},
   "source": [
    "### read_all_text_retry_async"
   ]
  },
  {
   "cell_type": "code",
   "execution_count": null,
   "metadata": {
    "dotnet_interactive": {
     "language": "spiral"
    },
    "polyglot_notebook": {
     "kernelName": "spiral"
    }
   },
   "outputs": [],
   "source": [
    "inl read_all_text_retry_async full_path : async.async (optionm'.option' string) =\n",
    "    run_target function\n",
    "        | Fsharp (Native) => fun () =>\n",
    "            let rec loop (retry : i64) =\n",
    "                fun () =>\n",
    "                    try_unit\n",
    "                        fun () =>\n",
    "                            if retry > 0\n",
    "                            then\n",
    "                                full_path\n",
    "                                |> wait_for_file_access_read\n",
    "                                |> async.run_with_timeout_async 1000\n",
    "                                |> async.ignore\n",
    "                                |> async.do\n",
    "                            full_path |> read_all_text_async |> async.map (Some >> optionm'.box) |> async.return_await\n",
    "                        fun ex =>\n",
    "                            fix_condition\n",
    "                                fun () => retry <> 0\n",
    "                                fun () =>\n",
    "                                    inl ex = ex |> sm'.format_exception\n",
    "                                    trace Debug\n",
    "                                        fun () => $'\"read_all_text_retry_async\"'\n",
    "                                        fun () => { retry ex }\n",
    "                                    (None : _ string) |> optionm'.box |> return\n",
    "                                fun () =>\n",
    "                                    loop (retry + 1) |> async.return_await\n",
    "                |> async.new_async\n",
    "            loop 0\n",
    "        | _ => fun () => null ()"
   ]
  },
  {
   "cell_type": "markdown",
   "metadata": {},
   "source": [
    "### move_file_async"
   ]
  },
  {
   "cell_type": "code",
   "execution_count": null,
   "metadata": {
    "dotnet_interactive": {
     "language": "spiral"
    },
    "polyglot_notebook": {
     "kernelName": "spiral"
    }
   },
   "outputs": [],
   "source": [
    "inl move_file_async new_path old_path : _ i64 =\n",
    "    run_target function\n",
    "        | Fsharp (Native) => fun () =>\n",
    "            let rec loop (retry : i64) =\n",
    "                fun () =>\n",
    "                    try_unit\n",
    "                        fun () =>\n",
    "                            old_path |> file_move new_path\n",
    "                            return retry\n",
    "                        fun ex =>\n",
    "                            if retry % 100 = 0 then\n",
    "\n",
    "                                trace Warning\n",
    "                                    fun () => \"move_file_async\"\n",
    "                                    fun () => {\n",
    "                                        old_path = old_path |> get_file_name\n",
    "                                        new_path = new_path |> get_file_name\n",
    "                                        ex\n",
    "                                    }\n",
    "                            async.sleep 10 |> async.do\n",
    "                            loop (retry + 1) |> async.return_await\n",
    "                |> async.new_async_unit\n",
    "            loop 0\n",
    "        | _ => fun () => null ()"
   ]
  },
  {
   "cell_type": "code",
   "execution_count": null,
   "metadata": {
    "dotnet_interactive": {
     "language": "spiral"
    },
    "polyglot_notebook": {
     "kernelName": "spiral"
    }
   },
   "outputs": [
    {
     "name": "stdout",
     "output_type": "stream",
     "text": [
      "00:00:00 \u001B[94m  debug\u001B[0m #1 1\n",
      "00:00:00 \u001B[94m  debug\u001B[0m #2 2\n",
      "00:00:00 \u001B[94m  debug\u001B[0m #4 3\n",
      "00:00:00 \u001B[94m  debug\u001B[0m #4 _1\n",
      "00:00:00 \u001B[94m  debug\u001B[0m #6 _2\n",
      "00:00:00 \u001B[94m  debug\u001B[0m #6 4\n",
      "00:00:00 \u001B[94m  debug\u001B[0m #7 5\n",
      "00:00:01 \u001B[94m  debug\u001B[0m #8 file_system.wait_for_file_access / { path = test2.txt; retry = 100; ex = System.IO.IOException: The process cannot access the file '/tmp/!create_temp_path_/dotnet-repl/613830ed-016e-d959-8d21-02dc1c63c252/test2.txt' because it is being used by another process. }\n",
      "00:00:02 \u001B[94m  debug\u001B[0m #9 _3\n",
      "00:00:02 \u001B[94m  debug\u001B[0m #10 6\n",
      "00:00:02 \u001B[94m  debug\u001B[0m #11 7\n",
      "00:00:02 \u001B[94m  debug\u001B[0m #12 8\n",
      "__assert_between / actual: 0L / expected: struct (0L, 0L)\n",
      "__assert_between / actual: 167L / expected: struct (100L, 200L)\n",
      "__assert_eq / actual: \"0\" / expected: \"0\"\n",
      "__assert_eq / actual: true / expected: true\n"
     ]
    }
   ],
   "source": [
    "//// test\n",
    "\n",
    "inl lock_file path =\n",
    "    fun () =>\n",
    "        trace Debug (fun () => \"_1\") id\n",
    "        file_stream\n",
    "            path\n",
    "            ModeOpen\n",
    "            AccessReadWrite\n",
    "            ShareNone\n",
    "        |> use\n",
    "        |> ignore\n",
    "        trace Debug (fun () => \"_2\") id\n",
    "        async.sleep 2000 |> async.do\n",
    "        trace Debug (fun () => \"_3\") id\n",
    "    |> async.new_async\n",
    "\n",
    "fun () =>\n",
    "    inl file_name = \"test.txt\"\n",
    "    inl text = \"0\"\n",
    "\n",
    "    inl temp_dir, disposable =\n",
    "        (file_name, text)\n",
    "        |> sm'.format_debug\n",
    "        |> crypto.hash_text\n",
    "        |> create_temp_dir'\n",
    "    disposable |> use |> ignore\n",
    "    let path = temp_dir </> file_name\n",
    "    let new_path = temp_dir </> \"test2.txt\"\n",
    "\n",
    "    trace Debug (fun () => \"1\") id\n",
    "    text |> write_all_text_async path |> async.do\n",
    "    trace Debug (fun () => \"2\") id\n",
    "    inl child = lock_file path |> async.start_child |> async.let'\n",
    "    trace Debug (fun () => \"3\") id\n",
    "    async.sleep 1 |> async.do\n",
    "    trace Debug (fun () => \"4\") id\n",
    "    inl retries1 = path |> move_file_async new_path |> async.let'\n",
    "    trace Debug (fun () => \"5\") id\n",
    "    inl retries2 = new_path |> wait_for_file_access None |> async.let'\n",
    "    trace Debug (fun () => \"6\") id\n",
    "    inl text = new_path |> read_all_text_async |> async.let'\n",
    "    trace Debug (fun () => \"7\") id\n",
    "    child |> async.do\n",
    "    trace Debug (fun () => \"8\") id\n",
    "    (retries1, retries2, text) |> return\n",
    "|> async.new_async_unit\n",
    "|> async.run_with_timeout 3000\n",
    "|> function\n",
    "    | Some (retries1, retries2, text) =>\n",
    "        retries1\n",
    "        |> _assert_between\n",
    "            (if platform.is_windows () then 50i64 else 0)\n",
    "            (if platform.is_windows () then 200 else 0)\n",
    "\n",
    "        retries2\n",
    "        |> _assert_between\n",
    "            (if platform.is_windows () then 0i64 else 100)\n",
    "            (if platform.is_windows () then 0 else 200)\n",
    "\n",
    "        text |> _assert_eq (join \"0\")\n",
    "\n",
    "        true\n",
    "    | _ => false\n",
    "|> _assert_eq true"
   ]
  },
  {
   "cell_type": "markdown",
   "metadata": {},
   "source": [
    "### delete_file_async"
   ]
  },
  {
   "cell_type": "code",
   "execution_count": null,
   "metadata": {
    "dotnet_interactive": {
     "language": "spiral"
    },
    "polyglot_notebook": {
     "kernelName": "spiral"
    }
   },
   "outputs": [],
   "source": [
    "inl delete_file_async path : _ i64 =\n",
    "    run_target function\n",
    "        | Fsharp (Native) => fun () =>\n",
    "            let rec loop (retry : i64) =\n",
    "                fun () =>\n",
    "                    try_unit\n",
    "                        fun () =>\n",
    "                            path |> file_delete\n",
    "                            return retry\n",
    "                        fun ex =>\n",
    "                            if retry % 100 = 0 then\n",
    "                                trace Warning\n",
    "                                    fun () => \"delete_file_async\"\n",
    "                                    fun () => { path = path |> get_file_name; ex = ex |> sm'.format_exception }\n",
    "                            async.sleep 10 |> async.do\n",
    "                            loop (retry + 1) |> async.return_await\n",
    "                |> async.new_async\n",
    "            loop 0\n",
    "        | _ => fun () => null ()"
   ]
  },
  {
   "cell_type": "code",
   "execution_count": null,
   "metadata": {
    "dotnet_interactive": {
     "language": "spiral"
    },
    "polyglot_notebook": {
     "kernelName": "spiral"
    }
   },
   "outputs": [
    {
     "name": "stdout",
     "output_type": "stream",
     "text": [
      "00:00:00 \u001B[94m  debug\u001B[0m #1 1\n",
      "00:00:00 \u001B[94m  debug\u001B[0m #2 2\n",
      "00:00:00 \u001B[94m  debug\u001B[0m #4 3\n",
      "00:00:00 \u001B[94m  debug\u001B[0m #4 _1\n",
      "00:00:00 \u001B[94m  debug\u001B[0m #5 _2\n",
      "00:00:00 \u001B[94m  debug\u001B[0m #6 4\n",
      "00:00:00 \u001B[94m  debug\u001B[0m #7 5\n",
      "00:00:02 \u001B[94m  debug\u001B[0m #8 _3\n",
      "00:00:02 \u001B[94m  debug\u001B[0m #9 6\n",
      "__assert_between / actual: 0L / expected: struct (0L, 0L)\n",
      "__assert_eq / actual: true / expected: true\n"
     ]
    }
   ],
   "source": [
    "//// test\n",
    "\n",
    "inl lock_file path =\n",
    "    fun () =>\n",
    "        trace Debug (fun () => \"_1\") id\n",
    "        file_stream\n",
    "            path\n",
    "            ModeOpen\n",
    "            AccessReadWrite\n",
    "            ShareNone\n",
    "        |> use\n",
    "        |> ignore\n",
    "        trace Debug (fun () => \"_2\") id\n",
    "        async.sleep 2000 |> async.do\n",
    "        trace Debug (fun () => \"_3\") id\n",
    "    |> async.new_async\n",
    "\n",
    "fun () =>\n",
    "    inl file_name = \"test.txt\"\n",
    "    inl text = \"0\"\n",
    "\n",
    "    inl temp_dir, disposable =\n",
    "        (file_name, text)\n",
    "        |> sm'.format_debug\n",
    "        |> crypto.hash_text\n",
    "        |> create_temp_dir'\n",
    "    disposable |> use |> ignore\n",
    "    inl path = temp_dir </> file_name\n",
    "\n",
    "    trace Debug (fun () => \"1\") id\n",
    "    text |> write_all_text_async path |> async.do\n",
    "    trace Debug (fun () => \"2\") id\n",
    "    inl child = lock_file path |> async.start_child |> async.let'\n",
    "    trace Debug (fun () => \"3\") id\n",
    "    async.sleep 1 |> async.do\n",
    "    trace Debug (fun () => \"4\") id\n",
    "    inl retries = delete_file_async path |> async.let'\n",
    "    trace Debug (fun () => \"5\") id\n",
    "    child |> async.do\n",
    "    trace Debug (fun () => \"6\") id\n",
    "    return retries\n",
    "|> async.new_async_unit\n",
    "|> async.run_with_timeout 3000\n",
    "|> function\n",
    "    | Some (retries : i64) =>\n",
    "        retries\n",
    "        |> _assert_between\n",
    "            (if platform.is_windows () then 50 else 0)\n",
    "            (if platform.is_windows () then 180 else 0)\n",
    "\n",
    "        true\n",
    "    | _ => false\n",
    "|> _assert_eq true"
   ]
  },
  {
   "cell_type": "markdown",
   "metadata": {},
   "source": [
    "## main"
   ]
  },
  {
   "cell_type": "code",
   "execution_count": null,
   "metadata": {
    "dotnet_interactive": {
     "language": "spiral"
    },
    "polyglot_notebook": {
     "kernelName": "spiral"
    }
   },
   "outputs": [],
   "source": [
    "inl main () =\n",
    "    init_trace_state None\n",
    "    $'let delete_directory_async x = !delete_directory_async x' : ()\n",
    "    $'let wait_for_file_access x = !wait_for_file_access x' : ()\n",
    "    $'let wait_for_file_access_read x = !wait_for_file_access_read x' : ()\n",
    "    $'let read_all_text_async x = !read_all_text_async x' : ()\n",
    "    $'let file_exists_content x = !file_exists_content x' : ()\n",
    "    $'let write_all_text_async x = !write_all_text_async x' : ()\n",
    "    $'let write_all_text_exists x = !write_all_text_exists_async x' : ()\n",
    "    $'let delete_file_async x = !delete_file_async x' : ()\n",
    "    $'let move_file_async x = !move_file_async x' : ()\n",
    "    $'let read_all_text_retry_async x = !read_all_text_retry_async x' : ()\n",
    "    $'let create_temp_path () = !create_temp_path ()' : ()\n",
    "    $'let create_temp_dir () = !create_temp_dir ()' : ()\n",
    "    $'let create_temp_dir\\' x = !create_temp_dir' x' : ()\n",
    "    $'let get_source_directory () = !get_source_directory ()' : ()\n",
    "    $'let normalize_path x = !normalize_path x' : ()\n",
    "    $'let new_file_uri x = !new_file_uri x' : ()\n",
    "    $'let get_workspace_root () = !get_workspace_root ()' : ()\n",
    "    $'let init_trace_file x = !init_trace_file x' : ()\n",
    "    inl combine x = (</>) x\n",
    "    $'let (</>) x = !combine x' : ()"
   ]
  }
 ],
 "metadata": {},
 "nbformat": 4,
 "nbformat_minor": 5
}