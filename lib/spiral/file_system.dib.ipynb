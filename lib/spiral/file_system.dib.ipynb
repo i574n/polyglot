{
 "cells": [
  {
   "cell_type": "markdown",
   "metadata": {},
   "source": [
    "# file_system"
   ]
  },
  {
   "cell_type": "code",
   "execution_count": null,
   "metadata": {
    "dotnet_interactive": {
     "language": "spiral"
    },
    "polyglot_notebook": {
     "kernelName": "spiral"
    }
   },
   "outputs": [
    {
     "name": "stdout",
     "output_type": "stream",
     "text": [
      "()\n",
      "\n"
     ]
    }
   ],
   "source": [
    "open rust_operators\n",
    "open sm'_operators"
   ]
  },
  {
   "cell_type": "code",
   "execution_count": null,
   "metadata": {
    "dotnet_interactive": {
     "language": "spiral"
    },
    "polyglot_notebook": {
     "kernelName": "spiral"
    }
   },
   "outputs": [
    {
     "name": "stdout",
     "output_type": "stream",
     "text": [
      "()\n",
      "\n"
     ]
    }
   ],
   "source": [
    "// // test\n",
    "\n",
    "open testing"
   ]
  },
  {
   "cell_type": "markdown",
   "metadata": {},
   "source": [
    "## types"
   ]
  },
  {
   "cell_type": "code",
   "execution_count": null,
   "metadata": {
    "dotnet_interactive": {
     "language": "spiral"
    },
    "polyglot_notebook": {
     "kernelName": "spiral"
    }
   },
   "outputs": [
    {
     "name": "stdout",
     "output_type": "stream",
     "text": [
      "()\n",
      "\n"
     ]
    }
   ],
   "source": [
    "inl types () =\n",
    "    ()"
   ]
  },
  {
   "cell_type": "markdown",
   "metadata": {},
   "source": [
    "## (</>)"
   ]
  },
  {
   "cell_type": "code",
   "execution_count": null,
   "metadata": {
    "dotnet_interactive": {
     "language": "spiral"
    },
    "polyglot_notebook": {
     "kernelName": "spiral"
    }
   },
   "outputs": [
    {
     "name": "stdout",
     "output_type": "stream",
     "text": [
      "()\n",
      "\n"
     ]
    }
   ],
   "source": [
    "inl (</>) (a : string) (b : string) : string =\n",
    "    $'System.IO.Path.Combine (!a, !b)'"
   ]
  },
  {
   "cell_type": "markdown",
   "metadata": {},
   "source": [
    "## create_temp_directory_name"
   ]
  },
  {
   "cell_type": "code",
   "execution_count": null,
   "metadata": {
    "dotnet_interactive": {
     "language": "spiral"
    },
    "polyglot_notebook": {
     "kernelName": "spiral"
    }
   },
   "outputs": [
    {
     "name": "stdout",
     "output_type": "stream",
     "text": [
      "()\n",
      "\n"
     ]
    }
   ],
   "source": [
    "inl create_temp_directory_name () =\n",
    "    run_target function\n",
    "        | Fsharp (Native) => fun () =>\n",
    "            inl root = $'System.Reflection.Assembly.GetEntryAssembly().GetName().Name' : string\n",
    "\n",
    "            ($'System.IO.Path.GetTempPath' () : string)\n",
    "            </> ($'$\"{!root}\"' : string)\n",
    "            </> (date_time.new_guid_from_date_time $'System.DateTime.Now' |> sm'.obj_to_string)\n",
    "        | x => fun () => failwith $'$\"create_temp_directory_name target: {!x}\"'"
   ]
  },
  {
   "cell_type": "code",
   "execution_count": null,
   "metadata": {
    "dotnet_interactive": {
     "language": "spiral"
    },
    "polyglot_notebook": {
     "kernelName": "spiral"
    }
   },
   "outputs": [
    {
     "name": "stdout",
     "output_type": "stream",
     "text": [
      "type [<Struct>] US0 =\n",
      "    | US0_0\n",
      "    | US0_1\n",
      "    | US0_2\n",
      "and [<Struct>] US1 =\n",
      "    | US1_0 of f0_0 : US0\n",
      "    | US1_1 of f1_0 : US0\n",
      "and [<Struct>] US2 =\n",
      "    | US2_0\n",
      "    | US2_1 of f1_0 : char\n",
      "let rec closure0 (v0 : char) (v1 : char) : bool =\n",
      "    let v2 : bool = v0 = v1\n",
      "    v2\n",
      "and closure1 () (v0 : char) : US2 =\n",
      "    US2_1(v0)\n",
      "and method1 (v0 : bool) : bool =\n",
      "    v0\n",
      "and method0 () : unit =\n",
      "    let mutable result = None\n",
      "    #if FABLE_COMPILER_RUST && !WASM\n",
      "    let v0 : US0 = US0_1\n",
      "    let v1 : US1 = US1_1(v0)\n",
      "    let v2 : string = $\"create_temp_directory_name target: {v1}\"\n",
      "    let v3 : string = failwith<string> v2\n",
      "    v3\n",
      "    #endif\n",
      "    #if FABLE_COMPILER_RUST && WASM\n",
      "    let v4 : US0 = US0_2\n",
      "    let v5 : US1 = US1_1(v4)\n",
      "    let v6 : string = $\"create_temp_directory_name target: {v5}\"\n",
      "    let v7 : string = failwith<string> v6\n",
      "    v7\n",
      "    #endif\n",
      "    #if !FABLE_COMPILER && !FABLE_COMPILER_RUST && !WASM\n",
      "    let v8 : string = System.Reflection.Assembly.GetEntryAssembly().GetName().Name\n",
      "    let v9 : (unit -> string) = System.IO.Path.GetTempPath\n",
      "    let v10 : string = v9 ()\n",
      "    let v11 : string = $\"{v8}\"\n",
      "    let v12 : string = System.IO.Path.Combine (v10, v11)\n",
      "    let v13 : System.DateTime = System.DateTime.Now\n",
      "    let v14 : System.Guid = System.Guid.NewGuid ()\n",
      "    let v15 : (System.Guid -> string) = _.ToString()\n",
      "    let v16 : string = v15 v14\n",
      "    let v17 : string = v13.ToString \"yyyyMMdd-HHmm-ssff-ffff-f\"\n",
      "    let v18 : System.Guid = System.Guid $\"{v17}{v16.[v17.Length..]}\"\n",
      "    let v19 : (System.Guid -> string) = _.ToString()\n",
      "    let v20 : string = v19 v18\n",
      "    let v21 : string = System.IO.Path.Combine (v12, v20)\n",
      "    v21\n",
      "    #endif\n",
      "    #if FABLE_COMPILER && !FABLE_COMPILER_RUST && !WASM\n",
      "    let v22 : US0 = US0_0\n",
      "    let v23 : US1 = US1_0(v22)\n",
      "    let v24 : string = $\"create_temp_directory_name target: {v23}\"\n",
      "    let v25 : string = failwith<string> v24\n",
      "    v25\n",
      "    #endif\n",
      "    #if !FABLE_COMPILER_RUST && WASM\n",
      "    let v26 : US0 = US0_2\n",
      "    let v27 : US1 = US1_0(v26)\n",
      "    let v28 : string = $\"create_temp_directory_name target: {v27}\"\n",
      "    let v29 : string = failwith<string> v28\n",
      "    v29\n",
      "    #endif\n",
      "    |> fun x -> result <- Some x\n",
      "    let v30 : string = result |> Option.get\n",
      "    let v31 : char = System.IO.Path.DirectorySeparatorChar\n",
      "    let v32 : string = $\"%A{v30}\"\n",
      "    System.Console.WriteLine v32\n",
      "    let v33 : ((char -> bool) -> (string -> char option)) = Seq.tryFind\n",
      "    let v34 : (char -> bool) = closure0(v31)\n",
      "    let v35 : (string -> char option) = v33 v34\n",
      "    let v36 : char option = v35 v30\n",
      "    let v37 : (char -> US2) = closure1()\n",
      "    let v38 : US2 = US2_0\n",
      "    let v39 : US2 = v36 |> Option.map v37 |> Option.defaultValue v38\n",
      "    let v41 : bool =\n",
      "        match v39 with\n",
      "        | US2_0 -> (* None *)\n",
      "            true\n",
      "        | _ ->\n",
      "            false\n",
      "    let v42 : bool = v41 <> true\n",
      "    let v44 : bool =\n",
      "        if v42 then\n",
      "            true\n",
      "        else\n",
      "            method1(v42)\n",
      "    let v45 : string = $\"__expect / actual: %A{v30} / expected: %A{v31}\"\n",
      "    let v46 : bool = v44 = false\n",
      "    if v46 then\n",
      "        failwith<unit> v45\n",
      "method0()\n",
      "\n",
      "\"/tmp/dotnet-repl/20240330-2030-3681-8105-87ddf14f44a2\"\n"
     ]
    }
   ],
   "source": [
    "// // test\n",
    "\n",
    "create_temp_directory_name ()\n",
    "|> _contains ($'System.IO.Path.DirectorySeparatorChar' : char)"
   ]
  },
  {
   "cell_type": "markdown",
   "metadata": {},
   "source": [
    "## main"
   ]
  },
  {
   "cell_type": "code",
   "execution_count": null,
   "metadata": {
    "dotnet_interactive": {
     "language": "spiral"
    },
    "polyglot_notebook": {
     "kernelName": "spiral"
    }
   },
   "outputs": [
    {
     "name": "stdout",
     "output_type": "stream",
     "text": [
      "type [<Struct>] US0 =\n",
      "    | US0_0\n",
      "    | US0_1\n",
      "    | US0_2\n",
      "and [<Struct>] US1 =\n",
      "    | US1_0 of f0_0 : US0\n",
      "    | US1_1 of f1_0 : US0\n",
      "let rec closure0 () () : string =\n",
      "    let mutable result = None\n",
      "    #if FABLE_COMPILER_RUST && !WASM\n",
      "    let v0 : US0 = US0_1\n",
      "    let v1 : US1 = US1_1(v0)\n",
      "    let v2 : string = $\"create_temp_directory_name target: {v1}\"\n",
      "    let v3 : string = failwith<string> v2\n",
      "    v3\n",
      "    #endif\n",
      "    #if FABLE_COMPILER_RUST && WASM\n",
      "    let v4 : US0 = US0_2\n",
      "    let v5 : US1 = US1_1(v4)\n",
      "    let v6 : string = $\"create_temp_directory_name target: {v5}\"\n",
      "    let v7 : string = failwith<string> v6\n",
      "    v7\n",
      "    #endif\n",
      "    #if !FABLE_COMPILER && !FABLE_COMPILER_RUST && !WASM\n",
      "    let v8 : string = System.Reflection.Assembly.GetEntryAssembly().GetName().Name\n",
      "    let v9 : (unit -> string) = System.IO.Path.GetTempPath\n",
      "    let v10 : string = v9 ()\n",
      "    let v11 : string = $\"{v8}\"\n",
      "    let v12 : string = System.IO.Path.Combine (v10, v11)\n",
      "    let v13 : System.DateTime = System.DateTime.Now\n",
      "    let v14 : System.Guid = System.Guid.NewGuid ()\n",
      "    let v15 : (System.Guid -> string) = _.ToString()\n",
      "    let v16 : string = v15 v14\n",
      "    let v17 : string = v13.ToString \"yyyyMMdd-HHmm-ssff-ffff-f\"\n",
      "    let v18 : System.Guid = System.Guid $\"{v17}{v16.[v17.Length..]}\"\n",
      "    let v19 : (System.Guid -> string) = _.ToString()\n",
      "    let v20 : string = v19 v18\n",
      "    let v21 : string = System.IO.Path.Combine (v12, v20)\n",
      "    v21\n",
      "    #endif\n",
      "    #if FABLE_COMPILER && !FABLE_COMPILER_RUST && !WASM\n",
      "    let v22 : US0 = US0_0\n",
      "    let v23 : US1 = US1_0(v22)\n",
      "    let v24 : string = $\"create_temp_directory_name target: {v23}\"\n",
      "    let v25 : string = failwith<string> v24\n",
      "    v25\n",
      "    #endif\n",
      "    #if !FABLE_COMPILER_RUST && WASM\n",
      "    let v26 : US0 = US0_2\n",
      "    let v27 : US1 = US1_0(v26)\n",
      "    let v28 : string = $\"create_temp_directory_name target: {v27}\"\n",
      "    let v29 : string = failwith<string> v28\n",
      "    v29\n",
      "    #endif\n",
      "    |> fun x -> result <- Some x\n",
      "    let v30 : string = result |> Option.get\n",
      "    v30\n",
      "let v0 : (unit -> string) = closure0()\n",
      "let create_temp_directory_name () = v0 ()\n",
      "()\n",
      "\n"
     ]
    }
   ],
   "source": [
    "inl main () =\n",
    "    $\"let create_temp_directory_name () = !create_temp_directory_name ()\" : ()"
   ]
  }
 ],
 "metadata": {},
 "nbformat": 4,
 "nbformat_minor": 5
}