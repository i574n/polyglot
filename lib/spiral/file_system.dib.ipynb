{
 "cells": [
  {
   "cell_type": "markdown",
   "metadata": {},
   "source": [
    "# file_system"
   ]
  },
  {
   "cell_type": "code",
   "execution_count": null,
   "metadata": {
    "dotnet_interactive": {
     "language": "spiral"
    },
    "polyglot_notebook": {
     "kernelName": "spiral"
    }
   },
   "outputs": [
    {
     "name": "stdout",
     "output_type": "stream",
     "text": [
      "()\n",
      "\n"
     ]
    }
   ],
   "source": [
    "open sm'_operators"
   ]
  },
  {
   "cell_type": "code",
   "execution_count": null,
   "metadata": {
    "dotnet_interactive": {
     "language": "spiral"
    },
    "polyglot_notebook": {
     "kernelName": "spiral"
    }
   },
   "outputs": [
    {
     "name": "stdout",
     "output_type": "stream",
     "text": [
      "()\n",
      "\n"
     ]
    }
   ],
   "source": [
    "// // test\n",
    "\n",
    "open testing"
   ]
  },
  {
   "cell_type": "markdown",
   "metadata": {},
   "source": [
    "## types"
   ]
  },
  {
   "cell_type": "code",
   "execution_count": null,
   "metadata": {
    "dotnet_interactive": {
     "language": "spiral"
    },
    "polyglot_notebook": {
     "kernelName": "spiral"
    }
   },
   "outputs": [
    {
     "name": "stdout",
     "output_type": "stream",
     "text": [
      "()\n",
      "\n"
     ]
    }
   ],
   "source": [
    "inl types () =\n",
    "    global \"[<Fable.Core.Erase; Fable.Core.Emit(\\\"std::path::Path\\\")>] type std_path_Path = class end\"\n",
    "    global \"[<Fable.Core.Erase; Fable.Core.Emit(\\\"std::path::PathBuf\\\")>] type std_path_PathBuf = class end\""
   ]
  },
  {
   "cell_type": "code",
   "execution_count": null,
   "metadata": {
    "dotnet_interactive": {
     "language": "spiral"
    },
    "polyglot_notebook": {
     "kernelName": "spiral"
    }
   },
   "outputs": [
    {
     "name": "stdout",
     "output_type": "stream",
     "text": [
      "()\n",
      "\n"
     ]
    }
   ],
   "source": [
    "inl types () =\n",
    "    global \"#if FABLE_COMPILER // file_system.types\"\n",
    "    sm'.types ()\n",
    "    rust.types ()\n",
    "    types ()\n",
    "    global \"#endif // file_system.types\""
   ]
  },
  {
   "cell_type": "markdown",
   "metadata": {},
   "source": [
    "## path"
   ]
  },
  {
   "cell_type": "code",
   "execution_count": null,
   "metadata": {
    "dotnet_interactive": {
     "language": "spiral"
    },
    "polyglot_notebook": {
     "kernelName": "spiral"
    }
   },
   "outputs": [
    {
     "name": "stdout",
     "output_type": "stream",
     "text": [
      "()\n",
      "\n"
     ]
    }
   ],
   "source": [
    "nominal path = $'std_path_Path'\n",
    "nominal path_buf = $'std_path_PathBuf'"
   ]
  },
  {
   "cell_type": "markdown",
   "metadata": {},
   "source": [
    "## new_path_buf"
   ]
  },
  {
   "cell_type": "code",
   "execution_count": null,
   "metadata": {
    "dotnet_interactive": {
     "language": "spiral"
    },
    "polyglot_notebook": {
     "kernelName": "spiral"
    }
   },
   "outputs": [
    {
     "name": "stdout",
     "output_type": "stream",
     "text": [
      "()\n",
      "\n"
     ]
    }
   ],
   "source": [
    "inl new_path_buf (path : string) : path_buf =\n",
    "    open rust_operators\n",
    "    inl path = path |> sm'.to_std_string\n",
    "    !\\\\(path, $'\"std::path::PathBuf::from($0)\"')"
   ]
  },
  {
   "cell_type": "markdown",
   "metadata": {},
   "source": [
    "## path_buf_from"
   ]
  },
  {
   "cell_type": "code",
   "execution_count": null,
   "metadata": {
    "dotnet_interactive": {
     "language": "spiral"
    },
    "polyglot_notebook": {
     "kernelName": "spiral"
    }
   },
   "outputs": [
    {
     "name": "stdout",
     "output_type": "stream",
     "text": [
      "()\n",
      "\n"
     ]
    }
   ],
   "source": [
    "inl path_buf_from (path : rust.box path) : path_buf =\n",
    "    open rust_operators\n",
    "    !\\\\(path, $'\"std::path::PathBuf::from($0)\"')"
   ]
  },
  {
   "cell_type": "markdown",
   "metadata": {},
   "source": [
    "## path_join"
   ]
  },
  {
   "cell_type": "code",
   "execution_count": null,
   "metadata": {
    "dotnet_interactive": {
     "language": "spiral"
    },
    "polyglot_notebook": {
     "kernelName": "spiral"
    }
   },
   "outputs": [
    {
     "name": "stdout",
     "output_type": "stream",
     "text": [
      "()\n",
      "\n"
     ]
    }
   ],
   "source": [
    "inl path_join (s : string) (path_buf : path_buf) : path_buf =\n",
    "    open rust_operators\n",
    "    !\\\\((path_buf, s |> sm'.to_std_string), $'\"$0.join($1)\"')"
   ]
  },
  {
   "cell_type": "markdown",
   "metadata": {},
   "source": [
    "## path_display"
   ]
  },
  {
   "cell_type": "code",
   "execution_count": null,
   "metadata": {
    "dotnet_interactive": {
     "language": "spiral"
    },
    "polyglot_notebook": {
     "kernelName": "spiral"
    }
   },
   "outputs": [
    {
     "name": "stdout",
     "output_type": "stream",
     "text": [
      "()\n",
      "\n"
     ]
    }
   ],
   "source": [
    "inl path_display (path : rust.ref' path) : sm'.std_string =\n",
    "    open rust_operators\n",
    "    !\\\\(path, $'\"$0.display().to_string()\"')"
   ]
  },
  {
   "cell_type": "markdown",
   "metadata": {},
   "source": [
    "## path_buf_file_name"
   ]
  },
  {
   "cell_type": "code",
   "execution_count": null,
   "metadata": {
    "dotnet_interactive": {
     "language": "spiral"
    },
    "polyglot_notebook": {
     "kernelName": "spiral"
    }
   },
   "outputs": [
    {
     "name": "stdout",
     "output_type": "stream",
     "text": [
      "()\n",
      "\n"
     ]
    }
   ],
   "source": [
    "inl path_buf_file_name (path : path_buf) : optionm'.option' (rust.ref' sm'.os_str) =\n",
    "    open rust_operators\n",
    "    !\\($'\"!path.file_name()\"')"
   ]
  },
  {
   "cell_type": "markdown",
   "metadata": {},
   "source": [
    "## path_buf_display"
   ]
  },
  {
   "cell_type": "code",
   "execution_count": null,
   "metadata": {
    "dotnet_interactive": {
     "language": "spiral"
    },
    "polyglot_notebook": {
     "kernelName": "spiral"
    }
   },
   "outputs": [
    {
     "name": "stdout",
     "output_type": "stream",
     "text": [
      "()\n",
      "\n"
     ]
    }
   ],
   "source": [
    "inl path_buf_display (path : path_buf) : sm'.std_string =\n",
    "    open rust_operators\n",
    "    !\\\\(path, $'\"$0.display().to_string()\"')"
   ]
  },
  {
   "cell_type": "markdown",
   "metadata": {},
   "source": [
    "## path_exists"
   ]
  },
  {
   "cell_type": "code",
   "execution_count": null,
   "metadata": {
    "dotnet_interactive": {
     "language": "spiral"
    },
    "polyglot_notebook": {
     "kernelName": "spiral"
    }
   },
   "outputs": [
    {
     "name": "stdout",
     "output_type": "stream",
     "text": [
      "()\n",
      "\n"
     ]
    }
   ],
   "source": [
    "inl path_buf_exists (path_buf : path_buf) : bool =\n",
    "    open rust_operators\n",
    "    !\\($'\"!path_buf.exists()\"')"
   ]
  },
  {
   "cell_type": "markdown",
   "metadata": {},
   "source": [
    "## path_is_dir"
   ]
  },
  {
   "cell_type": "code",
   "execution_count": null,
   "metadata": {
    "dotnet_interactive": {
     "language": "spiral"
    },
    "polyglot_notebook": {
     "kernelName": "spiral"
    }
   },
   "outputs": [
    {
     "name": "stdout",
     "output_type": "stream",
     "text": [
      "()\n",
      "\n"
     ]
    }
   ],
   "source": [
    "inl path_buf_is_dir (path_buf : path_buf) : bool =\n",
    "    open rust_operators\n",
    "    !\\($'\"!path_buf.is_dir()\"')"
   ]
  },
  {
   "cell_type": "markdown",
   "metadata": {},
   "source": [
    "## path_is_file"
   ]
  },
  {
   "cell_type": "code",
   "execution_count": null,
   "metadata": {
    "dotnet_interactive": {
     "language": "spiral"
    },
    "polyglot_notebook": {
     "kernelName": "spiral"
    }
   },
   "outputs": [
    {
     "name": "stdout",
     "output_type": "stream",
     "text": [
      "()\n",
      "\n"
     ]
    }
   ],
   "source": [
    "inl path_buf_is_file (path_buf : path_buf) : bool =\n",
    "    open rust_operators\n",
    "    !\\($'\"!path_buf.is_file()\"')"
   ]
  },
  {
   "cell_type": "markdown",
   "metadata": {},
   "source": [
    "## path_parent"
   ]
  },
  {
   "cell_type": "code",
   "execution_count": null,
   "metadata": {
    "dotnet_interactive": {
     "language": "spiral"
    },
    "polyglot_notebook": {
     "kernelName": "spiral"
    }
   },
   "outputs": [
    {
     "name": "stdout",
     "output_type": "stream",
     "text": [
      "()\n",
      "\n"
     ]
    }
   ],
   "source": [
    "inl path_buf_parent (path_buf : path_buf) : optionm'.option' path_buf =\n",
    "    open rust_operators\n",
    "    !\\\\(path_buf, $'\"$0.parent().map(std::path::PathBuf::from)\"')"
   ]
  },
  {
   "cell_type": "markdown",
   "metadata": {},
   "source": [
    "## ts_path_join"
   ]
  },
  {
   "cell_type": "code",
   "execution_count": null,
   "metadata": {
    "dotnet_interactive": {
     "language": "spiral"
    },
    "polyglot_notebook": {
     "kernelName": "spiral"
    }
   },
   "outputs": [
    {
     "name": "stdout",
     "output_type": "stream",
     "text": [
      "()\n",
      "\n"
     ]
    }
   ],
   "source": [
    "inl ts_path_join (b : string) (a : string) : string =\n",
    "    open ts_operators\n",
    "    global \"type IPathJoin = abstract join: [<System.ParamArray>] paths: string[] -> string\"\n",
    "    inl path : $'IPathJoin' = ts.import_all \"path\"\n",
    "    !\\\\((a, b), $'\"!path.join($0, $1)\"')"
   ]
  },
  {
   "cell_type": "markdown",
   "metadata": {},
   "source": [
    "## (< />)"
   ]
  },
  {
   "cell_type": "code",
   "execution_count": null,
   "metadata": {
    "dotnet_interactive": {
     "language": "spiral"
    },
    "polyglot_notebook": {
     "kernelName": "spiral"
    }
   },
   "outputs": [
    {
     "name": "stdout",
     "output_type": "stream",
     "text": [
      "()\n",
      "\n"
     ]
    }
   ],
   "source": [
    "// let result = find_parent(\".paket\")(false)(get_source_directory());\n",
    "// console.log(result);\n",
    "inl (</>) (a : string) (b : string) : string =\n",
    "    run_target function\n",
    "        | Rust (Native) => fun () =>\n",
    "            a |> new_path_buf |> path_join b |> path_buf_display |> sm'.from_std_string\n",
    "        | Fsharp (Native) => fun () =>\n",
    "            $'System.IO.Path.Combine (!a, !b)'\n",
    "        | TypeScript _ => fun () =>\n",
    "            a |> ts_path_join b\n",
    "        | target => fun () => null ()"
   ]
  },
  {
   "cell_type": "markdown",
   "metadata": {},
   "source": [
    "## get_temp_path"
   ]
  },
  {
   "cell_type": "code",
   "execution_count": null,
   "metadata": {
    "dotnet_interactive": {
     "language": "spiral"
    },
    "polyglot_notebook": {
     "kernelName": "spiral"
    }
   },
   "outputs": [
    {
     "name": "stdout",
     "output_type": "stream",
     "text": [
      "()\n",
      "\n"
     ]
    }
   ],
   "source": [
    "inl get_temp_path () : string =\n",
    "    $'System.IO.Path.GetTempPath' ()"
   ]
  },
  {
   "cell_type": "markdown",
   "metadata": {},
   "source": [
    "## get_entry_assembly_name"
   ]
  },
  {
   "cell_type": "code",
   "execution_count": null,
   "metadata": {
    "dotnet_interactive": {
     "language": "spiral"
    },
    "polyglot_notebook": {
     "kernelName": "spiral"
    }
   },
   "outputs": [
    {
     "name": "stdout",
     "output_type": "stream",
     "text": [
      "()\n",
      "\n"
     ]
    }
   ],
   "source": [
    "inl get_entry_assembly_name () : string =\n",
    "    run_target function\n",
    "        | Fsharp (Native) => fun () =>\n",
    "            $'System.Reflection.Assembly.GetEntryAssembly().GetName().Name'\n",
    "        | target => fun () => null ()"
   ]
  },
  {
   "cell_type": "markdown",
   "metadata": {},
   "source": [
    "## create_temp_directory_name"
   ]
  },
  {
   "cell_type": "code",
   "execution_count": null,
   "metadata": {
    "dotnet_interactive": {
     "language": "spiral"
    },
    "polyglot_notebook": {
     "kernelName": "spiral"
    }
   },
   "outputs": [
    {
     "name": "stdout",
     "output_type": "stream",
     "text": [
      "()\n",
      "\n"
     ]
    }
   ],
   "source": [
    "inl create_temp_directory_name () =\n",
    "    run_target function\n",
    "        | Fsharp (Native) => fun () =>\n",
    "            get_temp_path ()\n",
    "            </> ($'$\"\\!{!get_entry_assembly_name ()}\"' : string)\n",
    "            </> (date_time.now () |> date_time.new_guid_from_date_time |> sm'.obj_to_string)\n",
    "        | target => fun () => null ()"
   ]
  },
  {
   "cell_type": "code",
   "execution_count": null,
   "metadata": {
    "dotnet_interactive": {
     "language": "spiral"
    },
    "polyglot_notebook": {
     "kernelName": "spiral"
    }
   },
   "outputs": [
    {
     "name": "stdout",
     "output_type": "stream",
     "text": [
      "type IPathJoin = abstract join: [<System.ParamArray>] paths: string[] -> string\n",
      "type [<Struct>] US0 =\n",
      "    | US0_0 of f0_0 : char\n",
      "    | US0_1\n",
      "let rec closure0 () () : string =\n",
      "    let v0 : string option = None\n",
      "    let mutable _v0 = v0\n",
      "    #if FABLE_COMPILER_RUST && !WASM && !CONTRACT\n",
      "    let v1 : string = null |> unbox<string>\n",
      "    v1 \n",
      "    #endif\n",
      "    #if FABLE_COMPILER_RUST && WASM\n",
      "    let v2 : string = null |> unbox<string>\n",
      "    v2 \n",
      "    #endif\n",
      "    #if FABLE_COMPILER_RUST && CONTRACT\n",
      "    let v3 : string = null |> unbox<string>\n",
      "    v3 \n",
      "    #endif\n",
      "    #if !FABLE_COMPILER && !FABLE_COMPILER_RUST && !FABLE_COMPILER_TYPESCRIPT && !WASM && !CONTRACT\n",
      "    let v4 : string = System.Reflection.Assembly.GetEntryAssembly().GetName().Name\n",
      "    v4 \n",
      "    #endif\n",
      "    #if FABLE_COMPILER_TYPESCRIPT\n",
      "    let v5 : string = null |> unbox<string>\n",
      "    v5 \n",
      "    #endif\n",
      "    |> fun x -> _v0 <- Some x\n",
      "    let v6 : string = _v0 |> Option.get\n",
      "    v6\n",
      "and method1 (v0 : string) : string =\n",
      "    v0\n",
      "and closure1 (v0 : char) (v1 : char) : bool =\n",
      "    let v2 : bool = v0 = v1\n",
      "    v2\n",
      "and closure2 () (v0 : char) : US0 =\n",
      "    US0_0(v0)\n",
      "and method2 () : (char -> US0) =\n",
      "    closure2()\n",
      "and method3 (v0 : bool) : bool =\n",
      "    v0\n",
      "and method0 () : unit =\n",
      "    let v0 : string option = None\n",
      "    let mutable _v0 = v0\n",
      "    #if FABLE_COMPILER_RUST && !WASM && !CONTRACT\n",
      "    let v1 : string = null |> unbox<string>\n",
      "    v1 \n",
      "    #endif\n",
      "    #if FABLE_COMPILER_RUST && WASM\n",
      "    let v2 : string = null |> unbox<string>\n",
      "    v2 \n",
      "    #endif\n",
      "    #if FABLE_COMPILER_RUST && CONTRACT\n",
      "    let v3 : string = null |> unbox<string>\n",
      "    v3 \n",
      "    #endif\n",
      "    #if !FABLE_COMPILER && !FABLE_COMPILER_RUST && !FABLE_COMPILER_TYPESCRIPT && !WASM && !CONTRACT\n",
      "    let v4 : (unit -> string) = System.IO.Path.GetTempPath\n",
      "    let v5 : string = v4 ()\n",
      "    let v6 : (unit -> string) = closure0()\n",
      "    let v7 : string = $\"!{v6 ()}\"\n",
      "    let v8 : string option = None\n",
      "    let mutable _v8 = v8\n",
      "    #if FABLE_COMPILER_RUST && !WASM && !CONTRACT\n",
      "    let v9 : string = method1(v5)\n",
      "    let v10 : string = \"fable_library_rust::String_::LrcStr::as_str(&$0)\"\n",
      "    let v11 : Ref<Str> = Fable.Core.RustInterop.emitRustExpr v9 v10\n",
      "    let v12 : string = \"String::from($0)\"\n",
      "    let v13 : std_string_String = Fable.Core.RustInterop.emitRustExpr v11 v12\n",
      "    let v14 : string = \"std::path::PathBuf::from($0)\"\n",
      "    let v15 : std_path_PathBuf = Fable.Core.RustInterop.emitRustExpr v13 v14\n",
      "    let v16 : string = method1(v7)\n",
      "    let v17 : string = \"fable_library_rust::String_::LrcStr::as_str(&$0)\"\n",
      "    let v18 : Ref<Str> = Fable.Core.RustInterop.emitRustExpr v16 v17\n",
      "    let v19 : string = \"String::from($0)\"\n",
      "    let v20 : std_string_String = Fable.Core.RustInterop.emitRustExpr v18 v19\n",
      "    let v21 : string = \"$0.join($1)\"\n",
      "    let v22 : std_path_PathBuf = Fable.Core.RustInterop.emitRustExpr struct (v15, v20) v21\n",
      "    let v23 : string = \"$0.display().to_string()\"\n",
      "    let v24 : std_string_String = Fable.Core.RustInterop.emitRustExpr v22 v23\n",
      "    let v25 : string = \"fable_library_rust::String_::fromString($0)\"\n",
      "    let v26 : string = Fable.Core.RustInterop.emitRustExpr v24 v25\n",
      "    v26 \n",
      "    #endif\n",
      "    #if FABLE_COMPILER_RUST && WASM\n",
      "    let v27 : string = null |> unbox<string>\n",
      "    v27 \n",
      "    #endif\n",
      "    #if FABLE_COMPILER_RUST && CONTRACT\n",
      "    let v28 : string = null |> unbox<string>\n",
      "    v28 \n",
      "    #endif\n",
      "    #if !FABLE_COMPILER && !FABLE_COMPILER_RUST && !FABLE_COMPILER_TYPESCRIPT && !WASM && !CONTRACT\n",
      "    let v29 : string = System.IO.Path.Combine (v5, v7)\n",
      "    v29 \n",
      "    #endif\n",
      "    #if FABLE_COMPILER_TYPESCRIPT\n",
      "    let v30 : string = \"path\"\n",
      "    let v31 : IPathJoin = Fable.Core.JsInterop.importAll v30\n",
      "    let v32 : string = \"v31.join($0, $1)\"\n",
      "    let v33 : string = Fable.Core.JsInterop.emitJsExpr struct (v5, v7) v32\n",
      "    v33 \n",
      "    #endif\n",
      "    |> fun x -> _v8 <- Some x\n",
      "    let v34 : string = _v8 |> Option.get\n",
      "    let v35 : System.DateTime = System.DateTime.Now\n",
      "    let v36 : System.Guid = System.Guid.NewGuid ()\n",
      "    let v37 : (System.Guid -> string) = _.ToString()\n",
      "    let v38 : string = v37 v36\n",
      "    let v39 : string = v35.ToString \"yyyyMMdd-HHmm-ssff-ffff-f\"\n",
      "    let v40 : System.Guid = System.Guid $\"{v39}{v38.[v39.Length..]}\"\n",
      "    let v41 : (System.Guid -> string) = _.ToString()\n",
      "    let v42 : string = v41 v40\n",
      "    let v43 : string option = None\n",
      "    let mutable _v43 = v43\n",
      "    #if FABLE_COMPILER_RUST && !WASM && !CONTRACT\n",
      "    let v44 : string = method1(v34)\n",
      "    let v45 : string = \"fable_library_rust::String_::LrcStr::as_str(&$0)\"\n",
      "    let v46 : Ref<Str> = Fable.Core.RustInterop.emitRustExpr v44 v45\n",
      "    let v47 : string = \"String::from($0)\"\n",
      "    let v48 : std_string_String = Fable.Core.RustInterop.emitRustExpr v46 v47\n",
      "    let v49 : string = \"std::path::PathBuf::from($0)\"\n",
      "    let v50 : std_path_PathBuf = Fable.Core.RustInterop.emitRustExpr v48 v49\n",
      "    let v51 : string = method1(v42)\n",
      "    let v52 : string = \"fable_library_rust::String_::LrcStr::as_str(&$0)\"\n",
      "    let v53 : Ref<Str> = Fable.Core.RustInterop.emitRustExpr v51 v52\n",
      "    let v54 : string = \"String::from($0)\"\n",
      "    let v55 : std_string_String = Fable.Core.RustInterop.emitRustExpr v53 v54\n",
      "    let v56 : string = \"$0.join($1)\"\n",
      "    let v57 : std_path_PathBuf = Fable.Core.RustInterop.emitRustExpr struct (v50, v55) v56\n",
      "    let v58 : string = \"$0.display().to_string()\"\n",
      "    let v59 : std_string_String = Fable.Core.RustInterop.emitRustExpr v57 v58\n",
      "    let v60 : string = \"fable_library_rust::String_::fromString($0)\"\n",
      "    let v61 : string = Fable.Core.RustInterop.emitRustExpr v59 v60\n",
      "    v61 \n",
      "    #endif\n",
      "    #if FABLE_COMPILER_RUST && WASM\n",
      "    let v62 : string = null |> unbox<string>\n",
      "    v62 \n",
      "    #endif\n",
      "    #if FABLE_COMPILER_RUST && CONTRACT\n",
      "    let v63 : string = null |> unbox<string>\n",
      "    v63 \n",
      "    #endif\n",
      "    #if !FABLE_COMPILER && !FABLE_COMPILER_RUST && !FABLE_COMPILER_TYPESCRIPT && !WASM && !CONTRACT\n",
      "    let v64 : string = System.IO.Path.Combine (v34, v42)\n",
      "    v64 \n",
      "    #endif\n",
      "    #if FABLE_COMPILER_TYPESCRIPT\n",
      "    let v65 : IPathJoin = Fable.Core.JsInterop.importAll v30\n",
      "    let v66 : string = \"v65.join($0, $1)\"\n",
      "    let v67 : string = Fable.Core.JsInterop.emitJsExpr struct (v34, v42) v66\n",
      "    v67 \n",
      "    #endif\n",
      "    |> fun x -> _v43 <- Some x\n",
      "    let v68 : string = _v43 |> Option.get\n",
      "    v68 \n",
      "    #endif\n",
      "    #if FABLE_COMPILER_TYPESCRIPT\n",
      "    let v69 : string = null |> unbox<string>\n",
      "    v69 \n",
      "    #endif\n",
      "    |> fun x -> _v0 <- Some x\n",
      "    let v70 : string = _v0 |> Option.get\n",
      "    let v71 : char = System.IO.Path.DirectorySeparatorChar\n",
      "    let v72 : string = $\"%A{v70}\"\n",
      "    System.Console.WriteLine v72\n",
      "    let v73 : ((char -> bool) -> (string -> char option)) = Seq.tryFind\n",
      "    let v74 : (char -> bool) = closure1(v71)\n",
      "    let v75 : (string -> char option) = v73 v74\n",
      "    let v76 : char option = v75 v70\n",
      "    let v77 : (char -> US0) = method2()\n",
      "    let v78 : US0 = US0_1\n",
      "    let v79 : US0 = v76 |> Option.map v77 |> Option.defaultValue v78 \n",
      "    let v81 : bool =\n",
      "        match v79 with\n",
      "        | US0_1 -> (* None *)\n",
      "            true\n",
      "        | _ ->\n",
      "            false\n",
      "    let v82 : bool = v81 <> true\n",
      "    let v84 : bool =\n",
      "        if v82 then\n",
      "            true\n",
      "        else\n",
      "            method3(v82)\n",
      "    let v85 : string = $\"__expect / actual: %A{v70} / expected: %A{v71}\"\n",
      "    let v86 : bool = v84 = false\n",
      "    if v86 then\n",
      "        failwith<unit> v85\n",
      "method0()\n",
      "\n",
      "\"/tmp/!dotnet-repl/20240406-0221-2752-5260-52222268b1d3\"\n"
     ]
    }
   ],
   "source": [
    "// // test\n",
    "\n",
    "create_temp_directory_name ()\n",
    "|> _contains ($'System.IO.Path.DirectorySeparatorChar' : char)"
   ]
  },
  {
   "cell_type": "markdown",
   "metadata": {},
   "source": [
    "## directory_info"
   ]
  },
  {
   "cell_type": "code",
   "execution_count": null,
   "metadata": {
    "dotnet_interactive": {
     "language": "spiral"
    },
    "polyglot_notebook": {
     "kernelName": "spiral"
    }
   },
   "outputs": [
    {
     "name": "stdout",
     "output_type": "stream",
     "text": [
      "()\n",
      "\n"
     ]
    }
   ],
   "source": [
    "nominal directory_info = $'System.IO.DirectoryInfo'\n",
    "\n",
    "inl directory_info (path : string) : directory_info =\n",
    "    path |> $'`directory_info '"
   ]
  },
  {
   "cell_type": "markdown",
   "metadata": {},
   "source": [
    "## directory_info_exists"
   ]
  },
  {
   "cell_type": "code",
   "execution_count": null,
   "metadata": {
    "dotnet_interactive": {
     "language": "spiral"
    },
    "polyglot_notebook": {
     "kernelName": "spiral"
    }
   },
   "outputs": [
    {
     "name": "stdout",
     "output_type": "stream",
     "text": [
      "()\n",
      "\n"
     ]
    }
   ],
   "source": [
    "inl directory_info_exists (info : directory_info) : bool =\n",
    "    run_target function\n",
    "        | Fsharp (Native) => fun () =>\n",
    "            $'!info.Exists'\n",
    "        | target => fun () => null ()"
   ]
  },
  {
   "cell_type": "markdown",
   "metadata": {},
   "source": [
    "## directory_info_creation_time"
   ]
  },
  {
   "cell_type": "code",
   "execution_count": null,
   "metadata": {
    "dotnet_interactive": {
     "language": "spiral"
    },
    "polyglot_notebook": {
     "kernelName": "spiral"
    }
   },
   "outputs": [
    {
     "name": "stdout",
     "output_type": "stream",
     "text": [
      "()\n",
      "\n"
     ]
    }
   ],
   "source": [
    "inl directory_info_creation_time (info : directory_info) : date_time.date_time =\n",
    "    run_target function\n",
    "        | Fsharp (Native) => fun () =>\n",
    "            $'!info.CreationTime'\n",
    "        | target => fun () => null ()"
   ]
  },
  {
   "cell_type": "markdown",
   "metadata": {},
   "source": [
    "## directory_info_name"
   ]
  },
  {
   "cell_type": "code",
   "execution_count": null,
   "metadata": {
    "dotnet_interactive": {
     "language": "spiral"
    },
    "polyglot_notebook": {
     "kernelName": "spiral"
    }
   },
   "outputs": [
    {
     "name": "stdout",
     "output_type": "stream",
     "text": [
      "()\n",
      "\n"
     ]
    }
   ],
   "source": [
    "inl directory_info_name (info : directory_info) : string =\n",
    "    run_target function\n",
    "        | Fsharp (Native) => fun () =>\n",
    "            $'!info.Name'\n",
    "        | target => fun () => null ()"
   ]
  },
  {
   "cell_type": "markdown",
   "metadata": {},
   "source": [
    "## directory_info_full_name"
   ]
  },
  {
   "cell_type": "code",
   "execution_count": null,
   "metadata": {
    "dotnet_interactive": {
     "language": "spiral"
    },
    "polyglot_notebook": {
     "kernelName": "spiral"
    }
   },
   "outputs": [
    {
     "name": "stdout",
     "output_type": "stream",
     "text": [
      "()\n",
      "\n"
     ]
    }
   ],
   "source": [
    "inl directory_info_full_name (info : directory_info) : string =\n",
    "    run_target function\n",
    "        | Fsharp (Native) => fun () =>\n",
    "            $'!info.FullName'\n",
    "        | target => fun () => null ()"
   ]
  },
  {
   "cell_type": "markdown",
   "metadata": {},
   "source": [
    "## create_directory"
   ]
  },
  {
   "cell_type": "code",
   "execution_count": null,
   "metadata": {
    "dotnet_interactive": {
     "language": "spiral"
    },
    "polyglot_notebook": {
     "kernelName": "spiral"
    }
   },
   "outputs": [
    {
     "name": "stdout",
     "output_type": "stream",
     "text": [
      "()\n",
      "\n"
     ]
    }
   ],
   "source": [
    "inl create_directory (path : string) : directory_info =\n",
    "    run_target function\n",
    "        | Fsharp (Native) => fun () =>\n",
    "            path |> $'System.IO.Directory.CreateDirectory'\n",
    "        | target => fun () => null ()"
   ]
  },
  {
   "cell_type": "markdown",
   "metadata": {},
   "source": [
    "## directory_exists"
   ]
  },
  {
   "cell_type": "code",
   "execution_count": null,
   "metadata": {
    "dotnet_interactive": {
     "language": "spiral"
    },
    "polyglot_notebook": {
     "kernelName": "spiral"
    }
   },
   "outputs": [
    {
     "name": "stdout",
     "output_type": "stream",
     "text": [
      "()\n",
      "\n"
     ]
    }
   ],
   "source": [
    "inl directory_exists (path : string) : bool =\n",
    "    run_target function\n",
    "        | Rust (Native) => fun () =>\n",
    "            inl path = path |> new_path_buf\n",
    "            (path |> path_buf_exists) && (path |> path_buf_is_dir)\n",
    "        | Fsharp (Native) => fun () =>\n",
    "            path |> $'System.IO.Directory.Exists'\n",
    "        | TypeScript (Native) => fun () =>\n",
    "            global \"type IFsExistsSync = abstract existsSync: path: string -> bool\"\n",
    "            inl fs : $'IFsExistsSync' = ts.import_all \"fs\"\n",
    "            ts.emit_expr path $'\"!fs.existsSync($0)\"'\n",
    "        | target => fun () => null ()"
   ]
  },
  {
   "cell_type": "markdown",
   "metadata": {},
   "source": [
    "## directory_get_parent"
   ]
  },
  {
   "cell_type": "code",
   "execution_count": null,
   "metadata": {
    "dotnet_interactive": {
     "language": "spiral"
    },
    "polyglot_notebook": {
     "kernelName": "spiral"
    }
   },
   "outputs": [
    {
     "name": "stdout",
     "output_type": "stream",
     "text": [
      "()\n",
      "\n"
     ]
    }
   ],
   "source": [
    "inl directory_get_parent (path : string) : optionm'.option' string =\n",
    "    run_target function\n",
    "        | Rust (Native) => fun () =>\n",
    "            path\n",
    "            |> new_path_buf\n",
    "            |> path_buf_parent\n",
    "            |> optionm'.try'\n",
    "            |> path_buf_display\n",
    "            |> sm'.from_std_string\n",
    "            |> Some\n",
    "        | Fsharp (Native) => fun () =>\n",
    "            inl parent : directory_info = path |> $'System.IO.Directory.GetParent'\n",
    "            if parent =. null ()\n",
    "            then None\n",
    "            else parent |> directory_info_full_name |> Some\n",
    "        | TypeScript _ => fun () =>\n",
    "            global \"type IPathDirname = abstract dirname: path: string -> string\"\n",
    "            inl fs : $'IPathDirname' = ts.import_all \"path\"\n",
    "            ts.emit_expr path $'\"!fs.dirname($0)\"' |> Some\n",
    "        | _ => fun () => null ()\n",
    "        |> optionm'.box"
   ]
  },
  {
   "cell_type": "markdown",
   "metadata": {},
   "source": [
    "## file_exists"
   ]
  },
  {
   "cell_type": "code",
   "execution_count": null,
   "metadata": {
    "dotnet_interactive": {
     "language": "spiral"
    },
    "polyglot_notebook": {
     "kernelName": "spiral"
    }
   },
   "outputs": [
    {
     "name": "stdout",
     "output_type": "stream",
     "text": [
      "()\n",
      "\n"
     ]
    }
   ],
   "source": [
    "inl file_exists (path : string) : bool =\n",
    "    run_target function\n",
    "        | Rust (Native) => fun () =>\n",
    "            inl path_buf = path |> new_path_buf\n",
    "            (path_buf |> path_buf_exists) && (path_buf |> path_buf_is_file)\n",
    "        | Fsharp (Native) => fun () =>\n",
    "            path |> $'System.IO.File.Exists'\n",
    "        | TypeScript (Native) => fun () =>\n",
    "            global \"type IFsExistsSync = abstract existsSync: path: string -> bool\"\n",
    "            inl fs : $'IFsExistsSync' = ts.import_all \"fs\"\n",
    "            ts.emit_expr path $'\"!fs.existsSync($0)\"'\n",
    "        | target => fun () => null ()"
   ]
  },
  {
   "cell_type": "markdown",
   "metadata": {},
   "source": [
    "## create_temp_directory"
   ]
  },
  {
   "cell_type": "code",
   "execution_count": null,
   "metadata": {
    "dotnet_interactive": {
     "language": "spiral"
    },
    "polyglot_notebook": {
     "kernelName": "spiral"
    }
   },
   "outputs": [
    {
     "name": "stdout",
     "output_type": "stream",
     "text": [
      "()\n",
      "\n"
     ]
    }
   ],
   "source": [
    "inl create_temp_directory () =\n",
    "    run_target function\n",
    "        | Fsharp (Native) => fun () =>\n",
    "            inl temp_folder = create_temp_directory_name ()\n",
    "            inl result = temp_folder |> create_directory\n",
    "\n",
    "            inl exists' = result |> directory_info_exists\n",
    "            if not exists' then\n",
    "                inl creation_time = result |> directory_info_creation_time\n",
    "                inl result = ($'{| Exists = !exists'; CreationTime = !creation_time |}' : any) |> sm'.format_debug\n",
    "                inl get_locals () : string =\n",
    "                    $'$\"temp_folder: {!temp_folder} / result: {!result} {!get_locals ()}\"'\n",
    "                // trace Debug (fun () => \"createTempDirectory\") get_locals\n",
    "                console.write_line ($'$\"create_temp_directory / {!get_locals ()}\"' : string)\n",
    "\n",
    "            temp_folder\n",
    "        | target => fun () => null ()"
   ]
  },
  {
   "cell_type": "code",
   "execution_count": null,
   "metadata": {
    "dotnet_interactive": {
     "language": "spiral"
    },
    "polyglot_notebook": {
     "kernelName": "spiral"
    }
   },
   "outputs": [
    {
     "name": "stdout",
     "output_type": "stream",
     "text": [
      "type IPathJoin = abstract join: [<System.ParamArray>] paths: string[] -> string\n",
      "type IFsExistsSync = abstract existsSync: path: string -> bool\n",
      "let rec closure0 () () : string =\n",
      "    let v0 : string option = None\n",
      "    let mutable _v0 = v0\n",
      "    #if FABLE_COMPILER_RUST && !WASM && !CONTRACT\n",
      "    let v1 : string = null |> unbox<string>\n",
      "    v1 \n",
      "    #endif\n",
      "    #if FABLE_COMPILER_RUST && WASM\n",
      "    let v2 : string = null |> unbox<string>\n",
      "    v2 \n",
      "    #endif\n",
      "    #if FABLE_COMPILER_RUST && CONTRACT\n",
      "    let v3 : string = null |> unbox<string>\n",
      "    v3 \n",
      "    #endif\n",
      "    #if !FABLE_COMPILER && !FABLE_COMPILER_RUST && !FABLE_COMPILER_TYPESCRIPT && !WASM && !CONTRACT\n",
      "    let v4 : string = System.Reflection.Assembly.GetEntryAssembly().GetName().Name\n",
      "    v4 \n",
      "    #endif\n",
      "    #if FABLE_COMPILER_TYPESCRIPT\n",
      "    let v5 : string = null |> unbox<string>\n",
      "    v5 \n",
      "    #endif\n",
      "    |> fun x -> _v0 <- Some x\n",
      "    let v6 : string = _v0 |> Option.get\n",
      "    v6\n",
      "and method1 (v0 : string) : string =\n",
      "    v0\n",
      "and closure2 () () : string =\n",
      "    let v0 : string = \"\"\n",
      "    v0\n",
      "and closure1 (v0 : string, v1 : string) () : string =\n",
      "    let v2 : (unit -> string) = closure2()\n",
      "    let v3 : string = $\"temp_folder: {v0} / result: {v1} {v2 ()}\"\n",
      "    v3\n",
      "and method2 (v0 : bool) : bool =\n",
      "    v0\n",
      "and method0 () : unit =\n",
      "    let v0 : string option = None\n",
      "    let mutable _v0 = v0\n",
      "    #if FABLE_COMPILER_RUST && !WASM && !CONTRACT\n",
      "    let v1 : string = null |> unbox<string>\n",
      "    v1 \n",
      "    #endif\n",
      "    #if FABLE_COMPILER_RUST && WASM\n",
      "    let v2 : string = null |> unbox<string>\n",
      "    v2 \n",
      "    #endif\n",
      "    #if FABLE_COMPILER_RUST && CONTRACT\n",
      "    let v3 : string = null |> unbox<string>\n",
      "    v3 \n",
      "    #endif\n",
      "    #if !FABLE_COMPILER && !FABLE_COMPILER_RUST && !FABLE_COMPILER_TYPESCRIPT && !WASM && !CONTRACT\n",
      "    let v4 : string option = None\n",
      "    let mutable _v4 = v4\n",
      "    #if FABLE_COMPILER_RUST && !WASM && !CONTRACT\n",
      "    let v5 : string = null |> unbox<string>\n",
      "    v5 \n",
      "    #endif\n",
      "    #if FABLE_COMPILER_RUST && WASM\n",
      "    let v6 : string = null |> unbox<string>\n",
      "    v6 \n",
      "    #endif\n",
      "    #if FABLE_COMPILER_RUST && CONTRACT\n",
      "    let v7 : string = null |> unbox<string>\n",
      "    v7 \n",
      "    #endif\n",
      "    #if !FABLE_COMPILER && !FABLE_COMPILER_RUST && !FABLE_COMPILER_TYPESCRIPT && !WASM && !CONTRACT\n",
      "    let v8 : (unit -> string) = System.IO.Path.GetTempPath\n",
      "    let v9 : string = v8 ()\n",
      "    let v10 : (unit -> string) = closure0()\n",
      "    let v11 : string = $\"!{v10 ()}\"\n",
      "    let v12 : string option = None\n",
      "    let mutable _v12 = v12\n",
      "    #if FABLE_COMPILER_RUST && !WASM && !CONTRACT\n",
      "    let v13 : string = method1(v9)\n",
      "    let v14 : string = \"fable_library_rust::String_::LrcStr::as_str(&$0)\"\n",
      "    let v15 : Ref<Str> = Fable.Core.RustInterop.emitRustExpr v13 v14\n",
      "    let v16 : string = \"String::from($0)\"\n",
      "    let v17 : std_string_String = Fable.Core.RustInterop.emitRustExpr v15 v16\n",
      "    let v18 : string = \"std::path::PathBuf::from($0)\"\n",
      "    let v19 : std_path_PathBuf = Fable.Core.RustInterop.emitRustExpr v17 v18\n",
      "    let v20 : string = method1(v11)\n",
      "    let v21 : string = \"fable_library_rust::String_::LrcStr::as_str(&$0)\"\n",
      "    let v22 : Ref<Str> = Fable.Core.RustInterop.emitRustExpr v20 v21\n",
      "    let v23 : string = \"String::from($0)\"\n",
      "    let v24 : std_string_String = Fable.Core.RustInterop.emitRustExpr v22 v23\n",
      "    let v25 : string = \"$0.join($1)\"\n",
      "    let v26 : std_path_PathBuf = Fable.Core.RustInterop.emitRustExpr struct (v19, v24) v25\n",
      "    let v27 : string = \"$0.display().to_string()\"\n",
      "    let v28 : std_string_String = Fable.Core.RustInterop.emitRustExpr v26 v27\n",
      "    let v29 : string = \"fable_library_rust::String_::fromString($0)\"\n",
      "    let v30 : string = Fable.Core.RustInterop.emitRustExpr v28 v29\n",
      "    v30 \n",
      "    #endif\n",
      "    #if FABLE_COMPILER_RUST && WASM\n",
      "    let v31 : string = null |> unbox<string>\n",
      "    v31 \n",
      "    #endif\n",
      "    #if FABLE_COMPILER_RUST && CONTRACT\n",
      "    let v32 : string = null |> unbox<string>\n",
      "    v32 \n",
      "    #endif\n",
      "    #if !FABLE_COMPILER && !FABLE_COMPILER_RUST && !FABLE_COMPILER_TYPESCRIPT && !WASM && !CONTRACT\n",
      "    let v33 : string = System.IO.Path.Combine (v9, v11)\n",
      "    v33 \n",
      "    #endif\n",
      "    #if FABLE_COMPILER_TYPESCRIPT\n",
      "    let v34 : string = \"path\"\n",
      "    let v35 : IPathJoin = Fable.Core.JsInterop.importAll v34\n",
      "    let v36 : string = \"v35.join($0, $1)\"\n",
      "    let v37 : string = Fable.Core.JsInterop.emitJsExpr struct (v9, v11) v36\n",
      "    v37 \n",
      "    #endif\n",
      "    |> fun x -> _v12 <- Some x\n",
      "    let v38 : string = _v12 |> Option.get\n",
      "    let v39 : System.DateTime = System.DateTime.Now\n",
      "    let v40 : System.Guid = System.Guid.NewGuid ()\n",
      "    let v41 : (System.Guid -> string) = _.ToString()\n",
      "    let v42 : string = v41 v40\n",
      "    let v43 : string = v39.ToString \"yyyyMMdd-HHmm-ssff-ffff-f\"\n",
      "    let v44 : System.Guid = System.Guid $\"{v43}{v42.[v43.Length..]}\"\n",
      "    let v45 : (System.Guid -> string) = _.ToString()\n",
      "    let v46 : string = v45 v44\n",
      "    let v47 : string option = None\n",
      "    let mutable _v47 = v47\n",
      "    #if FABLE_COMPILER_RUST && !WASM && !CONTRACT\n",
      "    let v48 : string = method1(v38)\n",
      "    let v49 : string = \"fable_library_rust::String_::LrcStr::as_str(&$0)\"\n",
      "    let v50 : Ref<Str> = Fable.Core.RustInterop.emitRustExpr v48 v49\n",
      "    let v51 : string = \"String::from($0)\"\n",
      "    let v52 : std_string_String = Fable.Core.RustInterop.emitRustExpr v50 v51\n",
      "    let v53 : string = \"std::path::PathBuf::from($0)\"\n",
      "    let v54 : std_path_PathBuf = Fable.Core.RustInterop.emitRustExpr v52 v53\n",
      "    let v55 : string = method1(v46)\n",
      "    let v56 : string = \"fable_library_rust::String_::LrcStr::as_str(&$0)\"\n",
      "    let v57 : Ref<Str> = Fable.Core.RustInterop.emitRustExpr v55 v56\n",
      "    let v58 : string = \"String::from($0)\"\n",
      "    let v59 : std_string_String = Fable.Core.RustInterop.emitRustExpr v57 v58\n",
      "    let v60 : string = \"$0.join($1)\"\n",
      "    let v61 : std_path_PathBuf = Fable.Core.RustInterop.emitRustExpr struct (v54, v59) v60\n",
      "    let v62 : string = \"$0.display().to_string()\"\n",
      "    let v63 : std_string_String = Fable.Core.RustInterop.emitRustExpr v61 v62\n",
      "    let v64 : string = \"fable_library_rust::String_::fromString($0)\"\n",
      "    let v65 : string = Fable.Core.RustInterop.emitRustExpr v63 v64\n",
      "    v65 \n",
      "    #endif\n",
      "    #if FABLE_COMPILER_RUST && WASM\n",
      "    let v66 : string = null |> unbox<string>\n",
      "    v66 \n",
      "    #endif\n",
      "    #if FABLE_COMPILER_RUST && CONTRACT\n",
      "    let v67 : string = null |> unbox<string>\n",
      "    v67 \n",
      "    #endif\n",
      "    #if !FABLE_COMPILER && !FABLE_COMPILER_RUST && !FABLE_COMPILER_TYPESCRIPT && !WASM && !CONTRACT\n",
      "    let v68 : string = System.IO.Path.Combine (v38, v46)\n",
      "    v68 \n",
      "    #endif\n",
      "    #if FABLE_COMPILER_TYPESCRIPT\n",
      "    let v69 : IPathJoin = Fable.Core.JsInterop.importAll v34\n",
      "    let v70 : string = \"v69.join($0, $1)\"\n",
      "    let v71 : string = Fable.Core.JsInterop.emitJsExpr struct (v38, v46) v70\n",
      "    v71 \n",
      "    #endif\n",
      "    |> fun x -> _v47 <- Some x\n",
      "    let v72 : string = _v47 |> Option.get\n",
      "    v72 \n",
      "    #endif\n",
      "    #if FABLE_COMPILER_TYPESCRIPT\n",
      "    let v73 : string = null |> unbox<string>\n",
      "    v73 \n",
      "    #endif\n",
      "    |> fun x -> _v4 <- Some x\n",
      "    let v74 : string = _v4 |> Option.get\n",
      "    let v75 : System.IO.DirectoryInfo option = None\n",
      "    let mutable _v75 = v75\n",
      "    #if FABLE_COMPILER_RUST && !WASM && !CONTRACT\n",
      "    let v76 : System.IO.DirectoryInfo = null |> unbox<System.IO.DirectoryInfo>\n",
      "    v76 \n",
      "    #endif\n",
      "    #if FABLE_COMPILER_RUST && WASM\n",
      "    let v77 : System.IO.DirectoryInfo = null |> unbox<System.IO.DirectoryInfo>\n",
      "    v77 \n",
      "    #endif\n",
      "    #if FABLE_COMPILER_RUST && CONTRACT\n",
      "    let v78 : System.IO.DirectoryInfo = null |> unbox<System.IO.DirectoryInfo>\n",
      "    v78 \n",
      "    #endif\n",
      "    #if !FABLE_COMPILER && !FABLE_COMPILER_RUST && !FABLE_COMPILER_TYPESCRIPT && !WASM && !CONTRACT\n",
      "    let v79 : (string -> System.IO.DirectoryInfo) = System.IO.Directory.CreateDirectory\n",
      "    let v80 : System.IO.DirectoryInfo = v79 v74\n",
      "    v80 \n",
      "    #endif\n",
      "    #if FABLE_COMPILER_TYPESCRIPT\n",
      "    let v81 : System.IO.DirectoryInfo = null |> unbox<System.IO.DirectoryInfo>\n",
      "    v81 \n",
      "    #endif\n",
      "    |> fun x -> _v75 <- Some x\n",
      "    let v82 : System.IO.DirectoryInfo = _v75 |> Option.get\n",
      "    let v83 : bool option = None\n",
      "    let mutable _v83 = v83\n",
      "    #if FABLE_COMPILER_RUST && !WASM && !CONTRACT\n",
      "    let v84 : bool = null |> unbox<bool>\n",
      "    v84 \n",
      "    #endif\n",
      "    #if FABLE_COMPILER_RUST && WASM\n",
      "    let v85 : bool = null |> unbox<bool>\n",
      "    v85 \n",
      "    #endif\n",
      "    #if FABLE_COMPILER_RUST && CONTRACT\n",
      "    let v86 : bool = null |> unbox<bool>\n",
      "    v86 \n",
      "    #endif\n",
      "    #if !FABLE_COMPILER && !FABLE_COMPILER_RUST && !FABLE_COMPILER_TYPESCRIPT && !WASM && !CONTRACT\n",
      "    let v87 : bool = v82.Exists\n",
      "    v87 \n",
      "    #endif\n",
      "    #if FABLE_COMPILER_TYPESCRIPT\n",
      "    let v88 : bool = null |> unbox<bool>\n",
      "    v88 \n",
      "    #endif\n",
      "    |> fun x -> _v83 <- Some x\n",
      "    let v89 : bool = _v83 |> Option.get\n",
      "    let v90 : bool = v89 = false\n",
      "    if v90 then\n",
      "        let v91 : System.DateTime option = None\n",
      "        let mutable _v91 = v91\n",
      "        #if FABLE_COMPILER_RUST && !WASM && !CONTRACT\n",
      "        let v92 : System.DateTime = null |> unbox<System.DateTime>\n",
      "        v92 \n",
      "        #endif\n",
      "        #if FABLE_COMPILER_RUST && WASM\n",
      "        let v93 : System.DateTime = null |> unbox<System.DateTime>\n",
      "        v93 \n",
      "        #endif\n",
      "        #if FABLE_COMPILER_RUST && CONTRACT\n",
      "        let v94 : System.DateTime = null |> unbox<System.DateTime>\n",
      "        v94 \n",
      "        #endif\n",
      "        #if !FABLE_COMPILER && !FABLE_COMPILER_RUST && !FABLE_COMPILER_TYPESCRIPT && !WASM && !CONTRACT\n",
      "        let v95 : System.DateTime = v82.CreationTime\n",
      "        v95 \n",
      "        #endif\n",
      "        #if FABLE_COMPILER_TYPESCRIPT\n",
      "        let v96 : System.DateTime = null |> unbox<System.DateTime>\n",
      "        v96 \n",
      "        #endif\n",
      "        |> fun x -> _v91 <- Some x\n",
      "        let v97 : System.DateTime = _v91 |> Option.get\n",
      "        let v98 : obj = {| Exists = v89; CreationTime = v97 |}\n",
      "        let v99 : string = $\"%A{v98}\"\n",
      "        let v100 : (unit -> string) = closure1(v74, v99)\n",
      "        let v101 : string = $\"create_temp_directory / {v100 ()}\"\n",
      "        System.Console.WriteLine v101\n",
      "        ()\n",
      "    v74 \n",
      "    #endif\n",
      "    #if FABLE_COMPILER_TYPESCRIPT\n",
      "    let v102 : string = null |> unbox<string>\n",
      "    v102 \n",
      "    #endif\n",
      "    |> fun x -> _v0 <- Some x\n",
      "    let v103 : string = _v0 |> Option.get\n",
      "    let v104 : bool option = None\n",
      "    let mutable _v104 = v104\n",
      "    #if FABLE_COMPILER_RUST && !WASM && !CONTRACT\n",
      "    let v105 : string = method1(v103)\n",
      "    let v106 : string = \"fable_library_rust::String_::LrcStr::as_str(&$0)\"\n",
      "    let v107 : Ref<Str> = Fable.Core.RustInterop.emitRustExpr v105 v106\n",
      "    let v108 : string = \"String::from($0)\"\n",
      "    let v109 : std_string_String = Fable.Core.RustInterop.emitRustExpr v107 v108\n",
      "    let v110 : string = \"std::path::PathBuf::from($0)\"\n",
      "    let v111 : std_path_PathBuf = Fable.Core.RustInterop.emitRustExpr v109 v110\n",
      "    let v112 : string = \"v111.exists()\"\n",
      "    let v113 : bool = Fable.Core.RustInterop.emitRustExpr () v112\n",
      "    let v116 : bool =\n",
      "        if v113 then\n",
      "            let v114 : string = \"v111.is_dir()\"\n",
      "            let v115 : bool = Fable.Core.RustInterop.emitRustExpr () v114\n",
      "            v115\n",
      "        else\n",
      "            false\n",
      "    v116 \n",
      "    #endif\n",
      "    #if FABLE_COMPILER_RUST && WASM\n",
      "    let v117 : bool = null |> unbox<bool>\n",
      "    v117 \n",
      "    #endif\n",
      "    #if FABLE_COMPILER_RUST && CONTRACT\n",
      "    let v118 : bool = null |> unbox<bool>\n",
      "    v118 \n",
      "    #endif\n",
      "    #if !FABLE_COMPILER && !FABLE_COMPILER_RUST && !FABLE_COMPILER_TYPESCRIPT && !WASM && !CONTRACT\n",
      "    let v119 : (string -> bool) = System.IO.Directory.Exists\n",
      "    let v120 : bool = v119 v103\n",
      "    v120 \n",
      "    #endif\n",
      "    #if FABLE_COMPILER_TYPESCRIPT\n",
      "    let v121 : string = \"fs\"\n",
      "    let v122 : IFsExistsSync = Fable.Core.JsInterop.importAll v121\n",
      "    let v123 : string = \"v122.existsSync($0)\"\n",
      "    let v124 : bool = Fable.Core.JsInterop.emitJsExpr v103 v123\n",
      "    v124 \n",
      "    #endif\n",
      "    |> fun x -> _v104 <- Some x\n",
      "    let v125 : bool = _v104 |> Option.get\n",
      "    let v126 : string = $\"%A{v125}\"\n",
      "    System.Console.WriteLine v126\n",
      "    let v128 : bool =\n",
      "        if v125 then\n",
      "            true\n",
      "        else\n",
      "            method2(v125)\n",
      "    let v129 : string = $\"__expect / actual: %A{v125} / expected: %A{true}\"\n",
      "    let v130 : bool = v128 = false\n",
      "    if v130 then\n",
      "        failwith<unit> v129\n",
      "method0()\n",
      "\n",
      "true\n"
     ]
    }
   ],
   "source": [
    "// // test\n",
    "\n",
    "create_temp_directory ()\n",
    "|> directory_exists\n",
    "|> _assert_eq true"
   ]
  },
  {
   "cell_type": "markdown",
   "metadata": {},
   "source": [
    "## get_source_directory"
   ]
  },
  {
   "cell_type": "code",
   "execution_count": null,
   "metadata": {
    "dotnet_interactive": {
     "language": "spiral"
    },
    "polyglot_notebook": {
     "kernelName": "spiral"
    }
   },
   "outputs": [
    {
     "name": "stdout",
     "output_type": "stream",
     "text": [
      "()\n",
      "\n"
     ]
    }
   ],
   "source": [
    "inl get_source_directory () =\n",
    "    $'__SOURCE_DIRECTORY__' : string"
   ]
  },
  {
   "cell_type": "code",
   "execution_count": null,
   "metadata": {
    "dotnet_interactive": {
     "language": "spiral"
    },
    "polyglot_notebook": {
     "kernelName": "spiral"
    }
   },
   "outputs": [
    {
     "name": "stdout",
     "output_type": "stream",
     "text": [
      "let rec method1 (v0 : bool) : bool =\n",
      "    v0\n",
      "and method0 () : unit =\n",
      "    let v0 : string = __SOURCE_DIRECTORY__\n",
      "    let v1 : (string -> System.IO.DirectoryInfo) = System.IO.DirectoryInfo \n",
      "    let v2 : System.IO.DirectoryInfo = v1 v0\n",
      "    let v3 : string option = None\n",
      "    let mutable _v3 = v3\n",
      "    #if FABLE_COMPILER_RUST && !WASM && !CONTRACT\n",
      "    let v4 : string = null |> unbox<string>\n",
      "    v4 \n",
      "    #endif\n",
      "    #if FABLE_COMPILER_RUST && WASM\n",
      "    let v5 : string = null |> unbox<string>\n",
      "    v5 \n",
      "    #endif\n",
      "    #if FABLE_COMPILER_RUST && CONTRACT\n",
      "    let v6 : string = null |> unbox<string>\n",
      "    v6 \n",
      "    #endif\n",
      "    #if !FABLE_COMPILER && !FABLE_COMPILER_RUST && !FABLE_COMPILER_TYPESCRIPT && !WASM && !CONTRACT\n",
      "    let v7 : string = v2.Name\n",
      "    v7 \n",
      "    #endif\n",
      "    #if FABLE_COMPILER_TYPESCRIPT\n",
      "    let v8 : string = null |> unbox<string>\n",
      "    v8 \n",
      "    #endif\n",
      "    |> fun x -> _v3 <- Some x\n",
      "    let v9 : string = _v3 |> Option.get\n",
      "    let v10 : string = $\"%A{v9}\"\n",
      "    System.Console.WriteLine v10\n",
      "    let v12 : bool = v9 = \"spiral\"\n",
      "    let v14 : bool =\n",
      "        if v12 then\n",
      "            true\n",
      "        else\n",
      "            method1(v12)\n",
      "    let v15 : string = \"spiral\"\n",
      "    let v16 : string = $\"__expect / actual: %A{v9} / expected: %A{v15}\"\n",
      "    let v17 : bool = v14 = false\n",
      "    if v17 then\n",
      "        failwith<unit> v16\n",
      "method0()\n",
      "\n",
      "\"spiral\"\n"
     ]
    }
   ],
   "source": [
    "// // test\n",
    "\n",
    "get_source_directory ()\n",
    "|> directory_info\n",
    "|> directory_info_name\n",
    "|> _assert_eq \"spiral\""
   ]
  },
  {
   "cell_type": "markdown",
   "metadata": {},
   "source": [
    "## find_parent"
   ]
  },
  {
   "cell_type": "code",
   "execution_count": null,
   "metadata": {
    "dotnet_interactive": {
     "language": "spiral"
    },
    "polyglot_notebook": {
     "kernelName": "spiral"
    }
   },
   "outputs": [
    {
     "name": "stdout",
     "output_type": "stream",
     "text": [
      "()\n",
      "\n"
     ]
    }
   ],
   "source": [
    "inl find_parent name is_file root_dir =\n",
    "    let rec loop dir =\n",
    "        if dir </> name |> (if is_file then file_exists else directory_exists)\n",
    "        then dir\n",
    "        else\n",
    "            inl result = dir |> (join directory_get_parent)\n",
    "            match result |> optionm'.unbox with\n",
    "            | Some parent => parent |> loop\n",
    "            | None => failwith $'$\"\"\"No parent for {if !is_file then \"file\" else \"dir\"} \\'{!name}\\' at \\'{!root_dir}\\'\"\"\"'\n",
    "    loop root_dir"
   ]
  },
  {
   "cell_type": "code",
   "execution_count": null,
   "metadata": {
    "dotnet_interactive": {
     "language": "spiral"
    },
    "polyglot_notebook": {
     "kernelName": "spiral"
    }
   },
   "outputs": [
    {
     "name": "stdout",
     "output_type": "stream",
     "text": [
      "[|\"polyglot\"|]\n"
     ]
    }
   ],
   "source": [
    "// // test\n",
    "// // print_code=false\n",
    "\n",
    "a ;[ \".paket\", false; \"paket.dependencies\", true ]\n",
    "|> am.map fun (file, is_file) =>\n",
    "    get_source_directory ()\n",
    "    |> find_parent file is_file\n",
    "    |> directory_info\n",
    "    |> directory_info_name\n",
    "|> am'.distinct\n",
    "|> _assert_eq (a ;[ \"polyglot\" ] : _ i32 _)"
   ]
  },
  {
   "cell_type": "code",
   "execution_count": null,
   "metadata": {
    "dotnet_interactive": {
     "language": "spiral"
    },
    "polyglot_notebook": {
     "kernelName": "spiral"
    }
   },
   "outputs": [
    {
     "data": {
      "text/plain": [
       "1\n",
       "\"polyglot\"\n"
      ]
     },
     "metadata": {},
     "output_type": "display_data"
    }
   ],
   "source": [
    "// // test\n",
    "// // rust=\n",
    "// // print_code=false\n",
    "\n",
    "types ()\n",
    "a ;[ \".paket\", false; \"paket.dependencies\", true ]\n",
    "|> am.map fun (file, is_file) =>\n",
    "    fun () => join\n",
    "        get_source_directory ()\n",
    "        |> find_parent file is_file\n",
    "        |> new_path_buf\n",
    "        |> path_buf_file_name\n",
    "        |> optionm'.try'\n",
    "        |> sm'.to_os_string\n",
    "        |> sm'.os_to_str\n",
    "        |> optionm'.try'\n",
    "        |> sm'.ref_to_std_string\n",
    "        |> sm'.from_std_string\n",
    "        |> Some\n",
    "        |> optionm'.box\n",
    "    |> fun x => x () |> optionm'.unbox\n",
    "    |> optionm'.default_value \"\"\n",
    "|> am'.distinct\n",
    "|> fun result =>\n",
    "    result |> am'.length |> _assert_eq 1i32\n",
    "    index result 0i32 |> _assert_eq \"polyglot\""
   ]
  },
  {
   "cell_type": "markdown",
   "metadata": {},
   "source": [
    "## main"
   ]
  },
  {
   "cell_type": "code",
   "execution_count": null,
   "metadata": {
    "dotnet_interactive": {
     "language": "spiral"
    },
    "polyglot_notebook": {
     "kernelName": "spiral"
    }
   },
   "outputs": [
    {
     "name": "stdout",
     "output_type": "stream",
     "text": [
      "#if FABLE_COMPILER // file_system.types\n",
      "[<Fable.Core.Erase; Fable.Core.Emit(\"str\")>] type Str = class end\n",
      "[<Fable.Core.Erase; Fable.Core.Emit(\"base64::DecodeError\")>] type base64_DecodeError = class end\n",
      "[<Fable.Core.Erase; Fable.Core.Emit(\"borsh::io::Error\")>] type borsh_io_Error = class end\n",
      "[<Fable.Core.Erase; Fable.Core.Emit(\"js_sys::JsString\")>] type js_sys_JsString = class end\n",
      "[<Fable.Core.Erase; Fable.Core.Emit(\"serde_json::Error\")>] type serde_json_Error = class end\n",
      "[<Fable.Core.Erase; Fable.Core.Emit(\"serde_json::Value\")>] type serde_json_Value = class end\n",
      "[<Fable.Core.Erase; Fable.Core.Emit(\"serde_wasm_bindgen::Error\")>] type serde_wasm_bindgen_Error = class end\n",
      "[<Fable.Core.Erase; Fable.Core.Emit(\"std::ffi::OsStr\")>] type std_ffi_OsStr = class end\n",
      "[<Fable.Core.Erase; Fable.Core.Emit(\"std::ffi::OsString\")>] type std_ffi_OsString = class end\n",
      "[<Fable.Core.Erase; Fable.Core.Emit(\"std::str::Utf8Error\")>] type std_str_Utf8Error = class end\n",
      "[<Fable.Core.Erase; Fable.Core.Emit(\"std::string::String\")>] type std_string_String = class end\n",
      "[<Fable.Core.Erase; Fable.Core.Emit(\"Func0<$0>\")>] type Func0<'T> = class end\n",
      "[<Fable.Core.Erase; Fable.Core.Emit(\"Func1<$0, $1>\")>] type Func0<'T, 'U> = class end\n",
      "[<Fable.Core.Erase; Fable.Core.Emit(\"Box<$0>\")>] type Box<'T> = class end\n",
      "[<Fable.Core.Erase; Fable.Core.Emit(\"dyn $0\")>] type Dyn<'T> = class end\n",
      "[<Fable.Core.Erase; Fable.Core.Emit(\"Fn() -> $0\")>] type Fn<'T> = class end\n",
      "[<Fable.Core.Erase; Fable.Core.Emit(\"Fn()\")>] type FnUnit = class end\n",
      "[<Fable.Core.Erase; Fable.Core.Emit(\"FnOnce() -> $0\")>] type FnOnce<'T> = class end\n",
      "[<Fable.Core.Erase; Fable.Core.Emit(\"Fn($0, $1)\")>] type ActionFn2<'T, 'U> = class end\n",
      "[<Fable.Core.Erase; Fable.Core.Emit(\"impl $0\")>] type Impl<'T> = class end\n",
      "[<Fable.Core.Erase; Fable.Core.Emit(\"mut $0\")>] type Mut<'T> = class end\n",
      "[<Fable.Core.Erase; Fable.Core.Emit(\"&$0\")>] type Ref<'T> = class end\n",
      "[<Fable.Core.Erase; Fable.Core.Emit(\"&'static $0\")>] type StaticRef<'T> = class end\n",
      "[<Fable.Core.Erase; Fable.Core.Emit(\"MutCell<$0>\")>] type MutCell<'T> = class end\n",
      "[<Fable.Core.Erase; Fable.Core.Emit(\"std::any::Any\")>] type std_any_Any = class end\n",
      "[<Fable.Core.Erase; Fable.Core.Emit(\"std::cell::RefCell<$0>\")>] type std_cell_RefCell<'T> = class end\n",
      "[<Fable.Core.Erase; Fable.Core.Emit(\"std::pin::Pin<$0>\")>] type std_pin_Pin<'T> = class end\n",
      "[<Fable.Core.Erase; Fable.Core.Emit(\"std::rc::Rc<$0>\")>] type std_rc_Rc<'T> = class end\n",
      "[<Fable.Core.Erase; Fable.Core.Emit(\"std::rc::Weak<$0>\")>] type std_rc_Weak<'T> = class end\n",
      "[<Fable.Core.Erase; Fable.Core.Emit(\"std::sync::Arc<$0>\")>] type std_sync_Arc<'T> = class end\n",
      "[<Fable.Core.Erase; Fable.Core.Emit(\"std::path::Path\")>] type std_path_Path = class end\n",
      "[<Fable.Core.Erase; Fable.Core.Emit(\"std::path::PathBuf\")>] type std_path_PathBuf = class end\n",
      "#endif // file_system.types\n",
      "type IPathJoin = abstract join: [<System.ParamArray>] paths: string[] -> string\n",
      "type IFsExistsSync = abstract existsSync: path: string -> bool\n",
      "type IPathDirname = abstract dirname: path: string -> string\n",
      "type [<Struct>] US0 =\n",
      "    | US0_0 of f0_0 : string\n",
      "    | US0_1\n",
      "let rec closure1 () () : string =\n",
      "    let v0 : string option = None\n",
      "    let mutable _v0 = v0\n",
      "    #if FABLE_COMPILER_RUST && !WASM && !CONTRACT\n",
      "    let v1 : string = null |> unbox<string>\n",
      "    v1 \n",
      "    #endif\n",
      "    #if FABLE_COMPILER_RUST && WASM\n",
      "    let v2 : string = null |> unbox<string>\n",
      "    v2 \n",
      "    #endif\n",
      "    #if FABLE_COMPILER_RUST && CONTRACT\n",
      "    let v3 : string = null |> unbox<string>\n",
      "    v3 \n",
      "    #endif\n",
      "    #if !FABLE_COMPILER && !FABLE_COMPILER_RUST && !FABLE_COMPILER_TYPESCRIPT && !WASM && !CONTRACT\n",
      "    let v4 : string = System.Reflection.Assembly.GetEntryAssembly().GetName().Name\n",
      "    v4 \n",
      "    #endif\n",
      "    #if FABLE_COMPILER_TYPESCRIPT\n",
      "    let v5 : string = null |> unbox<string>\n",
      "    v5 \n",
      "    #endif\n",
      "    |> fun x -> _v0 <- Some x\n",
      "    let v6 : string = _v0 |> Option.get\n",
      "    v6\n",
      "and method0 (v0 : string) : string =\n",
      "    v0\n",
      "and closure0 () () : string =\n",
      "    let v0 : string option = None\n",
      "    let mutable _v0 = v0\n",
      "    #if FABLE_COMPILER_RUST && !WASM && !CONTRACT\n",
      "    let v1 : string = null |> unbox<string>\n",
      "    v1 \n",
      "    #endif\n",
      "    #if FABLE_COMPILER_RUST && WASM\n",
      "    let v2 : string = null |> unbox<string>\n",
      "    v2 \n",
      "    #endif\n",
      "    #if FABLE_COMPILER_RUST && CONTRACT\n",
      "    let v3 : string = null |> unbox<string>\n",
      "    v3 \n",
      "    #endif\n",
      "    #if !FABLE_COMPILER && !FABLE_COMPILER_RUST && !FABLE_COMPILER_TYPESCRIPT && !WASM && !CONTRACT\n",
      "    let v4 : (unit -> string) = System.IO.Path.GetTempPath\n",
      "    let v5 : string = v4 ()\n",
      "    let v6 : (unit -> string) = closure1()\n",
      "    let v7 : string = $\"!{v6 ()}\"\n",
      "    let v8 : string option = None\n",
      "    let mutable _v8 = v8\n",
      "    #if FABLE_COMPILER_RUST && !WASM && !CONTRACT\n",
      "    let v9 : string = method0(v5)\n",
      "    let v10 : string = \"fable_library_rust::String_::LrcStr::as_str(&$0)\"\n",
      "    let v11 : Ref<Str> = Fable.Core.RustInterop.emitRustExpr v9 v10\n",
      "    let v12 : string = \"String::from($0)\"\n",
      "    let v13 : std_string_String = Fable.Core.RustInterop.emitRustExpr v11 v12\n",
      "    let v14 : string = \"std::path::PathBuf::from($0)\"\n",
      "    let v15 : std_path_PathBuf = Fable.Core.RustInterop.emitRustExpr v13 v14\n",
      "    let v16 : string = method0(v7)\n",
      "    let v17 : string = \"fable_library_rust::String_::LrcStr::as_str(&$0)\"\n",
      "    let v18 : Ref<Str> = Fable.Core.RustInterop.emitRustExpr v16 v17\n",
      "    let v19 : string = \"String::from($0)\"\n",
      "    let v20 : std_string_String = Fable.Core.RustInterop.emitRustExpr v18 v19\n",
      "    let v21 : string = \"$0.join($1)\"\n",
      "    let v22 : std_path_PathBuf = Fable.Core.RustInterop.emitRustExpr struct (v15, v20) v21\n",
      "    let v23 : string = \"$0.display().to_string()\"\n",
      "    let v24 : std_string_String = Fable.Core.RustInterop.emitRustExpr v22 v23\n",
      "    let v25 : string = \"fable_library_rust::String_::fromString($0)\"\n",
      "    let v26 : string = Fable.Core.RustInterop.emitRustExpr v24 v25\n",
      "    v26 \n",
      "    #endif\n",
      "    #if FABLE_COMPILER_RUST && WASM\n",
      "    let v27 : string = null |> unbox<string>\n",
      "    v27 \n",
      "    #endif\n",
      "    #if FABLE_COMPILER_RUST && CONTRACT\n",
      "    let v28 : string = null |> unbox<string>\n",
      "    v28 \n",
      "    #endif\n",
      "    #if !FABLE_COMPILER && !FABLE_COMPILER_RUST && !FABLE_COMPILER_TYPESCRIPT && !WASM && !CONTRACT\n",
      "    let v29 : string = System.IO.Path.Combine (v5, v7)\n",
      "    v29 \n",
      "    #endif\n",
      "    #if FABLE_COMPILER_TYPESCRIPT\n",
      "    let v30 : string = \"path\"\n",
      "    let v31 : IPathJoin = Fable.Core.JsInterop.importAll v30\n",
      "    let v32 : string = \"v31.join($0, $1)\"\n",
      "    let v33 : string = Fable.Core.JsInterop.emitJsExpr struct (v5, v7) v32\n",
      "    v33 \n",
      "    #endif\n",
      "    |> fun x -> _v8 <- Some x\n",
      "    let v34 : string = _v8 |> Option.get\n",
      "    let v35 : System.DateTime = System.DateTime.Now\n",
      "    let v36 : System.Guid = System.Guid.NewGuid ()\n",
      "    let v37 : (System.Guid -> string) = _.ToString()\n",
      "    let v38 : string = v37 v36\n",
      "    let v39 : string = v35.ToString \"yyyyMMdd-HHmm-ssff-ffff-f\"\n",
      "    let v40 : System.Guid = System.Guid $\"{v39}{v38.[v39.Length..]}\"\n",
      "    let v41 : (System.Guid -> string) = _.ToString()\n",
      "    let v42 : string = v41 v40\n",
      "    let v43 : string option = None\n",
      "    let mutable _v43 = v43\n",
      "    #if FABLE_COMPILER_RUST && !WASM && !CONTRACT\n",
      "    let v44 : string = method0(v34)\n",
      "    let v45 : string = \"fable_library_rust::String_::LrcStr::as_str(&$0)\"\n",
      "    let v46 : Ref<Str> = Fable.Core.RustInterop.emitRustExpr v44 v45\n",
      "    let v47 : string = \"String::from($0)\"\n",
      "    let v48 : std_string_String = Fable.Core.RustInterop.emitRustExpr v46 v47\n",
      "    let v49 : string = \"std::path::PathBuf::from($0)\"\n",
      "    let v50 : std_path_PathBuf = Fable.Core.RustInterop.emitRustExpr v48 v49\n",
      "    let v51 : string = method0(v42)\n",
      "    let v52 : string = \"fable_library_rust::String_::LrcStr::as_str(&$0)\"\n",
      "    let v53 : Ref<Str> = Fable.Core.RustInterop.emitRustExpr v51 v52\n",
      "    let v54 : string = \"String::from($0)\"\n",
      "    let v55 : std_string_String = Fable.Core.RustInterop.emitRustExpr v53 v54\n",
      "    let v56 : string = \"$0.join($1)\"\n",
      "    let v57 : std_path_PathBuf = Fable.Core.RustInterop.emitRustExpr struct (v50, v55) v56\n",
      "    let v58 : string = \"$0.display().to_string()\"\n",
      "    let v59 : std_string_String = Fable.Core.RustInterop.emitRustExpr v57 v58\n",
      "    let v60 : string = \"fable_library_rust::String_::fromString($0)\"\n",
      "    let v61 : string = Fable.Core.RustInterop.emitRustExpr v59 v60\n",
      "    v61 \n",
      "    #endif\n",
      "    #if FABLE_COMPILER_RUST && WASM\n",
      "    let v62 : string = null |> unbox<string>\n",
      "    v62 \n",
      "    #endif\n",
      "    #if FABLE_COMPILER_RUST && CONTRACT\n",
      "    let v63 : string = null |> unbox<string>\n",
      "    v63 \n",
      "    #endif\n",
      "    #if !FABLE_COMPILER && !FABLE_COMPILER_RUST && !FABLE_COMPILER_TYPESCRIPT && !WASM && !CONTRACT\n",
      "    let v64 : string = System.IO.Path.Combine (v34, v42)\n",
      "    v64 \n",
      "    #endif\n",
      "    #if FABLE_COMPILER_TYPESCRIPT\n",
      "    let v65 : IPathJoin = Fable.Core.JsInterop.importAll v30\n",
      "    let v66 : string = \"v65.join($0, $1)\"\n",
      "    let v67 : string = Fable.Core.JsInterop.emitJsExpr struct (v34, v42) v66\n",
      "    v67 \n",
      "    #endif\n",
      "    |> fun x -> _v43 <- Some x\n",
      "    let v68 : string = _v43 |> Option.get\n",
      "    v68 \n",
      "    #endif\n",
      "    #if FABLE_COMPILER_TYPESCRIPT\n",
      "    let v69 : string = null |> unbox<string>\n",
      "    v69 \n",
      "    #endif\n",
      "    |> fun x -> _v0 <- Some x\n",
      "    let v70 : string = _v0 |> Option.get\n",
      "    v70\n",
      "and closure4 () () : string =\n",
      "    let v0 : string = \"\"\n",
      "    v0\n",
      "and closure3 (v0 : string, v1 : string) () : string =\n",
      "    let v2 : (unit -> string) = closure4()\n",
      "    let v3 : string = $\"temp_folder: {v0} / result: {v1} {v2 ()}\"\n",
      "    v3\n",
      "and closure2 () () : string =\n",
      "    let v0 : string option = None\n",
      "    let mutable _v0 = v0\n",
      "    #if FABLE_COMPILER_RUST && !WASM && !CONTRACT\n",
      "    let v1 : string = null |> unbox<string>\n",
      "    v1 \n",
      "    #endif\n",
      "    #if FABLE_COMPILER_RUST && WASM\n",
      "    let v2 : string = null |> unbox<string>\n",
      "    v2 \n",
      "    #endif\n",
      "    #if FABLE_COMPILER_RUST && CONTRACT\n",
      "    let v3 : string = null |> unbox<string>\n",
      "    v3 \n",
      "    #endif\n",
      "    #if !FABLE_COMPILER && !FABLE_COMPILER_RUST && !FABLE_COMPILER_TYPESCRIPT && !WASM && !CONTRACT\n",
      "    let v4 : string option = None\n",
      "    let mutable _v4 = v4\n",
      "    #if FABLE_COMPILER_RUST && !WASM && !CONTRACT\n",
      "    let v5 : string = null |> unbox<string>\n",
      "    v5 \n",
      "    #endif\n",
      "    #if FABLE_COMPILER_RUST && WASM\n",
      "    let v6 : string = null |> unbox<string>\n",
      "    v6 \n",
      "    #endif\n",
      "    #if FABLE_COMPILER_RUST && CONTRACT\n",
      "    let v7 : string = null |> unbox<string>\n",
      "    v7 \n",
      "    #endif\n",
      "    #if !FABLE_COMPILER && !FABLE_COMPILER_RUST && !FABLE_COMPILER_TYPESCRIPT && !WASM && !CONTRACT\n",
      "    let v8 : (unit -> string) = System.IO.Path.GetTempPath\n",
      "    let v9 : string = v8 ()\n",
      "    let v10 : (unit -> string) = closure1()\n",
      "    let v11 : string = $\"!{v10 ()}\"\n",
      "    let v12 : string option = None\n",
      "    let mutable _v12 = v12\n",
      "    #if FABLE_COMPILER_RUST && !WASM && !CONTRACT\n",
      "    let v13 : string = method0(v9)\n",
      "    let v14 : string = \"fable_library_rust::String_::LrcStr::as_str(&$0)\"\n",
      "    let v15 : Ref<Str> = Fable.Core.RustInterop.emitRustExpr v13 v14\n",
      "    let v16 : string = \"String::from($0)\"\n",
      "    let v17 : std_string_String = Fable.Core.RustInterop.emitRustExpr v15 v16\n",
      "    let v18 : string = \"std::path::PathBuf::from($0)\"\n",
      "    let v19 : std_path_PathBuf = Fable.Core.RustInterop.emitRustExpr v17 v18\n",
      "    let v20 : string = method0(v11)\n",
      "    let v21 : string = \"fable_library_rust::String_::LrcStr::as_str(&$0)\"\n",
      "    let v22 : Ref<Str> = Fable.Core.RustInterop.emitRustExpr v20 v21\n",
      "    let v23 : string = \"String::from($0)\"\n",
      "    let v24 : std_string_String = Fable.Core.RustInterop.emitRustExpr v22 v23\n",
      "    let v25 : string = \"$0.join($1)\"\n",
      "    let v26 : std_path_PathBuf = Fable.Core.RustInterop.emitRustExpr struct (v19, v24) v25\n",
      "    let v27 : string = \"$0.display().to_string()\"\n",
      "    let v28 : std_string_String = Fable.Core.RustInterop.emitRustExpr v26 v27\n",
      "    let v29 : string = \"fable_library_rust::String_::fromString($0)\"\n",
      "    let v30 : string = Fable.Core.RustInterop.emitRustExpr v28 v29\n",
      "    v30 \n",
      "    #endif\n",
      "    #if FABLE_COMPILER_RUST && WASM\n",
      "    let v31 : string = null |> unbox<string>\n",
      "    v31 \n",
      "    #endif\n",
      "    #if FABLE_COMPILER_RUST && CONTRACT\n",
      "    let v32 : string = null |> unbox<string>\n",
      "    v32 \n",
      "    #endif\n",
      "    #if !FABLE_COMPILER && !FABLE_COMPILER_RUST && !FABLE_COMPILER_TYPESCRIPT && !WASM && !CONTRACT\n",
      "    let v33 : string = System.IO.Path.Combine (v9, v11)\n",
      "    v33 \n",
      "    #endif\n",
      "    #if FABLE_COMPILER_TYPESCRIPT\n",
      "    let v34 : string = \"path\"\n",
      "    let v35 : IPathJoin = Fable.Core.JsInterop.importAll v34\n",
      "    let v36 : string = \"v35.join($0, $1)\"\n",
      "    let v37 : string = Fable.Core.JsInterop.emitJsExpr struct (v9, v11) v36\n",
      "    v37 \n",
      "    #endif\n",
      "    |> fun x -> _v12 <- Some x\n",
      "    let v38 : string = _v12 |> Option.get\n",
      "    let v39 : System.DateTime = System.DateTime.Now\n",
      "    let v40 : System.Guid = System.Guid.NewGuid ()\n",
      "    let v41 : (System.Guid -> string) = _.ToString()\n",
      "    let v42 : string = v41 v40\n",
      "    let v43 : string = v39.ToString \"yyyyMMdd-HHmm-ssff-ffff-f\"\n",
      "    let v44 : System.Guid = System.Guid $\"{v43}{v42.[v43.Length..]}\"\n",
      "    let v45 : (System.Guid -> string) = _.ToString()\n",
      "    let v46 : string = v45 v44\n",
      "    let v47 : string option = None\n",
      "    let mutable _v47 = v47\n",
      "    #if FABLE_COMPILER_RUST && !WASM && !CONTRACT\n",
      "    let v48 : string = method0(v38)\n",
      "    let v49 : string = \"fable_library_rust::String_::LrcStr::as_str(&$0)\"\n",
      "    let v50 : Ref<Str> = Fable.Core.RustInterop.emitRustExpr v48 v49\n",
      "    let v51 : string = \"String::from($0)\"\n",
      "    let v52 : std_string_String = Fable.Core.RustInterop.emitRustExpr v50 v51\n",
      "    let v53 : string = \"std::path::PathBuf::from($0)\"\n",
      "    let v54 : std_path_PathBuf = Fable.Core.RustInterop.emitRustExpr v52 v53\n",
      "    let v55 : string = method0(v46)\n",
      "    let v56 : string = \"fable_library_rust::String_::LrcStr::as_str(&$0)\"\n",
      "    let v57 : Ref<Str> = Fable.Core.RustInterop.emitRustExpr v55 v56\n",
      "    let v58 : string = \"String::from($0)\"\n",
      "    let v59 : std_string_String = Fable.Core.RustInterop.emitRustExpr v57 v58\n",
      "    let v60 : string = \"$0.join($1)\"\n",
      "    let v61 : std_path_PathBuf = Fable.Core.RustInterop.emitRustExpr struct (v54, v59) v60\n",
      "    let v62 : string = \"$0.display().to_string()\"\n",
      "    let v63 : std_string_String = Fable.Core.RustInterop.emitRustExpr v61 v62\n",
      "    let v64 : string = \"fable_library_rust::String_::fromString($0)\"\n",
      "    let v65 : string = Fable.Core.RustInterop.emitRustExpr v63 v64\n",
      "    v65 \n",
      "    #endif\n",
      "    #if FABLE_COMPILER_RUST && WASM\n",
      "    let v66 : string = null |> unbox<string>\n",
      "    v66 \n",
      "    #endif\n",
      "    #if FABLE_COMPILER_RUST && CONTRACT\n",
      "    let v67 : string = null |> unbox<string>\n",
      "    v67 \n",
      "    #endif\n",
      "    #if !FABLE_COMPILER && !FABLE_COMPILER_RUST && !FABLE_COMPILER_TYPESCRIPT && !WASM && !CONTRACT\n",
      "    let v68 : string = System.IO.Path.Combine (v38, v46)\n",
      "    v68 \n",
      "    #endif\n",
      "    #if FABLE_COMPILER_TYPESCRIPT\n",
      "    let v69 : IPathJoin = Fable.Core.JsInterop.importAll v34\n",
      "    let v70 : string = \"v69.join($0, $1)\"\n",
      "    let v71 : string = Fable.Core.JsInterop.emitJsExpr struct (v38, v46) v70\n",
      "    v71 \n",
      "    #endif\n",
      "    |> fun x -> _v47 <- Some x\n",
      "    let v72 : string = _v47 |> Option.get\n",
      "    v72 \n",
      "    #endif\n",
      "    #if FABLE_COMPILER_TYPESCRIPT\n",
      "    let v73 : string = null |> unbox<string>\n",
      "    v73 \n",
      "    #endif\n",
      "    |> fun x -> _v4 <- Some x\n",
      "    let v74 : string = _v4 |> Option.get\n",
      "    let v75 : System.IO.DirectoryInfo option = None\n",
      "    let mutable _v75 = v75\n",
      "    #if FABLE_COMPILER_RUST && !WASM && !CONTRACT\n",
      "    let v76 : System.IO.DirectoryInfo = null |> unbox<System.IO.DirectoryInfo>\n",
      "    v76 \n",
      "    #endif\n",
      "    #if FABLE_COMPILER_RUST && WASM\n",
      "    let v77 : System.IO.DirectoryInfo = null |> unbox<System.IO.DirectoryInfo>\n",
      "    v77 \n",
      "    #endif\n",
      "    #if FABLE_COMPILER_RUST && CONTRACT\n",
      "    let v78 : System.IO.DirectoryInfo = null |> unbox<System.IO.DirectoryInfo>\n",
      "    v78 \n",
      "    #endif\n",
      "    #if !FABLE_COMPILER && !FABLE_COMPILER_RUST && !FABLE_COMPILER_TYPESCRIPT && !WASM && !CONTRACT\n",
      "    let v79 : (string -> System.IO.DirectoryInfo) = System.IO.Directory.CreateDirectory\n",
      "    let v80 : System.IO.DirectoryInfo = v79 v74\n",
      "    v80 \n",
      "    #endif\n",
      "    #if FABLE_COMPILER_TYPESCRIPT\n",
      "    let v81 : System.IO.DirectoryInfo = null |> unbox<System.IO.DirectoryInfo>\n",
      "    v81 \n",
      "    #endif\n",
      "    |> fun x -> _v75 <- Some x\n",
      "    let v82 : System.IO.DirectoryInfo = _v75 |> Option.get\n",
      "    let v83 : bool option = None\n",
      "    let mutable _v83 = v83\n",
      "    #if FABLE_COMPILER_RUST && !WASM && !CONTRACT\n",
      "    let v84 : bool = null |> unbox<bool>\n",
      "    v84 \n",
      "    #endif\n",
      "    #if FABLE_COMPILER_RUST && WASM\n",
      "    let v85 : bool = null |> unbox<bool>\n",
      "    v85 \n",
      "    #endif\n",
      "    #if FABLE_COMPILER_RUST && CONTRACT\n",
      "    let v86 : bool = null |> unbox<bool>\n",
      "    v86 \n",
      "    #endif\n",
      "    #if !FABLE_COMPILER && !FABLE_COMPILER_RUST && !FABLE_COMPILER_TYPESCRIPT && !WASM && !CONTRACT\n",
      "    let v87 : bool = v82.Exists\n",
      "    v87 \n",
      "    #endif\n",
      "    #if FABLE_COMPILER_TYPESCRIPT\n",
      "    let v88 : bool = null |> unbox<bool>\n",
      "    v88 \n",
      "    #endif\n",
      "    |> fun x -> _v83 <- Some x\n",
      "    let v89 : bool = _v83 |> Option.get\n",
      "    let v90 : bool = v89 = false\n",
      "    if v90 then\n",
      "        let v91 : System.DateTime option = None\n",
      "        let mutable _v91 = v91\n",
      "        #if FABLE_COMPILER_RUST && !WASM && !CONTRACT\n",
      "        let v92 : System.DateTime = null |> unbox<System.DateTime>\n",
      "        v92 \n",
      "        #endif\n",
      "        #if FABLE_COMPILER_RUST && WASM\n",
      "        let v93 : System.DateTime = null |> unbox<System.DateTime>\n",
      "        v93 \n",
      "        #endif\n",
      "        #if FABLE_COMPILER_RUST && CONTRACT\n",
      "        let v94 : System.DateTime = null |> unbox<System.DateTime>\n",
      "        v94 \n",
      "        #endif\n",
      "        #if !FABLE_COMPILER && !FABLE_COMPILER_RUST && !FABLE_COMPILER_TYPESCRIPT && !WASM && !CONTRACT\n",
      "        let v95 : System.DateTime = v82.CreationTime\n",
      "        v95 \n",
      "        #endif\n",
      "        #if FABLE_COMPILER_TYPESCRIPT\n",
      "        let v96 : System.DateTime = null |> unbox<System.DateTime>\n",
      "        v96 \n",
      "        #endif\n",
      "        |> fun x -> _v91 <- Some x\n",
      "        let v97 : System.DateTime = _v91 |> Option.get\n",
      "        let v98 : obj = {| Exists = v89; CreationTime = v97 |}\n",
      "        let v99 : string = $\"%A{v98}\"\n",
      "        let v100 : (unit -> string) = closure3(v74, v99)\n",
      "        let v101 : string = $\"create_temp_directory / {v100 ()}\"\n",
      "        System.Console.WriteLine v101\n",
      "        ()\n",
      "    v74 \n",
      "    #endif\n",
      "    #if FABLE_COMPILER_TYPESCRIPT\n",
      "    let v102 : string = null |> unbox<string>\n",
      "    v102 \n",
      "    #endif\n",
      "    |> fun x -> _v0 <- Some x\n",
      "    let v103 : string = _v0 |> Option.get\n",
      "    v103\n",
      "and closure5 () () : string =\n",
      "    let v0 : string = __SOURCE_DIRECTORY__\n",
      "    v0\n",
      "and closure9 () (v0 : string) : bool =\n",
      "    let v1 : bool option = None\n",
      "    let mutable _v1 = v1\n",
      "    #if FABLE_COMPILER_RUST && !WASM && !CONTRACT\n",
      "    let v2 : string = method0(v0)\n",
      "    let v3 : string = \"fable_library_rust::String_::LrcStr::as_str(&$0)\"\n",
      "    let v4 : Ref<Str> = Fable.Core.RustInterop.emitRustExpr v2 v3\n",
      "    let v5 : string = \"String::from($0)\"\n",
      "    let v6 : std_string_String = Fable.Core.RustInterop.emitRustExpr v4 v5\n",
      "    let v7 : string = \"std::path::PathBuf::from($0)\"\n",
      "    let v8 : std_path_PathBuf = Fable.Core.RustInterop.emitRustExpr v6 v7\n",
      "    let v9 : string = \"v8.exists()\"\n",
      "    let v10 : bool = Fable.Core.RustInterop.emitRustExpr () v9\n",
      "    let v13 : bool =\n",
      "        if v10 then\n",
      "            let v11 : string = \"v8.is_file()\"\n",
      "            let v12 : bool = Fable.Core.RustInterop.emitRustExpr () v11\n",
      "            v12\n",
      "        else\n",
      "            false\n",
      "    v13 \n",
      "    #endif\n",
      "    #if FABLE_COMPILER_RUST && WASM\n",
      "    let v14 : bool = null |> unbox<bool>\n",
      "    v14 \n",
      "    #endif\n",
      "    #if FABLE_COMPILER_RUST && CONTRACT\n",
      "    let v15 : bool = null |> unbox<bool>\n",
      "    v15 \n",
      "    #endif\n",
      "    #if !FABLE_COMPILER && !FABLE_COMPILER_RUST && !FABLE_COMPILER_TYPESCRIPT && !WASM && !CONTRACT\n",
      "    let v16 : (string -> bool) = System.IO.File.Exists\n",
      "    let v17 : bool = v16 v0\n",
      "    v17 \n",
      "    #endif\n",
      "    #if FABLE_COMPILER_TYPESCRIPT\n",
      "    let v18 : string = \"fs\"\n",
      "    let v19 : IFsExistsSync = Fable.Core.JsInterop.importAll v18\n",
      "    let v20 : string = \"v19.existsSync($0)\"\n",
      "    let v21 : bool = Fable.Core.JsInterop.emitJsExpr v0 v20\n",
      "    v21 \n",
      "    #endif\n",
      "    |> fun x -> _v1 <- Some x\n",
      "    let v22 : bool = _v1 |> Option.get\n",
      "    v22\n",
      "and closure10 () (v0 : string) : bool =\n",
      "    let v1 : bool option = None\n",
      "    let mutable _v1 = v1\n",
      "    #if FABLE_COMPILER_RUST && !WASM && !CONTRACT\n",
      "    let v2 : string = method0(v0)\n",
      "    let v3 : string = \"fable_library_rust::String_::LrcStr::as_str(&$0)\"\n",
      "    let v4 : Ref<Str> = Fable.Core.RustInterop.emitRustExpr v2 v3\n",
      "    let v5 : string = \"String::from($0)\"\n",
      "    let v6 : std_string_String = Fable.Core.RustInterop.emitRustExpr v4 v5\n",
      "    let v7 : string = \"std::path::PathBuf::from($0)\"\n",
      "    let v8 : std_path_PathBuf = Fable.Core.RustInterop.emitRustExpr v6 v7\n",
      "    let v9 : string = \"v8.exists()\"\n",
      "    let v10 : bool = Fable.Core.RustInterop.emitRustExpr () v9\n",
      "    let v13 : bool =\n",
      "        if v10 then\n",
      "            let v11 : string = \"v8.is_dir()\"\n",
      "            let v12 : bool = Fable.Core.RustInterop.emitRustExpr () v11\n",
      "            v12\n",
      "        else\n",
      "            false\n",
      "    v13 \n",
      "    #endif\n",
      "    #if FABLE_COMPILER_RUST && WASM\n",
      "    let v14 : bool = null |> unbox<bool>\n",
      "    v14 \n",
      "    #endif\n",
      "    #if FABLE_COMPILER_RUST && CONTRACT\n",
      "    let v15 : bool = null |> unbox<bool>\n",
      "    v15 \n",
      "    #endif\n",
      "    #if !FABLE_COMPILER && !FABLE_COMPILER_RUST && !FABLE_COMPILER_TYPESCRIPT && !WASM && !CONTRACT\n",
      "    let v16 : (string -> bool) = System.IO.Directory.Exists\n",
      "    let v17 : bool = v16 v0\n",
      "    v17 \n",
      "    #endif\n",
      "    #if FABLE_COMPILER_TYPESCRIPT\n",
      "    let v18 : string = \"fs\"\n",
      "    let v19 : IFsExistsSync = Fable.Core.JsInterop.importAll v18\n",
      "    let v20 : string = \"v19.existsSync($0)\"\n",
      "    let v21 : bool = Fable.Core.JsInterop.emitJsExpr v0 v20\n",
      "    v21 \n",
      "    #endif\n",
      "    |> fun x -> _v1 <- Some x\n",
      "    let v22 : bool = _v1 |> Option.get\n",
      "    v22\n",
      "and closure11 () (v0 : string) : string option =\n",
      "    let v1 : US0 option = None\n",
      "    let mutable _v1 = v1\n",
      "    #if FABLE_COMPILER_RUST && !WASM && !CONTRACT\n",
      "    let v2 : string = method0(v0)\n",
      "    let v3 : string = \"fable_library_rust::String_::LrcStr::as_str(&$0)\"\n",
      "    let v4 : Ref<Str> = Fable.Core.RustInterop.emitRustExpr v2 v3\n",
      "    let v5 : string = \"String::from($0)\"\n",
      "    let v6 : std_string_String = Fable.Core.RustInterop.emitRustExpr v4 v5\n",
      "    let v7 : string = \"std::path::PathBuf::from($0)\"\n",
      "    let v8 : std_path_PathBuf = Fable.Core.RustInterop.emitRustExpr v6 v7\n",
      "    let v9 : string = \"$0.parent().map(std::path::PathBuf::from)\"\n",
      "    let v10 : std_path_PathBuf option = Fable.Core.RustInterop.emitRustExpr v8 v9\n",
      "    let v11 : string = \"v10?\"\n",
      "    let v12 : std_path_PathBuf = Fable.Core.RustInterop.emitRustExpr () v11\n",
      "    let v13 : string = \"$0.display().to_string()\"\n",
      "    let v14 : std_string_String = Fable.Core.RustInterop.emitRustExpr v12 v13\n",
      "    let v15 : string = \"fable_library_rust::String_::fromString($0)\"\n",
      "    let v16 : string = Fable.Core.RustInterop.emitRustExpr v14 v15\n",
      "    let v17 : US0 = US0_0(v16)\n",
      "    v17 \n",
      "    #endif\n",
      "    #if FABLE_COMPILER_RUST && WASM\n",
      "    let v18 : US0 = null |> unbox<US0>\n",
      "    v18 \n",
      "    #endif\n",
      "    #if FABLE_COMPILER_RUST && CONTRACT\n",
      "    let v19 : US0 = null |> unbox<US0>\n",
      "    v19 \n",
      "    #endif\n",
      "    #if !FABLE_COMPILER && !FABLE_COMPILER_RUST && !FABLE_COMPILER_TYPESCRIPT && !WASM && !CONTRACT\n",
      "    let v20 : (string -> System.IO.DirectoryInfo) = System.IO.Directory.GetParent\n",
      "    let v21 : System.IO.DirectoryInfo = v20 v0\n",
      "    let v22 : System.IO.DirectoryInfo = null |> unbox<System.IO.DirectoryInfo>\n",
      "    let v23 : bool = v21 = v22\n",
      "    let v33 : US0 =\n",
      "        if v23 then\n",
      "            US0_1\n",
      "        else\n",
      "            let v25 : string option = None\n",
      "            let mutable _v25 = v25\n",
      "            #if FABLE_COMPILER_RUST && !WASM && !CONTRACT\n",
      "            let v26 : string = null |> unbox<string>\n",
      "            v26 \n",
      "            #endif\n",
      "            #if FABLE_COMPILER_RUST && WASM\n",
      "            let v27 : string = null |> unbox<string>\n",
      "            v27 \n",
      "            #endif\n",
      "            #if FABLE_COMPILER_RUST && CONTRACT\n",
      "            let v28 : string = null |> unbox<string>\n",
      "            v28 \n",
      "            #endif\n",
      "            #if !FABLE_COMPILER && !FABLE_COMPILER_RUST && !FABLE_COMPILER_TYPESCRIPT && !WASM && !CONTRACT\n",
      "            let v29 : string = v21.FullName\n",
      "            v29 \n",
      "            #endif\n",
      "            #if FABLE_COMPILER_TYPESCRIPT\n",
      "            let v30 : string = null |> unbox<string>\n",
      "            v30 \n",
      "            #endif\n",
      "            |> fun x -> _v25 <- Some x\n",
      "            let v31 : string = _v25 |> Option.get\n",
      "            US0_0(v31)\n",
      "    v33 \n",
      "    #endif\n",
      "    #if FABLE_COMPILER_TYPESCRIPT\n",
      "    let v34 : string = \"path\"\n",
      "    let v35 : IPathDirname = Fable.Core.JsInterop.importAll v34\n",
      "    let v36 : string = \"v35.dirname($0)\"\n",
      "    let v37 : string = Fable.Core.JsInterop.emitJsExpr v0 v36\n",
      "    let v38 : US0 = US0_0(v37)\n",
      "    v38 \n",
      "    #endif\n",
      "    |> fun x -> _v1 <- Some x\n",
      "    let v39 : US0 = _v1 |> Option.get\n",
      "    match v39 with\n",
      "    | US0_1 -> (* None *)\n",
      "        let v42 : string option = None\n",
      "        v42\n",
      "    | US0_0(v40) -> (* Some *)\n",
      "        let v41 : string option = Some v40 \n",
      "        v41\n",
      "and method2 () : (string -> string option) =\n",
      "    closure11()\n",
      "and closure12 () (v0 : string) : US0 =\n",
      "    US0_0(v0)\n",
      "and method3 () : (string -> US0) =\n",
      "    closure12()\n",
      "and method4 (v0 : string, v1 : bool, v2 : string, v3 : string) : string =\n",
      "    let v4 : string option = None\n",
      "    let mutable _v4 = v4\n",
      "    #if FABLE_COMPILER_RUST && !WASM && !CONTRACT\n",
      "    let v5 : string = method0(v3)\n",
      "    let v6 : string = \"fable_library_rust::String_::LrcStr::as_str(&$0)\"\n",
      "    let v7 : Ref<Str> = Fable.Core.RustInterop.emitRustExpr v5 v6\n",
      "    let v8 : string = \"String::from($0)\"\n",
      "    let v9 : std_string_String = Fable.Core.RustInterop.emitRustExpr v7 v8\n",
      "    let v10 : string = \"std::path::PathBuf::from($0)\"\n",
      "    let v11 : std_path_PathBuf = Fable.Core.RustInterop.emitRustExpr v9 v10\n",
      "    let v12 : string = method0(v0)\n",
      "    let v13 : string = \"fable_library_rust::String_::LrcStr::as_str(&$0)\"\n",
      "    let v14 : Ref<Str> = Fable.Core.RustInterop.emitRustExpr v12 v13\n",
      "    let v15 : string = \"String::from($0)\"\n",
      "    let v16 : std_string_String = Fable.Core.RustInterop.emitRustExpr v14 v15\n",
      "    let v17 : string = \"$0.join($1)\"\n",
      "    let v18 : std_path_PathBuf = Fable.Core.RustInterop.emitRustExpr struct (v11, v16) v17\n",
      "    let v19 : string = \"$0.display().to_string()\"\n",
      "    let v20 : std_string_String = Fable.Core.RustInterop.emitRustExpr v18 v19\n",
      "    let v21 : string = \"fable_library_rust::String_::fromString($0)\"\n",
      "    let v22 : string = Fable.Core.RustInterop.emitRustExpr v20 v21\n",
      "    v22 \n",
      "    #endif\n",
      "    #if FABLE_COMPILER_RUST && WASM\n",
      "    let v23 : string = null |> unbox<string>\n",
      "    v23 \n",
      "    #endif\n",
      "    #if FABLE_COMPILER_RUST && CONTRACT\n",
      "    let v24 : string = null |> unbox<string>\n",
      "    v24 \n",
      "    #endif\n",
      "    #if !FABLE_COMPILER && !FABLE_COMPILER_RUST && !FABLE_COMPILER_TYPESCRIPT && !WASM && !CONTRACT\n",
      "    let v25 : string = System.IO.Path.Combine (v3, v0)\n",
      "    v25 \n",
      "    #endif\n",
      "    #if FABLE_COMPILER_TYPESCRIPT\n",
      "    let v26 : string = \"path\"\n",
      "    let v27 : IPathJoin = Fable.Core.JsInterop.importAll v26\n",
      "    let v28 : string = \"v27.join($0, $1)\"\n",
      "    let v29 : string = Fable.Core.JsInterop.emitJsExpr struct (v3, v0) v28\n",
      "    v29 \n",
      "    #endif\n",
      "    |> fun x -> _v4 <- Some x\n",
      "    let v30 : string = _v4 |> Option.get\n",
      "    let v33 : (string -> bool) =\n",
      "        if v1 then\n",
      "            closure9()\n",
      "        else\n",
      "            closure10()\n",
      "    let v34 : bool = v33 v30\n",
      "    if v34 then\n",
      "        v3\n",
      "    else\n",
      "        let v35 : (string -> string option) = method2()\n",
      "        let v36 : string option = v35 v3\n",
      "        let v37 : (string -> US0) = method3()\n",
      "        let v38 : US0 = US0_1\n",
      "        let v39 : US0 = v36 |> Option.map v37 |> Option.defaultValue v38 \n",
      "        match v39 with\n",
      "        | US0_1 -> (* None *)\n",
      "            let v42 : string = $\"\"\"No parent for {if v1 then \"file\" else \"dir\"} '{v0}' at '{v2}'\"\"\"\n",
      "            failwith<string> v42\n",
      "        | US0_0(v40) -> (* Some *)\n",
      "            method4(v0, v1, v2, v40)\n",
      "and method1 (v0 : string, v1 : bool, v2 : string) : string =\n",
      "    let v3 : string option = None\n",
      "    let mutable _v3 = v3\n",
      "    #if FABLE_COMPILER_RUST && !WASM && !CONTRACT\n",
      "    let v4 : string = method0(v2)\n",
      "    let v5 : string = \"fable_library_rust::String_::LrcStr::as_str(&$0)\"\n",
      "    let v6 : Ref<Str> = Fable.Core.RustInterop.emitRustExpr v4 v5\n",
      "    let v7 : string = \"String::from($0)\"\n",
      "    let v8 : std_string_String = Fable.Core.RustInterop.emitRustExpr v6 v7\n",
      "    let v9 : string = \"std::path::PathBuf::from($0)\"\n",
      "    let v10 : std_path_PathBuf = Fable.Core.RustInterop.emitRustExpr v8 v9\n",
      "    let v11 : string = method0(v0)\n",
      "    let v12 : string = \"fable_library_rust::String_::LrcStr::as_str(&$0)\"\n",
      "    let v13 : Ref<Str> = Fable.Core.RustInterop.emitRustExpr v11 v12\n",
      "    let v14 : string = \"String::from($0)\"\n",
      "    let v15 : std_string_String = Fable.Core.RustInterop.emitRustExpr v13 v14\n",
      "    let v16 : string = \"$0.join($1)\"\n",
      "    let v17 : std_path_PathBuf = Fable.Core.RustInterop.emitRustExpr struct (v10, v15) v16\n",
      "    let v18 : string = \"$0.display().to_string()\"\n",
      "    let v19 : std_string_String = Fable.Core.RustInterop.emitRustExpr v17 v18\n",
      "    let v20 : string = \"fable_library_rust::String_::fromString($0)\"\n",
      "    let v21 : string = Fable.Core.RustInterop.emitRustExpr v19 v20\n",
      "    v21 \n",
      "    #endif\n",
      "    #if FABLE_COMPILER_RUST && WASM\n",
      "    let v22 : string = null |> unbox<string>\n",
      "    v22 \n",
      "    #endif\n",
      "    #if FABLE_COMPILER_RUST && CONTRACT\n",
      "    let v23 : string = null |> unbox<string>\n",
      "    v23 \n",
      "    #endif\n",
      "    #if !FABLE_COMPILER && !FABLE_COMPILER_RUST && !FABLE_COMPILER_TYPESCRIPT && !WASM && !CONTRACT\n",
      "    let v24 : string = System.IO.Path.Combine (v2, v0)\n",
      "    v24 \n",
      "    #endif\n",
      "    #if FABLE_COMPILER_TYPESCRIPT\n",
      "    let v25 : string = \"path\"\n",
      "    let v26 : IPathJoin = Fable.Core.JsInterop.importAll v25\n",
      "    let v27 : string = \"v26.join($0, $1)\"\n",
      "    let v28 : string = Fable.Core.JsInterop.emitJsExpr struct (v2, v0) v27\n",
      "    v28 \n",
      "    #endif\n",
      "    |> fun x -> _v3 <- Some x\n",
      "    let v29 : string = _v3 |> Option.get\n",
      "    let v32 : (string -> bool) =\n",
      "        if v1 then\n",
      "            closure9()\n",
      "        else\n",
      "            closure10()\n",
      "    let v33 : bool = v32 v29\n",
      "    if v33 then\n",
      "        v2\n",
      "    else\n",
      "        let v34 : (string -> string option) = method2()\n",
      "        let v35 : string option = v34 v2\n",
      "        let v36 : (string -> US0) = method3()\n",
      "        let v37 : US0 = US0_1\n",
      "        let v38 : US0 = v35 |> Option.map v36 |> Option.defaultValue v37 \n",
      "        match v38 with\n",
      "        | US0_1 -> (* None *)\n",
      "            let v41 : string = $\"\"\"No parent for {if v1 then \"file\" else \"dir\"} '{v0}' at '{v2}'\"\"\"\n",
      "            failwith<string> v41\n",
      "        | US0_0(v39) -> (* Some *)\n",
      "            method4(v0, v1, v2, v39)\n",
      "and closure8 (v0 : string, v1 : bool) (v2 : string) : string =\n",
      "    method1(v0, v1, v2)\n",
      "and closure7 (v0 : string) (v1 : bool) : (string -> string) =\n",
      "    closure8(v0, v1)\n",
      "and closure6 () (v0 : string) : (bool -> (string -> string)) =\n",
      "    closure7(v0)\n",
      "and closure14 (v0 : string) (v1 : string) : string =\n",
      "    let v2 : string option = None\n",
      "    let mutable _v2 = v2\n",
      "    #if FABLE_COMPILER_RUST && !WASM && !CONTRACT\n",
      "    let v3 : string = method0(v0)\n",
      "    let v4 : string = \"fable_library_rust::String_::LrcStr::as_str(&$0)\"\n",
      "    let v5 : Ref<Str> = Fable.Core.RustInterop.emitRustExpr v3 v4\n",
      "    let v6 : string = \"String::from($0)\"\n",
      "    let v7 : std_string_String = Fable.Core.RustInterop.emitRustExpr v5 v6\n",
      "    let v8 : string = \"std::path::PathBuf::from($0)\"\n",
      "    let v9 : std_path_PathBuf = Fable.Core.RustInterop.emitRustExpr v7 v8\n",
      "    let v10 : string = method0(v1)\n",
      "    let v11 : string = \"fable_library_rust::String_::LrcStr::as_str(&$0)\"\n",
      "    let v12 : Ref<Str> = Fable.Core.RustInterop.emitRustExpr v10 v11\n",
      "    let v13 : string = \"String::from($0)\"\n",
      "    let v14 : std_string_String = Fable.Core.RustInterop.emitRustExpr v12 v13\n",
      "    let v15 : string = \"$0.join($1)\"\n",
      "    let v16 : std_path_PathBuf = Fable.Core.RustInterop.emitRustExpr struct (v9, v14) v15\n",
      "    let v17 : string = \"$0.display().to_string()\"\n",
      "    let v18 : std_string_String = Fable.Core.RustInterop.emitRustExpr v16 v17\n",
      "    let v19 : string = \"fable_library_rust::String_::fromString($0)\"\n",
      "    let v20 : string = Fable.Core.RustInterop.emitRustExpr v18 v19\n",
      "    v20 \n",
      "    #endif\n",
      "    #if FABLE_COMPILER_RUST && WASM\n",
      "    let v21 : string = null |> unbox<string>\n",
      "    v21 \n",
      "    #endif\n",
      "    #if FABLE_COMPILER_RUST && CONTRACT\n",
      "    let v22 : string = null |> unbox<string>\n",
      "    v22 \n",
      "    #endif\n",
      "    #if !FABLE_COMPILER && !FABLE_COMPILER_RUST && !FABLE_COMPILER_TYPESCRIPT && !WASM && !CONTRACT\n",
      "    let v23 : string = System.IO.Path.Combine (v0, v1)\n",
      "    v23 \n",
      "    #endif\n",
      "    #if FABLE_COMPILER_TYPESCRIPT\n",
      "    let v24 : string = \"path\"\n",
      "    let v25 : IPathJoin = Fable.Core.JsInterop.importAll v24\n",
      "    let v26 : string = \"v25.join($0, $1)\"\n",
      "    let v27 : string = Fable.Core.JsInterop.emitJsExpr struct (v0, v1) v26\n",
      "    v27 \n",
      "    #endif\n",
      "    |> fun x -> _v2 <- Some x\n",
      "    let v28 : string = _v2 |> Option.get\n",
      "    v28\n",
      "and closure13 () (v0 : string) : (string -> string) =\n",
      "    closure14(v0)\n",
      "let v0 : (unit -> string) = closure0()\n",
      "let create_temp_directory_name () = v0 ()\n",
      "let v1 : (unit -> string) = closure2()\n",
      "let create_temp_directory () = v1 ()\n",
      "let v2 : (unit -> string) = closure5()\n",
      "let get_source_directory () = v2 ()\n",
      "let v3 : (string -> (bool -> (string -> string))) = closure6()\n",
      "let find_parent x = v3 x\n",
      "let v4 : (string -> (string -> string)) = closure13()\n",
      "let (</>) x = v4 x\n",
      "()\n",
      "\n"
     ]
    }
   ],
   "source": [
    "inl main () =\n",
    "    types ()\n",
    "    $\"let create_temp_directory_name () = !create_temp_directory_name ()\" : ()\n",
    "    $\"let create_temp_directory () = !create_temp_directory ()\" : ()\n",
    "    $\"let get_source_directory () = !get_source_directory ()\" : ()\n",
    "    $\"let find_parent x = !find_parent x\" : ()\n",
    "    inl combine x = (</>) x\n",
    "    $\"let (</>) x = !combine x\" : ()"
   ]
  }
 ],
 "metadata": {},
 "nbformat": 4,
 "nbformat_minor": 5
}