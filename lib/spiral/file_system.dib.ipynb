{
 "cells": [
  {
   "cell_type": "markdown",
   "metadata": {},
   "source": [
    "# file_system"
   ]
  },
  {
   "cell_type": "code",
   "execution_count": null,
   "metadata": {
    "dotnet_interactive": {
     "language": "spiral"
    },
    "polyglot_notebook": {
     "kernelName": "spiral"
    }
   },
   "outputs": [
    {
     "name": "stdout",
     "output_type": "stream",
     "text": [
      "()\n",
      "\n"
     ]
    }
   ],
   "source": [
    "open rust_operators\n",
    "open sm'_operators"
   ]
  },
  {
   "cell_type": "code",
   "execution_count": null,
   "metadata": {
    "dotnet_interactive": {
     "language": "spiral"
    },
    "polyglot_notebook": {
     "kernelName": "spiral"
    }
   },
   "outputs": [
    {
     "name": "stdout",
     "output_type": "stream",
     "text": [
      "()\n",
      "\n"
     ]
    }
   ],
   "source": [
    "// // test\n",
    "\n",
    "open testing"
   ]
  },
  {
   "cell_type": "markdown",
   "metadata": {},
   "source": [
    "## types"
   ]
  },
  {
   "cell_type": "code",
   "execution_count": null,
   "metadata": {
    "dotnet_interactive": {
     "language": "spiral"
    },
    "polyglot_notebook": {
     "kernelName": "spiral"
    }
   },
   "outputs": [
    {
     "name": "stdout",
     "output_type": "stream",
     "text": [
      "()\n",
      "\n"
     ]
    }
   ],
   "source": [
    "inl types () =\n",
    "    ()"
   ]
  },
  {
   "cell_type": "markdown",
   "metadata": {},
   "source": [
    "## (</>)"
   ]
  },
  {
   "cell_type": "code",
   "execution_count": null,
   "metadata": {
    "dotnet_interactive": {
     "language": "spiral"
    },
    "polyglot_notebook": {
     "kernelName": "spiral"
    }
   },
   "outputs": [
    {
     "name": "stdout",
     "output_type": "stream",
     "text": [
      "()\n",
      "\n"
     ]
    }
   ],
   "source": [
    "inl (</>) (a : string) (b : string) : string =\n",
    "    $'System.IO.Path.Combine (!a, !b)'"
   ]
  },
  {
   "cell_type": "markdown",
   "metadata": {},
   "source": [
    "## create_temp_directory_name"
   ]
  },
  {
   "cell_type": "code",
   "execution_count": null,
   "metadata": {
    "dotnet_interactive": {
     "language": "spiral"
    },
    "polyglot_notebook": {
     "kernelName": "spiral"
    }
   },
   "outputs": [
    {
     "name": "stdout",
     "output_type": "stream",
     "text": [
      "()\n",
      "\n"
     ]
    }
   ],
   "source": [
    "inl create_temp_directory_name () =\n",
    "    inl root = $'System.Reflection.Assembly.GetEntryAssembly().GetName().Name' : string\n",
    "\n",
    "    ($'System.IO.Path.GetTempPath' () : string)\n",
    "    </> ($'$\"{!root}\"' : string)\n",
    "    </> (date_time.new_guid_from_date_time $'System.DateTime.Now' |> sm'.obj_to_string)"
   ]
  },
  {
   "cell_type": "code",
   "execution_count": null,
   "metadata": {
    "dotnet_interactive": {
     "language": "spiral"
    },
    "polyglot_notebook": {
     "kernelName": "spiral"
    }
   },
   "outputs": [
    {
     "name": "stdout",
     "output_type": "stream",
     "text": [
      "type [<Struct>] US0 =\n",
      "    | US0_0\n",
      "    | US0_1 of f1_0 : char\n",
      "let rec closure0 (v0 : char) (v1 : char) : bool =\n",
      "    let v2 : bool = v0 = v1\n",
      "    v2\n",
      "and closure1 () (v0 : char) : US0 =\n",
      "    US0_1(v0)\n",
      "and method1 (v0 : bool) : bool =\n",
      "    v0\n",
      "and method0 () : unit =\n",
      "    let v0 : string = System.Reflection.Assembly.GetEntryAssembly().GetName().Name\n",
      "    let v1 : (unit -> string) = System.IO.Path.GetTempPath\n",
      "    let v2 : string = v1 ()\n",
      "    let v3 : string = $\"{v0}\"\n",
      "    let v4 : string = System.IO.Path.Combine (v2, v3)\n",
      "    let v5 : System.DateTime = System.DateTime.Now\n",
      "    let v6 : System.Guid = System.Guid.NewGuid ()\n",
      "    let v7 : string = v6.ToString ()\n",
      "    let v8 : string = v5.ToString \"yyyyMMdd-HHmm-ssff-ffff-f\"\n",
      "    let v9 : System.Guid = System.Guid $\"{v8}{v7.[v8.Length..]}\"\n",
      "    let v10 : string = v9.ToString ()\n",
      "    let v11 : string = System.IO.Path.Combine (v4, v10)\n",
      "    let v12 : char = System.IO.Path.DirectorySeparatorChar\n",
      "    let v13 : string = $\"%A{v11}\"\n",
      "    System.Console.WriteLine v13\n",
      "    let v14 : ((char -> bool) -> (string -> char option)) = Seq.tryFind\n",
      "    let v15 : (char -> bool) = closure0(v12)\n",
      "    let v16 : (string -> char option) = v14 v15\n",
      "    let v17 : char option = v16 v11\n",
      "    let v18 : (char -> US0) = closure1()\n",
      "    let v19 : US0 = US0_0\n",
      "    let v20 : US0 = v17 |> Option.map v18 |> Option.defaultValue v19\n",
      "    let v22 : bool =\n",
      "        match v20 with\n",
      "        | US0_0 -> (* None *)\n",
      "            true\n",
      "        | _ ->\n",
      "            false\n",
      "    let v23 : bool = v22 <> true\n",
      "    let v25 : bool =\n",
      "        if v23 then\n",
      "            true\n",
      "        else\n",
      "            method1(v23)\n",
      "    let v26 : string = $\"__expect / actual: %A{v11} / expected: %A{v12}\"\n",
      "    let v27 : bool = v25 = false\n",
      "    if v27 then\n",
      "        failwith<unit> v26\n",
      "method0()\n",
      "\n",
      "\"/tmp/dotnet-repl/20240329-2208-3043-4332-49f5b95afab1\"\n"
     ]
    }
   ],
   "source": [
    "// // test\n",
    "\n",
    "create_temp_directory_name ()\n",
    "|> _contains ($'System.IO.Path.DirectorySeparatorChar' : char)"
   ]
  },
  {
   "cell_type": "markdown",
   "metadata": {},
   "source": [
    "## main"
   ]
  },
  {
   "cell_type": "code",
   "execution_count": null,
   "metadata": {
    "dotnet_interactive": {
     "language": "spiral"
    },
    "polyglot_notebook": {
     "kernelName": "spiral"
    }
   },
   "outputs": [
    {
     "name": "stdout",
     "output_type": "stream",
     "text": [
      "let rec closure0 () () : string =\n",
      "    let v0 : string = System.Reflection.Assembly.GetEntryAssembly().GetName().Name\n",
      "    let v1 : (unit -> string) = System.IO.Path.GetTempPath\n",
      "    let v2 : string = v1 ()\n",
      "    let v3 : string = $\"{v0}\"\n",
      "    let v4 : string = System.IO.Path.Combine (v2, v3)\n",
      "    let v5 : System.DateTime = System.DateTime.Now\n",
      "    let v6 : System.Guid = System.Guid.NewGuid ()\n",
      "    let v7 : string = v6.ToString ()\n",
      "    let v8 : string = v5.ToString \"yyyyMMdd-HHmm-ssff-ffff-f\"\n",
      "    let v9 : System.Guid = System.Guid $\"{v8}{v7.[v8.Length..]}\"\n",
      "    let v10 : string = v9.ToString ()\n",
      "    let v11 : string = System.IO.Path.Combine (v4, v10)\n",
      "    v11\n",
      "let v0 : (unit -> string) = closure0()\n",
      "let create_temp_directory_name x = v0 x\n",
      "()\n",
      "\n"
     ]
    }
   ],
   "source": [
    "inl main () =\n",
    "    $\"let create_temp_directory_name x = !create_temp_directory_name x\" : ()"
   ]
  }
 ],
 "metadata": {},
 "nbformat": 4,
 "nbformat_minor": 5
}