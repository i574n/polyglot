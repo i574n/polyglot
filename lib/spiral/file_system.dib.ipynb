{
 "cells": [
  {
   "cell_type": "markdown",
   "metadata": {},
   "source": [
    "# file_system"
   ]
  },
  {
   "cell_type": "code",
   "execution_count": null,
   "metadata": {
    "dotnet_interactive": {
     "language": "spiral"
    },
    "polyglot_notebook": {
     "kernelName": "spiral"
    }
   },
   "outputs": [
    {
     "name": "stdout",
     "output_type": "stream",
     "text": [
      "()\n",
      "\n"
     ]
    }
   ],
   "source": [
    "open rust_operators\n",
    "open sm'_operators"
   ]
  },
  {
   "cell_type": "code",
   "execution_count": null,
   "metadata": {
    "dotnet_interactive": {
     "language": "spiral"
    },
    "polyglot_notebook": {
     "kernelName": "spiral"
    }
   },
   "outputs": [
    {
     "name": "stdout",
     "output_type": "stream",
     "text": [
      "()\n",
      "\n"
     ]
    }
   ],
   "source": [
    "// // test\n",
    "\n",
    "open testing"
   ]
  },
  {
   "cell_type": "markdown",
   "metadata": {},
   "source": [
    "## types"
   ]
  },
  {
   "cell_type": "code",
   "execution_count": null,
   "metadata": {
    "dotnet_interactive": {
     "language": "spiral"
    },
    "polyglot_notebook": {
     "kernelName": "spiral"
    }
   },
   "outputs": [
    {
     "name": "stdout",
     "output_type": "stream",
     "text": [
      "()\n",
      "\n"
     ]
    }
   ],
   "source": [
    "inl types () =\n",
    "    global \"[<Fable.Core.Erase; Fable.Core.Emit(\\\"std::path::Path\\\")>] type std_path_Path = class end\"\n",
    "    global \"[<Fable.Core.Erase; Fable.Core.Emit(\\\"std::path::PathBuf\\\")>] type std_path_PathBuf = class end\""
   ]
  },
  {
   "cell_type": "code",
   "execution_count": null,
   "metadata": {
    "dotnet_interactive": {
     "language": "spiral"
    },
    "polyglot_notebook": {
     "kernelName": "spiral"
    }
   },
   "outputs": [
    {
     "name": "stdout",
     "output_type": "stream",
     "text": [
      "()\n",
      "\n"
     ]
    }
   ],
   "source": [
    "inl types () =\n",
    "    global \"#if FABLE_COMPILER // file_system.types\"\n",
    "    sm'.types ()\n",
    "    rust.types ()\n",
    "    types ()\n",
    "    global \"#endif // file_system.types\""
   ]
  },
  {
   "cell_type": "markdown",
   "metadata": {},
   "source": [
    "## path"
   ]
  },
  {
   "cell_type": "code",
   "execution_count": null,
   "metadata": {
    "dotnet_interactive": {
     "language": "spiral"
    },
    "polyglot_notebook": {
     "kernelName": "spiral"
    }
   },
   "outputs": [
    {
     "name": "stdout",
     "output_type": "stream",
     "text": [
      "()\n",
      "\n"
     ]
    }
   ],
   "source": [
    "nominal path = $'std_path_Path'\n",
    "nominal path_buf = $'std_path_PathBuf'"
   ]
  },
  {
   "cell_type": "markdown",
   "metadata": {},
   "source": [
    "## new_path_buf"
   ]
  },
  {
   "cell_type": "code",
   "execution_count": null,
   "metadata": {
    "dotnet_interactive": {
     "language": "spiral"
    },
    "polyglot_notebook": {
     "kernelName": "spiral"
    }
   },
   "outputs": [
    {
     "name": "stdout",
     "output_type": "stream",
     "text": [
      "()\n",
      "\n"
     ]
    }
   ],
   "source": [
    "inl new_path_buf (path : string) : path_buf =\n",
    "    inl path = path |> sm'.to_std_string\n",
    "    !\\\\(path, $'\"std::path::PathBuf::from($0)\"')"
   ]
  },
  {
   "cell_type": "markdown",
   "metadata": {},
   "source": [
    "## path_buf_from"
   ]
  },
  {
   "cell_type": "code",
   "execution_count": null,
   "metadata": {
    "dotnet_interactive": {
     "language": "spiral"
    },
    "polyglot_notebook": {
     "kernelName": "spiral"
    }
   },
   "outputs": [
    {
     "name": "stdout",
     "output_type": "stream",
     "text": [
      "()\n",
      "\n"
     ]
    }
   ],
   "source": [
    "inl path_buf_from (path : rust.box path) : path_buf =\n",
    "    !\\\\(path, $'\"std::path::PathBuf::from($0)\"')"
   ]
  },
  {
   "cell_type": "markdown",
   "metadata": {},
   "source": [
    "## path_join"
   ]
  },
  {
   "cell_type": "code",
   "execution_count": null,
   "metadata": {
    "dotnet_interactive": {
     "language": "spiral"
    },
    "polyglot_notebook": {
     "kernelName": "spiral"
    }
   },
   "outputs": [
    {
     "name": "stdout",
     "output_type": "stream",
     "text": [
      "()\n",
      "\n"
     ]
    }
   ],
   "source": [
    "inl path_join (s : string) (path_buf : path_buf) : path_buf =\n",
    "    !\\\\((path_buf, s |> sm'.to_std_string), $'\"$0.join($1)\"')"
   ]
  },
  {
   "cell_type": "markdown",
   "metadata": {},
   "source": [
    "## path_display"
   ]
  },
  {
   "cell_type": "code",
   "execution_count": null,
   "metadata": {
    "dotnet_interactive": {
     "language": "spiral"
    },
    "polyglot_notebook": {
     "kernelName": "spiral"
    }
   },
   "outputs": [
    {
     "name": "stdout",
     "output_type": "stream",
     "text": [
      "()\n",
      "\n"
     ]
    }
   ],
   "source": [
    "inl path_display (path : rust.ref' path) : sm'.std_string =\n",
    "    !\\\\(path, $'\"$0.display().to_string()\"')"
   ]
  },
  {
   "cell_type": "markdown",
   "metadata": {},
   "source": [
    "## path_buf_file_name"
   ]
  },
  {
   "cell_type": "code",
   "execution_count": null,
   "metadata": {
    "dotnet_interactive": {
     "language": "spiral"
    },
    "polyglot_notebook": {
     "kernelName": "spiral"
    }
   },
   "outputs": [
    {
     "name": "stdout",
     "output_type": "stream",
     "text": [
      "()\n",
      "\n"
     ]
    }
   ],
   "source": [
    "inl path_buf_file_name (path : path_buf) : optionm'.option' (rust.ref' sm'.os_str) =\n",
    "    !\\($'\"!path.file_name()\"')"
   ]
  },
  {
   "cell_type": "markdown",
   "metadata": {},
   "source": [
    "## path_buf_display"
   ]
  },
  {
   "cell_type": "code",
   "execution_count": null,
   "metadata": {
    "dotnet_interactive": {
     "language": "spiral"
    },
    "polyglot_notebook": {
     "kernelName": "spiral"
    }
   },
   "outputs": [
    {
     "name": "stdout",
     "output_type": "stream",
     "text": [
      "()\n",
      "\n"
     ]
    }
   ],
   "source": [
    "inl path_buf_display (path : path_buf) : sm'.std_string =\n",
    "    !\\\\(path, $'\"$0.display().to_string()\"')"
   ]
  },
  {
   "cell_type": "markdown",
   "metadata": {},
   "source": [
    "## path_exists"
   ]
  },
  {
   "cell_type": "code",
   "execution_count": null,
   "metadata": {
    "dotnet_interactive": {
     "language": "spiral"
    },
    "polyglot_notebook": {
     "kernelName": "spiral"
    }
   },
   "outputs": [
    {
     "name": "stdout",
     "output_type": "stream",
     "text": [
      "()\n",
      "\n"
     ]
    }
   ],
   "source": [
    "inl path_buf_exists (path_buf : path_buf) : bool =\n",
    "    !\\($'\"!path_buf.exists()\"')"
   ]
  },
  {
   "cell_type": "markdown",
   "metadata": {},
   "source": [
    "## path_is_dir"
   ]
  },
  {
   "cell_type": "code",
   "execution_count": null,
   "metadata": {
    "dotnet_interactive": {
     "language": "spiral"
    },
    "polyglot_notebook": {
     "kernelName": "spiral"
    }
   },
   "outputs": [
    {
     "name": "stdout",
     "output_type": "stream",
     "text": [
      "()\n",
      "\n"
     ]
    }
   ],
   "source": [
    "inl path_buf_is_dir (path_buf : path_buf) : bool =\n",
    "    !\\($'\"!path_buf.is_dir()\"')"
   ]
  },
  {
   "cell_type": "markdown",
   "metadata": {},
   "source": [
    "## path_is_file"
   ]
  },
  {
   "cell_type": "code",
   "execution_count": null,
   "metadata": {
    "dotnet_interactive": {
     "language": "spiral"
    },
    "polyglot_notebook": {
     "kernelName": "spiral"
    }
   },
   "outputs": [
    {
     "name": "stdout",
     "output_type": "stream",
     "text": [
      "()\n",
      "\n"
     ]
    }
   ],
   "source": [
    "inl path_buf_is_file (path_buf : path_buf) : bool =\n",
    "    !\\($'\"!path_buf.is_file()\"')"
   ]
  },
  {
   "cell_type": "markdown",
   "metadata": {},
   "source": [
    "## path_parent"
   ]
  },
  {
   "cell_type": "code",
   "execution_count": null,
   "metadata": {
    "dotnet_interactive": {
     "language": "spiral"
    },
    "polyglot_notebook": {
     "kernelName": "spiral"
    }
   },
   "outputs": [
    {
     "name": "stdout",
     "output_type": "stream",
     "text": [
      "()\n",
      "\n"
     ]
    }
   ],
   "source": [
    "inl path_buf_parent (path_buf : path_buf) : optionm'.option' path_buf =\n",
    "    !\\\\(path_buf, $'\"$0.parent().map(std::path::PathBuf::from)\"')"
   ]
  },
  {
   "cell_type": "markdown",
   "metadata": {},
   "source": [
    "## (< />)"
   ]
  },
  {
   "cell_type": "code",
   "execution_count": null,
   "metadata": {
    "dotnet_interactive": {
     "language": "spiral"
    },
    "polyglot_notebook": {
     "kernelName": "spiral"
    }
   },
   "outputs": [
    {
     "name": "stdout",
     "output_type": "stream",
     "text": [
      "()\n",
      "\n"
     ]
    }
   ],
   "source": [
    "inl (</>) (a : string) (b : string) : string =\n",
    "    run_target function\n",
    "        | Fsharp (Native) => fun () =>\n",
    "            $'System.IO.Path.Combine (!a, !b)'\n",
    "        | Rust (Native) => fun () =>\n",
    "            a |> new_path_buf |> path_join b |> path_buf_display |> sm'.from_std_string\n",
    "        | target => fun () => null ()"
   ]
  },
  {
   "cell_type": "markdown",
   "metadata": {},
   "source": [
    "## get_temp_path"
   ]
  },
  {
   "cell_type": "code",
   "execution_count": null,
   "metadata": {
    "dotnet_interactive": {
     "language": "spiral"
    },
    "polyglot_notebook": {
     "kernelName": "spiral"
    }
   },
   "outputs": [
    {
     "name": "stdout",
     "output_type": "stream",
     "text": [
      "()\n",
      "\n"
     ]
    }
   ],
   "source": [
    "inl get_temp_path () : string =\n",
    "    $'System.IO.Path.GetTempPath' ()"
   ]
  },
  {
   "cell_type": "markdown",
   "metadata": {},
   "source": [
    "## create_temp_directory_name"
   ]
  },
  {
   "cell_type": "code",
   "execution_count": null,
   "metadata": {
    "dotnet_interactive": {
     "language": "spiral"
    },
    "polyglot_notebook": {
     "kernelName": "spiral"
    }
   },
   "outputs": [
    {
     "name": "stdout",
     "output_type": "stream",
     "text": [
      "()\n",
      "\n"
     ]
    }
   ],
   "source": [
    "inl create_temp_directory_name () =\n",
    "    run_target function\n",
    "        | Fsharp (Native) => fun () =>\n",
    "            inl root = $'System.Reflection.Assembly.GetEntryAssembly().GetName().Name' : string\n",
    "\n",
    "            get_temp_path ()\n",
    "            </> ($'$\"\\!{!root}\"' : string)\n",
    "            </> (date_time.new_guid_from_date_time $'System.DateTime.Now' |> sm'.obj_to_string)\n",
    "        | target => fun () => null ()"
   ]
  },
  {
   "cell_type": "code",
   "execution_count": null,
   "metadata": {
    "dotnet_interactive": {
     "language": "spiral"
    },
    "polyglot_notebook": {
     "kernelName": "spiral"
    }
   },
   "outputs": [
    {
     "name": "stdout",
     "output_type": "stream",
     "text": [
      "type [<Struct>] US0 =\n",
      "    | US0_0 of f0_0 : char\n",
      "    | US0_1\n",
      "let rec method1 (v0 : string) : string =\n",
      "    v0\n",
      "and closure0 (v0 : char) (v1 : char) : bool =\n",
      "    let v2 : bool = v0 = v1\n",
      "    v2\n",
      "and closure1 () (v0 : char) : US0 =\n",
      "    US0_0(v0)\n",
      "and method2 () : (char -> US0) =\n",
      "    closure1()\n",
      "and method3 (v0 : bool) : bool =\n",
      "    v0\n",
      "and method0 () : unit =\n",
      "    let v0 : string option = None\n",
      "    let mutable _v0 = v0\n",
      "    #if FABLE_COMPILER_RUST && !WASM && !CONTRACT\n",
      "    let v1 : string = null |> unbox<string>\n",
      "    v1\n",
      "    #endif\n",
      "    #if FABLE_COMPILER_RUST && WASM\n",
      "    let v2 : string = null |> unbox<string>\n",
      "    v2\n",
      "    #endif\n",
      "    #if FABLE_COMPILER_RUST && CONTRACT\n",
      "    let v3 : string = null |> unbox<string>\n",
      "    v3\n",
      "    #endif\n",
      "    #if !FABLE_COMPILER && !FABLE_COMPILER_RUST && !WASM\n",
      "    let v4 : string = System.Reflection.Assembly.GetEntryAssembly().GetName().Name\n",
      "    let v5 : (unit -> string) = System.IO.Path.GetTempPath\n",
      "    let v6 : string = v5 ()\n",
      "    let v7 : string = $\"!{v4}\"\n",
      "    let v8 : string option = None\n",
      "    let mutable _v8 = v8\n",
      "    #if FABLE_COMPILER_RUST && !WASM && !CONTRACT\n",
      "    let v9 : string = method1(v6)\n",
      "    let v10 : string = \"fable_library_rust::String_::LrcStr::as_str(&$0)\"\n",
      "    let v11 : Ref<Str> = Fable.Core.RustInterop.emitRustExpr v9 v10\n",
      "    let v12 : string = \"String::from($0)\"\n",
      "    let v13 : std_string_String = Fable.Core.RustInterop.emitRustExpr v11 v12\n",
      "    let v14 : string = \"std::path::PathBuf::from($0)\"\n",
      "    let v15 : std_path_PathBuf = Fable.Core.RustInterop.emitRustExpr v13 v14\n",
      "    let v16 : string = method1(v7)\n",
      "    let v17 : string = \"fable_library_rust::String_::LrcStr::as_str(&$0)\"\n",
      "    let v18 : Ref<Str> = Fable.Core.RustInterop.emitRustExpr v16 v17\n",
      "    let v19 : string = \"String::from($0)\"\n",
      "    let v20 : std_string_String = Fable.Core.RustInterop.emitRustExpr v18 v19\n",
      "    let v21 : string = \"$0.join($1)\"\n",
      "    let v22 : std_path_PathBuf = Fable.Core.RustInterop.emitRustExpr struct (v15, v20) v21\n",
      "    let v23 : string = \"$0.display().to_string()\"\n",
      "    let v24 : std_string_String = Fable.Core.RustInterop.emitRustExpr v22 v23\n",
      "    let v25 : string = \"fable_library_rust::String_::fromString($0)\"\n",
      "    let v26 : string = Fable.Core.RustInterop.emitRustExpr v24 v25\n",
      "    v26\n",
      "    #endif\n",
      "    #if FABLE_COMPILER_RUST && WASM\n",
      "    let v27 : string = null |> unbox<string>\n",
      "    v27\n",
      "    #endif\n",
      "    #if FABLE_COMPILER_RUST && CONTRACT\n",
      "    let v28 : string = null |> unbox<string>\n",
      "    v28\n",
      "    #endif\n",
      "    #if !FABLE_COMPILER && !FABLE_COMPILER_RUST && !WASM\n",
      "    let v29 : string = System.IO.Path.Combine (v6, v7)\n",
      "    v29\n",
      "    #endif\n",
      "    #if FABLE_COMPILER && !FABLE_COMPILER_RUST && !WASM\n",
      "    let v30 : string = null |> unbox<string>\n",
      "    v30\n",
      "    #endif\n",
      "    #if !FABLE_COMPILER_RUST && WASM\n",
      "    let v31 : string = null |> unbox<string>\n",
      "    v31\n",
      "    #endif\n",
      "    |> fun x -> _v8 <- Some x\n",
      "    let v32 : string = _v8 |> Option.get\n",
      "    let v33 : System.DateTime = System.DateTime.Now\n",
      "    let v34 : System.Guid = System.Guid.NewGuid ()\n",
      "    let v35 : (System.Guid -> string) = _.ToString()\n",
      "    let v36 : string = v35 v34\n",
      "    let v37 : string = v33.ToString \"yyyyMMdd-HHmm-ssff-ffff-f\"\n",
      "    let v38 : System.Guid = System.Guid $\"{v37}{v36.[v37.Length..]}\"\n",
      "    let v39 : (System.Guid -> string) = _.ToString()\n",
      "    let v40 : string = v39 v38\n",
      "    let v41 : string option = None\n",
      "    let mutable _v41 = v41\n",
      "    #if FABLE_COMPILER_RUST && !WASM && !CONTRACT\n",
      "    let v42 : string = method1(v32)\n",
      "    let v43 : string = \"fable_library_rust::String_::LrcStr::as_str(&$0)\"\n",
      "    let v44 : Ref<Str> = Fable.Core.RustInterop.emitRustExpr v42 v43\n",
      "    let v45 : string = \"String::from($0)\"\n",
      "    let v46 : std_string_String = Fable.Core.RustInterop.emitRustExpr v44 v45\n",
      "    let v47 : string = \"std::path::PathBuf::from($0)\"\n",
      "    let v48 : std_path_PathBuf = Fable.Core.RustInterop.emitRustExpr v46 v47\n",
      "    let v49 : string = method1(v40)\n",
      "    let v50 : string = \"fable_library_rust::String_::LrcStr::as_str(&$0)\"\n",
      "    let v51 : Ref<Str> = Fable.Core.RustInterop.emitRustExpr v49 v50\n",
      "    let v52 : string = \"String::from($0)\"\n",
      "    let v53 : std_string_String = Fable.Core.RustInterop.emitRustExpr v51 v52\n",
      "    let v54 : string = \"$0.join($1)\"\n",
      "    let v55 : std_path_PathBuf = Fable.Core.RustInterop.emitRustExpr struct (v48, v53) v54\n",
      "    let v56 : string = \"$0.display().to_string()\"\n",
      "    let v57 : std_string_String = Fable.Core.RustInterop.emitRustExpr v55 v56\n",
      "    let v58 : string = \"fable_library_rust::String_::fromString($0)\"\n",
      "    let v59 : string = Fable.Core.RustInterop.emitRustExpr v57 v58\n",
      "    v59\n",
      "    #endif\n",
      "    #if FABLE_COMPILER_RUST && WASM\n",
      "    let v60 : string = null |> unbox<string>\n",
      "    v60\n",
      "    #endif\n",
      "    #if FABLE_COMPILER_RUST && CONTRACT\n",
      "    let v61 : string = null |> unbox<string>\n",
      "    v61\n",
      "    #endif\n",
      "    #if !FABLE_COMPILER && !FABLE_COMPILER_RUST && !WASM\n",
      "    let v62 : string = System.IO.Path.Combine (v32, v40)\n",
      "    v62\n",
      "    #endif\n",
      "    #if FABLE_COMPILER && !FABLE_COMPILER_RUST && !WASM\n",
      "    let v63 : string = null |> unbox<string>\n",
      "    v63\n",
      "    #endif\n",
      "    #if !FABLE_COMPILER_RUST && WASM\n",
      "    let v64 : string = null |> unbox<string>\n",
      "    v64\n",
      "    #endif\n",
      "    |> fun x -> _v41 <- Some x\n",
      "    let v65 : string = _v41 |> Option.get\n",
      "    v65\n",
      "    #endif\n",
      "    #if FABLE_COMPILER && !FABLE_COMPILER_RUST && !WASM\n",
      "    let v66 : string = null |> unbox<string>\n",
      "    v66\n",
      "    #endif\n",
      "    #if !FABLE_COMPILER_RUST && WASM\n",
      "    let v67 : string = null |> unbox<string>\n",
      "    v67\n",
      "    #endif\n",
      "    |> fun x -> _v0 <- Some x\n",
      "    let v68 : string = _v0 |> Option.get\n",
      "    let v69 : char = System.IO.Path.DirectorySeparatorChar\n",
      "    let v70 : string = $\"%A{v68}\"\n",
      "    System.Console.WriteLine v70\n",
      "    let v71 : ((char -> bool) -> (string -> char option)) = Seq.tryFind\n",
      "    let v72 : (char -> bool) = closure0(v69)\n",
      "    let v73 : (string -> char option) = v71 v72\n",
      "    let v74 : char option = v73 v68\n",
      "    let v75 : (char -> US0) = method2()\n",
      "    let v76 : US0 = US0_1\n",
      "    let v77 : US0 = v74 |> Option.map v75 |> Option.defaultValue v76\n",
      "    let v79 : bool =\n",
      "        match v77 with\n",
      "        | US0_1 -> (* None *)\n",
      "            true\n",
      "        | _ ->\n",
      "            false\n",
      "    let v80 : bool = v79 <> true\n",
      "    let v82 : bool =\n",
      "        if v80 then\n",
      "            true\n",
      "        else\n",
      "            method3(v80)\n",
      "    let v83 : string = $\"__expect / actual: %A{v68} / expected: %A{v69}\"\n",
      "    let v84 : bool = v82 = false\n",
      "    if v84 then\n",
      "        failwith<unit> v83\n",
      "method0()\n",
      "\n",
      "\"/tmp/!dotnet-repl/20240404-1746-1546-4624-408a3871e7ce\"\n"
     ]
    }
   ],
   "source": [
    "// // test\n",
    "\n",
    "create_temp_directory_name ()\n",
    "|> _contains ($'System.IO.Path.DirectorySeparatorChar' : char)"
   ]
  },
  {
   "cell_type": "markdown",
   "metadata": {},
   "source": [
    "## directory_info"
   ]
  },
  {
   "cell_type": "code",
   "execution_count": null,
   "metadata": {
    "dotnet_interactive": {
     "language": "spiral"
    },
    "polyglot_notebook": {
     "kernelName": "spiral"
    }
   },
   "outputs": [
    {
     "name": "stdout",
     "output_type": "stream",
     "text": [
      "()\n",
      "\n"
     ]
    }
   ],
   "source": [
    "nominal directory_info = $'System.IO.DirectoryInfo'\n",
    "\n",
    "inl directory_info (path : string) : directory_info =\n",
    "    path |> $'`directory_info '"
   ]
  },
  {
   "cell_type": "markdown",
   "metadata": {},
   "source": [
    "## directory_info_exists"
   ]
  },
  {
   "cell_type": "code",
   "execution_count": null,
   "metadata": {
    "dotnet_interactive": {
     "language": "spiral"
    },
    "polyglot_notebook": {
     "kernelName": "spiral"
    }
   },
   "outputs": [
    {
     "name": "stdout",
     "output_type": "stream",
     "text": [
      "()\n",
      "\n"
     ]
    }
   ],
   "source": [
    "inl directory_info_exists (info : directory_info) : bool =\n",
    "    run_target function\n",
    "        | Fsharp (Native) => fun () =>\n",
    "            $'!info.Exists'\n",
    "        | target => fun () => null ()"
   ]
  },
  {
   "cell_type": "markdown",
   "metadata": {},
   "source": [
    "## directory_info_creation_time"
   ]
  },
  {
   "cell_type": "code",
   "execution_count": null,
   "metadata": {
    "dotnet_interactive": {
     "language": "spiral"
    },
    "polyglot_notebook": {
     "kernelName": "spiral"
    }
   },
   "outputs": [
    {
     "name": "stdout",
     "output_type": "stream",
     "text": [
      "()\n",
      "\n"
     ]
    }
   ],
   "source": [
    "inl directory_info_creation_time (info : directory_info) : date_time.date_time =\n",
    "    run_target function\n",
    "        | Fsharp (Native) => fun () =>\n",
    "            $'!info.CreationTime'\n",
    "        | target => fun () => null ()"
   ]
  },
  {
   "cell_type": "markdown",
   "metadata": {},
   "source": [
    "## directory_info_name"
   ]
  },
  {
   "cell_type": "code",
   "execution_count": null,
   "metadata": {
    "dotnet_interactive": {
     "language": "spiral"
    },
    "polyglot_notebook": {
     "kernelName": "spiral"
    }
   },
   "outputs": [
    {
     "name": "stdout",
     "output_type": "stream",
     "text": [
      "()\n",
      "\n"
     ]
    }
   ],
   "source": [
    "inl directory_info_name (info : directory_info) : string =\n",
    "    run_target function\n",
    "        | Fsharp (Native) => fun () =>\n",
    "            $'!info.Name'\n",
    "        | target => fun () => null ()"
   ]
  },
  {
   "cell_type": "markdown",
   "metadata": {},
   "source": [
    "## directory_info_full_name"
   ]
  },
  {
   "cell_type": "code",
   "execution_count": null,
   "metadata": {
    "dotnet_interactive": {
     "language": "spiral"
    },
    "polyglot_notebook": {
     "kernelName": "spiral"
    }
   },
   "outputs": [
    {
     "name": "stdout",
     "output_type": "stream",
     "text": [
      "()\n",
      "\n"
     ]
    }
   ],
   "source": [
    "inl directory_info_full_name (info : directory_info) : string =\n",
    "    run_target function\n",
    "        | Fsharp (Native) => fun () =>\n",
    "            $'!info.FullName'\n",
    "        | target => fun () => null ()"
   ]
  },
  {
   "cell_type": "markdown",
   "metadata": {},
   "source": [
    "## create_directory"
   ]
  },
  {
   "cell_type": "code",
   "execution_count": null,
   "metadata": {
    "dotnet_interactive": {
     "language": "spiral"
    },
    "polyglot_notebook": {
     "kernelName": "spiral"
    }
   },
   "outputs": [
    {
     "name": "stdout",
     "output_type": "stream",
     "text": [
      "()\n",
      "\n"
     ]
    }
   ],
   "source": [
    "inl create_directory (path : string) : directory_info =\n",
    "    run_target function\n",
    "        | Fsharp (Native) => fun () =>\n",
    "            path |> $'System.IO.Directory.CreateDirectory'\n",
    "        | target => fun () => null ()"
   ]
  },
  {
   "cell_type": "markdown",
   "metadata": {},
   "source": [
    "## directory_exists"
   ]
  },
  {
   "cell_type": "code",
   "execution_count": null,
   "metadata": {
    "dotnet_interactive": {
     "language": "spiral"
    },
    "polyglot_notebook": {
     "kernelName": "spiral"
    }
   },
   "outputs": [
    {
     "name": "stdout",
     "output_type": "stream",
     "text": [
      "()\n",
      "\n"
     ]
    }
   ],
   "source": [
    "inl directory_exists (path : string) : bool =\n",
    "    run_target function\n",
    "        | Fsharp (Native) => fun () =>\n",
    "            path |> $'System.IO.Directory.Exists'\n",
    "        | Rust (Native) => fun () =>\n",
    "            inl path = path |> new_path_buf\n",
    "            (path |> path_buf_exists) && (path |> path_buf_is_dir)\n",
    "        | target => fun () => null ()"
   ]
  },
  {
   "cell_type": "markdown",
   "metadata": {},
   "source": [
    "## directory_get_parent"
   ]
  },
  {
   "cell_type": "code",
   "execution_count": null,
   "metadata": {
    "dotnet_interactive": {
     "language": "spiral"
    },
    "polyglot_notebook": {
     "kernelName": "spiral"
    }
   },
   "outputs": [
    {
     "name": "stdout",
     "output_type": "stream",
     "text": [
      "()\n",
      "\n"
     ]
    }
   ],
   "source": [
    "inl directory_get_parent (path : string) : optionm'.option' string =\n",
    "    run_target function\n",
    "        | Fsharp (Native) => fun () =>\n",
    "            inl parent : directory_info = path |> $'System.IO.Directory.GetParent'\n",
    "            if parent =. null ()\n",
    "            then None\n",
    "            else parent |> directory_info_full_name |> Some\n",
    "        | Rust (Native) => fun () =>\n",
    "            path\n",
    "            |> new_path_buf\n",
    "            |> path_buf_parent\n",
    "            |> optionm'.try'\n",
    "            |> path_buf_display\n",
    "            |> sm'.from_std_string\n",
    "            |> Some\n",
    "        | target => fun () => null ()\n",
    "    |> optionm'.box"
   ]
  },
  {
   "cell_type": "markdown",
   "metadata": {},
   "source": [
    "## file_exists"
   ]
  },
  {
   "cell_type": "code",
   "execution_count": null,
   "metadata": {
    "dotnet_interactive": {
     "language": "spiral"
    },
    "polyglot_notebook": {
     "kernelName": "spiral"
    }
   },
   "outputs": [
    {
     "name": "stdout",
     "output_type": "stream",
     "text": [
      "()\n",
      "\n"
     ]
    }
   ],
   "source": [
    "inl file_exists (path : string) : bool =\n",
    "    run_target function\n",
    "        | Fsharp (Native) => fun () =>\n",
    "            path |> $'System.IO.File.Exists'\n",
    "        | Rust (Native) => fun () =>\n",
    "            inl path_buf = path |> new_path_buf\n",
    "            (path_buf |> path_buf_exists) && (path_buf |> path_buf_is_file)\n",
    "        | target => fun () => null ()"
   ]
  },
  {
   "cell_type": "markdown",
   "metadata": {},
   "source": [
    "## create_temp_directory"
   ]
  },
  {
   "cell_type": "code",
   "execution_count": null,
   "metadata": {
    "dotnet_interactive": {
     "language": "spiral"
    },
    "polyglot_notebook": {
     "kernelName": "spiral"
    }
   },
   "outputs": [
    {
     "name": "stdout",
     "output_type": "stream",
     "text": [
      "()\n",
      "\n"
     ]
    }
   ],
   "source": [
    "inl create_temp_directory () =\n",
    "    run_target function\n",
    "        | Fsharp (Native) => fun () =>\n",
    "            inl temp_folder = create_temp_directory_name ()\n",
    "            inl result = temp_folder |> create_directory\n",
    "\n",
    "            inl exists' = result |> directory_info_exists\n",
    "            if not exists' then\n",
    "                inl creation_time = result |> directory_info_creation_time\n",
    "                inl result = ($'{| Exists = !exists'; CreationTime = !creation_time |}' : any) |> sm'.format_debug\n",
    "                inl get_locals () : string =\n",
    "                    $'$\"temp_folder: {!temp_folder} / result: {!result} {!get_locals ()}\"'\n",
    "                // trace Debug (fun () => \"createTempDirectory\") get_locals\n",
    "                console.write_line ($'$\"create_temp_directory / {!get_locals ()}\"' : string)\n",
    "\n",
    "            temp_folder\n",
    "        | target => fun () => null ()"
   ]
  },
  {
   "cell_type": "code",
   "execution_count": null,
   "metadata": {
    "dotnet_interactive": {
     "language": "spiral"
    },
    "polyglot_notebook": {
     "kernelName": "spiral"
    }
   },
   "outputs": [
    {
     "name": "stdout",
     "output_type": "stream",
     "text": [
      "let rec method1 (v0 : string) : string =\n",
      "    v0\n",
      "and closure1 () () : string =\n",
      "    let v0 : string = \"\"\n",
      "    v0\n",
      "and closure0 (v0 : string, v1 : string) () : string =\n",
      "    let v2 : (unit -> string) = closure1()\n",
      "    let v3 : string = $\"temp_folder: {v0} / result: {v1} {v2 ()}\"\n",
      "    v3\n",
      "and method2 (v0 : bool) : bool =\n",
      "    v0\n",
      "and method0 () : unit =\n",
      "    let v0 : string option = None\n",
      "    let mutable _v0 = v0\n",
      "    #if FABLE_COMPILER_RUST && !WASM && !CONTRACT\n",
      "    let v1 : string = null |> unbox<string>\n",
      "    v1\n",
      "    #endif\n",
      "    #if FABLE_COMPILER_RUST && WASM\n",
      "    let v2 : string = null |> unbox<string>\n",
      "    v2\n",
      "    #endif\n",
      "    #if FABLE_COMPILER_RUST && CONTRACT\n",
      "    let v3 : string = null |> unbox<string>\n",
      "    v3\n",
      "    #endif\n",
      "    #if !FABLE_COMPILER && !FABLE_COMPILER_RUST && !WASM\n",
      "    let v4 : string option = None\n",
      "    let mutable _v4 = v4\n",
      "    #if FABLE_COMPILER_RUST && !WASM && !CONTRACT\n",
      "    let v5 : string = null |> unbox<string>\n",
      "    v5\n",
      "    #endif\n",
      "    #if FABLE_COMPILER_RUST && WASM\n",
      "    let v6 : string = null |> unbox<string>\n",
      "    v6\n",
      "    #endif\n",
      "    #if FABLE_COMPILER_RUST && CONTRACT\n",
      "    let v7 : string = null |> unbox<string>\n",
      "    v7\n",
      "    #endif\n",
      "    #if !FABLE_COMPILER && !FABLE_COMPILER_RUST && !WASM\n",
      "    let v8 : string = System.Reflection.Assembly.GetEntryAssembly().GetName().Name\n",
      "    let v9 : (unit -> string) = System.IO.Path.GetTempPath\n",
      "    let v10 : string = v9 ()\n",
      "    let v11 : string = $\"!{v8}\"\n",
      "    let v12 : string option = None\n",
      "    let mutable _v12 = v12\n",
      "    #if FABLE_COMPILER_RUST && !WASM && !CONTRACT\n",
      "    let v13 : string = method1(v10)\n",
      "    let v14 : string = \"fable_library_rust::String_::LrcStr::as_str(&$0)\"\n",
      "    let v15 : Ref<Str> = Fable.Core.RustInterop.emitRustExpr v13 v14\n",
      "    let v16 : string = \"String::from($0)\"\n",
      "    let v17 : std_string_String = Fable.Core.RustInterop.emitRustExpr v15 v16\n",
      "    let v18 : string = \"std::path::PathBuf::from($0)\"\n",
      "    let v19 : std_path_PathBuf = Fable.Core.RustInterop.emitRustExpr v17 v18\n",
      "    let v20 : string = method1(v11)\n",
      "    let v21 : string = \"fable_library_rust::String_::LrcStr::as_str(&$0)\"\n",
      "    let v22 : Ref<Str> = Fable.Core.RustInterop.emitRustExpr v20 v21\n",
      "    let v23 : string = \"String::from($0)\"\n",
      "    let v24 : std_string_String = Fable.Core.RustInterop.emitRustExpr v22 v23\n",
      "    let v25 : string = \"$0.join($1)\"\n",
      "    let v26 : std_path_PathBuf = Fable.Core.RustInterop.emitRustExpr struct (v19, v24) v25\n",
      "    let v27 : string = \"$0.display().to_string()\"\n",
      "    let v28 : std_string_String = Fable.Core.RustInterop.emitRustExpr v26 v27\n",
      "    let v29 : string = \"fable_library_rust::String_::fromString($0)\"\n",
      "    let v30 : string = Fable.Core.RustInterop.emitRustExpr v28 v29\n",
      "    v30\n",
      "    #endif\n",
      "    #if FABLE_COMPILER_RUST && WASM\n",
      "    let v31 : string = null |> unbox<string>\n",
      "    v31\n",
      "    #endif\n",
      "    #if FABLE_COMPILER_RUST && CONTRACT\n",
      "    let v32 : string = null |> unbox<string>\n",
      "    v32\n",
      "    #endif\n",
      "    #if !FABLE_COMPILER && !FABLE_COMPILER_RUST && !WASM\n",
      "    let v33 : string = System.IO.Path.Combine (v10, v11)\n",
      "    v33\n",
      "    #endif\n",
      "    #if FABLE_COMPILER && !FABLE_COMPILER_RUST && !WASM\n",
      "    let v34 : string = null |> unbox<string>\n",
      "    v34\n",
      "    #endif\n",
      "    #if !FABLE_COMPILER_RUST && WASM\n",
      "    let v35 : string = null |> unbox<string>\n",
      "    v35\n",
      "    #endif\n",
      "    |> fun x -> _v12 <- Some x\n",
      "    let v36 : string = _v12 |> Option.get\n",
      "    let v37 : System.DateTime = System.DateTime.Now\n",
      "    let v38 : System.Guid = System.Guid.NewGuid ()\n",
      "    let v39 : (System.Guid -> string) = _.ToString()\n",
      "    let v40 : string = v39 v38\n",
      "    let v41 : string = v37.ToString \"yyyyMMdd-HHmm-ssff-ffff-f\"\n",
      "    let v42 : System.Guid = System.Guid $\"{v41}{v40.[v41.Length..]}\"\n",
      "    let v43 : (System.Guid -> string) = _.ToString()\n",
      "    let v44 : string = v43 v42\n",
      "    let v45 : string option = None\n",
      "    let mutable _v45 = v45\n",
      "    #if FABLE_COMPILER_RUST && !WASM && !CONTRACT\n",
      "    let v46 : string = method1(v36)\n",
      "    let v47 : string = \"fable_library_rust::String_::LrcStr::as_str(&$0)\"\n",
      "    let v48 : Ref<Str> = Fable.Core.RustInterop.emitRustExpr v46 v47\n",
      "    let v49 : string = \"String::from($0)\"\n",
      "    let v50 : std_string_String = Fable.Core.RustInterop.emitRustExpr v48 v49\n",
      "    let v51 : string = \"std::path::PathBuf::from($0)\"\n",
      "    let v52 : std_path_PathBuf = Fable.Core.RustInterop.emitRustExpr v50 v51\n",
      "    let v53 : string = method1(v44)\n",
      "    let v54 : string = \"fable_library_rust::String_::LrcStr::as_str(&$0)\"\n",
      "    let v55 : Ref<Str> = Fable.Core.RustInterop.emitRustExpr v53 v54\n",
      "    let v56 : string = \"String::from($0)\"\n",
      "    let v57 : std_string_String = Fable.Core.RustInterop.emitRustExpr v55 v56\n",
      "    let v58 : string = \"$0.join($1)\"\n",
      "    let v59 : std_path_PathBuf = Fable.Core.RustInterop.emitRustExpr struct (v52, v57) v58\n",
      "    let v60 : string = \"$0.display().to_string()\"\n",
      "    let v61 : std_string_String = Fable.Core.RustInterop.emitRustExpr v59 v60\n",
      "    let v62 : string = \"fable_library_rust::String_::fromString($0)\"\n",
      "    let v63 : string = Fable.Core.RustInterop.emitRustExpr v61 v62\n",
      "    v63\n",
      "    #endif\n",
      "    #if FABLE_COMPILER_RUST && WASM\n",
      "    let v64 : string = null |> unbox<string>\n",
      "    v64\n",
      "    #endif\n",
      "    #if FABLE_COMPILER_RUST && CONTRACT\n",
      "    let v65 : string = null |> unbox<string>\n",
      "    v65\n",
      "    #endif\n",
      "    #if !FABLE_COMPILER && !FABLE_COMPILER_RUST && !WASM\n",
      "    let v66 : string = System.IO.Path.Combine (v36, v44)\n",
      "    v66\n",
      "    #endif\n",
      "    #if FABLE_COMPILER && !FABLE_COMPILER_RUST && !WASM\n",
      "    let v67 : string = null |> unbox<string>\n",
      "    v67\n",
      "    #endif\n",
      "    #if !FABLE_COMPILER_RUST && WASM\n",
      "    let v68 : string = null |> unbox<string>\n",
      "    v68\n",
      "    #endif\n",
      "    |> fun x -> _v45 <- Some x\n",
      "    let v69 : string = _v45 |> Option.get\n",
      "    v69\n",
      "    #endif\n",
      "    #if FABLE_COMPILER && !FABLE_COMPILER_RUST && !WASM\n",
      "    let v70 : string = null |> unbox<string>\n",
      "    v70\n",
      "    #endif\n",
      "    #if !FABLE_COMPILER_RUST && WASM\n",
      "    let v71 : string = null |> unbox<string>\n",
      "    v71\n",
      "    #endif\n",
      "    |> fun x -> _v4 <- Some x\n",
      "    let v72 : string = _v4 |> Option.get\n",
      "    let v73 : System.IO.DirectoryInfo option = None\n",
      "    let mutable _v73 = v73\n",
      "    #if FABLE_COMPILER_RUST && !WASM && !CONTRACT\n",
      "    let v74 : System.IO.DirectoryInfo = null |> unbox<System.IO.DirectoryInfo>\n",
      "    v74\n",
      "    #endif\n",
      "    #if FABLE_COMPILER_RUST && WASM\n",
      "    let v75 : System.IO.DirectoryInfo = null |> unbox<System.IO.DirectoryInfo>\n",
      "    v75\n",
      "    #endif\n",
      "    #if FABLE_COMPILER_RUST && CONTRACT\n",
      "    let v76 : System.IO.DirectoryInfo = null |> unbox<System.IO.DirectoryInfo>\n",
      "    v76\n",
      "    #endif\n",
      "    #if !FABLE_COMPILER && !FABLE_COMPILER_RUST && !WASM\n",
      "    let v77 : (string -> System.IO.DirectoryInfo) = System.IO.Directory.CreateDirectory\n",
      "    let v78 : System.IO.DirectoryInfo = v77 v72\n",
      "    v78\n",
      "    #endif\n",
      "    #if FABLE_COMPILER && !FABLE_COMPILER_RUST && !WASM\n",
      "    let v79 : System.IO.DirectoryInfo = null |> unbox<System.IO.DirectoryInfo>\n",
      "    v79\n",
      "    #endif\n",
      "    #if !FABLE_COMPILER_RUST && WASM\n",
      "    let v80 : System.IO.DirectoryInfo = null |> unbox<System.IO.DirectoryInfo>\n",
      "    v80\n",
      "    #endif\n",
      "    |> fun x -> _v73 <- Some x\n",
      "    let v81 : System.IO.DirectoryInfo = _v73 |> Option.get\n",
      "    let v82 : bool option = None\n",
      "    let mutable _v82 = v82\n",
      "    #if FABLE_COMPILER_RUST && !WASM && !CONTRACT\n",
      "    let v83 : bool = null |> unbox<bool>\n",
      "    v83\n",
      "    #endif\n",
      "    #if FABLE_COMPILER_RUST && WASM\n",
      "    let v84 : bool = null |> unbox<bool>\n",
      "    v84\n",
      "    #endif\n",
      "    #if FABLE_COMPILER_RUST && CONTRACT\n",
      "    let v85 : bool = null |> unbox<bool>\n",
      "    v85\n",
      "    #endif\n",
      "    #if !FABLE_COMPILER && !FABLE_COMPILER_RUST && !WASM\n",
      "    let v86 : bool = v81.Exists\n",
      "    v86\n",
      "    #endif\n",
      "    #if FABLE_COMPILER && !FABLE_COMPILER_RUST && !WASM\n",
      "    let v87 : bool = null |> unbox<bool>\n",
      "    v87\n",
      "    #endif\n",
      "    #if !FABLE_COMPILER_RUST && WASM\n",
      "    let v88 : bool = null |> unbox<bool>\n",
      "    v88\n",
      "    #endif\n",
      "    |> fun x -> _v82 <- Some x\n",
      "    let v89 : bool = _v82 |> Option.get\n",
      "    let v90 : bool = v89 = false\n",
      "    if v90 then\n",
      "        let v91 : System.DateTime option = None\n",
      "        let mutable _v91 = v91\n",
      "        #if FABLE_COMPILER_RUST && !WASM && !CONTRACT\n",
      "        let v92 : System.DateTime = null |> unbox<System.DateTime>\n",
      "        v92\n",
      "        #endif\n",
      "        #if FABLE_COMPILER_RUST && WASM\n",
      "        let v93 : System.DateTime = null |> unbox<System.DateTime>\n",
      "        v93\n",
      "        #endif\n",
      "        #if FABLE_COMPILER_RUST && CONTRACT\n",
      "        let v94 : System.DateTime = null |> unbox<System.DateTime>\n",
      "        v94\n",
      "        #endif\n",
      "        #if !FABLE_COMPILER && !FABLE_COMPILER_RUST && !WASM\n",
      "        let v95 : System.DateTime = v81.CreationTime\n",
      "        v95\n",
      "        #endif\n",
      "        #if FABLE_COMPILER && !FABLE_COMPILER_RUST && !WASM\n",
      "        let v96 : System.DateTime = null |> unbox<System.DateTime>\n",
      "        v96\n",
      "        #endif\n",
      "        #if !FABLE_COMPILER_RUST && WASM\n",
      "        let v97 : System.DateTime = null |> unbox<System.DateTime>\n",
      "        v97\n",
      "        #endif\n",
      "        |> fun x -> _v91 <- Some x\n",
      "        let v98 : System.DateTime = _v91 |> Option.get\n",
      "        let v99 : obj = {| Exists = v89; CreationTime = v98 |}\n",
      "        let v100 : string = $\"%A{v99}\"\n",
      "        let v101 : (unit -> string) = closure0(v72, v100)\n",
      "        let v102 : string = $\"create_temp_directory / {v101 ()}\"\n",
      "        System.Console.WriteLine v102\n",
      "        ()\n",
      "    v72\n",
      "    #endif\n",
      "    #if FABLE_COMPILER && !FABLE_COMPILER_RUST && !WASM\n",
      "    let v103 : string = null |> unbox<string>\n",
      "    v103\n",
      "    #endif\n",
      "    #if !FABLE_COMPILER_RUST && WASM\n",
      "    let v104 : string = null |> unbox<string>\n",
      "    v104\n",
      "    #endif\n",
      "    |> fun x -> _v0 <- Some x\n",
      "    let v105 : string = _v0 |> Option.get\n",
      "    let v106 : bool option = None\n",
      "    let mutable _v106 = v106\n",
      "    #if FABLE_COMPILER_RUST && !WASM && !CONTRACT\n",
      "    let v107 : string = method1(v105)\n",
      "    let v108 : string = \"fable_library_rust::String_::LrcStr::as_str(&$0)\"\n",
      "    let v109 : Ref<Str> = Fable.Core.RustInterop.emitRustExpr v107 v108\n",
      "    let v110 : string = \"String::from($0)\"\n",
      "    let v111 : std_string_String = Fable.Core.RustInterop.emitRustExpr v109 v110\n",
      "    let v112 : string = \"std::path::PathBuf::from($0)\"\n",
      "    let v113 : std_path_PathBuf = Fable.Core.RustInterop.emitRustExpr v111 v112\n",
      "    let v114 : string = \"v113.exists()\"\n",
      "    let v115 : bool = Fable.Core.RustInterop.emitRustExpr () v114\n",
      "    let v118 : bool =\n",
      "        if v115 then\n",
      "            let v116 : string = \"v113.is_dir()\"\n",
      "            let v117 : bool = Fable.Core.RustInterop.emitRustExpr () v116\n",
      "            v117\n",
      "        else\n",
      "            false\n",
      "    v118\n",
      "    #endif\n",
      "    #if FABLE_COMPILER_RUST && WASM\n",
      "    let v119 : bool = null |> unbox<bool>\n",
      "    v119\n",
      "    #endif\n",
      "    #if FABLE_COMPILER_RUST && CONTRACT\n",
      "    let v120 : bool = null |> unbox<bool>\n",
      "    v120\n",
      "    #endif\n",
      "    #if !FABLE_COMPILER && !FABLE_COMPILER_RUST && !WASM\n",
      "    let v121 : (string -> bool) = System.IO.Directory.Exists\n",
      "    let v122 : bool = v121 v105\n",
      "    v122\n",
      "    #endif\n",
      "    #if FABLE_COMPILER && !FABLE_COMPILER_RUST && !WASM\n",
      "    let v123 : bool = null |> unbox<bool>\n",
      "    v123\n",
      "    #endif\n",
      "    #if !FABLE_COMPILER_RUST && WASM\n",
      "    let v124 : bool = null |> unbox<bool>\n",
      "    v124\n",
      "    #endif\n",
      "    |> fun x -> _v106 <- Some x\n",
      "    let v125 : bool = _v106 |> Option.get\n",
      "    let v126 : string = $\"%A{v125}\"\n",
      "    System.Console.WriteLine v126\n",
      "    let v128 : bool =\n",
      "        if v125 then\n",
      "            true\n",
      "        else\n",
      "            method2(v125)\n",
      "    let v129 : string = $\"__expect / actual: %A{v125} / expected: %A{true}\"\n",
      "    let v130 : bool = v128 = false\n",
      "    if v130 then\n",
      "        failwith<unit> v129\n",
      "method0()\n",
      "\n",
      "true\n"
     ]
    }
   ],
   "source": [
    "// // test\n",
    "\n",
    "create_temp_directory ()\n",
    "|> directory_exists\n",
    "|> _assert_eq true"
   ]
  },
  {
   "cell_type": "markdown",
   "metadata": {},
   "source": [
    "## get_source_directory"
   ]
  },
  {
   "cell_type": "code",
   "execution_count": null,
   "metadata": {
    "dotnet_interactive": {
     "language": "spiral"
    },
    "polyglot_notebook": {
     "kernelName": "spiral"
    }
   },
   "outputs": [
    {
     "name": "stdout",
     "output_type": "stream",
     "text": [
      "()\n",
      "\n"
     ]
    }
   ],
   "source": [
    "inl get_source_directory () =\n",
    "    $'__SOURCE_DIRECTORY__' : string"
   ]
  },
  {
   "cell_type": "code",
   "execution_count": null,
   "metadata": {
    "dotnet_interactive": {
     "language": "spiral"
    },
    "polyglot_notebook": {
     "kernelName": "spiral"
    }
   },
   "outputs": [
    {
     "name": "stdout",
     "output_type": "stream",
     "text": [
      "let rec method1 (v0 : bool) : bool =\n",
      "    v0\n",
      "and method0 () : unit =\n",
      "    let v0 : string = __SOURCE_DIRECTORY__\n",
      "    let v1 : (string -> System.IO.DirectoryInfo) = System.IO.DirectoryInfo \n",
      "    let v2 : System.IO.DirectoryInfo = v1 v0\n",
      "    let v3 : string option = None\n",
      "    let mutable _v3 = v3\n",
      "    #if FABLE_COMPILER_RUST && !WASM && !CONTRACT\n",
      "    let v4 : string = null |> unbox<string>\n",
      "    v4\n",
      "    #endif\n",
      "    #if FABLE_COMPILER_RUST && WASM\n",
      "    let v5 : string = null |> unbox<string>\n",
      "    v5\n",
      "    #endif\n",
      "    #if FABLE_COMPILER_RUST && CONTRACT\n",
      "    let v6 : string = null |> unbox<string>\n",
      "    v6\n",
      "    #endif\n",
      "    #if !FABLE_COMPILER && !FABLE_COMPILER_RUST && !WASM\n",
      "    let v7 : string = v2.Name\n",
      "    v7\n",
      "    #endif\n",
      "    #if FABLE_COMPILER && !FABLE_COMPILER_RUST && !WASM\n",
      "    let v8 : string = null |> unbox<string>\n",
      "    v8\n",
      "    #endif\n",
      "    #if !FABLE_COMPILER_RUST && WASM\n",
      "    let v9 : string = null |> unbox<string>\n",
      "    v9\n",
      "    #endif\n",
      "    |> fun x -> _v3 <- Some x\n",
      "    let v10 : string = _v3 |> Option.get\n",
      "    let v11 : string = $\"%A{v10}\"\n",
      "    System.Console.WriteLine v11\n",
      "    let v13 : bool = v10 = \"spiral\"\n",
      "    let v15 : bool =\n",
      "        if v13 then\n",
      "            true\n",
      "        else\n",
      "            method1(v13)\n",
      "    let v16 : string = \"spiral\"\n",
      "    let v17 : string = $\"__expect / actual: %A{v10} / expected: %A{v16}\"\n",
      "    let v18 : bool = v15 = false\n",
      "    if v18 then\n",
      "        failwith<unit> v17\n",
      "method0()\n",
      "\n",
      "\"spiral\"\n"
     ]
    }
   ],
   "source": [
    "// // test\n",
    "\n",
    "get_source_directory ()\n",
    "|> directory_info\n",
    "|> directory_info_name\n",
    "|> _assert_eq \"spiral\""
   ]
  },
  {
   "cell_type": "markdown",
   "metadata": {},
   "source": [
    "## find_parent"
   ]
  },
  {
   "cell_type": "code",
   "execution_count": null,
   "metadata": {
    "dotnet_interactive": {
     "language": "spiral"
    },
    "polyglot_notebook": {
     "kernelName": "spiral"
    }
   },
   "outputs": [
    {
     "name": "stdout",
     "output_type": "stream",
     "text": [
      "()\n",
      "\n"
     ]
    }
   ],
   "source": [
    "inl find_parent name is_file root_dir =\n",
    "    let rec loop dir =\n",
    "        if dir </> name |> (if is_file then file_exists else directory_exists)\n",
    "        then dir\n",
    "        else\n",
    "            match dir |> (join directory_get_parent) |> optionm'.unbox with\n",
    "            | Some parent => parent |> loop\n",
    "            | None => failwith $'$\"\"\"No parent for {if !is_file then \"file\" else \"dir\"} \\'{!name}\\' at \\'{!root_dir}\\'\"\"\"'\n",
    "    loop root_dir"
   ]
  },
  {
   "cell_type": "code",
   "execution_count": null,
   "metadata": {
    "dotnet_interactive": {
     "language": "spiral"
    },
    "polyglot_notebook": {
     "kernelName": "spiral"
    }
   },
   "outputs": [
    {
     "name": "stdout",
     "output_type": "stream",
     "text": [
      "[|\"polyglot\"|]\n"
     ]
    }
   ],
   "source": [
    "// // test\n",
    "// // print_code=false\n",
    "\n",
    "a ;[ \".paket\", false; \"paket.dependencies\", true ]\n",
    "|> am.map fun (file, is_file) =>\n",
    "    get_source_directory ()\n",
    "    |> find_parent file is_file\n",
    "    |> directory_info\n",
    "    |> directory_info_name\n",
    "|> am'.distinct\n",
    "|> _assert_eq (a ;[ \"polyglot\" ] : _ i32 _)"
   ]
  },
  {
   "cell_type": "code",
   "execution_count": null,
   "metadata": {
    "dotnet_interactive": {
     "language": "spiral"
    },
    "polyglot_notebook": {
     "kernelName": "spiral"
    }
   },
   "outputs": [
    {
     "data": {
      "text/plain": [
       "1\n",
       "\"polyglot\"\n"
      ]
     },
     "metadata": {},
     "output_type": "display_data"
    }
   ],
   "source": [
    "// // test\n",
    "// // rust=\n",
    "// // print_code=false\n",
    "\n",
    "types ()\n",
    "a ;[ \".paket\", false; \"paket.dependencies\", true ]\n",
    "|> am.map fun (file, is_file) =>\n",
    "    fun () => join\n",
    "        get_source_directory ()\n",
    "        |> find_parent file is_file\n",
    "        |> new_path_buf\n",
    "        |> path_buf_file_name\n",
    "        |> optionm'.try'\n",
    "        |> sm'.to_os_string\n",
    "        |> sm'.os_to_str\n",
    "        |> optionm'.try'\n",
    "        |> sm'.ref_to_std_string\n",
    "        |> sm'.from_std_string\n",
    "        |> Some\n",
    "        |> optionm'.box\n",
    "    |> fun x => x () |> optionm'.unbox\n",
    "    |> optionm'.default_value \"\"\n",
    "|> am'.distinct\n",
    "|> fun result =>\n",
    "    result |> am'.length |> _assert_eq 1i32\n",
    "    index result 0i32 |> _assert_eq \"polyglot\""
   ]
  },
  {
   "cell_type": "markdown",
   "metadata": {},
   "source": [
    "## main"
   ]
  },
  {
   "cell_type": "code",
   "execution_count": null,
   "metadata": {
    "dotnet_interactive": {
     "language": "spiral"
    },
    "polyglot_notebook": {
     "kernelName": "spiral"
    }
   },
   "outputs": [
    {
     "name": "stdout",
     "output_type": "stream",
     "text": [
      "#if FABLE_COMPILER // file_system.types\n",
      "[<Fable.Core.Erase; Fable.Core.Emit(\"str\")>] type Str = class end\n",
      "[<Fable.Core.Erase; Fable.Core.Emit(\"base64::DecodeError\")>] type base64_DecodeError = class end\n",
      "[<Fable.Core.Erase; Fable.Core.Emit(\"borsh::io::Error\")>] type borsh_io_Error = class end\n",
      "[<Fable.Core.Erase; Fable.Core.Emit(\"js_sys::JsString\")>] type js_sys_JsString = class end\n",
      "[<Fable.Core.Erase; Fable.Core.Emit(\"serde_json::Error\")>] type serde_json_Error = class end\n",
      "[<Fable.Core.Erase; Fable.Core.Emit(\"serde_json::Value\")>] type serde_json_Value = class end\n",
      "[<Fable.Core.Erase; Fable.Core.Emit(\"serde_wasm_bindgen::Error\")>] type serde_wasm_bindgen_Error = class end\n",
      "[<Fable.Core.Erase; Fable.Core.Emit(\"std::ffi::OsStr\")>] type std_ffi_OsStr = class end\n",
      "[<Fable.Core.Erase; Fable.Core.Emit(\"std::ffi::OsString\")>] type std_ffi_OsString = class end\n",
      "[<Fable.Core.Erase; Fable.Core.Emit(\"std::str::Utf8Error\")>] type std_str_Utf8Error = class end\n",
      "[<Fable.Core.Erase; Fable.Core.Emit(\"std::string::String\")>] type std_string_String = class end\n",
      "[<Fable.Core.Erase; Fable.Core.Emit(\"Func0<$0>\")>] type Func0<'T> = class end\n",
      "[<Fable.Core.Erase; Fable.Core.Emit(\"Func1<$0, $1>\")>] type Func0<'T, 'U> = class end\n",
      "[<Fable.Core.Erase; Fable.Core.Emit(\"Box<$0>\")>] type Box<'T> = class end\n",
      "[<Fable.Core.Erase; Fable.Core.Emit(\"dyn $0\")>] type Dyn<'T> = class end\n",
      "[<Fable.Core.Erase; Fable.Core.Emit(\"Fn() -> $0\")>] type Fn<'T> = class end\n",
      "[<Fable.Core.Erase; Fable.Core.Emit(\"Fn()\")>] type FnUnit = class end\n",
      "[<Fable.Core.Erase; Fable.Core.Emit(\"FnOnce() -> $0\")>] type FnOnce<'T> = class end\n",
      "[<Fable.Core.Erase; Fable.Core.Emit(\"Fn($0, $1)\")>] type ActionFn2<'T, 'U> = class end\n",
      "[<Fable.Core.Erase; Fable.Core.Emit(\"impl $0\")>] type Impl<'T> = class end\n",
      "[<Fable.Core.Erase; Fable.Core.Emit(\"mut $0\")>] type Mut<'T> = class end\n",
      "[<Fable.Core.Erase; Fable.Core.Emit(\"&$0\")>] type Ref<'T> = class end\n",
      "[<Fable.Core.Erase; Fable.Core.Emit(\"&'static $0\")>] type StaticRef<'T> = class end\n",
      "[<Fable.Core.Erase; Fable.Core.Emit(\"MutCell<$0>\")>] type MutCell<'T> = class end\n",
      "[<Fable.Core.Erase; Fable.Core.Emit(\"std::any::Any\")>] type std_any_Any = class end\n",
      "[<Fable.Core.Erase; Fable.Core.Emit(\"std::cell::RefCell<$0>\")>] type std_cell_RefCell<'T> = class end\n",
      "[<Fable.Core.Erase; Fable.Core.Emit(\"std::pin::Pin<$0>\")>] type std_pin_Pin<'T> = class end\n",
      "[<Fable.Core.Erase; Fable.Core.Emit(\"std::rc::Rc<$0>\")>] type std_rc_Rc<'T> = class end\n",
      "[<Fable.Core.Erase; Fable.Core.Emit(\"std::rc::Weak<$0>\")>] type std_rc_Weak<'T> = class end\n",
      "[<Fable.Core.Erase; Fable.Core.Emit(\"std::sync::Arc<$0>\")>] type std_sync_Arc<'T> = class end\n",
      "[<Fable.Core.Erase; Fable.Core.Emit(\"std::path::Path\")>] type std_path_Path = class end\n",
      "[<Fable.Core.Erase; Fable.Core.Emit(\"std::path::PathBuf\")>] type std_path_PathBuf = class end\n",
      "#endif // file_system.types\n",
      "type [<Struct>] US0 =\n",
      "    | US0_0 of f0_0 : string\n",
      "    | US0_1\n",
      "let rec method0 (v0 : string) : string =\n",
      "    v0\n",
      "and closure0 () () : string =\n",
      "    let v0 : string option = None\n",
      "    let mutable _v0 = v0\n",
      "    #if FABLE_COMPILER_RUST && !WASM && !CONTRACT\n",
      "    let v1 : string = null |> unbox<string>\n",
      "    v1\n",
      "    #endif\n",
      "    #if FABLE_COMPILER_RUST && WASM\n",
      "    let v2 : string = null |> unbox<string>\n",
      "    v2\n",
      "    #endif\n",
      "    #if FABLE_COMPILER_RUST && CONTRACT\n",
      "    let v3 : string = null |> unbox<string>\n",
      "    v3\n",
      "    #endif\n",
      "    #if !FABLE_COMPILER && !FABLE_COMPILER_RUST && !WASM\n",
      "    let v4 : string = System.Reflection.Assembly.GetEntryAssembly().GetName().Name\n",
      "    let v5 : (unit -> string) = System.IO.Path.GetTempPath\n",
      "    let v6 : string = v5 ()\n",
      "    let v7 : string = $\"!{v4}\"\n",
      "    let v8 : string option = None\n",
      "    let mutable _v8 = v8\n",
      "    #if FABLE_COMPILER_RUST && !WASM && !CONTRACT\n",
      "    let v9 : string = method0(v6)\n",
      "    let v10 : string = \"fable_library_rust::String_::LrcStr::as_str(&$0)\"\n",
      "    let v11 : Ref<Str> = Fable.Core.RustInterop.emitRustExpr v9 v10\n",
      "    let v12 : string = \"String::from($0)\"\n",
      "    let v13 : std_string_String = Fable.Core.RustInterop.emitRustExpr v11 v12\n",
      "    let v14 : string = \"std::path::PathBuf::from($0)\"\n",
      "    let v15 : std_path_PathBuf = Fable.Core.RustInterop.emitRustExpr v13 v14\n",
      "    let v16 : string = method0(v7)\n",
      "    let v17 : string = \"fable_library_rust::String_::LrcStr::as_str(&$0)\"\n",
      "    let v18 : Ref<Str> = Fable.Core.RustInterop.emitRustExpr v16 v17\n",
      "    let v19 : string = \"String::from($0)\"\n",
      "    let v20 : std_string_String = Fable.Core.RustInterop.emitRustExpr v18 v19\n",
      "    let v21 : string = \"$0.join($1)\"\n",
      "    let v22 : std_path_PathBuf = Fable.Core.RustInterop.emitRustExpr struct (v15, v20) v21\n",
      "    let v23 : string = \"$0.display().to_string()\"\n",
      "    let v24 : std_string_String = Fable.Core.RustInterop.emitRustExpr v22 v23\n",
      "    let v25 : string = \"fable_library_rust::String_::fromString($0)\"\n",
      "    let v26 : string = Fable.Core.RustInterop.emitRustExpr v24 v25\n",
      "    v26\n",
      "    #endif\n",
      "    #if FABLE_COMPILER_RUST && WASM\n",
      "    let v27 : string = null |> unbox<string>\n",
      "    v27\n",
      "    #endif\n",
      "    #if FABLE_COMPILER_RUST && CONTRACT\n",
      "    let v28 : string = null |> unbox<string>\n",
      "    v28\n",
      "    #endif\n",
      "    #if !FABLE_COMPILER && !FABLE_COMPILER_RUST && !WASM\n",
      "    let v29 : string = System.IO.Path.Combine (v6, v7)\n",
      "    v29\n",
      "    #endif\n",
      "    #if FABLE_COMPILER && !FABLE_COMPILER_RUST && !WASM\n",
      "    let v30 : string = null |> unbox<string>\n",
      "    v30\n",
      "    #endif\n",
      "    #if !FABLE_COMPILER_RUST && WASM\n",
      "    let v31 : string = null |> unbox<string>\n",
      "    v31\n",
      "    #endif\n",
      "    |> fun x -> _v8 <- Some x\n",
      "    let v32 : string = _v8 |> Option.get\n",
      "    let v33 : System.DateTime = System.DateTime.Now\n",
      "    let v34 : System.Guid = System.Guid.NewGuid ()\n",
      "    let v35 : (System.Guid -> string) = _.ToString()\n",
      "    let v36 : string = v35 v34\n",
      "    let v37 : string = v33.ToString \"yyyyMMdd-HHmm-ssff-ffff-f\"\n",
      "    let v38 : System.Guid = System.Guid $\"{v37}{v36.[v37.Length..]}\"\n",
      "    let v39 : (System.Guid -> string) = _.ToString()\n",
      "    let v40 : string = v39 v38\n",
      "    let v41 : string option = None\n",
      "    let mutable _v41 = v41\n",
      "    #if FABLE_COMPILER_RUST && !WASM && !CONTRACT\n",
      "    let v42 : string = method0(v32)\n",
      "    let v43 : string = \"fable_library_rust::String_::LrcStr::as_str(&$0)\"\n",
      "    let v44 : Ref<Str> = Fable.Core.RustInterop.emitRustExpr v42 v43\n",
      "    let v45 : string = \"String::from($0)\"\n",
      "    let v46 : std_string_String = Fable.Core.RustInterop.emitRustExpr v44 v45\n",
      "    let v47 : string = \"std::path::PathBuf::from($0)\"\n",
      "    let v48 : std_path_PathBuf = Fable.Core.RustInterop.emitRustExpr v46 v47\n",
      "    let v49 : string = method0(v40)\n",
      "    let v50 : string = \"fable_library_rust::String_::LrcStr::as_str(&$0)\"\n",
      "    let v51 : Ref<Str> = Fable.Core.RustInterop.emitRustExpr v49 v50\n",
      "    let v52 : string = \"String::from($0)\"\n",
      "    let v53 : std_string_String = Fable.Core.RustInterop.emitRustExpr v51 v52\n",
      "    let v54 : string = \"$0.join($1)\"\n",
      "    let v55 : std_path_PathBuf = Fable.Core.RustInterop.emitRustExpr struct (v48, v53) v54\n",
      "    let v56 : string = \"$0.display().to_string()\"\n",
      "    let v57 : std_string_String = Fable.Core.RustInterop.emitRustExpr v55 v56\n",
      "    let v58 : string = \"fable_library_rust::String_::fromString($0)\"\n",
      "    let v59 : string = Fable.Core.RustInterop.emitRustExpr v57 v58\n",
      "    v59\n",
      "    #endif\n",
      "    #if FABLE_COMPILER_RUST && WASM\n",
      "    let v60 : string = null |> unbox<string>\n",
      "    v60\n",
      "    #endif\n",
      "    #if FABLE_COMPILER_RUST && CONTRACT\n",
      "    let v61 : string = null |> unbox<string>\n",
      "    v61\n",
      "    #endif\n",
      "    #if !FABLE_COMPILER && !FABLE_COMPILER_RUST && !WASM\n",
      "    let v62 : string = System.IO.Path.Combine (v32, v40)\n",
      "    v62\n",
      "    #endif\n",
      "    #if FABLE_COMPILER && !FABLE_COMPILER_RUST && !WASM\n",
      "    let v63 : string = null |> unbox<string>\n",
      "    v63\n",
      "    #endif\n",
      "    #if !FABLE_COMPILER_RUST && WASM\n",
      "    let v64 : string = null |> unbox<string>\n",
      "    v64\n",
      "    #endif\n",
      "    |> fun x -> _v41 <- Some x\n",
      "    let v65 : string = _v41 |> Option.get\n",
      "    v65\n",
      "    #endif\n",
      "    #if FABLE_COMPILER && !FABLE_COMPILER_RUST && !WASM\n",
      "    let v66 : string = null |> unbox<string>\n",
      "    v66\n",
      "    #endif\n",
      "    #if !FABLE_COMPILER_RUST && WASM\n",
      "    let v67 : string = null |> unbox<string>\n",
      "    v67\n",
      "    #endif\n",
      "    |> fun x -> _v0 <- Some x\n",
      "    let v68 : string = _v0 |> Option.get\n",
      "    v68\n",
      "and closure3 () () : string =\n",
      "    let v0 : string = \"\"\n",
      "    v0\n",
      "and closure2 (v0 : string, v1 : string) () : string =\n",
      "    let v2 : (unit -> string) = closure3()\n",
      "    let v3 : string = $\"temp_folder: {v0} / result: {v1} {v2 ()}\"\n",
      "    v3\n",
      "and closure1 () () : string =\n",
      "    let v0 : string option = None\n",
      "    let mutable _v0 = v0\n",
      "    #if FABLE_COMPILER_RUST && !WASM && !CONTRACT\n",
      "    let v1 : string = null |> unbox<string>\n",
      "    v1\n",
      "    #endif\n",
      "    #if FABLE_COMPILER_RUST && WASM\n",
      "    let v2 : string = null |> unbox<string>\n",
      "    v2\n",
      "    #endif\n",
      "    #if FABLE_COMPILER_RUST && CONTRACT\n",
      "    let v3 : string = null |> unbox<string>\n",
      "    v3\n",
      "    #endif\n",
      "    #if !FABLE_COMPILER && !FABLE_COMPILER_RUST && !WASM\n",
      "    let v4 : string option = None\n",
      "    let mutable _v4 = v4\n",
      "    #if FABLE_COMPILER_RUST && !WASM && !CONTRACT\n",
      "    let v5 : string = null |> unbox<string>\n",
      "    v5\n",
      "    #endif\n",
      "    #if FABLE_COMPILER_RUST && WASM\n",
      "    let v6 : string = null |> unbox<string>\n",
      "    v6\n",
      "    #endif\n",
      "    #if FABLE_COMPILER_RUST && CONTRACT\n",
      "    let v7 : string = null |> unbox<string>\n",
      "    v7\n",
      "    #endif\n",
      "    #if !FABLE_COMPILER && !FABLE_COMPILER_RUST && !WASM\n",
      "    let v8 : string = System.Reflection.Assembly.GetEntryAssembly().GetName().Name\n",
      "    let v9 : (unit -> string) = System.IO.Path.GetTempPath\n",
      "    let v10 : string = v9 ()\n",
      "    let v11 : string = $\"!{v8}\"\n",
      "    let v12 : string option = None\n",
      "    let mutable _v12 = v12\n",
      "    #if FABLE_COMPILER_RUST && !WASM && !CONTRACT\n",
      "    let v13 : string = method0(v10)\n",
      "    let v14 : string = \"fable_library_rust::String_::LrcStr::as_str(&$0)\"\n",
      "    let v15 : Ref<Str> = Fable.Core.RustInterop.emitRustExpr v13 v14\n",
      "    let v16 : string = \"String::from($0)\"\n",
      "    let v17 : std_string_String = Fable.Core.RustInterop.emitRustExpr v15 v16\n",
      "    let v18 : string = \"std::path::PathBuf::from($0)\"\n",
      "    let v19 : std_path_PathBuf = Fable.Core.RustInterop.emitRustExpr v17 v18\n",
      "    let v20 : string = method0(v11)\n",
      "    let v21 : string = \"fable_library_rust::String_::LrcStr::as_str(&$0)\"\n",
      "    let v22 : Ref<Str> = Fable.Core.RustInterop.emitRustExpr v20 v21\n",
      "    let v23 : string = \"String::from($0)\"\n",
      "    let v24 : std_string_String = Fable.Core.RustInterop.emitRustExpr v22 v23\n",
      "    let v25 : string = \"$0.join($1)\"\n",
      "    let v26 : std_path_PathBuf = Fable.Core.RustInterop.emitRustExpr struct (v19, v24) v25\n",
      "    let v27 : string = \"$0.display().to_string()\"\n",
      "    let v28 : std_string_String = Fable.Core.RustInterop.emitRustExpr v26 v27\n",
      "    let v29 : string = \"fable_library_rust::String_::fromString($0)\"\n",
      "    let v30 : string = Fable.Core.RustInterop.emitRustExpr v28 v29\n",
      "    v30\n",
      "    #endif\n",
      "    #if FABLE_COMPILER_RUST && WASM\n",
      "    let v31 : string = null |> unbox<string>\n",
      "    v31\n",
      "    #endif\n",
      "    #if FABLE_COMPILER_RUST && CONTRACT\n",
      "    let v32 : string = null |> unbox<string>\n",
      "    v32\n",
      "    #endif\n",
      "    #if !FABLE_COMPILER && !FABLE_COMPILER_RUST && !WASM\n",
      "    let v33 : string = System.IO.Path.Combine (v10, v11)\n",
      "    v33\n",
      "    #endif\n",
      "    #if FABLE_COMPILER && !FABLE_COMPILER_RUST && !WASM\n",
      "    let v34 : string = null |> unbox<string>\n",
      "    v34\n",
      "    #endif\n",
      "    #if !FABLE_COMPILER_RUST && WASM\n",
      "    let v35 : string = null |> unbox<string>\n",
      "    v35\n",
      "    #endif\n",
      "    |> fun x -> _v12 <- Some x\n",
      "    let v36 : string = _v12 |> Option.get\n",
      "    let v37 : System.DateTime = System.DateTime.Now\n",
      "    let v38 : System.Guid = System.Guid.NewGuid ()\n",
      "    let v39 : (System.Guid -> string) = _.ToString()\n",
      "    let v40 : string = v39 v38\n",
      "    let v41 : string = v37.ToString \"yyyyMMdd-HHmm-ssff-ffff-f\"\n",
      "    let v42 : System.Guid = System.Guid $\"{v41}{v40.[v41.Length..]}\"\n",
      "    let v43 : (System.Guid -> string) = _.ToString()\n",
      "    let v44 : string = v43 v42\n",
      "    let v45 : string option = None\n",
      "    let mutable _v45 = v45\n",
      "    #if FABLE_COMPILER_RUST && !WASM && !CONTRACT\n",
      "    let v46 : string = method0(v36)\n",
      "    let v47 : string = \"fable_library_rust::String_::LrcStr::as_str(&$0)\"\n",
      "    let v48 : Ref<Str> = Fable.Core.RustInterop.emitRustExpr v46 v47\n",
      "    let v49 : string = \"String::from($0)\"\n",
      "    let v50 : std_string_String = Fable.Core.RustInterop.emitRustExpr v48 v49\n",
      "    let v51 : string = \"std::path::PathBuf::from($0)\"\n",
      "    let v52 : std_path_PathBuf = Fable.Core.RustInterop.emitRustExpr v50 v51\n",
      "    let v53 : string = method0(v44)\n",
      "    let v54 : string = \"fable_library_rust::String_::LrcStr::as_str(&$0)\"\n",
      "    let v55 : Ref<Str> = Fable.Core.RustInterop.emitRustExpr v53 v54\n",
      "    let v56 : string = \"String::from($0)\"\n",
      "    let v57 : std_string_String = Fable.Core.RustInterop.emitRustExpr v55 v56\n",
      "    let v58 : string = \"$0.join($1)\"\n",
      "    let v59 : std_path_PathBuf = Fable.Core.RustInterop.emitRustExpr struct (v52, v57) v58\n",
      "    let v60 : string = \"$0.display().to_string()\"\n",
      "    let v61 : std_string_String = Fable.Core.RustInterop.emitRustExpr v59 v60\n",
      "    let v62 : string = \"fable_library_rust::String_::fromString($0)\"\n",
      "    let v63 : string = Fable.Core.RustInterop.emitRustExpr v61 v62\n",
      "    v63\n",
      "    #endif\n",
      "    #if FABLE_COMPILER_RUST && WASM\n",
      "    let v64 : string = null |> unbox<string>\n",
      "    v64\n",
      "    #endif\n",
      "    #if FABLE_COMPILER_RUST && CONTRACT\n",
      "    let v65 : string = null |> unbox<string>\n",
      "    v65\n",
      "    #endif\n",
      "    #if !FABLE_COMPILER && !FABLE_COMPILER_RUST && !WASM\n",
      "    let v66 : string = System.IO.Path.Combine (v36, v44)\n",
      "    v66\n",
      "    #endif\n",
      "    #if FABLE_COMPILER && !FABLE_COMPILER_RUST && !WASM\n",
      "    let v67 : string = null |> unbox<string>\n",
      "    v67\n",
      "    #endif\n",
      "    #if !FABLE_COMPILER_RUST && WASM\n",
      "    let v68 : string = null |> unbox<string>\n",
      "    v68\n",
      "    #endif\n",
      "    |> fun x -> _v45 <- Some x\n",
      "    let v69 : string = _v45 |> Option.get\n",
      "    v69\n",
      "    #endif\n",
      "    #if FABLE_COMPILER && !FABLE_COMPILER_RUST && !WASM\n",
      "    let v70 : string = null |> unbox<string>\n",
      "    v70\n",
      "    #endif\n",
      "    #if !FABLE_COMPILER_RUST && WASM\n",
      "    let v71 : string = null |> unbox<string>\n",
      "    v71\n",
      "    #endif\n",
      "    |> fun x -> _v4 <- Some x\n",
      "    let v72 : string = _v4 |> Option.get\n",
      "    let v73 : System.IO.DirectoryInfo option = None\n",
      "    let mutable _v73 = v73\n",
      "    #if FABLE_COMPILER_RUST && !WASM && !CONTRACT\n",
      "    let v74 : System.IO.DirectoryInfo = null |> unbox<System.IO.DirectoryInfo>\n",
      "    v74\n",
      "    #endif\n",
      "    #if FABLE_COMPILER_RUST && WASM\n",
      "    let v75 : System.IO.DirectoryInfo = null |> unbox<System.IO.DirectoryInfo>\n",
      "    v75\n",
      "    #endif\n",
      "    #if FABLE_COMPILER_RUST && CONTRACT\n",
      "    let v76 : System.IO.DirectoryInfo = null |> unbox<System.IO.DirectoryInfo>\n",
      "    v76\n",
      "    #endif\n",
      "    #if !FABLE_COMPILER && !FABLE_COMPILER_RUST && !WASM\n",
      "    let v77 : (string -> System.IO.DirectoryInfo) = System.IO.Directory.CreateDirectory\n",
      "    let v78 : System.IO.DirectoryInfo = v77 v72\n",
      "    v78\n",
      "    #endif\n",
      "    #if FABLE_COMPILER && !FABLE_COMPILER_RUST && !WASM\n",
      "    let v79 : System.IO.DirectoryInfo = null |> unbox<System.IO.DirectoryInfo>\n",
      "    v79\n",
      "    #endif\n",
      "    #if !FABLE_COMPILER_RUST && WASM\n",
      "    let v80 : System.IO.DirectoryInfo = null |> unbox<System.IO.DirectoryInfo>\n",
      "    v80\n",
      "    #endif\n",
      "    |> fun x -> _v73 <- Some x\n",
      "    let v81 : System.IO.DirectoryInfo = _v73 |> Option.get\n",
      "    let v82 : bool option = None\n",
      "    let mutable _v82 = v82\n",
      "    #if FABLE_COMPILER_RUST && !WASM && !CONTRACT\n",
      "    let v83 : bool = null |> unbox<bool>\n",
      "    v83\n",
      "    #endif\n",
      "    #if FABLE_COMPILER_RUST && WASM\n",
      "    let v84 : bool = null |> unbox<bool>\n",
      "    v84\n",
      "    #endif\n",
      "    #if FABLE_COMPILER_RUST && CONTRACT\n",
      "    let v85 : bool = null |> unbox<bool>\n",
      "    v85\n",
      "    #endif\n",
      "    #if !FABLE_COMPILER && !FABLE_COMPILER_RUST && !WASM\n",
      "    let v86 : bool = v81.Exists\n",
      "    v86\n",
      "    #endif\n",
      "    #if FABLE_COMPILER && !FABLE_COMPILER_RUST && !WASM\n",
      "    let v87 : bool = null |> unbox<bool>\n",
      "    v87\n",
      "    #endif\n",
      "    #if !FABLE_COMPILER_RUST && WASM\n",
      "    let v88 : bool = null |> unbox<bool>\n",
      "    v88\n",
      "    #endif\n",
      "    |> fun x -> _v82 <- Some x\n",
      "    let v89 : bool = _v82 |> Option.get\n",
      "    let v90 : bool = v89 = false\n",
      "    if v90 then\n",
      "        let v91 : System.DateTime option = None\n",
      "        let mutable _v91 = v91\n",
      "        #if FABLE_COMPILER_RUST && !WASM && !CONTRACT\n",
      "        let v92 : System.DateTime = null |> unbox<System.DateTime>\n",
      "        v92\n",
      "        #endif\n",
      "        #if FABLE_COMPILER_RUST && WASM\n",
      "        let v93 : System.DateTime = null |> unbox<System.DateTime>\n",
      "        v93\n",
      "        #endif\n",
      "        #if FABLE_COMPILER_RUST && CONTRACT\n",
      "        let v94 : System.DateTime = null |> unbox<System.DateTime>\n",
      "        v94\n",
      "        #endif\n",
      "        #if !FABLE_COMPILER && !FABLE_COMPILER_RUST && !WASM\n",
      "        let v95 : System.DateTime = v81.CreationTime\n",
      "        v95\n",
      "        #endif\n",
      "        #if FABLE_COMPILER && !FABLE_COMPILER_RUST && !WASM\n",
      "        let v96 : System.DateTime = null |> unbox<System.DateTime>\n",
      "        v96\n",
      "        #endif\n",
      "        #if !FABLE_COMPILER_RUST && WASM\n",
      "        let v97 : System.DateTime = null |> unbox<System.DateTime>\n",
      "        v97\n",
      "        #endif\n",
      "        |> fun x -> _v91 <- Some x\n",
      "        let v98 : System.DateTime = _v91 |> Option.get\n",
      "        let v99 : obj = {| Exists = v89; CreationTime = v98 |}\n",
      "        let v100 : string = $\"%A{v99}\"\n",
      "        let v101 : (unit -> string) = closure2(v72, v100)\n",
      "        let v102 : string = $\"create_temp_directory / {v101 ()}\"\n",
      "        System.Console.WriteLine v102\n",
      "        ()\n",
      "    v72\n",
      "    #endif\n",
      "    #if FABLE_COMPILER && !FABLE_COMPILER_RUST && !WASM\n",
      "    let v103 : string = null |> unbox<string>\n",
      "    v103\n",
      "    #endif\n",
      "    #if !FABLE_COMPILER_RUST && WASM\n",
      "    let v104 : string = null |> unbox<string>\n",
      "    v104\n",
      "    #endif\n",
      "    |> fun x -> _v0 <- Some x\n",
      "    let v105 : string = _v0 |> Option.get\n",
      "    v105\n",
      "and closure4 () () : string =\n",
      "    let v0 : string = __SOURCE_DIRECTORY__\n",
      "    v0\n",
      "and closure8 () (v0 : string) : bool =\n",
      "    let v1 : bool option = None\n",
      "    let mutable _v1 = v1\n",
      "    #if FABLE_COMPILER_RUST && !WASM && !CONTRACT\n",
      "    let v2 : string = method0(v0)\n",
      "    let v3 : string = \"fable_library_rust::String_::LrcStr::as_str(&$0)\"\n",
      "    let v4 : Ref<Str> = Fable.Core.RustInterop.emitRustExpr v2 v3\n",
      "    let v5 : string = \"String::from($0)\"\n",
      "    let v6 : std_string_String = Fable.Core.RustInterop.emitRustExpr v4 v5\n",
      "    let v7 : string = \"std::path::PathBuf::from($0)\"\n",
      "    let v8 : std_path_PathBuf = Fable.Core.RustInterop.emitRustExpr v6 v7\n",
      "    let v9 : string = \"v8.exists()\"\n",
      "    let v10 : bool = Fable.Core.RustInterop.emitRustExpr () v9\n",
      "    let v13 : bool =\n",
      "        if v10 then\n",
      "            let v11 : string = \"v8.is_file()\"\n",
      "            let v12 : bool = Fable.Core.RustInterop.emitRustExpr () v11\n",
      "            v12\n",
      "        else\n",
      "            false\n",
      "    v13\n",
      "    #endif\n",
      "    #if FABLE_COMPILER_RUST && WASM\n",
      "    let v14 : bool = null |> unbox<bool>\n",
      "    v14\n",
      "    #endif\n",
      "    #if FABLE_COMPILER_RUST && CONTRACT\n",
      "    let v15 : bool = null |> unbox<bool>\n",
      "    v15\n",
      "    #endif\n",
      "    #if !FABLE_COMPILER && !FABLE_COMPILER_RUST && !WASM\n",
      "    let v16 : (string -> bool) = System.IO.File.Exists\n",
      "    let v17 : bool = v16 v0\n",
      "    v17\n",
      "    #endif\n",
      "    #if FABLE_COMPILER && !FABLE_COMPILER_RUST && !WASM\n",
      "    let v18 : bool = null |> unbox<bool>\n",
      "    v18\n",
      "    #endif\n",
      "    #if !FABLE_COMPILER_RUST && WASM\n",
      "    let v19 : bool = null |> unbox<bool>\n",
      "    v19\n",
      "    #endif\n",
      "    |> fun x -> _v1 <- Some x\n",
      "    let v20 : bool = _v1 |> Option.get\n",
      "    v20\n",
      "and closure9 () (v0 : string) : bool =\n",
      "    let v1 : bool option = None\n",
      "    let mutable _v1 = v1\n",
      "    #if FABLE_COMPILER_RUST && !WASM && !CONTRACT\n",
      "    let v2 : string = method0(v0)\n",
      "    let v3 : string = \"fable_library_rust::String_::LrcStr::as_str(&$0)\"\n",
      "    let v4 : Ref<Str> = Fable.Core.RustInterop.emitRustExpr v2 v3\n",
      "    let v5 : string = \"String::from($0)\"\n",
      "    let v6 : std_string_String = Fable.Core.RustInterop.emitRustExpr v4 v5\n",
      "    let v7 : string = \"std::path::PathBuf::from($0)\"\n",
      "    let v8 : std_path_PathBuf = Fable.Core.RustInterop.emitRustExpr v6 v7\n",
      "    let v9 : string = \"v8.exists()\"\n",
      "    let v10 : bool = Fable.Core.RustInterop.emitRustExpr () v9\n",
      "    let v13 : bool =\n",
      "        if v10 then\n",
      "            let v11 : string = \"v8.is_dir()\"\n",
      "            let v12 : bool = Fable.Core.RustInterop.emitRustExpr () v11\n",
      "            v12\n",
      "        else\n",
      "            false\n",
      "    v13\n",
      "    #endif\n",
      "    #if FABLE_COMPILER_RUST && WASM\n",
      "    let v14 : bool = null |> unbox<bool>\n",
      "    v14\n",
      "    #endif\n",
      "    #if FABLE_COMPILER_RUST && CONTRACT\n",
      "    let v15 : bool = null |> unbox<bool>\n",
      "    v15\n",
      "    #endif\n",
      "    #if !FABLE_COMPILER && !FABLE_COMPILER_RUST && !WASM\n",
      "    let v16 : (string -> bool) = System.IO.Directory.Exists\n",
      "    let v17 : bool = v16 v0\n",
      "    v17\n",
      "    #endif\n",
      "    #if FABLE_COMPILER && !FABLE_COMPILER_RUST && !WASM\n",
      "    let v18 : bool = null |> unbox<bool>\n",
      "    v18\n",
      "    #endif\n",
      "    #if !FABLE_COMPILER_RUST && WASM\n",
      "    let v19 : bool = null |> unbox<bool>\n",
      "    v19\n",
      "    #endif\n",
      "    |> fun x -> _v1 <- Some x\n",
      "    let v20 : bool = _v1 |> Option.get\n",
      "    v20\n",
      "and closure10 () (v0 : string) : string option =\n",
      "    let v1 : US0 option = None\n",
      "    let mutable _v1 = v1\n",
      "    #if FABLE_COMPILER_RUST && !WASM && !CONTRACT\n",
      "    let v2 : string = method0(v0)\n",
      "    let v3 : string = \"fable_library_rust::String_::LrcStr::as_str(&$0)\"\n",
      "    let v4 : Ref<Str> = Fable.Core.RustInterop.emitRustExpr v2 v3\n",
      "    let v5 : string = \"String::from($0)\"\n",
      "    let v6 : std_string_String = Fable.Core.RustInterop.emitRustExpr v4 v5\n",
      "    let v7 : string = \"std::path::PathBuf::from($0)\"\n",
      "    let v8 : std_path_PathBuf = Fable.Core.RustInterop.emitRustExpr v6 v7\n",
      "    let v9 : string = \"$0.parent().map(std::path::PathBuf::from)\"\n",
      "    let v10 : std_path_PathBuf option = Fable.Core.RustInterop.emitRustExpr v8 v9\n",
      "    let v11 : string = \"v10?\"\n",
      "    let v12 : std_path_PathBuf = Fable.Core.RustInterop.emitRustExpr () v11\n",
      "    let v13 : string = \"$0.display().to_string()\"\n",
      "    let v14 : std_string_String = Fable.Core.RustInterop.emitRustExpr v12 v13\n",
      "    let v15 : string = \"fable_library_rust::String_::fromString($0)\"\n",
      "    let v16 : string = Fable.Core.RustInterop.emitRustExpr v14 v15\n",
      "    let v17 : US0 = US0_0(v16)\n",
      "    v17\n",
      "    #endif\n",
      "    #if FABLE_COMPILER_RUST && WASM\n",
      "    let v18 : US0 = null |> unbox<US0>\n",
      "    v18\n",
      "    #endif\n",
      "    #if FABLE_COMPILER_RUST && CONTRACT\n",
      "    let v19 : US0 = null |> unbox<US0>\n",
      "    v19\n",
      "    #endif\n",
      "    #if !FABLE_COMPILER && !FABLE_COMPILER_RUST && !WASM\n",
      "    let v20 : (string -> System.IO.DirectoryInfo) = System.IO.Directory.GetParent\n",
      "    let v21 : System.IO.DirectoryInfo = v20 v0\n",
      "    let v22 : System.IO.DirectoryInfo = null |> unbox<System.IO.DirectoryInfo>\n",
      "    let v23 : bool = v21 = v22\n",
      "    let v34 : US0 =\n",
      "        if v23 then\n",
      "            US0_1\n",
      "        else\n",
      "            let v25 : string option = None\n",
      "            let mutable _v25 = v25\n",
      "            #if FABLE_COMPILER_RUST && !WASM && !CONTRACT\n",
      "            let v26 : string = null |> unbox<string>\n",
      "            v26\n",
      "            #endif\n",
      "            #if FABLE_COMPILER_RUST && WASM\n",
      "            let v27 : string = null |> unbox<string>\n",
      "            v27\n",
      "            #endif\n",
      "            #if FABLE_COMPILER_RUST && CONTRACT\n",
      "            let v28 : string = null |> unbox<string>\n",
      "            v28\n",
      "            #endif\n",
      "            #if !FABLE_COMPILER && !FABLE_COMPILER_RUST && !WASM\n",
      "            let v29 : string = v21.FullName\n",
      "            v29\n",
      "            #endif\n",
      "            #if FABLE_COMPILER && !FABLE_COMPILER_RUST && !WASM\n",
      "            let v30 : string = null |> unbox<string>\n",
      "            v30\n",
      "            #endif\n",
      "            #if !FABLE_COMPILER_RUST && WASM\n",
      "            let v31 : string = null |> unbox<string>\n",
      "            v31\n",
      "            #endif\n",
      "            |> fun x -> _v25 <- Some x\n",
      "            let v32 : string = _v25 |> Option.get\n",
      "            US0_0(v32)\n",
      "    v34\n",
      "    #endif\n",
      "    #if FABLE_COMPILER && !FABLE_COMPILER_RUST && !WASM\n",
      "    let v35 : US0 = null |> unbox<US0>\n",
      "    v35\n",
      "    #endif\n",
      "    #if !FABLE_COMPILER_RUST && WASM\n",
      "    let v36 : US0 = null |> unbox<US0>\n",
      "    v36\n",
      "    #endif\n",
      "    |> fun x -> _v1 <- Some x\n",
      "    let v37 : US0 = _v1 |> Option.get\n",
      "    match v37 with\n",
      "    | US0_1 -> (* None *)\n",
      "        let v40 : string option = None\n",
      "        v40\n",
      "    | US0_0(v38) -> (* Some *)\n",
      "        let v39 : string option = Some v38\n",
      "        v39\n",
      "and method2 () : (string -> string option) =\n",
      "    closure10()\n",
      "and closure11 () (v0 : string) : US0 =\n",
      "    US0_0(v0)\n",
      "and method3 () : (string -> US0) =\n",
      "    closure11()\n",
      "and method4 (v0 : string, v1 : bool, v2 : string, v3 : string) : string =\n",
      "    let v4 : string option = None\n",
      "    let mutable _v4 = v4\n",
      "    #if FABLE_COMPILER_RUST && !WASM && !CONTRACT\n",
      "    let v5 : string = method0(v3)\n",
      "    let v6 : string = \"fable_library_rust::String_::LrcStr::as_str(&$0)\"\n",
      "    let v7 : Ref<Str> = Fable.Core.RustInterop.emitRustExpr v5 v6\n",
      "    let v8 : string = \"String::from($0)\"\n",
      "    let v9 : std_string_String = Fable.Core.RustInterop.emitRustExpr v7 v8\n",
      "    let v10 : string = \"std::path::PathBuf::from($0)\"\n",
      "    let v11 : std_path_PathBuf = Fable.Core.RustInterop.emitRustExpr v9 v10\n",
      "    let v12 : string = method0(v0)\n",
      "    let v13 : string = \"fable_library_rust::String_::LrcStr::as_str(&$0)\"\n",
      "    let v14 : Ref<Str> = Fable.Core.RustInterop.emitRustExpr v12 v13\n",
      "    let v15 : string = \"String::from($0)\"\n",
      "    let v16 : std_string_String = Fable.Core.RustInterop.emitRustExpr v14 v15\n",
      "    let v17 : string = \"$0.join($1)\"\n",
      "    let v18 : std_path_PathBuf = Fable.Core.RustInterop.emitRustExpr struct (v11, v16) v17\n",
      "    let v19 : string = \"$0.display().to_string()\"\n",
      "    let v20 : std_string_String = Fable.Core.RustInterop.emitRustExpr v18 v19\n",
      "    let v21 : string = \"fable_library_rust::String_::fromString($0)\"\n",
      "    let v22 : string = Fable.Core.RustInterop.emitRustExpr v20 v21\n",
      "    v22\n",
      "    #endif\n",
      "    #if FABLE_COMPILER_RUST && WASM\n",
      "    let v23 : string = null |> unbox<string>\n",
      "    v23\n",
      "    #endif\n",
      "    #if FABLE_COMPILER_RUST && CONTRACT\n",
      "    let v24 : string = null |> unbox<string>\n",
      "    v24\n",
      "    #endif\n",
      "    #if !FABLE_COMPILER && !FABLE_COMPILER_RUST && !WASM\n",
      "    let v25 : string = System.IO.Path.Combine (v3, v0)\n",
      "    v25\n",
      "    #endif\n",
      "    #if FABLE_COMPILER && !FABLE_COMPILER_RUST && !WASM\n",
      "    let v26 : string = null |> unbox<string>\n",
      "    v26\n",
      "    #endif\n",
      "    #if !FABLE_COMPILER_RUST && WASM\n",
      "    let v27 : string = null |> unbox<string>\n",
      "    v27\n",
      "    #endif\n",
      "    |> fun x -> _v4 <- Some x\n",
      "    let v28 : string = _v4 |> Option.get\n",
      "    let v31 : (string -> bool) =\n",
      "        if v1 then\n",
      "            closure8()\n",
      "        else\n",
      "            closure9()\n",
      "    let v32 : bool = v31 v28\n",
      "    if v32 then\n",
      "        v3\n",
      "    else\n",
      "        let v33 : (string -> string option) = method2()\n",
      "        let v34 : string option = v33 v3\n",
      "        let v35 : (string -> US0) = method3()\n",
      "        let v36 : US0 = US0_1\n",
      "        let v37 : US0 = v34 |> Option.map v35 |> Option.defaultValue v36\n",
      "        match v37 with\n",
      "        | US0_1 -> (* None *)\n",
      "            let v40 : string = $\"\"\"No parent for {if v1 then \"file\" else \"dir\"} '{v0}' at '{v2}'\"\"\"\n",
      "            failwith<string> v40\n",
      "        | US0_0(v38) -> (* Some *)\n",
      "            method4(v0, v1, v2, v38)\n",
      "and method1 (v0 : string, v1 : bool, v2 : string) : string =\n",
      "    let v3 : string option = None\n",
      "    let mutable _v3 = v3\n",
      "    #if FABLE_COMPILER_RUST && !WASM && !CONTRACT\n",
      "    let v4 : string = method0(v2)\n",
      "    let v5 : string = \"fable_library_rust::String_::LrcStr::as_str(&$0)\"\n",
      "    let v6 : Ref<Str> = Fable.Core.RustInterop.emitRustExpr v4 v5\n",
      "    let v7 : string = \"String::from($0)\"\n",
      "    let v8 : std_string_String = Fable.Core.RustInterop.emitRustExpr v6 v7\n",
      "    let v9 : string = \"std::path::PathBuf::from($0)\"\n",
      "    let v10 : std_path_PathBuf = Fable.Core.RustInterop.emitRustExpr v8 v9\n",
      "    let v11 : string = method0(v0)\n",
      "    let v12 : string = \"fable_library_rust::String_::LrcStr::as_str(&$0)\"\n",
      "    let v13 : Ref<Str> = Fable.Core.RustInterop.emitRustExpr v11 v12\n",
      "    let v14 : string = \"String::from($0)\"\n",
      "    let v15 : std_string_String = Fable.Core.RustInterop.emitRustExpr v13 v14\n",
      "    let v16 : string = \"$0.join($1)\"\n",
      "    let v17 : std_path_PathBuf = Fable.Core.RustInterop.emitRustExpr struct (v10, v15) v16\n",
      "    let v18 : string = \"$0.display().to_string()\"\n",
      "    let v19 : std_string_String = Fable.Core.RustInterop.emitRustExpr v17 v18\n",
      "    let v20 : string = \"fable_library_rust::String_::fromString($0)\"\n",
      "    let v21 : string = Fable.Core.RustInterop.emitRustExpr v19 v20\n",
      "    v21\n",
      "    #endif\n",
      "    #if FABLE_COMPILER_RUST && WASM\n",
      "    let v22 : string = null |> unbox<string>\n",
      "    v22\n",
      "    #endif\n",
      "    #if FABLE_COMPILER_RUST && CONTRACT\n",
      "    let v23 : string = null |> unbox<string>\n",
      "    v23\n",
      "    #endif\n",
      "    #if !FABLE_COMPILER && !FABLE_COMPILER_RUST && !WASM\n",
      "    let v24 : string = System.IO.Path.Combine (v2, v0)\n",
      "    v24\n",
      "    #endif\n",
      "    #if FABLE_COMPILER && !FABLE_COMPILER_RUST && !WASM\n",
      "    let v25 : string = null |> unbox<string>\n",
      "    v25\n",
      "    #endif\n",
      "    #if !FABLE_COMPILER_RUST && WASM\n",
      "    let v26 : string = null |> unbox<string>\n",
      "    v26\n",
      "    #endif\n",
      "    |> fun x -> _v3 <- Some x\n",
      "    let v27 : string = _v3 |> Option.get\n",
      "    let v30 : (string -> bool) =\n",
      "        if v1 then\n",
      "            closure8()\n",
      "        else\n",
      "            closure9()\n",
      "    let v31 : bool = v30 v27\n",
      "    if v31 then\n",
      "        v2\n",
      "    else\n",
      "        let v32 : (string -> string option) = method2()\n",
      "        let v33 : string option = v32 v2\n",
      "        let v34 : (string -> US0) = method3()\n",
      "        let v35 : US0 = US0_1\n",
      "        let v36 : US0 = v33 |> Option.map v34 |> Option.defaultValue v35\n",
      "        match v36 with\n",
      "        | US0_1 -> (* None *)\n",
      "            let v39 : string = $\"\"\"No parent for {if v1 then \"file\" else \"dir\"} '{v0}' at '{v2}'\"\"\"\n",
      "            failwith<string> v39\n",
      "        | US0_0(v37) -> (* Some *)\n",
      "            method4(v0, v1, v2, v37)\n",
      "and closure7 (v0 : string, v1 : bool) (v2 : string) : string =\n",
      "    method1(v0, v1, v2)\n",
      "and closure6 (v0 : string) (v1 : bool) : (string -> string) =\n",
      "    closure7(v0, v1)\n",
      "and closure5 () (v0 : string) : (bool -> (string -> string)) =\n",
      "    closure6(v0)\n",
      "and closure13 (v0 : string) (v1 : string) : string =\n",
      "    let v2 : string option = None\n",
      "    let mutable _v2 = v2\n",
      "    #if FABLE_COMPILER_RUST && !WASM && !CONTRACT\n",
      "    let v3 : string = method0(v0)\n",
      "    let v4 : string = \"fable_library_rust::String_::LrcStr::as_str(&$0)\"\n",
      "    let v5 : Ref<Str> = Fable.Core.RustInterop.emitRustExpr v3 v4\n",
      "    let v6 : string = \"String::from($0)\"\n",
      "    let v7 : std_string_String = Fable.Core.RustInterop.emitRustExpr v5 v6\n",
      "    let v8 : string = \"std::path::PathBuf::from($0)\"\n",
      "    let v9 : std_path_PathBuf = Fable.Core.RustInterop.emitRustExpr v7 v8\n",
      "    let v10 : string = method0(v1)\n",
      "    let v11 : string = \"fable_library_rust::String_::LrcStr::as_str(&$0)\"\n",
      "    let v12 : Ref<Str> = Fable.Core.RustInterop.emitRustExpr v10 v11\n",
      "    let v13 : string = \"String::from($0)\"\n",
      "    let v14 : std_string_String = Fable.Core.RustInterop.emitRustExpr v12 v13\n",
      "    let v15 : string = \"$0.join($1)\"\n",
      "    let v16 : std_path_PathBuf = Fable.Core.RustInterop.emitRustExpr struct (v9, v14) v15\n",
      "    let v17 : string = \"$0.display().to_string()\"\n",
      "    let v18 : std_string_String = Fable.Core.RustInterop.emitRustExpr v16 v17\n",
      "    let v19 : string = \"fable_library_rust::String_::fromString($0)\"\n",
      "    let v20 : string = Fable.Core.RustInterop.emitRustExpr v18 v19\n",
      "    v20\n",
      "    #endif\n",
      "    #if FABLE_COMPILER_RUST && WASM\n",
      "    let v21 : string = null |> unbox<string>\n",
      "    v21\n",
      "    #endif\n",
      "    #if FABLE_COMPILER_RUST && CONTRACT\n",
      "    let v22 : string = null |> unbox<string>\n",
      "    v22\n",
      "    #endif\n",
      "    #if !FABLE_COMPILER && !FABLE_COMPILER_RUST && !WASM\n",
      "    let v23 : string = System.IO.Path.Combine (v0, v1)\n",
      "    v23\n",
      "    #endif\n",
      "    #if FABLE_COMPILER && !FABLE_COMPILER_RUST && !WASM\n",
      "    let v24 : string = null |> unbox<string>\n",
      "    v24\n",
      "    #endif\n",
      "    #if !FABLE_COMPILER_RUST && WASM\n",
      "    let v25 : string = null |> unbox<string>\n",
      "    v25\n",
      "    #endif\n",
      "    |> fun x -> _v2 <- Some x\n",
      "    let v26 : string = _v2 |> Option.get\n",
      "    v26\n",
      "and closure12 () (v0 : string) : (string -> string) =\n",
      "    closure13(v0)\n",
      "let v0 : (unit -> string) = closure0()\n",
      "let create_temp_directory_name () = v0 ()\n",
      "let v1 : (unit -> string) = closure1()\n",
      "let create_temp_directory () = v1 ()\n",
      "let v2 : (unit -> string) = closure4()\n",
      "let get_source_directory () = v2 ()\n",
      "let v3 : (string -> (bool -> (string -> string))) = closure5()\n",
      "let find_parent x = v3 x\n",
      "let v4 : (string -> (string -> string)) = closure12()\n",
      "let (</>) x = v4 x\n",
      "()\n",
      "\n"
     ]
    }
   ],
   "source": [
    "inl main () =\n",
    "    types ()\n",
    "    $\"let create_temp_directory_name () = !create_temp_directory_name ()\" : ()\n",
    "    $\"let create_temp_directory () = !create_temp_directory ()\" : ()\n",
    "    $\"let get_source_directory () = !get_source_directory ()\" : ()\n",
    "    $\"let find_parent x = !find_parent x\" : ()\n",
    "    inl combine x = (</>) x\n",
    "    $\"let (</>) x = !combine x\" : ()"
   ]
  }
 ],
 "metadata": {},
 "nbformat": 4,
 "nbformat_minor": 5
}