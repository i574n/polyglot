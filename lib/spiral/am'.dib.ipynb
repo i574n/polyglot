{
 "cells": [
  {
   "cell_type": "markdown",
   "metadata": {},
   "source": [
    "# am'"
   ]
  },
  {
   "cell_type": "code",
   "execution_count": null,
   "metadata": {
    "dotnet_interactive": {
     "language": "spiral"
    },
    "polyglot_notebook": {
     "kernelName": "spiral"
    }
   },
   "outputs": [
    {
     "name": "stdout",
     "output_type": "stream",
     "text": [
      "()\n",
      "\n"
     ]
    }
   ],
   "source": [
    "// // test\n",
    "\n",
    "open testing\n",
    "\n",
    "prototype append t : t -> t -> t"
   ]
  },
  {
   "cell_type": "code",
   "execution_count": null,
   "metadata": {
    "dotnet_interactive": {
     "language": "spiral"
    },
    "polyglot_notebook": {
     "kernelName": "spiral"
    }
   },
   "outputs": [
    {
     "name": "stdout",
     "output_type": "stream",
     "text": [
      "()\n",
      "\n"
     ]
    }
   ],
   "source": [
    "open rust_operators"
   ]
  },
  {
   "cell_type": "code",
   "execution_count": null,
   "metadata": {
    "dotnet_interactive": {
     "language": "spiral"
    },
    "polyglot_notebook": {
     "kernelName": "spiral"
    }
   },
   "outputs": [
    {
     "name": "stdout",
     "output_type": "stream",
     "text": [
      "()\n",
      "\n"
     ]
    }
   ],
   "source": [
    "inl types () =\n",
    "    global \"[<Fable.Core.Erase; Fable.Core.Emit(\\\"[$0]\\\")>] type Slice<'T> = class end\"\n",
    "    global \"[<Fable.Core.Erase; Fable.Core.Emit(\\\"[$0; $1]\\\")>] type Slice'<'T, 'U> = class end\"\n",
    "    global \"[<Fable.Core.Erase; Fable.Core.Emit(\\\"Vec<$0>\\\")>] type Vec<'T> = class end\""
   ]
  },
  {
   "cell_type": "markdown",
   "metadata": {},
   "source": [
    "## length"
   ]
  },
  {
   "cell_type": "code",
   "execution_count": null,
   "metadata": {
    "dotnet_interactive": {
     "language": "spiral"
    },
    "polyglot_notebook": {
     "kernelName": "spiral"
    }
   },
   "outputs": [
    {
     "name": "stdout",
     "output_type": "stream",
     "text": [
      "()\n",
      "\n"
     ]
    }
   ],
   "source": [
    "inl length forall dim {int} el. (a : a dim el) : dim =\n",
    "    a |> length"
   ]
  },
  {
   "cell_type": "markdown",
   "metadata": {},
   "source": [
    "## index"
   ]
  },
  {
   "cell_type": "code",
   "execution_count": null,
   "metadata": {
    "dotnet_interactive": {
     "language": "spiral"
    },
    "polyglot_notebook": {
     "kernelName": "spiral"
    }
   },
   "outputs": [
    {
     "name": "stdout",
     "output_type": "stream",
     "text": [
      "()\n",
      "\n"
     ]
    }
   ],
   "source": [
    "inl index forall dim {int} el. (i : dim) (a : a dim el) : el =\n",
    "    index a i"
   ]
  },
  {
   "cell_type": "markdown",
   "metadata": {},
   "source": [
    "## append"
   ]
  },
  {
   "cell_type": "code",
   "execution_count": null,
   "metadata": {
    "dotnet_interactive": {
     "language": "spiral"
    },
    "polyglot_notebook": {
     "kernelName": "spiral"
    }
   },
   "outputs": [
    {
     "name": "stdout",
     "output_type": "stream",
     "text": [
      "()\n",
      "\n"
     ]
    }
   ],
   "source": [
    "instance append a dim {int; number} t =\n",
    "    am.append"
   ]
  },
  {
   "cell_type": "markdown",
   "metadata": {},
   "source": [
    "## /@"
   ]
  },
  {
   "cell_type": "code",
   "execution_count": null,
   "metadata": {
    "dotnet_interactive": {
     "language": "spiral"
    },
    "polyglot_notebook": {
     "kernelName": "spiral"
    }
   },
   "outputs": [
    {
     "name": "stdout",
     "output_type": "stream",
     "text": [
      "()\n",
      "\n"
     ]
    }
   ],
   "source": [
    "inl (/@) a b =\n",
    "    b |> append a"
   ]
  },
  {
   "cell_type": "code",
   "execution_count": null,
   "metadata": {
    "dotnet_interactive": {
     "language": "spiral"
    },
    "polyglot_notebook": {
     "kernelName": "spiral"
    }
   },
   "outputs": [
    {
     "name": "stdout",
     "output_type": "stream",
     "text": [
      "type Mut0 = {mutable l0 : int32}\n",
      "let rec method1 (v0 : int32, v1 : Mut0) : bool =\n",
      "    let v2 : int32 = v1.l0\n",
      "    let v3 : bool = v2 < v0\n",
      "    v3\n",
      "and method2 (v0 : (string []), v1 : (string []), v2 : int32) : bool =\n",
      "    let v3 : int32 = v0.Length\n",
      "    let v4 : bool = v2 < v3\n",
      "    if v4 then\n",
      "        let v5 : string = v0.[int v2]\n",
      "        let v6 : string = v1.[int v2]\n",
      "        let v7 : bool = v5 = v6\n",
      "        if v7 then\n",
      "            let v8 : int32 = v2 + 1\n",
      "            method2(v0, v1, v8)\n",
      "        else\n",
      "            false\n",
      "    else\n",
      "        true\n",
      "and method3 (v0 : bool) : bool =\n",
      "    v0\n",
      "and method0 () : unit =\n",
      "    let v0 : string = \"a\"\n",
      "    let v1 : string = \"b\"\n",
      "    let v2 : (string []) = [|v0; v1|]\n",
      "    let v3 : string = \"c\"\n",
      "    let v4 : string = \"d\"\n",
      "    let v5 : (string []) = [|v3; v4|]\n",
      "    let v6 : int32 = v2.Length\n",
      "    let v7 : int32 = v5.Length\n",
      "    let v8 : int32 = v6 + v7\n",
      "    let v9 : (string []) = Array.zeroCreate<string> (v8)\n",
      "    let v10 : Mut0 = {l0 = 0} : Mut0\n",
      "    while method1(v8, v10) do\n",
      "        let v12 : int32 = v10.l0\n",
      "        let v13 : bool = v12 < v6\n",
      "        let v17 : string =\n",
      "            if v13 then\n",
      "                let v14 : string = v2.[int v12]\n",
      "                v14\n",
      "            else\n",
      "                let v15 : int32 = v12 - v6\n",
      "                let v16 : string = v5.[int v15]\n",
      "                v16\n",
      "        v9.[int v12] <- v17\n",
      "        let v18 : int32 = v12 + 1\n",
      "        v10.l0 <- v18\n",
      "        ()\n",
      "    let v19 : (string []) = [|v0; v1; v3; v4|]\n",
      "    let v20 : string = $\"%A{v9}\"\n",
      "    System.Console.WriteLine v20\n",
      "    let v21 : int32 = v9.Length\n",
      "    let v22 : int32 = v19.Length\n",
      "    let v23 : bool = v21 = v22\n",
      "    let v24 : bool = v23 <> true\n",
      "    let v27 : bool =\n",
      "        if v24 then\n",
      "            false\n",
      "        else\n",
      "            let v25 : int32 = 0\n",
      "            method2(v9, v19, v25)\n",
      "    let v29 : bool =\n",
      "        if v27 then\n",
      "            true\n",
      "        else\n",
      "            method3(v27)\n",
      "    let v30 : string = $\"__expect / actual: %A{v9} / expected: %A{v19}\"\n",
      "    let v31 : bool = v29 = false\n",
      "    if v31 then\n",
      "        failwith<unit> v30\n",
      "method0()\n",
      "\n",
      "[|\"a\"; \"b\"; \"c\"; \"d\"|]\n"
     ]
    }
   ],
   "source": [
    "// // test\n",
    "\n",
    "a ;[ \"a\"; \"b\" ] /@ a ;[ \"c\"; \"d\" ]\n",
    "|> _assert_eq (a ;[ \"a\"; \"b\"; \"c\"; \"d\" ] : _ i32 _)"
   ]
  },
  {
   "cell_type": "markdown",
   "metadata": {},
   "source": [
    "## collect"
   ]
  },
  {
   "cell_type": "code",
   "execution_count": null,
   "metadata": {
    "dotnet_interactive": {
     "language": "spiral"
    },
    "polyglot_notebook": {
     "kernelName": "spiral"
    }
   },
   "outputs": [
    {
     "name": "stdout",
     "output_type": "stream",
     "text": [
      "()\n",
      "\n"
     ]
    }
   ],
   "source": [
    "inl collect forall t r. (fn : t -> a i32 r) (items : a i32 t) : a i32 r =\n",
    "    items\n",
    "    |> am.map fn\n",
    "    |> am.fold (/@) (a ;[])"
   ]
  },
  {
   "cell_type": "markdown",
   "metadata": {},
   "source": [
    "## choose"
   ]
  },
  {
   "cell_type": "code",
   "execution_count": null,
   "metadata": {
    "dotnet_interactive": {
     "language": "spiral"
    },
    "polyglot_notebook": {
     "kernelName": "spiral"
    }
   },
   "outputs": [
    {
     "name": "stdout",
     "output_type": "stream",
     "text": [
      "()\n",
      "\n"
     ]
    }
   ],
   "source": [
    "inl choose f l =\n",
    "    (l, [])\n",
    "    ||> am.foldBack fun x acc =>\n",
    "        match f x with\n",
    "        | Some y => y :: acc\n",
    "        | None => acc\n",
    "    |> listm.toArray"
   ]
  },
  {
   "cell_type": "code",
   "execution_count": null,
   "metadata": {
    "dotnet_interactive": {
     "language": "spiral"
    },
    "polyglot_notebook": {
     "kernelName": "spiral"
    }
   },
   "outputs": [
    {
     "name": "stdout",
     "output_type": "stream",
     "text": [
      "type Mut0 = {mutable l0 : int32}\n",
      "and UH0 =\n",
      "    | UH0_0\n",
      "    | UH0_1 of int32 * UH0\n",
      "and Mut1 = {mutable l0 : int32; mutable l1 : UH0}\n",
      "and [<Struct>] US0 =\n",
      "    | US0_0 of f0_0 : int32\n",
      "    | US0_1\n",
      "let rec method1 (v0 : Mut0) : bool =\n",
      "    let v1 : int32 = v0.l0\n",
      "    let v2 : bool = v1 < 10\n",
      "    v2\n",
      "and method2 (v0 : int32, v1 : Mut1) : bool =\n",
      "    let v2 : int32 = v1.l0\n",
      "    let v3 : bool = v2 < v0\n",
      "    v3\n",
      "and method4 (v0 : UH0, v1 : int32) : int32 =\n",
      "    match v0 with\n",
      "    | UH0_1(v2, v3) -> (* Cons *)\n",
      "        let v4 : int32 = v1 + 1\n",
      "        method4(v3, v4)\n",
      "    | UH0_0 -> (* Nil *)\n",
      "        v1\n",
      "and method5 (v0 : (int32 []), v1 : UH0, v2 : int32) : int32 =\n",
      "    match v1 with\n",
      "    | UH0_1(v3, v4) -> (* Cons *)\n",
      "        v0.[int v2] <- v3\n",
      "        let v5 : int32 = v2 + 1\n",
      "        method5(v0, v4, v5)\n",
      "    | UH0_0 -> (* Nil *)\n",
      "        v2\n",
      "and method3 (v0 : UH0) : (int32 []) =\n",
      "    let v1 : int32 = 0\n",
      "    let v2 : int32 = method4(v0, v1)\n",
      "    let v3 : (int32 []) = Array.zeroCreate<int32> (v2)\n",
      "    let v4 : int32 = 0\n",
      "    let v5 : int32 = method5(v3, v0, v4)\n",
      "    v3\n",
      "and method6 (v0 : (int32 []), v1 : (int32 []), v2 : int32) : bool =\n",
      "    let v3 : int32 = v0.Length\n",
      "    let v4 : bool = v2 < v3\n",
      "    if v4 then\n",
      "        let v5 : int32 = v0.[int v2]\n",
      "        let v6 : int32 = v1.[int v2]\n",
      "        let v7 : bool = v5 = v6\n",
      "        if v7 then\n",
      "            let v8 : int32 = v2 + 1\n",
      "            method6(v0, v1, v8)\n",
      "        else\n",
      "            false\n",
      "    else\n",
      "        true\n",
      "and method7 (v0 : bool) : bool =\n",
      "    v0\n",
      "and method0 () : unit =\n",
      "    let v0 : (int32 []) = Array.zeroCreate<int32> (10)\n",
      "    let v1 : Mut0 = {l0 = 0} : Mut0\n",
      "    while method1(v1) do\n",
      "        let v3 : int32 = v1.l0\n",
      "        v0.[int v3] <- v3\n",
      "        let v4 : int32 = v3 + 1\n",
      "        v1.l0 <- v4\n",
      "        ()\n",
      "    let v5 : int32 = v0.Length\n",
      "    let v6 : UH0 = UH0_0\n",
      "    let v7 : Mut1 = {l0 = 0; l1 = v6} : Mut1\n",
      "    while method2(v5, v7) do\n",
      "        let v9 : int32 = v7.l0\n",
      "        let v10 : int32 =  -v9\n",
      "        let v11 : int32 = v10 + v5\n",
      "        let v12 : int32 = v11 - 1\n",
      "        let v13 : UH0 = v7.l1\n",
      "        let v14 : int32 = v0.[int v12]\n",
      "        let v15 : int32 = v14 % 2\n",
      "        let v16 : bool = v15 = 0\n",
      "        let v19 : US0 =\n",
      "            if v16 then\n",
      "                US0_0(v14)\n",
      "            else\n",
      "                US0_1\n",
      "        let v23 : UH0 =\n",
      "            match v19 with\n",
      "            | US0_1 -> (* None *)\n",
      "                v13\n",
      "            | US0_0(v20) -> (* Some *)\n",
      "                UH0_1(v20, v13)\n",
      "        let v24 : int32 = v9 + 1\n",
      "        v7.l0 <- v24\n",
      "        v7.l1 <- v23\n",
      "        ()\n",
      "    let v25 : UH0 = v7.l1\n",
      "    let v26 : (int32 []) = method3(v25)\n",
      "    let v27 : (int32 []) = [|0; 2; 4; 6; 8|]\n",
      "    let v28 : string = $\"%A{v26}\"\n",
      "    System.Console.WriteLine v28\n",
      "    let v29 : int32 = v26.Length\n",
      "    let v30 : int32 = v27.Length\n",
      "    let v31 : bool = v29 = v30\n",
      "    let v32 : bool = v31 <> true\n",
      "    let v35 : bool =\n",
      "        if v32 then\n",
      "            false\n",
      "        else\n",
      "            let v33 : int32 = 0\n",
      "            method6(v26, v27, v33)\n",
      "    let v37 : bool =\n",
      "        if v35 then\n",
      "            true\n",
      "        else\n",
      "            method7(v35)\n",
      "    let v38 : string = $\"__expect / actual: %A{v26} / expected: %A{v27}\"\n",
      "    let v39 : bool = v37 = false\n",
      "    if v39 then\n",
      "        failwith<unit> v38\n",
      "method0()\n",
      "\n",
      "[|0; 2; 4; 6; 8|]\n"
     ]
    }
   ],
   "source": [
    "// // test\n",
    "\n",
    "(am.init 10i32 id : a _ _)\n",
    "|> choose (fun x => if x % 2 = 0 then Some x else None)\n",
    "|> _assert_eq (a ;[ 0; 2; 4; 6; 8 ] : _ i32 _)"
   ]
  },
  {
   "cell_type": "markdown",
   "metadata": {},
   "source": [
    "## sum"
   ]
  },
  {
   "cell_type": "code",
   "execution_count": null,
   "metadata": {
    "dotnet_interactive": {
     "language": "spiral"
    },
    "polyglot_notebook": {
     "kernelName": "spiral"
    }
   },
   "outputs": [
    {
     "name": "stdout",
     "output_type": "stream",
     "text": [
      "()\n",
      "\n"
     ]
    }
   ],
   "source": [
    "inl sum (a' : a _ _) =\n",
    "    a' |> am.fold (+) 0"
   ]
  },
  {
   "cell_type": "code",
   "execution_count": null,
   "metadata": {
    "dotnet_interactive": {
     "language": "spiral"
    },
    "polyglot_notebook": {
     "kernelName": "spiral"
    }
   },
   "outputs": [
    {
     "name": "stdout",
     "output_type": "stream",
     "text": [
      "type Mut0 = {mutable l0 : int32}\n",
      "and Mut1 = {mutable l0 : int32; mutable l1 : int32}\n",
      "let rec method1 (v0 : Mut0) : bool =\n",
      "    let v1 : int32 = v0.l0\n",
      "    let v2 : bool = v1 < 10\n",
      "    v2\n",
      "and method2 (v0 : int32, v1 : Mut1) : bool =\n",
      "    let v2 : int32 = v1.l0\n",
      "    let v3 : bool = v2 < v0\n",
      "    v3\n",
      "and method3 (v0 : bool) : bool =\n",
      "    v0\n",
      "and method0 () : unit =\n",
      "    let v0 : (int32 []) = Array.zeroCreate<int32> (10)\n",
      "    let v1 : Mut0 = {l0 = 0} : Mut0\n",
      "    while method1(v1) do\n",
      "        let v3 : int32 = v1.l0\n",
      "        v0.[int v3] <- v3\n",
      "        let v4 : int32 = v3 + 1\n",
      "        v1.l0 <- v4\n",
      "        ()\n",
      "    let v5 : int32 = v0.Length\n",
      "    let v6 : Mut1 = {l0 = 0; l1 = 0} : Mut1\n",
      "    while method2(v5, v6) do\n",
      "        let v8 : int32 = v6.l0\n",
      "        let v9 : int32 = v6.l1\n",
      "        let v10 : int32 = v0.[int v8]\n",
      "        let v11 : int32 = v9 + v10\n",
      "        let v12 : int32 = v8 + 1\n",
      "        v6.l0 <- v12\n",
      "        v6.l1 <- v11\n",
      "        ()\n",
      "    let v13 : int32 = v6.l1\n",
      "    let v14 : string = $\"%A{v13}\"\n",
      "    System.Console.WriteLine v14\n",
      "    let v15 : bool = v13 = 45\n",
      "    let v17 : bool =\n",
      "        if v15 then\n",
      "            true\n",
      "        else\n",
      "            method3(v15)\n",
      "    let v18 : string = $\"__expect / actual: %A{v13} / expected: %A{45}\"\n",
      "    let v19 : bool = v17 = false\n",
      "    if v19 then\n",
      "        failwith<unit> v18\n",
      "method0()\n",
      "\n",
      "45\n"
     ]
    }
   ],
   "source": [
    "// // test\n",
    "\n",
    "am.init 10i32 id\n",
    "|> sum\n",
    "|> _assert_eq 45"
   ]
  },
  {
   "cell_type": "markdown",
   "metadata": {},
   "source": [
    "## init_series"
   ]
  },
  {
   "cell_type": "code",
   "execution_count": null,
   "metadata": {
    "dotnet_interactive": {
     "language": "spiral"
    },
    "polyglot_notebook": {
     "kernelName": "spiral"
    }
   },
   "outputs": [
    {
     "name": "stdout",
     "output_type": "stream",
     "text": [
      "()\n",
      "\n"
     ]
    }
   ],
   "source": [
    "inl init_series start end inc =\n",
    "    inl total = conv ((end - start) / inc) + 1\n",
    "    am.init total (conv >> (*) inc >> (+) start) : a i32 _"
   ]
  },
  {
   "cell_type": "code",
   "execution_count": null,
   "metadata": {
    "dotnet_interactive": {
     "language": "spiral"
    },
    "polyglot_notebook": {
     "kernelName": "spiral"
    }
   },
   "outputs": [
    {
     "name": "stdout",
     "output_type": "stream",
     "text": [
      "type Mut0 = {mutable l0 : int32}\n",
      "let rec method1 (v0 : Mut0) : bool =\n",
      "    let v1 : int32 = v0.l0\n",
      "    let v2 : bool = v1 < 3\n",
      "    v2\n",
      "and method2 (v0 : (float []), v1 : (float []), v2 : int32) : bool =\n",
      "    let v3 : int32 = v0.Length\n",
      "    let v4 : bool = v2 < v3\n",
      "    if v4 then\n",
      "        let v5 : float = v0.[int v2]\n",
      "        let v6 : float = v1.[int v2]\n",
      "        let v7 : bool = v5 = v6\n",
      "        if v7 then\n",
      "            let v8 : int32 = v2 + 1\n",
      "            method2(v0, v1, v8)\n",
      "        else\n",
      "            false\n",
      "    else\n",
      "        true\n",
      "and method3 (v0 : bool) : bool =\n",
      "    v0\n",
      "and method0 () : unit =\n",
      "    let v0 : (float []) = Array.zeroCreate<float> (3)\n",
      "    let v1 : Mut0 = {l0 = 0} : Mut0\n",
      "    while method1(v1) do\n",
      "        let v3 : int32 = v1.l0\n",
      "        let v4 : float = float v3\n",
      "        let v5 : float = 0.5 * v4\n",
      "        v0.[int v3] <- v5\n",
      "        let v6 : int32 = v3 + 1\n",
      "        v1.l0 <- v6\n",
      "        ()\n",
      "    let v7 : (float []) = [|0.0; 0.5; 1.0|]\n",
      "    let v8 : string = $\"%A{v0}\"\n",
      "    System.Console.WriteLine v8\n",
      "    let v9 : int32 = v0.Length\n",
      "    let v10 : int32 = v7.Length\n",
      "    let v11 : bool = v9 = v10\n",
      "    let v12 : bool = v11 <> true\n",
      "    let v15 : bool =\n",
      "        if v12 then\n",
      "            false\n",
      "        else\n",
      "            let v13 : int32 = 0\n",
      "            method2(v0, v7, v13)\n",
      "    let v17 : bool =\n",
      "        if v15 then\n",
      "            true\n",
      "        else\n",
      "            method3(v15)\n",
      "    let v18 : string = $\"__expect / actual: %A{v0} / expected: %A{v7}\"\n",
      "    let v19 : bool = v17 = false\n",
      "    if v19 then\n",
      "        failwith<unit> v18\n",
      "method0()\n",
      "\n",
      "[|0.0; 0.5; 1.0|]\n"
     ]
    }
   ],
   "source": [
    "// // test\n",
    "\n",
    "init_series 0 1 0.5\n",
    "|> _assert_eq (a ;[ 0f64; 0.5; 1 ])"
   ]
  },
  {
   "cell_type": "markdown",
   "metadata": {},
   "source": [
    "## head"
   ]
  },
  {
   "cell_type": "code",
   "execution_count": null,
   "metadata": {
    "dotnet_interactive": {
     "language": "spiral"
    },
    "polyglot_notebook": {
     "kernelName": "spiral"
    }
   },
   "outputs": [
    {
     "name": "stdout",
     "output_type": "stream",
     "text": [
      "()\n",
      "\n"
     ]
    }
   ],
   "source": [
    "inl head (ar : a _ _) =\n",
    "    if var_is ar || length ar > 0\n",
    "    then ar |> index 0\n",
    "    else error_type \"The length of the array should be greater than 0.\""
   ]
  },
  {
   "cell_type": "markdown",
   "metadata": {},
   "source": [
    "## last"
   ]
  },
  {
   "cell_type": "code",
   "execution_count": null,
   "metadata": {
    "dotnet_interactive": {
     "language": "spiral"
    },
    "polyglot_notebook": {
     "kernelName": "spiral"
    }
   },
   "outputs": [
    {
     "name": "stdout",
     "output_type": "stream",
     "text": [
      "()\n",
      "\n"
     ]
    }
   ],
   "source": [
    "inl last (ar : a _ _) =\n",
    "    inl len = length ar\n",
    "    if var_is ar || len > 0\n",
    "    then ar |> index (len - 1)\n",
    "    else error_type \"The length of the array should be greater than 0.\""
   ]
  },
  {
   "cell_type": "code",
   "execution_count": null,
   "metadata": {
    "dotnet_interactive": {
     "language": "spiral"
    },
    "polyglot_notebook": {
     "kernelName": "spiral"
    }
   },
   "outputs": [
    {
     "name": "stdout",
     "output_type": "stream",
     "text": [
      "type Mut0 = {mutable l0 : int32}\n",
      "let rec method1 (v0 : Mut0) : bool =\n",
      "    let v1 : int32 = v0.l0\n",
      "    let v2 : bool = v1 < 10\n",
      "    v2\n",
      "and method2 (v0 : bool) : bool =\n",
      "    v0\n",
      "and method0 () : unit =\n",
      "    let v0 : (int32 []) = Array.zeroCreate<int32> (10)\n",
      "    let v1 : Mut0 = {l0 = 0} : Mut0\n",
      "    while method1(v1) do\n",
      "        let v3 : int32 = v1.l0\n",
      "        v0.[int v3] <- v3\n",
      "        let v4 : int32 = v3 + 1\n",
      "        v1.l0 <- v4\n",
      "        ()\n",
      "    let v5 : int32 = v0.Length\n",
      "    let v6 : int32 = v5 - 1\n",
      "    let v7 : int32 = v0.[int v6]\n",
      "    let v8 : string = $\"%A{v7}\"\n",
      "    System.Console.WriteLine v8\n",
      "    let v9 : bool = v7 = 9\n",
      "    let v11 : bool =\n",
      "        if v9 then\n",
      "            true\n",
      "        else\n",
      "            method2(v9)\n",
      "    let v12 : string = $\"__expect / actual: %A{v7} / expected: %A{9}\"\n",
      "    let v13 : bool = v11 = false\n",
      "    if v13 then\n",
      "        failwith<unit> v12\n",
      "method0()\n",
      "\n",
      "9\n"
     ]
    }
   ],
   "source": [
    "// // test\n",
    "\n",
    "am.init 10i32 id\n",
    "|> last\n",
    "|> _assert_eq 9"
   ]
  },
  {
   "cell_type": "markdown",
   "metadata": {},
   "source": [
    "## try_pick"
   ]
  },
  {
   "cell_type": "code",
   "execution_count": null,
   "metadata": {
    "dotnet_interactive": {
     "language": "spiral"
    },
    "polyglot_notebook": {
     "kernelName": "spiral"
    }
   },
   "outputs": [
    {
     "name": "stdout",
     "output_type": "stream",
     "text": [
      "()\n",
      "\n"
     ]
    }
   ],
   "source": [
    "inl try_pick forall t u. (fn : t -> option u) (array : a _ t) : option u =\n",
    "    (array, None)\n",
    "    ||> am.foldBack fun x acc =>\n",
    "        match acc with\n",
    "        | Some _ => acc\n",
    "        | None => x |> fn"
   ]
  },
  {
   "cell_type": "code",
   "execution_count": null,
   "metadata": {
    "dotnet_interactive": {
     "language": "spiral"
    },
    "polyglot_notebook": {
     "kernelName": "spiral"
    }
   },
   "outputs": [
    {
     "name": "stdout",
     "output_type": "stream",
     "text": [
      "type Mut0 = {mutable l0 : int32}\n",
      "and [<Struct>] US0 =\n",
      "    | US0_0 of f0_0 : int32\n",
      "    | US0_1\n",
      "and Mut1 = {mutable l0 : int32; mutable l1 : US0}\n",
      "let rec method1 (v0 : Mut0) : bool =\n",
      "    let v1 : int32 = v0.l0\n",
      "    let v2 : bool = v1 < 10\n",
      "    v2\n",
      "and method2 (v0 : int32, v1 : Mut1) : bool =\n",
      "    let v2 : int32 = v1.l0\n",
      "    let v3 : bool = v2 < v0\n",
      "    v3\n",
      "and method3 (v0 : bool) : bool =\n",
      "    v0\n",
      "and method0 () : unit =\n",
      "    let v0 : (int32 []) = Array.zeroCreate<int32> (10)\n",
      "    let v1 : Mut0 = {l0 = 0} : Mut0\n",
      "    while method1(v1) do\n",
      "        let v3 : int32 = v1.l0\n",
      "        v0.[int v3] <- v3\n",
      "        let v4 : int32 = v3 + 1\n",
      "        v1.l0 <- v4\n",
      "        ()\n",
      "    let v5 : int32 = v0.Length\n",
      "    let v6 : US0 = US0_1\n",
      "    let v7 : Mut1 = {l0 = 0; l1 = v6} : Mut1\n",
      "    while method2(v5, v7) do\n",
      "        let v9 : int32 = v7.l0\n",
      "        let v10 : int32 =  -v9\n",
      "        let v11 : int32 = v10 + v5\n",
      "        let v12 : int32 = v11 - 1\n",
      "        let v13 : US0 = v7.l1\n",
      "        let v14 : int32 = v0.[int v12]\n",
      "        let v21 : US0 =\n",
      "            match v13 with\n",
      "            | US0_1 -> (* None *)\n",
      "                let v16 : bool = v14 = 5\n",
      "                if v16 then\n",
      "                    US0_0(v14)\n",
      "                else\n",
      "                    US0_1\n",
      "            | US0_0(v15) -> (* Some *)\n",
      "                v13\n",
      "        let v22 : int32 = v9 + 1\n",
      "        v7.l0 <- v22\n",
      "        v7.l1 <- v21\n",
      "        ()\n",
      "    let v23 : US0 = v7.l1\n",
      "    let v24 : string = $\"%A{v23}\"\n",
      "    System.Console.WriteLine v24\n",
      "    let v28 : bool =\n",
      "        match v23 with\n",
      "        | US0_0(v26) -> (* Some *)\n",
      "            let v27 : bool = v26 = 5\n",
      "            v27\n",
      "        | _ ->\n",
      "            false\n",
      "    let v30 : bool =\n",
      "        if v28 then\n",
      "            true\n",
      "        else\n",
      "            method3(v28)\n",
      "    let v31 : US0 = US0_0(5)\n",
      "    let v32 : string = $\"__expect / actual: %A{v23} / expected: %A{v31}\"\n",
      "    let v33 : bool = v30 = false\n",
      "    if v33 then\n",
      "        failwith<unit> v32\n",
      "method0()\n",
      "\n",
      "US0_0 5\n"
     ]
    }
   ],
   "source": [
    "// // test\n",
    "\n",
    "am.init 10i32 id\n",
    "|> try_pick (fun x => if x = 5i32 then Some x else None)\n",
    "|> _assert_eq (Some 5i32)"
   ]
  },
  {
   "cell_type": "markdown",
   "metadata": {},
   "source": [
    "## indexed'"
   ]
  },
  {
   "cell_type": "code",
   "execution_count": null,
   "metadata": {
    "dotnet_interactive": {
     "language": "spiral"
    },
    "polyglot_notebook": {
     "kernelName": "spiral"
    }
   },
   "outputs": [
    {
     "name": "stdout",
     "output_type": "stream",
     "text": [
      "()\n",
      "\n"
     ]
    }
   ],
   "source": [
    "inl indexed' forall t dim {int; number} dim' {int; number} u {number}. (ar : a dim t) : a dim' (u * t) =\n",
    "    ((0, a ;[]), ar)\n",
    "    ||> am.fold fun (i, acc) x =>\n",
    "        i + 1, acc /@ a ;[i, x]\n",
    "    |> snd"
   ]
  },
  {
   "cell_type": "code",
   "execution_count": null,
   "metadata": {
    "dotnet_interactive": {
     "language": "spiral"
    },
    "polyglot_notebook": {
     "kernelName": "spiral"
    }
   },
   "outputs": [
    {
     "name": "stdout",
     "output_type": "stream",
     "text": [
      "type Mut0 = {mutable l0 : int32}\n",
      "and Mut1 = {mutable l0 : int32; mutable l1 : int32; mutable l2 : (struct (int32 * int32) [])}\n",
      "let rec method1 (v0 : Mut0) : bool =\n",
      "    let v1 : int32 = v0.l0\n",
      "    let v2 : bool = v1 < 3\n",
      "    v2\n",
      "and method2 (v0 : int32, v1 : Mut1) : bool =\n",
      "    let v2 : int32 = v1.l0\n",
      "    let v3 : bool = v2 < v0\n",
      "    v3\n",
      "and method3 (v0 : int32, v1 : Mut0) : bool =\n",
      "    let v2 : int32 = v1.l0\n",
      "    let v3 : bool = v2 < v0\n",
      "    v3\n",
      "and method4 (v0 : (struct (int32 * int32) []), v1 : (struct (int32 * int32) []), v2 : int32) : bool =\n",
      "    let v3 : int32 = v0.Length\n",
      "    let v4 : bool = v2 < v3\n",
      "    if v4 then\n",
      "        let struct (v5 : int32, v6 : int32) = v0.[int v2]\n",
      "        let struct (v7 : int32, v8 : int32) = v1.[int v2]\n",
      "        let v9 : bool = v5 = v7\n",
      "        let v11 : bool =\n",
      "            if v9 then\n",
      "                let v10 : bool = v6 = v8\n",
      "                v10\n",
      "            else\n",
      "                false\n",
      "        if v11 then\n",
      "            let v12 : int32 = v2 + 1\n",
      "            method4(v0, v1, v12)\n",
      "        else\n",
      "            false\n",
      "    else\n",
      "        true\n",
      "and method5 (v0 : bool) : bool =\n",
      "    v0\n",
      "and method0 () : unit =\n",
      "    let v0 : (int32 []) = Array.zeroCreate<int32> (3)\n",
      "    let v1 : Mut0 = {l0 = 0} : Mut0\n",
      "    while method1(v1) do\n",
      "        let v3 : int32 = v1.l0\n",
      "        let v4 : int32 = 2 * v3\n",
      "        v0.[int v3] <- v4\n",
      "        let v5 : int32 = v3 + 1\n",
      "        v1.l0 <- v5\n",
      "        ()\n",
      "    let v6 : (struct (int32 * int32) []) = [||]\n",
      "    let v7 : int32 = v0.Length\n",
      "    let v8 : Mut1 = {l0 = 0; l1 = 0; l2 = v6} : Mut1\n",
      "    while method2(v7, v8) do\n",
      "        let v10 : int32 = v8.l0\n",
      "        let struct (v11 : int32, v12 : (struct (int32 * int32) [])) = v8.l1, v8.l2\n",
      "        let v13 : int32 = v0.[int v10]\n",
      "        let v14 : int32 = v11 + 1\n",
      "        let v15 : (struct (int32 * int32) []) = [|struct (v11, v13)|]\n",
      "        let v16 : int32 = v12.Length\n",
      "        let v17 : int32 = v15.Length\n",
      "        let v18 : int32 = v16 + v17\n",
      "        let v19 : (struct (int32 * int32) []) = Array.zeroCreate<struct (int32 * int32)> (v18)\n",
      "        let v20 : Mut0 = {l0 = 0} : Mut0\n",
      "        while method3(v18, v20) do\n",
      "            let v22 : int32 = v20.l0\n",
      "            let v23 : bool = v22 < v16\n",
      "            let struct (v29 : int32, v30 : int32) =\n",
      "                if v23 then\n",
      "                    let struct (v24 : int32, v25 : int32) = v12.[int v22]\n",
      "                    struct (v24, v25)\n",
      "                else\n",
      "                    let v26 : int32 = v22 - v16\n",
      "                    let struct (v27 : int32, v28 : int32) = v15.[int v26]\n",
      "                    struct (v27, v28)\n",
      "            v19.[int v22] <- struct (v29, v30)\n",
      "            let v31 : int32 = v22 + 1\n",
      "            v20.l0 <- v31\n",
      "            ()\n",
      "        let v32 : int32 = v10 + 1\n",
      "        v8.l0 <- v32\n",
      "        v8.l1 <- v14\n",
      "        v8.l2 <- v19\n",
      "        ()\n",
      "    let struct (v33 : int32, v34 : (struct (int32 * int32) [])) = v8.l1, v8.l2\n",
      "    let v35 : (struct (int32 * int32) []) = [|struct (0, 0); struct (1, 2); struct (2, 4)|]\n",
      "    let v36 : string = $\"%A{v34}\"\n",
      "    System.Console.WriteLine v36\n",
      "    let v37 : int32 = v34.Length\n",
      "    let v38 : int32 = v35.Length\n",
      "    let v39 : bool = v37 = v38\n",
      "    let v40 : bool = v39 <> true\n",
      "    let v43 : bool =\n",
      "        if v40 then\n",
      "            false\n",
      "        else\n",
      "            let v41 : int32 = 0\n",
      "            method4(v34, v35, v41)\n",
      "    let v45 : bool =\n",
      "        if v43 then\n",
      "            true\n",
      "        else\n",
      "            method5(v43)\n",
      "    let v46 : string = $\"__expect / actual: %A{v34} / expected: %A{v35}\"\n",
      "    let v47 : bool = v45 = false\n",
      "    if v47 then\n",
      "        failwith<unit> v46\n",
      "method0()\n",
      "\n",
      "[|struct (0, 0); struct (1, 2); struct (2, 4)|]\n"
     ]
    }
   ],
   "source": [
    "// // test\n",
    "\n",
    "am.init 3i32 ((*) 2)\n",
    "|> indexed'\n",
    "|> _assert_eq (a ;[0i32, 0; 1, 2; 2, 4] : a i32 _)"
   ]
  },
  {
   "cell_type": "markdown",
   "metadata": {},
   "source": [
    "## map_base"
   ]
  },
  {
   "cell_type": "code",
   "execution_count": null,
   "metadata": {
    "dotnet_interactive": {
     "language": "spiral"
    },
    "polyglot_notebook": {
     "kernelName": "spiral"
    }
   },
   "outputs": [
    {
     "name": "stdout",
     "output_type": "stream",
     "text": [
      "()\n",
      "\n"
     ]
    }
   ],
   "source": [
    "inl map_base forall t u. (fn : t -> u) (x : array_base t) : array_base u =\n",
    "    a x\n",
    "    |> am.map fn\n",
    "    |> fun (a x : _ i64 _) => x"
   ]
  },
  {
   "cell_type": "markdown",
   "metadata": {},
   "source": [
    "## average"
   ]
  },
  {
   "cell_type": "code",
   "execution_count": null,
   "metadata": {
    "dotnet_interactive": {
     "language": "spiral"
    },
    "polyglot_notebook": {
     "kernelName": "spiral"
    }
   },
   "outputs": [
    {
     "name": "stdout",
     "output_type": "stream",
     "text": [
      "()\n",
      "\n"
     ]
    }
   ],
   "source": [
    "inl average forall el {number}. (a : a _ el) : el =\n",
    "    a |> $'Array.average'"
   ]
  },
  {
   "cell_type": "code",
   "execution_count": null,
   "metadata": {
    "dotnet_interactive": {
     "language": "spiral"
    },
    "polyglot_notebook": {
     "kernelName": "spiral"
    }
   },
   "outputs": [
    {
     "name": "stdout",
     "output_type": "stream",
     "text": [
      "()\n",
      "\n"
     ]
    }
   ],
   "source": [
    "inl distinct forall dim el. (a : a dim el) : a dim el =\n",
    "    a |> $'Array.distinct'"
   ]
  },
  {
   "cell_type": "markdown",
   "metadata": {},
   "source": [
    "## parallel_map"
   ]
  },
  {
   "cell_type": "code",
   "execution_count": null,
   "metadata": {
    "dotnet_interactive": {
     "language": "spiral"
    },
    "polyglot_notebook": {
     "kernelName": "spiral"
    }
   },
   "outputs": [
    {
     "name": "stdout",
     "output_type": "stream",
     "text": [
      "()\n",
      "\n"
     ]
    }
   ],
   "source": [
    "inl parallel_map forall dim el el'. (fn : el -> el') (a : a dim el) : a dim el' =\n",
    "    a |> $'Array.Parallel.map' fn"
   ]
  },
  {
   "cell_type": "markdown",
   "metadata": {},
   "source": [
    "## sort_by"
   ]
  },
  {
   "cell_type": "code",
   "execution_count": null,
   "metadata": {
    "dotnet_interactive": {
     "language": "spiral"
    },
    "polyglot_notebook": {
     "kernelName": "spiral"
    }
   },
   "outputs": [
    {
     "name": "stdout",
     "output_type": "stream",
     "text": [
      "()\n",
      "\n"
     ]
    }
   ],
   "source": [
    "inl sort_by forall dim el. (fn : el -> _) (a : a dim el) : a dim el =\n",
    "    a |> $'Array.sortBy' fn"
   ]
  },
  {
   "cell_type": "markdown",
   "metadata": {},
   "source": [
    "## sort_descending"
   ]
  },
  {
   "cell_type": "code",
   "execution_count": null,
   "metadata": {
    "dotnet_interactive": {
     "language": "spiral"
    },
    "polyglot_notebook": {
     "kernelName": "spiral"
    }
   },
   "outputs": [
    {
     "name": "stdout",
     "output_type": "stream",
     "text": [
      "()\n",
      "\n"
     ]
    }
   ],
   "source": [
    "inl sort_descending forall dim el. (a : a dim el) : a dim el =\n",
    "    a |> $'Array.sortDescending'"
   ]
  },
  {
   "cell_type": "markdown",
   "metadata": {},
   "source": [
    "## transpose"
   ]
  },
  {
   "cell_type": "code",
   "execution_count": null,
   "metadata": {
    "dotnet_interactive": {
     "language": "spiral"
    },
    "polyglot_notebook": {
     "kernelName": "spiral"
    }
   },
   "outputs": [
    {
     "name": "stdout",
     "output_type": "stream",
     "text": [
      "()\n",
      "\n"
     ]
    }
   ],
   "source": [
    "inl transpose forall dim el. (a : a dim (a dim el)) : a dim (a dim el) =\n",
    "    a |> $'Array.transpose'"
   ]
  },
  {
   "cell_type": "markdown",
   "metadata": {},
   "source": [
    "## try_item"
   ]
  },
  {
   "cell_type": "code",
   "execution_count": null,
   "metadata": {
    "dotnet_interactive": {
     "language": "spiral"
    },
    "polyglot_notebook": {
     "kernelName": "spiral"
    }
   },
   "outputs": [
    {
     "name": "stdout",
     "output_type": "stream",
     "text": [
      "()\n",
      "\n"
     ]
    }
   ],
   "source": [
    "inl try_item forall dim el. (i : i32) (a : a dim el) : option el =\n",
    "    a |> $'Array.tryItem' i |> optionm'.unbox"
   ]
  },
  {
   "cell_type": "markdown",
   "metadata": {},
   "source": [
    "## indexed"
   ]
  },
  {
   "cell_type": "code",
   "execution_count": null,
   "metadata": {
    "dotnet_interactive": {
     "language": "spiral"
    },
    "polyglot_notebook": {
     "kernelName": "spiral"
    }
   },
   "outputs": [
    {
     "name": "stdout",
     "output_type": "stream",
     "text": [
      "()\n",
      "\n"
     ]
    }
   ],
   "source": [
    "inl indexed (array : a _ _) =\n",
    "    (([], 0), array)\n",
    "    ||> am.fold fun (acc, i) x =>\n",
    "        (i, x) :: acc, i + 1\n",
    "    |> fst\n",
    "    |> listm.rev\n",
    "    |> listm.toArray"
   ]
  },
  {
   "cell_type": "code",
   "execution_count": null,
   "metadata": {
    "dotnet_interactive": {
     "language": "spiral"
    },
    "polyglot_notebook": {
     "kernelName": "spiral"
    }
   },
   "outputs": [
    {
     "name": "stdout",
     "output_type": "stream",
     "text": [
      "type Mut0 = {mutable l0 : int32}\n",
      "and UH0 =\n",
      "    | UH0_0\n",
      "    | UH0_1 of int32 * int32 * UH0\n",
      "and Mut1 = {mutable l0 : int32; mutable l1 : UH0; mutable l2 : int32}\n",
      "let rec method1 (v0 : Mut0) : bool =\n",
      "    let v1 : int32 = v0.l0\n",
      "    let v2 : bool = v1 < 3\n",
      "    v2\n",
      "and method2 (v0 : int32, v1 : Mut1) : bool =\n",
      "    let v2 : int32 = v1.l0\n",
      "    let v3 : bool = v2 < v0\n",
      "    v3\n",
      "and method3 (v0 : UH0, v1 : UH0) : UH0 =\n",
      "    match v0 with\n",
      "    | UH0_1(v2, v3, v4) -> (* Cons *)\n",
      "        let v5 : UH0 = UH0_1(v2, v3, v1)\n",
      "        method3(v4, v5)\n",
      "    | UH0_0 -> (* Nil *)\n",
      "        v1\n",
      "and method5 (v0 : UH0, v1 : int32) : int32 =\n",
      "    match v0 with\n",
      "    | UH0_1(v2, v3, v4) -> (* Cons *)\n",
      "        let v5 : int32 = v1 + 1\n",
      "        method5(v4, v5)\n",
      "    | UH0_0 -> (* Nil *)\n",
      "        v1\n",
      "and method6 (v0 : (struct (int32 * int32) []), v1 : UH0, v2 : int32) : int32 =\n",
      "    match v1 with\n",
      "    | UH0_1(v3, v4, v5) -> (* Cons *)\n",
      "        v0.[int v2] <- struct (v3, v4)\n",
      "        let v6 : int32 = v2 + 1\n",
      "        method6(v0, v5, v6)\n",
      "    | UH0_0 -> (* Nil *)\n",
      "        v2\n",
      "and method4 (v0 : UH0) : (struct (int32 * int32) []) =\n",
      "    let v1 : int32 = 0\n",
      "    let v2 : int32 = method5(v0, v1)\n",
      "    let v3 : (struct (int32 * int32) []) = Array.zeroCreate<struct (int32 * int32)> (v2)\n",
      "    let v4 : int32 = 0\n",
      "    let v5 : int32 = method6(v3, v0, v4)\n",
      "    v3\n",
      "and method7 (v0 : (struct (int32 * int32) []), v1 : (struct (int32 * int32) []), v2 : int32) : bool =\n",
      "    let v3 : int32 = v0.Length\n",
      "    let v4 : bool = v2 < v3\n",
      "    if v4 then\n",
      "        let struct (v5 : int32, v6 : int32) = v0.[int v2]\n",
      "        let struct (v7 : int32, v8 : int32) = v1.[int v2]\n",
      "        let v9 : bool = v5 = v7\n",
      "        let v11 : bool =\n",
      "            if v9 then\n",
      "                let v10 : bool = v6 = v8\n",
      "                v10\n",
      "            else\n",
      "                false\n",
      "        if v11 then\n",
      "            let v12 : int32 = v2 + 1\n",
      "            method7(v0, v1, v12)\n",
      "        else\n",
      "            false\n",
      "    else\n",
      "        true\n",
      "and method8 (v0 : bool) : bool =\n",
      "    v0\n",
      "and method0 () : unit =\n",
      "    let v0 : (int32 []) = Array.zeroCreate<int32> (3)\n",
      "    let v1 : Mut0 = {l0 = 0} : Mut0\n",
      "    while method1(v1) do\n",
      "        let v3 : int32 = v1.l0\n",
      "        let v4 : int32 = 2 * v3\n",
      "        v0.[int v3] <- v4\n",
      "        let v5 : int32 = v3 + 1\n",
      "        v1.l0 <- v5\n",
      "        ()\n",
      "    let v6 : int32 = v0.Length\n",
      "    let v7 : UH0 = UH0_0\n",
      "    let v8 : Mut1 = {l0 = 0; l1 = v7; l2 = 0} : Mut1\n",
      "    while method2(v6, v8) do\n",
      "        let v10 : int32 = v8.l0\n",
      "        let struct (v11 : UH0, v12 : int32) = v8.l1, v8.l2\n",
      "        let v13 : int32 = v0.[int v10]\n",
      "        let v14 : int32 = v12 + 1\n",
      "        let v15 : int32 = v10 + 1\n",
      "        let v16 : UH0 = UH0_1(v12, v13, v11)\n",
      "        v8.l0 <- v15\n",
      "        v8.l1 <- v16\n",
      "        v8.l2 <- v14\n",
      "        ()\n",
      "    let struct (v17 : UH0, v18 : int32) = v8.l1, v8.l2\n",
      "    let v19 : UH0 = UH0_0\n",
      "    let v20 : UH0 = method3(v17, v19)\n",
      "    let v21 : (struct (int32 * int32) []) = method4(v20)\n",
      "    let v22 : (struct (int32 * int32) []) = [|struct (0, 0); struct (1, 2); struct (2, 4)|]\n",
      "    let v23 : string = $\"%A{v21}\"\n",
      "    System.Console.WriteLine v23\n",
      "    let v24 : int32 = v21.Length\n",
      "    let v25 : int32 = v22.Length\n",
      "    let v26 : bool = v24 = v25\n",
      "    let v27 : bool = v26 <> true\n",
      "    let v30 : bool =\n",
      "        if v27 then\n",
      "            false\n",
      "        else\n",
      "            let v28 : int32 = 0\n",
      "            method7(v21, v22, v28)\n",
      "    let v32 : bool =\n",
      "        if v30 then\n",
      "            true\n",
      "        else\n",
      "            method8(v30)\n",
      "    let v33 : string = $\"__expect / actual: %A{v21} / expected: %A{v22}\"\n",
      "    let v34 : bool = v32 = false\n",
      "    if v34 then\n",
      "        failwith<unit> v33\n",
      "method0()\n",
      "\n",
      "[|struct (0, 0); struct (1, 2); struct (2, 4)|]\n"
     ]
    }
   ],
   "source": [
    "// // test\n",
    "\n",
    "am.init 3i32 ((*) 2)\n",
    "|> indexed\n",
    "|> _assert_eq (a ;[0i32, 0; 1, 2; 2, 4] : a i32 _)"
   ]
  },
  {
   "cell_type": "markdown",
   "metadata": {},
   "source": [
    "## vec"
   ]
  },
  {
   "cell_type": "code",
   "execution_count": null,
   "metadata": {
    "dotnet_interactive": {
     "language": "spiral"
    },
    "polyglot_notebook": {
     "kernelName": "spiral"
    }
   },
   "outputs": [
    {
     "name": "stdout",
     "output_type": "stream",
     "text": [
      "()\n",
      "\n"
     ]
    }
   ],
   "source": [
    "nominal vec t = $\"Vec<`t>\""
   ]
  },
  {
   "cell_type": "markdown",
   "metadata": {},
   "source": [
    "## from_vec"
   ]
  },
  {
   "cell_type": "code",
   "execution_count": null,
   "metadata": {
    "dotnet_interactive": {
     "language": "spiral"
    },
    "polyglot_notebook": {
     "kernelName": "spiral"
    }
   },
   "outputs": [
    {
     "name": "stdout",
     "output_type": "stream",
     "text": [
      "()\n",
      "\n"
     ]
    }
   ],
   "source": [
    "inl from_vec forall dim el. (vec : vec el) : a dim el =\n",
    "    !\\\\(vec, $'\"fable_library_rust::NativeArray_::array_from($0)\"')"
   ]
  },
  {
   "cell_type": "markdown",
   "metadata": {},
   "source": [
    "## to_vec"
   ]
  },
  {
   "cell_type": "code",
   "execution_count": null,
   "metadata": {
    "dotnet_interactive": {
     "language": "spiral"
    },
    "polyglot_notebook": {
     "kernelName": "spiral"
    }
   },
   "outputs": [
    {
     "name": "stdout",
     "output_type": "stream",
     "text": [
      "()\n",
      "\n"
     ]
    }
   ],
   "source": [
    "inl to_vec forall t. (ab : array_base t) : vec t =\n",
    "    !\\\\(ab, $'\"$0.to_vec()\"')"
   ]
  },
  {
   "cell_type": "markdown",
   "metadata": {},
   "source": [
    "## vec_push"
   ]
  },
  {
   "cell_type": "code",
   "execution_count": null,
   "metadata": {
    "dotnet_interactive": {
     "language": "spiral"
    },
    "polyglot_notebook": {
     "kernelName": "spiral"
    }
   },
   "outputs": [
    {
     "name": "stdout",
     "output_type": "stream",
     "text": [
      "()\n",
      "\n"
     ]
    }
   ],
   "source": [
    "inl vec_push forall el. (el : el) (vec : vec el) : vec el =\n",
    "    inl el = join el\n",
    "    inl vec = join vec\n",
    "    !\\($'\"let mut !vec = !vec\"')\n",
    "    // inl vec = vec |> rust.to_mut\n",
    "    !\\($'\"!vec.push(!el)\"')\n",
    "    !\\($'\"!vec\"')"
   ]
  },
  {
   "cell_type": "markdown",
   "metadata": {},
   "source": [
    "## vec_reverse"
   ]
  },
  {
   "cell_type": "code",
   "execution_count": null,
   "metadata": {
    "dotnet_interactive": {
     "language": "spiral"
    },
    "polyglot_notebook": {
     "kernelName": "spiral"
    }
   },
   "outputs": [
    {
     "name": "stdout",
     "output_type": "stream",
     "text": [
      "()\n",
      "\n"
     ]
    }
   ],
   "source": [
    "inl vec_reverse forall el. (vec : vec el) : vec el =\n",
    "    inl vec = join vec\n",
    "    !\\($'\"let mut !vec = !vec\"')\n",
    "    !\\($'\"!vec.reverse()\"')\n",
    "    !\\($'\"!vec\"')"
   ]
  },
  {
   "cell_type": "markdown",
   "metadata": {},
   "source": [
    "## vec_retain"
   ]
  },
  {
   "cell_type": "code",
   "execution_count": null,
   "metadata": {
    "dotnet_interactive": {
     "language": "spiral"
    },
    "polyglot_notebook": {
     "kernelName": "spiral"
    }
   },
   "outputs": [
    {
     "name": "stdout",
     "output_type": "stream",
     "text": [
      "()\n",
      "\n"
     ]
    }
   ],
   "source": [
    "inl vec_retain forall el. (fn : el -> bool) (vec : vec el) : vec el =\n",
    "    inl vec = join vec\n",
    "    inl fn = join fn\n",
    "    !\\($'\"let mut !vec = !vec\"')\n",
    "    // inl vec = vec |> rust.to_mut\n",
    "    !\\($'\"!vec.retain(|x| !fn(x.clone()))\"')\n",
    "    !\\($'\"!vec\"')"
   ]
  },
  {
   "cell_type": "markdown",
   "metadata": {},
   "source": [
    "## vec_sort_by_key"
   ]
  },
  {
   "cell_type": "code",
   "execution_count": null,
   "metadata": {
    "dotnet_interactive": {
     "language": "spiral"
    },
    "polyglot_notebook": {
     "kernelName": "spiral"
    }
   },
   "outputs": [
    {
     "name": "stdout",
     "output_type": "stream",
     "text": [
      "()\n",
      "\n"
     ]
    }
   ],
   "source": [
    "inl vec_sort_by_key forall el t. (fn : el -> t) (vec : vec el) : vec el =\n",
    "    inl vec = join vec\n",
    "    inl fn = join fn\n",
    "    !\\($'\"let mut !vec = !vec\"')\n",
    "    // inl vec = vec |> rust.to_mut\n",
    "    !\\($'\"!vec.sort_by_key(|x| !fn(x.clone()))\"')\n",
    "    !\\($'\"!vec\"')"
   ]
  },
  {
   "cell_type": "markdown",
   "metadata": {},
   "source": [
    "## vec_extend"
   ]
  },
  {
   "cell_type": "code",
   "execution_count": null,
   "metadata": {
    "dotnet_interactive": {
     "language": "spiral"
    },
    "polyglot_notebook": {
     "kernelName": "spiral"
    }
   },
   "outputs": [
    {
     "name": "stdout",
     "output_type": "stream",
     "text": [
      "()\n",
      "\n"
     ]
    }
   ],
   "source": [
    "inl vec_extend forall el. (el : vec el) (vec : vec el) : vec el =\n",
    "    inl el = join el\n",
    "    inl vec = join vec\n",
    "    !\\($'\"let mut !vec = !vec\"')\n",
    "    // inl vec = vec |> rust.to_mut\n",
    "    !\\($'\"!vec.extend(!el)\"')\n",
    "    !\\($'\"!vec\"')"
   ]
  },
  {
   "cell_type": "markdown",
   "metadata": {},
   "source": [
    "## vec_collect"
   ]
  },
  {
   "cell_type": "code",
   "execution_count": null,
   "metadata": {
    "dotnet_interactive": {
     "language": "spiral"
    },
    "polyglot_notebook": {
     "kernelName": "spiral"
    }
   },
   "outputs": [
    {
     "name": "stdout",
     "output_type": "stream",
     "text": [
      "()\n",
      "\n"
     ]
    }
   ],
   "source": [
    "inl vec_collect fn vec =\n",
    "    ((;[] |> to_vec), (vec |> from_vec : _ i32 _))\n",
    "    ||> am.fold fun acc x =>\n",
    "        acc |> vec_extend (fn x)"
   ]
  },
  {
   "cell_type": "markdown",
   "metadata": {},
   "source": [
    "## vec_collect_option"
   ]
  },
  {
   "cell_type": "code",
   "execution_count": null,
   "metadata": {
    "dotnet_interactive": {
     "language": "spiral"
    },
    "polyglot_notebook": {
     "kernelName": "spiral"
    }
   },
   "outputs": [
    {
     "name": "stdout",
     "output_type": "stream",
     "text": [
      "()\n",
      "\n"
     ]
    }
   ],
   "source": [
    "inl vec_collect_option vec =\n",
    "    ((;[] |> to_vec |> Ok), (vec |> from_vec : _ i32 _))\n",
    "    ||> am.fold fun acc x =>\n",
    "        x\n",
    "        |> resultm.unbox\n",
    "        |> fun x =>\n",
    "            match acc, x |> resultm.map optionm'.unbox with\n",
    "            | Ok acc, Ok (Some x) => acc |> vec_extend x |> Ok\n",
    "            | _, Error error => error |> Error\n",
    "            | _ => acc"
   ]
  },
  {
   "cell_type": "markdown",
   "metadata": {},
   "source": [
    "## vec_collect_into"
   ]
  },
  {
   "cell_type": "code",
   "execution_count": null,
   "metadata": {
    "dotnet_interactive": {
     "language": "spiral"
    },
    "polyglot_notebook": {
     "kernelName": "spiral"
    }
   },
   "outputs": [
    {
     "name": "stdout",
     "output_type": "stream",
     "text": [
      "()\n",
      "\n"
     ]
    }
   ],
   "source": [
    "inl vec_collect_into forall (c : * -> * -> *) t e.\n",
    "    (x : vec (c t e))\n",
    "    : c (vec t) e\n",
    "    =\n",
    "    !\\($'\"!x.into_iter().collect()\"')"
   ]
  },
  {
   "cell_type": "markdown",
   "metadata": {},
   "source": [
    "## vec_mapi"
   ]
  },
  {
   "cell_type": "code",
   "execution_count": null,
   "metadata": {
    "dotnet_interactive": {
     "language": "spiral"
    },
    "polyglot_notebook": {
     "kernelName": "spiral"
    }
   },
   "outputs": [
    {
     "name": "stdout",
     "output_type": "stream",
     "text": [
      "()\n",
      "\n"
     ]
    }
   ],
   "source": [
    "inl vec_mapi forall dim t u. (fn : dim -> t -> u) (ar : vec t) : vec u =\n",
    "    inl fn = join fn\n",
    "    inl ar = join ar\n",
    "    !\\($'\"!ar.iter().enumerate().map(|(i, x)| !fn(i.try_into().unwrap())(x.clone())).collect()\"')"
   ]
  },
  {
   "cell_type": "markdown",
   "metadata": {},
   "source": [
    "## vec_map"
   ]
  },
  {
   "cell_type": "code",
   "execution_count": null,
   "metadata": {
    "dotnet_interactive": {
     "language": "spiral"
    },
    "polyglot_notebook": {
     "kernelName": "spiral"
    }
   },
   "outputs": [
    {
     "name": "stdout",
     "output_type": "stream",
     "text": [
      "()\n",
      "\n"
     ]
    }
   ],
   "source": [
    "inl vec_map forall t u. (fn : t -> u) (ar : vec t) : vec u =\n",
    "    !\\\\((ar, fn), $'\"$0.iter().map(|x| $1(x.clone())).collect()\"')"
   ]
  },
  {
   "cell_type": "markdown",
   "metadata": {},
   "source": [
    "## vec_filter"
   ]
  },
  {
   "cell_type": "code",
   "execution_count": null,
   "metadata": {
    "dotnet_interactive": {
     "language": "spiral"
    },
    "polyglot_notebook": {
     "kernelName": "spiral"
    }
   },
   "outputs": [
    {
     "name": "stdout",
     "output_type": "stream",
     "text": [
      "()\n",
      "\n"
     ]
    }
   ],
   "source": [
    "inl vec_filter forall t. (fn : t -> bool) (ar : vec t) : vec t =\n",
    "    inl fn = join fn\n",
    "    inl ar = join ar\n",
    "    !\\($'\"!ar.into_iter().filter(|x| !fn(x.clone().clone())).collect()\"')"
   ]
  },
  {
   "cell_type": "markdown",
   "metadata": {},
   "source": [
    "## enumerate"
   ]
  },
  {
   "cell_type": "code",
   "execution_count": null,
   "metadata": {
    "dotnet_interactive": {
     "language": "spiral"
    },
    "polyglot_notebook": {
     "kernelName": "spiral"
    }
   },
   "outputs": [
    {
     "name": "stdout",
     "output_type": "stream",
     "text": [
      "()\n",
      "\n"
     ]
    }
   ],
   "source": [
    "inl enumerate forall dim {int; number} t. (ar : a dim t) : a dim (unativeint * t) =\n",
    "    inl (a ar) = ar\n",
    "    inl ar = ar |> to_vec\n",
    "    !\\($'\"!ar.into_iter().enumerate().map(std::rc::Rc::new).collect()\"')\n",
    "    |> vec_map from_pair\n",
    "    |> from_vec"
   ]
  },
  {
   "cell_type": "markdown",
   "metadata": {},
   "source": [
    "## slice"
   ]
  },
  {
   "cell_type": "code",
   "execution_count": null,
   "metadata": {
    "dotnet_interactive": {
     "language": "spiral"
    },
    "polyglot_notebook": {
     "kernelName": "spiral"
    }
   },
   "outputs": [
    {
     "name": "stdout",
     "output_type": "stream",
     "text": [
      "()\n",
      "\n"
     ]
    }
   ],
   "source": [
    "nominal slice t = $\"Slice<`t>\""
   ]
  },
  {
   "cell_type": "markdown",
   "metadata": {},
   "source": [
    "## slice'"
   ]
  },
  {
   "cell_type": "code",
   "execution_count": null,
   "metadata": {
    "dotnet_interactive": {
     "language": "spiral"
    },
    "polyglot_notebook": {
     "kernelName": "spiral"
    }
   },
   "outputs": [
    {
     "name": "stdout",
     "output_type": "stream",
     "text": [
      "()\n",
      "\n"
     ]
    }
   ],
   "source": [
    "nominal slice' t u = $\"Slice'<`t, `u>\"\n",
    "\n",
    "inl slice' forall dim el. (x : option el) : slice' el dim =\n",
    "    match x with\n",
    "    | Some x => !\\($'\"[!x]\"')\n",
    "    | None =>\n",
    "        !\\($'\"[\\\\\\\"\\\\\\\".to_string()]\"') : slice' el dim\n",
    "            // emit_expr `(()) `(slice' el dim) () ($'\"[@dim]\"' : string) : slice' el 10\n",
    "            // !\\( : string) : slice' el i32 // !\\($'\"[]\"')"
   ]
  },
  {
   "cell_type": "markdown",
   "metadata": {},
   "source": [
    "## as_slice"
   ]
  },
  {
   "cell_type": "code",
   "execution_count": null,
   "metadata": {
    "dotnet_interactive": {
     "language": "spiral"
    },
    "polyglot_notebook": {
     "kernelName": "spiral"
    }
   },
   "outputs": [
    {
     "name": "stdout",
     "output_type": "stream",
     "text": [
      "()\n",
      "\n"
     ]
    }
   ],
   "source": [
    "inl as_slice forall t. (x : array_base t) : rust.ref' (slice t) =\n",
    "    inl x = x |> to_vec\n",
    "    !\\($'\"!x.as_slice()\"')"
   ]
  }
 ],
 "metadata": {},
 "nbformat": 4,
 "nbformat_minor": 5
}