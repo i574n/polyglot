{
 "cells": [
  {
   "cell_type": "markdown",
   "metadata": {},
   "source": [
    "# am'"
   ]
  },
  {
   "cell_type": "code",
   "execution_count": null,
   "metadata": {
    "dotnet_interactive": {
     "language": "spiral"
    },
    "polyglot_notebook": {
     "kernelName": "spiral"
    }
   },
   "outputs": [
    {
     "name": "stdout",
     "output_type": "stream",
     "text": [
      "()\n",
      "\n"
     ]
    }
   ],
   "source": [
    "//// test\n",
    "\n",
    "open testing"
   ]
  },
  {
   "cell_type": "code",
   "execution_count": null,
   "metadata": {
    "dotnet_interactive": {
     "language": "spiral"
    },
    "polyglot_notebook": {
     "kernelName": "spiral"
    }
   },
   "outputs": [
    {
     "name": "stdout",
     "output_type": "stream",
     "text": [
      "()\n",
      "\n"
     ]
    }
   ],
   "source": [
    "open rust_operators"
   ]
  },
  {
   "cell_type": "markdown",
   "metadata": {},
   "source": [
    "## types ()"
   ]
  },
  {
   "cell_type": "code",
   "execution_count": null,
   "metadata": {
    "dotnet_interactive": {
     "language": "spiral"
    },
    "polyglot_notebook": {
     "kernelName": "spiral"
    }
   },
   "outputs": [
    {
     "name": "stdout",
     "output_type": "stream",
     "text": [
      "()\n",
      "\n"
     ]
    }
   ],
   "source": [
    "inl types () =\n",
    "    global \"#if FABLE_COMPILER\\n[<Fable.Core.Erase; Fable.Core.Emit(\\\"[$0]\\\")>]\\n#endif\\ntype Slice<'T> = class end\"\n",
    "    global \"#if FABLE_COMPILER\\n[<Fable.Core.Erase; Fable.Core.Emit(\\\"_\\\")>]\\n#endif\\ntype Slice'<'T> = class end\"\n",
    "    global \"#if FABLE_COMPILER\\n[<Fable.Core.Erase; Fable.Core.Emit(\\\"Vec<$0>\\\")>]\\n#endif\\ntype Vec<'T> = class end\""
   ]
  },
  {
   "cell_type": "markdown",
   "metadata": {},
   "source": [
    "## length"
   ]
  },
  {
   "cell_type": "code",
   "execution_count": null,
   "metadata": {
    "dotnet_interactive": {
     "language": "spiral"
    },
    "polyglot_notebook": {
     "kernelName": "spiral"
    }
   },
   "outputs": [
    {
     "name": "stdout",
     "output_type": "stream",
     "text": [
      "()\n",
      "\n"
     ]
    }
   ],
   "source": [
    "inl length forall dim {int} el. (a : a dim el) : dim =\n",
    "    a |> length"
   ]
  },
  {
   "cell_type": "markdown",
   "metadata": {},
   "source": [
    "## index"
   ]
  },
  {
   "cell_type": "code",
   "execution_count": null,
   "metadata": {
    "dotnet_interactive": {
     "language": "spiral"
    },
    "polyglot_notebook": {
     "kernelName": "spiral"
    }
   },
   "outputs": [
    {
     "name": "stdout",
     "output_type": "stream",
     "text": [
      "()\n",
      "\n"
     ]
    }
   ],
   "source": [
    "inl index forall dim {int} el. (i : dim) (a : a dim el) : el =\n",
    "    index a i"
   ]
  },
  {
   "cell_type": "markdown",
   "metadata": {},
   "source": [
    "## append"
   ]
  },
  {
   "cell_type": "code",
   "execution_count": null,
   "metadata": {
    "dotnet_interactive": {
     "language": "spiral"
    },
    "polyglot_notebook": {
     "kernelName": "spiral"
    }
   },
   "outputs": [
    {
     "name": "stdout",
     "output_type": "stream",
     "text": [
      "()\n",
      "\n"
     ]
    }
   ],
   "source": [
    "instance append a dim {int; number} t =\n",
    "    am.append"
   ]
  },
  {
   "cell_type": "code",
   "execution_count": null,
   "metadata": {
    "dotnet_interactive": {
     "language": "spiral"
    },
    "polyglot_notebook": {
     "kernelName": "spiral"
    }
   },
   "outputs": [
    {
     "name": "stdout",
     "output_type": "stream",
     "text": [
      "type Mut0 = {mutable l0 : int32}\n",
      "let rec method1 (v0 : int32, v1 : Mut0) : bool =\n",
      "    let v2 : int32 = v1.l0\n",
      "    let v3 : bool = v2 < v0\n",
      "    v3\n",
      "and method2 (v0 : (string []), v1 : (string []), v2 : int32) : bool =\n",
      "    let v3 : int32 = v0.Length\n",
      "    let v4 : bool = v2 < v3\n",
      "    if v4 then\n",
      "        let v5 : string = v0.[int v2]\n",
      "        let v6 : string = v1.[int v2]\n",
      "        let v7 : bool = v5 = v6\n",
      "        if v7 then\n",
      "            let v8 : int32 = v2 + 1\n",
      "            method2(v0, v1, v8)\n",
      "        else\n",
      "            false\n",
      "    else\n",
      "        true\n",
      "and method3 (v0 : bool) : bool =\n",
      "    v0\n",
      "and method0 () : unit =\n",
      "    let v0 : string = \"a\"\n",
      "    let v1 : string = \"b\"\n",
      "    let v2 : (string []) = [|v0; v1|]\n",
      "    let v3 : string = \"c\"\n",
      "    let v4 : string = \"d\"\n",
      "    let v5 : (string []) = [|v3; v4|]\n",
      "    let v6 : int32 = v2.Length\n",
      "    let v7 : int32 = v5.Length\n",
      "    let v8 : int32 = v6 + v7\n",
      "    let v9 : (string []) = Array.zeroCreate<string> (v8)\n",
      "    let v10 : Mut0 = {l0 = 0} : Mut0\n",
      "    while method1(v8, v10) do\n",
      "        let v12 : int32 = v10.l0\n",
      "        let v13 : bool = v12 < v6\n",
      "        let v17 : string =\n",
      "            if v13 then\n",
      "                let v14 : string = v2.[int v12]\n",
      "                v14\n",
      "            else\n",
      "                let v15 : int32 = v12 - v6\n",
      "                let v16 : string = v5.[int v15]\n",
      "                v16\n",
      "        v9.[int v12] <- v17\n",
      "        let v18 : int32 = v12 + 1\n",
      "        v10.l0 <- v18\n",
      "        ()\n",
      "    let v19 : (string []) = [|v0; v1; v3; v4|]\n",
      "    let v20 : int32 = v9.Length\n",
      "    let v21 : int32 = v19.Length\n",
      "    let v22 : bool = v20 = v21\n",
      "    let v23 : bool = v22 <> true\n",
      "    let v26 : bool =\n",
      "        if v23 then\n",
      "            false\n",
      "        else\n",
      "            let v24 : int32 = 0\n",
      "            method2(v9, v19, v24)\n",
      "    let v28 : bool =\n",
      "        if v26 then\n",
      "            true\n",
      "        else\n",
      "            method3(v26)\n",
      "    let v29 : string = \"assert_eq\"\n",
      "    let v30 : string = $\"{v29} / actual: %A{v9} / expected: %A{v19}\"\n",
      "    System.Console.WriteLine v30\n",
      "    let v31 : bool = v28 = false\n",
      "    if v31 then\n",
      "        failwith<unit> v30\n",
      "method0()\n",
      "\n",
      "assert_eq / actual: [|\"a\"; \"b\"; \"c\"; \"d\"|] / expected: [|\"a\"; \"b\"; \"c\"; \"d\"|]\n"
     ]
    }
   ],
   "source": [
    "//// test\n",
    "\n",
    "a ;[ \"a\"; \"b\" ] ++ a ;[ \"c\"; \"d\" ]\n",
    "|> _assert_eq (a ;[ \"a\"; \"b\"; \"c\"; \"d\" ] : _ i32 _)"
   ]
  },
  {
   "cell_type": "markdown",
   "metadata": {},
   "source": [
    "## collect"
   ]
  },
  {
   "cell_type": "code",
   "execution_count": null,
   "metadata": {
    "dotnet_interactive": {
     "language": "spiral"
    },
    "polyglot_notebook": {
     "kernelName": "spiral"
    }
   },
   "outputs": [
    {
     "name": "stdout",
     "output_type": "stream",
     "text": [
      "()\n",
      "\n"
     ]
    }
   ],
   "source": [
    "inl collect forall t r. (fn : t -> a i32 r) (items : a i32 t) : a i32 r =\n",
    "    items\n",
    "    |> am.map fn\n",
    "    |> am.fold (++) (a ;[])"
   ]
  },
  {
   "cell_type": "markdown",
   "metadata": {},
   "source": [
    "## choose"
   ]
  },
  {
   "cell_type": "code",
   "execution_count": null,
   "metadata": {
    "dotnet_interactive": {
     "language": "spiral"
    },
    "polyglot_notebook": {
     "kernelName": "spiral"
    }
   },
   "outputs": [
    {
     "name": "stdout",
     "output_type": "stream",
     "text": [
      "()\n",
      "\n"
     ]
    }
   ],
   "source": [
    "inl choose f l =\n",
    "    (l, [])\n",
    "    ||> am.foldBack fun x acc =>\n",
    "        match f x with\n",
    "        | Some y => y :: acc\n",
    "        | None => acc\n",
    "    |> listm.toArray"
   ]
  },
  {
   "cell_type": "code",
   "execution_count": null,
   "metadata": {
    "dotnet_interactive": {
     "language": "spiral"
    },
    "polyglot_notebook": {
     "kernelName": "spiral"
    }
   },
   "outputs": [
    {
     "name": "stdout",
     "output_type": "stream",
     "text": [
      "type Mut0 = {mutable l0 : int32}\n",
      "and UH0 =\n",
      "    | UH0_0\n",
      "    | UH0_1 of int32 * UH0\n",
      "and Mut1 = {mutable l0 : int32; mutable l1 : UH0}\n",
      "and [<Struct>] US0 =\n",
      "    | US0_0 of f0_0 : int32\n",
      "    | US0_1\n",
      "let rec method1 (v0 : Mut0) : bool =\n",
      "    let v1 : int32 = v0.l0\n",
      "    let v2 : bool = v1 < 10\n",
      "    v2\n",
      "and method2 (v0 : int32, v1 : Mut1) : bool =\n",
      "    let v2 : int32 = v1.l0\n",
      "    let v3 : bool = v2 < v0\n",
      "    v3\n",
      "and method4 (v0 : UH0, v1 : int32) : int32 =\n",
      "    match v0 with\n",
      "    | UH0_1(v2, v3) -> (* Cons *)\n",
      "        let v4 : int32 = v1 + 1\n",
      "        method4(v3, v4)\n",
      "    | UH0_0 -> (* Nil *)\n",
      "        v1\n",
      "and method5 (v0 : (int32 []), v1 : UH0, v2 : int32) : int32 =\n",
      "    match v1 with\n",
      "    | UH0_1(v3, v4) -> (* Cons *)\n",
      "        v0.[int v2] <- v3\n",
      "        let v5 : int32 = v2 + 1\n",
      "        method5(v0, v4, v5)\n",
      "    | UH0_0 -> (* Nil *)\n",
      "        v2\n",
      "and method3 (v0 : UH0) : (int32 []) =\n",
      "    let v1 : int32 = 0\n",
      "    let v2 : int32 = method4(v0, v1)\n",
      "    let v3 : (int32 []) = Array.zeroCreate<int32> (v2)\n",
      "    let v4 : int32 = 0\n",
      "    let v5 : int32 = method5(v3, v0, v4)\n",
      "    v3\n",
      "and method6 (v0 : (int32 []), v1 : (int32 []), v2 : int32) : bool =\n",
      "    let v3 : int32 = v0.Length\n",
      "    let v4 : bool = v2 < v3\n",
      "    if v4 then\n",
      "        let v5 : int32 = v0.[int v2]\n",
      "        let v6 : int32 = v1.[int v2]\n",
      "        let v7 : bool = v5 = v6\n",
      "        if v7 then\n",
      "            let v8 : int32 = v2 + 1\n",
      "            method6(v0, v1, v8)\n",
      "        else\n",
      "            false\n",
      "    else\n",
      "        true\n",
      "and method7 (v0 : bool) : bool =\n",
      "    v0\n",
      "and method0 () : unit =\n",
      "    let v0 : (int32 []) = Array.zeroCreate<int32> (10)\n",
      "    let v1 : Mut0 = {l0 = 0} : Mut0\n",
      "    while method1(v1) do\n",
      "        let v3 : int32 = v1.l0\n",
      "        v0.[int v3] <- v3\n",
      "        let v4 : int32 = v3 + 1\n",
      "        v1.l0 <- v4\n",
      "        ()\n",
      "    let v5 : int32 = v0.Length\n",
      "    let v6 : UH0 = UH0_0\n",
      "    let v7 : Mut1 = {l0 = 0; l1 = v6} : Mut1\n",
      "    while method2(v5, v7) do\n",
      "        let v9 : int32 = v7.l0\n",
      "        let v10 : int32 =  -v9\n",
      "        let v11 : int32 = v10 + v5\n",
      "        let v12 : int32 = v11 - 1\n",
      "        let v13 : UH0 = v7.l1\n",
      "        let v14 : int32 = v0.[int v12]\n",
      "        let v15 : int32 = v14 % 2\n",
      "        let v16 : bool = v15 = 0\n",
      "        let v19 : US0 =\n",
      "            if v16 then\n",
      "                US0_0(v14)\n",
      "            else\n",
      "                US0_1\n",
      "        let v23 : UH0 =\n",
      "            match v19 with\n",
      "            | US0_1 -> (* None *)\n",
      "                v13\n",
      "            | US0_0(v20) -> (* Some *)\n",
      "                UH0_1(v20, v13)\n",
      "        let v24 : int32 = v9 + 1\n",
      "        v7.l0 <- v24\n",
      "        v7.l1 <- v23\n",
      "        ()\n",
      "    let v25 : UH0 = v7.l1\n",
      "    let v26 : (int32 []) = method3(v25)\n",
      "    let v27 : (int32 []) = [|0; 2; 4; 6; 8|]\n",
      "    let v28 : int32 = v26.Length\n",
      "    let v29 : int32 = v27.Length\n",
      "    let v30 : bool = v28 = v29\n",
      "    let v31 : bool = v30 <> true\n",
      "    let v34 : bool =\n",
      "        if v31 then\n",
      "            false\n",
      "        else\n",
      "            let v32 : int32 = 0\n",
      "            method6(v26, v27, v32)\n",
      "    let v36 : bool =\n",
      "        if v34 then\n",
      "            true\n",
      "        else\n",
      "            method7(v34)\n",
      "    let v37 : string = \"assert_eq\"\n",
      "    let v38 : string = $\"{v37} / actual: %A{v26} / expected: %A{v27}\"\n",
      "    System.Console.WriteLine v38\n",
      "    let v39 : bool = v36 = false\n",
      "    if v39 then\n",
      "        failwith<unit> v38\n",
      "method0()\n",
      "\n",
      "assert_eq / actual: [|0; 2; 4; 6; 8|] / expected: [|0; 2; 4; 6; 8|]\n"
     ]
    }
   ],
   "source": [
    "//// test\n",
    "\n",
    "(am.init 10i32 id : a _ _)\n",
    "|> choose (fun x => if x % 2 = 0 then Some x else None)\n",
    "|> _assert_eq (a ;[ 0; 2; 4; 6; 8 ] : _ i32 _)"
   ]
  },
  {
   "cell_type": "markdown",
   "metadata": {},
   "source": [
    "## sum"
   ]
  },
  {
   "cell_type": "code",
   "execution_count": null,
   "metadata": {
    "dotnet_interactive": {
     "language": "spiral"
    },
    "polyglot_notebook": {
     "kernelName": "spiral"
    }
   },
   "outputs": [
    {
     "name": "stdout",
     "output_type": "stream",
     "text": [
      "()\n",
      "\n"
     ]
    }
   ],
   "source": [
    "inl sum (a' : a _ _) =\n",
    "    a' |> am.fold (+) 0"
   ]
  },
  {
   "cell_type": "code",
   "execution_count": null,
   "metadata": {
    "dotnet_interactive": {
     "language": "spiral"
    },
    "polyglot_notebook": {
     "kernelName": "spiral"
    }
   },
   "outputs": [
    {
     "name": "stdout",
     "output_type": "stream",
     "text": [
      "type Mut0 = {mutable l0 : int32}\n",
      "and Mut1 = {mutable l0 : int32; mutable l1 : int32}\n",
      "let rec method1 (v0 : Mut0) : bool =\n",
      "    let v1 : int32 = v0.l0\n",
      "    let v2 : bool = v1 < 10\n",
      "    v2\n",
      "and method2 (v0 : int32, v1 : Mut1) : bool =\n",
      "    let v2 : int32 = v1.l0\n",
      "    let v3 : bool = v2 < v0\n",
      "    v3\n",
      "and method3 (v0 : bool) : bool =\n",
      "    v0\n",
      "and method0 () : unit =\n",
      "    let v0 : (int32 []) = Array.zeroCreate<int32> (10)\n",
      "    let v1 : Mut0 = {l0 = 0} : Mut0\n",
      "    while method1(v1) do\n",
      "        let v3 : int32 = v1.l0\n",
      "        v0.[int v3] <- v3\n",
      "        let v4 : int32 = v3 + 1\n",
      "        v1.l0 <- v4\n",
      "        ()\n",
      "    let v5 : int32 = v0.Length\n",
      "    let v6 : Mut1 = {l0 = 0; l1 = 0} : Mut1\n",
      "    while method2(v5, v6) do\n",
      "        let v8 : int32 = v6.l0\n",
      "        let v9 : int32 = v6.l1\n",
      "        let v10 : int32 = v0.[int v8]\n",
      "        let v11 : int32 = v9 + v10\n",
      "        let v12 : int32 = v8 + 1\n",
      "        v6.l0 <- v12\n",
      "        v6.l1 <- v11\n",
      "        ()\n",
      "    let v13 : int32 = v6.l1\n",
      "    let v14 : bool = v13 = 45\n",
      "    let v16 : bool =\n",
      "        if v14 then\n",
      "            true\n",
      "        else\n",
      "            method3(v14)\n",
      "    let v17 : string = \"assert_eq\"\n",
      "    let v18 : string = $\"{v17} / actual: %A{v13} / expected: %A{45}\"\n",
      "    System.Console.WriteLine v18\n",
      "    let v19 : bool = v16 = false\n",
      "    if v19 then\n",
      "        failwith<unit> v18\n",
      "method0()\n",
      "\n",
      "assert_eq / actual: 45 / expected: 45\n"
     ]
    }
   ],
   "source": [
    "//// test\n",
    "\n",
    "am.init 10i32 id\n",
    "|> sum\n",
    "|> _assert_eq 45"
   ]
  },
  {
   "cell_type": "markdown",
   "metadata": {},
   "source": [
    "## init_series"
   ]
  },
  {
   "cell_type": "code",
   "execution_count": null,
   "metadata": {
    "dotnet_interactive": {
     "language": "spiral"
    },
    "polyglot_notebook": {
     "kernelName": "spiral"
    }
   },
   "outputs": [
    {
     "name": "stdout",
     "output_type": "stream",
     "text": [
      "()\n",
      "\n"
     ]
    }
   ],
   "source": [
    "inl init_series start end inc =\n",
    "    inl total = conv ((end - start) / inc) + 1\n",
    "    am.init total (conv >> (*) inc >> (+) start) : a i32 _"
   ]
  },
  {
   "cell_type": "code",
   "execution_count": null,
   "metadata": {
    "dotnet_interactive": {
     "language": "spiral"
    },
    "polyglot_notebook": {
     "kernelName": "spiral"
    }
   },
   "outputs": [
    {
     "name": "stdout",
     "output_type": "stream",
     "text": [
      "type Mut0 = {mutable l0 : int32}\n",
      "let rec method1 (v0 : Mut0) : bool =\n",
      "    let v1 : int32 = v0.l0\n",
      "    let v2 : bool = v1 < 3\n",
      "    v2\n",
      "and method2 (v0 : (float []), v1 : (float []), v2 : int32) : bool =\n",
      "    let v3 : int32 = v0.Length\n",
      "    let v4 : bool = v2 < v3\n",
      "    if v4 then\n",
      "        let v5 : float = v0.[int v2]\n",
      "        let v6 : float = v1.[int v2]\n",
      "        let v7 : bool = v5 = v6\n",
      "        if v7 then\n",
      "            let v8 : int32 = v2 + 1\n",
      "            method2(v0, v1, v8)\n",
      "        else\n",
      "            false\n",
      "    else\n",
      "        true\n",
      "and method3 (v0 : bool) : bool =\n",
      "    v0\n",
      "and method0 () : unit =\n",
      "    let v0 : (float []) = Array.zeroCreate<float> (3)\n",
      "    let v1 : Mut0 = {l0 = 0} : Mut0\n",
      "    while method1(v1) do\n",
      "        let v3 : int32 = v1.l0\n",
      "        let v4 : float = float v3\n",
      "        let v5 : float = 0.5 * v4\n",
      "        v0.[int v3] <- v5\n",
      "        let v6 : int32 = v3 + 1\n",
      "        v1.l0 <- v6\n",
      "        ()\n",
      "    let v7 : (float []) = [|0.0; 0.5; 1.0|]\n",
      "    let v8 : int32 = v0.Length\n",
      "    let v9 : int32 = v7.Length\n",
      "    let v10 : bool = v8 = v9\n",
      "    let v11 : bool = v10 <> true\n",
      "    let v14 : bool =\n",
      "        if v11 then\n",
      "            false\n",
      "        else\n",
      "            let v12 : int32 = 0\n",
      "            method2(v0, v7, v12)\n",
      "    let v16 : bool =\n",
      "        if v14 then\n",
      "            true\n",
      "        else\n",
      "            method3(v14)\n",
      "    let v17 : string = \"assert_eq\"\n",
      "    let v18 : string = $\"{v17} / actual: %A{v0} / expected: %A{v7}\"\n",
      "    System.Console.WriteLine v18\n",
      "    let v19 : bool = v16 = false\n",
      "    if v19 then\n",
      "        failwith<unit> v18\n",
      "method0()\n",
      "\n",
      "assert_eq / actual: [|0.0; 0.5; 1.0|] / expected: [|0.0; 0.5; 1.0|]\n"
     ]
    }
   ],
   "source": [
    "//// test\n",
    "\n",
    "init_series 0 1 0.5\n",
    "|> _assert_eq (a ;[ 0f64; 0.5; 1 ])"
   ]
  },
  {
   "cell_type": "markdown",
   "metadata": {},
   "source": [
    "## head"
   ]
  },
  {
   "cell_type": "code",
   "execution_count": null,
   "metadata": {
    "dotnet_interactive": {
     "language": "spiral"
    },
    "polyglot_notebook": {
     "kernelName": "spiral"
    }
   },
   "outputs": [
    {
     "name": "stdout",
     "output_type": "stream",
     "text": [
      "()\n",
      "\n"
     ]
    }
   ],
   "source": [
    "inl head (ar : a _ _) =\n",
    "    if var_is ar || length ar > 0\n",
    "    then ar |> index 0\n",
    "    else error_type \"The length of the array should be greater than 0.\""
   ]
  },
  {
   "cell_type": "markdown",
   "metadata": {},
   "source": [
    "## last"
   ]
  },
  {
   "cell_type": "code",
   "execution_count": null,
   "metadata": {
    "dotnet_interactive": {
     "language": "spiral"
    },
    "polyglot_notebook": {
     "kernelName": "spiral"
    }
   },
   "outputs": [
    {
     "name": "stdout",
     "output_type": "stream",
     "text": [
      "()\n",
      "\n"
     ]
    }
   ],
   "source": [
    "inl last (ar : a _ _) =\n",
    "    inl len = length ar\n",
    "    if var_is ar || len > 0\n",
    "    then ar |> index (len - 1)\n",
    "    else error_type \"The length of the array should be greater than 0.\""
   ]
  },
  {
   "cell_type": "code",
   "execution_count": null,
   "metadata": {
    "dotnet_interactive": {
     "language": "spiral"
    },
    "polyglot_notebook": {
     "kernelName": "spiral"
    }
   },
   "outputs": [
    {
     "name": "stdout",
     "output_type": "stream",
     "text": [
      "type Mut0 = {mutable l0 : int32}\n",
      "let rec method1 (v0 : Mut0) : bool =\n",
      "    let v1 : int32 = v0.l0\n",
      "    let v2 : bool = v1 < 10\n",
      "    v2\n",
      "and method2 (v0 : bool) : bool =\n",
      "    v0\n",
      "and method0 () : unit =\n",
      "    let v0 : (int32 []) = Array.zeroCreate<int32> (10)\n",
      "    let v1 : Mut0 = {l0 = 0} : Mut0\n",
      "    while method1(v1) do\n",
      "        let v3 : int32 = v1.l0\n",
      "        v0.[int v3] <- v3\n",
      "        let v4 : int32 = v3 + 1\n",
      "        v1.l0 <- v4\n",
      "        ()\n",
      "    let v5 : int32 = v0.Length\n",
      "    let v6 : int32 = v5 - 1\n",
      "    let v7 : int32 = v0.[int v6]\n",
      "    let v8 : bool = v7 = 9\n",
      "    let v10 : bool =\n",
      "        if v8 then\n",
      "            true\n",
      "        else\n",
      "            method2(v8)\n",
      "    let v11 : string = \"assert_eq\"\n",
      "    let v12 : string = $\"{v11} / actual: %A{v7} / expected: %A{9}\"\n",
      "    System.Console.WriteLine v12\n",
      "    let v13 : bool = v10 = false\n",
      "    if v13 then\n",
      "        failwith<unit> v12\n",
      "method0()\n",
      "\n",
      "assert_eq / actual: 9 / expected: 9\n"
     ]
    }
   ],
   "source": [
    "//// test\n",
    "\n",
    "am.init 10i32 id\n",
    "|> last\n",
    "|> _assert_eq 9"
   ]
  },
  {
   "cell_type": "markdown",
   "metadata": {},
   "source": [
    "## try_pick"
   ]
  },
  {
   "cell_type": "code",
   "execution_count": null,
   "metadata": {
    "dotnet_interactive": {
     "language": "spiral"
    },
    "polyglot_notebook": {
     "kernelName": "spiral"
    }
   },
   "outputs": [
    {
     "name": "stdout",
     "output_type": "stream",
     "text": [
      "()\n",
      "\n"
     ]
    }
   ],
   "source": [
    "inl try_pick forall t u. (fn : t -> option u) (array : a _ t) : option u =\n",
    "    (array, None)\n",
    "    ||> am.foldBack fun x acc =>\n",
    "        match acc with\n",
    "        | Some _ => acc\n",
    "        | None => x |> fn"
   ]
  },
  {
   "cell_type": "code",
   "execution_count": null,
   "metadata": {
    "dotnet_interactive": {
     "language": "spiral"
    },
    "polyglot_notebook": {
     "kernelName": "spiral"
    }
   },
   "outputs": [
    {
     "name": "stdout",
     "output_type": "stream",
     "text": [
      "type Mut0 = {mutable l0 : int32}\n",
      "and [<Struct>] US0 =\n",
      "    | US0_0 of f0_0 : int32\n",
      "    | US0_1\n",
      "and Mut1 = {mutable l0 : int32; mutable l1 : US0}\n",
      "let rec method1 (v0 : Mut0) : bool =\n",
      "    let v1 : int32 = v0.l0\n",
      "    let v2 : bool = v1 < 10\n",
      "    v2\n",
      "and method2 (v0 : int32, v1 : Mut1) : bool =\n",
      "    let v2 : int32 = v1.l0\n",
      "    let v3 : bool = v2 < v0\n",
      "    v3\n",
      "and method3 (v0 : bool) : bool =\n",
      "    v0\n",
      "and method0 () : unit =\n",
      "    let v0 : (int32 []) = Array.zeroCreate<int32> (10)\n",
      "    let v1 : Mut0 = {l0 = 0} : Mut0\n",
      "    while method1(v1) do\n",
      "        let v3 : int32 = v1.l0\n",
      "        v0.[int v3] <- v3\n",
      "        let v4 : int32 = v3 + 1\n",
      "        v1.l0 <- v4\n",
      "        ()\n",
      "    let v5 : int32 = v0.Length\n",
      "    let v6 : US0 = US0_1\n",
      "    let v7 : Mut1 = {l0 = 0; l1 = v6} : Mut1\n",
      "    while method2(v5, v7) do\n",
      "        let v9 : int32 = v7.l0\n",
      "        let v10 : int32 =  -v9\n",
      "        let v11 : int32 = v10 + v5\n",
      "        let v12 : int32 = v11 - 1\n",
      "        let v13 : US0 = v7.l1\n",
      "        let v14 : int32 = v0.[int v12]\n",
      "        let v21 : US0 =\n",
      "            match v13 with\n",
      "            | US0_1 -> (* None *)\n",
      "                let v16 : bool = v14 = 5\n",
      "                if v16 then\n",
      "                    US0_0(v14)\n",
      "                else\n",
      "                    US0_1\n",
      "            | US0_0(v15) -> (* Some *)\n",
      "                v13\n",
      "        let v22 : int32 = v9 + 1\n",
      "        v7.l0 <- v22\n",
      "        v7.l1 <- v21\n",
      "        ()\n",
      "    let v23 : US0 = v7.l1\n",
      "    let v27 : bool =\n",
      "        match v23 with\n",
      "        | US0_0(v25) -> (* Some *)\n",
      "            let v26 : bool = v25 = 5\n",
      "            v26\n",
      "        | _ ->\n",
      "            false\n",
      "    let v29 : bool =\n",
      "        if v27 then\n",
      "            true\n",
      "        else\n",
      "            method3(v27)\n",
      "    let v30 : string = \"assert_eq\"\n",
      "    let v31 : US0 = US0_0(5)\n",
      "    let v32 : string = $\"{v30} / actual: %A{v23} / expected: %A{v31}\"\n",
      "    System.Console.WriteLine v32\n",
      "    let v33 : bool = v29 = false\n",
      "    if v33 then\n",
      "        failwith<unit> v32\n",
      "method0()\n",
      "\n",
      "assert_eq / actual: US0_0 5 / expected: US0_0 5\n"
     ]
    }
   ],
   "source": [
    "//// test\n",
    "\n",
    "am.init 10i32 id\n",
    "|> try_pick (fun x => if x = 5i32 then Some x else None)\n",
    "|> _assert_eq (Some 5i32)"
   ]
  },
  {
   "cell_type": "markdown",
   "metadata": {},
   "source": [
    "## indexed'"
   ]
  },
  {
   "cell_type": "code",
   "execution_count": null,
   "metadata": {
    "dotnet_interactive": {
     "language": "spiral"
    },
    "polyglot_notebook": {
     "kernelName": "spiral"
    }
   },
   "outputs": [
    {
     "name": "stdout",
     "output_type": "stream",
     "text": [
      "()\n",
      "\n"
     ]
    }
   ],
   "source": [
    "inl indexed' forall t dim {int; number} dim' {int; number} u {number}. (ar : a dim t) : a dim' (u * t) =\n",
    "    ((0, a ;[]), ar)\n",
    "    ||> am.fold fun (i, acc) x =>\n",
    "        i + 1, acc ++ a ;[i, x]\n",
    "    |> snd"
   ]
  },
  {
   "cell_type": "code",
   "execution_count": null,
   "metadata": {
    "dotnet_interactive": {
     "language": "spiral"
    },
    "polyglot_notebook": {
     "kernelName": "spiral"
    }
   },
   "outputs": [
    {
     "name": "stdout",
     "output_type": "stream",
     "text": [
      "type Mut0 = {mutable l0 : int32}\n",
      "and Mut1 = {mutable l0 : int32; mutable l1 : int32; mutable l2 : (struct (int32 * int32) [])}\n",
      "let rec method1 (v0 : Mut0) : bool =\n",
      "    let v1 : int32 = v0.l0\n",
      "    let v2 : bool = v1 < 3\n",
      "    v2\n",
      "and method2 (v0 : int32, v1 : Mut1) : bool =\n",
      "    let v2 : int32 = v1.l0\n",
      "    let v3 : bool = v2 < v0\n",
      "    v3\n",
      "and method3 (v0 : int32, v1 : Mut0) : bool =\n",
      "    let v2 : int32 = v1.l0\n",
      "    let v3 : bool = v2 < v0\n",
      "    v3\n",
      "and method4 (v0 : (struct (int32 * int32) []), v1 : (struct (int32 * int32) []), v2 : int32) : bool =\n",
      "    let v3 : int32 = v0.Length\n",
      "    let v4 : bool = v2 < v3\n",
      "    if v4 then\n",
      "        let struct (v5 : int32, v6 : int32) = v0.[int v2]\n",
      "        let struct (v7 : int32, v8 : int32) = v1.[int v2]\n",
      "        let v9 : bool = v5 = v7\n",
      "        let v11 : bool =\n",
      "            if v9 then\n",
      "                let v10 : bool = v6 = v8\n",
      "                v10\n",
      "            else\n",
      "                false\n",
      "        if v11 then\n",
      "            let v12 : int32 = v2 + 1\n",
      "            method4(v0, v1, v12)\n",
      "        else\n",
      "            false\n",
      "    else\n",
      "        true\n",
      "and method5 (v0 : bool) : bool =\n",
      "    v0\n",
      "and method0 () : unit =\n",
      "    let v0 : (int32 []) = Array.zeroCreate<int32> (3)\n",
      "    let v1 : Mut0 = {l0 = 0} : Mut0\n",
      "    while method1(v1) do\n",
      "        let v3 : int32 = v1.l0\n",
      "        let v4 : int32 = 2 * v3\n",
      "        v0.[int v3] <- v4\n",
      "        let v5 : int32 = v3 + 1\n",
      "        v1.l0 <- v5\n",
      "        ()\n",
      "    let v6 : (struct (int32 * int32) []) = [||]\n",
      "    let v7 : int32 = v0.Length\n",
      "    let v8 : Mut1 = {l0 = 0; l1 = 0; l2 = v6} : Mut1\n",
      "    while method2(v7, v8) do\n",
      "        let v10 : int32 = v8.l0\n",
      "        let struct (v11 : int32, v12 : (struct (int32 * int32) [])) = v8.l1, v8.l2\n",
      "        let v13 : int32 = v0.[int v10]\n",
      "        let v14 : int32 = v11 + 1\n",
      "        let v15 : (struct (int32 * int32) []) = [|struct (v11, v13)|]\n",
      "        let v16 : int32 = v12.Length\n",
      "        let v17 : int32 = v15.Length\n",
      "        let v18 : int32 = v16 + v17\n",
      "        let v19 : (struct (int32 * int32) []) = Array.zeroCreate<struct (int32 * int32)> (v18)\n",
      "        let v20 : Mut0 = {l0 = 0} : Mut0\n",
      "        while method3(v18, v20) do\n",
      "            let v22 : int32 = v20.l0\n",
      "            let v23 : bool = v22 < v16\n",
      "            let struct (v29 : int32, v30 : int32) =\n",
      "                if v23 then\n",
      "                    let struct (v24 : int32, v25 : int32) = v12.[int v22]\n",
      "                    struct (v24, v25)\n",
      "                else\n",
      "                    let v26 : int32 = v22 - v16\n",
      "                    let struct (v27 : int32, v28 : int32) = v15.[int v26]\n",
      "                    struct (v27, v28)\n",
      "            v19.[int v22] <- struct (v29, v30)\n",
      "            let v31 : int32 = v22 + 1\n",
      "            v20.l0 <- v31\n",
      "            ()\n",
      "        let v32 : int32 = v10 + 1\n",
      "        v8.l0 <- v32\n",
      "        v8.l1 <- v14\n",
      "        v8.l2 <- v19\n",
      "        ()\n",
      "    let struct (v33 : int32, v34 : (struct (int32 * int32) [])) = v8.l1, v8.l2\n",
      "    let v35 : (struct (int32 * int32) []) = [|struct (0, 0); struct (1, 2); struct (2, 4)|]\n",
      "    let v36 : int32 = v34.Length\n",
      "    let v37 : int32 = v35.Length\n",
      "    let v38 : bool = v36 = v37\n",
      "    let v39 : bool = v38 <> true\n",
      "    let v42 : bool =\n",
      "        if v39 then\n",
      "            false\n",
      "        else\n",
      "            let v40 : int32 = 0\n",
      "            method4(v34, v35, v40)\n",
      "    let v44 : bool =\n",
      "        if v42 then\n",
      "            true\n",
      "        else\n",
      "            method5(v42)\n",
      "    let v45 : string = \"assert_eq\"\n",
      "    let v46 : string = $\"{v45} / actual: %A{v34} / expected: %A{v35}\"\n",
      "    System.Console.WriteLine v46\n",
      "    let v47 : bool = v44 = false\n",
      "    if v47 then\n",
      "        failwith<unit> v46\n",
      "method0()\n",
      "\n",
      "assert_eq / actual: [|struct (0, 0); struct (1, 2); struct (2, 4)|] / expected: [|struct (0, 0); struct (1, 2); struct (2, 4)|]\n"
     ]
    }
   ],
   "source": [
    "//// test\n",
    "\n",
    "am.init 3i32 ((*) 2)\n",
    "|> indexed'\n",
    "|> _assert_eq (a ;[0i32, 0; 1, 2; 2, 4] : a i32 _)"
   ]
  },
  {
   "cell_type": "markdown",
   "metadata": {},
   "source": [
    "## map_base"
   ]
  },
  {
   "cell_type": "code",
   "execution_count": null,
   "metadata": {
    "dotnet_interactive": {
     "language": "spiral"
    },
    "polyglot_notebook": {
     "kernelName": "spiral"
    }
   },
   "outputs": [
    {
     "name": "stdout",
     "output_type": "stream",
     "text": [
      "()\n",
      "\n"
     ]
    }
   ],
   "source": [
    "inl map_base forall t u. (fn : t -> u) (x : array_base t) : array_base u =\n",
    "    a x\n",
    "    |> am.map fn\n",
    "    |> fun (a x : _ i64 _) => x"
   ]
  },
  {
   "cell_type": "markdown",
   "metadata": {},
   "source": [
    "## average"
   ]
  },
  {
   "cell_type": "code",
   "execution_count": null,
   "metadata": {
    "dotnet_interactive": {
     "language": "spiral"
    },
    "polyglot_notebook": {
     "kernelName": "spiral"
    }
   },
   "outputs": [
    {
     "name": "stdout",
     "output_type": "stream",
     "text": [
      "()\n",
      "\n"
     ]
    }
   ],
   "source": [
    "inl average forall el {number}. (a : a _ el) : el =\n",
    "    a |> $'Array.average'"
   ]
  },
  {
   "cell_type": "markdown",
   "metadata": {},
   "source": [
    "## distinct"
   ]
  },
  {
   "cell_type": "code",
   "execution_count": null,
   "metadata": {
    "dotnet_interactive": {
     "language": "spiral"
    },
    "polyglot_notebook": {
     "kernelName": "spiral"
    }
   },
   "outputs": [
    {
     "name": "stdout",
     "output_type": "stream",
     "text": [
      "()\n",
      "\n"
     ]
    }
   ],
   "source": [
    "inl distinct forall dim el. (a : a dim el) : a dim el =\n",
    "    a |> $'Array.distinct'"
   ]
  },
  {
   "cell_type": "markdown",
   "metadata": {},
   "source": [
    "## to_list'"
   ]
  },
  {
   "cell_type": "code",
   "execution_count": null,
   "metadata": {
    "dotnet_interactive": {
     "language": "spiral"
    },
    "polyglot_notebook": {
     "kernelName": "spiral"
    }
   },
   "outputs": [
    {
     "name": "stdout",
     "output_type": "stream",
     "text": [
      "()\n",
      "\n"
     ]
    }
   ],
   "source": [
    "inl to_list' forall dim t. (items : a dim t) : listm'.list' t =\n",
    "    items |> $'Array.toList'"
   ]
  },
  {
   "cell_type": "code",
   "execution_count": null,
   "metadata": {
    "dotnet_interactive": {
     "language": "spiral"
    },
    "polyglot_notebook": {
     "kernelName": "spiral"
    }
   },
   "outputs": [
    {
     "name": "stdout",
     "output_type": "stream",
     "text": [
      "type UH0 =\n",
      "    | UH0_0\n",
      "    | UH0_1 of string * UH0\n",
      "let rec closure1 (v0 : string) (v1 : UH0) : UH0 =\n",
      "    UH0_1(v0, v1)\n",
      "and closure0 () (v0 : string) : (UH0 -> UH0) =\n",
      "    closure1(v0)\n",
      "and method1 () : (string -> (UH0 -> UH0)) =\n",
      "    closure0()\n",
      "and method2 (v0 : bool) : bool =\n",
      "    v0\n",
      "and method0 () : unit =\n",
      "    let v0 : string = \"a\"\n",
      "    let v1 : string = \"b\"\n",
      "    let v2 : (string []) = [|v0; v1|]\n",
      "    let v3 : ((string []) -> string list) = Array.toList\n",
      "    let v4 : string list = v3 v2\n",
      "    let v5 : ((string -> (UH0 -> UH0)) -> (string list -> (UH0 -> UH0))) = List.foldBack\n",
      "    let v6 : (string -> (UH0 -> UH0)) = method1()\n",
      "    let v7 : (string list -> (UH0 -> UH0)) = v5 v6\n",
      "    let v8 : (UH0 -> UH0) = v7 v4\n",
      "    let v9 : UH0 = UH0_0\n",
      "    let v10 : UH0 = v8 v9\n",
      "    let v24 : bool =\n",
      "        match v10 with\n",
      "        | UH0_1(v14, v15) -> (* Cons *)\n",
      "            let v16 : bool = v14 = \"a\"\n",
      "            if v16 then\n",
      "                match v15 with\n",
      "                | UH0_1(v17, v18) -> (* Cons *)\n",
      "                    let v19 : bool = v17 = \"b\"\n",
      "                    if v19 then\n",
      "                        match v18 with\n",
      "                        | UH0_0 -> (* Nil *)\n",
      "                            true\n",
      "                        | _ ->\n",
      "                            false\n",
      "                    else\n",
      "                        false\n",
      "                | _ ->\n",
      "                    false\n",
      "            else\n",
      "                false\n",
      "        | _ ->\n",
      "            false\n",
      "    let v26 : bool =\n",
      "        if v24 then\n",
      "            true\n",
      "        else\n",
      "            method2(v24)\n",
      "    let v27 : string = \"assert_eq\"\n",
      "    let v28 : UH0 = UH0_0\n",
      "    let v29 : UH0 = UH0_1(v1, v28)\n",
      "    let v30 : UH0 = UH0_1(v0, v29)\n",
      "    let v31 : string = $\"{v27} / actual: %A{v10} / expected: %A{v30}\"\n",
      "    System.Console.WriteLine v31\n",
      "    let v32 : bool = v26 = false\n",
      "    if v32 then\n",
      "        failwith<unit> v31\n",
      "method0()\n",
      "\n",
      "assert_eq / actual: UH0_1 (\"a\", UH0_1 (\"b\", UH0_0)) / expected: UH0_1 (\"a\", UH0_1 (\"b\", UH0_0))\n"
     ]
    }
   ],
   "source": [
    "//// test\n",
    "\n",
    "(a ;[ \"a\"; \"b\" ] : _ i32 _)\n",
    "|> to_list'\n",
    "|> listm'.unbox\n",
    "|> _assert_eq ([ \"a\"; \"b\" ])"
   ]
  },
  {
   "cell_type": "markdown",
   "metadata": {},
   "source": [
    "## parallel_map"
   ]
  },
  {
   "cell_type": "code",
   "execution_count": null,
   "metadata": {
    "dotnet_interactive": {
     "language": "spiral"
    },
    "polyglot_notebook": {
     "kernelName": "spiral"
    }
   },
   "outputs": [
    {
     "name": "stdout",
     "output_type": "stream",
     "text": [
      "()\n",
      "\n"
     ]
    }
   ],
   "source": [
    "inl parallel_map forall dim el el'. (fn : el -> el') (a : a dim el) : a dim el' =\n",
    "    a |> $'Array.Parallel.map' fn"
   ]
  },
  {
   "cell_type": "markdown",
   "metadata": {},
   "source": [
    "## map'"
   ]
  },
  {
   "cell_type": "code",
   "execution_count": null,
   "metadata": {
    "dotnet_interactive": {
     "language": "spiral"
    },
    "polyglot_notebook": {
     "kernelName": "spiral"
    }
   },
   "outputs": [
    {
     "name": "stdout",
     "output_type": "stream",
     "text": [
      "()\n",
      "\n"
     ]
    }
   ],
   "source": [
    "inl map' forall dim el el'. (fn : el -> el') (a : a dim el) : a dim el' =\n",
    "    $'!a |> Array.map !fn '"
   ]
  },
  {
   "cell_type": "markdown",
   "metadata": {},
   "source": [
    "## sort_by"
   ]
  },
  {
   "cell_type": "code",
   "execution_count": null,
   "metadata": {
    "dotnet_interactive": {
     "language": "spiral"
    },
    "polyglot_notebook": {
     "kernelName": "spiral"
    }
   },
   "outputs": [
    {
     "name": "stdout",
     "output_type": "stream",
     "text": [
      "()\n",
      "\n"
     ]
    }
   ],
   "source": [
    "inl sort_by forall dim el. (fn : el -> _) (a : a dim el) : a dim el =\n",
    "    a |> $'Array.sortBy' fn"
   ]
  },
  {
   "cell_type": "markdown",
   "metadata": {},
   "source": [
    "## sort"
   ]
  },
  {
   "cell_type": "code",
   "execution_count": null,
   "metadata": {
    "dotnet_interactive": {
     "language": "spiral"
    },
    "polyglot_notebook": {
     "kernelName": "spiral"
    }
   },
   "outputs": [
    {
     "name": "stdout",
     "output_type": "stream",
     "text": [
      "()\n",
      "\n"
     ]
    }
   ],
   "source": [
    "inl sort forall dim el. (a : a dim el) : a dim el =\n",
    "    a |> $'Array.sort'"
   ]
  },
  {
   "cell_type": "markdown",
   "metadata": {},
   "source": [
    "## sort_descending"
   ]
  },
  {
   "cell_type": "code",
   "execution_count": null,
   "metadata": {
    "dotnet_interactive": {
     "language": "spiral"
    },
    "polyglot_notebook": {
     "kernelName": "spiral"
    }
   },
   "outputs": [
    {
     "name": "stdout",
     "output_type": "stream",
     "text": [
      "()\n",
      "\n"
     ]
    }
   ],
   "source": [
    "inl sort_descending forall dim el. (a : a dim el) : a dim el =\n",
    "    a |> $'Array.sortDescending'"
   ]
  },
  {
   "cell_type": "markdown",
   "metadata": {},
   "source": [
    "## transpose"
   ]
  },
  {
   "cell_type": "code",
   "execution_count": null,
   "metadata": {
    "dotnet_interactive": {
     "language": "spiral"
    },
    "polyglot_notebook": {
     "kernelName": "spiral"
    }
   },
   "outputs": [
    {
     "name": "stdout",
     "output_type": "stream",
     "text": [
      "()\n",
      "\n"
     ]
    }
   ],
   "source": [
    "inl transpose forall dim el. (a : a dim (a dim el)) : a dim (a dim el) =\n",
    "    a |> $'Array.transpose'"
   ]
  },
  {
   "cell_type": "markdown",
   "metadata": {},
   "source": [
    "## try_item"
   ]
  },
  {
   "cell_type": "code",
   "execution_count": null,
   "metadata": {
    "dotnet_interactive": {
     "language": "spiral"
    },
    "polyglot_notebook": {
     "kernelName": "spiral"
    }
   },
   "outputs": [
    {
     "name": "stdout",
     "output_type": "stream",
     "text": [
      "()\n",
      "\n"
     ]
    }
   ],
   "source": [
    "inl try_item forall dim el. (i : i32) (a : a dim el) : option el =\n",
    "    a |> $'Array.tryItem' i |> optionm'.unbox"
   ]
  },
  {
   "cell_type": "markdown",
   "metadata": {},
   "source": [
    "## indexed"
   ]
  },
  {
   "cell_type": "code",
   "execution_count": null,
   "metadata": {
    "dotnet_interactive": {
     "language": "spiral"
    },
    "polyglot_notebook": {
     "kernelName": "spiral"
    }
   },
   "outputs": [
    {
     "name": "stdout",
     "output_type": "stream",
     "text": [
      "()\n",
      "\n"
     ]
    }
   ],
   "source": [
    "inl indexed (array : a _ _) =\n",
    "    (([], 0), array)\n",
    "    ||> am.fold fun (acc, i) x =>\n",
    "        (i, x) :: acc, i + 1\n",
    "    |> fst\n",
    "    |> listm.rev\n",
    "    |> listm.toArray"
   ]
  },
  {
   "cell_type": "code",
   "execution_count": null,
   "metadata": {
    "dotnet_interactive": {
     "language": "spiral"
    },
    "polyglot_notebook": {
     "kernelName": "spiral"
    }
   },
   "outputs": [
    {
     "name": "stdout",
     "output_type": "stream",
     "text": [
      "type Mut0 = {mutable l0 : int32}\n",
      "and UH0 =\n",
      "    | UH0_0\n",
      "    | UH0_1 of int32 * int32 * UH0\n",
      "and Mut1 = {mutable l0 : int32; mutable l1 : UH0; mutable l2 : int32}\n",
      "let rec method1 (v0 : Mut0) : bool =\n",
      "    let v1 : int32 = v0.l0\n",
      "    let v2 : bool = v1 < 3\n",
      "    v2\n",
      "and method2 (v0 : int32, v1 : Mut1) : bool =\n",
      "    let v2 : int32 = v1.l0\n",
      "    let v3 : bool = v2 < v0\n",
      "    v3\n",
      "and method3 (v0 : UH0, v1 : UH0) : UH0 =\n",
      "    match v0 with\n",
      "    | UH0_1(v2, v3, v4) -> (* Cons *)\n",
      "        let v5 : UH0 = UH0_1(v2, v3, v1)\n",
      "        method3(v4, v5)\n",
      "    | UH0_0 -> (* Nil *)\n",
      "        v1\n",
      "and method5 (v0 : UH0, v1 : int32) : int32 =\n",
      "    match v0 with\n",
      "    | UH0_1(v2, v3, v4) -> (* Cons *)\n",
      "        let v5 : int32 = v1 + 1\n",
      "        method5(v4, v5)\n",
      "    | UH0_0 -> (* Nil *)\n",
      "        v1\n",
      "and method6 (v0 : (struct (int32 * int32) []), v1 : UH0, v2 : int32) : int32 =\n",
      "    match v1 with\n",
      "    | UH0_1(v3, v4, v5) -> (* Cons *)\n",
      "        v0.[int v2] <- struct (v3, v4)\n",
      "        let v6 : int32 = v2 + 1\n",
      "        method6(v0, v5, v6)\n",
      "    | UH0_0 -> (* Nil *)\n",
      "        v2\n",
      "and method4 (v0 : UH0) : (struct (int32 * int32) []) =\n",
      "    let v1 : int32 = 0\n",
      "    let v2 : int32 = method5(v0, v1)\n",
      "    let v3 : (struct (int32 * int32) []) = Array.zeroCreate<struct (int32 * int32)> (v2)\n",
      "    let v4 : int32 = 0\n",
      "    let v5 : int32 = method6(v3, v0, v4)\n",
      "    v3\n",
      "and method7 (v0 : (struct (int32 * int32) []), v1 : (struct (int32 * int32) []), v2 : int32) : bool =\n",
      "    let v3 : int32 = v0.Length\n",
      "    let v4 : bool = v2 < v3\n",
      "    if v4 then\n",
      "        let struct (v5 : int32, v6 : int32) = v0.[int v2]\n",
      "        let struct (v7 : int32, v8 : int32) = v1.[int v2]\n",
      "        let v9 : bool = v5 = v7\n",
      "        let v11 : bool =\n",
      "            if v9 then\n",
      "                let v10 : bool = v6 = v8\n",
      "                v10\n",
      "            else\n",
      "                false\n",
      "        if v11 then\n",
      "            let v12 : int32 = v2 + 1\n",
      "            method7(v0, v1, v12)\n",
      "        else\n",
      "            false\n",
      "    else\n",
      "        true\n",
      "and method8 (v0 : bool) : bool =\n",
      "    v0\n",
      "and method0 () : unit =\n",
      "    let v0 : (int32 []) = Array.zeroCreate<int32> (3)\n",
      "    let v1 : Mut0 = {l0 = 0} : Mut0\n",
      "    while method1(v1) do\n",
      "        let v3 : int32 = v1.l0\n",
      "        let v4 : int32 = 2 * v3\n",
      "        v0.[int v3] <- v4\n",
      "        let v5 : int32 = v3 + 1\n",
      "        v1.l0 <- v5\n",
      "        ()\n",
      "    let v6 : int32 = v0.Length\n",
      "    let v7 : UH0 = UH0_0\n",
      "    let v8 : Mut1 = {l0 = 0; l1 = v7; l2 = 0} : Mut1\n",
      "    while method2(v6, v8) do\n",
      "        let v10 : int32 = v8.l0\n",
      "        let struct (v11 : UH0, v12 : int32) = v8.l1, v8.l2\n",
      "        let v13 : int32 = v0.[int v10]\n",
      "        let v14 : int32 = v12 + 1\n",
      "        let v15 : int32 = v10 + 1\n",
      "        let v16 : UH0 = UH0_1(v12, v13, v11)\n",
      "        v8.l0 <- v15\n",
      "        v8.l1 <- v16\n",
      "        v8.l2 <- v14\n",
      "        ()\n",
      "    let struct (v17 : UH0, v18 : int32) = v8.l1, v8.l2\n",
      "    let v19 : UH0 = UH0_0\n",
      "    let v20 : UH0 = method3(v17, v19)\n",
      "    let v21 : (struct (int32 * int32) []) = method4(v20)\n",
      "    let v22 : (struct (int32 * int32) []) = [|struct (0, 0); struct (1, 2); struct (2, 4)|]\n",
      "    let v23 : int32 = v21.Length\n",
      "    let v24 : int32 = v22.Length\n",
      "    let v25 : bool = v23 = v24\n",
      "    let v26 : bool = v25 <> true\n",
      "    let v29 : bool =\n",
      "        if v26 then\n",
      "            false\n",
      "        else\n",
      "            let v27 : int32 = 0\n",
      "            method7(v21, v22, v27)\n",
      "    let v31 : bool =\n",
      "        if v29 then\n",
      "            true\n",
      "        else\n",
      "            method8(v29)\n",
      "    let v32 : string = \"assert_eq\"\n",
      "    let v33 : string = $\"{v32} / actual: %A{v21} / expected: %A{v22}\"\n",
      "    System.Console.WriteLine v33\n",
      "    let v34 : bool = v31 = false\n",
      "    if v34 then\n",
      "        failwith<unit> v33\n",
      "method0()\n",
      "\n",
      "assert_eq / actual: [|struct (0, 0); struct (1, 2); struct (2, 4)|] / expected: [|struct (0, 0); struct (1, 2); struct (2, 4)|]\n"
     ]
    }
   ],
   "source": [
    "//// test\n",
    "\n",
    "am.init 3i32 ((*) 2)\n",
    "|> indexed\n",
    "|> _assert_eq (a ;[0i32, 0; 1, 2; 2, 4] : a i32 _)"
   ]
  },
  {
   "cell_type": "markdown",
   "metadata": {},
   "source": [
    "## vec"
   ]
  },
  {
   "cell_type": "code",
   "execution_count": null,
   "metadata": {
    "dotnet_interactive": {
     "language": "spiral"
    },
    "polyglot_notebook": {
     "kernelName": "spiral"
    }
   },
   "outputs": [
    {
     "name": "stdout",
     "output_type": "stream",
     "text": [
      "()\n",
      "\n"
     ]
    }
   ],
   "source": [
    "nominal vec t = $\"Vec<`t>\""
   ]
  },
  {
   "cell_type": "markdown",
   "metadata": {},
   "source": [
    "## from_vec"
   ]
  },
  {
   "cell_type": "code",
   "execution_count": null,
   "metadata": {
    "dotnet_interactive": {
     "language": "spiral"
    },
    "polyglot_notebook": {
     "kernelName": "spiral"
    }
   },
   "outputs": [
    {
     "name": "stdout",
     "output_type": "stream",
     "text": [
      "()\n",
      "\n"
     ]
    }
   ],
   "source": [
    "inl from_vec forall dim el. (vec : vec el) : a dim el =\n",
    "    !\\\\(vec, $'\"fable_library_rust::NativeArray_::array_from($0)\"')"
   ]
  },
  {
   "cell_type": "markdown",
   "metadata": {},
   "source": [
    "## to_vec"
   ]
  },
  {
   "cell_type": "code",
   "execution_count": null,
   "metadata": {
    "dotnet_interactive": {
     "language": "spiral"
    },
    "polyglot_notebook": {
     "kernelName": "spiral"
    }
   },
   "outputs": [
    {
     "name": "stdout",
     "output_type": "stream",
     "text": [
      "()\n",
      "\n"
     ]
    }
   ],
   "source": [
    "inl to_vec forall t. (ab : array_base t) : vec t =\n",
    "    !\\\\(ab, $'\"$0.to_vec()\"')"
   ]
  },
  {
   "cell_type": "markdown",
   "metadata": {},
   "source": [
    "## vec_push"
   ]
  },
  {
   "cell_type": "code",
   "execution_count": null,
   "metadata": {
    "dotnet_interactive": {
     "language": "spiral"
    },
    "polyglot_notebook": {
     "kernelName": "spiral"
    }
   },
   "outputs": [
    {
     "name": "stdout",
     "output_type": "stream",
     "text": [
      "()\n",
      "\n"
     ]
    }
   ],
   "source": [
    "inl vec_push forall el. (el : el) (vec : vec el) : vec el =\n",
    "    inl el = join el\n",
    "    inl vec = join vec\n",
    "    (!\\($'\"true; let mut !vec = !vec\"') : bool) |> ignore\n",
    "    // inl vec = vec |> rust.to_mut\n",
    "    (!\\($'\"true; !vec.push(!el)\"') : bool) |> ignore\n",
    "    !\\($'\"!vec\"')"
   ]
  },
  {
   "cell_type": "markdown",
   "metadata": {},
   "source": [
    "## vec_reverse"
   ]
  },
  {
   "cell_type": "code",
   "execution_count": null,
   "metadata": {
    "dotnet_interactive": {
     "language": "spiral"
    },
    "polyglot_notebook": {
     "kernelName": "spiral"
    }
   },
   "outputs": [
    {
     "name": "stdout",
     "output_type": "stream",
     "text": [
      "()\n",
      "\n"
     ]
    }
   ],
   "source": [
    "inl vec_reverse forall el. (vec : vec el) : vec el =\n",
    "    inl vec = join vec\n",
    "    (!\\($'\"true; let mut !vec = !vec\"') : bool) |> ignore\n",
    "    (!\\($'\"true; !vec.reverse()\"') : bool) |> ignore\n",
    "    !\\($'\"!vec\"')"
   ]
  },
  {
   "cell_type": "markdown",
   "metadata": {},
   "source": [
    "## vec_retain"
   ]
  },
  {
   "cell_type": "code",
   "execution_count": null,
   "metadata": {
    "dotnet_interactive": {
     "language": "spiral"
    },
    "polyglot_notebook": {
     "kernelName": "spiral"
    }
   },
   "outputs": [
    {
     "name": "stdout",
     "output_type": "stream",
     "text": [
      "()\n",
      "\n"
     ]
    }
   ],
   "source": [
    "inl vec_retain forall el. (fn : el -> bool) (vec : vec el) : vec el =\n",
    "    inl vec = join vec\n",
    "    inl fn = join fn\n",
    "    (!\\($'\"true; let mut !vec = !vec\"') : bool) |> ignore\n",
    "    // inl vec = vec |> rust.to_mut\n",
    "    (!\\($'\"true; !vec.retain(|x| !fn(x.clone()))\"') : bool) |> ignore\n",
    "    !\\($'\"!vec\"')"
   ]
  },
  {
   "cell_type": "markdown",
   "metadata": {},
   "source": [
    "## vec_sort_by_key"
   ]
  },
  {
   "cell_type": "code",
   "execution_count": null,
   "metadata": {
    "dotnet_interactive": {
     "language": "spiral"
    },
    "polyglot_notebook": {
     "kernelName": "spiral"
    }
   },
   "outputs": [
    {
     "name": "stdout",
     "output_type": "stream",
     "text": [
      "()\n",
      "\n"
     ]
    }
   ],
   "source": [
    "inl vec_sort_by_key forall el t. (fn : el -> t) (vec : vec el) : vec el =\n",
    "    inl vec = join vec\n",
    "    inl fn = join fn\n",
    "    (!\\($'\"true; let mut !vec = !vec\"') : bool) |> ignore\n",
    "    // inl vec = vec |> rust.to_mut\n",
    "    (!\\($'\"true; !vec.sort_by_key(|x| !fn(x.clone()))\"') : bool) |> ignore\n",
    "    !\\($'\"!vec\"')"
   ]
  },
  {
   "cell_type": "markdown",
   "metadata": {},
   "source": [
    "## vec_extend"
   ]
  },
  {
   "cell_type": "code",
   "execution_count": null,
   "metadata": {
    "dotnet_interactive": {
     "language": "spiral"
    },
    "polyglot_notebook": {
     "kernelName": "spiral"
    }
   },
   "outputs": [
    {
     "name": "stdout",
     "output_type": "stream",
     "text": [
      "()\n",
      "\n"
     ]
    }
   ],
   "source": [
    "inl vec_extend forall el. (el : vec el) (vec : vec el) : vec el =\n",
    "    inl el = join el\n",
    "    inl vec = join vec\n",
    "    (!\\($'\"true; let mut !vec = !vec\"') : bool) |> ignore\n",
    "    // inl vec = vec |> rust.to_mut\n",
    "    (!\\($'\"true; !vec.extend(!el)\"') : bool) |> ignore\n",
    "    !\\($'\"!vec\"')"
   ]
  },
  {
   "cell_type": "markdown",
   "metadata": {},
   "source": [
    "## vec_collect"
   ]
  },
  {
   "cell_type": "code",
   "execution_count": null,
   "metadata": {
    "dotnet_interactive": {
     "language": "spiral"
    },
    "polyglot_notebook": {
     "kernelName": "spiral"
    }
   },
   "outputs": [
    {
     "name": "stdout",
     "output_type": "stream",
     "text": [
      "()\n",
      "\n"
     ]
    }
   ],
   "source": [
    "inl vec_collect fn vec =\n",
    "    ((;[] |> to_vec), (vec |> from_vec : _ i32 _))\n",
    "    ||> am.fold fun acc x =>\n",
    "        acc |> vec_extend (fn x)"
   ]
  },
  {
   "cell_type": "markdown",
   "metadata": {},
   "source": [
    "## vec_collect_option"
   ]
  },
  {
   "cell_type": "code",
   "execution_count": null,
   "metadata": {
    "dotnet_interactive": {
     "language": "spiral"
    },
    "polyglot_notebook": {
     "kernelName": "spiral"
    }
   },
   "outputs": [
    {
     "name": "stdout",
     "output_type": "stream",
     "text": [
      "()\n",
      "\n"
     ]
    }
   ],
   "source": [
    "inl vec_collect_option vec =\n",
    "    ((;[] |> to_vec |> Ok), (vec |> from_vec : _ i32 _))\n",
    "    ||> am.fold fun acc x =>\n",
    "        x\n",
    "        |> resultm.unbox\n",
    "        |> fun x =>\n",
    "            match acc, x |> resultm.map optionm'.unbox with\n",
    "            | Ok acc, Ok (Some x) => acc |> vec_extend x |> Ok\n",
    "            | _, Error error => error |> Error\n",
    "            | _ => acc"
   ]
  },
  {
   "cell_type": "markdown",
   "metadata": {},
   "source": [
    "## vec_collect_into"
   ]
  },
  {
   "cell_type": "code",
   "execution_count": null,
   "metadata": {
    "dotnet_interactive": {
     "language": "spiral"
    },
    "polyglot_notebook": {
     "kernelName": "spiral"
    }
   },
   "outputs": [
    {
     "name": "stdout",
     "output_type": "stream",
     "text": [
      "()\n",
      "\n"
     ]
    }
   ],
   "source": [
    "inl vec_collect_into forall (c : * -> * -> *) t e.\n",
    "    (x : vec (c t e))\n",
    "    : c (vec t) e\n",
    "    =\n",
    "    !\\($'\"!x.into_iter().collect()\"')"
   ]
  },
  {
   "cell_type": "markdown",
   "metadata": {},
   "source": [
    "## vec_mapi"
   ]
  },
  {
   "cell_type": "code",
   "execution_count": null,
   "metadata": {
    "dotnet_interactive": {
     "language": "spiral"
    },
    "polyglot_notebook": {
     "kernelName": "spiral"
    }
   },
   "outputs": [
    {
     "name": "stdout",
     "output_type": "stream",
     "text": [
      "()\n",
      "\n"
     ]
    }
   ],
   "source": [
    "inl vec_mapi forall dim t u. (fn : dim -> t -> u) (ar : vec t) : vec u =\n",
    "    inl fn = join fn\n",
    "    inl ar = join ar\n",
    "    !\\($'\"!ar.iter().enumerate().map(|(i, x)| !fn(i.try_into().unwrap())(x.clone())).collect()\"')"
   ]
  },
  {
   "cell_type": "markdown",
   "metadata": {},
   "source": [
    "## vec_map"
   ]
  },
  {
   "cell_type": "code",
   "execution_count": null,
   "metadata": {
    "dotnet_interactive": {
     "language": "spiral"
    },
    "polyglot_notebook": {
     "kernelName": "spiral"
    }
   },
   "outputs": [
    {
     "name": "stdout",
     "output_type": "stream",
     "text": [
      "()\n",
      "\n"
     ]
    }
   ],
   "source": [
    "inl vec_map forall t u. (fn : t -> u) (ar : vec t) : vec u =\n",
    "    (!\\($'\"true; let _result = !ar.into_iter().map(|x| { //\"') : bool) |> ignore\n",
    "    (!\\\\(fn !\\($'\"x\"'), $'\"true; $0 }).collect()\"') : bool) |> ignore\n",
    "    !\\($'\"_result\"')"
   ]
  },
  {
   "cell_type": "markdown",
   "metadata": {},
   "source": [
    "## vec_map'"
   ]
  },
  {
   "cell_type": "code",
   "execution_count": null,
   "metadata": {
    "dotnet_interactive": {
     "language": "spiral"
    },
    "polyglot_notebook": {
     "kernelName": "spiral"
    }
   },
   "outputs": [
    {
     "name": "stdout",
     "output_type": "stream",
     "text": [
      "()\n",
      "\n"
     ]
    }
   ],
   "source": [
    "inl vec_map' forall t u. (fn : t -> u) (ar : vec t) : vec u =\n",
    "    !\\\\((ar, fn), $'\"$0.into_iter().map(|x| $1(x.clone())).collect()\"')"
   ]
  },
  {
   "cell_type": "markdown",
   "metadata": {},
   "source": [
    "## vec_fold'"
   ]
  },
  {
   "cell_type": "code",
   "execution_count": null,
   "metadata": {
    "dotnet_interactive": {
     "language": "spiral"
    },
    "polyglot_notebook": {
     "kernelName": "spiral"
    }
   },
   "outputs": [
    {
     "name": "stdout",
     "output_type": "stream",
     "text": [
      "()\n",
      "\n"
     ]
    }
   ],
   "source": [
    "inl vec_fold' forall t u. (fn : u -> t -> u) (init : u) (ar : vec t) : u =\n",
    "    (!\\\\(ar, $'\"true; let _result = $0.into_iter().fold(!init, |acc, x| { //\"') : bool) |> ignore\n",
    "    (!\\\\(fn !\\($'\"acc\"') !\\($'\"x\"'), $'\"true; $0 })\"') : bool) |> ignore\n",
    "    !\\($'\"_result\"')"
   ]
  },
  {
   "cell_type": "markdown",
   "metadata": {},
   "source": [
    "## vec_iter"
   ]
  },
  {
   "cell_type": "code",
   "execution_count": null,
   "metadata": {
    "dotnet_interactive": {
     "language": "spiral"
    },
    "polyglot_notebook": {
     "kernelName": "spiral"
    }
   },
   "outputs": [
    {
     "name": "stdout",
     "output_type": "stream",
     "text": [
      "()\n",
      "\n"
     ]
    }
   ],
   "source": [
    "inl vec_iter forall t. (fn : t -> ()) (ar : vec t) : () =\n",
    "    !\\\\((ar, fn), $'\"$0.iter().map(|x| { $1(x.clone()); }).collect()\"')"
   ]
  },
  {
   "cell_type": "markdown",
   "metadata": {},
   "source": [
    "## vec_filter"
   ]
  },
  {
   "cell_type": "code",
   "execution_count": null,
   "metadata": {
    "dotnet_interactive": {
     "language": "spiral"
    },
    "polyglot_notebook": {
     "kernelName": "spiral"
    }
   },
   "outputs": [
    {
     "name": "stdout",
     "output_type": "stream",
     "text": [
      "()\n",
      "\n"
     ]
    }
   ],
   "source": [
    "inl vec_filter forall t. (fn : t -> bool) (ar : vec t) : vec t =\n",
    "    inl fn = join fn\n",
    "    inl ar = join ar\n",
    "    !\\($'\"!ar.into_iter().filter(|x| !fn(x.clone().clone())).collect()\"')"
   ]
  },
  {
   "cell_type": "markdown",
   "metadata": {},
   "source": [
    "## vec_len"
   ]
  },
  {
   "cell_type": "code",
   "execution_count": null,
   "metadata": {
    "dotnet_interactive": {
     "language": "spiral"
    },
    "polyglot_notebook": {
     "kernelName": "spiral"
    }
   },
   "outputs": [
    {
     "name": "stdout",
     "output_type": "stream",
     "text": [
      "()\n",
      "\n"
     ]
    }
   ],
   "source": [
    "inl vec_len forall t. (vec : vec t) : unativeint =\n",
    "    !\\\\(vec, $'\"$0.len()\"')"
   ]
  },
  {
   "cell_type": "markdown",
   "metadata": {},
   "source": [
    "## vec_chunks"
   ]
  },
  {
   "cell_type": "code",
   "execution_count": null,
   "metadata": {
    "dotnet_interactive": {
     "language": "spiral"
    },
    "polyglot_notebook": {
     "kernelName": "spiral"
    }
   },
   "outputs": [
    {
     "name": "stdout",
     "output_type": "stream",
     "text": [
      "()\n",
      "\n"
     ]
    }
   ],
   "source": [
    "inl vec_chunks forall t. (n : i32) (vec : vec t) : vec (vec t) =\n",
    "    !\\\\(vec, $'\"$0.chunks(!n).map(|x| x.into_iter().map(|x| x.clone()).collect()).collect()\"')"
   ]
  },
  {
   "cell_type": "markdown",
   "metadata": {},
   "source": [
    "## slice"
   ]
  },
  {
   "cell_type": "code",
   "execution_count": null,
   "metadata": {
    "dotnet_interactive": {
     "language": "spiral"
    },
    "polyglot_notebook": {
     "kernelName": "spiral"
    }
   },
   "outputs": [
    {
     "name": "stdout",
     "output_type": "stream",
     "text": [
      "()\n",
      "\n"
     ]
    }
   ],
   "source": [
    "nominal slice t = $\"Slice<`t>\""
   ]
  },
  {
   "cell_type": "markdown",
   "metadata": {},
   "source": [
    "## slice"
   ]
  },
  {
   "cell_type": "code",
   "execution_count": null,
   "metadata": {
    "dotnet_interactive": {
     "language": "spiral"
    },
    "polyglot_notebook": {
     "kernelName": "spiral"
    }
   },
   "outputs": [
    {
     "name": "stdout",
     "output_type": "stream",
     "text": [
      "()\n",
      "\n"
     ]
    }
   ],
   "source": [
    "inl slice forall dim {int; number} el. from nearTo s : a dim el =\n",
    "    am.slice { from nearTo } s"
   ]
  },
  {
   "cell_type": "code",
   "execution_count": null,
   "metadata": {
    "dotnet_interactive": {
     "language": "spiral"
    },
    "polyglot_notebook": {
     "kernelName": "spiral"
    }
   },
   "outputs": [
    {
     "name": "stdout",
     "output_type": "stream",
     "text": [
      "type Mut0 = {mutable l0 : int32}\n",
      "let rec method1 (v0 : Mut0) : bool =\n",
      "    let v1 : int32 = v0.l0\n",
      "    let v2 : bool = v1 < 0\n",
      "    v2\n",
      "and method2 (v0 : (int32 []), v1 : (int32 []), v2 : int32) : bool =\n",
      "    let v3 : int32 = v0.Length\n",
      "    let v4 : bool = v2 < v3\n",
      "    if v4 then\n",
      "        let v5 : int32 = v0.[int v2]\n",
      "        let v6 : int32 = v1.[int v2]\n",
      "        let v7 : bool = v5 = v6\n",
      "        if v7 then\n",
      "            let v8 : int32 = v2 + 1\n",
      "            method2(v0, v1, v8)\n",
      "        else\n",
      "            false\n",
      "    else\n",
      "        true\n",
      "and method3 (v0 : bool) : bool =\n",
      "    v0\n",
      "and method4 (v0 : Mut0) : bool =\n",
      "    let v1 : int32 = v0.l0\n",
      "    let v2 : bool = v1 < 1\n",
      "    v2\n",
      "and method5 (v0 : Mut0) : bool =\n",
      "    let v1 : int32 = v0.l0\n",
      "    let v2 : bool = v1 < 2\n",
      "    v2\n",
      "and method0 () : unit =\n",
      "    let v0 : (int32 []) = [|1; 2; 3|]\n",
      "    let v1 : (int32 []) = Array.zeroCreate<int32> (0)\n",
      "    let v2 : Mut0 = {l0 = 0} : Mut0\n",
      "    while method1(v2) do\n",
      "        let v4 : int32 = v2.l0\n",
      "        let v5 : int32 = v0.[int v4]\n",
      "        v1.[int v4] <- v5\n",
      "        let v6 : int32 = v4 + 1\n",
      "        v2.l0 <- v6\n",
      "        ()\n",
      "    let v7 : (int32 []) = [||]\n",
      "    let v8 : int32 = v1.Length\n",
      "    let v9 : int32 = v7.Length\n",
      "    let v10 : bool = v8 = v9\n",
      "    let v11 : bool = v10 <> true\n",
      "    let v14 : bool =\n",
      "        if v11 then\n",
      "            false\n",
      "        else\n",
      "            let v12 : int32 = 0\n",
      "            method2(v1, v7, v12)\n",
      "    let v16 : bool =\n",
      "        if v14 then\n",
      "            true\n",
      "        else\n",
      "            method3(v14)\n",
      "    let v17 : string = \"assert_eq\"\n",
      "    let v18 : string = $\"{v17} / actual: %A{v1} / expected: %A{v7}\"\n",
      "    System.Console.WriteLine v18\n",
      "    let v19 : bool = v16 = false\n",
      "    if v19 then\n",
      "        failwith<unit> v18\n",
      "    let v20 : (int32 []) = Array.zeroCreate<int32> (1)\n",
      "    let v21 : Mut0 = {l0 = 0} : Mut0\n",
      "    while method4(v21) do\n",
      "        let v23 : int32 = v21.l0\n",
      "        let v24 : int32 = v0.[int v23]\n",
      "        v20.[int v23] <- v24\n",
      "        let v25 : int32 = v23 + 1\n",
      "        v21.l0 <- v25\n",
      "        ()\n",
      "    let v26 : (int32 []) = [|1|]\n",
      "    let v27 : int32 = v20.Length\n",
      "    let v28 : int32 = v26.Length\n",
      "    let v29 : bool = v27 = v28\n",
      "    let v30 : bool = v29 <> true\n",
      "    let v33 : bool =\n",
      "        if v30 then\n",
      "            false\n",
      "        else\n",
      "            let v31 : int32 = 0\n",
      "            method2(v20, v26, v31)\n",
      "    let v35 : bool =\n",
      "        if v33 then\n",
      "            true\n",
      "        else\n",
      "            method3(v33)\n",
      "    let v36 : string = $\"{v17} / actual: %A{v20} / expected: %A{v26}\"\n",
      "    System.Console.WriteLine v36\n",
      "    let v37 : bool = v35 = false\n",
      "    if v37 then\n",
      "        failwith<unit> v36\n",
      "    let v38 : (int32 []) = Array.zeroCreate<int32> (0)\n",
      "    let v39 : Mut0 = {l0 = 0} : Mut0\n",
      "    while method1(v39) do\n",
      "        let v41 : int32 = v39.l0\n",
      "        let v42 : int32 = v41 + 1\n",
      "        let v43 : int32 = v0.[int v42]\n",
      "        v38.[int v41] <- v43\n",
      "        v39.l0 <- v42\n",
      "        ()\n",
      "    let v44 : (int32 []) = [||]\n",
      "    let v45 : int32 = v38.Length\n",
      "    let v46 : int32 = v44.Length\n",
      "    let v47 : bool = v45 = v46\n",
      "    let v48 : bool = v47 <> true\n",
      "    let v51 : bool =\n",
      "        if v48 then\n",
      "            false\n",
      "        else\n",
      "            let v49 : int32 = 0\n",
      "            method2(v38, v44, v49)\n",
      "    let v53 : bool =\n",
      "        if v51 then\n",
      "            true\n",
      "        else\n",
      "            method3(v51)\n",
      "    let v54 : string = $\"{v17} / actual: %A{v38} / expected: %A{v44}\"\n",
      "    System.Console.WriteLine v54\n",
      "    let v55 : bool = v53 = false\n",
      "    if v55 then\n",
      "        failwith<unit> v54\n",
      "    let v56 : (int32 []) = Array.zeroCreate<int32> (1)\n",
      "    let v57 : Mut0 = {l0 = 0} : Mut0\n",
      "    while method4(v57) do\n",
      "        let v59 : int32 = v57.l0\n",
      "        let v60 : int32 = v59 + 1\n",
      "        let v61 : int32 = v0.[int v60]\n",
      "        v56.[int v59] <- v61\n",
      "        v57.l0 <- v60\n",
      "        ()\n",
      "    let v62 : (int32 []) = [|2|]\n",
      "    let v63 : int32 = v56.Length\n",
      "    let v64 : int32 = v62.Length\n",
      "    let v65 : bool = v63 = v64\n",
      "    let v66 : bool = v65 <> true\n",
      "    let v69 : bool =\n",
      "        if v66 then\n",
      "            false\n",
      "        else\n",
      "            let v67 : int32 = 0\n",
      "            method2(v56, v62, v67)\n",
      "    let v71 : bool =\n",
      "        if v69 then\n",
      "            true\n",
      "        else\n",
      "            method3(v69)\n",
      "    let v72 : string = $\"{v17} / actual: %A{v56} / expected: %A{v62}\"\n",
      "    System.Console.WriteLine v72\n",
      "    let v73 : bool = v71 = false\n",
      "    if v73 then\n",
      "        failwith<unit> v72\n",
      "    let v74 : (int32 []) = Array.zeroCreate<int32> (0)\n",
      "    let v75 : Mut0 = {l0 = 0} : Mut0\n",
      "    while method1(v75) do\n",
      "        let v77 : int32 = v75.l0\n",
      "        let v78 : int32 = v77 + 2\n",
      "        let v79 : int32 = v0.[int v78]\n",
      "        v74.[int v77] <- v79\n",
      "        let v80 : int32 = v77 + 1\n",
      "        v75.l0 <- v80\n",
      "        ()\n",
      "    let v81 : (int32 []) = [||]\n",
      "    let v82 : int32 = v74.Length\n",
      "    let v83 : int32 = v81.Length\n",
      "    let v84 : bool = v82 = v83\n",
      "    let v85 : bool = v84 <> true\n",
      "    let v88 : bool =\n",
      "        if v85 then\n",
      "            false\n",
      "        else\n",
      "            let v86 : int32 = 0\n",
      "            method2(v74, v81, v86)\n",
      "    let v90 : bool =\n",
      "        if v88 then\n",
      "            true\n",
      "        else\n",
      "            method3(v88)\n",
      "    let v91 : string = $\"{v17} / actual: %A{v74} / expected: %A{v81}\"\n",
      "    System.Console.WriteLine v91\n",
      "    let v92 : bool = v90 = false\n",
      "    if v92 then\n",
      "        failwith<unit> v91\n",
      "    let v93 : (int32 []) = Array.zeroCreate<int32> (2)\n",
      "    let v94 : Mut0 = {l0 = 0} : Mut0\n",
      "    while method5(v94) do\n",
      "        let v96 : int32 = v94.l0\n",
      "        let v97 : int32 = v0.[int v96]\n",
      "        v93.[int v96] <- v97\n",
      "        let v98 : int32 = v96 + 1\n",
      "        v94.l0 <- v98\n",
      "        ()\n",
      "    let v99 : (int32 []) = [|1; 2|]\n",
      "    let v100 : int32 = v93.Length\n",
      "    let v101 : int32 = v99.Length\n",
      "    let v102 : bool = v100 = v101\n",
      "    let v103 : bool = v102 <> true\n",
      "    let v106 : bool =\n",
      "        if v103 then\n",
      "            false\n",
      "        else\n",
      "            let v104 : int32 = 0\n",
      "            method2(v93, v99, v104)\n",
      "    let v108 : bool =\n",
      "        if v106 then\n",
      "            true\n",
      "        else\n",
      "            method3(v106)\n",
      "    let v109 : string = $\"{v17} / actual: %A{v93} / expected: %A{v99}\"\n",
      "    System.Console.WriteLine v109\n",
      "    let v110 : bool = v108 = false\n",
      "    if v110 then\n",
      "        failwith<unit> v109\n",
      "method0()\n",
      "\n",
      "assert_eq / actual: [||] / expected: [||]\n",
      "assert_eq / actual: [|1|] / expected: [|1|]\n",
      "assert_eq / actual: [||] / expected: [||]\n",
      "assert_eq / actual: [|2|] / expected: [|2|]\n",
      "assert_eq / actual: [||] / expected: [||]\n",
      "assert_eq / actual: [|1; 2|] / expected: [|1; 2|]\n"
     ]
    }
   ],
   "source": [
    "//// test\n",
    "\n",
    "inl x : _ i32 _ = a ;[ 1i32; 2; 3 ]\n",
    "x |> slice 0 0 |> _assert_eq (a ;[])\n",
    "x |> slice 0 1 |> _assert_eq (a ;[ 1 ])\n",
    "x |> slice 1 1 |> _assert_eq (a ;[])\n",
    "x |> slice 1 2 |> _assert_eq (a ;[ 2 ])\n",
    "x |> slice 2 2 |> _assert_eq (a ;[])\n",
    "x |> slice 0 2 |> _assert_eq (a ;[ 1; 2 ])"
   ]
  },
  {
   "cell_type": "markdown",
   "metadata": {},
   "source": [
    "## range"
   ]
  },
  {
   "cell_type": "code",
   "execution_count": null,
   "metadata": {
    "dotnet_interactive": {
     "language": "spiral"
    },
    "polyglot_notebook": {
     "kernelName": "spiral"
    }
   },
   "outputs": [
    {
     "name": "stdout",
     "output_type": "stream",
     "text": [
      "()\n",
      "\n"
     ]
    }
   ],
   "source": [
    "union range dim =\n",
    "    | Start : dim\n",
    "    | End : dim -> dim\n",
    "\n",
    "inl range start end s =\n",
    "    inl start, end =\n",
    "        match start, end with\n",
    "        | Start start, End fn =>\n",
    "            start, s |> length |> conv |> fn\n",
    "        | End start_fn, End end_fn =>\n",
    "            inl len = s |> length |> conv\n",
    "            start_fn len, end_fn len\n",
    "    s |> slice (start |> unbox) (end |> unbox)"
   ]
  },
  {
   "cell_type": "markdown",
   "metadata": {},
   "source": [
    "## slice'"
   ]
  },
  {
   "cell_type": "code",
   "execution_count": null,
   "metadata": {
    "dotnet_interactive": {
     "language": "spiral"
    },
    "polyglot_notebook": {
     "kernelName": "spiral"
    }
   },
   "outputs": [
    {
     "name": "stdout",
     "output_type": "stream",
     "text": [
      "()\n",
      "\n"
     ]
    }
   ],
   "source": [
    "nominal slice' el dim = $\"Slice'<`el>\""
   ]
  },
  {
   "cell_type": "markdown",
   "metadata": {},
   "source": [
    "## slice_singleton"
   ]
  },
  {
   "cell_type": "code",
   "execution_count": null,
   "metadata": {
    "dotnet_interactive": {
     "language": "spiral"
    },
    "polyglot_notebook": {
     "kernelName": "spiral"
    }
   },
   "outputs": [
    {
     "name": "stdout",
     "output_type": "stream",
     "text": [
      "()\n",
      "\n"
     ]
    }
   ],
   "source": [
    "inl slice_singleton forall dim el. (x : option el) : slice' el dim =\n",
    "    match x with\n",
    "    | Some x => !\\($'\"[!x]\"')\n",
    "    | None =>\n",
    "        !\\($'\"[\\\\\\\"\\\\\\\".to_string()]\"') : slice' el dim\n",
    "            // emit_expr `(()) `(slice' el dim) () ($'\"[@dim]\"' : string) : slice' el 10\n",
    "            // !\\( : string) : slice' el i32 // !\\($'\"[]\"')"
   ]
  },
  {
   "cell_type": "markdown",
   "metadata": {},
   "source": [
    "## slice_length"
   ]
  },
  {
   "cell_type": "code",
   "execution_count": null,
   "metadata": {
    "dotnet_interactive": {
     "language": "spiral"
    },
    "polyglot_notebook": {
     "kernelName": "spiral"
    }
   },
   "outputs": [
    {
     "name": "stdout",
     "output_type": "stream",
     "text": [
      "()\n",
      "\n"
     ]
    }
   ],
   "source": [
    "inl slice_length forall t dim. (x : slice' t dim) : unativeint =\n",
    "    !\\($'\"!x.len()\"')"
   ]
  },
  {
   "cell_type": "markdown",
   "metadata": {},
   "source": [
    "## slice_range"
   ]
  },
  {
   "cell_type": "code",
   "execution_count": null,
   "metadata": {
    "dotnet_interactive": {
     "language": "spiral"
    },
    "polyglot_notebook": {
     "kernelName": "spiral"
    }
   },
   "outputs": [
    {
     "name": "stdout",
     "output_type": "stream",
     "text": [
      "()\n",
      "\n"
     ]
    }
   ],
   "source": [
    "inl slice_range forall t dim. (start : range t) (end : range t) (s : slice' t dim) : rust.ref' (slice' t dim) =\n",
    "    inl len = s |> slice_length\n",
    "    inl start, end =\n",
    "        match start, end with\n",
    "        | Start start, End fn => start, len |> convert |> fn |> unativeint\n",
    "        | End start_fn, End end_fn => len |> convert |> start_fn, len |> convert |> end_fn |> unativeint\n",
    "    match start, end with\n",
    "    | start, end when unbox end =. len => !\\($'\"&!s[!start..]\"')\n",
    "    | start, end => !\\\\((start, end), $'\"&!s[$0..$1]\"')"
   ]
  },
  {
   "cell_type": "markdown",
   "metadata": {},
   "source": [
    "## new_slice"
   ]
  },
  {
   "cell_type": "code",
   "execution_count": null,
   "metadata": {
    "dotnet_interactive": {
     "language": "spiral"
    },
    "polyglot_notebook": {
     "kernelName": "spiral"
    }
   },
   "outputs": [
    {
     "name": "stdout",
     "output_type": "stream",
     "text": [
      "()\n",
      "\n"
     ]
    }
   ],
   "source": [
    "inl new_slice forall el dim. (el : el) : slice' el dim =\n",
    "    !\\\\(el, $'\"[$0; @dim]\"')"
   ]
  },
  {
   "cell_type": "markdown",
   "metadata": {},
   "source": [
    "## as_slice"
   ]
  },
  {
   "cell_type": "code",
   "execution_count": null,
   "metadata": {
    "dotnet_interactive": {
     "language": "spiral"
    },
    "polyglot_notebook": {
     "kernelName": "spiral"
    }
   },
   "outputs": [
    {
     "name": "stdout",
     "output_type": "stream",
     "text": [
      "()\n",
      "\n"
     ]
    }
   ],
   "source": [
    "inl as_slice forall t. (x : array_base t) : rust.ref' (slice t) =\n",
    "    inl x = x |> to_vec\n",
    "    !\\($'\"!x.as_slice()\"')"
   ]
  },
  {
   "cell_type": "markdown",
   "metadata": {},
   "source": [
    "## slice_to_vec"
   ]
  },
  {
   "cell_type": "code",
   "execution_count": null,
   "metadata": {
    "dotnet_interactive": {
     "language": "spiral"
    },
    "polyglot_notebook": {
     "kernelName": "spiral"
    }
   },
   "outputs": [
    {
     "name": "stdout",
     "output_type": "stream",
     "text": [
      "()\n",
      "\n"
     ]
    }
   ],
   "source": [
    "inl slice_to_vec forall t. (slice : rust.ref' (slice t)) : vec t =\n",
    "    !\\\\(slice, $'\"$0.iter().map(|x| *x).collect()\"')"
   ]
  },
  {
   "cell_type": "markdown",
   "metadata": {},
   "source": [
    "## any"
   ]
  },
  {
   "cell_type": "code",
   "execution_count": null,
   "metadata": {
    "dotnet_interactive": {
     "language": "spiral"
    },
    "polyglot_notebook": {
     "kernelName": "spiral"
    }
   },
   "outputs": [
    {
     "name": "stdout",
     "output_type": "stream",
     "text": [
      "()\n",
      "\n"
     ]
    }
   ],
   "source": [
    "inl any forall t. (fn : t -> bool) (source : array_base t) : bool =\n",
    "    !\\($'\"!source.any(|x| !fn(x))\"')"
   ]
  },
  {
   "cell_type": "markdown",
   "metadata": {},
   "source": [
    "## iter_collect vec"
   ]
  },
  {
   "cell_type": "code",
   "execution_count": null,
   "metadata": {
    "dotnet_interactive": {
     "language": "spiral"
    },
    "polyglot_notebook": {
     "kernelName": "spiral"
    }
   },
   "outputs": [
    {
     "name": "stdout",
     "output_type": "stream",
     "text": [
      "()\n",
      "\n"
     ]
    }
   ],
   "source": [
    "open iter_prototypes\n",
    "\n",
    "instance iter_collect vec = fun (iter : iter_prototypes.into_iterator u) =>\n",
    "    !\\($'\"!iter.collect()\"')"
   ]
  },
  {
   "cell_type": "markdown",
   "metadata": {},
   "source": [
    "## enumerate"
   ]
  },
  {
   "cell_type": "code",
   "execution_count": null,
   "metadata": {
    "dotnet_interactive": {
     "language": "spiral"
    },
    "polyglot_notebook": {
     "kernelName": "spiral"
    }
   },
   "outputs": [
    {
     "name": "stdout",
     "output_type": "stream",
     "text": [
      "()\n",
      "\n"
     ]
    }
   ],
   "source": [
    "inl enumerate forall dim {int; number} t. (ar : a dim t) : a dim (unativeint * t) =\n",
    "    inl (a ar) = ar\n",
    "    ar\n",
    "    |> to_vec\n",
    "    |> iter.into_iter\n",
    "    |> iter.iter_enumerate\n",
    "    |> iter_prototypes.iter_collect\n",
    "    |> vec_map' from_pair\n",
    "    |> from_vec"
   ]
  },
  {
   "cell_type": "code",
   "execution_count": null,
   "metadata": {
    "dotnet_interactive": {
     "language": "spiral"
    },
    "polyglot_notebook": {
     "kernelName": "spiral"
    }
   },
   "outputs": [
    {
     "data": {
      "text/plain": [
       "assert_eq' / actual: Array(MutCell([(0, 0), (1, 1), (2, 2)])) / expected: Array(MutCell([(0, 0), (1, 1), (2, 2)]))\n"
      ]
     },
     "metadata": {},
     "output_type": "display_data"
    }
   ],
   "source": [
    "//// test\n",
    "//// print_code=false\n",
    "///! rust\n",
    "\n",
    "types ()\n",
    "init_series 0i32 2 1\n",
    "|> enumerate\n",
    "|> _assert_eq' (a ;[ unativeint 0i32, 0; unativeint 1i32, 1; unativeint 2i32, 2 ])"
   ]
  }
 ],
 "metadata": {},
 "nbformat": 4,
 "nbformat_minor": 5
}