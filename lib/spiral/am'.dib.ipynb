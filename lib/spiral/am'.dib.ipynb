{
 "cells": [
  {
   "cell_type": "markdown",
   "metadata": {},
   "source": [
    "# am'"
   ]
  },
  {
   "cell_type": "code",
   "execution_count": null,
   "metadata": {
    "dotnet_interactive": {
     "language": "spiral"
    },
    "polyglot_notebook": {
     "kernelName": "spiral"
    }
   },
   "outputs": [],
   "source": [
    "//// test\n",
    "\n",
    "open testing"
   ]
  },
  {
   "cell_type": "code",
   "execution_count": null,
   "metadata": {
    "dotnet_interactive": {
     "language": "spiral"
    },
    "polyglot_notebook": {
     "kernelName": "spiral"
    }
   },
   "outputs": [],
   "source": [
    "open rust\n",
    "open rust_operators"
   ]
  },
  {
   "cell_type": "markdown",
   "metadata": {},
   "source": [
    "## am'"
   ]
  },
  {
   "cell_type": "markdown",
   "metadata": {},
   "source": [
    "### length"
   ]
  },
  {
   "cell_type": "code",
   "execution_count": null,
   "metadata": {
    "dotnet_interactive": {
     "language": "spiral"
    },
    "polyglot_notebook": {
     "kernelName": "spiral"
    }
   },
   "outputs": [],
   "source": [
    "inl length forall dim {int} el. (a : a dim el) : dim =\n",
    "    a |> length"
   ]
  },
  {
   "cell_type": "markdown",
   "metadata": {},
   "source": [
    "### index"
   ]
  },
  {
   "cell_type": "code",
   "execution_count": null,
   "metadata": {
    "dotnet_interactive": {
     "language": "spiral"
    },
    "polyglot_notebook": {
     "kernelName": "spiral"
    }
   },
   "outputs": [],
   "source": [
    "inl index forall dim {int} el. (i : dim) (a : a dim el) : el =\n",
    "    backend_switch {\n",
    "        Fsharp = fun () => index a i\n",
    "        Python = fun () => $'!a[!i]' : el\n",
    "    }"
   ]
  },
  {
   "cell_type": "markdown",
   "metadata": {},
   "source": [
    "### index_base"
   ]
  },
  {
   "cell_type": "code",
   "execution_count": null,
   "metadata": {
    "dotnet_interactive": {
     "language": "spiral"
    },
    "polyglot_notebook": {
     "kernelName": "spiral"
    }
   },
   "outputs": [],
   "source": [
    "inl index_base forall el. (i : int) (ar : array_base el) : el =\n",
    "    ar |> a |> index i"
   ]
  },
  {
   "cell_type": "markdown",
   "metadata": {},
   "source": [
    "### base"
   ]
  },
  {
   "cell_type": "code",
   "execution_count": null,
   "metadata": {
    "dotnet_interactive": {
     "language": "spiral"
    },
    "polyglot_notebook": {
     "kernelName": "spiral"
    }
   },
   "outputs": [],
   "source": [
    "inl base forall dim {int} el. ((a a) : a dim el) : array_base el =\n",
    "    a"
   ]
  },
  {
   "cell_type": "markdown",
   "metadata": {},
   "source": [
    "### base'"
   ]
  },
  {
   "cell_type": "code",
   "execution_count": null,
   "metadata": {
    "dotnet_interactive": {
     "language": "spiral"
    },
    "polyglot_notebook": {
     "kernelName": "spiral"
    }
   },
   "outputs": [],
   "source": [
    "inl base' forall el. ((a a) : a int el) : array_base el =\n",
    "    a"
   ]
  },
  {
   "cell_type": "markdown",
   "metadata": {},
   "source": [
    "### generic_equable"
   ]
  },
  {
   "cell_type": "code",
   "execution_count": null,
   "metadata": {
    "dotnet_interactive": {
     "language": "spiral"
    },
    "polyglot_notebook": {
     "kernelName": "spiral"
    }
   },
   "outputs": [],
   "source": [
    "inl generic_equable x1 x2 =\n",
    "    if length x1 <>.. length x2\n",
    "    then false\n",
    "    else\n",
    "        let rec loop i =\n",
    "            if i < length x1\n",
    "            then index i x1 = index i x2 && loop (i + 1)\n",
    "            else true\n",
    "        loop 0"
   ]
  },
  {
   "cell_type": "markdown",
   "metadata": {},
   "source": [
    "### equable"
   ]
  },
  {
   "cell_type": "code",
   "execution_count": null,
   "metadata": {
    "dotnet_interactive": {
     "language": "spiral"
    },
    "polyglot_notebook": {
     "kernelName": "spiral"
    }
   },
   "outputs": [],
   "source": [
    "instance equable a dim {number; int} t = generic_equable"
   ]
  },
  {
   "cell_type": "markdown",
   "metadata": {},
   "source": [
    "### append"
   ]
  },
  {
   "cell_type": "code",
   "execution_count": null,
   "metadata": {
    "dotnet_interactive": {
     "language": "spiral"
    },
    "polyglot_notebook": {
     "kernelName": "spiral"
    }
   },
   "outputs": [],
   "source": [
    "instance append a dim {int; number} t = am.append"
   ]
  },
  {
   "cell_type": "code",
   "execution_count": null,
   "metadata": {
    "dotnet_interactive": {
     "language": "spiral"
    },
    "polyglot_notebook": {
     "kernelName": "spiral"
    }
   },
   "outputs": [
    {
     "data": {
      "text/plain": [
       ".py output (Cuda):\n",
       "__assert_eq / actual: [-1  0  1  2] / expected: [-1  0  1  2]\n",
       "\n",
       ".rs output:\n",
       "__assert_eq / actual: Array(MutCell([-1, 0, 1, 2])) / expected: Array(MutCell([-1, 0, 1, 2]))\n",
       "\n",
       ".ts output:\n",
       "__assert_eq / actual: -1,0,1,2 / expected: -1,0,1,2\n",
       "\n",
       ".py output:\n",
       "__assert_eq / actual: [-1, 0, 1, 2] / expected: array('q', [-1, 0, 1, 2])\n",
       "\n"
      ]
     },
     "metadata": {},
     "output_type": "display_data"
    },
    {
     "name": "stdout",
     "output_type": "stream",
     "text": [
      ".fsx output:\n",
      "__assert_eq / actual: [|-1L; 0L; 1L; 2L|] / expected: [|-1L; 0L; 1L; 2L|]\n"
     ]
    }
   ],
   "source": [
    "//// test\n",
    "///! fsharp\n",
    "///! cuda\n",
    "///! rust\n",
    "///! typescript\n",
    "///! python\n",
    "\n",
    "a' ;[ -1i64; 0 ] ++ a' ;[ 1; 2 ]\n",
    "|> _assert_eq (a' ;[ -1; 0; 1; 2 ])"
   ]
  },
  {
   "cell_type": "markdown",
   "metadata": {},
   "source": [
    "### map_base"
   ]
  },
  {
   "cell_type": "code",
   "execution_count": null,
   "metadata": {
    "dotnet_interactive": {
     "language": "spiral"
    },
    "polyglot_notebook": {
     "kernelName": "spiral"
    }
   },
   "outputs": [],
   "source": [
    "inl map_base forall t u. (fn : t -> u) (x : array_base t) : array_base u =\n",
    "    a x\n",
    "    |> am.map fn\n",
    "    |> fun (a x : _ int _) => x"
   ]
  },
  {
   "cell_type": "markdown",
   "metadata": {},
   "source": [
    "### collect"
   ]
  },
  {
   "cell_type": "code",
   "execution_count": null,
   "metadata": {
    "dotnet_interactive": {
     "language": "spiral"
    },
    "polyglot_notebook": {
     "kernelName": "spiral"
    }
   },
   "outputs": [],
   "source": [
    "inl collect forall t r. (fn : t -> a int r) (items : a int t) : a int r =\n",
    "    items\n",
    "    |> am.map fn\n",
    "    |> am.fold (++) (a ;[])"
   ]
  },
  {
   "cell_type": "markdown",
   "metadata": {},
   "source": [
    "### init"
   ]
  },
  {
   "cell_type": "code",
   "execution_count": null,
   "metadata": {
    "dotnet_interactive": {
     "language": "spiral"
    },
    "polyglot_notebook": {
     "kernelName": "spiral"
    }
   },
   "outputs": [],
   "source": [
    "inl init n : array_base _ =\n",
    "    am.init n id\n",
    "    |> fun (a x : _ int _) => x"
   ]
  },
  {
   "cell_type": "markdown",
   "metadata": {},
   "source": [
    "### choose"
   ]
  },
  {
   "cell_type": "code",
   "execution_count": null,
   "metadata": {
    "dotnet_interactive": {
     "language": "spiral"
    },
    "polyglot_notebook": {
     "kernelName": "spiral"
    }
   },
   "outputs": [],
   "source": [
    "inl choose f l =\n",
    "    (l, [])\n",
    "    ||> am.foldBack fun x acc =>\n",
    "        match f x with\n",
    "        | Some y => y :: acc\n",
    "        | None => acc\n",
    "    |> listm.toArray"
   ]
  },
  {
   "cell_type": "code",
   "execution_count": null,
   "metadata": {
    "dotnet_interactive": {
     "language": "spiral"
    },
    "polyglot_notebook": {
     "kernelName": "spiral"
    }
   },
   "outputs": [
    {
     "data": {
      "text/plain": [
       ".py output (Cuda):\n",
       "__assert_eq / actual: [0 2 4 6 8] / expected: [0 2 4 6 8]\n",
       "\n",
       ".ts output:\n",
       "__assert_eq / actual: 0,2,4,6,8 / expected: 0,2,4,6,8\n",
       "\n",
       ".py output:\n",
       "__assert_eq / actual: [0, 2, 4, 6, 8] / expected: array('l', [0, 2, 4, 6, 8])\n",
       "\n"
      ]
     },
     "metadata": {},
     "output_type": "display_data"
    },
    {
     "name": "stdout",
     "output_type": "stream",
     "text": [
      ".fsx output:\n",
      "__assert_eq / actual: [|0; 2; 4; 6; 8|] / expected: [|0; 2; 4; 6; 8|]\n"
     ]
    }
   ],
   "source": [
    "//// test\n",
    "///! fsharp\n",
    "///! cuda\n",
    "////! rust // v0.get_mut()[v2.get().clone() as usize] = match v1.get().clone().as_ref() { ^ expected `i32`, found `usize`\n",
    "///! typescript\n",
    "///! python\n",
    "\n",
    "10\n",
    "|> init\n",
    "|> fun x => a x : _ int _\n",
    "|> choose (fun x => if x % 2 = 0 then Some x else None)\n",
    "|> _assert_eq (a' ;[ 0; 2; 4; 6; 8 ])"
   ]
  },
  {
   "cell_type": "markdown",
   "metadata": {},
   "source": [
    "### sum"
   ]
  },
  {
   "cell_type": "code",
   "execution_count": null,
   "metadata": {
    "dotnet_interactive": {
     "language": "spiral"
    },
    "polyglot_notebook": {
     "kernelName": "spiral"
    }
   },
   "outputs": [],
   "source": [
    "inl sum a =\n",
    "    a |> am.fold (+) 0"
   ]
  },
  {
   "cell_type": "code",
   "execution_count": null,
   "metadata": {
    "dotnet_interactive": {
     "language": "spiral"
    },
    "polyglot_notebook": {
     "kernelName": "spiral"
    }
   },
   "outputs": [
    {
     "data": {
      "text/plain": [
       ".py output (Cuda):\n",
       "__assert_eq / actual: 45 / expected: 45\n",
       "\n",
       ".rs output:\n",
       "__assert_eq / actual: 45 / expected: 45\n",
       "\n",
       ".ts output:\n",
       "__assert_eq / actual: 45 / expected: 45\n",
       "\n",
       ".py output:\n",
       "__assert_eq / actual: 45 / expected: 45\n",
       "\n"
      ]
     },
     "metadata": {},
     "output_type": "display_data"
    },
    {
     "name": "stdout",
     "output_type": "stream",
     "text": [
      ".fsx output:\n",
      "__assert_eq / actual: 45 / expected: 45\n"
     ]
    }
   ],
   "source": [
    "//// test\n",
    "///! fsharp\n",
    "///! cuda\n",
    "///! rust\n",
    "///! typescript\n",
    "///! python\n",
    "\n",
    "10\n",
    "|> init\n",
    "|> fun x => a x : _ int _\n",
    "|> sum\n",
    "|> _assert_eq 45"
   ]
  },
  {
   "cell_type": "markdown",
   "metadata": {},
   "source": [
    "### init_series"
   ]
  },
  {
   "cell_type": "code",
   "execution_count": null,
   "metadata": {
    "dotnet_interactive": {
     "language": "spiral"
    },
    "polyglot_notebook": {
     "kernelName": "spiral"
    }
   },
   "outputs": [],
   "source": [
    "inl init_series start end inc : array_base _ =\n",
    "    inl total = conv ((end - start) / inc) + 1\n",
    "    am.init total (conv >> (*) inc >> (+) start)\n",
    "    |> fun (a x : _ int _) => x"
   ]
  },
  {
   "cell_type": "code",
   "execution_count": null,
   "metadata": {
    "dotnet_interactive": {
     "language": "spiral"
    },
    "polyglot_notebook": {
     "kernelName": "spiral"
    }
   },
   "outputs": [
    {
     "data": {
      "text/plain": [
       ".py output (Cuda):\n",
       "__assert_eq / actual: [0 2 4 6] / expected: [0 2 4 6]\n",
       "\n",
       ".rs output:\n",
       "__assert_eq / actual: Array(MutCell([0, 2, 4, 6])) / expected: Array(MutCell([0, 2, 4, 6]))\n",
       "\n",
       ".ts output:\n",
       "__assert_eq / actual: 0,2,4,6 / expected: 0,2,4,6\n",
       "\n",
       ".py output:\n",
       "__assert_eq / actual: [0, 2, 4, 6] / expected: array('l', [0, 2, 4, 6])\n",
       "\n"
      ]
     },
     "metadata": {},
     "output_type": "display_data"
    },
    {
     "name": "stdout",
     "output_type": "stream",
     "text": [
      ".fsx output:\n",
      "__assert_eq / actual: [|0; 2; 4; 6|] / expected: [|0; 2; 4; 6|]\n"
     ]
    }
   ],
   "source": [
    "//// test\n",
    "///! fsharp\n",
    "///! cuda\n",
    "///! rust\n",
    "///! typescript\n",
    "///! python\n",
    "\n",
    "init_series 0i32 6 2\n",
    "|> a\n",
    "|> fun x => x : _ int _\n",
    "|> _assert_eq (a ;[ 0i32; 2; 4; 6 ])"
   ]
  },
  {
   "cell_type": "markdown",
   "metadata": {},
   "source": [
    "### head"
   ]
  },
  {
   "cell_type": "code",
   "execution_count": null,
   "metadata": {
    "dotnet_interactive": {
     "language": "spiral"
    },
    "polyglot_notebook": {
     "kernelName": "spiral"
    }
   },
   "outputs": [],
   "source": [
    "inl head (ar : a _ _) =\n",
    "    if var_is ar || length ar > 0\n",
    "    then ar |> index 0\n",
    "    else error_type \"The length of the array should be greater than 0.\""
   ]
  },
  {
   "cell_type": "markdown",
   "metadata": {},
   "source": [
    "### last"
   ]
  },
  {
   "cell_type": "code",
   "execution_count": null,
   "metadata": {
    "dotnet_interactive": {
     "language": "spiral"
    },
    "polyglot_notebook": {
     "kernelName": "spiral"
    }
   },
   "outputs": [],
   "source": [
    "inl last (ar : a _ _) =\n",
    "    inl len = length ar\n",
    "    if var_is ar || len > 0\n",
    "    then ar |> index (len - 1)\n",
    "    else error_type \"The length of the array should be greater than 0.\""
   ]
  },
  {
   "cell_type": "code",
   "execution_count": null,
   "metadata": {
    "dotnet_interactive": {
     "language": "spiral"
    },
    "polyglot_notebook": {
     "kernelName": "spiral"
    }
   },
   "outputs": [
    {
     "data": {
      "text/plain": [
       ".py output (Cuda):\n",
       "__assert_eq / actual: 9 / expected: 9\n",
       "\n",
       ".rs output:\n",
       "__assert_eq / actual: 9 / expected: 9\n",
       "\n",
       ".ts output:\n",
       "__assert_eq / actual: 9 / expected: 9\n",
       "\n",
       ".py output:\n",
       "__assert_eq / actual: 9 / expected: 9\n",
       "\n"
      ]
     },
     "metadata": {},
     "output_type": "display_data"
    },
    {
     "name": "stdout",
     "output_type": "stream",
     "text": [
      ".fsx output:\n",
      "__assert_eq / actual: 9 / expected: 9\n"
     ]
    }
   ],
   "source": [
    "//// test\n",
    "///! fsharp\n",
    "///! cuda\n",
    "///! rust\n",
    "///! typescript\n",
    "///! python\n",
    "\n",
    "10\n",
    "|> init\n",
    "|> fun x => a x : _ int _\n",
    "|> last\n",
    "|> _assert_eq 9"
   ]
  },
  {
   "cell_type": "markdown",
   "metadata": {},
   "source": [
    "### try_pick"
   ]
  },
  {
   "cell_type": "code",
   "execution_count": null,
   "metadata": {
    "dotnet_interactive": {
     "language": "spiral"
    },
    "polyglot_notebook": {
     "kernelName": "spiral"
    }
   },
   "outputs": [],
   "source": [
    "inl try_pick forall t u. (fn : t -> option u) (array : a _ t) : option u =\n",
    "    (array, None)\n",
    "    ||> am.foldBack fun x acc =>\n",
    "        match acc with\n",
    "        | Some _ => acc\n",
    "        | None => x |> fn"
   ]
  },
  {
   "cell_type": "code",
   "execution_count": null,
   "metadata": {
    "dotnet_interactive": {
     "language": "spiral"
    },
    "polyglot_notebook": {
     "kernelName": "spiral"
    }
   },
   "outputs": [
    {
     "data": {
      "text/plain": [
       ".py output (Cuda):\n",
       "__assert_eq / actual: US0_0(v0=5) / expected: US0_0(v0=5)\n",
       "\n",
       ".ts output:\n",
       "__assert_eq / actual: US0_0 5 / expected: US0_0 5\n",
       "\n",
       ".py output:\n",
       "__assert_eq / actual: US0_0 5 / expected: US0_0 5\n",
       "\n"
      ]
     },
     "metadata": {},
     "output_type": "display_data"
    },
    {
     "name": "stdout",
     "output_type": "stream",
     "text": [
      ".fsx output:\n",
      "__assert_eq / actual: US0_0 5 / expected: US0_0 5\n"
     ]
    }
   ],
   "source": [
    "//// test\n",
    "///! fsharp\n",
    "///! cuda\n",
    "////! rust // match &v23 { Spiral_builder::US0::US0_0(x) => x.clone(), _ => unreachable!(), } == 5_i32\n",
    "///! typescript\n",
    "///! python\n",
    "\n",
    "10\n",
    "|> init\n",
    "|> fun x => a x : _ int _\n",
    "|> try_pick (fun x => if x = 5i32 then Some x else None)\n",
    "|> _assert_eq (Some 5i32)"
   ]
  },
  {
   "cell_type": "markdown",
   "metadata": {},
   "source": [
    "### indexed"
   ]
  },
  {
   "cell_type": "code",
   "execution_count": null,
   "metadata": {
    "dotnet_interactive": {
     "language": "spiral"
    },
    "polyglot_notebook": {
     "kernelName": "spiral"
    }
   },
   "outputs": [],
   "source": [
    "inl indexed forall t u {number}. (ar : array_base t) : array_base (u * t) =\n",
    "    ((0, a ;[]), (a ar : _ int _))\n",
    "    ||> am.fold fun (i, acc) x =>\n",
    "        i + 1, acc ++ a ;[i, x]\n",
    "    |> snd\n",
    "    |> fun (a x : _ int _) => x"
   ]
  },
  {
   "cell_type": "code",
   "execution_count": null,
   "metadata": {
    "dotnet_interactive": {
     "language": "spiral"
    },
    "polyglot_notebook": {
     "kernelName": "spiral"
    }
   },
   "outputs": [
    {
     "data": {
      "text/plain": [
       ".rs output:\n",
       "__assert_eq' / actual: Array(MutCell([(0, 0), (1, 2), (2, 4)])) / expected: Array(MutCell([(0, 0), (1, 2), (2, 4)]))\n",
       "\n",
       ".ts output:\n",
       "__assert_eq' / actual: 0,0,1,2,2,4 / expected: 0,0,1,2,2,4\n",
       "\n",
       ".py output:\n",
       "__assert_eq' / actual: [(0, 0), (1, 2), (2, 4)] / expected: [(0, 0), (1, 2), (2, 4)]\n",
       "\n"
      ]
     },
     "metadata": {},
     "output_type": "display_data"
    },
    {
     "name": "stdout",
     "output_type": "stream",
     "text": [
      ".fsx output:\n",
      "__assert_eq' / actual: [|struct (0, 0); struct (1, 2); struct (2, 4)|] / expected: [|struct (0, 0); struct (1, 2); struct (2, 4)|]\n"
     ]
    }
   ],
   "source": [
    "//// test\n",
    "///! fsharp\n",
    "////! cuda // Only stack allocated primitive types (i8,i16,i32,i64 and u8,u16,u32,u64 and f32,f64 and bool) are allowed in CuPy arrays.\n",
    "///! rust\n",
    "///! typescript\n",
    "///! python\n",
    "\n",
    "am.init 3i32 ((*) 2)\n",
    "|> fun (a x : _ int _) => x\n",
    "|> indexed\n",
    "|> _assert_eq' ;[0i32, 0; 1, 2; 2, 4]"
   ]
  },
  {
   "cell_type": "markdown",
   "metadata": {},
   "source": [
    "### slice"
   ]
  },
  {
   "cell_type": "code",
   "execution_count": null,
   "metadata": {
    "dotnet_interactive": {
     "language": "spiral"
    },
    "polyglot_notebook": {
     "kernelName": "spiral"
    }
   },
   "outputs": [],
   "source": [
    "inl slice forall dim {int; number} el. from nearTo s : a dim el =\n",
    "    am.slice { from nearTo } s"
   ]
  },
  {
   "cell_type": "code",
   "execution_count": null,
   "metadata": {
    "dotnet_interactive": {
     "language": "spiral"
    },
    "polyglot_notebook": {
     "kernelName": "spiral"
    }
   },
   "outputs": [
    {
     "data": {
      "text/plain": [
       "\n",
       ".py output (Cuda):\n",
       "__assert_eq / actual: [] / expected: []\n",
       "__assert_eq / actual: [1] / expected: [1]\n",
       "__assert_eq / actual: [] / expected: []\n",
       "__assert_eq / actual: [2] / expected: [2]\n",
       "__assert_eq / actual: [] / expected: []\n",
       "__assert_eq / actual: [1 2] / expected: [1 2]\n",
       "\n",
       "\n",
       ".rs output:\n",
       "__assert_eq / actual: Array(MutCell([])) / expected: Array(MutCell([]))\n",
       "__assert_eq / actual: Array(MutCell([1])) / expected: Array(MutCell([1]))\n",
       "__assert_eq / actual: Array(MutCell([])) / expected: Array(MutCell([]))\n",
       "__assert_eq / actual: Array(MutCell([2])) / expected: Array(MutCell([2]))\n",
       "__assert_eq / actual: Array(MutCell([])) / expected: Array(MutCell([]))\n",
       "__assert_eq / actual: Array(MutCell([1, 2])) / expected: Array(MutCell([1, 2]))\n",
       "\n",
       "\n",
       ".ts output:\n",
       "__assert_eq / actual:  / expected: \n",
       "__assert_eq / actual: 1 / expected: 1\n",
       "__assert_eq / actual:  / expected: \n",
       "__assert_eq / actual: 2 / expected: 2\n",
       "__assert_eq / actual:  / expected: \n",
       "__assert_eq / actual: 1,2 / expected: 1,2\n",
       "\n",
       "\n",
       ".py output:\n",
       "__assert_eq / actual: [] / expected: array('l')\n",
       "__assert_eq / actual: [1] / expected: array('l', [1])\n",
       "__assert_eq / actual: [] / expected: array('l')\n",
       "__assert_eq / actual: [2] / expected: array('l', [2])\n",
       "__assert_eq / actual: [] / expected: array('l')\n",
       "__assert_eq / actual: [1, 2] / expected: array('l', [1, 2])\n",
       "\n",
       "\n"
      ]
     },
     "metadata": {},
     "output_type": "display_data"
    },
    {
     "name": "stdout",
     "output_type": "stream",
     "text": [
      ".fsx output:\n",
      "__assert_eq / actual: [||] / expected: [||]\n",
      "__assert_eq / actual: [|1|] / expected: [|1|]\n",
      "__assert_eq / actual: [||] / expected: [||]\n",
      "__assert_eq / actual: [|2|] / expected: [|2|]\n",
      "__assert_eq / actual: [||] / expected: [||]\n",
      "__assert_eq / actual: [|1; 2|] / expected: [|1; 2|]\n"
     ]
    }
   ],
   "source": [
    "//// test\n",
    "///! fsharp\n",
    "///! cuda\n",
    "///! rust\n",
    "///! typescript\n",
    "///! python\n",
    "\n",
    "inl x : _ i32 _ = a ;[ 1i32; 2; 3 ]\n",
    "x |> slice 0 0 |> _assert_eq (a ;[])\n",
    "x |> slice 0 1 |> _assert_eq (a ;[ 1 ])\n",
    "x |> slice 1 1 |> _assert_eq (a ;[])\n",
    "x |> slice 1 2 |> _assert_eq (a ;[ 2 ])\n",
    "x |> slice 2 2 |> _assert_eq (a ;[])\n",
    "x |> slice 0 2 |> _assert_eq (a ;[ 1; 2 ])"
   ]
  },
  {
   "cell_type": "markdown",
   "metadata": {},
   "source": [
    "### range"
   ]
  },
  {
   "cell_type": "code",
   "execution_count": null,
   "metadata": {
    "dotnet_interactive": {
     "language": "spiral"
    },
    "polyglot_notebook": {
     "kernelName": "spiral"
    }
   },
   "outputs": [],
   "source": [
    "union range dim =\n",
    "    | Start : dim\n",
    "    | End : dim -> dim\n",
    "\n",
    "inl range start end s =\n",
    "    inl start, end =\n",
    "        match start, end with\n",
    "        | Start start, End fn =>\n",
    "            start, s |> length |> conv |> fn\n",
    "        | End start_fn, End end_fn =>\n",
    "            inl len = s |> length |> conv\n",
    "            start_fn len, end_fn len\n",
    "    s |> slice (start |> unbox) (end |> unbox)"
   ]
  },
  {
   "cell_type": "markdown",
   "metadata": {},
   "source": [
    "## rust"
   ]
  },
  {
   "cell_type": "markdown",
   "metadata": {},
   "source": [
    "### vec"
   ]
  },
  {
   "cell_type": "code",
   "execution_count": null,
   "metadata": {
    "dotnet_interactive": {
     "language": "spiral"
    },
    "polyglot_notebook": {
     "kernelName": "spiral"
    }
   },
   "outputs": [],
   "source": [
    "nominal vec t =\n",
    "    `(\n",
    "        backend_switch `(()) `({}) {\n",
    "            Fsharp =\n",
    "                (fun () =>\n",
    "                    global \"#if FABLE_COMPILER\\n[<Fable.Core.Erase; Fable.Core.Emit(\\\"Vec<$0>\\\")>]\\n#endif\\ntype Vec<'T> = class end\"\n",
    "                ) : () -> ()\n",
    "        }\n",
    "        $'' : $'Vec<`t>'\n",
    "    )"
   ]
  },
  {
   "cell_type": "markdown",
   "metadata": {},
   "source": [
    "### from_vec"
   ]
  },
  {
   "cell_type": "code",
   "execution_count": null,
   "metadata": {
    "dotnet_interactive": {
     "language": "spiral"
    },
    "polyglot_notebook": {
     "kernelName": "spiral"
    }
   },
   "outputs": [],
   "source": [
    "inl from_vec forall dim el. (vec : vec el) : a dim el =\n",
    "    !\\\\(vec, $'\"fable_library_rust::NativeArray_::array_from($0)\"')"
   ]
  },
  {
   "cell_type": "markdown",
   "metadata": {},
   "source": [
    "### from_vec_base"
   ]
  },
  {
   "cell_type": "code",
   "execution_count": null,
   "metadata": {
    "dotnet_interactive": {
     "language": "spiral"
    },
    "polyglot_notebook": {
     "kernelName": "spiral"
    }
   },
   "outputs": [],
   "source": [
    "inl from_vec_base forall el. (vec : vec el) : array_base el =\n",
    "    !\\\\(vec, $'\"fable_library_rust::NativeArray_::array_from($0)\"')"
   ]
  },
  {
   "cell_type": "markdown",
   "metadata": {},
   "source": [
    "### to_vec"
   ]
  },
  {
   "cell_type": "code",
   "execution_count": null,
   "metadata": {
    "dotnet_interactive": {
     "language": "spiral"
    },
    "polyglot_notebook": {
     "kernelName": "spiral"
    }
   },
   "outputs": [],
   "source": [
    "inl to_vec forall t. (ab : array_base t) : vec t =\n",
    "    !\\\\(ab, $'\"$0.to_vec()\"')"
   ]
  },
  {
   "cell_type": "markdown",
   "metadata": {},
   "source": [
    "### to_vec'"
   ]
  },
  {
   "cell_type": "code",
   "execution_count": null,
   "metadata": {
    "dotnet_interactive": {
     "language": "spiral"
    },
    "polyglot_notebook": {
     "kernelName": "spiral"
    }
   },
   "outputs": [],
   "source": [
    "inl to_vec' forall (t : * -> * -> *) u v. (x : t u v) : vec u =\n",
    "    !\\($'$\"!x.to_vec()\"')"
   ]
  },
  {
   "cell_type": "markdown",
   "metadata": {},
   "source": [
    "### to_vec''"
   ]
  },
  {
   "cell_type": "code",
   "execution_count": null,
   "metadata": {
    "dotnet_interactive": {
     "language": "spiral"
    },
    "polyglot_notebook": {
     "kernelName": "spiral"
    }
   },
   "outputs": [],
   "source": [
    "inl to_vec'' forall (t : * -> *) (u : * -> *) v. (x : t (u v)) : vec v =\n",
    "    !\\($'$\"!x.to_vec()\"')"
   ]
  },
  {
   "cell_type": "markdown",
   "metadata": {},
   "source": [
    "### to_vec'''"
   ]
  },
  {
   "cell_type": "code",
   "execution_count": null,
   "metadata": {
    "dotnet_interactive": {
     "language": "spiral"
    },
    "polyglot_notebook": {
     "kernelName": "spiral"
    }
   },
   "outputs": [],
   "source": [
    "inl to_vec''' forall t. (ab : array_base t) : vec t =\n",
    "    !\\\\(ab, $'\"to_vec($0)\"')"
   ]
  },
  {
   "cell_type": "markdown",
   "metadata": {},
   "source": [
    "### vec_push"
   ]
  },
  {
   "cell_type": "code",
   "execution_count": null,
   "metadata": {
    "dotnet_interactive": {
     "language": "spiral"
    },
    "polyglot_notebook": {
     "kernelName": "spiral"
    }
   },
   "outputs": [],
   "source": [
    "inl vec_push forall el. (el : el) (vec : vec el) : vec el =\n",
    "    inl el = join el\n",
    "    inl vec = join vec\n",
    "    (!\\($'\"true; let mut !vec = !vec\"') : bool) |> ignore\n",
    "    // inl vec = vec |> rust.to_mut\n",
    "    (!\\($'\"true; !vec.push(!el)\"') : bool) |> ignore\n",
    "    !\\($'\"!vec\"')"
   ]
  },
  {
   "cell_type": "markdown",
   "metadata": {},
   "source": [
    "### vec_reverse"
   ]
  },
  {
   "cell_type": "code",
   "execution_count": null,
   "metadata": {
    "dotnet_interactive": {
     "language": "spiral"
    },
    "polyglot_notebook": {
     "kernelName": "spiral"
    }
   },
   "outputs": [],
   "source": [
    "inl vec_reverse forall el. (vec : vec el) : vec el =\n",
    "    inl vec = join vec\n",
    "    (!\\($'\"true; let mut !vec = !vec\"') : bool) |> ignore\n",
    "    (!\\($'\"true; !vec.reverse()\"') : bool) |> ignore\n",
    "    !\\($'\"!vec\"')"
   ]
  },
  {
   "cell_type": "markdown",
   "metadata": {},
   "source": [
    "### vec_retain"
   ]
  },
  {
   "cell_type": "code",
   "execution_count": null,
   "metadata": {
    "dotnet_interactive": {
     "language": "spiral"
    },
    "polyglot_notebook": {
     "kernelName": "spiral"
    }
   },
   "outputs": [],
   "source": [
    "inl vec_retain forall el. (fn : el -> bool) (vec : vec el) : vec el =\n",
    "    inl vec = join vec\n",
    "    inl fn = join fn\n",
    "    (!\\($'\"true; let mut !vec = !vec\"') : bool) |> ignore\n",
    "    // inl vec = vec |> rust.to_mut\n",
    "    (!\\($'\"true; !vec.retain(|x| !fn(x.clone()))\"') : bool) |> ignore\n",
    "    !\\($'\"!vec\"')"
   ]
  },
  {
   "cell_type": "markdown",
   "metadata": {},
   "source": [
    "### vec_sort_by_key"
   ]
  },
  {
   "cell_type": "code",
   "execution_count": null,
   "metadata": {
    "dotnet_interactive": {
     "language": "spiral"
    },
    "polyglot_notebook": {
     "kernelName": "spiral"
    }
   },
   "outputs": [],
   "source": [
    "inl vec_sort_by_key forall el t. (fn : el -> t) (vec : vec el) : vec el =\n",
    "    inl vec = join vec\n",
    "    inl fn = join fn\n",
    "    (!\\($'\"true; let mut !vec = !vec\"') : bool) |> ignore\n",
    "    // inl vec = vec |> rust.to_mut\n",
    "    (!\\($'\"true; !vec.sort_by_key(|x| !fn(x.clone()))\"') : bool) |> ignore\n",
    "    !\\($'\"!vec\"')"
   ]
  },
  {
   "cell_type": "markdown",
   "metadata": {},
   "source": [
    "### vec_extend"
   ]
  },
  {
   "cell_type": "code",
   "execution_count": null,
   "metadata": {
    "dotnet_interactive": {
     "language": "spiral"
    },
    "polyglot_notebook": {
     "kernelName": "spiral"
    }
   },
   "outputs": [],
   "source": [
    "inl vec_extend forall el. (el : vec el) (vec : vec el) : vec el =\n",
    "    inl el = join el\n",
    "    inl vec = join vec\n",
    "    (!\\($'\"true; let mut !vec = !vec\"') : bool) |> ignore\n",
    "    // inl vec = vec |> rust.to_mut\n",
    "    (!\\($'\"true; !vec.extend(!el)\"') : bool) |> ignore\n",
    "    !\\($'\"!vec\"')"
   ]
  },
  {
   "cell_type": "markdown",
   "metadata": {},
   "source": [
    "### vec_collect"
   ]
  },
  {
   "cell_type": "code",
   "execution_count": null,
   "metadata": {
    "dotnet_interactive": {
     "language": "spiral"
    },
    "polyglot_notebook": {
     "kernelName": "spiral"
    }
   },
   "outputs": [],
   "source": [
    "inl vec_collect fn vec =\n",
    "    ((;[] |> to_vec), (vec |> from_vec : _ i32 _))\n",
    "    ||> am.fold fun acc x =>\n",
    "        acc |> vec_extend (fn x)"
   ]
  },
  {
   "cell_type": "markdown",
   "metadata": {},
   "source": [
    "### vec_collect_option"
   ]
  },
  {
   "cell_type": "code",
   "execution_count": null,
   "metadata": {
    "dotnet_interactive": {
     "language": "spiral"
    },
    "polyglot_notebook": {
     "kernelName": "spiral"
    }
   },
   "outputs": [],
   "source": [
    "inl vec_collect_option vec =\n",
    "    ((;[] |> to_vec |> Ok), (vec |> from_vec : _ i32 _))\n",
    "    ||> am.fold fun acc x =>\n",
    "        x\n",
    "        |> resultm.unbox\n",
    "        |> fun x =>\n",
    "            match acc, x |> resultm.map optionm'.unbox with\n",
    "            | Ok acc, Ok (Some x) => acc |> vec_extend x |> Ok\n",
    "            | _, Error error => error |> Error\n",
    "            | _ => acc"
   ]
  },
  {
   "cell_type": "markdown",
   "metadata": {},
   "source": [
    "### vec_collect_into"
   ]
  },
  {
   "cell_type": "code",
   "execution_count": null,
   "metadata": {
    "dotnet_interactive": {
     "language": "spiral"
    },
    "polyglot_notebook": {
     "kernelName": "spiral"
    }
   },
   "outputs": [],
   "source": [
    "inl vec_collect_into forall (c : * -> * -> *) t e.\n",
    "    (x : vec (c t e))\n",
    "    : c (vec t) e\n",
    "    =\n",
    "    !\\($'\"!x.into_iter().collect()\"')"
   ]
  },
  {
   "cell_type": "markdown",
   "metadata": {},
   "source": [
    "### vec_mapi"
   ]
  },
  {
   "cell_type": "code",
   "execution_count": null,
   "metadata": {
    "dotnet_interactive": {
     "language": "spiral"
    },
    "polyglot_notebook": {
     "kernelName": "spiral"
    }
   },
   "outputs": [],
   "source": [
    "inl vec_mapi forall dim t u. (fn : dim -> t -> u) (ar : vec t) : vec u =\n",
    "    inl fn = join fn\n",
    "    inl ar = join ar\n",
    "    !\\($'\"!ar.iter().enumerate().map(|(i, x)| !fn(i.try_into().unwrap())(x.clone())).collect::<Vec<_>>()\"')"
   ]
  },
  {
   "cell_type": "markdown",
   "metadata": {},
   "source": [
    "### vec_map"
   ]
  },
  {
   "cell_type": "code",
   "execution_count": null,
   "metadata": {
    "dotnet_interactive": {
     "language": "spiral"
    },
    "polyglot_notebook": {
     "kernelName": "spiral"
    }
   },
   "outputs": [],
   "source": [
    "inl vec_map forall t u. (fn : t -> u) (ar : vec t) : vec u =\n",
    "    (!\\\\(ar, $'\"true; let _vec_map : Vec<_> = $0.into_iter().map(|x| { //\"') : bool) |> ignore\n",
    "    inl result = fn !\\($'\"x\"')\n",
    "    inl is_unit =\n",
    "        real\n",
    "            typecase u with\n",
    "            | () => true\n",
    "            | _ => false\n",
    "    if is_unit\n",
    "    then (!\\($'\"true; }}).collect::<Vec<_>>()\"') : bool) |> ignore\n",
    "    else (!\\\\(result, $'\"true; $0 }).collect::<Vec<_>>()\"') : bool) |> ignore\n",
    "    !\\($'\"_vec_map\"')"
   ]
  },
  {
   "cell_type": "markdown",
   "metadata": {},
   "source": [
    "### vec_map'"
   ]
  },
  {
   "cell_type": "code",
   "execution_count": null,
   "metadata": {
    "dotnet_interactive": {
     "language": "spiral"
    },
    "polyglot_notebook": {
     "kernelName": "spiral"
    }
   },
   "outputs": [],
   "source": [
    "inl vec_map' forall t u. (fn : t -> u) (ar : vec t) : vec u =\n",
    "    !\\\\((ar, fn), $'\"$0.into_iter().map(|x| $1(x.clone())).collect::<Vec<_>>()\"')"
   ]
  },
  {
   "cell_type": "markdown",
   "metadata": {},
   "source": [
    "### vec_fold'"
   ]
  },
  {
   "cell_type": "code",
   "execution_count": null,
   "metadata": {
    "dotnet_interactive": {
     "language": "spiral"
    },
    "polyglot_notebook": {
     "kernelName": "spiral"
    }
   },
   "outputs": [],
   "source": [
    "inl vec_fold' forall t u. (fn : u -> t -> u) (init : u) (ar : vec t) : u =\n",
    "    (!\\\\(ar, $'\"true; let _vec_fold_ = $0.into_iter().fold(!init, |acc, x| { //\"') : bool) |> ignore\n",
    "    (!\\\\(fn !\\($'\"acc\"') !\\($'\"x\"'), $'\"true; $0 })\"') : bool) |> ignore\n",
    "    !\\($'\"_vec_fold_\"')"
   ]
  },
  {
   "cell_type": "markdown",
   "metadata": {},
   "source": [
    "### vec_for_each"
   ]
  },
  {
   "cell_type": "code",
   "execution_count": null,
   "metadata": {
    "dotnet_interactive": {
     "language": "spiral"
    },
    "polyglot_notebook": {
     "kernelName": "spiral"
    }
   },
   "outputs": [],
   "source": [
    "inl vec_for_each forall t. (fn : t -> ()) (ar : vec t) : () =\n",
    "    (!\\\\((ar, fn), $'\"true; $0.iter().for_each(|x| { $1(x.clone()); }); //\"') : bool) |> ignore"
   ]
  },
  {
   "cell_type": "markdown",
   "metadata": {},
   "source": [
    "### vec_for_each'"
   ]
  },
  {
   "cell_type": "code",
   "execution_count": null,
   "metadata": {
    "dotnet_interactive": {
     "language": "spiral"
    },
    "polyglot_notebook": {
     "kernelName": "spiral"
    }
   },
   "outputs": [],
   "source": [
    "inl vec_for_each' forall t. (fn : t -> ()) (ar : vec t) : () =\n",
    "    (!\\\\(ar, $'\"true; $0.into_iter().for_each(|x| { //\"') : bool) |> ignore\n",
    "    (!\\\\(fn !\\($'\"x\"'), $'$\"true\"') : bool) |> ignore\n",
    "    (!\\($'\"true; }}); { //\"') : bool) |> ignore"
   ]
  },
  {
   "cell_type": "markdown",
   "metadata": {},
   "source": [
    "### vec_for_each''"
   ]
  },
  {
   "cell_type": "code",
   "execution_count": null,
   "metadata": {
    "dotnet_interactive": {
     "language": "spiral"
    },
    "polyglot_notebook": {
     "kernelName": "spiral"
    }
   },
   "outputs": [],
   "source": [
    "inl vec_for_each'' forall t. (fn : t -> ()) (ar : vec t) : () =\n",
    "    (!\\\\(ar, $'\"true; $0.into_iter().for_each(|x| { //\"') : bool) |> ignore\n",
    "    (!\\\\(fn !\\($'\"x\"'), $'$\"true\"') : bool) |> ignore\n",
    "    (!\\($'\"true; }}); //\"') : bool) |> ignore"
   ]
  },
  {
   "cell_type": "markdown",
   "metadata": {},
   "source": [
    "### vec_for_each'''"
   ]
  },
  {
   "cell_type": "code",
   "execution_count": null,
   "metadata": {
    "dotnet_interactive": {
     "language": "spiral"
    },
    "polyglot_notebook": {
     "kernelName": "spiral"
    }
   },
   "outputs": [],
   "source": [
    "inl vec_for_each''' forall t. (fn : t -> ()) (ar : vec t) : () =\n",
    "    (!\\\\(ar, $'\"true; $0.into_iter().for_each(|x| { //\"') : bool) |> ignore\n",
    "    (!\\\\(fn !\\($'\"x\"'), $'$\"true\"') : bool) |> ignore\n",
    "    (!\\($'\"true; }); //\"') : bool) |> ignore"
   ]
  },
  {
   "cell_type": "markdown",
   "metadata": {},
   "source": [
    "### vec_filter"
   ]
  },
  {
   "cell_type": "code",
   "execution_count": null,
   "metadata": {
    "dotnet_interactive": {
     "language": "spiral"
    },
    "polyglot_notebook": {
     "kernelName": "spiral"
    }
   },
   "outputs": [],
   "source": [
    "inl vec_filter forall t. (fn : t -> bool) (ar : vec t) : vec t =\n",
    "    inl fn = join fn\n",
    "    inl ar = join ar\n",
    "    !\\($'\"!ar.into_iter().filter(|x| !fn(x.clone().clone())).collect::<Vec<_>>()\"')"
   ]
  },
  {
   "cell_type": "markdown",
   "metadata": {},
   "source": [
    "### vec_len"
   ]
  },
  {
   "cell_type": "code",
   "execution_count": null,
   "metadata": {
    "dotnet_interactive": {
     "language": "spiral"
    },
    "polyglot_notebook": {
     "kernelName": "spiral"
    }
   },
   "outputs": [],
   "source": [
    "inl vec_len forall t. (vec : vec t) : unativeint =\n",
    "    !\\\\(vec, $'\"$0.len()\"')"
   ]
  },
  {
   "cell_type": "markdown",
   "metadata": {},
   "source": [
    "### vec_chunks"
   ]
  },
  {
   "cell_type": "code",
   "execution_count": null,
   "metadata": {
    "dotnet_interactive": {
     "language": "spiral"
    },
    "polyglot_notebook": {
     "kernelName": "spiral"
    }
   },
   "outputs": [],
   "source": [
    "inl vec_chunks forall t. (n : i32) (vec : vec t) : vec (vec t) =\n",
    "    !\\\\(vec, $'\"$0.chunks(!n).map(|x| x.into_iter().map(|x| x.clone()).collect::<Vec<_>>()).collect::<Vec<_>>()\"')"
   ]
  },
  {
   "cell_type": "markdown",
   "metadata": {},
   "source": [
    "### slice"
   ]
  },
  {
   "cell_type": "code",
   "execution_count": null,
   "metadata": {
    "dotnet_interactive": {
     "language": "spiral"
    },
    "polyglot_notebook": {
     "kernelName": "spiral"
    }
   },
   "outputs": [],
   "source": [
    "nominal slice t =\n",
    "    `(\n",
    "        global \"#if FABLE_COMPILER\\n[<Fable.Core.Erase; Fable.Core.Emit(\\\"[$0]\\\")>]\\n#endif\\ntype Slice<'T> = class end\"\n",
    "        $'' : $'Slice<`t>'\n",
    "    )"
   ]
  },
  {
   "cell_type": "markdown",
   "metadata": {},
   "source": [
    "### slice'"
   ]
  },
  {
   "cell_type": "code",
   "execution_count": null,
   "metadata": {
    "dotnet_interactive": {
     "language": "spiral"
    },
    "polyglot_notebook": {
     "kernelName": "spiral"
    }
   },
   "outputs": [],
   "source": [
    "nominal slice' el dim =\n",
    "    `(\n",
    "        backend_switch `(()) `({}) {\n",
    "            Fsharp =\n",
    "                (fun () =>\n",
    "                    global \"#if FABLE_COMPILER\\n[<Fable.Core.Erase; Fable.Core.Emit(\\\"_\\\")>]\\n#endif\\ntype Slice'<'T> = class end\"\n",
    "                ) : () -> ()\n",
    "        }\n",
    "        $'' : $'Slice\\'<`el>'\n",
    "    )"
   ]
  },
  {
   "cell_type": "markdown",
   "metadata": {},
   "source": [
    "### slice''"
   ]
  },
  {
   "cell_type": "code",
   "execution_count": null,
   "metadata": {
    "dotnet_interactive": {
     "language": "spiral"
    },
    "polyglot_notebook": {
     "kernelName": "spiral"
    }
   },
   "outputs": [],
   "source": [
    "nominal slice'' el dim =\n",
    "    `(\n",
    "        backend_switch `(()) `({}) {\n",
    "            Fsharp =\n",
    "                (fun () =>\n",
    "                    global \"#if FABLE_COMPILER\\n[<Fable.Core.Erase; Fable.Core.Emit(\\\"[$0; 10]\\\")>]\\n#endif\\ntype Slice'_<'T> = class end\"\n",
    "                ) : () -> ()\n",
    "        }\n",
    "        $'' : $'Slice\\'_<`el>'\n",
    "    )"
   ]
  },
  {
   "cell_type": "markdown",
   "metadata": {},
   "source": [
    "### slice_singleton"
   ]
  },
  {
   "cell_type": "code",
   "execution_count": null,
   "metadata": {
    "dotnet_interactive": {
     "language": "spiral"
    },
    "polyglot_notebook": {
     "kernelName": "spiral"
    }
   },
   "outputs": [],
   "source": [
    "inl slice_singleton forall dim el. (x : option el) : slice' el dim =\n",
    "    match x with\n",
    "    | Some x => !\\($'\"[!x]\"')\n",
    "    | None =>\n",
    "        !\\($'\"[\\\\\\\"\\\\\\\".to_string()]\"') : slice' el dim\n",
    "            // emit_expr `(()) `(slice' el dim) () ($'\"[@dim]\"' : string) : slice' el 10\n",
    "            // !\\( : string) : slice' el i32 // !\\($'\"[]\"')"
   ]
  },
  {
   "cell_type": "markdown",
   "metadata": {},
   "source": [
    "### slice_length"
   ]
  },
  {
   "cell_type": "code",
   "execution_count": null,
   "metadata": {
    "dotnet_interactive": {
     "language": "spiral"
    },
    "polyglot_notebook": {
     "kernelName": "spiral"
    }
   },
   "outputs": [],
   "source": [
    "inl slice_length forall t dim. (x : slice' t dim) : unativeint =\n",
    "    !\\($'\"!x.len()\"')"
   ]
  },
  {
   "cell_type": "markdown",
   "metadata": {},
   "source": [
    "### slice_range"
   ]
  },
  {
   "cell_type": "code",
   "execution_count": null,
   "metadata": {
    "dotnet_interactive": {
     "language": "spiral"
    },
    "polyglot_notebook": {
     "kernelName": "spiral"
    }
   },
   "outputs": [],
   "source": [
    "inl slice_range forall t dim. (start : range t) (end : range t) (s : slice' t dim) : rust.ref (slice' t dim) =\n",
    "    inl len = s |> slice_length\n",
    "    inl start, (end : unativeint) =\n",
    "        match start, end with\n",
    "        | Start start, End fn => start, len |> convert |> fn |> convert\n",
    "        | End start_fn, End end_fn => len |> convert |> start_fn, len |> convert |> end_fn |> convert\n",
    "    match start, end with\n",
    "    | start, end when unbox end =. len => !\\($'\"&!s[!start..]\"')\n",
    "    | start, end => !\\\\((start, end), $'\"&!s[$0..$1]\"')"
   ]
  },
  {
   "cell_type": "markdown",
   "metadata": {},
   "source": [
    "### new_slice"
   ]
  },
  {
   "cell_type": "code",
   "execution_count": null,
   "metadata": {
    "dotnet_interactive": {
     "language": "spiral"
    },
    "polyglot_notebook": {
     "kernelName": "spiral"
    }
   },
   "outputs": [],
   "source": [
    "inl new_slice forall el dim. (el : el) : slice' el dim =\n",
    "    !\\\\(el, $'\"[$0; @dim]\"')"
   ]
  },
  {
   "cell_type": "markdown",
   "metadata": {},
   "source": [
    "### as_slice"
   ]
  },
  {
   "cell_type": "code",
   "execution_count": null,
   "metadata": {
    "dotnet_interactive": {
     "language": "spiral"
    },
    "polyglot_notebook": {
     "kernelName": "spiral"
    }
   },
   "outputs": [],
   "source": [
    "inl as_slice forall t. (x : array_base t) : rust.ref (slice t) =\n",
    "    inl x = x |> to_vec\n",
    "    !\\($'\"!x.as_slice()\"')"
   ]
  },
  {
   "cell_type": "markdown",
   "metadata": {},
   "source": [
    "### slice_to_vec"
   ]
  },
  {
   "cell_type": "code",
   "execution_count": null,
   "metadata": {
    "dotnet_interactive": {
     "language": "spiral"
    },
    "polyglot_notebook": {
     "kernelName": "spiral"
    }
   },
   "outputs": [],
   "source": [
    "inl slice_to_vec forall t. (slice : rust.ref (slice t)) : vec t =\n",
    "    !\\\\(slice, $'\"$0.iter().map(|x| *x).collect::<Vec<_>>()\"')"
   ]
  },
  {
   "cell_type": "markdown",
   "metadata": {},
   "source": [
    "### to_le_bytes"
   ]
  },
  {
   "cell_type": "code",
   "execution_count": null,
   "metadata": {
    "dotnet_interactive": {
     "language": "spiral"
    },
    "polyglot_notebook": {
     "kernelName": "spiral"
    }
   },
   "outputs": [],
   "source": [
    "inl to_le_bytes forall t. (x : t) : slice' u8 8 =\n",
    "    !\\($'$\"!x.to_le_bytes()\"')"
   ]
  },
  {
   "cell_type": "markdown",
   "metadata": {},
   "source": [
    "### as_bytes"
   ]
  },
  {
   "cell_type": "code",
   "execution_count": null,
   "metadata": {
    "dotnet_interactive": {
     "language": "spiral"
    },
    "polyglot_notebook": {
     "kernelName": "spiral"
    }
   },
   "outputs": [],
   "source": [
    "inl as_bytes forall t. (x : t) : rust.ref (slice u8) =\n",
    "    !\\($'$\"!x.as_bytes()\"')"
   ]
  },
  {
   "cell_type": "markdown",
   "metadata": {},
   "source": [
    "### any"
   ]
  },
  {
   "cell_type": "code",
   "execution_count": null,
   "metadata": {
    "dotnet_interactive": {
     "language": "spiral"
    },
    "polyglot_notebook": {
     "kernelName": "spiral"
    }
   },
   "outputs": [],
   "source": [
    "inl any forall t. (fn : t -> bool) (source : array_base t) : bool =\n",
    "    !\\($'\"!source.any(|x| !fn(x))\"')"
   ]
  },
  {
   "cell_type": "markdown",
   "metadata": {},
   "source": [
    "### iter_collect vec"
   ]
  },
  {
   "cell_type": "code",
   "execution_count": null,
   "metadata": {
    "dotnet_interactive": {
     "language": "spiral"
    },
    "polyglot_notebook": {
     "kernelName": "spiral"
    }
   },
   "outputs": [],
   "source": [
    "instance iter_collect vec = fun (iter : into_iterator u) =>\n",
    "    !\\\\(iter, $'\"$0.collect::<Vec<_>>()\"')\n",
    "\n",
    "instance iter_collect'' vec = fun (iter : into_iterator (t (u v))) =>\n",
    "    !\\\\(iter, $'\"$0.collect::<Vec<_>>()\"')"
   ]
  },
  {
   "cell_type": "markdown",
   "metadata": {},
   "source": [
    "### new_vec"
   ]
  },
  {
   "cell_type": "code",
   "execution_count": null,
   "metadata": {
    "dotnet_interactive": {
     "language": "spiral"
    },
    "polyglot_notebook": {
     "kernelName": "spiral"
    }
   },
   "outputs": [],
   "source": [
    "inl new_vec forall t. (items : list t) : vec t =\n",
    "    inl items =\n",
    "        (items, (\"\", 0i32))\n",
    "        ||> listm.foldBack fun (x : t) (acc, i) =>\n",
    "            inl x = join x\n",
    "            $'\"!x\"' +. (if i = 0 then \"\" else \", \") +. acc, i + 1\n",
    "        |> fst\n",
    "    !\\($'\"vec\\![\" + !items + \"]\"')"
   ]
  },
  {
   "cell_type": "code",
   "execution_count": null,
   "metadata": {
    "dotnet_interactive": {
     "language": "spiral"
    },
    "polyglot_notebook": {
     "kernelName": "spiral"
    }
   },
   "outputs": [
    {
     "data": {
      "text/plain": [
       "__assert_eq / actual: \"[0, 1]\" / expected: \"[0, 1]\"\n"
      ]
     },
     "metadata": {},
     "output_type": "display_data"
    }
   ],
   "source": [
    "//// test\n",
    "///! rust\n",
    "\n",
    "[ 0i32; 1 ]\n",
    "|> new_vec\n",
    "|> sm'.format_debug'\n",
    "|> sm'.from_std_string\n",
    "|> _assert_eq \"[0, 1]\""
   ]
  },
  {
   "cell_type": "markdown",
   "metadata": {},
   "source": [
    "## fsharp"
   ]
  },
  {
   "cell_type": "markdown",
   "metadata": {},
   "source": [
    "### average"
   ]
  },
  {
   "cell_type": "code",
   "execution_count": null,
   "metadata": {
    "dotnet_interactive": {
     "language": "spiral"
    },
    "polyglot_notebook": {
     "kernelName": "spiral"
    }
   },
   "outputs": [],
   "source": [
    "inl average forall el {number}. (a : a _ el) : el =\n",
    "    $'!a |> Array.average'"
   ]
  },
  {
   "cell_type": "markdown",
   "metadata": {},
   "source": [
    "### distinct"
   ]
  },
  {
   "cell_type": "code",
   "execution_count": null,
   "metadata": {
    "dotnet_interactive": {
     "language": "spiral"
    },
    "polyglot_notebook": {
     "kernelName": "spiral"
    }
   },
   "outputs": [],
   "source": [
    "inl distinct forall dim el. (a : a dim el) : a dim el =\n",
    "    $'!a |> Array.distinct'"
   ]
  },
  {
   "cell_type": "markdown",
   "metadata": {},
   "source": [
    "### skip"
   ]
  },
  {
   "cell_type": "code",
   "execution_count": null,
   "metadata": {
    "dotnet_interactive": {
     "language": "spiral"
    },
    "polyglot_notebook": {
     "kernelName": "spiral"
    }
   },
   "outputs": [],
   "source": [
    "inl skip forall dim el. (n : dim) (a : a dim el) : a dim el =\n",
    "    $'!a |> Array.skip !n '"
   ]
  },
  {
   "cell_type": "markdown",
   "metadata": {},
   "source": [
    "### skip_while"
   ]
  },
  {
   "cell_type": "code",
   "execution_count": null,
   "metadata": {
    "dotnet_interactive": {
     "language": "spiral"
    },
    "polyglot_notebook": {
     "kernelName": "spiral"
    }
   },
   "outputs": [],
   "source": [
    "inl skip_while forall dim el. (fn : el -> bool) (a : a dim el) : a dim el =\n",
    "    $'!a |> Array.skipWhile !fn '"
   ]
  },
  {
   "cell_type": "markdown",
   "metadata": {},
   "source": [
    "### to_list_base'"
   ]
  },
  {
   "cell_type": "code",
   "execution_count": null,
   "metadata": {
    "dotnet_interactive": {
     "language": "spiral"
    },
    "polyglot_notebook": {
     "kernelName": "spiral"
    }
   },
   "outputs": [],
   "source": [
    "inl to_list_base' forall t. (items : array_base t) : listm'.list' t =\n",
    "    backend_switch {\n",
    "        Fsharp = fun () => $'!items |> Array.toList' : listm'.list' t\n",
    "        Python = fun () => items |> to : listm'.list' t\n",
    "    }"
   ]
  },
  {
   "cell_type": "markdown",
   "metadata": {},
   "source": [
    "### to_list'"
   ]
  },
  {
   "cell_type": "code",
   "execution_count": null,
   "metadata": {
    "dotnet_interactive": {
     "language": "spiral"
    },
    "polyglot_notebook": {
     "kernelName": "spiral"
    }
   },
   "outputs": [],
   "source": [
    "inl to_list' forall dim {int} t. (items : a dim t) : listm'.list' t =\n",
    "    items |> base |> to_list_base'"
   ]
  },
  {
   "cell_type": "code",
   "execution_count": null,
   "metadata": {
    "dotnet_interactive": {
     "language": "spiral"
    },
    "polyglot_notebook": {
     "kernelName": "spiral"
    }
   },
   "outputs": [
    {
     "data": {
      "text/plain": [
       ".py output (Cuda):\n",
       "__assert_eq / actual: UH0_1(v0=np.int32(-3), v1=UH0_1(v0=np.int32(6), v1=UH0_0())) / expected: UH0_1(v0=-3, v1=UH0_1(v0=6, v1=UH0_0()))\n",
       "\n",
       ".rs output:\n",
       "__assert_eq / actual: UH0_1(-3, UH0_1(6, UH0_0)) / expected: UH0_1(-3, UH0_1(6, UH0_0))\n",
       "\n",
       ".ts output:\n",
       "__assert_eq / actual: UH0_1 (-3, UH0_1 (6, UH0_0)) / expected: UH0_1 (-3, UH0_1 (6, UH0_0))\n",
       "\n",
       ".py output:\n",
       "__assert_eq / actual: UH0_1 (-3, UH0_1 (6, UH0_0)) / expected: UH0_1 (-3, UH0_1 (6, UH0_0))\n",
       "\n"
      ]
     },
     "metadata": {},
     "output_type": "display_data"
    },
    {
     "name": "stdout",
     "output_type": "stream",
     "text": [
      ".fsx output:\n",
      "__assert_eq / actual: UH0_1 (-3, UH0_1 (6, UH0_0)) / expected: UH0_1 (-3, UH0_1 (6, UH0_0))\n"
     ]
    }
   ],
   "source": [
    "//// test\n",
    "///! fsharp\n",
    "///! cuda\n",
    "///! rust\n",
    "///! typescript\n",
    "///! python\n",
    "\n",
    "a' ;[ -3i32; 6 ]\n",
    "|> to_list'\n",
    "|> listm'.unbox\n",
    "|> _assert_eq [ -3; 6 ]"
   ]
  },
  {
   "cell_type": "markdown",
   "metadata": {},
   "source": [
    "### parallel_map"
   ]
  },
  {
   "cell_type": "code",
   "execution_count": null,
   "metadata": {
    "dotnet_interactive": {
     "language": "spiral"
    },
    "polyglot_notebook": {
     "kernelName": "spiral"
    }
   },
   "outputs": [],
   "source": [
    "inl parallel_map forall dim el el'. (fn : el -> el') (a : a dim el) : a dim el' =\n",
    "    $'!a |> Array.Parallel.map !fn '"
   ]
  },
  {
   "cell_type": "markdown",
   "metadata": {},
   "source": [
    "### map'"
   ]
  },
  {
   "cell_type": "code",
   "execution_count": null,
   "metadata": {
    "dotnet_interactive": {
     "language": "spiral"
    },
    "polyglot_notebook": {
     "kernelName": "spiral"
    }
   },
   "outputs": [],
   "source": [
    "inl map' forall dim el el'. (fn : el -> el') (a : a dim el) : a dim el' =\n",
    "    $'!a |> Array.map !fn '"
   ]
  },
  {
   "cell_type": "markdown",
   "metadata": {},
   "source": [
    "### sort_by"
   ]
  },
  {
   "cell_type": "code",
   "execution_count": null,
   "metadata": {
    "dotnet_interactive": {
     "language": "spiral"
    },
    "polyglot_notebook": {
     "kernelName": "spiral"
    }
   },
   "outputs": [],
   "source": [
    "inl sort_by forall dim el. (fn : el -> _) (a : a dim el) : a dim el =\n",
    "    $'!a |> Array.sortBy !fn '"
   ]
  },
  {
   "cell_type": "markdown",
   "metadata": {},
   "source": [
    "### sort"
   ]
  },
  {
   "cell_type": "code",
   "execution_count": null,
   "metadata": {
    "dotnet_interactive": {
     "language": "spiral"
    },
    "polyglot_notebook": {
     "kernelName": "spiral"
    }
   },
   "outputs": [],
   "source": [
    "inl sort forall dim el. (a : a dim el) : a dim el =\n",
    "    $'!a |> Array.sort'"
   ]
  },
  {
   "cell_type": "markdown",
   "metadata": {},
   "source": [
    "### sort_descending"
   ]
  },
  {
   "cell_type": "code",
   "execution_count": null,
   "metadata": {
    "dotnet_interactive": {
     "language": "spiral"
    },
    "polyglot_notebook": {
     "kernelName": "spiral"
    }
   },
   "outputs": [],
   "source": [
    "inl sort_descending forall dim el. (a : a dim el) : a dim el =\n",
    "    $'!a |> Array.sortDescending'"
   ]
  },
  {
   "cell_type": "markdown",
   "metadata": {},
   "source": [
    "### transpose"
   ]
  },
  {
   "cell_type": "code",
   "execution_count": null,
   "metadata": {
    "dotnet_interactive": {
     "language": "spiral"
    },
    "polyglot_notebook": {
     "kernelName": "spiral"
    }
   },
   "outputs": [],
   "source": [
    "inl transpose forall el. (a : array_base (array_base el)) : array_base (array_base el) =\n",
    "    $'!a |> Array.transpose'"
   ]
  },
  {
   "cell_type": "markdown",
   "metadata": {},
   "source": [
    "### try_item"
   ]
  },
  {
   "cell_type": "code",
   "execution_count": null,
   "metadata": {
    "dotnet_interactive": {
     "language": "spiral"
    },
    "polyglot_notebook": {
     "kernelName": "spiral"
    }
   },
   "outputs": [],
   "source": [
    "inl try_item forall dim el. (i : i32) (a : a dim el) : option el =\n",
    "    $'!a |> Array.tryItem !i ' |> optionm'.unbox"
   ]
  }
 ],
 "metadata": {},
 "nbformat": 4,
 "nbformat_minor": 5
}