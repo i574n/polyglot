{
 "cells": [
  {
   "cell_type": "markdown",
   "metadata": {},
   "source": [
    "# am"
   ]
  },
  {
   "cell_type": "code",
   "execution_count": null,
   "metadata": {
    "dotnet_interactive": {
     "language": "spiral"
    },
    "polyglot_notebook": {
     "kernelName": "spiral"
    }
   },
   "outputs": [
    {
     "name": "stdout",
     "output_type": "stream",
     "text": [
      "()\n",
      "\n"
     ]
    }
   ],
   "source": [
    "// // test\n",
    "\n",
    "open testing\n",
    "\n",
    "prototype append t : t -> t -> t"
   ]
  },
  {
   "cell_type": "code",
   "execution_count": null,
   "metadata": {
    "dotnet_interactive": {
     "language": "spiral"
    },
    "polyglot_notebook": {
     "kernelName": "spiral"
    }
   },
   "outputs": [
    {
     "name": "stdout",
     "output_type": "stream",
     "text": [
      "()\n",
      "\n"
     ]
    }
   ],
   "source": [
    "open rust_operators"
   ]
  },
  {
   "cell_type": "markdown",
   "metadata": {},
   "source": [
    "## append"
   ]
  },
  {
   "cell_type": "code",
   "execution_count": null,
   "metadata": {
    "dotnet_interactive": {
     "language": "spiral"
    },
    "polyglot_notebook": {
     "kernelName": "spiral"
    }
   },
   "outputs": [
    {
     "name": "stdout",
     "output_type": "stream",
     "text": [
      "()\n",
      "\n"
     ]
    }
   ],
   "source": [
    "instance append a dim {int; number} t =\n",
    "    am.append"
   ]
  },
  {
   "cell_type": "markdown",
   "metadata": {},
   "source": [
    "## /@"
   ]
  },
  {
   "cell_type": "code",
   "execution_count": null,
   "metadata": {
    "dotnet_interactive": {
     "language": "spiral"
    },
    "polyglot_notebook": {
     "kernelName": "spiral"
    }
   },
   "outputs": [
    {
     "name": "stdout",
     "output_type": "stream",
     "text": [
      "()\n",
      "\n"
     ]
    }
   ],
   "source": [
    "inl (/@) a b =\n",
    "    b |> append a"
   ]
  },
  {
   "cell_type": "code",
   "execution_count": null,
   "metadata": {
    "dotnet_interactive": {
     "language": "spiral"
    },
    "polyglot_notebook": {
     "kernelName": "spiral"
    }
   },
   "outputs": [
    {
     "name": "stdout",
     "output_type": "stream",
     "text": [
      "type Mut0 = {mutable l0 : int32}\n",
      "let rec method1 (v0 : (string [])) : (string []) =\n",
      "    v0\n",
      "and method2 (v0 : int32, v1 : Mut0) : bool =\n",
      "    let v2 : int32 = v1.l0\n",
      "    let v3 : bool = v2 < v0\n",
      "    v3\n",
      "and method3 (v0 : (string []), v1 : (string []), v2 : int32) : bool =\n",
      "    let v3 : int32 = v0.Length\n",
      "    let v4 : bool = v2 < v3\n",
      "    if v4 then\n",
      "        let v5 : string = v0.[int v2]\n",
      "        let v6 : string = v1.[int v2]\n",
      "        let v7 : bool = v5 = v6\n",
      "        if v7 then\n",
      "            let v8 : int32 = v2 + 1\n",
      "            method3(v0, v1, v8)\n",
      "        else\n",
      "            false\n",
      "    else\n",
      "        true\n",
      "and method0 () : unit =\n",
      "    let v0 : string = \"a\"\n",
      "    let v1 : string = \"b\"\n",
      "    let v2 : (string []) = [|v0; v1|]\n",
      "    let v3 : (string []) = method1(v2)\n",
      "    let v4 : string = \"c\"\n",
      "    let v5 : string = \"d\"\n",
      "    let v6 : (string []) = [|v4; v5|]\n",
      "    let v7 : (string []) = method1(v6)\n",
      "    let v8 : int32 = v3.Length\n",
      "    let v9 : int32 = v7.Length\n",
      "    let v10 : int32 = v8 + v9\n",
      "    let v11 : (string []) = Array.zeroCreate<string> (v10)\n",
      "    let v12 : Mut0 = {l0 = 0} : Mut0\n",
      "    while method2(v10, v12) do\n",
      "        let v14 : int32 = v12.l0\n",
      "        let v15 : bool = v14 < v8\n",
      "        let v19 : string =\n",
      "            if v15 then\n",
      "                let v16 : string = v3.[int v14]\n",
      "                v16\n",
      "            else\n",
      "                let v17 : int32 = v14 - v8\n",
      "                let v18 : string = v7.[int v17]\n",
      "                v18\n",
      "        v11.[int v14] <- v19\n",
      "        let v20 : int32 = v14 + 1\n",
      "        v12.l0 <- v20\n",
      "        ()\n",
      "    let v21 : (string []) = [|v0; v1; v4; v5|]\n",
      "    let v22 : (string []) = method1(v21)\n",
      "    let v23 : string = $\"__expect / actual: %A{v11} / expected: %A{v22}\"\n",
      "    let v24 : int32 = v11.Length\n",
      "    let v25 : int32 = v22.Length\n",
      "    let v26 : bool = v24 = v25\n",
      "    let v27 : bool = v26 <> true\n",
      "    let v30 : bool =\n",
      "        if v27 then\n",
      "            false\n",
      "        else\n",
      "            let v28 : int32 = 0\n",
      "            method3(v11, v22, v28)\n",
      "    let v31 : bool = v30 = false\n",
      "    if v31 then\n",
      "        failwith<unit> v23\n",
      "method0()\n",
      "\n"
     ]
    }
   ],
   "source": [
    "// // test\n",
    "\n",
    "a ;[ \"a\"; \"b\" ] /@ a ;[ \"c\"; \"d\" ]\n",
    "|> _equal (a ;[ \"a\"; \"b\"; \"c\"; \"d\" ] : _ i32 _)"
   ]
  },
  {
   "cell_type": "markdown",
   "metadata": {},
   "source": [
    "## collect"
   ]
  },
  {
   "cell_type": "code",
   "execution_count": null,
   "metadata": {
    "dotnet_interactive": {
     "language": "spiral"
    },
    "polyglot_notebook": {
     "kernelName": "spiral"
    }
   },
   "outputs": [
    {
     "name": "stdout",
     "output_type": "stream",
     "text": [
      "()\n",
      "\n"
     ]
    }
   ],
   "source": [
    "inl collect forall t r. (fn : t -> a i32 r) (items : a i32 t) : a i32 r =\n",
    "    items\n",
    "    |> am.map fn\n",
    "    |> am.fold (/@) (a ;[])"
   ]
  },
  {
   "cell_type": "markdown",
   "metadata": {},
   "source": [
    "## choose"
   ]
  },
  {
   "cell_type": "code",
   "execution_count": null,
   "metadata": {
    "dotnet_interactive": {
     "language": "spiral"
    },
    "polyglot_notebook": {
     "kernelName": "spiral"
    }
   },
   "outputs": [
    {
     "name": "stdout",
     "output_type": "stream",
     "text": [
      "()\n",
      "\n"
     ]
    }
   ],
   "source": [
    "inl choose f l =\n",
    "    (l, [])\n",
    "    ||> am.foldBack fun x acc =>\n",
    "        match f x with\n",
    "        | Some y => y :: acc\n",
    "        | None => acc\n",
    "    |> listm.toArray"
   ]
  },
  {
   "cell_type": "code",
   "execution_count": null,
   "metadata": {
    "dotnet_interactive": {
     "language": "spiral"
    },
    "polyglot_notebook": {
     "kernelName": "spiral"
    }
   },
   "outputs": [
    {
     "name": "stdout",
     "output_type": "stream",
     "text": [
      "type Mut0 = {mutable l0 : int32}\n",
      "and UH0 =\n",
      "    | UH0_0 of int32 * UH0\n",
      "    | UH0_1\n",
      "and Mut1 = {mutable l0 : int32; mutable l1 : UH0}\n",
      "and [<Struct>] US0 =\n",
      "    | US0_0\n",
      "    | US0_1 of f1_0 : int32\n",
      "let rec method1 (v0 : Mut0) : bool =\n",
      "    let v1 : int32 = v0.l0\n",
      "    let v2 : bool = v1 < 10\n",
      "    v2\n",
      "and method2 (v0 : int32, v1 : Mut1) : bool =\n",
      "    let v2 : int32 = v1.l0\n",
      "    let v3 : bool = v2 < v0\n",
      "    v3\n",
      "and method4 (v0 : UH0, v1 : int32) : int32 =\n",
      "    match v0 with\n",
      "    | UH0_0(v2, v3) -> (* Cons *)\n",
      "        let v4 : int32 = v1 + 1\n",
      "        method4(v3, v4)\n",
      "    | UH0_1 -> (* Nil *)\n",
      "        v1\n",
      "and method5 (v0 : (int32 []), v1 : UH0, v2 : int32) : int32 =\n",
      "    match v1 with\n",
      "    | UH0_0(v3, v4) -> (* Cons *)\n",
      "        v0.[int v2] <- v3\n",
      "        let v5 : int32 = v2 + 1\n",
      "        method5(v0, v4, v5)\n",
      "    | UH0_1 -> (* Nil *)\n",
      "        v2\n",
      "and method3 (v0 : UH0) : (int32 []) =\n",
      "    let v1 : int32 = 0\n",
      "    let v2 : int32 = method4(v0, v1)\n",
      "    let v3 : (int32 []) = Array.zeroCreate<int32> (v2)\n",
      "    let v4 : int32 = 0\n",
      "    let v5 : int32 = method5(v3, v0, v4)\n",
      "    v3\n",
      "and method6 (v0 : (int32 [])) : (int32 []) =\n",
      "    v0\n",
      "and method7 (v0 : (int32 []), v1 : (int32 []), v2 : int32) : bool =\n",
      "    let v3 : int32 = v0.Length\n",
      "    let v4 : bool = v2 < v3\n",
      "    if v4 then\n",
      "        let v5 : int32 = v0.[int v2]\n",
      "        let v6 : int32 = v1.[int v2]\n",
      "        let v7 : bool = v5 = v6\n",
      "        if v7 then\n",
      "            let v8 : int32 = v2 + 1\n",
      "            method7(v0, v1, v8)\n",
      "        else\n",
      "            false\n",
      "    else\n",
      "        true\n",
      "and method0 () : unit =\n",
      "    let v0 : (int32 []) = Array.zeroCreate<int32> (10)\n",
      "    let v1 : Mut0 = {l0 = 0} : Mut0\n",
      "    while method1(v1) do\n",
      "        let v3 : int32 = v1.l0\n",
      "        v0.[int v3] <- v3\n",
      "        let v4 : int32 = v3 + 1\n",
      "        v1.l0 <- v4\n",
      "        ()\n",
      "    let v5 : int32 = v0.Length\n",
      "    let v6 : UH0 = UH0_1\n",
      "    let v7 : Mut1 = {l0 = 0; l1 = v6} : Mut1\n",
      "    while method2(v5, v7) do\n",
      "        let v9 : int32 = v7.l0\n",
      "        let v10 : int32 =  -v9\n",
      "        let v11 : int32 = v10 + v5\n",
      "        let v12 : int32 = v11 - 1\n",
      "        let v13 : UH0 = v7.l1\n",
      "        let v14 : int32 = v0.[int v12]\n",
      "        let v15 : int32 = v14 % 2\n",
      "        let v16 : bool = v15 = 0\n",
      "        let v19 : US0 =\n",
      "            if v16 then\n",
      "                US0_1(v14)\n",
      "            else\n",
      "                US0_0\n",
      "        let v23 : UH0 =\n",
      "            match v19 with\n",
      "            | US0_0 -> (* None *)\n",
      "                v13\n",
      "            | US0_1(v20) -> (* Some *)\n",
      "                UH0_0(v20, v13)\n",
      "        let v24 : int32 = v9 + 1\n",
      "        v7.l0 <- v24\n",
      "        v7.l1 <- v23\n",
      "        ()\n",
      "    let v25 : UH0 = v7.l1\n",
      "    let v26 : (int32 []) = method3(v25)\n",
      "    let v27 : (int32 []) = [|0; 2; 4; 6; 8|]\n",
      "    let v28 : (int32 []) = method6(v27)\n",
      "    let v29 : string = $\"__expect / actual: %A{v26} / expected: %A{v28}\"\n",
      "    let v30 : int32 = v26.Length\n",
      "    let v31 : int32 = v28.Length\n",
      "    let v32 : bool = v30 = v31\n",
      "    let v33 : bool = v32 <> true\n",
      "    let v36 : bool =\n",
      "        if v33 then\n",
      "            false\n",
      "        else\n",
      "            let v34 : int32 = 0\n",
      "            method7(v26, v28, v34)\n",
      "    let v37 : bool = v36 = false\n",
      "    if v37 then\n",
      "        failwith<unit> v29\n",
      "method0()\n",
      "\n"
     ]
    }
   ],
   "source": [
    "// // test\n",
    "\n",
    "(am.init 10i32 id : a _ _)\n",
    "|> choose (fun x => if x % 2 = 0 then Some x else None)\n",
    "|> _equal (a ;[ 0; 2; 4; 6; 8 ] : _ i32 _)"
   ]
  },
  {
   "cell_type": "markdown",
   "metadata": {},
   "source": [
    "## sum"
   ]
  },
  {
   "cell_type": "code",
   "execution_count": null,
   "metadata": {
    "dotnet_interactive": {
     "language": "spiral"
    },
    "polyglot_notebook": {
     "kernelName": "spiral"
    }
   },
   "outputs": [
    {
     "name": "stdout",
     "output_type": "stream",
     "text": [
      "()\n",
      "\n"
     ]
    }
   ],
   "source": [
    "inl sum (a' : a _ _) =\n",
    "    a' |> am.fold (+) 0"
   ]
  },
  {
   "cell_type": "code",
   "execution_count": null,
   "metadata": {
    "dotnet_interactive": {
     "language": "spiral"
    },
    "polyglot_notebook": {
     "kernelName": "spiral"
    }
   },
   "outputs": [
    {
     "name": "stdout",
     "output_type": "stream",
     "text": [
      "type Mut0 = {mutable l0 : int32}\n",
      "and Mut1 = {mutable l0 : int32; mutable l1 : int32}\n",
      "let rec method1 (v0 : Mut0) : bool =\n",
      "    let v1 : int32 = v0.l0\n",
      "    let v2 : bool = v1 < 10\n",
      "    v2\n",
      "and method2 (v0 : int32, v1 : Mut1) : bool =\n",
      "    let v2 : int32 = v1.l0\n",
      "    let v3 : bool = v2 < v0\n",
      "    v3\n",
      "and method0 () : unit =\n",
      "    let v0 : (int32 []) = Array.zeroCreate<int32> (10)\n",
      "    let v1 : Mut0 = {l0 = 0} : Mut0\n",
      "    while method1(v1) do\n",
      "        let v3 : int32 = v1.l0\n",
      "        v0.[int v3] <- v3\n",
      "        let v4 : int32 = v3 + 1\n",
      "        v1.l0 <- v4\n",
      "        ()\n",
      "    let v5 : int32 = v0.Length\n",
      "    let v6 : Mut1 = {l0 = 0; l1 = 0} : Mut1\n",
      "    while method2(v5, v6) do\n",
      "        let v8 : int32 = v6.l0\n",
      "        let v9 : int32 = v6.l1\n",
      "        let v10 : int32 = v0.[int v8]\n",
      "        let v11 : int32 = v9 + v10\n",
      "        let v12 : int32 = v8 + 1\n",
      "        v6.l0 <- v12\n",
      "        v6.l1 <- v11\n",
      "        ()\n",
      "    let v13 : int32 = v6.l1\n",
      "    let v14 : string = $\"__expect / actual: %A{v13} / expected: %A{45}\"\n",
      "    let v15 : bool = v13 = 45\n",
      "    let v16 : bool = v15 = false\n",
      "    if v16 then\n",
      "        failwith<unit> v14\n",
      "method0()\n",
      "\n"
     ]
    }
   ],
   "source": [
    "// // test\n",
    "\n",
    "am.init 10i32 id\n",
    "|> sum\n",
    "|> _equal 45"
   ]
  },
  {
   "cell_type": "markdown",
   "metadata": {},
   "source": [
    "## init_series"
   ]
  },
  {
   "cell_type": "code",
   "execution_count": null,
   "metadata": {
    "dotnet_interactive": {
     "language": "spiral"
    },
    "polyglot_notebook": {
     "kernelName": "spiral"
    }
   },
   "outputs": [
    {
     "name": "stdout",
     "output_type": "stream",
     "text": [
      "()\n",
      "\n"
     ]
    }
   ],
   "source": [
    "inl init_series start end inc =\n",
    "    inl total = conv ((end - start) / inc) + 1\n",
    "    am.init total (conv >> (*) inc >> (+) start) : a i32 _"
   ]
  },
  {
   "cell_type": "code",
   "execution_count": null,
   "metadata": {
    "dotnet_interactive": {
     "language": "spiral"
    },
    "polyglot_notebook": {
     "kernelName": "spiral"
    }
   },
   "outputs": [
    {
     "name": "stdout",
     "output_type": "stream",
     "text": [
      "type Mut0 = {mutable l0 : int32}\n",
      "let rec method1 (v0 : Mut0) : bool =\n",
      "    let v1 : int32 = v0.l0\n",
      "    let v2 : bool = v1 < 3\n",
      "    v2\n",
      "and method2 (v0 : (float [])) : (float []) =\n",
      "    v0\n",
      "and method3 (v0 : (float []), v1 : (float []), v2 : int32) : bool =\n",
      "    let v3 : int32 = v0.Length\n",
      "    let v4 : bool = v2 < v3\n",
      "    if v4 then\n",
      "        let v5 : float = v0.[int v2]\n",
      "        let v6 : float = v1.[int v2]\n",
      "        let v7 : bool = v5 = v6\n",
      "        if v7 then\n",
      "            let v8 : int32 = v2 + 1\n",
      "            method3(v0, v1, v8)\n",
      "        else\n",
      "            false\n",
      "    else\n",
      "        true\n",
      "and method0 () : unit =\n",
      "    let v0 : (float []) = Array.zeroCreate<float> (3)\n",
      "    let v1 : Mut0 = {l0 = 0} : Mut0\n",
      "    while method1(v1) do\n",
      "        let v3 : int32 = v1.l0\n",
      "        let v4 : float = float v3\n",
      "        let v5 : float = 0.5 * v4\n",
      "        v0.[int v3] <- v5\n",
      "        let v6 : int32 = v3 + 1\n",
      "        v1.l0 <- v6\n",
      "        ()\n",
      "    let v7 : (float []) = [|0.0; 0.5; 1.0|]\n",
      "    let v8 : (float []) = method2(v7)\n",
      "    let v9 : string = $\"__expect / actual: %A{v0} / expected: %A{v8}\"\n",
      "    let v10 : int32 = v0.Length\n",
      "    let v11 : int32 = v8.Length\n",
      "    let v12 : bool = v10 = v11\n",
      "    let v13 : bool = v12 <> true\n",
      "    let v16 : bool =\n",
      "        if v13 then\n",
      "            false\n",
      "        else\n",
      "            let v14 : int32 = 0\n",
      "            method3(v0, v8, v14)\n",
      "    let v17 : bool = v16 = false\n",
      "    if v17 then\n",
      "        failwith<unit> v9\n",
      "method0()\n",
      "\n"
     ]
    }
   ],
   "source": [
    "// // test\n",
    "\n",
    "init_series 0 1 0.5\n",
    "|> _equal (a ;[0f64; 0.5; 1])"
   ]
  },
  {
   "cell_type": "markdown",
   "metadata": {},
   "source": [
    "## head"
   ]
  },
  {
   "cell_type": "code",
   "execution_count": null,
   "metadata": {
    "dotnet_interactive": {
     "language": "spiral"
    },
    "polyglot_notebook": {
     "kernelName": "spiral"
    }
   },
   "outputs": [
    {
     "name": "stdout",
     "output_type": "stream",
     "text": [
      "()\n",
      "\n"
     ]
    }
   ],
   "source": [
    "inl head (ar : a _ _) =\n",
    "    if var_is ar || length ar > 0\n",
    "    then index ar 0\n",
    "    else error_type \"The length of the array should be greater than 0.\""
   ]
  },
  {
   "cell_type": "markdown",
   "metadata": {},
   "source": [
    "## last"
   ]
  },
  {
   "cell_type": "code",
   "execution_count": null,
   "metadata": {
    "dotnet_interactive": {
     "language": "spiral"
    },
    "polyglot_notebook": {
     "kernelName": "spiral"
    }
   },
   "outputs": [
    {
     "name": "stdout",
     "output_type": "stream",
     "text": [
      "()\n",
      "\n"
     ]
    }
   ],
   "source": [
    "inl last (ar : a _ _) =\n",
    "    inl len = length ar\n",
    "    if var_is ar || len > 0\n",
    "    then index ar (len - 1)\n",
    "    else error_type \"The length of the array should be greater than 0.\""
   ]
  },
  {
   "cell_type": "code",
   "execution_count": null,
   "metadata": {
    "dotnet_interactive": {
     "language": "spiral"
    },
    "polyglot_notebook": {
     "kernelName": "spiral"
    }
   },
   "outputs": [
    {
     "name": "stdout",
     "output_type": "stream",
     "text": [
      "type Mut0 = {mutable l0 : int32}\n",
      "let rec method1 (v0 : Mut0) : bool =\n",
      "    let v1 : int32 = v0.l0\n",
      "    let v2 : bool = v1 < 10\n",
      "    v2\n",
      "and method0 () : unit =\n",
      "    let v0 : (int32 []) = Array.zeroCreate<int32> (10)\n",
      "    let v1 : Mut0 = {l0 = 0} : Mut0\n",
      "    while method1(v1) do\n",
      "        let v3 : int32 = v1.l0\n",
      "        v0.[int v3] <- v3\n",
      "        let v4 : int32 = v3 + 1\n",
      "        v1.l0 <- v4\n",
      "        ()\n",
      "    let v5 : int32 = v0.Length\n",
      "    let v6 : int32 = v5 - 1\n",
      "    let v7 : int32 = v0.[int v6]\n",
      "    let v8 : string = $\"__expect / actual: %A{v7} / expected: %A{9}\"\n",
      "    let v9 : bool = v7 = 9\n",
      "    let v10 : bool = v9 = false\n",
      "    if v10 then\n",
      "        failwith<unit> v8\n",
      "method0()\n",
      "\n"
     ]
    }
   ],
   "source": [
    "// // test\n",
    "\n",
    "am.init 10i32 id\n",
    "|> last\n",
    "|> _equal 9"
   ]
  },
  {
   "cell_type": "markdown",
   "metadata": {},
   "source": [
    "## try_pick"
   ]
  },
  {
   "cell_type": "code",
   "execution_count": null,
   "metadata": {
    "dotnet_interactive": {
     "language": "spiral"
    },
    "polyglot_notebook": {
     "kernelName": "spiral"
    }
   },
   "outputs": [
    {
     "name": "stdout",
     "output_type": "stream",
     "text": [
      "()\n",
      "\n"
     ]
    }
   ],
   "source": [
    "inl try_pick forall t u. (fn : t -> option u) (array : a _ t) : option u =\n",
    "    (array, None)\n",
    "    ||> am.foldBack fun x acc =>\n",
    "        match acc with\n",
    "        | Some _ => acc\n",
    "        | None => x |> fn"
   ]
  },
  {
   "cell_type": "code",
   "execution_count": null,
   "metadata": {
    "dotnet_interactive": {
     "language": "spiral"
    },
    "polyglot_notebook": {
     "kernelName": "spiral"
    }
   },
   "outputs": [
    {
     "name": "stdout",
     "output_type": "stream",
     "text": [
      "type Mut0 = {mutable l0 : int32}\n",
      "and [<Struct>] US0 =\n",
      "    | US0_0\n",
      "    | US0_1 of f1_0 : int32\n",
      "and Mut1 = {mutable l0 : int32; mutable l1 : US0}\n",
      "let rec method1 (v0 : Mut0) : bool =\n",
      "    let v1 : int32 = v0.l0\n",
      "    let v2 : bool = v1 < 10\n",
      "    v2\n",
      "and method2 (v0 : int32, v1 : Mut1) : bool =\n",
      "    let v2 : int32 = v1.l0\n",
      "    let v3 : bool = v2 < v0\n",
      "    v3\n",
      "and method0 () : unit =\n",
      "    let v0 : (int32 []) = Array.zeroCreate<int32> (10)\n",
      "    let v1 : Mut0 = {l0 = 0} : Mut0\n",
      "    while method1(v1) do\n",
      "        let v3 : int32 = v1.l0\n",
      "        v0.[int v3] <- v3\n",
      "        let v4 : int32 = v3 + 1\n",
      "        v1.l0 <- v4\n",
      "        ()\n",
      "    let v5 : int32 = v0.Length\n",
      "    let v6 : US0 = US0_0\n",
      "    let v7 : Mut1 = {l0 = 0; l1 = v6} : Mut1\n",
      "    while method2(v5, v7) do\n",
      "        let v9 : int32 = v7.l0\n",
      "        let v10 : int32 =  -v9\n",
      "        let v11 : int32 = v10 + v5\n",
      "        let v12 : int32 = v11 - 1\n",
      "        let v13 : US0 = v7.l1\n",
      "        let v14 : int32 = v0.[int v12]\n",
      "        let v21 : US0 =\n",
      "            match v13 with\n",
      "            | US0_0 -> (* None *)\n",
      "                let v16 : bool = v14 = 5\n",
      "                if v16 then\n",
      "                    US0_1(v14)\n",
      "                else\n",
      "                    US0_0\n",
      "            | US0_1(v15) -> (* Some *)\n",
      "                v13\n",
      "        let v22 : int32 = v9 + 1\n",
      "        v7.l0 <- v22\n",
      "        v7.l1 <- v21\n",
      "        ()\n",
      "    let v23 : US0 = v7.l1\n",
      "    let v24 : US0 = US0_1(5)\n",
      "    let v25 : string = $\"__expect / actual: %A{v23} / expected: %A{v24}\"\n",
      "    let v29 : bool =\n",
      "        match v23 with\n",
      "        | US0_1(v27) -> (* Some *)\n",
      "            let v28 : bool = v27 = 5\n",
      "            v28\n",
      "        | _ ->\n",
      "            false\n",
      "    let v30 : bool = v29 = false\n",
      "    if v30 then\n",
      "        failwith<unit> v25\n",
      "method0()\n",
      "\n"
     ]
    }
   ],
   "source": [
    "// // test\n",
    "\n",
    "am.init 10i32 id\n",
    "|> try_pick (fun x => if x = 5i32 then Some x else None)\n",
    "|> _equal (Some 5i32)"
   ]
  },
  {
   "cell_type": "markdown",
   "metadata": {},
   "source": [
    "## from_vec"
   ]
  },
  {
   "cell_type": "code",
   "execution_count": null,
   "metadata": {
    "dotnet_interactive": {
     "language": "spiral"
    },
    "polyglot_notebook": {
     "kernelName": "spiral"
    }
   },
   "outputs": [
    {
     "name": "stdout",
     "output_type": "stream",
     "text": [
      "()\n",
      "\n"
     ]
    }
   ],
   "source": [
    "inl from_vec forall dim el. (vec : rust.vec el) : a dim el =\n",
    "    inl vec = join vec\n",
    "    !\\($'\"fable_library_rust::NativeArray_::array_from(!vec)\"')"
   ]
  },
  {
   "cell_type": "markdown",
   "metadata": {},
   "source": [
    "## to_vec"
   ]
  },
  {
   "cell_type": "code",
   "execution_count": null,
   "metadata": {
    "dotnet_interactive": {
     "language": "spiral"
    },
    "polyglot_notebook": {
     "kernelName": "spiral"
    }
   },
   "outputs": [
    {
     "name": "stdout",
     "output_type": "stream",
     "text": [
      "()\n",
      "\n"
     ]
    }
   ],
   "source": [
    "inl to_vec forall t. (ar : array_base t) : rust.vec t =\n",
    "    inl ar = join ar\n",
    "    !\\($'\"!ar.to_vec()\"')"
   ]
  },
  {
   "cell_type": "markdown",
   "metadata": {},
   "source": [
    "## map_vec"
   ]
  },
  {
   "cell_type": "code",
   "execution_count": null,
   "metadata": {
    "dotnet_interactive": {
     "language": "spiral"
    },
    "polyglot_notebook": {
     "kernelName": "spiral"
    }
   },
   "outputs": [
    {
     "name": "stdout",
     "output_type": "stream",
     "text": [
      "()\n",
      "\n"
     ]
    }
   ],
   "source": [
    "inl map_vec forall dim t u. (fn : t -> u) (ar : a dim t) : a dim u =\n",
    "    inl fn = join fn\n",
    "    inl (a ar) = ar\n",
    "    inl ar = ar |> to_vec\n",
    "    !\\($'\"!ar.iter().map(|x| !fn(x.clone())).collect()\"')\n",
    "    |> from_vec"
   ]
  },
  {
   "cell_type": "markdown",
   "metadata": {},
   "source": [
    "## mapi_vec"
   ]
  },
  {
   "cell_type": "code",
   "execution_count": null,
   "metadata": {
    "dotnet_interactive": {
     "language": "spiral"
    },
    "polyglot_notebook": {
     "kernelName": "spiral"
    }
   },
   "outputs": [
    {
     "name": "stdout",
     "output_type": "stream",
     "text": [
      "()\n",
      "\n"
     ]
    }
   ],
   "source": [
    "inl mapi_vec forall dim t u. (fn : dim -> t -> u) (ar : a dim t) : a dim u =\n",
    "    inl fn = join fn\n",
    "    inl (a ar) = ar\n",
    "    inl ar = ar |> to_vec\n",
    "    !\\($'\"!ar.iter().enumerate().map(|(i, x)| !fn(i.try_into().unwrap())(x.clone())).collect()\"')\n",
    "    |> from_vec"
   ]
  },
  {
   "cell_type": "markdown",
   "metadata": {},
   "source": [
    "## filter_vec"
   ]
  },
  {
   "cell_type": "code",
   "execution_count": null,
   "metadata": {
    "dotnet_interactive": {
     "language": "spiral"
    },
    "polyglot_notebook": {
     "kernelName": "spiral"
    }
   },
   "outputs": [
    {
     "name": "stdout",
     "output_type": "stream",
     "text": [
      "()\n",
      "\n"
     ]
    }
   ],
   "source": [
    "inl filter_vec forall dim t. (fn : t -> bool) (ar : a dim t) : a dim t =\n",
    "    inl fn = join fn\n",
    "    inl (a ar) = ar\n",
    "    inl ar = ar |> to_vec\n",
    "    !\\($'\"!ar.into_iter().filter(|x| !fn(x.clone().clone())).collect()\"')\n",
    "    |> from_vec"
   ]
  },
  {
   "cell_type": "markdown",
   "metadata": {},
   "source": [
    "## map_base"
   ]
  },
  {
   "cell_type": "code",
   "execution_count": null,
   "metadata": {
    "dotnet_interactive": {
     "language": "spiral"
    },
    "polyglot_notebook": {
     "kernelName": "spiral"
    }
   },
   "outputs": [
    {
     "name": "stdout",
     "output_type": "stream",
     "text": [
      "()\n",
      "\n"
     ]
    }
   ],
   "source": [
    "inl map_base forall t u. (fn : t -> u) (x : array_base t) : array_base u =\n",
    "    a x\n",
    "    |> am.map fn\n",
    "    |> fun (a x : _ i64 _) => x"
   ]
  },
  {
   "cell_type": "code",
   "execution_count": null,
   "metadata": {
    "dotnet_interactive": {
     "language": "spiral"
    },
    "polyglot_notebook": {
     "kernelName": "spiral"
    }
   },
   "outputs": [
    {
     "name": "stdout",
     "output_type": "stream",
     "text": [
      "()\n",
      "\n"
     ]
    }
   ],
   "source": [
    "inl average forall el {number}. (array : a _ el) : el =\n",
    "    $\"!array |> Array.average\"\n",
    "\n",
    "inl length forall dim el {number}. (array : a dim el) : dim =\n",
    "    $\"!array |> Array.length\"\n",
    "\n",
    "inl parallel_map forall dim el el'. (fn : el -> el') (array : a dim el) : a dim el' =\n",
    "    $\"!array |> Array.Parallel.map !fn\"\n",
    "\n",
    "inl sort_by forall dim el. (fn : el -> _) (array : a dim el) : a dim el =\n",
    "    $\"!array |> Array.sortBy !fn\"\n",
    "\n",
    "inl sort_descending forall dim el. (array : a dim el) : a dim el =\n",
    "    $\"!array |> Array.sortDescending\"\n",
    "\n",
    "inl transpose forall dim el. (array : a dim (a dim el)) : a dim (a dim el) =\n",
    "    $\"!array |> Array.transpose\"\n",
    "\n",
    "inl try_item forall dim el. (i : i32) (array : a dim el) : option el =\n",
    "    $\"!array |> Array.tryItem !i\" |> optionm'.unbox"
   ]
  },
  {
   "cell_type": "markdown",
   "metadata": {},
   "source": [
    "## indexed"
   ]
  },
  {
   "cell_type": "code",
   "execution_count": null,
   "metadata": {
    "dotnet_interactive": {
     "language": "spiral"
    },
    "polyglot_notebook": {
     "kernelName": "spiral"
    }
   },
   "outputs": [
    {
     "name": "stdout",
     "output_type": "stream",
     "text": [
      "()\n",
      "\n"
     ]
    }
   ],
   "source": [
    "inl indexed (array : a _ _) =\n",
    "    (([], 0), array)\n",
    "    ||> am.fold fun (acc, i) x =>\n",
    "        (i, x) :: acc, i + 1\n",
    "    |> fst\n",
    "    |> listm.rev\n",
    "    |> listm.toArray"
   ]
  },
  {
   "cell_type": "code",
   "execution_count": null,
   "metadata": {
    "dotnet_interactive": {
     "language": "spiral"
    },
    "polyglot_notebook": {
     "kernelName": "spiral"
    }
   },
   "outputs": [
    {
     "name": "stdout",
     "output_type": "stream",
     "text": [
      "type Mut0 = {mutable l0 : int32}\n",
      "and UH0 =\n",
      "    | UH0_0 of int32 * int32 * UH0\n",
      "    | UH0_1\n",
      "and Mut1 = {mutable l0 : int32; mutable l1 : UH0; mutable l2 : int32}\n",
      "let rec method1 (v0 : Mut0) : bool =\n",
      "    let v1 : int32 = v0.l0\n",
      "    let v2 : bool = v1 < 3\n",
      "    v2\n",
      "and method2 (v0 : int32, v1 : Mut1) : bool =\n",
      "    let v2 : int32 = v1.l0\n",
      "    let v3 : bool = v2 < v0\n",
      "    v3\n",
      "and method3 (v0 : UH0, v1 : UH0) : UH0 =\n",
      "    match v0 with\n",
      "    | UH0_0(v2, v3, v4) -> (* Cons *)\n",
      "        let v5 : UH0 = UH0_0(v2, v3, v1)\n",
      "        method3(v4, v5)\n",
      "    | UH0_1 -> (* Nil *)\n",
      "        v1\n",
      "and method5 (v0 : UH0, v1 : int32) : int32 =\n",
      "    match v0 with\n",
      "    | UH0_0(v2, v3, v4) -> (* Cons *)\n",
      "        let v5 : int32 = v1 + 1\n",
      "        method5(v4, v5)\n",
      "    | UH0_1 -> (* Nil *)\n",
      "        v1\n",
      "and method6 (v0 : (struct (int32 * int32) []), v1 : UH0, v2 : int32) : int32 =\n",
      "    match v1 with\n",
      "    | UH0_0(v3, v4, v5) -> (* Cons *)\n",
      "        v0.[int v2] <- struct (v3, v4)\n",
      "        let v6 : int32 = v2 + 1\n",
      "        method6(v0, v5, v6)\n",
      "    | UH0_1 -> (* Nil *)\n",
      "        v2\n",
      "and method4 (v0 : UH0) : (struct (int32 * int32) []) =\n",
      "    let v1 : int32 = 0\n",
      "    let v2 : int32 = method5(v0, v1)\n",
      "    let v3 : (struct (int32 * int32) []) = Array.zeroCreate<struct (int32 * int32)> (v2)\n",
      "    let v4 : int32 = 0\n",
      "    let v5 : int32 = method6(v3, v0, v4)\n",
      "    v3\n",
      "and method7 (v0 : (struct (int32 * int32) [])) : (struct (int32 * int32) []) =\n",
      "    v0\n",
      "and method8 (v0 : (struct (int32 * int32) []), v1 : (struct (int32 * int32) []), v2 : int32) : bool =\n",
      "    let v3 : int32 = v0.Length\n",
      "    let v4 : bool = v2 < v3\n",
      "    if v4 then\n",
      "        let struct (v5 : int32, v6 : int32) = v0.[int v2]\n",
      "        let struct (v7 : int32, v8 : int32) = v1.[int v2]\n",
      "        let v9 : bool = v5 = v7\n",
      "        let v11 : bool =\n",
      "            if v9 then\n",
      "                let v10 : bool = v6 = v8\n",
      "                v10\n",
      "            else\n",
      "                false\n",
      "        if v11 then\n",
      "            let v12 : int32 = v2 + 1\n",
      "            method8(v0, v1, v12)\n",
      "        else\n",
      "            false\n",
      "    else\n",
      "        true\n",
      "and method0 () : unit =\n",
      "    let v0 : (int32 []) = Array.zeroCreate<int32> (3)\n",
      "    let v1 : Mut0 = {l0 = 0} : Mut0\n",
      "    while method1(v1) do\n",
      "        let v3 : int32 = v1.l0\n",
      "        let v4 : int32 = 2 * v3\n",
      "        v0.[int v3] <- v4\n",
      "        let v5 : int32 = v3 + 1\n",
      "        v1.l0 <- v5\n",
      "        ()\n",
      "    let v6 : int32 = v0.Length\n",
      "    let v7 : UH0 = UH0_1\n",
      "    let v8 : Mut1 = {l0 = 0; l1 = v7; l2 = 0} : Mut1\n",
      "    while method2(v6, v8) do\n",
      "        let v10 : int32 = v8.l0\n",
      "        let struct (v11 : UH0, v12 : int32) = v8.l1, v8.l2\n",
      "        let v13 : int32 = v0.[int v10]\n",
      "        let v14 : int32 = v12 + 1\n",
      "        let v15 : int32 = v10 + 1\n",
      "        let v16 : UH0 = UH0_0(v12, v13, v11)\n",
      "        v8.l0 <- v15\n",
      "        v8.l1 <- v16\n",
      "        v8.l2 <- v14\n",
      "        ()\n",
      "    let struct (v17 : UH0, v18 : int32) = v8.l1, v8.l2\n",
      "    let v19 : UH0 = UH0_1\n",
      "    let v20 : UH0 = method3(v17, v19)\n",
      "    let v21 : (struct (int32 * int32) []) = method4(v20)\n",
      "    let v22 : (struct (int32 * int32) []) = [|struct (0, 0); struct (1, 2); struct (2, 4)|]\n",
      "    let v23 : (struct (int32 * int32) []) = method7(v22)\n",
      "    let v24 : string = $\"__expect / actual: %A{v21} / expected: %A{v23}\"\n",
      "    let v25 : int32 = v21.Length\n",
      "    let v26 : int32 = v23.Length\n",
      "    let v27 : bool = v25 = v26\n",
      "    let v28 : bool = v27 <> true\n",
      "    let v31 : bool =\n",
      "        if v28 then\n",
      "            false\n",
      "        else\n",
      "            let v29 : int32 = 0\n",
      "            method8(v21, v23, v29)\n",
      "    let v32 : bool = v31 = false\n",
      "    if v32 then\n",
      "        failwith<unit> v24\n",
      "method0()\n",
      "\n"
     ]
    }
   ],
   "source": [
    "// // test\n",
    "\n",
    "am.init 3i32 ((*) 2)\n",
    "|> indexed\n",
    "|> _equal (a ;[0i32, 0; 1, 2; 2, 4] : a i32 _)"
   ]
  },
  {
   "cell_type": "markdown",
   "metadata": {},
   "source": [
    "## enumerate"
   ]
  },
  {
   "cell_type": "code",
   "execution_count": null,
   "metadata": {
    "dotnet_interactive": {
     "language": "spiral"
    },
    "polyglot_notebook": {
     "kernelName": "spiral"
    }
   },
   "outputs": [
    {
     "name": "stdout",
     "output_type": "stream",
     "text": [
      "()\n",
      "\n"
     ]
    }
   ],
   "source": [
    "inl enumerate forall dim {int; number} t. (ar : a dim t) : a dim (unativeint * t) =\n",
    "    inl (a ar) = ar\n",
    "    inl ar = ar |> to_vec\n",
    "    !\\($'\"!ar.into_iter().enumerate().map(std::rc::Rc::new).collect()\"')\n",
    "    |> from_vec\n",
    "    |> map_vec from_pair"
   ]
  },
  {
   "cell_type": "code",
   "execution_count": null,
   "metadata": {
    "dotnet_interactive": {
     "language": "spiral"
    },
    "polyglot_notebook": {
     "kernelName": "spiral"
    }
   },
   "outputs": [
    {
     "name": "stdout",
     "output_type": "stream",
     "text": [
      "()\n",
      "\n"
     ]
    }
   ],
   "source": [
    "inl as_slice forall t. (x : array_base t) : rust.ref' (rust.slice t) =\n",
    "    inl x = x |> to_vec\n",
    "    !\\($'\"!x.as_slice()\"')"
   ]
  },
  {
   "cell_type": "markdown",
   "metadata": {},
   "source": [
    "## vec_push"
   ]
  },
  {
   "cell_type": "code",
   "execution_count": null,
   "metadata": {
    "dotnet_interactive": {
     "language": "spiral"
    },
    "polyglot_notebook": {
     "kernelName": "spiral"
    }
   },
   "outputs": [
    {
     "name": "stdout",
     "output_type": "stream",
     "text": [
      "()\n",
      "\n"
     ]
    }
   ],
   "source": [
    "inl vec_push forall el. (el : el) (vec : rust.vec el) : rust.vec el =\n",
    "    inl el = join el\n",
    "    inl vec = join vec\n",
    "    !\\($'\"let mut !vec = !vec\"')\n",
    "    // inl vec = vec |> rust.to_mut\n",
    "    !\\($'\"!vec.push(!el)\"')\n",
    "    !\\($'\"!vec\"')"
   ]
  },
  {
   "cell_type": "markdown",
   "metadata": {},
   "source": [
    "## vec_retain"
   ]
  },
  {
   "cell_type": "code",
   "execution_count": null,
   "metadata": {
    "dotnet_interactive": {
     "language": "spiral"
    },
    "polyglot_notebook": {
     "kernelName": "spiral"
    }
   },
   "outputs": [
    {
     "name": "stdout",
     "output_type": "stream",
     "text": [
      "()\n",
      "\n"
     ]
    }
   ],
   "source": [
    "inl vec_retain forall el. (fn : el -> bool) (vec : rust.vec el) : rust.vec el =\n",
    "    inl vec = join vec\n",
    "    inl fn = join fn\n",
    "    !\\($'\"let mut !vec = !vec\"')\n",
    "    // inl vec = vec |> rust.to_mut\n",
    "    !\\($'\"!vec.retain(|x| !fn(x.clone()))\"')\n",
    "    !\\($'\"!vec\"')"
   ]
  },
  {
   "cell_type": "markdown",
   "metadata": {},
   "source": [
    "## vec_mapi"
   ]
  },
  {
   "cell_type": "code",
   "execution_count": null,
   "metadata": {
    "dotnet_interactive": {
     "language": "spiral"
    },
    "polyglot_notebook": {
     "kernelName": "spiral"
    }
   },
   "outputs": [
    {
     "name": "stdout",
     "output_type": "stream",
     "text": [
      "()\n",
      "\n"
     ]
    }
   ],
   "source": [
    "inl vec_mapi forall dim t u. (fn : dim -> t -> u) (ar : rust.vec t) : rust.vec u =\n",
    "    inl fn = join fn\n",
    "    inl ar = join ar\n",
    "    !\\($'\"!ar.iter().enumerate().map(|(i, x)| !fn(i.try_into().unwrap())(x.clone())).collect()\"')"
   ]
  },
  {
   "cell_type": "markdown",
   "metadata": {},
   "source": [
    "## vec_map"
   ]
  },
  {
   "cell_type": "code",
   "execution_count": null,
   "metadata": {
    "dotnet_interactive": {
     "language": "spiral"
    },
    "polyglot_notebook": {
     "kernelName": "spiral"
    }
   },
   "outputs": [
    {
     "name": "stdout",
     "output_type": "stream",
     "text": [
      "()\n",
      "\n"
     ]
    }
   ],
   "source": [
    "inl vec_map forall t u. (fn : t -> u) (ar : rust.vec t) : rust.vec u =\n",
    "    inl fn = join fn\n",
    "    inl ar = join ar\n",
    "    !\\($'\"!ar.iter().map(|x| !fn(x.clone())).collect()\"')"
   ]
  },
  {
   "cell_type": "markdown",
   "metadata": {},
   "source": [
    "## indexed'"
   ]
  },
  {
   "cell_type": "code",
   "execution_count": null,
   "metadata": {
    "dotnet_interactive": {
     "language": "spiral"
    },
    "polyglot_notebook": {
     "kernelName": "spiral"
    }
   },
   "outputs": [
    {
     "name": "stdout",
     "output_type": "stream",
     "text": [
      "()\n",
      "\n"
     ]
    }
   ],
   "source": [
    "inl indexed' forall t dim {int; number} dim' {int; number} u {number}. (ar : a dim t) : a dim' (u * t) =\n",
    "    ((0, a ;[]), ar)\n",
    "    ||> am.fold fun (i, acc) x =>\n",
    "        i + 1, acc /@ a ;[i, x]\n",
    "    |> snd"
   ]
  },
  {
   "cell_type": "code",
   "execution_count": null,
   "metadata": {
    "dotnet_interactive": {
     "language": "spiral"
    },
    "polyglot_notebook": {
     "kernelName": "spiral"
    }
   },
   "outputs": [
    {
     "name": "stdout",
     "output_type": "stream",
     "text": [
      "type Mut0 = {mutable l0 : int32}\n",
      "and Mut1 = {mutable l0 : int32; mutable l1 : int32; mutable l2 : (struct (int32 * int32) [])}\n",
      "let rec method1 (v0 : Mut0) : bool =\n",
      "    let v1 : int32 = v0.l0\n",
      "    let v2 : bool = v1 < 3\n",
      "    v2\n",
      "and method2 (v0 : (struct (int32 * int32) [])) : (struct (int32 * int32) []) =\n",
      "    v0\n",
      "and method3 (v0 : int32, v1 : Mut1) : bool =\n",
      "    let v2 : int32 = v1.l0\n",
      "    let v3 : bool = v2 < v0\n",
      "    v3\n",
      "and method4 (v0 : int32, v1 : Mut0) : bool =\n",
      "    let v2 : int32 = v1.l0\n",
      "    let v3 : bool = v2 < v0\n",
      "    v3\n",
      "and method5 (v0 : (struct (int32 * int32) []), v1 : (struct (int32 * int32) []), v2 : int32) : bool =\n",
      "    let v3 : int32 = v0.Length\n",
      "    let v4 : bool = v2 < v3\n",
      "    if v4 then\n",
      "        let struct (v5 : int32, v6 : int32) = v0.[int v2]\n",
      "        let struct (v7 : int32, v8 : int32) = v1.[int v2]\n",
      "        let v9 : bool = v5 = v7\n",
      "        let v11 : bool =\n",
      "            if v9 then\n",
      "                let v10 : bool = v6 = v8\n",
      "                v10\n",
      "            else\n",
      "                false\n",
      "        if v11 then\n",
      "            let v12 : int32 = v2 + 1\n",
      "            method5(v0, v1, v12)\n",
      "        else\n",
      "            false\n",
      "    else\n",
      "        true\n",
      "and method0 () : unit =\n",
      "    let v0 : (int32 []) = Array.zeroCreate<int32> (3)\n",
      "    let v1 : Mut0 = {l0 = 0} : Mut0\n",
      "    while method1(v1) do\n",
      "        let v3 : int32 = v1.l0\n",
      "        let v4 : int32 = 2 * v3\n",
      "        v0.[int v3] <- v4\n",
      "        let v5 : int32 = v3 + 1\n",
      "        v1.l0 <- v5\n",
      "        ()\n",
      "    let v6 : (struct (int32 * int32) []) = [||]\n",
      "    let v7 : (struct (int32 * int32) []) = method2(v6)\n",
      "    let v8 : int32 = v0.Length\n",
      "    let v9 : Mut1 = {l0 = 0; l1 = 0; l2 = v7} : Mut1\n",
      "    while method3(v8, v9) do\n",
      "        let v11 : int32 = v9.l0\n",
      "        let struct (v12 : int32, v13 : (struct (int32 * int32) [])) = v9.l1, v9.l2\n",
      "        let v14 : int32 = v0.[int v11]\n",
      "        let v15 : int32 = v12 + 1\n",
      "        let v16 : (struct (int32 * int32) []) = [|struct (v12, v14)|]\n",
      "        let v17 : (struct (int32 * int32) []) = method2(v16)\n",
      "        let v18 : int32 = v13.Length\n",
      "        let v19 : int32 = v17.Length\n",
      "        let v20 : int32 = v18 + v19\n",
      "        let v21 : (struct (int32 * int32) []) = Array.zeroCreate<struct (int32 * int32)> (v20)\n",
      "        let v22 : Mut0 = {l0 = 0} : Mut0\n",
      "        while method4(v20, v22) do\n",
      "            let v24 : int32 = v22.l0\n",
      "            let v25 : bool = v24 < v18\n",
      "            let struct (v31 : int32, v32 : int32) =\n",
      "                if v25 then\n",
      "                    let struct (v26 : int32, v27 : int32) = v13.[int v24]\n",
      "                    struct (v26, v27)\n",
      "                else\n",
      "                    let v28 : int32 = v24 - v18\n",
      "                    let struct (v29 : int32, v30 : int32) = v17.[int v28]\n",
      "                    struct (v29, v30)\n",
      "            v21.[int v24] <- struct (v31, v32)\n",
      "            let v33 : int32 = v24 + 1\n",
      "            v22.l0 <- v33\n",
      "            ()\n",
      "        let v34 : int32 = v11 + 1\n",
      "        v9.l0 <- v34\n",
      "        v9.l1 <- v15\n",
      "        v9.l2 <- v21\n",
      "        ()\n",
      "    let struct (v35 : int32, v36 : (struct (int32 * int32) [])) = v9.l1, v9.l2\n",
      "    let v37 : (struct (int32 * int32) []) = [|struct (0, 0); struct (1, 2); struct (2, 4)|]\n",
      "    let v38 : (struct (int32 * int32) []) = method2(v37)\n",
      "    let v39 : string = $\"__expect / actual: %A{v36} / expected: %A{v38}\"\n",
      "    let v40 : int32 = v36.Length\n",
      "    let v41 : int32 = v38.Length\n",
      "    let v42 : bool = v40 = v41\n",
      "    let v43 : bool = v42 <> true\n",
      "    let v46 : bool =\n",
      "        if v43 then\n",
      "            false\n",
      "        else\n",
      "            let v44 : int32 = 0\n",
      "            method5(v36, v38, v44)\n",
      "    let v47 : bool = v46 = false\n",
      "    if v47 then\n",
      "        failwith<unit> v39\n",
      "method0()\n",
      "\n"
     ]
    }
   ],
   "source": [
    "// // test\n",
    "\n",
    "am.init 3i32 ((*) 2)\n",
    "|> indexed'\n",
    "|> _equal (a ;[0i32, 0; 1, 2; 2, 4] : a i32 _)"
   ]
  }
 ],
 "metadata": {},
 "nbformat": 4,
 "nbformat_minor": 5
}