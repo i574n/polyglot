{
 "cells": [
  {
   "cell_type": "markdown",
   "metadata": {},
   "source": [
    "# testing"
   ]
  },
  {
   "cell_type": "code",
   "execution_count": null,
   "metadata": {
    "dotnet_interactive": {
     "language": "spiral"
    },
    "polyglot_notebook": {
     "kernelName": "spiral"
    }
   },
   "outputs": [],
   "source": [
    "inl __expect fn log name b a =\n",
    "    inl result = fn a b\n",
    "    inl result =\n",
    "        result || join result\n",
    "    if log |> not\n",
    "    then \"__expect\"\n",
    "    else\n",
    "        inl text = $'$\"{!name} / actual: %A{!a} / expected: %A{!b}\"'\n",
    "        text |> console.write_line\n",
    "        text\n",
    "    |> assert result\n",
    "\n",
    "inl __assert_approx_eq log e b a = __expect (fun a b => abs (b - a) < (e |> optionm.defaultWith 0.00000001)) log \"assert_approx_eq\" b a\n",
    "inl _assert_approx_eq e b a = __assert_approx_eq true e b a\n",
    "\n",
    "inl __assert_eq log b a = __expect (=) log \"assert_eq\" b a\n",
    "inl _assert_eq b a = __assert_eq true b a\n",
    "\n",
    "inl __assert_eq' log b a = __expect (=.) log \"assert_eq'\" b a\n",
    "inl _assert_eq' b a = __assert_eq' true b a\n",
    "\n",
    "inl __assert_ne log b a = __expect (<>.) log \"assert_ne\" b a\n",
    "inl _assert_ne b a = __assert_ne true b a\n",
    "\n",
    "inl __assert_gt log b a = __expect (>) log \"assert_gt\" b a\n",
    "inl _assert_gt b a = __assert_gt true b a\n",
    "\n",
    "inl __assert_ge log b a = __expect (>=) log \"assert_ge\" b a\n",
    "inl _assert_ge b a = __assert_ge true b a\n",
    "\n",
    "inl __assert_lt log b a = __expect (<) log \"assert_lt\" b a\n",
    "inl _assert_lt b a = __assert_lt true b a\n",
    "\n",
    "inl __assert_le log b a = __expect (<=) log \"assert_le\" b a\n",
    "inl _assert_le b a = __assert_le true b a\n",
    "\n",
    "inl __assert_contains forall t. log (b : t) a =\n",
    "    __expect\n",
    "        fun a b =>\n",
    "            a\n",
    "            |> $'List.ofSeq'\n",
    "            |> fun x => x : listm'.list' t\n",
    "            |> $'List.tryFind' ((=) b)\n",
    "            |> optionm'.unbox\n",
    "            |> fun (x : _ t) => x <> None\n",
    "        log \"assert_contains\" b a\n",
    "inl _assert_contains b a = __assert_contains true b a\n",
    "\n",
    "inl __assert_string_contains log b a = __expect sm'.contains log \"assert_string_contains\" a b\n",
    "inl _assert_string_contains b a = __assert_string_contains true b a\n",
    "\n",
    "inl _throws (fn : () -> ()) : option exn =\n",
    "    inl none = None : option exn\n",
    "    inl some (s : exn) = Some s\n",
    "    $'try !fn (); !none with ex -> ex |> !some '\n",
    "\n",
    "inl __assert_between log a b actual =\n",
    "    inl assert_between actual (a, b) =\n",
    "        __assert_ge false a actual\n",
    "        __assert_le false b actual\n",
    "        true\n",
    "    __expect assert_between log \"assert_between\" (a, b) actual\n",
    "inl _assert_between a b actual = __assert_between true a b actual"
   ]
  },
  {
   "cell_type": "code",
   "execution_count": null,
   "metadata": {
    "dotnet_interactive": {
     "language": "spiral"
    },
    "polyglot_notebook": {
     "kernelName": "spiral"
    }
   },
   "outputs": [
    {
     "name": "stdout",
     "output_type": "stream",
     "text": [
      "assert_approx_eq / actual: 1.0 / expected: 2.0\n"
     ]
    }
   ],
   "source": [
    "//// test\n",
    "\n",
    "1f64\n",
    "|> _assert_approx_eq (Some 3) 2"
   ]
  },
  {
   "cell_type": "code",
   "execution_count": null,
   "metadata": {
    "dotnet_interactive": {
     "language": "spiral"
    },
    "polyglot_notebook": {
     "kernelName": "spiral"
    }
   },
   "outputs": [
    {
     "name": "stdout",
     "output_type": "stream",
     "text": [
      "assert_contains / actual: \"abcd\" / expected: 'b'\n"
     ]
    }
   ],
   "source": [
    "//// test\n",
    "\n",
    "\"abcd\"\n",
    "|> _assert_contains 'b'"
   ]
  },
  {
   "cell_type": "code",
   "execution_count": null,
   "metadata": {
    "dotnet_interactive": {
     "language": "spiral"
    },
    "polyglot_notebook": {
     "kernelName": "spiral"
    }
   },
   "outputs": [
    {
     "name": "stdout",
     "output_type": "stream",
     "text": [
      "assert_approx_eq / actual: 1.0 / expected: 2.0\n"
     ]
    }
   ],
   "source": [
    "//// test\n",
    "\n",
    "(dyn 1f64)\n",
    "|> _assert_approx_eq (Some 3) 2"
   ]
  },
  {
   "cell_type": "code",
   "execution_count": null,
   "metadata": {
    "dotnet_interactive": {
     "language": "spiral"
    },
    "polyglot_notebook": {
     "kernelName": "spiral"
    }
   },
   "outputs": [],
   "source": [
    "inl print_and_return x =\n",
    "    $'printfn $\"print_and_return / x: {!x}\"'\n",
    "    x"
   ]
  }
 ],
 "metadata": {},
 "nbformat": 4,
 "nbformat_minor": 5
}