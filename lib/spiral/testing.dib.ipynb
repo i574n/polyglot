{
 "cells": [
  {
   "cell_type": "markdown",
   "metadata": {},
   "source": [
    "# testing"
   ]
  },
  {
   "cell_type": "code",
   "execution_count": null,
   "metadata": {
    "dotnet_interactive": {
     "language": "spiral"
    },
    "polyglot_notebook": {
     "kernelName": "spiral"
    }
   },
   "outputs": [
    {
     "name": "stdout",
     "output_type": "stream",
     "text": [
      "()\n",
      "\n"
     ]
    }
   ],
   "source": [
    "inl __expect fn log b a =\n",
    "    if log then\n",
    "        a |> sm'.format_debug |> console.write_line\n",
    "    inl result = fn a b\n",
    "    inl result =\n",
    "        result || join result\n",
    "    if log\n",
    "    then $\"$\\\"__expect / actual: %A{!a} / expected: %A{!b}\\\"\"\n",
    "    else \"__expect\"\n",
    "    |> assert result\n",
    "\n",
    "inl __assert_approx_eq log e b a = __expect (fun a b => abs (b - a) < (e |> optionm.defaultWith 0.00000001)) log b a\n",
    "inl _assert_approx_eq e b a = __assert_approx_eq true e b a\n",
    "\n",
    "inl __assert_eq log b a = __expect (=) log b a\n",
    "inl _assert_eq b a = __assert_eq true b a\n",
    "\n",
    "inl __assert_eq' log b a = __expect (=.) log b a\n",
    "inl _assert_eq' b a = __assert_eq' true b a\n",
    "\n",
    "inl __assert_ne log b a = __expect (fun a b => a = b |> fun x => join x |> not) log b a\n",
    "inl _assert_ne b a = __assert_ne true b a\n",
    "\n",
    "inl __assert_gt log b a = __expect (>) log b a\n",
    "inl _assert_gt b a = __assert_gt true b a\n",
    "\n",
    "inl __assert_ge log b a = __expect (>=) log b a\n",
    "inl _assert_ge b a = __assert_ge true b a\n",
    "\n",
    "inl __assert_lt log b a = __expect (<) log b a\n",
    "inl _assert_lt b a = __assert_lt true b a\n",
    "\n",
    "inl __assert_le log b a = __expect (<=) log b a\n",
    "inl _assert_le b a = __assert_le true b a\n",
    "\n",
    "inl __contains forall t. log (b : t) a =\n",
    "    __expect\n",
    "        (fun a b => a |> $'Seq.tryFind' ((=) b) |> optionm'.unbox |> fun (x : option t) => x <> None)\n",
    "        log b a\n",
    "inl _contains b a = __contains true b a\n",
    "\n",
    "inl _throws (fn : () -> ()) : option exn =\n",
    "    inl none = None : option exn\n",
    "    inl some (s : exn) = Some s\n",
    "    $\"try !fn (); !none with ex -> ex |> !some\""
   ]
  },
  {
   "cell_type": "code",
   "execution_count": null,
   "metadata": {
    "dotnet_interactive": {
     "language": "spiral"
    },
    "polyglot_notebook": {
     "kernelName": "spiral"
    }
   },
   "outputs": [
    {
     "name": "stdout",
     "output_type": "stream",
     "text": [
      "let rec method0 () : unit =\n",
      "    let v0 : string = $\"%A{1.0}\"\n",
      "    System.Console.WriteLine v0\n",
      "    let v1 : string = $\"__expect / actual: %A{1.0} / expected: %A{2.0}\"\n",
      "    ()\n",
      "method0()\n",
      "\n",
      "1.0\n"
     ]
    }
   ],
   "source": [
    "// // test\n",
    "\n",
    "1f64\n",
    "|> _assert_approx_eq (Some 3) 2"
   ]
  },
  {
   "cell_type": "code",
   "execution_count": null,
   "metadata": {
    "dotnet_interactive": {
     "language": "spiral"
    },
    "polyglot_notebook": {
     "kernelName": "spiral"
    }
   },
   "outputs": [
    {
     "name": "stdout",
     "output_type": "stream",
     "text": [
      "type [<Struct>] US0 =\n",
      "    | US0_0 of f0_0 : char\n",
      "    | US0_1\n",
      "let rec closure0 () (v0 : char) : bool =\n",
      "    let v1 : bool = 'b' = v0\n",
      "    v1\n",
      "and closure1 () (v0 : char) : US0 =\n",
      "    US0_0(v0)\n",
      "and method1 () : (char -> US0) =\n",
      "    closure1()\n",
      "and method2 (v0 : bool) : bool =\n",
      "    v0\n",
      "and method0 () : unit =\n",
      "    let v0 : string = \"abcd\"\n",
      "    let v1 : string = $\"%A{v0}\"\n",
      "    System.Console.WriteLine v1\n",
      "    let v2 : ((char -> bool) -> (string -> char option)) = Seq.tryFind\n",
      "    let v3 : (char -> bool) = closure0()\n",
      "    let v4 : (string -> char option) = v2 v3\n",
      "    let v5 : char option = v4 v0\n",
      "    let v6 : (char -> US0) = method1()\n",
      "    let v7 : US0 = US0_1\n",
      "    let v8 : US0 = v5 |> Option.map v6 |> Option.defaultValue v7 \n",
      "    let v10 : bool =\n",
      "        match v8 with\n",
      "        | US0_1 -> (* None *)\n",
      "            true\n",
      "        | _ ->\n",
      "            false\n",
      "    let v11 : bool = v10 <> true\n",
      "    let v13 : bool =\n",
      "        if v11 then\n",
      "            true\n",
      "        else\n",
      "            method2(v11)\n",
      "    let v14 : string = $\"__expect / actual: %A{v0} / expected: %A{'b'}\"\n",
      "    let v15 : bool = v13 = false\n",
      "    if v15 then\n",
      "        failwith<unit> v14\n",
      "method0()\n",
      "\n",
      "\"abcd\"\n"
     ]
    }
   ],
   "source": [
    "// // test\n",
    "\n",
    "\"abcd\"\n",
    "|> _contains 'b'"
   ]
  },
  {
   "cell_type": "code",
   "execution_count": null,
   "metadata": {
    "dotnet_interactive": {
     "language": "spiral"
    },
    "polyglot_notebook": {
     "kernelName": "spiral"
    }
   },
   "outputs": [
    {
     "name": "stdout",
     "output_type": "stream",
     "text": [
      "let rec method1 (v0 : bool) : bool =\n",
      "    v0\n",
      "and method0 () : unit =\n",
      "    let v0 : float = 1.0\n",
      "    let v1 : string = $\"%A{v0}\"\n",
      "    System.Console.WriteLine v1\n",
      "    let v2 : float = 2.0 - v0\n",
      "    let v3 : float =  -v2\n",
      "    let v4 : bool = v2 >= v3\n",
      "    let v5 : float =\n",
      "        if v4 then\n",
      "            v2\n",
      "        else\n",
      "            v3\n",
      "    let v6 : bool = v5 < 3.0\n",
      "    let v8 : bool =\n",
      "        if v6 then\n",
      "            true\n",
      "        else\n",
      "            method1(v6)\n",
      "    let v9 : string = $\"__expect / actual: %A{v0} / expected: %A{2.0}\"\n",
      "    let v10 : bool = v8 = false\n",
      "    if v10 then\n",
      "        failwith<unit> v9\n",
      "method0()\n",
      "\n",
      "1.0\n"
     ]
    }
   ],
   "source": [
    "// // test\n",
    "\n",
    "(dyn 1f64)\n",
    "|> _assert_approx_eq (Some 3) 2"
   ]
  },
  {
   "cell_type": "code",
   "execution_count": null,
   "metadata": {
    "dotnet_interactive": {
     "language": "spiral"
    },
    "polyglot_notebook": {
     "kernelName": "spiral"
    }
   },
   "outputs": [
    {
     "name": "stdout",
     "output_type": "stream",
     "text": [
      "()\n",
      "\n"
     ]
    }
   ],
   "source": [
    "inl print_and_return x =\n",
    "    $\"printfn $\\\"print_and_return / x: {!x}\\\"\"\n",
    "    x"
   ]
  }
 ],
 "metadata": {},
 "nbformat": 4,
 "nbformat_minor": 5
}