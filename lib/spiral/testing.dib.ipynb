{
 "cells": [
  {
   "cell_type": "markdown",
   "metadata": {},
   "source": [
    "# testing"
   ]
  },
  {
   "cell_type": "markdown",
   "metadata": {},
   "source": [
    "## testing"
   ]
  },
  {
   "cell_type": "markdown",
   "metadata": {},
   "source": [
    "### testing_trace"
   ]
  },
  {
   "cell_type": "code",
   "execution_count": null,
   "metadata": {
    "dotnet_interactive": {
     "language": "spiral"
    },
    "polyglot_notebook": {
     "kernelName": "spiral"
    }
   },
   "outputs": [],
   "source": [
    "union testing_trace =\n",
    "    | Console\n",
    "    | Trace\n",
    "    | TraceRaw\n",
    "    | Silent"
   ]
  },
  {
   "cell_type": "markdown",
   "metadata": {},
   "source": [
    "### __expect"
   ]
  },
  {
   "cell_type": "code",
   "execution_count": null,
   "metadata": {
    "dotnet_interactive": {
     "language": "spiral"
    },
    "polyglot_notebook": {
     "kernelName": "spiral"
    }
   },
   "outputs": [],
   "source": [
    "inl rec __expect fn trace' name b a =\n",
    "    inl result = fn a b\n",
    "    inl result =\n",
    "        result || join result\n",
    "    inl get_raw_text () =\n",
    "        backend_switch {\n",
    "            Fsharp = fun () => $'$\"{!name} / actual: %A{!a} / expected: %A{!b}\"' : string\n",
    "            Python = fun () => $'f\"{!name} / actual: {!a} / expected: {!b}\"' : string\n",
    "        }\n",
    "    match trace' with\n",
    "    | Console =>\n",
    "        inl text = get_raw_text ()\n",
    "        text |> console.write_line\n",
    "        text\n",
    "    | Trace =>\n",
    "        trace Info (fun () => name) fun () => { actual = a; expected = b }\n",
    "        get_raw_text ()\n",
    "    | TraceRaw =>\n",
    "        inl text = get_raw_text ()\n",
    "        trace_raw Info fun () => text\n",
    "        text\n",
    "    | Silent => reflection.nameof { __expect }\n",
    "    |> assert result"
   ]
  },
  {
   "cell_type": "markdown",
   "metadata": {},
   "source": [
    "### __assert_approx_eq"
   ]
  },
  {
   "cell_type": "code",
   "execution_count": null,
   "metadata": {
    "dotnet_interactive": {
     "language": "spiral"
    },
    "polyglot_notebook": {
     "kernelName": "spiral"
    }
   },
   "outputs": [],
   "source": [
    "inl rec __assert_approx_eq trace e b a =\n",
    "    __expect\n",
    "        (fun a b => abs (b - a) < (e |> optionm.defaultWith 0.00000001))\n",
    "        trace\n",
    "        (reflection.nameof { __assert_approx_eq })\n",
    "        b\n",
    "        a\n",
    "\n",
    "inl _assert_approx_eq e b a =\n",
    "    __assert_approx_eq Console e b a"
   ]
  },
  {
   "cell_type": "code",
   "execution_count": null,
   "metadata": {
    "dotnet_interactive": {
     "language": "spiral"
    },
    "polyglot_notebook": {
     "kernelName": "spiral"
    }
   },
   "outputs": [
    {
     "data": {
      "text/plain": [
       ".py output (Cuda):\n",
       "__assert_approx_eq / actual: 12.345 / expected: 12.345\n",
       "\n",
       ".rs output:\n",
       "__assert_approx_eq / actual: 12.345 / expected: 12.345\n",
       "\n",
       ".ts output:\n",
       "__assert_approx_eq / actual: 12.345 / expected: 12.345\n",
       "\n",
       ".py output:\n",
       "__assert_approx_eq / actual: 12.345 / expected: 12.345\n",
       "\n"
      ]
     },
     "metadata": {},
     "output_type": "display_data"
    },
    {
     "name": "stdout",
     "output_type": "stream",
     "text": [
      ".fsx output:\n",
      "__assert_approx_eq / actual: 12.345 / expected: 12.345\n"
     ]
    }
   ],
   "source": [
    "//// test\n",
    "///! fsharp\n",
    "///! cuda\n",
    "///! rust\n",
    "///! typescript\n",
    "///! python\n",
    "\n",
    "12.345f64\n",
    "|> _assert_approx_eq (Some 0.0001f64) 12.345f64"
   ]
  },
  {
   "cell_type": "code",
   "execution_count": null,
   "metadata": {
    "dotnet_interactive": {
     "language": "spiral"
    },
    "polyglot_notebook": {
     "kernelName": "spiral"
    }
   },
   "outputs": [
    {
     "name": "stdout",
     "output_type": "stream",
     "text": [
      "let rec closure0 (v0 : string) () : unit =\n",
      "    let v1 : (string -> unit) = System.Console.WriteLine\n",
      "    v1 v0\n",
      "and method0 () : unit =\n",
      "    let v0 : string = \"__assert_approx_eq\"\n",
      "    let v1 : string = $\"{v0} / actual: %A{1.0} / expected: %A{2.0}\"\n",
      "    let v4 : unit = ()\n",
      "    let v5 : (unit -> unit) = closure0(v1)\n",
      "    let v6 : unit = (fun () -> v5 (); v4) ()\n",
      "    ()\n",
      "method0()\n",
      "\n",
      "__assert_approx_eq / actual: 1.0 / expected: 2.0\n"
     ]
    }
   ],
   "source": [
    "//// test\n",
    "//// print_code\n",
    "\n",
    "1f64\n",
    "|> __assert_approx_eq Console (Some 3) 2"
   ]
  },
  {
   "cell_type": "code",
   "execution_count": null,
   "metadata": {
    "dotnet_interactive": {
     "language": "spiral"
    },
    "polyglot_notebook": {
     "kernelName": "spiral"
    }
   },
   "outputs": [
    {
     "name": "stdout",
     "output_type": "stream",
     "text": [
      "let rec method1 (v0 : bool) : bool =\n",
      "    v0\n",
      "and closure0 (v0 : string) () : unit =\n",
      "    let v1 : (string -> unit) = System.Console.WriteLine\n",
      "    v1 v0\n",
      "and method0 () : unit =\n",
      "    let v0 : float = 1.0\n",
      "    let v1 : float = 2.0 - v0\n",
      "    let v2 : float =  -v1\n",
      "    let v3 : bool = v1 >= v2\n",
      "    let v4 : float =\n",
      "        if v3 then\n",
      "            v1\n",
      "        else\n",
      "            v2\n",
      "    let v5 : bool = v4 < 3.0\n",
      "    let v7 : bool =\n",
      "        if v5 then\n",
      "            true\n",
      "        else\n",
      "            method1(v5)\n",
      "    let v8 : string = \"__assert_approx_eq\"\n",
      "    let v9 : string = $\"{v8} / actual: %A{v0} / expected: %A{2.0}\"\n",
      "    let v12 : unit = ()\n",
      "    let v13 : (unit -> unit) = closure0(v9)\n",
      "    let v14 : unit = (fun () -> v13 (); v12) ()\n",
      "    let v16 : bool = v7 = false\n",
      "    if v16 then\n",
      "        failwith<unit> v9\n",
      "method0()\n",
      "\n",
      "__assert_approx_eq / actual: 1.0 / expected: 2.0\n"
     ]
    }
   ],
   "source": [
    "//// test\n",
    "//// print_code\n",
    "\n",
    "(dyn 1f64)\n",
    "|> _assert_approx_eq (Some 3) 2"
   ]
  },
  {
   "cell_type": "markdown",
   "metadata": {},
   "source": [
    "### __assert_eq"
   ]
  },
  {
   "cell_type": "code",
   "execution_count": null,
   "metadata": {
    "dotnet_interactive": {
     "language": "spiral"
    },
    "polyglot_notebook": {
     "kernelName": "spiral"
    }
   },
   "outputs": [],
   "source": [
    "inl rec __assert_eq trace b a =\n",
    "    __expect (=) trace (reflection.nameof { __assert_eq }) b a\n",
    "\n",
    "inl _assert_eq b a =\n",
    "    __assert_eq Console b a"
   ]
  },
  {
   "cell_type": "markdown",
   "metadata": {},
   "source": [
    "### __assert_eq'"
   ]
  },
  {
   "cell_type": "code",
   "execution_count": null,
   "metadata": {
    "dotnet_interactive": {
     "language": "spiral"
    },
    "polyglot_notebook": {
     "kernelName": "spiral"
    }
   },
   "outputs": [],
   "source": [
    "inl rec __assert_eq' trace b a =\n",
    "    __expect (=.) trace (reflection.nameof { __assert_eq' }) b a\n",
    "\n",
    "inl _assert_eq' b a =\n",
    "    __assert_eq' Console b a"
   ]
  },
  {
   "cell_type": "markdown",
   "metadata": {},
   "source": [
    "### __assert_ne"
   ]
  },
  {
   "cell_type": "code",
   "execution_count": null,
   "metadata": {
    "dotnet_interactive": {
     "language": "spiral"
    },
    "polyglot_notebook": {
     "kernelName": "spiral"
    }
   },
   "outputs": [],
   "source": [
    "inl rec __assert_ne trace b a =\n",
    "    __expect (<>.) trace (reflection.nameof { __assert_ne }) b a\n",
    "\n",
    "inl _assert_ne b a =\n",
    "    __assert_ne Console b a"
   ]
  },
  {
   "cell_type": "markdown",
   "metadata": {},
   "source": [
    "### __assert_gt"
   ]
  },
  {
   "cell_type": "code",
   "execution_count": null,
   "metadata": {
    "dotnet_interactive": {
     "language": "spiral"
    },
    "polyglot_notebook": {
     "kernelName": "spiral"
    }
   },
   "outputs": [],
   "source": [
    "inl rec __assert_gt trace b a =\n",
    "    __expect (>) trace (reflection.nameof { __assert_gt }) b a\n",
    "\n",
    "inl _assert_gt b a =\n",
    "    __assert_gt Console b a"
   ]
  },
  {
   "cell_type": "markdown",
   "metadata": {},
   "source": [
    "### __assert_ge"
   ]
  },
  {
   "cell_type": "code",
   "execution_count": null,
   "metadata": {
    "dotnet_interactive": {
     "language": "spiral"
    },
    "polyglot_notebook": {
     "kernelName": "spiral"
    }
   },
   "outputs": [],
   "source": [
    "inl rec __assert_ge trace b a =\n",
    "    __expect (>=) trace (reflection.nameof { __assert_ge }) b a\n",
    "\n",
    "inl _assert_ge b a =\n",
    "    __assert_ge Console b a"
   ]
  },
  {
   "cell_type": "markdown",
   "metadata": {},
   "source": [
    "### __assert_lt"
   ]
  },
  {
   "cell_type": "code",
   "execution_count": null,
   "metadata": {
    "dotnet_interactive": {
     "language": "spiral"
    },
    "polyglot_notebook": {
     "kernelName": "spiral"
    }
   },
   "outputs": [],
   "source": [
    "inl rec __assert_lt trace b a =\n",
    "    __expect (<) trace (reflection.nameof { __assert_lt }) b a\n",
    "\n",
    "inl _assert_lt b a =\n",
    "    __assert_lt Console b a"
   ]
  },
  {
   "cell_type": "markdown",
   "metadata": {},
   "source": [
    "### __assert_le"
   ]
  },
  {
   "cell_type": "code",
   "execution_count": null,
   "metadata": {
    "dotnet_interactive": {
     "language": "spiral"
    },
    "polyglot_notebook": {
     "kernelName": "spiral"
    }
   },
   "outputs": [],
   "source": [
    "inl rec __assert_le trace b a =\n",
    "    __expect (<=) trace (reflection.nameof { __assert_le }) b a\n",
    "\n",
    "inl _assert_le b a =\n",
    "    __assert_le Console b a"
   ]
  },
  {
   "cell_type": "markdown",
   "metadata": {},
   "source": [
    "### __assert"
   ]
  },
  {
   "cell_type": "code",
   "execution_count": null,
   "metadata": {
    "dotnet_interactive": {
     "language": "spiral"
    },
    "polyglot_notebook": {
     "kernelName": "spiral"
    }
   },
   "outputs": [],
   "source": [
    "inl rec __assert fn trace b a =\n",
    "    __expect fn trace (reflection.nameof { __assert }) a b\n",
    "\n",
    "inl _assert fn b a =\n",
    "    __assert fn Console b a"
   ]
  },
  {
   "cell_type": "markdown",
   "metadata": {},
   "source": [
    "### __assert_between"
   ]
  },
  {
   "cell_type": "code",
   "execution_count": null,
   "metadata": {
    "dotnet_interactive": {
     "language": "spiral"
    },
    "polyglot_notebook": {
     "kernelName": "spiral"
    }
   },
   "outputs": [],
   "source": [
    "inl rec __assert_between trace a b actual =\n",
    "    inl assert_between actual (a, b) =\n",
    "        __assert_ge Silent a actual\n",
    "        __assert_le Silent b actual\n",
    "        true\n",
    "    __expect assert_between trace (reflection.nameof { __assert_between }) (a, b) actual\n",
    "\n",
    "inl _assert_between a b actual =\n",
    "    __assert_between Console a b actual"
   ]
  },
  {
   "cell_type": "code",
   "execution_count": null,
   "metadata": {
    "dotnet_interactive": {
     "language": "spiral"
    },
    "polyglot_notebook": {
     "kernelName": "spiral"
    }
   },
   "outputs": [],
   "source": [
    "inl rec _assert_fn fn list =\n",
    "    list\n",
    "    |> listm.rev\n",
    "    |> listm.map fun input, expected => join\n",
    "        input\n",
    "        |> fn\n",
    "        |> resultm.get\n",
    "        |> fun x =>\n",
    "            inl expected' = join expected\n",
    "            inl name = reflection.nameof { _assert_fn }\n",
    "            try\n",
    "                fun () =>\n",
    "                    console.write_line \"\"\n",
    "                    trace Verbose\n",
    "                        fun () => name\n",
    "                        fun () => { input }\n",
    "                    x\n",
    "                    |> _assert_eq' expected'\n",
    "                    true\n",
    "                fun ex =>\n",
    "                    trace Critical\n",
    "                        fun () =>\n",
    "                            $'$\"{!name} / error\"'\n",
    "                        fun () => { ex expected }\n",
    "                    Some false\n",
    "            |> optionm.value\n",
    "    |> listm'.filter not\n",
    "    |> function\n",
    "        | [] => ()\n",
    "        | x => failwith $'$\"{!x}\"'"
   ]
  },
  {
   "cell_type": "markdown",
   "metadata": {},
   "source": [
    "## fsharp"
   ]
  },
  {
   "cell_type": "markdown",
   "metadata": {},
   "source": [
    "### __assert_contains"
   ]
  },
  {
   "cell_type": "code",
   "execution_count": null,
   "metadata": {
    "dotnet_interactive": {
     "language": "spiral"
    },
    "polyglot_notebook": {
     "kernelName": "spiral"
    }
   },
   "outputs": [],
   "source": [
    "inl rec __assert_contains forall t u. (trace : testing_trace) (b : t) (a : u) : () =\n",
    "    __expect\n",
    "        fun a b =>\n",
    "            a\n",
    "            |> $'List.ofSeq'\n",
    "            |> fun x => x : listm'.list' t\n",
    "            |> $'List.tryFind' ((=) b)\n",
    "            |> optionm'.unbox\n",
    "            |> fun (x : option t) => x <> None\n",
    "        trace\n",
    "        // TODO: forall nameof (Cannot dyn a forall into a runtime var.)\n",
    "        // Metavars that are not part of the enclosing function's signature are not allowed. They need to be values.\n",
    "        // Got: {__assert_contains : testing_trace -> _ -> _ -> ()} -> string\n",
    "        // (reflection.nameof { __assert_contains })\n",
    "        \"__assert_contains\"\n",
    "        b\n",
    "        a\n",
    "\n",
    "inl _assert_contains b a =\n",
    "    __assert_contains Console b a"
   ]
  },
  {
   "cell_type": "code",
   "execution_count": null,
   "metadata": {
    "dotnet_interactive": {
     "language": "spiral"
    },
    "polyglot_notebook": {
     "kernelName": "spiral"
    }
   },
   "outputs": [
    {
     "name": "stdout",
     "output_type": "stream",
     "text": [
      "__assert_contains / actual: [|\"a\"; \"b\"; \"c\"|] / expected: \"b\"\n"
     ]
    }
   ],
   "source": [
    "//// test\n",
    "\n",
    ";[ \"a\"; \"b\"; \"c\" ]\n",
    "|> _assert_contains \"b\""
   ]
  },
  {
   "cell_type": "code",
   "execution_count": null,
   "metadata": {
    "dotnet_interactive": {
     "language": "spiral"
    },
    "polyglot_notebook": {
     "kernelName": "spiral"
    }
   },
   "outputs": [
    {
     "name": "stdout",
     "output_type": "stream",
     "text": [
      "__assert_contains / actual: \"abcd\" / expected: 'b'\n"
     ]
    }
   ],
   "source": [
    "//// test\n",
    "\n",
    "\"abcd\"\n",
    "|> _assert_contains 'b'"
   ]
  },
  {
   "cell_type": "markdown",
   "metadata": {},
   "source": [
    "### _throws"
   ]
  },
  {
   "cell_type": "code",
   "execution_count": null,
   "metadata": {
    "dotnet_interactive": {
     "language": "spiral"
    },
    "polyglot_notebook": {
     "kernelName": "spiral"
    }
   },
   "outputs": [],
   "source": [
    "inl _throws (fn : () -> ()) : option exn =\n",
    "    inl none = None : option exn\n",
    "    inl some (s : exn) = Some s\n",
    "    $'try !fn (); !none with ex -> ex |> !some '"
   ]
  },
  {
   "cell_type": "markdown",
   "metadata": {},
   "source": [
    "### print_and_return"
   ]
  },
  {
   "cell_type": "code",
   "execution_count": null,
   "metadata": {
    "dotnet_interactive": {
     "language": "spiral"
    },
    "polyglot_notebook": {
     "kernelName": "spiral"
    }
   },
   "outputs": [],
   "source": [
    "inl rec print_and_return x =\n",
    "    inl name = reflection.nameof { print_and_return }\n",
    "    $'printfn $\"{!name} / x: {!x}\"'\n",
    "    x"
   ]
  }
 ],
 "metadata": {},
 "nbformat": 4,
 "nbformat_minor": 5
}