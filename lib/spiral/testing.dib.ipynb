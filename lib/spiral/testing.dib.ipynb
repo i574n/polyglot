{
 "cells": [
  {
   "cell_type": "markdown",
   "metadata": {},
   "source": [
    "# testing"
   ]
  },
  {
   "cell_type": "code",
   "execution_count": null,
   "metadata": {
    "dotnet_interactive": {
     "language": "spiral"
    },
    "polyglot_notebook": {
     "kernelName": "spiral"
    }
   },
   "outputs": [
    {
     "name": "stdout",
     "output_type": "stream",
     "text": [
      "()\n",
      "\n"
     ]
    }
   ],
   "source": [
    "inl __expect fn log b a =\n",
    "    inl result = fn a b\n",
    "    inl result =\n",
    "        result || join result\n",
    "    if log\n",
    "    then $\"$\\\"__expect / actual: %A{!a} / expected: %A{!b}\\\"\"\n",
    "    else \"__expect\"\n",
    "    |> assert result\n",
    "\n",
    "inl __assert_approx_eq log e b a = __expect (fun a b => abs (b - a) < (e |> optionm.defaultWith 0.00000001)) log b a\n",
    "inl _assert_approx_eq e b a = __assert_approx_eq true e b a\n",
    "\n",
    "inl __assert_eq log b a = __expect (=) log b a\n",
    "inl _assert_eq b a = __assert_eq true b a\n",
    "\n",
    "inl __assert_ne log b a = __expect (fun a b => a = b |> fun x => join x |> not) log b a\n",
    "inl _assert_ne b a = __assert_ne true b a\n",
    "\n",
    "inl __assert_gt log b a = __expect (>) log b a\n",
    "inl _assert_gt b a = __assert_gt true b a\n",
    "\n",
    "inl __assert_ge log b a = __expect (>=) log b a\n",
    "inl _assert_ge b a = __assert_ge true b a\n",
    "\n",
    "inl __assert_lt log b a = __expect (<) log b a\n",
    "inl _assert_lt b a = __assert_lt true b a\n",
    "\n",
    "inl __assert_le log b a = __expect (<=) log b a\n",
    "inl _assert_le b a = __assert_le true b a\n",
    "\n",
    "inl _throws (fn : () -> ()) : option string =\n",
    "    inl none = None : option string\n",
    "    inl some (s : string) = Some s\n",
    "    $\"try !fn (); !none with ex -> !some ex.Message\""
   ]
  },
  {
   "cell_type": "code",
   "execution_count": null,
   "metadata": {
    "dotnet_interactive": {
     "language": "spiral"
    },
    "polyglot_notebook": {
     "kernelName": "spiral"
    }
   },
   "outputs": [
    {
     "name": "stdout",
     "output_type": "stream",
     "text": [
      "let rec method0 () : unit =\n",
      "    let v0 : string = $\"__expect / actual: %A{1.0} / expected: %A{2.0}\"\n",
      "    ()\n",
      "method0()\n",
      "\n"
     ]
    }
   ],
   "source": [
    "// // test\n",
    "\n",
    "1f64\n",
    "|> _assert_approx_eq (Some 3) 2"
   ]
  },
  {
   "cell_type": "code",
   "execution_count": null,
   "metadata": {
    "dotnet_interactive": {
     "language": "spiral"
    },
    "polyglot_notebook": {
     "kernelName": "spiral"
    }
   },
   "outputs": [
    {
     "name": "stdout",
     "output_type": "stream",
     "text": [
      "let rec method1 (v0 : bool) : bool =\n",
      "    v0\n",
      "and method0 () : unit =\n",
      "    let v0 : float = 1.0\n",
      "    let v1 : float = 2.0 - v0\n",
      "    let v2 : float =  -v1\n",
      "    let v3 : bool = v1 >= v2\n",
      "    let v4 : float =\n",
      "        if v3 then\n",
      "            v1\n",
      "        else\n",
      "            v2\n",
      "    let v5 : bool = v4 < 3.0\n",
      "    let v7 : bool =\n",
      "        if v5 then\n",
      "            true\n",
      "        else\n",
      "            method1(v5)\n",
      "    let v8 : string = $\"__expect / actual: %A{v0} / expected: %A{2.0}\"\n",
      "    let v9 : bool = v7 = false\n",
      "    if v9 then\n",
      "        failwith<unit> v8\n",
      "method0()\n",
      "\n"
     ]
    }
   ],
   "source": [
    "// // test\n",
    "\n",
    "(dyn 1f64)\n",
    "|> _assert_approx_eq (Some 3) 2"
   ]
  },
  {
   "cell_type": "code",
   "execution_count": null,
   "metadata": {
    "dotnet_interactive": {
     "language": "spiral"
    },
    "polyglot_notebook": {
     "kernelName": "spiral"
    }
   },
   "outputs": [
    {
     "name": "stdout",
     "output_type": "stream",
     "text": [
      "()\n",
      "\n"
     ]
    }
   ],
   "source": [
    "inl print_and_return x =\n",
    "    $\"printfn $\\\"print_and_return / x: {!x}\\\"\"\n",
    "    x"
   ]
  }
 ],
 "metadata": {},
 "nbformat": 4,
 "nbformat_minor": 5
}