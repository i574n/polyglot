{
 "cells": [
  {
   "cell_type": "markdown",
   "metadata": {},
   "source": [
    "# testing"
   ]
  },
  {
   "cell_type": "code",
   "execution_count": null,
   "metadata": {
    "dotnet_interactive": {
     "language": "spiral"
    },
    "polyglot_notebook": {
     "kernelName": "spiral"
    }
   },
   "outputs": [
    {
     "name": "stdout",
     "output_type": "stream",
     "text": [
      "()\n",
      "\n"
     ]
    }
   ],
   "source": [
    "inl __expect fn log name b a =\n",
    "    inl result = fn a b\n",
    "    inl result =\n",
    "        result || join result\n",
    "    if log |> not\n",
    "    then \"__expect\"\n",
    "    else\n",
    "        inl text = $'$\"{!name} / actual: %A{!a} / expected: %A{!b}\"'\n",
    "        text |> console.write_line\n",
    "        text\n",
    "    |> assert result\n",
    "\n",
    "inl __assert_approx_eq log e b a = __expect (fun a b => abs (b - a) < (e |> optionm.defaultWith 0.00000001)) log \"assert_approx_eq\" b a\n",
    "inl _assert_approx_eq e b a = __assert_approx_eq true e b a\n",
    "\n",
    "inl __assert_eq log b a = __expect (=) log \"assert_eq\" b a\n",
    "inl _assert_eq b a = __assert_eq true b a\n",
    "\n",
    "inl __assert_eq' log b a = __expect (=.) log \"assert_eq'\" b a\n",
    "inl _assert_eq' b a = __assert_eq' true b a\n",
    "\n",
    "inl __assert_ne log b a = __expect (<>.) log \"assert_ne\" b a\n",
    "inl _assert_ne b a = __assert_ne true b a\n",
    "\n",
    "inl __assert_gt log b a = __expect (>) log \"assert_gt\" b a\n",
    "inl _assert_gt b a = __assert_gt true b a\n",
    "\n",
    "inl __assert_ge log b a = __expect (>=) log \"assert_ge\" b a\n",
    "inl _assert_ge b a = __assert_ge true b a\n",
    "\n",
    "inl __assert_lt log b a = __expect (<) log \"assert_lt\" b a\n",
    "inl _assert_lt b a = __assert_lt true b a\n",
    "\n",
    "inl __assert_le log b a = __expect (<=) log \"assert_le\" b a\n",
    "inl _assert_le b a = __assert_le true b a\n",
    "\n",
    "inl __assert_contains forall t. log (b : t) a =\n",
    "    __expect\n",
    "        fun a b =>\n",
    "            a\n",
    "            |> $'List.ofSeq'\n",
    "            |> fun x => x : listm'.list' t\n",
    "            |> $'List.tryFind' ((=) b)\n",
    "            |> optionm'.unbox\n",
    "            |> fun (x : _ t) => x <> None\n",
    "        log \"assert_contains\" b a\n",
    "inl _assert_contains b a = __assert_contains true b a\n",
    "\n",
    "inl __assert_string_contains log b a = __expect sm'.contains log \"assert_string_contains\" a b\n",
    "inl _assert_string_contains b a = __assert_string_contains true b a\n",
    "\n",
    "inl _throws (fn : () -> ()) : option exn =\n",
    "    inl none = None : option exn\n",
    "    inl some (s : exn) = Some s\n",
    "    $\"try !fn (); !none with ex -> ex |> !some\"\n",
    "\n",
    "inl __assert_between log a b actual =\n",
    "    inl assert_between actual (a, b) =\n",
    "        __assert_ge false a actual\n",
    "        __assert_le false b actual\n",
    "        true\n",
    "    __expect assert_between log \"assert_between\" (a, b) actual\n",
    "inl _assert_between a b actual = __assert_between true a b actual"
   ]
  },
  {
   "cell_type": "code",
   "execution_count": null,
   "metadata": {
    "dotnet_interactive": {
     "language": "spiral"
    },
    "polyglot_notebook": {
     "kernelName": "spiral"
    }
   },
   "outputs": [
    {
     "name": "stdout",
     "output_type": "stream",
     "text": [
      "let rec method0 () : unit =\n",
      "    let v0 : string = \"assert_approx_eq\"\n",
      "    let v1 : string = $\"{v0} / actual: %A{1.0} / expected: %A{2.0}\"\n",
      "    System.Console.WriteLine v1\n",
      "    ()\n",
      "method0()\n",
      "\n",
      "assert_approx_eq / actual: 1.0 / expected: 2.0\n"
     ]
    }
   ],
   "source": [
    "//// test\n",
    "\n",
    "1f64\n",
    "|> _assert_approx_eq (Some 3) 2"
   ]
  },
  {
   "cell_type": "code",
   "execution_count": null,
   "metadata": {
    "dotnet_interactive": {
     "language": "spiral"
    },
    "polyglot_notebook": {
     "kernelName": "spiral"
    }
   },
   "outputs": [
    {
     "name": "stdout",
     "output_type": "stream",
     "text": [
      "type [<Struct>] US0 =\n",
      "    | US0_0 of f0_0 : char\n",
      "    | US0_1\n",
      "let rec closure0 () (v0 : char) : bool =\n",
      "    let v1 : bool = 'b' = v0\n",
      "    v1\n",
      "and method1 (v0 : bool) : bool =\n",
      "    v0\n",
      "and method0 () : unit =\n",
      "    let v0 : (string -> char list) = List.ofSeq\n",
      "    let v1 : string = \"abcd\"\n",
      "    let v2 : char list = v0 v1\n",
      "    let v3 : ((char -> bool) -> (char list -> char option)) = List.tryFind\n",
      "    let v4 : (char -> bool) = closure0()\n",
      "    let v5 : (char list -> char option) = v3 v4\n",
      "    let v6 : char option = v5 v2\n",
      "    let v7 : US0 option = None\n",
      "    let _v7 = ref v7 \n",
      "    match v6 with\n",
      "    | Some x -> (\n",
      "    (fun () ->\n",
      "    (fun () ->\n",
      "    let v8 : char = x\n",
      "    let v9 : US0 = US0_0(v8)\n",
      "    v9 \n",
      "    )\n",
      "    |> fun x -> x () |> Some\n",
      "    ) () ) | None -> None\n",
      "    |> fun x -> _v7.Value <- x\n",
      "    let v10 : US0 option = _v7.Value \n",
      "    let v11 : US0 = US0_1\n",
      "    let v12 : US0 = v10 |> Option.defaultValue v11 \n",
      "    let v14 : bool =\n",
      "        match v12 with\n",
      "        | US0_1 -> (* None *)\n",
      "            true\n",
      "        | _ ->\n",
      "            false\n",
      "    let v15 : bool = v14 <> true\n",
      "    let v17 : bool =\n",
      "        if v15 then\n",
      "            true\n",
      "        else\n",
      "            method1(v15)\n",
      "    let v18 : string = \"assert_contains\"\n",
      "    let v19 : string = $\"{v18} / actual: %A{v1} / expected: %A{'b'}\"\n",
      "    System.Console.WriteLine v19\n",
      "    let v20 : bool = v17 = false\n",
      "    if v20 then\n",
      "        failwith<unit> v19\n",
      "method0()\n",
      "\n",
      "assert_contains / actual: \"abcd\" / expected: 'b'\n"
     ]
    }
   ],
   "source": [
    "//// test\n",
    "\n",
    "\"abcd\"\n",
    "|> _assert_contains 'b'"
   ]
  },
  {
   "cell_type": "code",
   "execution_count": null,
   "metadata": {
    "dotnet_interactive": {
     "language": "spiral"
    },
    "polyglot_notebook": {
     "kernelName": "spiral"
    }
   },
   "outputs": [
    {
     "name": "stdout",
     "output_type": "stream",
     "text": [
      "let rec method1 (v0 : bool) : bool =\n",
      "    v0\n",
      "and method0 () : unit =\n",
      "    let v0 : float = 1.0\n",
      "    let v1 : float = 2.0 - v0\n",
      "    let v2 : float =  -v1\n",
      "    let v3 : bool = v1 >= v2\n",
      "    let v4 : float =\n",
      "        if v3 then\n",
      "            v1\n",
      "        else\n",
      "            v2\n",
      "    let v5 : bool = v4 < 3.0\n",
      "    let v7 : bool =\n",
      "        if v5 then\n",
      "            true\n",
      "        else\n",
      "            method1(v5)\n",
      "    let v8 : string = \"assert_approx_eq\"\n",
      "    let v9 : string = $\"{v8} / actual: %A{v0} / expected: %A{2.0}\"\n",
      "    System.Console.WriteLine v9\n",
      "    let v10 : bool = v7 = false\n",
      "    if v10 then\n",
      "        failwith<unit> v9\n",
      "method0()\n",
      "\n",
      "assert_approx_eq / actual: 1.0 / expected: 2.0\n"
     ]
    }
   ],
   "source": [
    "//// test\n",
    "\n",
    "(dyn 1f64)\n",
    "|> _assert_approx_eq (Some 3) 2"
   ]
  },
  {
   "cell_type": "code",
   "execution_count": null,
   "metadata": {
    "dotnet_interactive": {
     "language": "spiral"
    },
    "polyglot_notebook": {
     "kernelName": "spiral"
    }
   },
   "outputs": [
    {
     "name": "stdout",
     "output_type": "stream",
     "text": [
      "()\n",
      "\n"
     ]
    }
   ],
   "source": [
    "inl print_and_return x =\n",
    "    $\"printfn $\\\"print_and_return / x: {!x}\\\"\"\n",
    "    x"
   ]
  }
 ],
 "metadata": {},
 "nbformat": 4,
 "nbformat_minor": 5
}