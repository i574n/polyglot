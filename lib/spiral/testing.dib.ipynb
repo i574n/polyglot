{
 "cells": [
  {
   "cell_type": "markdown",
   "metadata": {},
   "source": [
    "# testing"
   ]
  },
  {
   "cell_type": "code",
   "execution_count": null,
   "metadata": {
    "dotnet_interactive": {
     "language": "spiral"
    },
    "polyglot_notebook": {
     "kernelName": "spiral"
    }
   },
   "outputs": [
    {
     "name": "stdout",
     "output_type": "stream",
     "text": [
      "()\n",
      "\n"
     ]
    }
   ],
   "source": [
    "inl __expect fn log b a =\n",
    "    if log\n",
    "    then $\"$\\\"__expect / actual: %A{!a} / expected: %A{!b}\\\"\"\n",
    "    else \"__expect\"\n",
    "    |> assert (fn a b)\n",
    "\n",
    "inl __almost_equal log b a = __expect (fun a b => abs (b - a) < 0.00000001) log b a\n",
    "inl _almost_equal b a = __almost_equal true b a\n",
    "\n",
    "inl __equal log b a = __expect (=) log b a\n",
    "inl _equal b a = __equal true b a\n",
    "\n",
    "inl __is_greater_than log b a = __expect (>) log b a\n",
    "inl _is_greater_than b a = __is_greater_than true b a\n",
    "\n",
    "inl __is_greater_than_or_equal log b a = __expect (>=) log b a\n",
    "inl _is_greater_than_or_equal b a = __is_greater_than_or_equal true b a\n",
    "\n",
    "inl __is_less_than log b a = __expect (<) log b a\n",
    "inl _is_less_than b a = __is_less_than true b a\n",
    "\n",
    "inl __is_less_than_or_equal log b a = __expect (<=) log b a\n",
    "inl _is_less_than_or_equal b a = __is_less_than_or_equal true b a\n",
    "\n",
    "inl _throws (fn : () -> ()) : option string =\n",
    "    inl none = None : option string\n",
    "    inl some (s : string) = Some s\n",
    "    $\"try !fn (); !none with ex -> !some ex.Message\""
   ]
  },
  {
   "cell_type": "code",
   "execution_count": null,
   "metadata": {
    "dotnet_interactive": {
     "language": "spiral"
    },
    "polyglot_notebook": {
     "kernelName": "spiral"
    }
   },
   "outputs": [
    {
     "name": "stdout",
     "output_type": "stream",
     "text": [
      "()\n",
      "\n"
     ]
    }
   ],
   "source": [
    "inl print_and_return x =\n",
    "    $\"printfn $\\\"print_and_return / x: {!x}\\\"\"\n",
    "    x"
   ]
  }
 ],
 "metadata": {},
 "nbformat": 4,
 "nbformat_minor": 5
}