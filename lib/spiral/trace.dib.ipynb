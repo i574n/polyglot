{
 "cells": [
  {
   "cell_type": "markdown",
   "metadata": {},
   "source": [
    "# trace"
   ]
  },
  {
   "cell_type": "code",
   "execution_count": null,
   "metadata": {
    "dotnet_interactive": {
     "language": "spiral"
    },
    "polyglot_notebook": {
     "kernelName": "spiral"
    }
   },
   "outputs": [],
   "source": [
    "//// test\n",
    "\n",
    "open testing"
   ]
  },
  {
   "cell_type": "markdown",
   "metadata": {},
   "source": [
    "## trace"
   ]
  },
  {
   "cell_type": "markdown",
   "metadata": {},
   "source": [
    "### trace_level"
   ]
  },
  {
   "cell_type": "code",
   "execution_count": null,
   "metadata": {
    "dotnet_interactive": {
     "language": "spiral"
    },
    "polyglot_notebook": {
     "kernelName": "spiral"
    }
   },
   "outputs": [],
   "source": [
    "union trace_level =\n",
    "    | Verbose\n",
    "    | Debug\n",
    "    | Info\n",
    "    | Warning\n",
    "    | Critical"
   ]
  },
  {
   "cell_type": "markdown",
   "metadata": {},
   "source": [
    "### read_state"
   ]
  },
  {
   "cell_type": "code",
   "execution_count": null,
   "metadata": {
    "dotnet_interactive": {
     "language": "spiral"
    },
    "polyglot_notebook": {
     "kernelName": "spiral"
    }
   },
   "outputs": [],
   "source": [
    "inl read_state () =\n",
    "    run_target function\n",
    "        | Rust (Contract | Wasm) => fun () =>\n",
    "            {\n",
    "                trace_level = None\n",
    "                repl_start = None\n",
    "            }\n",
    "        | _ => fun () =>\n",
    "            {\n",
    "                trace_level =\n",
    "                    (join \"TRACE_LEVEL\")\n",
    "                    |> env.get_environment_variable\n",
    "                    |> reflection.union_try_pick\n",
    "                repl_start =\n",
    "                    inl automation = env.get_environment_variable (join \"AUTOMATION\")\n",
    "                    if automation = \"True\"\n",
    "                    then date_time.now () |> date_time.ticks |> fun (date_time.timestamp x) => x |> Some\n",
    "                    else None\n",
    "            }"
   ]
  },
  {
   "cell_type": "markdown",
   "metadata": {},
   "source": [
    "### trace_state"
   ]
  },
  {
   "cell_type": "code",
   "execution_count": null,
   "metadata": {
    "dotnet_interactive": {
     "language": "spiral"
    },
    "polyglot_notebook": {
     "kernelName": "spiral"
    }
   },
   "outputs": [],
   "source": [
    "type trace_state =\n",
    "    {\n",
    "        count : mut i64\n",
    "        trace_file : mut (string -> ())\n",
    "        enabled : mut bool\n",
    "        level : mut trace_level\n",
    "        repl_start : optionm'.option' i64\n",
    "    }\n",
    "\n",
    "inl new_trace_state trace_level' =\n",
    "    inl { repl_start trace_level } = read_state ()\n",
    "    {\n",
    "        enabled = mut true\n",
    "        count = mut 0i64\n",
    "        level = trace_level |> optionm'.default_value trace_level' |> mut\n",
    "        trace_file = mut ignore\n",
    "        repl_start = repl_start |> optionm'.box\n",
    "    } : trace_state"
   ]
  },
  {
   "cell_type": "markdown",
   "metadata": {},
   "source": [
    "### init_trace_state"
   ]
  },
  {
   "cell_type": "code",
   "execution_count": null,
   "metadata": {
    "dotnet_interactive": {
     "language": "spiral"
    },
    "polyglot_notebook": {
     "kernelName": "spiral"
    }
   },
   "outputs": [],
   "source": [
    "inl init_trace_state trace_level : () =\n",
    "    inl trace_level =\n",
    "        trace_level\n",
    "        |> optionm'.default_value Verbose\n",
    "    backend_switch {\n",
    "        Fsharp = fun () =>\n",
    "            global \"module State = let mutable trace_state = None\"\n",
    "            $'if State.trace_state.IsNone then State.trace_state <- !new_trace_state !trace_level |> Some' : ()\n",
    "        Python = fun () =>\n",
    "            global \"class State: trace_state = None\"\n",
    "            $'if State.trace_state is None: State.trace_state = !new_trace_state(!trace_level)' : ()\n",
    "    }"
   ]
  },
  {
   "cell_type": "markdown",
   "metadata": {},
   "source": [
    "### get_trace_state_or_init"
   ]
  },
  {
   "cell_type": "code",
   "execution_count": null,
   "metadata": {
    "dotnet_interactive": {
     "language": "spiral"
    },
    "polyglot_notebook": {
     "kernelName": "spiral"
    }
   },
   "outputs": [],
   "source": [
    "inl get_trace_state_or_init trace_level : trace_state =\n",
    "    init_trace_state trace_level\n",
    "    // $'match State.trace_state with Some x -> x | None -> failwith \"trace.get_trace_state_or_init / State.trace_state=None\"'\n",
    "    backend_switch {\n",
    "        Fsharp = fun () =>\n",
    "            $'State.trace_state.Value' : trace_state\n",
    "        Python = fun () =>\n",
    "            $'State.trace_state' : trace_state\n",
    "    }"
   ]
  },
  {
   "cell_type": "markdown",
   "metadata": {},
   "source": [
    "### test_trace_level"
   ]
  },
  {
   "cell_type": "code",
   "execution_count": null,
   "metadata": {
    "dotnet_interactive": {
     "language": "spiral"
    },
    "polyglot_notebook": {
     "kernelName": "spiral"
    }
   },
   "outputs": [],
   "source": [
    "inl test_trace_level level : bool =\n",
    "    inl state = get_trace_state_or_init None\n",
    "    inl level' = *state.level\n",
    "    if *state.enabled |> not\n",
    "    then false\n",
    "    else\n",
    "        inl level : i32 = real real_core.union_tag level\n",
    "        inl level' : i32 = real real_core.union_tag level'\n",
    "        level >= level'"
   ]
  },
  {
   "cell_type": "code",
   "execution_count": null,
   "metadata": {
    "dotnet_interactive": {
     "language": "spiral"
    },
    "polyglot_notebook": {
     "kernelName": "spiral"
    }
   },
   "outputs": [
    {
     "data": {
      "text/plain": [
       "\n",
       ".py output (Cuda):\n",
       "assert_eq / actual: True / expected: True\n",
       "assert_eq / actual: True / expected: True\n",
       "assert_eq / actual: False / expected: False\n",
       "assert_eq / actual: True / expected: True\n",
       "\n",
       "\n",
       ".rs output:\n",
       "assert_eq / actual: true / expected: true\n",
       "assert_eq / actual: true / expected: true\n",
       "assert_eq / actual: false / expected: false\n",
       "assert_eq / actual: true / expected: true\n",
       "\n",
       "\n",
       ".ts output:\n",
       "assert_eq / actual: true / expected: true\n",
       "assert_eq / actual: true / expected: true\n",
       "assert_eq / actual: false / expected: false\n",
       "assert_eq / actual: true / expected: true\n",
       "\n",
       "\n",
       ".py output:\n",
       "assert_eq / actual: true / expected: true\n",
       "assert_eq / actual: true / expected: true\n",
       "assert_eq / actual: false / expected: false\n",
       "assert_eq / actual: true / expected: true\n",
       "\n",
       "\n"
      ]
     },
     "metadata": {},
     "output_type": "display_data"
    },
    {
     "name": "stdout",
     "output_type": "stream",
     "text": [
      ".fsx output:\n",
      "assert_eq / actual: true / expected: true\n",
      "assert_eq / actual: true / expected: true\n",
      "assert_eq / actual: false / expected: false\n",
      "assert_eq / actual: true / expected: true\n"
     ]
    }
   ],
   "source": [
    "//// test\n",
    "///! fsharp\n",
    "///! cuda\n",
    "///! rust\n",
    "///! typescript\n",
    "///! python\n",
    "\n",
    "test_trace_level Critical |> _assert_eq true\n",
    "test_trace_level Verbose |> _assert_eq true\n",
    "\n",
    "inl level = get_trace_state_or_init None .level\n",
    "level <- Debug\n",
    "test_trace_level Verbose |> _assert_eq false\n",
    "level <- Verbose\n",
    "test_trace_level Verbose |> _assert_eq true"
   ]
  },
  {
   "cell_type": "markdown",
   "metadata": {},
   "source": [
    "### trace_raw"
   ]
  },
  {
   "cell_type": "code",
   "execution_count": null,
   "metadata": {
    "dotnet_interactive": {
     "language": "spiral"
    },
    "polyglot_notebook": {
     "kernelName": "spiral"
    }
   },
   "outputs": [],
   "source": [
    "let rec trace_raw level fn =\n",
    "    inl trace_state = get_trace_state_or_init None\n",
    "    if level |> test_trace_level then\n",
    "        inl count = trace_state.count\n",
    "        count <- *count + 1\n",
    "\n",
    "        inl text =\n",
    "            backend_switch {\n",
    "                Fsharp = fun () => $'$\"%s{!fn ()}\"' : string\n",
    "                Python = fun () => fn () : string\n",
    "            }\n",
    "        run_target function\n",
    "            | Rust _ => fun () =>\n",
    "                open rust_operators\n",
    "                !\\\\(text, $'\\@\"println\\!(\"\"{}\"\", $0)\"')\n",
    "            | _ => fun () =>\n",
    "                backend_switch {\n",
    "                    Fsharp = fun () => $'System.Console.WriteLine !text ' : ()\n",
    "                    Python = fun () => $'print(!text)' : ()\n",
    "                }\n",
    "\n",
    "        *trace_state.trace_file text"
   ]
  },
  {
   "cell_type": "markdown",
   "metadata": {},
   "source": [
    "### trace"
   ]
  },
  {
   "cell_type": "code",
   "execution_count": null,
   "metadata": {
    "dotnet_interactive": {
     "language": "spiral"
    },
    "polyglot_notebook": {
     "kernelName": "spiral"
    }
   },
   "outputs": [],
   "source": [
    "let trace (level : trace_level) (text_fn : () -> string) (locals : () -> _) =\n",
    "    fun () =>\n",
    "        inl trace_state = get_trace_state_or_init None\n",
    "        inl time =\n",
    "            run_target fun target =>\n",
    "                match target with\n",
    "                | Rust (Contract) => fun () => join \"\"\n",
    "                | _ => fun () =>\n",
    "                    match trace_state.repl_start |> optionm'.unbox with\n",
    "                    | Some repl_start =>\n",
    "                        inl t =\n",
    "                            (date_time.now () |> date_time.ticks |> fun (date_time.timestamp x) => x)\n",
    "                            - repl_start |> date_time.time_span\n",
    "                        date_time.date_time_milliseconds\n",
    "                            1i32 1i32 1i32\n",
    "                            (t |> date_time.hours)\n",
    "                            (t |> date_time.minutes)\n",
    "                            (t |> date_time.seconds)\n",
    "                            (t |> date_time.milliseconds)\n",
    "                    | None => date_time.now ()\n",
    "                    |> date_time.format (\n",
    "                        backend_switch {\n",
    "                            Fsharp = fun () =>\n",
    "                                match target with\n",
    "                                | Rust _ => join \"hh:mm:ss\"\n",
    "                                | _ => join \"HH:mm:ss\"\n",
    "                            Python = fun () => \"%H:%M:%S\"\n",
    "                        }\n",
    "                    )\n",
    "        inl level_str = level |> reflection.union_to_string |> sm'.to_lower |> sm'.pad_left 7 ' '\n",
    "        inl level_str =\n",
    "            run_target function\n",
    "            | Rust _ => fun () =>\n",
    "                open rust_operators\n",
    "                inl color : rust.ref sm'.str =\n",
    "                    match level with\n",
    "                    | Verbose => !\\($'\"inline_colorization::color_bright_black\"')\n",
    "                    | Debug => !\\($'\"inline_colorization::color_bright_blue\"')\n",
    "                    | Info => !\\($'\"inline_colorization::color_bright_green\"')\n",
    "                    | Warning => !\\($'\"inline_colorization::color_yellow\"')\n",
    "                    | Critical => !\\($'\"inline_colorization::color_bright_red\"')\n",
    "                inl level_str = level_str |> sm'.as_str\n",
    "                inl color_reset : rust.ref sm'.str = !\\($'\"inline_colorization::color_reset\"')\n",
    "                $'\"\\\\\\\"{!color}{!level_str}{!color_reset}\\\\\\\"\"'\n",
    "                |> sm'.format''\n",
    "                |> sm'.from_std_string\n",
    "            | _ => fun () =>\n",
    "                inl color =\n",
    "                    match level with\n",
    "                    | Verbose => $'\"\\\\u001b[90m\"'\n",
    "                    | Debug => $'\"\\\\u001b[94m\"'\n",
    "                    | Info => $'\"\\\\u001b[92m\"'\n",
    "                    | Warning => $'\"\\\\u001b[93m\"'\n",
    "                    | Critical => $'\"\\\\u001b[91m\"'\n",
    "                inl color_reset = join $'\"\\\\u001b[0m\"'\n",
    "                color +. level_str +. color_reset\n",
    "        inl count = *trace_state.count\n",
    "        inl locals = locals () |> sm'.format\n",
    "        backend_switch {\n",
    "            Fsharp = fun () => $'$\"{!time} {!level_str} #{!count} %s{!text_fn ()} / {!locals}\"' : string\n",
    "            Python = fun () => $'f\"{!time} {!level_str} #{!count} {!text_fn()} / {!locals}\"' : string\n",
    "        }\n",
    "        |> sm'.trim_start []\n",
    "        |> sm'.trim_end [ ' '; '/' ]\n",
    "    |> trace_raw level"
   ]
  },
  {
   "cell_type": "code",
   "execution_count": null,
   "metadata": {
    "dotnet_interactive": {
     "language": "spiral"
    },
    "polyglot_notebook": {
     "kernelName": "spiral"
    }
   },
   "outputs": [
    {
     "data": {
      "text/plain": [
       "\n",
       ".py output (Cuda):\n",
       "00:00:01 \u001B[94m  debug\u001B[0m #1 test1\n",
       "00:00:07 \u001B[94m  debug\u001B[0m #2 test2\n",
       "assert_eq / actual: 2 / expected: 2\n",
       "\n",
       "\n",
       ".rs output:\n",
       "00:00:00 \u001B[94m  debug\u001B[39m #1 test1\n",
       "00:00:00 \u001B[94m  debug\u001B[39m #2 test2\n",
       "assert_eq / actual: 2 / expected: 2\n",
       "\n",
       "\n",
       ".ts output:\n",
       "00:00:00 \u001B[94m  debug\u001B[0m #1 test1\n",
       "00:00:00 \u001B[94m  debug\u001B[0m #2 test2\n",
       "assert_eq / actual: 2 / expected: 2\n",
       "\n",
       "\n",
       ".py output:\n",
       "00:00:00 \u001B[94m  debug\u001B[0m #1 test1\n",
       "00:00:00 \u001B[94m  debug\u001B[0m #2 test2\n",
       "assert_eq / actual: 2 / expected: 2\n",
       "\n",
       "\n"
      ]
     },
     "metadata": {},
     "output_type": "display_data"
    },
    {
     "name": "stdout",
     "output_type": "stream",
     "text": [
      ".fsx output:\n",
      "00:00:00 \u001B[94m  debug\u001B[0m #1 test1\n",
      "00:00:00 \u001B[94m  debug\u001B[0m #2 test2\n",
      "assert_eq / actual: 2L / expected: 2L\n"
     ]
    }
   ],
   "source": [
    "//// test\n",
    "///! fsharp\n",
    "///! cuda\n",
    "///! rust\n",
    "///! typescript\n",
    "///! python\n",
    "\n",
    "trace Debug (fun () => \"test1\") id\n",
    "trace Debug (fun () => \"test2\") id\n",
    "get_trace_state_or_init None .count\n",
    "|> fun x => *x\n",
    "|> _assert_eq 2"
   ]
  },
  {
   "cell_type": "markdown",
   "metadata": {},
   "source": [
    "## main"
   ]
  },
  {
   "cell_type": "code",
   "execution_count": null,
   "metadata": {
    "dotnet_interactive": {
     "language": "spiral"
    },
    "polyglot_notebook": {
     "kernelName": "spiral"
    }
   },
   "outputs": [],
   "source": [
    "inl main () =\n",
    "    init_trace_state None\n",
    "    inl trace level text_fn (locals : () -> string) = trace level text_fn locals\n",
    "    $'let trace x = !trace x' : ()"
   ]
  }
 ],
 "metadata": {},
 "nbformat": 4,
 "nbformat_minor": 5
}