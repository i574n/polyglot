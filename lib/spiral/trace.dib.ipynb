{
 "cells": [
  {
   "cell_type": "markdown",
   "metadata": {},
   "source": [
    "# trace"
   ]
  },
  {
   "cell_type": "code",
   "execution_count": null,
   "metadata": {
    "dotnet_interactive": {
     "language": "spiral"
    },
    "polyglot_notebook": {
     "kernelName": "spiral"
    }
   },
   "outputs": [],
   "source": [
    "//// test\n",
    "\n",
    "open testing"
   ]
  },
  {
   "cell_type": "markdown",
   "metadata": {},
   "source": [
    "## types"
   ]
  },
  {
   "cell_type": "code",
   "execution_count": null,
   "metadata": {
    "dotnet_interactive": {
     "language": "spiral"
    },
    "polyglot_notebook": {
     "kernelName": "spiral"
    }
   },
   "outputs": [],
   "source": [
    "inl types () =\n",
    "    rust.types ()\n",
    "    sm'.types ()\n",
    "    env.types ()"
   ]
  },
  {
   "cell_type": "markdown",
   "metadata": {},
   "source": [
    "## trace_level"
   ]
  },
  {
   "cell_type": "code",
   "execution_count": null,
   "metadata": {
    "dotnet_interactive": {
     "language": "spiral"
    },
    "polyglot_notebook": {
     "kernelName": "spiral"
    }
   },
   "outputs": [],
   "source": [
    "union trace_level =\n",
    "    | Verbose\n",
    "    | Debug\n",
    "    | Info\n",
    "    | Warning\n",
    "    | Critical\n",
    "\n",
    "instance to_string trace_level = function\n",
    "    | Verbose => \"Verbose\"\n",
    "    | Debug => \"Debug\"\n",
    "    | Info => \"Info\"\n",
    "    | Warning => \"Warning\"\n",
    "    | Critical => \"Critical\"\n",
    "\n",
    "instance of_string trace_level = function\n",
    "    | \"Verbose\" => Verbose\n",
    "    | \"Debug\" => Debug\n",
    "    | \"Info\" => Info\n",
    "    | \"Warning\" => Warning\n",
    "    | \"Critical\" => Critical\n",
    "    | x => failwith $'$\"of_string trace_level / x: {!x}\"'"
   ]
  },
  {
   "cell_type": "markdown",
   "metadata": {},
   "source": [
    "## repl_start"
   ]
  },
  {
   "cell_type": "code",
   "execution_count": null,
   "metadata": {
    "dotnet_interactive": {
     "language": "spiral"
    },
    "polyglot_notebook": {
     "kernelName": "spiral"
    }
   },
   "outputs": [],
   "source": [
    "inl repl_start () : optionm'.option' i64 =\n",
    "    run_target function\n",
    "        | Fsharp (Native) & x\n",
    "        | Rust (Native) & x => fun () =>\n",
    "            inl automation = env.get_environment_variable \"AUTOMATION\"\n",
    "            // inl target =\n",
    "            //     match x with\n",
    "            //     | Fsharp (Native) => \"Fsharp (Native)\"\n",
    "            //     | Rust (Native) => \"Rust (Native)\"\n",
    "            // inl assembly_name = env.get_entry_assembly_name ()\n",
    "            // console.write_line ($'$\"repl_start / automation: \\'{!automation}\\' / target: {!target} / assembly_name: {!assembly_name}\"' : string)\n",
    "            if automation = \"True\"\n",
    "            then date_time.now () |> date_time.ticks |> fun (date_time.timestamp x) => x |> Some\n",
    "            else None\n",
    "            |> optionm'.box\n",
    "        | _ => fun () => optionm'.none' ()"
   ]
  },
  {
   "cell_type": "markdown",
   "metadata": {},
   "source": [
    "## trace_state"
   ]
  },
  {
   "cell_type": "code",
   "execution_count": null,
   "metadata": {
    "dotnet_interactive": {
     "language": "spiral"
    },
    "polyglot_notebook": {
     "kernelName": "spiral"
    }
   },
   "outputs": [],
   "source": [
    "type trace_state =\n",
    "    {\n",
    "        count : mut i64\n",
    "        trace_file : mut (string -> ())\n",
    "        enabled : mut bool\n",
    "        level : mut trace_level\n",
    "        repl_start : optionm'.option' i64\n",
    "    }\n",
    "\n",
    "inl new_trace_state trace_level =\n",
    "    {\n",
    "        enabled = mut true\n",
    "        count = mut 0i64\n",
    "        level = mut trace_level\n",
    "        trace_file = mut ignore\n",
    "        repl_start = repl_start ()\n",
    "    } : trace_state"
   ]
  },
  {
   "cell_type": "markdown",
   "metadata": {},
   "source": [
    "## init_trace_state"
   ]
  },
  {
   "cell_type": "code",
   "execution_count": null,
   "metadata": {
    "dotnet_interactive": {
     "language": "spiral"
    },
    "polyglot_notebook": {
     "kernelName": "spiral"
    }
   },
   "outputs": [],
   "source": [
    "inl init_trace_state trace_level : () =\n",
    "    inl trace_level =\n",
    "        trace_level\n",
    "        |> optionm'.default_value Verbose\n",
    "    global \"module State = let mutable trace_state = None\"\n",
    "    $'if State.trace_state.IsNone then State.trace_state <- !new_trace_state !trace_level |> Some' : ()"
   ]
  },
  {
   "cell_type": "markdown",
   "metadata": {},
   "source": [
    "## get_trace_state_or_init"
   ]
  },
  {
   "cell_type": "code",
   "execution_count": null,
   "metadata": {
    "dotnet_interactive": {
     "language": "spiral"
    },
    "polyglot_notebook": {
     "kernelName": "spiral"
    }
   },
   "outputs": [],
   "source": [
    "inl get_trace_state_or_init trace_level : trace_state =\n",
    "    init_trace_state trace_level\n",
    "    // $'match State.trace_state with Some x -> x | None -> failwith \"trace.get_trace_state_or_init / State.trace_state=None\"'\n",
    "    $'State.trace_state.Value'"
   ]
  },
  {
   "cell_type": "markdown",
   "metadata": {},
   "source": [
    "## _locals"
   ]
  },
  {
   "cell_type": "code",
   "execution_count": null,
   "metadata": {
    "dotnet_interactive": {
     "language": "spiral"
    },
    "polyglot_notebook": {
     "kernelName": "spiral"
    }
   },
   "outputs": [],
   "source": [
    "inl _locals () = \"\""
   ]
  },
  {
   "cell_type": "markdown",
   "metadata": {},
   "source": [
    "## test_trace_level"
   ]
  },
  {
   "cell_type": "code",
   "execution_count": null,
   "metadata": {
    "dotnet_interactive": {
     "language": "spiral"
    },
    "polyglot_notebook": {
     "kernelName": "spiral"
    }
   },
   "outputs": [],
   "source": [
    "inl test_trace_level level : bool =\n",
    "    inl state = get_trace_state_or_init None\n",
    "    inl level' = *state.level\n",
    "    if *state.enabled |> not\n",
    "    then false\n",
    "    else\n",
    "        inl level : i32 = real real_core.union_tag level\n",
    "        inl level' : i32 = real real_core.union_tag level'\n",
    "        level >= level'"
   ]
  },
  {
   "cell_type": "code",
   "execution_count": null,
   "metadata": {
    "dotnet_interactive": {
     "language": "spiral"
    },
    "polyglot_notebook": {
     "kernelName": "spiral"
    }
   },
   "outputs": [
    {
     "name": "stdout",
     "output_type": "stream",
     "text": [
      "assert_eq / actual: true / expected: true\n",
      "assert_eq / actual: true / expected: true\n",
      "assert_eq / actual: false / expected: false\n",
      "assert_eq / actual: true / expected: true\n"
     ]
    }
   ],
   "source": [
    "//// test\n",
    "\n",
    "test_trace_level Critical |> _assert_eq true\n",
    "test_trace_level Verbose |> _assert_eq true\n",
    "\n",
    "inl level = get_trace_state_or_init None .level\n",
    "level <- Debug\n",
    "test_trace_level Verbose |> _assert_eq false\n",
    "level <- Verbose\n",
    "test_trace_level Verbose |> _assert_eq true"
   ]
  },
  {
   "cell_type": "markdown",
   "metadata": {},
   "source": [
    "## trace_raw"
   ]
  },
  {
   "cell_type": "code",
   "execution_count": null,
   "metadata": {
    "dotnet_interactive": {
     "language": "spiral"
    },
    "polyglot_notebook": {
     "kernelName": "spiral"
    }
   },
   "outputs": [],
   "source": [
    "let rec trace_raw level fn =\n",
    "    inl trace_state = get_trace_state_or_init None\n",
    "    if level |> test_trace_level then\n",
    "        inl count = trace_state.count\n",
    "        count <- *trace_state.count + 1\n",
    "\n",
    "        inl text = $'$\"%s{!fn ()}\"' : string\n",
    "        run_target function\n",
    "        | Rust _ => fun () =>\n",
    "            open rust_operators\n",
    "            !\\\\(text, $'\\@\"println\\!(\"\"{}\"\", $0)\"')\n",
    "        | _ => fun () =>\n",
    "            $'System.Console.WriteLine !text '\n",
    "\n",
    "        *trace_state.trace_file text"
   ]
  },
  {
   "cell_type": "markdown",
   "metadata": {},
   "source": [
    "## trace"
   ]
  },
  {
   "cell_type": "code",
   "execution_count": null,
   "metadata": {
    "dotnet_interactive": {
     "language": "spiral"
    },
    "polyglot_notebook": {
     "kernelName": "spiral"
    }
   },
   "outputs": [],
   "source": [
    "let trace (level : trace_level) (text_fn : () -> string) (locals : () -> string) =\n",
    "    fun () =>\n",
    "        inl trace_state = get_trace_state_or_init None\n",
    "        inl time =\n",
    "            run_target fun target =>\n",
    "                match target with\n",
    "                | Fsharp (Native)\n",
    "                | Rust (Native) => fun () =>\n",
    "                    match trace_state.repl_start |> optionm'.unbox with\n",
    "                    | Some repl_start =>\n",
    "                        inl t =\n",
    "                            (date_time.now () |> date_time.ticks |> fun (date_time.timestamp x) => x)\n",
    "                            - repl_start |> date_time.time_span\n",
    "                        date_time.date_time_milliseconds\n",
    "                            1i32 1i32 1i32\n",
    "                            (t |> date_time.hours)\n",
    "                            (t |> date_time.minutes)\n",
    "                            (t |> date_time.seconds)\n",
    "                            (t |> date_time.milliseconds)\n",
    "                    | None => date_time.now ()\n",
    "                    |> fun date_time =>\n",
    "                        inl format =\n",
    "                            match target with\n",
    "                            | Rust _ => \"hh:mm:ss\"\n",
    "                            | _ => \"HH:mm:ss\"\n",
    "                        $'!date_time.ToString !format '\n",
    "                | _ => fun () => join \"\"\n",
    "        inl count = *trace_state.count\n",
    "        inl level_str = level |> to_string |> sm'.to_lower |> sm'.pad_left 7 ' '\n",
    "        inl level_str =\n",
    "            run_target function\n",
    "            | Rust _ => fun () =>\n",
    "                open rust_operators\n",
    "                inl color : rust.ref' sm'.str =\n",
    "                    match level with\n",
    "                    | Verbose => !\\($'\"inline_colorization::color_bright_black\"')\n",
    "                    | Debug => !\\($'\"inline_colorization::color_bright_blue\"')\n",
    "                    | Info => !\\($'\"inline_colorization::color_bright_green\"')\n",
    "                    | Warning => !\\($'\"inline_colorization::color_yellow\"')\n",
    "                    | Critical => !\\($'\"inline_colorization::color_bright_red\"')\n",
    "                inl level_str = level_str |> sm'.as_str\n",
    "                inl color_reset : rust.ref' sm'.str = !\\($'\"inline_colorization::color_reset\"')\n",
    "                $'\"\\\\\\\"{!color}{!level_str}{!color_reset}\\\\\\\"\"'\n",
    "                |> sm'.format''\n",
    "                |> sm'.from_std_string\n",
    "            | _ => fun () => level_str\n",
    "        $'$\"{!time} {!level_str} #{!count} %s{!text_fn ()} / %s{!locals ()}\"'\n",
    "        |> sm'.trim_start ;[]\n",
    "        |> sm'.trim_end ;[ ' '; '/' ]\n",
    "    |> trace_raw level"
   ]
  },
  {
   "cell_type": "code",
   "execution_count": null,
   "metadata": {
    "dotnet_interactive": {
     "language": "spiral"
    },
    "polyglot_notebook": {
     "kernelName": "spiral"
    }
   },
   "outputs": [
    {
     "name": "stdout",
     "output_type": "stream",
     "text": [
      "00:00:00   debug #1 test\n",
      "00:00:00   debug #2 test\n",
      "assert_eq / actual: 2L / expected: 2L\n"
     ]
    }
   ],
   "source": [
    "//// test\n",
    "\n",
    "trace Debug (fun () => \"test\") _locals\n",
    "trace Debug (fun () => \"test\") _locals\n",
    "get_trace_state_or_init None .count\n",
    "|> fun x => *x\n",
    "|> _assert_eq 2"
   ]
  },
  {
   "cell_type": "code",
   "execution_count": null,
   "metadata": {
    "dotnet_interactive": {
     "language": "spiral"
    },
    "polyglot_notebook": {
     "kernelName": "spiral"
    }
   },
   "outputs": [
    {
     "data": {
      "text/plain": [
       "00:00:00 \u001B[94m  debug\u001B[39m #1 test1\n",
       "00:00:00 \u001B[94m  debug\u001B[39m #2 test2\n",
       "assert_eq / actual: 2 / expected: 2\n"
      ]
     },
     "metadata": {},
     "output_type": "display_data"
    }
   ],
   "source": [
    "//// test\n",
    "///! rust\n",
    "\n",
    "types ()\n",
    "trace Debug (fun () => \"test1\") _locals\n",
    "trace Debug (fun () => \"test2\") _locals\n",
    "get_trace_state_or_init None .count\n",
    "|> fun x => *x\n",
    "|> _assert_eq 2"
   ]
  },
  {
   "cell_type": "markdown",
   "metadata": {},
   "source": [
    "## main"
   ]
  },
  {
   "cell_type": "code",
   "execution_count": null,
   "metadata": {
    "dotnet_interactive": {
     "language": "spiral"
    },
    "polyglot_notebook": {
     "kernelName": "spiral"
    }
   },
   "outputs": [],
   "source": [
    "inl main () =\n",
    "    types ()\n",
    "    init_trace_state None\n",
    "    $'let trace x = !trace x' : ()"
   ]
  }
 ],
 "metadata": {},
 "nbformat": 4,
 "nbformat_minor": 5
}