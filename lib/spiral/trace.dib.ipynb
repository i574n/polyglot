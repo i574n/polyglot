{
 "cells": [
  {
   "cell_type": "markdown",
   "metadata": {},
   "source": [
    "# trace"
   ]
  },
  {
   "cell_type": "code",
   "execution_count": null,
   "metadata": {
    "dotnet_interactive": {
     "language": "spiral"
    },
    "polyglot_notebook": {
     "kernelName": "spiral"
    }
   },
   "outputs": [
    {
     "name": "stdout",
     "output_type": "stream",
     "text": [
      "()\n",
      "\n"
     ]
    }
   ],
   "source": [
    "// // test\n",
    "\n",
    "open testing"
   ]
  },
  {
   "cell_type": "markdown",
   "metadata": {},
   "source": [
    "## types"
   ]
  },
  {
   "cell_type": "code",
   "execution_count": null,
   "metadata": {
    "dotnet_interactive": {
     "language": "spiral"
    },
    "polyglot_notebook": {
     "kernelName": "spiral"
    }
   },
   "outputs": [
    {
     "name": "stdout",
     "output_type": "stream",
     "text": [
      "()\n",
      "\n"
     ]
    }
   ],
   "source": [
    "inl types () =\n",
    "    global \"#if FABLE_COMPILER // trace.types\"\n",
    "    rust.types ()\n",
    "    sm'.types ()\n",
    "    global \"#endif // trace.types\""
   ]
  },
  {
   "cell_type": "markdown",
   "metadata": {},
   "source": [
    "## trace_level"
   ]
  },
  {
   "cell_type": "code",
   "execution_count": null,
   "metadata": {
    "dotnet_interactive": {
     "language": "spiral"
    },
    "polyglot_notebook": {
     "kernelName": "spiral"
    }
   },
   "outputs": [
    {
     "name": "stdout",
     "output_type": "stream",
     "text": [
      "()\n",
      "\n"
     ]
    }
   ],
   "source": [
    "union trace_level =\n",
    "    | Verbose\n",
    "    | Debug\n",
    "    | Info\n",
    "    | Warning\n",
    "    | Critical\n",
    "\n",
    "instance to_string trace_level = function\n",
    "    | Verbose => \"Verbose\"\n",
    "    | Debug => \"Debug\"\n",
    "    | Info => \"Info\"\n",
    "    | Warning => \"Warning\"\n",
    "    | Critical => \"Critical\"\n",
    "\n",
    "instance of_string trace_level = function\n",
    "    | \"Verbose\" => Verbose\n",
    "    | \"Debug\" => Debug\n",
    "    | \"Info\" => Info\n",
    "    | \"Warning\" => Warning\n",
    "    | \"Critical\" => Critical"
   ]
  },
  {
   "cell_type": "markdown",
   "metadata": {},
   "source": [
    "## repl_start"
   ]
  },
  {
   "cell_type": "code",
   "execution_count": null,
   "metadata": {
    "dotnet_interactive": {
     "language": "spiral"
    },
    "polyglot_notebook": {
     "kernelName": "spiral"
    }
   },
   "outputs": [
    {
     "name": "stdout",
     "output_type": "stream",
     "text": [
      "()\n",
      "\n"
     ]
    }
   ],
   "source": [
    "inl repl_start () : optionm'.option' i64 =\n",
    "    inl result : optionm'.option' (optionm'.option' i64) = optionm'.none' ()\n",
    "    $\"let mutable _!result = !result\"\n",
    "    $'#if INTERACTIVE || \\!FABLE_COMPILER' : ()\n",
    "    if get_entry_assembly_name () <> \"Microsoft.DotNet.Interactive.App\"\n",
    "    then date_time.now () |> date_time.ticks |> Some\n",
    "    else None\n",
    "    |> optionm'.box\n",
    "    |> fun x =>\n",
    "        inl x = join x\n",
    "        $'!x '\n",
    "    $'#else' : ()\n",
    "    (None : option i64) |> optionm'.box\n",
    "    |> fun x =>\n",
    "        inl x = join x\n",
    "        $'!x '\n",
    "    $'#endif' : ()\n",
    "    $\"|> fun x -> _!result <- Some x\"\n",
    "    $'_!result.Value'"
   ]
  },
  {
   "cell_type": "markdown",
   "metadata": {},
   "source": [
    "## trace_state"
   ]
  },
  {
   "cell_type": "code",
   "execution_count": null,
   "metadata": {
    "dotnet_interactive": {
     "language": "spiral"
    },
    "polyglot_notebook": {
     "kernelName": "spiral"
    }
   },
   "outputs": [
    {
     "name": "stdout",
     "output_type": "stream",
     "text": [
      "()\n",
      "\n"
     ]
    }
   ],
   "source": [
    "type trace_state =\n",
    "    {\n",
    "        count : mut i64\n",
    "        dump : mut bool\n",
    "        enabled : mut bool\n",
    "        level : mut trace_level\n",
    "        repl_start : optionm'.option' i64\n",
    "    }\n",
    "\n",
    "inl new_trace_state () =\n",
    "    {\n",
    "        enabled = mut true\n",
    "        count = mut 0i64\n",
    "        level = mut Verbose\n",
    "        dump = mut false\n",
    "        repl_start = repl_start ()\n",
    "    } : trace_state"
   ]
  },
  {
   "cell_type": "markdown",
   "metadata": {},
   "source": [
    "## init_trace_state"
   ]
  },
  {
   "cell_type": "code",
   "execution_count": null,
   "metadata": {
    "dotnet_interactive": {
     "language": "spiral"
    },
    "polyglot_notebook": {
     "kernelName": "spiral"
    }
   },
   "outputs": [
    {
     "name": "stdout",
     "output_type": "stream",
     "text": [
      "()\n",
      "\n"
     ]
    }
   ],
   "source": [
    "inl init_trace_state () : () =\n",
    "    global \"module State = let mutable trace_state = None\"\n",
    "    $\"if State.trace_state = None then State.trace_state <- !new_trace_state () |> Some\" : ()"
   ]
  },
  {
   "cell_type": "markdown",
   "metadata": {},
   "source": [
    "## get_trace_state"
   ]
  },
  {
   "cell_type": "code",
   "execution_count": null,
   "metadata": {
    "dotnet_interactive": {
     "language": "spiral"
    },
    "polyglot_notebook": {
     "kernelName": "spiral"
    }
   },
   "outputs": [
    {
     "name": "stdout",
     "output_type": "stream",
     "text": [
      "()\n",
      "\n"
     ]
    }
   ],
   "source": [
    "inl get_trace_state () : trace_state =\n",
    "    init_trace_state ()\n",
    "    $'State.trace_state.Value'"
   ]
  },
  {
   "cell_type": "markdown",
   "metadata": {},
   "source": [
    "## get_locals"
   ]
  },
  {
   "cell_type": "code",
   "execution_count": null,
   "metadata": {
    "dotnet_interactive": {
     "language": "spiral"
    },
    "polyglot_notebook": {
     "kernelName": "spiral"
    }
   },
   "outputs": [
    {
     "name": "stdout",
     "output_type": "stream",
     "text": [
      "()\n",
      "\n"
     ]
    }
   ],
   "source": [
    "inl get_locals () = \"\""
   ]
  },
  {
   "cell_type": "markdown",
   "metadata": {},
   "source": [
    "## test_trace_level"
   ]
  },
  {
   "cell_type": "code",
   "execution_count": null,
   "metadata": {
    "dotnet_interactive": {
     "language": "spiral"
    },
    "polyglot_notebook": {
     "kernelName": "spiral"
    }
   },
   "outputs": [
    {
     "name": "stdout",
     "output_type": "stream",
     "text": [
      "()\n",
      "\n"
     ]
    }
   ],
   "source": [
    "inl test_trace_level level : bool =\n",
    "    inl state = get_trace_state ()\n",
    "    inl level' = *state.level\n",
    "    *state.enabled && $'!level >= !level' '"
   ]
  },
  {
   "cell_type": "code",
   "execution_count": null,
   "metadata": {
    "dotnet_interactive": {
     "language": "spiral"
    },
    "polyglot_notebook": {
     "kernelName": "spiral"
    }
   },
   "outputs": [
    {
     "name": "stdout",
     "output_type": "stream",
     "text": [
      "module State = let mutable trace_state = None\n",
      "type Mut0 = {mutable l0 : int64}\n",
      "and Mut1 = {mutable l0 : bool}\n",
      "and [<Struct>] US0 =\n",
      "    | US0_0\n",
      "    | US0_1\n",
      "    | US0_2\n",
      "    | US0_3\n",
      "    | US0_4\n",
      "and Mut2 = {mutable l0 : US0}\n",
      "and [<Struct>] US1 =\n",
      "    | US1_0 of f0_0 : int64\n",
      "    | US1_1\n",
      "let rec method1 (v0 : int64 option) : int64 option =\n",
      "    v0\n",
      "and method2 (v0 : int64 option) : int64 option =\n",
      "    v0\n",
      "and closure0 () () : struct (Mut0 * Mut1 * Mut1 * Mut2 * int64 option) =\n",
      "    let v0 : Mut1 = {l0 = true} : Mut1\n",
      "    let v1 : Mut0 = {l0 = 0L} : Mut0\n",
      "    let v2 : US0 = US0_0\n",
      "    let v3 : Mut2 = {l0 = v2} : Mut2\n",
      "    let v4 : Mut1 = {l0 = false} : Mut1\n",
      "    let v5 : int64 option option = None\n",
      "    let mutable _v5 = v5\n",
      "    #if INTERACTIVE || !FABLE_COMPILER\n",
      "    let v6 : string option = None\n",
      "    let v7 : bool = true in let mutable _v6 = v6\n",
      "    #if FABLE_COMPILER_RUST && !WASM && !CONTRACT\n",
      "    let v8 : string = null |> unbox<string>\n",
      "    v8\n",
      "#endif\n",
      "    #if FABLE_COMPILER_RUST && WASM\n",
      "    let v9 : string = null |> unbox<string>\n",
      "    v9\n",
      "#endif\n",
      "    #if FABLE_COMPILER_RUST && CONTRACT\n",
      "    let v10 : string = null |> unbox<string>\n",
      "    v10\n",
      "#endif\n",
      "    #if !FABLE_COMPILER && !FABLE_COMPILER_RUST && !FABLE_COMPILER_TYPESCRIPT && !WASM && !CONTRACT\n",
      "    let v11 : string = System.Reflection.Assembly.GetEntryAssembly().GetName().Name\n",
      "    v11\n",
      "#endif\n",
      "    #if FABLE_COMPILER_TYPESCRIPT\n",
      "    let v12 : string = null |> unbox<string>\n",
      "    v12\n",
      "#endif\n",
      "    #if FABLE_COMPILER_PYTHON || FABLE_COMPILER_PHP || FABLE_COMPILER_DART\n",
      "    let v13 : string = Unchecked.defaultof<string>\n",
      "    v13\n",
      "#endif\n",
      "    |> fun x -> _v6 <- Some x\n",
      "    let v14 : string = _v6.Value\n",
      "    let v16 : bool = v14 = \"Microsoft.DotNet.Interactive.App\"\n",
      "    let v17 : bool = v16 <> true\n",
      "    let v23 : US1 =\n",
      "        if v17 then\n",
      "            let v18 : System.DateTime = System.DateTime.Now\n",
      "            let v19 : (System.DateTime -> int64) = _.Ticks\n",
      "            let v20 : int64 = v19 v18\n",
      "            US1_0(v20)\n",
      "        else\n",
      "            US1_1\n",
      "    let v28 : int64 option =\n",
      "        match v23 with\n",
      "        | US1_1 -> (* None *)\n",
      "            let v26 : int64 option = None\n",
      "            v26\n",
      "        | US1_0(v24) -> (* Some *)\n",
      "            let v25 : int64 option = Some v24 \n",
      "            v25\n",
      "    let v29 : int64 option = method1(v28)\n",
      "    v29 \n",
      "    #else\n",
      "    let v30 : int64 option = None\n",
      "    let v31 : int64 option = method2(v30)\n",
      "    v31 \n",
      "    #endif\n",
      "    |> fun x -> _v5 <- Some x\n",
      "    let v32 : int64 option = _v5.Value\n",
      "    struct (v1, v4, v0, v3, v32)\n",
      "and method3 (v0 : bool) : bool =\n",
      "    v0\n",
      "and method0 () : unit =\n",
      "    let v0 : (unit -> struct (Mut0 * Mut1 * Mut1 * Mut2 * int64 option)) = closure0()\n",
      "    if State.trace_state = None then State.trace_state <- v0 () |> Some\n",
      "    let struct (v1 : Mut0, v2 : Mut1, v3 : Mut1, v4 : Mut2, v5 : int64 option) = State.trace_state.Value\n",
      "    let v6 : US0 = v4.l0\n",
      "    let v7 : bool = v3.l0\n",
      "    let v10 : bool =\n",
      "        if v7 then\n",
      "            let v8 : US0 = US0_4\n",
      "            let v9 : bool = v8 >= v6 \n",
      "            v9\n",
      "        else\n",
      "            false\n",
      "    let v11 : string = $\"%A{v10}\"\n",
      "    System.Console.WriteLine v11\n",
      "    let v13 : bool =\n",
      "        if v10 then\n",
      "            true\n",
      "        else\n",
      "            method3(v10)\n",
      "    let v14 : string = $\"__expect / actual: %A{v10} / expected: %A{true}\"\n",
      "    let v15 : bool = v13 = false\n",
      "    if v15 then\n",
      "        failwith<unit> v14\n",
      "    if State.trace_state = None then State.trace_state <- v0 () |> Some\n",
      "    let struct (v16 : Mut0, v17 : Mut1, v18 : Mut1, v19 : Mut2, v20 : int64 option) = State.trace_state.Value\n",
      "    let v21 : US0 = v19.l0\n",
      "    let v22 : bool = v18.l0\n",
      "    let v25 : bool =\n",
      "        if v22 then\n",
      "            let v23 : US0 = US0_0\n",
      "            let v24 : bool = v23 >= v21 \n",
      "            v24\n",
      "        else\n",
      "            false\n",
      "    let v26 : string = $\"%A{v25}\"\n",
      "    System.Console.WriteLine v26\n",
      "    let v28 : bool =\n",
      "        if v25 then\n",
      "            true\n",
      "        else\n",
      "            method3(v25)\n",
      "    let v29 : string = $\"__expect / actual: %A{v25} / expected: %A{true}\"\n",
      "    let v30 : bool = v28 = false\n",
      "    if v30 then\n",
      "        failwith<unit> v29\n",
      "method0()\n",
      "\n",
      "true\n",
      "true\n"
     ]
    }
   ],
   "source": [
    "// // test\n",
    "\n",
    "test_trace_level Critical |> _assert_eq true\n",
    "test_trace_level Verbose |> _assert_eq true"
   ]
  },
  {
   "cell_type": "markdown",
   "metadata": {},
   "source": [
    "## trace_raw"
   ]
  },
  {
   "cell_type": "code",
   "execution_count": null,
   "metadata": {
    "dotnet_interactive": {
     "language": "spiral"
    },
    "polyglot_notebook": {
     "kernelName": "spiral"
    }
   },
   "outputs": [
    {
     "name": "stdout",
     "output_type": "stream",
     "text": [
      "()\n",
      "\n"
     ]
    }
   ],
   "source": [
    "inl trace_raw level fn =\n",
    "    inl trace_state = get_trace_state ()\n",
    "    if level |> test_trace_level then\n",
    "        inl count = trace_state.count\n",
    "        count <- *trace_state.count + 1\n",
    "\n",
    "        inl text = $'$\"%s{!fn ()}\"' : string\n",
    "        run_target function\n",
    "        | Rust _ => fun () =>\n",
    "            open rust_operators\n",
    "            !\\\\(text, $'\\@\"println\\!(\"\"{}\"\", $0)\"')\n",
    "        | _ => fun () =>\n",
    "            $'System.Console.WriteLine !text '\n",
    "\n",
    "        // run_target function\n",
    "        // | Fsharp (Native) => fun () =>\n",
    "        //     if *trace_state.dump then\n",
    "        //         try_unit\n",
    "        //             fun () =>\n",
    "        //                 // open file_system_operators\n",
    "        //                 // inl tmp_path = file_system.get_temp_path ()\n",
    "        //                 // inl log_dir = tmp_path </> \"!polyglot\"\n",
    "        //                 // file_system.create_directory log_dir |> ignore\n",
    "        //                 // inl guid = date_time.new_guid_from_date_time (date_time.now ())\n",
    "        //                 // inl log_file = log_dir </> $'$\"{!guid}.txt\"'\n",
    "        //                 // file_system.write_all_text_async log_file text |> async.run_synchronously\n",
    "        //                 ()\n",
    "        //             fun ex =>\n",
    "        //                 inl ex = ex |> sm'.format_exception\n",
    "        //                 trace_raw Critical (fun () => $'$\"trace / ex: {!ex}\"')\n",
    "        // | _ => fun () => ()"
   ]
  },
  {
   "cell_type": "code",
   "execution_count": null,
   "metadata": {
    "dotnet_interactive": {
     "language": "spiral"
    },
    "polyglot_notebook": {
     "kernelName": "spiral"
    }
   },
   "outputs": [
    {
     "name": "stdout",
     "output_type": "stream",
     "text": [
      "module State = let mutable trace_state = None\n",
      "type Mut0 = {mutable l0 : int64}\n",
      "and Mut1 = {mutable l0 : bool}\n",
      "and [<Struct>] US0 =\n",
      "    | US0_0\n",
      "    | US0_1\n",
      "    | US0_2\n",
      "    | US0_3\n",
      "    | US0_4\n",
      "and Mut2 = {mutable l0 : US0}\n",
      "and [<Struct>] US1 =\n",
      "    | US1_0 of f0_0 : int64\n",
      "    | US1_1\n",
      "let rec method1 (v0 : int64 option) : int64 option =\n",
      "    v0\n",
      "and method2 (v0 : int64 option) : int64 option =\n",
      "    v0\n",
      "and closure0 () () : struct (Mut0 * Mut1 * Mut1 * Mut2 * int64 option) =\n",
      "    let v0 : Mut1 = {l0 = true} : Mut1\n",
      "    let v1 : Mut0 = {l0 = 0L} : Mut0\n",
      "    let v2 : US0 = US0_0\n",
      "    let v3 : Mut2 = {l0 = v2} : Mut2\n",
      "    let v4 : Mut1 = {l0 = false} : Mut1\n",
      "    let v5 : int64 option option = None\n",
      "    let mutable _v5 = v5\n",
      "    #if INTERACTIVE || !FABLE_COMPILER\n",
      "    let v6 : string option = None\n",
      "    let v7 : bool = true in let mutable _v6 = v6\n",
      "    #if FABLE_COMPILER_RUST && !WASM && !CONTRACT\n",
      "    let v8 : string = null |> unbox<string>\n",
      "    v8\n",
      "#endif\n",
      "    #if FABLE_COMPILER_RUST && WASM\n",
      "    let v9 : string = null |> unbox<string>\n",
      "    v9\n",
      "#endif\n",
      "    #if FABLE_COMPILER_RUST && CONTRACT\n",
      "    let v10 : string = null |> unbox<string>\n",
      "    v10\n",
      "#endif\n",
      "    #if !FABLE_COMPILER && !FABLE_COMPILER_RUST && !FABLE_COMPILER_TYPESCRIPT && !WASM && !CONTRACT\n",
      "    let v11 : string = System.Reflection.Assembly.GetEntryAssembly().GetName().Name\n",
      "    v11\n",
      "#endif\n",
      "    #if FABLE_COMPILER_TYPESCRIPT\n",
      "    let v12 : string = null |> unbox<string>\n",
      "    v12\n",
      "#endif\n",
      "    #if FABLE_COMPILER_PYTHON || FABLE_COMPILER_PHP || FABLE_COMPILER_DART\n",
      "    let v13 : string = Unchecked.defaultof<string>\n",
      "    v13\n",
      "#endif\n",
      "    |> fun x -> _v6 <- Some x\n",
      "    let v14 : string = _v6.Value\n",
      "    let v16 : bool = v14 = \"Microsoft.DotNet.Interactive.App\"\n",
      "    let v17 : bool = v16 <> true\n",
      "    let v23 : US1 =\n",
      "        if v17 then\n",
      "            let v18 : System.DateTime = System.DateTime.Now\n",
      "            let v19 : (System.DateTime -> int64) = _.Ticks\n",
      "            let v20 : int64 = v19 v18\n",
      "            US1_0(v20)\n",
      "        else\n",
      "            US1_1\n",
      "    let v28 : int64 option =\n",
      "        match v23 with\n",
      "        | US1_1 -> (* None *)\n",
      "            let v26 : int64 option = None\n",
      "            v26\n",
      "        | US1_0(v24) -> (* Some *)\n",
      "            let v25 : int64 option = Some v24 \n",
      "            v25\n",
      "    let v29 : int64 option = method1(v28)\n",
      "    v29 \n",
      "    #else\n",
      "    let v30 : int64 option = None\n",
      "    let v31 : int64 option = method2(v30)\n",
      "    v31 \n",
      "    #endif\n",
      "    |> fun x -> _v5 <- Some x\n",
      "    let v32 : int64 option = _v5.Value\n",
      "    struct (v1, v4, v0, v3, v32)\n",
      "and closure1 () () : string =\n",
      "    let v0 : string = \"test\"\n",
      "    v0\n",
      "and method0 () : unit =\n",
      "    let v0 : (unit -> struct (Mut0 * Mut1 * Mut1 * Mut2 * int64 option)) = closure0()\n",
      "    if State.trace_state = None then State.trace_state <- v0 () |> Some\n",
      "    let struct (v1 : Mut0, v2 : Mut1, v3 : Mut1, v4 : Mut2, v5 : int64 option) = State.trace_state.Value\n",
      "    if State.trace_state = None then State.trace_state <- v0 () |> Some\n",
      "    let struct (v6 : Mut0, v7 : Mut1, v8 : Mut1, v9 : Mut2, v10 : int64 option) = State.trace_state.Value\n",
      "    let v11 : US0 = v9.l0\n",
      "    let v12 : bool = v8.l0\n",
      "    let v15 : bool =\n",
      "        if v12 then\n",
      "            let v13 : US0 = US0_1\n",
      "            let v14 : bool = v13 >= v11 \n",
      "            v14\n",
      "        else\n",
      "            false\n",
      "    if v15 then\n",
      "        let v16 : int64 = v1.l0\n",
      "        let v17 : int64 = v16 + 1L\n",
      "        v1.l0 <- v17\n",
      "        let v18 : (unit -> string) = closure1()\n",
      "        let v19 : string = $\"%s{v18 ()}\"\n",
      "        let v20 : unit option = None\n",
      "        let v21 : bool = true in let mutable _v20 = v20\n",
      "        #if FABLE_COMPILER_RUST && !WASM && !CONTRACT\n",
      "        let v22 : string = @\"println!(\"\"{}\"\", $0)\"\n",
      "        Fable.Core.RustInterop.emitRustExpr v19 v22\n",
      "        ()\n",
      "#endif\n",
      "        #if FABLE_COMPILER_RUST && WASM\n",
      "        let v23 : string = @\"println!(\"\"{}\"\", $0)\"\n",
      "        Fable.Core.RustInterop.emitRustExpr v19 v23\n",
      "        ()\n",
      "#endif\n",
      "        #if FABLE_COMPILER_RUST && CONTRACT\n",
      "        let v24 : string = @\"println!(\"\"{}\"\", $0)\"\n",
      "        Fable.Core.RustInterop.emitRustExpr v19 v24\n",
      "        ()\n",
      "#endif\n",
      "        #if !FABLE_COMPILER && !FABLE_COMPILER_RUST && !FABLE_COMPILER_TYPESCRIPT && !WASM && !CONTRACT\n",
      "        System.Console.WriteLine v19 \n",
      "        ()\n",
      "#endif\n",
      "        #if FABLE_COMPILER_TYPESCRIPT\n",
      "        System.Console.WriteLine v19 \n",
      "        ()\n",
      "#endif\n",
      "        #if FABLE_COMPILER_PYTHON || FABLE_COMPILER_PHP || FABLE_COMPILER_DART\n",
      "        Unchecked.defaultof<unit>\n",
      "        ()\n",
      "#endif\n",
      "        |> fun x -> _v20 <- Some x\n",
      "        _v20.Value\n",
      "        ()\n",
      "method0()\n",
      "\n",
      "test\n"
     ]
    }
   ],
   "source": [
    "// // test\n",
    "// // print_code=true\n",
    "\n",
    "trace_raw Debug fun () => \"test\""
   ]
  },
  {
   "cell_type": "markdown",
   "metadata": {},
   "source": [
    "## trace"
   ]
  },
  {
   "cell_type": "code",
   "execution_count": null,
   "metadata": {
    "dotnet_interactive": {
     "language": "spiral"
    },
    "polyglot_notebook": {
     "kernelName": "spiral"
    }
   },
   "outputs": [
    {
     "name": "stdout",
     "output_type": "stream",
     "text": [
      "()\n",
      "\n"
     ]
    }
   ],
   "source": [
    "let trace (level : trace_level) (fn : () -> string) (get_locals : () -> string) =\n",
    "    fun () =>\n",
    "        inl trace_state = get_trace_state ()\n",
    "        inl time =\n",
    "            run_target fun target =>\n",
    "                match target with\n",
    "                | Fsharp (Native)\n",
    "                | Rust (Native) => fun () =>\n",
    "                    match trace_state.repl_start |> optionm'.unbox with\n",
    "                    | Some repl_start =>\n",
    "                        inl t =\n",
    "                            (date_time.now () |> date_time.ticks |> fun (date_time.timestamp x) => x)\n",
    "                            - repl_start |> date_time.time_span\n",
    "                        date_time.date_time_milliseconds\n",
    "                            1i32 1i32 1i32\n",
    "                            (t |> date_time.hours)\n",
    "                            (t |> date_time.minutes)\n",
    "                            (t |> date_time.seconds)\n",
    "                            (t |> date_time.milliseconds)\n",
    "                    | None => date_time.now ()\n",
    "                    |> fun date_time =>\n",
    "                        inl format =\n",
    "                            match target with\n",
    "                            | Rust _ => \"hh:mm:ss\"\n",
    "                            | _ => \"HH:mm:ss\"\n",
    "                        $'!date_time.ToString !format '\n",
    "                | _ => fun () => join \"\"\n",
    "        inl count = *trace_state.count\n",
    "        inl level_str = level |> to_string |> sm'.to_lower\n",
    "        inl level_str =\n",
    "            run_target function\n",
    "            | Rust _ => fun () =>\n",
    "                open rust_operators\n",
    "                inl color : rust.ref' sm'.str =\n",
    "                    match level with\n",
    "                    | Verbose => !\\($'\"inline_colorization::color_bright_black\"')\n",
    "                    | Debug => !\\($'\"inline_colorization::color_bright_blue\"')\n",
    "                    | Info => !\\($'\"inline_colorization::color_bright_green\"')\n",
    "                    | Warning => !\\($'\"inline_colorization::color_bright_yellow\"')\n",
    "                    | Critical => !\\($'\"inline_colorization::color_bright_red\"')\n",
    "                inl level_str = level_str |> sm'.as_str\n",
    "                inl color_reset : rust.ref' sm'.str = !\\($'\"inline_colorization::color_reset\"')\n",
    "                $'\"\\\\\\\"{!color}{!level_str}{!color_reset}\\\\\\\"\"'\n",
    "                |> sm'.format''\n",
    "                |> sm'.from_std_string\n",
    "            | _ => fun () => level_str\n",
    "        $'$\"{!time} {!level_str} #{!count} %s{!fn ()} / %s{!get_locals ()}\"'\n",
    "        |> sm'.trim_start ;[]\n",
    "        |> sm'.trim_end ;[ ' '; '/' ]\n",
    "    |> trace_raw level"
   ]
  },
  {
   "cell_type": "code",
   "execution_count": null,
   "metadata": {
    "dotnet_interactive": {
     "language": "spiral"
    },
    "polyglot_notebook": {
     "kernelName": "spiral"
    }
   },
   "outputs": [
    {
     "name": "stdout",
     "output_type": "stream",
     "text": [
      "00:00:00 debug #1 test\n",
      "00:00:00 debug #2 test\n"
     ]
    }
   ],
   "source": [
    "// // test\n",
    "// // print_code=false\n",
    "\n",
    "trace Debug (fun () => \"test\") get_locals\n",
    "trace Debug (fun () => \"test\") get_locals"
   ]
  },
  {
   "cell_type": "code",
   "execution_count": null,
   "metadata": {
    "dotnet_interactive": {
     "language": "spiral"
    },
    "polyglot_notebook": {
     "kernelName": "spiral"
    }
   },
   "outputs": [
    {
     "data": {
      "text/plain": [
       "13:03:55 \u001B[94mdebug\u001B[39m #1 test\n"
      ]
     },
     "metadata": {},
     "output_type": "display_data"
    }
   ],
   "source": [
    "// // test\n",
    "// // print_code=false\n",
    "// // rust=\n",
    "\n",
    "types ()\n",
    "trace Debug (fun () => \"test\") get_locals\n",
    "// trace Debug (fun () => \"test\") get_locals"
   ]
  },
  {
   "cell_type": "markdown",
   "metadata": {},
   "source": [
    "## main"
   ]
  },
  {
   "cell_type": "code",
   "execution_count": null,
   "metadata": {
    "dotnet_interactive": {
     "language": "spiral"
    },
    "polyglot_notebook": {
     "kernelName": "spiral"
    }
   },
   "outputs": [
    {
     "name": "stdout",
     "output_type": "stream",
     "text": [
      "#if FABLE_COMPILER // trace.types\n",
      "[<Fable.Core.Erase; Fable.Core.Emit(\"Func0<$0>\")>] type Func0<'T> = class end\n",
      "[<Fable.Core.Erase; Fable.Core.Emit(\"Func1<$0, $1>\")>] type Func0<'T, 'U> = class end\n",
      "[<Fable.Core.Erase; Fable.Core.Emit(\"Box<$0>\")>] type Box<'T> = class end\n",
      "[<Fable.Core.Erase; Fable.Core.Emit(\"dyn $0\")>] type Dyn<'T> = class end\n",
      "[<Fable.Core.Erase; Fable.Core.Emit(\"$0 + Send\")>] type Send<'T> = class end\n",
      "[<Fable.Core.Erase; Fable.Core.Emit(\"Fn() -> $0\")>] type Fn<'T> = class end\n",
      "[<Fable.Core.Erase; Fable.Core.Emit(\"Fn()\")>] type FnUnit = class end\n",
      "[<Fable.Core.Erase; Fable.Core.Emit(\"FnOnce() -> $0\")>] type FnOnce<'T> = class end\n",
      "[<Fable.Core.Erase; Fable.Core.Emit(\"Fn($0, $1)\")>] type ActionFn2<'T, 'U> = class end\n",
      "[<Fable.Core.Erase; Fable.Core.Emit(\"impl $0\")>] type Impl<'T> = class end\n",
      "[<Fable.Core.Erase; Fable.Core.Emit(\"mut $0\")>] type Mut<'T> = class end\n",
      "[<Fable.Core.Erase; Fable.Core.Emit(\"&$0\")>] type Ref<'T> = class end\n",
      "[<Fable.Core.Erase; Fable.Core.Emit(\"&'static $0\")>] type StaticRef<'T> = class end\n",
      "[<Fable.Core.Erase; Fable.Core.Emit(\"MutCell<$0>\")>] type MutCell<'T> = class end\n",
      "[<Fable.Core.Erase; Fable.Core.Emit(\"std::any::Any\")>] type std_any_Any = class end\n",
      "[<Fable.Core.Erase; Fable.Core.Emit(\"std::cell::RefCell<$0>\")>] type std_cell_RefCell<'T> = class end\n",
      "[<Fable.Core.Erase; Fable.Core.Emit(\"std::pin::Pin<$0>\")>] type std_pin_Pin<'T> = class end\n",
      "[<Fable.Core.Erase; Fable.Core.Emit(\"std::rc::Rc<$0>\")>] type std_rc_Rc<'T> = class end\n",
      "[<Fable.Core.Erase; Fable.Core.Emit(\"std::rc::Weak<$0>\")>] type std_rc_Weak<'T> = class end\n",
      "[<Fable.Core.Erase; Fable.Core.Emit(\"std::sync::Arc<$0>\")>] type std_sync_Arc<'T> = class end\n",
      "[<Fable.Core.Erase; Fable.Core.Emit(\"str\")>] type Str = class end\n",
      "[<Fable.Core.Erase; Fable.Core.Emit(\"base64::DecodeError\")>] type base64_DecodeError = class end\n",
      "[<Fable.Core.Erase; Fable.Core.Emit(\"borsh::io::Error\")>] type borsh_io_Error = class end\n",
      "[<Fable.Core.Erase; Fable.Core.Emit(\"js_sys::JsString\")>] type js_sys_JsString = class end\n",
      "[<Fable.Core.Erase; Fable.Core.Emit(\"serde_json::Error\")>] type serde_json_Error = class end\n",
      "[<Fable.Core.Erase; Fable.Core.Emit(\"serde_json::Value\")>] type serde_json_Value = class end\n",
      "[<Fable.Core.Erase; Fable.Core.Emit(\"serde_wasm_bindgen::Error\")>] type serde_wasm_bindgen_Error = class end\n",
      "[<Fable.Core.Erase; Fable.Core.Emit(\"std::ffi::OsStr\")>] type std_ffi_OsStr = class end\n",
      "[<Fable.Core.Erase; Fable.Core.Emit(\"std::ffi::OsString\")>] type std_ffi_OsString = class end\n",
      "[<Fable.Core.Erase; Fable.Core.Emit(\"std::str::Utf8Error\")>] type std_str_Utf8Error = class end\n",
      "[<Fable.Core.Erase; Fable.Core.Emit(\"std::string::String\")>] type std_string_String = class end\n",
      "#endif // trace.types\n",
      "module State = let mutable trace_state = None\n",
      "type Mut0 = {mutable l0 : int64}\n",
      "and Mut1 = {mutable l0 : bool}\n",
      "and [<Struct>] US0 =\n",
      "    | US0_0\n",
      "    | US0_1\n",
      "    | US0_2\n",
      "    | US0_3\n",
      "    | US0_4\n",
      "and Mut2 = {mutable l0 : US0}\n",
      "and [<Struct>] US1 =\n",
      "    | US1_0 of f0_0 : int64\n",
      "    | US1_1\n",
      "and [<Struct>] US2 =\n",
      "    | US2_0 of f0_0 : int64\n",
      "    | US2_1\n",
      "let rec method0 (v0 : int64 option) : int64 option =\n",
      "    v0\n",
      "and method1 (v0 : int64 option) : int64 option =\n",
      "    v0\n",
      "and closure0 () () : struct (Mut0 * Mut1 * Mut1 * Mut2 * int64 option) =\n",
      "    let v0 : Mut1 = {l0 = true} : Mut1\n",
      "    let v1 : Mut0 = {l0 = 0L} : Mut0\n",
      "    let v2 : US0 = US0_0\n",
      "    let v3 : Mut2 = {l0 = v2} : Mut2\n",
      "    let v4 : Mut1 = {l0 = false} : Mut1\n",
      "    let v5 : int64 option option = None\n",
      "    let mutable _v5 = v5\n",
      "    #if INTERACTIVE || !FABLE_COMPILER\n",
      "    let v6 : string option = None\n",
      "    let v7 : bool = true in let mutable _v6 = v6\n",
      "    #if FABLE_COMPILER_RUST && !WASM && !CONTRACT\n",
      "    let v8 : string = null |> unbox<string>\n",
      "    v8\n",
      "#endif\n",
      "    #if FABLE_COMPILER_RUST && WASM\n",
      "    let v9 : string = null |> unbox<string>\n",
      "    v9\n",
      "#endif\n",
      "    #if FABLE_COMPILER_RUST && CONTRACT\n",
      "    let v10 : string = null |> unbox<string>\n",
      "    v10\n",
      "#endif\n",
      "    #if !FABLE_COMPILER && !FABLE_COMPILER_RUST && !FABLE_COMPILER_TYPESCRIPT && !WASM && !CONTRACT\n",
      "    let v11 : string = System.Reflection.Assembly.GetEntryAssembly().GetName().Name\n",
      "    v11\n",
      "#endif\n",
      "    #if FABLE_COMPILER_TYPESCRIPT\n",
      "    let v12 : string = null |> unbox<string>\n",
      "    v12\n",
      "#endif\n",
      "    #if FABLE_COMPILER_PYTHON || FABLE_COMPILER_PHP || FABLE_COMPILER_DART\n",
      "    let v13 : string = Unchecked.defaultof<string>\n",
      "    v13\n",
      "#endif\n",
      "    |> fun x -> _v6 <- Some x\n",
      "    let v14 : string = _v6.Value\n",
      "    let v16 : bool = v14 = \"Microsoft.DotNet.Interactive.App\"\n",
      "    let v17 : bool = v16 <> true\n",
      "    let v23 : US1 =\n",
      "        if v17 then\n",
      "            let v18 : System.DateTime = System.DateTime.Now\n",
      "            let v19 : (System.DateTime -> int64) = _.Ticks\n",
      "            let v20 : int64 = v19 v18\n",
      "            US1_0(v20)\n",
      "        else\n",
      "            US1_1\n",
      "    let v28 : int64 option =\n",
      "        match v23 with\n",
      "        | US1_1 -> (* None *)\n",
      "            let v26 : int64 option = None\n",
      "            v26\n",
      "        | US1_0(v24) -> (* Some *)\n",
      "            let v25 : int64 option = Some v24 \n",
      "            v25\n",
      "    let v29 : int64 option = method0(v28)\n",
      "    v29 \n",
      "    #else\n",
      "    let v30 : int64 option = None\n",
      "    let v31 : int64 option = method1(v30)\n",
      "    v31 \n",
      "    #endif\n",
      "    |> fun x -> _v5 <- Some x\n",
      "    let v32 : int64 option = _v5.Value\n",
      "    struct (v1, v4, v0, v3, v32)\n",
      "and closure5 () (v0 : int64) : US2 =\n",
      "    US2_0(v0)\n",
      "and method3 () : (int64 -> US2) =\n",
      "    closure5()\n",
      "and method4 () : string =\n",
      "    let v0 : string = \"\"\n",
      "    v0\n",
      "and closure4 (v0 : US0, v1 : (unit -> string), v2 : (unit -> string)) () : string =\n",
      "    let v3 : (unit -> struct (Mut0 * Mut1 * Mut1 * Mut2 * int64 option)) = closure0()\n",
      "    if State.trace_state = None then State.trace_state <- v3 () |> Some\n",
      "    let struct (v4 : Mut0, v5 : Mut1, v6 : Mut1, v7 : Mut2, v8 : int64 option) = State.trace_state.Value\n",
      "    let v9 : string option = None\n",
      "    let v10 : bool = true in let mutable _v9 = v9\n",
      "    #if FABLE_COMPILER_RUST && !WASM && !CONTRACT\n",
      "    let v11 : (int64 -> US2) = method3()\n",
      "    let v12 : US2 = US2_1\n",
      "    let v13 : US2 = v8 |> Option.map v11 |> Option.defaultValue v12 \n",
      "    let v31 : System.DateTime =\n",
      "        match v13 with\n",
      "        | US2_1 -> (* None *)\n",
      "            let v29 : System.DateTime = System.DateTime.Now\n",
      "            v29\n",
      "        | US2_0(v14) -> (* Some *)\n",
      "            let v15 : System.DateTime = System.DateTime.Now\n",
      "            let v16 : (System.DateTime -> int64) = _.Ticks\n",
      "            let v17 : int64 = v16 v15\n",
      "            let v18 : int64 = v17 - v14\n",
      "            let v19 : System.TimeSpan = System.TimeSpan v18 \n",
      "            let v20 : (System.TimeSpan -> int32) = _.Hours\n",
      "            let v21 : int32 = v20 v19\n",
      "            let v22 : (System.TimeSpan -> int32) = _.Minutes\n",
      "            let v23 : int32 = v22 v19\n",
      "            let v24 : (System.TimeSpan -> int32) = _.Seconds\n",
      "            let v25 : int32 = v24 v19\n",
      "            let v26 : (System.TimeSpan -> int32) = _.Milliseconds\n",
      "            let v27 : int32 = v26 v19\n",
      "            let v28 : System.DateTime = System.DateTime (1, 1, 1, v21, v23, v25, v27)\n",
      "            v28\n",
      "    let v32 : string = \"hh:mm:ss\"\n",
      "    let v33 : string = v31.ToString v32 \n",
      "    v33\n",
      "#endif\n",
      "    #if FABLE_COMPILER_RUST && WASM\n",
      "    let v34 : string = method4()\n",
      "    v34\n",
      "#endif\n",
      "    #if FABLE_COMPILER_RUST && CONTRACT\n",
      "    let v35 : string = method4()\n",
      "    v35\n",
      "#endif\n",
      "    #if !FABLE_COMPILER && !FABLE_COMPILER_RUST && !FABLE_COMPILER_TYPESCRIPT && !WASM && !CONTRACT\n",
      "    let v36 : (int64 -> US2) = method3()\n",
      "    let v37 : US2 = US2_1\n",
      "    let v38 : US2 = v8 |> Option.map v36 |> Option.defaultValue v37 \n",
      "    let v56 : System.DateTime =\n",
      "        match v38 with\n",
      "        | US2_1 -> (* None *)\n",
      "            let v54 : System.DateTime = System.DateTime.Now\n",
      "            v54\n",
      "        | US2_0(v39) -> (* Some *)\n",
      "            let v40 : System.DateTime = System.DateTime.Now\n",
      "            let v41 : (System.DateTime -> int64) = _.Ticks\n",
      "            let v42 : int64 = v41 v40\n",
      "            let v43 : int64 = v42 - v39\n",
      "            let v44 : System.TimeSpan = System.TimeSpan v43 \n",
      "            let v45 : (System.TimeSpan -> int32) = _.Hours\n",
      "            let v46 : int32 = v45 v44\n",
      "            let v47 : (System.TimeSpan -> int32) = _.Minutes\n",
      "            let v48 : int32 = v47 v44\n",
      "            let v49 : (System.TimeSpan -> int32) = _.Seconds\n",
      "            let v50 : int32 = v49 v44\n",
      "            let v51 : (System.TimeSpan -> int32) = _.Milliseconds\n",
      "            let v52 : int32 = v51 v44\n",
      "            let v53 : System.DateTime = System.DateTime (1, 1, 1, v46, v48, v50, v52)\n",
      "            v53\n",
      "    let v57 : string = \"HH:mm:ss\"\n",
      "    let v58 : string = v56.ToString v57 \n",
      "    v58\n",
      "#endif\n",
      "    #if FABLE_COMPILER_TYPESCRIPT\n",
      "    let v59 : string = method4()\n",
      "    v59\n",
      "#endif\n",
      "    #if FABLE_COMPILER_PYTHON || FABLE_COMPILER_PHP || FABLE_COMPILER_DART\n",
      "    let v60 : string = Unchecked.defaultof<string>\n",
      "    v60\n",
      "#endif\n",
      "    |> fun x -> _v9 <- Some x\n",
      "    let v61 : string = _v9.Value\n",
      "    let v62 : int64 = v4.l0\n",
      "    let v72 : string =\n",
      "        match v0 with\n",
      "        | US0_4 -> (* Critical *)\n",
      "            let v67 : string = \"Critical\"\n",
      "            v67\n",
      "        | US0_1 -> (* Debug *)\n",
      "            let v64 : string = \"Debug\"\n",
      "            v64\n",
      "        | US0_2 -> (* Info *)\n",
      "            let v65 : string = \"Info\"\n",
      "            v65\n",
      "        | US0_0 -> (* Verbose *)\n",
      "            let v63 : string = \"Verbose\"\n",
      "            v63\n",
      "        | US0_3 -> (* Warning *)\n",
      "            let v66 : string = \"Warning\"\n",
      "            v66\n",
      "    let v73 : string = v72.ToLower ()\n",
      "    let v74 : string option = None\n",
      "    let v75 : bool = true in let mutable _v74 = v74\n",
      "    #if FABLE_COMPILER_RUST && !WASM && !CONTRACT\n",
      "    let v90 : Ref<Str> =\n",
      "        match v0 with\n",
      "        | US0_4 -> (* Critical *)\n",
      "            let v84 : string = \"inline_colorization::color_bright_red\"\n",
      "            let v85 : Ref<Str> = Fable.Core.RustInterop.emitRustExpr () v84\n",
      "            v85\n",
      "        | US0_1 -> (* Debug *)\n",
      "            let v78 : string = \"inline_colorization::color_bright_blue\"\n",
      "            let v79 : Ref<Str> = Fable.Core.RustInterop.emitRustExpr () v78\n",
      "            v79\n",
      "        | US0_2 -> (* Info *)\n",
      "            let v80 : string = \"inline_colorization::color_bright_green\"\n",
      "            let v81 : Ref<Str> = Fable.Core.RustInterop.emitRustExpr () v80\n",
      "            v81\n",
      "        | US0_0 -> (* Verbose *)\n",
      "            let v76 : string = \"inline_colorization::color_bright_black\"\n",
      "            let v77 : Ref<Str> = Fable.Core.RustInterop.emitRustExpr () v76\n",
      "            v77\n",
      "        | US0_3 -> (* Warning *)\n",
      "            let v82 : string = \"inline_colorization::color_bright_yellow\"\n",
      "            let v83 : Ref<Str> = Fable.Core.RustInterop.emitRustExpr () v82\n",
      "            v83\n",
      "    let v91 : string = \"fable_library_rust::String_::LrcStr::as_str(&$0)\"\n",
      "    let v92 : Ref<Str> = Fable.Core.RustInterop.emitRustExpr v73 v91\n",
      "    let v93 : string = \"inline_colorization::color_reset\"\n",
      "    let v94 : Ref<Str> = Fable.Core.RustInterop.emitRustExpr () v93\n",
      "    let v95 : string = \"\\\"{v90}{v92}{v94}\\\"\"\n",
      "    let v96 : string = @$\"format!(\" + v95 + \")\"\n",
      "    let v97 : std_string_String = Fable.Core.RustInterop.emitRustExpr () v96\n",
      "    let v98 : string = \"fable_library_rust::String_::fromString($0)\"\n",
      "    let v99 : string = Fable.Core.RustInterop.emitRustExpr v97 v98\n",
      "    v99\n",
      "#endif\n",
      "    #if FABLE_COMPILER_RUST && WASM\n",
      "    let v114 : Ref<Str> =\n",
      "        match v0 with\n",
      "        | US0_4 -> (* Critical *)\n",
      "            let v108 : string = \"inline_colorization::color_bright_red\"\n",
      "            let v109 : Ref<Str> = Fable.Core.RustInterop.emitRustExpr () v108\n",
      "            v109\n",
      "        | US0_1 -> (* Debug *)\n",
      "            let v102 : string = \"inline_colorization::color_bright_blue\"\n",
      "            let v103 : Ref<Str> = Fable.Core.RustInterop.emitRustExpr () v102\n",
      "            v103\n",
      "        | US0_2 -> (* Info *)\n",
      "            let v104 : string = \"inline_colorization::color_bright_green\"\n",
      "            let v105 : Ref<Str> = Fable.Core.RustInterop.emitRustExpr () v104\n",
      "            v105\n",
      "        | US0_0 -> (* Verbose *)\n",
      "            let v100 : string = \"inline_colorization::color_bright_black\"\n",
      "            let v101 : Ref<Str> = Fable.Core.RustInterop.emitRustExpr () v100\n",
      "            v101\n",
      "        | US0_3 -> (* Warning *)\n",
      "            let v106 : string = \"inline_colorization::color_bright_yellow\"\n",
      "            let v107 : Ref<Str> = Fable.Core.RustInterop.emitRustExpr () v106\n",
      "            v107\n",
      "    let v115 : string = \"fable_library_rust::String_::LrcStr::as_str(&$0)\"\n",
      "    let v116 : Ref<Str> = Fable.Core.RustInterop.emitRustExpr v73 v115\n",
      "    let v117 : string = \"inline_colorization::color_reset\"\n",
      "    let v118 : Ref<Str> = Fable.Core.RustInterop.emitRustExpr () v117\n",
      "    let v119 : string = \"\\\"{v114}{v116}{v118}\\\"\"\n",
      "    let v120 : string = @$\"format!(\" + v119 + \")\"\n",
      "    let v121 : std_string_String = Fable.Core.RustInterop.emitRustExpr () v120\n",
      "    let v122 : string = \"fable_library_rust::String_::fromString($0)\"\n",
      "    let v123 : string = Fable.Core.RustInterop.emitRustExpr v121 v122\n",
      "    v123\n",
      "#endif\n",
      "    #if FABLE_COMPILER_RUST && CONTRACT\n",
      "    let v138 : Ref<Str> =\n",
      "        match v0 with\n",
      "        | US0_4 -> (* Critical *)\n",
      "            let v132 : string = \"inline_colorization::color_bright_red\"\n",
      "            let v133 : Ref<Str> = Fable.Core.RustInterop.emitRustExpr () v132\n",
      "            v133\n",
      "        | US0_1 -> (* Debug *)\n",
      "            let v126 : string = \"inline_colorization::color_bright_blue\"\n",
      "            let v127 : Ref<Str> = Fable.Core.RustInterop.emitRustExpr () v126\n",
      "            v127\n",
      "        | US0_2 -> (* Info *)\n",
      "            let v128 : string = \"inline_colorization::color_bright_green\"\n",
      "            let v129 : Ref<Str> = Fable.Core.RustInterop.emitRustExpr () v128\n",
      "            v129\n",
      "        | US0_0 -> (* Verbose *)\n",
      "            let v124 : string = \"inline_colorization::color_bright_black\"\n",
      "            let v125 : Ref<Str> = Fable.Core.RustInterop.emitRustExpr () v124\n",
      "            v125\n",
      "        | US0_3 -> (* Warning *)\n",
      "            let v130 : string = \"inline_colorization::color_bright_yellow\"\n",
      "            let v131 : Ref<Str> = Fable.Core.RustInterop.emitRustExpr () v130\n",
      "            v131\n",
      "    let v139 : string = \"fable_library_rust::String_::LrcStr::as_str(&$0)\"\n",
      "    let v140 : Ref<Str> = Fable.Core.RustInterop.emitRustExpr v73 v139\n",
      "    let v141 : string = \"inline_colorization::color_reset\"\n",
      "    let v142 : Ref<Str> = Fable.Core.RustInterop.emitRustExpr () v141\n",
      "    let v143 : string = \"\\\"{v138}{v140}{v142}\\\"\"\n",
      "    let v144 : string = @$\"format!(\" + v143 + \")\"\n",
      "    let v145 : std_string_String = Fable.Core.RustInterop.emitRustExpr () v144\n",
      "    let v146 : string = \"fable_library_rust::String_::fromString($0)\"\n",
      "    let v147 : string = Fable.Core.RustInterop.emitRustExpr v145 v146\n",
      "    v147\n",
      "#endif\n",
      "    #if !FABLE_COMPILER && !FABLE_COMPILER_RUST && !FABLE_COMPILER_TYPESCRIPT && !WASM && !CONTRACT\n",
      "    v73\n",
      "#endif\n",
      "    #if FABLE_COMPILER_TYPESCRIPT\n",
      "    v73\n",
      "#endif\n",
      "    #if FABLE_COMPILER_PYTHON || FABLE_COMPILER_PHP || FABLE_COMPILER_DART\n",
      "    let v148 : string = Unchecked.defaultof<string>\n",
      "    v148\n",
      "#endif\n",
      "    |> fun x -> _v74 <- Some x\n",
      "    let v149 : string = _v74.Value\n",
      "    let v150 : string = $\"{v61} {v149} #{v62} %s{v1 ()} / %s{v2 ()}\"\n",
      "    let v151 : (char []) = [||]\n",
      "    let v152 : string = v150.TrimStart v151\n",
      "    let v153 : (char []) = [|' '; '/'|]\n",
      "    let v154 : string = v152.TrimEnd v153\n",
      "    v154\n",
      "and method2 (v0 : US0, v1 : (unit -> string), v2 : (unit -> string)) : unit =\n",
      "    let v3 : (unit -> struct (Mut0 * Mut1 * Mut1 * Mut2 * int64 option)) = closure0()\n",
      "    if State.trace_state = None then State.trace_state <- v3 () |> Some\n",
      "    let struct (v4 : Mut0, v5 : Mut1, v6 : Mut1, v7 : Mut2, v8 : int64 option) = State.trace_state.Value\n",
      "    if State.trace_state = None then State.trace_state <- v3 () |> Some\n",
      "    let struct (v9 : Mut0, v10 : Mut1, v11 : Mut1, v12 : Mut2, v13 : int64 option) = State.trace_state.Value\n",
      "    let v14 : US0 = v12.l0\n",
      "    let v15 : bool = v11.l0\n",
      "    let v17 : bool =\n",
      "        if v15 then\n",
      "            let v16 : bool = v0 >= v14 \n",
      "            v16\n",
      "        else\n",
      "            false\n",
      "    if v17 then\n",
      "        let v18 : int64 = v4.l0\n",
      "        let v19 : int64 = v18 + 1L\n",
      "        v4.l0 <- v19\n",
      "        let v20 : (unit -> string) = closure4(v0, v1, v2)\n",
      "        let v21 : string = $\"%s{v20 ()}\"\n",
      "        let v22 : unit option = None\n",
      "        let v23 : bool = true in let mutable _v22 = v22\n",
      "        #if FABLE_COMPILER_RUST && !WASM && !CONTRACT\n",
      "        let v24 : string = @\"println!(\"\"{}\"\", $0)\"\n",
      "        Fable.Core.RustInterop.emitRustExpr v21 v24\n",
      "        ()\n",
      "#endif\n",
      "        #if FABLE_COMPILER_RUST && WASM\n",
      "        let v25 : string = @\"println!(\"\"{}\"\", $0)\"\n",
      "        Fable.Core.RustInterop.emitRustExpr v21 v25\n",
      "        ()\n",
      "#endif\n",
      "        #if FABLE_COMPILER_RUST && CONTRACT\n",
      "        let v26 : string = @\"println!(\"\"{}\"\", $0)\"\n",
      "        Fable.Core.RustInterop.emitRustExpr v21 v26\n",
      "        ()\n",
      "#endif\n",
      "        #if !FABLE_COMPILER && !FABLE_COMPILER_RUST && !FABLE_COMPILER_TYPESCRIPT && !WASM && !CONTRACT\n",
      "        System.Console.WriteLine v21 \n",
      "        ()\n",
      "#endif\n",
      "        #if FABLE_COMPILER_TYPESCRIPT\n",
      "        System.Console.WriteLine v21 \n",
      "        ()\n",
      "#endif\n",
      "        #if FABLE_COMPILER_PYTHON || FABLE_COMPILER_PHP || FABLE_COMPILER_DART\n",
      "        Unchecked.defaultof<unit>\n",
      "        ()\n",
      "#endif\n",
      "        |> fun x -> _v22 <- Some x\n",
      "        _v22.Value\n",
      "        ()\n",
      "and closure3 (v0 : US0, v1 : (unit -> string)) (v2 : (unit -> string)) : unit =\n",
      "    method2(v0, v1, v2)\n",
      "and closure2 (v0 : US0) (v1 : (unit -> string)) : ((unit -> string) -> unit) =\n",
      "    closure3(v0, v1)\n",
      "and closure1 () (v0 : US0) : ((unit -> string) -> ((unit -> string) -> unit)) =\n",
      "    closure2(v0)\n",
      "let v0 : (unit -> struct (Mut0 * Mut1 * Mut1 * Mut2 * int64 option)) = closure0()\n",
      "if State.trace_state = None then State.trace_state <- v0 () |> Some\n",
      "let v1 : (US0 -> ((unit -> string) -> ((unit -> string) -> unit))) = closure1()\n",
      "let trace x = v1 x\n",
      "()\n",
      "\n"
     ]
    }
   ],
   "source": [
    "inl main () =\n",
    "    types ()\n",
    "    init_trace_state ()\n",
    "    $\"let trace x = !trace x\" : ()"
   ]
  }
 ],
 "metadata": {},
 "nbformat": 4,
 "nbformat_minor": 5
}