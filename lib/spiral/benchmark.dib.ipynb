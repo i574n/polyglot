{
 "cells": [
  {
   "cell_type": "markdown",
   "metadata": {},
   "source": [
    "## benchmark (Polyglot)"
   ]
  },
  {
   "cell_type": "code",
   "execution_count": null,
   "metadata": {
    "dotnet_interactive": {
     "language": "spiral"
    },
    "polyglot_notebook": {
     "kernelName": "spiral"
    }
   },
   "outputs": [],
   "source": [
    "//// test\n",
    "\n",
    "open testing"
   ]
  },
  {
   "cell_type": "code",
   "execution_count": null,
   "metadata": {
    "dotnet_interactive": {
     "language": "spiral"
    },
    "polyglot_notebook": {
     "kernelName": "spiral"
    }
   },
   "outputs": [],
   "source": [
    "inl gc_collect () =\n",
    "    run_target function\n",
    "        | Fsharp _ => fun () => $\"System.GC.Collect ()\"\n",
    "        | _ => fun () => ()\n",
    "        \n",
    "inl printfn x =\n",
    "    console.write_line x\n",
    "\n",
    "nominal stopwatch = $\"System.Diagnostics.Stopwatch\"\n",
    "\n",
    "inl stopwatch () : stopwatch =\n",
    "    $\"`stopwatch\" ()\n",
    "\n",
    "inl stopwatch_elapsed_milliseconds (stopwatch : stopwatch) : i64 =\n",
    "    $\"!stopwatch.ElapsedMilliseconds\"\n",
    "\n",
    "inl stopwatch_start (stopwatch : stopwatch) : () =\n",
    "    $\"!stopwatch.Start ()\""
   ]
  },
  {
   "cell_type": "markdown",
   "metadata": {},
   "source": [
    "## test_case_result"
   ]
  },
  {
   "cell_type": "code",
   "execution_count": null,
   "metadata": {
    "dotnet_interactive": {
     "language": "spiral"
    },
    "polyglot_notebook": {
     "kernelName": "spiral"
    }
   },
   "outputs": [],
   "source": [
    "type test_case_result =\n",
    "    {\n",
    "        Input : string\n",
    "        Expected : string\n",
    "        Result : string\n",
    "        TimeList : a u64 i64\n",
    "    }"
   ]
  },
  {
   "cell_type": "markdown",
   "metadata": {},
   "source": [
    "## run"
   ]
  },
  {
   "cell_type": "code",
   "execution_count": null,
   "metadata": {
    "dotnet_interactive": {
     "language": "spiral"
    },
    "polyglot_notebook": {
     "kernelName": "spiral"
    }
   },
   "outputs": [],
   "source": [
    "inl run forall input expected.\n",
    "    count\n",
    "    (solutions : list (string * (input -> expected)))\n",
    "    ((input, expected) : (input * expected))\n",
    "    : test_case_result\n",
    "    =\n",
    "    inl input_str = input |> sm'.format_debug\n",
    "\n",
    "    printfn \"\"\n",
    "    printfn ($\"$\\\"Solution: {!input_str}  \\\"\" : string)\n",
    "\n",
    "    inl performance_invoke (fn : () -> expected) =\n",
    "        gc_collect ()\n",
    "        inl stopwatch = stopwatch ()\n",
    "        stopwatch |> stopwatch_start\n",
    "        inl time1 = stopwatch |> stopwatch_elapsed_milliseconds\n",
    "        inl result : expected =\n",
    "            am'.init_series 0 count 1i32\n",
    "            |> am'.parallel_map fun _n => fn ()\n",
    "            |> am'.last\n",
    "        inl time2 = (stopwatch |> stopwatch_elapsed_milliseconds) - time1\n",
    "        result, time2\n",
    "\n",
    "    inl results_with_time : a u64 _ =\n",
    "        solutions\n",
    "        |> listm'.indexed\n",
    "        |> listm.toArray\n",
    "        |> am.map fun ((i : i32), (test_name, solution)) =>\n",
    "            inl result, time = performance_invoke fun () => solution input\n",
    "            printfn ($\"$\\\"Test case {!i + 1}. {!test_name}. Time: {!time}  \\\"\" : string)\n",
    "            result, time\n",
    "\n",
    "    match results_with_time |> am.map fst with\n",
    "    | array when length array <= 1 => ()\n",
    "    | array when array |> am.forall' ((=) (index array 0)) => ()\n",
    "    | results => failwith ($\"$\\\"Challenge error: {!results}\\\"\" : string)\n",
    "\n",
    "    {\n",
    "        Input = input_str\n",
    "        Expected = expected |> sm'.format_debug\n",
    "        Result = results_with_time |> am.map fst |> fun array => index array 0 |> sm'.format_debug\n",
    "        TimeList = results_with_time |> am.map snd\n",
    "    }"
   ]
  },
  {
   "cell_type": "markdown",
   "metadata": {},
   "source": [
    "## run_all"
   ]
  },
  {
   "cell_type": "code",
   "execution_count": null,
   "metadata": {
    "dotnet_interactive": {
     "language": "spiral"
    },
    "polyglot_notebook": {
     "kernelName": "spiral"
    }
   },
   "outputs": [],
   "source": [
    "inl run_all forall input expected.\n",
    "    test_name\n",
    "    count\n",
    "    (solutions : list (string * (input -> expected)))\n",
    "    test_cases\n",
    "    =\n",
    "    printfn \"\"\n",
    "    printfn \"\"\n",
    "    printfn ($\"$\\\"Test: {!test_name}\\\"\" : string)\n",
    "    test_cases\n",
    "    |> listm.toArray\n",
    "    |> am.map (run count solutions)"
   ]
  },
  {
   "cell_type": "markdown",
   "metadata": {},
   "source": [
    "## sort_result_list"
   ]
  },
  {
   "cell_type": "code",
   "execution_count": null,
   "metadata": {
    "dotnet_interactive": {
     "language": "spiral"
    },
    "polyglot_notebook": {
     "kernelName": "spiral"
    }
   },
   "outputs": [],
   "source": [
    "inl sort_result_list results =\n",
    "    inl table =\n",
    "        inl rows =\n",
    "            results\n",
    "            |> am.map fun (result : test_case_result) =>\n",
    "                inl best =\n",
    "                    result.TimeList\n",
    "                    |> am'.indexed\n",
    "                    |> am.map fun (i, time) =>\n",
    "                        i + 1i64, time\n",
    "                    |> am'.sort_by snd\n",
    "                    |> fun array => index array 0i32\n",
    "                    |> sm'.format_debug\n",
    "                inl row =\n",
    "                    [\n",
    "                        result.Input\n",
    "                        result.Expected\n",
    "                        result.Result\n",
    "                        best\n",
    "                    ]\n",
    "                inl color : option console.console_color =\n",
    "                    open console\n",
    "                    match result.Expected = result.Result with\n",
    "                    | true => Some $\"`console_color.DarkGreen\"\n",
    "                    | false => Some $\"`console_color.DarkRed\"\n",
    "                row, color\n",
    "\n",
    "        inl header =\n",
    "            [\n",
    "                [\n",
    "                    \"Input\"\n",
    "                    \"Expected\"\n",
    "                    \"Result\"\n",
    "                    \"Best\"\n",
    "                ]\n",
    "                [\n",
    "                    \"---\"\n",
    "                    \"---\"\n",
    "                    \"---\"\n",
    "                    \"---\"\n",
    "                ]\n",
    "            ]\n",
    "            |> listm.map fun row => row, None\n",
    "            |> listm.toArray\n",
    "        rows |> am.append header\n",
    "\n",
    "    inl formattedTable =\n",
    "        inl lengthMap : mapm.map i32 i64 =\n",
    "            table\n",
    "            |> am.map (fst >> listm.toArray)\n",
    "            |> am'.transpose\n",
    "            |> am.map fun column =>\n",
    "                column\n",
    "                |> am.map sm.length\n",
    "                |> am'.sort_descending\n",
    "                |> am'.try_item 0i32\n",
    "                |> optionm'.default_value 0i64\n",
    "            |> am'.indexed\n",
    "            |> fun (x : a i32 _) => x\n",
    "            |> mapm.of_array\n",
    "        table\n",
    "        |> am.map fun (row, color) =>\n",
    "            inl newRow =\n",
    "                row\n",
    "                |> listm'.indexed\n",
    "                |> listm.map fun (i, cell) =>\n",
    "                    cell |> sm'.pad_right (lengthMap |> mapm.item i |> conv) ' '\n",
    "                |> listm.toArray\n",
    "            newRow, color\n",
    "\n",
    "    printfn \"\"\n",
    "    formattedTable\n",
    "    |> am.iter fun ((row : a i32 string), color) =>\n",
    "        match color with\n",
    "        | Some color => color |> console.set_foreground_color\n",
    "        | None => console.reset_color ()\n",
    "\n",
    "        printfn (row |> sm'.join' \"\\t| \")\n",
    "\n",
    "        console.reset_color ()\n",
    "\n",
    "    inl averages : a u64 _ =\n",
    "        results\n",
    "        |> am.map fun result =>\n",
    "            result.TimeList\n",
    "            |> am.map ($\"float\" : i64 -> f64)\n",
    "        |> am'.transpose\n",
    "        |> am.map am'.average\n",
    "        |> am.map ($\"int64\" : f64 -> i64)\n",
    "        |> am'.indexed\n",
    "\n",
    "    printfn \"\"\n",
    "    printfn \"Average Ranking  \"\n",
    "    averages\n",
    "    |> am'.sort_by snd\n",
    "    |> am.iter fun ((i : i32), avg) =>\n",
    "        printfn ($\"$\\\"Test case %d{!i + 1}. Average Time: %A{!avg}  \\\"\" : string)"
   ]
  },
  {
   "cell_type": "code",
   "execution_count": null,
   "metadata": {
    "dotnet_interactive": {
     "language": "spiral"
    },
    "polyglot_notebook": {
     "kernelName": "spiral"
    }
   },
   "outputs": [],
   "source": [
    "//// test\n",
    "\n",
    "inl is_fast () =\n",
    "    false"
   ]
  },
  {
   "cell_type": "markdown",
   "metadata": {},
   "source": [
    "## empty2Tests"
   ]
  },
  {
   "cell_type": "markdown",
   "metadata": {},
   "source": [
    "Test: Empty2\n",
    "\n",
    "Solution: (a, a)  \n",
    "Test case 1. A. Time: 59L\n",
    "\n",
    "Solution: (a, a)  \n",
    "Test case 1. A. Time: 53L\n",
    "\n",
    "Input   | Expected        | Result  | Best\n",
    "---     | ---             | ---     | ---\n",
    "(a, a)  | a               | a       | (1, 59)\n",
    "(a, a)  | a               | a       | (1, 53)\n",
    "\n",
    "Averages  \n",
    "Test case 1. Average Time: 56L\n",
    "\n",
    "Ranking  \n",
    "Test case 1. Average Time: 56L"
   ]
  },
  {
   "cell_type": "code",
   "execution_count": null,
   "metadata": {
    "dotnet_interactive": {
     "language": "spiral"
    },
    "polyglot_notebook": {
     "kernelName": "spiral"
    }
   },
   "outputs": [
    {
     "name": "stdout",
     "output_type": "stream",
     "text": [
      "\n",
      "\n",
      "Test: v0\n",
      "\n",
      "Solution: struct (\"a\", \"a\")  \n",
      "Test case 1. A. Time: 23  \n",
      "Test case 2. B. Time: 14  \n",
      "\n",
      "Solution: struct (\"b\", \"b\")  \n",
      "Test case 1. A. Time: 18  \n",
      "Test case 2. B. Time: 19  \n",
      "\n",
      "Input            \t| Expected\t| Result\t| Best            \n",
      "---              \t| ---     \t| ---   \t| ---             \n",
      "struct (\"a\", \"a\")\t| \"a\"     \t| \"a\"   \t| struct (2L, 14L)\n",
      "struct (\"b\", \"b\")\t| \"b\"     \t| \"b\"   \t| struct (1L, 18L)\n",
      "\n",
      "Average Ranking  \n",
      "Test case 2. Average Time: 16L  \n",
      "Test case 1. Average Time: 20L  \n"
     ]
    }
   ],
   "source": [
    "//// test\n",
    "\n",
    "inl get_solutions () =\n",
    "    [\n",
    "        \"A\",\n",
    "        fun (a, _b) =>\n",
    "            a\n",
    "\n",
    "        \"B\",\n",
    "        fun (_a, b) =>\n",
    "            b\n",
    "    ]\n",
    "\n",
    "inl rec empty_2_tests () =\n",
    "    inl test_cases = [\n",
    "        (\"a\", \"a\"), \"a\"\n",
    "        (\"b\", \"b\"), \"b\"\n",
    "    ]\n",
    "\n",
    "    inl solutions = get_solutions ()\n",
    "\n",
    "    // inl is_fast () = true\n",
    "\n",
    "    inl count =\n",
    "        if is_fast ()\n",
    "        then 1000i32\n",
    "        else 2000000i32\n",
    "\n",
    "    run_all (nameof empty_2_tests) count solutions test_cases\n",
    "    |> sort_result_list\n",
    "\n",
    "empty_2_tests ()"
   ]
  },
  {
   "cell_type": "markdown",
   "metadata": {},
   "source": [
    "## emptyTests"
   ]
  },
  {
   "cell_type": "markdown",
   "metadata": {},
   "source": [
    "Test: Empty\n",
    "\n",
    "Solution: 0  \n",
    "Test case 1. A. Time: 61L\n",
    "\n",
    "Solution: 2  \n",
    "Test case 1. A. Time: 62L\n",
    "\n",
    "Solution: 5  \n",
    "Test case 1. A. Time: 70L\n",
    "\n",
    "Input   | Expected        | Result  | Best\n",
    "---     | ---             | ---     | ---\n",
    "0       | 0               | 0       | (1, 61)\n",
    "2       | 2               | 2       | (1, 62)\n",
    "5       | 5               | 5       | (1, 70)\n",
    "\n",
    "Averages  \n",
    "Test case 1. Average Time: 64L\n",
    "\n",
    "Ranking  \n",
    "Test case 1. Average Time: 64L"
   ]
  },
  {
   "cell_type": "code",
   "execution_count": null,
   "metadata": {
    "dotnet_interactive": {
     "language": "spiral"
    },
    "polyglot_notebook": {
     "kernelName": "spiral"
    }
   },
   "outputs": [
    {
     "name": "stdout",
     "output_type": "stream",
     "text": [
      "\n",
      "\n",
      "Test: v0\n",
      "\n",
      "Solution: 0.0  \n",
      "Test case 1. A. Time: 23  \n",
      "\n",
      "Solution: 2.0  \n",
      "Test case 1. A. Time: 16  \n",
      "\n",
      "Solution: 5.0  \n",
      "Test case 1. A. Time: 18  \n",
      "\n",
      "Input\t| Expected\t| Result\t| Best            \n",
      "---  \t| ---     \t| ---   \t| ---             \n",
      "0.0  \t| 1.0     \t| 1.0   \t| struct (1L, 23L)\n",
      "2.0  \t| 3.0     \t| 3.0   \t| struct (1L, 16L)\n",
      "5.0  \t| 6.0     \t| 6.0   \t| struct (1L, 18L)\n",
      "\n",
      "Average Ranking  \n",
      "Test case 1. Average Time: 19L  \n"
     ]
    }
   ],
   "source": [
    "//// test\n",
    "\n",
    "inl get_solutions () =\n",
    "    [\n",
    "        \"A\",\n",
    "        fun n =>\n",
    "            n + 1f64\n",
    "    ]\n",
    "\n",
    "inl rec empty_1_tests () =\n",
    "    inl test_cases = [\n",
    "        0, 1\n",
    "        2, 3\n",
    "        5, 6\n",
    "    ]\n",
    "\n",
    "    inl solutions = get_solutions ()\n",
    "\n",
    "    // inl is_fast () = true\n",
    "\n",
    "    inl count =\n",
    "        if is_fast ()\n",
    "        then 1000i32\n",
    "        else 2000000i32\n",
    "\n",
    "    run_all (nameof empty_1_tests) count solutions test_cases\n",
    "    |> sort_result_list\n",
    "\n",
    "empty_1_tests ()"
   ]
  }
 ],
 "metadata": {},
 "nbformat": 4,
 "nbformat_minor": 5
}