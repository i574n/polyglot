{
 "cells": [
  {
   "cell_type": "markdown",
   "metadata": {},
   "source": [
    "## benchmark"
   ]
  },
  {
   "cell_type": "code",
   "execution_count": null,
   "metadata": {
    "dotnet_interactive": {
     "language": "spiral"
    },
    "polyglot_notebook": {
     "kernelName": "spiral"
    }
   },
   "outputs": [],
   "source": [
    "//// test\n",
    "\n",
    "open testing"
   ]
  },
  {
   "cell_type": "markdown",
   "metadata": {},
   "source": [
    "## fsharp"
   ]
  },
  {
   "cell_type": "markdown",
   "metadata": {},
   "source": [
    "### test_case_result"
   ]
  },
  {
   "cell_type": "code",
   "execution_count": null,
   "metadata": {
    "dotnet_interactive": {
     "language": "spiral"
    },
    "polyglot_notebook": {
     "kernelName": "spiral"
    }
   },
   "outputs": [],
   "source": [
    "type test_case_result =\n",
    "    {\n",
    "        input : string\n",
    "        expected : string\n",
    "        result : string\n",
    "        time_list : a u64 i64\n",
    "    }"
   ]
  },
  {
   "cell_type": "markdown",
   "metadata": {},
   "source": [
    "### invoke"
   ]
  },
  {
   "cell_type": "code",
   "execution_count": null,
   "metadata": {
    "dotnet_interactive": {
     "language": "spiral"
    },
    "polyglot_notebook": {
     "kernelName": "spiral"
    }
   },
   "outputs": [],
   "source": [
    "inl invoke forall t. count (fn : () -> t) =\n",
    "    runtime.gc_collect ()\n",
    "    inl stopwatch = date_time.stopwatch ()\n",
    "    stopwatch |> date_time.stopwatch_start\n",
    "    inl time1 = stopwatch |> date_time.stopwatch_elapsed_milliseconds\n",
    "    inl result : t =\n",
    "        am'.init_series 0 count 1i32\n",
    "        |> am'.parallel_map fun _n => fn ()\n",
    "        |> am'.last\n",
    "    inl time2 = (stopwatch |> date_time.stopwatch_elapsed_milliseconds) - time1\n",
    "    result, time2"
   ]
  },
  {
   "cell_type": "markdown",
   "metadata": {},
   "source": [
    "### run"
   ]
  },
  {
   "cell_type": "code",
   "execution_count": null,
   "metadata": {
    "dotnet_interactive": {
     "language": "spiral"
    },
    "polyglot_notebook": {
     "kernelName": "spiral"
    }
   },
   "outputs": [],
   "source": [
    "inl run forall input expected.\n",
    "    count\n",
    "    (solutions : list (string * (input -> expected)))\n",
    "    ((input, expected) : (input * expected))\n",
    "    : test_case_result\n",
    "    =\n",
    "    inl input_str = input |> sm'.format_debug\n",
    "\n",
    "    console.write_line \"\"\n",
    "    trace Verbose\n",
    "        fun () => $'$\"benchmark.run\"'\n",
    "        fun () => { input_str = input_str |> sm'.ellipsis_end 40 }\n",
    "\n",
    "    inl results_with_time : a u64 _ =\n",
    "        solutions\n",
    "        |> listm'.indexed\n",
    "        |> listm.toArray\n",
    "        |> am.map fun ((i : int), (test_name, solution)) =>\n",
    "            inl result, time =\n",
    "                fun () => solution input\n",
    "                |> invoke count\n",
    "            trace Verbose\n",
    "                fun () => $'$\"benchmark.run / solutions.map\"'\n",
    "                fun () => { i = i + 1; test_name time }\n",
    "            result, time\n",
    "\n",
    "    match results_with_time |> am.map fst with\n",
    "    | array when length array <= 1 => ()\n",
    "    | array when array |> am.forall' ((=) (index array 0)) => ()\n",
    "    | results => failwith ($'$\"benchmark.run / error / results: {!results}\"' : string)\n",
    "\n",
    "    {\n",
    "        input = input_str\n",
    "        expected = expected |> sm'.format_debug\n",
    "        result = results_with_time |> am.map fst |> am'.index 0 |> sm'.format_debug\n",
    "        time_list = results_with_time |> am.map snd\n",
    "    }"
   ]
  },
  {
   "cell_type": "markdown",
   "metadata": {},
   "source": [
    "### run_all"
   ]
  },
  {
   "cell_type": "code",
   "execution_count": null,
   "metadata": {
    "dotnet_interactive": {
     "language": "spiral"
    },
    "polyglot_notebook": {
     "kernelName": "spiral"
    }
   },
   "outputs": [],
   "source": [
    "inl run_all forall input expected.\n",
    "    test_name\n",
    "    count\n",
    "    (solutions : list (string * (input -> expected)))\n",
    "    test_cases\n",
    "    =\n",
    "    console.write_line \"\"\n",
    "    console.write_line \"```\"\n",
    "    trace Verbose\n",
    "        fun () => $'$\"benchmark.run_all\"'\n",
    "        fun () => { test_name count }\n",
    "    test_cases\n",
    "    |> listm.toArray\n",
    "    |> am.map (run count solutions)"
   ]
  },
  {
   "cell_type": "markdown",
   "metadata": {},
   "source": [
    "### sort_result_list"
   ]
  },
  {
   "cell_type": "code",
   "execution_count": null,
   "metadata": {
    "dotnet_interactive": {
     "language": "spiral"
    },
    "polyglot_notebook": {
     "kernelName": "spiral"
    }
   },
   "outputs": [],
   "source": [
    "inl sort_result_list results =\n",
    "    inl table =\n",
    "        inl rows =\n",
    "            results\n",
    "            |> am.map fun (result : test_case_result) =>\n",
    "                inl best =\n",
    "                    result.time_list\n",
    "                    |> am'.indexed\n",
    "                    |> am.map fun (i, time) =>\n",
    "                        i + 1i32, time\n",
    "                    |> am'.sort_by snd\n",
    "                    |> am'.index 0i32\n",
    "                    |> sm'.format\n",
    "                inl row =\n",
    "                    [\n",
    "                        result.input |> sm'.ellipsis_end 40 |> sm'.replace \"|\" \"\"\n",
    "                        result.expected\n",
    "                        result.result\n",
    "                        best\n",
    "                    ]\n",
    "                inl color : option console.console_color =\n",
    "                    open console\n",
    "                    match result.expected = result.result with\n",
    "                    | true => Some $'`console_color.DarkGreen'\n",
    "                    | false => Some $'`console_color.DarkRed'\n",
    "                row, color\n",
    "\n",
    "        inl header =\n",
    "            [\n",
    "                [\n",
    "                    \"input\"\n",
    "                    \"expected\"\n",
    "                    \"result\"\n",
    "                    \"best\"\n",
    "                ]\n",
    "                [\n",
    "                    \"---\"\n",
    "                    \"---\"\n",
    "                    \"---\"\n",
    "                    \"---\"\n",
    "                ]\n",
    "            ]\n",
    "            |> listm.map fun row => row, None\n",
    "            |> listm.toArray\n",
    "        rows |> am.append header\n",
    "\n",
    "    inl formatted_table =\n",
    "        inl length_map : mapm.map i32 i64 =\n",
    "            table\n",
    "            |> am.map (fst >> listm.toArray)\n",
    "            |> am'.transpose\n",
    "            |> am.map fun column =>\n",
    "                column\n",
    "                |> am.map sm.length\n",
    "                |> am'.sort_descending\n",
    "                |> am'.try_item 0i32\n",
    "                |> optionm'.default_value 0i64\n",
    "            |> am'.indexed\n",
    "            |> fun (x : a i32 _) => x\n",
    "            |> mapm.of_array\n",
    "        table\n",
    "        |> am.map fun (row, color) =>\n",
    "            inl new_row =\n",
    "                row\n",
    "                |> listm'.indexed\n",
    "                |> listm.map fun (i, cell) =>\n",
    "                    cell |> sm'.pad_right (length_map |> mapm.item i |> conv) ' '\n",
    "                |> listm.toArray\n",
    "            new_row, color\n",
    "\n",
    "    console.write_line \"```\"\n",
    "    formatted_table\n",
    "    |> am.iter fun ((row : a i32 string), color) =>\n",
    "        match color with\n",
    "        | Some color => color |> console.set_foreground_color\n",
    "        | None => console.reset_color ()\n",
    "\n",
    "        row |> sm'.join' \"\\t| \" |> console.write_line\n",
    "\n",
    "        console.reset_color ()\n",
    "\n",
    "    inl averages : a u64 _ =\n",
    "        results\n",
    "        |> am.map fun result =>\n",
    "            result.time_list\n",
    "            |> am.map ($'float' : i64 -> f64)\n",
    "        |> am'.transpose\n",
    "        |> am.map am'.average\n",
    "        |> am.map ($'int64' : f64 -> i64)\n",
    "        |> am'.indexed\n",
    "\n",
    "    console.write_line \"```\"\n",
    "    averages\n",
    "    |> am'.sort_by snd\n",
    "    |> am.iter fun ((i : i32), avg) =>\n",
    "        trace Verbose\n",
    "            fun () => $'$\"benchmark.sort_result_list / averages.iter\"'\n",
    "            fun () => { i = i + 1; avg }\n",
    "    console.write_line \"```\""
   ]
  },
  {
   "cell_type": "code",
   "execution_count": null,
   "metadata": {
    "dotnet_interactive": {
     "language": "spiral"
    },
    "polyglot_notebook": {
     "kernelName": "spiral"
    }
   },
   "outputs": [],
   "source": [
    "//// test\n",
    "\n",
    "inl is_fast () =\n",
    "    false"
   ]
  },
  {
   "cell_type": "markdown",
   "metadata": {},
   "source": [
    "### empty2Tests"
   ]
  },
  {
   "cell_type": "markdown",
   "metadata": {},
   "source": [
    "Test: Empty2\n",
    "\n",
    "Solution: (a, a)\n",
    "Test case 1. A. Time: 59L\n",
    "\n",
    "Solution: (a, a)\n",
    "Test case 1. A. Time: 53L\n",
    "\n",
    "Input   | Expected        | Result  | Best\n",
    "---     | ---             | ---     | ---\n",
    "(a, a)  | a               | a       | (1, 59)\n",
    "(a, a)  | a               | a       | (1, 53)\n",
    "\n",
    "Averages\n",
    "Test case 1. Average Time: 56L\n",
    "\n",
    "Ranking\n",
    "Test case 1. Average Time: 56L\n",
    "\n",
    "---\n",
    "\n",
    "\n",
    "```\n",
    "01:12:03 \u001B[90mverbose\u001B[0m #1 benchmark.run_all / {count = 2000000; test_name = empty_2_tests}\n",
    "01:12:03 \u001B[90mverbose\u001B[0m #2 benchmark.run / {count = 2000000; expected = a; input = a, a; input_str = struct (\"a\", \"a\")}\n",
    "01:12:03 \u001B[90mverbose\u001B[0m #3 benchmark.run / solutions.map / {count = 2000000; expected = a; i = 0; input = a, a; input_str = struct (\"a\", \"a\"); test_name = A; time = 119}\n",
    "01:12:04 \u001B[90mverbose\u001B[0m #4 benchmark.run / solutions.map / {count = 2000000; expected = a; i = 1; input = a, a; input_str = struct (\"a\", \"a\"); test_name = B; time = 122}\n",
    "01:12:04 \u001B[90mverbose\u001B[0m #5 benchmark.run / {count = 2000000; expected = b; input = b, b; input_str = struct (\"b\", \"b\")}\n",
    "01:12:04 \u001B[90mverbose\u001B[0m #6 benchmark.run / solutions.map / {count = 2000000; expected = b; i = 0; input = b, b; input_str = struct (\"b\", \"b\"); test_name = A; time = 110}\n",
    "01:12:04 \u001B[90mverbose\u001B[0m #7 benchmark.run / solutions.map / {count = 2000000; expected = b; i = 1; input = b, b; input_str = struct (\"b\", \"b\"); test_name = B; time = 120}\n",
    "```\n",
    "Input            \t| Expected\t| Result\t| Best             \n",
    "---              \t| ---     \t| ---   \t| ---              \n",
    "struct (\"a\", \"a\")\t| \"a\"     \t| \"a\"   \t| struct (1L, 119L)\n",
    "struct (\"b\", \"b\")\t| \"b\"     \t| \"b\"   \t| struct (1L, 110L)\n",
    "```\n",
    "01:12:04 \u001B[90mverbose\u001B[0m #8 benchmark.sort_result_list / averages.iter / {avg = 114; i = 0}\n",
    "01:12:04 \u001B[90mverbose\u001B[0m #9 benchmark.sort_result_list / averages.iter / {avg = 121; i = 1}\n",
    "```\n",
    "`"
   ]
  },
  {
   "cell_type": "code",
   "execution_count": null,
   "metadata": {
    "dotnet_interactive": {
     "language": "spiral"
    },
    "polyglot_notebook": {
     "kernelName": "spiral"
    }
   },
   "outputs": [
    {
     "name": "stdout",
     "output_type": "stream",
     "text": [
      "\n",
      "```\n",
      "00:00:00 \u001B[90mverbose\u001B[0m #1 benchmark.run_all / { test_name = empty_2_tests; count = 2000000 }\n",
      "\n",
      "00:00:00 \u001B[90mverbose\u001B[0m #2 benchmark.run / { input_str = struct (\"a\", \"a\") }\n",
      "00:00:00 \u001B[90mverbose\u001B[0m #3 benchmark.run / solutions.map / { i = 1; test_name = A; time = 26 }\n",
      "00:00:00 \u001B[90mverbose\u001B[0m #4 benchmark.run / solutions.map / { i = 2; test_name = B; time = 14 }\n",
      "\n",
      "00:00:00 \u001B[90mverbose\u001B[0m #5 benchmark.run / { input_str = struct (\"b\", \"b\") }\n",
      "00:00:00 \u001B[90mverbose\u001B[0m #6 benchmark.run / solutions.map / { i = 1; test_name = A; time = 13 }\n",
      "00:00:00 \u001B[90mverbose\u001B[0m #7 benchmark.run / solutions.map / { i = 2; test_name = B; time = 15 }\n",
      "```\n",
      "input            \t| expected\t| result\t| best \n",
      "---              \t| ---     \t| ---   \t| ---  \n",
      "struct (\"a\", \"a\")\t| \"a\"     \t| \"a\"   \t| 2, 14\n",
      "struct (\"b\", \"b\")\t| \"b\"     \t| \"b\"   \t| 1, 13\n",
      "```\n",
      "00:00:00 \u001B[90mverbose\u001B[0m #8 benchmark.sort_result_list / averages.iter / { i = 2; avg = 14 }\n",
      "00:00:00 \u001B[90mverbose\u001B[0m #9 benchmark.sort_result_list / averages.iter / { i = 1; avg = 19 }\n",
      "```\n"
     ]
    }
   ],
   "source": [
    "//// test\n",
    "\n",
    "inl get_solutions () =\n",
    "    [\n",
    "        \"A\",\n",
    "        fun (a, _b) =>\n",
    "            a\n",
    "\n",
    "        \"B\",\n",
    "        fun (_a, b) =>\n",
    "            b\n",
    "    ]\n",
    "\n",
    "inl rec empty_2_tests () =\n",
    "    inl test_cases = [\n",
    "        (\"a\", \"a\"), \"a\"\n",
    "        (\"b\", \"b\"), \"b\"\n",
    "    ]\n",
    "\n",
    "    inl solutions = get_solutions ()\n",
    "\n",
    "    // inl is_fast () = true\n",
    "\n",
    "    inl count =\n",
    "        if is_fast ()\n",
    "        then 1000i32\n",
    "        else 2000000i32\n",
    "\n",
    "    run_all (reflection.nameof { empty_2_tests }) count solutions test_cases\n",
    "    |> sort_result_list\n",
    "\n",
    "empty_2_tests ()"
   ]
  },
  {
   "cell_type": "markdown",
   "metadata": {},
   "source": [
    "### emptyTests"
   ]
  },
  {
   "cell_type": "markdown",
   "metadata": {},
   "source": [
    "Test: Empty\n",
    "\n",
    "Solution: 0\n",
    "Test case 1. A. Time: 61L\n",
    "\n",
    "Solution: 2\n",
    "Test case 1. A. Time: 62L\n",
    "\n",
    "Solution: 5\n",
    "Test case 1. A. Time: 70L\n",
    "\n",
    "Input   | Expected        | Result  | Best\n",
    "---     | ---             | ---     | ---\n",
    "0       | 0               | 0       | (1, 61)\n",
    "2       | 2               | 2       | (1, 62)\n",
    "5       | 5               | 5       | (1, 70)\n",
    "\n",
    "Averages\n",
    "Test case 1. Average Time: 64L\n",
    "\n",
    "Ranking\n",
    "Test case 1. Average Time: 64L\n",
    "\n",
    "---\n",
    "\n",
    "```\n",
    "01:21:25 \u001B[90mverbose\u001B[0m #1 benchmark.run_all / {count = 2000000; test_name = empty_1_tests}\n",
    "01:21:25 \u001B[90mverbose\u001B[0m #2 benchmark.run / {count = 2000000; expected = +1.000000; input = +0.000000; input_str = 0.0}\n",
    "01:21:25 \u001B[90mverbose\u001B[0m #3 benchmark.run / solutions.map / {count = 2000000; expected = +1.000000; i = 0; input = +0.000000; input_str = 0.0; test_name = A; time = 36}\n",
    "01:21:25 \u001B[90mverbose\u001B[0m #4 benchmark.run / {count = 2000000; expected = +3.000000; input = +2.000000; input_str = 2.0}\n",
    "01:21:25 \u001B[90mverbose\u001B[0m #5 benchmark.run / solutions.map / {count = 2000000; expected = +3.000000; i = 0; input = +2.000000; input_str = 2.0; test_name = A; time = 20}\n",
    "01:21:25 \u001B[90mverbose\u001B[0m #6 benchmark.run / {count = 2000000; expected = +6.000000; input = +5.000000; input_str = 5.0}\n",
    "01:21:25 \u001B[90mverbose\u001B[0m #7 benchmark.run / solutions.map / {count = 2000000; expected = +6.000000; i = 0; input = +5.000000; input_str = 5.0; test_name = A; time = 22}\n",
    "```\n",
    "Input\t| Expected\t| Result\t| Best            \n",
    "---  \t| ---     \t| ---   \t| ---             \n",
    "0.0  \t| 1.0     \t| 1.0   \t| struct (1L, 36L)\n",
    "2.0  \t| 3.0     \t| 3.0   \t| struct (1L, 20L)\n",
    "5.0  \t| 6.0     \t| 6.0   \t| struct (1L, 22L)\n",
    "```\n",
    "01:21:25 \u001B[90mverbose\u001B[0m #8 benchmark.sort_result_list / averages.iter / {avg = 26; i = 0}\n",
    "```"
   ]
  },
  {
   "cell_type": "code",
   "execution_count": null,
   "metadata": {
    "dotnet_interactive": {
     "language": "spiral"
    },
    "polyglot_notebook": {
     "kernelName": "spiral"
    }
   },
   "outputs": [
    {
     "name": "stdout",
     "output_type": "stream",
     "text": [
      "\n",
      "```\n",
      "00:00:00 \u001B[90mverbose\u001B[0m #1 benchmark.run_all / { test_name = empty_1_tests; count = 2000000 }\n",
      "\n",
      "00:00:00 \u001B[90mverbose\u001B[0m #2 benchmark.run / { input_str = 0.0 }\n",
      "00:00:00 \u001B[90mverbose\u001B[0m #3 benchmark.run / solutions.map / { i = 1; test_name = A; time = 22 }\n",
      "\n",
      "00:00:00 \u001B[90mverbose\u001B[0m #4 benchmark.run / { input_str = 2.0 }\n",
      "00:00:00 \u001B[90mverbose\u001B[0m #5 benchmark.run / solutions.map / { i = 1; test_name = A; time = 11 }\n",
      "\n",
      "00:00:00 \u001B[90mverbose\u001B[0m #6 benchmark.run / { input_str = 5.0 }\n",
      "00:00:00 \u001B[90mverbose\u001B[0m #7 benchmark.run / solutions.map / { i = 1; test_name = A; time = 14 }\n",
      "```\n",
      "input\t| expected\t| result\t| best \n",
      "---  \t| ---     \t| ---   \t| ---  \n",
      "0.0  \t| 1.0     \t| 1.0   \t| 1, 22\n",
      "2.0  \t| 3.0     \t| 3.0   \t| 1, 11\n",
      "5.0  \t| 6.0     \t| 6.0   \t| 1, 14\n",
      "```\n",
      "00:00:00 \u001B[90mverbose\u001B[0m #8 benchmark.sort_result_list / averages.iter / { i = 1; avg = 15 }\n",
      "```\n"
     ]
    }
   ],
   "source": [
    "//// test\n",
    "\n",
    "inl get_solutions () =\n",
    "    [\n",
    "        \"A\",\n",
    "        fun n =>\n",
    "            n + 1f64\n",
    "    ]\n",
    "\n",
    "inl rec empty_1_tests () =\n",
    "    inl test_cases = [\n",
    "        0, 1\n",
    "        2, 3\n",
    "        5, 6\n",
    "    ]\n",
    "\n",
    "    inl solutions = get_solutions ()\n",
    "\n",
    "    // inl is_fast () = true\n",
    "\n",
    "    inl count =\n",
    "        if is_fast ()\n",
    "        then 1000i32\n",
    "        else 2000000i32\n",
    "\n",
    "    run_all (reflection.nameof { empty_1_tests }) count solutions test_cases\n",
    "    |> sort_result_list\n",
    "\n",
    "empty_1_tests ()"
   ]
  }
 ],
 "metadata": {},
 "nbformat": 4,
 "nbformat_minor": 5
}