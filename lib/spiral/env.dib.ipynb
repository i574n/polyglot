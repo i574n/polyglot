{
 "cells": [
  {
   "cell_type": "markdown",
   "metadata": {},
   "source": [
    "# env"
   ]
  },
  {
   "cell_type": "markdown",
   "metadata": {},
   "source": [
    "## types"
   ]
  },
  {
   "cell_type": "code",
   "execution_count": null,
   "metadata": {
    "dotnet_interactive": {
     "language": "spiral"
    },
    "polyglot_notebook": {
     "kernelName": "spiral"
    }
   },
   "outputs": [],
   "source": [
    "inl types () =\n",
    "    global \"#if FABLE_COMPILER\\n[<Fable.Core.Erase; Fable.Core.Emit(\\\"std::env::VarError\\\")>]\\n#endif\\ntype std_env_VarError = class end\""
   ]
  },
  {
   "cell_type": "markdown",
   "metadata": {},
   "source": [
    "## rust"
   ]
  },
  {
   "cell_type": "markdown",
   "metadata": {},
   "source": [
    "### var_error"
   ]
  },
  {
   "cell_type": "code",
   "execution_count": null,
   "metadata": {
    "dotnet_interactive": {
     "language": "spiral"
    },
    "polyglot_notebook": {
     "kernelName": "spiral"
    }
   },
   "outputs": [],
   "source": [
    "nominal var_error = $'std_env_VarError'"
   ]
  },
  {
   "cell_type": "markdown",
   "metadata": {},
   "source": [
    "### get_environment_variable_comptime"
   ]
  },
  {
   "cell_type": "code",
   "execution_count": null,
   "metadata": {
    "dotnet_interactive": {
     "language": "spiral"
    },
    "polyglot_notebook": {
     "kernelName": "spiral"
    }
   },
   "outputs": [],
   "source": [
    "inl get_environment_variable_comptime (var : string) : string =\n",
    "    run_target function\n",
    "        | Rust (Native) => fun () =>\n",
    "            open rust_operators\n",
    "            !\\($'\"env\\!(\\\\\\\"\" + !var + \"\\\\\\\")\"')\n",
    "            |> sm'.from_std_string\n",
    "        | target => fun () => null ()"
   ]
  },
  {
   "cell_type": "markdown",
   "metadata": {},
   "source": [
    "## python"
   ]
  },
  {
   "cell_type": "markdown",
   "metadata": {},
   "source": [
    "### os_environ"
   ]
  },
  {
   "cell_type": "code",
   "execution_count": null,
   "metadata": {
    "dotnet_interactive": {
     "language": "spiral"
    },
    "polyglot_notebook": {
     "kernelName": "spiral"
    }
   },
   "outputs": [],
   "source": [
    "nominal os_environ = any"
   ]
  },
  {
   "cell_type": "code",
   "execution_count": null,
   "metadata": {
    "dotnet_interactive": {
     "language": "spiral"
    },
    "polyglot_notebook": {
     "kernelName": "spiral"
    }
   },
   "outputs": [],
   "source": [
    "inl os_environ () : os_environ =\n",
    "    open python_operators\n",
    "    global \"type IOsEnviron = abstract environ: x: unit -> obj\"\n",
    "    inl os : $'IOsEnviron' = python.import_all \"os\"\n",
    "    !\\($'\"!os.environ\"')"
   ]
  },
  {
   "cell_type": "code",
   "execution_count": null,
   "metadata": {
    "dotnet_interactive": {
     "language": "spiral"
    },
    "polyglot_notebook": {
     "kernelName": "spiral"
    }
   },
   "outputs": [],
   "source": [
    "inl environ_get (key : string) (os_environ : os_environ) : string =\n",
    "    open python_operators\n",
    "    !\\\\(key, $'\"!os_environ.get($0)\"')"
   ]
  },
  {
   "cell_type": "markdown",
   "metadata": {},
   "source": [
    "## env"
   ]
  },
  {
   "cell_type": "markdown",
   "metadata": {},
   "source": [
    "### get_environment_variable"
   ]
  },
  {
   "cell_type": "code",
   "execution_count": null,
   "metadata": {
    "dotnet_interactive": {
     "language": "spiral"
    },
    "polyglot_notebook": {
     "kernelName": "spiral"
    }
   },
   "outputs": [],
   "source": [
    "let get_environment_variable (var : string) : string =\n",
    "    run_target function\n",
    "        | Rust _ => fun () =>\n",
    "            open rust_operators\n",
    "            !\\\\(var, $'\"std::env::var(&*$0)\"')\n",
    "            |> fun x => x : resultm.result' sm'.std_string var_error\n",
    "            |> resultm.map' sm'.from_std_string\n",
    "            |> resultm.unwrap_or' (join \"\")\n",
    "        | Fsharp _ => fun () =>\n",
    "            var\n",
    "            |> $'System.Environment.GetEnvironmentVariable'\n",
    "            |> optionm'.of_obj\n",
    "            |> optionm'.unbox\n",
    "            |> optionm'.default_value \"\"\n",
    "        | TypeScript _ => fun () =>\n",
    "            open typescript_operators\n",
    "            !\\\\(var, $'\"process.env[$0] ?? \\\\\\\"\\\\\\\"\"')\n",
    "        | Python _ => fun () =>\n",
    "            os_environ ()\n",
    "            |> environ_get var\n",
    "        | target => fun () => failwith $'$\"env.get_environment_variable / target: {!target} / var: {!var}\"'"
   ]
  },
  {
   "cell_type": "markdown",
   "metadata": {},
   "source": [
    "### get_entry_assembly_name"
   ]
  },
  {
   "cell_type": "code",
   "execution_count": null,
   "metadata": {
    "dotnet_interactive": {
     "language": "spiral"
    },
    "polyglot_notebook": {
     "kernelName": "spiral"
    }
   },
   "outputs": [],
   "source": [
    "let get_entry_assembly_name () : string =\n",
    "    run_target function\n",
    "        | Rust _ => fun () =>\n",
    "            (join \"CARGO_PKG_NAME\") |> get_environment_variable\n",
    "        | Fsharp _ => fun () =>\n",
    "            $'System.Reflection.Assembly.GetEntryAssembly().GetName().Name'\n",
    "        | target => fun () => failwith $'$\"env.get_entry_assembly_name / target: {!target}\"'"
   ]
  },
  {
   "cell_type": "markdown",
   "metadata": {},
   "source": [
    "### append_path"
   ]
  },
  {
   "cell_type": "code",
   "execution_count": null,
   "metadata": {
    "dotnet_interactive": {
     "language": "spiral"
    },
    "polyglot_notebook": {
     "kernelName": "spiral"
    }
   },
   "outputs": [],
   "source": [
    "inl append_path (path : string) : option string =\n",
    "    inl env_path = \"PATH\" |> get_environment_variable\n",
    "    if env_path = \"\"\n",
    "    then None\n",
    "    else\n",
    "        inl env_sep =\n",
    "            if platform.is_windows ()\n",
    "            then \";\"\n",
    "            else \":\"\n",
    "        Some $'$\"{!path}{!env_sep}{!env_path}\"'"
   ]
  }
 ],
 "metadata": {},
 "nbformat": 4,
 "nbformat_minor": 5
}