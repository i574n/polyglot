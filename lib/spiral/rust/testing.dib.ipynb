{
 "cells": [
  {
   "cell_type": "markdown",
   "metadata": {},
   "source": [
    "# rust/testing"
   ]
  },
  {
   "cell_type": "code",
   "execution_count": null,
   "metadata": {
    "dotnet_interactive": {
     "language": "spiral"
    },
    "polyglot_notebook": {
     "kernelName": "spiral"
    }
   },
   "outputs": [],
   "source": [
    "open rust.rust_operators"
   ]
  },
  {
   "cell_type": "code",
   "execution_count": null,
   "metadata": {
    "dotnet_interactive": {
     "language": "spiral"
    },
    "polyglot_notebook": {
     "kernelName": "spiral"
    }
   },
   "outputs": [],
   "source": [
    "//// test\n",
    "\n",
    "open testing"
   ]
  },
  {
   "cell_type": "markdown",
   "metadata": {},
   "source": [
    "### run_tests'"
   ]
  },
  {
   "cell_type": "code",
   "execution_count": null,
   "metadata": {
    "dotnet_interactive": {
     "language": "spiral"
    },
    "polyglot_notebook": {
     "kernelName": "spiral"
    }
   },
   "outputs": [],
   "source": [
    "inl run_tests' tests =\n",
    "    (!\\($'\"true; () //\"') : bool) |> ignore\n",
    "\n",
    "    inl fields = reflection.get_record_fields tests\n",
    "\n",
    "    fields\n",
    "    |> listm.iter fun name, (fn : string -> ()) =>\n",
    "        !\\($'\"} /* /*\"')\n",
    "        (!\\($'$\"*/ #[test] fn \" + !name + \"() { //\"') : bool) |> ignore\n",
    "        fn name\n",
    "\n",
    "    fields\n",
    "    |> listm.iter fun _ =>\n",
    "        !\\($'\"{ //\"') : ()"
   ]
  },
  {
   "cell_type": "code",
   "execution_count": null,
   "metadata": {
    "dotnet_interactive": {
     "language": "spiral"
    },
    "polyglot_notebook": {
     "kernelName": "spiral"
    }
   },
   "outputs": [],
   "source": [
    "//// test\n",
    "\n",
    "inl run test =\n",
    "    if env.get_environment_variable \"TEST\" = \"1\"\n",
    "    then ()\n",
    "    else\n",
    "        runtime.execution_options fun x => { x with\n",
    "            command = \"cargo test -- --show-output\"\n",
    "            working_directory = file_system.get_source_directory () |> Some |> optionm'.box\n",
    "            environment_variables = ;[ \"TEST\", \"1\" ]\n",
    "        }\n",
    "        |> runtime.execute_with_options\n",
    "        |> fun exit_code, result =>\n",
    "            exit_code |> _assert_eq 0i32\n",
    "            result |> _assert sm'.contains \"test result: ok. 1 passed; 0 failed; 0 ignored;\"\n",
    "\n",
    "    $'let tests () = !test ()' : ()"
   ]
  },
  {
   "cell_type": "code",
   "execution_count": null,
   "metadata": {
    "dotnet_interactive": {
     "language": "spiral"
    },
    "polyglot_notebook": {
     "kernelName": "spiral"
    }
   },
   "outputs": [
    {
     "data": {
      "text/plain": [
       "00:00:00 \u001B[94md\u001B[39m #1 runtime.execute_with_options / { file_name = cargo; arguments = [\"test\", \"--\", \"--show-output\"]; options = { command = cargo test -- --show-output; cancellation_token = None; environment_variables = Array(MutCell([(\"TEST\", \"1\")])); on_line = None; stdin = None; trace = true; working_directory = Some(\n",
       "    \"/home/runner/work/polyglot/polyglot/target/spiral_builder/spiral_builder/packages/Rust/1686d7e175464d0182fc4c2b514ccd159f25bb8fc931bc8174b51ee6dc544027\",\n",
       ") } }\n",
       "00:00:00 \u001B[90mv\u001B[39m #2 ! \u001B[1m\u001B[32m   Compiling\u001B[0m spiral_builder_1686d7e175464d0182fc4c2b514ccd159f25bb8fc931bc8174b51ee6dc544027 v0.0.1 (/home/runner/work/polyglot/polyglot/target/spiral_builder/spiral_builder/packages/Rust/1686d7e175464d0182fc4c2b514ccd159f25bb8fc931bc8174b51ee6dc544027)\n",
       "00:00:00 \u001B[90mv\u001B[39m #3 ! \u001B[1m\u001B[32m    Finished\u001B[0m `test` profile [unoptimized + debuginfo] target(s) in 0.50s\n",
       "00:00:00 \u001B[90mv\u001B[39m #4 ! \u001B[1m\u001B[32m     Running\u001B[0m unittests spiral_builder.rs (/home/runner/work/polyglot/polyglot/target/spiral_builder/spiral_builder/target/debug/deps/spiral_builder_1686d7e175464d0182fc4c2b514ccd159f25bb8fc931bc8174b51ee6dc544027-ab0c37d266ff9ba5)\n",
       "00:00:00 \u001B[90mv\u001B[39m #5 >\n",
       "00:00:00 \u001B[90mv\u001B[39m #6 > running 1 test\n",
       "00:00:00 \u001B[90mv\u001B[39m #7 > test module_7e2cd9e0::Spiral_builder::a ... ok\n",
       "00:00:00 \u001B[90mv\u001B[39m #8 >\n",
       "00:00:00 \u001B[90mv\u001B[39m #9 > successes:\n",
       "00:00:00 \u001B[90mv\u001B[39m #10 >\n",
       "00:00:00 \u001B[90mv\u001B[39m #11 > ---- module_7e2cd9e0::Spiral_builder::a stdout ----\n",
       "00:00:00 \u001B[90mv\u001B[39m #12 > __assert_eq / actual: \"a\" / expected: \"a\"\n",
       "00:00:00 \u001B[90mv\u001B[39m #13 >\n",
       "00:00:00 \u001B[90mv\u001B[39m #14 >\n",
       "00:00:00 \u001B[90mv\u001B[39m #15 > successes:\n",
       "00:00:00 \u001B[90mv\u001B[39m #16 >     module_7e2cd9e0::Spiral_builder::a\n",
       "00:00:00 \u001B[90mv\u001B[39m #17 >\n",
       "00:00:00 \u001B[90mv\u001B[39m #18 > test result: ok. 1 passed; 0 failed; 0 ignored; 0 measured; 0 filtered out; finished in 0.00s\n",
       "00:00:00 \u001B[90mv\u001B[39m #19 >\n",
       "00:00:00 \u001B[90mv\u001B[39m #20 runtime.execute_with_options / result / { exit_code = 0; std_trace_length = 944 }\n",
       "__assert_eq / actual: 0 / expected: 0\n",
       "__assert / actual: \"test result: ok. 1 passed; 0 failed; 0 ignored;\" / expected: \"\u001B[4;7m\u001B[1m\u001B[32m   Compiling\u001B[0m spiral_builder_1686d7e175464d0182fc4c2b514ccd159f25bb8fc931bc8174b51ee6dc544027 v0.0.1 (/home/runner/work/polyglot/polyglot/target/spiral_builder/spiral_builder/packages/Rust/1686d7e175464d0182fc4c2b514ccd159f25bb8fc931bc8174b51ee6dc544027)\u001B[0m\n",
       "\u001B[4;7m\u001B[1m\u001B[32m    Finished\u001B[0m `test` profile [unoptimized + debuginfo] target(s) in 0.50s\u001B[0m\n",
       "\u001B[4;7m\u001B[1m\u001B[32m     Running\u001B[0m unittests spiral_builder.rs (/home/runner/work/polyglot/polyglot/target/spiral_builder/spiral_builder/target/debug/deps/spiral_builder_1686d7e175464d0182fc4c2b514ccd159f25bb8fc931bc8174b51ee6dc544027-ab0c37d266ff9ba5)\u001B[0m\n",
       "\n",
       "running 1 test\n",
       "test module_7e2cd9e0::Spiral_builder::a ... ok\n",
       "\n",
       "successes:\n",
       "\n",
       "---- module_7e2cd9e0::Spiral_builder::a stdout ----\n",
       "__assert_eq / actual: \"a\" / expected: \"a\"\n",
       "\n",
       "\n",
       "successes:\n",
       "    module_7e2cd9e0::Spiral_builder::a\n",
       "\n",
       "test result: ok. 1 passed; 0 failed; 0 ignored; 0 measured; 0 filtered out; finished in 0.00s\n",
       "\"\n"
      ]
     },
     "metadata": {},
     "output_type": "display_data"
    }
   ],
   "source": [
    "//// test\n",
    "///! rust -d encoding_rs encoding_rs_io\n",
    "\n",
    "fun () =>\n",
    "    run_tests' {\n",
    "        a = _assert_eq \"a\"\n",
    "    }\n",
    "|> run"
   ]
  },
  {
   "cell_type": "markdown",
   "metadata": {},
   "source": [
    "### run_tests"
   ]
  },
  {
   "cell_type": "code",
   "execution_count": null,
   "metadata": {
    "dotnet_interactive": {
     "language": "spiral"
    },
    "polyglot_notebook": {
     "kernelName": "spiral"
    }
   },
   "outputs": [],
   "source": [
    "inl run_tests tests : () =\n",
    "    real\n",
    "        inl tests =\n",
    "            real_core.record_map\n",
    "                fun { key value } =>\n",
    "                    (fun _ => value ()) : string -> ()\n",
    "                tests\n",
    "        run_tests' `(`tests) tests"
   ]
  },
  {
   "cell_type": "code",
   "execution_count": null,
   "metadata": {
    "dotnet_interactive": {
     "language": "spiral"
    },
    "polyglot_notebook": {
     "kernelName": "spiral"
    }
   },
   "outputs": [
    {
     "data": {
      "text/plain": [
       "00:00:00 \u001B[94md\u001B[39m #1 runtime.execute_with_options / { file_name = cargo; arguments = [\"test\", \"--\", \"--show-output\"]; options = { command = cargo test -- --show-output; cancellation_token = None; environment_variables = Array(MutCell([(\"TEST\", \"1\")])); on_line = None; stdin = None; trace = true; working_directory = Some(\n",
       "    \"/home/runner/work/polyglot/polyglot/target/spiral_builder/spiral_builder/packages/Rust/1686d7e175464d0182fc4c2b514ccd159f25bb8fc931bc8174b51ee6dc544027\",\n",
       ") } }\n",
       "00:00:00 \u001B[90mv\u001B[39m #2 ! \u001B[1m\u001B[32m   Compiling\u001B[0m spiral_builder_1686d7e175464d0182fc4c2b514ccd159f25bb8fc931bc8174b51ee6dc544027 v0.0.1 (/home/runner/work/polyglot/polyglot/target/spiral_builder/spiral_builder/packages/Rust/1686d7e175464d0182fc4c2b514ccd159f25bb8fc931bc8174b51ee6dc544027)\n",
       "00:00:00 \u001B[90mv\u001B[39m #3 ! \u001B[1m\u001B[32m    Finished\u001B[0m `test` profile [unoptimized + debuginfo] target(s) in 0.49s\n",
       "00:00:00 \u001B[90mv\u001B[39m #4 ! \u001B[1m\u001B[32m     Running\u001B[0m unittests spiral_builder.rs (/home/runner/work/polyglot/polyglot/target/spiral_builder/spiral_builder/target/debug/deps/spiral_builder_1686d7e175464d0182fc4c2b514ccd159f25bb8fc931bc8174b51ee6dc544027-ab0c37d266ff9ba5)\n",
       "00:00:00 \u001B[90mv\u001B[39m #5 >\n",
       "00:00:00 \u001B[90mv\u001B[39m #6 > running 1 test\n",
       "00:00:00 \u001B[90mv\u001B[39m #7 > test module_7e2cd9e0::Spiral_builder::a ... ok\n",
       "00:00:00 \u001B[90mv\u001B[39m #8 >\n",
       "00:00:00 \u001B[90mv\u001B[39m #9 > successes:\n",
       "00:00:00 \u001B[90mv\u001B[39m #10 >\n",
       "00:00:00 \u001B[90mv\u001B[39m #11 > ---- module_7e2cd9e0::Spiral_builder::a stdout ----\n",
       "00:00:00 \u001B[90mv\u001B[39m #12 > __assert_eq / actual: \"a\" / expected: \"a\"\n",
       "00:00:00 \u001B[90mv\u001B[39m #13 >\n",
       "00:00:00 \u001B[90mv\u001B[39m #14 >\n",
       "00:00:00 \u001B[90mv\u001B[39m #15 > successes:\n",
       "00:00:00 \u001B[90mv\u001B[39m #16 >     module_7e2cd9e0::Spiral_builder::a\n",
       "00:00:00 \u001B[90mv\u001B[39m #17 >\n",
       "00:00:00 \u001B[90mv\u001B[39m #18 > test result: ok. 1 passed; 0 failed; 0 ignored; 0 measured; 0 filtered out; finished in 0.00s\n",
       "00:00:00 \u001B[90mv\u001B[39m #19 >\n",
       "00:00:00 \u001B[90mv\u001B[39m #20 runtime.execute_with_options / result / { exit_code = 0; std_trace_length = 944 }\n",
       "__assert_eq / actual: 0 / expected: 0\n",
       "__assert / actual: \"test result: ok. 1 passed; 0 failed; 0 ignored;\" / expected: \"\u001B[4;7m\u001B[1m\u001B[32m   Compiling\u001B[0m spiral_builder_1686d7e175464d0182fc4c2b514ccd159f25bb8fc931bc8174b51ee6dc544027 v0.0.1 (/home/runner/work/polyglot/polyglot/target/spiral_builder/spiral_builder/packages/Rust/1686d7e175464d0182fc4c2b514ccd159f25bb8fc931bc8174b51ee6dc544027)\u001B[0m\n",
       "\u001B[4;7m\u001B[1m\u001B[32m    Finished\u001B[0m `test` profile [unoptimized + debuginfo] target(s) in 0.49s\u001B[0m\n",
       "\u001B[4;7m\u001B[1m\u001B[32m     Running\u001B[0m unittests spiral_builder.rs (/home/runner/work/polyglot/polyglot/target/spiral_builder/spiral_builder/target/debug/deps/spiral_builder_1686d7e175464d0182fc4c2b514ccd159f25bb8fc931bc8174b51ee6dc544027-ab0c37d266ff9ba5)\u001B[0m\n",
       "\n",
       "running 1 test\n",
       "test module_7e2cd9e0::Spiral_builder::a ... ok\n",
       "\n",
       "successes:\n",
       "\n",
       "---- module_7e2cd9e0::Spiral_builder::a stdout ----\n",
       "__assert_eq / actual: \"a\" / expected: \"a\"\n",
       "\n",
       "\n",
       "successes:\n",
       "    module_7e2cd9e0::Spiral_builder::a\n",
       "\n",
       "test result: ok. 1 passed; 0 failed; 0 ignored; 0 measured; 0 filtered out; finished in 0.00s\n",
       "\"\n"
      ]
     },
     "metadata": {},
     "output_type": "display_data"
    }
   ],
   "source": [
    "//// test\n",
    "///! rust -d encoding_rs encoding_rs_io\n",
    "\n",
    "fun () =>\n",
    "    run_tests {\n",
    "        a = fun () => \"a\" |> _assert_eq \"a\"\n",
    "    }\n",
    "|> run"
   ]
  },
  {
   "cell_type": "markdown",
   "metadata": {},
   "source": [
    "### run_tests_log"
   ]
  },
  {
   "cell_type": "code",
   "execution_count": null,
   "metadata": {
    "dotnet_interactive": {
     "language": "spiral"
    },
    "polyglot_notebook": {
     "kernelName": "spiral"
    }
   },
   "outputs": [],
   "source": [
    "inl run_tests_log tests : () =\n",
    "    real\n",
    "        inl tests =\n",
    "            real_core.record_map\n",
    "                fun { key value } =>\n",
    "                    (fun _ => value false) : () -> ()\n",
    "                tests\n",
    "        run_tests `(`tests) tests"
   ]
  },
  {
   "cell_type": "code",
   "execution_count": null,
   "metadata": {
    "dotnet_interactive": {
     "language": "spiral"
    },
    "polyglot_notebook": {
     "kernelName": "spiral"
    }
   },
   "outputs": [
    {
     "data": {
      "text/plain": [
       "00:00:00 \u001B[94md\u001B[39m #1 runtime.execute_with_options / { file_name = cargo; arguments = [\"test\", \"--\", \"--show-output\"]; options = { command = cargo test -- --show-output; cancellation_token = None; environment_variables = Array(MutCell([(\"TEST\", \"1\")])); on_line = None; stdin = None; trace = true; working_directory = Some(\n",
       "    \"/home/runner/work/polyglot/polyglot/target/spiral_builder/spiral_builder/packages/Rust/01bd8235cbc800ad2cc0673293800a3b91aa500bc8c77594662becfb1347d2f0\",\n",
       ") } }\n",
       "00:00:00 \u001B[90mv\u001B[39m #2 ! \u001B[1m\u001B[32m   Compiling\u001B[0m spiral_builder_01bd8235cbc800ad2cc0673293800a3b91aa500bc8c77594662becfb1347d2f0 v0.0.1 (/home/runner/work/polyglot/polyglot/target/spiral_builder/spiral_builder/packages/Rust/01bd8235cbc800ad2cc0673293800a3b91aa500bc8c77594662becfb1347d2f0)\n",
       "00:00:00 \u001B[90mv\u001B[39m #3 ! \u001B[1m\u001B[32m    Finished\u001B[0m `test` profile [unoptimized + debuginfo] target(s) in 0.48s\n",
       "00:00:00 \u001B[90mv\u001B[39m #4 ! \u001B[1m\u001B[32m     Running\u001B[0m unittests spiral_builder.rs (/home/runner/work/polyglot/polyglot/target/spiral_builder/spiral_builder/target/debug/deps/spiral_builder_01bd8235cbc800ad2cc0673293800a3b91aa500bc8c77594662becfb1347d2f0-47842540c98af282)\n",
       "00:00:00 \u001B[90mv\u001B[39m #5 >\n",
       "00:00:00 \u001B[90mv\u001B[39m #6 > running 1 test\n",
       "00:00:00 \u001B[90mv\u001B[39m #7 > test module_7e2cd9e0::Spiral_builder::a ... ok\n",
       "00:00:00 \u001B[90mv\u001B[39m #8 >\n",
       "00:00:00 \u001B[90mv\u001B[39m #9 > successes:\n",
       "00:00:00 \u001B[90mv\u001B[39m #10 >\n",
       "00:00:00 \u001B[90mv\u001B[39m #11 > ---- module_7e2cd9e0::Spiral_builder::a stdout ----\n",
       "00:00:00 \u001B[90mv\u001B[39m #12 > __assert_eq / actual: false / expected: false\n",
       "00:00:00 \u001B[90mv\u001B[39m #13 >\n",
       "00:00:00 \u001B[90mv\u001B[39m #14 >\n",
       "00:00:00 \u001B[90mv\u001B[39m #15 > successes:\n",
       "00:00:00 \u001B[90mv\u001B[39m #16 >     module_7e2cd9e0::Spiral_builder::a\n",
       "00:00:00 \u001B[90mv\u001B[39m #17 >\n",
       "00:00:00 \u001B[90mv\u001B[39m #18 > test result: ok. 1 passed; 0 failed; 0 ignored; 0 measured; 0 filtered out; finished in 0.00s\n",
       "00:00:00 \u001B[90mv\u001B[39m #19 >\n",
       "00:00:00 \u001B[90mv\u001B[39m #20 runtime.execute_with_options / result / { exit_code = 0; std_trace_length = 948 }\n",
       "__assert_eq / actual: 0 / expected: 0\n",
       "__assert / actual: \"test result: ok. 1 passed; 0 failed; 0 ignored;\" / expected: \"\u001B[4;7m\u001B[1m\u001B[32m   Compiling\u001B[0m spiral_builder_01bd8235cbc800ad2cc0673293800a3b91aa500bc8c77594662becfb1347d2f0 v0.0.1 (/home/runner/work/polyglot/polyglot/target/spiral_builder/spiral_builder/packages/Rust/01bd8235cbc800ad2cc0673293800a3b91aa500bc8c77594662becfb1347d2f0)\u001B[0m\n",
       "\u001B[4;7m\u001B[1m\u001B[32m    Finished\u001B[0m `test` profile [unoptimized + debuginfo] target(s) in 0.48s\u001B[0m\n",
       "\u001B[4;7m\u001B[1m\u001B[32m     Running\u001B[0m unittests spiral_builder.rs (/home/runner/work/polyglot/polyglot/target/spiral_builder/spiral_builder/target/debug/deps/spiral_builder_01bd8235cbc800ad2cc0673293800a3b91aa500bc8c77594662becfb1347d2f0-47842540c98af282)\u001B[0m\n",
       "\n",
       "running 1 test\n",
       "test module_7e2cd9e0::Spiral_builder::a ... ok\n",
       "\n",
       "successes:\n",
       "\n",
       "---- module_7e2cd9e0::Spiral_builder::a stdout ----\n",
       "__assert_eq / actual: false / expected: false\n",
       "\n",
       "\n",
       "successes:\n",
       "    module_7e2cd9e0::Spiral_builder::a\n",
       "\n",
       "test result: ok. 1 passed; 0 failed; 0 ignored; 0 measured; 0 filtered out; finished in 0.00s\n",
       "\"\n"
      ]
     },
     "metadata": {},
     "output_type": "display_data"
    }
   ],
   "source": [
    "//// test\n",
    "///! rust -d encoding_rs encoding_rs_io\n",
    "\n",
    "fun () =>\n",
    "    run_tests_log {\n",
    "        a = _assert_eq false\n",
    "    }\n",
    "|> run"
   ]
  }
 ],
 "metadata": {},
 "nbformat": 4,
 "nbformat_minor": 5
}