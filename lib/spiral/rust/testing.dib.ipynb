{
 "cells": [
  {
   "cell_type": "markdown",
   "metadata": {},
   "source": [
    "# rust/testing"
   ]
  },
  {
   "cell_type": "code",
   "execution_count": null,
   "metadata": {
    "dotnet_interactive": {
     "language": "spiral"
    },
    "polyglot_notebook": {
     "kernelName": "spiral"
    }
   },
   "outputs": [],
   "source": [
    "open rust.rust_operators"
   ]
  },
  {
   "cell_type": "code",
   "execution_count": null,
   "metadata": {
    "dotnet_interactive": {
     "language": "spiral"
    },
    "polyglot_notebook": {
     "kernelName": "spiral"
    }
   },
   "outputs": [],
   "source": [
    "//// test\n",
    "\n",
    "open testing"
   ]
  },
  {
   "cell_type": "markdown",
   "metadata": {},
   "source": [
    "### run_tests'"
   ]
  },
  {
   "cell_type": "code",
   "execution_count": null,
   "metadata": {
    "dotnet_interactive": {
     "language": "spiral"
    },
    "polyglot_notebook": {
     "kernelName": "spiral"
    }
   },
   "outputs": [],
   "source": [
    "inl run_tests' tests =\n",
    "    (!\\($'\"true; () //\"') : bool) |> ignore\n",
    "\n",
    "    inl fields = reflection.get_record_fields tests\n",
    "    \n",
    "    fields\n",
    "    |> listm.iter fun name, (fn : string -> ()) =>\n",
    "        !\\($'\"} /* /*\"')\n",
    "        (!\\($'$\"*/ #[test] fn \" + !name + \"() { //\"') : bool) |> ignore\n",
    "        fn name\n",
    "\n",
    "    fields\n",
    "    |> listm.iter fun _ =>\n",
    "        !\\($'\"{ //\"') : ()"
   ]
  },
  {
   "cell_type": "code",
   "execution_count": null,
   "metadata": {
    "dotnet_interactive": {
     "language": "spiral"
    },
    "polyglot_notebook": {
     "kernelName": "spiral"
    }
   },
   "outputs": [],
   "source": [
    "//// test\n",
    "\n",
    "inl run test =\n",
    "    if env.get_environment_variable \"TEST\" = \"1\"\n",
    "    then ()\n",
    "    else\n",
    "        runtime.execution_options fun x => { x with\n",
    "            command = \"cargo +nightly test -- --show-output\"\n",
    "            working_directory = file_system.get_source_directory () |> Some |> optionm'.box\n",
    "            environment_variables = ;[ \"TEST\", \"1\" ]\n",
    "        }\n",
    "        |> runtime.execute_with_options\n",
    "        |> fun exit_code, result =>\n",
    "            exit_code |> _assert_eq 0i32\n",
    "            result |> _assert_string_contains \"test result: ok. 1 passed; 0 failed; 0 ignored;\"\n",
    "\n",
    "    $'let tests () = !test ()' : ()"
   ]
  },
  {
   "cell_type": "code",
   "execution_count": null,
   "metadata": {
    "dotnet_interactive": {
     "language": "spiral"
    },
    "polyglot_notebook": {
     "kernelName": "spiral"
    }
   },
   "outputs": [
    {
     "data": {
      "text/plain": [
       "00:00:00 \u001B[94m  debug\u001B[39m #1 runtime.execute_with_options / { file_name = cargo; arguments = [\"+nightly\", \"test\", \"--\", \"--show-output\"]; options = { command = cargo +nightly test -- --show-output; cancellation_token = None; environment_variables = Array(MutCell([(\"TEST\", \"1\")])); on_line = None; stdin = None; trace = true; working_directory = Some(\"/home/runner/work/polyglot/polyglot/target/spiral_builder/spiral_builder/packages/Rust/3670d56ab7003a583a3d8e0676ee1b237de70d5d34d9ad78fef1e4f45f3b5b37\") } }\n",
       "00:00:00 \u001B[90mverbose\u001B[39m #2 ! \u001B[1m\u001B[32m   Compiling\u001B[0m spiral_builder_3670d56ab7003a583a3d8e0676ee1b237de70d5d34d9ad78fef1e4f45f3b5b37 v0.0.1 (/home/runner/work/polyglot/polyglot/target/spiral_builder/spiral_builder/packages/Rust/3670d56ab7003a583a3d8e0676ee1b237de70d5d34d9ad78fef1e4f45f3b5b37)\n",
       "00:00:01 \u001B[90mverbose\u001B[39m #3 ! \u001B[1m\u001B[32m    Finished\u001B[0m `test` profile [unoptimized + debuginfo] target(s) in 1.22s\n",
       "00:00:01 \u001B[90mverbose\u001B[39m #4 ! \u001B[1m\u001B[32m     Running\u001B[0m unittests spiral_builder.rs (/home/runner/work/polyglot/polyglot/target/spiral_builder/spiral_builder/target/debug/deps/spiral_builder_3670d56ab7003a583a3d8e0676ee1b237de70d5d34d9ad78fef1e4f45f3b5b37-6edce84fe7e466a4)\n",
       "00:00:01 \u001B[90mverbose\u001B[39m #5 >\n",
       "00:00:01 \u001B[90mverbose\u001B[39m #6 > running 1 test\n",
       "00:00:01 \u001B[90mverbose\u001B[39m #7 > test module_7e2cd9e0::Spiral_builder::a ... ok\n",
       "00:00:01 \u001B[90mverbose\u001B[39m #8 >\n",
       "00:00:01 \u001B[90mverbose\u001B[39m #9 > successes:\n",
       "00:00:01 \u001B[90mverbose\u001B[39m #10 >\n",
       "00:00:01 \u001B[90mverbose\u001B[39m #11 > ---- module_7e2cd9e0::Spiral_builder::a stdout ----\n",
       "00:00:01 \u001B[90mverbose\u001B[39m #12 > assert_eq / actual: \"a\" / expected: \"a\"\n",
       "00:00:01 \u001B[90mverbose\u001B[39m #13 >\n",
       "00:00:01 \u001B[90mverbose\u001B[39m #14 >\n",
       "00:00:01 \u001B[90mverbose\u001B[39m #15 > successes:\n",
       "00:00:01 \u001B[90mverbose\u001B[39m #16 >     module_7e2cd9e0::Spiral_builder::a\n",
       "00:00:01 \u001B[90mverbose\u001B[39m #17 >\n",
       "00:00:01 \u001B[90mverbose\u001B[39m #18 > test result: ok. 1 passed; 0 failed; 0 ignored; 0 measured; 0 filtered out; finished in 0.00s\n",
       "00:00:01 \u001B[90mverbose\u001B[39m #19 >\n",
       "00:00:01 \u001B[90mverbose\u001B[39m #20 runtime.execute_with_options / result / { exit_code = 0; std_trace_length = 942 }\n",
       "assert_eq / actual: 0 / expected: 0\n",
       "assert_string_contains / actual: \"test result: ok. 1 passed; 0 failed; 0 ignored;\" / expected: \"\u001B[4;7m\u001B[1m\u001B[32m   Compiling\u001B[0m spiral_builder_3670d56ab7003a583a3d8e0676ee1b237de70d5d34d9ad78fef1e4f45f3b5b37 v0.0.1 (/home/runner/work/polyglot/polyglot/target/spiral_builder/spiral_builder/packages/Rust/3670d56ab7003a583a3d8e0676ee1b237de70d5d34d9ad78fef1e4f45f3b5b37)\u001B[0m\n",
       "\u001B[4;7m\u001B[1m\u001B[32m    Finished\u001B[0m `test` profile [unoptimized + debuginfo] target(s) in 1.22s\u001B[0m\n",
       "\u001B[4;7m\u001B[1m\u001B[32m     Running\u001B[0m unittests spiral_builder.rs (/home/runner/work/polyglot/polyglot/target/spiral_builder/spiral_builder/target/debug/deps/spiral_builder_3670d56ab7003a583a3d8e0676ee1b237de70d5d34d9ad78fef1e4f45f3b5b37-6edce84fe7e466a4)\u001B[0m\n",
       "\n",
       "running 1 test\n",
       "test module_7e2cd9e0::Spiral_builder::a ... ok\n",
       "\n",
       "successes:\n",
       "\n",
       "---- module_7e2cd9e0::Spiral_builder::a stdout ----\n",
       "assert_eq / actual: \"a\" / expected: \"a\"\n",
       "\n",
       "\n",
       "successes:\n",
       "    module_7e2cd9e0::Spiral_builder::a\n",
       "\n",
       "test result: ok. 1 passed; 0 failed; 0 ignored; 0 measured; 0 filtered out; finished in 0.00s\n",
       "\"\n"
      ]
     },
     "metadata": {},
     "output_type": "display_data"
    }
   ],
   "source": [
    "//// test\n",
    "///! rust -d encoding_rs encoding_rs_io\n",
    "\n",
    "fun () =>\n",
    "    run_tests' {\n",
    "        a = _assert_eq \"a\"\n",
    "    }\n",
    "|> run"
   ]
  },
  {
   "cell_type": "markdown",
   "metadata": {},
   "source": [
    "### run_tests"
   ]
  },
  {
   "cell_type": "code",
   "execution_count": null,
   "metadata": {
    "dotnet_interactive": {
     "language": "spiral"
    },
    "polyglot_notebook": {
     "kernelName": "spiral"
    }
   },
   "outputs": [],
   "source": [
    "inl run_tests tests : () =\n",
    "    real\n",
    "        inl tests =\n",
    "            real_core.record_map\n",
    "                fun { key value } =>\n",
    "                    (fun _ => value ()) : string -> ()\n",
    "                tests\n",
    "        run_tests' `(`tests) tests"
   ]
  },
  {
   "cell_type": "code",
   "execution_count": null,
   "metadata": {
    "dotnet_interactive": {
     "language": "spiral"
    },
    "polyglot_notebook": {
     "kernelName": "spiral"
    }
   },
   "outputs": [
    {
     "data": {
      "text/plain": [
       "00:00:00 \u001B[94m  debug\u001B[39m #1 runtime.execute_with_options / { file_name = cargo; arguments = [\"+nightly\", \"test\", \"--\", \"--show-output\"]; options = { command = cargo +nightly test -- --show-output; cancellation_token = None; environment_variables = Array(MutCell([(\"TEST\", \"1\")])); on_line = None; stdin = None; trace = true; working_directory = Some(\"/home/runner/work/polyglot/polyglot/target/spiral_builder/spiral_builder/packages/Rust/c8ef3a091baa45c744a7d832eced3956eb83f0b5a78e44f8ee9a7adb2b9ee2cc\") } }\n",
       "00:00:00 \u001B[90mverbose\u001B[39m #2 ! \u001B[1m\u001B[32m   Compiling\u001B[0m spiral_builder_c8ef3a091baa45c744a7d832eced3956eb83f0b5a78e44f8ee9a7adb2b9ee2cc v0.0.1 (/home/runner/work/polyglot/polyglot/target/spiral_builder/spiral_builder/packages/Rust/c8ef3a091baa45c744a7d832eced3956eb83f0b5a78e44f8ee9a7adb2b9ee2cc)\n",
       "00:00:01 \u001B[90mverbose\u001B[39m #3 ! \u001B[1m\u001B[32m    Finished\u001B[0m `test` profile [unoptimized + debuginfo] target(s) in 1.22s\n",
       "00:00:01 \u001B[90mverbose\u001B[39m #4 ! \u001B[1m\u001B[32m     Running\u001B[0m unittests spiral_builder.rs (/home/runner/work/polyglot/polyglot/target/spiral_builder/spiral_builder/target/debug/deps/spiral_builder_c8ef3a091baa45c744a7d832eced3956eb83f0b5a78e44f8ee9a7adb2b9ee2cc-6e48e22c728a908e)\n",
       "00:00:01 \u001B[90mverbose\u001B[39m #5 >\n",
       "00:00:01 \u001B[90mverbose\u001B[39m #6 > running 1 test\n",
       "00:00:01 \u001B[90mverbose\u001B[39m #7 > test module_7e2cd9e0::Spiral_builder::a ... ok\n",
       "00:00:01 \u001B[90mverbose\u001B[39m #8 >\n",
       "00:00:01 \u001B[90mverbose\u001B[39m #9 > successes:\n",
       "00:00:01 \u001B[90mverbose\u001B[39m #10 >\n",
       "00:00:01 \u001B[90mverbose\u001B[39m #11 > ---- module_7e2cd9e0::Spiral_builder::a stdout ----\n",
       "00:00:01 \u001B[90mverbose\u001B[39m #12 > assert_eq / actual: \"a\" / expected: \"a\"\n",
       "00:00:01 \u001B[90mverbose\u001B[39m #13 >\n",
       "00:00:01 \u001B[90mverbose\u001B[39m #14 >\n",
       "00:00:01 \u001B[90mverbose\u001B[39m #15 > successes:\n",
       "00:00:01 \u001B[90mverbose\u001B[39m #16 >     module_7e2cd9e0::Spiral_builder::a\n",
       "00:00:01 \u001B[90mverbose\u001B[39m #17 >\n",
       "00:00:01 \u001B[90mverbose\u001B[39m #18 > test result: ok. 1 passed; 0 failed; 0 ignored; 0 measured; 0 filtered out; finished in 0.00s\n",
       "00:00:01 \u001B[90mverbose\u001B[39m #19 >\n",
       "00:00:01 \u001B[90mverbose\u001B[39m #20 runtime.execute_with_options / result / { exit_code = 0; std_trace_length = 942 }\n",
       "assert_eq / actual: 0 / expected: 0\n",
       "assert_string_contains / actual: \"test result: ok. 1 passed; 0 failed; 0 ignored;\" / expected: \"\u001B[4;7m\u001B[1m\u001B[32m   Compiling\u001B[0m spiral_builder_c8ef3a091baa45c744a7d832eced3956eb83f0b5a78e44f8ee9a7adb2b9ee2cc v0.0.1 (/home/runner/work/polyglot/polyglot/target/spiral_builder/spiral_builder/packages/Rust/c8ef3a091baa45c744a7d832eced3956eb83f0b5a78e44f8ee9a7adb2b9ee2cc)\u001B[0m\n",
       "\u001B[4;7m\u001B[1m\u001B[32m    Finished\u001B[0m `test` profile [unoptimized + debuginfo] target(s) in 1.22s\u001B[0m\n",
       "\u001B[4;7m\u001B[1m\u001B[32m     Running\u001B[0m unittests spiral_builder.rs (/home/runner/work/polyglot/polyglot/target/spiral_builder/spiral_builder/target/debug/deps/spiral_builder_c8ef3a091baa45c744a7d832eced3956eb83f0b5a78e44f8ee9a7adb2b9ee2cc-6e48e22c728a908e)\u001B[0m\n",
       "\n",
       "running 1 test\n",
       "test module_7e2cd9e0::Spiral_builder::a ... ok\n",
       "\n",
       "successes:\n",
       "\n",
       "---- module_7e2cd9e0::Spiral_builder::a stdout ----\n",
       "assert_eq / actual: \"a\" / expected: \"a\"\n",
       "\n",
       "\n",
       "successes:\n",
       "    module_7e2cd9e0::Spiral_builder::a\n",
       "\n",
       "test result: ok. 1 passed; 0 failed; 0 ignored; 0 measured; 0 filtered out; finished in 0.00s\n",
       "\"\n"
      ]
     },
     "metadata": {},
     "output_type": "display_data"
    }
   ],
   "source": [
    "//// test\n",
    "///! rust -d encoding_rs encoding_rs_io\n",
    "\n",
    "fun () =>\n",
    "    run_tests {\n",
    "        a = fun () => \"a\" |> _assert_eq \"a\"\n",
    "    }\n",
    "|> run"
   ]
  },
  {
   "cell_type": "markdown",
   "metadata": {},
   "source": [
    "### run_tests_log"
   ]
  },
  {
   "cell_type": "code",
   "execution_count": null,
   "metadata": {
    "dotnet_interactive": {
     "language": "spiral"
    },
    "polyglot_notebook": {
     "kernelName": "spiral"
    }
   },
   "outputs": [],
   "source": [
    "inl run_tests_log tests : () =\n",
    "    real\n",
    "        inl tests =\n",
    "            real_core.record_map\n",
    "                fun { key value } =>\n",
    "                    (fun _ => value false) : () -> ()\n",
    "                tests\n",
    "        run_tests `(`tests) tests"
   ]
  },
  {
   "cell_type": "code",
   "execution_count": null,
   "metadata": {
    "dotnet_interactive": {
     "language": "spiral"
    },
    "polyglot_notebook": {
     "kernelName": "spiral"
    }
   },
   "outputs": [
    {
     "data": {
      "text/plain": [
       "00:00:00 \u001B[94m  debug\u001B[39m #1 runtime.execute_with_options / { file_name = cargo; arguments = [\"+nightly\", \"test\", \"--\", \"--show-output\"]; options = { command = cargo +nightly test -- --show-output; cancellation_token = None; environment_variables = Array(MutCell([(\"TEST\", \"1\")])); on_line = None; stdin = None; trace = true; working_directory = Some(\"/home/runner/work/polyglot/polyglot/target/spiral_builder/spiral_builder/packages/Rust/dc791a8300cd41fcab532f813a4782c2226308f1402655530256b8a7e002e8d1\") } }\n",
       "00:00:00 \u001B[90mverbose\u001B[39m #2 ! \u001B[1m\u001B[32m   Compiling\u001B[0m spiral_builder_dc791a8300cd41fcab532f813a4782c2226308f1402655530256b8a7e002e8d1 v0.0.1 (/home/runner/work/polyglot/polyglot/target/spiral_builder/spiral_builder/packages/Rust/dc791a8300cd41fcab532f813a4782c2226308f1402655530256b8a7e002e8d1)\n",
       "00:00:01 \u001B[90mverbose\u001B[39m #3 ! \u001B[1m\u001B[32m    Finished\u001B[0m `test` profile [unoptimized + debuginfo] target(s) in 1.21s\n",
       "00:00:01 \u001B[90mverbose\u001B[39m #4 ! \u001B[1m\u001B[32m     Running\u001B[0m unittests spiral_builder.rs (/home/runner/work/polyglot/polyglot/target/spiral_builder/spiral_builder/target/debug/deps/spiral_builder_dc791a8300cd41fcab532f813a4782c2226308f1402655530256b8a7e002e8d1-7f97f8a7c739c5f3)\n",
       "00:00:01 \u001B[90mverbose\u001B[39m #5 >\n",
       "00:00:01 \u001B[90mverbose\u001B[39m #6 > running 1 test\n",
       "00:00:01 \u001B[90mverbose\u001B[39m #7 > test module_7e2cd9e0::Spiral_builder::a ... ok\n",
       "00:00:01 \u001B[90mverbose\u001B[39m #8 >\n",
       "00:00:01 \u001B[90mverbose\u001B[39m #9 > successes:\n",
       "00:00:01 \u001B[90mverbose\u001B[39m #10 >\n",
       "00:00:01 \u001B[90mverbose\u001B[39m #11 > ---- module_7e2cd9e0::Spiral_builder::a stdout ----\n",
       "00:00:01 \u001B[90mverbose\u001B[39m #12 > assert_eq / actual: false / expected: false\n",
       "00:00:01 \u001B[90mverbose\u001B[39m #13 >\n",
       "00:00:01 \u001B[90mverbose\u001B[39m #14 >\n",
       "00:00:01 \u001B[90mverbose\u001B[39m #15 > successes:\n",
       "00:00:01 \u001B[90mverbose\u001B[39m #16 >     module_7e2cd9e0::Spiral_builder::a\n",
       "00:00:01 \u001B[90mverbose\u001B[39m #17 >\n",
       "00:00:01 \u001B[90mverbose\u001B[39m #18 > test result: ok. 1 passed; 0 failed; 0 ignored; 0 measured; 0 filtered out; finished in 0.00s\n",
       "00:00:01 \u001B[90mverbose\u001B[39m #19 >\n",
       "00:00:01 \u001B[90mverbose\u001B[39m #20 runtime.execute_with_options / result / { exit_code = 0; std_trace_length = 946 }\n",
       "assert_eq / actual: 0 / expected: 0\n",
       "assert_string_contains / actual: \"test result: ok. 1 passed; 0 failed; 0 ignored;\" / expected: \"\u001B[4;7m\u001B[1m\u001B[32m   Compiling\u001B[0m spiral_builder_dc791a8300cd41fcab532f813a4782c2226308f1402655530256b8a7e002e8d1 v0.0.1 (/home/runner/work/polyglot/polyglot/target/spiral_builder/spiral_builder/packages/Rust/dc791a8300cd41fcab532f813a4782c2226308f1402655530256b8a7e002e8d1)\u001B[0m\n",
       "\u001B[4;7m\u001B[1m\u001B[32m    Finished\u001B[0m `test` profile [unoptimized + debuginfo] target(s) in 1.21s\u001B[0m\n",
       "\u001B[4;7m\u001B[1m\u001B[32m     Running\u001B[0m unittests spiral_builder.rs (/home/runner/work/polyglot/polyglot/target/spiral_builder/spiral_builder/target/debug/deps/spiral_builder_dc791a8300cd41fcab532f813a4782c2226308f1402655530256b8a7e002e8d1-7f97f8a7c739c5f3)\u001B[0m\n",
       "\n",
       "running 1 test\n",
       "test module_7e2cd9e0::Spiral_builder::a ... ok\n",
       "\n",
       "successes:\n",
       "\n",
       "---- module_7e2cd9e0::Spiral_builder::a stdout ----\n",
       "assert_eq / actual: false / expected: false\n",
       "\n",
       "\n",
       "successes:\n",
       "    module_7e2cd9e0::Spiral_builder::a\n",
       "\n",
       "test result: ok. 1 passed; 0 failed; 0 ignored; 0 measured; 0 filtered out; finished in 0.00s\n",
       "\"\n"
      ]
     },
     "metadata": {},
     "output_type": "display_data"
    }
   ],
   "source": [
    "//// test\n",
    "///! rust -d encoding_rs encoding_rs_io\n",
    "\n",
    "fun () =>\n",
    "    run_tests_log {\n",
    "        a = _assert_eq false\n",
    "    }\n",
    "|> run"
   ]
  }
 ],
 "metadata": {},
 "nbformat": 4,
 "nbformat_minor": 5
}