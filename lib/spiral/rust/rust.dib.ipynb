{
 "cells": [
  {
   "cell_type": "markdown",
   "metadata": {},
   "source": [
    "# rust"
   ]
  },
  {
   "cell_type": "code",
   "execution_count": null,
   "metadata": {
    "dotnet_interactive": {
     "language": "spiral"
    },
    "polyglot_notebook": {
     "kernelName": "spiral"
    }
   },
   "outputs": [],
   "source": [
    "//// test\n",
    "\n",
    "open testing"
   ]
  },
  {
   "cell_type": "markdown",
   "metadata": {},
   "source": [
    "## rust"
   ]
  },
  {
   "cell_type": "markdown",
   "metadata": {},
   "source": [
    "### any_base"
   ]
  },
  {
   "cell_type": "code",
   "execution_count": null,
   "metadata": {
    "dotnet_interactive": {
     "language": "spiral"
    },
    "polyglot_notebook": {
     "kernelName": "spiral"
    }
   },
   "outputs": [],
   "source": [
    "type any_base = any"
   ]
  },
  {
   "cell_type": "markdown",
   "metadata": {},
   "source": [
    "### any"
   ]
  },
  {
   "cell_type": "code",
   "execution_count": null,
   "metadata": {
    "dotnet_interactive": {
     "language": "spiral"
    },
    "polyglot_notebook": {
     "kernelName": "spiral"
    }
   },
   "outputs": [],
   "source": [
    "nominal any =\n",
    "    `(\n",
    "        global \"#if FABLE_COMPILER\\n[<Fable.Core.Erase; Fable.Core.Emit(\\\"core::any::Any\\\")>]\\ntype core_any_Any = class end\\n#else\\ntype core_any_Any = obj\\n#endif\\n\"\n",
    "        $'' : $'core_any_Any'\n",
    "    )"
   ]
  },
  {
   "cell_type": "markdown",
   "metadata": {},
   "source": [
    "### try"
   ]
  },
  {
   "cell_type": "code",
   "execution_count": null,
   "metadata": {
    "dotnet_interactive": {
     "language": "spiral"
    },
    "polyglot_notebook": {
     "kernelName": "spiral"
    }
   },
   "outputs": [],
   "source": [
    "nominal try t =\n",
    "    `(\n",
    "        global \"#if FABLE_COMPILER\\n[<Fable.Core.Erase; Fable.Core.Emit(\\\"_\\\")>]\\n#endif\\ntype core_ops_Try<'T> = class end\"\n",
    "        $'' : $'core_ops_Try<`t>'\n",
    "    )"
   ]
  },
  {
   "cell_type": "markdown",
   "metadata": {},
   "source": [
    "### cow"
   ]
  },
  {
   "cell_type": "code",
   "execution_count": null,
   "metadata": {
    "dotnet_interactive": {
     "language": "spiral"
    },
    "polyglot_notebook": {
     "kernelName": "spiral"
    }
   },
   "outputs": [],
   "source": [
    "nominal cow t =\n",
    "    `(\n",
    "        global \"#if FABLE_COMPILER\\n[<Fable.Core.Erase; Fable.Core.Emit(\\\"std::borrow::Cow<$0>\\\")>]\\n#endif\\ntype std_borrow_Cow<'T> = class end\"\n",
    "        $'' : $'std_borrow_Cow<`t>'\n",
    "    )"
   ]
  },
  {
   "cell_type": "markdown",
   "metadata": {},
   "source": [
    "### ref_cell"
   ]
  },
  {
   "cell_type": "code",
   "execution_count": null,
   "metadata": {
    "dotnet_interactive": {
     "language": "spiral"
    },
    "polyglot_notebook": {
     "kernelName": "spiral"
    }
   },
   "outputs": [],
   "source": [
    "nominal ref_cell t =\n",
    "    `(\n",
    "        global \"#if FABLE_COMPILER\\n[<Fable.Core.Erase; Fable.Core.Emit(\\\"std::cell::RefCell<$0>\\\")>]\\n#endif\\ntype std_cell_RefCell<'T> = class end\"\n",
    "        $'' : $'std_cell_RefCell<`t>'\n",
    "    )"
   ]
  },
  {
   "cell_type": "markdown",
   "metadata": {},
   "source": [
    "### cell_ref"
   ]
  },
  {
   "cell_type": "code",
   "execution_count": null,
   "metadata": {
    "dotnet_interactive": {
     "language": "spiral"
    },
    "polyglot_notebook": {
     "kernelName": "spiral"
    }
   },
   "outputs": [],
   "source": [
    "nominal cell_ref t =\n",
    "    `(\n",
    "        global \"#if FABLE_COMPILER\\n[<Fable.Core.Erase; Fable.Core.Emit(\\\"std::cell::Ref<$0>\\\")>]\\n#endif\\ntype std_cell_Ref<'T> = class end\"\n",
    "        $'' : $'std_cell_Ref<`t>'\n",
    "    )"
   ]
  },
  {
   "cell_type": "markdown",
   "metadata": {},
   "source": [
    "### rc"
   ]
  },
  {
   "cell_type": "code",
   "execution_count": null,
   "metadata": {
    "dotnet_interactive": {
     "language": "spiral"
    },
    "polyglot_notebook": {
     "kernelName": "spiral"
    }
   },
   "outputs": [],
   "source": [
    "nominal rc t =\n",
    "    `(\n",
    "        global \"#if FABLE_COMPILER\\n[<Fable.Core.Erase; Fable.Core.Emit(\\\"std::rc::Rc<$0>\\\")>]\\n#endif\\ntype std_rc_Rc<'T> = class end\"\n",
    "        $'' : $'std_rc_Rc<`t>'\n",
    "    )"
   ]
  },
  {
   "cell_type": "markdown",
   "metadata": {},
   "source": [
    "### lifetime_ref"
   ]
  },
  {
   "cell_type": "code",
   "execution_count": null,
   "metadata": {
    "dotnet_interactive": {
     "language": "spiral"
    },
    "polyglot_notebook": {
     "kernelName": "spiral"
    }
   },
   "outputs": [],
   "source": [
    "nominal lifetime_ref (t : * -> *) u =\n",
    "    `(\n",
    "        global \"#if FABLE_COMPILER\\n[<Fable.Core.Erase; Fable.Core.Emit(\\\"$0\\\")>]\\n#endif\\ntype LifetimeRef<'T> = class end\"\n",
    "        $'' : $'LifetimeRef<`(t u)>'\n",
    "    )"
   ]
  },
  {
   "cell_type": "markdown",
   "metadata": {},
   "source": [
    "### lifetime_join"
   ]
  },
  {
   "cell_type": "code",
   "execution_count": null,
   "metadata": {
    "dotnet_interactive": {
     "language": "spiral"
    },
    "polyglot_notebook": {
     "kernelName": "spiral"
    }
   },
   "outputs": [],
   "source": [
    "nominal lifetime_join t u =\n",
    "    `(\n",
    "        global \"#if FABLE_COMPILER\\n[<Fable.Core.Erase; Fable.Core.Emit(\\\"$0 + $1\\\")>]\\n#endif\\ntype LifetimeJoin<'T, 'U> = class end\"\n",
    "        $'' : $'LifetimeJoin<`t, `u>'\n",
    "    )"
   ]
  },
  {
   "cell_type": "markdown",
   "metadata": {},
   "source": [
    "### lifetime"
   ]
  },
  {
   "cell_type": "code",
   "execution_count": null,
   "metadata": {
    "dotnet_interactive": {
     "language": "spiral"
    },
    "polyglot_notebook": {
     "kernelName": "spiral"
    }
   },
   "outputs": [],
   "source": [
    "nominal lifetime t u =\n",
    "    `(\n",
    "        global \"#if FABLE_COMPILER\\n[<Fable.Core.Erase; Fable.Core.Emit(\\\"$0 $1\\\")>]\\n#endif\\ntype Lifetime<'T, 'U> = class end\"\n",
    "        $'' : $'Lifetime<`t, `u>'\n",
    "    )"
   ]
  },
  {
   "cell_type": "markdown",
   "metadata": {},
   "source": [
    "### static_lifetime"
   ]
  },
  {
   "cell_type": "code",
   "execution_count": null,
   "metadata": {
    "dotnet_interactive": {
     "language": "spiral"
    },
    "polyglot_notebook": {
     "kernelName": "spiral"
    }
   },
   "outputs": [],
   "source": [
    "nominal static_lifetime =\n",
    "    `(\n",
    "        global \"#if FABLE_COMPILER\\n[<Fable.Core.Erase; Fable.Core.Emit(\\\"'static\\\")>]\\n#endif\\ntype StaticLifetime = class end\"\n",
    "        $'' : $'StaticLifetime'\n",
    "    )"
   ]
  },
  {
   "cell_type": "markdown",
   "metadata": {},
   "source": [
    "### ref"
   ]
  },
  {
   "cell_type": "code",
   "execution_count": null,
   "metadata": {
    "dotnet_interactive": {
     "language": "spiral"
    },
    "polyglot_notebook": {
     "kernelName": "spiral"
    }
   },
   "outputs": [],
   "source": [
    "nominal ref t =\n",
    "    `(\n",
    "        backend_switch `(()) `({}) {\n",
    "            Fsharp =\n",
    "                (fun () =>\n",
    "                    global \"#if FABLE_COMPILER\\n[<Fable.Core.Erase; Fable.Core.Emit(\\\"&$0\\\")>]\\ntype Ref<'T> = class end\\n#else\\ntype Ref<'T> = 'T\\n#endif\\n\"\n",
    "                ) : () -> ()\n",
    "        }\n",
    "        $'' : $'Ref<`t>'\n",
    "    )"
   ]
  },
  {
   "cell_type": "markdown",
   "metadata": {},
   "source": [
    "### static_ref"
   ]
  },
  {
   "cell_type": "code",
   "execution_count": null,
   "metadata": {
    "dotnet_interactive": {
     "language": "spiral"
    },
    "polyglot_notebook": {
     "kernelName": "spiral"
    }
   },
   "outputs": [],
   "source": [
    "nominal static_ref t = ref (lifetime static_lifetime t)"
   ]
  },
  {
   "cell_type": "markdown",
   "metadata": {},
   "source": [
    "### weak_rc"
   ]
  },
  {
   "cell_type": "code",
   "execution_count": null,
   "metadata": {
    "dotnet_interactive": {
     "language": "spiral"
    },
    "polyglot_notebook": {
     "kernelName": "spiral"
    }
   },
   "outputs": [],
   "source": [
    "nominal weak_rc t =\n",
    "    `(\n",
    "        global \"#if FABLE_COMPILER\\n[<Fable.Core.Erase; Fable.Core.Emit(\\\"std::rc::Weak<$0>\\\")>]\\n#endif\\ntype std_rc_Weak<'T> = class end\"\n",
    "        $'' : $'std_rc_Weak<`t>'\n",
    "    )"
   ]
  },
  {
   "cell_type": "markdown",
   "metadata": {},
   "source": [
    "### box"
   ]
  },
  {
   "cell_type": "code",
   "execution_count": null,
   "metadata": {
    "dotnet_interactive": {
     "language": "spiral"
    },
    "polyglot_notebook": {
     "kernelName": "spiral"
    }
   },
   "outputs": [],
   "source": [
    "nominal box t =\n",
    "    `(\n",
    "        global \"#if FABLE_COMPILER\\n[<Fable.Core.Erase; Fable.Core.Emit(\\\"Box<$0>\\\")>]\\n#endif\\ntype Box<'T> = class end\"\n",
    "        $'' : $'Box<`t>'\n",
    "    )"
   ]
  },
  {
   "cell_type": "markdown",
   "metadata": {},
   "source": [
    "### mut_cell"
   ]
  },
  {
   "cell_type": "code",
   "execution_count": null,
   "metadata": {
    "dotnet_interactive": {
     "language": "spiral"
    },
    "polyglot_notebook": {
     "kernelName": "spiral"
    }
   },
   "outputs": [],
   "source": [
    "nominal mut_cell t =\n",
    "    `(\n",
    "        global \"#if FABLE_COMPILER\\n[<Fable.Core.Erase; Fable.Core.Emit(\\\"MutCell<$0>\\\")>]\\n#endif\\ntype MutCell<'T> = class end\"\n",
    "        $'' : $'MutCell<`t>'\n",
    "    )"
   ]
  },
  {
   "cell_type": "markdown",
   "metadata": {},
   "source": [
    "### pin"
   ]
  },
  {
   "cell_type": "code",
   "execution_count": null,
   "metadata": {
    "dotnet_interactive": {
     "language": "spiral"
    },
    "polyglot_notebook": {
     "kernelName": "spiral"
    }
   },
   "outputs": [],
   "source": [
    "nominal pin t =\n",
    "    `(\n",
    "        global \"#if FABLE_COMPILER\\n[<Fable.Core.Erase; Fable.Core.Emit(\\\"std::pin::Pin<$0>\\\")>]\\n#endif\\ntype std_pin_Pin<'T> = class end\"\n",
    "        $'' : $'std_pin_Pin<`t>'\n",
    "    )"
   ]
  },
  {
   "cell_type": "markdown",
   "metadata": {},
   "source": [
    "### dyn'"
   ]
  },
  {
   "cell_type": "code",
   "execution_count": null,
   "metadata": {
    "dotnet_interactive": {
     "language": "spiral"
    },
    "polyglot_notebook": {
     "kernelName": "spiral"
    }
   },
   "outputs": [],
   "source": [
    "nominal dyn' t =\n",
    "    `(\n",
    "        global \"#if FABLE_COMPILER\\n[<Fable.Core.Erase; Fable.Core.Emit(\\\"dyn $0\\\")>]\\n#endif\\ntype Dyn<'T> = class end\"\n",
    "        $'' : $'Dyn<`t>'\n",
    "    )"
   ]
  },
  {
   "cell_type": "markdown",
   "metadata": {},
   "source": [
    "### fn'"
   ]
  },
  {
   "cell_type": "code",
   "execution_count": null,
   "metadata": {
    "dotnet_interactive": {
     "language": "spiral"
    },
    "polyglot_notebook": {
     "kernelName": "spiral"
    }
   },
   "outputs": [],
   "source": [
    "nominal fn' t =\n",
    "    `(\n",
    "        global \"#if FABLE_COMPILER\\n[<Fable.Core.Erase; Fable.Core.Emit(\\\"Fn() -> $0\\\")>]\\n#endif\\ntype Fn<'T> = class end\"\n",
    "        $'' : $'Fn<`t>'\n",
    "    )"
   ]
  },
  {
   "cell_type": "markdown",
   "metadata": {},
   "source": [
    "### action_fn"
   ]
  },
  {
   "cell_type": "code",
   "execution_count": null,
   "metadata": {
    "dotnet_interactive": {
     "language": "spiral"
    },
    "polyglot_notebook": {
     "kernelName": "spiral"
    }
   },
   "outputs": [],
   "source": [
    "nominal action_fn t =\n",
    "    `(\n",
    "        global \"#if FABLE_COMPILER\\n[<Fable.Core.Erase; Fable.Core.Emit(\\\"Fn($0)\\\")>]\\n#endif\\ntype ActionFn<'T> = class end\"\n",
    "        $'' : $'ActionFn<`t>'\n",
    "    )"
   ]
  },
  {
   "cell_type": "markdown",
   "metadata": {},
   "source": [
    "### action_fn2"
   ]
  },
  {
   "cell_type": "code",
   "execution_count": null,
   "metadata": {
    "dotnet_interactive": {
     "language": "spiral"
    },
    "polyglot_notebook": {
     "kernelName": "spiral"
    }
   },
   "outputs": [],
   "source": [
    "nominal action_fn2 t u =\n",
    "    `(\n",
    "        global \"#if FABLE_COMPILER\\n[<Fable.Core.Erase; Fable.Core.Emit(\\\"Fn($0, $1)\\\")>]\\n#endif\\ntype ActionFn2<'T, 'U> = class end\"\n",
    "        $'' : $'ActionFn2<`t, `u>'\n",
    "    )"
   ]
  },
  {
   "cell_type": "markdown",
   "metadata": {},
   "source": [
    "### fn_once"
   ]
  },
  {
   "cell_type": "code",
   "execution_count": null,
   "metadata": {
    "dotnet_interactive": {
     "language": "spiral"
    },
    "polyglot_notebook": {
     "kernelName": "spiral"
    }
   },
   "outputs": [],
   "source": [
    "nominal fn_once t =\n",
    "    `(\n",
    "        global \"#if FABLE_COMPILER\\n[<Fable.Core.Erase; Fable.Core.Emit(\\\"FnOnce() -> $0\\\")>]\\n#endif\\ntype FnOnce<'T> = class end\"\n",
    "        $'' : $'FnOnce<`t>'\n",
    "    )"
   ]
  },
  {
   "cell_type": "markdown",
   "metadata": {},
   "source": [
    "### fn_unit"
   ]
  },
  {
   "cell_type": "code",
   "execution_count": null,
   "metadata": {
    "dotnet_interactive": {
     "language": "spiral"
    },
    "polyglot_notebook": {
     "kernelName": "spiral"
    }
   },
   "outputs": [],
   "source": [
    "nominal fn_unit =\n",
    "    `(\n",
    "        global \"#if FABLE_COMPILER\\n[<Fable.Core.Erase; Fable.Core.Emit(\\\"Fn()\\\")>]\\n#endif\\ntype FnUnit = class end\"\n",
    "        $'' : $'FnUnit'\n",
    "    )"
   ]
  },
  {
   "cell_type": "markdown",
   "metadata": {},
   "source": [
    "### func0"
   ]
  },
  {
   "cell_type": "code",
   "execution_count": null,
   "metadata": {
    "dotnet_interactive": {
     "language": "spiral"
    },
    "polyglot_notebook": {
     "kernelName": "spiral"
    }
   },
   "outputs": [],
   "source": [
    "nominal func0 t =\n",
    "    `(\n",
    "        global \"#if FABLE_COMPILER\\n[<Fable.Core.Erase; Fable.Core.Emit(\\\"Func0<$0>\\\")>]\\n#endif\\ntype Func0<'T> = class end\"\n",
    "        $'' : $'Func0<`t>'\n",
    "    )"
   ]
  },
  {
   "cell_type": "markdown",
   "metadata": {},
   "source": [
    "### func1"
   ]
  },
  {
   "cell_type": "code",
   "execution_count": null,
   "metadata": {
    "dotnet_interactive": {
     "language": "spiral"
    },
    "polyglot_notebook": {
     "kernelName": "spiral"
    }
   },
   "outputs": [],
   "source": [
    "nominal func1 t u =\n",
    "    `(\n",
    "        typecase t with\n",
    "        | () => `func0 `u\n",
    "        | _ =>\n",
    "            global \"#if FABLE_COMPILER\\n[<Fable.Core.Erase; Fable.Core.Emit(\\\"Func1<$0, $1>\\\")>]\\n#endif\\ntype Func0<'T, 'U> = class end\"\n",
    "            $'' : $'Func0<`t, `u>'\n",
    "    )"
   ]
  },
  {
   "cell_type": "markdown",
   "metadata": {},
   "source": [
    "### impl"
   ]
  },
  {
   "cell_type": "code",
   "execution_count": null,
   "metadata": {
    "dotnet_interactive": {
     "language": "spiral"
    },
    "polyglot_notebook": {
     "kernelName": "spiral"
    }
   },
   "outputs": [],
   "source": [
    "nominal impl t =\n",
    "    `(\n",
    "        global \"#if FABLE_COMPILER\\n[<Fable.Core.Erase; Fable.Core.Emit(\\\"impl $0\\\")>]\\n#endif\\ntype Impl<'T> = class end\"\n",
    "        $'' : $'Impl<`t>'\n",
    "    )"
   ]
  },
  {
   "cell_type": "markdown",
   "metadata": {},
   "source": [
    "### mut'"
   ]
  },
  {
   "cell_type": "code",
   "execution_count": null,
   "metadata": {
    "dotnet_interactive": {
     "language": "spiral"
    },
    "polyglot_notebook": {
     "kernelName": "spiral"
    }
   },
   "outputs": [],
   "source": [
    "nominal mut' t =\n",
    "    `(\n",
    "        backend_switch `(()) `({}) {\n",
    "            Fsharp =\n",
    "                (fun () =>\n",
    "                    global \"#if FABLE_COMPILER\\n[<Fable.Core.Erase; Fable.Core.Emit(\\\"mut $0\\\")>]\\n#endif\\ntype Mut<'T> = class end\"\n",
    "                ) : () -> ()\n",
    "        }\n",
    "        $'' : $'Mut<`t>'\n",
    "    )"
   ]
  },
  {
   "cell_type": "markdown",
   "metadata": {},
   "source": [
    "### ref_mut"
   ]
  },
  {
   "cell_type": "code",
   "execution_count": null,
   "metadata": {
    "dotnet_interactive": {
     "language": "spiral"
    },
    "polyglot_notebook": {
     "kernelName": "spiral"
    }
   },
   "outputs": [],
   "source": [
    "nominal ref_mut t =\n",
    "    `(\n",
    "        backend_switch `(()) `({}) {\n",
    "            Fsharp =\n",
    "                (fun () =>\n",
    "                    global \"#if FABLE_COMPILER\\n[<Fable.Core.Erase; Fable.Core.Emit(\\\"std::cell::RefMut<$0>\\\")>]\\n#endif\\ntype std_cell_RefMut<'T> = class end\"\n",
    "                ) : () -> ()\n",
    "        }\n",
    "        $'' : $'std_cell_RefMut<`t>'\n",
    "    )"
   ]
  },
  {
   "cell_type": "markdown",
   "metadata": {},
   "source": [
    "### send"
   ]
  },
  {
   "cell_type": "code",
   "execution_count": null,
   "metadata": {
    "dotnet_interactive": {
     "language": "spiral"
    },
    "polyglot_notebook": {
     "kernelName": "spiral"
    }
   },
   "outputs": [],
   "source": [
    "nominal send t =\n",
    "    `(\n",
    "        global \"#if FABLE_COMPILER\\n[<Fable.Core.Erase; Fable.Core.Emit(\\\"Send\\\")>]\\n#endif\\ntype Send<'T> = class end\"\n",
    "        $'' : lifetime_join t $'Send<`t>'\n",
    "    )"
   ]
  },
  {
   "cell_type": "markdown",
   "metadata": {},
   "source": [
    "### emit_expr"
   ]
  },
  {
   "cell_type": "code",
   "execution_count": null,
   "metadata": {
    "dotnet_interactive": {
     "language": "spiral"
    },
    "polyglot_notebook": {
     "kernelName": "spiral"
    }
   },
   "outputs": [],
   "source": [
    "inl emit_expr forall a t. (args : a) (code : string) : t =\n",
    "    $'Fable.Core.RustInterop.emitRustExpr !args !code '"
   ]
  },
  {
   "cell_type": "markdown",
   "metadata": {},
   "source": [
    "### (~!\\\\)"
   ]
  },
  {
   "cell_type": "code",
   "execution_count": null,
   "metadata": {
    "dotnet_interactive": {
     "language": "spiral"
    },
    "polyglot_notebook": {
     "kernelName": "spiral"
    }
   },
   "outputs": [],
   "source": [
    "inl (~!\\) forall t. (code : string) : t =\n",
    "    emit_expr () code"
   ]
  },
  {
   "cell_type": "markdown",
   "metadata": {},
   "source": [
    "### (~!\\\\\\\\)"
   ]
  },
  {
   "cell_type": "code",
   "execution_count": null,
   "metadata": {
    "dotnet_interactive": {
     "language": "spiral"
    },
    "polyglot_notebook": {
     "kernelName": "spiral"
    }
   },
   "outputs": [],
   "source": [
    "inl (~!\\\\) forall t u. ((args : t), (code : string)) : u =\n",
    "    emit_expr args code"
   ]
  },
  {
   "cell_type": "markdown",
   "metadata": {},
   "source": [
    "### ptr"
   ]
  },
  {
   "cell_type": "code",
   "execution_count": null,
   "metadata": {
    "dotnet_interactive": {
     "language": "spiral"
    },
    "polyglot_notebook": {
     "kernelName": "spiral"
    }
   },
   "outputs": [],
   "source": [
    "nominal ptr t =\n",
    "    `(\n",
    "        global \"#if FABLE_COMPILER\\n[<Fable.Core.Erase; Fable.Core.Emit(\\\"*const $0\\\")>]\\n#endif\\ntype Ptr<'T> = class end\"\n",
    "        $'' : $'Ptr<`t>'\n",
    "    )"
   ]
  },
  {
   "cell_type": "markdown",
   "metadata": {},
   "source": [
    "### ptr_read"
   ]
  },
  {
   "cell_type": "code",
   "execution_count": null,
   "metadata": {
    "dotnet_interactive": {
     "language": "spiral"
    },
    "polyglot_notebook": {
     "kernelName": "spiral"
    }
   },
   "outputs": [],
   "source": [
    "inl ptr_read forall t. (x : ptr t) : t =\n",
    "    !\\\\(x, $'\"std::ptr::read($0)\"')"
   ]
  },
  {
   "cell_type": "markdown",
   "metadata": {},
   "source": [
    "### u128"
   ]
  },
  {
   "cell_type": "code",
   "execution_count": null,
   "metadata": {
    "dotnet_interactive": {
     "language": "spiral"
    },
    "polyglot_notebook": {
     "kernelName": "spiral"
    }
   },
   "outputs": [],
   "source": [
    "nominal u128 =\n",
    "    `(\n",
    "        global \"#if FABLE_COMPILER\\n[<Fable.Core.Erase; Fable.Core.Emit(\\\"u128\\\")>]\\n#endif\\ntype u128 = class end\"\n",
    "        $'' : $'u128'\n",
    "    )"
   ]
  },
  {
   "cell_type": "code",
   "execution_count": null,
   "metadata": {
    "dotnet_interactive": {
     "language": "spiral"
    },
    "polyglot_notebook": {
     "kernelName": "spiral"
    }
   },
   "outputs": [],
   "source": [
    "inl u128 forall t. (x : t) : u128 =\n",
    "    !\\\\(x, $'\"$0 as u128\"')"
   ]
  },
  {
   "cell_type": "markdown",
   "metadata": {},
   "source": [
    "### f64"
   ]
  },
  {
   "cell_type": "code",
   "execution_count": null,
   "metadata": {
    "dotnet_interactive": {
     "language": "spiral"
    },
    "polyglot_notebook": {
     "kernelName": "spiral"
    }
   },
   "outputs": [],
   "source": [
    "inl f64 forall t. (x : t) : f64 =\n",
    "    !\\\\(x, $'\"$0 as f64\"')"
   ]
  },
  {
   "cell_type": "markdown",
   "metadata": {},
   "source": [
    "### unwrap_0"
   ]
  },
  {
   "cell_type": "code",
   "execution_count": null,
   "metadata": {
    "dotnet_interactive": {
     "language": "spiral"
    },
    "polyglot_notebook": {
     "kernelName": "spiral"
    }
   },
   "outputs": [],
   "source": [
    "inl unwrap_0 forall (t : * -> *) u. (x : t u) : u =\n",
    "    !\\\\(x, $'\"$0.0\"')"
   ]
  },
  {
   "cell_type": "markdown",
   "metadata": {},
   "source": [
    "### unwrap_0_ref"
   ]
  },
  {
   "cell_type": "code",
   "execution_count": null,
   "metadata": {
    "dotnet_interactive": {
     "language": "spiral"
    },
    "polyglot_notebook": {
     "kernelName": "spiral"
    }
   },
   "outputs": [],
   "source": [
    "inl unwrap_0_ref forall (t : * -> *) u. (x : ref (t u)) : ref u =\n",
    "    !\\\\(x, $'\"&$0.0\"')"
   ]
  },
  {
   "cell_type": "markdown",
   "metadata": {},
   "source": [
    "### len"
   ]
  },
  {
   "cell_type": "code",
   "execution_count": null,
   "metadata": {
    "dotnet_interactive": {
     "language": "spiral"
    },
    "polyglot_notebook": {
     "kernelName": "spiral"
    }
   },
   "outputs": [],
   "source": [
    "inl len forall t u {uint; int}. (x : t) : u =\n",
    "    !\\($'$\"!x.len()\"')"
   ]
  },
  {
   "cell_type": "markdown",
   "metadata": {},
   "source": [
    "### len'"
   ]
  },
  {
   "cell_type": "code",
   "execution_count": null,
   "metadata": {
    "dotnet_interactive": {
     "language": "spiral"
    },
    "polyglot_notebook": {
     "kernelName": "spiral"
    }
   },
   "outputs": [],
   "source": [
    "inl len' forall t u {uint; int}. (x : t) : u =\n",
    "    !\\\\(x, $'$\"$0.len()\"')"
   ]
  },
  {
   "cell_type": "markdown",
   "metadata": {},
   "source": [
    "### emit"
   ]
  },
  {
   "cell_type": "code",
   "execution_count": null,
   "metadata": {
    "dotnet_interactive": {
     "language": "spiral"
    },
    "polyglot_notebook": {
     "kernelName": "spiral"
    }
   },
   "outputs": [],
   "source": [
    "inl emit forall t. (x : t) : t =\n",
    "    !\\\\(x, $'\"$0\"')"
   ]
  },
  {
   "cell_type": "markdown",
   "metadata": {},
   "source": [
    "### emit'"
   ]
  },
  {
   "cell_type": "code",
   "execution_count": null,
   "metadata": {
    "dotnet_interactive": {
     "language": "spiral"
    },
    "polyglot_notebook": {
     "kernelName": "spiral"
    }
   },
   "outputs": [],
   "source": [
    "inl emit' forall t. (x : t) : t =\n",
    "    (!\\\\(x, $'$\"true; let !x = $0\"') : bool) |> ignore\n",
    "    x"
   ]
  },
  {
   "cell_type": "markdown",
   "metadata": {},
   "source": [
    "### clone"
   ]
  },
  {
   "cell_type": "code",
   "execution_count": null,
   "metadata": {
    "dotnet_interactive": {
     "language": "spiral"
    },
    "polyglot_notebook": {
     "kernelName": "spiral"
    }
   },
   "outputs": [],
   "source": [
    "inl clone forall t. (x : t) : t =\n",
    "    !\\\\(x, $'\"$0.clone()\"')"
   ]
  },
  {
   "cell_type": "markdown",
   "metadata": {},
   "source": [
    "### dbg"
   ]
  },
  {
   "cell_type": "code",
   "execution_count": null,
   "metadata": {
    "dotnet_interactive": {
     "language": "spiral"
    },
    "polyglot_notebook": {
     "kernelName": "spiral"
    }
   },
   "outputs": [],
   "source": [
    "inl dbg forall t. (x : t) : t =\n",
    "    !\\\\(x, $'\"dbg\\!($0)\"')"
   ]
  },
  {
   "cell_type": "markdown",
   "metadata": {},
   "source": [
    "### new_box"
   ]
  },
  {
   "cell_type": "code",
   "execution_count": null,
   "metadata": {
    "dotnet_interactive": {
     "language": "spiral"
    },
    "polyglot_notebook": {
     "kernelName": "spiral"
    }
   },
   "outputs": [],
   "source": [
    "inl new_box forall t. (x : t) : box t =\n",
    "    !\\\\(x, $'\"Box::new($0)\"')"
   ]
  },
  {
   "cell_type": "markdown",
   "metadata": {},
   "source": [
    "### new_rc"
   ]
  },
  {
   "cell_type": "code",
   "execution_count": null,
   "metadata": {
    "dotnet_interactive": {
     "language": "spiral"
    },
    "polyglot_notebook": {
     "kernelName": "spiral"
    }
   },
   "outputs": [],
   "source": [
    "inl new_rc forall t. (x : t) : rc t =\n",
    "    !\\\\(x, $'\"std::rc::Rc::new($0)\"')"
   ]
  },
  {
   "cell_type": "markdown",
   "metadata": {},
   "source": [
    "### rc_clone"
   ]
  },
  {
   "cell_type": "code",
   "execution_count": null,
   "metadata": {
    "dotnet_interactive": {
     "language": "spiral"
    },
    "polyglot_notebook": {
     "kernelName": "spiral"
    }
   },
   "outputs": [],
   "source": [
    "inl rc_clone forall t. (x : rc t) : rc t =\n",
    "    !\\\\(x, $'\"std::rc::Rc::clone(&$0)\"')"
   ]
  },
  {
   "cell_type": "markdown",
   "metadata": {},
   "source": [
    "### rc_unwrap_or_clone"
   ]
  },
  {
   "cell_type": "code",
   "execution_count": null,
   "metadata": {
    "dotnet_interactive": {
     "language": "spiral"
    },
    "polyglot_notebook": {
     "kernelName": "spiral"
    }
   },
   "outputs": [],
   "source": [
    "inl rc_unwrap_or_clone forall t. (x : rc t) : t =\n",
    "    !\\\\(x, $'\"std::rc::Rc::unwrap_or_clone($0)\"')"
   ]
  },
  {
   "cell_type": "markdown",
   "metadata": {},
   "source": [
    "### rc_downgrade"
   ]
  },
  {
   "cell_type": "code",
   "execution_count": null,
   "metadata": {
    "dotnet_interactive": {
     "language": "spiral"
    },
    "polyglot_notebook": {
     "kernelName": "spiral"
    }
   },
   "outputs": [],
   "source": [
    "inl rc_downgrade forall t. (x : rc t) : weak_rc t =\n",
    "    !\\\\(x, $'\"std::rc::Rc::downgrade(&$0)\"')"
   ]
  },
  {
   "cell_type": "markdown",
   "metadata": {},
   "source": [
    "### new_ref_cell"
   ]
  },
  {
   "cell_type": "code",
   "execution_count": null,
   "metadata": {
    "dotnet_interactive": {
     "language": "spiral"
    },
    "polyglot_notebook": {
     "kernelName": "spiral"
    }
   },
   "outputs": [],
   "source": [
    "inl new_ref_cell forall t. (x : t) : ref_cell t =\n",
    "    !\\($'\"std::cell::RefCell::new(!x)\"')"
   ]
  },
  {
   "cell_type": "markdown",
   "metadata": {},
   "source": [
    "### ref_cell_borrow"
   ]
  },
  {
   "cell_type": "code",
   "execution_count": null,
   "metadata": {
    "dotnet_interactive": {
     "language": "spiral"
    },
    "polyglot_notebook": {
     "kernelName": "spiral"
    }
   },
   "outputs": [],
   "source": [
    "inl ref_cell_borrow forall t. (x : rc (ref_cell t)) : cell_ref t =\n",
    "    !\\\\(x, $'\"std::cell::RefCell::borrow(&std::rc::Rc::clone(&$0))\"')"
   ]
  },
  {
   "cell_type": "markdown",
   "metadata": {},
   "source": [
    "### ref_cell_borrow_mut"
   ]
  },
  {
   "cell_type": "code",
   "execution_count": null,
   "metadata": {
    "dotnet_interactive": {
     "language": "spiral"
    },
    "polyglot_notebook": {
     "kernelName": "spiral"
    }
   },
   "outputs": [],
   "source": [
    "inl ref_cell_borrow_mut forall t. (x : rc (ref_cell t)) : mut' t =\n",
    "    !\\\\(x, $'\"std::cell::RefCell::borrow_mut(&std::rc::Rc::clone(&$0))\"')"
   ]
  },
  {
   "cell_type": "markdown",
   "metadata": {},
   "source": [
    "### ref_leak"
   ]
  },
  {
   "cell_type": "code",
   "execution_count": null,
   "metadata": {
    "dotnet_interactive": {
     "language": "spiral"
    },
    "polyglot_notebook": {
     "kernelName": "spiral"
    }
   },
   "outputs": [],
   "source": [
    "inl ref_leak forall t. (x : cell_ref t) : ref t =\n",
    "    !\\\\(x, $'\"std::cell::Ref::leak($0)\"')"
   ]
  },
  {
   "cell_type": "markdown",
   "metadata": {},
   "source": [
    "### to_mut"
   ]
  },
  {
   "cell_type": "code",
   "execution_count": null,
   "metadata": {
    "dotnet_interactive": {
     "language": "spiral"
    },
    "polyglot_notebook": {
     "kernelName": "spiral"
    }
   },
   "outputs": [],
   "source": [
    "inl to_mut forall t. (x : t) : () =\n",
    "    (!\\($'\"true; // 1\"') : bool) |> ignore\n",
    "    !\\($'\"let mut !x = !x\"') : ()\n",
    "    // (!\\($'\"true; !x\"') : bool) |> ignore\n",
    "    // !\\($'\"!x\"')\n",
    "    // inl result = !\\($'\"!x\"') : mut' t\n",
    "    // !\\($'\"!result\"')\n",
    "    // inl result = !\\($'\"*/ // a\"') : mut' t\n",
    "    // inl result = !\\($'\"!x\"') : mut' t\n",
    "    // result |> fun x => $'!x |> unbox // b'"
   ]
  },
  {
   "cell_type": "markdown",
   "metadata": {},
   "source": [
    "### to_ref"
   ]
  },
  {
   "cell_type": "code",
   "execution_count": null,
   "metadata": {
    "dotnet_interactive": {
     "language": "spiral"
    },
    "polyglot_notebook": {
     "kernelName": "spiral"
    }
   },
   "outputs": [],
   "source": [
    "inl to_ref forall t. (x : t) : ref t =\n",
    "    !\\\\(x, $'\"&$0\"')"
   ]
  },
  {
   "cell_type": "markdown",
   "metadata": {},
   "source": [
    "### to_ref_mut"
   ]
  },
  {
   "cell_type": "code",
   "execution_count": null,
   "metadata": {
    "dotnet_interactive": {
     "language": "spiral"
    },
    "polyglot_notebook": {
     "kernelName": "spiral"
    }
   },
   "outputs": [],
   "source": [
    "inl to_ref_mut forall t. (x : t) : ref (mut' t) =\n",
    "    x |> to_mut\n",
    "    !\\\\(x, $'\"&mut $0\"')"
   ]
  },
  {
   "cell_type": "markdown",
   "metadata": {},
   "source": [
    "### to_ref_mut'"
   ]
  },
  {
   "cell_type": "code",
   "execution_count": null,
   "metadata": {
    "dotnet_interactive": {
     "language": "spiral"
    },
    "polyglot_notebook": {
     "kernelName": "spiral"
    }
   },
   "outputs": [],
   "source": [
    "inl to_ref_mut' forall t. (x : ref_mut (ref (mut' t))) : ref (mut' t) =\n",
    "    x |> to_mut\n",
    "    !\\\\(x, $'\"&mut $0\"')"
   ]
  },
  {
   "cell_type": "markdown",
   "metadata": {},
   "source": [
    "### ref_cell_borrow_mut'"
   ]
  },
  {
   "cell_type": "code",
   "execution_count": null,
   "metadata": {
    "dotnet_interactive": {
     "language": "spiral"
    },
    "polyglot_notebook": {
     "kernelName": "spiral"
    }
   },
   "outputs": [],
   "source": [
    "inl ref_cell_borrow_mut' forall t. (x : rc (ref_cell (ref (mut' t)))) : ref (mut' t) =\n",
    "    inl x = x |> rc_clone\n",
    "    inl x : ref_mut (ref (mut' t)) = !\\\\(x, $'\"std::cell::RefCell::borrow_mut(&$0)\"')\n",
    "    x |> to_ref_mut'"
   ]
  },
  {
   "cell_type": "markdown",
   "metadata": {},
   "source": [
    "### ref_map"
   ]
  },
  {
   "cell_type": "code",
   "execution_count": null,
   "metadata": {
    "dotnet_interactive": {
     "language": "spiral"
    },
    "polyglot_notebook": {
     "kernelName": "spiral"
    }
   },
   "outputs": [],
   "source": [
    "inl ref_map forall t u. (fn : t -> u) (x : ref t) : ref u =\n",
    "    !\\($'\"!fn(!x)\"')"
   ]
  },
  {
   "cell_type": "markdown",
   "metadata": {},
   "source": [
    "### ref_eval"
   ]
  },
  {
   "cell_type": "code",
   "execution_count": null,
   "metadata": {
    "dotnet_interactive": {
     "language": "spiral"
    },
    "polyglot_notebook": {
     "kernelName": "spiral"
    }
   },
   "outputs": [],
   "source": [
    "inl ref_eval forall t u. (fn : t -> u) (ref : ref t) : u =\n",
    "    !\\\\(fn, $'\"$0(!ref.clone())\"')"
   ]
  },
  {
   "cell_type": "markdown",
   "metadata": {},
   "source": [
    "### cow_as_ref"
   ]
  },
  {
   "cell_type": "code",
   "execution_count": null,
   "metadata": {
    "dotnet_interactive": {
     "language": "spiral"
    },
    "polyglot_notebook": {
     "kernelName": "spiral"
    }
   },
   "outputs": [],
   "source": [
    "inl cow_as_ref forall t. (s : cow t) : ref t =\n",
    "    !\\\\(s, $'\"$0.as_ref()\"')"
   ]
  },
  {
   "cell_type": "markdown",
   "metadata": {},
   "source": [
    "### from_mut"
   ]
  },
  {
   "cell_type": "code",
   "execution_count": null,
   "metadata": {
    "dotnet_interactive": {
     "language": "spiral"
    },
    "polyglot_notebook": {
     "kernelName": "spiral"
    }
   },
   "outputs": [],
   "source": [
    "inl from_mut forall t. (x : mut' t) : t =\n",
    "    !\\\\(x, $'\"$0\"')"
   ]
  },
  {
   "cell_type": "markdown",
   "metadata": {},
   "source": [
    "### box_fn"
   ]
  },
  {
   "cell_type": "code",
   "execution_count": null,
   "metadata": {
    "dotnet_interactive": {
     "language": "spiral"
    },
    "polyglot_notebook": {
     "kernelName": "spiral"
    }
   },
   "outputs": [],
   "source": [
    "inl box_fn forall t. (x : () -> ()) : box t =\n",
    "    inl x = join x\n",
    "    !\\($'\"Box::new(move || !x())\"')"
   ]
  },
  {
   "cell_type": "markdown",
   "metadata": {},
   "source": [
    "### box_pin"
   ]
  },
  {
   "cell_type": "code",
   "execution_count": null,
   "metadata": {
    "dotnet_interactive": {
     "language": "spiral"
    },
    "polyglot_notebook": {
     "kernelName": "spiral"
    }
   },
   "outputs": [],
   "source": [
    "inl box_pin forall t. (x : t) : pin (box t) =\n",
    "    !\\\\(x, $'\"Box::pin($0)\"')"
   ]
  },
  {
   "cell_type": "markdown",
   "metadata": {},
   "source": [
    "### deref"
   ]
  },
  {
   "cell_type": "code",
   "execution_count": null,
   "metadata": {
    "dotnet_interactive": {
     "language": "spiral"
    },
    "polyglot_notebook": {
     "kernelName": "spiral"
    }
   },
   "outputs": [],
   "source": [
    "inl deref forall t. (ref : ref t) : t =\n",
    "    !\\\\(ref, $'\"*$0\"')"
   ]
  },
  {
   "cell_type": "markdown",
   "metadata": {},
   "source": [
    "### deref_mut"
   ]
  },
  {
   "cell_type": "code",
   "execution_count": null,
   "metadata": {
    "dotnet_interactive": {
     "language": "spiral"
    },
    "polyglot_notebook": {
     "kernelName": "spiral"
    }
   },
   "outputs": [],
   "source": [
    "inl deref_mut forall t. (x : ref (mut' t)) : t =\n",
    "    !\\\\(x, $'\"*$0\"')"
   ]
  },
  {
   "cell_type": "markdown",
   "metadata": {},
   "source": [
    "### clone_deref"
   ]
  },
  {
   "cell_type": "code",
   "execution_count": null,
   "metadata": {
    "dotnet_interactive": {
     "language": "spiral"
    },
    "polyglot_notebook": {
     "kernelName": "spiral"
    }
   },
   "outputs": [],
   "source": [
    "inl clone_deref forall t. (ref : ref t) : t =\n",
    "    !\\\\(ref, $'\"$0.clone()\"')"
   ]
  },
  {
   "cell_type": "markdown",
   "metadata": {},
   "source": [
    "### from_ref"
   ]
  },
  {
   "cell_type": "code",
   "execution_count": null,
   "metadata": {
    "dotnet_interactive": {
     "language": "spiral"
    },
    "polyglot_notebook": {
     "kernelName": "spiral"
    }
   },
   "outputs": [],
   "source": [
    "inl from_ref forall t. (ref : ref t) : t =\n",
    "    !\\($'\"!ref\"')"
   ]
  },
  {
   "cell_type": "markdown",
   "metadata": {},
   "source": [
    "### from_ref_mut"
   ]
  },
  {
   "cell_type": "code",
   "execution_count": null,
   "metadata": {
    "dotnet_interactive": {
     "language": "spiral"
    },
    "polyglot_notebook": {
     "kernelName": "spiral"
    }
   },
   "outputs": [],
   "source": [
    "inl from_ref_mut forall t. (ref : ref (mut' t)) : t =\n",
    "    !\\($'\"!ref\"')"
   ]
  },
  {
   "cell_type": "markdown",
   "metadata": {},
   "source": [
    "### reref"
   ]
  },
  {
   "cell_type": "code",
   "execution_count": null,
   "metadata": {
    "dotnet_interactive": {
     "language": "spiral"
    },
    "polyglot_notebook": {
     "kernelName": "spiral"
    }
   },
   "outputs": [],
   "source": [
    "inl reref forall t (u : * -> *). (x : ref (u t)) : ref t =\n",
    "    !\\($'$\"&*!x\"')"
   ]
  },
  {
   "cell_type": "markdown",
   "metadata": {},
   "source": [
    "### into"
   ]
  },
  {
   "cell_type": "code",
   "execution_count": null,
   "metadata": {
    "dotnet_interactive": {
     "language": "spiral"
    },
    "polyglot_notebook": {
     "kernelName": "spiral"
    }
   },
   "outputs": [],
   "source": [
    "inl into forall t u. (x : t) : u =\n",
    "    !\\($'\"!x.into()\"')"
   ]
  },
  {
   "cell_type": "markdown",
   "metadata": {},
   "source": [
    "### ops_deref"
   ]
  },
  {
   "cell_type": "code",
   "execution_count": null,
   "metadata": {
    "dotnet_interactive": {
     "language": "spiral"
    },
    "polyglot_notebook": {
     "kernelName": "spiral"
    }
   },
   "outputs": [],
   "source": [
    "inl ops_deref forall t. (ref : t) : t =\n",
    "    !\\\\(ref, $'\"core::ops::Deref::deref(&$0)\"')"
   ]
  },
  {
   "cell_type": "markdown",
   "metadata": {},
   "source": [
    "### func0_eval"
   ]
  },
  {
   "cell_type": "code",
   "execution_count": null,
   "metadata": {
    "dotnet_interactive": {
     "language": "spiral"
    },
    "polyglot_notebook": {
     "kernelName": "spiral"
    }
   },
   "outputs": [],
   "source": [
    "inl func0_eval forall t. (x : func0 t) : t =\n",
    "    !\\\\(x, $'\"$0()\"')"
   ]
  },
  {
   "cell_type": "markdown",
   "metadata": {},
   "source": [
    "### func0_move"
   ]
  },
  {
   "cell_type": "code",
   "execution_count": null,
   "metadata": {
    "dotnet_interactive": {
     "language": "spiral"
    },
    "polyglot_notebook": {
     "kernelName": "spiral"
    }
   },
   "outputs": [],
   "source": [
    "inl func0_move forall t. (fn : func0 t) : t =\n",
    "    inl fn = join fn\n",
    "    !\\($'\"(move || !fn())()\"')"
   ]
  },
  {
   "cell_type": "markdown",
   "metadata": {},
   "source": [
    "### func1_move"
   ]
  },
  {
   "cell_type": "code",
   "execution_count": null,
   "metadata": {
    "dotnet_interactive": {
     "language": "spiral"
    },
    "polyglot_notebook": {
     "kernelName": "spiral"
    }
   },
   "outputs": [],
   "source": [
    "inl func1_move forall t u. (x : t) (fn : func1 t u) : u =\n",
    "    inl fn = join fn\n",
    "    inl is_unit : bool =\n",
    "        real\n",
    "            typecase t with\n",
    "            | () => true\n",
    "            | _ => false\n",
    "    inl result =\n",
    "        if is_unit\n",
    "        then !\\($'\"(move || !fn())()\"') : u\n",
    "        else\n",
    "            $'let func1_move_x = !x //' : ()\n",
    "            inl func1_move_x : infer = $'func1_move_x'\n",
    "            !\\\\(func1_move_x, $'\"(move |x| !fn(x))($0)\"') : u\n",
    "    result"
   ]
  },
  {
   "cell_type": "markdown",
   "metadata": {},
   "source": [
    "### func0_from"
   ]
  },
  {
   "cell_type": "code",
   "execution_count": null,
   "metadata": {
    "dotnet_interactive": {
     "language": "spiral"
    },
    "polyglot_notebook": {
     "kernelName": "spiral"
    }
   },
   "outputs": [],
   "source": [
    "inl func0_from forall t. (fn : () -> t) : func0 t =\n",
    "    inl result' : unit = $'()'\n",
    "    (!\\($'$\"true; let _func0_from_!result' = Func0::from(move || {{ //\"') : bool) |> ignore\n",
    "    inl is_unit : bool =\n",
    "        real\n",
    "            typecase t with\n",
    "            | () => true\n",
    "            | _ => false\n",
    "    inl result =\n",
    "        if is_unit |> not\n",
    "        then fn ()\n",
    "        else\n",
    "            (fn >> ignore) ()\n",
    "            // (!\\($'$\"true; // rust.func0_from\"') : bool) |> ignore\n",
    "            $'// rust.func0_from / is_unit'\n",
    "    if is_unit\n",
    "    then (!\\($'$\"true; /*\"') : bool) |> ignore\n",
    "    else (!\\\\(result, $'$\"true; $0 /*\"') : bool) |> ignore\n",
    "    (!\\($'$\"*/ }}); //\"') : bool) |> ignore\n",
    "    !\\($'$\"_func0_from_!result'\"')"
   ]
  },
  {
   "cell_type": "markdown",
   "metadata": {},
   "source": [
    "### func1_from"
   ]
  },
  {
   "cell_type": "code",
   "execution_count": null,
   "metadata": {
    "dotnet_interactive": {
     "language": "spiral"
    },
    "polyglot_notebook": {
     "kernelName": "spiral"
    }
   },
   "outputs": [],
   "source": [
    "inl func1_from forall t u. (fn : t -> u) : func1 t u =\n",
    "    inl result' : unit = $'()'\n",
    "    inl is_unit : bool =\n",
    "        real\n",
    "            typecase u with\n",
    "            | () => true\n",
    "            | _ => false\n",
    "    inl is_unit' : bool =\n",
    "        real\n",
    "            typecase t with\n",
    "            | () => true\n",
    "            | _ => false\n",
    "    if is_unit\n",
    "    then (!\\($'$\"true; let _func1_from_!result' = Func0::from(move || {{ //\"') : bool) |> ignore\n",
    "    else (!\\($'$\"true; let _func1_from_!result' = Func1::from(move |value| {{ //\"') : bool) |> ignore\n",
    "\n",
    "    inl result =\n",
    "        if is_unit'\n",
    "        then !\\($'$\"()\"')\n",
    "        else !\\($'$\"value\"')\n",
    "        |> fn\n",
    "\n",
    "    if is_unit\n",
    "    then (!\\($'$\"true; /*\"') : bool) |> ignore\n",
    "    else\n",
    "        $'let func1_from_result = !result //' : ()\n",
    "        inl func1_from_result : infer = $'func1_from_result'\n",
    "        (!\\\\(func1_from_result, $'$\"true; $0 /*\"') : bool) |> ignore\n",
    "    (!\\($'$\"*/ }}); //\"') : bool) |> ignore\n",
    "    !\\($'$\"_func1_from_!result'\"')"
   ]
  },
  {
   "cell_type": "markdown",
   "metadata": {},
   "source": [
    "### new_func0"
   ]
  },
  {
   "cell_type": "code",
   "execution_count": null,
   "metadata": {
    "dotnet_interactive": {
     "language": "spiral"
    },
    "polyglot_notebook": {
     "kernelName": "spiral"
    }
   },
   "outputs": [],
   "source": [
    "inl new_func0 forall t. (fn : () -> t) : func0 t =\n",
    "    !\\\\(fn, $'\"Func0::new(|| $0())\"')"
   ]
  },
  {
   "cell_type": "markdown",
   "metadata": {},
   "source": [
    "### move"
   ]
  },
  {
   "cell_type": "code",
   "execution_count": null,
   "metadata": {
    "dotnet_interactive": {
     "language": "spiral"
    },
    "polyglot_notebook": {
     "kernelName": "spiral"
    }
   },
   "outputs": [],
   "source": [
    "inl move forall t. (fn : () -> t) : func0 t =\n",
    "    !\\\\(fn, $'\"Func0::new(move || $0())\"')"
   ]
  },
  {
   "cell_type": "markdown",
   "metadata": {},
   "source": [
    "### to_static_ref_unbox"
   ]
  },
  {
   "cell_type": "code",
   "execution_count": null,
   "metadata": {
    "dotnet_interactive": {
     "language": "spiral"
    },
    "polyglot_notebook": {
     "kernelName": "spiral"
    }
   },
   "outputs": [],
   "source": [
    "inl to_static_ref_unbox forall t. (x : ref t) : static_ref t =\n",
    "    x |> unbox"
   ]
  },
  {
   "cell_type": "markdown",
   "metadata": {},
   "source": [
    "### from_static_ref_unbox"
   ]
  },
  {
   "cell_type": "code",
   "execution_count": null,
   "metadata": {
    "dotnet_interactive": {
     "language": "spiral"
    },
    "polyglot_notebook": {
     "kernelName": "spiral"
    }
   },
   "outputs": [],
   "source": [
    "inl from_static_ref_unbox forall t. (x : static_ref t) : ref t =\n",
    "    x |> unbox"
   ]
  },
  {
   "cell_type": "markdown",
   "metadata": {},
   "source": [
    "### box_leak"
   ]
  },
  {
   "cell_type": "code",
   "execution_count": null,
   "metadata": {
    "dotnet_interactive": {
     "language": "spiral"
    },
    "polyglot_notebook": {
     "kernelName": "spiral"
    }
   },
   "outputs": [],
   "source": [
    "inl box_leak forall t. (x : box t) : static_ref (mut' t) =\n",
    "    !\\\\(x, $'\"Box::leak($0)\"')"
   ]
  },
  {
   "cell_type": "markdown",
   "metadata": {},
   "source": [
    "### drop"
   ]
  },
  {
   "cell_type": "code",
   "execution_count": null,
   "metadata": {
    "dotnet_interactive": {
     "language": "spiral"
    },
    "polyglot_notebook": {
     "kernelName": "spiral"
    }
   },
   "outputs": [],
   "source": [
    "inl drop forall t. (x : t) : () =\n",
    "    (!\\\\(x, $'\"true; drop($0)\"') : bool) |> ignore"
   ]
  },
  {
   "cell_type": "markdown",
   "metadata": {},
   "source": [
    "### break"
   ]
  },
  {
   "cell_type": "code",
   "execution_count": null,
   "metadata": {
    "dotnet_interactive": {
     "language": "spiral"
    },
    "polyglot_notebook": {
     "kernelName": "spiral"
    }
   },
   "outputs": [],
   "source": [
    "inl break () : () =\n",
    "    (!\\($'\"true; break\"') : bool) |> ignore"
   ]
  },
  {
   "cell_type": "markdown",
   "metadata": {},
   "source": [
    "### fix_closure'"
   ]
  },
  {
   "cell_type": "code",
   "execution_count": null,
   "metadata": {
    "dotnet_interactive": {
     "language": "spiral"
    },
    "polyglot_notebook": {
     "kernelName": "spiral"
    }
   },
   "outputs": [],
   "source": [
    "inl fix_closure' forall t. (depth : u8 * u8) (x : t) : string =\n",
    "    inl rec loop text (acc : string) n : string =\n",
    "        if n <= 0\n",
    "        then acc\n",
    "        else loop text (acc +. text) (n - 1)\n",
    "    inl a = depth |> fst |> loop \"}\" \"\"\n",
    "    inl b = depth |> snd |> loop \"{\" \"\"\n",
    "    inl is_unit : bool =\n",
    "        real\n",
    "            typecase t with\n",
    "            | () => true\n",
    "            | _ => false\n",
    "    $'let x = !x //' : ()\n",
    "    inl x : infer = $'x'\n",
    "    inl result' : unit = $'()'\n",
    "    run_target_args (fun () => x) function\n",
    "        | Rust _ => fun x =>\n",
    "            if is_unit\n",
    "            then false\n",
    "            else\n",
    "                (!\\\\(x, $'$\"true; let _fix_closure_!result' = $0\"') : bool) |> ignore\n",
    "                true\n",
    "        | _ => fun x' => false\n",
    "    |> ignore\n",
    "    $'$\"true; _fix_closure_!result' \" + !a + \"); \" + !b + \" // rust.fix_closure\\'\"'"
   ]
  },
  {
   "cell_type": "code",
   "execution_count": null,
   "metadata": {
    "dotnet_interactive": {
     "language": "spiral"
    },
    "polyglot_notebook": {
     "kernelName": "spiral"
    }
   },
   "outputs": [
    {
     "name": "stdout",
     "output_type": "stream",
     "text": [
      "let rec method1 (v0 : bool) : bool =\n",
      "    v0\n",
      "and closure0 (v0 : string) () : unit =\n",
      "    let v1 : (string -> unit) = System.Console.WriteLine\n",
      "    v1 v0\n",
      "and method0 () : unit =\n",
      "    let v0 : string = \"\"\n",
      "    let v1 : string = \"}\"\n",
      "    let v2 : string = v0 + v1 \n",
      "    let v3 : string = v2 + v1 \n",
      "    let v4 : string = v3 + v1 \n",
      "    let v5 : string = \"{\"\n",
      "    let v6 : string = v0 + v5 \n",
      "    let v7 : string = v6 + v5 \n",
      "    let x = 0 //\n",
      "    let v8 : _ = x\n",
      "    let v9 : unit = ()\n",
      "    (* run_target_args'\n",
      "    let v10 : unit = ()\n",
      "    run_target_args' *)\n",
      "    \n",
      "#if FABLE_COMPILER || WASM || CONTRACT\n",
      "    \n",
      "#if FABLE_COMPILER_RUST && !WASM && !CONTRACT\n",
      "    let v11 : string = $\"true; let _fix_closure_v9 = $0\"\n",
      "    let v12 : bool = Fable.Core.RustInterop.emitRustExpr v8 v11 \n",
      "    let _run_target_args'_v10 = true \n",
      "    #endif\n",
      "#if FABLE_COMPILER_RUST && WASM\n",
      "    let v13 : string = $\"true; let _fix_closure_v9 = $0\"\n",
      "    let v14 : bool = Fable.Core.RustInterop.emitRustExpr v8 v13 \n",
      "    let _run_target_args'_v10 = true \n",
      "    #endif\n",
      "#if FABLE_COMPILER_RUST && CONTRACT\n",
      "    let v15 : string = $\"true; let _fix_closure_v9 = $0\"\n",
      "    let v16 : bool = Fable.Core.RustInterop.emitRustExpr v8 v15 \n",
      "    let _run_target_args'_v10 = true \n",
      "    #endif\n",
      "#if FABLE_COMPILER_TYPESCRIPT\n",
      "    let _run_target_args'_v10 = false \n",
      "    #endif\n",
      "#if FABLE_COMPILER_PYTHON\n",
      "    let _run_target_args'_v10 = false \n",
      "    #endif\n",
      "#if !FABLE_COMPILER_RUST && !FABLE_COMPILER_TYPESCRIPT && !FABLE_COMPILER_PYTHON\n",
      "    let _run_target_args'_v10 = false \n",
      "    #endif\n",
      "#else\n",
      "    let _run_target_args'_v10 = false \n",
      "    #endif\n",
      "    let v17 : bool = _run_target_args'_v10 \n",
      "    let v19 : string = $\"true; _fix_closure_v9 \" + v4 + \"); \" + v7 + \" // rust.fix_closure'\"\n",
      "    let v20 : bool = v19 = \"true; _fix_closure_v9 }}}); {{ // rust.fix_closure'\"\n",
      "    let v22 : bool =\n",
      "        if v20 then\n",
      "            true\n",
      "        else\n",
      "            method1(v20)\n",
      "    let v23 : string = \"__assert_eq\"\n",
      "    let v24 : string = \"true; _fix_closure_v9 }}}); {{ // rust.fix_closure'\"\n",
      "    let v25 : string = $\"{v23} / actual: %A{v19} / expected: %A{v24}\"\n",
      "    let v28 : unit = ()\n",
      "    let v29 : (unit -> unit) = closure0(v25)\n",
      "    let v30 : unit = (fun () -> v29 (); v28) ()\n",
      "    let v32 : bool = v22 = false\n",
      "    if v32 then\n",
      "        failwith<unit> v25\n",
      "method0()\n",
      "\n",
      "__assert_eq / actual: \"true; _fix_closure_v9 }}}); {{ // rust.fix_closure'\" / expected: \"true; _fix_closure_v9 }}}); {{ // rust.fix_closure'\"\n"
     ]
    }
   ],
   "source": [
    "//// test\n",
    "//// print_code\n",
    "\n",
    "fix_closure' (3, 2) 0i32\n",
    "|> _assert_eq \"true; _fix_closure_v9 }}}); {{ // rust.fix_closure'\""
   ]
  },
  {
   "cell_type": "code",
   "execution_count": null,
   "metadata": {
    "dotnet_interactive": {
     "language": "spiral"
    },
    "polyglot_notebook": {
     "kernelName": "spiral"
    }
   },
   "outputs": [
    {
     "name": "stdout",
     "output_type": "stream",
     "text": [
      "let rec method1 (v0 : bool) : bool =\n",
      "    v0\n",
      "and closure0 (v0 : string) () : unit =\n",
      "    let v1 : (string -> unit) = System.Console.WriteLine\n",
      "    v1 v0\n",
      "and method0 () : unit =\n",
      "    let x = () //\n",
      "    let v0 : _ = x\n",
      "    let v1 : unit = ()\n",
      "    (* run_target_args'\n",
      "    let v2 : unit = ()\n",
      "    run_target_args' *)\n",
      "    \n",
      "#if FABLE_COMPILER || WASM || CONTRACT\n",
      "    \n",
      "#if FABLE_COMPILER_RUST && !WASM && !CONTRACT\n",
      "    let _run_target_args'_v2 = false \n",
      "    #endif\n",
      "#if FABLE_COMPILER_RUST && WASM\n",
      "    let _run_target_args'_v2 = false \n",
      "    #endif\n",
      "#if FABLE_COMPILER_RUST && CONTRACT\n",
      "    let _run_target_args'_v2 = false \n",
      "    #endif\n",
      "#if FABLE_COMPILER_TYPESCRIPT\n",
      "    let _run_target_args'_v2 = false \n",
      "    #endif\n",
      "#if FABLE_COMPILER_PYTHON\n",
      "    let _run_target_args'_v2 = false \n",
      "    #endif\n",
      "#if !FABLE_COMPILER_RUST && !FABLE_COMPILER_TYPESCRIPT && !FABLE_COMPILER_PYTHON\n",
      "    let _run_target_args'_v2 = false \n",
      "    #endif\n",
      "#else\n",
      "    let _run_target_args'_v2 = false \n",
      "    #endif\n",
      "    let v3 : bool = _run_target_args'_v2 \n",
      "    let v5 : string = \"\"\n",
      "    let v6 : string = $\"true; _fix_closure_v1 \" + v5 + \"); \" + v5 + \" // rust.fix_closure'\"\n",
      "    let v7 : bool = v6 = \"true; _fix_closure_v1 );  // rust.fix_closure'\"\n",
      "    let v9 : bool =\n",
      "        if v7 then\n",
      "            true\n",
      "        else\n",
      "            method1(v7)\n",
      "    let v10 : string = \"__assert_eq\"\n",
      "    let v11 : string = \"true; _fix_closure_v1 );  // rust.fix_closure'\"\n",
      "    let v12 : string = $\"{v10} / actual: %A{v6} / expected: %A{v11}\"\n",
      "    let v15 : unit = ()\n",
      "    let v16 : (unit -> unit) = closure0(v12)\n",
      "    let v17 : unit = (fun () -> v16 (); v15) ()\n",
      "    let v19 : bool = v9 = false\n",
      "    if v19 then\n",
      "        failwith<unit> v12\n",
      "method0()\n",
      "\n",
      "__assert_eq / actual: \"true; _fix_closure_v1 );  // rust.fix_closure'\" / expected: \"true; _fix_closure_v1 );  // rust.fix_closure'\"\n"
     ]
    }
   ],
   "source": [
    "//// test\n",
    "//// print_code\n",
    "\n",
    "fix_closure' (0, 0) ()\n",
    "|> _assert_eq \"true; _fix_closure_v1 );  // rust.fix_closure'\""
   ]
  },
  {
   "cell_type": "markdown",
   "metadata": {},
   "source": [
    "### fix_closure"
   ]
  },
  {
   "cell_type": "code",
   "execution_count": null,
   "metadata": {
    "dotnet_interactive": {
     "language": "spiral"
    },
    "polyglot_notebook": {
     "kernelName": "spiral"
    }
   },
   "outputs": [],
   "source": [
    "inl fix_closure depth x =\n",
    "    inl code = fix_closure' depth x\n",
    "    (!\\code : bool) |> ignore"
   ]
  },
  {
   "cell_type": "markdown",
   "metadata": {},
   "source": [
    "### loop"
   ]
  },
  {
   "cell_type": "code",
   "execution_count": null,
   "metadata": {
    "dotnet_interactive": {
     "language": "spiral"
    },
    "polyglot_notebook": {
     "kernelName": "spiral"
    }
   },
   "outputs": [],
   "source": [
    "inl loop (depth : i32) (fn : () -> ()) : () =\n",
    "    (!\\($'\"true; loop { // rust.loop\"') : bool) |> ignore\n",
    "    fn ()\n",
    "\n",
    "    listm.init depth id\n",
    "    |> listm.iter fun n =>\n",
    "        (!\\($'\"true; } // rust.loop\"') : bool) |> ignore\n",
    "\n",
    "    (!\\($'\"true; } // rust.loop\"') : bool) |> ignore\n",
    "\n",
    "    listm.init depth id\n",
    "    |> listm.iter fun n =>\n",
    "        (!\\($'\"true; { // rust.loop\"') : bool) |> ignore"
   ]
  },
  {
   "cell_type": "markdown",
   "metadata": {},
   "source": [
    "### capture"
   ]
  },
  {
   "cell_type": "code",
   "execution_count": null,
   "metadata": {
    "dotnet_interactive": {
     "language": "spiral"
    },
    "polyglot_notebook": {
     "kernelName": "spiral"
    }
   },
   "outputs": [],
   "source": [
    "inl capture forall t. (fn : () -> t) : t =\n",
    "    (!\\($'\"true; let _capture = (|| { //\"') : bool) |> ignore\n",
    "    (!\\\\(fn (), $'\"true; $0 })()\"') : bool) |> ignore\n",
    "    !\\($'\"_capture\"')"
   ]
  },
  {
   "cell_type": "markdown",
   "metadata": {},
   "source": [
    "### capture_move"
   ]
  },
  {
   "cell_type": "code",
   "execution_count": null,
   "metadata": {
    "dotnet_interactive": {
     "language": "spiral"
    },
    "polyglot_notebook": {
     "kernelName": "spiral"
    }
   },
   "outputs": [],
   "source": [
    "inl capture_move forall t. (fn : () -> t) : t =\n",
    "    (!\\($'\"true; let _capture_move = (move || { //\"') : bool) |> ignore\n",
    "    (!\\\\(fn (), $'\"true; $0 })()\"') : bool) |> ignore\n",
    "    !\\($'\"_capture_move\"')"
   ]
  },
  {
   "cell_type": "markdown",
   "metadata": {},
   "source": [
    "### type_emit"
   ]
  },
  {
   "cell_type": "code",
   "execution_count": null,
   "metadata": {
    "dotnet_interactive": {
     "language": "spiral"
    },
    "polyglot_notebook": {
     "kernelName": "spiral"
    }
   },
   "outputs": [],
   "source": [
    "nominal type_emit t =\n",
    "    `(\n",
    "        global \"#if FABLE_COMPILER\\n[<Fable.Core.Erase; Fable.Core.Emit(\\\"*/ $0 /*\\\")>]\\n#endif\\ntype TypeEmit<'T> = class end\"\n",
    "        $'' : $'TypeEmit<`t>'\n",
    "    )"
   ]
  },
  {
   "cell_type": "markdown",
   "metadata": {},
   "source": [
    "### partial_eq_wrapper"
   ]
  },
  {
   "cell_type": "code",
   "execution_count": null,
   "metadata": {
    "dotnet_interactive": {
     "language": "spiral"
    },
    "polyglot_notebook": {
     "kernelName": "spiral"
    }
   },
   "outputs": [],
   "source": [
    "nominal partial_eq_wrapper t =\n",
    "    `(\n",
    "        global \"#if FABLE_COMPILER\\n[<Fable.Core.Erase; Fable.Core.Emit(\\\"PartialEqWrapper<$0>\\\")>]\\n#endif\\ntype PartialEqWrapper<'T> = class end\"\n",
    "        $'' : $'PartialEqWrapper<`t>'\n",
    "    )"
   ]
  },
  {
   "cell_type": "markdown",
   "metadata": {},
   "source": [
    "### new_partial_eq_wrapper"
   ]
  },
  {
   "cell_type": "code",
   "execution_count": null,
   "metadata": {
    "dotnet_interactive": {
     "language": "spiral"
    },
    "polyglot_notebook": {
     "kernelName": "spiral"
    }
   },
   "outputs": [],
   "source": [
    "inl new_partial_eq_wrapper forall t.\n",
    "    (eq_fn : ref (partial_eq_wrapper t) -> ref (partial_eq_wrapper t) -> bool)\n",
    "    (x : t)\n",
    "    : partial_eq_wrapper t\n",
    "    =\n",
    "    inl struct () =\n",
    "        !\\($'\"} //\"') : ()\n",
    "\n",
    "        !\\($'\"#[derive( //\"') : ()\n",
    "        !\\($'\"  Debug, //\"') : ()\n",
    "        !\\($'\"  Clone, //\"') : ()\n",
    "        !\\($'\")] //\"') : ()\n",
    "        !\\($'\"pub struct PartialEqWrapper<T>(T); /*\"') : ()\n",
    "\n",
    "        !\\($'\"*/ impl PartialEq for PartialEqWrapper< /*\"') : ()\n",
    "        (null () : type_emit t) |> ignore\n",
    "        !\\($'\"*/ > { //\"') : ()\n",
    "\n",
    "        !\\($'\"fn eq(&self, other: &Self) -> bool { //\"') : ()\n",
    "\n",
    "        inl self : ref (partial_eq_wrapper t) = !\\($'$\"self\"')\n",
    "        inl other : ref (partial_eq_wrapper t) = !\\($'$\"other\"')\n",
    "\n",
    "        self\n",
    "        |> eq_fn other\n",
    "        |> fun x => !\\($'$\"!x //\"')\n",
    "\n",
    "        !\\($'\"} } } fn _main() { { { //\"') : ()\n",
    "\n",
    "    $'let _!struct = true' : ()\n",
    "\n",
    "    !\\\\(x, $'\"PartialEqWrapper($0)\"')"
   ]
  },
  {
   "cell_type": "markdown",
   "metadata": {},
   "source": [
    "### clone_wrapper"
   ]
  },
  {
   "cell_type": "code",
   "execution_count": null,
   "metadata": {
    "dotnet_interactive": {
     "language": "spiral"
    },
    "polyglot_notebook": {
     "kernelName": "spiral"
    }
   },
   "outputs": [],
   "source": [
    "nominal clone_wrapper t =\n",
    "    `(\n",
    "        global \"#if FABLE_COMPILER\\n[<Fable.Core.Erase; Fable.Core.Emit(\\\"CloneWrapper<$0>\\\")>]\\n#endif\\ntype CloneWrapper<'T> = class end\"\n",
    "        $'' : $'CloneWrapper<`t>'\n",
    "    )"
   ]
  },
  {
   "cell_type": "markdown",
   "metadata": {},
   "source": [
    "### new_clone_wrapper"
   ]
  },
  {
   "cell_type": "code",
   "execution_count": null,
   "metadata": {
    "dotnet_interactive": {
     "language": "spiral"
    },
    "polyglot_notebook": {
     "kernelName": "spiral"
    }
   },
   "outputs": [],
   "source": [
    "inl new_clone_wrapper forall t.\n",
    "    (clone_fn : ref (clone_wrapper t) -> ref (clone_wrapper t))\n",
    "    (x : t)\n",
    "    : clone_wrapper t\n",
    "    =\n",
    "    inl struct () =\n",
    "        !\\($'\"} //\"') : ()\n",
    "\n",
    "        !\\($'\"#[derive( //\"') : ()\n",
    "        !\\($'\"  Debug, //\"') : ()\n",
    "        !\\($'\")] //\"') : ()\n",
    "        !\\($'\"pub struct CloneWrapper<T>(T); /*\"') : ()\n",
    "\n",
    "        !\\($'\"*/ impl Clone for CloneWrapper< /*\"') : ()\n",
    "        (null () : type_emit t) |> ignore\n",
    "        !\\($'\"*/ > { //\"') : ()\n",
    "\n",
    "        !\\($'\"fn clone(&self) -> Self { //\"') : ()\n",
    "\n",
    "        inl self : ref (clone_wrapper t) = !\\($'$\"self\"')\n",
    "\n",
    "        self\n",
    "        |> clone_fn\n",
    "        |> fun x => !\\($'$\"!x.clone() //\"')\n",
    "\n",
    "        !\\($'\"} } } fn _main() { { { //\"') : ()\n",
    "\n",
    "    $'let _!struct = true' : ()\n",
    "\n",
    "    !\\\\(x, $'\"CloneWrapper($0)\"')"
   ]
  },
  {
   "cell_type": "markdown",
   "metadata": {},
   "source": [
    "### concat"
   ]
  },
  {
   "cell_type": "code",
   "execution_count": null,
   "metadata": {
    "dotnet_interactive": {
     "language": "spiral"
    },
    "polyglot_notebook": {
     "kernelName": "spiral"
    }
   },
   "outputs": [],
   "source": [
    "inl concat forall (t : * -> *) u. (x : t (t u)) : t u =\n",
    "    !\\($'$\"!x.concat()\"')"
   ]
  }
 ],
 "metadata": {},
 "nbformat": 4,
 "nbformat_minor": 5
}