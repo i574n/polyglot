{
 "cells": [
  {
   "cell_type": "markdown",
   "metadata": {},
   "source": [
    "# near_workspaces"
   ]
  },
  {
   "cell_type": "code",
   "execution_count": null,
   "metadata": {
    "dotnet_interactive": {
     "language": "spiral"
    },
    "polyglot_notebook": {
     "kernelName": "spiral"
    }
   },
   "outputs": [],
   "source": [
    "open rust\n",
    "open rust.rust_operators"
   ]
  },
  {
   "cell_type": "code",
   "execution_count": null,
   "metadata": {
    "dotnet_interactive": {
     "language": "spiral"
    },
    "polyglot_notebook": {
     "kernelName": "spiral"
    }
   },
   "outputs": [],
   "source": [
    "//// test\n",
    "\n",
    "open testing"
   ]
  },
  {
   "cell_type": "markdown",
   "metadata": {},
   "source": [
    "## near"
   ]
  },
  {
   "cell_type": "markdown",
   "metadata": {},
   "source": [
    "### near_token_workspaces"
   ]
  },
  {
   "cell_type": "code",
   "execution_count": null,
   "metadata": {
    "dotnet_interactive": {
     "language": "spiral"
    },
    "polyglot_notebook": {
     "kernelName": "spiral"
    }
   },
   "outputs": [],
   "source": [
    "nominal near_token_workspaces =\n",
    "    `(\n",
    "        global \"#if FABLE_COMPILER\\n[<Fable.Core.Erase; Fable.Core.Emit(\\\"near_workspaces::types::NearToken\\\")>]\\n#endif\\ntype near_workspaces_types_NearToken = class end\"\n",
    "        $'' : $'near_workspaces_types_NearToken'\n",
    "    )"
   ]
  },
  {
   "cell_type": "markdown",
   "metadata": {},
   "source": [
    "### gas"
   ]
  },
  {
   "cell_type": "code",
   "execution_count": null,
   "metadata": {
    "dotnet_interactive": {
     "language": "spiral"
    },
    "polyglot_notebook": {
     "kernelName": "spiral"
    }
   },
   "outputs": [],
   "source": [
    "nominal gas =\n",
    "    `(\n",
    "        global \"#if FABLE_COMPILER\\n[<Fable.Core.Erase; Fable.Core.Emit(\\\"near_workspaces::types::Gas\\\")>]\\n#endif\\ntype near_workspaces_types_Gas = class end\"\n",
    "        $'' : $'near_workspaces_types_Gas'\n",
    "    )"
   ]
  },
  {
   "cell_type": "markdown",
   "metadata": {},
   "source": [
    "### near_workspaces_error"
   ]
  },
  {
   "cell_type": "code",
   "execution_count": null,
   "metadata": {
    "dotnet_interactive": {
     "language": "spiral"
    },
    "polyglot_notebook": {
     "kernelName": "spiral"
    }
   },
   "outputs": [],
   "source": [
    "nominal near_workspaces_error =\n",
    "    `(\n",
    "        global \"#if FABLE_COMPILER\\n[<Fable.Core.Erase; Fable.Core.Emit(\\\"near_workspaces::error::Error\\\")>]\\n#endif\\ntype near_workspaces_error_Error = class end\"\n",
    "        $'' : $'near_workspaces_error_Error'\n",
    "    )"
   ]
  },
  {
   "cell_type": "markdown",
   "metadata": {},
   "source": [
    "### sandbox"
   ]
  },
  {
   "cell_type": "code",
   "execution_count": null,
   "metadata": {
    "dotnet_interactive": {
     "language": "spiral"
    },
    "polyglot_notebook": {
     "kernelName": "spiral"
    }
   },
   "outputs": [],
   "source": [
    "nominal sandbox =\n",
    "    `(\n",
    "        global \"#if FABLE_COMPILER\\n[<Fable.Core.Erase; Fable.Core.Emit(\\\"near_workspaces::network::Sandbox\\\")>]\\n#endif\\ntype near_workspaces_network_Sandbox = class end\"\n",
    "        $'' : $'near_workspaces_network_Sandbox'\n",
    "    )"
   ]
  },
  {
   "cell_type": "markdown",
   "metadata": {},
   "source": [
    "### worker"
   ]
  },
  {
   "cell_type": "code",
   "execution_count": null,
   "metadata": {
    "dotnet_interactive": {
     "language": "spiral"
    },
    "polyglot_notebook": {
     "kernelName": "spiral"
    }
   },
   "outputs": [],
   "source": [
    "nominal worker t =\n",
    "    `(\n",
    "        global \"#if FABLE_COMPILER\\n[<Fable.Core.Erase; Fable.Core.Emit(\\\"near_workspaces::Worker<$0>\\\")>]\\n#endif\\ntype near_workspaces_Worker<'T> = class end\"\n",
    "        $'' : $'near_workspaces_Worker<`t>'\n",
    "    )"
   ]
  },
  {
   "cell_type": "markdown",
   "metadata": {},
   "source": [
    "### contract"
   ]
  },
  {
   "cell_type": "code",
   "execution_count": null,
   "metadata": {
    "dotnet_interactive": {
     "language": "spiral"
    },
    "polyglot_notebook": {
     "kernelName": "spiral"
    }
   },
   "outputs": [],
   "source": [
    "nominal contract =\n",
    "    `(\n",
    "        global \"#if FABLE_COMPILER\\n[<Fable.Core.Erase; Fable.Core.Emit(\\\"near_workspaces::Contract\\\")>]\\n#endif\\ntype near_workspaces_Contract = class end\"\n",
    "        $'' : $'near_workspaces_Contract'\n",
    "    )"
   ]
  },
  {
   "cell_type": "markdown",
   "metadata": {},
   "source": [
    "### call_transaction"
   ]
  },
  {
   "cell_type": "code",
   "execution_count": null,
   "metadata": {
    "dotnet_interactive": {
     "language": "spiral"
    },
    "polyglot_notebook": {
     "kernelName": "spiral"
    }
   },
   "outputs": [],
   "source": [
    "nominal call_transaction =\n",
    "    `(\n",
    "        global \"#if FABLE_COMPILER\\n[<Fable.Core.Erase; Fable.Core.Emit(\\\"near_workspaces::operations::CallTransaction\\\")>]\\n#endif\\ntype near_workspaces_operations_CallTransaction = class end\"\n",
    "        $'' : $'near_workspaces_operations_CallTransaction'\n",
    "    )"
   ]
  },
  {
   "cell_type": "markdown",
   "metadata": {},
   "source": [
    "### execution_final_result"
   ]
  },
  {
   "cell_type": "code",
   "execution_count": null,
   "metadata": {
    "dotnet_interactive": {
     "language": "spiral"
    },
    "polyglot_notebook": {
     "kernelName": "spiral"
    }
   },
   "outputs": [],
   "source": [
    "nominal execution_final_result =\n",
    "    `(\n",
    "        global \"#if FABLE_COMPILER\\n[<Fable.Core.Erase; Fable.Core.Emit(\\\"near_workspaces::result::ExecutionFinalResult\\\")>]\\n#endif\\ntype near_workspaces_result_ExecutionFinalResult = class end\"\n",
    "        $'' : $'near_workspaces_result_ExecutionFinalResult'\n",
    "    )"
   ]
  },
  {
   "cell_type": "markdown",
   "metadata": {},
   "source": [
    "### execution_result"
   ]
  },
  {
   "cell_type": "code",
   "execution_count": null,
   "metadata": {
    "dotnet_interactive": {
     "language": "spiral"
    },
    "polyglot_notebook": {
     "kernelName": "spiral"
    }
   },
   "outputs": [],
   "source": [
    "nominal execution_result t =\n",
    "    `(\n",
    "        global \"#if FABLE_COMPILER\\n[<Fable.Core.Erase; Fable.Core.Emit(\\\"near_workspaces::result::ExecutionResult<$0>\\\")>]\\n#endif\\ntype near_workspaces_result_ExecutionResult<'T> = class end\"\n",
    "        $'' : $'near_workspaces_result_ExecutionResult<`t>'\n",
    "    )"
   ]
  },
  {
   "cell_type": "markdown",
   "metadata": {},
   "source": [
    "### execution_success"
   ]
  },
  {
   "cell_type": "code",
   "execution_count": null,
   "metadata": {
    "dotnet_interactive": {
     "language": "spiral"
    },
    "polyglot_notebook": {
     "kernelName": "spiral"
    }
   },
   "outputs": [],
   "source": [
    "nominal execution_success =\n",
    "    `(\n",
    "        global \"#if FABLE_COMPILER\\n[<Fable.Core.Erase; Fable.Core.Emit(\\\"near_workspaces::result::ExecutionSuccess\\\")>]\\n#endif\\ntype near_workspaces_result_ExecutionSuccess = class end\"\n",
    "        $'' : $'near_workspaces_result_ExecutionSuccess'\n",
    "    )"
   ]
  },
  {
   "cell_type": "markdown",
   "metadata": {},
   "source": [
    "### execution_failure"
   ]
  },
  {
   "cell_type": "code",
   "execution_count": null,
   "metadata": {
    "dotnet_interactive": {
     "language": "spiral"
    },
    "polyglot_notebook": {
     "kernelName": "spiral"
    }
   },
   "outputs": [],
   "source": [
    "nominal execution_failure =\n",
    "    `(\n",
    "        global \"#if FABLE_COMPILER\\n[<Fable.Core.Erase; Fable.Core.Emit(\\\"near_workspaces::result::ExecutionFailure\\\")>]\\n#endif\\ntype near_workspaces_result_ExecutionFailure = class end\"\n",
    "        $'' : $'near_workspaces_result_ExecutionFailure'\n",
    "    )"
   ]
  },
  {
   "cell_type": "markdown",
   "metadata": {},
   "source": [
    "### execution_outcome"
   ]
  },
  {
   "cell_type": "code",
   "execution_count": null,
   "metadata": {
    "dotnet_interactive": {
     "language": "spiral"
    },
    "polyglot_notebook": {
     "kernelName": "spiral"
    }
   },
   "outputs": [],
   "source": [
    "nominal execution_outcome =\n",
    "    `(\n",
    "        global \"#if FABLE_COMPILER\\n[<Fable.Core.Erase; Fable.Core.Emit(\\\"near_workspaces::result::ExecutionOutcome\\\")>]\\n#endif\\ntype near_workspaces_result_ExecutionOutcome = class end\"\n",
    "        $'' : $'near_workspaces_result_ExecutionOutcome'\n",
    "    )"
   ]
  },
  {
   "cell_type": "markdown",
   "metadata": {},
   "source": [
    "### sandbox_worker"
   ]
  },
  {
   "cell_type": "code",
   "execution_count": null,
   "metadata": {
    "dotnet_interactive": {
     "language": "spiral"
    },
    "polyglot_notebook": {
     "kernelName": "spiral"
    }
   },
   "outputs": [],
   "source": [
    "inl sandbox_worker () : resultm.result' (worker sandbox) near_workspaces_error =\n",
    "    !\\($'\"near_workspaces::sandbox().await\"')"
   ]
  },
  {
   "cell_type": "markdown",
   "metadata": {},
   "source": [
    "### dev_deploy"
   ]
  },
  {
   "cell_type": "code",
   "execution_count": null,
   "metadata": {
    "dotnet_interactive": {
     "language": "spiral"
    },
    "polyglot_notebook": {
     "kernelName": "spiral"
    }
   },
   "outputs": [],
   "source": [
    "inl dev_deploy\n",
    "    (wasm : am'.vec u8)\n",
    "    (worker : worker sandbox)\n",
    "    : async.future_pin (resultm.result' contract near_workspaces_error)\n",
    "    =\n",
    "    inl worker = worker |> rust.emit\n",
    "    !\\\\(wasm, $'\"Box::pin(!worker.dev_deploy(&$0))\"')"
   ]
  },
  {
   "cell_type": "markdown",
   "metadata": {},
   "source": [
    "### call"
   ]
  },
  {
   "cell_type": "code",
   "execution_count": null,
   "metadata": {
    "dotnet_interactive": {
     "language": "spiral"
    },
    "polyglot_notebook": {
     "kernelName": "spiral"
    }
   },
   "outputs": [],
   "source": [
    "inl call (fn_name : string) (contract : contract) : call_transaction =\n",
    "    !\\\\((contract, fn_name), $'\"$0.call(&*$1)\"')"
   ]
  },
  {
   "cell_type": "markdown",
   "metadata": {},
   "source": [
    "### logs"
   ]
  },
  {
   "cell_type": "code",
   "execution_count": null,
   "metadata": {
    "dotnet_interactive": {
     "language": "spiral"
    },
    "polyglot_notebook": {
     "kernelName": "spiral"
    }
   },
   "outputs": [],
   "source": [
    "inl logs (result : execution_final_result) : am'.vec (rust.ref sm'.str) =\n",
    "    !\\($'\"!result.logs()\"')"
   ]
  },
  {
   "cell_type": "markdown",
   "metadata": {},
   "source": [
    "### into_result"
   ]
  },
  {
   "cell_type": "code",
   "execution_count": null,
   "metadata": {
    "dotnet_interactive": {
     "language": "spiral"
    },
    "polyglot_notebook": {
     "kernelName": "spiral"
    }
   },
   "outputs": [],
   "source": [
    "inl into_result\n",
    "    (result : execution_final_result)\n",
    "    : resultm.result' execution_success execution_failure\n",
    "    =\n",
    "    !\\\\(result, $'\"$0.into_result()\"')"
   ]
  },
  {
   "cell_type": "markdown",
   "metadata": {},
   "source": [
    "### receipt_failures"
   ]
  },
  {
   "cell_type": "code",
   "execution_count": null,
   "metadata": {
    "dotnet_interactive": {
     "language": "spiral"
    },
    "polyglot_notebook": {
     "kernelName": "spiral"
    }
   },
   "outputs": [],
   "source": [
    "inl receipt_failures (result : execution_final_result) : am'.vec (rust.ref execution_outcome) =\n",
    "    inl result = join result\n",
    "    !\\($'\"!result.receipt_failures()\"')"
   ]
  },
  {
   "cell_type": "markdown",
   "metadata": {},
   "source": [
    "### receipt_outcomes"
   ]
  },
  {
   "cell_type": "code",
   "execution_count": null,
   "metadata": {
    "dotnet_interactive": {
     "language": "spiral"
    },
    "polyglot_notebook": {
     "kernelName": "spiral"
    }
   },
   "outputs": [],
   "source": [
    "inl receipt_outcomes (result : execution_final_result) : am'.vec execution_outcome =\n",
    "    inl result = join result\n",
    "    inl result : rust.ref (am'.slice execution_outcome) = !\\($'\"!result.receipt_outcomes()\"')\n",
    "    result |> rust.into"
   ]
  },
  {
   "cell_type": "markdown",
   "metadata": {},
   "source": [
    "### json"
   ]
  },
  {
   "cell_type": "code",
   "execution_count": null,
   "metadata": {
    "dotnet_interactive": {
     "language": "spiral"
    },
    "polyglot_notebook": {
     "kernelName": "spiral"
    }
   },
   "outputs": [],
   "source": [
    "inl json (result : execution_final_result) : resultm.result' sm'.std_string near_workspaces_error =\n",
    "    !\\\\(result, $'\"$0.json()\"')"
   ]
  },
  {
   "cell_type": "markdown",
   "metadata": {},
   "source": [
    "### borsh"
   ]
  },
  {
   "cell_type": "code",
   "execution_count": null,
   "metadata": {
    "dotnet_interactive": {
     "language": "spiral"
    },
    "polyglot_notebook": {
     "kernelName": "spiral"
    }
   },
   "outputs": [],
   "source": [
    "inl borsh (result : execution_final_result) : resultm.result' sm'.std_string near_workspaces_error =\n",
    "    !\\\\(result, $'\"$0.borsh()\"')"
   ]
  },
  {
   "cell_type": "markdown",
   "metadata": {},
   "source": [
    "### total_gas_burnt"
   ]
  },
  {
   "cell_type": "code",
   "execution_count": null,
   "metadata": {
    "dotnet_interactive": {
     "language": "spiral"
    },
    "polyglot_notebook": {
     "kernelName": "spiral"
    }
   },
   "outputs": [],
   "source": [
    "inl total_gas_burnt (result : execution_final_result) : gas =\n",
    "    !\\\\(result, $'\"$0.total_gas_burnt\"')"
   ]
  },
  {
   "cell_type": "markdown",
   "metadata": {},
   "source": [
    "### as_gas"
   ]
  },
  {
   "cell_type": "code",
   "execution_count": null,
   "metadata": {
    "dotnet_interactive": {
     "language": "spiral"
    },
    "polyglot_notebook": {
     "kernelName": "spiral"
    }
   },
   "outputs": [],
   "source": [
    "inl as_gas (gas : gas) : u64 =\n",
    "    !\\\\(gas, $'\"$0.as_gas()\"')"
   ]
  },
  {
   "cell_type": "markdown",
   "metadata": {},
   "source": [
    "### outcomes"
   ]
  },
  {
   "cell_type": "code",
   "execution_count": null,
   "metadata": {
    "dotnet_interactive": {
     "language": "spiral"
    },
    "polyglot_notebook": {
     "kernelName": "spiral"
    }
   },
   "outputs": [],
   "source": [
    "inl outcomes (result : execution_final_result) : am'.vec (rust.ref execution_outcome) =\n",
    "    inl result = result |> rust.emit\n",
    "    !\\($'\"!result.outcomes()\"')"
   ]
  },
  {
   "cell_type": "markdown",
   "metadata": {},
   "source": [
    "### is_success"
   ]
  },
  {
   "cell_type": "code",
   "execution_count": null,
   "metadata": {
    "dotnet_interactive": {
     "language": "spiral"
    },
    "polyglot_notebook": {
     "kernelName": "spiral"
    }
   },
   "outputs": [],
   "source": [
    "inl is_success (outcome : execution_outcome) : bool =\n",
    "    !\\\\(outcome, $'\"$0.is_success()\"')"
   ]
  },
  {
   "cell_type": "markdown",
   "metadata": {},
   "source": [
    "### gas_burnt"
   ]
  },
  {
   "cell_type": "code",
   "execution_count": null,
   "metadata": {
    "dotnet_interactive": {
     "language": "spiral"
    },
    "polyglot_notebook": {
     "kernelName": "spiral"
    }
   },
   "outputs": [],
   "source": [
    "inl gas_burnt (outcome : execution_outcome) : gas =\n",
    "    !\\\\(outcome, $'\"$0.gas_burnt\"')"
   ]
  },
  {
   "cell_type": "markdown",
   "metadata": {},
   "source": [
    "### tokens_burnt"
   ]
  },
  {
   "cell_type": "code",
   "execution_count": null,
   "metadata": {
    "dotnet_interactive": {
     "language": "spiral"
    },
    "polyglot_notebook": {
     "kernelName": "spiral"
    }
   },
   "outputs": [],
   "source": [
    "inl tokens_burnt (outcome : execution_outcome) : near_token_workspaces =\n",
    "    !\\\\(outcome, $'\"$0.tokens_burnt\"')"
   ]
  },
  {
   "cell_type": "markdown",
   "metadata": {},
   "source": [
    "### transact"
   ]
  },
  {
   "cell_type": "code",
   "execution_count": null,
   "metadata": {
    "dotnet_interactive": {
     "language": "spiral"
    },
    "polyglot_notebook": {
     "kernelName": "spiral"
    }
   },
   "outputs": [],
   "source": [
    "inl transact\n",
    "    (call : call_transaction)\n",
    "    : async.future_pin (resultm.result' execution_final_result near_workspaces_error)\n",
    "    =\n",
    "    !\\($'\"Box::pin(!call.transact())\"')"
   ]
  },
  {
   "cell_type": "markdown",
   "metadata": {},
   "source": [
    "### gas"
   ]
  },
  {
   "cell_type": "code",
   "execution_count": null,
   "metadata": {
    "dotnet_interactive": {
     "language": "spiral"
    },
    "polyglot_notebook": {
     "kernelName": "spiral"
    }
   },
   "outputs": [],
   "source": [
    "inl gas\n",
    "    (gas : gas)\n",
    "    (call : call_transaction)\n",
    "    : call_transaction\n",
    "    =\n",
    "    !\\($'\"!call.gas(!gas)\"')"
   ]
  },
  {
   "cell_type": "markdown",
   "metadata": {},
   "source": [
    "### from_tgas"
   ]
  },
  {
   "cell_type": "code",
   "execution_count": null,
   "metadata": {
    "dotnet_interactive": {
     "language": "spiral"
    },
    "polyglot_notebook": {
     "kernelName": "spiral"
    }
   },
   "outputs": [],
   "source": [
    "inl from_tgas\n",
    "    (tgas : i32)\n",
    "    : gas\n",
    "    =\n",
    "    !\\($'\"near_workspaces::types::Gas::from_tgas(!tgas)\"')"
   ]
  },
  {
   "cell_type": "markdown",
   "metadata": {},
   "source": [
    "### print_usd"
   ]
  },
  {
   "cell_type": "code",
   "execution_count": null,
   "metadata": {
    "dotnet_interactive": {
     "language": "spiral"
    },
    "polyglot_notebook": {
     "kernelName": "spiral"
    }
   },
   "outputs": [],
   "source": [
    "inl print_usd retry (result : execution_final_result) =\n",
    "    inl total_gas_burnt = result |> total_gas_burnt |> as_gas\n",
    "    inl total_gas_burnt_usd = total_gas_burnt |> near.gas_to_usd\n",
    "\n",
    "    trace Info\n",
    "        fun () => \"near_workspaces.print_usd\"\n",
    "        fun () => { retry total_gas_burnt_usd total_gas_burnt }\n",
    "\n",
    "    result\n",
    "    |> outcomes\n",
    "    |> iter.into_iter\n",
    "    |> iter.cloned\n",
    "    |> iter.for_each fun outcome =>\n",
    "        inl is_success = outcome |> is_success\n",
    "\n",
    "        inl gas_burnt = outcome |> gas_burnt |> as_gas\n",
    "        inl gas_burnt_usd = gas_burnt |> near.gas_to_usd\n",
    "\n",
    "        inl tokens_burnt = outcome |> tokens_burnt |> near.as_yoctonear\n",
    "        inl tokens_burnt_usd = tokens_burnt |> near.tokens_to_usd\n",
    "\n",
    "        trace Info\n",
    "            fun () => \"near_workspaces.print_usd / outcome\"\n",
    "            fun () => { is_success gas_burnt_usd tokens_burnt_usd gas_burnt tokens_burnt }"
   ]
  }
 ],
 "metadata": {},
 "nbformat": 4,
 "nbformat_minor": 5
}