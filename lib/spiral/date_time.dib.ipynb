{
 "cells": [
  {
   "cell_type": "markdown",
   "metadata": {},
   "source": [
    "# date_time"
   ]
  },
  {
   "cell_type": "code",
   "execution_count": null,
   "metadata": {
    "dotnet_interactive": {
     "language": "spiral"
    },
    "polyglot_notebook": {
     "kernelName": "spiral"
    }
   },
   "outputs": [],
   "source": [
    "open rust.rust_operators\n",
    "open sm'_operators"
   ]
  },
  {
   "cell_type": "code",
   "execution_count": null,
   "metadata": {
    "dotnet_interactive": {
     "language": "spiral"
    },
    "polyglot_notebook": {
     "kernelName": "spiral"
    }
   },
   "outputs": [],
   "source": [
    "//// test\n",
    "\n",
    "open testing"
   ]
  },
  {
   "cell_type": "markdown",
   "metadata": {},
   "source": [
    "## date_time"
   ]
  },
  {
   "cell_type": "markdown",
   "metadata": {},
   "source": [
    "### timestamp"
   ]
  },
  {
   "cell_type": "code",
   "execution_count": null,
   "metadata": {
    "dotnet_interactive": {
     "language": "spiral"
    },
    "polyglot_notebook": {
     "kernelName": "spiral"
    }
   },
   "outputs": [],
   "source": [
    "nominal timestamp_python =\n",
    "    `(\n",
    "        backend_switch `(()) `({}) {\n",
    "            Python = (fun () => global \"import datetime\") : () -> ()\n",
    "        }\n",
    "        $'' : i64\n",
    "    )\n",
    "type timestamp_switch =\n",
    "    {\n",
    "        Fsharp : i64\n",
    "        Python : timestamp_python\n",
    "    }\n",
    "nominal timestamp = $'backend_switch `(timestamp_switch)'"
   ]
  },
  {
   "cell_type": "markdown",
   "metadata": {},
   "source": [
    "### timestamp_guid"
   ]
  },
  {
   "cell_type": "code",
   "execution_count": null,
   "metadata": {
    "dotnet_interactive": {
     "language": "spiral"
    },
    "polyglot_notebook": {
     "kernelName": "spiral"
    }
   },
   "outputs": [],
   "source": [
    "type timestamp_guid = guid.guid"
   ]
  },
  {
   "cell_type": "markdown",
   "metadata": {},
   "source": [
    "### date_time_guid"
   ]
  },
  {
   "cell_type": "code",
   "execution_count": null,
   "metadata": {
    "dotnet_interactive": {
     "language": "spiral"
    },
    "polyglot_notebook": {
     "kernelName": "spiral"
    }
   },
   "outputs": [],
   "source": [
    "type date_time_guid = guid.guid"
   ]
  },
  {
   "cell_type": "markdown",
   "metadata": {},
   "source": [
    "### test_guid"
   ]
  },
  {
   "cell_type": "code",
   "execution_count": null,
   "metadata": {
    "dotnet_interactive": {
     "language": "spiral"
    },
    "polyglot_notebook": {
     "kernelName": "spiral"
    }
   },
   "outputs": [],
   "source": [
    "//// test\n",
    "\n",
    "inl test_guid () =\n",
    "    \"6543210F-EDCB-A987-6543-210FEDCBA987\" |> guid.new_guid"
   ]
  },
  {
   "cell_type": "markdown",
   "metadata": {},
   "source": [
    "## fsharp"
   ]
  },
  {
   "cell_type": "markdown",
   "metadata": {},
   "source": [
    "### date_time"
   ]
  },
  {
   "cell_type": "code",
   "execution_count": null,
   "metadata": {
    "dotnet_interactive": {
     "language": "spiral"
    },
    "polyglot_notebook": {
     "kernelName": "spiral"
    }
   },
   "outputs": [],
   "source": [
    "nominal date_time_python =\n",
    "    `(\n",
    "        backend_switch `(()) `({}) {\n",
    "            Python = (fun () => global \"import datetime\") : () -> ()\n",
    "        }\n",
    "        $'' : $'datetime.datetime'\n",
    "    )\n",
    "type date_time_switch =\n",
    "    {\n",
    "        Fsharp : $'System.DateTime'\n",
    "        Python : date_time_python\n",
    "    }\n",
    "nominal date_time = $'backend_switch `(date_time_switch)'"
   ]
  },
  {
   "cell_type": "markdown",
   "metadata": {},
   "source": [
    "### year"
   ]
  },
  {
   "cell_type": "code",
   "execution_count": null,
   "metadata": {
    "dotnet_interactive": {
     "language": "spiral"
    },
    "polyglot_notebook": {
     "kernelName": "spiral"
    }
   },
   "outputs": [],
   "source": [
    "inl year (date_time : date_time) : i32 =\n",
    "    backend_switch {\n",
    "        Fsharp = fun () => date_time |> $'_.Year' : i32\n",
    "        Python = fun () => $'!date_time.year' : i32\n",
    "    }"
   ]
  },
  {
   "cell_type": "markdown",
   "metadata": {},
   "source": [
    "### format"
   ]
  },
  {
   "cell_type": "code",
   "execution_count": null,
   "metadata": {
    "dotnet_interactive": {
     "language": "spiral"
    },
    "polyglot_notebook": {
     "kernelName": "spiral"
    }
   },
   "outputs": [],
   "source": [
    "inl format (format : string) (date_time : date_time) : string =\n",
    "    backend_switch {\n",
    "        Fsharp = fun () =>\n",
    "            inl format =\n",
    "                if format = \"\"\n",
    "                then \"M-d-y hh:mm:ss tt\"\n",
    "                else format\n",
    "            $'!date_time.ToString' format : string\n",
    "        Python = fun () =>\n",
    "            inl date_time = join date_time\n",
    "            if format <> \"\"\n",
    "            then $'!date_time.strftime(!format)' : string\n",
    "            elif year date_time < 1000\n",
    "            then $'\\'{dt.month}-{dt.day}-{dt.year} {dt:%I}:{dt:%M}:{dt:%S} {dt:%p}\\'.format(dt=!date_time)' : string\n",
    "            else $'\\'{dt.month}-{dt.day}-{dt:%y} {dt:%I}:{dt:%M}:{dt:%S} {dt:%p}\\'.format(dt=!date_time)' : string\n",
    "    }"
   ]
  },
  {
   "cell_type": "markdown",
   "metadata": {},
   "source": [
    "### format_iso8601"
   ]
  },
  {
   "cell_type": "code",
   "execution_count": null,
   "metadata": {
    "dotnet_interactive": {
     "language": "spiral"
    },
    "polyglot_notebook": {
     "kernelName": "spiral"
    }
   },
   "outputs": [],
   "source": [
    "inl format_iso8601 (date_time : date_time) : string =\n",
    "    backend_switch {\n",
    "        Fsharp = fun () => date_time |> format \"yyyy-MM-ddTHH-mm-ss.fff\" : string\n",
    "        Python = fun () => date_time |> format \"%Y-%m-%dT%H-%M-%S.%f\" : string\n",
    "    }"
   ]
  },
  {
   "cell_type": "markdown",
   "metadata": {},
   "source": [
    "### min_value"
   ]
  },
  {
   "cell_type": "code",
   "execution_count": null,
   "metadata": {
    "dotnet_interactive": {
     "language": "spiral"
    },
    "polyglot_notebook": {
     "kernelName": "spiral"
    }
   },
   "outputs": [],
   "source": [
    "inl min_value () : date_time =\n",
    "    backend_switch {\n",
    "        Fsharp = fun () => $'System.DateTime.MinValue' : date_time\n",
    "        Python = fun () => $'datetime.datetime.min' : date_time\n",
    "    }"
   ]
  },
  {
   "cell_type": "code",
   "execution_count": null,
   "metadata": {
    "dotnet_interactive": {
     "language": "spiral"
    },
    "polyglot_notebook": {
     "kernelName": "spiral"
    }
   },
   "outputs": [
    {
     "data": {
      "text/plain": [
       ".py output (Cuda):\n",
       "__assert_eq / actual: 1-1-1 12:00:00 AM / expected: 1-1-1 12:00:00 AM\n",
       "\n"
      ]
     },
     "metadata": {},
     "output_type": "display_data"
    },
    {
     "name": "stdout",
     "output_type": "stream",
     "text": [
      ".fsx output:\n",
      "__assert_eq / actual: \"1-1-1 12:00:00 AM\" / expected: \"1-1-1 12:00:00 AM\"\n"
     ]
    }
   ],
   "source": [
    "//// test\n",
    "///! fsharp\n",
    "///! cuda\n",
    "\n",
    "min_value ()\n",
    "|> format \"\"\n",
    "|> _assert_eq \"1-1-1 12:00:00 AM\""
   ]
  },
  {
   "cell_type": "markdown",
   "metadata": {},
   "source": [
    "### max_value"
   ]
  },
  {
   "cell_type": "code",
   "execution_count": null,
   "metadata": {
    "dotnet_interactive": {
     "language": "spiral"
    },
    "polyglot_notebook": {
     "kernelName": "spiral"
    }
   },
   "outputs": [],
   "source": [
    "inl max_value () : date_time =\n",
    "    backend_switch {\n",
    "        Fsharp = fun () => $'System.DateTime.MaxValue' : date_time\n",
    "        Python = fun () => $'datetime.datetime.max' : date_time\n",
    "    }"
   ]
  },
  {
   "cell_type": "code",
   "execution_count": null,
   "metadata": {
    "dotnet_interactive": {
     "language": "spiral"
    },
    "polyglot_notebook": {
     "kernelName": "spiral"
    }
   },
   "outputs": [
    {
     "data": {
      "text/plain": [
       ".py output (Cuda):\n",
       "__assert_eq / actual: 12-31-99 11:59:59 PM / expected: 12-31-99 11:59:59 PM\n",
       "\n"
      ]
     },
     "metadata": {},
     "output_type": "display_data"
    },
    {
     "name": "stdout",
     "output_type": "stream",
     "text": [
      ".fsx output:\n",
      "__assert_eq / actual: \"12-31-99 11:59:59 PM\" / expected: \"12-31-99 11:59:59 PM\"\n"
     ]
    }
   ],
   "source": [
    "//// test\n",
    "///! fsharp\n",
    "///! cuda\n",
    "\n",
    "max_value ()\n",
    "|> format \"\"\n",
    "|> _assert_eq \"12-31-99 11:59:59 PM\""
   ]
  },
  {
   "cell_type": "markdown",
   "metadata": {},
   "source": [
    "### unix_epoch"
   ]
  },
  {
   "cell_type": "code",
   "execution_count": null,
   "metadata": {
    "dotnet_interactive": {
     "language": "spiral"
    },
    "polyglot_notebook": {
     "kernelName": "spiral"
    }
   },
   "outputs": [],
   "source": [
    "inl unix_epoch () : date_time =\n",
    "    backend_switch {\n",
    "        Fsharp = fun () => $'System.DateTime.UnixEpoch' : date_time\n",
    "        Python = fun () => $'datetime.datetime(1970, 1, 1)' : date_time\n",
    "    }"
   ]
  },
  {
   "cell_type": "code",
   "execution_count": null,
   "metadata": {
    "dotnet_interactive": {
     "language": "spiral"
    },
    "polyglot_notebook": {
     "kernelName": "spiral"
    }
   },
   "outputs": [
    {
     "data": {
      "text/plain": [
       ".py output (Cuda):\n",
       "__assert_eq / actual: 1-1-70 12:00:00 AM / expected: 1-1-70 12:00:00 AM\n",
       "\n"
      ]
     },
     "metadata": {},
     "output_type": "display_data"
    },
    {
     "name": "stdout",
     "output_type": "stream",
     "text": [
      ".fsx output:\n",
      "__assert_eq / actual: \"1-1-70 12:00:00 AM\" / expected: \"1-1-70 12:00:00 AM\"\n"
     ]
    }
   ],
   "source": [
    "//// test\n",
    "///! fsharp\n",
    "///! cuda\n",
    "\n",
    "unix_epoch ()\n",
    "|> format \"\"\n",
    "|> _assert_eq \"1-1-70 12:00:00 AM\""
   ]
  },
  {
   "cell_type": "markdown",
   "metadata": {},
   "source": [
    "### date_time_milliseconds"
   ]
  },
  {
   "cell_type": "code",
   "execution_count": null,
   "metadata": {
    "dotnet_interactive": {
     "language": "spiral"
    },
    "polyglot_notebook": {
     "kernelName": "spiral"
    }
   },
   "outputs": [],
   "source": [
    "inl date_time_milliseconds\n",
    "    (year : int) (month : int) (day : int) (hour : int) (minute : int) (second : int) (millisecond : int)\n",
    "    : date_time\n",
    "    =\n",
    "    backend_switch {\n",
    "        Fsharp = fun () =>\n",
    "            $'System.DateTime (!year, !month, !day, !hour, !minute, !second, !millisecond)' : date_time\n",
    "        Python = fun () =>\n",
    "            $'datetime.datetime(!year, !month, !day, !hour, !minute, !second, !millisecond)' : date_time\n",
    "    }"
   ]
  },
  {
   "cell_type": "code",
   "execution_count": null,
   "metadata": {
    "dotnet_interactive": {
     "language": "spiral"
    },
    "polyglot_notebook": {
     "kernelName": "spiral"
    }
   },
   "outputs": [
    {
     "data": {
      "text/plain": [
       ".py output (Cuda):\n",
       "__assert_eq / actual: 1-1-70 12:00:00 AM / expected: 1-1-70 12:00:00 AM\n",
       "\n"
      ]
     },
     "metadata": {},
     "output_type": "display_data"
    },
    {
     "name": "stdout",
     "output_type": "stream",
     "text": [
      ".fsx output:\n",
      "__assert_eq / actual: \"1-1-70 12:00:00 AM\" / expected: \"1-1-70 12:00:00 AM\"\n"
     ]
    }
   ],
   "source": [
    "//// test\n",
    "///! fsharp\n",
    "///! cuda\n",
    "\n",
    "date_time_milliseconds 1970 1 1 0 0 0 0\n",
    "|> format \"\"\n",
    "|> _assert_eq \"1-1-70 12:00:00 AM\""
   ]
  },
  {
   "cell_type": "markdown",
   "metadata": {},
   "source": [
    "### date_time_utc"
   ]
  },
  {
   "cell_type": "code",
   "execution_count": null,
   "metadata": {
    "dotnet_interactive": {
     "language": "spiral"
    },
    "polyglot_notebook": {
     "kernelName": "spiral"
    }
   },
   "outputs": [],
   "source": [
    "inl date_time_utc\n",
    "    (year : int) (month : int) (day : int) (hour : int) (minute : int) (second : int)\n",
    "    : date_time\n",
    "    =\n",
    "    backend_switch {\n",
    "        Fsharp = fun () =>\n",
    "            $'System.DateTime (!year, !month, !day, !hour, !minute, !second, System.DateTimeKind.Utc)' : date_time\n",
    "        Python = fun () =>\n",
    "            $'datetime.datetime(!year, !month, !day, !hour, !minute, !second, tzinfo=datetime.timezone.utc)' : date_time\n",
    "    }"
   ]
  },
  {
   "cell_type": "code",
   "execution_count": null,
   "metadata": {
    "dotnet_interactive": {
     "language": "spiral"
    },
    "polyglot_notebook": {
     "kernelName": "spiral"
    }
   },
   "outputs": [
    {
     "data": {
      "text/plain": [
       ".py output (Cuda):\n",
       "__assert_eq / actual: 1-1-70 12:00:00 AM / expected: 1-1-70 12:00:00 AM\n",
       "\n"
      ]
     },
     "metadata": {},
     "output_type": "display_data"
    },
    {
     "name": "stdout",
     "output_type": "stream",
     "text": [
      ".fsx output:\n",
      "__assert_eq / actual: \"1-1-70 12:00:00 AM\" / expected: \"1-1-70 12:00:00 AM\"\n"
     ]
    }
   ],
   "source": [
    "//// test\n",
    "///! fsharp\n",
    "///! cuda\n",
    "\n",
    "date_time_utc 1970 1 1 0 0 0\n",
    "|> format \"\"\n",
    "|> _assert_eq \"1-1-70 12:00:00 AM\""
   ]
  },
  {
   "cell_type": "markdown",
   "metadata": {},
   "source": [
    "### date_time_kind"
   ]
  },
  {
   "cell_type": "code",
   "execution_count": null,
   "metadata": {
    "dotnet_interactive": {
     "language": "spiral"
    },
    "polyglot_notebook": {
     "kernelName": "spiral"
    }
   },
   "outputs": [],
   "source": [
    "union date_time_kind =\n",
    "    | Unspecified\n",
    "    | Utc\n",
    "    | Local"
   ]
  },
  {
   "cell_type": "markdown",
   "metadata": {},
   "source": [
    "### specify_date_kind"
   ]
  },
  {
   "cell_type": "code",
   "execution_count": null,
   "metadata": {
    "dotnet_interactive": {
     "language": "spiral"
    },
    "polyglot_notebook": {
     "kernelName": "spiral"
    }
   },
   "outputs": [],
   "source": [
    "inl specify_date_kind (kind : date_time_kind) (date_time : date_time) : date_time =\n",
    "    backend_switch {\n",
    "        Fsharp = fun () =>\n",
    "            inl kind : $'System.DateTimeKind' =\n",
    "                match kind with\n",
    "                | Unspecified => $'System.DateTimeKind.Unspecified'\n",
    "                | Utc => $'System.DateTimeKind.Utc'\n",
    "                | Local => $'System.DateTimeKind.Local'\n",
    "            $'System.DateTime.SpecifyKind (!date_time, !kind)' : date_time\n",
    "        Python = fun () => $'!date_time.replace(tzinfo=None)' : date_time\n",
    "    }"
   ]
  },
  {
   "cell_type": "markdown",
   "metadata": {},
   "source": [
    "### to_universal_time"
   ]
  },
  {
   "cell_type": "code",
   "execution_count": null,
   "metadata": {
    "dotnet_interactive": {
     "language": "spiral"
    },
    "polyglot_notebook": {
     "kernelName": "spiral"
    }
   },
   "outputs": [],
   "source": [
    "inl to_universal_time (date_time : date_time) : date_time =\n",
    "    backend_switch {\n",
    "        Fsharp = fun () => date_time |> $'_.ToUniversalTime()' : date_time\n",
    "        Python = fun () => $'!date_time.replace(tzinfo=datetime.timezone.utc)' : date_time\n",
    "    }"
   ]
  },
  {
   "cell_type": "code",
   "execution_count": null,
   "metadata": {
    "dotnet_interactive": {
     "language": "spiral"
    },
    "polyglot_notebook": {
     "kernelName": "spiral"
    }
   },
   "outputs": [
    {
     "data": {
      "text/plain": [
       ".py output (Cuda):\n",
       "__assert_eq / actual: 1-1-70 12:00:00 AM / expected: 1-1-70 12:00:00 AM\n",
       "\n"
      ]
     },
     "metadata": {},
     "output_type": "display_data"
    },
    {
     "name": "stdout",
     "output_type": "stream",
     "text": [
      ".fsx output:\n",
      "__assert_eq / actual: \"1-1-70 12:00:00 AM\" / expected: \"1-1-70 12:00:00 AM\"\n"
     ]
    }
   ],
   "source": [
    "//// test\n",
    "///! fsharp\n",
    "///! cuda\n",
    "\n",
    "date_time_milliseconds 1970 1 1 0 0 0 0\n",
    "|> specify_date_kind Utc\n",
    "|> to_universal_time\n",
    "|> format \"\"\n",
    "|> _assert_eq \"1-1-70 12:00:00 AM\""
   ]
  },
  {
   "cell_type": "code",
   "execution_count": null,
   "metadata": {
    "dotnet_interactive": {
     "language": "spiral"
    },
    "polyglot_notebook": {
     "kernelName": "spiral"
    }
   },
   "outputs": [
    {
     "data": {
      "text/plain": [
       ".py output (Cuda):\n",
       "__assert_eq / actual: 1-1-70 12:00:00 AM / expected: 1-1-70 12:00:00 AM\n",
       "\n"
      ]
     },
     "metadata": {},
     "output_type": "display_data"
    },
    {
     "name": "stdout",
     "output_type": "stream",
     "text": [
      ".fsx output:\n",
      "__assert_eq / actual: \"1-1-70 12:00:00 AM\" / expected: \"1-1-70 12:00:00 AM\"\n"
     ]
    }
   ],
   "source": [
    "//// test\n",
    "///! fsharp\n",
    "///! cuda\n",
    "\n",
    "date_time_utc 1970 1 1 0 0 0\n",
    "|> specify_date_kind Utc\n",
    "|> format \"\"\n",
    "|> _assert_eq \"1-1-70 12:00:00 AM\""
   ]
  },
  {
   "cell_type": "code",
   "execution_count": null,
   "metadata": {
    "dotnet_interactive": {
     "language": "spiral"
    },
    "polyglot_notebook": {
     "kernelName": "spiral"
    }
   },
   "outputs": [
    {
     "data": {
      "text/plain": [
       ".py output (Cuda):\n",
       "__assert_eq / actual: 1-1-70 12:00:00 AM / expected: 1-1-70 12:00:00 AM\n",
       "\n"
      ]
     },
     "metadata": {},
     "output_type": "display_data"
    },
    {
     "name": "stdout",
     "output_type": "stream",
     "text": [
      ".fsx output:\n",
      "__assert_eq / actual: \"1-1-70 12:00:00 AM\" / expected: \"1-1-70 12:00:00 AM\"\n"
     ]
    }
   ],
   "source": [
    "//// test\n",
    "///! fsharp\n",
    "///! cuda\n",
    "\n",
    "date_time_utc 1970 1 1 0 0 0\n",
    "|> specify_date_kind Local\n",
    "|> format \"\"\n",
    "|> _assert_eq \"1-1-70 12:00:00 AM\""
   ]
  },
  {
   "cell_type": "code",
   "execution_count": null,
   "metadata": {
    "dotnet_interactive": {
     "language": "spiral"
    },
    "polyglot_notebook": {
     "kernelName": "spiral"
    }
   },
   "outputs": [
    {
     "data": {
      "text/plain": [
       ".py output (Cuda):\n",
       "__assert_eq / actual: 1-1-70 12:00:00 AM / expected: 1-1-70 12:00:00 AM\n",
       "\n"
      ]
     },
     "metadata": {},
     "output_type": "display_data"
    },
    {
     "name": "stdout",
     "output_type": "stream",
     "text": [
      ".fsx output:\n",
      "__assert_eq / actual: \"1-1-70 12:00:00 AM\" / expected: \"1-1-70 12:00:00 AM\"\n"
     ]
    }
   ],
   "source": [
    "//// test\n",
    "///! fsharp\n",
    "///! cuda\n",
    "\n",
    "date_time_utc 1970 1 1 0 0 0\n",
    "|> specify_date_kind Unspecified\n",
    "|> format \"\"\n",
    "|> _assert_eq \"1-1-70 12:00:00 AM\""
   ]
  },
  {
   "cell_type": "markdown",
   "metadata": {},
   "source": [
    "### time_span"
   ]
  },
  {
   "cell_type": "code",
   "execution_count": null,
   "metadata": {
    "dotnet_interactive": {
     "language": "spiral"
    },
    "polyglot_notebook": {
     "kernelName": "spiral"
    }
   },
   "outputs": [],
   "source": [
    "nominal time_span_python =\n",
    "    `(\n",
    "        backend_switch `(()) `({}) {\n",
    "            Python = (fun () => global \"import datetime\") : () -> ()\n",
    "        }\n",
    "        $'' : $'datetime.timedelta'\n",
    "    )\n",
    "type time_span_switch =\n",
    "    {\n",
    "        Fsharp : $'System.TimeSpan'\n",
    "        Python : time_span_python\n",
    "    }\n",
    "nominal time_span = $'backend_switch `(time_span_switch)'\n",
    "\n",
    "inl time_span x : time_span =\n",
    "    backend_switch {\n",
    "        Fsharp = fun () => x |> convert : time_span\n",
    "        Python = fun () => $'datetime.timedelta(!x)' : time_span\n",
    "    }"
   ]
  },
  {
   "cell_type": "markdown",
   "metadata": {},
   "source": [
    "### new_time_span"
   ]
  },
  {
   "cell_type": "code",
   "execution_count": null,
   "metadata": {
    "dotnet_interactive": {
     "language": "spiral"
    },
    "polyglot_notebook": {
     "kernelName": "spiral"
    }
   },
   "outputs": [],
   "source": [
    "inl new_time_span (a : date_time) (b : date_time) : time_span =\n",
    "    $'!b - !a '"
   ]
  },
  {
   "cell_type": "markdown",
   "metadata": {},
   "source": [
    "### total_seconds"
   ]
  },
  {
   "cell_type": "code",
   "execution_count": null,
   "metadata": {
    "dotnet_interactive": {
     "language": "spiral"
    },
    "polyglot_notebook": {
     "kernelName": "spiral"
    }
   },
   "outputs": [],
   "source": [
    "inl total_seconds (time_span : time_span) : f64 =\n",
    "    backend_switch {\n",
    "        Fsharp = fun () => time_span |> $'_.TotalSeconds' : f64\n",
    "        Python = fun () => $'!time_span.total_seconds()' : f64\n",
    "    }"
   ]
  },
  {
   "cell_type": "markdown",
   "metadata": {},
   "source": [
    "### ticks"
   ]
  },
  {
   "cell_type": "code",
   "execution_count": null,
   "metadata": {
    "dotnet_interactive": {
     "language": "spiral"
    },
    "polyglot_notebook": {
     "kernelName": "spiral"
    }
   },
   "outputs": [],
   "source": [
    "inl ticks (date_time : date_time) : timestamp =\n",
    "    backend_switch {\n",
    "        Fsharp = fun () =>\n",
    "            run_target function\n",
    "                | Rust (Contract) => fun () => null ()\n",
    "                | _ => fun () => date_time |> $'_.Ticks'\n",
    "            : timestamp\n",
    "        Python = fun () =>\n",
    "            date_time |> new_time_span (min_value ()) |> total_seconds |> ((*) 10000000) |> convert : timestamp\n",
    "    }"
   ]
  },
  {
   "cell_type": "code",
   "execution_count": null,
   "metadata": {
    "dotnet_interactive": {
     "language": "spiral"
    },
    "polyglot_notebook": {
     "kernelName": "spiral"
    }
   },
   "outputs": [
    {
     "data": {
      "text/plain": [
       ".py output (Cuda):\n",
       "__assert_eq' / actual: 621355968000000000 / expected: 621355968000000000\n",
       "\n",
       ".rs output:\n",
       "__assert_eq' / actual: 621355968000000000 / expected: 621355968000000000\n",
       "\n"
      ]
     },
     "metadata": {},
     "output_type": "display_data"
    },
    {
     "name": "stdout",
     "output_type": "stream",
     "text": [
      ".fsx output:\n",
      "__assert_eq' / actual: 621355968000000000L / expected: 621355968000000000L\n"
     ]
    }
   ],
   "source": [
    "//// test\n",
    "///! fsharp\n",
    "///! cuda\n",
    "///! rust\n",
    "\n",
    "unix_epoch ()\n",
    "|> ticks\n",
    "|> _assert_eq' (621355968000000000i64 |> convert)"
   ]
  },
  {
   "cell_type": "markdown",
   "metadata": {},
   "source": [
    "### time_span_format"
   ]
  },
  {
   "cell_type": "code",
   "execution_count": null,
   "metadata": {
    "dotnet_interactive": {
     "language": "spiral"
    },
    "polyglot_notebook": {
     "kernelName": "spiral"
    }
   },
   "outputs": [],
   "source": [
    "inl time_span_format (format : string) (time_span : time_span) : string =\n",
    "    run_target function\n",
    "        | TypeScript _\n",
    "        | Python _ => fun () =>\n",
    "            $'!time_span.ToString (\"c\", System.Globalization.CultureInfo.InvariantCulture)'\n",
    "        | _ => fun () =>\n",
    "            backend_switch {\n",
    "                Fsharp = fun () => $'!time_span.ToString !format ' : string\n",
    "                Python = fun () => $'!time_span ' : string\n",
    "            }"
   ]
  },
  {
   "cell_type": "markdown",
   "metadata": {},
   "source": [
    "### hours"
   ]
  },
  {
   "cell_type": "code",
   "execution_count": null,
   "metadata": {
    "dotnet_interactive": {
     "language": "spiral"
    },
    "polyglot_notebook": {
     "kernelName": "spiral"
    }
   },
   "outputs": [],
   "source": [
    "inl hours (time_span : time_span) : i32 =\n",
    "    backend_switch {\n",
    "        Fsharp = fun () => time_span |> $'_.Hours' : i32\n",
    "        Python = fun () => $'!time_span.seconds // 3600' : i32\n",
    "    }"
   ]
  },
  {
   "cell_type": "code",
   "execution_count": null,
   "metadata": {
    "dotnet_interactive": {
     "language": "spiral"
    },
    "polyglot_notebook": {
     "kernelName": "spiral"
    }
   },
   "outputs": [
    {
     "data": {
      "text/plain": [
       ".py output (Cuda):\n",
       "__assert_eq / actual: 10 / expected: 10\n",
       "\n",
       ".rs output:\n",
       "__assert_eq / actual: 10 / expected: 10\n",
       "\n",
       ".ts output:\n",
       "__assert_eq / actual: 10 / expected: 10\n",
       "\n",
       ".py output:\n",
       "__assert_eq / actual: 10 / expected: 10\n",
       "\n"
      ]
     },
     "metadata": {},
     "output_type": "display_data"
    },
    {
     "name": "stdout",
     "output_type": "stream",
     "text": [
      ".fsx output:\n",
      "__assert_eq / actual: 10 / expected: 10\n"
     ]
    }
   ],
   "source": [
    "//// test\n",
    "///! fsharp\n",
    "///! cuda\n",
    "///! rust\n",
    "///! typescript\n",
    "///! python\n",
    "\n",
    "(join date_time_milliseconds 2002 2 2 20 22 24 26)\n",
    "|> new_time_span (date_time_milliseconds 2001 1 1 10 11 12 13)\n",
    "|> hours\n",
    "|> _assert_eq 10"
   ]
  },
  {
   "cell_type": "markdown",
   "metadata": {},
   "source": [
    "### minutes"
   ]
  },
  {
   "cell_type": "code",
   "execution_count": null,
   "metadata": {
    "dotnet_interactive": {
     "language": "spiral"
    },
    "polyglot_notebook": {
     "kernelName": "spiral"
    }
   },
   "outputs": [],
   "source": [
    "inl minutes (time_span : time_span) : i32 =\n",
    "    backend_switch {\n",
    "        Fsharp = fun () => time_span |> $'_.Minutes' : i32\n",
    "        Python = fun () => $'(!time_span.seconds // 60) % 60' : i32\n",
    "    }"
   ]
  },
  {
   "cell_type": "code",
   "execution_count": null,
   "metadata": {
    "dotnet_interactive": {
     "language": "spiral"
    },
    "polyglot_notebook": {
     "kernelName": "spiral"
    }
   },
   "outputs": [
    {
     "data": {
      "text/plain": [
       ".py output (Cuda):\n",
       "__assert_eq / actual: 11 / expected: 11\n",
       "\n",
       ".rs output:\n",
       "__assert_eq / actual: 11 / expected: 11\n",
       "\n",
       ".ts output:\n",
       "__assert_eq / actual: 11 / expected: 11\n",
       "\n",
       ".py output:\n",
       "__assert_eq / actual: 11 / expected: 11\n",
       "\n"
      ]
     },
     "metadata": {},
     "output_type": "display_data"
    },
    {
     "name": "stdout",
     "output_type": "stream",
     "text": [
      ".fsx output:\n",
      "__assert_eq / actual: 11 / expected: 11\n"
     ]
    }
   ],
   "source": [
    "//// test\n",
    "///! fsharp\n",
    "///! cuda\n",
    "///! rust\n",
    "///! typescript\n",
    "///! python\n",
    "\n",
    "(join date_time_milliseconds 2002 2 2 20 22 24 26)\n",
    "|> new_time_span (date_time_milliseconds 2001 1 1 10 11 12 13)\n",
    "|> minutes\n",
    "|> _assert_eq 11"
   ]
  },
  {
   "cell_type": "markdown",
   "metadata": {},
   "source": [
    "### seconds"
   ]
  },
  {
   "cell_type": "code",
   "execution_count": null,
   "metadata": {
    "dotnet_interactive": {
     "language": "spiral"
    },
    "polyglot_notebook": {
     "kernelName": "spiral"
    }
   },
   "outputs": [],
   "source": [
    "inl seconds (time_span : time_span) : i32 =\n",
    "    backend_switch {\n",
    "        Fsharp = fun () => time_span |> $'_.Seconds' : i32\n",
    "        Python = fun () => $'!time_span.seconds % 60' : i32\n",
    "    }"
   ]
  },
  {
   "cell_type": "code",
   "execution_count": null,
   "metadata": {
    "dotnet_interactive": {
     "language": "spiral"
    },
    "polyglot_notebook": {
     "kernelName": "spiral"
    }
   },
   "outputs": [
    {
     "data": {
      "text/plain": [
       ".py output (Cuda):\n",
       "__assert_eq / actual: 12 / expected: 12\n",
       "\n",
       ".rs output:\n",
       "__assert_eq / actual: 12 / expected: 12\n",
       "\n",
       ".ts output:\n",
       "__assert_eq / actual: 12 / expected: 12\n",
       "\n",
       ".py output:\n",
       "__assert_eq / actual: 12 / expected: 12\n",
       "\n"
      ]
     },
     "metadata": {},
     "output_type": "display_data"
    },
    {
     "name": "stdout",
     "output_type": "stream",
     "text": [
      ".fsx output:\n",
      "__assert_eq / actual: 12 / expected: 12\n"
     ]
    }
   ],
   "source": [
    "//// test\n",
    "///! fsharp\n",
    "///! cuda\n",
    "///! rust\n",
    "///! typescript\n",
    "///! python\n",
    "\n",
    "(join date_time_milliseconds 2002 2 2 20 22 24 26)\n",
    "|> new_time_span (date_time_milliseconds 2001 1 1 10 11 12 13)\n",
    "|> seconds\n",
    "|> _assert_eq 12"
   ]
  },
  {
   "cell_type": "markdown",
   "metadata": {},
   "source": [
    "### milliseconds"
   ]
  },
  {
   "cell_type": "code",
   "execution_count": null,
   "metadata": {
    "dotnet_interactive": {
     "language": "spiral"
    },
    "polyglot_notebook": {
     "kernelName": "spiral"
    }
   },
   "outputs": [],
   "source": [
    "inl milliseconds (time_span : time_span) : i32 =\n",
    "    backend_switch {\n",
    "        Fsharp = fun () => time_span |> $'_.Milliseconds' : i32\n",
    "        Python = fun () => $'!time_span.microseconds' : i32\n",
    "    }"
   ]
  },
  {
   "cell_type": "code",
   "execution_count": null,
   "metadata": {
    "dotnet_interactive": {
     "language": "spiral"
    },
    "polyglot_notebook": {
     "kernelName": "spiral"
    }
   },
   "outputs": [
    {
     "data": {
      "text/plain": [
       ".py output (Cuda):\n",
       "__assert_eq / actual: 13 / expected: 13\n",
       "\n",
       ".rs output:\n",
       "__assert_eq / actual: 13 / expected: 13\n",
       "\n",
       ".ts output:\n",
       "__assert_eq / actual: 13 / expected: 13\n",
       "\n",
       ".py output:\n",
       "__assert_eq / actual: 13 / expected: 13\n",
       "\n"
      ]
     },
     "metadata": {},
     "output_type": "display_data"
    },
    {
     "name": "stdout",
     "output_type": "stream",
     "text": [
      ".fsx output:\n",
      "__assert_eq / actual: 13 / expected: 13\n"
     ]
    }
   ],
   "source": [
    "//// test\n",
    "///! fsharp\n",
    "///! cuda\n",
    "///! rust\n",
    "///! typescript\n",
    "///! python\n",
    "\n",
    "(join date_time_milliseconds 2002 2 2 20 22 24 26)\n",
    "|> new_time_span (date_time_milliseconds 2001 1 1 10 11 12 13)\n",
    "|> milliseconds\n",
    "|> _assert_eq 13"
   ]
  },
  {
   "cell_type": "markdown",
   "metadata": {},
   "source": [
    "### time_zone_info"
   ]
  },
  {
   "cell_type": "code",
   "execution_count": null,
   "metadata": {
    "dotnet_interactive": {
     "language": "spiral"
    },
    "polyglot_notebook": {
     "kernelName": "spiral"
    }
   },
   "outputs": [],
   "source": [
    "nominal time_zone_info = $'System.TimeZoneInfo'"
   ]
  },
  {
   "cell_type": "markdown",
   "metadata": {},
   "source": [
    "### add_days"
   ]
  },
  {
   "cell_type": "code",
   "execution_count": null,
   "metadata": {
    "dotnet_interactive": {
     "language": "spiral"
    },
    "polyglot_notebook": {
     "kernelName": "spiral"
    }
   },
   "outputs": [],
   "source": [
    "inl add_days (days : i32) (date_time : date_time) : date_time =\n",
    "    $'!date_time.AddDays' days"
   ]
  },
  {
   "cell_type": "markdown",
   "metadata": {},
   "source": [
    "### now"
   ]
  },
  {
   "cell_type": "code",
   "execution_count": null,
   "metadata": {
    "dotnet_interactive": {
     "language": "spiral"
    },
    "polyglot_notebook": {
     "kernelName": "spiral"
    }
   },
   "outputs": [],
   "source": [
    "inl now () : date_time =\n",
    "    backend_switch {\n",
    "        Fsharp = fun () =>\n",
    "            run_target function\n",
    "                | Rust (Contract) => fun () => null ()\n",
    "                | _ => fun () => $'System.DateTime.Now'\n",
    "            : date_time\n",
    "        Python = fun () => $'datetime.datetime.now()' : date_time\n",
    "    }"
   ]
  },
  {
   "cell_type": "markdown",
   "metadata": {},
   "source": [
    "### utc_now"
   ]
  },
  {
   "cell_type": "code",
   "execution_count": null,
   "metadata": {
    "dotnet_interactive": {
     "language": "spiral"
    },
    "polyglot_notebook": {
     "kernelName": "spiral"
    }
   },
   "outputs": [],
   "source": [
    "inl utc_now () : date_time =\n",
    "    backend_switch {\n",
    "        Fsharp = fun () => $'System.DateTime.UtcNow' : date_time\n",
    "        Python = fun () => $'datetime.datetime.utcnow()' : date_time\n",
    "    }"
   ]
  },
  {
   "cell_type": "markdown",
   "metadata": {},
   "source": [
    "### stopwatch"
   ]
  },
  {
   "cell_type": "code",
   "execution_count": null,
   "metadata": {
    "dotnet_interactive": {
     "language": "spiral"
    },
    "polyglot_notebook": {
     "kernelName": "spiral"
    }
   },
   "outputs": [],
   "source": [
    "nominal stopwatch_python =\n",
    "    `(\n",
    "        global \"import timeit\"\n",
    "        $'' : $'timeit.default_timer'\n",
    "    )\n",
    "type stopwatch_switch =\n",
    "    {\n",
    "        Fsharp : $'System.Diagnostics.Stopwatch'\n",
    "        Python : stopwatch_python\n",
    "    }\n",
    "nominal stopwatch = $'backend_switch `(stopwatch_switch)'\n",
    "\n",
    "inl stopwatch () : stopwatch =\n",
    "    backend_switch {\n",
    "        Fsharp = fun () => () |> convert : stopwatch\n",
    "        Python = fun () => $'`stopwatch ' : stopwatch\n",
    "    }"
   ]
  },
  {
   "cell_type": "code",
   "execution_count": null,
   "metadata": {
    "dotnet_interactive": {
     "language": "spiral"
    },
    "polyglot_notebook": {
     "kernelName": "spiral"
    }
   },
   "outputs": [],
   "source": [
    "inl stopwatch_elapsed_milliseconds (stopwatch : stopwatch) : i64 =\n",
    "    $'!stopwatch.ElapsedMilliseconds'"
   ]
  },
  {
   "cell_type": "code",
   "execution_count": null,
   "metadata": {
    "dotnet_interactive": {
     "language": "spiral"
    },
    "polyglot_notebook": {
     "kernelName": "spiral"
    }
   },
   "outputs": [],
   "source": [
    "inl stopwatch_start (stopwatch : stopwatch) : () =\n",
    "    $'!stopwatch.Start' ()"
   ]
  },
  {
   "cell_type": "markdown",
   "metadata": {},
   "source": [
    "## rust"
   ]
  },
  {
   "cell_type": "markdown",
   "metadata": {},
   "source": [
    "### duration"
   ]
  },
  {
   "cell_type": "code",
   "execution_count": null,
   "metadata": {
    "dotnet_interactive": {
     "language": "spiral"
    },
    "polyglot_notebook": {
     "kernelName": "spiral"
    }
   },
   "outputs": [],
   "source": [
    "nominal duration =\n",
    "    `(\n",
    "        global \"#if FABLE_COMPILER\\n[<Fable.Core.Erase; Fable.Core.Emit(\\\"std::time::Duration\\\")>]\\n#endif\\ntype std_time_Duration = class end\"\n",
    "        $'' : $'std_time_Duration'\n",
    "    )"
   ]
  },
  {
   "cell_type": "markdown",
   "metadata": {},
   "source": [
    "### date_time'"
   ]
  },
  {
   "cell_type": "code",
   "execution_count": null,
   "metadata": {
    "dotnet_interactive": {
     "language": "spiral"
    },
    "polyglot_notebook": {
     "kernelName": "spiral"
    }
   },
   "outputs": [],
   "source": [
    "nominal date_time' t =\n",
    "    `(\n",
    "        backend_switch `(()) `({}) {\n",
    "            Fsharp = (fun () => global \"#if FABLE_COMPILER\\n[<Fable.Core.Erase; Fable.Core.Emit(\\\"chrono::DateTime<$0>\\\")>]\\n#endif\\ntype chrono_DateTime<'T> = class end\") : () -> ()\n",
    "        }\n",
    "        $'' : $'chrono_DateTime<`t>'\n",
    "    )"
   ]
  },
  {
   "cell_type": "markdown",
   "metadata": {},
   "source": [
    "### local"
   ]
  },
  {
   "cell_type": "code",
   "execution_count": null,
   "metadata": {
    "dotnet_interactive": {
     "language": "spiral"
    },
    "polyglot_notebook": {
     "kernelName": "spiral"
    }
   },
   "outputs": [],
   "source": [
    "nominal local =\n",
    "    `(\n",
    "        global \"#if FABLE_COMPILER\\n[<Fable.Core.Erase; Fable.Core.Emit(\\\"chrono::Local\\\")>]\\n#endif\\ntype chrono_Local = class end\"\n",
    "        $'' : $'chrono_Local'\n",
    "    )"
   ]
  },
  {
   "cell_type": "markdown",
   "metadata": {},
   "source": [
    "### naive_date_time"
   ]
  },
  {
   "cell_type": "code",
   "execution_count": null,
   "metadata": {
    "dotnet_interactive": {
     "language": "spiral"
    },
    "polyglot_notebook": {
     "kernelName": "spiral"
    }
   },
   "outputs": [],
   "source": [
    "nominal naive_date_time =\n",
    "    `(\n",
    "        backend_switch `(()) `({}) {\n",
    "            Fsharp = (fun () => global \"#if FABLE_COMPILER\\n[<Fable.Core.Erase; Fable.Core.Emit(\\\"chrono::NaiveDateTime\\\")>]\\n#endif\\ntype chrono_NaiveDateTime = class end\") : () -> ()\n",
    "        }\n",
    "        $'' : $'chrono_NaiveDateTime'\n",
    "    )"
   ]
  },
  {
   "cell_type": "markdown",
   "metadata": {},
   "source": [
    "## utc"
   ]
  },
  {
   "cell_type": "code",
   "execution_count": null,
   "metadata": {
    "dotnet_interactive": {
     "language": "spiral"
    },
    "polyglot_notebook": {
     "kernelName": "spiral"
    }
   },
   "outputs": [],
   "source": [
    "nominal utc =\n",
    "    `(\n",
    "        global \"#if FABLE_COMPILER\\n[<Fable.Core.Erase; Fable.Core.Emit(\\\"chrono::Utc\\\")>]\\n#endif\\ntype chrono_Utc = class end\"\n",
    "        $'' : $'chrono_Utc'\n",
    "    )"
   ]
  },
  {
   "cell_type": "markdown",
   "metadata": {},
   "source": [
    "### naive_utc"
   ]
  },
  {
   "cell_type": "code",
   "execution_count": null,
   "metadata": {
    "dotnet_interactive": {
     "language": "spiral"
    },
    "polyglot_notebook": {
     "kernelName": "spiral"
    }
   },
   "outputs": [],
   "source": [
    "inl naive_utc (date_time : date_time' utc) : naive_date_time =\n",
    "    !\\\\(date_time, $'\"$0.naive_utc()\"')"
   ]
  },
  {
   "cell_type": "markdown",
   "metadata": {},
   "source": [
    "### to_local"
   ]
  },
  {
   "cell_type": "code",
   "execution_count": null,
   "metadata": {
    "dotnet_interactive": {
     "language": "spiral"
    },
    "polyglot_notebook": {
     "kernelName": "spiral"
    }
   },
   "outputs": [],
   "source": [
    "inl to_local (date_time : date_time' utc) : date_time' local =\n",
    "    inl naive_date_time = date_time |> naive_utc\n",
    "    !\\\\(naive_date_time, $'\"chrono::offset::TimeZone::from_utc_datetime(&chrono::Local, &$0)\"')"
   ]
  },
  {
   "cell_type": "markdown",
   "metadata": {},
   "source": [
    "### from_timestamp_micros"
   ]
  },
  {
   "cell_type": "code",
   "execution_count": null,
   "metadata": {
    "dotnet_interactive": {
     "language": "spiral"
    },
    "polyglot_notebook": {
     "kernelName": "spiral"
    }
   },
   "outputs": [],
   "source": [
    "inl from_timestamp_micros forall t {number; int}. (timestamp : t) : option (date_time' utc) =\n",
    "    inl result : optionm'.option' (date_time' utc) =\n",
    "        !\\\\(timestamp, $'\"chrono::DateTime::from_timestamp_micros($0)\"')\n",
    "    result |> optionm'.unbox"
   ]
  },
  {
   "cell_type": "markdown",
   "metadata": {},
   "source": [
    "### format'"
   ]
  },
  {
   "cell_type": "code",
   "execution_count": null,
   "metadata": {
    "dotnet_interactive": {
     "language": "spiral"
    },
    "polyglot_notebook": {
     "kernelName": "spiral"
    }
   },
   "outputs": [],
   "source": [
    "inl format' (format : string) (date_time : date_time' utc) : sm'.std_string =\n",
    "    !\\\\((date_time, #format), $'\"$0.format($1).to_string()\"')"
   ]
  },
  {
   "cell_type": "markdown",
   "metadata": {},
   "source": [
    "### format''"
   ]
  },
  {
   "cell_type": "code",
   "execution_count": null,
   "metadata": {
    "dotnet_interactive": {
     "language": "spiral"
    },
    "polyglot_notebook": {
     "kernelName": "spiral"
    }
   },
   "outputs": [],
   "source": [
    "inl format'' (format : string) (date_time : date_time' _) : sm'.std_string =\n",
    "    !\\\\((date_time, #format), $'\"$0.format($1).to_string()\"')"
   ]
  },
  {
   "cell_type": "markdown",
   "metadata": {},
   "source": [
    "### format_timestamp"
   ]
  },
  {
   "cell_type": "code",
   "execution_count": null,
   "metadata": {
    "dotnet_interactive": {
     "language": "spiral"
    },
    "polyglot_notebook": {
     "kernelName": "spiral"
    }
   },
   "outputs": [],
   "source": [
    "inl format_timestamp forall t {number; int}. (timestamp : t) =\n",
    "    inl timestamp = join timestamp\n",
    "    (timestamp / 1000)\n",
    "    |> from_timestamp_micros\n",
    "    |> optionm.map fun x =>\n",
    "        x\n",
    "        |> to_local\n",
    "        |> format'' \"%Y-%m-%d %H:%M:%S\"\n",
    "        |> sm'.from_std_string\n",
    "    |> resultm.from_option"
   ]
  },
  {
   "cell_type": "markdown",
   "metadata": {},
   "source": [
    "### duration_from_millis"
   ]
  },
  {
   "cell_type": "code",
   "execution_count": null,
   "metadata": {
    "dotnet_interactive": {
     "language": "spiral"
    },
    "polyglot_notebook": {
     "kernelName": "spiral"
    }
   },
   "outputs": [],
   "source": [
    "inl duration_from_millis (ms : u64) : duration =\n",
    "    inl ms = join ms\n",
    "    !\\($'\"std::time::Duration::from_millis(!ms)\"')"
   ]
  },
  {
   "cell_type": "markdown",
   "metadata": {},
   "source": [
    "## date_time"
   ]
  },
  {
   "cell_type": "markdown",
   "metadata": {},
   "source": [
    "### time_zone_local"
   ]
  },
  {
   "cell_type": "code",
   "execution_count": null,
   "metadata": {
    "dotnet_interactive": {
     "language": "spiral"
    },
    "polyglot_notebook": {
     "kernelName": "spiral"
    }
   },
   "outputs": [],
   "source": [
    "inl time_zone_local () : time_zone_info =\n",
    "    run_target function\n",
    "        | Fsharp _ => fun () =>\n",
    "            $'System.TimeZoneInfo.Local'\n",
    "        | Rust (Native) => fun () =>\n",
    "            open rust.rust_operators\n",
    "            !\\($'\"std::sync::Arc::new(chrono::FixedOffset::local_minus_utc(chrono::Local::now().offset()) as i64)\"')\n",
    "        | _ => fun () => null ()"
   ]
  },
  {
   "cell_type": "markdown",
   "metadata": {},
   "source": [
    "### get_utc_offset"
   ]
  },
  {
   "cell_type": "code",
   "execution_count": null,
   "metadata": {
    "dotnet_interactive": {
     "language": "spiral"
    },
    "polyglot_notebook": {
     "kernelName": "spiral"
    }
   },
   "outputs": [],
   "source": [
    "inl get_utc_offset (time_zone_info : time_zone_info) (date_time : date_time) : time_span =\n",
    "    run_target function\n",
    "        | Fsharp _ => fun () => date_time |> $'_.GetUtcOffset' (time_zone_local ())\n",
    "        | Rust (Native | Wasm) => fun () =>\n",
    "            open rust.rust_operators\n",
    "            inl ticks = date_time |> ticks\n",
    "            // inl ticks = ticks |> rust.rust.emit\n",
    "            (!\\\\((date_time, ticks), $'\"chrono::FixedOffset::local_minus_utc(&chrono::DateTime::timezone(&chrono::DateTime::fixed_offset(&chrono::DateTime::from_timestamp_nanos($1))))\"') : i32)\n",
    "            |> convert\n",
    "        | target => fun () =>\n",
    "            backend_switch {\n",
    "                Fsharp = fun () => failwith $'$\"date_time.get_utc_offset / target: {!target}\"' : time_span\n",
    "                Python = fun () => $'!date_time.utcoffset()' : time_span\n",
    "            }"
   ]
  },
  {
   "cell_type": "markdown",
   "metadata": {},
   "source": [
    "### date_time_guid_from_date_time"
   ]
  },
  {
   "cell_type": "code",
   "execution_count": null,
   "metadata": {
    "dotnet_interactive": {
     "language": "spiral"
    },
    "polyglot_notebook": {
     "kernelName": "spiral"
    }
   },
   "outputs": [],
   "source": [
    "let date_time_guid_from_date_time (guid' : guid.guid) (date_time : date_time) =\n",
    "    inl create prefix time_zone : date_time_guid =\n",
    "        inl guid_range =\n",
    "            guid'\n",
    "            |> sm'.obj_to_string\n",
    "            |> sm'.range\n",
    "                (am'.Start ((prefix |> sm'.length |> fun x => x : i32) + (time_zone |> sm'.length)))\n",
    "                (am'.End eval)\n",
    "        ($'$\"{!prefix}{!time_zone}{!guid_range}\"' : string) |> guid.new_guid\n",
    "    run_target function\n",
    "        | Rust (Contract) => fun () => null ()\n",
    "        | Rust (Native | Wasm) => fun () =>\n",
    "            inl epoch =\n",
    "                unix_epoch ()\n",
    "                |> to_universal_time\n",
    "            inl date_time =\n",
    "                date_time\n",
    "                |> specify_date_kind Local\n",
    "                |> to_universal_time\n",
    "            inl unixticks =\n",
    "                match date_time |> ticks, epoch |> ticks with\n",
    "                | timestamp date_time, timestamp epoch => convert date_time - convert epoch : i64\n",
    "            inl prefix =\n",
    "                unixticks / 10\n",
    "                |> from_timestamp_micros\n",
    "                |> optionm.map (\n",
    "                    to_local\n",
    "                    >> format'' \"%Y%m%d-%H%M-%S%f\"\n",
    "                    >> sm'.from_std_string\n",
    "                    >> fun s => $'$\"{!s.[0..17]}-{!s.[18..21]}-{!s.[22]}\"'\n",
    "                )\n",
    "                |> optionm'.default_value \"\"\n",
    "            inl time_zone = date_time |> get_utc_offset (time_zone_local ())\n",
    "            inl time_zone_signal = if hours time_zone > 0 then 1u8 else 0\n",
    "            inl time_zone_value = time_zone |> time_span_format (join \"hh:mm\")\n",
    "            inl time_zone = $'$\"{!time_zone_signal}{!time_zone_value.[0..1]}{!time_zone_value.[3..4]}\"'\n",
    "            create prefix time_zone\n",
    "        | target => fun () =>\n",
    "            inl prefix = date_time |> format (join \"yyyyMMdd-HHmm-ssff-ffff-f\")\n",
    "            inl time_zone = date_time |> get_utc_offset (time_zone_local ())\n",
    "            inl time_zone_signal = if hours time_zone > 0 then 1u8 else 0\n",
    "            inl time_zone_value = time_zone |> time_span_format (join \"hhmm\")\n",
    "            inl time_zone = $'$\"{!time_zone_signal}{!time_zone_value}\"'\n",
    "            create prefix time_zone"
   ]
  },
  {
   "cell_type": "code",
   "execution_count": null,
   "metadata": {
    "dotnet_interactive": {
     "language": "spiral"
    },
    "polyglot_notebook": {
     "kernelName": "spiral"
    }
   },
   "outputs": [
    {
     "data": {
      "text/plain": [
       ".rs output (rust -d chrono):\n",
       "__assert_eq' / actual: \"19700101-0000-0000-0000-000000cba987\" / expected: \"19700101-0000-0000-0000-000000cba987\"\n",
       "\n"
      ]
     },
     "metadata": {},
     "output_type": "display_data"
    },
    {
     "name": "stdout",
     "output_type": "stream",
     "text": [
      ".fsx output:\n",
      "__assert_eq' / actual: \"19700101-0000-0000-0000-000000cba987\" / expected: \"19700101-0000-0000-0000-000000cba987\"\n"
     ]
    }
   ],
   "source": [
    "//// test\n",
    "///! fsharp\n",
    "////! cuda\n",
    "///! rust -d chrono\n",
    "\n",
    "inl suffix = test_guid () |> sm'.obj_to_string |> sm'.range (am'.End fun x => x () - 6i32) (am'.End eval)\n",
    "unix_epoch ()\n",
    "|> specify_date_kind Utc\n",
    "|> to_universal_time\n",
    "|> date_time_guid_from_date_time (test_guid ())\n",
    "|> sm'.obj_to_string\n",
    "|> fun s => s |> _assert_eq' $'$\"{!(s |> sm'.slice 0i32 29)}{!suffix}\"'"
   ]
  },
  {
   "cell_type": "code",
   "execution_count": null,
   "metadata": {
    "dotnet_interactive": {
     "language": "spiral"
    },
    "polyglot_notebook": {
     "kernelName": "spiral"
    }
   },
   "outputs": [
    {
     "data": {
      "text/plain": [
       ".rs output (rust -d chrono):\n",
       "__assert_eq' / actual: \"00010101-0000-0000-0000-000000cba987\" / expected: \"00010101-0000-0000-0000-000000cba987\"\n",
       "\n"
      ]
     },
     "metadata": {},
     "output_type": "display_data"
    },
    {
     "name": "stdout",
     "output_type": "stream",
     "text": [
      ".fsx output:\n",
      "__assert_eq' / actual: \"00010101-0000-0000-0000-000000cba987\" / expected: \"00010101-0000-0000-0000-000000cba987\"\n"
     ]
    }
   ],
   "source": [
    "//// test\n",
    "///! fsharp\n",
    "///! rust -d chrono\n",
    "\n",
    "inl suffix = test_guid () |> sm'.obj_to_string |> sm'.range (am'.End fun x => x () - 6i32) (am'.End eval)\n",
    "min_value ()\n",
    "|> specify_date_kind Local\n",
    "|> date_time_guid_from_date_time (test_guid ())\n",
    "|> sm'.obj_to_string\n",
    "|> fun s => s |> _assert_eq' $'$\"00010101-0000-0000-0000-0{!(s |> sm'.slice 25i32 29)}{!suffix}\"'"
   ]
  },
  {
   "cell_type": "code",
   "execution_count": null,
   "metadata": {
    "dotnet_interactive": {
     "language": "spiral"
    },
    "polyglot_notebook": {
     "kernelName": "spiral"
    }
   },
   "outputs": [
    {
     "name": "stdout",
     "output_type": "stream",
     "text": [
      "__assert_eq / actual: \"99991230-2359-5999-9999-900000cba987\" / expected: \"99991230-2359-5999-9999-900000cba987\"\n"
     ]
    }
   ],
   "source": [
    "//// test\n",
    "///! fsharp\n",
    "\n",
    "inl suffix = test_guid () |> sm'.obj_to_string |> sm'.range (am'.End fun x => x () - 6i32) (am'.End eval)\n",
    "max_value ()\n",
    "|> specify_date_kind Utc\n",
    "|> add_days -1\n",
    "|> date_time_guid_from_date_time (test_guid ())\n",
    "|> sm'.obj_to_string\n",
    "|> fun s => s |> _assert_eq $'$\"99991230-2359-5999-9999-9{!(s |> sm'.slice 25i32 29)}{!suffix}\"'"
   ]
  },
  {
   "cell_type": "code",
   "execution_count": null,
   "metadata": {
    "dotnet_interactive": {
     "language": "spiral"
    },
    "polyglot_notebook": {
     "kernelName": "spiral"
    }
   },
   "outputs": [
    {
     "data": {
      "text/plain": [
       "__assert_eq / actual: \"99991230-2359-5999-9999-000000cba987\" / expected: \"99991230-2359-5999-9999-000000cba987\"\n"
      ]
     },
     "metadata": {},
     "output_type": "display_data"
    }
   ],
   "source": [
    "//// test\n",
    "///! rust -d chrono\n",
    "\n",
    "inl suffix = test_guid () |> sm'.obj_to_string |> sm'.range (am'.End fun x => x () - 6i32) (am'.End eval)\n",
    "max_value ()\n",
    "|> specify_date_kind Utc\n",
    "|> add_days -1\n",
    "|> date_time_guid_from_date_time (test_guid ())\n",
    "|> sm'.obj_to_string\n",
    "|> fun s => s |> _assert_eq $'$\"99991230-2359-5999-9999-0{!(s |> sm'.slice 25i32 29)}{!suffix}\"'"
   ]
  },
  {
   "cell_type": "code",
   "execution_count": null,
   "metadata": {
    "dotnet_interactive": {
     "language": "spiral"
    },
    "polyglot_notebook": {
     "kernelName": "spiral"
    }
   },
   "outputs": [
    {
     "data": {
      "text/plain": [
       ".rs output (rust -d chrono):\n",
       "__assert_eq / actual: \"19700102-0000-0000-0000-000000cba987\" / expected: \"19700102-0000-0000-0000-000000cba987\"\n",
       "\n"
      ]
     },
     "metadata": {},
     "output_type": "display_data"
    },
    {
     "name": "stdout",
     "output_type": "stream",
     "text": [
      ".fsx output:\n",
      "__assert_eq / actual: \"19700102-0000-0000-0000-000000cba987\" / expected: \"19700102-0000-0000-0000-000000cba987\"\n"
     ]
    }
   ],
   "source": [
    "//// test\n",
    "///! fsharp\n",
    "///! rust -d chrono\n",
    "\n",
    "inl suffix = test_guid () |> sm'.obj_to_string |> sm'.range (am'.End fun x => x () - 6i32) (am'.End eval)\n",
    "unix_epoch ()\n",
    "|> specify_date_kind Utc\n",
    "|> add_days 1\n",
    "|> date_time_guid_from_date_time (test_guid ())\n",
    "|> sm'.obj_to_string\n",
    "|> fun s => s |> _assert_eq $'$\"19700102-0000-0000-0000-0{!(s |> sm'.slice 25i32 29)}{!suffix}\"'"
   ]
  },
  {
   "cell_type": "markdown",
   "metadata": {},
   "source": [
    "### date_time_from_guid"
   ]
  },
  {
   "cell_type": "code",
   "execution_count": null,
   "metadata": {
    "dotnet_interactive": {
     "language": "spiral"
    },
    "polyglot_notebook": {
     "kernelName": "spiral"
    }
   },
   "outputs": [],
   "source": [
    "inl date_time_from_guid (date_time_guid : date_time_guid) =\n",
    "    inl date_time_guid = date_time_guid |> sm'.obj_to_string\n",
    "    inl sm_replace = sm'.replace \"-\" \"\"\n",
    "    run_target_args (fun () => sm_replace) function\n",
    "        | (Rust _ | TypeScript _) => fun sm_replace =>\n",
    "            $'System.DateTime.Parse (!date_time_guid.[..24] |> !sm_replace)' : date_time\n",
    "        | _ => fun sm_replace => $'System.DateTime.ParseExact (!date_time_guid.[..24] |> !sm_replace, \"yyyyMMddHHmmssfffffff\", null)' : date_time"
   ]
  },
  {
   "cell_type": "code",
   "execution_count": null,
   "metadata": {
    "dotnet_interactive": {
     "language": "spiral"
    },
    "polyglot_notebook": {
     "kernelName": "spiral"
    }
   },
   "outputs": [
    {
     "name": "stdout",
     "output_type": "stream",
     "text": [
      "__assert_eq' / actual: 01/01/0001 00:00:00 / expected: 01/01/0001 00:00:00\n"
     ]
    }
   ],
   "source": [
    "//// test\n",
    "\n",
    "date_time_from_guid (guid.new_guid \"00010101-0000-0000-0000-0a9876543210\")\n",
    "|> _assert_eq' (min_value ())"
   ]
  },
  {
   "cell_type": "code",
   "execution_count": null,
   "metadata": {
    "dotnet_interactive": {
     "language": "spiral"
    },
    "polyglot_notebook": {
     "kernelName": "spiral"
    }
   },
   "outputs": [
    {
     "name": "stdout",
     "output_type": "stream",
     "text": [
      "__assert_eq' / actual: 12/31/9999 23:59:59 / expected: 12/31/9999 23:59:59\n"
     ]
    }
   ],
   "source": [
    "//// test\n",
    "\n",
    "date_time_from_guid (guid.new_guid $'$\"99991231-2359-5999-9999-9{(!test_guid () |> string).[^10..]}\"')\n",
    "|> _assert_eq' (max_value ())"
   ]
  },
  {
   "cell_type": "code",
   "execution_count": null,
   "metadata": {
    "dotnet_interactive": {
     "language": "spiral"
    },
    "polyglot_notebook": {
     "kernelName": "spiral"
    }
   },
   "outputs": [
    {
     "name": "stdout",
     "output_type": "stream",
     "text": [
      "__assert_eq' / actual: 01/01/1970 00:00:00 / expected: 01/01/1970 00:00:00\n"
     ]
    }
   ],
   "source": [
    "//// test\n",
    "\n",
    "date_time_from_guid (guid.new_guid $'$\"19700101-0000-0000-0000-0{(!test_guid () |> string).[^10..]}\"')\n",
    "|> _assert_eq' $'System.DateTime.UnixEpoch'"
   ]
  },
  {
   "cell_type": "markdown",
   "metadata": {},
   "source": [
    "### timestamp_guid_from_timestamp"
   ]
  },
  {
   "cell_type": "code",
   "execution_count": null,
   "metadata": {
    "dotnet_interactive": {
     "language": "spiral"
    },
    "polyglot_notebook": {
     "kernelName": "spiral"
    }
   },
   "outputs": [],
   "source": [
    "inl timestamp_guid_from_timestamp (guid : guid.guid) (timestamp : timestamp) : timestamp_guid =\n",
    "    inl guid = guid |> sm'.obj_to_string\n",
    "    inl timestamp = timestamp |> sm'.obj_to_string |> sm'.pad_left 18i32 '0'\n",
    "    $'`timestamp_guid $\"{!timestamp.[0..7]}-{!timestamp.[8..11]}-{!timestamp.[12..15]}-{!timestamp.[16..17]}{!guid.[21..]}\"'"
   ]
  },
  {
   "cell_type": "code",
   "execution_count": null,
   "metadata": {
    "dotnet_interactive": {
     "language": "spiral"
    },
    "polyglot_notebook": {
     "kernelName": "spiral"
    }
   },
   "outputs": [
    {
     "name": "stdout",
     "output_type": "stream",
     "text": [
      "__assert_eq' / actual: 00000000-0000-0000-0043-210fedcba987 / expected: 00000000-0000-0000-0043-210fedcba987\n"
     ]
    }
   ],
   "source": [
    "//// test\n",
    "\n",
    "timestamp_guid_from_timestamp (test_guid ()) (0i64 |> convert |> timestamp)\n",
    "|> _assert_eq' (guid.new_guid \"00000000-0000-0000-0043-210fedcba987\")"
   ]
  },
  {
   "cell_type": "code",
   "execution_count": null,
   "metadata": {
    "dotnet_interactive": {
     "language": "spiral"
    },
    "polyglot_notebook": {
     "kernelName": "spiral"
    }
   },
   "outputs": [
    {
     "name": "stdout",
     "output_type": "stream",
     "text": [
      "__assert_eq' / actual: 99999999-9999-9999-9943-210fedcba987 / expected: 99999999-9999-9999-9943-210fedcba987\n"
     ]
    }
   ],
   "source": [
    "//// test\n",
    "\n",
    "timestamp_guid_from_timestamp (test_guid ()) (999999999999999999i64 |> convert |> timestamp)\n",
    "|> _assert_eq' (guid.new_guid $'$\"99999999-9999-9999-9943-2{(!test_guid () |> string).[^10..]}\"')"
   ]
  },
  {
   "cell_type": "markdown",
   "metadata": {},
   "source": [
    "### timestamp_from_guid"
   ]
  },
  {
   "cell_type": "code",
   "execution_count": null,
   "metadata": {
    "dotnet_interactive": {
     "language": "spiral"
    },
    "polyglot_notebook": {
     "kernelName": "spiral"
    }
   },
   "outputs": [],
   "source": [
    "inl timestamp_from_guid (guid : date_time_guid) : timestamp =\n",
    "    inl guid = guid |> sm'.obj_to_string\n",
    "    $'`i64 $\"{!guid.[0..7]}{!guid.[9..12]}{!guid.[14..17]}{!guid.[19..20]}\"'"
   ]
  },
  {
   "cell_type": "code",
   "execution_count": null,
   "metadata": {
    "dotnet_interactive": {
     "language": "spiral"
    },
    "polyglot_notebook": {
     "kernelName": "spiral"
    }
   },
   "outputs": [
    {
     "name": "stdout",
     "output_type": "stream",
     "text": [
      "__assert_eq' / actual: 0L / expected: 0L\n"
     ]
    }
   ],
   "source": [
    "//// test\n",
    "\n",
    "timestamp_from_guid (guid.new_guid \"00000000-0000-0000-00dc-ba9876543210\")\n",
    "|> _assert_eq' (0i64 |> convert |> timestamp)"
   ]
  },
  {
   "cell_type": "code",
   "execution_count": null,
   "metadata": {
    "dotnet_interactive": {
     "language": "spiral"
    },
    "polyglot_notebook": {
     "kernelName": "spiral"
    }
   },
   "outputs": [
    {
     "name": "stdout",
     "output_type": "stream",
     "text": [
      "__assert_eq' / actual: 999999999999999999L / expected: 999999999999999999L\n"
     ]
    }
   ],
   "source": [
    "//// test\n",
    "\n",
    "timestamp_from_guid (guid.new_guid $'$\"99999999-9999-9999-99{(!test_guid () |> string).[^14..]}\"')\n",
    "|> _assert_eq' (999999999999999999i64 |> convert |> timestamp)"
   ]
  },
  {
   "cell_type": "markdown",
   "metadata": {},
   "source": [
    "### new_guid_from_date_time"
   ]
  },
  {
   "cell_type": "code",
   "execution_count": null,
   "metadata": {
    "dotnet_interactive": {
     "language": "spiral"
    },
    "polyglot_notebook": {
     "kernelName": "spiral"
    }
   },
   "outputs": [],
   "source": [
    "inl new_guid_from_date_time (date_time : date_time) =\n",
    "    inl guid = guid.new_raw_guid ()\n",
    "    date_time_guid_from_date_time guid date_time"
   ]
  },
  {
   "cell_type": "code",
   "execution_count": null,
   "metadata": {
    "dotnet_interactive": {
     "language": "spiral"
    },
    "polyglot_notebook": {
     "kernelName": "spiral"
    }
   },
   "outputs": [
    {
     "name": "stdout",
     "output_type": "stream",
     "text": [
      "__assert_eq / actual: 0 / expected: 0\n"
     ]
    }
   ],
   "source": [
    "//// test\n",
    "\n",
    "utc_now ()\n",
    "|> new_guid_from_date_time\n",
    "|> date_time_from_guid\n",
    "|> fun date_time => new_time_span date_time (utc_now ()) |> total_seconds |> i32\n",
    "|> _assert_eq 0"
   ]
  },
  {
   "cell_type": "markdown",
   "metadata": {},
   "source": [
    "### new_guid_from_timestamp"
   ]
  },
  {
   "cell_type": "code",
   "execution_count": null,
   "metadata": {
    "dotnet_interactive": {
     "language": "spiral"
    },
    "polyglot_notebook": {
     "kernelName": "spiral"
    }
   },
   "outputs": [],
   "source": [
    "inl new_guid_from_timestamp (timestamp : timestamp) =\n",
    "    inl guid = guid.new_raw_guid ()\n",
    "    timestamp_guid_from_timestamp guid timestamp"
   ]
  },
  {
   "cell_type": "code",
   "execution_count": null,
   "metadata": {
    "dotnet_interactive": {
     "language": "spiral"
    },
    "polyglot_notebook": {
     "kernelName": "spiral"
    }
   },
   "outputs": [
    {
     "name": "stdout",
     "output_type": "stream",
     "text": [
      "__assert_eq / actual: 0L / expected: 0L\n"
     ]
    }
   ],
   "source": [
    "//// test\n",
    "\n",
    "utc_now ()\n",
    "|> ticks\n",
    "|> new_guid_from_timestamp\n",
    "|> timestamp_from_guid\n",
    "|> fun (timestamp t) => (convert t - (utc_now () |> ticks |> fun (timestamp x) => convert x)) / 100000i64\n",
    "|> _assert_eq 0i64"
   ]
  },
  {
   "cell_type": "markdown",
   "metadata": {},
   "source": [
    "## main"
   ]
  },
  {
   "cell_type": "code",
   "execution_count": null,
   "metadata": {
    "dotnet_interactive": {
     "language": "spiral"
    },
    "polyglot_notebook": {
     "kernelName": "spiral"
    }
   },
   "outputs": [],
   "source": [
    "inl main () =\n",
    "    $'let date_time_guid_from_date_time x = !date_time_guid_from_date_time x' : ()\n",
    "    $'let date_time_from_guid x = !date_time_from_guid x' : ()\n",
    "    $'let timestamp_guid_from_timestamp x = !timestamp_guid_from_timestamp x' : ()\n",
    "    $'let timestamp_from_guid x = !timestamp_from_guid x' : ()\n",
    "    $'let new_guid_from_date_time x = !new_guid_from_date_time x' : ()\n",
    "    $'let new_guid_from_timestamp x = !new_guid_from_timestamp x' : ()\n",
    "    $'let format x = !format x' : ()\n",
    "    $'let format_iso8601 x = !format_iso8601 x' : ()"
   ]
  }
 ],
 "metadata": {},
 "nbformat": 4,
 "nbformat_minor": 5
}