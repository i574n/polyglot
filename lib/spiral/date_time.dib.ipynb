{
 "cells": [
  {
   "cell_type": "markdown",
   "metadata": {},
   "source": [
    "# date_time"
   ]
  },
  {
   "cell_type": "code",
   "execution_count": null,
   "metadata": {
    "dotnet_interactive": {
     "language": "spiral"
    },
    "polyglot_notebook": {
     "kernelName": "spiral"
    }
   },
   "outputs": [
    {
     "name": "stdout",
     "output_type": "stream",
     "text": [
      "()\n",
      "\n"
     ]
    }
   ],
   "source": [
    "open rust_operators\n",
    "open sm'_operators"
   ]
  },
  {
   "cell_type": "code",
   "execution_count": null,
   "metadata": {
    "dotnet_interactive": {
     "language": "spiral"
    },
    "polyglot_notebook": {
     "kernelName": "spiral"
    }
   },
   "outputs": [
    {
     "name": "stdout",
     "output_type": "stream",
     "text": [
      "()\n",
      "\n"
     ]
    }
   ],
   "source": [
    "// // test\n",
    "\n",
    "open testing"
   ]
  },
  {
   "cell_type": "markdown",
   "metadata": {},
   "source": [
    "## types"
   ]
  },
  {
   "cell_type": "code",
   "execution_count": null,
   "metadata": {
    "dotnet_interactive": {
     "language": "spiral"
    },
    "polyglot_notebook": {
     "kernelName": "spiral"
    }
   },
   "outputs": [
    {
     "name": "stdout",
     "output_type": "stream",
     "text": [
      "()\n",
      "\n"
     ]
    }
   ],
   "source": [
    "inl types () =\n",
    "    global \"[<Fable.Core.Erase; Fable.Core.Emit(\\\"chrono::DateTime<$0>\\\")>] type chrono_DateTime<'T> = class end\"\n",
    "    global \"[<Fable.Core.Erase; Fable.Core.Emit(\\\"chrono::Local\\\")>] type chrono_Local = class end\"\n",
    "    global \"[<Fable.Core.Erase; Fable.Core.Emit(\\\"chrono::NaiveDateTime\\\")>] type chrono_NaiveDateTime = class end\"\n",
    "    global \"[<Fable.Core.Erase; Fable.Core.Emit(\\\"chrono::Utc\\\")>] type chrono_Utc = class end\"\n",
    "    global \"[<Fable.Core.Erase; Fable.Core.Emit(\\\"std::time::Duration\\\")>] type std_time_Duration = class end\""
   ]
  },
  {
   "cell_type": "code",
   "execution_count": null,
   "metadata": {
    "dotnet_interactive": {
     "language": "spiral"
    },
    "polyglot_notebook": {
     "kernelName": "spiral"
    }
   },
   "outputs": [
    {
     "name": "stdout",
     "output_type": "stream",
     "text": [
      "()\n",
      "\n"
     ]
    }
   ],
   "source": [
    "nominal timestamp = i64\n",
    "nominal duration = $\"std_time_Duration\"\n",
    "nominal date_time = $\"System.DateTime\"\n",
    "nominal date_time' t = $\"chrono_DateTime<`t>\"\n",
    "nominal local = $\"chrono_Local\"\n",
    "nominal naive_date_time = $\"chrono_NaiveDateTime\"\n",
    "nominal utc = $\"chrono_Utc\""
   ]
  },
  {
   "cell_type": "markdown",
   "metadata": {},
   "source": [
    "## date_time_milliseconds"
   ]
  },
  {
   "cell_type": "code",
   "execution_count": null,
   "metadata": {
    "dotnet_interactive": {
     "language": "spiral"
    },
    "polyglot_notebook": {
     "kernelName": "spiral"
    }
   },
   "outputs": [
    {
     "name": "stdout",
     "output_type": "stream",
     "text": [
      "()\n",
      "\n"
     ]
    }
   ],
   "source": [
    "inl date_time_milliseconds\n",
    "    (year : int) (month : int) (day : int) (hour : int) (minute : int) (second : int) (millisecond : int)\n",
    "    : date_time\n",
    "    =\n",
    "    $'System.DateTime (!year, !month, !day, !hour, !minute, !second, !millisecond)'"
   ]
  },
  {
   "cell_type": "markdown",
   "metadata": {},
   "source": [
    "## naive_utc"
   ]
  },
  {
   "cell_type": "code",
   "execution_count": null,
   "metadata": {
    "dotnet_interactive": {
     "language": "spiral"
    },
    "polyglot_notebook": {
     "kernelName": "spiral"
    }
   },
   "outputs": [
    {
     "name": "stdout",
     "output_type": "stream",
     "text": [
      "()\n",
      "\n"
     ]
    }
   ],
   "source": [
    "inl naive_utc (date_time : date_time' utc) : naive_date_time =\n",
    "    inl date_time = join date_time\n",
    "    !\\($'\"!date_time.naive_utc()\"')"
   ]
  },
  {
   "cell_type": "markdown",
   "metadata": {},
   "source": [
    "## to_local"
   ]
  },
  {
   "cell_type": "code",
   "execution_count": null,
   "metadata": {
    "dotnet_interactive": {
     "language": "spiral"
    },
    "polyglot_notebook": {
     "kernelName": "spiral"
    }
   },
   "outputs": [
    {
     "name": "stdout",
     "output_type": "stream",
     "text": [
      "()\n",
      "\n"
     ]
    }
   ],
   "source": [
    "inl to_local (date_time : date_time' utc) : date_time' local =\n",
    "    inl naive_date_time = date_time |> naive_utc\n",
    "    !\\($'\"chrono::offset::TimeZone::from_utc_datetime(&chrono::Local, &!naive_date_time)\"')"
   ]
  },
  {
   "cell_type": "markdown",
   "metadata": {},
   "source": [
    "## from_timestamp'"
   ]
  },
  {
   "cell_type": "code",
   "execution_count": null,
   "metadata": {
    "dotnet_interactive": {
     "language": "spiral"
    },
    "polyglot_notebook": {
     "kernelName": "spiral"
    }
   },
   "outputs": [
    {
     "name": "stdout",
     "output_type": "stream",
     "text": [
      "()\n",
      "\n"
     ]
    }
   ],
   "source": [
    "inl from_timestamp' forall t {number; int}. (timestamp : t) : option (date_time' utc) =\n",
    "    inl timestamp = join timestamp\n",
    "    inl result : optionm'.option' (date_time' utc) =\n",
    "        !\\($'\"chrono::DateTime::from_timestamp_micros(!timestamp / 1000i64)\"')\n",
    "    result |> optionm'.unbox"
   ]
  },
  {
   "cell_type": "markdown",
   "metadata": {},
   "source": [
    "## ticks"
   ]
  },
  {
   "cell_type": "code",
   "execution_count": null,
   "metadata": {
    "dotnet_interactive": {
     "language": "spiral"
    },
    "polyglot_notebook": {
     "kernelName": "spiral"
    }
   },
   "outputs": [
    {
     "name": "stdout",
     "output_type": "stream",
     "text": [
      "()\n",
      "\n"
     ]
    }
   ],
   "source": [
    "inl ticks (date_time : date_time) : timestamp =\n",
    "    date_time |> $'_.Ticks'"
   ]
  },
  {
   "cell_type": "markdown",
   "metadata": {},
   "source": [
    "## format"
   ]
  },
  {
   "cell_type": "code",
   "execution_count": null,
   "metadata": {
    "dotnet_interactive": {
     "language": "spiral"
    },
    "polyglot_notebook": {
     "kernelName": "spiral"
    }
   },
   "outputs": [
    {
     "name": "stdout",
     "output_type": "stream",
     "text": [
      "()\n",
      "\n"
     ]
    }
   ],
   "source": [
    "inl format (format : string) (date_time : date_time) : string =\n",
    "    $'!date_time.ToString' format"
   ]
  },
  {
   "cell_type": "markdown",
   "metadata": {},
   "source": [
    "## format_iso8601"
   ]
  },
  {
   "cell_type": "code",
   "execution_count": null,
   "metadata": {
    "dotnet_interactive": {
     "language": "spiral"
    },
    "polyglot_notebook": {
     "kernelName": "spiral"
    }
   },
   "outputs": [
    {
     "name": "stdout",
     "output_type": "stream",
     "text": [
      "()\n",
      "\n"
     ]
    }
   ],
   "source": [
    "inl format_iso8601 (date_time : date_time) =\n",
    "    date_time |> format \"yyyy-MM-ddTHH-mm-ss.fff\""
   ]
  },
  {
   "cell_type": "markdown",
   "metadata": {},
   "source": [
    "## format'"
   ]
  },
  {
   "cell_type": "code",
   "execution_count": null,
   "metadata": {
    "dotnet_interactive": {
     "language": "spiral"
    },
    "polyglot_notebook": {
     "kernelName": "spiral"
    }
   },
   "outputs": [
    {
     "name": "stdout",
     "output_type": "stream",
     "text": [
      "()\n",
      "\n"
     ]
    }
   ],
   "source": [
    "inl format' (format : string) (date_time : date_time' utc) : sm'.std_string =\n",
    "    inl format = #format\n",
    "    inl date_time = join date_time\n",
    "    !\\($'\"!date_time.format(!format).to_string()\"')"
   ]
  },
  {
   "cell_type": "markdown",
   "metadata": {},
   "source": [
    "## format''"
   ]
  },
  {
   "cell_type": "code",
   "execution_count": null,
   "metadata": {
    "dotnet_interactive": {
     "language": "spiral"
    },
    "polyglot_notebook": {
     "kernelName": "spiral"
    }
   },
   "outputs": [
    {
     "name": "stdout",
     "output_type": "stream",
     "text": [
      "()\n",
      "\n"
     ]
    }
   ],
   "source": [
    "inl format'' (format : string) (date_time : date_time' _) : sm'.std_string =\n",
    "    inl format = #format\n",
    "    inl date_time = join date_time\n",
    "    !\\($'\"!date_time.format(!format).to_string()\"')"
   ]
  },
  {
   "cell_type": "markdown",
   "metadata": {},
   "source": [
    "## format_timestamp"
   ]
  },
  {
   "cell_type": "code",
   "execution_count": null,
   "metadata": {
    "dotnet_interactive": {
     "language": "spiral"
    },
    "polyglot_notebook": {
     "kernelName": "spiral"
    }
   },
   "outputs": [
    {
     "name": "stdout",
     "output_type": "stream",
     "text": [
      "()\n",
      "\n"
     ]
    }
   ],
   "source": [
    "inl format_timestamp (timestamp : sm'.std_string) =\n",
    "    inl timestamp = join timestamp\n",
    "    timestamp\n",
    "    |> fun x => !\\($'\"!x.parse().unwrap()\"') : i64\n",
    "    |> from_timestamp'\n",
    "    |> optionm.map fun x =>\n",
    "        x\n",
    "        |> to_local\n",
    "        |> format'' \"%Y-%m-%d %H:%M:%S\"\n",
    "        |> sm'.from_std_string\n",
    "    |> resultm.from_option"
   ]
  },
  {
   "cell_type": "markdown",
   "metadata": {},
   "source": [
    "## duration_from_millis"
   ]
  },
  {
   "cell_type": "code",
   "execution_count": null,
   "metadata": {
    "dotnet_interactive": {
     "language": "spiral"
    },
    "polyglot_notebook": {
     "kernelName": "spiral"
    }
   },
   "outputs": [
    {
     "name": "stdout",
     "output_type": "stream",
     "text": [
      "()\n",
      "\n"
     ]
    }
   ],
   "source": [
    "inl duration_from_millis (ms : u64) : duration =\n",
    "    inl ms = join ms\n",
    "    !\\($'\"std::time::Duration::from_millis(!ms)\"')"
   ]
  },
  {
   "cell_type": "markdown",
   "metadata": {},
   "source": [
    "## get_environment_variable"
   ]
  },
  {
   "cell_type": "code",
   "execution_count": null,
   "metadata": {
    "dotnet_interactive": {
     "language": "spiral"
    },
    "polyglot_notebook": {
     "kernelName": "spiral"
    }
   },
   "outputs": [
    {
     "name": "stdout",
     "output_type": "stream",
     "text": [
      "()\n",
      "\n"
     ]
    }
   ],
   "source": [
    "inl get_environment_variable (var : string) : string =\n",
    "    $\"System.Environment.GetEnvironmentVariable !var\""
   ]
  },
  {
   "cell_type": "code",
   "execution_count": null,
   "metadata": {
    "dotnet_interactive": {
     "language": "spiral"
    },
    "polyglot_notebook": {
     "kernelName": "spiral"
    }
   },
   "outputs": [
    {
     "name": "stdout",
     "output_type": "stream",
     "text": [
      "()\n",
      "\n"
     ]
    }
   ],
   "source": [
    "// // test\n",
    "\n",
    "inl test_guid () =\n",
    "    guid.new_guid \"FEDCBA98-7654-3210-FEDC-BA9876543210\""
   ]
  },
  {
   "cell_type": "code",
   "execution_count": null,
   "metadata": {
    "dotnet_interactive": {
     "language": "spiral"
    },
    "polyglot_notebook": {
     "kernelName": "spiral"
    }
   },
   "outputs": [
    {
     "name": "stdout",
     "output_type": "stream",
     "text": [
      "()\n",
      "\n"
     ]
    }
   ],
   "source": [
    "type timestamp_guid = guid.guid\n",
    "type date_time_guid = guid.guid"
   ]
  },
  {
   "cell_type": "markdown",
   "metadata": {},
   "source": [
    "## date_time_guid_from_date_time"
   ]
  },
  {
   "cell_type": "code",
   "execution_count": null,
   "metadata": {
    "dotnet_interactive": {
     "language": "spiral"
    },
    "polyglot_notebook": {
     "kernelName": "spiral"
    }
   },
   "outputs": [
    {
     "name": "stdout",
     "output_type": "stream",
     "text": [
      "()\n",
      "\n"
     ]
    }
   ],
   "source": [
    "inl date_time_guid_from_date_time (guid : guid.guid) (date_time : date_time) =\n",
    "    inl guid = guid |> sm'.obj_to_string\n",
    "    inl prefix = $'!date_time.ToString \"yyyyMMdd-HHmm-ssff-ffff-f\"' : string\n",
    "    $'`date_time_guid $\"{!prefix}{!guid.[!prefix.Length..]}\"' : date_time_guid"
   ]
  },
  {
   "cell_type": "code",
   "execution_count": null,
   "metadata": {
    "dotnet_interactive": {
     "language": "spiral"
    },
    "polyglot_notebook": {
     "kernelName": "spiral"
    }
   },
   "outputs": [
    {
     "name": "stdout",
     "output_type": "stream",
     "text": [
      "let rec method1 (v0 : bool) : bool =\n",
      "    v0\n",
      "and method0 () : unit =\n",
      "    let v0 : string = \"FEDCBA98-7654-3210-FEDC-BA9876543210\"\n",
      "    let v1 : System.Guid = System.Guid v0 \n",
      "    let v2 : System.DateTime = System.DateTime.MinValue\n",
      "    let v3 : (System.Guid -> string) = _.ToString()\n",
      "    let v4 : string = v3 v1\n",
      "    let v5 : string = v2.ToString \"yyyyMMdd-HHmm-ssff-ffff-f\"\n",
      "    let v6 : System.Guid = System.Guid $\"{v5}{v4.[v5.Length..]}\"\n",
      "    let v7 : (System.Guid -> string) = _.ToString()\n",
      "    let v8 : string = v7 v6\n",
      "    let v9 : string = $\"%A{v8}\"\n",
      "    System.Console.WriteLine v9\n",
      "    let v10 : string = \"00010101-0000-0000-0000-0a9876543210\"\n",
      "    let v11 : bool = v8 = v10\n",
      "    let v13 : bool =\n",
      "        if v11 then\n",
      "            true\n",
      "        else\n",
      "            method1(v11)\n",
      "    let v14 : string = $\"__expect / actual: %A{v8} / expected: %A{v10}\"\n",
      "    let v15 : bool = v13 = false\n",
      "    if v15 then\n",
      "        failwith<unit> v14\n",
      "method0()\n",
      "\n",
      "\"00010101-0000-0000-0000-0a9876543210\"\n"
     ]
    }
   ],
   "source": [
    "// // test\n",
    "\n",
    "date_time_guid_from_date_time (test_guid ()) $'System.DateTime.MinValue'\n",
    "|> sm'.obj_to_string\n",
    "|> _assert_eq' \"00010101-0000-0000-0000-0a9876543210\""
   ]
  },
  {
   "cell_type": "code",
   "execution_count": null,
   "metadata": {
    "dotnet_interactive": {
     "language": "spiral"
    },
    "polyglot_notebook": {
     "kernelName": "spiral"
    }
   },
   "outputs": [
    {
     "name": "stdout",
     "output_type": "stream",
     "text": [
      "let rec closure0 () () : System.Guid =\n",
      "    let v0 : string = \"FEDCBA98-7654-3210-FEDC-BA9876543210\"\n",
      "    let v1 : System.Guid = System.Guid v0 \n",
      "    v1\n",
      "and method1 (v0 : bool) : bool =\n",
      "    v0\n",
      "and method0 () : unit =\n",
      "    let v0 : string = \"FEDCBA98-7654-3210-FEDC-BA9876543210\"\n",
      "    let v1 : System.Guid = System.Guid v0 \n",
      "    let v2 : System.DateTime = System.DateTime.MaxValue\n",
      "    let v3 : (System.Guid -> string) = _.ToString()\n",
      "    let v4 : string = v3 v1\n",
      "    let v5 : string = v2.ToString \"yyyyMMdd-HHmm-ssff-ffff-f\"\n",
      "    let v6 : System.Guid = System.Guid $\"{v5}{v4.[v5.Length..]}\"\n",
      "    let v7 : (System.Guid -> string) = _.ToString()\n",
      "    let v8 : string = v7 v6\n",
      "    let v9 : (unit -> System.Guid) = closure0()\n",
      "    let v10 : string = $\"99991231-2359-5999-9999-9{(v9() |> string).[^10..]}\"\n",
      "    let v11 : string = $\"%A{v8}\"\n",
      "    System.Console.WriteLine v11\n",
      "    let v12 : bool = v8 = v10\n",
      "    let v14 : bool =\n",
      "        if v12 then\n",
      "            true\n",
      "        else\n",
      "            method1(v12)\n",
      "    let v15 : string = $\"__expect / actual: %A{v8} / expected: %A{v10}\"\n",
      "    let v16 : bool = v14 = false\n",
      "    if v16 then\n",
      "        failwith<unit> v15\n",
      "method0()\n",
      "\n",
      "\"99991231-2359-5999-9999-9a9876543210\"\n"
     ]
    }
   ],
   "source": [
    "// // test\n",
    "\n",
    "date_time_guid_from_date_time (test_guid ()) $'System.DateTime.MaxValue'\n",
    "|> sm'.obj_to_string\n",
    "|> _assert_eq $'$\"99991231-2359-5999-9999-9{(!test_guid() |> string).[^10..]}\"'"
   ]
  },
  {
   "cell_type": "code",
   "execution_count": null,
   "metadata": {
    "dotnet_interactive": {
     "language": "spiral"
    },
    "polyglot_notebook": {
     "kernelName": "spiral"
    }
   },
   "outputs": [
    {
     "name": "stdout",
     "output_type": "stream",
     "text": [
      "let rec closure0 () () : System.Guid =\n",
      "    let v0 : string = \"FEDCBA98-7654-3210-FEDC-BA9876543210\"\n",
      "    let v1 : System.Guid = System.Guid v0 \n",
      "    v1\n",
      "and method1 (v0 : bool) : bool =\n",
      "    v0\n",
      "and method0 () : unit =\n",
      "    let v0 : string = \"FEDCBA98-7654-3210-FEDC-BA9876543210\"\n",
      "    let v1 : System.Guid = System.Guid v0 \n",
      "    let v2 : System.DateTime = System.DateTime.UnixEpoch\n",
      "    let v3 : (System.Guid -> string) = _.ToString()\n",
      "    let v4 : string = v3 v1\n",
      "    let v5 : string = v2.ToString \"yyyyMMdd-HHmm-ssff-ffff-f\"\n",
      "    let v6 : System.Guid = System.Guid $\"{v5}{v4.[v5.Length..]}\"\n",
      "    let v7 : (System.Guid -> string) = _.ToString()\n",
      "    let v8 : string = v7 v6\n",
      "    let v9 : (unit -> System.Guid) = closure0()\n",
      "    let v10 : string = $\"19700101-0000-0000-0000-0{(v9 () |> string).[^10..]}\"\n",
      "    let v11 : string = $\"%A{v8}\"\n",
      "    System.Console.WriteLine v11\n",
      "    let v12 : bool = v8 = v10\n",
      "    let v14 : bool =\n",
      "        if v12 then\n",
      "            true\n",
      "        else\n",
      "            method1(v12)\n",
      "    let v15 : string = $\"__expect / actual: %A{v8} / expected: %A{v10}\"\n",
      "    let v16 : bool = v14 = false\n",
      "    if v16 then\n",
      "        failwith<unit> v15\n",
      "method0()\n",
      "\n",
      "\"19700101-0000-0000-0000-0a9876543210\"\n"
     ]
    }
   ],
   "source": [
    "// // test\n",
    "\n",
    "date_time_guid_from_date_time (test_guid ()) $'System.DateTime.UnixEpoch'\n",
    "|> sm'.obj_to_string\n",
    "|> _assert_eq $'$\"19700101-0000-0000-0000-0{(!test_guid () |> string).[^10..]}\"'"
   ]
  },
  {
   "cell_type": "markdown",
   "metadata": {},
   "source": [
    "## date_time_from_guid"
   ]
  },
  {
   "cell_type": "code",
   "execution_count": null,
   "metadata": {
    "dotnet_interactive": {
     "language": "spiral"
    },
    "polyglot_notebook": {
     "kernelName": "spiral"
    }
   },
   "outputs": [
    {
     "name": "stdout",
     "output_type": "stream",
     "text": [
      "()\n",
      "\n"
     ]
    }
   ],
   "source": [
    "inl date_time_from_guid (date_time_guid : date_time_guid) =\n",
    "    inl date_time_guid = date_time_guid |> sm'.obj_to_string\n",
    "    inl sm'_replace = join sm'.replace\n",
    "    run_target function\n",
    "        | Rust _ => fun () =>\n",
    "            $'System.DateTime.Parse (!date_time_guid.[..24] |> !sm'_replace \"-\" \"\")' : date_time\n",
    "        | _ => fun () => $'System.DateTime.ParseExact (!date_time_guid.[..24] |> !sm'_replace \"-\" \"\", \"yyyyMMddHHmmssfffffff\", null)' : date_time"
   ]
  },
  {
   "cell_type": "code",
   "execution_count": null,
   "metadata": {
    "dotnet_interactive": {
     "language": "spiral"
    },
    "polyglot_notebook": {
     "kernelName": "spiral"
    }
   },
   "outputs": [
    {
     "name": "stdout",
     "output_type": "stream",
     "text": [
      "let rec closure2 (v0 : string, v1 : string) (v2 : string) : string =\n",
      "    let v3 : string = v2.Replace (v0, v1)\n",
      "    v3\n",
      "and closure1 (v0 : string) (v1 : string) : (string -> string) =\n",
      "    closure2(v0, v1)\n",
      "and closure0 () (v0 : string) : (string -> (string -> string)) =\n",
      "    closure1(v0)\n",
      "and method1 () : (string -> (string -> (string -> string))) =\n",
      "    closure0()\n",
      "and method2 (v0 : bool) : bool =\n",
      "    v0\n",
      "and method0 () : unit =\n",
      "    let v0 : string = \"00010101-0000-0000-0000-0a9876543210\"\n",
      "    let v1 : System.Guid = System.Guid v0 \n",
      "    let v2 : (System.Guid -> string) = _.ToString()\n",
      "    let v3 : string = v2 v1\n",
      "    let v4 : (string -> (string -> (string -> string))) = method1()\n",
      "    let v5 : System.DateTime option = None\n",
      "    let v6 : bool = true in let mutable _v5 = v5\n",
      "    #if FABLE_COMPILER_RUST && !WASM && !CONTRACT\n",
      "    let v7 : System.DateTime = System.DateTime.Parse (v3.[..24] |> v4 \"-\" \"\")\n",
      "    v7\n",
      "#endif\n",
      "    #if FABLE_COMPILER_RUST && WASM\n",
      "    let v8 : System.DateTime = System.DateTime.Parse (v3.[..24] |> v4 \"-\" \"\")\n",
      "    v8\n",
      "#endif\n",
      "    #if FABLE_COMPILER_RUST && CONTRACT\n",
      "    let v9 : System.DateTime = System.DateTime.Parse (v3.[..24] |> v4 \"-\" \"\")\n",
      "    v9\n",
      "#endif\n",
      "    #if !FABLE_COMPILER && !FABLE_COMPILER_RUST && !FABLE_COMPILER_TYPESCRIPT && !WASM && !CONTRACT\n",
      "    let v10 : System.DateTime = System.DateTime.ParseExact (v3.[..24] |> v4 \"-\" \"\", \"yyyyMMddHHmmssfffffff\", null)\n",
      "    v10\n",
      "#endif\n",
      "    #if FABLE_COMPILER_TYPESCRIPT\n",
      "    let v11 : System.DateTime = System.DateTime.ParseExact (v3.[..24] |> v4 \"-\" \"\", \"yyyyMMddHHmmssfffffff\", null)\n",
      "    v11\n",
      "#endif\n",
      "    #if FABLE_COMPILER_PYTHON || FABLE_COMPILER_PHP || FABLE_COMPILER_DART\n",
      "    let v12 : System.DateTime = Unchecked.defaultof<System.DateTime>\n",
      "    v12\n",
      "#endif\n",
      "    |> fun x -> _v5 <- Some x\n",
      "    let v13 : System.DateTime = _v5.Value\n",
      "    let v14 : System.DateTime = System.DateTime.MinValue\n",
      "    let v15 : string = $\"%A{v13}\"\n",
      "    System.Console.WriteLine v15\n",
      "    let v16 : bool = v13 = v14\n",
      "    let v18 : bool =\n",
      "        if v16 then\n",
      "            true\n",
      "        else\n",
      "            method2(v16)\n",
      "    let v19 : string = $\"__expect / actual: %A{v13} / expected: %A{v14}\"\n",
      "    let v20 : bool = v18 = false\n",
      "    if v20 then\n",
      "        failwith<unit> v19\n",
      "method0()\n",
      "\n",
      "01/01/0001 00:00:00\n"
     ]
    }
   ],
   "source": [
    "// // test\n",
    "\n",
    "date_time_from_guid (guid.new_guid \"00010101-0000-0000-0000-0a9876543210\")\n",
    "|> _assert_eq' $'System.DateTime.MinValue'"
   ]
  },
  {
   "cell_type": "code",
   "execution_count": null,
   "metadata": {
    "dotnet_interactive": {
     "language": "spiral"
    },
    "polyglot_notebook": {
     "kernelName": "spiral"
    }
   },
   "outputs": [
    {
     "name": "stdout",
     "output_type": "stream",
     "text": [
      "let rec closure0 () () : System.Guid =\n",
      "    let v0 : string = \"FEDCBA98-7654-3210-FEDC-BA9876543210\"\n",
      "    let v1 : System.Guid = System.Guid v0 \n",
      "    v1\n",
      "and closure3 (v0 : string, v1 : string) (v2 : string) : string =\n",
      "    let v3 : string = v2.Replace (v0, v1)\n",
      "    v3\n",
      "and closure2 (v0 : string) (v1 : string) : (string -> string) =\n",
      "    closure3(v0, v1)\n",
      "and closure1 () (v0 : string) : (string -> (string -> string)) =\n",
      "    closure2(v0)\n",
      "and method1 () : (string -> (string -> (string -> string))) =\n",
      "    closure1()\n",
      "and method2 (v0 : bool) : bool =\n",
      "    v0\n",
      "and method0 () : unit =\n",
      "    let v0 : (unit -> System.Guid) = closure0()\n",
      "    let v1 : string = $\"99991231-2359-5999-9999-9{(v0 () |> string).[^10..]}\"\n",
      "    let v2 : System.Guid = System.Guid v1 \n",
      "    let v3 : (System.Guid -> string) = _.ToString()\n",
      "    let v4 : string = v3 v2\n",
      "    let v5 : (string -> (string -> (string -> string))) = method1()\n",
      "    let v6 : System.DateTime option = None\n",
      "    let v7 : bool = true in let mutable _v6 = v6\n",
      "    #if FABLE_COMPILER_RUST && !WASM && !CONTRACT\n",
      "    let v8 : System.DateTime = System.DateTime.Parse (v4.[..24] |> v5 \"-\" \"\")\n",
      "    v8\n",
      "#endif\n",
      "    #if FABLE_COMPILER_RUST && WASM\n",
      "    let v9 : System.DateTime = System.DateTime.Parse (v4.[..24] |> v5 \"-\" \"\")\n",
      "    v9\n",
      "#endif\n",
      "    #if FABLE_COMPILER_RUST && CONTRACT\n",
      "    let v10 : System.DateTime = System.DateTime.Parse (v4.[..24] |> v5 \"-\" \"\")\n",
      "    v10\n",
      "#endif\n",
      "    #if !FABLE_COMPILER && !FABLE_COMPILER_RUST && !FABLE_COMPILER_TYPESCRIPT && !WASM && !CONTRACT\n",
      "    let v11 : System.DateTime = System.DateTime.ParseExact (v4.[..24] |> v5 \"-\" \"\", \"yyyyMMddHHmmssfffffff\", null)\n",
      "    v11\n",
      "#endif\n",
      "    #if FABLE_COMPILER_TYPESCRIPT\n",
      "    let v12 : System.DateTime = System.DateTime.ParseExact (v4.[..24] |> v5 \"-\" \"\", \"yyyyMMddHHmmssfffffff\", null)\n",
      "    v12\n",
      "#endif\n",
      "    #if FABLE_COMPILER_PYTHON || FABLE_COMPILER_PHP || FABLE_COMPILER_DART\n",
      "    let v13 : System.DateTime = Unchecked.defaultof<System.DateTime>\n",
      "    v13\n",
      "#endif\n",
      "    |> fun x -> _v6 <- Some x\n",
      "    let v14 : System.DateTime = _v6.Value\n",
      "    let v15 : System.DateTime = System.DateTime.MaxValue\n",
      "    let v16 : string = $\"%A{v14}\"\n",
      "    System.Console.WriteLine v16\n",
      "    let v17 : bool = v14 = v15\n",
      "    let v19 : bool =\n",
      "        if v17 then\n",
      "            true\n",
      "        else\n",
      "            method2(v17)\n",
      "    let v20 : string = $\"__expect / actual: %A{v14} / expected: %A{v15}\"\n",
      "    let v21 : bool = v19 = false\n",
      "    if v21 then\n",
      "        failwith<unit> v20\n",
      "method0()\n",
      "\n",
      "12/31/9999 23:59:59\n"
     ]
    }
   ],
   "source": [
    "// // test\n",
    "\n",
    "date_time_from_guid (guid.new_guid $'$\"99991231-2359-5999-9999-9{(!test_guid () |> string).[^10..]}\"')\n",
    "|> _assert_eq' $'System.DateTime.MaxValue'"
   ]
  },
  {
   "cell_type": "code",
   "execution_count": null,
   "metadata": {
    "dotnet_interactive": {
     "language": "spiral"
    },
    "polyglot_notebook": {
     "kernelName": "spiral"
    }
   },
   "outputs": [
    {
     "name": "stdout",
     "output_type": "stream",
     "text": [
      "let rec closure0 () () : System.Guid =\n",
      "    let v0 : string = \"FEDCBA98-7654-3210-FEDC-BA9876543210\"\n",
      "    let v1 : System.Guid = System.Guid v0 \n",
      "    v1\n",
      "and closure3 (v0 : string, v1 : string) (v2 : string) : string =\n",
      "    let v3 : string = v2.Replace (v0, v1)\n",
      "    v3\n",
      "and closure2 (v0 : string) (v1 : string) : (string -> string) =\n",
      "    closure3(v0, v1)\n",
      "and closure1 () (v0 : string) : (string -> (string -> string)) =\n",
      "    closure2(v0)\n",
      "and method1 () : (string -> (string -> (string -> string))) =\n",
      "    closure1()\n",
      "and method2 (v0 : bool) : bool =\n",
      "    v0\n",
      "and method0 () : unit =\n",
      "    let v0 : (unit -> System.Guid) = closure0()\n",
      "    let v1 : string = $\"19700101-0000-0000-0000-0{(v0 () |> string).[^10..]}\"\n",
      "    let v2 : System.Guid = System.Guid v1 \n",
      "    let v3 : (System.Guid -> string) = _.ToString()\n",
      "    let v4 : string = v3 v2\n",
      "    let v5 : (string -> (string -> (string -> string))) = method1()\n",
      "    let v6 : System.DateTime option = None\n",
      "    let v7 : bool = true in let mutable _v6 = v6\n",
      "    #if FABLE_COMPILER_RUST && !WASM && !CONTRACT\n",
      "    let v8 : System.DateTime = System.DateTime.Parse (v4.[..24] |> v5 \"-\" \"\")\n",
      "    v8\n",
      "#endif\n",
      "    #if FABLE_COMPILER_RUST && WASM\n",
      "    let v9 : System.DateTime = System.DateTime.Parse (v4.[..24] |> v5 \"-\" \"\")\n",
      "    v9\n",
      "#endif\n",
      "    #if FABLE_COMPILER_RUST && CONTRACT\n",
      "    let v10 : System.DateTime = System.DateTime.Parse (v4.[..24] |> v5 \"-\" \"\")\n",
      "    v10\n",
      "#endif\n",
      "    #if !FABLE_COMPILER && !FABLE_COMPILER_RUST && !FABLE_COMPILER_TYPESCRIPT && !WASM && !CONTRACT\n",
      "    let v11 : System.DateTime = System.DateTime.ParseExact (v4.[..24] |> v5 \"-\" \"\", \"yyyyMMddHHmmssfffffff\", null)\n",
      "    v11\n",
      "#endif\n",
      "    #if FABLE_COMPILER_TYPESCRIPT\n",
      "    let v12 : System.DateTime = System.DateTime.ParseExact (v4.[..24] |> v5 \"-\" \"\", \"yyyyMMddHHmmssfffffff\", null)\n",
      "    v12\n",
      "#endif\n",
      "    #if FABLE_COMPILER_PYTHON || FABLE_COMPILER_PHP || FABLE_COMPILER_DART\n",
      "    let v13 : System.DateTime = Unchecked.defaultof<System.DateTime>\n",
      "    v13\n",
      "#endif\n",
      "    |> fun x -> _v6 <- Some x\n",
      "    let v14 : System.DateTime = _v6.Value\n",
      "    let v15 : System.DateTime = System.DateTime.UnixEpoch\n",
      "    let v16 : string = $\"%A{v14}\"\n",
      "    System.Console.WriteLine v16\n",
      "    let v17 : bool = v14 = v15\n",
      "    let v19 : bool =\n",
      "        if v17 then\n",
      "            true\n",
      "        else\n",
      "            method2(v17)\n",
      "    let v20 : string = $\"__expect / actual: %A{v14} / expected: %A{v15}\"\n",
      "    let v21 : bool = v19 = false\n",
      "    if v21 then\n",
      "        failwith<unit> v20\n",
      "method0()\n",
      "\n",
      "01/01/1970 00:00:00\n"
     ]
    }
   ],
   "source": [
    "// // test\n",
    "\n",
    "date_time_from_guid (guid.new_guid $'$\"19700101-0000-0000-0000-0{(!test_guid () |> string).[^10..]}\"')\n",
    "|> _assert_eq' $'System.DateTime.UnixEpoch'"
   ]
  },
  {
   "cell_type": "markdown",
   "metadata": {},
   "source": [
    "## timestamp_guid_from_timestamp"
   ]
  },
  {
   "cell_type": "code",
   "execution_count": null,
   "metadata": {
    "dotnet_interactive": {
     "language": "spiral"
    },
    "polyglot_notebook": {
     "kernelName": "spiral"
    }
   },
   "outputs": [
    {
     "name": "stdout",
     "output_type": "stream",
     "text": [
      "()\n",
      "\n"
     ]
    }
   ],
   "source": [
    "inl timestamp_guid_from_timestamp (guid : guid.guid) (timestamp : timestamp) : timestamp_guid =\n",
    "    inl guid = guid |> sm'.obj_to_string\n",
    "    inl timestamp = timestamp |> sm'.obj_to_string |> sm'.pad_left 18i32 '0'\n",
    "    $'`timestamp_guid $\"{!timestamp.[0..7]}-{!timestamp.[8..11]}-{!timestamp.[12..15]}-{!timestamp.[16..17]}{!guid.[21..]}\"'"
   ]
  },
  {
   "cell_type": "code",
   "execution_count": null,
   "metadata": {
    "dotnet_interactive": {
     "language": "spiral"
    },
    "polyglot_notebook": {
     "kernelName": "spiral"
    }
   },
   "outputs": [
    {
     "name": "stdout",
     "output_type": "stream",
     "text": [
      "let rec method1 (v0 : bool) : bool =\n",
      "    v0\n",
      "and method0 () : unit =\n",
      "    let v0 : string = \"FEDCBA98-7654-3210-FEDC-BA9876543210\"\n",
      "    let v1 : System.Guid = System.Guid v0 \n",
      "    let v2 : (System.Guid -> string) = _.ToString()\n",
      "    let v3 : string = v2 v1\n",
      "    let v4 : (int64 -> string) = _.ToString()\n",
      "    let v5 : string = v4 0L\n",
      "    let v6 : string = v5.PadLeft (18, '0')\n",
      "    let v7 : System.Guid = System.Guid $\"{v6.[0..7]}-{v6.[8..11]}-{v6.[12..15]}-{v6.[16..17]}{v3.[21..]}\"\n",
      "    let v8 : string = \"00000000-0000-0000-00dc-ba9876543210\"\n",
      "    let v9 : System.Guid = System.Guid v8 \n",
      "    let v10 : string = $\"%A{v7}\"\n",
      "    System.Console.WriteLine v10\n",
      "    let v11 : bool = v7 = v9\n",
      "    let v13 : bool =\n",
      "        if v11 then\n",
      "            true\n",
      "        else\n",
      "            method1(v11)\n",
      "    let v14 : string = $\"__expect / actual: %A{v7} / expected: %A{v9}\"\n",
      "    let v15 : bool = v13 = false\n",
      "    if v15 then\n",
      "        failwith<unit> v14\n",
      "method0()\n",
      "\n",
      "00000000-0000-0000-00dc-ba9876543210\n"
     ]
    }
   ],
   "source": [
    "// // test\n",
    "\n",
    "timestamp_guid_from_timestamp (test_guid ()) (timestamp 0i64)\n",
    "|> _assert_eq' (guid.new_guid \"00000000-0000-0000-00dc-ba9876543210\")"
   ]
  },
  {
   "cell_type": "code",
   "execution_count": null,
   "metadata": {
    "dotnet_interactive": {
     "language": "spiral"
    },
    "polyglot_notebook": {
     "kernelName": "spiral"
    }
   },
   "outputs": [
    {
     "name": "stdout",
     "output_type": "stream",
     "text": [
      "let rec closure0 () () : System.Guid =\n",
      "    let v0 : string = \"FEDCBA98-7654-3210-FEDC-BA9876543210\"\n",
      "    let v1 : System.Guid = System.Guid v0 \n",
      "    v1\n",
      "and method1 (v0 : bool) : bool =\n",
      "    v0\n",
      "and method0 () : unit =\n",
      "    let v0 : string = \"FEDCBA98-7654-3210-FEDC-BA9876543210\"\n",
      "    let v1 : System.Guid = System.Guid v0 \n",
      "    let v2 : (System.Guid -> string) = _.ToString()\n",
      "    let v3 : string = v2 v1\n",
      "    let v4 : (int64 -> string) = _.ToString()\n",
      "    let v5 : string = v4 999999999999999999L\n",
      "    let v6 : string = v5.PadLeft (18, '0')\n",
      "    let v7 : System.Guid = System.Guid $\"{v6.[0..7]}-{v6.[8..11]}-{v6.[12..15]}-{v6.[16..17]}{v3.[21..]}\"\n",
      "    let v8 : (unit -> System.Guid) = closure0()\n",
      "    let v9 : string = $\"99999999-9999-9999-99dc-b{(v8 () |> string).[^10..]}\"\n",
      "    let v10 : System.Guid = System.Guid v9 \n",
      "    let v11 : string = $\"%A{v7}\"\n",
      "    System.Console.WriteLine v11\n",
      "    let v12 : bool = v7 = v10\n",
      "    let v14 : bool =\n",
      "        if v12 then\n",
      "            true\n",
      "        else\n",
      "            method1(v12)\n",
      "    let v15 : string = $\"__expect / actual: %A{v7} / expected: %A{v10}\"\n",
      "    let v16 : bool = v14 = false\n",
      "    if v16 then\n",
      "        failwith<unit> v15\n",
      "method0()\n",
      "\n",
      "99999999-9999-9999-99dc-ba9876543210\n"
     ]
    }
   ],
   "source": [
    "// // test\n",
    "\n",
    "timestamp_guid_from_timestamp (test_guid ()) (timestamp 999999999999999999i64)\n",
    "|> _assert_eq' (guid.new_guid $'$\"99999999-9999-9999-99dc-b{(!test_guid () |> string).[^10..]}\"')"
   ]
  },
  {
   "cell_type": "markdown",
   "metadata": {},
   "source": [
    "## timestamp_from_guid"
   ]
  },
  {
   "cell_type": "code",
   "execution_count": null,
   "metadata": {
    "dotnet_interactive": {
     "language": "spiral"
    },
    "polyglot_notebook": {
     "kernelName": "spiral"
    }
   },
   "outputs": [
    {
     "name": "stdout",
     "output_type": "stream",
     "text": [
      "()\n",
      "\n"
     ]
    }
   ],
   "source": [
    "inl timestamp_from_guid (guid : date_time_guid) : timestamp =\n",
    "    inl guid = guid |> sm'.obj_to_string\n",
    "    $'`i64 $\"{!guid.[0..7]}{!guid.[9..12]}{!guid.[14..17]}{!guid.[19..20]}\"'"
   ]
  },
  {
   "cell_type": "code",
   "execution_count": null,
   "metadata": {
    "dotnet_interactive": {
     "language": "spiral"
    },
    "polyglot_notebook": {
     "kernelName": "spiral"
    }
   },
   "outputs": [
    {
     "name": "stdout",
     "output_type": "stream",
     "text": [
      "let rec method1 (v0 : bool) : bool =\n",
      "    v0\n",
      "and method0 () : unit =\n",
      "    let v0 : string = \"00000000-0000-0000-00dc-ba9876543210\"\n",
      "    let v1 : System.Guid = System.Guid v0 \n",
      "    let v2 : (System.Guid -> string) = _.ToString()\n",
      "    let v3 : string = v2 v1\n",
      "    let v4 : int64 = int64 $\"{v3.[0..7]}{v3.[9..12]}{v3.[14..17]}{v3.[19..20]}\"\n",
      "    let v5 : string = $\"%A{v4}\"\n",
      "    System.Console.WriteLine v5\n",
      "    let v6 : bool = v4 = 0L\n",
      "    let v8 : bool =\n",
      "        if v6 then\n",
      "            true\n",
      "        else\n",
      "            method1(v6)\n",
      "    let v9 : string = $\"__expect / actual: %A{v4} / expected: %A{0L}\"\n",
      "    let v10 : bool = v8 = false\n",
      "    if v10 then\n",
      "        failwith<unit> v9\n",
      "method0()\n",
      "\n",
      "0L\n"
     ]
    }
   ],
   "source": [
    "// // test\n",
    "\n",
    "timestamp_from_guid (guid.new_guid \"00000000-0000-0000-00dc-ba9876543210\")\n",
    "|> _assert_eq (timestamp 0)"
   ]
  },
  {
   "cell_type": "code",
   "execution_count": null,
   "metadata": {
    "dotnet_interactive": {
     "language": "spiral"
    },
    "polyglot_notebook": {
     "kernelName": "spiral"
    }
   },
   "outputs": [
    {
     "name": "stdout",
     "output_type": "stream",
     "text": [
      "let rec closure0 () () : System.Guid =\n",
      "    let v0 : string = \"FEDCBA98-7654-3210-FEDC-BA9876543210\"\n",
      "    let v1 : System.Guid = System.Guid v0 \n",
      "    v1\n",
      "and method1 (v0 : bool) : bool =\n",
      "    v0\n",
      "and method0 () : unit =\n",
      "    let v0 : (unit -> System.Guid) = closure0()\n",
      "    let v1 : string = $\"99999999-9999-9999-99{(v0 () |> string).[^14..]}\"\n",
      "    let v2 : System.Guid = System.Guid v1 \n",
      "    let v3 : (System.Guid -> string) = _.ToString()\n",
      "    let v4 : string = v3 v2\n",
      "    let v5 : int64 = int64 $\"{v4.[0..7]}{v4.[9..12]}{v4.[14..17]}{v4.[19..20]}\"\n",
      "    let v6 : string = $\"%A{v5}\"\n",
      "    System.Console.WriteLine v6\n",
      "    let v7 : bool = v5 = 999999999999999999L\n",
      "    let v9 : bool =\n",
      "        if v7 then\n",
      "            true\n",
      "        else\n",
      "            method1(v7)\n",
      "    let v10 : string = $\"__expect / actual: %A{v5} / expected: %A{999999999999999999L}\"\n",
      "    let v11 : bool = v9 = false\n",
      "    if v11 then\n",
      "        failwith<unit> v10\n",
      "method0()\n",
      "\n",
      "999999999999999999L\n"
     ]
    }
   ],
   "source": [
    "// // test\n",
    "\n",
    "timestamp_from_guid (guid.new_guid $'$\"99999999-9999-9999-99{(!test_guid () |> string).[^14..]}\"')\n",
    "|> _assert_eq (timestamp 999999999999999999)"
   ]
  },
  {
   "cell_type": "markdown",
   "metadata": {},
   "source": [
    "## now"
   ]
  },
  {
   "cell_type": "code",
   "execution_count": null,
   "metadata": {
    "dotnet_interactive": {
     "language": "spiral"
    },
    "polyglot_notebook": {
     "kernelName": "spiral"
    }
   },
   "outputs": [
    {
     "name": "stdout",
     "output_type": "stream",
     "text": [
      "()\n",
      "\n"
     ]
    }
   ],
   "source": [
    "inl now () : date_time =\n",
    "    $'System.DateTime.Now'"
   ]
  },
  {
   "cell_type": "markdown",
   "metadata": {},
   "source": [
    "## utc_now"
   ]
  },
  {
   "cell_type": "code",
   "execution_count": null,
   "metadata": {
    "dotnet_interactive": {
     "language": "spiral"
    },
    "polyglot_notebook": {
     "kernelName": "spiral"
    }
   },
   "outputs": [
    {
     "name": "stdout",
     "output_type": "stream",
     "text": [
      "()\n",
      "\n"
     ]
    }
   ],
   "source": [
    "inl utc_now () : date_time =\n",
    "    $'System.DateTime.UtcNow'"
   ]
  },
  {
   "cell_type": "markdown",
   "metadata": {},
   "source": [
    "## time_span"
   ]
  },
  {
   "cell_type": "code",
   "execution_count": null,
   "metadata": {
    "dotnet_interactive": {
     "language": "spiral"
    },
    "polyglot_notebook": {
     "kernelName": "spiral"
    }
   },
   "outputs": [
    {
     "name": "stdout",
     "output_type": "stream",
     "text": [
      "()\n",
      "\n"
     ]
    }
   ],
   "source": [
    "nominal time_span = $'System.TimeSpan'\n",
    "\n",
    "inl time_span x : time_span =\n",
    "    $'`time_span !x '"
   ]
  },
  {
   "cell_type": "markdown",
   "metadata": {},
   "source": [
    "## new_time_span"
   ]
  },
  {
   "cell_type": "code",
   "execution_count": null,
   "metadata": {
    "dotnet_interactive": {
     "language": "spiral"
    },
    "polyglot_notebook": {
     "kernelName": "spiral"
    }
   },
   "outputs": [
    {
     "name": "stdout",
     "output_type": "stream",
     "text": [
      "()\n",
      "\n"
     ]
    }
   ],
   "source": [
    "inl new_time_span (a : date_time) (b : date_time) : time_span =\n",
    "    $'!b - !a '"
   ]
  },
  {
   "cell_type": "markdown",
   "metadata": {},
   "source": [
    "## hours"
   ]
  },
  {
   "cell_type": "code",
   "execution_count": null,
   "metadata": {
    "dotnet_interactive": {
     "language": "spiral"
    },
    "polyglot_notebook": {
     "kernelName": "spiral"
    }
   },
   "outputs": [
    {
     "name": "stdout",
     "output_type": "stream",
     "text": [
      "()\n",
      "\n"
     ]
    }
   ],
   "source": [
    "inl hours (time_span : time_span) : i32 =\n",
    "    time_span |> $'_.Hours'"
   ]
  },
  {
   "cell_type": "markdown",
   "metadata": {},
   "source": [
    "## milliseconds"
   ]
  },
  {
   "cell_type": "code",
   "execution_count": null,
   "metadata": {
    "dotnet_interactive": {
     "language": "spiral"
    },
    "polyglot_notebook": {
     "kernelName": "spiral"
    }
   },
   "outputs": [
    {
     "name": "stdout",
     "output_type": "stream",
     "text": [
      "()\n",
      "\n"
     ]
    }
   ],
   "source": [
    "inl milliseconds (time_span : time_span) : i32 =\n",
    "    time_span |> $'_.Milliseconds'"
   ]
  },
  {
   "cell_type": "markdown",
   "metadata": {},
   "source": [
    "## minutes"
   ]
  },
  {
   "cell_type": "code",
   "execution_count": null,
   "metadata": {
    "dotnet_interactive": {
     "language": "spiral"
    },
    "polyglot_notebook": {
     "kernelName": "spiral"
    }
   },
   "outputs": [
    {
     "name": "stdout",
     "output_type": "stream",
     "text": [
      "()\n",
      "\n"
     ]
    }
   ],
   "source": [
    "inl minutes (time_span : time_span) : i32 =\n",
    "    time_span |> $'_.Minutes'"
   ]
  },
  {
   "cell_type": "markdown",
   "metadata": {},
   "source": [
    "## seconds"
   ]
  },
  {
   "cell_type": "code",
   "execution_count": null,
   "metadata": {
    "dotnet_interactive": {
     "language": "spiral"
    },
    "polyglot_notebook": {
     "kernelName": "spiral"
    }
   },
   "outputs": [
    {
     "name": "stdout",
     "output_type": "stream",
     "text": [
      "()\n",
      "\n"
     ]
    }
   ],
   "source": [
    "inl seconds (time_span : time_span) : i32 =\n",
    "    time_span |> $'_.Seconds'"
   ]
  },
  {
   "cell_type": "markdown",
   "metadata": {},
   "source": [
    "## total_seconds"
   ]
  },
  {
   "cell_type": "code",
   "execution_count": null,
   "metadata": {
    "dotnet_interactive": {
     "language": "spiral"
    },
    "polyglot_notebook": {
     "kernelName": "spiral"
    }
   },
   "outputs": [
    {
     "name": "stdout",
     "output_type": "stream",
     "text": [
      "()\n",
      "\n"
     ]
    }
   ],
   "source": [
    "inl total_seconds (time_span : time_span) : f64 =\n",
    "    time_span |> $'_.TotalSeconds'"
   ]
  },
  {
   "cell_type": "markdown",
   "metadata": {},
   "source": [
    "## new_guid_from_date_time"
   ]
  },
  {
   "cell_type": "code",
   "execution_count": null,
   "metadata": {
    "dotnet_interactive": {
     "language": "spiral"
    },
    "polyglot_notebook": {
     "kernelName": "spiral"
    }
   },
   "outputs": [
    {
     "name": "stdout",
     "output_type": "stream",
     "text": [
      "()\n",
      "\n"
     ]
    }
   ],
   "source": [
    "inl new_guid_from_date_time (date_time : date_time) =\n",
    "    inl guid = guid.new_raw_guid ()\n",
    "    date_time_guid_from_date_time guid date_time"
   ]
  },
  {
   "cell_type": "code",
   "execution_count": null,
   "metadata": {
    "dotnet_interactive": {
     "language": "spiral"
    },
    "polyglot_notebook": {
     "kernelName": "spiral"
    }
   },
   "outputs": [
    {
     "name": "stdout",
     "output_type": "stream",
     "text": [
      "let rec closure2 (v0 : string, v1 : string) (v2 : string) : string =\n",
      "    let v3 : string = v2.Replace (v0, v1)\n",
      "    v3\n",
      "and closure1 (v0 : string) (v1 : string) : (string -> string) =\n",
      "    closure2(v0, v1)\n",
      "and closure0 () (v0 : string) : (string -> (string -> string)) =\n",
      "    closure1(v0)\n",
      "and method1 () : (string -> (string -> (string -> string))) =\n",
      "    closure0()\n",
      "and method2 (v0 : bool) : bool =\n",
      "    v0\n",
      "and method0 () : unit =\n",
      "    let v0 : System.DateTime = System.DateTime.UtcNow\n",
      "    let v1 : System.Guid = System.Guid.NewGuid ()\n",
      "    let v2 : (System.Guid -> string) = _.ToString()\n",
      "    let v3 : string = v2 v1\n",
      "    let v4 : string = v0.ToString \"yyyyMMdd-HHmm-ssff-ffff-f\"\n",
      "    let v5 : System.Guid = System.Guid $\"{v4}{v3.[v4.Length..]}\"\n",
      "    let v6 : (System.Guid -> string) = _.ToString()\n",
      "    let v7 : string = v6 v5\n",
      "    let v8 : (string -> (string -> (string -> string))) = method1()\n",
      "    let v9 : System.DateTime option = None\n",
      "    let v10 : bool = true in let mutable _v9 = v9\n",
      "    #if FABLE_COMPILER_RUST && !WASM && !CONTRACT\n",
      "    let v11 : System.DateTime = System.DateTime.Parse (v7.[..24] |> v8 \"-\" \"\")\n",
      "    v11\n",
      "#endif\n",
      "    #if FABLE_COMPILER_RUST && WASM\n",
      "    let v12 : System.DateTime = System.DateTime.Parse (v7.[..24] |> v8 \"-\" \"\")\n",
      "    v12\n",
      "#endif\n",
      "    #if FABLE_COMPILER_RUST && CONTRACT\n",
      "    let v13 : System.DateTime = System.DateTime.Parse (v7.[..24] |> v8 \"-\" \"\")\n",
      "    v13\n",
      "#endif\n",
      "    #if !FABLE_COMPILER && !FABLE_COMPILER_RUST && !FABLE_COMPILER_TYPESCRIPT && !WASM && !CONTRACT\n",
      "    let v14 : System.DateTime = System.DateTime.ParseExact (v7.[..24] |> v8 \"-\" \"\", \"yyyyMMddHHmmssfffffff\", null)\n",
      "    v14\n",
      "#endif\n",
      "    #if FABLE_COMPILER_TYPESCRIPT\n",
      "    let v15 : System.DateTime = System.DateTime.ParseExact (v7.[..24] |> v8 \"-\" \"\", \"yyyyMMddHHmmssfffffff\", null)\n",
      "    v15\n",
      "#endif\n",
      "    #if FABLE_COMPILER_PYTHON || FABLE_COMPILER_PHP || FABLE_COMPILER_DART\n",
      "    let v16 : System.DateTime = Unchecked.defaultof<System.DateTime>\n",
      "    v16\n",
      "#endif\n",
      "    |> fun x -> _v9 <- Some x\n",
      "    let v17 : System.DateTime = _v9.Value\n",
      "    let v18 : System.DateTime = System.DateTime.UtcNow\n",
      "    let v19 : System.TimeSpan = v18 - v17 \n",
      "    let v20 : (System.TimeSpan -> float) = _.TotalSeconds\n",
      "    let v21 : float = v20 v19\n",
      "    let v22 : int32 = int32 v21\n",
      "    let v23 : string = $\"%A{v22}\"\n",
      "    System.Console.WriteLine v23\n",
      "    let v24 : bool = v22 = 0\n",
      "    let v26 : bool =\n",
      "        if v24 then\n",
      "            true\n",
      "        else\n",
      "            method2(v24)\n",
      "    let v27 : string = $\"__expect / actual: %A{v22} / expected: %A{0}\"\n",
      "    let v28 : bool = v26 = false\n",
      "    if v28 then\n",
      "        failwith<unit> v27\n",
      "method0()\n",
      "\n",
      "0\n"
     ]
    }
   ],
   "source": [
    "// // test\n",
    "\n",
    "utc_now ()\n",
    "|> new_guid_from_date_time\n",
    "|> date_time_from_guid\n",
    "|> fun date_time => new_time_span date_time (utc_now ()) |> total_seconds |> i32\n",
    "|> _assert_eq 0"
   ]
  },
  {
   "cell_type": "markdown",
   "metadata": {},
   "source": [
    "## new_guid_from_timestamp"
   ]
  },
  {
   "cell_type": "code",
   "execution_count": null,
   "metadata": {
    "dotnet_interactive": {
     "language": "spiral"
    },
    "polyglot_notebook": {
     "kernelName": "spiral"
    }
   },
   "outputs": [
    {
     "name": "stdout",
     "output_type": "stream",
     "text": [
      "()\n",
      "\n"
     ]
    }
   ],
   "source": [
    "inl new_guid_from_timestamp (timestamp : timestamp) =\n",
    "    inl guid = guid.new_raw_guid ()\n",
    "    timestamp_guid_from_timestamp guid timestamp"
   ]
  },
  {
   "cell_type": "code",
   "execution_count": null,
   "metadata": {
    "dotnet_interactive": {
     "language": "spiral"
    },
    "polyglot_notebook": {
     "kernelName": "spiral"
    }
   },
   "outputs": [
    {
     "name": "stdout",
     "output_type": "stream",
     "text": [
      "let rec method1 (v0 : bool) : bool =\n",
      "    v0\n",
      "and method0 () : unit =\n",
      "    let v0 : System.DateTime = System.DateTime.UtcNow\n",
      "    let v1 : (System.DateTime -> int64) = _.Ticks\n",
      "    let v2 : int64 = v1 v0\n",
      "    let v3 : System.Guid = System.Guid.NewGuid ()\n",
      "    let v4 : (System.Guid -> string) = _.ToString()\n",
      "    let v5 : string = v4 v3\n",
      "    let v6 : (int64 -> string) = _.ToString()\n",
      "    let v7 : string = v6 v2\n",
      "    let v8 : string = v7.PadLeft (18, '0')\n",
      "    let v9 : System.Guid = System.Guid $\"{v8.[0..7]}-{v8.[8..11]}-{v8.[12..15]}-{v8.[16..17]}{v5.[21..]}\"\n",
      "    let v10 : (System.Guid -> string) = _.ToString()\n",
      "    let v11 : string = v10 v9\n",
      "    let v12 : int64 = int64 $\"{v11.[0..7]}{v11.[9..12]}{v11.[14..17]}{v11.[19..20]}\"\n",
      "    let v13 : System.DateTime = System.DateTime.UtcNow\n",
      "    let v14 : (System.DateTime -> int64) = _.Ticks\n",
      "    let v15 : int64 = v14 v13\n",
      "    let v16 : int64 = v12 - v15\n",
      "    let v17 : int64 = v16 / 100000L\n",
      "    let v18 : string = $\"%A{v17}\"\n",
      "    System.Console.WriteLine v18\n",
      "    let v19 : bool = v17 = 0L\n",
      "    let v21 : bool =\n",
      "        if v19 then\n",
      "            true\n",
      "        else\n",
      "            method1(v19)\n",
      "    let v22 : string = $\"__expect / actual: %A{v17} / expected: %A{0L}\"\n",
      "    let v23 : bool = v21 = false\n",
      "    if v23 then\n",
      "        failwith<unit> v22\n",
      "method0()\n",
      "\n",
      "0L\n"
     ]
    }
   ],
   "source": [
    "// // test\n",
    "\n",
    "utc_now ()\n",
    "|> ticks\n",
    "|> new_guid_from_timestamp\n",
    "|> timestamp_from_guid\n",
    "|> fun (timestamp timestamp) => (timestamp - (utc_now () |> ticks |> fun (timestamp x) => x)) / 100000i64\n",
    "|> _assert_eq 0i64"
   ]
  },
  {
   "cell_type": "code",
   "execution_count": null,
   "metadata": {
    "dotnet_interactive": {
     "language": "fsharp"
    },
    "polyglot_notebook": {
     "kernelName": "fsharp"
    }
   },
   "outputs": [
    {
     "name": "stdout",
     "output_type": "stream",
     "text": [
      "DateTime: 04/18/2024 13:04:52 +00:00\n",
      "Time Zone: (UTC) Coordinated Universal Time\n",
      "Is DST: false\n",
      "v1: 00:00:00\n",
      "v2: (UTC) Coordinated Universal Time\n"
     ]
    }
   ],
   "source": [
    "//// test\n",
    "\n",
    "type DateTimeWithZone = {\n",
    "    DateTime: System.DateTimeOffset\n",
    "    TimeZone: System.TimeZoneInfo\n",
    "}\n",
    "\n",
    "try\n",
    "    let now = System.DateTimeOffset.Now\n",
    "    let timeZoneInfo = System.TimeZoneInfo.Local\n",
    "    let dateTimeWithZone = { DateTime = now; TimeZone = timeZoneInfo }\n",
    "\n",
    "    printfn \"DateTime: %O\" dateTimeWithZone.DateTime\n",
    "    printfn \"Time Zone: %s\" dateTimeWithZone.TimeZone.DisplayName\n",
    "    printfn \"Is DST: %b\" (timeZoneInfo.IsDaylightSavingTime(dateTimeWithZone.DateTime.DateTime))\n",
    "    printfn \"v1: %s\" (dateTimeWithZone.TimeZone.GetUtcOffset(now) |> string)\n",
    "    printfn \"v2: %s\" (dateTimeWithZone.TimeZone |> string)\n",
    "with ex ->\n",
    "    printfn \"error: %A\" ex"
   ]
  },
  {
   "cell_type": "markdown",
   "metadata": {},
   "source": [
    "## main"
   ]
  },
  {
   "cell_type": "code",
   "execution_count": null,
   "metadata": {
    "dotnet_interactive": {
     "language": "spiral"
    },
    "polyglot_notebook": {
     "kernelName": "spiral"
    }
   },
   "outputs": [
    {
     "name": "stdout",
     "output_type": "stream",
     "text": [
      "let rec closure1 (v0 : System.Guid) (v1 : System.DateTime) : System.Guid =\n",
      "    let v2 : (System.Guid -> string) = _.ToString()\n",
      "    let v3 : string = v2 v0\n",
      "    let v4 : string = v1.ToString \"yyyyMMdd-HHmm-ssff-ffff-f\"\n",
      "    let v5 : System.Guid = System.Guid $\"{v4}{v3.[v4.Length..]}\"\n",
      "    v5\n",
      "and closure0 () (v0 : System.Guid) : (System.DateTime -> System.Guid) =\n",
      "    closure1(v0)\n",
      "and closure5 (v0 : string, v1 : string) (v2 : string) : string =\n",
      "    let v3 : string = v2.Replace (v0, v1)\n",
      "    v3\n",
      "and closure4 (v0 : string) (v1 : string) : (string -> string) =\n",
      "    closure5(v0, v1)\n",
      "and closure3 () (v0 : string) : (string -> (string -> string)) =\n",
      "    closure4(v0)\n",
      "and method0 () : (string -> (string -> (string -> string))) =\n",
      "    closure3()\n",
      "and closure2 () (v0 : System.Guid) : System.DateTime =\n",
      "    let v1 : (System.Guid -> string) = _.ToString()\n",
      "    let v2 : string = v1 v0\n",
      "    let v3 : (string -> (string -> (string -> string))) = method0()\n",
      "    let v4 : System.DateTime option = None\n",
      "    let v5 : bool = true in let mutable _v4 = v4\n",
      "    #if FABLE_COMPILER_RUST && !WASM && !CONTRACT\n",
      "    let v6 : System.DateTime = System.DateTime.Parse (v2.[..24] |> v3 \"-\" \"\")\n",
      "    v6\n",
      "#endif\n",
      "    #if FABLE_COMPILER_RUST && WASM\n",
      "    let v7 : System.DateTime = System.DateTime.Parse (v2.[..24] |> v3 \"-\" \"\")\n",
      "    v7\n",
      "#endif\n",
      "    #if FABLE_COMPILER_RUST && CONTRACT\n",
      "    let v8 : System.DateTime = System.DateTime.Parse (v2.[..24] |> v3 \"-\" \"\")\n",
      "    v8\n",
      "#endif\n",
      "    #if !FABLE_COMPILER && !FABLE_COMPILER_RUST && !FABLE_COMPILER_TYPESCRIPT && !WASM && !CONTRACT\n",
      "    let v9 : System.DateTime = System.DateTime.ParseExact (v2.[..24] |> v3 \"-\" \"\", \"yyyyMMddHHmmssfffffff\", null)\n",
      "    v9\n",
      "#endif\n",
      "    #if FABLE_COMPILER_TYPESCRIPT\n",
      "    let v10 : System.DateTime = System.DateTime.ParseExact (v2.[..24] |> v3 \"-\" \"\", \"yyyyMMddHHmmssfffffff\", null)\n",
      "    v10\n",
      "#endif\n",
      "    #if FABLE_COMPILER_PYTHON || FABLE_COMPILER_PHP || FABLE_COMPILER_DART\n",
      "    let v11 : System.DateTime = Unchecked.defaultof<System.DateTime>\n",
      "    v11\n",
      "#endif\n",
      "    |> fun x -> _v4 <- Some x\n",
      "    let v12 : System.DateTime = _v4.Value\n",
      "    v12\n",
      "and closure7 (v0 : System.Guid) (v1 : int64) : System.Guid =\n",
      "    let v2 : (System.Guid -> string) = _.ToString()\n",
      "    let v3 : string = v2 v0\n",
      "    let v4 : (int64 -> string) = _.ToString()\n",
      "    let v5 : string = v4 v1\n",
      "    let v6 : string = v5.PadLeft (18, '0')\n",
      "    let v7 : System.Guid = System.Guid $\"{v6.[0..7]}-{v6.[8..11]}-{v6.[12..15]}-{v6.[16..17]}{v3.[21..]}\"\n",
      "    v7\n",
      "and closure6 () (v0 : System.Guid) : (int64 -> System.Guid) =\n",
      "    closure7(v0)\n",
      "and closure8 () (v0 : System.Guid) : int64 =\n",
      "    let v1 : (System.Guid -> string) = _.ToString()\n",
      "    let v2 : string = v1 v0\n",
      "    let v3 : int64 = int64 $\"{v2.[0..7]}{v2.[9..12]}{v2.[14..17]}{v2.[19..20]}\"\n",
      "    v3\n",
      "and closure9 () (v0 : System.DateTime) : System.Guid =\n",
      "    let v1 : System.Guid = System.Guid.NewGuid ()\n",
      "    let v2 : (System.Guid -> string) = _.ToString()\n",
      "    let v3 : string = v2 v1\n",
      "    let v4 : string = v0.ToString \"yyyyMMdd-HHmm-ssff-ffff-f\"\n",
      "    let v5 : System.Guid = System.Guid $\"{v4}{v3.[v4.Length..]}\"\n",
      "    v5\n",
      "and closure10 () (v0 : int64) : System.Guid =\n",
      "    let v1 : System.Guid = System.Guid.NewGuid ()\n",
      "    let v2 : (System.Guid -> string) = _.ToString()\n",
      "    let v3 : string = v2 v1\n",
      "    let v4 : (int64 -> string) = _.ToString()\n",
      "    let v5 : string = v4 v0\n",
      "    let v6 : string = v5.PadLeft (18, '0')\n",
      "    let v7 : System.Guid = System.Guid $\"{v6.[0..7]}-{v6.[8..11]}-{v6.[12..15]}-{v6.[16..17]}{v3.[21..]}\"\n",
      "    v7\n",
      "and closure12 (v0 : string) (v1 : System.DateTime) : string =\n",
      "    let v2 : (string -> string) = v1.ToString\n",
      "    v2 v0\n",
      "and closure11 () (v0 : string) : (System.DateTime -> string) =\n",
      "    closure12(v0)\n",
      "and closure13 () (v0 : System.DateTime) : string =\n",
      "    let v1 : (string -> string) = v0.ToString\n",
      "    let v2 : string = \"yyyy-MM-ddTHH-mm-ss.fff\"\n",
      "    v1 v2\n",
      "let v0 : (System.Guid -> (System.DateTime -> System.Guid)) = closure0()\n",
      "let date_time_guid_from_date_time x = v0 x\n",
      "let v1 : (System.Guid -> System.DateTime) = closure2()\n",
      "let date_time_from_guid x = v1 x\n",
      "let v2 : (System.Guid -> (int64 -> System.Guid)) = closure6()\n",
      "let timestamp_guid_from_timestamp x = v2 x\n",
      "let v3 : (System.Guid -> int64) = closure8()\n",
      "let timestamp_from_guid x = v3 x\n",
      "let v4 : (System.DateTime -> System.Guid) = closure9()\n",
      "let new_guid_from_date_time x = v4 x\n",
      "let v5 : (int64 -> System.Guid) = closure10()\n",
      "let new_guid_from_timestamp x = v5 x\n",
      "let v6 : (string -> (System.DateTime -> string)) = closure11()\n",
      "let format x = v6 x\n",
      "let v7 : (System.DateTime -> string) = closure13()\n",
      "let format_iso8601 x = v7 x\n",
      "()\n",
      "\n"
     ]
    }
   ],
   "source": [
    "inl main () =\n",
    "    $\"let date_time_guid_from_date_time x = !date_time_guid_from_date_time x\" : ()\n",
    "    $\"let date_time_from_guid x = !date_time_from_guid x\" : ()\n",
    "    $\"let timestamp_guid_from_timestamp x = !timestamp_guid_from_timestamp x\" : ()\n",
    "    $\"let timestamp_from_guid x = !timestamp_from_guid x\" : ()\n",
    "    $\"let new_guid_from_date_time x = !new_guid_from_date_time x\" : ()\n",
    "    $\"let new_guid_from_timestamp x = !new_guid_from_timestamp x\" : ()\n",
    "    $\"let format x = !format x\" : ()\n",
    "    $\"let format_iso8601 x = !format_iso8601 x\" : ()"
   ]
  }
 ],
 "metadata": {},
 "nbformat": 4,
 "nbformat_minor": 5
}