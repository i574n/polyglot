{
 "cells": [
  {
   "cell_type": "markdown",
   "metadata": {},
   "source": [
    "# date_time"
   ]
  },
  {
   "cell_type": "code",
   "execution_count": null,
   "metadata": {
    "dotnet_interactive": {
     "language": "spiral"
    },
    "polyglot_notebook": {
     "kernelName": "spiral"
    }
   },
   "outputs": [
    {
     "name": "stdout",
     "output_type": "stream",
     "text": [
      "()\n",
      "\n"
     ]
    }
   ],
   "source": [
    "open rust_operators\n",
    "open sm'_operators"
   ]
  },
  {
   "cell_type": "code",
   "execution_count": null,
   "metadata": {
    "dotnet_interactive": {
     "language": "spiral"
    },
    "polyglot_notebook": {
     "kernelName": "spiral"
    }
   },
   "outputs": [
    {
     "name": "stdout",
     "output_type": "stream",
     "text": [
      "()\n",
      "\n"
     ]
    }
   ],
   "source": [
    "//// test\n",
    "\n",
    "open testing"
   ]
  },
  {
   "cell_type": "markdown",
   "metadata": {},
   "source": [
    "## types"
   ]
  },
  {
   "cell_type": "code",
   "execution_count": null,
   "metadata": {
    "dotnet_interactive": {
     "language": "spiral"
    },
    "polyglot_notebook": {
     "kernelName": "spiral"
    }
   },
   "outputs": [
    {
     "name": "stdout",
     "output_type": "stream",
     "text": [
      "()\n",
      "\n"
     ]
    }
   ],
   "source": [
    "inl types () =\n",
    "    global \"#if FABLE_COMPILER\\n[<Fable.Core.Erase; Fable.Core.Emit(\\\"chrono::DateTime<$0>\\\")>]\\n#endif\\ntype chrono_DateTime<'T> = class end\"\n",
    "    global \"#if FABLE_COMPILER\\n[<Fable.Core.Erase; Fable.Core.Emit(\\\"chrono::Local\\\")>]\\n#endif\\ntype chrono_Local = class end\"\n",
    "    global \"#if FABLE_COMPILER\\n[<Fable.Core.Erase; Fable.Core.Emit(\\\"chrono::NaiveDateTime\\\")>]\\n#endif\\ntype chrono_NaiveDateTime = class end\"\n",
    "    global \"#if FABLE_COMPILER\\n[<Fable.Core.Erase; Fable.Core.Emit(\\\"chrono::Utc\\\")>]\\n#endif\\ntype chrono_Utc = class end\"\n",
    "    global \"#if FABLE_COMPILER\\n[<Fable.Core.Erase; Fable.Core.Emit(\\\"std::time::Duration\\\")>]\\n#endif\\ntype std_time_Duration = class end\""
   ]
  },
  {
   "cell_type": "code",
   "execution_count": null,
   "metadata": {
    "dotnet_interactive": {
     "language": "spiral"
    },
    "polyglot_notebook": {
     "kernelName": "spiral"
    }
   },
   "outputs": [
    {
     "name": "stdout",
     "output_type": "stream",
     "text": [
      "()\n",
      "\n"
     ]
    }
   ],
   "source": [
    "inl types () =\n",
    "    sm'.types ()\n",
    "    types ()"
   ]
  },
  {
   "cell_type": "code",
   "execution_count": null,
   "metadata": {
    "dotnet_interactive": {
     "language": "spiral"
    },
    "polyglot_notebook": {
     "kernelName": "spiral"
    }
   },
   "outputs": [
    {
     "name": "stdout",
     "output_type": "stream",
     "text": [
      "()\n",
      "\n"
     ]
    }
   ],
   "source": [
    "nominal timestamp = i64\n",
    "nominal duration = $\"std_time_Duration\"\n",
    "nominal date_time = $\"System.DateTime\"\n",
    "nominal date_time' t = $\"chrono_DateTime<`t>\"\n",
    "nominal local = $\"chrono_Local\"\n",
    "nominal naive_date_time = $\"chrono_NaiveDateTime\"\n",
    "nominal utc = $\"chrono_Utc\""
   ]
  },
  {
   "cell_type": "markdown",
   "metadata": {},
   "source": [
    "## date_time_milliseconds"
   ]
  },
  {
   "cell_type": "code",
   "execution_count": null,
   "metadata": {
    "dotnet_interactive": {
     "language": "spiral"
    },
    "polyglot_notebook": {
     "kernelName": "spiral"
    }
   },
   "outputs": [
    {
     "name": "stdout",
     "output_type": "stream",
     "text": [
      "()\n",
      "\n"
     ]
    }
   ],
   "source": [
    "inl date_time_milliseconds\n",
    "    (year : int) (month : int) (day : int) (hour : int) (minute : int) (second : int) (millisecond : int)\n",
    "    : date_time\n",
    "    =\n",
    "    $'System.DateTime (!year, !month, !day, !hour, !minute, !second, !millisecond)'"
   ]
  },
  {
   "cell_type": "markdown",
   "metadata": {},
   "source": [
    "## date_time_utc"
   ]
  },
  {
   "cell_type": "code",
   "execution_count": null,
   "metadata": {
    "dotnet_interactive": {
     "language": "spiral"
    },
    "polyglot_notebook": {
     "kernelName": "spiral"
    }
   },
   "outputs": [
    {
     "name": "stdout",
     "output_type": "stream",
     "text": [
      "()\n",
      "\n"
     ]
    }
   ],
   "source": [
    "inl date_time_utc\n",
    "    (year : int) (month : int) (day : int) (hour : int) (minute : int) (second : int)\n",
    "    : date_time\n",
    "    =\n",
    "    $'System.DateTime (!year, !month, !day, !hour, !minute, !second, System.DateTimeKind.Utc)'"
   ]
  },
  {
   "cell_type": "markdown",
   "metadata": {},
   "source": [
    "## naive_utc"
   ]
  },
  {
   "cell_type": "code",
   "execution_count": null,
   "metadata": {
    "dotnet_interactive": {
     "language": "spiral"
    },
    "polyglot_notebook": {
     "kernelName": "spiral"
    }
   },
   "outputs": [
    {
     "name": "stdout",
     "output_type": "stream",
     "text": [
      "()\n",
      "\n"
     ]
    }
   ],
   "source": [
    "inl naive_utc (date_time : date_time' utc) : naive_date_time =\n",
    "    inl date_time = join date_time\n",
    "    !\\($'\"!date_time.naive_utc()\"')"
   ]
  },
  {
   "cell_type": "markdown",
   "metadata": {},
   "source": [
    "## to_local"
   ]
  },
  {
   "cell_type": "code",
   "execution_count": null,
   "metadata": {
    "dotnet_interactive": {
     "language": "spiral"
    },
    "polyglot_notebook": {
     "kernelName": "spiral"
    }
   },
   "outputs": [
    {
     "name": "stdout",
     "output_type": "stream",
     "text": [
      "()\n",
      "\n"
     ]
    }
   ],
   "source": [
    "inl to_local (date_time : date_time' utc) : date_time' local =\n",
    "    inl naive_date_time = date_time |> naive_utc\n",
    "    !\\($'\"chrono::offset::TimeZone::from_utc_datetime(&chrono::Local, &!naive_date_time)\"')"
   ]
  },
  {
   "cell_type": "markdown",
   "metadata": {},
   "source": [
    "## from_timestamp_micros"
   ]
  },
  {
   "cell_type": "code",
   "execution_count": null,
   "metadata": {
    "dotnet_interactive": {
     "language": "spiral"
    },
    "polyglot_notebook": {
     "kernelName": "spiral"
    }
   },
   "outputs": [
    {
     "name": "stdout",
     "output_type": "stream",
     "text": [
      "()\n",
      "\n"
     ]
    }
   ],
   "source": [
    "inl from_timestamp_micros forall t {number; int}. (timestamp : t) : option (date_time' utc) =\n",
    "    inl result : optionm'.option' (date_time' utc) =\n",
    "        !\\\\(timestamp, $'\"chrono::DateTime::from_timestamp_micros($0)\"')\n",
    "    result |> optionm'.unbox"
   ]
  },
  {
   "cell_type": "markdown",
   "metadata": {},
   "source": [
    "## ticks"
   ]
  },
  {
   "cell_type": "code",
   "execution_count": null,
   "metadata": {
    "dotnet_interactive": {
     "language": "spiral"
    },
    "polyglot_notebook": {
     "kernelName": "spiral"
    }
   },
   "outputs": [
    {
     "name": "stdout",
     "output_type": "stream",
     "text": [
      "()\n",
      "\n"
     ]
    }
   ],
   "source": [
    "inl ticks (date_time : date_time) : timestamp =\n",
    "    date_time |> $'_.Ticks'"
   ]
  },
  {
   "cell_type": "markdown",
   "metadata": {},
   "source": [
    "## format"
   ]
  },
  {
   "cell_type": "code",
   "execution_count": null,
   "metadata": {
    "dotnet_interactive": {
     "language": "spiral"
    },
    "polyglot_notebook": {
     "kernelName": "spiral"
    }
   },
   "outputs": [
    {
     "name": "stdout",
     "output_type": "stream",
     "text": [
      "()\n",
      "\n"
     ]
    }
   ],
   "source": [
    "inl format (format : string) (date_time : date_time) : string =\n",
    "    $'!date_time.ToString' format"
   ]
  },
  {
   "cell_type": "markdown",
   "metadata": {},
   "source": [
    "## format_iso8601"
   ]
  },
  {
   "cell_type": "code",
   "execution_count": null,
   "metadata": {
    "dotnet_interactive": {
     "language": "spiral"
    },
    "polyglot_notebook": {
     "kernelName": "spiral"
    }
   },
   "outputs": [
    {
     "name": "stdout",
     "output_type": "stream",
     "text": [
      "()\n",
      "\n"
     ]
    }
   ],
   "source": [
    "inl format_iso8601 (date_time : date_time) =\n",
    "    date_time |> format \"yyyy-MM-ddTHH-mm-ss.fff\""
   ]
  },
  {
   "cell_type": "markdown",
   "metadata": {},
   "source": [
    "## format'"
   ]
  },
  {
   "cell_type": "code",
   "execution_count": null,
   "metadata": {
    "dotnet_interactive": {
     "language": "spiral"
    },
    "polyglot_notebook": {
     "kernelName": "spiral"
    }
   },
   "outputs": [
    {
     "name": "stdout",
     "output_type": "stream",
     "text": [
      "()\n",
      "\n"
     ]
    }
   ],
   "source": [
    "inl format' (format : string) (date_time : date_time' utc) : sm'.std_string =\n",
    "    inl format = #format\n",
    "    inl date_time = join date_time\n",
    "    !\\($'\"!date_time.format(!format).to_string()\"')"
   ]
  },
  {
   "cell_type": "markdown",
   "metadata": {},
   "source": [
    "## format''"
   ]
  },
  {
   "cell_type": "code",
   "execution_count": null,
   "metadata": {
    "dotnet_interactive": {
     "language": "spiral"
    },
    "polyglot_notebook": {
     "kernelName": "spiral"
    }
   },
   "outputs": [
    {
     "name": "stdout",
     "output_type": "stream",
     "text": [
      "()\n",
      "\n"
     ]
    }
   ],
   "source": [
    "inl format'' (format : string) (date_time : date_time' _) : sm'.std_string =\n",
    "    inl format = #format\n",
    "    inl date_time = join date_time\n",
    "    !\\($'\"!date_time.format(!format).to_string()\"')"
   ]
  },
  {
   "cell_type": "markdown",
   "metadata": {},
   "source": [
    "## format_timestamp"
   ]
  },
  {
   "cell_type": "code",
   "execution_count": null,
   "metadata": {
    "dotnet_interactive": {
     "language": "spiral"
    },
    "polyglot_notebook": {
     "kernelName": "spiral"
    }
   },
   "outputs": [
    {
     "name": "stdout",
     "output_type": "stream",
     "text": [
      "()\n",
      "\n"
     ]
    }
   ],
   "source": [
    "inl format_timestamp forall t {number; int}. (timestamp : t) =\n",
    "    inl timestamp = join timestamp\n",
    "    (timestamp / 1000)\n",
    "    |> from_timestamp_micros\n",
    "    |> optionm.map fun x =>\n",
    "        x\n",
    "        |> to_local\n",
    "        |> format'' \"%Y-%m-%d %H:%M:%S\"\n",
    "        |> sm'.from_std_string\n",
    "    |> resultm.from_option"
   ]
  },
  {
   "cell_type": "markdown",
   "metadata": {},
   "source": [
    "## duration_from_millis"
   ]
  },
  {
   "cell_type": "code",
   "execution_count": null,
   "metadata": {
    "dotnet_interactive": {
     "language": "spiral"
    },
    "polyglot_notebook": {
     "kernelName": "spiral"
    }
   },
   "outputs": [
    {
     "name": "stdout",
     "output_type": "stream",
     "text": [
      "()\n",
      "\n"
     ]
    }
   ],
   "source": [
    "inl duration_from_millis (ms : u64) : duration =\n",
    "    inl ms = join ms\n",
    "    !\\($'\"std::time::Duration::from_millis(!ms)\"')"
   ]
  },
  {
   "cell_type": "markdown",
   "metadata": {},
   "source": [
    "## min_value"
   ]
  },
  {
   "cell_type": "code",
   "execution_count": null,
   "metadata": {
    "dotnet_interactive": {
     "language": "spiral"
    },
    "polyglot_notebook": {
     "kernelName": "spiral"
    }
   },
   "outputs": [
    {
     "name": "stdout",
     "output_type": "stream",
     "text": [
      "()\n",
      "\n"
     ]
    }
   ],
   "source": [
    "inl min_value () : date_time =\n",
    "    $'System.DateTime.MinValue'"
   ]
  },
  {
   "cell_type": "markdown",
   "metadata": {},
   "source": [
    "## max_value"
   ]
  },
  {
   "cell_type": "code",
   "execution_count": null,
   "metadata": {
    "dotnet_interactive": {
     "language": "spiral"
    },
    "polyglot_notebook": {
     "kernelName": "spiral"
    }
   },
   "outputs": [
    {
     "name": "stdout",
     "output_type": "stream",
     "text": [
      "()\n",
      "\n"
     ]
    }
   ],
   "source": [
    "inl max_value () : date_time =\n",
    "    $'System.DateTime.MaxValue'"
   ]
  },
  {
   "cell_type": "markdown",
   "metadata": {},
   "source": [
    "## unix_epoch"
   ]
  },
  {
   "cell_type": "code",
   "execution_count": null,
   "metadata": {
    "dotnet_interactive": {
     "language": "spiral"
    },
    "polyglot_notebook": {
     "kernelName": "spiral"
    }
   },
   "outputs": [
    {
     "name": "stdout",
     "output_type": "stream",
     "text": [
      "()\n",
      "\n"
     ]
    }
   ],
   "source": [
    "inl unix_epoch () : date_time =\n",
    "    $'System.DateTime.UnixEpoch'"
   ]
  },
  {
   "cell_type": "markdown",
   "metadata": {},
   "source": [
    "## to_universal_time"
   ]
  },
  {
   "cell_type": "code",
   "execution_count": null,
   "metadata": {
    "dotnet_interactive": {
     "language": "spiral"
    },
    "polyglot_notebook": {
     "kernelName": "spiral"
    }
   },
   "outputs": [
    {
     "name": "stdout",
     "output_type": "stream",
     "text": [
      "()\n",
      "\n"
     ]
    }
   ],
   "source": [
    "inl to_universal_time (date_time : date_time) : date_time =\n",
    "    date_time |> $'_.ToUniversalTime()'"
   ]
  },
  {
   "cell_type": "markdown",
   "metadata": {},
   "source": [
    "## date_time_kind"
   ]
  },
  {
   "cell_type": "code",
   "execution_count": null,
   "metadata": {
    "dotnet_interactive": {
     "language": "spiral"
    },
    "polyglot_notebook": {
     "kernelName": "spiral"
    }
   },
   "outputs": [
    {
     "name": "stdout",
     "output_type": "stream",
     "text": [
      "()\n",
      "\n"
     ]
    }
   ],
   "source": [
    "union date_time_kind =\n",
    "    | Unspecified\n",
    "    | Utc\n",
    "    | Local"
   ]
  },
  {
   "cell_type": "markdown",
   "metadata": {},
   "source": [
    "## specify_date_kind"
   ]
  },
  {
   "cell_type": "code",
   "execution_count": null,
   "metadata": {
    "dotnet_interactive": {
     "language": "spiral"
    },
    "polyglot_notebook": {
     "kernelName": "spiral"
    }
   },
   "outputs": [
    {
     "name": "stdout",
     "output_type": "stream",
     "text": [
      "()\n",
      "\n"
     ]
    }
   ],
   "source": [
    "inl specify_date_kind (kind : date_time_kind) (date_time : date_time) : date_time =\n",
    "    inl kind : $'System.DateTimeKind' =\n",
    "        match kind with\n",
    "        | Unspecified => $'System.DateTimeKind.Unspecified'\n",
    "        | Utc => $'System.DateTimeKind.Utc'\n",
    "        | Local => $'System.DateTimeKind.Local'\n",
    "    $'System.DateTime.SpecifyKind (!date_time, !kind)'"
   ]
  },
  {
   "cell_type": "markdown",
   "metadata": {},
   "source": [
    "## time_span"
   ]
  },
  {
   "cell_type": "code",
   "execution_count": null,
   "metadata": {
    "dotnet_interactive": {
     "language": "spiral"
    },
    "polyglot_notebook": {
     "kernelName": "spiral"
    }
   },
   "outputs": [
    {
     "name": "stdout",
     "output_type": "stream",
     "text": [
      "()\n",
      "\n"
     ]
    }
   ],
   "source": [
    "nominal time_span = $'System.TimeSpan'\n",
    "\n",
    "inl time_span x : time_span =\n",
    "    $'`time_span !x '"
   ]
  },
  {
   "cell_type": "markdown",
   "metadata": {},
   "source": [
    "## new_time_span"
   ]
  },
  {
   "cell_type": "code",
   "execution_count": null,
   "metadata": {
    "dotnet_interactive": {
     "language": "spiral"
    },
    "polyglot_notebook": {
     "kernelName": "spiral"
    }
   },
   "outputs": [
    {
     "name": "stdout",
     "output_type": "stream",
     "text": [
      "()\n",
      "\n"
     ]
    }
   ],
   "source": [
    "inl new_time_span (a : date_time) (b : date_time) : time_span =\n",
    "    $'!b - !a '"
   ]
  },
  {
   "cell_type": "markdown",
   "metadata": {},
   "source": [
    "## time_span_format"
   ]
  },
  {
   "cell_type": "code",
   "execution_count": null,
   "metadata": {
    "dotnet_interactive": {
     "language": "spiral"
    },
    "polyglot_notebook": {
     "kernelName": "spiral"
    }
   },
   "outputs": [
    {
     "name": "stdout",
     "output_type": "stream",
     "text": [
      "()\n",
      "\n"
     ]
    }
   ],
   "source": [
    "inl time_span_format (format : string) (time_span : time_span) : string =\n",
    "    $'!time_span.ToString' format"
   ]
  },
  {
   "cell_type": "markdown",
   "metadata": {},
   "source": [
    "## hours"
   ]
  },
  {
   "cell_type": "code",
   "execution_count": null,
   "metadata": {
    "dotnet_interactive": {
     "language": "spiral"
    },
    "polyglot_notebook": {
     "kernelName": "spiral"
    }
   },
   "outputs": [
    {
     "name": "stdout",
     "output_type": "stream",
     "text": [
      "()\n",
      "\n"
     ]
    }
   ],
   "source": [
    "inl hours (time_span : time_span) : i32 =\n",
    "    time_span |> $'_.Hours'"
   ]
  },
  {
   "cell_type": "markdown",
   "metadata": {},
   "source": [
    "## milliseconds"
   ]
  },
  {
   "cell_type": "code",
   "execution_count": null,
   "metadata": {
    "dotnet_interactive": {
     "language": "spiral"
    },
    "polyglot_notebook": {
     "kernelName": "spiral"
    }
   },
   "outputs": [
    {
     "name": "stdout",
     "output_type": "stream",
     "text": [
      "()\n",
      "\n"
     ]
    }
   ],
   "source": [
    "inl milliseconds (time_span : time_span) : i32 =\n",
    "    time_span |> $'_.Milliseconds'"
   ]
  },
  {
   "cell_type": "markdown",
   "metadata": {},
   "source": [
    "## minutes"
   ]
  },
  {
   "cell_type": "code",
   "execution_count": null,
   "metadata": {
    "dotnet_interactive": {
     "language": "spiral"
    },
    "polyglot_notebook": {
     "kernelName": "spiral"
    }
   },
   "outputs": [
    {
     "name": "stdout",
     "output_type": "stream",
     "text": [
      "()\n",
      "\n"
     ]
    }
   ],
   "source": [
    "inl minutes (time_span : time_span) : i32 =\n",
    "    time_span |> $'_.Minutes'"
   ]
  },
  {
   "cell_type": "markdown",
   "metadata": {},
   "source": [
    "## seconds"
   ]
  },
  {
   "cell_type": "code",
   "execution_count": null,
   "metadata": {
    "dotnet_interactive": {
     "language": "spiral"
    },
    "polyglot_notebook": {
     "kernelName": "spiral"
    }
   },
   "outputs": [
    {
     "name": "stdout",
     "output_type": "stream",
     "text": [
      "()\n",
      "\n"
     ]
    }
   ],
   "source": [
    "inl seconds (time_span : time_span) : i32 =\n",
    "    time_span |> $'_.Seconds'"
   ]
  },
  {
   "cell_type": "markdown",
   "metadata": {},
   "source": [
    "## total_seconds"
   ]
  },
  {
   "cell_type": "code",
   "execution_count": null,
   "metadata": {
    "dotnet_interactive": {
     "language": "spiral"
    },
    "polyglot_notebook": {
     "kernelName": "spiral"
    }
   },
   "outputs": [
    {
     "name": "stdout",
     "output_type": "stream",
     "text": [
      "()\n",
      "\n"
     ]
    }
   ],
   "source": [
    "inl total_seconds (time_span : time_span) : f64 =\n",
    "    time_span |> $'_.TotalSeconds'"
   ]
  },
  {
   "cell_type": "markdown",
   "metadata": {},
   "source": [
    "## time_zone_info"
   ]
  },
  {
   "cell_type": "code",
   "execution_count": null,
   "metadata": {
    "dotnet_interactive": {
     "language": "spiral"
    },
    "polyglot_notebook": {
     "kernelName": "spiral"
    }
   },
   "outputs": [
    {
     "name": "stdout",
     "output_type": "stream",
     "text": [
      "()\n",
      "\n"
     ]
    }
   ],
   "source": [
    "nominal time_zone_info = $'System.TimeZoneInfo'"
   ]
  },
  {
   "cell_type": "markdown",
   "metadata": {},
   "source": [
    "## time_zone_local"
   ]
  },
  {
   "cell_type": "code",
   "execution_count": null,
   "metadata": {
    "dotnet_interactive": {
     "language": "spiral"
    },
    "polyglot_notebook": {
     "kernelName": "spiral"
    }
   },
   "outputs": [
    {
     "name": "stdout",
     "output_type": "stream",
     "text": [
      "()\n",
      "\n"
     ]
    }
   ],
   "source": [
    "inl time_zone_local () : time_zone_info =\n",
    "    run_target function\n",
    "        | Fsharp (Native) => fun () =>\n",
    "            $'System.TimeZoneInfo.Local'\n",
    "        | Rust (Native) => fun () =>\n",
    "            open rust_operators\n",
    "            !\\($'\"0i64.into()\"')\n",
    "        | _ => fun () => null ()"
   ]
  },
  {
   "cell_type": "markdown",
   "metadata": {},
   "source": [
    "## get_utc_offset"
   ]
  },
  {
   "cell_type": "code",
   "execution_count": null,
   "metadata": {
    "dotnet_interactive": {
     "language": "spiral"
    },
    "polyglot_notebook": {
     "kernelName": "spiral"
    }
   },
   "outputs": [
    {
     "name": "stdout",
     "output_type": "stream",
     "text": [
      "()\n",
      "\n"
     ]
    }
   ],
   "source": [
    "inl get_utc_offset (time_zone_info : time_zone_info) (date_time : date_time) : time_span =\n",
    "    run_target function\n",
    "        | Fsharp (Native) => fun () =>\n",
    "            date_time |> $'_.GetUtcOffset' (time_zone_local ())\n",
    "        | _ => fun () =>\n",
    "            time_span ()"
   ]
  },
  {
   "cell_type": "markdown",
   "metadata": {},
   "source": [
    "## add_days"
   ]
  },
  {
   "cell_type": "code",
   "execution_count": null,
   "metadata": {
    "dotnet_interactive": {
     "language": "spiral"
    },
    "polyglot_notebook": {
     "kernelName": "spiral"
    }
   },
   "outputs": [
    {
     "name": "stdout",
     "output_type": "stream",
     "text": [
      "()\n",
      "\n"
     ]
    }
   ],
   "source": [
    "inl add_days (days : i32) (date_time : date_time) : date_time =\n",
    "    $'!date_time.AddDays' days"
   ]
  },
  {
   "cell_type": "markdown",
   "metadata": {},
   "source": [
    "## now"
   ]
  },
  {
   "cell_type": "code",
   "execution_count": null,
   "metadata": {
    "dotnet_interactive": {
     "language": "spiral"
    },
    "polyglot_notebook": {
     "kernelName": "spiral"
    }
   },
   "outputs": [
    {
     "name": "stdout",
     "output_type": "stream",
     "text": [
      "()\n",
      "\n"
     ]
    }
   ],
   "source": [
    "inl now () : date_time =\n",
    "    $'System.DateTime.Now'"
   ]
  },
  {
   "cell_type": "markdown",
   "metadata": {},
   "source": [
    "## utc_now"
   ]
  },
  {
   "cell_type": "code",
   "execution_count": null,
   "metadata": {
    "dotnet_interactive": {
     "language": "spiral"
    },
    "polyglot_notebook": {
     "kernelName": "spiral"
    }
   },
   "outputs": [
    {
     "name": "stdout",
     "output_type": "stream",
     "text": [
      "()\n",
      "\n"
     ]
    }
   ],
   "source": [
    "inl utc_now () : date_time =\n",
    "    $'System.DateTime.UtcNow'"
   ]
  },
  {
   "cell_type": "markdown",
   "metadata": {},
   "source": [
    "## timestamp_guid"
   ]
  },
  {
   "cell_type": "code",
   "execution_count": null,
   "metadata": {
    "dotnet_interactive": {
     "language": "spiral"
    },
    "polyglot_notebook": {
     "kernelName": "spiral"
    }
   },
   "outputs": [
    {
     "name": "stdout",
     "output_type": "stream",
     "text": [
      "()\n",
      "\n"
     ]
    }
   ],
   "source": [
    "type timestamp_guid = guid.guid"
   ]
  },
  {
   "cell_type": "markdown",
   "metadata": {},
   "source": [
    "## date_time_guid"
   ]
  },
  {
   "cell_type": "code",
   "execution_count": null,
   "metadata": {
    "dotnet_interactive": {
     "language": "spiral"
    },
    "polyglot_notebook": {
     "kernelName": "spiral"
    }
   },
   "outputs": [
    {
     "name": "stdout",
     "output_type": "stream",
     "text": [
      "()\n",
      "\n"
     ]
    }
   ],
   "source": [
    "type date_time_guid = guid.guid"
   ]
  },
  {
   "cell_type": "code",
   "execution_count": null,
   "metadata": {
    "dotnet_interactive": {
     "language": "spiral"
    },
    "polyglot_notebook": {
     "kernelName": "spiral"
    }
   },
   "outputs": [
    {
     "name": "stdout",
     "output_type": "stream",
     "text": [
      "()\n",
      "\n"
     ]
    }
   ],
   "source": [
    "//// test\n",
    "\n",
    "inl test_guid () =\n",
    "    guid.new_guid \"FEDCBA98-7654-3210-FEDC-BA9876543210\""
   ]
  },
  {
   "cell_type": "markdown",
   "metadata": {},
   "source": [
    "## date_time_guid_from_date_time"
   ]
  },
  {
   "cell_type": "code",
   "execution_count": null,
   "metadata": {
    "dotnet_interactive": {
     "language": "spiral"
    },
    "polyglot_notebook": {
     "kernelName": "spiral"
    }
   },
   "outputs": [
    {
     "name": "stdout",
     "output_type": "stream",
     "text": [
      "()\n",
      "\n"
     ]
    }
   ],
   "source": [
    "let date_time_guid_from_date_time (guid : guid.guid) (date_time : date_time) =\n",
    "    inl parse prefix time_zone : date_time_guid =\n",
    "        inl guid = guid |> sm'.obj_to_string\n",
    "        $'`date_time_guid $\"{!prefix}{!time_zone}{!guid.[!prefix.Length + !time_zone.Length..]}\"'\n",
    "    run_target function\n",
    "        | Fsharp (Native) => fun () =>\n",
    "            inl prefix = date_time |> format (join \"yyyyMMdd-HHmm-ssff-ffff-f\")\n",
    "            inl time_zone = date_time |> get_utc_offset (time_zone_local ())\n",
    "            inl time_zone_signal = (hours time_zone > 0) |> convert_i32\n",
    "            inl time_zone_value = time_zone |> time_span_format (join \"hhmm\")\n",
    "            inl time_zone = $'$\"{!time_zone_signal}{!time_zone_value}\"' : string\n",
    "            parse prefix time_zone\n",
    "        | Rust (Native) => fun () =>\n",
    "            inl epoch =\n",
    "                date_time_utc 1970 1 1 0 0 0\n",
    "                |> to_universal_time\n",
    "            inl date_time =\n",
    "                date_time\n",
    "                |> specify_date_kind Local\n",
    "                |> to_universal_time\n",
    "            inl unixticks =\n",
    "                match date_time |> ticks, epoch |> ticks with\n",
    "                | timestamp date_time, timestamp epoch => date_time - epoch\n",
    "            inl prefix =\n",
    "                unixticks / 10\n",
    "                |> from_timestamp_micros\n",
    "                |> optionm.map (\n",
    "                    to_local\n",
    "                    >> format'' \"%Y%m%d-%H%M-%S%f\"\n",
    "                    >> sm'.from_std_string\n",
    "                    >> fun s => $'$\"{!s.[0..17]}-{!s.[18..21]}-{!s.[22]}\"'\n",
    "                )\n",
    "                |> optionm'.default_value \"\"\n",
    "            inl time_zone = date_time |> get_utc_offset (time_zone_local ())\n",
    "            inl time_zone_signal = if hours time_zone > 0 then 1u8 else 0\n",
    "            inl time_zone_value = time_zone |> time_span_format \"hh:mm\"\n",
    "            inl time_zone = $'$\"{!time_zone_signal}{!time_zone_value.[0..1]}{!time_zone_value.[3..4]}\"' : string\n",
    "            parse prefix time_zone\n",
    "        | _ => fun () => null ()"
   ]
  },
  {
   "cell_type": "code",
   "execution_count": null,
   "metadata": {
    "dotnet_interactive": {
     "language": "spiral"
    },
    "polyglot_notebook": {
     "kernelName": "spiral"
    }
   },
   "outputs": [
    {
     "name": "stdout",
     "output_type": "stream",
     "text": [
      "20240515-0612-3655-5515-500000543210\n"
     ]
    }
   ],
   "source": [
    "//// test\n",
    "//// print_code=false\n",
    "\n",
    "types ()\n",
    "now () |> to_universal_time |> date_time_guid_from_date_time (test_guid ()) |> sm'.obj_to_string\n",
    "|> console.write_line"
   ]
  },
  {
   "cell_type": "code",
   "execution_count": null,
   "metadata": {
    "dotnet_interactive": {
     "language": "spiral"
    },
    "polyglot_notebook": {
     "kernelName": "spiral"
    }
   },
   "outputs": [
    {
     "data": {
      "text/plain": [
       "assert_eq' / actual: \"20240515-0612-4738-7074-000000543210\" / expected: \"20240515-0612-4738-7074-000000543210\"\n"
      ]
     },
     "metadata": {},
     "output_type": "display_data"
    }
   ],
   "source": [
    "//// test\n",
    "//// print_code=false\n",
    "///! rust -d chrono\n",
    "\n",
    "types ()\n",
    "inl suffix = test_guid () |> sm'.obj_to_string |> sm'.range (am'.End fun x => x - 6i32) (am'.End id)\n",
    "now ()\n",
    "|> to_universal_time\n",
    "|> date_time_guid_from_date_time (test_guid ())\n",
    "|> sm'.obj_to_string\n",
    "|> fun s => s |> _assert_eq' $'$\"{!s.[0..29]}{!suffix}\"'"
   ]
  },
  {
   "cell_type": "code",
   "execution_count": null,
   "metadata": {
    "dotnet_interactive": {
     "language": "spiral"
    },
    "polyglot_notebook": {
     "kernelName": "spiral"
    }
   },
   "outputs": [
    {
     "name": "stdout",
     "output_type": "stream",
     "text": [
      "assert_eq' / actual: \"00010101-0000-0000-0000-000000543210\" / expected: \"00010101-0000-0000-0000-000000543210\"\n"
     ]
    }
   ],
   "source": [
    "//// test\n",
    "//// print_code=false\n",
    "\n",
    "types ()\n",
    "inl suffix = test_guid () |> sm'.obj_to_string |> sm'.range (am'.End fun x => x - 6i32) (am'.End id)\n",
    "min_value ()\n",
    "|> specify_date_kind Local\n",
    "|> date_time_guid_from_date_time (test_guid ())\n",
    "|> sm'.obj_to_string\n",
    "|> fun s => s |> _assert_eq' $'$\"00010101-0000-0000-0000-0{!s.[25..29]}{!suffix}\"'"
   ]
  },
  {
   "cell_type": "code",
   "execution_count": null,
   "metadata": {
    "dotnet_interactive": {
     "language": "spiral"
    },
    "polyglot_notebook": {
     "kernelName": "spiral"
    }
   },
   "outputs": [
    {
     "data": {
      "text/plain": [
       "assert_eq' / actual: \"00010101-0000-0000-0000-000000543210\" / expected: \"00010101-0000-0000-0000-000000543210\"\n"
      ]
     },
     "metadata": {},
     "output_type": "display_data"
    }
   ],
   "source": [
    "//// test\n",
    "//// print_code=false\n",
    "///! rust -d chrono\n",
    "\n",
    "inl suffix = test_guid () |> sm'.obj_to_string |> sm'.range (am'.End fun x => x - 6i32) (am'.End id)\n",
    "types ()\n",
    "min_value ()\n",
    "|> specify_date_kind Local\n",
    "|> date_time_guid_from_date_time (test_guid ())\n",
    "|> sm'.obj_to_string\n",
    "|> fun s => s |> _assert_eq' $'$\"00010101-0000-0000-0000-0{!s.[25..29]}{!suffix}\"'"
   ]
  },
  {
   "cell_type": "code",
   "execution_count": null,
   "metadata": {
    "dotnet_interactive": {
     "language": "spiral"
    },
    "polyglot_notebook": {
     "kernelName": "spiral"
    }
   },
   "outputs": [
    {
     "name": "stdout",
     "output_type": "stream",
     "text": [
      "assert_eq / actual: \"99991230-2359-5999-9999-900000543210\" / expected: \"99991230-2359-5999-9999-900000543210\"\n"
     ]
    }
   ],
   "source": [
    "//// test\n",
    "//// print_code=false\n",
    "\n",
    "types ()\n",
    "inl suffix = test_guid () |> sm'.obj_to_string |> sm'.range (am'.End fun x => x - 6i32) (am'.End id)\n",
    "max_value ()\n",
    "|> specify_date_kind Utc\n",
    "|> add_days -1\n",
    "|> date_time_guid_from_date_time (test_guid ())\n",
    "|> sm'.obj_to_string\n",
    "|> fun s => s |> _assert_eq $'$\"99991230-2359-5999-9999-9{!s.[25..29]}{!suffix}\"'"
   ]
  },
  {
   "cell_type": "code",
   "execution_count": null,
   "metadata": {
    "dotnet_interactive": {
     "language": "spiral"
    },
    "polyglot_notebook": {
     "kernelName": "spiral"
    }
   },
   "outputs": [
    {
     "data": {
      "text/plain": [
       "assert_eq / actual: \"99991230-2359-5999-9999-000000543210\" / expected: \"99991230-2359-5999-9999-000000543210\"\n"
      ]
     },
     "metadata": {},
     "output_type": "display_data"
    }
   ],
   "source": [
    "//// test\n",
    "//// print_code=false\n",
    "///! rust -d chrono\n",
    "\n",
    "types ()\n",
    "inl suffix = test_guid () |> sm'.obj_to_string |> sm'.range (am'.End fun x => x - 6i32) (am'.End id)\n",
    "max_value ()\n",
    "|> specify_date_kind Utc\n",
    "|> add_days -1\n",
    "|> date_time_guid_from_date_time (test_guid ())\n",
    "|> sm'.obj_to_string\n",
    "|> fun s => s |> _assert_eq $'$\"99991230-2359-5999-9999-0{!s.[25..29]}{!suffix}\"'"
   ]
  },
  {
   "cell_type": "code",
   "execution_count": null,
   "metadata": {
    "dotnet_interactive": {
     "language": "spiral"
    },
    "polyglot_notebook": {
     "kernelName": "spiral"
    }
   },
   "outputs": [
    {
     "name": "stdout",
     "output_type": "stream",
     "text": [
      "assert_eq / actual: \"19700102-0000-0000-0000-000000543210\" / expected: \"19700102-0000-0000-0000-000000543210\"\n"
     ]
    }
   ],
   "source": [
    "//// test\n",
    "//// print_code=false\n",
    "\n",
    "inl suffix = test_guid () |> sm'.obj_to_string |> sm'.range (am'.End fun x => x - 6i32) (am'.End id)\n",
    "unix_epoch ()\n",
    "|> specify_date_kind Utc\n",
    "|> add_days 1\n",
    "|> date_time_guid_from_date_time (test_guid ())\n",
    "|> sm'.obj_to_string\n",
    "|> fun s => s |> _assert_eq $'$\"19700102-0000-0000-0000-0{!s.[25..29]}{!suffix}\"'"
   ]
  },
  {
   "cell_type": "code",
   "execution_count": null,
   "metadata": {
    "dotnet_interactive": {
     "language": "spiral"
    },
    "polyglot_notebook": {
     "kernelName": "spiral"
    }
   },
   "outputs": [
    {
     "data": {
      "text/plain": [
       "assert_eq / actual: \"19700102-0000-0000-0000-000000543210\" / expected: \"19700102-0000-0000-0000-000000543210\"\n"
      ]
     },
     "metadata": {},
     "output_type": "display_data"
    }
   ],
   "source": [
    "//// test\n",
    "//// print_code=false\n",
    "///! rust -d chrono\n",
    "\n",
    "types ()\n",
    "inl suffix = test_guid () |> sm'.obj_to_string |> sm'.range (am'.End fun x => x - 6i32) (am'.End id)\n",
    "unix_epoch ()\n",
    "|> specify_date_kind Utc\n",
    "|> add_days 1\n",
    "|> date_time_guid_from_date_time (test_guid ())\n",
    "|> sm'.obj_to_string\n",
    "|> fun s => s |> _assert_eq $'$\"19700102-0000-0000-0000-0{!s.[25..29]}{!suffix}\"'"
   ]
  },
  {
   "cell_type": "markdown",
   "metadata": {},
   "source": [
    "## date_time_from_guid"
   ]
  },
  {
   "cell_type": "code",
   "execution_count": null,
   "metadata": {
    "dotnet_interactive": {
     "language": "spiral"
    },
    "polyglot_notebook": {
     "kernelName": "spiral"
    }
   },
   "outputs": [
    {
     "name": "stdout",
     "output_type": "stream",
     "text": [
      "()\n",
      "\n"
     ]
    }
   ],
   "source": [
    "inl date_time_from_guid (date_time_guid : date_time_guid) =\n",
    "    inl date_time_guid = date_time_guid |> sm'.obj_to_string\n",
    "    inl sm'_replace = join sm'.replace\n",
    "    run_target function\n",
    "        | Rust _ => fun () =>\n",
    "            $'System.DateTime.Parse (!date_time_guid.[..24] |> !sm'_replace \"-\" \"\")' : date_time\n",
    "        | _ => fun () => $'System.DateTime.ParseExact (!date_time_guid.[..24] |> !sm'_replace \"-\" \"\", \"yyyyMMddHHmmssfffffff\", null)' : date_time"
   ]
  },
  {
   "cell_type": "code",
   "execution_count": null,
   "metadata": {
    "dotnet_interactive": {
     "language": "spiral"
    },
    "polyglot_notebook": {
     "kernelName": "spiral"
    }
   },
   "outputs": [
    {
     "name": "stdout",
     "output_type": "stream",
     "text": [
      "let rec closure2 (v0 : string, v1 : string) (v2 : string) : string =\n",
      "    let v3 : string = v2.Replace (v0, v1)\n",
      "    v3\n",
      "and closure1 (v0 : string) (v1 : string) : (string -> string) =\n",
      "    closure2(v0, v1)\n",
      "and closure0 () (v0 : string) : (string -> (string -> string)) =\n",
      "    closure1(v0)\n",
      "and method1 () : (string -> (string -> (string -> string))) =\n",
      "    closure0()\n",
      "and method2 (v0 : bool) : bool =\n",
      "    v0\n",
      "and method0 () : unit =\n",
      "    let v0 : string = \"00010101-0000-0000-0000-0a9876543210\"\n",
      "    let v1 : System.Guid = System.Guid v0 \n",
      "    let v2 : (System.Guid -> string) = _.ToString()\n",
      "    let v3 : string = v2 v1\n",
      "    let v4 : (string -> (string -> (string -> string))) = method1()\n",
      "    let v5 : bool = true\n",
      "    let mutable _v5 : System.DateTime option = None \n",
      "    \n",
      "#if FABLE_COMPILER || WASM || CONTRACT\n",
      "    \n",
      "#if FABLE_COMPILER_RUST && !WASM && !CONTRACT\n",
      "    let v6 : System.DateTime = System.DateTime.Parse (v3.[..24] |> v4 \"-\" \"\")\n",
      "    v6 \n",
      "    #endif\n",
      "#if FABLE_COMPILER_RUST && WASM\n",
      "    let v7 : System.DateTime = System.DateTime.Parse (v3.[..24] |> v4 \"-\" \"\")\n",
      "    v7 \n",
      "    #endif\n",
      "#if FABLE_COMPILER_RUST && CONTRACT\n",
      "    let v8 : System.DateTime = System.DateTime.Parse (v3.[..24] |> v4 \"-\" \"\")\n",
      "    v8 \n",
      "    #endif\n",
      "#if FABLE_COMPILER_TYPESCRIPT\n",
      "    let v9 : System.DateTime = System.DateTime.ParseExact (v3.[..24] |> v4 \"-\" \"\", \"yyyyMMddHHmmssfffffff\", null)\n",
      "    v9 \n",
      "    #endif\n",
      "#if FABLE_COMPILER_PYTHON\n",
      "    let v10 : System.DateTime = System.DateTime.ParseExact (v3.[..24] |> v4 \"-\" \"\", \"yyyyMMddHHmmssfffffff\", null)\n",
      "    v10 \n",
      "    #endif\n",
      "#else\n",
      "    let v11 : System.DateTime = System.DateTime.ParseExact (v3.[..24] |> v4 \"-\" \"\", \"yyyyMMddHHmmssfffffff\", null)\n",
      "    v11 \n",
      "    #endif\n",
      "    |> fun x -> _v5 <- Some x\n",
      "    let v12 : System.DateTime = _v5.Value\n",
      "    let v13 : System.DateTime = System.DateTime.MinValue\n",
      "    let v14 : bool = v12 = v13\n",
      "    let v16 : bool =\n",
      "        if v14 then\n",
      "            true\n",
      "        else\n",
      "            method2(v14)\n",
      "    let v17 : string = \"assert_eq'\"\n",
      "    let v18 : string = $\"{v17} / actual: %A{v12} / expected: %A{v13}\"\n",
      "    System.Console.WriteLine v18\n",
      "    let v19 : bool = v16 = false\n",
      "    if v19 then\n",
      "        failwith<unit> v18\n",
      "method0()\n",
      "\n",
      "assert_eq' / actual: 01/01/0001 00:00:00 / expected: 01/01/0001 00:00:00\n"
     ]
    }
   ],
   "source": [
    "//// test\n",
    "\n",
    "date_time_from_guid (guid.new_guid \"00010101-0000-0000-0000-0a9876543210\")\n",
    "|> _assert_eq' (min_value ())"
   ]
  },
  {
   "cell_type": "code",
   "execution_count": null,
   "metadata": {
    "dotnet_interactive": {
     "language": "spiral"
    },
    "polyglot_notebook": {
     "kernelName": "spiral"
    }
   },
   "outputs": [
    {
     "name": "stdout",
     "output_type": "stream",
     "text": [
      "let rec closure0 () () : System.Guid =\n",
      "    let v0 : string = \"FEDCBA98-7654-3210-FEDC-BA9876543210\"\n",
      "    let v1 : System.Guid = System.Guid v0 \n",
      "    v1\n",
      "and closure3 (v0 : string, v1 : string) (v2 : string) : string =\n",
      "    let v3 : string = v2.Replace (v0, v1)\n",
      "    v3\n",
      "and closure2 (v0 : string) (v1 : string) : (string -> string) =\n",
      "    closure3(v0, v1)\n",
      "and closure1 () (v0 : string) : (string -> (string -> string)) =\n",
      "    closure2(v0)\n",
      "and method1 () : (string -> (string -> (string -> string))) =\n",
      "    closure1()\n",
      "and method2 (v0 : bool) : bool =\n",
      "    v0\n",
      "and method0 () : unit =\n",
      "    let v0 : (unit -> System.Guid) = closure0()\n",
      "    let v1 : string = $\"99991231-2359-5999-9999-9{(v0 () |> string).[^10..]}\"\n",
      "    let v2 : System.Guid = System.Guid v1 \n",
      "    let v3 : (System.Guid -> string) = _.ToString()\n",
      "    let v4 : string = v3 v2\n",
      "    let v5 : (string -> (string -> (string -> string))) = method1()\n",
      "    let v6 : bool = true\n",
      "    let mutable _v6 : System.DateTime option = None \n",
      "    \n",
      "#if FABLE_COMPILER || WASM || CONTRACT\n",
      "    \n",
      "#if FABLE_COMPILER_RUST && !WASM && !CONTRACT\n",
      "    let v7 : System.DateTime = System.DateTime.Parse (v4.[..24] |> v5 \"-\" \"\")\n",
      "    v7 \n",
      "    #endif\n",
      "#if FABLE_COMPILER_RUST && WASM\n",
      "    let v8 : System.DateTime = System.DateTime.Parse (v4.[..24] |> v5 \"-\" \"\")\n",
      "    v8 \n",
      "    #endif\n",
      "#if FABLE_COMPILER_RUST && CONTRACT\n",
      "    let v9 : System.DateTime = System.DateTime.Parse (v4.[..24] |> v5 \"-\" \"\")\n",
      "    v9 \n",
      "    #endif\n",
      "#if FABLE_COMPILER_TYPESCRIPT\n",
      "    let v10 : System.DateTime = System.DateTime.ParseExact (v4.[..24] |> v5 \"-\" \"\", \"yyyyMMddHHmmssfffffff\", null)\n",
      "    v10 \n",
      "    #endif\n",
      "#if FABLE_COMPILER_PYTHON\n",
      "    let v11 : System.DateTime = System.DateTime.ParseExact (v4.[..24] |> v5 \"-\" \"\", \"yyyyMMddHHmmssfffffff\", null)\n",
      "    v11 \n",
      "    #endif\n",
      "#else\n",
      "    let v12 : System.DateTime = System.DateTime.ParseExact (v4.[..24] |> v5 \"-\" \"\", \"yyyyMMddHHmmssfffffff\", null)\n",
      "    v12 \n",
      "    #endif\n",
      "    |> fun x -> _v6 <- Some x\n",
      "    let v13 : System.DateTime = _v6.Value\n",
      "    let v14 : System.DateTime = System.DateTime.MaxValue\n",
      "    let v15 : bool = v13 = v14\n",
      "    let v17 : bool =\n",
      "        if v15 then\n",
      "            true\n",
      "        else\n",
      "            method2(v15)\n",
      "    let v18 : string = \"assert_eq'\"\n",
      "    let v19 : string = $\"{v18} / actual: %A{v13} / expected: %A{v14}\"\n",
      "    System.Console.WriteLine v19\n",
      "    let v20 : bool = v17 = false\n",
      "    if v20 then\n",
      "        failwith<unit> v19\n",
      "method0()\n",
      "\n",
      "assert_eq' / actual: 12/31/9999 23:59:59 / expected: 12/31/9999 23:59:59\n"
     ]
    }
   ],
   "source": [
    "//// test\n",
    "\n",
    "date_time_from_guid (guid.new_guid $'$\"99991231-2359-5999-9999-9{(!test_guid () |> string).[^10..]}\"')\n",
    "|> _assert_eq' (max_value ())"
   ]
  },
  {
   "cell_type": "code",
   "execution_count": null,
   "metadata": {
    "dotnet_interactive": {
     "language": "spiral"
    },
    "polyglot_notebook": {
     "kernelName": "spiral"
    }
   },
   "outputs": [
    {
     "name": "stdout",
     "output_type": "stream",
     "text": [
      "let rec closure0 () () : System.Guid =\n",
      "    let v0 : string = \"FEDCBA98-7654-3210-FEDC-BA9876543210\"\n",
      "    let v1 : System.Guid = System.Guid v0 \n",
      "    v1\n",
      "and closure3 (v0 : string, v1 : string) (v2 : string) : string =\n",
      "    let v3 : string = v2.Replace (v0, v1)\n",
      "    v3\n",
      "and closure2 (v0 : string) (v1 : string) : (string -> string) =\n",
      "    closure3(v0, v1)\n",
      "and closure1 () (v0 : string) : (string -> (string -> string)) =\n",
      "    closure2(v0)\n",
      "and method1 () : (string -> (string -> (string -> string))) =\n",
      "    closure1()\n",
      "and method2 (v0 : bool) : bool =\n",
      "    v0\n",
      "and method0 () : unit =\n",
      "    let v0 : (unit -> System.Guid) = closure0()\n",
      "    let v1 : string = $\"19700101-0000-0000-0000-0{(v0 () |> string).[^10..]}\"\n",
      "    let v2 : System.Guid = System.Guid v1 \n",
      "    let v3 : (System.Guid -> string) = _.ToString()\n",
      "    let v4 : string = v3 v2\n",
      "    let v5 : (string -> (string -> (string -> string))) = method1()\n",
      "    let v6 : bool = true\n",
      "    let mutable _v6 : System.DateTime option = None \n",
      "    \n",
      "#if FABLE_COMPILER || WASM || CONTRACT\n",
      "    \n",
      "#if FABLE_COMPILER_RUST && !WASM && !CONTRACT\n",
      "    let v7 : System.DateTime = System.DateTime.Parse (v4.[..24] |> v5 \"-\" \"\")\n",
      "    v7 \n",
      "    #endif\n",
      "#if FABLE_COMPILER_RUST && WASM\n",
      "    let v8 : System.DateTime = System.DateTime.Parse (v4.[..24] |> v5 \"-\" \"\")\n",
      "    v8 \n",
      "    #endif\n",
      "#if FABLE_COMPILER_RUST && CONTRACT\n",
      "    let v9 : System.DateTime = System.DateTime.Parse (v4.[..24] |> v5 \"-\" \"\")\n",
      "    v9 \n",
      "    #endif\n",
      "#if FABLE_COMPILER_TYPESCRIPT\n",
      "    let v10 : System.DateTime = System.DateTime.ParseExact (v4.[..24] |> v5 \"-\" \"\", \"yyyyMMddHHmmssfffffff\", null)\n",
      "    v10 \n",
      "    #endif\n",
      "#if FABLE_COMPILER_PYTHON\n",
      "    let v11 : System.DateTime = System.DateTime.ParseExact (v4.[..24] |> v5 \"-\" \"\", \"yyyyMMddHHmmssfffffff\", null)\n",
      "    v11 \n",
      "    #endif\n",
      "#else\n",
      "    let v12 : System.DateTime = System.DateTime.ParseExact (v4.[..24] |> v5 \"-\" \"\", \"yyyyMMddHHmmssfffffff\", null)\n",
      "    v12 \n",
      "    #endif\n",
      "    |> fun x -> _v6 <- Some x\n",
      "    let v13 : System.DateTime = _v6.Value\n",
      "    let v14 : System.DateTime = System.DateTime.UnixEpoch\n",
      "    let v15 : bool = v13 = v14\n",
      "    let v17 : bool =\n",
      "        if v15 then\n",
      "            true\n",
      "        else\n",
      "            method2(v15)\n",
      "    let v18 : string = \"assert_eq'\"\n",
      "    let v19 : string = $\"{v18} / actual: %A{v13} / expected: %A{v14}\"\n",
      "    System.Console.WriteLine v19\n",
      "    let v20 : bool = v17 = false\n",
      "    if v20 then\n",
      "        failwith<unit> v19\n",
      "method0()\n",
      "\n",
      "assert_eq' / actual: 01/01/1970 00:00:00 / expected: 01/01/1970 00:00:00\n"
     ]
    }
   ],
   "source": [
    "//// test\n",
    "\n",
    "date_time_from_guid (guid.new_guid $'$\"19700101-0000-0000-0000-0{(!test_guid () |> string).[^10..]}\"')\n",
    "|> _assert_eq' $'System.DateTime.UnixEpoch'"
   ]
  },
  {
   "cell_type": "markdown",
   "metadata": {},
   "source": [
    "## timestamp_guid_from_timestamp"
   ]
  },
  {
   "cell_type": "code",
   "execution_count": null,
   "metadata": {
    "dotnet_interactive": {
     "language": "spiral"
    },
    "polyglot_notebook": {
     "kernelName": "spiral"
    }
   },
   "outputs": [
    {
     "name": "stdout",
     "output_type": "stream",
     "text": [
      "()\n",
      "\n"
     ]
    }
   ],
   "source": [
    "inl timestamp_guid_from_timestamp (guid : guid.guid) (timestamp : timestamp) : timestamp_guid =\n",
    "    inl guid = guid |> sm'.obj_to_string\n",
    "    inl timestamp = timestamp |> sm'.obj_to_string |> sm'.pad_left 18i32 '0'\n",
    "    $'`timestamp_guid $\"{!timestamp.[0..7]}-{!timestamp.[8..11]}-{!timestamp.[12..15]}-{!timestamp.[16..17]}{!guid.[21..]}\"'"
   ]
  },
  {
   "cell_type": "code",
   "execution_count": null,
   "metadata": {
    "dotnet_interactive": {
     "language": "spiral"
    },
    "polyglot_notebook": {
     "kernelName": "spiral"
    }
   },
   "outputs": [
    {
     "name": "stdout",
     "output_type": "stream",
     "text": [
      "let rec method1 (v0 : bool) : bool =\n",
      "    v0\n",
      "and method0 () : unit =\n",
      "    let v0 : string = \"FEDCBA98-7654-3210-FEDC-BA9876543210\"\n",
      "    let v1 : System.Guid = System.Guid v0 \n",
      "    let v2 : (System.Guid -> string) = _.ToString()\n",
      "    let v3 : string = v2 v1\n",
      "    let v4 : (int64 -> string) = _.ToString()\n",
      "    let v5 : string = v4 0L\n",
      "    let v6 : string = v5.PadLeft (18, '0')\n",
      "    let v7 : System.Guid = System.Guid $\"{v6.[0..7]}-{v6.[8..11]}-{v6.[12..15]}-{v6.[16..17]}{v3.[21..]}\"\n",
      "    let v8 : string = \"00000000-0000-0000-00dc-ba9876543210\"\n",
      "    let v9 : System.Guid = System.Guid v8 \n",
      "    let v10 : bool = v7 = v9\n",
      "    let v12 : bool =\n",
      "        if v10 then\n",
      "            true\n",
      "        else\n",
      "            method1(v10)\n",
      "    let v13 : string = \"assert_eq'\"\n",
      "    let v14 : string = $\"{v13} / actual: %A{v7} / expected: %A{v9}\"\n",
      "    System.Console.WriteLine v14\n",
      "    let v15 : bool = v12 = false\n",
      "    if v15 then\n",
      "        failwith<unit> v14\n",
      "method0()\n",
      "\n",
      "assert_eq' / actual: 00000000-0000-0000-00dc-ba9876543210 / expected: 00000000-0000-0000-00dc-ba9876543210\n"
     ]
    }
   ],
   "source": [
    "//// test\n",
    "\n",
    "timestamp_guid_from_timestamp (test_guid ()) (timestamp 0i64)\n",
    "|> _assert_eq' (guid.new_guid \"00000000-0000-0000-00dc-ba9876543210\")"
   ]
  },
  {
   "cell_type": "code",
   "execution_count": null,
   "metadata": {
    "dotnet_interactive": {
     "language": "spiral"
    },
    "polyglot_notebook": {
     "kernelName": "spiral"
    }
   },
   "outputs": [
    {
     "name": "stdout",
     "output_type": "stream",
     "text": [
      "let rec closure0 () () : System.Guid =\n",
      "    let v0 : string = \"FEDCBA98-7654-3210-FEDC-BA9876543210\"\n",
      "    let v1 : System.Guid = System.Guid v0 \n",
      "    v1\n",
      "and method1 (v0 : bool) : bool =\n",
      "    v0\n",
      "and method0 () : unit =\n",
      "    let v0 : string = \"FEDCBA98-7654-3210-FEDC-BA9876543210\"\n",
      "    let v1 : System.Guid = System.Guid v0 \n",
      "    let v2 : (System.Guid -> string) = _.ToString()\n",
      "    let v3 : string = v2 v1\n",
      "    let v4 : (int64 -> string) = _.ToString()\n",
      "    let v5 : string = v4 999999999999999999L\n",
      "    let v6 : string = v5.PadLeft (18, '0')\n",
      "    let v7 : System.Guid = System.Guid $\"{v6.[0..7]}-{v6.[8..11]}-{v6.[12..15]}-{v6.[16..17]}{v3.[21..]}\"\n",
      "    let v8 : (unit -> System.Guid) = closure0()\n",
      "    let v9 : string = $\"99999999-9999-9999-99dc-b{(v8 () |> string).[^10..]}\"\n",
      "    let v10 : System.Guid = System.Guid v9 \n",
      "    let v11 : bool = v7 = v10\n",
      "    let v13 : bool =\n",
      "        if v11 then\n",
      "            true\n",
      "        else\n",
      "            method1(v11)\n",
      "    let v14 : string = \"assert_eq'\"\n",
      "    let v15 : string = $\"{v14} / actual: %A{v7} / expected: %A{v10}\"\n",
      "    System.Console.WriteLine v15\n",
      "    let v16 : bool = v13 = false\n",
      "    if v16 then\n",
      "        failwith<unit> v15\n",
      "method0()\n",
      "\n",
      "assert_eq' / actual: 99999999-9999-9999-99dc-ba9876543210 / expected: 99999999-9999-9999-99dc-ba9876543210\n"
     ]
    }
   ],
   "source": [
    "//// test\n",
    "\n",
    "timestamp_guid_from_timestamp (test_guid ()) (timestamp 999999999999999999i64)\n",
    "|> _assert_eq' (guid.new_guid $'$\"99999999-9999-9999-99dc-b{(!test_guid () |> string).[^10..]}\"')"
   ]
  },
  {
   "cell_type": "markdown",
   "metadata": {},
   "source": [
    "## timestamp_from_guid"
   ]
  },
  {
   "cell_type": "code",
   "execution_count": null,
   "metadata": {
    "dotnet_interactive": {
     "language": "spiral"
    },
    "polyglot_notebook": {
     "kernelName": "spiral"
    }
   },
   "outputs": [
    {
     "name": "stdout",
     "output_type": "stream",
     "text": [
      "()\n",
      "\n"
     ]
    }
   ],
   "source": [
    "inl timestamp_from_guid (guid : date_time_guid) : timestamp =\n",
    "    inl guid = guid |> sm'.obj_to_string\n",
    "    $'`i64 $\"{!guid.[0..7]}{!guid.[9..12]}{!guid.[14..17]}{!guid.[19..20]}\"'"
   ]
  },
  {
   "cell_type": "code",
   "execution_count": null,
   "metadata": {
    "dotnet_interactive": {
     "language": "spiral"
    },
    "polyglot_notebook": {
     "kernelName": "spiral"
    }
   },
   "outputs": [
    {
     "name": "stdout",
     "output_type": "stream",
     "text": [
      "let rec method1 (v0 : bool) : bool =\n",
      "    v0\n",
      "and method0 () : unit =\n",
      "    let v0 : string = \"00000000-0000-0000-00dc-ba9876543210\"\n",
      "    let v1 : System.Guid = System.Guid v0 \n",
      "    let v2 : (System.Guid -> string) = _.ToString()\n",
      "    let v3 : string = v2 v1\n",
      "    let v4 : int64 = int64 $\"{v3.[0..7]}{v3.[9..12]}{v3.[14..17]}{v3.[19..20]}\"\n",
      "    let v5 : bool = v4 = 0L\n",
      "    let v7 : bool =\n",
      "        if v5 then\n",
      "            true\n",
      "        else\n",
      "            method1(v5)\n",
      "    let v8 : string = \"assert_eq\"\n",
      "    let v9 : string = $\"{v8} / actual: %A{v4} / expected: %A{0L}\"\n",
      "    System.Console.WriteLine v9\n",
      "    let v10 : bool = v7 = false\n",
      "    if v10 then\n",
      "        failwith<unit> v9\n",
      "method0()\n",
      "\n",
      "assert_eq / actual: 0L / expected: 0L\n"
     ]
    }
   ],
   "source": [
    "//// test\n",
    "\n",
    "timestamp_from_guid (guid.new_guid \"00000000-0000-0000-00dc-ba9876543210\")\n",
    "|> _assert_eq (timestamp 0)"
   ]
  },
  {
   "cell_type": "code",
   "execution_count": null,
   "metadata": {
    "dotnet_interactive": {
     "language": "spiral"
    },
    "polyglot_notebook": {
     "kernelName": "spiral"
    }
   },
   "outputs": [
    {
     "name": "stdout",
     "output_type": "stream",
     "text": [
      "let rec closure0 () () : System.Guid =\n",
      "    let v0 : string = \"FEDCBA98-7654-3210-FEDC-BA9876543210\"\n",
      "    let v1 : System.Guid = System.Guid v0 \n",
      "    v1\n",
      "and method1 (v0 : bool) : bool =\n",
      "    v0\n",
      "and method0 () : unit =\n",
      "    let v0 : (unit -> System.Guid) = closure0()\n",
      "    let v1 : string = $\"99999999-9999-9999-99{(v0 () |> string).[^14..]}\"\n",
      "    let v2 : System.Guid = System.Guid v1 \n",
      "    let v3 : (System.Guid -> string) = _.ToString()\n",
      "    let v4 : string = v3 v2\n",
      "    let v5 : int64 = int64 $\"{v4.[0..7]}{v4.[9..12]}{v4.[14..17]}{v4.[19..20]}\"\n",
      "    let v6 : bool = v5 = 999999999999999999L\n",
      "    let v8 : bool =\n",
      "        if v6 then\n",
      "            true\n",
      "        else\n",
      "            method1(v6)\n",
      "    let v9 : string = \"assert_eq\"\n",
      "    let v10 : string = $\"{v9} / actual: %A{v5} / expected: %A{999999999999999999L}\"\n",
      "    System.Console.WriteLine v10\n",
      "    let v11 : bool = v8 = false\n",
      "    if v11 then\n",
      "        failwith<unit> v10\n",
      "method0()\n",
      "\n",
      "assert_eq / actual: 999999999999999999L / expected: 999999999999999999L\n"
     ]
    }
   ],
   "source": [
    "//// test\n",
    "\n",
    "timestamp_from_guid (guid.new_guid $'$\"99999999-9999-9999-99{(!test_guid () |> string).[^14..]}\"')\n",
    "|> _assert_eq (timestamp 999999999999999999)"
   ]
  },
  {
   "cell_type": "markdown",
   "metadata": {},
   "source": [
    "## new_guid_from_date_time"
   ]
  },
  {
   "cell_type": "code",
   "execution_count": null,
   "metadata": {
    "dotnet_interactive": {
     "language": "spiral"
    },
    "polyglot_notebook": {
     "kernelName": "spiral"
    }
   },
   "outputs": [
    {
     "name": "stdout",
     "output_type": "stream",
     "text": [
      "()\n",
      "\n"
     ]
    }
   ],
   "source": [
    "inl new_guid_from_date_time (date_time : date_time) =\n",
    "    inl guid = guid.new_raw_guid ()\n",
    "    date_time_guid_from_date_time guid date_time"
   ]
  },
  {
   "cell_type": "code",
   "execution_count": null,
   "metadata": {
    "dotnet_interactive": {
     "language": "spiral"
    },
    "polyglot_notebook": {
     "kernelName": "spiral"
    }
   },
   "outputs": [
    {
     "name": "stdout",
     "output_type": "stream",
     "text": [
      "assert_eq / actual: 0 / expected: 0\n"
     ]
    }
   ],
   "source": [
    "//// test\n",
    "//// print_code=false\n",
    "\n",
    "utc_now ()\n",
    "|> new_guid_from_date_time\n",
    "|> date_time_from_guid\n",
    "|> fun date_time => new_time_span date_time (utc_now ()) |> total_seconds |> i32\n",
    "|> _assert_eq 0"
   ]
  },
  {
   "cell_type": "markdown",
   "metadata": {},
   "source": [
    "## new_guid_from_timestamp"
   ]
  },
  {
   "cell_type": "code",
   "execution_count": null,
   "metadata": {
    "dotnet_interactive": {
     "language": "spiral"
    },
    "polyglot_notebook": {
     "kernelName": "spiral"
    }
   },
   "outputs": [
    {
     "name": "stdout",
     "output_type": "stream",
     "text": [
      "()\n",
      "\n"
     ]
    }
   ],
   "source": [
    "inl new_guid_from_timestamp (timestamp : timestamp) =\n",
    "    inl guid = guid.new_raw_guid ()\n",
    "    timestamp_guid_from_timestamp guid timestamp"
   ]
  },
  {
   "cell_type": "code",
   "execution_count": null,
   "metadata": {
    "dotnet_interactive": {
     "language": "spiral"
    },
    "polyglot_notebook": {
     "kernelName": "spiral"
    }
   },
   "outputs": [
    {
     "name": "stdout",
     "output_type": "stream",
     "text": [
      "let rec method1 (v0 : bool) : bool =\n",
      "    v0\n",
      "and method0 () : unit =\n",
      "    let v0 : System.DateTime = System.DateTime.UtcNow\n",
      "    let v1 : (System.DateTime -> int64) = _.Ticks\n",
      "    let v2 : int64 = v1 v0\n",
      "    let v3 : System.Guid = System.Guid.NewGuid ()\n",
      "    let v4 : (System.Guid -> string) = _.ToString()\n",
      "    let v5 : string = v4 v3\n",
      "    let v6 : (int64 -> string) = _.ToString()\n",
      "    let v7 : string = v6 v2\n",
      "    let v8 : string = v7.PadLeft (18, '0')\n",
      "    let v9 : System.Guid = System.Guid $\"{v8.[0..7]}-{v8.[8..11]}-{v8.[12..15]}-{v8.[16..17]}{v5.[21..]}\"\n",
      "    let v10 : (System.Guid -> string) = _.ToString()\n",
      "    let v11 : string = v10 v9\n",
      "    let v12 : int64 = int64 $\"{v11.[0..7]}{v11.[9..12]}{v11.[14..17]}{v11.[19..20]}\"\n",
      "    let v13 : System.DateTime = System.DateTime.UtcNow\n",
      "    let v14 : (System.DateTime -> int64) = _.Ticks\n",
      "    let v15 : int64 = v14 v13\n",
      "    let v16 : int64 = v12 - v15\n",
      "    let v17 : int64 = v16 / 100000L\n",
      "    let v18 : bool = v17 = 0L\n",
      "    let v20 : bool =\n",
      "        if v18 then\n",
      "            true\n",
      "        else\n",
      "            method1(v18)\n",
      "    let v21 : string = \"assert_eq\"\n",
      "    let v22 : string = $\"{v21} / actual: %A{v17} / expected: %A{0L}\"\n",
      "    System.Console.WriteLine v22\n",
      "    let v23 : bool = v20 = false\n",
      "    if v23 then\n",
      "        failwith<unit> v22\n",
      "method0()\n",
      "\n",
      "assert_eq / actual: 0L / expected: 0L\n"
     ]
    }
   ],
   "source": [
    "//// test\n",
    "\n",
    "utc_now ()\n",
    "|> ticks\n",
    "|> new_guid_from_timestamp\n",
    "|> timestamp_from_guid\n",
    "|> fun (timestamp timestamp) => (timestamp - (utc_now () |> ticks |> fun (timestamp x) => x)) / 100000i64\n",
    "|> _assert_eq 0i64"
   ]
  },
  {
   "cell_type": "markdown",
   "metadata": {},
   "source": [
    "## main"
   ]
  },
  {
   "cell_type": "code",
   "execution_count": null,
   "metadata": {
    "dotnet_interactive": {
     "language": "spiral"
    },
    "polyglot_notebook": {
     "kernelName": "spiral"
    }
   },
   "outputs": [
    {
     "name": "stdout",
     "output_type": "stream",
     "text": [
      "#if FABLE_COMPILER\n",
      "[<Fable.Core.Erase; Fable.Core.Emit(\"_\")>]\n",
      "#endif\n",
      "type Any = class end\n",
      "#if FABLE_COMPILER\n",
      "[<Fable.Core.Erase; Fable.Core.Emit(\"Func0<$0>\")>]\n",
      "#endif\n",
      "type Func0<'T> = class end\n",
      "#if FABLE_COMPILER\n",
      "[<Fable.Core.Erase; Fable.Core.Emit(\"Func1<$0, $1>\")>]\n",
      "#endif\n",
      "type Func0<'T, 'U> = class end\n",
      "#if FABLE_COMPILER\n",
      "[<Fable.Core.Erase; Fable.Core.Emit(\"Box<$0>\")>]\n",
      "#endif\n",
      "type Box<'T> = class end\n",
      "#if FABLE_COMPILER\n",
      "[<Fable.Core.Erase; Fable.Core.Emit(\"dyn $0\")>]\n",
      "#endif\n",
      "type Dyn<'T> = class end\n",
      "#if FABLE_COMPILER\n",
      "[<Fable.Core.Erase; Fable.Core.Emit(\"$0 + Send\")>]\n",
      "#endif\n",
      "type Send<'T> = class end\n",
      "#if FABLE_COMPILER\n",
      "[<Fable.Core.Erase; Fable.Core.Emit(\"Fn() -> $0\")>]\n",
      "#endif\n",
      "type Fn<'T> = class end\n",
      "#if FABLE_COMPILER\n",
      "[<Fable.Core.Erase; Fable.Core.Emit(\"Fn()\")>]\n",
      "#endif\n",
      "type FnUnit = class end\n",
      "#if FABLE_COMPILER\n",
      "[<Fable.Core.Erase; Fable.Core.Emit(\"FnOnce() -> $0\")>]\n",
      "#endif\n",
      "type FnOnce<'T> = class end\n",
      "#if FABLE_COMPILER\n",
      "[<Fable.Core.Erase; Fable.Core.Emit(\"Fn($0)\")>]\n",
      "#endif\n",
      "type ActionFn<'T> = class end\n",
      "#if FABLE_COMPILER\n",
      "[<Fable.Core.Erase; Fable.Core.Emit(\"Fn($0, $1)\")>]\n",
      "#endif\n",
      "type ActionFn2<'T, 'U> = class end\n",
      "#if FABLE_COMPILER\n",
      "[<Fable.Core.Erase; Fable.Core.Emit(\"impl $0\")>]\n",
      "#endif\n",
      "type Impl<'T> = class end\n",
      "#if FABLE_COMPILER\n",
      "[<Fable.Core.Erase; Fable.Core.Emit(\"mut $0\")>]\n",
      "#endif\n",
      "type Mut<'T> = class end\n",
      "#if FABLE_COMPILER\n",
      "[<Fable.Core.Erase; Fable.Core.Emit(\"&$0\")>]\n",
      "#endif\n",
      "type Ref<'T> = class end\n",
      "#if FABLE_COMPILER\n",
      "[<Fable.Core.Erase; Fable.Core.Emit(\"&'static $0\")>]\n",
      "#endif\n",
      "type StaticRef<'T> = class end\n",
      "#if FABLE_COMPILER\n",
      "[<Fable.Core.Erase; Fable.Core.Emit(\"MutCell<$0>\")>]\n",
      "#endif\n",
      "type MutCell<'T> = class end\n",
      "#if FABLE_COMPILER\n",
      "[<Fable.Core.Erase; Fable.Core.Emit(\"std::any::Any\")>]\n",
      "#endif\n",
      "type std_any_Any = class end\n",
      "#if FABLE_COMPILER\n",
      "[<Fable.Core.Erase; Fable.Core.Emit(\"std::borrow::Cow<$0>\")>]\n",
      "#endif\n",
      "type std_borrow_Cow<'T> = class end\n",
      "#if FABLE_COMPILER\n",
      "[<Fable.Core.Erase; Fable.Core.Emit(\"std::cell::RefCell<$0>\")>]\n",
      "#endif\n",
      "type std_cell_RefCell<'T> = class end\n",
      "#if FABLE_COMPILER\n",
      "[<Fable.Core.Erase; Fable.Core.Emit(\"std::pin::Pin<$0>\")>]\n",
      "#endif\n",
      "type std_pin_Pin<'T> = class end\n",
      "#if FABLE_COMPILER\n",
      "[<Fable.Core.Erase; Fable.Core.Emit(\"std::rc::Rc<$0>\")>]\n",
      "#endif\n",
      "type std_rc_Rc<'T> = class end\n",
      "#if FABLE_COMPILER\n",
      "[<Fable.Core.Erase; Fable.Core.Emit(\"std::rc::Weak<$0>\")>]\n",
      "#endif\n",
      "type std_rc_Weak<'T> = class end\n",
      "#if FABLE_COMPILER\n",
      "[<Fable.Core.Erase; Fable.Core.Emit(\"std::collections::HashMap<$0, $1>\")>]\n",
      "#endif\n",
      "type std_collections_HashMap<'K, 'V> = class end\n",
      "#if FABLE_COMPILER\n",
      "[<Fable.Core.Erase; Fable.Core.Emit(\"std::collections::BTreeMap<$0, $1>\")>]\n",
      "#endif\n",
      "type std_collections_BTreeMap<'K, 'V> = class end\n",
      "#if FABLE_COMPILER\n",
      "[<Fable.Core.Erase; Fable.Core.Emit(\"str\")>]\n",
      "#endif\n",
      "type Str = class end\n",
      "#if FABLE_COMPILER\n",
      "[<Fable.Core.Erase; Fable.Core.Emit(\"base64::DecodeError\")>]\n",
      "#endif\n",
      "type base64_DecodeError = class end\n",
      "#if FABLE_COMPILER\n",
      "[<Fable.Core.Erase; Fable.Core.Emit(\"borsh::io::Error\")>]\n",
      "#endif\n",
      "type borsh_io_Error = class end\n",
      "#if FABLE_COMPILER\n",
      "[<Fable.Core.Erase; Fable.Core.Emit(\"encoding_rs::Encoding\")>]\n",
      "#endif\n",
      "type encoding_rs_Encoding = class end\n",
      "#if FABLE_COMPILER\n",
      "[<Fable.Core.Erase; Fable.Core.Emit(\"js_sys::JsString\")>]\n",
      "#endif\n",
      "type js_sys_JsString = class end\n",
      "#if FABLE_COMPILER\n",
      "[<Fable.Core.Erase; Fable.Core.Emit(\"serde_json::Error\")>]\n",
      "#endif\n",
      "type serde_json_Error = class end\n",
      "#if FABLE_COMPILER\n",
      "[<Fable.Core.Erase; Fable.Core.Emit(\"serde_json::Value\")>]\n",
      "#endif\n",
      "type serde_json_Value = class end\n",
      "#if FABLE_COMPILER\n",
      "[<Fable.Core.Erase; Fable.Core.Emit(\"serde_wasm_bindgen::Error\")>]\n",
      "#endif\n",
      "type serde_wasm_bindgen_Error = class end\n",
      "#if FABLE_COMPILER\n",
      "[<Fable.Core.Erase; Fable.Core.Emit(\"std::ffi::OsStr\")>]\n",
      "#endif\n",
      "type std_ffi_OsStr = class end\n",
      "#if FABLE_COMPILER\n",
      "[<Fable.Core.Erase; Fable.Core.Emit(\"std::ffi::OsString\")>]\n",
      "#endif\n",
      "type std_ffi_OsString = class end\n",
      "#if FABLE_COMPILER\n",
      "[<Fable.Core.Erase; Fable.Core.Emit(\"std::fmt::Display<$0>\")>]\n",
      "#endif\n",
      "type std_fmt_Display<'T> = class end\n",
      "#if FABLE_COMPILER\n",
      "[<Fable.Core.Erase; Fable.Core.Emit(\"std::str::Utf8Error\")>]\n",
      "#endif\n",
      "type std_str_Utf8Error = class end\n",
      "#if FABLE_COMPILER\n",
      "[<Fable.Core.Erase; Fable.Core.Emit(\"std::string::FromUtf8Error\")>]\n",
      "#endif\n",
      "type std_string_FromUtf8Error = class end\n",
      "#if FABLE_COMPILER\n",
      "[<Fable.Core.Erase; Fable.Core.Emit(\"std::string::String\")>]\n",
      "#endif\n",
      "type std_string_String = class end\n",
      "#if FABLE_COMPILER\n",
      "[<Fable.Core.Erase; Fable.Core.Emit(\"std::slice::Windows<$0>\")>]\n",
      "#endif\n",
      "type std_slice_Windows<'T> = class end\n",
      "#if FABLE_COMPILER\n",
      "[<Fable.Core.Erase; Fable.Core.Emit(\"regex::Regex\")>]\n",
      "#endif\n",
      "type regex_Regex = class end\n",
      "#if FABLE_COMPILER\n",
      "[<Fable.Core.Erase; Fable.Core.Emit(\"regex::Captures\")>]\n",
      "#endif\n",
      "type regex_Captures = class end\n",
      "#if FABLE_COMPILER\n",
      "[<Fable.Core.Erase; Fable.Core.Emit(\"regex::CaptureMatches\")>]\n",
      "#endif\n",
      "type regex_CaptureMatches = class end\n",
      "#if FABLE_COMPILER\n",
      "[<Fable.Core.Erase; Fable.Core.Emit(\"regex::Error\")>]\n",
      "#endif\n",
      "type regex_Error = class end\n",
      "#if FABLE_COMPILER\n",
      "[<Fable.Core.Erase; Fable.Core.Emit(\"chrono::DateTime<$0>\")>]\n",
      "#endif\n",
      "type chrono_DateTime<'T> = class end\n",
      "#if FABLE_COMPILER\n",
      "[<Fable.Core.Erase; Fable.Core.Emit(\"chrono::Local\")>]\n",
      "#endif\n",
      "type chrono_Local = class end\n",
      "#if FABLE_COMPILER\n",
      "[<Fable.Core.Erase; Fable.Core.Emit(\"chrono::NaiveDateTime\")>]\n",
      "#endif\n",
      "type chrono_NaiveDateTime = class end\n",
      "#if FABLE_COMPILER\n",
      "[<Fable.Core.Erase; Fable.Core.Emit(\"chrono::Utc\")>]\n",
      "#endif\n",
      "type chrono_Utc = class end\n",
      "#if FABLE_COMPILER\n",
      "[<Fable.Core.Erase; Fable.Core.Emit(\"std::time::Duration\")>]\n",
      "#endif\n",
      "type std_time_Duration = class end\n",
      "type [<Struct>] US0 =\n",
      "    | US0_0 of f0_0 : chrono_DateTime<chrono_Utc>\n",
      "    | US0_1\n",
      "and [<Struct>] US1 =\n",
      "    | US1_0 of f0_0 : string\n",
      "    | US1_1\n",
      "let rec method1 (v0 : chrono_DateTime<chrono_Utc>) : chrono_DateTime<chrono_Utc> =\n",
      "    v0\n",
      "and method2 (v0 : chrono_DateTime<chrono_Local>) : chrono_DateTime<chrono_Local> =\n",
      "    v0\n",
      "and method3 () : string =\n",
      "    let v0 : string = \"yyyyMMdd-HHmm-ssff-ffff-f\"\n",
      "    v0\n",
      "and method4 () : string =\n",
      "    let v0 : string = \"hhmm\"\n",
      "    v0\n",
      "and method0 (v0 : System.Guid, v1 : System.DateTime) : System.Guid =\n",
      "    let v2 : bool = true\n",
      "    let mutable _v2 : System.Guid option = None \n",
      "    \n",
      "#if FABLE_COMPILER || WASM || CONTRACT\n",
      "    \n",
      "#if FABLE_COMPILER_RUST && !WASM && !CONTRACT\n",
      "    let v3 : System.DateTime = System.DateTime (1970, 1, 1, 0, 0, 0, System.DateTimeKind.Utc)\n",
      "    let v4 : (System.DateTime -> System.DateTime) = _.ToUniversalTime()\n",
      "    let v5 : System.DateTime = v4 v3\n",
      "    let v6 : System.DateTimeKind = System.DateTimeKind.Local\n",
      "    let v7 : System.DateTime = System.DateTime.SpecifyKind (v1, v6)\n",
      "    let v8 : (System.DateTime -> System.DateTime) = _.ToUniversalTime()\n",
      "    let v9 : System.DateTime = v8 v7\n",
      "    let v10 : (System.DateTime -> int64) = _.Ticks\n",
      "    let v11 : int64 = v10 v9\n",
      "    let v12 : (System.DateTime -> int64) = _.Ticks\n",
      "    let v13 : int64 = v12 v5\n",
      "    let v14 : int64 = v11 - v13\n",
      "    let v15 : int64 = v14 / 10L\n",
      "    let v16 : string = \"chrono::DateTime::from_timestamp_micros($0)\"\n",
      "    let v17 : chrono_DateTime<chrono_Utc> option = Fable.Core.RustInterop.emitRustExpr v15 v16\n",
      "    let v18 : US0 option = None\n",
      "    let _v18 = ref v18 \n",
      "    match v17 with\n",
      "    | Some x -> (\n",
      "    (fun () ->\n",
      "    (fun () ->\n",
      "    let v19 : chrono_DateTime<chrono_Utc> = x\n",
      "    let v20 : US0 = US0_0(v19)\n",
      "    v20 \n",
      "    )\n",
      "    |> fun x -> x () |> Some\n",
      "    ) () ) | None -> None\n",
      "    |> fun x -> _v18.Value <- x\n",
      "    let v21 : US0 option = _v18.Value \n",
      "    let v22 : US0 = US0_1\n",
      "    let v23 : US0 = v21 |> Option.defaultValue v22 \n",
      "    let v42 : US1 =\n",
      "        match v23 with\n",
      "        | US0_1 -> (* None *)\n",
      "            US1_1\n",
      "        | US0_0(v24) -> (* Some *)\n",
      "            let v25 : chrono_DateTime<chrono_Utc> = method1(v24)\n",
      "            let v26 : string = \"v25.naive_utc()\"\n",
      "            let v27 : chrono_NaiveDateTime = Fable.Core.RustInterop.emitRustExpr () v26\n",
      "            let v28 : string = \"chrono::offset::TimeZone::from_utc_datetime(&chrono::Local, &v27)\"\n",
      "            let v29 : chrono_DateTime<chrono_Local> = Fable.Core.RustInterop.emitRustExpr () v28\n",
      "            let v30 : string = \"%Y%m%d-%H%M-%S%f\"\n",
      "            let v31 : string = \"r#\\\"\" + v30 + \"\\\"#\"\n",
      "            let v32 : Ref<Str> = Fable.Core.RustInterop.emitRustExpr () v31\n",
      "            let v33 : chrono_DateTime<chrono_Local> = method2(v29)\n",
      "            let v34 : string = \"v33.format(v32).to_string()\"\n",
      "            let v35 : std_string_String = Fable.Core.RustInterop.emitRustExpr () v34\n",
      "            let v36 : string = \"fable_library_rust::String_::fromString($0)\"\n",
      "            let v37 : string = Fable.Core.RustInterop.emitRustExpr v35 v36\n",
      "            let v38 : string = $\"{v37.[0..17]}-{v37.[18..21]}-{v37.[22]}\"\n",
      "            US1_0(v38)\n",
      "    let v46 : string =\n",
      "        match v42 with\n",
      "        | US1_1 -> (* None *)\n",
      "            let v44 : string = \"\"\n",
      "            v44\n",
      "        | US1_0(v43) -> (* Some *)\n",
      "            v43\n",
      "    let v47 : bool = true\n",
      "    let mutable _v47 : System.TimeZoneInfo option = None \n",
      "    \n",
      "#if FABLE_COMPILER || WASM || CONTRACT\n",
      "    \n",
      "#if FABLE_COMPILER_RUST && !WASM && !CONTRACT\n",
      "    let v48 : string = \"0i64.into()\"\n",
      "    let v49 : System.TimeZoneInfo = Fable.Core.RustInterop.emitRustExpr () v48\n",
      "    v49 \n",
      "    #endif\n",
      "#if FABLE_COMPILER_RUST && WASM\n",
      "    let v50 : System.TimeZoneInfo = null |> unbox<System.TimeZoneInfo>\n",
      "    v50 \n",
      "    #endif\n",
      "#if FABLE_COMPILER_RUST && CONTRACT\n",
      "    let v51 : System.TimeZoneInfo = null |> unbox<System.TimeZoneInfo>\n",
      "    v51 \n",
      "    #endif\n",
      "#if FABLE_COMPILER_TYPESCRIPT\n",
      "    let v52 : System.TimeZoneInfo = null |> unbox<System.TimeZoneInfo>\n",
      "    v52 \n",
      "    #endif\n",
      "#if FABLE_COMPILER_PYTHON\n",
      "    let v53 : System.TimeZoneInfo = null |> unbox<System.TimeZoneInfo>\n",
      "    v53 \n",
      "    #endif\n",
      "#else\n",
      "    let v54 : System.TimeZoneInfo = System.TimeZoneInfo.Local\n",
      "    v54 \n",
      "    #endif\n",
      "    |> fun x -> _v47 <- Some x\n",
      "    let v55 : System.TimeZoneInfo = _v47.Value\n",
      "    let v56 : bool = true\n",
      "    let mutable _v56 : System.TimeSpan option = None \n",
      "    \n",
      "#if FABLE_COMPILER || WASM || CONTRACT\n",
      "    \n",
      "#if FABLE_COMPILER_RUST && !WASM && !CONTRACT\n",
      "    let v57 : System.TimeSpan = System.TimeSpan () \n",
      "    v57 \n",
      "    #endif\n",
      "#if FABLE_COMPILER_RUST && WASM\n",
      "    let v58 : System.TimeSpan = System.TimeSpan () \n",
      "    v58 \n",
      "    #endif\n",
      "#if FABLE_COMPILER_RUST && CONTRACT\n",
      "    let v59 : System.TimeSpan = System.TimeSpan () \n",
      "    v59 \n",
      "    #endif\n",
      "#if FABLE_COMPILER_TYPESCRIPT\n",
      "    let v60 : System.TimeSpan = System.TimeSpan () \n",
      "    v60 \n",
      "    #endif\n",
      "#if FABLE_COMPILER_PYTHON\n",
      "    let v61 : System.TimeSpan = System.TimeSpan () \n",
      "    v61 \n",
      "    #endif\n",
      "#else\n",
      "    let v62 : (System.TimeZoneInfo -> (System.DateTime -> System.TimeSpan)) = _.GetUtcOffset\n",
      "    let v63 : bool = true\n",
      "    let mutable _v63 : System.TimeZoneInfo option = None \n",
      "    \n",
      "#if FABLE_COMPILER || WASM || CONTRACT\n",
      "    \n",
      "#if FABLE_COMPILER_RUST && !WASM && !CONTRACT\n",
      "    let v64 : string = \"0i64.into()\"\n",
      "    let v65 : System.TimeZoneInfo = Fable.Core.RustInterop.emitRustExpr () v64\n",
      "    v65 \n",
      "    #endif\n",
      "#if FABLE_COMPILER_RUST && WASM\n",
      "    let v66 : System.TimeZoneInfo = null |> unbox<System.TimeZoneInfo>\n",
      "    v66 \n",
      "    #endif\n",
      "#if FABLE_COMPILER_RUST && CONTRACT\n",
      "    let v67 : System.TimeZoneInfo = null |> unbox<System.TimeZoneInfo>\n",
      "    v67 \n",
      "    #endif\n",
      "#if FABLE_COMPILER_TYPESCRIPT\n",
      "    let v68 : System.TimeZoneInfo = null |> unbox<System.TimeZoneInfo>\n",
      "    v68 \n",
      "    #endif\n",
      "#if FABLE_COMPILER_PYTHON\n",
      "    let v69 : System.TimeZoneInfo = null |> unbox<System.TimeZoneInfo>\n",
      "    v69 \n",
      "    #endif\n",
      "#else\n",
      "    let v70 : System.TimeZoneInfo = System.TimeZoneInfo.Local\n",
      "    v70 \n",
      "    #endif\n",
      "    |> fun x -> _v63 <- Some x\n",
      "    let v71 : System.TimeZoneInfo = _v63.Value\n",
      "    let v72 : (System.DateTime -> System.TimeSpan) = v62 v71\n",
      "    let v73 : System.TimeSpan = v72 v9\n",
      "    v73 \n",
      "    #endif\n",
      "    |> fun x -> _v56 <- Some x\n",
      "    let v74 : System.TimeSpan = _v56.Value\n",
      "    let v75 : (System.TimeSpan -> int32) = _.Hours\n",
      "    let v76 : int32 = v75 v74\n",
      "    let v77 : bool = v76 > 0\n",
      "    let v78 : uint8 =\n",
      "        if v77 then\n",
      "            1uy\n",
      "        else\n",
      "            0uy\n",
      "    let v79 : (string -> string) = v74.ToString\n",
      "    let v80 : string = \"hh:mm\"\n",
      "    let v81 : string = v79 v80\n",
      "    let v82 : string = $\"{v78}{v81.[0..1]}{v81.[3..4]}\"\n",
      "    let v83 : (System.Guid -> string) = _.ToString()\n",
      "    let v84 : string = v83 v0\n",
      "    let v85 : System.Guid = System.Guid $\"{v46}{v82}{v84.[v46.Length + v82.Length..]}\"\n",
      "    v85 \n",
      "    #endif\n",
      "#if FABLE_COMPILER_RUST && WASM\n",
      "    let v86 : System.Guid = null |> unbox<System.Guid>\n",
      "    v86 \n",
      "    #endif\n",
      "#if FABLE_COMPILER_RUST && CONTRACT\n",
      "    let v87 : System.Guid = null |> unbox<System.Guid>\n",
      "    v87 \n",
      "    #endif\n",
      "#if FABLE_COMPILER_TYPESCRIPT\n",
      "    let v88 : System.Guid = null |> unbox<System.Guid>\n",
      "    v88 \n",
      "    #endif\n",
      "#if FABLE_COMPILER_PYTHON\n",
      "    let v89 : System.Guid = null |> unbox<System.Guid>\n",
      "    v89 \n",
      "    #endif\n",
      "#else\n",
      "    let v90 : string = method3()\n",
      "    let v91 : (string -> string) = v1.ToString\n",
      "    let v92 : string = v91 v90\n",
      "    let v93 : bool = true\n",
      "    let mutable _v93 : System.TimeZoneInfo option = None \n",
      "    \n",
      "#if FABLE_COMPILER || WASM || CONTRACT\n",
      "    \n",
      "#if FABLE_COMPILER_RUST && !WASM && !CONTRACT\n",
      "    let v94 : string = \"0i64.into()\"\n",
      "    let v95 : System.TimeZoneInfo = Fable.Core.RustInterop.emitRustExpr () v94\n",
      "    v95 \n",
      "    #endif\n",
      "#if FABLE_COMPILER_RUST && WASM\n",
      "    let v96 : System.TimeZoneInfo = null |> unbox<System.TimeZoneInfo>\n",
      "    v96 \n",
      "    #endif\n",
      "#if FABLE_COMPILER_RUST && CONTRACT\n",
      "    let v97 : System.TimeZoneInfo = null |> unbox<System.TimeZoneInfo>\n",
      "    v97 \n",
      "    #endif\n",
      "#if FABLE_COMPILER_TYPESCRIPT\n",
      "    let v98 : System.TimeZoneInfo = null |> unbox<System.TimeZoneInfo>\n",
      "    v98 \n",
      "    #endif\n",
      "#if FABLE_COMPILER_PYTHON\n",
      "    let v99 : System.TimeZoneInfo = null |> unbox<System.TimeZoneInfo>\n",
      "    v99 \n",
      "    #endif\n",
      "#else\n",
      "    let v100 : System.TimeZoneInfo = System.TimeZoneInfo.Local\n",
      "    v100 \n",
      "    #endif\n",
      "    |> fun x -> _v93 <- Some x\n",
      "    let v101 : System.TimeZoneInfo = _v93.Value\n",
      "    let v102 : bool = true\n",
      "    let mutable _v102 : System.TimeSpan option = None \n",
      "    \n",
      "#if FABLE_COMPILER || WASM || CONTRACT\n",
      "    \n",
      "#if FABLE_COMPILER_RUST && !WASM && !CONTRACT\n",
      "    let v103 : System.TimeSpan = System.TimeSpan () \n",
      "    v103 \n",
      "    #endif\n",
      "#if FABLE_COMPILER_RUST && WASM\n",
      "    let v104 : System.TimeSpan = System.TimeSpan () \n",
      "    v104 \n",
      "    #endif\n",
      "#if FABLE_COMPILER_RUST && CONTRACT\n",
      "    let v105 : System.TimeSpan = System.TimeSpan () \n",
      "    v105 \n",
      "    #endif\n",
      "#if FABLE_COMPILER_TYPESCRIPT\n",
      "    let v106 : System.TimeSpan = System.TimeSpan () \n",
      "    v106 \n",
      "    #endif\n",
      "#if FABLE_COMPILER_PYTHON\n",
      "    let v107 : System.TimeSpan = System.TimeSpan () \n",
      "    v107 \n",
      "    #endif\n",
      "#else\n",
      "    let v108 : (System.TimeZoneInfo -> (System.DateTime -> System.TimeSpan)) = _.GetUtcOffset\n",
      "    let v109 : bool = true\n",
      "    let mutable _v109 : System.TimeZoneInfo option = None \n",
      "    \n",
      "#if FABLE_COMPILER || WASM || CONTRACT\n",
      "    \n",
      "#if FABLE_COMPILER_RUST && !WASM && !CONTRACT\n",
      "    let v110 : string = \"0i64.into()\"\n",
      "    let v111 : System.TimeZoneInfo = Fable.Core.RustInterop.emitRustExpr () v110\n",
      "    v111 \n",
      "    #endif\n",
      "#if FABLE_COMPILER_RUST && WASM\n",
      "    let v112 : System.TimeZoneInfo = null |> unbox<System.TimeZoneInfo>\n",
      "    v112 \n",
      "    #endif\n",
      "#if FABLE_COMPILER_RUST && CONTRACT\n",
      "    let v113 : System.TimeZoneInfo = null |> unbox<System.TimeZoneInfo>\n",
      "    v113 \n",
      "    #endif\n",
      "#if FABLE_COMPILER_TYPESCRIPT\n",
      "    let v114 : System.TimeZoneInfo = null |> unbox<System.TimeZoneInfo>\n",
      "    v114 \n",
      "    #endif\n",
      "#if FABLE_COMPILER_PYTHON\n",
      "    let v115 : System.TimeZoneInfo = null |> unbox<System.TimeZoneInfo>\n",
      "    v115 \n",
      "    #endif\n",
      "#else\n",
      "    let v116 : System.TimeZoneInfo = System.TimeZoneInfo.Local\n",
      "    v116 \n",
      "    #endif\n",
      "    |> fun x -> _v109 <- Some x\n",
      "    let v117 : System.TimeZoneInfo = _v109.Value\n",
      "    let v118 : (System.DateTime -> System.TimeSpan) = v108 v117\n",
      "    let v119 : System.TimeSpan = v118 v1\n",
      "    v119 \n",
      "    #endif\n",
      "    |> fun x -> _v102 <- Some x\n",
      "    let v120 : System.TimeSpan = _v102.Value\n",
      "    let v121 : (System.TimeSpan -> int32) = _.Hours\n",
      "    let v122 : int32 = v121 v120\n",
      "    let v123 : bool = v122 > 0\n",
      "    let v124 : (bool -> int32) = System.Convert.ToInt32\n",
      "    let v125 : int32 = v124 v123\n",
      "    let v126 : string = method4()\n",
      "    let v127 : (string -> string) = v120.ToString\n",
      "    let v128 : string = v127 v126\n",
      "    let v129 : string = $\"{v125}{v128}\"\n",
      "    let v130 : (System.Guid -> string) = _.ToString()\n",
      "    let v131 : string = v130 v0\n",
      "    let v132 : System.Guid = System.Guid $\"{v92}{v129}{v131.[v92.Length + v129.Length..]}\"\n",
      "    v132 \n",
      "    #endif\n",
      "    |> fun x -> _v2 <- Some x\n",
      "    let v133 : System.Guid = _v2.Value\n",
      "    v133\n",
      "and closure1 (v0 : System.Guid) (v1 : System.DateTime) : System.Guid =\n",
      "    method0(v0, v1)\n",
      "and closure0 () (v0 : System.Guid) : (System.DateTime -> System.Guid) =\n",
      "    closure1(v0)\n",
      "and closure5 (v0 : string, v1 : string) (v2 : string) : string =\n",
      "    let v3 : string = v2.Replace (v0, v1)\n",
      "    v3\n",
      "and closure4 (v0 : string) (v1 : string) : (string -> string) =\n",
      "    closure5(v0, v1)\n",
      "and closure3 () (v0 : string) : (string -> (string -> string)) =\n",
      "    closure4(v0)\n",
      "and method5 () : (string -> (string -> (string -> string))) =\n",
      "    closure3()\n",
      "and closure2 () (v0 : System.Guid) : System.DateTime =\n",
      "    let v1 : (System.Guid -> string) = _.ToString()\n",
      "    let v2 : string = v1 v0\n",
      "    let v3 : (string -> (string -> (string -> string))) = method5()\n",
      "    let v4 : bool = true\n",
      "    let mutable _v4 : System.DateTime option = None \n",
      "    \n",
      "#if FABLE_COMPILER || WASM || CONTRACT\n",
      "    \n",
      "#if FABLE_COMPILER_RUST && !WASM && !CONTRACT\n",
      "    let v5 : System.DateTime = System.DateTime.Parse (v2.[..24] |> v3 \"-\" \"\")\n",
      "    v5 \n",
      "    #endif\n",
      "#if FABLE_COMPILER_RUST && WASM\n",
      "    let v6 : System.DateTime = System.DateTime.Parse (v2.[..24] |> v3 \"-\" \"\")\n",
      "    v6 \n",
      "    #endif\n",
      "#if FABLE_COMPILER_RUST && CONTRACT\n",
      "    let v7 : System.DateTime = System.DateTime.Parse (v2.[..24] |> v3 \"-\" \"\")\n",
      "    v7 \n",
      "    #endif\n",
      "#if FABLE_COMPILER_TYPESCRIPT\n",
      "    let v8 : System.DateTime = System.DateTime.ParseExact (v2.[..24] |> v3 \"-\" \"\", \"yyyyMMddHHmmssfffffff\", null)\n",
      "    v8 \n",
      "    #endif\n",
      "#if FABLE_COMPILER_PYTHON\n",
      "    let v9 : System.DateTime = System.DateTime.ParseExact (v2.[..24] |> v3 \"-\" \"\", \"yyyyMMddHHmmssfffffff\", null)\n",
      "    v9 \n",
      "    #endif\n",
      "#else\n",
      "    let v10 : System.DateTime = System.DateTime.ParseExact (v2.[..24] |> v3 \"-\" \"\", \"yyyyMMddHHmmssfffffff\", null)\n",
      "    v10 \n",
      "    #endif\n",
      "    |> fun x -> _v4 <- Some x\n",
      "    let v11 : System.DateTime = _v4.Value\n",
      "    v11\n",
      "and closure7 (v0 : System.Guid) (v1 : int64) : System.Guid =\n",
      "    let v2 : (System.Guid -> string) = _.ToString()\n",
      "    let v3 : string = v2 v0\n",
      "    let v4 : (int64 -> string) = _.ToString()\n",
      "    let v5 : string = v4 v1\n",
      "    let v6 : string = v5.PadLeft (18, '0')\n",
      "    let v7 : System.Guid = System.Guid $\"{v6.[0..7]}-{v6.[8..11]}-{v6.[12..15]}-{v6.[16..17]}{v3.[21..]}\"\n",
      "    v7\n",
      "and closure6 () (v0 : System.Guid) : (int64 -> System.Guid) =\n",
      "    closure7(v0)\n",
      "and closure8 () (v0 : System.Guid) : int64 =\n",
      "    let v1 : (System.Guid -> string) = _.ToString()\n",
      "    let v2 : string = v1 v0\n",
      "    let v3 : int64 = int64 $\"{v2.[0..7]}{v2.[9..12]}{v2.[14..17]}{v2.[19..20]}\"\n",
      "    v3\n",
      "and closure9 () (v0 : System.DateTime) : System.Guid =\n",
      "    let v1 : System.Guid = System.Guid.NewGuid ()\n",
      "    method0(v1, v0)\n",
      "and closure10 () (v0 : int64) : System.Guid =\n",
      "    let v1 : System.Guid = System.Guid.NewGuid ()\n",
      "    let v2 : (System.Guid -> string) = _.ToString()\n",
      "    let v3 : string = v2 v1\n",
      "    let v4 : (int64 -> string) = _.ToString()\n",
      "    let v5 : string = v4 v0\n",
      "    let v6 : string = v5.PadLeft (18, '0')\n",
      "    let v7 : System.Guid = System.Guid $\"{v6.[0..7]}-{v6.[8..11]}-{v6.[12..15]}-{v6.[16..17]}{v3.[21..]}\"\n",
      "    v7\n",
      "and closure12 (v0 : string) (v1 : System.DateTime) : string =\n",
      "    let v2 : (string -> string) = v1.ToString\n",
      "    v2 v0\n",
      "and closure11 () (v0 : string) : (System.DateTime -> string) =\n",
      "    closure12(v0)\n",
      "and closure13 () (v0 : System.DateTime) : string =\n",
      "    let v1 : (string -> string) = v0.ToString\n",
      "    let v2 : string = \"yyyy-MM-ddTHH-mm-ss.fff\"\n",
      "    v1 v2\n",
      "let v0 : (System.Guid -> (System.DateTime -> System.Guid)) = closure0()\n",
      "let date_time_guid_from_date_time x = v0 x\n",
      "let v1 : (System.Guid -> System.DateTime) = closure2()\n",
      "let date_time_from_guid x = v1 x\n",
      "let v2 : (System.Guid -> (int64 -> System.Guid)) = closure6()\n",
      "let timestamp_guid_from_timestamp x = v2 x\n",
      "let v3 : (System.Guid -> int64) = closure8()\n",
      "let timestamp_from_guid x = v3 x\n",
      "let v4 : (System.DateTime -> System.Guid) = closure9()\n",
      "let new_guid_from_date_time x = v4 x\n",
      "let v5 : (int64 -> System.Guid) = closure10()\n",
      "let new_guid_from_timestamp x = v5 x\n",
      "let v6 : (string -> (System.DateTime -> string)) = closure11()\n",
      "let format x = v6 x\n",
      "let v7 : (System.DateTime -> string) = closure13()\n",
      "let format_iso8601 x = v7 x\n",
      "()\n",
      "\n"
     ]
    }
   ],
   "source": [
    "inl main () =\n",
    "    types ()\n",
    "    $\"let date_time_guid_from_date_time x = !date_time_guid_from_date_time x\" : ()\n",
    "    $\"let date_time_from_guid x = !date_time_from_guid x\" : ()\n",
    "    $\"let timestamp_guid_from_timestamp x = !timestamp_guid_from_timestamp x\" : ()\n",
    "    $\"let timestamp_from_guid x = !timestamp_from_guid x\" : ()\n",
    "    $\"let new_guid_from_date_time x = !new_guid_from_date_time x\" : ()\n",
    "    $\"let new_guid_from_timestamp x = !new_guid_from_timestamp x\" : ()\n",
    "    $\"let format x = !format x\" : ()\n",
    "    $\"let format_iso8601 x = !format_iso8601 x\" : ()"
   ]
  }
 ],
 "metadata": {},
 "nbformat": 4,
 "nbformat_minor": 5
}