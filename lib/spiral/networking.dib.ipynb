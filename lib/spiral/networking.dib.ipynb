{
 "cells": [
  {
   "cell_type": "markdown",
   "metadata": {},
   "source": [
    "# networking"
   ]
  },
  {
   "cell_type": "code",
   "execution_count": null,
   "metadata": {
    "dotnet_interactive": {
     "language": "spiral"
    },
    "polyglot_notebook": {
     "kernelName": "spiral"
    }
   },
   "outputs": [],
   "source": [
    "open rust_operators"
   ]
  },
  {
   "cell_type": "code",
   "execution_count": null,
   "metadata": {
    "dotnet_interactive": {
     "language": "spiral"
    },
    "polyglot_notebook": {
     "kernelName": "spiral"
    }
   },
   "outputs": [],
   "source": [
    "//// test\n",
    "\n",
    "open testing"
   ]
  },
  {
   "cell_type": "markdown",
   "metadata": {},
   "source": [
    "## types"
   ]
  },
  {
   "cell_type": "code",
   "execution_count": null,
   "metadata": {
    "dotnet_interactive": {
     "language": "spiral"
    },
    "polyglot_notebook": {
     "kernelName": "spiral"
    }
   },
   "outputs": [],
   "source": [
    "inl types () =\n",
    "    global \"#if FABLE_COMPILER\\n[<Fable.Core.Erase; Fable.Core.Emit(\\\"reqwest_wasm::Error\\\")>]\\n#endif\\ntype reqwest_Error = class end\"\n",
    "    global \"#if FABLE_COMPILER\\n[<Fable.Core.Erase; Fable.Core.Emit(\\\"reqwest_wasm::RequestBuilder\\\")>]\\n#endif\\ntype reqwest_RequestBuilder = class end\"\n",
    "    global \"#if FABLE_COMPILER\\n[<Fable.Core.Erase; Fable.Core.Emit(\\\"reqwest_wasm::Response\\\")>]\\n#endif\\ntype reqwest_Response = class end\""
   ]
  },
  {
   "cell_type": "code",
   "execution_count": null,
   "metadata": {
    "dotnet_interactive": {
     "language": "spiral"
    },
    "polyglot_notebook": {
     "kernelName": "spiral"
    }
   },
   "outputs": [],
   "source": [
    "inl types () =\n",
    "    types ()\n",
    "    env.types ()\n",
    "    rust.types ()\n",
    "    sm'.types ()"
   ]
  },
  {
   "cell_type": "markdown",
   "metadata": {},
   "source": [
    "## reqwest_response"
   ]
  },
  {
   "cell_type": "code",
   "execution_count": null,
   "metadata": {
    "dotnet_interactive": {
     "language": "spiral"
    },
    "polyglot_notebook": {
     "kernelName": "spiral"
    }
   },
   "outputs": [],
   "source": [
    "nominal reqwest_response = $\"reqwest_Response\""
   ]
  },
  {
   "cell_type": "markdown",
   "metadata": {},
   "source": [
    "## reqwest_error"
   ]
  },
  {
   "cell_type": "code",
   "execution_count": null,
   "metadata": {
    "dotnet_interactive": {
     "language": "spiral"
    },
    "polyglot_notebook": {
     "kernelName": "spiral"
    }
   },
   "outputs": [],
   "source": [
    "nominal reqwest_error = $\"reqwest_Error\""
   ]
  },
  {
   "cell_type": "markdown",
   "metadata": {},
   "source": [
    "## request_builder"
   ]
  },
  {
   "cell_type": "code",
   "execution_count": null,
   "metadata": {
    "dotnet_interactive": {
     "language": "spiral"
    },
    "polyglot_notebook": {
     "kernelName": "spiral"
    }
   },
   "outputs": [],
   "source": [
    "nominal request_builder = $\"reqwest_RequestBuilder\""
   ]
  },
  {
   "cell_type": "markdown",
   "metadata": {},
   "source": [
    "## request_type"
   ]
  },
  {
   "cell_type": "code",
   "execution_count": null,
   "metadata": {
    "dotnet_interactive": {
     "language": "spiral"
    },
    "polyglot_notebook": {
     "kernelName": "spiral"
    }
   },
   "outputs": [],
   "source": [
    "union request_type =\n",
    "    | Get\n",
    "    | Post"
   ]
  },
  {
   "cell_type": "markdown",
   "metadata": {},
   "source": [
    "## request"
   ]
  },
  {
   "cell_type": "code",
   "execution_count": null,
   "metadata": {
    "dotnet_interactive": {
     "language": "spiral"
    },
    "polyglot_notebook": {
     "kernelName": "spiral"
    }
   },
   "outputs": [],
   "source": [
    "type request =\n",
    "    {\n",
    "        url : string\n",
    "        request_type : request_type\n",
    "        body : string\n",
    "        json : bool\n",
    "        auto_refresh : bool\n",
    "    }"
   ]
  },
  {
   "cell_type": "markdown",
   "metadata": {},
   "source": [
    "## new_request_get"
   ]
  },
  {
   "cell_type": "code",
   "execution_count": null,
   "metadata": {
    "dotnet_interactive": {
     "language": "spiral"
    },
    "polyglot_notebook": {
     "kernelName": "spiral"
    }
   },
   "outputs": [],
   "source": [
    "inl new_request_get (url : string) : request_builder =\n",
    "    inl url = join url\n",
    "    inl url = url |> sm'.to_std_string\n",
    "    inl url = join url\n",
    "    !\\($'\"reqwest_wasm::Client::builder().build().map_err(|err| err.to_string())?.get(!url)\"')"
   ]
  },
  {
   "cell_type": "markdown",
   "metadata": {},
   "source": [
    "## new_request_post"
   ]
  },
  {
   "cell_type": "code",
   "execution_count": null,
   "metadata": {
    "dotnet_interactive": {
     "language": "spiral"
    },
    "polyglot_notebook": {
     "kernelName": "spiral"
    }
   },
   "outputs": [],
   "source": [
    "inl new_request_post (url : string) : request_builder =\n",
    "    inl url = join url\n",
    "    inl url = url |> sm'.to_std_string\n",
    "    inl url = join url\n",
    "    !\\($'\"reqwest_wasm::Client::builder().build().map_err(|err| err.to_string())?.post(!url)\"')"
   ]
  },
  {
   "cell_type": "markdown",
   "metadata": {},
   "source": [
    "## request_send"
   ]
  },
  {
   "cell_type": "code",
   "execution_count": null,
   "metadata": {
    "dotnet_interactive": {
     "language": "spiral"
    },
    "polyglot_notebook": {
     "kernelName": "spiral"
    }
   },
   "outputs": [],
   "source": [
    "inl request_send (request : request_builder) : async.future_pin (resultm.result' reqwest_response reqwest_error) =\n",
    "    inl request = join request\n",
    "    !\\($'\"Box::pin(reqwest_wasm::RequestBuilder::send(!request))\"')"
   ]
  },
  {
   "cell_type": "markdown",
   "metadata": {},
   "source": [
    "## request_body"
   ]
  },
  {
   "cell_type": "code",
   "execution_count": null,
   "metadata": {
    "dotnet_interactive": {
     "language": "spiral"
    },
    "polyglot_notebook": {
     "kernelName": "spiral"
    }
   },
   "outputs": [],
   "source": [
    "inl request_body (body : string) (request : request_builder) : request_builder =\n",
    "    inl body = body |> sm'.to_std_string\n",
    "    !\\($'\"reqwest_wasm::RequestBuilder::body(!request, !body)\"')"
   ]
  },
  {
   "cell_type": "markdown",
   "metadata": {},
   "source": [
    "## request_header"
   ]
  },
  {
   "cell_type": "code",
   "execution_count": null,
   "metadata": {
    "dotnet_interactive": {
     "language": "spiral"
    },
    "polyglot_notebook": {
     "kernelName": "spiral"
    }
   },
   "outputs": [],
   "source": [
    "inl request_header (key : string) (value : string) (request : request_builder) : request_builder =\n",
    "    inl request = join request\n",
    "    inl key = key |> sm'.to_std_string\n",
    "    inl value = value |> sm'.to_std_string\n",
    "    !\\($'\"reqwest_wasm::RequestBuilder::header(!request, !key, !value)\"')"
   ]
  },
  {
   "cell_type": "markdown",
   "metadata": {},
   "source": [
    "## request_json"
   ]
  },
  {
   "cell_type": "code",
   "execution_count": null,
   "metadata": {
    "dotnet_interactive": {
     "language": "spiral"
    },
    "polyglot_notebook": {
     "kernelName": "spiral"
    }
   },
   "outputs": [],
   "source": [
    "inl request_json forall t. (obj : t) (request : request_builder) : request_builder =\n",
    "    !\\($'\"reqwest_wasm::RequestBuilder::json(!request, &!obj)\"')"
   ]
  },
  {
   "cell_type": "markdown",
   "metadata": {},
   "source": [
    "## response_text"
   ]
  },
  {
   "cell_type": "code",
   "execution_count": null,
   "metadata": {
    "dotnet_interactive": {
     "language": "spiral"
    },
    "polyglot_notebook": {
     "kernelName": "spiral"
    }
   },
   "outputs": [],
   "source": [
    "inl response_text (response : reqwest_response) : async.future_pin (resultm.result' sm'.std_string reqwest_error) =\n",
    "    !\\($'\"Box::pin(reqwest_wasm::Response::text(!response))\"')"
   ]
  },
  {
   "cell_type": "markdown",
   "metadata": {},
   "source": [
    "## tcp_client"
   ]
  },
  {
   "cell_type": "code",
   "execution_count": null,
   "metadata": {
    "dotnet_interactive": {
     "language": "spiral"
    },
    "polyglot_notebook": {
     "kernelName": "spiral"
    }
   },
   "outputs": [],
   "source": [
    "nominal tcp_client = $'System.Net.Sockets.TcpClient'"
   ]
  },
  {
   "cell_type": "markdown",
   "metadata": {},
   "source": [
    "## new_tcp_client"
   ]
  },
  {
   "cell_type": "code",
   "execution_count": null,
   "metadata": {
    "dotnet_interactive": {
     "language": "spiral"
    },
    "polyglot_notebook": {
     "kernelName": "spiral"
    }
   },
   "outputs": [],
   "source": [
    "inl new_tcp_client () : tcp_client =\n",
    "    $'new `tcp_client ()'"
   ]
  },
  {
   "cell_type": "markdown",
   "metadata": {},
   "source": [
    "## ip_address"
   ]
  },
  {
   "cell_type": "code",
   "execution_count": null,
   "metadata": {
    "dotnet_interactive": {
     "language": "spiral"
    },
    "polyglot_notebook": {
     "kernelName": "spiral"
    }
   },
   "outputs": [],
   "source": [
    "nominal ip_address = $'System.Net.IPAddress'"
   ]
  },
  {
   "cell_type": "markdown",
   "metadata": {},
   "source": [
    "## ip_address_parse"
   ]
  },
  {
   "cell_type": "code",
   "execution_count": null,
   "metadata": {
    "dotnet_interactive": {
     "language": "spiral"
    },
    "polyglot_notebook": {
     "kernelName": "spiral"
    }
   },
   "outputs": [],
   "source": [
    "inl ip_address_parse (s : string) : ip_address =\n",
    "    s |> $'`ip_address.Parse'"
   ]
  },
  {
   "cell_type": "markdown",
   "metadata": {},
   "source": [
    "## tcp_listener"
   ]
  },
  {
   "cell_type": "code",
   "execution_count": null,
   "metadata": {
    "dotnet_interactive": {
     "language": "spiral"
    },
    "polyglot_notebook": {
     "kernelName": "spiral"
    }
   },
   "outputs": [],
   "source": [
    "nominal tcp_listener = $'System.Net.Sockets.TcpListener'"
   ]
  },
  {
   "cell_type": "markdown",
   "metadata": {},
   "source": [
    "## new_tcp_listener"
   ]
  },
  {
   "cell_type": "code",
   "execution_count": null,
   "metadata": {
    "dotnet_interactive": {
     "language": "spiral"
    },
    "polyglot_notebook": {
     "kernelName": "spiral"
    }
   },
   "outputs": [],
   "source": [
    "inl new_tcp_listener (ip_address : ip_address) (port : i32) : tcp_listener =\n",
    "    $'new `tcp_listener (!ip_address, !port)'"
   ]
  },
  {
   "cell_type": "markdown",
   "metadata": {},
   "source": [
    "## listener_start"
   ]
  },
  {
   "cell_type": "code",
   "execution_count": null,
   "metadata": {
    "dotnet_interactive": {
     "language": "spiral"
    },
    "polyglot_notebook": {
     "kernelName": "spiral"
    }
   },
   "outputs": [],
   "source": [
    "inl listener_start (listener : tcp_listener) : () =\n",
    "    $'!listener.Start' ()"
   ]
  },
  {
   "cell_type": "markdown",
   "metadata": {},
   "source": [
    "## listener_stop"
   ]
  },
  {
   "cell_type": "code",
   "execution_count": null,
   "metadata": {
    "dotnet_interactive": {
     "language": "spiral"
    },
    "polyglot_notebook": {
     "kernelName": "spiral"
    }
   },
   "outputs": [],
   "source": [
    "inl listener_stop (listener : tcp_listener) : () =\n",
    "    $'!listener.Stop' ()"
   ]
  },
  {
   "cell_type": "markdown",
   "metadata": {},
   "source": [
    "## client_connect_async"
   ]
  },
  {
   "cell_type": "code",
   "execution_count": null,
   "metadata": {
    "dotnet_interactive": {
     "language": "spiral"
    },
    "polyglot_notebook": {
     "kernelName": "spiral"
    }
   },
   "outputs": [],
   "source": [
    "inl client_connect_async\n",
    "    (host : string)\n",
    "    (port : i32)\n",
    "    (ct : threading.cancellation_token)\n",
    "    (client : tcp_client)\n",
    "    : async.value_task\n",
    "    =\n",
    "    $'!client.ConnectAsync (!host, !port, !ct)'"
   ]
  },
  {
   "cell_type": "markdown",
   "metadata": {},
   "source": [
    "## test_port_open"
   ]
  },
  {
   "cell_type": "code",
   "execution_count": null,
   "metadata": {
    "dotnet_interactive": {
     "language": "spiral"
    },
    "polyglot_notebook": {
     "kernelName": "spiral"
    }
   },
   "outputs": [],
   "source": [
    "inl test_port_open host port : _ bool = async.new_async fun () =>\n",
    "    inl ct = async.cancellation_token () |> async.let'\n",
    "    inl client = new_tcp_client () |> use\n",
    "    try_unit\n",
    "        fun () =>\n",
    "            client |> client_connect_async host port ct |> async.await_value_task_unit |> async.do\n",
    "            return true\n",
    "        fun ex =>\n",
    "            inl ex = ex |> sm'.format_exception\n",
    "            trace Verbose (fun () => $'$\"networking.test_port_open / port: {!port} / ex: {!ex}\"') _locals\n",
    "            return false"
   ]
  },
  {
   "cell_type": "code",
   "execution_count": null,
   "metadata": {
    "dotnet_interactive": {
     "language": "spiral"
    },
    "polyglot_notebook": {
     "kernelName": "spiral"
    }
   },
   "outputs": [
    {
     "name": "stdout",
     "output_type": "stream",
     "text": [
      "00:00:00 verbose #1 networking.test_port_open / port: 65536 / ex: System.ArgumentOutOfRangeException: Specified argument was out of the range of valid values. (Parameter 'port')\n",
      "assert_eq / actual: US2_0 false / expected: US2_0 false\n"
     ]
    }
   ],
   "source": [
    "//// test\n",
    "\n",
    "test_port_open \"127.0.0.1\" 65536\n",
    "|> async.run_with_timeout 120\n",
    "|> _assert_eq (Some false)"
   ]
  },
  {
   "cell_type": "markdown",
   "metadata": {},
   "source": [
    "## test_port_open_timeout"
   ]
  },
  {
   "cell_type": "code",
   "execution_count": null,
   "metadata": {
    "dotnet_interactive": {
     "language": "spiral"
    },
    "polyglot_notebook": {
     "kernelName": "spiral"
    }
   },
   "outputs": [],
   "source": [
    "inl test_port_open_timeout timeout host port : _ bool = async.new_async_unit fun () =>\n",
    "    test_port_open host port\n",
    "    |> async.run_with_timeout_async timeout\n",
    "    |> async.let'\n",
    "    |> function\n",
    "        | None => false\n",
    "        | Some result => result\n",
    "    |> return"
   ]
  },
  {
   "cell_type": "code",
   "execution_count": null,
   "metadata": {
    "dotnet_interactive": {
     "language": "spiral"
    },
    "polyglot_notebook": {
     "kernelName": "spiral"
    }
   },
   "outputs": [
    {
     "name": "stdout",
     "output_type": "stream",
     "text": [
      "00:00:00 verbose #1 networking.test_port_open / port: 65535 / ex: System.AggregateException: One or more errors occurred. (Connection refused)\n",
      "assert_eq / actual: false / expected: false\n"
     ]
    }
   ],
   "source": [
    "//// test\n",
    "\n",
    "test_port_open_timeout 120 \"127.0.0.1\" 65535\n",
    "|> async.run_synchronously\n",
    "|> _assert_eq false"
   ]
  },
  {
   "cell_type": "markdown",
   "metadata": {},
   "source": [
    "## wait_for_port_access"
   ]
  },
  {
   "cell_type": "code",
   "execution_count": null,
   "metadata": {
    "dotnet_interactive": {
     "language": "spiral"
    },
    "polyglot_notebook": {
     "kernelName": "spiral"
    }
   },
   "outputs": [],
   "source": [
    "inl wait_for_port_access timeout status host port : _ i64 =\n",
    "    let rec loop retry : _ i64 = async.new_async_unit fun () =>\n",
    "        inl isPortOpen =\n",
    "            match timeout |> optionm'.unbox with\n",
    "            | None => test_port_open host port\n",
    "            | Some timeout => test_port_open_timeout timeout host port\n",
    "            |> async.let'\n",
    "\n",
    "        fix_condition\n",
    "            fun () => isPortOpen = status\n",
    "            fun () => retry |> return\n",
    "            fun () =>\n",
    "                if retry % 100 = 0 then\n",
    "                    inl _locals () = $'$\"port: {!port} / retry: {!retry} / timeout: %A{!timeout} / status: {!status} / {!_locals ()}\"'\n",
    "                    trace Verbose (fun () => \"networking.wait_for_port_access\") _locals\n",
    "                async.sleep 10 |> async.do\n",
    "                loop (retry + 1) |> async.return_await\n",
    "    loop 0i64"
   ]
  },
  {
   "cell_type": "code",
   "execution_count": null,
   "metadata": {
    "dotnet_interactive": {
     "language": "spiral"
    },
    "polyglot_notebook": {
     "kernelName": "spiral"
    }
   },
   "outputs": [
    {
     "name": "stdout",
     "output_type": "stream",
     "text": [
      "00:00:00   debug #1 1\n",
      "00:00:00   debug #2 _1\n",
      "00:00:00   debug #3 2\n",
      "00:00:00   debug #4 3\n",
      "00:00:00 verbose #5 networking.test_port_open / port: 5555 / ex: System.AggregateException: One or more errors occurred. (Connection refused)\n",
      "00:00:00 verbose #6 networking.wait_for_port_access / port: 5555 / retry: 0 / timeout: None / status: True\n",
      "00:00:00 verbose #7 networking.test_port_open / port: 5555 / ex: System.AggregateException: One or more errors occurred. (Connection refused)\n",
      "00:00:00 verbose #8 networking.test_port_open / port: 5555 / ex: System.AggregateException: One or more errors occurred. (Connection refused)\n",
      "00:00:00 verbose #9 networking.test_port_open / port: 5555 / ex: System.AggregateException: One or more errors occurred. (Connection refused)\n",
      "00:00:00 verbose #10 networking.test_port_open / port: 5555 / ex: System.AggregateException: One or more errors occurred. (Connection refused)\n",
      "00:00:00 verbose #11 networking.test_port_open / port: 5555 / ex: System.AggregateException: One or more errors occurred. (Connection refused)\n",
      "00:00:00 verbose #12 networking.test_port_open / port: 5555 / ex: System.AggregateException: One or more errors occurred. (Connection refused)\n",
      "00:00:00 verbose #13 networking.test_port_open / port: 5555 / ex: System.AggregateException: One or more errors occurred. (Connection refused)\n",
      "00:00:00 verbose #14 networking.test_port_open / port: 5555 / ex: System.AggregateException: One or more errors occurred. (Connection refused)\n",
      "00:00:00 verbose #15 networking.test_port_open / port: 5555 / ex: System.AggregateException: One or more errors occurred. (Connection refused)\n",
      "00:00:00 verbose #16 networking.test_port_open / port: 5555 / ex: System.AggregateException: One or more errors occurred. (Connection refused)\n",
      "00:00:00 verbose #17 networking.test_port_open / port: 5555 / ex: System.AggregateException: One or more errors occurred. (Connection refused)\n",
      "00:00:00 verbose #18 networking.test_port_open / port: 5555 / ex: System.AggregateException: One or more errors occurred. (Connection refused)\n",
      "00:00:00 verbose #19 networking.test_port_open / port: 5555 / ex: System.AggregateException: One or more errors occurred. (Connection refused)\n",
      "00:00:00 verbose #20 networking.test_port_open / port: 5555 / ex: System.AggregateException: One or more errors occurred. (Connection refused)\n",
      "00:00:00 verbose #21 networking.test_port_open / port: 5555 / ex: System.AggregateException: One or more errors occurred. (Connection refused)\n",
      "00:00:00 verbose #22 networking.test_port_open / port: 5555 / ex: System.AggregateException: One or more errors occurred. (Connection refused)\n",
      "00:00:00 verbose #23 networking.test_port_open / port: 5555 / ex: System.AggregateException: One or more errors occurred. (Connection refused)\n",
      "00:00:00 verbose #24 networking.test_port_open / port: 5555 / ex: System.AggregateException: One or more errors occurred. (Connection refused)\n",
      "00:00:00 verbose #25 networking.test_port_open / port: 5555 / ex: System.AggregateException: One or more errors occurred. (Connection refused)\n",
      "00:00:00 verbose #26 networking.test_port_open / port: 5555 / ex: System.AggregateException: One or more errors occurred. (Connection refused)\n",
      "00:00:00 verbose #27 networking.test_port_open / port: 5555 / ex: System.AggregateException: One or more errors occurred. (Connection refused)\n",
      "00:00:00 verbose #28 networking.test_port_open / port: 5555 / ex: System.AggregateException: One or more errors occurred. (Connection refused)\n",
      "00:00:00 verbose #29 networking.test_port_open / port: 5555 / ex: System.AggregateException: One or more errors occurred. (Connection refused)\n",
      "00:00:00 verbose #30 networking.test_port_open / port: 5555 / ex: System.AggregateException: One or more errors occurred. (Connection refused)\n",
      "00:00:00 verbose #31 networking.test_port_open / port: 5555 / ex: System.AggregateException: One or more errors occurred. (Connection refused)\n",
      "00:00:00 verbose #32 networking.test_port_open / port: 5555 / ex: System.AggregateException: One or more errors occurred. (Connection refused)\n",
      "00:00:00 verbose #33 networking.test_port_open / port: 5555 / ex: System.AggregateException: One or more errors occurred. (Connection refused)\n",
      "00:00:00 verbose #34 networking.test_port_open / port: 5555 / ex: System.AggregateException: One or more errors occurred. (Connection refused)\n",
      "00:00:00 verbose #35 networking.test_port_open / port: 5555 / ex: System.AggregateException: One or more errors occurred. (Connection refused)\n",
      "00:00:00 verbose #36 networking.test_port_open / port: 5555 / ex: System.AggregateException: One or more errors occurred. (Connection refused)\n",
      "00:00:00 verbose #37 networking.test_port_open / port: 5555 / ex: System.AggregateException: One or more errors occurred. (Connection refused)\n",
      "00:00:00 verbose #38 networking.test_port_open / port: 5555 / ex: System.AggregateException: One or more errors occurred. (Connection refused)\n",
      "00:00:00 verbose #39 networking.test_port_open / port: 5555 / ex: System.AggregateException: One or more errors occurred. (Connection refused)\n",
      "00:00:00 verbose #40 networking.test_port_open / port: 5555 / ex: System.AggregateException: One or more errors occurred. (Connection refused)\n",
      "00:00:00 verbose #41 networking.test_port_open / port: 5555 / ex: System.AggregateException: One or more errors occurred. (Connection refused)\n",
      "00:00:00 verbose #42 networking.test_port_open / port: 5555 / ex: System.AggregateException: One or more errors occurred. (Connection refused)\n",
      "00:00:00 verbose #43 networking.test_port_open / port: 5555 / ex: System.AggregateException: One or more errors occurred. (Connection refused)\n",
      "00:00:00 verbose #44 networking.test_port_open / port: 5555 / ex: System.AggregateException: One or more errors occurred. (Connection refused)\n",
      "00:00:00 verbose #45 networking.test_port_open / port: 5555 / ex: System.AggregateException: One or more errors occurred. (Connection refused)\n",
      "00:00:00 verbose #46 networking.test_port_open / port: 5555 / ex: System.AggregateException: One or more errors occurred. (Connection refused)\n",
      "00:00:00 verbose #47 networking.test_port_open / port: 5555 / ex: System.AggregateException: One or more errors occurred. (Connection refused)\n",
      "00:00:00 verbose #48 networking.test_port_open / port: 5555 / ex: System.AggregateException: One or more errors occurred. (Connection refused)\n",
      "00:00:00 verbose #49 networking.test_port_open / port: 5555 / ex: System.AggregateException: One or more errors occurred. (Connection refused)\n",
      "00:00:00 verbose #50 networking.test_port_open / port: 5555 / ex: System.AggregateException: One or more errors occurred. (Connection refused)\n",
      "00:00:00 verbose #51 networking.test_port_open / port: 5555 / ex: System.AggregateException: One or more errors occurred. (Connection refused)\n",
      "00:00:00 verbose #52 networking.test_port_open / port: 5555 / ex: System.AggregateException: One or more errors occurred. (Connection refused)\n",
      "00:00:00 verbose #53 networking.test_port_open / port: 5555 / ex: System.AggregateException: One or more errors occurred. (Connection refused)\n",
      "00:00:00 verbose #54 networking.test_port_open / port: 5555 / ex: System.AggregateException: One or more errors occurred. (Connection refused)\n",
      "00:00:00 verbose #55 networking.test_port_open / port: 5555 / ex: System.AggregateException: One or more errors occurred. (Connection refused)\n",
      "00:00:00 verbose #56 networking.test_port_open / port: 5555 / ex: System.AggregateException: One or more errors occurred. (Connection refused)\n",
      "00:00:00 verbose #57 networking.test_port_open / port: 5555 / ex: System.AggregateException: One or more errors occurred. (Connection refused)\n",
      "00:00:00 verbose #58 networking.test_port_open / port: 5555 / ex: System.AggregateException: One or more errors occurred. (Connection refused)\n",
      "00:00:00 verbose #59 networking.test_port_open / port: 5555 / ex: System.AggregateException: One or more errors occurred. (Connection refused)\n",
      "00:00:00 verbose #60 networking.test_port_open / port: 5555 / ex: System.AggregateException: One or more errors occurred. (Connection refused)\n",
      "00:00:00 verbose #61 networking.test_port_open / port: 5555 / ex: System.AggregateException: One or more errors occurred. (Connection refused)\n",
      "00:00:00 verbose #62 networking.test_port_open / port: 5555 / ex: System.AggregateException: One or more errors occurred. (Connection refused)\n",
      "00:00:00 verbose #63 networking.test_port_open / port: 5555 / ex: System.AggregateException: One or more errors occurred. (Connection refused)\n",
      "00:00:00 verbose #64 networking.test_port_open / port: 5555 / ex: System.AggregateException: One or more errors occurred. (Connection refused)\n",
      "00:00:00 verbose #65 networking.test_port_open / port: 5555 / ex: System.AggregateException: One or more errors occurred. (Connection refused)\n",
      "00:00:00 verbose #66 networking.test_port_open / port: 5555 / ex: System.AggregateException: One or more errors occurred. (Connection refused)\n",
      "00:00:00 verbose #67 networking.test_port_open / port: 5555 / ex: System.AggregateException: One or more errors occurred. (Connection refused)\n",
      "00:00:00 verbose #68 networking.test_port_open / port: 5555 / ex: System.AggregateException: One or more errors occurred. (Connection refused)\n",
      "00:00:00 verbose #69 networking.test_port_open / port: 5555 / ex: System.AggregateException: One or more errors occurred. (Connection refused)\n",
      "00:00:00 verbose #70 networking.test_port_open / port: 5555 / ex: System.AggregateException: One or more errors occurred. (Connection refused)\n",
      "00:00:00 verbose #71 networking.test_port_open / port: 5555 / ex: System.AggregateException: One or more errors occurred. (Connection refused)\n",
      "00:00:00 verbose #72 networking.test_port_open / port: 5555 / ex: System.AggregateException: One or more errors occurred. (Connection refused)\n",
      "00:00:00 verbose #73 networking.test_port_open / port: 5555 / ex: System.AggregateException: One or more errors occurred. (Connection refused)\n",
      "00:00:00 verbose #74 networking.test_port_open / port: 5555 / ex: System.AggregateException: One or more errors occurred. (Connection refused)\n",
      "00:00:00 verbose #75 networking.test_port_open / port: 5555 / ex: System.AggregateException: One or more errors occurred. (Connection refused)\n",
      "00:00:00 verbose #76 networking.test_port_open / port: 5555 / ex: System.AggregateException: One or more errors occurred. (Connection refused)\n",
      "00:00:00 verbose #77 networking.test_port_open / port: 5555 / ex: System.AggregateException: One or more errors occurred. (Connection refused)\n",
      "00:00:00 verbose #78 networking.test_port_open / port: 5555 / ex: System.AggregateException: One or more errors occurred. (Connection refused)\n",
      "00:00:00 verbose #79 networking.test_port_open / port: 5555 / ex: System.AggregateException: One or more errors occurred. (Connection refused)\n",
      "00:00:00 verbose #80 networking.test_port_open / port: 5555 / ex: System.AggregateException: One or more errors occurred. (Connection refused)\n",
      "00:00:00 verbose #81 networking.test_port_open / port: 5555 / ex: System.AggregateException: One or more errors occurred. (Connection refused)\n",
      "00:00:00 verbose #82 networking.test_port_open / port: 5555 / ex: System.AggregateException: One or more errors occurred. (Connection refused)\n",
      "00:00:00 verbose #83 networking.test_port_open / port: 5555 / ex: System.AggregateException: One or more errors occurred. (Connection refused)\n",
      "00:00:00 verbose #84 networking.test_port_open / port: 5555 / ex: System.AggregateException: One or more errors occurred. (Connection refused)\n",
      "00:00:00 verbose #85 networking.test_port_open / port: 5555 / ex: System.AggregateException: One or more errors occurred. (Connection refused)\n",
      "00:00:00 verbose #86 networking.test_port_open / port: 5555 / ex: System.AggregateException: One or more errors occurred. (Connection refused)\n",
      "00:00:00 verbose #87 networking.test_port_open / port: 5555 / ex: System.AggregateException: One or more errors occurred. (Connection refused)\n",
      "00:00:01 verbose #88 networking.test_port_open / port: 5555 / ex: System.AggregateException: One or more errors occurred. (Connection refused)\n",
      "00:00:01 verbose #89 networking.test_port_open / port: 5555 / ex: System.AggregateException: One or more errors occurred. (Connection refused)\n",
      "00:00:01 verbose #90 networking.test_port_open / port: 5555 / ex: System.AggregateException: One or more errors occurred. (Connection refused)\n",
      "00:00:01 verbose #91 networking.test_port_open / port: 5555 / ex: System.AggregateException: One or more errors occurred. (Connection refused)\n",
      "00:00:01 verbose #92 networking.test_port_open / port: 5555 / ex: System.AggregateException: One or more errors occurred. (Connection refused)\n",
      "00:00:01 verbose #93 networking.test_port_open / port: 5555 / ex: System.AggregateException: One or more errors occurred. (Connection refused)\n",
      "00:00:01 verbose #94 networking.test_port_open / port: 5555 / ex: System.AggregateException: One or more errors occurred. (Connection refused)\n",
      "00:00:01 verbose #95 networking.test_port_open / port: 5555 / ex: System.AggregateException: One or more errors occurred. (Connection refused)\n",
      "00:00:01 verbose #96 networking.test_port_open / port: 5555 / ex: System.AggregateException: One or more errors occurred. (Connection refused)\n",
      "00:00:01 verbose #97 networking.test_port_open / port: 5555 / ex: System.AggregateException: One or more errors occurred. (Connection refused)\n",
      "00:00:01 verbose #98 networking.test_port_open / port: 5555 / ex: System.AggregateException: One or more errors occurred. (Connection refused)\n",
      "00:00:01 verbose #99 networking.test_port_open / port: 5555 / ex: System.AggregateException: One or more errors occurred. (Connection refused)\n",
      "00:00:01 verbose #100 networking.test_port_open / port: 5555 / ex: System.AggregateException: One or more errors occurred. (Connection refused)\n",
      "00:00:01 verbose #101 networking.test_port_open / port: 5555 / ex: System.AggregateException: One or more errors occurred. (Connection refused)\n",
      "00:00:01 verbose #102 networking.test_port_open / port: 5555 / ex: System.AggregateException: One or more errors occurred. (Connection refused)\n",
      "00:00:01 verbose #103 networking.test_port_open / port: 5555 / ex: System.AggregateException: One or more errors occurred. (Connection refused)\n",
      "00:00:01 verbose #104 networking.test_port_open / port: 5555 / ex: System.AggregateException: One or more errors occurred. (Connection refused)\n",
      "00:00:01 verbose #105 networking.test_port_open / port: 5555 / ex: System.AggregateException: One or more errors occurred. (Connection refused)\n",
      "00:00:01 verbose #106 networking.test_port_open / port: 5555 / ex: System.AggregateException: One or more errors occurred. (Connection refused)\n",
      "00:00:01 verbose #107 networking.wait_for_port_access / port: 5555 / retry: 100 / timeout: None / status: True\n",
      "00:00:01 verbose #108 networking.test_port_open / port: 5555 / ex: System.AggregateException: One or more errors occurred. (Connection refused)\n",
      "00:00:01 verbose #109 networking.test_port_open / port: 5555 / ex: System.AggregateException: One or more errors occurred. (Connection refused)\n",
      "00:00:01 verbose #110 networking.test_port_open / port: 5555 / ex: System.AggregateException: One or more errors occurred. (Connection refused)\n",
      "00:00:01 verbose #111 networking.test_port_open / port: 5555 / ex: System.AggregateException: One or more errors occurred. (Connection refused)\n",
      "00:00:01 verbose #112 networking.test_port_open / port: 5555 / ex: System.AggregateException: One or more errors occurred. (Connection refused)\n",
      "00:00:01 verbose #113 networking.test_port_open / port: 5555 / ex: System.AggregateException: One or more errors occurred. (Connection refused)\n",
      "00:00:01 verbose #114 networking.test_port_open / port: 5555 / ex: System.AggregateException: One or more errors occurred. (Connection refused)\n",
      "00:00:01 verbose #115 networking.test_port_open / port: 5555 / ex: System.AggregateException: One or more errors occurred. (Connection refused)\n",
      "00:00:01 verbose #116 networking.test_port_open / port: 5555 / ex: System.AggregateException: One or more errors occurred. (Connection refused)\n",
      "00:00:01 verbose #117 networking.test_port_open / port: 5555 / ex: System.AggregateException: One or more errors occurred. (Connection refused)\n",
      "00:00:01 verbose #118 networking.test_port_open / port: 5555 / ex: System.AggregateException: One or more errors occurred. (Connection refused)\n",
      "00:00:01 verbose #119 networking.test_port_open / port: 5555 / ex: System.AggregateException: One or more errors occurred. (Connection refused)\n",
      "00:00:01 verbose #120 networking.test_port_open / port: 5555 / ex: System.AggregateException: One or more errors occurred. (Connection refused)\n",
      "00:00:01 verbose #121 networking.test_port_open / port: 5555 / ex: System.AggregateException: One or more errors occurred. (Connection refused)\n",
      "00:00:01 verbose #122 networking.test_port_open / port: 5555 / ex: System.AggregateException: One or more errors occurred. (Connection refused)\n",
      "00:00:01 verbose #123 networking.test_port_open / port: 5555 / ex: System.AggregateException: One or more errors occurred. (Connection refused)\n",
      "00:00:01 verbose #124 networking.test_port_open / port: 5555 / ex: System.AggregateException: One or more errors occurred. (Connection refused)\n",
      "00:00:01 verbose #125 networking.test_port_open / port: 5555 / ex: System.AggregateException: One or more errors occurred. (Connection refused)\n",
      "00:00:01 verbose #126 networking.test_port_open / port: 5555 / ex: System.AggregateException: One or more errors occurred. (Connection refused)\n",
      "00:00:01 verbose #127 networking.test_port_open / port: 5555 / ex: System.AggregateException: One or more errors occurred. (Connection refused)\n",
      "00:00:01 verbose #128 networking.test_port_open / port: 5555 / ex: System.AggregateException: One or more errors occurred. (Connection refused)\n",
      "00:00:01 verbose #129 networking.test_port_open / port: 5555 / ex: System.AggregateException: One or more errors occurred. (Connection refused)\n",
      "00:00:01 verbose #130 networking.test_port_open / port: 5555 / ex: System.AggregateException: One or more errors occurred. (Connection refused)\n",
      "00:00:01 verbose #131 networking.test_port_open / port: 5555 / ex: System.AggregateException: One or more errors occurred. (Connection refused)\n",
      "00:00:01 verbose #132 networking.test_port_open / port: 5555 / ex: System.AggregateException: One or more errors occurred. (Connection refused)\n",
      "00:00:01 verbose #133 networking.test_port_open / port: 5555 / ex: System.AggregateException: One or more errors occurred. (Connection refused)\n",
      "00:00:01 verbose #134 networking.test_port_open / port: 5555 / ex: System.AggregateException: One or more errors occurred. (Connection refused)\n",
      "00:00:01 verbose #135 networking.test_port_open / port: 5555 / ex: System.AggregateException: One or more errors occurred. (Connection refused)\n",
      "00:00:01 verbose #136 networking.test_port_open / port: 5555 / ex: System.AggregateException: One or more errors occurred. (Connection refused)\n",
      "00:00:01 verbose #137 networking.test_port_open / port: 5555 / ex: System.AggregateException: One or more errors occurred. (Connection refused)\n",
      "00:00:01 verbose #138 networking.test_port_open / port: 5555 / ex: System.AggregateException: One or more errors occurred. (Connection refused)\n",
      "00:00:01 verbose #139 networking.test_port_open / port: 5555 / ex: System.AggregateException: One or more errors occurred. (Connection refused)\n",
      "00:00:01 verbose #140 networking.test_port_open / port: 5555 / ex: System.AggregateException: One or more errors occurred. (Connection refused)\n",
      "00:00:01 verbose #141 networking.test_port_open / port: 5555 / ex: System.AggregateException: One or more errors occurred. (Connection refused)\n",
      "00:00:01 verbose #142 networking.test_port_open / port: 5555 / ex: System.AggregateException: One or more errors occurred. (Connection refused)\n",
      "00:00:01 verbose #143 networking.test_port_open / port: 5555 / ex: System.AggregateException: One or more errors occurred. (Connection refused)\n",
      "00:00:01 verbose #144 networking.test_port_open / port: 5555 / ex: System.AggregateException: One or more errors occurred. (Connection refused)\n",
      "00:00:01 verbose #145 networking.test_port_open / port: 5555 / ex: System.AggregateException: One or more errors occurred. (Connection refused)\n",
      "00:00:01 verbose #146 networking.test_port_open / port: 5555 / ex: System.AggregateException: One or more errors occurred. (Connection refused)\n",
      "00:00:01 verbose #147 networking.test_port_open / port: 5555 / ex: System.AggregateException: One or more errors occurred. (Connection refused)\n",
      "00:00:01 verbose #148 networking.test_port_open / port: 5555 / ex: System.AggregateException: One or more errors occurred. (Connection refused)\n",
      "00:00:01 verbose #149 networking.test_port_open / port: 5555 / ex: System.AggregateException: One or more errors occurred. (Connection refused)\n",
      "00:00:01 verbose #150 networking.test_port_open / port: 5555 / ex: System.AggregateException: One or more errors occurred. (Connection refused)\n",
      "00:00:01 verbose #151 networking.test_port_open / port: 5555 / ex: System.AggregateException: One or more errors occurred. (Connection refused)\n",
      "00:00:01 verbose #152 networking.test_port_open / port: 5555 / ex: System.AggregateException: One or more errors occurred. (Connection refused)\n",
      "00:00:01 verbose #153 networking.test_port_open / port: 5555 / ex: System.AggregateException: One or more errors occurred. (Connection refused)\n",
      "00:00:01 verbose #154 networking.test_port_open / port: 5555 / ex: System.AggregateException: One or more errors occurred. (Connection refused)\n",
      "00:00:01 verbose #155 networking.test_port_open / port: 5555 / ex: System.AggregateException: One or more errors occurred. (Connection refused)\n",
      "00:00:01 verbose #156 networking.test_port_open / port: 5555 / ex: System.AggregateException: One or more errors occurred. (Connection refused)\n",
      "00:00:01 verbose #157 networking.test_port_open / port: 5555 / ex: System.AggregateException: One or more errors occurred. (Connection refused)\n",
      "00:00:01 verbose #158 networking.test_port_open / port: 5555 / ex: System.AggregateException: One or more errors occurred. (Connection refused)\n",
      "00:00:01 verbose #159 networking.test_port_open / port: 5555 / ex: System.AggregateException: One or more errors occurred. (Connection refused)\n",
      "00:00:01 verbose #160 networking.test_port_open / port: 5555 / ex: System.AggregateException: One or more errors occurred. (Connection refused)\n",
      "00:00:01 verbose #161 networking.test_port_open / port: 5555 / ex: System.AggregateException: One or more errors occurred. (Connection refused)\n",
      "00:00:01 verbose #162 networking.test_port_open / port: 5555 / ex: System.AggregateException: One or more errors occurred. (Connection refused)\n",
      "00:00:01 verbose #163 networking.test_port_open / port: 5555 / ex: System.AggregateException: One or more errors occurred. (Connection refused)\n",
      "00:00:01 verbose #164 networking.test_port_open / port: 5555 / ex: System.AggregateException: One or more errors occurred. (Connection refused)\n",
      "00:00:01 verbose #165 networking.test_port_open / port: 5555 / ex: System.AggregateException: One or more errors occurred. (Connection refused)\n",
      "00:00:01 verbose #166 networking.test_port_open / port: 5555 / ex: System.AggregateException: One or more errors occurred. (Connection refused)\n",
      "00:00:01 verbose #167 networking.test_port_open / port: 5555 / ex: System.AggregateException: One or more errors occurred. (Connection refused)\n",
      "00:00:01 verbose #168 networking.test_port_open / port: 5555 / ex: System.AggregateException: One or more errors occurred. (Connection refused)\n",
      "00:00:01 verbose #169 networking.test_port_open / port: 5555 / ex: System.AggregateException: One or more errors occurred. (Connection refused)\n",
      "00:00:01 verbose #170 networking.test_port_open / port: 5555 / ex: System.AggregateException: One or more errors occurred. (Connection refused)\n",
      "00:00:01 verbose #171 networking.test_port_open / port: 5555 / ex: System.AggregateException: One or more errors occurred. (Connection refused)\n",
      "00:00:02 verbose #172 networking.test_port_open / port: 5555 / ex: System.AggregateException: One or more errors occurred. (Connection refused)\n",
      "00:00:02 verbose #173 networking.test_port_open / port: 5555 / ex: System.AggregateException: One or more errors occurred. (Connection refused)\n",
      "00:00:02 verbose #174 networking.test_port_open / port: 5555 / ex: System.AggregateException: One or more errors occurred. (Connection refused)\n",
      "00:00:02 verbose #175 networking.test_port_open / port: 5555 / ex: System.AggregateException: One or more errors occurred. (Connection refused)\n",
      "00:00:02 verbose #176 networking.test_port_open / port: 5555 / ex: System.AggregateException: One or more errors occurred. (Connection refused)\n",
      "00:00:02 verbose #177 networking.test_port_open / port: 5555 / ex: System.AggregateException: One or more errors occurred. (Connection refused)\n",
      "00:00:02 verbose #178 networking.test_port_open / port: 5555 / ex: System.AggregateException: One or more errors occurred. (Connection refused)\n",
      "00:00:02 verbose #179 networking.test_port_open / port: 5555 / ex: System.AggregateException: One or more errors occurred. (Connection refused)\n",
      "00:00:02 verbose #180 networking.test_port_open / port: 5555 / ex: System.AggregateException: One or more errors occurred. (Connection refused)\n",
      "00:00:02 verbose #181 networking.test_port_open / port: 5555 / ex: System.AggregateException: One or more errors occurred. (Connection refused)\n",
      "00:00:02 verbose #182 networking.test_port_open / port: 5555 / ex: System.AggregateException: One or more errors occurred. (Connection refused)\n",
      "00:00:02 verbose #183 networking.test_port_open / port: 5555 / ex: System.AggregateException: One or more errors occurred. (Connection refused)\n",
      "00:00:02 verbose #184 networking.test_port_open / port: 5555 / ex: System.AggregateException: One or more errors occurred. (Connection refused)\n",
      "00:00:02 verbose #185 networking.test_port_open / port: 5555 / ex: System.AggregateException: One or more errors occurred. (Connection refused)\n",
      "00:00:02 verbose #186 networking.test_port_open / port: 5555 / ex: System.AggregateException: One or more errors occurred. (Connection refused)\n",
      "00:00:02 verbose #187 networking.test_port_open / port: 5555 / ex: System.AggregateException: One or more errors occurred. (Connection refused)\n",
      "00:00:02 verbose #188 networking.test_port_open / port: 5555 / ex: System.AggregateException: One or more errors occurred. (Connection refused)\n",
      "00:00:02 verbose #189 networking.test_port_open / port: 5555 / ex: System.AggregateException: One or more errors occurred. (Connection refused)\n",
      "00:00:02 verbose #190 networking.test_port_open / port: 5555 / ex: System.AggregateException: One or more errors occurred. (Connection refused)\n",
      "00:00:02 verbose #191 networking.test_port_open / port: 5555 / ex: System.AggregateException: One or more errors occurred. (Connection refused)\n",
      "00:00:02 verbose #192 networking.test_port_open / port: 5555 / ex: System.AggregateException: One or more errors occurred. (Connection refused)\n",
      "00:00:02 verbose #193 networking.test_port_open / port: 5555 / ex: System.AggregateException: One or more errors occurred. (Connection refused)\n",
      "00:00:02 verbose #194 networking.test_port_open / port: 5555 / ex: System.AggregateException: One or more errors occurred. (Connection refused)\n",
      "00:00:02 verbose #195 networking.test_port_open / port: 5555 / ex: System.AggregateException: One or more errors occurred. (Connection refused)\n",
      "00:00:02 verbose #196 networking.test_port_open / port: 5555 / ex: System.AggregateException: One or more errors occurred. (Connection refused)\n",
      "00:00:02 verbose #197 networking.test_port_open / port: 5555 / ex: System.AggregateException: One or more errors occurred. (Connection refused)\n",
      "00:00:02 verbose #198 networking.test_port_open / port: 5555 / ex: System.AggregateException: One or more errors occurred. (Connection refused)\n",
      "00:00:02 verbose #199 networking.test_port_open / port: 5555 / ex: System.AggregateException: One or more errors occurred. (Connection refused)\n",
      "00:00:02 verbose #200 networking.test_port_open / port: 5555 / ex: System.AggregateException: One or more errors occurred. (Connection refused)\n",
      "00:00:02 verbose #201 networking.test_port_open / port: 5555 / ex: System.AggregateException: One or more errors occurred. (Connection refused)\n",
      "00:00:02 verbose #202 networking.test_port_open / port: 5555 / ex: System.AggregateException: One or more errors occurred. (Connection refused)\n",
      "00:00:02 verbose #203 networking.test_port_open / port: 5555 / ex: System.AggregateException: One or more errors occurred. (Connection refused)\n",
      "00:00:02 verbose #204 networking.test_port_open / port: 5555 / ex: System.AggregateException: One or more errors occurred. (Connection refused)\n",
      "00:00:02 verbose #205 networking.test_port_open / port: 5555 / ex: System.AggregateException: One or more errors occurred. (Connection refused)\n",
      "00:00:02 verbose #206 networking.test_port_open / port: 5555 / ex: System.AggregateException: One or more errors occurred. (Connection refused)\n",
      "00:00:02 verbose #207 networking.test_port_open / port: 5555 / ex: System.AggregateException: One or more errors occurred. (Connection refused)\n",
      "00:00:02 verbose #208 networking.wait_for_port_access / port: 5555 / retry: 200 / timeout: None / status: True\n",
      "00:00:02 verbose #209 networking.test_port_open / port: 5555 / ex: System.AggregateException: One or more errors occurred. (Connection refused)\n",
      "00:00:02 verbose #210 networking.test_port_open / port: 5555 / ex: System.AggregateException: One or more errors occurred. (Connection refused)\n",
      "00:00:02 verbose #211 networking.test_port_open / port: 5555 / ex: System.AggregateException: One or more errors occurred. (Connection refused)\n",
      "00:00:02 verbose #212 networking.test_port_open / port: 5555 / ex: System.AggregateException: One or more errors occurred. (Connection refused)\n",
      "00:00:02 verbose #213 networking.test_port_open / port: 5555 / ex: System.AggregateException: One or more errors occurred. (Connection refused)\n",
      "00:00:02 verbose #214 networking.test_port_open / port: 5555 / ex: System.AggregateException: One or more errors occurred. (Connection refused)\n",
      "00:00:02 verbose #215 networking.test_port_open / port: 5555 / ex: System.AggregateException: One or more errors occurred. (Connection refused)\n",
      "00:00:02 verbose #216 networking.test_port_open / port: 5555 / ex: System.AggregateException: One or more errors occurred. (Connection refused)\n",
      "00:00:02 verbose #217 networking.test_port_open / port: 5555 / ex: System.AggregateException: One or more errors occurred. (Connection refused)\n",
      "00:00:02 verbose #218 networking.test_port_open / port: 5555 / ex: System.AggregateException: One or more errors occurred. (Connection refused)\n",
      "00:00:02 verbose #219 networking.test_port_open / port: 5555 / ex: System.AggregateException: One or more errors occurred. (Connection refused)\n",
      "00:00:02 verbose #220 networking.test_port_open / port: 5555 / ex: System.AggregateException: One or more errors occurred. (Connection refused)\n",
      "00:00:02 verbose #221 networking.test_port_open / port: 5555 / ex: System.AggregateException: One or more errors occurred. (Connection refused)\n",
      "00:00:02 verbose #222 networking.test_port_open / port: 5555 / ex: System.AggregateException: One or more errors occurred. (Connection refused)\n",
      "00:00:02 verbose #223 networking.test_port_open / port: 5555 / ex: System.AggregateException: One or more errors occurred. (Connection refused)\n",
      "00:00:02 verbose #224 networking.test_port_open / port: 5555 / ex: System.AggregateException: One or more errors occurred. (Connection refused)\n",
      "00:00:02 verbose #225 networking.test_port_open / port: 5555 / ex: System.AggregateException: One or more errors occurred. (Connection refused)\n",
      "00:00:02 verbose #226 networking.test_port_open / port: 5555 / ex: System.AggregateException: One or more errors occurred. (Connection refused)\n",
      "00:00:02 verbose #227 networking.test_port_open / port: 5555 / ex: System.AggregateException: One or more errors occurred. (Connection refused)\n",
      "00:00:02 verbose #228 networking.test_port_open / port: 5555 / ex: System.AggregateException: One or more errors occurred. (Connection refused)\n",
      "00:00:02 verbose #229 networking.test_port_open / port: 5555 / ex: System.AggregateException: One or more errors occurred. (Connection refused)\n",
      "00:00:02 verbose #230 networking.test_port_open / port: 5555 / ex: System.AggregateException: One or more errors occurred. (Connection refused)\n",
      "00:00:02 verbose #231 networking.test_port_open / port: 5555 / ex: System.AggregateException: One or more errors occurred. (Connection refused)\n",
      "00:00:02 verbose #232 networking.test_port_open / port: 5555 / ex: System.AggregateException: One or more errors occurred. (Connection refused)\n",
      "00:00:02 verbose #233 networking.test_port_open / port: 5555 / ex: System.AggregateException: One or more errors occurred. (Connection refused)\n",
      "00:00:02 verbose #234 networking.test_port_open / port: 5555 / ex: System.AggregateException: One or more errors occurred. (Connection refused)\n",
      "00:00:02 verbose #235 networking.test_port_open / port: 5555 / ex: System.AggregateException: One or more errors occurred. (Connection refused)\n",
      "00:00:02 verbose #236 networking.test_port_open / port: 5555 / ex: System.AggregateException: One or more errors occurred. (Connection refused)\n",
      "00:00:02 verbose #237 networking.test_port_open / port: 5555 / ex: System.AggregateException: One or more errors occurred. (Connection refused)\n",
      "00:00:02 verbose #238 networking.test_port_open / port: 5555 / ex: System.AggregateException: One or more errors occurred. (Connection refused)\n",
      "00:00:02 verbose #239 networking.test_port_open / port: 5555 / ex: System.AggregateException: One or more errors occurred. (Connection refused)\n",
      "00:00:02 verbose #240 networking.test_port_open / port: 5555 / ex: System.AggregateException: One or more errors occurred. (Connection refused)\n",
      "00:00:02 verbose #241 networking.test_port_open / port: 5555 / ex: System.AggregateException: One or more errors occurred. (Connection refused)\n",
      "00:00:02 verbose #242 networking.test_port_open / port: 5555 / ex: System.AggregateException: One or more errors occurred. (Connection refused)\n",
      "00:00:02 verbose #243 networking.test_port_open / port: 5555 / ex: System.AggregateException: One or more errors occurred. (Connection refused)\n",
      "00:00:02 verbose #244 networking.test_port_open / port: 5555 / ex: System.AggregateException: One or more errors occurred. (Connection refused)\n",
      "00:00:02 verbose #245 networking.test_port_open / port: 5555 / ex: System.AggregateException: One or more errors occurred. (Connection refused)\n",
      "00:00:02 verbose #246 networking.test_port_open / port: 5555 / ex: System.AggregateException: One or more errors occurred. (Connection refused)\n",
      "00:00:02 verbose #247 networking.test_port_open / port: 5555 / ex: System.AggregateException: One or more errors occurred. (Connection refused)\n",
      "00:00:02 verbose #248 networking.test_port_open / port: 5555 / ex: System.AggregateException: One or more errors occurred. (Connection refused)\n",
      "00:00:02 verbose #249 networking.test_port_open / port: 5555 / ex: System.AggregateException: One or more errors occurred. (Connection refused)\n",
      "00:00:02 verbose #250 networking.test_port_open / port: 5555 / ex: System.AggregateException: One or more errors occurred. (Connection refused)\n",
      "00:00:02 verbose #251 networking.test_port_open / port: 5555 / ex: System.AggregateException: One or more errors occurred. (Connection refused)\n",
      "00:00:02 verbose #252 networking.test_port_open / port: 5555 / ex: System.AggregateException: One or more errors occurred. (Connection refused)\n",
      "00:00:02 verbose #253 networking.test_port_open / port: 5555 / ex: System.AggregateException: One or more errors occurred. (Connection refused)\n",
      "00:00:02 verbose #254 networking.test_port_open / port: 5555 / ex: System.AggregateException: One or more errors occurred. (Connection refused)\n",
      "00:00:02 verbose #255 networking.test_port_open / port: 5555 / ex: System.AggregateException: One or more errors occurred. (Connection refused)\n",
      "00:00:02 verbose #256 networking.test_port_open / port: 5555 / ex: System.AggregateException: One or more errors occurred. (Connection refused)\n",
      "00:00:03 verbose #257 networking.test_port_open / port: 5555 / ex: System.AggregateException: One or more errors occurred. (Connection refused)\n",
      "00:00:03 verbose #258 networking.test_port_open / port: 5555 / ex: System.AggregateException: One or more errors occurred. (Connection refused)\n",
      "00:00:03 verbose #259 networking.test_port_open / port: 5555 / ex: System.AggregateException: One or more errors occurred. (Connection refused)\n",
      "00:00:03 verbose #260 networking.test_port_open / port: 5555 / ex: System.AggregateException: One or more errors occurred. (Connection refused)\n",
      "00:00:03 verbose #261 networking.test_port_open / port: 5555 / ex: System.AggregateException: One or more errors occurred. (Connection refused)\n",
      "00:00:03 verbose #262 networking.test_port_open / port: 5555 / ex: System.AggregateException: One or more errors occurred. (Connection refused)\n",
      "00:00:03 verbose #263 networking.test_port_open / port: 5555 / ex: System.AggregateException: One or more errors occurred. (Connection refused)\n",
      "00:00:03 verbose #264 networking.test_port_open / port: 5555 / ex: System.AggregateException: One or more errors occurred. (Connection refused)\n",
      "00:00:03 verbose #265 networking.test_port_open / port: 5555 / ex: System.AggregateException: One or more errors occurred. (Connection refused)\n",
      "00:00:03 verbose #266 networking.test_port_open / port: 5555 / ex: System.AggregateException: One or more errors occurred. (Connection refused)\n",
      "00:00:03 verbose #267 networking.test_port_open / port: 5555 / ex: System.AggregateException: One or more errors occurred. (Connection refused)\n",
      "00:00:03 verbose #268 networking.test_port_open / port: 5555 / ex: System.AggregateException: One or more errors occurred. (Connection refused)\n",
      "00:00:03 verbose #269 networking.test_port_open / port: 5555 / ex: System.AggregateException: One or more errors occurred. (Connection refused)\n",
      "00:00:03 verbose #270 networking.test_port_open / port: 5555 / ex: System.AggregateException: One or more errors occurred. (Connection refused)\n",
      "00:00:03 verbose #271 networking.test_port_open / port: 5555 / ex: System.AggregateException: One or more errors occurred. (Connection refused)\n",
      "00:00:03 verbose #272 networking.test_port_open / port: 5555 / ex: System.AggregateException: One or more errors occurred. (Connection refused)\n",
      "00:00:03 verbose #273 networking.test_port_open / port: 5555 / ex: System.AggregateException: One or more errors occurred. (Connection refused)\n",
      "00:00:03 verbose #274 networking.test_port_open / port: 5555 / ex: System.AggregateException: One or more errors occurred. (Connection refused)\n",
      "00:00:03 verbose #275 networking.test_port_open / port: 5555 / ex: System.AggregateException: One or more errors occurred. (Connection refused)\n",
      "00:00:03 verbose #276 networking.test_port_open / port: 5555 / ex: System.AggregateException: One or more errors occurred. (Connection refused)\n",
      "00:00:03 verbose #277 networking.test_port_open / port: 5555 / ex: System.AggregateException: One or more errors occurred. (Connection refused)\n",
      "00:00:03 verbose #278 networking.test_port_open / port: 5555 / ex: System.AggregateException: One or more errors occurred. (Connection refused)\n",
      "00:00:03 verbose #279 networking.test_port_open / port: 5555 / ex: System.AggregateException: One or more errors occurred. (Connection refused)\n",
      "00:00:03 verbose #280 networking.test_port_open / port: 5555 / ex: System.AggregateException: One or more errors occurred. (Connection refused)\n",
      "00:00:03 verbose #281 networking.test_port_open / port: 5555 / ex: System.AggregateException: One or more errors occurred. (Connection refused)\n",
      "00:00:03 verbose #282 networking.test_port_open / port: 5555 / ex: System.AggregateException: One or more errors occurred. (Connection refused)\n",
      "00:00:03 verbose #283 networking.test_port_open / port: 5555 / ex: System.AggregateException: One or more errors occurred. (Connection refused)\n",
      "00:00:03 verbose #284 networking.test_port_open / port: 5555 / ex: System.AggregateException: One or more errors occurred. (Connection refused)\n",
      "00:00:03 verbose #285 networking.test_port_open / port: 5555 / ex: System.AggregateException: One or more errors occurred. (Connection refused)\n",
      "00:00:03 verbose #286 networking.test_port_open / port: 5555 / ex: System.AggregateException: One or more errors occurred. (Connection refused)\n",
      "00:00:03 verbose #287 networking.test_port_open / port: 5555 / ex: System.AggregateException: One or more errors occurred. (Connection refused)\n",
      "00:00:03 verbose #288 networking.test_port_open / port: 5555 / ex: System.AggregateException: One or more errors occurred. (Connection refused)\n",
      "00:00:03 verbose #289 networking.test_port_open / port: 5555 / ex: System.AggregateException: One or more errors occurred. (Connection refused)\n",
      "00:00:03 verbose #290 networking.test_port_open / port: 5555 / ex: System.AggregateException: One or more errors occurred. (Connection refused)\n",
      "00:00:03 verbose #291 networking.test_port_open / port: 5555 / ex: System.AggregateException: One or more errors occurred. (Connection refused)\n",
      "00:00:03 verbose #292 networking.test_port_open / port: 5555 / ex: System.AggregateException: One or more errors occurred. (Connection refused)\n",
      "00:00:03 verbose #293 networking.test_port_open / port: 5555 / ex: System.AggregateException: One or more errors occurred. (Connection refused)\n",
      "00:00:03 verbose #294 networking.test_port_open / port: 5555 / ex: System.AggregateException: One or more errors occurred. (Connection refused)\n",
      "00:00:03 verbose #295 networking.test_port_open / port: 5555 / ex: System.AggregateException: One or more errors occurred. (Connection refused)\n",
      "00:00:03 verbose #296 networking.test_port_open / port: 5555 / ex: System.AggregateException: One or more errors occurred. (Connection refused)\n",
      "00:00:03 verbose #297 networking.test_port_open / port: 5555 / ex: System.AggregateException: One or more errors occurred. (Connection refused)\n",
      "00:00:03 verbose #298 networking.test_port_open / port: 5555 / ex: System.AggregateException: One or more errors occurred. (Connection refused)\n",
      "00:00:03 verbose #299 networking.test_port_open / port: 5555 / ex: System.AggregateException: One or more errors occurred. (Connection refused)\n",
      "00:00:03 verbose #300 networking.test_port_open / port: 5555 / ex: System.AggregateException: One or more errors occurred. (Connection refused)\n",
      "00:00:03 verbose #301 networking.test_port_open / port: 5555 / ex: System.AggregateException: One or more errors occurred. (Connection refused)\n",
      "00:00:03 verbose #302 networking.test_port_open / port: 5555 / ex: System.AggregateException: One or more errors occurred. (Connection refused)\n",
      "00:00:03 verbose #303 networking.test_port_open / port: 5555 / ex: System.AggregateException: One or more errors occurred. (Connection refused)\n",
      "00:00:03 verbose #304 networking.test_port_open / port: 5555 / ex: System.AggregateException: One or more errors occurred. (Connection refused)\n",
      "00:00:03 verbose #305 networking.test_port_open / port: 5555 / ex: System.AggregateException: One or more errors occurred. (Connection refused)\n",
      "00:00:03 verbose #306 networking.test_port_open / port: 5555 / ex: System.AggregateException: One or more errors occurred. (Connection refused)\n",
      "00:00:03 verbose #307 networking.test_port_open / port: 5555 / ex: System.AggregateException: One or more errors occurred. (Connection refused)\n",
      "00:00:03 verbose #308 networking.test_port_open / port: 5555 / ex: System.AggregateException: One or more errors occurred. (Connection refused)\n",
      "00:00:03 verbose #309 networking.wait_for_port_access / port: 5555 / retry: 300 / timeout: None / status: True\n",
      "00:00:03 verbose #310 networking.test_port_open / port: 5555 / ex: System.AggregateException: One or more errors occurred. (Connection refused)\n",
      "00:00:03 verbose #311 networking.test_port_open / port: 5555 / ex: System.AggregateException: One or more errors occurred. (Connection refused)\n",
      "00:00:03 verbose #312 networking.test_port_open / port: 5555 / ex: System.AggregateException: One or more errors occurred. (Connection refused)\n",
      "00:00:03 verbose #313 networking.test_port_open / port: 5555 / ex: System.AggregateException: One or more errors occurred. (Connection refused)\n",
      "00:00:03 verbose #314 networking.test_port_open / port: 5555 / ex: System.AggregateException: One or more errors occurred. (Connection refused)\n",
      "00:00:03 verbose #315 networking.test_port_open / port: 5555 / ex: System.AggregateException: One or more errors occurred. (Connection refused)\n",
      "00:00:03 verbose #316 networking.test_port_open / port: 5555 / ex: System.AggregateException: One or more errors occurred. (Connection refused)\n",
      "00:00:03 verbose #317 networking.test_port_open / port: 5555 / ex: System.AggregateException: One or more errors occurred. (Connection refused)\n",
      "00:00:03 verbose #318 networking.test_port_open / port: 5555 / ex: System.AggregateException: One or more errors occurred. (Connection refused)\n",
      "00:00:03 verbose #319 networking.test_port_open / port: 5555 / ex: System.AggregateException: One or more errors occurred. (Connection refused)\n",
      "00:00:03 verbose #320 networking.test_port_open / port: 5555 / ex: System.AggregateException: One or more errors occurred. (Connection refused)\n",
      "00:00:03 verbose #321 networking.test_port_open / port: 5555 / ex: System.AggregateException: One or more errors occurred. (Connection refused)\n",
      "00:00:03 verbose #322 networking.test_port_open / port: 5555 / ex: System.AggregateException: One or more errors occurred. (Connection refused)\n",
      "00:00:03 verbose #323 networking.test_port_open / port: 5555 / ex: System.AggregateException: One or more errors occurred. (Connection refused)\n",
      "00:00:03 verbose #324 networking.test_port_open / port: 5555 / ex: System.AggregateException: One or more errors occurred. (Connection refused)\n",
      "00:00:03 verbose #325 networking.test_port_open / port: 5555 / ex: System.AggregateException: One or more errors occurred. (Connection refused)\n",
      "00:00:03 verbose #326 networking.test_port_open / port: 5555 / ex: System.AggregateException: One or more errors occurred. (Connection refused)\n",
      "00:00:03 verbose #327 networking.test_port_open / port: 5555 / ex: System.AggregateException: One or more errors occurred. (Connection refused)\n",
      "00:00:03 verbose #328 networking.test_port_open / port: 5555 / ex: System.AggregateException: One or more errors occurred. (Connection refused)\n",
      "00:00:03 verbose #329 networking.test_port_open / port: 5555 / ex: System.AggregateException: One or more errors occurred. (Connection refused)\n",
      "00:00:03 verbose #330 networking.test_port_open / port: 5555 / ex: System.AggregateException: One or more errors occurred. (Connection refused)\n",
      "00:00:03 verbose #331 networking.test_port_open / port: 5555 / ex: System.AggregateException: One or more errors occurred. (Connection refused)\n",
      "00:00:03 verbose #332 networking.test_port_open / port: 5555 / ex: System.AggregateException: One or more errors occurred. (Connection refused)\n",
      "00:00:03 verbose #333 networking.test_port_open / port: 5555 / ex: System.AggregateException: One or more errors occurred. (Connection refused)\n",
      "00:00:03 verbose #334 networking.test_port_open / port: 5555 / ex: System.AggregateException: One or more errors occurred. (Connection refused)\n",
      "00:00:03 verbose #335 networking.test_port_open / port: 5555 / ex: System.AggregateException: One or more errors occurred. (Connection refused)\n",
      "00:00:03 verbose #336 networking.test_port_open / port: 5555 / ex: System.AggregateException: One or more errors occurred. (Connection refused)\n",
      "00:00:03 verbose #337 networking.test_port_open / port: 5555 / ex: System.AggregateException: One or more errors occurred. (Connection refused)\n",
      "00:00:03 verbose #338 networking.test_port_open / port: 5555 / ex: System.AggregateException: One or more errors occurred. (Connection refused)\n",
      "00:00:03 verbose #339 networking.test_port_open / port: 5555 / ex: System.AggregateException: One or more errors occurred. (Connection refused)\n",
      "00:00:03 verbose #340 networking.test_port_open / port: 5555 / ex: System.AggregateException: One or more errors occurred. (Connection refused)\n",
      "00:00:04 verbose #341 networking.test_port_open / port: 5555 / ex: System.AggregateException: One or more errors occurred. (Connection refused)\n",
      "00:00:04 verbose #342 networking.test_port_open / port: 5555 / ex: System.AggregateException: One or more errors occurred. (Connection refused)\n",
      "00:00:04 verbose #343 networking.test_port_open / port: 5555 / ex: System.AggregateException: One or more errors occurred. (Connection refused)\n",
      "00:00:04 verbose #344 networking.test_port_open / port: 5555 / ex: System.AggregateException: One or more errors occurred. (Connection refused)\n",
      "00:00:04 verbose #345 networking.test_port_open / port: 5555 / ex: System.AggregateException: One or more errors occurred. (Connection refused)\n",
      "00:00:04 verbose #346 networking.test_port_open / port: 5555 / ex: System.AggregateException: One or more errors occurred. (Connection refused)\n",
      "00:00:04 verbose #347 networking.test_port_open / port: 5555 / ex: System.AggregateException: One or more errors occurred. (Connection refused)\n",
      "00:00:04 verbose #348 networking.test_port_open / port: 5555 / ex: System.AggregateException: One or more errors occurred. (Connection refused)\n",
      "00:00:04 verbose #349 networking.test_port_open / port: 5555 / ex: System.AggregateException: One or more errors occurred. (Connection refused)\n",
      "00:00:04 verbose #350 networking.test_port_open / port: 5555 / ex: System.AggregateException: One or more errors occurred. (Connection refused)\n",
      "00:00:04 verbose #351 networking.test_port_open / port: 5555 / ex: System.AggregateException: One or more errors occurred. (Connection refused)\n",
      "00:00:04 verbose #352 networking.test_port_open / port: 5555 / ex: System.AggregateException: One or more errors occurred. (Connection refused)\n",
      "00:00:04 verbose #353 networking.test_port_open / port: 5555 / ex: System.AggregateException: One or more errors occurred. (Connection refused)\n",
      "00:00:04 verbose #354 networking.test_port_open / port: 5555 / ex: System.AggregateException: One or more errors occurred. (Connection refused)\n",
      "00:00:04 verbose #355 networking.test_port_open / port: 5555 / ex: System.AggregateException: One or more errors occurred. (Connection refused)\n",
      "00:00:04 verbose #356 networking.test_port_open / port: 5555 / ex: System.AggregateException: One or more errors occurred. (Connection refused)\n",
      "00:00:04 verbose #357 networking.test_port_open / port: 5555 / ex: System.AggregateException: One or more errors occurred. (Connection refused)\n",
      "00:00:04 verbose #358 networking.test_port_open / port: 5555 / ex: System.AggregateException: One or more errors occurred. (Connection refused)\n",
      "00:00:04 verbose #359 networking.test_port_open / port: 5555 / ex: System.AggregateException: One or more errors occurred. (Connection refused)\n",
      "00:00:04 verbose #360 networking.test_port_open / port: 5555 / ex: System.AggregateException: One or more errors occurred. (Connection refused)\n",
      "00:00:04 verbose #361 networking.test_port_open / port: 5555 / ex: System.AggregateException: One or more errors occurred. (Connection refused)\n",
      "00:00:04 verbose #362 networking.test_port_open / port: 5555 / ex: System.AggregateException: One or more errors occurred. (Connection refused)\n",
      "00:00:04 verbose #363 networking.test_port_open / port: 5555 / ex: System.AggregateException: One or more errors occurred. (Connection refused)\n",
      "00:00:04 verbose #364 networking.test_port_open / port: 5555 / ex: System.AggregateException: One or more errors occurred. (Connection refused)\n",
      "00:00:04 verbose #365 networking.test_port_open / port: 5555 / ex: System.AggregateException: One or more errors occurred. (Connection refused)\n",
      "00:00:04 verbose #366 networking.test_port_open / port: 5555 / ex: System.AggregateException: One or more errors occurred. (Connection refused)\n",
      "00:00:04 verbose #367 networking.test_port_open / port: 5555 / ex: System.AggregateException: One or more errors occurred. (Connection refused)\n",
      "00:00:04 verbose #368 networking.test_port_open / port: 5555 / ex: System.AggregateException: One or more errors occurred. (Connection refused)\n",
      "00:00:04 verbose #369 networking.test_port_open / port: 5555 / ex: System.AggregateException: One or more errors occurred. (Connection refused)\n",
      "00:00:04 verbose #370 networking.test_port_open / port: 5555 / ex: System.AggregateException: One or more errors occurred. (Connection refused)\n",
      "00:00:04 verbose #371 networking.test_port_open / port: 5555 / ex: System.AggregateException: One or more errors occurred. (Connection refused)\n",
      "00:00:04 verbose #372 networking.test_port_open / port: 5555 / ex: System.AggregateException: One or more errors occurred. (Connection refused)\n",
      "00:00:04 verbose #373 networking.test_port_open / port: 5555 / ex: System.AggregateException: One or more errors occurred. (Connection refused)\n",
      "00:00:04 verbose #374 networking.test_port_open / port: 5555 / ex: System.AggregateException: One or more errors occurred. (Connection refused)\n",
      "00:00:04 verbose #375 networking.test_port_open / port: 5555 / ex: System.AggregateException: One or more errors occurred. (Connection refused)\n",
      "00:00:04 verbose #376 networking.test_port_open / port: 5555 / ex: System.AggregateException: One or more errors occurred. (Connection refused)\n",
      "00:00:04 verbose #377 networking.test_port_open / port: 5555 / ex: System.AggregateException: One or more errors occurred. (Connection refused)\n",
      "00:00:04 verbose #378 networking.test_port_open / port: 5555 / ex: System.AggregateException: One or more errors occurred. (Connection refused)\n",
      "00:00:04 verbose #379 networking.test_port_open / port: 5555 / ex: System.AggregateException: One or more errors occurred. (Connection refused)\n",
      "00:00:04 verbose #380 networking.test_port_open / port: 5555 / ex: System.AggregateException: One or more errors occurred. (Connection refused)\n",
      "00:00:04 verbose #381 networking.test_port_open / port: 5555 / ex: System.AggregateException: One or more errors occurred. (Connection refused)\n",
      "00:00:04 verbose #382 networking.test_port_open / port: 5555 / ex: System.AggregateException: One or more errors occurred. (Connection refused)\n",
      "00:00:04 verbose #383 networking.test_port_open / port: 5555 / ex: System.AggregateException: One or more errors occurred. (Connection refused)\n",
      "00:00:04 verbose #384 networking.test_port_open / port: 5555 / ex: System.AggregateException: One or more errors occurred. (Connection refused)\n",
      "00:00:04 verbose #385 networking.test_port_open / port: 5555 / ex: System.AggregateException: One or more errors occurred. (Connection refused)\n",
      "00:00:04 verbose #386 networking.test_port_open / port: 5555 / ex: System.AggregateException: One or more errors occurred. (Connection refused)\n",
      "00:00:04 verbose #387 networking.test_port_open / port: 5555 / ex: System.AggregateException: One or more errors occurred. (Connection refused)\n",
      "00:00:04 verbose #388 networking.test_port_open / port: 5555 / ex: System.AggregateException: One or more errors occurred. (Connection refused)\n",
      "00:00:04 verbose #389 networking.test_port_open / port: 5555 / ex: System.AggregateException: One or more errors occurred. (Connection refused)\n",
      "00:00:04 verbose #390 networking.test_port_open / port: 5555 / ex: System.AggregateException: One or more errors occurred. (Connection refused)\n",
      "00:00:04 verbose #391 networking.test_port_open / port: 5555 / ex: System.AggregateException: One or more errors occurred. (Connection refused)\n",
      "00:00:04 verbose #392 networking.test_port_open / port: 5555 / ex: System.AggregateException: One or more errors occurred. (Connection refused)\n",
      "00:00:04 verbose #393 networking.test_port_open / port: 5555 / ex: System.AggregateException: One or more errors occurred. (Connection refused)\n",
      "00:00:04 verbose #394 networking.test_port_open / port: 5555 / ex: System.AggregateException: One or more errors occurred. (Connection refused)\n",
      "00:00:04 verbose #395 networking.test_port_open / port: 5555 / ex: System.AggregateException: One or more errors occurred. (Connection refused)\n",
      "00:00:04 verbose #396 networking.test_port_open / port: 5555 / ex: System.AggregateException: One or more errors occurred. (Connection refused)\n",
      "00:00:04 verbose #397 networking.test_port_open / port: 5555 / ex: System.AggregateException: One or more errors occurred. (Connection refused)\n",
      "00:00:04 verbose #398 networking.test_port_open / port: 5555 / ex: System.AggregateException: One or more errors occurred. (Connection refused)\n",
      "00:00:04 verbose #399 networking.test_port_open / port: 5555 / ex: System.AggregateException: One or more errors occurred. (Connection refused)\n",
      "00:00:04 verbose #400 networking.test_port_open / port: 5555 / ex: System.AggregateException: One or more errors occurred. (Connection refused)\n",
      "00:00:04 verbose #401 networking.test_port_open / port: 5555 / ex: System.AggregateException: One or more errors occurred. (Connection refused)\n",
      "00:00:04 verbose #402 networking.test_port_open / port: 5555 / ex: System.AggregateException: One or more errors occurred. (Connection refused)\n",
      "00:00:04 verbose #403 networking.test_port_open / port: 5555 / ex: System.AggregateException: One or more errors occurred. (Connection refused)\n",
      "00:00:04 verbose #404 networking.test_port_open / port: 5555 / ex: System.AggregateException: One or more errors occurred. (Connection refused)\n",
      "00:00:04 verbose #405 networking.test_port_open / port: 5555 / ex: System.AggregateException: One or more errors occurred. (Connection refused)\n",
      "00:00:04 verbose #406 networking.test_port_open / port: 5555 / ex: System.AggregateException: One or more errors occurred. (Connection refused)\n",
      "00:00:04 verbose #407 networking.test_port_open / port: 5555 / ex: System.AggregateException: One or more errors occurred. (Connection refused)\n",
      "00:00:04 verbose #408 networking.test_port_open / port: 5555 / ex: System.AggregateException: One or more errors occurred. (Connection refused)\n",
      "00:00:04 verbose #409 networking.test_port_open / port: 5555 / ex: System.AggregateException: One or more errors occurred. (Connection refused)\n",
      "00:00:04 verbose #410 networking.wait_for_port_access / port: 5555 / retry: 400 / timeout: None / status: True\n",
      "00:00:04 verbose #411 networking.test_port_open / port: 5555 / ex: System.AggregateException: One or more errors occurred. (Connection refused)\n",
      "00:00:04 verbose #412 networking.test_port_open / port: 5555 / ex: System.AggregateException: One or more errors occurred. (Connection refused)\n",
      "00:00:04 verbose #413 networking.test_port_open / port: 5555 / ex: System.AggregateException: One or more errors occurred. (Connection refused)\n",
      "00:00:04 verbose #414 networking.test_port_open / port: 5555 / ex: System.AggregateException: One or more errors occurred. (Connection refused)\n",
      "00:00:04 verbose #415 networking.test_port_open / port: 5555 / ex: System.AggregateException: One or more errors occurred. (Connection refused)\n",
      "00:00:04 verbose #416 networking.test_port_open / port: 5555 / ex: System.AggregateException: One or more errors occurred. (Connection refused)\n",
      "00:00:04 verbose #417 networking.test_port_open / port: 5555 / ex: System.AggregateException: One or more errors occurred. (Connection refused)\n",
      "00:00:04 verbose #418 networking.test_port_open / port: 5555 / ex: System.AggregateException: One or more errors occurred. (Connection refused)\n",
      "00:00:04 verbose #419 networking.test_port_open / port: 5555 / ex: System.AggregateException: One or more errors occurred. (Connection refused)\n",
      "00:00:04 verbose #420 networking.test_port_open / port: 5555 / ex: System.AggregateException: One or more errors occurred. (Connection refused)\n",
      "00:00:04 verbose #421 networking.test_port_open / port: 5555 / ex: System.AggregateException: One or more errors occurred. (Connection refused)\n",
      "00:00:04 verbose #422 networking.test_port_open / port: 5555 / ex: System.AggregateException: One or more errors occurred. (Connection refused)\n",
      "00:00:04 verbose #423 networking.test_port_open / port: 5555 / ex: System.AggregateException: One or more errors occurred. (Connection refused)\n",
      "00:00:04 verbose #424 networking.test_port_open / port: 5555 / ex: System.AggregateException: One or more errors occurred. (Connection refused)\n",
      "00:00:05 verbose #425 networking.test_port_open / port: 5555 / ex: System.AggregateException: One or more errors occurred. (Connection refused)\n",
      "00:00:05   debug #426 _2\n",
      "00:00:05   debug #427 _3\n",
      "00:00:05   debug #428 4\n",
      "00:00:05 verbose #429 networking.wait_for_port_access / port: 5555 / retry: 0 / timeout: None / status: False\n",
      "00:00:06 verbose #430 networking.wait_for_port_access / port: 5555 / retry: 100 / timeout: None / status: False\n",
      "00:00:07   debug #431 _4\n",
      "00:00:07   debug #432 _5\n",
      "00:00:07 verbose #433 networking.test_port_open / port: 5555 / ex: System.AggregateException: One or more errors occurred. (Connection refused)\n",
      "00:00:07   debug #434 5\n",
      "00:00:07   debug #435 6\n",
      "assert_between / actual: 416L / expected: struct (2L, 1500L)\n",
      "assert_between / actual: 166L / expected: struct (80L, 600L)\n",
      "assert_eq / actual: true / expected: true\n"
     ]
    }
   ],
   "source": [
    "//// test\n",
    "\n",
    "inl lock_port host port = async.new_async fun () =>\n",
    "    trace Debug (fun () => \"_1\") _locals\n",
    "    async.sleep 5000 |> async.do\n",
    "    inl listener = new_tcp_listener (host |> ip_address_parse) port |> use\n",
    "    trace Debug (fun () => \"_2\") _locals\n",
    "    listener |> listener_start\n",
    "    trace Debug (fun () => \"_3\") _locals\n",
    "    async.sleep 2000 |> async.do\n",
    "    trace Debug (fun () => \"_4\") _locals\n",
    "    $'!listener.Stop' ()\n",
    "    trace Debug (fun () => \"_5\") _locals\n",
    "\n",
    "inl host = \"127.0.0.1\"\n",
    "inl port = 5555i32\n",
    "\n",
    "fun () =>\n",
    "    trace Debug (fun () => \"1\") _locals\n",
    "    inl child = lock_port host port |> async.start_child |> async.let'\n",
    "    trace Debug (fun () => \"2\") _locals\n",
    "    async.sleep 1 |> async.do\n",
    "    trace Debug (fun () => \"3\") _locals\n",
    "    inl retries1 = wait_for_port_access (None |> optionm'.box) true host port |> async.let'\n",
    "    trace Debug (fun () => \"4\") _locals\n",
    "    inl retries2 = wait_for_port_access (None |> optionm'.box) false host port |> async.let'\n",
    "    trace Debug (fun () => \"5\") _locals\n",
    "    child |> async.do\n",
    "    trace Debug (fun () => \"6\") _locals\n",
    "    (retries1, retries2) |> return\n",
    "|> async.new_async_unit\n",
    "|> async.run_with_timeout 20000\n",
    "|> function\n",
    "    | Some (retries1, retries2) =>\n",
    "        retries1\n",
    "        |> _assert_between\n",
    "            if runtime.is_windows () then 2i64 else 2\n",
    "            if runtime.is_windows () then 5 else 1500\n",
    "\n",
    "        retries2\n",
    "        |> _assert_between\n",
    "            if runtime.is_windows () then 80i64 else 80\n",
    "            if runtime.is_windows () then 150 else 600\n",
    "\n",
    "        true\n",
    "    | _ => false\n",
    "|> _assert_eq true"
   ]
  },
  {
   "cell_type": "code",
   "execution_count": null,
   "metadata": {
    "dotnet_interactive": {
     "language": "spiral"
    },
    "polyglot_notebook": {
     "kernelName": "spiral"
    }
   },
   "outputs": [
    {
     "name": "stdout",
     "output_type": "stream",
     "text": [
      "00:00:00   debug #1 1\n",
      "00:00:00   debug #2 _1\n",
      "00:00:00   debug #3 2\n",
      "00:00:00   debug #4 3\n",
      "00:00:00 verbose #5 networking.test_port_open / port: 5555 / ex: System.AggregateException: One or more errors occurred. (Connection refused)\n",
      "00:00:00 verbose #6 networking.wait_for_port_access / port: 5555 / retry: 0 / timeout: Some 60 / status: True\n",
      "00:00:00 verbose #7 networking.test_port_open / port: 5555 / ex: System.AggregateException: One or more errors occurred. (Connection refused)\n",
      "00:00:00 verbose #8 networking.test_port_open / port: 5555 / ex: System.AggregateException: One or more errors occurred. (Connection refused)\n",
      "00:00:00 verbose #9 networking.test_port_open / port: 5555 / ex: System.AggregateException: One or more errors occurred. (Connection refused)\n",
      "00:00:00 verbose #10 networking.test_port_open / port: 5555 / ex: System.AggregateException: One or more errors occurred. (Connection refused)\n",
      "00:00:00 verbose #11 networking.test_port_open / port: 5555 / ex: System.AggregateException: One or more errors occurred. (Connection refused)\n",
      "00:00:00 verbose #12 networking.test_port_open / port: 5555 / ex: System.AggregateException: One or more errors occurred. (Connection refused)\n",
      "00:00:00 verbose #13 networking.test_port_open / port: 5555 / ex: System.AggregateException: One or more errors occurred. (Connection refused)\n",
      "00:00:00 verbose #14 networking.test_port_open / port: 5555 / ex: System.AggregateException: One or more errors occurred. (Connection refused)\n",
      "00:00:00 verbose #15 networking.test_port_open / port: 5555 / ex: System.AggregateException: One or more errors occurred. (Connection refused)\n",
      "00:00:00 verbose #16 networking.test_port_open / port: 5555 / ex: System.AggregateException: One or more errors occurred. (Connection refused)\n",
      "00:00:00 verbose #17 networking.test_port_open / port: 5555 / ex: System.AggregateException: One or more errors occurred. (Connection refused)\n",
      "00:00:00 verbose #18 networking.test_port_open / port: 5555 / ex: System.AggregateException: One or more errors occurred. (Connection refused)\n",
      "00:00:00 verbose #19 networking.test_port_open / port: 5555 / ex: System.AggregateException: One or more errors occurred. (Connection refused)\n",
      "00:00:00 verbose #20 networking.test_port_open / port: 5555 / ex: System.AggregateException: One or more errors occurred. (Connection refused)\n",
      "00:00:00 verbose #21 networking.test_port_open / port: 5555 / ex: System.AggregateException: One or more errors occurred. (Connection refused)\n",
      "00:00:00 verbose #22 networking.test_port_open / port: 5555 / ex: System.AggregateException: One or more errors occurred. (Connection refused)\n",
      "00:00:00 verbose #23 networking.test_port_open / port: 5555 / ex: System.AggregateException: One or more errors occurred. (Connection refused)\n",
      "00:00:00 verbose #24 networking.test_port_open / port: 5555 / ex: System.AggregateException: One or more errors occurred. (Connection refused)\n",
      "00:00:00 verbose #25 networking.test_port_open / port: 5555 / ex: System.AggregateException: One or more errors occurred. (Connection refused)\n",
      "00:00:00 verbose #26 networking.test_port_open / port: 5555 / ex: System.AggregateException: One or more errors occurred. (Connection refused)\n",
      "00:00:00 verbose #27 networking.test_port_open / port: 5555 / ex: System.AggregateException: One or more errors occurred. (Connection refused)\n",
      "00:00:00 verbose #28 networking.test_port_open / port: 5555 / ex: System.AggregateException: One or more errors occurred. (Connection refused)\n",
      "00:00:00 verbose #29 networking.test_port_open / port: 5555 / ex: System.AggregateException: One or more errors occurred. (Connection refused)\n",
      "00:00:00 verbose #30 networking.test_port_open / port: 5555 / ex: System.AggregateException: One or more errors occurred. (Connection refused)\n",
      "00:00:00 verbose #31 networking.test_port_open / port: 5555 / ex: System.AggregateException: One or more errors occurred. (Connection refused)\n",
      "00:00:00 verbose #32 networking.test_port_open / port: 5555 / ex: System.AggregateException: One or more errors occurred. (Connection refused)\n",
      "00:00:00 verbose #33 networking.test_port_open / port: 5555 / ex: System.AggregateException: One or more errors occurred. (Connection refused)\n",
      "00:00:00 verbose #34 networking.test_port_open / port: 5555 / ex: System.AggregateException: One or more errors occurred. (Connection refused)\n",
      "00:00:00 verbose #35 networking.test_port_open / port: 5555 / ex: System.AggregateException: One or more errors occurred. (Connection refused)\n",
      "00:00:00 verbose #36 networking.test_port_open / port: 5555 / ex: System.AggregateException: One or more errors occurred. (Connection refused)\n",
      "00:00:00 verbose #37 networking.test_port_open / port: 5555 / ex: System.AggregateException: One or more errors occurred. (Connection refused)\n",
      "00:00:00 verbose #38 networking.test_port_open / port: 5555 / ex: System.AggregateException: One or more errors occurred. (Connection refused)\n",
      "00:00:00 verbose #39 networking.test_port_open / port: 5555 / ex: System.AggregateException: One or more errors occurred. (Connection refused)\n",
      "00:00:00 verbose #40 networking.test_port_open / port: 5555 / ex: System.AggregateException: One or more errors occurred. (Connection refused)\n",
      "00:00:00 verbose #41 networking.test_port_open / port: 5555 / ex: System.AggregateException: One or more errors occurred. (Connection refused)\n",
      "00:00:00 verbose #42 networking.test_port_open / port: 5555 / ex: System.AggregateException: One or more errors occurred. (Connection refused)\n",
      "00:00:00 verbose #43 networking.test_port_open / port: 5555 / ex: System.AggregateException: One or more errors occurred. (Connection refused)\n",
      "00:00:00   debug #44 _2\n",
      "00:00:00   debug #45 _3\n",
      "00:00:00   debug #46 4\n",
      "00:00:00 verbose #47 networking.wait_for_port_access / port: 5555 / retry: 0 / timeout: Some 60 / status: False\n",
      "00:00:00   debug #48 _4\n",
      "00:00:00   debug #49 _5\n",
      "00:00:00 verbose #50 networking.test_port_open / port: 5555 / ex: System.AggregateException: One or more errors occurred. (Connection refused)\n",
      "00:00:00   debug #51 5\n",
      "00:00:00   debug #52 6\n",
      "assert_between / actual: 38L / expected: struct (2L, 150L)\n",
      "assert_between / actual: 16L / expected: struct (0L, 60L)\n",
      "assert_eq / actual: true / expected: true\n"
     ]
    }
   ],
   "source": [
    "//// test\n",
    "\n",
    "inl lock_port host port = async.new_async_unit fun () =>\n",
    "    trace Debug (fun () => \"_1\") _locals\n",
    "    async.sleep 500 |> async.do\n",
    "    inl listener = new_tcp_listener (ip_address_parse host) port |> use\n",
    "    trace Debug (fun () => \"_2\") _locals\n",
    "    listener |> listener_start\n",
    "    trace Debug (fun () => \"_3\") _locals\n",
    "    async.sleep 200 |> async.do\n",
    "    trace Debug (fun () => \"_4\") _locals\n",
    "    listener |> listener_stop\n",
    "    trace Debug (fun () => \"_5\") _locals\n",
    "\n",
    "inl host = \"127.0.0.1\"\n",
    "inl port = 5555\n",
    "\n",
    "fun () =>\n",
    "    trace Debug (fun () => \"1\") _locals\n",
    "    inl child = lock_port host port |> async.start_child |> async.let'\n",
    "    trace Debug (fun () => \"2\") _locals\n",
    "    async.sleep 1 |> async.do\n",
    "    trace Debug (fun () => \"3\") _locals\n",
    "    inl retries1 = wait_for_port_access (Some 60 |> optionm'.box) true host port |> async.let'\n",
    "    trace Debug (fun () => \"4\") _locals\n",
    "    inl retries2 = wait_for_port_access (Some 60 |> optionm'.box) false host port |> async.let'\n",
    "    trace Debug (fun () => \"5\") _locals\n",
    "    child |> async.do\n",
    "    trace Debug (fun () => \"6\") _locals\n",
    "    (retries1, retries2) |> return\n",
    "|> async.new_async_unit\n",
    "|> async.run_with_timeout 2000\n",
    "|> function\n",
    "    | Some (retries1, retries2) =>\n",
    "        retries1\n",
    "        |> _assert_between\n",
    "            if runtime.is_windows () then 4i64 else 2\n",
    "            if runtime.is_windows () then 15 else 150\n",
    "\n",
    "        retries2\n",
    "        |> _assert_between\n",
    "            if runtime.is_windows () then 5i64 else 0\n",
    "            if runtime.is_windows () then 20 else 60\n",
    "\n",
    "        true\n",
    "    | _ => false\n",
    "|> _assert_eq true"
   ]
  },
  {
   "cell_type": "markdown",
   "metadata": {},
   "source": [
    "## get_available_port"
   ]
  },
  {
   "cell_type": "code",
   "execution_count": null,
   "metadata": {
    "dotnet_interactive": {
     "language": "spiral"
    },
    "polyglot_notebook": {
     "kernelName": "spiral"
    }
   },
   "outputs": [],
   "source": [
    "inl get_available_port timeout host initial_port : _ i32 =\n",
    "    let rec loop port = async.new_async_unit fun () =>\n",
    "        inl is_port_open =\n",
    "            match timeout |> optionm'.unbox with\n",
    "            | None => test_port_open host port\n",
    "            | Some timeout => test_port_open_timeout timeout host port\n",
    "            |> async.let'\n",
    "        fix_condition\n",
    "            fun () => is_port_open |> not\n",
    "            fun () => port |> return\n",
    "            fun () => loop (port + 1) |> async.return_await\n",
    "    loop initial_port"
   ]
  },
  {
   "cell_type": "code",
   "execution_count": null,
   "metadata": {
    "dotnet_interactive": {
     "language": "spiral"
    },
    "polyglot_notebook": {
     "kernelName": "spiral"
    }
   },
   "outputs": [
    {
     "name": "stdout",
     "output_type": "stream",
     "text": [
      "00:00:00   debug #1 1\n",
      "00:00:00   debug #2 _1\n",
      "00:00:00   debug #3 2\n",
      "00:00:00   debug #4 _2\n",
      "00:00:00   debug #5 _3\n",
      "00:00:00   debug #6 3\n",
      "00:00:00 verbose #7 networking.test_port_open / port: 5557 / ex: System.AggregateException: One or more errors occurred. (Connection refused)\n",
      "00:00:00   debug #8 4\n",
      "00:00:00 verbose #9 networking.wait_for_port_access / port: 5555 / retry: 0 / timeout: None / status: False\n",
      "00:00:01 verbose #10 networking.wait_for_port_access / port: 5555 / retry: 100 / timeout: None / status: False\n",
      "00:00:02 verbose #11 networking.wait_for_port_access / port: 5555 / retry: 200 / timeout: None / status: False\n",
      "00:00:03 verbose #12 networking.wait_for_port_access / port: 5555 / retry: 300 / timeout: None / status: False\n",
      "00:00:04   debug #13 _4\n",
      "00:00:04   debug #14 _5\n",
      "00:00:04 verbose #15 networking.test_port_open / port: 5555 / ex: System.AggregateException: One or more errors occurred. (Connection refused)\n",
      "00:00:04   debug #16 5\n",
      "00:00:04   debug #17 6\n",
      "assert_eq / actual: 5557 / expected: 5557\n",
      "assert_between / actual: 313L / expected: struct (100L, 1200L)\n",
      "assert_eq / actual: true / expected: true\n"
     ]
    }
   ],
   "source": [
    "//// test\n",
    "\n",
    "inl lock_ports host port = async.new_async_unit fun () =>\n",
    "    trace Debug (fun () => \"_1\") _locals\n",
    "    inl listener1 = new_tcp_listener (ip_address_parse host) port |> use\n",
    "    inl listener2 = new_tcp_listener (ip_address_parse host) (port + 1) |> use\n",
    "    trace Debug (fun () => \"_2\") _locals\n",
    "    listener1 |> listener_start\n",
    "    listener2 |> listener_start\n",
    "    trace Debug (fun () => \"_3\") _locals\n",
    "    async.sleep 4000 |> async.do\n",
    "    trace Debug (fun () => \"_4\") _locals\n",
    "    listener1 |> listener_stop\n",
    "    listener2 |> listener_stop\n",
    "    trace Debug (fun () => \"_5\") _locals\n",
    "\n",
    "inl host = \"127.0.0.1\"\n",
    "inl port = 5555\n",
    "\n",
    "fun () =>\n",
    "    trace Debug (fun () => \"1\") _locals\n",
    "    inl child = lock_ports host port |> async.start_child |> async.let'\n",
    "    trace Debug (fun () => \"2\") _locals\n",
    "    async.sleep 240 |> async.do\n",
    "    trace Debug (fun () => \"3\") _locals\n",
    "    inl available_port = get_available_port (None |> optionm'.box) host port |> async.let'\n",
    "    trace Debug (fun () => \"4\") _locals\n",
    "    inl retries = wait_for_port_access (None |> optionm'.box) false host port |> async.let'\n",
    "    trace Debug (fun () => \"5\") _locals\n",
    "    child |> async.do\n",
    "    trace Debug (fun () => \"6\") _locals\n",
    "    (available_port, retries) |> return\n",
    "|> async.new_async_unit\n",
    "|> async.run_with_timeout 15000\n",
    "|> function\n",
    "    | Some (available_port, retries) =>\n",
    "        available_port |> _assert_eq (port + 2)\n",
    "\n",
    "        retries\n",
    "        |> _assert_between\n",
    "            if runtime.is_windows () then 100i64 else 100\n",
    "            if runtime.is_windows () then 150 else 1200\n",
    "\n",
    "        true\n",
    "    | _ => false\n",
    "|> _assert_eq true"
   ]
  },
  {
   "cell_type": "code",
   "execution_count": null,
   "metadata": {
    "dotnet_interactive": {
     "language": "spiral"
    },
    "polyglot_notebook": {
     "kernelName": "spiral"
    }
   },
   "outputs": [
    {
     "name": "stdout",
     "output_type": "stream",
     "text": [
      "00:00:00   debug #1 1\n",
      "00:00:00   debug #2 2\n",
      "00:00:00   debug #3 _1\n",
      "00:00:00   debug #4 _2\n",
      "00:00:00   debug #5 _3\n",
      "00:00:00   debug #6 3\n",
      "00:00:00 verbose #7 networking.test_port_open / port: 5557 / ex: System.AggregateException: One or more errors occurred. (Connection refused)\n",
      "00:00:00   debug #8 4\n",
      "00:00:00 verbose #9 networking.wait_for_port_access / port: 5555 / retry: 0 / timeout: Some 60 / status: False\n",
      "00:00:00   debug #10 _4\n",
      "00:00:00   debug #11 _5\n",
      "00:00:00 verbose #12 networking.test_port_open / port: 5555 / ex: System.AggregateException: One or more errors occurred. (Connection refused)\n",
      "00:00:00   debug #13 5\n",
      "00:00:00   debug #14 6\n",
      "assert_eq / actual: 5557 / expected: 5557\n",
      "assert_between / actual: 12L / expected: struct (1L, 120L)\n",
      "assert_eq / actual: true / expected: true\n"
     ]
    }
   ],
   "source": [
    "//// test\n",
    "\n",
    "inl lock_ports host port = async.new_async_unit fun () =>\n",
    "    trace Debug (fun () => \"_1\") _locals\n",
    "    inl listener1 = new_tcp_listener (ip_address_parse host) port |> use\n",
    "    inl listener2 = new_tcp_listener (ip_address_parse host) (port + 1) |> use\n",
    "    trace Debug (fun () => \"_2\") _locals\n",
    "    listener1 |> listener_start\n",
    "    listener2 |> listener_start\n",
    "    trace Debug (fun () => \"_3\") _locals\n",
    "    async.sleep 400 |> async.do\n",
    "    trace Debug (fun () => \"_4\") _locals\n",
    "    listener1 |> listener_stop\n",
    "    listener2 |> listener_stop\n",
    "    trace Debug (fun () => \"_5\") _locals\n",
    "\n",
    "inl host = \"127.0.0.1\"\n",
    "inl port = 5555\n",
    "\n",
    "fun () =>\n",
    "    trace Debug (fun () => \"1\") _locals\n",
    "    inl child = lock_ports host port |> async.start_child |> async.let'\n",
    "    trace Debug (fun () => \"2\") _locals\n",
    "    async.sleep 240 |> async.do\n",
    "    trace Debug (fun () => \"3\") _locals\n",
    "    inl available_port = get_available_port (Some 60 |> optionm'.box) host port |> async.let'\n",
    "    trace Debug (fun () => \"4\") _locals\n",
    "    inl retries = wait_for_port_access (Some 60 |> optionm'.box) false host port |> async.let'\n",
    "    trace Debug (fun () => \"5\") _locals\n",
    "    child |> async.do\n",
    "    trace Debug (fun () => \"6\") _locals\n",
    "    (available_port, retries) |> return\n",
    "|> async.new_async_unit\n",
    "|> async.run_with_timeout 1500\n",
    "|> function\n",
    "    | Some (available_port, retries) =>\n",
    "        available_port |> _assert_eq (port + 2)\n",
    "\n",
    "        retries\n",
    "        |> _assert_between\n",
    "            (if runtime.is_windows () then 2i64 else 1)\n",
    "            (if runtime.is_windows () then 10 else 120)\n",
    "\n",
    "        true\n",
    "    | _ => false\n",
    "|> _assert_eq true"
   ]
  },
  {
   "cell_type": "markdown",
   "metadata": {},
   "source": [
    "## main"
   ]
  },
  {
   "cell_type": "code",
   "execution_count": null,
   "metadata": {
    "dotnet_interactive": {
     "language": "spiral"
    },
    "polyglot_notebook": {
     "kernelName": "spiral"
    }
   },
   "outputs": [],
   "source": [
    "inl main () =\n",
    "    types ()\n",
    "    init_trace_state None\n",
    "    $\"let test_port_open x = !test_port_open x\" : ()\n",
    "    $\"let test_port_open_timeout x = !test_port_open_timeout x\" : ()\n",
    "    $\"let wait_for_port_access x = !wait_for_port_access x\" : ()\n",
    "    $\"let get_available_port x = !get_available_port x\" : ()"
   ]
  }
 ],
 "metadata": {},
 "nbformat": 4,
 "nbformat_minor": 5
}