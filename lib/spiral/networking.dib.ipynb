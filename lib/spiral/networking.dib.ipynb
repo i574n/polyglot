{
 "cells": [
  {
   "cell_type": "markdown",
   "metadata": {},
   "source": [
    "# networking"
   ]
  },
  {
   "cell_type": "code",
   "execution_count": null,
   "metadata": {
    "dotnet_interactive": {
     "language": "spiral"
    },
    "polyglot_notebook": {
     "kernelName": "spiral"
    }
   },
   "outputs": [],
   "source": [
    "open rust_operators"
   ]
  },
  {
   "cell_type": "code",
   "execution_count": null,
   "metadata": {
    "dotnet_interactive": {
     "language": "spiral"
    },
    "polyglot_notebook": {
     "kernelName": "spiral"
    }
   },
   "outputs": [],
   "source": [
    "//// test\n",
    "\n",
    "open testing"
   ]
  },
  {
   "cell_type": "markdown",
   "metadata": {},
   "source": [
    "## types"
   ]
  },
  {
   "cell_type": "code",
   "execution_count": null,
   "metadata": {
    "dotnet_interactive": {
     "language": "spiral"
    },
    "polyglot_notebook": {
     "kernelName": "spiral"
    }
   },
   "outputs": [],
   "source": [
    "inl types () =\n",
    "    backend_switch {\n",
    "        Fsharp = fun () =>\n",
    "            global \"#if FABLE_COMPILER\\n[<Fable.Core.Erase; Fable.Core.Emit(\\\"reqwest_wasm::Error\\\")>]\\n#endif\\ntype reqwest_Error = class end\"\n",
    "            global \"#if FABLE_COMPILER\\n[<Fable.Core.Erase; Fable.Core.Emit(\\\"reqwest_wasm::RequestBuilder\\\")>]\\n#endif\\ntype reqwest_RequestBuilder = class end\"\n",
    "            global \"#if FABLE_COMPILER\\n[<Fable.Core.Erase; Fable.Core.Emit(\\\"reqwest_wasm::Response\\\")>]\\n#endif\\ntype reqwest_Response = class end\"\n",
    "        Python = fun () => ()\n",
    "    }"
   ]
  },
  {
   "cell_type": "code",
   "execution_count": null,
   "metadata": {
    "dotnet_interactive": {
     "language": "spiral"
    },
    "polyglot_notebook": {
     "kernelName": "spiral"
    }
   },
   "outputs": [],
   "source": [
    "inl types () =\n",
    "    types ()\n",
    "    env.types ()\n",
    "    rust.types ()\n",
    "    sm'.types ()"
   ]
  },
  {
   "cell_type": "markdown",
   "metadata": {},
   "source": [
    "## rust"
   ]
  },
  {
   "cell_type": "markdown",
   "metadata": {},
   "source": [
    "### reqwest_response"
   ]
  },
  {
   "cell_type": "code",
   "execution_count": null,
   "metadata": {
    "dotnet_interactive": {
     "language": "spiral"
    },
    "polyglot_notebook": {
     "kernelName": "spiral"
    }
   },
   "outputs": [],
   "source": [
    "nominal reqwest_response = $'reqwest_Response'"
   ]
  },
  {
   "cell_type": "markdown",
   "metadata": {},
   "source": [
    "### reqwest_error"
   ]
  },
  {
   "cell_type": "code",
   "execution_count": null,
   "metadata": {
    "dotnet_interactive": {
     "language": "spiral"
    },
    "polyglot_notebook": {
     "kernelName": "spiral"
    }
   },
   "outputs": [],
   "source": [
    "nominal reqwest_error = $'reqwest_Error'"
   ]
  },
  {
   "cell_type": "markdown",
   "metadata": {},
   "source": [
    "### request_builder"
   ]
  },
  {
   "cell_type": "code",
   "execution_count": null,
   "metadata": {
    "dotnet_interactive": {
     "language": "spiral"
    },
    "polyglot_notebook": {
     "kernelName": "spiral"
    }
   },
   "outputs": [],
   "source": [
    "nominal request_builder = $'reqwest_RequestBuilder'"
   ]
  },
  {
   "cell_type": "markdown",
   "metadata": {},
   "source": [
    "### request_type"
   ]
  },
  {
   "cell_type": "code",
   "execution_count": null,
   "metadata": {
    "dotnet_interactive": {
     "language": "spiral"
    },
    "polyglot_notebook": {
     "kernelName": "spiral"
    }
   },
   "outputs": [],
   "source": [
    "union request_type =\n",
    "    | Get\n",
    "    | Post"
   ]
  },
  {
   "cell_type": "markdown",
   "metadata": {},
   "source": [
    "### request"
   ]
  },
  {
   "cell_type": "code",
   "execution_count": null,
   "metadata": {
    "dotnet_interactive": {
     "language": "spiral"
    },
    "polyglot_notebook": {
     "kernelName": "spiral"
    }
   },
   "outputs": [],
   "source": [
    "type request =\n",
    "    {\n",
    "        url : string\n",
    "        request_type : request_type\n",
    "        body : string\n",
    "        json : bool\n",
    "        auto_refresh : bool\n",
    "    }"
   ]
  },
  {
   "cell_type": "markdown",
   "metadata": {},
   "source": [
    "### new_request_get"
   ]
  },
  {
   "cell_type": "code",
   "execution_count": null,
   "metadata": {
    "dotnet_interactive": {
     "language": "spiral"
    },
    "polyglot_notebook": {
     "kernelName": "spiral"
    }
   },
   "outputs": [],
   "source": [
    "inl new_request_get (url : string) : request_builder =\n",
    "    inl url = join url\n",
    "    inl url = url |> sm'.to_std_string\n",
    "    inl url = join url\n",
    "    !\\($'\"reqwest_wasm::Client::builder().build().map_err(|err| err.to_string())?.get(!url)\"')"
   ]
  },
  {
   "cell_type": "markdown",
   "metadata": {},
   "source": [
    "### new_request_post"
   ]
  },
  {
   "cell_type": "code",
   "execution_count": null,
   "metadata": {
    "dotnet_interactive": {
     "language": "spiral"
    },
    "polyglot_notebook": {
     "kernelName": "spiral"
    }
   },
   "outputs": [],
   "source": [
    "inl new_request_post (url : string) : request_builder =\n",
    "    inl url = join url\n",
    "    inl url = url |> sm'.to_std_string\n",
    "    inl url = join url\n",
    "    !\\($'\"reqwest_wasm::Client::builder().build().map_err(|err| err.to_string())?.post(!url)\"')"
   ]
  },
  {
   "cell_type": "markdown",
   "metadata": {},
   "source": [
    "### request_send"
   ]
  },
  {
   "cell_type": "code",
   "execution_count": null,
   "metadata": {
    "dotnet_interactive": {
     "language": "spiral"
    },
    "polyglot_notebook": {
     "kernelName": "spiral"
    }
   },
   "outputs": [],
   "source": [
    "inl request_send (request : request_builder) : async.future_pin (resultm.result' reqwest_response reqwest_error) =\n",
    "    inl request = join request\n",
    "    !\\($'\"Box::pin(reqwest_wasm::RequestBuilder::send(!request))\"')"
   ]
  },
  {
   "cell_type": "markdown",
   "metadata": {},
   "source": [
    "### request_body"
   ]
  },
  {
   "cell_type": "code",
   "execution_count": null,
   "metadata": {
    "dotnet_interactive": {
     "language": "spiral"
    },
    "polyglot_notebook": {
     "kernelName": "spiral"
    }
   },
   "outputs": [],
   "source": [
    "inl request_body (body : string) (request : request_builder) : request_builder =\n",
    "    inl body = body |> sm'.to_std_string\n",
    "    !\\($'\"reqwest_wasm::RequestBuilder::body(!request, !body)\"')"
   ]
  },
  {
   "cell_type": "markdown",
   "metadata": {},
   "source": [
    "### request_header"
   ]
  },
  {
   "cell_type": "code",
   "execution_count": null,
   "metadata": {
    "dotnet_interactive": {
     "language": "spiral"
    },
    "polyglot_notebook": {
     "kernelName": "spiral"
    }
   },
   "outputs": [],
   "source": [
    "inl request_header (key : string) (value : string) (request : request_builder) : request_builder =\n",
    "    inl request = join request\n",
    "    inl key = key |> sm'.to_std_string\n",
    "    inl value = value |> sm'.to_std_string\n",
    "    !\\($'\"reqwest_wasm::RequestBuilder::header(!request, !key, !value)\"')"
   ]
  },
  {
   "cell_type": "markdown",
   "metadata": {},
   "source": [
    "### request_json"
   ]
  },
  {
   "cell_type": "code",
   "execution_count": null,
   "metadata": {
    "dotnet_interactive": {
     "language": "spiral"
    },
    "polyglot_notebook": {
     "kernelName": "spiral"
    }
   },
   "outputs": [],
   "source": [
    "inl request_json forall t. (obj : t) (request : request_builder) : request_builder =\n",
    "    !\\($'\"reqwest_wasm::RequestBuilder::json(!request, &!obj)\"')"
   ]
  },
  {
   "cell_type": "markdown",
   "metadata": {},
   "source": [
    "### response_text"
   ]
  },
  {
   "cell_type": "code",
   "execution_count": null,
   "metadata": {
    "dotnet_interactive": {
     "language": "spiral"
    },
    "polyglot_notebook": {
     "kernelName": "spiral"
    }
   },
   "outputs": [],
   "source": [
    "inl response_text (response : reqwest_response) : async.future_pin (resultm.result' sm'.std_string reqwest_error) =\n",
    "    !\\($'\"Box::pin(reqwest_wasm::Response::text(!response))\"')"
   ]
  },
  {
   "cell_type": "markdown",
   "metadata": {},
   "source": [
    "## fsharp"
   ]
  },
  {
   "cell_type": "markdown",
   "metadata": {},
   "source": [
    "### tcp_client"
   ]
  },
  {
   "cell_type": "code",
   "execution_count": null,
   "metadata": {
    "dotnet_interactive": {
     "language": "spiral"
    },
    "polyglot_notebook": {
     "kernelName": "spiral"
    }
   },
   "outputs": [],
   "source": [
    "nominal tcp_client = $'System.Net.Sockets.TcpClient'"
   ]
  },
  {
   "cell_type": "markdown",
   "metadata": {},
   "source": [
    "### new_tcp_client"
   ]
  },
  {
   "cell_type": "code",
   "execution_count": null,
   "metadata": {
    "dotnet_interactive": {
     "language": "spiral"
    },
    "polyglot_notebook": {
     "kernelName": "spiral"
    }
   },
   "outputs": [],
   "source": [
    "inl new_tcp_client () : tcp_client =\n",
    "    $'new `tcp_client ()'"
   ]
  },
  {
   "cell_type": "markdown",
   "metadata": {},
   "source": [
    "### ip_address"
   ]
  },
  {
   "cell_type": "code",
   "execution_count": null,
   "metadata": {
    "dotnet_interactive": {
     "language": "spiral"
    },
    "polyglot_notebook": {
     "kernelName": "spiral"
    }
   },
   "outputs": [],
   "source": [
    "nominal ip_address = $'System.Net.IPAddress'"
   ]
  },
  {
   "cell_type": "markdown",
   "metadata": {},
   "source": [
    "### ip_address_parse"
   ]
  },
  {
   "cell_type": "code",
   "execution_count": null,
   "metadata": {
    "dotnet_interactive": {
     "language": "spiral"
    },
    "polyglot_notebook": {
     "kernelName": "spiral"
    }
   },
   "outputs": [],
   "source": [
    "inl ip_address_parse (s : string) : ip_address =\n",
    "    s |> $'`ip_address.Parse'"
   ]
  },
  {
   "cell_type": "markdown",
   "metadata": {},
   "source": [
    "### tcp_listener"
   ]
  },
  {
   "cell_type": "code",
   "execution_count": null,
   "metadata": {
    "dotnet_interactive": {
     "language": "spiral"
    },
    "polyglot_notebook": {
     "kernelName": "spiral"
    }
   },
   "outputs": [],
   "source": [
    "nominal tcp_listener = $'System.Net.Sockets.TcpListener'"
   ]
  },
  {
   "cell_type": "markdown",
   "metadata": {},
   "source": [
    "### new_tcp_listener"
   ]
  },
  {
   "cell_type": "code",
   "execution_count": null,
   "metadata": {
    "dotnet_interactive": {
     "language": "spiral"
    },
    "polyglot_notebook": {
     "kernelName": "spiral"
    }
   },
   "outputs": [],
   "source": [
    "inl new_tcp_listener (ip_address : ip_address) (port : i32) : tcp_listener =\n",
    "    $'new `tcp_listener (!ip_address, !port)'"
   ]
  },
  {
   "cell_type": "markdown",
   "metadata": {},
   "source": [
    "### listener_start"
   ]
  },
  {
   "cell_type": "code",
   "execution_count": null,
   "metadata": {
    "dotnet_interactive": {
     "language": "spiral"
    },
    "polyglot_notebook": {
     "kernelName": "spiral"
    }
   },
   "outputs": [],
   "source": [
    "inl listener_start (listener : tcp_listener) : () =\n",
    "    $'!listener.Start' ()"
   ]
  },
  {
   "cell_type": "markdown",
   "metadata": {},
   "source": [
    "### listener_stop"
   ]
  },
  {
   "cell_type": "code",
   "execution_count": null,
   "metadata": {
    "dotnet_interactive": {
     "language": "spiral"
    },
    "polyglot_notebook": {
     "kernelName": "spiral"
    }
   },
   "outputs": [],
   "source": [
    "inl listener_stop (listener : tcp_listener) : () =\n",
    "    $'!listener.Stop' ()"
   ]
  },
  {
   "cell_type": "markdown",
   "metadata": {},
   "source": [
    "### client_connect_async"
   ]
  },
  {
   "cell_type": "code",
   "execution_count": null,
   "metadata": {
    "dotnet_interactive": {
     "language": "spiral"
    },
    "polyglot_notebook": {
     "kernelName": "spiral"
    }
   },
   "outputs": [],
   "source": [
    "inl client_connect_async\n",
    "    (host : string)\n",
    "    (port : i32)\n",
    "    (ct : threading.cancellation_token)\n",
    "    (client : tcp_client)\n",
    "    : async.value_task\n",
    "    =\n",
    "    $'!client.ConnectAsync (!host, !port, !ct)'"
   ]
  },
  {
   "cell_type": "markdown",
   "metadata": {},
   "source": [
    "### test_port_open"
   ]
  },
  {
   "cell_type": "code",
   "execution_count": null,
   "metadata": {
    "dotnet_interactive": {
     "language": "spiral"
    },
    "polyglot_notebook": {
     "kernelName": "spiral"
    }
   },
   "outputs": [],
   "source": [
    "inl test_port_open host port : _ bool = async.new_async fun () =>\n",
    "    inl ct = async.cancellation_token () |> async.let'\n",
    "    inl client = new_tcp_client () |> use\n",
    "    try_unit\n",
    "        fun () =>\n",
    "            client |> client_connect_async host port ct |> async.await_value_task_unit |> async.do\n",
    "            return true\n",
    "        fun ex =>\n",
    "            inl ex = ex |> sm'.format_exception\n",
    "            trace Verbose\n",
    "                fun () => $'$\"networking.test_port_open\"'\n",
    "                fun () => { port ex }\n",
    "            return false"
   ]
  },
  {
   "cell_type": "code",
   "execution_count": null,
   "metadata": {
    "dotnet_interactive": {
     "language": "spiral"
    },
    "polyglot_notebook": {
     "kernelName": "spiral"
    }
   },
   "outputs": [
    {
     "name": "stdout",
     "output_type": "stream",
     "text": [
      "00:00:00 \u001B[90mverbose\u001B[0m #1 networking.test_port_open / { port = 65536; ex = System.ArgumentOutOfRangeException: Specified argument was out of the range of valid values. (Parameter 'port') }\n",
      "assert_eq / actual: US4_0 false / expected: US4_0 false\n"
     ]
    }
   ],
   "source": [
    "//// test\n",
    "\n",
    "test_port_open \"127.0.0.1\" 65536\n",
    "|> async.run_with_timeout 120\n",
    "|> _assert_eq (Some false)"
   ]
  },
  {
   "cell_type": "markdown",
   "metadata": {},
   "source": [
    "### test_port_open_timeout"
   ]
  },
  {
   "cell_type": "code",
   "execution_count": null,
   "metadata": {
    "dotnet_interactive": {
     "language": "spiral"
    },
    "polyglot_notebook": {
     "kernelName": "spiral"
    }
   },
   "outputs": [],
   "source": [
    "inl test_port_open_timeout timeout host port : _ bool = async.new_async_unit fun () =>\n",
    "    test_port_open host port\n",
    "    |> async.run_with_timeout_async timeout\n",
    "    |> async.let'\n",
    "    |> function\n",
    "        | None => false\n",
    "        | Some result => result\n",
    "    |> return"
   ]
  },
  {
   "cell_type": "code",
   "execution_count": null,
   "metadata": {
    "dotnet_interactive": {
     "language": "spiral"
    },
    "polyglot_notebook": {
     "kernelName": "spiral"
    }
   },
   "outputs": [
    {
     "name": "stdout",
     "output_type": "stream",
     "text": [
      "00:00:00 \u001B[90mverbose\u001B[0m #1 networking.test_port_open / { port = 65535; ex = System.AggregateException: One or more errors occurred. (Connection refused) }\n",
      "assert_eq / actual: false / expected: false\n"
     ]
    }
   ],
   "source": [
    "//// test\n",
    "\n",
    "test_port_open_timeout 120 \"127.0.0.1\" 65535\n",
    "|> async.run_synchronously\n",
    "|> _assert_eq false"
   ]
  },
  {
   "cell_type": "markdown",
   "metadata": {},
   "source": [
    "### wait_for_port_access"
   ]
  },
  {
   "cell_type": "code",
   "execution_count": null,
   "metadata": {
    "dotnet_interactive": {
     "language": "spiral"
    },
    "polyglot_notebook": {
     "kernelName": "spiral"
    }
   },
   "outputs": [],
   "source": [
    "inl wait_for_port_access timeout status host port : _ i64 =\n",
    "    let rec loop retry : _ i64 = async.new_async_unit fun () =>\n",
    "        inl isPortOpen =\n",
    "            match timeout |> optionm'.unbox with\n",
    "            | None => test_port_open host port\n",
    "            | Some timeout => test_port_open_timeout timeout host port\n",
    "            |> async.let'\n",
    "\n",
    "        fix_condition\n",
    "            fun () => isPortOpen = status\n",
    "            fun () => retry |> return\n",
    "            fun () =>\n",
    "                if retry % 100 = 0 then\n",
    "                    trace Verbose\n",
    "                        fun () => \"networking.wait_for_port_access\"\n",
    "                        fun () => { port retry timeout status }\n",
    "                async.sleep 10 |> async.do\n",
    "                loop (retry + 1) |> async.return_await\n",
    "    loop 0i64"
   ]
  },
  {
   "cell_type": "code",
   "execution_count": null,
   "metadata": {
    "dotnet_interactive": {
     "language": "spiral"
    },
    "polyglot_notebook": {
     "kernelName": "spiral"
    }
   },
   "outputs": [
    {
     "name": "stdout",
     "output_type": "stream",
     "text": [
      "00:00:00 \u001B[94m  debug\u001B[0m #1 1\n",
      "00:00:00 \u001B[94m  debug\u001B[0m #2 _1\n",
      "00:00:00 \u001B[94m  debug\u001B[0m #3 2\n",
      "00:00:00 \u001B[94m  debug\u001B[0m #4 3\n",
      "00:00:00 \u001B[90mverbose\u001B[0m #5 networking.test_port_open / { port = 5555; ex = System.AggregateException: One or more errors occurred. (Connection refused) }\n",
      "00:00:00 \u001B[90mverbose\u001B[0m #6 networking.wait_for_port_access / { port = 5555; retry = 0; timeout = None; status = true }\n",
      "00:00:00 \u001B[90mverbose\u001B[0m #7 networking.test_port_open / { port = 5555; ex = System.AggregateException: One or more errors occurred. (Connection refused) }\n",
      "00:00:00 \u001B[90mverbose\u001B[0m #8 networking.test_port_open / { port = 5555; ex = System.AggregateException: One or more errors occurred. (Connection refused) }\n",
      "00:00:00 \u001B[90mverbose\u001B[0m #9 networking.test_port_open / { port = 5555; ex = System.AggregateException: One or more errors occurred. (Connection refused) }\n",
      "00:00:00 \u001B[90mverbose\u001B[0m #10 networking.test_port_open / { port = 5555; ex = System.AggregateException: One or more errors occurred. (Connection refused) }\n",
      "00:00:00 \u001B[90mverbose\u001B[0m #11 networking.test_port_open / { port = 5555; ex = System.AggregateException: One or more errors occurred. (Connection refused) }\n",
      "00:00:00 \u001B[90mverbose\u001B[0m #12 networking.test_port_open / { port = 5555; ex = System.AggregateException: One or more errors occurred. (Connection refused) }\n",
      "00:00:00 \u001B[90mverbose\u001B[0m #13 networking.test_port_open / { port = 5555; ex = System.AggregateException: One or more errors occurred. (Connection refused) }\n",
      "00:00:00 \u001B[90mverbose\u001B[0m #14 networking.test_port_open / { port = 5555; ex = System.AggregateException: One or more errors occurred. (Connection refused) }\n",
      "00:00:00 \u001B[90mverbose\u001B[0m #15 networking.test_port_open / { port = 5555; ex = System.AggregateException: One or more errors occurred. (Connection refused) }\n",
      "00:00:00 \u001B[90mverbose\u001B[0m #16 networking.test_port_open / { port = 5555; ex = System.AggregateException: One or more errors occurred. (Connection refused) }\n",
      "00:00:00 \u001B[90mverbose\u001B[0m #17 networking.test_port_open / { port = 5555; ex = System.AggregateException: One or more errors occurred. (Connection refused) }\n",
      "00:00:00 \u001B[90mverbose\u001B[0m #18 networking.test_port_open / { port = 5555; ex = System.AggregateException: One or more errors occurred. (Connection refused) }\n",
      "00:00:00 \u001B[90mverbose\u001B[0m #19 networking.test_port_open / { port = 5555; ex = System.AggregateException: One or more errors occurred. (Connection refused) }\n",
      "00:00:00 \u001B[90mverbose\u001B[0m #20 networking.test_port_open / { port = 5555; ex = System.AggregateException: One or more errors occurred. (Connection refused) }\n",
      "00:00:00 \u001B[90mverbose\u001B[0m #21 networking.test_port_open / { port = 5555; ex = System.AggregateException: One or more errors occurred. (Connection refused) }\n",
      "00:00:00 \u001B[90mverbose\u001B[0m #22 networking.test_port_open / { port = 5555; ex = System.AggregateException: One or more errors occurred. (Connection refused) }\n",
      "00:00:00 \u001B[90mverbose\u001B[0m #23 networking.test_port_open / { port = 5555; ex = System.AggregateException: One or more errors occurred. (Connection refused) }\n",
      "00:00:00 \u001B[90mverbose\u001B[0m #24 networking.test_port_open / { port = 5555; ex = System.AggregateException: One or more errors occurred. (Connection refused) }\n",
      "00:00:00 \u001B[90mverbose\u001B[0m #25 networking.test_port_open / { port = 5555; ex = System.AggregateException: One or more errors occurred. (Connection refused) }\n",
      "00:00:00 \u001B[90mverbose\u001B[0m #26 networking.test_port_open / { port = 5555; ex = System.AggregateException: One or more errors occurred. (Connection refused) }\n",
      "00:00:00 \u001B[90mverbose\u001B[0m #27 networking.test_port_open / { port = 5555; ex = System.AggregateException: One or more errors occurred. (Connection refused) }\n",
      "00:00:00 \u001B[90mverbose\u001B[0m #28 networking.test_port_open / { port = 5555; ex = System.AggregateException: One or more errors occurred. (Connection refused) }\n",
      "00:00:00 \u001B[90mverbose\u001B[0m #29 networking.test_port_open / { port = 5555; ex = System.AggregateException: One or more errors occurred. (Connection refused) }\n",
      "00:00:00 \u001B[90mverbose\u001B[0m #30 networking.test_port_open / { port = 5555; ex = System.AggregateException: One or more errors occurred. (Connection refused) }\n",
      "00:00:00 \u001B[90mverbose\u001B[0m #31 networking.test_port_open / { port = 5555; ex = System.AggregateException: One or more errors occurred. (Connection refused) }\n",
      "00:00:00 \u001B[90mverbose\u001B[0m #32 networking.test_port_open / { port = 5555; ex = System.AggregateException: One or more errors occurred. (Connection refused) }\n",
      "00:00:00 \u001B[90mverbose\u001B[0m #33 networking.test_port_open / { port = 5555; ex = System.AggregateException: One or more errors occurred. (Connection refused) }\n",
      "00:00:00 \u001B[90mverbose\u001B[0m #34 networking.test_port_open / { port = 5555; ex = System.AggregateException: One or more errors occurred. (Connection refused) }\n",
      "00:00:00 \u001B[90mverbose\u001B[0m #35 networking.test_port_open / { port = 5555; ex = System.AggregateException: One or more errors occurred. (Connection refused) }\n",
      "00:00:00 \u001B[90mverbose\u001B[0m #36 networking.test_port_open / { port = 5555; ex = System.AggregateException: One or more errors occurred. (Connection refused) }\n",
      "00:00:00 \u001B[90mverbose\u001B[0m #37 networking.test_port_open / { port = 5555; ex = System.AggregateException: One or more errors occurred. (Connection refused) }\n",
      "00:00:00 \u001B[90mverbose\u001B[0m #38 networking.test_port_open / { port = 5555; ex = System.AggregateException: One or more errors occurred. (Connection refused) }\n",
      "00:00:00 \u001B[90mverbose\u001B[0m #39 networking.test_port_open / { port = 5555; ex = System.AggregateException: One or more errors occurred. (Connection refused) }\n",
      "00:00:00 \u001B[90mverbose\u001B[0m #40 networking.test_port_open / { port = 5555; ex = System.AggregateException: One or more errors occurred. (Connection refused) }\n",
      "00:00:00 \u001B[90mverbose\u001B[0m #41 networking.test_port_open / { port = 5555; ex = System.AggregateException: One or more errors occurred. (Connection refused) }\n",
      "00:00:00 \u001B[90mverbose\u001B[0m #42 networking.test_port_open / { port = 5555; ex = System.AggregateException: One or more errors occurred. (Connection refused) }\n",
      "00:00:00 \u001B[90mverbose\u001B[0m #43 networking.test_port_open / { port = 5555; ex = System.AggregateException: One or more errors occurred. (Connection refused) }\n",
      "00:00:00 \u001B[90mverbose\u001B[0m #44 networking.test_port_open / { port = 5555; ex = System.AggregateException: One or more errors occurred. (Connection refused) }\n",
      "00:00:00 \u001B[90mverbose\u001B[0m #45 networking.test_port_open / { port = 5555; ex = System.AggregateException: One or more errors occurred. (Connection refused) }\n",
      "00:00:00 \u001B[90mverbose\u001B[0m #46 networking.test_port_open / { port = 5555; ex = System.AggregateException: One or more errors occurred. (Connection refused) }\n",
      "00:00:00 \u001B[90mverbose\u001B[0m #47 networking.test_port_open / { port = 5555; ex = System.AggregateException: One or more errors occurred. (Connection refused) }\n",
      "00:00:00 \u001B[90mverbose\u001B[0m #48 networking.test_port_open / { port = 5555; ex = System.AggregateException: One or more errors occurred. (Connection refused) }\n",
      "00:00:00 \u001B[90mverbose\u001B[0m #49 networking.test_port_open / { port = 5555; ex = System.AggregateException: One or more errors occurred. (Connection refused) }\n",
      "00:00:00 \u001B[90mverbose\u001B[0m #50 networking.test_port_open / { port = 5555; ex = System.AggregateException: One or more errors occurred. (Connection refused) }\n",
      "00:00:00 \u001B[90mverbose\u001B[0m #51 networking.test_port_open / { port = 5555; ex = System.AggregateException: One or more errors occurred. (Connection refused) }\n",
      "00:00:00 \u001B[90mverbose\u001B[0m #52 networking.test_port_open / { port = 5555; ex = System.AggregateException: One or more errors occurred. (Connection refused) }\n",
      "00:00:00 \u001B[90mverbose\u001B[0m #53 networking.test_port_open / { port = 5555; ex = System.AggregateException: One or more errors occurred. (Connection refused) }\n",
      "00:00:00 \u001B[90mverbose\u001B[0m #54 networking.test_port_open / { port = 5555; ex = System.AggregateException: One or more errors occurred. (Connection refused) }\n",
      "00:00:00 \u001B[90mverbose\u001B[0m #55 networking.test_port_open / { port = 5555; ex = System.AggregateException: One or more errors occurred. (Connection refused) }\n",
      "00:00:00 \u001B[90mverbose\u001B[0m #56 networking.test_port_open / { port = 5555; ex = System.AggregateException: One or more errors occurred. (Connection refused) }\n",
      "00:00:00 \u001B[90mverbose\u001B[0m #57 networking.test_port_open / { port = 5555; ex = System.AggregateException: One or more errors occurred. (Connection refused) }\n",
      "00:00:00 \u001B[90mverbose\u001B[0m #58 networking.test_port_open / { port = 5555; ex = System.AggregateException: One or more errors occurred. (Connection refused) }\n",
      "00:00:00 \u001B[90mverbose\u001B[0m #59 networking.test_port_open / { port = 5555; ex = System.AggregateException: One or more errors occurred. (Connection refused) }\n",
      "00:00:00 \u001B[90mverbose\u001B[0m #60 networking.test_port_open / { port = 5555; ex = System.AggregateException: One or more errors occurred. (Connection refused) }\n",
      "00:00:00 \u001B[90mverbose\u001B[0m #61 networking.test_port_open / { port = 5555; ex = System.AggregateException: One or more errors occurred. (Connection refused) }\n",
      "00:00:00 \u001B[90mverbose\u001B[0m #62 networking.test_port_open / { port = 5555; ex = System.AggregateException: One or more errors occurred. (Connection refused) }\n",
      "00:00:00 \u001B[90mverbose\u001B[0m #63 networking.test_port_open / { port = 5555; ex = System.AggregateException: One or more errors occurred. (Connection refused) }\n",
      "00:00:00 \u001B[90mverbose\u001B[0m #64 networking.test_port_open / { port = 5555; ex = System.AggregateException: One or more errors occurred. (Connection refused) }\n",
      "00:00:00 \u001B[90mverbose\u001B[0m #65 networking.test_port_open / { port = 5555; ex = System.AggregateException: One or more errors occurred. (Connection refused) }\n",
      "00:00:00 \u001B[90mverbose\u001B[0m #66 networking.test_port_open / { port = 5555; ex = System.AggregateException: One or more errors occurred. (Connection refused) }\n",
      "00:00:00 \u001B[90mverbose\u001B[0m #67 networking.test_port_open / { port = 5555; ex = System.AggregateException: One or more errors occurred. (Connection refused) }\n",
      "00:00:00 \u001B[90mverbose\u001B[0m #68 networking.test_port_open / { port = 5555; ex = System.AggregateException: One or more errors occurred. (Connection refused) }\n",
      "00:00:00 \u001B[90mverbose\u001B[0m #69 networking.test_port_open / { port = 5555; ex = System.AggregateException: One or more errors occurred. (Connection refused) }\n",
      "00:00:00 \u001B[90mverbose\u001B[0m #70 networking.test_port_open / { port = 5555; ex = System.AggregateException: One or more errors occurred. (Connection refused) }\n",
      "00:00:00 \u001B[90mverbose\u001B[0m #71 networking.test_port_open / { port = 5555; ex = System.AggregateException: One or more errors occurred. (Connection refused) }\n",
      "00:00:00 \u001B[90mverbose\u001B[0m #72 networking.test_port_open / { port = 5555; ex = System.AggregateException: One or more errors occurred. (Connection refused) }\n",
      "00:00:00 \u001B[90mverbose\u001B[0m #73 networking.test_port_open / { port = 5555; ex = System.AggregateException: One or more errors occurred. (Connection refused) }\n",
      "00:00:00 \u001B[90mverbose\u001B[0m #74 networking.test_port_open / { port = 5555; ex = System.AggregateException: One or more errors occurred. (Connection refused) }\n",
      "00:00:00 \u001B[90mverbose\u001B[0m #75 networking.test_port_open / { port = 5555; ex = System.AggregateException: One or more errors occurred. (Connection refused) }\n",
      "00:00:00 \u001B[90mverbose\u001B[0m #76 networking.test_port_open / { port = 5555; ex = System.AggregateException: One or more errors occurred. (Connection refused) }\n",
      "00:00:00 \u001B[90mverbose\u001B[0m #77 networking.test_port_open / { port = 5555; ex = System.AggregateException: One or more errors occurred. (Connection refused) }\n",
      "00:00:00 \u001B[90mverbose\u001B[0m #78 networking.test_port_open / { port = 5555; ex = System.AggregateException: One or more errors occurred. (Connection refused) }\n",
      "00:00:00 \u001B[90mverbose\u001B[0m #79 networking.test_port_open / { port = 5555; ex = System.AggregateException: One or more errors occurred. (Connection refused) }\n",
      "00:00:00 \u001B[90mverbose\u001B[0m #80 networking.test_port_open / { port = 5555; ex = System.AggregateException: One or more errors occurred. (Connection refused) }\n",
      "00:00:00 \u001B[90mverbose\u001B[0m #81 networking.test_port_open / { port = 5555; ex = System.AggregateException: One or more errors occurred. (Connection refused) }\n",
      "00:00:00 \u001B[90mverbose\u001B[0m #82 networking.test_port_open / { port = 5555; ex = System.AggregateException: One or more errors occurred. (Connection refused) }\n",
      "00:00:00 \u001B[90mverbose\u001B[0m #83 networking.test_port_open / { port = 5555; ex = System.AggregateException: One or more errors occurred. (Connection refused) }\n",
      "00:00:00 \u001B[90mverbose\u001B[0m #84 networking.test_port_open / { port = 5555; ex = System.AggregateException: One or more errors occurred. (Connection refused) }\n",
      "00:00:00 \u001B[90mverbose\u001B[0m #85 networking.test_port_open / { port = 5555; ex = System.AggregateException: One or more errors occurred. (Connection refused) }\n",
      "00:00:00 \u001B[90mverbose\u001B[0m #86 networking.test_port_open / { port = 5555; ex = System.AggregateException: One or more errors occurred. (Connection refused) }\n",
      "00:00:00 \u001B[90mverbose\u001B[0m #87 networking.test_port_open / { port = 5555; ex = System.AggregateException: One or more errors occurred. (Connection refused) }\n",
      "00:00:01 \u001B[90mverbose\u001B[0m #88 networking.test_port_open / { port = 5555; ex = System.AggregateException: One or more errors occurred. (Connection refused) }\n",
      "00:00:01 \u001B[90mverbose\u001B[0m #89 networking.test_port_open / { port = 5555; ex = System.AggregateException: One or more errors occurred. (Connection refused) }\n",
      "00:00:01 \u001B[90mverbose\u001B[0m #90 networking.test_port_open / { port = 5555; ex = System.AggregateException: One or more errors occurred. (Connection refused) }\n",
      "00:00:01 \u001B[90mverbose\u001B[0m #91 networking.test_port_open / { port = 5555; ex = System.AggregateException: One or more errors occurred. (Connection refused) }\n",
      "00:00:01 \u001B[90mverbose\u001B[0m #92 networking.test_port_open / { port = 5555; ex = System.AggregateException: One or more errors occurred. (Connection refused) }\n",
      "00:00:01 \u001B[90mverbose\u001B[0m #93 networking.test_port_open / { port = 5555; ex = System.AggregateException: One or more errors occurred. (Connection refused) }\n",
      "00:00:01 \u001B[90mverbose\u001B[0m #94 networking.test_port_open / { port = 5555; ex = System.AggregateException: One or more errors occurred. (Connection refused) }\n",
      "00:00:01 \u001B[90mverbose\u001B[0m #95 networking.test_port_open / { port = 5555; ex = System.AggregateException: One or more errors occurred. (Connection refused) }\n",
      "00:00:01 \u001B[90mverbose\u001B[0m #96 networking.test_port_open / { port = 5555; ex = System.AggregateException: One or more errors occurred. (Connection refused) }\n",
      "00:00:01 \u001B[90mverbose\u001B[0m #97 networking.test_port_open / { port = 5555; ex = System.AggregateException: One or more errors occurred. (Connection refused) }\n",
      "00:00:01 \u001B[90mverbose\u001B[0m #98 networking.test_port_open / { port = 5555; ex = System.AggregateException: One or more errors occurred. (Connection refused) }\n",
      "00:00:01 \u001B[90mverbose\u001B[0m #99 networking.test_port_open / { port = 5555; ex = System.AggregateException: One or more errors occurred. (Connection refused) }\n",
      "00:00:01 \u001B[90mverbose\u001B[0m #100 networking.test_port_open / { port = 5555; ex = System.AggregateException: One or more errors occurred. (Connection refused) }\n",
      "00:00:01 \u001B[90mverbose\u001B[0m #101 networking.test_port_open / { port = 5555; ex = System.AggregateException: One or more errors occurred. (Connection refused) }\n",
      "00:00:01 \u001B[90mverbose\u001B[0m #102 networking.test_port_open / { port = 5555; ex = System.AggregateException: One or more errors occurred. (Connection refused) }\n",
      "00:00:01 \u001B[90mverbose\u001B[0m #103 networking.test_port_open / { port = 5555; ex = System.AggregateException: One or more errors occurred. (Connection refused) }\n",
      "00:00:01 \u001B[90mverbose\u001B[0m #104 networking.test_port_open / { port = 5555; ex = System.AggregateException: One or more errors occurred. (Connection refused) }\n",
      "00:00:01 \u001B[90mverbose\u001B[0m #105 networking.test_port_open / { port = 5555; ex = System.AggregateException: One or more errors occurred. (Connection refused) }\n",
      "00:00:01 \u001B[90mverbose\u001B[0m #106 networking.test_port_open / { port = 5555; ex = System.AggregateException: One or more errors occurred. (Connection refused) }\n",
      "00:00:01 \u001B[90mverbose\u001B[0m #107 networking.wait_for_port_access / { port = 5555; retry = 100; timeout = None; status = true }\n",
      "00:00:01 \u001B[90mverbose\u001B[0m #108 networking.test_port_open / { port = 5555; ex = System.AggregateException: One or more errors occurred. (Connection refused) }\n",
      "00:00:01 \u001B[90mverbose\u001B[0m #109 networking.test_port_open / { port = 5555; ex = System.AggregateException: One or more errors occurred. (Connection refused) }\n",
      "00:00:01 \u001B[90mverbose\u001B[0m #110 networking.test_port_open / { port = 5555; ex = System.AggregateException: One or more errors occurred. (Connection refused) }\n",
      "00:00:01 \u001B[90mverbose\u001B[0m #111 networking.test_port_open / { port = 5555; ex = System.AggregateException: One or more errors occurred. (Connection refused) }\n",
      "00:00:01 \u001B[90mverbose\u001B[0m #112 networking.test_port_open / { port = 5555; ex = System.AggregateException: One or more errors occurred. (Connection refused) }\n",
      "00:00:01 \u001B[90mverbose\u001B[0m #113 networking.test_port_open / { port = 5555; ex = System.AggregateException: One or more errors occurred. (Connection refused) }\n",
      "00:00:01 \u001B[90mverbose\u001B[0m #114 networking.test_port_open / { port = 5555; ex = System.AggregateException: One or more errors occurred. (Connection refused) }\n",
      "00:00:01 \u001B[90mverbose\u001B[0m #115 networking.test_port_open / { port = 5555; ex = System.AggregateException: One or more errors occurred. (Connection refused) }\n",
      "00:00:01 \u001B[90mverbose\u001B[0m #116 networking.test_port_open / { port = 5555; ex = System.AggregateException: One or more errors occurred. (Connection refused) }\n",
      "00:00:01 \u001B[90mverbose\u001B[0m #117 networking.test_port_open / { port = 5555; ex = System.AggregateException: One or more errors occurred. (Connection refused) }\n",
      "00:00:01 \u001B[90mverbose\u001B[0m #118 networking.test_port_open / { port = 5555; ex = System.AggregateException: One or more errors occurred. (Connection refused) }\n",
      "00:00:01 \u001B[90mverbose\u001B[0m #119 networking.test_port_open / { port = 5555; ex = System.AggregateException: One or more errors occurred. (Connection refused) }\n",
      "00:00:01 \u001B[90mverbose\u001B[0m #120 networking.test_port_open / { port = 5555; ex = System.AggregateException: One or more errors occurred. (Connection refused) }\n",
      "00:00:01 \u001B[90mverbose\u001B[0m #121 networking.test_port_open / { port = 5555; ex = System.AggregateException: One or more errors occurred. (Connection refused) }\n",
      "00:00:01 \u001B[90mverbose\u001B[0m #122 networking.test_port_open / { port = 5555; ex = System.AggregateException: One or more errors occurred. (Connection refused) }\n",
      "00:00:01 \u001B[90mverbose\u001B[0m #123 networking.test_port_open / { port = 5555; ex = System.AggregateException: One or more errors occurred. (Connection refused) }\n",
      "00:00:01 \u001B[90mverbose\u001B[0m #124 networking.test_port_open / { port = 5555; ex = System.AggregateException: One or more errors occurred. (Connection refused) }\n",
      "00:00:01 \u001B[90mverbose\u001B[0m #125 networking.test_port_open / { port = 5555; ex = System.AggregateException: One or more errors occurred. (Connection refused) }\n",
      "00:00:01 \u001B[90mverbose\u001B[0m #126 networking.test_port_open / { port = 5555; ex = System.AggregateException: One or more errors occurred. (Connection refused) }\n",
      "00:00:01 \u001B[90mverbose\u001B[0m #127 networking.test_port_open / { port = 5555; ex = System.AggregateException: One or more errors occurred. (Connection refused) }\n",
      "00:00:01 \u001B[90mverbose\u001B[0m #128 networking.test_port_open / { port = 5555; ex = System.AggregateException: One or more errors occurred. (Connection refused) }\n",
      "00:00:01 \u001B[90mverbose\u001B[0m #129 networking.test_port_open / { port = 5555; ex = System.AggregateException: One or more errors occurred. (Connection refused) }\n",
      "00:00:01 \u001B[90mverbose\u001B[0m #130 networking.test_port_open / { port = 5555; ex = System.AggregateException: One or more errors occurred. (Connection refused) }\n",
      "00:00:01 \u001B[90mverbose\u001B[0m #131 networking.test_port_open / { port = 5555; ex = System.AggregateException: One or more errors occurred. (Connection refused) }\n",
      "00:00:01 \u001B[90mverbose\u001B[0m #132 networking.test_port_open / { port = 5555; ex = System.AggregateException: One or more errors occurred. (Connection refused) }\n",
      "00:00:01 \u001B[90mverbose\u001B[0m #133 networking.test_port_open / { port = 5555; ex = System.AggregateException: One or more errors occurred. (Connection refused) }\n",
      "00:00:01 \u001B[90mverbose\u001B[0m #134 networking.test_port_open / { port = 5555; ex = System.AggregateException: One or more errors occurred. (Connection refused) }\n",
      "00:00:01 \u001B[90mverbose\u001B[0m #135 networking.test_port_open / { port = 5555; ex = System.AggregateException: One or more errors occurred. (Connection refused) }\n",
      "00:00:01 \u001B[90mverbose\u001B[0m #136 networking.test_port_open / { port = 5555; ex = System.AggregateException: One or more errors occurred. (Connection refused) }\n",
      "00:00:01 \u001B[90mverbose\u001B[0m #137 networking.test_port_open / { port = 5555; ex = System.AggregateException: One or more errors occurred. (Connection refused) }\n",
      "00:00:01 \u001B[90mverbose\u001B[0m #138 networking.test_port_open / { port = 5555; ex = System.AggregateException: One or more errors occurred. (Connection refused) }\n",
      "00:00:01 \u001B[90mverbose\u001B[0m #139 networking.test_port_open / { port = 5555; ex = System.AggregateException: One or more errors occurred. (Connection refused) }\n",
      "00:00:01 \u001B[90mverbose\u001B[0m #140 networking.test_port_open / { port = 5555; ex = System.AggregateException: One or more errors occurred. (Connection refused) }\n",
      "00:00:01 \u001B[90mverbose\u001B[0m #141 networking.test_port_open / { port = 5555; ex = System.AggregateException: One or more errors occurred. (Connection refused) }\n",
      "00:00:01 \u001B[90mverbose\u001B[0m #142 networking.test_port_open / { port = 5555; ex = System.AggregateException: One or more errors occurred. (Connection refused) }\n",
      "00:00:01 \u001B[90mverbose\u001B[0m #143 networking.test_port_open / { port = 5555; ex = System.AggregateException: One or more errors occurred. (Connection refused) }\n",
      "00:00:01 \u001B[90mverbose\u001B[0m #144 networking.test_port_open / { port = 5555; ex = System.AggregateException: One or more errors occurred. (Connection refused) }\n",
      "00:00:01 \u001B[90mverbose\u001B[0m #145 networking.test_port_open / { port = 5555; ex = System.AggregateException: One or more errors occurred. (Connection refused) }\n",
      "00:00:01 \u001B[90mverbose\u001B[0m #146 networking.test_port_open / { port = 5555; ex = System.AggregateException: One or more errors occurred. (Connection refused) }\n",
      "00:00:01 \u001B[90mverbose\u001B[0m #147 networking.test_port_open / { port = 5555; ex = System.AggregateException: One or more errors occurred. (Connection refused) }\n",
      "00:00:01 \u001B[90mverbose\u001B[0m #148 networking.test_port_open / { port = 5555; ex = System.AggregateException: One or more errors occurred. (Connection refused) }\n",
      "00:00:01 \u001B[90mverbose\u001B[0m #149 networking.test_port_open / { port = 5555; ex = System.AggregateException: One or more errors occurred. (Connection refused) }\n",
      "00:00:01 \u001B[90mverbose\u001B[0m #150 networking.test_port_open / { port = 5555; ex = System.AggregateException: One or more errors occurred. (Connection refused) }\n",
      "00:00:01 \u001B[90mverbose\u001B[0m #151 networking.test_port_open / { port = 5555; ex = System.AggregateException: One or more errors occurred. (Connection refused) }\n",
      "00:00:01 \u001B[90mverbose\u001B[0m #152 networking.test_port_open / { port = 5555; ex = System.AggregateException: One or more errors occurred. (Connection refused) }\n",
      "00:00:01 \u001B[90mverbose\u001B[0m #153 networking.test_port_open / { port = 5555; ex = System.AggregateException: One or more errors occurred. (Connection refused) }\n",
      "00:00:01 \u001B[90mverbose\u001B[0m #154 networking.test_port_open / { port = 5555; ex = System.AggregateException: One or more errors occurred. (Connection refused) }\n",
      "00:00:01 \u001B[90mverbose\u001B[0m #155 networking.test_port_open / { port = 5555; ex = System.AggregateException: One or more errors occurred. (Connection refused) }\n",
      "00:00:01 \u001B[90mverbose\u001B[0m #156 networking.test_port_open / { port = 5555; ex = System.AggregateException: One or more errors occurred. (Connection refused) }\n",
      "00:00:01 \u001B[90mverbose\u001B[0m #157 networking.test_port_open / { port = 5555; ex = System.AggregateException: One or more errors occurred. (Connection refused) }\n",
      "00:00:01 \u001B[90mverbose\u001B[0m #158 networking.test_port_open / { port = 5555; ex = System.AggregateException: One or more errors occurred. (Connection refused) }\n",
      "00:00:01 \u001B[90mverbose\u001B[0m #159 networking.test_port_open / { port = 5555; ex = System.AggregateException: One or more errors occurred. (Connection refused) }\n",
      "00:00:01 \u001B[90mverbose\u001B[0m #160 networking.test_port_open / { port = 5555; ex = System.AggregateException: One or more errors occurred. (Connection refused) }\n",
      "00:00:01 \u001B[90mverbose\u001B[0m #161 networking.test_port_open / { port = 5555; ex = System.AggregateException: One or more errors occurred. (Connection refused) }\n",
      "00:00:01 \u001B[90mverbose\u001B[0m #162 networking.test_port_open / { port = 5555; ex = System.AggregateException: One or more errors occurred. (Connection refused) }\n",
      "00:00:01 \u001B[90mverbose\u001B[0m #163 networking.test_port_open / { port = 5555; ex = System.AggregateException: One or more errors occurred. (Connection refused) }\n",
      "00:00:01 \u001B[90mverbose\u001B[0m #164 networking.test_port_open / { port = 5555; ex = System.AggregateException: One or more errors occurred. (Connection refused) }\n",
      "00:00:01 \u001B[90mverbose\u001B[0m #165 networking.test_port_open / { port = 5555; ex = System.AggregateException: One or more errors occurred. (Connection refused) }\n",
      "00:00:01 \u001B[90mverbose\u001B[0m #166 networking.test_port_open / { port = 5555; ex = System.AggregateException: One or more errors occurred. (Connection refused) }\n",
      "00:00:01 \u001B[90mverbose\u001B[0m #167 networking.test_port_open / { port = 5555; ex = System.AggregateException: One or more errors occurred. (Connection refused) }\n",
      "00:00:01 \u001B[90mverbose\u001B[0m #168 networking.test_port_open / { port = 5555; ex = System.AggregateException: One or more errors occurred. (Connection refused) }\n",
      "00:00:01 \u001B[90mverbose\u001B[0m #169 networking.test_port_open / { port = 5555; ex = System.AggregateException: One or more errors occurred. (Connection refused) }\n",
      "00:00:01 \u001B[90mverbose\u001B[0m #170 networking.test_port_open / { port = 5555; ex = System.AggregateException: One or more errors occurred. (Connection refused) }\n",
      "00:00:01 \u001B[90mverbose\u001B[0m #171 networking.test_port_open / { port = 5555; ex = System.AggregateException: One or more errors occurred. (Connection refused) }\n",
      "00:00:01 \u001B[90mverbose\u001B[0m #172 networking.test_port_open / { port = 5555; ex = System.AggregateException: One or more errors occurred. (Connection refused) }\n",
      "00:00:02 \u001B[90mverbose\u001B[0m #173 networking.test_port_open / { port = 5555; ex = System.AggregateException: One or more errors occurred. (Connection refused) }\n",
      "00:00:02 \u001B[90mverbose\u001B[0m #174 networking.test_port_open / { port = 5555; ex = System.AggregateException: One or more errors occurred. (Connection refused) }\n",
      "00:00:02 \u001B[90mverbose\u001B[0m #175 networking.test_port_open / { port = 5555; ex = System.AggregateException: One or more errors occurred. (Connection refused) }\n",
      "00:00:02 \u001B[90mverbose\u001B[0m #176 networking.test_port_open / { port = 5555; ex = System.AggregateException: One or more errors occurred. (Connection refused) }\n",
      "00:00:02 \u001B[90mverbose\u001B[0m #177 networking.test_port_open / { port = 5555; ex = System.AggregateException: One or more errors occurred. (Connection refused) }\n",
      "00:00:02 \u001B[90mverbose\u001B[0m #178 networking.test_port_open / { port = 5555; ex = System.AggregateException: One or more errors occurred. (Connection refused) }\n",
      "00:00:02 \u001B[90mverbose\u001B[0m #179 networking.test_port_open / { port = 5555; ex = System.AggregateException: One or more errors occurred. (Connection refused) }\n",
      "00:00:02 \u001B[90mverbose\u001B[0m #180 networking.test_port_open / { port = 5555; ex = System.AggregateException: One or more errors occurred. (Connection refused) }\n",
      "00:00:02 \u001B[90mverbose\u001B[0m #181 networking.test_port_open / { port = 5555; ex = System.AggregateException: One or more errors occurred. (Connection refused) }\n",
      "00:00:02 \u001B[90mverbose\u001B[0m #182 networking.test_port_open / { port = 5555; ex = System.AggregateException: One or more errors occurred. (Connection refused) }\n",
      "00:00:02 \u001B[90mverbose\u001B[0m #183 networking.test_port_open / { port = 5555; ex = System.AggregateException: One or more errors occurred. (Connection refused) }\n",
      "00:00:02 \u001B[90mverbose\u001B[0m #184 networking.test_port_open / { port = 5555; ex = System.AggregateException: One or more errors occurred. (Connection refused) }\n",
      "00:00:02 \u001B[90mverbose\u001B[0m #185 networking.test_port_open / { port = 5555; ex = System.AggregateException: One or more errors occurred. (Connection refused) }\n",
      "00:00:02 \u001B[90mverbose\u001B[0m #186 networking.test_port_open / { port = 5555; ex = System.AggregateException: One or more errors occurred. (Connection refused) }\n",
      "00:00:02 \u001B[90mverbose\u001B[0m #187 networking.test_port_open / { port = 5555; ex = System.AggregateException: One or more errors occurred. (Connection refused) }\n",
      "00:00:02 \u001B[90mverbose\u001B[0m #188 networking.test_port_open / { port = 5555; ex = System.AggregateException: One or more errors occurred. (Connection refused) }\n",
      "00:00:02 \u001B[90mverbose\u001B[0m #189 networking.test_port_open / { port = 5555; ex = System.AggregateException: One or more errors occurred. (Connection refused) }\n",
      "00:00:02 \u001B[90mverbose\u001B[0m #190 networking.test_port_open / { port = 5555; ex = System.AggregateException: One or more errors occurred. (Connection refused) }\n",
      "00:00:02 \u001B[90mverbose\u001B[0m #191 networking.test_port_open / { port = 5555; ex = System.AggregateException: One or more errors occurred. (Connection refused) }\n",
      "00:00:02 \u001B[90mverbose\u001B[0m #192 networking.test_port_open / { port = 5555; ex = System.AggregateException: One or more errors occurred. (Connection refused) }\n",
      "00:00:02 \u001B[90mverbose\u001B[0m #193 networking.test_port_open / { port = 5555; ex = System.AggregateException: One or more errors occurred. (Connection refused) }\n",
      "00:00:02 \u001B[90mverbose\u001B[0m #194 networking.test_port_open / { port = 5555; ex = System.AggregateException: One or more errors occurred. (Connection refused) }\n",
      "00:00:02 \u001B[90mverbose\u001B[0m #195 networking.test_port_open / { port = 5555; ex = System.AggregateException: One or more errors occurred. (Connection refused) }\n",
      "00:00:02 \u001B[90mverbose\u001B[0m #196 networking.test_port_open / { port = 5555; ex = System.AggregateException: One or more errors occurred. (Connection refused) }\n",
      "00:00:02 \u001B[90mverbose\u001B[0m #197 networking.test_port_open / { port = 5555; ex = System.AggregateException: One or more errors occurred. (Connection refused) }\n",
      "00:00:02 \u001B[90mverbose\u001B[0m #198 networking.test_port_open / { port = 5555; ex = System.AggregateException: One or more errors occurred. (Connection refused) }\n",
      "00:00:02 \u001B[90mverbose\u001B[0m #199 networking.test_port_open / { port = 5555; ex = System.AggregateException: One or more errors occurred. (Connection refused) }\n",
      "00:00:02 \u001B[90mverbose\u001B[0m #200 networking.test_port_open / { port = 5555; ex = System.AggregateException: One or more errors occurred. (Connection refused) }\n",
      "00:00:02 \u001B[90mverbose\u001B[0m #201 networking.test_port_open / { port = 5555; ex = System.AggregateException: One or more errors occurred. (Connection refused) }\n",
      "00:00:02 \u001B[90mverbose\u001B[0m #202 networking.test_port_open / { port = 5555; ex = System.AggregateException: One or more errors occurred. (Connection refused) }\n",
      "00:00:02 \u001B[90mverbose\u001B[0m #203 networking.test_port_open / { port = 5555; ex = System.AggregateException: One or more errors occurred. (Connection refused) }\n",
      "00:00:02 \u001B[90mverbose\u001B[0m #204 networking.test_port_open / { port = 5555; ex = System.AggregateException: One or more errors occurred. (Connection refused) }\n",
      "00:00:02 \u001B[90mverbose\u001B[0m #205 networking.test_port_open / { port = 5555; ex = System.AggregateException: One or more errors occurred. (Connection refused) }\n",
      "00:00:02 \u001B[90mverbose\u001B[0m #206 networking.test_port_open / { port = 5555; ex = System.AggregateException: One or more errors occurred. (Connection refused) }\n",
      "00:00:02 \u001B[90mverbose\u001B[0m #207 networking.test_port_open / { port = 5555; ex = System.AggregateException: One or more errors occurred. (Connection refused) }\n",
      "00:00:02 \u001B[90mverbose\u001B[0m #208 networking.wait_for_port_access / { port = 5555; retry = 200; timeout = None; status = true }\n",
      "00:00:02 \u001B[90mverbose\u001B[0m #209 networking.test_port_open / { port = 5555; ex = System.AggregateException: One or more errors occurred. (Connection refused) }\n",
      "00:00:02 \u001B[90mverbose\u001B[0m #210 networking.test_port_open / { port = 5555; ex = System.AggregateException: One or more errors occurred. (Connection refused) }\n",
      "00:00:02 \u001B[90mverbose\u001B[0m #211 networking.test_port_open / { port = 5555; ex = System.AggregateException: One or more errors occurred. (Connection refused) }\n",
      "00:00:02 \u001B[90mverbose\u001B[0m #212 networking.test_port_open / { port = 5555; ex = System.AggregateException: One or more errors occurred. (Connection refused) }\n",
      "00:00:02 \u001B[90mverbose\u001B[0m #213 networking.test_port_open / { port = 5555; ex = System.AggregateException: One or more errors occurred. (Connection refused) }\n",
      "00:00:02 \u001B[90mverbose\u001B[0m #214 networking.test_port_open / { port = 5555; ex = System.AggregateException: One or more errors occurred. (Connection refused) }\n",
      "00:00:02 \u001B[90mverbose\u001B[0m #215 networking.test_port_open / { port = 5555; ex = System.AggregateException: One or more errors occurred. (Connection refused) }\n",
      "00:00:02 \u001B[90mverbose\u001B[0m #216 networking.test_port_open / { port = 5555; ex = System.AggregateException: One or more errors occurred. (Connection refused) }\n",
      "00:00:02 \u001B[90mverbose\u001B[0m #217 networking.test_port_open / { port = 5555; ex = System.AggregateException: One or more errors occurred. (Connection refused) }\n",
      "00:00:02 \u001B[90mverbose\u001B[0m #218 networking.test_port_open / { port = 5555; ex = System.AggregateException: One or more errors occurred. (Connection refused) }\n",
      "00:00:02 \u001B[90mverbose\u001B[0m #219 networking.test_port_open / { port = 5555; ex = System.AggregateException: One or more errors occurred. (Connection refused) }\n",
      "00:00:02 \u001B[90mverbose\u001B[0m #220 networking.test_port_open / { port = 5555; ex = System.AggregateException: One or more errors occurred. (Connection refused) }\n",
      "00:00:02 \u001B[90mverbose\u001B[0m #221 networking.test_port_open / { port = 5555; ex = System.AggregateException: One or more errors occurred. (Connection refused) }\n",
      "00:00:02 \u001B[90mverbose\u001B[0m #222 networking.test_port_open / { port = 5555; ex = System.AggregateException: One or more errors occurred. (Connection refused) }\n",
      "00:00:02 \u001B[90mverbose\u001B[0m #223 networking.test_port_open / { port = 5555; ex = System.AggregateException: One or more errors occurred. (Connection refused) }\n",
      "00:00:02 \u001B[90mverbose\u001B[0m #224 networking.test_port_open / { port = 5555; ex = System.AggregateException: One or more errors occurred. (Connection refused) }\n",
      "00:00:02 \u001B[90mverbose\u001B[0m #225 networking.test_port_open / { port = 5555; ex = System.AggregateException: One or more errors occurred. (Connection refused) }\n",
      "00:00:02 \u001B[90mverbose\u001B[0m #226 networking.test_port_open / { port = 5555; ex = System.AggregateException: One or more errors occurred. (Connection refused) }\n",
      "00:00:02 \u001B[90mverbose\u001B[0m #227 networking.test_port_open / { port = 5555; ex = System.AggregateException: One or more errors occurred. (Connection refused) }\n",
      "00:00:02 \u001B[90mverbose\u001B[0m #228 networking.test_port_open / { port = 5555; ex = System.AggregateException: One or more errors occurred. (Connection refused) }\n",
      "00:00:02 \u001B[90mverbose\u001B[0m #229 networking.test_port_open / { port = 5555; ex = System.AggregateException: One or more errors occurred. (Connection refused) }\n",
      "00:00:02 \u001B[90mverbose\u001B[0m #230 networking.test_port_open / { port = 5555; ex = System.AggregateException: One or more errors occurred. (Connection refused) }\n",
      "00:00:02 \u001B[90mverbose\u001B[0m #231 networking.test_port_open / { port = 5555; ex = System.AggregateException: One or more errors occurred. (Connection refused) }\n",
      "00:00:02 \u001B[90mverbose\u001B[0m #232 networking.test_port_open / { port = 5555; ex = System.AggregateException: One or more errors occurred. (Connection refused) }\n",
      "00:00:02 \u001B[90mverbose\u001B[0m #233 networking.test_port_open / { port = 5555; ex = System.AggregateException: One or more errors occurred. (Connection refused) }\n",
      "00:00:02 \u001B[90mverbose\u001B[0m #234 networking.test_port_open / { port = 5555; ex = System.AggregateException: One or more errors occurred. (Connection refused) }\n",
      "00:00:02 \u001B[90mverbose\u001B[0m #235 networking.test_port_open / { port = 5555; ex = System.AggregateException: One or more errors occurred. (Connection refused) }\n",
      "00:00:02 \u001B[90mverbose\u001B[0m #236 networking.test_port_open / { port = 5555; ex = System.AggregateException: One or more errors occurred. (Connection refused) }\n",
      "00:00:02 \u001B[90mverbose\u001B[0m #237 networking.test_port_open / { port = 5555; ex = System.AggregateException: One or more errors occurred. (Connection refused) }\n",
      "00:00:02 \u001B[90mverbose\u001B[0m #238 networking.test_port_open / { port = 5555; ex = System.AggregateException: One or more errors occurred. (Connection refused) }\n",
      "00:00:02 \u001B[90mverbose\u001B[0m #239 networking.test_port_open / { port = 5555; ex = System.AggregateException: One or more errors occurred. (Connection refused) }\n",
      "00:00:02 \u001B[90mverbose\u001B[0m #240 networking.test_port_open / { port = 5555; ex = System.AggregateException: One or more errors occurred. (Connection refused) }\n",
      "00:00:02 \u001B[90mverbose\u001B[0m #241 networking.test_port_open / { port = 5555; ex = System.AggregateException: One or more errors occurred. (Connection refused) }\n",
      "00:00:02 \u001B[90mverbose\u001B[0m #242 networking.test_port_open / { port = 5555; ex = System.AggregateException: One or more errors occurred. (Connection refused) }\n",
      "00:00:02 \u001B[90mverbose\u001B[0m #243 networking.test_port_open / { port = 5555; ex = System.AggregateException: One or more errors occurred. (Connection refused) }\n",
      "00:00:02 \u001B[90mverbose\u001B[0m #244 networking.test_port_open / { port = 5555; ex = System.AggregateException: One or more errors occurred. (Connection refused) }\n",
      "00:00:02 \u001B[90mverbose\u001B[0m #245 networking.test_port_open / { port = 5555; ex = System.AggregateException: One or more errors occurred. (Connection refused) }\n",
      "00:00:02 \u001B[90mverbose\u001B[0m #246 networking.test_port_open / { port = 5555; ex = System.AggregateException: One or more errors occurred. (Connection refused) }\n",
      "00:00:02 \u001B[90mverbose\u001B[0m #247 networking.test_port_open / { port = 5555; ex = System.AggregateException: One or more errors occurred. (Connection refused) }\n",
      "00:00:02 \u001B[90mverbose\u001B[0m #248 networking.test_port_open / { port = 5555; ex = System.AggregateException: One or more errors occurred. (Connection refused) }\n",
      "00:00:02 \u001B[90mverbose\u001B[0m #249 networking.test_port_open / { port = 5555; ex = System.AggregateException: One or more errors occurred. (Connection refused) }\n",
      "00:00:02 \u001B[90mverbose\u001B[0m #250 networking.test_port_open / { port = 5555; ex = System.AggregateException: One or more errors occurred. (Connection refused) }\n",
      "00:00:02 \u001B[90mverbose\u001B[0m #251 networking.test_port_open / { port = 5555; ex = System.AggregateException: One or more errors occurred. (Connection refused) }\n",
      "00:00:02 \u001B[90mverbose\u001B[0m #252 networking.test_port_open / { port = 5555; ex = System.AggregateException: One or more errors occurred. (Connection refused) }\n",
      "00:00:02 \u001B[90mverbose\u001B[0m #253 networking.test_port_open / { port = 5555; ex = System.AggregateException: One or more errors occurred. (Connection refused) }\n",
      "00:00:02 \u001B[90mverbose\u001B[0m #254 networking.test_port_open / { port = 5555; ex = System.AggregateException: One or more errors occurred. (Connection refused) }\n",
      "00:00:02 \u001B[90mverbose\u001B[0m #255 networking.test_port_open / { port = 5555; ex = System.AggregateException: One or more errors occurred. (Connection refused) }\n",
      "00:00:02 \u001B[90mverbose\u001B[0m #256 networking.test_port_open / { port = 5555; ex = System.AggregateException: One or more errors occurred. (Connection refused) }\n",
      "00:00:03 \u001B[90mverbose\u001B[0m #257 networking.test_port_open / { port = 5555; ex = System.AggregateException: One or more errors occurred. (Connection refused) }\n",
      "00:00:03 \u001B[90mverbose\u001B[0m #258 networking.test_port_open / { port = 5555; ex = System.AggregateException: One or more errors occurred. (Connection refused) }\n",
      "00:00:03 \u001B[90mverbose\u001B[0m #259 networking.test_port_open / { port = 5555; ex = System.AggregateException: One or more errors occurred. (Connection refused) }\n",
      "00:00:03 \u001B[90mverbose\u001B[0m #260 networking.test_port_open / { port = 5555; ex = System.AggregateException: One or more errors occurred. (Connection refused) }\n",
      "00:00:03 \u001B[90mverbose\u001B[0m #261 networking.test_port_open / { port = 5555; ex = System.AggregateException: One or more errors occurred. (Connection refused) }\n",
      "00:00:03 \u001B[90mverbose\u001B[0m #262 networking.test_port_open / { port = 5555; ex = System.AggregateException: One or more errors occurred. (Connection refused) }\n",
      "00:00:03 \u001B[90mverbose\u001B[0m #263 networking.test_port_open / { port = 5555; ex = System.AggregateException: One or more errors occurred. (Connection refused) }\n",
      "00:00:03 \u001B[90mverbose\u001B[0m #264 networking.test_port_open / { port = 5555; ex = System.AggregateException: One or more errors occurred. (Connection refused) }\n",
      "00:00:03 \u001B[90mverbose\u001B[0m #265 networking.test_port_open / { port = 5555; ex = System.AggregateException: One or more errors occurred. (Connection refused) }\n",
      "00:00:03 \u001B[90mverbose\u001B[0m #266 networking.test_port_open / { port = 5555; ex = System.AggregateException: One or more errors occurred. (Connection refused) }\n",
      "00:00:03 \u001B[90mverbose\u001B[0m #267 networking.test_port_open / { port = 5555; ex = System.AggregateException: One or more errors occurred. (Connection refused) }\n",
      "00:00:03 \u001B[90mverbose\u001B[0m #268 networking.test_port_open / { port = 5555; ex = System.AggregateException: One or more errors occurred. (Connection refused) }\n",
      "00:00:03 \u001B[90mverbose\u001B[0m #269 networking.test_port_open / { port = 5555; ex = System.AggregateException: One or more errors occurred. (Connection refused) }\n",
      "00:00:03 \u001B[90mverbose\u001B[0m #270 networking.test_port_open / { port = 5555; ex = System.AggregateException: One or more errors occurred. (Connection refused) }\n",
      "00:00:03 \u001B[90mverbose\u001B[0m #271 networking.test_port_open / { port = 5555; ex = System.AggregateException: One or more errors occurred. (Connection refused) }\n",
      "00:00:03 \u001B[90mverbose\u001B[0m #272 networking.test_port_open / { port = 5555; ex = System.AggregateException: One or more errors occurred. (Connection refused) }\n",
      "00:00:03 \u001B[90mverbose\u001B[0m #273 networking.test_port_open / { port = 5555; ex = System.AggregateException: One or more errors occurred. (Connection refused) }\n",
      "00:00:03 \u001B[90mverbose\u001B[0m #274 networking.test_port_open / { port = 5555; ex = System.AggregateException: One or more errors occurred. (Connection refused) }\n",
      "00:00:03 \u001B[90mverbose\u001B[0m #275 networking.test_port_open / { port = 5555; ex = System.AggregateException: One or more errors occurred. (Connection refused) }\n",
      "00:00:03 \u001B[90mverbose\u001B[0m #276 networking.test_port_open / { port = 5555; ex = System.AggregateException: One or more errors occurred. (Connection refused) }\n",
      "00:00:03 \u001B[90mverbose\u001B[0m #277 networking.test_port_open / { port = 5555; ex = System.AggregateException: One or more errors occurred. (Connection refused) }\n",
      "00:00:03 \u001B[90mverbose\u001B[0m #278 networking.test_port_open / { port = 5555; ex = System.AggregateException: One or more errors occurred. (Connection refused) }\n",
      "00:00:03 \u001B[90mverbose\u001B[0m #279 networking.test_port_open / { port = 5555; ex = System.AggregateException: One or more errors occurred. (Connection refused) }\n",
      "00:00:03 \u001B[90mverbose\u001B[0m #280 networking.test_port_open / { port = 5555; ex = System.AggregateException: One or more errors occurred. (Connection refused) }\n",
      "00:00:03 \u001B[90mverbose\u001B[0m #281 networking.test_port_open / { port = 5555; ex = System.AggregateException: One or more errors occurred. (Connection refused) }\n",
      "00:00:03 \u001B[90mverbose\u001B[0m #282 networking.test_port_open / { port = 5555; ex = System.AggregateException: One or more errors occurred. (Connection refused) }\n",
      "00:00:03 \u001B[90mverbose\u001B[0m #283 networking.test_port_open / { port = 5555; ex = System.AggregateException: One or more errors occurred. (Connection refused) }\n",
      "00:00:03 \u001B[90mverbose\u001B[0m #284 networking.test_port_open / { port = 5555; ex = System.AggregateException: One or more errors occurred. (Connection refused) }\n",
      "00:00:03 \u001B[90mverbose\u001B[0m #285 networking.test_port_open / { port = 5555; ex = System.AggregateException: One or more errors occurred. (Connection refused) }\n",
      "00:00:03 \u001B[90mverbose\u001B[0m #286 networking.test_port_open / { port = 5555; ex = System.AggregateException: One or more errors occurred. (Connection refused) }\n",
      "00:00:03 \u001B[90mverbose\u001B[0m #287 networking.test_port_open / { port = 5555; ex = System.AggregateException: One or more errors occurred. (Connection refused) }\n",
      "00:00:03 \u001B[90mverbose\u001B[0m #288 networking.test_port_open / { port = 5555; ex = System.AggregateException: One or more errors occurred. (Connection refused) }\n",
      "00:00:03 \u001B[90mverbose\u001B[0m #289 networking.test_port_open / { port = 5555; ex = System.AggregateException: One or more errors occurred. (Connection refused) }\n",
      "00:00:03 \u001B[90mverbose\u001B[0m #290 networking.test_port_open / { port = 5555; ex = System.AggregateException: One or more errors occurred. (Connection refused) }\n",
      "00:00:03 \u001B[90mverbose\u001B[0m #291 networking.test_port_open / { port = 5555; ex = System.AggregateException: One or more errors occurred. (Connection refused) }\n",
      "00:00:03 \u001B[90mverbose\u001B[0m #292 networking.test_port_open / { port = 5555; ex = System.AggregateException: One or more errors occurred. (Connection refused) }\n",
      "00:00:03 \u001B[90mverbose\u001B[0m #293 networking.test_port_open / { port = 5555; ex = System.AggregateException: One or more errors occurred. (Connection refused) }\n",
      "00:00:03 \u001B[90mverbose\u001B[0m #294 networking.test_port_open / { port = 5555; ex = System.AggregateException: One or more errors occurred. (Connection refused) }\n",
      "00:00:03 \u001B[90mverbose\u001B[0m #295 networking.test_port_open / { port = 5555; ex = System.AggregateException: One or more errors occurred. (Connection refused) }\n",
      "00:00:03 \u001B[90mverbose\u001B[0m #296 networking.test_port_open / { port = 5555; ex = System.AggregateException: One or more errors occurred. (Connection refused) }\n",
      "00:00:03 \u001B[90mverbose\u001B[0m #297 networking.test_port_open / { port = 5555; ex = System.AggregateException: One or more errors occurred. (Connection refused) }\n",
      "00:00:03 \u001B[90mverbose\u001B[0m #298 networking.test_port_open / { port = 5555; ex = System.AggregateException: One or more errors occurred. (Connection refused) }\n",
      "00:00:03 \u001B[90mverbose\u001B[0m #299 networking.test_port_open / { port = 5555; ex = System.AggregateException: One or more errors occurred. (Connection refused) }\n",
      "00:00:03 \u001B[90mverbose\u001B[0m #300 networking.test_port_open / { port = 5555; ex = System.AggregateException: One or more errors occurred. (Connection refused) }\n",
      "00:00:03 \u001B[90mverbose\u001B[0m #301 networking.test_port_open / { port = 5555; ex = System.AggregateException: One or more errors occurred. (Connection refused) }\n",
      "00:00:03 \u001B[90mverbose\u001B[0m #302 networking.test_port_open / { port = 5555; ex = System.AggregateException: One or more errors occurred. (Connection refused) }\n",
      "00:00:03 \u001B[90mverbose\u001B[0m #303 networking.test_port_open / { port = 5555; ex = System.AggregateException: One or more errors occurred. (Connection refused) }\n",
      "00:00:03 \u001B[90mverbose\u001B[0m #304 networking.test_port_open / { port = 5555; ex = System.AggregateException: One or more errors occurred. (Connection refused) }\n",
      "00:00:03 \u001B[90mverbose\u001B[0m #305 networking.test_port_open / { port = 5555; ex = System.AggregateException: One or more errors occurred. (Connection refused) }\n",
      "00:00:03 \u001B[90mverbose\u001B[0m #306 networking.test_port_open / { port = 5555; ex = System.AggregateException: One or more errors occurred. (Connection refused) }\n",
      "00:00:03 \u001B[90mverbose\u001B[0m #307 networking.test_port_open / { port = 5555; ex = System.AggregateException: One or more errors occurred. (Connection refused) }\n",
      "00:00:03 \u001B[90mverbose\u001B[0m #308 networking.test_port_open / { port = 5555; ex = System.AggregateException: One or more errors occurred. (Connection refused) }\n",
      "00:00:03 \u001B[90mverbose\u001B[0m #309 networking.wait_for_port_access / { port = 5555; retry = 300; timeout = None; status = true }\n",
      "00:00:03 \u001B[90mverbose\u001B[0m #310 networking.test_port_open / { port = 5555; ex = System.AggregateException: One or more errors occurred. (Connection refused) }\n",
      "00:00:03 \u001B[90mverbose\u001B[0m #311 networking.test_port_open / { port = 5555; ex = System.AggregateException: One or more errors occurred. (Connection refused) }\n",
      "00:00:03 \u001B[90mverbose\u001B[0m #312 networking.test_port_open / { port = 5555; ex = System.AggregateException: One or more errors occurred. (Connection refused) }\n",
      "00:00:03 \u001B[90mverbose\u001B[0m #313 networking.test_port_open / { port = 5555; ex = System.AggregateException: One or more errors occurred. (Connection refused) }\n",
      "00:00:03 \u001B[90mverbose\u001B[0m #314 networking.test_port_open / { port = 5555; ex = System.AggregateException: One or more errors occurred. (Connection refused) }\n",
      "00:00:03 \u001B[90mverbose\u001B[0m #315 networking.test_port_open / { port = 5555; ex = System.AggregateException: One or more errors occurred. (Connection refused) }\n",
      "00:00:03 \u001B[90mverbose\u001B[0m #316 networking.test_port_open / { port = 5555; ex = System.AggregateException: One or more errors occurred. (Connection refused) }\n",
      "00:00:03 \u001B[90mverbose\u001B[0m #317 networking.test_port_open / { port = 5555; ex = System.AggregateException: One or more errors occurred. (Connection refused) }\n",
      "00:00:03 \u001B[90mverbose\u001B[0m #318 networking.test_port_open / { port = 5555; ex = System.AggregateException: One or more errors occurred. (Connection refused) }\n",
      "00:00:03 \u001B[90mverbose\u001B[0m #319 networking.test_port_open / { port = 5555; ex = System.AggregateException: One or more errors occurred. (Connection refused) }\n",
      "00:00:03 \u001B[90mverbose\u001B[0m #320 networking.test_port_open / { port = 5555; ex = System.AggregateException: One or more errors occurred. (Connection refused) }\n",
      "00:00:03 \u001B[90mverbose\u001B[0m #321 networking.test_port_open / { port = 5555; ex = System.AggregateException: One or more errors occurred. (Connection refused) }\n",
      "00:00:03 \u001B[90mverbose\u001B[0m #322 networking.test_port_open / { port = 5555; ex = System.AggregateException: One or more errors occurred. (Connection refused) }\n",
      "00:00:03 \u001B[90mverbose\u001B[0m #323 networking.test_port_open / { port = 5555; ex = System.AggregateException: One or more errors occurred. (Connection refused) }\n",
      "00:00:03 \u001B[90mverbose\u001B[0m #324 networking.test_port_open / { port = 5555; ex = System.AggregateException: One or more errors occurred. (Connection refused) }\n",
      "00:00:03 \u001B[90mverbose\u001B[0m #325 networking.test_port_open / { port = 5555; ex = System.AggregateException: One or more errors occurred. (Connection refused) }\n",
      "00:00:03 \u001B[90mverbose\u001B[0m #326 networking.test_port_open / { port = 5555; ex = System.AggregateException: One or more errors occurred. (Connection refused) }\n",
      "00:00:03 \u001B[90mverbose\u001B[0m #327 networking.test_port_open / { port = 5555; ex = System.AggregateException: One or more errors occurred. (Connection refused) }\n",
      "00:00:03 \u001B[90mverbose\u001B[0m #328 networking.test_port_open / { port = 5555; ex = System.AggregateException: One or more errors occurred. (Connection refused) }\n",
      "00:00:03 \u001B[90mverbose\u001B[0m #329 networking.test_port_open / { port = 5555; ex = System.AggregateException: One or more errors occurred. (Connection refused) }\n",
      "00:00:03 \u001B[90mverbose\u001B[0m #330 networking.test_port_open / { port = 5555; ex = System.AggregateException: One or more errors occurred. (Connection refused) }\n",
      "00:00:03 \u001B[90mverbose\u001B[0m #331 networking.test_port_open / { port = 5555; ex = System.AggregateException: One or more errors occurred. (Connection refused) }\n",
      "00:00:03 \u001B[90mverbose\u001B[0m #332 networking.test_port_open / { port = 5555; ex = System.AggregateException: One or more errors occurred. (Connection refused) }\n",
      "00:00:03 \u001B[90mverbose\u001B[0m #333 networking.test_port_open / { port = 5555; ex = System.AggregateException: One or more errors occurred. (Connection refused) }\n",
      "00:00:03 \u001B[90mverbose\u001B[0m #334 networking.test_port_open / { port = 5555; ex = System.AggregateException: One or more errors occurred. (Connection refused) }\n",
      "00:00:03 \u001B[90mverbose\u001B[0m #335 networking.test_port_open / { port = 5555; ex = System.AggregateException: One or more errors occurred. (Connection refused) }\n",
      "00:00:03 \u001B[90mverbose\u001B[0m #336 networking.test_port_open / { port = 5555; ex = System.AggregateException: One or more errors occurred. (Connection refused) }\n",
      "00:00:03 \u001B[90mverbose\u001B[0m #337 networking.test_port_open / { port = 5555; ex = System.AggregateException: One or more errors occurred. (Connection refused) }\n",
      "00:00:03 \u001B[90mverbose\u001B[0m #338 networking.test_port_open / { port = 5555; ex = System.AggregateException: One or more errors occurred. (Connection refused) }\n",
      "00:00:03 \u001B[90mverbose\u001B[0m #339 networking.test_port_open / { port = 5555; ex = System.AggregateException: One or more errors occurred. (Connection refused) }\n",
      "00:00:03 \u001B[90mverbose\u001B[0m #340 networking.test_port_open / { port = 5555; ex = System.AggregateException: One or more errors occurred. (Connection refused) }\n",
      "00:00:04 \u001B[90mverbose\u001B[0m #341 networking.test_port_open / { port = 5555; ex = System.AggregateException: One or more errors occurred. (Connection refused) }\n",
      "00:00:04 \u001B[90mverbose\u001B[0m #342 networking.test_port_open / { port = 5555; ex = System.AggregateException: One or more errors occurred. (Connection refused) }\n",
      "00:00:04 \u001B[90mverbose\u001B[0m #343 networking.test_port_open / { port = 5555; ex = System.AggregateException: One or more errors occurred. (Connection refused) }\n",
      "00:00:04 \u001B[90mverbose\u001B[0m #344 networking.test_port_open / { port = 5555; ex = System.AggregateException: One or more errors occurred. (Connection refused) }\n",
      "00:00:04 \u001B[90mverbose\u001B[0m #345 networking.test_port_open / { port = 5555; ex = System.AggregateException: One or more errors occurred. (Connection refused) }\n",
      "00:00:04 \u001B[90mverbose\u001B[0m #346 networking.test_port_open / { port = 5555; ex = System.AggregateException: One or more errors occurred. (Connection refused) }\n",
      "00:00:04 \u001B[90mverbose\u001B[0m #347 networking.test_port_open / { port = 5555; ex = System.AggregateException: One or more errors occurred. (Connection refused) }\n",
      "00:00:04 \u001B[90mverbose\u001B[0m #348 networking.test_port_open / { port = 5555; ex = System.AggregateException: One or more errors occurred. (Connection refused) }\n",
      "00:00:04 \u001B[90mverbose\u001B[0m #349 networking.test_port_open / { port = 5555; ex = System.AggregateException: One or more errors occurred. (Connection refused) }\n",
      "00:00:04 \u001B[90mverbose\u001B[0m #350 networking.test_port_open / { port = 5555; ex = System.AggregateException: One or more errors occurred. (Connection refused) }\n",
      "00:00:04 \u001B[90mverbose\u001B[0m #351 networking.test_port_open / { port = 5555; ex = System.AggregateException: One or more errors occurred. (Connection refused) }\n",
      "00:00:04 \u001B[90mverbose\u001B[0m #352 networking.test_port_open / { port = 5555; ex = System.AggregateException: One or more errors occurred. (Connection refused) }\n",
      "00:00:04 \u001B[90mverbose\u001B[0m #353 networking.test_port_open / { port = 5555; ex = System.AggregateException: One or more errors occurred. (Connection refused) }\n",
      "00:00:04 \u001B[90mverbose\u001B[0m #354 networking.test_port_open / { port = 5555; ex = System.AggregateException: One or more errors occurred. (Connection refused) }\n",
      "00:00:04 \u001B[90mverbose\u001B[0m #355 networking.test_port_open / { port = 5555; ex = System.AggregateException: One or more errors occurred. (Connection refused) }\n",
      "00:00:04 \u001B[90mverbose\u001B[0m #356 networking.test_port_open / { port = 5555; ex = System.AggregateException: One or more errors occurred. (Connection refused) }\n",
      "00:00:04 \u001B[90mverbose\u001B[0m #357 networking.test_port_open / { port = 5555; ex = System.AggregateException: One or more errors occurred. (Connection refused) }\n",
      "00:00:04 \u001B[90mverbose\u001B[0m #358 networking.test_port_open / { port = 5555; ex = System.AggregateException: One or more errors occurred. (Connection refused) }\n",
      "00:00:04 \u001B[90mverbose\u001B[0m #359 networking.test_port_open / { port = 5555; ex = System.AggregateException: One or more errors occurred. (Connection refused) }\n",
      "00:00:04 \u001B[90mverbose\u001B[0m #360 networking.test_port_open / { port = 5555; ex = System.AggregateException: One or more errors occurred. (Connection refused) }\n",
      "00:00:04 \u001B[90mverbose\u001B[0m #361 networking.test_port_open / { port = 5555; ex = System.AggregateException: One or more errors occurred. (Connection refused) }\n",
      "00:00:04 \u001B[90mverbose\u001B[0m #362 networking.test_port_open / { port = 5555; ex = System.AggregateException: One or more errors occurred. (Connection refused) }\n",
      "00:00:04 \u001B[90mverbose\u001B[0m #363 networking.test_port_open / { port = 5555; ex = System.AggregateException: One or more errors occurred. (Connection refused) }\n",
      "00:00:04 \u001B[90mverbose\u001B[0m #364 networking.test_port_open / { port = 5555; ex = System.AggregateException: One or more errors occurred. (Connection refused) }\n",
      "00:00:04 \u001B[90mverbose\u001B[0m #365 networking.test_port_open / { port = 5555; ex = System.AggregateException: One or more errors occurred. (Connection refused) }\n",
      "00:00:04 \u001B[90mverbose\u001B[0m #366 networking.test_port_open / { port = 5555; ex = System.AggregateException: One or more errors occurred. (Connection refused) }\n",
      "00:00:04 \u001B[90mverbose\u001B[0m #367 networking.test_port_open / { port = 5555; ex = System.AggregateException: One or more errors occurred. (Connection refused) }\n",
      "00:00:04 \u001B[90mverbose\u001B[0m #368 networking.test_port_open / { port = 5555; ex = System.AggregateException: One or more errors occurred. (Connection refused) }\n",
      "00:00:04 \u001B[90mverbose\u001B[0m #369 networking.test_port_open / { port = 5555; ex = System.AggregateException: One or more errors occurred. (Connection refused) }\n",
      "00:00:04 \u001B[90mverbose\u001B[0m #370 networking.test_port_open / { port = 5555; ex = System.AggregateException: One or more errors occurred. (Connection refused) }\n",
      "00:00:04 \u001B[90mverbose\u001B[0m #371 networking.test_port_open / { port = 5555; ex = System.AggregateException: One or more errors occurred. (Connection refused) }\n",
      "00:00:04 \u001B[90mverbose\u001B[0m #372 networking.test_port_open / { port = 5555; ex = System.AggregateException: One or more errors occurred. (Connection refused) }\n",
      "00:00:04 \u001B[90mverbose\u001B[0m #373 networking.test_port_open / { port = 5555; ex = System.AggregateException: One or more errors occurred. (Connection refused) }\n",
      "00:00:04 \u001B[90mverbose\u001B[0m #374 networking.test_port_open / { port = 5555; ex = System.AggregateException: One or more errors occurred. (Connection refused) }\n",
      "00:00:04 \u001B[90mverbose\u001B[0m #375 networking.test_port_open / { port = 5555; ex = System.AggregateException: One or more errors occurred. (Connection refused) }\n",
      "00:00:04 \u001B[90mverbose\u001B[0m #376 networking.test_port_open / { port = 5555; ex = System.AggregateException: One or more errors occurred. (Connection refused) }\n",
      "00:00:04 \u001B[90mverbose\u001B[0m #377 networking.test_port_open / { port = 5555; ex = System.AggregateException: One or more errors occurred. (Connection refused) }\n",
      "00:00:04 \u001B[90mverbose\u001B[0m #378 networking.test_port_open / { port = 5555; ex = System.AggregateException: One or more errors occurred. (Connection refused) }\n",
      "00:00:04 \u001B[90mverbose\u001B[0m #379 networking.test_port_open / { port = 5555; ex = System.AggregateException: One or more errors occurred. (Connection refused) }\n",
      "00:00:04 \u001B[90mverbose\u001B[0m #380 networking.test_port_open / { port = 5555; ex = System.AggregateException: One or more errors occurred. (Connection refused) }\n",
      "00:00:04 \u001B[90mverbose\u001B[0m #381 networking.test_port_open / { port = 5555; ex = System.AggregateException: One or more errors occurred. (Connection refused) }\n",
      "00:00:04 \u001B[90mverbose\u001B[0m #382 networking.test_port_open / { port = 5555; ex = System.AggregateException: One or more errors occurred. (Connection refused) }\n",
      "00:00:04 \u001B[90mverbose\u001B[0m #383 networking.test_port_open / { port = 5555; ex = System.AggregateException: One or more errors occurred. (Connection refused) }\n",
      "00:00:04 \u001B[90mverbose\u001B[0m #384 networking.test_port_open / { port = 5555; ex = System.AggregateException: One or more errors occurred. (Connection refused) }\n",
      "00:00:04 \u001B[90mverbose\u001B[0m #385 networking.test_port_open / { port = 5555; ex = System.AggregateException: One or more errors occurred. (Connection refused) }\n",
      "00:00:04 \u001B[90mverbose\u001B[0m #386 networking.test_port_open / { port = 5555; ex = System.AggregateException: One or more errors occurred. (Connection refused) }\n",
      "00:00:04 \u001B[90mverbose\u001B[0m #387 networking.test_port_open / { port = 5555; ex = System.AggregateException: One or more errors occurred. (Connection refused) }\n",
      "00:00:04 \u001B[90mverbose\u001B[0m #388 networking.test_port_open / { port = 5555; ex = System.AggregateException: One or more errors occurred. (Connection refused) }\n",
      "00:00:04 \u001B[90mverbose\u001B[0m #389 networking.test_port_open / { port = 5555; ex = System.AggregateException: One or more errors occurred. (Connection refused) }\n",
      "00:00:04 \u001B[90mverbose\u001B[0m #390 networking.test_port_open / { port = 5555; ex = System.AggregateException: One or more errors occurred. (Connection refused) }\n",
      "00:00:04 \u001B[90mverbose\u001B[0m #391 networking.test_port_open / { port = 5555; ex = System.AggregateException: One or more errors occurred. (Connection refused) }\n",
      "00:00:04 \u001B[90mverbose\u001B[0m #392 networking.test_port_open / { port = 5555; ex = System.AggregateException: One or more errors occurred. (Connection refused) }\n",
      "00:00:04 \u001B[90mverbose\u001B[0m #393 networking.test_port_open / { port = 5555; ex = System.AggregateException: One or more errors occurred. (Connection refused) }\n",
      "00:00:04 \u001B[90mverbose\u001B[0m #394 networking.test_port_open / { port = 5555; ex = System.AggregateException: One or more errors occurred. (Connection refused) }\n",
      "00:00:04 \u001B[90mverbose\u001B[0m #395 networking.test_port_open / { port = 5555; ex = System.AggregateException: One or more errors occurred. (Connection refused) }\n",
      "00:00:04 \u001B[90mverbose\u001B[0m #396 networking.test_port_open / { port = 5555; ex = System.AggregateException: One or more errors occurred. (Connection refused) }\n",
      "00:00:04 \u001B[90mverbose\u001B[0m #397 networking.test_port_open / { port = 5555; ex = System.AggregateException: One or more errors occurred. (Connection refused) }\n",
      "00:00:04 \u001B[90mverbose\u001B[0m #398 networking.test_port_open / { port = 5555; ex = System.AggregateException: One or more errors occurred. (Connection refused) }\n",
      "00:00:04 \u001B[90mverbose\u001B[0m #399 networking.test_port_open / { port = 5555; ex = System.AggregateException: One or more errors occurred. (Connection refused) }\n",
      "00:00:04 \u001B[90mverbose\u001B[0m #400 networking.test_port_open / { port = 5555; ex = System.AggregateException: One or more errors occurred. (Connection refused) }\n",
      "00:00:04 \u001B[90mverbose\u001B[0m #401 networking.test_port_open / { port = 5555; ex = System.AggregateException: One or more errors occurred. (Connection refused) }\n",
      "00:00:04 \u001B[90mverbose\u001B[0m #402 networking.test_port_open / { port = 5555; ex = System.AggregateException: One or more errors occurred. (Connection refused) }\n",
      "00:00:04 \u001B[90mverbose\u001B[0m #403 networking.test_port_open / { port = 5555; ex = System.AggregateException: One or more errors occurred. (Connection refused) }\n",
      "00:00:04 \u001B[90mverbose\u001B[0m #404 networking.test_port_open / { port = 5555; ex = System.AggregateException: One or more errors occurred. (Connection refused) }\n",
      "00:00:04 \u001B[90mverbose\u001B[0m #405 networking.test_port_open / { port = 5555; ex = System.AggregateException: One or more errors occurred. (Connection refused) }\n",
      "00:00:04 \u001B[90mverbose\u001B[0m #406 networking.test_port_open / { port = 5555; ex = System.AggregateException: One or more errors occurred. (Connection refused) }\n",
      "00:00:04 \u001B[90mverbose\u001B[0m #407 networking.test_port_open / { port = 5555; ex = System.AggregateException: One or more errors occurred. (Connection refused) }\n",
      "00:00:04 \u001B[90mverbose\u001B[0m #408 networking.test_port_open / { port = 5555; ex = System.AggregateException: One or more errors occurred. (Connection refused) }\n",
      "00:00:04 \u001B[90mverbose\u001B[0m #409 networking.test_port_open / { port = 5555; ex = System.AggregateException: One or more errors occurred. (Connection refused) }\n",
      "00:00:04 \u001B[90mverbose\u001B[0m #410 networking.wait_for_port_access / { port = 5555; retry = 400; timeout = None; status = true }\n",
      "00:00:04 \u001B[90mverbose\u001B[0m #411 networking.test_port_open / { port = 5555; ex = System.AggregateException: One or more errors occurred. (Connection refused) }\n",
      "00:00:04 \u001B[90mverbose\u001B[0m #412 networking.test_port_open / { port = 5555; ex = System.AggregateException: One or more errors occurred. (Connection refused) }\n",
      "00:00:04 \u001B[90mverbose\u001B[0m #413 networking.test_port_open / { port = 5555; ex = System.AggregateException: One or more errors occurred. (Connection refused) }\n",
      "00:00:04 \u001B[90mverbose\u001B[0m #414 networking.test_port_open / { port = 5555; ex = System.AggregateException: One or more errors occurred. (Connection refused) }\n",
      "00:00:04 \u001B[90mverbose\u001B[0m #415 networking.test_port_open / { port = 5555; ex = System.AggregateException: One or more errors occurred. (Connection refused) }\n",
      "00:00:04 \u001B[90mverbose\u001B[0m #416 networking.test_port_open / { port = 5555; ex = System.AggregateException: One or more errors occurred. (Connection refused) }\n",
      "00:00:04 \u001B[90mverbose\u001B[0m #417 networking.test_port_open / { port = 5555; ex = System.AggregateException: One or more errors occurred. (Connection refused) }\n",
      "00:00:04 \u001B[90mverbose\u001B[0m #418 networking.test_port_open / { port = 5555; ex = System.AggregateException: One or more errors occurred. (Connection refused) }\n",
      "00:00:04 \u001B[90mverbose\u001B[0m #419 networking.test_port_open / { port = 5555; ex = System.AggregateException: One or more errors occurred. (Connection refused) }\n",
      "00:00:04 \u001B[90mverbose\u001B[0m #420 networking.test_port_open / { port = 5555; ex = System.AggregateException: One or more errors occurred. (Connection refused) }\n",
      "00:00:04 \u001B[90mverbose\u001B[0m #421 networking.test_port_open / { port = 5555; ex = System.AggregateException: One or more errors occurred. (Connection refused) }\n",
      "00:00:04 \u001B[90mverbose\u001B[0m #422 networking.test_port_open / { port = 5555; ex = System.AggregateException: One or more errors occurred. (Connection refused) }\n",
      "00:00:04 \u001B[90mverbose\u001B[0m #423 networking.test_port_open / { port = 5555; ex = System.AggregateException: One or more errors occurred. (Connection refused) }\n",
      "00:00:04 \u001B[90mverbose\u001B[0m #424 networking.test_port_open / { port = 5555; ex = System.AggregateException: One or more errors occurred. (Connection refused) }\n",
      "00:00:04 \u001B[90mverbose\u001B[0m #425 networking.test_port_open / { port = 5555; ex = System.AggregateException: One or more errors occurred. (Connection refused) }\n",
      "00:00:05 \u001B[94m  debug\u001B[0m #426 _2\n",
      "00:00:05 \u001B[94m  debug\u001B[0m #427 _3\n",
      "00:00:05 \u001B[94m  debug\u001B[0m #428 4\n",
      "00:00:05 \u001B[90mverbose\u001B[0m #429 networking.wait_for_port_access / { port = 5555; retry = 0; timeout = None; status = false }\n",
      "00:00:06 \u001B[90mverbose\u001B[0m #430 networking.wait_for_port_access / { port = 5555; retry = 100; timeout = None; status = false }\n",
      "00:00:07 \u001B[94m  debug\u001B[0m #431 _4\n",
      "00:00:07 \u001B[94m  debug\u001B[0m #432 _5\n",
      "00:00:07 \u001B[90mverbose\u001B[0m #433 networking.test_port_open / { port = 5555; ex = System.AggregateException: One or more errors occurred. (Connection refused) }\n",
      "00:00:07 \u001B[94m  debug\u001B[0m #434 5\n",
      "00:00:07 \u001B[94m  debug\u001B[0m #435 6\n",
      "assert_between / actual: 416L / expected: struct (2L, 1500L)\n",
      "assert_between / actual: 167L / expected: struct (80L, 600L)\n",
      "assert_eq / actual: true / expected: true\n"
     ]
    }
   ],
   "source": [
    "//// test\n",
    "\n",
    "inl lock_port host port = async.new_async fun () =>\n",
    "    trace Debug (fun () => \"_1\") id\n",
    "    async.sleep 5000 |> async.do\n",
    "    inl listener = new_tcp_listener (host |> ip_address_parse) port |> use\n",
    "    trace Debug (fun () => \"_2\") id\n",
    "    listener |> listener_start\n",
    "    trace Debug (fun () => \"_3\") id\n",
    "    async.sleep 2000 |> async.do\n",
    "    trace Debug (fun () => \"_4\") id\n",
    "    $'!listener.Stop' ()\n",
    "    trace Debug (fun () => \"_5\") id\n",
    "\n",
    "inl host = \"127.0.0.1\"\n",
    "inl port = 5555i32\n",
    "\n",
    "fun () =>\n",
    "    trace Debug (fun () => \"1\") id\n",
    "    inl child = lock_port host port |> async.start_child |> async.let'\n",
    "    trace Debug (fun () => \"2\") id\n",
    "    async.sleep 1 |> async.do\n",
    "    trace Debug (fun () => \"3\") id\n",
    "    inl retries1 = wait_for_port_access (None |> optionm'.box) true host port |> async.let'\n",
    "    trace Debug (fun () => \"4\") id\n",
    "    inl retries2 = wait_for_port_access (None |> optionm'.box) false host port |> async.let'\n",
    "    trace Debug (fun () => \"5\") id\n",
    "    child |> async.do\n",
    "    trace Debug (fun () => \"6\") id\n",
    "    (retries1, retries2) |> return\n",
    "|> async.new_async_unit\n",
    "|> async.run_with_timeout 20000\n",
    "|> function\n",
    "    | Some (retries1, retries2) =>\n",
    "        retries1\n",
    "        |> _assert_between\n",
    "            if platform.is_windows () then 2i64 else 2\n",
    "            if platform.is_windows () then 5 else 1500\n",
    "\n",
    "        retries2\n",
    "        |> _assert_between\n",
    "            if platform.is_windows () then 80i64 else 80\n",
    "            if platform.is_windows () then 200 else 600\n",
    "\n",
    "        true\n",
    "    | _ => false\n",
    "|> _assert_eq true"
   ]
  },
  {
   "cell_type": "code",
   "execution_count": null,
   "metadata": {
    "dotnet_interactive": {
     "language": "spiral"
    },
    "polyglot_notebook": {
     "kernelName": "spiral"
    }
   },
   "outputs": [
    {
     "name": "stdout",
     "output_type": "stream",
     "text": [
      "00:00:00 \u001B[94m  debug\u001B[0m #1 1\n",
      "00:00:00 \u001B[94m  debug\u001B[0m #3 _1\n",
      "00:00:00 \u001B[94m  debug\u001B[0m #3 2\n",
      "00:00:00 \u001B[94m  debug\u001B[0m #4 3\n",
      "00:00:00 \u001B[90mverbose\u001B[0m #5 networking.test_port_open / { port = 5555; ex = System.AggregateException: One or more errors occurred. (Connection refused) }\n",
      "00:00:00 \u001B[90mverbose\u001B[0m #6 networking.wait_for_port_access / { port = 5555; retry = 0; timeout = Some 60; status = true }\n",
      "00:00:00 \u001B[90mverbose\u001B[0m #7 networking.test_port_open / { port = 5555; ex = System.AggregateException: One or more errors occurred. (Connection refused) }\n",
      "00:00:00 \u001B[90mverbose\u001B[0m #8 networking.test_port_open / { port = 5555; ex = System.AggregateException: One or more errors occurred. (Connection refused) }\n",
      "00:00:00 \u001B[90mverbose\u001B[0m #9 networking.test_port_open / { port = 5555; ex = System.AggregateException: One or more errors occurred. (Connection refused) }\n",
      "00:00:00 \u001B[90mverbose\u001B[0m #10 networking.test_port_open / { port = 5555; ex = System.AggregateException: One or more errors occurred. (Connection refused) }\n",
      "00:00:00 \u001B[90mverbose\u001B[0m #11 networking.test_port_open / { port = 5555; ex = System.AggregateException: One or more errors occurred. (Connection refused) }\n",
      "00:00:00 \u001B[90mverbose\u001B[0m #12 networking.test_port_open / { port = 5555; ex = System.AggregateException: One or more errors occurred. (Connection refused) }\n",
      "00:00:00 \u001B[90mverbose\u001B[0m #13 networking.test_port_open / { port = 5555; ex = System.AggregateException: One or more errors occurred. (Connection refused) }\n",
      "00:00:00 \u001B[90mverbose\u001B[0m #14 networking.test_port_open / { port = 5555; ex = System.AggregateException: One or more errors occurred. (Connection refused) }\n",
      "00:00:00 \u001B[90mverbose\u001B[0m #15 networking.test_port_open / { port = 5555; ex = System.AggregateException: One or more errors occurred. (Connection refused) }\n",
      "00:00:00 \u001B[90mverbose\u001B[0m #16 networking.test_port_open / { port = 5555; ex = System.AggregateException: One or more errors occurred. (Connection refused) }\n",
      "00:00:00 \u001B[90mverbose\u001B[0m #17 networking.test_port_open / { port = 5555; ex = System.AggregateException: One or more errors occurred. (Connection refused) }\n",
      "00:00:00 \u001B[90mverbose\u001B[0m #18 networking.test_port_open / { port = 5555; ex = System.AggregateException: One or more errors occurred. (Connection refused) }\n",
      "00:00:00 \u001B[90mverbose\u001B[0m #19 networking.test_port_open / { port = 5555; ex = System.AggregateException: One or more errors occurred. (Connection refused) }\n",
      "00:00:00 \u001B[90mverbose\u001B[0m #20 networking.test_port_open / { port = 5555; ex = System.AggregateException: One or more errors occurred. (Connection refused) }\n",
      "00:00:00 \u001B[90mverbose\u001B[0m #21 networking.test_port_open / { port = 5555; ex = System.AggregateException: One or more errors occurred. (Connection refused) }\n",
      "00:00:00 \u001B[90mverbose\u001B[0m #22 networking.test_port_open / { port = 5555; ex = System.AggregateException: One or more errors occurred. (Connection refused) }\n",
      "00:00:00 \u001B[90mverbose\u001B[0m #23 networking.test_port_open / { port = 5555; ex = System.AggregateException: One or more errors occurred. (Connection refused) }\n",
      "00:00:00 \u001B[90mverbose\u001B[0m #24 networking.test_port_open / { port = 5555; ex = System.AggregateException: One or more errors occurred. (Connection refused) }\n",
      "00:00:00 \u001B[90mverbose\u001B[0m #25 networking.test_port_open / { port = 5555; ex = System.AggregateException: One or more errors occurred. (Connection refused) }\n",
      "00:00:00 \u001B[90mverbose\u001B[0m #26 networking.test_port_open / { port = 5555; ex = System.AggregateException: One or more errors occurred. (Connection refused) }\n",
      "00:00:00 \u001B[90mverbose\u001B[0m #27 networking.test_port_open / { port = 5555; ex = System.AggregateException: One or more errors occurred. (Connection refused) }\n",
      "00:00:00 \u001B[90mverbose\u001B[0m #28 networking.test_port_open / { port = 5555; ex = System.AggregateException: One or more errors occurred. (Connection refused) }\n",
      "00:00:00 \u001B[90mverbose\u001B[0m #29 networking.test_port_open / { port = 5555; ex = System.AggregateException: One or more errors occurred. (Connection refused) }\n",
      "00:00:00 \u001B[90mverbose\u001B[0m #30 networking.test_port_open / { port = 5555; ex = System.AggregateException: One or more errors occurred. (Connection refused) }\n",
      "00:00:00 \u001B[90mverbose\u001B[0m #31 networking.test_port_open / { port = 5555; ex = System.AggregateException: One or more errors occurred. (Connection refused) }\n",
      "00:00:00 \u001B[90mverbose\u001B[0m #32 networking.test_port_open / { port = 5555; ex = System.AggregateException: One or more errors occurred. (Connection refused) }\n",
      "00:00:00 \u001B[90mverbose\u001B[0m #33 networking.test_port_open / { port = 5555; ex = System.AggregateException: One or more errors occurred. (Connection refused) }\n",
      "00:00:00 \u001B[90mverbose\u001B[0m #34 networking.test_port_open / { port = 5555; ex = System.AggregateException: One or more errors occurred. (Connection refused) }\n",
      "00:00:00 \u001B[90mverbose\u001B[0m #35 networking.test_port_open / { port = 5555; ex = System.AggregateException: One or more errors occurred. (Connection refused) }\n",
      "00:00:00 \u001B[90mverbose\u001B[0m #36 networking.test_port_open / { port = 5555; ex = System.AggregateException: One or more errors occurred. (Connection refused) }\n",
      "00:00:00 \u001B[90mverbose\u001B[0m #37 networking.test_port_open / { port = 5555; ex = System.AggregateException: One or more errors occurred. (Connection refused) }\n",
      "00:00:00 \u001B[90mverbose\u001B[0m #38 networking.test_port_open / { port = 5555; ex = System.AggregateException: One or more errors occurred. (Connection refused) }\n",
      "00:00:00 \u001B[90mverbose\u001B[0m #39 networking.test_port_open / { port = 5555; ex = System.AggregateException: One or more errors occurred. (Connection refused) }\n",
      "00:00:00 \u001B[90mverbose\u001B[0m #40 networking.test_port_open / { port = 5555; ex = System.AggregateException: One or more errors occurred. (Connection refused) }\n",
      "00:00:00 \u001B[90mverbose\u001B[0m #41 networking.test_port_open / { port = 5555; ex = System.AggregateException: One or more errors occurred. (Connection refused) }\n",
      "00:00:00 \u001B[90mverbose\u001B[0m #42 networking.test_port_open / { port = 5555; ex = System.AggregateException: One or more errors occurred. (Connection refused) }\n",
      "00:00:00 \u001B[90mverbose\u001B[0m #43 networking.test_port_open / { port = 5555; ex = System.AggregateException: One or more errors occurred. (Connection refused) }\n",
      "00:00:00 \u001B[90mverbose\u001B[0m #44 networking.test_port_open / { port = 5555; ex = System.AggregateException: One or more errors occurred. (Connection refused) }\n",
      "00:00:00 \u001B[90mverbose\u001B[0m #45 networking.test_port_open / { port = 5555; ex = System.AggregateException: One or more errors occurred. (Connection refused) }\n",
      "00:00:00 \u001B[90mverbose\u001B[0m #46 networking.test_port_open / { port = 5555; ex = System.AggregateException: One or more errors occurred. (Connection refused) }\n",
      "00:00:00 \u001B[94m  debug\u001B[0m #47 _2\n",
      "00:00:00 \u001B[94m  debug\u001B[0m #48 _3\n",
      "00:00:00 \u001B[94m  debug\u001B[0m #49 4\n",
      "00:00:00 \u001B[90mverbose\u001B[0m #50 networking.wait_for_port_access / { port = 5555; retry = 0; timeout = Some 60; status = false }\n",
      "00:00:00 \u001B[94m  debug\u001B[0m #51 _4\n",
      "00:00:00 \u001B[94m  debug\u001B[0m #52 _5\n",
      "00:00:00 \u001B[90mverbose\u001B[0m #53 networking.test_port_open / { port = 5555; ex = System.AggregateException: One or more errors occurred. (Connection refused) }\n",
      "00:00:00 \u001B[94m  debug\u001B[0m #54 5\n",
      "00:00:00 \u001B[94m  debug\u001B[0m #55 6\n",
      "assert_between / actual: 41L / expected: struct (2L, 150L)\n",
      "assert_between / actual: 16L / expected: struct (0L, 60L)\n",
      "assert_eq / actual: true / expected: true\n"
     ]
    }
   ],
   "source": [
    "//// test\n",
    "\n",
    "inl lock_port host port = async.new_async_unit fun () =>\n",
    "    trace Debug (fun () => \"_1\") id\n",
    "    async.sleep 500 |> async.do\n",
    "    inl listener = new_tcp_listener (ip_address_parse host) port |> use\n",
    "    trace Debug (fun () => \"_2\") id\n",
    "    listener |> listener_start\n",
    "    trace Debug (fun () => \"_3\") id\n",
    "    async.sleep 200 |> async.do\n",
    "    trace Debug (fun () => \"_4\") id\n",
    "    listener |> listener_stop\n",
    "    trace Debug (fun () => \"_5\") id\n",
    "\n",
    "inl host = \"127.0.0.1\"\n",
    "inl port = 5555\n",
    "\n",
    "fun () =>\n",
    "    trace Debug (fun () => \"1\") id\n",
    "    inl child = lock_port host port |> async.start_child |> async.let'\n",
    "    trace Debug (fun () => \"2\") id\n",
    "    async.sleep 1 |> async.do\n",
    "    trace Debug (fun () => \"3\") id\n",
    "    inl retries1 = wait_for_port_access (Some 60 |> optionm'.box) true host port |> async.let'\n",
    "    trace Debug (fun () => \"4\") id\n",
    "    inl retries2 = wait_for_port_access (Some 60 |> optionm'.box) false host port |> async.let'\n",
    "    trace Debug (fun () => \"5\") id\n",
    "    child |> async.do\n",
    "    trace Debug (fun () => \"6\") id\n",
    "    (retries1, retries2) |> return\n",
    "|> async.new_async_unit\n",
    "|> async.run_with_timeout 2000\n",
    "|> function\n",
    "    | Some (retries1, retries2) =>\n",
    "        retries1\n",
    "        |> _assert_between\n",
    "            if platform.is_windows () then 4i64 else 2\n",
    "            if platform.is_windows () then 15 else 150\n",
    "\n",
    "        retries2\n",
    "        |> _assert_between\n",
    "            if platform.is_windows () then 5i64 else 0\n",
    "            if platform.is_windows () then 20 else 60\n",
    "\n",
    "        true\n",
    "    | _ => false\n",
    "|> _assert_eq true"
   ]
  },
  {
   "cell_type": "markdown",
   "metadata": {},
   "source": [
    "### get_available_port"
   ]
  },
  {
   "cell_type": "code",
   "execution_count": null,
   "metadata": {
    "dotnet_interactive": {
     "language": "spiral"
    },
    "polyglot_notebook": {
     "kernelName": "spiral"
    }
   },
   "outputs": [],
   "source": [
    "inl get_available_port timeout host initial_port : _ i32 =\n",
    "    let rec loop port = async.new_async_unit fun () =>\n",
    "        inl is_port_open =\n",
    "            match timeout |> optionm'.unbox with\n",
    "            | None => test_port_open host port\n",
    "            | Some timeout => test_port_open_timeout timeout host port\n",
    "            |> async.let'\n",
    "        fix_condition\n",
    "            fun () => is_port_open |> not\n",
    "            fun () => port |> return\n",
    "            fun () => loop (port + 1) |> async.return_await\n",
    "    loop initial_port"
   ]
  },
  {
   "cell_type": "code",
   "execution_count": null,
   "metadata": {
    "dotnet_interactive": {
     "language": "spiral"
    },
    "polyglot_notebook": {
     "kernelName": "spiral"
    }
   },
   "outputs": [
    {
     "name": "stdout",
     "output_type": "stream",
     "text": [
      "00:00:00 \u001B[94m  debug\u001B[0m #1 1\n",
      "00:00:00 \u001B[94m  debug\u001B[0m #2 _1\n",
      "00:00:00 \u001B[94m  debug\u001B[0m #3 2\n",
      "00:00:00 \u001B[94m  debug\u001B[0m #4 _2\n",
      "00:00:00 \u001B[94m  debug\u001B[0m #5 _3\n",
      "00:00:00 \u001B[94m  debug\u001B[0m #6 3\n",
      "00:00:00 \u001B[90mverbose\u001B[0m #7 networking.test_port_open / { port = 5557; ex = System.AggregateException: One or more errors occurred. (Connection refused) }\n",
      "00:00:00 \u001B[94m  debug\u001B[0m #8 4\n",
      "00:00:00 \u001B[90mverbose\u001B[0m #9 networking.wait_for_port_access / { port = 5555; retry = 0; timeout = None; status = false }\n",
      "00:00:01 \u001B[90mverbose\u001B[0m #10 networking.wait_for_port_access / { port = 5555; retry = 100; timeout = None; status = false }\n",
      "00:00:02 \u001B[90mverbose\u001B[0m #11 networking.wait_for_port_access / { port = 5555; retry = 200; timeout = None; status = false }\n",
      "00:00:03 \u001B[90mverbose\u001B[0m #12 networking.wait_for_port_access / { port = 5555; retry = 300; timeout = None; status = false }\n",
      "00:00:04 \u001B[94m  debug\u001B[0m #13 _4\n",
      "00:00:04 \u001B[94m  debug\u001B[0m #14 _5\n",
      "00:00:04 \u001B[90mverbose\u001B[0m #15 networking.test_port_open / { port = 5555; ex = System.AggregateException: One or more errors occurred. (Connection refused) }\n",
      "00:00:04 \u001B[94m  debug\u001B[0m #16 5\n",
      "00:00:04 \u001B[94m  debug\u001B[0m #17 6\n",
      "assert_eq / actual: 5557 / expected: 5557\n",
      "assert_between / actual: 313L / expected: struct (50L, 1200L)\n",
      "assert_eq / actual: true / expected: true\n"
     ]
    }
   ],
   "source": [
    "//// test\n",
    "\n",
    "inl lock_ports host port = async.new_async_unit fun () =>\n",
    "    trace Debug (fun () => \"_1\") id\n",
    "    inl listener1 = new_tcp_listener (ip_address_parse host) port |> use\n",
    "    inl listener2 = new_tcp_listener (ip_address_parse host) (port + 1) |> use\n",
    "    trace Debug (fun () => \"_2\") id\n",
    "    listener1 |> listener_start\n",
    "    listener2 |> listener_start\n",
    "    trace Debug (fun () => \"_3\") id\n",
    "    async.sleep 4000 |> async.do\n",
    "    trace Debug (fun () => \"_4\") id\n",
    "    listener1 |> listener_stop\n",
    "    listener2 |> listener_stop\n",
    "    trace Debug (fun () => \"_5\") id\n",
    "\n",
    "inl host = \"127.0.0.1\"\n",
    "inl port = 5555\n",
    "\n",
    "fun () =>\n",
    "    trace Debug (fun () => \"1\") id\n",
    "    inl child = lock_ports host port |> async.start_child |> async.let'\n",
    "    trace Debug (fun () => \"2\") id\n",
    "    async.sleep 240 |> async.do\n",
    "    trace Debug (fun () => \"3\") id\n",
    "    inl available_port = get_available_port (None |> optionm'.box) host port |> async.let'\n",
    "    trace Debug (fun () => \"4\") id\n",
    "    inl retries = wait_for_port_access (None |> optionm'.box) false host port |> async.let'\n",
    "    trace Debug (fun () => \"5\") id\n",
    "    child |> async.do\n",
    "    trace Debug (fun () => \"6\") id\n",
    "    (available_port, retries) |> return\n",
    "|> async.new_async_unit\n",
    "|> async.run_with_timeout 15000\n",
    "|> function\n",
    "    | Some (available_port, retries) =>\n",
    "        available_port |> _assert_eq (port + 2)\n",
    "\n",
    "        retries\n",
    "        |> _assert_between\n",
    "            if platform.is_windows () then 50i64 else 50\n",
    "            if platform.is_windows () then 150 else 1200\n",
    "\n",
    "        true\n",
    "    | _ => false\n",
    "|> _assert_eq true"
   ]
  },
  {
   "cell_type": "code",
   "execution_count": null,
   "metadata": {
    "dotnet_interactive": {
     "language": "spiral"
    },
    "polyglot_notebook": {
     "kernelName": "spiral"
    }
   },
   "outputs": [
    {
     "name": "stdout",
     "output_type": "stream",
     "text": [
      "00:00:00 \u001B[94m  debug\u001B[0m #1 1\n",
      "00:00:00 \u001B[94m  debug\u001B[0m #2 _1\n",
      "00:00:00 \u001B[94m  debug\u001B[0m #3 2\n",
      "00:00:00 \u001B[94m  debug\u001B[0m #4 _2\n",
      "00:00:00 \u001B[94m  debug\u001B[0m #5 _3\n",
      "00:00:00 \u001B[94m  debug\u001B[0m #6 3\n",
      "00:00:00 \u001B[90mverbose\u001B[0m #7 networking.test_port_open / { port = 5557; ex = System.AggregateException: One or more errors occurred. (Connection refused) }\n",
      "00:00:00 \u001B[94m  debug\u001B[0m #8 4\n",
      "00:00:00 \u001B[90mverbose\u001B[0m #9 networking.wait_for_port_access / { port = 5555; retry = 0; timeout = Some 60; status = false }\n",
      "00:00:00 \u001B[94m  debug\u001B[0m #10 _4\n",
      "00:00:00 \u001B[94m  debug\u001B[0m #11 _5\n",
      "00:00:00 \u001B[90mverbose\u001B[0m #12 networking.test_port_open / { port = 5555; ex = System.AggregateException: One or more errors occurred. (Connection refused) }\n",
      "00:00:00 \u001B[94m  debug\u001B[0m #13 5\n",
      "00:00:00 \u001B[94m  debug\u001B[0m #14 6\n",
      "assert_eq / actual: 5557 / expected: 5557\n",
      "assert_between / actual: 12L / expected: struct (1L, 120L)\n",
      "assert_eq / actual: true / expected: true\n"
     ]
    }
   ],
   "source": [
    "//// test\n",
    "\n",
    "inl lock_ports host port = async.new_async_unit fun () =>\n",
    "    trace Debug (fun () => \"_1\") id\n",
    "    inl listener1 = new_tcp_listener (ip_address_parse host) port |> use\n",
    "    inl listener2 = new_tcp_listener (ip_address_parse host) (port + 1) |> use\n",
    "    trace Debug (fun () => \"_2\") id\n",
    "    listener1 |> listener_start\n",
    "    listener2 |> listener_start\n",
    "    trace Debug (fun () => \"_3\") id\n",
    "    async.sleep 400 |> async.do\n",
    "    trace Debug (fun () => \"_4\") id\n",
    "    listener1 |> listener_stop\n",
    "    listener2 |> listener_stop\n",
    "    trace Debug (fun () => \"_5\") id\n",
    "\n",
    "inl host = \"127.0.0.1\"\n",
    "inl port = 5555\n",
    "\n",
    "fun () =>\n",
    "    trace Debug (fun () => \"1\") id\n",
    "    inl child = lock_ports host port |> async.start_child |> async.let'\n",
    "    trace Debug (fun () => \"2\") id\n",
    "    async.sleep 240 |> async.do\n",
    "    trace Debug (fun () => \"3\") id\n",
    "    inl available_port = get_available_port (Some 60 |> optionm'.box) host port |> async.let'\n",
    "    trace Debug (fun () => \"4\") id\n",
    "    inl retries = wait_for_port_access (Some 60 |> optionm'.box) false host port |> async.let'\n",
    "    trace Debug (fun () => \"5\") id\n",
    "    child |> async.do\n",
    "    trace Debug (fun () => \"6\") id\n",
    "    (available_port, retries) |> return\n",
    "|> async.new_async_unit\n",
    "|> async.run_with_timeout 1500\n",
    "|> function\n",
    "    | Some (available_port, retries) =>\n",
    "        available_port |> _assert_eq (port + 2)\n",
    "\n",
    "        retries\n",
    "        |> _assert_between\n",
    "            (if platform.is_windows () then 2i64 else 1)\n",
    "            (if platform.is_windows () then 10 else 120)\n",
    "\n",
    "        true\n",
    "    | _ => false\n",
    "|> _assert_eq true"
   ]
  },
  {
   "cell_type": "markdown",
   "metadata": {},
   "source": [
    "## main"
   ]
  },
  {
   "cell_type": "code",
   "execution_count": null,
   "metadata": {
    "dotnet_interactive": {
     "language": "spiral"
    },
    "polyglot_notebook": {
     "kernelName": "spiral"
    }
   },
   "outputs": [],
   "source": [
    "inl main () =\n",
    "    types ()\n",
    "    init_trace_state None\n",
    "    $'let test_port_open x = !test_port_open x' : ()\n",
    "    $'let test_port_open_timeout x = !test_port_open_timeout x' : ()\n",
    "    $'let wait_for_port_access x = !wait_for_port_access x' : ()\n",
    "    $'let get_available_port x = !get_available_port x' : ()"
   ]
  }
 ],
 "metadata": {},
 "nbformat": 4,
 "nbformat_minor": 5
}