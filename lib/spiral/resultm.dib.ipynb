{
 "cells": [
  {
   "cell_type": "markdown",
   "metadata": {},
   "source": [
    "# resultm"
   ]
  },
  {
   "cell_type": "code",
   "execution_count": null,
   "metadata": {
    "dotnet_interactive": {
     "language": "spiral"
    },
    "polyglot_notebook": {
     "kernelName": "spiral"
    }
   },
   "outputs": [
    {
     "name": "stdout",
     "output_type": "stream",
     "text": [
      "()\n",
      "\n"
     ]
    }
   ],
   "source": [
    "open rust_operators"
   ]
  },
  {
   "cell_type": "code",
   "execution_count": null,
   "metadata": {
    "dotnet_interactive": {
     "language": "spiral"
    },
    "polyglot_notebook": {
     "kernelName": "spiral"
    }
   },
   "outputs": [
    {
     "name": "stdout",
     "output_type": "stream",
     "text": [
      "()\n",
      "\n"
     ]
    }
   ],
   "source": [
    "// // test\n",
    "\n",
    "open testing"
   ]
  },
  {
   "cell_type": "markdown",
   "metadata": {},
   "source": [
    "## result'"
   ]
  },
  {
   "cell_type": "code",
   "execution_count": null,
   "metadata": {
    "dotnet_interactive": {
     "language": "spiral"
    },
    "polyglot_notebook": {
     "kernelName": "spiral"
    }
   },
   "outputs": [
    {
     "name": "stdout",
     "output_type": "stream",
     "text": [
      "()\n",
      "\n"
     ]
    }
   ],
   "source": [
    "nominal result' t u = $\"Result<`t, `u>\""
   ]
  },
  {
   "cell_type": "markdown",
   "metadata": {},
   "source": [
    "## from_option_error"
   ]
  },
  {
   "cell_type": "code",
   "execution_count": null,
   "metadata": {
    "dotnet_interactive": {
     "language": "spiral"
    },
    "polyglot_notebook": {
     "kernelName": "spiral"
    }
   },
   "outputs": [
    {
     "name": "stdout",
     "output_type": "stream",
     "text": [
      "()\n",
      "\n"
     ]
    }
   ],
   "source": [
    "inl from_option_error error opt =\n",
    "    match opt with\n",
    "    | Some x => Ok x\n",
    "    | None => Error error"
   ]
  },
  {
   "cell_type": "markdown",
   "metadata": {},
   "source": [
    "## from_option"
   ]
  },
  {
   "cell_type": "code",
   "execution_count": null,
   "metadata": {
    "dotnet_interactive": {
     "language": "spiral"
    },
    "polyglot_notebook": {
     "kernelName": "spiral"
    }
   },
   "outputs": [
    {
     "name": "stdout",
     "output_type": "stream",
     "text": [
      "()\n",
      "\n"
     ]
    }
   ],
   "source": [
    "inl from_option opt =\n",
    "    opt |> from_option_error \"resultm.from_option / Option does not have a value.\""
   ]
  },
  {
   "cell_type": "markdown",
   "metadata": {},
   "source": [
    "## flatten_option"
   ]
  },
  {
   "cell_type": "code",
   "execution_count": null,
   "metadata": {
    "dotnet_interactive": {
     "language": "spiral"
    },
    "polyglot_notebook": {
     "kernelName": "spiral"
    }
   },
   "outputs": [
    {
     "name": "stdout",
     "output_type": "stream",
     "text": [
      "()\n",
      "\n"
     ]
    }
   ],
   "source": [
    "inl flatten_option forall t u. (x : option (result (option t) u)) : result (option t) u =\n",
    "    match x with\n",
    "    | Some (Error x) => Error x\n",
    "    | Some (Ok (Some x)) => Ok (Some x)\n",
    "    | _ => Ok None"
   ]
  },
  {
   "cell_type": "markdown",
   "metadata": {},
   "source": [
    "## flatten"
   ]
  },
  {
   "cell_type": "code",
   "execution_count": null,
   "metadata": {
    "dotnet_interactive": {
     "language": "spiral"
    },
    "polyglot_notebook": {
     "kernelName": "spiral"
    }
   },
   "outputs": [
    {
     "name": "stdout",
     "output_type": "stream",
     "text": [
      "()\n",
      "\n"
     ]
    }
   ],
   "source": [
    "inl flatten forall t u. (x : result (result t u) u) : result t u =\n",
    "    match x with\n",
    "    | Ok x => x\n",
    "    | Error x => Error x"
   ]
  },
  {
   "cell_type": "markdown",
   "metadata": {},
   "source": [
    "## get"
   ]
  },
  {
   "cell_type": "code",
   "execution_count": null,
   "metadata": {
    "dotnet_interactive": {
     "language": "spiral"
    },
    "polyglot_notebook": {
     "kernelName": "spiral"
    }
   },
   "outputs": [
    {
     "name": "stdout",
     "output_type": "stream",
     "text": [
      "()\n",
      "\n"
     ]
    }
   ],
   "source": [
    "inl get forall t e. (source : result t e) : t =\n",
    "    match source with\n",
    "    | Ok x => x\n",
    "    | Error x => failwith $'$\"resultm.get / Result value was Error: {!x}\"'"
   ]
  },
  {
   "cell_type": "markdown",
   "metadata": {},
   "source": [
    "## map"
   ]
  },
  {
   "cell_type": "code",
   "execution_count": null,
   "metadata": {
    "dotnet_interactive": {
     "language": "spiral"
    },
    "polyglot_notebook": {
     "kernelName": "spiral"
    }
   },
   "outputs": [
    {
     "name": "stdout",
     "output_type": "stream",
     "text": [
      "()\n",
      "\n"
     ]
    }
   ],
   "source": [
    "inl map forall t e u. (fn : t -> u) (source : result t e) : result u e =\n",
    "    match source with\n",
    "    | Ok x => x |> fn |> Ok\n",
    "    | Error x => Error x"
   ]
  },
  {
   "cell_type": "markdown",
   "metadata": {},
   "source": [
    "## map_error"
   ]
  },
  {
   "cell_type": "code",
   "execution_count": null,
   "metadata": {
    "dotnet_interactive": {
     "language": "spiral"
    },
    "polyglot_notebook": {
     "kernelName": "spiral"
    }
   },
   "outputs": [
    {
     "name": "stdout",
     "output_type": "stream",
     "text": [
      "()\n",
      "\n"
     ]
    }
   ],
   "source": [
    "inl map_error forall t e u. (fn : e -> u) (source : result t e) : result t u =\n",
    "    match source with\n",
    "    | Ok x => Ok x\n",
    "    | Error x => x |> fn |> Error"
   ]
  },
  {
   "cell_type": "markdown",
   "metadata": {},
   "source": [
    "## map'"
   ]
  },
  {
   "cell_type": "code",
   "execution_count": null,
   "metadata": {
    "dotnet_interactive": {
     "language": "spiral"
    },
    "polyglot_notebook": {
     "kernelName": "spiral"
    }
   },
   "outputs": [
    {
     "name": "stdout",
     "output_type": "stream",
     "text": [
      "()\n",
      "\n"
     ]
    }
   ],
   "source": [
    "inl map' forall t e u. (fn : t -> u) (source : result' t e) : result' u e =\n",
    "    inl source = join source\n",
    "    !\\\\((source, fn), $'\"$0.map(|x| $1(x))\"')"
   ]
  },
  {
   "cell_type": "markdown",
   "metadata": {},
   "source": [
    "## map_error'"
   ]
  },
  {
   "cell_type": "code",
   "execution_count": null,
   "metadata": {
    "dotnet_interactive": {
     "language": "spiral"
    },
    "polyglot_notebook": {
     "kernelName": "spiral"
    }
   },
   "outputs": [
    {
     "name": "stdout",
     "output_type": "stream",
     "text": [
      "()\n",
      "\n"
     ]
    }
   ],
   "source": [
    "inl map_error' forall t e u. (fn : e -> u) (source : result' t e) : result' t u =\n",
    "    inl fn = join fn\n",
    "    !\\\\((source, fn), $'\"$0.map_err(|x| $1(x))\"')"
   ]
  },
  {
   "cell_type": "markdown",
   "metadata": {},
   "source": [
    "## unbox"
   ]
  },
  {
   "cell_type": "code",
   "execution_count": null,
   "metadata": {
    "dotnet_interactive": {
     "language": "spiral"
    },
    "polyglot_notebook": {
     "kernelName": "spiral"
    }
   },
   "outputs": [
    {
     "name": "stdout",
     "output_type": "stream",
     "text": [
      "()\n",
      "\n"
     ]
    }
   ],
   "source": [
    "inl unbox forall t u. (x : result' t u) : result t u =\n",
    "    inl ok x : result t u = Ok x\n",
    "    inl error x : result t u = Error x\n",
    "    $\"match !x with Ok x -> !ok x | Error x -> !error x\""
   ]
  },
  {
   "cell_type": "markdown",
   "metadata": {},
   "source": [
    "## box"
   ]
  },
  {
   "cell_type": "code",
   "execution_count": null,
   "metadata": {
    "dotnet_interactive": {
     "language": "spiral"
    },
    "polyglot_notebook": {
     "kernelName": "spiral"
    }
   },
   "outputs": [
    {
     "name": "stdout",
     "output_type": "stream",
     "text": [
      "()\n",
      "\n"
     ]
    }
   ],
   "source": [
    "inl box forall t u. (x : result t u) : result' t u =\n",
    "    match x with\n",
    "    | Ok x => $\"Ok !x\"\n",
    "    | Error err => $\"Error !err\""
   ]
  },
  {
   "cell_type": "markdown",
   "metadata": {},
   "source": [
    "## try'"
   ]
  },
  {
   "cell_type": "code",
   "execution_count": null,
   "metadata": {
    "dotnet_interactive": {
     "language": "spiral"
    },
    "polyglot_notebook": {
     "kernelName": "spiral"
    }
   },
   "outputs": [
    {
     "name": "stdout",
     "output_type": "stream",
     "text": [
      "()\n",
      "\n"
     ]
    }
   ],
   "source": [
    "inl try' forall t u. (x : result' t u) : t =\n",
    "    !\\\\(x, $'\"$0?\"')"
   ]
  },
  {
   "cell_type": "markdown",
   "metadata": {},
   "source": [
    "## unwrap'"
   ]
  },
  {
   "cell_type": "code",
   "execution_count": null,
   "metadata": {
    "dotnet_interactive": {
     "language": "spiral"
    },
    "polyglot_notebook": {
     "kernelName": "spiral"
    }
   },
   "outputs": [
    {
     "name": "stdout",
     "output_type": "stream",
     "text": [
      "()\n",
      "\n"
     ]
    }
   ],
   "source": [
    "inl unwrap' forall t u. (x : result' t u) : t =\n",
    "    !\\\\(x, $'\"$0.unwrap()\"')"
   ]
  },
  {
   "cell_type": "markdown",
   "metadata": {},
   "source": [
    "## expect"
   ]
  },
  {
   "cell_type": "code",
   "execution_count": null,
   "metadata": {
    "dotnet_interactive": {
     "language": "spiral"
    },
    "polyglot_notebook": {
     "kernelName": "spiral"
    }
   },
   "outputs": [
    {
     "name": "stdout",
     "output_type": "stream",
     "text": [
      "()\n",
      "\n"
     ]
    }
   ],
   "source": [
    "inl expect forall t u. (error : rust.ref' string) (x : result' t u) : t =\n",
    "    !\\($'\"!x.expect(&!error)\"')"
   ]
  },
  {
   "cell_type": "markdown",
   "metadata": {},
   "source": [
    "## ok'"
   ]
  },
  {
   "cell_type": "code",
   "execution_count": null,
   "metadata": {
    "dotnet_interactive": {
     "language": "spiral"
    },
    "polyglot_notebook": {
     "kernelName": "spiral"
    }
   },
   "outputs": [
    {
     "name": "stdout",
     "output_type": "stream",
     "text": [
      "()\n",
      "\n"
     ]
    }
   ],
   "source": [
    "inl ok' forall t. (x : result' t _) : optionm'.option' t =\n",
    "    !\\($'\"!x.ok()\"')"
   ]
  },
  {
   "cell_type": "markdown",
   "metadata": {},
   "source": [
    "## ok"
   ]
  },
  {
   "cell_type": "code",
   "execution_count": null,
   "metadata": {
    "dotnet_interactive": {
     "language": "spiral"
    },
    "polyglot_notebook": {
     "kernelName": "spiral"
    }
   },
   "outputs": [
    {
     "name": "stdout",
     "output_type": "stream",
     "text": [
      "()\n",
      "\n"
     ]
    }
   ],
   "source": [
    "inl ok forall t. (x : result t _) : option t =\n",
    "    match x with\n",
    "    | Ok x => Some x\n",
    "    | Error _ => None"
   ]
  },
  {
   "cell_type": "markdown",
   "metadata": {},
   "source": [
    "## transpose"
   ]
  },
  {
   "cell_type": "code",
   "execution_count": null,
   "metadata": {
    "dotnet_interactive": {
     "language": "spiral"
    },
    "polyglot_notebook": {
     "kernelName": "spiral"
    }
   },
   "outputs": [
    {
     "name": "stdout",
     "output_type": "stream",
     "text": [
      "()\n",
      "\n"
     ]
    }
   ],
   "source": [
    "inl transpose forall t u. (x : optionm'.option' (result' t u)) : result' (optionm'.option' t) u =\n",
    "    !\\\\(x, $'\"$0.transpose()\"')"
   ]
  },
  {
   "cell_type": "markdown",
   "metadata": {},
   "source": [
    "## rc_try_unwrap"
   ]
  },
  {
   "cell_type": "code",
   "execution_count": null,
   "metadata": {
    "dotnet_interactive": {
     "language": "spiral"
    },
    "polyglot_notebook": {
     "kernelName": "spiral"
    }
   },
   "outputs": [
    {
     "name": "stdout",
     "output_type": "stream",
     "text": [
      "()\n",
      "\n"
     ]
    }
   ],
   "source": [
    "inl rc_try_unwrap forall t. (x : rust.rc t) : result' t (rust.rc t) =\n",
    "    !\\($'\"std::rc::Rc::try_unwrap(!x)\"')"
   ]
  },
  {
   "cell_type": "code",
   "execution_count": null,
   "metadata": {
    "dotnet_interactive": {
     "language": "spiral"
    },
    "polyglot_notebook": {
     "kernelName": "spiral"
    }
   },
   "outputs": [
    {
     "data": {
      "text/plain": [
       ".rs output:\n",
       "US0_0\n",
       "\n",
       "\n"
      ]
     },
     "metadata": {},
     "output_type": "display_data"
    },
    {
     "name": "stdout",
     "output_type": "stream",
     "text": [
      ".fsx:\n",
      "#if FABLE_COMPILER // trace.types\n",
      "[<Fable.Core.Erase; Fable.Core.Emit(\"Func0<$0>\")>] type Func0<'T> = class end\n",
      "[<Fable.Core.Erase; Fable.Core.Emit(\"Func1<$0, $1>\")>] type Func0<'T, 'U> = class end\n",
      "[<Fable.Core.Erase; Fable.Core.Emit(\"Box<$0>\")>] type Box<'T> = class end\n",
      "[<Fable.Core.Erase; Fable.Core.Emit(\"dyn $0\")>] type Dyn<'T> = class end\n",
      "[<Fable.Core.Erase; Fable.Core.Emit(\"$0 + Send\")>] type Send<'T> = class end\n",
      "[<Fable.Core.Erase; Fable.Core.Emit(\"Fn() -> $0\")>] type Fn<'T> = class end\n",
      "[<Fable.Core.Erase; Fable.Core.Emit(\"Fn()\")>] type FnUnit = class end\n",
      "[<Fable.Core.Erase; Fable.Core.Emit(\"FnOnce() -> $0\")>] type FnOnce<'T> = class end\n",
      "[<Fable.Core.Erase; Fable.Core.Emit(\"Fn($0, $1)\")>] type ActionFn2<'T, 'U> = class end\n",
      "[<Fable.Core.Erase; Fable.Core.Emit(\"impl $0\")>] type Impl<'T> = class end\n",
      "[<Fable.Core.Erase; Fable.Core.Emit(\"mut $0\")>] type Mut<'T> = class end\n",
      "[<Fable.Core.Erase; Fable.Core.Emit(\"&$0\")>] type Ref<'T> = class end\n",
      "[<Fable.Core.Erase; Fable.Core.Emit(\"&'static $0\")>] type StaticRef<'T> = class end\n",
      "[<Fable.Core.Erase; Fable.Core.Emit(\"MutCell<$0>\")>] type MutCell<'T> = class end\n",
      "[<Fable.Core.Erase; Fable.Core.Emit(\"std::any::Any\")>] type std_any_Any = class end\n",
      "[<Fable.Core.Erase; Fable.Core.Emit(\"std::cell::RefCell<$0>\")>] type std_cell_RefCell<'T> = class end\n",
      "[<Fable.Core.Erase; Fable.Core.Emit(\"std::pin::Pin<$0>\")>] type std_pin_Pin<'T> = class end\n",
      "[<Fable.Core.Erase; Fable.Core.Emit(\"std::rc::Rc<$0>\")>] type std_rc_Rc<'T> = class end\n",
      "[<Fable.Core.Erase; Fable.Core.Emit(\"std::rc::Weak<$0>\")>] type std_rc_Weak<'T> = class end\n",
      "[<Fable.Core.Erase; Fable.Core.Emit(\"std::sync::Arc<$0>\")>] type std_sync_Arc<'T> = class end\n",
      "[<Fable.Core.Erase; Fable.Core.Emit(\"str\")>] type Str = class end\n",
      "[<Fable.Core.Erase; Fable.Core.Emit(\"base64::DecodeError\")>] type base64_DecodeError = class end\n",
      "[<Fable.Core.Erase; Fable.Core.Emit(\"borsh::io::Error\")>] type borsh_io_Error = class end\n",
      "[<Fable.Core.Erase; Fable.Core.Emit(\"js_sys::JsString\")>] type js_sys_JsString = class end\n",
      "[<Fable.Core.Erase; Fable.Core.Emit(\"serde_json::Error\")>] type serde_json_Error = class end\n",
      "[<Fable.Core.Erase; Fable.Core.Emit(\"serde_json::Value\")>] type serde_json_Value = class end\n",
      "[<Fable.Core.Erase; Fable.Core.Emit(\"serde_wasm_bindgen::Error\")>] type serde_wasm_bindgen_Error = class end\n",
      "[<Fable.Core.Erase; Fable.Core.Emit(\"std::ffi::OsStr\")>] type std_ffi_OsStr = class end\n",
      "[<Fable.Core.Erase; Fable.Core.Emit(\"std::ffi::OsString\")>] type std_ffi_OsString = class end\n",
      "[<Fable.Core.Erase; Fable.Core.Emit(\"std::str::Utf8Error\")>] type std_str_Utf8Error = class end\n",
      "[<Fable.Core.Erase; Fable.Core.Emit(\"std::string::String\")>] type std_string_String = class end\n",
      "#endif // trace.types\n",
      "type [<Struct>] US0 =\n",
      "    | US0_0\n",
      "    | US0_1 of f1_0 : std_rc_Rc<unit>\n",
      "let rec method1 () : unit =\n",
      "    ()\n",
      "and closure0 () () : US0 =\n",
      "    US0_0\n",
      "and closure1 () (v0 : std_rc_Rc<unit>) : US0 =\n",
      "    US0_1(v0)\n",
      "and method2 (v0 : bool) : bool =\n",
      "    v0\n",
      "and method0 () : unit =\n",
      "    method1()\n",
      "    let v0 : string = \"std::rc::Rc::new(())\"\n",
      "    let v1 : std_rc_Rc<unit> = Fable.Core.RustInterop.emitRustExpr () v0\n",
      "    let v2 : string = \"std::rc::Rc::try_unwrap(v1)\"\n",
      "    let v3 : Result<unit, std_rc_Rc<unit>> = Fable.Core.RustInterop.emitRustExpr () v2\n",
      "    let v4 : (unit -> US0) = closure0()\n",
      "    let v5 : (std_rc_Rc<unit> -> US0) = closure1()\n",
      "    let v6 : US0 = match v3 with Ok x -> v4 x | Error x -> v5 x\n",
      "    let v7 : string = $\"%A{v6}\"\n",
      "    System.Console.WriteLine v7\n",
      "    let v9 : bool =\n",
      "        match v6 with\n",
      "        | US0_0 -> (* Ok *)\n",
      "            true\n",
      "        | _ ->\n",
      "            false\n",
      "    let v11 : bool =\n",
      "        if v9 then\n",
      "            true\n",
      "        else\n",
      "            method2(v9)\n",
      "    let v12 : US0 = US0_0\n",
      "    let v13 : string = $\"__expect / actual: %A{v6} / expected: %A{v12}\"\n",
      "    let v14 : bool = v11 = false\n",
      "    if v14 then\n",
      "        failwith<unit> v13\n",
      "method0()\n",
      "\n",
      "\n",
      ".rs:\n",
      "#![allow(dead_code,)]\n",
      "#![allow(non_camel_case_types,)]\n",
      "#![allow(non_snake_case,)]\n",
      "#![allow(non_upper_case_globals,)]\n",
      "#![allow(unreachable_code,)]\n",
      "#![allow(unused_attributes,)]\n",
      "#![allow(unused_imports,)]\n",
      "#![allow(unused_macros,)]\n",
      "#![allow(unused_parens,)]\n",
      "#![allow(unused_variables,)]\n",
      "mod module_ccfa04bf {\n",
      "    pub mod Spiral_eval {\n",
      "        use super::*;\n",
      "        use fable_library_rust::Native_::MutCell;\n",
      "        use fable_library_rust::Native_::on_startup;\n",
      "        use fable_library_rust::String_::printfn;\n",
      "        use fable_library_rust::String_::sprintf;\n",
      "        use fable_library_rust::String_::string;\n",
      "        #[derive(Clone, Debug,)]\n",
      "        pub enum US0 { US0_0, US0_1(std::rc::Rc<()>), }\n",
      "        impl Spiral_eval::US0 {\n",
      "            pub fn get_IsUS0_0(this_: &MutCell<Spiral_eval::US0>, unitArg: ())\n",
      "             -> bool {\n",
      "                if unreachable!() { true } else { false }\n",
      "            }\n",
      "            pub fn get_IsUS0_1(this_: &MutCell<Spiral_eval::US0>, unitArg: ())\n",
      "             -> bool {\n",
      "                if unreachable!() { true } else { false }\n",
      "            }\n",
      "        }\n",
      "        impl core::fmt::Display for Spiral_eval::US0 {\n",
      "            fn fmt(&self, f: &mut core::fmt::Formatter) -> core::fmt::Result {\n",
      "                write!(f, \"{}\", core::any::type_name::<Self>())\n",
      "            }\n",
      "        }\n",
      "        pub fn method1() { (); }\n",
      "        pub fn closure0(unitVar: (), unitVar_1: ()) -> Spiral_eval::US0 {\n",
      "            Spiral_eval::US0::US0_0\n",
      "        }\n",
      "        pub fn closure1(unitVar: (), v0: std::rc::Rc<()>)\n",
      "         -> Spiral_eval::US0 {\n",
      "            Spiral_eval::US0::US0_1(v0)\n",
      "        }\n",
      "        pub fn method2(v0: bool) -> bool { v0 }\n",
      "        pub fn method0() {\n",
      "            Spiral_eval::method1();\n",
      "            {\n",
      "                let v1: std::rc::Rc<()> = std::rc::Rc::new(());\n",
      "                let v3: Result<(), std::rc::Rc<()>> =\n",
      "                    std::rc::Rc::try_unwrap(v1);\n",
      "                let v6: Spiral_eval::US0 =\n",
      "                    match &v3 {\n",
      "                        Err(v3_1_0) =>\n",
      "                        Spiral_eval::closure1((), v3_1_0.clone()),\n",
      "                        _ => Spiral_eval::closure0((), ()),\n",
      "                    };\n",
      "                let v7: string = sprintf!(\"{:?}\", v6.clone());\n",
      "                printfn!(\"{0}\", v7);\n",
      "                {\n",
      "                    let v9: bool =\n",
      "                        if let Spiral_eval::US0::US0_0 = &v6 {\n",
      "                            true\n",
      "                        } else { false };\n",
      "                    if (if v9 { true } else { Spiral_eval::method2(v9) }) ==\n",
      "                           false {\n",
      "                        panic!(\"{}\",\n",
      "                               sprintf!(\"__expect / actual: {:?} / expected: {:?}\", v6,\n",
      "         Spiral_eval::US0::US0_0));\n",
      "                    }\n",
      "                }\n",
      "            }\n",
      "        }\n",
      "        on_startup!(Spiral_eval::method0());\n",
      "    }\n",
      "}\n",
      "pub use module_ccfa04bf::*;\n",
      "\n"
     ]
    }
   ],
   "source": [
    "// // test\n",
    "// // rust=true\n",
    "\n",
    "types ()\n",
    "rust.new_rc ()\n",
    "|> rc_try_unwrap\n",
    "|> unbox\n",
    "|> _assert_eq (Ok ())"
   ]
  }
 ],
 "metadata": {},
 "nbformat": 4,
 "nbformat_minor": 5
}