{
 "cells": [
  {
   "cell_type": "markdown",
   "metadata": {},
   "source": [
    "# common"
   ]
  },
  {
   "cell_type": "code",
   "execution_count": null,
   "metadata": {
    "dotnet_interactive": {
     "language": "spiral"
    },
    "polyglot_notebook": {
     "kernelName": "spiral"
    }
   },
   "outputs": [],
   "source": [
    "//// test\n",
    "\n",
    "open testing"
   ]
  },
  {
   "cell_type": "markdown",
   "metadata": {},
   "source": [
    "## common"
   ]
  },
  {
   "cell_type": "markdown",
   "metadata": {},
   "source": [
    "### (:>)"
   ]
  },
  {
   "cell_type": "code",
   "execution_count": null,
   "metadata": {
    "dotnet_interactive": {
     "language": "spiral"
    },
    "polyglot_notebook": {
     "kernelName": "spiral"
    }
   },
   "outputs": [],
   "source": [
    "prototype (~:>) r : forall t. t -> r"
   ]
  },
  {
   "cell_type": "markdown",
   "metadata": {},
   "source": [
    "### to_any"
   ]
  },
  {
   "cell_type": "code",
   "execution_count": null,
   "metadata": {
    "dotnet_interactive": {
     "language": "spiral"
    },
    "polyglot_notebook": {
     "kernelName": "spiral"
    }
   },
   "outputs": [],
   "source": [
    "inl to_any forall t. (obj : t) : any =\n",
    "    $'!obj '\n",
    "\n",
    "instance (~:>) any = to_any"
   ]
  },
  {
   "cell_type": "markdown",
   "metadata": {},
   "source": [
    "### (||>)"
   ]
  },
  {
   "cell_type": "code",
   "execution_count": null,
   "metadata": {
    "dotnet_interactive": {
     "language": "spiral"
    },
    "polyglot_notebook": {
     "kernelName": "spiral"
    }
   },
   "outputs": [
    {
     "data": {
      "text/plain": [
       ".py output (Cuda):\n",
       "__assert_eq / actual: 1 / expected: 1\n",
       "\n",
       ".rs output:\n",
       "__assert_eq / actual: 1 / expected: 1\n",
       "\n",
       ".ts output:\n",
       "__assert_eq / actual: 1 / expected: 1\n",
       "\n",
       ".py output:\n",
       "__assert_eq / actual: 1 / expected: 1\n",
       "\n"
      ]
     },
     "metadata": {},
     "output_type": "display_data"
    },
    {
     "name": "stdout",
     "output_type": "stream",
     "text": [
      ".fsx output:\n",
      "__assert_eq / actual: 1 / expected: 1\n"
     ]
    }
   ],
   "source": [
    "//// test\n",
    "///! fsharp\n",
    "///! cuda\n",
    "///! rust\n",
    "///! typescript\n",
    "///! python\n",
    "\n",
    "(3i32, 2i32)\n",
    "||> fun a b => a - b\n",
    "|> _assert_eq 1"
   ]
  },
  {
   "cell_type": "markdown",
   "metadata": {},
   "source": [
    "### flip"
   ]
  },
  {
   "cell_type": "code",
   "execution_count": null,
   "metadata": {
    "dotnet_interactive": {
     "language": "spiral"
    },
    "polyglot_notebook": {
     "kernelName": "spiral"
    }
   },
   "outputs": [],
   "source": [
    "inl flip fn a b =\n",
    "    fn b a"
   ]
  },
  {
   "cell_type": "code",
   "execution_count": null,
   "metadata": {
    "dotnet_interactive": {
     "language": "spiral"
    },
    "polyglot_notebook": {
     "kernelName": "spiral"
    }
   },
   "outputs": [
    {
     "data": {
      "text/plain": [
       ".py output (Cuda):\n",
       "__assert_eq / actual: (2, 1) / expected: (2, 1)\n",
       "\n",
       ".rs output:\n",
       "__assert_eq / actual: (2, 1) / expected: (2, 1)\n",
       "\n",
       ".ts output:\n",
       "__assert_eq / actual: 2,1 / expected: 2,1\n",
       "\n",
       ".py output:\n",
       "__assert_eq / actual: (2, 1) / expected: (2, 1)\n",
       "\n"
      ]
     },
     "metadata": {},
     "output_type": "display_data"
    },
    {
     "name": "stdout",
     "output_type": "stream",
     "text": [
      ".fsx output:\n",
      "__assert_eq / actual: struct (2, 1) / expected: struct (2, 1)\n"
     ]
    }
   ],
   "source": [
    "//// test\n",
    "///! fsharp\n",
    "///! cuda\n",
    "///! rust\n",
    "///! typescript\n",
    "///! python\n",
    "\n",
    "(1i32, 2i32)\n",
    "||> flip pair\n",
    "|> _assert_eq (2, 1)"
   ]
  },
  {
   "cell_type": "markdown",
   "metadata": {},
   "source": [
    "### join_body"
   ]
  },
  {
   "cell_type": "code",
   "execution_count": null,
   "metadata": {
    "dotnet_interactive": {
     "language": "spiral"
    },
    "polyglot_notebook": {
     "kernelName": "spiral"
    }
   },
   "outputs": [],
   "source": [
    "inl join_body body acc x =\n",
    "    if var_is x |> not\n",
    "    then body acc x\n",
    "    else\n",
    "        inl acc = dyn acc\n",
    "        join body acc x"
   ]
  },
  {
   "cell_type": "code",
   "execution_count": null,
   "metadata": {
    "dotnet_interactive": {
     "language": "spiral"
    },
    "polyglot_notebook": {
     "kernelName": "spiral"
    }
   },
   "outputs": [],
   "source": [
    "//// test\n",
    "\n",
    "inl rec fold_list f s = function\n",
    "    | Cons (x, x') => fold_list f (f s x) x'\n",
    "    | Nil => s"
   ]
  },
  {
   "cell_type": "code",
   "execution_count": null,
   "metadata": {
    "dotnet_interactive": {
     "language": "spiral"
    },
    "polyglot_notebook": {
     "kernelName": "spiral"
    }
   },
   "outputs": [
    {
     "data": {
      "text/plain": [
       ".py output (Cuda):\n",
       "__assert_eq / actual: 15 / expected: 15\n",
       "\n",
       ".rs output:\n",
       "__assert_eq / actual: 15 / expected: 15\n",
       "\n",
       ".ts output:\n",
       "__assert_eq / actual: 15 / expected: 15\n",
       "\n",
       ".py output:\n",
       "__assert_eq / actual: 15 / expected: 15\n",
       "\n",
       "\n",
       "\n"
      ]
     },
     "metadata": {},
     "output_type": "display_data"
    },
    {
     "name": "stdout",
     "output_type": "stream",
     "text": [
      ".fsx:\n",
      "let rec method1 () : int32 =\n",
      "    3\n",
      "and method2 (v0 : bool) : bool =\n",
      "    v0\n",
      "and method0 () : unit =\n",
      "    let v0 : int32 = method1()\n",
      "    let v1 : int32 = 9 + v0\n",
      "    let v2 : int32 = v1 + 2\n",
      "    let v3 : int32 = v2 + 1\n",
      "    let v4 : bool = v3 = 15\n",
      "    let v6 : bool =\n",
      "        if v4 then\n",
      "            true\n",
      "        else\n",
      "            method2(v4)\n",
      "    let v9 : string = \"__assert_eq\"\n",
      "    let v10 : string = $\"{v9} / actual: %A{v3} / expected: %A{15}\"\n",
      "    v10 |> System.Console.WriteLine\n",
      "    let v23 : bool = v6 = false\n",
      "    if v23 then\n",
      "        failwith<unit> v10\n",
      "method0()\n",
      "\n",
      "\n",
      ".rs:\n",
      "#![allow(dead_code)]\n",
      "#![allow(non_camel_case_types)]\n",
      "#![allow(non_snake_case)]\n",
      "#![allow(non_upper_case_globals)]\n",
      "#![allow(unreachable_code)]\n",
      "#![allow(unused_attributes)]\n",
      "#![allow(unused_imports)]\n",
      "#![allow(unused_macros)]\n",
      "#![allow(unused_parens)]\n",
      "#![allow(unused_variables)]\n",
      "mod module_7e2cd9e0 {\n",
      "    pub mod Spiral_builder {\n",
      "        use super::*;\n",
      "        use fable_library_rust::Native_::on_startup;\n",
      "        use fable_library_rust::String_::printfn;\n",
      "        use fable_library_rust::String_::sprintf;\n",
      "        use fable_library_rust::String_::string;\n",
      "        pub fn method1() -> i32 {\n",
      "            3_i32\n",
      "        }\n",
      "        pub fn method2(v0: bool) -> bool {\n",
      "            v0\n",
      "        }\n",
      "        pub fn method0() {\n",
      "            let v3: i32 = 9_i32 + Spiral_builder::method1() + 2_i32 + 1_i32;\n",
      "            let v4: bool = v3 == 15_i32;\n",
      "            let v6: bool = if v4 {\n",
      "                true\n",
      "            } else {\n",
      "                Spiral_builder::method2(v4)\n",
      "            };\n",
      "            let v10: string = sprintf!(\n",
      "                \"{} / actual: {:?} / expected: {:?}\",\n",
      "                string(\"__assert_eq\"),\n",
      "                v3,\n",
      "                15_i32\n",
      "            );\n",
      "            printfn!(\"{0}\", v10.clone());\n",
      "            if v6 == false {\n",
      "                panic!(\"{}\", v10,);\n",
      "            }\n",
      "        }\n",
      "        on_startup!(Spiral_builder::method0());\n",
      "    }\n",
      "}\n",
      "pub use module_7e2cd9e0::*;\n",
      "\n",
      ".ts:\n",
      "import { int32 } from \"./fable_modules/fable-library-ts.4.19.3/Int32.js\";\n",
      "import { interpolate, toText } from \"./fable_modules/fable-library-ts.4.19.3/String.js\";\n",
      "\n",
      "export function method1(): int32 {\n",
      "    return 3;\n",
      "}\n",
      "\n",
      "export function method2(v0: boolean): boolean {\n",
      "    return v0;\n",
      "}\n",
      "\n",
      "export function method0(): void {\n",
      "    const v3: int32 = (((9 + method1()) + 2) + 1) | 0;\n",
      "    const v4: boolean = v3 === 15;\n",
      "    const v6: boolean = v4 ? true : method2(v4);\n",
      "    const v10: string = toText(interpolate(\"%P() / actual: %A%P() / expected: %A%P()\", [\"__assert_eq\", v3, 15]));\n",
      "    console.log(v10);\n",
      "    if (v6 === false) {\n",
      "        throw new Error(v10);\n",
      "    }\n",
      "}\n",
      "\n",
      "method0();\n",
      "\n",
      "\n",
      ".py:\n",
      "from fable_modules.fable_library.string_ import (to_text, interpolate)\n",
      "\n",
      "def method1(__unit: None=None) -> int:\n",
      "    return 3\n",
      "\n",
      "\n",
      "def method2(v0: bool) -> bool:\n",
      "    return v0\n",
      "\n",
      "\n",
      "def method0(__unit: None=None) -> None:\n",
      "    v3: int = (((9 + method1()) + 2) + 1) or 0\n",
      "    v4: bool = v3 == 15\n",
      "    v6: bool = True if v4 else method2(v4)\n",
      "    v10: str = to_text(interpolate(\"%P() / actual: %A%P() / expected: %A%P()\", [\"__assert_eq\", v3, 15]))\n",
      "    print(v10)\n",
      "    if v6 == False:\n",
      "        raise Exception(v10)\n",
      "\n",
      "\n",
      "\n",
      "method0()\n",
      "\n",
      "\n",
      ".py:\n",
      "kernel = r\"\"\"\n",
      "\"\"\"\n",
      "class static_array():\n",
      "    def __init__(self, length):\n",
      "        self.ptr = []\n",
      "        for _ in range(length):\n",
      "            self.ptr.append(None)\n",
      "\n",
      "    def __getitem__(self, index):\n",
      "        assert 0 <= index < len(self.ptr), \"The get index needs to be in range.\"\n",
      "        return self.ptr[index]\n",
      "    \n",
      "    def __setitem__(self, index, value):\n",
      "        assert 0 <= index < len(self.ptr), \"The set index needs to be in range.\"\n",
      "        self.ptr[index] = value\n",
      "\n",
      "class static_array_list(static_array):\n",
      "    def __init__(self, length):\n",
      "        super().__init__(length)\n",
      "        self.length = 0\n",
      "\n",
      "    def __getitem__(self, index):\n",
      "        assert 0 <= index < self.length, \"The get index needs to be in range.\"\n",
      "        return self.ptr[index]\n",
      "    \n",
      "    def __setitem__(self, index, value):\n",
      "        assert 0 <= index < self.length, \"The set index needs to be in range.\"\n",
      "        self.ptr[index] = value\n",
      "\n",
      "    def push(self,value):\n",
      "        assert (self.length < len(self.ptr)), \"The length before pushing has to be less than the maximum length of the array.\"\n",
      "        self.ptr[self.length] = value\n",
      "        self.length += 1\n",
      "\n",
      "    def pop(self):\n",
      "        assert (0 < self.length), \"The length before popping has to be greater than 0.\"\n",
      "        self.length -= 1\n",
      "        return self.ptr[self.length]\n",
      "\n",
      "    def unsafe_set_length(self,i):\n",
      "        assert 0 <= i <= len(self.ptr), \"The new length has to be in range.\"\n",
      "        self.length = i\n",
      "\n",
      "class dynamic_array(static_array): \n",
      "    pass\n",
      "\n",
      "class dynamic_array_list(static_array_list):\n",
      "    def length_(self): return self.length\n",
      "\n",
      "import cupy as cp\n",
      "from dataclasses import dataclass\n",
      "from typing import NamedTuple, Union, Callable, Tuple\n",
      "i8 = i16 = i32 = i64 = u8 = u16 = u32 = u64 = int; f32 = f64 = float; char = string = str\n",
      "\n",
      "def method1() -> i32:\n",
      "    return 3\n",
      "def method2(v0 : bool) -> bool:\n",
      "    return v0\n",
      "def method0() -> None:\n",
      "    v0 = method1()\n",
      "    v1 = 9 + v0\n",
      "    del v0\n",
      "    v2 = v1 + 2\n",
      "    del v1\n",
      "    v3 = v2 + 1\n",
      "    del v2\n",
      "    v4 = v3 == 15\n",
      "    if v4:\n",
      "        v6 = True\n",
      "    else:\n",
      "        v6 = method2(v4)\n",
      "    del v4\n",
      "    v13 = \"__assert_eq\"\n",
      "    v14 = f\"{v13} / actual: {v3} / expected: {15}\"\n",
      "    del v3, v13\n",
      "    print(v14)\n",
      "    v24 = v6 == False\n",
      "    del v6\n",
      "    if v24:\n",
      "        del v24\n",
      "        raise Exception(v14)\n",
      "    else:\n",
      "        del v14, v24\n",
      "        return \n",
      "def main():\n",
      "    return method0()\n",
      "\n",
      "if __name__ == '__main__': result = main(); None if result is None else print(result)\n",
      "\n",
      "\n",
      ".py:\n",
      "kernel = r\"\"\"\n",
      "\"\"\"\n",
      "class static_array():\n",
      "    def __init__(self, length):\n",
      "        self.ptr = []\n",
      "        for _ in range(length):\n",
      "            self.ptr.append(None)\n",
      "\n",
      "    def __getitem__(self, index):\n",
      "        assert 0 <= index < len(self.ptr), \"The get index needs to be in range.\"\n",
      "        return self.ptr[index]\n",
      "    \n",
      "    def __setitem__(self, index, value):\n",
      "        assert 0 <= index < len(self.ptr), \"The set index needs to be in range.\"\n",
      "        self.ptr[index] = value\n",
      "\n",
      "class static_array_list(static_array):\n",
      "    def __init__(self, length):\n",
      "        super().__init__(length)\n",
      "        self.length = 0\n",
      "\n",
      "    def __getitem__(self, index):\n",
      "        assert 0 <= index < self.length, \"The get index needs to be in range.\"\n",
      "        return self.ptr[index]\n",
      "    \n",
      "    def __setitem__(self, index, value):\n",
      "        assert 0 <= index < self.length, \"The set index needs to be in range.\"\n",
      "        self.ptr[index] = value\n",
      "\n",
      "    def push(self,value):\n",
      "        assert (self.length < len(self.ptr)), \"The length before pushing has to be less than the maximum length of the array.\"\n",
      "        self.ptr[self.length] = value\n",
      "        self.length += 1\n",
      "\n",
      "    def pop(self):\n",
      "        assert (0 < self.length), \"The length before popping has to be greater than 0.\"\n",
      "        self.length -= 1\n",
      "        return self.ptr[self.length]\n",
      "\n",
      "    def unsafe_set_length(self,i):\n",
      "        assert 0 <= i <= len(self.ptr), \"The new length has to be in range.\"\n",
      "        self.length = i\n",
      "\n",
      "class dynamic_array(static_array): \n",
      "    pass\n",
      "\n",
      "class dynamic_array_list(static_array_list):\n",
      "    def length_(self): return self.length\n",
      "\n",
      "import cupy as cp\n",
      "from dataclasses import dataclass\n",
      "from typing import NamedTuple, Union, Callable, Tuple\n",
      "i8 = i16 = i32 = i64 = u8 = u16 = u32 = u64 = int; f32 = f64 = float; char = string = str\n",
      "\n",
      "def method1() -> i32:\n",
      "    return 3\n",
      "def method2(v0 : bool) -> bool:\n",
      "    return v0\n",
      "def method0() -> None:\n",
      "    v0 = method1()\n",
      "    v1 = 9 + v0\n",
      "    del v0\n",
      "    v2 = v1 + 2\n",
      "    del v1\n",
      "    v3 = v2 + 1\n",
      "    del v2\n",
      "    v4 = v3 == 15\n",
      "    if v4:\n",
      "        v6 = True\n",
      "    else:\n",
      "        v6 = method2(v4)\n",
      "    del v4\n",
      "    v13 = \"__assert_eq\"\n",
      "    v14 = f\"{v13} / actual: {v3} / expected: {15}\"\n",
      "    del v3, v13\n",
      "    print(v14)\n",
      "    v24 = v6 == False\n",
      "    del v6\n",
      "    if v24:\n",
      "        del v24\n",
      "        raise Exception(v14)\n",
      "    else:\n",
      "        del v14, v24\n",
      "        return \n",
      "def main():\n",
      "    return method0()\n",
      "\n",
      "if __name__ == '__main__': result = main(); None if result is None else print(result)\n",
      "\n",
      ".fsx output:\n",
      "__assert_eq / actual: 15 / expected: 15\n"
     ]
    }
   ],
   "source": [
    "//// test\n",
    "///! fsharp\n",
    "///! cuda\n",
    "///! rust\n",
    "///! typescript\n",
    "///! python\n",
    "//// print_code=true\n",
    "\n",
    "[ 5i32; 4; join 3; 2; 1 ]\n",
    "|> fold_list (+) 0\n",
    "|> _assert_eq 15"
   ]
  },
  {
   "cell_type": "code",
   "execution_count": null,
   "metadata": {
    "dotnet_interactive": {
     "language": "spiral"
    },
    "polyglot_notebook": {
     "kernelName": "spiral"
    }
   },
   "outputs": [
    {
     "data": {
      "text/plain": [
       ".py output (Cuda):\n",
       "__assert_eq / actual: 15 / expected: 15\n",
       "\n",
       ".rs output:\n",
       "__assert_eq / actual: 15 / expected: 15\n",
       "\n",
       ".ts output:\n",
       "__assert_eq / actual: 15 / expected: 15\n",
       "\n",
       ".py output:\n",
       "__assert_eq / actual: 15 / expected: 15\n",
       "\n",
       "\n",
       "\n"
      ]
     },
     "metadata": {},
     "output_type": "display_data"
    },
    {
     "name": "stdout",
     "output_type": "stream",
     "text": [
      ".fsx:\n",
      "let rec method1 () : int32 =\n",
      "    3\n",
      "and method2 (v0 : int32, v1 : int32) : int32 =\n",
      "    let v2 : int32 = v1 + v0\n",
      "    v2\n",
      "and method3 (v0 : bool) : bool =\n",
      "    v0\n",
      "and method0 () : unit =\n",
      "    let v0 : int32 = method1()\n",
      "    let v1 : int32 = 9\n",
      "    let v2 : int32 = method2(v0, v1)\n",
      "    let v3 : int32 = v2 + 2\n",
      "    let v4 : int32 = v3 + 1\n",
      "    let v5 : bool = v4 = 15\n",
      "    let v7 : bool =\n",
      "        if v5 then\n",
      "            true\n",
      "        else\n",
      "            method3(v5)\n",
      "    let v10 : string = \"__assert_eq\"\n",
      "    let v11 : string = $\"{v10} / actual: %A{v4} / expected: %A{15}\"\n",
      "    v11 |> System.Console.WriteLine\n",
      "    let v24 : bool = v7 = false\n",
      "    if v24 then\n",
      "        failwith<unit> v11\n",
      "method0()\n",
      "\n",
      "\n",
      ".rs:\n",
      "#![allow(dead_code)]\n",
      "#![allow(non_camel_case_types)]\n",
      "#![allow(non_snake_case)]\n",
      "#![allow(non_upper_case_globals)]\n",
      "#![allow(unreachable_code)]\n",
      "#![allow(unused_attributes)]\n",
      "#![allow(unused_imports)]\n",
      "#![allow(unused_macros)]\n",
      "#![allow(unused_parens)]\n",
      "#![allow(unused_variables)]\n",
      "mod module_7e2cd9e0 {\n",
      "    pub mod Spiral_builder {\n",
      "        use super::*;\n",
      "        use fable_library_rust::Native_::on_startup;\n",
      "        use fable_library_rust::String_::printfn;\n",
      "        use fable_library_rust::String_::sprintf;\n",
      "        use fable_library_rust::String_::string;\n",
      "        pub fn method1() -> i32 {\n",
      "            3_i32\n",
      "        }\n",
      "        pub fn method2(v0: i32, v1: i32) -> i32 {\n",
      "            v1 + v0\n",
      "        }\n",
      "        pub fn method3(v0: bool) -> bool {\n",
      "            v0\n",
      "        }\n",
      "        pub fn method0() {\n",
      "            let v4: i32 = Spiral_builder::method2(Spiral_builder::method1(), 9_i32) + 2_i32 + 1_i32;\n",
      "            let v5: bool = v4 == 15_i32;\n",
      "            let v7: bool = if v5 {\n",
      "                true\n",
      "            } else {\n",
      "                Spiral_builder::method3(v5)\n",
      "            };\n",
      "            let v11: string = sprintf!(\n",
      "                \"{} / actual: {:?} / expected: {:?}\",\n",
      "                string(\"__assert_eq\"),\n",
      "                v4,\n",
      "                15_i32\n",
      "            );\n",
      "            printfn!(\"{0}\", v11.clone());\n",
      "            if v7 == false {\n",
      "                panic!(\"{}\", v11,);\n",
      "            }\n",
      "        }\n",
      "        on_startup!(Spiral_builder::method0());\n",
      "    }\n",
      "}\n",
      "pub use module_7e2cd9e0::*;\n",
      "\n",
      ".ts:\n",
      "import { int32 } from \"./fable_modules/fable-library-ts.4.19.3/Int32.js\";\n",
      "import { interpolate, toText } from \"./fable_modules/fable-library-ts.4.19.3/String.js\";\n",
      "\n",
      "export function method1(): int32 {\n",
      "    return 3;\n",
      "}\n",
      "\n",
      "export function method2(v0: int32, v1: int32): int32 {\n",
      "    return v1 + v0;\n",
      "}\n",
      "\n",
      "export function method3(v0: boolean): boolean {\n",
      "    return v0;\n",
      "}\n",
      "\n",
      "export function method0(): void {\n",
      "    const v4: int32 = ((method2(method1(), 9) + 2) + 1) | 0;\n",
      "    const v5: boolean = v4 === 15;\n",
      "    const v7: boolean = v5 ? true : method3(v5);\n",
      "    const v11: string = toText(interpolate(\"%P() / actual: %A%P() / expected: %A%P()\", [\"__assert_eq\", v4, 15]));\n",
      "    console.log(v11);\n",
      "    if (v7 === false) {\n",
      "        throw new Error(v11);\n",
      "    }\n",
      "}\n",
      "\n",
      "method0();\n",
      "\n",
      "\n",
      ".py:\n",
      "from fable_modules.fable_library.string_ import (to_text, interpolate)\n",
      "\n",
      "def method1(__unit: None=None) -> int:\n",
      "    return 3\n",
      "\n",
      "\n",
      "def method2(v0: int, v1: int) -> int:\n",
      "    return v1 + v0\n",
      "\n",
      "\n",
      "def method3(v0: bool) -> bool:\n",
      "    return v0\n",
      "\n",
      "\n",
      "def method0(__unit: None=None) -> None:\n",
      "    v4: int = ((method2(method1(), 9) + 2) + 1) or 0\n",
      "    v5: bool = v4 == 15\n",
      "    v7: bool = True if v5 else method3(v5)\n",
      "    v11: str = to_text(interpolate(\"%P() / actual: %A%P() / expected: %A%P()\", [\"__assert_eq\", v4, 15]))\n",
      "    print(v11)\n",
      "    if v7 == False:\n",
      "        raise Exception(v11)\n",
      "\n",
      "\n",
      "\n",
      "method0()\n",
      "\n",
      "\n",
      ".py:\n",
      "kernel = r\"\"\"\n",
      "\"\"\"\n",
      "class static_array():\n",
      "    def __init__(self, length):\n",
      "        self.ptr = []\n",
      "        for _ in range(length):\n",
      "            self.ptr.append(None)\n",
      "\n",
      "    def __getitem__(self, index):\n",
      "        assert 0 <= index < len(self.ptr), \"The get index needs to be in range.\"\n",
      "        return self.ptr[index]\n",
      "    \n",
      "    def __setitem__(self, index, value):\n",
      "        assert 0 <= index < len(self.ptr), \"The set index needs to be in range.\"\n",
      "        self.ptr[index] = value\n",
      "\n",
      "class static_array_list(static_array):\n",
      "    def __init__(self, length):\n",
      "        super().__init__(length)\n",
      "        self.length = 0\n",
      "\n",
      "    def __getitem__(self, index):\n",
      "        assert 0 <= index < self.length, \"The get index needs to be in range.\"\n",
      "        return self.ptr[index]\n",
      "    \n",
      "    def __setitem__(self, index, value):\n",
      "        assert 0 <= index < self.length, \"The set index needs to be in range.\"\n",
      "        self.ptr[index] = value\n",
      "\n",
      "    def push(self,value):\n",
      "        assert (self.length < len(self.ptr)), \"The length before pushing has to be less than the maximum length of the array.\"\n",
      "        self.ptr[self.length] = value\n",
      "        self.length += 1\n",
      "\n",
      "    def pop(self):\n",
      "        assert (0 < self.length), \"The length before popping has to be greater than 0.\"\n",
      "        self.length -= 1\n",
      "        return self.ptr[self.length]\n",
      "\n",
      "    def unsafe_set_length(self,i):\n",
      "        assert 0 <= i <= len(self.ptr), \"The new length has to be in range.\"\n",
      "        self.length = i\n",
      "\n",
      "class dynamic_array(static_array): \n",
      "    pass\n",
      "\n",
      "class dynamic_array_list(static_array_list):\n",
      "    def length_(self): return self.length\n",
      "\n",
      "import cupy as cp\n",
      "from dataclasses import dataclass\n",
      "from typing import NamedTuple, Union, Callable, Tuple\n",
      "i8 = i16 = i32 = i64 = u8 = u16 = u32 = u64 = int; f32 = f64 = float; char = string = str\n",
      "\n",
      "def method1() -> i32:\n",
      "    return 3\n",
      "def method2(v0 : i32, v1 : i32) -> i32:\n",
      "    v2 = v1 + v0\n",
      "    del v0, v1\n",
      "    return v2\n",
      "def method3(v0 : bool) -> bool:\n",
      "    return v0\n",
      "def method0() -> None:\n",
      "    v0 = method1()\n",
      "    v1 = 9\n",
      "    v2 = method2(v0, v1)\n",
      "    del v0, v1\n",
      "    v3 = v2 + 2\n",
      "    del v2\n",
      "    v4 = v3 + 1\n",
      "    del v3\n",
      "    v5 = v4 == 15\n",
      "    if v5:\n",
      "        v7 = True\n",
      "    else:\n",
      "        v7 = method3(v5)\n",
      "    del v5\n",
      "    v14 = \"__assert_eq\"\n",
      "    v15 = f\"{v14} / actual: {v4} / expected: {15}\"\n",
      "    del v4, v14\n",
      "    print(v15)\n",
      "    v25 = v7 == False\n",
      "    del v7\n",
      "    if v25:\n",
      "        del v25\n",
      "        raise Exception(v15)\n",
      "    else:\n",
      "        del v15, v25\n",
      "        return \n",
      "def main():\n",
      "    return method0()\n",
      "\n",
      "if __name__ == '__main__': result = main(); None if result is None else print(result)\n",
      "\n",
      "\n",
      ".py:\n",
      "kernel = r\"\"\"\n",
      "\"\"\"\n",
      "class static_array():\n",
      "    def __init__(self, length):\n",
      "        self.ptr = []\n",
      "        for _ in range(length):\n",
      "            self.ptr.append(None)\n",
      "\n",
      "    def __getitem__(self, index):\n",
      "        assert 0 <= index < len(self.ptr), \"The get index needs to be in range.\"\n",
      "        return self.ptr[index]\n",
      "    \n",
      "    def __setitem__(self, index, value):\n",
      "        assert 0 <= index < len(self.ptr), \"The set index needs to be in range.\"\n",
      "        self.ptr[index] = value\n",
      "\n",
      "class static_array_list(static_array):\n",
      "    def __init__(self, length):\n",
      "        super().__init__(length)\n",
      "        self.length = 0\n",
      "\n",
      "    def __getitem__(self, index):\n",
      "        assert 0 <= index < self.length, \"The get index needs to be in range.\"\n",
      "        return self.ptr[index]\n",
      "    \n",
      "    def __setitem__(self, index, value):\n",
      "        assert 0 <= index < self.length, \"The set index needs to be in range.\"\n",
      "        self.ptr[index] = value\n",
      "\n",
      "    def push(self,value):\n",
      "        assert (self.length < len(self.ptr)), \"The length before pushing has to be less than the maximum length of the array.\"\n",
      "        self.ptr[self.length] = value\n",
      "        self.length += 1\n",
      "\n",
      "    def pop(self):\n",
      "        assert (0 < self.length), \"The length before popping has to be greater than 0.\"\n",
      "        self.length -= 1\n",
      "        return self.ptr[self.length]\n",
      "\n",
      "    def unsafe_set_length(self,i):\n",
      "        assert 0 <= i <= len(self.ptr), \"The new length has to be in range.\"\n",
      "        self.length = i\n",
      "\n",
      "class dynamic_array(static_array): \n",
      "    pass\n",
      "\n",
      "class dynamic_array_list(static_array_list):\n",
      "    def length_(self): return self.length\n",
      "\n",
      "import cupy as cp\n",
      "from dataclasses import dataclass\n",
      "from typing import NamedTuple, Union, Callable, Tuple\n",
      "i8 = i16 = i32 = i64 = u8 = u16 = u32 = u64 = int; f32 = f64 = float; char = string = str\n",
      "\n",
      "def method1() -> i32:\n",
      "    return 3\n",
      "def method2(v0 : i32, v1 : i32) -> i32:\n",
      "    v2 = v1 + v0\n",
      "    del v0, v1\n",
      "    return v2\n",
      "def method3(v0 : bool) -> bool:\n",
      "    return v0\n",
      "def method0() -> None:\n",
      "    v0 = method1()\n",
      "    v1 = 9\n",
      "    v2 = method2(v0, v1)\n",
      "    del v0, v1\n",
      "    v3 = v2 + 2\n",
      "    del v2\n",
      "    v4 = v3 + 1\n",
      "    del v3\n",
      "    v5 = v4 == 15\n",
      "    if v5:\n",
      "        v7 = True\n",
      "    else:\n",
      "        v7 = method3(v5)\n",
      "    del v5\n",
      "    v14 = \"__assert_eq\"\n",
      "    v15 = f\"{v14} / actual: {v4} / expected: {15}\"\n",
      "    del v4, v14\n",
      "    print(v15)\n",
      "    v25 = v7 == False\n",
      "    del v7\n",
      "    if v25:\n",
      "        del v25\n",
      "        raise Exception(v15)\n",
      "    else:\n",
      "        del v15, v25\n",
      "        return \n",
      "def main():\n",
      "    return method0()\n",
      "\n",
      "if __name__ == '__main__': result = main(); None if result is None else print(result)\n",
      "\n",
      ".fsx output:\n",
      "__assert_eq / actual: 15 / expected: 15\n"
     ]
    }
   ],
   "source": [
    "//// test\n",
    "///! fsharp\n",
    "///! cuda\n",
    "///! rust\n",
    "///! typescript\n",
    "///! python\n",
    "//// print_code=true\n",
    "\n",
    "[ 5i32; 4; join 3; 2; 1 ]\n",
    "|> fold_list (join_body (+)) 0\n",
    "|> _assert_eq 15"
   ]
  },
  {
   "cell_type": "markdown",
   "metadata": {},
   "source": [
    "### join_body_unit"
   ]
  },
  {
   "cell_type": "code",
   "execution_count": null,
   "metadata": {
    "dotnet_interactive": {
     "language": "spiral"
    },
    "polyglot_notebook": {
     "kernelName": "spiral"
    }
   },
   "outputs": [],
   "source": [
    "inl join_body_unit body d x =\n",
    "    if var_is d |> not\n",
    "    then body x\n",
    "    else\n",
    "        inl x = dyn x\n",
    "        join body x"
   ]
  },
  {
   "cell_type": "code",
   "execution_count": null,
   "metadata": {
    "dotnet_interactive": {
     "language": "spiral"
    },
    "polyglot_notebook": {
     "kernelName": "spiral"
    }
   },
   "outputs": [
    {
     "data": {
      "text/plain": [
       ".py output (Cuda):\n",
       "__assert_eq / actual: 15 / expected: 15\n",
       "\n",
       ".rs output:\n",
       "__assert_eq / actual: 15 / expected: 15\n",
       "\n",
       ".ts output:\n",
       "__assert_eq / actual: 15 / expected: 15\n",
       "\n",
       ".py output:\n",
       "__assert_eq / actual: 15 / expected: 15\n",
       "\n",
       "\n",
       "\n"
      ]
     },
     "metadata": {},
     "output_type": "display_data"
    },
    {
     "name": "stdout",
     "output_type": "stream",
     "text": [
      ".fsx:\n",
      "let rec method1 () : int32 =\n",
      "    3\n",
      "and method2 (v0 : int32) : int32 =\n",
      "    let v1 : int32 = 9 + v0\n",
      "    v1\n",
      "and method3 (v0 : bool) : bool =\n",
      "    v0\n",
      "and method0 () : unit =\n",
      "    let v0 : int32 = method1()\n",
      "    let v1 : int32 = method2(v0)\n",
      "    let v2 : int32 = v1 + 2\n",
      "    let v3 : int32 = v2 + 1\n",
      "    let v4 : bool = v3 = 15\n",
      "    let v6 : bool =\n",
      "        if v4 then\n",
      "            true\n",
      "        else\n",
      "            method3(v4)\n",
      "    let v9 : string = \"__assert_eq\"\n",
      "    let v10 : string = $\"{v9} / actual: %A{v3} / expected: %A{15}\"\n",
      "    v10 |> System.Console.WriteLine\n",
      "    let v23 : bool = v6 = false\n",
      "    if v23 then\n",
      "        failwith<unit> v10\n",
      "method0()\n",
      "\n",
      "\n",
      ".rs:\n",
      "#![allow(dead_code)]\n",
      "#![allow(non_camel_case_types)]\n",
      "#![allow(non_snake_case)]\n",
      "#![allow(non_upper_case_globals)]\n",
      "#![allow(unreachable_code)]\n",
      "#![allow(unused_attributes)]\n",
      "#![allow(unused_imports)]\n",
      "#![allow(unused_macros)]\n",
      "#![allow(unused_parens)]\n",
      "#![allow(unused_variables)]\n",
      "mod module_7e2cd9e0 {\n",
      "    pub mod Spiral_builder {\n",
      "        use super::*;\n",
      "        use fable_library_rust::Native_::on_startup;\n",
      "        use fable_library_rust::String_::printfn;\n",
      "        use fable_library_rust::String_::sprintf;\n",
      "        use fable_library_rust::String_::string;\n",
      "        pub fn method1() -> i32 {\n",
      "            3_i32\n",
      "        }\n",
      "        pub fn method2(v0: i32) -> i32 {\n",
      "            9_i32 + v0\n",
      "        }\n",
      "        pub fn method3(v0: bool) -> bool {\n",
      "            v0\n",
      "        }\n",
      "        pub fn method0() {\n",
      "            let v3: i32 = Spiral_builder::method2(Spiral_builder::method1()) + 2_i32 + 1_i32;\n",
      "            let v4: bool = v3 == 15_i32;\n",
      "            let v6: bool = if v4 {\n",
      "                true\n",
      "            } else {\n",
      "                Spiral_builder::method3(v4)\n",
      "            };\n",
      "            let v10: string = sprintf!(\n",
      "                \"{} / actual: {:?} / expected: {:?}\",\n",
      "                string(\"__assert_eq\"),\n",
      "                v3,\n",
      "                15_i32\n",
      "            );\n",
      "            printfn!(\"{0}\", v10.clone());\n",
      "            if v6 == false {\n",
      "                panic!(\"{}\", v10,);\n",
      "            }\n",
      "        }\n",
      "        on_startup!(Spiral_builder::method0());\n",
      "    }\n",
      "}\n",
      "pub use module_7e2cd9e0::*;\n",
      "\n",
      ".ts:\n",
      "import { int32 } from \"./fable_modules/fable-library-ts.4.19.3/Int32.js\";\n",
      "import { interpolate, toText } from \"./fable_modules/fable-library-ts.4.19.3/String.js\";\n",
      "\n",
      "export function method1(): int32 {\n",
      "    return 3;\n",
      "}\n",
      "\n",
      "export function method2(v0: int32): int32 {\n",
      "    return 9 + v0;\n",
      "}\n",
      "\n",
      "export function method3(v0: boolean): boolean {\n",
      "    return v0;\n",
      "}\n",
      "\n",
      "export function method0(): void {\n",
      "    const v3: int32 = ((method2(method1()) + 2) + 1) | 0;\n",
      "    const v4: boolean = v3 === 15;\n",
      "    const v6: boolean = v4 ? true : method3(v4);\n",
      "    const v10: string = toText(interpolate(\"%P() / actual: %A%P() / expected: %A%P()\", [\"__assert_eq\", v3, 15]));\n",
      "    console.log(v10);\n",
      "    if (v6 === false) {\n",
      "        throw new Error(v10);\n",
      "    }\n",
      "}\n",
      "\n",
      "method0();\n",
      "\n",
      "\n",
      ".py:\n",
      "from fable_modules.fable_library.string_ import (to_text, interpolate)\n",
      "\n",
      "def method1(__unit: None=None) -> int:\n",
      "    return 3\n",
      "\n",
      "\n",
      "def method2(v0: int) -> int:\n",
      "    return 9 + v0\n",
      "\n",
      "\n",
      "def method3(v0: bool) -> bool:\n",
      "    return v0\n",
      "\n",
      "\n",
      "def method0(__unit: None=None) -> None:\n",
      "    v3: int = ((method2(method1()) + 2) + 1) or 0\n",
      "    v4: bool = v3 == 15\n",
      "    v6: bool = True if v4 else method3(v4)\n",
      "    v10: str = to_text(interpolate(\"%P() / actual: %A%P() / expected: %A%P()\", [\"__assert_eq\", v3, 15]))\n",
      "    print(v10)\n",
      "    if v6 == False:\n",
      "        raise Exception(v10)\n",
      "\n",
      "\n",
      "\n",
      "method0()\n",
      "\n",
      "\n",
      ".py:\n",
      "kernel = r\"\"\"\n",
      "\"\"\"\n",
      "class static_array():\n",
      "    def __init__(self, length):\n",
      "        self.ptr = []\n",
      "        for _ in range(length):\n",
      "            self.ptr.append(None)\n",
      "\n",
      "    def __getitem__(self, index):\n",
      "        assert 0 <= index < len(self.ptr), \"The get index needs to be in range.\"\n",
      "        return self.ptr[index]\n",
      "    \n",
      "    def __setitem__(self, index, value):\n",
      "        assert 0 <= index < len(self.ptr), \"The set index needs to be in range.\"\n",
      "        self.ptr[index] = value\n",
      "\n",
      "class static_array_list(static_array):\n",
      "    def __init__(self, length):\n",
      "        super().__init__(length)\n",
      "        self.length = 0\n",
      "\n",
      "    def __getitem__(self, index):\n",
      "        assert 0 <= index < self.length, \"The get index needs to be in range.\"\n",
      "        return self.ptr[index]\n",
      "    \n",
      "    def __setitem__(self, index, value):\n",
      "        assert 0 <= index < self.length, \"The set index needs to be in range.\"\n",
      "        self.ptr[index] = value\n",
      "\n",
      "    def push(self,value):\n",
      "        assert (self.length < len(self.ptr)), \"The length before pushing has to be less than the maximum length of the array.\"\n",
      "        self.ptr[self.length] = value\n",
      "        self.length += 1\n",
      "\n",
      "    def pop(self):\n",
      "        assert (0 < self.length), \"The length before popping has to be greater than 0.\"\n",
      "        self.length -= 1\n",
      "        return self.ptr[self.length]\n",
      "\n",
      "    def unsafe_set_length(self,i):\n",
      "        assert 0 <= i <= len(self.ptr), \"The new length has to be in range.\"\n",
      "        self.length = i\n",
      "\n",
      "class dynamic_array(static_array): \n",
      "    pass\n",
      "\n",
      "class dynamic_array_list(static_array_list):\n",
      "    def length_(self): return self.length\n",
      "\n",
      "import cupy as cp\n",
      "from dataclasses import dataclass\n",
      "from typing import NamedTuple, Union, Callable, Tuple\n",
      "i8 = i16 = i32 = i64 = u8 = u16 = u32 = u64 = int; f32 = f64 = float; char = string = str\n",
      "\n",
      "def method1() -> i32:\n",
      "    return 3\n",
      "def method2(v0 : i32) -> i32:\n",
      "    v1 = 9 + v0\n",
      "    del v0\n",
      "    return v1\n",
      "def method3(v0 : bool) -> bool:\n",
      "    return v0\n",
      "def method0() -> None:\n",
      "    v0 = method1()\n",
      "    v1 = method2(v0)\n",
      "    del v0\n",
      "    v2 = v1 + 2\n",
      "    del v1\n",
      "    v3 = v2 + 1\n",
      "    del v2\n",
      "    v4 = v3 == 15\n",
      "    if v4:\n",
      "        v6 = True\n",
      "    else:\n",
      "        v6 = method3(v4)\n",
      "    del v4\n",
      "    v13 = \"__assert_eq\"\n",
      "    v14 = f\"{v13} / actual: {v3} / expected: {15}\"\n",
      "    del v3, v13\n",
      "    print(v14)\n",
      "    v24 = v6 == False\n",
      "    del v6\n",
      "    if v24:\n",
      "        del v24\n",
      "        raise Exception(v14)\n",
      "    else:\n",
      "        del v14, v24\n",
      "        return \n",
      "def main():\n",
      "    return method0()\n",
      "\n",
      "if __name__ == '__main__': result = main(); None if result is None else print(result)\n",
      "\n",
      "\n",
      ".py:\n",
      "kernel = r\"\"\"\n",
      "\"\"\"\n",
      "class static_array():\n",
      "    def __init__(self, length):\n",
      "        self.ptr = []\n",
      "        for _ in range(length):\n",
      "            self.ptr.append(None)\n",
      "\n",
      "    def __getitem__(self, index):\n",
      "        assert 0 <= index < len(self.ptr), \"The get index needs to be in range.\"\n",
      "        return self.ptr[index]\n",
      "    \n",
      "    def __setitem__(self, index, value):\n",
      "        assert 0 <= index < len(self.ptr), \"The set index needs to be in range.\"\n",
      "        self.ptr[index] = value\n",
      "\n",
      "class static_array_list(static_array):\n",
      "    def __init__(self, length):\n",
      "        super().__init__(length)\n",
      "        self.length = 0\n",
      "\n",
      "    def __getitem__(self, index):\n",
      "        assert 0 <= index < self.length, \"The get index needs to be in range.\"\n",
      "        return self.ptr[index]\n",
      "    \n",
      "    def __setitem__(self, index, value):\n",
      "        assert 0 <= index < self.length, \"The set index needs to be in range.\"\n",
      "        self.ptr[index] = value\n",
      "\n",
      "    def push(self,value):\n",
      "        assert (self.length < len(self.ptr)), \"The length before pushing has to be less than the maximum length of the array.\"\n",
      "        self.ptr[self.length] = value\n",
      "        self.length += 1\n",
      "\n",
      "    def pop(self):\n",
      "        assert (0 < self.length), \"The length before popping has to be greater than 0.\"\n",
      "        self.length -= 1\n",
      "        return self.ptr[self.length]\n",
      "\n",
      "    def unsafe_set_length(self,i):\n",
      "        assert 0 <= i <= len(self.ptr), \"The new length has to be in range.\"\n",
      "        self.length = i\n",
      "\n",
      "class dynamic_array(static_array): \n",
      "    pass\n",
      "\n",
      "class dynamic_array_list(static_array_list):\n",
      "    def length_(self): return self.length\n",
      "\n",
      "import cupy as cp\n",
      "from dataclasses import dataclass\n",
      "from typing import NamedTuple, Union, Callable, Tuple\n",
      "i8 = i16 = i32 = i64 = u8 = u16 = u32 = u64 = int; f32 = f64 = float; char = string = str\n",
      "\n",
      "def method1() -> i32:\n",
      "    return 3\n",
      "def method2(v0 : i32) -> i32:\n",
      "    v1 = 9 + v0\n",
      "    del v0\n",
      "    return v1\n",
      "def method3(v0 : bool) -> bool:\n",
      "    return v0\n",
      "def method0() -> None:\n",
      "    v0 = method1()\n",
      "    v1 = method2(v0)\n",
      "    del v0\n",
      "    v2 = v1 + 2\n",
      "    del v1\n",
      "    v3 = v2 + 1\n",
      "    del v2\n",
      "    v4 = v3 == 15\n",
      "    if v4:\n",
      "        v6 = True\n",
      "    else:\n",
      "        v6 = method3(v4)\n",
      "    del v4\n",
      "    v13 = \"__assert_eq\"\n",
      "    v14 = f\"{v13} / actual: {v3} / expected: {15}\"\n",
      "    del v3, v13\n",
      "    print(v14)\n",
      "    v24 = v6 == False\n",
      "    del v6\n",
      "    if v24:\n",
      "        del v24\n",
      "        raise Exception(v14)\n",
      "    else:\n",
      "        del v14, v24\n",
      "        return \n",
      "def main():\n",
      "    return method0()\n",
      "\n",
      "if __name__ == '__main__': result = main(); None if result is None else print(result)\n",
      "\n",
      ".fsx output:\n",
      "__assert_eq / actual: 15 / expected: 15\n"
     ]
    }
   ],
   "source": [
    "//// test\n",
    "///! fsharp\n",
    "///! cuda\n",
    "///! rust\n",
    "///! typescript\n",
    "///! python\n",
    "//// print_code=true\n",
    "\n",
    "[ 5i32; 4; join 3; 2; 1 ]\n",
    "|> fold_list (fun acc n => join_body_unit ((+) acc) n n) 0\n",
    "|> _assert_eq 15"
   ]
  },
  {
   "cell_type": "markdown",
   "metadata": {},
   "source": [
    "### retry_fn'"
   ]
  },
  {
   "cell_type": "code",
   "execution_count": null,
   "metadata": {
    "dotnet_interactive": {
     "language": "spiral"
    },
    "polyglot_notebook": {
     "kernelName": "spiral"
    }
   },
   "outputs": [],
   "source": [
    "inl retry_fn' retries fn =\n",
    "    let rec loop retry =\n",
    "        inl is_error, result =\n",
    "            match fn () with\n",
    "            | Ok x => false, x\n",
    "            | Error x => true, x\n",
    "        if not is_error || retry >= retries\n",
    "        then result\n",
    "        else\n",
    "            trace Debug\n",
    "                fun () => $'\"common.retry_fn\\' / loop\"'\n",
    "                fun () => { is_error retry = $'$\"{!retry}/{!retries}\"' : string; result }\n",
    "            loop (retry + 1)\n",
    "    loop 1"
   ]
  },
  {
   "cell_type": "markdown",
   "metadata": {},
   "source": [
    "## fsharp"
   ]
  },
  {
   "cell_type": "markdown",
   "metadata": {},
   "source": [
    "### upcast"
   ]
  },
  {
   "cell_type": "code",
   "execution_count": null,
   "metadata": {
    "dotnet_interactive": {
     "language": "spiral"
    },
    "polyglot_notebook": {
     "kernelName": "spiral"
    }
   },
   "outputs": [],
   "source": [
    "inl upcast forall t u. (x : t) : u =\n",
    "    $'!x :> `u '"
   ]
  },
  {
   "cell_type": "markdown",
   "metadata": {},
   "source": [
    "### downcast"
   ]
  },
  {
   "cell_type": "code",
   "execution_count": null,
   "metadata": {
    "dotnet_interactive": {
     "language": "spiral"
    },
    "polyglot_notebook": {
     "kernelName": "spiral"
    }
   },
   "outputs": [],
   "source": [
    "inl downcast forall t u. (x : t) : u =\n",
    "    $'!x :?> `u '"
   ]
  },
  {
   "cell_type": "markdown",
   "metadata": {},
   "source": [
    "### random"
   ]
  },
  {
   "cell_type": "code",
   "execution_count": null,
   "metadata": {
    "dotnet_interactive": {
     "language": "spiral"
    },
    "polyglot_notebook": {
     "kernelName": "spiral"
    }
   },
   "outputs": [],
   "source": [
    "nominal random = $'System.Random'\n",
    "\n",
    "inl random () : random =\n",
    "    $'`random ' ()"
   ]
  },
  {
   "cell_type": "markdown",
   "metadata": {},
   "source": [
    "### random_next"
   ]
  },
  {
   "cell_type": "code",
   "execution_count": null,
   "metadata": {
    "dotnet_interactive": {
     "language": "spiral"
    },
    "polyglot_notebook": {
     "kernelName": "spiral"
    }
   },
   "outputs": [],
   "source": [
    "inl random_next (min : i32) (max : i32) (random : random) : i32 =\n",
    "    $'!random.Next (!min, !max)'"
   ]
  },
  {
   "cell_type": "markdown",
   "metadata": {},
   "source": [
    "### disposable"
   ]
  },
  {
   "cell_type": "code",
   "execution_count": null,
   "metadata": {
    "dotnet_interactive": {
     "language": "spiral"
    },
    "polyglot_notebook": {
     "kernelName": "spiral"
    }
   },
   "outputs": [],
   "source": [
    "nominal disposable t = $\"backend_switch `({ Fsharp : $'System.IDisposable'; Python : $'object' })\""
   ]
  },
  {
   "cell_type": "markdown",
   "metadata": {},
   "source": [
    "### dispose"
   ]
  },
  {
   "cell_type": "code",
   "execution_count": null,
   "metadata": {
    "dotnet_interactive": {
     "language": "spiral"
    },
    "polyglot_notebook": {
     "kernelName": "spiral"
    }
   },
   "outputs": [],
   "source": [
    "inl dispose (disposable : disposable _) : () =\n",
    "    backend_switch {\n",
    "        Fsharp = fun () => disposable |> $'_.Dispose()' : ()\n",
    "        Python = fun () => $'!disposable.__exit__(None, None, None)' : ()\n",
    "    }"
   ]
  },
  {
   "cell_type": "markdown",
   "metadata": {},
   "source": [
    "### return"
   ]
  },
  {
   "cell_type": "code",
   "execution_count": null,
   "metadata": {
    "dotnet_interactive": {
     "language": "spiral"
    },
    "polyglot_notebook": {
     "kernelName": "spiral"
    }
   },
   "outputs": [],
   "source": [
    "inl return forall t. (x : t) : () =\n",
    "    $'return !x '\n",
    "\n",
    "inl return' forall t. (x : t) : t =\n",
    "    $'return !x '"
   ]
  },
  {
   "cell_type": "markdown",
   "metadata": {},
   "source": [
    "### retry_fn"
   ]
  },
  {
   "cell_type": "code",
   "execution_count": null,
   "metadata": {
    "dotnet_interactive": {
     "language": "spiral"
    },
    "polyglot_notebook": {
     "kernelName": "spiral"
    }
   },
   "outputs": [],
   "source": [
    "inl retry_fn forall t. retries (fn : () -> t) : option t =\n",
    "    let rec loop retry =\n",
    "        try\n",
    "            fun () =>\n",
    "                if retry < retries\n",
    "                then fn () |> Some\n",
    "                else None\n",
    "            fun ex =>\n",
    "                trace Warning\n",
    "                    fun () => \"common.retry_fn\"\n",
    "                    fun () => { retry ex }\n",
    "                None\n",
    "        |> function\n",
    "            | Some x => x\n",
    "            | None => loop (retry + 1)\n",
    "    loop 0"
   ]
  },
  {
   "cell_type": "code",
   "execution_count": null,
   "metadata": {
    "dotnet_interactive": {
     "language": "spiral"
    },
    "polyglot_notebook": {
     "kernelName": "spiral"
    }
   },
   "outputs": [
    {
     "data": {
      "text/plain": [
       ".rs output:\n",
       "__assert_eq' / actual: US0_0(1) / expected: US0_0(1)\n",
       "\n",
       ".ts output:\n",
       "__assert_eq' / actual: US0_0 1 / expected: US0_0 1\n",
       "\n",
       ".py output:\n",
       "__assert_eq' / actual: US0_0 1 / expected: US0_0 1\n",
       "\n"
      ]
     },
     "metadata": {},
     "output_type": "display_data"
    },
    {
     "name": "stdout",
     "output_type": "stream",
     "text": [
      ".fsx output:\n",
      "__assert_eq' / actual: US0_0 1 / expected: US0_0 1\n"
     ]
    }
   ],
   "source": [
    "//// test\n",
    "///! fsharp\n",
    "////! cuda // v3 = $\"retry: {v0} / ex: %A{v1} / {v2 ()}\"\n",
    "///! rust\n",
    "///! typescript\n",
    "///! python\n",
    "\n",
    "inl retry_fn_test = mut 0i32\n",
    "fun () =>\n",
    "    retry_fn_test <- *retry_fn_test + 1\n",
    "    *retry_fn_test\n",
    "|> retry_fn 3i32\n",
    "|> _assert_eq' (Some 1i32)"
   ]
  },
  {
   "cell_type": "code",
   "execution_count": null,
   "metadata": {
    "dotnet_interactive": {
     "language": "spiral"
    },
    "polyglot_notebook": {
     "kernelName": "spiral"
    }
   },
   "outputs": [
    {
     "data": {
      "text/plain": [
       "\n",
       ".rs output:\n",
       "00:00:00 \u001B[33mwarning\u001B[39m #1 common.retry_fn / { retry = 0; ex = Exception { message: \"test\" } }\n",
       "00:00:00 \u001B[33mwarning\u001B[39m #2 common.retry_fn / { retry = 1; ex = Exception { message: \"test\" } }\n",
       "__assert_eq' / actual: US0_0(2) / expected: US0_0(2)\n",
       "\n",
       "\n",
       ".ts output:\n",
       "00:00:00 \u001B[93mwarning\u001B[0m #1 common.retry_fn / { retry = 0; ex = Error: test }\n",
       "00:00:00 \u001B[93mwarning\u001B[0m #2 common.retry_fn / { retry = 1; ex = Error: test }\n",
       "__assert_eq' / actual: US0_0 2 / expected: US0_0 2\n",
       "\n",
       "\n",
       ".py output:\n",
       "00:00:00 \u001B[93mwarning\u001B[0m #1 common.retry_fn / { retry = 0; ex = test }\n",
       "00:00:00 \u001B[93mwarning\u001B[0m #2 common.retry_fn / { retry = 1; ex = test }\n",
       "__assert_eq' / actual: US0_0 2 / expected: US0_0 2\n",
       "\n",
       "\n"
      ]
     },
     "metadata": {},
     "output_type": "display_data"
    },
    {
     "name": "stdout",
     "output_type": "stream",
     "text": [
      ".fsx output:\n",
      "00:00:00 \u001B[93mwarning\u001B[0m #1 common.retry_fn / { retry = 0; ex = System.Exception: test\n",
      "   at FSI_0031.closure1(Mut0 v0, Int32 v1, Unit unitVar2)\n",
      "   at FSI_0031.method1(Mut0 v0, Int32 v1) }\n",
      "00:00:00 \u001B[93mwarning\u001B[0m #2 common.retry_fn / { retry = 1; ex = System.Exception: test\n",
      "   at FSI_0031.closure1(Mut0 v0, Int32 v1, Unit unitVar2)\n",
      "   at FSI_0031.method1(Mut0 v0, Int32 v1) }\n",
      "__assert_eq' / actual: US0_0 2 / expected: US0_0 2\n"
     ]
    }
   ],
   "source": [
    "//// test\n",
    "///! fsharp\n",
    "////! cuda // v3 = $\"retry: {v0} / ex: %A{v1} / {v2 ()}\"\n",
    "///! rust\n",
    "///! typescript\n",
    "///! python\n",
    "\n",
    "inl retry_fn_test = mut 0i32\n",
    "fun () =>\n",
    "    if *retry_fn_test >= 2\n",
    "    then *retry_fn_test\n",
    "    else\n",
    "        retry_fn_test <- *retry_fn_test + 1\n",
    "        failwith \"test\"\n",
    "|> retry_fn 3i32\n",
    "|> _assert_eq' (Some 2i32)"
   ]
  },
  {
   "cell_type": "markdown",
   "metadata": {},
   "source": [
    "## common"
   ]
  },
  {
   "cell_type": "markdown",
   "metadata": {},
   "source": [
    "### random'"
   ]
  },
  {
   "cell_type": "code",
   "execution_count": null,
   "metadata": {
    "dotnet_interactive": {
     "language": "spiral"
    },
    "polyglot_notebook": {
     "kernelName": "spiral"
    }
   },
   "outputs": [],
   "source": [
    "inl random' forall t. (min : t) (max : t) : t =\n",
    "    run_target function\n",
    "        | Rust (Contract) => fun () =>\n",
    "            failwith \"common.random' / target=Rust(Contract)\"\n",
    "        | Rust _ => fun () =>\n",
    "            open rust.rust_operators\n",
    "            !\\\\((min, max), $'\"rand::Rng::gen_range(&mut rand::thread_rng(), $0..$1)\"')\n",
    "        | _ => fun () =>\n",
    "            random () |> random_next (i32 min) (i32 max) |> convert"
   ]
  },
  {
   "cell_type": "markdown",
   "metadata": {},
   "source": [
    "### new_disposable"
   ]
  },
  {
   "cell_type": "code",
   "execution_count": null,
   "metadata": {
    "dotnet_interactive": {
     "language": "spiral"
    },
    "polyglot_notebook": {
     "kernelName": "spiral"
    }
   },
   "outputs": [],
   "source": [
    "inl new_disposable (fn : () -> ()) : disposable _ =\n",
    "    run_target function\n",
    "        | Rust _ => fun () =>\n",
    "            global \"type Disposable (f : unit -> unit) = interface System.IDisposable with member _.Dispose () = f ()\"\n",
    "            inl fn = join fn\n",
    "            $'new Disposable (fun () -> Fable.Core.RustInterop.emitRustExpr !fn \"$0()\" )'\n",
    "        | Fsharp _ | TypeScript _ | Python _ => fun () =>\n",
    "            inl fn = join fn\n",
    "            $'{ new System.IDisposable with member _.Dispose () = !fn () }'\n",
    "        | Cuda _ => fun () =>\n",
    "            $'class Disposable:'\n",
    "            $'    def __init__(self, fn):'\n",
    "            $'        self.fn = fn'\n",
    "            $'    def __exit__(self, exc_type, exc_value, traceback):'\n",
    "            $'        self.fn()'\n",
    "            $'        return False'\n",
    "            $'Disposable(!fn)'\n",
    "        | _ => fun () => null ()"
   ]
  },
  {
   "cell_type": "code",
   "execution_count": null,
   "metadata": {
    "dotnet_interactive": {
     "language": "spiral"
    },
    "polyglot_notebook": {
     "kernelName": "spiral"
    }
   },
   "outputs": [
    {
     "data": {
      "text/plain": [
       ".py output (Cuda):\n",
       "__assert_eq / actual: 1 / expected: 1\n",
       "\n",
       ".rs output:\n",
       "__assert_eq / actual: 1 / expected: 1\n",
       "\n",
       ".ts output:\n",
       "__assert_eq / actual: 1 / expected: 1\n",
       "\n",
       ".py output:\n",
       "__assert_eq / actual: 1 / expected: 1\n",
       "\n"
      ]
     },
     "metadata": {},
     "output_type": "display_data"
    },
    {
     "name": "stdout",
     "output_type": "stream",
     "text": [
      ".fsx output:\n",
      "__assert_eq / actual: 1 / expected: 1\n"
     ]
    }
   ],
   "source": [
    "//// test\n",
    "///! fsharp\n",
    "///! cuda\n",
    "///! rust\n",
    "///! typescript\n",
    "///! python\n",
    "\n",
    "inl new_disposable_test = mut 0i32\n",
    "new_disposable fun () => new_disposable_test <- *new_disposable_test + 1\n",
    "|> fun x => x : disposable ()\n",
    "|> dispose\n",
    "*new_disposable_test |> _assert_eq 1"
   ]
  },
  {
   "cell_type": "code",
   "execution_count": null,
   "metadata": {
    "dotnet_interactive": {
     "language": "spiral"
    },
    "polyglot_notebook": {
     "kernelName": "spiral"
    }
   },
   "outputs": [
    {
     "name": "stdout",
     "output_type": "stream",
     "text": [
      "__assert_eq / actual: 1 / expected: 1\n"
     ]
    }
   ],
   "source": [
    "//// test\n",
    "\n",
    "inl new_disposable_test = mut 0i32\n",
    "fun () =>\n",
    "    new_disposable fun () => new_disposable_test <- *new_disposable_test + 1\n",
    "    |> fun x => x : disposable ()\n",
    "    |> use\n",
    "    |> ignore\n",
    "    |> return\n",
    "|> async.new_task\n",
    "|> async.await_task\n",
    "|> async.run_synchronously\n",
    "*new_disposable_test |> _assert_eq 1"
   ]
  },
  {
   "cell_type": "code",
   "execution_count": null,
   "metadata": {
    "dotnet_interactive": {
     "language": "spiral"
    },
    "polyglot_notebook": {
     "kernelName": "spiral"
    }
   },
   "outputs": [
    {
     "name": "stdout",
     "output_type": "stream",
     "text": [
      "__assert_eq / actual: 1 / expected: 1\n"
     ]
    }
   ],
   "source": [
    "//// test\n",
    "\n",
    "inl new_disposable_test = mut 0i32\n",
    "fun () =>\n",
    "    new_disposable fun () => new_disposable_test <- *new_disposable_test + 1\n",
    "    |> fun x => x : disposable ()\n",
    "    |> use\n",
    "    |> ignore\n",
    "    |> return\n",
    "|> async.new_async\n",
    "|> async.run_synchronously\n",
    "*new_disposable_test |> _assert_eq 1"
   ]
  },
  {
   "cell_type": "code",
   "execution_count": null,
   "metadata": {
    "dotnet_interactive": {
     "language": "spiral"
    },
    "polyglot_notebook": {
     "kernelName": "spiral"
    }
   },
   "outputs": [
    {
     "name": "stdout",
     "output_type": "stream",
     "text": [
      "__assert_eq / actual: 0 / expected: 0\n"
     ]
    }
   ],
   "source": [
    "//// test\n",
    "\n",
    "inl new_disposable_test = mut 0i32\n",
    "fun () =>\n",
    "    new_disposable fun () => new_disposable_test <- *new_disposable_test + 1\n",
    "    |> fun x => x : disposable ()\n",
    "    |> ignore\n",
    "    |> return\n",
    "|> async.new_async\n",
    "|> async.run_synchronously\n",
    "*new_disposable_test |> _assert_eq 0"
   ]
  },
  {
   "cell_type": "markdown",
   "metadata": {},
   "source": [
    "## main"
   ]
  },
  {
   "cell_type": "code",
   "execution_count": null,
   "metadata": {
    "dotnet_interactive": {
     "language": "spiral"
    },
    "polyglot_notebook": {
     "kernelName": "spiral"
    }
   },
   "outputs": [],
   "source": [
    "inl main () =\n",
    "    init_trace_state None\n",
    "    inl new_disposable x : _ () = new_disposable x\n",
    "    $'let new_disposable x = !new_disposable x' : ()\n",
    "    inl retry_fn (r : i32) (x : () -> _) : optionm'.option' () = retry_fn r x |> optionm'.box\n",
    "    $'let retry_fn x = !retry_fn x' : ()\n",
    "    inl memoize (fn : () -> ()) : () -> () = memoize fn\n",
    "    $'let memoize x = !memoize x' : ()"
   ]
  }
 ],
 "metadata": {},
 "nbformat": 4,
 "nbformat_minor": 5
}