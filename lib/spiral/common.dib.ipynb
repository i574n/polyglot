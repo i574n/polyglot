{
 "cells": [
  {
   "cell_type": "markdown",
   "metadata": {},
   "source": [
    "# common"
   ]
  },
  {
   "cell_type": "code",
   "execution_count": null,
   "metadata": {
    "dotnet_interactive": {
     "language": "spiral"
    },
    "polyglot_notebook": {
     "kernelName": "spiral"
    }
   },
   "outputs": [],
   "source": [
    "//// test\n",
    "\n",
    "open testing"
   ]
  },
  {
   "cell_type": "markdown",
   "metadata": {},
   "source": [
    "## common"
   ]
  },
  {
   "cell_type": "markdown",
   "metadata": {},
   "source": [
    "### retry_fn'"
   ]
  },
  {
   "cell_type": "code",
   "execution_count": null,
   "metadata": {
    "dotnet_interactive": {
     "language": "spiral"
    },
    "polyglot_notebook": {
     "kernelName": "spiral"
    }
   },
   "outputs": [],
   "source": [
    "inl retry_fn' retries fn =\n",
    "    let rec loop retry =\n",
    "        inl is_error, result =\n",
    "            match fn () with\n",
    "            | Ok x => false, x\n",
    "            | Error x => true, x\n",
    "        if not is_error || retry >= retries\n",
    "        then result\n",
    "        else\n",
    "            trace Debug\n",
    "                fun () => \"common.retry_fn\\' / loop\"\n",
    "                fun () => { is_error retry = $'$\"{!retry}/{!retries}\"' : string; result }\n",
    "            loop (retry + 1)\n",
    "    loop 1"
   ]
  },
  {
   "cell_type": "markdown",
   "metadata": {},
   "source": [
    "## fsharp"
   ]
  },
  {
   "cell_type": "markdown",
   "metadata": {},
   "source": [
    "### upcast"
   ]
  },
  {
   "cell_type": "code",
   "execution_count": null,
   "metadata": {
    "dotnet_interactive": {
     "language": "spiral"
    },
    "polyglot_notebook": {
     "kernelName": "spiral"
    }
   },
   "outputs": [],
   "source": [
    "inl upcast forall t u. (x : t) : u =\n",
    "    $'!x :> `u '"
   ]
  },
  {
   "cell_type": "markdown",
   "metadata": {},
   "source": [
    "### downcast"
   ]
  },
  {
   "cell_type": "code",
   "execution_count": null,
   "metadata": {
    "dotnet_interactive": {
     "language": "spiral"
    },
    "polyglot_notebook": {
     "kernelName": "spiral"
    }
   },
   "outputs": [],
   "source": [
    "inl downcast forall t u. (x : t) : u =\n",
    "    $'!x :?> `u '"
   ]
  },
  {
   "cell_type": "markdown",
   "metadata": {},
   "source": [
    "### random"
   ]
  },
  {
   "cell_type": "code",
   "execution_count": null,
   "metadata": {
    "dotnet_interactive": {
     "language": "spiral"
    },
    "polyglot_notebook": {
     "kernelName": "spiral"
    }
   },
   "outputs": [],
   "source": [
    "nominal random = $'System.Random'\n",
    "\n",
    "inl random () : random =\n",
    "    $'`random ' ()"
   ]
  },
  {
   "cell_type": "markdown",
   "metadata": {},
   "source": [
    "### random_next"
   ]
  },
  {
   "cell_type": "code",
   "execution_count": null,
   "metadata": {
    "dotnet_interactive": {
     "language": "spiral"
    },
    "polyglot_notebook": {
     "kernelName": "spiral"
    }
   },
   "outputs": [],
   "source": [
    "inl random_next (min : i32) (max : i32) (random : random) : i32 =\n",
    "    $'!random.Next (!min, !max)'"
   ]
  },
  {
   "cell_type": "markdown",
   "metadata": {},
   "source": [
    "### disposable"
   ]
  },
  {
   "cell_type": "code",
   "execution_count": null,
   "metadata": {
    "dotnet_interactive": {
     "language": "spiral"
    },
    "polyglot_notebook": {
     "kernelName": "spiral"
    }
   },
   "outputs": [],
   "source": [
    "nominal disposable t = $\"backend_switch `({ Fsharp : $'System.IDisposable'; Python : $'object' })\""
   ]
  },
  {
   "cell_type": "markdown",
   "metadata": {},
   "source": [
    "### dispose"
   ]
  },
  {
   "cell_type": "code",
   "execution_count": null,
   "metadata": {
    "dotnet_interactive": {
     "language": "spiral"
    },
    "polyglot_notebook": {
     "kernelName": "spiral"
    }
   },
   "outputs": [],
   "source": [
    "inl dispose (disposable : disposable _) : () =\n",
    "    backend_switch {\n",
    "        Fsharp = fun () => disposable |> $'_.Dispose()' : ()\n",
    "        Python = fun () => $'!disposable.__exit__(None, None, None)' : ()\n",
    "    }"
   ]
  },
  {
   "cell_type": "markdown",
   "metadata": {},
   "source": [
    "### yield"
   ]
  },
  {
   "cell_type": "code",
   "execution_count": null,
   "metadata": {
    "dotnet_interactive": {
     "language": "spiral"
    },
    "polyglot_notebook": {
     "kernelName": "spiral"
    }
   },
   "outputs": [],
   "source": [
    "inl yield forall t. (x : t) : () =\n",
    "    $'yield !x '"
   ]
  },
  {
   "cell_type": "markdown",
   "metadata": {},
   "source": [
    "### return"
   ]
  },
  {
   "cell_type": "code",
   "execution_count": null,
   "metadata": {
    "dotnet_interactive": {
     "language": "spiral"
    },
    "polyglot_notebook": {
     "kernelName": "spiral"
    }
   },
   "outputs": [],
   "source": [
    "inl return forall t. (x : t) : () =\n",
    "    $'return !x '"
   ]
  },
  {
   "cell_type": "markdown",
   "metadata": {},
   "source": [
    "### return'"
   ]
  },
  {
   "cell_type": "code",
   "execution_count": null,
   "metadata": {
    "dotnet_interactive": {
     "language": "spiral"
    },
    "polyglot_notebook": {
     "kernelName": "spiral"
    }
   },
   "outputs": [],
   "source": [
    "inl return' forall t. (x : t) : t =\n",
    "    $'return !x '"
   ]
  },
  {
   "cell_type": "markdown",
   "metadata": {},
   "source": [
    "### retry_fn"
   ]
  },
  {
   "cell_type": "code",
   "execution_count": null,
   "metadata": {
    "dotnet_interactive": {
     "language": "spiral"
    },
    "polyglot_notebook": {
     "kernelName": "spiral"
    }
   },
   "outputs": [],
   "source": [
    "inl retry_fn forall t. retries (fn : () -> t) : option t =\n",
    "    let rec loop retry =\n",
    "        try\n",
    "            fun () =>\n",
    "                if retry < retries\n",
    "                then fn () |> Some\n",
    "                else None\n",
    "            fun ex =>\n",
    "                trace Warning\n",
    "                    fun () => \"common.retry_fn\"\n",
    "                    fun () => { retry ex }\n",
    "                None\n",
    "        |> function\n",
    "            | Some x => x\n",
    "            | None => loop (retry + 1)\n",
    "    loop 0"
   ]
  },
  {
   "cell_type": "code",
   "execution_count": null,
   "metadata": {
    "dotnet_interactive": {
     "language": "spiral"
    },
    "polyglot_notebook": {
     "kernelName": "spiral"
    }
   },
   "outputs": [
    {
     "data": {
      "text/plain": [
       ".py output (Cuda):\n",
       "__assert_eq' / actual: US0_0(v0=1) / expected: US0_0(v0=1)\n",
       "\n",
       ".rs output:\n",
       "__assert_eq' / actual: US0_0(1) / expected: US0_0(1)\n",
       "\n",
       ".ts output:\n",
       "__assert_eq' / actual: US0_0 1 / expected: US0_0 1\n",
       "\n",
       ".py output:\n",
       "__assert_eq' / actual: US0_0 1 / expected: US0_0 1\n",
       "\n"
      ]
     },
     "metadata": {},
     "output_type": "display_data"
    },
    {
     "name": "stdout",
     "output_type": "stream",
     "text": [
      ".fsx output:\n",
      "__assert_eq' / actual: US0_0 1 / expected: US0_0 1\n"
     ]
    }
   ],
   "source": [
    "//// test\n",
    "///! fsharp\n",
    "///! cuda\n",
    "///! rust\n",
    "///! typescript\n",
    "///! python\n",
    "\n",
    "inl retry_fn_test = mut 0i32\n",
    "fun () =>\n",
    "    retry_fn_test <- *retry_fn_test + 1\n",
    "    *retry_fn_test\n",
    "|> retry_fn 3i32\n",
    "|> _assert_eq' (Some 1i32)"
   ]
  },
  {
   "cell_type": "code",
   "execution_count": null,
   "metadata": {
    "dotnet_interactive": {
     "language": "spiral"
    },
    "polyglot_notebook": {
     "kernelName": "spiral"
    }
   },
   "outputs": [
    {
     "data": {
      "text/plain": [
       "\n",
       ".rs output:\n",
       "00:00:00 \u001B[33mw\u001B[39m #1 common.retry_fn / { retry = 0; ex = Exception {\n",
       "    message: \"test\",\n",
       "} }\n",
       "00:00:00 \u001B[33mw\u001B[39m #2 common.retry_fn / { retry = 1; ex = Exception {\n",
       "    message: \"test\",\n",
       "} }\n",
       "__assert_eq' / actual: US0_0(2) / expected: US0_0(2)\n",
       "\n",
       "\n",
       ".ts output:\n",
       "00:00:00 \u001B[93mw\u001B[0m #1 common.retry_fn / { retry = 0; ex = Error: test }\n",
       "00:00:00 \u001B[93mw\u001B[0m #2 common.retry_fn / { retry = 1; ex = Error: test }\n",
       "__assert_eq' / actual: US0_0 2 / expected: US0_0 2\n",
       "\n",
       "\n",
       ".py output:\n",
       "00:00:00 \u001B[93mw\u001B[0m #1 common.retry_fn / { retry = 0; ex = test }\n",
       "00:00:00 \u001B[93mw\u001B[0m #2 common.retry_fn / { retry = 1; ex = test }\n",
       "__assert_eq' / actual: US0_0 2 / expected: US0_0 2\n",
       "\n",
       "\n"
      ]
     },
     "metadata": {},
     "output_type": "display_data"
    },
    {
     "name": "stdout",
     "output_type": "stream",
     "text": [
      ".fsx output:\n",
      "00:00:00 \u001B[93mw\u001B[0m #1 common.retry_fn / { retry = 0; ex = System.Exception: test\n",
      "   at FSI_0017.closure1(Mut0 v0, Int32 v1, Unit unitVar2)\n",
      "   at FSI_0017.method1(Mut0 v0, Int32 v1) }\n",
      "00:00:00 \u001B[93mw\u001B[0m #2 common.retry_fn / { retry = 1; ex = System.Exception: test\n",
      "   at FSI_0017.closure1(Mut0 v0, Int32 v1, Unit unitVar2)\n",
      "   at FSI_0017.method1(Mut0 v0, Int32 v1) }\n",
      "__assert_eq' / actual: US0_0 2 / expected: US0_0 2\n"
     ]
    }
   ],
   "source": [
    "//// test\n",
    "///! fsharp\n",
    "////! cuda // v3 = $\"retry: {v0} / ex: %A{v1} / {v2 ()}\"\n",
    "///! rust\n",
    "///! typescript\n",
    "///! python\n",
    "\n",
    "inl retry_fn_test = mut 0i32\n",
    "fun () =>\n",
    "    if *retry_fn_test >= 2\n",
    "    then *retry_fn_test\n",
    "    else\n",
    "        retry_fn_test <- *retry_fn_test + 1\n",
    "        failwith \"test\"\n",
    "|> retry_fn 3i32\n",
    "|> _assert_eq' (Some 2i32)"
   ]
  },
  {
   "cell_type": "markdown",
   "metadata": {},
   "source": [
    "## common"
   ]
  },
  {
   "cell_type": "markdown",
   "metadata": {},
   "source": [
    "### random'"
   ]
  },
  {
   "cell_type": "code",
   "execution_count": null,
   "metadata": {
    "dotnet_interactive": {
     "language": "spiral"
    },
    "polyglot_notebook": {
     "kernelName": "spiral"
    }
   },
   "outputs": [],
   "source": [
    "inl random' forall t. (min : t) (max : t) : t =\n",
    "    run_target function\n",
    "        | Rust (Contract) => fun () =>\n",
    "            failwith \"common.random' / target=Rust(Contract)\"\n",
    "        | Rust _ => fun () =>\n",
    "            open rust.rust_operators\n",
    "            !\\\\((min, max), $'\"rand::Rng::gen_range(&mut rand::thread_rng(), $0..$1)\"')\n",
    "        | _ => fun () =>\n",
    "            random () |> random_next (i32 min) (i32 max) |> convert"
   ]
  },
  {
   "cell_type": "markdown",
   "metadata": {},
   "source": [
    "### new_disposable"
   ]
  },
  {
   "cell_type": "code",
   "execution_count": null,
   "metadata": {
    "dotnet_interactive": {
     "language": "spiral"
    },
    "polyglot_notebook": {
     "kernelName": "spiral"
    }
   },
   "outputs": [],
   "source": [
    "inl new_disposable (fn : () -> ()) : disposable _ =\n",
    "    run_target function\n",
    "        | Rust _ => fun () =>\n",
    "            global \"type Disposable (f : unit -> unit) = interface System.IDisposable with member _.Dispose () = f ()\"\n",
    "            inl fn = join fn\n",
    "            $'new Disposable (fun () -> Fable.Core.RustInterop.emitRustExpr !fn \"$0()\" )'\n",
    "        | Fsharp _ | TypeScript _ | Python _ => fun () =>\n",
    "            inl fn = join fn\n",
    "            $'{ new System.IDisposable with member _.Dispose () = !fn () }'\n",
    "        | Cuda _ => fun () =>\n",
    "            $'class Disposable:'\n",
    "            $'    def __init__(self, fn):'\n",
    "            $'        self.fn = fn'\n",
    "            $'    def __exit__(self, exc_type, exc_value, traceback):'\n",
    "            $'        self.fn()'\n",
    "            $'        return False'\n",
    "            $'Disposable(!fn)'\n",
    "        | _ => fun () => null ()"
   ]
  },
  {
   "cell_type": "code",
   "execution_count": null,
   "metadata": {
    "dotnet_interactive": {
     "language": "spiral"
    },
    "polyglot_notebook": {
     "kernelName": "spiral"
    }
   },
   "outputs": [
    {
     "data": {
      "text/plain": [
       ".py output (Cuda):\n",
       "__assert_eq / actual: 1 / expected: 1\n",
       "\n",
       ".rs output:\n",
       "__assert_eq / actual: 1 / expected: 1\n",
       "\n",
       ".ts output:\n",
       "__assert_eq / actual: 1 / expected: 1\n",
       "\n",
       ".py output:\n",
       "__assert_eq / actual: 1 / expected: 1\n",
       "\n"
      ]
     },
     "metadata": {},
     "output_type": "display_data"
    },
    {
     "name": "stdout",
     "output_type": "stream",
     "text": [
      ".fsx output:\n",
      "__assert_eq / actual: 1 / expected: 1\n"
     ]
    }
   ],
   "source": [
    "//// test\n",
    "///! fsharp\n",
    "///! cuda\n",
    "///! rust\n",
    "///! typescript\n",
    "///! python\n",
    "\n",
    "inl new_disposable_test = mut 0i32\n",
    "new_disposable fun () => new_disposable_test <- *new_disposable_test + 1\n",
    "|> fun x => x : disposable ()\n",
    "|> dispose\n",
    "*new_disposable_test |> _assert_eq 1"
   ]
  },
  {
   "cell_type": "code",
   "execution_count": null,
   "metadata": {
    "dotnet_interactive": {
     "language": "spiral"
    },
    "polyglot_notebook": {
     "kernelName": "spiral"
    }
   },
   "outputs": [
    {
     "name": "stdout",
     "output_type": "stream",
     "text": [
      "__assert_eq / actual: 1 / expected: 1\n"
     ]
    }
   ],
   "source": [
    "//// test\n",
    "\n",
    "inl new_disposable_test = mut 0i32\n",
    "fun () =>\n",
    "    new_disposable fun () => new_disposable_test <- *new_disposable_test + 1\n",
    "    |> fun x => x : disposable ()\n",
    "    |> use\n",
    "    |> ignore\n",
    "    |> return\n",
    "|> async.new_task\n",
    "|> async.await_task\n",
    "|> async.run_synchronously\n",
    "*new_disposable_test |> _assert_eq 1"
   ]
  },
  {
   "cell_type": "code",
   "execution_count": null,
   "metadata": {
    "dotnet_interactive": {
     "language": "spiral"
    },
    "polyglot_notebook": {
     "kernelName": "spiral"
    }
   },
   "outputs": [
    {
     "name": "stdout",
     "output_type": "stream",
     "text": [
      "__assert_eq / actual: 1 / expected: 1\n"
     ]
    }
   ],
   "source": [
    "//// test\n",
    "\n",
    "inl new_disposable_test = mut 0i32\n",
    "fun () =>\n",
    "    new_disposable fun () => new_disposable_test <- *new_disposable_test + 1\n",
    "    |> fun x => x : disposable ()\n",
    "    |> use\n",
    "    |> ignore\n",
    "    |> return\n",
    "|> async.new_async\n",
    "|> async.run_synchronously\n",
    "*new_disposable_test |> _assert_eq 1"
   ]
  },
  {
   "cell_type": "code",
   "execution_count": null,
   "metadata": {
    "dotnet_interactive": {
     "language": "spiral"
    },
    "polyglot_notebook": {
     "kernelName": "spiral"
    }
   },
   "outputs": [
    {
     "name": "stdout",
     "output_type": "stream",
     "text": [
      "__assert_eq / actual: 0 / expected: 0\n"
     ]
    }
   ],
   "source": [
    "//// test\n",
    "\n",
    "inl new_disposable_test = mut 0i32\n",
    "fun () =>\n",
    "    new_disposable fun () => new_disposable_test <- *new_disposable_test + 1\n",
    "    |> fun x => x : disposable ()\n",
    "    |> ignore\n",
    "    |> return\n",
    "|> async.new_async\n",
    "|> async.run_synchronously\n",
    "*new_disposable_test |> _assert_eq 0"
   ]
  },
  {
   "cell_type": "markdown",
   "metadata": {},
   "source": [
    "## main"
   ]
  },
  {
   "cell_type": "code",
   "execution_count": null,
   "metadata": {
    "dotnet_interactive": {
     "language": "spiral"
    },
    "polyglot_notebook": {
     "kernelName": "spiral"
    }
   },
   "outputs": [],
   "source": [
    "inl main () =\n",
    "    init_trace_state None\n",
    "    inl new_disposable x : _ () = new_disposable x\n",
    "    $'let new_disposable x = !new_disposable x' : ()\n",
    "    inl retry_fn (r : i32) (x : () -> _) : optionm'.option' () = retry_fn r x |> optionm'.box\n",
    "    $'let retry_fn x = !retry_fn x' : ()\n",
    "    inl memoize (fn : () -> ()) : () -> () = memoize fn\n",
    "    $'let memoize x = !memoize x' : ()"
   ]
  }
 ],
 "metadata": {},
 "nbformat": 4,
 "nbformat_minor": 5
}