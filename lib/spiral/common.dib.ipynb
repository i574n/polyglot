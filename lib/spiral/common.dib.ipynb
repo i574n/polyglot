{
 "cells": [
  {
   "cell_type": "markdown",
   "metadata": {},
   "source": [
    "# common"
   ]
  },
  {
   "cell_type": "code",
   "execution_count": null,
   "metadata": {
    "dotnet_interactive": {
     "language": "spiral"
    },
    "polyglot_notebook": {
     "kernelName": "spiral"
    }
   },
   "outputs": [],
   "source": [
    "//// test\n",
    "\n",
    "open testing"
   ]
  },
  {
   "cell_type": "markdown",
   "metadata": {},
   "source": [
    "## types"
   ]
  },
  {
   "cell_type": "code",
   "execution_count": null,
   "metadata": {
    "dotnet_interactive": {
     "language": "spiral"
    },
    "polyglot_notebook": {
     "kernelName": "spiral"
    }
   },
   "outputs": [],
   "source": [
    "inl types () =\n",
    "    env.types ()\n",
    "    rust.types ()\n",
    "    sm'.types ()"
   ]
  },
  {
   "cell_type": "markdown",
   "metadata": {},
   "source": [
    "## common"
   ]
  },
  {
   "cell_type": "markdown",
   "metadata": {},
   "source": [
    "### (:>)"
   ]
  },
  {
   "cell_type": "code",
   "execution_count": null,
   "metadata": {
    "dotnet_interactive": {
     "language": "spiral"
    },
    "polyglot_notebook": {
     "kernelName": "spiral"
    }
   },
   "outputs": [],
   "source": [
    "prototype (~:>) r : forall t. t -> r"
   ]
  },
  {
   "cell_type": "markdown",
   "metadata": {},
   "source": [
    "### to_any"
   ]
  },
  {
   "cell_type": "code",
   "execution_count": null,
   "metadata": {
    "dotnet_interactive": {
     "language": "spiral"
    },
    "polyglot_notebook": {
     "kernelName": "spiral"
    }
   },
   "outputs": [],
   "source": [
    "inl to_any forall t. (obj : t) : any =\n",
    "    $'!obj '\n",
    "\n",
    "instance (~:>) any = to_any"
   ]
  },
  {
   "cell_type": "markdown",
   "metadata": {},
   "source": [
    "### (||>)"
   ]
  },
  {
   "cell_type": "code",
   "execution_count": null,
   "metadata": {
    "dotnet_interactive": {
     "language": "spiral"
    },
    "polyglot_notebook": {
     "kernelName": "spiral"
    }
   },
   "outputs": [
    {
     "name": "stdout",
     "output_type": "stream",
     "text": [
      "assert_eq / actual: 1 / expected: 1\n"
     ]
    }
   ],
   "source": [
    "//// test\n",
    "\n",
    "(3i32, 2i32)\n",
    "||> fun a b => a - b\n",
    "|> _assert_eq 1"
   ]
  },
  {
   "cell_type": "markdown",
   "metadata": {},
   "source": [
    "### flip"
   ]
  },
  {
   "cell_type": "code",
   "execution_count": null,
   "metadata": {
    "dotnet_interactive": {
     "language": "spiral"
    },
    "polyglot_notebook": {
     "kernelName": "spiral"
    }
   },
   "outputs": [],
   "source": [
    "inl flip fn a b =\n",
    "    fn b a"
   ]
  },
  {
   "cell_type": "code",
   "execution_count": null,
   "metadata": {
    "dotnet_interactive": {
     "language": "spiral"
    },
    "polyglot_notebook": {
     "kernelName": "spiral"
    }
   },
   "outputs": [
    {
     "name": "stdout",
     "output_type": "stream",
     "text": [
      "assert_eq / actual: struct (2, 1) / expected: struct (2, 1)\n"
     ]
    }
   ],
   "source": [
    "//// test\n",
    "\n",
    "(1i32, 2i32)\n",
    "||> flip pair\n",
    "|> _assert_eq (2, 1)"
   ]
  },
  {
   "cell_type": "markdown",
   "metadata": {},
   "source": [
    "### join_body"
   ]
  },
  {
   "cell_type": "code",
   "execution_count": null,
   "metadata": {
    "dotnet_interactive": {
     "language": "spiral"
    },
    "polyglot_notebook": {
     "kernelName": "spiral"
    }
   },
   "outputs": [],
   "source": [
    "inl join_body body acc x =\n",
    "    if var_is x |> not\n",
    "    then body acc x\n",
    "    else\n",
    "        inl acc = dyn acc\n",
    "        join body acc x"
   ]
  },
  {
   "cell_type": "code",
   "execution_count": null,
   "metadata": {
    "dotnet_interactive": {
     "language": "spiral"
    },
    "polyglot_notebook": {
     "kernelName": "spiral"
    }
   },
   "outputs": [],
   "source": [
    "//// test\n",
    "\n",
    "inl rec fold_list f s = function\n",
    "    | Cons (x, x') => fold_list f (f s x) x'\n",
    "    | Nil => s"
   ]
  },
  {
   "cell_type": "code",
   "execution_count": null,
   "metadata": {
    "dotnet_interactive": {
     "language": "spiral"
    },
    "polyglot_notebook": {
     "kernelName": "spiral"
    }
   },
   "outputs": [
    {
     "name": "stdout",
     "output_type": "stream",
     "text": [
      "assert_eq / actual: 15 / expected: 15\n"
     ]
    }
   ],
   "source": [
    "//// test\n",
    "\n",
    "[ 5i32; 4; join 3; 2; 1 ]\n",
    "|> fold_list (+) 0\n",
    "|> _assert_eq 15"
   ]
  },
  {
   "cell_type": "code",
   "execution_count": null,
   "metadata": {
    "dotnet_interactive": {
     "language": "spiral"
    },
    "polyglot_notebook": {
     "kernelName": "spiral"
    }
   },
   "outputs": [
    {
     "name": "stdout",
     "output_type": "stream",
     "text": [
      "assert_eq / actual: 15 / expected: 15\n"
     ]
    }
   ],
   "source": [
    "//// test\n",
    "\n",
    "[ 5i32; 4; join 3; 2; 1 ]\n",
    "|> fold_list (join_body (+)) 0\n",
    "|> _assert_eq 15"
   ]
  },
  {
   "cell_type": "markdown",
   "metadata": {},
   "source": [
    "### join_body_unit"
   ]
  },
  {
   "cell_type": "code",
   "execution_count": null,
   "metadata": {
    "dotnet_interactive": {
     "language": "spiral"
    },
    "polyglot_notebook": {
     "kernelName": "spiral"
    }
   },
   "outputs": [],
   "source": [
    "inl join_body_unit body d x =\n",
    "    if var_is d |> not\n",
    "    then body x\n",
    "    else\n",
    "        inl x = dyn x\n",
    "        join body x"
   ]
  },
  {
   "cell_type": "code",
   "execution_count": null,
   "metadata": {
    "dotnet_interactive": {
     "language": "spiral"
    },
    "polyglot_notebook": {
     "kernelName": "spiral"
    }
   },
   "outputs": [
    {
     "name": "stdout",
     "output_type": "stream",
     "text": [
      "assert_eq / actual: 15 / expected: 15\n"
     ]
    }
   ],
   "source": [
    "//// test\n",
    "\n",
    "[ 5i32; 4; join 3; 2; 1 ]\n",
    "|> fold_list (fun acc n => join_body_unit ((+) acc) n n) 0\n",
    "|> _assert_eq 15"
   ]
  },
  {
   "cell_type": "markdown",
   "metadata": {},
   "source": [
    "### retry_fn'"
   ]
  },
  {
   "cell_type": "code",
   "execution_count": null,
   "metadata": {
    "dotnet_interactive": {
     "language": "spiral"
    },
    "polyglot_notebook": {
     "kernelName": "spiral"
    }
   },
   "outputs": [],
   "source": [
    "inl retry_fn' retries fn =\n",
    "    let rec loop retry =\n",
    "        inl is_error, result =\n",
    "            match fn () with\n",
    "            | Ok x => false, x\n",
    "            | Error x => true, x\n",
    "        if not is_error || retry >= retries\n",
    "        then result\n",
    "        else\n",
    "            trace Debug\n",
    "                fun () => $'\"common.retry_fn\\' / loop\"'\n",
    "                fun () => $'$\"is_error: {!is_error} / retry: {!retry}/{!retries} / result: %A{!result} / {!_locals ()}\"'\n",
    "            loop (retry + 1)\n",
    "    loop 1"
   ]
  },
  {
   "cell_type": "markdown",
   "metadata": {},
   "source": [
    "## fsharp"
   ]
  },
  {
   "cell_type": "markdown",
   "metadata": {},
   "source": [
    "### nameof"
   ]
  },
  {
   "cell_type": "code",
   "execution_count": null,
   "metadata": {
    "dotnet_interactive": {
     "language": "spiral"
    },
    "polyglot_notebook": {
     "kernelName": "spiral"
    }
   },
   "outputs": [],
   "source": [
    "inl nameof x : string =\n",
    "    $'nameof !x '"
   ]
  },
  {
   "cell_type": "markdown",
   "metadata": {},
   "source": [
    "### upcast"
   ]
  },
  {
   "cell_type": "code",
   "execution_count": null,
   "metadata": {
    "dotnet_interactive": {
     "language": "spiral"
    },
    "polyglot_notebook": {
     "kernelName": "spiral"
    }
   },
   "outputs": [],
   "source": [
    "inl upcast forall t u. (x : t) : u =\n",
    "    $'!x :> `u '"
   ]
  },
  {
   "cell_type": "markdown",
   "metadata": {},
   "source": [
    "### downcast"
   ]
  },
  {
   "cell_type": "code",
   "execution_count": null,
   "metadata": {
    "dotnet_interactive": {
     "language": "spiral"
    },
    "polyglot_notebook": {
     "kernelName": "spiral"
    }
   },
   "outputs": [],
   "source": [
    "inl downcast forall t u. (x : t) : u =\n",
    "    $'!x :?> `u '"
   ]
  },
  {
   "cell_type": "markdown",
   "metadata": {},
   "source": [
    "### random"
   ]
  },
  {
   "cell_type": "code",
   "execution_count": null,
   "metadata": {
    "dotnet_interactive": {
     "language": "spiral"
    },
    "polyglot_notebook": {
     "kernelName": "spiral"
    }
   },
   "outputs": [],
   "source": [
    "nominal random = $'System.Random'\n",
    "\n",
    "inl random () : random =\n",
    "    $'`random ' ()"
   ]
  },
  {
   "cell_type": "markdown",
   "metadata": {},
   "source": [
    "### random_next"
   ]
  },
  {
   "cell_type": "code",
   "execution_count": null,
   "metadata": {
    "dotnet_interactive": {
     "language": "spiral"
    },
    "polyglot_notebook": {
     "kernelName": "spiral"
    }
   },
   "outputs": [],
   "source": [
    "inl random_next (min : i32) (max : i32) (random : random) : i32 =\n",
    "    $'!random.Next (!min, !max)'"
   ]
  },
  {
   "cell_type": "markdown",
   "metadata": {},
   "source": [
    "### disposable"
   ]
  },
  {
   "cell_type": "code",
   "execution_count": null,
   "metadata": {
    "dotnet_interactive": {
     "language": "spiral"
    },
    "polyglot_notebook": {
     "kernelName": "spiral"
    }
   },
   "outputs": [],
   "source": [
    "nominal disposable t = $'System.IDisposable'"
   ]
  },
  {
   "cell_type": "markdown",
   "metadata": {},
   "source": [
    "### dispose"
   ]
  },
  {
   "cell_type": "code",
   "execution_count": null,
   "metadata": {
    "dotnet_interactive": {
     "language": "spiral"
    },
    "polyglot_notebook": {
     "kernelName": "spiral"
    }
   },
   "outputs": [],
   "source": [
    "inl dispose (disposable : disposable _) : () =\n",
    "    disposable |> $'_.Dispose()'"
   ]
  },
  {
   "cell_type": "markdown",
   "metadata": {},
   "source": [
    "### return"
   ]
  },
  {
   "cell_type": "code",
   "execution_count": null,
   "metadata": {
    "dotnet_interactive": {
     "language": "spiral"
    },
    "polyglot_notebook": {
     "kernelName": "spiral"
    }
   },
   "outputs": [],
   "source": [
    "inl return forall t. (x : t) : () =\n",
    "    $'return !x '\n",
    "\n",
    "inl return' forall t. (x : t) : t =\n",
    "    $'return !x '"
   ]
  },
  {
   "cell_type": "markdown",
   "metadata": {},
   "source": [
    "### retry_fn"
   ]
  },
  {
   "cell_type": "code",
   "execution_count": null,
   "metadata": {
    "dotnet_interactive": {
     "language": "spiral"
    },
    "polyglot_notebook": {
     "kernelName": "spiral"
    }
   },
   "outputs": [],
   "source": [
    "inl retry_fn forall t. retries (fn : () -> t) : option t =\n",
    "    let rec loop retry =\n",
    "        try\n",
    "            fun () =>\n",
    "                if retry < retries\n",
    "                then fn () |> Some\n",
    "                else None\n",
    "            fun ex =>\n",
    "                trace Warning\n",
    "                    fun () => \"common.retry_fn\"\n",
    "                    fun () => $'$\"retry: {!retry} / ex: %A{!ex} / {!_locals ()}\"'\n",
    "                None\n",
    "        |> function\n",
    "            | Some x => x\n",
    "            | None => loop (retry + 1)\n",
    "    loop 0"
   ]
  },
  {
   "cell_type": "code",
   "execution_count": null,
   "metadata": {
    "dotnet_interactive": {
     "language": "spiral"
    },
    "polyglot_notebook": {
     "kernelName": "spiral"
    }
   },
   "outputs": [
    {
     "name": "stdout",
     "output_type": "stream",
     "text": [
      "assert_eq / actual: US0_0 1 / expected: US0_0 1\n"
     ]
    }
   ],
   "source": [
    "//// test\n",
    "\n",
    "inl retry_fn_test = mut 0i32\n",
    "fun () =>\n",
    "    retry_fn_test <- *retry_fn_test + 1\n",
    "    *retry_fn_test\n",
    "|> retry_fn 3i32\n",
    "|> _assert_eq (Some 1i32)"
   ]
  },
  {
   "cell_type": "code",
   "execution_count": null,
   "metadata": {
    "dotnet_interactive": {
     "language": "spiral"
    },
    "polyglot_notebook": {
     "kernelName": "spiral"
    }
   },
   "outputs": [
    {
     "data": {
      "text/plain": [
       "assert_eq' / actual: US0_0(1) / expected: US0_0(1)\n"
      ]
     },
     "metadata": {},
     "output_type": "display_data"
    }
   ],
   "source": [
    "//// test\n",
    "///! rust\n",
    "\n",
    "types ()\n",
    "inl retry_fn_test = mut 0i32\n",
    "fun () =>\n",
    "    retry_fn_test <- *retry_fn_test + 1\n",
    "    *retry_fn_test\n",
    "|> retry_fn 3i32\n",
    "|> _assert_eq' (Some 1i32)"
   ]
  },
  {
   "cell_type": "code",
   "execution_count": null,
   "metadata": {
    "dotnet_interactive": {
     "language": "spiral"
    },
    "polyglot_notebook": {
     "kernelName": "spiral"
    }
   },
   "outputs": [
    {
     "name": "stdout",
     "output_type": "stream",
     "text": [
      "00:00:00 warning #1 common.retry_fn / retry: 0 / ex: System.Exception: test\n",
      "   at FSI_0028.closure0(Mut0 v0, Int32 v1, Unit unitVar2)\n",
      "   at FSI_0028.method1(Mut0 v0, Int32 v1)\n",
      "00:00:00 warning #2 common.retry_fn / retry: 1 / ex: System.Exception: test\n",
      "   at FSI_0028.closure0(Mut0 v0, Int32 v1, Unit unitVar2)\n",
      "   at FSI_0028.method1(Mut0 v0, Int32 v1)\n",
      "assert_eq / actual: US0_0 2 / expected: US0_0 2\n"
     ]
    }
   ],
   "source": [
    "//// test\n",
    "\n",
    "inl retry_fn_test = mut 0i32\n",
    "fun () =>\n",
    "    if *retry_fn_test >= 2\n",
    "    then *retry_fn_test\n",
    "    else\n",
    "        retry_fn_test <- *retry_fn_test + 1\n",
    "        failwith \"test\"\n",
    "|> retry_fn 3i32\n",
    "|> _assert_eq (Some 2i32)"
   ]
  },
  {
   "cell_type": "code",
   "execution_count": null,
   "metadata": {
    "dotnet_interactive": {
     "language": "spiral"
    },
    "polyglot_notebook": {
     "kernelName": "spiral"
    }
   },
   "outputs": [
    {
     "data": {
      "text/plain": [
       "00:00:00 \u001B[33mwarning\u001B[39m #1 common.retry_fn / retry: 0 / ex: Exception { message: \"test\" }\n",
       "00:00:00 \u001B[33mwarning\u001B[39m #2 common.retry_fn / retry: 1 / ex: Exception { message: \"test\" }\n",
       "assert_eq' / actual: US0_0(2) / expected: US0_0(2)\n"
      ]
     },
     "metadata": {},
     "output_type": "display_data"
    }
   ],
   "source": [
    "//// test\n",
    "///! rust\n",
    "\n",
    "types ()\n",
    "inl retry_fn_test = mut 0i32\n",
    "fun () =>\n",
    "    if *retry_fn_test >= 2\n",
    "    then *retry_fn_test\n",
    "    else\n",
    "        retry_fn_test <- *retry_fn_test + 1\n",
    "        failwith \"test\"\n",
    "|> retry_fn 3i32\n",
    "|> _assert_eq' (Some 2i32)"
   ]
  },
  {
   "cell_type": "markdown",
   "metadata": {},
   "source": [
    "## common"
   ]
  },
  {
   "cell_type": "markdown",
   "metadata": {},
   "source": [
    "### random'"
   ]
  },
  {
   "cell_type": "code",
   "execution_count": null,
   "metadata": {
    "dotnet_interactive": {
     "language": "spiral"
    },
    "polyglot_notebook": {
     "kernelName": "spiral"
    }
   },
   "outputs": [],
   "source": [
    "inl random' forall t. (min : t) (max : t) : t =\n",
    "    run_target function\n",
    "        | Rust (Contract) => fun () =>\n",
    "            failwith \"common.random' / target=Rust(Contract)\"\n",
    "        | Rust _ => fun () =>\n",
    "            open rust_operators\n",
    "            !\\\\((min, max), $'\"rand::Rng::gen_range(&mut rand::thread_rng(), $0..$1)\"')\n",
    "        | _ => fun () =>\n",
    "            random () |> random_next (i32 min) (i32 max) |> convert"
   ]
  },
  {
   "cell_type": "markdown",
   "metadata": {},
   "source": [
    "### new_disposable"
   ]
  },
  {
   "cell_type": "code",
   "execution_count": null,
   "metadata": {
    "dotnet_interactive": {
     "language": "spiral"
    },
    "polyglot_notebook": {
     "kernelName": "spiral"
    }
   },
   "outputs": [],
   "source": [
    "inl new_disposable (fn : () -> ()) : disposable _ =\n",
    "    run_target function\n",
    "        | Rust _ => fun () =>\n",
    "            global \"type Disposable (f : unit -> unit) = interface System.IDisposable with member _.Dispose () = f ()\"\n",
    "            inl fn = join fn\n",
    "            $'new Disposable (fun () -> Fable.Core.RustInterop.emitRustExpr !fn \"$0()\" )'\n",
    "        | Fsharp _ => fun () =>\n",
    "            inl fn = join fn\n",
    "            $'{ new System.IDisposable with member _.Dispose () = !fn () }'\n",
    "        | _ => fun () => null ()"
   ]
  },
  {
   "cell_type": "code",
   "execution_count": null,
   "metadata": {
    "dotnet_interactive": {
     "language": "spiral"
    },
    "polyglot_notebook": {
     "kernelName": "spiral"
    }
   },
   "outputs": [
    {
     "name": "stdout",
     "output_type": "stream",
     "text": [
      "assert_eq / actual: 1 / expected: 1\n"
     ]
    }
   ],
   "source": [
    "//// test\n",
    "\n",
    "inl new_disposable_test = mut 0i32\n",
    "new_disposable fun () => new_disposable_test <- *new_disposable_test + 1\n",
    "|> fun x => x : disposable ()\n",
    "|> dispose\n",
    "*new_disposable_test |> _assert_eq 1"
   ]
  },
  {
   "cell_type": "code",
   "execution_count": null,
   "metadata": {
    "dotnet_interactive": {
     "language": "spiral"
    },
    "polyglot_notebook": {
     "kernelName": "spiral"
    }
   },
   "outputs": [
    {
     "data": {
      "text/plain": [
       "assert_eq / actual: 1 / expected: 1\n"
      ]
     },
     "metadata": {},
     "output_type": "display_data"
    }
   ],
   "source": [
    "//// test\n",
    "///! rust\n",
    "\n",
    "inl new_disposable_test = mut 0i32\n",
    "new_disposable fun () => new_disposable_test <- *new_disposable_test + 1\n",
    "|> fun x => x : disposable ()\n",
    "|> dispose\n",
    "*new_disposable_test |> _assert_eq 1"
   ]
  },
  {
   "cell_type": "code",
   "execution_count": null,
   "metadata": {
    "dotnet_interactive": {
     "language": "spiral"
    },
    "polyglot_notebook": {
     "kernelName": "spiral"
    }
   },
   "outputs": [
    {
     "name": "stdout",
     "output_type": "stream",
     "text": [
      "assert_eq / actual: 1 / expected: 1\n"
     ]
    }
   ],
   "source": [
    "//// test\n",
    "\n",
    "inl new_disposable_test = mut 0i32\n",
    "fun () =>\n",
    "    new_disposable fun () => new_disposable_test <- *new_disposable_test + 1\n",
    "    |> fun x => x : disposable ()\n",
    "    |> use\n",
    "    |> ignore\n",
    "    |> return\n",
    "|> async.new_task\n",
    "|> async.await_task\n",
    "|> async.run_synchronously\n",
    "*new_disposable_test |> _assert_eq 1"
   ]
  },
  {
   "cell_type": "code",
   "execution_count": null,
   "metadata": {
    "dotnet_interactive": {
     "language": "spiral"
    },
    "polyglot_notebook": {
     "kernelName": "spiral"
    }
   },
   "outputs": [
    {
     "name": "stdout",
     "output_type": "stream",
     "text": [
      "assert_eq / actual: 1 / expected: 1\n"
     ]
    }
   ],
   "source": [
    "//// test\n",
    "\n",
    "inl new_disposable_test = mut 0i32\n",
    "fun () =>\n",
    "    new_disposable fun () => new_disposable_test <- *new_disposable_test + 1\n",
    "    |> fun x => x : disposable ()\n",
    "    |> use\n",
    "    |> ignore\n",
    "    |> return\n",
    "|> async.new_async\n",
    "|> async.run_synchronously\n",
    "*new_disposable_test |> _assert_eq 1"
   ]
  },
  {
   "cell_type": "code",
   "execution_count": null,
   "metadata": {
    "dotnet_interactive": {
     "language": "spiral"
    },
    "polyglot_notebook": {
     "kernelName": "spiral"
    }
   },
   "outputs": [
    {
     "name": "stdout",
     "output_type": "stream",
     "text": [
      "assert_eq / actual: 0 / expected: 0\n"
     ]
    }
   ],
   "source": [
    "//// test\n",
    "\n",
    "inl new_disposable_test = mut 0i32\n",
    "fun () =>\n",
    "    new_disposable fun () => new_disposable_test <- *new_disposable_test + 1\n",
    "    |> fun x => x : disposable ()\n",
    "    |> ignore\n",
    "    |> return\n",
    "|> async.new_async\n",
    "|> async.run_synchronously\n",
    "*new_disposable_test |> _assert_eq 0"
   ]
  },
  {
   "cell_type": "markdown",
   "metadata": {},
   "source": [
    "## main"
   ]
  },
  {
   "cell_type": "code",
   "execution_count": null,
   "metadata": {
    "dotnet_interactive": {
     "language": "spiral"
    },
    "polyglot_notebook": {
     "kernelName": "spiral"
    }
   },
   "outputs": [],
   "source": [
    "inl main () =\n",
    "    types ()\n",
    "    init_trace_state None\n",
    "    inl new_disposable x : _ () = new_disposable x\n",
    "    $'let new_disposable x = !new_disposable x' : ()\n",
    "\n",
    "    inl retry_fn (r : i32) (x : () -> _) : optionm'.option' () = retry_fn r x |> optionm'.box\n",
    "    $'let retry_fn x = !retry_fn x' : ()\n",
    "    inl memoize (fn : () -> ()) : () -> () = memoize fn\n",
    "    $'let memoize x = !memoize x' : ()"
   ]
  }
 ],
 "metadata": {},
 "nbformat": 4,
 "nbformat_minor": 5
}