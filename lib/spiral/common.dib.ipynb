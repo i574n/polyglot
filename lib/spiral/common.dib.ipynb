{
 "cells": [
  {
   "cell_type": "markdown",
   "metadata": {},
   "source": [
    "# common"
   ]
  },
  {
   "cell_type": "code",
   "execution_count": null,
   "metadata": {
    "dotnet_interactive": {
     "language": "spiral"
    },
    "polyglot_notebook": {
     "kernelName": "spiral"
    }
   },
   "outputs": [
    {
     "name": "stdout",
     "output_type": "stream",
     "text": [
      "()\n",
      "\n"
     ]
    }
   ],
   "source": [
    "// // test\n",
    "\n",
    "open testing"
   ]
  },
  {
   "cell_type": "markdown",
   "metadata": {},
   "source": [
    "## types"
   ]
  },
  {
   "cell_type": "code",
   "execution_count": null,
   "metadata": {
    "dotnet_interactive": {
     "language": "spiral"
    },
    "polyglot_notebook": {
     "kernelName": "spiral"
    }
   },
   "outputs": [
    {
     "name": "stdout",
     "output_type": "stream",
     "text": [
      "()\n",
      "\n"
     ]
    }
   ],
   "source": [
    "nominal any = $\"obj\"\n",
    "nominal disposable = $\"System.IDisposable\"\n",
    "nominal exn = $\"exn\"\n",
    "nominal unativeint = $\"unativeint\"\n",
    "\n",
    "let array x = x\n",
    "\n",
    "inl unativeint forall t {int}. (n : t) : unativeint =\n",
    "    $\"unativeint !n\""
   ]
  },
  {
   "cell_type": "markdown",
   "metadata": {},
   "source": [
    "## prototype"
   ]
  },
  {
   "cell_type": "code",
   "execution_count": null,
   "metadata": {
    "dotnet_interactive": {
     "language": "spiral"
    },
    "polyglot_notebook": {
     "kernelName": "spiral"
    }
   },
   "outputs": [
    {
     "name": "stdout",
     "output_type": "stream",
     "text": [
      "\n"
     ]
    }
   ],
   "source": [
    "prototype (~:>) r : forall t. t -> r\n",
    "prototype append t : t -> t -> t\n",
    "prototype of_string t : string -> t\n",
    "prototype to_string t : t -> string"
   ]
  },
  {
   "cell_type": "markdown",
   "metadata": {},
   "source": [
    "## null"
   ]
  },
  {
   "cell_type": "code",
   "execution_count": null,
   "metadata": {
    "dotnet_interactive": {
     "language": "spiral"
    },
    "polyglot_notebook": {
     "kernelName": "spiral"
    }
   },
   "outputs": [
    {
     "name": "stdout",
     "output_type": "stream",
     "text": [
      "()\n",
      "\n"
     ]
    }
   ],
   "source": [
    "inl null forall t. () : t =\n",
    "    $\"null |> unbox<`t>\""
   ]
  },
  {
   "cell_type": "code",
   "execution_count": null,
   "metadata": {
    "dotnet_interactive": {
     "language": "spiral"
    },
    "polyglot_notebook": {
     "kernelName": "spiral"
    }
   },
   "outputs": [
    {
     "name": "stdout",
     "output_type": "stream",
     "text": [
      "()\n",
      "\n"
     ]
    }
   ],
   "source": [
    "inl i32 forall t. (x : t) : i32 =\n",
    "    $\"int32 !x\"\n",
    "\n",
    "inl i64 forall t. (x : t) : i64 =\n",
    "    $\"int64 !x\"\n",
    "\n",
    "inl f32 forall t. (x : t) : f32 =\n",
    "    $\"float32 !x\"\n",
    "\n",
    "inl f64 forall t. (x : t) : f64 =\n",
    "    $\"float !x\""
   ]
  },
  {
   "cell_type": "markdown",
   "metadata": {},
   "source": [
    "## pair"
   ]
  },
  {
   "cell_type": "code",
   "execution_count": null,
   "metadata": {
    "dotnet_interactive": {
     "language": "spiral"
    },
    "polyglot_notebook": {
     "kernelName": "spiral"
    }
   },
   "outputs": [
    {
     "name": "stdout",
     "output_type": "stream",
     "text": [
      "()\n",
      "\n"
     ]
    }
   ],
   "source": [
    "type pair a b = $\"(`a * `b)\"\n",
    "\n",
    "inl pair x y =\n",
    "    x, y"
   ]
  },
  {
   "cell_type": "code",
   "execution_count": null,
   "metadata": {
    "dotnet_interactive": {
     "language": "spiral"
    },
    "polyglot_notebook": {
     "kernelName": "spiral"
    }
   },
   "outputs": [
    {
     "name": "stdout",
     "output_type": "stream",
     "text": [
      "let rec method0 () : unit =\n",
      "    let v0 : string = $\"%A{struct (1, 2)}\"\n",
      "    System.Console.WriteLine v0\n",
      "    let v1 : string = $\"__expect / actual: %A{struct (1, 2)} / expected: %A{struct (1, 2)}\"\n",
      "    ()\n",
      "method0()\n",
      "\n",
      "struct (1, 2)\n"
     ]
    }
   ],
   "source": [
    "// // test\n",
    "\n",
    "pair 1i32 2i32\n",
    "|> _assert_eq (1, 2)"
   ]
  },
  {
   "cell_type": "markdown",
   "metadata": {},
   "source": [
    "## new_pair"
   ]
  },
  {
   "cell_type": "code",
   "execution_count": null,
   "metadata": {
    "dotnet_interactive": {
     "language": "spiral"
    },
    "polyglot_notebook": {
     "kernelName": "spiral"
    }
   },
   "outputs": [
    {
     "name": "stdout",
     "output_type": "stream",
     "text": [
      "()\n",
      "\n"
     ]
    }
   ],
   "source": [
    "inl new_pair forall a b. (a : a) (b : b) : pair a b =\n",
    "    $\"!a, !b\""
   ]
  },
  {
   "cell_type": "markdown",
   "metadata": {},
   "source": [
    "## from_pair"
   ]
  },
  {
   "cell_type": "code",
   "execution_count": null,
   "metadata": {
    "dotnet_interactive": {
     "language": "spiral"
    },
    "polyglot_notebook": {
     "kernelName": "spiral"
    }
   },
   "outputs": [
    {
     "name": "stdout",
     "output_type": "stream",
     "text": [
      "()\n",
      "\n"
     ]
    }
   ],
   "source": [
    "inl from_pair forall a b. (pair : pair a b) : a * b =\n",
    "    $\"let (a, b) = !pair\"\n",
    "    $\"a\", $\"b\""
   ]
  },
  {
   "cell_type": "code",
   "execution_count": null,
   "metadata": {
    "dotnet_interactive": {
     "language": "spiral"
    },
    "polyglot_notebook": {
     "kernelName": "spiral"
    }
   },
   "outputs": [
    {
     "name": "stdout",
     "output_type": "stream",
     "text": [
      "let rec method1 (v0 : bool) : bool =\n",
      "    v0\n",
      "and method0 () : unit =\n",
      "    let v0 : string = \"a\"\n",
      "    let v1 : (string * int32) = v0, 1\n",
      "    let (a, b) = v1\n",
      "    let v2 : string = a\n",
      "    let v3 : int32 = b\n",
      "    let v4 : string = $\"%A{struct (v2, v3)}\"\n",
      "    System.Console.WriteLine v4\n",
      "    let v5 : bool = v2 = \"a\"\n",
      "    let v7 : bool =\n",
      "        if v5 then\n",
      "            let v6 : bool = v3 = 1\n",
      "            v6\n",
      "        else\n",
      "            false\n",
      "    let v9 : bool =\n",
      "        if v7 then\n",
      "            true\n",
      "        else\n",
      "            method1(v7)\n",
      "    let v10 : string = $\"__expect / actual: %A{struct (v2, v3)} / expected: %A{struct (v0, 1)}\"\n",
      "    let v11 : bool = v9 = false\n",
      "    if v11 then\n",
      "        failwith<unit> v10\n",
      "method0()\n",
      "\n",
      "struct (\"a\", 1)\n"
     ]
    }
   ],
   "source": [
    "// // test\n",
    "\n",
    "new_pair \"a\" 1i32\n",
    "|> from_pair\n",
    "|> _assert_eq (\"a\", 1i32)"
   ]
  },
  {
   "cell_type": "code",
   "execution_count": null,
   "metadata": {
    "dotnet_interactive": {
     "language": "spiral"
    },
    "polyglot_notebook": {
     "kernelName": "spiral"
    }
   },
   "outputs": [
    {
     "data": {
      "text/html": [
       "<details open=\"open\" class=\"dni-treeview\"><summary><span class=\"dni-code-hint\"><code>(a, (1, b))</code></span></summary><div><table><thead><tr></tr></thead><tbody><tr><td>Item1</td><td><div class=\"dni-plaintext\"><pre>a</pre></div></td></tr><tr><td>Item2</td><td><details class=\"dni-treeview\"><summary><span class=\"dni-code-hint\"><code>(1, b)</code></span></summary><div><table><thead><tr></tr></thead><tbody><tr><td>Item1</td><td><div class=\"dni-plaintext\"><pre>1</pre></div></td></tr><tr><td>Item2</td><td><div class=\"dni-plaintext\"><pre>b</pre></div></td></tr></tbody></table></div></details></td></tr></tbody></table></div></details><style>\n",
       ".dni-code-hint {\n",
       "    font-style: italic;\n",
       "    overflow: hidden;\n",
       "    white-space: nowrap;\n",
       "}\n",
       ".dni-treeview {\n",
       "    white-space: nowrap;\n",
       "}\n",
       ".dni-treeview td {\n",
       "    vertical-align: top;\n",
       "    text-align: start;\n",
       "}\n",
       "details.dni-treeview {\n",
       "    padding-left: 1em;\n",
       "}\n",
       "table td {\n",
       "    text-align: start;\n",
       "}\n",
       "table tr { \n",
       "    vertical-align: top; \n",
       "    margin: 0em 0px;\n",
       "}\n",
       "table tr td pre \n",
       "{ \n",
       "    vertical-align: top !important; \n",
       "    margin: 0em 0px !important;\n",
       "} \n",
       "table th {\n",
       "    text-align: start;\n",
       "}\n",
       "</style>"
      ]
     },
     "metadata": {},
     "output_type": "display_data"
    },
    {
     "name": "stdout",
     "output_type": "stream",
     "text": [
      "let rec method0 () : struct (string * (int32 * string)) =\n",
      "    let v0 : string = \"b\"\n",
      "    let v1 : (int32 * string) = 1, v0\n",
      "    let v2 : string = \"a\"\n",
      "    let v3 : (string * (int32 * string)) = v2, v1\n",
      "    let (a, b) = v3\n",
      "    let v4 : string = a\n",
      "    let v5 : (int32 * string) = b\n",
      "    struct (v4, v5)\n",
      "method0()\n",
      "\n"
     ]
    }
   ],
   "source": [
    "// // test\n",
    "\n",
    "new_pair \"a\" (new_pair 1i32 \"b\")\n",
    "|> from_pair"
   ]
  },
  {
   "cell_type": "markdown",
   "metadata": {},
   "source": [
    "## log_level_type"
   ]
  },
  {
   "cell_type": "code",
   "execution_count": null,
   "metadata": {
    "dotnet_interactive": {
     "language": "spiral"
    },
    "polyglot_notebook": {
     "kernelName": "spiral"
    }
   },
   "outputs": [
    {
     "name": "stdout",
     "output_type": "stream",
     "text": [
      "()\n",
      "\n"
     ]
    }
   ],
   "source": [
    "union log_level_type =\n",
    "    | Verbose\n",
    "    | Debug\n",
    "    | Info\n",
    "    | Warning\n",
    "    | Critical\n",
    "\n",
    "instance to_string log_level_type = function\n",
    "    | Verbose => \"Verbose\"\n",
    "    | Debug => \"Debug\"\n",
    "    | Info => \"Info\"\n",
    "    | Warning => \"Warning\"\n",
    "    | Critical => \"Critical\"\n",
    "\n",
    "instance of_string log_level_type = function\n",
    "    | \"Verbose\" => Verbose\n",
    "    | \"Debug\" => Debug\n",
    "    | \"Info\" => Info\n",
    "    | \"Warning\" => Warning\n",
    "    | \"Critical\" => Critical"
   ]
  },
  {
   "cell_type": "markdown",
   "metadata": {},
   "source": [
    "## to_any"
   ]
  },
  {
   "cell_type": "code",
   "execution_count": null,
   "metadata": {
    "dotnet_interactive": {
     "language": "spiral"
    },
    "polyglot_notebook": {
     "kernelName": "spiral"
    }
   },
   "outputs": [
    {
     "name": "stdout",
     "output_type": "stream",
     "text": [
      "()\n",
      "\n"
     ]
    }
   ],
   "source": [
    "inl to_any forall t. (obj : t) : any =\n",
    "    $\"!obj\"\n",
    "\n",
    "instance (~:>) any = to_any"
   ]
  },
  {
   "cell_type": "markdown",
   "metadata": {},
   "source": [
    "## (/@)"
   ]
  },
  {
   "cell_type": "code",
   "execution_count": null,
   "metadata": {
    "dotnet_interactive": {
     "language": "spiral"
    },
    "polyglot_notebook": {
     "kernelName": "spiral"
    }
   },
   "outputs": [
    {
     "name": "stdout",
     "output_type": "stream",
     "text": [
      "()\n",
      "\n"
     ]
    }
   ],
   "source": [
    "inl (/@) a b =\n",
    "    b |> append a"
   ]
  },
  {
   "cell_type": "markdown",
   "metadata": {},
   "source": [
    "## unbox"
   ]
  },
  {
   "cell_type": "code",
   "execution_count": null,
   "metadata": {
    "dotnet_interactive": {
     "language": "spiral"
    },
    "polyglot_notebook": {
     "kernelName": "spiral"
    }
   },
   "outputs": [
    {
     "name": "stdout",
     "output_type": "stream",
     "text": [
      "()\n",
      "\n"
     ]
    }
   ],
   "source": [
    "inl unbox forall t u. (x : t) : u =\n",
    "    $\"!x |> unbox<`u>\""
   ]
  },
  {
   "cell_type": "markdown",
   "metadata": {},
   "source": [
    "## (/+)"
   ]
  },
  {
   "cell_type": "code",
   "execution_count": null,
   "metadata": {
    "dotnet_interactive": {
     "language": "spiral"
    },
    "polyglot_notebook": {
     "kernelName": "spiral"
    }
   },
   "outputs": [
    {
     "name": "stdout",
     "output_type": "stream",
     "text": [
      "()\n",
      "\n"
     ]
    }
   ],
   "source": [
    "inl (/+) forall t. (a : t) (b : t) : t =\n",
    "    $\"!a + !b\""
   ]
  },
  {
   "cell_type": "markdown",
   "metadata": {},
   "source": [
    "## (/=)"
   ]
  },
  {
   "cell_type": "code",
   "execution_count": null,
   "metadata": {
    "dotnet_interactive": {
     "language": "spiral"
    },
    "polyglot_notebook": {
     "kernelName": "spiral"
    }
   },
   "outputs": [
    {
     "name": "stdout",
     "output_type": "stream",
     "text": [
      "()\n",
      "\n"
     ]
    }
   ],
   "source": [
    "inl (/=) forall t. (a : t) (b : t) : bool =\n",
    "    $\"!a = !b\""
   ]
  },
  {
   "cell_type": "markdown",
   "metadata": {},
   "source": [
    "## (||>)"
   ]
  },
  {
   "cell_type": "code",
   "execution_count": null,
   "metadata": {
    "dotnet_interactive": {
     "language": "spiral"
    },
    "polyglot_notebook": {
     "kernelName": "spiral"
    }
   },
   "outputs": [
    {
     "name": "stdout",
     "output_type": "stream",
     "text": [
      "()\n",
      "\n"
     ]
    }
   ],
   "source": [
    "inl (||>) (arg1, arg2) fn =\n",
    "    arg2 |> fn arg1"
   ]
  },
  {
   "cell_type": "code",
   "execution_count": null,
   "metadata": {
    "dotnet_interactive": {
     "language": "spiral"
    },
    "polyglot_notebook": {
     "kernelName": "spiral"
    }
   },
   "outputs": [
    {
     "name": "stdout",
     "output_type": "stream",
     "text": [
      "let rec method0 () : unit =\n",
      "    let v0 : string = $\"%A{1}\"\n",
      "    System.Console.WriteLine v0\n",
      "    let v1 : string = $\"__expect / actual: %A{1} / expected: %A{1}\"\n",
      "    ()\n",
      "method0()\n",
      "\n",
      "1\n"
     ]
    }
   ],
   "source": [
    "// // test\n",
    "\n",
    "(3i32, 2i32)\n",
    "||> fun a b => a - b\n",
    "|> _assert_eq 1"
   ]
  },
  {
   "cell_type": "markdown",
   "metadata": {},
   "source": [
    "## flip"
   ]
  },
  {
   "cell_type": "code",
   "execution_count": null,
   "metadata": {
    "dotnet_interactive": {
     "language": "spiral"
    },
    "polyglot_notebook": {
     "kernelName": "spiral"
    }
   },
   "outputs": [
    {
     "name": "stdout",
     "output_type": "stream",
     "text": [
      "()\n",
      "\n"
     ]
    }
   ],
   "source": [
    "inl flip fn a b =\n",
    "    fn b a"
   ]
  },
  {
   "cell_type": "code",
   "execution_count": null,
   "metadata": {
    "dotnet_interactive": {
     "language": "spiral"
    },
    "polyglot_notebook": {
     "kernelName": "spiral"
    }
   },
   "outputs": [
    {
     "name": "stdout",
     "output_type": "stream",
     "text": [
      "let rec method0 () : unit =\n",
      "    let v0 : string = $\"%A{struct (2, 1)}\"\n",
      "    System.Console.WriteLine v0\n",
      "    let v1 : string = $\"__expect / actual: %A{struct (2, 1)} / expected: %A{struct (2, 1)}\"\n",
      "    ()\n",
      "method0()\n",
      "\n",
      "struct (2, 1)\n"
     ]
    }
   ],
   "source": [
    "// // test\n",
    "\n",
    "(1i32, 2i32)\n",
    "||> flip pair\n",
    "|> _assert_eq (2, 1)"
   ]
  },
  {
   "cell_type": "markdown",
   "metadata": {},
   "source": [
    "## join_body"
   ]
  },
  {
   "cell_type": "code",
   "execution_count": null,
   "metadata": {
    "dotnet_interactive": {
     "language": "spiral"
    },
    "polyglot_notebook": {
     "kernelName": "spiral"
    }
   },
   "outputs": [
    {
     "name": "stdout",
     "output_type": "stream",
     "text": [
      "()\n",
      "\n"
     ]
    }
   ],
   "source": [
    "inl join_body body acc x =\n",
    "    if var_is x |> not\n",
    "    then body acc x\n",
    "    else\n",
    "        inl acc = dyn acc\n",
    "        join body acc x"
   ]
  },
  {
   "cell_type": "code",
   "execution_count": null,
   "metadata": {
    "dotnet_interactive": {
     "language": "spiral"
    },
    "polyglot_notebook": {
     "kernelName": "spiral"
    }
   },
   "outputs": [
    {
     "name": "stdout",
     "output_type": "stream",
     "text": [
      "()\n",
      "\n"
     ]
    }
   ],
   "source": [
    "// // test\n",
    "\n",
    "inl rec fold_list f s = function\n",
    "    | Cons (x, x') => fold_list f (f s x) x'\n",
    "    | Nil => s"
   ]
  },
  {
   "cell_type": "code",
   "execution_count": null,
   "metadata": {
    "dotnet_interactive": {
     "language": "spiral"
    },
    "polyglot_notebook": {
     "kernelName": "spiral"
    }
   },
   "outputs": [
    {
     "name": "stdout",
     "output_type": "stream",
     "text": [
      "let rec method1 () : int32 =\n",
      "    3\n",
      "and method2 (v0 : bool) : bool =\n",
      "    v0\n",
      "and method0 () : unit =\n",
      "    let v0 : int32 = method1()\n",
      "    let v1 : int32 = 9 + v0\n",
      "    let v2 : int32 = v1 + 2\n",
      "    let v3 : int32 = v2 + 1\n",
      "    let v4 : string = $\"%A{v3}\"\n",
      "    System.Console.WriteLine v4\n",
      "    let v5 : bool = v3 = 15\n",
      "    let v7 : bool =\n",
      "        if v5 then\n",
      "            true\n",
      "        else\n",
      "            method2(v5)\n",
      "    let v8 : string = $\"__expect / actual: %A{v3} / expected: %A{15}\"\n",
      "    let v9 : bool = v7 = false\n",
      "    if v9 then\n",
      "        failwith<unit> v8\n",
      "method0()\n",
      "\n",
      "15\n"
     ]
    }
   ],
   "source": [
    "// // test\n",
    "\n",
    "[5i32; 4; join 3; 2; 1]\n",
    "|> fold_list (+) 0\n",
    "|> _assert_eq 15"
   ]
  },
  {
   "cell_type": "code",
   "execution_count": null,
   "metadata": {
    "dotnet_interactive": {
     "language": "spiral"
    },
    "polyglot_notebook": {
     "kernelName": "spiral"
    }
   },
   "outputs": [
    {
     "name": "stdout",
     "output_type": "stream",
     "text": [
      "let rec method1 () : int32 =\n",
      "    3\n",
      "and method2 (v0 : int32, v1 : int32) : int32 =\n",
      "    let v2 : int32 = v1 + v0\n",
      "    v2\n",
      "and method3 (v0 : bool) : bool =\n",
      "    v0\n",
      "and method0 () : unit =\n",
      "    let v0 : int32 = method1()\n",
      "    let v1 : int32 = 9\n",
      "    let v2 : int32 = method2(v0, v1)\n",
      "    let v3 : int32 = v2 + 2\n",
      "    let v4 : int32 = v3 + 1\n",
      "    let v5 : string = $\"%A{v4}\"\n",
      "    System.Console.WriteLine v5\n",
      "    let v6 : bool = v4 = 15\n",
      "    let v8 : bool =\n",
      "        if v6 then\n",
      "            true\n",
      "        else\n",
      "            method3(v6)\n",
      "    let v9 : string = $\"__expect / actual: %A{v4} / expected: %A{15}\"\n",
      "    let v10 : bool = v8 = false\n",
      "    if v10 then\n",
      "        failwith<unit> v9\n",
      "method0()\n",
      "\n",
      "15\n"
     ]
    }
   ],
   "source": [
    "// // test\n",
    "\n",
    "[5i32; 4; join 3; 2; 1]\n",
    "|> fold_list (join_body (+)) 0\n",
    "|> _assert_eq 15"
   ]
  },
  {
   "cell_type": "markdown",
   "metadata": {},
   "source": [
    "## join_body_unit"
   ]
  },
  {
   "cell_type": "code",
   "execution_count": null,
   "metadata": {
    "dotnet_interactive": {
     "language": "spiral"
    },
    "polyglot_notebook": {
     "kernelName": "spiral"
    }
   },
   "outputs": [
    {
     "name": "stdout",
     "output_type": "stream",
     "text": [
      "()\n",
      "\n"
     ]
    }
   ],
   "source": [
    "inl join_body_unit body d x =\n",
    "    if var_is d |> not\n",
    "    then body x\n",
    "    else\n",
    "        inl x = dyn x\n",
    "        join body x"
   ]
  },
  {
   "cell_type": "code",
   "execution_count": null,
   "metadata": {
    "dotnet_interactive": {
     "language": "spiral"
    },
    "polyglot_notebook": {
     "kernelName": "spiral"
    }
   },
   "outputs": [
    {
     "name": "stdout",
     "output_type": "stream",
     "text": [
      "let rec method1 () : int32 =\n",
      "    3\n",
      "and method2 (v0 : int32) : int32 =\n",
      "    let v1 : int32 = 9 + v0\n",
      "    v1\n",
      "and method3 (v0 : bool) : bool =\n",
      "    v0\n",
      "and method0 () : unit =\n",
      "    let v0 : int32 = method1()\n",
      "    let v1 : int32 = method2(v0)\n",
      "    let v2 : int32 = v1 + 2\n",
      "    let v3 : int32 = v2 + 1\n",
      "    let v4 : string = $\"%A{v3}\"\n",
      "    System.Console.WriteLine v4\n",
      "    let v5 : bool = v3 = 15\n",
      "    let v7 : bool =\n",
      "        if v5 then\n",
      "            true\n",
      "        else\n",
      "            method3(v5)\n",
      "    let v8 : string = $\"__expect / actual: %A{v3} / expected: %A{15}\"\n",
      "    let v9 : bool = v7 = false\n",
      "    if v9 then\n",
      "        failwith<unit> v8\n",
      "method0()\n",
      "\n",
      "15\n"
     ]
    }
   ],
   "source": [
    "// // test\n",
    "\n",
    "[5i32; 4; join 3; 2; 1]\n",
    "|> fold_list (fun acc n => join_body_unit ((+) acc) n n) 0\n",
    "|> _assert_eq 15"
   ]
  },
  {
   "cell_type": "markdown",
   "metadata": {},
   "source": [
    "## run_target"
   ]
  },
  {
   "cell_type": "code",
   "execution_count": null,
   "metadata": {
    "dotnet_interactive": {
     "language": "spiral"
    },
    "polyglot_notebook": {
     "kernelName": "spiral"
    }
   },
   "outputs": [
    {
     "name": "stdout",
     "output_type": "stream",
     "text": [
      "()\n",
      "\n"
     ]
    }
   ],
   "source": [
    "union target_runtime =\n",
    "    | Native\n",
    "    | Wasm\n",
    "    | Fable\n",
    "\n",
    "union target =\n",
    "    | Rust : target_runtime\n",
    "    | Fsharp : target_runtime\n",
    "\n",
    "inl run_target forall t. (fn : target -> (() -> t)) : t =\n",
    "    $\"let mutable result = None\"\n",
    "    $\"#if FABLE_COMPILER_RUST && \\!WASM\"\n",
    "    fn (Rust Native) () |> fun x => $\"!x\"\n",
    "    $\"#endif\"\n",
    "    $\"#if FABLE_COMPILER_RUST && WASM\"\n",
    "    fn (Rust Wasm) () |> fun x => $\"!x\"\n",
    "    $\"#endif\"\n",
    "    $\"#if \\!FABLE_COMPILER && \\!FABLE_COMPILER_RUST && \\!WASM\"\n",
    "    fn (Fsharp Native) () |> fun x => $\"!x\"\n",
    "    $\"#endif\"\n",
    "    $\"#if FABLE_COMPILER && \\!FABLE_COMPILER_RUST && \\!WASM\"\n",
    "    fn (Fsharp Fable) () |> fun x => $\"!x\"\n",
    "    $\"#endif\"\n",
    "    $\"#if \\!FABLE_COMPILER_RUST && WASM\"\n",
    "    fn (Fsharp Wasm) () |> fun x => $\"!x\"\n",
    "    $\"#endif\"\n",
    "    $\"|> fun x -> result <- Some x\"\n",
    "    $\"result |> Option.get\""
   ]
  },
  {
   "cell_type": "code",
   "execution_count": null,
   "metadata": {
    "dotnet_interactive": {
     "language": "spiral"
    },
    "polyglot_notebook": {
     "kernelName": "spiral"
    }
   },
   "outputs": [
    {
     "name": "stdout",
     "output_type": "stream",
     "text": [
      "let rec method1 (v0 : bool) : bool =\n",
      "    v0\n",
      "and method0 () : unit =\n",
      "    let mutable result = None\n",
      "    #if FABLE_COMPILER_RUST && !WASM\n",
      "    let v0 : uint8 = 2uy\n",
      "    v0\n",
      "    #endif\n",
      "    #if FABLE_COMPILER_RUST && WASM\n",
      "    let v1 : uint8 = 2uy\n",
      "    v1\n",
      "    #endif\n",
      "    #if !FABLE_COMPILER && !FABLE_COMPILER_RUST && !WASM\n",
      "    let v2 : uint8 = 1uy\n",
      "    v2\n",
      "    #endif\n",
      "    #if FABLE_COMPILER && !FABLE_COMPILER_RUST && !WASM\n",
      "    let v3 : uint8 = 2uy\n",
      "    v3\n",
      "    #endif\n",
      "    #if !FABLE_COMPILER_RUST && WASM\n",
      "    let v4 : uint8 = 2uy\n",
      "    v4\n",
      "    #endif\n",
      "    |> fun x -> result <- Some x\n",
      "    let v5 : uint8 = result |> Option.get\n",
      "    let v6 : string = $\"%A{v5}\"\n",
      "    System.Console.WriteLine v6\n",
      "    let v7 : bool = v5 = 1uy\n",
      "    let v9 : bool =\n",
      "        if v7 then\n",
      "            true\n",
      "        else\n",
      "            method1(v7)\n",
      "    let v10 : string = $\"__expect / actual: %A{v5} / expected: %A{1uy}\"\n",
      "    let v11 : bool = v9 = false\n",
      "    if v11 then\n",
      "        failwith<unit> v10\n",
      "method0()\n",
      "\n",
      "1uy\n"
     ]
    }
   ],
   "source": [
    "// // test\n",
    "\n",
    "run_target function\n",
    "    | Fsharp (Native) => fun () => $\"1uy\"\n",
    "    | _ => fun () => $\"2uy\"\n",
    "|> _assert_eq 1u8"
   ]
  },
  {
   "cell_type": "code",
   "execution_count": null,
   "metadata": {
    "dotnet_interactive": {
     "language": "spiral"
    },
    "polyglot_notebook": {
     "kernelName": "spiral"
    }
   },
   "outputs": [
    {
     "data": {
      "text/plain": [
       ".rs output:\n",
       "true\n"
      ]
     },
     "metadata": {},
     "output_type": "display_data"
    },
    {
     "name": "stdout",
     "output_type": "stream",
     "text": [
      "\n",
      ".fsx:\n",
      "let rec method1 (v0 : bool) : bool =\n",
      "    v0\n",
      "and method0 () : unit =\n",
      "    let mutable result = None\n",
      "    #if FABLE_COMPILER_RUST && !WASM\n",
      "    let v0 : uint8 = 1uy\n",
      "    v0\n",
      "    #endif\n",
      "    #if FABLE_COMPILER_RUST && WASM\n",
      "    let v1 : uint8 = 2uy\n",
      "    v1\n",
      "    #endif\n",
      "    #if !FABLE_COMPILER && !FABLE_COMPILER_RUST && !WASM\n",
      "    let v2 : uint8 = 2uy\n",
      "    v2\n",
      "    #endif\n",
      "    #if FABLE_COMPILER && !FABLE_COMPILER_RUST && !WASM\n",
      "    let v3 : uint8 = 2uy\n",
      "    v3\n",
      "    #endif\n",
      "    #if !FABLE_COMPILER_RUST && WASM\n",
      "    let v4 : uint8 = 2uy\n",
      "    v4\n",
      "    #endif\n",
      "    |> fun x -> result <- Some x\n",
      "    let v5 : uint8 = result |> Option.get\n",
      "    let v6 : bool = 1uy = v5\n",
      "    let v7 : string = $\"%A{v6}\"\n",
      "    System.Console.WriteLine v7\n",
      "    let v9 : bool =\n",
      "        if v6 then\n",
      "            true\n",
      "        else\n",
      "            method1(v6)\n",
      "    let v10 : string = $\"__expect / actual: %A{v6} / expected: %A{true}\"\n",
      "    let v11 : bool = v9 = false\n",
      "    if v11 then\n",
      "        failwith<unit> v10\n",
      "method0()\n",
      "\n",
      "\n",
      ".rs:\n",
      "#![allow(dead_code,)]\n",
      "#![allow(non_camel_case_types,)]\n",
      "#![allow(non_snake_case,)]\n",
      "#![allow(non_upper_case_globals,)]\n",
      "#![allow(unreachable_code,)]\n",
      "#![allow(unused_attributes,)]\n",
      "#![allow(unused_imports,)]\n",
      "#![allow(unused_macros,)]\n",
      "#![allow(unused_parens,)]\n",
      "#![allow(unused_variables,)]\n",
      "mod module_ccfa04bf {\n",
      "    pub mod Spiral_eval {\n",
      "        use super::*;\n",
      "        use fable_library_rust::Native_::MutCell;\n",
      "        use fable_library_rust::Native_::on_startup;\n",
      "        use fable_library_rust::Option_::getValue;\n",
      "        use fable_library_rust::String_::printfn;\n",
      "        use fable_library_rust::String_::sprintf;\n",
      "        use fable_library_rust::String_::string;\n",
      "        pub fn method1(v0: bool) -> bool { v0 }\n",
      "        pub fn method0() {\n",
      "            let result: MutCell<Option<u8>> = MutCell::new(None::<u8>);\n",
      "            result.set(Some(1_u8));\n",
      "            {\n",
      "                let v6: bool = 1_u8 == getValue(result.get().clone());\n",
      "                let v7: string = sprintf!(\"{:?}\", v6);\n",
      "                printfn!(\"{0}\", v7);\n",
      "                if (if v6 { true } else { Spiral_eval::method1(v6) }) == false\n",
      "                   {\n",
      "                    panic!(\"{}\",\n",
      "                           sprintf!(\"__expect / actual: {:?} / expected: {:?}\", v6, true));\n",
      "                }\n",
      "            }\n",
      "        }\n",
      "        on_startup!(Spiral_eval::method0());\n",
      "    }\n",
      "}\n",
      "pub use module_ccfa04bf::*;\n",
      "\n"
     ]
    }
   ],
   "source": [
    "// // test\n",
    "// // rust=\n",
    "\n",
    "run_target function\n",
    "    | Rust (Native) => fun () => $\"1uy\"\n",
    "    | _ => fun () => $\"2uy\"\n",
    "|> (=) 1u8\n",
    "|> _assert_eq true"
   ]
  },
  {
   "cell_type": "markdown",
   "metadata": {},
   "source": [
    "## nameof"
   ]
  },
  {
   "cell_type": "code",
   "execution_count": null,
   "metadata": {
    "dotnet_interactive": {
     "language": "spiral"
    },
    "polyglot_notebook": {
     "kernelName": "spiral"
    }
   },
   "outputs": [
    {
     "name": "stdout",
     "output_type": "stream",
     "text": [
      "()\n",
      "\n"
     ]
    }
   ],
   "source": [
    "inl nameof x : string =\n",
    "    $\"nameof !x\""
   ]
  },
  {
   "cell_type": "markdown",
   "metadata": {},
   "source": [
    "## get_environment_variable"
   ]
  },
  {
   "cell_type": "code",
   "execution_count": null,
   "metadata": {
    "dotnet_interactive": {
     "language": "spiral"
    },
    "polyglot_notebook": {
     "kernelName": "spiral"
    }
   },
   "outputs": [
    {
     "name": "stdout",
     "output_type": "stream",
     "text": [
      "()\n",
      "\n"
     ]
    }
   ],
   "source": [
    "inl get_environment_variable (var : string) : string =\n",
    "    $\"System.Environment.GetEnvironmentVariable !var\""
   ]
  },
  {
   "cell_type": "markdown",
   "metadata": {},
   "source": [
    "## memoize"
   ]
  },
  {
   "cell_type": "code",
   "execution_count": null,
   "metadata": {
    "dotnet_interactive": {
     "language": "spiral"
    },
    "polyglot_notebook": {
     "kernelName": "spiral"
    }
   },
   "outputs": [
    {
     "name": "stdout",
     "output_type": "stream",
     "text": [
      "()\n",
      "\n"
     ]
    }
   ],
   "source": [
    "nominal lazy t = $'Lazy<`t>'\n",
    "\n",
    "inl memoize forall t. (fn : () -> t) : () -> t =\n",
    "    inl result : lazy t = $'lazy !fn ()'\n",
    "    fun () => $'!result.Value'"
   ]
  },
  {
   "cell_type": "code",
   "execution_count": null,
   "metadata": {
    "dotnet_interactive": {
     "language": "spiral"
    },
    "polyglot_notebook": {
     "kernelName": "spiral"
    }
   },
   "outputs": [
    {
     "name": "stdout",
     "output_type": "stream",
     "text": [
      "type Mut0 = {mutable l0 : int32}\n",
      "let rec closure0 (v0 : Mut0) () : unit =\n",
      "    let v1 : int32 = v0.l0\n",
      "    let v2 : int32 = v1 + 1\n",
      "    v0.l0 <- v2\n",
      "    ()\n",
      "and method1 (v0 : bool) : bool =\n",
      "    v0\n",
      "and method0 () : unit =\n",
      "    let v0 : Mut0 = {l0 = 0} : Mut0\n",
      "    let v1 : (unit -> unit) = closure0(v0)\n",
      "    let v2 : Lazy<unit> = lazy v1 ()\n",
      "    v2.Value\n",
      "    v2.Value\n",
      "    v2.Value\n",
      "    let v3 : int32 = v0.l0\n",
      "    let v4 : string = $\"%A{v3}\"\n",
      "    System.Console.WriteLine v4\n",
      "    let v5 : bool = v3 = 1\n",
      "    let v7 : bool =\n",
      "        if v5 then\n",
      "            true\n",
      "        else\n",
      "            method1(v5)\n",
      "    let v8 : string = $\"__expect / actual: %A{v3} / expected: %A{1}\"\n",
      "    let v9 : bool = v7 = false\n",
      "    if v9 then\n",
      "        failwith<unit> v8\n",
      "method0()\n",
      "\n",
      "1\n"
     ]
    }
   ],
   "source": [
    "// // test\n",
    "\n",
    "inl count = mut 0i32\n",
    "inl add =\n",
    "    fun () => count <- *count + 1\n",
    "    |> memoize\n",
    "\n",
    "add ()\n",
    "add ()\n",
    "add ()\n",
    "\n",
    "*count\n",
    "|> _assert_eq 1"
   ]
  },
  {
   "cell_type": "code",
   "execution_count": null,
   "metadata": {
    "dotnet_interactive": {
     "language": "spiral"
    },
    "polyglot_notebook": {
     "kernelName": "spiral"
    }
   },
   "outputs": [
    {
     "name": "stdout",
     "output_type": "stream",
     "text": [
      "type [<Struct>] US0 =\n",
      "    | US0_0\n",
      "    | US0_1 of f1_0 : exn\n",
      "and [<Struct>] US1 =\n",
      "    | US1_0\n",
      "    | US1_1 of f1_0 : string\n",
      "let rec closure0 () () : unit =\n",
      "    failwith<unit> \"test\"\n",
      "and closure1 () (v0 : exn) : US0 =\n",
      "    US0_1(v0)\n",
      "and method1 (v0 : bool) : bool =\n",
      "    v0\n",
      "and method0 () : unit =\n",
      "    let v0 : (unit -> unit) = closure0()\n",
      "    let v1 : US0 = US0_0\n",
      "    let v2 : (exn -> US0) = closure1()\n",
      "    let v3 : US0 = try v0 (); v1 with ex -> ex |> v2\n",
      "    let v14 : US1 =\n",
      "        match v3 with\n",
      "        | US0_0 -> (* None *)\n",
      "            US1_0\n",
      "        | US0_1(v4) -> (* Some *)\n",
      "            let mutable result = None\n",
      "            #if FABLE_COMPILER_RUST && !WASM\n",
      "            let v5 : string = $\"%A{v4}\"\n",
      "            v5\n",
      "            #endif\n",
      "            #if FABLE_COMPILER_RUST && WASM\n",
      "            let v6 : string = $\"%A{v4}\"\n",
      "            v6\n",
      "            #endif\n",
      "            #if !FABLE_COMPILER && !FABLE_COMPILER_RUST && !WASM\n",
      "            let v7 : string = $\"{v4.GetType ()}: {v4.Message}\"\n",
      "            v7\n",
      "            #endif\n",
      "            #if FABLE_COMPILER && !FABLE_COMPILER_RUST && !WASM\n",
      "            let v8 : string = $\"%A{v4}\"\n",
      "            v8\n",
      "            #endif\n",
      "            #if !FABLE_COMPILER_RUST && WASM\n",
      "            let v9 : string = $\"%A{v4}\"\n",
      "            v9\n",
      "            #endif\n",
      "            |> fun x -> result <- Some x\n",
      "            let v10 : string = result |> Option.get\n",
      "            US1_1(v10)\n",
      "    let v15 : string = $\"%A{v14}\"\n",
      "    System.Console.WriteLine v15\n",
      "    let v20 : bool =\n",
      "        match v14 with\n",
      "        | US1_1(v18) -> (* Some *)\n",
      "            let v19 : bool = v18 = \"System.Exception: test\"\n",
      "            v19\n",
      "        | _ ->\n",
      "            false\n",
      "    let v22 : bool =\n",
      "        if v20 then\n",
      "            true\n",
      "        else\n",
      "            method1(v20)\n",
      "    let v23 : string = \"System.Exception: test\"\n",
      "    let v24 : US1 = US1_1(v23)\n",
      "    let v25 : string = $\"__expect / actual: %A{v14} / expected: %A{v24}\"\n",
      "    let v26 : bool = v22 = false\n",
      "    if v26 then\n",
      "        failwith<unit> v25\n",
      "method0()\n",
      "\n",
      "US1_1 \"System.Exception: test\"\n"
     ]
    }
   ],
   "source": [
    "// // test\n",
    "\n",
    "fun () => failwith \"test\"\n",
    "|> _throws\n",
    "|> optionm.map sm'.format_exception\n",
    "|> _assert_eq (Some \"System.Exception: test\")"
   ]
  },
  {
   "cell_type": "markdown",
   "metadata": {},
   "source": [
    "## use_disposable"
   ]
  },
  {
   "cell_type": "code",
   "execution_count": null,
   "metadata": {
    "dotnet_interactive": {
     "language": "spiral"
    },
    "polyglot_notebook": {
     "kernelName": "spiral"
    }
   },
   "outputs": [
    {
     "name": "stdout",
     "output_type": "stream",
     "text": [
      "()\n",
      "\n"
     ]
    }
   ],
   "source": [
    "inl use_disposable (disposable : disposable) : disposable =\n",
    "    $\"use !disposable = !disposable\" : ()\n",
    "    $\"!disposable\""
   ]
  },
  {
   "cell_type": "markdown",
   "metadata": {},
   "source": [
    "## new_disposable"
   ]
  },
  {
   "cell_type": "code",
   "execution_count": null,
   "metadata": {
    "dotnet_interactive": {
     "language": "spiral"
    },
    "polyglot_notebook": {
     "kernelName": "spiral"
    }
   },
   "outputs": [
    {
     "name": "stdout",
     "output_type": "stream",
     "text": [
      "()\n",
      "\n"
     ]
    }
   ],
   "source": [
    "inl new_disposable (fn : () -> ()) : disposable =\n",
    "    run_target function\n",
    "        | Fsharp _ => fun () => $'{ new System.IDisposable with member _.Dispose () = !fn () }'\n",
    "        | Rust _ =>\n",
    "            inl fn = join fn\n",
    "            fun () => $'{ new System.IDisposable with member _.Dispose () = Fable.Core.RustInterop.emitRustExpr () \"!fn()\" }'"
   ]
  },
  {
   "cell_type": "code",
   "execution_count": null,
   "metadata": {
    "dotnet_interactive": {
     "language": "spiral"
    },
    "polyglot_notebook": {
     "kernelName": "spiral"
    }
   },
   "outputs": [
    {
     "name": "stdout",
     "output_type": "stream",
     "text": [
      "type Mut0 = {mutable l0 : int32}\n",
      "let rec closure0 (v0 : Mut0) () : unit =\n",
      "    let v1 : int32 = v0.l0\n",
      "    let v2 : int32 = v1 + 1\n",
      "    v0.l0 <- v2\n",
      "    ()\n",
      "and method1 (v0 : Mut0) : (unit -> unit) =\n",
      "    closure0(v0)\n",
      "and method2 (v0 : bool) : bool =\n",
      "    v0\n",
      "and method0 () : unit =\n",
      "    let v0 : Mut0 = {l0 = 0} : Mut0\n",
      "    let mutable result = None\n",
      "    #if FABLE_COMPILER_RUST && !WASM\n",
      "    let v1 : (unit -> unit) = method1(v0)\n",
      "    let v2 : System.IDisposable = { new System.IDisposable with member _.Dispose () = Fable.Core.RustInterop.emitRustExpr () \"v1()\" }\n",
      "    v2\n",
      "    #endif\n",
      "    #if FABLE_COMPILER_RUST && WASM\n",
      "    let v3 : (unit -> unit) = method1(v0)\n",
      "    let v4 : System.IDisposable = { new System.IDisposable with member _.Dispose () = Fable.Core.RustInterop.emitRustExpr () \"v3()\" }\n",
      "    v4\n",
      "    #endif\n",
      "    #if !FABLE_COMPILER && !FABLE_COMPILER_RUST && !WASM\n",
      "    let v5 : (unit -> unit) = closure0(v0)\n",
      "    let v6 : System.IDisposable = { new System.IDisposable with member _.Dispose () = v5 () }\n",
      "    v6\n",
      "    #endif\n",
      "    #if FABLE_COMPILER && !FABLE_COMPILER_RUST && !WASM\n",
      "    let v7 : System.IDisposable = { new System.IDisposable with member _.Dispose () = v5 () }\n",
      "    v7\n",
      "    #endif\n",
      "    #if !FABLE_COMPILER_RUST && WASM\n",
      "    let v8 : System.IDisposable = { new System.IDisposable with member _.Dispose () = v5 () }\n",
      "    v8\n",
      "    #endif\n",
      "    |> fun x -> result <- Some x\n",
      "    let v9 : System.IDisposable = result |> Option.get\n",
      "    let v10 : (System.IDisposable -> unit) = _.Dispose()\n",
      "    v10 v9\n",
      "    let v11 : int32 = v0.l0\n",
      "    let v12 : string = $\"%A{v11}\"\n",
      "    System.Console.WriteLine v12\n",
      "    let v13 : bool = v11 = 1\n",
      "    let v15 : bool =\n",
      "        if v13 then\n",
      "            true\n",
      "        else\n",
      "            method2(v13)\n",
      "    let v16 : string = $\"__expect / actual: %A{v11} / expected: %A{1}\"\n",
      "    let v17 : bool = v15 = false\n",
      "    if v17 then\n",
      "        failwith<unit> v16\n",
      "method0()\n",
      "\n",
      "1\n"
     ]
    }
   ],
   "source": [
    "// // test\n",
    "\n",
    "inl new_disposable_test = mut 0i32\n",
    "new_disposable (fun () => new_disposable_test <- *new_disposable_test + 1)\n",
    "|> $'_.Dispose()'\n",
    "*new_disposable_test |> _assert_eq 1"
   ]
  },
  {
   "cell_type": "code",
   "execution_count": null,
   "metadata": {
    "dotnet_interactive": {
     "language": "spiral"
    },
    "polyglot_notebook": {
     "kernelName": "spiral"
    }
   },
   "outputs": [
    {
     "name": "stdout",
     "output_type": "stream",
     "text": [
      "type Mut0 = {mutable l0 : int32}\n",
      "let rec closure0 (v0 : Mut0) () : unit =\n",
      "    let v1 : int32 = v0.l0\n",
      "    let v2 : int32 = v1 + 1\n",
      "    v0.l0 <- v2\n",
      "    ()\n",
      "and method1 (v0 : Mut0) : (unit -> unit) =\n",
      "    closure0(v0)\n",
      "and method2 (v0 : bool) : bool =\n",
      "    v0\n",
      "and method0 () : unit =\n",
      "    let v0 : Mut0 = {l0 = 0} : Mut0\n",
      "    let mutable result = None\n",
      "    task {\n",
      "    let mutable result = None\n",
      "    #if FABLE_COMPILER_RUST && !WASM\n",
      "    let v1 : (unit -> unit) = method1(v0)\n",
      "    let v2 : System.IDisposable = { new System.IDisposable with member _.Dispose () = Fable.Core.RustInterop.emitRustExpr () \"v1()\" }\n",
      "    v2\n",
      "    #endif\n",
      "    #if FABLE_COMPILER_RUST && WASM\n",
      "    let v3 : (unit -> unit) = method1(v0)\n",
      "    let v4 : System.IDisposable = { new System.IDisposable with member _.Dispose () = Fable.Core.RustInterop.emitRustExpr () \"v3()\" }\n",
      "    v4\n",
      "    #endif\n",
      "    #if !FABLE_COMPILER && !FABLE_COMPILER_RUST && !WASM\n",
      "    let v5 : (unit -> unit) = closure0(v0)\n",
      "    let v6 : System.IDisposable = { new System.IDisposable with member _.Dispose () = v5 () }\n",
      "    v6\n",
      "    #endif\n",
      "    #if FABLE_COMPILER && !FABLE_COMPILER_RUST && !WASM\n",
      "    let v7 : System.IDisposable = { new System.IDisposable with member _.Dispose () = v5 () }\n",
      "    v7\n",
      "    #endif\n",
      "    #if !FABLE_COMPILER_RUST && WASM\n",
      "    let v8 : System.IDisposable = { new System.IDisposable with member _.Dispose () = v5 () }\n",
      "    v8\n",
      "    #endif\n",
      "    |> fun x -> result <- Some x\n",
      "    let v9 : System.IDisposable = result |> Option.get\n",
      "    use v9 = v9\n",
      "    let v10 : System.IDisposable = v9\n",
      "    return () \n",
      "    }\n",
      "    |> fun x -> result <- Some x\n",
      "    let v11 : System.Threading.Tasks.Task<unit> = result |> Option.get\n",
      "    let v12 : (System.Threading.Tasks.Task<unit> -> Async<unit>) = Async.AwaitTask\n",
      "    let v13 : Async<unit> = v12 v11\n",
      "    let v14 : (Async<unit> -> unit) = Async.RunSynchronously\n",
      "    v14 v13\n",
      "    let v15 : int32 = v0.l0\n",
      "    let v16 : string = $\"%A{v15}\"\n",
      "    System.Console.WriteLine v16\n",
      "    let v17 : bool = v15 = 1\n",
      "    let v19 : bool =\n",
      "        if v17 then\n",
      "            true\n",
      "        else\n",
      "            method2(v17)\n",
      "    let v20 : string = $\"__expect / actual: %A{v15} / expected: %A{1}\"\n",
      "    let v21 : bool = v19 = false\n",
      "    if v21 then\n",
      "        failwith<unit> v20\n",
      "method0()\n",
      "\n",
      "1\n"
     ]
    }
   ],
   "source": [
    "// // test\n",
    "\n",
    "inl new_disposable_test = mut 0i32\n",
    "fun () =>\n",
    "    new_disposable fun () => new_disposable_test <- *new_disposable_test + 1\n",
    "    |> use_disposable\n",
    "    |> ignore\n",
    "|> async.new_task\n",
    "|> async.await_task\n",
    "|> async.run_synchronously\n",
    "*new_disposable_test |> _assert_eq 1"
   ]
  },
  {
   "cell_type": "code",
   "execution_count": null,
   "metadata": {
    "dotnet_interactive": {
     "language": "spiral"
    },
    "polyglot_notebook": {
     "kernelName": "spiral"
    }
   },
   "outputs": [
    {
     "name": "stdout",
     "output_type": "stream",
     "text": [
      "type Mut0 = {mutable l0 : int32}\n",
      "let rec closure0 (v0 : Mut0) () : unit =\n",
      "    let v1 : int32 = v0.l0\n",
      "    let v2 : int32 = v1 + 1\n",
      "    v0.l0 <- v2\n",
      "    ()\n",
      "and method1 (v0 : Mut0) : (unit -> unit) =\n",
      "    closure0(v0)\n",
      "and method2 (v0 : bool) : bool =\n",
      "    v0\n",
      "and method0 () : unit =\n",
      "    let v0 : Mut0 = {l0 = 0} : Mut0\n",
      "    let mutable result = None\n",
      "    async {\n",
      "    let mutable result = None\n",
      "    #if FABLE_COMPILER_RUST && !WASM\n",
      "    let v1 : (unit -> unit) = method1(v0)\n",
      "    let v2 : System.IDisposable = { new System.IDisposable with member _.Dispose () = Fable.Core.RustInterop.emitRustExpr () \"v1()\" }\n",
      "    v2\n",
      "    #endif\n",
      "    #if FABLE_COMPILER_RUST && WASM\n",
      "    let v3 : (unit -> unit) = method1(v0)\n",
      "    let v4 : System.IDisposable = { new System.IDisposable with member _.Dispose () = Fable.Core.RustInterop.emitRustExpr () \"v3()\" }\n",
      "    v4\n",
      "    #endif\n",
      "    #if !FABLE_COMPILER && !FABLE_COMPILER_RUST && !WASM\n",
      "    let v5 : (unit -> unit) = closure0(v0)\n",
      "    let v6 : System.IDisposable = { new System.IDisposable with member _.Dispose () = v5 () }\n",
      "    v6\n",
      "    #endif\n",
      "    #if FABLE_COMPILER && !FABLE_COMPILER_RUST && !WASM\n",
      "    let v7 : System.IDisposable = { new System.IDisposable with member _.Dispose () = v5 () }\n",
      "    v7\n",
      "    #endif\n",
      "    #if !FABLE_COMPILER_RUST && WASM\n",
      "    let v8 : System.IDisposable = { new System.IDisposable with member _.Dispose () = v5 () }\n",
      "    v8\n",
      "    #endif\n",
      "    |> fun x -> result <- Some x\n",
      "    let v9 : System.IDisposable = result |> Option.get\n",
      "    use v9 = v9\n",
      "    let v10 : System.IDisposable = v9\n",
      "    return () \n",
      "    }\n",
      "    |> fun x -> result <- Some x\n",
      "    let v11 : Async<unit> = result |> Option.get\n",
      "    let v12 : (Async<unit> -> unit) = Async.RunSynchronously\n",
      "    v12 v11\n",
      "    let v13 : int32 = v0.l0\n",
      "    let v14 : string = $\"%A{v13}\"\n",
      "    System.Console.WriteLine v14\n",
      "    let v15 : bool = v13 = 1\n",
      "    let v17 : bool =\n",
      "        if v15 then\n",
      "            true\n",
      "        else\n",
      "            method2(v15)\n",
      "    let v18 : string = $\"__expect / actual: %A{v13} / expected: %A{1}\"\n",
      "    let v19 : bool = v17 = false\n",
      "    if v19 then\n",
      "        failwith<unit> v18\n",
      "method0()\n",
      "\n",
      "1\n"
     ]
    }
   ],
   "source": [
    "// // test\n",
    "\n",
    "inl new_disposable_test = mut 0i32\n",
    "fun () =>\n",
    "    new_disposable fun () => new_disposable_test <- *new_disposable_test + 1\n",
    "    |> use_disposable\n",
    "    |> ignore\n",
    "|> async.new_async\n",
    "|> async.run_synchronously\n",
    "*new_disposable_test |> _assert_eq 1"
   ]
  },
  {
   "cell_type": "code",
   "execution_count": null,
   "metadata": {
    "dotnet_interactive": {
     "language": "spiral"
    },
    "polyglot_notebook": {
     "kernelName": "spiral"
    }
   },
   "outputs": [
    {
     "name": "stdout",
     "output_type": "stream",
     "text": [
      "type Mut0 = {mutable l0 : int32}\n",
      "let rec closure0 (v0 : Mut0) () : unit =\n",
      "    let v1 : int32 = v0.l0\n",
      "    let v2 : int32 = v1 + 1\n",
      "    v0.l0 <- v2\n",
      "    ()\n",
      "and method1 (v0 : Mut0) : (unit -> unit) =\n",
      "    closure0(v0)\n",
      "and method2 (v0 : bool) : bool =\n",
      "    v0\n",
      "and method0 () : unit =\n",
      "    let v0 : Mut0 = {l0 = 0} : Mut0\n",
      "    let mutable result = None\n",
      "    async {\n",
      "    let mutable result = None\n",
      "    #if FABLE_COMPILER_RUST && !WASM\n",
      "    let v1 : (unit -> unit) = method1(v0)\n",
      "    let v2 : System.IDisposable = { new System.IDisposable with member _.Dispose () = Fable.Core.RustInterop.emitRustExpr () \"v1()\" }\n",
      "    v2\n",
      "    #endif\n",
      "    #if FABLE_COMPILER_RUST && WASM\n",
      "    let v3 : (unit -> unit) = method1(v0)\n",
      "    let v4 : System.IDisposable = { new System.IDisposable with member _.Dispose () = Fable.Core.RustInterop.emitRustExpr () \"v3()\" }\n",
      "    v4\n",
      "    #endif\n",
      "    #if !FABLE_COMPILER && !FABLE_COMPILER_RUST && !WASM\n",
      "    let v5 : (unit -> unit) = closure0(v0)\n",
      "    let v6 : System.IDisposable = { new System.IDisposable with member _.Dispose () = v5 () }\n",
      "    v6\n",
      "    #endif\n",
      "    #if FABLE_COMPILER && !FABLE_COMPILER_RUST && !WASM\n",
      "    let v7 : System.IDisposable = { new System.IDisposable with member _.Dispose () = v5 () }\n",
      "    v7\n",
      "    #endif\n",
      "    #if !FABLE_COMPILER_RUST && WASM\n",
      "    let v8 : System.IDisposable = { new System.IDisposable with member _.Dispose () = v5 () }\n",
      "    v8\n",
      "    #endif\n",
      "    |> fun x -> result <- Some x\n",
      "    let v9 : System.IDisposable = result |> Option.get\n",
      "    return () \n",
      "    }\n",
      "    |> fun x -> result <- Some x\n",
      "    let v10 : Async<unit> = result |> Option.get\n",
      "    let v11 : (Async<unit> -> unit) = Async.RunSynchronously\n",
      "    v11 v10\n",
      "    let v12 : int32 = v0.l0\n",
      "    let v13 : string = $\"%A{v12}\"\n",
      "    System.Console.WriteLine v13\n",
      "    let v14 : bool = v12 = 0\n",
      "    let v16 : bool =\n",
      "        if v14 then\n",
      "            true\n",
      "        else\n",
      "            method2(v14)\n",
      "    let v17 : string = $\"__expect / actual: %A{v12} / expected: %A{0}\"\n",
      "    let v18 : bool = v16 = false\n",
      "    if v18 then\n",
      "        failwith<unit> v17\n",
      "method0()\n",
      "\n",
      "0\n"
     ]
    }
   ],
   "source": [
    "// // test\n",
    "\n",
    "inl new_disposable_test = mut 0i32\n",
    "fun () =>\n",
    "    new_disposable fun () => new_disposable_test <- *new_disposable_test + 1\n",
    "    |> ignore\n",
    "|> async.new_async\n",
    "|> async.run_synchronously\n",
    "*new_disposable_test |> _assert_eq 0"
   ]
  },
  {
   "cell_type": "markdown",
   "metadata": {},
   "source": [
    "## try"
   ]
  },
  {
   "cell_type": "code",
   "execution_count": null,
   "metadata": {
    "dotnet_interactive": {
     "language": "spiral"
    },
    "polyglot_notebook": {
     "kernelName": "spiral"
    }
   },
   "outputs": [
    {
     "name": "stdout",
     "output_type": "stream",
     "text": [
      "()\n",
      "\n"
     ]
    }
   ],
   "source": [
    "inl try forall t. (fn : () -> t) (ex_fn : exn -> ()) : option t =\n",
    "    inl none = None : option t\n",
    "    inl some (s : t) = Some s\n",
    "    $'try !fn () |> !some with ex -> !ex_fn ex; !none '"
   ]
  },
  {
   "cell_type": "markdown",
   "metadata": {},
   "source": [
    "## sleep"
   ]
  },
  {
   "cell_type": "code",
   "execution_count": null,
   "metadata": {
    "dotnet_interactive": {
     "language": "spiral"
    },
    "polyglot_notebook": {
     "kernelName": "spiral"
    }
   },
   "outputs": [
    {
     "name": "stdout",
     "output_type": "stream",
     "text": [
      "()\n",
      "\n"
     ]
    }
   ],
   "source": [
    "inl sleep (n : i32) : () =\n",
    "    run_target function\n",
    "        | Fsharp (Native) => fun () => $'System.Threading.Thread.Sleep' n\n",
    "        | _ => fun () => ()"
   ]
  },
  {
   "cell_type": "markdown",
   "metadata": {},
   "source": [
    "## retry_fn"
   ]
  },
  {
   "cell_type": "code",
   "execution_count": null,
   "metadata": {
    "dotnet_interactive": {
     "language": "spiral"
    },
    "polyglot_notebook": {
     "kernelName": "spiral"
    }
   },
   "outputs": [
    {
     "name": "stdout",
     "output_type": "stream",
     "text": [
      "()\n",
      "\n"
     ]
    }
   ],
   "source": [
    "inl retry_fn forall t. retries (fn : () -> t) : option t =\n",
    "    let rec loop retry =\n",
    "        try\n",
    "            fun () =>\n",
    "                if retry < retries\n",
    "                then fn () |> Some\n",
    "                else None\n",
    "            fun ex =>\n",
    "                let getLocals () = $\"retry: {retry} / ex: {ex |> Sm.format_exception} / {getLocals ()}\"\n",
    "                // trace Warning (fun () => \"retry_fn\") getLocals\n",
    "                sleep 1\n",
    "        |> function\n",
    "            | Some x => x\n",
    "            | None => loop (retry + 1)\n",
    "    loop 0"
   ]
  },
  {
   "cell_type": "code",
   "execution_count": null,
   "metadata": {
    "dotnet_interactive": {
     "language": "spiral"
    },
    "polyglot_notebook": {
     "kernelName": "spiral"
    }
   },
   "outputs": [
    {
     "name": "stdout",
     "output_type": "stream",
     "text": [
      "type Mut0 = {mutable l0 : int32}\n",
      "and [<Struct>] US0 =\n",
      "    | US0_0\n",
      "    | US0_1 of f1_0 : int32\n",
      "and [<Struct>] US1 =\n",
      "    | US1_0\n",
      "    | US1_1 of f1_0 : US0\n",
      "let rec closure0 (v0 : Mut0, v1 : int32) () : US0 =\n",
      "    let v2 : bool = v1 < 3\n",
      "    if v2 then\n",
      "        let v3 : int32 = v0.l0\n",
      "        let v4 : int32 = v3 + 1\n",
      "        v0.l0 <- v4\n",
      "        let v5 : int32 = v0.l0\n",
      "        US0_1(v5)\n",
      "    else\n",
      "        US0_0\n",
      "and closure1 () (v0 : US0) : US1 =\n",
      "    US1_1(v0)\n",
      "and closure2 () (v0 : exn) : unit =\n",
      "    let mutable result = None\n",
      "    #if FABLE_COMPILER_RUST && !WASM\n",
      "    ()\n",
      "    #endif\n",
      "    #if FABLE_COMPILER_RUST && WASM\n",
      "    ()\n",
      "    #endif\n",
      "    #if !FABLE_COMPILER && !FABLE_COMPILER_RUST && !WASM\n",
      "    let v1 : (int32 -> unit) = System.Threading.Thread.Sleep\n",
      "    v1 1\n",
      "    ()\n",
      "    #endif\n",
      "    #if FABLE_COMPILER && !FABLE_COMPILER_RUST && !WASM\n",
      "    ()\n",
      "    #endif\n",
      "    #if !FABLE_COMPILER_RUST && WASM\n",
      "    ()\n",
      "    #endif\n",
      "    |> fun x -> result <- Some x\n",
      "    result |> Option.get\n",
      "    ()\n",
      "and method1 (v0 : Mut0, v1 : int32) : US0 =\n",
      "    let v2 : (unit -> US0) = closure0(v0, v1)\n",
      "    let v3 : (US0 -> US1) = closure1()\n",
      "    let v4 : (exn -> unit) = closure2()\n",
      "    let v5 : US1 = US1_0\n",
      "    let v6 : US1 = try v2 () |> v3 with ex -> v4 ex; v5 \n",
      "    match v6 with\n",
      "    | US1_0 -> (* None *)\n",
      "        let v8 : int32 = v1 + 1\n",
      "        method1(v0, v8)\n",
      "    | US1_1(v7) -> (* Some *)\n",
      "        v7\n",
      "and method2 (v0 : bool) : bool =\n",
      "    v0\n",
      "and method0 () : unit =\n",
      "    let v0 : Mut0 = {l0 = 0} : Mut0\n",
      "    let v1 : int32 = 0\n",
      "    let v2 : US0 = method1(v0, v1)\n",
      "    let v3 : string = $\"%A{v2}\"\n",
      "    System.Console.WriteLine v3\n",
      "    let v7 : bool =\n",
      "        match v2 with\n",
      "        | US0_1(v5) -> (* Some *)\n",
      "            let v6 : bool = v5 = 1\n",
      "            v6\n",
      "        | _ ->\n",
      "            false\n",
      "    let v9 : bool =\n",
      "        if v7 then\n",
      "            true\n",
      "        else\n",
      "            method2(v7)\n",
      "    let v10 : US0 = US0_1(1)\n",
      "    let v11 : string = $\"__expect / actual: %A{v2} / expected: %A{v10}\"\n",
      "    let v12 : bool = v9 = false\n",
      "    if v12 then\n",
      "        failwith<unit> v11\n",
      "method0()\n",
      "\n",
      "US0_1 1\n"
     ]
    }
   ],
   "source": [
    "// // test\n",
    "\n",
    "inl retry_fn_test = mut 0i32\n",
    "fun () =>\n",
    "    retry_fn_test <- *retry_fn_test + 1\n",
    "    *retry_fn_test\n",
    "|> retry_fn 3i32\n",
    "|> _assert_eq (Some 1i32)"
   ]
  },
  {
   "cell_type": "code",
   "execution_count": null,
   "metadata": {
    "dotnet_interactive": {
     "language": "spiral"
    },
    "polyglot_notebook": {
     "kernelName": "spiral"
    }
   },
   "outputs": [
    {
     "name": "stdout",
     "output_type": "stream",
     "text": [
      "type Mut0 = {mutable l0 : int32}\n",
      "and [<Struct>] US0 =\n",
      "    | US0_0\n",
      "    | US0_1 of f1_0 : int32\n",
      "and [<Struct>] US1 =\n",
      "    | US1_0\n",
      "    | US1_1 of f1_0 : US0\n",
      "let rec closure0 (v0 : Mut0, v1 : int32) () : US0 =\n",
      "    let v2 : bool = v1 < 3\n",
      "    if v2 then\n",
      "        let v3 : int32 = v0.l0\n",
      "        let v4 : bool = v3 >= 2\n",
      "        let v9 : int32 =\n",
      "            if v4 then\n",
      "                let v5 : int32 = v0.l0\n",
      "                v5\n",
      "            else\n",
      "                let v6 : int32 = v0.l0\n",
      "                let v7 : int32 = v6 + 1\n",
      "                v0.l0 <- v7\n",
      "                failwith<int32> \"test\"\n",
      "        US0_1(v9)\n",
      "    else\n",
      "        US0_0\n",
      "and closure1 () (v0 : US0) : US1 =\n",
      "    US1_1(v0)\n",
      "and closure2 () (v0 : exn) : unit =\n",
      "    let mutable result = None\n",
      "    #if FABLE_COMPILER_RUST && !WASM\n",
      "    ()\n",
      "    #endif\n",
      "    #if FABLE_COMPILER_RUST && WASM\n",
      "    ()\n",
      "    #endif\n",
      "    #if !FABLE_COMPILER && !FABLE_COMPILER_RUST && !WASM\n",
      "    let v1 : (int32 -> unit) = System.Threading.Thread.Sleep\n",
      "    v1 1\n",
      "    ()\n",
      "    #endif\n",
      "    #if FABLE_COMPILER && !FABLE_COMPILER_RUST && !WASM\n",
      "    ()\n",
      "    #endif\n",
      "    #if !FABLE_COMPILER_RUST && WASM\n",
      "    ()\n",
      "    #endif\n",
      "    |> fun x -> result <- Some x\n",
      "    result |> Option.get\n",
      "    ()\n",
      "and method1 (v0 : Mut0, v1 : int32) : US0 =\n",
      "    let v2 : (unit -> US0) = closure0(v0, v1)\n",
      "    let v3 : (US0 -> US1) = closure1()\n",
      "    let v4 : (exn -> unit) = closure2()\n",
      "    let v5 : US1 = US1_0\n",
      "    let v6 : US1 = try v2 () |> v3 with ex -> v4 ex; v5 \n",
      "    match v6 with\n",
      "    | US1_0 -> (* None *)\n",
      "        let v8 : int32 = v1 + 1\n",
      "        method1(v0, v8)\n",
      "    | US1_1(v7) -> (* Some *)\n",
      "        v7\n",
      "and method2 (v0 : bool) : bool =\n",
      "    v0\n",
      "and method0 () : unit =\n",
      "    let v0 : Mut0 = {l0 = 0} : Mut0\n",
      "    let v1 : int32 = 0\n",
      "    let v2 : US0 = method1(v0, v1)\n",
      "    let v3 : string = $\"%A{v2}\"\n",
      "    System.Console.WriteLine v3\n",
      "    let v7 : bool =\n",
      "        match v2 with\n",
      "        | US0_1(v5) -> (* Some *)\n",
      "            let v6 : bool = v5 = 2\n",
      "            v6\n",
      "        | _ ->\n",
      "            false\n",
      "    let v9 : bool =\n",
      "        if v7 then\n",
      "            true\n",
      "        else\n",
      "            method2(v7)\n",
      "    let v10 : US0 = US0_1(2)\n",
      "    let v11 : string = $\"__expect / actual: %A{v2} / expected: %A{v10}\"\n",
      "    let v12 : bool = v9 = false\n",
      "    if v12 then\n",
      "        failwith<unit> v11\n",
      "method0()\n",
      "\n",
      "US0_1 2\n"
     ]
    }
   ],
   "source": [
    "// // test\n",
    "\n",
    "inl retry_fn_test = mut 0i32\n",
    "fun () =>\n",
    "    if *retry_fn_test >= 2\n",
    "    then *retry_fn_test\n",
    "    else\n",
    "        retry_fn_test <- *retry_fn_test + 1\n",
    "        failwith \"test\"\n",
    "|> retry_fn 3i32\n",
    "|> _assert_eq (Some 2i32)"
   ]
  },
  {
   "cell_type": "markdown",
   "metadata": {},
   "source": [
    "## main"
   ]
  },
  {
   "cell_type": "code",
   "execution_count": null,
   "metadata": {
    "dotnet_interactive": {
     "language": "spiral"
    },
    "polyglot_notebook": {
     "kernelName": "spiral"
    }
   },
   "outputs": [
    {
     "name": "stdout",
     "output_type": "stream",
     "text": [
      "type [<Struct>] US0 =\n",
      "    | US0_0\n",
      "    | US0_1\n",
      "and [<Struct>] US1 =\n",
      "    | US1_0\n",
      "    | US1_1 of f1_0 : US0\n",
      "let rec method0 (v0 : (unit -> unit)) : (unit -> unit) =\n",
      "    v0\n",
      "and closure0 () (v0 : (unit -> unit)) : System.IDisposable =\n",
      "    let mutable result = None\n",
      "    #if FABLE_COMPILER_RUST && !WASM\n",
      "    let v1 : (unit -> unit) = method0(v0)\n",
      "    let v2 : System.IDisposable = { new System.IDisposable with member _.Dispose () = Fable.Core.RustInterop.emitRustExpr () \"v1()\" }\n",
      "    v2\n",
      "    #endif\n",
      "    #if FABLE_COMPILER_RUST && WASM\n",
      "    let v3 : (unit -> unit) = method0(v0)\n",
      "    let v4 : System.IDisposable = { new System.IDisposable with member _.Dispose () = Fable.Core.RustInterop.emitRustExpr () \"v3()\" }\n",
      "    v4\n",
      "    #endif\n",
      "    #if !FABLE_COMPILER && !FABLE_COMPILER_RUST && !WASM\n",
      "    let v5 : System.IDisposable = { new System.IDisposable with member _.Dispose () = v0 () }\n",
      "    v5\n",
      "    #endif\n",
      "    #if FABLE_COMPILER && !FABLE_COMPILER_RUST && !WASM\n",
      "    let v6 : System.IDisposable = { new System.IDisposable with member _.Dispose () = v0 () }\n",
      "    v6\n",
      "    #endif\n",
      "    #if !FABLE_COMPILER_RUST && WASM\n",
      "    let v7 : System.IDisposable = { new System.IDisposable with member _.Dispose () = v0 () }\n",
      "    v7\n",
      "    #endif\n",
      "    |> fun x -> result <- Some x\n",
      "    let v8 : System.IDisposable = result |> Option.get\n",
      "    v8\n",
      "and closure3 (v0 : int32, v1 : (unit -> unit), v2 : int32) () : US0 =\n",
      "    let v3 : bool = v2 < v0\n",
      "    if v3 then\n",
      "        v1 ()\n",
      "        US0_1\n",
      "    else\n",
      "        US0_0\n",
      "and closure4 () (v0 : US0) : US1 =\n",
      "    US1_1(v0)\n",
      "and closure5 () (v0 : exn) : unit =\n",
      "    let mutable result = None\n",
      "    #if FABLE_COMPILER_RUST && !WASM\n",
      "    ()\n",
      "    #endif\n",
      "    #if FABLE_COMPILER_RUST && WASM\n",
      "    ()\n",
      "    #endif\n",
      "    #if !FABLE_COMPILER && !FABLE_COMPILER_RUST && !WASM\n",
      "    let v1 : (int32 -> unit) = System.Threading.Thread.Sleep\n",
      "    v1 1\n",
      "    ()\n",
      "    #endif\n",
      "    #if FABLE_COMPILER && !FABLE_COMPILER_RUST && !WASM\n",
      "    ()\n",
      "    #endif\n",
      "    #if !FABLE_COMPILER_RUST && WASM\n",
      "    ()\n",
      "    #endif\n",
      "    |> fun x -> result <- Some x\n",
      "    result |> Option.get\n",
      "    ()\n",
      "and method1 (v0 : int32, v1 : (unit -> unit), v2 : int32) : US0 =\n",
      "    let v3 : (unit -> US0) = closure3(v0, v1, v2)\n",
      "    let v4 : (US0 -> US1) = closure4()\n",
      "    let v5 : (exn -> unit) = closure5()\n",
      "    let v6 : US1 = US1_0\n",
      "    let v7 : US1 = try v3 () |> v4 with ex -> v5 ex; v6 \n",
      "    match v7 with\n",
      "    | US1_0 -> (* None *)\n",
      "        let v9 : int32 = v2 + 1\n",
      "        method1(v0, v1, v9)\n",
      "    | US1_1(v8) -> (* Some *)\n",
      "        v8\n",
      "and closure2 (v0 : int32) (v1 : (unit -> unit)) : unit option =\n",
      "    let v2 : int32 = 0\n",
      "    let v3 : US0 = method1(v0, v1, v2)\n",
      "    match v3 with\n",
      "    | US0_0 -> (* None *)\n",
      "        let v5 : unit option = None\n",
      "        v5\n",
      "    | US0_1 -> (* Some *)\n",
      "        let v4 : unit option = Some ()\n",
      "        v4\n",
      "and closure1 () (v0 : int32) : ((unit -> unit) -> unit option) =\n",
      "    closure2(v0)\n",
      "let v0 : ((unit -> unit) -> System.IDisposable) = closure0()\n",
      "let new_disposable x = v0 x\n",
      "let v1 : (int32 -> ((unit -> unit) -> unit option)) = closure1()\n",
      "let retry_fn x = v1 x\n",
      "()\n",
      "\n"
     ]
    }
   ],
   "source": [
    "inl main () =\n",
    "    inl retry_fn (r : i32) (x : () -> _) : optionm'.option' () =\n",
    "        retry_fn r x |> optionm'.box\n",
    "    $\"let new_disposable x = !new_disposable x\" : ()\n",
    "    $\"let retry_fn x = !retry_fn x\" : ()"
   ]
  }
 ],
 "metadata": {},
 "nbformat": 4,
 "nbformat_minor": 5
}