{
 "cells": [
  {
   "cell_type": "markdown",
   "metadata": {},
   "source": [
    "# common"
   ]
  },
  {
   "cell_type": "code",
   "execution_count": null,
   "metadata": {
    "dotnet_interactive": {
     "language": "spiral"
    },
    "polyglot_notebook": {
     "kernelName": "spiral"
    }
   },
   "outputs": [
    {
     "name": "stdout",
     "output_type": "stream",
     "text": [
      "()\n",
      "\n"
     ]
    }
   ],
   "source": [
    "// // test\n",
    "\n",
    "open testing"
   ]
  },
  {
   "cell_type": "markdown",
   "metadata": {},
   "source": [
    "## prototype"
   ]
  },
  {
   "cell_type": "code",
   "execution_count": null,
   "metadata": {
    "dotnet_interactive": {
     "language": "spiral"
    },
    "polyglot_notebook": {
     "kernelName": "spiral"
    }
   },
   "outputs": [
    {
     "name": "stdout",
     "output_type": "stream",
     "text": [
      "()\n",
      "\n"
     ]
    }
   ],
   "source": [
    "prototype (~:>) r : forall t. t -> r"
   ]
  },
  {
   "cell_type": "markdown",
   "metadata": {},
   "source": [
    "## run_target"
   ]
  },
  {
   "cell_type": "code",
   "execution_count": null,
   "metadata": {
    "dotnet_interactive": {
     "language": "spiral"
    },
    "polyglot_notebook": {
     "kernelName": "spiral"
    }
   },
   "outputs": [
    {
     "name": "stdout",
     "output_type": "stream",
     "text": [
      "let rec method1 (v0 : bool) : bool =\n",
      "    v0\n",
      "and method0 () : unit =\n",
      "    let v0 : uint8 option = None\n",
      "    let v1 : bool = true in let mutable _v0 = v0\n",
      "    #if FABLE_COMPILER_RUST && !WASM && !CONTRACT\n",
      "    let v2 : uint8 = 2uy\n",
      "    v2\n",
      "#endif\n",
      "    #if FABLE_COMPILER_RUST && WASM\n",
      "    let v3 : uint8 = 2uy\n",
      "    v3\n",
      "#endif\n",
      "    #if FABLE_COMPILER_RUST && CONTRACT\n",
      "    let v4 : uint8 = 2uy\n",
      "    v4\n",
      "#endif\n",
      "    #if !FABLE_COMPILER && !FABLE_COMPILER_RUST && !FABLE_COMPILER_TYPESCRIPT && !WASM && !CONTRACT\n",
      "    let v5 : uint8 = 1uy\n",
      "    v5\n",
      "#endif\n",
      "    #if FABLE_COMPILER_TYPESCRIPT\n",
      "    let v6 : uint8 = 2uy\n",
      "    v6\n",
      "#endif\n",
      "    #if FABLE_COMPILER_PYTHON || FABLE_COMPILER_PHP || FABLE_COMPILER_DART\n",
      "    let v7 : uint8 = Unchecked.defaultof<uint8>\n",
      "    v7\n",
      "#endif\n",
      "    |> fun x -> _v0 <- Some x\n",
      "    let v8 : uint8 = _v0.Value\n",
      "    let v9 : string = $\"%A{v8}\"\n",
      "    System.Console.WriteLine v9\n",
      "    let v10 : bool = v8 = 1uy\n",
      "    let v12 : bool =\n",
      "        if v10 then\n",
      "            true\n",
      "        else\n",
      "            method1(v10)\n",
      "    let v13 : string = $\"__expect / actual: %A{v8} / expected: %A{1uy}\"\n",
      "    let v14 : bool = v12 = false\n",
      "    if v14 then\n",
      "        failwith<unit> v13\n",
      "method0()\n",
      "\n",
      "1uy\n"
     ]
    }
   ],
   "source": [
    "// // test\n",
    "\n",
    "run_target function\n",
    "    | Fsharp (Native) => fun () => $\"1uy\"\n",
    "    | _ => fun () => $\"2uy\"\n",
    "|> _assert_eq 1u8"
   ]
  },
  {
   "cell_type": "code",
   "execution_count": null,
   "metadata": {
    "dotnet_interactive": {
     "language": "spiral"
    },
    "polyglot_notebook": {
     "kernelName": "spiral"
    }
   },
   "outputs": [
    {
     "data": {
      "text/plain": [
       ".rs output:\n",
       "1\n",
       "\n",
       "\n"
      ]
     },
     "metadata": {},
     "output_type": "display_data"
    },
    {
     "name": "stdout",
     "output_type": "stream",
     "text": [
      ".fsx:\n",
      "let rec method1 (v0 : bool) : bool =\n",
      "    v0\n",
      "and method0 () : unit =\n",
      "    let v0 : uint8 option = None\n",
      "    let v1 : bool = true in let mutable _v0 = v0\n",
      "    #if FABLE_COMPILER_RUST && !WASM && !CONTRACT\n",
      "    let v2 : uint8 = 1uy\n",
      "    v2\n",
      "#endif\n",
      "    #if FABLE_COMPILER_RUST && WASM\n",
      "    let v3 : uint8 = 2uy\n",
      "    v3\n",
      "#endif\n",
      "    #if FABLE_COMPILER_RUST && CONTRACT\n",
      "    let v4 : uint8 = 2uy\n",
      "    v4\n",
      "#endif\n",
      "    #if !FABLE_COMPILER && !FABLE_COMPILER_RUST && !FABLE_COMPILER_TYPESCRIPT && !WASM && !CONTRACT\n",
      "    let v5 : uint8 = 2uy\n",
      "    v5\n",
      "#endif\n",
      "    #if FABLE_COMPILER_TYPESCRIPT\n",
      "    let v6 : uint8 = 2uy\n",
      "    v6\n",
      "#endif\n",
      "    #if FABLE_COMPILER_PYTHON || FABLE_COMPILER_PHP || FABLE_COMPILER_DART\n",
      "    let v7 : uint8 = Unchecked.defaultof<uint8>\n",
      "    v7\n",
      "#endif\n",
      "    |> fun x -> _v0 <- Some x\n",
      "    let v8 : uint8 = _v0.Value\n",
      "    let v9 : string = $\"%A{v8}\"\n",
      "    System.Console.WriteLine v9\n",
      "    let v10 : bool = v8 = 1uy\n",
      "    let v12 : bool =\n",
      "        if v10 then\n",
      "            true\n",
      "        else\n",
      "            method1(v10)\n",
      "    let v13 : string = $\"__expect / actual: %A{v8} / expected: %A{1uy}\"\n",
      "    let v14 : bool = v12 = false\n",
      "    if v14 then\n",
      "        failwith<unit> v13\n",
      "method0()\n",
      "\n",
      "\n",
      ".rs:\n",
      "#![allow(dead_code,)]\n",
      "#![allow(non_camel_case_types,)]\n",
      "#![allow(non_snake_case,)]\n",
      "#![allow(non_upper_case_globals,)]\n",
      "#![allow(unreachable_code,)]\n",
      "#![allow(unused_attributes,)]\n",
      "#![allow(unused_imports,)]\n",
      "#![allow(unused_macros,)]\n",
      "#![allow(unused_parens,)]\n",
      "#![allow(unused_variables,)]\n",
      "mod module_ccfa04bf {\n",
      "    pub mod Spiral_eval {\n",
      "        use super::*;\n",
      "        use fable_library_rust::Native_::MutCell;\n",
      "        use fable_library_rust::Native_::on_startup;\n",
      "        use fable_library_rust::Option_::getValue;\n",
      "        use fable_library_rust::String_::printfn;\n",
      "        use fable_library_rust::String_::sprintf;\n",
      "        use fable_library_rust::String_::string;\n",
      "        pub fn method1(v0: bool) -> bool { v0 }\n",
      "        pub fn method0() {\n",
      "            let _v0: MutCell<Option<u8>> = MutCell::new(None::<u8>);\n",
      "            _v0.set(Some(1_u8));\n",
      "            {\n",
      "                let v8: u8 = getValue(_v0.get().clone());\n",
      "                let v9: string = sprintf!(\"{:?}\", v8);\n",
      "                printfn!(\"{0}\", v9);\n",
      "                {\n",
      "                    let v10: bool = v8 == 1_u8;\n",
      "                    if (if v10 { true } else { Spiral_eval::method1(v10) }) ==\n",
      "                           false {\n",
      "                        panic!(\"{}\",\n",
      "                               sprintf!(\"__expect / actual: {:?} / expected: {:?}\", v8, 1_u8));\n",
      "                    }\n",
      "                }\n",
      "            }\n",
      "        }\n",
      "        on_startup!(Spiral_eval::method0());\n",
      "    }\n",
      "}\n",
      "pub use module_ccfa04bf::*;\n",
      "\n"
     ]
    }
   ],
   "source": [
    "// // test\n",
    "// // rust=\n",
    "\n",
    "run_target function\n",
    "    | Rust (Native) => fun () => $\"1uy\"\n",
    "    | _ => fun () => $\"2uy\"\n",
    "|> _assert_eq 1u8"
   ]
  },
  {
   "cell_type": "markdown",
   "metadata": {},
   "source": [
    "## upcast"
   ]
  },
  {
   "cell_type": "code",
   "execution_count": null,
   "metadata": {
    "dotnet_interactive": {
     "language": "spiral"
    },
    "polyglot_notebook": {
     "kernelName": "spiral"
    }
   },
   "outputs": [
    {
     "name": "stdout",
     "output_type": "stream",
     "text": [
      "()\n",
      "\n"
     ]
    }
   ],
   "source": [
    "inl upcast forall t u. (x : t) : u =\n",
    "    $'!x :> `u '"
   ]
  },
  {
   "cell_type": "markdown",
   "metadata": {},
   "source": [
    "## downcast"
   ]
  },
  {
   "cell_type": "code",
   "execution_count": null,
   "metadata": {
    "dotnet_interactive": {
     "language": "spiral"
    },
    "polyglot_notebook": {
     "kernelName": "spiral"
    }
   },
   "outputs": [
    {
     "name": "stdout",
     "output_type": "stream",
     "text": [
      "()\n",
      "\n"
     ]
    }
   ],
   "source": [
    "inl downcast forall t u. (x : t) : u =\n",
    "    $'!x :?> `u '"
   ]
  },
  {
   "cell_type": "markdown",
   "metadata": {},
   "source": [
    "## unativeint"
   ]
  },
  {
   "cell_type": "code",
   "execution_count": null,
   "metadata": {
    "dotnet_interactive": {
     "language": "spiral"
    },
    "polyglot_notebook": {
     "kernelName": "spiral"
    }
   },
   "outputs": [
    {
     "name": "stdout",
     "output_type": "stream",
     "text": [
      "()\n",
      "\n"
     ]
    }
   ],
   "source": [
    "nominal unativeint = $\"unativeint\"\n",
    "\n",
    "inl unativeint forall t {int}. (n : t) : unativeint =\n",
    "    $\"unativeint !n\""
   ]
  },
  {
   "cell_type": "markdown",
   "metadata": {},
   "source": [
    "## pair"
   ]
  },
  {
   "cell_type": "code",
   "execution_count": null,
   "metadata": {
    "dotnet_interactive": {
     "language": "spiral"
    },
    "polyglot_notebook": {
     "kernelName": "spiral"
    }
   },
   "outputs": [
    {
     "name": "stdout",
     "output_type": "stream",
     "text": [
      "let rec method0 () : unit =\n",
      "    let v0 : string = $\"%A{struct (1, 2)}\"\n",
      "    System.Console.WriteLine v0\n",
      "    let v1 : string = $\"__expect / actual: %A{struct (1, 2)} / expected: %A{struct (1, 2)}\"\n",
      "    ()\n",
      "method0()\n",
      "\n",
      "struct (1, 2)\n"
     ]
    }
   ],
   "source": [
    "// // test\n",
    "\n",
    "pair 1i32 2i32\n",
    "|> _assert_eq (1, 2)"
   ]
  },
  {
   "cell_type": "markdown",
   "metadata": {},
   "source": [
    "## new_pair"
   ]
  },
  {
   "cell_type": "code",
   "execution_count": null,
   "metadata": {
    "dotnet_interactive": {
     "language": "spiral"
    },
    "polyglot_notebook": {
     "kernelName": "spiral"
    }
   },
   "outputs": [
    {
     "name": "stdout",
     "output_type": "stream",
     "text": [
      "()\n",
      "\n"
     ]
    }
   ],
   "source": [
    "inl new_pair forall a b. (a : a) (b : b) : pair a b =\n",
    "    $\"!a, !b\""
   ]
  },
  {
   "cell_type": "markdown",
   "metadata": {},
   "source": [
    "## from_pair"
   ]
  },
  {
   "cell_type": "code",
   "execution_count": null,
   "metadata": {
    "dotnet_interactive": {
     "language": "spiral"
    },
    "polyglot_notebook": {
     "kernelName": "spiral"
    }
   },
   "outputs": [
    {
     "name": "stdout",
     "output_type": "stream",
     "text": [
      "()\n",
      "\n"
     ]
    }
   ],
   "source": [
    "inl from_pair forall a b. (pair : pair a b) : a * b =\n",
    "    $\"let (a, b) = !pair\"\n",
    "    $\"a\", $\"b\""
   ]
  },
  {
   "cell_type": "code",
   "execution_count": null,
   "metadata": {
    "dotnet_interactive": {
     "language": "spiral"
    },
    "polyglot_notebook": {
     "kernelName": "spiral"
    }
   },
   "outputs": [
    {
     "name": "stdout",
     "output_type": "stream",
     "text": [
      "let rec method1 (v0 : bool) : bool =\n",
      "    v0\n",
      "and method0 () : unit =\n",
      "    let v0 : string = \"a\"\n",
      "    let v1 : (string * int32) = v0, 1\n",
      "    let (a, b) = v1\n",
      "    let v2 : string = a\n",
      "    let v3 : int32 = b\n",
      "    let v4 : string = $\"%A{struct (v2, v3)}\"\n",
      "    System.Console.WriteLine v4\n",
      "    let v5 : bool = v2 = \"a\"\n",
      "    let v7 : bool =\n",
      "        if v5 then\n",
      "            let v6 : bool = v3 = 1\n",
      "            v6\n",
      "        else\n",
      "            false\n",
      "    let v9 : bool =\n",
      "        if v7 then\n",
      "            true\n",
      "        else\n",
      "            method1(v7)\n",
      "    let v10 : string = $\"__expect / actual: %A{struct (v2, v3)} / expected: %A{struct (v0, 1)}\"\n",
      "    let v11 : bool = v9 = false\n",
      "    if v11 then\n",
      "        failwith<unit> v10\n",
      "method0()\n",
      "\n",
      "struct (\"a\", 1)\n"
     ]
    }
   ],
   "source": [
    "// // test\n",
    "\n",
    "new_pair \"a\" 1i32\n",
    "|> from_pair\n",
    "|> _assert_eq (\"a\", 1i32)"
   ]
  },
  {
   "cell_type": "code",
   "execution_count": null,
   "metadata": {
    "dotnet_interactive": {
     "language": "spiral"
    },
    "polyglot_notebook": {
     "kernelName": "spiral"
    }
   },
   "outputs": [
    {
     "data": {
      "text/html": [
       "<details open=\"open\" class=\"dni-treeview\"><summary><span class=\"dni-code-hint\"><code>(a, (1, b))</code></span></summary><div><table><thead><tr></tr></thead><tbody><tr><td>Item1</td><td><div class=\"dni-plaintext\"><pre>a</pre></div></td></tr><tr><td>Item2</td><td><details class=\"dni-treeview\"><summary><span class=\"dni-code-hint\"><code>(1, b)</code></span></summary><div><table><thead><tr></tr></thead><tbody><tr><td>Item1</td><td><div class=\"dni-plaintext\"><pre>1</pre></div></td></tr><tr><td>Item2</td><td><div class=\"dni-plaintext\"><pre>b</pre></div></td></tr></tbody></table></div></details></td></tr></tbody></table></div></details><style>\n",
       ".dni-code-hint {\n",
       "    font-style: italic;\n",
       "    overflow: hidden;\n",
       "    white-space: nowrap;\n",
       "}\n",
       ".dni-treeview {\n",
       "    white-space: nowrap;\n",
       "}\n",
       ".dni-treeview td {\n",
       "    vertical-align: top;\n",
       "    text-align: start;\n",
       "}\n",
       "details.dni-treeview {\n",
       "    padding-left: 1em;\n",
       "}\n",
       "table td {\n",
       "    text-align: start;\n",
       "}\n",
       "table tr { \n",
       "    vertical-align: top; \n",
       "    margin: 0em 0px;\n",
       "}\n",
       "table tr td pre \n",
       "{ \n",
       "    vertical-align: top !important; \n",
       "    margin: 0em 0px !important;\n",
       "} \n",
       "table th {\n",
       "    text-align: start;\n",
       "}\n",
       "</style>"
      ]
     },
     "metadata": {},
     "output_type": "display_data"
    },
    {
     "name": "stdout",
     "output_type": "stream",
     "text": [
      "let rec method0 () : struct (string * (int32 * string)) =\n",
      "    let v0 : string = \"b\"\n",
      "    let v1 : (int32 * string) = 1, v0\n",
      "    let v2 : string = \"a\"\n",
      "    let v3 : (string * (int32 * string)) = v2, v1\n",
      "    let (a, b) = v3\n",
      "    let v4 : string = a\n",
      "    let v5 : (int32 * string) = b\n",
      "    struct (v4, v5)\n",
      "method0()\n",
      "\n"
     ]
    }
   ],
   "source": [
    "// // test\n",
    "\n",
    "new_pair \"a\" (new_pair 1i32 \"b\")\n",
    "|> from_pair"
   ]
  },
  {
   "cell_type": "markdown",
   "metadata": {},
   "source": [
    "## memoize"
   ]
  },
  {
   "cell_type": "code",
   "execution_count": null,
   "metadata": {
    "dotnet_interactive": {
     "language": "spiral"
    },
    "polyglot_notebook": {
     "kernelName": "spiral"
    }
   },
   "outputs": [
    {
     "name": "stdout",
     "output_type": "stream",
     "text": [
      "()\n",
      "\n"
     ]
    }
   ],
   "source": [
    "nominal lazy t = $'Lazy<`t>'\n",
    "\n",
    "inl memoize forall t. (fn : () -> t) : () -> t =\n",
    "    inl fn = join fn\n",
    "    inl result : lazy t = $'lazy !fn ()'\n",
    "    fun () => $'!result.Value'"
   ]
  },
  {
   "cell_type": "code",
   "execution_count": null,
   "metadata": {
    "dotnet_interactive": {
     "language": "spiral"
    },
    "polyglot_notebook": {
     "kernelName": "spiral"
    }
   },
   "outputs": [
    {
     "name": "stdout",
     "output_type": "stream",
     "text": [
      "type Mut0 = {mutable l0 : int32}\n",
      "let rec closure0 (v0 : Mut0) () : unit =\n",
      "    let v1 : int32 = v0.l0\n",
      "    let v2 : int32 = v1 + 1\n",
      "    v0.l0 <- v2\n",
      "    ()\n",
      "and method1 (v0 : Mut0) : (unit -> unit) =\n",
      "    closure0(v0)\n",
      "and method2 (v0 : bool) : bool =\n",
      "    v0\n",
      "and method0 () : unit =\n",
      "    let v0 : Mut0 = {l0 = 0} : Mut0\n",
      "    let v1 : (unit -> unit) = method1(v0)\n",
      "    let v2 : Lazy<unit> = lazy v1 ()\n",
      "    v2.Value\n",
      "    v2.Value\n",
      "    v2.Value\n",
      "    let v3 : int32 = v0.l0\n",
      "    let v4 : string = $\"%A{v3}\"\n",
      "    System.Console.WriteLine v4\n",
      "    let v5 : bool = v3 = 1\n",
      "    let v7 : bool =\n",
      "        if v5 then\n",
      "            true\n",
      "        else\n",
      "            method2(v5)\n",
      "    let v8 : string = $\"__expect / actual: %A{v3} / expected: %A{1}\"\n",
      "    let v9 : bool = v7 = false\n",
      "    if v9 then\n",
      "        failwith<unit> v8\n",
      "method0()\n",
      "\n",
      "1\n"
     ]
    }
   ],
   "source": [
    "// // test\n",
    "\n",
    "inl count = mut 0i32\n",
    "inl add =\n",
    "    fun () => count <- *count + 1\n",
    "    |> memoize\n",
    "\n",
    "add ()\n",
    "add ()\n",
    "add ()\n",
    "\n",
    "*count\n",
    "|> _assert_eq 1"
   ]
  },
  {
   "cell_type": "markdown",
   "metadata": {},
   "source": [
    "## to_any"
   ]
  },
  {
   "cell_type": "code",
   "execution_count": null,
   "metadata": {
    "dotnet_interactive": {
     "language": "spiral"
    },
    "polyglot_notebook": {
     "kernelName": "spiral"
    }
   },
   "outputs": [
    {
     "name": "stdout",
     "output_type": "stream",
     "text": [
      "()\n",
      "\n"
     ]
    }
   ],
   "source": [
    "inl to_any forall t. (obj : t) : any =\n",
    "    $\"!obj\"\n",
    "\n",
    "instance (~:>) any = to_any"
   ]
  },
  {
   "cell_type": "markdown",
   "metadata": {},
   "source": [
    "## (+.)"
   ]
  },
  {
   "cell_type": "code",
   "execution_count": null,
   "metadata": {
    "dotnet_interactive": {
     "language": "spiral"
    },
    "polyglot_notebook": {
     "kernelName": "spiral"
    }
   },
   "outputs": [
    {
     "name": "stdout",
     "output_type": "stream",
     "text": [
      "()\n",
      "\n"
     ]
    }
   ],
   "source": [
    "inl (+.) forall t. (a : t) (b : t) : t =\n",
    "    $\"!a + !b\""
   ]
  },
  {
   "cell_type": "markdown",
   "metadata": {},
   "source": [
    "## (-.)"
   ]
  },
  {
   "cell_type": "code",
   "execution_count": null,
   "metadata": {
    "dotnet_interactive": {
     "language": "spiral"
    },
    "polyglot_notebook": {
     "kernelName": "spiral"
    }
   },
   "outputs": [
    {
     "name": "stdout",
     "output_type": "stream",
     "text": [
      "()\n",
      "\n"
     ]
    }
   ],
   "source": [
    "inl (-.) forall t. (a : t) (b : t) : t =\n",
    "    $\"!a - !b\""
   ]
  },
  {
   "cell_type": "markdown",
   "metadata": {},
   "source": [
    "## (*.)"
   ]
  },
  {
   "cell_type": "code",
   "execution_count": null,
   "metadata": {
    "dotnet_interactive": {
     "language": "spiral"
    },
    "polyglot_notebook": {
     "kernelName": "spiral"
    }
   },
   "outputs": [
    {
     "name": "stdout",
     "output_type": "stream",
     "text": [
      "()\n",
      "\n"
     ]
    }
   ],
   "source": [
    "inl (*.) forall t. (a : t) (b : t) : t =\n",
    "    $\"!a * !b\""
   ]
  },
  {
   "cell_type": "markdown",
   "metadata": {},
   "source": [
    "## (/.)"
   ]
  },
  {
   "cell_type": "code",
   "execution_count": null,
   "metadata": {
    "dotnet_interactive": {
     "language": "spiral"
    },
    "polyglot_notebook": {
     "kernelName": "spiral"
    }
   },
   "outputs": [
    {
     "name": "stdout",
     "output_type": "stream",
     "text": [
      "()\n",
      "\n"
     ]
    }
   ],
   "source": [
    "inl (/.) forall t. (a : t) (b : t) : t =\n",
    "    $\"!a / !b\""
   ]
  },
  {
   "cell_type": "markdown",
   "metadata": {},
   "source": [
    "## (=.)"
   ]
  },
  {
   "cell_type": "code",
   "execution_count": null,
   "metadata": {
    "dotnet_interactive": {
     "language": "spiral"
    },
    "polyglot_notebook": {
     "kernelName": "spiral"
    }
   },
   "outputs": [
    {
     "name": "stdout",
     "output_type": "stream",
     "text": [
      "()\n",
      "\n"
     ]
    }
   ],
   "source": [
    "inl (=.) forall t. (a : t) (b : t) : bool =\n",
    "    $\"!a = !b\""
   ]
  },
  {
   "cell_type": "markdown",
   "metadata": {},
   "source": [
    "## (||>)"
   ]
  },
  {
   "cell_type": "code",
   "execution_count": null,
   "metadata": {
    "dotnet_interactive": {
     "language": "spiral"
    },
    "polyglot_notebook": {
     "kernelName": "spiral"
    }
   },
   "outputs": [
    {
     "name": "stdout",
     "output_type": "stream",
     "text": [
      "()\n",
      "\n"
     ]
    }
   ],
   "source": [
    "inl (||>) (arg1, arg2) fn =\n",
    "    arg2 |> fn arg1"
   ]
  },
  {
   "cell_type": "code",
   "execution_count": null,
   "metadata": {
    "dotnet_interactive": {
     "language": "spiral"
    },
    "polyglot_notebook": {
     "kernelName": "spiral"
    }
   },
   "outputs": [
    {
     "name": "stdout",
     "output_type": "stream",
     "text": [
      "let rec method0 () : unit =\n",
      "    let v0 : string = $\"%A{1}\"\n",
      "    System.Console.WriteLine v0\n",
      "    let v1 : string = $\"__expect / actual: %A{1} / expected: %A{1}\"\n",
      "    ()\n",
      "method0()\n",
      "\n",
      "1\n"
     ]
    }
   ],
   "source": [
    "// // test\n",
    "\n",
    "(3i32, 2i32)\n",
    "||> fun a b => a - b\n",
    "|> _assert_eq 1"
   ]
  },
  {
   "cell_type": "markdown",
   "metadata": {},
   "source": [
    "## flip"
   ]
  },
  {
   "cell_type": "code",
   "execution_count": null,
   "metadata": {
    "dotnet_interactive": {
     "language": "spiral"
    },
    "polyglot_notebook": {
     "kernelName": "spiral"
    }
   },
   "outputs": [
    {
     "name": "stdout",
     "output_type": "stream",
     "text": [
      "()\n",
      "\n"
     ]
    }
   ],
   "source": [
    "inl flip fn a b =\n",
    "    fn b a"
   ]
  },
  {
   "cell_type": "code",
   "execution_count": null,
   "metadata": {
    "dotnet_interactive": {
     "language": "spiral"
    },
    "polyglot_notebook": {
     "kernelName": "spiral"
    }
   },
   "outputs": [
    {
     "name": "stdout",
     "output_type": "stream",
     "text": [
      "let rec method0 () : unit =\n",
      "    let v0 : string = $\"%A{struct (2, 1)}\"\n",
      "    System.Console.WriteLine v0\n",
      "    let v1 : string = $\"__expect / actual: %A{struct (2, 1)} / expected: %A{struct (2, 1)}\"\n",
      "    ()\n",
      "method0()\n",
      "\n",
      "struct (2, 1)\n"
     ]
    }
   ],
   "source": [
    "// // test\n",
    "\n",
    "(1i32, 2i32)\n",
    "||> flip pair\n",
    "|> _assert_eq (2, 1)"
   ]
  },
  {
   "cell_type": "markdown",
   "metadata": {},
   "source": [
    "## join_body"
   ]
  },
  {
   "cell_type": "code",
   "execution_count": null,
   "metadata": {
    "dotnet_interactive": {
     "language": "spiral"
    },
    "polyglot_notebook": {
     "kernelName": "spiral"
    }
   },
   "outputs": [
    {
     "name": "stdout",
     "output_type": "stream",
     "text": [
      "()\n",
      "\n"
     ]
    }
   ],
   "source": [
    "inl join_body body acc x =\n",
    "    if var_is x |> not\n",
    "    then body acc x\n",
    "    else\n",
    "        inl acc = dyn acc\n",
    "        join body acc x"
   ]
  },
  {
   "cell_type": "code",
   "execution_count": null,
   "metadata": {
    "dotnet_interactive": {
     "language": "spiral"
    },
    "polyglot_notebook": {
     "kernelName": "spiral"
    }
   },
   "outputs": [
    {
     "name": "stdout",
     "output_type": "stream",
     "text": [
      "()\n",
      "\n"
     ]
    }
   ],
   "source": [
    "// // test\n",
    "\n",
    "inl rec fold_list f s = function\n",
    "    | Cons (x, x') => fold_list f (f s x) x'\n",
    "    | Nil => s"
   ]
  },
  {
   "cell_type": "code",
   "execution_count": null,
   "metadata": {
    "dotnet_interactive": {
     "language": "spiral"
    },
    "polyglot_notebook": {
     "kernelName": "spiral"
    }
   },
   "outputs": [
    {
     "name": "stdout",
     "output_type": "stream",
     "text": [
      "let rec method1 () : int32 =\n",
      "    3\n",
      "and method2 (v0 : bool) : bool =\n",
      "    v0\n",
      "and method0 () : unit =\n",
      "    let v0 : int32 = method1()\n",
      "    let v1 : int32 = 9 + v0\n",
      "    let v2 : int32 = v1 + 2\n",
      "    let v3 : int32 = v2 + 1\n",
      "    let v4 : string = $\"%A{v3}\"\n",
      "    System.Console.WriteLine v4\n",
      "    let v5 : bool = v3 = 15\n",
      "    let v7 : bool =\n",
      "        if v5 then\n",
      "            true\n",
      "        else\n",
      "            method2(v5)\n",
      "    let v8 : string = $\"__expect / actual: %A{v3} / expected: %A{15}\"\n",
      "    let v9 : bool = v7 = false\n",
      "    if v9 then\n",
      "        failwith<unit> v8\n",
      "method0()\n",
      "\n",
      "15\n"
     ]
    }
   ],
   "source": [
    "// // test\n",
    "\n",
    "[ 5i32; 4; join 3; 2; 1 ]\n",
    "|> fold_list (+) 0\n",
    "|> _assert_eq 15"
   ]
  },
  {
   "cell_type": "code",
   "execution_count": null,
   "metadata": {
    "dotnet_interactive": {
     "language": "spiral"
    },
    "polyglot_notebook": {
     "kernelName": "spiral"
    }
   },
   "outputs": [
    {
     "name": "stdout",
     "output_type": "stream",
     "text": [
      "let rec method1 () : int32 =\n",
      "    3\n",
      "and method2 (v0 : int32, v1 : int32) : int32 =\n",
      "    let v2 : int32 = v1 + v0\n",
      "    v2\n",
      "and method3 (v0 : bool) : bool =\n",
      "    v0\n",
      "and method0 () : unit =\n",
      "    let v0 : int32 = method1()\n",
      "    let v1 : int32 = 9\n",
      "    let v2 : int32 = method2(v0, v1)\n",
      "    let v3 : int32 = v2 + 2\n",
      "    let v4 : int32 = v3 + 1\n",
      "    let v5 : string = $\"%A{v4}\"\n",
      "    System.Console.WriteLine v5\n",
      "    let v6 : bool = v4 = 15\n",
      "    let v8 : bool =\n",
      "        if v6 then\n",
      "            true\n",
      "        else\n",
      "            method3(v6)\n",
      "    let v9 : string = $\"__expect / actual: %A{v4} / expected: %A{15}\"\n",
      "    let v10 : bool = v8 = false\n",
      "    if v10 then\n",
      "        failwith<unit> v9\n",
      "method0()\n",
      "\n",
      "15\n"
     ]
    }
   ],
   "source": [
    "// // test\n",
    "\n",
    "[ 5i32; 4; join 3; 2; 1 ]\n",
    "|> fold_list (join_body (+)) 0\n",
    "|> _assert_eq 15"
   ]
  },
  {
   "cell_type": "markdown",
   "metadata": {},
   "source": [
    "## join_body_unit"
   ]
  },
  {
   "cell_type": "code",
   "execution_count": null,
   "metadata": {
    "dotnet_interactive": {
     "language": "spiral"
    },
    "polyglot_notebook": {
     "kernelName": "spiral"
    }
   },
   "outputs": [
    {
     "name": "stdout",
     "output_type": "stream",
     "text": [
      "()\n",
      "\n"
     ]
    }
   ],
   "source": [
    "inl join_body_unit body d x =\n",
    "    if var_is d |> not\n",
    "    then body x\n",
    "    else\n",
    "        inl x = dyn x\n",
    "        join body x"
   ]
  },
  {
   "cell_type": "code",
   "execution_count": null,
   "metadata": {
    "dotnet_interactive": {
     "language": "spiral"
    },
    "polyglot_notebook": {
     "kernelName": "spiral"
    }
   },
   "outputs": [
    {
     "name": "stdout",
     "output_type": "stream",
     "text": [
      "let rec method1 () : int32 =\n",
      "    3\n",
      "and method2 (v0 : int32) : int32 =\n",
      "    let v1 : int32 = 9 + v0\n",
      "    v1\n",
      "and method3 (v0 : bool) : bool =\n",
      "    v0\n",
      "and method0 () : unit =\n",
      "    let v0 : int32 = method1()\n",
      "    let v1 : int32 = method2(v0)\n",
      "    let v2 : int32 = v1 + 2\n",
      "    let v3 : int32 = v2 + 1\n",
      "    let v4 : string = $\"%A{v3}\"\n",
      "    System.Console.WriteLine v4\n",
      "    let v5 : bool = v3 = 15\n",
      "    let v7 : bool =\n",
      "        if v5 then\n",
      "            true\n",
      "        else\n",
      "            method3(v5)\n",
      "    let v8 : string = $\"__expect / actual: %A{v3} / expected: %A{15}\"\n",
      "    let v9 : bool = v7 = false\n",
      "    if v9 then\n",
      "        failwith<unit> v8\n",
      "method0()\n",
      "\n",
      "15\n"
     ]
    }
   ],
   "source": [
    "// // test\n",
    "\n",
    "[ 5i32; 4; join 3; 2; 1 ]\n",
    "|> fold_list (fun acc n => join_body_unit ((+) acc) n n) 0\n",
    "|> _assert_eq 15"
   ]
  },
  {
   "cell_type": "markdown",
   "metadata": {},
   "source": [
    "## nameof"
   ]
  },
  {
   "cell_type": "code",
   "execution_count": null,
   "metadata": {
    "dotnet_interactive": {
     "language": "spiral"
    },
    "polyglot_notebook": {
     "kernelName": "spiral"
    }
   },
   "outputs": [
    {
     "name": "stdout",
     "output_type": "stream",
     "text": [
      "()\n",
      "\n"
     ]
    }
   ],
   "source": [
    "inl nameof x : string =\n",
    "    $\"nameof !x\""
   ]
  },
  {
   "cell_type": "markdown",
   "metadata": {},
   "source": [
    "## get_environment_variable"
   ]
  },
  {
   "cell_type": "code",
   "execution_count": null,
   "metadata": {
    "dotnet_interactive": {
     "language": "spiral"
    },
    "polyglot_notebook": {
     "kernelName": "spiral"
    }
   },
   "outputs": [
    {
     "name": "stdout",
     "output_type": "stream",
     "text": [
      "()\n",
      "\n"
     ]
    }
   ],
   "source": [
    "inl get_environment_variable (var : string) : string =\n",
    "    $\"System.Environment.GetEnvironmentVariable !var\""
   ]
  },
  {
   "cell_type": "code",
   "execution_count": null,
   "metadata": {
    "dotnet_interactive": {
     "language": "spiral"
    },
    "polyglot_notebook": {
     "kernelName": "spiral"
    }
   },
   "outputs": [
    {
     "name": "stdout",
     "output_type": "stream",
     "text": [
      "type [<Struct>] US0 =\n",
      "    | US0_0 of f0_0 : exn\n",
      "    | US0_1\n",
      "and [<Struct>] US1 =\n",
      "    | US1_0 of f0_0 : string\n",
      "    | US1_1\n",
      "let rec closure0 () () : unit =\n",
      "    failwith<unit> \"test\"\n",
      "and closure1 () (v0 : exn) : US0 =\n",
      "    US0_0(v0)\n",
      "and method1 (v0 : bool) : bool =\n",
      "    v0\n",
      "and method0 () : unit =\n",
      "    let v0 : (unit -> unit) = closure0()\n",
      "    let v1 : US0 = US0_1\n",
      "    let v2 : (exn -> US0) = closure1()\n",
      "    let v3 : US0 = try v0 (); v1 with ex -> ex |> v2\n",
      "    let v17 : US1 =\n",
      "        match v3 with\n",
      "        | US0_1 -> (* None *)\n",
      "            US1_1\n",
      "        | US0_0(v4) -> (* Some *)\n",
      "            let v5 : string option = None\n",
      "            let v6 : bool = true in let mutable _v5 = v5\n",
      "            #if FABLE_COMPILER_RUST && !WASM && !CONTRACT\n",
      "            let v7 : string = $\"%A{v4}\"\n",
      "            v7\n",
      "#endif\n",
      "            #if FABLE_COMPILER_RUST && WASM\n",
      "            let v8 : string = $\"%A{v4}\"\n",
      "            v8\n",
      "#endif\n",
      "            #if FABLE_COMPILER_RUST && CONTRACT\n",
      "            let v9 : string = $\"%A{v4}\"\n",
      "            v9\n",
      "#endif\n",
      "            #if !FABLE_COMPILER && !FABLE_COMPILER_RUST && !FABLE_COMPILER_TYPESCRIPT && !WASM && !CONTRACT\n",
      "            let v10 : string = $\"{v4.GetType ()}: {v4.Message}\"\n",
      "            v10\n",
      "#endif\n",
      "            #if FABLE_COMPILER_TYPESCRIPT\n",
      "            let v11 : string = $\"%A{v4}\"\n",
      "            v11\n",
      "#endif\n",
      "            #if FABLE_COMPILER_PYTHON || FABLE_COMPILER_PHP || FABLE_COMPILER_DART\n",
      "            let v12 : string = Unchecked.defaultof<string>\n",
      "            v12\n",
      "#endif\n",
      "            |> fun x -> _v5 <- Some x\n",
      "            let v13 : string = _v5.Value\n",
      "            US1_0(v13)\n",
      "    let v18 : string = $\"%A{v17}\"\n",
      "    System.Console.WriteLine v18\n",
      "    let v23 : bool =\n",
      "        match v17 with\n",
      "        | US1_0(v21) -> (* Some *)\n",
      "            let v22 : bool = v21 = \"System.Exception: test\"\n",
      "            v22\n",
      "        | _ ->\n",
      "            false\n",
      "    let v25 : bool =\n",
      "        if v23 then\n",
      "            true\n",
      "        else\n",
      "            method1(v23)\n",
      "    let v26 : string = \"System.Exception: test\"\n",
      "    let v27 : US1 = US1_0(v26)\n",
      "    let v28 : string = $\"__expect / actual: %A{v17} / expected: %A{v27}\"\n",
      "    let v29 : bool = v25 = false\n",
      "    if v29 then\n",
      "        failwith<unit> v28\n",
      "method0()\n",
      "\n",
      "US1_0 \"System.Exception: test\"\n"
     ]
    }
   ],
   "source": [
    "// // test\n",
    "\n",
    "fun () => failwith \"test\"\n",
    "|> _throws\n",
    "|> optionm.map sm'.format_exception\n",
    "|> _assert_eq (Some \"System.Exception: test\")"
   ]
  },
  {
   "cell_type": "markdown",
   "metadata": {},
   "source": [
    "## disposable"
   ]
  },
  {
   "cell_type": "code",
   "execution_count": null,
   "metadata": {
    "dotnet_interactive": {
     "language": "spiral"
    },
    "polyglot_notebook": {
     "kernelName": "spiral"
    }
   },
   "outputs": [
    {
     "name": "stdout",
     "output_type": "stream",
     "text": [
      "()\n",
      "\n"
     ]
    }
   ],
   "source": [
    "nominal disposable t = $\"System.IDisposable\""
   ]
  },
  {
   "cell_type": "markdown",
   "metadata": {},
   "source": [
    "## dispose"
   ]
  },
  {
   "cell_type": "code",
   "execution_count": null,
   "metadata": {
    "dotnet_interactive": {
     "language": "spiral"
    },
    "polyglot_notebook": {
     "kernelName": "spiral"
    }
   },
   "outputs": [
    {
     "name": "stdout",
     "output_type": "stream",
     "text": [
      "()\n",
      "\n"
     ]
    }
   ],
   "source": [
    "inl dispose (disposable : disposable _) : () =\n",
    "    disposable |> $'_.Dispose()'"
   ]
  },
  {
   "cell_type": "markdown",
   "metadata": {},
   "source": [
    "## new_disposable"
   ]
  },
  {
   "cell_type": "code",
   "execution_count": null,
   "metadata": {
    "dotnet_interactive": {
     "language": "spiral"
    },
    "polyglot_notebook": {
     "kernelName": "spiral"
    }
   },
   "outputs": [
    {
     "name": "stdout",
     "output_type": "stream",
     "text": [
      "()\n",
      "\n"
     ]
    }
   ],
   "source": [
    "inl new_disposable (fn : () -> ()) : disposable _ =\n",
    "    run_target function\n",
    "        | Fsharp _ => fun () => $'{ new System.IDisposable with member _.Dispose () = !fn () }'\n",
    "        // | Rust _ =>\n",
    "        //     fun () =>\n",
    "                // $'{ new System.IDisposable with member _.Dispose () = Fable.Core.RustInterop.emitRustExpr () \"!fn()\" }'\n",
    "        | _ => fun () => null ()"
   ]
  },
  {
   "cell_type": "code",
   "execution_count": null,
   "metadata": {
    "dotnet_interactive": {
     "language": "spiral"
    },
    "polyglot_notebook": {
     "kernelName": "spiral"
    }
   },
   "outputs": [
    {
     "name": "stdout",
     "output_type": "stream",
     "text": [
      "type Mut0 = {mutable l0 : int32}\n",
      "let rec closure0 (v0 : Mut0) () : unit =\n",
      "    let v1 : int32 = v0.l0\n",
      "    let v2 : int32 = v1 + 1\n",
      "    v0.l0 <- v2\n",
      "    ()\n",
      "and method1 (v0 : bool) : bool =\n",
      "    v0\n",
      "and method0 () : unit =\n",
      "    let v0 : Mut0 = {l0 = 0} : Mut0\n",
      "    let v1 : System.IDisposable option = None\n",
      "    let v2 : bool = true in let mutable _v1 = v1\n",
      "    #if FABLE_COMPILER_RUST && !WASM && !CONTRACT\n",
      "    let v3 : System.IDisposable = null |> unbox<System.IDisposable>\n",
      "    v3\n",
      "#endif\n",
      "    #if FABLE_COMPILER_RUST && WASM\n",
      "    let v4 : System.IDisposable = null |> unbox<System.IDisposable>\n",
      "    v4\n",
      "#endif\n",
      "    #if FABLE_COMPILER_RUST && CONTRACT\n",
      "    let v5 : System.IDisposable = null |> unbox<System.IDisposable>\n",
      "    v5\n",
      "#endif\n",
      "    #if !FABLE_COMPILER && !FABLE_COMPILER_RUST && !FABLE_COMPILER_TYPESCRIPT && !WASM && !CONTRACT\n",
      "    let v6 : (unit -> unit) = closure0(v0)\n",
      "    let v7 : System.IDisposable = { new System.IDisposable with member _.Dispose () = v6 () }\n",
      "    v7\n",
      "#endif\n",
      "    #if FABLE_COMPILER_TYPESCRIPT\n",
      "    let v8 : System.IDisposable = null |> unbox<System.IDisposable>\n",
      "    v8\n",
      "#endif\n",
      "    #if FABLE_COMPILER_PYTHON || FABLE_COMPILER_PHP || FABLE_COMPILER_DART\n",
      "    let v9 : System.IDisposable = Unchecked.defaultof<System.IDisposable>\n",
      "    v9\n",
      "#endif\n",
      "    |> fun x -> _v1 <- Some x\n",
      "    let v10 : System.IDisposable = _v1.Value\n",
      "    let v11 : (System.IDisposable -> unit) = _.Dispose()\n",
      "    v11 v10\n",
      "    let v12 : int32 = v0.l0\n",
      "    let v13 : string = $\"%A{v12}\"\n",
      "    System.Console.WriteLine v13\n",
      "    let v14 : bool = v12 = 1\n",
      "    let v16 : bool =\n",
      "        if v14 then\n",
      "            true\n",
      "        else\n",
      "            method1(v14)\n",
      "    let v17 : string = $\"__expect / actual: %A{v12} / expected: %A{1}\"\n",
      "    let v18 : bool = v16 = false\n",
      "    if v18 then\n",
      "        failwith<unit> v17\n",
      "method0()\n",
      "\n",
      "1\n"
     ]
    }
   ],
   "source": [
    "// // test\n",
    "\n",
    "inl new_disposable_test = mut 0i32\n",
    "new_disposable (fun () => new_disposable_test <- *new_disposable_test + 1)\n",
    "|> fun x => x : disposable ()\n",
    "|> dispose\n",
    "*new_disposable_test |> _assert_eq 1"
   ]
  },
  {
   "cell_type": "code",
   "execution_count": null,
   "metadata": {
    "dotnet_interactive": {
     "language": "spiral"
    },
    "polyglot_notebook": {
     "kernelName": "spiral"
    }
   },
   "outputs": [
    {
     "name": "stdout",
     "output_type": "stream",
     "text": [
      "type Mut0 = {mutable l0 : int32}\n",
      "let rec closure0 (v0 : Mut0) () : unit =\n",
      "    let v1 : int32 = v0.l0\n",
      "    let v2 : int32 = v1 + 1\n",
      "    v0.l0 <- v2\n",
      "    ()\n",
      "and method1 (v0 : bool) : bool =\n",
      "    v0\n",
      "and method0 () : unit =\n",
      "    let v0 : Mut0 = {l0 = 0} : Mut0\n",
      "    let v1 : System.Threading.Tasks.Task option = None\n",
      "    let v2 : bool = true in let mutable _v1 = v1\n",
      "    #if FABLE_COMPILER_RUST && !WASM && !CONTRACT\n",
      "    let v3 : System.Threading.Tasks.Task = null |> unbox<System.Threading.Tasks.Task>\n",
      "    v3\n",
      "#endif\n",
      "    #if FABLE_COMPILER_RUST && WASM\n",
      "    let v4 : System.Threading.Tasks.Task = null |> unbox<System.Threading.Tasks.Task>\n",
      "    v4\n",
      "#endif\n",
      "    #if FABLE_COMPILER_RUST && CONTRACT\n",
      "    let v5 : System.Threading.Tasks.Task = null |> unbox<System.Threading.Tasks.Task>\n",
      "    v5\n",
      "#endif\n",
      "    #if !FABLE_COMPILER && !FABLE_COMPILER_RUST && !FABLE_COMPILER_TYPESCRIPT && !WASM && !CONTRACT\n",
      "    let v6 : System.Threading.Tasks.Task option = None\n",
      "    let mutable _v6 = v6\n",
      "    task {\n",
      "    let v7 : System.IDisposable option = None\n",
      "    let v8 : bool = true in let mutable _v7 = v7\n",
      "    #if FABLE_COMPILER_RUST && !WASM && !CONTRACT\n",
      "    let v9 : System.IDisposable = null |> unbox<System.IDisposable>\n",
      "    v9\n",
      "#endif\n",
      "    #if FABLE_COMPILER_RUST && WASM\n",
      "    let v10 : System.IDisposable = null |> unbox<System.IDisposable>\n",
      "    v10\n",
      "#endif\n",
      "    #if FABLE_COMPILER_RUST && CONTRACT\n",
      "    let v11 : System.IDisposable = null |> unbox<System.IDisposable>\n",
      "    v11\n",
      "#endif\n",
      "    #if !FABLE_COMPILER && !FABLE_COMPILER_RUST && !FABLE_COMPILER_TYPESCRIPT && !WASM && !CONTRACT\n",
      "    let v12 : (unit -> unit) = closure0(v0)\n",
      "    let v13 : System.IDisposable = { new System.IDisposable with member _.Dispose () = v12 () }\n",
      "    v13\n",
      "#endif\n",
      "    #if FABLE_COMPILER_TYPESCRIPT\n",
      "    let v14 : System.IDisposable = null |> unbox<System.IDisposable>\n",
      "    v14\n",
      "#endif\n",
      "    #if FABLE_COMPILER_PYTHON || FABLE_COMPILER_PHP || FABLE_COMPILER_DART\n",
      "    let v15 : System.IDisposable = Unchecked.defaultof<System.IDisposable>\n",
      "    v15\n",
      "#endif\n",
      "    |> fun x -> _v7 <- Some x\n",
      "    let v16 : System.IDisposable = _v7.Value\n",
      "    use v16 = v16 \n",
      "    let v17 : System.IDisposable = v16 \n",
      "    return () \n",
      "    }\n",
      "    |> fun x -> _v6 <- Some x\n",
      "    let v18 : System.Threading.Tasks.Task = _v6 |> Option.get\n",
      "    v18\n",
      "#endif\n",
      "    #if FABLE_COMPILER_TYPESCRIPT\n",
      "    let v19 : System.Threading.Tasks.Task = null |> unbox<System.Threading.Tasks.Task>\n",
      "    v19\n",
      "#endif\n",
      "    #if FABLE_COMPILER_PYTHON || FABLE_COMPILER_PHP || FABLE_COMPILER_DART\n",
      "    let v20 : System.Threading.Tasks.Task = Unchecked.defaultof<System.Threading.Tasks.Task>\n",
      "    v20\n",
      "#endif\n",
      "    |> fun x -> _v1 <- Some x\n",
      "    let v21 : System.Threading.Tasks.Task = _v1.Value\n",
      "    let v22 : Async<unit> option = None\n",
      "    let v23 : bool = true in let mutable _v22 = v22\n",
      "    #if FABLE_COMPILER_RUST && !WASM && !CONTRACT\n",
      "    let v24 : Async<unit> = null |> unbox<Async<unit>>\n",
      "    v24\n",
      "#endif\n",
      "    #if FABLE_COMPILER_RUST && WASM\n",
      "    let v25 : Async<unit> = null |> unbox<Async<unit>>\n",
      "    v25\n",
      "#endif\n",
      "    #if FABLE_COMPILER_RUST && CONTRACT\n",
      "    let v26 : Async<unit> = null |> unbox<Async<unit>>\n",
      "    v26\n",
      "#endif\n",
      "    #if !FABLE_COMPILER && !FABLE_COMPILER_RUST && !FABLE_COMPILER_TYPESCRIPT && !WASM && !CONTRACT\n",
      "    let v27 : (System.Threading.Tasks.Task -> Async<unit>) = Async.AwaitTask\n",
      "    let v28 : Async<unit> = v27 v21\n",
      "    v28\n",
      "#endif\n",
      "    #if FABLE_COMPILER_TYPESCRIPT\n",
      "    let v29 : Async<unit> = null |> unbox<Async<unit>>\n",
      "    v29\n",
      "#endif\n",
      "    #if FABLE_COMPILER_PYTHON || FABLE_COMPILER_PHP || FABLE_COMPILER_DART\n",
      "    let v30 : Async<unit> = Unchecked.defaultof<Async<unit>>\n",
      "    v30\n",
      "#endif\n",
      "    |> fun x -> _v22 <- Some x\n",
      "    let v31 : Async<unit> = _v22.Value\n",
      "    let v32 : unit option = None\n",
      "    let v33 : bool = true in let mutable _v32 = v32\n",
      "    #if FABLE_COMPILER_RUST && !WASM && !CONTRACT\n",
      "    null |> unbox<unit>\n",
      "    ()\n",
      "#endif\n",
      "    #if FABLE_COMPILER_RUST && WASM\n",
      "    null |> unbox<unit>\n",
      "    ()\n",
      "#endif\n",
      "    #if FABLE_COMPILER_RUST && CONTRACT\n",
      "    null |> unbox<unit>\n",
      "    ()\n",
      "#endif\n",
      "    #if !FABLE_COMPILER && !FABLE_COMPILER_RUST && !FABLE_COMPILER_TYPESCRIPT && !WASM && !CONTRACT\n",
      "    let v34 : (Async<unit> -> unit) = Async.RunSynchronously\n",
      "    v34 v31\n",
      "    ()\n",
      "#endif\n",
      "    #if FABLE_COMPILER_TYPESCRIPT\n",
      "    null |> unbox<unit>\n",
      "    ()\n",
      "#endif\n",
      "    #if FABLE_COMPILER_PYTHON || FABLE_COMPILER_PHP || FABLE_COMPILER_DART\n",
      "    Unchecked.defaultof<unit>\n",
      "    ()\n",
      "#endif\n",
      "    |> fun x -> _v32 <- Some x\n",
      "    _v32.Value\n",
      "    let v35 : int32 = v0.l0\n",
      "    let v36 : string = $\"%A{v35}\"\n",
      "    System.Console.WriteLine v36\n",
      "    let v37 : bool = v35 = 1\n",
      "    let v39 : bool =\n",
      "        if v37 then\n",
      "            true\n",
      "        else\n",
      "            method1(v37)\n",
      "    let v40 : string = $\"__expect / actual: %A{v35} / expected: %A{1}\"\n",
      "    let v41 : bool = v39 = false\n",
      "    if v41 then\n",
      "        failwith<unit> v40\n",
      "method0()\n",
      "\n",
      "1\n"
     ]
    }
   ],
   "source": [
    "// // test\n",
    "\n",
    "inl new_disposable_test = mut 0i32\n",
    "fun () =>\n",
    "    new_disposable fun () => new_disposable_test <- *new_disposable_test + 1\n",
    "    |> fun x => x : disposable ()\n",
    "    |> use\n",
    "    |> ignore\n",
    "    |> return\n",
    "|> async.new_task\n",
    "|> async.await_task\n",
    "|> async.run_synchronously\n",
    "*new_disposable_test |> _assert_eq 1"
   ]
  },
  {
   "cell_type": "code",
   "execution_count": null,
   "metadata": {
    "dotnet_interactive": {
     "language": "spiral"
    },
    "polyglot_notebook": {
     "kernelName": "spiral"
    }
   },
   "outputs": [
    {
     "name": "stdout",
     "output_type": "stream",
     "text": [
      "type Mut0 = {mutable l0 : int32}\n",
      "let rec closure0 (v0 : Mut0) () : unit =\n",
      "    let v1 : int32 = v0.l0\n",
      "    let v2 : int32 = v1 + 1\n",
      "    v0.l0 <- v2\n",
      "    ()\n",
      "and method1 (v0 : bool) : bool =\n",
      "    v0\n",
      "and method0 () : unit =\n",
      "    let v0 : Mut0 = {l0 = 0} : Mut0\n",
      "    let v1 : Async<unit> option = None\n",
      "    let v2 : bool = true in let mutable _v1 = v1\n",
      "    #if FABLE_COMPILER_RUST && !WASM && !CONTRACT\n",
      "    let v3 : Async<unit> = null |> unbox<Async<unit>>\n",
      "    v3\n",
      "#endif\n",
      "    #if FABLE_COMPILER_RUST && WASM\n",
      "    let v4 : Async<unit> = null |> unbox<Async<unit>>\n",
      "    v4\n",
      "#endif\n",
      "    #if FABLE_COMPILER_RUST && CONTRACT\n",
      "    let v5 : Async<unit> = null |> unbox<Async<unit>>\n",
      "    v5\n",
      "#endif\n",
      "    #if !FABLE_COMPILER && !FABLE_COMPILER_RUST && !FABLE_COMPILER_TYPESCRIPT && !WASM && !CONTRACT\n",
      "    let v6 : Async<unit> option = None\n",
      "    let mutable _v6 = v6\n",
      "    async {\n",
      "    let v7 : System.IDisposable option = None\n",
      "    let v8 : bool = true in let mutable _v7 = v7\n",
      "    #if FABLE_COMPILER_RUST && !WASM && !CONTRACT\n",
      "    let v9 : System.IDisposable = null |> unbox<System.IDisposable>\n",
      "    v9\n",
      "#endif\n",
      "    #if FABLE_COMPILER_RUST && WASM\n",
      "    let v10 : System.IDisposable = null |> unbox<System.IDisposable>\n",
      "    v10\n",
      "#endif\n",
      "    #if FABLE_COMPILER_RUST && CONTRACT\n",
      "    let v11 : System.IDisposable = null |> unbox<System.IDisposable>\n",
      "    v11\n",
      "#endif\n",
      "    #if !FABLE_COMPILER && !FABLE_COMPILER_RUST && !FABLE_COMPILER_TYPESCRIPT && !WASM && !CONTRACT\n",
      "    let v12 : (unit -> unit) = closure0(v0)\n",
      "    let v13 : System.IDisposable = { new System.IDisposable with member _.Dispose () = v12 () }\n",
      "    v13\n",
      "#endif\n",
      "    #if FABLE_COMPILER_TYPESCRIPT\n",
      "    let v14 : System.IDisposable = null |> unbox<System.IDisposable>\n",
      "    v14\n",
      "#endif\n",
      "    #if FABLE_COMPILER_PYTHON || FABLE_COMPILER_PHP || FABLE_COMPILER_DART\n",
      "    let v15 : System.IDisposable = Unchecked.defaultof<System.IDisposable>\n",
      "    v15\n",
      "#endif\n",
      "    |> fun x -> _v7 <- Some x\n",
      "    let v16 : System.IDisposable = _v7.Value\n",
      "    use v16 = v16 \n",
      "    let v17 : System.IDisposable = v16 \n",
      "    return () \n",
      "    }\n",
      "    |> fun x -> _v6 <- Some x\n",
      "    let v18 : Async<unit> = _v6 |> Option.get\n",
      "    v18\n",
      "#endif\n",
      "    #if FABLE_COMPILER_TYPESCRIPT\n",
      "    let v19 : Async<unit> = null |> unbox<Async<unit>>\n",
      "    v19\n",
      "#endif\n",
      "    #if FABLE_COMPILER_PYTHON || FABLE_COMPILER_PHP || FABLE_COMPILER_DART\n",
      "    let v20 : Async<unit> = Unchecked.defaultof<Async<unit>>\n",
      "    v20\n",
      "#endif\n",
      "    |> fun x -> _v1 <- Some x\n",
      "    let v21 : Async<unit> = _v1.Value\n",
      "    let v22 : unit option = None\n",
      "    let v23 : bool = true in let mutable _v22 = v22\n",
      "    #if FABLE_COMPILER_RUST && !WASM && !CONTRACT\n",
      "    null |> unbox<unit>\n",
      "    ()\n",
      "#endif\n",
      "    #if FABLE_COMPILER_RUST && WASM\n",
      "    null |> unbox<unit>\n",
      "    ()\n",
      "#endif\n",
      "    #if FABLE_COMPILER_RUST && CONTRACT\n",
      "    null |> unbox<unit>\n",
      "    ()\n",
      "#endif\n",
      "    #if !FABLE_COMPILER && !FABLE_COMPILER_RUST && !FABLE_COMPILER_TYPESCRIPT && !WASM && !CONTRACT\n",
      "    let v24 : (Async<unit> -> unit) = Async.RunSynchronously\n",
      "    v24 v21\n",
      "    ()\n",
      "#endif\n",
      "    #if FABLE_COMPILER_TYPESCRIPT\n",
      "    null |> unbox<unit>\n",
      "    ()\n",
      "#endif\n",
      "    #if FABLE_COMPILER_PYTHON || FABLE_COMPILER_PHP || FABLE_COMPILER_DART\n",
      "    Unchecked.defaultof<unit>\n",
      "    ()\n",
      "#endif\n",
      "    |> fun x -> _v22 <- Some x\n",
      "    _v22.Value\n",
      "    let v25 : int32 = v0.l0\n",
      "    let v26 : string = $\"%A{v25}\"\n",
      "    System.Console.WriteLine v26\n",
      "    let v27 : bool = v25 = 1\n",
      "    let v29 : bool =\n",
      "        if v27 then\n",
      "            true\n",
      "        else\n",
      "            method1(v27)\n",
      "    let v30 : string = $\"__expect / actual: %A{v25} / expected: %A{1}\"\n",
      "    let v31 : bool = v29 = false\n",
      "    if v31 then\n",
      "        failwith<unit> v30\n",
      "method0()\n",
      "\n",
      "1\n"
     ]
    }
   ],
   "source": [
    "// // test\n",
    "\n",
    "inl new_disposable_test = mut 0i32\n",
    "fun () =>\n",
    "    new_disposable fun () => new_disposable_test <- *new_disposable_test + 1\n",
    "    |> fun x => x : disposable ()\n",
    "    |> use\n",
    "    |> ignore\n",
    "    |> return\n",
    "|> async.new_async\n",
    "|> async.run_synchronously\n",
    "*new_disposable_test |> _assert_eq 1"
   ]
  },
  {
   "cell_type": "code",
   "execution_count": null,
   "metadata": {
    "dotnet_interactive": {
     "language": "spiral"
    },
    "polyglot_notebook": {
     "kernelName": "spiral"
    }
   },
   "outputs": [
    {
     "name": "stdout",
     "output_type": "stream",
     "text": [
      "type Mut0 = {mutable l0 : int32}\n",
      "let rec closure0 (v0 : Mut0) () : unit =\n",
      "    let v1 : int32 = v0.l0\n",
      "    let v2 : int32 = v1 + 1\n",
      "    v0.l0 <- v2\n",
      "    ()\n",
      "and method1 (v0 : bool) : bool =\n",
      "    v0\n",
      "and method0 () : unit =\n",
      "    let v0 : Mut0 = {l0 = 0} : Mut0\n",
      "    let v1 : Async<unit> option = None\n",
      "    let v2 : bool = true in let mutable _v1 = v1\n",
      "    #if FABLE_COMPILER_RUST && !WASM && !CONTRACT\n",
      "    let v3 : Async<unit> = null |> unbox<Async<unit>>\n",
      "    v3\n",
      "#endif\n",
      "    #if FABLE_COMPILER_RUST && WASM\n",
      "    let v4 : Async<unit> = null |> unbox<Async<unit>>\n",
      "    v4\n",
      "#endif\n",
      "    #if FABLE_COMPILER_RUST && CONTRACT\n",
      "    let v5 : Async<unit> = null |> unbox<Async<unit>>\n",
      "    v5\n",
      "#endif\n",
      "    #if !FABLE_COMPILER && !FABLE_COMPILER_RUST && !FABLE_COMPILER_TYPESCRIPT && !WASM && !CONTRACT\n",
      "    let v6 : Async<unit> option = None\n",
      "    let mutable _v6 = v6\n",
      "    async {\n",
      "    let v7 : System.IDisposable option = None\n",
      "    let v8 : bool = true in let mutable _v7 = v7\n",
      "    #if FABLE_COMPILER_RUST && !WASM && !CONTRACT\n",
      "    let v9 : System.IDisposable = null |> unbox<System.IDisposable>\n",
      "    v9\n",
      "#endif\n",
      "    #if FABLE_COMPILER_RUST && WASM\n",
      "    let v10 : System.IDisposable = null |> unbox<System.IDisposable>\n",
      "    v10\n",
      "#endif\n",
      "    #if FABLE_COMPILER_RUST && CONTRACT\n",
      "    let v11 : System.IDisposable = null |> unbox<System.IDisposable>\n",
      "    v11\n",
      "#endif\n",
      "    #if !FABLE_COMPILER && !FABLE_COMPILER_RUST && !FABLE_COMPILER_TYPESCRIPT && !WASM && !CONTRACT\n",
      "    let v12 : (unit -> unit) = closure0(v0)\n",
      "    let v13 : System.IDisposable = { new System.IDisposable with member _.Dispose () = v12 () }\n",
      "    v13\n",
      "#endif\n",
      "    #if FABLE_COMPILER_TYPESCRIPT\n",
      "    let v14 : System.IDisposable = null |> unbox<System.IDisposable>\n",
      "    v14\n",
      "#endif\n",
      "    #if FABLE_COMPILER_PYTHON || FABLE_COMPILER_PHP || FABLE_COMPILER_DART\n",
      "    let v15 : System.IDisposable = Unchecked.defaultof<System.IDisposable>\n",
      "    v15\n",
      "#endif\n",
      "    |> fun x -> _v7 <- Some x\n",
      "    let v16 : System.IDisposable = _v7.Value\n",
      "    return () \n",
      "    }\n",
      "    |> fun x -> _v6 <- Some x\n",
      "    let v17 : Async<unit> = _v6 |> Option.get\n",
      "    v17\n",
      "#endif\n",
      "    #if FABLE_COMPILER_TYPESCRIPT\n",
      "    let v18 : Async<unit> = null |> unbox<Async<unit>>\n",
      "    v18\n",
      "#endif\n",
      "    #if FABLE_COMPILER_PYTHON || FABLE_COMPILER_PHP || FABLE_COMPILER_DART\n",
      "    let v19 : Async<unit> = Unchecked.defaultof<Async<unit>>\n",
      "    v19\n",
      "#endif\n",
      "    |> fun x -> _v1 <- Some x\n",
      "    let v20 : Async<unit> = _v1.Value\n",
      "    let v21 : unit option = None\n",
      "    let v22 : bool = true in let mutable _v21 = v21\n",
      "    #if FABLE_COMPILER_RUST && !WASM && !CONTRACT\n",
      "    null |> unbox<unit>\n",
      "    ()\n",
      "#endif\n",
      "    #if FABLE_COMPILER_RUST && WASM\n",
      "    null |> unbox<unit>\n",
      "    ()\n",
      "#endif\n",
      "    #if FABLE_COMPILER_RUST && CONTRACT\n",
      "    null |> unbox<unit>\n",
      "    ()\n",
      "#endif\n",
      "    #if !FABLE_COMPILER && !FABLE_COMPILER_RUST && !FABLE_COMPILER_TYPESCRIPT && !WASM && !CONTRACT\n",
      "    let v23 : (Async<unit> -> unit) = Async.RunSynchronously\n",
      "    v23 v20\n",
      "    ()\n",
      "#endif\n",
      "    #if FABLE_COMPILER_TYPESCRIPT\n",
      "    null |> unbox<unit>\n",
      "    ()\n",
      "#endif\n",
      "    #if FABLE_COMPILER_PYTHON || FABLE_COMPILER_PHP || FABLE_COMPILER_DART\n",
      "    Unchecked.defaultof<unit>\n",
      "    ()\n",
      "#endif\n",
      "    |> fun x -> _v21 <- Some x\n",
      "    _v21.Value\n",
      "    let v24 : int32 = v0.l0\n",
      "    let v25 : string = $\"%A{v24}\"\n",
      "    System.Console.WriteLine v25\n",
      "    let v26 : bool = v24 = 0\n",
      "    let v28 : bool =\n",
      "        if v26 then\n",
      "            true\n",
      "        else\n",
      "            method1(v26)\n",
      "    let v29 : string = $\"__expect / actual: %A{v24} / expected: %A{0}\"\n",
      "    let v30 : bool = v28 = false\n",
      "    if v30 then\n",
      "        failwith<unit> v29\n",
      "method0()\n",
      "\n",
      "0\n"
     ]
    }
   ],
   "source": [
    "// // test\n",
    "\n",
    "inl new_disposable_test = mut 0i32\n",
    "fun () =>\n",
    "    new_disposable fun () => new_disposable_test <- *new_disposable_test + 1\n",
    "    |> fun x => x : disposable ()\n",
    "    |> ignore\n",
    "    |> return\n",
    "|> async.new_async\n",
    "|> async.run_synchronously\n",
    "*new_disposable_test |> _assert_eq 0"
   ]
  },
  {
   "cell_type": "markdown",
   "metadata": {},
   "source": [
    "## return"
   ]
  },
  {
   "cell_type": "code",
   "execution_count": null,
   "metadata": {
    "dotnet_interactive": {
     "language": "spiral"
    },
    "polyglot_notebook": {
     "kernelName": "spiral"
    }
   },
   "outputs": [
    {
     "name": "stdout",
     "output_type": "stream",
     "text": [
      "()\n",
      "\n"
     ]
    }
   ],
   "source": [
    "inl return forall t. (x : t) : () =\n",
    "    $'return !x '\n",
    "\n",
    "inl return' forall t. (x : t) : t =\n",
    "    $'return !x '"
   ]
  },
  {
   "cell_type": "markdown",
   "metadata": {},
   "source": [
    "## sleep"
   ]
  },
  {
   "cell_type": "code",
   "execution_count": null,
   "metadata": {
    "dotnet_interactive": {
     "language": "spiral"
    },
    "polyglot_notebook": {
     "kernelName": "spiral"
    }
   },
   "outputs": [
    {
     "name": "stdout",
     "output_type": "stream",
     "text": [
      "()\n",
      "\n"
     ]
    }
   ],
   "source": [
    "inl sleep (n : i32) : () =\n",
    "    run_target function\n",
    "        | Fsharp (Native) => fun () => $'System.Threading.Thread.Sleep' n\n",
    "        | _ => fun () => ()"
   ]
  },
  {
   "cell_type": "markdown",
   "metadata": {},
   "source": [
    "## retry_fn"
   ]
  },
  {
   "cell_type": "code",
   "execution_count": null,
   "metadata": {
    "dotnet_interactive": {
     "language": "spiral"
    },
    "polyglot_notebook": {
     "kernelName": "spiral"
    }
   },
   "outputs": [
    {
     "name": "stdout",
     "output_type": "stream",
     "text": [
      "()\n",
      "\n"
     ]
    }
   ],
   "source": [
    "inl retry_fn forall t. retries (fn : () -> t) : option t =\n",
    "    let rec loop retry =\n",
    "        try\n",
    "            fun () =>\n",
    "                if retry < retries\n",
    "                then fn () |> Some\n",
    "                else None\n",
    "            fun ex =>\n",
    "                inl get_locals () = $'$\"retry: {!retry} / ex: {ex |> SpiralSm.format_exception} / {!get_locals ()}\"' : string\n",
    "                // trace Warning (fun () => \"retry_fn\") getLocals\n",
    "                sleep 1\n",
    "                None\n",
    "        |> function\n",
    "            | Some x => x\n",
    "            | None => loop (retry + 1)\n",
    "    loop 0"
   ]
  },
  {
   "cell_type": "code",
   "execution_count": null,
   "metadata": {
    "dotnet_interactive": {
     "language": "spiral"
    },
    "polyglot_notebook": {
     "kernelName": "spiral"
    }
   },
   "outputs": [
    {
     "name": "stdout",
     "output_type": "stream",
     "text": [
      "type Mut0 = {mutable l0 : int32}\n",
      "and [<Struct>] US0 =\n",
      "    | US0_0 of f0_0 : int32\n",
      "    | US0_1\n",
      "and [<Struct>] US1 =\n",
      "    | US1_0 of f0_0 : US0\n",
      "    | US1_1\n",
      "let rec closure0 (v0 : Mut0, v1 : int32) () : US0 =\n",
      "    let v2 : bool = v1 < 3\n",
      "    if v2 then\n",
      "        let v3 : int32 = v0.l0\n",
      "        let v4 : int32 = v3 + 1\n",
      "        v0.l0 <- v4\n",
      "        let v5 : int32 = v0.l0\n",
      "        US0_0(v5)\n",
      "    else\n",
      "        US0_1\n",
      "and closure1 () (v0 : US0) : US1 =\n",
      "    US1_0(v0)\n",
      "and closure2 (v0 : int32) (v1 : exn) : US1 =\n",
      "    let v2 : unit option = None\n",
      "    let v3 : bool = true in let mutable _v2 = v2\n",
      "    #if FABLE_COMPILER_RUST && !WASM && !CONTRACT\n",
      "    ()\n",
      "#endif\n",
      "    #if FABLE_COMPILER_RUST && WASM\n",
      "    ()\n",
      "#endif\n",
      "    #if FABLE_COMPILER_RUST && CONTRACT\n",
      "    ()\n",
      "#endif\n",
      "    #if !FABLE_COMPILER && !FABLE_COMPILER_RUST && !FABLE_COMPILER_TYPESCRIPT && !WASM && !CONTRACT\n",
      "    let v4 : (int32 -> unit) = System.Threading.Thread.Sleep\n",
      "    v4 1\n",
      "    ()\n",
      "#endif\n",
      "    #if FABLE_COMPILER_TYPESCRIPT\n",
      "    ()\n",
      "#endif\n",
      "    #if FABLE_COMPILER_PYTHON || FABLE_COMPILER_PHP || FABLE_COMPILER_DART\n",
      "    Unchecked.defaultof<unit>\n",
      "    ()\n",
      "#endif\n",
      "    |> fun x -> _v2 <- Some x\n",
      "    _v2.Value\n",
      "    US1_1\n",
      "and method1 (v0 : Mut0, v1 : int32) : US0 =\n",
      "    let v2 : (unit -> US0) = closure0(v0, v1)\n",
      "    let v3 : (US0 -> US1) = closure1()\n",
      "    let v4 : (exn -> US1) = closure2(v1)\n",
      "    let v5 : US1 = try v2 () |> v3 with ex -> v4 ex \n",
      "    match v5 with\n",
      "    | US1_1 -> (* None *)\n",
      "        let v7 : int32 = v1 + 1\n",
      "        method1(v0, v7)\n",
      "    | US1_0(v6) -> (* Some *)\n",
      "        v6\n",
      "and method2 (v0 : bool) : bool =\n",
      "    v0\n",
      "and method0 () : unit =\n",
      "    let v0 : Mut0 = {l0 = 0} : Mut0\n",
      "    let v1 : int32 = 0\n",
      "    let v2 : US0 = method1(v0, v1)\n",
      "    let v3 : string = $\"%A{v2}\"\n",
      "    System.Console.WriteLine v3\n",
      "    let v7 : bool =\n",
      "        match v2 with\n",
      "        | US0_0(v5) -> (* Some *)\n",
      "            let v6 : bool = v5 = 1\n",
      "            v6\n",
      "        | _ ->\n",
      "            false\n",
      "    let v9 : bool =\n",
      "        if v7 then\n",
      "            true\n",
      "        else\n",
      "            method2(v7)\n",
      "    let v10 : US0 = US0_0(1)\n",
      "    let v11 : string = $\"__expect / actual: %A{v2} / expected: %A{v10}\"\n",
      "    let v12 : bool = v9 = false\n",
      "    if v12 then\n",
      "        failwith<unit> v11\n",
      "method0()\n",
      "\n",
      "US0_0 1\n"
     ]
    }
   ],
   "source": [
    "// // test\n",
    "\n",
    "inl retry_fn_test = mut 0i32\n",
    "fun () =>\n",
    "    retry_fn_test <- *retry_fn_test + 1\n",
    "    *retry_fn_test\n",
    "|> retry_fn 3i32\n",
    "|> _assert_eq (Some 1i32)"
   ]
  },
  {
   "cell_type": "code",
   "execution_count": null,
   "metadata": {
    "dotnet_interactive": {
     "language": "spiral"
    },
    "polyglot_notebook": {
     "kernelName": "spiral"
    }
   },
   "outputs": [
    {
     "name": "stdout",
     "output_type": "stream",
     "text": [
      "type Mut0 = {mutable l0 : int32}\n",
      "and [<Struct>] US0 =\n",
      "    | US0_0 of f0_0 : int32\n",
      "    | US0_1\n",
      "and [<Struct>] US1 =\n",
      "    | US1_0 of f0_0 : US0\n",
      "    | US1_1\n",
      "let rec closure0 (v0 : Mut0, v1 : int32) () : US0 =\n",
      "    let v2 : bool = v1 < 3\n",
      "    if v2 then\n",
      "        let v3 : int32 = v0.l0\n",
      "        let v4 : bool = v3 >= 2\n",
      "        let v9 : int32 =\n",
      "            if v4 then\n",
      "                let v5 : int32 = v0.l0\n",
      "                v5\n",
      "            else\n",
      "                let v6 : int32 = v0.l0\n",
      "                let v7 : int32 = v6 + 1\n",
      "                v0.l0 <- v7\n",
      "                failwith<int32> \"test\"\n",
      "        US0_0(v9)\n",
      "    else\n",
      "        US0_1\n",
      "and closure1 () (v0 : US0) : US1 =\n",
      "    US1_0(v0)\n",
      "and closure2 (v0 : int32) (v1 : exn) : US1 =\n",
      "    let v2 : unit option = None\n",
      "    let v3 : bool = true in let mutable _v2 = v2\n",
      "    #if FABLE_COMPILER_RUST && !WASM && !CONTRACT\n",
      "    ()\n",
      "#endif\n",
      "    #if FABLE_COMPILER_RUST && WASM\n",
      "    ()\n",
      "#endif\n",
      "    #if FABLE_COMPILER_RUST && CONTRACT\n",
      "    ()\n",
      "#endif\n",
      "    #if !FABLE_COMPILER && !FABLE_COMPILER_RUST && !FABLE_COMPILER_TYPESCRIPT && !WASM && !CONTRACT\n",
      "    let v4 : (int32 -> unit) = System.Threading.Thread.Sleep\n",
      "    v4 1\n",
      "    ()\n",
      "#endif\n",
      "    #if FABLE_COMPILER_TYPESCRIPT\n",
      "    ()\n",
      "#endif\n",
      "    #if FABLE_COMPILER_PYTHON || FABLE_COMPILER_PHP || FABLE_COMPILER_DART\n",
      "    Unchecked.defaultof<unit>\n",
      "    ()\n",
      "#endif\n",
      "    |> fun x -> _v2 <- Some x\n",
      "    _v2.Value\n",
      "    US1_1\n",
      "and method1 (v0 : Mut0, v1 : int32) : US0 =\n",
      "    let v2 : (unit -> US0) = closure0(v0, v1)\n",
      "    let v3 : (US0 -> US1) = closure1()\n",
      "    let v4 : (exn -> US1) = closure2(v1)\n",
      "    let v5 : US1 = try v2 () |> v3 with ex -> v4 ex \n",
      "    match v5 with\n",
      "    | US1_1 -> (* None *)\n",
      "        let v7 : int32 = v1 + 1\n",
      "        method1(v0, v7)\n",
      "    | US1_0(v6) -> (* Some *)\n",
      "        v6\n",
      "and method2 (v0 : bool) : bool =\n",
      "    v0\n",
      "and method0 () : unit =\n",
      "    let v0 : Mut0 = {l0 = 0} : Mut0\n",
      "    let v1 : int32 = 0\n",
      "    let v2 : US0 = method1(v0, v1)\n",
      "    let v3 : string = $\"%A{v2}\"\n",
      "    System.Console.WriteLine v3\n",
      "    let v7 : bool =\n",
      "        match v2 with\n",
      "        | US0_0(v5) -> (* Some *)\n",
      "            let v6 : bool = v5 = 2\n",
      "            v6\n",
      "        | _ ->\n",
      "            false\n",
      "    let v9 : bool =\n",
      "        if v7 then\n",
      "            true\n",
      "        else\n",
      "            method2(v7)\n",
      "    let v10 : US0 = US0_0(2)\n",
      "    let v11 : string = $\"__expect / actual: %A{v2} / expected: %A{v10}\"\n",
      "    let v12 : bool = v9 = false\n",
      "    if v12 then\n",
      "        failwith<unit> v11\n",
      "method0()\n",
      "\n",
      "US0_0 2\n"
     ]
    }
   ],
   "source": [
    "// // test\n",
    "\n",
    "inl retry_fn_test = mut 0i32\n",
    "fun () =>\n",
    "    if *retry_fn_test >= 2\n",
    "    then *retry_fn_test\n",
    "    else\n",
    "        retry_fn_test <- *retry_fn_test + 1\n",
    "        failwith \"test\"\n",
    "|> retry_fn 3i32\n",
    "|> _assert_eq (Some 2i32)"
   ]
  },
  {
   "cell_type": "markdown",
   "metadata": {},
   "source": [
    "## main"
   ]
  },
  {
   "cell_type": "code",
   "execution_count": null,
   "metadata": {
    "dotnet_interactive": {
     "language": "spiral"
    },
    "polyglot_notebook": {
     "kernelName": "spiral"
    }
   },
   "outputs": [
    {
     "name": "stdout",
     "output_type": "stream",
     "text": [
      "type [<Struct>] US0 =\n",
      "    | US0_0\n",
      "    | US0_1\n",
      "and [<Struct>] US1 =\n",
      "    | US1_0 of f0_0 : US0\n",
      "    | US1_1\n",
      "let rec closure0 () (v0 : (unit -> unit)) : System.IDisposable =\n",
      "    let v1 : System.IDisposable option = None\n",
      "    let v2 : bool = true in let mutable _v1 = v1\n",
      "    #if FABLE_COMPILER_RUST && !WASM && !CONTRACT\n",
      "    let v3 : System.IDisposable = null |> unbox<System.IDisposable>\n",
      "    v3\n",
      "#endif\n",
      "    #if FABLE_COMPILER_RUST && WASM\n",
      "    let v4 : System.IDisposable = null |> unbox<System.IDisposable>\n",
      "    v4\n",
      "#endif\n",
      "    #if FABLE_COMPILER_RUST && CONTRACT\n",
      "    let v5 : System.IDisposable = null |> unbox<System.IDisposable>\n",
      "    v5\n",
      "#endif\n",
      "    #if !FABLE_COMPILER && !FABLE_COMPILER_RUST && !FABLE_COMPILER_TYPESCRIPT && !WASM && !CONTRACT\n",
      "    let v6 : System.IDisposable = { new System.IDisposable with member _.Dispose () = v0 () }\n",
      "    v6\n",
      "#endif\n",
      "    #if FABLE_COMPILER_TYPESCRIPT\n",
      "    let v7 : System.IDisposable = null |> unbox<System.IDisposable>\n",
      "    v7\n",
      "#endif\n",
      "    #if FABLE_COMPILER_PYTHON || FABLE_COMPILER_PHP || FABLE_COMPILER_DART\n",
      "    let v8 : System.IDisposable = Unchecked.defaultof<System.IDisposable>\n",
      "    v8\n",
      "#endif\n",
      "    |> fun x -> _v1 <- Some x\n",
      "    let v9 : System.IDisposable = _v1.Value\n",
      "    v9\n",
      "and closure3 (v0 : int32, v1 : (unit -> unit), v2 : int32) () : US0 =\n",
      "    let v3 : bool = v2 < v0\n",
      "    if v3 then\n",
      "        v1 ()\n",
      "        US0_0\n",
      "    else\n",
      "        US0_1\n",
      "and closure4 () (v0 : US0) : US1 =\n",
      "    US1_0(v0)\n",
      "and closure5 (v0 : int32) (v1 : exn) : US1 =\n",
      "    let v2 : unit option = None\n",
      "    let v3 : bool = true in let mutable _v2 = v2\n",
      "    #if FABLE_COMPILER_RUST && !WASM && !CONTRACT\n",
      "    ()\n",
      "#endif\n",
      "    #if FABLE_COMPILER_RUST && WASM\n",
      "    ()\n",
      "#endif\n",
      "    #if FABLE_COMPILER_RUST && CONTRACT\n",
      "    ()\n",
      "#endif\n",
      "    #if !FABLE_COMPILER && !FABLE_COMPILER_RUST && !FABLE_COMPILER_TYPESCRIPT && !WASM && !CONTRACT\n",
      "    let v4 : (int32 -> unit) = System.Threading.Thread.Sleep\n",
      "    v4 1\n",
      "    ()\n",
      "#endif\n",
      "    #if FABLE_COMPILER_TYPESCRIPT\n",
      "    ()\n",
      "#endif\n",
      "    #if FABLE_COMPILER_PYTHON || FABLE_COMPILER_PHP || FABLE_COMPILER_DART\n",
      "    Unchecked.defaultof<unit>\n",
      "    ()\n",
      "#endif\n",
      "    |> fun x -> _v2 <- Some x\n",
      "    _v2.Value\n",
      "    US1_1\n",
      "and method0 (v0 : int32, v1 : (unit -> unit), v2 : int32) : US0 =\n",
      "    let v3 : (unit -> US0) = closure3(v0, v1, v2)\n",
      "    let v4 : (US0 -> US1) = closure4()\n",
      "    let v5 : (exn -> US1) = closure5(v2)\n",
      "    let v6 : US1 = try v3 () |> v4 with ex -> v5 ex \n",
      "    match v6 with\n",
      "    | US1_1 -> (* None *)\n",
      "        let v8 : int32 = v2 + 1\n",
      "        method0(v0, v1, v8)\n",
      "    | US1_0(v7) -> (* Some *)\n",
      "        v7\n",
      "and closure2 (v0 : int32) (v1 : (unit -> unit)) : unit option =\n",
      "    let v2 : int32 = 0\n",
      "    let v3 : US0 = method0(v0, v1, v2)\n",
      "    match v3 with\n",
      "    | US0_1 -> (* None *)\n",
      "        let v5 : unit option = None\n",
      "        v5\n",
      "    | US0_0 -> (* Some *)\n",
      "        let v4 : unit option = Some () \n",
      "        v4\n",
      "and closure1 () (v0 : int32) : ((unit -> unit) -> unit option) =\n",
      "    closure2(v0)\n",
      "let v0 : ((unit -> unit) -> System.IDisposable) = closure0()\n",
      "let new_disposable x = v0 x\n",
      "let v1 : (int32 -> ((unit -> unit) -> unit option)) = closure1()\n",
      "let retry_fn x = v1 x\n",
      "()\n",
      "\n"
     ]
    }
   ],
   "source": [
    "inl main () =\n",
    "    inl new_disposable x : _ () = new_disposable x\n",
    "    $\"let new_disposable x = !new_disposable x\" : ()\n",
    "\n",
    "    inl retry_fn (r : i32) (x : () -> _) : optionm'.option' () = retry_fn r x |> optionm'.box\n",
    "    $\"let retry_fn x = !retry_fn x\" : ()"
   ]
  }
 ],
 "metadata": {},
 "nbformat": 4,
 "nbformat_minor": 5
}