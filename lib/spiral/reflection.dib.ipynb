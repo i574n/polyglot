{
 "cells": [
  {
   "cell_type": "markdown",
   "metadata": {},
   "source": [
    "# reflection"
   ]
  },
  {
   "cell_type": "code",
   "execution_count": null,
   "metadata": {
    "dotnet_interactive": {
     "language": "spiral"
    },
    "polyglot_notebook": {
     "kernelName": "spiral"
    }
   },
   "outputs": [],
   "source": [
    "//// test\n",
    "\n",
    "open testing"
   ]
  },
  {
   "cell_type": "markdown",
   "metadata": {},
   "source": [
    "## reflection"
   ]
  },
  {
   "cell_type": "markdown",
   "metadata": {},
   "source": [
    "### get_union_fields"
   ]
  },
  {
   "cell_type": "code",
   "execution_count": null,
   "metadata": {
    "dotnet_interactive": {
     "language": "spiral"
    },
    "polyglot_notebook": {
     "kernelName": "spiral"
    }
   },
   "outputs": [],
   "source": [
    "inl get_union_fields forall union_type. () : list (string * union_type) =\n",
    "    real\n",
    "        real_core.union_to_record\n",
    "            `union_type\n",
    "            forall union_record_type. =>\n",
    "                real_core.record_type_fold\n",
    "                    fun acc key =>\n",
    "                        forall value. =>\n",
    "                            inl item = real_core.nominal_create `union_type (key, ())\n",
    "                            inl key' = real_sm'.symbol_to_string `(`key)\n",
    "                            (::) `(string * union_type) (key', item) acc\n",
    "                    (Nil `(string * union_type))\n",
    "                    `union_record_type"
   ]
  },
  {
   "cell_type": "code",
   "execution_count": null,
   "metadata": {
    "dotnet_interactive": {
     "language": "spiral"
    },
    "polyglot_notebook": {
     "kernelName": "spiral"
    }
   },
   "outputs": [
    {
     "data": {
      "text/plain": [
       ".rs output:\n",
       "__assert_eq' / actual: Array(MutCell([(\"Native\", US0_0), (\"Wasm\", US0_1), (\"Contract\", US0_2)])) / expected: Array(MutCell([(\"Native\", US0_0), (\"Wasm\", US0_1), (\"Contract\", US0_2)]))\n",
       "\n",
       ".ts output:\n",
       "__assert_eq' / actual: Native,US0_0,Wasm,US0_1,Contract,US0_2 / expected: Native,US0_0,Wasm,US0_1,Contract,US0_2\n",
       "\n",
       ".py output:\n",
       "__assert_eq' / actual: [('Native', US0_0), ('Wasm', US0_1), ('Contract', US0_2)] / expected: [('Native', US0_0), ('Wasm', US0_1), ('Contract', US0_2)]\n",
       "\n"
      ]
     },
     "metadata": {},
     "output_type": "display_data"
    },
    {
     "name": "stdout",
     "output_type": "stream",
     "text": [
      ".fsx output:\n",
      "__assert_eq' / actual: [|struct (\"Native\", US0_0); struct (\"Wasm\", US0_1); struct (\"Contract\", US0_2)|] / expected: [|struct (\"Native\", US0_0); struct (\"Wasm\", US0_1); struct (\"Contract\", US0_2)|]\n"
     ]
    }
   ],
   "source": [
    "//// test\n",
    "///! fsharp\n",
    "///! rust\n",
    "///! typescript\n",
    "///! python\n",
    "\n",
    "get_union_fields ()\n",
    "|> listm'.box\n",
    "|> listm'.to_array'\n",
    "|> a\n",
    "|> am'.sort_by snd\n",
    "|> fun (a x : _ int _) => x\n",
    "|> _assert_eq' ;[ \"Native\", Native; \"Wasm\", Wasm; \"Contract\", Contract ]"
   ]
  },
  {
   "cell_type": "markdown",
   "metadata": {},
   "source": [
    "### get_union_fields_untag"
   ]
  },
  {
   "cell_type": "code",
   "execution_count": null,
   "metadata": {
    "dotnet_interactive": {
     "language": "spiral"
    },
    "polyglot_notebook": {
     "kernelName": "spiral"
    }
   },
   "outputs": [],
   "source": [
    "inl get_union_fields_untag forall union_type. () : list (string * union_type) =\n",
    "    real\n",
    "        real_core.union_to_record\n",
    "            `union_type\n",
    "            forall union_record_type. =>\n",
    "                inl result =\n",
    "                    real_core.record_type_fold_back\n",
    "                        fun _key =>\n",
    "                            forall value. (acc, (i : i32)) =>\n",
    "                                inl key, item : (string * union_type) =\n",
    "                                    real_core.union_untag `union_type i\n",
    "                                        (fun key => forall value. =>\n",
    "                                            inl key' = real_sm'.symbol_to_string `(`key)\n",
    "                                            key', real_core.nominal_create `union_type (key, ())\n",
    "                                        )\n",
    "                                        (fun _ => failwith `(string * union_type) \"reflection.get_union_fields_untag / invalid tag\")\n",
    "                                (::) `(string * union_type) (key, item) acc, (+) `i32 i 1\n",
    "                        `union_record_type\n",
    "                        (Nil `(string * union_type), 0i32)\n",
    "                inl result = fst `(list (string * union_type)) `i32 result\n",
    "                listm.rev `(string * union_type) result"
   ]
  },
  {
   "cell_type": "code",
   "execution_count": null,
   "metadata": {
    "dotnet_interactive": {
     "language": "spiral"
    },
    "polyglot_notebook": {
     "kernelName": "spiral"
    }
   },
   "outputs": [
    {
     "data": {
      "text/plain": [
       ".rs output:\n",
       "__assert_eq' / actual: Array(MutCell([(\"Native\", US0_0), (\"Wasm\", US0_1), (\"Contract\", US0_2)])) / expected: Array(MutCell([(\"Native\", US0_0), (\"Wasm\", US0_1), (\"Contract\", US0_2)]))\n",
       "\n",
       ".ts output:\n",
       "__assert_eq' / actual: Native,US0_0,Wasm,US0_1,Contract,US0_2 / expected: Native,US0_0,Wasm,US0_1,Contract,US0_2\n",
       "\n",
       ".py output:\n",
       "__assert_eq' / actual: [('Native', US0_0), ('Wasm', US0_1), ('Contract', US0_2)] / expected: [('Native', US0_0), ('Wasm', US0_1), ('Contract', US0_2)]\n",
       "\n"
      ]
     },
     "metadata": {},
     "output_type": "display_data"
    },
    {
     "name": "stdout",
     "output_type": "stream",
     "text": [
      ".fsx output:\n",
      "__assert_eq' / actual: [|struct (\"Native\", US0_0); struct (\"Wasm\", US0_1); struct (\"Contract\", US0_2)|] / expected: [|struct (\"Native\", US0_0); struct (\"Wasm\", US0_1); struct (\"Contract\", US0_2)|]\n"
     ]
    }
   ],
   "source": [
    "//// test\n",
    "///! fsharp\n",
    "///! rust\n",
    "///! typescript\n",
    "///! python\n",
    "\n",
    "get_union_fields_untag ()\n",
    "|> listm'.box\n",
    "|> listm'.to_array'\n",
    "|> _assert_eq' ;[ \"Native\", Native; \"Wasm\", Wasm; \"Contract\", Contract ]"
   ]
  },
  {
   "cell_type": "markdown",
   "metadata": {},
   "source": [
    "### union_try_pick"
   ]
  },
  {
   "cell_type": "code",
   "execution_count": null,
   "metadata": {
    "dotnet_interactive": {
     "language": "spiral"
    },
    "polyglot_notebook": {
     "kernelName": "spiral"
    }
   },
   "outputs": [],
   "source": [
    "inl union_try_pick forall t. (key : string) : option t =\n",
    "    real get_union_fields_untag `t ()\n",
    "    |> listm'.try_pick fun key', x =>\n",
    "        if key' = key\n",
    "        then Some x\n",
    "        else None"
   ]
  },
  {
   "cell_type": "markdown",
   "metadata": {},
   "source": [
    "### union_to_string"
   ]
  },
  {
   "cell_type": "code",
   "execution_count": null,
   "metadata": {
    "dotnet_interactive": {
     "language": "spiral"
    },
    "polyglot_notebook": {
     "kernelName": "spiral"
    }
   },
   "outputs": [],
   "source": [
    "inl union_to_string forall t. (x : t) : string =\n",
    "    real get_union_fields_untag `t ()\n",
    "    |> listm'.try_pick fun key, x' =>\n",
    "        if x' = x\n",
    "        then Some key\n",
    "        else None\n",
    "    |> optionm.value"
   ]
  },
  {
   "cell_type": "markdown",
   "metadata": {},
   "source": [
    "### nameof"
   ]
  },
  {
   "cell_type": "code",
   "execution_count": null,
   "metadata": {
    "dotnet_interactive": {
     "language": "spiral"
    },
    "polyglot_notebook": {
     "kernelName": "spiral"
    }
   },
   "outputs": [],
   "source": [
    "inl nameof forall t. (x : t) : string =\n",
    "    real\n",
    "        real_core.record_type_fold_back\n",
    "            fun key =>\n",
    "                forall value. _ =>\n",
    "                    real_sm'.symbol_to_string `(`key)\n",
    "            `t\n",
    "            \"\""
   ]
  },
  {
   "cell_type": "code",
   "execution_count": null,
   "metadata": {
    "dotnet_interactive": {
     "language": "spiral"
    },
    "polyglot_notebook": {
     "kernelName": "spiral"
    }
   },
   "outputs": [
    {
     "name": "stdout",
     "output_type": "stream",
     "text": [
      "__assert_eq' / actual: \"test1\" / expected: \"test1\"\n"
     ]
    }
   ],
   "source": [
    "//// test\n",
    "\n",
    "{ test1 = \"\"; test2 = \"\" }\n",
    "|> nameof\n",
    "|> _assert_eq' \"test1\""
   ]
  },
  {
   "cell_type": "markdown",
   "metadata": {},
   "source": [
    "### get_record_fields"
   ]
  },
  {
   "cell_type": "code",
   "execution_count": null,
   "metadata": {
    "dotnet_interactive": {
     "language": "spiral"
    },
    "polyglot_notebook": {
     "kernelName": "spiral"
    }
   },
   "outputs": [],
   "source": [
    "inl get_record_fields forall t u. (x : t) : list (string * u) =\n",
    "    real\n",
    "        real_core.record_type_fold_back\n",
    "            fun key =>\n",
    "                forall u'. acc =>\n",
    "                    inl k = real_sm'.symbol_to_string `(`key)\n",
    "                    inl v = x key\n",
    "                    (::) `(string * u') (k, v) acc\n",
    "            `t\n",
    "            (Nil `(string * u))"
   ]
  },
  {
   "cell_type": "code",
   "execution_count": null,
   "metadata": {
    "dotnet_interactive": {
     "language": "spiral"
    },
    "polyglot_notebook": {
     "kernelName": "spiral"
    }
   },
   "outputs": [
    {
     "name": "stdout",
     "output_type": "stream",
     "text": [
      "__assert_eq' / actual: UH0_1 (\"a\", \"1\", UH0_1 (\"b\", \"2\", UH0_0)) / expected: UH0_1 (\"a\", \"1\", UH0_1 (\"b\", \"2\", UH0_0))\n"
     ]
    }
   ],
   "source": [
    "//// test\n",
    "\n",
    "{ a = \"1\"; b = \"2\" }\n",
    "|> get_record_fields\n",
    "|> _assert_eq' [ \"a\", \"1\"; \"b\", \"2\" ]"
   ]
  },
  {
   "cell_type": "markdown",
   "metadata": {},
   "source": [
    "### get_functions_types"
   ]
  },
  {
   "cell_type": "code",
   "execution_count": null,
   "metadata": {
    "dotnet_interactive": {
     "language": "spiral"
    },
    "polyglot_notebook": {
     "kernelName": "spiral"
    }
   },
   "outputs": [],
   "source": [
    "inl get_functions_types forall t {record}. (fns : t) =\n",
    "    real\n",
    "        inl get_function_type forall t. =\n",
    "            inl args forall t {record}. : list (string * string) =\n",
    "                real_core.record_type_fold_back\n",
    "                    fun key =>\n",
    "                        forall v. acc =>\n",
    "                            inl k = real_sm'.symbol_to_string `(`key)\n",
    "                            inl v = $'\"`v\"' : string\n",
    "                            (::) `(string * string) (k, v) acc\n",
    "                    `t\n",
    "                    (Nil `(string * string))\n",
    "\n",
    "            typecase t with\n",
    "            | ~t -> ~u => args `t, ($'\"`u\"' : string)\n",
    "\n",
    "        real_core.record_type_fold_back\n",
    "            fun key =>\n",
    "                forall v. acc =>\n",
    "                    inl k = real_sm'.symbol_to_string `(`key)\n",
    "                    inl args, result = get_function_type `v\n",
    "                    (::) `(string * (list (string * string) * string)) (k, (args, result)) acc\n",
    "            `(`fns)\n",
    "            (Nil `(string * (list (string * string) * string)))\n",
    "    |> fun x => x : list (string * (list (string * string) * string))"
   ]
  },
  {
   "cell_type": "code",
   "execution_count": null,
   "metadata": {
    "dotnet_interactive": {
     "language": "spiral"
    },
    "polyglot_notebook": {
     "kernelName": "spiral"
    }
   },
   "outputs": [
    {
     "name": "stdout",
     "output_type": "stream",
     "text": [
      "__assert_eq' / actual: \"[|struct (\"one\", [|struct (\"a\", \"int32\")|], \"int32\");\n",
      "  struct (\"two\", [|struct (\"a\", \"int32\"); struct (\"b\", \"int32\")|], \"int32\")|]\" / expected: \"[|struct (\"one\", [|struct (\"a\", \"int32\")|], \"int32\");\n",
      "  struct (\"two\", [|struct (\"a\", \"int32\"); struct (\"b\", \"int32\")|], \"int32\")|]\"\n"
     ]
    }
   ],
   "source": [
    "//// test\n",
    "\n",
    "inl one ({ a } : { a : i32 }) : i32 = a + 1\n",
    "inl two ({ a b } : { a : i32; b : i32 }) : i32 = a + b + 2\n",
    "inl fns = { one two }\n",
    "\n",
    "fns\n",
    "|> get_functions_types\n",
    "|> listm.map fun (name, args, result) => name, (args |> listm'.box |> listm'.to_array', result)\n",
    "|> listm'.box\n",
    "|> listm'.to_array'\n",
    "|> sm'.format\n",
    "|> _assert_eq' (\n",
    "    [\n",
    "        \"one\", [\"a\", \"int32\"], \"int32\"\n",
    "        \"two\", [\"a\", \"int32\"; \"b\", \"int32\"], \"int32\"\n",
    "    ]\n",
    "    |> listm.map fun (name, args, result) => name, (args |> listm'.box |> listm'.to_array', result)\n",
    "    |> listm'.box\n",
    "    |> listm'.to_array'\n",
    "    |> sm'.format\n",
    ")"
   ]
  }
 ],
 "metadata": {},
 "nbformat": 4,
 "nbformat_minor": 5
}