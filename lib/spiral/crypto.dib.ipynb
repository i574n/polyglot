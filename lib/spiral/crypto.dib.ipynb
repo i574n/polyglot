{
 "cells": [
  {
   "cell_type": "markdown",
   "metadata": {},
   "source": [
    "# crypto"
   ]
  },
  {
   "cell_type": "code",
   "execution_count": null,
   "metadata": {
    "dotnet_interactive": {
     "language": "spiral"
    },
    "polyglot_notebook": {
     "kernelName": "spiral"
    }
   },
   "outputs": [],
   "source": [
    "open rust\n",
    "open rust_operators"
   ]
  },
  {
   "cell_type": "code",
   "execution_count": null,
   "metadata": {
    "dotnet_interactive": {
     "language": "spiral"
    },
    "polyglot_notebook": {
     "kernelName": "spiral"
    }
   },
   "outputs": [],
   "source": [
    "//// test\n",
    "\n",
    "open testing\n",
    "open file_system_operators"
   ]
  },
  {
   "cell_type": "markdown",
   "metadata": {},
   "source": [
    "## fsharp"
   ]
  },
  {
   "cell_type": "markdown",
   "metadata": {},
   "source": [
    "### sha256"
   ]
  },
  {
   "cell_type": "code",
   "execution_count": null,
   "metadata": {
    "dotnet_interactive": {
     "language": "spiral"
    },
    "polyglot_notebook": {
     "kernelName": "spiral"
    }
   },
   "outputs": [],
   "source": [
    "nominal sha256 = $'System.Security.Cryptography.SHA256'\n",
    "\n",
    "inl sha256 () : sha256 =\n",
    "    $'`sha256.Create' ()"
   ]
  },
  {
   "cell_type": "markdown",
   "metadata": {},
   "source": [
    "### sha256_compute_hash"
   ]
  },
  {
   "cell_type": "code",
   "execution_count": null,
   "metadata": {
    "dotnet_interactive": {
     "language": "spiral"
    },
    "polyglot_notebook": {
     "kernelName": "spiral"
    }
   },
   "outputs": [],
   "source": [
    "inl sha256_compute_hash (x : sha256) (data : a i32 u8) : a i32 u8 =\n",
    "    data |> $'!x.ComputeHash'"
   ]
  },
  {
   "cell_type": "markdown",
   "metadata": {},
   "source": [
    "## rust"
   ]
  },
  {
   "cell_type": "markdown",
   "metadata": {},
   "source": [
    "### get_file_hash'"
   ]
  },
  {
   "cell_type": "code",
   "execution_count": null,
   "metadata": {
    "dotnet_interactive": {
     "language": "spiral"
    },
    "polyglot_notebook": {
     "kernelName": "spiral"
    }
   },
   "outputs": [],
   "source": [
    "inl get_file_hash' (path : string) : result string string =\n",
    "    inl path = path |> file_system.normalize_path\n",
    "    inl exit_code, result =\n",
    "        runtime.execution_options fun x => { x with\n",
    "            command = $'$\"pwsh -c \\\\\\\"(Get-FileHash \\'{!path}\\' -Algorithm SHA256).Hash\\\\\\\"\"'\n",
    "        }\n",
    "        |> runtime.execute_with_options\n",
    "    if exit_code = 0\n",
    "    then result |> sm'.to_lower |> Ok\n",
    "    else result |> Error"
   ]
  },
  {
   "cell_type": "code",
   "execution_count": null,
   "metadata": {
    "dotnet_interactive": {
     "language": "spiral"
    },
    "polyglot_notebook": {
     "kernelName": "spiral"
    }
   },
   "outputs": [
    {
     "name": "stdout",
     "output_type": "stream",
     "text": [
      "00:00:00 \u001B[94m  debug\u001B[0m #1 runtime.execute_with_options_async / { options = { command = pwsh -c \"(Get-FileHash '/tmp/!create_temp_path_/dotnet-repl/9ca8b18d-ee77-4684-ad12-21e1354945fc/test.txt' -Algorithm SHA256).Hash\"; cancellation_token = None; environment_variables = [||]; on_line = None; stdin = None; trace = true; working_directory = None } }\n",
      "00:00:00 \u001B[90mverbose\u001B[0m #2 > 01BA4719C80B6FE911B091A7C05124B64EEECE964E09C058EF8F9805DACA546B\n",
      "00:00:00 \u001B[94m  debug\u001B[0m #3 runtime.execute_with_options_async / { exit_code = 0; output_length = 64 }\n",
      "__assert_eq / actual: \"01ba4719c80b6fe911b091a7c05124b64eeece964e09c058ef8f9805daca546b\" / expected: \"01ba4719c80b6fe911b091a7c05124b64eeece964e09c058ef8f9805daca546b\"\n"
     ]
    }
   ],
   "source": [
    "//// test\n",
    "\n",
    "inl file_name = \"test.txt\"\n",
    "inl text = \"\\n\"\n",
    "\n",
    "inl temp_dir, disposable =\n",
    "    (file_name, text)\n",
    "    |> sm'.format_debug\n",
    "    |> crypto.hash_text\n",
    "    |> file_system.create_temp_dir'\n",
    "disposable |> use |> ignore\n",
    "inl path = temp_dir </> file_name\n",
    "text |> file_system.write_all_text_async path |> async.run_synchronously\n",
    "path\n",
    "|> get_file_hash'\n",
    "|> resultm.get\n",
    "|> _assert_eq \"01ba4719c80b6fe911b091a7c05124b64eeece964e09c058ef8f9805daca546b\""
   ]
  },
  {
   "cell_type": "code",
   "execution_count": null,
   "metadata": {
    "dotnet_interactive": {
     "language": "spiral"
    },
    "polyglot_notebook": {
     "kernelName": "spiral"
    }
   },
   "outputs": [
    {
     "data": {
      "text/plain": [
       "00:00:00 \u001B[90mverbose\u001B[39m #1 file_system.create_dir / { dir = /tmp/!create_temp_path_/spiral_builder_ac6649282aa81f14c45454a3ec46f0ebb538248a8f170f6edd8690c9eb9e8f6e/ba0aa16a-6c5a-be3f-b526-70110c680e36 }\n",
       "00:00:00 \u001B[94m  debug\u001B[39m #2 runtime.execute_with_options / { file_name = pwsh; arguments = [\n",
       "    \"-c\",\n",
       "    \"(Get-FileHash '/tmp/!create_temp_path_/spiral_builder_ac6649282aa81f14c45454a3ec46f0ebb538248a8f170f6edd8690c9eb9e8f6e/ba0aa16a-6c5a-be3f-b526-70110c680e36/test.txt' -Algorithm SHA256).Hash\",\n",
       "]; options = { command = pwsh -c \"(Get-FileHash '/tmp/!create_temp_path_/spiral_builder_ac6649282aa81f14c45454a3ec46f0ebb538248a8f170f6edd8690c9eb9e8f6e/ba0aa16a-6c5a-be3f-b526-70110c680e36/test.txt' -Algorithm SHA256).Hash\"; cancellation_token = None; environment_variables = Array(MutCell([])); on_line = None; stdin = None; trace = true; working_directory = None } }\n",
       "00:00:00 \u001B[90mverbose\u001B[39m #3 > 01BA4719C80B6FE911B091A7C05124B64EEECE964E09C058EF8F9805DACA546B\n",
       "00:00:00 \u001B[90mverbose\u001B[39m #4 runtime.execute_with_options / result / { exit_code = 0; std_trace_length = 64 }\n",
       "__assert_eq / actual: \"01ba4719c80b6fe911b091a7c05124b64eeece964e09c058ef8f9805daca546b\" / expected: \"01ba4719c80b6fe911b091a7c05124b64eeece964e09c058ef8f9805daca546b\"\n"
      ]
     },
     "metadata": {},
     "output_type": "display_data"
    }
   ],
   "source": [
    "//// test\n",
    "///! rust -d chrono encoding_rs encoding_rs_io regex sha2\n",
    "\n",
    "inl file_name = \"test.txt\"\n",
    "inl text = \"\\n\"\n",
    "\n",
    "inl temp_dir, disposable =\n",
    "    (file_name, text)\n",
    "    |> sm'.format_debug\n",
    "    |> crypto.hash_text\n",
    "    |> file_system.create_temp_dir'\n",
    "inl path = temp_dir </> file_name\n",
    "text |> file_system.write_all_text path\n",
    "path\n",
    "|> get_file_hash'\n",
    "|> resultm.get\n",
    "|> _assert_eq \"01ba4719c80b6fe911b091a7c05124b64eeece964e09c058ef8f9805daca546b\"\n",
    "disposable |> use |> ignore"
   ]
  },
  {
   "cell_type": "markdown",
   "metadata": {},
   "source": [
    "### sha256'"
   ]
  },
  {
   "cell_type": "code",
   "execution_count": null,
   "metadata": {
    "dotnet_interactive": {
     "language": "spiral"
    },
    "polyglot_notebook": {
     "kernelName": "spiral"
    }
   },
   "outputs": [],
   "source": [
    "nominal sha256' =\n",
    "    `(\n",
    "        backend_switch `(()) `({}) {\n",
    "            Fsharp =\n",
    "                (fun () =>\n",
    "                    global \"#if FABLE_COMPILER\\n[<Fable.Core.Erase; Fable.Core.Emit(\\\"sha2::Sha256\\\")>]\\n#endif\\ntype sha2_Sha256 = class end\"\n",
    "                ) : () -> ()\n",
    "        }\n",
    "        $'' : $'sha2_Sha256'\n",
    "    )"
   ]
  },
  {
   "cell_type": "markdown",
   "metadata": {},
   "source": [
    "### new_sha256"
   ]
  },
  {
   "cell_type": "code",
   "execution_count": null,
   "metadata": {
    "dotnet_interactive": {
     "language": "spiral"
    },
    "polyglot_notebook": {
     "kernelName": "spiral"
    }
   },
   "outputs": [],
   "source": [
    "inl new_sha256 () : sha256' =\n",
    "    !\\($'\"let result : sha2::Sha256 = sha2::Digest::new()\"')\n",
    "    !\\($'\"result\"')"
   ]
  },
  {
   "cell_type": "markdown",
   "metadata": {},
   "source": [
    "### hasher_update"
   ]
  },
  {
   "cell_type": "code",
   "execution_count": null,
   "metadata": {
    "dotnet_interactive": {
     "language": "spiral"
    },
    "polyglot_notebook": {
     "kernelName": "spiral"
    }
   },
   "outputs": [],
   "source": [
    "inl hasher_update forall el dim. (slice : rust.ref (am'.slice' el dim)) (hasher : sha256') : () =\n",
    "    !\\($'\"sha2::Digest::update(&mut !hasher, !slice)\"')"
   ]
  },
  {
   "cell_type": "markdown",
   "metadata": {},
   "source": [
    "### hasher_finalize"
   ]
  },
  {
   "cell_type": "code",
   "execution_count": null,
   "metadata": {
    "dotnet_interactive": {
     "language": "spiral"
    },
    "polyglot_notebook": {
     "kernelName": "spiral"
    }
   },
   "outputs": [],
   "source": [
    "inl hasher_finalize (hasher : sha256') : rust.ref (am'.slice u8) =\n",
    "    !\\($'\"&sha2::Digest::finalize(!hasher)\"')"
   ]
  },
  {
   "cell_type": "markdown",
   "metadata": {},
   "source": [
    "### hash_read"
   ]
  },
  {
   "cell_type": "code",
   "execution_count": null,
   "metadata": {
    "dotnet_interactive": {
     "language": "spiral"
    },
    "polyglot_notebook": {
     "kernelName": "spiral"
    }
   },
   "outputs": [],
   "source": [
    "inl hash_read data : resultm.result' string stream.io_error =\n",
    "    inl reader = data |> stream.new_buf_reader\n",
    "    (!\\($'\"true; let mut !reader = !reader\"') : bool) |> ignore\n",
    "    inl hasher = new_sha256 ()\n",
    "    (!\\($'\"true; let mut !hasher = !hasher\"') : bool) |> ignore\n",
    "\n",
    "    real\n",
    "        inl size = 1024\n",
    "        inl zero = convert `i32 `unativeint 0\n",
    "        inl buffer = am'.new_slice `u8 `@size 0u8\n",
    "\n",
    "        rust.loop 2 fun () =>\n",
    "            inl count = stream.buf_reader_read `u8 `@size buffer reader\n",
    "            inl count = resultm.unwrap' `unativeint `(stream.io_error) count\n",
    "\n",
    "            if (=.) `unativeint count zero then rust.break ()\n",
    "\n",
    "            hasher_update `u8 `@size\n",
    "                (\n",
    "                    am'.slice_range `u8 `@size\n",
    "                        (am'.Start `unativeint zero)\n",
    "                        (am'.End `unativeint ((fun _ => count) : unativeint -> unativeint))\n",
    "                        buffer\n",
    "                )\n",
    "                hasher\n",
    "\n",
    "    hasher\n",
    "    |> hasher_finalize\n",
    "    |> am'.slice_to_vec\n",
    "    |> am'.vec_map (sm'.format_hex' >> sm'.from_std_string)\n",
    "    |> am'.from_vec\n",
    "    |> fun x => x : _ i32 _\n",
    "    |> seq.of_array'\n",
    "    |> sm'.concat (join \"\")\n",
    "    |> Ok\n",
    "    |> resultm.box"
   ]
  },
  {
   "cell_type": "markdown",
   "metadata": {},
   "source": [
    "### get_file_hash"
   ]
  },
  {
   "cell_type": "code",
   "execution_count": null,
   "metadata": {
    "dotnet_interactive": {
     "language": "spiral"
    },
    "polyglot_notebook": {
     "kernelName": "spiral"
    }
   },
   "outputs": [],
   "source": [
    "inl get_file_hash (path : string) =\n",
    "    inl path = path |> file_system.normalize_path\n",
    "    inl file = path |> file_system.file_open |> resultm.unwrap'\n",
    "    inl reader = file |> stream.new_buf_reader\n",
    "    reader\n",
    "    |> hash_read"
   ]
  },
  {
   "cell_type": "code",
   "execution_count": null,
   "metadata": {
    "dotnet_interactive": {
     "language": "spiral"
    },
    "polyglot_notebook": {
     "kernelName": "spiral"
    }
   },
   "outputs": [
    {
     "data": {
      "text/plain": [
       "00:00:00 \u001B[90mverbose\u001B[39m #1 file_system.create_dir / { dir = /tmp/!create_temp_path_/spiral_builder_e4f1ec6c5c3302302a101d0b1201d4f12dd17d1ae57041552796a659be0db392/ba0aa16a-6c5a-be3f-b526-70110c680e36 }\n",
       "__assert_eq / actual: \"01ba4719c80b6fe911b091a7c05124b64eeece964e09c058ef8f9805daca546b\" / expected: \"01ba4719c80b6fe911b091a7c05124b64eeece964e09c058ef8f9805daca546b\"\n"
      ]
     },
     "metadata": {},
     "output_type": "display_data"
    }
   ],
   "source": [
    "//// test\n",
    "///! rust -d chrono regex sha2\n",
    "\n",
    "inl file_name = join \"test.txt\"\n",
    "inl text = \"\\n\"\n",
    "\n",
    "inl temp_dir, disposable =\n",
    "    (file_name, text)\n",
    "    |> sm'.format_debug\n",
    "    |> crypto.hash_text\n",
    "    |> file_system.create_temp_dir'\n",
    "\n",
    "inl path = temp_dir </> file_name\n",
    "text |> file_system.write_all_text path\n",
    "\n",
    "path\n",
    "|> get_file_hash\n",
    "|> resultm.unwrap'\n",
    "|> _assert_eq \"01ba4719c80b6fe911b091a7c05124b64eeece964e09c058ef8f9805daca546b\"\n",
    "disposable |> use |> ignore"
   ]
  },
  {
   "cell_type": "code",
   "execution_count": null,
   "metadata": {
    "dotnet_interactive": {
     "language": "spiral"
    },
    "polyglot_notebook": {
     "kernelName": "spiral"
    }
   },
   "outputs": [
    {
     "data": {
      "text/plain": [
       "00:00:00 \u001B[90mverbose\u001B[39m #1 file_system.create_dir / { dir = /tmp/!create_temp_path_/spiral_builder_c6bcb1b9741937ec03653de10f228518ea6a0816ca896d403e6395dacbbf1037/c0e26dac-4cb1-4b09-be07-ff616700f056 }\n",
       "__assert_eq / actual: \"e3b0c44298fc1c149afbf4c8996fb92427ae41e4649b934ca495991b7852b855\" / expected: \"e3b0c44298fc1c149afbf4c8996fb92427ae41e4649b934ca495991b7852b855\"\n"
      ]
     },
     "metadata": {},
     "output_type": "display_data"
    }
   ],
   "source": [
    "//// test\n",
    "///! rust -d chrono regex sha2\n",
    "\n",
    "inl file_name = join \"test.txt\"\n",
    "inl text = \"\"\n",
    "\n",
    "inl temp_dir, disposable =\n",
    "    (file_name, text)\n",
    "    |> sm'.format_debug\n",
    "    |> crypto.hash_text\n",
    "    |> file_system.create_temp_dir'\n",
    "\n",
    "inl path = temp_dir </> file_name\n",
    "text |> file_system.write_all_text path\n",
    "path\n",
    "|> get_file_hash\n",
    "|> resultm.unwrap'\n",
    "|> _assert_eq \"e3b0c44298fc1c149afbf4c8996fb92427ae41e4649b934ca495991b7852b855\"\n",
    "disposable |> use |> ignore"
   ]
  },
  {
   "cell_type": "markdown",
   "metadata": {},
   "source": [
    "## typescript"
   ]
  },
  {
   "cell_type": "markdown",
   "metadata": {},
   "source": [
    "### create_hash"
   ]
  },
  {
   "cell_type": "code",
   "execution_count": null,
   "metadata": {
    "dotnet_interactive": {
     "language": "spiral"
    },
    "polyglot_notebook": {
     "kernelName": "spiral"
    }
   },
   "outputs": [],
   "source": [
    "inl create_hash (x : string) : any =\n",
    "    open typescript_operators\n",
    "    global \"type ICryptoCreateHash = abstract createHash: x: string -> obj\"\n",
    "    inl crypto : $'ICryptoCreateHash' = typescript.import_all \"crypto\"\n",
    "    !\\\\(x, $'\"!crypto.createHash($0)\"')"
   ]
  },
  {
   "cell_type": "markdown",
   "metadata": {},
   "source": [
    "### hash_update"
   ]
  },
  {
   "cell_type": "code",
   "execution_count": null,
   "metadata": {
    "dotnet_interactive": {
     "language": "spiral"
    },
    "polyglot_notebook": {
     "kernelName": "spiral"
    }
   },
   "outputs": [],
   "source": [
    "inl hash_update (s : string) (x : any) : any =\n",
    "    open typescript_operators\n",
    "    !\\\\((x, s), $'\"$0.update($1, \\'utf8\\')\"')"
   ]
  },
  {
   "cell_type": "markdown",
   "metadata": {},
   "source": [
    "### hash_digest"
   ]
  },
  {
   "cell_type": "code",
   "execution_count": null,
   "metadata": {
    "dotnet_interactive": {
     "language": "spiral"
    },
    "polyglot_notebook": {
     "kernelName": "spiral"
    }
   },
   "outputs": [],
   "source": [
    "inl hash_digest (s : string) (x : any) : string =\n",
    "    open typescript_operators\n",
    "    !\\\\((x, s), $'\"$0.digest($1)\"')"
   ]
  },
  {
   "cell_type": "markdown",
   "metadata": {},
   "source": [
    "## python"
   ]
  },
  {
   "cell_type": "markdown",
   "metadata": {},
   "source": [
    "### py_sha256"
   ]
  },
  {
   "cell_type": "code",
   "execution_count": null,
   "metadata": {
    "dotnet_interactive": {
     "language": "spiral"
    },
    "polyglot_notebook": {
     "kernelName": "spiral"
    }
   },
   "outputs": [],
   "source": [
    "nominal py_sha256 = any"
   ]
  },
  {
   "cell_type": "markdown",
   "metadata": {},
   "source": [
    "### hashlib_sha256"
   ]
  },
  {
   "cell_type": "code",
   "execution_count": null,
   "metadata": {
    "dotnet_interactive": {
     "language": "spiral"
    },
    "polyglot_notebook": {
     "kernelName": "spiral"
    }
   },
   "outputs": [],
   "source": [
    "inl hashlib_sha256 () : py_sha256 =\n",
    "    backend_switch {\n",
    "        Fsharp = fun () =>\n",
    "            open python_operators\n",
    "            global \"type IHashlibSha256 = abstract sha256: x: unit -> obj\"\n",
    "            inl hashlib : $'IHashlibSha256' = python.import_all \"hashlib\"\n",
    "            !\\($'\"!hashlib.sha256()\"') : py_sha256\n",
    "        Python = fun () =>\n",
    "            global \"import hashlib\"\n",
    "            $'hashlib.sha256()' : py_sha256\n",
    "    }"
   ]
  },
  {
   "cell_type": "markdown",
   "metadata": {},
   "source": [
    "### sha256_update"
   ]
  },
  {
   "cell_type": "code",
   "execution_count": null,
   "metadata": {
    "dotnet_interactive": {
     "language": "spiral"
    },
    "polyglot_notebook": {
     "kernelName": "spiral"
    }
   },
   "outputs": [],
   "source": [
    "inl sha256_update (x : string) (sha256 : py_sha256) : py_sha256 =\n",
    "    backend_switch {\n",
    "        Fsharp = fun () =>\n",
    "            open python_operators\n",
    "            !\\\\(x, $'\"!sha256.update($0)\"') : ()\n",
    "        Python = fun () =>\n",
    "            $'!sha256.update(!x)' : ()\n",
    "    }\n",
    "    sha256"
   ]
  },
  {
   "cell_type": "markdown",
   "metadata": {},
   "source": [
    "### sha256_hexdigest"
   ]
  },
  {
   "cell_type": "code",
   "execution_count": null,
   "metadata": {
    "dotnet_interactive": {
     "language": "spiral"
    },
    "polyglot_notebook": {
     "kernelName": "spiral"
    }
   },
   "outputs": [],
   "source": [
    "inl sha256_hexdigest (sha256 : py_sha256) : string =\n",
    "    backend_switch {\n",
    "        Fsharp = fun () =>\n",
    "            open python_operators\n",
    "            !\\($'\"!sha256.hexdigest()\"') : string\n",
    "        Python = fun () =>\n",
    "            $'!sha256.hexdigest()' : string\n",
    "    }"
   ]
  },
  {
   "cell_type": "markdown",
   "metadata": {},
   "source": [
    "## crypto"
   ]
  },
  {
   "cell_type": "markdown",
   "metadata": {},
   "source": [
    "### hash_text"
   ]
  },
  {
   "cell_type": "code",
   "execution_count": null,
   "metadata": {
    "dotnet_interactive": {
     "language": "spiral"
    },
    "polyglot_notebook": {
     "kernelName": "spiral"
    }
   },
   "outputs": [],
   "source": [
    "let hash_text (~input : string) =\n",
    "    run_target function\n",
    "        | Fsharp (Native) => fun () =>\n",
    "            inl sha256 = sha256 () |> use\n",
    "            input\n",
    "            |> sm'.utf8_get_bytes\n",
    "            |> sha256_compute_hash sha256\n",
    "            |> am.map (sm'.byte_to_string \"x2\")\n",
    "            |> seq.of_array'\n",
    "            |> sm'.concat (join \"\")\n",
    "        | TypeScript (Native) => fun () =>\n",
    "            create_hash \"sha256\"\n",
    "            |> hash_update input\n",
    "            |> hash_digest \"hex\"\n",
    "        | Rust (Native) => fun () =>\n",
    "            input\n",
    "            |> sm'.utf8_get_bytes\n",
    "            |> fun (a x) => x\n",
    "            |> am'.to_vec\n",
    "            |> stream.new_cursor\n",
    "            |> hash_read\n",
    "            |> resultm.unwrap'\n",
    "        | Python (Native) | Cuda (Native) => fun () =>\n",
    "            hashlib_sha256 ()\n",
    "            |> sha256_update (input |> sm'.encode_utf8)\n",
    "            |> sha256_hexdigest\n",
    "        | _ => fun () => null ()"
   ]
  },
  {
   "cell_type": "code",
   "execution_count": null,
   "metadata": {
    "dotnet_interactive": {
     "language": "spiral"
    },
    "polyglot_notebook": {
     "kernelName": "spiral"
    }
   },
   "outputs": [
    {
     "data": {
      "text/plain": [
       "\n",
       ".py output (Cuda):\n",
       "__assert_eq / actual: 01ba4719c80b6fe911b091a7c05124b64eeece964e09c058ef8f9805daca546b / expected: 01ba4719c80b6fe911b091a7c05124b64eeece964e09c058ef8f9805daca546b\n",
       "__assert_eq / actual: e3b0c44298fc1c149afbf4c8996fb92427ae41e4649b934ca495991b7852b855 / expected: e3b0c44298fc1c149afbf4c8996fb92427ae41e4649b934ca495991b7852b855\n",
       "\n",
       "\n",
       ".rs output (rust -d sha2):\n",
       "__assert_eq / actual: \"01ba4719c80b6fe911b091a7c05124b64eeece964e09c058ef8f9805daca546b\" / expected: \"01ba4719c80b6fe911b091a7c05124b64eeece964e09c058ef8f9805daca546b\"\n",
       "__assert_eq / actual: \"e3b0c44298fc1c149afbf4c8996fb92427ae41e4649b934ca495991b7852b855\" / expected: \"e3b0c44298fc1c149afbf4c8996fb92427ae41e4649b934ca495991b7852b855\"\n",
       "\n",
       "\n",
       ".ts output:\n",
       "__assert_eq / actual: 01ba4719c80b6fe911b091a7c05124b64eeece964e09c058ef8f9805daca546b / expected: 01ba4719c80b6fe911b091a7c05124b64eeece964e09c058ef8f9805daca546b\n",
       "__assert_eq / actual: e3b0c44298fc1c149afbf4c8996fb92427ae41e4649b934ca495991b7852b855 / expected: e3b0c44298fc1c149afbf4c8996fb92427ae41e4649b934ca495991b7852b855\n",
       "\n",
       "\n",
       ".py output:\n",
       "__assert_eq / actual: 01ba4719c80b6fe911b091a7c05124b64eeece964e09c058ef8f9805daca546b / expected: 01ba4719c80b6fe911b091a7c05124b64eeece964e09c058ef8f9805daca546b\n",
       "__assert_eq / actual: e3b0c44298fc1c149afbf4c8996fb92427ae41e4649b934ca495991b7852b855 / expected: e3b0c44298fc1c149afbf4c8996fb92427ae41e4649b934ca495991b7852b855\n",
       "\n",
       "\n"
      ]
     },
     "metadata": {},
     "output_type": "display_data"
    },
    {
     "name": "stdout",
     "output_type": "stream",
     "text": [
      ".fsx output:\n",
      "__assert_eq / actual: \"01ba4719c80b6fe911b091a7c05124b64eeece964e09c058ef8f9805daca546b\" / expected: \"01ba4719c80b6fe911b091a7c05124b64eeece964e09c058ef8f9805daca546b\"\n",
      "__assert_eq / actual: \"e3b0c44298fc1c149afbf4c8996fb92427ae41e4649b934ca495991b7852b855\" / expected: \"e3b0c44298fc1c149afbf4c8996fb92427ae41e4649b934ca495991b7852b855\"\n"
     ]
    }
   ],
   "source": [
    "//// test\n",
    "///! fsharp\n",
    "///! cuda\n",
    "///! rust -d sha2\n",
    "///! typescript\n",
    "///! python\n",
    "\n",
    "\"\\n\"\n",
    "|> hash_text\n",
    "|> _assert_eq \"01ba4719c80b6fe911b091a7c05124b64eeece964e09c058ef8f9805daca546b\"\n",
    "\n",
    "\"\"\n",
    "|> hash_text\n",
    "|> _assert_eq \"e3b0c44298fc1c149afbf4c8996fb92427ae41e4649b934ca495991b7852b855\""
   ]
  },
  {
   "cell_type": "markdown",
   "metadata": {},
   "source": [
    "### hash_to_port"
   ]
  },
  {
   "cell_type": "code",
   "execution_count": null,
   "metadata": {
    "dotnet_interactive": {
     "language": "spiral"
    },
    "polyglot_notebook": {
     "kernelName": "spiral"
    }
   },
   "outputs": [],
   "source": [
    "inl hash_to_port (text : string) : u16 =\n",
    "    inl first_letter_code = text |> sm'.index 0i32 |> i32\n",
    "    inl hash_part = text |> sm'.slice 0i32 7\n",
    "    inl combined_value = convert_i32_base 16 hash_part + first_letter_code |> u16\n",
    "    trace Verbose\n",
    "        fun () => \"crypto.hash_to_port\"\n",
    "        fun () => { first_letter_code hash_part combined_value }\n",
    "    combined_value % 48128 + 1024"
   ]
  },
  {
   "cell_type": "code",
   "execution_count": null,
   "metadata": {
    "dotnet_interactive": {
     "language": "spiral"
    },
    "polyglot_notebook": {
     "kernelName": "spiral"
    }
   },
   "outputs": [
    {
     "data": {
      "text/plain": [
       "\n",
       ".rs output (rust -d sha2):\n",
       "00:00:00 \u001B[90mverbose\u001B[39m #1 crypto.hash_to_port / { first_letter_code = 48; hash_part = 01ba4719; combined_value = 18249 }\n",
       "__assert_eq / actual: 19273 / expected: 19273\n",
       "\n",
       "\n",
       ".ts output:\n",
       "00:00:00 \u001B[90mverbose\u001B[0m #1 crypto.hash_to_port / { first_letter_code = 48; hash_part = 01ba4719; combined_value = 18249 }\n",
       "__assert_eq / actual: 19273 / expected: 19273\n",
       "\n",
       "\n",
       ".py output:\n",
       "00:00:00 \u001B[90mverbose\u001B[0m #1 crypto.hash_to_port / { first_letter_code = 48; hash_part = 01ba4719; combined_value = 18249 }\n",
       "__assert_eq / actual: 19273 / expected: 19273\n",
       "\n",
       "\n"
      ]
     },
     "metadata": {},
     "output_type": "display_data"
    },
    {
     "name": "stdout",
     "output_type": "stream",
     "text": [
      ".fsx output:\n",
      "00:00:00 \u001B[90mverbose\u001B[0m #1 crypto.hash_to_port / { first_letter_code = 48; hash_part = 01ba4719; combined_value = 18249 }\n",
      "__assert_eq / actual: 19273us / expected: 19273us\n"
     ]
    }
   ],
   "source": [
    "//// test\n",
    "///! fsharp\n",
    "////! cuda // Only stack allocated primitive types (i8,i16,i32,i64 and u8,u16,u32,u64 and f32,f64 and bool) are allowed in CuPy arrays.\n",
    "///! rust -d sha2\n",
    "///! typescript\n",
    "///! python\n",
    "\n",
    "\"\\n\"\n",
    "|> hash_text\n",
    "|> hash_to_port\n",
    "|> _assert_eq 19273"
   ]
  },
  {
   "cell_type": "markdown",
   "metadata": {},
   "source": [
    "## main"
   ]
  },
  {
   "cell_type": "code",
   "execution_count": null,
   "metadata": {
    "dotnet_interactive": {
     "language": "spiral"
    },
    "polyglot_notebook": {
     "kernelName": "spiral"
    }
   },
   "outputs": [],
   "source": [
    "inl main () =\n",
    "    $'let hash_text x = !hash_text x' : ()\n",
    "    $'let hash_to_port x = !hash_to_port x' : ()"
   ]
  }
 ],
 "metadata": {},
 "nbformat": 4,
 "nbformat_minor": 5
}