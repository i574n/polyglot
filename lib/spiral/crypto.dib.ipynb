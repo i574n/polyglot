{
 "cells": [
  {
   "cell_type": "markdown",
   "metadata": {},
   "source": [
    "# crypto"
   ]
  },
  {
   "cell_type": "code",
   "execution_count": null,
   "metadata": {
    "dotnet_interactive": {
     "language": "spiral"
    },
    "polyglot_notebook": {
     "kernelName": "spiral"
    }
   },
   "outputs": [
    {
     "name": "stdout",
     "output_type": "stream",
     "text": [
      "()\n",
      "\n"
     ]
    }
   ],
   "source": [
    "open rust_operators"
   ]
  },
  {
   "cell_type": "code",
   "execution_count": null,
   "metadata": {
    "dotnet_interactive": {
     "language": "spiral"
    },
    "polyglot_notebook": {
     "kernelName": "spiral"
    }
   },
   "outputs": [
    {
     "name": "stdout",
     "output_type": "stream",
     "text": [
      "()\n",
      "\n"
     ]
    }
   ],
   "source": [
    "//// test\n",
    "\n",
    "open testing\n",
    "open file_system_operators"
   ]
  },
  {
   "cell_type": "markdown",
   "metadata": {},
   "source": [
    "## types"
   ]
  },
  {
   "cell_type": "code",
   "execution_count": null,
   "metadata": {
    "dotnet_interactive": {
     "language": "spiral"
    },
    "polyglot_notebook": {
     "kernelName": "spiral"
    }
   },
   "outputs": [
    {
     "name": "stdout",
     "output_type": "stream",
     "text": [
      "()\n",
      "\n"
     ]
    }
   ],
   "source": [
    "inl types () =\n",
    "    global \"#if FABLE_COMPILER\\n[<Fable.Core.Erase; Fable.Core.Emit(\\\"sha2::Sha256\\\")>]\\n#endif\\ntype sha2_Sha256 = class end\""
   ]
  },
  {
   "cell_type": "code",
   "execution_count": null,
   "metadata": {
    "dotnet_interactive": {
     "language": "spiral"
    },
    "polyglot_notebook": {
     "kernelName": "spiral"
    }
   },
   "outputs": [
    {
     "name": "stdout",
     "output_type": "stream",
     "text": [
      "()\n",
      "\n"
     ]
    }
   ],
   "source": [
    "inl types () =\n",
    "    sm'.types ()\n",
    "    am'.types ()\n",
    "    threading.types ()\n",
    "    rust.types ()\n",
    "    date_time.types ()\n",
    "    file_system.types ()\n",
    "    stream.types ()\n",
    "    runtime.types ()\n",
    "    types ()"
   ]
  },
  {
   "cell_type": "markdown",
   "metadata": {},
   "source": [
    "## sha256"
   ]
  },
  {
   "cell_type": "code",
   "execution_count": null,
   "metadata": {
    "dotnet_interactive": {
     "language": "spiral"
    },
    "polyglot_notebook": {
     "kernelName": "spiral"
    }
   },
   "outputs": [
    {
     "name": "stdout",
     "output_type": "stream",
     "text": [
      "()\n",
      "\n"
     ]
    }
   ],
   "source": [
    "nominal sha256 = $'System.Security.Cryptography.SHA256'\n",
    "\n",
    "inl sha256 () : sha256 =\n",
    "    $'`sha256.Create' ()"
   ]
  },
  {
   "cell_type": "markdown",
   "metadata": {},
   "source": [
    "## sha256_compute_hash"
   ]
  },
  {
   "cell_type": "code",
   "execution_count": null,
   "metadata": {
    "dotnet_interactive": {
     "language": "spiral"
    },
    "polyglot_notebook": {
     "kernelName": "spiral"
    }
   },
   "outputs": [
    {
     "name": "stdout",
     "output_type": "stream",
     "text": [
      "()\n",
      "\n"
     ]
    }
   ],
   "source": [
    "inl sha256_compute_hash (x : sha256) (data : a i32 u8) : a i32 u8 =\n",
    "    data |> $'!x.ComputeHash'"
   ]
  },
  {
   "cell_type": "markdown",
   "metadata": {},
   "source": [
    "## create_hash"
   ]
  },
  {
   "cell_type": "code",
   "execution_count": null,
   "metadata": {
    "dotnet_interactive": {
     "language": "spiral"
    },
    "polyglot_notebook": {
     "kernelName": "spiral"
    }
   },
   "outputs": [
    {
     "name": "stdout",
     "output_type": "stream",
     "text": [
      "()\n",
      "\n"
     ]
    }
   ],
   "source": [
    "inl create_hash (x : string) : any =\n",
    "    open ts_operators\n",
    "    global \"type ICryptoCreateHash = abstract createHash: x: string -> obj\"\n",
    "    inl crypto : $'ICryptoCreateHash' = ts.import_all \"crypto\"\n",
    "    !\\\\(x, $'\"!crypto.createHash($0)\"')"
   ]
  },
  {
   "cell_type": "markdown",
   "metadata": {},
   "source": [
    "## hash_update"
   ]
  },
  {
   "cell_type": "code",
   "execution_count": null,
   "metadata": {
    "dotnet_interactive": {
     "language": "spiral"
    },
    "polyglot_notebook": {
     "kernelName": "spiral"
    }
   },
   "outputs": [
    {
     "name": "stdout",
     "output_type": "stream",
     "text": [
      "()\n",
      "\n"
     ]
    }
   ],
   "source": [
    "inl hash_update (s : string) (x : any) : any =\n",
    "    open ts_operators\n",
    "    !\\\\((x, s), $'\"$0.update($1, \\'utf8\\')\"')"
   ]
  },
  {
   "cell_type": "markdown",
   "metadata": {},
   "source": [
    "## hash_digest"
   ]
  },
  {
   "cell_type": "code",
   "execution_count": null,
   "metadata": {
    "dotnet_interactive": {
     "language": "spiral"
    },
    "polyglot_notebook": {
     "kernelName": "spiral"
    }
   },
   "outputs": [
    {
     "name": "stdout",
     "output_type": "stream",
     "text": [
      "()\n",
      "\n"
     ]
    }
   ],
   "source": [
    "inl hash_digest (s : string) (x : any) : string =\n",
    "    open ts_operators\n",
    "    !\\\\((x, s), $'\"$0.digest($1)\"')"
   ]
  },
  {
   "cell_type": "markdown",
   "metadata": {},
   "source": [
    "## hash_text"
   ]
  },
  {
   "cell_type": "code",
   "execution_count": null,
   "metadata": {
    "dotnet_interactive": {
     "language": "spiral"
    },
    "polyglot_notebook": {
     "kernelName": "spiral"
    }
   },
   "outputs": [
    {
     "name": "stdout",
     "output_type": "stream",
     "text": [
      "()\n",
      "\n"
     ]
    }
   ],
   "source": [
    "inl hash_text (input : string) =\n",
    "    run_target function\n",
    "        | Fsharp (Native) => fun () =>\n",
    "            inl input = join input\n",
    "            inl sha256 = sha256 () |> use\n",
    "            input\n",
    "            |> sm'.utf8_get_bytes\n",
    "            |> sha256_compute_hash sha256\n",
    "            |> am.map (sm'.byte_to_string \"x2\")\n",
    "            |> seq.of_array'\n",
    "            |> sm'.concat \"\"\n",
    "        | TypeScript _ => fun () =>\n",
    "            create_hash \"sha256\"\n",
    "            |> hash_update input\n",
    "            |> hash_digest \"hex\"\n",
    "        | _ => fun () => null ()"
   ]
  },
  {
   "cell_type": "code",
   "execution_count": null,
   "metadata": {
    "dotnet_interactive": {
     "language": "spiral"
    },
    "polyglot_notebook": {
     "kernelName": "spiral"
    }
   },
   "outputs": [
    {
     "name": "stdout",
     "output_type": "stream",
     "text": [
      "type ICryptoCreateHash = abstract createHash: x: string -> obj\n",
      "type Mut0 = {mutable l0 : int32}\n",
      "let rec method1 () : string =\n",
      "    let v0 : string = \"\"\n",
      "    v0\n",
      "and method2 (v0 : int32, v1 : Mut0) : bool =\n",
      "    let v2 : int32 = v1.l0\n",
      "    let v3 : bool = v2 < v0\n",
      "    v3\n",
      "and method3 () : string =\n",
      "    let v0 : string = \"\"\n",
      "    v0\n",
      "and method4 (v0 : bool) : bool =\n",
      "    v0\n",
      "and method0 () : unit =\n",
      "    let v0 : bool = true\n",
      "    let mutable _v0 : string option = None \n",
      "    \n",
      "#if FABLE_COMPILER || WASM || CONTRACT\n",
      "    \n",
      "#if FABLE_COMPILER_RUST && !WASM && !CONTRACT\n",
      "    let v1 : string = null |> unbox<string>\n",
      "    v1 \n",
      "    #endif\n",
      "#if FABLE_COMPILER_RUST && WASM\n",
      "    let v2 : string = null |> unbox<string>\n",
      "    v2 \n",
      "    #endif\n",
      "#if FABLE_COMPILER_RUST && CONTRACT\n",
      "    let v3 : string = null |> unbox<string>\n",
      "    v3 \n",
      "    #endif\n",
      "#if FABLE_COMPILER_TYPESCRIPT\n",
      "    let v4 : string = \"crypto\"\n",
      "    let v5 : ICryptoCreateHash = Fable.Core.JsInterop.importAll v4\n",
      "    let v6 : string = \"v5.createHash($0)\"\n",
      "    let v7 : string = \"sha256\"\n",
      "    let v8 : obj = Fable.Core.JsInterop.emitJsExpr v7 v6\n",
      "    let v9 : string = \"$0.update($1, 'utf8')\"\n",
      "    let v10 : string = \"\"\n",
      "    let v11 : obj = Fable.Core.JsInterop.emitJsExpr struct (v8, v10) v9\n",
      "    let v12 : string = \"$0.digest($1)\"\n",
      "    let v13 : string = \"hex\"\n",
      "    let v14 : string = Fable.Core.JsInterop.emitJsExpr struct (v11, v13) v12\n",
      "    v14 \n",
      "    #endif\n",
      "#if FABLE_COMPILER_PYTHON\n",
      "    let v15 : string = null |> unbox<string>\n",
      "    v15 \n",
      "    #endif\n",
      "#else\n",
      "    let v16 : string = method1()\n",
      "    let v17 : (unit -> System.Security.Cryptography.SHA256) = System.Security.Cryptography.SHA256.Create\n",
      "    let v18 : System.Security.Cryptography.SHA256 = v17 ()\n",
      "    use v18 = v18 \n",
      "    let v19 : System.Security.Cryptography.SHA256 = v18 \n",
      "    let v20 : (string -> (uint8 [])) = System.Text.Encoding.UTF8.GetBytes\n",
      "    let v21 : (uint8 []) = v20 v16\n",
      "    let v22 : ((uint8 []) -> (uint8 [])) = v19.ComputeHash\n",
      "    let v23 : (uint8 []) = v22 v21\n",
      "    let v24 : int32 = v23.Length\n",
      "    let v25 : (string []) = Array.zeroCreate<string> (v24)\n",
      "    let v26 : Mut0 = {l0 = 0} : Mut0\n",
      "    while method2(v24, v26) do\n",
      "        let v28 : int32 = v26.l0\n",
      "        let v29 : uint8 = v23.[int v28]\n",
      "        let v30 : (string -> string) = v29.ToString\n",
      "        let v31 : string = \"x2\"\n",
      "        let v32 : string = v30 v31\n",
      "        v25.[int v28] <- v32\n",
      "        let v33 : int32 = v28 + 1\n",
      "        v26.l0 <- v33\n",
      "        ()\n",
      "    let v34 : string seq = seq { for i = 0 to v25.Length - 1 do yield v25.[i] }\n",
      "    let v35 : string = method3()\n",
      "    let v36 : (string -> (string seq -> string)) = String.concat\n",
      "    let v37 : (string seq -> string) = v36 v35\n",
      "    let v38 : string = v37 v34\n",
      "    v38 \n",
      "    #endif\n",
      "    |> fun x -> _v0 <- Some x\n",
      "    let v39 : string = _v0.Value\n",
      "    let v41 : bool = v39 = \"e3b0c44298fc1c149afbf4c8996fb92427ae41e4649b934ca495991b7852b855\"\n",
      "    let v43 : bool =\n",
      "        if v41 then\n",
      "            true\n",
      "        else\n",
      "            method4(v41)\n",
      "    let v44 : string = \"assert_eq\"\n",
      "    let v45 : string = \"e3b0c44298fc1c149afbf4c8996fb92427ae41e4649b934ca495991b7852b855\"\n",
      "    let v46 : string = $\"{v44} / actual: %A{v39} / expected: %A{v45}\"\n",
      "    System.Console.WriteLine v46\n",
      "    let v47 : bool = v43 = false\n",
      "    if v47 then\n",
      "        failwith<unit> v46\n",
      "method0()\n",
      "\n",
      "assert_eq / actual: \"e3b0c44298fc1c149afbf4c8996fb92427ae41e4649b934ca495991b7852b855\" / expected: \"e3b0c44298fc1c149afbf4c8996fb92427ae41e4649b934ca495991b7852b855\"\n"
     ]
    }
   ],
   "source": [
    "//// test\n",
    "\n",
    "\"\"\n",
    "|> hash_text\n",
    "|> _assert_eq \"e3b0c44298fc1c149afbf4c8996fb92427ae41e4649b934ca495991b7852b855\""
   ]
  },
  {
   "cell_type": "code",
   "execution_count": null,
   "metadata": {
    "dotnet_interactive": {
     "language": "spiral"
    },
    "polyglot_notebook": {
     "kernelName": "spiral"
    }
   },
   "outputs": [
    {
     "name": "stdout",
     "output_type": "stream",
     "text": [
      "type ICryptoCreateHash = abstract createHash: x: string -> obj\n",
      "type Mut0 = {mutable l0 : int32}\n",
      "let rec method1 () : string =\n",
      "    let v0 : string = \" \"\n",
      "    v0\n",
      "and method2 (v0 : int32, v1 : Mut0) : bool =\n",
      "    let v2 : int32 = v1.l0\n",
      "    let v3 : bool = v2 < v0\n",
      "    v3\n",
      "and method3 () : string =\n",
      "    let v0 : string = \"\"\n",
      "    v0\n",
      "and method4 (v0 : bool) : bool =\n",
      "    v0\n",
      "and method0 () : unit =\n",
      "    let v0 : bool = true\n",
      "    let mutable _v0 : string option = None \n",
      "    \n",
      "#if FABLE_COMPILER || WASM || CONTRACT\n",
      "    \n",
      "#if FABLE_COMPILER_RUST && !WASM && !CONTRACT\n",
      "    let v1 : string = null |> unbox<string>\n",
      "    v1 \n",
      "    #endif\n",
      "#if FABLE_COMPILER_RUST && WASM\n",
      "    let v2 : string = null |> unbox<string>\n",
      "    v2 \n",
      "    #endif\n",
      "#if FABLE_COMPILER_RUST && CONTRACT\n",
      "    let v3 : string = null |> unbox<string>\n",
      "    v3 \n",
      "    #endif\n",
      "#if FABLE_COMPILER_TYPESCRIPT\n",
      "    let v4 : string = \"crypto\"\n",
      "    let v5 : ICryptoCreateHash = Fable.Core.JsInterop.importAll v4\n",
      "    let v6 : string = \"v5.createHash($0)\"\n",
      "    let v7 : string = \"sha256\"\n",
      "    let v8 : obj = Fable.Core.JsInterop.emitJsExpr v7 v6\n",
      "    let v9 : string = \"$0.update($1, 'utf8')\"\n",
      "    let v10 : string = \" \"\n",
      "    let v11 : obj = Fable.Core.JsInterop.emitJsExpr struct (v8, v10) v9\n",
      "    let v12 : string = \"$0.digest($1)\"\n",
      "    let v13 : string = \"hex\"\n",
      "    let v14 : string = Fable.Core.JsInterop.emitJsExpr struct (v11, v13) v12\n",
      "    v14 \n",
      "    #endif\n",
      "#if FABLE_COMPILER_PYTHON\n",
      "    let v15 : string = null |> unbox<string>\n",
      "    v15 \n",
      "    #endif\n",
      "#else\n",
      "    let v16 : string = method1()\n",
      "    let v17 : (unit -> System.Security.Cryptography.SHA256) = System.Security.Cryptography.SHA256.Create\n",
      "    let v18 : System.Security.Cryptography.SHA256 = v17 ()\n",
      "    use v18 = v18 \n",
      "    let v19 : System.Security.Cryptography.SHA256 = v18 \n",
      "    let v20 : (string -> (uint8 [])) = System.Text.Encoding.UTF8.GetBytes\n",
      "    let v21 : (uint8 []) = v20 v16\n",
      "    let v22 : ((uint8 []) -> (uint8 [])) = v19.ComputeHash\n",
      "    let v23 : (uint8 []) = v22 v21\n",
      "    let v24 : int32 = v23.Length\n",
      "    let v25 : (string []) = Array.zeroCreate<string> (v24)\n",
      "    let v26 : Mut0 = {l0 = 0} : Mut0\n",
      "    while method2(v24, v26) do\n",
      "        let v28 : int32 = v26.l0\n",
      "        let v29 : uint8 = v23.[int v28]\n",
      "        let v30 : (string -> string) = v29.ToString\n",
      "        let v31 : string = \"x2\"\n",
      "        let v32 : string = v30 v31\n",
      "        v25.[int v28] <- v32\n",
      "        let v33 : int32 = v28 + 1\n",
      "        v26.l0 <- v33\n",
      "        ()\n",
      "    let v34 : string seq = seq { for i = 0 to v25.Length - 1 do yield v25.[i] }\n",
      "    let v35 : string = method3()\n",
      "    let v36 : (string -> (string seq -> string)) = String.concat\n",
      "    let v37 : (string seq -> string) = v36 v35\n",
      "    let v38 : string = v37 v34\n",
      "    v38 \n",
      "    #endif\n",
      "    |> fun x -> _v0 <- Some x\n",
      "    let v39 : string = _v0.Value\n",
      "    let v41 : bool = v39 = \"36a9e7f1c95b82ffb99743e0c5c4ce95d83c9a430aac59f84ef3cbfab6145068\"\n",
      "    let v43 : bool =\n",
      "        if v41 then\n",
      "            true\n",
      "        else\n",
      "            method4(v41)\n",
      "    let v44 : string = \"assert_eq\"\n",
      "    let v45 : string = \"36a9e7f1c95b82ffb99743e0c5c4ce95d83c9a430aac59f84ef3cbfab6145068\"\n",
      "    let v46 : string = $\"{v44} / actual: %A{v39} / expected: %A{v45}\"\n",
      "    System.Console.WriteLine v46\n",
      "    let v47 : bool = v43 = false\n",
      "    if v47 then\n",
      "        failwith<unit> v46\n",
      "method0()\n",
      "\n",
      "assert_eq / actual: \"36a9e7f1c95b82ffb99743e0c5c4ce95d83c9a430aac59f84ef3cbfab6145068\" / expected: \"36a9e7f1c95b82ffb99743e0c5c4ce95d83c9a430aac59f84ef3cbfab6145068\"\n"
     ]
    }
   ],
   "source": [
    "//// test\n",
    "\n",
    "\" \"\n",
    "|> hash_text\n",
    "|> _assert_eq \"36a9e7f1c95b82ffb99743e0c5c4ce95d83c9a430aac59f84ef3cbfab6145068\""
   ]
  },
  {
   "cell_type": "markdown",
   "metadata": {},
   "source": [
    "## get_file_hash'"
   ]
  },
  {
   "cell_type": "code",
   "execution_count": null,
   "metadata": {
    "dotnet_interactive": {
     "language": "spiral"
    },
    "polyglot_notebook": {
     "kernelName": "spiral"
    }
   },
   "outputs": [
    {
     "name": "stdout",
     "output_type": "stream",
     "text": [
      "()\n",
      "\n"
     ]
    }
   ],
   "source": [
    "inl get_file_hash' (path : string) : result string string =\n",
    "    inl path = path |> file_system.normalize_path\n",
    "    inl exit_code, result =\n",
    "        runtime.execution_options fun x => { x with\n",
    "            command = $'$\"pwsh -c \\\\\\\"(Get-FileHash \\'{!path}\\' -Algorithm SHA256).Hash\\\\\\\"\"'\n",
    "        }\n",
    "        |> runtime.execute_with_options\n",
    "    if exit_code = 0\n",
    "    then result |> sm'.to_lower |> Ok\n",
    "    else result |> Error"
   ]
  },
  {
   "cell_type": "code",
   "execution_count": null,
   "metadata": {
    "dotnet_interactive": {
     "language": "spiral"
    },
    "polyglot_notebook": {
     "kernelName": "spiral"
    }
   },
   "outputs": [
    {
     "name": "stdout",
     "output_type": "stream",
     "text": [
      "00:00:00   debug #1 execute_with_options_async / options: struct (None,\n",
      "        \"pwsh -c \"(Get-FileHash '/tmp/!dotnet-repl/20240515-0610-2464-6418-600000dd14ac/test.txt' -Algorithm SHA256).Hash\"\",\n",
      "        [||], None, None, true, None)\n",
      "00:00:00 verbose #2 > E3B0C44298FC1C149AFBF4C8996FB92427AE41E4649B934CA495991B7852B855\n",
      "00:00:00   debug #3 execute_with_options_async / exit_code: 0 / output.Length: 64\n",
      "assert_eq / actual: \"e3b0c44298fc1c149afbf4c8996fb92427ae41e4649b934ca495991b7852b855\" / expected: \"e3b0c44298fc1c149afbf4c8996fb92427ae41e4649b934ca495991b7852b855\"\n"
     ]
    }
   ],
   "source": [
    "//// test\n",
    "//// print_code=false\n",
    "\n",
    "types ()\n",
    "inl temp_folder, disposable = file_system.create_temp_directory ()\n",
    "disposable |> use |> ignore\n",
    "inl file_name = \"test.txt\"\n",
    "inl path = temp_folder </> file_name\n",
    "\"\" |> file_system.write_all_text_async path |> async.run_synchronously\n",
    "path\n",
    "|> get_file_hash'\n",
    "|> resultm.get\n",
    "|> _assert_eq \"e3b0c44298fc1c149afbf4c8996fb92427ae41e4649b934ca495991b7852b855\""
   ]
  },
  {
   "cell_type": "code",
   "execution_count": null,
   "metadata": {
    "dotnet_interactive": {
     "language": "spiral"
    },
    "polyglot_notebook": {
     "kernelName": "spiral"
    }
   },
   "outputs": [
    {
     "data": {
      "text/plain": [
       "00:00:00 \u001B[90mverbose\u001B[39m #1 file_system.create_directory / dir: /tmp/!spiral_builder_639942ffbd8a8ed67cd9ad47cca718b468a69d76c4f0273a120ce395882fb5d6/20240515-0610-4008-3067-00000058fa6c\n",
       "00:00:00 \u001B[94m  debug\u001B[39m #2 runtime.execute_with_options / file_name: pwsh / arguments: [\"-c\", \"(Get-FileHash '/tmp/!spiral_builder_639942ffbd8a8ed67cd9ad47cca718b468a69d76c4f0273a120ce395882fb5d6/20240515-0610-4008-3067-00000058fa6c/test.txt' -Algorithm SHA256).Hash\"] / options: (None, \"pwsh -c \"(Get-FileHash '/tmp/!spiral_builder_639942ffbd8a8ed67cd9ad47cca718b468a69d76c4f0273a120ce395882fb5d6/20240515-0610-4008-3067-00000058fa6c/test.txt' -Algorithm SHA256).Hash\"\", Array(MutCell([])), None, None, true, None)\n",
       "00:00:00 \u001B[90mverbose\u001B[39m #3 E3B0C44298FC1C149AFBF4C8996FB92427AE41E4649B934CA495991B7852B855\n",
       "00:00:00 \u001B[90mverbose\u001B[39m #4 runtime.execute_with_options / result / exit_code: 0 / std_trace.Length: 64\n",
       "assert_eq / actual: \"e3b0c44298fc1c149afbf4c8996fb92427ae41e4649b934ca495991b7852b855\" / expected: \"e3b0c44298fc1c149afbf4c8996fb92427ae41e4649b934ca495991b7852b855\"\n"
      ]
     },
     "metadata": {},
     "output_type": "display_data"
    }
   ],
   "source": [
    "//// test\n",
    "//// print_code=false\n",
    "///! rust -d chrono encoding_rs encoding_rs_io futures-lite regex\n",
    "\n",
    "types ()\n",
    "inl temp_folder, disposable = file_system.create_temp_directory ()\n",
    "inl file_name = \"test.txt\"\n",
    "inl path = temp_folder </> file_name\n",
    "\"\" |> file_system.write_all_text path\n",
    "path\n",
    "|> get_file_hash'\n",
    "|> resultm.get\n",
    "|> _assert_eq \"e3b0c44298fc1c149afbf4c8996fb92427ae41e4649b934ca495991b7852b855\"\n",
    "disposable |> use |> ignore"
   ]
  },
  {
   "cell_type": "markdown",
   "metadata": {},
   "source": [
    "## sha256'"
   ]
  },
  {
   "cell_type": "code",
   "execution_count": null,
   "metadata": {
    "dotnet_interactive": {
     "language": "spiral"
    },
    "polyglot_notebook": {
     "kernelName": "spiral"
    }
   },
   "outputs": [
    {
     "name": "stdout",
     "output_type": "stream",
     "text": [
      "()\n",
      "\n"
     ]
    }
   ],
   "source": [
    "nominal sha256' = $'sha2_Sha256'"
   ]
  },
  {
   "cell_type": "markdown",
   "metadata": {},
   "source": [
    "## new_sha256"
   ]
  },
  {
   "cell_type": "code",
   "execution_count": null,
   "metadata": {
    "dotnet_interactive": {
     "language": "spiral"
    },
    "polyglot_notebook": {
     "kernelName": "spiral"
    }
   },
   "outputs": [
    {
     "name": "stdout",
     "output_type": "stream",
     "text": [
      "()\n",
      "\n"
     ]
    }
   ],
   "source": [
    "inl new_sha256 () : sha256' =\n",
    "    !\\($'\"sha2::Digest::new()\"')"
   ]
  },
  {
   "cell_type": "markdown",
   "metadata": {},
   "source": [
    "## hasher_update"
   ]
  },
  {
   "cell_type": "code",
   "execution_count": null,
   "metadata": {
    "dotnet_interactive": {
     "language": "spiral"
    },
    "polyglot_notebook": {
     "kernelName": "spiral"
    }
   },
   "outputs": [
    {
     "name": "stdout",
     "output_type": "stream",
     "text": [
      "()\n",
      "\n"
     ]
    }
   ],
   "source": [
    "inl hasher_update forall el dim. (slice : rust.ref' (am'.slice' el dim)) (hasher : sha256') : () =\n",
    "    !\\($'\"sha2::Digest::update(&mut !hasher, !slice)\"')"
   ]
  },
  {
   "cell_type": "markdown",
   "metadata": {},
   "source": [
    "## hasher_finalize"
   ]
  },
  {
   "cell_type": "code",
   "execution_count": null,
   "metadata": {
    "dotnet_interactive": {
     "language": "spiral"
    },
    "polyglot_notebook": {
     "kernelName": "spiral"
    }
   },
   "outputs": [
    {
     "name": "stdout",
     "output_type": "stream",
     "text": [
      "()\n",
      "\n"
     ]
    }
   ],
   "source": [
    "inl hasher_finalize (hasher : sha256') : rust.ref' (am'.slice u8) =\n",
    "    !\\($'\"&sha2::Digest::finalize(!hasher)\"')"
   ]
  },
  {
   "cell_type": "markdown",
   "metadata": {},
   "source": [
    "## get_file_hash"
   ]
  },
  {
   "cell_type": "code",
   "execution_count": null,
   "metadata": {
    "dotnet_interactive": {
     "language": "spiral"
    },
    "polyglot_notebook": {
     "kernelName": "spiral"
    }
   },
   "outputs": [
    {
     "name": "stdout",
     "output_type": "stream",
     "text": [
      "()\n",
      "\n"
     ]
    }
   ],
   "source": [
    "inl get_file_hash (path : string) : result string string =\n",
    "    inl path = path |> file_system.normalize_path\n",
    "    inl file = path |> file_system.file_open |> resultm.unwrap'\n",
    "    inl reader = file |> stream.new_buf_reader\n",
    "    (!\\($'\"true; let mut !reader = !reader\"') : bool) |> ignore\n",
    "    inl hasher = new_sha256 ()\n",
    "    (!\\($'\"true; let mut !hasher = !hasher\"') : bool) |> ignore\n",
    "    \n",
    "    real\n",
    "        inl size = 1024\n",
    "        inl zero = unativeint `i32 0\n",
    "        inl buffer = am'.new_slice `u8 `@size 0u8\n",
    "\n",
    "        rust.loop 2 fun () =>\n",
    "            inl count = stream.buf_reader_read `u8 `@size buffer reader\n",
    "            inl count = resultm.unwrap' `unativeint `(stream.io_error) count\n",
    "\n",
    "            if (=.) `unativeint count zero then rust.break ()\n",
    "\n",
    "            hasher_update `u8 `@size\n",
    "                (\n",
    "                    am'.slice_range `u8 `@size\n",
    "                        (am'.Start `unativeint zero)\n",
    "                        (am'.End `unativeint ((fun _ => count) : unativeint -> unativeint))\n",
    "                        buffer\n",
    "                )\n",
    "                hasher\n",
    "\n",
    "    hasher\n",
    "    |> hasher_finalize\n",
    "    |> am'.slice_to_vec\n",
    "    |> am'.vec_map' (sm'.format_custom' \"{:02x}\" >> sm'.from_std_string)\n",
    "    |> am'.from_vec\n",
    "    |> fun x => x : _ i32 _\n",
    "    |> seq.of_array'\n",
    "    |> sm'.concat \"\"\n",
    "    |> Ok"
   ]
  },
  {
   "cell_type": "code",
   "execution_count": null,
   "metadata": {
    "dotnet_interactive": {
     "language": "spiral"
    },
    "polyglot_notebook": {
     "kernelName": "spiral"
    }
   },
   "outputs": [
    {
     "data": {
      "text/plain": [
       "00:00:00 \u001B[90mverbose\u001B[39m #1 file_system.create_directory / dir: /tmp/!spiral_builder_2aca700bbf8753c8756596231111e7ead581f0d848fba59776315e4a5116a402/20240515-0610-5541-3179-000000557f5e\n",
       "assert_eq / actual: \"e3b0c44298fc1c149afbf4c8996fb92427ae41e4649b934ca495991b7852b855\" / expected: \"e3b0c44298fc1c149afbf4c8996fb92427ae41e4649b934ca495991b7852b855\"\n"
      ]
     },
     "metadata": {},
     "output_type": "display_data"
    }
   ],
   "source": [
    "//// test\n",
    "//// print_code=false\n",
    "///! rust -d chrono regex sha2\n",
    "\n",
    "types ()\n",
    "inl temp_folder, disposable = file_system.create_temp_directory ()\n",
    "\n",
    "inl file_name = join \"test.txt\"\n",
    "inl path = temp_folder </> file_name\n",
    "\"\" |> file_system.write_all_text path\n",
    "path\n",
    "|> get_file_hash\n",
    "|> resultm.get\n",
    "|> _assert_eq \"e3b0c44298fc1c149afbf4c8996fb92427ae41e4649b934ca495991b7852b855\"\n",
    "disposable |> use |> ignore"
   ]
  },
  {
   "cell_type": "code",
   "execution_count": null,
   "metadata": {
    "dotnet_interactive": {
     "language": "spiral"
    },
    "polyglot_notebook": {
     "kernelName": "spiral"
    }
   },
   "outputs": [
    {
     "data": {
      "text/plain": [
       "00:00:00 \u001B[90mverbose\u001B[39m #1 file_system.create_directory / dir: /tmp/!spiral_builder_de9674b126f970bf31cb9683f65c322ad03f4815dc86da5bc77824b44e0fe149/20240515-0611-0736-3855-00000049d137\n",
       "assert_eq / actual: \"36a9e7f1c95b82ffb99743e0c5c4ce95d83c9a430aac59f84ef3cbfab6145068\" / expected: \"36a9e7f1c95b82ffb99743e0c5c4ce95d83c9a430aac59f84ef3cbfab6145068\"\n"
      ]
     },
     "metadata": {},
     "output_type": "display_data"
    }
   ],
   "source": [
    "//// test\n",
    "//// print_code=false\n",
    "///! rust -d chrono regex sha2\n",
    "\n",
    "types ()\n",
    "inl temp_folder, disposable = file_system.create_temp_directory ()\n",
    "\n",
    "inl file_name = join \"test.txt\"\n",
    "inl path = temp_folder </> file_name\n",
    "\" \" |> file_system.write_all_text path\n",
    "path\n",
    "|> get_file_hash\n",
    "|> resultm.get\n",
    "|> _assert_eq \"36a9e7f1c95b82ffb99743e0c5c4ce95d83c9a430aac59f84ef3cbfab6145068\"\n",
    "disposable |> use |> ignore"
   ]
  },
  {
   "cell_type": "markdown",
   "metadata": {},
   "source": [
    "## main"
   ]
  },
  {
   "cell_type": "code",
   "execution_count": null,
   "metadata": {
    "dotnet_interactive": {
     "language": "spiral"
    },
    "polyglot_notebook": {
     "kernelName": "spiral"
    }
   },
   "outputs": [
    {
     "name": "stdout",
     "output_type": "stream",
     "text": [
      "#if FABLE_COMPILER\n",
      "[<Fable.Core.Erase; Fable.Core.Emit(\"_\")>]\n",
      "#endif\n",
      "type Any = class end\n",
      "#if FABLE_COMPILER\n",
      "[<Fable.Core.Erase; Fable.Core.Emit(\"Func0<$0>\")>]\n",
      "#endif\n",
      "type Func0<'T> = class end\n",
      "#if FABLE_COMPILER\n",
      "[<Fable.Core.Erase; Fable.Core.Emit(\"Func1<$0, $1>\")>]\n",
      "#endif\n",
      "type Func0<'T, 'U> = class end\n",
      "#if FABLE_COMPILER\n",
      "[<Fable.Core.Erase; Fable.Core.Emit(\"Box<$0>\")>]\n",
      "#endif\n",
      "type Box<'T> = class end\n",
      "#if FABLE_COMPILER\n",
      "[<Fable.Core.Erase; Fable.Core.Emit(\"dyn $0\")>]\n",
      "#endif\n",
      "type Dyn<'T> = class end\n",
      "#if FABLE_COMPILER\n",
      "[<Fable.Core.Erase; Fable.Core.Emit(\"$0 + Send\")>]\n",
      "#endif\n",
      "type Send<'T> = class end\n",
      "#if FABLE_COMPILER\n",
      "[<Fable.Core.Erase; Fable.Core.Emit(\"Fn() -> $0\")>]\n",
      "#endif\n",
      "type Fn<'T> = class end\n",
      "#if FABLE_COMPILER\n",
      "[<Fable.Core.Erase; Fable.Core.Emit(\"Fn()\")>]\n",
      "#endif\n",
      "type FnUnit = class end\n",
      "#if FABLE_COMPILER\n",
      "[<Fable.Core.Erase; Fable.Core.Emit(\"FnOnce() -> $0\")>]\n",
      "#endif\n",
      "type FnOnce<'T> = class end\n",
      "#if FABLE_COMPILER\n",
      "[<Fable.Core.Erase; Fable.Core.Emit(\"Fn($0)\")>]\n",
      "#endif\n",
      "type ActionFn<'T> = class end\n",
      "#if FABLE_COMPILER\n",
      "[<Fable.Core.Erase; Fable.Core.Emit(\"Fn($0, $1)\")>]\n",
      "#endif\n",
      "type ActionFn2<'T, 'U> = class end\n",
      "#if FABLE_COMPILER\n",
      "[<Fable.Core.Erase; Fable.Core.Emit(\"impl $0\")>]\n",
      "#endif\n",
      "type Impl<'T> = class end\n",
      "#if FABLE_COMPILER\n",
      "[<Fable.Core.Erase; Fable.Core.Emit(\"mut $0\")>]\n",
      "#endif\n",
      "type Mut<'T> = class end\n",
      "#if FABLE_COMPILER\n",
      "[<Fable.Core.Erase; Fable.Core.Emit(\"&$0\")>]\n",
      "#endif\n",
      "type Ref<'T> = class end\n",
      "#if FABLE_COMPILER\n",
      "[<Fable.Core.Erase; Fable.Core.Emit(\"&'static $0\")>]\n",
      "#endif\n",
      "type StaticRef<'T> = class end\n",
      "#if FABLE_COMPILER\n",
      "[<Fable.Core.Erase; Fable.Core.Emit(\"MutCell<$0>\")>]\n",
      "#endif\n",
      "type MutCell<'T> = class end\n",
      "#if FABLE_COMPILER\n",
      "[<Fable.Core.Erase; Fable.Core.Emit(\"std::any::Any\")>]\n",
      "#endif\n",
      "type std_any_Any = class end\n",
      "#if FABLE_COMPILER\n",
      "[<Fable.Core.Erase; Fable.Core.Emit(\"std::borrow::Cow<$0>\")>]\n",
      "#endif\n",
      "type std_borrow_Cow<'T> = class end\n",
      "#if FABLE_COMPILER\n",
      "[<Fable.Core.Erase; Fable.Core.Emit(\"std::cell::RefCell<$0>\")>]\n",
      "#endif\n",
      "type std_cell_RefCell<'T> = class end\n",
      "#if FABLE_COMPILER\n",
      "[<Fable.Core.Erase; Fable.Core.Emit(\"std::pin::Pin<$0>\")>]\n",
      "#endif\n",
      "type std_pin_Pin<'T> = class end\n",
      "#if FABLE_COMPILER\n",
      "[<Fable.Core.Erase; Fable.Core.Emit(\"std::rc::Rc<$0>\")>]\n",
      "#endif\n",
      "type std_rc_Rc<'T> = class end\n",
      "#if FABLE_COMPILER\n",
      "[<Fable.Core.Erase; Fable.Core.Emit(\"std::rc::Weak<$0>\")>]\n",
      "#endif\n",
      "type std_rc_Weak<'T> = class end\n",
      "#if FABLE_COMPILER\n",
      "[<Fable.Core.Erase; Fable.Core.Emit(\"std::collections::HashMap<$0, $1>\")>]\n",
      "#endif\n",
      "type std_collections_HashMap<'K, 'V> = class end\n",
      "#if FABLE_COMPILER\n",
      "[<Fable.Core.Erase; Fable.Core.Emit(\"std::collections::BTreeMap<$0, $1>\")>]\n",
      "#endif\n",
      "type std_collections_BTreeMap<'K, 'V> = class end\n",
      "#if FABLE_COMPILER\n",
      "[<Fable.Core.Erase; Fable.Core.Emit(\"str\")>]\n",
      "#endif\n",
      "type Str = class end\n",
      "#if FABLE_COMPILER\n",
      "[<Fable.Core.Erase; Fable.Core.Emit(\"base64::DecodeError\")>]\n",
      "#endif\n",
      "type base64_DecodeError = class end\n",
      "#if FABLE_COMPILER\n",
      "[<Fable.Core.Erase; Fable.Core.Emit(\"borsh::io::Error\")>]\n",
      "#endif\n",
      "type borsh_io_Error = class end\n",
      "#if FABLE_COMPILER\n",
      "[<Fable.Core.Erase; Fable.Core.Emit(\"encoding_rs::Encoding\")>]\n",
      "#endif\n",
      "type encoding_rs_Encoding = class end\n",
      "#if FABLE_COMPILER\n",
      "[<Fable.Core.Erase; Fable.Core.Emit(\"js_sys::JsString\")>]\n",
      "#endif\n",
      "type js_sys_JsString = class end\n",
      "#if FABLE_COMPILER\n",
      "[<Fable.Core.Erase; Fable.Core.Emit(\"serde_json::Error\")>]\n",
      "#endif\n",
      "type serde_json_Error = class end\n",
      "#if FABLE_COMPILER\n",
      "[<Fable.Core.Erase; Fable.Core.Emit(\"serde_json::Value\")>]\n",
      "#endif\n",
      "type serde_json_Value = class end\n",
      "#if FABLE_COMPILER\n",
      "[<Fable.Core.Erase; Fable.Core.Emit(\"serde_wasm_bindgen::Error\")>]\n",
      "#endif\n",
      "type serde_wasm_bindgen_Error = class end\n",
      "#if FABLE_COMPILER\n",
      "[<Fable.Core.Erase; Fable.Core.Emit(\"std::ffi::OsStr\")>]\n",
      "#endif\n",
      "type std_ffi_OsStr = class end\n",
      "#if FABLE_COMPILER\n",
      "[<Fable.Core.Erase; Fable.Core.Emit(\"std::ffi::OsString\")>]\n",
      "#endif\n",
      "type std_ffi_OsString = class end\n",
      "#if FABLE_COMPILER\n",
      "[<Fable.Core.Erase; Fable.Core.Emit(\"std::fmt::Display<$0>\")>]\n",
      "#endif\n",
      "type std_fmt_Display<'T> = class end\n",
      "#if FABLE_COMPILER\n",
      "[<Fable.Core.Erase; Fable.Core.Emit(\"std::str::Utf8Error\")>]\n",
      "#endif\n",
      "type std_str_Utf8Error = class end\n",
      "#if FABLE_COMPILER\n",
      "[<Fable.Core.Erase; Fable.Core.Emit(\"std::string::FromUtf8Error\")>]\n",
      "#endif\n",
      "type std_string_FromUtf8Error = class end\n",
      "#if FABLE_COMPILER\n",
      "[<Fable.Core.Erase; Fable.Core.Emit(\"std::string::String\")>]\n",
      "#endif\n",
      "type std_string_String = class end\n",
      "#if FABLE_COMPILER\n",
      "[<Fable.Core.Erase; Fable.Core.Emit(\"std::slice::Windows<$0>\")>]\n",
      "#endif\n",
      "type std_slice_Windows<'T> = class end\n",
      "#if FABLE_COMPILER\n",
      "[<Fable.Core.Erase; Fable.Core.Emit(\"regex::Regex\")>]\n",
      "#endif\n",
      "type regex_Regex = class end\n",
      "#if FABLE_COMPILER\n",
      "[<Fable.Core.Erase; Fable.Core.Emit(\"regex::Captures\")>]\n",
      "#endif\n",
      "type regex_Captures = class end\n",
      "#if FABLE_COMPILER\n",
      "[<Fable.Core.Erase; Fable.Core.Emit(\"regex::CaptureMatches\")>]\n",
      "#endif\n",
      "type regex_CaptureMatches = class end\n",
      "#if FABLE_COMPILER\n",
      "[<Fable.Core.Erase; Fable.Core.Emit(\"regex::Error\")>]\n",
      "#endif\n",
      "type regex_Error = class end\n",
      "#if FABLE_COMPILER\n",
      "[<Fable.Core.Erase; Fable.Core.Emit(\"[$0]\")>]\n",
      "#endif\n",
      "type Slice<'T> = class end\n",
      "#if FABLE_COMPILER\n",
      "[<Fable.Core.Erase; Fable.Core.Emit(\"_\")>]\n",
      "#endif\n",
      "type Slice'<'T> = class end\n",
      "#if FABLE_COMPILER\n",
      "[<Fable.Core.Erase; Fable.Core.Emit(\"Vec<$0>\")>]\n",
      "#endif\n",
      "type Vec<'T> = class end\n",
      "#if FABLE_COMPILER\n",
      "[<Fable.Core.Erase; Fable.Core.Emit(\"std::thread::JoinHandle<$0>\")>]\n",
      "#endif\n",
      "type std_thread_JoinHandle<'T> = class end\n",
      "#if FABLE_COMPILER\n",
      "[<Fable.Core.Erase; Fable.Core.Emit(\"std::sync::Arc<$0>\")>]\n",
      "#endif\n",
      "type std_sync_Arc<'T> = class end\n",
      "#if FABLE_COMPILER\n",
      "[<Fable.Core.Erase; Fable.Core.Emit(\"std::sync::Mutex<$0>\")>]\n",
      "#endif\n",
      "type std_sync_Mutex<'T> = class end\n",
      "#if FABLE_COMPILER\n",
      "[<Fable.Core.Erase; Fable.Core.Emit(\"std::sync::MutexGuard<$0>\")>]\n",
      "#endif\n",
      "type std_sync_MutexGuard<'T> = class end\n",
      "#if FABLE_COMPILER\n",
      "[<Fable.Core.Erase; Fable.Core.Emit(\"std::sync::PoisonError<$0>\")>]\n",
      "#endif\n",
      "type std_sync_PoisonError<'T> = class end\n",
      "#if FABLE_COMPILER\n",
      "[<Fable.Core.Erase; Fable.Core.Emit(\"chrono::DateTime<$0>\")>]\n",
      "#endif\n",
      "type chrono_DateTime<'T> = class end\n",
      "#if FABLE_COMPILER\n",
      "[<Fable.Core.Erase; Fable.Core.Emit(\"chrono::Local\")>]\n",
      "#endif\n",
      "type chrono_Local = class end\n",
      "#if FABLE_COMPILER\n",
      "[<Fable.Core.Erase; Fable.Core.Emit(\"chrono::NaiveDateTime\")>]\n",
      "#endif\n",
      "type chrono_NaiveDateTime = class end\n",
      "#if FABLE_COMPILER\n",
      "[<Fable.Core.Erase; Fable.Core.Emit(\"chrono::Utc\")>]\n",
      "#endif\n",
      "type chrono_Utc = class end\n",
      "#if FABLE_COMPILER\n",
      "[<Fable.Core.Erase; Fable.Core.Emit(\"std::time::Duration\")>]\n",
      "#endif\n",
      "type std_time_Duration = class end\n",
      "#if FABLE_COMPILER\n",
      "[<Fable.Core.Erase; Fable.Core.Emit(\"std::fs::File\")>]\n",
      "#endif\n",
      "type std_fs_File = class end\n",
      "#if FABLE_COMPILER\n",
      "[<Fable.Core.Erase; Fable.Core.Emit(\"std::fs::FileType\")>]\n",
      "#endif\n",
      "type std_fs_FileType = class end\n",
      "#if FABLE_COMPILER\n",
      "[<Fable.Core.Erase; Fable.Core.Emit(\"std::path::Display\")>]\n",
      "#endif\n",
      "type std_path_Display = class end\n",
      "#if FABLE_COMPILER\n",
      "[<Fable.Core.Erase; Fable.Core.Emit(\"std::path::Path\")>]\n",
      "#endif\n",
      "type std_path_Path = class end\n",
      "#if FABLE_COMPILER\n",
      "[<Fable.Core.Erase; Fable.Core.Emit(\"std::path::PathBuf\")>]\n",
      "#endif\n",
      "type std_path_PathBuf = class end\n",
      "#if FABLE_COMPILER\n",
      "[<Fable.Core.Erase; Fable.Core.Emit(\"async_walkdir::DirEntry\")>]\n",
      "#endif\n",
      "type async_walkdir_DirEntry = class end\n",
      "#if FABLE_COMPILER\n",
      "[<Fable.Core.Erase; Fable.Core.Emit(\"async_walkdir::Filtering\")>]\n",
      "#endif\n",
      "type async_walkdir_Filtering = class end\n",
      "#if FABLE_COMPILER\n",
      "[<Fable.Core.Erase; Fable.Core.Emit(\"async_walkdir::WalkDir\")>]\n",
      "#endif\n",
      "type async_walkdir_WalkDir = class end\n",
      "#if FABLE_COMPILER\n",
      "[<Fable.Core.Erase; Fable.Core.Emit(\"std::env::VarError\")>]\n",
      "#endif\n",
      "type std_env_VarError = class end\n",
      "#if FABLE_COMPILER\n",
      "[<Fable.Core.Erase; Fable.Core.Emit(\"async_std::io::BufReader<$0>\")>]\n",
      "#endif\n",
      "type async_std_io_BufReader<'T> = class end\n",
      "#if FABLE_COMPILER\n",
      "[<Fable.Core.Erase; Fable.Core.Emit(\"std::io::BufReader<$0>\")>]\n",
      "#endif\n",
      "type std_io_BufReader<'T> = class end\n",
      "#if FABLE_COMPILER\n",
      "[<Fable.Core.Erase; Fable.Core.Emit(\"std::io::Error\")>]\n",
      "#endif\n",
      "type std_io_Error = class end\n",
      "#if FABLE_COMPILER\n",
      "[<Fable.Core.Erase; Fable.Core.Emit(\"std::io::Lines<$0>\")>]\n",
      "#endif\n",
      "type std_io_Lines<'T> = class end\n",
      "#if FABLE_COMPILER\n",
      "[<Fable.Core.Erase; Fable.Core.Emit(\"encoding_rs_io::DecodeReaderBytes<$0, $1>\")>]\n",
      "#endif\n",
      "type encoding_rs_io_DecodeReaderBytes<'T, 'U> = class end\n",
      "#if FABLE_COMPILER\n",
      "[<Fable.Core.Erase; Fable.Core.Emit(\"clap::Arg\")>]\n",
      "#endif\n",
      "type clap_Arg = class end\n",
      "#if FABLE_COMPILER\n",
      "[<Fable.Core.Erase; Fable.Core.Emit(\"clap::ArgAction\")>]\n",
      "#endif\n",
      "type clap_ArgAction = class end\n",
      "#if FABLE_COMPILER\n",
      "[<Fable.Core.Erase; Fable.Core.Emit(\"clap::Command\")>]\n",
      "#endif\n",
      "type clap_Command = class end\n",
      "#if FABLE_COMPILER\n",
      "[<Fable.Core.Erase; Fable.Core.Emit(\"clap::ArgMatches\")>]\n",
      "#endif\n",
      "type clap_ArgMatches = class end\n",
      "#if FABLE_COMPILER\n",
      "[<Fable.Core.Erase; Fable.Core.Emit(\"clap::builder::ValueRange\")>]\n",
      "#endif\n",
      "type clap_builder_ValueRange = class end\n",
      "#if FABLE_COMPILER\n",
      "[<Fable.Core.Erase; Fable.Core.Emit(\"clap::builder::ValueParser\")>]\n",
      "#endif\n",
      "type clap_builder_ValueParser = class end\n",
      "#if FABLE_COMPILER\n",
      "[<Fable.Core.Erase; Fable.Core.Emit(\"clap::builder::PossibleValue\")>]\n",
      "#endif\n",
      "type clap_builder_PossibleValue = class end\n",
      "#if FABLE_COMPILER\n",
      "[<Fable.Core.Erase; Fable.Core.Emit(\"std::process::Child\")>]\n",
      "#endif\n",
      "type std_process_Child = class end\n",
      "#if FABLE_COMPILER\n",
      "[<Fable.Core.Erase; Fable.Core.Emit(\"std::process::ChildStderr\")>]\n",
      "#endif\n",
      "type std_process_ChildStderr = class end\n",
      "#if FABLE_COMPILER\n",
      "[<Fable.Core.Erase; Fable.Core.Emit(\"std::process::ChildStdout\")>]\n",
      "#endif\n",
      "type std_process_ChildStdout = class end\n",
      "#if FABLE_COMPILER\n",
      "[<Fable.Core.Erase; Fable.Core.Emit(\"std::process::ChildStdin\")>]\n",
      "#endif\n",
      "type std_process_ChildStdin = class end\n",
      "#if FABLE_COMPILER\n",
      "[<Fable.Core.Erase; Fable.Core.Emit(\"std::process::Command\")>]\n",
      "#endif\n",
      "type std_process_Command = class end\n",
      "#if FABLE_COMPILER\n",
      "[<Fable.Core.Erase; Fable.Core.Emit(\"std::process::Output\")>]\n",
      "#endif\n",
      "type std_process_Output = class end\n",
      "#if FABLE_COMPILER\n",
      "[<Fable.Core.Erase; Fable.Core.Emit(\"std::process::Stdio\")>]\n",
      "#endif\n",
      "type std_process_Stdio = class end\n",
      "#if FABLE_COMPILER\n",
      "[<Fable.Core.Erase; Fable.Core.Emit(\"std::sync::mpsc::Receiver<$0>\")>]\n",
      "#endif\n",
      "type std_sync_mpsc_Receiver<'T> = class end\n",
      "#if FABLE_COMPILER\n",
      "[<Fable.Core.Erase; Fable.Core.Emit(\"std::sync::mpsc::Sender<$0>\")>]\n",
      "#endif\n",
      "type std_sync_mpsc_Sender<'T> = class end\n",
      "#if FABLE_COMPILER\n",
      "[<Fable.Core.Erase; Fable.Core.Emit(\"std::future::Future<Output = $0>\")>]\n",
      "#endif\n",
      "type std_future_Future<'T> = class end\n",
      "#if FABLE_COMPILER\n",
      "[<Fable.Core.Erase; Fable.Core.Emit(\"futures::future::TryJoinAll<$0>\")>]\n",
      "#endif\n",
      "type futures_future_TryJoinAll<'T> = class end\n",
      "#if FABLE_COMPILER\n",
      "[<Fable.Core.Erase; Fable.Core.Emit(\"rayon::vec::IntoIter<$0>\")>]\n",
      "#endif\n",
      "type rayon_vec_IntoIter<'T> = class end\n",
      "#if FABLE_COMPILER\n",
      "[<Fable.Core.Erase; Fable.Core.Emit(\"rayon::iter::Map<$0, _>\")>]\n",
      "#endif\n",
      "type rayon_iter_Map<'T> = class end\n",
      "#if FABLE_COMPILER\n",
      "[<Fable.Core.Erase; Fable.Core.Emit(\"futures_lite::stream::StreamExt\")>]\n",
      "#endif\n",
      "type futures_lite_stream_StreamExt = class end\n",
      "#if FABLE_COMPILER\n",
      "[<Fable.Core.Erase; Fable.Core.Emit(\"core::iter::Fuse<$0>\")>]\n",
      "#endif\n",
      "type core_iter_Fuse<'T> = class end\n",
      "#if FABLE_COMPILER\n",
      "[<Fable.Core.Erase; Fable.Core.Emit(\"sha2::Sha256\")>]\n",
      "#endif\n",
      "type sha2_Sha256 = class end\n",
      "type ICryptoCreateHash = abstract createHash: x: string -> obj\n",
      "type Mut0 = {mutable l0 : int32}\n",
      "let rec method0 (v0 : string) : string =\n",
      "    v0\n",
      "and method1 (v0 : int32, v1 : Mut0) : bool =\n",
      "    let v2 : int32 = v1.l0\n",
      "    let v3 : bool = v2 < v0\n",
      "    v3\n",
      "and method2 () : string =\n",
      "    let v0 : string = \"\"\n",
      "    v0\n",
      "and closure0 () (v0 : string) : string =\n",
      "    let v1 : bool = true\n",
      "    let mutable _v1 : string option = None \n",
      "    \n",
      "#if FABLE_COMPILER || WASM || CONTRACT\n",
      "    \n",
      "#if FABLE_COMPILER_RUST && !WASM && !CONTRACT\n",
      "    let v2 : string = null |> unbox<string>\n",
      "    v2 \n",
      "    #endif\n",
      "#if FABLE_COMPILER_RUST && WASM\n",
      "    let v3 : string = null |> unbox<string>\n",
      "    v3 \n",
      "    #endif\n",
      "#if FABLE_COMPILER_RUST && CONTRACT\n",
      "    let v4 : string = null |> unbox<string>\n",
      "    v4 \n",
      "    #endif\n",
      "#if FABLE_COMPILER_TYPESCRIPT\n",
      "    let v5 : string = \"crypto\"\n",
      "    let v6 : ICryptoCreateHash = Fable.Core.JsInterop.importAll v5\n",
      "    let v7 : string = \"v6.createHash($0)\"\n",
      "    let v8 : string = \"sha256\"\n",
      "    let v9 : obj = Fable.Core.JsInterop.emitJsExpr v8 v7\n",
      "    let v10 : string = \"$0.update($1, 'utf8')\"\n",
      "    let v11 : obj = Fable.Core.JsInterop.emitJsExpr struct (v9, v0) v10\n",
      "    let v12 : string = \"$0.digest($1)\"\n",
      "    let v13 : string = \"hex\"\n",
      "    let v14 : string = Fable.Core.JsInterop.emitJsExpr struct (v11, v13) v12\n",
      "    v14 \n",
      "    #endif\n",
      "#if FABLE_COMPILER_PYTHON\n",
      "    let v15 : string = null |> unbox<string>\n",
      "    v15 \n",
      "    #endif\n",
      "#else\n",
      "    let v16 : string = method0(v0)\n",
      "    let v17 : (unit -> System.Security.Cryptography.SHA256) = System.Security.Cryptography.SHA256.Create\n",
      "    let v18 : System.Security.Cryptography.SHA256 = v17 ()\n",
      "    use v18 = v18 \n",
      "    let v19 : System.Security.Cryptography.SHA256 = v18 \n",
      "    let v20 : (string -> (uint8 [])) = System.Text.Encoding.UTF8.GetBytes\n",
      "    let v21 : (uint8 []) = v20 v16\n",
      "    let v22 : ((uint8 []) -> (uint8 [])) = v19.ComputeHash\n",
      "    let v23 : (uint8 []) = v22 v21\n",
      "    let v24 : int32 = v23.Length\n",
      "    let v25 : (string []) = Array.zeroCreate<string> (v24)\n",
      "    let v26 : Mut0 = {l0 = 0} : Mut0\n",
      "    while method1(v24, v26) do\n",
      "        let v28 : int32 = v26.l0\n",
      "        let v29 : uint8 = v23.[int v28]\n",
      "        let v30 : (string -> string) = v29.ToString\n",
      "        let v31 : string = \"x2\"\n",
      "        let v32 : string = v30 v31\n",
      "        v25.[int v28] <- v32\n",
      "        let v33 : int32 = v28 + 1\n",
      "        v26.l0 <- v33\n",
      "        ()\n",
      "    let v34 : string seq = seq { for i = 0 to v25.Length - 1 do yield v25.[i] }\n",
      "    let v35 : string = method2()\n",
      "    let v36 : (string -> (string seq -> string)) = String.concat\n",
      "    let v37 : (string seq -> string) = v36 v35\n",
      "    let v38 : string = v37 v34\n",
      "    v38 \n",
      "    #endif\n",
      "    |> fun x -> _v1 <- Some x\n",
      "    let v39 : string = _v1.Value\n",
      "    v39\n",
      "let v0 : (string -> string) = closure0()\n",
      "let hash_text x = v0 x\n",
      "()\n",
      "\n"
     ]
    }
   ],
   "source": [
    "inl main () =\n",
    "    types ()\n",
    "    $\"let hash_text x = !hash_text x\" : ()"
   ]
  }
 ],
 "metadata": {},
 "nbformat": 4,
 "nbformat_minor": 5
}