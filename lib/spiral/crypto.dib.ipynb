{
 "cells": [
  {
   "cell_type": "markdown",
   "metadata": {},
   "source": [
    "# crypto"
   ]
  },
  {
   "cell_type": "code",
   "execution_count": null,
   "metadata": {
    "dotnet_interactive": {
     "language": "spiral"
    },
    "polyglot_notebook": {
     "kernelName": "spiral"
    }
   },
   "outputs": [],
   "source": [
    "open rust_operators"
   ]
  },
  {
   "cell_type": "code",
   "execution_count": null,
   "metadata": {
    "dotnet_interactive": {
     "language": "spiral"
    },
    "polyglot_notebook": {
     "kernelName": "spiral"
    }
   },
   "outputs": [],
   "source": [
    "//// test\n",
    "\n",
    "open testing\n",
    "open file_system_operators"
   ]
  },
  {
   "cell_type": "markdown",
   "metadata": {},
   "source": [
    "## types"
   ]
  },
  {
   "cell_type": "code",
   "execution_count": null,
   "metadata": {
    "dotnet_interactive": {
     "language": "spiral"
    },
    "polyglot_notebook": {
     "kernelName": "spiral"
    }
   },
   "outputs": [],
   "source": [
    "inl types () =\n",
    "    global \"#if FABLE_COMPILER\\n[<Fable.Core.Erase; Fable.Core.Emit(\\\"sha2::Sha256\\\")>]\\n#endif\\ntype sha2_Sha256 = class end\""
   ]
  },
  {
   "cell_type": "code",
   "execution_count": null,
   "metadata": {
    "dotnet_interactive": {
     "language": "spiral"
    },
    "polyglot_notebook": {
     "kernelName": "spiral"
    }
   },
   "outputs": [],
   "source": [
    "inl types () =\n",
    "    sm'.types ()\n",
    "    am'.types ()\n",
    "    threading.types ()\n",
    "    rust.types ()\n",
    "    date_time.types ()\n",
    "    file_system.types ()\n",
    "    stream.types ()\n",
    "    runtime.types ()\n",
    "    types ()"
   ]
  },
  {
   "cell_type": "markdown",
   "metadata": {},
   "source": [
    "## sha256"
   ]
  },
  {
   "cell_type": "code",
   "execution_count": null,
   "metadata": {
    "dotnet_interactive": {
     "language": "spiral"
    },
    "polyglot_notebook": {
     "kernelName": "spiral"
    }
   },
   "outputs": [],
   "source": [
    "nominal sha256 = $'System.Security.Cryptography.SHA256'\n",
    "\n",
    "inl sha256 () : sha256 =\n",
    "    $'`sha256.Create' ()"
   ]
  },
  {
   "cell_type": "markdown",
   "metadata": {},
   "source": [
    "## sha256_compute_hash"
   ]
  },
  {
   "cell_type": "code",
   "execution_count": null,
   "metadata": {
    "dotnet_interactive": {
     "language": "spiral"
    },
    "polyglot_notebook": {
     "kernelName": "spiral"
    }
   },
   "outputs": [],
   "source": [
    "inl sha256_compute_hash (x : sha256) (data : a i32 u8) : a i32 u8 =\n",
    "    data |> $'!x.ComputeHash'"
   ]
  },
  {
   "cell_type": "markdown",
   "metadata": {},
   "source": [
    "## create_hash"
   ]
  },
  {
   "cell_type": "code",
   "execution_count": null,
   "metadata": {
    "dotnet_interactive": {
     "language": "spiral"
    },
    "polyglot_notebook": {
     "kernelName": "spiral"
    }
   },
   "outputs": [],
   "source": [
    "inl create_hash (x : string) : any =\n",
    "    open ts_operators\n",
    "    global \"type ICryptoCreateHash = abstract createHash: x: string -> obj\"\n",
    "    inl crypto : $'ICryptoCreateHash' = ts.import_all \"crypto\"\n",
    "    !\\\\(x, $'\"!crypto.createHash($0)\"')"
   ]
  },
  {
   "cell_type": "markdown",
   "metadata": {},
   "source": [
    "## hash_update"
   ]
  },
  {
   "cell_type": "code",
   "execution_count": null,
   "metadata": {
    "dotnet_interactive": {
     "language": "spiral"
    },
    "polyglot_notebook": {
     "kernelName": "spiral"
    }
   },
   "outputs": [],
   "source": [
    "inl hash_update (s : string) (x : any) : any =\n",
    "    open ts_operators\n",
    "    !\\\\((x, s), $'\"$0.update($1, \\'utf8\\')\"')"
   ]
  },
  {
   "cell_type": "markdown",
   "metadata": {},
   "source": [
    "## hash_digest"
   ]
  },
  {
   "cell_type": "code",
   "execution_count": null,
   "metadata": {
    "dotnet_interactive": {
     "language": "spiral"
    },
    "polyglot_notebook": {
     "kernelName": "spiral"
    }
   },
   "outputs": [],
   "source": [
    "inl hash_digest (s : string) (x : any) : string =\n",
    "    open ts_operators\n",
    "    !\\\\((x, s), $'\"$0.digest($1)\"')"
   ]
  },
  {
   "cell_type": "markdown",
   "metadata": {},
   "source": [
    "## hash_text"
   ]
  },
  {
   "cell_type": "code",
   "execution_count": null,
   "metadata": {
    "dotnet_interactive": {
     "language": "spiral"
    },
    "polyglot_notebook": {
     "kernelName": "spiral"
    }
   },
   "outputs": [],
   "source": [
    "inl hash_text (input : string) =\n",
    "    run_target function\n",
    "        | Fsharp (Native) => fun () =>\n",
    "            inl input = join input\n",
    "            inl sha256 = sha256 () |> use\n",
    "            input\n",
    "            |> sm'.utf8_get_bytes\n",
    "            |> sha256_compute_hash sha256\n",
    "            |> am.map (sm'.byte_to_string \"x2\")\n",
    "            |> seq.of_array'\n",
    "            |> sm'.concat \"\"\n",
    "        | TypeScript _ => fun () =>\n",
    "            create_hash \"sha256\"\n",
    "            |> hash_update input\n",
    "            |> hash_digest \"hex\"\n",
    "        | _ => fun () => null ()"
   ]
  },
  {
   "cell_type": "code",
   "execution_count": null,
   "metadata": {
    "dotnet_interactive": {
     "language": "spiral"
    },
    "polyglot_notebook": {
     "kernelName": "spiral"
    }
   },
   "outputs": [
    {
     "name": "stdout",
     "output_type": "stream",
     "text": [
      "assert_eq / actual: \"e3b0c44298fc1c149afbf4c8996fb92427ae41e4649b934ca495991b7852b855\" / expected: \"e3b0c44298fc1c149afbf4c8996fb92427ae41e4649b934ca495991b7852b855\"\n"
     ]
    }
   ],
   "source": [
    "//// test\n",
    "\n",
    "\"\"\n",
    "|> hash_text\n",
    "|> _assert_eq \"e3b0c44298fc1c149afbf4c8996fb92427ae41e4649b934ca495991b7852b855\""
   ]
  },
  {
   "cell_type": "code",
   "execution_count": null,
   "metadata": {
    "dotnet_interactive": {
     "language": "spiral"
    },
    "polyglot_notebook": {
     "kernelName": "spiral"
    }
   },
   "outputs": [
    {
     "name": "stdout",
     "output_type": "stream",
     "text": [
      "assert_eq / actual: \"36a9e7f1c95b82ffb99743e0c5c4ce95d83c9a430aac59f84ef3cbfab6145068\" / expected: \"36a9e7f1c95b82ffb99743e0c5c4ce95d83c9a430aac59f84ef3cbfab6145068\"\n"
     ]
    }
   ],
   "source": [
    "//// test\n",
    "\n",
    "\" \"\n",
    "|> hash_text\n",
    "|> _assert_eq \"36a9e7f1c95b82ffb99743e0c5c4ce95d83c9a430aac59f84ef3cbfab6145068\""
   ]
  },
  {
   "cell_type": "markdown",
   "metadata": {},
   "source": [
    "## get_file_hash'"
   ]
  },
  {
   "cell_type": "code",
   "execution_count": null,
   "metadata": {
    "dotnet_interactive": {
     "language": "spiral"
    },
    "polyglot_notebook": {
     "kernelName": "spiral"
    }
   },
   "outputs": [],
   "source": [
    "inl get_file_hash' (path : string) : result string string =\n",
    "    inl path = path |> file_system.normalize_path\n",
    "    inl exit_code, result =\n",
    "        runtime.execution_options fun x => { x with\n",
    "            command = $'$\"pwsh -c \\\\\\\"(Get-FileHash \\'{!path}\\' -Algorithm SHA256).Hash\\\\\\\"\"'\n",
    "        }\n",
    "        |> runtime.execute_with_options\n",
    "    if exit_code = 0\n",
    "    then result |> sm'.to_lower |> Ok\n",
    "    else result |> Error"
   ]
  },
  {
   "cell_type": "code",
   "execution_count": null,
   "metadata": {
    "dotnet_interactive": {
     "language": "spiral"
    },
    "polyglot_notebook": {
     "kernelName": "spiral"
    }
   },
   "outputs": [
    {
     "name": "stdout",
     "output_type": "stream",
     "text": [
      "00:00:00   debug #1 execute_with_options_async / options: struct (None,\n",
      "        \"pwsh -c \"(Get-FileHash '/tmp/!dotnet-repl/20240519-0519-4762-6287-60000085195e/test.txt' -Algorithm SHA256).Hash\"\",\n",
      "        [||], None, None, true, None)\n",
      "00:00:00 verbose #2 > E3B0C44298FC1C149AFBF4C8996FB92427AE41E4649B934CA495991B7852B855\n",
      "00:00:00   debug #3 execute_with_options_async / exit_code: 0 / output.Length: 64\n",
      "assert_eq / actual: \"e3b0c44298fc1c149afbf4c8996fb92427ae41e4649b934ca495991b7852b855\" / expected: \"e3b0c44298fc1c149afbf4c8996fb92427ae41e4649b934ca495991b7852b855\"\n"
     ]
    }
   ],
   "source": [
    "//// test\n",
    "\n",
    "types ()\n",
    "inl temp_folder, disposable = file_system.create_temp_directory ()\n",
    "disposable |> use |> ignore\n",
    "inl file_name = \"test.txt\"\n",
    "inl path = temp_folder </> file_name\n",
    "\"\" |> file_system.write_all_text_async path |> async.run_synchronously\n",
    "path\n",
    "|> get_file_hash'\n",
    "|> resultm.get\n",
    "|> _assert_eq \"e3b0c44298fc1c149afbf4c8996fb92427ae41e4649b934ca495991b7852b855\""
   ]
  },
  {
   "cell_type": "code",
   "execution_count": null,
   "metadata": {
    "dotnet_interactive": {
     "language": "spiral"
    },
    "polyglot_notebook": {
     "kernelName": "spiral"
    }
   },
   "outputs": [
    {
     "data": {
      "text/plain": [
       "00:00:00 \u001B[90mverbose\u001B[39m #1 file_system.create_directory / dir: /tmp/!spiral_builder_3ced377a5573e74c4c9a80702410cb8c14e33ab605a314239501d69edb1638b9/20240519-0520-0273-5045-0000003fefad\n",
       "00:00:00 \u001B[94m  debug\u001B[39m #2 runtime.execute_with_options / file_name: pwsh / arguments: [\"-c\", \"(Get-FileHash '/tmp/!spiral_builder_3ced377a5573e74c4c9a80702410cb8c14e33ab605a314239501d69edb1638b9/20240519-0520-0273-5045-0000003fefad/test.txt' -Algorithm SHA256).Hash\"] / options: (None, \"pwsh -c \"(Get-FileHash '/tmp/!spiral_builder_3ced377a5573e74c4c9a80702410cb8c14e33ab605a314239501d69edb1638b9/20240519-0520-0273-5045-0000003fefad/test.txt' -Algorithm SHA256).Hash\"\", Array(MutCell([])), None, None, true, None)\n",
       "00:00:00 \u001B[90mverbose\u001B[39m #3 > E3B0C44298FC1C149AFBF4C8996FB92427AE41E4649B934CA495991B7852B855\n",
       "00:00:00 \u001B[90mverbose\u001B[39m #4 runtime.execute_with_options / result / exit_code: 0 / std_trace.Length: 64\n",
       "assert_eq / actual: \"e3b0c44298fc1c149afbf4c8996fb92427ae41e4649b934ca495991b7852b855\" / expected: \"e3b0c44298fc1c149afbf4c8996fb92427ae41e4649b934ca495991b7852b855\"\n"
      ]
     },
     "metadata": {},
     "output_type": "display_data"
    }
   ],
   "source": [
    "//// test\n",
    "///! rust -d chrono encoding_rs encoding_rs_io futures futures-lite regex\n",
    "\n",
    "types ()\n",
    "inl temp_folder, disposable = file_system.create_temp_directory ()\n",
    "inl file_name = \"test.txt\"\n",
    "inl path = temp_folder </> file_name\n",
    "\"\" |> file_system.write_all_text path\n",
    "path\n",
    "|> get_file_hash'\n",
    "|> resultm.get\n",
    "|> _assert_eq \"e3b0c44298fc1c149afbf4c8996fb92427ae41e4649b934ca495991b7852b855\"\n",
    "disposable |> use |> ignore"
   ]
  },
  {
   "cell_type": "markdown",
   "metadata": {},
   "source": [
    "## sha256'"
   ]
  },
  {
   "cell_type": "code",
   "execution_count": null,
   "metadata": {
    "dotnet_interactive": {
     "language": "spiral"
    },
    "polyglot_notebook": {
     "kernelName": "spiral"
    }
   },
   "outputs": [],
   "source": [
    "nominal sha256' = $'sha2_Sha256'"
   ]
  },
  {
   "cell_type": "markdown",
   "metadata": {},
   "source": [
    "## new_sha256"
   ]
  },
  {
   "cell_type": "code",
   "execution_count": null,
   "metadata": {
    "dotnet_interactive": {
     "language": "spiral"
    },
    "polyglot_notebook": {
     "kernelName": "spiral"
    }
   },
   "outputs": [],
   "source": [
    "inl new_sha256 () : sha256' =\n",
    "    !\\($'\"sha2::Digest::new()\"')"
   ]
  },
  {
   "cell_type": "markdown",
   "metadata": {},
   "source": [
    "## hasher_update"
   ]
  },
  {
   "cell_type": "code",
   "execution_count": null,
   "metadata": {
    "dotnet_interactive": {
     "language": "spiral"
    },
    "polyglot_notebook": {
     "kernelName": "spiral"
    }
   },
   "outputs": [],
   "source": [
    "inl hasher_update forall el dim. (slice : rust.ref' (am'.slice' el dim)) (hasher : sha256') : () =\n",
    "    !\\($'\"sha2::Digest::update(&mut !hasher, !slice)\"')"
   ]
  },
  {
   "cell_type": "markdown",
   "metadata": {},
   "source": [
    "## hasher_finalize"
   ]
  },
  {
   "cell_type": "code",
   "execution_count": null,
   "metadata": {
    "dotnet_interactive": {
     "language": "spiral"
    },
    "polyglot_notebook": {
     "kernelName": "spiral"
    }
   },
   "outputs": [],
   "source": [
    "inl hasher_finalize (hasher : sha256') : rust.ref' (am'.slice u8) =\n",
    "    !\\($'\"&sha2::Digest::finalize(!hasher)\"')"
   ]
  },
  {
   "cell_type": "markdown",
   "metadata": {},
   "source": [
    "## get_file_hash"
   ]
  },
  {
   "cell_type": "code",
   "execution_count": null,
   "metadata": {
    "dotnet_interactive": {
     "language": "spiral"
    },
    "polyglot_notebook": {
     "kernelName": "spiral"
    }
   },
   "outputs": [],
   "source": [
    "inl get_file_hash (path : string) : result string string =\n",
    "    inl path = path |> file_system.normalize_path\n",
    "    inl file = path |> file_system.file_open |> resultm.unwrap'\n",
    "    inl reader = file |> stream.new_buf_reader\n",
    "    (!\\($'\"true; let mut !reader = !reader\"') : bool) |> ignore\n",
    "    inl hasher = new_sha256 ()\n",
    "    (!\\($'\"true; let mut !hasher = !hasher\"') : bool) |> ignore\n",
    "    \n",
    "    real\n",
    "        inl size = 1024\n",
    "        inl zero = unativeint `i32 0\n",
    "        inl buffer = am'.new_slice `u8 `@size 0u8\n",
    "\n",
    "        rust.loop 2 fun () =>\n",
    "            inl count = stream.buf_reader_read `u8 `@size buffer reader\n",
    "            inl count = resultm.unwrap' `unativeint `(stream.io_error) count\n",
    "\n",
    "            if (=.) `unativeint count zero then rust.break ()\n",
    "\n",
    "            hasher_update `u8 `@size\n",
    "                (\n",
    "                    am'.slice_range `u8 `@size\n",
    "                        (am'.Start `unativeint zero)\n",
    "                        (am'.End `unativeint ((fun _ => count) : unativeint -> unativeint))\n",
    "                        buffer\n",
    "                )\n",
    "                hasher\n",
    "\n",
    "    hasher\n",
    "    |> hasher_finalize\n",
    "    |> am'.slice_to_vec\n",
    "    |> am'.vec_map' (sm'.format_custom' \"{:02x}\" >> sm'.from_std_string)\n",
    "    |> am'.from_vec\n",
    "    |> fun x => x : _ i32 _\n",
    "    |> seq.of_array'\n",
    "    |> sm'.concat \"\"\n",
    "    |> Ok"
   ]
  },
  {
   "cell_type": "code",
   "execution_count": null,
   "metadata": {
    "dotnet_interactive": {
     "language": "spiral"
    },
    "polyglot_notebook": {
     "kernelName": "spiral"
    }
   },
   "outputs": [
    {
     "data": {
      "text/plain": [
       "00:00:00 \u001B[90mverbose\u001B[39m #1 file_system.create_directory / dir: /tmp/!spiral_builder_df8cc02ddf3ef5030562be353d0b03deb06ec44824efe5451980d346998b01d4/20240519-0520-1760-7655-000000a078af\n",
       "assert_eq / actual: \"e3b0c44298fc1c149afbf4c8996fb92427ae41e4649b934ca495991b7852b855\" / expected: \"e3b0c44298fc1c149afbf4c8996fb92427ae41e4649b934ca495991b7852b855\"\n"
      ]
     },
     "metadata": {},
     "output_type": "display_data"
    }
   ],
   "source": [
    "//// test\n",
    "///! rust -d chrono regex sha2\n",
    "\n",
    "types ()\n",
    "inl temp_folder, disposable = file_system.create_temp_directory ()\n",
    "\n",
    "inl file_name = join \"test.txt\"\n",
    "inl path = temp_folder </> file_name\n",
    "\"\" |> file_system.write_all_text path\n",
    "path\n",
    "|> get_file_hash\n",
    "|> resultm.get\n",
    "|> _assert_eq \"e3b0c44298fc1c149afbf4c8996fb92427ae41e4649b934ca495991b7852b855\"\n",
    "disposable |> use |> ignore"
   ]
  },
  {
   "cell_type": "code",
   "execution_count": null,
   "metadata": {
    "dotnet_interactive": {
     "language": "spiral"
    },
    "polyglot_notebook": {
     "kernelName": "spiral"
    }
   },
   "outputs": [
    {
     "data": {
      "text/plain": [
       "00:00:00 \u001B[90mverbose\u001B[39m #1 file_system.create_directory / dir: /tmp/!spiral_builder_5f8c892f78baf598816ac78264e6b9ac1893068dc1dc6a91bf1e1ca951b4d0e8/20240519-0520-2912-8072-00000022cecb\n",
       "assert_eq / actual: \"36a9e7f1c95b82ffb99743e0c5c4ce95d83c9a430aac59f84ef3cbfab6145068\" / expected: \"36a9e7f1c95b82ffb99743e0c5c4ce95d83c9a430aac59f84ef3cbfab6145068\"\n"
      ]
     },
     "metadata": {},
     "output_type": "display_data"
    }
   ],
   "source": [
    "//// test\n",
    "///! rust -d chrono regex sha2\n",
    "\n",
    "types ()\n",
    "inl temp_folder, disposable = file_system.create_temp_directory ()\n",
    "\n",
    "inl file_name = join \"test.txt\"\n",
    "inl path = temp_folder </> file_name\n",
    "\" \" |> file_system.write_all_text path\n",
    "path\n",
    "|> get_file_hash\n",
    "|> resultm.get\n",
    "|> _assert_eq \"36a9e7f1c95b82ffb99743e0c5c4ce95d83c9a430aac59f84ef3cbfab6145068\"\n",
    "disposable |> use |> ignore"
   ]
  },
  {
   "cell_type": "markdown",
   "metadata": {},
   "source": [
    "## main"
   ]
  },
  {
   "cell_type": "code",
   "execution_count": null,
   "metadata": {
    "dotnet_interactive": {
     "language": "spiral"
    },
    "polyglot_notebook": {
     "kernelName": "spiral"
    }
   },
   "outputs": [],
   "source": [
    "inl main () =\n",
    "    types ()\n",
    "    $\"let hash_text x = !hash_text x\" : ()"
   ]
  }
 ],
 "metadata": {},
 "nbformat": 4,
 "nbformat_minor": 5
}