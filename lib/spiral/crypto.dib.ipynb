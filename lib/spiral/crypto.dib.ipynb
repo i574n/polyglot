{
 "cells": [
  {
   "cell_type": "markdown",
   "metadata": {},
   "source": [
    "# crypto"
   ]
  },
  {
   "cell_type": "code",
   "execution_count": null,
   "metadata": {
    "dotnet_interactive": {
     "language": "spiral"
    },
    "polyglot_notebook": {
     "kernelName": "spiral"
    }
   },
   "outputs": [
    {
     "name": "stdout",
     "output_type": "stream",
     "text": [
      "()\n",
      "\n"
     ]
    }
   ],
   "source": [
    "// // test\n",
    "\n",
    "open testing"
   ]
  },
  {
   "cell_type": "markdown",
   "metadata": {},
   "source": [
    "## sha256"
   ]
  },
  {
   "cell_type": "code",
   "execution_count": null,
   "metadata": {
    "dotnet_interactive": {
     "language": "spiral"
    },
    "polyglot_notebook": {
     "kernelName": "spiral"
    }
   },
   "outputs": [
    {
     "name": "stdout",
     "output_type": "stream",
     "text": [
      "()\n",
      "\n"
     ]
    }
   ],
   "source": [
    "nominal sha256 = $'System.Security.Cryptography.SHA256'\n",
    "\n",
    "inl sha256 () : sha256 =\n",
    "    $'`sha256.Create' ()"
   ]
  },
  {
   "cell_type": "markdown",
   "metadata": {},
   "source": [
    "## sha256_compute_hash"
   ]
  },
  {
   "cell_type": "code",
   "execution_count": null,
   "metadata": {
    "dotnet_interactive": {
     "language": "spiral"
    },
    "polyglot_notebook": {
     "kernelName": "spiral"
    }
   },
   "outputs": [
    {
     "name": "stdout",
     "output_type": "stream",
     "text": [
      "()\n",
      "\n"
     ]
    }
   ],
   "source": [
    "inl sha256_compute_hash (x : sha256) (data : a i32 u8) : a i32 u8 =\n",
    "    data |> $'!x.ComputeHash'"
   ]
  },
  {
   "cell_type": "markdown",
   "metadata": {},
   "source": [
    "## create_hash"
   ]
  },
  {
   "cell_type": "code",
   "execution_count": null,
   "metadata": {
    "dotnet_interactive": {
     "language": "spiral"
    },
    "polyglot_notebook": {
     "kernelName": "spiral"
    }
   },
   "outputs": [
    {
     "name": "stdout",
     "output_type": "stream",
     "text": [
      "()\n",
      "\n"
     ]
    }
   ],
   "source": [
    "inl create_hash (x : string) : any =\n",
    "    open ts_operators\n",
    "    global \"type ICryptoCreateHash = abstract createHash: x: string -> obj\"\n",
    "    inl crypto : $'ICryptoCreateHash' = ts.import_all \"crypto\"\n",
    "    !\\\\(x, $'\"!crypto.createHash($0)\"')"
   ]
  },
  {
   "cell_type": "markdown",
   "metadata": {},
   "source": [
    "## hash_update"
   ]
  },
  {
   "cell_type": "code",
   "execution_count": null,
   "metadata": {
    "dotnet_interactive": {
     "language": "spiral"
    },
    "polyglot_notebook": {
     "kernelName": "spiral"
    }
   },
   "outputs": [
    {
     "name": "stdout",
     "output_type": "stream",
     "text": [
      "()\n",
      "\n"
     ]
    }
   ],
   "source": [
    "inl hash_update (s : string) (x : any) : any =\n",
    "    open ts_operators\n",
    "    !\\\\((x, s), $'\"$0.update($1, \\'utf8\\')\"')"
   ]
  },
  {
   "cell_type": "markdown",
   "metadata": {},
   "source": [
    "## hash_digest"
   ]
  },
  {
   "cell_type": "code",
   "execution_count": null,
   "metadata": {
    "dotnet_interactive": {
     "language": "spiral"
    },
    "polyglot_notebook": {
     "kernelName": "spiral"
    }
   },
   "outputs": [
    {
     "name": "stdout",
     "output_type": "stream",
     "text": [
      "()\n",
      "\n"
     ]
    }
   ],
   "source": [
    "inl hash_digest (s : string) (x : any) : string =\n",
    "    open ts_operators\n",
    "    !\\\\((x, s), $'\"$0.digest($1)\"')"
   ]
  },
  {
   "cell_type": "markdown",
   "metadata": {},
   "source": [
    "## hash_text"
   ]
  },
  {
   "cell_type": "code",
   "execution_count": null,
   "metadata": {
    "dotnet_interactive": {
     "language": "spiral"
    },
    "polyglot_notebook": {
     "kernelName": "spiral"
    }
   },
   "outputs": [
    {
     "name": "stdout",
     "output_type": "stream",
     "text": [
      "()\n",
      "\n"
     ]
    }
   ],
   "source": [
    "inl hash_text (input : string) =\n",
    "    run_target function\n",
    "        | Fsharp (Native) => fun () =>\n",
    "            inl sha256 = sha256 () |> use\n",
    "            input\n",
    "            |> sm'.utf8_get_bytes\n",
    "            |> sha256_compute_hash sha256\n",
    "            |> am.map (sm'.byte_to_string \"x2\")\n",
    "            |> seq.of_array'\n",
    "            |> sm'.concat \"\"\n",
    "        | TypeScript _ => fun () =>\n",
    "            create_hash \"sha256\"\n",
    "            |> hash_update input\n",
    "            |> hash_digest \"hex\"\n",
    "        | _ => fun () => null ()"
   ]
  },
  {
   "cell_type": "code",
   "execution_count": null,
   "metadata": {
    "dotnet_interactive": {
     "language": "spiral"
    },
    "polyglot_notebook": {
     "kernelName": "spiral"
    }
   },
   "outputs": [
    {
     "name": "stdout",
     "output_type": "stream",
     "text": [
      "type ICryptoCreateHash = abstract createHash: x: string -> obj\n",
      "type Mut0 = {mutable l0 : int32}\n",
      "let rec method1 (v0 : int32, v1 : Mut0) : bool =\n",
      "    let v2 : int32 = v1.l0\n",
      "    let v3 : bool = v2 < v0\n",
      "    v3\n",
      "and method2 () : string =\n",
      "    let v0 : string = \"\"\n",
      "    v0\n",
      "and method3 (v0 : bool) : bool =\n",
      "    v0\n",
      "and method0 () : unit =\n",
      "    let v0 : string option = None\n",
      "    let v1 : bool = true in let mutable _v0 = v0\n",
      "    #if FABLE_COMPILER_RUST && !WASM && !CONTRACT\n",
      "    let v2 : string = null |> unbox<string>\n",
      "    v2\n",
      "#endif\n",
      "    #if FABLE_COMPILER_RUST && WASM\n",
      "    let v3 : string = null |> unbox<string>\n",
      "    v3\n",
      "#endif\n",
      "    #if FABLE_COMPILER_RUST && CONTRACT\n",
      "    let v4 : string = null |> unbox<string>\n",
      "    v4\n",
      "#endif\n",
      "    #if !FABLE_COMPILER && !FABLE_COMPILER_RUST && !FABLE_COMPILER_TYPESCRIPT && !WASM && !CONTRACT\n",
      "    let v5 : (unit -> System.Security.Cryptography.SHA256) = System.Security.Cryptography.SHA256.Create\n",
      "    let v6 : System.Security.Cryptography.SHA256 = v5 ()\n",
      "    use v6 = v6 \n",
      "    let v7 : System.Security.Cryptography.SHA256 = v6 \n",
      "    let v8 : (string -> (uint8 [])) = System.Text.Encoding.UTF8.GetBytes\n",
      "    let v9 : string = \"\"\n",
      "    let v10 : (uint8 []) = v8 v9\n",
      "    let v11 : ((uint8 []) -> (uint8 [])) = v7.ComputeHash\n",
      "    let v12 : (uint8 []) = v11 v10\n",
      "    let v13 : int32 = v12.Length\n",
      "    let v14 : (string []) = Array.zeroCreate<string> (v13)\n",
      "    let v15 : Mut0 = {l0 = 0} : Mut0\n",
      "    while method1(v13, v15) do\n",
      "        let v17 : int32 = v15.l0\n",
      "        let v18 : uint8 = v12.[int v17]\n",
      "        let v19 : (string -> string) = v18.ToString\n",
      "        let v20 : string = \"x2\"\n",
      "        let v21 : string = v19 v20\n",
      "        v14.[int v17] <- v21\n",
      "        let v22 : int32 = v17 + 1\n",
      "        v15.l0 <- v22\n",
      "        ()\n",
      "    let v23 : string seq = seq { for i = 0 to v14.Length - 1 do yield v14.[i] }\n",
      "    let v24 : string = method2()\n",
      "    let v25 : (string -> (string seq -> string)) = String.concat\n",
      "    let v26 : (string seq -> string) = v25 v24\n",
      "    let v27 : string = v26 v23\n",
      "    v27\n",
      "#endif\n",
      "    #if FABLE_COMPILER_TYPESCRIPT\n",
      "    let v28 : string = \"crypto\"\n",
      "    let v29 : ICryptoCreateHash = Fable.Core.JsInterop.importAll v28\n",
      "    let v30 : string = \"v29.createHash($0)\"\n",
      "    let v31 : string = \"sha256\"\n",
      "    let v32 : obj = Fable.Core.JsInterop.emitJsExpr v31 v30\n",
      "    let v33 : string = \"$0.update($1, 'utf8')\"\n",
      "    let v34 : obj = Fable.Core.JsInterop.emitJsExpr struct (v32, v9) v33\n",
      "    let v35 : string = \"$0.digest($1)\"\n",
      "    let v36 : string = \"hex\"\n",
      "    let v37 : string = Fable.Core.JsInterop.emitJsExpr struct (v34, v36) v35\n",
      "    v37\n",
      "#endif\n",
      "    #if FABLE_COMPILER_PYTHON || FABLE_COMPILER_PHP || FABLE_COMPILER_DART\n",
      "    let v38 : string = Unchecked.defaultof<string>\n",
      "    v38\n",
      "#endif\n",
      "    |> fun x -> _v0 <- Some x\n",
      "    let v39 : string = _v0.Value\n",
      "    let v40 : string = $\"%A{v39}\"\n",
      "    System.Console.WriteLine v40\n",
      "    let v42 : bool = v39 = \"e3b0c44298fc1c149afbf4c8996fb92427ae41e4649b934ca495991b7852b855\"\n",
      "    let v44 : bool =\n",
      "        if v42 then\n",
      "            true\n",
      "        else\n",
      "            method3(v42)\n",
      "    let v45 : string = \"e3b0c44298fc1c149afbf4c8996fb92427ae41e4649b934ca495991b7852b855\"\n",
      "    let v46 : string = $\"__expect / actual: %A{v39} / expected: %A{v45}\"\n",
      "    let v47 : bool = v44 = false\n",
      "    if v47 then\n",
      "        failwith<unit> v46\n",
      "method0()\n",
      "\n",
      "\"e3b0c44298fc1c149afbf4c8996fb92427ae41e4649b934ca495991b7852b855\"\n"
     ]
    }
   ],
   "source": [
    "// // test\n",
    "\n",
    "\"\"\n",
    "|> hash_text\n",
    "|> _assert_eq \"e3b0c44298fc1c149afbf4c8996fb92427ae41e4649b934ca495991b7852b855\""
   ]
  },
  {
   "cell_type": "code",
   "execution_count": null,
   "metadata": {
    "dotnet_interactive": {
     "language": "spiral"
    },
    "polyglot_notebook": {
     "kernelName": "spiral"
    }
   },
   "outputs": [
    {
     "name": "stdout",
     "output_type": "stream",
     "text": [
      "type ICryptoCreateHash = abstract createHash: x: string -> obj\n",
      "type Mut0 = {mutable l0 : int32}\n",
      "let rec method1 (v0 : int32, v1 : Mut0) : bool =\n",
      "    let v2 : int32 = v1.l0\n",
      "    let v3 : bool = v2 < v0\n",
      "    v3\n",
      "and method2 () : string =\n",
      "    let v0 : string = \"\"\n",
      "    v0\n",
      "and method3 (v0 : bool) : bool =\n",
      "    v0\n",
      "and method0 () : unit =\n",
      "    let v0 : string option = None\n",
      "    let v1 : bool = true in let mutable _v0 = v0\n",
      "    #if FABLE_COMPILER_RUST && !WASM && !CONTRACT\n",
      "    let v2 : string = null |> unbox<string>\n",
      "    v2\n",
      "#endif\n",
      "    #if FABLE_COMPILER_RUST && WASM\n",
      "    let v3 : string = null |> unbox<string>\n",
      "    v3\n",
      "#endif\n",
      "    #if FABLE_COMPILER_RUST && CONTRACT\n",
      "    let v4 : string = null |> unbox<string>\n",
      "    v4\n",
      "#endif\n",
      "    #if !FABLE_COMPILER && !FABLE_COMPILER_RUST && !FABLE_COMPILER_TYPESCRIPT && !WASM && !CONTRACT\n",
      "    let v5 : (unit -> System.Security.Cryptography.SHA256) = System.Security.Cryptography.SHA256.Create\n",
      "    let v6 : System.Security.Cryptography.SHA256 = v5 ()\n",
      "    use v6 = v6 \n",
      "    let v7 : System.Security.Cryptography.SHA256 = v6 \n",
      "    let v8 : (string -> (uint8 [])) = System.Text.Encoding.UTF8.GetBytes\n",
      "    let v9 : string = \" \"\n",
      "    let v10 : (uint8 []) = v8 v9\n",
      "    let v11 : ((uint8 []) -> (uint8 [])) = v7.ComputeHash\n",
      "    let v12 : (uint8 []) = v11 v10\n",
      "    let v13 : int32 = v12.Length\n",
      "    let v14 : (string []) = Array.zeroCreate<string> (v13)\n",
      "    let v15 : Mut0 = {l0 = 0} : Mut0\n",
      "    while method1(v13, v15) do\n",
      "        let v17 : int32 = v15.l0\n",
      "        let v18 : uint8 = v12.[int v17]\n",
      "        let v19 : (string -> string) = v18.ToString\n",
      "        let v20 : string = \"x2\"\n",
      "        let v21 : string = v19 v20\n",
      "        v14.[int v17] <- v21\n",
      "        let v22 : int32 = v17 + 1\n",
      "        v15.l0 <- v22\n",
      "        ()\n",
      "    let v23 : string seq = seq { for i = 0 to v14.Length - 1 do yield v14.[i] }\n",
      "    let v24 : string = method2()\n",
      "    let v25 : (string -> (string seq -> string)) = String.concat\n",
      "    let v26 : (string seq -> string) = v25 v24\n",
      "    let v27 : string = v26 v23\n",
      "    v27\n",
      "#endif\n",
      "    #if FABLE_COMPILER_TYPESCRIPT\n",
      "    let v28 : string = \"crypto\"\n",
      "    let v29 : ICryptoCreateHash = Fable.Core.JsInterop.importAll v28\n",
      "    let v30 : string = \"v29.createHash($0)\"\n",
      "    let v31 : string = \"sha256\"\n",
      "    let v32 : obj = Fable.Core.JsInterop.emitJsExpr v31 v30\n",
      "    let v33 : string = \"$0.update($1, 'utf8')\"\n",
      "    let v34 : obj = Fable.Core.JsInterop.emitJsExpr struct (v32, v9) v33\n",
      "    let v35 : string = \"$0.digest($1)\"\n",
      "    let v36 : string = \"hex\"\n",
      "    let v37 : string = Fable.Core.JsInterop.emitJsExpr struct (v34, v36) v35\n",
      "    v37\n",
      "#endif\n",
      "    #if FABLE_COMPILER_PYTHON || FABLE_COMPILER_PHP || FABLE_COMPILER_DART\n",
      "    let v38 : string = Unchecked.defaultof<string>\n",
      "    v38\n",
      "#endif\n",
      "    |> fun x -> _v0 <- Some x\n",
      "    let v39 : string = _v0.Value\n",
      "    let v40 : string = $\"%A{v39}\"\n",
      "    System.Console.WriteLine v40\n",
      "    let v42 : bool = v39 = \"36a9e7f1c95b82ffb99743e0c5c4ce95d83c9a430aac59f84ef3cbfab6145068\"\n",
      "    let v44 : bool =\n",
      "        if v42 then\n",
      "            true\n",
      "        else\n",
      "            method3(v42)\n",
      "    let v45 : string = \"36a9e7f1c95b82ffb99743e0c5c4ce95d83c9a430aac59f84ef3cbfab6145068\"\n",
      "    let v46 : string = $\"__expect / actual: %A{v39} / expected: %A{v45}\"\n",
      "    let v47 : bool = v44 = false\n",
      "    if v47 then\n",
      "        failwith<unit> v46\n",
      "method0()\n",
      "\n",
      "\"36a9e7f1c95b82ffb99743e0c5c4ce95d83c9a430aac59f84ef3cbfab6145068\"\n"
     ]
    }
   ],
   "source": [
    "// // test\n",
    "\n",
    "\" \"\n",
    "|> hash_text\n",
    "|> _assert_eq \"36a9e7f1c95b82ffb99743e0c5c4ce95d83c9a430aac59f84ef3cbfab6145068\""
   ]
  },
  {
   "cell_type": "markdown",
   "metadata": {},
   "source": [
    "## main"
   ]
  },
  {
   "cell_type": "code",
   "execution_count": null,
   "metadata": {
    "dotnet_interactive": {
     "language": "spiral"
    },
    "polyglot_notebook": {
     "kernelName": "spiral"
    }
   },
   "outputs": [
    {
     "name": "stdout",
     "output_type": "stream",
     "text": [
      "type ICryptoCreateHash = abstract createHash: x: string -> obj\n",
      "type Mut0 = {mutable l0 : int32}\n",
      "let rec method0 (v0 : int32, v1 : Mut0) : bool =\n",
      "    let v2 : int32 = v1.l0\n",
      "    let v3 : bool = v2 < v0\n",
      "    v3\n",
      "and method1 () : string =\n",
      "    let v0 : string = \"\"\n",
      "    v0\n",
      "and closure0 () (v0 : string) : string =\n",
      "    let v1 : string option = None\n",
      "    let v2 : bool = true in let mutable _v1 = v1\n",
      "    #if FABLE_COMPILER_RUST && !WASM && !CONTRACT\n",
      "    let v3 : string = null |> unbox<string>\n",
      "    v3\n",
      "#endif\n",
      "    #if FABLE_COMPILER_RUST && WASM\n",
      "    let v4 : string = null |> unbox<string>\n",
      "    v4\n",
      "#endif\n",
      "    #if FABLE_COMPILER_RUST && CONTRACT\n",
      "    let v5 : string = null |> unbox<string>\n",
      "    v5\n",
      "#endif\n",
      "    #if !FABLE_COMPILER && !FABLE_COMPILER_RUST && !FABLE_COMPILER_TYPESCRIPT && !WASM && !CONTRACT\n",
      "    let v6 : (unit -> System.Security.Cryptography.SHA256) = System.Security.Cryptography.SHA256.Create\n",
      "    let v7 : System.Security.Cryptography.SHA256 = v6 ()\n",
      "    use v7 = v7 \n",
      "    let v8 : System.Security.Cryptography.SHA256 = v7 \n",
      "    let v9 : (string -> (uint8 [])) = System.Text.Encoding.UTF8.GetBytes\n",
      "    let v10 : (uint8 []) = v9 v0\n",
      "    let v11 : ((uint8 []) -> (uint8 [])) = v8.ComputeHash\n",
      "    let v12 : (uint8 []) = v11 v10\n",
      "    let v13 : int32 = v12.Length\n",
      "    let v14 : (string []) = Array.zeroCreate<string> (v13)\n",
      "    let v15 : Mut0 = {l0 = 0} : Mut0\n",
      "    while method0(v13, v15) do\n",
      "        let v17 : int32 = v15.l0\n",
      "        let v18 : uint8 = v12.[int v17]\n",
      "        let v19 : (string -> string) = v18.ToString\n",
      "        let v20 : string = \"x2\"\n",
      "        let v21 : string = v19 v20\n",
      "        v14.[int v17] <- v21\n",
      "        let v22 : int32 = v17 + 1\n",
      "        v15.l0 <- v22\n",
      "        ()\n",
      "    let v23 : string seq = seq { for i = 0 to v14.Length - 1 do yield v14.[i] }\n",
      "    let v24 : string = method1()\n",
      "    let v25 : (string -> (string seq -> string)) = String.concat\n",
      "    let v26 : (string seq -> string) = v25 v24\n",
      "    let v27 : string = v26 v23\n",
      "    v27\n",
      "#endif\n",
      "    #if FABLE_COMPILER_TYPESCRIPT\n",
      "    let v28 : string = \"crypto\"\n",
      "    let v29 : ICryptoCreateHash = Fable.Core.JsInterop.importAll v28\n",
      "    let v30 : string = \"v29.createHash($0)\"\n",
      "    let v31 : string = \"sha256\"\n",
      "    let v32 : obj = Fable.Core.JsInterop.emitJsExpr v31 v30\n",
      "    let v33 : string = \"$0.update($1, 'utf8')\"\n",
      "    let v34 : obj = Fable.Core.JsInterop.emitJsExpr struct (v32, v0) v33\n",
      "    let v35 : string = \"$0.digest($1)\"\n",
      "    let v36 : string = \"hex\"\n",
      "    let v37 : string = Fable.Core.JsInterop.emitJsExpr struct (v34, v36) v35\n",
      "    v37\n",
      "#endif\n",
      "    #if FABLE_COMPILER_PYTHON || FABLE_COMPILER_PHP || FABLE_COMPILER_DART\n",
      "    let v38 : string = Unchecked.defaultof<string>\n",
      "    v38\n",
      "#endif\n",
      "    |> fun x -> _v1 <- Some x\n",
      "    let v39 : string = _v1.Value\n",
      "    v39\n",
      "let v0 : (string -> string) = closure0()\n",
      "let hash_text x = v0 x\n",
      "()\n",
      "\n"
     ]
    }
   ],
   "source": [
    "inl main () =\n",
    "    $\"let hash_text x = !hash_text x\" : ()"
   ]
  }
 ],
 "metadata": {},
 "nbformat": 4,
 "nbformat_minor": 5
}