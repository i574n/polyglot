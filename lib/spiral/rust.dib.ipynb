{
 "cells": [
  {
   "cell_type": "markdown",
   "metadata": {},
   "source": [
    "# rust"
   ]
  },
  {
   "cell_type": "code",
   "execution_count": null,
   "metadata": {
    "dotnet_interactive": {
     "language": "spiral"
    },
    "polyglot_notebook": {
     "kernelName": "spiral"
    }
   },
   "outputs": [
    {
     "name": "stdout",
     "output_type": "stream",
     "text": [
      "()\n",
      "\n"
     ]
    }
   ],
   "source": [
    "// // test\n",
    "\n",
    "open testing"
   ]
  },
  {
   "cell_type": "code",
   "execution_count": null,
   "metadata": {
    "dotnet_interactive": {
     "language": "spiral"
    },
    "polyglot_notebook": {
     "kernelName": "spiral"
    }
   },
   "outputs": [
    {
     "name": "stdout",
     "output_type": "stream",
     "text": [
      "()\n",
      "\n"
     ]
    }
   ],
   "source": [
    "inl types () =\n",
    "    global \"[<Fable.Core.Erase; Fable.Core.Emit(\\\"Func0<$0>\\\")>] type Func0<'T> = class end\"\n",
    "    global \"[<Fable.Core.Erase; Fable.Core.Emit(\\\"Func1<$0, $1>\\\")>] type Func0<'T, 'U> = class end\"\n",
    "    global \"[<Fable.Core.Erase; Fable.Core.Emit(\\\"Box<$0>\\\")>] type Box<'T> = class end\"\n",
    "    global \"[<Fable.Core.Erase; Fable.Core.Emit(\\\"dyn $0\\\")>] type Dyn<'T> = class end\"\n",
    "    global \"[<Fable.Core.Erase; Fable.Core.Emit(\\\"$0 + Send\\\")>] type Send<'T> = class end\"\n",
    "    global \"[<Fable.Core.Erase; Fable.Core.Emit(\\\"Fn() -> $0\\\")>] type Fn<'T> = class end\"\n",
    "    global \"[<Fable.Core.Erase; Fable.Core.Emit(\\\"Fn()\\\")>] type FnUnit = class end\"\n",
    "    global \"[<Fable.Core.Erase; Fable.Core.Emit(\\\"FnOnce() -> $0\\\")>] type FnOnce<'T> = class end\"\n",
    "    global \"[<Fable.Core.Erase; Fable.Core.Emit(\\\"Fn($0, $1)\\\")>] type ActionFn2<'T, 'U> = class end\"\n",
    "    global \"[<Fable.Core.Erase; Fable.Core.Emit(\\\"impl $0\\\")>] type Impl<'T> = class end\"\n",
    "    global \"[<Fable.Core.Erase; Fable.Core.Emit(\\\"mut $0\\\")>] type Mut<'T> = class end\"\n",
    "    global \"[<Fable.Core.Erase; Fable.Core.Emit(\\\"&$0\\\")>] type Ref<'T> = class end\"\n",
    "    global \"[<Fable.Core.Erase; Fable.Core.Emit(\\\"&'static $0\\\")>] type StaticRef<'T> = class end\"\n",
    "    global \"[<Fable.Core.Erase; Fable.Core.Emit(\\\"MutCell<$0>\\\")>] type MutCell<'T> = class end\"\n",
    "    global \"[<Fable.Core.Erase; Fable.Core.Emit(\\\"std::any::Any\\\")>] type std_any_Any = class end\"\n",
    "    global \"[<Fable.Core.Erase; Fable.Core.Emit(\\\"std::cell::RefCell<$0>\\\")>] type std_cell_RefCell<'T> = class end\"\n",
    "    global \"[<Fable.Core.Erase; Fable.Core.Emit(\\\"std::pin::Pin<$0>\\\")>] type std_pin_Pin<'T> = class end\"\n",
    "    global \"[<Fable.Core.Erase; Fable.Core.Emit(\\\"std::rc::Rc<$0>\\\")>] type std_rc_Rc<'T> = class end\"\n",
    "    global \"[<Fable.Core.Erase; Fable.Core.Emit(\\\"std::rc::Weak<$0>\\\")>] type std_rc_Weak<'T> = class end\"\n",
    "    global \"[<Fable.Core.Erase; Fable.Core.Emit(\\\"std::sync::Arc<$0>\\\")>] type std_sync_Arc<'T> = class end\""
   ]
  },
  {
   "cell_type": "code",
   "execution_count": null,
   "metadata": {
    "dotnet_interactive": {
     "language": "spiral"
    },
    "polyglot_notebook": {
     "kernelName": "spiral"
    }
   },
   "outputs": [
    {
     "name": "stdout",
     "output_type": "stream",
     "text": [
      "()\n",
      "\n"
     ]
    }
   ],
   "source": [
    "nominal ref_cell t = $\"std_cell_RefCell<`t>\"\n",
    "nominal rc t = $\"std_rc_Rc<`t>\"\n",
    "nominal weak_rc t = $\"std_rc_Weak<`t>\"\n",
    "nominal box t = $\"Box<`t>\"\n",
    "nominal mut_cell t = $\"MutCell<`t>\"\n",
    "nominal pin t = $\"std_pin_Pin<`t>\"\n",
    "nominal arc t = $\"std_sync_Arc<`t>\"\n",
    "nominal dyn' t = $\"Dyn<`t>\"\n",
    "nominal fn' t = $\"Fn<`t>\"\n",
    "nominal action_fn2 t u = $\"ActionFn2<`t, `u>\"\n",
    "nominal fn_once t = $\"FnOnce<`t>\"\n",
    "nominal fn_unit = $\"FnUnit\"\n",
    "nominal func0 t = $\"Func0<`t>\"\n",
    "nominal func1 t u =\n",
    "    `(\n",
    "        typecase t with\n",
    "        | () => `func0 `u\n",
    "        | _ => $'' : $\"Func0<`t, `u>\"\n",
    "    )\n",
    "nominal impl t = $\"Impl<`t>\"\n",
    "nominal mut' t = $\"Mut<`t>\"\n",
    "nominal ref' t = $\"Ref<`t>\"\n",
    "nominal send t = $\"Send<`t>\"\n",
    "nominal static_ref' t = $\"StaticRef<`t>\""
   ]
  },
  {
   "cell_type": "markdown",
   "metadata": {},
   "source": [
    "## emit_expr"
   ]
  },
  {
   "cell_type": "code",
   "execution_count": null,
   "metadata": {
    "dotnet_interactive": {
     "language": "spiral"
    },
    "polyglot_notebook": {
     "kernelName": "spiral"
    }
   },
   "outputs": [
    {
     "name": "stdout",
     "output_type": "stream",
     "text": [
      "()\n",
      "\n"
     ]
    }
   ],
   "source": [
    "inl emit_expr forall a t. (args : a) (code : string) : t =\n",
    "    real\n",
    "        $\"Fable.Core.RustInterop.emitRustExpr !args !code\" : t"
   ]
  },
  {
   "cell_type": "markdown",
   "metadata": {},
   "source": [
    "## (~!\\)"
   ]
  },
  {
   "cell_type": "code",
   "execution_count": null,
   "metadata": {
    "dotnet_interactive": {
     "language": "spiral"
    },
    "polyglot_notebook": {
     "kernelName": "spiral"
    }
   },
   "outputs": [
    {
     "name": "stdout",
     "output_type": "stream",
     "text": [
      "()\n",
      "\n"
     ]
    }
   ],
   "source": [
    "inl (~!\\) forall t. (code : string) : t =\n",
    "    emit_expr () code"
   ]
  },
  {
   "cell_type": "markdown",
   "metadata": {},
   "source": [
    "## (~!\\\\)"
   ]
  },
  {
   "cell_type": "code",
   "execution_count": null,
   "metadata": {
    "dotnet_interactive": {
     "language": "spiral"
    },
    "polyglot_notebook": {
     "kernelName": "spiral"
    }
   },
   "outputs": [
    {
     "name": "stdout",
     "output_type": "stream",
     "text": [
      "()\n",
      "\n"
     ]
    }
   ],
   "source": [
    "inl (~!\\\\) forall t u. ((args : t), (code : string)) : u =\n",
    "    emit_expr args code"
   ]
  },
  {
   "cell_type": "markdown",
   "metadata": {},
   "source": [
    "## emit"
   ]
  },
  {
   "cell_type": "code",
   "execution_count": null,
   "metadata": {
    "dotnet_interactive": {
     "language": "spiral"
    },
    "polyglot_notebook": {
     "kernelName": "spiral"
    }
   },
   "outputs": [
    {
     "name": "stdout",
     "output_type": "stream",
     "text": [
      "()\n",
      "\n"
     ]
    }
   ],
   "source": [
    "inl emit forall t. (x : t) : t =\n",
    "    !\\\\(x, $'\"$0\"')"
   ]
  },
  {
   "cell_type": "markdown",
   "metadata": {},
   "source": [
    "## emit'"
   ]
  },
  {
   "cell_type": "code",
   "execution_count": null,
   "metadata": {
    "dotnet_interactive": {
     "language": "spiral"
    },
    "polyglot_notebook": {
     "kernelName": "spiral"
    }
   },
   "outputs": [
    {
     "name": "stdout",
     "output_type": "stream",
     "text": [
      "()\n",
      "\n"
     ]
    }
   ],
   "source": [
    "inl emit' forall t. (x : t) : t =\n",
    "    !\\\\(x, $'\"let !x = $0\"')\n",
    "    x"
   ]
  },
  {
   "cell_type": "markdown",
   "metadata": {},
   "source": [
    "## new_box"
   ]
  },
  {
   "cell_type": "code",
   "execution_count": null,
   "metadata": {
    "dotnet_interactive": {
     "language": "spiral"
    },
    "polyglot_notebook": {
     "kernelName": "spiral"
    }
   },
   "outputs": [
    {
     "name": "stdout",
     "output_type": "stream",
     "text": [
      "()\n",
      "\n"
     ]
    }
   ],
   "source": [
    "inl new_box forall t. (x : t) : box t =\n",
    "    inl x = join x\n",
    "    !\\($'\"Box::new(!x)\"')"
   ]
  },
  {
   "cell_type": "markdown",
   "metadata": {},
   "source": [
    "## new_rc"
   ]
  },
  {
   "cell_type": "code",
   "execution_count": null,
   "metadata": {
    "dotnet_interactive": {
     "language": "spiral"
    },
    "polyglot_notebook": {
     "kernelName": "spiral"
    }
   },
   "outputs": [
    {
     "name": "stdout",
     "output_type": "stream",
     "text": [
      "()\n",
      "\n"
     ]
    }
   ],
   "source": [
    "inl new_rc forall t. (x : t) : rc t =\n",
    "    inl x = join x\n",
    "    !\\($'\"std::rc::Rc::new(!x)\"')"
   ]
  },
  {
   "cell_type": "markdown",
   "metadata": {},
   "source": [
    "## rc_clone"
   ]
  },
  {
   "cell_type": "code",
   "execution_count": null,
   "metadata": {
    "dotnet_interactive": {
     "language": "spiral"
    },
    "polyglot_notebook": {
     "kernelName": "spiral"
    }
   },
   "outputs": [
    {
     "name": "stdout",
     "output_type": "stream",
     "text": [
      "()\n",
      "\n"
     ]
    }
   ],
   "source": [
    "inl rc_clone forall t. (x : rc t) : rc t =\n",
    "    inl x = join x\n",
    "    !\\($'\"std::rc::Rc::clone(&!x)\"')"
   ]
  },
  {
   "cell_type": "markdown",
   "metadata": {},
   "source": [
    "## rc_unwrap_or_clone"
   ]
  },
  {
   "cell_type": "code",
   "execution_count": null,
   "metadata": {
    "dotnet_interactive": {
     "language": "spiral"
    },
    "polyglot_notebook": {
     "kernelName": "spiral"
    }
   },
   "outputs": [
    {
     "name": "stdout",
     "output_type": "stream",
     "text": [
      "()\n",
      "\n"
     ]
    }
   ],
   "source": [
    "inl rc_unwrap_or_clone forall t. (x : rc t) : t =\n",
    "    inl x = join x\n",
    "    !\\($'\"std::rc::Rc::unwrap_or_clone(!x)\"')"
   ]
  },
  {
   "cell_type": "markdown",
   "metadata": {},
   "source": [
    "## rc_downgrade"
   ]
  },
  {
   "cell_type": "code",
   "execution_count": null,
   "metadata": {
    "dotnet_interactive": {
     "language": "spiral"
    },
    "polyglot_notebook": {
     "kernelName": "spiral"
    }
   },
   "outputs": [
    {
     "name": "stdout",
     "output_type": "stream",
     "text": [
      "()\n",
      "\n"
     ]
    }
   ],
   "source": [
    "inl rc_downgrade forall t. (x : rc t) : weak_rc t =\n",
    "    inl x = join x\n",
    "    !\\($'\"std::rc::Rc::downgrade(&!x)\"')"
   ]
  },
  {
   "cell_type": "markdown",
   "metadata": {},
   "source": [
    "## new_ref_cell"
   ]
  },
  {
   "cell_type": "code",
   "execution_count": null,
   "metadata": {
    "dotnet_interactive": {
     "language": "spiral"
    },
    "polyglot_notebook": {
     "kernelName": "spiral"
    }
   },
   "outputs": [
    {
     "name": "stdout",
     "output_type": "stream",
     "text": [
      "()\n",
      "\n"
     ]
    }
   ],
   "source": [
    "inl new_ref_cell forall t. (x : t) : ref_cell t =\n",
    "    inl x = join x\n",
    "    !\\($'\"std::cell::RefCell::new(!x)\"')"
   ]
  },
  {
   "cell_type": "markdown",
   "metadata": {},
   "source": [
    "## ref_cell_borrow"
   ]
  },
  {
   "cell_type": "code",
   "execution_count": null,
   "metadata": {
    "dotnet_interactive": {
     "language": "spiral"
    },
    "polyglot_notebook": {
     "kernelName": "spiral"
    }
   },
   "outputs": [
    {
     "name": "stdout",
     "output_type": "stream",
     "text": [
      "()\n",
      "\n"
     ]
    }
   ],
   "source": [
    "inl ref_cell_borrow forall t. (x : rc (ref_cell t)) : t =\n",
    "    inl x = join x\n",
    "    !\\($'\"*std::cell::RefCell::borrow(&std::rc::Rc::clone(&!x))\"')"
   ]
  },
  {
   "cell_type": "markdown",
   "metadata": {},
   "source": [
    "## ref_cell_borrow_mut"
   ]
  },
  {
   "cell_type": "code",
   "execution_count": null,
   "metadata": {
    "dotnet_interactive": {
     "language": "spiral"
    },
    "polyglot_notebook": {
     "kernelName": "spiral"
    }
   },
   "outputs": [
    {
     "name": "stdout",
     "output_type": "stream",
     "text": [
      "()\n",
      "\n"
     ]
    }
   ],
   "source": [
    "inl ref_cell_borrow_mut forall t. (x : rc (ref_cell t)) : mut' t =\n",
    "    inl x = join x\n",
    "    !\\($'\"*std::cell::RefCell::borrow_mut(&std::rc::Rc::clone(&!x))\"')"
   ]
  },
  {
   "cell_type": "markdown",
   "metadata": {},
   "source": [
    "## to_mut"
   ]
  },
  {
   "cell_type": "code",
   "execution_count": null,
   "metadata": {
    "dotnet_interactive": {
     "language": "spiral"
    },
    "polyglot_notebook": {
     "kernelName": "spiral"
    }
   },
   "outputs": [
    {
     "name": "stdout",
     "output_type": "stream",
     "text": [
      "()\n",
      "\n"
     ]
    }
   ],
   "source": [
    "inl to_mut forall t. (x : t) : t =\n",
    "    (!\\($'\"true; // 1\"') : bool) |> ignore\n",
    "    (!\\($'\"true; let mut !x = !x\"') : bool) |> ignore\n",
    "    (!\\($'\"true; !x\"') : bool) |> ignore\n",
    "    !\\($'\"!x\"')\n",
    "    // inl result = !\\($'\"!x\"') : mut' t\n",
    "    // !\\($'\"!result\"')\n",
    "    // inl result = !\\($'\"*/ // a\"') : mut' t\n",
    "    // inl result = !\\($'\"!x\"') : mut' t\n",
    "    // result |> fun x => $'!x |> unbox // b'"
   ]
  },
  {
   "cell_type": "markdown",
   "metadata": {},
   "source": [
    "## ref_map"
   ]
  },
  {
   "cell_type": "code",
   "execution_count": null,
   "metadata": {
    "dotnet_interactive": {
     "language": "spiral"
    },
    "polyglot_notebook": {
     "kernelName": "spiral"
    }
   },
   "outputs": [
    {
     "name": "stdout",
     "output_type": "stream",
     "text": [
      "()\n",
      "\n"
     ]
    }
   ],
   "source": [
    "inl ref_map forall t u. (fn : t -> u) (x : ref' t) : ref' u =\n",
    "    !\\($'\"!fn(!x)\"')"
   ]
  },
  {
   "cell_type": "markdown",
   "metadata": {},
   "source": [
    "## from_mut"
   ]
  },
  {
   "cell_type": "code",
   "execution_count": null,
   "metadata": {
    "dotnet_interactive": {
     "language": "spiral"
    },
    "polyglot_notebook": {
     "kernelName": "spiral"
    }
   },
   "outputs": [
    {
     "name": "stdout",
     "output_type": "stream",
     "text": [
      "()\n",
      "\n"
     ]
    }
   ],
   "source": [
    "inl from_mut forall t. (x : mut' t) : t =\n",
    "    !\\($'\"!x\"')"
   ]
  },
  {
   "cell_type": "markdown",
   "metadata": {},
   "source": [
    "## new_arc"
   ]
  },
  {
   "cell_type": "code",
   "execution_count": null,
   "metadata": {
    "dotnet_interactive": {
     "language": "spiral"
    },
    "polyglot_notebook": {
     "kernelName": "spiral"
    }
   },
   "outputs": [
    {
     "name": "stdout",
     "output_type": "stream",
     "text": [
      "()\n",
      "\n"
     ]
    }
   ],
   "source": [
    "inl new_arc forall t. (x : t) : arc t =\n",
    "    inl x = join x\n",
    "    !\\($'\"std::sync::Arc::new(!x)\"')"
   ]
  },
  {
   "cell_type": "markdown",
   "metadata": {},
   "source": [
    "## box_fn"
   ]
  },
  {
   "cell_type": "code",
   "execution_count": null,
   "metadata": {
    "dotnet_interactive": {
     "language": "spiral"
    },
    "polyglot_notebook": {
     "kernelName": "spiral"
    }
   },
   "outputs": [
    {
     "name": "stdout",
     "output_type": "stream",
     "text": [
      "()\n",
      "\n"
     ]
    }
   ],
   "source": [
    "inl box_fn forall t. (x : () -> ()) : box t =\n",
    "    inl x = join x\n",
    "    !\\($'\"Box::new(move || !x())\"')"
   ]
  },
  {
   "cell_type": "markdown",
   "metadata": {},
   "source": [
    "## new_pin"
   ]
  },
  {
   "cell_type": "code",
   "execution_count": null,
   "metadata": {
    "dotnet_interactive": {
     "language": "spiral"
    },
    "polyglot_notebook": {
     "kernelName": "spiral"
    }
   },
   "outputs": [
    {
     "name": "stdout",
     "output_type": "stream",
     "text": [
      "()\n",
      "\n"
     ]
    }
   ],
   "source": [
    "inl new_pin forall t. (x : t) : pin (box t) =\n",
    "    inl x = join x\n",
    "    !\\($'\"Box::pin(!x)\"')"
   ]
  },
  {
   "cell_type": "markdown",
   "metadata": {},
   "source": [
    "## deref"
   ]
  },
  {
   "cell_type": "code",
   "execution_count": null,
   "metadata": {
    "dotnet_interactive": {
     "language": "spiral"
    },
    "polyglot_notebook": {
     "kernelName": "spiral"
    }
   },
   "outputs": [
    {
     "name": "stdout",
     "output_type": "stream",
     "text": [
      "()\n",
      "\n"
     ]
    }
   ],
   "source": [
    "inl deref forall t. (ref : ref' t) : t =\n",
    "    inl ref = join ref\n",
    "    !\\($'\"*!ref\"')"
   ]
  },
  {
   "cell_type": "markdown",
   "metadata": {},
   "source": [
    "## ops_deref"
   ]
  },
  {
   "cell_type": "code",
   "execution_count": null,
   "metadata": {
    "dotnet_interactive": {
     "language": "spiral"
    },
    "polyglot_notebook": {
     "kernelName": "spiral"
    }
   },
   "outputs": [
    {
     "name": "stdout",
     "output_type": "stream",
     "text": [
      "()\n",
      "\n"
     ]
    }
   ],
   "source": [
    "inl ops_deref forall t. (ref : t) : t =\n",
    "    inl ref = join ref\n",
    "    !\\($'\"core::ops::Deref::deref(&!ref)\"')"
   ]
  },
  {
   "cell_type": "markdown",
   "metadata": {},
   "source": [
    "## func0_get"
   ]
  },
  {
   "cell_type": "code",
   "execution_count": null,
   "metadata": {
    "dotnet_interactive": {
     "language": "spiral"
    },
    "polyglot_notebook": {
     "kernelName": "spiral"
    }
   },
   "outputs": [
    {
     "name": "stdout",
     "output_type": "stream",
     "text": [
      "()\n",
      "\n"
     ]
    }
   ],
   "source": [
    "inl func0_get forall t. (x : func0 t) : t =\n",
    "    inl x = join x\n",
    "    !\\($'\"!x()\"')"
   ]
  },
  {
   "cell_type": "markdown",
   "metadata": {},
   "source": [
    "## func0_move"
   ]
  },
  {
   "cell_type": "code",
   "execution_count": null,
   "metadata": {
    "dotnet_interactive": {
     "language": "spiral"
    },
    "polyglot_notebook": {
     "kernelName": "spiral"
    }
   },
   "outputs": [
    {
     "name": "stdout",
     "output_type": "stream",
     "text": [
      "()\n",
      "\n"
     ]
    }
   ],
   "source": [
    "inl func0_move forall t. (fn : func0 t) : t =\n",
    "    inl fn = join fn\n",
    "    !\\($'\"(move || !fn())()\"')"
   ]
  },
  {
   "cell_type": "markdown",
   "metadata": {},
   "source": [
    "## move"
   ]
  },
  {
   "cell_type": "code",
   "execution_count": null,
   "metadata": {
    "dotnet_interactive": {
     "language": "spiral"
    },
    "polyglot_notebook": {
     "kernelName": "spiral"
    }
   },
   "outputs": [
    {
     "name": "stdout",
     "output_type": "stream",
     "text": [
      "()\n",
      "\n"
     ]
    }
   ],
   "source": [
    "inl move forall t. (fn : () -> t) : func0 t =\n",
    "    !\\\\(fn, $'\"Func0::new(move || $0())\"')"
   ]
  },
  {
   "cell_type": "markdown",
   "metadata": {},
   "source": [
    "## to_static_ref_unbox"
   ]
  },
  {
   "cell_type": "code",
   "execution_count": null,
   "metadata": {
    "dotnet_interactive": {
     "language": "spiral"
    },
    "polyglot_notebook": {
     "kernelName": "spiral"
    }
   },
   "outputs": [
    {
     "name": "stdout",
     "output_type": "stream",
     "text": [
      "()\n",
      "\n"
     ]
    }
   ],
   "source": [
    "inl to_static_ref_unbox forall t. (x : ref' t) : static_ref' t =\n",
    "    $\"!x |> unbox\""
   ]
  },
  {
   "cell_type": "markdown",
   "metadata": {},
   "source": [
    "## from_static_ref_unbox"
   ]
  },
  {
   "cell_type": "code",
   "execution_count": null,
   "metadata": {
    "dotnet_interactive": {
     "language": "spiral"
    },
    "polyglot_notebook": {
     "kernelName": "spiral"
    }
   },
   "outputs": [
    {
     "name": "stdout",
     "output_type": "stream",
     "text": [
      "()\n",
      "\n"
     ]
    }
   ],
   "source": [
    "inl from_static_ref_unbox forall t. (x : static_ref' t) : ref' t =\n",
    "    $\"!x |> unbox\""
   ]
  },
  {
   "cell_type": "markdown",
   "metadata": {},
   "source": [
    "## box_leak"
   ]
  },
  {
   "cell_type": "code",
   "execution_count": null,
   "metadata": {
    "dotnet_interactive": {
     "language": "spiral"
    },
    "polyglot_notebook": {
     "kernelName": "spiral"
    }
   },
   "outputs": [
    {
     "name": "stdout",
     "output_type": "stream",
     "text": [
      "()\n",
      "\n"
     ]
    }
   ],
   "source": [
    "inl box_leak forall t. (x : box t) : static_ref' (mut' t) =\n",
    "    emit_expr () $\"\\\"Box::leak(!x)\\\"\""
   ]
  },
  {
   "cell_type": "markdown",
   "metadata": {},
   "source": [
    "## fix_closure"
   ]
  },
  {
   "cell_type": "code",
   "execution_count": null,
   "metadata": {
    "dotnet_interactive": {
     "language": "spiral"
    },
    "polyglot_notebook": {
     "kernelName": "spiral"
    }
   },
   "outputs": [
    {
     "name": "stdout",
     "output_type": "stream",
     "text": [
      "()\n",
      "\n"
     ]
    }
   ],
   "source": [
    "inl fix_closure depth' x' =\n",
    "    inl depth = depth' |> fst\n",
    "    if depth = 1\n",
    "    then !\\($'\"!x' })\"')\n",
    "    elif depth = 2\n",
    "    then !\\($'\"!x' }})\"')\n",
    "    elif depth = 3\n",
    "    then !\\($'\"!x' }}})\"')\n",
    "    elif depth = 4\n",
    "    then !\\($'\"!x' }}}})\"')\n",
    "    elif depth = 5\n",
    "    then !\\($'\"!x' }}}}})\"')\n",
    "    elif depth = 6 // , 4) // ?\n",
    "    then !\\($'\"!x' }}}}}})\"')\n",
    "    elif depth = 7 // , 5) // 7\n",
    "    then !\\($'\"!x' }}}}}}})\"')\n",
    "    elif depth = 8 // , 5) // 7\n",
    "    then !\\($'\"!x' }}}}}}}})\"')\n",
    "\n",
    "    inl depth = depth' |> snd\n",
    "    if depth = 1\n",
    "    then !\\($'\"{ //\"')\n",
    "    elif depth = 2\n",
    "    then !\\($'\"{{ //\"')\n",
    "    elif depth = 3\n",
    "    then !\\($'\"{{{ //\"')\n",
    "    elif depth = 4\n",
    "    then !\\($'\"{{{{ //\"')\n",
    "    elif depth = 5\n",
    "    then !\\($'\"{{{{{ //\"')\n",
    "    elif depth = 6\n",
    "    then !\\($'\"{{{{{{ //\"')\n",
    "    elif depth = 7\n",
    "    then !\\($'\"{{{{{{{ //\"')\n",
    "    elif depth = 8\n",
    "    then !\\($'\"{{{{{{{{ //\"')"
   ]
  },
  {
   "cell_type": "markdown",
   "metadata": {},
   "source": [
    "## run_tests"
   ]
  },
  {
   "cell_type": "code",
   "execution_count": null,
   "metadata": {
    "dotnet_interactive": {
     "language": "spiral"
    },
    "polyglot_notebook": {
     "kernelName": "spiral"
    }
   },
   "outputs": [
    {
     "name": "stdout",
     "output_type": "stream",
     "text": [
      "()\n",
      "\n"
     ]
    }
   ],
   "source": [
    "inl run_tests tests =\n",
    "    (!\\($'\"true; () //\"') : bool) |> ignore\n",
    "\n",
    "    tests\n",
    "    |> listm.iter fun name, fn =>\n",
    "        !\\($'\"} /* /*\"')\n",
    "        (!\\($'$\"*/ #[test] fn \" + !name + \"() { //\"') : bool) |> ignore\n",
    "        fn name |> ignore\n",
    "\n",
    "    tests\n",
    "    |> listm.iter fun name, fn =>\n",
    "        !\\($'\"{ //\"') : ()"
   ]
  }
 ],
 "metadata": {},
 "nbformat": 4,
 "nbformat_minor": 5
}