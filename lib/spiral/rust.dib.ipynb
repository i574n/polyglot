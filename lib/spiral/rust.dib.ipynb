{
 "cells": [
  {
   "cell_type": "markdown",
   "metadata": {},
   "source": [
    "# rust"
   ]
  },
  {
   "cell_type": "code",
   "execution_count": null,
   "metadata": {
    "dotnet_interactive": {
     "language": "spiral"
    },
    "polyglot_notebook": {
     "kernelName": "spiral"
    }
   },
   "outputs": [
    {
     "name": "stdout",
     "output_type": "stream",
     "text": [
      "()\n",
      "\n"
     ]
    }
   ],
   "source": [
    "// // test\n",
    "\n",
    "open testing"
   ]
  },
  {
   "cell_type": "markdown",
   "metadata": {},
   "source": [
    "## emit_expr"
   ]
  },
  {
   "cell_type": "code",
   "execution_count": null,
   "metadata": {
    "dotnet_interactive": {
     "language": "spiral"
    },
    "polyglot_notebook": {
     "kernelName": "spiral"
    }
   },
   "outputs": [
    {
     "name": "stdout",
     "output_type": "stream",
     "text": [
      "()\n",
      "\n"
     ]
    }
   ],
   "source": [
    "inl emit_expr forall a t. (args : a) (code : string) : t =\n",
    "    real\n",
    "        $\"Fable.Core.RustInterop.emitRustExpr !args !code\" : t"
   ]
  },
  {
   "cell_type": "code",
   "execution_count": null,
   "metadata": {
    "dotnet_interactive": {
     "language": "spiral"
    },
    "polyglot_notebook": {
     "kernelName": "spiral"
    }
   },
   "outputs": [
    {
     "name": "stdout",
     "output_type": "stream",
     "text": [
      "()\n",
      "\n"
     ]
    }
   ],
   "source": [
    "inl types () =\n",
    "    global \"[<Fable.Core.Erase; Fable.Core.Emit(\\\"Func0<$0>\\\")>] type Func0<'T> = class end\"\n",
    "    global \"[<Fable.Core.Erase; Fable.Core.Emit(\\\"Func1<$0, $1>\\\")>] type Func0<'T, 'U> = class end\"\n",
    "    global \"[<Fable.Core.Erase; Fable.Core.Emit(\\\"Box<$0>\\\")>] type Box<'T> = class end\"\n",
    "    global \"[<Fable.Core.Erase; Fable.Core.Emit(\\\"dyn $0\\\")>] type Dyn<'T> = class end\"\n",
    "    global \"[<Fable.Core.Erase; Fable.Core.Emit(\\\"Fn() -> $0\\\")>] type Fn<'T> = class end\"\n",
    "    global \"[<Fable.Core.Erase; Fable.Core.Emit(\\\"Fn()\\\")>] type FnUnit = class end\"\n",
    "    global \"[<Fable.Core.Erase; Fable.Core.Emit(\\\"FnOnce() -> $0\\\")>] type FnOnce<'T> = class end\"\n",
    "    global \"[<Fable.Core.Erase; Fable.Core.Emit(\\\"Fn($0, $1)\\\")>] type ActionFn2<'T, 'U> = class end\"\n",
    "    global \"[<Fable.Core.Erase; Fable.Core.Emit(\\\"impl $0\\\")>] type Impl<'T> = class end\"\n",
    "    global \"[<Fable.Core.Erase; Fable.Core.Emit(\\\"mut $0\\\")>] type Mut<'T> = class end\"\n",
    "    global \"[<Fable.Core.Erase; Fable.Core.Emit(\\\"&$0\\\")>] type Ref<'T> = class end\"\n",
    "    global \"[<Fable.Core.Erase; Fable.Core.Emit(\\\"[$0]\\\")>] type Slice<'T> = class end\"\n",
    "    global \"[<Fable.Core.Erase; Fable.Core.Emit(\\\"[$0; $1]\\\")>] type Slice'<'T, 'U> = class end\"\n",
    "    global \"[<Fable.Core.Erase; Fable.Core.Emit(\\\"&'static $0\\\")>] type StaticRef<'T> = class end\"\n",
    "    global \"[<Fable.Core.Erase; Fable.Core.Emit(\\\"str\\\")>] type Str = class end\"\n",
    "    global \"[<Fable.Core.Erase; Fable.Core.Emit(\\\"Vec<$0>\\\")>] type Vec<'T> = class end\"\n",
    "    global \"[<Fable.Core.Erase; Fable.Core.Emit(\\\"base64::DecodeError\\\")>] type base64_DecodeError = class end\"\n",
    "    global \"[<Fable.Core.Erase; Fable.Core.Emit(\\\"borsh::io::Error\\\")>] type borsh_io_Error = class end\"\n",
    "    global \"[<Fable.Core.Erase; Fable.Core.Emit(\\\"chrono::DateTime<$0>\\\")>] type chrono_DateTime<'T> = class end\"\n",
    "    global \"[<Fable.Core.Erase; Fable.Core.Emit(\\\"chrono::Local\\\")>] type chrono_Local = class end\"\n",
    "    global \"[<Fable.Core.Erase; Fable.Core.Emit(\\\"chrono::NaiveDateTime\\\")>] type chrono_NaiveDateTime = class end\"\n",
    "    global \"[<Fable.Core.Erase; Fable.Core.Emit(\\\"chrono::Utc\\\")>] type chrono_Utc = class end\"\n",
    "    global \"[<Fable.Core.Erase; Fable.Core.Emit(\\\"js_sys::Function\\\")>] type js_sys_Function = class end\"\n",
    "    global \"[<Fable.Core.Erase; Fable.Core.Emit(\\\"js_sys::JsString\\\")>] type js_sys_JsString = class end\"\n",
    "    global \"[<Fable.Core.Erase; Fable.Core.Emit(\\\"reqwest_wasm::Response\\\")>] type reqwest_Response = class end\"\n",
    "    global \"[<Fable.Core.Erase; Fable.Core.Emit(\\\"reqwest_wasm::Error\\\")>] type reqwest_Error = class end\"\n",
    "    global \"[<Fable.Core.Erase; Fable.Core.Emit(\\\"rexie::Error\\\")>] type rexie_Error = class end\"\n",
    "    global \"[<Fable.Core.Erase; Fable.Core.Emit(\\\"rexie::Rexie\\\")>] type rexie_Rexie = class end\"\n",
    "    global \"[<Fable.Core.Erase; Fable.Core.Emit(\\\"rexie::Store\\\")>] type rexie_Store = class end\"\n",
    "    global \"[<Fable.Core.Erase; Fable.Core.Emit(\\\"rexie::Transaction\\\")>] type rexie_Transaction = class end\"\n",
    "    global \"[<Fable.Core.Erase; Fable.Core.Emit(\\\"serde_json::Error\\\")>] type serde_json_Error = class end\"\n",
    "    global \"[<Fable.Core.Erase; Fable.Core.Emit(\\\"serde_json::Value\\\")>] type serde_json_Value = class end\"\n",
    "    global \"[<Fable.Core.Erase; Fable.Core.Emit(\\\"serde_wasm_bindgen::Error\\\")>] type serde_wasm_bindgen_Error = class end\"\n",
    "    global \"[<Fable.Core.Erase; Fable.Core.Emit(\\\"std::any::Any\\\")>] type std_any_Any = class end\"\n",
    "    global \"[<Fable.Core.Erase; Fable.Core.Emit(\\\"std::cell::RefCell<$0>\\\")>] type std_cell_RefCell<'T> = class end\"\n",
    "    global \"[<Fable.Core.Erase; Fable.Core.Emit(\\\"std::collections::HashMap<$0, $1>\\\")>] type std_collections_HashMap<'K, 'V> = class end\"\n",
    "    global \"[<Fable.Core.Erase; Fable.Core.Emit(\\\"std::future::Future<Output = $0>\\\")>] type Future<'T> = class end\"\n",
    "    global \"[<Fable.Core.Erase; Fable.Core.Emit(\\\"std::pin::Pin<$0>\\\")>] type std_pin_Pin<'T> = class end\"\n",
    "    global \"[<Fable.Core.Erase; Fable.Core.Emit(\\\"std::rc::Rc<$0>\\\")>] type std_rc_Rc<'T> = class end\"\n",
    "    global \"[<Fable.Core.Erase; Fable.Core.Emit(\\\"std::rc::Weak<$0>\\\")>] type std_rc_Weak<'T> = class end\"\n",
    "    global \"[<Fable.Core.Erase; Fable.Core.Emit(\\\"std::str::Utf8Error\\\")>] type std_str_Utf8Error = class end\"\n",
    "    global \"[<Fable.Core.Erase; Fable.Core.Emit(\\\"std::string::String\\\")>] type std_string_String = class end\"\n",
    "    global \"[<Fable.Core.Erase; Fable.Core.Emit(\\\"std::time::Duration\\\")>] type std_time_Duration = class end\"\n",
    "    global \"[<Fable.Core.Erase; Fable.Core.Emit(\\\"std::sync::Arc<$0>\\\")>] type std_sync_Arc<'T> = class end\"\n",
    "    global \"[<Fable.Core.Erase; Fable.Core.Emit(\\\"wasm_bindgen::JsValue\\\")>] type wasm_bindgen_JsValue = class end\"\n",
    "    global \"[<Fable.Core.Erase; Fable.Core.Emit(\\\"wasm_bindgen::closure::Closure<$0>\\\")>] type wasm_bindgen_closure_Closure<'T> = class end\"\n",
    "    global \"[<Fable.Core.Erase; Fable.Core.Emit(\\\"web_sys::Document\\\")>] type web_sys_Document = class end\"\n",
    "    global \"[<Fable.Core.Erase; Fable.Core.Emit(\\\"web_sys::HtmlElement\\\")>] type web_sys_HtmlElement = class end\"\n",
    "    global \"[<Fable.Core.Erase; Fable.Core.Emit(\\\"web_sys::Storage\\\")>] type web_sys_Storage = class end\"\n",
    "    global \"[<Fable.Core.Erase; Fable.Core.Emit(\\\"web_sys::Window\\\")>] type web_sys_Window = class end\""
   ]
  },
  {
   "cell_type": "code",
   "execution_count": null,
   "metadata": {
    "dotnet_interactive": {
     "language": "spiral"
    },
    "polyglot_notebook": {
     "kernelName": "spiral"
    }
   },
   "outputs": [
    {
     "name": "stdout",
     "output_type": "stream",
     "text": [
      "()\n",
      "\n"
     ]
    }
   ],
   "source": [
    "nominal any = $\"std_any_Any\"\n",
    "nominal ref_cell t = $\"std_cell_RefCell<`t>\"\n",
    "nominal async t = $\"Async<`t>\"\n",
    "nominal base64_decode_error = $\"base64_DecodeError\"\n",
    "nominal borsh_io_error = $\"borsh_io_Error\"\n",
    "nominal utf8_error = $\"std_str_Utf8Error\"\n",
    "nominal rexie = $\"rexie_Rexie\"\n",
    "nominal rexie_store = $\"rexie_Store\"\n",
    "nominal rexie_transaction = $\"rexie_Transaction\"\n",
    "nominal rexie_error = $\"rexie_Error\"\n",
    "nominal json_value = $\"serde_json_Value\"\n",
    "nominal json_error = $\"serde_json_Error\"\n",
    "nominal serde_wasm_bindgen_error = $\"serde_wasm_bindgen_Error\"\n",
    "nominal js_value = $\"wasm_bindgen_JsValue\"\n",
    "nominal closure t = $\"wasm_bindgen_closure_Closure<`t>\"\n",
    "nominal hash_map k v = $\"std_collections_HashMap<`k, `v>\"\n",
    "nominal rc t = $\"std_rc_Rc<`t>\"\n",
    "nominal weak_rc t = $\"std_rc_Weak<`t>\"\n",
    "nominal box t = $\"Box<`t>\"\n",
    "nominal pin t = $\"std_pin_Pin<`t>\"\n",
    "nominal arc t = $\"std_sync_Arc<`t>\"\n",
    "nominal std_string = $\"std_string_String\"\n",
    "nominal duration = $\"std_time_Duration\"\n",
    "nominal js_function = $\"js_sys_Function\"\n",
    "nominal js_string = $\"js_sys_JsString\"\n",
    "nominal window = $\"web_sys_Window\"\n",
    "nominal document = $\"web_sys_Document\"\n",
    "nominal html_element = $\"web_sys_HtmlElement\"\n",
    "nominal storage = $\"web_sys_Storage\"\n",
    "nominal dyn' t = $\"Dyn<`t>\"\n",
    "nominal fn' t = $\"Fn<`t>\"\n",
    "nominal action_fn2 t u = $\"ActionFn2<`t, `u>\"\n",
    "nominal fn_once t = $\"FnOnce<`t>\"\n",
    "nominal fn_unit = $\"FnUnit\"\n",
    "nominal func0 t = $\"Func0<`t>\"\n",
    "nominal func1 t u = $\"Func0<`t, `u>\"\n",
    "nominal impl t = $\"Impl<`t>\"\n",
    "nominal mut' t = $\"Mut<`t>\"\n",
    "nominal ref' t = $\"Ref<`t>\"\n",
    "nominal slice t = $\"Slice<`t>\"\n",
    "nominal slice' t u = $\"Slice'<`t, `u>\"\n",
    "nominal static_ref' t = $\"StaticRef<`t>\"\n",
    "nominal str = $\"Str\"\n",
    "nominal vec t = $\"Vec<`t>\""
   ]
  },
  {
   "cell_type": "code",
   "execution_count": null,
   "metadata": {
    "dotnet_interactive": {
     "language": "spiral"
    },
    "polyglot_notebook": {
     "kernelName": "spiral"
    }
   },
   "outputs": [
    {
     "name": "stdout",
     "output_type": "stream",
     "text": [
      "()\n",
      "\n"
     ]
    }
   ],
   "source": [
    "inl (~!\\) forall t. (code : string) : t =\n",
    "    emit_expr () code\n",
    "\n",
    "inl (~!\\\\) forall t u. ((args : t), (code : string)) : u =\n",
    "    emit_expr args code\n",
    "\n",
    "inl raw_string_literal (s : string) : ref' str =\n",
    "    !\\($\"\\\"r#\\\\\\\"\\\" + !s + \\\"\\\\\\\"#\\\"\")\n",
    "\n",
    "inl raw_string_literal_static (s : string) : static_ref' str =\n",
    "    !\\($\"\\\"r#\\\\\\\"\\\" + !s + \\\"\\\\\\\"#\\\"\")\n",
    "\n",
    "inl (~#) (s : string) : ref' str =\n",
    "    raw_string_literal s\n",
    "\n",
    "inl (~##) (s : string) : static_ref' str =\n",
    "    raw_string_literal_static s\n",
    "\n",
    "inl new_box forall t. (x : t) : box t =\n",
    "    inl x = join x\n",
    "    !\\($'\"Box::new(!x)\"')\n",
    "\n",
    "inl new_rc forall t. (x : t) : rc t =\n",
    "    inl x = join x\n",
    "    !\\($'\"std::rc::Rc::new(!x)\"')\n",
    "\n",
    "inl rc_clone forall t. (x : rc t) : rc t =\n",
    "    inl x = join x\n",
    "    !\\($'\"std::rc::Rc::clone(&!x)\"')\n",
    "\n",
    "inl rc_downgrade forall t. (x : rc t) : weak_rc t =\n",
    "    inl x = join x\n",
    "    !\\($'\"std::rc::Rc::downgrade(&!x)\"')\n",
    "\n",
    "inl new_ref_cell forall t. (x : t) : ref_cell t =\n",
    "    inl x = join x\n",
    "    !\\($'\"std::cell::RefCell::new(!x)\"')\n",
    "\n",
    "inl ref_cell_borrow forall t. (x : rc (ref_cell t)) : t =\n",
    "    inl x = join x\n",
    "    !\\($'\"*std::cell::RefCell::borrow(&std::rc::Rc::clone(&!x))\"')\n",
    "\n",
    "inl ref_cell_borrow_mut forall t. (x : rc (ref_cell t)) : mut' t =\n",
    "    inl x = join x\n",
    "    !\\($'\"*std::cell::RefCell::borrow_mut(&std::rc::Rc::clone(&!x))\"')\n",
    "\n",
    "inl to_mut forall t. (x : t) : mut' t =\n",
    "    emit_expr () $\"\\\"let mut !x = !x\\\"\"\n",
    "    emit_expr () $\"\\\"!x\\\"\"\n",
    "\n",
    "inl new_arc forall t. (x : t) : arc t =\n",
    "    inl x = join x\n",
    "    !\\($'\"std::sync::Arc::new(!x)\"')\n",
    "\n",
    "inl closure_wrap forall t. (x : box t) : closure t =\n",
    "    inl x = join x\n",
    "    !\\($'\"wasm_bindgen::closure::Closure::wrap(!x)\"')\n",
    "\n",
    "inl box_fn forall t. (x : () -> ()) : box t =\n",
    "    inl x = join x\n",
    "    !\\($'\"Box::new(move || !x())\"')\n",
    "\n",
    "inl closure_forget forall t. (closure : closure t) =\n",
    "    !\\($'\"!closure.forget()\"') : ()\n",
    "\n",
    "inl new_pin forall t. (x : t) : pin (box t) =\n",
    "    inl x = join x\n",
    "    !\\($'\"Box::pin(!x)\"')\n",
    "\n",
    "inl closure_as_ref forall t. (closure : closure t) : ref' js_value =\n",
    "    !\\($'\"wasm_bindgen::closure::Closure::as_ref(&!closure)\"')\n",
    "\n",
    "inl unchecked_ref (ref : ref' js_value) : ref' js_function =\n",
    "    !\\($'\"wasm_bindgen::JsCast::unchecked_ref(!ref)\"')\n",
    "\n",
    "inl deref forall t. (ref : ref' t) : t =\n",
    "    inl ref = join ref\n",
    "    !\\($'\"*!ref\"')\n",
    "\n",
    "inl func0_get forall t. (x : func0 t) : t =\n",
    "    inl x = join x\n",
    "    !\\($'\"!x()\"')\n",
    "\n",
    "inl func0_move forall t. (fn : func0 t) : t =\n",
    "    inl fn = join fn\n",
    "    !\\($'\"(move || !fn())()\"')\n",
    "\n",
    "inl move forall t. (fn : () -> t) : func0 t =\n",
    "    inl fn = join fn\n",
    "    !\\($'\"Func0::new(move || !fn())\"')\n",
    "\n",
    "inl to_static_ref_unbox forall t. (x : ref' t) : static_ref' t =\n",
    "    $\"!x |> unbox\"\n",
    "\n",
    "inl box_leak forall t. (x : box t) : static_ref' (mut' t) =\n",
    "    emit_expr () $\"\\\"Box::leak(!x)\\\"\"\n",
    "\n",
    "inl duration_from_millis (ms : u64) : duration =\n",
    "    inl ms = join ms\n",
    "    !\\($'\"std::time::Duration::from_millis(!ms)\"')\n",
    "    \n",
    "inl sleep (duration : duration) : () =\n",
    "    inl duration = join duration\n",
    "    !\\($'\"std::thread::sleep(!duration)\"')"
   ]
  }
 ],
 "metadata": {},
 "nbformat": 4,
 "nbformat_minor": 5
}