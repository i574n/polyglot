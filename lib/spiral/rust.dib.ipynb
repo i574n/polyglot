{
 "cells": [
  {
   "cell_type": "markdown",
   "metadata": {},
   "source": [
    "# rust"
   ]
  },
  {
   "cell_type": "code",
   "execution_count": null,
   "metadata": {
    "dotnet_interactive": {
     "language": "spiral"
    },
    "polyglot_notebook": {
     "kernelName": "spiral"
    }
   },
   "outputs": [],
   "source": [
    "//// test\n",
    "\n",
    "open testing"
   ]
  },
  {
   "cell_type": "markdown",
   "metadata": {},
   "source": [
    "## types"
   ]
  },
  {
   "cell_type": "code",
   "execution_count": null,
   "metadata": {
    "dotnet_interactive": {
     "language": "spiral"
    },
    "polyglot_notebook": {
     "kernelName": "spiral"
    }
   },
   "outputs": [],
   "source": [
    "inl types () =\n",
    "    global \"#if FABLE_COMPILER\\n[<Fable.Core.Erase; Fable.Core.Emit(\\\"core::any::Any\\\")>]\\n#endif\\ntype core_any_Any = class end\"\n",
    "    global \"#if FABLE_COMPILER\\n[<Fable.Core.Erase; Fable.Core.Emit(\\\"_\\\")>]\\n#endif\\ntype core_ops_Try<'T> = class end\"\n",
    "    global \"#if FABLE_COMPILER\\n[<Fable.Core.Erase; Fable.Core.Emit(\\\"Func0<$0>\\\")>]\\n#endif\\ntype Func0<'T> = class end\"\n",
    "    global \"#if FABLE_COMPILER\\n[<Fable.Core.Erase; Fable.Core.Emit(\\\"Func1<$0, $1>\\\")>]\\n#endif\\ntype Func0<'T, 'U> = class end\"\n",
    "    global \"#if FABLE_COMPILER\\n[<Fable.Core.Erase; Fable.Core.Emit(\\\"Box<$0>\\\")>]\\n#endif\\ntype Box<'T> = class end\"\n",
    "    global \"#if FABLE_COMPILER\\n[<Fable.Core.Erase; Fable.Core.Emit(\\\"dyn $0\\\")>]\\n#endif\\ntype Dyn<'T> = class end\"\n",
    "    global \"#if FABLE_COMPILER\\n[<Fable.Core.Erase; Fable.Core.Emit(\\\"Send\\\")>]\\n#endif\\ntype Send<'T> = class end\"\n",
    "    global \"#if FABLE_COMPILER\\n[<Fable.Core.Erase; Fable.Core.Emit(\\\"Fn() -> $0\\\")>]\\n#endif\\ntype Fn<'T> = class end\"\n",
    "    global \"#if FABLE_COMPILER\\n[<Fable.Core.Erase; Fable.Core.Emit(\\\"Fn()\\\")>]\\n#endif\\ntype FnUnit = class end\"\n",
    "    global \"#if FABLE_COMPILER\\n[<Fable.Core.Erase; Fable.Core.Emit(\\\"FnOnce() -> $0\\\")>]\\n#endif\\ntype FnOnce<'T> = class end\"\n",
    "    global \"#if FABLE_COMPILER\\n[<Fable.Core.Erase; Fable.Core.Emit(\\\"Fn($0)\\\")>]\\n#endif\\ntype ActionFn<'T> = class end\"\n",
    "    global \"#if FABLE_COMPILER\\n[<Fable.Core.Erase; Fable.Core.Emit(\\\"Fn($0, $1)\\\")>]\\n#endif\\ntype ActionFn2<'T, 'U> = class end\"\n",
    "    global \"#if FABLE_COMPILER\\n[<Fable.Core.Erase; Fable.Core.Emit(\\\"impl $0\\\")>]\\n#endif\\ntype Impl<'T> = class end\"\n",
    "    global \"#if FABLE_COMPILER\\n[<Fable.Core.Erase; Fable.Core.Emit(\\\"mut $0\\\")>]\\n#endif\\ntype Mut<'T> = class end\"\n",
    "    global \"#if FABLE_COMPILER\\n[<Fable.Core.Erase; Fable.Core.Emit(\\\"&$0\\\")>]\\n#endif\\ntype Ref<'T> = class end\"\n",
    "    global \"#if FABLE_COMPILER\\n[<Fable.Core.Erase; Fable.Core.Emit(\\\"$0 + $1\\\")>]\\n#endif\\ntype LifetimeJoin<'T, 'U> = class end\"\n",
    "    global \"#if FABLE_COMPILER\\n[<Fable.Core.Erase; Fable.Core.Emit(\\\"'static\\\")>]\\n#endif\\ntype StaticLifetime = class end\"\n",
    "    global \"#if FABLE_COMPILER\\n[<Fable.Core.Erase; Fable.Core.Emit(\\\"$0\\\")>]\\n#endif\\ntype LifetimeRef<'T> = class end\"\n",
    "    global \"#if FABLE_COMPILER\\n[<Fable.Core.Erase; Fable.Core.Emit(\\\"$0 $1\\\")>]\\n#endif\\ntype Lifetime<'T, 'U> = class end\"\n",
    "    global \"#if FABLE_COMPILER\\n[<Fable.Core.Erase; Fable.Core.Emit(\\\"MutCell<$0>\\\")>]\\n#endif\\ntype MutCell<'T> = class end\"\n",
    "    global \"#if FABLE_COMPILER\\n[<Fable.Core.Erase; Fable.Core.Emit(\\\"std::any::Any\\\")>]\\n#endif\\ntype std_any_Any = class end\"\n",
    "    global \"#if FABLE_COMPILER\\n[<Fable.Core.Erase; Fable.Core.Emit(\\\"std::borrow::Cow<$0>\\\")>]\\n#endif\\ntype std_borrow_Cow<'T> = class end\"\n",
    "    global \"#if FABLE_COMPILER\\n[<Fable.Core.Erase; Fable.Core.Emit(\\\"std::cell::RefCell<$0>\\\")>]\\n#endif\\ntype std_cell_RefCell<'T> = class end\"\n",
    "    global \"#if FABLE_COMPILER\\n[<Fable.Core.Erase; Fable.Core.Emit(\\\"std::pin::Pin<$0>\\\")>]\\n#endif\\ntype std_pin_Pin<'T> = class end\"\n",
    "    global \"#if FABLE_COMPILER\\n[<Fable.Core.Erase; Fable.Core.Emit(\\\"std::rc::Rc<$0>\\\")>]\\n#endif\\ntype std_rc_Rc<'T> = class end\"\n",
    "    global \"#if FABLE_COMPILER\\n[<Fable.Core.Erase; Fable.Core.Emit(\\\"std::rc::Weak<$0>\\\")>]\\n#endif\\ntype std_rc_Weak<'T> = class end\""
   ]
  },
  {
   "cell_type": "code",
   "execution_count": null,
   "metadata": {
    "dotnet_interactive": {
     "language": "spiral"
    },
    "polyglot_notebook": {
     "kernelName": "spiral"
    }
   },
   "outputs": [],
   "source": [
    "inl types () =\n",
    "    backend_switch {\n",
    "        Fsharp = fun () =>\n",
    "            types ()\n",
    "        Python = fun () => ()\n",
    "    }"
   ]
  },
  {
   "cell_type": "code",
   "execution_count": null,
   "metadata": {
    "dotnet_interactive": {
     "language": "spiral"
    },
    "polyglot_notebook": {
     "kernelName": "spiral"
    }
   },
   "outputs": [],
   "source": [
    "nominal unit = $'unit'\n",
    "nominal any = $'core_any_Any'\n",
    "nominal try t = $'core_ops_Try<`t>'\n",
    "nominal cow t = $'std_borrow_Cow<`t>'\n",
    "nominal ref_cell t = $'std_cell_RefCell<`t>'\n",
    "nominal rc t = $'std_rc_Rc<`t>'\n",
    "nominal lifetime_join' (t : * -> *) u = $'LifetimeRef<`(t u)>'\n",
    "nominal lifetime_join t u = $'LifetimeJoin<`t, `u>'\n",
    "nominal lifetime t u = $'Lifetime<`t, `u>'\n",
    "nominal static_lifetime = $'StaticLifetime'\n",
    "nominal ref t = $'Ref<`t>'\n",
    "nominal static_ref t = ref (lifetime static_lifetime t)\n",
    "nominal weak_rc t = $'std_rc_Weak<`t>'\n",
    "nominal box t = $'Box<`t>'\n",
    "nominal mut_cell t = $'MutCell<`t>'\n",
    "nominal pin t = $'std_pin_Pin<`t>'\n",
    "nominal dyn' t = $'Dyn<`t>'\n",
    "nominal fn' t = $'Fn<`t>'\n",
    "nominal action_fn t = $'ActionFn<`t>'\n",
    "nominal action_fn2 t u = $'ActionFn2<`t, `u>'\n",
    "nominal fn_once t = $'FnOnce<`t>'\n",
    "nominal fn_unit = $'FnUnit'\n",
    "nominal func0 t = $'Func0<`t>'\n",
    "nominal func1 t u =\n",
    "    `(\n",
    "        typecase t with\n",
    "        | () => `func0 `u\n",
    "        | _ => $'' : $'Func0<`t, `u>'\n",
    "    )\n",
    "nominal impl t = $'Impl<`t>'\n",
    "nominal mut' t = $'Mut<`t>'\n",
    "nominal ref' t = $'Ref<`t>'\n",
    "nominal send t = lifetime_join t $'Send<`t>'"
   ]
  },
  {
   "cell_type": "markdown",
   "metadata": {},
   "source": [
    "## emit_expr"
   ]
  },
  {
   "cell_type": "code",
   "execution_count": null,
   "metadata": {
    "dotnet_interactive": {
     "language": "spiral"
    },
    "polyglot_notebook": {
     "kernelName": "spiral"
    }
   },
   "outputs": [],
   "source": [
    "inl emit_expr forall a t. (args : a) (code : string) : t =\n",
    "    real\n",
    "        $'Fable.Core.RustInterop.emitRustExpr !args !code ' : t"
   ]
  },
  {
   "cell_type": "markdown",
   "metadata": {},
   "source": [
    "## (~!\\\\)"
   ]
  },
  {
   "cell_type": "code",
   "execution_count": null,
   "metadata": {
    "dotnet_interactive": {
     "language": "spiral"
    },
    "polyglot_notebook": {
     "kernelName": "spiral"
    }
   },
   "outputs": [],
   "source": [
    "inl (~!\\) forall t. (code : string) : t =\n",
    "    emit_expr () code"
   ]
  },
  {
   "cell_type": "markdown",
   "metadata": {},
   "source": [
    "## (~!\\\\\\\\)"
   ]
  },
  {
   "cell_type": "code",
   "execution_count": null,
   "metadata": {
    "dotnet_interactive": {
     "language": "spiral"
    },
    "polyglot_notebook": {
     "kernelName": "spiral"
    }
   },
   "outputs": [],
   "source": [
    "inl (~!\\\\) forall t u. ((args : t), (code : string)) : u =\n",
    "    emit_expr args code"
   ]
  },
  {
   "cell_type": "markdown",
   "metadata": {},
   "source": [
    "## emit"
   ]
  },
  {
   "cell_type": "code",
   "execution_count": null,
   "metadata": {
    "dotnet_interactive": {
     "language": "spiral"
    },
    "polyglot_notebook": {
     "kernelName": "spiral"
    }
   },
   "outputs": [],
   "source": [
    "inl emit forall t. (x : t) : t =\n",
    "    !\\\\(x, $'\"$0\"')"
   ]
  },
  {
   "cell_type": "markdown",
   "metadata": {},
   "source": [
    "## emit'"
   ]
  },
  {
   "cell_type": "code",
   "execution_count": null,
   "metadata": {
    "dotnet_interactive": {
     "language": "spiral"
    },
    "polyglot_notebook": {
     "kernelName": "spiral"
    }
   },
   "outputs": [],
   "source": [
    "inl emit' forall t. (x : t) : t =\n",
    "    !\\\\(x, $'\"let !x = $0\"')\n",
    "    x"
   ]
  },
  {
   "cell_type": "markdown",
   "metadata": {},
   "source": [
    "## clone"
   ]
  },
  {
   "cell_type": "code",
   "execution_count": null,
   "metadata": {
    "dotnet_interactive": {
     "language": "spiral"
    },
    "polyglot_notebook": {
     "kernelName": "spiral"
    }
   },
   "outputs": [],
   "source": [
    "inl clone forall t. (x : t) : t =\n",
    "    !\\\\(x, $'\"$0.clone()\"')"
   ]
  },
  {
   "cell_type": "markdown",
   "metadata": {},
   "source": [
    "## dbg"
   ]
  },
  {
   "cell_type": "code",
   "execution_count": null,
   "metadata": {
    "dotnet_interactive": {
     "language": "spiral"
    },
    "polyglot_notebook": {
     "kernelName": "spiral"
    }
   },
   "outputs": [],
   "source": [
    "inl dbg forall t. (x : t) : t =\n",
    "    !\\\\(x, $'\"dbg\\!($0)\"')"
   ]
  },
  {
   "cell_type": "markdown",
   "metadata": {},
   "source": [
    "## new_box"
   ]
  },
  {
   "cell_type": "code",
   "execution_count": null,
   "metadata": {
    "dotnet_interactive": {
     "language": "spiral"
    },
    "polyglot_notebook": {
     "kernelName": "spiral"
    }
   },
   "outputs": [],
   "source": [
    "inl new_box forall t. (x : t) : box t =\n",
    "    !\\\\(x, $'\"Box::new($0)\"')"
   ]
  },
  {
   "cell_type": "markdown",
   "metadata": {},
   "source": [
    "## new_rc"
   ]
  },
  {
   "cell_type": "code",
   "execution_count": null,
   "metadata": {
    "dotnet_interactive": {
     "language": "spiral"
    },
    "polyglot_notebook": {
     "kernelName": "spiral"
    }
   },
   "outputs": [],
   "source": [
    "inl new_rc forall t. (x : t) : rc t =\n",
    "    !\\\\(x, $'\"std::rc::Rc::new($0)\"')"
   ]
  },
  {
   "cell_type": "markdown",
   "metadata": {},
   "source": [
    "## rc_clone"
   ]
  },
  {
   "cell_type": "code",
   "execution_count": null,
   "metadata": {
    "dotnet_interactive": {
     "language": "spiral"
    },
    "polyglot_notebook": {
     "kernelName": "spiral"
    }
   },
   "outputs": [],
   "source": [
    "inl rc_clone forall t. (x : rc t) : rc t =\n",
    "    !\\\\(x, $'\"std::rc::Rc::clone(&$0)\"')"
   ]
  },
  {
   "cell_type": "markdown",
   "metadata": {},
   "source": [
    "## rc_unwrap_or_clone"
   ]
  },
  {
   "cell_type": "code",
   "execution_count": null,
   "metadata": {
    "dotnet_interactive": {
     "language": "spiral"
    },
    "polyglot_notebook": {
     "kernelName": "spiral"
    }
   },
   "outputs": [],
   "source": [
    "inl rc_unwrap_or_clone forall t. (x : rc t) : t =\n",
    "    !\\\\(x, $'\"std::rc::Rc::unwrap_or_clone($0)\"')"
   ]
  },
  {
   "cell_type": "markdown",
   "metadata": {},
   "source": [
    "## rc_downgrade"
   ]
  },
  {
   "cell_type": "code",
   "execution_count": null,
   "metadata": {
    "dotnet_interactive": {
     "language": "spiral"
    },
    "polyglot_notebook": {
     "kernelName": "spiral"
    }
   },
   "outputs": [],
   "source": [
    "inl rc_downgrade forall t. (x : rc t) : weak_rc t =\n",
    "    inl x = join x\n",
    "    !\\($'\"std::rc::Rc::downgrade(&!x)\"')"
   ]
  },
  {
   "cell_type": "markdown",
   "metadata": {},
   "source": [
    "## new_ref_cell"
   ]
  },
  {
   "cell_type": "code",
   "execution_count": null,
   "metadata": {
    "dotnet_interactive": {
     "language": "spiral"
    },
    "polyglot_notebook": {
     "kernelName": "spiral"
    }
   },
   "outputs": [],
   "source": [
    "inl new_ref_cell forall t. (x : t) : ref_cell t =\n",
    "    inl x = join x\n",
    "    !\\($'\"std::cell::RefCell::new(!x)\"')"
   ]
  },
  {
   "cell_type": "markdown",
   "metadata": {},
   "source": [
    "## ref_cell_borrow"
   ]
  },
  {
   "cell_type": "code",
   "execution_count": null,
   "metadata": {
    "dotnet_interactive": {
     "language": "spiral"
    },
    "polyglot_notebook": {
     "kernelName": "spiral"
    }
   },
   "outputs": [],
   "source": [
    "inl ref_cell_borrow forall t. (x : rc (ref_cell t)) : t =\n",
    "    inl x = join x\n",
    "    !\\($'\"*std::cell::RefCell::borrow(&std::rc::Rc::clone(&!x))\"')"
   ]
  },
  {
   "cell_type": "markdown",
   "metadata": {},
   "source": [
    "## ref_cell_borrow_mut"
   ]
  },
  {
   "cell_type": "code",
   "execution_count": null,
   "metadata": {
    "dotnet_interactive": {
     "language": "spiral"
    },
    "polyglot_notebook": {
     "kernelName": "spiral"
    }
   },
   "outputs": [],
   "source": [
    "inl ref_cell_borrow_mut forall t. (x : rc (ref_cell t)) : mut' t =\n",
    "    inl x = join x\n",
    "    !\\($'\"*std::cell::RefCell::borrow_mut(&std::rc::Rc::clone(&!x))\"')"
   ]
  },
  {
   "cell_type": "markdown",
   "metadata": {},
   "source": [
    "## to_mut"
   ]
  },
  {
   "cell_type": "code",
   "execution_count": null,
   "metadata": {
    "dotnet_interactive": {
     "language": "spiral"
    },
    "polyglot_notebook": {
     "kernelName": "spiral"
    }
   },
   "outputs": [],
   "source": [
    "inl to_mut forall t. (x : t) : t =\n",
    "    (!\\($'\"true; // 1\"') : bool) |> ignore\n",
    "    (!\\($'\"true; let mut !x = !x\"') : bool) |> ignore\n",
    "    (!\\($'\"true; !x\"') : bool) |> ignore\n",
    "    !\\($'\"!x\"')\n",
    "    // inl result = !\\($'\"!x\"') : mut' t\n",
    "    // !\\($'\"!result\"')\n",
    "    // inl result = !\\($'\"*/ // a\"') : mut' t\n",
    "    // inl result = !\\($'\"!x\"') : mut' t\n",
    "    // result |> fun x => $'!x |> unbox // b'"
   ]
  },
  {
   "cell_type": "markdown",
   "metadata": {},
   "source": [
    "## ref_map"
   ]
  },
  {
   "cell_type": "code",
   "execution_count": null,
   "metadata": {
    "dotnet_interactive": {
     "language": "spiral"
    },
    "polyglot_notebook": {
     "kernelName": "spiral"
    }
   },
   "outputs": [],
   "source": [
    "inl ref_map forall t u. (fn : t -> u) (x : ref' t) : ref' u =\n",
    "    !\\($'\"!fn(!x)\"')"
   ]
  },
  {
   "cell_type": "markdown",
   "metadata": {},
   "source": [
    "## ref_invoke"
   ]
  },
  {
   "cell_type": "code",
   "execution_count": null,
   "metadata": {
    "dotnet_interactive": {
     "language": "spiral"
    },
    "polyglot_notebook": {
     "kernelName": "spiral"
    }
   },
   "outputs": [],
   "source": [
    "inl ref_invoke forall t u. (fn : t -> u) (ref : ref' t) : u =\n",
    "    !\\\\(fn, $'\"$0(!ref.clone())\"')"
   ]
  },
  {
   "cell_type": "markdown",
   "metadata": {},
   "source": [
    "## cow_as_ref"
   ]
  },
  {
   "cell_type": "code",
   "execution_count": null,
   "metadata": {
    "dotnet_interactive": {
     "language": "spiral"
    },
    "polyglot_notebook": {
     "kernelName": "spiral"
    }
   },
   "outputs": [],
   "source": [
    "inl cow_as_ref forall t. (s : cow t) : ref' t =\n",
    "    !\\\\(s, $'\"$0.as_ref()\"')"
   ]
  },
  {
   "cell_type": "markdown",
   "metadata": {},
   "source": [
    "## from_mut"
   ]
  },
  {
   "cell_type": "code",
   "execution_count": null,
   "metadata": {
    "dotnet_interactive": {
     "language": "spiral"
    },
    "polyglot_notebook": {
     "kernelName": "spiral"
    }
   },
   "outputs": [],
   "source": [
    "inl from_mut forall t. (x : mut' t) : t =\n",
    "    !\\($'\"!x\"')"
   ]
  },
  {
   "cell_type": "markdown",
   "metadata": {},
   "source": [
    "## box_fn"
   ]
  },
  {
   "cell_type": "code",
   "execution_count": null,
   "metadata": {
    "dotnet_interactive": {
     "language": "spiral"
    },
    "polyglot_notebook": {
     "kernelName": "spiral"
    }
   },
   "outputs": [],
   "source": [
    "inl box_fn forall t. (x : () -> ()) : box t =\n",
    "    inl x = join x\n",
    "    !\\($'\"Box::new(move || !x())\"')"
   ]
  },
  {
   "cell_type": "markdown",
   "metadata": {},
   "source": [
    "## box_pin"
   ]
  },
  {
   "cell_type": "code",
   "execution_count": null,
   "metadata": {
    "dotnet_interactive": {
     "language": "spiral"
    },
    "polyglot_notebook": {
     "kernelName": "spiral"
    }
   },
   "outputs": [],
   "source": [
    "inl box_pin forall t. (x : t) : pin (box t) =\n",
    "    inl x = join x\n",
    "    !\\($'\"Box::pin(!x)\"')"
   ]
  },
  {
   "cell_type": "markdown",
   "metadata": {},
   "source": [
    "## to_ref"
   ]
  },
  {
   "cell_type": "code",
   "execution_count": null,
   "metadata": {
    "dotnet_interactive": {
     "language": "spiral"
    },
    "polyglot_notebook": {
     "kernelName": "spiral"
    }
   },
   "outputs": [],
   "source": [
    "inl to_ref forall t. (x : t) : ref' t =\n",
    "    !\\\\(x, $'\"&$0\"')"
   ]
  },
  {
   "cell_type": "markdown",
   "metadata": {},
   "source": [
    "## deref"
   ]
  },
  {
   "cell_type": "code",
   "execution_count": null,
   "metadata": {
    "dotnet_interactive": {
     "language": "spiral"
    },
    "polyglot_notebook": {
     "kernelName": "spiral"
    }
   },
   "outputs": [],
   "source": [
    "inl deref forall t. (ref : ref' t) : t =\n",
    "    !\\\\(ref, $'\"*$0\"')"
   ]
  },
  {
   "cell_type": "markdown",
   "metadata": {},
   "source": [
    "## ops_deref"
   ]
  },
  {
   "cell_type": "code",
   "execution_count": null,
   "metadata": {
    "dotnet_interactive": {
     "language": "spiral"
    },
    "polyglot_notebook": {
     "kernelName": "spiral"
    }
   },
   "outputs": [],
   "source": [
    "inl ops_deref forall t. (ref : t) : t =\n",
    "    inl ref = join ref\n",
    "    !\\($'\"core::ops::Deref::deref(&!ref)\"')"
   ]
  },
  {
   "cell_type": "markdown",
   "metadata": {},
   "source": [
    "## func0_invoke"
   ]
  },
  {
   "cell_type": "code",
   "execution_count": null,
   "metadata": {
    "dotnet_interactive": {
     "language": "spiral"
    },
    "polyglot_notebook": {
     "kernelName": "spiral"
    }
   },
   "outputs": [],
   "source": [
    "inl func0_invoke forall t. (x : func0 t) : t =\n",
    "    !\\\\(x, $'\"$0()\"')"
   ]
  },
  {
   "cell_type": "markdown",
   "metadata": {},
   "source": [
    "## func0_move"
   ]
  },
  {
   "cell_type": "code",
   "execution_count": null,
   "metadata": {
    "dotnet_interactive": {
     "language": "spiral"
    },
    "polyglot_notebook": {
     "kernelName": "spiral"
    }
   },
   "outputs": [],
   "source": [
    "inl func0_move forall t. (fn : func0 t) : t =\n",
    "    inl fn = join fn\n",
    "    !\\($'\"(move || !fn())()\"')"
   ]
  },
  {
   "cell_type": "markdown",
   "metadata": {},
   "source": [
    "## move"
   ]
  },
  {
   "cell_type": "code",
   "execution_count": null,
   "metadata": {
    "dotnet_interactive": {
     "language": "spiral"
    },
    "polyglot_notebook": {
     "kernelName": "spiral"
    }
   },
   "outputs": [],
   "source": [
    "inl move forall t. (fn : () -> t) : func0 t =\n",
    "    !\\\\(fn, $'\"Func0::new(move || $0())\"')"
   ]
  },
  {
   "cell_type": "markdown",
   "metadata": {},
   "source": [
    "## to_static_ref_unbox"
   ]
  },
  {
   "cell_type": "code",
   "execution_count": null,
   "metadata": {
    "dotnet_interactive": {
     "language": "spiral"
    },
    "polyglot_notebook": {
     "kernelName": "spiral"
    }
   },
   "outputs": [],
   "source": [
    "inl to_static_ref_unbox forall t. (x : ref' t) : static_ref t =\n",
    "    x |> unbox"
   ]
  },
  {
   "cell_type": "markdown",
   "metadata": {},
   "source": [
    "## from_static_ref_unbox"
   ]
  },
  {
   "cell_type": "code",
   "execution_count": null,
   "metadata": {
    "dotnet_interactive": {
     "language": "spiral"
    },
    "polyglot_notebook": {
     "kernelName": "spiral"
    }
   },
   "outputs": [],
   "source": [
    "inl from_static_ref_unbox forall t. (x : static_ref t) : ref' t =\n",
    "    x |> unbox"
   ]
  },
  {
   "cell_type": "markdown",
   "metadata": {},
   "source": [
    "## box_leak"
   ]
  },
  {
   "cell_type": "code",
   "execution_count": null,
   "metadata": {
    "dotnet_interactive": {
     "language": "spiral"
    },
    "polyglot_notebook": {
     "kernelName": "spiral"
    }
   },
   "outputs": [],
   "source": [
    "inl box_leak forall t. (x : box t) : static_ref (mut' t) =\n",
    "    !\\\\(x, $'\"Box::leak($0)\"')"
   ]
  },
  {
   "cell_type": "markdown",
   "metadata": {},
   "source": [
    "## drop"
   ]
  },
  {
   "cell_type": "code",
   "execution_count": null,
   "metadata": {
    "dotnet_interactive": {
     "language": "spiral"
    },
    "polyglot_notebook": {
     "kernelName": "spiral"
    }
   },
   "outputs": [],
   "source": [
    "inl drop forall t. (x : t) : () =\n",
    "    !\\\\(x, $'\"drop($0)\"')"
   ]
  },
  {
   "cell_type": "markdown",
   "metadata": {},
   "source": [
    "## break"
   ]
  },
  {
   "cell_type": "code",
   "execution_count": null,
   "metadata": {
    "dotnet_interactive": {
     "language": "spiral"
    },
    "polyglot_notebook": {
     "kernelName": "spiral"
    }
   },
   "outputs": [],
   "source": [
    "inl break () : () =\n",
    "    (!\\($'\"true; break\"') : bool) |> ignore"
   ]
  },
  {
   "cell_type": "markdown",
   "metadata": {},
   "source": [
    "## fix_closure'"
   ]
  },
  {
   "cell_type": "code",
   "execution_count": null,
   "metadata": {
    "dotnet_interactive": {
     "language": "spiral"
    },
    "polyglot_notebook": {
     "kernelName": "spiral"
    }
   },
   "outputs": [],
   "source": [
    "inl fix_closure' (depth : u8 * u8) x =\n",
    "    inl rec loop text (acc : string) n : string =\n",
    "        if n <= 0\n",
    "        then acc\n",
    "        else loop text (acc +. text) (n - 1)\n",
    "    inl a = depth |> fst |> loop \"}\" \"\"\n",
    "    inl b = depth |> snd |> loop \"{\" \"\"\n",
    "    $'\"!x \" + !a + \"); \" + !b + \" //\"'"
   ]
  },
  {
   "cell_type": "code",
   "execution_count": null,
   "metadata": {
    "dotnet_interactive": {
     "language": "spiral"
    },
    "polyglot_notebook": {
     "kernelName": "spiral"
    }
   },
   "outputs": [
    {
     "name": "stdout",
     "output_type": "stream",
     "text": [
      "assert_eq / actual: \"0 }}}); {{ //\" / expected: \"0 }}}); {{ //\"\n"
     ]
    }
   ],
   "source": [
    "//// test\n",
    "\n",
    "fix_closure' (3, 2) 0i32\n",
    "|> _assert_eq \"0 }}}); {{ //\""
   ]
  },
  {
   "cell_type": "code",
   "execution_count": null,
   "metadata": {
    "dotnet_interactive": {
     "language": "spiral"
    },
    "polyglot_notebook": {
     "kernelName": "spiral"
    }
   },
   "outputs": [
    {
     "name": "stdout",
     "output_type": "stream",
     "text": [
      "assert_eq / actual: \"() );  //\" / expected: \"() );  //\"\n"
     ]
    }
   ],
   "source": [
    "//// test\n",
    "\n",
    "fix_closure' (0, 0) ()\n",
    "|> _assert_eq \"() );  //\""
   ]
  },
  {
   "cell_type": "markdown",
   "metadata": {},
   "source": [
    "## fix_closure"
   ]
  },
  {
   "cell_type": "code",
   "execution_count": null,
   "metadata": {
    "dotnet_interactive": {
     "language": "spiral"
    },
    "polyglot_notebook": {
     "kernelName": "spiral"
    }
   },
   "outputs": [],
   "source": [
    "inl fix_closure depth x =\n",
    "    inl code = fix_closure' depth x\n",
    "    !\\code"
   ]
  },
  {
   "cell_type": "markdown",
   "metadata": {},
   "source": [
    "## loop"
   ]
  },
  {
   "cell_type": "code",
   "execution_count": null,
   "metadata": {
    "dotnet_interactive": {
     "language": "spiral"
    },
    "polyglot_notebook": {
     "kernelName": "spiral"
    }
   },
   "outputs": [],
   "source": [
    "inl loop (depth : i32) (fn : () -> ()) : () =\n",
    "    (!\\($'\"true; loop { // rust.loop\"') : bool) |> ignore\n",
    "    fn ()\n",
    "\n",
    "    listm.init depth id\n",
    "    |> listm.iter fun n =>\n",
    "        (!\\($'\"true; } // rust.loop\"') : bool) |> ignore\n",
    "\n",
    "    (!\\($'\"true; } // rust.loop\"') : bool) |> ignore\n",
    "\n",
    "    listm.init depth id\n",
    "    |> listm.iter fun n =>\n",
    "        (!\\($'\"true; { // rust.loop\"') : bool) |> ignore"
   ]
  },
  {
   "cell_type": "markdown",
   "metadata": {},
   "source": [
    "## run_tests"
   ]
  },
  {
   "cell_type": "code",
   "execution_count": null,
   "metadata": {
    "dotnet_interactive": {
     "language": "spiral"
    },
    "polyglot_notebook": {
     "kernelName": "spiral"
    }
   },
   "outputs": [],
   "source": [
    "inl run_tests tests =\n",
    "    (!\\($'\"true; () //\"') : bool) |> ignore\n",
    "\n",
    "    tests\n",
    "    |> listm.iter fun name, fn =>\n",
    "        !\\($'\"} /* /*\"')\n",
    "        (!\\($'$\"*/ #[test] fn \" + !name + \"() { //\"') : bool) |> ignore\n",
    "        fn name |> ignore\n",
    "\n",
    "    tests\n",
    "    |> listm.iter fun name, fn =>\n",
    "        !\\($'\"{ //\"') : ()"
   ]
  },
  {
   "cell_type": "markdown",
   "metadata": {},
   "source": [
    "## capture"
   ]
  },
  {
   "cell_type": "code",
   "execution_count": null,
   "metadata": {
    "dotnet_interactive": {
     "language": "spiral"
    },
    "polyglot_notebook": {
     "kernelName": "spiral"
    }
   },
   "outputs": [],
   "source": [
    "inl capture forall t. (fn : () -> t) : t =\n",
    "    (!\\($'\"true; let _result = (|| { //\"') : bool) |> ignore\n",
    "    (!\\\\(fn (), $'\"true; $0 })()\"') : bool) |> ignore\n",
    "    !\\($'\"_result\"')"
   ]
  },
  {
   "cell_type": "markdown",
   "metadata": {},
   "source": [
    "## capture_move"
   ]
  },
  {
   "cell_type": "code",
   "execution_count": null,
   "metadata": {
    "dotnet_interactive": {
     "language": "spiral"
    },
    "polyglot_notebook": {
     "kernelName": "spiral"
    }
   },
   "outputs": [],
   "source": [
    "inl capture_move forall t. (fn : () -> t) : t =\n",
    "    (!\\($'\"true; let _result = (move || { //\"') : bool) |> ignore\n",
    "    (!\\\\(fn (), $'\"true; $0 })()\"') : bool) |> ignore\n",
    "    !\\($'\"_result\"')"
   ]
  }
 ],
 "metadata": {},
 "nbformat": 4,
 "nbformat_minor": 5
}