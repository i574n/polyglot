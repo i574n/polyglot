{
 "cells": [
  {
   "cell_type": "markdown",
   "metadata": {},
   "source": [
    "# rust"
   ]
  },
  {
   "cell_type": "code",
   "execution_count": null,
   "metadata": {
    "dotnet_interactive": {
     "language": "spiral"
    },
    "polyglot_notebook": {
     "kernelName": "spiral"
    }
   },
   "outputs": [
    {
     "name": "stdout",
     "output_type": "stream",
     "text": [
      "()\n",
      "\n"
     ]
    }
   ],
   "source": [
    "// // test\n",
    "\n",
    "open testing"
   ]
  },
  {
   "cell_type": "markdown",
   "metadata": {},
   "source": [
    "## emit_expr"
   ]
  },
  {
   "cell_type": "code",
   "execution_count": null,
   "metadata": {
    "dotnet_interactive": {
     "language": "spiral"
    },
    "polyglot_notebook": {
     "kernelName": "spiral"
    }
   },
   "outputs": [
    {
     "name": "stdout",
     "output_type": "stream",
     "text": [
      "()\n",
      "\n"
     ]
    }
   ],
   "source": [
    "inl emit_expr forall a t. (args : a) (code : string) : t =\n",
    "    real\n",
    "        $\"Fable.Core.RustInterop.emitRustExpr !args !code\" : t"
   ]
  },
  {
   "cell_type": "code",
   "execution_count": null,
   "metadata": {
    "dotnet_interactive": {
     "language": "spiral"
    },
    "polyglot_notebook": {
     "kernelName": "spiral"
    }
   },
   "outputs": [
    {
     "name": "stdout",
     "output_type": "stream",
     "text": [
      "()\n",
      "\n"
     ]
    }
   ],
   "source": [
    "inl types () =\n",
    "    global \"[<Fable.Core.Erase; Fable.Core.Emit(\\\"Func0<$0>\\\")>] type Func0<'T> = class end\"\n",
    "    global \"[<Fable.Core.Erase; Fable.Core.Emit(\\\"Func1<$0, $1>\\\")>] type Func0<'T, 'U> = class end\"\n",
    "    global \"[<Fable.Core.Erase; Fable.Core.Emit(\\\"Box<$0>\\\")>] type Box<'T> = class end\"\n",
    "    global \"[<Fable.Core.Erase; Fable.Core.Emit(\\\"dyn $0\\\")>] type Dyn<'T> = class end\"\n",
    "    global \"[<Fable.Core.Erase; Fable.Core.Emit(\\\"Fn() -> $0\\\")>] type Fn<'T> = class end\"\n",
    "    global \"[<Fable.Core.Erase; Fable.Core.Emit(\\\"Fn()\\\")>] type FnUnit = class end\"\n",
    "    global \"[<Fable.Core.Erase; Fable.Core.Emit(\\\"FnOnce() -> $0\\\")>] type FnOnce<'T> = class end\"\n",
    "    global \"[<Fable.Core.Erase; Fable.Core.Emit(\\\"Fn($0, $1)\\\")>] type ActionFn2<'T, 'U> = class end\"\n",
    "    global \"[<Fable.Core.Erase; Fable.Core.Emit(\\\"impl $0\\\")>] type Impl<'T> = class end\"\n",
    "    global \"[<Fable.Core.Erase; Fable.Core.Emit(\\\"mut $0\\\")>] type Mut<'T> = class end\"\n",
    "    global \"[<Fable.Core.Erase; Fable.Core.Emit(\\\"&$0\\\")>] type Ref<'T> = class end\"\n",
    "    global \"[<Fable.Core.Erase; Fable.Core.Emit(\\\"&'static $0\\\")>] type StaticRef<'T> = class end\"\n",
    "    global \"[<Fable.Core.Erase; Fable.Core.Emit(\\\"MutCell<$0>\\\")>] type MutCell<'T> = class end\"\n",
    "    global \"[<Fable.Core.Erase; Fable.Core.Emit(\\\"std::any::Any\\\")>] type std_any_Any = class end\"\n",
    "    global \"[<Fable.Core.Erase; Fable.Core.Emit(\\\"std::cell::RefCell<$0>\\\")>] type std_cell_RefCell<'T> = class end\"\n",
    "    global \"[<Fable.Core.Erase; Fable.Core.Emit(\\\"std::pin::Pin<$0>\\\")>] type std_pin_Pin<'T> = class end\"\n",
    "    global \"[<Fable.Core.Erase; Fable.Core.Emit(\\\"std::rc::Rc<$0>\\\")>] type std_rc_Rc<'T> = class end\"\n",
    "    global \"[<Fable.Core.Erase; Fable.Core.Emit(\\\"std::rc::Weak<$0>\\\")>] type std_rc_Weak<'T> = class end\"\n",
    "    global \"[<Fable.Core.Erase; Fable.Core.Emit(\\\"std::sync::Arc<$0>\\\")>] type std_sync_Arc<'T> = class end\""
   ]
  },
  {
   "cell_type": "code",
   "execution_count": null,
   "metadata": {
    "dotnet_interactive": {
     "language": "spiral"
    },
    "polyglot_notebook": {
     "kernelName": "spiral"
    }
   },
   "outputs": [
    {
     "name": "stdout",
     "output_type": "stream",
     "text": [
      "()\n",
      "\n"
     ]
    }
   ],
   "source": [
    "nominal ref_cell t = $\"std_cell_RefCell<`t>\"\n",
    "nominal rc t = $\"std_rc_Rc<`t>\"\n",
    "nominal weak_rc t = $\"std_rc_Weak<`t>\"\n",
    "nominal box t = $\"Box<`t>\"\n",
    "nominal mut_cell t = $\"MutCell<`t>\"\n",
    "nominal pin t = $\"std_pin_Pin<`t>\"\n",
    "nominal arc t = $\"std_sync_Arc<`t>\"\n",
    "nominal dyn' t = $\"Dyn<`t>\"\n",
    "nominal fn' t = $\"Fn<`t>\"\n",
    "nominal action_fn2 t u = $\"ActionFn2<`t, `u>\"\n",
    "nominal fn_once t = $\"FnOnce<`t>\"\n",
    "nominal fn_unit = $\"FnUnit\"\n",
    "nominal func0 t = $\"Func0<`t>\"\n",
    "nominal func1 t u = $\"Func0<`t, `u>\"\n",
    "nominal impl t = $\"Impl<`t>\"\n",
    "nominal mut' t = $\"Mut<`t>\"\n",
    "nominal ref' t = $\"Ref<`t>\"\n",
    "nominal static_ref' t = $\"StaticRef<`t>\""
   ]
  },
  {
   "cell_type": "code",
   "execution_count": null,
   "metadata": {
    "dotnet_interactive": {
     "language": "spiral"
    },
    "polyglot_notebook": {
     "kernelName": "spiral"
    }
   },
   "outputs": [
    {
     "name": "stdout",
     "output_type": "stream",
     "text": [
      "()\n",
      "\n"
     ]
    }
   ],
   "source": [
    "inl (~!\\) forall t. (code : string) : t =\n",
    "    emit_expr () code\n",
    "\n",
    "inl (~!\\\\) forall t u. ((args : t), (code : string)) : u =\n",
    "    emit_expr args code\n",
    "\n",
    "inl new_box forall t. (x : t) : box t =\n",
    "    inl x = join x\n",
    "    !\\($'\"Box::new(!x)\"')\n",
    "\n",
    "inl new_rc forall t. (x : t) : rc t =\n",
    "    inl x = join x\n",
    "    !\\($'\"std::rc::Rc::new(!x)\"')\n",
    "\n",
    "inl rc_clone forall t. (x : rc t) : rc t =\n",
    "    inl x = join x\n",
    "    !\\($'\"std::rc::Rc::clone(&!x)\"')\n",
    "\n",
    "inl rc_downgrade forall t. (x : rc t) : weak_rc t =\n",
    "    inl x = join x\n",
    "    !\\($'\"std::rc::Rc::downgrade(&!x)\"')\n",
    "\n",
    "inl new_ref_cell forall t. (x : t) : ref_cell t =\n",
    "    inl x = join x\n",
    "    !\\($'\"std::cell::RefCell::new(!x)\"')\n",
    "\n",
    "inl ref_cell_borrow forall t. (x : rc (ref_cell t)) : t =\n",
    "    inl x = join x\n",
    "    !\\($'\"*std::cell::RefCell::borrow(&std::rc::Rc::clone(&!x))\"')\n",
    "\n",
    "inl ref_cell_borrow_mut forall t. (x : rc (ref_cell t)) : mut' t =\n",
    "    inl x = join x\n",
    "    !\\($'\"*std::cell::RefCell::borrow_mut(&std::rc::Rc::clone(&!x))\"')\n",
    "\n",
    "inl to_mut forall t. (x : t) : mut' t =\n",
    "    // !\\($'\"let mut !x = !x\"')\n",
    "    // !\\($'\"!x\"')\n",
    "    emit_expr () $\"\\\"let mut !x = !x\\\"\"\n",
    "    emit_expr () $\"\\\"!x\\\"\"\n",
    "\n",
    "inl ref_map forall t u. (fn : t -> u) (x : ref' t) : ref' u =\n",
    "    !\\($'\"!fn(!x)\"')\n",
    "\n",
    "inl from_mut forall t. (x : mut' t) : t =\n",
    "    !\\($'\"!x\"')\n",
    "\n",
    "inl new_arc forall t. (x : t) : arc t =\n",
    "    inl x = join x\n",
    "    !\\($'\"std::sync::Arc::new(!x)\"')\n",
    "\n",
    "inl box_fn forall t. (x : () -> ()) : box t =\n",
    "    inl x = join x\n",
    "    !\\($'\"Box::new(move || !x())\"')\n",
    "\n",
    "inl new_pin forall t. (x : t) : pin (box t) =\n",
    "    inl x = join x\n",
    "    !\\($'\"Box::pin(!x)\"')\n",
    "\n",
    "inl deref forall t. (ref : ref' t) : t =\n",
    "    inl ref = join ref\n",
    "    !\\($'\"*!ref\"')\n",
    "\n",
    "inl ops_deref forall t. (ref : t) : t =\n",
    "    inl ref = join ref\n",
    "    !\\($'\"core::ops::Deref::deref(&!ref)\"')\n",
    "\n",
    "inl func0_get forall t. (x : func0 t) : t =\n",
    "    inl x = join x\n",
    "    !\\($'\"!x()\"')\n",
    "\n",
    "inl func0_move forall t. (fn : func0 t) : t =\n",
    "    inl fn = join fn\n",
    "    !\\($'\"(move || !fn())()\"')\n",
    "\n",
    "inl move forall t. (fn : () -> t) : func0 t =\n",
    "    inl fn = join fn\n",
    "    !\\($'\"Func0::new(move || !fn())\"')\n",
    "\n",
    "inl to_static_ref_unbox forall t. (x : ref' t) : static_ref' t =\n",
    "    $\"!x |> unbox\"\n",
    "\n",
    "inl from_static_ref_unbox forall t. (x : static_ref' t) : ref' t =\n",
    "    $\"!x |> unbox\"\n",
    "\n",
    "inl box_leak forall t. (x : box t) : static_ref' (mut' t) =\n",
    "    emit_expr () $\"\\\"Box::leak(!x)\\\"\"\n",
    "\n",
    "\n",
    "inl fix_closure depth' x' =\n",
    "    inl depth = depth' |> fst\n",
    "    if depth = 1\n",
    "    then !\\($'\"!x' })\"')\n",
    "    elif depth = 2\n",
    "    then !\\($'\"!x' }})\"')\n",
    "    elif depth = 3\n",
    "    then !\\($'\"!x' }}})\"')\n",
    "    elif depth = 4\n",
    "    then !\\($'\"!x' }}}})\"')\n",
    "    elif depth = 5\n",
    "    then !\\($'\"!x' }}}}})\"')\n",
    "    elif depth = 6 // , 4) // ?\n",
    "    then !\\($'\"!x' }}}}}})\"')\n",
    "    elif depth = 7 // , 5) // 7\n",
    "    then !\\($'\"!x' }}}}}}})\"')\n",
    "    elif depth = 8 // , 5) // 7\n",
    "    then !\\($'\"!x' }}}}}}}})\"')\n",
    "\n",
    "    inl depth = depth' |> snd\n",
    "    if depth = 1\n",
    "    then !\\($'\" { //\"')\n",
    "    elif depth = 2\n",
    "    then !\\($'\" {{ //\"')\n",
    "    elif depth = 3\n",
    "    then !\\($'\" {{{ //\"')\n",
    "    elif depth = 4\n",
    "    then !\\($'\" {{{{ //\"')\n",
    "    elif depth = 5\n",
    "    then !\\($'\" {{{{{ //\"')\n",
    "    elif depth = 6\n",
    "    then !\\($'\"!x' {{{{{{ //\"')\n",
    "    elif depth = 7\n",
    "    then !\\($'\"!x' {{{{{{{ //\"')\n",
    "    elif depth = 8\n",
    "    then !\\($'\"!x' {{{{{{{{ //\"')"
   ]
  }
 ],
 "metadata": {},
 "nbformat": 4,
 "nbformat_minor": 5
}