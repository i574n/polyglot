{
 "cells": [
  {
   "cell_type": "markdown",
   "metadata": {},
   "source": [
    "# util"
   ]
  },
  {
   "cell_type": "code",
   "execution_count": null,
   "metadata": {
    "dotnet_interactive": {
     "language": "spiral"
    },
    "polyglot_notebook": {
     "kernelName": "spiral"
    }
   },
   "outputs": [],
   "source": [
    "//// test\n",
    "\n",
    "open testing"
   ]
  },
  {
   "cell_type": "markdown",
   "metadata": {},
   "source": [
    "### ski"
   ]
  },
  {
   "cell_type": "code",
   "execution_count": null,
   "metadata": {
    "dotnet_interactive": {
     "language": "spiral"
    },
    "polyglot_notebook": {
     "kernelName": "spiral"
    }
   },
   "outputs": [],
   "source": [
    "union rec ski =\n",
    "    | I\n",
    "    | K\n",
    "    | S\n",
    "    | App : ski * ski\n",
    "\n",
    "inl rec eval ski =\n",
    "    match ski with\n",
    "    | App (App (K, x), y) => x |> eval\n",
    "    | App (App (App (S, x), y), z) => App (App (x, z), App (y, z)) |> eval\n",
    "    | App (I, x) => x |> eval\n",
    "    | App (K, x) => App (K, eval x)\n",
    "    | App (f, x) => App (eval f, x) |> eval\n",
    "    | _ => ski"
   ]
  },
  {
   "cell_type": "code",
   "execution_count": null,
   "metadata": {
    "dotnet_interactive": {
     "language": "spiral"
    },
    "polyglot_notebook": {
     "kernelName": "spiral"
    }
   },
   "outputs": [
    {
     "name": "stdout",
     "output_type": "stream",
     "text": [
      "assert_eq / actual: UH0_0 / expected: UH0_0\n",
      "assert_eq / actual: UH0_0 / expected: UH0_0\n",
      "assert_eq / actual: UH0_0 / expected: UH0_0\n",
      "assert_eq / actual: UH0_0 / expected: UH0_0\n",
      "assert_eq / actual: UH0_0 / expected: UH0_0\n",
      "assert_eq / actual: UH0_1 / expected: UH0_1\n",
      "assert_eq / actual: UH0_3 (UH0_1, UH0_0) / expected: UH0_3 (UH0_1, UH0_0)\n",
      "assert_eq / actual: UH0_3 (UH0_1, UH0_1) / expected: UH0_3 (UH0_1, UH0_1)\n",
      "assert_eq / actual: UH0_0 / expected: UH0_0\n",
      "assert_eq / actual: UH0_1 / expected: UH0_1\n",
      "assert_eq / actual: UH0_2 / expected: UH0_2\n",
      "assert_eq / actual: UH0_2 / expected: UH0_2\n",
      "assert_eq / actual: UH0_0 / expected: UH0_0\n",
      "assert_eq / actual: UH0_0 / expected: UH0_0\n",
      "assert_eq / actual: UH0_0 / expected: UH0_0\n",
      "assert_eq / actual: UH0_2 / expected: UH0_2\n",
      "assert_eq / actual: UH0_1 / expected: UH0_1\n"
     ]
    }
   ],
   "source": [
    "//// test\n",
    "\n",
    "eval I\n",
    "|> _assert_eq I\n",
    "\n",
    "App (I, I)\n",
    "|> eval\n",
    "|> _assert_eq I\n",
    "\n",
    "App (I, App (I, I))\n",
    "|> eval\n",
    "|> _assert_eq I\n",
    "\n",
    "App (App (I, I), I)\n",
    "|> eval\n",
    "|> _assert_eq I\n",
    "\n",
    "App (App (App (I, I), I), I)\n",
    "|> eval\n",
    "|> _assert_eq I\n",
    "\n",
    "eval K\n",
    "|> _assert_eq K\n",
    "\n",
    "App (K, I)\n",
    "|> eval\n",
    "|> _assert_eq (App (K, I))\n",
    "\n",
    "App (K, K)\n",
    "|> eval\n",
    "|> _assert_eq (App (K, K))\n",
    "\n",
    "App (App (K, I), K)\n",
    "|> eval\n",
    "|> _assert_eq I\n",
    "\n",
    "App (App (K, K), I)\n",
    "|> eval\n",
    "|> _assert_eq K\n",
    "\n",
    "App (App (App (App (K, K), I), S), K)\n",
    "|> eval\n",
    "|> _assert_eq S\n",
    "\n",
    "eval S\n",
    "|> _assert_eq S\n",
    "\n",
    "App (App (App (S, I), I), I)\n",
    "|> eval\n",
    "|> _assert_eq I\n",
    "\n",
    "App (App (App (S, K), K), I)\n",
    "|> eval\n",
    "|> _assert_eq I\n",
    "\n",
    "App (App (App (S, K), I), (App (App (K, I), S)))\n",
    "|> eval\n",
    "|> _assert_eq I\n",
    "\n",
    "App (App (K, S), App (I, App (App (App (S, K), S), I)))\n",
    "|> eval\n",
    "|> _assert_eq S\n",
    "\n",
    "App (App (App (S, K), I), K)\n",
    "|> eval\n",
    "|> _assert_eq K"
   ]
  }
 ],
 "metadata": {},
 "nbformat": 4,
 "nbformat_minor": 5
}