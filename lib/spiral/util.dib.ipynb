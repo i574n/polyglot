{
 "cells": [
  {
   "cell_type": "markdown",
   "metadata": {},
   "source": [
    "# util"
   ]
  },
  {
   "cell_type": "code",
   "execution_count": null,
   "metadata": {
    "dotnet_interactive": {
     "language": "spiral"
    },
    "polyglot_notebook": {
     "kernelName": "spiral"
    }
   },
   "outputs": [
    {
     "name": "stdout",
     "output_type": "stream",
     "text": [
      "()\n",
      "\n"
     ]
    }
   ],
   "source": [
    "// // test\n",
    "\n",
    "open testing"
   ]
  },
  {
   "cell_type": "markdown",
   "metadata": {},
   "source": [
    "## ski"
   ]
  },
  {
   "cell_type": "code",
   "execution_count": null,
   "metadata": {
    "dotnet_interactive": {
     "language": "spiral"
    },
    "polyglot_notebook": {
     "kernelName": "spiral"
    }
   },
   "outputs": [
    {
     "name": "stdout",
     "output_type": "stream",
     "text": [
      "()\n",
      "\n"
     ]
    }
   ],
   "source": [
    "union rec ski =\n",
    "    | I\n",
    "    | K\n",
    "    | S\n",
    "    | App : ski * ski\n",
    "\n",
    "inl rec eval ski =\n",
    "    match ski with\n",
    "    | App (App (K, x), y) => eval x\n",
    "    | App (App (App (S, x), y), z) => eval (App (App (x, z), App (y, z)))\n",
    "    | App (I, x) => eval x\n",
    "    | App (K, x) => App (K, eval x)\n",
    "    | App (f, x) => eval (App (eval f, x))\n",
    "    | _ => ski"
   ]
  },
  {
   "cell_type": "code",
   "execution_count": null,
   "metadata": {
    "dotnet_interactive": {
     "language": "spiral"
    },
    "polyglot_notebook": {
     "kernelName": "spiral"
    }
   },
   "outputs": [
    {
     "name": "stdout",
     "output_type": "stream",
     "text": [
      "type UH0 =\n",
      "    | UH0_0\n",
      "    | UH0_1\n",
      "    | UH0_2\n",
      "    | UH0_3 of UH0 * UH0\n",
      "let rec method0 () : unit =\n",
      "    let v0 : UH0 = UH0_0\n",
      "    let v1 : string = $\"%A{v0}\"\n",
      "    System.Console.WriteLine v1\n",
      "    let v5 : UH0 = UH0_0\n",
      "    let v6 : UH0 = UH0_0\n",
      "    let v7 : string = $\"__expect / actual: %A{v5} / expected: %A{v6}\"\n",
      "    let v8 : UH0 = UH0_0\n",
      "    let v9 : string = $\"%A{v8}\"\n",
      "    System.Console.WriteLine v9\n",
      "    let v13 : UH0 = UH0_0\n",
      "    let v14 : UH0 = UH0_0\n",
      "    let v15 : string = $\"__expect / actual: %A{v13} / expected: %A{v14}\"\n",
      "    let v16 : UH0 = UH0_0\n",
      "    let v17 : string = $\"%A{v16}\"\n",
      "    System.Console.WriteLine v17\n",
      "    let v21 : UH0 = UH0_0\n",
      "    let v22 : UH0 = UH0_0\n",
      "    let v23 : string = $\"__expect / actual: %A{v21} / expected: %A{v22}\"\n",
      "    let v24 : UH0 = UH0_0\n",
      "    let v25 : string = $\"%A{v24}\"\n",
      "    System.Console.WriteLine v25\n",
      "    let v29 : UH0 = UH0_0\n",
      "    let v30 : UH0 = UH0_0\n",
      "    let v31 : string = $\"__expect / actual: %A{v29} / expected: %A{v30}\"\n",
      "    let v32 : UH0 = UH0_0\n",
      "    let v33 : string = $\"%A{v32}\"\n",
      "    System.Console.WriteLine v33\n",
      "    let v37 : UH0 = UH0_0\n",
      "    let v38 : UH0 = UH0_0\n",
      "    let v39 : string = $\"__expect / actual: %A{v37} / expected: %A{v38}\"\n",
      "    let v40 : UH0 = UH0_1\n",
      "    let v41 : string = $\"%A{v40}\"\n",
      "    System.Console.WriteLine v41\n",
      "    let v45 : UH0 = UH0_1\n",
      "    let v46 : UH0 = UH0_1\n",
      "    let v47 : string = $\"__expect / actual: %A{v45} / expected: %A{v46}\"\n",
      "    let v48 : UH0 = UH0_1\n",
      "    let v49 : UH0 = UH0_0\n",
      "    let v50 : UH0 = UH0_3(v48, v49)\n",
      "    let v51 : string = $\"%A{v50}\"\n",
      "    System.Console.WriteLine v51\n",
      "    let v63 : UH0 = UH0_1\n",
      "    let v64 : UH0 = UH0_0\n",
      "    let v65 : UH0 = UH0_3(v63, v64)\n",
      "    let v66 : UH0 = UH0_1\n",
      "    let v67 : UH0 = UH0_0\n",
      "    let v68 : UH0 = UH0_3(v66, v67)\n",
      "    let v69 : string = $\"__expect / actual: %A{v65} / expected: %A{v68}\"\n",
      "    let v70 : UH0 = UH0_1\n",
      "    let v71 : UH0 = UH0_1\n",
      "    let v72 : UH0 = UH0_3(v70, v71)\n",
      "    let v73 : string = $\"%A{v72}\"\n",
      "    System.Console.WriteLine v73\n",
      "    let v85 : UH0 = UH0_1\n",
      "    let v86 : UH0 = UH0_1\n",
      "    let v87 : UH0 = UH0_3(v85, v86)\n",
      "    let v88 : UH0 = UH0_1\n",
      "    let v89 : UH0 = UH0_1\n",
      "    let v90 : UH0 = UH0_3(v88, v89)\n",
      "    let v91 : string = $\"__expect / actual: %A{v87} / expected: %A{v90}\"\n",
      "    let v92 : UH0 = UH0_0\n",
      "    let v93 : string = $\"%A{v92}\"\n",
      "    System.Console.WriteLine v93\n",
      "    let v97 : UH0 = UH0_0\n",
      "    let v98 : UH0 = UH0_0\n",
      "    let v99 : string = $\"__expect / actual: %A{v97} / expected: %A{v98}\"\n",
      "    let v100 : UH0 = UH0_1\n",
      "    let v101 : string = $\"%A{v100}\"\n",
      "    System.Console.WriteLine v101\n",
      "    let v105 : UH0 = UH0_1\n",
      "    let v106 : UH0 = UH0_1\n",
      "    let v107 : string = $\"__expect / actual: %A{v105} / expected: %A{v106}\"\n",
      "    let v108 : UH0 = UH0_2\n",
      "    let v109 : string = $\"%A{v108}\"\n",
      "    System.Console.WriteLine v109\n",
      "    let v113 : UH0 = UH0_2\n",
      "    let v114 : UH0 = UH0_2\n",
      "    let v115 : string = $\"__expect / actual: %A{v113} / expected: %A{v114}\"\n",
      "    let v116 : UH0 = UH0_2\n",
      "    let v117 : string = $\"%A{v116}\"\n",
      "    System.Console.WriteLine v117\n",
      "    let v121 : UH0 = UH0_2\n",
      "    let v122 : UH0 = UH0_2\n",
      "    let v123 : string = $\"__expect / actual: %A{v121} / expected: %A{v122}\"\n",
      "    let v124 : UH0 = UH0_0\n",
      "    let v125 : string = $\"%A{v124}\"\n",
      "    System.Console.WriteLine v125\n",
      "    let v129 : UH0 = UH0_0\n",
      "    let v130 : UH0 = UH0_0\n",
      "    let v131 : string = $\"__expect / actual: %A{v129} / expected: %A{v130}\"\n",
      "    let v132 : UH0 = UH0_0\n",
      "    let v133 : string = $\"%A{v132}\"\n",
      "    System.Console.WriteLine v133\n",
      "    let v137 : UH0 = UH0_0\n",
      "    let v138 : UH0 = UH0_0\n",
      "    let v139 : string = $\"__expect / actual: %A{v137} / expected: %A{v138}\"\n",
      "    let v140 : UH0 = UH0_0\n",
      "    let v141 : string = $\"%A{v140}\"\n",
      "    System.Console.WriteLine v141\n",
      "    let v145 : UH0 = UH0_0\n",
      "    let v146 : UH0 = UH0_0\n",
      "    let v147 : string = $\"__expect / actual: %A{v145} / expected: %A{v146}\"\n",
      "    let v148 : UH0 = UH0_2\n",
      "    let v149 : string = $\"%A{v148}\"\n",
      "    System.Console.WriteLine v149\n",
      "    let v153 : UH0 = UH0_2\n",
      "    let v154 : UH0 = UH0_2\n",
      "    let v155 : string = $\"__expect / actual: %A{v153} / expected: %A{v154}\"\n",
      "    let v156 : UH0 = UH0_1\n",
      "    let v157 : string = $\"%A{v156}\"\n",
      "    System.Console.WriteLine v157\n",
      "    let v161 : UH0 = UH0_1\n",
      "    let v162 : UH0 = UH0_1\n",
      "    let v163 : string = $\"__expect / actual: %A{v161} / expected: %A{v162}\"\n",
      "    ()\n",
      "method0()\n",
      "\n",
      "UH0_0\n",
      "UH0_0\n",
      "UH0_0\n",
      "UH0_0\n",
      "UH0_0\n",
      "UH0_1\n",
      "UH0_3 (UH0_1, UH0_0)\n",
      "UH0_3 (UH0_1, UH0_1)\n",
      "UH0_0\n",
      "UH0_1\n",
      "UH0_2\n",
      "UH0_2\n",
      "UH0_0\n",
      "UH0_0\n",
      "UH0_0\n",
      "UH0_2\n",
      "UH0_1\n"
     ]
    }
   ],
   "source": [
    "// // test\n",
    "\n",
    "eval I\n",
    "|> _assert_eq I\n",
    "\n",
    "eval (App (I, I))\n",
    "|> _assert_eq I\n",
    "\n",
    "eval (App (I, App (I, I)))\n",
    "|> _assert_eq I\n",
    "\n",
    "eval (App (App (I, I), I))\n",
    "|> _assert_eq I\n",
    "\n",
    "eval (App (App (App (I, I), I), I))\n",
    "|> _assert_eq I\n",
    "\n",
    "eval K\n",
    "|> _assert_eq K\n",
    "\n",
    "eval (App (K, I))\n",
    "|> _assert_eq (App (K, I))\n",
    "\n",
    "eval (App (K, K))\n",
    "|> _assert_eq (App (K, K))\n",
    "\n",
    "eval (App (App (K, I), K))\n",
    "|> _assert_eq I\n",
    "\n",
    "eval (App (App (K, K), I))\n",
    "|> _assert_eq K\n",
    "\n",
    "eval (App (App (App (App (K, K), I), S), K))\n",
    "|> _assert_eq S\n",
    "\n",
    "eval S\n",
    "|> _assert_eq S\n",
    "\n",
    "eval (App (App (App (S, I), I), I))\n",
    "|> _assert_eq I\n",
    "\n",
    "eval (App (App (App (S, K), K), I))\n",
    "|> _assert_eq I\n",
    "\n",
    "eval (App (App (App (S, K), I), (App (App (K, I), S))))\n",
    "|> _assert_eq I\n",
    "\n",
    "eval (App (App (K, S), App (I, App (App (App (S, K), S), I))))\n",
    "|> _assert_eq S\n",
    "\n",
    "eval (App (App (App (S, K), I), K))\n",
    "|> _assert_eq K"
   ]
  }
 ],
 "metadata": {},
 "nbformat": 4,
 "nbformat_minor": 5
}