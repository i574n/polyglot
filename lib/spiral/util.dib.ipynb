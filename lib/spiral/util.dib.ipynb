{
 "cells": [
  {
   "cell_type": "markdown",
   "metadata": {},
   "source": [
    "# util"
   ]
  },
  {
   "cell_type": "code",
   "execution_count": null,
   "metadata": {
    "dotnet_interactive": {
     "language": "spiral"
    },
    "polyglot_notebook": {
     "kernelName": "spiral"
    }
   },
   "outputs": [
    {
     "name": "stdout",
     "output_type": "stream",
     "text": [
      "()\n",
      "\n"
     ]
    }
   ],
   "source": [
    "// // test\n",
    "\n",
    "open testing"
   ]
  },
  {
   "cell_type": "markdown",
   "metadata": {},
   "source": [
    "## ski"
   ]
  },
  {
   "cell_type": "code",
   "execution_count": null,
   "metadata": {
    "dotnet_interactive": {
     "language": "spiral"
    },
    "polyglot_notebook": {
     "kernelName": "spiral"
    }
   },
   "outputs": [
    {
     "name": "stdout",
     "output_type": "stream",
     "text": [
      "()\n",
      "\n"
     ]
    }
   ],
   "source": [
    "union rec ski =\n",
    "    | I\n",
    "    | K\n",
    "    | S\n",
    "    | App : ski * ski\n",
    "\n",
    "inl rec eval ski =\n",
    "    match ski with\n",
    "    | App (App (K, x), y) => eval x\n",
    "    | App (App (App (S, x), y), z) => eval (App (App (x, z), App (y, z)))\n",
    "    | App (I, x) => eval x\n",
    "    | App (K, x) => App (K, eval x)\n",
    "    | App (f, x) => eval (App (eval f, x))\n",
    "    | _ => ski"
   ]
  },
  {
   "cell_type": "code",
   "execution_count": null,
   "metadata": {
    "dotnet_interactive": {
     "language": "spiral"
    },
    "polyglot_notebook": {
     "kernelName": "spiral"
    }
   },
   "outputs": [
    {
     "name": "stdout",
     "output_type": "stream",
     "text": [
      "type UH0 =\n",
      "    | UH0_0 of UH0 * UH0\n",
      "    | UH0_1\n",
      "    | UH0_2\n",
      "    | UH0_3\n",
      "let rec method0 () : unit =\n",
      "    let v3 : UH0 = UH0_1\n",
      "    let v4 : UH0 = UH0_1\n",
      "    let v5 : string = $\"__expect / actual: %A{v3} / expected: %A{v4}\"\n",
      "    let v9 : UH0 = UH0_1\n",
      "    let v10 : UH0 = UH0_1\n",
      "    let v11 : string = $\"__expect / actual: %A{v9} / expected: %A{v10}\"\n",
      "    let v15 : UH0 = UH0_1\n",
      "    let v16 : UH0 = UH0_1\n",
      "    let v17 : string = $\"__expect / actual: %A{v15} / expected: %A{v16}\"\n",
      "    let v21 : UH0 = UH0_1\n",
      "    let v22 : UH0 = UH0_1\n",
      "    let v23 : string = $\"__expect / actual: %A{v21} / expected: %A{v22}\"\n",
      "    let v27 : UH0 = UH0_1\n",
      "    let v28 : UH0 = UH0_1\n",
      "    let v29 : string = $\"__expect / actual: %A{v27} / expected: %A{v28}\"\n",
      "    let v33 : UH0 = UH0_2\n",
      "    let v34 : UH0 = UH0_2\n",
      "    let v35 : string = $\"__expect / actual: %A{v33} / expected: %A{v34}\"\n",
      "    let v47 : UH0 = UH0_2\n",
      "    let v48 : UH0 = UH0_1\n",
      "    let v49 : UH0 = UH0_0(v47, v48)\n",
      "    let v50 : UH0 = UH0_2\n",
      "    let v51 : UH0 = UH0_1\n",
      "    let v52 : UH0 = UH0_0(v50, v51)\n",
      "    let v53 : string = $\"__expect / actual: %A{v49} / expected: %A{v52}\"\n",
      "    let v65 : UH0 = UH0_2\n",
      "    let v66 : UH0 = UH0_2\n",
      "    let v67 : UH0 = UH0_0(v65, v66)\n",
      "    let v68 : UH0 = UH0_2\n",
      "    let v69 : UH0 = UH0_2\n",
      "    let v70 : UH0 = UH0_0(v68, v69)\n",
      "    let v71 : string = $\"__expect / actual: %A{v67} / expected: %A{v70}\"\n",
      "    let v75 : UH0 = UH0_1\n",
      "    let v76 : UH0 = UH0_1\n",
      "    let v77 : string = $\"__expect / actual: %A{v75} / expected: %A{v76}\"\n",
      "    let v81 : UH0 = UH0_2\n",
      "    let v82 : UH0 = UH0_2\n",
      "    let v83 : string = $\"__expect / actual: %A{v81} / expected: %A{v82}\"\n",
      "    let v87 : UH0 = UH0_3\n",
      "    let v88 : UH0 = UH0_3\n",
      "    let v89 : string = $\"__expect / actual: %A{v87} / expected: %A{v88}\"\n",
      "    let v93 : UH0 = UH0_3\n",
      "    let v94 : UH0 = UH0_3\n",
      "    let v95 : string = $\"__expect / actual: %A{v93} / expected: %A{v94}\"\n",
      "    let v99 : UH0 = UH0_1\n",
      "    let v100 : UH0 = UH0_1\n",
      "    let v101 : string = $\"__expect / actual: %A{v99} / expected: %A{v100}\"\n",
      "    let v105 : UH0 = UH0_1\n",
      "    let v106 : UH0 = UH0_1\n",
      "    let v107 : string = $\"__expect / actual: %A{v105} / expected: %A{v106}\"\n",
      "    let v111 : UH0 = UH0_1\n",
      "    let v112 : UH0 = UH0_1\n",
      "    let v113 : string = $\"__expect / actual: %A{v111} / expected: %A{v112}\"\n",
      "    let v117 : UH0 = UH0_3\n",
      "    let v118 : UH0 = UH0_3\n",
      "    let v119 : string = $\"__expect / actual: %A{v117} / expected: %A{v118}\"\n",
      "    let v123 : UH0 = UH0_2\n",
      "    let v124 : UH0 = UH0_2\n",
      "    let v125 : string = $\"__expect / actual: %A{v123} / expected: %A{v124}\"\n",
      "    ()\n",
      "method0()\n",
      "\n"
     ]
    }
   ],
   "source": [
    "// // test\n",
    "\n",
    "eval I\n",
    "|> _assert_eq I\n",
    "\n",
    "eval (App (I, I))\n",
    "|> _assert_eq I\n",
    "\n",
    "eval (App (I, App (I, I)))\n",
    "|> _assert_eq I\n",
    "\n",
    "eval (App (App (I, I), I))\n",
    "|> _assert_eq I\n",
    "\n",
    "eval (App (App (App (I, I), I), I))\n",
    "|> _assert_eq I\n",
    "\n",
    "eval K\n",
    "|> _assert_eq K\n",
    "\n",
    "eval (App (K, I))\n",
    "|> _assert_eq (App (K, I))\n",
    "\n",
    "eval (App (K, K))\n",
    "|> _assert_eq (App (K, K))\n",
    "\n",
    "eval (App (App (K, I), K))\n",
    "|> _assert_eq I\n",
    "\n",
    "eval (App (App (K, K), I))\n",
    "|> _assert_eq K\n",
    "\n",
    "eval (App (App (App (App (K, K), I), S), K))\n",
    "|> _assert_eq S\n",
    "\n",
    "eval S\n",
    "|> _assert_eq S\n",
    "\n",
    "eval (App (App (App (S, I), I), I))\n",
    "|> _assert_eq I\n",
    "\n",
    "eval (App (App (App (S, K), K), I))\n",
    "|> _assert_eq I\n",
    "\n",
    "eval (App (App (App (S, K), I), (App (App (K, I), S))))\n",
    "|> _assert_eq I\n",
    "\n",
    "eval (App (App (K, S), App (I, App (App (App (S, K), S), I))))\n",
    "|> _assert_eq S\n",
    "\n",
    "eval (App (App (App (S, K), I), K))\n",
    "|> _assert_eq K"
   ]
  }
 ],
 "metadata": {},
 "nbformat": 4,
 "nbformat_minor": 5
}