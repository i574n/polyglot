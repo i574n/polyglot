{
 "cells": [
  {
   "cell_type": "markdown",
   "metadata": {},
   "source": [
    "# util"
   ]
  },
  {
   "cell_type": "code",
   "execution_count": null,
   "metadata": {
    "dotnet_interactive": {
     "language": "spiral"
    },
    "polyglot_notebook": {
     "kernelName": "spiral"
    }
   },
   "outputs": [
    {
     "name": "stdout",
     "output_type": "stream",
     "text": [
      "()\n",
      "\n"
     ]
    }
   ],
   "source": [
    "// // test\n",
    "\n",
    "open testing"
   ]
  },
  {
   "cell_type": "markdown",
   "metadata": {},
   "source": [
    "## ski"
   ]
  },
  {
   "cell_type": "code",
   "execution_count": null,
   "metadata": {
    "dotnet_interactive": {
     "language": "spiral"
    },
    "polyglot_notebook": {
     "kernelName": "spiral"
    }
   },
   "outputs": [
    {
     "name": "stdout",
     "output_type": "stream",
     "text": [
      "()\n",
      "\n"
     ]
    }
   ],
   "source": [
    "union rec ski =\n",
    "    | I\n",
    "    | K\n",
    "    | S\n",
    "    | App : ski * ski\n",
    "\n",
    "inl rec eval ski =\n",
    "    match ski with\n",
    "    | App (App (K, x), y) => eval x\n",
    "    | App (App (App (S, x), y), z) => eval (App (App (x, z), App (y, z)))\n",
    "    | App (I, x) => eval x\n",
    "    | App (K, x) => App (K, eval x)\n",
    "    | App (f, x) => eval (App (eval f, x))\n",
    "    | _ => ski"
   ]
  },
  {
   "cell_type": "code",
   "execution_count": null,
   "metadata": {
    "dotnet_interactive": {
     "language": "spiral"
    },
    "polyglot_notebook": {
     "kernelName": "spiral"
    }
   },
   "outputs": [
    {
     "name": "stdout",
     "output_type": "stream",
     "text": [
      "type UH0 =\n",
      "    | UH0_0 of UH0 * UH0\n",
      "    | UH0_1\n",
      "    | UH0_2\n",
      "    | UH0_3\n",
      "let rec method0 () : unit =\n",
      "    let v0 : UH0 = UH0_1\n",
      "    let v1 : UH0 = UH0_1\n",
      "    let v2 : string = $\"__expect / actual: %A{v0} / expected: %A{v1}\"\n",
      "    let v6 : UH0 = UH0_1\n",
      "    let v7 : UH0 = UH0_1\n",
      "    let v8 : string = $\"__expect / actual: %A{v6} / expected: %A{v7}\"\n",
      "    let v12 : UH0 = UH0_1\n",
      "    let v13 : UH0 = UH0_1\n",
      "    let v14 : string = $\"__expect / actual: %A{v12} / expected: %A{v13}\"\n",
      "    let v18 : UH0 = UH0_1\n",
      "    let v19 : UH0 = UH0_1\n",
      "    let v20 : string = $\"__expect / actual: %A{v18} / expected: %A{v19}\"\n",
      "    let v24 : UH0 = UH0_1\n",
      "    let v25 : UH0 = UH0_1\n",
      "    let v26 : string = $\"__expect / actual: %A{v24} / expected: %A{v25}\"\n",
      "    let v30 : UH0 = UH0_2\n",
      "    let v31 : UH0 = UH0_2\n",
      "    let v32 : string = $\"__expect / actual: %A{v30} / expected: %A{v31}\"\n",
      "    let v36 : UH0 = UH0_2\n",
      "    let v37 : UH0 = UH0_1\n",
      "    let v38 : UH0 = UH0_0(v36, v37)\n",
      "    let v39 : UH0 = UH0_2\n",
      "    let v40 : UH0 = UH0_1\n",
      "    let v41 : UH0 = UH0_0(v39, v40)\n",
      "    let v42 : string = $\"__expect / actual: %A{v38} / expected: %A{v41}\"\n",
      "    let v54 : UH0 = UH0_2\n",
      "    let v55 : UH0 = UH0_2\n",
      "    let v56 : UH0 = UH0_0(v54, v55)\n",
      "    let v57 : UH0 = UH0_2\n",
      "    let v58 : UH0 = UH0_2\n",
      "    let v59 : UH0 = UH0_0(v57, v58)\n",
      "    let v60 : string = $\"__expect / actual: %A{v56} / expected: %A{v59}\"\n",
      "    let v72 : UH0 = UH0_1\n",
      "    let v73 : UH0 = UH0_1\n",
      "    let v74 : string = $\"__expect / actual: %A{v72} / expected: %A{v73}\"\n",
      "    let v78 : UH0 = UH0_2\n",
      "    let v79 : UH0 = UH0_2\n",
      "    let v80 : string = $\"__expect / actual: %A{v78} / expected: %A{v79}\"\n",
      "    let v84 : UH0 = UH0_3\n",
      "    let v85 : UH0 = UH0_3\n",
      "    let v86 : string = $\"__expect / actual: %A{v84} / expected: %A{v85}\"\n",
      "    let v90 : UH0 = UH0_3\n",
      "    let v91 : UH0 = UH0_3\n",
      "    let v92 : string = $\"__expect / actual: %A{v90} / expected: %A{v91}\"\n",
      "    let v96 : UH0 = UH0_1\n",
      "    let v97 : UH0 = UH0_1\n",
      "    let v98 : string = $\"__expect / actual: %A{v96} / expected: %A{v97}\"\n",
      "    let v102 : UH0 = UH0_1\n",
      "    let v103 : UH0 = UH0_1\n",
      "    let v104 : string = $\"__expect / actual: %A{v102} / expected: %A{v103}\"\n",
      "    let v108 : UH0 = UH0_1\n",
      "    let v109 : UH0 = UH0_1\n",
      "    let v110 : string = $\"__expect / actual: %A{v108} / expected: %A{v109}\"\n",
      "    let v114 : UH0 = UH0_3\n",
      "    let v115 : UH0 = UH0_3\n",
      "    let v116 : string = $\"__expect / actual: %A{v114} / expected: %A{v115}\"\n",
      "    let v120 : UH0 = UH0_2\n",
      "    let v121 : UH0 = UH0_2\n",
      "    let v122 : string = $\"__expect / actual: %A{v120} / expected: %A{v121}\"\n",
      "    ()\n",
      "method0()\n",
      "\n"
     ]
    }
   ],
   "source": [
    "// // test\n",
    "\n",
    "eval I\n",
    "|> _equal I\n",
    "\n",
    "eval (App (I, I))\n",
    "|> _equal I\n",
    "\n",
    "eval (App (I, App (I, I)))\n",
    "|> _equal I\n",
    "\n",
    "eval (App (App (I, I), I))\n",
    "|> _equal I\n",
    "\n",
    "eval (App (App (App (I, I), I), I))\n",
    "|> _equal I\n",
    "\n",
    "eval K\n",
    "|> _equal K\n",
    "\n",
    "eval (App (K, I))\n",
    "|> _equal (App (K, I))\n",
    "\n",
    "eval (App (K, K))\n",
    "|> _equal (App (K, K))\n",
    "\n",
    "eval (App (App (K, I), K))\n",
    "|> _equal I\n",
    "\n",
    "eval (App (App (K, K), I))\n",
    "|> _equal K\n",
    "\n",
    "eval (App (App (App (App (K, K), I), S), K))\n",
    "|> _equal S\n",
    "\n",
    "eval S\n",
    "|> _equal S\n",
    "\n",
    "eval (App (App (App (S, I), I), I))\n",
    "|> _equal I\n",
    "\n",
    "eval (App (App (App (S, K), K), I))\n",
    "|> _equal I\n",
    "\n",
    "eval (App (App (App (S, K), I), (App (App (K, I), S))))\n",
    "|> _equal I\n",
    "\n",
    "eval (App (App (K, S), App (I, App (App (App (S, K), S), I))))\n",
    "|> _equal S\n",
    "\n",
    "eval (App (App (App (S, K), I), K))\n",
    "|> _equal K"
   ]
  }
 ],
 "metadata": {},
 "nbformat": 4,
 "nbformat_minor": 5
}