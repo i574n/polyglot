{
 "cells": [
  {
   "cell_type": "markdown",
   "metadata": {},
   "source": [
    "# util"
   ]
  },
  {
   "cell_type": "code",
   "execution_count": null,
   "metadata": {
    "dotnet_interactive": {
     "language": "spiral"
    },
    "polyglot_notebook": {
     "kernelName": "spiral"
    }
   },
   "outputs": [
    {
     "name": "stdout",
     "output_type": "stream",
     "text": [
      "()\n",
      "\n"
     ]
    }
   ],
   "source": [
    "//// test\n",
    "\n",
    "open testing"
   ]
  },
  {
   "cell_type": "markdown",
   "metadata": {},
   "source": [
    "## ski"
   ]
  },
  {
   "cell_type": "code",
   "execution_count": null,
   "metadata": {
    "dotnet_interactive": {
     "language": "spiral"
    },
    "polyglot_notebook": {
     "kernelName": "spiral"
    }
   },
   "outputs": [
    {
     "name": "stdout",
     "output_type": "stream",
     "text": [
      "()\n",
      "\n"
     ]
    }
   ],
   "source": [
    "union rec ski =\n",
    "    | I\n",
    "    | K\n",
    "    | S\n",
    "    | App : ski * ski\n",
    "\n",
    "inl rec eval ski =\n",
    "    match ski with\n",
    "    | App (App (K, x), y) => eval x\n",
    "    | App (App (App (S, x), y), z) => eval (App (App (x, z), App (y, z)))\n",
    "    | App (I, x) => eval x\n",
    "    | App (K, x) => App (K, eval x)\n",
    "    | App (f, x) => eval (App (eval f, x))\n",
    "    | _ => ski"
   ]
  },
  {
   "cell_type": "code",
   "execution_count": null,
   "metadata": {
    "dotnet_interactive": {
     "language": "spiral"
    },
    "polyglot_notebook": {
     "kernelName": "spiral"
    }
   },
   "outputs": [
    {
     "name": "stdout",
     "output_type": "stream",
     "text": [
      "type UH0 =\n",
      "    | UH0_0\n",
      "    | UH0_1\n",
      "    | UH0_2\n",
      "    | UH0_3 of UH0 * UH0\n",
      "let rec method0 () : unit =\n",
      "    let v3 : string = \"assert_eq\"\n",
      "    let v4 : UH0 = UH0_0\n",
      "    let v5 : UH0 = UH0_0\n",
      "    let v6 : string = $\"{v3} / actual: %A{v4} / expected: %A{v5}\"\n",
      "    System.Console.WriteLine v6\n",
      "    let v10 : UH0 = UH0_0\n",
      "    let v11 : UH0 = UH0_0\n",
      "    let v12 : string = $\"{v3} / actual: %A{v10} / expected: %A{v11}\"\n",
      "    System.Console.WriteLine v12\n",
      "    let v16 : UH0 = UH0_0\n",
      "    let v17 : UH0 = UH0_0\n",
      "    let v18 : string = $\"{v3} / actual: %A{v16} / expected: %A{v17}\"\n",
      "    System.Console.WriteLine v18\n",
      "    let v22 : UH0 = UH0_0\n",
      "    let v23 : UH0 = UH0_0\n",
      "    let v24 : string = $\"{v3} / actual: %A{v22} / expected: %A{v23}\"\n",
      "    System.Console.WriteLine v24\n",
      "    let v28 : UH0 = UH0_0\n",
      "    let v29 : UH0 = UH0_0\n",
      "    let v30 : string = $\"{v3} / actual: %A{v28} / expected: %A{v29}\"\n",
      "    System.Console.WriteLine v30\n",
      "    let v34 : UH0 = UH0_1\n",
      "    let v35 : UH0 = UH0_1\n",
      "    let v36 : string = $\"{v3} / actual: %A{v34} / expected: %A{v35}\"\n",
      "    System.Console.WriteLine v36\n",
      "    let v48 : UH0 = UH0_1\n",
      "    let v49 : UH0 = UH0_0\n",
      "    let v50 : UH0 = UH0_3(v48, v49)\n",
      "    let v51 : UH0 = UH0_1\n",
      "    let v52 : UH0 = UH0_0\n",
      "    let v53 : UH0 = UH0_3(v51, v52)\n",
      "    let v54 : string = $\"{v3} / actual: %A{v50} / expected: %A{v53}\"\n",
      "    System.Console.WriteLine v54\n",
      "    let v66 : UH0 = UH0_1\n",
      "    let v67 : UH0 = UH0_1\n",
      "    let v68 : UH0 = UH0_3(v66, v67)\n",
      "    let v69 : UH0 = UH0_1\n",
      "    let v70 : UH0 = UH0_1\n",
      "    let v71 : UH0 = UH0_3(v69, v70)\n",
      "    let v72 : string = $\"{v3} / actual: %A{v68} / expected: %A{v71}\"\n",
      "    System.Console.WriteLine v72\n",
      "    let v76 : UH0 = UH0_0\n",
      "    let v77 : UH0 = UH0_0\n",
      "    let v78 : string = $\"{v3} / actual: %A{v76} / expected: %A{v77}\"\n",
      "    System.Console.WriteLine v78\n",
      "    let v82 : UH0 = UH0_1\n",
      "    let v83 : UH0 = UH0_1\n",
      "    let v84 : string = $\"{v3} / actual: %A{v82} / expected: %A{v83}\"\n",
      "    System.Console.WriteLine v84\n",
      "    let v88 : UH0 = UH0_2\n",
      "    let v89 : UH0 = UH0_2\n",
      "    let v90 : string = $\"{v3} / actual: %A{v88} / expected: %A{v89}\"\n",
      "    System.Console.WriteLine v90\n",
      "    let v94 : UH0 = UH0_2\n",
      "    let v95 : UH0 = UH0_2\n",
      "    let v96 : string = $\"{v3} / actual: %A{v94} / expected: %A{v95}\"\n",
      "    System.Console.WriteLine v96\n",
      "    let v100 : UH0 = UH0_0\n",
      "    let v101 : UH0 = UH0_0\n",
      "    let v102 : string = $\"{v3} / actual: %A{v100} / expected: %A{v101}\"\n",
      "    System.Console.WriteLine v102\n",
      "    let v106 : UH0 = UH0_0\n",
      "    let v107 : UH0 = UH0_0\n",
      "    let v108 : string = $\"{v3} / actual: %A{v106} / expected: %A{v107}\"\n",
      "    System.Console.WriteLine v108\n",
      "    let v112 : UH0 = UH0_0\n",
      "    let v113 : UH0 = UH0_0\n",
      "    let v114 : string = $\"{v3} / actual: %A{v112} / expected: %A{v113}\"\n",
      "    System.Console.WriteLine v114\n",
      "    let v118 : UH0 = UH0_2\n",
      "    let v119 : UH0 = UH0_2\n",
      "    let v120 : string = $\"{v3} / actual: %A{v118} / expected: %A{v119}\"\n",
      "    System.Console.WriteLine v120\n",
      "    let v124 : UH0 = UH0_1\n",
      "    let v125 : UH0 = UH0_1\n",
      "    let v126 : string = $\"{v3} / actual: %A{v124} / expected: %A{v125}\"\n",
      "    System.Console.WriteLine v126\n",
      "    ()\n",
      "method0()\n",
      "\n",
      "assert_eq / actual: UH0_0 / expected: UH0_0\n",
      "assert_eq / actual: UH0_0 / expected: UH0_0\n",
      "assert_eq / actual: UH0_0 / expected: UH0_0\n",
      "assert_eq / actual: UH0_0 / expected: UH0_0\n",
      "assert_eq / actual: UH0_0 / expected: UH0_0\n",
      "assert_eq / actual: UH0_1 / expected: UH0_1\n",
      "assert_eq / actual: UH0_3 (UH0_1, UH0_0) / expected: UH0_3 (UH0_1, UH0_0)\n",
      "assert_eq / actual: UH0_3 (UH0_1, UH0_1) / expected: UH0_3 (UH0_1, UH0_1)\n",
      "assert_eq / actual: UH0_0 / expected: UH0_0\n",
      "assert_eq / actual: UH0_1 / expected: UH0_1\n",
      "assert_eq / actual: UH0_2 / expected: UH0_2\n",
      "assert_eq / actual: UH0_2 / expected: UH0_2\n",
      "assert_eq / actual: UH0_0 / expected: UH0_0\n",
      "assert_eq / actual: UH0_0 / expected: UH0_0\n",
      "assert_eq / actual: UH0_0 / expected: UH0_0\n",
      "assert_eq / actual: UH0_2 / expected: UH0_2\n",
      "assert_eq / actual: UH0_1 / expected: UH0_1\n"
     ]
    }
   ],
   "source": [
    "//// test\n",
    "\n",
    "eval I\n",
    "|> _assert_eq I\n",
    "\n",
    "eval (App (I, I))\n",
    "|> _assert_eq I\n",
    "\n",
    "eval (App (I, App (I, I)))\n",
    "|> _assert_eq I\n",
    "\n",
    "eval (App (App (I, I), I))\n",
    "|> _assert_eq I\n",
    "\n",
    "eval (App (App (App (I, I), I), I))\n",
    "|> _assert_eq I\n",
    "\n",
    "eval K\n",
    "|> _assert_eq K\n",
    "\n",
    "eval (App (K, I))\n",
    "|> _assert_eq (App (K, I))\n",
    "\n",
    "eval (App (K, K))\n",
    "|> _assert_eq (App (K, K))\n",
    "\n",
    "eval (App (App (K, I), K))\n",
    "|> _assert_eq I\n",
    "\n",
    "eval (App (App (K, K), I))\n",
    "|> _assert_eq K\n",
    "\n",
    "eval (App (App (App (App (K, K), I), S), K))\n",
    "|> _assert_eq S\n",
    "\n",
    "eval S\n",
    "|> _assert_eq S\n",
    "\n",
    "eval (App (App (App (S, I), I), I))\n",
    "|> _assert_eq I\n",
    "\n",
    "eval (App (App (App (S, K), K), I))\n",
    "|> _assert_eq I\n",
    "\n",
    "eval (App (App (App (S, K), I), (App (App (K, I), S))))\n",
    "|> _assert_eq I\n",
    "\n",
    "eval (App (App (K, S), App (I, App (App (App (S, K), S), I))))\n",
    "|> _assert_eq S\n",
    "\n",
    "eval (App (App (App (S, K), I), K))\n",
    "|> _assert_eq K"
   ]
  }
 ],
 "metadata": {},
 "nbformat": 4,
 "nbformat_minor": 5
}