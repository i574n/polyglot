{
 "cells": [
  {
   "cell_type": "markdown",
   "metadata": {},
   "source": [
    "# async"
   ]
  },
  {
   "cell_type": "code",
   "execution_count": null,
   "metadata": {
    "dotnet_interactive": {
     "language": "spiral"
    },
    "polyglot_notebook": {
     "kernelName": "spiral"
    }
   },
   "outputs": [],
   "source": [
    "//// test\n",
    "\n",
    "open testing"
   ]
  },
  {
   "cell_type": "code",
   "execution_count": null,
   "metadata": {
    "dotnet_interactive": {
     "language": "spiral"
    },
    "polyglot_notebook": {
     "kernelName": "spiral"
    }
   },
   "outputs": [],
   "source": [
    "open rust\n",
    "open rust_operators"
   ]
  },
  {
   "cell_type": "markdown",
   "metadata": {},
   "source": [
    "## rust"
   ]
  },
  {
   "cell_type": "markdown",
   "metadata": {},
   "source": [
    "### future"
   ]
  },
  {
   "cell_type": "code",
   "execution_count": null,
   "metadata": {
    "dotnet_interactive": {
     "language": "spiral"
    },
    "polyglot_notebook": {
     "kernelName": "spiral"
    }
   },
   "outputs": [],
   "source": [
    "nominal future t =\n",
    "    `(\n",
    "        global \"#if FABLE_COMPILER\\n[<Fable.Core.Erase; Fable.Core.Emit(\\\"std::future::Future<Output = $0>\\\")>]\\n#endif\\ntype std_future_Future<'T> = class end\"\n",
    "        $'' : $'std_future_Future<`t>'\n",
    "    )"
   ]
  },
  {
   "cell_type": "markdown",
   "metadata": {},
   "source": [
    "### future_pin"
   ]
  },
  {
   "cell_type": "code",
   "execution_count": null,
   "metadata": {
    "dotnet_interactive": {
     "language": "spiral"
    },
    "polyglot_notebook": {
     "kernelName": "spiral"
    }
   },
   "outputs": [],
   "source": [
    "type future_pin t = rust.pin (rust.box (rust.dyn' (future t)))"
   ]
  },
  {
   "cell_type": "markdown",
   "metadata": {},
   "source": [
    "### future_pin_send"
   ]
  },
  {
   "cell_type": "code",
   "execution_count": null,
   "metadata": {
    "dotnet_interactive": {
     "language": "spiral"
    },
    "polyglot_notebook": {
     "kernelName": "spiral"
    }
   },
   "outputs": [],
   "source": [
    "type future_pin_send t = rust.pin (rust.box (rust.send (rust.dyn' (future t))))"
   ]
  },
  {
   "cell_type": "markdown",
   "metadata": {},
   "source": [
    "### block_on"
   ]
  },
  {
   "cell_type": "code",
   "execution_count": null,
   "metadata": {
    "dotnet_interactive": {
     "language": "spiral"
    },
    "polyglot_notebook": {
     "kernelName": "spiral"
    }
   },
   "outputs": [],
   "source": [
    "inl block_on forall t. (fn : future_pin t) : t =\n",
    "    inl runtime : infer =\n",
    "        !\\($'$\"tokio::runtime::Builder::new_multi_thread().enable_all().build().unwrap()\"')\n",
    "    !\\\\(fn, $'\"!runtime.handle().block_on($0)\"')"
   ]
  },
  {
   "cell_type": "markdown",
   "metadata": {},
   "source": [
    "### block_on'"
   ]
  },
  {
   "cell_type": "code",
   "execution_count": null,
   "metadata": {
    "dotnet_interactive": {
     "language": "spiral"
    },
    "polyglot_notebook": {
     "kernelName": "spiral"
    }
   },
   "outputs": [],
   "source": [
    "inl block_on' forall t. (fn : future_pin t) : t =\n",
    "    !\\\\(fn, $'\"futures_lite::future::block_on($0)\"')"
   ]
  },
  {
   "cell_type": "markdown",
   "metadata": {},
   "source": [
    "### block_on''"
   ]
  },
  {
   "cell_type": "code",
   "execution_count": null,
   "metadata": {
    "dotnet_interactive": {
     "language": "spiral"
    },
    "polyglot_notebook": {
     "kernelName": "spiral"
    }
   },
   "outputs": [],
   "source": [
    "inl block_on'' forall t. (fn : future_pin t) : t =\n",
    "    !\\\\(fn, $'\"futures::executor::block_on($0)\"')"
   ]
  },
  {
   "cell_type": "markdown",
   "metadata": {},
   "source": [
    "### block_on'''"
   ]
  },
  {
   "cell_type": "code",
   "execution_count": null,
   "metadata": {
    "dotnet_interactive": {
     "language": "spiral"
    },
    "polyglot_notebook": {
     "kernelName": "spiral"
    }
   },
   "outputs": [],
   "source": [
    "inl block_on''' forall t. (fn : future_pin t) : t =\n",
    "    !\\\\(fn, $'\"async_std::task::block_on($0)\"')"
   ]
  },
  {
   "cell_type": "markdown",
   "metadata": {},
   "source": [
    "### block_on_send"
   ]
  },
  {
   "cell_type": "code",
   "execution_count": null,
   "metadata": {
    "dotnet_interactive": {
     "language": "spiral"
    },
    "polyglot_notebook": {
     "kernelName": "spiral"
    }
   },
   "outputs": [],
   "source": [
    "inl block_on_send forall t. (fn : future_pin_send t) : t =\n",
    "    !\\($'\"tokio::runtime::block_on(!fn)\"')"
   ]
  },
  {
   "cell_type": "markdown",
   "metadata": {},
   "source": [
    "### stream_ext"
   ]
  },
  {
   "cell_type": "code",
   "execution_count": null,
   "metadata": {
    "dotnet_interactive": {
     "language": "spiral"
    },
    "polyglot_notebook": {
     "kernelName": "spiral"
    }
   },
   "outputs": [],
   "source": [
    "nominal stream_ext =\n",
    "    `(\n",
    "        global \"#if FABLE_COMPILER\\n[<Fable.Core.Erase; Fable.Core.Emit(\\\"tokio_stream::StreamExt\\\")>]\\n#endif\\ntype tokio_stream_StreamExt = class end\"\n",
    "        $'' : $'tokio_stream_StreamExt'\n",
    "    )"
   ]
  },
  {
   "cell_type": "markdown",
   "metadata": {},
   "source": [
    "### join_handle"
   ]
  },
  {
   "cell_type": "code",
   "execution_count": null,
   "metadata": {
    "dotnet_interactive": {
     "language": "spiral"
    },
    "polyglot_notebook": {
     "kernelName": "spiral"
    }
   },
   "outputs": [],
   "source": [
    "nominal join_handle t =\n",
    "    `(\n",
    "        global \"#if FABLE_COMPILER\\n[<Fable.Core.Erase; Fable.Core.Emit(\\\"tokio::task::JoinHandle<$0>\\\")>]\\n#endif\\ntype tokio_task_JoinHandle<'T> = class end\"\n",
    "        $'' : $'tokio_task_JoinHandle<`t>'\n",
    "    )"
   ]
  },
  {
   "cell_type": "markdown",
   "metadata": {},
   "source": [
    "### spawn"
   ]
  },
  {
   "cell_type": "code",
   "execution_count": null,
   "metadata": {
    "dotnet_interactive": {
     "language": "spiral"
    },
    "polyglot_notebook": {
     "kernelName": "spiral"
    }
   },
   "outputs": [],
   "source": [
    "inl spawn forall t. (fn : future_pin_send t) : join_handle t =\n",
    "    !\\($'\"tokio::runtime::spawn(!fn)\"')"
   ]
  },
  {
   "cell_type": "markdown",
   "metadata": {},
   "source": [
    "### try_join_all"
   ]
  },
  {
   "cell_type": "code",
   "execution_count": null,
   "metadata": {
    "dotnet_interactive": {
     "language": "spiral"
    },
    "polyglot_notebook": {
     "kernelName": "spiral"
    }
   },
   "outputs": [],
   "source": [
    "nominal try_join_all t =\n",
    "    `(\n",
    "        global \"#if FABLE_COMPILER\\n[<Fable.Core.Erase; Fable.Core.Emit(\\\"futures::future::TryJoinAll<$0>\\\")>]\\n#endif\\ntype futures_future_TryJoinAll<'T> = class end\"\n",
    "        $'' : $'futures_future_TryJoinAll<`t>'\n",
    "    )\n",
    "\n",
    "inl try_join_all forall t. (x : am'.vec (future_pin (resultm.result' t sm'.std_string))) : try_join_all (future_pin (resultm.result' t sm'.std_string)) =\n",
    "    inl x = join x\n",
    "    !\\($'\"futures::future::try_join_all(!x)\"')"
   ]
  },
  {
   "cell_type": "markdown",
   "metadata": {},
   "source": [
    "### fuse"
   ]
  },
  {
   "cell_type": "code",
   "execution_count": null,
   "metadata": {
    "dotnet_interactive": {
     "language": "spiral"
    },
    "polyglot_notebook": {
     "kernelName": "spiral"
    }
   },
   "outputs": [],
   "source": [
    "nominal fuse t =\n",
    "    `(\n",
    "        global \"#if FABLE_COMPILER\\n[<Fable.Core.Erase; Fable.Core.Emit(\\\"tokio::prelude::stream::Fuse<$0>\\\")>]\\n#endif\\ntype tokio_prelude_stream_Fuse<'T> = class end\"\n",
    "        $'' : $'tokio_prelude_stream_Fuse<`t>'\n",
    "    )"
   ]
  },
  {
   "cell_type": "markdown",
   "metadata": {},
   "source": [
    "### future_fuse"
   ]
  },
  {
   "cell_type": "code",
   "execution_count": null,
   "metadata": {
    "dotnet_interactive": {
     "language": "spiral"
    },
    "polyglot_notebook": {
     "kernelName": "spiral"
    }
   },
   "outputs": [],
   "source": [
    "inl future_fuse forall t. (x : future_pin t) : fuse (future_pin t) =\n",
    "    !\\($'\"futures::future::FutureExt::fuse(!x)\"')"
   ]
  },
  {
   "cell_type": "markdown",
   "metadata": {},
   "source": [
    "### join_all"
   ]
  },
  {
   "cell_type": "code",
   "execution_count": null,
   "metadata": {
    "dotnet_interactive": {
     "language": "spiral"
    },
    "polyglot_notebook": {
     "kernelName": "spiral"
    }
   },
   "outputs": [],
   "source": [
    "nominal join_all t =\n",
    "    `(\n",
    "        global \"#if FABLE_COMPILER\\n[<Fable.Core.Erase; Fable.Core.Emit(\\\"futures::future::JoinAll<$0>\\\")>]\\n#endif\\ntype futures_future_JoinAll<'T> = class end\"\n",
    "        $'' : $'futures_future_JoinAll<`t>'\n",
    "    )\n",
    "\n",
    "inl join_all forall t. (x : am'.vec (future_pin t)) : join_all (future_pin t) =\n",
    "    inl x = join x\n",
    "    !\\($'\"futures::future::join_all(!x)\"')"
   ]
  },
  {
   "cell_type": "markdown",
   "metadata": {},
   "source": [
    "### join_all_send"
   ]
  },
  {
   "cell_type": "code",
   "execution_count": null,
   "metadata": {
    "dotnet_interactive": {
     "language": "spiral"
    },
    "polyglot_notebook": {
     "kernelName": "spiral"
    }
   },
   "outputs": [],
   "source": [
    "inl join_all_send forall t. (x : am'.vec (future_pin_send t)) : join_all (future_pin_send t) =\n",
    "    inl x = join x\n",
    "    !\\($'\"futures::future::join_all(!x)\"')"
   ]
  },
  {
   "cell_type": "markdown",
   "metadata": {},
   "source": [
    "### await_handle"
   ]
  },
  {
   "cell_type": "code",
   "execution_count": null,
   "metadata": {
    "dotnet_interactive": {
     "language": "spiral"
    },
    "polyglot_notebook": {
     "kernelName": "spiral"
    }
   },
   "outputs": [],
   "source": [
    "inl await_handle forall t. (x : join_handle t) : t =\n",
    "    !\\($'\"!x.await\"')"
   ]
  },
  {
   "cell_type": "markdown",
   "metadata": {},
   "source": [
    "### await_all"
   ]
  },
  {
   "cell_type": "code",
   "execution_count": null,
   "metadata": {
    "dotnet_interactive": {
     "language": "spiral"
    },
    "polyglot_notebook": {
     "kernelName": "spiral"
    }
   },
   "outputs": [],
   "source": [
    "inl await_all forall t. (x : join_all (future_pin t)) : am'.vec t =\n",
    "    !\\($'\"!x.await\"')"
   ]
  },
  {
   "cell_type": "markdown",
   "metadata": {},
   "source": [
    "### await_all_send"
   ]
  },
  {
   "cell_type": "code",
   "execution_count": null,
   "metadata": {
    "dotnet_interactive": {
     "language": "spiral"
    },
    "polyglot_notebook": {
     "kernelName": "spiral"
    }
   },
   "outputs": [],
   "source": [
    "inl await_all_send forall t. (x : join_all (future_pin_send t)) : am'.vec t =\n",
    "    !\\($'\"!x.await\"')"
   ]
  },
  {
   "cell_type": "markdown",
   "metadata": {},
   "source": [
    "### try_await_all"
   ]
  },
  {
   "cell_type": "code",
   "execution_count": null,
   "metadata": {
    "dotnet_interactive": {
     "language": "spiral"
    },
    "polyglot_notebook": {
     "kernelName": "spiral"
    }
   },
   "outputs": [],
   "source": [
    "inl try_await_all forall t. (x : try_join_all (future_pin (resultm.result' t sm'.std_string))) : resultm.result' (am'.vec t) sm'.std_string =\n",
    "    !\\($'\"!x.await\"')"
   ]
  },
  {
   "cell_type": "markdown",
   "metadata": {},
   "source": [
    "### try_await_all_send"
   ]
  },
  {
   "cell_type": "code",
   "execution_count": null,
   "metadata": {
    "dotnet_interactive": {
     "language": "spiral"
    },
    "polyglot_notebook": {
     "kernelName": "spiral"
    }
   },
   "outputs": [],
   "source": [
    "inl try_await_all_send forall t. (x : try_join_all (future_pin_send (resultm.result' t sm'.std_string))) : resultm.result' (am'.vec t) sm'.std_string =\n",
    "    !\\($'\"!x.await\"')"
   ]
  },
  {
   "cell_type": "markdown",
   "metadata": {},
   "source": [
    "### await"
   ]
  },
  {
   "cell_type": "code",
   "execution_count": null,
   "metadata": {
    "dotnet_interactive": {
     "language": "spiral"
    },
    "polyglot_notebook": {
     "kernelName": "spiral"
    }
   },
   "outputs": [],
   "source": [
    "inl await forall t. (x : future_pin t) : t =\n",
    "    !\\($'\"!x.await\"')"
   ]
  },
  {
   "cell_type": "markdown",
   "metadata": {},
   "source": [
    "### await"
   ]
  },
  {
   "cell_type": "code",
   "execution_count": null,
   "metadata": {
    "dotnet_interactive": {
     "language": "spiral"
    },
    "polyglot_notebook": {
     "kernelName": "spiral"
    }
   },
   "outputs": [],
   "source": [
    "inl await_send forall t. (x : future_pin_send t) : t =\n",
    "    !\\($'\"!x.await\"')"
   ]
  },
  {
   "cell_type": "markdown",
   "metadata": {},
   "source": [
    "### into_iter"
   ]
  },
  {
   "cell_type": "code",
   "execution_count": null,
   "metadata": {
    "dotnet_interactive": {
     "language": "spiral"
    },
    "polyglot_notebook": {
     "kernelName": "spiral"
    }
   },
   "outputs": [],
   "source": [
    "nominal into_iter t =\n",
    "    `(\n",
    "        global \"#if FABLE_COMPILER\\n[<Fable.Core.Erase; Fable.Core.Emit(\\\"rayon::vec::IntoIter<$0>\\\")>]\\n#endif\\ntype rayon_vec_IntoIter<'T> = class end\"\n",
    "        $'' : $'rayon_vec_IntoIter<`t>'\n",
    "    )"
   ]
  },
  {
   "cell_type": "markdown",
   "metadata": {},
   "source": [
    "### into_par_iter"
   ]
  },
  {
   "cell_type": "code",
   "execution_count": null,
   "metadata": {
    "dotnet_interactive": {
     "language": "spiral"
    },
    "polyglot_notebook": {
     "kernelName": "spiral"
    }
   },
   "outputs": [],
   "source": [
    "inl into_par_iter forall t. (x : am'.vec t) : into_iter t =\n",
    "    !\\($'\"rayon::iter::IntoParallelIterator::into_par_iter(!x)\"')"
   ]
  },
  {
   "cell_type": "markdown",
   "metadata": {},
   "source": [
    "### par_iter"
   ]
  },
  {
   "cell_type": "code",
   "execution_count": null,
   "metadata": {
    "dotnet_interactive": {
     "language": "spiral"
    },
    "polyglot_notebook": {
     "kernelName": "spiral"
    }
   },
   "outputs": [],
   "source": [
    "inl par_iter forall t. (x : am'.vec t) : into_iter t =\n",
    "    !\\($'\"rayon::iter::IntoParallelIterator::par_iter(!x)\"')"
   ]
  },
  {
   "cell_type": "markdown",
   "metadata": {},
   "source": [
    "### iter_map"
   ]
  },
  {
   "cell_type": "code",
   "execution_count": null,
   "metadata": {
    "dotnet_interactive": {
     "language": "spiral"
    },
    "polyglot_notebook": {
     "kernelName": "spiral"
    }
   },
   "outputs": [],
   "source": [
    "nominal iter_map t u =\n",
    "    `(\n",
    "        global \"#if FABLE_COMPILER\\n[<Fable.Core.Erase; Fable.Core.Emit(\\\"rayon::iter::Map<$0, _>\\\")>]\\n#endif\\ntype rayon_iter_Map<'T> = class end\"\n",
    "        $'' : $'rayon_iter_Map<`t>'\n",
    "    )"
   ]
  },
  {
   "cell_type": "markdown",
   "metadata": {},
   "source": [
    "### par_map"
   ]
  },
  {
   "cell_type": "code",
   "execution_count": null,
   "metadata": {
    "dotnet_interactive": {
     "language": "spiral"
    },
    "polyglot_notebook": {
     "kernelName": "spiral"
    }
   },
   "outputs": [],
   "source": [
    "inl par_map forall t u. (fn : t -> u) (ar : into_iter t) : iter_map (into_iter t) u =\n",
    "    !\\\\((ar, fn), $'\"rayon::iter::ParallelIterator::map($0, |x| $1(x))\"')"
   ]
  },
  {
   "cell_type": "markdown",
   "metadata": {},
   "source": [
    "### par_collect"
   ]
  },
  {
   "cell_type": "code",
   "execution_count": null,
   "metadata": {
    "dotnet_interactive": {
     "language": "spiral"
    },
    "polyglot_notebook": {
     "kernelName": "spiral"
    }
   },
   "outputs": [],
   "source": [
    "inl par_collect forall t u. (iter : iter_map (into_iter t) u) : am'.vec u =\n",
    "    !\\\\(iter, $'\"rayon::iter::ParallelIterator::collect($0)\"')"
   ]
  },
  {
   "cell_type": "markdown",
   "metadata": {},
   "source": [
    "### try_join_all_iter"
   ]
  },
  {
   "cell_type": "code",
   "execution_count": null,
   "metadata": {
    "dotnet_interactive": {
     "language": "spiral"
    },
    "polyglot_notebook": {
     "kernelName": "spiral"
    }
   },
   "outputs": [],
   "source": [
    "inl try_join_all_iter forall t. (x : am'.vec (future_pin_send (resultm.result' t sm'.std_string))) : try_join_all (future_pin_send (resultm.result' t sm'.std_string)) =\n",
    "    inl x = join x\n",
    "    !\\($'\"futures::future::try_join_all(!x)\"')"
   ]
  },
  {
   "cell_type": "markdown",
   "metadata": {},
   "source": [
    "### new_future"
   ]
  },
  {
   "cell_type": "code",
   "execution_count": null,
   "metadata": {
    "dotnet_interactive": {
     "language": "spiral"
    },
    "polyglot_notebook": {
     "kernelName": "spiral"
    }
   },
   "outputs": [],
   "source": [
    "inl new_future forall t. (x : () -> t) : future_pin t =\n",
    "    join\n",
    "        !\\($'\"{Box::pin(async { //\"')\n",
    "        x () |> fun x => join $'!x '\n",
    "        !\\($'\"}}) //\"')"
   ]
  },
  {
   "cell_type": "markdown",
   "metadata": {},
   "source": [
    "### new_future_move"
   ]
  },
  {
   "cell_type": "code",
   "execution_count": null,
   "metadata": {
    "dotnet_interactive": {
     "language": "spiral"
    },
    "polyglot_notebook": {
     "kernelName": "spiral"
    }
   },
   "outputs": [],
   "source": [
    "inl new_future_move forall t. (x : () -> t) : future_pin t =\n",
    "    join\n",
    "        !\\($'\"{Box::pin(async move { //\"')\n",
    "        x () |> fun x => join $'!x '\n",
    "        !\\($'\"}}) //\"')"
   ]
  },
  {
   "cell_type": "markdown",
   "metadata": {},
   "source": [
    "### future_init"
   ]
  },
  {
   "cell_type": "code",
   "execution_count": null,
   "metadata": {
    "dotnet_interactive": {
     "language": "spiral"
    },
    "polyglot_notebook": {
     "kernelName": "spiral"
    }
   },
   "outputs": [],
   "source": [
    "inl future_init forall t. (depth : (u8 * u8)) (flag : u8) (x : () -> t) : future_pin t =\n",
    "    // join\n",
    "    //     if flag = 1\n",
    "    //     then new_future_move x\n",
    "    //     else new_future x\n",
    "    if flag = 1\n",
    "    then !\\($'\"let __result = Box::pin(async move { //\"')\n",
    "    else !\\($'\"let __result = Box::pin(async { //\"')\n",
    "\n",
    "    let x' = x ()\n",
    "    inl x' = join x'\n",
    "\n",
    "    x' |> rust.fix_closure depth\n",
    "\n",
    "    !\\($'\"__result\"')"
   ]
  },
  {
   "cell_type": "markdown",
   "metadata": {},
   "source": [
    "### future_init_send"
   ]
  },
  {
   "cell_type": "code",
   "execution_count": null,
   "metadata": {
    "dotnet_interactive": {
     "language": "spiral"
    },
    "polyglot_notebook": {
     "kernelName": "spiral"
    }
   },
   "outputs": [],
   "source": [
    "inl future_init_send forall t. (depth : (u8 * u8)) (flag : u8) (x : () -> t) : future_pin_send t =\n",
    "    // join\n",
    "    //     if flag = 1\n",
    "    //     then new_future_move x\n",
    "    //     else new_future x\n",
    "    join\n",
    "        if flag = 1\n",
    "        then !\\($'\"let __result = Box::pin(async move { //\"')\n",
    "        else !\\($'\"let __result = Box::pin(async { //\"')\n",
    "\n",
    "        let x' = x ()\n",
    "        inl x' = join x'\n",
    "\n",
    "        x' |> rust.fix_closure depth\n",
    "\n",
    "        !\\($'\"__result\"')"
   ]
  },
  {
   "cell_type": "markdown",
   "metadata": {},
   "source": [
    "### new_future_move_init"
   ]
  },
  {
   "cell_type": "code",
   "execution_count": null,
   "metadata": {
    "dotnet_interactive": {
     "language": "spiral"
    },
    "polyglot_notebook": {
     "kernelName": "spiral"
    }
   },
   "outputs": [],
   "source": [
    "inl new_future_move_init forall t. (depth : (u8 * u8)) (flag : u8) (x : () -> t) : future_pin t =\n",
    "    future_init depth flag x\n",
    "    // join\n",
    "    //     !\\($'\"{Box::pin(async move { //\"')\n",
    "    //     inl x' = x () |> fun x => join $'!x '\n",
    "    //         inl depth = depth |> fst\n",
    "    //         if depth = 1\n",
    "    //         then !\\($'\"!x' })\"')\n",
    "    //         elif depth = 2\n",
    "    //         then !\\($'\"!x' }})\"')\n",
    "    //         elif depth = 3\n",
    "    //         then !\\($'\"!x' }}})\"')\n",
    "    //         elif depth = 4\n",
    "    //         then !\\($'\"!x' }}}})\"')\n",
    "\n",
    "    //         !\\($'\"// 1\"')"
   ]
  },
  {
   "cell_type": "markdown",
   "metadata": {},
   "source": [
    "## fsharp"
   ]
  },
  {
   "cell_type": "markdown",
   "metadata": {},
   "source": [
    "### async"
   ]
  },
  {
   "cell_type": "code",
   "execution_count": null,
   "metadata": {
    "dotnet_interactive": {
     "language": "spiral"
    },
    "polyglot_notebook": {
     "kernelName": "spiral"
    }
   },
   "outputs": [],
   "source": [
    "nominal async t = $'Async<`t>'"
   ]
  },
  {
   "cell_type": "markdown",
   "metadata": {},
   "source": [
    "### task"
   ]
  },
  {
   "cell_type": "code",
   "execution_count": null,
   "metadata": {
    "dotnet_interactive": {
     "language": "spiral"
    },
    "polyglot_notebook": {
     "kernelName": "spiral"
    }
   },
   "outputs": [],
   "source": [
    "nominal task t =\n",
    "    `(\n",
    "        typecase t with\n",
    "        | () => $'' : $'System.Threading.Tasks.Task'\n",
    "        | _ => $'' : $'System.Threading.Tasks.Task<`t>'\n",
    "    )"
   ]
  },
  {
   "cell_type": "markdown",
   "metadata": {},
   "source": [
    "### new_async_unit"
   ]
  },
  {
   "cell_type": "code",
   "execution_count": null,
   "metadata": {
    "dotnet_interactive": {
     "language": "spiral"
    },
    "polyglot_notebook": {
     "kernelName": "spiral"
    }
   },
   "outputs": [],
   "source": [
    "inl new_async_unit forall t. (fn : () -> ()) : async t =\n",
    "    run_target function\n",
    "        | Fsharp (Native) => fun () =>\n",
    "            inl result : optionm'.option' (async t) = optionm'.none' ()\n",
    "            $'let mutable _!result = !result '\n",
    "            $'async {'\n",
    "            fn ()\n",
    "            $'}'\n",
    "            $'|> fun x -> _!result <- Some x'\n",
    "            $'match _!result with Some x -> x | None -> failwith \"async.new_async_unit / _!result=None\"'\n",
    "        | _ => fun () => null ()"
   ]
  },
  {
   "cell_type": "markdown",
   "metadata": {},
   "source": [
    "### new_async"
   ]
  },
  {
   "cell_type": "code",
   "execution_count": null,
   "metadata": {
    "dotnet_interactive": {
     "language": "spiral"
    },
    "polyglot_notebook": {
     "kernelName": "spiral"
    }
   },
   "outputs": [],
   "source": [
    "inl new_async forall t. (fn : () -> t) : async t =\n",
    "    new_async_unit (fn >> ignore)"
   ]
  },
  {
   "cell_type": "markdown",
   "metadata": {},
   "source": [
    "### new_task"
   ]
  },
  {
   "cell_type": "code",
   "execution_count": null,
   "metadata": {
    "dotnet_interactive": {
     "language": "spiral"
    },
    "polyglot_notebook": {
     "kernelName": "spiral"
    }
   },
   "outputs": [],
   "source": [
    "inl new_task forall t. (fn : () -> t) : task t =\n",
    "    run_target function\n",
    "        | Fsharp (Native) => fun () =>\n",
    "            inl result : optionm'.option' (task t) = optionm'.none' ()\n",
    "            $'let mutable _!result = !result '\n",
    "            $'task {'\n",
    "            fn () |> ignore\n",
    "            $'}'\n",
    "            $'|> fun x -> _!result <- Some x'\n",
    "            $'match _!result with Some x -> x | None -> failwith \"async.new_task / _!result=None\"'\n",
    "        | _ => fun () => null ()"
   ]
  },
  {
   "cell_type": "markdown",
   "metadata": {},
   "source": [
    "### await_task"
   ]
  },
  {
   "cell_type": "code",
   "execution_count": null,
   "metadata": {
    "dotnet_interactive": {
     "language": "spiral"
    },
    "polyglot_notebook": {
     "kernelName": "spiral"
    }
   },
   "outputs": [],
   "source": [
    "inl await_task forall t. (a : task t) : async t =\n",
    "    run_target function\n",
    "        | Fsharp (Native) => fun () =>\n",
    "            a |> $'Async.AwaitTask'\n",
    "        | _ => fun () => null ()"
   ]
  },
  {
   "cell_type": "markdown",
   "metadata": {},
   "source": [
    "### ignore"
   ]
  },
  {
   "cell_type": "code",
   "execution_count": null,
   "metadata": {
    "dotnet_interactive": {
     "language": "spiral"
    },
    "polyglot_notebook": {
     "kernelName": "spiral"
    }
   },
   "outputs": [],
   "source": [
    "inl ignore forall t. (a : async t) : async () =\n",
    "    run_target function\n",
    "        | Fsharp (Native) => fun () =>\n",
    "            a |> $'Async.Ignore'\n",
    "        | _ => fun () => null ()"
   ]
  },
  {
   "cell_type": "markdown",
   "metadata": {},
   "source": [
    "### run_synchronously"
   ]
  },
  {
   "cell_type": "code",
   "execution_count": null,
   "metadata": {
    "dotnet_interactive": {
     "language": "spiral"
    },
    "polyglot_notebook": {
     "kernelName": "spiral"
    }
   },
   "outputs": [],
   "source": [
    "inl run_synchronously forall t. (a : async t) : t =\n",
    "    run_target function\n",
    "        | Fsharp (Native) => fun () =>\n",
    "            a |> $'Async.RunSynchronously'\n",
    "        | _ => fun () => null ()"
   ]
  },
  {
   "cell_type": "markdown",
   "metadata": {},
   "source": [
    "### start"
   ]
  },
  {
   "cell_type": "code",
   "execution_count": null,
   "metadata": {
    "dotnet_interactive": {
     "language": "spiral"
    },
    "polyglot_notebook": {
     "kernelName": "spiral"
    }
   },
   "outputs": [],
   "source": [
    "inl start (a : async ()) : () =\n",
    "    run_target function\n",
    "        | Fsharp (Native) => fun () =>\n",
    "            a |> $'Async.Start'\n",
    "        | _ => fun () => null ()"
   ]
  },
  {
   "cell_type": "markdown",
   "metadata": {},
   "source": [
    "### start_child"
   ]
  },
  {
   "cell_type": "code",
   "execution_count": null,
   "metadata": {
    "dotnet_interactive": {
     "language": "spiral"
    },
    "polyglot_notebook": {
     "kernelName": "spiral"
    }
   },
   "outputs": [],
   "source": [
    "inl start_child forall t. (a : async t) : async (async t) =\n",
    "    run_target function\n",
    "        | Fsharp (Native) => fun () =>\n",
    "            a |> $'Async.StartChild'\n",
    "        | _ => fun () => null ()"
   ]
  },
  {
   "cell_type": "markdown",
   "metadata": {},
   "source": [
    "### start_child_timeout"
   ]
  },
  {
   "cell_type": "code",
   "execution_count": null,
   "metadata": {
    "dotnet_interactive": {
     "language": "spiral"
    },
    "polyglot_notebook": {
     "kernelName": "spiral"
    }
   },
   "outputs": [],
   "source": [
    "inl start_child_timeout forall t. (timeout : i32) (a : async t) : async (async t) =\n",
    "    run_target function\n",
    "        | Fsharp (Native) => fun () =>\n",
    "            $'Async.StartChild (!a, !timeout)'\n",
    "        | _ => fun () => null ()"
   ]
  },
  {
   "cell_type": "markdown",
   "metadata": {},
   "source": [
    "### start_immediate"
   ]
  },
  {
   "cell_type": "code",
   "execution_count": null,
   "metadata": {
    "dotnet_interactive": {
     "language": "spiral"
    },
    "polyglot_notebook": {
     "kernelName": "spiral"
    }
   },
   "outputs": [],
   "source": [
    "inl start_immediate forall t. (a : async t) : () =\n",
    "    run_target function\n",
    "        | Fsharp (Native) => fun () =>\n",
    "            a |> $'Async.StartImmediate'\n",
    "        | _ => fun () => null ()"
   ]
  },
  {
   "cell_type": "markdown",
   "metadata": {},
   "source": [
    "### task_canceled_exception"
   ]
  },
  {
   "cell_type": "code",
   "execution_count": null,
   "metadata": {
    "dotnet_interactive": {
     "language": "spiral"
    },
    "polyglot_notebook": {
     "kernelName": "spiral"
    }
   },
   "outputs": [],
   "source": [
    "nominal task_canceled_exception = $'System.Threading.Tasks.TaskCanceledException'"
   ]
  },
  {
   "cell_type": "markdown",
   "metadata": {},
   "source": [
    "### sleep"
   ]
  },
  {
   "cell_type": "code",
   "execution_count": null,
   "metadata": {
    "dotnet_interactive": {
     "language": "spiral"
    },
    "polyglot_notebook": {
     "kernelName": "spiral"
    }
   },
   "outputs": [],
   "source": [
    "inl sleep (ms : i32) : async () =\n",
    "    run_target function\n",
    "        | Fsharp (Native) => fun () =>\n",
    "            ms |> $'Async.Sleep'\n",
    "        | _ => fun () => null ()"
   ]
  },
  {
   "cell_type": "markdown",
   "metadata": {},
   "source": [
    "### do"
   ]
  },
  {
   "cell_type": "code",
   "execution_count": null,
   "metadata": {
    "dotnet_interactive": {
     "language": "spiral"
    },
    "polyglot_notebook": {
     "kernelName": "spiral"
    }
   },
   "outputs": [],
   "source": [
    "inl do (a : async ()) : () =\n",
    "    $'do\\! !a '"
   ]
  },
  {
   "cell_type": "markdown",
   "metadata": {},
   "source": [
    "### let'"
   ]
  },
  {
   "cell_type": "code",
   "execution_count": null,
   "metadata": {
    "dotnet_interactive": {
     "language": "spiral"
    },
    "polyglot_notebook": {
     "kernelName": "spiral"
    }
   },
   "outputs": [],
   "source": [
    "inl let' forall t. (a : async t) : t =\n",
    "    $'let\\! !a = !a '\n",
    "    $'!a '"
   ]
  },
  {
   "cell_type": "markdown",
   "metadata": {},
   "source": [
    "### return_await"
   ]
  },
  {
   "cell_type": "code",
   "execution_count": null,
   "metadata": {
    "dotnet_interactive": {
     "language": "spiral"
    },
    "polyglot_notebook": {
     "kernelName": "spiral"
    }
   },
   "outputs": [],
   "source": [
    "inl return_await forall t. (a : async t) : () =\n",
    "    $'return\\! !a '"
   ]
  },
  {
   "cell_type": "markdown",
   "metadata": {},
   "source": [
    "### return_await'"
   ]
  },
  {
   "cell_type": "code",
   "execution_count": null,
   "metadata": {
    "dotnet_interactive": {
     "language": "spiral"
    },
    "polyglot_notebook": {
     "kernelName": "spiral"
    }
   },
   "outputs": [],
   "source": [
    "inl return_await' forall t. (a : async t) : t =\n",
    "    $'return\\! !a '"
   ]
  },
  {
   "cell_type": "markdown",
   "metadata": {},
   "source": [
    "### map"
   ]
  },
  {
   "cell_type": "code",
   "execution_count": null,
   "metadata": {
    "dotnet_interactive": {
     "language": "spiral"
    },
    "polyglot_notebook": {
     "kernelName": "spiral"
    }
   },
   "outputs": [],
   "source": [
    "inl map forall t u. (fn : t -> u) (a : async t) : async u =\n",
    "    fun () =>\n",
    "        inl x = a |> let'\n",
    "        fn x |> return\n",
    "    |> new_async_unit"
   ]
  },
  {
   "cell_type": "markdown",
   "metadata": {},
   "source": [
    "### catch'"
   ]
  },
  {
   "cell_type": "code",
   "execution_count": null,
   "metadata": {
    "dotnet_interactive": {
     "language": "spiral"
    },
    "polyglot_notebook": {
     "kernelName": "spiral"
    }
   },
   "outputs": [],
   "source": [
    "inl catch' forall t e. (a : async t) : async (choice2' t e) =\n",
    "    run_target function\n",
    "        | Fsharp (Native) => fun () =>\n",
    "            a |> $'Async.Catch'\n",
    "        | _ => fun () => null ()"
   ]
  },
  {
   "cell_type": "markdown",
   "metadata": {},
   "source": [
    "### catch"
   ]
  },
  {
   "cell_type": "code",
   "execution_count": null,
   "metadata": {
    "dotnet_interactive": {
     "language": "spiral"
    },
    "polyglot_notebook": {
     "kernelName": "spiral"
    }
   },
   "outputs": [],
   "source": [
    "inl catch forall t e. (a : async t) : async (result t e) =\n",
    "    a\n",
    "    |> catch'\n",
    "    |> map choice2_unbox\n",
    "    |> map function\n",
    "        | C1of2 result => Ok result\n",
    "        | C2of2 ex => Error ex"
   ]
  },
  {
   "cell_type": "markdown",
   "metadata": {},
   "source": [
    "### run_with_timeout_async"
   ]
  },
  {
   "cell_type": "code",
   "execution_count": null,
   "metadata": {
    "dotnet_interactive": {
     "language": "spiral"
    },
    "polyglot_notebook": {
     "kernelName": "spiral"
    }
   },
   "outputs": [],
   "source": [
    "inl run_with_timeout_async forall t. (timeout : i32) (fn : async t) : async (option t) =\n",
    "    run_target function\n",
    "        | Fsharp (Native) => fun () =>\n",
    "            fun () =>\n",
    "                inl child = fn |> start_child_timeout timeout |> let'\n",
    "                child\n",
    "                |> catch\n",
    "                |> map function\n",
    "                    | Ok result => Some result\n",
    "                    | Error ex when ex |> sm'.format_debug |> sm'.contains \"System.TimeoutException\" =>\n",
    "                        trace Verbose\n",
    "                            fun () => $'\"async.run_with_timeout_async\"'\n",
    "                            fun () => { timeout }\n",
    "                        None\n",
    "                    | Error (ex : exn) =>\n",
    "                        trace Critical\n",
    "                            fun () => $'$\"async.run_with_timeout_async**\"'\n",
    "                            fun () => { timeout ex = ex |> sm'.format_exception }\n",
    "                        None\n",
    "                |> return_await\n",
    "            |> new_async_unit\n",
    "        | _ => fun () => null ()"
   ]
  },
  {
   "cell_type": "markdown",
   "metadata": {},
   "source": [
    "### run_with_timeout"
   ]
  },
  {
   "cell_type": "code",
   "execution_count": null,
   "metadata": {
    "dotnet_interactive": {
     "language": "spiral"
    },
    "polyglot_notebook": {
     "kernelName": "spiral"
    }
   },
   "outputs": [],
   "source": [
    "inl run_with_timeout timeout fn =\n",
    "    fn\n",
    "    |> run_with_timeout_async timeout\n",
    "    |> run_synchronously"
   ]
  },
  {
   "cell_type": "markdown",
   "metadata": {},
   "source": [
    "### cancellation_token"
   ]
  },
  {
   "cell_type": "code",
   "execution_count": null,
   "metadata": {
    "dotnet_interactive": {
     "language": "spiral"
    },
    "polyglot_notebook": {
     "kernelName": "spiral"
    }
   },
   "outputs": [],
   "source": [
    "inl cancellation_token () : async threading.cancellation_token =\n",
    "    $'Async.CancellationToken'"
   ]
  },
  {
   "cell_type": "code",
   "execution_count": null,
   "metadata": {
    "dotnet_interactive": {
     "language": "spiral"
    },
    "polyglot_notebook": {
     "kernelName": "spiral"
    }
   },
   "outputs": [],
   "source": [
    "inl default_cancellation_token () : threading.cancellation_token =\n",
    "    $'Async.DefaultCancellationToken'"
   ]
  },
  {
   "cell_type": "markdown",
   "metadata": {},
   "source": [
    "### merge_cancellation_token_with_default_async"
   ]
  },
  {
   "cell_type": "code",
   "execution_count": null,
   "metadata": {
    "dotnet_interactive": {
     "language": "spiral"
    },
    "polyglot_notebook": {
     "kernelName": "spiral"
    }
   },
   "outputs": [],
   "source": [
    "inl merge_cancellation_token_with_default_async\n",
    "    (token : threading.cancellation_token)\n",
    "    : async threading.cancellation_token\n",
    "    =\n",
    "    run_target function\n",
    "        | Fsharp (Native) => fun () =>\n",
    "            fun () =>\n",
    "                inl ct = cancellation_token () |> let'\n",
    "                inl dct = default_cancellation_token ()\n",
    "                inl cts = threading.create_linked_token_source ;[ ct; dct; token ]\n",
    "                cts |> threading.cancellation_source_token |> return\n",
    "            |> new_async_unit\n",
    "        | _ => fun () => null ()"
   ]
  },
  {
   "cell_type": "markdown",
   "metadata": {},
   "source": [
    "### with_trace_level"
   ]
  },
  {
   "cell_type": "code",
   "execution_count": null,
   "metadata": {
    "dotnet_interactive": {
     "language": "spiral"
    },
    "polyglot_notebook": {
     "kernelName": "spiral"
    }
   },
   "outputs": [],
   "source": [
    "inl with_trace_level forall t. level fn : _ t = new_async fun () =>\n",
    "    inl trace_state = get_trace_state_or_init None\n",
    "    inl old_trace_level = *trace_state.level\n",
    "    inl trace_level = trace_state.level\n",
    "    try_finally\n",
    "        fun () =>\n",
    "            trace_level <- level\n",
    "            fn |> return_await\n",
    "        fun () =>\n",
    "            trace_level <- old_trace_level"
   ]
  },
  {
   "cell_type": "markdown",
   "metadata": {},
   "source": [
    "### value_task"
   ]
  },
  {
   "cell_type": "code",
   "execution_count": null,
   "metadata": {
    "dotnet_interactive": {
     "language": "spiral"
    },
    "polyglot_notebook": {
     "kernelName": "spiral"
    }
   },
   "outputs": [],
   "source": [
    "nominal value_task = $'System.Threading.Tasks.ValueTask'"
   ]
  },
  {
   "cell_type": "markdown",
   "metadata": {},
   "source": [
    "### value_task_as_task"
   ]
  },
  {
   "cell_type": "code",
   "execution_count": null,
   "metadata": {
    "dotnet_interactive": {
     "language": "spiral"
    },
    "polyglot_notebook": {
     "kernelName": "spiral"
    }
   },
   "outputs": [],
   "source": [
    "inl value_task_as_task (task : value_task) : task () =\n",
    "    $'!task.AsTask' ()"
   ]
  },
  {
   "cell_type": "markdown",
   "metadata": {},
   "source": [
    "### await_value_task_unit"
   ]
  },
  {
   "cell_type": "code",
   "execution_count": null,
   "metadata": {
    "dotnet_interactive": {
     "language": "spiral"
    },
    "polyglot_notebook": {
     "kernelName": "spiral"
    }
   },
   "outputs": [],
   "source": [
    "inl await_value_task_unit (task : value_task) : async () =\n",
    "    task |> value_task_as_task |> await_task"
   ]
  },
  {
   "cell_type": "markdown",
   "metadata": {},
   "source": [
    "## main"
   ]
  },
  {
   "cell_type": "code",
   "execution_count": null,
   "metadata": {
    "dotnet_interactive": {
     "language": "spiral"
    },
    "polyglot_notebook": {
     "kernelName": "spiral"
    }
   },
   "outputs": [],
   "source": [
    "inl main () =\n",
    "    $'let merge_cancellation_token_with_default_async x = !merge_cancellation_token_with_default_async x' : ()"
   ]
  }
 ],
 "metadata": {},
 "nbformat": 4,
 "nbformat_minor": 5
}