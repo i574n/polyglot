{
 "cells": [
  {
   "cell_type": "markdown",
   "metadata": {},
   "source": [
    "# sm'"
   ]
  },
  {
   "cell_type": "code",
   "execution_count": null,
   "metadata": {
    "dotnet_interactive": {
     "language": "spiral"
    },
    "polyglot_notebook": {
     "kernelName": "spiral"
    }
   },
   "outputs": [],
   "source": [
    "//// test\n",
    "\n",
    "open testing"
   ]
  },
  {
   "cell_type": "code",
   "execution_count": null,
   "metadata": {
    "dotnet_interactive": {
     "language": "spiral"
    },
    "polyglot_notebook": {
     "kernelName": "spiral"
    }
   },
   "outputs": [],
   "source": [
    "open rust_operators\n",
    "open real_sm'"
   ]
  },
  {
   "cell_type": "markdown",
   "metadata": {},
   "source": [
    "## types"
   ]
  },
  {
   "cell_type": "code",
   "execution_count": null,
   "metadata": {
    "dotnet_interactive": {
     "language": "spiral"
    },
    "polyglot_notebook": {
     "kernelName": "spiral"
    }
   },
   "outputs": [],
   "source": [
    "inl types () =\n",
    "    backend_switch {\n",
    "        Fsharp = fun () =>\n",
    "            global \"#if FABLE_COMPILER\\n[<Fable.Core.Erase; Fable.Core.Emit(\\\"str\\\")>]\\n#endif\\ntype Str = class end\"\n",
    "            global \"#if FABLE_COMPILER\\n[<Fable.Core.Erase; Fable.Core.Emit(\\\"base64::DecodeError\\\")>]\\n#endif\\ntype base64_DecodeError = class end\"\n",
    "            global \"#if FABLE_COMPILER\\n[<Fable.Core.Erase; Fable.Core.Emit(\\\"borsh::io::Error\\\")>]\\n#endif\\ntype borsh_io_Error = class end\"\n",
    "            global \"#if FABLE_COMPILER\\n[<Fable.Core.Erase; Fable.Core.Emit(\\\"encoding_rs::Encoding\\\")>]\\n#endif\\ntype encoding_rs_Encoding = class end\"\n",
    "            global \"#if FABLE_COMPILER\\n[<Fable.Core.Erase; Fable.Core.Emit(\\\"js_sys::JsString\\\")>]\\n#endif\\ntype js_sys_JsString = class end\"\n",
    "            global \"#if FABLE_COMPILER\\n[<Fable.Core.Erase; Fable.Core.Emit(\\\"serde_json::Error\\\")>]\\n#endif\\ntype serde_json_Error = class end\"\n",
    "            global \"#if FABLE_COMPILER\\n[<Fable.Core.Erase; Fable.Core.Emit(\\\"serde_json::Value\\\")>]\\n#endif\\ntype serde_json_Value = class end\"\n",
    "            global \"#if FABLE_COMPILER\\n[<Fable.Core.Erase; Fable.Core.Emit(\\\"serde_wasm_bindgen::Error\\\")>]\\n#endif\\ntype serde_wasm_bindgen_Error = class end\"\n",
    "            global \"#if FABLE_COMPILER\\n[<Fable.Core.Erase; Fable.Core.Emit(\\\"std::ffi::OsStr\\\")>]\\n#endif\\ntype std_ffi_OsStr = class end\"\n",
    "            global \"#if FABLE_COMPILER\\n[<Fable.Core.Erase; Fable.Core.Emit(\\\"std::ffi::OsString\\\")>]\\n#endif\\ntype std_ffi_OsString = class end\"\n",
    "            global \"#if FABLE_COMPILER\\n[<Fable.Core.Erase; Fable.Core.Emit(\\\"std::fmt::Display<$0>\\\")>]\\n#endif\\ntype std_fmt_Display<'T> = class end\"\n",
    "            global \"#if FABLE_COMPILER\\n[<Fable.Core.Erase; Fable.Core.Emit(\\\"std::str::Utf8Error\\\")>]\\n#endif\\ntype std_str_Utf8Error = class end\"\n",
    "            global \"#if FABLE_COMPILER\\n[<Fable.Core.Erase; Fable.Core.Emit(\\\"std::string::FromUtf8Error\\\")>]\\n#endif\\ntype std_string_FromUtf8Error = class end\"\n",
    "            global \"#if FABLE_COMPILER\\n[<Fable.Core.Erase; Fable.Core.Emit(\\\"std::string::String\\\")>]\\n#endif\\ntype std_string_String = class end\"\n",
    "            global \"#if FABLE_COMPILER\\n[<Fable.Core.Erase; Fable.Core.Emit(\\\"std::slice::Windows<$0>\\\")>]\\n#endif\\ntype std_slice_Windows<'T> = class end\"\n",
    "            global \"#if FABLE_COMPILER\\n[<Fable.Core.Erase; Fable.Core.Emit(\\\"regex::Regex\\\")>]\\n#endif\\ntype regex_Regex = class end\"\n",
    "            global \"#if FABLE_COMPILER\\n[<Fable.Core.Erase; Fable.Core.Emit(\\\"regex::Captures<$0>\\\")>]\\n#endif\\ntype regex_Captures<'T> = class end\"\n",
    "            global \"#if FABLE_COMPILER\\n[<Fable.Core.Erase; Fable.Core.Emit(\\\"regex::CaptureMatches\\\")>]\\n#endif\\ntype regex_CaptureMatches = class end\"\n",
    "            global \"#if FABLE_COMPILER\\n[<Fable.Core.Erase; Fable.Core.Emit(\\\"regex::CaptureNames\\\")>]\\n#endif\\ntype regex_CaptureNames = class end\"\n",
    "            global \"#if FABLE_COMPILER\\n[<Fable.Core.Erase; Fable.Core.Emit(\\\"regex::Match\\\")>]\\n#endif\\ntype regex_Match = class end\"\n",
    "            global \"#if FABLE_COMPILER\\n[<Fable.Core.Erase; Fable.Core.Emit(\\\"regex::Error\\\")>]\\n#endif\\ntype regex_Error = class end\"\n",
    "        Python = fun () => ()\n",
    "    }"
   ]
  },
  {
   "cell_type": "code",
   "execution_count": null,
   "metadata": {
    "dotnet_interactive": {
     "language": "spiral"
    },
    "polyglot_notebook": {
     "kernelName": "spiral"
    }
   },
   "outputs": [],
   "source": [
    "inl types () =\n",
    "    rust.types ()\n",
    "    mapm.types ()\n",
    "    am'.types ()\n",
    "    types ()"
   ]
  },
  {
   "cell_type": "markdown",
   "metadata": {},
   "source": [
    "## sm'"
   ]
  },
  {
   "cell_type": "markdown",
   "metadata": {},
   "source": [
    "### symbol_to_string"
   ]
  },
  {
   "cell_type": "code",
   "execution_count": null,
   "metadata": {
    "dotnet_interactive": {
     "language": "spiral"
    },
    "polyglot_notebook": {
     "kernelName": "spiral"
    }
   },
   "outputs": [],
   "source": [
    "//// real\n",
    "\n",
    "inl symbol_to_string forall t {symbol}. : string =\n",
    "    // inl x = real_core.type_lit_to_lit `t\n",
    "    // inl x = real_core.type_to_symbol `t\n",
    "    // inl x = real_core.type_lit_to_lit `t\n",
    "    // !!!!SymbolToString (`(`t))\n",
    "    inl x = real_core.type_to_symbol `t\n",
    "    !!!!SymbolToString (x)"
   ]
  },
  {
   "cell_type": "code",
   "execution_count": null,
   "metadata": {
    "dotnet_interactive": {
     "language": "spiral"
    },
    "polyglot_notebook": {
     "kernelName": "spiral"
    }
   },
   "outputs": [],
   "source": [
    "inl symbol_to_string forall t {symbol}. (x : t) : string =\n",
    "    real symbol_to_string `t"
   ]
  },
  {
   "cell_type": "code",
   "execution_count": null,
   "metadata": {
    "dotnet_interactive": {
     "language": "spiral"
    },
    "polyglot_notebook": {
     "kernelName": "spiral"
    }
   },
   "outputs": [
    {
     "name": "stdout",
     "output_type": "stream",
     "text": [
      "assert_eq / actual: \"test\" / expected: \"test\"\n"
     ]
    }
   ],
   "source": [
    "//// test\n",
    "\n",
    ".test\n",
    "|> symbol_to_string\n",
    "|> _assert_eq \"test\""
   ]
  },
  {
   "cell_type": "code",
   "execution_count": null,
   "metadata": {
    "dotnet_interactive": {
     "language": "spiral"
    },
    "polyglot_notebook": {
     "kernelName": "spiral"
    }
   },
   "outputs": [
    {
     "name": "stdout",
     "output_type": "stream",
     "text": [
      "assert_eq / actual: \"test\" / expected: \"test\"\n"
     ]
    }
   ],
   "source": [
    "//// test\n",
    "//// real\n",
    "\n",
    "open testing\n",
    "inl x = .test\n",
    "inl x = symbol_to_string `(`x)\n",
    "_assert_eq `string \"test\" x"
   ]
  },
  {
   "cell_type": "markdown",
   "metadata": {},
   "source": [
    "### index"
   ]
  },
  {
   "cell_type": "code",
   "execution_count": null,
   "metadata": {
    "dotnet_interactive": {
     "language": "spiral"
    },
    "polyglot_notebook": {
     "kernelName": "spiral"
    }
   },
   "outputs": [],
   "source": [
    "inl index i (str : string) : char =\n",
    "    sm.index str i"
   ]
  },
  {
   "cell_type": "markdown",
   "metadata": {},
   "source": [
    "### to_char_array"
   ]
  },
  {
   "cell_type": "code",
   "execution_count": null,
   "metadata": {
    "dotnet_interactive": {
     "language": "spiral"
    },
    "polyglot_notebook": {
     "kernelName": "spiral"
    }
   },
   "outputs": [],
   "source": [
    "inl to_char_array (str : string) : a int char =\n",
    "    am.init (str |> sm.length) (fun i => str |> index i)"
   ]
  },
  {
   "cell_type": "code",
   "execution_count": null,
   "metadata": {
    "dotnet_interactive": {
     "language": "spiral"
    },
    "polyglot_notebook": {
     "kernelName": "spiral"
    }
   },
   "outputs": [
    {
     "name": "stdout",
     "output_type": "stream",
     "text": [
      "assert_eq / actual: [|'a'; 'b'; 'c'|] / expected: [|'a'; 'b'; 'c'|]\n"
     ]
    }
   ],
   "source": [
    "//// test\n",
    "\n",
    "\"abc\"\n",
    "|> to_char_array\n",
    "|> _assert_eq (a ;[ 'a'; 'b'; 'c' ])"
   ]
  },
  {
   "cell_type": "markdown",
   "metadata": {},
   "source": [
    "### length"
   ]
  },
  {
   "cell_type": "code",
   "execution_count": null,
   "metadata": {
    "dotnet_interactive": {
     "language": "spiral"
    },
    "polyglot_notebook": {
     "kernelName": "spiral"
    }
   },
   "outputs": [],
   "source": [
    "inl length forall dim {int}. (input : string) : dim =\n",
    "    input |> sm.length"
   ]
  },
  {
   "cell_type": "markdown",
   "metadata": {},
   "source": [
    "### to_char_list"
   ]
  },
  {
   "cell_type": "code",
   "execution_count": null,
   "metadata": {
    "dotnet_interactive": {
     "language": "spiral"
    },
    "polyglot_notebook": {
     "kernelName": "spiral"
    }
   },
   "outputs": [],
   "source": [
    "inl to_char_list (str : string) : list char =\n",
    "    listm.init (str |> length) (fun (i : i64) => str |> index i)"
   ]
  },
  {
   "cell_type": "code",
   "execution_count": null,
   "metadata": {
    "dotnet_interactive": {
     "language": "spiral"
    },
    "polyglot_notebook": {
     "kernelName": "spiral"
    }
   },
   "outputs": [
    {
     "name": "stdout",
     "output_type": "stream",
     "text": [
      "assert_eq / actual: UH0_1 ('a', UH0_1 ('b', UH0_1 ('c', UH0_0))) / expected: UH0_1 ('a', UH0_1 ('b', UH0_1 ('c', UH0_0)))\n"
     ]
    }
   ],
   "source": [
    "//// test\n",
    "\n",
    "\"abc\"\n",
    "|> to_char_list\n",
    "|> _assert_eq [ 'a'; 'b'; 'c' ]"
   ]
  },
  {
   "cell_type": "markdown",
   "metadata": {},
   "source": [
    "### is_empty"
   ]
  },
  {
   "cell_type": "code",
   "execution_count": null,
   "metadata": {
    "dotnet_interactive": {
     "language": "spiral"
    },
    "polyglot_notebook": {
     "kernelName": "spiral"
    }
   },
   "outputs": [],
   "source": [
    "inl is_empty (input : string) : bool =\n",
    "    length input = 0i32"
   ]
  },
  {
   "cell_type": "markdown",
   "metadata": {},
   "source": [
    "### slice"
   ]
  },
  {
   "cell_type": "code",
   "execution_count": null,
   "metadata": {
    "dotnet_interactive": {
     "language": "spiral"
    },
    "polyglot_notebook": {
     "kernelName": "spiral"
    }
   },
   "outputs": [],
   "source": [
    "inl slice from to s : string =\n",
    "    sm.slice s { from to }"
   ]
  },
  {
   "cell_type": "markdown",
   "metadata": {},
   "source": [
    "### format_debug"
   ]
  },
  {
   "cell_type": "code",
   "execution_count": null,
   "metadata": {
    "dotnet_interactive": {
     "language": "spiral"
    },
    "polyglot_notebook": {
     "kernelName": "spiral"
    }
   },
   "outputs": [],
   "source": [
    "//// real\n",
    "\n",
    "inl format_debug forall t. (x : t) : string =\n",
    "    backend_switch `string `string {\n",
    "        Fsharp = fun () => $'$\"%A{!x}\"' : string\n",
    "        Python = fun () => $'f\"{!x}\"' : string\n",
    "    }"
   ]
  },
  {
   "cell_type": "code",
   "execution_count": null,
   "metadata": {
    "dotnet_interactive": {
     "language": "spiral"
    },
    "polyglot_notebook": {
     "kernelName": "spiral"
    }
   },
   "outputs": [],
   "source": [
    "inl format_debug forall t. (x : t) : string =\n",
    "    real format_debug `t x"
   ]
  },
  {
   "cell_type": "code",
   "execution_count": null,
   "metadata": {
    "dotnet_interactive": {
     "language": "spiral"
    },
    "polyglot_notebook": {
     "kernelName": "spiral"
    }
   },
   "outputs": [
    {
     "name": "stdout",
     "output_type": "stream",
     "text": [
      "assert_eq / actual: \"struct (\"1\", \"2\", \"3\")\" / expected: \"struct (\"1\", \"2\", \"3\")\"\n"
     ]
    }
   ],
   "source": [
    "//// test\n",
    "\n",
    "{ c = \"1\"; a = \"2\"; b = \"3\" }\n",
    "|> format_debug\n",
    "|> _assert_eq \"struct (\\\"1\\\", \\\"2\\\", \\\"3\\\")\""
   ]
  },
  {
   "cell_type": "markdown",
   "metadata": {},
   "source": [
    "### prim"
   ]
  },
  {
   "cell_type": "code",
   "execution_count": null,
   "metadata": {
    "dotnet_interactive": {
     "language": "spiral"
    },
    "polyglot_notebook": {
     "kernelName": "spiral"
    }
   },
   "outputs": [],
   "source": [
    "inl prim x = real\n",
    "    match x with\n",
    "    | (x : i8) | (x : i16) | (x : i32) | (x : i64) => \"%d\", x\n",
    "    | (x : u8) | (x : u16) | (x : u32) | (x : u64) => \"%u\", x\n",
    "    | (x : f32) | (x : f64) => \"%f\", x\n",
    "    | (x : string) => \"%s\", x\n",
    "    | (x : char) => \"%c\", x"
   ]
  },
  {
   "cell_type": "markdown",
   "metadata": {},
   "source": [
    "### printable"
   ]
  },
  {
   "cell_type": "code",
   "execution_count": null,
   "metadata": {
    "dotnet_interactive": {
     "language": "spiral"
    },
    "polyglot_notebook": {
     "kernelName": "spiral"
    }
   },
   "outputs": [],
   "source": [
    "//// real\n",
    "\n",
    "prototype printable t : t -> ()"
   ]
  },
  {
   "cell_type": "markdown",
   "metadata": {},
   "source": [
    "### real_format"
   ]
  },
  {
   "cell_type": "code",
   "execution_count": null,
   "metadata": {
    "dotnet_interactive": {
     "language": "spiral"
    },
    "polyglot_notebook": {
     "kernelName": "spiral"
    }
   },
   "outputs": [],
   "source": [
    "//// real\n",
    "\n",
    "inl real_format forall t. (x : t) : string =\n",
    "    inl result = mut `string \"\"\n",
    "    real\n",
    "        let rec write x =\n",
    "            inl p ((a : string), b) =\n",
    "                inl s : string =\n",
    "                    backend_switch `string `string {\n",
    "                        Fsharp = fun () =>\n",
    "                            match b with\n",
    "                            | (_ : f32) | (_ : f64) => $'$\"%+.6f{!b}\"' : string\n",
    "                            | _ => $'$\"{!b}\"' : string\n",
    "                        Python = fun () =>\n",
    "                            match b with\n",
    "                            | (_ : f32) | (_ : f64) => $'\"{:.6f}\".format(!b)' : string\n",
    "                            | _ => $'!b ' : string\n",
    "                    }\n",
    "                result <- (+.) `string ((~*) `string result) s\n",
    "\n",
    "            match x with // According to Bing it shouldn't matter whether these are %d or %lld in printf.\n",
    "            | () => ()\n",
    "            | (x : i8) | (x : i16) | (x : i32) | (x : i64) => p (\"%d\", x)\n",
    "            | (x : u8) | (x : u16) | (x : u32) | (x : u64) => p (\"%u\", x)\n",
    "            | (x : f32) | (x : f64) => p (\"%f\", x)\n",
    "            | (x : string) => p (\"%s\", x)\n",
    "            | (x : char) => p (\"%c\", x)\n",
    "            | (x : bool) => p (\"%s\", if x then \"true\" else \"false\")\n",
    "            | (a,b) => write a . write \", \" . write b\n",
    "            | {} as x =>\n",
    "                write \"{ \"\n",
    "                inl _result =\n",
    "                    real_core.record_fold\n",
    "                        fun { state = separator key value } =>\n",
    "                            write separator\n",
    "                            write (symbol_to_string `(`key)) . write \" = \" . write value\n",
    "                            \"; \"\n",
    "                        () x\n",
    "                write \" }\"\n",
    "            | x when real_core.symbol_is x => write (symbol_to_string `(`x))\n",
    "            | x when real_core.function_is x => write (x ())\n",
    "            | x =>\n",
    "                if real_core.union_is x then\n",
    "                    if real_core.prototype_has `(`x) printable then printable `(`x) x\n",
    "                    else\n",
    "                        write (format_debug `(`x) x)\n",
    "                        // real_core.unbox x (fun (k, v) =>\n",
    "                        //     write k\n",
    "                        //     match v with\n",
    "                        //     | () => ()\n",
    "                        //     | _ => write \"(\" . write v . write \")\"\n",
    "                        //     )\n",
    "                elif real_core.nominal_is x && real_core.prototype_has `(`x) printable then printable `(`x) x\n",
    "                // elif layout_is x then write *x // TODO: Deal with all the layout type cases.\n",
    "                else write (format_debug `(`x) x)\n",
    "        write x\n",
    "    (~*) `string result"
   ]
  },
  {
   "cell_type": "markdown",
   "metadata": {},
   "source": [
    "### format"
   ]
  },
  {
   "cell_type": "code",
   "execution_count": null,
   "metadata": {
    "dotnet_interactive": {
     "language": "spiral"
    },
    "polyglot_notebook": {
     "kernelName": "spiral"
    }
   },
   "outputs": [],
   "source": [
    "inl format forall t. (x : t) : string =\n",
    "    real real_format `t x"
   ]
  },
  {
   "cell_type": "code",
   "execution_count": null,
   "metadata": {
    "dotnet_interactive": {
     "language": "spiral"
    },
    "polyglot_notebook": {
     "kernelName": "spiral"
    }
   },
   "outputs": [
    {
     "name": "stdout",
     "output_type": "stream",
     "text": [
      "assert_eq / actual: \"1, 2, UH0_1 (\"3\", UH0_1 (\"4\", UH0_0)), { b = 5; c = 6; a = 7 }\" / expected: \"1, 2, UH0_1 (\"3\", UH0_1 (\"4\", UH0_0)), { b = 5; c = 6; a = 7 }\"\n"
     ]
    }
   ],
   "source": [
    "//// test\n",
    "///! fsharp\n",
    "////! cuda\n",
    "////! rust\n",
    "////! typescript\n",
    "////! python\n",
    "\n",
    "(\"1\", \"2\", [\"3\"; \"4\"], { b = \"5\"; c = \"6\"; a = fun () => \"7\" })\n",
    "|> format\n",
    "|> _assert_eq \"1, 2, UH0_1 (\\\"3\\\", UH0_1 (\\\"4\\\", UH0_0)), { b = 5; c = 6; a = 7 }\""
   ]
  },
  {
   "cell_type": "markdown",
   "metadata": {},
   "source": [
    "### concat_array_trailing"
   ]
  },
  {
   "cell_type": "code",
   "execution_count": null,
   "metadata": {
    "dotnet_interactive": {
     "language": "spiral"
    },
    "polyglot_notebook": {
     "kernelName": "spiral"
    }
   },
   "outputs": [],
   "source": [
    "inl concat_array_trailing (separator : string) (input : a i32 string) =\n",
    "    (\"\", input)\n",
    "    ||> am.fold fun acc (x : string) =>\n",
    "        $'!acc + !x + !separator + \"\"'"
   ]
  },
  {
   "cell_type": "code",
   "execution_count": null,
   "metadata": {
    "dotnet_interactive": {
     "language": "spiral"
    },
    "polyglot_notebook": {
     "kernelName": "spiral"
    }
   },
   "outputs": [
    {
     "data": {
      "text/plain": [
       "assert_eq / actual: 1\n",
       "2\n",
       "3\n",
       " / expected: 1\n",
       "2\n",
       "3\n",
       "\n"
      ]
     },
     "metadata": {},
     "output_type": "display_data"
    }
   ],
   "source": [
    "//// test\n",
    "///! typescript\n",
    "\n",
    ";[\n",
    "    \"1\"\n",
    "    \"2\"\n",
    "    \"3\"\n",
    "]\n",
    "|> fun x =>\n",
    "    inl code = (a x : _ i32 _) |> concat_array_trailing \"\\n\"\n",
    "    code\n",
    "    |> _assert_eq \"1\\n2\\n3\\n\""
   ]
  },
  {
   "cell_type": "markdown",
   "metadata": {},
   "source": [
    "### concat_list_trailing"
   ]
  },
  {
   "cell_type": "code",
   "execution_count": null,
   "metadata": {
    "dotnet_interactive": {
     "language": "spiral"
    },
    "polyglot_notebook": {
     "kernelName": "spiral"
    }
   },
   "outputs": [],
   "source": [
    "inl concat_list_trailing separator input =\n",
    "    (\"\", input)\n",
    "    ||> listm.fold fun acc (x : string) =>\n",
    "        $'!acc + !x + !separator + \"\"'"
   ]
  },
  {
   "cell_type": "code",
   "execution_count": null,
   "metadata": {
    "dotnet_interactive": {
     "language": "spiral"
    },
    "polyglot_notebook": {
     "kernelName": "spiral"
    }
   },
   "outputs": [
    {
     "data": {
      "text/plain": [
       "assert_eq / actual: \"1\n",
       "2\n",
       "3\n",
       "\" / expected: \"1\n",
       "2\n",
       "3\n",
       "\"\n"
      ]
     },
     "metadata": {},
     "output_type": "display_data"
    }
   ],
   "source": [
    "//// test\n",
    "///! rust\n",
    "\n",
    "[\n",
    "    \"1\"\n",
    "    \"2\"\n",
    "    \"3\"\n",
    "]\n",
    "|> fun x =>\n",
    "    inl code = (x : _) |> concat_list_trailing \"\\n\"\n",
    "    code\n",
    "    |> _assert_eq \"1\\n2\\n3\\n\""
   ]
  },
  {
   "cell_type": "markdown",
   "metadata": {},
   "source": [
    "### concat_list_heap_trailing"
   ]
  },
  {
   "cell_type": "code",
   "execution_count": null,
   "metadata": {
    "dotnet_interactive": {
     "language": "spiral"
    },
    "polyglot_notebook": {
     "kernelName": "spiral"
    }
   },
   "outputs": [],
   "source": [
    "inl concat_list_heap_trailing separator input =\n",
    "    inl separator = join separator\n",
    "    inl separator = separator\n",
    "    (\"\", input)\n",
    "    ||> listm.fold fun acc (x : string) =>\n",
    "        $'$\"{!acc}{!x}{!separator}\"'"
   ]
  },
  {
   "cell_type": "code",
   "execution_count": null,
   "metadata": {
    "dotnet_interactive": {
     "language": "spiral"
    },
    "polyglot_notebook": {
     "kernelName": "spiral"
    }
   },
   "outputs": [
    {
     "data": {
      "text/plain": [
       "assert_eq / actual: \"1\n",
       "2\n",
       "3\n",
       "\" / expected: \"1\n",
       "2\n",
       "3\n",
       "\"\n"
      ]
     },
     "metadata": {},
     "output_type": "display_data"
    }
   ],
   "source": [
    "//// test\n",
    "///! rust\n",
    "\n",
    "types ()\n",
    "\n",
    "[\n",
    "    \"1\"\n",
    "    \"2\"\n",
    "    \"3\"\n",
    "]\n",
    "|> fun x =>\n",
    "    inl code = (x : _) |> concat_list_heap_trailing \"\\n\"\n",
    "    code\n",
    "    |> _assert_eq \"1\\n2\\n3\\n\""
   ]
  },
  {
   "cell_type": "markdown",
   "metadata": {},
   "source": [
    "### ellipsis"
   ]
  },
  {
   "cell_type": "code",
   "execution_count": null,
   "metadata": {
    "dotnet_interactive": {
     "language": "spiral"
    },
    "polyglot_notebook": {
     "kernelName": "spiral"
    }
   },
   "outputs": [],
   "source": [
    "inl ellipsis (max : i32) (s : string) =\n",
    "    if sm.length s <= max\n",
    "    then s\n",
    "    else s |> slice 0 (max - 1) |> fun x => $'!x + \"...\"'"
   ]
  },
  {
   "cell_type": "code",
   "execution_count": null,
   "metadata": {
    "dotnet_interactive": {
     "language": "spiral"
    },
    "polyglot_notebook": {
     "kernelName": "spiral"
    }
   },
   "outputs": [
    {
     "name": "stdout",
     "output_type": "stream",
     "text": [
      "assert_eq / actual: \"12...\" / expected: \"12...\"\n",
      "assert_eq / actual: \"1234...\" / expected: \"1234...\"\n"
     ]
    }
   ],
   "source": [
    "//// test\n",
    "\n",
    "\"12345\"\n",
    "|> ellipsis 2\n",
    "|> _assert_eq \"12...\"\n",
    "\n",
    "\"12345\"\n",
    "|> ellipsis 4\n",
    "|> _assert_eq \"1234...\""
   ]
  },
  {
   "cell_type": "markdown",
   "metadata": {},
   "source": [
    "## fsharp"
   ]
  },
  {
   "cell_type": "markdown",
   "metadata": {},
   "source": [
    "### ends_with"
   ]
  },
  {
   "cell_type": "code",
   "execution_count": null,
   "metadata": {
    "dotnet_interactive": {
     "language": "spiral"
    },
    "polyglot_notebook": {
     "kernelName": "spiral"
    }
   },
   "outputs": [],
   "source": [
    "inl ends_with (value : string) (s : string) : bool =\n",
    "    $'!s.EndsWith !value '"
   ]
  },
  {
   "cell_type": "markdown",
   "metadata": {},
   "source": [
    "### last_index_of"
   ]
  },
  {
   "cell_type": "code",
   "execution_count": null,
   "metadata": {
    "dotnet_interactive": {
     "language": "spiral"
    },
    "polyglot_notebook": {
     "kernelName": "spiral"
    }
   },
   "outputs": [],
   "source": [
    "inl last_index_of (search : string) (s : string) : i32 =\n",
    "    $'!s.LastIndexOf !search '"
   ]
  },
  {
   "cell_type": "markdown",
   "metadata": {},
   "source": [
    "### index_of"
   ]
  },
  {
   "cell_type": "code",
   "execution_count": null,
   "metadata": {
    "dotnet_interactive": {
     "language": "spiral"
    },
    "polyglot_notebook": {
     "kernelName": "spiral"
    }
   },
   "outputs": [],
   "source": [
    "inl index_of (search : string) (s : string) : i32 =\n",
    "    $'!s.IndexOf !search '"
   ]
  },
  {
   "cell_type": "markdown",
   "metadata": {},
   "source": [
    "### replicate"
   ]
  },
  {
   "cell_type": "code",
   "execution_count": null,
   "metadata": {
    "dotnet_interactive": {
     "language": "spiral"
    },
    "polyglot_notebook": {
     "kernelName": "spiral"
    }
   },
   "outputs": [],
   "source": [
    "inl replicate (n : i32) (s : string) : string =\n",
    "    backend_switch {\n",
    "        Fsharp = fun () => s |> $'String.replicate' n : string\n",
    "        Python = fun () => $'!s * !n ' : string\n",
    "    }"
   ]
  },
  {
   "cell_type": "markdown",
   "metadata": {},
   "source": [
    "### obj_to_string"
   ]
  },
  {
   "cell_type": "code",
   "execution_count": null,
   "metadata": {
    "dotnet_interactive": {
     "language": "spiral"
    },
    "polyglot_notebook": {
     "kernelName": "spiral"
    }
   },
   "outputs": [],
   "source": [
    "inl obj_to_string x : string =\n",
    "    backend_switch {\n",
    "        Fsharp = fun () => x |> $'_.ToString()' : string\n",
    "        Python = fun () => $'str(!x)' : string\n",
    "    }"
   ]
  },
  {
   "cell_type": "markdown",
   "metadata": {},
   "source": [
    "### pad_left"
   ]
  },
  {
   "cell_type": "code",
   "execution_count": null,
   "metadata": {
    "dotnet_interactive": {
     "language": "spiral"
    },
    "polyglot_notebook": {
     "kernelName": "spiral"
    }
   },
   "outputs": [],
   "source": [
    "inl pad_left (total_width : i32) (padding_char : char) (s : string) : string =\n",
    "    backend_switch {\n",
    "        Fsharp = fun () => $'!s.PadLeft (!total_width, !padding_char)' : string\n",
    "        Python = fun () =>\n",
    "            inl padding = padding_char |> obj_to_string |> replicate (total_width - length s)\n",
    "            padding +. s\n",
    "    }"
   ]
  },
  {
   "cell_type": "markdown",
   "metadata": {},
   "source": [
    "### pad_right"
   ]
  },
  {
   "cell_type": "code",
   "execution_count": null,
   "metadata": {
    "dotnet_interactive": {
     "language": "spiral"
    },
    "polyglot_notebook": {
     "kernelName": "spiral"
    }
   },
   "outputs": [],
   "source": [
    "inl pad_right (total_width : i32) (padding_char : char) (s : string) : string =\n",
    "    $'!s.PadRight (!total_width, !padding_char)'"
   ]
  },
  {
   "cell_type": "code",
   "execution_count": null,
   "metadata": {
    "dotnet_interactive": {
     "language": "spiral"
    },
    "polyglot_notebook": {
     "kernelName": "spiral"
    }
   },
   "outputs": [
    {
     "name": "stdout",
     "output_type": "stream",
     "text": [
      "assert_eq / actual: \"123   \" / expected: \"123   \"\n"
     ]
    }
   ],
   "source": [
    "//// test\n",
    "\n",
    "\"123\"\n",
    "|> pad_right 6 ' '\n",
    "|> _assert_eq \"123   \""
   ]
  },
  {
   "cell_type": "markdown",
   "metadata": {},
   "source": [
    "### starts_with"
   ]
  },
  {
   "cell_type": "code",
   "execution_count": null,
   "metadata": {
    "dotnet_interactive": {
     "language": "spiral"
    },
    "polyglot_notebook": {
     "kernelName": "spiral"
    }
   },
   "outputs": [],
   "source": [
    "inl starts_with (value : string) (s : string) : bool =\n",
    "    $'!s.StartsWith !value '"
   ]
  },
  {
   "cell_type": "markdown",
   "metadata": {},
   "source": [
    "### is_white_space"
   ]
  },
  {
   "cell_type": "code",
   "execution_count": null,
   "metadata": {
    "dotnet_interactive": {
     "language": "spiral"
    },
    "polyglot_notebook": {
     "kernelName": "spiral"
    }
   },
   "outputs": [],
   "source": [
    "inl is_white_space (c : char) : bool =\n",
    "    c |> $'System.Char.IsWhiteSpace'"
   ]
  },
  {
   "cell_type": "markdown",
   "metadata": {},
   "source": [
    "### substring"
   ]
  },
  {
   "cell_type": "code",
   "execution_count": null,
   "metadata": {
    "dotnet_interactive": {
     "language": "spiral"
    },
    "polyglot_notebook": {
     "kernelName": "spiral"
    }
   },
   "outputs": [],
   "source": [
    "inl substring (start : i32) (len : i32) (str : string) : string =\n",
    "    $'!str.Substring (!start, !len)'"
   ]
  },
  {
   "cell_type": "markdown",
   "metadata": {},
   "source": [
    "### to_lower"
   ]
  },
  {
   "cell_type": "code",
   "execution_count": null,
   "metadata": {
    "dotnet_interactive": {
     "language": "spiral"
    },
    "polyglot_notebook": {
     "kernelName": "spiral"
    }
   },
   "outputs": [],
   "source": [
    "inl to_lower (input : string) : string =\n",
    "    backend_switch {\n",
    "        Fsharp = fun () => $'!input.ToLower' () : string\n",
    "        Python = fun () => $'!input.lower()' : string\n",
    "    }"
   ]
  },
  {
   "cell_type": "markdown",
   "metadata": {},
   "source": [
    "### to_upper"
   ]
  },
  {
   "cell_type": "code",
   "execution_count": null,
   "metadata": {
    "dotnet_interactive": {
     "language": "spiral"
    },
    "polyglot_notebook": {
     "kernelName": "spiral"
    }
   },
   "outputs": [],
   "source": [
    "inl to_upper (input : string) : string =\n",
    "    $'!input.ToUpper' ()"
   ]
  },
  {
   "cell_type": "markdown",
   "metadata": {},
   "source": [
    "### char_to_upper"
   ]
  },
  {
   "cell_type": "code",
   "execution_count": null,
   "metadata": {
    "dotnet_interactive": {
     "language": "spiral"
    },
    "polyglot_notebook": {
     "kernelName": "spiral"
    }
   },
   "outputs": [],
   "source": [
    "inl char_to_upper (input : char) : char =\n",
    "    $'System.Char.ToUpper !input '"
   ]
  },
  {
   "cell_type": "markdown",
   "metadata": {},
   "source": [
    "### string_builder"
   ]
  },
  {
   "cell_type": "code",
   "execution_count": null,
   "metadata": {
    "dotnet_interactive": {
     "language": "spiral"
    },
    "polyglot_notebook": {
     "kernelName": "spiral"
    }
   },
   "outputs": [],
   "source": [
    "nominal string_builder = $'System.Text.StringBuilder'\n",
    "\n",
    "inl string_builder (initial : string) : string_builder =\n",
    "    initial |> $'`string_builder '"
   ]
  },
  {
   "cell_type": "markdown",
   "metadata": {},
   "source": [
    "### builder_append"
   ]
  },
  {
   "cell_type": "code",
   "execution_count": null,
   "metadata": {
    "dotnet_interactive": {
     "language": "spiral"
    },
    "polyglot_notebook": {
     "kernelName": "spiral"
    }
   },
   "outputs": [],
   "source": [
    "inl builder_append (item : string) (sb : string_builder) : string_builder =\n",
    "    ($'!sb.Append' item : string_builder) |> ignore\n",
    "    sb"
   ]
  },
  {
   "cell_type": "markdown",
   "metadata": {},
   "source": [
    "### builder_replace"
   ]
  },
  {
   "cell_type": "code",
   "execution_count": null,
   "metadata": {
    "dotnet_interactive": {
     "language": "spiral"
    },
    "polyglot_notebook": {
     "kernelName": "spiral"
    }
   },
   "outputs": [],
   "source": [
    "inl builder_replace (old : string) (new : string) (sb : string_builder) : string_builder =\n",
    "    ($'!sb.Replace (!old, !new)' : string_builder) |> ignore\n",
    "    sb"
   ]
  },
  {
   "cell_type": "markdown",
   "metadata": {},
   "source": [
    "### builder_insert"
   ]
  },
  {
   "cell_type": "code",
   "execution_count": null,
   "metadata": {
    "dotnet_interactive": {
     "language": "spiral"
    },
    "polyglot_notebook": {
     "kernelName": "spiral"
    }
   },
   "outputs": [],
   "source": [
    "inl builder_insert (n : i32) (s : string) (sb : string_builder) : string_builder =\n",
    "    ($'!sb.Insert (!n, !s)' : string_builder) |> ignore\n",
    "    sb"
   ]
  },
  {
   "cell_type": "markdown",
   "metadata": {},
   "source": [
    "### builder_clear"
   ]
  },
  {
   "cell_type": "code",
   "execution_count": null,
   "metadata": {
    "dotnet_interactive": {
     "language": "spiral"
    },
    "polyglot_notebook": {
     "kernelName": "spiral"
    }
   },
   "outputs": [],
   "source": [
    "inl builder_clear (sb : string_builder) : string_builder =\n",
    "    ($'!sb.Clear' () : string_builder) |> ignore\n",
    "    sb"
   ]
  },
  {
   "cell_type": "markdown",
   "metadata": {},
   "source": [
    "### trim"
   ]
  },
  {
   "cell_type": "code",
   "execution_count": null,
   "metadata": {
    "dotnet_interactive": {
     "language": "spiral"
    },
    "polyglot_notebook": {
     "kernelName": "spiral"
    }
   },
   "outputs": [],
   "source": [
    "inl trim (input : string) : string =\n",
    "    $'!input.Trim' ()"
   ]
  },
  {
   "cell_type": "markdown",
   "metadata": {},
   "source": [
    "### concat"
   ]
  },
  {
   "cell_type": "code",
   "execution_count": null,
   "metadata": {
    "dotnet_interactive": {
     "language": "spiral"
    },
    "polyglot_notebook": {
     "kernelName": "spiral"
    }
   },
   "outputs": [],
   "source": [
    "inl concat (a : string) (b : seq.seq' string) : string =\n",
    "    backend_switch {\n",
    "        Fsharp = fun () =>\n",
    "            b |> $'String.concat' a : string\n",
    "        Python = fun () =>\n",
    "            $'!a.join(!b)' : string\n",
    "    }"
   ]
  },
  {
   "cell_type": "markdown",
   "metadata": {},
   "source": [
    "### trim_end"
   ]
  },
  {
   "cell_type": "code",
   "execution_count": null,
   "metadata": {
    "dotnet_interactive": {
     "language": "spiral"
    },
    "polyglot_notebook": {
     "kernelName": "spiral"
    }
   },
   "outputs": [],
   "source": [
    "inl trim_end (trim_chars : list char) (input : string) : string =\n",
    "    inl trim_chars = trim_chars |> listm'.box\n",
    "    backend_switch {\n",
    "        Fsharp = fun () =>\n",
    "            inl trim_chars = trim_chars |> listm'.to_array'\n",
    "            $'!input.TrimEnd !trim_chars ' : string\n",
    "        Python = fun () =>\n",
    "            inl trim_chars = trim_chars |> listm'.map obj_to_string |> seq.of_list' |> concat \"\"\n",
    "            $'!input.rstrip(!trim_chars)' : string\n",
    "    }"
   ]
  },
  {
   "cell_type": "markdown",
   "metadata": {},
   "source": [
    "### trim_start"
   ]
  },
  {
   "cell_type": "code",
   "execution_count": null,
   "metadata": {
    "dotnet_interactive": {
     "language": "spiral"
    },
    "polyglot_notebook": {
     "kernelName": "spiral"
    }
   },
   "outputs": [],
   "source": [
    "inl trim_start (trim_chars : list char) (input : string) : string =\n",
    "    inl trim_chars = trim_chars |> listm'.box\n",
    "    backend_switch {\n",
    "        Fsharp = fun () =>\n",
    "            inl trim_chars = trim_chars |> listm'.to_array'\n",
    "            $'!input.TrimStart !trim_chars ' : string\n",
    "        Python = fun () =>\n",
    "            inl trim_chars = trim_chars |> listm'.map obj_to_string |> seq.of_list' |> concat \"\"\n",
    "            $'!input.lstrip(!trim_chars)' : string\n",
    "    }"
   ]
  },
  {
   "cell_type": "markdown",
   "metadata": {},
   "source": [
    "### length'"
   ]
  },
  {
   "cell_type": "code",
   "execution_count": null,
   "metadata": {
    "dotnet_interactive": {
     "language": "spiral"
    },
    "polyglot_notebook": {
     "kernelName": "spiral"
    }
   },
   "outputs": [],
   "source": [
    "inl length' forall dim. (input : string) : dim =\n",
    "    input |> $'String.length'"
   ]
  },
  {
   "cell_type": "markdown",
   "metadata": {},
   "source": [
    "### to_string any"
   ]
  },
  {
   "cell_type": "code",
   "execution_count": null,
   "metadata": {
    "dotnet_interactive": {
     "language": "spiral"
    },
    "polyglot_notebook": {
     "kernelName": "spiral"
    }
   },
   "outputs": [],
   "source": [
    "instance to_string any =\n",
    "    obj_to_string"
   ]
  },
  {
   "cell_type": "markdown",
   "metadata": {},
   "source": [
    "### replace"
   ]
  },
  {
   "cell_type": "code",
   "execution_count": null,
   "metadata": {
    "dotnet_interactive": {
     "language": "spiral"
    },
    "polyglot_notebook": {
     "kernelName": "spiral"
    }
   },
   "outputs": [],
   "source": [
    "inl replace (old_value : string) (new_value : string) (s : string) : string =\n",
    "    $'!s.Replace (!old_value, !new_value)'"
   ]
  },
  {
   "cell_type": "markdown",
   "metadata": {},
   "source": [
    "### split"
   ]
  },
  {
   "cell_type": "code",
   "execution_count": null,
   "metadata": {
    "dotnet_interactive": {
     "language": "spiral"
    },
    "polyglot_notebook": {
     "kernelName": "spiral"
    }
   },
   "outputs": [],
   "source": [
    "inl split (separator : string) (str : string) : array_base string =\n",
    "    $'!str.Split !separator '"
   ]
  },
  {
   "cell_type": "markdown",
   "metadata": {},
   "source": [
    "### split_string"
   ]
  },
  {
   "cell_type": "code",
   "execution_count": null,
   "metadata": {
    "dotnet_interactive": {
     "language": "spiral"
    },
    "polyglot_notebook": {
     "kernelName": "spiral"
    }
   },
   "outputs": [],
   "source": [
    "inl split_string (separator : array_base string) (str : string) : array_base string =\n",
    "    run_target function\n",
    "        | Fsharp (Native) => fun () => $'!str.Split (!separator, System.StringSplitOptions.None)'\n",
    "        | _ => fun () => str |> split ((a separator : _ int _) |> seq.of_array |> concat (join \"\"))"
   ]
  },
  {
   "cell_type": "markdown",
   "metadata": {},
   "source": [
    "### join'"
   ]
  },
  {
   "cell_type": "code",
   "execution_count": null,
   "metadata": {
    "dotnet_interactive": {
     "language": "spiral"
    },
    "polyglot_notebook": {
     "kernelName": "spiral"
    }
   },
   "outputs": [],
   "source": [
    "inl join' (concat : string) (s : a int string) : string =\n",
    "    $'System.String.Join (!concat, !s)'"
   ]
  },
  {
   "cell_type": "markdown",
   "metadata": {},
   "source": [
    "### encoding"
   ]
  },
  {
   "cell_type": "code",
   "execution_count": null,
   "metadata": {
    "dotnet_interactive": {
     "language": "spiral"
    },
    "polyglot_notebook": {
     "kernelName": "spiral"
    }
   },
   "outputs": [],
   "source": [
    "nominal encoding = $'System.Text.Encoding'"
   ]
  },
  {
   "cell_type": "markdown",
   "metadata": {},
   "source": [
    "### encoding_utf8"
   ]
  },
  {
   "cell_type": "code",
   "execution_count": null,
   "metadata": {
    "dotnet_interactive": {
     "language": "spiral"
    },
    "polyglot_notebook": {
     "kernelName": "spiral"
    }
   },
   "outputs": [],
   "source": [
    "inl encoding_utf8 () : encoding =\n",
    "    $'`encoding.UTF8'"
   ]
  },
  {
   "cell_type": "markdown",
   "metadata": {},
   "source": [
    "### utf8_get_bytes"
   ]
  },
  {
   "cell_type": "code",
   "execution_count": null,
   "metadata": {
    "dotnet_interactive": {
     "language": "spiral"
    },
    "polyglot_notebook": {
     "kernelName": "spiral"
    }
   },
   "outputs": [],
   "source": [
    "inl utf8_get_bytes (s : string) : a i32 u8 =\n",
    "    s |> (encoding_utf8 () |> $'_.GetBytes')"
   ]
  },
  {
   "cell_type": "markdown",
   "metadata": {},
   "source": [
    "### byte_to_string"
   ]
  },
  {
   "cell_type": "code",
   "execution_count": null,
   "metadata": {
    "dotnet_interactive": {
     "language": "spiral"
    },
    "polyglot_notebook": {
     "kernelName": "spiral"
    }
   },
   "outputs": [],
   "source": [
    "inl byte_to_string (format : string) (x : u8) : string =\n",
    "    $'!x.ToString' format"
   ]
  },
  {
   "cell_type": "markdown",
   "metadata": {},
   "source": [
    "## rust"
   ]
  },
  {
   "cell_type": "markdown",
   "metadata": {},
   "source": [
    "### display"
   ]
  },
  {
   "cell_type": "code",
   "execution_count": null,
   "metadata": {
    "dotnet_interactive": {
     "language": "spiral"
    },
    "polyglot_notebook": {
     "kernelName": "spiral"
    }
   },
   "outputs": [],
   "source": [
    "nominal display t = $'std_fmt_Display<`t>'"
   ]
  },
  {
   "cell_type": "markdown",
   "metadata": {},
   "source": [
    "### str"
   ]
  },
  {
   "cell_type": "code",
   "execution_count": null,
   "metadata": {
    "dotnet_interactive": {
     "language": "spiral"
    },
    "polyglot_notebook": {
     "kernelName": "spiral"
    }
   },
   "outputs": [],
   "source": [
    "nominal str = $'Str'"
   ]
  },
  {
   "cell_type": "markdown",
   "metadata": {},
   "source": [
    "### base64_decode_error"
   ]
  },
  {
   "cell_type": "code",
   "execution_count": null,
   "metadata": {
    "dotnet_interactive": {
     "language": "spiral"
    },
    "polyglot_notebook": {
     "kernelName": "spiral"
    }
   },
   "outputs": [],
   "source": [
    "nominal base64_decode_error = $'base64_DecodeError'"
   ]
  },
  {
   "cell_type": "markdown",
   "metadata": {},
   "source": [
    "### borsh_io_error"
   ]
  },
  {
   "cell_type": "code",
   "execution_count": null,
   "metadata": {
    "dotnet_interactive": {
     "language": "spiral"
    },
    "polyglot_notebook": {
     "kernelName": "spiral"
    }
   },
   "outputs": [],
   "source": [
    "nominal borsh_io_error = $'borsh_io_Error'"
   ]
  },
  {
   "cell_type": "markdown",
   "metadata": {},
   "source": [
    "### utf8_error"
   ]
  },
  {
   "cell_type": "code",
   "execution_count": null,
   "metadata": {
    "dotnet_interactive": {
     "language": "spiral"
    },
    "polyglot_notebook": {
     "kernelName": "spiral"
    }
   },
   "outputs": [],
   "source": [
    "nominal utf8_error = $'std_str_Utf8Error'"
   ]
  },
  {
   "cell_type": "markdown",
   "metadata": {},
   "source": [
    "### from_utf8_error"
   ]
  },
  {
   "cell_type": "code",
   "execution_count": null,
   "metadata": {
    "dotnet_interactive": {
     "language": "spiral"
    },
    "polyglot_notebook": {
     "kernelName": "spiral"
    }
   },
   "outputs": [],
   "source": [
    "nominal from_utf8_error = $'std_string_FromUtf8Error'"
   ]
  },
  {
   "cell_type": "markdown",
   "metadata": {},
   "source": [
    "### json_value"
   ]
  },
  {
   "cell_type": "code",
   "execution_count": null,
   "metadata": {
    "dotnet_interactive": {
     "language": "spiral"
    },
    "polyglot_notebook": {
     "kernelName": "spiral"
    }
   },
   "outputs": [],
   "source": [
    "nominal json_value = $'serde_json_Value'"
   ]
  },
  {
   "cell_type": "markdown",
   "metadata": {},
   "source": [
    "### json_error"
   ]
  },
  {
   "cell_type": "code",
   "execution_count": null,
   "metadata": {
    "dotnet_interactive": {
     "language": "spiral"
    },
    "polyglot_notebook": {
     "kernelName": "spiral"
    }
   },
   "outputs": [],
   "source": [
    "nominal json_error = $'serde_json_Error'"
   ]
  },
  {
   "cell_type": "markdown",
   "metadata": {},
   "source": [
    "### serde_wasm_bindgen_error"
   ]
  },
  {
   "cell_type": "code",
   "execution_count": null,
   "metadata": {
    "dotnet_interactive": {
     "language": "spiral"
    },
    "polyglot_notebook": {
     "kernelName": "spiral"
    }
   },
   "outputs": [],
   "source": [
    "nominal serde_wasm_bindgen_error = $'serde_wasm_bindgen_Error'"
   ]
  },
  {
   "cell_type": "markdown",
   "metadata": {},
   "source": [
    "### js_string"
   ]
  },
  {
   "cell_type": "code",
   "execution_count": null,
   "metadata": {
    "dotnet_interactive": {
     "language": "spiral"
    },
    "polyglot_notebook": {
     "kernelName": "spiral"
    }
   },
   "outputs": [],
   "source": [
    "nominal js_string = $'js_sys_JsString'"
   ]
  },
  {
   "cell_type": "markdown",
   "metadata": {},
   "source": [
    "### os_str"
   ]
  },
  {
   "cell_type": "code",
   "execution_count": null,
   "metadata": {
    "dotnet_interactive": {
     "language": "spiral"
    },
    "polyglot_notebook": {
     "kernelName": "spiral"
    }
   },
   "outputs": [],
   "source": [
    "nominal os_str = $'std_ffi_OsStr'"
   ]
  },
  {
   "cell_type": "markdown",
   "metadata": {},
   "source": [
    "### os_string"
   ]
  },
  {
   "cell_type": "code",
   "execution_count": null,
   "metadata": {
    "dotnet_interactive": {
     "language": "spiral"
    },
    "polyglot_notebook": {
     "kernelName": "spiral"
    }
   },
   "outputs": [],
   "source": [
    "nominal os_string = $'std_ffi_OsString'"
   ]
  },
  {
   "cell_type": "markdown",
   "metadata": {},
   "source": [
    "### std_string"
   ]
  },
  {
   "cell_type": "code",
   "execution_count": null,
   "metadata": {
    "dotnet_interactive": {
     "language": "spiral"
    },
    "polyglot_notebook": {
     "kernelName": "spiral"
    }
   },
   "outputs": [],
   "source": [
    "nominal std_string = $'std_string_String'"
   ]
  },
  {
   "cell_type": "markdown",
   "metadata": {},
   "source": [
    "### raw_string_literal"
   ]
  },
  {
   "cell_type": "code",
   "execution_count": null,
   "metadata": {
    "dotnet_interactive": {
     "language": "spiral"
    },
    "polyglot_notebook": {
     "kernelName": "spiral"
    }
   },
   "outputs": [],
   "source": [
    "inl raw_string_literal (s : string) : rust.ref' str =\n",
    "    !\\($'\"r#\\\\\"\" + !s + \"\\\\\"#\"')"
   ]
  },
  {
   "cell_type": "markdown",
   "metadata": {},
   "source": [
    "### raw_string_literal_static"
   ]
  },
  {
   "cell_type": "code",
   "execution_count": null,
   "metadata": {
    "dotnet_interactive": {
     "language": "spiral"
    },
    "polyglot_notebook": {
     "kernelName": "spiral"
    }
   },
   "outputs": [],
   "source": [
    "inl raw_string_literal_static (s : string) : rust.static_ref str =\n",
    "    !\\($'\"r#\\\\\"\" + !s + \"\\\\\"#\"')"
   ]
  },
  {
   "cell_type": "markdown",
   "metadata": {},
   "source": [
    "### (~#)"
   ]
  },
  {
   "cell_type": "code",
   "execution_count": null,
   "metadata": {
    "dotnet_interactive": {
     "language": "spiral"
    },
    "polyglot_notebook": {
     "kernelName": "spiral"
    }
   },
   "outputs": [],
   "source": [
    "inl (~#) s =\n",
    "    s |> raw_string_literal"
   ]
  },
  {
   "cell_type": "markdown",
   "metadata": {},
   "source": [
    "### (~##)"
   ]
  },
  {
   "cell_type": "code",
   "execution_count": null,
   "metadata": {
    "dotnet_interactive": {
     "language": "spiral"
    },
    "polyglot_notebook": {
     "kernelName": "spiral"
    }
   },
   "outputs": [],
   "source": [
    "inl (~##) s =\n",
    "    s |> raw_string_literal_static"
   ]
  },
  {
   "cell_type": "markdown",
   "metadata": {},
   "source": [
    "### include_str"
   ]
  },
  {
   "cell_type": "code",
   "execution_count": null,
   "metadata": {
    "dotnet_interactive": {
     "language": "spiral"
    },
    "polyglot_notebook": {
     "kernelName": "spiral"
    }
   },
   "outputs": [],
   "source": [
    "inl include_str (path : string) : rust.ref' str =\n",
    "    !\\($'\"include_str\\!(\\\\\\\"\" + !path + \"\\\\\\\")\"')"
   ]
  },
  {
   "cell_type": "markdown",
   "metadata": {},
   "source": [
    "### as_str"
   ]
  },
  {
   "cell_type": "code",
   "execution_count": null,
   "metadata": {
    "dotnet_interactive": {
     "language": "spiral"
    },
    "polyglot_notebook": {
     "kernelName": "spiral"
    }
   },
   "outputs": [],
   "source": [
    "inl as_str (s : string) : rust.ref' str =\n",
    "    // !\\\\(s, $'\"fable_library_rust::String_::LrcStr::as_str(&$0)\"')\n",
    "    !\\\\(s, $'\"&*$0\"')"
   ]
  },
  {
   "cell_type": "markdown",
   "metadata": {},
   "source": [
    "### from_std_string"
   ]
  },
  {
   "cell_type": "code",
   "execution_count": null,
   "metadata": {
    "dotnet_interactive": {
     "language": "spiral"
    },
    "polyglot_notebook": {
     "kernelName": "spiral"
    }
   },
   "outputs": [],
   "source": [
    "inl from_std_string (str : std_string) : string =\n",
    "    !\\\\(str, $'\"fable_library_rust::String_::fromString($0)\"')"
   ]
  },
  {
   "cell_type": "markdown",
   "metadata": {},
   "source": [
    "### ref_to_std_string"
   ]
  },
  {
   "cell_type": "code",
   "execution_count": null,
   "metadata": {
    "dotnet_interactive": {
     "language": "spiral"
    },
    "polyglot_notebook": {
     "kernelName": "spiral"
    }
   },
   "outputs": [],
   "source": [
    "inl ref_to_std_string (str : rust.ref' str) : std_string =\n",
    "    !\\\\(str, $'\"String::from($0)\"')"
   ]
  },
  {
   "cell_type": "markdown",
   "metadata": {},
   "source": [
    "### cow_to_std_string"
   ]
  },
  {
   "cell_type": "code",
   "execution_count": null,
   "metadata": {
    "dotnet_interactive": {
     "language": "spiral"
    },
    "polyglot_notebook": {
     "kernelName": "spiral"
    }
   },
   "outputs": [],
   "source": [
    "inl cow_to_std_string (str : rust.cow str) : std_string =\n",
    "    !\\\\(str, $'\"String::from($0)\"')"
   ]
  },
  {
   "cell_type": "markdown",
   "metadata": {},
   "source": [
    "### to_std_string"
   ]
  },
  {
   "cell_type": "code",
   "execution_count": null,
   "metadata": {
    "dotnet_interactive": {
     "language": "spiral"
    },
    "polyglot_notebook": {
     "kernelName": "spiral"
    }
   },
   "outputs": [],
   "source": [
    "inl to_std_string (s : string) : std_string =\n",
    "    s |> as_str |> ref_to_std_string"
   ]
  },
  {
   "cell_type": "markdown",
   "metadata": {},
   "source": [
    "### as_str_std"
   ]
  },
  {
   "cell_type": "code",
   "execution_count": null,
   "metadata": {
    "dotnet_interactive": {
     "language": "spiral"
    },
    "polyglot_notebook": {
     "kernelName": "spiral"
    }
   },
   "outputs": [],
   "source": [
    "inl as_str_std (s : std_string) : rust.ref' str =\n",
    "    !\\\\(s, $'\"$0.as_str()\"')"
   ]
  },
  {
   "cell_type": "markdown",
   "metadata": {},
   "source": [
    "### into_boxed_str"
   ]
  },
  {
   "cell_type": "code",
   "execution_count": null,
   "metadata": {
    "dotnet_interactive": {
     "language": "spiral"
    },
    "polyglot_notebook": {
     "kernelName": "spiral"
    }
   },
   "outputs": [],
   "source": [
    "inl into_boxed_str (s : std_string) : rust.box str =\n",
    "    !\\\\(s, $'\"$0.into_boxed_str()\"')"
   ]
  },
  {
   "cell_type": "markdown",
   "metadata": {},
   "source": [
    "### os_string_as_ref"
   ]
  },
  {
   "cell_type": "code",
   "execution_count": null,
   "metadata": {
    "dotnet_interactive": {
     "language": "spiral"
    },
    "polyglot_notebook": {
     "kernelName": "spiral"
    }
   },
   "outputs": [],
   "source": [
    "inl os_string_as_ref (s : os_string) : rust.ref' os_str =\n",
    "    !\\\\(s, $'\"$0.as_ref()\"')"
   ]
  },
  {
   "cell_type": "markdown",
   "metadata": {},
   "source": [
    "### to_os_string"
   ]
  },
  {
   "cell_type": "code",
   "execution_count": null,
   "metadata": {
    "dotnet_interactive": {
     "language": "spiral"
    },
    "polyglot_notebook": {
     "kernelName": "spiral"
    }
   },
   "outputs": [],
   "source": [
    "inl to_os_string (s : rust.ref' os_str) : os_string =\n",
    "    !\\\\(s, $'\"$0.to_os_string()\"')"
   ]
  },
  {
   "cell_type": "markdown",
   "metadata": {},
   "source": [
    "### os_to_str"
   ]
  },
  {
   "cell_type": "code",
   "execution_count": null,
   "metadata": {
    "dotnet_interactive": {
     "language": "spiral"
    },
    "polyglot_notebook": {
     "kernelName": "spiral"
    }
   },
   "outputs": [],
   "source": [
    "inl os_to_str (s : os_string) : optionm'.option' (rust.ref' str) =\n",
    "    !\\\\(s, $'\"$0.to_str()\"')"
   ]
  },
  {
   "cell_type": "markdown",
   "metadata": {},
   "source": [
    "### from_os_str_ref"
   ]
  },
  {
   "cell_type": "code",
   "execution_count": null,
   "metadata": {
    "dotnet_interactive": {
     "language": "spiral"
    },
    "polyglot_notebook": {
     "kernelName": "spiral"
    }
   },
   "outputs": [],
   "source": [
    "inl from_os_str_ref s =\n",
    "    s\n",
    "    |> to_os_string\n",
    "    |> os_to_str\n",
    "    |> optionm'.unwrap\n",
    "    |> ref_to_std_string\n",
    "    |> from_std_string"
   ]
  },
  {
   "cell_type": "markdown",
   "metadata": {},
   "source": [
    "### format_custom'"
   ]
  },
  {
   "cell_type": "code",
   "execution_count": null,
   "metadata": {
    "dotnet_interactive": {
     "language": "spiral"
    },
    "polyglot_notebook": {
     "kernelName": "spiral"
    }
   },
   "outputs": [],
   "source": [
    "inl format_custom' (format : string) x : std_string =\n",
    "    run_target function\n",
    "        | Rust _ => fun () =>\n",
    "            !\\\\(x, $'\"format\\!(\\\\\\\"\" + !format + \"\\\\\\\", $0)\"')\n",
    "        | _ => fun () => null ()"
   ]
  },
  {
   "cell_type": "markdown",
   "metadata": {},
   "source": [
    "### format'"
   ]
  },
  {
   "cell_type": "code",
   "execution_count": null,
   "metadata": {
    "dotnet_interactive": {
     "language": "spiral"
    },
    "polyglot_notebook": {
     "kernelName": "spiral"
    }
   },
   "outputs": [],
   "source": [
    "inl format' x : std_string =\n",
    "    run_target function\n",
    "        | Rust _ => fun () =>\n",
    "            !\\\\(x, $'\"format\\!(\\\\\\\"{}\\\\\\\", $0)\"')\n",
    "        | _ => fun () => null ()"
   ]
  },
  {
   "cell_type": "markdown",
   "metadata": {},
   "source": [
    "### format_debug'"
   ]
  },
  {
   "cell_type": "code",
   "execution_count": null,
   "metadata": {
    "dotnet_interactive": {
     "language": "spiral"
    },
    "polyglot_notebook": {
     "kernelName": "spiral"
    }
   },
   "outputs": [],
   "source": [
    "inl format_debug' x : std_string =\n",
    "    run_target function\n",
    "        | Rust _ => fun () =>\n",
    "            !\\\\(x, $'\"format\\!(\\\\\\\"{:?}\\\\\\\", $0)\"')\n",
    "        | _ => fun () => null ()"
   ]
  },
  {
   "cell_type": "markdown",
   "metadata": {},
   "source": [
    "### format_pretty'"
   ]
  },
  {
   "cell_type": "code",
   "execution_count": null,
   "metadata": {
    "dotnet_interactive": {
     "language": "spiral"
    },
    "polyglot_notebook": {
     "kernelName": "spiral"
    }
   },
   "outputs": [],
   "source": [
    "inl format_pretty' x : std_string =\n",
    "    run_target function\n",
    "        | Rust _ => fun () =>\n",
    "            !\\\\(x, $'\"format\\!(\\\\\\\"{:#?}\\\\\\\", $0)\"')\n",
    "        | _ => fun () => null ()"
   ]
  },
  {
   "cell_type": "markdown",
   "metadata": {},
   "source": [
    "### format_hex'"
   ]
  },
  {
   "cell_type": "code",
   "execution_count": null,
   "metadata": {
    "dotnet_interactive": {
     "language": "spiral"
    },
    "polyglot_notebook": {
     "kernelName": "spiral"
    }
   },
   "outputs": [],
   "source": [
    "inl format_hex' x : std_string =\n",
    "    !\\\\(x, $'\"format\\!(\\\\\\\"{:02x}\\\\\\\", $0)\"')"
   ]
  },
  {
   "cell_type": "markdown",
   "metadata": {},
   "source": [
    "### format''"
   ]
  },
  {
   "cell_type": "code",
   "execution_count": null,
   "metadata": {
    "dotnet_interactive": {
     "language": "spiral"
    },
    "polyglot_notebook": {
     "kernelName": "spiral"
    }
   },
   "outputs": [],
   "source": [
    "inl format'' (format : string) : std_string =\n",
    "    !\\($'@@$\"format\\!(\" + !format + \")\"')"
   ]
  },
  {
   "cell_type": "markdown",
   "metadata": {},
   "source": [
    "### regex"
   ]
  },
  {
   "cell_type": "code",
   "execution_count": null,
   "metadata": {
    "dotnet_interactive": {
     "language": "spiral"
    },
    "polyglot_notebook": {
     "kernelName": "spiral"
    }
   },
   "outputs": [],
   "source": [
    "nominal regex = $'regex_Regex'"
   ]
  },
  {
   "cell_type": "markdown",
   "metadata": {},
   "source": [
    "### regex_error"
   ]
  },
  {
   "cell_type": "code",
   "execution_count": null,
   "metadata": {
    "dotnet_interactive": {
     "language": "spiral"
    },
    "polyglot_notebook": {
     "kernelName": "spiral"
    }
   },
   "outputs": [],
   "source": [
    "nominal regex_error = $'regex_Error'"
   ]
  },
  {
   "cell_type": "markdown",
   "metadata": {},
   "source": [
    "### new_regex"
   ]
  },
  {
   "cell_type": "code",
   "execution_count": null,
   "metadata": {
    "dotnet_interactive": {
     "language": "spiral"
    },
    "polyglot_notebook": {
     "kernelName": "spiral"
    }
   },
   "outputs": [],
   "source": [
    "inl new_regex (pattern : string) : resultm.result' regex regex_error =\n",
    "    !\\\\(pattern, $'$\"regex::Regex::new(&$0)\"')"
   ]
  },
  {
   "cell_type": "markdown",
   "metadata": {},
   "source": [
    "### captures"
   ]
  },
  {
   "cell_type": "code",
   "execution_count": null,
   "metadata": {
    "dotnet_interactive": {
     "language": "spiral"
    },
    "polyglot_notebook": {
     "kernelName": "spiral"
    }
   },
   "outputs": [],
   "source": [
    "nominal regex_captures t = $'regex_Captures<`t>'"
   ]
  },
  {
   "cell_type": "markdown",
   "metadata": {},
   "source": [
    "### regex_capture_matches"
   ]
  },
  {
   "cell_type": "code",
   "execution_count": null,
   "metadata": {
    "dotnet_interactive": {
     "language": "spiral"
    },
    "polyglot_notebook": {
     "kernelName": "spiral"
    }
   },
   "outputs": [],
   "source": [
    "nominal regex_capture_matches = $'regex_CaptureMatches'"
   ]
  },
  {
   "cell_type": "markdown",
   "metadata": {},
   "source": [
    "### regex_capture_names"
   ]
  },
  {
   "cell_type": "code",
   "execution_count": null,
   "metadata": {
    "dotnet_interactive": {
     "language": "spiral"
    },
    "polyglot_notebook": {
     "kernelName": "spiral"
    }
   },
   "outputs": [],
   "source": [
    "nominal regex_capture_names = $'regex_CaptureNames'\n",
    "\n",
    "inl regex_capture_names (regex : regex) : regex_capture_names =\n",
    "    !\\\\(regex, $'$\"$0.capture_names()\"')"
   ]
  },
  {
   "cell_type": "markdown",
   "metadata": {},
   "source": [
    "### match'"
   ]
  },
  {
   "cell_type": "code",
   "execution_count": null,
   "metadata": {
    "dotnet_interactive": {
     "language": "spiral"
    },
    "polyglot_notebook": {
     "kernelName": "spiral"
    }
   },
   "outputs": [],
   "source": [
    "nominal match' = $'regex_Match'"
   ]
  },
  {
   "cell_type": "markdown",
   "metadata": {},
   "source": [
    "### regex_captures_iter"
   ]
  },
  {
   "cell_type": "code",
   "execution_count": null,
   "metadata": {
    "dotnet_interactive": {
     "language": "spiral"
    },
    "polyglot_notebook": {
     "kernelName": "spiral"
    }
   },
   "outputs": [],
   "source": [
    "inl regex_captures_iter (s : rust.static_ref (rust.mut' std_string)) (regex : regex) : regex_capture_matches =\n",
    "    !\\($'$\"!regex.captures_iter(!s)\"')"
   ]
  },
  {
   "cell_type": "markdown",
   "metadata": {},
   "source": [
    "### regex_captures"
   ]
  },
  {
   "cell_type": "code",
   "execution_count": null,
   "metadata": {
    "dotnet_interactive": {
     "language": "spiral"
    },
    "polyglot_notebook": {
     "kernelName": "spiral"
    }
   },
   "outputs": [],
   "source": [
    "inl regex_captures (s : string) (regex : regex) : am'.vec (mapm.hash_map string string) =\n",
    "    // inl s = join s\n",
    "    // !\\\\(regex, $'$\"$0.captures_iter(&*!s).map(|caps| $0.capture_names().map(|x| x.and_then(|n| Some((n, caps.name(n)?.as_str())))).flatten().collect()).collect()\"')\n",
    "\n",
    "    inl s = s |> to_std_string\n",
    "    fun () =>\n",
    "        inl matches =\n",
    "            inl s = s |> rust.new_box |> rust.box_leak\n",
    "            regex |> regex_captures_iter s\n",
    "\n",
    "        (!\\($'\"true; let _result : Vec<_> = !matches.map(|x| { //\"') : bool) |> ignore\n",
    "\n",
    "        inl fn (match' : rust.static_ref (rust.mut' (regex_captures rust.static_lifetime))) : mapm.hash_map string string =\n",
    "\n",
    "            inl names = regex |> regex_capture_names\n",
    "\n",
    "            (!\\($'\"true; let _result : std::collections::HashMap<_, _> = !names.map(|x| { //\"') : bool) |> ignore\n",
    "\n",
    "            inl fn (n : string) : pair string string =\n",
    "                inl n' = n |> rust.clone\n",
    "\n",
    "                new_pair n' !\\\\(n, $'$\"!match'.name(&$0).map(|x| x.as_str()).unwrap_or(\\\\\\\"\\\\\\\").to_string().into()\"')\n",
    "\n",
    "            (!\\\\(fn !\\($'\"x.unwrap_or(\\\\\\\"\\\\\\\").to_string().into()\"'), $'\"true; $0 }).map(|x| std::sync::Arc::try_unwrap(x).unwrap_or_else(|x| (*x).clone())).collect()\"') : bool) |> ignore\n",
    "\n",
    "            !\\($'\"_result\"')\n",
    "\n",
    "        inl x =\n",
    "            !\\($'$\"x\"')\n",
    "            |> rust.new_box\n",
    "            |> rust.box_leak\n",
    "\n",
    "        (!\\\\(fn x, $'\"true; $0 }).collect::<Vec<_>>()\"') : bool) |> ignore\n",
    "\n",
    "        !\\($'\"_result\"')\n",
    "\n",
    "    |> rust.capture_move"
   ]
  },
  {
   "cell_type": "code",
   "execution_count": null,
   "metadata": {
    "dotnet_interactive": {
     "language": "spiral"
    },
    "polyglot_notebook": {
     "kernelName": "spiral"
    }
   },
   "outputs": [
    {
     "data": {
      "text/plain": [
       "assert_eq / actual: \"[[(\"\", \"\"), (\"a\", \"4.17.0\")]]\" / expected: \"[[(\"\", \"\"), (\"a\", \"4.17.0\")]]\"\n"
      ]
     },
     "metadata": {},
     "output_type": "display_data"
    }
   ],
   "source": [
    "//// test\n",
    "///! rust -d regex\n",
    "\n",
    "types ()\n",
    "\"fable-library-ts\\\\.(?<a>[\\\\d.]+)$\"\n",
    "|> new_regex\n",
    "|> resultm.unwrap'\n",
    "|> regex_captures \"fable_modules/fable-library-ts.4.17.0\"\n",
    "|> am'.vec_map (mapm.to_vec >> am'.vec_sort_by_key id)\n",
    "|> sm'.format_debug\n",
    "|> _assert_eq (\n",
    "    ;[\n",
    "        ;[ \"\", \"\"; \"a\", \"4.17.0\" ]\n",
    "        |> am'.to_vec\n",
    "    ]\n",
    "    |> am'.to_vec\n",
    "    |> sm'.format_debug\n",
    ")"
   ]
  },
  {
   "cell_type": "markdown",
   "metadata": {},
   "source": [
    "### replace_regex'"
   ]
  },
  {
   "cell_type": "code",
   "execution_count": null,
   "metadata": {
    "dotnet_interactive": {
     "language": "spiral"
    },
    "polyglot_notebook": {
     "kernelName": "spiral"
    }
   },
   "outputs": [],
   "source": [
    "inl replace_regex' (pattern : string) (replacement : a i32 string) (s : string) : string =\n",
    "    run_target function\n",
    "        | Rust (Native) => fun () =>\n",
    "            inl s = join s\n",
    "            inl replacement = join replacement\n",
    "            inl regex = pattern |> new_regex |> resultm.unwrap'\n",
    "            !\\\\((regex, #s, replacement), $'$\"$0.replace_all($1, &*$2)\"')\n",
    "            |> cow_to_std_string\n",
    "            |> from_std_string\n",
    "        | _ => fun () => null ()"
   ]
  },
  {
   "cell_type": "markdown",
   "metadata": {},
   "source": [
    "### serialize"
   ]
  },
  {
   "cell_type": "code",
   "execution_count": null,
   "metadata": {
    "dotnet_interactive": {
     "language": "spiral"
    },
    "polyglot_notebook": {
     "kernelName": "spiral"
    }
   },
   "outputs": [],
   "source": [
    "inl serialize forall t. (x : t) : resultm.result' std_string json_error =\n",
    "    !\\($'\"serde_json::to_string(&!x)\"')"
   ]
  },
  {
   "cell_type": "markdown",
   "metadata": {},
   "source": [
    "### deserialize"
   ]
  },
  {
   "cell_type": "code",
   "execution_count": null,
   "metadata": {
    "dotnet_interactive": {
     "language": "spiral"
    },
    "polyglot_notebook": {
     "kernelName": "spiral"
    }
   },
   "outputs": [],
   "source": [
    "inl deserialize forall t. (json : string) : resultm.result' t std_string =\n",
    "    inl json = join json\n",
    "    inl json = json |> as_str\n",
    "    !\\($'\"serde_json::from_str(&!json)\"')\n",
    "    |> resultm.map_error' fun (x : json_error) => x |> format'"
   ]
  },
  {
   "cell_type": "markdown",
   "metadata": {},
   "source": [
    "### borsh_deserialize"
   ]
  },
  {
   "cell_type": "code",
   "execution_count": null,
   "metadata": {
    "dotnet_interactive": {
     "language": "spiral"
    },
    "polyglot_notebook": {
     "kernelName": "spiral"
    }
   },
   "outputs": [],
   "source": [
    "inl borsh_deserialize forall t. (data : array_base u8) : resultm.result' t std_string =\n",
    "    inl data = data |> am'.as_slice\n",
    "    (!\\($'\"true; let mut !data = !data\"') : bool) |> ignore\n",
    "    inl result = !\\($'\"borsh::BorshDeserialize::deserialize(&mut !data)\"')\n",
    "    result\n",
    "    |> resultm.map_error' fun (x : borsh_io_error) => x |> format'"
   ]
  },
  {
   "cell_type": "markdown",
   "metadata": {},
   "source": [
    "### deserialize_vec"
   ]
  },
  {
   "cell_type": "code",
   "execution_count": null,
   "metadata": {
    "dotnet_interactive": {
     "language": "spiral"
    },
    "polyglot_notebook": {
     "kernelName": "spiral"
    }
   },
   "outputs": [],
   "source": [
    "inl deserialize_vec (value : json_value) : resultm.result' (am'.vec u8) std_string =\n",
    "    inl value = join value\n",
    "    !\\($'\"serde_json::from_value(!value)\"')\n",
    "    |> resultm.map_error' fun (x : json_error) => x |> format'"
   ]
  },
  {
   "cell_type": "markdown",
   "metadata": {},
   "source": [
    "### encode_uri_component"
   ]
  },
  {
   "cell_type": "code",
   "execution_count": null,
   "metadata": {
    "dotnet_interactive": {
     "language": "spiral"
    },
    "polyglot_notebook": {
     "kernelName": "spiral"
    }
   },
   "outputs": [],
   "source": [
    "inl encode_uri_component (s : std_string) : js_string =\n",
    "    !\\($'\"js_sys::encode_uri_component(&!s)\"')"
   ]
  },
  {
   "cell_type": "markdown",
   "metadata": {},
   "source": [
    "### strip_prefix"
   ]
  },
  {
   "cell_type": "code",
   "execution_count": null,
   "metadata": {
    "dotnet_interactive": {
     "language": "spiral"
    },
    "polyglot_notebook": {
     "kernelName": "spiral"
    }
   },
   "outputs": [],
   "source": [
    "inl strip_prefix (prefix : char) (s : std_string) : optionm'.option' (rust.ref' str) =\n",
    "    inl s = join s\n",
    "    !\\($'\"!s.strip_prefix(!prefix)\"')"
   ]
  },
  {
   "cell_type": "markdown",
   "metadata": {},
   "source": [
    "### str_from_utf8"
   ]
  },
  {
   "cell_type": "code",
   "execution_count": null,
   "metadata": {
    "dotnet_interactive": {
     "language": "spiral"
    },
    "polyglot_notebook": {
     "kernelName": "spiral"
    }
   },
   "outputs": [],
   "source": [
    "inl str_from_utf8 (bytes : rust.ref' (am'.slice u8)) : resultm.result' (rust.ref' str) utf8_error =\n",
    "    !\\\\(bytes, $'\"std::str::from_utf8($0)\"')"
   ]
  },
  {
   "cell_type": "markdown",
   "metadata": {},
   "source": [
    "### string_from_utf8"
   ]
  },
  {
   "cell_type": "code",
   "execution_count": null,
   "metadata": {
    "dotnet_interactive": {
     "language": "spiral"
    },
    "polyglot_notebook": {
     "kernelName": "spiral"
    }
   },
   "outputs": [],
   "source": [
    "inl string_from_utf8 (bytes : am'.vec u8) : resultm.result' std_string from_utf8_error =\n",
    "    inl bytes = join bytes\n",
    "    !\\\\(bytes, $'\"std::string::String::from_utf8($0)\"')"
   ]
  },
  {
   "cell_type": "markdown",
   "metadata": {},
   "source": [
    "### base64_decode"
   ]
  },
  {
   "cell_type": "code",
   "execution_count": null,
   "metadata": {
    "dotnet_interactive": {
     "language": "spiral"
    },
    "polyglot_notebook": {
     "kernelName": "spiral"
    }
   },
   "outputs": [],
   "source": [
    "inl base64_decode (s : std_string) : result std_string std_string =\n",
    "    fun () =>\n",
    "        inl s = join s\n",
    "        inl bytes : resultm.result' (am'.vec u8) base64_decode_error =\n",
    "            !\\($'\"base64::Engine::decode(&base64::engine::general_purpose::STANDARD, !s)\"')\n",
    "        bytes\n",
    "        |> resultm.map_error' format'\n",
    "        |> resultm.try'\n",
    "        |> string_from_utf8\n",
    "        |> resultm.map_error' format'\n",
    "    |> fun x =>\n",
    "        join x ()\n",
    "        |> resultm.unbox"
   ]
  },
  {
   "cell_type": "markdown",
   "metadata": {},
   "source": [
    "### encoding'"
   ]
  },
  {
   "cell_type": "code",
   "execution_count": null,
   "metadata": {
    "dotnet_interactive": {
     "language": "spiral"
    },
    "polyglot_notebook": {
     "kernelName": "spiral"
    }
   },
   "outputs": [],
   "source": [
    "nominal encoding' = $'encoding_rs_Encoding'"
   ]
  },
  {
   "cell_type": "markdown",
   "metadata": {},
   "source": [
    "### encoding_utf8'"
   ]
  },
  {
   "cell_type": "code",
   "execution_count": null,
   "metadata": {
    "dotnet_interactive": {
     "language": "spiral"
    },
    "polyglot_notebook": {
     "kernelName": "spiral"
    }
   },
   "outputs": [],
   "source": [
    "inl encoding_utf8' () : rust.ref' encoding' =\n",
    "    !\\($'\"encoding_rs::UTF_8\"')"
   ]
  },
  {
   "cell_type": "markdown",
   "metadata": {},
   "source": [
    "### encoding_1252"
   ]
  },
  {
   "cell_type": "code",
   "execution_count": null,
   "metadata": {
    "dotnet_interactive": {
     "language": "spiral"
    },
    "polyglot_notebook": {
     "kernelName": "spiral"
    }
   },
   "outputs": [],
   "source": [
    "inl encoding_1252' () : rust.ref' encoding' =\n",
    "    !\\($'\"encoding_rs::WINDOWS_1252\"')"
   ]
  },
  {
   "cell_type": "markdown",
   "metadata": {},
   "source": [
    "### encoding_encode"
   ]
  },
  {
   "cell_type": "code",
   "execution_count": null,
   "metadata": {
    "dotnet_interactive": {
     "language": "spiral"
    },
    "polyglot_notebook": {
     "kernelName": "spiral"
    }
   },
   "outputs": [],
   "source": [
    "inl encoding_encode' (encoding : rust.ref' encoding') (text : string) : rust.cow (am'.slice u8) =\n",
    "    !\\\\((encoding, text), $'\"$0.encode(&*$1).0\"')"
   ]
  },
  {
   "cell_type": "markdown",
   "metadata": {},
   "source": [
    "### utf8_decode"
   ]
  },
  {
   "cell_type": "code",
   "execution_count": null,
   "metadata": {
    "dotnet_interactive": {
     "language": "spiral"
    },
    "polyglot_notebook": {
     "kernelName": "spiral"
    }
   },
   "outputs": [],
   "source": [
    "inl utf8_decode (data : am'.vec u8) : resultm.result' std_string (rust.cow str) =\n",
    "    !\\($'$\"encoding::Encoding::decode(encoding::all::UTF_8, &!data, encoding::DecoderTrap::Replace)\"')"
   ]
  },
  {
   "cell_type": "markdown",
   "metadata": {},
   "source": [
    "### windows"
   ]
  },
  {
   "cell_type": "code",
   "execution_count": null,
   "metadata": {
    "dotnet_interactive": {
     "language": "spiral"
    },
    "polyglot_notebook": {
     "kernelName": "spiral"
    }
   },
   "outputs": [],
   "source": [
    "nominal windows t = $'std_slice_Windows<`t>'\n",
    "\n",
    "inl windows (len : unativeint) (source : am'.vec u8) : windows u8 =\n",
    "    inl source = source |> rust.new_box |> rust.box_leak\n",
    "    // inl source' = source |> rust.clone\n",
    "    inl result = !\\\\(len, $'\"<[_]>::windows(!source, $0)\"')\n",
    "    // source |> rust.drop\n",
    "    result"
   ]
  },
  {
   "cell_type": "markdown",
   "metadata": {},
   "source": [
    "### any"
   ]
  },
  {
   "cell_type": "code",
   "execution_count": null,
   "metadata": {
    "dotnet_interactive": {
     "language": "spiral"
    },
    "polyglot_notebook": {
     "kernelName": "spiral"
    }
   },
   "outputs": [],
   "source": [
    "inl any forall t. (fn : string -> bool) (source : windows t) : bool =\n",
    "    (!\\($'\"true; let mut !source = !source\"') : bool) |> ignore\n",
    "    inl fn' x =\n",
    "        x\n",
    "        |> str_from_utf8\n",
    "        |> resultm.unwrap_or' #\"\"\n",
    "        |> ref_to_std_string\n",
    "        |> from_std_string\n",
    "        |> fn\n",
    "    !\\\\(fn', $'\"!source.any(move |x| $0(x))\"')"
   ]
  },
  {
   "cell_type": "markdown",
   "metadata": {},
   "source": [
    "### slice_contains"
   ]
  },
  {
   "cell_type": "code",
   "execution_count": null,
   "metadata": {
    "dotnet_interactive": {
     "language": "spiral"
    },
    "polyglot_notebook": {
     "kernelName": "spiral"
    }
   },
   "outputs": [],
   "source": [
    "inl slice_contains (text : string) (source : am'.vec u8) : bool =\n",
    "    fun () =>\n",
    "        inl source = join source\n",
    "        source\n",
    "        |> windows (text |> length |> (fun x => x : i32) |> convert)\n",
    "        |> any ((=.) text)\n",
    "    |> fun x => join x ()"
   ]
  },
  {
   "cell_type": "markdown",
   "metadata": {},
   "source": [
    "### as_bytes"
   ]
  },
  {
   "cell_type": "code",
   "execution_count": null,
   "metadata": {
    "dotnet_interactive": {
     "language": "spiral"
    },
    "polyglot_notebook": {
     "kernelName": "spiral"
    }
   },
   "outputs": [],
   "source": [
    "inl as_bytes (text : string) : rust.ref' (am'.slice u8) =\n",
    "    inl text = join text\n",
    "    !\\($'\"!text.as_bytes()\"')"
   ]
  },
  {
   "cell_type": "markdown",
   "metadata": {},
   "source": [
    "## python"
   ]
  },
  {
   "cell_type": "markdown",
   "metadata": {},
   "source": [
    "### encode_utf8"
   ]
  },
  {
   "cell_type": "code",
   "execution_count": null,
   "metadata": {
    "dotnet_interactive": {
     "language": "spiral"
    },
    "polyglot_notebook": {
     "kernelName": "spiral"
    }
   },
   "outputs": [],
   "source": [
    "inl encode_utf8 (s : string) : string =\n",
    "    inl encoding = \"utf-8\"\n",
    "    backend_switch {\n",
    "        Fsharp = fun () =>\n",
    "            open python_operators\n",
    "            !\\\\((s, encoding), $'\"$0.encode($1)\"') : string\n",
    "        Python = fun () =>\n",
    "            $'!s.encode(!encoding)' : string\n",
    "    }"
   ]
  },
  {
   "cell_type": "markdown",
   "metadata": {},
   "source": [
    "## sm'"
   ]
  },
  {
   "cell_type": "markdown",
   "metadata": {},
   "source": [
    "### contains"
   ]
  },
  {
   "cell_type": "code",
   "execution_count": null,
   "metadata": {
    "dotnet_interactive": {
     "language": "spiral"
    },
    "polyglot_notebook": {
     "kernelName": "spiral"
    }
   },
   "outputs": [],
   "source": [
    "inl contains (value : string) (s : string) : bool =\n",
    "    backend_switch {\n",
    "        Fsharp = fun () => $'!s.Contains !value ' : bool\n",
    "        Python = fun () => $'!value in !s ' : bool\n",
    "    }"
   ]
  },
  {
   "cell_type": "markdown",
   "metadata": {},
   "source": [
    "### to_string result t u"
   ]
  },
  {
   "cell_type": "code",
   "execution_count": null,
   "metadata": {
    "dotnet_interactive": {
     "language": "spiral"
    },
    "polyglot_notebook": {
     "kernelName": "spiral"
    }
   },
   "outputs": [],
   "source": [
    "instance to_string result t u = fun x =>\n",
    "    real\n",
    "        open rust\n",
    "        typecase (t * u) with\n",
    "        | string * string =>\n",
    "            match x with\n",
    "            | Ok x => x\n",
    "            | Error x => $'\"sm\\'.to_string result / Error: \" + !x + \"\"' : string\n",
    "        | std_string * std_string =>\n",
    "            match x with\n",
    "            | Ok x => from_std_string x\n",
    "            | Error x => $'\"sm\\'.to_string result / Error: \" + string !x + \"\"' : string\n",
    "        | _ => obj_to_string `u x"
   ]
  },
  {
   "cell_type": "markdown",
   "metadata": {},
   "source": [
    "### format_exception"
   ]
  },
  {
   "cell_type": "code",
   "execution_count": null,
   "metadata": {
    "dotnet_interactive": {
     "language": "spiral"
    },
    "polyglot_notebook": {
     "kernelName": "spiral"
    }
   },
   "outputs": [],
   "source": [
    "inl format_exception (ex : exn) : string =\n",
    "    run_target function\n",
    "        | Fsharp (Native) => fun () => $'$\"{!ex.GetType ()}: {!ex.Message}\"'\n",
    "        | _ => fun () => ex |> format_debug"
   ]
  },
  {
   "cell_type": "code",
   "execution_count": null,
   "metadata": {
    "dotnet_interactive": {
     "language": "spiral"
    },
    "polyglot_notebook": {
     "kernelName": "spiral"
    }
   },
   "outputs": [
    {
     "data": {
      "text/plain": [
       ".rs output:\n",
       "assert_eq / actual: \"Exception { message: \"test\" }\" / expected: \"Exception { message: \"test\" }\"\n",
       "\n",
       ".ts output:\n",
       "assert_eq / actual: Error: test / expected: Error: test\n",
       "\n",
       ".py output:\n",
       "assert_eq / actual: test / expected: test\n"
      ]
     },
     "metadata": {},
     "output_type": "display_data"
    },
    {
     "name": "stdout",
     "output_type": "stream",
     "text": [
      ".fsx output:\n",
      "assert_eq / actual: \"System.Exception: test\" / expected: \"System.Exception: test\"\n"
     ]
    }
   ],
   "source": [
    "//// test\n",
    "///! fsharp\n",
    "///! rust\n",
    "///! typescript\n",
    "///! python\n",
    "\n",
    "fun () => failwith \"test\"\n",
    "|> _throws\n",
    "|> optionm.value\n",
    "|> sm'.format_exception\n",
    "|> _assert_eq (run_target function\n",
    "    | Fsharp _ => fun () => \"System.Exception: test\"\n",
    "    | Rust _ => fun () => \"Exception { message: \\\"test\\\" }\"\n",
    "    | TypeScript _ => fun () => \"Error: test\"\n",
    "    | Python _ => fun () => \"test\"\n",
    "    | _ => fun () => null ()\n",
    ")"
   ]
  },
  {
   "cell_type": "markdown",
   "metadata": {},
   "source": [
    "### range"
   ]
  },
  {
   "cell_type": "code",
   "execution_count": null,
   "metadata": {
    "dotnet_interactive": {
     "language": "spiral"
    },
    "polyglot_notebook": {
     "kernelName": "spiral"
    }
   },
   "outputs": [],
   "source": [
    "inl range forall t. (start : am'.range t) (end : am'.range t) s =\n",
    "    inl start, end =\n",
    "        match start, end with\n",
    "        | Start start, End fn =>\n",
    "            start, s |> length' |> fn\n",
    "        | End start_fn, End end_fn =>\n",
    "            inl len = s |> length'\n",
    "            start_fn len, end_fn len\n",
    "    s |> slice (start |> i32) (end |> i32)"
   ]
  },
  {
   "cell_type": "markdown",
   "metadata": {},
   "source": [
    "### concat_list"
   ]
  },
  {
   "cell_type": "code",
   "execution_count": null,
   "metadata": {
    "dotnet_interactive": {
     "language": "spiral"
    },
    "polyglot_notebook": {
     "kernelName": "spiral"
    }
   },
   "outputs": [],
   "source": [
    "inl concat_list s list =\n",
    "    list\n",
    "    |> listm'.box\n",
    "    |> seq.of_list'\n",
    "    |> concat s"
   ]
  },
  {
   "cell_type": "markdown",
   "metadata": {},
   "source": [
    "### ellipsis_end"
   ]
  },
  {
   "cell_type": "code",
   "execution_count": null,
   "metadata": {
    "dotnet_interactive": {
     "language": "spiral"
    },
    "polyglot_notebook": {
     "kernelName": "spiral"
    }
   },
   "outputs": [],
   "source": [
    "let ellipsis_end (max : i64) (s : string) =\n",
    "    inl len = sm.length s\n",
    "    if len <= max\n",
    "    then s\n",
    "    else\n",
    "        inl half = f64 max / 2\n",
    "        inl start_half = half |> math.ceil |> i64\n",
    "        inl end_half = half |> math.floor |> i64\n",
    "        inl start = s |> slice 0 (start_half - 1)\n",
    "        inl end = s |> slice (len - end_half) (len - 1)\n",
    "        (a ;[start; \"...\"; end] : _ i32 _)\n",
    "        |> seq.of_array\n",
    "        |> concat \"\""
   ]
  },
  {
   "cell_type": "code",
   "execution_count": null,
   "metadata": {
    "dotnet_interactive": {
     "language": "spiral"
    },
    "polyglot_notebook": {
     "kernelName": "spiral"
    }
   },
   "outputs": [
    {
     "name": "stdout",
     "output_type": "stream",
     "text": [
      "assert_eq / actual: \"1...5\" / expected: \"1...5\"\n",
      "assert_eq / actual: \"12...5\" / expected: \"12...5\"\n",
      "assert_eq / actual: \"12...67\" / expected: \"12...67\"\n"
     ]
    }
   ],
   "source": [
    "//// test\n",
    "\n",
    "\"12345\"\n",
    "|> ellipsis_end 2\n",
    "|> _assert_eq \"1...5\"\n",
    "\n",
    "\"12345\"\n",
    "|> ellipsis_end 3\n",
    "|> _assert_eq \"12...5\"\n",
    "\n",
    "\"1234567\"\n",
    "|> ellipsis_end 4\n",
    "|> _assert_eq \"12...67\""
   ]
  },
  {
   "cell_type": "markdown",
   "metadata": {},
   "source": [
    "### format_ellipsis"
   ]
  },
  {
   "cell_type": "code",
   "execution_count": null,
   "metadata": {
    "dotnet_interactive": {
     "language": "spiral"
    },
    "polyglot_notebook": {
     "kernelName": "spiral"
    }
   },
   "outputs": [],
   "source": [
    "inl format_ellipsis s =\n",
    "    s\n",
    "    |> format_debug\n",
    "    |> ellipsis_end 400"
   ]
  },
  {
   "cell_type": "markdown",
   "metadata": {},
   "source": [
    "### replace_regex"
   ]
  },
  {
   "cell_type": "code",
   "execution_count": null,
   "metadata": {
    "dotnet_interactive": {
     "language": "spiral"
    },
    "polyglot_notebook": {
     "kernelName": "spiral"
    }
   },
   "outputs": [],
   "source": [
    "inl replace_regex (pattern : string) (replacement : string) (s : string) : string =\n",
    "    inl replacement = join replacement\n",
    "    run_target function\n",
    "        | Fsharp (Native) => fun () =>\n",
    "            inl pattern = join pattern\n",
    "            $'System.Text.RegularExpressions.Regex.Replace (!s, !pattern, !replacement)'\n",
    "        | Rust (Native) => fun () =>\n",
    "            inl s = join s\n",
    "            inl regex = pattern |> new_regex |> resultm.unwrap'\n",
    "            !\\\\((regex, s, replacement), $'$\"$0.replace_all(&$1, &*$2)\"')\n",
    "            |> cow_to_std_string\n",
    "            |> from_std_string\n",
    "        | _ => fun () => null ()"
   ]
  },
  {
   "cell_type": "code",
   "execution_count": null,
   "metadata": {
    "dotnet_interactive": {
     "language": "spiral"
    },
    "polyglot_notebook": {
     "kernelName": "spiral"
    }
   },
   "outputs": [
    {
     "name": "stdout",
     "output_type": "stream",
     "text": [
      "assert_eq / actual: \"3\" / expected: \"3\"\n"
     ]
    }
   ],
   "source": [
    "//// test\n",
    "\n",
    "\" 123\"\n",
    "|> replace_regex \"\\\\s\\\\w2\" \"\"\n",
    "|> _assert_eq \"3\""
   ]
  },
  {
   "cell_type": "code",
   "execution_count": null,
   "metadata": {
    "dotnet_interactive": {
     "language": "spiral"
    },
    "polyglot_notebook": {
     "kernelName": "spiral"
    }
   },
   "outputs": [
    {
     "data": {
      "text/plain": [
       "assert_eq / actual: \"3\" / expected: \"3\"\n"
      ]
     },
     "metadata": {},
     "output_type": "display_data"
    }
   ],
   "source": [
    "//// test\n",
    "///! rust -d regex\n",
    "\n",
    "types ()\n",
    "\" 123\"\n",
    "|> replace_regex \"\\\\s\\\\w2\" \"\"\n",
    "|> _assert_eq \"3\""
   ]
  },
  {
   "cell_type": "code",
   "execution_count": null,
   "metadata": {
    "dotnet_interactive": {
     "language": "spiral"
    },
    "polyglot_notebook": {
     "kernelName": "spiral"
    }
   },
   "outputs": [
    {
     "data": {
      "text/plain": [
       "assert_eq / actual: \"    [<EntryPoint>]\n",
       "    let main args =\n",
       "        ()\n",
       "\" / expected: \"    [<EntryPoint>]\n",
       "    let main args =\n",
       "        ()\n",
       "\"\n"
      ]
     },
     "metadata": {},
     "output_type": "display_data"
    }
   ],
   "source": [
    "//// test\n",
    "///! rust -d regex\n",
    "\n",
    "types ()\n",
    "\"    let main args =\\n        ()\\n\"\n",
    "|> replace_regex $'@@\"(?P<a> *)(?P<b>let\\\\s+main\\\\s+.*?\\\\s*=)\"' \"$a[<EntryPoint>]\\n$a$b\"\n",
    "|> _assert_eq \"    [<EntryPoint>]\\n    let main args =\\n        ()\\n\""
   ]
  },
  {
   "cell_type": "markdown",
   "metadata": {},
   "source": [
    "## main"
   ]
  },
  {
   "cell_type": "code",
   "execution_count": null,
   "metadata": {
    "dotnet_interactive": {
     "language": "spiral"
    },
    "polyglot_notebook": {
     "kernelName": "spiral"
    }
   },
   "outputs": [],
   "source": [
    "inl main () =\n",
    "    types ()\n",
    "    $'let contains x = !contains x' : ()\n",
    "    $'let ends_with x = !ends_with x' : ()\n",
    "    $'let pad_left x = !pad_left x' : ()\n",
    "    $'let pad_right x = !pad_right x' : ()\n",
    "    $'let replace x = !replace x' : ()\n",
    "    $'let replace_regex x = !replace_regex x' : ()\n",
    "    inl slice (a : i32) (b : i32) c = slice a b c\n",
    "    $'let slice x = !slice x' : ()\n",
    "    $'let split x = !split x' : ()\n",
    "    $'let split_string x = !split_string x' : ()\n",
    "    $'let starts_with x = !starts_with x' : ()\n",
    "    $'let substring x = !substring x' : ()\n",
    "    $'let to_lower x = !to_lower x' : ()\n",
    "    $'let to_upper x = !to_upper x' : ()\n",
    "    $'let trim x = !trim x' : ()\n",
    "    inl trim_end x = (a x : _ int _) |> am'.to_list' |> listm'.unbox |> trim_end\n",
    "    $'let trim_end x = !trim_end x' : ()\n",
    "    inl trim_start x = (a x : _ int _) |> am'.to_list' |> listm'.unbox |> trim_start\n",
    "    $'let trim_start x = !trim_start x' : ()\n",
    "    $'let ellipsis x = !ellipsis x' : ()\n",
    "    $'let ellipsis_end x = !ellipsis_end x' : ()\n",
    "    $'let format_exception x = !format_exception x' : ()\n",
    "    $'let concat_array_trailing x = !concat_array_trailing x' : ()\n",
    "    inl concat a (b : seq.seq' string) = concat a b\n",
    "    $'let concat x = !concat x' : ()\n",
    "    $'let join\\' x = !join' x' : ()\n",
    "    $'let to_char_array x = !to_char_array x' : ()"
   ]
  },
  {
   "cell_type": "markdown",
   "metadata": {},
   "source": [
    "## rust"
   ]
  },
  {
   "cell_type": "markdown",
   "metadata": {},
   "source": [
    "### to_string std_string"
   ]
  },
  {
   "cell_type": "code",
   "execution_count": null,
   "metadata": {
    "dotnet_interactive": {
     "language": "spiral"
    },
    "polyglot_notebook": {
     "kernelName": "spiral"
    }
   },
   "outputs": [],
   "source": [
    "open rust\n",
    "instance to_string std_string = from_std_string"
   ]
  }
 ],
 "metadata": {},
 "nbformat": 4,
 "nbformat_minor": 5
}