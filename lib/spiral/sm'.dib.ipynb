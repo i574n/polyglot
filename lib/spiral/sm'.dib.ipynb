{
 "cells": [
  {
   "cell_type": "markdown",
   "metadata": {},
   "source": [
    "# sm'"
   ]
  },
  {
   "cell_type": "code",
   "execution_count": null,
   "metadata": {
    "dotnet_interactive": {
     "language": "spiral"
    },
    "polyglot_notebook": {
     "kernelName": "spiral"
    }
   },
   "outputs": [
    {
     "name": "stdout",
     "output_type": "stream",
     "text": [
      "()\n",
      "\n"
     ]
    }
   ],
   "source": [
    "//// test\n",
    "\n",
    "open testing"
   ]
  },
  {
   "cell_type": "code",
   "execution_count": null,
   "metadata": {
    "dotnet_interactive": {
     "language": "spiral"
    },
    "polyglot_notebook": {
     "kernelName": "spiral"
    }
   },
   "outputs": [
    {
     "name": "stdout",
     "output_type": "stream",
     "text": [
      "()\n",
      "\n"
     ]
    }
   ],
   "source": [
    "open rust_operators"
   ]
  },
  {
   "cell_type": "markdown",
   "metadata": {},
   "source": [
    "## types"
   ]
  },
  {
   "cell_type": "code",
   "execution_count": null,
   "metadata": {
    "dotnet_interactive": {
     "language": "spiral"
    },
    "polyglot_notebook": {
     "kernelName": "spiral"
    }
   },
   "outputs": [
    {
     "name": "stdout",
     "output_type": "stream",
     "text": [
      "()\n",
      "\n"
     ]
    }
   ],
   "source": [
    "inl types () =\n",
    "    global \"#if FABLE_COMPILER\\n[<Fable.Core.Erase; Fable.Core.Emit(\\\"str\\\")>]\\n#endif\\ntype Str = class end\"\n",
    "    global \"#if FABLE_COMPILER\\n[<Fable.Core.Erase; Fable.Core.Emit(\\\"base64::DecodeError\\\")>]\\n#endif\\ntype base64_DecodeError = class end\"\n",
    "    global \"#if FABLE_COMPILER\\n[<Fable.Core.Erase; Fable.Core.Emit(\\\"borsh::io::Error\\\")>]\\n#endif\\ntype borsh_io_Error = class end\"\n",
    "    global \"#if FABLE_COMPILER\\n[<Fable.Core.Erase; Fable.Core.Emit(\\\"encoding_rs::Encoding\\\")>]\\n#endif\\ntype encoding_rs_Encoding = class end\"\n",
    "    global \"#if FABLE_COMPILER\\n[<Fable.Core.Erase; Fable.Core.Emit(\\\"js_sys::JsString\\\")>]\\n#endif\\ntype js_sys_JsString = class end\"\n",
    "    global \"#if FABLE_COMPILER\\n[<Fable.Core.Erase; Fable.Core.Emit(\\\"serde_json::Error\\\")>]\\n#endif\\ntype serde_json_Error = class end\"\n",
    "    global \"#if FABLE_COMPILER\\n[<Fable.Core.Erase; Fable.Core.Emit(\\\"serde_json::Value\\\")>]\\n#endif\\ntype serde_json_Value = class end\"\n",
    "    global \"#if FABLE_COMPILER\\n[<Fable.Core.Erase; Fable.Core.Emit(\\\"serde_wasm_bindgen::Error\\\")>]\\n#endif\\ntype serde_wasm_bindgen_Error = class end\"\n",
    "    global \"#if FABLE_COMPILER\\n[<Fable.Core.Erase; Fable.Core.Emit(\\\"std::ffi::OsStr\\\")>]\\n#endif\\ntype std_ffi_OsStr = class end\"\n",
    "    global \"#if FABLE_COMPILER\\n[<Fable.Core.Erase; Fable.Core.Emit(\\\"std::ffi::OsString\\\")>]\\n#endif\\ntype std_ffi_OsString = class end\"\n",
    "    global \"#if FABLE_COMPILER\\n[<Fable.Core.Erase; Fable.Core.Emit(\\\"std::fmt::Display<$0>\\\")>]\\n#endif\\ntype std_fmt_Display<'T> = class end\"\n",
    "    global \"#if FABLE_COMPILER\\n[<Fable.Core.Erase; Fable.Core.Emit(\\\"std::str::Utf8Error\\\")>]\\n#endif\\ntype std_str_Utf8Error = class end\"\n",
    "    global \"#if FABLE_COMPILER\\n[<Fable.Core.Erase; Fable.Core.Emit(\\\"std::string::FromUtf8Error\\\")>]\\n#endif\\ntype std_string_FromUtf8Error = class end\"\n",
    "    global \"#if FABLE_COMPILER\\n[<Fable.Core.Erase; Fable.Core.Emit(\\\"std::string::String\\\")>]\\n#endif\\ntype std_string_String = class end\"\n",
    "    global \"#if FABLE_COMPILER\\n[<Fable.Core.Erase; Fable.Core.Emit(\\\"std::slice::Windows<$0>\\\")>]\\n#endif\\ntype std_slice_Windows<'T> = class end\"\n",
    "    global \"#if FABLE_COMPILER\\n[<Fable.Core.Erase; Fable.Core.Emit(\\\"regex::Regex\\\")>]\\n#endif\\ntype regex_Regex = class end\"\n",
    "    global \"#if FABLE_COMPILER\\n[<Fable.Core.Erase; Fable.Core.Emit(\\\"regex::Captures\\\")>]\\n#endif\\ntype regex_Captures = class end\"\n",
    "    global \"#if FABLE_COMPILER\\n[<Fable.Core.Erase; Fable.Core.Emit(\\\"regex::CaptureMatches\\\")>]\\n#endif\\ntype regex_CaptureMatches = class end\"\n",
    "    global \"#if FABLE_COMPILER\\n[<Fable.Core.Erase; Fable.Core.Emit(\\\"regex::Error\\\")>]\\n#endif\\ntype regex_Error = class end\""
   ]
  },
  {
   "cell_type": "code",
   "execution_count": null,
   "metadata": {
    "dotnet_interactive": {
     "language": "spiral"
    },
    "polyglot_notebook": {
     "kernelName": "spiral"
    }
   },
   "outputs": [
    {
     "name": "stdout",
     "output_type": "stream",
     "text": [
      "()\n",
      "\n"
     ]
    }
   ],
   "source": [
    "inl types () =\n",
    "    rust.types ()\n",
    "    mapm.types ()\n",
    "    types ()"
   ]
  },
  {
   "cell_type": "code",
   "execution_count": null,
   "metadata": {
    "dotnet_interactive": {
     "language": "spiral"
    },
    "polyglot_notebook": {
     "kernelName": "spiral"
    }
   },
   "outputs": [
    {
     "name": "stdout",
     "output_type": "stream",
     "text": [
      "()\n",
      "\n"
     ]
    }
   ],
   "source": [
    "nominal display t = $\"std_fmt_Display<`t>\"\n",
    "nominal str = $\"Str\"\n",
    "nominal base64_decode_error = $\"base64_DecodeError\"\n",
    "nominal borsh_io_error = $\"borsh_io_Error\"\n",
    "nominal utf8_error = $\"std_str_Utf8Error\"\n",
    "nominal from_utf8_error = $\"std_string_FromUtf8Error\"\n",
    "nominal json_value = $\"serde_json_Value\"\n",
    "nominal json_error = $\"serde_json_Error\"\n",
    "nominal serde_wasm_bindgen_error = $\"serde_wasm_bindgen_Error\"\n",
    "nominal js_string = $\"js_sys_JsString\"\n",
    "nominal os_str = $\"std_ffi_OsStr\"\n",
    "nominal os_string = $\"std_ffi_OsString\"\n",
    "nominal std_string = $\"std_string_String\""
   ]
  },
  {
   "cell_type": "markdown",
   "metadata": {},
   "source": [
    "## contains"
   ]
  },
  {
   "cell_type": "code",
   "execution_count": null,
   "metadata": {
    "dotnet_interactive": {
     "language": "spiral"
    },
    "polyglot_notebook": {
     "kernelName": "spiral"
    }
   },
   "outputs": [
    {
     "name": "stdout",
     "output_type": "stream",
     "text": [
      "()\n",
      "\n"
     ]
    }
   ],
   "source": [
    "inl contains (value : string) (s : string) : bool =\n",
    "    $\"!s.Contains !value\""
   ]
  },
  {
   "cell_type": "markdown",
   "metadata": {},
   "source": [
    "## ends_with"
   ]
  },
  {
   "cell_type": "code",
   "execution_count": null,
   "metadata": {
    "dotnet_interactive": {
     "language": "spiral"
    },
    "polyglot_notebook": {
     "kernelName": "spiral"
    }
   },
   "outputs": [
    {
     "name": "stdout",
     "output_type": "stream",
     "text": [
      "()\n",
      "\n"
     ]
    }
   ],
   "source": [
    "inl ends_with (value : string) (s : string) : bool =\n",
    "    $\"!s.EndsWith !value\""
   ]
  },
  {
   "cell_type": "markdown",
   "metadata": {},
   "source": [
    "## last_index_of"
   ]
  },
  {
   "cell_type": "code",
   "execution_count": null,
   "metadata": {
    "dotnet_interactive": {
     "language": "spiral"
    },
    "polyglot_notebook": {
     "kernelName": "spiral"
    }
   },
   "outputs": [
    {
     "name": "stdout",
     "output_type": "stream",
     "text": [
      "()\n",
      "\n"
     ]
    }
   ],
   "source": [
    "inl last_index_of (search : string) (s : string) : i32 =\n",
    "    $\"!s.LastIndexOf !search\""
   ]
  },
  {
   "cell_type": "markdown",
   "metadata": {},
   "source": [
    "## pad_left"
   ]
  },
  {
   "cell_type": "code",
   "execution_count": null,
   "metadata": {
    "dotnet_interactive": {
     "language": "spiral"
    },
    "polyglot_notebook": {
     "kernelName": "spiral"
    }
   },
   "outputs": [
    {
     "name": "stdout",
     "output_type": "stream",
     "text": [
      "()\n",
      "\n"
     ]
    }
   ],
   "source": [
    "inl pad_left (total_width : i32) (padding_char : char) (s : string) : string =\n",
    "    $\"!s.PadLeft (!total_width, !padding_char)\""
   ]
  },
  {
   "cell_type": "markdown",
   "metadata": {},
   "source": [
    "## pad_right"
   ]
  },
  {
   "cell_type": "code",
   "execution_count": null,
   "metadata": {
    "dotnet_interactive": {
     "language": "spiral"
    },
    "polyglot_notebook": {
     "kernelName": "spiral"
    }
   },
   "outputs": [
    {
     "name": "stdout",
     "output_type": "stream",
     "text": [
      "()\n",
      "\n"
     ]
    }
   ],
   "source": [
    "inl pad_right (total_width : i32) (padding_char : char) (s : string) : string =\n",
    "    $\"!s.PadRight (!total_width, !padding_char)\""
   ]
  },
  {
   "cell_type": "code",
   "execution_count": null,
   "metadata": {
    "dotnet_interactive": {
     "language": "spiral"
    },
    "polyglot_notebook": {
     "kernelName": "spiral"
    }
   },
   "outputs": [
    {
     "name": "stdout",
     "output_type": "stream",
     "text": [
      "let rec method1 (v0 : bool) : bool =\n",
      "    v0\n",
      "and method0 () : unit =\n",
      "    let v0 : string = \"123\"\n",
      "    let v1 : string = v0.PadRight (6, ' ')\n",
      "    let v3 : bool = v1 = \"123   \"\n",
      "    let v5 : bool =\n",
      "        if v3 then\n",
      "            true\n",
      "        else\n",
      "            method1(v3)\n",
      "    let v6 : string = \"assert_eq\"\n",
      "    let v7 : string = \"123   \"\n",
      "    let v8 : string = $\"{v6} / actual: %A{v1} / expected: %A{v7}\"\n",
      "    System.Console.WriteLine v8\n",
      "    let v9 : bool = v5 = false\n",
      "    if v9 then\n",
      "        failwith<unit> v8\n",
      "method0()\n",
      "\n",
      "assert_eq / actual: \"123   \" / expected: \"123   \"\n"
     ]
    }
   ],
   "source": [
    "//// test\n",
    "\n",
    "\"123\"\n",
    "|> pad_right 6 ' '\n",
    "|> _assert_eq \"123   \""
   ]
  },
  {
   "cell_type": "markdown",
   "metadata": {},
   "source": [
    "## starts_with"
   ]
  },
  {
   "cell_type": "code",
   "execution_count": null,
   "metadata": {
    "dotnet_interactive": {
     "language": "spiral"
    },
    "polyglot_notebook": {
     "kernelName": "spiral"
    }
   },
   "outputs": [
    {
     "name": "stdout",
     "output_type": "stream",
     "text": [
      "()\n",
      "\n"
     ]
    }
   ],
   "source": [
    "inl starts_with (value : string) (s : string) : bool =\n",
    "    $\"!s.StartsWith !value\""
   ]
  },
  {
   "cell_type": "markdown",
   "metadata": {},
   "source": [
    "## substring"
   ]
  },
  {
   "cell_type": "code",
   "execution_count": null,
   "metadata": {
    "dotnet_interactive": {
     "language": "spiral"
    },
    "polyglot_notebook": {
     "kernelName": "spiral"
    }
   },
   "outputs": [
    {
     "name": "stdout",
     "output_type": "stream",
     "text": [
      "()\n",
      "\n"
     ]
    }
   ],
   "source": [
    "inl substring (start : i32) (len : i32) (str : string) : string =\n",
    "    $\"!str.Substring (!start, !len)\""
   ]
  },
  {
   "cell_type": "markdown",
   "metadata": {},
   "source": [
    "## to_lower"
   ]
  },
  {
   "cell_type": "code",
   "execution_count": null,
   "metadata": {
    "dotnet_interactive": {
     "language": "spiral"
    },
    "polyglot_notebook": {
     "kernelName": "spiral"
    }
   },
   "outputs": [
    {
     "name": "stdout",
     "output_type": "stream",
     "text": [
      "()\n",
      "\n"
     ]
    }
   ],
   "source": [
    "inl to_lower (input : string) : string =\n",
    "    $\"!input.ToLower ()\""
   ]
  },
  {
   "cell_type": "markdown",
   "metadata": {},
   "source": [
    "## to_upper"
   ]
  },
  {
   "cell_type": "code",
   "execution_count": null,
   "metadata": {
    "dotnet_interactive": {
     "language": "spiral"
    },
    "polyglot_notebook": {
     "kernelName": "spiral"
    }
   },
   "outputs": [
    {
     "name": "stdout",
     "output_type": "stream",
     "text": [
      "()\n",
      "\n"
     ]
    }
   ],
   "source": [
    "inl to_upper (input : string) : string =\n",
    "    $\"!input.ToUpper ()\""
   ]
  },
  {
   "cell_type": "markdown",
   "metadata": {},
   "source": [
    "## trim"
   ]
  },
  {
   "cell_type": "code",
   "execution_count": null,
   "metadata": {
    "dotnet_interactive": {
     "language": "spiral"
    },
    "polyglot_notebook": {
     "kernelName": "spiral"
    }
   },
   "outputs": [
    {
     "name": "stdout",
     "output_type": "stream",
     "text": [
      "()\n",
      "\n"
     ]
    }
   ],
   "source": [
    "inl trim (input : string) : string =\n",
    "    $\"!input.Trim ()\""
   ]
  },
  {
   "cell_type": "markdown",
   "metadata": {},
   "source": [
    "## trim_end"
   ]
  },
  {
   "cell_type": "code",
   "execution_count": null,
   "metadata": {
    "dotnet_interactive": {
     "language": "spiral"
    },
    "polyglot_notebook": {
     "kernelName": "spiral"
    }
   },
   "outputs": [
    {
     "name": "stdout",
     "output_type": "stream",
     "text": [
      "()\n",
      "\n"
     ]
    }
   ],
   "source": [
    "inl trim_end (trim_chars : array_base char) (input : string) : string =\n",
    "    $\"!input.TrimEnd !trim_chars\""
   ]
  },
  {
   "cell_type": "markdown",
   "metadata": {},
   "source": [
    "## trim_start"
   ]
  },
  {
   "cell_type": "code",
   "execution_count": null,
   "metadata": {
    "dotnet_interactive": {
     "language": "spiral"
    },
    "polyglot_notebook": {
     "kernelName": "spiral"
    }
   },
   "outputs": [
    {
     "name": "stdout",
     "output_type": "stream",
     "text": [
      "()\n",
      "\n"
     ]
    }
   ],
   "source": [
    "inl trim_start (trim_chars : array_base char) (input : string) : string =\n",
    "    $\"!input.TrimStart !trim_chars\""
   ]
  },
  {
   "cell_type": "markdown",
   "metadata": {},
   "source": [
    "## length"
   ]
  },
  {
   "cell_type": "code",
   "execution_count": null,
   "metadata": {
    "dotnet_interactive": {
     "language": "spiral"
    },
    "polyglot_notebook": {
     "kernelName": "spiral"
    }
   },
   "outputs": [
    {
     "name": "stdout",
     "output_type": "stream",
     "text": [
      "()\n",
      "\n"
     ]
    }
   ],
   "source": [
    "inl length forall dim {int}. (input : string) : dim =\n",
    "    input |> sm.length"
   ]
  },
  {
   "cell_type": "markdown",
   "metadata": {},
   "source": [
    "## length'"
   ]
  },
  {
   "cell_type": "code",
   "execution_count": null,
   "metadata": {
    "dotnet_interactive": {
     "language": "spiral"
    },
    "polyglot_notebook": {
     "kernelName": "spiral"
    }
   },
   "outputs": [
    {
     "name": "stdout",
     "output_type": "stream",
     "text": [
      "()\n",
      "\n"
     ]
    }
   ],
   "source": [
    "inl length' forall dim. (input : string) : dim =\n",
    "    input |> $'String.length'"
   ]
  },
  {
   "cell_type": "markdown",
   "metadata": {},
   "source": [
    "## is_empty"
   ]
  },
  {
   "cell_type": "code",
   "execution_count": null,
   "metadata": {
    "dotnet_interactive": {
     "language": "spiral"
    },
    "polyglot_notebook": {
     "kernelName": "spiral"
    }
   },
   "outputs": [
    {
     "name": "stdout",
     "output_type": "stream",
     "text": [
      "()\n",
      "\n"
     ]
    }
   ],
   "source": [
    "inl is_empty (input : string) : bool =\n",
    "    length input = 0i32"
   ]
  },
  {
   "cell_type": "markdown",
   "metadata": {},
   "source": [
    "## slice"
   ]
  },
  {
   "cell_type": "code",
   "execution_count": null,
   "metadata": {
    "dotnet_interactive": {
     "language": "spiral"
    },
    "polyglot_notebook": {
     "kernelName": "spiral"
    }
   },
   "outputs": [
    {
     "name": "stdout",
     "output_type": "stream",
     "text": [
      "()\n",
      "\n"
     ]
    }
   ],
   "source": [
    "inl slice from to s : string =\n",
    "    sm.slice s { from to }"
   ]
  },
  {
   "cell_type": "markdown",
   "metadata": {},
   "source": [
    "## range"
   ]
  },
  {
   "cell_type": "code",
   "execution_count": null,
   "metadata": {
    "dotnet_interactive": {
     "language": "spiral"
    },
    "polyglot_notebook": {
     "kernelName": "spiral"
    }
   },
   "outputs": [
    {
     "name": "stdout",
     "output_type": "stream",
     "text": [
      "()\n",
      "\n"
     ]
    }
   ],
   "source": [
    "inl range forall t. (start : am'.range t) (end : am'.range t) s =\n",
    "    inl start, end =\n",
    "        match start, end with\n",
    "        | Start start, End fn =>\n",
    "            start, s |> length' |> fn\n",
    "        | End start_fn, End end_fn =>\n",
    "            inl len = s |> length'\n",
    "            start_fn len, end_fn len\n",
    "    s |> slice (start |> u64) (end |> u64)"
   ]
  },
  {
   "cell_type": "markdown",
   "metadata": {},
   "source": [
    "## raw_string_literal"
   ]
  },
  {
   "cell_type": "code",
   "execution_count": null,
   "metadata": {
    "dotnet_interactive": {
     "language": "spiral"
    },
    "polyglot_notebook": {
     "kernelName": "spiral"
    }
   },
   "outputs": [
    {
     "name": "stdout",
     "output_type": "stream",
     "text": [
      "()\n",
      "\n"
     ]
    }
   ],
   "source": [
    "inl raw_string_literal (s : string) : rust.ref' str =\n",
    "    !\\($\"\\\"r#\\\\\\\"\\\" + !s + \\\"\\\\\\\"#\\\"\")"
   ]
  },
  {
   "cell_type": "markdown",
   "metadata": {},
   "source": [
    "## raw_string_literal_static"
   ]
  },
  {
   "cell_type": "code",
   "execution_count": null,
   "metadata": {
    "dotnet_interactive": {
     "language": "spiral"
    },
    "polyglot_notebook": {
     "kernelName": "spiral"
    }
   },
   "outputs": [
    {
     "name": "stdout",
     "output_type": "stream",
     "text": [
      "()\n",
      "\n"
     ]
    }
   ],
   "source": [
    "inl raw_string_literal_static (s : string) : rust.static_ref' str =\n",
    "    !\\($\"\\\"r#\\\\\\\"\\\" + !s + \\\"\\\\\\\"#\\\"\")"
   ]
  },
  {
   "cell_type": "markdown",
   "metadata": {},
   "source": [
    "## (~#)"
   ]
  },
  {
   "cell_type": "code",
   "execution_count": null,
   "metadata": {
    "dotnet_interactive": {
     "language": "spiral"
    },
    "polyglot_notebook": {
     "kernelName": "spiral"
    }
   },
   "outputs": [
    {
     "name": "stdout",
     "output_type": "stream",
     "text": [
      "()\n",
      "\n"
     ]
    }
   ],
   "source": [
    "inl (~#) s =\n",
    "    s |> raw_string_literal"
   ]
  },
  {
   "cell_type": "markdown",
   "metadata": {},
   "source": [
    "## (~##)"
   ]
  },
  {
   "cell_type": "code",
   "execution_count": null,
   "metadata": {
    "dotnet_interactive": {
     "language": "spiral"
    },
    "polyglot_notebook": {
     "kernelName": "spiral"
    }
   },
   "outputs": [
    {
     "name": "stdout",
     "output_type": "stream",
     "text": [
      "()\n",
      "\n"
     ]
    }
   ],
   "source": [
    "inl (~##) s =\n",
    "    s |> raw_string_literal_static"
   ]
  },
  {
   "cell_type": "markdown",
   "metadata": {},
   "source": [
    "## include_str"
   ]
  },
  {
   "cell_type": "code",
   "execution_count": null,
   "metadata": {
    "dotnet_interactive": {
     "language": "spiral"
    },
    "polyglot_notebook": {
     "kernelName": "spiral"
    }
   },
   "outputs": [
    {
     "name": "stdout",
     "output_type": "stream",
     "text": [
      "()\n",
      "\n"
     ]
    }
   ],
   "source": [
    "inl include_str (path : string) : rust.ref' str =\n",
    "    !\\($'\"include_str\\!(\\\\\\\"\" + !path + \"\\\\\\\")\"')"
   ]
  },
  {
   "cell_type": "markdown",
   "metadata": {},
   "source": [
    "## as_str"
   ]
  },
  {
   "cell_type": "code",
   "execution_count": null,
   "metadata": {
    "dotnet_interactive": {
     "language": "spiral"
    },
    "polyglot_notebook": {
     "kernelName": "spiral"
    }
   },
   "outputs": [
    {
     "name": "stdout",
     "output_type": "stream",
     "text": [
      "()\n",
      "\n"
     ]
    }
   ],
   "source": [
    "inl as_str (s : string) : rust.ref' str =\n",
    "    // !\\\\(s, $'\"fable_library_rust::String_::LrcStr::as_str(&$0)\"')\n",
    "    !\\\\(s, $'\"&*$0\"')"
   ]
  },
  {
   "cell_type": "markdown",
   "metadata": {},
   "source": [
    "## from_std_string"
   ]
  },
  {
   "cell_type": "code",
   "execution_count": null,
   "metadata": {
    "dotnet_interactive": {
     "language": "spiral"
    },
    "polyglot_notebook": {
     "kernelName": "spiral"
    }
   },
   "outputs": [
    {
     "name": "stdout",
     "output_type": "stream",
     "text": [
      "()\n",
      "\n"
     ]
    }
   ],
   "source": [
    "inl from_std_string (str : std_string) : string =\n",
    "    !\\\\(str, $'\"fable_library_rust::String_::fromString($0)\"')"
   ]
  },
  {
   "cell_type": "markdown",
   "metadata": {},
   "source": [
    "## ref_to_std_string"
   ]
  },
  {
   "cell_type": "code",
   "execution_count": null,
   "metadata": {
    "dotnet_interactive": {
     "language": "spiral"
    },
    "polyglot_notebook": {
     "kernelName": "spiral"
    }
   },
   "outputs": [
    {
     "name": "stdout",
     "output_type": "stream",
     "text": [
      "()\n",
      "\n"
     ]
    }
   ],
   "source": [
    "inl ref_to_std_string (str : rust.ref' str) : std_string =\n",
    "    !\\\\(str, $'\"String::from($0)\"')"
   ]
  },
  {
   "cell_type": "markdown",
   "metadata": {},
   "source": [
    "## cow_to_std_string"
   ]
  },
  {
   "cell_type": "code",
   "execution_count": null,
   "metadata": {
    "dotnet_interactive": {
     "language": "spiral"
    },
    "polyglot_notebook": {
     "kernelName": "spiral"
    }
   },
   "outputs": [
    {
     "name": "stdout",
     "output_type": "stream",
     "text": [
      "()\n",
      "\n"
     ]
    }
   ],
   "source": [
    "inl cow_to_std_string (str : rust.cow str) : std_string =\n",
    "    !\\\\(str, $'\"String::from($0)\"')"
   ]
  },
  {
   "cell_type": "markdown",
   "metadata": {},
   "source": [
    "## to_std_string"
   ]
  },
  {
   "cell_type": "code",
   "execution_count": null,
   "metadata": {
    "dotnet_interactive": {
     "language": "spiral"
    },
    "polyglot_notebook": {
     "kernelName": "spiral"
    }
   },
   "outputs": [
    {
     "name": "stdout",
     "output_type": "stream",
     "text": [
      "()\n",
      "\n"
     ]
    }
   ],
   "source": [
    "inl to_std_string (s : string) : std_string =\n",
    "    s |> as_str |> ref_to_std_string"
   ]
  },
  {
   "cell_type": "markdown",
   "metadata": {},
   "source": [
    "## as_str_std"
   ]
  },
  {
   "cell_type": "code",
   "execution_count": null,
   "metadata": {
    "dotnet_interactive": {
     "language": "spiral"
    },
    "polyglot_notebook": {
     "kernelName": "spiral"
    }
   },
   "outputs": [
    {
     "name": "stdout",
     "output_type": "stream",
     "text": [
      "()\n",
      "\n"
     ]
    }
   ],
   "source": [
    "inl as_str_std (s : std_string) : rust.ref' str =\n",
    "    !\\\\(s, $'\"$0.as_str()\"')"
   ]
  },
  {
   "cell_type": "markdown",
   "metadata": {},
   "source": [
    "## into_boxed_str"
   ]
  },
  {
   "cell_type": "code",
   "execution_count": null,
   "metadata": {
    "dotnet_interactive": {
     "language": "spiral"
    },
    "polyglot_notebook": {
     "kernelName": "spiral"
    }
   },
   "outputs": [
    {
     "name": "stdout",
     "output_type": "stream",
     "text": [
      "()\n",
      "\n"
     ]
    }
   ],
   "source": [
    "inl into_boxed_str (s : std_string) : rust.box str =\n",
    "    !\\\\(s, $'\"$0.into_boxed_str()\"')"
   ]
  },
  {
   "cell_type": "markdown",
   "metadata": {},
   "source": [
    "## os_string_as_ref"
   ]
  },
  {
   "cell_type": "code",
   "execution_count": null,
   "metadata": {
    "dotnet_interactive": {
     "language": "spiral"
    },
    "polyglot_notebook": {
     "kernelName": "spiral"
    }
   },
   "outputs": [
    {
     "name": "stdout",
     "output_type": "stream",
     "text": [
      "()\n",
      "\n"
     ]
    }
   ],
   "source": [
    "inl os_string_as_ref (s : os_string) : rust.ref' os_str =\n",
    "    !\\\\(s, $'\"$0.as_ref()\"')"
   ]
  },
  {
   "cell_type": "markdown",
   "metadata": {},
   "source": [
    "## to_os_string"
   ]
  },
  {
   "cell_type": "code",
   "execution_count": null,
   "metadata": {
    "dotnet_interactive": {
     "language": "spiral"
    },
    "polyglot_notebook": {
     "kernelName": "spiral"
    }
   },
   "outputs": [
    {
     "name": "stdout",
     "output_type": "stream",
     "text": [
      "()\n",
      "\n"
     ]
    }
   ],
   "source": [
    "inl to_os_string (s : rust.ref' os_str) : os_string =\n",
    "    !\\\\(s, $'\"$0.to_os_string()\"')"
   ]
  },
  {
   "cell_type": "markdown",
   "metadata": {},
   "source": [
    "## os_to_str"
   ]
  },
  {
   "cell_type": "code",
   "execution_count": null,
   "metadata": {
    "dotnet_interactive": {
     "language": "spiral"
    },
    "polyglot_notebook": {
     "kernelName": "spiral"
    }
   },
   "outputs": [
    {
     "name": "stdout",
     "output_type": "stream",
     "text": [
      "()\n",
      "\n"
     ]
    }
   ],
   "source": [
    "inl os_to_str (s : os_string) : optionm'.option' (rust.ref' str) =\n",
    "    !\\\\(s, $'\"$0.to_str()\"')"
   ]
  },
  {
   "cell_type": "markdown",
   "metadata": {},
   "source": [
    "## from_os_str_ref"
   ]
  },
  {
   "cell_type": "code",
   "execution_count": null,
   "metadata": {
    "dotnet_interactive": {
     "language": "spiral"
    },
    "polyglot_notebook": {
     "kernelName": "spiral"
    }
   },
   "outputs": [
    {
     "name": "stdout",
     "output_type": "stream",
     "text": [
      "()\n",
      "\n"
     ]
    }
   ],
   "source": [
    "inl from_os_str_ref s =\n",
    "    s\n",
    "    |> to_os_string\n",
    "    |> os_to_str\n",
    "    |> optionm'.unwrap\n",
    "    |> ref_to_std_string\n",
    "    |> from_std_string"
   ]
  },
  {
   "cell_type": "markdown",
   "metadata": {},
   "source": [
    "## obj_to_string"
   ]
  },
  {
   "cell_type": "code",
   "execution_count": null,
   "metadata": {
    "dotnet_interactive": {
     "language": "spiral"
    },
    "polyglot_notebook": {
     "kernelName": "spiral"
    }
   },
   "outputs": [
    {
     "name": "stdout",
     "output_type": "stream",
     "text": [
      "()\n",
      "\n"
     ]
    }
   ],
   "source": [
    "inl obj_to_string x : string =\n",
    "    x |> $'_.ToString()'"
   ]
  },
  {
   "cell_type": "markdown",
   "metadata": {},
   "source": [
    "## to_string any"
   ]
  },
  {
   "cell_type": "code",
   "execution_count": null,
   "metadata": {
    "dotnet_interactive": {
     "language": "spiral"
    },
    "polyglot_notebook": {
     "kernelName": "spiral"
    }
   },
   "outputs": [
    {
     "name": "stdout",
     "output_type": "stream",
     "text": [
      "()\n",
      "\n"
     ]
    }
   ],
   "source": [
    "instance to_string any =\n",
    "    obj_to_string"
   ]
  },
  {
   "cell_type": "markdown",
   "metadata": {},
   "source": [
    "## to_string result t u"
   ]
  },
  {
   "cell_type": "code",
   "execution_count": null,
   "metadata": {
    "dotnet_interactive": {
     "language": "spiral"
    },
    "polyglot_notebook": {
     "kernelName": "spiral"
    }
   },
   "outputs": [
    {
     "name": "stdout",
     "output_type": "stream",
     "text": [
      "()\n",
      "\n"
     ]
    }
   ],
   "source": [
    "instance to_string result t u = fun x =>\n",
    "    real\n",
    "        open rust\n",
    "        typecase (t * u) with\n",
    "        | string * string =>\n",
    "            match x with\n",
    "            | Ok x => x\n",
    "            | Error x => $'\"sm\\'.to_string result / Error: \" + !x + \"\"' : string\n",
    "        | std_string * std_string =>\n",
    "            match x with\n",
    "            | Ok x => from_std_string x\n",
    "            | Error x => $'\"sm\\'.to_string result / Error: \" + string !x + \"\"' : string\n",
    "        | _ => obj_to_string `u x"
   ]
  },
  {
   "cell_type": "markdown",
   "metadata": {},
   "source": [
    "## format_debug"
   ]
  },
  {
   "cell_type": "code",
   "execution_count": null,
   "metadata": {
    "dotnet_interactive": {
     "language": "spiral"
    },
    "polyglot_notebook": {
     "kernelName": "spiral"
    }
   },
   "outputs": [
    {
     "name": "stdout",
     "output_type": "stream",
     "text": [
      "()\n",
      "\n"
     ]
    }
   ],
   "source": [
    "inl format_debug x : string =\n",
    "    $'$\"%A{!x}\"'"
   ]
  },
  {
   "cell_type": "markdown",
   "metadata": {},
   "source": [
    "## format_custom'"
   ]
  },
  {
   "cell_type": "code",
   "execution_count": null,
   "metadata": {
    "dotnet_interactive": {
     "language": "spiral"
    },
    "polyglot_notebook": {
     "kernelName": "spiral"
    }
   },
   "outputs": [
    {
     "name": "stdout",
     "output_type": "stream",
     "text": [
      "()\n",
      "\n"
     ]
    }
   ],
   "source": [
    "inl format_custom' format x : std_string =\n",
    "    !\\\\(x, $'\"format\\!(\\\\\\\"\" + !format + \"\\\\\\\", $0)\"')"
   ]
  },
  {
   "cell_type": "markdown",
   "metadata": {},
   "source": [
    "## format'"
   ]
  },
  {
   "cell_type": "code",
   "execution_count": null,
   "metadata": {
    "dotnet_interactive": {
     "language": "spiral"
    },
    "polyglot_notebook": {
     "kernelName": "spiral"
    }
   },
   "outputs": [
    {
     "name": "stdout",
     "output_type": "stream",
     "text": [
      "()\n",
      "\n"
     ]
    }
   ],
   "source": [
    "inl format' x : std_string =\n",
    "    run_target function\n",
    "        | Rust _ => fun () =>\n",
    "            !\\\\(x, $'\"format\\!(\\\\\\\"{}\\\\\\\", $0)\"')\n",
    "        | _ => fun () => null ()"
   ]
  },
  {
   "cell_type": "markdown",
   "metadata": {},
   "source": [
    "## format_debug'"
   ]
  },
  {
   "cell_type": "code",
   "execution_count": null,
   "metadata": {
    "dotnet_interactive": {
     "language": "spiral"
    },
    "polyglot_notebook": {
     "kernelName": "spiral"
    }
   },
   "outputs": [
    {
     "name": "stdout",
     "output_type": "stream",
     "text": [
      "()\n",
      "\n"
     ]
    }
   ],
   "source": [
    "inl format_debug' x : std_string =\n",
    "    run_target function\n",
    "        | Rust _ => fun () =>\n",
    "            !\\\\(x, $'\"format\\!(\\\\\\\"{:?}\\\\\\\", $0)\"')\n",
    "        | _ => fun () => null ()"
   ]
  },
  {
   "cell_type": "markdown",
   "metadata": {},
   "source": [
    "## format_pretty'"
   ]
  },
  {
   "cell_type": "code",
   "execution_count": null,
   "metadata": {
    "dotnet_interactive": {
     "language": "spiral"
    },
    "polyglot_notebook": {
     "kernelName": "spiral"
    }
   },
   "outputs": [
    {
     "name": "stdout",
     "output_type": "stream",
     "text": [
      "()\n",
      "\n"
     ]
    }
   ],
   "source": [
    "inl format_pretty' x : std_string =\n",
    "    run_target function\n",
    "        | Rust _ => fun () =>\n",
    "            !\\\\(x, $'\"format\\!(\\\\\\\"{:#?}\\\\\\\", $0)\"')\n",
    "        | _ => fun () => null ()"
   ]
  },
  {
   "cell_type": "markdown",
   "metadata": {},
   "source": [
    "## format_hex'"
   ]
  },
  {
   "cell_type": "code",
   "execution_count": null,
   "metadata": {
    "dotnet_interactive": {
     "language": "spiral"
    },
    "polyglot_notebook": {
     "kernelName": "spiral"
    }
   },
   "outputs": [
    {
     "name": "stdout",
     "output_type": "stream",
     "text": [
      "()\n",
      "\n"
     ]
    }
   ],
   "source": [
    "inl format_hex' x : std_string =\n",
    "    run_target function\n",
    "        | Rust _ => fun () =>\n",
    "            !\\\\(x, $'\"format\\!(\\\\\\\"{:x}\\\\\\\", $0)\"')\n",
    "        | _ => fun () => null ()"
   ]
  },
  {
   "cell_type": "markdown",
   "metadata": {},
   "source": [
    "## format''"
   ]
  },
  {
   "cell_type": "code",
   "execution_count": null,
   "metadata": {
    "dotnet_interactive": {
     "language": "spiral"
    },
    "polyglot_notebook": {
     "kernelName": "spiral"
    }
   },
   "outputs": [
    {
     "name": "stdout",
     "output_type": "stream",
     "text": [
      "()\n",
      "\n"
     ]
    }
   ],
   "source": [
    "inl format'' (format : string) : std_string =\n",
    "    !\\($'@@$\"format\\!(\" + !format + \")\"')"
   ]
  },
  {
   "cell_type": "markdown",
   "metadata": {},
   "source": [
    "## format_exception"
   ]
  },
  {
   "cell_type": "code",
   "execution_count": null,
   "metadata": {
    "dotnet_interactive": {
     "language": "spiral"
    },
    "polyglot_notebook": {
     "kernelName": "spiral"
    }
   },
   "outputs": [
    {
     "name": "stdout",
     "output_type": "stream",
     "text": [
      "()\n",
      "\n"
     ]
    }
   ],
   "source": [
    "inl format_exception (ex : exn) : string =\n",
    "    run_target function\n",
    "        | Fsharp (Native) => fun () => $'$\"{!ex.GetType ()}: {!ex.Message}\"'\n",
    "        | _ => fun () => ex |> format_debug"
   ]
  },
  {
   "cell_type": "code",
   "execution_count": null,
   "metadata": {
    "dotnet_interactive": {
     "language": "spiral"
    },
    "polyglot_notebook": {
     "kernelName": "spiral"
    }
   },
   "outputs": [
    {
     "name": "stdout",
     "output_type": "stream",
     "text": [
      "type [<Struct>] US0 =\n",
      "    | US0_0 of f0_0 : exn\n",
      "    | US0_1\n",
      "and [<Struct>] US1 =\n",
      "    | US1_0 of f0_0 : string\n",
      "    | US1_1\n",
      "let rec closure0 () () : unit =\n",
      "    failwith<unit> \"test\"\n",
      "and closure1 () (v0 : exn) : US0 =\n",
      "    US0_0(v0)\n",
      "and method1 (v0 : bool) : bool =\n",
      "    v0\n",
      "and method0 () : unit =\n",
      "    let v0 : (unit -> unit) = closure0()\n",
      "    let v1 : US0 = US0_1\n",
      "    let v2 : (exn -> US0) = closure1()\n",
      "    let v3 : US0 = try v0 (); v1 with ex -> ex |> v2\n",
      "    let v16 : US1 =\n",
      "        match v3 with\n",
      "        | US0_1 -> (* None *)\n",
      "            US1_1\n",
      "        | US0_0(v4) -> (* Some *)\n",
      "            let v5 : bool = true\n",
      "            let mutable _v5 : string option = None \n",
      "            \n",
      "#if FABLE_COMPILER || WASM || CONTRACT\n",
      "            \n",
      "#if FABLE_COMPILER_RUST && !WASM && !CONTRACT\n",
      "            let v6 : string = $\"%A{v4}\"\n",
      "            v6 \n",
      "            #endif\n",
      "#if FABLE_COMPILER_RUST && WASM\n",
      "            let v7 : string = $\"%A{v4}\"\n",
      "            v7 \n",
      "            #endif\n",
      "#if FABLE_COMPILER_RUST && CONTRACT\n",
      "            let v8 : string = $\"%A{v4}\"\n",
      "            v8 \n",
      "            #endif\n",
      "#if FABLE_COMPILER_TYPESCRIPT\n",
      "            let v9 : string = $\"%A{v4}\"\n",
      "            v9 \n",
      "            #endif\n",
      "#if FABLE_COMPILER_PYTHON\n",
      "            let v10 : string = $\"%A{v4}\"\n",
      "            v10 \n",
      "            #endif\n",
      "#else\n",
      "            let v11 : string = $\"{v4.GetType ()}: {v4.Message}\"\n",
      "            v11 \n",
      "            #endif\n",
      "            |> fun x -> _v5 <- Some x\n",
      "            let v12 : string = _v5.Value\n",
      "            US1_0(v12)\n",
      "    let v21 : bool =\n",
      "        match v16 with\n",
      "        | US1_0(v19) -> (* Some *)\n",
      "            let v20 : bool = v19 = \"System.Exception: test\"\n",
      "            v20\n",
      "        | _ ->\n",
      "            false\n",
      "    let v23 : bool =\n",
      "        if v21 then\n",
      "            true\n",
      "        else\n",
      "            method1(v21)\n",
      "    let v24 : string = \"assert_eq\"\n",
      "    let v25 : string = \"System.Exception: test\"\n",
      "    let v26 : US1 = US1_0(v25)\n",
      "    let v27 : string = $\"{v24} / actual: %A{v16} / expected: %A{v26}\"\n",
      "    System.Console.WriteLine v27\n",
      "    let v28 : bool = v23 = false\n",
      "    if v28 then\n",
      "        failwith<unit> v27\n",
      "method0()\n",
      "\n",
      "assert_eq / actual: US1_0 \"System.Exception: test\" / expected: US1_0 \"System.Exception: test\"\n"
     ]
    }
   ],
   "source": [
    "//// test\n",
    "\n",
    "fun () => failwith \"test\"\n",
    "|> _throws\n",
    "|> optionm.map sm'.format_exception\n",
    "|> _assert_eq (Some \"System.Exception: test\")"
   ]
  },
  {
   "cell_type": "markdown",
   "metadata": {},
   "source": [
    "## replace"
   ]
  },
  {
   "cell_type": "code",
   "execution_count": null,
   "metadata": {
    "dotnet_interactive": {
     "language": "spiral"
    },
    "polyglot_notebook": {
     "kernelName": "spiral"
    }
   },
   "outputs": [
    {
     "name": "stdout",
     "output_type": "stream",
     "text": [
      "()\n",
      "\n"
     ]
    }
   ],
   "source": [
    "inl replace (old_value : string) (new_value : string) (s : string) : string =\n",
    "    $\"!s.Replace (!old_value, !new_value)\""
   ]
  },
  {
   "cell_type": "markdown",
   "metadata": {},
   "source": [
    "## regex"
   ]
  },
  {
   "cell_type": "code",
   "execution_count": null,
   "metadata": {
    "dotnet_interactive": {
     "language": "spiral"
    },
    "polyglot_notebook": {
     "kernelName": "spiral"
    }
   },
   "outputs": [
    {
     "name": "stdout",
     "output_type": "stream",
     "text": [
      "()\n",
      "\n"
     ]
    }
   ],
   "source": [
    "nominal regex = $'regex_Regex'"
   ]
  },
  {
   "cell_type": "markdown",
   "metadata": {},
   "source": [
    "## regex_error"
   ]
  },
  {
   "cell_type": "code",
   "execution_count": null,
   "metadata": {
    "dotnet_interactive": {
     "language": "spiral"
    },
    "polyglot_notebook": {
     "kernelName": "spiral"
    }
   },
   "outputs": [
    {
     "name": "stdout",
     "output_type": "stream",
     "text": [
      "()\n",
      "\n"
     ]
    }
   ],
   "source": [
    "nominal regex_error = $'regex_Error'"
   ]
  },
  {
   "cell_type": "markdown",
   "metadata": {},
   "source": [
    "## new_regex"
   ]
  },
  {
   "cell_type": "code",
   "execution_count": null,
   "metadata": {
    "dotnet_interactive": {
     "language": "spiral"
    },
    "polyglot_notebook": {
     "kernelName": "spiral"
    }
   },
   "outputs": [
    {
     "name": "stdout",
     "output_type": "stream",
     "text": [
      "()\n",
      "\n"
     ]
    }
   ],
   "source": [
    "inl new_regex (pattern : string) : resultm.result' regex regex_error =\n",
    "    run_target function\n",
    "        | Rust (Native) => fun () =>\n",
    "            inl pattern = join pattern\n",
    "            !\\\\(pattern, $'$\"regex::Regex::new(&$0)\"')\n",
    "        | _ => fun () => null ()"
   ]
  },
  {
   "cell_type": "markdown",
   "metadata": {},
   "source": [
    "## captures"
   ]
  },
  {
   "cell_type": "code",
   "execution_count": null,
   "metadata": {
    "dotnet_interactive": {
     "language": "spiral"
    },
    "polyglot_notebook": {
     "kernelName": "spiral"
    }
   },
   "outputs": [
    {
     "name": "stdout",
     "output_type": "stream",
     "text": [
      "()\n",
      "\n"
     ]
    }
   ],
   "source": [
    "nominal regex_captures = $'regex_Captures'"
   ]
  },
  {
   "cell_type": "markdown",
   "metadata": {},
   "source": [
    "## regex_capture_matches"
   ]
  },
  {
   "cell_type": "code",
   "execution_count": null,
   "metadata": {
    "dotnet_interactive": {
     "language": "spiral"
    },
    "polyglot_notebook": {
     "kernelName": "spiral"
    }
   },
   "outputs": [
    {
     "name": "stdout",
     "output_type": "stream",
     "text": [
      "()\n",
      "\n"
     ]
    }
   ],
   "source": [
    "nominal regex_capture_matches = $'regex_CaptureMatches'"
   ]
  },
  {
   "cell_type": "markdown",
   "metadata": {},
   "source": [
    "## regex_captures"
   ]
  },
  {
   "cell_type": "code",
   "execution_count": null,
   "metadata": {
    "dotnet_interactive": {
     "language": "spiral"
    },
    "polyglot_notebook": {
     "kernelName": "spiral"
    }
   },
   "outputs": [
    {
     "name": "stdout",
     "output_type": "stream",
     "text": [
      "()\n",
      "\n"
     ]
    }
   ],
   "source": [
    "inl regex_captures (s : string) (regex : regex) : am'.vec (mapm.hash_map (rust.ref' str) (rust.ref' str)) =\n",
    "    inl s = join s\n",
    "    !\\\\(regex, $'$\"$0.captures_iter(&*!s).map(|caps| $0.capture_names().map(|x| x.and_then(|n| Some((n, caps.name(n)?.as_str())))).flatten().collect()).collect()\"')"
   ]
  },
  {
   "cell_type": "markdown",
   "metadata": {},
   "source": [
    "## replace_regex"
   ]
  },
  {
   "cell_type": "code",
   "execution_count": null,
   "metadata": {
    "dotnet_interactive": {
     "language": "spiral"
    },
    "polyglot_notebook": {
     "kernelName": "spiral"
    }
   },
   "outputs": [
    {
     "name": "stdout",
     "output_type": "stream",
     "text": [
      "()\n",
      "\n"
     ]
    }
   ],
   "source": [
    "inl replace_regex (pattern : string) (replacement : string) (s : string) : string =\n",
    "    run_target function\n",
    "        | Fsharp (Native) => fun () =>\n",
    "            inl replacement = join replacement\n",
    "            $\"System.Text.RegularExpressions.Regex.Replace (!s, !pattern, !replacement)\"\n",
    "        | Rust (Native) => fun () =>\n",
    "            inl s = join s\n",
    "            inl replacement = join replacement\n",
    "            inl regex = pattern |> new_regex |> resultm.unwrap'\n",
    "            !\\\\((regex, s, replacement), $'$\"$0.replace_all(&$1, &*$2)\"')\n",
    "            |> cow_to_std_string\n",
    "            |> from_std_string\n",
    "        | _ => fun () => null ()"
   ]
  },
  {
   "cell_type": "code",
   "execution_count": null,
   "metadata": {
    "dotnet_interactive": {
     "language": "spiral"
    },
    "polyglot_notebook": {
     "kernelName": "spiral"
    }
   },
   "outputs": [
    {
     "name": "stdout",
     "output_type": "stream",
     "text": [
      "let rec method1 () : string =\n",
      "    let v0 : string = \" 123\"\n",
      "    v0\n",
      "and method2 () : string =\n",
      "    let v0 : string = \"\"\n",
      "    v0\n",
      "and method3 () : string =\n",
      "    let v0 : string = \"\\\\s\\\\w2\"\n",
      "    v0\n",
      "and method4 () : string =\n",
      "    let v0 : string = \"\"\n",
      "    v0\n",
      "and method5 (v0 : bool) : bool =\n",
      "    v0\n",
      "and method0 () : unit =\n",
      "    let v0 : bool = true\n",
      "    let mutable _v0 : string option = None \n",
      "    \n",
      "#if FABLE_COMPILER || WASM || CONTRACT\n",
      "    \n",
      "#if FABLE_COMPILER_RUST && !WASM && !CONTRACT\n",
      "    let v1 : string = method1()\n",
      "    let v2 : string = method2()\n",
      "    let v3 : bool = true\n",
      "    let mutable _v3 : Result<regex_Regex, regex_Error> option = None \n",
      "    \n",
      "#if FABLE_COMPILER || WASM || CONTRACT\n",
      "    \n",
      "#if FABLE_COMPILER_RUST && !WASM && !CONTRACT\n",
      "    let v4 : string = method3()\n",
      "    let v5 : string = $\"regex::Regex::new(&$0)\"\n",
      "    let v6 : Result<regex_Regex, regex_Error> = Fable.Core.RustInterop.emitRustExpr v4 v5\n",
      "    v6 \n",
      "    #endif\n",
      "#if FABLE_COMPILER_RUST && WASM\n",
      "    let v7 : Result<regex_Regex, regex_Error> = null |> unbox<Result<regex_Regex, regex_Error>>\n",
      "    v7 \n",
      "    #endif\n",
      "#if FABLE_COMPILER_RUST && CONTRACT\n",
      "    let v8 : Result<regex_Regex, regex_Error> = null |> unbox<Result<regex_Regex, regex_Error>>\n",
      "    v8 \n",
      "    #endif\n",
      "#if FABLE_COMPILER_TYPESCRIPT\n",
      "    let v9 : Result<regex_Regex, regex_Error> = null |> unbox<Result<regex_Regex, regex_Error>>\n",
      "    v9 \n",
      "    #endif\n",
      "#if FABLE_COMPILER_PYTHON\n",
      "    let v10 : Result<regex_Regex, regex_Error> = null |> unbox<Result<regex_Regex, regex_Error>>\n",
      "    v10 \n",
      "    #endif\n",
      "#else\n",
      "    let v11 : Result<regex_Regex, regex_Error> = null |> unbox<Result<regex_Regex, regex_Error>>\n",
      "    v11 \n",
      "    #endif\n",
      "    |> fun x -> _v3 <- Some x\n",
      "    let v12 : Result<regex_Regex, regex_Error> = _v3.Value\n",
      "    let v13 : string = \"$0.unwrap()\"\n",
      "    let v14 : regex_Regex = Fable.Core.RustInterop.emitRustExpr v12 v13\n",
      "    let v15 : string = $\"$0.replace_all(&$1, &*$2)\"\n",
      "    let v16 : std_borrow_Cow<Str> = Fable.Core.RustInterop.emitRustExpr struct (v14, v1, v2) v15\n",
      "    let v17 : string = \"String::from($0)\"\n",
      "    let v18 : std_string_String = Fable.Core.RustInterop.emitRustExpr v16 v17\n",
      "    let v19 : string = \"fable_library_rust::String_::fromString($0)\"\n",
      "    let v20 : string = Fable.Core.RustInterop.emitRustExpr v18 v19\n",
      "    v20 \n",
      "    #endif\n",
      "#if FABLE_COMPILER_RUST && WASM\n",
      "    let v21 : string = null |> unbox<string>\n",
      "    v21 \n",
      "    #endif\n",
      "#if FABLE_COMPILER_RUST && CONTRACT\n",
      "    let v22 : string = null |> unbox<string>\n",
      "    v22 \n",
      "    #endif\n",
      "#if FABLE_COMPILER_TYPESCRIPT\n",
      "    let v23 : string = null |> unbox<string>\n",
      "    v23 \n",
      "    #endif\n",
      "#if FABLE_COMPILER_PYTHON\n",
      "    let v24 : string = null |> unbox<string>\n",
      "    v24 \n",
      "    #endif\n",
      "#else\n",
      "    let v25 : string = method4()\n",
      "    let v26 : string = \" 123\"\n",
      "    let v27 : string = \"\\\\s\\\\w2\"\n",
      "    let v28 : string = System.Text.RegularExpressions.Regex.Replace (v26, v27, v25)\n",
      "    v28 \n",
      "    #endif\n",
      "    |> fun x -> _v0 <- Some x\n",
      "    let v29 : string = _v0.Value\n",
      "    let v31 : bool = v29 = \"3\"\n",
      "    let v33 : bool =\n",
      "        if v31 then\n",
      "            true\n",
      "        else\n",
      "            method5(v31)\n",
      "    let v34 : string = \"assert_eq\"\n",
      "    let v35 : string = \"3\"\n",
      "    let v36 : string = $\"{v34} / actual: %A{v29} / expected: %A{v35}\"\n",
      "    System.Console.WriteLine v36\n",
      "    let v37 : bool = v33 = false\n",
      "    if v37 then\n",
      "        failwith<unit> v36\n",
      "method0()\n",
      "\n",
      "assert_eq / actual: \"3\" / expected: \"3\"\n"
     ]
    }
   ],
   "source": [
    "//// test\n",
    "\n",
    "\" 123\"\n",
    "|> replace_regex \"\\\\s\\\\w2\" \"\"\n",
    "|> _assert_eq \"3\""
   ]
  },
  {
   "cell_type": "code",
   "execution_count": null,
   "metadata": {
    "dotnet_interactive": {
     "language": "spiral"
    },
    "polyglot_notebook": {
     "kernelName": "spiral"
    }
   },
   "outputs": [
    {
     "data": {
      "text/plain": [
       ".rs output:\n",
       "assert_eq / actual: \"3\" / expected: \"3\"\n",
       "\n",
       "\n"
      ]
     },
     "metadata": {},
     "output_type": "display_data"
    },
    {
     "name": "stdout",
     "output_type": "stream",
     "text": [
      ".fsx:\n",
      "#if FABLE_COMPILER\n",
      "[<Fable.Core.Erase; Fable.Core.Emit(\"_\")>]\n",
      "#endif\n",
      "type Any = class end\n",
      "#if FABLE_COMPILER\n",
      "[<Fable.Core.Erase; Fable.Core.Emit(\"Func0<$0>\")>]\n",
      "#endif\n",
      "type Func0<'T> = class end\n",
      "#if FABLE_COMPILER\n",
      "[<Fable.Core.Erase; Fable.Core.Emit(\"Func1<$0, $1>\")>]\n",
      "#endif\n",
      "type Func0<'T, 'U> = class end\n",
      "#if FABLE_COMPILER\n",
      "[<Fable.Core.Erase; Fable.Core.Emit(\"Box<$0>\")>]\n",
      "#endif\n",
      "type Box<'T> = class end\n",
      "#if FABLE_COMPILER\n",
      "[<Fable.Core.Erase; Fable.Core.Emit(\"dyn $0\")>]\n",
      "#endif\n",
      "type Dyn<'T> = class end\n",
      "#if FABLE_COMPILER\n",
      "[<Fable.Core.Erase; Fable.Core.Emit(\"$0 + Send\")>]\n",
      "#endif\n",
      "type Send<'T> = class end\n",
      "#if FABLE_COMPILER\n",
      "[<Fable.Core.Erase; Fable.Core.Emit(\"Fn() -> $0\")>]\n",
      "#endif\n",
      "type Fn<'T> = class end\n",
      "#if FABLE_COMPILER\n",
      "[<Fable.Core.Erase; Fable.Core.Emit(\"Fn()\")>]\n",
      "#endif\n",
      "type FnUnit = class end\n",
      "#if FABLE_COMPILER\n",
      "[<Fable.Core.Erase; Fable.Core.Emit(\"FnOnce() -> $0\")>]\n",
      "#endif\n",
      "type FnOnce<'T> = class end\n",
      "#if FABLE_COMPILER\n",
      "[<Fable.Core.Erase; Fable.Core.Emit(\"Fn($0)\")>]\n",
      "#endif\n",
      "type ActionFn<'T> = class end\n",
      "#if FABLE_COMPILER\n",
      "[<Fable.Core.Erase; Fable.Core.Emit(\"Fn($0, $1)\")>]\n",
      "#endif\n",
      "type ActionFn2<'T, 'U> = class end\n",
      "#if FABLE_COMPILER\n",
      "[<Fable.Core.Erase; Fable.Core.Emit(\"impl $0\")>]\n",
      "#endif\n",
      "type Impl<'T> = class end\n",
      "#if FABLE_COMPILER\n",
      "[<Fable.Core.Erase; Fable.Core.Emit(\"mut $0\")>]\n",
      "#endif\n",
      "type Mut<'T> = class end\n",
      "#if FABLE_COMPILER\n",
      "[<Fable.Core.Erase; Fable.Core.Emit(\"&$0\")>]\n",
      "#endif\n",
      "type Ref<'T> = class end\n",
      "#if FABLE_COMPILER\n",
      "[<Fable.Core.Erase; Fable.Core.Emit(\"&'static $0\")>]\n",
      "#endif\n",
      "type StaticRef<'T> = class end\n",
      "#if FABLE_COMPILER\n",
      "[<Fable.Core.Erase; Fable.Core.Emit(\"MutCell<$0>\")>]\n",
      "#endif\n",
      "type MutCell<'T> = class end\n",
      "#if FABLE_COMPILER\n",
      "[<Fable.Core.Erase; Fable.Core.Emit(\"std::any::Any\")>]\n",
      "#endif\n",
      "type std_any_Any = class end\n",
      "#if FABLE_COMPILER\n",
      "[<Fable.Core.Erase; Fable.Core.Emit(\"std::borrow::Cow<$0>\")>]\n",
      "#endif\n",
      "type std_borrow_Cow<'T> = class end\n",
      "#if FABLE_COMPILER\n",
      "[<Fable.Core.Erase; Fable.Core.Emit(\"std::cell::RefCell<$0>\")>]\n",
      "#endif\n",
      "type std_cell_RefCell<'T> = class end\n",
      "#if FABLE_COMPILER\n",
      "[<Fable.Core.Erase; Fable.Core.Emit(\"std::pin::Pin<$0>\")>]\n",
      "#endif\n",
      "type std_pin_Pin<'T> = class end\n",
      "#if FABLE_COMPILER\n",
      "[<Fable.Core.Erase; Fable.Core.Emit(\"std::rc::Rc<$0>\")>]\n",
      "#endif\n",
      "type std_rc_Rc<'T> = class end\n",
      "#if FABLE_COMPILER\n",
      "[<Fable.Core.Erase; Fable.Core.Emit(\"std::rc::Weak<$0>\")>]\n",
      "#endif\n",
      "type std_rc_Weak<'T> = class end\n",
      "#if FABLE_COMPILER\n",
      "[<Fable.Core.Erase; Fable.Core.Emit(\"std::collections::HashMap<$0, $1>\")>]\n",
      "#endif\n",
      "type std_collections_HashMap<'K, 'V> = class end\n",
      "#if FABLE_COMPILER\n",
      "[<Fable.Core.Erase; Fable.Core.Emit(\"std::collections::BTreeMap<$0, $1>\")>]\n",
      "#endif\n",
      "type std_collections_BTreeMap<'K, 'V> = class end\n",
      "#if FABLE_COMPILER\n",
      "[<Fable.Core.Erase; Fable.Core.Emit(\"str\")>]\n",
      "#endif\n",
      "type Str = class end\n",
      "#if FABLE_COMPILER\n",
      "[<Fable.Core.Erase; Fable.Core.Emit(\"base64::DecodeError\")>]\n",
      "#endif\n",
      "type base64_DecodeError = class end\n",
      "#if FABLE_COMPILER\n",
      "[<Fable.Core.Erase; Fable.Core.Emit(\"borsh::io::Error\")>]\n",
      "#endif\n",
      "type borsh_io_Error = class end\n",
      "#if FABLE_COMPILER\n",
      "[<Fable.Core.Erase; Fable.Core.Emit(\"encoding_rs::Encoding\")>]\n",
      "#endif\n",
      "type encoding_rs_Encoding = class end\n",
      "#if FABLE_COMPILER\n",
      "[<Fable.Core.Erase; Fable.Core.Emit(\"js_sys::JsString\")>]\n",
      "#endif\n",
      "type js_sys_JsString = class end\n",
      "#if FABLE_COMPILER\n",
      "[<Fable.Core.Erase; Fable.Core.Emit(\"serde_json::Error\")>]\n",
      "#endif\n",
      "type serde_json_Error = class end\n",
      "#if FABLE_COMPILER\n",
      "[<Fable.Core.Erase; Fable.Core.Emit(\"serde_json::Value\")>]\n",
      "#endif\n",
      "type serde_json_Value = class end\n",
      "#if FABLE_COMPILER\n",
      "[<Fable.Core.Erase; Fable.Core.Emit(\"serde_wasm_bindgen::Error\")>]\n",
      "#endif\n",
      "type serde_wasm_bindgen_Error = class end\n",
      "#if FABLE_COMPILER\n",
      "[<Fable.Core.Erase; Fable.Core.Emit(\"std::ffi::OsStr\")>]\n",
      "#endif\n",
      "type std_ffi_OsStr = class end\n",
      "#if FABLE_COMPILER\n",
      "[<Fable.Core.Erase; Fable.Core.Emit(\"std::ffi::OsString\")>]\n",
      "#endif\n",
      "type std_ffi_OsString = class end\n",
      "#if FABLE_COMPILER\n",
      "[<Fable.Core.Erase; Fable.Core.Emit(\"std::fmt::Display<$0>\")>]\n",
      "#endif\n",
      "type std_fmt_Display<'T> = class end\n",
      "#if FABLE_COMPILER\n",
      "[<Fable.Core.Erase; Fable.Core.Emit(\"std::str::Utf8Error\")>]\n",
      "#endif\n",
      "type std_str_Utf8Error = class end\n",
      "#if FABLE_COMPILER\n",
      "[<Fable.Core.Erase; Fable.Core.Emit(\"std::string::FromUtf8Error\")>]\n",
      "#endif\n",
      "type std_string_FromUtf8Error = class end\n",
      "#if FABLE_COMPILER\n",
      "[<Fable.Core.Erase; Fable.Core.Emit(\"std::string::String\")>]\n",
      "#endif\n",
      "type std_string_String = class end\n",
      "#if FABLE_COMPILER\n",
      "[<Fable.Core.Erase; Fable.Core.Emit(\"std::slice::Windows<$0>\")>]\n",
      "#endif\n",
      "type std_slice_Windows<'T> = class end\n",
      "#if FABLE_COMPILER\n",
      "[<Fable.Core.Erase; Fable.Core.Emit(\"regex::Regex\")>]\n",
      "#endif\n",
      "type regex_Regex = class end\n",
      "#if FABLE_COMPILER\n",
      "[<Fable.Core.Erase; Fable.Core.Emit(\"regex::Captures\")>]\n",
      "#endif\n",
      "type regex_Captures = class end\n",
      "#if FABLE_COMPILER\n",
      "[<Fable.Core.Erase; Fable.Core.Emit(\"regex::CaptureMatches\")>]\n",
      "#endif\n",
      "type regex_CaptureMatches = class end\n",
      "#if FABLE_COMPILER\n",
      "[<Fable.Core.Erase; Fable.Core.Emit(\"regex::Error\")>]\n",
      "#endif\n",
      "type regex_Error = class end\n",
      "let rec method1 () : string =\n",
      "    let v0 : string = \" 123\"\n",
      "    v0\n",
      "and method2 () : string =\n",
      "    let v0 : string = \"\"\n",
      "    v0\n",
      "and method3 () : string =\n",
      "    let v0 : string = \"\\\\s\\\\w2\"\n",
      "    v0\n",
      "and method4 () : string =\n",
      "    let v0 : string = \"\"\n",
      "    v0\n",
      "and method5 (v0 : bool) : bool =\n",
      "    v0\n",
      "and method0 () : unit =\n",
      "    let v0 : bool = true\n",
      "    let mutable _v0 : string option = None \n",
      "    \n",
      "#if FABLE_COMPILER || WASM || CONTRACT\n",
      "    \n",
      "#if FABLE_COMPILER_RUST && !WASM && !CONTRACT\n",
      "    let v1 : string = method1()\n",
      "    let v2 : string = method2()\n",
      "    let v3 : bool = true\n",
      "    let mutable _v3 : Result<regex_Regex, regex_Error> option = None \n",
      "    \n",
      "#if FABLE_COMPILER || WASM || CONTRACT\n",
      "    \n",
      "#if FABLE_COMPILER_RUST && !WASM && !CONTRACT\n",
      "    let v4 : string = method3()\n",
      "    let v5 : string = $\"regex::Regex::new(&$0)\"\n",
      "    let v6 : Result<regex_Regex, regex_Error> = Fable.Core.RustInterop.emitRustExpr v4 v5\n",
      "    v6 \n",
      "    #endif\n",
      "#if FABLE_COMPILER_RUST && WASM\n",
      "    let v7 : Result<regex_Regex, regex_Error> = null |> unbox<Result<regex_Regex, regex_Error>>\n",
      "    v7 \n",
      "    #endif\n",
      "#if FABLE_COMPILER_RUST && CONTRACT\n",
      "    let v8 : Result<regex_Regex, regex_Error> = null |> unbox<Result<regex_Regex, regex_Error>>\n",
      "    v8 \n",
      "    #endif\n",
      "#if FABLE_COMPILER_TYPESCRIPT\n",
      "    let v9 : Result<regex_Regex, regex_Error> = null |> unbox<Result<regex_Regex, regex_Error>>\n",
      "    v9 \n",
      "    #endif\n",
      "#if FABLE_COMPILER_PYTHON\n",
      "    let v10 : Result<regex_Regex, regex_Error> = null |> unbox<Result<regex_Regex, regex_Error>>\n",
      "    v10 \n",
      "    #endif\n",
      "#else\n",
      "    let v11 : Result<regex_Regex, regex_Error> = null |> unbox<Result<regex_Regex, regex_Error>>\n",
      "    v11 \n",
      "    #endif\n",
      "    |> fun x -> _v3 <- Some x\n",
      "    let v12 : Result<regex_Regex, regex_Error> = _v3.Value\n",
      "    let v13 : string = \"$0.unwrap()\"\n",
      "    let v14 : regex_Regex = Fable.Core.RustInterop.emitRustExpr v12 v13\n",
      "    let v15 : string = $\"$0.replace_all(&$1, &*$2)\"\n",
      "    let v16 : std_borrow_Cow<Str> = Fable.Core.RustInterop.emitRustExpr struct (v14, v1, v2) v15\n",
      "    let v17 : string = \"String::from($0)\"\n",
      "    let v18 : std_string_String = Fable.Core.RustInterop.emitRustExpr v16 v17\n",
      "    let v19 : string = \"fable_library_rust::String_::fromString($0)\"\n",
      "    let v20 : string = Fable.Core.RustInterop.emitRustExpr v18 v19\n",
      "    v20 \n",
      "    #endif\n",
      "#if FABLE_COMPILER_RUST && WASM\n",
      "    let v21 : string = null |> unbox<string>\n",
      "    v21 \n",
      "    #endif\n",
      "#if FABLE_COMPILER_RUST && CONTRACT\n",
      "    let v22 : string = null |> unbox<string>\n",
      "    v22 \n",
      "    #endif\n",
      "#if FABLE_COMPILER_TYPESCRIPT\n",
      "    let v23 : string = null |> unbox<string>\n",
      "    v23 \n",
      "    #endif\n",
      "#if FABLE_COMPILER_PYTHON\n",
      "    let v24 : string = null |> unbox<string>\n",
      "    v24 \n",
      "    #endif\n",
      "#else\n",
      "    let v25 : string = method4()\n",
      "    let v26 : string = \" 123\"\n",
      "    let v27 : string = \"\\\\s\\\\w2\"\n",
      "    let v28 : string = System.Text.RegularExpressions.Regex.Replace (v26, v27, v25)\n",
      "    v28 \n",
      "    #endif\n",
      "    |> fun x -> _v0 <- Some x\n",
      "    let v29 : string = _v0.Value\n",
      "    let v31 : bool = v29 = \"3\"\n",
      "    let v33 : bool =\n",
      "        if v31 then\n",
      "            true\n",
      "        else\n",
      "            method5(v31)\n",
      "    let v34 : string = \"assert_eq\"\n",
      "    let v35 : string = \"3\"\n",
      "    let v36 : string = $\"{v34} / actual: %A{v29} / expected: %A{v35}\"\n",
      "    System.Console.WriteLine v36\n",
      "    let v37 : bool = v33 = false\n",
      "    if v37 then\n",
      "        failwith<unit> v36\n",
      "method0()\n",
      "\n",
      "\n",
      ".rs:\n",
      "#![allow(dead_code)]\n",
      "#![allow(non_camel_case_types)]\n",
      "#![allow(non_snake_case)]\n",
      "#![allow(non_upper_case_globals)]\n",
      "#![allow(unreachable_code)]\n",
      "#![allow(unused_attributes)]\n",
      "#![allow(unused_imports)]\n",
      "#![allow(unused_macros)]\n",
      "#![allow(unused_parens)]\n",
      "#![allow(unused_variables)]\n",
      "mod module_ccfa04bf {\n",
      "    pub mod Spiral_eval {\n",
      "        use super::*;\n",
      "        use fable_library_rust::Native_::on_startup;\n",
      "        use fable_library_rust::Native_::MutCell;\n",
      "        use fable_library_rust::Option_::getValue;\n",
      "        use fable_library_rust::String_::printfn;\n",
      "        use fable_library_rust::String_::sprintf;\n",
      "        use fable_library_rust::String_::string;\n",
      "        pub fn method1() -> string {\n",
      "            string(\" 123\")\n",
      "        }\n",
      "        pub fn method2() -> string {\n",
      "            string(\"\")\n",
      "        }\n",
      "        pub fn method3() -> string {\n",
      "            string(\"\\\\s\\\\w2\")\n",
      "        }\n",
      "        pub fn method4() -> string {\n",
      "            string(\"\")\n",
      "        }\n",
      "        pub fn method5(v0: bool) -> bool {\n",
      "            v0\n",
      "        }\n",
      "        pub fn method0() {\n",
      "            let _v0: MutCell<Option<string>> = MutCell::new(None::<string>);\n",
      "            let v1: string = Spiral_eval::method1();\n",
      "            let v2: string = Spiral_eval::method2();\n",
      "            let _v3: MutCell<Option<Result<regex::Regex, regex::Error>>> =\n",
      "                MutCell::new(None::<Result<regex::Regex, regex::Error>>);\n",
      "            let v4: string = Spiral_eval::method3();\n",
      "            {\n",
      "                let x: Result<regex::Regex, regex::Error> = regex::Regex::new(&v4);\n",
      "                _v3.set(Some(x))\n",
      "            }\n",
      "            {\n",
      "                let v12: Result<regex::Regex, regex::Error> = getValue(_v3.get().clone());\n",
      "                let v14: regex::Regex = v12.unwrap();\n",
      "                let v16: std::borrow::Cow<str> = v14.replace_all(&v1, &*v2);\n",
      "                let v18: std::string::String = String::from(v16);\n",
      "                {\n",
      "                    let x_1: string = fable_library_rust::String_::fromString(v18);\n",
      "                    _v0.set(Some(x_1))\n",
      "                }\n",
      "                {\n",
      "                    let v29: string = getValue(_v0.get().clone());\n",
      "                    let v31: bool = v29.clone() == string(\"3\");\n",
      "                    let v33: bool = if v31 { true } else { Spiral_eval::method5(v31) };\n",
      "                    let v36: string = sprintf!(\n",
      "                        \"{} / actual: {:?} / expected: {:?}\",\n",
      "                        string(\"assert_eq\"),\n",
      "                        v29,\n",
      "                        string(\"3\")\n",
      "                    );\n",
      "                    printfn!(\"{0}\", v36.clone());\n",
      "                    if v33 == false {\n",
      "                        panic!(\"{}\", v36,);\n",
      "                    }\n",
      "                }\n",
      "            }\n",
      "        }\n",
      "        on_startup!(Spiral_eval::method0());\n",
      "    }\n",
      "}\n",
      "pub use module_ccfa04bf::*;\n",
      "\n"
     ]
    }
   ],
   "source": [
    "//// test\n",
    "///! rust -d regex\n",
    "\n",
    "types ()\n",
    "\" 123\"\n",
    "|> replace_regex \"\\\\s\\\\w2\" \"\"\n",
    "|> _assert_eq \"3\""
   ]
  },
  {
   "cell_type": "markdown",
   "metadata": {},
   "source": [
    "## serialize"
   ]
  },
  {
   "cell_type": "code",
   "execution_count": null,
   "metadata": {
    "dotnet_interactive": {
     "language": "spiral"
    },
    "polyglot_notebook": {
     "kernelName": "spiral"
    }
   },
   "outputs": [
    {
     "name": "stdout",
     "output_type": "stream",
     "text": [
      "()\n",
      "\n"
     ]
    }
   ],
   "source": [
    "inl serialize forall t. (x : t) : resultm.result' std_string json_error =\n",
    "    !\\($'\"serde_json::to_string(&!x)\"')"
   ]
  },
  {
   "cell_type": "markdown",
   "metadata": {},
   "source": [
    "## deserialize"
   ]
  },
  {
   "cell_type": "code",
   "execution_count": null,
   "metadata": {
    "dotnet_interactive": {
     "language": "spiral"
    },
    "polyglot_notebook": {
     "kernelName": "spiral"
    }
   },
   "outputs": [
    {
     "name": "stdout",
     "output_type": "stream",
     "text": [
      "()\n",
      "\n"
     ]
    }
   ],
   "source": [
    "inl deserialize forall t. (json : string) : resultm.result' t std_string =\n",
    "    inl json = join json\n",
    "    inl json = json |> as_str\n",
    "    !\\($'\"serde_json::from_str(&!json)\"')\n",
    "    |> resultm.map_error' fun (x : json_error) => x |> format'"
   ]
  },
  {
   "cell_type": "markdown",
   "metadata": {},
   "source": [
    "## borsh_deserialize"
   ]
  },
  {
   "cell_type": "code",
   "execution_count": null,
   "metadata": {
    "dotnet_interactive": {
     "language": "spiral"
    },
    "polyglot_notebook": {
     "kernelName": "spiral"
    }
   },
   "outputs": [
    {
     "name": "stdout",
     "output_type": "stream",
     "text": [
      "()\n",
      "\n"
     ]
    }
   ],
   "source": [
    "inl borsh_deserialize forall t. (data : array_base u8) : resultm.result' t std_string =\n",
    "    inl data = data |> am'.as_slice\n",
    "    (!\\($'\"true; let mut !data = !data\"') : bool) |> ignore\n",
    "    inl result = !\\($'\"borsh::BorshDeserialize::deserialize(&mut !data)\"')\n",
    "    result\n",
    "    |> resultm.map_error' fun (x : borsh_io_error) => x |> format'"
   ]
  },
  {
   "cell_type": "markdown",
   "metadata": {},
   "source": [
    "## deserialize_vec"
   ]
  },
  {
   "cell_type": "code",
   "execution_count": null,
   "metadata": {
    "dotnet_interactive": {
     "language": "spiral"
    },
    "polyglot_notebook": {
     "kernelName": "spiral"
    }
   },
   "outputs": [
    {
     "name": "stdout",
     "output_type": "stream",
     "text": [
      "()\n",
      "\n"
     ]
    }
   ],
   "source": [
    "inl deserialize_vec (value : json_value) : resultm.result' (am'.vec u8) std_string =\n",
    "    inl value = join value\n",
    "    !\\($'\"serde_json::from_value(!value)\"')\n",
    "    |> resultm.map_error' fun (x : json_error) => x |> format'"
   ]
  },
  {
   "cell_type": "markdown",
   "metadata": {},
   "source": [
    "## encode_uri_component"
   ]
  },
  {
   "cell_type": "code",
   "execution_count": null,
   "metadata": {
    "dotnet_interactive": {
     "language": "spiral"
    },
    "polyglot_notebook": {
     "kernelName": "spiral"
    }
   },
   "outputs": [
    {
     "name": "stdout",
     "output_type": "stream",
     "text": [
      "()\n",
      "\n"
     ]
    }
   ],
   "source": [
    "inl encode_uri_component (s : std_string) : js_string =\n",
    "    !\\($'\"js_sys::encode_uri_component(&!s)\"')"
   ]
  },
  {
   "cell_type": "markdown",
   "metadata": {},
   "source": [
    "## strip_prefix"
   ]
  },
  {
   "cell_type": "code",
   "execution_count": null,
   "metadata": {
    "dotnet_interactive": {
     "language": "spiral"
    },
    "polyglot_notebook": {
     "kernelName": "spiral"
    }
   },
   "outputs": [
    {
     "name": "stdout",
     "output_type": "stream",
     "text": [
      "()\n",
      "\n"
     ]
    }
   ],
   "source": [
    "inl strip_prefix (prefix : char) (s : std_string) : optionm'.option' (rust.ref' str) =\n",
    "    inl s = join s\n",
    "    !\\($'\"!s.strip_prefix(!prefix)\"')"
   ]
  },
  {
   "cell_type": "markdown",
   "metadata": {},
   "source": [
    "## str_from_utf8"
   ]
  },
  {
   "cell_type": "code",
   "execution_count": null,
   "metadata": {
    "dotnet_interactive": {
     "language": "spiral"
    },
    "polyglot_notebook": {
     "kernelName": "spiral"
    }
   },
   "outputs": [
    {
     "name": "stdout",
     "output_type": "stream",
     "text": [
      "()\n",
      "\n"
     ]
    }
   ],
   "source": [
    "inl str_from_utf8 (bytes : rust.ref' (am'.slice u8)) : resultm.result' (rust.ref' str) utf8_error =\n",
    "    !\\($'\"std::str::from_utf8(!bytes)\"')"
   ]
  },
  {
   "cell_type": "markdown",
   "metadata": {},
   "source": [
    "## string_from_utf8"
   ]
  },
  {
   "cell_type": "code",
   "execution_count": null,
   "metadata": {
    "dotnet_interactive": {
     "language": "spiral"
    },
    "polyglot_notebook": {
     "kernelName": "spiral"
    }
   },
   "outputs": [
    {
     "name": "stdout",
     "output_type": "stream",
     "text": [
      "()\n",
      "\n"
     ]
    }
   ],
   "source": [
    "inl string_from_utf8 (bytes : am'.vec u8) : resultm.result' std_string from_utf8_error =\n",
    "    !\\($'\"std::string::String::from_utf8(!bytes)\"')"
   ]
  },
  {
   "cell_type": "markdown",
   "metadata": {},
   "source": [
    "## base64_decode"
   ]
  },
  {
   "cell_type": "code",
   "execution_count": null,
   "metadata": {
    "dotnet_interactive": {
     "language": "spiral"
    },
    "polyglot_notebook": {
     "kernelName": "spiral"
    }
   },
   "outputs": [
    {
     "name": "stdout",
     "output_type": "stream",
     "text": [
      "()\n",
      "\n"
     ]
    }
   ],
   "source": [
    "inl base64_decode (s : std_string) : result std_string std_string =\n",
    "    fun () =>\n",
    "        inl s = join s\n",
    "        inl bytes : resultm.result' (am'.vec u8) base64_decode_error =\n",
    "            !\\($'\"base64::Engine::decode(&base64::engine::general_purpose::STANDARD, !s)\"')\n",
    "        bytes\n",
    "        |> resultm.map_error' format'\n",
    "        |> resultm.try'\n",
    "        |> string_from_utf8\n",
    "        |> resultm.map_error' format'\n",
    "    |> fun x =>\n",
    "        join x ()\n",
    "        |> resultm.unbox"
   ]
  },
  {
   "cell_type": "markdown",
   "metadata": {},
   "source": [
    "## encoding'"
   ]
  },
  {
   "cell_type": "code",
   "execution_count": null,
   "metadata": {
    "dotnet_interactive": {
     "language": "spiral"
    },
    "polyglot_notebook": {
     "kernelName": "spiral"
    }
   },
   "outputs": [
    {
     "name": "stdout",
     "output_type": "stream",
     "text": [
      "()\n",
      "\n"
     ]
    }
   ],
   "source": [
    "nominal encoding' = $'encoding_rs_Encoding'"
   ]
  },
  {
   "cell_type": "markdown",
   "metadata": {},
   "source": [
    "## encoding_utf8'"
   ]
  },
  {
   "cell_type": "code",
   "execution_count": null,
   "metadata": {
    "dotnet_interactive": {
     "language": "spiral"
    },
    "polyglot_notebook": {
     "kernelName": "spiral"
    }
   },
   "outputs": [
    {
     "name": "stdout",
     "output_type": "stream",
     "text": [
      "()\n",
      "\n"
     ]
    }
   ],
   "source": [
    "inl encoding_utf8' () : rust.ref' encoding' =\n",
    "    !\\($'\"encoding_rs::UTF_8\"')"
   ]
  },
  {
   "cell_type": "markdown",
   "metadata": {},
   "source": [
    "## encoding_1252"
   ]
  },
  {
   "cell_type": "code",
   "execution_count": null,
   "metadata": {
    "dotnet_interactive": {
     "language": "spiral"
    },
    "polyglot_notebook": {
     "kernelName": "spiral"
    }
   },
   "outputs": [
    {
     "name": "stdout",
     "output_type": "stream",
     "text": [
      "()\n",
      "\n"
     ]
    }
   ],
   "source": [
    "inl encoding_1252' () : rust.ref' encoding' =\n",
    "    !\\($'\"encoding_rs::WINDOWS_1252\"')"
   ]
  },
  {
   "cell_type": "markdown",
   "metadata": {},
   "source": [
    "## encoding_encode"
   ]
  },
  {
   "cell_type": "code",
   "execution_count": null,
   "metadata": {
    "dotnet_interactive": {
     "language": "spiral"
    },
    "polyglot_notebook": {
     "kernelName": "spiral"
    }
   },
   "outputs": [
    {
     "name": "stdout",
     "output_type": "stream",
     "text": [
      "()\n",
      "\n"
     ]
    }
   ],
   "source": [
    "inl encoding_encode' (encoding : rust.ref' encoding') (text : string) : rust.cow (am'.slice u8) =\n",
    "    !\\\\((encoding, text), $'\"$0.encode(&*$1).0\"')"
   ]
  },
  {
   "cell_type": "markdown",
   "metadata": {},
   "source": [
    "## write_all_text"
   ]
  },
  {
   "cell_type": "code",
   "execution_count": null,
   "metadata": {
    "dotnet_interactive": {
     "language": "spiral"
    },
    "polyglot_notebook": {
     "kernelName": "spiral"
    }
   },
   "outputs": [
    {
     "name": "stdout",
     "output_type": "stream",
     "text": [
      "()\n",
      "\n"
     ]
    }
   ],
   "source": [
    "inl write_all_text (path : string) (text : string) : () =\n",
    "    run_target function\n",
    "        | Fsharp (Native) => fun () =>\n",
    "            inl text = join text\n",
    "            $'System.IO.File.WriteAllText (!path, !text)'\n",
    "        | Rust (Native) => fun () =>\n",
    "            open rust_operators\n",
    "            !\\\\((path, text), $'\"std::fs::write(&*$0, &*$1).unwrap()\"')\n",
    "        | _ => fun () => null ()"
   ]
  },
  {
   "cell_type": "markdown",
   "metadata": {},
   "source": [
    "## utf8_decode"
   ]
  },
  {
   "cell_type": "code",
   "execution_count": null,
   "metadata": {
    "dotnet_interactive": {
     "language": "spiral"
    },
    "polyglot_notebook": {
     "kernelName": "spiral"
    }
   },
   "outputs": [
    {
     "name": "stdout",
     "output_type": "stream",
     "text": [
      "()\n",
      "\n"
     ]
    }
   ],
   "source": [
    "inl utf8_decode (data : am'.vec u8) : resultm.result' std_string (rust.cow str) =\n",
    "    !\\($'$\"encoding::Encoding::decode(encoding::all::UTF_8, &!data, encoding::DecoderTrap::Replace)\"')"
   ]
  },
  {
   "cell_type": "markdown",
   "metadata": {},
   "source": [
    "## concat_array_trailing"
   ]
  },
  {
   "cell_type": "code",
   "execution_count": null,
   "metadata": {
    "dotnet_interactive": {
     "language": "spiral"
    },
    "polyglot_notebook": {
     "kernelName": "spiral"
    }
   },
   "outputs": [
    {
     "name": "stdout",
     "output_type": "stream",
     "text": [
      "()\n",
      "\n"
     ]
    }
   ],
   "source": [
    "inl concat_array_trailing (separator : string) (input : a i32 string) =\n",
    "    (\"\", input)\n",
    "    ||> am.fold fun acc (x : string) =>\n",
    "        $'!acc + !x + !separator + \"\"'"
   ]
  },
  {
   "cell_type": "code",
   "execution_count": null,
   "metadata": {
    "dotnet_interactive": {
     "language": "spiral"
    },
    "polyglot_notebook": {
     "kernelName": "spiral"
    }
   },
   "outputs": [
    {
     "data": {
      "text/plain": [
       ".rs output:\n",
       "assert_eq / actual: \"1\n",
       "2\n",
       "3\n",
       "\" / expected: \"1\n",
       "2\n",
       "3\n",
       "\"\n",
       "\n",
       "\n"
      ]
     },
     "metadata": {},
     "output_type": "display_data"
    },
    {
     "name": "stdout",
     "output_type": "stream",
     "text": [
      ".fsx:\n",
      "type Mut0 = {mutable l0 : int32; mutable l1 : string}\n",
      "let rec method1 (v0 : int32, v1 : Mut0) : bool =\n",
      "    let v2 : int32 = v1.l0\n",
      "    let v3 : bool = v2 < v0\n",
      "    v3\n",
      "and method2 (v0 : bool) : bool =\n",
      "    v0\n",
      "and method0 () : unit =\n",
      "    let v0 : string = \"1\"\n",
      "    let v1 : string = \"2\"\n",
      "    let v2 : string = \"3\"\n",
      "    let v3 : (string []) = [|v0; v1; v2|]\n",
      "    let v4 : int32 = v3.Length\n",
      "    let v5 : string = \"\"\n",
      "    let v6 : Mut0 = {l0 = 0; l1 = v5} : Mut0\n",
      "    while method1(v4, v6) do\n",
      "        let v8 : int32 = v6.l0\n",
      "        let v9 : string = v6.l1\n",
      "        let v10 : string = v3.[int v8]\n",
      "        let v11 : string = \"\\n\"\n",
      "        let v12 : string = v9 + v10 + v11 + \"\"\n",
      "        let v13 : int32 = v8 + 1\n",
      "        v6.l0 <- v13\n",
      "        v6.l1 <- v12\n",
      "        ()\n",
      "    let v14 : string = v6.l1\n",
      "    let v16 : bool = v14 = \"1\\n2\\n3\\n\"\n",
      "    let v18 : bool =\n",
      "        if v16 then\n",
      "            true\n",
      "        else\n",
      "            method2(v16)\n",
      "    let v19 : string = \"assert_eq\"\n",
      "    let v20 : string = \"1\\n2\\n3\\n\"\n",
      "    let v21 : string = $\"{v19} / actual: %A{v14} / expected: %A{v20}\"\n",
      "    System.Console.WriteLine v21\n",
      "    let v22 : bool = v18 = false\n",
      "    if v22 then\n",
      "        failwith<unit> v21\n",
      "method0()\n",
      "\n",
      "\n",
      ".rs:\n",
      "#![allow(dead_code)]\n",
      "#![allow(non_camel_case_types)]\n",
      "#![allow(non_snake_case)]\n",
      "#![allow(non_upper_case_globals)]\n",
      "#![allow(unreachable_code)]\n",
      "#![allow(unused_attributes)]\n",
      "#![allow(unused_imports)]\n",
      "#![allow(unused_macros)]\n",
      "#![allow(unused_parens)]\n",
      "#![allow(unused_variables)]\n",
      "mod module_ccfa04bf {\n",
      "    pub mod Spiral_eval {\n",
      "        use super::*;\n",
      "        use fable_library_rust::NativeArray_::count;\n",
      "        use fable_library_rust::NativeArray_::new_array;\n",
      "        use fable_library_rust::NativeArray_::Array;\n",
      "        use fable_library_rust::Native_::on_startup;\n",
      "        use fable_library_rust::Native_::LrcPtr;\n",
      "        use fable_library_rust::Native_::MutCell;\n",
      "        use fable_library_rust::String_::append;\n",
      "        use fable_library_rust::String_::printfn;\n",
      "        use fable_library_rust::String_::sprintf;\n",
      "        use fable_library_rust::String_::string;\n",
      "        #[derive(Clone, Debug, Default, PartialEq, PartialOrd, Hash, Eq)]\n",
      "        pub struct Mut0 {\n",
      "            pub l0: MutCell<i32>,\n",
      "            pub l1: MutCell<string>,\n",
      "        }\n",
      "        impl core::fmt::Display for Spiral_eval::Mut0 {\n",
      "            fn fmt(&self, f: &mut core::fmt::Formatter) -> core::fmt::Result {\n",
      "                write!(f, \"{}\", core::any::type_name::<Self>())\n",
      "            }\n",
      "        }\n",
      "        pub fn method1(v0: i32, v1: LrcPtr<Spiral_eval::Mut0>) -> bool {\n",
      "            v1.l0.get().clone() < v0\n",
      "        }\n",
      "        pub fn method2(v0: bool) -> bool {\n",
      "            v0\n",
      "        }\n",
      "        pub fn method0() {\n",
      "            let v3: Array<string> = new_array(&[string(\"1\"), string(\"2\"), string(\"3\")]);\n",
      "            let v4: i32 = count(v3.clone());\n",
      "            let v6: LrcPtr<Spiral_eval::Mut0> = LrcPtr::new(Spiral_eval::Mut0 {\n",
      "                l0: MutCell::new(0_i32),\n",
      "                l1: MutCell::new(string(\"\")),\n",
      "            });\n",
      "            while Spiral_eval::method1(v4, v6.clone()) {\n",
      "                let v8: i32 = v6.l0.get().clone();\n",
      "                let v12: string = append(\n",
      "                    append(append(v6.l1.get().clone(), v3[v8].clone()), string(\"\\n\")),\n",
      "                    string(\"\"),\n",
      "                );\n",
      "                let v13: i32 = v8 + 1_i32;\n",
      "                v6.l0.set(v13);\n",
      "                v6.l1.set(v12);\n",
      "                ()\n",
      "            }\n",
      "            {\n",
      "                let v14: string = v6.l1.get().clone();\n",
      "                let v16: bool = v14.clone() == string(\"1\\n2\\n3\\n\");\n",
      "                let v18: bool = if v16 { true } else { Spiral_eval::method2(v16) };\n",
      "                let v21: string = sprintf!(\n",
      "                    \"{} / actual: {:?} / expected: {:?}\",\n",
      "                    string(\"assert_eq\"),\n",
      "                    v14,\n",
      "                    string(\"1\\n2\\n3\\n\")\n",
      "                );\n",
      "                printfn!(\"{0}\", v21.clone());\n",
      "                if v18 == false {\n",
      "                    panic!(\"{}\", v21,);\n",
      "                }\n",
      "            }\n",
      "        }\n",
      "        on_startup!(Spiral_eval::method0());\n",
      "    }\n",
      "}\n",
      "pub use module_ccfa04bf::*;\n",
      "\n"
     ]
    }
   ],
   "source": [
    "//// test\n",
    "///! rust\n",
    "\n",
    ";[\n",
    "    \"1\"\n",
    "    \"2\"\n",
    "    \"3\"\n",
    "]\n",
    "|> fun x =>\n",
    "    inl code = (a x : _ i32 _) |> concat_array_trailing \"\\n\"\n",
    "    code\n",
    "    |> _assert_eq \"1\\n2\\n3\\n\""
   ]
  },
  {
   "cell_type": "markdown",
   "metadata": {},
   "source": [
    "## concat_list_trailing"
   ]
  },
  {
   "cell_type": "code",
   "execution_count": null,
   "metadata": {
    "dotnet_interactive": {
     "language": "spiral"
    },
    "polyglot_notebook": {
     "kernelName": "spiral"
    }
   },
   "outputs": [
    {
     "name": "stdout",
     "output_type": "stream",
     "text": [
      "()\n",
      "\n"
     ]
    }
   ],
   "source": [
    "inl concat_list_trailing separator input =\n",
    "    (\"\", input)\n",
    "    ||> listm.fold fun acc (x : string) =>\n",
    "        $'!acc + !x + !separator + \"\"'"
   ]
  },
  {
   "cell_type": "code",
   "execution_count": null,
   "metadata": {
    "dotnet_interactive": {
     "language": "spiral"
    },
    "polyglot_notebook": {
     "kernelName": "spiral"
    }
   },
   "outputs": [
    {
     "data": {
      "text/plain": [
       ".rs output:\n",
       "assert_eq / actual: \"1\n",
       "2\n",
       "3\n",
       "\" / expected: \"1\n",
       "2\n",
       "3\n",
       "\"\n",
       "\n",
       "\n"
      ]
     },
     "metadata": {},
     "output_type": "display_data"
    },
    {
     "name": "stdout",
     "output_type": "stream",
     "text": [
      ".fsx:\n",
      "let rec method1 (v0 : bool) : bool =\n",
      "    v0\n",
      "and method0 () : unit =\n",
      "    let v0 : string = \"\"\n",
      "    let v1 : string = \"1\"\n",
      "    let v2 : string = \"\\n\"\n",
      "    let v3 : string = v0 + v1 + v2 + \"\"\n",
      "    let v4 : string = \"2\"\n",
      "    let v5 : string = v3 + v4 + v2 + \"\"\n",
      "    let v6 : string = \"3\"\n",
      "    let v7 : string = v5 + v6 + v2 + \"\"\n",
      "    let v9 : bool = v7 = \"1\\n2\\n3\\n\"\n",
      "    let v11 : bool =\n",
      "        if v9 then\n",
      "            true\n",
      "        else\n",
      "            method1(v9)\n",
      "    let v12 : string = \"assert_eq\"\n",
      "    let v13 : string = \"1\\n2\\n3\\n\"\n",
      "    let v14 : string = $\"{v12} / actual: %A{v7} / expected: %A{v13}\"\n",
      "    System.Console.WriteLine v14\n",
      "    let v15 : bool = v11 = false\n",
      "    if v15 then\n",
      "        failwith<unit> v14\n",
      "method0()\n",
      "\n",
      "\n",
      ".rs:\n",
      "#![allow(dead_code)]\n",
      "#![allow(non_camel_case_types)]\n",
      "#![allow(non_snake_case)]\n",
      "#![allow(non_upper_case_globals)]\n",
      "#![allow(unreachable_code)]\n",
      "#![allow(unused_attributes)]\n",
      "#![allow(unused_imports)]\n",
      "#![allow(unused_macros)]\n",
      "#![allow(unused_parens)]\n",
      "#![allow(unused_variables)]\n",
      "mod module_ccfa04bf {\n",
      "    pub mod Spiral_eval {\n",
      "        use super::*;\n",
      "        use fable_library_rust::Native_::on_startup;\n",
      "        use fable_library_rust::String_::printfn;\n",
      "        use fable_library_rust::String_::sprintf;\n",
      "        use fable_library_rust::String_::string;\n",
      "        pub fn method1(v0: bool) -> bool {\n",
      "            v0\n",
      "        }\n",
      "        pub fn method0() {\n",
      "            let v7: string = string(\"1\\n2\\n3\\n\");\n",
      "            let v9: bool = v7.clone() == string(\"1\\n2\\n3\\n\");\n",
      "            let v11: bool = if v9 { true } else { Spiral_eval::method1(v9) };\n",
      "            let v14: string = sprintf!(\n",
      "                \"{} / actual: {:?} / expected: {:?}\",\n",
      "                string(\"assert_eq\"),\n",
      "                v7,\n",
      "                string(\"1\\n2\\n3\\n\")\n",
      "            );\n",
      "            printfn!(\"{0}\", v14.clone());\n",
      "            if v11 == false {\n",
      "                panic!(\"{}\", v14,);\n",
      "            }\n",
      "        }\n",
      "        on_startup!(Spiral_eval::method0());\n",
      "    }\n",
      "}\n",
      "pub use module_ccfa04bf::*;\n",
      "\n"
     ]
    }
   ],
   "source": [
    "//// test\n",
    "///! rust\n",
    "\n",
    "[\n",
    "    \"1\"\n",
    "    \"2\"\n",
    "    \"3\"\n",
    "]\n",
    "|> fun x =>\n",
    "    inl code = (x : _) |> concat_list_trailing \"\\n\"\n",
    "    code\n",
    "    |> _assert_eq \"1\\n2\\n3\\n\""
   ]
  },
  {
   "cell_type": "markdown",
   "metadata": {},
   "source": [
    "## concat_list_heap_trailing"
   ]
  },
  {
   "cell_type": "code",
   "execution_count": null,
   "metadata": {
    "dotnet_interactive": {
     "language": "spiral"
    },
    "polyglot_notebook": {
     "kernelName": "spiral"
    }
   },
   "outputs": [
    {
     "name": "stdout",
     "output_type": "stream",
     "text": [
      "()\n",
      "\n"
     ]
    }
   ],
   "source": [
    "inl concat_list_heap_trailing separator input =\n",
    "    inl separator = join separator\n",
    "    inl separator = separator |> as_str\n",
    "    (\"\", input)\n",
    "    ||> listm.fold fun acc (x : string) =>\n",
    "        inl acc = acc |> to_std_string\n",
    "        inl x = x |> as_str\n",
    "        $'$\"{!acc}{!x}{!separator}\"'"
   ]
  },
  {
   "cell_type": "code",
   "execution_count": null,
   "metadata": {
    "dotnet_interactive": {
     "language": "spiral"
    },
    "polyglot_notebook": {
     "kernelName": "spiral"
    }
   },
   "outputs": [
    {
     "data": {
      "text/plain": [
       ".rs output:\n",
       "assert_eq / actual: \"1\n",
       "2\n",
       "3\n",
       "\" / expected: \"1\n",
       "2\n",
       "3\n",
       "\"\n",
       "\n",
       "\n"
      ]
     },
     "metadata": {},
     "output_type": "display_data"
    },
    {
     "name": "stdout",
     "output_type": "stream",
     "text": [
      ".fsx:\n",
      "#if FABLE_COMPILER\n",
      "[<Fable.Core.Erase; Fable.Core.Emit(\"_\")>]\n",
      "#endif\n",
      "type Any = class end\n",
      "#if FABLE_COMPILER\n",
      "[<Fable.Core.Erase; Fable.Core.Emit(\"Func0<$0>\")>]\n",
      "#endif\n",
      "type Func0<'T> = class end\n",
      "#if FABLE_COMPILER\n",
      "[<Fable.Core.Erase; Fable.Core.Emit(\"Func1<$0, $1>\")>]\n",
      "#endif\n",
      "type Func0<'T, 'U> = class end\n",
      "#if FABLE_COMPILER\n",
      "[<Fable.Core.Erase; Fable.Core.Emit(\"Box<$0>\")>]\n",
      "#endif\n",
      "type Box<'T> = class end\n",
      "#if FABLE_COMPILER\n",
      "[<Fable.Core.Erase; Fable.Core.Emit(\"dyn $0\")>]\n",
      "#endif\n",
      "type Dyn<'T> = class end\n",
      "#if FABLE_COMPILER\n",
      "[<Fable.Core.Erase; Fable.Core.Emit(\"$0 + Send\")>]\n",
      "#endif\n",
      "type Send<'T> = class end\n",
      "#if FABLE_COMPILER\n",
      "[<Fable.Core.Erase; Fable.Core.Emit(\"Fn() -> $0\")>]\n",
      "#endif\n",
      "type Fn<'T> = class end\n",
      "#if FABLE_COMPILER\n",
      "[<Fable.Core.Erase; Fable.Core.Emit(\"Fn()\")>]\n",
      "#endif\n",
      "type FnUnit = class end\n",
      "#if FABLE_COMPILER\n",
      "[<Fable.Core.Erase; Fable.Core.Emit(\"FnOnce() -> $0\")>]\n",
      "#endif\n",
      "type FnOnce<'T> = class end\n",
      "#if FABLE_COMPILER\n",
      "[<Fable.Core.Erase; Fable.Core.Emit(\"Fn($0)\")>]\n",
      "#endif\n",
      "type ActionFn<'T> = class end\n",
      "#if FABLE_COMPILER\n",
      "[<Fable.Core.Erase; Fable.Core.Emit(\"Fn($0, $1)\")>]\n",
      "#endif\n",
      "type ActionFn2<'T, 'U> = class end\n",
      "#if FABLE_COMPILER\n",
      "[<Fable.Core.Erase; Fable.Core.Emit(\"impl $0\")>]\n",
      "#endif\n",
      "type Impl<'T> = class end\n",
      "#if FABLE_COMPILER\n",
      "[<Fable.Core.Erase; Fable.Core.Emit(\"mut $0\")>]\n",
      "#endif\n",
      "type Mut<'T> = class end\n",
      "#if FABLE_COMPILER\n",
      "[<Fable.Core.Erase; Fable.Core.Emit(\"&$0\")>]\n",
      "#endif\n",
      "type Ref<'T> = class end\n",
      "#if FABLE_COMPILER\n",
      "[<Fable.Core.Erase; Fable.Core.Emit(\"&'static $0\")>]\n",
      "#endif\n",
      "type StaticRef<'T> = class end\n",
      "#if FABLE_COMPILER\n",
      "[<Fable.Core.Erase; Fable.Core.Emit(\"MutCell<$0>\")>]\n",
      "#endif\n",
      "type MutCell<'T> = class end\n",
      "#if FABLE_COMPILER\n",
      "[<Fable.Core.Erase; Fable.Core.Emit(\"std::any::Any\")>]\n",
      "#endif\n",
      "type std_any_Any = class end\n",
      "#if FABLE_COMPILER\n",
      "[<Fable.Core.Erase; Fable.Core.Emit(\"std::borrow::Cow<$0>\")>]\n",
      "#endif\n",
      "type std_borrow_Cow<'T> = class end\n",
      "#if FABLE_COMPILER\n",
      "[<Fable.Core.Erase; Fable.Core.Emit(\"std::cell::RefCell<$0>\")>]\n",
      "#endif\n",
      "type std_cell_RefCell<'T> = class end\n",
      "#if FABLE_COMPILER\n",
      "[<Fable.Core.Erase; Fable.Core.Emit(\"std::pin::Pin<$0>\")>]\n",
      "#endif\n",
      "type std_pin_Pin<'T> = class end\n",
      "#if FABLE_COMPILER\n",
      "[<Fable.Core.Erase; Fable.Core.Emit(\"std::rc::Rc<$0>\")>]\n",
      "#endif\n",
      "type std_rc_Rc<'T> = class end\n",
      "#if FABLE_COMPILER\n",
      "[<Fable.Core.Erase; Fable.Core.Emit(\"std::rc::Weak<$0>\")>]\n",
      "#endif\n",
      "type std_rc_Weak<'T> = class end\n",
      "#if FABLE_COMPILER\n",
      "[<Fable.Core.Erase; Fable.Core.Emit(\"std::collections::HashMap<$0, $1>\")>]\n",
      "#endif\n",
      "type std_collections_HashMap<'K, 'V> = class end\n",
      "#if FABLE_COMPILER\n",
      "[<Fable.Core.Erase; Fable.Core.Emit(\"std::collections::BTreeMap<$0, $1>\")>]\n",
      "#endif\n",
      "type std_collections_BTreeMap<'K, 'V> = class end\n",
      "#if FABLE_COMPILER\n",
      "[<Fable.Core.Erase; Fable.Core.Emit(\"str\")>]\n",
      "#endif\n",
      "type Str = class end\n",
      "#if FABLE_COMPILER\n",
      "[<Fable.Core.Erase; Fable.Core.Emit(\"base64::DecodeError\")>]\n",
      "#endif\n",
      "type base64_DecodeError = class end\n",
      "#if FABLE_COMPILER\n",
      "[<Fable.Core.Erase; Fable.Core.Emit(\"borsh::io::Error\")>]\n",
      "#endif\n",
      "type borsh_io_Error = class end\n",
      "#if FABLE_COMPILER\n",
      "[<Fable.Core.Erase; Fable.Core.Emit(\"encoding_rs::Encoding\")>]\n",
      "#endif\n",
      "type encoding_rs_Encoding = class end\n",
      "#if FABLE_COMPILER\n",
      "[<Fable.Core.Erase; Fable.Core.Emit(\"js_sys::JsString\")>]\n",
      "#endif\n",
      "type js_sys_JsString = class end\n",
      "#if FABLE_COMPILER\n",
      "[<Fable.Core.Erase; Fable.Core.Emit(\"serde_json::Error\")>]\n",
      "#endif\n",
      "type serde_json_Error = class end\n",
      "#if FABLE_COMPILER\n",
      "[<Fable.Core.Erase; Fable.Core.Emit(\"serde_json::Value\")>]\n",
      "#endif\n",
      "type serde_json_Value = class end\n",
      "#if FABLE_COMPILER\n",
      "[<Fable.Core.Erase; Fable.Core.Emit(\"serde_wasm_bindgen::Error\")>]\n",
      "#endif\n",
      "type serde_wasm_bindgen_Error = class end\n",
      "#if FABLE_COMPILER\n",
      "[<Fable.Core.Erase; Fable.Core.Emit(\"std::ffi::OsStr\")>]\n",
      "#endif\n",
      "type std_ffi_OsStr = class end\n",
      "#if FABLE_COMPILER\n",
      "[<Fable.Core.Erase; Fable.Core.Emit(\"std::ffi::OsString\")>]\n",
      "#endif\n",
      "type std_ffi_OsString = class end\n",
      "#if FABLE_COMPILER\n",
      "[<Fable.Core.Erase; Fable.Core.Emit(\"std::fmt::Display<$0>\")>]\n",
      "#endif\n",
      "type std_fmt_Display<'T> = class end\n",
      "#if FABLE_COMPILER\n",
      "[<Fable.Core.Erase; Fable.Core.Emit(\"std::str::Utf8Error\")>]\n",
      "#endif\n",
      "type std_str_Utf8Error = class end\n",
      "#if FABLE_COMPILER\n",
      "[<Fable.Core.Erase; Fable.Core.Emit(\"std::string::FromUtf8Error\")>]\n",
      "#endif\n",
      "type std_string_FromUtf8Error = class end\n",
      "#if FABLE_COMPILER\n",
      "[<Fable.Core.Erase; Fable.Core.Emit(\"std::string::String\")>]\n",
      "#endif\n",
      "type std_string_String = class end\n",
      "#if FABLE_COMPILER\n",
      "[<Fable.Core.Erase; Fable.Core.Emit(\"std::slice::Windows<$0>\")>]\n",
      "#endif\n",
      "type std_slice_Windows<'T> = class end\n",
      "#if FABLE_COMPILER\n",
      "[<Fable.Core.Erase; Fable.Core.Emit(\"regex::Regex\")>]\n",
      "#endif\n",
      "type regex_Regex = class end\n",
      "#if FABLE_COMPILER\n",
      "[<Fable.Core.Erase; Fable.Core.Emit(\"regex::Captures\")>]\n",
      "#endif\n",
      "type regex_Captures = class end\n",
      "#if FABLE_COMPILER\n",
      "[<Fable.Core.Erase; Fable.Core.Emit(\"regex::CaptureMatches\")>]\n",
      "#endif\n",
      "type regex_CaptureMatches = class end\n",
      "#if FABLE_COMPILER\n",
      "[<Fable.Core.Erase; Fable.Core.Emit(\"regex::Error\")>]\n",
      "#endif\n",
      "type regex_Error = class end\n",
      "let rec method1 () : string =\n",
      "    let v0 : string = \"\\n\"\n",
      "    v0\n",
      "and method2 (v0 : bool) : bool =\n",
      "    v0\n",
      "and method0 () : unit =\n",
      "    let v0 : string = method1()\n",
      "    let v1 : string = \"&*$0\"\n",
      "    let v2 : Ref<Str> = Fable.Core.RustInterop.emitRustExpr v0 v1\n",
      "    let v3 : string = \"&*$0\"\n",
      "    let v4 : string = \"\"\n",
      "    let v5 : Ref<Str> = Fable.Core.RustInterop.emitRustExpr v4 v3\n",
      "    let v6 : string = \"String::from($0)\"\n",
      "    let v7 : std_string_String = Fable.Core.RustInterop.emitRustExpr v5 v6\n",
      "    let v8 : string = \"&*$0\"\n",
      "    let v9 : string = \"1\"\n",
      "    let v10 : Ref<Str> = Fable.Core.RustInterop.emitRustExpr v9 v8\n",
      "    let v11 : string = $\"{v7}{v10}{v2}\"\n",
      "    let v12 : string = \"&*$0\"\n",
      "    let v13 : Ref<Str> = Fable.Core.RustInterop.emitRustExpr v11 v12\n",
      "    let v14 : string = \"String::from($0)\"\n",
      "    let v15 : std_string_String = Fable.Core.RustInterop.emitRustExpr v13 v14\n",
      "    let v16 : string = \"&*$0\"\n",
      "    let v17 : string = \"2\"\n",
      "    let v18 : Ref<Str> = Fable.Core.RustInterop.emitRustExpr v17 v16\n",
      "    let v19 : string = $\"{v15}{v18}{v2}\"\n",
      "    let v20 : string = \"&*$0\"\n",
      "    let v21 : Ref<Str> = Fable.Core.RustInterop.emitRustExpr v19 v20\n",
      "    let v22 : string = \"String::from($0)\"\n",
      "    let v23 : std_string_String = Fable.Core.RustInterop.emitRustExpr v21 v22\n",
      "    let v24 : string = \"&*$0\"\n",
      "    let v25 : string = \"3\"\n",
      "    let v26 : Ref<Str> = Fable.Core.RustInterop.emitRustExpr v25 v24\n",
      "    let v27 : string = $\"{v23}{v26}{v2}\"\n",
      "    let v29 : bool = v27 = \"1\\n2\\n3\\n\"\n",
      "    let v31 : bool =\n",
      "        if v29 then\n",
      "            true\n",
      "        else\n",
      "            method2(v29)\n",
      "    let v32 : string = \"assert_eq\"\n",
      "    let v33 : string = \"1\\n2\\n3\\n\"\n",
      "    let v34 : string = $\"{v32} / actual: %A{v27} / expected: %A{v33}\"\n",
      "    System.Console.WriteLine v34\n",
      "    let v35 : bool = v31 = false\n",
      "    if v35 then\n",
      "        failwith<unit> v34\n",
      "method0()\n",
      "\n",
      "\n",
      ".rs:\n",
      "#![allow(dead_code)]\n",
      "#![allow(non_camel_case_types)]\n",
      "#![allow(non_snake_case)]\n",
      "#![allow(non_upper_case_globals)]\n",
      "#![allow(unreachable_code)]\n",
      "#![allow(unused_attributes)]\n",
      "#![allow(unused_imports)]\n",
      "#![allow(unused_macros)]\n",
      "#![allow(unused_parens)]\n",
      "#![allow(unused_variables)]\n",
      "mod module_ccfa04bf {\n",
      "    pub mod Spiral_eval {\n",
      "        use super::*;\n",
      "        use fable_library_rust::Native_::on_startup;\n",
      "        use fable_library_rust::String_::printfn;\n",
      "        use fable_library_rust::String_::sprintf;\n",
      "        use fable_library_rust::String_::string;\n",
      "        pub fn method1() -> string {\n",
      "            string(\"\\n\")\n",
      "        }\n",
      "        pub fn method2(v0: bool) -> bool {\n",
      "            v0\n",
      "        }\n",
      "        pub fn method0() {\n",
      "            let v0: string = Spiral_eval::method1();\n",
      "            let v2: &str = &*v0;\n",
      "            let v5: &str = &*string(\"\");\n",
      "            let v11: string = sprintf!(\"{}{}{}\", String::from(v5), &*string(\"1\"), v2.clone());\n",
      "            let v13: &str = &*v11;\n",
      "            let v19: string = sprintf!(\"{}{}{}\", String::from(v13), &*string(\"2\"), v2.clone());\n",
      "            let v21: &str = &*v19;\n",
      "            let v27: string = sprintf!(\"{}{}{}\", String::from(v21), &*string(\"3\"), v2);\n",
      "            let v29: bool = v27.clone() == string(\"1\\n2\\n3\\n\");\n",
      "            let v31: bool = if v29 { true } else { Spiral_eval::method2(v29) };\n",
      "            let v34: string = sprintf!(\n",
      "                \"{} / actual: {:?} / expected: {:?}\",\n",
      "                string(\"assert_eq\"),\n",
      "                v27,\n",
      "                string(\"1\\n2\\n3\\n\")\n",
      "            );\n",
      "            printfn!(\"{0}\", v34.clone());\n",
      "            if v31 == false {\n",
      "                panic!(\"{}\", v34,);\n",
      "            }\n",
      "        }\n",
      "        on_startup!(Spiral_eval::method0());\n",
      "    }\n",
      "}\n",
      "pub use module_ccfa04bf::*;\n",
      "\n"
     ]
    }
   ],
   "source": [
    "//// test\n",
    "///! rust\n",
    "\n",
    "types ()\n",
    "\n",
    "[\n",
    "    \"1\"\n",
    "    \"2\"\n",
    "    \"3\"\n",
    "]\n",
    "|> fun x =>\n",
    "    inl code = (x : _) |> concat_list_heap_trailing \"\\n\"\n",
    "    code\n",
    "    |> _assert_eq \"1\\n2\\n3\\n\""
   ]
  },
  {
   "cell_type": "markdown",
   "metadata": {},
   "source": [
    "## concat"
   ]
  },
  {
   "cell_type": "code",
   "execution_count": null,
   "metadata": {
    "dotnet_interactive": {
     "language": "spiral"
    },
    "polyglot_notebook": {
     "kernelName": "spiral"
    }
   },
   "outputs": [
    {
     "name": "stdout",
     "output_type": "stream",
     "text": [
      "()\n",
      "\n"
     ]
    }
   ],
   "source": [
    "inl concat (a : string) (b : seq.seq' _) : string =\n",
    "    inl a = join a\n",
    "    b |> $\"String.concat\" a"
   ]
  },
  {
   "cell_type": "markdown",
   "metadata": {},
   "source": [
    "## ellipsis"
   ]
  },
  {
   "cell_type": "code",
   "execution_count": null,
   "metadata": {
    "dotnet_interactive": {
     "language": "spiral"
    },
    "polyglot_notebook": {
     "kernelName": "spiral"
    }
   },
   "outputs": [
    {
     "name": "stdout",
     "output_type": "stream",
     "text": [
      "()\n",
      "\n"
     ]
    }
   ],
   "source": [
    "inl ellipsis (max : i32) (s : string) =\n",
    "    if sm.length s <= max\n",
    "    then s\n",
    "    else s |> slice 0 (max - 1) |> fun x => $'!x + \"...\"'"
   ]
  },
  {
   "cell_type": "code",
   "execution_count": null,
   "metadata": {
    "dotnet_interactive": {
     "language": "spiral"
    },
    "polyglot_notebook": {
     "kernelName": "spiral"
    }
   },
   "outputs": [
    {
     "name": "stdout",
     "output_type": "stream",
     "text": [
      "let rec method1 (v0 : bool) : bool =\n",
      "    v0\n",
      "and method0 () : unit =\n",
      "    let v0 : string = \"12\"\n",
      "    let v1 : string = v0 + \"...\"\n",
      "    let v3 : bool = v1 = \"12...\"\n",
      "    let v5 : bool =\n",
      "        if v3 then\n",
      "            true\n",
      "        else\n",
      "            method1(v3)\n",
      "    let v6 : string = \"assert_eq\"\n",
      "    let v7 : string = \"12...\"\n",
      "    let v8 : string = $\"{v6} / actual: %A{v1} / expected: %A{v7}\"\n",
      "    System.Console.WriteLine v8\n",
      "    let v9 : bool = v5 = false\n",
      "    if v9 then\n",
      "        failwith<unit> v8\n",
      "    let v10 : string = \"1234\"\n",
      "    let v11 : string = v10 + \"...\"\n",
      "    let v13 : bool = v11 = \"1234...\"\n",
      "    let v15 : bool =\n",
      "        if v13 then\n",
      "            true\n",
      "        else\n",
      "            method1(v13)\n",
      "    let v16 : string = \"1234...\"\n",
      "    let v17 : string = $\"{v6} / actual: %A{v11} / expected: %A{v16}\"\n",
      "    System.Console.WriteLine v17\n",
      "    let v18 : bool = v15 = false\n",
      "    if v18 then\n",
      "        failwith<unit> v17\n",
      "method0()\n",
      "\n",
      "assert_eq / actual: \"12...\" / expected: \"12...\"\n",
      "assert_eq / actual: \"1234...\" / expected: \"1234...\"\n"
     ]
    }
   ],
   "source": [
    "//// test\n",
    "\n",
    "\"12345\"\n",
    "|> ellipsis 2\n",
    "|> _assert_eq \"12...\"\n",
    "\n",
    "\"12345\"\n",
    "|> ellipsis 4\n",
    "|> _assert_eq \"1234...\""
   ]
  },
  {
   "cell_type": "markdown",
   "metadata": {},
   "source": [
    "## ellipsis_end"
   ]
  },
  {
   "cell_type": "code",
   "execution_count": null,
   "metadata": {
    "dotnet_interactive": {
     "language": "spiral"
    },
    "polyglot_notebook": {
     "kernelName": "spiral"
    }
   },
   "outputs": [
    {
     "name": "stdout",
     "output_type": "stream",
     "text": [
      "()\n",
      "\n"
     ]
    }
   ],
   "source": [
    "let ellipsis_end (max : i64) (s : string) =\n",
    "    inl len = sm.length s\n",
    "    if len <= max\n",
    "    then s\n",
    "    else\n",
    "        inl half = f64 max / 2\n",
    "        inl start_half = half |> math.ceil |> i64\n",
    "        inl end_half = half |> math.floor |> i64\n",
    "        inl start = s |> slice 0 (start_half - 1)\n",
    "        inl end = s |> slice (len - end_half) (len - 1)\n",
    "        (a ;[start; \"...\"; end] : _ i32 _)\n",
    "        |> seq.of_array\n",
    "        |> concat \"\""
   ]
  },
  {
   "cell_type": "code",
   "execution_count": null,
   "metadata": {
    "dotnet_interactive": {
     "language": "spiral"
    },
    "polyglot_notebook": {
     "kernelName": "spiral"
    }
   },
   "outputs": [
    {
     "name": "stdout",
     "output_type": "stream",
     "text": [
      "let rec method2 () : string =\n",
      "    let v0 : string = \"\"\n",
      "    v0\n",
      "and method1 (v0 : int64, v1 : string) : string =\n",
      "    let v2 : int64 = System.Convert.ToInt64 v1.Length\n",
      "    let v3 : bool = v2 <= v0\n",
      "    if v3 then\n",
      "        v1\n",
      "    else\n",
      "        let v4 : float = float v0\n",
      "        let v5 : float = v4 / 2.0\n",
      "        let v6 : (float -> float) = ceil\n",
      "        let v7 : float = v6 v5\n",
      "        let v8 : int64 = int64 v7\n",
      "        let v9 : (float -> float) = floor\n",
      "        let v10 : float = v9 v5\n",
      "        let v11 : int64 = int64 v10\n",
      "        let v12 : int64 = v8 - 1L\n",
      "        let v13 : string = v1.[int 0L..int v12]\n",
      "        let v14 : int64 = v2 - v11\n",
      "        let v15 : int64 = v2 - 1L\n",
      "        let v16 : string = v1.[int v14..int v15]\n",
      "        let v17 : string = \"...\"\n",
      "        let v18 : (string []) = [|v13; v17; v16|]\n",
      "        let v19 : ((string []) -> string seq) = Seq.ofArray\n",
      "        let v20 : string seq = v19 v18\n",
      "        let v21 : string = method2()\n",
      "        let v22 : (string -> (string seq -> string)) = String.concat\n",
      "        let v23 : (string seq -> string) = v22 v21\n",
      "        v23 v20\n",
      "and method3 (v0 : bool) : bool =\n",
      "    v0\n",
      "and method0 () : unit =\n",
      "    let v0 : int64 = 2L\n",
      "    let v1 : string = \"12345\"\n",
      "    let v2 : string = method1(v0, v1)\n",
      "    let v4 : bool = v2 = \"1...5\"\n",
      "    let v6 : bool =\n",
      "        if v4 then\n",
      "            true\n",
      "        else\n",
      "            method3(v4)\n",
      "    let v7 : string = \"assert_eq\"\n",
      "    let v8 : string = \"1...5\"\n",
      "    let v9 : string = $\"{v7} / actual: %A{v2} / expected: %A{v8}\"\n",
      "    System.Console.WriteLine v9\n",
      "    let v10 : bool = v6 = false\n",
      "    if v10 then\n",
      "        failwith<unit> v9\n",
      "    let v11 : int64 = 3L\n",
      "    let v12 : string = method1(v11, v1)\n",
      "    let v14 : bool = v12 = \"12...5\"\n",
      "    let v16 : bool =\n",
      "        if v14 then\n",
      "            true\n",
      "        else\n",
      "            method3(v14)\n",
      "    let v17 : string = \"12...5\"\n",
      "    let v18 : string = $\"{v7} / actual: %A{v12} / expected: %A{v17}\"\n",
      "    System.Console.WriteLine v18\n",
      "    let v19 : bool = v16 = false\n",
      "    if v19 then\n",
      "        failwith<unit> v18\n",
      "    let v20 : int64 = 4L\n",
      "    let v21 : string = \"1234567\"\n",
      "    let v22 : string = method1(v20, v21)\n",
      "    let v24 : bool = v22 = \"12...67\"\n",
      "    let v26 : bool =\n",
      "        if v24 then\n",
      "            true\n",
      "        else\n",
      "            method3(v24)\n",
      "    let v27 : string = \"12...67\"\n",
      "    let v28 : string = $\"{v7} / actual: %A{v22} / expected: %A{v27}\"\n",
      "    System.Console.WriteLine v28\n",
      "    let v29 : bool = v26 = false\n",
      "    if v29 then\n",
      "        failwith<unit> v28\n",
      "method0()\n",
      "\n",
      "assert_eq / actual: \"1...5\" / expected: \"1...5\"\n",
      "assert_eq / actual: \"12...5\" / expected: \"12...5\"\n",
      "assert_eq / actual: \"12...67\" / expected: \"12...67\"\n"
     ]
    }
   ],
   "source": [
    "//// test\n",
    "\n",
    "\"12345\"\n",
    "|> ellipsis_end 2\n",
    "|> _assert_eq \"1...5\"\n",
    "\n",
    "\"12345\"\n",
    "|> ellipsis_end 3\n",
    "|> _assert_eq \"12...5\"\n",
    "\n",
    "\"1234567\"\n",
    "|> ellipsis_end 4\n",
    "|> _assert_eq \"12...67\""
   ]
  },
  {
   "cell_type": "markdown",
   "metadata": {},
   "source": [
    "## format_ellipsis"
   ]
  },
  {
   "cell_type": "code",
   "execution_count": null,
   "metadata": {
    "dotnet_interactive": {
     "language": "spiral"
    },
    "polyglot_notebook": {
     "kernelName": "spiral"
    }
   },
   "outputs": [
    {
     "name": "stdout",
     "output_type": "stream",
     "text": [
      "()\n",
      "\n"
     ]
    }
   ],
   "source": [
    "inl format_ellipsis s =\n",
    "    s\n",
    "    |> format_debug\n",
    "    |> ellipsis_end 400"
   ]
  },
  {
   "cell_type": "markdown",
   "metadata": {},
   "source": [
    "## split"
   ]
  },
  {
   "cell_type": "code",
   "execution_count": null,
   "metadata": {
    "dotnet_interactive": {
     "language": "spiral"
    },
    "polyglot_notebook": {
     "kernelName": "spiral"
    }
   },
   "outputs": [
    {
     "name": "stdout",
     "output_type": "stream",
     "text": [
      "()\n",
      "\n"
     ]
    }
   ],
   "source": [
    "inl split (separator : string) (str : string) : array_base string =\n",
    "    $\"!str.Split !separator\""
   ]
  },
  {
   "cell_type": "markdown",
   "metadata": {},
   "source": [
    "## split_string"
   ]
  },
  {
   "cell_type": "code",
   "execution_count": null,
   "metadata": {
    "dotnet_interactive": {
     "language": "spiral"
    },
    "polyglot_notebook": {
     "kernelName": "spiral"
    }
   },
   "outputs": [
    {
     "name": "stdout",
     "output_type": "stream",
     "text": [
      "()\n",
      "\n"
     ]
    }
   ],
   "source": [
    "inl split_string (separator : array_base string) (str : string) : array_base string =\n",
    "    run_target function\n",
    "        | Fsharp (Native) => fun () => $\"!str.Split (!separator, System.StringSplitOptions.None)\"\n",
    "        | _ => fun () => str |> split ((a separator : _ i32 _) |> seq.of_array |> concat \"\")"
   ]
  },
  {
   "cell_type": "markdown",
   "metadata": {},
   "source": [
    "## join'"
   ]
  },
  {
   "cell_type": "code",
   "execution_count": null,
   "metadata": {
    "dotnet_interactive": {
     "language": "spiral"
    },
    "polyglot_notebook": {
     "kernelName": "spiral"
    }
   },
   "outputs": [
    {
     "name": "stdout",
     "output_type": "stream",
     "text": [
      "()\n",
      "\n"
     ]
    }
   ],
   "source": [
    "inl join' (concat : string) (s : a i32 string) : string =\n",
    "    $\"System.String.Join (!concat, !s)\""
   ]
  },
  {
   "cell_type": "markdown",
   "metadata": {},
   "source": [
    "## to_char_array"
   ]
  },
  {
   "cell_type": "code",
   "execution_count": null,
   "metadata": {
    "dotnet_interactive": {
     "language": "spiral"
    },
    "polyglot_notebook": {
     "kernelName": "spiral"
    }
   },
   "outputs": [
    {
     "name": "stdout",
     "output_type": "stream",
     "text": [
      "()\n",
      "\n"
     ]
    }
   ],
   "source": [
    "inl to_char_array (str : string) : a i32 char =\n",
    "    am.init (str |> sm.length) (fun i => sm.index str i)"
   ]
  },
  {
   "cell_type": "code",
   "execution_count": null,
   "metadata": {
    "dotnet_interactive": {
     "language": "spiral"
    },
    "polyglot_notebook": {
     "kernelName": "spiral"
    }
   },
   "outputs": [
    {
     "name": "stdout",
     "output_type": "stream",
     "text": [
      "type Mut0 = {mutable l0 : int32}\n",
      "let rec method1 (v0 : Mut0) : bool =\n",
      "    let v1 : int32 = v0.l0\n",
      "    let v2 : bool = v1 < 3\n",
      "    v2\n",
      "and method2 (v0 : (char []), v1 : (char []), v2 : int32) : bool =\n",
      "    let v3 : int32 = v0.Length\n",
      "    let v4 : bool = v2 < v3\n",
      "    if v4 then\n",
      "        let v5 : char = v0.[int v2]\n",
      "        let v6 : char = v1.[int v2]\n",
      "        let v7 : bool = v5 = v6\n",
      "        if v7 then\n",
      "            let v8 : int32 = v2 + 1\n",
      "            method2(v0, v1, v8)\n",
      "        else\n",
      "            false\n",
      "    else\n",
      "        true\n",
      "and method3 (v0 : bool) : bool =\n",
      "    v0\n",
      "and method0 () : unit =\n",
      "    let v0 : (char []) = Array.zeroCreate<char> (3)\n",
      "    let v1 : Mut0 = {l0 = 0} : Mut0\n",
      "    while method1(v1) do\n",
      "        let v3 : int32 = v1.l0\n",
      "        let v4 : char = \"abc\".[int v3]\n",
      "        v0.[int v3] <- v4\n",
      "        let v5 : int32 = v3 + 1\n",
      "        v1.l0 <- v5\n",
      "        ()\n",
      "    let v6 : (char []) = [|'a'; 'b'; 'c'|]\n",
      "    let v7 : int32 = v0.Length\n",
      "    let v8 : int32 = v6.Length\n",
      "    let v9 : bool = v7 = v8\n",
      "    let v10 : bool = v9 <> true\n",
      "    let v13 : bool =\n",
      "        if v10 then\n",
      "            false\n",
      "        else\n",
      "            let v11 : int32 = 0\n",
      "            method2(v0, v6, v11)\n",
      "    let v15 : bool =\n",
      "        if v13 then\n",
      "            true\n",
      "        else\n",
      "            method3(v13)\n",
      "    let v16 : string = \"assert_eq\"\n",
      "    let v17 : string = $\"{v16} / actual: %A{v0} / expected: %A{v6}\"\n",
      "    System.Console.WriteLine v17\n",
      "    let v18 : bool = v15 = false\n",
      "    if v18 then\n",
      "        failwith<unit> v17\n",
      "method0()\n",
      "\n",
      "assert_eq / actual: [|'a'; 'b'; 'c'|] / expected: [|'a'; 'b'; 'c'|]\n"
     ]
    }
   ],
   "source": [
    "//// test\n",
    "\n",
    "\"abc\"\n",
    "|> to_char_array\n",
    "|> _assert_eq (a ;['a'; 'b'; 'c'])"
   ]
  },
  {
   "cell_type": "markdown",
   "metadata": {},
   "source": [
    "## to_char_list"
   ]
  },
  {
   "cell_type": "code",
   "execution_count": null,
   "metadata": {
    "dotnet_interactive": {
     "language": "spiral"
    },
    "polyglot_notebook": {
     "kernelName": "spiral"
    }
   },
   "outputs": [
    {
     "name": "stdout",
     "output_type": "stream",
     "text": [
      "()\n",
      "\n"
     ]
    }
   ],
   "source": [
    "inl to_char_list (str : string) : list char =\n",
    "    listm.init (str |> sm.length) (fun (i : i64) => sm.index str i)"
   ]
  },
  {
   "cell_type": "code",
   "execution_count": null,
   "metadata": {
    "dotnet_interactive": {
     "language": "spiral"
    },
    "polyglot_notebook": {
     "kernelName": "spiral"
    }
   },
   "outputs": [
    {
     "name": "stdout",
     "output_type": "stream",
     "text": [
      "type UH0 =\n",
      "    | UH0_0\n",
      "    | UH0_1 of char * UH0\n",
      "let rec method0 () : unit =\n",
      "    let v18 : string = \"assert_eq\"\n",
      "    let v19 : UH0 = UH0_0\n",
      "    let v20 : UH0 = UH0_1('c', v19)\n",
      "    let v21 : UH0 = UH0_1('b', v20)\n",
      "    let v22 : UH0 = UH0_1('a', v21)\n",
      "    let v23 : UH0 = UH0_0\n",
      "    let v24 : UH0 = UH0_1('c', v23)\n",
      "    let v25 : UH0 = UH0_1('b', v24)\n",
      "    let v26 : UH0 = UH0_1('a', v25)\n",
      "    let v27 : string = $\"{v18} / actual: %A{v22} / expected: %A{v26}\"\n",
      "    System.Console.WriteLine v27\n",
      "    ()\n",
      "method0()\n",
      "\n",
      "assert_eq / actual: UH0_1 ('a', UH0_1 ('b', UH0_1 ('c', UH0_0))) / expected: UH0_1 ('a', UH0_1 ('b', UH0_1 ('c', UH0_0)))\n"
     ]
    }
   ],
   "source": [
    "//// test\n",
    "\n",
    "\"abc\"\n",
    "|> to_char_list\n",
    "|> _assert_eq ['a'; 'b'; 'c']"
   ]
  },
  {
   "cell_type": "code",
   "execution_count": null,
   "metadata": {
    "dotnet_interactive": {
     "language": "spiral"
    },
    "polyglot_notebook": {
     "kernelName": "spiral"
    }
   },
   "outputs": [
    {
     "name": "stdout",
     "output_type": "stream",
     "text": [
      "()\n",
      "\n"
     ]
    }
   ],
   "source": [
    "nominal encoding = $'System.Text.Encoding'\n",
    "\n",
    "inl encoding_utf8 () : encoding =\n",
    "    $'System.Text.Encoding.UTF8'"
   ]
  },
  {
   "cell_type": "markdown",
   "metadata": {},
   "source": [
    "## utf8_get_bytes"
   ]
  },
  {
   "cell_type": "code",
   "execution_count": null,
   "metadata": {
    "dotnet_interactive": {
     "language": "spiral"
    },
    "polyglot_notebook": {
     "kernelName": "spiral"
    }
   },
   "outputs": [
    {
     "name": "stdout",
     "output_type": "stream",
     "text": [
      "()\n",
      "\n"
     ]
    }
   ],
   "source": [
    "inl utf8_get_bytes (s : string) : a i32 u8 =\n",
    "    s |> $'`encoding.UTF8.GetBytes'"
   ]
  },
  {
   "cell_type": "markdown",
   "metadata": {},
   "source": [
    "## byte_to_string"
   ]
  },
  {
   "cell_type": "code",
   "execution_count": null,
   "metadata": {
    "dotnet_interactive": {
     "language": "spiral"
    },
    "polyglot_notebook": {
     "kernelName": "spiral"
    }
   },
   "outputs": [
    {
     "name": "stdout",
     "output_type": "stream",
     "text": [
      "()\n",
      "\n"
     ]
    }
   ],
   "source": [
    "inl byte_to_string (format : string) (x : u8) : string =\n",
    "    $'!x.ToString' format"
   ]
  },
  {
   "cell_type": "markdown",
   "metadata": {},
   "source": [
    "## windows"
   ]
  },
  {
   "cell_type": "code",
   "execution_count": null,
   "metadata": {
    "dotnet_interactive": {
     "language": "spiral"
    },
    "polyglot_notebook": {
     "kernelName": "spiral"
    }
   },
   "outputs": [
    {
     "name": "stdout",
     "output_type": "stream",
     "text": [
      "()\n",
      "\n"
     ]
    }
   ],
   "source": [
    "nominal windows t = $'std_slice_Windows<`t>'\n",
    "\n",
    "inl windows (len : unativeint) (source : am'.vec u8) : windows u8 =\n",
    "    inl source = source |> rust.new_box |> rust.box_leak\n",
    "    // inl source' = source |> rust.clone\n",
    "    inl result = !\\\\(len, $'\"<[_]>::windows(!source, $0)\"')\n",
    "    // source |> rust.drop\n",
    "    result"
   ]
  },
  {
   "cell_type": "markdown",
   "metadata": {},
   "source": [
    "## any"
   ]
  },
  {
   "cell_type": "code",
   "execution_count": null,
   "metadata": {
    "dotnet_interactive": {
     "language": "spiral"
    },
    "polyglot_notebook": {
     "kernelName": "spiral"
    }
   },
   "outputs": [
    {
     "name": "stdout",
     "output_type": "stream",
     "text": [
      "()\n",
      "\n"
     ]
    }
   ],
   "source": [
    "inl any forall t. (fn : string -> bool) (source : windows t) : bool =\n",
    "    (!\\($'\"true; let mut !source = !source\"') : bool) |> ignore\n",
    "    inl fn' x =\n",
    "        x\n",
    "        |> str_from_utf8\n",
    "        |> resultm.unwrap_or' #\"\"\n",
    "        |> ref_to_std_string\n",
    "        |> from_std_string\n",
    "        |> fn\n",
    "    !\\\\(fn', $'\"!source.any(move |x| $0(x))\"')"
   ]
  },
  {
   "cell_type": "markdown",
   "metadata": {},
   "source": [
    "## slice_contains"
   ]
  },
  {
   "cell_type": "code",
   "execution_count": null,
   "metadata": {
    "dotnet_interactive": {
     "language": "spiral"
    },
    "polyglot_notebook": {
     "kernelName": "spiral"
    }
   },
   "outputs": [
    {
     "name": "stdout",
     "output_type": "stream",
     "text": [
      "()\n",
      "\n"
     ]
    }
   ],
   "source": [
    "inl slice_contains (text : string) (source : am'.vec u8) : bool =\n",
    "    fun () =>\n",
    "        inl source = join source\n",
    "        source\n",
    "        |> windows (text |> length |> (fun x => x : i32) |> unativeint)\n",
    "        |> any ((=.) text)\n",
    "    |> fun x => join x ()"
   ]
  },
  {
   "cell_type": "markdown",
   "metadata": {},
   "source": [
    "## as_bytes"
   ]
  },
  {
   "cell_type": "code",
   "execution_count": null,
   "metadata": {
    "dotnet_interactive": {
     "language": "spiral"
    },
    "polyglot_notebook": {
     "kernelName": "spiral"
    }
   },
   "outputs": [
    {
     "name": "stdout",
     "output_type": "stream",
     "text": [
      "()\n",
      "\n"
     ]
    }
   ],
   "source": [
    "inl as_bytes (text : string) : rust.ref' (am'.slice u8) =\n",
    "    inl text = join text\n",
    "    !\\($'\"!text.as_bytes()\"')"
   ]
  },
  {
   "cell_type": "markdown",
   "metadata": {},
   "source": [
    "## main"
   ]
  },
  {
   "cell_type": "code",
   "execution_count": null,
   "metadata": {
    "dotnet_interactive": {
     "language": "spiral"
    },
    "polyglot_notebook": {
     "kernelName": "spiral"
    }
   },
   "outputs": [
    {
     "name": "stdout",
     "output_type": "stream",
     "text": [
      "#if FABLE_COMPILER\n",
      "[<Fable.Core.Erase; Fable.Core.Emit(\"_\")>]\n",
      "#endif\n",
      "type Any = class end\n",
      "#if FABLE_COMPILER\n",
      "[<Fable.Core.Erase; Fable.Core.Emit(\"Func0<$0>\")>]\n",
      "#endif\n",
      "type Func0<'T> = class end\n",
      "#if FABLE_COMPILER\n",
      "[<Fable.Core.Erase; Fable.Core.Emit(\"Func1<$0, $1>\")>]\n",
      "#endif\n",
      "type Func0<'T, 'U> = class end\n",
      "#if FABLE_COMPILER\n",
      "[<Fable.Core.Erase; Fable.Core.Emit(\"Box<$0>\")>]\n",
      "#endif\n",
      "type Box<'T> = class end\n",
      "#if FABLE_COMPILER\n",
      "[<Fable.Core.Erase; Fable.Core.Emit(\"dyn $0\")>]\n",
      "#endif\n",
      "type Dyn<'T> = class end\n",
      "#if FABLE_COMPILER\n",
      "[<Fable.Core.Erase; Fable.Core.Emit(\"$0 + Send\")>]\n",
      "#endif\n",
      "type Send<'T> = class end\n",
      "#if FABLE_COMPILER\n",
      "[<Fable.Core.Erase; Fable.Core.Emit(\"Fn() -> $0\")>]\n",
      "#endif\n",
      "type Fn<'T> = class end\n",
      "#if FABLE_COMPILER\n",
      "[<Fable.Core.Erase; Fable.Core.Emit(\"Fn()\")>]\n",
      "#endif\n",
      "type FnUnit = class end\n",
      "#if FABLE_COMPILER\n",
      "[<Fable.Core.Erase; Fable.Core.Emit(\"FnOnce() -> $0\")>]\n",
      "#endif\n",
      "type FnOnce<'T> = class end\n",
      "#if FABLE_COMPILER\n",
      "[<Fable.Core.Erase; Fable.Core.Emit(\"Fn($0)\")>]\n",
      "#endif\n",
      "type ActionFn<'T> = class end\n",
      "#if FABLE_COMPILER\n",
      "[<Fable.Core.Erase; Fable.Core.Emit(\"Fn($0, $1)\")>]\n",
      "#endif\n",
      "type ActionFn2<'T, 'U> = class end\n",
      "#if FABLE_COMPILER\n",
      "[<Fable.Core.Erase; Fable.Core.Emit(\"impl $0\")>]\n",
      "#endif\n",
      "type Impl<'T> = class end\n",
      "#if FABLE_COMPILER\n",
      "[<Fable.Core.Erase; Fable.Core.Emit(\"mut $0\")>]\n",
      "#endif\n",
      "type Mut<'T> = class end\n",
      "#if FABLE_COMPILER\n",
      "[<Fable.Core.Erase; Fable.Core.Emit(\"&$0\")>]\n",
      "#endif\n",
      "type Ref<'T> = class end\n",
      "#if FABLE_COMPILER\n",
      "[<Fable.Core.Erase; Fable.Core.Emit(\"&'static $0\")>]\n",
      "#endif\n",
      "type StaticRef<'T> = class end\n",
      "#if FABLE_COMPILER\n",
      "[<Fable.Core.Erase; Fable.Core.Emit(\"MutCell<$0>\")>]\n",
      "#endif\n",
      "type MutCell<'T> = class end\n",
      "#if FABLE_COMPILER\n",
      "[<Fable.Core.Erase; Fable.Core.Emit(\"std::any::Any\")>]\n",
      "#endif\n",
      "type std_any_Any = class end\n",
      "#if FABLE_COMPILER\n",
      "[<Fable.Core.Erase; Fable.Core.Emit(\"std::borrow::Cow<$0>\")>]\n",
      "#endif\n",
      "type std_borrow_Cow<'T> = class end\n",
      "#if FABLE_COMPILER\n",
      "[<Fable.Core.Erase; Fable.Core.Emit(\"std::cell::RefCell<$0>\")>]\n",
      "#endif\n",
      "type std_cell_RefCell<'T> = class end\n",
      "#if FABLE_COMPILER\n",
      "[<Fable.Core.Erase; Fable.Core.Emit(\"std::pin::Pin<$0>\")>]\n",
      "#endif\n",
      "type std_pin_Pin<'T> = class end\n",
      "#if FABLE_COMPILER\n",
      "[<Fable.Core.Erase; Fable.Core.Emit(\"std::rc::Rc<$0>\")>]\n",
      "#endif\n",
      "type std_rc_Rc<'T> = class end\n",
      "#if FABLE_COMPILER\n",
      "[<Fable.Core.Erase; Fable.Core.Emit(\"std::rc::Weak<$0>\")>]\n",
      "#endif\n",
      "type std_rc_Weak<'T> = class end\n",
      "#if FABLE_COMPILER\n",
      "[<Fable.Core.Erase; Fable.Core.Emit(\"std::collections::HashMap<$0, $1>\")>]\n",
      "#endif\n",
      "type std_collections_HashMap<'K, 'V> = class end\n",
      "#if FABLE_COMPILER\n",
      "[<Fable.Core.Erase; Fable.Core.Emit(\"std::collections::BTreeMap<$0, $1>\")>]\n",
      "#endif\n",
      "type std_collections_BTreeMap<'K, 'V> = class end\n",
      "#if FABLE_COMPILER\n",
      "[<Fable.Core.Erase; Fable.Core.Emit(\"str\")>]\n",
      "#endif\n",
      "type Str = class end\n",
      "#if FABLE_COMPILER\n",
      "[<Fable.Core.Erase; Fable.Core.Emit(\"base64::DecodeError\")>]\n",
      "#endif\n",
      "type base64_DecodeError = class end\n",
      "#if FABLE_COMPILER\n",
      "[<Fable.Core.Erase; Fable.Core.Emit(\"borsh::io::Error\")>]\n",
      "#endif\n",
      "type borsh_io_Error = class end\n",
      "#if FABLE_COMPILER\n",
      "[<Fable.Core.Erase; Fable.Core.Emit(\"encoding_rs::Encoding\")>]\n",
      "#endif\n",
      "type encoding_rs_Encoding = class end\n",
      "#if FABLE_COMPILER\n",
      "[<Fable.Core.Erase; Fable.Core.Emit(\"js_sys::JsString\")>]\n",
      "#endif\n",
      "type js_sys_JsString = class end\n",
      "#if FABLE_COMPILER\n",
      "[<Fable.Core.Erase; Fable.Core.Emit(\"serde_json::Error\")>]\n",
      "#endif\n",
      "type serde_json_Error = class end\n",
      "#if FABLE_COMPILER\n",
      "[<Fable.Core.Erase; Fable.Core.Emit(\"serde_json::Value\")>]\n",
      "#endif\n",
      "type serde_json_Value = class end\n",
      "#if FABLE_COMPILER\n",
      "[<Fable.Core.Erase; Fable.Core.Emit(\"serde_wasm_bindgen::Error\")>]\n",
      "#endif\n",
      "type serde_wasm_bindgen_Error = class end\n",
      "#if FABLE_COMPILER\n",
      "[<Fable.Core.Erase; Fable.Core.Emit(\"std::ffi::OsStr\")>]\n",
      "#endif\n",
      "type std_ffi_OsStr = class end\n",
      "#if FABLE_COMPILER\n",
      "[<Fable.Core.Erase; Fable.Core.Emit(\"std::ffi::OsString\")>]\n",
      "#endif\n",
      "type std_ffi_OsString = class end\n",
      "#if FABLE_COMPILER\n",
      "[<Fable.Core.Erase; Fable.Core.Emit(\"std::fmt::Display<$0>\")>]\n",
      "#endif\n",
      "type std_fmt_Display<'T> = class end\n",
      "#if FABLE_COMPILER\n",
      "[<Fable.Core.Erase; Fable.Core.Emit(\"std::str::Utf8Error\")>]\n",
      "#endif\n",
      "type std_str_Utf8Error = class end\n",
      "#if FABLE_COMPILER\n",
      "[<Fable.Core.Erase; Fable.Core.Emit(\"std::string::FromUtf8Error\")>]\n",
      "#endif\n",
      "type std_string_FromUtf8Error = class end\n",
      "#if FABLE_COMPILER\n",
      "[<Fable.Core.Erase; Fable.Core.Emit(\"std::string::String\")>]\n",
      "#endif\n",
      "type std_string_String = class end\n",
      "#if FABLE_COMPILER\n",
      "[<Fable.Core.Erase; Fable.Core.Emit(\"std::slice::Windows<$0>\")>]\n",
      "#endif\n",
      "type std_slice_Windows<'T> = class end\n",
      "#if FABLE_COMPILER\n",
      "[<Fable.Core.Erase; Fable.Core.Emit(\"regex::Regex\")>]\n",
      "#endif\n",
      "type regex_Regex = class end\n",
      "#if FABLE_COMPILER\n",
      "[<Fable.Core.Erase; Fable.Core.Emit(\"regex::Captures\")>]\n",
      "#endif\n",
      "type regex_Captures = class end\n",
      "#if FABLE_COMPILER\n",
      "[<Fable.Core.Erase; Fable.Core.Emit(\"regex::CaptureMatches\")>]\n",
      "#endif\n",
      "type regex_CaptureMatches = class end\n",
      "#if FABLE_COMPILER\n",
      "[<Fable.Core.Erase; Fable.Core.Emit(\"regex::Error\")>]\n",
      "#endif\n",
      "type regex_Error = class end\n",
      "type Mut0 = {mutable l0 : int32; mutable l1 : string}\n",
      "and Mut1 = {mutable l0 : int32}\n",
      "let rec closure1 (v0 : string) (v1 : string) : bool =\n",
      "    let v2 : bool = v1.Contains v0\n",
      "    v2\n",
      "and closure0 () (v0 : string) : (string -> bool) =\n",
      "    closure1(v0)\n",
      "and closure3 (v0 : string) (v1 : string) : bool =\n",
      "    let v2 : bool = v1.EndsWith v0\n",
      "    v2\n",
      "and closure2 () (v0 : string) : (string -> bool) =\n",
      "    closure3(v0)\n",
      "and closure6 (v0 : int32, v1 : char) (v2 : string) : string =\n",
      "    let v3 : string = v2.PadLeft (v0, v1)\n",
      "    v3\n",
      "and closure5 (v0 : int32) (v1 : char) : (string -> string) =\n",
      "    closure6(v0, v1)\n",
      "and closure4 () (v0 : int32) : (char -> (string -> string)) =\n",
      "    closure5(v0)\n",
      "and closure9 (v0 : int32, v1 : char) (v2 : string) : string =\n",
      "    let v3 : string = v2.PadRight (v0, v1)\n",
      "    v3\n",
      "and closure8 (v0 : int32) (v1 : char) : (string -> string) =\n",
      "    closure9(v0, v1)\n",
      "and closure7 () (v0 : int32) : (char -> (string -> string)) =\n",
      "    closure8(v0)\n",
      "and closure12 (v0 : string, v1 : string) (v2 : string) : string =\n",
      "    let v3 : string = v2.Replace (v0, v1)\n",
      "    v3\n",
      "and closure11 (v0 : string) (v1 : string) : (string -> string) =\n",
      "    closure12(v0, v1)\n",
      "and closure10 () (v0 : string) : (string -> (string -> string)) =\n",
      "    closure11(v0)\n",
      "and method0 (v0 : string) : string =\n",
      "    v0\n",
      "and method1 (v0 : string) : string =\n",
      "    v0\n",
      "and method2 (v0 : string) : string =\n",
      "    v0\n",
      "and method3 (v0 : string) : string =\n",
      "    v0\n",
      "and closure15 (v0 : string, v1 : string) (v2 : string) : string =\n",
      "    let v3 : bool = true\n",
      "    let mutable _v3 : string option = None \n",
      "    \n",
      "#if FABLE_COMPILER || WASM || CONTRACT\n",
      "    \n",
      "#if FABLE_COMPILER_RUST && !WASM && !CONTRACT\n",
      "    let v4 : string = method0(v2)\n",
      "    let v5 : string = method1(v1)\n",
      "    let v6 : bool = true\n",
      "    let mutable _v6 : Result<regex_Regex, regex_Error> option = None \n",
      "    \n",
      "#if FABLE_COMPILER || WASM || CONTRACT\n",
      "    \n",
      "#if FABLE_COMPILER_RUST && !WASM && !CONTRACT\n",
      "    let v7 : string = method2(v0)\n",
      "    let v8 : string = $\"regex::Regex::new(&$0)\"\n",
      "    let v9 : Result<regex_Regex, regex_Error> = Fable.Core.RustInterop.emitRustExpr v7 v8\n",
      "    v9 \n",
      "    #endif\n",
      "#if FABLE_COMPILER_RUST && WASM\n",
      "    let v10 : Result<regex_Regex, regex_Error> = null |> unbox<Result<regex_Regex, regex_Error>>\n",
      "    v10 \n",
      "    #endif\n",
      "#if FABLE_COMPILER_RUST && CONTRACT\n",
      "    let v11 : Result<regex_Regex, regex_Error> = null |> unbox<Result<regex_Regex, regex_Error>>\n",
      "    v11 \n",
      "    #endif\n",
      "#if FABLE_COMPILER_TYPESCRIPT\n",
      "    let v12 : Result<regex_Regex, regex_Error> = null |> unbox<Result<regex_Regex, regex_Error>>\n",
      "    v12 \n",
      "    #endif\n",
      "#if FABLE_COMPILER_PYTHON\n",
      "    let v13 : Result<regex_Regex, regex_Error> = null |> unbox<Result<regex_Regex, regex_Error>>\n",
      "    v13 \n",
      "    #endif\n",
      "#else\n",
      "    let v14 : Result<regex_Regex, regex_Error> = null |> unbox<Result<regex_Regex, regex_Error>>\n",
      "    v14 \n",
      "    #endif\n",
      "    |> fun x -> _v6 <- Some x\n",
      "    let v15 : Result<regex_Regex, regex_Error> = _v6.Value\n",
      "    let v16 : string = \"$0.unwrap()\"\n",
      "    let v17 : regex_Regex = Fable.Core.RustInterop.emitRustExpr v15 v16\n",
      "    let v18 : string = $\"$0.replace_all(&$1, &*$2)\"\n",
      "    let v19 : std_borrow_Cow<Str> = Fable.Core.RustInterop.emitRustExpr struct (v17, v4, v5) v18\n",
      "    let v20 : string = \"String::from($0)\"\n",
      "    let v21 : std_string_String = Fable.Core.RustInterop.emitRustExpr v19 v20\n",
      "    let v22 : string = \"fable_library_rust::String_::fromString($0)\"\n",
      "    let v23 : string = Fable.Core.RustInterop.emitRustExpr v21 v22\n",
      "    v23 \n",
      "    #endif\n",
      "#if FABLE_COMPILER_RUST && WASM\n",
      "    let v24 : string = null |> unbox<string>\n",
      "    v24 \n",
      "    #endif\n",
      "#if FABLE_COMPILER_RUST && CONTRACT\n",
      "    let v25 : string = null |> unbox<string>\n",
      "    v25 \n",
      "    #endif\n",
      "#if FABLE_COMPILER_TYPESCRIPT\n",
      "    let v26 : string = null |> unbox<string>\n",
      "    v26 \n",
      "    #endif\n",
      "#if FABLE_COMPILER_PYTHON\n",
      "    let v27 : string = null |> unbox<string>\n",
      "    v27 \n",
      "    #endif\n",
      "#else\n",
      "    let v28 : string = method3(v1)\n",
      "    let v29 : string = System.Text.RegularExpressions.Regex.Replace (v2, v0, v28)\n",
      "    v29 \n",
      "    #endif\n",
      "    |> fun x -> _v3 <- Some x\n",
      "    let v30 : string = _v3.Value\n",
      "    v30\n",
      "and closure14 (v0 : string) (v1 : string) : (string -> string) =\n",
      "    closure15(v0, v1)\n",
      "and closure13 () (v0 : string) : (string -> (string -> string)) =\n",
      "    closure14(v0)\n",
      "and closure18 (v0 : int32, v1 : int32) (v2 : string) : string =\n",
      "    let v3 : string = v2.[int v0..int v1]\n",
      "    v3\n",
      "and closure17 (v0 : int32) (v1 : int32) : (string -> string) =\n",
      "    closure18(v0, v1)\n",
      "and closure16 () (v0 : int32) : (int32 -> (string -> string)) =\n",
      "    closure17(v0)\n",
      "and closure20 (v0 : string) (v1 : string) : (string []) =\n",
      "    let v2 : (string []) = v1.Split v0\n",
      "    v2\n",
      "and closure19 () (v0 : string) : (string -> (string [])) =\n",
      "    closure20(v0)\n",
      "and method4 () : string =\n",
      "    let v0 : string = \"\"\n",
      "    v0\n",
      "and closure22 (v0 : (string [])) (v1 : string) : (string []) =\n",
      "    let v2 : bool = true\n",
      "    let mutable _v2 : (string []) option = None \n",
      "    \n",
      "#if FABLE_COMPILER || WASM || CONTRACT\n",
      "    \n",
      "#if FABLE_COMPILER_RUST && !WASM && !CONTRACT\n",
      "    let v3 : ((string []) -> string seq) = Seq.ofArray\n",
      "    let v4 : string seq = v3 v0\n",
      "    let v5 : string = method4()\n",
      "    let v6 : (string -> (string seq -> string)) = String.concat\n",
      "    let v7 : (string seq -> string) = v6 v5\n",
      "    let v8 : string = v7 v4\n",
      "    let v9 : (string []) = v1.Split v8\n",
      "    v9 \n",
      "    #endif\n",
      "#if FABLE_COMPILER_RUST && WASM\n",
      "    let v10 : ((string []) -> string seq) = Seq.ofArray\n",
      "    let v11 : string seq = v10 v0\n",
      "    let v12 : string = method4()\n",
      "    let v13 : (string -> (string seq -> string)) = String.concat\n",
      "    let v14 : (string seq -> string) = v13 v12\n",
      "    let v15 : string = v14 v11\n",
      "    let v16 : (string []) = v1.Split v15\n",
      "    v16 \n",
      "    #endif\n",
      "#if FABLE_COMPILER_RUST && CONTRACT\n",
      "    let v17 : ((string []) -> string seq) = Seq.ofArray\n",
      "    let v18 : string seq = v17 v0\n",
      "    let v19 : string = method4()\n",
      "    let v20 : (string -> (string seq -> string)) = String.concat\n",
      "    let v21 : (string seq -> string) = v20 v19\n",
      "    let v22 : string = v21 v18\n",
      "    let v23 : (string []) = v1.Split v22\n",
      "    v23 \n",
      "    #endif\n",
      "#if FABLE_COMPILER_TYPESCRIPT\n",
      "    let v24 : ((string []) -> string seq) = Seq.ofArray\n",
      "    let v25 : string seq = v24 v0\n",
      "    let v26 : string = method4()\n",
      "    let v27 : (string -> (string seq -> string)) = String.concat\n",
      "    let v28 : (string seq -> string) = v27 v26\n",
      "    let v29 : string = v28 v25\n",
      "    let v30 : (string []) = v1.Split v29\n",
      "    v30 \n",
      "    #endif\n",
      "#if FABLE_COMPILER_PYTHON\n",
      "    let v31 : ((string []) -> string seq) = Seq.ofArray\n",
      "    let v32 : string seq = v31 v0\n",
      "    let v33 : string = method4()\n",
      "    let v34 : (string -> (string seq -> string)) = String.concat\n",
      "    let v35 : (string seq -> string) = v34 v33\n",
      "    let v36 : string = v35 v32\n",
      "    let v37 : (string []) = v1.Split v36\n",
      "    v37 \n",
      "    #endif\n",
      "#else\n",
      "    let v38 : (string []) = v1.Split (v0, System.StringSplitOptions.None)\n",
      "    v38 \n",
      "    #endif\n",
      "    |> fun x -> _v2 <- Some x\n",
      "    let v39 : (string []) = _v2.Value\n",
      "    v39\n",
      "and closure21 () (v0 : (string [])) : (string -> (string [])) =\n",
      "    closure22(v0)\n",
      "and closure24 (v0 : string) (v1 : string) : bool =\n",
      "    let v2 : bool = v1.StartsWith v0\n",
      "    v2\n",
      "and closure23 () (v0 : string) : (string -> bool) =\n",
      "    closure24(v0)\n",
      "and closure27 (v0 : int32, v1 : int32) (v2 : string) : string =\n",
      "    let v3 : string = v2.Substring (v0, v1)\n",
      "    v3\n",
      "and closure26 (v0 : int32) (v1 : int32) : (string -> string) =\n",
      "    closure27(v0, v1)\n",
      "and closure25 () (v0 : int32) : (int32 -> (string -> string)) =\n",
      "    closure26(v0)\n",
      "and closure28 () (v0 : string) : string =\n",
      "    let v1 : string = v0.ToLower ()\n",
      "    v1\n",
      "and closure29 () (v0 : string) : string =\n",
      "    let v1 : string = v0.ToUpper ()\n",
      "    v1\n",
      "and closure30 () (v0 : string) : string =\n",
      "    let v1 : string = v0.Trim ()\n",
      "    v1\n",
      "and closure32 (v0 : (char [])) (v1 : string) : string =\n",
      "    let v2 : string = v1.TrimEnd v0\n",
      "    v2\n",
      "and closure31 () (v0 : (char [])) : (string -> string) =\n",
      "    closure32(v0)\n",
      "and closure34 (v0 : (char [])) (v1 : string) : string =\n",
      "    let v2 : string = v1.TrimStart v0\n",
      "    v2\n",
      "and closure33 () (v0 : (char [])) : (string -> string) =\n",
      "    closure34(v0)\n",
      "and closure36 (v0 : int32) (v1 : string) : string =\n",
      "    let v2 : int32 = v1.Length\n",
      "    let v3 : bool = v2 <= v0\n",
      "    if v3 then\n",
      "        v1\n",
      "    else\n",
      "        let v4 : int32 = v0 - 1\n",
      "        let v5 : string = v1.[int 0..int v4]\n",
      "        let v6 : string = v5 + \"...\"\n",
      "        v6\n",
      "and closure35 () (v0 : int32) : (string -> string) =\n",
      "    closure36(v0)\n",
      "and method5 (v0 : int64, v1 : string) : string =\n",
      "    let v2 : int64 = System.Convert.ToInt64 v1.Length\n",
      "    let v3 : bool = v2 <= v0\n",
      "    if v3 then\n",
      "        v1\n",
      "    else\n",
      "        let v4 : float = float v0\n",
      "        let v5 : float = v4 / 2.0\n",
      "        let v6 : (float -> float) = ceil\n",
      "        let v7 : float = v6 v5\n",
      "        let v8 : int64 = int64 v7\n",
      "        let v9 : (float -> float) = floor\n",
      "        let v10 : float = v9 v5\n",
      "        let v11 : int64 = int64 v10\n",
      "        let v12 : int64 = v8 - 1L\n",
      "        let v13 : string = v1.[int 0L..int v12]\n",
      "        let v14 : int64 = v2 - v11\n",
      "        let v15 : int64 = v2 - 1L\n",
      "        let v16 : string = v1.[int v14..int v15]\n",
      "        let v17 : string = \"...\"\n",
      "        let v18 : (string []) = [|v13; v17; v16|]\n",
      "        let v19 : ((string []) -> string seq) = Seq.ofArray\n",
      "        let v20 : string seq = v19 v18\n",
      "        let v21 : string = method4()\n",
      "        let v22 : (string -> (string seq -> string)) = String.concat\n",
      "        let v23 : (string seq -> string) = v22 v21\n",
      "        v23 v20\n",
      "and closure38 (v0 : int64) (v1 : string) : string =\n",
      "    method5(v0, v1)\n",
      "and closure37 () (v0 : int64) : (string -> string) =\n",
      "    closure38(v0)\n",
      "and closure39 () (v0 : exn) : string =\n",
      "    let v1 : bool = true\n",
      "    let mutable _v1 : string option = None \n",
      "    \n",
      "#if FABLE_COMPILER || WASM || CONTRACT\n",
      "    \n",
      "#if FABLE_COMPILER_RUST && !WASM && !CONTRACT\n",
      "    let v2 : string = $\"%A{v0}\"\n",
      "    v2 \n",
      "    #endif\n",
      "#if FABLE_COMPILER_RUST && WASM\n",
      "    let v3 : string = $\"%A{v0}\"\n",
      "    v3 \n",
      "    #endif\n",
      "#if FABLE_COMPILER_RUST && CONTRACT\n",
      "    let v4 : string = $\"%A{v0}\"\n",
      "    v4 \n",
      "    #endif\n",
      "#if FABLE_COMPILER_TYPESCRIPT\n",
      "    let v5 : string = $\"%A{v0}\"\n",
      "    v5 \n",
      "    #endif\n",
      "#if FABLE_COMPILER_PYTHON\n",
      "    let v6 : string = $\"%A{v0}\"\n",
      "    v6 \n",
      "    #endif\n",
      "#else\n",
      "    let v7 : string = $\"{v0.GetType ()}: {v0.Message}\"\n",
      "    v7 \n",
      "    #endif\n",
      "    |> fun x -> _v1 <- Some x\n",
      "    let v8 : string = _v1.Value\n",
      "    v8\n",
      "and method6 (v0 : int32, v1 : Mut0) : bool =\n",
      "    let v2 : int32 = v1.l0\n",
      "    let v3 : bool = v2 < v0\n",
      "    v3\n",
      "and closure41 (v0 : string) (v1 : (string [])) : string =\n",
      "    let v2 : int32 = v1.Length\n",
      "    let v3 : string = \"\"\n",
      "    let v4 : Mut0 = {l0 = 0; l1 = v3} : Mut0\n",
      "    while method6(v2, v4) do\n",
      "        let v6 : int32 = v4.l0\n",
      "        let v7 : string = v4.l1\n",
      "        let v8 : string = v1.[int v6]\n",
      "        let v9 : string = v7 + v8 + v0 + \"\"\n",
      "        let v10 : int32 = v6 + 1\n",
      "        v4.l0 <- v10\n",
      "        v4.l1 <- v9\n",
      "        ()\n",
      "    let v11 : string = v4.l1\n",
      "    v11\n",
      "and closure40 () (v0 : string) : ((string []) -> string) =\n",
      "    closure41(v0)\n",
      "and method7 (v0 : string) : string =\n",
      "    v0\n",
      "and closure43 (v0 : string) (v1 : string seq) : string =\n",
      "    let v2 : string = method7(v0)\n",
      "    let v3 : (string -> (string seq -> string)) = String.concat\n",
      "    let v4 : (string seq -> string) = v3 v2\n",
      "    v4 v1\n",
      "and closure42 () (v0 : string) : (string seq -> string) =\n",
      "    closure43(v0)\n",
      "and closure45 (v0 : string) (v1 : (string [])) : string =\n",
      "    let v2 : string = System.String.Join (v0, v1)\n",
      "    v2\n",
      "and closure44 () (v0 : string) : ((string []) -> string) =\n",
      "    closure45(v0)\n",
      "and method8 (v0 : int32, v1 : Mut1) : bool =\n",
      "    let v2 : int32 = v1.l0\n",
      "    let v3 : bool = v2 < v0\n",
      "    v3\n",
      "and closure46 () (v0 : string) : (char []) =\n",
      "    let v1 : int32 = v0.Length\n",
      "    let v2 : (char []) = Array.zeroCreate<char> (v1)\n",
      "    let v3 : Mut1 = {l0 = 0} : Mut1\n",
      "    while method8(v1, v3) do\n",
      "        let v5 : int32 = v3.l0\n",
      "        let v6 : char = v0.[int v5]\n",
      "        v2.[int v5] <- v6\n",
      "        let v7 : int32 = v5 + 1\n",
      "        v3.l0 <- v7\n",
      "        ()\n",
      "    v2\n",
      "let v0 : (string -> (string -> bool)) = closure0()\n",
      "let contains x = v0 x\n",
      "let v1 : (string -> (string -> bool)) = closure2()\n",
      "let ends_with x = v1 x\n",
      "let v2 : (int32 -> (char -> (string -> string))) = closure4()\n",
      "let pad_left x = v2 x\n",
      "let v3 : (int32 -> (char -> (string -> string))) = closure7()\n",
      "let pad_right x = v3 x\n",
      "let v4 : (string -> (string -> (string -> string))) = closure10()\n",
      "let replace x = v4 x\n",
      "let v5 : (string -> (string -> (string -> string))) = closure13()\n",
      "let replace_regex x = v5 x\n",
      "let v6 : (int32 -> (int32 -> (string -> string))) = closure16()\n",
      "let slice x = v6 x\n",
      "let v7 : (string -> (string -> (string []))) = closure19()\n",
      "let split x = v7 x\n",
      "let v8 : ((string []) -> (string -> (string []))) = closure21()\n",
      "let split_string x = v8 x\n",
      "let v9 : (string -> (string -> bool)) = closure23()\n",
      "let starts_with x = v9 x\n",
      "let v10 : (int32 -> (int32 -> (string -> string))) = closure25()\n",
      "let substring x = v10 x\n",
      "let v11 : (string -> string) = closure28()\n",
      "let to_lower x = v11 x\n",
      "let v12 : (string -> string) = closure29()\n",
      "let to_upper x = v12 x\n",
      "let v13 : (string -> string) = closure30()\n",
      "let trim x = v13 x\n",
      "let v14 : ((char []) -> (string -> string)) = closure31()\n",
      "let trim_end x = v14 x\n",
      "let v15 : ((char []) -> (string -> string)) = closure33()\n",
      "let trim_start x = v15 x\n",
      "let v16 : (int32 -> (string -> string)) = closure35()\n",
      "let ellipsis x = v16 x\n",
      "let v17 : (int64 -> (string -> string)) = closure37()\n",
      "let ellipsis_end x = v17 x\n",
      "let v18 : (exn -> string) = closure39()\n",
      "let format_exception x = v18 x\n",
      "let v19 : (string -> ((string []) -> string)) = closure40()\n",
      "let concat_array_trailing x = v19 x\n",
      "let v20 : (string -> (string seq -> string)) = closure42()\n",
      "let concat x = v20 x\n",
      "let v21 : (string -> ((string []) -> string)) = closure44()\n",
      "let join' x = v21 x\n",
      "let v22 : (string -> (char [])) = closure46()\n",
      "let to_char_array x = v22 x\n",
      "()\n",
      "\n"
     ]
    }
   ],
   "source": [
    "inl main () =\n",
    "    types ()\n",
    "    $\"let contains x = !contains x\" : ()\n",
    "    $\"let ends_with x = !ends_with x\" : ()\n",
    "    $\"let pad_left x = !pad_left x\" : ()\n",
    "    $\"let pad_right x = !pad_right x\" : ()\n",
    "    $\"let replace x = !replace x\" : ()\n",
    "    $\"let replace_regex x = !replace_regex x\" : ()\n",
    "    inl slice (a : i32) (b : i32) c = slice a b c\n",
    "    $\"let slice x = !slice x\" : ()\n",
    "    $\"let split x = !split x\" : ()\n",
    "    $\"let split_string x = !split_string x\" : ()\n",
    "    $\"let starts_with x = !starts_with x\" : ()\n",
    "    $\"let substring x = !substring x\" : ()\n",
    "    $\"let to_lower x = !to_lower x\" : ()\n",
    "    $\"let to_upper x = !to_upper x\" : ()\n",
    "    $\"let trim x = !trim x\" : ()\n",
    "    $\"let trim_end x = !trim_end x\" : ()\n",
    "    $\"let trim_start x = !trim_start x\" : ()\n",
    "    $\"let ellipsis x = !ellipsis x\" : ()\n",
    "    $\"let ellipsis_end x = !ellipsis_end x\" : ()\n",
    "    $\"let format_exception x = !format_exception x\" : ()\n",
    "    $\"let concat_array_trailing x = !concat_array_trailing x\" : ()\n",
    "    inl concat a (b : seq.seq' string) = concat a b\n",
    "    $\"let concat x = !concat x\" : ()\n",
    "    $\"let join' x = !join' x\" : ()\n",
    "    $\"let to_char_array x = !to_char_array x\" : ()"
   ]
  },
  {
   "cell_type": "markdown",
   "metadata": {},
   "source": [
    "## to_string std_string"
   ]
  },
  {
   "cell_type": "code",
   "execution_count": null,
   "metadata": {
    "dotnet_interactive": {
     "language": "spiral"
    },
    "polyglot_notebook": {
     "kernelName": "spiral"
    }
   },
   "outputs": [
    {
     "name": "stdout",
     "output_type": "stream",
     "text": [
      "()\n",
      "\n"
     ]
    }
   ],
   "source": [
    "open rust\n",
    "instance to_string std_string = from_std_string"
   ]
  }
 ],
 "metadata": {},
 "nbformat": 4,
 "nbformat_minor": 5
}