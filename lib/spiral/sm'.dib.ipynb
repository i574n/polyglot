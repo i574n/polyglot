{
 "cells": [
  {
   "cell_type": "markdown",
   "metadata": {},
   "source": [
    "# sm'"
   ]
  },
  {
   "cell_type": "code",
   "execution_count": null,
   "metadata": {
    "dotnet_interactive": {
     "language": "spiral"
    },
    "polyglot_notebook": {
     "kernelName": "spiral"
    }
   },
   "outputs": [
    {
     "name": "stdout",
     "output_type": "stream",
     "text": [
      "()\n",
      "\n"
     ]
    }
   ],
   "source": [
    "// // test\n",
    "\n",
    "open testing"
   ]
  },
  {
   "cell_type": "code",
   "execution_count": null,
   "metadata": {
    "dotnet_interactive": {
     "language": "spiral"
    },
    "polyglot_notebook": {
     "kernelName": "spiral"
    }
   },
   "outputs": [
    {
     "name": "stdout",
     "output_type": "stream",
     "text": [
      "\n"
     ]
    }
   ],
   "source": [
    "open rust_operators"
   ]
  },
  {
   "cell_type": "code",
   "execution_count": null,
   "metadata": {
    "dotnet_interactive": {
     "language": "spiral"
    },
    "polyglot_notebook": {
     "kernelName": "spiral"
    }
   },
   "outputs": [
    {
     "name": "stdout",
     "output_type": "stream",
     "text": [
      "()\n",
      "\n"
     ]
    }
   ],
   "source": [
    "inl types () =\n",
    "    global \"[<Fable.Core.Erase; Fable.Core.Emit(\\\"str\\\")>] type Str = class end\"\n",
    "    global \"[<Fable.Core.Erase; Fable.Core.Emit(\\\"base64::DecodeError\\\")>] type base64_DecodeError = class end\"\n",
    "    global \"[<Fable.Core.Erase; Fable.Core.Emit(\\\"borsh::io::Error\\\")>] type borsh_io_Error = class end\"\n",
    "    global \"[<Fable.Core.Erase; Fable.Core.Emit(\\\"js_sys::JsString\\\")>] type js_sys_JsString = class end\"\n",
    "    global \"[<Fable.Core.Erase; Fable.Core.Emit(\\\"serde_json::Error\\\")>] type serde_json_Error = class end\"\n",
    "    global \"[<Fable.Core.Erase; Fable.Core.Emit(\\\"serde_json::Value\\\")>] type serde_json_Value = class end\"\n",
    "    global \"[<Fable.Core.Erase; Fable.Core.Emit(\\\"serde_wasm_bindgen::Error\\\")>] type serde_wasm_bindgen_Error = class end\"\n",
    "    global \"[<Fable.Core.Erase; Fable.Core.Emit(\\\"std::str::Utf8Error\\\")>] type std_str_Utf8Error = class end\"\n",
    "    global \"[<Fable.Core.Erase; Fable.Core.Emit(\\\"std::string::String\\\")>] type std_string_String = class end\""
   ]
  },
  {
   "cell_type": "code",
   "execution_count": null,
   "metadata": {
    "dotnet_interactive": {
     "language": "spiral"
    },
    "polyglot_notebook": {
     "kernelName": "spiral"
    }
   },
   "outputs": [
    {
     "name": "stdout",
     "output_type": "stream",
     "text": [
      "()\n",
      "\n"
     ]
    }
   ],
   "source": [
    "// // test\n",
    "\n",
    "inl types () =\n",
    "    rust.types ()\n",
    "    types ()"
   ]
  },
  {
   "cell_type": "code",
   "execution_count": null,
   "metadata": {
    "dotnet_interactive": {
     "language": "spiral"
    },
    "polyglot_notebook": {
     "kernelName": "spiral"
    }
   },
   "outputs": [
    {
     "name": "stdout",
     "output_type": "stream",
     "text": [
      "()\n",
      "\n"
     ]
    }
   ],
   "source": [
    "nominal base64_decode_error = $\"base64_DecodeError\"\n",
    "nominal borsh_io_error = $\"borsh_io_Error\"\n",
    "nominal utf8_error = $\"std_str_Utf8Error\"\n",
    "nominal json_value = $\"serde_json_Value\"\n",
    "nominal json_error = $\"serde_json_Error\"\n",
    "nominal serde_wasm_bindgen_error = $\"serde_wasm_bindgen_Error\"\n",
    "nominal std_string = $\"std_string_String\"\n",
    "nominal js_string = $\"js_sys_JsString\"\n",
    "nominal str = $\"Str\""
   ]
  },
  {
   "cell_type": "markdown",
   "metadata": {},
   "source": [
    "## contains"
   ]
  },
  {
   "cell_type": "code",
   "execution_count": null,
   "metadata": {
    "dotnet_interactive": {
     "language": "spiral"
    },
    "polyglot_notebook": {
     "kernelName": "spiral"
    }
   },
   "outputs": [
    {
     "name": "stdout",
     "output_type": "stream",
     "text": [
      "\n"
     ]
    }
   ],
   "source": [
    "inl contains (value : string) (s : string) : bool =\n",
    "    $\"!s.Contains !value\""
   ]
  },
  {
   "cell_type": "markdown",
   "metadata": {},
   "source": [
    "## ends_with"
   ]
  },
  {
   "cell_type": "code",
   "execution_count": null,
   "metadata": {
    "dotnet_interactive": {
     "language": "spiral"
    },
    "polyglot_notebook": {
     "kernelName": "spiral"
    }
   },
   "outputs": [
    {
     "name": "stdout",
     "output_type": "stream",
     "text": [
      "()\n",
      "\n"
     ]
    }
   ],
   "source": [
    "inl ends_with (value : string) (s : string) : bool =\n",
    "    $\"!s.EndsWith !value\""
   ]
  },
  {
   "cell_type": "markdown",
   "metadata": {},
   "source": [
    "## pad_left"
   ]
  },
  {
   "cell_type": "code",
   "execution_count": null,
   "metadata": {
    "dotnet_interactive": {
     "language": "spiral"
    },
    "polyglot_notebook": {
     "kernelName": "spiral"
    }
   },
   "outputs": [
    {
     "name": "stdout",
     "output_type": "stream",
     "text": [
      "()\n",
      "\n"
     ]
    }
   ],
   "source": [
    "inl pad_left (total_width : i32) (padding_char : char) (s : string) : string =\n",
    "    $\"!s.PadLeft (!total_width, !padding_char)\""
   ]
  },
  {
   "cell_type": "markdown",
   "metadata": {},
   "source": [
    "## pad_right"
   ]
  },
  {
   "cell_type": "code",
   "execution_count": null,
   "metadata": {
    "dotnet_interactive": {
     "language": "spiral"
    },
    "polyglot_notebook": {
     "kernelName": "spiral"
    }
   },
   "outputs": [
    {
     "name": "stdout",
     "output_type": "stream",
     "text": [
      "()\n",
      "\n"
     ]
    }
   ],
   "source": [
    "inl pad_right (pad : i32) (s : string) : string =\n",
    "    $\"!s.PadRight !pad\""
   ]
  },
  {
   "cell_type": "markdown",
   "metadata": {},
   "source": [
    "## replace"
   ]
  },
  {
   "cell_type": "code",
   "execution_count": null,
   "metadata": {
    "dotnet_interactive": {
     "language": "spiral"
    },
    "polyglot_notebook": {
     "kernelName": "spiral"
    }
   },
   "outputs": [
    {
     "name": "stdout",
     "output_type": "stream",
     "text": [
      "()\n",
      "\n"
     ]
    }
   ],
   "source": [
    "inl replace (old_value : string) (new_value : string) (s : string) : string =\n",
    "    $\"!s.Replace (!old_value, !new_value)\""
   ]
  },
  {
   "cell_type": "markdown",
   "metadata": {},
   "source": [
    "## starts_with"
   ]
  },
  {
   "cell_type": "code",
   "execution_count": null,
   "metadata": {
    "dotnet_interactive": {
     "language": "spiral"
    },
    "polyglot_notebook": {
     "kernelName": "spiral"
    }
   },
   "outputs": [
    {
     "name": "stdout",
     "output_type": "stream",
     "text": [
      "()\n",
      "\n"
     ]
    }
   ],
   "source": [
    "inl starts_with (value : string) (s : string) : bool =\n",
    "    $\"!s.StartsWith !value\""
   ]
  },
  {
   "cell_type": "markdown",
   "metadata": {},
   "source": [
    "## substring"
   ]
  },
  {
   "cell_type": "code",
   "execution_count": null,
   "metadata": {
    "dotnet_interactive": {
     "language": "spiral"
    },
    "polyglot_notebook": {
     "kernelName": "spiral"
    }
   },
   "outputs": [
    {
     "name": "stdout",
     "output_type": "stream",
     "text": [
      "()\n",
      "\n"
     ]
    }
   ],
   "source": [
    "inl substring (start : i32) (len : i32) (str : string) : string =\n",
    "    $\"!str.Substring (!start, !len)\""
   ]
  },
  {
   "cell_type": "markdown",
   "metadata": {},
   "source": [
    "## to_lower"
   ]
  },
  {
   "cell_type": "code",
   "execution_count": null,
   "metadata": {
    "dotnet_interactive": {
     "language": "spiral"
    },
    "polyglot_notebook": {
     "kernelName": "spiral"
    }
   },
   "outputs": [
    {
     "name": "stdout",
     "output_type": "stream",
     "text": [
      "()\n",
      "\n"
     ]
    }
   ],
   "source": [
    "inl to_lower (input : string) : string =\n",
    "    $\"!input.ToLower ()\""
   ]
  },
  {
   "cell_type": "markdown",
   "metadata": {},
   "source": [
    "## to_upper"
   ]
  },
  {
   "cell_type": "code",
   "execution_count": null,
   "metadata": {
    "dotnet_interactive": {
     "language": "spiral"
    },
    "polyglot_notebook": {
     "kernelName": "spiral"
    }
   },
   "outputs": [
    {
     "name": "stdout",
     "output_type": "stream",
     "text": [
      "()\n",
      "\n"
     ]
    }
   ],
   "source": [
    "inl to_upper (input : string) : string =\n",
    "    $\"!input.ToUpper ()\""
   ]
  },
  {
   "cell_type": "markdown",
   "metadata": {},
   "source": [
    "## trim"
   ]
  },
  {
   "cell_type": "code",
   "execution_count": null,
   "metadata": {
    "dotnet_interactive": {
     "language": "spiral"
    },
    "polyglot_notebook": {
     "kernelName": "spiral"
    }
   },
   "outputs": [
    {
     "name": "stdout",
     "output_type": "stream",
     "text": [
      "()\n",
      "\n"
     ]
    }
   ],
   "source": [
    "inl trim (input : string) : string =\n",
    "    $\"!input.Trim ()\""
   ]
  },
  {
   "cell_type": "markdown",
   "metadata": {},
   "source": [
    "## trim_end"
   ]
  },
  {
   "cell_type": "code",
   "execution_count": null,
   "metadata": {
    "dotnet_interactive": {
     "language": "spiral"
    },
    "polyglot_notebook": {
     "kernelName": "spiral"
    }
   },
   "outputs": [
    {
     "name": "stdout",
     "output_type": "stream",
     "text": [
      "()\n",
      "\n"
     ]
    }
   ],
   "source": [
    "inl trim_end (trim_chars : array_base char) (input : string) : string =\n",
    "    $\"!input.TrimEnd !trim_chars\""
   ]
  },
  {
   "cell_type": "markdown",
   "metadata": {},
   "source": [
    "## trim_start"
   ]
  },
  {
   "cell_type": "code",
   "execution_count": null,
   "metadata": {
    "dotnet_interactive": {
     "language": "spiral"
    },
    "polyglot_notebook": {
     "kernelName": "spiral"
    }
   },
   "outputs": [
    {
     "name": "stdout",
     "output_type": "stream",
     "text": [
      "()\n",
      "\n"
     ]
    }
   ],
   "source": [
    "inl trim_start (trim_chars : array_base char) (input : string) : string =\n",
    "    $\"!input.TrimStart !trim_chars\""
   ]
  },
  {
   "cell_type": "markdown",
   "metadata": {},
   "source": [
    "## slice"
   ]
  },
  {
   "cell_type": "code",
   "execution_count": null,
   "metadata": {
    "dotnet_interactive": {
     "language": "spiral"
    },
    "polyglot_notebook": {
     "kernelName": "spiral"
    }
   },
   "outputs": [
    {
     "name": "stdout",
     "output_type": "stream",
     "text": [
      "()\n",
      "\n"
     ]
    }
   ],
   "source": [
    "inl slice from to s : string =\n",
    "    sm.slice s { from to }"
   ]
  },
  {
   "cell_type": "markdown",
   "metadata": {},
   "source": [
    "## raw_string_literal"
   ]
  },
  {
   "cell_type": "code",
   "execution_count": null,
   "metadata": {
    "dotnet_interactive": {
     "language": "spiral"
    },
    "polyglot_notebook": {
     "kernelName": "spiral"
    }
   },
   "outputs": [
    {
     "name": "stdout",
     "output_type": "stream",
     "text": [
      "()\n",
      "\n"
     ]
    }
   ],
   "source": [
    "inl raw_string_literal (s : string) : rust.ref' str =\n",
    "    !\\($\"\\\"r#\\\\\\\"\\\" + !s + \\\"\\\\\\\"#\\\"\")"
   ]
  },
  {
   "cell_type": "markdown",
   "metadata": {},
   "source": [
    "## raw_string_literal_static"
   ]
  },
  {
   "cell_type": "code",
   "execution_count": null,
   "metadata": {
    "dotnet_interactive": {
     "language": "spiral"
    },
    "polyglot_notebook": {
     "kernelName": "spiral"
    }
   },
   "outputs": [
    {
     "name": "stdout",
     "output_type": "stream",
     "text": [
      "()\n",
      "\n"
     ]
    }
   ],
   "source": [
    "inl raw_string_literal_static (s : string) : rust.static_ref' str =\n",
    "    !\\($\"\\\"r#\\\\\\\"\\\" + !s + \\\"\\\\\\\"#\\\"\")"
   ]
  },
  {
   "cell_type": "markdown",
   "metadata": {},
   "source": [
    "## include_str"
   ]
  },
  {
   "cell_type": "code",
   "execution_count": null,
   "metadata": {
    "dotnet_interactive": {
     "language": "spiral"
    },
    "polyglot_notebook": {
     "kernelName": "spiral"
    }
   },
   "outputs": [
    {
     "name": "stdout",
     "output_type": "stream",
     "text": [
      "()\n",
      "\n"
     ]
    }
   ],
   "source": [
    "inl include_str (path : string) : rust.ref' str =\n",
    "    !\\($'\"include_str\\!(\\\\\\\"\" + !path + \"\\\\\\\")\"')"
   ]
  },
  {
   "cell_type": "markdown",
   "metadata": {},
   "source": [
    "## as_str"
   ]
  },
  {
   "cell_type": "code",
   "execution_count": null,
   "metadata": {
    "dotnet_interactive": {
     "language": "spiral"
    },
    "polyglot_notebook": {
     "kernelName": "spiral"
    }
   },
   "outputs": [
    {
     "name": "stdout",
     "output_type": "stream",
     "text": [
      "()\n",
      "\n"
     ]
    }
   ],
   "source": [
    "inl as_str (s : string) : rust.ref' str =\n",
    "    inl s = join s\n",
    "    !\\($'$\"fable_library_rust::String_::LrcStr::as_str(&!s)\"')"
   ]
  },
  {
   "cell_type": "markdown",
   "metadata": {},
   "source": [
    "## from_std_string"
   ]
  },
  {
   "cell_type": "code",
   "execution_count": null,
   "metadata": {
    "dotnet_interactive": {
     "language": "spiral"
    },
    "polyglot_notebook": {
     "kernelName": "spiral"
    }
   },
   "outputs": [
    {
     "name": "stdout",
     "output_type": "stream",
     "text": [
      "()\n",
      "\n"
     ]
    }
   ],
   "source": [
    "inl from_std_string (str : std_string) : string =\n",
    "    inl str = join str\n",
    "    !\\($'\"fable_library_rust::String_::fromString(!str)\"')"
   ]
  },
  {
   "cell_type": "markdown",
   "metadata": {},
   "source": [
    "## ref_to_std_string"
   ]
  },
  {
   "cell_type": "code",
   "execution_count": null,
   "metadata": {
    "dotnet_interactive": {
     "language": "spiral"
    },
    "polyglot_notebook": {
     "kernelName": "spiral"
    }
   },
   "outputs": [
    {
     "name": "stdout",
     "output_type": "stream",
     "text": [
      "()\n",
      "\n"
     ]
    }
   ],
   "source": [
    "inl ref_to_std_string (str : rust.ref' str) : std_string =\n",
    "    !\\($'\"String::from(!str)\"')"
   ]
  },
  {
   "cell_type": "markdown",
   "metadata": {},
   "source": [
    "## to_std_string"
   ]
  },
  {
   "cell_type": "code",
   "execution_count": null,
   "metadata": {
    "dotnet_interactive": {
     "language": "spiral"
    },
    "polyglot_notebook": {
     "kernelName": "spiral"
    }
   },
   "outputs": [
    {
     "name": "stdout",
     "output_type": "stream",
     "text": [
      "()\n",
      "\n"
     ]
    }
   ],
   "source": [
    "inl to_std_string (s : string) : std_string =\n",
    "    inl s = join s\n",
    "    s |> as_str |> ref_to_std_string"
   ]
  },
  {
   "cell_type": "markdown",
   "metadata": {},
   "source": [
    "## as_str_std"
   ]
  },
  {
   "cell_type": "code",
   "execution_count": null,
   "metadata": {
    "dotnet_interactive": {
     "language": "spiral"
    },
    "polyglot_notebook": {
     "kernelName": "spiral"
    }
   },
   "outputs": [
    {
     "name": "stdout",
     "output_type": "stream",
     "text": [
      "()\n",
      "\n"
     ]
    }
   ],
   "source": [
    "inl as_str_std (s : std_string) : rust.ref' str =\n",
    "    inl s = join s\n",
    "    !\\($'\"!s.as_str()\"')"
   ]
  },
  {
   "cell_type": "markdown",
   "metadata": {},
   "source": [
    "## into_boxed_str"
   ]
  },
  {
   "cell_type": "code",
   "execution_count": null,
   "metadata": {
    "dotnet_interactive": {
     "language": "spiral"
    },
    "polyglot_notebook": {
     "kernelName": "spiral"
    }
   },
   "outputs": [
    {
     "name": "stdout",
     "output_type": "stream",
     "text": [
      "()\n",
      "\n"
     ]
    }
   ],
   "source": [
    "inl into_boxed_str (s : std_string) : rust.box str =\n",
    "    !\\($'\"!s.into_boxed_str()\"')"
   ]
  },
  {
   "cell_type": "markdown",
   "metadata": {},
   "source": [
    "## format'"
   ]
  },
  {
   "cell_type": "code",
   "execution_count": null,
   "metadata": {
    "dotnet_interactive": {
     "language": "spiral"
    },
    "polyglot_notebook": {
     "kernelName": "spiral"
    }
   },
   "outputs": [
    {
     "name": "stdout",
     "output_type": "stream",
     "text": [
      "()\n",
      "\n"
     ]
    }
   ],
   "source": [
    "inl format' x : std_string =\n",
    "    !\\\\(x, $'@@$\"format\\!(\"\"{{}}\"\", $0)\"')"
   ]
  },
  {
   "cell_type": "markdown",
   "metadata": {},
   "source": [
    "## format_debug"
   ]
  },
  {
   "cell_type": "code",
   "execution_count": null,
   "metadata": {
    "dotnet_interactive": {
     "language": "spiral"
    },
    "polyglot_notebook": {
     "kernelName": "spiral"
    }
   },
   "outputs": [
    {
     "name": "stdout",
     "output_type": "stream",
     "text": [
      "()\n",
      "\n"
     ]
    }
   ],
   "source": [
    "inl format_debug x : string =\n",
    "    $'$\"%A{!x}\"'"
   ]
  },
  {
   "cell_type": "markdown",
   "metadata": {},
   "source": [
    "## format_debug'"
   ]
  },
  {
   "cell_type": "code",
   "execution_count": null,
   "metadata": {
    "dotnet_interactive": {
     "language": "spiral"
    },
    "polyglot_notebook": {
     "kernelName": "spiral"
    }
   },
   "outputs": [
    {
     "name": "stdout",
     "output_type": "stream",
     "text": [
      "()\n",
      "\n"
     ]
    }
   ],
   "source": [
    "inl format_debug' x : std_string =\n",
    "    !\\\\(x, $'@@$\"format\\!(\"\"{{:?}}\"\", $0)\"')"
   ]
  },
  {
   "cell_type": "markdown",
   "metadata": {},
   "source": [
    "## format_pretty'"
   ]
  },
  {
   "cell_type": "code",
   "execution_count": null,
   "metadata": {
    "dotnet_interactive": {
     "language": "spiral"
    },
    "polyglot_notebook": {
     "kernelName": "spiral"
    }
   },
   "outputs": [
    {
     "name": "stdout",
     "output_type": "stream",
     "text": [
      "()\n",
      "\n"
     ]
    }
   ],
   "source": [
    "inl format_pretty' x : std_string =\n",
    "    !\\\\(x, $'@@$\"format\\!(\"\"{{:#?}}\"\", $0)\"')"
   ]
  },
  {
   "cell_type": "markdown",
   "metadata": {},
   "source": [
    "## format_exception"
   ]
  },
  {
   "cell_type": "code",
   "execution_count": null,
   "metadata": {
    "dotnet_interactive": {
     "language": "spiral"
    },
    "polyglot_notebook": {
     "kernelName": "spiral"
    }
   },
   "outputs": [
    {
     "name": "stdout",
     "output_type": "stream",
     "text": [
      "()\n",
      "\n"
     ]
    }
   ],
   "source": [
    "inl format_exception (ex : exn) : string =\n",
    "    run_target function\n",
    "        | Fsharp (Native) => fun () => $'$\"{!ex.GetType ()}: {!ex.Message}\"'\n",
    "        | _ => fun () => ex |> format_debug"
   ]
  },
  {
   "cell_type": "code",
   "execution_count": null,
   "metadata": {
    "dotnet_interactive": {
     "language": "spiral"
    },
    "polyglot_notebook": {
     "kernelName": "spiral"
    }
   },
   "outputs": [
    {
     "name": "stdout",
     "output_type": "stream",
     "text": [
      "type [<Struct>] US0 =\n",
      "    | US0_0\n",
      "    | US0_1 of f1_0 : exn\n",
      "and [<Struct>] US1 =\n",
      "    | US1_0\n",
      "    | US1_1 of f1_0 : string\n",
      "let rec closure0 () () : unit =\n",
      "    failwith<unit> \"test\"\n",
      "and closure1 () (v0 : exn) : US0 =\n",
      "    US0_1(v0)\n",
      "and method1 (v0 : bool) : bool =\n",
      "    v0\n",
      "and method0 () : unit =\n",
      "    let v0 : (unit -> unit) = closure0()\n",
      "    let v1 : US0 = US0_0\n",
      "    let v2 : (exn -> US0) = closure1()\n",
      "    let v3 : US0 = try v0 (); v1 with ex -> ex |> v2\n",
      "    let v14 : US1 =\n",
      "        match v3 with\n",
      "        | US0_0 -> (* None *)\n",
      "            US1_0\n",
      "        | US0_1(v4) -> (* Some *)\n",
      "            let mutable result = None\n",
      "            #if FABLE_COMPILER_RUST && !WASM\n",
      "            let v5 : string = $\"%A{v4}\"\n",
      "            v5\n",
      "            #endif\n",
      "            #if FABLE_COMPILER_RUST && WASM\n",
      "            let v6 : string = $\"%A{v4}\"\n",
      "            v6\n",
      "            #endif\n",
      "            #if !FABLE_COMPILER && !FABLE_COMPILER_RUST && !WASM\n",
      "            let v7 : string = $\"{v4.GetType ()}: {v4.Message}\"\n",
      "            v7\n",
      "            #endif\n",
      "            #if FABLE_COMPILER && !FABLE_COMPILER_RUST && !WASM\n",
      "            let v8 : string = $\"%A{v4}\"\n",
      "            v8\n",
      "            #endif\n",
      "            #if !FABLE_COMPILER_RUST && WASM\n",
      "            let v9 : string = $\"%A{v4}\"\n",
      "            v9\n",
      "            #endif\n",
      "            |> fun x -> result <- Some x\n",
      "            let v10 : string = result |> Option.get\n",
      "            US1_1(v10)\n",
      "    let v15 : string = $\"%A{v14}\"\n",
      "    System.Console.WriteLine v15\n",
      "    let v20 : bool =\n",
      "        match v14 with\n",
      "        | US1_1(v18) -> (* Some *)\n",
      "            let v19 : bool = v18 = \"System.Exception: test\"\n",
      "            v19\n",
      "        | _ ->\n",
      "            false\n",
      "    let v22 : bool =\n",
      "        if v20 then\n",
      "            true\n",
      "        else\n",
      "            method1(v20)\n",
      "    let v23 : string = \"System.Exception: test\"\n",
      "    let v24 : US1 = US1_1(v23)\n",
      "    let v25 : string = $\"__expect / actual: %A{v14} / expected: %A{v24}\"\n",
      "    let v26 : bool = v22 = false\n",
      "    if v26 then\n",
      "        failwith<unit> v25\n",
      "method0()\n",
      "\n",
      "US1_1 \"System.Exception: test\"\n"
     ]
    }
   ],
   "source": [
    "// // test\n",
    "\n",
    "fun () => failwith \"test\"\n",
    "|> _throws\n",
    "|> optionm.map sm'.format_exception\n",
    "|> _assert_eq (Some \"System.Exception: test\")"
   ]
  },
  {
   "cell_type": "markdown",
   "metadata": {},
   "source": [
    "## obj_to_string"
   ]
  },
  {
   "cell_type": "code",
   "execution_count": null,
   "metadata": {
    "dotnet_interactive": {
     "language": "spiral"
    },
    "polyglot_notebook": {
     "kernelName": "spiral"
    }
   },
   "outputs": [
    {
     "name": "stdout",
     "output_type": "stream",
     "text": [
      "()\n",
      "\n"
     ]
    }
   ],
   "source": [
    "inl obj_to_string x : string =\n",
    "    x |> $'_.ToString()'"
   ]
  },
  {
   "cell_type": "markdown",
   "metadata": {},
   "source": [
    "## to_string any"
   ]
  },
  {
   "cell_type": "code",
   "execution_count": null,
   "metadata": {
    "dotnet_interactive": {
     "language": "spiral"
    },
    "polyglot_notebook": {
     "kernelName": "spiral"
    }
   },
   "outputs": [
    {
     "name": "stdout",
     "output_type": "stream",
     "text": [
      "()\n",
      "\n"
     ]
    }
   ],
   "source": [
    "instance to_string any =\n",
    "    obj_to_string"
   ]
  },
  {
   "cell_type": "markdown",
   "metadata": {},
   "source": [
    "## to_string result t u"
   ]
  },
  {
   "cell_type": "code",
   "execution_count": null,
   "metadata": {
    "dotnet_interactive": {
     "language": "spiral"
    },
    "polyglot_notebook": {
     "kernelName": "spiral"
    }
   },
   "outputs": [
    {
     "name": "stdout",
     "output_type": "stream",
     "text": [
      "()\n",
      "\n"
     ]
    }
   ],
   "source": [
    "instance to_string result t u = fun x =>\n",
    "    real\n",
    "        open rust\n",
    "        typecase (t * u) with\n",
    "        | string * string =>\n",
    "            match x with\n",
    "            | Ok x => x\n",
    "            | Error x => $'\"Error: \" + !x + \"\"' : string\n",
    "        | std_string * std_string =>\n",
    "            match x with\n",
    "            | Ok x => from_std_string x\n",
    "            | Error x => $'\"Error: \" + string !x + \"\"' : string\n",
    "        | _ => obj_to_string `u x"
   ]
  },
  {
   "cell_type": "markdown",
   "metadata": {},
   "source": [
    "## serialize"
   ]
  },
  {
   "cell_type": "code",
   "execution_count": null,
   "metadata": {
    "dotnet_interactive": {
     "language": "spiral"
    },
    "polyglot_notebook": {
     "kernelName": "spiral"
    }
   },
   "outputs": [
    {
     "name": "stdout",
     "output_type": "stream",
     "text": [
      "()\n",
      "\n"
     ]
    }
   ],
   "source": [
    "inl serialize forall t. (x : t) : resultm.result' std_string json_error =\n",
    "    !\\($'\"serde_json::to_string(&!x)\"')"
   ]
  },
  {
   "cell_type": "markdown",
   "metadata": {},
   "source": [
    "## deserialize"
   ]
  },
  {
   "cell_type": "code",
   "execution_count": null,
   "metadata": {
    "dotnet_interactive": {
     "language": "spiral"
    },
    "polyglot_notebook": {
     "kernelName": "spiral"
    }
   },
   "outputs": [
    {
     "name": "stdout",
     "output_type": "stream",
     "text": [
      "()\n",
      "\n"
     ]
    }
   ],
   "source": [
    "inl deserialize forall t. (json : string) : resultm.result' t std_string =\n",
    "    inl json = json |> as_str\n",
    "    !\\($'\"serde_json::from_str(&!json)\"')\n",
    "    |> resultm.map_error' fun (x : json_error) => x |> format'"
   ]
  },
  {
   "cell_type": "markdown",
   "metadata": {},
   "source": [
    "## borsh_deserialize"
   ]
  },
  {
   "cell_type": "code",
   "execution_count": null,
   "metadata": {
    "dotnet_interactive": {
     "language": "spiral"
    },
    "polyglot_notebook": {
     "kernelName": "spiral"
    }
   },
   "outputs": [
    {
     "name": "stdout",
     "output_type": "stream",
     "text": [
      "()\n",
      "\n"
     ]
    }
   ],
   "source": [
    "inl borsh_deserialize forall t. (data : array_base u8) : resultm.result' t std_string =\n",
    "    inl data = data |> am'.as_slice\n",
    "    !\\($'\"let mut !data = !data\"')\n",
    "    inl result = !\\($'\"borsh::BorshDeserialize::deserialize(&mut !data)\"')\n",
    "    result\n",
    "    |> resultm.map_error' fun (x : borsh_io_error) => x |> format'"
   ]
  },
  {
   "cell_type": "markdown",
   "metadata": {},
   "source": [
    "## deserialize_vec"
   ]
  },
  {
   "cell_type": "code",
   "execution_count": null,
   "metadata": {
    "dotnet_interactive": {
     "language": "spiral"
    },
    "polyglot_notebook": {
     "kernelName": "spiral"
    }
   },
   "outputs": [
    {
     "name": "stdout",
     "output_type": "stream",
     "text": [
      "()\n",
      "\n"
     ]
    }
   ],
   "source": [
    "inl deserialize_vec (value : json_value) : resultm.result' (am'.vec u8) std_string =\n",
    "    inl value = join value\n",
    "    !\\($'\"serde_json::from_value(!value)\"')\n",
    "    |> resultm.map_error' fun (x : json_error) => x |> format'"
   ]
  },
  {
   "cell_type": "markdown",
   "metadata": {},
   "source": [
    "## encode_uri_component"
   ]
  },
  {
   "cell_type": "code",
   "execution_count": null,
   "metadata": {
    "dotnet_interactive": {
     "language": "spiral"
    },
    "polyglot_notebook": {
     "kernelName": "spiral"
    }
   },
   "outputs": [
    {
     "name": "stdout",
     "output_type": "stream",
     "text": [
      "()\n",
      "\n"
     ]
    }
   ],
   "source": [
    "inl encode_uri_component (s : std_string) : js_string =\n",
    "    !\\($'\"js_sys::encode_uri_component(&!s)\"')"
   ]
  },
  {
   "cell_type": "markdown",
   "metadata": {},
   "source": [
    "## strip_prefix"
   ]
  },
  {
   "cell_type": "code",
   "execution_count": null,
   "metadata": {
    "dotnet_interactive": {
     "language": "spiral"
    },
    "polyglot_notebook": {
     "kernelName": "spiral"
    }
   },
   "outputs": [
    {
     "name": "stdout",
     "output_type": "stream",
     "text": [
      "()\n",
      "\n"
     ]
    }
   ],
   "source": [
    "inl strip_prefix (prefix : char) (s : std_string) : optionm'.option' (rust.ref' str) =\n",
    "    inl s = join s\n",
    "    !\\($'\"!s.strip_prefix(!prefix)\"')"
   ]
  },
  {
   "cell_type": "markdown",
   "metadata": {},
   "source": [
    "## base64_decode"
   ]
  },
  {
   "cell_type": "code",
   "execution_count": null,
   "metadata": {
    "dotnet_interactive": {
     "language": "spiral"
    },
    "polyglot_notebook": {
     "kernelName": "spiral"
    }
   },
   "outputs": [
    {
     "name": "stdout",
     "output_type": "stream",
     "text": [
      "()\n",
      "\n"
     ]
    }
   ],
   "source": [
    "inl base64_decode (s : std_string) : result std_string std_string =\n",
    "    fun () =>\n",
    "        inl s = join s\n",
    "        inl bytes : resultm.result' (am'.vec u8) base64_decode_error =\n",
    "            !\\($'\"base64::Engine::decode(&base64::engine::general_purpose::STANDARD, !s)\"')\n",
    "        inl bytes =\n",
    "            bytes\n",
    "            |> resultm.map_error' format'\n",
    "            |> resultm.try'\n",
    "        inl result : resultm.result' std_string utf8_error =\n",
    "            !\\($'\"std::str::from_utf8(&!bytes).map(String::from)\"')\n",
    "        result\n",
    "        |> resultm.map_error' format'\n",
    "    |> fun x =>\n",
    "        join x ()\n",
    "        |> resultm.unbox"
   ]
  },
  {
   "cell_type": "markdown",
   "metadata": {},
   "source": [
    "## concat_array_trailing"
   ]
  },
  {
   "cell_type": "code",
   "execution_count": null,
   "metadata": {
    "dotnet_interactive": {
     "language": "spiral"
    },
    "polyglot_notebook": {
     "kernelName": "spiral"
    }
   },
   "outputs": [
    {
     "name": "stdout",
     "output_type": "stream",
     "text": [
      "()\n",
      "\n"
     ]
    }
   ],
   "source": [
    "inl concat_array_trailing (separator : string) (input : a i32 string) =\n",
    "    (\"\", input)\n",
    "    ||> am.fold fun acc (x : string) =>\n",
    "        $'!acc + !x + !separator + \"\"'"
   ]
  },
  {
   "cell_type": "code",
   "execution_count": null,
   "metadata": {
    "dotnet_interactive": {
     "language": "spiral"
    },
    "polyglot_notebook": {
     "kernelName": "spiral"
    }
   },
   "outputs": [
    {
     "data": {
      "text/plain": [
       ".rs output:\n",
       "\"1\n",
       "2\n",
       "3\n",
       "\"\n"
      ]
     },
     "metadata": {},
     "output_type": "display_data"
    },
    {
     "name": "stdout",
     "output_type": "stream",
     "text": [
      "\n",
      ".fsx:\n",
      "type Mut0 = {mutable l0 : int32; mutable l1 : string}\n",
      "let rec method1 (v0 : (string [])) : (string []) =\n",
      "    v0\n",
      "and method2 (v0 : int32, v1 : Mut0) : bool =\n",
      "    let v2 : int32 = v1.l0\n",
      "    let v3 : bool = v2 < v0\n",
      "    v3\n",
      "and method3 (v0 : bool) : bool =\n",
      "    v0\n",
      "and method0 () : unit =\n",
      "    let v0 : string = \"1\"\n",
      "    let v1 : string = \"2\"\n",
      "    let v2 : string = \"3\"\n",
      "    let v3 : (string []) = [|v0; v1; v2|]\n",
      "    let v4 : (string []) = method1(v3)\n",
      "    let v5 : int32 = v4.Length\n",
      "    let v6 : string = \"\"\n",
      "    let v7 : Mut0 = {l0 = 0; l1 = v6} : Mut0\n",
      "    while method2(v5, v7) do\n",
      "        let v9 : int32 = v7.l0\n",
      "        let v10 : string = v7.l1\n",
      "        let v11 : string = v4.[int v9]\n",
      "        let v12 : string = \"\\n\"\n",
      "        let v13 : string = v10 + v11 + v12 + \"\"\n",
      "        let v14 : int32 = v9 + 1\n",
      "        v7.l0 <- v14\n",
      "        v7.l1 <- v13\n",
      "        ()\n",
      "    let v15 : string = v7.l1\n",
      "    let v16 : string = $\"%A{v15}\"\n",
      "    System.Console.WriteLine v16\n",
      "    let v18 : bool = v15 = \"1\\n2\\n3\\n\"\n",
      "    let v20 : bool =\n",
      "        if v18 then\n",
      "            true\n",
      "        else\n",
      "            method3(v18)\n",
      "    let v21 : string = \"1\\n2\\n3\\n\"\n",
      "    let v22 : string = $\"__expect / actual: %A{v15} / expected: %A{v21}\"\n",
      "    let v23 : bool = v20 = false\n",
      "    if v23 then\n",
      "        failwith<unit> v22\n",
      "method0()\n",
      "\n",
      "\n",
      ".rs:\n",
      "#![allow(dead_code,)]\n",
      "#![allow(non_camel_case_types,)]\n",
      "#![allow(non_snake_case,)]\n",
      "#![allow(non_upper_case_globals,)]\n",
      "#![allow(unreachable_code,)]\n",
      "#![allow(unused_attributes,)]\n",
      "#![allow(unused_imports,)]\n",
      "#![allow(unused_macros,)]\n",
      "#![allow(unused_parens,)]\n",
      "#![allow(unused_variables,)]\n",
      "mod module_ccfa04bf {\n",
      "    pub mod Spiral_eval {\n",
      "        use super::*;\n",
      "        use fable_library_rust::Native_::LrcPtr;\n",
      "        use fable_library_rust::Native_::MutCell;\n",
      "        use fable_library_rust::Native_::on_startup;\n",
      "        use fable_library_rust::NativeArray_::Array;\n",
      "        use fable_library_rust::NativeArray_::count;\n",
      "        use fable_library_rust::NativeArray_::new_array;\n",
      "        use fable_library_rust::String_::append;\n",
      "        use fable_library_rust::String_::printfn;\n",
      "        use fable_library_rust::String_::sprintf;\n",
      "        use fable_library_rust::String_::string;\n",
      "        #[derive(Clone, Debug, Default, PartialEq, PartialOrd, Hash, Eq,)]\n",
      "        pub struct Mut0 {\n",
      "            pub l0: MutCell<i32>,\n",
      "            pub l1: MutCell<string>,\n",
      "        }\n",
      "        impl core::fmt::Display for Spiral_eval::Mut0 {\n",
      "            fn fmt(&self, f: &mut core::fmt::Formatter) -> core::fmt::Result {\n",
      "                write!(f, \"{}\", core::any::type_name::<Self>())\n",
      "            }\n",
      "        }\n",
      "        pub fn method1(v0: Array<string>) -> Array<string> { v0 }\n",
      "        pub fn method2(v0: i32, v1: LrcPtr<Spiral_eval::Mut0>) -> bool {\n",
      "            v1.l0.get().clone() < v0\n",
      "        }\n",
      "        pub fn method3(v0: bool) -> bool { v0 }\n",
      "        pub fn method0() {\n",
      "            let v4: Array<string> =\n",
      "                Spiral_eval::method1(new_array(&[string(\"1\"), string(\"2\"),\n",
      "                                                 string(\"3\")]));\n",
      "            let v5: i32 = count(v4.clone());\n",
      "            let v7: LrcPtr<Spiral_eval::Mut0> =\n",
      "                LrcPtr::new(Spiral_eval::Mut0{l0: MutCell::new(0_i32),\n",
      "                                              l1: MutCell::new(string(\"\")),});\n",
      "            while Spiral_eval::method2(v5, v7.clone()) {\n",
      "                let v9: i32 = v7.l0.get().clone();\n",
      "                let v13: string =\n",
      "                    append(append(append(v7.l1.get().clone(), v4[v9].clone()),\n",
      "                                  string(\"\\n\")), string(\"\"));\n",
      "                let v14: i32 = v9 + 1_i32;\n",
      "                v7.l0.set(v14);\n",
      "                v7.l1.set(v13);\n",
      "                ()\n",
      "            }\n",
      "            {\n",
      "                let v15: string = v7.l1.get().clone();\n",
      "                let v16: string = sprintf!(\"{:?}\", v15.clone());\n",
      "                printfn!(\"{0}\", v16);\n",
      "                {\n",
      "                    let v18: bool = v15.clone() == string(\"1\\n2\\n3\\n\");\n",
      "                    if (if v18 { true } else { Spiral_eval::method3(v18) }) ==\n",
      "                           false {\n",
      "                        panic!(\"{}\",\n",
      "                               sprintf!(\"__expect / actual: {:?} / expected: {:?}\", v15, string(\"1\\n2\\n3\\n\")));\n",
      "                    }\n",
      "                }\n",
      "            }\n",
      "        }\n",
      "        on_startup!(Spiral_eval::method0());\n",
      "    }\n",
      "}\n",
      "pub use module_ccfa04bf::*;\n",
      "\n"
     ]
    }
   ],
   "source": [
    "// // test\n",
    "// // rust=\n",
    "\n",
    ";[\n",
    "    \"1\"\n",
    "    \"2\"\n",
    "    \"3\"\n",
    "]\n",
    "|> fun x =>\n",
    "    inl code = (a x : _ i32 _) |> concat_array_trailing \"\\n\"\n",
    "    code\n",
    "    |> _assert_eq \"1\\n2\\n3\\n\""
   ]
  },
  {
   "cell_type": "markdown",
   "metadata": {},
   "source": [
    "## concat_list_trailing"
   ]
  },
  {
   "cell_type": "code",
   "execution_count": null,
   "metadata": {
    "dotnet_interactive": {
     "language": "spiral"
    },
    "polyglot_notebook": {
     "kernelName": "spiral"
    }
   },
   "outputs": [
    {
     "name": "stdout",
     "output_type": "stream",
     "text": [
      "()\n",
      "\n"
     ]
    }
   ],
   "source": [
    "inl concat_list_trailing separator input =\n",
    "    (\"\", input)\n",
    "    ||> listm.fold fun acc (x : string) =>\n",
    "        $'!acc + !x + !separator + \"\"'"
   ]
  },
  {
   "cell_type": "code",
   "execution_count": null,
   "metadata": {
    "dotnet_interactive": {
     "language": "spiral"
    },
    "polyglot_notebook": {
     "kernelName": "spiral"
    }
   },
   "outputs": [
    {
     "data": {
      "text/plain": [
       ".rs output:\n",
       "\"1\n",
       "2\n",
       "3\n",
       "\"\n"
      ]
     },
     "metadata": {},
     "output_type": "display_data"
    },
    {
     "name": "stdout",
     "output_type": "stream",
     "text": [
      "\n",
      ".fsx:\n",
      "let rec method1 (v0 : bool) : bool =\n",
      "    v0\n",
      "and method0 () : unit =\n",
      "    let v0 : string = \"\"\n",
      "    let v1 : string = \"1\"\n",
      "    let v2 : string = \"\\n\"\n",
      "    let v3 : string = v0 + v1 + v2 + \"\"\n",
      "    let v4 : string = \"2\"\n",
      "    let v5 : string = v3 + v4 + v2 + \"\"\n",
      "    let v6 : string = \"3\"\n",
      "    let v7 : string = v5 + v6 + v2 + \"\"\n",
      "    let v8 : string = $\"%A{v7}\"\n",
      "    System.Console.WriteLine v8\n",
      "    let v10 : bool = v7 = \"1\\n2\\n3\\n\"\n",
      "    let v12 : bool =\n",
      "        if v10 then\n",
      "            true\n",
      "        else\n",
      "            method1(v10)\n",
      "    let v13 : string = \"1\\n2\\n3\\n\"\n",
      "    let v14 : string = $\"__expect / actual: %A{v7} / expected: %A{v13}\"\n",
      "    let v15 : bool = v12 = false\n",
      "    if v15 then\n",
      "        failwith<unit> v14\n",
      "method0()\n",
      "\n",
      "\n",
      ".rs:\n",
      "#![allow(dead_code,)]\n",
      "#![allow(non_camel_case_types,)]\n",
      "#![allow(non_snake_case,)]\n",
      "#![allow(non_upper_case_globals,)]\n",
      "#![allow(unreachable_code,)]\n",
      "#![allow(unused_attributes,)]\n",
      "#![allow(unused_imports,)]\n",
      "#![allow(unused_macros,)]\n",
      "#![allow(unused_parens,)]\n",
      "#![allow(unused_variables,)]\n",
      "mod module_ccfa04bf {\n",
      "    pub mod Spiral_eval {\n",
      "        use super::*;\n",
      "        use fable_library_rust::Native_::on_startup;\n",
      "        use fable_library_rust::String_::printfn;\n",
      "        use fable_library_rust::String_::sprintf;\n",
      "        use fable_library_rust::String_::string;\n",
      "        pub fn method1(v0: bool) -> bool { v0 }\n",
      "        pub fn method0() {\n",
      "            let v7: string = string(\"1\\n2\\n3\\n\");\n",
      "            let v8: string = sprintf!(\"{:?}\", v7.clone());\n",
      "            printfn!(\"{0}\", v8);\n",
      "            {\n",
      "                let v10: bool = v7.clone() == string(\"1\\n2\\n3\\n\");\n",
      "                if (if v10 { true } else { Spiral_eval::method1(v10) }) ==\n",
      "                       false {\n",
      "                    panic!(\"{}\",\n",
      "                           sprintf!(\"__expect / actual: {:?} / expected: {:?}\", v7, string(\"1\\n2\\n3\\n\")));\n",
      "                }\n",
      "            }\n",
      "        }\n",
      "        on_startup!(Spiral_eval::method0());\n",
      "    }\n",
      "}\n",
      "pub use module_ccfa04bf::*;\n",
      "\n"
     ]
    }
   ],
   "source": [
    "// // test\n",
    "// // rust=\n",
    "\n",
    "[\n",
    "    \"1\"\n",
    "    \"2\"\n",
    "    \"3\"\n",
    "]\n",
    "|> fun x =>\n",
    "    inl code = (x : _) |> sm'.concat_list_trailing \"\\n\"\n",
    "    code\n",
    "    |> _assert_eq \"1\\n2\\n3\\n\""
   ]
  },
  {
   "cell_type": "markdown",
   "metadata": {},
   "source": [
    "## concat_list_heap_trailing"
   ]
  },
  {
   "cell_type": "code",
   "execution_count": null,
   "metadata": {
    "dotnet_interactive": {
     "language": "spiral"
    },
    "polyglot_notebook": {
     "kernelName": "spiral"
    }
   },
   "outputs": [
    {
     "name": "stdout",
     "output_type": "stream",
     "text": [
      "()\n",
      "\n"
     ]
    }
   ],
   "source": [
    "inl concat_list_heap_trailing separator input =\n",
    "    (\"\", input)\n",
    "    ||> listm.fold fun acc (x : string) =>\n",
    "        inl acc = acc |> to_std_string\n",
    "        inl x = x |> as_str\n",
    "        inl separator = separator |> as_str\n",
    "        !\\($'\"!acc + !x + !separator\"')\n",
    "        |> from_std_string"
   ]
  },
  {
   "cell_type": "code",
   "execution_count": null,
   "metadata": {
    "dotnet_interactive": {
     "language": "spiral"
    },
    "polyglot_notebook": {
     "kernelName": "spiral"
    }
   },
   "outputs": [
    {
     "data": {
      "text/plain": [
       ".rs output:\n",
       "\"1\n",
       "2\n",
       "3\n",
       "\"\n"
      ]
     },
     "metadata": {},
     "output_type": "display_data"
    },
    {
     "name": "stdout",
     "output_type": "stream",
     "text": [
      "\n",
      ".fsx:\n",
      "[<Fable.Core.Erase; Fable.Core.Emit(\"Func0<$0>\")>] type Func0<'T> = class end\n",
      "[<Fable.Core.Erase; Fable.Core.Emit(\"Func1<$0, $1>\")>] type Func0<'T, 'U> = class end\n",
      "[<Fable.Core.Erase; Fable.Core.Emit(\"Box<$0>\")>] type Box<'T> = class end\n",
      "[<Fable.Core.Erase; Fable.Core.Emit(\"dyn $0\")>] type Dyn<'T> = class end\n",
      "[<Fable.Core.Erase; Fable.Core.Emit(\"Fn() -> $0\")>] type Fn<'T> = class end\n",
      "[<Fable.Core.Erase; Fable.Core.Emit(\"Fn()\")>] type FnUnit = class end\n",
      "[<Fable.Core.Erase; Fable.Core.Emit(\"FnOnce() -> $0\")>] type FnOnce<'T> = class end\n",
      "[<Fable.Core.Erase; Fable.Core.Emit(\"Fn($0, $1)\")>] type ActionFn2<'T, 'U> = class end\n",
      "[<Fable.Core.Erase; Fable.Core.Emit(\"impl $0\")>] type Impl<'T> = class end\n",
      "[<Fable.Core.Erase; Fable.Core.Emit(\"mut $0\")>] type Mut<'T> = class end\n",
      "[<Fable.Core.Erase; Fable.Core.Emit(\"&$0\")>] type Ref<'T> = class end\n",
      "[<Fable.Core.Erase; Fable.Core.Emit(\"&'static $0\")>] type StaticRef<'T> = class end\n",
      "[<Fable.Core.Erase; Fable.Core.Emit(\"MutCell<$0>\")>] type MutCell<'T> = class end\n",
      "[<Fable.Core.Erase; Fable.Core.Emit(\"std::any::Any\")>] type std_any_Any = class end\n",
      "[<Fable.Core.Erase; Fable.Core.Emit(\"std::cell::RefCell<$0>\")>] type std_cell_RefCell<'T> = class end\n",
      "[<Fable.Core.Erase; Fable.Core.Emit(\"std::pin::Pin<$0>\")>] type std_pin_Pin<'T> = class end\n",
      "[<Fable.Core.Erase; Fable.Core.Emit(\"std::rc::Rc<$0>\")>] type std_rc_Rc<'T> = class end\n",
      "[<Fable.Core.Erase; Fable.Core.Emit(\"std::rc::Weak<$0>\")>] type std_rc_Weak<'T> = class end\n",
      "[<Fable.Core.Erase; Fable.Core.Emit(\"std::sync::Arc<$0>\")>] type std_sync_Arc<'T> = class end\n",
      "[<Fable.Core.Erase; Fable.Core.Emit(\"str\")>] type Str = class end\n",
      "[<Fable.Core.Erase; Fable.Core.Emit(\"base64::DecodeError\")>] type base64_DecodeError = class end\n",
      "[<Fable.Core.Erase; Fable.Core.Emit(\"borsh::io::Error\")>] type borsh_io_Error = class end\n",
      "[<Fable.Core.Erase; Fable.Core.Emit(\"js_sys::JsString\")>] type js_sys_JsString = class end\n",
      "[<Fable.Core.Erase; Fable.Core.Emit(\"serde_json::Error\")>] type serde_json_Error = class end\n",
      "[<Fable.Core.Erase; Fable.Core.Emit(\"serde_json::Value\")>] type serde_json_Value = class end\n",
      "[<Fable.Core.Erase; Fable.Core.Emit(\"serde_wasm_bindgen::Error\")>] type serde_wasm_bindgen_Error = class end\n",
      "[<Fable.Core.Erase; Fable.Core.Emit(\"std::str::Utf8Error\")>] type std_str_Utf8Error = class end\n",
      "[<Fable.Core.Erase; Fable.Core.Emit(\"std::string::String\")>] type std_string_String = class end\n",
      "let rec method1 () : string =\n",
      "    let v0 : string = \"\"\n",
      "    v0\n",
      "and method2 (v0 : string) : string =\n",
      "    v0\n",
      "and method3 () : string =\n",
      "    let v0 : string = \"1\"\n",
      "    v0\n",
      "and method4 () : string =\n",
      "    let v0 : string = \"\\n\"\n",
      "    v0\n",
      "and method5 (v0 : std_string_String) : std_string_String =\n",
      "    v0\n",
      "and method6 (v0 : string) : string =\n",
      "    v0\n",
      "and method7 () : string =\n",
      "    let v0 : string = \"2\"\n",
      "    v0\n",
      "and method8 () : string =\n",
      "    let v0 : string = \"3\"\n",
      "    v0\n",
      "and method9 (v0 : bool) : bool =\n",
      "    v0\n",
      "and method0 () : unit =\n",
      "    let v0 : string = method1()\n",
      "    let v1 : string = method2(v0)\n",
      "    let v2 : string = $\"fable_library_rust::String_::LrcStr::as_str(&v1)\"\n",
      "    let v3 : Ref<Str> = Fable.Core.RustInterop.emitRustExpr () v2\n",
      "    let v4 : string = \"String::from(v3)\"\n",
      "    let v5 : std_string_String = Fable.Core.RustInterop.emitRustExpr () v4\n",
      "    let v6 : string = method3()\n",
      "    let v7 : string = $\"fable_library_rust::String_::LrcStr::as_str(&v6)\"\n",
      "    let v8 : Ref<Str> = Fable.Core.RustInterop.emitRustExpr () v7\n",
      "    let v9 : string = method4()\n",
      "    let v10 : string = $\"fable_library_rust::String_::LrcStr::as_str(&v9)\"\n",
      "    let v11 : Ref<Str> = Fable.Core.RustInterop.emitRustExpr () v10\n",
      "    let v12 : string = \"v5 + v8 + v11\"\n",
      "    let v13 : std_string_String = Fable.Core.RustInterop.emitRustExpr () v12\n",
      "    let v14 : std_string_String = method5(v13)\n",
      "    let v15 : string = \"fable_library_rust::String_::fromString(v14)\"\n",
      "    let v16 : string = Fable.Core.RustInterop.emitRustExpr () v15\n",
      "    let v17 : string = method6(v16)\n",
      "    let v18 : string = method2(v17)\n",
      "    let v19 : string = $\"fable_library_rust::String_::LrcStr::as_str(&v18)\"\n",
      "    let v20 : Ref<Str> = Fable.Core.RustInterop.emitRustExpr () v19\n",
      "    let v21 : string = \"String::from(v20)\"\n",
      "    let v22 : std_string_String = Fable.Core.RustInterop.emitRustExpr () v21\n",
      "    let v23 : string = method7()\n",
      "    let v24 : string = $\"fable_library_rust::String_::LrcStr::as_str(&v23)\"\n",
      "    let v25 : Ref<Str> = Fable.Core.RustInterop.emitRustExpr () v24\n",
      "    let v26 : string = method4()\n",
      "    let v27 : string = $\"fable_library_rust::String_::LrcStr::as_str(&v26)\"\n",
      "    let v28 : Ref<Str> = Fable.Core.RustInterop.emitRustExpr () v27\n",
      "    let v29 : string = \"v22 + v25 + v28\"\n",
      "    let v30 : std_string_String = Fable.Core.RustInterop.emitRustExpr () v29\n",
      "    let v31 : std_string_String = method5(v30)\n",
      "    let v32 : string = \"fable_library_rust::String_::fromString(v31)\"\n",
      "    let v33 : string = Fable.Core.RustInterop.emitRustExpr () v32\n",
      "    let v34 : string = method6(v33)\n",
      "    let v35 : string = method2(v34)\n",
      "    let v36 : string = $\"fable_library_rust::String_::LrcStr::as_str(&v35)\"\n",
      "    let v37 : Ref<Str> = Fable.Core.RustInterop.emitRustExpr () v36\n",
      "    let v38 : string = \"String::from(v37)\"\n",
      "    let v39 : std_string_String = Fable.Core.RustInterop.emitRustExpr () v38\n",
      "    let v40 : string = method8()\n",
      "    let v41 : string = $\"fable_library_rust::String_::LrcStr::as_str(&v40)\"\n",
      "    let v42 : Ref<Str> = Fable.Core.RustInterop.emitRustExpr () v41\n",
      "    let v43 : string = method4()\n",
      "    let v44 : string = $\"fable_library_rust::String_::LrcStr::as_str(&v43)\"\n",
      "    let v45 : Ref<Str> = Fable.Core.RustInterop.emitRustExpr () v44\n",
      "    let v46 : string = \"v39 + v42 + v45\"\n",
      "    let v47 : std_string_String = Fable.Core.RustInterop.emitRustExpr () v46\n",
      "    let v48 : std_string_String = method5(v47)\n",
      "    let v49 : string = \"fable_library_rust::String_::fromString(v48)\"\n",
      "    let v50 : string = Fable.Core.RustInterop.emitRustExpr () v49\n",
      "    let v51 : string = $\"%A{v50}\"\n",
      "    System.Console.WriteLine v51\n",
      "    let v53 : bool = v50 = \"1\\n2\\n3\\n\"\n",
      "    let v55 : bool =\n",
      "        if v53 then\n",
      "            true\n",
      "        else\n",
      "            method9(v53)\n",
      "    let v56 : string = \"1\\n2\\n3\\n\"\n",
      "    let v57 : string = $\"__expect / actual: %A{v50} / expected: %A{v56}\"\n",
      "    let v58 : bool = v55 = false\n",
      "    if v58 then\n",
      "        failwith<unit> v57\n",
      "method0()\n",
      "\n",
      "\n",
      ".rs:\n",
      "#![allow(dead_code,)]\n",
      "#![allow(non_camel_case_types,)]\n",
      "#![allow(non_snake_case,)]\n",
      "#![allow(non_upper_case_globals,)]\n",
      "#![allow(unreachable_code,)]\n",
      "#![allow(unused_attributes,)]\n",
      "#![allow(unused_imports,)]\n",
      "#![allow(unused_macros,)]\n",
      "#![allow(unused_parens,)]\n",
      "#![allow(unused_variables,)]\n",
      "mod module_ccfa04bf {\n",
      "    pub mod Spiral_eval {\n",
      "        use super::*;\n",
      "        use fable_library_rust::Native_::on_startup;\n",
      "        use fable_library_rust::String_::printfn;\n",
      "        use fable_library_rust::String_::sprintf;\n",
      "        use fable_library_rust::String_::string;\n",
      "        pub fn method1() -> string { string(\"\") }\n",
      "        pub fn method2(v0: string) -> string { v0 }\n",
      "        pub fn method3() -> string { string(\"1\") }\n",
      "        pub fn method4() -> string { string(\"\\n\") }\n",
      "        pub fn method5(v0: std::string::String) -> std::string::String { v0 }\n",
      "        pub fn method6(v0: string) -> string { v0 }\n",
      "        pub fn method7() -> string { string(\"2\") }\n",
      "        pub fn method8() -> string { string(\"3\") }\n",
      "        pub fn method9(v0: bool) -> bool { v0 }\n",
      "        pub fn method0() {\n",
      "            let v1: string = Spiral_eval::method2(Spiral_eval::method1());\n",
      "            let v3: &str = fable_library_rust::String_::LrcStr::as_str(&v1);\n",
      "            let v5: std::string::String = String::from(v3);\n",
      "            let v6: string = Spiral_eval::method3();\n",
      "            let v8: &str = fable_library_rust::String_::LrcStr::as_str(&v6);\n",
      "            let v9: string = Spiral_eval::method4();\n",
      "            let v11: &str = fable_library_rust::String_::LrcStr::as_str(&v9);\n",
      "            let v14: std::string::String =\n",
      "                Spiral_eval::method5(v5 + v8 + v11);\n",
      "            let v18: string =\n",
      "                Spiral_eval::method2(Spiral_eval::method6(fable_library_rust::String_::fromString(v14)));\n",
      "            let v20: &str = fable_library_rust::String_::LrcStr::as_str(&v18);\n",
      "            let v22: std::string::String = String::from(v20);\n",
      "            let v23: string = Spiral_eval::method7();\n",
      "            let v25: &str = fable_library_rust::String_::LrcStr::as_str(&v23);\n",
      "            let v26: string = Spiral_eval::method4();\n",
      "            let v28: &str = fable_library_rust::String_::LrcStr::as_str(&v26);\n",
      "            let v31: std::string::String =\n",
      "                Spiral_eval::method5(v22 + v25 + v28);\n",
      "            let v35: string =\n",
      "                Spiral_eval::method2(Spiral_eval::method6(fable_library_rust::String_::fromString(v31)));\n",
      "            let v37: &str = fable_library_rust::String_::LrcStr::as_str(&v35);\n",
      "            let v39: std::string::String = String::from(v37);\n",
      "            let v40: string = Spiral_eval::method8();\n",
      "            let v42: &str = fable_library_rust::String_::LrcStr::as_str(&v40);\n",
      "            let v43: string = Spiral_eval::method4();\n",
      "            let v45: &str = fable_library_rust::String_::LrcStr::as_str(&v43);\n",
      "            let v48: std::string::String =\n",
      "                Spiral_eval::method5(v39 + v42 + v45);\n",
      "            let v50: string = fable_library_rust::String_::fromString(v48);\n",
      "            let v51: string = sprintf!(\"{:?}\", v50.clone());\n",
      "            printfn!(\"{0}\", v51);\n",
      "            {\n",
      "                let v53: bool = v50.clone() == string(\"1\\n2\\n3\\n\");\n",
      "                if (if v53 { true } else { Spiral_eval::method9(v53) }) ==\n",
      "                       false {\n",
      "                    panic!(\"{}\",\n",
      "                           sprintf!(\"__expect / actual: {:?} / expected: {:?}\", v50, string(\"1\\n2\\n3\\n\")));\n",
      "                }\n",
      "            }\n",
      "        }\n",
      "        on_startup!(Spiral_eval::method0());\n",
      "    }\n",
      "}\n",
      "pub use module_ccfa04bf::*;\n",
      "\n"
     ]
    }
   ],
   "source": [
    "// // test\n",
    "// // rust=\n",
    "\n",
    "types ()\n",
    "\n",
    "[\n",
    "    \"1\"\n",
    "    \"2\"\n",
    "    \"3\"\n",
    "]\n",
    "|> fun x =>\n",
    "    inl code = (x : _) |> sm'.concat_list_heap_trailing \"\\n\"\n",
    "    code\n",
    "    |> _assert_eq \"1\\n2\\n3\\n\""
   ]
  },
  {
   "cell_type": "markdown",
   "metadata": {},
   "source": [
    "## concat"
   ]
  },
  {
   "cell_type": "code",
   "execution_count": null,
   "metadata": {
    "dotnet_interactive": {
     "language": "spiral"
    },
    "polyglot_notebook": {
     "kernelName": "spiral"
    }
   },
   "outputs": [
    {
     "name": "stdout",
     "output_type": "stream",
     "text": [
      "()\n",
      "\n"
     ]
    }
   ],
   "source": [
    "inl concat (a : string) (b : seq.seq' _) : string =\n",
    "    $\"!b |> String.concat !a\""
   ]
  },
  {
   "cell_type": "markdown",
   "metadata": {},
   "source": [
    "## ellipsis"
   ]
  },
  {
   "cell_type": "code",
   "execution_count": null,
   "metadata": {
    "dotnet_interactive": {
     "language": "spiral"
    },
    "polyglot_notebook": {
     "kernelName": "spiral"
    }
   },
   "outputs": [
    {
     "name": "stdout",
     "output_type": "stream",
     "text": [
      "()\n",
      "\n"
     ]
    }
   ],
   "source": [
    "inl ellipsis (max : i32) (s : string) =\n",
    "    if sm.length s <= max\n",
    "    then s\n",
    "    else s |> slice 0 (max - 1) |> fun x => $'!x + \"...\"'"
   ]
  },
  {
   "cell_type": "code",
   "execution_count": null,
   "metadata": {
    "dotnet_interactive": {
     "language": "spiral"
    },
    "polyglot_notebook": {
     "kernelName": "spiral"
    }
   },
   "outputs": [
    {
     "name": "stdout",
     "output_type": "stream",
     "text": [
      "let rec method1 (v0 : bool) : bool =\n",
      "    v0\n",
      "and method0 () : unit =\n",
      "    let v0 : string = \"12\"\n",
      "    let v1 : string = v0 + \"...\"\n",
      "    let v2 : string = $\"%A{v1}\"\n",
      "    System.Console.WriteLine v2\n",
      "    let v4 : bool = v1 = \"12...\"\n",
      "    let v6 : bool =\n",
      "        if v4 then\n",
      "            true\n",
      "        else\n",
      "            method1(v4)\n",
      "    let v7 : string = \"12...\"\n",
      "    let v8 : string = $\"__expect / actual: %A{v1} / expected: %A{v7}\"\n",
      "    let v9 : bool = v6 = false\n",
      "    if v9 then\n",
      "        failwith<unit> v8\n",
      "    let v10 : string = \"1234\"\n",
      "    let v11 : string = v10 + \"...\"\n",
      "    let v12 : string = $\"%A{v11}\"\n",
      "    System.Console.WriteLine v12\n",
      "    let v14 : bool = v11 = \"1234...\"\n",
      "    let v16 : bool =\n",
      "        if v14 then\n",
      "            true\n",
      "        else\n",
      "            method1(v14)\n",
      "    let v17 : string = \"1234...\"\n",
      "    let v18 : string = $\"__expect / actual: %A{v11} / expected: %A{v17}\"\n",
      "    let v19 : bool = v16 = false\n",
      "    if v19 then\n",
      "        failwith<unit> v18\n",
      "method0()\n",
      "\n",
      "\"12...\"\n",
      "\"1234...\"\n"
     ]
    }
   ],
   "source": [
    "// // test\n",
    "\n",
    "\"12345\"\n",
    "|> ellipsis 2\n",
    "|> _assert_eq \"12...\"\n",
    "\n",
    "\"12345\"\n",
    "|> ellipsis 4\n",
    "|> _assert_eq \"1234...\""
   ]
  },
  {
   "cell_type": "markdown",
   "metadata": {},
   "source": [
    "## ellipsis_end"
   ]
  },
  {
   "cell_type": "code",
   "execution_count": null,
   "metadata": {
    "dotnet_interactive": {
     "language": "spiral"
    },
    "polyglot_notebook": {
     "kernelName": "spiral"
    }
   },
   "outputs": [
    {
     "name": "stdout",
     "output_type": "stream",
     "text": [
      "()\n",
      "\n"
     ]
    }
   ],
   "source": [
    "inl ellipsis_end (max : i64) (s : string) =\n",
    "    inl len = sm.length s\n",
    "    if len <= max\n",
    "    then s\n",
    "    else\n",
    "        inl half = f64 max / 2\n",
    "        inl start_half = half |> math.ceil |> i64\n",
    "        inl end_half = half |> math.floor |> i64\n",
    "        inl start = s |> slice 0 (start_half - 1)\n",
    "        inl end = s |> slice (len - end_half) (len - 1)\n",
    "        (a ;[start; \"...\"; end] : _ i32 _)\n",
    "        |> seq.of_array\n",
    "        |> concat \"\""
   ]
  },
  {
   "cell_type": "code",
   "execution_count": null,
   "metadata": {
    "dotnet_interactive": {
     "language": "spiral"
    },
    "polyglot_notebook": {
     "kernelName": "spiral"
    }
   },
   "outputs": [
    {
     "name": "stdout",
     "output_type": "stream",
     "text": [
      "let rec method1 (v0 : (string [])) : (string []) =\n",
      "    v0\n",
      "and method2 (v0 : bool) : bool =\n",
      "    v0\n",
      "and method0 () : unit =\n",
      "    let v0 : float = float 2L\n",
      "    let v1 : float = v0 / 2.0\n",
      "    let v2 : (float -> float) = ceil\n",
      "    let v3 : float = v2 v1\n",
      "    let v4 : int64 = int64 v3\n",
      "    let v5 : (float -> float) = floor\n",
      "    let v6 : float = v5 v1\n",
      "    let v7 : int64 = int64 v6\n",
      "    let v8 : int64 = v4 - 1L\n",
      "    let v9 : string = \"12345\".[int 0L..int v8]\n",
      "    let v10 : int64 = 5L - v7\n",
      "    let v11 : string = \"12345\".[int v10..int 4L]\n",
      "    let v12 : string = \"...\"\n",
      "    let v13 : (string []) = [|v9; v12; v11|]\n",
      "    let v14 : (string []) = method1(v13)\n",
      "    let v15 : ((string []) -> string seq) = Seq.ofArray\n",
      "    let v16 : string seq = v15 v14\n",
      "    let v17 : string = \"\"\n",
      "    let v18 : string = v16 |> String.concat v17\n",
      "    let v19 : string = $\"%A{v18}\"\n",
      "    System.Console.WriteLine v19\n",
      "    let v21 : bool = v18 = \"1...5\"\n",
      "    let v23 : bool =\n",
      "        if v21 then\n",
      "            true\n",
      "        else\n",
      "            method2(v21)\n",
      "    let v24 : string = \"1...5\"\n",
      "    let v25 : string = $\"__expect / actual: %A{v18} / expected: %A{v24}\"\n",
      "    let v26 : bool = v23 = false\n",
      "    if v26 then\n",
      "        failwith<unit> v25\n",
      "    let v27 : float = float 3L\n",
      "    let v28 : float = v27 / 2.0\n",
      "    let v29 : (float -> float) = ceil\n",
      "    let v30 : float = v29 v28\n",
      "    let v31 : int64 = int64 v30\n",
      "    let v32 : (float -> float) = floor\n",
      "    let v33 : float = v32 v28\n",
      "    let v34 : int64 = int64 v33\n",
      "    let v35 : int64 = v31 - 1L\n",
      "    let v36 : string = \"12345\".[int 0L..int v35]\n",
      "    let v37 : int64 = 5L - v34\n",
      "    let v38 : string = \"12345\".[int v37..int 4L]\n",
      "    let v39 : (string []) = [|v36; v12; v38|]\n",
      "    let v40 : (string []) = method1(v39)\n",
      "    let v41 : ((string []) -> string seq) = Seq.ofArray\n",
      "    let v42 : string seq = v41 v40\n",
      "    let v43 : string = v42 |> String.concat v17\n",
      "    let v44 : string = $\"%A{v43}\"\n",
      "    System.Console.WriteLine v44\n",
      "    let v46 : bool = v43 = \"12...5\"\n",
      "    let v48 : bool =\n",
      "        if v46 then\n",
      "            true\n",
      "        else\n",
      "            method2(v46)\n",
      "    let v49 : string = \"12...5\"\n",
      "    let v50 : string = $\"__expect / actual: %A{v43} / expected: %A{v49}\"\n",
      "    let v51 : bool = v48 = false\n",
      "    if v51 then\n",
      "        failwith<unit> v50\n",
      "    let v52 : float = float 4L\n",
      "    let v53 : float = v52 / 2.0\n",
      "    let v54 : (float -> float) = ceil\n",
      "    let v55 : float = v54 v53\n",
      "    let v56 : int64 = int64 v55\n",
      "    let v57 : (float -> float) = floor\n",
      "    let v58 : float = v57 v53\n",
      "    let v59 : int64 = int64 v58\n",
      "    let v60 : int64 = v56 - 1L\n",
      "    let v61 : string = \"1234567\".[int 0L..int v60]\n",
      "    let v62 : int64 = 7L - v59\n",
      "    let v63 : string = \"1234567\".[int v62..int 6L]\n",
      "    let v64 : (string []) = [|v61; v12; v63|]\n",
      "    let v65 : (string []) = method1(v64)\n",
      "    let v66 : ((string []) -> string seq) = Seq.ofArray\n",
      "    let v67 : string seq = v66 v65\n",
      "    let v68 : string = v67 |> String.concat v17\n",
      "    let v69 : string = $\"%A{v68}\"\n",
      "    System.Console.WriteLine v69\n",
      "    let v71 : bool = v68 = \"12...67\"\n",
      "    let v73 : bool =\n",
      "        if v71 then\n",
      "            true\n",
      "        else\n",
      "            method2(v71)\n",
      "    let v74 : string = \"12...67\"\n",
      "    let v75 : string = $\"__expect / actual: %A{v68} / expected: %A{v74}\"\n",
      "    let v76 : bool = v73 = false\n",
      "    if v76 then\n",
      "        failwith<unit> v75\n",
      "method0()\n",
      "\n",
      "\"1...5\"\n",
      "\"12...5\"\n",
      "\"12...67\"\n"
     ]
    }
   ],
   "source": [
    "// // test\n",
    "\n",
    "\"12345\"\n",
    "|> ellipsis_end 2\n",
    "|> _assert_eq \"1...5\"\n",
    "\n",
    "\"12345\"\n",
    "|> ellipsis_end 3\n",
    "|> _assert_eq \"12...5\"\n",
    "\n",
    "\"1234567\"\n",
    "|> ellipsis_end 4\n",
    "|> _assert_eq \"12...67\""
   ]
  },
  {
   "cell_type": "markdown",
   "metadata": {},
   "source": [
    "## format_ellipsis"
   ]
  },
  {
   "cell_type": "code",
   "execution_count": null,
   "metadata": {
    "dotnet_interactive": {
     "language": "spiral"
    },
    "polyglot_notebook": {
     "kernelName": "spiral"
    }
   },
   "outputs": [
    {
     "name": "stdout",
     "output_type": "stream",
     "text": [
      "()\n",
      "\n"
     ]
    }
   ],
   "source": [
    "inl format_ellipsis s =\n",
    "    s\n",
    "    |> format_debug\n",
    "    |> ellipsis_end 400"
   ]
  },
  {
   "cell_type": "markdown",
   "metadata": {},
   "source": [
    "## split"
   ]
  },
  {
   "cell_type": "code",
   "execution_count": null,
   "metadata": {
    "dotnet_interactive": {
     "language": "spiral"
    },
    "polyglot_notebook": {
     "kernelName": "spiral"
    }
   },
   "outputs": [
    {
     "name": "stdout",
     "output_type": "stream",
     "text": [
      "()\n",
      "\n"
     ]
    }
   ],
   "source": [
    "inl split (separator : string) (str : string) : array_base string =\n",
    "    $\"!str.Split !separator\""
   ]
  },
  {
   "cell_type": "markdown",
   "metadata": {},
   "source": [
    "## split_string"
   ]
  },
  {
   "cell_type": "code",
   "execution_count": null,
   "metadata": {
    "dotnet_interactive": {
     "language": "spiral"
    },
    "polyglot_notebook": {
     "kernelName": "spiral"
    }
   },
   "outputs": [
    {
     "name": "stdout",
     "output_type": "stream",
     "text": [
      "()\n",
      "\n"
     ]
    }
   ],
   "source": [
    "inl split_string (separator : array_base string) (str : string) : array_base string =\n",
    "    run_target function\n",
    "        | Fsharp (Native) => fun () => $\"!str.Split (!separator, System.StringSplitOptions.None)\"\n",
    "        | _ => fun () => str |> split ((a separator : _ i32 _) |> seq.of_array |> concat (join \"\"))"
   ]
  },
  {
   "cell_type": "markdown",
   "metadata": {},
   "source": [
    "## join'"
   ]
  },
  {
   "cell_type": "code",
   "execution_count": null,
   "metadata": {
    "dotnet_interactive": {
     "language": "spiral"
    },
    "polyglot_notebook": {
     "kernelName": "spiral"
    }
   },
   "outputs": [
    {
     "name": "stdout",
     "output_type": "stream",
     "text": [
      "()\n",
      "\n"
     ]
    }
   ],
   "source": [
    "inl join' (concat : string) (s : a i32 string) : string =\n",
    "    $\"System.String.Join (!concat, !s)\""
   ]
  },
  {
   "cell_type": "markdown",
   "metadata": {},
   "source": [
    "## to_char_array"
   ]
  },
  {
   "cell_type": "code",
   "execution_count": null,
   "metadata": {
    "dotnet_interactive": {
     "language": "spiral"
    },
    "polyglot_notebook": {
     "kernelName": "spiral"
    }
   },
   "outputs": [
    {
     "name": "stdout",
     "output_type": "stream",
     "text": [
      "()\n",
      "\n"
     ]
    }
   ],
   "source": [
    "inl to_char_array (str : string) : a i32 char =\n",
    "    am.init (str |> sm.length) (fun i => sm.index str i)"
   ]
  },
  {
   "cell_type": "code",
   "execution_count": null,
   "metadata": {
    "dotnet_interactive": {
     "language": "spiral"
    },
    "polyglot_notebook": {
     "kernelName": "spiral"
    }
   },
   "outputs": [
    {
     "name": "stdout",
     "output_type": "stream",
     "text": [
      "type Mut0 = {mutable l0 : int32}\n",
      "let rec method1 (v0 : Mut0) : bool =\n",
      "    let v1 : int32 = v0.l0\n",
      "    let v2 : bool = v1 < 3\n",
      "    v2\n",
      "and method2 (v0 : (char [])) : (char []) =\n",
      "    v0\n",
      "and method3 (v0 : (char []), v1 : (char []), v2 : int32) : bool =\n",
      "    let v3 : int32 = v0.Length\n",
      "    let v4 : bool = v2 < v3\n",
      "    if v4 then\n",
      "        let v5 : char = v0.[int v2]\n",
      "        let v6 : char = v1.[int v2]\n",
      "        let v7 : bool = v5 = v6\n",
      "        if v7 then\n",
      "            let v8 : int32 = v2 + 1\n",
      "            method3(v0, v1, v8)\n",
      "        else\n",
      "            false\n",
      "    else\n",
      "        true\n",
      "and method4 (v0 : bool) : bool =\n",
      "    v0\n",
      "and method0 () : unit =\n",
      "    let v0 : (char []) = Array.zeroCreate<char> (3)\n",
      "    let v1 : Mut0 = {l0 = 0} : Mut0\n",
      "    while method1(v1) do\n",
      "        let v3 : int32 = v1.l0\n",
      "        let v4 : char = \"abc\".[int v3]\n",
      "        v0.[int v3] <- v4\n",
      "        let v5 : int32 = v3 + 1\n",
      "        v1.l0 <- v5\n",
      "        ()\n",
      "    let v6 : (char []) = [|'a'; 'b'; 'c'|]\n",
      "    let v7 : (char []) = method2(v6)\n",
      "    let v8 : string = $\"%A{v0}\"\n",
      "    System.Console.WriteLine v8\n",
      "    let v9 : int32 = v0.Length\n",
      "    let v10 : int32 = v7.Length\n",
      "    let v11 : bool = v9 = v10\n",
      "    let v12 : bool = v11 <> true\n",
      "    let v15 : bool =\n",
      "        if v12 then\n",
      "            false\n",
      "        else\n",
      "            let v13 : int32 = 0\n",
      "            method3(v0, v7, v13)\n",
      "    let v17 : bool =\n",
      "        if v15 then\n",
      "            true\n",
      "        else\n",
      "            method4(v15)\n",
      "    let v18 : string = $\"__expect / actual: %A{v0} / expected: %A{v7}\"\n",
      "    let v19 : bool = v17 = false\n",
      "    if v19 then\n",
      "        failwith<unit> v18\n",
      "method0()\n",
      "\n",
      "[|'a'; 'b'; 'c'|]\n"
     ]
    }
   ],
   "source": [
    "// // test\n",
    "\n",
    "\"abc\"\n",
    "|> to_char_array\n",
    "|> _assert_eq (a ;['a'; 'b'; 'c'])"
   ]
  },
  {
   "cell_type": "markdown",
   "metadata": {},
   "source": [
    "## to_char_list"
   ]
  },
  {
   "cell_type": "code",
   "execution_count": null,
   "metadata": {
    "dotnet_interactive": {
     "language": "spiral"
    },
    "polyglot_notebook": {
     "kernelName": "spiral"
    }
   },
   "outputs": [
    {
     "name": "stdout",
     "output_type": "stream",
     "text": [
      "()\n",
      "\n"
     ]
    }
   ],
   "source": [
    "inl to_char_list (str : string) : list char =\n",
    "    listm.init (str |> sm.length) (fun (i : i64) => sm.index str i)"
   ]
  },
  {
   "cell_type": "code",
   "execution_count": null,
   "metadata": {
    "dotnet_interactive": {
     "language": "spiral"
    },
    "polyglot_notebook": {
     "kernelName": "spiral"
    }
   },
   "outputs": [
    {
     "name": "stdout",
     "output_type": "stream",
     "text": [
      "type UH0 =\n",
      "    | UH0_0 of char * UH0\n",
      "    | UH0_1\n",
      "let rec method0 () : unit =\n",
      "    let v0 : UH0 = UH0_1\n",
      "    let v1 : UH0 = UH0_0('c', v0)\n",
      "    let v2 : UH0 = UH0_0('b', v1)\n",
      "    let v3 : UH0 = UH0_0('a', v2)\n",
      "    let v4 : string = $\"%A{v3}\"\n",
      "    System.Console.WriteLine v4\n",
      "    let v23 : UH0 = UH0_1\n",
      "    let v24 : UH0 = UH0_0('c', v23)\n",
      "    let v25 : UH0 = UH0_0('b', v24)\n",
      "    let v26 : UH0 = UH0_0('a', v25)\n",
      "    let v27 : UH0 = UH0_1\n",
      "    let v28 : UH0 = UH0_0('c', v27)\n",
      "    let v29 : UH0 = UH0_0('b', v28)\n",
      "    let v30 : UH0 = UH0_0('a', v29)\n",
      "    let v31 : string = $\"__expect / actual: %A{v26} / expected: %A{v30}\"\n",
      "    ()\n",
      "method0()\n",
      "\n",
      "UH0_0 ('a', UH0_0 ('b', UH0_0 ('c', UH0_1)))\n"
     ]
    }
   ],
   "source": [
    "// // test\n",
    "\n",
    "\"abc\"\n",
    "|> to_char_list\n",
    "|> _assert_eq ['a'; 'b'; 'c']"
   ]
  },
  {
   "cell_type": "markdown",
   "metadata": {},
   "source": [
    "## to_string std_string"
   ]
  },
  {
   "cell_type": "code",
   "execution_count": null,
   "metadata": {
    "dotnet_interactive": {
     "language": "spiral"
    },
    "polyglot_notebook": {
     "kernelName": "spiral"
    }
   },
   "outputs": [
    {
     "name": "stdout",
     "output_type": "stream",
     "text": [
      "()\n",
      "\n"
     ]
    }
   ],
   "source": [
    "open rust\n",
    "instance to_string std_string = from_std_string"
   ]
  },
  {
   "cell_type": "markdown",
   "metadata": {},
   "source": [
    "## main"
   ]
  },
  {
   "cell_type": "code",
   "execution_count": null,
   "metadata": {
    "dotnet_interactive": {
     "language": "spiral"
    },
    "polyglot_notebook": {
     "kernelName": "spiral"
    }
   },
   "outputs": [
    {
     "name": "stdout",
     "output_type": "stream",
     "text": [
      "type Mut0 = {mutable l0 : int32; mutable l1 : string}\n",
      "and Mut1 = {mutable l0 : int32}\n",
      "let rec closure1 (v0 : string) (v1 : string) : bool =\n",
      "    let v2 : bool = v1.Contains v0\n",
      "    v2\n",
      "and closure0 () (v0 : string) : (string -> bool) =\n",
      "    closure1(v0)\n",
      "and closure3 (v0 : string) (v1 : string) : bool =\n",
      "    let v2 : bool = v1.EndsWith v0\n",
      "    v2\n",
      "and closure2 () (v0 : string) : (string -> bool) =\n",
      "    closure3(v0)\n",
      "and closure6 (v0 : int32, v1 : char) (v2 : string) : string =\n",
      "    let v3 : string = v2.PadLeft (v0, v1)\n",
      "    v3\n",
      "and closure5 (v0 : int32) (v1 : char) : (string -> string) =\n",
      "    closure6(v0, v1)\n",
      "and closure4 () (v0 : int32) : (char -> (string -> string)) =\n",
      "    closure5(v0)\n",
      "and closure8 (v0 : int32) (v1 : string) : string =\n",
      "    let v2 : string = v1.PadRight v0\n",
      "    v2\n",
      "and closure7 () (v0 : int32) : (string -> string) =\n",
      "    closure8(v0)\n",
      "and closure11 (v0 : string, v1 : string) (v2 : string) : string =\n",
      "    let v3 : string = v2.Replace (v0, v1)\n",
      "    v3\n",
      "and closure10 (v0 : string) (v1 : string) : (string -> string) =\n",
      "    closure11(v0, v1)\n",
      "and closure9 () (v0 : string) : (string -> (string -> string)) =\n",
      "    closure10(v0)\n",
      "and closure14 (v0 : int32, v1 : int32) (v2 : string) : string =\n",
      "    let v3 : string = v2.[int v0..int v1]\n",
      "    v3\n",
      "and closure13 (v0 : int32) (v1 : int32) : (string -> string) =\n",
      "    closure14(v0, v1)\n",
      "and closure12 () (v0 : int32) : (int32 -> (string -> string)) =\n",
      "    closure13(v0)\n",
      "and closure16 (v0 : string) (v1 : string) : (string []) =\n",
      "    let v2 : (string []) = v1.Split v0\n",
      "    v2\n",
      "and closure15 () (v0 : string) : (string -> (string [])) =\n",
      "    closure16(v0)\n",
      "and method0 () : string =\n",
      "    let v0 : string = \"\"\n",
      "    v0\n",
      "and closure18 (v0 : (string [])) (v1 : string) : (string []) =\n",
      "    let mutable result = None\n",
      "    #if FABLE_COMPILER_RUST && !WASM\n",
      "    let v2 : ((string []) -> string seq) = Seq.ofArray\n",
      "    let v3 : string seq = v2 v0\n",
      "    let v4 : string = method0()\n",
      "    let v5 : string = v3 |> String.concat v4\n",
      "    let v6 : (string []) = v1.Split v5\n",
      "    v6\n",
      "    #endif\n",
      "    #if FABLE_COMPILER_RUST && WASM\n",
      "    let v7 : ((string []) -> string seq) = Seq.ofArray\n",
      "    let v8 : string seq = v7 v0\n",
      "    let v9 : string = method0()\n",
      "    let v10 : string = v8 |> String.concat v9\n",
      "    let v11 : (string []) = v1.Split v10\n",
      "    v11\n",
      "    #endif\n",
      "    #if !FABLE_COMPILER && !FABLE_COMPILER_RUST && !WASM\n",
      "    let v12 : (string []) = v1.Split (v0, System.StringSplitOptions.None)\n",
      "    v12\n",
      "    #endif\n",
      "    #if FABLE_COMPILER && !FABLE_COMPILER_RUST && !WASM\n",
      "    let v13 : ((string []) -> string seq) = Seq.ofArray\n",
      "    let v14 : string seq = v13 v0\n",
      "    let v15 : string = method0()\n",
      "    let v16 : string = v14 |> String.concat v15\n",
      "    let v17 : (string []) = v1.Split v16\n",
      "    v17\n",
      "    #endif\n",
      "    #if !FABLE_COMPILER_RUST && WASM\n",
      "    let v18 : ((string []) -> string seq) = Seq.ofArray\n",
      "    let v19 : string seq = v18 v0\n",
      "    let v20 : string = method0()\n",
      "    let v21 : string = v19 |> String.concat v20\n",
      "    let v22 : (string []) = v1.Split v21\n",
      "    v22\n",
      "    #endif\n",
      "    |> fun x -> result <- Some x\n",
      "    let v23 : (string []) = result |> Option.get\n",
      "    v23\n",
      "and closure17 () (v0 : (string [])) : (string -> (string [])) =\n",
      "    closure18(v0)\n",
      "and closure20 (v0 : string) (v1 : string) : bool =\n",
      "    let v2 : bool = v1.StartsWith v0\n",
      "    v2\n",
      "and closure19 () (v0 : string) : (string -> bool) =\n",
      "    closure20(v0)\n",
      "and closure23 (v0 : int32, v1 : int32) (v2 : string) : string =\n",
      "    let v3 : string = v2.Substring (v0, v1)\n",
      "    v3\n",
      "and closure22 (v0 : int32) (v1 : int32) : (string -> string) =\n",
      "    closure23(v0, v1)\n",
      "and closure21 () (v0 : int32) : (int32 -> (string -> string)) =\n",
      "    closure22(v0)\n",
      "and closure24 () (v0 : string) : string =\n",
      "    let v1 : string = v0.ToLower ()\n",
      "    v1\n",
      "and closure25 () (v0 : string) : string =\n",
      "    let v1 : string = v0.ToUpper ()\n",
      "    v1\n",
      "and closure26 () (v0 : string) : string =\n",
      "    let v1 : string = v0.Trim ()\n",
      "    v1\n",
      "and closure28 (v0 : (char [])) (v1 : string) : string =\n",
      "    let v2 : string = v1.TrimEnd v0\n",
      "    v2\n",
      "and closure27 () (v0 : (char [])) : (string -> string) =\n",
      "    closure28(v0)\n",
      "and closure30 (v0 : (char [])) (v1 : string) : string =\n",
      "    let v2 : string = v1.TrimStart v0\n",
      "    v2\n",
      "and closure29 () (v0 : (char [])) : (string -> string) =\n",
      "    closure30(v0)\n",
      "and closure32 (v0 : int32) (v1 : string) : string =\n",
      "    let v2 : int32 = v1.Length\n",
      "    let v3 : bool = v2 <= v0\n",
      "    if v3 then\n",
      "        v1\n",
      "    else\n",
      "        let v4 : int32 = v0 - 1\n",
      "        let v5 : string = v1.[int 0..int v4]\n",
      "        let v6 : string = v5 + \"...\"\n",
      "        v6\n",
      "and closure31 () (v0 : int32) : (string -> string) =\n",
      "    closure32(v0)\n",
      "and method1 (v0 : (string [])) : (string []) =\n",
      "    v0\n",
      "and closure34 (v0 : int64) (v1 : string) : string =\n",
      "    let v2 : int64 = System.Convert.ToInt64 v1.Length\n",
      "    let v3 : bool = v2 <= v0\n",
      "    if v3 then\n",
      "        v1\n",
      "    else\n",
      "        let v4 : float = float v0\n",
      "        let v5 : float = v4 / 2.0\n",
      "        let v6 : (float -> float) = ceil\n",
      "        let v7 : float = v6 v5\n",
      "        let v8 : int64 = int64 v7\n",
      "        let v9 : (float -> float) = floor\n",
      "        let v10 : float = v9 v5\n",
      "        let v11 : int64 = int64 v10\n",
      "        let v12 : int64 = v8 - 1L\n",
      "        let v13 : string = v1.[int 0L..int v12]\n",
      "        let v14 : int64 = v2 - v11\n",
      "        let v15 : int64 = v2 - 1L\n",
      "        let v16 : string = v1.[int v14..int v15]\n",
      "        let v17 : string = \"...\"\n",
      "        let v18 : (string []) = [|v13; v17; v16|]\n",
      "        let v19 : (string []) = method1(v18)\n",
      "        let v20 : ((string []) -> string seq) = Seq.ofArray\n",
      "        let v21 : string seq = v20 v19\n",
      "        let v22 : string = \"\"\n",
      "        let v23 : string = v21 |> String.concat v22\n",
      "        v23\n",
      "and closure33 () (v0 : int64) : (string -> string) =\n",
      "    closure34(v0)\n",
      "and closure35 () (v0 : exn) : string =\n",
      "    let mutable result = None\n",
      "    #if FABLE_COMPILER_RUST && !WASM\n",
      "    let v1 : string = $\"%A{v0}\"\n",
      "    v1\n",
      "    #endif\n",
      "    #if FABLE_COMPILER_RUST && WASM\n",
      "    let v2 : string = $\"%A{v0}\"\n",
      "    v2\n",
      "    #endif\n",
      "    #if !FABLE_COMPILER && !FABLE_COMPILER_RUST && !WASM\n",
      "    let v3 : string = $\"{v0.GetType ()}: {v0.Message}\"\n",
      "    v3\n",
      "    #endif\n",
      "    #if FABLE_COMPILER && !FABLE_COMPILER_RUST && !WASM\n",
      "    let v4 : string = $\"%A{v0}\"\n",
      "    v4\n",
      "    #endif\n",
      "    #if !FABLE_COMPILER_RUST && WASM\n",
      "    let v5 : string = $\"%A{v0}\"\n",
      "    v5\n",
      "    #endif\n",
      "    |> fun x -> result <- Some x\n",
      "    let v6 : string = result |> Option.get\n",
      "    v6\n",
      "and method2 (v0 : int32, v1 : Mut0) : bool =\n",
      "    let v2 : int32 = v1.l0\n",
      "    let v3 : bool = v2 < v0\n",
      "    v3\n",
      "and closure37 (v0 : string) (v1 : (string [])) : string =\n",
      "    let v2 : int32 = v1.Length\n",
      "    let v3 : string = \"\"\n",
      "    let v4 : Mut0 = {l0 = 0; l1 = v3} : Mut0\n",
      "    while method2(v2, v4) do\n",
      "        let v6 : int32 = v4.l0\n",
      "        let v7 : string = v4.l1\n",
      "        let v8 : string = v1.[int v6]\n",
      "        let v9 : string = v7 + v8 + v0 + \"\"\n",
      "        let v10 : int32 = v6 + 1\n",
      "        v4.l0 <- v10\n",
      "        v4.l1 <- v9\n",
      "        ()\n",
      "    let v11 : string = v4.l1\n",
      "    v11\n",
      "and closure36 () (v0 : string) : ((string []) -> string) =\n",
      "    closure37(v0)\n",
      "and closure39 (v0 : string) (v1 : string seq) : string =\n",
      "    let v2 : string = v1 |> String.concat v0\n",
      "    v2\n",
      "and closure38 () (v0 : string) : (string seq -> string) =\n",
      "    closure39(v0)\n",
      "and closure41 (v0 : string) (v1 : (string [])) : string =\n",
      "    let v2 : string = System.String.Join (v0, v1)\n",
      "    v2\n",
      "and closure40 () (v0 : string) : ((string []) -> string) =\n",
      "    closure41(v0)\n",
      "and method3 (v0 : int32, v1 : Mut1) : bool =\n",
      "    let v2 : int32 = v1.l0\n",
      "    let v3 : bool = v2 < v0\n",
      "    v3\n",
      "and closure42 () (v0 : string) : (char []) =\n",
      "    let v1 : int32 = v0.Length\n",
      "    let v2 : (char []) = Array.zeroCreate<char> (v1)\n",
      "    let v3 : Mut1 = {l0 = 0} : Mut1\n",
      "    while method3(v1, v3) do\n",
      "        let v5 : int32 = v3.l0\n",
      "        let v6 : char = v0.[int v5]\n",
      "        v2.[int v5] <- v6\n",
      "        let v7 : int32 = v5 + 1\n",
      "        v3.l0 <- v7\n",
      "        ()\n",
      "    v2\n",
      "let v0 : (string -> (string -> bool)) = closure0()\n",
      "let contains x = v0 x\n",
      "let v1 : (string -> (string -> bool)) = closure2()\n",
      "let ends_with x = v1 x\n",
      "let v2 : (int32 -> (char -> (string -> string))) = closure4()\n",
      "let pad_left x = v2 x\n",
      "let v3 : (int32 -> (string -> string)) = closure7()\n",
      "let pad_right x = v3 x\n",
      "let v4 : (string -> (string -> (string -> string))) = closure9()\n",
      "let replace x = v4 x\n",
      "let v5 : (int32 -> (int32 -> (string -> string))) = closure12()\n",
      "let slice x = v5 x\n",
      "let v6 : (string -> (string -> (string []))) = closure15()\n",
      "let split x = v6 x\n",
      "let v7 : ((string []) -> (string -> (string []))) = closure17()\n",
      "let split_string x = v7 x\n",
      "let v8 : (string -> (string -> bool)) = closure19()\n",
      "let starts_with x = v8 x\n",
      "let v9 : (int32 -> (int32 -> (string -> string))) = closure21()\n",
      "let substring x = v9 x\n",
      "let v10 : (string -> string) = closure24()\n",
      "let to_lower x = v10 x\n",
      "let v11 : (string -> string) = closure25()\n",
      "let to_upper x = v11 x\n",
      "let v12 : (string -> string) = closure26()\n",
      "let trim x = v12 x\n",
      "let v13 : ((char []) -> (string -> string)) = closure27()\n",
      "let trim_end x = v13 x\n",
      "let v14 : ((char []) -> (string -> string)) = closure29()\n",
      "let trim_start x = v14 x\n",
      "let v15 : (int32 -> (string -> string)) = closure31()\n",
      "let ellipsis x = v15 x\n",
      "let v16 : (int64 -> (string -> string)) = closure33()\n",
      "let ellipsis_end x = v16 x\n",
      "let v17 : (exn -> string) = closure35()\n",
      "let format_exception x = v17 x\n",
      "let v18 : (string -> ((string []) -> string)) = closure36()\n",
      "let concat_array_trailing x = v18 x\n",
      "let v19 : (string -> (string seq -> string)) = closure38()\n",
      "let concat x = v19 x\n",
      "let v20 : (string -> ((string []) -> string)) = closure40()\n",
      "let join' x = v20 x\n",
      "let v21 : (string -> (char [])) = closure42()\n",
      "let to_char_array x = v21 x\n",
      "()\n",
      "\n"
     ]
    }
   ],
   "source": [
    "inl main () =\n",
    "    $\"let contains x = !contains x\" : ()\n",
    "    $\"let ends_with x = !ends_with x\" : ()\n",
    "    $\"let pad_left x = !pad_left x\" : ()\n",
    "    $\"let pad_right x = !pad_right x\" : ()\n",
    "    $\"let replace x = !replace x\" : ()\n",
    "    inl slice (a : i32) (b : i32) c = slice a b c\n",
    "    $\"let slice x = !slice x\" : ()\n",
    "    $\"let split x = !split x\" : ()\n",
    "    $\"let split_string x = !split_string x\" : ()\n",
    "    $\"let starts_with x = !starts_with x\" : ()\n",
    "    $\"let substring x = !substring x\" : ()\n",
    "    $\"let to_lower x = !to_lower x\" : ()\n",
    "    $\"let to_upper x = !to_upper x\" : ()\n",
    "    $\"let trim x = !trim x\" : ()\n",
    "    $\"let trim_end x = !trim_end x\" : ()\n",
    "    $\"let trim_start x = !trim_start x\" : ()\n",
    "    $\"let ellipsis x = !ellipsis x\" : ()\n",
    "    $\"let ellipsis_end x = !ellipsis_end x\" : ()\n",
    "    $\"let format_exception x = !format_exception x\" : ()\n",
    "    $\"let concat_array_trailing x = !concat_array_trailing x\" : ()\n",
    "    inl concat a (b : seq.seq' string) = concat a b\n",
    "    $\"let concat x = !concat x\" : ()\n",
    "    $\"let join' x = !join' x\" : ()\n",
    "    $\"let to_char_array x = !to_char_array x\" : ()"
   ]
  }
 ],
 "metadata": {},
 "nbformat": 4,
 "nbformat_minor": 5
}