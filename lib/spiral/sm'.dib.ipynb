{
 "cells": [
  {
   "cell_type": "markdown",
   "metadata": {},
   "source": [
    "# sm'"
   ]
  },
  {
   "cell_type": "code",
   "execution_count": null,
   "metadata": {
    "dotnet_interactive": {
     "language": "spiral"
    },
    "polyglot_notebook": {
     "kernelName": "spiral"
    }
   },
   "outputs": [],
   "source": [
    "//// test\n",
    "\n",
    "open testing"
   ]
  },
  {
   "cell_type": "code",
   "execution_count": null,
   "metadata": {
    "dotnet_interactive": {
     "language": "spiral"
    },
    "polyglot_notebook": {
     "kernelName": "spiral"
    }
   },
   "outputs": [],
   "source": [
    "open rust\n",
    "open rust_operators\n",
    "open sm'_real"
   ]
  },
  {
   "cell_type": "markdown",
   "metadata": {},
   "source": [
    "## rust"
   ]
  },
  {
   "cell_type": "markdown",
   "metadata": {},
   "source": [
    "### std_string"
   ]
  },
  {
   "cell_type": "code",
   "execution_count": null,
   "metadata": {
    "dotnet_interactive": {
     "language": "spiral"
    },
    "polyglot_notebook": {
     "kernelName": "spiral"
    }
   },
   "outputs": [],
   "source": [
    "//// real\n",
    "\n",
    "nominal std_string =\n",
    "    `(\n",
    "        backend_switch `(()) `({}) {\n",
    "            Fsharp =\n",
    "                (fun () =>\n",
    "                    global \"#if FABLE_COMPILER\\n[<Fable.Core.Erase; Fable.Core.Emit(\\\"std::string::String\\\")>]\\ntype std_string_String = class end\\n#else\\ntype std_string_String = string\\n#endif\\n\"\n",
    "                ) : () -> ()\n",
    "        }\n",
    "        $'' : $'std_string_String'\n",
    "    )"
   ]
  },
  {
   "cell_type": "code",
   "execution_count": null,
   "metadata": {
    "dotnet_interactive": {
     "language": "spiral"
    },
    "polyglot_notebook": {
     "kernelName": "spiral"
    }
   },
   "outputs": [],
   "source": [
    "type std_string = sm'_real.std_string"
   ]
  },
  {
   "cell_type": "markdown",
   "metadata": {},
   "source": [
    "### to_string'"
   ]
  },
  {
   "cell_type": "code",
   "execution_count": null,
   "metadata": {
    "dotnet_interactive": {
     "language": "spiral"
    },
    "polyglot_notebook": {
     "kernelName": "spiral"
    }
   },
   "outputs": [],
   "source": [
    "inl to_string' forall t. (x : t) : std_string =\n",
    "    !\\($'$\"!x.to_string()\"')"
   ]
  },
  {
   "cell_type": "markdown",
   "metadata": {},
   "source": [
    "### from_std_string"
   ]
  },
  {
   "cell_type": "code",
   "execution_count": null,
   "metadata": {
    "dotnet_interactive": {
     "language": "spiral"
    },
    "polyglot_notebook": {
     "kernelName": "spiral"
    }
   },
   "outputs": [],
   "source": [
    "//// real\n",
    "\n",
    "inl from_std_string (str : std_string) : string =\n",
    "    open rust\n",
    "    rust.emit_expr `std_string `string str ($'\"fable_library_rust::String_::fromString($0)\"' : string)"
   ]
  },
  {
   "cell_type": "code",
   "execution_count": null,
   "metadata": {
    "dotnet_interactive": {
     "language": "spiral"
    },
    "polyglot_notebook": {
     "kernelName": "spiral"
    }
   },
   "outputs": [],
   "source": [
    "inl from_std_string (str : std_string) : string =\n",
    "    real sm'_real.from_std_string str"
   ]
  },
  {
   "cell_type": "markdown",
   "metadata": {},
   "source": [
    "## sm'"
   ]
  },
  {
   "cell_type": "markdown",
   "metadata": {},
   "source": [
    "### symbol_to_string"
   ]
  },
  {
   "cell_type": "code",
   "execution_count": null,
   "metadata": {
    "dotnet_interactive": {
     "language": "spiral"
    },
    "polyglot_notebook": {
     "kernelName": "spiral"
    }
   },
   "outputs": [],
   "source": [
    "//// real\n",
    "\n",
    "inl symbol_to_string forall t {symbol}. : string =\n",
    "    // inl x = real_core.type_lit_to_lit `t\n",
    "    // inl x = real_core.type_to_symbol `t\n",
    "    // inl x = real_core.type_lit_to_lit `t\n",
    "    // !!!!SymbolToString (`(`t))\n",
    "    inl x = real_core.type_to_symbol `t\n",
    "    !!!!SymbolToString (x)"
   ]
  },
  {
   "cell_type": "code",
   "execution_count": null,
   "metadata": {
    "dotnet_interactive": {
     "language": "spiral"
    },
    "polyglot_notebook": {
     "kernelName": "spiral"
    }
   },
   "outputs": [],
   "source": [
    "inl symbol_to_string forall t {symbol}. (x : t) : string =\n",
    "    real symbol_to_string `t"
   ]
  },
  {
   "cell_type": "code",
   "execution_count": null,
   "metadata": {
    "dotnet_interactive": {
     "language": "spiral"
    },
    "polyglot_notebook": {
     "kernelName": "spiral"
    }
   },
   "outputs": [
    {
     "data": {
      "text/plain": [
       ".py output (Cuda):\n",
       "__assert_eq / actual: test / expected: test\n",
       "\n"
      ]
     },
     "metadata": {},
     "output_type": "display_data"
    },
    {
     "name": "stdout",
     "output_type": "stream",
     "text": [
      ".fsx output:\n",
      "__assert_eq / actual: \"test\" / expected: \"test\"\n"
     ]
    }
   ],
   "source": [
    "//// test\n",
    "///! fsharp\n",
    "///! cuda\n",
    "\n",
    ".test\n",
    "|> symbol_to_string\n",
    "|> _assert_eq \"test\""
   ]
  },
  {
   "cell_type": "code",
   "execution_count": null,
   "metadata": {
    "dotnet_interactive": {
     "language": "spiral"
    },
    "polyglot_notebook": {
     "kernelName": "spiral"
    }
   },
   "outputs": [
    {
     "data": {
      "text/plain": [
       ".py output (Cuda):\n",
       "__assert_eq / actual: test / expected: test\n",
       "\n"
      ]
     },
     "metadata": {},
     "output_type": "display_data"
    },
    {
     "name": "stdout",
     "output_type": "stream",
     "text": [
      ".fsx output:\n",
      "__assert_eq / actual: \"test\" / expected: \"test\"\n"
     ]
    }
   ],
   "source": [
    "//// test\n",
    "//// real\n",
    "///! fsharp\n",
    "///! cuda\n",
    "\n",
    "open testing\n",
    "inl x = .test\n",
    "inl x = symbol_to_string `(`x)\n",
    "_assert_eq `string \"test\" x"
   ]
  },
  {
   "cell_type": "markdown",
   "metadata": {},
   "source": [
    "### index"
   ]
  },
  {
   "cell_type": "code",
   "execution_count": null,
   "metadata": {
    "dotnet_interactive": {
     "language": "spiral"
    },
    "polyglot_notebook": {
     "kernelName": "spiral"
    }
   },
   "outputs": [],
   "source": [
    "inl index i (str : string) : char =\n",
    "    sm.index str i"
   ]
  },
  {
   "cell_type": "markdown",
   "metadata": {},
   "source": [
    "### length"
   ]
  },
  {
   "cell_type": "code",
   "execution_count": null,
   "metadata": {
    "dotnet_interactive": {
     "language": "spiral"
    },
    "polyglot_notebook": {
     "kernelName": "spiral"
    }
   },
   "outputs": [],
   "source": [
    "inl length forall dim {int}. (input : string) : dim =\n",
    "    input |> sm.length"
   ]
  },
  {
   "cell_type": "code",
   "execution_count": null,
   "metadata": {
    "dotnet_interactive": {
     "language": "spiral"
    },
    "polyglot_notebook": {
     "kernelName": "spiral"
    }
   },
   "outputs": [
    {
     "data": {
      "text/plain": [
       ".py output (Cuda):\n",
       "__assert_eq / actual: 3 / expected: 3\n",
       "\n"
      ]
     },
     "metadata": {},
     "output_type": "display_data"
    },
    {
     "name": "stdout",
     "output_type": "stream",
     "text": [
      ".fsx output:\n",
      "__assert_eq / actual: 3 / expected: 3\n"
     ]
    }
   ],
   "source": [
    "//// test\n",
    "///! fsharp\n",
    "///! cuda\n",
    "\n",
    "\"abc\"\n",
    "|> length\n",
    "|> _assert_eq 3i32"
   ]
  },
  {
   "cell_type": "markdown",
   "metadata": {},
   "source": [
    "### to_char_array"
   ]
  },
  {
   "cell_type": "code",
   "execution_count": null,
   "metadata": {
    "dotnet_interactive": {
     "language": "spiral"
    },
    "polyglot_notebook": {
     "kernelName": "spiral"
    }
   },
   "outputs": [],
   "source": [
    "inl to_char_array (str : string) : array_base char =\n",
    "    am.init (str |> length) (fun i => str |> index i)\n",
    "    |> fun (a x : _ int _) => x"
   ]
  },
  {
   "cell_type": "code",
   "execution_count": null,
   "metadata": {
    "dotnet_interactive": {
     "language": "spiral"
    },
    "polyglot_notebook": {
     "kernelName": "spiral"
    }
   },
   "outputs": [
    {
     "data": {
      "text/plain": [
       ".py output (Cuda):\n",
       "__assert_eq / actual: ['a' 'b' 'c'] / expected: ['a' 'b' 'c']\n",
       "\n"
      ]
     },
     "metadata": {},
     "output_type": "display_data"
    },
    {
     "name": "stdout",
     "output_type": "stream",
     "text": [
      ".fsx output:\n",
      "__assert_eq / actual: \"[|'a'; 'b'; 'c'|]\" / expected: \"[|'a'; 'b'; 'c'|]\"\n"
     ]
    }
   ],
   "source": [
    "//// test\n",
    "///! fsharp\n",
    "///! cuda\n",
    "\n",
    "\"abc\"\n",
    "|> to_char_array\n",
    "|> sm'.format\n",
    "|> _assert_eq (;[ 'a'; 'b'; 'c' ] |> sm'.format)"
   ]
  },
  {
   "cell_type": "markdown",
   "metadata": {},
   "source": [
    "### to_char_list"
   ]
  },
  {
   "cell_type": "code",
   "execution_count": null,
   "metadata": {
    "dotnet_interactive": {
     "language": "spiral"
    },
    "polyglot_notebook": {
     "kernelName": "spiral"
    }
   },
   "outputs": [],
   "source": [
    "inl to_char_list (str : string) : list char =\n",
    "    listm.init (str |> length) (fun (i : i64) => str |> index i)"
   ]
  },
  {
   "cell_type": "code",
   "execution_count": null,
   "metadata": {
    "dotnet_interactive": {
     "language": "spiral"
    },
    "polyglot_notebook": {
     "kernelName": "spiral"
    }
   },
   "outputs": [
    {
     "data": {
      "text/plain": [
       ".py output (Cuda):\n",
       "__assert_eq / actual: UH0_1(v0='a', v1=UH0_1(v0='b', v1=UH0_1(v0='c', v1=UH0_0()))) / expected: UH0_1(v0='a', v1=UH0_1(v0='b', v1=UH0_1(v0='c', v1=UH0_0())))\n",
       "\n"
      ]
     },
     "metadata": {},
     "output_type": "display_data"
    },
    {
     "name": "stdout",
     "output_type": "stream",
     "text": [
      ".fsx output:\n",
      "__assert_eq / actual: UH0_1 ('a', UH0_1 ('b', UH0_1 ('c', UH0_0))) / expected: UH0_1 ('a', UH0_1 ('b', UH0_1 ('c', UH0_0)))\n"
     ]
    }
   ],
   "source": [
    "//// test\n",
    "///! fsharp\n",
    "///! cuda\n",
    "\n",
    "\"abc\"\n",
    "|> to_char_list\n",
    "|> _assert_eq [ 'a'; 'b'; 'c' ]"
   ]
  },
  {
   "cell_type": "markdown",
   "metadata": {},
   "source": [
    "### is_empty"
   ]
  },
  {
   "cell_type": "code",
   "execution_count": null,
   "metadata": {
    "dotnet_interactive": {
     "language": "spiral"
    },
    "polyglot_notebook": {
     "kernelName": "spiral"
    }
   },
   "outputs": [],
   "source": [
    "inl is_empty (input : string) : bool =\n",
    "    length input = 0i32"
   ]
  },
  {
   "cell_type": "markdown",
   "metadata": {},
   "source": [
    "### slice"
   ]
  },
  {
   "cell_type": "code",
   "execution_count": null,
   "metadata": {
    "dotnet_interactive": {
     "language": "spiral"
    },
    "polyglot_notebook": {
     "kernelName": "spiral"
    }
   },
   "outputs": [],
   "source": [
    "inl slice forall t {number; int}. (from : t) (to : t) s : string =\n",
    "    backend_switch {\n",
    "        Fsharp = fun () => sm.slice s { from to } : string\n",
    "        Python = fun () => sm.slice s { from to = if var_is s || var_is to then to + 1 else to } : string\n",
    "    }"
   ]
  },
  {
   "cell_type": "code",
   "execution_count": null,
   "metadata": {
    "dotnet_interactive": {
     "language": "spiral"
    },
    "polyglot_notebook": {
     "kernelName": "spiral"
    }
   },
   "outputs": [
    {
     "data": {
      "text/plain": [
       "\n",
       ".py output (Cuda):\n",
       "__assert_eq / actual: bcd / expected: bcd\n",
       "__assert_eq / actual: bcd / expected: bcd\n",
       "__assert_eq / actual: bcd / expected: bcd\n",
       "__assert_eq / actual: bcd / expected: bcd\n",
       "\n"
      ]
     },
     "metadata": {},
     "output_type": "display_data"
    },
    {
     "name": "stdout",
     "output_type": "stream",
     "text": [
      ".fsx output:\n",
      "__assert_eq / actual: \"bcd\" / expected: \"bcd\"\n",
      "__assert_eq / actual: \"bcd\" / expected: \"bcd\"\n",
      "__assert_eq / actual: \"bcd\" / expected: \"bcd\"\n",
      "__assert_eq / actual: \"bcd\" / expected: \"bcd\"\n"
     ]
    }
   ],
   "source": [
    "//// test\n",
    "///! fsharp\n",
    "///! cuda\n",
    "\n",
    "\"abcdef\"\n",
    "|> slice 1i32 3i32\n",
    "|> _assert_eq \"bcd\"\n",
    "\n",
    "(join \"abcde\")\n",
    "|> slice 1i32 3i32\n",
    "|> _assert_eq \"bcd\"\n",
    "\n",
    "\"abcde\"\n",
    "|> slice 1i32 (join 3i32)\n",
    "|> _assert_eq \"bcd\"\n",
    "\n",
    "(join \"abcde\")\n",
    "|> slice 1i32 (join 3i32)\n",
    "|> _assert_eq \"bcd\""
   ]
  },
  {
   "cell_type": "markdown",
   "metadata": {},
   "source": [
    "### format_debug"
   ]
  },
  {
   "cell_type": "code",
   "execution_count": null,
   "metadata": {
    "dotnet_interactive": {
     "language": "spiral"
    },
    "polyglot_notebook": {
     "kernelName": "spiral"
    }
   },
   "outputs": [],
   "source": [
    "//// real\n",
    "\n",
    "inl format_debug forall t. (x : t) : string =\n",
    "    backend_switch `string `({}) {\n",
    "        Fsharp = (fun () => $'$\"%A{!x}\"' : string) : () -> string\n",
    "        Python = (fun () => $'f\"{!x}\"' : string) : () -> string\n",
    "    }"
   ]
  },
  {
   "cell_type": "code",
   "execution_count": null,
   "metadata": {
    "dotnet_interactive": {
     "language": "spiral"
    },
    "polyglot_notebook": {
     "kernelName": "spiral"
    }
   },
   "outputs": [],
   "source": [
    "inl format_debug forall t. (x : t) : string =\n",
    "    real format_debug `t x"
   ]
  },
  {
   "cell_type": "code",
   "execution_count": null,
   "metadata": {
    "dotnet_interactive": {
     "language": "spiral"
    },
    "polyglot_notebook": {
     "kernelName": "spiral"
    }
   },
   "outputs": [
    {
     "data": {
      "text/plain": [
       ".py output (Cuda):\n",
       "__assert_eq / actual: ('1', '2', '3') / expected: ('1', '2', '3')\n",
       "\n"
      ]
     },
     "metadata": {},
     "output_type": "display_data"
    },
    {
     "name": "stdout",
     "output_type": "stream",
     "text": [
      ".fsx output:\n",
      "__assert_eq / actual: \"struct (\"1\", \"2\", \"3\")\" / expected: \"struct (\"1\", \"2\", \"3\")\"\n"
     ]
    }
   ],
   "source": [
    "//// test\n",
    "///! fsharp\n",
    "///! cuda\n",
    "\n",
    "{ c = \"1\"; a = \"2\"; b = \"3\" }\n",
    "|> format_debug\n",
    "|> _assert_eq (\n",
    "    backend_switch {\n",
    "        Fsharp = fun () => \"struct (\\\"1\\\", \\\"2\\\", \\\"3\\\")\" : string\n",
    "        Python = fun () => \"('1', '2', '3')\" : string\n",
    "    }\n",
    ")"
   ]
  },
  {
   "cell_type": "markdown",
   "metadata": {},
   "source": [
    "### format_pretty"
   ]
  },
  {
   "cell_type": "code",
   "execution_count": null,
   "metadata": {
    "dotnet_interactive": {
     "language": "spiral"
    },
    "polyglot_notebook": {
     "kernelName": "spiral"
    }
   },
   "outputs": [],
   "source": [
    "//// real\n",
    "\n",
    "inl format_pretty forall t. (x : t) : string =\n",
    "    run_target_args `string `t (fun () => x) function\n",
    "        | Rust _ => fun x =>\n",
    "            open rust\n",
    "            inl result = rust.emit_expr `t `std_string x ($'\"format\\!(\\\\\\\"{:#?}\\\\\\\", $0)\"' : string)\n",
    "            from_std_string result\n",
    "        | _ => fun _ => format_debug `t x"
   ]
  },
  {
   "cell_type": "code",
   "execution_count": null,
   "metadata": {
    "dotnet_interactive": {
     "language": "spiral"
    },
    "polyglot_notebook": {
     "kernelName": "spiral"
    }
   },
   "outputs": [],
   "source": [
    "inl format_pretty forall t. (x : t) : string =\n",
    "    real sm'_real.format_pretty `t x"
   ]
  },
  {
   "cell_type": "markdown",
   "metadata": {},
   "source": [
    "### prim"
   ]
  },
  {
   "cell_type": "code",
   "execution_count": null,
   "metadata": {
    "dotnet_interactive": {
     "language": "spiral"
    },
    "polyglot_notebook": {
     "kernelName": "spiral"
    }
   },
   "outputs": [],
   "source": [
    "inl prim x = real\n",
    "    match x with\n",
    "    | (x : i8) | (x : i16) | (x : i32) | (x : i64) => \"%d\", x\n",
    "    | (x : u8) | (x : u16) | (x : u32) | (x : u64) => \"%u\", x\n",
    "    | (x : f32) | (x : f64) => \"%f\", x\n",
    "    | (x : string) => \"%s\", x\n",
    "    | (x : char) => \"%c\", x"
   ]
  },
  {
   "cell_type": "markdown",
   "metadata": {},
   "source": [
    "### printable"
   ]
  },
  {
   "cell_type": "code",
   "execution_count": null,
   "metadata": {
    "dotnet_interactive": {
     "language": "spiral"
    },
    "polyglot_notebook": {
     "kernelName": "spiral"
    }
   },
   "outputs": [],
   "source": [
    "//// real\n",
    "\n",
    "prototype printable t : t -> ()"
   ]
  },
  {
   "cell_type": "markdown",
   "metadata": {},
   "source": [
    "### format_real"
   ]
  },
  {
   "cell_type": "code",
   "execution_count": null,
   "metadata": {
    "dotnet_interactive": {
     "language": "spiral"
    },
    "polyglot_notebook": {
     "kernelName": "spiral"
    }
   },
   "outputs": [],
   "source": [
    "//// real\n",
    "\n",
    "let format_real forall t. (x : t) : string =\n",
    "    inl result = mut `string (join \"\")\n",
    "    inl rec write x =\n",
    "        inl p ((a : string), b) =\n",
    "            inl s : string =\n",
    "                backend_switch `string `({}) {\n",
    "                    Fsharp =\n",
    "                        (fun () =>\n",
    "                            match b with\n",
    "                            | (_ : f32) | (_ : f64) => $'$\"%+.6f{!b}\"' : string\n",
    "                            | _ => $'$\"{!b}\"' : string\n",
    "                        ) : () -> string\n",
    "                    Python =\n",
    "                        (fun () =>\n",
    "                            match b with\n",
    "                            | (_ : f32) | (_ : f64) => $'\"{:.6f}\".format(!b)' : string\n",
    "                            | _ => $'f\"{!b}\"' : string\n",
    "                        ) : () -> string\n",
    "                }\n",
    "            exec_unit ((fun () => result <- (+.) `string ((~*) `string result) s) : () -> ())\n",
    "\n",
    "        match x with // According to Bing it shouldn't matter whether these are %d or %lld in printf.\n",
    "        | () => ()\n",
    "        | (x : i8) | (x : i16) | (x : i32) | (x : i64) => p (\"%d\", x)\n",
    "        | (x : u8) | (x : u16) | (x : u32) | (x : u64) => p (\"%u\", x)\n",
    "        | (x : f32) | (x : f64) => p (\"%f\", x)\n",
    "        | (x : string) => p (\"%s\", x)\n",
    "        | (x : char) => p (\"%c\", x)\n",
    "        | (x : bool) => p (\"%s\", if x then \"true\" else \"false\")\n",
    "        | (a,b) => write a . write \", \" . write b\n",
    "        | {} as x =>\n",
    "            write \"{ \"\n",
    "            inl _result =\n",
    "                real_core.record_fold\n",
    "                    fun { state = separator key value } =>\n",
    "                        write separator\n",
    "                        write (symbol_to_string `(`key)) . write \" = \" . write value\n",
    "                        \"; \"\n",
    "                    () x\n",
    "            write \" }\"\n",
    "        | x when real_core.symbol_is x => write (symbol_to_string `(`x))\n",
    "        | x when real_core.function_is x => write (x ())\n",
    "        | x when real_core.union_is x =>\n",
    "            if real_core.prototype_has `(`x) printable then printable `(`x) x\n",
    "            else\n",
    "                write (format_debug `(`x) x)\n",
    "                // real_core.unbox x (fun (k, v) =>\n",
    "                //     write k\n",
    "                //     match v with\n",
    "                //     | () => ()\n",
    "                //     | _ => write \"(\" . write v . write \")\"\n",
    "                //     )\n",
    "        | x when real_core.nominal_is x =>\n",
    "            if real_core.prototype_has `(`x) printable then printable `(`x) x\n",
    "            // elif layout_is x then write *x // TODO: Deal with all the layout type cases.\n",
    "            else write (format_pretty `(`x) x)\n",
    "        | x => write (format_debug `(`x) x)\n",
    "    write x\n",
    "    (~*) `string result"
   ]
  },
  {
   "cell_type": "markdown",
   "metadata": {},
   "source": [
    "### format"
   ]
  },
  {
   "cell_type": "code",
   "execution_count": null,
   "metadata": {
    "dotnet_interactive": {
     "language": "spiral"
    },
    "polyglot_notebook": {
     "kernelName": "spiral"
    }
   },
   "outputs": [],
   "source": [
    "inl format forall t. (x : t) : string =\n",
    "    real format_real `t x"
   ]
  },
  {
   "cell_type": "code",
   "execution_count": null,
   "metadata": {
    "dotnet_interactive": {
     "language": "spiral"
    },
    "polyglot_notebook": {
     "kernelName": "spiral"
    }
   },
   "outputs": [
    {
     "name": "stdout",
     "output_type": "stream",
     "text": [
      "__assert_eq / actual: \"1, 2, UH0_1 (\"3\", UH0_1 (\"4\", UH0_0)), { b = 5; c = 6; a = 7 }\" / expected: \"1, 2, UH0_1 (\"3\", UH0_1 (\"4\", UH0_0)), { b = 5; c = 6; a = 7 }\"\n"
     ]
    }
   ],
   "source": [
    "//// test\n",
    "///! fsharp\n",
    "////! cuda\n",
    "////! rust\n",
    "////! typescript\n",
    "////! python\n",
    "\n",
    "(\"1\", \"2\", [\"3\"; \"4\"], { b = \"5\"; c = \"6\"; a = fun () => \"7\" })\n",
    "|> format\n",
    "|> _assert_eq \"1, 2, UH0_1 (\\\"3\\\", UH0_1 (\\\"4\\\", UH0_0)), { b = 5; c = 6; a = 7 }\""
   ]
  },
  {
   "cell_type": "markdown",
   "metadata": {},
   "source": [
    "### concat_array"
   ]
  },
  {
   "cell_type": "code",
   "execution_count": null,
   "metadata": {
    "dotnet_interactive": {
     "language": "spiral"
    },
    "polyglot_notebook": {
     "kernelName": "spiral"
    }
   },
   "outputs": [],
   "source": [
    "inl concat_array (separator : string) (input : a int string) =\n",
    "    (input, { acc = \"\"; sep = \"\" })\n",
    "    ||> am.foldBack fun (x : string) { acc sep } =>\n",
    "            { acc = $'!x + !sep + !acc + \"\"' : string; sep = separator }\n",
    "    |> fun { acc } => acc"
   ]
  },
  {
   "cell_type": "code",
   "execution_count": null,
   "metadata": {
    "dotnet_interactive": {
     "language": "spiral"
    },
    "polyglot_notebook": {
     "kernelName": "spiral"
    }
   },
   "outputs": [
    {
     "data": {
      "text/plain": [
       "\n",
       ".rs output:\n",
       "__assert_eq / actual: \"1\n",
       "2\n",
       "3\" / expected: \"1\n",
       "2\n",
       "3\"\n",
       "\n",
       "\n",
       ".ts output:\n",
       "__assert_eq / actual: 1\n",
       "2\n",
       "3 / expected: 1\n",
       "2\n",
       "3\n",
       "\n",
       "\n",
       ".py output:\n",
       "__assert_eq / actual: 1\n",
       "2\n",
       "3 / expected: 1\n",
       "2\n",
       "3\n",
       "\n",
       "\n",
       "\n",
       "\n"
      ]
     },
     "metadata": {},
     "output_type": "display_data"
    },
    {
     "name": "stdout",
     "output_type": "stream",
     "text": [
      ".fsx:\n",
      "type Mut0 = {mutable l0 : int32; mutable l1 : string; mutable l2 : string}\n",
      "let rec method1 (v0 : int32, v1 : Mut0) : bool =\n",
      "    let v2 : int32 = v1.l0\n",
      "    let v3 : bool = v2 < v0\n",
      "    v3\n",
      "and method2 (v0 : bool) : bool =\n",
      "    v0\n",
      "and closure0 (v0 : string) () : unit =\n",
      "    let v1 : (string -> unit) = System.Console.WriteLine\n",
      "    v1 v0\n",
      "and method0 () : unit =\n",
      "    let v0 : string = \"1\"\n",
      "    let v1 : string = \"2\"\n",
      "    let v2 : string = \"3\"\n",
      "    let v3 : (string []) = [|v0; v1; v2|]\n",
      "    let v4 : int32 = v3.Length\n",
      "    let v5 : string = \"\"\n",
      "    let v6 : Mut0 = {l0 = 0; l1 = v5; l2 = v5} : Mut0\n",
      "    while method1(v4, v6) do\n",
      "        let v8 : int32 = v6.l0\n",
      "        let v9 : int32 =  -v8\n",
      "        let v10 : int32 = v9 + v4\n",
      "        let v11 : int32 = v10 - 1\n",
      "        let struct (v12 : string, v13 : string) = v6.l1, v6.l2\n",
      "        let v14 : string = v3.[int v11]\n",
      "        let v15 : string = v14 + v13 + v12 + \"\"\n",
      "        let v16 : int32 = v8 + 1\n",
      "        let v17 : string = \"\\n\"\n",
      "        v6.l0 <- v16\n",
      "        v6.l1 <- v15\n",
      "        v6.l2 <- v17\n",
      "        ()\n",
      "    let struct (v18 : string, v19 : string) = v6.l1, v6.l2\n",
      "    let v20 : bool = v18 = \"1\\n2\\n3\"\n",
      "    let v22 : bool =\n",
      "        if v20 then\n",
      "            true\n",
      "        else\n",
      "            method2(v20)\n",
      "    let v23 : string = \"__assert_eq\"\n",
      "    let v24 : string = \"1\\n2\\n3\"\n",
      "    let v25 : string = $\"{v23} / actual: %A{v18} / expected: %A{v24}\"\n",
      "    let v28 : unit = ()\n",
      "    let v29 : (unit -> unit) = closure0(v25)\n",
      "    let v30 : unit = (fun () -> v29 (); v28) ()\n",
      "    let v32 : bool = v22 = false\n",
      "    if v32 then\n",
      "        failwith<unit> v25\n",
      "method0()\n",
      "\n",
      "\n",
      ".rs:\n",
      "#![allow(dead_code)]\n",
      "#![allow(non_camel_case_types)]\n",
      "#![allow(non_snake_case)]\n",
      "#![allow(non_upper_case_globals)]\n",
      "#![allow(unreachable_code)]\n",
      "#![allow(unused_attributes)]\n",
      "#![allow(unused_imports)]\n",
      "#![allow(unused_macros)]\n",
      "#![allow(unused_parens)]\n",
      "#![allow(unused_variables)]\n",
      "#![allow(unused_assignments)]\n",
      "mod module_6ff740fe {\n",
      "    pub mod Spiral {\n",
      "        use super::*;\n",
      "        use fable_library_rust::NativeArray_::get_Count;\n",
      "        use fable_library_rust::NativeArray_::new_array;\n",
      "        use fable_library_rust::NativeArray_::Array;\n",
      "        use fable_library_rust::Native_::on_startup;\n",
      "        use fable_library_rust::Native_::LrcPtr;\n",
      "        use fable_library_rust::Native_::MutCell;\n",
      "        use fable_library_rust::String_::append;\n",
      "        use fable_library_rust::String_::printfn;\n",
      "        use fable_library_rust::String_::sprintf;\n",
      "        use fable_library_rust::String_::string;\n",
      "        #[derive(Clone, Debug, Hash, PartialEq, PartialOrd)]\n",
      "        pub struct Mut0 {\n",
      "            pub l0: MutCell<i32>,\n",
      "            pub l1: MutCell<string>,\n",
      "            pub l2: MutCell<string>,\n",
      "        }\n",
      "        impl core::fmt::Display for Mut0 {\n",
      "            fn fmt(&self, f: &mut core::fmt::Formatter) -> core::fmt::Result {\n",
      "                write!(f, \"{}\", core::any::type_name::<Self>())\n",
      "            }\n",
      "        }\n",
      "        pub fn method1(v0: i32, v1: LrcPtr<Spiral::Mut0>) -> bool {\n",
      "            (v1.l0.get().clone()) < (v0)\n",
      "        }\n",
      "        pub fn method2(v0: bool) -> bool {\n",
      "            v0\n",
      "        }\n",
      "        pub fn closure0(v0: string, unitVar: ()) {\n",
      "            printfn!(\"{0}\", v0);\n",
      "        }\n",
      "        pub fn method0() {\n",
      "            let v3: Array<string> = new_array(&[string(\"1\"), string(\"2\"), string(\"3\")]);\n",
      "            let v4: i32 = get_Count(v3.clone());\n",
      "            let v6: LrcPtr<Spiral::Mut0> = LrcPtr::new(Spiral::Mut0 {\n",
      "                l0: MutCell::new(0_i32),\n",
      "                l1: MutCell::new(string(\"\")),\n",
      "                l2: MutCell::new(string(\"\")),\n",
      "            });\n",
      "            while Spiral::method1(v4, v6.clone()) {\n",
      "                let v8: i32 = v6.l0.get().clone();\n",
      "                let v11: i32 = ((v8.wrapping_neg()) + (v4)) - 1_i32;\n",
      "                let matchValue: string = v6.l1.get().clone();\n",
      "                let matchValue_1: string = v6.l2.get().clone();\n",
      "                let v15: string = append(\n",
      "                    (append((append((v3[v11].clone()), (matchValue_1))), (matchValue))),\n",
      "                    string(\"\"),\n",
      "                );\n",
      "                let v16: i32 = (v8) + 1_i32;\n",
      "                v6.l0.set(v16);\n",
      "                v6.l1.set(v15);\n",
      "                v6.l2.set(string(\"\\n\"));\n",
      "                ()\n",
      "            }\n",
      "            {\n",
      "                let matchValue_2: string = v6.l1.get().clone();\n",
      "                let matchValue_3: string = v6.l2.get().clone();\n",
      "                let v18: string = matchValue_2;\n",
      "                let v20: bool = (v18.clone()) == string(\"1\\n2\\n3\");\n",
      "                let v22: bool = if v20 { true } else { Spiral::method2(v20) };\n",
      "                let v25: string = sprintf!(\n",
      "                    \"{} / actual: {:?} / expected: {:?}\",\n",
      "                    string(\"__assert_eq\"),\n",
      "                    v18,\n",
      "                    string(\"1\\n2\\n3\")\n",
      "                );\n",
      "                let v30: () = {\n",
      "                    Spiral::closure0(v25.clone(), ());\n",
      "                    ()\n",
      "                };\n",
      "                if (v22) == false {\n",
      "                    panic!(\"{}\", v25,);\n",
      "                }\n",
      "            }\n",
      "        }\n",
      "        // on_startup!(Spiral::method0());\n",
      "    }\n",
      "}\n",
      "pub use module_6ff740fe::*;\n",
      "\n",
      "\n",
      "\n",
      "pub fn main() -> Result<(), String> { Ok(Spiral::method0()) }\n",
      "\n",
      ".ts:\n",
      "import { Record } from \"./fable_modules/fable-library-ts.5.0.0-alpha.2/Types.js\";\n",
      "import { op_UnaryNegation_Int32, int32 } from \"./fable_modules/fable-library-ts.5.0.0-alpha.2/Int32.js\";\n",
      "import { IComparable, IEquatable } from \"./fable_modules/fable-library-ts.5.0.0-alpha.2/Util.js\";\n",
      "import { record_type, string_type, int32_type, TypeInfo } from \"./fable_modules/fable-library-ts.5.0.0-alpha.2/Reflection.js\";\n",
      "import { item } from \"./fable_modules/fable-library-ts.5.0.0-alpha.2/Array.js\";\n",
      "import { interpolate, toText } from \"./fable_modules/fable-library-ts.5.0.0-alpha.2/String.js\";\n",
      "\n",
      "export class Mut0 extends Record implements IEquatable<Mut0>, IComparable<Mut0> {\n",
      "    l0: int32;\n",
      "    l1: string;\n",
      "    l2: string;\n",
      "    constructor(l0: int32, l1: string, l2: string) {\n",
      "        super();\n",
      "        this.l0 = (l0 | 0);\n",
      "        this.l1 = l1;\n",
      "        this.l2 = l2;\n",
      "    }\n",
      "}\n",
      "\n",
      "export function Mut0_$reflection(): TypeInfo {\n",
      "    return record_type(\"Spiral.Mut0\", [], Mut0, () => [[\"l0\", int32_type], [\"l1\", string_type], [\"l2\", string_type]]);\n",
      "}\n",
      "\n",
      "export function method1(v0: int32, v1: Mut0): boolean {\n",
      "    return v1.l0 < v0;\n",
      "}\n",
      "\n",
      "export function method2(v0: boolean): boolean {\n",
      "    return v0;\n",
      "}\n",
      "\n",
      "export function closure0(v0: string, unitVar: void): void {\n",
      "    console.log(v0);\n",
      "}\n",
      "\n",
      "export function method0(): void {\n",
      "    const v3: string[] = [\"1\", \"2\", \"3\"];\n",
      "    const v4: int32 = v3.length | 0;\n",
      "    const v6: Mut0 = new Mut0(0, \"\", \"\");\n",
      "    while (method1(v4, v6)) {\n",
      "        const v8: int32 = v6.l0 | 0;\n",
      "        const v11: int32 = ((op_UnaryNegation_Int32(v8) + v4) - 1) | 0;\n",
      "        const matchValue: string = v6.l1;\n",
      "        const matchValue_1: string = v6.l2;\n",
      "        const v15: string = ((item(v11, v3) + matchValue_1) + matchValue) + \"\";\n",
      "        const v16: int32 = (v8 + 1) | 0;\n",
      "        v6.l0 = (v16 | 0);\n",
      "        v6.l1 = v15;\n",
      "        v6.l2 = \"\\n\";\n",
      "    }\n",
      "    const matchValue_2: string = v6.l1;\n",
      "    const matchValue_3: string = v6.l2;\n",
      "    const v18: string = matchValue_2;\n",
      "    const v20: boolean = v18 === \"1\\n2\\n3\";\n",
      "    const v22: boolean = v20 ? true : method2(v20);\n",
      "    const v25: string = toText(interpolate(\"%P() / actual: %A%P() / expected: %A%P()\", [\"__assert_eq\", v18, \"1\\n2\\n3\"]));\n",
      "    let v30: any;\n",
      "    closure0(v25, undefined);\n",
      "    v30 = undefined;\n",
      "    if (v22 === false) {\n",
      "        throw new Error(v25);\n",
      "    }\n",
      "}\n",
      "\n",
      "method0();\n",
      "\n",
      "\n",
      ".py:\n",
      "from __future__ import annotations\n",
      "from dataclasses import dataclass\n",
      "from fable_modules.fable_library.int32 import op_unary_negation_int32\n",
      "from fable_modules.fable_library.reflection import (TypeInfo, int32_type, string_type, record_type)\n",
      "from fable_modules.fable_library.string_ import (to_text, interpolate)\n",
      "from fable_modules.fable_library.types import (Record, Array)\n",
      "\n",
      "def _expr0() -> TypeInfo:\n",
      "    return record_type(\"Spiral.Mut0\", [], Mut0, lambda: [(\"l0\", int32_type), (\"l1\", string_type), (\"l2\", string_type)])\n",
      "\n",
      "\n",
      "@dataclass(eq = False, repr = False, slots = True)\n",
      "class Mut0(Record):\n",
      "    l0: int\n",
      "    l1: str\n",
      "    l2: str\n",
      "\n",
      "Mut0_reflection = _expr0\n",
      "\n",
      "def method1(v0: int, v1: Mut0) -> bool:\n",
      "    return v1.l0 < v0\n",
      "\n",
      "\n",
      "def method2(v0: bool) -> bool:\n",
      "    return v0\n",
      "\n",
      "\n",
      "def closure0(v0: str, unit_var: None) -> None:\n",
      "    print(v0)\n",
      "\n",
      "\n",
      "def method0(__unit: None=None) -> None:\n",
      "    v3: Array[str] = [\"1\", \"2\", \"3\"]\n",
      "    v4: int = len(v3) or 0\n",
      "    v6: Mut0 = Mut0(0, \"\", \"\")\n",
      "    while method1(v4, v6):\n",
      "        v8: int = v6.l0 or 0\n",
      "        v11: int = ((op_unary_negation_int32(v8) + v4) - 1) or 0\n",
      "        match_value: str = v6.l1\n",
      "        match_value_1: str = v6.l2\n",
      "        v15: str = ((v3[v11] + match_value_1) + match_value) + \"\"\n",
      "        v16: int = (v8 + 1) or 0\n",
      "        v6.l0 = v16 or 0\n",
      "        v6.l1 = v15\n",
      "        v6.l2 = \"\\n\"\n",
      "    match_value_2: str = v6.l1\n",
      "    match_value_3: str = v6.l2\n",
      "    v18: str = match_value_2\n",
      "    v20: bool = v18 == \"1\\n2\\n3\"\n",
      "    v22: bool = True if v20 else method2(v20)\n",
      "    v25: str = to_text(interpolate(\"%P() / actual: %A%P() / expected: %A%P()\", [\"__assert_eq\", v18, \"1\\n2\\n3\"]))\n",
      "    v30: None\n",
      "    closure0(v25, None)\n",
      "    v30 = None\n",
      "    if v22 == False:\n",
      "        raise Exception(v25)\n",
      "\n",
      "\n",
      "\n",
      "method0()\n",
      "\n",
      "\n",
      ".fsx output:\n",
      "__assert_eq / actual: \"1\n",
      "2\n",
      "3\" / expected: \"1\n",
      "2\n",
      "3\"\n"
     ]
    }
   ],
   "source": [
    "//// test\n",
    "///! fsharp\n",
    "////! cuda // AttributeError: 'str' object has no attribute 'item'\n",
    "///! rust\n",
    "///! typescript\n",
    "///! python\n",
    "//// print_code\n",
    "\n",
    ";[\n",
    "    \"1\"\n",
    "    \"2\"\n",
    "    \"3\"\n",
    "]\n",
    "|> fun x =>\n",
    "    inl code = (a x : _ int _) |> concat_array \"\\n\"\n",
    "    code\n",
    "    |> _assert_eq \"1\\n2\\n3\""
   ]
  },
  {
   "cell_type": "markdown",
   "metadata": {},
   "source": [
    "### concat_list"
   ]
  },
  {
   "cell_type": "code",
   "execution_count": null,
   "metadata": {
    "dotnet_interactive": {
     "language": "spiral"
    },
    "polyglot_notebook": {
     "kernelName": "spiral"
    }
   },
   "outputs": [],
   "source": [
    "inl concat_list separator input =\n",
    "    (input, { acc = \"\"; sep = \"\" })\n",
    "    ||> listm.foldBack fun (x : string) { acc sep } =>\n",
    "            { acc = $'!x + !sep + !acc + \"\"' : string; sep = separator }\n",
    "    |> fun { acc } => acc"
   ]
  },
  {
   "cell_type": "code",
   "execution_count": null,
   "metadata": {
    "dotnet_interactive": {
     "language": "spiral"
    },
    "polyglot_notebook": {
     "kernelName": "spiral"
    }
   },
   "outputs": [
    {
     "data": {
      "text/plain": [
       "\n",
       ".py output (Cuda):\n",
       "__assert_eq / actual: 1\n",
       "2\n",
       "3 / expected: 1\n",
       "2\n",
       "3\n",
       "\n",
       "\n",
       ".rs output:\n",
       "__assert_eq / actual: \"1\n",
       "2\n",
       "3\" / expected: \"1\n",
       "2\n",
       "3\"\n",
       "\n",
       "\n",
       ".ts output:\n",
       "__assert_eq / actual: 1\n",
       "2\n",
       "3 / expected: 1\n",
       "2\n",
       "3\n",
       "\n",
       "\n",
       ".py output:\n",
       "__assert_eq / actual: 1\n",
       "2\n",
       "3 / expected: 1\n",
       "2\n",
       "3\n",
       "\n",
       "\n",
       "\n",
       "\n"
      ]
     },
     "metadata": {},
     "output_type": "display_data"
    },
    {
     "name": "stdout",
     "output_type": "stream",
     "text": [
      ".fsx:\n",
      "let rec method1 (v0 : bool) : bool =\n",
      "    v0\n",
      "and closure0 (v0 : string) () : unit =\n",
      "    let v1 : (string -> unit) = System.Console.WriteLine\n",
      "    v1 v0\n",
      "and method0 () : unit =\n",
      "    let v0 : string = \"3\"\n",
      "    let v1 : string = \"\"\n",
      "    let v2 : string = v0 + v1 + v1 + \"\"\n",
      "    let v3 : string = \"2\"\n",
      "    let v4 : string = \"\\n\"\n",
      "    let v5 : string = v3 + v4 + v2 + \"\"\n",
      "    let v6 : string = \"1\"\n",
      "    let v7 : string = v6 + v4 + v5 + \"\"\n",
      "    let v8 : bool = v7 = \"1\\n2\\n3\"\n",
      "    let v10 : bool =\n",
      "        if v8 then\n",
      "            true\n",
      "        else\n",
      "            method1(v8)\n",
      "    let v11 : string = \"__assert_eq\"\n",
      "    let v12 : string = \"1\\n2\\n3\"\n",
      "    let v13 : string = $\"{v11} / actual: %A{v7} / expected: %A{v12}\"\n",
      "    let v16 : unit = ()\n",
      "    let v17 : (unit -> unit) = closure0(v13)\n",
      "    let v18 : unit = (fun () -> v17 (); v16) ()\n",
      "    let v20 : bool = v10 = false\n",
      "    if v20 then\n",
      "        failwith<unit> v13\n",
      "method0()\n",
      "\n",
      "\n",
      ".rs:\n",
      "#![allow(dead_code)]\n",
      "#![allow(non_camel_case_types)]\n",
      "#![allow(non_snake_case)]\n",
      "#![allow(non_upper_case_globals)]\n",
      "#![allow(unreachable_code)]\n",
      "#![allow(unused_attributes)]\n",
      "#![allow(unused_imports)]\n",
      "#![allow(unused_macros)]\n",
      "#![allow(unused_parens)]\n",
      "#![allow(unused_variables)]\n",
      "#![allow(unused_assignments)]\n",
      "mod module_6ff740fe {\n",
      "    pub mod Spiral {\n",
      "        use super::*;\n",
      "        use fable_library_rust::Native_::on_startup;\n",
      "        use fable_library_rust::String_::printfn;\n",
      "        use fable_library_rust::String_::sprintf;\n",
      "        use fable_library_rust::String_::string;\n",
      "        pub fn method1(v0: bool) -> bool {\n",
      "            v0\n",
      "        }\n",
      "        pub fn closure0(v0: string, unitVar: ()) {\n",
      "            printfn!(\"{0}\", v0);\n",
      "        }\n",
      "        pub fn method0() {\n",
      "            let v7: string = string(\"1\\n2\\n3\");\n",
      "            let v8: bool = (v7.clone()) == string(\"1\\n2\\n3\");\n",
      "            let v10: bool = if v8 { true } else { Spiral::method1(v8) };\n",
      "            let v13: string = sprintf!(\n",
      "                \"{} / actual: {:?} / expected: {:?}\",\n",
      "                string(\"__assert_eq\"),\n",
      "                v7,\n",
      "                string(\"1\\n2\\n3\")\n",
      "            );\n",
      "            let v18: () = {\n",
      "                Spiral::closure0(v13.clone(), ());\n",
      "                ()\n",
      "            };\n",
      "            if (v10) == false {\n",
      "                panic!(\"{}\", v13,);\n",
      "            }\n",
      "        }\n",
      "        // on_startup!(Spiral::method0());\n",
      "    }\n",
      "}\n",
      "pub use module_6ff740fe::*;\n",
      "\n",
      "\n",
      "\n",
      "pub fn main() -> Result<(), String> { Ok(Spiral::method0()) }\n",
      "\n",
      ".ts:\n",
      "import { interpolate, toText } from \"./fable_modules/fable-library-ts.5.0.0-alpha.2/String.js\";\n",
      "\n",
      "export function method1(v0: boolean): boolean {\n",
      "    return v0;\n",
      "}\n",
      "\n",
      "export function closure0(v0: string, unitVar: void): void {\n",
      "    console.log(v0);\n",
      "}\n",
      "\n",
      "export function method0(): void {\n",
      "    const v7 = \"1\\n2\\n3\";\n",
      "    const v8: boolean = v7 === \"1\\n2\\n3\";\n",
      "    const v10: boolean = v8 ? true : method1(v8);\n",
      "    const v13: string = toText(interpolate(\"%P() / actual: %A%P() / expected: %A%P()\", [\"__assert_eq\", v7, \"1\\n2\\n3\"]));\n",
      "    let v18: any;\n",
      "    closure0(v13, undefined);\n",
      "    v18 = undefined;\n",
      "    if (v10 === false) {\n",
      "        throw new Error(v13);\n",
      "    }\n",
      "}\n",
      "\n",
      "method0();\n",
      "\n",
      "\n",
      ".py:\n",
      "from fable_modules.fable_library.string_ import (to_text, interpolate)\n",
      "\n",
      "def method1(v0: bool) -> bool:\n",
      "    return v0\n",
      "\n",
      "\n",
      "def closure0(v0: str, unit_var: None) -> None:\n",
      "    print(v0)\n",
      "\n",
      "\n",
      "def method0(__unit: None=None) -> None:\n",
      "    v7: str = \"1\\n2\\n3\"\n",
      "    v8: bool = v7 == \"1\\n2\\n3\"\n",
      "    v10: bool = True if v8 else method1(v8)\n",
      "    v13: str = to_text(interpolate(\"%P() / actual: %A%P() / expected: %A%P()\", [\"__assert_eq\", v7, \"1\\n2\\n3\"]))\n",
      "    v18: None\n",
      "    closure0(v13, None)\n",
      "    v18 = None\n",
      "    if v10 == False:\n",
      "        raise Exception(v13)\n",
      "\n",
      "\n",
      "\n",
      "method0()\n",
      "\n",
      "\n",
      ".py (Cuda):\n",
      "kernel = r\"\"\"\n",
      "\"\"\"\n",
      "class static_array():\n",
      "    def __init__(self, length):\n",
      "        self.ptr = []\n",
      "        for _ in range(length):\n",
      "            self.ptr.append(None)\n",
      "\n",
      "    def __getitem__(self, index):\n",
      "        assert 0 <= index < len(self.ptr), \"The get index needs to be in range.\"\n",
      "        return self.ptr[index]\n",
      "    \n",
      "    def __setitem__(self, index, value):\n",
      "        assert 0 <= index < len(self.ptr), \"The set index needs to be in range.\"\n",
      "        self.ptr[index] = value\n",
      "\n",
      "class static_array_list(static_array):\n",
      "    def __init__(self, length):\n",
      "        super().__init__(length)\n",
      "        self.length = 0\n",
      "\n",
      "    def __getitem__(self, index):\n",
      "        assert 0 <= index < self.length, \"The get index needs to be in range.\"\n",
      "        return self.ptr[index]\n",
      "    \n",
      "    def __setitem__(self, index, value):\n",
      "        assert 0 <= index < self.length, \"The set index needs to be in range.\"\n",
      "        self.ptr[index] = value\n",
      "\n",
      "    def push(self,value):\n",
      "        assert (self.length < len(self.ptr)), \"The length before pushing has to be less than the maximum length of the array.\"\n",
      "        self.ptr[self.length] = value\n",
      "        self.length += 1\n",
      "\n",
      "    def pop(self):\n",
      "        assert (0 < self.length), \"The length before popping has to be greater than 0.\"\n",
      "        self.length -= 1\n",
      "        return self.ptr[self.length]\n",
      "\n",
      "    def unsafe_set_length(self,i):\n",
      "        assert 0 <= i <= len(self.ptr), \"The new length has to be in range.\"\n",
      "        self.length = i\n",
      "\n",
      "class dynamic_array(static_array): \n",
      "    pass\n",
      "\n",
      "class dynamic_array_list(static_array_list):\n",
      "    def length_(self): return self.length\n",
      "\n",
      "import cupy as cp\n",
      "import numpy as np\n",
      "from dataclasses import dataclass\n",
      "from typing import NamedTuple, Union, Callable, Tuple\n",
      "i8 = int; i16 = int; i32 = int; i64 = int; u8 = int; u16 = int; u32 = int; u64 = int; f32 = float; f64 = float; char = str; string = str\n",
      "cuda = False\n",
      "\n",
      "def method1(v0 : bool) -> bool:\n",
      "    return v0\n",
      "def method0() -> None:\n",
      "    v0 = \"3\"\n",
      "    v1 = \"\"\n",
      "    v2 = v0 + v1 + v1 + \"\"\n",
      "    del v0, v1\n",
      "    v3 = \"2\"\n",
      "    v4 = \"\\n\"\n",
      "    v5 = v3 + v4 + v2 + \"\"\n",
      "    del v2, v3\n",
      "    v6 = \"1\"\n",
      "    v7 = v6 + v4 + v5 + \"\"\n",
      "    del v4, v5, v6\n",
      "    v8 = v7 == \"1\\n2\\n3\"\n",
      "    if v8:\n",
      "        v10 = True\n",
      "    else:\n",
      "        v10 = method1(v8)\n",
      "    del v8\n",
      "    v14 = \"__assert_eq\"\n",
      "    v15 = \"1\\n2\\n3\"\n",
      "    v16 = f\"{v14} / actual: {v7} / expected: {v15}\"\n",
      "    del v7, v14, v15\n",
      "    print(v16)\n",
      "    v22 = v10 == False\n",
      "    del v10\n",
      "    if v22:\n",
      "        del v22\n",
      "        raise Exception(v16)\n",
      "    else:\n",
      "        del v16, v22\n",
      "        return \n",
      "def main_body():\n",
      "    return method0()\n",
      "\n",
      "def main():\n",
      "    r = main_body()\n",
      "    if cuda: cp.cuda.get_current_stream().synchronize() # This line is here so the `__trap()` calls on the kernel aren't missed.\n",
      "    return r\n",
      "\n",
      "if __name__ == '__main__': result = main(); None if result is None else print(result)\n",
      "\n",
      ".fsx output:\n",
      "__assert_eq / actual: \"1\n",
      "2\n",
      "3\" / expected: \"1\n",
      "2\n",
      "3\"\n"
     ]
    }
   ],
   "source": [
    "//// test\n",
    "///! fsharp\n",
    "///! cuda\n",
    "///! rust\n",
    "///! typescript\n",
    "///! python\n",
    "//// print_code\n",
    "\n",
    "[\n",
    "    \"1\"\n",
    "    \"2\"\n",
    "    \"3\"\n",
    "]\n",
    "|> fun x =>\n",
    "    inl code = (x : _) |> concat_list \"\\n\"\n",
    "    code\n",
    "    |> _assert_eq \"1\\n2\\n3\""
   ]
  },
  {
   "cell_type": "markdown",
   "metadata": {},
   "source": [
    "### concat_list_interpolation"
   ]
  },
  {
   "cell_type": "code",
   "execution_count": null,
   "metadata": {
    "dotnet_interactive": {
     "language": "spiral"
    },
    "polyglot_notebook": {
     "kernelName": "spiral"
    }
   },
   "outputs": [],
   "source": [
    "inl concat_list_interpolation separator input =\n",
    "    (input, { acc = \"\"; sep = \"\" })\n",
    "    ||> listm.foldBack fun (x : string) { acc sep } =>\n",
    "        backend_switch {\n",
    "            Fsharp = fun () => { acc = $'$\"{!x}{!sep}{!acc}\"' : string; sep = separator }\n",
    "            Python = fun () => { acc = $'f\"{!x}{!sep}{!acc}\"' : string; sep = separator }\n",
    "        }\n",
    "    |> fun { acc } => acc"
   ]
  },
  {
   "cell_type": "code",
   "execution_count": null,
   "metadata": {
    "dotnet_interactive": {
     "language": "spiral"
    },
    "polyglot_notebook": {
     "kernelName": "spiral"
    }
   },
   "outputs": [
    {
     "data": {
      "text/plain": [
       "\n",
       ".py output (Cuda):\n",
       "__assert_eq / actual: 1\n",
       "2\n",
       "3 / expected: 1\n",
       "2\n",
       "3\n",
       "\n",
       "\n",
       ".rs output:\n",
       "__assert_eq / actual: \"1\n",
       "2\n",
       "3\" / expected: \"1\n",
       "2\n",
       "3\"\n",
       "\n",
       "\n",
       ".ts output:\n",
       "__assert_eq / actual: 1\n",
       "2\n",
       "3 / expected: 1\n",
       "2\n",
       "3\n",
       "\n",
       "\n",
       ".py output:\n",
       "__assert_eq / actual: 1\n",
       "2\n",
       "3 / expected: 1\n",
       "2\n",
       "3\n",
       "\n",
       "\n",
       "\n",
       "\n"
      ]
     },
     "metadata": {},
     "output_type": "display_data"
    },
    {
     "name": "stdout",
     "output_type": "stream",
     "text": [
      ".fsx:\n",
      "let rec method1 (v0 : bool) : bool =\n",
      "    v0\n",
      "and closure0 (v0 : string) () : unit =\n",
      "    let v1 : (string -> unit) = System.Console.WriteLine\n",
      "    v1 v0\n",
      "and method0 () : unit =\n",
      "    let v0 : string = \"3\"\n",
      "    let v1 : string = \"\"\n",
      "    let v2 : string = $\"{v0}{v1}{v1}\"\n",
      "    let v7 : string = \"\\n\"\n",
      "    let v8 : string = \"2\"\n",
      "    let v9 : string = $\"{v8}{v7}{v2}\"\n",
      "    let v13 : string = \"1\"\n",
      "    let v14 : string = $\"{v13}{v7}{v9}\"\n",
      "    let v18 : bool = v14 = \"1\\n2\\n3\"\n",
      "    let v20 : bool =\n",
      "        if v18 then\n",
      "            true\n",
      "        else\n",
      "            method1(v18)\n",
      "    let v21 : string = \"__assert_eq\"\n",
      "    let v22 : string = \"1\\n2\\n3\"\n",
      "    let v23 : string = $\"{v21} / actual: %A{v14} / expected: %A{v22}\"\n",
      "    let v26 : unit = ()\n",
      "    let v27 : (unit -> unit) = closure0(v23)\n",
      "    let v28 : unit = (fun () -> v27 (); v26) ()\n",
      "    let v30 : bool = v20 = false\n",
      "    if v30 then\n",
      "        failwith<unit> v23\n",
      "method0()\n",
      "\n",
      "\n",
      ".rs:\n",
      "#![allow(dead_code)]\n",
      "#![allow(non_camel_case_types)]\n",
      "#![allow(non_snake_case)]\n",
      "#![allow(non_upper_case_globals)]\n",
      "#![allow(unreachable_code)]\n",
      "#![allow(unused_attributes)]\n",
      "#![allow(unused_imports)]\n",
      "#![allow(unused_macros)]\n",
      "#![allow(unused_parens)]\n",
      "#![allow(unused_variables)]\n",
      "#![allow(unused_assignments)]\n",
      "mod module_6ff740fe {\n",
      "    pub mod Spiral {\n",
      "        use super::*;\n",
      "        use fable_library_rust::NativeArray_::new_array;\n",
      "        use fable_library_rust::Native_::on_startup;\n",
      "        use fable_library_rust::String_::concat;\n",
      "        use fable_library_rust::String_::printfn;\n",
      "        use fable_library_rust::String_::sprintf;\n",
      "        use fable_library_rust::String_::string;\n",
      "        pub fn method1(v0: bool) -> bool {\n",
      "            v0\n",
      "        }\n",
      "        pub fn closure0(v0: string, unitVar: ()) {\n",
      "            printfn!(\"{0}\", v0);\n",
      "        }\n",
      "        pub fn method0() {\n",
      "            let v14: string = concat(new_array(&[\n",
      "                string(\"1\"),\n",
      "                string(\"\\n\"),\n",
      "                concat(new_array(&[\n",
      "                    string(\"2\"),\n",
      "                    string(\"\\n\"),\n",
      "                    concat(new_array(&[string(\"3\"), string(\"\"), string(\"\")])),\n",
      "                ])),\n",
      "            ]));\n",
      "            let v18: bool = (v14.clone()) == string(\"1\\n2\\n3\");\n",
      "            let v20: bool = if v18 { true } else { Spiral::method1(v18) };\n",
      "            let v23: string = sprintf!(\n",
      "                \"{} / actual: {:?} / expected: {:?}\",\n",
      "                string(\"__assert_eq\"),\n",
      "                v14,\n",
      "                string(\"1\\n2\\n3\")\n",
      "            );\n",
      "            let v28: () = {\n",
      "                Spiral::closure0(v23.clone(), ());\n",
      "                ()\n",
      "            };\n",
      "            if (v20) == false {\n",
      "                panic!(\"{}\", v23,);\n",
      "            }\n",
      "        }\n",
      "        // on_startup!(Spiral::method0());\n",
      "    }\n",
      "}\n",
      "pub use module_6ff740fe::*;\n",
      "\n",
      "\n",
      "\n",
      "pub fn main() -> Result<(), String> { Ok(Spiral::method0()) }\n",
      "\n",
      ".ts:\n",
      "import { interpolate, toText, concat } from \"./fable_modules/fable-library-ts.5.0.0-alpha.2/String.js\";\n",
      "\n",
      "export function method1(v0: boolean): boolean {\n",
      "    return v0;\n",
      "}\n",
      "\n",
      "export function closure0(v0: string, unitVar: void): void {\n",
      "    console.log(v0);\n",
      "}\n",
      "\n",
      "export function method0(): void {\n",
      "    const v14: string = concat(\"1\", \"\\n\", ...concat(\"2\", \"\\n\", ...concat(\"3\", \"\", ...\"\")));\n",
      "    const v18: boolean = v14 === \"1\\n2\\n3\";\n",
      "    const v20: boolean = v18 ? true : method1(v18);\n",
      "    const v23: string = toText(interpolate(\"%P() / actual: %A%P() / expected: %A%P()\", [\"__assert_eq\", v14, \"1\\n2\\n3\"]));\n",
      "    let v28: any;\n",
      "    closure0(v23, undefined);\n",
      "    v28 = undefined;\n",
      "    if (v20 === false) {\n",
      "        throw new Error(v23);\n",
      "    }\n",
      "}\n",
      "\n",
      "method0();\n",
      "\n",
      "\n",
      ".py:\n",
      "from fable_modules.fable_library.string_ import (concat, to_text, interpolate)\n",
      "\n",
      "def method1(v0: bool) -> bool:\n",
      "    return v0\n",
      "\n",
      "\n",
      "def closure0(v0: str, unit_var: None) -> None:\n",
      "    print(v0)\n",
      "\n",
      "\n",
      "def method0(__unit: None=None) -> None:\n",
      "    v14: str = concat(\"1\", \"\\n\", *concat(\"2\", \"\\n\", *concat(\"3\", \"\", *\"\")))\n",
      "    v18: bool = v14 == \"1\\n2\\n3\"\n",
      "    v20: bool = True if v18 else method1(v18)\n",
      "    v23: str = to_text(interpolate(\"%P() / actual: %A%P() / expected: %A%P()\", [\"__assert_eq\", v14, \"1\\n2\\n3\"]))\n",
      "    v28: None\n",
      "    closure0(v23, None)\n",
      "    v28 = None\n",
      "    if v20 == False:\n",
      "        raise Exception(v23)\n",
      "\n",
      "\n",
      "\n",
      "method0()\n",
      "\n",
      "\n",
      ".py (Cuda):\n",
      "kernel = r\"\"\"\n",
      "\"\"\"\n",
      "class static_array():\n",
      "    def __init__(self, length):\n",
      "        self.ptr = []\n",
      "        for _ in range(length):\n",
      "            self.ptr.append(None)\n",
      "\n",
      "    def __getitem__(self, index):\n",
      "        assert 0 <= index < len(self.ptr), \"The get index needs to be in range.\"\n",
      "        return self.ptr[index]\n",
      "    \n",
      "    def __setitem__(self, index, value):\n",
      "        assert 0 <= index < len(self.ptr), \"The set index needs to be in range.\"\n",
      "        self.ptr[index] = value\n",
      "\n",
      "class static_array_list(static_array):\n",
      "    def __init__(self, length):\n",
      "        super().__init__(length)\n",
      "        self.length = 0\n",
      "\n",
      "    def __getitem__(self, index):\n",
      "        assert 0 <= index < self.length, \"The get index needs to be in range.\"\n",
      "        return self.ptr[index]\n",
      "    \n",
      "    def __setitem__(self, index, value):\n",
      "        assert 0 <= index < self.length, \"The set index needs to be in range.\"\n",
      "        self.ptr[index] = value\n",
      "\n",
      "    def push(self,value):\n",
      "        assert (self.length < len(self.ptr)), \"The length before pushing has to be less than the maximum length of the array.\"\n",
      "        self.ptr[self.length] = value\n",
      "        self.length += 1\n",
      "\n",
      "    def pop(self):\n",
      "        assert (0 < self.length), \"The length before popping has to be greater than 0.\"\n",
      "        self.length -= 1\n",
      "        return self.ptr[self.length]\n",
      "\n",
      "    def unsafe_set_length(self,i):\n",
      "        assert 0 <= i <= len(self.ptr), \"The new length has to be in range.\"\n",
      "        self.length = i\n",
      "\n",
      "class dynamic_array(static_array): \n",
      "    pass\n",
      "\n",
      "class dynamic_array_list(static_array_list):\n",
      "    def length_(self): return self.length\n",
      "\n",
      "import cupy as cp\n",
      "import numpy as np\n",
      "from dataclasses import dataclass\n",
      "from typing import NamedTuple, Union, Callable, Tuple\n",
      "i8 = int; i16 = int; i32 = int; i64 = int; u8 = int; u16 = int; u32 = int; u64 = int; f32 = float; f64 = float; char = str; string = str\n",
      "cuda = False\n",
      "\n",
      "def method1(v0 : bool) -> bool:\n",
      "    return v0\n",
      "def method0() -> None:\n",
      "    v4 = \"3\"\n",
      "    v5 = \"\"\n",
      "    v6 = f\"{v4}{v5}{v5}\"\n",
      "    del v4, v5\n",
      "    v9 = \"\\n\"\n",
      "    v12 = \"2\"\n",
      "    v13 = f\"{v12}{v9}{v6}\"\n",
      "    del v6, v12\n",
      "    v18 = \"1\"\n",
      "    v19 = f\"{v18}{v9}{v13}\"\n",
      "    del v9, v13, v18\n",
      "    v22 = v19 == \"1\\n2\\n3\"\n",
      "    if v22:\n",
      "        v24 = True\n",
      "    else:\n",
      "        v24 = method1(v22)\n",
      "    del v22\n",
      "    v28 = \"__assert_eq\"\n",
      "    v29 = \"1\\n2\\n3\"\n",
      "    v30 = f\"{v28} / actual: {v19} / expected: {v29}\"\n",
      "    del v19, v28, v29\n",
      "    print(v30)\n",
      "    v36 = v24 == False\n",
      "    del v24\n",
      "    if v36:\n",
      "        del v36\n",
      "        raise Exception(v30)\n",
      "    else:\n",
      "        del v30, v36\n",
      "        return \n",
      "def main_body():\n",
      "    return method0()\n",
      "\n",
      "def main():\n",
      "    r = main_body()\n",
      "    if cuda: cp.cuda.get_current_stream().synchronize() # This line is here so the `__trap()` calls on the kernel aren't missed.\n",
      "    return r\n",
      "\n",
      "if __name__ == '__main__': result = main(); None if result is None else print(result)\n",
      "\n",
      ".fsx output:\n",
      "__assert_eq / actual: \"1\n",
      "2\n",
      "3\" / expected: \"1\n",
      "2\n",
      "3\"\n"
     ]
    }
   ],
   "source": [
    "//// test\n",
    "///! fsharp\n",
    "///! cuda\n",
    "///! rust\n",
    "///! typescript\n",
    "///! python\n",
    "//// print_code\n",
    "\n",
    "[\n",
    "    \"1\"\n",
    "    \"2\"\n",
    "    \"3\"\n",
    "]\n",
    "|> fun x =>\n",
    "    inl code = (x : _) |> concat_list_interpolation \"\\n\"\n",
    "    code\n",
    "    |> _assert_eq \"1\\n2\\n3\""
   ]
  },
  {
   "cell_type": "markdown",
   "metadata": {},
   "source": [
    "### ellipsis"
   ]
  },
  {
   "cell_type": "code",
   "execution_count": null,
   "metadata": {
    "dotnet_interactive": {
     "language": "spiral"
    },
    "polyglot_notebook": {
     "kernelName": "spiral"
    }
   },
   "outputs": [],
   "source": [
    "inl ellipsis (max : i32) (s : string) =\n",
    "    if sm.length s <= max\n",
    "    then s\n",
    "    else s |> slice 0 (max - 1) |> fun x => $'!x + \"...\"'"
   ]
  },
  {
   "cell_type": "code",
   "execution_count": null,
   "metadata": {
    "dotnet_interactive": {
     "language": "spiral"
    },
    "polyglot_notebook": {
     "kernelName": "spiral"
    }
   },
   "outputs": [
    {
     "data": {
      "text/plain": [
       "\n",
       ".py output (Cuda):\n",
       "__assert_eq / actual: 12... / expected: 12...\n",
       "__assert_eq / actual: 1234... / expected: 1234...\n",
       "\n",
       "\n",
       ".rs output:\n",
       "__assert_eq / actual: \"12...\" / expected: \"12...\"\n",
       "__assert_eq / actual: \"1234...\" / expected: \"1234...\"\n",
       "\n",
       "\n",
       ".ts output:\n",
       "__assert_eq / actual: 12... / expected: 12...\n",
       "__assert_eq / actual: 1234... / expected: 1234...\n",
       "\n",
       "\n",
       ".py output:\n",
       "__assert_eq / actual: 12... / expected: 12...\n",
       "__assert_eq / actual: 1234... / expected: 1234...\n",
       "\n",
       "\n"
      ]
     },
     "metadata": {},
     "output_type": "display_data"
    },
    {
     "name": "stdout",
     "output_type": "stream",
     "text": [
      ".fsx output:\n",
      "__assert_eq / actual: \"12...\" / expected: \"12...\"\n",
      "__assert_eq / actual: \"1234...\" / expected: \"1234...\"\n"
     ]
    }
   ],
   "source": [
    "//// test\n",
    "///! fsharp\n",
    "///! cuda\n",
    "///! rust\n",
    "///! typescript\n",
    "///! python\n",
    "\n",
    "\"12345\"\n",
    "|> ellipsis 2\n",
    "|> _assert_eq \"12...\"\n",
    "\n",
    "\"12345\"\n",
    "|> ellipsis 4\n",
    "|> _assert_eq \"1234...\""
   ]
  },
  {
   "cell_type": "markdown",
   "metadata": {},
   "source": [
    "## fsharp"
   ]
  },
  {
   "cell_type": "markdown",
   "metadata": {},
   "source": [
    "### last_index_of"
   ]
  },
  {
   "cell_type": "code",
   "execution_count": null,
   "metadata": {
    "dotnet_interactive": {
     "language": "spiral"
    },
    "polyglot_notebook": {
     "kernelName": "spiral"
    }
   },
   "outputs": [],
   "source": [
    "inl last_index_of (search : string) (s : string) : i32 =\n",
    "    $'!s.LastIndexOf !search '"
   ]
  },
  {
   "cell_type": "markdown",
   "metadata": {},
   "source": [
    "### index_of"
   ]
  },
  {
   "cell_type": "code",
   "execution_count": null,
   "metadata": {
    "dotnet_interactive": {
     "language": "spiral"
    },
    "polyglot_notebook": {
     "kernelName": "spiral"
    }
   },
   "outputs": [],
   "source": [
    "inl index_of (search : string) (s : string) : i32 =\n",
    "    backend_switch {\n",
    "        Fsharp = fun () => $'!s.IndexOf !search ' : i32\n",
    "        Python = fun () => $'!s.find(!search)' : i32\n",
    "    }"
   ]
  },
  {
   "cell_type": "markdown",
   "metadata": {},
   "source": [
    "### replicate"
   ]
  },
  {
   "cell_type": "code",
   "execution_count": null,
   "metadata": {
    "dotnet_interactive": {
     "language": "spiral"
    },
    "polyglot_notebook": {
     "kernelName": "spiral"
    }
   },
   "outputs": [],
   "source": [
    "inl replicate (n : int) (s : string) : string =\n",
    "    inl rec body i acc =\n",
    "        if i >= n\n",
    "        then acc\n",
    "        else loop (i + 1) (acc +. s)\n",
    "    and inl loop i = join_body_unit body n i\n",
    "    loop 0 \"\""
   ]
  },
  {
   "cell_type": "code",
   "execution_count": null,
   "metadata": {
    "dotnet_interactive": {
     "language": "spiral"
    },
    "polyglot_notebook": {
     "kernelName": "spiral"
    }
   },
   "outputs": [
    {
     "name": "stdout",
     "output_type": "stream",
     "text": [
      ".fsx:\n",
      "let rec method1 (v0 : bool) : bool =\n",
      "    v0\n",
      "and closure0 (v0 : string) () : unit =\n",
      "    let v1 : (string -> unit) = System.Console.WriteLine\n",
      "    v1 v0\n",
      "and method0 () : unit =\n",
      "    let v0 : string = \"\"\n",
      "    let v1 : string = \"12\"\n",
      "    let v2 : string = v0 + v1 \n",
      "    let v3 : string = v2 + v1 \n",
      "    let v4 : string = v3 + v1 \n",
      "    let v5 : bool = v4 = \"121212\"\n",
      "    let v7 : bool =\n",
      "        if v5 then\n",
      "            true\n",
      "        else\n",
      "            method1(v5)\n",
      "    let v8 : string = \"__assert_eq\"\n",
      "    let v9 : string = \"121212\"\n",
      "    let v10 : string = $\"{v8} / actual: %A{v4} / expected: %A{v9}\"\n",
      "    let v13 : unit = ()\n",
      "    let v14 : (unit -> unit) = closure0(v10)\n",
      "    let v15 : unit = (fun () -> v14 (); v13) ()\n",
      "    let v17 : bool = v7 = false\n",
      "    if v17 then\n",
      "        failwith<unit> v10\n",
      "method0()\n",
      "\n",
      "\n",
      "__assert_eq / actual: \"121212\" / expected: \"121212\"\n"
     ]
    }
   ],
   "source": [
    "//// test\n",
    "///! fsharp\n",
    "//// print_code\n",
    "\n",
    "\"12\"\n",
    "|> replicate 3\n",
    "|> _assert_eq \"121212\""
   ]
  },
  {
   "cell_type": "code",
   "execution_count": null,
   "metadata": {
    "dotnet_interactive": {
     "language": "spiral"
    },
    "polyglot_notebook": {
     "kernelName": "spiral"
    }
   },
   "outputs": [
    {
     "data": {
      "text/plain": [
       ".py output (Cuda):\n",
       "__assert_eq / actual: 121212 / expected: 121212\n",
       "\n",
       ".rs output:\n",
       "__assert_eq / actual: \"121212\" / expected: \"121212\"\n",
       "\n",
       ".ts output:\n",
       "__assert_eq / actual: 121212 / expected: 121212\n",
       "\n",
       ".py output:\n",
       "__assert_eq / actual: 121212 / expected: 121212\n",
       "\n"
      ]
     },
     "metadata": {},
     "output_type": "display_data"
    },
    {
     "name": "stdout",
     "output_type": "stream",
     "text": [
      ".fsx output:\n",
      "__assert_eq / actual: \"121212\" / expected: \"121212\"\n"
     ]
    }
   ],
   "source": [
    "//// test\n",
    "///! fsharp\n",
    "///! cuda\n",
    "///! rust\n",
    "///! typescript\n",
    "///! python\n",
    "\n",
    "\"12\"\n",
    "|> replicate 3\n",
    "|> _assert_eq \"121212\""
   ]
  },
  {
   "cell_type": "markdown",
   "metadata": {},
   "source": [
    "### obj_to_string"
   ]
  },
  {
   "cell_type": "code",
   "execution_count": null,
   "metadata": {
    "dotnet_interactive": {
     "language": "spiral"
    },
    "polyglot_notebook": {
     "kernelName": "spiral"
    }
   },
   "outputs": [],
   "source": [
    "inl obj_to_string x : string =\n",
    "    backend_switch {\n",
    "        Fsharp = fun () => x |> $'_.ToString()' : string\n",
    "        Python = fun () => $'str(!x)' : string\n",
    "    }"
   ]
  },
  {
   "cell_type": "markdown",
   "metadata": {},
   "source": [
    "### pad_left"
   ]
  },
  {
   "cell_type": "code",
   "execution_count": null,
   "metadata": {
    "dotnet_interactive": {
     "language": "spiral"
    },
    "polyglot_notebook": {
     "kernelName": "spiral"
    }
   },
   "outputs": [],
   "source": [
    "inl pad_left (total_width : int) (padding_char : char) (s : string) : string =\n",
    "    inl padding = padding_char |> obj_to_string |> replicate (total_width - length s)\n",
    "    padding +. s"
   ]
  },
  {
   "cell_type": "markdown",
   "metadata": {},
   "source": [
    "### pad_right"
   ]
  },
  {
   "cell_type": "code",
   "execution_count": null,
   "metadata": {
    "dotnet_interactive": {
     "language": "spiral"
    },
    "polyglot_notebook": {
     "kernelName": "spiral"
    }
   },
   "outputs": [],
   "source": [
    "inl pad_right (total_width : int) (padding_char : char) (s : string) : string =\n",
    "    inl padding = padding_char |> obj_to_string |> replicate (total_width - length s)\n",
    "    s +. padding"
   ]
  },
  {
   "cell_type": "code",
   "execution_count": null,
   "metadata": {
    "dotnet_interactive": {
     "language": "spiral"
    },
    "polyglot_notebook": {
     "kernelName": "spiral"
    }
   },
   "outputs": [
    {
     "data": {
      "text/plain": [
       ".py output (Cuda):\n",
       "__assert_eq / actual: 123    / expected: 123   \n",
       "\n",
       ".rs output:\n",
       "__assert_eq / actual: \"123   \" / expected: \"123   \"\n",
       "\n",
       ".ts output:\n",
       "__assert_eq / actual: 123    / expected: 123   \n",
       "\n",
       ".py output:\n",
       "__assert_eq / actual: 123    / expected: 123   \n",
       "\n"
      ]
     },
     "metadata": {},
     "output_type": "display_data"
    },
    {
     "name": "stdout",
     "output_type": "stream",
     "text": [
      ".fsx output:\n",
      "__assert_eq / actual: \"123   \" / expected: \"123   \"\n"
     ]
    }
   ],
   "source": [
    "//// test\n",
    "///! fsharp\n",
    "///! cuda\n",
    "///! rust\n",
    "///! typescript\n",
    "///! python\n",
    "\n",
    "\"123\"\n",
    "|> pad_right 6 ' '\n",
    "|> _assert_eq \"123   \""
   ]
  },
  {
   "cell_type": "markdown",
   "metadata": {},
   "source": [
    "### convert_to_utf32"
   ]
  },
  {
   "cell_type": "code",
   "execution_count": null,
   "metadata": {
    "dotnet_interactive": {
     "language": "spiral"
    },
    "polyglot_notebook": {
     "kernelName": "spiral"
    }
   },
   "outputs": [],
   "source": [
    "inl convert_to_utf32 (c : char) : int =\n",
    "    backend_switch {\n",
    "        Fsharp = fun () =>\n",
    "            run_target_args' c function\n",
    "            | Fsharp (Native) => fun c => $'System.Char.ConvertToUtf32 (string !c, 0)' : int\n",
    "            | _ => fun c => c |> i32\n",
    "        Python = fun () => $'ord(!c)' : int\n",
    "    }"
   ]
  },
  {
   "cell_type": "markdown",
   "metadata": {},
   "source": [
    "### ends_with"
   ]
  },
  {
   "cell_type": "code",
   "execution_count": null,
   "metadata": {
    "dotnet_interactive": {
     "language": "spiral"
    },
    "polyglot_notebook": {
     "kernelName": "spiral"
    }
   },
   "outputs": [],
   "source": [
    "inl ends_with (value : string) (s : string) : bool =\n",
    "    backend_switch {\n",
    "        Fsharp = fun () => $'!s.EndsWith (!value, false, null)' : bool\n",
    "        Python = fun () => $'!s.endswith(!value)' : bool\n",
    "    }"
   ]
  },
  {
   "cell_type": "markdown",
   "metadata": {},
   "source": [
    "### starts_with"
   ]
  },
  {
   "cell_type": "code",
   "execution_count": null,
   "metadata": {
    "dotnet_interactive": {
     "language": "spiral"
    },
    "polyglot_notebook": {
     "kernelName": "spiral"
    }
   },
   "outputs": [],
   "source": [
    "inl starts_with (value : string) (s : string) : bool =\n",
    "    backend_switch {\n",
    "        Fsharp = fun () => $'!s.StartsWith (!value, false, null)' : bool\n",
    "        Python = fun () => $'!s.startswith(!value)' : bool\n",
    "    }"
   ]
  },
  {
   "cell_type": "markdown",
   "metadata": {},
   "source": [
    "### is_white_space"
   ]
  },
  {
   "cell_type": "code",
   "execution_count": null,
   "metadata": {
    "dotnet_interactive": {
     "language": "spiral"
    },
    "polyglot_notebook": {
     "kernelName": "spiral"
    }
   },
   "outputs": [],
   "source": [
    "inl is_white_space (c : char) : bool =\n",
    "    c |> $'System.Char.IsWhiteSpace'"
   ]
  },
  {
   "cell_type": "markdown",
   "metadata": {},
   "source": [
    "### substring"
   ]
  },
  {
   "cell_type": "code",
   "execution_count": null,
   "metadata": {
    "dotnet_interactive": {
     "language": "spiral"
    },
    "polyglot_notebook": {
     "kernelName": "spiral"
    }
   },
   "outputs": [],
   "source": [
    "inl substring (start : i32) (len : i32) (str : string) : string =\n",
    "    $'!str.Substring (!start, !len)'"
   ]
  },
  {
   "cell_type": "markdown",
   "metadata": {},
   "source": [
    "### to_lower"
   ]
  },
  {
   "cell_type": "code",
   "execution_count": null,
   "metadata": {
    "dotnet_interactive": {
     "language": "spiral"
    },
    "polyglot_notebook": {
     "kernelName": "spiral"
    }
   },
   "outputs": [],
   "source": [
    "inl to_lower (input : string) : string =\n",
    "    backend_switch {\n",
    "        Fsharp = fun () => $'!input.ToLower' () : string\n",
    "        Python = fun () => $'!input.lower()' : string\n",
    "    }"
   ]
  },
  {
   "cell_type": "markdown",
   "metadata": {},
   "source": [
    "### to_upper"
   ]
  },
  {
   "cell_type": "code",
   "execution_count": null,
   "metadata": {
    "dotnet_interactive": {
     "language": "spiral"
    },
    "polyglot_notebook": {
     "kernelName": "spiral"
    }
   },
   "outputs": [],
   "source": [
    "inl to_upper (input : string) : string =\n",
    "    $'!input.ToUpper' ()"
   ]
  },
  {
   "cell_type": "markdown",
   "metadata": {},
   "source": [
    "### char_to_upper"
   ]
  },
  {
   "cell_type": "code",
   "execution_count": null,
   "metadata": {
    "dotnet_interactive": {
     "language": "spiral"
    },
    "polyglot_notebook": {
     "kernelName": "spiral"
    }
   },
   "outputs": [],
   "source": [
    "inl char_to_upper (input : char) : char =\n",
    "    backend_switch {\n",
    "        Fsharp = fun () => $'System.Char.ToUpper !input ' : char\n",
    "        Python = fun () => $'!input.upper()' : char\n",
    "    }"
   ]
  },
  {
   "cell_type": "markdown",
   "metadata": {},
   "source": [
    "### string_builder"
   ]
  },
  {
   "cell_type": "code",
   "execution_count": null,
   "metadata": {
    "dotnet_interactive": {
     "language": "spiral"
    },
    "polyglot_notebook": {
     "kernelName": "spiral"
    }
   },
   "outputs": [],
   "source": [
    "nominal string_builder_python =\n",
    "    `(\n",
    "        global \"import io\"\n",
    "        $'' : $'io.StringIO'\n",
    "    )\n",
    "type string_builder_switch =\n",
    "    {\n",
    "        Fsharp : $'System.Text.StringBuilder'\n",
    "        Python : string_builder_python\n",
    "    }\n",
    "nominal string_builder = $'backend_switch `(string_builder_switch)'\n",
    "\n",
    "inl string_builder (initial : string) : string_builder =\n",
    "    inl initial =\n",
    "        if initial = \"\"\n",
    "        then join initial\n",
    "        else initial\n",
    "    \n",
    "    backend_switch {\n",
    "        Fsharp = fun () => initial |> $'`string_builder ' : string_builder\n",
    "        Python = fun () =>\n",
    "            global \"import io\"\n",
    "            global \"class CustomStringIO(io.StringIO):\\n    def __init__(self, init=''):\\n        super().__init__()\\n        if init != '': self.write(init)\\n    def __str__(self): return self.getvalue()\\n    def __repr__(self): return self.getvalue()\"\n",
    "            $'CustomStringIO(!initial)' : string_builder\n",
    "    }"
   ]
  },
  {
   "cell_type": "markdown",
   "metadata": {},
   "source": [
    "### builder_append"
   ]
  },
  {
   "cell_type": "code",
   "execution_count": null,
   "metadata": {
    "dotnet_interactive": {
     "language": "spiral"
    },
    "polyglot_notebook": {
     "kernelName": "spiral"
    }
   },
   "outputs": [],
   "source": [
    "inl builder_append (item : string) (sb : string_builder) : string_builder =\n",
    "    backend_switch {\n",
    "        Fsharp = fun () =>\n",
    "            ($'!sb.Append' item : string_builder) |> ignore\n",
    "            sb\n",
    "        Python = fun () =>\n",
    "            ($'!sb.write(!item)' : int) |> ignore\n",
    "            sb\n",
    "    }"
   ]
  },
  {
   "cell_type": "code",
   "execution_count": null,
   "metadata": {
    "dotnet_interactive": {
     "language": "spiral"
    },
    "polyglot_notebook": {
     "kernelName": "spiral"
    }
   },
   "outputs": [
    {
     "data": {
      "text/plain": [
       ".py output (Cuda):\n",
       "__assert_eq / actual: abcdef / expected: abcdef\n",
       "\n",
       ".rs output:\n",
       "__assert_eq / actual: \"abcdef\" / expected: \"abcdef\"\n",
       "\n",
       ".ts output:\n",
       "__assert_eq / actual: abcdef / expected: abcdef\n",
       "\n",
       ".py output:\n",
       "__assert_eq / actual: abcdef / expected: abcdef\n",
       "\n"
      ]
     },
     "metadata": {},
     "output_type": "display_data"
    },
    {
     "name": "stdout",
     "output_type": "stream",
     "text": [
      ".fsx output:\n",
      "__assert_eq / actual: \"abcdef\" / expected: \"abcdef\"\n"
     ]
    }
   ],
   "source": [
    "//// test\n",
    "///! fsharp\n",
    "///! cuda\n",
    "///! rust\n",
    "///! typescript\n",
    "///! python\n",
    "\n",
    "\"ab\"\n",
    "|> string_builder\n",
    "|> builder_append \"cd\"\n",
    "|> builder_append \"ef\"\n",
    "|> sm'.obj_to_string\n",
    "|> _assert_eq \"abcdef\""
   ]
  },
  {
   "cell_type": "markdown",
   "metadata": {},
   "source": [
    "### builder_append_line"
   ]
  },
  {
   "cell_type": "code",
   "execution_count": null,
   "metadata": {
    "dotnet_interactive": {
     "language": "spiral"
    },
    "polyglot_notebook": {
     "kernelName": "spiral"
    }
   },
   "outputs": [],
   "source": [
    "inl builder_append_line (sb : string_builder) : string_builder =\n",
    "    backend_switch {\n",
    "        Fsharp = fun () =>\n",
    "            ($'!sb.AppendLine ()' : string_builder) |> ignore\n",
    "            sb\n",
    "        Python = fun () =>\n",
    "            sb |> builder_append \"\\n\"\n",
    "    }"
   ]
  },
  {
   "cell_type": "markdown",
   "metadata": {},
   "source": [
    "### builder_replace"
   ]
  },
  {
   "cell_type": "code",
   "execution_count": null,
   "metadata": {
    "dotnet_interactive": {
     "language": "spiral"
    },
    "polyglot_notebook": {
     "kernelName": "spiral"
    }
   },
   "outputs": [],
   "source": [
    "inl builder_replace (old : string) (new : string) (sb : string_builder) : string_builder =\n",
    "    backend_switch {\n",
    "        Fsharp = fun () =>\n",
    "            ($'!sb.Replace (!old, !new)' : string_builder) |> ignore\n",
    "            sb\n",
    "        Python = fun () =>\n",
    "            ($'!sb.getvalue().replace(!old, !new)' : string) |> string_builder\n",
    "    }"
   ]
  },
  {
   "cell_type": "markdown",
   "metadata": {},
   "source": [
    "### builder_insert"
   ]
  },
  {
   "cell_type": "code",
   "execution_count": null,
   "metadata": {
    "dotnet_interactive": {
     "language": "spiral"
    },
    "polyglot_notebook": {
     "kernelName": "spiral"
    }
   },
   "outputs": [],
   "source": [
    "inl builder_insert (i : i32) (s : string) (sb : string_builder) : string_builder =\n",
    "    backend_switch {\n",
    "        Fsharp = fun () =>\n",
    "            ($'!sb.Insert (!i, !s)' : string_builder) |> ignore\n",
    "            sb\n",
    "        Python = fun () =>\n",
    "            inl sb = sb |> obj_to_string\n",
    "            $'\"\".join([!sb[:!i], !s, !sb[!i:]])' |> string_builder\n",
    "    }"
   ]
  },
  {
   "cell_type": "markdown",
   "metadata": {},
   "source": [
    "### builder_clear"
   ]
  },
  {
   "cell_type": "code",
   "execution_count": null,
   "metadata": {
    "dotnet_interactive": {
     "language": "spiral"
    },
    "polyglot_notebook": {
     "kernelName": "spiral"
    }
   },
   "outputs": [],
   "source": [
    "inl builder_clear (sb : string_builder) : string_builder =\n",
    "    backend_switch {\n",
    "        Fsharp = fun () =>\n",
    "            ($'!sb.Clear' () : string_builder) |> ignore\n",
    "            sb\n",
    "        Python = fun () =>\n",
    "            ($'!sb.truncate(0)' : int) |> ignore\n",
    "            ($'!sb.seek(0)' : int) |> ignore\n",
    "            sb\n",
    "    }"
   ]
  },
  {
   "cell_type": "markdown",
   "metadata": {},
   "source": [
    "### trim"
   ]
  },
  {
   "cell_type": "code",
   "execution_count": null,
   "metadata": {
    "dotnet_interactive": {
     "language": "spiral"
    },
    "polyglot_notebook": {
     "kernelName": "spiral"
    }
   },
   "outputs": [],
   "source": [
    "inl trim (input : string) : string =\n",
    "    backend_switch {\n",
    "        Fsharp = fun () => $'!input.Trim' () : string\n",
    "        Python = fun () => $'!input.strip()' : string\n",
    "    }"
   ]
  },
  {
   "cell_type": "markdown",
   "metadata": {},
   "source": [
    "### concat"
   ]
  },
  {
   "cell_type": "code",
   "execution_count": null,
   "metadata": {
    "dotnet_interactive": {
     "language": "spiral"
    },
    "polyglot_notebook": {
     "kernelName": "spiral"
    }
   },
   "outputs": [],
   "source": [
    "inl concat (a : string) (b : seq.seq' string) : string =\n",
    "    backend_switch {\n",
    "        Fsharp = fun () =>\n",
    "            inl a =\n",
    "                if a = \"\\n\"\n",
    "                then join a\n",
    "                else a\n",
    "            b |> $'String.concat' a : string\n",
    "        Python = fun () =>\n",
    "            $'!a.join(!b)' : string\n",
    "    }"
   ]
  },
  {
   "cell_type": "markdown",
   "metadata": {},
   "source": [
    "### trim_end"
   ]
  },
  {
   "cell_type": "code",
   "execution_count": null,
   "metadata": {
    "dotnet_interactive": {
     "language": "spiral"
    },
    "polyglot_notebook": {
     "kernelName": "spiral"
    }
   },
   "outputs": [],
   "source": [
    "inl trim_end (trim_chars : list char) (input : string) : string =\n",
    "    inl trim_chars = trim_chars |> listm'.box\n",
    "    backend_switch {\n",
    "        Fsharp = fun () =>\n",
    "            inl trim_chars = trim_chars |> listm'.to_array'\n",
    "            $'!input.TrimEnd !trim_chars ' : string\n",
    "        Python = fun () =>\n",
    "            inl trim_chars = trim_chars |> listm'.map obj_to_string |> seq.of_list' |> concat \"\"\n",
    "            $'!input.rstrip(!trim_chars)' : string\n",
    "    }"
   ]
  },
  {
   "cell_type": "markdown",
   "metadata": {},
   "source": [
    "### trim_start"
   ]
  },
  {
   "cell_type": "code",
   "execution_count": null,
   "metadata": {
    "dotnet_interactive": {
     "language": "spiral"
    },
    "polyglot_notebook": {
     "kernelName": "spiral"
    }
   },
   "outputs": [],
   "source": [
    "inl trim_start (trim_chars : list char) (input : string) : string =\n",
    "    inl trim_chars = trim_chars |> listm'.box\n",
    "    backend_switch {\n",
    "        Fsharp = fun () =>\n",
    "            inl trim_chars = trim_chars |> listm'.to_array'\n",
    "            $'!input.TrimStart !trim_chars ' : string\n",
    "        Python = fun () =>\n",
    "            inl trim_chars = trim_chars |> listm'.map obj_to_string |> seq.of_list' |> concat \"\"\n",
    "            $'!input.lstrip(!trim_chars)' : string\n",
    "    }"
   ]
  },
  {
   "cell_type": "markdown",
   "metadata": {},
   "source": [
    "### length'"
   ]
  },
  {
   "cell_type": "code",
   "execution_count": null,
   "metadata": {
    "dotnet_interactive": {
     "language": "spiral"
    },
    "polyglot_notebook": {
     "kernelName": "spiral"
    }
   },
   "outputs": [],
   "source": [
    "inl length' forall dim. (input : string) : dim =\n",
    "    backend_switch {\n",
    "        Fsharp = fun () => input |> $'String.length' : dim\n",
    "        Python = fun () => $'len(!input)' : dim\n",
    "    }"
   ]
  },
  {
   "cell_type": "code",
   "execution_count": null,
   "metadata": {
    "dotnet_interactive": {
     "language": "spiral"
    },
    "polyglot_notebook": {
     "kernelName": "spiral"
    }
   },
   "outputs": [
    {
     "data": {
      "text/plain": [
       ".py output (Cuda):\n",
       "__assert_eq / actual: 3 / expected: 3\n",
       "\n"
      ]
     },
     "metadata": {},
     "output_type": "display_data"
    },
    {
     "name": "stdout",
     "output_type": "stream",
     "text": [
      ".fsx output:\n",
      "__assert_eq / actual: 3 / expected: 3\n"
     ]
    }
   ],
   "source": [
    "//// test\n",
    "///! fsharp\n",
    "///! cuda\n",
    "\n",
    "\"abc\"\n",
    "|> length'\n",
    "|> _assert_eq 3i32"
   ]
  },
  {
   "cell_type": "markdown",
   "metadata": {},
   "source": [
    "### to_string any"
   ]
  },
  {
   "cell_type": "code",
   "execution_count": null,
   "metadata": {
    "dotnet_interactive": {
     "language": "spiral"
    },
    "polyglot_notebook": {
     "kernelName": "spiral"
    }
   },
   "outputs": [],
   "source": [
    "instance to_string any =\n",
    "    obj_to_string"
   ]
  },
  {
   "cell_type": "markdown",
   "metadata": {},
   "source": [
    "### (~$)"
   ]
  },
  {
   "cell_type": "code",
   "execution_count": null,
   "metadata": {
    "dotnet_interactive": {
     "language": "spiral"
    },
    "polyglot_notebook": {
     "kernelName": "spiral"
    }
   },
   "outputs": [],
   "source": [
    "inl (~$) s =\n",
    "    s |> obj_to_string"
   ]
  },
  {
   "cell_type": "markdown",
   "metadata": {},
   "source": [
    "### replace"
   ]
  },
  {
   "cell_type": "code",
   "execution_count": null,
   "metadata": {
    "dotnet_interactive": {
     "language": "spiral"
    },
    "polyglot_notebook": {
     "kernelName": "spiral"
    }
   },
   "outputs": [],
   "source": [
    "inl replace (old_value : string) (new_value : string) (s : string) : string =\n",
    "    $'!s.Replace (!old_value, !new_value)'"
   ]
  },
  {
   "cell_type": "markdown",
   "metadata": {},
   "source": [
    "### split"
   ]
  },
  {
   "cell_type": "code",
   "execution_count": null,
   "metadata": {
    "dotnet_interactive": {
     "language": "spiral"
    },
    "polyglot_notebook": {
     "kernelName": "spiral"
    }
   },
   "outputs": [],
   "source": [
    "inl split (separator : string) (str : string) : array_base string =\n",
    "    backend_switch {\n",
    "        Fsharp = fun () => $'!str.Split !separator ' : array_base string\n",
    "        Python = fun () => $'!str.split(!separator)' : array_base string\n",
    "    }"
   ]
  },
  {
   "cell_type": "markdown",
   "metadata": {},
   "source": [
    "### split_string"
   ]
  },
  {
   "cell_type": "code",
   "execution_count": null,
   "metadata": {
    "dotnet_interactive": {
     "language": "spiral"
    },
    "polyglot_notebook": {
     "kernelName": "spiral"
    }
   },
   "outputs": [],
   "source": [
    "inl split_string (separator : array_base string) (str : string) : array_base string =\n",
    "    run_target_args (fun () => str, separator) function\n",
    "        | Fsharp (Native) => fun str, separator => $'!str.Split (!separator, System.StringSplitOptions.None)'\n",
    "        | _ => fun str, separator => str |> split ((a separator : _ int _) |> seq.of_array |> concat (join \"\"))"
   ]
  },
  {
   "cell_type": "markdown",
   "metadata": {},
   "source": [
    "### join'"
   ]
  },
  {
   "cell_type": "code",
   "execution_count": null,
   "metadata": {
    "dotnet_interactive": {
     "language": "spiral"
    },
    "polyglot_notebook": {
     "kernelName": "spiral"
    }
   },
   "outputs": [],
   "source": [
    "inl join' (concat : string) (s : a int string) : string =\n",
    "    $'System.String.Join (!concat, !s)'"
   ]
  },
  {
   "cell_type": "markdown",
   "metadata": {},
   "source": [
    "### encoding"
   ]
  },
  {
   "cell_type": "code",
   "execution_count": null,
   "metadata": {
    "dotnet_interactive": {
     "language": "spiral"
    },
    "polyglot_notebook": {
     "kernelName": "spiral"
    }
   },
   "outputs": [],
   "source": [
    "nominal encoding = $'System.Text.Encoding'"
   ]
  },
  {
   "cell_type": "markdown",
   "metadata": {},
   "source": [
    "### encoding_utf8"
   ]
  },
  {
   "cell_type": "code",
   "execution_count": null,
   "metadata": {
    "dotnet_interactive": {
     "language": "spiral"
    },
    "polyglot_notebook": {
     "kernelName": "spiral"
    }
   },
   "outputs": [],
   "source": [
    "inl encoding_utf8 () : encoding =\n",
    "    $'`encoding.UTF8'"
   ]
  },
  {
   "cell_type": "markdown",
   "metadata": {},
   "source": [
    "### utf8_get_bytes"
   ]
  },
  {
   "cell_type": "code",
   "execution_count": null,
   "metadata": {
    "dotnet_interactive": {
     "language": "spiral"
    },
    "polyglot_notebook": {
     "kernelName": "spiral"
    }
   },
   "outputs": [],
   "source": [
    "inl utf8_get_bytes (s : string) : a i32 u8 =\n",
    "    s |> (encoding_utf8 () |> $'_.GetBytes')"
   ]
  },
  {
   "cell_type": "markdown",
   "metadata": {},
   "source": [
    "### byte_to_string"
   ]
  },
  {
   "cell_type": "code",
   "execution_count": null,
   "metadata": {
    "dotnet_interactive": {
     "language": "spiral"
    },
    "polyglot_notebook": {
     "kernelName": "spiral"
    }
   },
   "outputs": [],
   "source": [
    "inl byte_to_string (format : string) (x : u8) : string =\n",
    "    $'!x.ToString' format"
   ]
  },
  {
   "cell_type": "markdown",
   "metadata": {},
   "source": [
    "## rust"
   ]
  },
  {
   "cell_type": "markdown",
   "metadata": {},
   "source": [
    "### str"
   ]
  },
  {
   "cell_type": "code",
   "execution_count": null,
   "metadata": {
    "dotnet_interactive": {
     "language": "spiral"
    },
    "polyglot_notebook": {
     "kernelName": "spiral"
    }
   },
   "outputs": [],
   "source": [
    "nominal str =\n",
    "    `(\n",
    "        global \"#if FABLE_COMPILER\\n[<Fable.Core.Erase; Fable.Core.Emit(\\\"str\\\")>]\\ntype Str = class end\\n#else\\ntype Str = string\\n#endif\\n\"\n",
    "        $'' : $'Str'\n",
    "    )"
   ]
  },
  {
   "cell_type": "markdown",
   "metadata": {},
   "source": [
    "### chars"
   ]
  },
  {
   "cell_type": "code",
   "execution_count": null,
   "metadata": {
    "dotnet_interactive": {
     "language": "spiral"
    },
    "polyglot_notebook": {
     "kernelName": "spiral"
    }
   },
   "outputs": [],
   "source": [
    "inl chars (x : rust.ref str) : rust.mut' (into_iterator char) =\n",
    "    !\\\\(x, $'$\"$0.chars()\"')"
   ]
  },
  {
   "cell_type": "markdown",
   "metadata": {},
   "source": [
    "### char_is_alphanumeric"
   ]
  },
  {
   "cell_type": "code",
   "execution_count": null,
   "metadata": {
    "dotnet_interactive": {
     "language": "spiral"
    },
    "polyglot_notebook": {
     "kernelName": "spiral"
    }
   },
   "outputs": [],
   "source": [
    "inl char_is_alphanumeric (x : char) : bool =\n",
    "    !\\\\(x, $'$\"$0.is_alphanumeric()\"')"
   ]
  },
  {
   "cell_type": "markdown",
   "metadata": {},
   "source": [
    "### byte_slice"
   ]
  },
  {
   "cell_type": "code",
   "execution_count": null,
   "metadata": {
    "dotnet_interactive": {
     "language": "spiral"
    },
    "polyglot_notebook": {
     "kernelName": "spiral"
    }
   },
   "outputs": [],
   "source": [
    "inl byte_slice (s : string) : rust.ref (am'.slice u8) =\n",
    "    !\\($'\"b\\\\\\\"\" + !s + \"\\\\\\\"\"')"
   ]
  },
  {
   "cell_type": "markdown",
   "metadata": {},
   "source": [
    "### display"
   ]
  },
  {
   "cell_type": "code",
   "execution_count": null,
   "metadata": {
    "dotnet_interactive": {
     "language": "spiral"
    },
    "polyglot_notebook": {
     "kernelName": "spiral"
    }
   },
   "outputs": [],
   "source": [
    "nominal display t =\n",
    "    `(\n",
    "        global \"#if FABLE_COMPILER\\n[<Fable.Core.Erase; Fable.Core.Emit(\\\"std::fmt::Display<$0>\\\")>]\\n#endif\\ntype std_fmt_Display<'T> = class end\"\n",
    "        $'' : $'std_fmt_Display<`t>'\n",
    "    )"
   ]
  },
  {
   "cell_type": "markdown",
   "metadata": {},
   "source": [
    "### base64_decode_error"
   ]
  },
  {
   "cell_type": "code",
   "execution_count": null,
   "metadata": {
    "dotnet_interactive": {
     "language": "spiral"
    },
    "polyglot_notebook": {
     "kernelName": "spiral"
    }
   },
   "outputs": [],
   "source": [
    "nominal base64_decode_error =\n",
    "    `(\n",
    "        global \"#if FABLE_COMPILER\\n[<Fable.Core.Erase; Fable.Core.Emit(\\\"base64::DecodeError\\\")>]\\n#endif\\ntype base64_DecodeError = class end\"\n",
    "        $'' : $'base64_DecodeError'\n",
    "    )"
   ]
  },
  {
   "cell_type": "markdown",
   "metadata": {},
   "source": [
    "### borsh_io_error"
   ]
  },
  {
   "cell_type": "code",
   "execution_count": null,
   "metadata": {
    "dotnet_interactive": {
     "language": "spiral"
    },
    "polyglot_notebook": {
     "kernelName": "spiral"
    }
   },
   "outputs": [],
   "source": [
    "nominal borsh_io_error =\n",
    "    `(\n",
    "        global \"#if FABLE_COMPILER\\n[<Fable.Core.Erase; Fable.Core.Emit(\\\"borsh::io::Error\\\")>]\\n#endif\\ntype borsh_io_Error = class end\"\n",
    "        $'' : $'borsh_io_Error'\n",
    "    )"
   ]
  },
  {
   "cell_type": "markdown",
   "metadata": {},
   "source": [
    "### utf8_error"
   ]
  },
  {
   "cell_type": "code",
   "execution_count": null,
   "metadata": {
    "dotnet_interactive": {
     "language": "spiral"
    },
    "polyglot_notebook": {
     "kernelName": "spiral"
    }
   },
   "outputs": [],
   "source": [
    "nominal utf8_error =\n",
    "    `(\n",
    "        global \"#if FABLE_COMPILER\\n[<Fable.Core.Erase; Fable.Core.Emit(\\\"std::str::Utf8Error\\\")>]\\n#endif\\ntype std_str_Utf8Error = class end\"\n",
    "        $'' : $'std_str_Utf8Error'\n",
    "    )"
   ]
  },
  {
   "cell_type": "markdown",
   "metadata": {},
   "source": [
    "### from_utf8_error"
   ]
  },
  {
   "cell_type": "code",
   "execution_count": null,
   "metadata": {
    "dotnet_interactive": {
     "language": "spiral"
    },
    "polyglot_notebook": {
     "kernelName": "spiral"
    }
   },
   "outputs": [],
   "source": [
    "nominal from_utf8_error =\n",
    "    `(\n",
    "        global \"#if FABLE_COMPILER\\n[<Fable.Core.Erase; Fable.Core.Emit(\\\"std::string::FromUtf8Error\\\")>]\\n#endif\\ntype std_string_FromUtf8Error = class end\"\n",
    "        $'' : $'std_string_FromUtf8Error'\n",
    "    )"
   ]
  },
  {
   "cell_type": "markdown",
   "metadata": {},
   "source": [
    "### json_value"
   ]
  },
  {
   "cell_type": "code",
   "execution_count": null,
   "metadata": {
    "dotnet_interactive": {
     "language": "spiral"
    },
    "polyglot_notebook": {
     "kernelName": "spiral"
    }
   },
   "outputs": [],
   "source": [
    "nominal json_value =\n",
    "    `(\n",
    "        global \"#if FABLE_COMPILER\\n[<Fable.Core.Erase; Fable.Core.Emit(\\\"serde_json::Value\\\")>]\\n#endif\\ntype serde_json_Value = class end\"\n",
    "        $'' : $'serde_json_Value'\n",
    "    )"
   ]
  },
  {
   "cell_type": "markdown",
   "metadata": {},
   "source": [
    "### json_error"
   ]
  },
  {
   "cell_type": "code",
   "execution_count": null,
   "metadata": {
    "dotnet_interactive": {
     "language": "spiral"
    },
    "polyglot_notebook": {
     "kernelName": "spiral"
    }
   },
   "outputs": [],
   "source": [
    "nominal json_error =\n",
    "    `(\n",
    "        global \"#if FABLE_COMPILER\\n[<Fable.Core.Erase; Fable.Core.Emit(\\\"serde_json::Error\\\")>]\\n#endif\\ntype serde_json_Error = class end\"\n",
    "        $'' : $'serde_json_Error'\n",
    "    )"
   ]
  },
  {
   "cell_type": "markdown",
   "metadata": {},
   "source": [
    "### serde_wasm_bindgen_error"
   ]
  },
  {
   "cell_type": "code",
   "execution_count": null,
   "metadata": {
    "dotnet_interactive": {
     "language": "spiral"
    },
    "polyglot_notebook": {
     "kernelName": "spiral"
    }
   },
   "outputs": [],
   "source": [
    "nominal serde_wasm_bindgen_error =\n",
    "    `(\n",
    "        global \"#if FABLE_COMPILER\\n[<Fable.Core.Erase; Fable.Core.Emit(\\\"serde_wasm_bindgen::Error\\\")>]\\n#endif\\ntype serde_wasm_bindgen_Error = class end\"\n",
    "        $'' : $'serde_wasm_bindgen_Error'\n",
    "    )"
   ]
  },
  {
   "cell_type": "markdown",
   "metadata": {},
   "source": [
    "### js_string"
   ]
  },
  {
   "cell_type": "code",
   "execution_count": null,
   "metadata": {
    "dotnet_interactive": {
     "language": "spiral"
    },
    "polyglot_notebook": {
     "kernelName": "spiral"
    }
   },
   "outputs": [],
   "source": [
    "nominal js_string =\n",
    "    `(\n",
    "        global \"#if FABLE_COMPILER\\n[<Fable.Core.Erase; Fable.Core.Emit(\\\"js_sys::JsString\\\")>]\\n#endif\\ntype js_sys_JsString = class end\"\n",
    "        $'' : $'js_sys_JsString'\n",
    "    )"
   ]
  },
  {
   "cell_type": "markdown",
   "metadata": {},
   "source": [
    "### os_str"
   ]
  },
  {
   "cell_type": "code",
   "execution_count": null,
   "metadata": {
    "dotnet_interactive": {
     "language": "spiral"
    },
    "polyglot_notebook": {
     "kernelName": "spiral"
    }
   },
   "outputs": [],
   "source": [
    "nominal os_str =\n",
    "    `(\n",
    "        global \"#if FABLE_COMPILER\\n[<Fable.Core.Erase; Fable.Core.Emit(\\\"std::ffi::OsStr\\\")>]\\n#endif\\ntype std_ffi_OsStr = class end\"\n",
    "        $'' : $'std_ffi_OsStr'\n",
    "    )"
   ]
  },
  {
   "cell_type": "markdown",
   "metadata": {},
   "source": [
    "### c_str"
   ]
  },
  {
   "cell_type": "code",
   "execution_count": null,
   "metadata": {
    "dotnet_interactive": {
     "language": "spiral"
    },
    "polyglot_notebook": {
     "kernelName": "spiral"
    }
   },
   "outputs": [],
   "source": [
    "nominal c_str =\n",
    "    `(\n",
    "        global \"#if FABLE_COMPILER\\n[<Fable.Core.Erase; Fable.Core.Emit(\\\"std::ffi::CStr\\\")>]\\n#endif\\ntype std_ffi_CStr = class end\"\n",
    "        $'' : $'std_ffi_CStr'\n",
    "    )"
   ]
  },
  {
   "cell_type": "markdown",
   "metadata": {},
   "source": [
    "### c_string"
   ]
  },
  {
   "cell_type": "code",
   "execution_count": null,
   "metadata": {
    "dotnet_interactive": {
     "language": "spiral"
    },
    "polyglot_notebook": {
     "kernelName": "spiral"
    }
   },
   "outputs": [],
   "source": [
    "nominal c_string =\n",
    "    `(\n",
    "        global \"#if FABLE_COMPILER\\n[<Fable.Core.Erase; Fable.Core.Emit(\\\"std::ffi::CString\\\")>]\\n#endif\\ntype std_ffi_CString = class end\"\n",
    "        $'' : $'std_ffi_CString'\n",
    "    )"
   ]
  },
  {
   "cell_type": "markdown",
   "metadata": {},
   "source": [
    "### os_string"
   ]
  },
  {
   "cell_type": "code",
   "execution_count": null,
   "metadata": {
    "dotnet_interactive": {
     "language": "spiral"
    },
    "polyglot_notebook": {
     "kernelName": "spiral"
    }
   },
   "outputs": [],
   "source": [
    "nominal os_string =\n",
    "    `(\n",
    "        global \"#if FABLE_COMPILER\\n[<Fable.Core.Erase; Fable.Core.Emit(\\\"std::ffi::OsString\\\")>]\\n#endif\\ntype std_ffi_OsString = class end\"\n",
    "        $'' : $'std_ffi_OsString'\n",
    "    )"
   ]
  },
  {
   "cell_type": "markdown",
   "metadata": {},
   "source": [
    "### raw_string_literal"
   ]
  },
  {
   "cell_type": "code",
   "execution_count": null,
   "metadata": {
    "dotnet_interactive": {
     "language": "spiral"
    },
    "polyglot_notebook": {
     "kernelName": "spiral"
    }
   },
   "outputs": [],
   "source": [
    "inl raw_string_literal (s : string) : rust.ref str =\n",
    "    !\\($'\"r#\\\\\"\" + !s + \"\\\\\"#\"')"
   ]
  },
  {
   "cell_type": "markdown",
   "metadata": {},
   "source": [
    "### raw_string_literal_static"
   ]
  },
  {
   "cell_type": "code",
   "execution_count": null,
   "metadata": {
    "dotnet_interactive": {
     "language": "spiral"
    },
    "polyglot_notebook": {
     "kernelName": "spiral"
    }
   },
   "outputs": [],
   "source": [
    "inl raw_string_literal_static (s : string) : rust.static_ref str =\n",
    "    !\\($'\"r#\\\\\"\" + !s + \"\\\\\"#\"')"
   ]
  },
  {
   "cell_type": "markdown",
   "metadata": {},
   "source": [
    "### (~#)"
   ]
  },
  {
   "cell_type": "code",
   "execution_count": null,
   "metadata": {
    "dotnet_interactive": {
     "language": "spiral"
    },
    "polyglot_notebook": {
     "kernelName": "spiral"
    }
   },
   "outputs": [],
   "source": [
    "inl (~#) s =\n",
    "    s |> raw_string_literal"
   ]
  },
  {
   "cell_type": "markdown",
   "metadata": {},
   "source": [
    "### (~##)"
   ]
  },
  {
   "cell_type": "code",
   "execution_count": null,
   "metadata": {
    "dotnet_interactive": {
     "language": "spiral"
    },
    "polyglot_notebook": {
     "kernelName": "spiral"
    }
   },
   "outputs": [],
   "source": [
    "inl (~##) s =\n",
    "    s |> raw_string_literal_static"
   ]
  },
  {
   "cell_type": "markdown",
   "metadata": {},
   "source": [
    "### include_str"
   ]
  },
  {
   "cell_type": "code",
   "execution_count": null,
   "metadata": {
    "dotnet_interactive": {
     "language": "spiral"
    },
    "polyglot_notebook": {
     "kernelName": "spiral"
    }
   },
   "outputs": [],
   "source": [
    "inl include_str (path : string) : rust.ref str =\n",
    "    !\\($'\"include_str\\!(\\\\\\\"\" + !path + \"\\\\\\\")\"')"
   ]
  },
  {
   "cell_type": "markdown",
   "metadata": {},
   "source": [
    "### as_str"
   ]
  },
  {
   "cell_type": "code",
   "execution_count": null,
   "metadata": {
    "dotnet_interactive": {
     "language": "spiral"
    },
    "polyglot_notebook": {
     "kernelName": "spiral"
    }
   },
   "outputs": [],
   "source": [
    "inl as_str (s : string) : rust.ref str =\n",
    "    // !\\\\(s, $'\"fable_library_rust::String_::LrcStr::as_str(&$0)\"')\n",
    "    run_target_args (fun () => s) function\n",
    "        | Rust _ => fun s => !\\\\(s, $'\"&*$0\"')\n",
    "        | _ => fun s => s |> unbox"
   ]
  },
  {
   "cell_type": "markdown",
   "metadata": {},
   "source": [
    "### from_iter"
   ]
  },
  {
   "cell_type": "code",
   "execution_count": null,
   "metadata": {
    "dotnet_interactive": {
     "language": "spiral"
    },
    "polyglot_notebook": {
     "kernelName": "spiral"
    }
   },
   "outputs": [],
   "source": [
    "inl from_iter forall (t : * -> *). (s : t char) : std_string =\n",
    "    !\\\\(s, $'\"String::from_iter($0)\"')"
   ]
  },
  {
   "cell_type": "markdown",
   "metadata": {},
   "source": [
    "### ref_to_std_string"
   ]
  },
  {
   "cell_type": "code",
   "execution_count": null,
   "metadata": {
    "dotnet_interactive": {
     "language": "spiral"
    },
    "polyglot_notebook": {
     "kernelName": "spiral"
    }
   },
   "outputs": [],
   "source": [
    "inl ref_to_std_string (str : rust.ref str) : std_string =\n",
    "    run_target_args (fun () => str) function\n",
    "        | Rust _ => fun str => !\\\\(str, $'\"String::from($0)\"')\n",
    "        | _ => fun str => str |> unbox"
   ]
  },
  {
   "cell_type": "markdown",
   "metadata": {},
   "source": [
    "### cow_to_std_string"
   ]
  },
  {
   "cell_type": "code",
   "execution_count": null,
   "metadata": {
    "dotnet_interactive": {
     "language": "spiral"
    },
    "polyglot_notebook": {
     "kernelName": "spiral"
    }
   },
   "outputs": [],
   "source": [
    "inl cow_to_std_string (str : rust.cow str) : std_string =\n",
    "    !\\\\(str, $'\"String::from($0)\"')"
   ]
  },
  {
   "cell_type": "markdown",
   "metadata": {},
   "source": [
    "### to_std_string"
   ]
  },
  {
   "cell_type": "code",
   "execution_count": null,
   "metadata": {
    "dotnet_interactive": {
     "language": "spiral"
    },
    "polyglot_notebook": {
     "kernelName": "spiral"
    }
   },
   "outputs": [],
   "source": [
    "inl to_std_string (s : string) : std_string =\n",
    "    s |> as_str |> ref_to_std_string"
   ]
  },
  {
   "cell_type": "markdown",
   "metadata": {},
   "source": [
    "### as_str_std"
   ]
  },
  {
   "cell_type": "code",
   "execution_count": null,
   "metadata": {
    "dotnet_interactive": {
     "language": "spiral"
    },
    "polyglot_notebook": {
     "kernelName": "spiral"
    }
   },
   "outputs": [],
   "source": [
    "inl as_str_std (s : std_string) : rust.ref str =\n",
    "    !\\\\(s, $'\"$0.as_str()\"')"
   ]
  },
  {
   "cell_type": "markdown",
   "metadata": {},
   "source": [
    "### into_boxed_str"
   ]
  },
  {
   "cell_type": "code",
   "execution_count": null,
   "metadata": {
    "dotnet_interactive": {
     "language": "spiral"
    },
    "polyglot_notebook": {
     "kernelName": "spiral"
    }
   },
   "outputs": [],
   "source": [
    "inl into_boxed_str (s : std_string) : rust.box str =\n",
    "    !\\\\(s, $'\"$0.into_boxed_str()\"')"
   ]
  },
  {
   "cell_type": "markdown",
   "metadata": {},
   "source": [
    "### os_string_as_ref"
   ]
  },
  {
   "cell_type": "code",
   "execution_count": null,
   "metadata": {
    "dotnet_interactive": {
     "language": "spiral"
    },
    "polyglot_notebook": {
     "kernelName": "spiral"
    }
   },
   "outputs": [],
   "source": [
    "inl os_string_as_ref (s : os_string) : rust.ref os_str =\n",
    "    !\\\\(s, $'\"$0.as_ref()\"')"
   ]
  },
  {
   "cell_type": "markdown",
   "metadata": {},
   "source": [
    "### to_os_string"
   ]
  },
  {
   "cell_type": "code",
   "execution_count": null,
   "metadata": {
    "dotnet_interactive": {
     "language": "spiral"
    },
    "polyglot_notebook": {
     "kernelName": "spiral"
    }
   },
   "outputs": [],
   "source": [
    "inl to_os_string (s : rust.ref os_str) : os_string =\n",
    "    !\\\\(s, $'\"$0.to_os_string()\"')"
   ]
  },
  {
   "cell_type": "markdown",
   "metadata": {},
   "source": [
    "### new_c_string"
   ]
  },
  {
   "cell_type": "code",
   "execution_count": null,
   "metadata": {
    "dotnet_interactive": {
     "language": "spiral"
    },
    "polyglot_notebook": {
     "kernelName": "spiral"
    }
   },
   "outputs": [],
   "source": [
    "inl new_c_string (s : std_string) : c_string =\n",
    "    !\\\\(s, $'\"std::ffi::CString::new($0).unwrap()\"')"
   ]
  },
  {
   "cell_type": "markdown",
   "metadata": {},
   "source": [
    "### os_to_str"
   ]
  },
  {
   "cell_type": "code",
   "execution_count": null,
   "metadata": {
    "dotnet_interactive": {
     "language": "spiral"
    },
    "polyglot_notebook": {
     "kernelName": "spiral"
    }
   },
   "outputs": [],
   "source": [
    "inl os_to_str (s : os_string) : optionm'.option' (rust.ref str) =\n",
    "    !\\\\(s, $'\"$0.to_str()\"')"
   ]
  },
  {
   "cell_type": "markdown",
   "metadata": {},
   "source": [
    "### from_os_str_ref"
   ]
  },
  {
   "cell_type": "code",
   "execution_count": null,
   "metadata": {
    "dotnet_interactive": {
     "language": "spiral"
    },
    "polyglot_notebook": {
     "kernelName": "spiral"
    }
   },
   "outputs": [],
   "source": [
    "inl from_os_str_ref s =\n",
    "    s\n",
    "    |> to_os_string\n",
    "    |> os_to_str\n",
    "    |> optionm'.unwrap\n",
    "    |> ref_to_std_string\n",
    "    |> from_std_string"
   ]
  },
  {
   "cell_type": "markdown",
   "metadata": {},
   "source": [
    "### format_custom'"
   ]
  },
  {
   "cell_type": "code",
   "execution_count": null,
   "metadata": {
    "dotnet_interactive": {
     "language": "spiral"
    },
    "polyglot_notebook": {
     "kernelName": "spiral"
    }
   },
   "outputs": [],
   "source": [
    "inl format_custom' (f : string) x : std_string =\n",
    "    run_target function\n",
    "        | Rust _ => fun () =>\n",
    "            !\\\\(x, $'\"format\\!(\\\\\\\"\" + !f + \"\\\\\\\", $0)\"')\n",
    "        | _ => fun () => null ()"
   ]
  },
  {
   "cell_type": "markdown",
   "metadata": {},
   "source": [
    "### format_debug'"
   ]
  },
  {
   "cell_type": "code",
   "execution_count": null,
   "metadata": {
    "dotnet_interactive": {
     "language": "spiral"
    },
    "polyglot_notebook": {
     "kernelName": "spiral"
    }
   },
   "outputs": [],
   "source": [
    "inl format_debug' x : std_string =\n",
    "    run_target function\n",
    "        | Rust _ => fun () =>\n",
    "            !\\\\(x, $'\"format\\!(\\\\\\\"{:?}\\\\\\\", $0)\"')\n",
    "        | _ => fun () => null ()"
   ]
  },
  {
   "cell_type": "markdown",
   "metadata": {},
   "source": [
    "### format'"
   ]
  },
  {
   "cell_type": "code",
   "execution_count": null,
   "metadata": {
    "dotnet_interactive": {
     "language": "spiral"
    },
    "polyglot_notebook": {
     "kernelName": "spiral"
    }
   },
   "outputs": [],
   "source": [
    "inl format' x : std_string =\n",
    "    run_target_args (fun () => x) function\n",
    "        | Rust _ => fun x =>\n",
    "            !\\\\(x, $'\"format\\!(\\\\\\\"{}\\\\\\\", $0)\"')\n",
    "        | _ => fun _ => null ()"
   ]
  },
  {
   "cell_type": "markdown",
   "metadata": {},
   "source": [
    "### format_hex'"
   ]
  },
  {
   "cell_type": "code",
   "execution_count": null,
   "metadata": {
    "dotnet_interactive": {
     "language": "spiral"
    },
    "polyglot_notebook": {
     "kernelName": "spiral"
    }
   },
   "outputs": [],
   "source": [
    "inl format_hex' x : std_string =\n",
    "    !\\\\(x, $'\"format\\!(\\\\\\\"{:02x}\\\\\\\", $0)\"')"
   ]
  },
  {
   "cell_type": "markdown",
   "metadata": {},
   "source": [
    "### format''"
   ]
  },
  {
   "cell_type": "code",
   "execution_count": null,
   "metadata": {
    "dotnet_interactive": {
     "language": "spiral"
    },
    "polyglot_notebook": {
     "kernelName": "spiral"
    }
   },
   "outputs": [],
   "source": [
    "inl format'' (format : string) : std_string =\n",
    "    !\\($'@@$\"format\\!(\" + !format + \")\"')"
   ]
  },
  {
   "cell_type": "markdown",
   "metadata": {},
   "source": [
    "### regex"
   ]
  },
  {
   "cell_type": "code",
   "execution_count": null,
   "metadata": {
    "dotnet_interactive": {
     "language": "spiral"
    },
    "polyglot_notebook": {
     "kernelName": "spiral"
    }
   },
   "outputs": [],
   "source": [
    "nominal regex =\n",
    "    `(\n",
    "        global \"#if FABLE_COMPILER\\n[<Fable.Core.Erase; Fable.Core.Emit(\\\"regex::Regex\\\")>]\\n#endif\\ntype regex_Regex = class end\"\n",
    "        $'' : $'regex_Regex'\n",
    "    )"
   ]
  },
  {
   "cell_type": "markdown",
   "metadata": {},
   "source": [
    "### regex_error"
   ]
  },
  {
   "cell_type": "code",
   "execution_count": null,
   "metadata": {
    "dotnet_interactive": {
     "language": "spiral"
    },
    "polyglot_notebook": {
     "kernelName": "spiral"
    }
   },
   "outputs": [],
   "source": [
    "nominal regex_error =\n",
    "    `(\n",
    "        global \"#if FABLE_COMPILER\\n[<Fable.Core.Erase; Fable.Core.Emit(\\\"regex::Error\\\")>]\\n#endif\\ntype regex_Error = class end\"\n",
    "        $'' : $'regex_Error'\n",
    "    )"
   ]
  },
  {
   "cell_type": "markdown",
   "metadata": {},
   "source": [
    "### new_regex"
   ]
  },
  {
   "cell_type": "code",
   "execution_count": null,
   "metadata": {
    "dotnet_interactive": {
     "language": "spiral"
    },
    "polyglot_notebook": {
     "kernelName": "spiral"
    }
   },
   "outputs": [],
   "source": [
    "inl new_regex (pattern : string) : resultm.result' regex regex_error =\n",
    "    !\\\\(pattern, $'$\"regex::Regex::new(&$0)\"')"
   ]
  },
  {
   "cell_type": "markdown",
   "metadata": {},
   "source": [
    "### captures"
   ]
  },
  {
   "cell_type": "code",
   "execution_count": null,
   "metadata": {
    "dotnet_interactive": {
     "language": "spiral"
    },
    "polyglot_notebook": {
     "kernelName": "spiral"
    }
   },
   "outputs": [],
   "source": [
    "nominal regex_captures t =\n",
    "    `(\n",
    "        global \"#if FABLE_COMPILER\\n[<Fable.Core.Erase; Fable.Core.Emit(\\\"regex::Captures<$0>\\\")>]\\n#endif\\ntype regex_Captures<'T> = class end\"\n",
    "        $'' : $'regex_Captures<`t>'\n",
    "    )"
   ]
  },
  {
   "cell_type": "markdown",
   "metadata": {},
   "source": [
    "### regex_capture_matches"
   ]
  },
  {
   "cell_type": "code",
   "execution_count": null,
   "metadata": {
    "dotnet_interactive": {
     "language": "spiral"
    },
    "polyglot_notebook": {
     "kernelName": "spiral"
    }
   },
   "outputs": [],
   "source": [
    "nominal regex_capture_matches =\n",
    "    `(\n",
    "        global \"#if FABLE_COMPILER\\n[<Fable.Core.Erase; Fable.Core.Emit(\\\"regex::CaptureMatches\\\")>]\\n#endif\\ntype regex_CaptureMatches = class end\"\n",
    "        $'' : $'regex_CaptureMatches'\n",
    "    )"
   ]
  },
  {
   "cell_type": "markdown",
   "metadata": {},
   "source": [
    "### regex_capture_names"
   ]
  },
  {
   "cell_type": "code",
   "execution_count": null,
   "metadata": {
    "dotnet_interactive": {
     "language": "spiral"
    },
    "polyglot_notebook": {
     "kernelName": "spiral"
    }
   },
   "outputs": [],
   "source": [
    "nominal regex_capture_names =\n",
    "    `(\n",
    "        global \"#if FABLE_COMPILER\\n[<Fable.Core.Erase; Fable.Core.Emit(\\\"regex::CaptureNames\\\")>]\\n#endif\\ntype regex_CaptureNames = class end\"\n",
    "        $'' : $'regex_CaptureNames'\n",
    "    )\n",
    "\n",
    "inl regex_capture_names (regex : regex) : regex_capture_names =\n",
    "    !\\\\(regex, $'$\"$0.capture_names()\"')"
   ]
  },
  {
   "cell_type": "markdown",
   "metadata": {},
   "source": [
    "### match'"
   ]
  },
  {
   "cell_type": "code",
   "execution_count": null,
   "metadata": {
    "dotnet_interactive": {
     "language": "spiral"
    },
    "polyglot_notebook": {
     "kernelName": "spiral"
    }
   },
   "outputs": [],
   "source": [
    "nominal match' =\n",
    "    `(\n",
    "        global \"#if FABLE_COMPILER\\n[<Fable.Core.Erase; Fable.Core.Emit(\\\"regex::Match\\\")>]\\n#endif\\ntype regex_Match = class end\"\n",
    "        $'' : $'regex_Match'\n",
    "    )"
   ]
  },
  {
   "cell_type": "markdown",
   "metadata": {},
   "source": [
    "### regex_captures_iter"
   ]
  },
  {
   "cell_type": "code",
   "execution_count": null,
   "metadata": {
    "dotnet_interactive": {
     "language": "spiral"
    },
    "polyglot_notebook": {
     "kernelName": "spiral"
    }
   },
   "outputs": [],
   "source": [
    "inl regex_captures_iter (s : rust.static_ref (rust.mut' std_string)) (regex : regex) : regex_capture_matches =\n",
    "    inl regex = regex |> rust.emit\n",
    "    !\\\\(regex, $'$\"$0.captures_iter(!s)\"')"
   ]
  },
  {
   "cell_type": "markdown",
   "metadata": {},
   "source": [
    "### regex_captures"
   ]
  },
  {
   "cell_type": "code",
   "execution_count": null,
   "metadata": {
    "dotnet_interactive": {
     "language": "spiral"
    },
    "polyglot_notebook": {
     "kernelName": "spiral"
    }
   },
   "outputs": [],
   "source": [
    "let regex_captures (s : string) (regex : regex) : am'.vec (mapm.hash_map string string) =\n",
    "    // inl s = join s\n",
    "    // !\\\\(regex, $'$\"$0.captures_iter(&*!s).map(|caps| $0.capture_names().map(|x| x.and_then(|n| Some((n, caps.name(n)?.as_str())))).flatten().collect()).collect()\"')\n",
    "\n",
    "    inl s = s |> to_std_string\n",
    "    fun () =>\n",
    "        inl matches =\n",
    "            inl s = s |> rust.new_box |> rust.box_leak\n",
    "            regex |> regex_captures_iter s\n",
    "\n",
    "        (!\\($'\"true; let _regex_captures : Vec<_> = !matches.map(|x| { //\"') : bool) |> ignore\n",
    "\n",
    "        inl fn (match' : rust.static_ref (rust.mut' (regex_captures rust.static_lifetime))) : mapm.hash_map string string =\n",
    "\n",
    "            inl names = regex |> regex_capture_names\n",
    "\n",
    "            (!\\($'\"true; let _regex_captures : std::collections::HashMap<_, _> = !names.map(|x| { //\"') : bool) |> ignore\n",
    "\n",
    "            inl fn (n : string) : pair string string =\n",
    "                inl n' = n |> rust.clone\n",
    "\n",
    "                new_pair n' !\\\\(n, $'$\"!match'.name(&$0).map(|x| x.as_str()).unwrap_or(\\\\\\\"\\\\\\\").to_string().into()\"')\n",
    "\n",
    "            (!\\\\(fn !\\($'\"x.unwrap_or(\\\\\\\"\\\\\\\").to_string().into()\"'), $'\"true; $0 }).map(|x| std::sync::Arc::try_unwrap(x).unwrap_or_else(|x| (*x).clone())).collect()\"') : bool) |> ignore\n",
    "\n",
    "            !\\($'\"_regex_captures\"')\n",
    "\n",
    "        inl x =\n",
    "            !\\($'$\"x\"')\n",
    "            |> rust.new_box\n",
    "            |> rust.box_leak\n",
    "\n",
    "        (!\\\\(fn x, $'\"true; $0 }).collect::<Vec<_>>()\"') : bool) |> ignore\n",
    "\n",
    "        !\\($'\"_regex_captures\"')\n",
    "\n",
    "    |> rust.capture_move"
   ]
  },
  {
   "cell_type": "code",
   "execution_count": null,
   "metadata": {
    "dotnet_interactive": {
     "language": "spiral"
    },
    "polyglot_notebook": {
     "kernelName": "spiral"
    }
   },
   "outputs": [
    {
     "data": {
      "text/plain": [
       "__assert_eq / actual: \"[[(\"\", \"\"), (\"a\", \"4.17.0\")]]\" / expected: \"[[(\"\", \"\"), (\"a\", \"4.17.0\")]]\"\n"
      ]
     },
     "metadata": {},
     "output_type": "display_data"
    }
   ],
   "source": [
    "//// test\n",
    "///! rust -d regex\n",
    "\n",
    "\"fable-library-ts\\\\.(?<a>[\\\\d.]+)$\"\n",
    "|> new_regex\n",
    "|> resultm.unwrap'\n",
    "|> regex_captures \"fable_modules/fable-library-ts.4.17.0\"\n",
    "|> am'.vec_map (mapm.to_vec >> am'.vec_sort_by_key id)\n",
    "|> sm'.format_debug\n",
    "|> _assert_eq (\n",
    "    ;[\n",
    "        ;[ \"\", \"\"; \"a\", \"4.17.0\" ]\n",
    "        |> am'.to_vec\n",
    "    ]\n",
    "    |> am'.to_vec\n",
    "    |> sm'.format_debug\n",
    ")"
   ]
  },
  {
   "cell_type": "markdown",
   "metadata": {},
   "source": [
    "### replace_regex'"
   ]
  },
  {
   "cell_type": "code",
   "execution_count": null,
   "metadata": {
    "dotnet_interactive": {
     "language": "spiral"
    },
    "polyglot_notebook": {
     "kernelName": "spiral"
    }
   },
   "outputs": [],
   "source": [
    "inl replace_regex' (pattern : string) (replacement : a i32 string) (s : string) : string =\n",
    "    run_target_args (fun () => s, pattern, replacement) function\n",
    "        | Rust (Native) => fun s, pattern, replacement =>\n",
    "            inl regex = pattern |> new_regex |> resultm.unwrap'\n",
    "            !\\\\((regex, #s, replacement), $'$\"$0.replace_all($1, &*$2)\"')\n",
    "            |> cow_to_std_string\n",
    "            |> from_std_string\n",
    "        | _ => fun _ => null ()"
   ]
  },
  {
   "cell_type": "markdown",
   "metadata": {},
   "source": [
    "### serialize"
   ]
  },
  {
   "cell_type": "code",
   "execution_count": null,
   "metadata": {
    "dotnet_interactive": {
     "language": "spiral"
    },
    "polyglot_notebook": {
     "kernelName": "spiral"
    }
   },
   "outputs": [],
   "source": [
    "inl serialize forall t. (x : t) : resultm.result' std_string json_error =\n",
    "    !\\($'\"serde_json::to_string(&!x)\"')"
   ]
  },
  {
   "cell_type": "markdown",
   "metadata": {},
   "source": [
    "### deserialize"
   ]
  },
  {
   "cell_type": "code",
   "execution_count": null,
   "metadata": {
    "dotnet_interactive": {
     "language": "spiral"
    },
    "polyglot_notebook": {
     "kernelName": "spiral"
    }
   },
   "outputs": [],
   "source": [
    "inl deserialize forall t. (json : string) : resultm.result' t std_string =\n",
    "    inl json = join json\n",
    "    inl json = json |> as_str\n",
    "    !\\\\(json, $'\"serde_json::from_str(&$0)\"')\n",
    "    |> resultm.map_error' fun (x : json_error) => x |> format'"
   ]
  },
  {
   "cell_type": "markdown",
   "metadata": {},
   "source": [
    "### borsh_serialize"
   ]
  },
  {
   "cell_type": "code",
   "execution_count": null,
   "metadata": {
    "dotnet_interactive": {
     "language": "spiral"
    },
    "polyglot_notebook": {
     "kernelName": "spiral"
    }
   },
   "outputs": [],
   "source": [
    "inl borsh_serialize forall t. (data : t) : am'.vec u8 =\n",
    "    (!\\($'\"true; let mut data = Vec::new()\"') : bool) |> ignore\n",
    "    (!\\\\(data, $'\"true; borsh::BorshSerialize::serialize(&$0, &mut data).unwrap()\"') : bool) |> ignore\n",
    "    !\\($'\"data\"')"
   ]
  },
  {
   "cell_type": "markdown",
   "metadata": {},
   "source": [
    "### borsh_deserialize"
   ]
  },
  {
   "cell_type": "code",
   "execution_count": null,
   "metadata": {
    "dotnet_interactive": {
     "language": "spiral"
    },
    "polyglot_notebook": {
     "kernelName": "spiral"
    }
   },
   "outputs": [],
   "source": [
    "inl borsh_deserialize forall t. (data : array_base u8) : resultm.result' t std_string =\n",
    "    inl data = data |> am'.as_slice\n",
    "    (!\\($'\"true; let mut !data = !data\"') : bool) |> ignore\n",
    "    inl result = !\\($'\"borsh::BorshDeserialize::deserialize(&mut !data)\"')\n",
    "    result\n",
    "    |> resultm.map_error' fun (x : borsh_io_error) => x |> format'"
   ]
  },
  {
   "cell_type": "markdown",
   "metadata": {},
   "source": [
    "### deserialize_vec"
   ]
  },
  {
   "cell_type": "code",
   "execution_count": null,
   "metadata": {
    "dotnet_interactive": {
     "language": "spiral"
    },
    "polyglot_notebook": {
     "kernelName": "spiral"
    }
   },
   "outputs": [],
   "source": [
    "inl deserialize_vec (value : json_value) : resultm.result' (am'.vec u8) std_string =\n",
    "    inl value = join value\n",
    "    !\\($'\"serde_json::from_value(!value)\"')\n",
    "    |> resultm.map_error' fun (x : json_error) => x |> format'"
   ]
  },
  {
   "cell_type": "markdown",
   "metadata": {},
   "source": [
    "### encode_uri_component"
   ]
  },
  {
   "cell_type": "code",
   "execution_count": null,
   "metadata": {
    "dotnet_interactive": {
     "language": "spiral"
    },
    "polyglot_notebook": {
     "kernelName": "spiral"
    }
   },
   "outputs": [],
   "source": [
    "inl encode_uri_component (s : std_string) : js_string =\n",
    "    !\\($'\"js_sys::encode_uri_component(&!s)\"')"
   ]
  },
  {
   "cell_type": "markdown",
   "metadata": {},
   "source": [
    "### strip_prefix"
   ]
  },
  {
   "cell_type": "code",
   "execution_count": null,
   "metadata": {
    "dotnet_interactive": {
     "language": "spiral"
    },
    "polyglot_notebook": {
     "kernelName": "spiral"
    }
   },
   "outputs": [],
   "source": [
    "inl strip_prefix (prefix : char) (s : std_string) : optionm'.option' (rust.ref str) =\n",
    "    inl s = join s\n",
    "    !\\($'\"!s.strip_prefix(!prefix)\"')"
   ]
  },
  {
   "cell_type": "markdown",
   "metadata": {},
   "source": [
    "### str_from_utf8"
   ]
  },
  {
   "cell_type": "code",
   "execution_count": null,
   "metadata": {
    "dotnet_interactive": {
     "language": "spiral"
    },
    "polyglot_notebook": {
     "kernelName": "spiral"
    }
   },
   "outputs": [],
   "source": [
    "inl str_from_utf8 (bytes : rust.ref (am'.slice u8)) : resultm.result' (rust.ref str) utf8_error =\n",
    "    !\\\\(bytes, $'\"std::str::from_utf8($0)\"')"
   ]
  },
  {
   "cell_type": "markdown",
   "metadata": {},
   "source": [
    "### string_from_utf8"
   ]
  },
  {
   "cell_type": "code",
   "execution_count": null,
   "metadata": {
    "dotnet_interactive": {
     "language": "spiral"
    },
    "polyglot_notebook": {
     "kernelName": "spiral"
    }
   },
   "outputs": [],
   "source": [
    "inl string_from_utf8 (bytes : am'.vec u8) : resultm.result' std_string from_utf8_error =\n",
    "    inl bytes = join bytes\n",
    "    !\\\\(bytes, $'\"std::string::String::from_utf8($0)\"')"
   ]
  },
  {
   "cell_type": "markdown",
   "metadata": {},
   "source": [
    "### base64_decode"
   ]
  },
  {
   "cell_type": "code",
   "execution_count": null,
   "metadata": {
    "dotnet_interactive": {
     "language": "spiral"
    },
    "polyglot_notebook": {
     "kernelName": "spiral"
    }
   },
   "outputs": [],
   "source": [
    "inl base64_decode (s : std_string) : result std_string std_string =\n",
    "    fun () =>\n",
    "        inl s = join s\n",
    "        inl bytes : resultm.result' (am'.vec u8) base64_decode_error =\n",
    "            !\\($'\"base64::Engine::decode(&base64::engine::general_purpose::STANDARD, !s)\"')\n",
    "        bytes\n",
    "        |> resultm.map_error' format'\n",
    "        |> resultm.try'\n",
    "        |> string_from_utf8\n",
    "        |> resultm.map_error' format'\n",
    "    |> fun x =>\n",
    "        join x ()\n",
    "        |> resultm.unbox"
   ]
  },
  {
   "cell_type": "markdown",
   "metadata": {},
   "source": [
    "### encoding'"
   ]
  },
  {
   "cell_type": "code",
   "execution_count": null,
   "metadata": {
    "dotnet_interactive": {
     "language": "spiral"
    },
    "polyglot_notebook": {
     "kernelName": "spiral"
    }
   },
   "outputs": [],
   "source": [
    "nominal encoding' =\n",
    "    `(\n",
    "        global \"#if FABLE_COMPILER\\n[<Fable.Core.Erase; Fable.Core.Emit(\\\"encoding_rs::Encoding\\\")>]\\n#endif\\ntype encoding_rs_Encoding = class end\"\n",
    "        $'' : $'encoding_rs_Encoding'\n",
    "    )"
   ]
  },
  {
   "cell_type": "markdown",
   "metadata": {},
   "source": [
    "### encoding_utf8'"
   ]
  },
  {
   "cell_type": "code",
   "execution_count": null,
   "metadata": {
    "dotnet_interactive": {
     "language": "spiral"
    },
    "polyglot_notebook": {
     "kernelName": "spiral"
    }
   },
   "outputs": [],
   "source": [
    "inl encoding_utf8' () : rust.ref encoding' =\n",
    "    !\\($'\"encoding_rs::UTF_8\"')"
   ]
  },
  {
   "cell_type": "markdown",
   "metadata": {},
   "source": [
    "### encoding_1252"
   ]
  },
  {
   "cell_type": "code",
   "execution_count": null,
   "metadata": {
    "dotnet_interactive": {
     "language": "spiral"
    },
    "polyglot_notebook": {
     "kernelName": "spiral"
    }
   },
   "outputs": [],
   "source": [
    "inl encoding_1252' () : rust.ref encoding' =\n",
    "    !\\($'\"encoding_rs::WINDOWS_1252\"')"
   ]
  },
  {
   "cell_type": "markdown",
   "metadata": {},
   "source": [
    "### encoding_encode"
   ]
  },
  {
   "cell_type": "code",
   "execution_count": null,
   "metadata": {
    "dotnet_interactive": {
     "language": "spiral"
    },
    "polyglot_notebook": {
     "kernelName": "spiral"
    }
   },
   "outputs": [],
   "source": [
    "inl encoding_encode' (encoding : rust.ref encoding') (text : string) : rust.cow (am'.slice u8) =\n",
    "    !\\\\((encoding, text), $'\"$0.encode(&*$1).0\"')"
   ]
  },
  {
   "cell_type": "markdown",
   "metadata": {},
   "source": [
    "### utf8_decode"
   ]
  },
  {
   "cell_type": "code",
   "execution_count": null,
   "metadata": {
    "dotnet_interactive": {
     "language": "spiral"
    },
    "polyglot_notebook": {
     "kernelName": "spiral"
    }
   },
   "outputs": [],
   "source": [
    "inl utf8_decode (data : am'.vec u8) : resultm.result' std_string (rust.cow str) =\n",
    "    !\\($'$\"encoding::Encoding::decode(encoding::all::UTF_8, &!data, encoding::DecoderTrap::Replace)\"')"
   ]
  },
  {
   "cell_type": "markdown",
   "metadata": {},
   "source": [
    "### windows"
   ]
  },
  {
   "cell_type": "code",
   "execution_count": null,
   "metadata": {
    "dotnet_interactive": {
     "language": "spiral"
    },
    "polyglot_notebook": {
     "kernelName": "spiral"
    }
   },
   "outputs": [],
   "source": [
    "nominal windows t =\n",
    "    `(\n",
    "        global \"#if FABLE_COMPILER\\n[<Fable.Core.Erase; Fable.Core.Emit(\\\"std::slice::Windows<$0>\\\")>]\\n#endif\\ntype std_slice_Windows<'T> = class end\"\n",
    "        $'' : $'std_slice_Windows<`t>'\n",
    "    )\n",
    "\n",
    "inl windows (len : unativeint) (source : am'.vec u8) : windows u8 =\n",
    "    inl source = source |> rust.new_box |> rust.box_leak\n",
    "    // inl source' = source |> rust.clone\n",
    "    inl result = !\\\\(len, $'\"<[_]>::windows(!source, $0)\"')\n",
    "    // source |> rust.drop\n",
    "    result"
   ]
  },
  {
   "cell_type": "markdown",
   "metadata": {},
   "source": [
    "### any"
   ]
  },
  {
   "cell_type": "code",
   "execution_count": null,
   "metadata": {
    "dotnet_interactive": {
     "language": "spiral"
    },
    "polyglot_notebook": {
     "kernelName": "spiral"
    }
   },
   "outputs": [],
   "source": [
    "inl any forall t. (fn : string -> bool) (source : windows t) : bool =\n",
    "    (!\\($'\"true; let mut !source = !source\"') : bool) |> ignore\n",
    "    inl fn' x =\n",
    "        x\n",
    "        |> str_from_utf8\n",
    "        |> resultm.unwrap_or' #\"\"\n",
    "        |> ref_to_std_string\n",
    "        |> from_std_string\n",
    "        |> fn\n",
    "    !\\\\(fn', $'\"!source.any(move |x| $0(x))\"')"
   ]
  },
  {
   "cell_type": "markdown",
   "metadata": {},
   "source": [
    "### slice_contains"
   ]
  },
  {
   "cell_type": "code",
   "execution_count": null,
   "metadata": {
    "dotnet_interactive": {
     "language": "spiral"
    },
    "polyglot_notebook": {
     "kernelName": "spiral"
    }
   },
   "outputs": [],
   "source": [
    "inl slice_contains (text : string) (source : am'.vec u8) : bool =\n",
    "    fun () =>\n",
    "        inl source = join source\n",
    "        source\n",
    "        |> windows (text |> length |> (fun x => x : i32) |> convert)\n",
    "        |> any ((=.) text)\n",
    "    |> fun x => join x ()"
   ]
  },
  {
   "cell_type": "markdown",
   "metadata": {},
   "source": [
    "### as_bytes"
   ]
  },
  {
   "cell_type": "code",
   "execution_count": null,
   "metadata": {
    "dotnet_interactive": {
     "language": "spiral"
    },
    "polyglot_notebook": {
     "kernelName": "spiral"
    }
   },
   "outputs": [],
   "source": [
    "inl as_bytes (text : string) : rust.ref (am'.slice u8) =\n",
    "    inl text = join text\n",
    "    !\\($'\"!text.as_bytes()\"')"
   ]
  },
  {
   "cell_type": "markdown",
   "metadata": {},
   "source": [
    "### into_bytes"
   ]
  },
  {
   "cell_type": "code",
   "execution_count": null,
   "metadata": {
    "dotnet_interactive": {
     "language": "spiral"
    },
    "polyglot_notebook": {
     "kernelName": "spiral"
    }
   },
   "outputs": [],
   "source": [
    "inl into_bytes (x : std_string) : am'.vec u8 =\n",
    "    !\\\\(x, $'$\"$0.into_bytes()\"')"
   ]
  },
  {
   "cell_type": "markdown",
   "metadata": {},
   "source": [
    "## python"
   ]
  },
  {
   "cell_type": "markdown",
   "metadata": {},
   "source": [
    "### encode_utf8"
   ]
  },
  {
   "cell_type": "code",
   "execution_count": null,
   "metadata": {
    "dotnet_interactive": {
     "language": "spiral"
    },
    "polyglot_notebook": {
     "kernelName": "spiral"
    }
   },
   "outputs": [],
   "source": [
    "inl encode_utf8 (s : string) : string =\n",
    "    inl encoding = \"utf-8\"\n",
    "    backend_switch {\n",
    "        Fsharp = fun () =>\n",
    "            open python_operators\n",
    "            !\\\\((s, encoding), $'\"$0.encode($1)\"') : string\n",
    "        Python = fun () =>\n",
    "            $'!s.encode(!encoding)' : string\n",
    "    }"
   ]
  },
  {
   "cell_type": "markdown",
   "metadata": {},
   "source": [
    "## sm'"
   ]
  },
  {
   "cell_type": "markdown",
   "metadata": {},
   "source": [
    "### contains"
   ]
  },
  {
   "cell_type": "code",
   "execution_count": null,
   "metadata": {
    "dotnet_interactive": {
     "language": "spiral"
    },
    "polyglot_notebook": {
     "kernelName": "spiral"
    }
   },
   "outputs": [],
   "source": [
    "inl contains (value : string) (s : string) : bool =\n",
    "    backend_switch {\n",
    "        Fsharp = fun () => $'!s.Contains !value ' : bool\n",
    "        Python = fun () => $'!value in !s ' : bool\n",
    "    }"
   ]
  },
  {
   "cell_type": "markdown",
   "metadata": {},
   "source": [
    "### to_string result t u"
   ]
  },
  {
   "cell_type": "code",
   "execution_count": null,
   "metadata": {
    "dotnet_interactive": {
     "language": "spiral"
    },
    "polyglot_notebook": {
     "kernelName": "spiral"
    }
   },
   "outputs": [],
   "source": [
    "instance to_string result t u = fun x =>\n",
    "    real\n",
    "        open rust\n",
    "        typecase (t * u) with\n",
    "        | string * string =>\n",
    "            match x with\n",
    "            | Ok x => x\n",
    "            | Error x => $'\"sm\\'.to_string result / Error: \" + !x + \"\"' : string\n",
    "        | std_string * std_string =>\n",
    "            match x with\n",
    "            | Ok x => from_std_string x\n",
    "            | Error x => $'\"sm\\'.to_string result / Error: \" + string !x + \"\"' : string\n",
    "        | _ => obj_to_string `u x"
   ]
  },
  {
   "cell_type": "markdown",
   "metadata": {},
   "source": [
    "### format_exception"
   ]
  },
  {
   "cell_type": "code",
   "execution_count": null,
   "metadata": {
    "dotnet_interactive": {
     "language": "spiral"
    },
    "polyglot_notebook": {
     "kernelName": "spiral"
    }
   },
   "outputs": [],
   "source": [
    "inl format_exception (ex : exn) : string =\n",
    "    run_target function\n",
    "        | Fsharp (Native) => fun () => $'$\"{!ex.GetType ()}: {!ex.Message}\"'\n",
    "        | _ => fun () => ex |> format_debug"
   ]
  },
  {
   "cell_type": "code",
   "execution_count": null,
   "metadata": {
    "dotnet_interactive": {
     "language": "spiral"
    },
    "polyglot_notebook": {
     "kernelName": "spiral"
    }
   },
   "outputs": [
    {
     "data": {
      "text/plain": [
       ".py output (Cuda):\n",
       "__assert_eq / actual: test / expected: test\n",
       "\n",
       ".rs output:\n",
       "__assert_eq / actual: \"Exception { message: \"test\" }\" / expected: \"Exception { message: \"test\" }\"\n",
       "\n",
       ".ts output:\n",
       "__assert_eq / actual: Error: test / expected: Error: test\n",
       "\n",
       ".py output:\n",
       "__assert_eq / actual: test / expected: test\n",
       "\n"
      ]
     },
     "metadata": {},
     "output_type": "display_data"
    },
    {
     "name": "stdout",
     "output_type": "stream",
     "text": [
      ".fsx output:\n",
      "__assert_eq / actual: \"System.Exception: test\" / expected: \"System.Exception: test\"\n"
     ]
    }
   ],
   "source": [
    "//// test\n",
    "///! fsharp\n",
    "///! cuda\n",
    "///! rust\n",
    "///! typescript\n",
    "///! python\n",
    "\n",
    "fun () => failwith \"test\"\n",
    "|> _throws\n",
    "|> optionm.value\n",
    "|> sm'.format_exception\n",
    "|> _assert_eq (run_target function\n",
    "    | Fsharp _ => fun () => join \"System.Exception: test\"\n",
    "    | Cuda _ => fun () => \"test\"\n",
    "    | Rust _ => fun () => \"Exception { message: \\\"test\\\" }\"\n",
    "    | TypeScript _ => fun () => \"Error: test\"\n",
    "    | Python _ => fun () => join \"test\"\n",
    "    | _ => fun () => null ()\n",
    ")"
   ]
  },
  {
   "cell_type": "markdown",
   "metadata": {},
   "source": [
    "### range"
   ]
  },
  {
   "cell_type": "code",
   "execution_count": null,
   "metadata": {
    "dotnet_interactive": {
     "language": "spiral"
    },
    "polyglot_notebook": {
     "kernelName": "spiral"
    }
   },
   "outputs": [],
   "source": [
    "inl range forall t. (start : am'.range t) (end : am'.range t) s =\n",
    "    inl start, end =\n",
    "        inl len () =\n",
    "            s |> length'\n",
    "        match start, end with\n",
    "        | Start start, End fn => start, len |> fn\n",
    "        | End start_fn, End end_fn => start_fn len, end_fn len\n",
    "    s |> slice (start |> i32) ((end |> i32) - 1)"
   ]
  },
  {
   "cell_type": "code",
   "execution_count": null,
   "metadata": {
    "dotnet_interactive": {
     "language": "spiral"
    },
    "polyglot_notebook": {
     "kernelName": "spiral"
    }
   },
   "outputs": [
    {
     "data": {
      "text/plain": [
       "\n",
       ".py output (Cuda):\n",
       "__assert_eq / actual: bcde / expected: bcde\n",
       "__assert_eq / actual: bcd / expected: bcd\n",
       "\n"
      ]
     },
     "metadata": {},
     "output_type": "display_data"
    },
    {
     "name": "stdout",
     "output_type": "stream",
     "text": [
      ".fsx output:\n",
      "__assert_eq / actual: \"bcde\" / expected: \"bcde\"\n",
      "__assert_eq / actual: \"bcd\" / expected: \"bcd\"\n"
     ]
    }
   ],
   "source": [
    "//// test\n",
    "///! fsharp\n",
    "///! cuda\n",
    "\n",
    "\"abcde\"\n",
    "|> range (am'.Start 1i32) (am'.End eval)\n",
    "|> _assert_eq \"bcde\"\n",
    "\n",
    "\"abcde\"\n",
    "|> range (am'.End fun x => x () - 4i32) (am'.End fun x => x () - 1)\n",
    "|> _assert_eq \"bcd\""
   ]
  },
  {
   "cell_type": "markdown",
   "metadata": {},
   "source": [
    "### concat_list"
   ]
  },
  {
   "cell_type": "code",
   "execution_count": null,
   "metadata": {
    "dotnet_interactive": {
     "language": "spiral"
    },
    "polyglot_notebook": {
     "kernelName": "spiral"
    }
   },
   "outputs": [],
   "source": [
    "inl concat_list s list =\n",
    "    list\n",
    "    |> listm'.box\n",
    "    |> seq.of_list'\n",
    "    |> concat s"
   ]
  },
  {
   "cell_type": "markdown",
   "metadata": {},
   "source": [
    "### ellipsis_end"
   ]
  },
  {
   "cell_type": "code",
   "execution_count": null,
   "metadata": {
    "dotnet_interactive": {
     "language": "spiral"
    },
    "polyglot_notebook": {
     "kernelName": "spiral"
    }
   },
   "outputs": [],
   "source": [
    "let ellipsis_end (max : i64) (s : string) =\n",
    "    inl len = sm.length s\n",
    "    if len <= max\n",
    "    then s\n",
    "    else\n",
    "        inl half = f64 max / 2\n",
    "        inl start_half = half |> math.ceil |> i64\n",
    "        inl end_half = half |> math.floor |> i64\n",
    "        inl start = s |> slice 0 (start_half - 1)\n",
    "        inl end = s |> slice (len - end_half) (len - 1)\n",
    "        (a ;[ start; \"...\"; end ] : _ i32 _)\n",
    "        |> seq.of_array\n",
    "        |> concat \"\""
   ]
  },
  {
   "cell_type": "code",
   "execution_count": null,
   "metadata": {
    "dotnet_interactive": {
     "language": "spiral"
    },
    "polyglot_notebook": {
     "kernelName": "spiral"
    }
   },
   "outputs": [
    {
     "name": "stdout",
     "output_type": "stream",
     "text": [
      "__assert_eq / actual: \"1...5\" / expected: \"1...5\"\n",
      "__assert_eq / actual: \"12...5\" / expected: \"12...5\"\n",
      "__assert_eq / actual: \"12...67\" / expected: \"12...67\"\n"
     ]
    }
   ],
   "source": [
    "//// test\n",
    "\n",
    "\"12345\"\n",
    "|> ellipsis_end 2\n",
    "|> _assert_eq \"1...5\"\n",
    "\n",
    "\"12345\"\n",
    "|> ellipsis_end 3\n",
    "|> _assert_eq \"12...5\"\n",
    "\n",
    "\"1234567\"\n",
    "|> ellipsis_end 4\n",
    "|> _assert_eq \"12...67\""
   ]
  },
  {
   "cell_type": "markdown",
   "metadata": {},
   "source": [
    "### format_ellipsis"
   ]
  },
  {
   "cell_type": "code",
   "execution_count": null,
   "metadata": {
    "dotnet_interactive": {
     "language": "spiral"
    },
    "polyglot_notebook": {
     "kernelName": "spiral"
    }
   },
   "outputs": [],
   "source": [
    "inl format_ellipsis s =\n",
    "    s\n",
    "    |> format_debug\n",
    "    |> ellipsis_end 400"
   ]
  },
  {
   "cell_type": "markdown",
   "metadata": {},
   "source": [
    "### replace_regex"
   ]
  },
  {
   "cell_type": "code",
   "execution_count": null,
   "metadata": {
    "dotnet_interactive": {
     "language": "spiral"
    },
    "polyglot_notebook": {
     "kernelName": "spiral"
    }
   },
   "outputs": [],
   "source": [
    "let replace_regex (pattern : string) (replacement : string) (s : string) : string =\n",
    "    run_target_args (fun () => s, pattern, replacement) function\n",
    "        | Fsharp (Native) => fun s, pattern, replacement =>\n",
    "            $'System.Text.RegularExpressions.Regex.Replace (!s, !pattern, !replacement)'\n",
    "        | Rust (Native) => fun s, pattern, replacement =>\n",
    "            inl regex = pattern |> new_regex |> resultm.unwrap'\n",
    "            inl s = join s\n",
    "            !\\\\((regex, s, replacement), $'$\"$0.replace_all(&*$1, &*$2)\"')\n",
    "            |> cow_to_std_string\n",
    "            |> from_std_string\n",
    "        | _ => fun _ => null ()"
   ]
  },
  {
   "cell_type": "code",
   "execution_count": null,
   "metadata": {
    "dotnet_interactive": {
     "language": "spiral"
    },
    "polyglot_notebook": {
     "kernelName": "spiral"
    }
   },
   "outputs": [
    {
     "data": {
      "text/plain": [
       ".rs output (rust -d regex):\n",
       "__assert_eq / actual: \"3\" / expected: \"3\"\n",
       "\n"
      ]
     },
     "metadata": {},
     "output_type": "display_data"
    },
    {
     "name": "stdout",
     "output_type": "stream",
     "text": [
      ".fsx output:\n",
      "__assert_eq / actual: \"3\" / expected: \"3\"\n"
     ]
    }
   ],
   "source": [
    "//// test\n",
    "///! fsharp\n",
    "///! rust -d regex\n",
    "\n",
    "\" 123\"\n",
    "|> replace_regex \"\\\\s\\\\w2\" \"\"\n",
    "|> _assert_eq \"3\""
   ]
  },
  {
   "cell_type": "code",
   "execution_count": null,
   "metadata": {
    "dotnet_interactive": {
     "language": "spiral"
    },
    "polyglot_notebook": {
     "kernelName": "spiral"
    }
   },
   "outputs": [
    {
     "data": {
      "text/plain": [
       "__assert_eq / actual: \"    [<EntryPoint>]\n",
       "    let main args =\n",
       "        ()\n",
       "\" / expected: \"    [<EntryPoint>]\n",
       "    let main args =\n",
       "        ()\n",
       "\"\n"
      ]
     },
     "metadata": {},
     "output_type": "display_data"
    }
   ],
   "source": [
    "//// test\n",
    "///! rust -d regex\n",
    "\n",
    "\"    let main args =\\n        ()\\n\"\n",
    "|> replace_regex $'@@\"(?P<a> *)(?P<b>let\\\\s+main\\\\s+.*?\\\\s*=)\"' \"$a[<EntryPoint>]\\n$a$b\"\n",
    "|> _assert_eq \"    [<EntryPoint>]\\n    let main args =\\n        ()\\n\""
   ]
  },
  {
   "cell_type": "markdown",
   "metadata": {},
   "source": [
    "## main"
   ]
  },
  {
   "cell_type": "code",
   "execution_count": null,
   "metadata": {
    "dotnet_interactive": {
     "language": "spiral"
    },
    "polyglot_notebook": {
     "kernelName": "spiral"
    }
   },
   "outputs": [],
   "source": [
    "inl main () =\n",
    "    $'let contains x = !contains x' : ()\n",
    "    $'let ends_with x = !ends_with x' : ()\n",
    "    $'let pad_left x = !pad_left x' : ()\n",
    "    $'let pad_right x = !pad_right x' : ()\n",
    "    $'let replace x = !replace x' : ()\n",
    "    $'let replace_regex x = !replace_regex x' : ()\n",
    "    inl slice (a : i32) (b : i32) c = slice a b c\n",
    "    $'let slice x = !slice x' : ()\n",
    "    $'let split x = !split x' : ()\n",
    "    $'let split_string x = !split_string x' : ()\n",
    "    $'let starts_with x = !starts_with x' : ()\n",
    "    $'let substring x = !substring x' : ()\n",
    "    $'let to_lower x = !to_lower x' : ()\n",
    "    $'let to_upper x = !to_upper x' : ()\n",
    "    $'let trim x = !trim x' : ()\n",
    "    inl trim_end x = (a x : _ int _) |> am'.to_list' |> listm'.unbox |> trim_end\n",
    "    $'let trim_end x = !trim_end x' : ()\n",
    "    inl trim_start x = (a x : _ int _) |> am'.to_list' |> listm'.unbox |> trim_start\n",
    "    $'let trim_start x = !trim_start x' : ()\n",
    "    $'let ellipsis x = !ellipsis x' : ()\n",
    "    $'let ellipsis_end x = !ellipsis_end x' : ()\n",
    "    $'let format_exception x = !format_exception x' : ()\n",
    "    $'let concat_array x = !concat_array x' : ()\n",
    "    inl concat a (b : seq.seq' string) = concat a b\n",
    "    $'let concat x = !concat x' : ()\n",
    "    $'let join\\' x = !join' x' : ()\n",
    "    $'let to_char_array x = !to_char_array x' : ()"
   ]
  },
  {
   "cell_type": "markdown",
   "metadata": {},
   "source": [
    "## rust"
   ]
  },
  {
   "cell_type": "markdown",
   "metadata": {},
   "source": [
    "### to_string std_string"
   ]
  },
  {
   "cell_type": "code",
   "execution_count": null,
   "metadata": {
    "dotnet_interactive": {
     "language": "spiral"
    },
    "polyglot_notebook": {
     "kernelName": "spiral"
    }
   },
   "outputs": [],
   "source": [
    "open rust\n",
    "instance to_string std_string = from_std_string"
   ]
  }
 ],
 "metadata": {},
 "nbformat": 4,
 "nbformat_minor": 5
}