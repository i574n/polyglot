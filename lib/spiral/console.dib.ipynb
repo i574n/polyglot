{
 "cells": [
  {
   "cell_type": "markdown",
   "metadata": {},
   "source": [
    "# console"
   ]
  },
  {
   "cell_type": "code",
   "execution_count": null,
   "metadata": {
    "dotnet_interactive": {
     "language": "spiral"
    },
    "polyglot_notebook": {
     "kernelName": "spiral"
    }
   },
   "outputs": [],
   "source": [
    "//// test\n",
    "\n",
    "open testing"
   ]
  },
  {
   "cell_type": "markdown",
   "metadata": {},
   "source": [
    "## write_line"
   ]
  },
  {
   "cell_type": "code",
   "execution_count": null,
   "metadata": {
    "dotnet_interactive": {
     "language": "spiral"
    },
    "polyglot_notebook": {
     "kernelName": "spiral"
    }
   },
   "outputs": [],
   "source": [
    "inl write_line obj : () =\n",
    "    backend_switch {\n",
    "        Fsharp = fun () => obj |> $'System.Console.WriteLine' : ()\n",
    "        Python = fun () => $'print(!obj)' : ()\n",
    "    }"
   ]
  },
  {
   "cell_type": "code",
   "execution_count": null,
   "metadata": {
    "dotnet_interactive": {
     "language": "spiral"
    },
    "polyglot_notebook": {
     "kernelName": "spiral"
    }
   },
   "outputs": [],
   "source": [
    "inl write_line_ ~obj : () =\n",
    "    obj |> $'System.Console.WriteLine'"
   ]
  },
  {
   "cell_type": "code",
   "execution_count": null,
   "metadata": {
    "dotnet_interactive": {
     "language": "spiral"
    },
    "polyglot_notebook": {
     "kernelName": "spiral"
    }
   },
   "outputs": [],
   "source": [
    "nominal console_color = $'System.ConsoleColor'\n",
    "\n",
    "inl reset_color () : () =\n",
    "    run_target function\n",
    "        | Fsharp => fun () => $'System.Console.ResetColor' ()\n",
    "        | _ => fun () => ()\n",
    "\n",
    "inl set_foreground_color (color : console_color) : () =\n",
    "    run_target function\n",
    "        | Fsharp => fun () => $'System.Console.ForegroundColor <- !color '\n",
    "        | _ => fun () => ()"
   ]
  }
 ],
 "metadata": {},
 "nbformat": 4,
 "nbformat_minor": 5
}