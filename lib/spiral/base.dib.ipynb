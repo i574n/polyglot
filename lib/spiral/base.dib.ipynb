{
 "cells": [
  {
   "cell_type": "markdown",
   "metadata": {},
   "source": [
    "# base"
   ]
  },
  {
   "cell_type": "code",
   "execution_count": null,
   "metadata": {
    "dotnet_interactive": {
     "language": "spiral"
    },
    "polyglot_notebook": {
     "kernelName": "spiral"
    }
   },
   "outputs": [],
   "source": [
    "//// test\n",
    "\n",
    "open testing"
   ]
  },
  {
   "cell_type": "markdown",
   "metadata": {},
   "source": [
    "## execution"
   ]
  },
  {
   "cell_type": "markdown",
   "metadata": {},
   "source": [
    "### emit"
   ]
  },
  {
   "cell_type": "code",
   "execution_count": null,
   "metadata": {
    "dotnet_interactive": {
     "language": "spiral"
    },
    "polyglot_notebook": {
     "kernelName": "spiral"
    }
   },
   "outputs": [],
   "source": [
    "inl emit forall t. (x : t) : t =\n",
    "    $'!x '"
   ]
  },
  {
   "cell_type": "markdown",
   "metadata": {},
   "source": [
    "### emit_unit"
   ]
  },
  {
   "cell_type": "code",
   "execution_count": null,
   "metadata": {
    "dotnet_interactive": {
     "language": "spiral"
    },
    "polyglot_notebook": {
     "kernelName": "spiral"
    }
   },
   "outputs": [],
   "source": [
    "inl emit_unit forall t. (x : t) : () =\n",
    "    $'!x '"
   ]
  },
  {
   "cell_type": "markdown",
   "metadata": {},
   "source": [
    "### use"
   ]
  },
  {
   "cell_type": "code",
   "execution_count": null,
   "metadata": {
    "dotnet_interactive": {
     "language": "spiral"
    },
    "polyglot_notebook": {
     "kernelName": "spiral"
    }
   },
   "outputs": [],
   "source": [
    "inl use forall t. (x : t) : t =\n",
    "    $'use !x = !x ' : ()\n",
    "    $'!x '"
   ]
  },
  {
   "cell_type": "markdown",
   "metadata": {},
   "source": [
    "## type"
   ]
  },
  {
   "cell_type": "markdown",
   "metadata": {},
   "source": [
    "### unit"
   ]
  },
  {
   "cell_type": "code",
   "execution_count": null,
   "metadata": {
    "dotnet_interactive": {
     "language": "spiral"
    },
    "polyglot_notebook": {
     "kernelName": "spiral"
    }
   },
   "outputs": [],
   "source": [
    "nominal unit = $'unit'"
   ]
  },
  {
   "cell_type": "markdown",
   "metadata": {},
   "source": [
    "## target"
   ]
  },
  {
   "cell_type": "markdown",
   "metadata": {},
   "source": [
    "### backend_switch"
   ]
  },
  {
   "cell_type": "code",
   "execution_count": null,
   "metadata": {
    "dotnet_interactive": {
     "language": "spiral"
    },
    "polyglot_notebook": {
     "kernelName": "spiral"
    }
   },
   "outputs": [],
   "source": [
    "inl backend_switch forall t. x : t =\n",
    "    real\n",
    "        inl backend key : t =\n",
    "            inl s = real_core.string_lit_to_symbol key\n",
    "            real_core.record_type_try_find `(`x) s\n",
    "                (forall v'. => (x s) ())\n",
    "                (fun () => $'' : t)\n",
    "        !!!!BackendSwitch (\n",
    "            (\"Fsharp\", backend \"Fsharp\"),\n",
    "            (\"Python\", backend \"Python\"),\n",
    "            (\"Cuda\", backend \"Cuda\")\n",
    "        )"
   ]
  },
  {
   "cell_type": "markdown",
   "metadata": {},
   "source": [
    "### target_runtime"
   ]
  },
  {
   "cell_type": "code",
   "execution_count": null,
   "metadata": {
    "dotnet_interactive": {
     "language": "spiral"
    },
    "polyglot_notebook": {
     "kernelName": "spiral"
    }
   },
   "outputs": [],
   "source": [
    "union target_runtime =\n",
    "    | Native\n",
    "    | Wasm\n",
    "    | Contract"
   ]
  },
  {
   "cell_type": "markdown",
   "metadata": {},
   "source": [
    "### target"
   ]
  },
  {
   "cell_type": "code",
   "execution_count": null,
   "metadata": {
    "dotnet_interactive": {
     "language": "spiral"
    },
    "polyglot_notebook": {
     "kernelName": "spiral"
    }
   },
   "outputs": [],
   "source": [
    "union target =\n",
    "    | Fsharp : target_runtime\n",
    "    | Cuda : target_runtime\n",
    "    | Rust : target_runtime\n",
    "    | TypeScript : target_runtime\n",
    "    | Python : target_runtime"
   ]
  },
  {
   "cell_type": "markdown",
   "metadata": {},
   "source": [
    "### run_target_args'"
   ]
  },
  {
   "cell_type": "code",
   "execution_count": null,
   "metadata": {
    "dotnet_interactive": {
     "language": "spiral"
    },
    "polyglot_notebook": {
     "kernelName": "spiral"
    }
   },
   "outputs": [],
   "source": [
    "inl run_target_args' forall t u. (args : u) (fn : target -> (u -> t)) : t =\n",
    "    backend_switch {\n",
    "        Fsharp = fun () =>\n",
    "            inl is_unit : bool =\n",
    "                real\n",
    "                    typecase t with\n",
    "                    | () => true\n",
    "                    | _ => false\n",
    "            inl result = $'()' : unit\n",
    "            inl emit_result x : () =\n",
    "                if is_unit |> not\n",
    "                then $'let _!result = !x '\n",
    "            $'\\n#if FABLE_COMPILER || WASM || CONTRACT'\n",
    "            $'\\n#if FABLE_COMPILER_RUST && \\!WASM && \\!CONTRACT'\n",
    "            inl target = Rust Native\n",
    "            fn target args |> emit_result\n",
    "            $'#endif\\n#if FABLE_COMPILER_RUST && WASM'\n",
    "            inl target = Rust Wasm\n",
    "            fn target args |> emit_result\n",
    "            $'#endif\\n#if FABLE_COMPILER_RUST && CONTRACT'\n",
    "            inl target = Rust Contract\n",
    "            fn target args |> emit_result\n",
    "            $'#endif\\n#if FABLE_COMPILER_TYPESCRIPT'\n",
    "            inl target = TypeScript Native\n",
    "            fn target args |> emit_result\n",
    "            $'#endif\\n#if FABLE_COMPILER_PYTHON'\n",
    "            inl target = Python Native\n",
    "            fn target args |> emit_result\n",
    "            $'#endif\\n#if \\!FABLE_COMPILER_RUST && \\!FABLE_COMPILER_TYPESCRIPT && \\!FABLE_COMPILER_PYTHON'\n",
    "            inl target = Fsharp Wasm\n",
    "            fn target args |> emit_result\n",
    "            $'#endif\\n#else'\n",
    "            inl target = Fsharp Native\n",
    "            fn target args |> emit_result\n",
    "            $'#endif'\n",
    "            if is_unit\n",
    "            then $'// run_target_args\\' is_unit'\n",
    "            else $'_!result ' : t\n",
    "        Python = fun () =>\n",
    "            inl target = Cuda Native\n",
    "            fn target args\n",
    "    }"
   ]
  },
  {
   "cell_type": "markdown",
   "metadata": {},
   "source": [
    "### run_target_args"
   ]
  },
  {
   "cell_type": "code",
   "execution_count": null,
   "metadata": {
    "dotnet_interactive": {
     "language": "spiral"
    },
    "polyglot_notebook": {
     "kernelName": "spiral"
    }
   },
   "outputs": [],
   "source": [
    "inl run_target_args forall t u. (args : () -> u) (fn : target -> (u -> t)) : t =\n",
    "    inl args = args () |> dyn\n",
    "    fn |> run_target_args' args"
   ]
  },
  {
   "cell_type": "markdown",
   "metadata": {},
   "source": [
    "### run_target"
   ]
  },
  {
   "cell_type": "code",
   "execution_count": null,
   "metadata": {
    "dotnet_interactive": {
     "language": "spiral"
    },
    "polyglot_notebook": {
     "kernelName": "spiral"
    }
   },
   "outputs": [],
   "source": [
    "inl run_target forall t. (fn : target -> (() -> t)) : t =\n",
    "    run_target_args id fn"
   ]
  },
  {
   "cell_type": "code",
   "execution_count": null,
   "metadata": {
    "dotnet_interactive": {
     "language": "spiral"
    },
    "polyglot_notebook": {
     "kernelName": "spiral"
    }
   },
   "outputs": [
    {
     "data": {
      "text/plain": [
       ".py output (Cuda):\n",
       "__assert_eq / actual: 1 / expected: 1\n",
       "\n",
       ".rs output:\n",
       "__assert_eq / actual: 1 / expected: 1\n",
       "\n",
       ".ts output:\n",
       "__assert_eq / actual: 1 / expected: 1\n",
       "\n",
       ".py output:\n",
       "__assert_eq / actual: 1 / expected: 1\n",
       "\n"
      ]
     },
     "metadata": {},
     "output_type": "display_data"
    },
    {
     "name": "stdout",
     "output_type": "stream",
     "text": [
      ".fsx output:\n",
      "__assert_eq / actual: 1uy / expected: 1uy\n"
     ]
    }
   ],
   "source": [
    "//// test\n",
    "///! fsharp\n",
    "///! cuda\n",
    "///! rust\n",
    "///! typescript\n",
    "///! python\n",
    "\n",
    "run_target function\n",
    "    | Fsharp (Native) => fun () => $'1uy'\n",
    "    | Cuda (Native) => fun () => $'1'\n",
    "    | Rust (Native) => fun () => $'1uy'\n",
    "    | TypeScript (Native) => fun () => $'1uy'\n",
    "    | Python (Native) => fun () => $'1uy'\n",
    "    | _ => fun () => $'2uy'\n",
    "|> _assert_eq 1u8"
   ]
  },
  {
   "cell_type": "markdown",
   "metadata": {},
   "source": [
    "## function"
   ]
  },
  {
   "cell_type": "markdown",
   "metadata": {},
   "source": [
    "### eval"
   ]
  },
  {
   "cell_type": "code",
   "execution_count": null,
   "metadata": {
    "dotnet_interactive": {
     "language": "spiral"
    },
    "polyglot_notebook": {
     "kernelName": "spiral"
    }
   },
   "outputs": [],
   "source": [
    "inl eval fn =\n",
    "    fn ()"
   ]
  },
  {
   "cell_type": "markdown",
   "metadata": {},
   "source": [
    "### flip"
   ]
  },
  {
   "cell_type": "code",
   "execution_count": null,
   "metadata": {
    "dotnet_interactive": {
     "language": "spiral"
    },
    "polyglot_notebook": {
     "kernelName": "spiral"
    }
   },
   "outputs": [],
   "source": [
    "inl flip fn a b =\n",
    "    fn b a"
   ]
  },
  {
   "cell_type": "markdown",
   "metadata": {},
   "source": [
    "### do"
   ]
  },
  {
   "cell_type": "code",
   "execution_count": null,
   "metadata": {
    "dotnet_interactive": {
     "language": "spiral"
    },
    "polyglot_notebook": {
     "kernelName": "spiral"
    }
   },
   "outputs": [],
   "source": [
    "inl do (body : () -> ()) : () =\n",
    "    !!!!Do (body())"
   ]
  },
  {
   "cell_type": "markdown",
   "metadata": {},
   "source": [
    "### indent"
   ]
  },
  {
   "cell_type": "code",
   "execution_count": null,
   "metadata": {
    "dotnet_interactive": {
     "language": "spiral"
    },
    "polyglot_notebook": {
     "kernelName": "spiral"
    }
   },
   "outputs": [],
   "source": [
    "inl indent (body : () -> ()) : () =\n",
    "    backend_switch {\n",
    "        Fsharp = fun () =>\n",
    "            inl body () =\n",
    "                body ()\n",
    "                $'(* indent' : ()\n",
    "            !!!!Indent (body())\n",
    "            $'indent *)' : ()\n",
    "        Python = fun () =>\n",
    "            !!!!Indent (body())\n",
    "            ()\n",
    "    }"
   ]
  },
  {
   "cell_type": "markdown",
   "metadata": {},
   "source": [
    "### let'"
   ]
  },
  {
   "cell_type": "code",
   "execution_count": null,
   "metadata": {
    "dotnet_interactive": {
     "language": "spiral"
    },
    "polyglot_notebook": {
     "kernelName": "spiral"
    }
   },
   "outputs": [],
   "source": [
    "inl let' fn =\n",
    "    inl result : unit =\n",
    "        backend_switch {\n",
    "            Fsharp = fun () =>\n",
    "                $'()' : unit\n",
    "            Python = fun () =>\n",
    "                $'None' : unit\n",
    "        }\n",
    "    backend_switch {\n",
    "        Fsharp = fun () =>\n",
    "            $'let _!result =' : ()\n",
    "            fn |> indent\n",
    "        Python = fun () =>\n",
    "            $'def _!result():' : ()\n",
    "            fn |> indent\n",
    "    }\n",
    "    $'_!result '"
   ]
  },
  {
   "cell_type": "markdown",
   "metadata": {},
   "source": [
    "### exec_unit"
   ]
  },
  {
   "cell_type": "code",
   "execution_count": null,
   "metadata": {
    "dotnet_interactive": {
     "language": "spiral"
    },
    "polyglot_notebook": {
     "kernelName": "spiral"
    }
   },
   "outputs": [],
   "source": [
    "inl exec_unit (fn : () -> ()) : () =\n",
    "    backend_switch {\n",
    "        Fsharp = fun () =>\n",
    "            inl unit = $'()' : $'unit'\n",
    "            ($'(fun () -> !fn (); !unit) ()' : $'unit') |> ignore\n",
    "        Python = fun () => fn ()\n",
    "    }"
   ]
  },
  {
   "cell_type": "markdown",
   "metadata": {},
   "source": [
    "### lazy"
   ]
  },
  {
   "cell_type": "code",
   "execution_count": null,
   "metadata": {
    "dotnet_interactive": {
     "language": "spiral"
    },
    "polyglot_notebook": {
     "kernelName": "spiral"
    }
   },
   "outputs": [],
   "source": [
    "nominal lazy t = $'Lazy<`t>'"
   ]
  },
  {
   "cell_type": "markdown",
   "metadata": {},
   "source": [
    "### memoize"
   ]
  },
  {
   "cell_type": "code",
   "execution_count": null,
   "metadata": {
    "dotnet_interactive": {
     "language": "spiral"
    },
    "polyglot_notebook": {
     "kernelName": "spiral"
    }
   },
   "outputs": [],
   "source": [
    "nominal lazy t = $'Lazy<`t>'\n",
    "\n",
    "inl memoize forall t. (fn : () -> t) : () -> t =\n",
    "    inl fn = join fn\n",
    "    backend_switch {\n",
    "        Fsharp = fun () =>\n",
    "            inl result : lazy t = $'lazy !fn ()'\n",
    "            fun () => $'!result.Value' : t\n",
    "        Python = fun () =>\n",
    "            inl result = mut None\n",
    "            inl computed = mut false\n",
    "            fun () =>\n",
    "                if *computed\n",
    "                then *result\n",
    "                else\n",
    "                    result <- fn () |> Some\n",
    "                    computed <- true\n",
    "                    *result\n",
    "                |> optionm.value\n",
    "    }"
   ]
  },
  {
   "cell_type": "code",
   "execution_count": null,
   "metadata": {
    "dotnet_interactive": {
     "language": "spiral"
    },
    "polyglot_notebook": {
     "kernelName": "spiral"
    }
   },
   "outputs": [
    {
     "data": {
      "text/plain": [
       ".py output (Cuda):\n",
       "__assert_eq / actual: 1 / expected: 1\n",
       "\n",
       ".rs output:\n",
       "__assert_eq / actual: 1 / expected: 1\n",
       "\n",
       ".ts output:\n",
       "__assert_eq / actual: 1 / expected: 1\n",
       "\n",
       ".py output:\n",
       "__assert_eq / actual: 1 / expected: 1\n",
       "\n"
      ]
     },
     "metadata": {},
     "output_type": "display_data"
    },
    {
     "name": "stdout",
     "output_type": "stream",
     "text": [
      ".fsx output:\n",
      "__assert_eq / actual: 1 / expected: 1\n"
     ]
    }
   ],
   "source": [
    "//// test\n",
    "///! fsharp\n",
    "///! cuda\n",
    "///! rust\n",
    "///! typescript\n",
    "///! python\n",
    "\n",
    "inl count = mut 0i32\n",
    "inl add =\n",
    "    fun () =>\n",
    "        count <- *count + 1\n",
    "        count\n",
    "    |> memoize\n",
    "\n",
    "add () |> ignore\n",
    "add () |> ignore\n",
    "add () |> ignore\n",
    "\n",
    "*count\n",
    "|> _assert_eq 1"
   ]
  },
  {
   "cell_type": "markdown",
   "metadata": {},
   "source": [
    "### capture"
   ]
  },
  {
   "cell_type": "code",
   "execution_count": null,
   "metadata": {
    "dotnet_interactive": {
     "language": "spiral"
    },
    "polyglot_notebook": {
     "kernelName": "spiral"
    }
   },
   "outputs": [],
   "source": [
    "inl capture forall t. (fn : () -> t) : t =\n",
    "    backend_switch {\n",
    "        Fsharp = fun () =>\n",
    "            inl result = dyn true\n",
    "            $'let mutable _!result : `t option = None '\n",
    "            $'('\n",
    "            $'(fun () ->'\n",
    "            $'(fun () ->'\n",
    "            fn () |> emit_unit\n",
    "            $')'\n",
    "            $'|> fun x -> x ()'\n",
    "            $') () )'\n",
    "            $'|> fun x -> _!result <- Some x'\n",
    "            $'match _!result with Some x -> x | None -> failwith \"base.capture / _!result=None\"' : t\n",
    "        Python = fun () =>\n",
    "            fn ()\n",
    "    }"
   ]
  },
  {
   "cell_type": "markdown",
   "metadata": {},
   "source": [
    "## arithmetic"
   ]
  },
  {
   "cell_type": "markdown",
   "metadata": {},
   "source": [
    "### (+.)"
   ]
  },
  {
   "cell_type": "code",
   "execution_count": null,
   "metadata": {
    "dotnet_interactive": {
     "language": "spiral"
    },
    "polyglot_notebook": {
     "kernelName": "spiral"
    }
   },
   "outputs": [],
   "source": [
    "inl (+.) forall t. (a : t) (b : t) : t =\n",
    "    $'!a + !b '"
   ]
  },
  {
   "cell_type": "code",
   "execution_count": null,
   "metadata": {
    "dotnet_interactive": {
     "language": "spiral"
    },
    "polyglot_notebook": {
     "kernelName": "spiral"
    }
   },
   "outputs": [
    {
     "data": {
      "text/plain": [
       ".py output (Cuda):\n",
       "__assert_eq / actual: -3 / expected: -3\n",
       "\n",
       ".rs output:\n",
       "__assert_eq / actual: -3 / expected: -3\n",
       "\n",
       ".ts output:\n",
       "__assert_eq / actual: -3 / expected: -3\n",
       "\n",
       ".py output:\n",
       "__assert_eq / actual: -3 / expected: -3\n",
       "\n"
      ]
     },
     "metadata": {},
     "output_type": "display_data"
    },
    {
     "name": "stdout",
     "output_type": "stream",
     "text": [
      ".fsx output:\n",
      "__assert_eq / actual: -3 / expected: -3\n"
     ]
    }
   ],
   "source": [
    "//// test\n",
    "///! fsharp\n",
    "///! cuda\n",
    "///! rust\n",
    "///! typescript\n",
    "///! python\n",
    "\n",
    "($'3' : i32) +. ($'-6' : i32)\n",
    "|> _assert_eq -3i32"
   ]
  },
  {
   "cell_type": "markdown",
   "metadata": {},
   "source": [
    "### (-.)"
   ]
  },
  {
   "cell_type": "code",
   "execution_count": null,
   "metadata": {
    "dotnet_interactive": {
     "language": "spiral"
    },
    "polyglot_notebook": {
     "kernelName": "spiral"
    }
   },
   "outputs": [],
   "source": [
    "inl (-.) forall t. (a : t) (b : t) : t =\n",
    "    $'!a - !b '"
   ]
  },
  {
   "cell_type": "code",
   "execution_count": null,
   "metadata": {
    "dotnet_interactive": {
     "language": "spiral"
    },
    "polyglot_notebook": {
     "kernelName": "spiral"
    }
   },
   "outputs": [
    {
     "data": {
      "text/plain": [
       ".py output (Cuda):\n",
       "__assert_eq / actual: -3 / expected: -3\n",
       "\n",
       ".rs output:\n",
       "__assert_eq / actual: -3 / expected: -3\n",
       "\n",
       ".ts output:\n",
       "__assert_eq / actual: -3 / expected: -3\n",
       "\n",
       ".py output:\n",
       "__assert_eq / actual: -3 / expected: -3\n",
       "\n"
      ]
     },
     "metadata": {},
     "output_type": "display_data"
    },
    {
     "name": "stdout",
     "output_type": "stream",
     "text": [
      ".fsx output:\n",
      "__assert_eq / actual: -3 / expected: -3\n"
     ]
    }
   ],
   "source": [
    "//// test\n",
    "///! fsharp\n",
    "///! cuda\n",
    "///! rust\n",
    "///! typescript\n",
    "///! python\n",
    "\n",
    "($'3' : i32) -. ($'6' : i32)\n",
    "|> _assert_eq -3i32"
   ]
  },
  {
   "cell_type": "markdown",
   "metadata": {},
   "source": [
    "### (*.)"
   ]
  },
  {
   "cell_type": "code",
   "execution_count": null,
   "metadata": {
    "dotnet_interactive": {
     "language": "spiral"
    },
    "polyglot_notebook": {
     "kernelName": "spiral"
    }
   },
   "outputs": [],
   "source": [
    "inl (*.) forall t. (a : t) (b : t) : t =\n",
    "    $'!a * !b '"
   ]
  },
  {
   "cell_type": "code",
   "execution_count": null,
   "metadata": {
    "dotnet_interactive": {
     "language": "spiral"
    },
    "polyglot_notebook": {
     "kernelName": "spiral"
    }
   },
   "outputs": [
    {
     "data": {
      "text/plain": [
       ".py output (Cuda):\n",
       "__assert_eq / actual: -3 / expected: -3\n",
       "\n",
       ".rs output:\n",
       "__assert_eq / actual: -3 / expected: -3\n",
       "\n",
       ".ts output:\n",
       "__assert_eq / actual: -3 / expected: -3\n",
       "\n",
       ".py output:\n",
       "__assert_eq / actual: -3 / expected: -3\n",
       "\n"
      ]
     },
     "metadata": {},
     "output_type": "display_data"
    },
    {
     "name": "stdout",
     "output_type": "stream",
     "text": [
      ".fsx output:\n",
      "__assert_eq / actual: -3 / expected: -3\n"
     ]
    }
   ],
   "source": [
    "//// test\n",
    "///! fsharp\n",
    "///! cuda\n",
    "///! rust\n",
    "///! typescript\n",
    "///! python\n",
    "\n",
    "($'3' : i32) *. ($'-1' : i32)\n",
    "|> _assert_eq -3i32"
   ]
  },
  {
   "cell_type": "markdown",
   "metadata": {},
   "source": [
    "### (/.)"
   ]
  },
  {
   "cell_type": "code",
   "execution_count": null,
   "metadata": {
    "dotnet_interactive": {
     "language": "spiral"
    },
    "polyglot_notebook": {
     "kernelName": "spiral"
    }
   },
   "outputs": [],
   "source": [
    "inl (/.) forall t. (a : t) (b : t) : t =\n",
    "    $'!a / !b '"
   ]
  },
  {
   "cell_type": "code",
   "execution_count": null,
   "metadata": {
    "dotnet_interactive": {
     "language": "spiral"
    },
    "polyglot_notebook": {
     "kernelName": "spiral"
    }
   },
   "outputs": [
    {
     "data": {
      "text/plain": [
       ".py output (Cuda):\n",
       "__assert_eq / actual: -3.0 / expected: -3\n",
       "\n",
       ".rs output:\n",
       "__assert_eq / actual: -3 / expected: -3\n",
       "\n",
       ".ts output:\n",
       "__assert_eq / actual: -3 / expected: -3\n",
       "\n",
       ".py output:\n",
       "__assert_eq / actual: -3 / expected: -3\n",
       "\n"
      ]
     },
     "metadata": {},
     "output_type": "display_data"
    },
    {
     "name": "stdout",
     "output_type": "stream",
     "text": [
      ".fsx output:\n",
      "__assert_eq / actual: -3 / expected: -3\n"
     ]
    }
   ],
   "source": [
    "//// test\n",
    "///! fsharp\n",
    "///! cuda\n",
    "///! rust\n",
    "///! typescript\n",
    "///! python\n",
    "\n",
    "($'-3' : i32) /. ($'1' : i32)\n",
    "|> _assert_eq -3i32"
   ]
  },
  {
   "cell_type": "markdown",
   "metadata": {},
   "source": [
    "## comparison"
   ]
  },
  {
   "cell_type": "markdown",
   "metadata": {},
   "source": [
    "### (=.)"
   ]
  },
  {
   "cell_type": "code",
   "execution_count": null,
   "metadata": {
    "dotnet_interactive": {
     "language": "spiral"
    },
    "polyglot_notebook": {
     "kernelName": "spiral"
    }
   },
   "outputs": [],
   "source": [
    "inl (=.) forall t. (a : t) (b : t) : bool =\n",
    "    backend_switch {\n",
    "        Fsharp = fun () => $'!a = !b ' : bool\n",
    "        Python = fun () => $'!a == !b ' : bool\n",
    "    }"
   ]
  },
  {
   "cell_type": "code",
   "execution_count": null,
   "metadata": {
    "dotnet_interactive": {
     "language": "spiral"
    },
    "polyglot_notebook": {
     "kernelName": "spiral"
    }
   },
   "outputs": [
    {
     "data": {
      "text/plain": [
       ".py output (Cuda):\n",
       "__assert_eq / actual: True / expected: True\n",
       "\n",
       ".rs output:\n",
       "__assert_eq / actual: true / expected: true\n",
       "\n",
       ".ts output:\n",
       "__assert_eq / actual: true / expected: true\n",
       "\n",
       ".py output:\n",
       "__assert_eq / actual: true / expected: true\n",
       "\n"
      ]
     },
     "metadata": {},
     "output_type": "display_data"
    },
    {
     "name": "stdout",
     "output_type": "stream",
     "text": [
      ".fsx output:\n",
      "__assert_eq / actual: true / expected: true\n"
     ]
    }
   ],
   "source": [
    "//// test\n",
    "///! fsharp\n",
    "///! cuda\n",
    "///! rust\n",
    "///! typescript\n",
    "///! python\n",
    "\n",
    "($'-3' : i32) =. ($'-3' : i32)\n",
    "|> _assert_eq true"
   ]
  },
  {
   "cell_type": "markdown",
   "metadata": {},
   "source": [
    "### (<>.)"
   ]
  },
  {
   "cell_type": "code",
   "execution_count": null,
   "metadata": {
    "dotnet_interactive": {
     "language": "spiral"
    },
    "polyglot_notebook": {
     "kernelName": "spiral"
    }
   },
   "outputs": [],
   "source": [
    "inl (<>.) forall t. (a : t) (b : t) : bool =\n",
    "    backend_switch {\n",
    "        Fsharp = fun () => $'!a <> !b ' : bool\n",
    "        Python = fun () => $'!a \\!= !b ' : bool\n",
    "    }"
   ]
  },
  {
   "cell_type": "code",
   "execution_count": null,
   "metadata": {
    "dotnet_interactive": {
     "language": "spiral"
    },
    "polyglot_notebook": {
     "kernelName": "spiral"
    }
   },
   "outputs": [
    {
     "data": {
      "text/plain": [
       ".py output (Cuda):\n",
       "__assert_eq / actual: True / expected: True\n",
       "\n",
       ".rs output:\n",
       "__assert_eq / actual: true / expected: true\n",
       "\n",
       ".ts output:\n",
       "__assert_eq / actual: true / expected: true\n",
       "\n",
       ".py output:\n",
       "__assert_eq / actual: true / expected: true\n",
       "\n"
      ]
     },
     "metadata": {},
     "output_type": "display_data"
    },
    {
     "name": "stdout",
     "output_type": "stream",
     "text": [
      ".fsx output:\n",
      "__assert_eq / actual: true / expected: true\n"
     ]
    }
   ],
   "source": [
    "//// test\n",
    "///! fsharp\n",
    "///! cuda\n",
    "///! rust\n",
    "///! typescript\n",
    "///! python\n",
    "\n",
    "($'-3' : i32) <>. ($'3' : i32)\n",
    "|> _assert_eq true"
   ]
  },
  {
   "cell_type": "markdown",
   "metadata": {},
   "source": [
    "## (<>..)"
   ]
  },
  {
   "cell_type": "code",
   "execution_count": null,
   "metadata": {
    "dotnet_interactive": {
     "language": "spiral"
    },
    "polyglot_notebook": {
     "kernelName": "spiral"
    }
   },
   "outputs": [],
   "source": [
    "inl (<>..) a b =\n",
    "    fun () => a = b\n",
    "    |> dyn\n",
    "    |> eval\n",
    "    |> not"
   ]
  },
  {
   "cell_type": "code",
   "execution_count": null,
   "metadata": {
    "dotnet_interactive": {
     "language": "spiral"
    },
    "polyglot_notebook": {
     "kernelName": "spiral"
    }
   },
   "outputs": [
    {
     "data": {
      "text/plain": [
       ".py output (Cuda):\n",
       "__assert_eq / actual: True / expected: True\n",
       "\n",
       ".rs output:\n",
       "__assert_eq / actual: true / expected: true\n",
       "\n",
       ".ts output:\n",
       "__assert_eq / actual: true / expected: true\n",
       "\n",
       ".py output:\n",
       "__assert_eq / actual: true / expected: true\n",
       "\n"
      ]
     },
     "metadata": {},
     "output_type": "display_data"
    },
    {
     "name": "stdout",
     "output_type": "stream",
     "text": [
      ".fsx output:\n",
      "__assert_eq / actual: true / expected: true\n"
     ]
    }
   ],
   "source": [
    "//// test\n",
    "///! fsharp\n",
    "///! cuda\n",
    "///! rust\n",
    "///! typescript\n",
    "///! python\n",
    "\n",
    "($'-3' : i32) <>.. ($'3' : i32)\n",
    "|> _assert_eq true"
   ]
  },
  {
   "cell_type": "markdown",
   "metadata": {},
   "source": [
    "## composition"
   ]
  },
  {
   "cell_type": "markdown",
   "metadata": {},
   "source": [
    "### append"
   ]
  },
  {
   "cell_type": "code",
   "execution_count": null,
   "metadata": {
    "dotnet_interactive": {
     "language": "spiral"
    },
    "polyglot_notebook": {
     "kernelName": "spiral"
    }
   },
   "outputs": [],
   "source": [
    "prototype append t : t -> t -> t"
   ]
  },
  {
   "cell_type": "markdown",
   "metadata": {},
   "source": [
    "### (++)"
   ]
  },
  {
   "cell_type": "code",
   "execution_count": null,
   "metadata": {
    "dotnet_interactive": {
     "language": "spiral"
    },
    "polyglot_notebook": {
     "kernelName": "spiral"
    }
   },
   "outputs": [],
   "source": [
    "inl (++) a b =\n",
    "    b |> append a"
   ]
  },
  {
   "cell_type": "markdown",
   "metadata": {},
   "source": [
    "## pair"
   ]
  },
  {
   "cell_type": "markdown",
   "metadata": {},
   "source": [
    "### pair"
   ]
  },
  {
   "cell_type": "code",
   "execution_count": null,
   "metadata": {
    "dotnet_interactive": {
     "language": "spiral"
    },
    "polyglot_notebook": {
     "kernelName": "spiral"
    }
   },
   "outputs": [],
   "source": [
    "nominal pair a b = $'(`a * `b)'\n",
    "\n",
    "inl pair x y =\n",
    "    x, y"
   ]
  },
  {
   "cell_type": "code",
   "execution_count": null,
   "metadata": {
    "dotnet_interactive": {
     "language": "spiral"
    },
    "polyglot_notebook": {
     "kernelName": "spiral"
    }
   },
   "outputs": [
    {
     "data": {
      "text/plain": [
       ".py output (Cuda):\n",
       "__assert_eq / actual: (1, 2) / expected: (1, 2)\n",
       "\n",
       ".rs output:\n",
       "__assert_eq / actual: (1, 2) / expected: (1, 2)\n",
       "\n",
       ".ts output:\n",
       "__assert_eq / actual: 1,2 / expected: 1,2\n",
       "\n",
       ".py output:\n",
       "__assert_eq / actual: (1, 2) / expected: (1, 2)\n",
       "\n"
      ]
     },
     "metadata": {},
     "output_type": "display_data"
    },
    {
     "name": "stdout",
     "output_type": "stream",
     "text": [
      ".fsx output:\n",
      "__assert_eq / actual: struct (1, 2) / expected: struct (1, 2)\n"
     ]
    }
   ],
   "source": [
    "//// test\n",
    "///! fsharp\n",
    "///! cuda\n",
    "///! rust\n",
    "///! typescript\n",
    "///! python\n",
    "\n",
    "pair 1i32 2i32\n",
    "|> _assert_eq (1, 2)"
   ]
  },
  {
   "cell_type": "markdown",
   "metadata": {},
   "source": [
    "### new_pair"
   ]
  },
  {
   "cell_type": "code",
   "execution_count": null,
   "metadata": {
    "dotnet_interactive": {
     "language": "spiral"
    },
    "polyglot_notebook": {
     "kernelName": "spiral"
    }
   },
   "outputs": [],
   "source": [
    "inl new_pair forall a b. (a : a) (b : b) : pair a b =\n",
    "    $'!a, !b '"
   ]
  },
  {
   "cell_type": "markdown",
   "metadata": {},
   "source": [
    "### from_pair"
   ]
  },
  {
   "cell_type": "code",
   "execution_count": null,
   "metadata": {
    "dotnet_interactive": {
     "language": "spiral"
    },
    "polyglot_notebook": {
     "kernelName": "spiral"
    }
   },
   "outputs": [],
   "source": [
    "inl from_pair forall a b. (pair : pair a b) : a * b =\n",
    "    backend_switch {\n",
    "        Fsharp = fun () =>\n",
    "            $'let (a, b) = !pair '\n",
    "            ($'a' : a), ($'b' : b)\n",
    "        Python = fun () =>\n",
    "            $'a, b = !pair '\n",
    "            ($'a' : a), ($'b' : b)\n",
    "    }"
   ]
  },
  {
   "cell_type": "code",
   "execution_count": null,
   "metadata": {
    "dotnet_interactive": {
     "language": "spiral"
    },
    "polyglot_notebook": {
     "kernelName": "spiral"
    }
   },
   "outputs": [
    {
     "data": {
      "text/plain": [
       ".py output (Cuda):\n",
       "__assert_eq' / actual: ('a', (1, 'b')) / expected: ('a', (1, 'b'))\n",
       "\n",
       ".rs output:\n",
       "__assert_eq' / actual: (\"a\", (1, \"b\")) / expected: (\"a\", (1, \"b\"))\n",
       "\n",
       ".ts output:\n",
       "__assert_eq' / actual: a,1,b / expected: a,1,b\n",
       "\n",
       ".py output:\n",
       "__assert_eq' / actual: ('a', (1, 'b')) / expected: ('a', (1, 'b'))\n",
       "\n"
      ]
     },
     "metadata": {},
     "output_type": "display_data"
    },
    {
     "name": "stdout",
     "output_type": "stream",
     "text": [
      ".fsx output:\n",
      "__assert_eq' / actual: struct (\"a\", (1, \"b\")) / expected: struct (\"a\", (1, \"b\"))\n"
     ]
    }
   ],
   "source": [
    "//// test\n",
    "///! fsharp\n",
    "///! cuda\n",
    "///! rust\n",
    "///! typescript\n",
    "///! python\n",
    "\n",
    "new_pair \"a\" (new_pair 1i32 \"b\")\n",
    "|> from_pair\n",
    "|> _assert_eq' (\"a\", (new_pair 1i32 \"b\"))"
   ]
  },
  {
   "cell_type": "markdown",
   "metadata": {},
   "source": [
    "## application"
   ]
  },
  {
   "cell_type": "markdown",
   "metadata": {},
   "source": [
    "### (||>)"
   ]
  },
  {
   "cell_type": "code",
   "execution_count": null,
   "metadata": {
    "dotnet_interactive": {
     "language": "spiral"
    },
    "polyglot_notebook": {
     "kernelName": "spiral"
    }
   },
   "outputs": [],
   "source": [
    "inl (||>) (arg1, arg2) fn =\n",
    "    arg2 |> fn arg1"
   ]
  },
  {
   "cell_type": "markdown",
   "metadata": {},
   "source": [
    "### (||>)"
   ]
  },
  {
   "cell_type": "code",
   "execution_count": null,
   "metadata": {
    "dotnet_interactive": {
     "language": "spiral"
    },
    "polyglot_notebook": {
     "kernelName": "spiral"
    }
   },
   "outputs": [
    {
     "data": {
      "text/plain": [
       ".py output (Cuda):\n",
       "__assert_eq / actual: 1 / expected: 1\n",
       "\n",
       ".rs output:\n",
       "__assert_eq / actual: 1 / expected: 1\n",
       "\n",
       ".ts output:\n",
       "__assert_eq / actual: 1 / expected: 1\n",
       "\n",
       ".py output:\n",
       "__assert_eq / actual: 1 / expected: 1\n",
       "\n"
      ]
     },
     "metadata": {},
     "output_type": "display_data"
    },
    {
     "name": "stdout",
     "output_type": "stream",
     "text": [
      ".fsx output:\n",
      "__assert_eq / actual: 1 / expected: 1\n"
     ]
    }
   ],
   "source": [
    "//// test\n",
    "///! fsharp\n",
    "///! cuda\n",
    "///! rust\n",
    "///! typescript\n",
    "///! python\n",
    "\n",
    "(3i32, 2i32)\n",
    "||> fun a b => a - b\n",
    "|> _assert_eq 1"
   ]
  },
  {
   "cell_type": "code",
   "execution_count": null,
   "metadata": {
    "dotnet_interactive": {
     "language": "spiral"
    },
    "polyglot_notebook": {
     "kernelName": "spiral"
    }
   },
   "outputs": [
    {
     "data": {
      "text/plain": [
       ".py output (Cuda):\n",
       "__assert_eq / actual: (2, 1) / expected: (2, 1)\n",
       "\n",
       ".rs output:\n",
       "__assert_eq / actual: (2, 1) / expected: (2, 1)\n",
       "\n",
       ".ts output:\n",
       "__assert_eq / actual: 2,1 / expected: 2,1\n",
       "\n",
       ".py output:\n",
       "__assert_eq / actual: (2, 1) / expected: (2, 1)\n",
       "\n"
      ]
     },
     "metadata": {},
     "output_type": "display_data"
    },
    {
     "name": "stdout",
     "output_type": "stream",
     "text": [
      ".fsx output:\n",
      "__assert_eq / actual: struct (2, 1) / expected: struct (2, 1)\n"
     ]
    }
   ],
   "source": [
    "//// test\n",
    "///! fsharp\n",
    "///! cuda\n",
    "///! rust\n",
    "///! typescript\n",
    "///! python\n",
    "\n",
    "(1i32, 2i32)\n",
    "||> flip pair\n",
    "|> _assert_eq (2, 1)"
   ]
  },
  {
   "cell_type": "markdown",
   "metadata": {},
   "source": [
    "### fix_condition"
   ]
  },
  {
   "cell_type": "code",
   "execution_count": null,
   "metadata": {
    "dotnet_interactive": {
     "language": "spiral"
    },
    "polyglot_notebook": {
     "kernelName": "spiral"
    }
   },
   "outputs": [],
   "source": [
    "inl fix_condition x a b =\n",
    "    if x ()\n",
    "    then a () |> fun x => $'(* fix_condition then' : ()\n",
    "    else\n",
    "        $'fix_condition then *) else' : ()\n",
    "        b () |> fun x => $'(* fix_condition else' : ()\n",
    "    |> fun x => $'fix_condition else *)' : ()"
   ]
  },
  {
   "cell_type": "markdown",
   "metadata": {},
   "source": [
    "## type"
   ]
  },
  {
   "cell_type": "markdown",
   "metadata": {},
   "source": [
    "### infer"
   ]
  },
  {
   "cell_type": "code",
   "execution_count": null,
   "metadata": {
    "dotnet_interactive": {
     "language": "spiral"
    },
    "polyglot_notebook": {
     "kernelName": "spiral"
    }
   },
   "outputs": [],
   "source": [
    "nominal infer = $'_'"
   ]
  },
  {
   "cell_type": "markdown",
   "metadata": {},
   "source": [
    "### infer'"
   ]
  },
  {
   "cell_type": "code",
   "execution_count": null,
   "metadata": {
    "dotnet_interactive": {
     "language": "spiral"
    },
    "polyglot_notebook": {
     "kernelName": "spiral"
    }
   },
   "outputs": [],
   "source": [
    "nominal infer' t = $'_'"
   ]
  },
  {
   "cell_type": "markdown",
   "metadata": {},
   "source": [
    "### any"
   ]
  },
  {
   "cell_type": "code",
   "execution_count": null,
   "metadata": {
    "dotnet_interactive": {
     "language": "spiral"
    },
    "polyglot_notebook": {
     "kernelName": "spiral"
    }
   },
   "outputs": [],
   "source": [
    "nominal any = $'obj'"
   ]
  },
  {
   "cell_type": "markdown",
   "metadata": {},
   "source": [
    "### null"
   ]
  },
  {
   "cell_type": "code",
   "execution_count": null,
   "metadata": {
    "dotnet_interactive": {
     "language": "spiral"
    },
    "polyglot_notebook": {
     "kernelName": "spiral"
    }
   },
   "outputs": [],
   "source": [
    "inl null forall t. () : t =\n",
    "    backend_switch {\n",
    "        Fsharp = fun () => $'null |> unbox<`t>' : t\n",
    "        Python = fun () => $'None' : t\n",
    "    }"
   ]
  },
  {
   "cell_type": "markdown",
   "metadata": {},
   "source": [
    "### defaultof"
   ]
  },
  {
   "cell_type": "code",
   "execution_count": null,
   "metadata": {
    "dotnet_interactive": {
     "language": "spiral"
    },
    "polyglot_notebook": {
     "kernelName": "spiral"
    }
   },
   "outputs": [],
   "source": [
    "inl defaultof forall t. () : t =\n",
    "    $'Unchecked.defaultof<`t>'"
   ]
  },
  {
   "cell_type": "markdown",
   "metadata": {},
   "source": [
    "### choice2'"
   ]
  },
  {
   "cell_type": "code",
   "execution_count": null,
   "metadata": {
    "dotnet_interactive": {
     "language": "spiral"
    },
    "polyglot_notebook": {
     "kernelName": "spiral"
    }
   },
   "outputs": [],
   "source": [
    "nominal choice2' a b = $'Choice<`a, `b>'"
   ]
  },
  {
   "cell_type": "markdown",
   "metadata": {},
   "source": [
    "### choice2_unbox"
   ]
  },
  {
   "cell_type": "code",
   "execution_count": null,
   "metadata": {
    "dotnet_interactive": {
     "language": "spiral"
    },
    "polyglot_notebook": {
     "kernelName": "spiral"
    }
   },
   "outputs": [],
   "source": [
    "inl choice2_unbox forall t1 t2. (choice : choice2' t1 t2) : choice2 t1 t2 =\n",
    "    run_target_args (fun () => choice) function\n",
    "        | Fsharp _ => fun choice =>\n",
    "            inl c1of2 (x : t1) : _ _ t2 = C1of2 x\n",
    "            inl c2of2 (x : t2) : _ t1 _ = C2of2 x\n",
    "            inl c1of2 = join c1of2\n",
    "            inl c2of2 = join c2of2\n",
    "            $'match !choice with Choice1Of2 x -> !c1of2 x | Choice2Of2 x -> !c2of2 x'\n",
    "        | _ => fun _ => null ()"
   ]
  },
  {
   "cell_type": "markdown",
   "metadata": {},
   "source": [
    "## ref"
   ]
  },
  {
   "cell_type": "markdown",
   "metadata": {},
   "source": [
    "### ref"
   ]
  },
  {
   "cell_type": "code",
   "execution_count": null,
   "metadata": {
    "dotnet_interactive": {
     "language": "spiral"
    },
    "polyglot_notebook": {
     "kernelName": "spiral"
    }
   },
   "outputs": [],
   "source": [
    "nominal ref t = $'`t ref'"
   ]
  },
  {
   "cell_type": "markdown",
   "metadata": {},
   "source": [
    "### new_ref"
   ]
  },
  {
   "cell_type": "code",
   "execution_count": null,
   "metadata": {
    "dotnet_interactive": {
     "language": "spiral"
    },
    "polyglot_notebook": {
     "kernelName": "spiral"
    }
   },
   "outputs": [],
   "source": [
    "inl new_ref forall t. (x : t) : ref t =\n",
    "    $'ref !x '"
   ]
  },
  {
   "cell_type": "markdown",
   "metadata": {},
   "source": [
    "### ref_value"
   ]
  },
  {
   "cell_type": "code",
   "execution_count": null,
   "metadata": {
    "dotnet_interactive": {
     "language": "spiral"
    },
    "polyglot_notebook": {
     "kernelName": "spiral"
    }
   },
   "outputs": [],
   "source": [
    "inl ref_value forall t. (x : ref t) : t =\n",
    "    $'!x.Value'"
   ]
  },
  {
   "cell_type": "markdown",
   "metadata": {},
   "source": [
    "### ref_set_value"
   ]
  },
  {
   "cell_type": "code",
   "execution_count": null,
   "metadata": {
    "dotnet_interactive": {
     "language": "spiral"
    },
    "polyglot_notebook": {
     "kernelName": "spiral"
    }
   },
   "outputs": [],
   "source": [
    "inl ref_set_value forall t. (value : t) (ref : ref t) : ref t =\n",
    "    $'!ref.Value <- !value '\n",
    "    ref"
   ]
  },
  {
   "cell_type": "markdown",
   "metadata": {},
   "source": [
    "## convert"
   ]
  },
  {
   "cell_type": "markdown",
   "metadata": {},
   "source": [
    "### to"
   ]
  },
  {
   "cell_type": "code",
   "execution_count": null,
   "metadata": {
    "dotnet_interactive": {
     "language": "spiral"
    },
    "polyglot_notebook": {
     "kernelName": "spiral"
    }
   },
   "outputs": [],
   "source": [
    "inl to forall t u. (x : t) : u =\n",
    "    $'!x ' : u"
   ]
  },
  {
   "cell_type": "markdown",
   "metadata": {},
   "source": [
    "### convert"
   ]
  },
  {
   "cell_type": "code",
   "execution_count": null,
   "metadata": {
    "dotnet_interactive": {
     "language": "spiral"
    },
    "polyglot_notebook": {
     "kernelName": "spiral"
    }
   },
   "outputs": [],
   "source": [
    "inl convert forall t u. (x : t) : u =\n",
    "    backend_switch {\n",
    "        Fsharp = fun () => $'!x |> `u ' : u\n",
    "        Python = fun () => $'`u(!x)' : u\n",
    "    }"
   ]
  },
  {
   "cell_type": "markdown",
   "metadata": {},
   "source": [
    "### unbox"
   ]
  },
  {
   "cell_type": "code",
   "execution_count": null,
   "metadata": {
    "dotnet_interactive": {
     "language": "spiral"
    },
    "polyglot_notebook": {
     "kernelName": "spiral"
    }
   },
   "outputs": [],
   "source": [
    "inl unbox forall t u. (x : t) : u =\n",
    "    backend_switch {\n",
    "        Fsharp = fun () => $'!x |> unbox<`u>' : u\n",
    "        Python = fun () => x |> to : u\n",
    "    }"
   ]
  },
  {
   "cell_type": "markdown",
   "metadata": {},
   "source": [
    "### u8"
   ]
  },
  {
   "cell_type": "code",
   "execution_count": null,
   "metadata": {
    "dotnet_interactive": {
     "language": "spiral"
    },
    "polyglot_notebook": {
     "kernelName": "spiral"
    }
   },
   "outputs": [],
   "source": [
    "inl u8 forall t. (x : t) : u8 =\n",
    "    backend_switch {\n",
    "        Fsharp = fun () => x |> $'uint8' : u8\n",
    "        Python = fun () => x |> to : u8\n",
    "    }"
   ]
  },
  {
   "cell_type": "markdown",
   "metadata": {},
   "source": [
    "### u16"
   ]
  },
  {
   "cell_type": "code",
   "execution_count": null,
   "metadata": {
    "dotnet_interactive": {
     "language": "spiral"
    },
    "polyglot_notebook": {
     "kernelName": "spiral"
    }
   },
   "outputs": [],
   "source": [
    "inl u16 forall t. (x : t) : u16 =\n",
    "    backend_switch {\n",
    "        Fsharp = fun () => x |> $'uint16' : u16\n",
    "        Python = fun () => $'!x & 0xFFFF' : u16\n",
    "    }"
   ]
  },
  {
   "cell_type": "markdown",
   "metadata": {},
   "source": [
    "### u64"
   ]
  },
  {
   "cell_type": "code",
   "execution_count": null,
   "metadata": {
    "dotnet_interactive": {
     "language": "spiral"
    },
    "polyglot_notebook": {
     "kernelName": "spiral"
    }
   },
   "outputs": [],
   "source": [
    "inl u64 forall t. (x : t) : u64 =\n",
    "    backend_switch {\n",
    "        Fsharp = fun () => x |> $'uint64' : u64\n",
    "        Python = fun () => x |> to : u64\n",
    "    }"
   ]
  },
  {
   "cell_type": "markdown",
   "metadata": {},
   "source": [
    "### i32"
   ]
  },
  {
   "cell_type": "code",
   "execution_count": null,
   "metadata": {
    "dotnet_interactive": {
     "language": "spiral"
    },
    "polyglot_notebook": {
     "kernelName": "spiral"
    }
   },
   "outputs": [],
   "source": [
    "inl i32 forall t. (x : t) : i32 =\n",
    "    backend_switch {\n",
    "        Fsharp = fun () => x |> convert : i32\n",
    "        Python = fun () => x |> convert : i32\n",
    "    }"
   ]
  },
  {
   "cell_type": "markdown",
   "metadata": {},
   "source": [
    "### i64"
   ]
  },
  {
   "cell_type": "code",
   "execution_count": null,
   "metadata": {
    "dotnet_interactive": {
     "language": "spiral"
    },
    "polyglot_notebook": {
     "kernelName": "spiral"
    }
   },
   "outputs": [],
   "source": [
    "inl i64 forall t. (x : t) : i64 =\n",
    "    backend_switch {\n",
    "        Fsharp = fun () => x |> $'int64' : i64\n",
    "        Python = fun () => x |> to : i64\n",
    "    }"
   ]
  },
  {
   "cell_type": "markdown",
   "metadata": {},
   "source": [
    "### f32"
   ]
  },
  {
   "cell_type": "code",
   "execution_count": null,
   "metadata": {
    "dotnet_interactive": {
     "language": "spiral"
    },
    "polyglot_notebook": {
     "kernelName": "spiral"
    }
   },
   "outputs": [],
   "source": [
    "inl f32 forall t. (x : t) : f32 =\n",
    "    backend_switch {\n",
    "        Fsharp = fun () => x |> $'float32' : f32\n",
    "        Python = fun () => x |> to : f32\n",
    "    }"
   ]
  },
  {
   "cell_type": "markdown",
   "metadata": {},
   "source": [
    "### f64"
   ]
  },
  {
   "cell_type": "code",
   "execution_count": null,
   "metadata": {
    "dotnet_interactive": {
     "language": "spiral"
    },
    "polyglot_notebook": {
     "kernelName": "spiral"
    }
   },
   "outputs": [],
   "source": [
    "inl f64 forall t. (x : t) : f64 =\n",
    "    backend_switch {\n",
    "        Fsharp = fun () => x |> $'float' : f64\n",
    "        Python = fun () => x |> to : f64\n",
    "    }"
   ]
  },
  {
   "cell_type": "markdown",
   "metadata": {},
   "source": [
    "### unativeint"
   ]
  },
  {
   "cell_type": "code",
   "execution_count": null,
   "metadata": {
    "dotnet_interactive": {
     "language": "spiral"
    },
    "polyglot_notebook": {
     "kernelName": "spiral"
    }
   },
   "outputs": [],
   "source": [
    "nominal unativeint = $'unativeint'"
   ]
  },
  {
   "cell_type": "markdown",
   "metadata": {},
   "source": [
    "### convert_i32"
   ]
  },
  {
   "cell_type": "code",
   "execution_count": null,
   "metadata": {
    "dotnet_interactive": {
     "language": "spiral"
    },
    "polyglot_notebook": {
     "kernelName": "spiral"
    }
   },
   "outputs": [],
   "source": [
    "inl convert_i32 forall t. (x : t) : i32 =\n",
    "    backend_switch {\n",
    "        Fsharp = fun () => x |> $'System.Convert.ToInt32' : i32\n",
    "        Python = fun () => x |> to : i32\n",
    "    }"
   ]
  },
  {
   "cell_type": "markdown",
   "metadata": {},
   "source": [
    "### convert_i32_base"
   ]
  },
  {
   "cell_type": "code",
   "execution_count": null,
   "metadata": {
    "dotnet_interactive": {
     "language": "spiral"
    },
    "polyglot_notebook": {
     "kernelName": "spiral"
    }
   },
   "outputs": [],
   "source": [
    "inl convert_i32_base forall t. (base : i32) (x : t) : i32 =\n",
    "    backend_switch {\n",
    "        Fsharp = fun () => $'System.Convert.ToInt32 (!x, !base)' : i32\n",
    "        Python = fun () => $'int (!x, !base)' : i32\n",
    "    }"
   ]
  },
  {
   "cell_type": "markdown",
   "metadata": {},
   "source": [
    "### (:>)"
   ]
  },
  {
   "cell_type": "code",
   "execution_count": null,
   "metadata": {
    "dotnet_interactive": {
     "language": "spiral"
    },
    "polyglot_notebook": {
     "kernelName": "spiral"
    }
   },
   "outputs": [],
   "source": [
    "prototype (~:>) r : forall t. t -> r"
   ]
  },
  {
   "cell_type": "markdown",
   "metadata": {},
   "source": [
    "### to_any"
   ]
  },
  {
   "cell_type": "code",
   "execution_count": null,
   "metadata": {
    "dotnet_interactive": {
     "language": "spiral"
    },
    "polyglot_notebook": {
     "kernelName": "spiral"
    }
   },
   "outputs": [],
   "source": [
    "inl to_any forall t. (obj : t) : any =\n",
    "    obj |> to"
   ]
  },
  {
   "cell_type": "markdown",
   "metadata": {},
   "source": [
    "### (~:>) any"
   ]
  },
  {
   "cell_type": "code",
   "execution_count": null,
   "metadata": {
    "dotnet_interactive": {
     "language": "spiral"
    },
    "polyglot_notebook": {
     "kernelName": "spiral"
    }
   },
   "outputs": [],
   "source": [
    "instance (~:>) any = to_any"
   ]
  },
  {
   "cell_type": "markdown",
   "metadata": {},
   "source": [
    "## error"
   ]
  },
  {
   "cell_type": "markdown",
   "metadata": {},
   "source": [
    "### exn"
   ]
  },
  {
   "cell_type": "code",
   "execution_count": null,
   "metadata": {
    "dotnet_interactive": {
     "language": "spiral"
    },
    "polyglot_notebook": {
     "kernelName": "spiral"
    }
   },
   "outputs": [],
   "source": [
    "nominal exn = $\"backend_switch `({ Fsharp : $'exn'; Python : $'BaseException' })\"\n",
    "\n",
    "inl exn x =\n",
    "    x |> $'`exn '"
   ]
  },
  {
   "cell_type": "markdown",
   "metadata": {},
   "source": [
    "### try"
   ]
  },
  {
   "cell_type": "code",
   "execution_count": null,
   "metadata": {
    "dotnet_interactive": {
     "language": "spiral"
    },
    "polyglot_notebook": {
     "kernelName": "spiral"
    }
   },
   "outputs": [],
   "source": [
    "inl try forall t. (fn : () -> t) (ex_fn : exn -> option t) : option t =\n",
    "    inl some x : option t = Some x\n",
    "    inl some = dyn some\n",
    "    inl fn = dyn fn\n",
    "    inl ex_fn = dyn ex_fn\n",
    "    backend_switch {\n",
    "        Fsharp = fun () =>\n",
    "            $'let result = ref !(None : option t)'\n",
    "            $'try'\n",
    "            $'    result.Value <- !fn () |> !some '\n",
    "            $'with ex ->'\n",
    "            $'    result.Value <- !ex_fn ex '\n",
    "            $'result.Value' : option t\n",
    "        Python = fun () =>\n",
    "            $'result = !(None : option t)'\n",
    "            inl fn = dyn fn\n",
    "            inl ex_fn = dyn ex_fn\n",
    "            $'try:'\n",
    "            $'    result = !some(!fn())\\n        \\'\\'\\''\n",
    "            $'\\'\\'\\''\n",
    "            $'except Exception as e:'\n",
    "            $'    result = !ex_fn(e)'\n",
    "            $'result' : option t\n",
    "    }"
   ]
  },
  {
   "cell_type": "code",
   "execution_count": null,
   "metadata": {
    "dotnet_interactive": {
     "language": "spiral"
    },
    "polyglot_notebook": {
     "kernelName": "spiral"
    }
   },
   "outputs": [
    {
     "data": {
      "text/plain": [
       ".py output (Cuda):\n",
       "__assert_eq / actual: index 1 is out of bounds for axis 0 with size 1 / expected: index 1 is out of bounds for axis 0 with size 1\n",
       "\n",
       ".rs output:\n",
       "__assert_eq / actual: \"Exception { message: \"index out of bounds: the len is 1 but the index is 1\" }\" / expected: \"Exception { message: \"index out of bounds: the len is 1 but the index is 1\" }\"\n",
       "\n",
       ".ts output:\n",
       "__assert_eq / actual: Error: Index was outside the bounds of the array.\\nParameter name: index / expected: Error: Index was outside the bounds of the array.\\nParameter name: index\n",
       "\n",
       ".py output:\n",
       "__assert_eq / actual: array index out of range / expected: array index out of range\n",
       "\n"
      ]
     },
     "metadata": {},
     "output_type": "display_data"
    },
    {
     "name": "stdout",
     "output_type": "stream",
     "text": [
      ".fsx output:\n",
      "__assert_eq / actual: \"System.IndexOutOfRangeException: Index was outside the bounds of the array.\" / expected: \"System.IndexOutOfRangeException: Index was outside the bounds of the array.\"\n"
     ]
    }
   ],
   "source": [
    "//// test\n",
    "///! fsharp\n",
    "///! cuda\n",
    "///! rust\n",
    "///! typescript\n",
    "///! python\n",
    "\n",
    "try\n",
    "    fun () => a ;[ 0i32 ] |> am'.index 1i32 |> sm'.format\n",
    "    (fun ex => $'!ex ' |> sm'.format_exception |> Some)\n",
    "|> optionm.value\n",
    "|> _assert_eq (run_target function\n",
    "    | Fsharp => fun () => join \"System.IndexOutOfRangeException: Index was outside the bounds of the array.\"\n",
    "    | Cuda => fun () => \"index 1 is out of bounds for axis 0 with size 1\"\n",
    "    | Rust => fun () => \"Exception { message: \\\"index out of bounds: the len is 1 but the index is 1\\\" }\"\n",
    "    | TypeScript => fun () => \"Error: Index was outside the bounds of the array.\\\\nParameter name: index\"\n",
    "    | Python => fun () => \"array index out of range\"\n",
    ")"
   ]
  },
  {
   "cell_type": "markdown",
   "metadata": {},
   "source": [
    "### try_unit"
   ]
  },
  {
   "cell_type": "code",
   "execution_count": null,
   "metadata": {
    "dotnet_interactive": {
     "language": "spiral"
    },
    "polyglot_notebook": {
     "kernelName": "spiral"
    }
   },
   "outputs": [],
   "source": [
    "inl try_unit forall t. (fn : () -> ()) (ex_fn : (() -> exn) -> ()) : t =\n",
    "    backend_switch {\n",
    "        Fsharp = fun () => $'try' : ()\n",
    "        Python = fun () => $'try:' : ()\n",
    "    }\n",
    "    fn |> indent\n",
    "    backend_switch {\n",
    "        Fsharp = fun () => $'with ex ->' : ()\n",
    "        Python = fun () => $'except Exception as ex:' : ()\n",
    "    }\n",
    "    fun () =>\n",
    "        inl ex = $'ex'\n",
    "        inl ex () =\n",
    "            ex\n",
    "        ex_fn ex\n",
    "    |> indent\n",
    "    backend_switch {\n",
    "        Fsharp = fun () =>\n",
    "            $'(* try_unit'\n",
    "            $'try_unit *)' : t\n",
    "        Python = fun () => $'' : t\n",
    "    }"
   ]
  },
  {
   "cell_type": "markdown",
   "metadata": {},
   "source": [
    "### try_unit'"
   ]
  },
  {
   "cell_type": "code",
   "execution_count": null,
   "metadata": {
    "dotnet_interactive": {
     "language": "spiral"
    },
    "polyglot_notebook": {
     "kernelName": "spiral"
    }
   },
   "outputs": [],
   "source": [
    "inl try_unit' forall t. (ex_fn : (() -> exn) -> ()) (fn : () -> ()) : t =\n",
    "    try_unit fn ex_fn"
   ]
  },
  {
   "cell_type": "markdown",
   "metadata": {},
   "source": [
    "### try_finally"
   ]
  },
  {
   "cell_type": "code",
   "execution_count": null,
   "metadata": {
    "dotnet_interactive": {
     "language": "spiral"
    },
    "polyglot_notebook": {
     "kernelName": "spiral"
    }
   },
   "outputs": [],
   "source": [
    "inl try_finally forall t. (fn : () -> ()) (finally : () -> ()) : t =\n",
    "    backend_switch {\n",
    "        Fsharp = fun () => $'try' : ()\n",
    "        Python = fun () => $'try:' : ()\n",
    "    }\n",
    "    fn |> indent\n",
    "    backend_switch {\n",
    "        Fsharp = fun () => $'finally' : ()\n",
    "        Python = fun () => $'finally:' : ()\n",
    "    }\n",
    "    finally |> indent\n",
    "    backend_switch {\n",
    "        Fsharp = fun () =>\n",
    "            $'(* try_finally'\n",
    "            $'try_finally *)'\n",
    "            ()\n",
    "        Python = fun () => ()\n",
    "    }"
   ]
  }
 ],
 "metadata": {},
 "nbformat": 4,
 "nbformat_minor": 5
}