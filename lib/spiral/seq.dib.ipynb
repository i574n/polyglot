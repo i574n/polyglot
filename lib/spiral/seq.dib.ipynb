{
 "cells": [
  {
   "cell_type": "markdown",
   "metadata": {},
   "source": [
    "# seq"
   ]
  },
  {
   "cell_type": "code",
   "execution_count": null,
   "metadata": {
    "dotnet_interactive": {
     "language": "spiral"
    },
    "polyglot_notebook": {
     "kernelName": "spiral"
    }
   },
   "outputs": [
    {
     "name": "stdout",
     "output_type": "stream",
     "text": [
      "()\n",
      "\n"
     ]
    }
   ],
   "source": [
    "//// test\n",
    "\n",
    "open testing"
   ]
  },
  {
   "cell_type": "markdown",
   "metadata": {},
   "source": [
    "## types "
   ]
  },
  {
   "cell_type": "code",
   "execution_count": null,
   "metadata": {
    "dotnet_interactive": {
     "language": "spiral"
    },
    "polyglot_notebook": {
     "kernelName": "spiral"
    }
   },
   "outputs": [
    {
     "name": "stdout",
     "output_type": "stream",
     "text": [
      "()\n",
      "\n"
     ]
    }
   ],
   "source": [
    "inl types () =\n",
    "    global \"#if FABLE_COMPILER\\n[<Fable.Core.Erase; Fable.Core.Emit(\\\"core::iter::Fuse<$0>\\\")>]\\n#endif\\ntype core_iter_Fuse<'T> = class end\""
   ]
  },
  {
   "cell_type": "code",
   "execution_count": null,
   "metadata": {
    "dotnet_interactive": {
     "language": "spiral"
    },
    "polyglot_notebook": {
     "kernelName": "spiral"
    }
   },
   "outputs": [
    {
     "name": "stdout",
     "output_type": "stream",
     "text": [
      "()\n",
      "\n"
     ]
    }
   ],
   "source": [
    "nominal fuse t = $'core_iter_Fuse<`t>'"
   ]
  },
  {
   "cell_type": "markdown",
   "metadata": {},
   "source": [
    "## seq'"
   ]
  },
  {
   "cell_type": "code",
   "execution_count": null,
   "metadata": {
    "dotnet_interactive": {
     "language": "spiral"
    },
    "polyglot_notebook": {
     "kernelName": "spiral"
    }
   },
   "outputs": [
    {
     "name": "stdout",
     "output_type": "stream",
     "text": [
      "()\n",
      "\n"
     ]
    }
   ],
   "source": [
    "nominal seq' t = $\"`t seq\""
   ]
  },
  {
   "cell_type": "markdown",
   "metadata": {},
   "source": [
    "## of_array'"
   ]
  },
  {
   "cell_type": "code",
   "execution_count": null,
   "metadata": {
    "dotnet_interactive": {
     "language": "spiral"
    },
    "polyglot_notebook": {
     "kernelName": "spiral"
    }
   },
   "outputs": [
    {
     "name": "stdout",
     "output_type": "stream",
     "text": [
      "()\n",
      "\n"
     ]
    }
   ],
   "source": [
    "inl of_array' forall dim t. (items : a dim t) : seq' t =\n",
    "    $'seq { for i = 0 to !items.Length - 1 do yield !items.[i] }'"
   ]
  },
  {
   "cell_type": "code",
   "execution_count": null,
   "metadata": {
    "dotnet_interactive": {
     "language": "spiral"
    },
    "polyglot_notebook": {
     "kernelName": "spiral"
    }
   },
   "outputs": [
    {
     "data": {
      "text/html": [
       "<details open=\"open\" class=\"dni-treeview\"><summary><span class=\"dni-code-hint\"><code>[ a, b ]</code></span></summary><div><table><thead><tr></tr></thead><tbody><tr><td>CheckClose</td><td><div class=\"dni-plaintext\"><pre>False</pre></div></td></tr><tr><td>LastGenerated</td><td><div class=\"dni-plaintext\"><pre>&lt;null&gt;</pre></div></td></tr><tr><td>v2</td><td><div class=\"dni-plaintext\"><pre>[ a, b ]</pre></div></td></tr><tr><td>enum</td><td><div class=\"dni-plaintext\"><pre>&lt;null&gt;</pre></div></td></tr><tr><td>pc</td><td><div class=\"dni-plaintext\"><pre>0</pre></div></td></tr><tr><td>current</td><td><div class=\"dni-plaintext\"><pre>&lt;null&gt;</pre></div></td></tr><tr><td><i>(values)</i></td><td><div class=\"dni-plaintext\"><pre>[ a, b ]</pre></div></td></tr></tbody></table></div></details><style>\n",
       ".dni-code-hint {\n",
       "    font-style: italic;\n",
       "    overflow: hidden;\n",
       "    white-space: nowrap;\n",
       "}\n",
       ".dni-treeview {\n",
       "    white-space: nowrap;\n",
       "}\n",
       ".dni-treeview td {\n",
       "    vertical-align: top;\n",
       "    text-align: start;\n",
       "}\n",
       "details.dni-treeview {\n",
       "    padding-left: 1em;\n",
       "}\n",
       "table td {\n",
       "    text-align: start;\n",
       "}\n",
       "table tr { \n",
       "    vertical-align: top; \n",
       "    margin: 0em 0px;\n",
       "}\n",
       "table tr td pre \n",
       "{ \n",
       "    vertical-align: top !important; \n",
       "    margin: 0em 0px !important;\n",
       "} \n",
       "table th {\n",
       "    text-align: start;\n",
       "}\n",
       "</style>"
      ]
     },
     "metadata": {},
     "output_type": "display_data"
    },
    {
     "name": "stdout",
     "output_type": "stream",
     "text": [
      "let rec method0 () : string seq =\n",
      "    let v0 : string = \"a\"\n",
      "    let v1 : string = \"b\"\n",
      "    let v2 : (string []) = [|v0; v1|]\n",
      "    let v3 : string seq = seq { for i = 0 to v2.Length - 1 do yield v2.[i] }\n",
      "    v3\n",
      "method0()\n",
      "\n"
     ]
    }
   ],
   "source": [
    "//// test\n",
    "\n",
    "(a ;[ \"a\"; \"b\" ] : _ i32 _)\n",
    "|> of_array'"
   ]
  },
  {
   "cell_type": "code",
   "execution_count": null,
   "metadata": {
    "dotnet_interactive": {
     "language": "spiral"
    },
    "polyglot_notebook": {
     "kernelName": "spiral"
    }
   },
   "outputs": [
    {
     "name": "stdout",
     "output_type": "stream",
     "text": [
      "()\n",
      "\n"
     ]
    }
   ],
   "source": [
    "inl of_array forall dim t. (items : a dim t) : seq' t =\n",
    "    items |> $'Seq.ofArray'"
   ]
  },
  {
   "cell_type": "code",
   "execution_count": null,
   "metadata": {
    "dotnet_interactive": {
     "language": "spiral"
    },
    "polyglot_notebook": {
     "kernelName": "spiral"
    }
   },
   "outputs": [
    {
     "data": {
      "text/html": [
       "<details open=\"open\" class=\"dni-treeview\"><summary><span class=\"dni-code-hint\"><code>[ a, b ]</code></span></summary><div><table><thead><tr></tr></thead><tbody><tr><td>f</td><td><details class=\"dni-treeview\"><summary><span class=\"dni-code-hint\"><code>Microsoft.FSharp.Collections.SeqModule+OfArray@1010[System.String]</code></span></summary><div><table><thead><tr></tr></thead><tbody><tr><td>source</td><td><div class=\"dni-plaintext\"><pre>[ a, b ]</pre></div></td></tr></tbody></table></div></details></td></tr><tr><td><i>(values)</i></td><td><div class=\"dni-plaintext\"><pre>[ a, b ]</pre></div></td></tr></tbody></table></div></details><style>\n",
       ".dni-code-hint {\n",
       "    font-style: italic;\n",
       "    overflow: hidden;\n",
       "    white-space: nowrap;\n",
       "}\n",
       ".dni-treeview {\n",
       "    white-space: nowrap;\n",
       "}\n",
       ".dni-treeview td {\n",
       "    vertical-align: top;\n",
       "    text-align: start;\n",
       "}\n",
       "details.dni-treeview {\n",
       "    padding-left: 1em;\n",
       "}\n",
       "table td {\n",
       "    text-align: start;\n",
       "}\n",
       "table tr { \n",
       "    vertical-align: top; \n",
       "    margin: 0em 0px;\n",
       "}\n",
       "table tr td pre \n",
       "{ \n",
       "    vertical-align: top !important; \n",
       "    margin: 0em 0px !important;\n",
       "} \n",
       "table th {\n",
       "    text-align: start;\n",
       "}\n",
       "</style>"
      ]
     },
     "metadata": {},
     "output_type": "display_data"
    },
    {
     "name": "stdout",
     "output_type": "stream",
     "text": [
      "let rec method0 () : string seq =\n",
      "    let v0 : string = \"a\"\n",
      "    let v1 : string = \"b\"\n",
      "    let v2 : (string []) = [|v0; v1|]\n",
      "    let v3 : ((string []) -> string seq) = Seq.ofArray\n",
      "    v3 v2\n",
      "method0()\n",
      "\n"
     ]
    }
   ],
   "source": [
    "//// test\n",
    "\n",
    "(a ;[ \"a\"; \"b\" ] : _ i32 _)\n",
    "|> of_array"
   ]
  },
  {
   "cell_type": "markdown",
   "metadata": {},
   "source": [
    "## to_array'"
   ]
  },
  {
   "cell_type": "code",
   "execution_count": null,
   "metadata": {
    "dotnet_interactive": {
     "language": "spiral"
    },
    "polyglot_notebook": {
     "kernelName": "spiral"
    }
   },
   "outputs": [
    {
     "name": "stdout",
     "output_type": "stream",
     "text": [
      "()\n",
      "\n"
     ]
    }
   ],
   "source": [
    "inl to_array' forall dim t. (items : seq' t) : a dim t =\n",
    "    items |> $'Seq.toArray'"
   ]
  },
  {
   "cell_type": "code",
   "execution_count": null,
   "metadata": {
    "dotnet_interactive": {
     "language": "spiral"
    },
    "polyglot_notebook": {
     "kernelName": "spiral"
    }
   },
   "outputs": [
    {
     "name": "stdout",
     "output_type": "stream",
     "text": [
      "let rec method1 (v0 : (string []), v1 : (string []), v2 : int32) : bool =\n",
      "    let v3 : int32 = v0.Length\n",
      "    let v4 : bool = v2 < v3\n",
      "    if v4 then\n",
      "        let v5 : string = v0.[int v2]\n",
      "        let v6 : string = v1.[int v2]\n",
      "        let v7 : bool = v5 = v6\n",
      "        if v7 then\n",
      "            let v8 : int32 = v2 + 1\n",
      "            method1(v0, v1, v8)\n",
      "        else\n",
      "            false\n",
      "    else\n",
      "        true\n",
      "and method2 (v0 : bool) : bool =\n",
      "    v0\n",
      "and method0 () : unit =\n",
      "    let v0 : string = \"a\"\n",
      "    let v1 : string = \"b\"\n",
      "    let v2 : (string []) = [|v0; v1|]\n",
      "    let v3 : string seq = seq { for i = 0 to v2.Length - 1 do yield v2.[i] }\n",
      "    let v4 : (string seq -> (string [])) = Seq.toArray\n",
      "    let v5 : (string []) = v4 v3\n",
      "    let v6 : (string []) = [|v0; v1|]\n",
      "    let v7 : int32 = v5.Length\n",
      "    let v8 : int32 = v6.Length\n",
      "    let v9 : bool = v7 = v8\n",
      "    let v10 : bool = v9 <> true\n",
      "    let v13 : bool =\n",
      "        if v10 then\n",
      "            false\n",
      "        else\n",
      "            let v11 : int32 = 0\n",
      "            method1(v5, v6, v11)\n",
      "    let v15 : bool =\n",
      "        if v13 then\n",
      "            true\n",
      "        else\n",
      "            method2(v13)\n",
      "    let v16 : string = \"assert_eq\"\n",
      "    let v17 : string = $\"{v16} / actual: %A{v5} / expected: %A{v6}\"\n",
      "    System.Console.WriteLine v17\n",
      "    let v18 : bool = v15 = false\n",
      "    if v18 then\n",
      "        failwith<unit> v17\n",
      "method0()\n",
      "\n",
      "assert_eq / actual: [|\"a\"; \"b\"|] / expected: [|\"a\"; \"b\"|]\n"
     ]
    }
   ],
   "source": [
    "//// test\n",
    "\n",
    "(a ;[ \"a\"; \"b\" ] : _ i32 _)\n",
    "|> of_array'\n",
    "|> to_array'\n",
    "|> _assert_eq (a ;[ \"a\"; \"b\" ] : _ i32 _)"
   ]
  },
  {
   "cell_type": "markdown",
   "metadata": {},
   "source": [
    "## to_list'"
   ]
  },
  {
   "cell_type": "code",
   "execution_count": null,
   "metadata": {
    "dotnet_interactive": {
     "language": "spiral"
    },
    "polyglot_notebook": {
     "kernelName": "spiral"
    }
   },
   "outputs": [
    {
     "name": "stdout",
     "output_type": "stream",
     "text": [
      "()\n",
      "\n"
     ]
    }
   ],
   "source": [
    "inl to_list' forall t. (items : seq' t) : listm'.list' t =\n",
    "    items |> $'Seq.toList'"
   ]
  },
  {
   "cell_type": "code",
   "execution_count": null,
   "metadata": {
    "dotnet_interactive": {
     "language": "spiral"
    },
    "polyglot_notebook": {
     "kernelName": "spiral"
    }
   },
   "outputs": [
    {
     "name": "stdout",
     "output_type": "stream",
     "text": [
      "type UH0 =\n",
      "    | UH0_0\n",
      "    | UH0_1 of string * UH0\n",
      "let rec closure1 (v0 : string) (v1 : UH0) : UH0 =\n",
      "    UH0_1(v0, v1)\n",
      "and closure0 () (v0 : string) : (UH0 -> UH0) =\n",
      "    closure1(v0)\n",
      "and method1 () : (string -> (UH0 -> UH0)) =\n",
      "    closure0()\n",
      "and method2 (v0 : bool) : bool =\n",
      "    v0\n",
      "and method0 () : unit =\n",
      "    let v0 : string = \"a\"\n",
      "    let v1 : string = \"b\"\n",
      "    let v2 : (string []) = [|v0; v1|]\n",
      "    let v3 : ((string []) -> string seq) = Seq.ofArray\n",
      "    let v4 : string seq = v3 v2\n",
      "    let v5 : (string seq -> string list) = Seq.toList\n",
      "    let v6 : string list = v5 v4\n",
      "    let v7 : ((string -> (UH0 -> UH0)) -> (string list -> (UH0 -> UH0))) = List.foldBack\n",
      "    let v8 : (string -> (UH0 -> UH0)) = method1()\n",
      "    let v9 : (string list -> (UH0 -> UH0)) = v7 v8\n",
      "    let v10 : (UH0 -> UH0) = v9 v6\n",
      "    let v11 : UH0 = UH0_0\n",
      "    let v12 : UH0 = v10 v11\n",
      "    let v26 : bool =\n",
      "        match v12 with\n",
      "        | UH0_1(v16, v17) -> (* Cons *)\n",
      "            let v18 : bool = v16 = \"a\"\n",
      "            if v18 then\n",
      "                match v17 with\n",
      "                | UH0_1(v19, v20) -> (* Cons *)\n",
      "                    let v21 : bool = v19 = \"b\"\n",
      "                    if v21 then\n",
      "                        match v20 with\n",
      "                        | UH0_0 -> (* Nil *)\n",
      "                            true\n",
      "                        | _ ->\n",
      "                            false\n",
      "                    else\n",
      "                        false\n",
      "                | _ ->\n",
      "                    false\n",
      "            else\n",
      "                false\n",
      "        | _ ->\n",
      "            false\n",
      "    let v28 : bool =\n",
      "        if v26 then\n",
      "            true\n",
      "        else\n",
      "            method2(v26)\n",
      "    let v29 : string = \"assert_eq\"\n",
      "    let v30 : UH0 = UH0_0\n",
      "    let v31 : UH0 = UH0_1(v1, v30)\n",
      "    let v32 : UH0 = UH0_1(v0, v31)\n",
      "    let v33 : string = $\"{v29} / actual: %A{v12} / expected: %A{v32}\"\n",
      "    System.Console.WriteLine v33\n",
      "    let v34 : bool = v28 = false\n",
      "    if v34 then\n",
      "        failwith<unit> v33\n",
      "method0()\n",
      "\n",
      "assert_eq / actual: UH0_1 (\"a\", UH0_1 (\"b\", UH0_0)) / expected: UH0_1 (\"a\", UH0_1 (\"b\", UH0_0))\n"
     ]
    }
   ],
   "source": [
    "//// test\n",
    "\n",
    "(a ;[ \"a\"; \"b\" ] : _ i32 _)\n",
    "|> of_array\n",
    "|> to_list'\n",
    "|> listm'.unbox\n",
    "|> _assert_eq ([ \"a\"; \"b\" ])"
   ]
  },
  {
   "cell_type": "markdown",
   "metadata": {},
   "source": [
    "## rev'"
   ]
  },
  {
   "cell_type": "code",
   "execution_count": null,
   "metadata": {
    "dotnet_interactive": {
     "language": "spiral"
    },
    "polyglot_notebook": {
     "kernelName": "spiral"
    }
   },
   "outputs": [
    {
     "name": "stdout",
     "output_type": "stream",
     "text": [
      "()\n",
      "\n"
     ]
    }
   ],
   "source": [
    "inl rev'' forall t u. (items : t) : seq' u =\n",
    "    items |> $'Seq.rev'"
   ]
  },
  {
   "cell_type": "markdown",
   "metadata": {},
   "source": [
    "## seq"
   ]
  },
  {
   "cell_type": "code",
   "execution_count": null,
   "metadata": {
    "dotnet_interactive": {
     "language": "spiral"
    },
    "polyglot_notebook": {
     "kernelName": "spiral"
    }
   },
   "outputs": [
    {
     "name": "stdout",
     "output_type": "stream",
     "text": [
      "()\n",
      "\n"
     ]
    }
   ],
   "source": [
    "type seq dim el = dim -> option el"
   ]
  },
  {
   "cell_type": "markdown",
   "metadata": {},
   "source": [
    "## try_item"
   ]
  },
  {
   "cell_type": "code",
   "execution_count": null,
   "metadata": {
    "dotnet_interactive": {
     "language": "spiral"
    },
    "polyglot_notebook": {
     "kernelName": "spiral"
    }
   },
   "outputs": [
    {
     "name": "stdout",
     "output_type": "stream",
     "text": [
      "()\n",
      "\n"
     ]
    }
   ],
   "source": [
    "inl try_item n s =\n",
    "    n |> s"
   ]
  },
  {
   "cell_type": "markdown",
   "metadata": {},
   "source": [
    "## from_list"
   ]
  },
  {
   "cell_type": "code",
   "execution_count": null,
   "metadata": {
    "dotnet_interactive": {
     "language": "spiral"
    },
    "polyglot_notebook": {
     "kernelName": "spiral"
    }
   },
   "outputs": [
    {
     "name": "stdout",
     "output_type": "stream",
     "text": [
      "()\n",
      "\n"
     ]
    }
   ],
   "source": [
    "inl from_list list =\n",
    "    fun n =>\n",
    "        list\n",
    "        |> listm'.try_item n"
   ]
  },
  {
   "cell_type": "code",
   "execution_count": null,
   "metadata": {
    "dotnet_interactive": {
     "language": "spiral"
    },
    "polyglot_notebook": {
     "kernelName": "spiral"
    }
   },
   "outputs": [
    {
     "name": "stdout",
     "output_type": "stream",
     "text": [
      "type [<Struct>] US0 =\n",
      "    | US0_0 of f0_0 : int32\n",
      "    | US0_1\n",
      "let rec method0 () : unit =\n",
      "    printfn $\"print_and_return / x: {0}\"\n",
      "    printfn $\"print_and_return / x: {1}\"\n",
      "    printfn $\"print_and_return / x: {2}\"\n",
      "    printfn $\"print_and_return / x: {3}\"\n",
      "    printfn $\"print_and_return / x: {4}\"\n",
      "    printfn $\"print_and_return / x: {5}\"\n",
      "    printfn $\"print_and_return / x: {6}\"\n",
      "    printfn $\"print_and_return / x: {7}\"\n",
      "    printfn $\"print_and_return / x: {8}\"\n",
      "    printfn $\"print_and_return / x: {9}\"\n",
      "    let v3 : string = \"assert_eq\"\n",
      "    let v4 : US0 = US0_0(5)\n",
      "    let v5 : US0 = US0_0(5)\n",
      "    let v6 : string = $\"{v3} / actual: %A{v4} / expected: %A{v5}\"\n",
      "    System.Console.WriteLine v6\n",
      "    ()\n",
      "method0()\n",
      "\n",
      "print_and_return / x: 0\n",
      "print_and_return / x: 1\n",
      "print_and_return / x: 2\n",
      "print_and_return / x: 3\n",
      "print_and_return / x: 4\n",
      "print_and_return / x: 5\n",
      "print_and_return / x: 6\n",
      "print_and_return / x: 7\n",
      "print_and_return / x: 8\n",
      "print_and_return / x: 9\n",
      "assert_eq / actual: US0_0 5 / expected: US0_0 5\n"
     ]
    }
   ],
   "source": [
    "//// test\n",
    "\n",
    "listm.init 10i32 print_and_return\n",
    "|> from_list\n",
    "|> try_item 5i32\n",
    "|> _assert_eq (Some 5i32)"
   ]
  },
  {
   "cell_type": "markdown",
   "metadata": {},
   "source": [
    "## map"
   ]
  },
  {
   "cell_type": "code",
   "execution_count": null,
   "metadata": {
    "dotnet_interactive": {
     "language": "spiral"
    },
    "polyglot_notebook": {
     "kernelName": "spiral"
    }
   },
   "outputs": [
    {
     "name": "stdout",
     "output_type": "stream",
     "text": [
      "()\n",
      "\n"
     ]
    }
   ],
   "source": [
    "inl map fn s =\n",
    "    fun n =>\n",
    "        n\n",
    "        |> s\n",
    "        |> optionm.map fn"
   ]
  },
  {
   "cell_type": "code",
   "execution_count": null,
   "metadata": {
    "dotnet_interactive": {
     "language": "spiral"
    },
    "polyglot_notebook": {
     "kernelName": "spiral"
    }
   },
   "outputs": [
    {
     "name": "stdout",
     "output_type": "stream",
     "text": [
      "type [<Struct>] US0 =\n",
      "    | US0_0 of f0_0 : int32\n",
      "    | US0_1\n",
      "let rec method0 () : unit =\n",
      "    let v3 : string = \"assert_eq\"\n",
      "    let v4 : US0 = US0_0(10)\n",
      "    let v5 : US0 = US0_0(10)\n",
      "    let v6 : string = $\"{v3} / actual: %A{v4} / expected: %A{v5}\"\n",
      "    System.Console.WriteLine v6\n",
      "    ()\n",
      "method0()\n",
      "\n",
      "assert_eq / actual: US0_0 10 / expected: US0_0 10\n"
     ]
    }
   ],
   "source": [
    "//// test\n",
    "\n",
    "listm.init 10i32 id\n",
    "|> from_list\n",
    "|> map ((*) 2)\n",
    "|> try_item 5i32\n",
    "|> _assert_eq (Some 10i32)"
   ]
  },
  {
   "cell_type": "markdown",
   "metadata": {},
   "source": [
    "## mapi"
   ]
  },
  {
   "cell_type": "code",
   "execution_count": null,
   "metadata": {
    "dotnet_interactive": {
     "language": "spiral"
    },
    "polyglot_notebook": {
     "kernelName": "spiral"
    }
   },
   "outputs": [
    {
     "name": "stdout",
     "output_type": "stream",
     "text": [
      "()\n",
      "\n"
     ]
    }
   ],
   "source": [
    "inl mapi fn s =\n",
    "    fun n =>\n",
    "        n\n",
    "        |> s\n",
    "        |> optionm.map (fn n)"
   ]
  },
  {
   "cell_type": "code",
   "execution_count": null,
   "metadata": {
    "dotnet_interactive": {
     "language": "spiral"
    },
    "polyglot_notebook": {
     "kernelName": "spiral"
    }
   },
   "outputs": [
    {
     "name": "stdout",
     "output_type": "stream",
     "text": [
      "type [<Struct>] US0 =\n",
      "    | US0_0 of f0_0 : int32\n",
      "    | US0_1\n",
      "let rec method0 () : unit =\n",
      "    printfn $\"print_and_return / x: {0}\"\n",
      "    printfn $\"print_and_return / x: {1}\"\n",
      "    printfn $\"print_and_return / x: {2}\"\n",
      "    printfn $\"print_and_return / x: {3}\"\n",
      "    printfn $\"print_and_return / x: {4}\"\n",
      "    printfn $\"print_and_return / x: {5}\"\n",
      "    printfn $\"print_and_return / x: {6}\"\n",
      "    printfn $\"print_and_return / x: {7}\"\n",
      "    printfn $\"print_and_return / x: {8}\"\n",
      "    printfn $\"print_and_return / x: {9}\"\n",
      "    let v3 : string = \"assert_eq\"\n",
      "    let v4 : US0 = US0_0(10)\n",
      "    let v5 : US0 = US0_0(10)\n",
      "    let v6 : string = $\"{v3} / actual: %A{v4} / expected: %A{v5}\"\n",
      "    System.Console.WriteLine v6\n",
      "    ()\n",
      "method0()\n",
      "\n",
      "print_and_return / x: 0\n",
      "print_and_return / x: 1\n",
      "print_and_return / x: 2\n",
      "print_and_return / x: 3\n",
      "print_and_return / x: 4\n",
      "print_and_return / x: 5\n",
      "print_and_return / x: 6\n",
      "print_and_return / x: 7\n",
      "print_and_return / x: 8\n",
      "print_and_return / x: 9\n",
      "assert_eq / actual: US0_0 10 / expected: US0_0 10\n"
     ]
    }
   ],
   "source": [
    "//// test\n",
    "\n",
    "listm.init 10i32 print_and_return\n",
    "|> from_list\n",
    "|> mapi fun i x => i + x\n",
    "|> try_item 5i32\n",
    "|> _assert_eq (Some 10i32)"
   ]
  },
  {
   "cell_type": "markdown",
   "metadata": {},
   "source": [
    "## choose"
   ]
  },
  {
   "cell_type": "code",
   "execution_count": null,
   "metadata": {
    "dotnet_interactive": {
     "language": "spiral"
    },
    "polyglot_notebook": {
     "kernelName": "spiral"
    }
   },
   "outputs": [
    {
     "name": "stdout",
     "output_type": "stream",
     "text": [
      "()\n",
      "\n"
     ]
    }
   ],
   "source": [
    "inl choose forall dim {number} t u. (fn : t -> option u) (s : seq dim t) : seq dim u =\n",
    "    fun n =>\n",
    "        inl rec body fn s i i' =\n",
    "            match i |> s with\n",
    "            | None => None\n",
    "            | Some x =>\n",
    "                match x |> fn with\n",
    "                | Some x when n = i' => Some x\n",
    "                | Some _ => loop (i + 1) (i' + 1)\n",
    "                | _ => loop (i + 1) i'\n",
    "        and inl loop i i' =\n",
    "            if n |> var_is |> not\n",
    "            then body fn s i i'\n",
    "            else\n",
    "                inl fn = join fn\n",
    "                inl s = join s\n",
    "                join body fn s i i'\n",
    "        loop 0 0"
   ]
  },
  {
   "cell_type": "code",
   "execution_count": null,
   "metadata": {
    "dotnet_interactive": {
     "language": "spiral"
    },
    "polyglot_notebook": {
     "kernelName": "spiral"
    }
   },
   "outputs": [
    {
     "name": "stdout",
     "output_type": "stream",
     "text": [
      "type [<Struct>] US0 =\n",
      "    | US0_0 of f0_0 : int32\n",
      "    | US0_1\n",
      "let rec method0 () : unit =\n",
      "    printfn $\"print_and_return / x: {0}\"\n",
      "    printfn $\"print_and_return / x: {1}\"\n",
      "    printfn $\"print_and_return / x: {2}\"\n",
      "    printfn $\"print_and_return / x: {3}\"\n",
      "    printfn $\"print_and_return / x: {4}\"\n",
      "    printfn $\"print_and_return / x: {5}\"\n",
      "    printfn $\"print_and_return / x: {6}\"\n",
      "    printfn $\"print_and_return / x: {7}\"\n",
      "    printfn $\"print_and_return / x: {8}\"\n",
      "    printfn $\"print_and_return / x: {9}\"\n",
      "    let v3 : string = \"assert_eq\"\n",
      "    let v4 : US0 = US0_0(2)\n",
      "    let v5 : US0 = US0_0(2)\n",
      "    let v6 : string = $\"{v3} / actual: %A{v4} / expected: %A{v5}\"\n",
      "    System.Console.WriteLine v6\n",
      "    ()\n",
      "method0()\n",
      "\n",
      "print_and_return / x: 0\n",
      "print_and_return / x: 1\n",
      "print_and_return / x: 2\n",
      "print_and_return / x: 3\n",
      "print_and_return / x: 4\n",
      "print_and_return / x: 5\n",
      "print_and_return / x: 6\n",
      "print_and_return / x: 7\n",
      "print_and_return / x: 8\n",
      "print_and_return / x: 9\n",
      "assert_eq / actual: US0_0 2 / expected: US0_0 2\n"
     ]
    }
   ],
   "source": [
    "//// test\n",
    "\n",
    "listm.init 10i32 print_and_return\n",
    "|> from_list\n",
    "|> choose (fun x => if x % 2 = 0 then Some x else None)\n",
    "|> try_item 1i32\n",
    "|> _assert_eq (Some 2i32)"
   ]
  },
  {
   "cell_type": "markdown",
   "metadata": {},
   "source": [
    "## indexed"
   ]
  },
  {
   "cell_type": "code",
   "execution_count": null,
   "metadata": {
    "dotnet_interactive": {
     "language": "spiral"
    },
    "polyglot_notebook": {
     "kernelName": "spiral"
    }
   },
   "outputs": [
    {
     "name": "stdout",
     "output_type": "stream",
     "text": [
      "()\n",
      "\n"
     ]
    }
   ],
   "source": [
    "inl indexed s =\n",
    "    s\n",
    "    |> mapi fun i x =>\n",
    "        i, x"
   ]
  },
  {
   "cell_type": "code",
   "execution_count": null,
   "metadata": {
    "dotnet_interactive": {
     "language": "spiral"
    },
    "polyglot_notebook": {
     "kernelName": "spiral"
    }
   },
   "outputs": [
    {
     "name": "stdout",
     "output_type": "stream",
     "text": [
      "type [<Struct>] US0 =\n",
      "    | US0_0 of f0_0 : int32 * f0_1 : int32\n",
      "    | US0_1\n",
      "let rec method0 () : unit =\n",
      "    let v3 : string = \"assert_eq\"\n",
      "    let v4 : US0 = US0_0(5, 10)\n",
      "    let v5 : US0 = US0_0(5, 10)\n",
      "    let v6 : string = $\"{v3} / actual: %A{v4} / expected: %A{v5}\"\n",
      "    System.Console.WriteLine v6\n",
      "    ()\n",
      "method0()\n",
      "\n",
      "assert_eq / actual: US0_0 (5, 10) / expected: US0_0 (5, 10)\n"
     ]
    }
   ],
   "source": [
    "//// test\n",
    "\n",
    "listm.init 10i32 ((*) 2)\n",
    "|> from_list\n",
    "|> indexed\n",
    "|> try_item 5i32\n",
    "|> _assert_eq (Some (5i32, 10i32))"
   ]
  },
  {
   "cell_type": "markdown",
   "metadata": {},
   "source": [
    "## zip"
   ]
  },
  {
   "cell_type": "code",
   "execution_count": null,
   "metadata": {
    "dotnet_interactive": {
     "language": "spiral"
    },
    "polyglot_notebook": {
     "kernelName": "spiral"
    }
   },
   "outputs": [
    {
     "name": "stdout",
     "output_type": "stream",
     "text": [
      "()\n",
      "\n"
     ]
    }
   ],
   "source": [
    "inl zip n seq1 seq2 =\n",
    "    seq1 n, seq2 n"
   ]
  },
  {
   "cell_type": "code",
   "execution_count": null,
   "metadata": {
    "dotnet_interactive": {
     "language": "spiral"
    },
    "polyglot_notebook": {
     "kernelName": "spiral"
    }
   },
   "outputs": [
    {
     "name": "stdout",
     "output_type": "stream",
     "text": [
      "type [<Struct>] US0 =\n",
      "    | US0_0 of f0_0 : int32\n",
      "    | US0_1\n",
      "let rec method0 () : unit =\n",
      "    let v6 : string = \"assert_eq\"\n",
      "    let v7 : US0 = US0_0(5)\n",
      "    let v8 : US0 = US0_0(10)\n",
      "    let v9 : US0 = US0_0(5)\n",
      "    let v10 : US0 = US0_0(10)\n",
      "    let v11 : string = $\"{v6} / actual: %A{struct (v7, v8)} / expected: %A{struct (v9, v10)}\"\n",
      "    System.Console.WriteLine v11\n",
      "    ()\n",
      "method0()\n",
      "\n",
      "assert_eq / actual: struct (US0_0 5, US0_0 10) / expected: struct (US0_0 5, US0_0 10)\n"
     ]
    }
   ],
   "source": [
    "//// test\n",
    "\n",
    "((listm.init 10i32 id |> from_list), (listm.init 10i32 ((*) 2) |> from_list))\n",
    "||> zip 5i32\n",
    "|> _assert_eq (Some 5, Some 10)"
   ]
  },
  {
   "cell_type": "markdown",
   "metadata": {},
   "source": [
    "## zip_with"
   ]
  },
  {
   "cell_type": "code",
   "execution_count": null,
   "metadata": {
    "dotnet_interactive": {
     "language": "spiral"
    },
    "polyglot_notebook": {
     "kernelName": "spiral"
    }
   },
   "outputs": [
    {
     "name": "stdout",
     "output_type": "stream",
     "text": [
      "()\n",
      "\n"
     ]
    }
   ],
   "source": [
    "inl zip_with fn seq1 seq2 =\n",
    "    fun n =>\n",
    "        fn (seq1 n) (seq2 n)"
   ]
  },
  {
   "cell_type": "code",
   "execution_count": null,
   "metadata": {
    "dotnet_interactive": {
     "language": "spiral"
    },
    "polyglot_notebook": {
     "kernelName": "spiral"
    }
   },
   "outputs": [
    {
     "name": "stdout",
     "output_type": "stream",
     "text": [
      "type [<Struct>] US0 =\n",
      "    | US0_0 of f0_0 : int32\n",
      "    | US0_1\n",
      "let rec method0 () : unit =\n",
      "    let v3 : string = \"assert_eq\"\n",
      "    let v4 : US0 = US0_0(6)\n",
      "    let v5 : US0 = US0_0(6)\n",
      "    let v6 : string = $\"{v3} / actual: %A{v4} / expected: %A{v5}\"\n",
      "    System.Console.WriteLine v6\n",
      "    ()\n",
      "method0()\n",
      "\n",
      "assert_eq / actual: US0_0 6 / expected: US0_0 6\n"
     ]
    }
   ],
   "source": [
    "//// test\n",
    "\n",
    "((listm.init 10i32 id |> from_list), (listm.init 10i32 ((*) 2) |> from_list))\n",
    "||> zip_with (optionm'.choose (+))\n",
    "|> try_item 2i32\n",
    "|> _assert_eq (Some 6)"
   ]
  },
  {
   "cell_type": "markdown",
   "metadata": {},
   "source": [
    "## fold"
   ]
  },
  {
   "cell_type": "code",
   "execution_count": null,
   "metadata": {
    "dotnet_interactive": {
     "language": "spiral"
    },
    "polyglot_notebook": {
     "kernelName": "spiral"
    }
   },
   "outputs": [
    {
     "name": "stdout",
     "output_type": "stream",
     "text": [
      "()\n",
      "\n"
     ]
    }
   ],
   "source": [
    "inl fold fn init seq =\n",
    "    inl rec loop acc n =\n",
    "        match seq n with\n",
    "        | Some x => loop (fn acc x) (n + 1)\n",
    "        | None => acc\n",
    "    loop init 0\n",
    "\n",
    "inl fold_ fn init seq =\n",
    "    let rec loop acc n =\n",
    "        match seq n with\n",
    "        | Some x => loop (fn acc x) (n + 1)\n",
    "        | None => acc\n",
    "    loop init 0"
   ]
  },
  {
   "cell_type": "markdown",
   "metadata": {},
   "source": [
    "## sum"
   ]
  },
  {
   "cell_type": "code",
   "execution_count": null,
   "metadata": {
    "dotnet_interactive": {
     "language": "spiral"
    },
    "polyglot_notebook": {
     "kernelName": "spiral"
    }
   },
   "outputs": [
    {
     "name": "stdout",
     "output_type": "stream",
     "text": [
      "()\n",
      "\n"
     ]
    }
   ],
   "source": [
    "inl sum seq =\n",
    "    seq |> fold (+) 0\n",
    "\n",
    "inl sum_ seq =\n",
    "    seq |> fold_ (+) 0"
   ]
  },
  {
   "cell_type": "code",
   "execution_count": null,
   "metadata": {
    "dotnet_interactive": {
     "language": "spiral"
    },
    "polyglot_notebook": {
     "kernelName": "spiral"
    }
   },
   "outputs": [
    {
     "name": "stdout",
     "output_type": "stream",
     "text": [
      "let rec method0 () : unit =\n",
      "    let v0 : string = \"assert_eq\"\n",
      "    let v1 : string = $\"{v0} / actual: %A{45} / expected: %A{45}\"\n",
      "    System.Console.WriteLine v1\n",
      "    ()\n",
      "method0()\n",
      "\n",
      "assert_eq / actual: 45 / expected: 45\n"
     ]
    }
   ],
   "source": [
    "//// test\n",
    "\n",
    "listm.init 10i32 id\n",
    "|> from_list\n",
    "|> fun f (n : i32) => f n\n",
    "|> sum\n",
    "|> _assert_eq 45"
   ]
  },
  {
   "cell_type": "markdown",
   "metadata": {},
   "source": [
    "## to_list"
   ]
  },
  {
   "cell_type": "code",
   "execution_count": null,
   "metadata": {
    "dotnet_interactive": {
     "language": "spiral"
    },
    "polyglot_notebook": {
     "kernelName": "spiral"
    }
   },
   "outputs": [
    {
     "name": "stdout",
     "output_type": "stream",
     "text": [
      "()\n",
      "\n"
     ]
    }
   ],
   "source": [
    "inl to_list seq =\n",
    "    seq\n",
    "    |> fold (fun acc x => x :: acc) []\n",
    "    |> listm.rev\n",
    "\n",
    "inl to_list_ seq =\n",
    "    seq\n",
    "    |> fold_ (fun acc x => x :: acc) []\n",
    "    |> listm.rev"
   ]
  },
  {
   "cell_type": "code",
   "execution_count": null,
   "metadata": {
    "dotnet_interactive": {
     "language": "spiral"
    },
    "polyglot_notebook": {
     "kernelName": "spiral"
    }
   },
   "outputs": [
    {
     "name": "stdout",
     "output_type": "stream",
     "text": [
      "type UH0 =\n",
      "    | UH0_0\n",
      "    | UH0_1 of int32 * UH0\n",
      "let rec method0 () : unit =\n",
      "    let v88 : string = \"assert_eq\"\n",
      "    let v89 : UH0 = UH0_0\n",
      "    let v90 : UH0 = UH0_1(9, v89)\n",
      "    let v91 : UH0 = UH0_1(8, v90)\n",
      "    let v92 : UH0 = UH0_1(7, v91)\n",
      "    let v93 : UH0 = UH0_1(6, v92)\n",
      "    let v94 : UH0 = UH0_1(5, v93)\n",
      "    let v95 : UH0 = UH0_1(4, v94)\n",
      "    let v96 : UH0 = UH0_1(3, v95)\n",
      "    let v97 : UH0 = UH0_1(2, v96)\n",
      "    let v98 : UH0 = UH0_1(1, v97)\n",
      "    let v99 : UH0 = UH0_1(0, v98)\n",
      "    let v100 : UH0 = UH0_0\n",
      "    let v101 : UH0 = UH0_1(9, v100)\n",
      "    let v102 : UH0 = UH0_1(8, v101)\n",
      "    let v103 : UH0 = UH0_1(7, v102)\n",
      "    let v104 : UH0 = UH0_1(6, v103)\n",
      "    let v105 : UH0 = UH0_1(5, v104)\n",
      "    let v106 : UH0 = UH0_1(4, v105)\n",
      "    let v107 : UH0 = UH0_1(3, v106)\n",
      "    let v108 : UH0 = UH0_1(2, v107)\n",
      "    let v109 : UH0 = UH0_1(1, v108)\n",
      "    let v110 : UH0 = UH0_1(0, v109)\n",
      "    let v111 : string = $\"{v88} / actual: %A{v99} / expected: %A{v110}\"\n",
      "    System.Console.WriteLine v111\n",
      "    ()\n",
      "method0()\n",
      "\n",
      "assert_eq / actual: UH0_1\n",
      "  (0,\n",
      "   UH0_1\n",
      "     (1,\n",
      "      UH0_1\n",
      "        (2,\n",
      "         UH0_1\n",
      "           (3,\n",
      "            UH0_1\n",
      "              (4, UH0_1 (5, UH0_1 (6, UH0_1 (7, UH0_1 (8, UH0_1 (9, UH0_0)))))))))) / expected: UH0_1\n",
      "  (0,\n",
      "   UH0_1\n",
      "     (1,\n",
      "      UH0_1\n",
      "        (2,\n",
      "         UH0_1\n",
      "           (3,\n",
      "            UH0_1\n",
      "              (4, UH0_1 (5, UH0_1 (6, UH0_1 (7, UH0_1 (8, UH0_1 (9, UH0_0))))))))))\n"
     ]
    }
   ],
   "source": [
    "//// test\n",
    "\n",
    "listm.init 10i32 id\n",
    "|> from_list\n",
    "|> fun f (n : i32) => f n\n",
    "|> to_list\n",
    "|> _assert_eq (listm.init 10i32 id)"
   ]
  },
  {
   "cell_type": "markdown",
   "metadata": {},
   "source": [
    "## from_array"
   ]
  },
  {
   "cell_type": "code",
   "execution_count": null,
   "metadata": {
    "dotnet_interactive": {
     "language": "spiral"
    },
    "polyglot_notebook": {
     "kernelName": "spiral"
    }
   },
   "outputs": [
    {
     "name": "stdout",
     "output_type": "stream",
     "text": [
      "()\n",
      "\n"
     ]
    }
   ],
   "source": [
    "inl from_array forall dim {number; int} el. (array : a dim el) : seq dim el =\n",
    "    fun n =>\n",
    "        if n >= length array\n",
    "        then None\n",
    "        else index array n |> Some"
   ]
  },
  {
   "cell_type": "code",
   "execution_count": null,
   "metadata": {
    "dotnet_interactive": {
     "language": "spiral"
    },
    "polyglot_notebook": {
     "kernelName": "spiral"
    }
   },
   "outputs": [
    {
     "name": "stdout",
     "output_type": "stream",
     "text": [
      "type [<Struct>] US0 =\n",
      "    | US0_0 of f0_0 : int32\n",
      "    | US0_1\n",
      "let rec method1 (v0 : bool) : bool =\n",
      "    v0\n",
      "and method0 () : unit =\n",
      "    let v0 : (int32 []) = [|1; 2; 3|]\n",
      "    let v1 : int32 = v0.Length\n",
      "    let v2 : bool = 1 >= v1\n",
      "    let v6 : US0 =\n",
      "        if v2 then\n",
      "            US0_1\n",
      "        else\n",
      "            let v4 : int32 = v0.[int 1]\n",
      "            US0_0(v4)\n",
      "    let v10 : bool =\n",
      "        match v6 with\n",
      "        | US0_0(v8) -> (* Some *)\n",
      "            let v9 : bool = v8 = 2\n",
      "            v9\n",
      "        | _ ->\n",
      "            false\n",
      "    let v12 : bool =\n",
      "        if v10 then\n",
      "            true\n",
      "        else\n",
      "            method1(v10)\n",
      "    let v13 : string = \"assert_eq\"\n",
      "    let v14 : US0 = US0_0(2)\n",
      "    let v15 : string = $\"{v13} / actual: %A{v6} / expected: %A{v14}\"\n",
      "    System.Console.WriteLine v15\n",
      "    let v16 : bool = v12 = false\n",
      "    if v16 then\n",
      "        failwith<unit> v15\n",
      "method0()\n",
      "\n",
      "assert_eq / actual: US0_0 2 / expected: US0_0 2\n"
     ]
    }
   ],
   "source": [
    "//// test\n",
    "\n",
    "a ;[ 1; 2; 3 ]\n",
    "|> from_array\n",
    "|> try_item 1i32\n",
    "|> _assert_eq (Some 2i32)"
   ]
  },
  {
   "cell_type": "markdown",
   "metadata": {},
   "source": [
    "## to_array"
   ]
  },
  {
   "cell_type": "code",
   "execution_count": null,
   "metadata": {
    "dotnet_interactive": {
     "language": "spiral"
    },
    "polyglot_notebook": {
     "kernelName": "spiral"
    }
   },
   "outputs": [
    {
     "name": "stdout",
     "output_type": "stream",
     "text": [
      "()\n",
      "\n"
     ]
    }
   ],
   "source": [
    "inl to_array seq =\n",
    "    inl ar = a ;[] |> mut\n",
    "    ((), seq)\n",
    "    ||> fold fun _ x =>\n",
    "        ar <- *ar ++ a ;[x]\n",
    "    *ar\n",
    "\n",
    "inl to_array_ seq =\n",
    "    inl ar = a ;[] |> mut\n",
    "    ((), seq)\n",
    "    ||> fold_ fun _ x =>\n",
    "        ar <- *ar ++ a ;[x]\n",
    "    *ar"
   ]
  },
  {
   "cell_type": "code",
   "execution_count": null,
   "metadata": {
    "dotnet_interactive": {
     "language": "spiral"
    },
    "polyglot_notebook": {
     "kernelName": "spiral"
    }
   },
   "outputs": [
    {
     "name": "stdout",
     "output_type": "stream",
     "text": [
      "type Mut0 = {mutable l0 : (int32 [])}\n",
      "and Mut1 = {mutable l0 : int32}\n",
      "let rec method1 (v0 : int32, v1 : Mut1) : bool =\n",
      "    let v2 : int32 = v1.l0\n",
      "    let v3 : bool = v2 < v0\n",
      "    v3\n",
      "and method2 (v0 : (int32 []), v1 : (int32 []), v2 : int32) : bool =\n",
      "    let v3 : int32 = v0.Length\n",
      "    let v4 : bool = v2 < v3\n",
      "    if v4 then\n",
      "        let v5 : int32 = v0.[int v2]\n",
      "        let v6 : int32 = v1.[int v2]\n",
      "        let v7 : bool = v5 = v6\n",
      "        if v7 then\n",
      "            let v8 : int32 = v2 + 1\n",
      "            method2(v0, v1, v8)\n",
      "        else\n",
      "            false\n",
      "    else\n",
      "        true\n",
      "and method3 (v0 : bool) : bool =\n",
      "    v0\n",
      "and method0 () : unit =\n",
      "    let v0 : (int32 []) = [||]\n",
      "    let v1 : Mut0 = {l0 = v0} : Mut0\n",
      "    let v2 : (int32 []) = v1.l0\n",
      "    let v3 : (int32 []) = [|0|]\n",
      "    let v4 : int32 = v2.Length\n",
      "    let v5 : int32 = v3.Length\n",
      "    let v6 : int32 = v4 + v5\n",
      "    let v7 : (int32 []) = Array.zeroCreate<int32> (v6)\n",
      "    let v8 : Mut1 = {l0 = 0} : Mut1\n",
      "    while method1(v6, v8) do\n",
      "        let v10 : int32 = v8.l0\n",
      "        let v11 : bool = v10 < v4\n",
      "        let v15 : int32 =\n",
      "            if v11 then\n",
      "                let v12 : int32 = v2.[int v10]\n",
      "                v12\n",
      "            else\n",
      "                let v13 : int32 = v10 - v4\n",
      "                let v14 : int32 = v3.[int v13]\n",
      "                v14\n",
      "        v7.[int v10] <- v15\n",
      "        let v16 : int32 = v10 + 1\n",
      "        v8.l0 <- v16\n",
      "        ()\n",
      "    v1.l0 <- v7\n",
      "    let v17 : (int32 []) = v1.l0\n",
      "    let v18 : (int32 []) = [|1|]\n",
      "    let v19 : int32 = v17.Length\n",
      "    let v20 : int32 = v18.Length\n",
      "    let v21 : int32 = v19 + v20\n",
      "    let v22 : (int32 []) = Array.zeroCreate<int32> (v21)\n",
      "    let v23 : Mut1 = {l0 = 0} : Mut1\n",
      "    while method1(v21, v23) do\n",
      "        let v25 : int32 = v23.l0\n",
      "        let v26 : bool = v25 < v19\n",
      "        let v30 : int32 =\n",
      "            if v26 then\n",
      "                let v27 : int32 = v17.[int v25]\n",
      "                v27\n",
      "            else\n",
      "                let v28 : int32 = v25 - v19\n",
      "                let v29 : int32 = v18.[int v28]\n",
      "                v29\n",
      "        v22.[int v25] <- v30\n",
      "        let v31 : int32 = v25 + 1\n",
      "        v23.l0 <- v31\n",
      "        ()\n",
      "    v1.l0 <- v22\n",
      "    let v32 : (int32 []) = v1.l0\n",
      "    let v33 : (int32 []) = [|2|]\n",
      "    let v34 : int32 = v32.Length\n",
      "    let v35 : int32 = v33.Length\n",
      "    let v36 : int32 = v34 + v35\n",
      "    let v37 : (int32 []) = Array.zeroCreate<int32> (v36)\n",
      "    let v38 : Mut1 = {l0 = 0} : Mut1\n",
      "    while method1(v36, v38) do\n",
      "        let v40 : int32 = v38.l0\n",
      "        let v41 : bool = v40 < v34\n",
      "        let v45 : int32 =\n",
      "            if v41 then\n",
      "                let v42 : int32 = v32.[int v40]\n",
      "                v42\n",
      "            else\n",
      "                let v43 : int32 = v40 - v34\n",
      "                let v44 : int32 = v33.[int v43]\n",
      "                v44\n",
      "        v37.[int v40] <- v45\n",
      "        let v46 : int32 = v40 + 1\n",
      "        v38.l0 <- v46\n",
      "        ()\n",
      "    v1.l0 <- v37\n",
      "    let v47 : (int32 []) = v1.l0\n",
      "    let v48 : (int32 []) = [|3|]\n",
      "    let v49 : int32 = v47.Length\n",
      "    let v50 : int32 = v48.Length\n",
      "    let v51 : int32 = v49 + v50\n",
      "    let v52 : (int32 []) = Array.zeroCreate<int32> (v51)\n",
      "    let v53 : Mut1 = {l0 = 0} : Mut1\n",
      "    while method1(v51, v53) do\n",
      "        let v55 : int32 = v53.l0\n",
      "        let v56 : bool = v55 < v49\n",
      "        let v60 : int32 =\n",
      "            if v56 then\n",
      "                let v57 : int32 = v47.[int v55]\n",
      "                v57\n",
      "            else\n",
      "                let v58 : int32 = v55 - v49\n",
      "                let v59 : int32 = v48.[int v58]\n",
      "                v59\n",
      "        v52.[int v55] <- v60\n",
      "        let v61 : int32 = v55 + 1\n",
      "        v53.l0 <- v61\n",
      "        ()\n",
      "    v1.l0 <- v52\n",
      "    let v62 : (int32 []) = v1.l0\n",
      "    let v63 : (int32 []) = [|4|]\n",
      "    let v64 : int32 = v62.Length\n",
      "    let v65 : int32 = v63.Length\n",
      "    let v66 : int32 = v64 + v65\n",
      "    let v67 : (int32 []) = Array.zeroCreate<int32> (v66)\n",
      "    let v68 : Mut1 = {l0 = 0} : Mut1\n",
      "    while method1(v66, v68) do\n",
      "        let v70 : int32 = v68.l0\n",
      "        let v71 : bool = v70 < v64\n",
      "        let v75 : int32 =\n",
      "            if v71 then\n",
      "                let v72 : int32 = v62.[int v70]\n",
      "                v72\n",
      "            else\n",
      "                let v73 : int32 = v70 - v64\n",
      "                let v74 : int32 = v63.[int v73]\n",
      "                v74\n",
      "        v67.[int v70] <- v75\n",
      "        let v76 : int32 = v70 + 1\n",
      "        v68.l0 <- v76\n",
      "        ()\n",
      "    v1.l0 <- v67\n",
      "    let v77 : (int32 []) = v1.l0\n",
      "    let v78 : (int32 []) = [|5|]\n",
      "    let v79 : int32 = v77.Length\n",
      "    let v80 : int32 = v78.Length\n",
      "    let v81 : int32 = v79 + v80\n",
      "    let v82 : (int32 []) = Array.zeroCreate<int32> (v81)\n",
      "    let v83 : Mut1 = {l0 = 0} : Mut1\n",
      "    while method1(v81, v83) do\n",
      "        let v85 : int32 = v83.l0\n",
      "        let v86 : bool = v85 < v79\n",
      "        let v90 : int32 =\n",
      "            if v86 then\n",
      "                let v87 : int32 = v77.[int v85]\n",
      "                v87\n",
      "            else\n",
      "                let v88 : int32 = v85 - v79\n",
      "                let v89 : int32 = v78.[int v88]\n",
      "                v89\n",
      "        v82.[int v85] <- v90\n",
      "        let v91 : int32 = v85 + 1\n",
      "        v83.l0 <- v91\n",
      "        ()\n",
      "    v1.l0 <- v82\n",
      "    let v92 : (int32 []) = v1.l0\n",
      "    let v93 : (int32 []) = [|6|]\n",
      "    let v94 : int32 = v92.Length\n",
      "    let v95 : int32 = v93.Length\n",
      "    let v96 : int32 = v94 + v95\n",
      "    let v97 : (int32 []) = Array.zeroCreate<int32> (v96)\n",
      "    let v98 : Mut1 = {l0 = 0} : Mut1\n",
      "    while method1(v96, v98) do\n",
      "        let v100 : int32 = v98.l0\n",
      "        let v101 : bool = v100 < v94\n",
      "        let v105 : int32 =\n",
      "            if v101 then\n",
      "                let v102 : int32 = v92.[int v100]\n",
      "                v102\n",
      "            else\n",
      "                let v103 : int32 = v100 - v94\n",
      "                let v104 : int32 = v93.[int v103]\n",
      "                v104\n",
      "        v97.[int v100] <- v105\n",
      "        let v106 : int32 = v100 + 1\n",
      "        v98.l0 <- v106\n",
      "        ()\n",
      "    v1.l0 <- v97\n",
      "    let v107 : (int32 []) = v1.l0\n",
      "    let v108 : (int32 []) = [|7|]\n",
      "    let v109 : int32 = v107.Length\n",
      "    let v110 : int32 = v108.Length\n",
      "    let v111 : int32 = v109 + v110\n",
      "    let v112 : (int32 []) = Array.zeroCreate<int32> (v111)\n",
      "    let v113 : Mut1 = {l0 = 0} : Mut1\n",
      "    while method1(v111, v113) do\n",
      "        let v115 : int32 = v113.l0\n",
      "        let v116 : bool = v115 < v109\n",
      "        let v120 : int32 =\n",
      "            if v116 then\n",
      "                let v117 : int32 = v107.[int v115]\n",
      "                v117\n",
      "            else\n",
      "                let v118 : int32 = v115 - v109\n",
      "                let v119 : int32 = v108.[int v118]\n",
      "                v119\n",
      "        v112.[int v115] <- v120\n",
      "        let v121 : int32 = v115 + 1\n",
      "        v113.l0 <- v121\n",
      "        ()\n",
      "    v1.l0 <- v112\n",
      "    let v122 : (int32 []) = v1.l0\n",
      "    let v123 : (int32 []) = [|8|]\n",
      "    let v124 : int32 = v122.Length\n",
      "    let v125 : int32 = v123.Length\n",
      "    let v126 : int32 = v124 + v125\n",
      "    let v127 : (int32 []) = Array.zeroCreate<int32> (v126)\n",
      "    let v128 : Mut1 = {l0 = 0} : Mut1\n",
      "    while method1(v126, v128) do\n",
      "        let v130 : int32 = v128.l0\n",
      "        let v131 : bool = v130 < v124\n",
      "        let v135 : int32 =\n",
      "            if v131 then\n",
      "                let v132 : int32 = v122.[int v130]\n",
      "                v132\n",
      "            else\n",
      "                let v133 : int32 = v130 - v124\n",
      "                let v134 : int32 = v123.[int v133]\n",
      "                v134\n",
      "        v127.[int v130] <- v135\n",
      "        let v136 : int32 = v130 + 1\n",
      "        v128.l0 <- v136\n",
      "        ()\n",
      "    v1.l0 <- v127\n",
      "    let v137 : (int32 []) = v1.l0\n",
      "    let v138 : (int32 []) = [|9|]\n",
      "    let v139 : int32 = v137.Length\n",
      "    let v140 : int32 = v138.Length\n",
      "    let v141 : int32 = v139 + v140\n",
      "    let v142 : (int32 []) = Array.zeroCreate<int32> (v141)\n",
      "    let v143 : Mut1 = {l0 = 0} : Mut1\n",
      "    while method1(v141, v143) do\n",
      "        let v145 : int32 = v143.l0\n",
      "        let v146 : bool = v145 < v139\n",
      "        let v150 : int32 =\n",
      "            if v146 then\n",
      "                let v147 : int32 = v137.[int v145]\n",
      "                v147\n",
      "            else\n",
      "                let v148 : int32 = v145 - v139\n",
      "                let v149 : int32 = v138.[int v148]\n",
      "                v149\n",
      "        v142.[int v145] <- v150\n",
      "        let v151 : int32 = v145 + 1\n",
      "        v143.l0 <- v151\n",
      "        ()\n",
      "    v1.l0 <- v142\n",
      "    let v152 : (int32 []) = v1.l0\n",
      "    let v153 : (int32 []) = [|0; 1; 2; 3; 4; 5; 6; 7; 8; 9|]\n",
      "    let v154 : int32 = v152.Length\n",
      "    let v155 : int32 = v153.Length\n",
      "    let v156 : bool = v154 = v155\n",
      "    let v157 : bool = v156 <> true\n",
      "    let v160 : bool =\n",
      "        if v157 then\n",
      "            false\n",
      "        else\n",
      "            let v158 : int32 = 0\n",
      "            method2(v152, v153, v158)\n",
      "    let v162 : bool =\n",
      "        if v160 then\n",
      "            true\n",
      "        else\n",
      "            method3(v160)\n",
      "    let v163 : string = \"assert_eq\"\n",
      "    let v164 : string = $\"{v163} / actual: %A{v152} / expected: %A{v153}\"\n",
      "    System.Console.WriteLine v164\n",
      "    let v165 : bool = v162 = false\n",
      "    if v165 then\n",
      "        failwith<unit> v164\n",
      "method0()\n",
      "\n",
      "assert_eq / actual: [|0; 1; 2; 3; 4; 5; 6; 7; 8; 9|] / expected: [|0; 1; 2; 3; 4; 5; 6; 7; 8; 9|]\n"
     ]
    }
   ],
   "source": [
    "//// test\n",
    "\n",
    "listm.init 10i32 id\n",
    "|> from_list\n",
    "|> fun (x : i32 -> _) => x\n",
    "|> to_array\n",
    "|> _assert_eq (a ;[ 0; 1; 2; 3; 4; 5; 6; 7; 8; 9 ] : _ i32 _)"
   ]
  },
  {
   "cell_type": "markdown",
   "metadata": {},
   "source": [
    "## take_while"
   ]
  },
  {
   "cell_type": "code",
   "execution_count": null,
   "metadata": {
    "dotnet_interactive": {
     "language": "spiral"
    },
    "polyglot_notebook": {
     "kernelName": "spiral"
    }
   },
   "outputs": [
    {
     "name": "stdout",
     "output_type": "stream",
     "text": [
      "()\n",
      "\n"
     ]
    }
   ],
   "source": [
    "inl take_while cond seq =\n",
    "    inl rec loop acc i =\n",
    "        match seq i with\n",
    "        | Some st when cond st i => loop (st :: acc) (i + 1)\n",
    "        | _ => acc |> listm.rev\n",
    "    loop [] 0"
   ]
  },
  {
   "cell_type": "code",
   "execution_count": null,
   "metadata": {
    "dotnet_interactive": {
     "language": "spiral"
    },
    "polyglot_notebook": {
     "kernelName": "spiral"
    }
   },
   "outputs": [
    {
     "name": "stdout",
     "output_type": "stream",
     "text": [
      "let rec method0 () : unit =\n",
      "    let v0 : string = \"assert_eq\"\n",
      "    let v1 : string = $\"{v0} / actual: %A{10} / expected: %A{10}\"\n",
      "    System.Console.WriteLine v1\n",
      "    ()\n",
      "method0()\n",
      "\n",
      "assert_eq / actual: 10 / expected: 10\n"
     ]
    }
   ],
   "source": [
    "//// test\n",
    "\n",
    "listm.init 10i32 id\n",
    "|> from_list\n",
    "|> take_while (fun n (_ : i32) => n < 5)\n",
    "|> listm'.sum\n",
    "|> _assert_eq 10"
   ]
  },
  {
   "cell_type": "code",
   "execution_count": null,
   "metadata": {
    "dotnet_interactive": {
     "language": "spiral"
    },
    "polyglot_notebook": {
     "kernelName": "spiral"
    }
   },
   "outputs": [
    {
     "name": "stdout",
     "output_type": "stream",
     "text": [
      "let rec method0 () : unit =\n",
      "    printfn $\"print_and_return / x: {0}\"\n",
      "    printfn $\"print_and_return / x: {1}\"\n",
      "    printfn $\"print_and_return / x: {1}\"\n",
      "    printfn $\"print_and_return / x: {2}\"\n",
      "    printfn $\"print_and_return / x: {1}\"\n",
      "    printfn $\"print_and_return / x: {2}\"\n",
      "    printfn $\"print_and_return / x: {3}\"\n",
      "    printfn $\"print_and_return / x: {1}\"\n",
      "    printfn $\"print_and_return / x: {2}\"\n",
      "    printfn $\"print_and_return / x: {3}\"\n",
      "    printfn $\"print_and_return / x: {4}\"\n",
      "    printfn $\"print_and_return / x: {1}\"\n",
      "    printfn $\"print_and_return / x: {2}\"\n",
      "    printfn $\"print_and_return / x: {3}\"\n",
      "    printfn $\"print_and_return / x: {4}\"\n",
      "    printfn $\"print_and_return / x: {5}\"\n",
      "    let v0 : string = \"assert_eq\"\n",
      "    let v1 : string = $\"{v0} / actual: %A{10} / expected: %A{10}\"\n",
      "    System.Console.WriteLine v1\n",
      "    ()\n",
      "method0()\n",
      "\n",
      "print_and_return / x: 0\n",
      "print_and_return / x: 1\n",
      "print_and_return / x: 1\n",
      "print_and_return / x: 2\n",
      "print_and_return / x: 1\n",
      "print_and_return / x: 2\n",
      "print_and_return / x: 3\n",
      "print_and_return / x: 1\n",
      "print_and_return / x: 2\n",
      "print_and_return / x: 3\n",
      "print_and_return / x: 4\n",
      "print_and_return / x: 1\n",
      "print_and_return / x: 2\n",
      "print_and_return / x: 3\n",
      "print_and_return / x: 4\n",
      "print_and_return / x: 5\n",
      "assert_eq / actual: 10 / expected: 10\n"
     ]
    }
   ],
   "source": [
    "//// test\n",
    "\n",
    "stream.new_finite_stream print_and_return 10i32\n",
    "|> flip stream.try_item\n",
    "|> take_while (fun n (_ : i32) => n < 5)\n",
    "|> listm'.sum\n",
    "|> _assert_eq 10"
   ]
  },
  {
   "cell_type": "markdown",
   "metadata": {},
   "source": [
    "## take_while_"
   ]
  },
  {
   "cell_type": "code",
   "execution_count": null,
   "metadata": {
    "dotnet_interactive": {
     "language": "spiral"
    },
    "polyglot_notebook": {
     "kernelName": "spiral"
    }
   },
   "outputs": [
    {
     "name": "stdout",
     "output_type": "stream",
     "text": [
      "()\n",
      "\n"
     ]
    }
   ],
   "source": [
    "inl take_while_ cond seq =\n",
    "    let rec loop acc i =\n",
    "        match seq i with\n",
    "        | Some st when cond st i => loop (st :: acc) (i + 1)\n",
    "        | _ => acc |> listm.rev\n",
    "    loop [] 0"
   ]
  },
  {
   "cell_type": "code",
   "execution_count": null,
   "metadata": {
    "dotnet_interactive": {
     "language": "spiral"
    },
    "polyglot_notebook": {
     "kernelName": "spiral"
    }
   },
   "outputs": [
    {
     "name": "stdout",
     "output_type": "stream",
     "text": [
      "type UH0 =\n",
      "    | UH0_0 of int32 * (unit -> UH0)\n",
      "    | UH0_1\n",
      "and UH1 =\n",
      "    | UH1_0\n",
      "    | UH1_1 of int32 * UH1\n",
      "and [<Struct>] US0 =\n",
      "    | US0_0 of f0_0 : int32\n",
      "    | US0_1\n",
      "let rec closure0 (v0 : int32) () : UH0 =\n",
      "    let v1 : int32 = v0 + 1\n",
      "    method1(v1)\n",
      "and method1 (v0 : int32) : UH0 =\n",
      "    printfn $\"print_and_return / x: {v0}\"\n",
      "    let v1 : (unit -> UH0) = closure0(v0)\n",
      "    UH0_0(v0, v1)\n",
      "and method3 (v0 : int32, v1 : UH0) : US0 =\n",
      "    match v1 with\n",
      "    | UH0_0(v2, v3) -> (* StreamCons *)\n",
      "        let v4 : bool = v0 <= 0\n",
      "        if v4 then\n",
      "            US0_0(v2)\n",
      "        else\n",
      "            let v6 : int32 = v0 - 1\n",
      "            let v7 : UH0 = v3 ()\n",
      "            method3(v6, v7)\n",
      "    | UH0_1 -> (* StreamNil *)\n",
      "        US0_1\n",
      "and method4 (v0 : UH1, v1 : UH1) : UH1 =\n",
      "    match v0 with\n",
      "    | UH1_1(v2, v3) -> (* Cons *)\n",
      "        let v4 : UH1 = UH1_1(v2, v1)\n",
      "        method4(v3, v4)\n",
      "    | UH1_0 -> (* Nil *)\n",
      "        v1\n",
      "and method2 (v0 : UH0, v1 : UH1, v2 : int32) : UH1 =\n",
      "    let v3 : US0 = method3(v2, v0)\n",
      "    match v3 with\n",
      "    | US0_0(v4) -> (* Some *)\n",
      "        let v5 : bool = v4 < 5\n",
      "        if v5 then\n",
      "            let v6 : UH1 = UH1_1(v4, v1)\n",
      "            let v7 : int32 = v2 + 1\n",
      "            method2(v0, v6, v7)\n",
      "        else\n",
      "            let v9 : UH1 = UH1_0\n",
      "            method4(v1, v9)\n",
      "    | _ ->\n",
      "        let v12 : UH1 = UH1_0\n",
      "        method4(v1, v12)\n",
      "and method5 (v0 : UH1, v1 : int32) : int32 =\n",
      "    match v0 with\n",
      "    | UH1_1(v2, v3) -> (* Cons *)\n",
      "        let v4 : int32 = v1 + v2\n",
      "        method5(v3, v4)\n",
      "    | UH1_0 -> (* Nil *)\n",
      "        v1\n",
      "and method6 (v0 : bool) : bool =\n",
      "    v0\n",
      "and method0 () : unit =\n",
      "    let v0 : int32 = 0\n",
      "    let v1 : UH0 = method1(v0)\n",
      "    let v2 : UH1 = UH1_0\n",
      "    let v3 : int32 = 0\n",
      "    let v4 : UH1 = method2(v1, v2, v3)\n",
      "    let v5 : int32 = 0\n",
      "    let v6 : int32 = method5(v4, v5)\n",
      "    let v7 : bool = v6 = 10\n",
      "    let v9 : bool =\n",
      "        if v7 then\n",
      "            true\n",
      "        else\n",
      "            method6(v7)\n",
      "    let v10 : string = \"assert_eq\"\n",
      "    let v11 : string = $\"{v10} / actual: %A{v6} / expected: %A{10}\"\n",
      "    System.Console.WriteLine v11\n",
      "    let v12 : bool = v9 = false\n",
      "    if v12 then\n",
      "        failwith<unit> v11\n",
      "method0()\n",
      "\n",
      "print_and_return / x: 0\n",
      "print_and_return / x: 1\n",
      "print_and_return / x: 1\n",
      "print_and_return / x: 2\n",
      "print_and_return / x: 1\n",
      "print_and_return / x: 2\n",
      "print_and_return / x: 3\n",
      "print_and_return / x: 1\n",
      "print_and_return / x: 2\n",
      "print_and_return / x: 3\n",
      "print_and_return / x: 4\n",
      "print_and_return / x: 1\n",
      "print_and_return / x: 2\n",
      "print_and_return / x: 3\n",
      "print_and_return / x: 4\n",
      "print_and_return / x: 5\n",
      "assert_eq / actual: 10 / expected: 10\n"
     ]
    }
   ],
   "source": [
    "//// test\n",
    "\n",
    "stream.new_infinite_stream_ print_and_return\n",
    "|> flip stream.try_item\n",
    "|> take_while_ (fun n (_ : i32) => n < 5i32)\n",
    "|> listm'.sum\n",
    "|> _assert_eq 10"
   ]
  },
  {
   "cell_type": "code",
   "execution_count": null,
   "metadata": {
    "dotnet_interactive": {
     "language": "spiral"
    },
    "polyglot_notebook": {
     "kernelName": "spiral"
    }
   },
   "outputs": [
    {
     "name": "stdout",
     "output_type": "stream",
     "text": [
      "type UH0 =\n",
      "    | UH0_0 of int32 * (unit -> UH0)\n",
      "    | UH0_1\n",
      "and [<Struct>] US0 =\n",
      "    | US0_0 of f0_0 : (unit -> UH0)\n",
      "    | US0_1 of f1_0 : UH0\n",
      "and Mut0 = {mutable l0 : US0}\n",
      "and UH1 =\n",
      "    | UH1_0\n",
      "    | UH1_1 of int32 * UH1\n",
      "and [<Struct>] US1 =\n",
      "    | US1_0 of f0_0 : int32\n",
      "    | US1_1\n",
      "let rec closure0 (v0 : int32) () : UH0 =\n",
      "    let v1 : int32 = v0 + 1\n",
      "    method1(v1)\n",
      "and method1 (v0 : int32) : UH0 =\n",
      "    printfn $\"print_and_return / x: {v0}\"\n",
      "    let v1 : (unit -> UH0) = closure0(v0)\n",
      "    UH0_0(v0, v1)\n",
      "and closure1 (v0 : UH0) () : UH0 =\n",
      "    v0\n",
      "and closure2 (v0 : UH0, v1 : Mut0) () : UH0 =\n",
      "    let v2 : US0 = v1.l0\n",
      "    match v2 with\n",
      "    | US0_1(v3) -> (* Computed *)\n",
      "        v3\n",
      "    | US0_0(v4) -> (* NotComputed *)\n",
      "        let v5 : UH0 = v4 ()\n",
      "        let v12 : UH0 =\n",
      "            match v5 with\n",
      "            | UH0_0(v7, v8) -> (* StreamCons *)\n",
      "                let v9 : (unit -> UH0) = method2(v0, v8)\n",
      "                UH0_0(v7, v9)\n",
      "            | UH0_1 -> (* StreamNil *)\n",
      "                UH0_1\n",
      "        let v13 : US0 = US0_1(v12)\n",
      "        v1.l0 <- v13\n",
      "        v12\n",
      "and method2 (v0 : UH0, v1 : (unit -> UH0)) : (unit -> UH0) =\n",
      "    let v2 : US0 = US0_0(v1)\n",
      "    let v3 : Mut0 = {l0 = v2} : Mut0\n",
      "    closure2(v0, v3)\n",
      "and method4 (v0 : int32, v1 : UH0) : US1 =\n",
      "    match v1 with\n",
      "    | UH0_0(v2, v3) -> (* StreamCons *)\n",
      "        let v4 : bool = v0 <= 0\n",
      "        if v4 then\n",
      "            US1_0(v2)\n",
      "        else\n",
      "            let v6 : int32 = v0 - 1\n",
      "            let v7 : UH0 = v3 ()\n",
      "            method4(v6, v7)\n",
      "    | UH0_1 -> (* StreamNil *)\n",
      "        US1_1\n",
      "and method5 (v0 : UH1, v1 : UH1) : UH1 =\n",
      "    match v0 with\n",
      "    | UH1_1(v2, v3) -> (* Cons *)\n",
      "        let v4 : UH1 = UH1_1(v2, v1)\n",
      "        method5(v3, v4)\n",
      "    | UH1_0 -> (* Nil *)\n",
      "        v1\n",
      "and method3 (v0 : UH0, v1 : UH1, v2 : int32) : UH1 =\n",
      "    let v3 : US1 = method4(v2, v0)\n",
      "    match v3 with\n",
      "    | US1_0(v4) -> (* Some *)\n",
      "        let v5 : bool = v4 < 5\n",
      "        if v5 then\n",
      "            let v6 : UH1 = UH1_1(v4, v1)\n",
      "            let v7 : int32 = v2 + 1\n",
      "            method3(v0, v6, v7)\n",
      "        else\n",
      "            let v9 : UH1 = UH1_0\n",
      "            method5(v1, v9)\n",
      "    | _ ->\n",
      "        let v12 : UH1 = UH1_0\n",
      "        method5(v1, v12)\n",
      "and method6 (v0 : UH1, v1 : int32) : int32 =\n",
      "    match v0 with\n",
      "    | UH1_1(v2, v3) -> (* Cons *)\n",
      "        let v4 : int32 = v1 + v2\n",
      "        method6(v3, v4)\n",
      "    | UH1_0 -> (* Nil *)\n",
      "        v1\n",
      "and method7 (v0 : bool) : bool =\n",
      "    v0\n",
      "and method0 () : unit =\n",
      "    let v0 : int32 = 0\n",
      "    let v1 : UH0 = method1(v0)\n",
      "    let v2 : (unit -> UH0) = closure1(v1)\n",
      "    let v3 : (unit -> UH0) = method2(v1, v2)\n",
      "    let v4 : UH0 = v3 ()\n",
      "    let v5 : UH1 = UH1_0\n",
      "    let v6 : int32 = 0\n",
      "    let v7 : UH1 = method3(v4, v5, v6)\n",
      "    let v8 : int32 = 0\n",
      "    let v9 : int32 = method6(v7, v8)\n",
      "    let v10 : bool = v9 = 10\n",
      "    let v12 : bool =\n",
      "        if v10 then\n",
      "            true\n",
      "        else\n",
      "            method7(v10)\n",
      "    let v13 : string = \"assert_eq\"\n",
      "    let v14 : string = $\"{v13} / actual: %A{v9} / expected: %A{10}\"\n",
      "    System.Console.WriteLine v14\n",
      "    let v15 : bool = v12 = false\n",
      "    if v15 then\n",
      "        failwith<unit> v14\n",
      "method0()\n",
      "\n",
      "print_and_return / x: 0\n",
      "print_and_return / x: 1\n",
      "print_and_return / x: 2\n",
      "print_and_return / x: 3\n",
      "print_and_return / x: 4\n",
      "print_and_return / x: 5\n",
      "assert_eq / actual: 10 / expected: 10\n"
     ]
    }
   ],
   "source": [
    "//// test\n",
    "\n",
    "stream.new_infinite_stream_ print_and_return\n",
    "|> stream.memoize\n",
    "|> fun list =>\n",
    "    inl list = list ()\n",
    "    fun n =>\n",
    "        list |> stream.try_item n\n",
    "|> take_while_ (fun n (_ : i32) => n < 5i32)\n",
    "|> listm'.sum\n",
    "|> _assert_eq 10"
   ]
  },
  {
   "cell_type": "code",
   "execution_count": null,
   "metadata": {
    "dotnet_interactive": {
     "language": "spiral"
    },
    "polyglot_notebook": {
     "kernelName": "spiral"
    }
   },
   "outputs": [
    {
     "name": "stdout",
     "output_type": "stream",
     "text": [
      "type UH0 =\n",
      "    | UH0_0 of int32 * (unit -> UH0)\n",
      "    | UH0_1\n",
      "and [<Struct>] US0 =\n",
      "    | US0_0 of f0_0 : (unit -> UH0)\n",
      "    | US0_1 of f1_0 : UH0\n",
      "and Mut0 = {mutable l0 : US0}\n",
      "and UH1 =\n",
      "    | UH1_0\n",
      "    | UH1_1 of int32 * UH1\n",
      "and [<Struct>] US1 =\n",
      "    | US1_0 of f0_0 : int32\n",
      "    | US1_1\n",
      "let rec closure10 () () : UH0 =\n",
      "    UH0_1\n",
      "and closure9 () () : UH0 =\n",
      "    printfn $\"print_and_return / x: {9}\"\n",
      "    let v0 : (unit -> UH0) = closure10()\n",
      "    UH0_0(9, v0)\n",
      "and closure8 () () : UH0 =\n",
      "    printfn $\"print_and_return / x: {8}\"\n",
      "    let v0 : (unit -> UH0) = closure9()\n",
      "    UH0_0(8, v0)\n",
      "and closure7 () () : UH0 =\n",
      "    printfn $\"print_and_return / x: {7}\"\n",
      "    let v0 : (unit -> UH0) = closure8()\n",
      "    UH0_0(7, v0)\n",
      "and closure6 () () : UH0 =\n",
      "    printfn $\"print_and_return / x: {6}\"\n",
      "    let v0 : (unit -> UH0) = closure7()\n",
      "    UH0_0(6, v0)\n",
      "and closure5 () () : UH0 =\n",
      "    printfn $\"print_and_return / x: {5}\"\n",
      "    let v0 : (unit -> UH0) = closure6()\n",
      "    UH0_0(5, v0)\n",
      "and closure4 () () : UH0 =\n",
      "    printfn $\"print_and_return / x: {4}\"\n",
      "    let v0 : (unit -> UH0) = closure5()\n",
      "    UH0_0(4, v0)\n",
      "and closure3 () () : UH0 =\n",
      "    printfn $\"print_and_return / x: {3}\"\n",
      "    let v0 : (unit -> UH0) = closure4()\n",
      "    UH0_0(3, v0)\n",
      "and closure2 () () : UH0 =\n",
      "    printfn $\"print_and_return / x: {2}\"\n",
      "    let v0 : (unit -> UH0) = closure3()\n",
      "    UH0_0(2, v0)\n",
      "and closure1 () () : UH0 =\n",
      "    printfn $\"print_and_return / x: {1}\"\n",
      "    let v0 : (unit -> UH0) = closure2()\n",
      "    UH0_0(1, v0)\n",
      "and closure0 () () : UH0 =\n",
      "    let v0 : (unit -> UH0) = closure1()\n",
      "    UH0_0(0, v0)\n",
      "and closure11 (v0 : Mut0) () : UH0 =\n",
      "    let v1 : US0 = v0.l0\n",
      "    match v1 with\n",
      "    | US0_1(v2) -> (* Computed *)\n",
      "        v2\n",
      "    | US0_0(v3) -> (* NotComputed *)\n",
      "        let v4 : UH0 = v3 ()\n",
      "        let v13 : UH0 =\n",
      "            match v4 with\n",
      "            | UH0_0(v6, v7) -> (* StreamCons *)\n",
      "                let v8 : US0 = US0_0(v7)\n",
      "                let v9 : Mut0 = {l0 = v8} : Mut0\n",
      "                let v10 : (unit -> UH0) = closure11(v9)\n",
      "                UH0_0(v6, v10)\n",
      "            | UH0_1 -> (* StreamNil *)\n",
      "                UH0_1\n",
      "        let v14 : US0 = US0_1(v13)\n",
      "        v0.l0 <- v14\n",
      "        v13\n",
      "and method2 (v0 : int32, v1 : UH0) : US1 =\n",
      "    match v1 with\n",
      "    | UH0_0(v2, v3) -> (* StreamCons *)\n",
      "        let v4 : bool = v0 <= 0\n",
      "        if v4 then\n",
      "            US1_0(v2)\n",
      "        else\n",
      "            let v6 : int32 = v0 - 1\n",
      "            let v7 : UH0 = v3 ()\n",
      "            method2(v6, v7)\n",
      "    | UH0_1 -> (* StreamNil *)\n",
      "        US1_1\n",
      "and method3 (v0 : UH1, v1 : UH1) : UH1 =\n",
      "    match v0 with\n",
      "    | UH1_1(v2, v3) -> (* Cons *)\n",
      "        let v4 : UH1 = UH1_1(v2, v1)\n",
      "        method3(v3, v4)\n",
      "    | UH1_0 -> (* Nil *)\n",
      "        v1\n",
      "and method1 (v0 : UH0, v1 : UH1, v2 : int32) : UH1 =\n",
      "    let v3 : US1 = method2(v2, v0)\n",
      "    match v3 with\n",
      "    | US1_0(v4) -> (* Some *)\n",
      "        let v5 : bool = v4 < 5\n",
      "        if v5 then\n",
      "            let v6 : UH1 = UH1_1(v4, v1)\n",
      "            let v7 : int32 = v2 + 1\n",
      "            method1(v0, v6, v7)\n",
      "        else\n",
      "            let v9 : UH1 = UH1_0\n",
      "            method3(v1, v9)\n",
      "    | _ ->\n",
      "        let v12 : UH1 = UH1_0\n",
      "        method3(v1, v12)\n",
      "and method4 (v0 : UH1, v1 : int32) : int32 =\n",
      "    match v0 with\n",
      "    | UH1_1(v2, v3) -> (* Cons *)\n",
      "        let v4 : int32 = v1 + v2\n",
      "        method4(v3, v4)\n",
      "    | UH1_0 -> (* Nil *)\n",
      "        v1\n",
      "and method5 (v0 : bool) : bool =\n",
      "    v0\n",
      "and method0 () : unit =\n",
      "    printfn $\"print_and_return / x: {0}\"\n",
      "    let v0 : (unit -> UH0) = closure0()\n",
      "    let v1 : US0 = US0_0(v0)\n",
      "    let v2 : Mut0 = {l0 = v1} : Mut0\n",
      "    let v3 : US0 = v2.l0\n",
      "    let v18 : UH0 =\n",
      "        match v3 with\n",
      "        | US0_1(v4) -> (* Computed *)\n",
      "            v4\n",
      "        | US0_0(v5) -> (* NotComputed *)\n",
      "            let v6 : UH0 = v5 ()\n",
      "            let v15 : UH0 =\n",
      "                match v6 with\n",
      "                | UH0_0(v8, v9) -> (* StreamCons *)\n",
      "                    let v10 : US0 = US0_0(v9)\n",
      "                    let v11 : Mut0 = {l0 = v10} : Mut0\n",
      "                    let v12 : (unit -> UH0) = closure11(v11)\n",
      "                    UH0_0(v8, v12)\n",
      "                | UH0_1 -> (* StreamNil *)\n",
      "                    UH0_1\n",
      "            let v16 : US0 = US0_1(v15)\n",
      "            v2.l0 <- v16\n",
      "            v15\n",
      "    let v19 : UH1 = UH1_0\n",
      "    let v20 : int32 = 0\n",
      "    let v21 : UH1 = method1(v18, v19, v20)\n",
      "    let v22 : int32 = 0\n",
      "    let v23 : int32 = method4(v21, v22)\n",
      "    let v24 : bool = v23 = 10\n",
      "    let v26 : bool =\n",
      "        if v24 then\n",
      "            true\n",
      "        else\n",
      "            method5(v24)\n",
      "    let v27 : string = \"assert_eq\"\n",
      "    let v28 : string = $\"{v27} / actual: %A{v23} / expected: %A{10}\"\n",
      "    System.Console.WriteLine v28\n",
      "    let v29 : bool = v26 = false\n",
      "    if v29 then\n",
      "        failwith<unit> v28\n",
      "method0()\n",
      "\n",
      "print_and_return / x: 0\n",
      "print_and_return / x: 1\n",
      "print_and_return / x: 2\n",
      "print_and_return / x: 3\n",
      "print_and_return / x: 4\n",
      "print_and_return / x: 5\n",
      "assert_eq / actual: 10 / expected: 10\n"
     ]
    }
   ],
   "source": [
    "//// test\n",
    "\n",
    "stream.new_finite_stream print_and_return 10i32\n",
    "|> stream.memoize\n",
    "|> fun list =>\n",
    "    inl list = list ()\n",
    "    fun n =>\n",
    "        list |> stream.try_item n\n",
    "|> take_while_ (fun n (_ : i32) => n < 5)\n",
    "|> listm'.sum\n",
    "|> _assert_eq 10"
   ]
  },
  {
   "cell_type": "markdown",
   "metadata": {},
   "source": [
    "## memoize"
   ]
  },
  {
   "cell_type": "code",
   "execution_count": null,
   "metadata": {
    "dotnet_interactive": {
     "language": "spiral"
    },
    "polyglot_notebook": {
     "kernelName": "spiral"
    }
   },
   "outputs": [
    {
     "name": "stdout",
     "output_type": "stream",
     "text": [
      "()\n",
      "\n"
     ]
    }
   ],
   "source": [
    "inl memoize seq =\n",
    "    inl state = mut []\n",
    "    fun n =>\n",
    "        match *state |> listm'.try_find (fun (n', _) => n' = n) with\n",
    "        | Some (_, v) => v\n",
    "        | None =>\n",
    "            inl new_state = seq n\n",
    "            state <- (n, new_state) :: *state\n",
    "            new_state\n",
    "\n",
    "inl memoize_ seq =\n",
    "    inl state = mut []\n",
    "    fun n =>\n",
    "        match *state |> listm'.try_find_ (fun (n', _) => n' = n) with\n",
    "        | Some (_, v) => v\n",
    "        | None =>\n",
    "            inl new_state = seq n\n",
    "            state <- (n, new_state) :: *state\n",
    "            new_state"
   ]
  },
  {
   "cell_type": "code",
   "execution_count": null,
   "metadata": {
    "dotnet_interactive": {
     "language": "spiral"
    },
    "polyglot_notebook": {
     "kernelName": "spiral"
    }
   },
   "outputs": [
    {
     "name": "stdout",
     "output_type": "stream",
     "text": [
      "type [<Struct>] US0 =\n",
      "    | US0_0 of f0_0 : int32\n",
      "    | US0_1\n",
      "and UH0 =\n",
      "    | UH0_0\n",
      "    | UH0_1 of int32 * US0 * UH0\n",
      "and Mut0 = {mutable l0 : UH0}\n",
      "and UH1 =\n",
      "    | UH1_0\n",
      "    | UH1_1 of int32 * UH1\n",
      "and [<Struct>] US1 =\n",
      "    | US1_0 of f0_0 : int32 * f0_1 : US0\n",
      "    | US1_1\n",
      "let rec method2 (v0 : int32, v1 : UH0) : US1 =\n",
      "    match v1 with\n",
      "    | UH0_1(v3, v4, v5) -> (* Cons *)\n",
      "        let v6 : bool = v3 = v0\n",
      "        if v6 then\n",
      "            US1_0(v3, v4)\n",
      "        else\n",
      "            method2(v0, v5)\n",
      "    | UH0_0 -> (* Nil *)\n",
      "        US1_1\n",
      "and method3 (v0 : UH1, v1 : UH1) : UH1 =\n",
      "    match v0 with\n",
      "    | UH1_1(v2, v3) -> (* Cons *)\n",
      "        let v4 : UH1 = UH1_1(v2, v1)\n",
      "        method3(v3, v4)\n",
      "    | UH1_0 -> (* Nil *)\n",
      "        v1\n",
      "and method1 (v0 : Mut0, v1 : UH1, v2 : int32) : UH1 =\n",
      "    let v3 : UH0 = v0.l0\n",
      "    let v4 : US1 = method2(v2, v3)\n",
      "    let v12 : US0 =\n",
      "        match v4 with\n",
      "        | US1_1 -> (* None *)\n",
      "            printfn $\"print_and_return / x: {v2}\"\n",
      "            let v7 : UH0 = v0.l0\n",
      "            let v8 : US0 = US0_0(v2)\n",
      "            let v9 : UH0 = UH0_1(v2, v8, v7)\n",
      "            v0.l0 <- v9\n",
      "            US0_0(v2)\n",
      "        | US1_0(v5, v6) -> (* Some *)\n",
      "            v6\n",
      "    match v12 with\n",
      "    | US0_0(v13) -> (* Some *)\n",
      "        let v14 : bool = v13 < 5\n",
      "        if v14 then\n",
      "            let v15 : UH1 = UH1_1(v13, v1)\n",
      "            let v16 : int32 = v2 + 1\n",
      "            method1(v0, v15, v16)\n",
      "        else\n",
      "            let v18 : UH1 = UH1_0\n",
      "            method3(v1, v18)\n",
      "    | _ ->\n",
      "        let v21 : UH1 = UH1_0\n",
      "        method3(v1, v21)\n",
      "and method4 (v0 : UH1, v1 : int32) : int32 =\n",
      "    match v0 with\n",
      "    | UH1_1(v2, v3) -> (* Cons *)\n",
      "        let v4 : int32 = v1 + v2\n",
      "        method4(v3, v4)\n",
      "    | UH1_0 -> (* Nil *)\n",
      "        v1\n",
      "and method5 (v0 : bool) : bool =\n",
      "    v0\n",
      "and method6 (v0 : Mut0, v1 : UH1, v2 : int32) : UH1 =\n",
      "    let v3 : UH0 = v0.l0\n",
      "    let v4 : US1 = method2(v2, v3)\n",
      "    let v12 : US0 =\n",
      "        match v4 with\n",
      "        | US1_1 -> (* None *)\n",
      "            printfn $\"print_and_return / x: {v2}\"\n",
      "            let v7 : UH0 = v0.l0\n",
      "            let v8 : US0 = US0_0(v2)\n",
      "            let v9 : UH0 = UH0_1(v2, v8, v7)\n",
      "            v0.l0 <- v9\n",
      "            US0_0(v2)\n",
      "        | US1_0(v5, v6) -> (* Some *)\n",
      "            v6\n",
      "    match v12 with\n",
      "    | US0_0(v13) -> (* Some *)\n",
      "        let v14 : bool = v13 < 5\n",
      "        if v14 then\n",
      "            let v15 : UH1 = UH1_1(v13, v1)\n",
      "            let v16 : int32 = v2 + 1\n",
      "            method6(v0, v15, v16)\n",
      "        else\n",
      "            let v18 : UH1 = UH1_0\n",
      "            method3(v1, v18)\n",
      "    | _ ->\n",
      "        let v21 : UH1 = UH1_0\n",
      "        method3(v1, v21)\n",
      "and method0 () : unit =\n",
      "    let v0 : UH0 = UH0_0\n",
      "    let v1 : Mut0 = {l0 = v0} : Mut0\n",
      "    let v2 : UH1 = UH1_0\n",
      "    let v3 : int32 = 0\n",
      "    let v4 : UH1 = method1(v1, v2, v3)\n",
      "    let v5 : int32 = 0\n",
      "    let v6 : int32 = method4(v4, v5)\n",
      "    let v7 : bool = v6 = 10\n",
      "    let v9 : bool =\n",
      "        if v7 then\n",
      "            true\n",
      "        else\n",
      "            method5(v7)\n",
      "    let v10 : string = \"assert_eq\"\n",
      "    let v11 : string = $\"{v10} / actual: %A{v6} / expected: %A{10}\"\n",
      "    System.Console.WriteLine v11\n",
      "    let v12 : bool = v9 = false\n",
      "    if v12 then\n",
      "        failwith<unit> v11\n",
      "    let v13 : UH1 = UH1_0\n",
      "    let v14 : int32 = 0\n",
      "    let v15 : UH1 = method6(v1, v13, v14)\n",
      "    let v16 : int32 = 0\n",
      "    let v17 : int32 = method4(v15, v16)\n",
      "    let v18 : bool = v17 = 10\n",
      "    let v20 : bool =\n",
      "        if v18 then\n",
      "            true\n",
      "        else\n",
      "            method5(v18)\n",
      "    let v21 : string = $\"{v10} / actual: %A{v17} / expected: %A{10}\"\n",
      "    System.Console.WriteLine v21\n",
      "    let v22 : bool = v20 = false\n",
      "    if v22 then\n",
      "        failwith<unit> v21\n",
      "method0()\n",
      "\n",
      "print_and_return / x: 0\n",
      "print_and_return / x: 1\n",
      "print_and_return / x: 2\n",
      "print_and_return / x: 3\n",
      "print_and_return / x: 4\n",
      "print_and_return / x: 5\n",
      "assert_eq / actual: 10 / expected: 10\n",
      "assert_eq / actual: 10 / expected: 10\n"
     ]
    }
   ],
   "source": [
    "//// test\n",
    "\n",
    "inl seq =\n",
    "    fun n =>\n",
    "        n |> print_and_return |> Some\n",
    "    |> memoize_\n",
    "\n",
    "seq\n",
    "|> take_while_ (fun n (_ : i32) => n < 5)\n",
    "|> listm'.sum\n",
    "|> _assert_eq 10\n",
    "\n",
    "seq\n",
    "|> take_while_ (fun n _ => n < 5)\n",
    "|> listm'.sum\n",
    "|> _assert_eq 10"
   ]
  },
  {
   "cell_type": "markdown",
   "metadata": {},
   "source": [
    "## iterate"
   ]
  },
  {
   "cell_type": "code",
   "execution_count": null,
   "metadata": {
    "dotnet_interactive": {
     "language": "spiral"
    },
    "polyglot_notebook": {
     "kernelName": "spiral"
    }
   },
   "outputs": [
    {
     "name": "stdout",
     "output_type": "stream",
     "text": [
      "()\n",
      "\n"
     ]
    }
   ],
   "source": [
    "inl iterate f x0 num_steps =\n",
    "    inl rec loop x n =\n",
    "        if n <= 0\n",
    "        then x\n",
    "        else loop (f x) (n - 1)\n",
    "    loop x0 num_steps"
   ]
  },
  {
   "cell_type": "code",
   "execution_count": null,
   "metadata": {
    "dotnet_interactive": {
     "language": "spiral"
    },
    "polyglot_notebook": {
     "kernelName": "spiral"
    }
   },
   "outputs": [
    {
     "name": "stdout",
     "output_type": "stream",
     "text": [
      "let rec method0 () : unit =\n",
      "    let v0 : string = \"assert_eq\"\n",
      "    let v1 : string = $\"{v0} / actual: %A{1024} / expected: %A{1024}\"\n",
      "    System.Console.WriteLine v1\n",
      "    ()\n",
      "method0()\n",
      "\n",
      "assert_eq / actual: 1024 / expected: 1024\n"
     ]
    }
   ],
   "source": [
    "//// test\n",
    "\n",
    "10i32 |> iterate ((*) 2) 1i32\n",
    "|> _assert_eq 1024"
   ]
  },
  {
   "cell_type": "code",
   "execution_count": null,
   "metadata": {
    "dotnet_interactive": {
     "language": "spiral"
    },
    "polyglot_notebook": {
     "kernelName": "spiral"
    }
   },
   "outputs": [
    {
     "name": "stdout",
     "output_type": "stream",
     "text": [
      "()\n",
      "\n"
     ]
    }
   ],
   "source": [
    "inl iterate_ f x0 num_steps =\n",
    "    let rec loop x n =\n",
    "        if n <= 0\n",
    "        then x\n",
    "        else loop (f x) (n - 1)\n",
    "    loop x0 num_steps"
   ]
  },
  {
   "cell_type": "code",
   "execution_count": null,
   "metadata": {
    "dotnet_interactive": {
     "language": "spiral"
    },
    "polyglot_notebook": {
     "kernelName": "spiral"
    }
   },
   "outputs": [
    {
     "name": "stdout",
     "output_type": "stream",
     "text": [
      "let rec method1 (v0 : int32, v1 : int32) : int32 =\n",
      "    let v2 : bool = v1 <= 0\n",
      "    if v2 then\n",
      "        v0\n",
      "    else\n",
      "        let v3 : int32 = 2 * v0\n",
      "        let v4 : int32 = v1 - 1\n",
      "        method1(v3, v4)\n",
      "and method2 (v0 : bool) : bool =\n",
      "    v0\n",
      "and method0 () : unit =\n",
      "    let v0 : int32 = 1\n",
      "    let v1 : int32 = 10\n",
      "    let v2 : int32 = method1(v0, v1)\n",
      "    let v3 : bool = v2 = 1024\n",
      "    let v5 : bool =\n",
      "        if v3 then\n",
      "            true\n",
      "        else\n",
      "            method2(v3)\n",
      "    let v6 : string = \"assert_eq\"\n",
      "    let v7 : string = $\"{v6} / actual: %A{v2} / expected: %A{1024}\"\n",
      "    System.Console.WriteLine v7\n",
      "    let v8 : bool = v5 = false\n",
      "    if v8 then\n",
      "        failwith<unit> v7\n",
      "method0()\n",
      "\n",
      "assert_eq / actual: 1024 / expected: 1024\n"
     ]
    }
   ],
   "source": [
    "//// test\n",
    "\n",
    "10i32 |> iterate_ ((*) 2) 1i32\n",
    "|> _assert_eq 1024"
   ]
  },
  {
   "cell_type": "code",
   "execution_count": null,
   "metadata": {
    "dotnet_interactive": {
     "language": "spiral"
    },
    "polyglot_notebook": {
     "kernelName": "spiral"
    }
   },
   "outputs": [
    {
     "name": "stdout",
     "output_type": "stream",
     "text": [
      "()\n",
      "\n"
     ]
    }
   ],
   "source": [
    "inl iterate' f x0 num_steps =\n",
    "    listm.init num_steps id\n",
    "    |> listm.fold (fun x _ => f x) x0"
   ]
  },
  {
   "cell_type": "code",
   "execution_count": null,
   "metadata": {
    "dotnet_interactive": {
     "language": "spiral"
    },
    "polyglot_notebook": {
     "kernelName": "spiral"
    }
   },
   "outputs": [
    {
     "name": "stdout",
     "output_type": "stream",
     "text": [
      "let rec method0 () : unit =\n",
      "    let v0 : string = \"assert_eq\"\n",
      "    let v1 : string = $\"{v0} / actual: %A{1024} / expected: %A{1024}\"\n",
      "    System.Console.WriteLine v1\n",
      "    ()\n",
      "method0()\n",
      "\n",
      "assert_eq / actual: 1024 / expected: 1024\n"
     ]
    }
   ],
   "source": [
    "//// test\n",
    "\n",
    "10i32 |> iterate' ((*) 2) 1i32\n",
    "|> _assert_eq 1024"
   ]
  },
  {
   "cell_type": "markdown",
   "metadata": {},
   "source": [
    "## find_last"
   ]
  },
  {
   "cell_type": "code",
   "execution_count": null,
   "metadata": {
    "dotnet_interactive": {
     "language": "spiral"
    },
    "polyglot_notebook": {
     "kernelName": "spiral"
    }
   },
   "outputs": [
    {
     "name": "stdout",
     "output_type": "stream",
     "text": [
      "()\n",
      "\n"
     ]
    }
   ],
   "source": [
    "inl find_last forall item result. fold_fn fn target : option result =\n",
    "    fold_fn (fun (item : item) (result : option result) =>\n",
    "        match result with\n",
    "        | None => fn item\n",
    "        | result => result\n",
    "    ) target (None : option result)\n",
    "\n",
    "inl array_find_last forall item result. (fn : item -> option result) (target : a i32 item) : option result =\n",
    "    find_last am.foldBack fn target\n",
    "\n",
    "inl list_find_last forall item result. (fn : item -> option result) (target : list item) : option result =\n",
    "    find_last listm.foldBack fn target"
   ]
  }
 ],
 "metadata": {},
 "nbformat": 4,
 "nbformat_minor": 5
}