{
 "cells": [
  {
   "cell_type": "markdown",
   "metadata": {},
   "source": [
    "# seq"
   ]
  },
  {
   "cell_type": "code",
   "execution_count": null,
   "metadata": {
    "dotnet_interactive": {
     "language": "spiral"
    },
    "polyglot_notebook": {
     "kernelName": "spiral"
    }
   },
   "outputs": [],
   "source": [
    "//// test\n",
    "\n",
    "open testing"
   ]
  },
  {
   "cell_type": "markdown",
   "metadata": {},
   "source": [
    "## seq"
   ]
  },
  {
   "cell_type": "markdown",
   "metadata": {},
   "source": [
    "### seq"
   ]
  },
  {
   "cell_type": "code",
   "execution_count": null,
   "metadata": {
    "dotnet_interactive": {
     "language": "spiral"
    },
    "polyglot_notebook": {
     "kernelName": "spiral"
    }
   },
   "outputs": [],
   "source": [
    "type seq dim el = dim -> option el"
   ]
  },
  {
   "cell_type": "markdown",
   "metadata": {},
   "source": [
    "### try_item"
   ]
  },
  {
   "cell_type": "code",
   "execution_count": null,
   "metadata": {
    "dotnet_interactive": {
     "language": "spiral"
    },
    "polyglot_notebook": {
     "kernelName": "spiral"
    }
   },
   "outputs": [],
   "source": [
    "inl try_item n s =\n",
    "    n |> s"
   ]
  },
  {
   "cell_type": "markdown",
   "metadata": {},
   "source": [
    "### from_list"
   ]
  },
  {
   "cell_type": "code",
   "execution_count": null,
   "metadata": {
    "dotnet_interactive": {
     "language": "spiral"
    },
    "polyglot_notebook": {
     "kernelName": "spiral"
    }
   },
   "outputs": [],
   "source": [
    "inl from_list list =\n",
    "    fun n =>\n",
    "        list\n",
    "        |> listm'.try_item n"
   ]
  },
  {
   "cell_type": "code",
   "execution_count": null,
   "metadata": {
    "dotnet_interactive": {
     "language": "spiral"
    },
    "polyglot_notebook": {
     "kernelName": "spiral"
    }
   },
   "outputs": [
    {
     "name": "stdout",
     "output_type": "stream",
     "text": [
      "print_and_return / x: 0\n",
      "print_and_return / x: 1\n",
      "print_and_return / x: 2\n",
      "print_and_return / x: 3\n",
      "print_and_return / x: 4\n",
      "print_and_return / x: 5\n",
      "print_and_return / x: 6\n",
      "print_and_return / x: 7\n",
      "print_and_return / x: 8\n",
      "print_and_return / x: 9\n",
      "__assert_eq / actual: US0_0 5 / expected: US0_0 5\n"
     ]
    }
   ],
   "source": [
    "//// test\n",
    "\n",
    "listm.init 10i32 print_and_return\n",
    "|> from_list\n",
    "|> try_item 5i32\n",
    "|> _assert_eq (Some 5i32)"
   ]
  },
  {
   "cell_type": "markdown",
   "metadata": {},
   "source": [
    "### map"
   ]
  },
  {
   "cell_type": "code",
   "execution_count": null,
   "metadata": {
    "dotnet_interactive": {
     "language": "spiral"
    },
    "polyglot_notebook": {
     "kernelName": "spiral"
    }
   },
   "outputs": [],
   "source": [
    "inl map fn s =\n",
    "    fun n =>\n",
    "        n\n",
    "        |> s\n",
    "        |> optionm.map fn"
   ]
  },
  {
   "cell_type": "code",
   "execution_count": null,
   "metadata": {
    "dotnet_interactive": {
     "language": "spiral"
    },
    "polyglot_notebook": {
     "kernelName": "spiral"
    }
   },
   "outputs": [
    {
     "name": "stdout",
     "output_type": "stream",
     "text": [
      "__assert_eq / actual: US0_0 10 / expected: US0_0 10\n"
     ]
    }
   ],
   "source": [
    "//// test\n",
    "\n",
    "listm.init 10i32 id\n",
    "|> from_list\n",
    "|> map ((*) 2)\n",
    "|> try_item 5i32\n",
    "|> _assert_eq (Some 10i32)"
   ]
  },
  {
   "cell_type": "markdown",
   "metadata": {},
   "source": [
    "### mapi"
   ]
  },
  {
   "cell_type": "code",
   "execution_count": null,
   "metadata": {
    "dotnet_interactive": {
     "language": "spiral"
    },
    "polyglot_notebook": {
     "kernelName": "spiral"
    }
   },
   "outputs": [],
   "source": [
    "inl mapi fn s =\n",
    "    fun n =>\n",
    "        n\n",
    "        |> s\n",
    "        |> optionm.map (fn n)"
   ]
  },
  {
   "cell_type": "code",
   "execution_count": null,
   "metadata": {
    "dotnet_interactive": {
     "language": "spiral"
    },
    "polyglot_notebook": {
     "kernelName": "spiral"
    }
   },
   "outputs": [
    {
     "name": "stdout",
     "output_type": "stream",
     "text": [
      "print_and_return / x: 0\n",
      "print_and_return / x: 1\n",
      "print_and_return / x: 2\n",
      "print_and_return / x: 3\n",
      "print_and_return / x: 4\n",
      "print_and_return / x: 5\n",
      "print_and_return / x: 6\n",
      "print_and_return / x: 7\n",
      "print_and_return / x: 8\n",
      "print_and_return / x: 9\n",
      "__assert_eq / actual: US0_0 10 / expected: US0_0 10\n"
     ]
    }
   ],
   "source": [
    "//// test\n",
    "\n",
    "listm.init 10i32 print_and_return\n",
    "|> from_list\n",
    "|> mapi fun i x => i + x\n",
    "|> try_item 5i32\n",
    "|> _assert_eq (Some 10i32)"
   ]
  },
  {
   "cell_type": "markdown",
   "metadata": {},
   "source": [
    "### choose"
   ]
  },
  {
   "cell_type": "code",
   "execution_count": null,
   "metadata": {
    "dotnet_interactive": {
     "language": "spiral"
    },
    "polyglot_notebook": {
     "kernelName": "spiral"
    }
   },
   "outputs": [],
   "source": [
    "inl choose forall dim {number} t u. (fn : t -> option u) (s : seq dim t) : seq dim u =\n",
    "    fun n =>\n",
    "        inl rec body fn s i i' =\n",
    "            match i |> s with\n",
    "            | None => None\n",
    "            | Some x =>\n",
    "                match x |> fn with\n",
    "                | Some x when n = i' => Some x\n",
    "                | Some _ => loop (i + 1) (i' + 1)\n",
    "                | _ => loop (i + 1) i'\n",
    "        and inl loop i i' =\n",
    "            if n |> var_is |> not\n",
    "            then body fn s i i'\n",
    "            else\n",
    "                inl fn = join fn\n",
    "                inl s = join s\n",
    "                join body fn s i i'\n",
    "        loop 0 0"
   ]
  },
  {
   "cell_type": "code",
   "execution_count": null,
   "metadata": {
    "dotnet_interactive": {
     "language": "spiral"
    },
    "polyglot_notebook": {
     "kernelName": "spiral"
    }
   },
   "outputs": [
    {
     "name": "stdout",
     "output_type": "stream",
     "text": [
      "print_and_return / x: 0\n",
      "print_and_return / x: 1\n",
      "print_and_return / x: 2\n",
      "print_and_return / x: 3\n",
      "print_and_return / x: 4\n",
      "print_and_return / x: 5\n",
      "print_and_return / x: 6\n",
      "print_and_return / x: 7\n",
      "print_and_return / x: 8\n",
      "print_and_return / x: 9\n",
      "__assert_eq / actual: US0_0 2 / expected: US0_0 2\n"
     ]
    }
   ],
   "source": [
    "//// test\n",
    "\n",
    "listm.init 10i32 print_and_return\n",
    "|> from_list\n",
    "|> choose (fun x => if x % 2 = 0 then Some x else None)\n",
    "|> try_item 1i32\n",
    "|> _assert_eq (Some 2i32)"
   ]
  },
  {
   "cell_type": "markdown",
   "metadata": {},
   "source": [
    "### indexed"
   ]
  },
  {
   "cell_type": "code",
   "execution_count": null,
   "metadata": {
    "dotnet_interactive": {
     "language": "spiral"
    },
    "polyglot_notebook": {
     "kernelName": "spiral"
    }
   },
   "outputs": [],
   "source": [
    "inl indexed s =\n",
    "    s\n",
    "    |> mapi fun i x =>\n",
    "        i, x"
   ]
  },
  {
   "cell_type": "code",
   "execution_count": null,
   "metadata": {
    "dotnet_interactive": {
     "language": "spiral"
    },
    "polyglot_notebook": {
     "kernelName": "spiral"
    }
   },
   "outputs": [
    {
     "name": "stdout",
     "output_type": "stream",
     "text": [
      "__assert_eq / actual: US0_0 (5, 10) / expected: US0_0 (5, 10)\n"
     ]
    }
   ],
   "source": [
    "//// test\n",
    "\n",
    "listm.init 10i32 ((*) 2)\n",
    "|> from_list\n",
    "|> indexed\n",
    "|> try_item 5i32\n",
    "|> _assert_eq (Some (5i32, 10i32))"
   ]
  },
  {
   "cell_type": "markdown",
   "metadata": {},
   "source": [
    "### zip"
   ]
  },
  {
   "cell_type": "code",
   "execution_count": null,
   "metadata": {
    "dotnet_interactive": {
     "language": "spiral"
    },
    "polyglot_notebook": {
     "kernelName": "spiral"
    }
   },
   "outputs": [],
   "source": [
    "inl zip n seq1 seq2 =\n",
    "    seq1 n, seq2 n"
   ]
  },
  {
   "cell_type": "code",
   "execution_count": null,
   "metadata": {
    "dotnet_interactive": {
     "language": "spiral"
    },
    "polyglot_notebook": {
     "kernelName": "spiral"
    }
   },
   "outputs": [
    {
     "name": "stdout",
     "output_type": "stream",
     "text": [
      "__assert_eq / actual: struct (US0_0 5, US0_0 10) / expected: struct (US0_0 5, US0_0 10)\n"
     ]
    }
   ],
   "source": [
    "//// test\n",
    "\n",
    "((listm.init 10i32 id |> from_list), (listm.init 10i32 ((*) 2) |> from_list))\n",
    "||> zip 5i32\n",
    "|> _assert_eq (Some 5, Some 10)"
   ]
  },
  {
   "cell_type": "markdown",
   "metadata": {},
   "source": [
    "### zip_with"
   ]
  },
  {
   "cell_type": "code",
   "execution_count": null,
   "metadata": {
    "dotnet_interactive": {
     "language": "spiral"
    },
    "polyglot_notebook": {
     "kernelName": "spiral"
    }
   },
   "outputs": [],
   "source": [
    "inl zip_with fn seq1 seq2 =\n",
    "    fun n =>\n",
    "        fn (seq1 n) (seq2 n)"
   ]
  },
  {
   "cell_type": "code",
   "execution_count": null,
   "metadata": {
    "dotnet_interactive": {
     "language": "spiral"
    },
    "polyglot_notebook": {
     "kernelName": "spiral"
    }
   },
   "outputs": [
    {
     "name": "stdout",
     "output_type": "stream",
     "text": [
      "__assert_eq / actual: US0_0 6 / expected: US0_0 6\n"
     ]
    }
   ],
   "source": [
    "//// test\n",
    "\n",
    "((listm.init 10i32 id |> from_list), (listm.init 10i32 ((*) 2) |> from_list))\n",
    "||> zip_with (optionm'.choose (+))\n",
    "|> try_item 2i32\n",
    "|> _assert_eq (Some 6)"
   ]
  },
  {
   "cell_type": "markdown",
   "metadata": {},
   "source": [
    "### fold"
   ]
  },
  {
   "cell_type": "code",
   "execution_count": null,
   "metadata": {
    "dotnet_interactive": {
     "language": "spiral"
    },
    "polyglot_notebook": {
     "kernelName": "spiral"
    }
   },
   "outputs": [],
   "source": [
    "inl fold fn init seq =\n",
    "    inl rec loop acc n =\n",
    "        match seq n with\n",
    "        | Some x => loop (fn acc x) (n + 1)\n",
    "        | None => acc\n",
    "    loop init 0\n",
    "\n",
    "inl fold_ fn init seq =\n",
    "    let rec loop acc n =\n",
    "        match seq n with\n",
    "        | Some x => loop (fn acc x) (n + 1)\n",
    "        | None => acc\n",
    "    loop init 0"
   ]
  },
  {
   "cell_type": "markdown",
   "metadata": {},
   "source": [
    "### sum"
   ]
  },
  {
   "cell_type": "code",
   "execution_count": null,
   "metadata": {
    "dotnet_interactive": {
     "language": "spiral"
    },
    "polyglot_notebook": {
     "kernelName": "spiral"
    }
   },
   "outputs": [],
   "source": [
    "inl sum seq =\n",
    "    seq |> fold (+) 0\n",
    "\n",
    "inl sum_ seq =\n",
    "    seq |> fold_ (+) 0"
   ]
  },
  {
   "cell_type": "code",
   "execution_count": null,
   "metadata": {
    "dotnet_interactive": {
     "language": "spiral"
    },
    "polyglot_notebook": {
     "kernelName": "spiral"
    }
   },
   "outputs": [
    {
     "name": "stdout",
     "output_type": "stream",
     "text": [
      "__assert_eq / actual: 45 / expected: 45\n"
     ]
    }
   ],
   "source": [
    "//// test\n",
    "\n",
    "listm.init 10i32 id\n",
    "|> from_list\n",
    "|> fun f (n : i32) => f n\n",
    "|> sum\n",
    "|> _assert_eq 45"
   ]
  },
  {
   "cell_type": "markdown",
   "metadata": {},
   "source": [
    "### to_list"
   ]
  },
  {
   "cell_type": "code",
   "execution_count": null,
   "metadata": {
    "dotnet_interactive": {
     "language": "spiral"
    },
    "polyglot_notebook": {
     "kernelName": "spiral"
    }
   },
   "outputs": [],
   "source": [
    "inl to_list seq =\n",
    "    seq\n",
    "    |> fold (fun acc x => x :: acc) []\n",
    "    |> listm.rev\n",
    "\n",
    "inl to_list_ seq =\n",
    "    seq\n",
    "    |> fold_ (fun acc x => x :: acc) []\n",
    "    |> listm.rev"
   ]
  },
  {
   "cell_type": "code",
   "execution_count": null,
   "metadata": {
    "dotnet_interactive": {
     "language": "spiral"
    },
    "polyglot_notebook": {
     "kernelName": "spiral"
    }
   },
   "outputs": [
    {
     "name": "stdout",
     "output_type": "stream",
     "text": [
      "__assert_eq / actual: UH0_1\n",
      "  (0,\n",
      "   UH0_1\n",
      "     (1,\n",
      "      UH0_1\n",
      "        (2,\n",
      "         UH0_1\n",
      "           (3,\n",
      "            UH0_1\n",
      "              (4, UH0_1 (5, UH0_1 (6, UH0_1 (7, UH0_1 (8, UH0_1 (9, UH0_0)))))))))) / expected: UH0_1\n",
      "  (0,\n",
      "   UH0_1\n",
      "     (1,\n",
      "      UH0_1\n",
      "        (2,\n",
      "         UH0_1\n",
      "           (3,\n",
      "            UH0_1\n",
      "              (4, UH0_1 (5, UH0_1 (6, UH0_1 (7, UH0_1 (8, UH0_1 (9, UH0_0))))))))))\n"
     ]
    }
   ],
   "source": [
    "//// test\n",
    "\n",
    "listm.init 10i32 id\n",
    "|> from_list\n",
    "|> fun f (n : i32) => f n\n",
    "|> to_list\n",
    "|> _assert_eq (listm.init 10i32 id)"
   ]
  },
  {
   "cell_type": "markdown",
   "metadata": {},
   "source": [
    "### from_array"
   ]
  },
  {
   "cell_type": "code",
   "execution_count": null,
   "metadata": {
    "dotnet_interactive": {
     "language": "spiral"
    },
    "polyglot_notebook": {
     "kernelName": "spiral"
    }
   },
   "outputs": [],
   "source": [
    "inl from_array forall dim {number; int} el. (array : a dim el) : seq dim el =\n",
    "    fun n =>\n",
    "        if n >= length array\n",
    "        then None\n",
    "        else index array n |> Some"
   ]
  },
  {
   "cell_type": "code",
   "execution_count": null,
   "metadata": {
    "dotnet_interactive": {
     "language": "spiral"
    },
    "polyglot_notebook": {
     "kernelName": "spiral"
    }
   },
   "outputs": [
    {
     "name": "stdout",
     "output_type": "stream",
     "text": [
      "__assert_eq / actual: US0_0 2 / expected: US0_0 2\n"
     ]
    }
   ],
   "source": [
    "//// test\n",
    "\n",
    "a ;[ 1; 2; 3 ]\n",
    "|> from_array\n",
    "|> try_item 1i32\n",
    "|> _assert_eq (Some 2i32)"
   ]
  },
  {
   "cell_type": "markdown",
   "metadata": {},
   "source": [
    "### to_array"
   ]
  },
  {
   "cell_type": "code",
   "execution_count": null,
   "metadata": {
    "dotnet_interactive": {
     "language": "spiral"
    },
    "polyglot_notebook": {
     "kernelName": "spiral"
    }
   },
   "outputs": [],
   "source": [
    "inl to_array seq =\n",
    "    inl ar = a ;[] |> mut\n",
    "    ((), seq)\n",
    "    ||> fold fun _ x =>\n",
    "        ar <- *ar ++ a ;[x]\n",
    "    *ar\n",
    "\n",
    "inl to_array_ seq =\n",
    "    inl ar = a ;[] |> mut\n",
    "    ((), seq)\n",
    "    ||> fold_ fun _ x =>\n",
    "        ar <- *ar ++ a ;[x]\n",
    "    *ar"
   ]
  },
  {
   "cell_type": "code",
   "execution_count": null,
   "metadata": {
    "dotnet_interactive": {
     "language": "spiral"
    },
    "polyglot_notebook": {
     "kernelName": "spiral"
    }
   },
   "outputs": [
    {
     "name": "stdout",
     "output_type": "stream",
     "text": [
      "__assert_eq / actual: [|0; 1; 2; 3; 4; 5; 6; 7; 8; 9|] / expected: [|0; 1; 2; 3; 4; 5; 6; 7; 8; 9|]\n"
     ]
    }
   ],
   "source": [
    "//// test\n",
    "\n",
    "listm.init 10i32 id\n",
    "|> from_list\n",
    "|> fun (x : i32 -> _) => x\n",
    "|> to_array\n",
    "|> _assert_eq (a ;[ 0; 1; 2; 3; 4; 5; 6; 7; 8; 9 ] : _ i32 _)"
   ]
  },
  {
   "cell_type": "markdown",
   "metadata": {},
   "source": [
    "### take_while"
   ]
  },
  {
   "cell_type": "code",
   "execution_count": null,
   "metadata": {
    "dotnet_interactive": {
     "language": "spiral"
    },
    "polyglot_notebook": {
     "kernelName": "spiral"
    }
   },
   "outputs": [],
   "source": [
    "inl take_while cond seq =\n",
    "    inl rec loop acc i =\n",
    "        match seq i with\n",
    "        | Some st when cond st i => loop (st :: acc) (i + 1)\n",
    "        | _ => acc |> listm.rev\n",
    "    loop [] 0"
   ]
  },
  {
   "cell_type": "code",
   "execution_count": null,
   "metadata": {
    "dotnet_interactive": {
     "language": "spiral"
    },
    "polyglot_notebook": {
     "kernelName": "spiral"
    }
   },
   "outputs": [
    {
     "name": "stdout",
     "output_type": "stream",
     "text": [
      "__assert_eq / actual: 10 / expected: 10\n"
     ]
    }
   ],
   "source": [
    "//// test\n",
    "\n",
    "listm.init 10i32 id\n",
    "|> from_list\n",
    "|> take_while (fun n (_ : i32) => n < 5)\n",
    "|> listm'.sum\n",
    "|> _assert_eq 10"
   ]
  },
  {
   "cell_type": "code",
   "execution_count": null,
   "metadata": {
    "dotnet_interactive": {
     "language": "spiral"
    },
    "polyglot_notebook": {
     "kernelName": "spiral"
    }
   },
   "outputs": [
    {
     "name": "stdout",
     "output_type": "stream",
     "text": [
      "print_and_return / x: 0\n",
      "print_and_return / x: 1\n",
      "print_and_return / x: 1\n",
      "print_and_return / x: 2\n",
      "print_and_return / x: 1\n",
      "print_and_return / x: 2\n",
      "print_and_return / x: 3\n",
      "print_and_return / x: 1\n",
      "print_and_return / x: 2\n",
      "print_and_return / x: 3\n",
      "print_and_return / x: 4\n",
      "print_and_return / x: 1\n",
      "print_and_return / x: 2\n",
      "print_and_return / x: 3\n",
      "print_and_return / x: 4\n",
      "print_and_return / x: 5\n",
      "__assert_eq / actual: 10 / expected: 10\n"
     ]
    }
   ],
   "source": [
    "//// test\n",
    "\n",
    "stream.new_finite_stream print_and_return 10i32\n",
    "|> flip stream.try_item\n",
    "|> take_while (fun n (_ : i32) => n < 5)\n",
    "|> listm'.sum\n",
    "|> _assert_eq 10"
   ]
  },
  {
   "cell_type": "markdown",
   "metadata": {},
   "source": [
    "### take_while_"
   ]
  },
  {
   "cell_type": "code",
   "execution_count": null,
   "metadata": {
    "dotnet_interactive": {
     "language": "spiral"
    },
    "polyglot_notebook": {
     "kernelName": "spiral"
    }
   },
   "outputs": [],
   "source": [
    "inl take_while_ cond seq =\n",
    "    let rec loop acc i =\n",
    "        match seq i with\n",
    "        | Some st when cond st i => loop (st :: acc) (i + 1)\n",
    "        | _ => acc |> listm.rev\n",
    "    loop [] 0"
   ]
  },
  {
   "cell_type": "code",
   "execution_count": null,
   "metadata": {
    "dotnet_interactive": {
     "language": "spiral"
    },
    "polyglot_notebook": {
     "kernelName": "spiral"
    }
   },
   "outputs": [
    {
     "name": "stdout",
     "output_type": "stream",
     "text": [
      "print_and_return / x: 0\n",
      "print_and_return / x: 1\n",
      "print_and_return / x: 1\n",
      "print_and_return / x: 2\n",
      "print_and_return / x: 1\n",
      "print_and_return / x: 2\n",
      "print_and_return / x: 3\n",
      "print_and_return / x: 1\n",
      "print_and_return / x: 2\n",
      "print_and_return / x: 3\n",
      "print_and_return / x: 4\n",
      "print_and_return / x: 1\n",
      "print_and_return / x: 2\n",
      "print_and_return / x: 3\n",
      "print_and_return / x: 4\n",
      "print_and_return / x: 5\n",
      "__assert_eq / actual: 10 / expected: 10\n"
     ]
    }
   ],
   "source": [
    "//// test\n",
    "\n",
    "stream.new_infinite_stream_ print_and_return\n",
    "|> flip stream.try_item\n",
    "|> take_while_ (fun n (_ : i32) => n < 5i32)\n",
    "|> listm'.sum\n",
    "|> _assert_eq 10"
   ]
  },
  {
   "cell_type": "code",
   "execution_count": null,
   "metadata": {
    "dotnet_interactive": {
     "language": "spiral"
    },
    "polyglot_notebook": {
     "kernelName": "spiral"
    }
   },
   "outputs": [
    {
     "name": "stdout",
     "output_type": "stream",
     "text": [
      "print_and_return / x: 0\n",
      "print_and_return / x: 1\n",
      "print_and_return / x: 2\n",
      "print_and_return / x: 3\n",
      "print_and_return / x: 4\n",
      "print_and_return / x: 5\n",
      "__assert_eq / actual: 10 / expected: 10\n"
     ]
    }
   ],
   "source": [
    "//// test\n",
    "\n",
    "stream.new_infinite_stream_ print_and_return\n",
    "|> stream.memoize\n",
    "|> fun list =>\n",
    "    inl list = list ()\n",
    "    fun n =>\n",
    "        list |> stream.try_item n\n",
    "|> take_while_ (fun n (_ : i32) => n < 5i32)\n",
    "|> listm'.sum\n",
    "|> _assert_eq 10"
   ]
  },
  {
   "cell_type": "code",
   "execution_count": null,
   "metadata": {
    "dotnet_interactive": {
     "language": "spiral"
    },
    "polyglot_notebook": {
     "kernelName": "spiral"
    }
   },
   "outputs": [
    {
     "name": "stdout",
     "output_type": "stream",
     "text": [
      "print_and_return / x: 0\n",
      "print_and_return / x: 1\n",
      "print_and_return / x: 2\n",
      "print_and_return / x: 3\n",
      "print_and_return / x: 4\n",
      "print_and_return / x: 5\n",
      "__assert_eq / actual: 10 / expected: 10\n"
     ]
    }
   ],
   "source": [
    "//// test\n",
    "\n",
    "stream.new_finite_stream print_and_return 10i32\n",
    "|> stream.memoize\n",
    "|> fun list =>\n",
    "    inl list = list ()\n",
    "    fun n =>\n",
    "        list |> stream.try_item n\n",
    "|> take_while_ (fun n (_ : i32) => n < 5)\n",
    "|> listm'.sum\n",
    "|> _assert_eq 10"
   ]
  },
  {
   "cell_type": "markdown",
   "metadata": {},
   "source": [
    "### memoize"
   ]
  },
  {
   "cell_type": "code",
   "execution_count": null,
   "metadata": {
    "dotnet_interactive": {
     "language": "spiral"
    },
    "polyglot_notebook": {
     "kernelName": "spiral"
    }
   },
   "outputs": [],
   "source": [
    "inl memoize seq =\n",
    "    inl state = mut []\n",
    "    fun n =>\n",
    "        match *state |> listm'.try_find (fun (n', _) => n' = n) with\n",
    "        | Some (_, v) => v\n",
    "        | None =>\n",
    "            inl new_state = seq n\n",
    "            state <- (n, new_state) :: *state\n",
    "            new_state\n",
    "\n",
    "inl memoize_ seq =\n",
    "    inl state = mut []\n",
    "    fun n =>\n",
    "        match *state |> listm'.try_find_ (fun (n', _) => n' = n) with\n",
    "        | Some (_, v) => v\n",
    "        | None =>\n",
    "            inl new_state = seq n\n",
    "            state <- (n, new_state) :: *state\n",
    "            new_state"
   ]
  },
  {
   "cell_type": "code",
   "execution_count": null,
   "metadata": {
    "dotnet_interactive": {
     "language": "spiral"
    },
    "polyglot_notebook": {
     "kernelName": "spiral"
    }
   },
   "outputs": [
    {
     "name": "stdout",
     "output_type": "stream",
     "text": [
      "print_and_return / x: 0\n",
      "print_and_return / x: 1\n",
      "print_and_return / x: 2\n",
      "print_and_return / x: 3\n",
      "print_and_return / x: 4\n",
      "print_and_return / x: 5\n",
      "__assert_eq / actual: 10 / expected: 10\n",
      "__assert_eq / actual: 10 / expected: 10\n"
     ]
    }
   ],
   "source": [
    "//// test\n",
    "\n",
    "inl seq =\n",
    "    fun n =>\n",
    "        n |> print_and_return |> Some\n",
    "    |> memoize_\n",
    "\n",
    "seq\n",
    "|> take_while_ (fun n (_ : i32) => n < 5)\n",
    "|> listm'.sum\n",
    "|> _assert_eq 10\n",
    "\n",
    "seq\n",
    "|> take_while_ (fun n _ => n < 5)\n",
    "|> listm'.sum\n",
    "|> _assert_eq 10"
   ]
  },
  {
   "cell_type": "markdown",
   "metadata": {},
   "source": [
    "### iterate"
   ]
  },
  {
   "cell_type": "code",
   "execution_count": null,
   "metadata": {
    "dotnet_interactive": {
     "language": "spiral"
    },
    "polyglot_notebook": {
     "kernelName": "spiral"
    }
   },
   "outputs": [],
   "source": [
    "inl iterate f x0 num_steps =\n",
    "    inl rec loop x n =\n",
    "        if n <= 0\n",
    "        then x\n",
    "        else loop (f x) (n - 1)\n",
    "    loop x0 num_steps"
   ]
  },
  {
   "cell_type": "code",
   "execution_count": null,
   "metadata": {
    "dotnet_interactive": {
     "language": "spiral"
    },
    "polyglot_notebook": {
     "kernelName": "spiral"
    }
   },
   "outputs": [
    {
     "name": "stdout",
     "output_type": "stream",
     "text": [
      "__assert_eq / actual: 1024 / expected: 1024\n"
     ]
    }
   ],
   "source": [
    "//// test\n",
    "\n",
    "10i32 |> iterate ((*) 2) 1i32\n",
    "|> _assert_eq 1024"
   ]
  },
  {
   "cell_type": "code",
   "execution_count": null,
   "metadata": {
    "dotnet_interactive": {
     "language": "spiral"
    },
    "polyglot_notebook": {
     "kernelName": "spiral"
    }
   },
   "outputs": [],
   "source": [
    "inl iterate_ f x0 num_steps =\n",
    "    let rec loop x n =\n",
    "        if n <= 0\n",
    "        then x\n",
    "        else loop (f x) (n - 1)\n",
    "    loop x0 num_steps"
   ]
  },
  {
   "cell_type": "code",
   "execution_count": null,
   "metadata": {
    "dotnet_interactive": {
     "language": "spiral"
    },
    "polyglot_notebook": {
     "kernelName": "spiral"
    }
   },
   "outputs": [
    {
     "name": "stdout",
     "output_type": "stream",
     "text": [
      "__assert_eq / actual: 1024 / expected: 1024\n"
     ]
    }
   ],
   "source": [
    "//// test\n",
    "\n",
    "10i32 |> iterate_ ((*) 2) 1i32\n",
    "|> _assert_eq 1024"
   ]
  },
  {
   "cell_type": "code",
   "execution_count": null,
   "metadata": {
    "dotnet_interactive": {
     "language": "spiral"
    },
    "polyglot_notebook": {
     "kernelName": "spiral"
    }
   },
   "outputs": [],
   "source": [
    "inl iterate' f x0 num_steps =\n",
    "    listm.init num_steps id\n",
    "    |> listm.fold (fun x _ => f x) x0"
   ]
  },
  {
   "cell_type": "code",
   "execution_count": null,
   "metadata": {
    "dotnet_interactive": {
     "language": "spiral"
    },
    "polyglot_notebook": {
     "kernelName": "spiral"
    }
   },
   "outputs": [
    {
     "name": "stdout",
     "output_type": "stream",
     "text": [
      "__assert_eq / actual: 1024 / expected: 1024\n"
     ]
    }
   ],
   "source": [
    "//// test\n",
    "\n",
    "10i32 |> iterate' ((*) 2) 1i32\n",
    "|> _assert_eq 1024"
   ]
  },
  {
   "cell_type": "markdown",
   "metadata": {},
   "source": [
    "### find_last"
   ]
  },
  {
   "cell_type": "code",
   "execution_count": null,
   "metadata": {
    "dotnet_interactive": {
     "language": "spiral"
    },
    "polyglot_notebook": {
     "kernelName": "spiral"
    }
   },
   "outputs": [],
   "source": [
    "inl find_last forall item result. fold_fn fn target : option result =\n",
    "    fold_fn (fun (item : item) (result : option result) =>\n",
    "        match result with\n",
    "        | None => fn item\n",
    "        | result => result\n",
    "    ) target (None : option result)\n",
    "\n",
    "inl array_find_last forall item result. (fn : item -> option result) (target : a i32 item) : option result =\n",
    "    find_last am.foldBack fn target\n",
    "\n",
    "inl list_find_last forall item result. (fn : item -> option result) (target : list item) : option result =\n",
    "    find_last listm.foldBack fn target"
   ]
  },
  {
   "cell_type": "markdown",
   "metadata": {},
   "source": [
    "## fsharp"
   ]
  },
  {
   "cell_type": "markdown",
   "metadata": {},
   "source": [
    "### seq'"
   ]
  },
  {
   "cell_type": "code",
   "execution_count": null,
   "metadata": {
    "dotnet_interactive": {
     "language": "spiral"
    },
    "polyglot_notebook": {
     "kernelName": "spiral"
    }
   },
   "outputs": [],
   "source": [
    "nominal seq' t = $\"backend_switch `({ Fsharp : $\"`t seq\"; Python : t })\""
   ]
  },
  {
   "cell_type": "markdown",
   "metadata": {},
   "source": [
    "### of_array'"
   ]
  },
  {
   "cell_type": "code",
   "execution_count": null,
   "metadata": {
    "dotnet_interactive": {
     "language": "spiral"
    },
    "polyglot_notebook": {
     "kernelName": "spiral"
    }
   },
   "outputs": [],
   "source": [
    "inl of_array' forall dim t. (items : a dim t) : seq' t =\n",
    "    backend_switch {\n",
    "        Fsharp = fun () => $'seq { for i = 0 to !items.Length - 1 do yield !items.[i] }' : seq' t\n",
    "        Python = fun () => $'!items ' : seq' t\n",
    "    }"
   ]
  },
  {
   "cell_type": "code",
   "execution_count": null,
   "metadata": {
    "dotnet_interactive": {
     "language": "spiral"
    },
    "polyglot_notebook": {
     "kernelName": "spiral"
    }
   },
   "outputs": [
    {
     "data": {
      "text/html": [
       "<details open=\"open\" class=\"dni-treeview\"><summary><span class=\"dni-code-hint\"><code>[ a, b ]</code></span></summary><div><table><thead><tr></tr></thead><tbody><tr><td>CheckClose</td><td><div class=\"dni-plaintext\"><pre>False</pre></div></td></tr><tr><td>LastGenerated</td><td><div class=\"dni-plaintext\"><pre>&lt;null&gt;</pre></div></td></tr><tr><td>v2</td><td><div class=\"dni-plaintext\"><pre>[ a, b ]</pre></div></td></tr><tr><td>enum</td><td><div class=\"dni-plaintext\"><pre>&lt;null&gt;</pre></div></td></tr><tr><td>pc</td><td><div class=\"dni-plaintext\"><pre>0</pre></div></td></tr><tr><td>current</td><td><div class=\"dni-plaintext\"><pre>&lt;null&gt;</pre></div></td></tr><tr><td><i>(values)</i></td><td><div class=\"dni-plaintext\"><pre>[ a, b ]</pre></div></td></tr></tbody></table></div></details><style>\n",
       ".dni-code-hint {\n",
       "    font-style: italic;\n",
       "    overflow: hidden;\n",
       "    white-space: nowrap;\n",
       "}\n",
       ".dni-treeview {\n",
       "    white-space: nowrap;\n",
       "}\n",
       ".dni-treeview td {\n",
       "    vertical-align: top;\n",
       "    text-align: start;\n",
       "}\n",
       "details.dni-treeview {\n",
       "    padding-left: 1em;\n",
       "}\n",
       "table td {\n",
       "    text-align: start;\n",
       "}\n",
       "table tr { \n",
       "    vertical-align: top; \n",
       "    margin: 0em 0px;\n",
       "}\n",
       "table tr td pre \n",
       "{ \n",
       "    vertical-align: top !important; \n",
       "    margin: 0em 0px !important;\n",
       "} \n",
       "table th {\n",
       "    text-align: start;\n",
       "}\n",
       "</style>"
      ]
     },
     "metadata": {},
     "output_type": "display_data"
    }
   ],
   "source": [
    "//// test\n",
    "\n",
    "(a ;[ \"a\"; \"b\" ] : _ i32 _)\n",
    "|> of_array'"
   ]
  },
  {
   "cell_type": "markdown",
   "metadata": {},
   "source": [
    "### of_array"
   ]
  },
  {
   "cell_type": "code",
   "execution_count": null,
   "metadata": {
    "dotnet_interactive": {
     "language": "spiral"
    },
    "polyglot_notebook": {
     "kernelName": "spiral"
    }
   },
   "outputs": [],
   "source": [
    "inl of_array forall dim t. (items : a dim t) : seq' t =\n",
    "    backend_switch {\n",
    "        Fsharp = fun () => $'!items |> Seq.ofArray' : seq' t\n",
    "        Python = fun () => $'!items ' : seq' t\n",
    "    }"
   ]
  },
  {
   "cell_type": "code",
   "execution_count": null,
   "metadata": {
    "dotnet_interactive": {
     "language": "spiral"
    },
    "polyglot_notebook": {
     "kernelName": "spiral"
    }
   },
   "outputs": [
    {
     "data": {
      "text/html": [
       "<details open=\"open\" class=\"dni-treeview\"><summary><span class=\"dni-code-hint\"><code>[ a, b ]</code></span></summary><div><table><thead><tr></tr></thead><tbody><tr><td>f</td><td><details class=\"dni-treeview\"><summary><span class=\"dni-code-hint\"><code>Microsoft.FSharp.Collections.SeqModule+OfArray@1010[System.String]</code></span></summary><div><table><thead><tr></tr></thead><tbody><tr><td>source</td><td><div class=\"dni-plaintext\"><pre>[ a, b ]</pre></div></td></tr></tbody></table></div></details></td></tr><tr><td><i>(values)</i></td><td><div class=\"dni-plaintext\"><pre>[ a, b ]</pre></div></td></tr></tbody></table></div></details><style>\n",
       ".dni-code-hint {\n",
       "    font-style: italic;\n",
       "    overflow: hidden;\n",
       "    white-space: nowrap;\n",
       "}\n",
       ".dni-treeview {\n",
       "    white-space: nowrap;\n",
       "}\n",
       ".dni-treeview td {\n",
       "    vertical-align: top;\n",
       "    text-align: start;\n",
       "}\n",
       "details.dni-treeview {\n",
       "    padding-left: 1em;\n",
       "}\n",
       "table td {\n",
       "    text-align: start;\n",
       "}\n",
       "table tr { \n",
       "    vertical-align: top; \n",
       "    margin: 0em 0px;\n",
       "}\n",
       "table tr td pre \n",
       "{ \n",
       "    vertical-align: top !important; \n",
       "    margin: 0em 0px !important;\n",
       "} \n",
       "table th {\n",
       "    text-align: start;\n",
       "}\n",
       "</style>"
      ]
     },
     "metadata": {},
     "output_type": "display_data"
    }
   ],
   "source": [
    "//// test\n",
    "\n",
    "(a ;[ \"a\"; \"b\" ] : _ i32 _)\n",
    "|> of_array"
   ]
  },
  {
   "cell_type": "markdown",
   "metadata": {},
   "source": [
    "### of_array_base"
   ]
  },
  {
   "cell_type": "code",
   "execution_count": null,
   "metadata": {
    "dotnet_interactive": {
     "language": "spiral"
    },
    "polyglot_notebook": {
     "kernelName": "spiral"
    }
   },
   "outputs": [],
   "source": [
    "inl of_array_base forall t. (items : array_base t) : seq' t =\n",
    "    a items\n",
    "    |> fun x => x : _ int _\n",
    "    |> of_array"
   ]
  },
  {
   "cell_type": "code",
   "execution_count": null,
   "metadata": {
    "dotnet_interactive": {
     "language": "spiral"
    },
    "polyglot_notebook": {
     "kernelName": "spiral"
    }
   },
   "outputs": [
    {
     "data": {
      "text/html": [
       "<details open=\"open\" class=\"dni-treeview\"><summary><span class=\"dni-code-hint\"><code>[ a, b ]</code></span></summary><div><table><thead><tr></tr></thead><tbody><tr><td>f</td><td><details class=\"dni-treeview\"><summary><span class=\"dni-code-hint\"><code>Microsoft.FSharp.Collections.SeqModule+OfArray@1010[System.String]</code></span></summary><div><table><thead><tr></tr></thead><tbody><tr><td>source</td><td><div class=\"dni-plaintext\"><pre>[ a, b ]</pre></div></td></tr></tbody></table></div></details></td></tr><tr><td><i>(values)</i></td><td><div class=\"dni-plaintext\"><pre>[ a, b ]</pre></div></td></tr></tbody></table></div></details><style>\n",
       ".dni-code-hint {\n",
       "    font-style: italic;\n",
       "    overflow: hidden;\n",
       "    white-space: nowrap;\n",
       "}\n",
       ".dni-treeview {\n",
       "    white-space: nowrap;\n",
       "}\n",
       ".dni-treeview td {\n",
       "    vertical-align: top;\n",
       "    text-align: start;\n",
       "}\n",
       "details.dni-treeview {\n",
       "    padding-left: 1em;\n",
       "}\n",
       "table td {\n",
       "    text-align: start;\n",
       "}\n",
       "table tr { \n",
       "    vertical-align: top; \n",
       "    margin: 0em 0px;\n",
       "}\n",
       "table tr td pre \n",
       "{ \n",
       "    vertical-align: top !important; \n",
       "    margin: 0em 0px !important;\n",
       "} \n",
       "table th {\n",
       "    text-align: start;\n",
       "}\n",
       "</style>"
      ]
     },
     "metadata": {},
     "output_type": "display_data"
    }
   ],
   "source": [
    "//// test\n",
    "\n",
    ";[ \"a\"; \"b\" ]\n",
    "|> of_array_base"
   ]
  },
  {
   "cell_type": "markdown",
   "metadata": {},
   "source": [
    "### to_array'"
   ]
  },
  {
   "cell_type": "code",
   "execution_count": null,
   "metadata": {
    "dotnet_interactive": {
     "language": "spiral"
    },
    "polyglot_notebook": {
     "kernelName": "spiral"
    }
   },
   "outputs": [],
   "source": [
    "inl to_array' forall dim t. (items : seq' t) : a dim t =\n",
    "    backend_switch {\n",
    "        Fsharp = fun () => items |> $'Seq.toArray' : a dim t\n",
    "        Python = fun () => $'!items ' : a dim t\n",
    "    }"
   ]
  },
  {
   "cell_type": "code",
   "execution_count": null,
   "metadata": {
    "dotnet_interactive": {
     "language": "spiral"
    },
    "polyglot_notebook": {
     "kernelName": "spiral"
    }
   },
   "outputs": [
    {
     "name": "stdout",
     "output_type": "stream",
     "text": [
      "__assert_eq' / actual: [|\"a\"; \"b\"|] / expected: [|\"a\"; \"b\"|]\n"
     ]
    }
   ],
   "source": [
    "//// test\n",
    "\n",
    "(a ;[ \"a\"; \"b\" ] : _ i32 _)\n",
    "|> of_array'\n",
    "|> to_array'\n",
    "|> _assert_eq' (a ;[ \"a\"; \"b\" ] : _ i32 _)"
   ]
  },
  {
   "cell_type": "markdown",
   "metadata": {},
   "source": [
    "### of_list'"
   ]
  },
  {
   "cell_type": "code",
   "execution_count": null,
   "metadata": {
    "dotnet_interactive": {
     "language": "spiral"
    },
    "polyglot_notebook": {
     "kernelName": "spiral"
    }
   },
   "outputs": [],
   "source": [
    "inl of_list' forall t. (items : listm'.list' t) : seq' t =\n",
    "    backend_switch {\n",
    "        Fsharp = fun () => $'seq { for i = 0 to !items.Length - 1 do yield !items.[i] }' : seq' t\n",
    "        Python = fun () => $'!items ' : seq' t\n",
    "    }"
   ]
  },
  {
   "cell_type": "markdown",
   "metadata": {},
   "source": [
    "### to_list'"
   ]
  },
  {
   "cell_type": "code",
   "execution_count": null,
   "metadata": {
    "dotnet_interactive": {
     "language": "spiral"
    },
    "polyglot_notebook": {
     "kernelName": "spiral"
    }
   },
   "outputs": [],
   "source": [
    "inl to_list' forall t. (items : seq' t) : listm'.list' t =\n",
    "    backend_switch {\n",
    "        Fsharp = fun () => items |> $'Seq.toList' : listm'.list' t\n",
    "        Python = fun () => $'!items ' : listm'.list' t\n",
    "    }"
   ]
  },
  {
   "cell_type": "code",
   "execution_count": null,
   "metadata": {
    "dotnet_interactive": {
     "language": "spiral"
    },
    "polyglot_notebook": {
     "kernelName": "spiral"
    }
   },
   "outputs": [
    {
     "name": "stdout",
     "output_type": "stream",
     "text": [
      "__assert_eq / actual: UH0_1 (\"a\", UH0_1 (\"b\", UH0_0)) / expected: UH0_1 (\"a\", UH0_1 (\"b\", UH0_0))\n"
     ]
    }
   ],
   "source": [
    "//// test\n",
    "\n",
    "(a ;[ \"a\"; \"b\" ] : _ i32 _)\n",
    "|> of_array\n",
    "|> to_list'\n",
    "|> listm'.unbox\n",
    "|> _assert_eq ([ \"a\"; \"b\" ])"
   ]
  },
  {
   "cell_type": "markdown",
   "metadata": {},
   "source": [
    "### rev'"
   ]
  },
  {
   "cell_type": "code",
   "execution_count": null,
   "metadata": {
    "dotnet_interactive": {
     "language": "spiral"
    },
    "polyglot_notebook": {
     "kernelName": "spiral"
    }
   },
   "outputs": [],
   "source": [
    "inl rev'' forall t u. (items : t) : seq' u =\n",
    "    backend_switch {\n",
    "        Fsharp = fun () => items |> $'Seq.rev' : seq' u\n",
    "        Python = fun () => $'reversed(!items)' : seq' u\n",
    "    }"
   ]
  },
  {
   "cell_type": "markdown",
   "metadata": {},
   "source": [
    "## rust"
   ]
  },
  {
   "cell_type": "markdown",
   "metadata": {},
   "source": [
    "### fuse"
   ]
  },
  {
   "cell_type": "code",
   "execution_count": null,
   "metadata": {
    "dotnet_interactive": {
     "language": "spiral"
    },
    "polyglot_notebook": {
     "kernelName": "spiral"
    }
   },
   "outputs": [],
   "source": [
    "nominal fuse t =\n",
    "    `(\n",
    "        global \"#if FABLE_COMPILER\\n[<Fable.Core.Erase; Fable.Core.Emit(\\\"core::iter::Fuse<$0>\\\")>]\\n#endif\\ntype core_iter_Fuse<'T> = class end\"\n",
    "        $'' : $'core_iter_Fuse<`t>'\n",
    "    )"
   ]
  }
 ],
 "metadata": {},
 "nbformat": 4,
 "nbformat_minor": 5
}