{
 "cells": [
  {
   "cell_type": "markdown",
   "metadata": {},
   "source": [
    "# seq"
   ]
  },
  {
   "cell_type": "code",
   "execution_count": null,
   "metadata": {
    "dotnet_interactive": {
     "language": "spiral"
    },
    "polyglot_notebook": {
     "kernelName": "spiral"
    }
   },
   "outputs": [
    {
     "name": "stdout",
     "output_type": "stream",
     "text": [
      "()\n",
      "\n"
     ]
    }
   ],
   "source": [
    "// // test\n",
    "\n",
    "open testing"
   ]
  },
  {
   "cell_type": "markdown",
   "metadata": {},
   "source": [
    "## seq"
   ]
  },
  {
   "cell_type": "code",
   "execution_count": null,
   "metadata": {
    "dotnet_interactive": {
     "language": "spiral"
    },
    "polyglot_notebook": {
     "kernelName": "spiral"
    }
   },
   "outputs": [
    {
     "name": "stdout",
     "output_type": "stream",
     "text": [
      "()\n",
      "\n"
     ]
    }
   ],
   "source": [
    "type seq dim el = dim -> option el"
   ]
  },
  {
   "cell_type": "markdown",
   "metadata": {},
   "source": [
    "## try_item"
   ]
  },
  {
   "cell_type": "code",
   "execution_count": null,
   "metadata": {
    "dotnet_interactive": {
     "language": "spiral"
    },
    "polyglot_notebook": {
     "kernelName": "spiral"
    }
   },
   "outputs": [
    {
     "name": "stdout",
     "output_type": "stream",
     "text": [
      "()\n",
      "\n"
     ]
    }
   ],
   "source": [
    "inl try_item n s =\n",
    "    n |> s"
   ]
  },
  {
   "cell_type": "markdown",
   "metadata": {},
   "source": [
    "## from_list"
   ]
  },
  {
   "cell_type": "code",
   "execution_count": null,
   "metadata": {
    "dotnet_interactive": {
     "language": "spiral"
    },
    "polyglot_notebook": {
     "kernelName": "spiral"
    }
   },
   "outputs": [
    {
     "name": "stdout",
     "output_type": "stream",
     "text": [
      "()\n",
      "\n"
     ]
    }
   ],
   "source": [
    "inl from_list list =\n",
    "    fun n =>\n",
    "        list\n",
    "        |> listm'.try_item n"
   ]
  },
  {
   "cell_type": "code",
   "execution_count": null,
   "metadata": {
    "dotnet_interactive": {
     "language": "spiral"
    },
    "polyglot_notebook": {
     "kernelName": "spiral"
    }
   },
   "outputs": [
    {
     "name": "stdout",
     "output_type": "stream",
     "text": [
      "type [<Struct>] US0 =\n",
      "    | US0_0\n",
      "    | US0_1 of f1_0 : int32\n",
      "let rec method0 () : unit =\n",
      "    printfn $\"print_and_return / x: {0}\"\n",
      "    printfn $\"print_and_return / x: {1}\"\n",
      "    printfn $\"print_and_return / x: {2}\"\n",
      "    printfn $\"print_and_return / x: {3}\"\n",
      "    printfn $\"print_and_return / x: {4}\"\n",
      "    printfn $\"print_and_return / x: {5}\"\n",
      "    printfn $\"print_and_return / x: {6}\"\n",
      "    printfn $\"print_and_return / x: {7}\"\n",
      "    printfn $\"print_and_return / x: {8}\"\n",
      "    printfn $\"print_and_return / x: {9}\"\n",
      "    let v3 : US0 = US0_1(5)\n",
      "    let v4 : US0 = US0_1(5)\n",
      "    let v5 : string = $\"__expect / actual: %A{v3} / expected: %A{v4}\"\n",
      "    ()\n",
      "method0()\n",
      "\n",
      "print_and_return / x: 0\n",
      "print_and_return / x: 1\n",
      "print_and_return / x: 2\n",
      "print_and_return / x: 3\n",
      "print_and_return / x: 4\n",
      "print_and_return / x: 5\n",
      "print_and_return / x: 6\n",
      "print_and_return / x: 7\n",
      "print_and_return / x: 8\n",
      "print_and_return / x: 9\n"
     ]
    }
   ],
   "source": [
    "// // test\n",
    "\n",
    "listm.init 10i32 print_and_return\n",
    "|> from_list\n",
    "|> try_item 5i32\n",
    "|> _assert_eq (Some 5i32)"
   ]
  },
  {
   "cell_type": "markdown",
   "metadata": {},
   "source": [
    "## map"
   ]
  },
  {
   "cell_type": "code",
   "execution_count": null,
   "metadata": {
    "dotnet_interactive": {
     "language": "spiral"
    },
    "polyglot_notebook": {
     "kernelName": "spiral"
    }
   },
   "outputs": [
    {
     "name": "stdout",
     "output_type": "stream",
     "text": [
      "()\n",
      "\n"
     ]
    }
   ],
   "source": [
    "inl map fn s =\n",
    "    fun n =>\n",
    "        n\n",
    "        |> s\n",
    "        |> optionm.map fn"
   ]
  },
  {
   "cell_type": "code",
   "execution_count": null,
   "metadata": {
    "dotnet_interactive": {
     "language": "spiral"
    },
    "polyglot_notebook": {
     "kernelName": "spiral"
    }
   },
   "outputs": [
    {
     "name": "stdout",
     "output_type": "stream",
     "text": [
      "type [<Struct>] US0 =\n",
      "    | US0_0\n",
      "    | US0_1 of f1_0 : int32\n",
      "let rec method0 () : unit =\n",
      "    let v3 : US0 = US0_1(10)\n",
      "    let v4 : US0 = US0_1(10)\n",
      "    let v5 : string = $\"__expect / actual: %A{v3} / expected: %A{v4}\"\n",
      "    ()\n",
      "method0()\n",
      "\n"
     ]
    }
   ],
   "source": [
    "// // test\n",
    "\n",
    "listm.init 10i32 id\n",
    "|> from_list\n",
    "|> map ((*) 2)\n",
    "|> try_item 5i32\n",
    "|> _assert_eq (Some 10i32)"
   ]
  },
  {
   "cell_type": "markdown",
   "metadata": {},
   "source": [
    "## mapi"
   ]
  },
  {
   "cell_type": "code",
   "execution_count": null,
   "metadata": {
    "dotnet_interactive": {
     "language": "spiral"
    },
    "polyglot_notebook": {
     "kernelName": "spiral"
    }
   },
   "outputs": [
    {
     "name": "stdout",
     "output_type": "stream",
     "text": [
      "()\n",
      "\n"
     ]
    }
   ],
   "source": [
    "inl mapi fn s =\n",
    "    fun n =>\n",
    "        n\n",
    "        |> s\n",
    "        |> optionm.map (fn n)"
   ]
  },
  {
   "cell_type": "code",
   "execution_count": null,
   "metadata": {
    "dotnet_interactive": {
     "language": "spiral"
    },
    "polyglot_notebook": {
     "kernelName": "spiral"
    }
   },
   "outputs": [
    {
     "name": "stdout",
     "output_type": "stream",
     "text": [
      "type [<Struct>] US0 =\n",
      "    | US0_0\n",
      "    | US0_1 of f1_0 : int32\n",
      "let rec method0 () : unit =\n",
      "    printfn $\"print_and_return / x: {0}\"\n",
      "    printfn $\"print_and_return / x: {1}\"\n",
      "    printfn $\"print_and_return / x: {2}\"\n",
      "    printfn $\"print_and_return / x: {3}\"\n",
      "    printfn $\"print_and_return / x: {4}\"\n",
      "    printfn $\"print_and_return / x: {5}\"\n",
      "    printfn $\"print_and_return / x: {6}\"\n",
      "    printfn $\"print_and_return / x: {7}\"\n",
      "    printfn $\"print_and_return / x: {8}\"\n",
      "    printfn $\"print_and_return / x: {9}\"\n",
      "    let v3 : US0 = US0_1(10)\n",
      "    let v4 : US0 = US0_1(10)\n",
      "    let v5 : string = $\"__expect / actual: %A{v3} / expected: %A{v4}\"\n",
      "    ()\n",
      "method0()\n",
      "\n",
      "print_and_return / x: 0\n",
      "print_and_return / x: 1\n",
      "print_and_return / x: 2\n",
      "print_and_return / x: 3\n",
      "print_and_return / x: 4\n",
      "print_and_return / x: 5\n",
      "print_and_return / x: 6\n",
      "print_and_return / x: 7\n",
      "print_and_return / x: 8\n",
      "print_and_return / x: 9\n"
     ]
    }
   ],
   "source": [
    "// // test\n",
    "\n",
    "listm.init 10i32 print_and_return\n",
    "|> from_list\n",
    "|> mapi fun i x => i + x\n",
    "|> try_item 5i32\n",
    "|> _assert_eq (Some 10i32)"
   ]
  },
  {
   "cell_type": "markdown",
   "metadata": {},
   "source": [
    "## choose"
   ]
  },
  {
   "cell_type": "code",
   "execution_count": null,
   "metadata": {
    "dotnet_interactive": {
     "language": "spiral"
    },
    "polyglot_notebook": {
     "kernelName": "spiral"
    }
   },
   "outputs": [
    {
     "name": "stdout",
     "output_type": "stream",
     "text": [
      "()\n",
      "\n"
     ]
    }
   ],
   "source": [
    "inl choose forall dim {number} t u. (fn : t -> option u) (s : seq dim t) : seq dim u =\n",
    "    fun n =>\n",
    "        inl rec body fn s i i' =\n",
    "            match i |> s with\n",
    "            | None => None\n",
    "            | Some x =>\n",
    "                match x |> fn with\n",
    "                | Some x when n = i' => Some x\n",
    "                | Some _ => loop (i + 1) (i' + 1)\n",
    "                | _ => loop (i + 1) i'\n",
    "        and inl loop i i' =\n",
    "            if n |> var_is |> not\n",
    "            then body fn s i i'\n",
    "            else\n",
    "                inl fn = join fn\n",
    "                inl s = join s\n",
    "                join body fn s i i'\n",
    "        loop 0 0"
   ]
  },
  {
   "cell_type": "code",
   "execution_count": null,
   "metadata": {
    "dotnet_interactive": {
     "language": "spiral"
    },
    "polyglot_notebook": {
     "kernelName": "spiral"
    }
   },
   "outputs": [
    {
     "name": "stdout",
     "output_type": "stream",
     "text": [
      "type [<Struct>] US0 =\n",
      "    | US0_0\n",
      "    | US0_1 of f1_0 : int32\n",
      "let rec method0 () : unit =\n",
      "    printfn $\"print_and_return / x: {0}\"\n",
      "    printfn $\"print_and_return / x: {1}\"\n",
      "    printfn $\"print_and_return / x: {2}\"\n",
      "    printfn $\"print_and_return / x: {3}\"\n",
      "    printfn $\"print_and_return / x: {4}\"\n",
      "    printfn $\"print_and_return / x: {5}\"\n",
      "    printfn $\"print_and_return / x: {6}\"\n",
      "    printfn $\"print_and_return / x: {7}\"\n",
      "    printfn $\"print_and_return / x: {8}\"\n",
      "    printfn $\"print_and_return / x: {9}\"\n",
      "    let v3 : US0 = US0_1(2)\n",
      "    let v4 : US0 = US0_1(2)\n",
      "    let v5 : string = $\"__expect / actual: %A{v3} / expected: %A{v4}\"\n",
      "    ()\n",
      "method0()\n",
      "\n",
      "print_and_return / x: 0\n",
      "print_and_return / x: 1\n",
      "print_and_return / x: 2\n",
      "print_and_return / x: 3\n",
      "print_and_return / x: 4\n",
      "print_and_return / x: 5\n",
      "print_and_return / x: 6\n",
      "print_and_return / x: 7\n",
      "print_and_return / x: 8\n",
      "print_and_return / x: 9\n"
     ]
    }
   ],
   "source": [
    "// // test\n",
    "\n",
    "listm.init 10i32 print_and_return\n",
    "|> from_list\n",
    "|> choose (fun x => if x % 2 = 0 then Some x else None)\n",
    "|> try_item 1i32\n",
    "|> _assert_eq (Some 2i32)"
   ]
  },
  {
   "cell_type": "markdown",
   "metadata": {},
   "source": [
    "## indexed"
   ]
  },
  {
   "cell_type": "code",
   "execution_count": null,
   "metadata": {
    "dotnet_interactive": {
     "language": "spiral"
    },
    "polyglot_notebook": {
     "kernelName": "spiral"
    }
   },
   "outputs": [
    {
     "name": "stdout",
     "output_type": "stream",
     "text": [
      "()\n",
      "\n"
     ]
    }
   ],
   "source": [
    "inl indexed s =\n",
    "    s\n",
    "    |> mapi fun i x =>\n",
    "        i, x"
   ]
  },
  {
   "cell_type": "code",
   "execution_count": null,
   "metadata": {
    "dotnet_interactive": {
     "language": "spiral"
    },
    "polyglot_notebook": {
     "kernelName": "spiral"
    }
   },
   "outputs": [
    {
     "name": "stdout",
     "output_type": "stream",
     "text": [
      "type [<Struct>] US0 =\n",
      "    | US0_0\n",
      "    | US0_1 of f1_0 : int32 * f1_1 : int32\n",
      "let rec method0 () : unit =\n",
      "    let v3 : US0 = US0_1(5, 10)\n",
      "    let v4 : US0 = US0_1(5, 10)\n",
      "    let v5 : string = $\"__expect / actual: %A{v3} / expected: %A{v4}\"\n",
      "    ()\n",
      "method0()\n",
      "\n"
     ]
    }
   ],
   "source": [
    "// // test\n",
    "\n",
    "listm.init 10i32 ((*) 2)\n",
    "|> from_list\n",
    "|> indexed\n",
    "|> try_item 5i32\n",
    "|> _assert_eq (Some (5i32, 10i32))"
   ]
  },
  {
   "cell_type": "markdown",
   "metadata": {},
   "source": [
    "## zip"
   ]
  },
  {
   "cell_type": "code",
   "execution_count": null,
   "metadata": {
    "dotnet_interactive": {
     "language": "spiral"
    },
    "polyglot_notebook": {
     "kernelName": "spiral"
    }
   },
   "outputs": [
    {
     "name": "stdout",
     "output_type": "stream",
     "text": [
      "()\n",
      "\n"
     ]
    }
   ],
   "source": [
    "inl zip n seq1 seq2 =\n",
    "    seq1 n, seq2 n"
   ]
  },
  {
   "cell_type": "code",
   "execution_count": null,
   "metadata": {
    "dotnet_interactive": {
     "language": "spiral"
    },
    "polyglot_notebook": {
     "kernelName": "spiral"
    }
   },
   "outputs": [
    {
     "name": "stdout",
     "output_type": "stream",
     "text": [
      "type [<Struct>] US0 =\n",
      "    | US0_0\n",
      "    | US0_1 of f1_0 : int32\n",
      "let rec method0 () : unit =\n",
      "    let v6 : US0 = US0_1(5)\n",
      "    let v7 : US0 = US0_1(10)\n",
      "    let v8 : US0 = US0_1(5)\n",
      "    let v9 : US0 = US0_1(10)\n",
      "    let v10 : string = $\"__expect / actual: %A{struct (v6, v7)} / expected: %A{struct (v8, v9)}\"\n",
      "    ()\n",
      "method0()\n",
      "\n"
     ]
    }
   ],
   "source": [
    "// // test\n",
    "\n",
    "((listm.init 10i32 id |> from_list), (listm.init 10i32 ((*) 2) |> from_list))\n",
    "||> zip 5i32\n",
    "|> _assert_eq (Some 5, Some 10)"
   ]
  },
  {
   "cell_type": "markdown",
   "metadata": {},
   "source": [
    "## zip_with"
   ]
  },
  {
   "cell_type": "code",
   "execution_count": null,
   "metadata": {
    "dotnet_interactive": {
     "language": "spiral"
    },
    "polyglot_notebook": {
     "kernelName": "spiral"
    }
   },
   "outputs": [
    {
     "name": "stdout",
     "output_type": "stream",
     "text": [
      "()\n",
      "\n"
     ]
    }
   ],
   "source": [
    "inl zip_with fn seq1 seq2 =\n",
    "    fun n =>\n",
    "        fn (seq1 n) (seq2 n)"
   ]
  },
  {
   "cell_type": "code",
   "execution_count": null,
   "metadata": {
    "dotnet_interactive": {
     "language": "spiral"
    },
    "polyglot_notebook": {
     "kernelName": "spiral"
    }
   },
   "outputs": [
    {
     "name": "stdout",
     "output_type": "stream",
     "text": [
      "type [<Struct>] US0 =\n",
      "    | US0_0\n",
      "    | US0_1 of f1_0 : int32\n",
      "let rec method0 () : unit =\n",
      "    let v3 : US0 = US0_1(6)\n",
      "    let v4 : US0 = US0_1(6)\n",
      "    let v5 : string = $\"__expect / actual: %A{v3} / expected: %A{v4}\"\n",
      "    ()\n",
      "method0()\n",
      "\n"
     ]
    }
   ],
   "source": [
    "// // test\n",
    "\n",
    "((listm.init 10i32 id |> from_list), (listm.init 10i32 ((*) 2) |> from_list))\n",
    "||> zip_with (optionm'.choose (+))\n",
    "|> try_item 2i32\n",
    "|> _assert_eq (Some 6)"
   ]
  },
  {
   "cell_type": "markdown",
   "metadata": {},
   "source": [
    "## fold"
   ]
  },
  {
   "cell_type": "code",
   "execution_count": null,
   "metadata": {
    "dotnet_interactive": {
     "language": "spiral"
    },
    "polyglot_notebook": {
     "kernelName": "spiral"
    }
   },
   "outputs": [
    {
     "name": "stdout",
     "output_type": "stream",
     "text": [
      "()\n",
      "\n"
     ]
    }
   ],
   "source": [
    "inl fold fn init seq =\n",
    "    inl rec loop acc n =\n",
    "        match seq n with\n",
    "        | Some x => loop (fn acc x) (n + 1)\n",
    "        | None => acc\n",
    "    loop init 0\n",
    "\n",
    "inl fold_ fn init seq =\n",
    "    let rec loop acc n =\n",
    "        match seq n with\n",
    "        | Some x => loop (fn acc x) (n + 1)\n",
    "        | None => acc\n",
    "    loop init 0"
   ]
  },
  {
   "cell_type": "markdown",
   "metadata": {},
   "source": [
    "## sum"
   ]
  },
  {
   "cell_type": "code",
   "execution_count": null,
   "metadata": {
    "dotnet_interactive": {
     "language": "spiral"
    },
    "polyglot_notebook": {
     "kernelName": "spiral"
    }
   },
   "outputs": [
    {
     "name": "stdout",
     "output_type": "stream",
     "text": [
      "()\n",
      "\n"
     ]
    }
   ],
   "source": [
    "inl sum seq =\n",
    "    seq |> fold (+) 0\n",
    "\n",
    "inl sum_ seq =\n",
    "    seq |> fold_ (+) 0"
   ]
  },
  {
   "cell_type": "code",
   "execution_count": null,
   "metadata": {
    "dotnet_interactive": {
     "language": "spiral"
    },
    "polyglot_notebook": {
     "kernelName": "spiral"
    }
   },
   "outputs": [
    {
     "name": "stdout",
     "output_type": "stream",
     "text": [
      "let rec method0 () : unit =\n",
      "    let v0 : string = $\"__expect / actual: %A{45} / expected: %A{45}\"\n",
      "    ()\n",
      "method0()\n",
      "\n"
     ]
    }
   ],
   "source": [
    "// // test\n",
    "\n",
    "listm.init 10i32 id\n",
    "|> from_list\n",
    "|> fun f (n : i32) => f n\n",
    "|> sum\n",
    "|> _assert_eq 45"
   ]
  },
  {
   "cell_type": "markdown",
   "metadata": {},
   "source": [
    "## to_list"
   ]
  },
  {
   "cell_type": "code",
   "execution_count": null,
   "metadata": {
    "dotnet_interactive": {
     "language": "spiral"
    },
    "polyglot_notebook": {
     "kernelName": "spiral"
    }
   },
   "outputs": [
    {
     "name": "stdout",
     "output_type": "stream",
     "text": [
      "()\n",
      "\n"
     ]
    }
   ],
   "source": [
    "inl to_list seq =\n",
    "    seq\n",
    "    |> fold (fun acc x => x :: acc) []\n",
    "    |> listm.rev\n",
    "\n",
    "inl to_list_ seq =\n",
    "    seq\n",
    "    |> fold_ (fun acc x => x :: acc) []\n",
    "    |> listm.rev"
   ]
  },
  {
   "cell_type": "code",
   "execution_count": null,
   "metadata": {
    "dotnet_interactive": {
     "language": "spiral"
    },
    "polyglot_notebook": {
     "kernelName": "spiral"
    }
   },
   "outputs": [
    {
     "name": "stdout",
     "output_type": "stream",
     "text": [
      "type UH0 =\n",
      "    | UH0_0 of int32 * UH0\n",
      "    | UH0_1\n",
      "let rec method0 () : unit =\n",
      "    let v88 : UH0 = UH0_1\n",
      "    let v89 : UH0 = UH0_0(9, v88)\n",
      "    let v90 : UH0 = UH0_0(8, v89)\n",
      "    let v91 : UH0 = UH0_0(7, v90)\n",
      "    let v92 : UH0 = UH0_0(6, v91)\n",
      "    let v93 : UH0 = UH0_0(5, v92)\n",
      "    let v94 : UH0 = UH0_0(4, v93)\n",
      "    let v95 : UH0 = UH0_0(3, v94)\n",
      "    let v96 : UH0 = UH0_0(2, v95)\n",
      "    let v97 : UH0 = UH0_0(1, v96)\n",
      "    let v98 : UH0 = UH0_0(0, v97)\n",
      "    let v99 : UH0 = UH0_1\n",
      "    let v100 : UH0 = UH0_0(9, v99)\n",
      "    let v101 : UH0 = UH0_0(8, v100)\n",
      "    let v102 : UH0 = UH0_0(7, v101)\n",
      "    let v103 : UH0 = UH0_0(6, v102)\n",
      "    let v104 : UH0 = UH0_0(5, v103)\n",
      "    let v105 : UH0 = UH0_0(4, v104)\n",
      "    let v106 : UH0 = UH0_0(3, v105)\n",
      "    let v107 : UH0 = UH0_0(2, v106)\n",
      "    let v108 : UH0 = UH0_0(1, v107)\n",
      "    let v109 : UH0 = UH0_0(0, v108)\n",
      "    let v110 : string = $\"__expect / actual: %A{v98} / expected: %A{v109}\"\n",
      "    ()\n",
      "method0()\n",
      "\n"
     ]
    }
   ],
   "source": [
    "// // test\n",
    "\n",
    "listm.init 10i32 id\n",
    "|> from_list\n",
    "|> fun f (n : i32) => f n\n",
    "|> to_list\n",
    "|> _assert_eq (listm.init 10i32 id)"
   ]
  },
  {
   "cell_type": "markdown",
   "metadata": {},
   "source": [
    "## from_array"
   ]
  },
  {
   "cell_type": "code",
   "execution_count": null,
   "metadata": {
    "dotnet_interactive": {
     "language": "spiral"
    },
    "polyglot_notebook": {
     "kernelName": "spiral"
    }
   },
   "outputs": [
    {
     "name": "stdout",
     "output_type": "stream",
     "text": [
      "()\n",
      "\n"
     ]
    }
   ],
   "source": [
    "inl from_array forall dim {number; int} el. (array : a dim el) : seq dim el =\n",
    "    fun n =>\n",
    "        if n >= length array\n",
    "        then None\n",
    "        else index array n |> Some"
   ]
  },
  {
   "cell_type": "code",
   "execution_count": null,
   "metadata": {
    "dotnet_interactive": {
     "language": "spiral"
    },
    "polyglot_notebook": {
     "kernelName": "spiral"
    }
   },
   "outputs": [
    {
     "name": "stdout",
     "output_type": "stream",
     "text": [
      "type [<Struct>] US0 =\n",
      "    | US0_0\n",
      "    | US0_1 of f1_0 : int32\n",
      "let rec method1 (v0 : (int32 [])) : (int32 []) =\n",
      "    v0\n",
      "and method2 (v0 : bool) : bool =\n",
      "    v0\n",
      "and method0 () : unit =\n",
      "    let v0 : (int32 []) = [|1; 2; 3|]\n",
      "    let v1 : (int32 []) = method1(v0)\n",
      "    let v2 : int32 = v1.Length\n",
      "    let v3 : bool = 1 >= v2\n",
      "    let v7 : US0 =\n",
      "        if v3 then\n",
      "            US0_0\n",
      "        else\n",
      "            let v5 : int32 = v1.[int 1]\n",
      "            US0_1(v5)\n",
      "    let v11 : bool =\n",
      "        match v7 with\n",
      "        | US0_1(v9) -> (* Some *)\n",
      "            let v10 : bool = v9 = 2\n",
      "            v10\n",
      "        | _ ->\n",
      "            false\n",
      "    let v13 : bool =\n",
      "        if v11 then\n",
      "            true\n",
      "        else\n",
      "            method2(v11)\n",
      "    let v14 : US0 = US0_1(2)\n",
      "    let v15 : string = $\"__expect / actual: %A{v7} / expected: %A{v14}\"\n",
      "    let v16 : bool = v13 = false\n",
      "    if v16 then\n",
      "        failwith<unit> v15\n",
      "method0()\n",
      "\n"
     ]
    }
   ],
   "source": [
    "// // test\n",
    "\n",
    "a ;[ 1; 2; 3 ]\n",
    "|> from_array\n",
    "|> try_item 1i32\n",
    "|> _assert_eq (Some 2i32)"
   ]
  },
  {
   "cell_type": "markdown",
   "metadata": {},
   "source": [
    "## to_array"
   ]
  },
  {
   "cell_type": "code",
   "execution_count": null,
   "metadata": {
    "dotnet_interactive": {
     "language": "spiral"
    },
    "polyglot_notebook": {
     "kernelName": "spiral"
    }
   },
   "outputs": [
    {
     "name": "stdout",
     "output_type": "stream",
     "text": [
      "()\n",
      "\n"
     ]
    }
   ],
   "source": [
    "inl to_array seq =\n",
    "    inl ar = a ;[] |> mut\n",
    "    ((), seq)\n",
    "    ||> fold fun _ x =>\n",
    "        ar <- *ar /@ a ;[x]\n",
    "    *ar\n",
    "\n",
    "inl to_array_ seq =\n",
    "    inl ar = a ;[] |> mut\n",
    "    ((), seq)\n",
    "    ||> fold_ fun _ x =>\n",
    "        ar <- *ar /@ a ;[x]\n",
    "    *ar"
   ]
  },
  {
   "cell_type": "code",
   "execution_count": null,
   "metadata": {
    "dotnet_interactive": {
     "language": "spiral"
    },
    "polyglot_notebook": {
     "kernelName": "spiral"
    }
   },
   "outputs": [
    {
     "name": "stdout",
     "output_type": "stream",
     "text": [
      "type Mut0 = {mutable l0 : (int32 [])}\n",
      "and Mut1 = {mutable l0 : int32}\n",
      "let rec method1 (v0 : (int32 [])) : (int32 []) =\n",
      "    v0\n",
      "and method2 (v0 : int32, v1 : Mut1) : bool =\n",
      "    let v2 : int32 = v1.l0\n",
      "    let v3 : bool = v2 < v0\n",
      "    v3\n",
      "and method3 (v0 : (int32 []), v1 : (int32 []), v2 : int32) : bool =\n",
      "    let v3 : int32 = v0.Length\n",
      "    let v4 : bool = v2 < v3\n",
      "    if v4 then\n",
      "        let v5 : int32 = v0.[int v2]\n",
      "        let v6 : int32 = v1.[int v2]\n",
      "        let v7 : bool = v5 = v6\n",
      "        if v7 then\n",
      "            let v8 : int32 = v2 + 1\n",
      "            method3(v0, v1, v8)\n",
      "        else\n",
      "            false\n",
      "    else\n",
      "        true\n",
      "and method4 (v0 : bool) : bool =\n",
      "    v0\n",
      "and method0 () : unit =\n",
      "    let v0 : (int32 []) = [||]\n",
      "    let v1 : (int32 []) = method1(v0)\n",
      "    let v2 : Mut0 = {l0 = v1} : Mut0\n",
      "    let v3 : (int32 []) = v2.l0\n",
      "    let v4 : (int32 []) = [|0|]\n",
      "    let v5 : (int32 []) = method1(v4)\n",
      "    let v6 : int32 = v3.Length\n",
      "    let v7 : int32 = v5.Length\n",
      "    let v8 : int32 = v6 + v7\n",
      "    let v9 : (int32 []) = Array.zeroCreate<int32> (v8)\n",
      "    let v10 : Mut1 = {l0 = 0} : Mut1\n",
      "    while method2(v8, v10) do\n",
      "        let v12 : int32 = v10.l0\n",
      "        let v13 : bool = v12 < v6\n",
      "        let v17 : int32 =\n",
      "            if v13 then\n",
      "                let v14 : int32 = v3.[int v12]\n",
      "                v14\n",
      "            else\n",
      "                let v15 : int32 = v12 - v6\n",
      "                let v16 : int32 = v5.[int v15]\n",
      "                v16\n",
      "        v9.[int v12] <- v17\n",
      "        let v18 : int32 = v12 + 1\n",
      "        v10.l0 <- v18\n",
      "        ()\n",
      "    v2.l0 <- v9\n",
      "    let v19 : (int32 []) = v2.l0\n",
      "    let v20 : (int32 []) = [|1|]\n",
      "    let v21 : (int32 []) = method1(v20)\n",
      "    let v22 : int32 = v19.Length\n",
      "    let v23 : int32 = v21.Length\n",
      "    let v24 : int32 = v22 + v23\n",
      "    let v25 : (int32 []) = Array.zeroCreate<int32> (v24)\n",
      "    let v26 : Mut1 = {l0 = 0} : Mut1\n",
      "    while method2(v24, v26) do\n",
      "        let v28 : int32 = v26.l0\n",
      "        let v29 : bool = v28 < v22\n",
      "        let v33 : int32 =\n",
      "            if v29 then\n",
      "                let v30 : int32 = v19.[int v28]\n",
      "                v30\n",
      "            else\n",
      "                let v31 : int32 = v28 - v22\n",
      "                let v32 : int32 = v21.[int v31]\n",
      "                v32\n",
      "        v25.[int v28] <- v33\n",
      "        let v34 : int32 = v28 + 1\n",
      "        v26.l0 <- v34\n",
      "        ()\n",
      "    v2.l0 <- v25\n",
      "    let v35 : (int32 []) = v2.l0\n",
      "    let v36 : (int32 []) = [|2|]\n",
      "    let v37 : (int32 []) = method1(v36)\n",
      "    let v38 : int32 = v35.Length\n",
      "    let v39 : int32 = v37.Length\n",
      "    let v40 : int32 = v38 + v39\n",
      "    let v41 : (int32 []) = Array.zeroCreate<int32> (v40)\n",
      "    let v42 : Mut1 = {l0 = 0} : Mut1\n",
      "    while method2(v40, v42) do\n",
      "        let v44 : int32 = v42.l0\n",
      "        let v45 : bool = v44 < v38\n",
      "        let v49 : int32 =\n",
      "            if v45 then\n",
      "                let v46 : int32 = v35.[int v44]\n",
      "                v46\n",
      "            else\n",
      "                let v47 : int32 = v44 - v38\n",
      "                let v48 : int32 = v37.[int v47]\n",
      "                v48\n",
      "        v41.[int v44] <- v49\n",
      "        let v50 : int32 = v44 + 1\n",
      "        v42.l0 <- v50\n",
      "        ()\n",
      "    v2.l0 <- v41\n",
      "    let v51 : (int32 []) = v2.l0\n",
      "    let v52 : (int32 []) = [|3|]\n",
      "    let v53 : (int32 []) = method1(v52)\n",
      "    let v54 : int32 = v51.Length\n",
      "    let v55 : int32 = v53.Length\n",
      "    let v56 : int32 = v54 + v55\n",
      "    let v57 : (int32 []) = Array.zeroCreate<int32> (v56)\n",
      "    let v58 : Mut1 = {l0 = 0} : Mut1\n",
      "    while method2(v56, v58) do\n",
      "        let v60 : int32 = v58.l0\n",
      "        let v61 : bool = v60 < v54\n",
      "        let v65 : int32 =\n",
      "            if v61 then\n",
      "                let v62 : int32 = v51.[int v60]\n",
      "                v62\n",
      "            else\n",
      "                let v63 : int32 = v60 - v54\n",
      "                let v64 : int32 = v53.[int v63]\n",
      "                v64\n",
      "        v57.[int v60] <- v65\n",
      "        let v66 : int32 = v60 + 1\n",
      "        v58.l0 <- v66\n",
      "        ()\n",
      "    v2.l0 <- v57\n",
      "    let v67 : (int32 []) = v2.l0\n",
      "    let v68 : (int32 []) = [|4|]\n",
      "    let v69 : (int32 []) = method1(v68)\n",
      "    let v70 : int32 = v67.Length\n",
      "    let v71 : int32 = v69.Length\n",
      "    let v72 : int32 = v70 + v71\n",
      "    let v73 : (int32 []) = Array.zeroCreate<int32> (v72)\n",
      "    let v74 : Mut1 = {l0 = 0} : Mut1\n",
      "    while method2(v72, v74) do\n",
      "        let v76 : int32 = v74.l0\n",
      "        let v77 : bool = v76 < v70\n",
      "        let v81 : int32 =\n",
      "            if v77 then\n",
      "                let v78 : int32 = v67.[int v76]\n",
      "                v78\n",
      "            else\n",
      "                let v79 : int32 = v76 - v70\n",
      "                let v80 : int32 = v69.[int v79]\n",
      "                v80\n",
      "        v73.[int v76] <- v81\n",
      "        let v82 : int32 = v76 + 1\n",
      "        v74.l0 <- v82\n",
      "        ()\n",
      "    v2.l0 <- v73\n",
      "    let v83 : (int32 []) = v2.l0\n",
      "    let v84 : (int32 []) = [|5|]\n",
      "    let v85 : (int32 []) = method1(v84)\n",
      "    let v86 : int32 = v83.Length\n",
      "    let v87 : int32 = v85.Length\n",
      "    let v88 : int32 = v86 + v87\n",
      "    let v89 : (int32 []) = Array.zeroCreate<int32> (v88)\n",
      "    let v90 : Mut1 = {l0 = 0} : Mut1\n",
      "    while method2(v88, v90) do\n",
      "        let v92 : int32 = v90.l0\n",
      "        let v93 : bool = v92 < v86\n",
      "        let v97 : int32 =\n",
      "            if v93 then\n",
      "                let v94 : int32 = v83.[int v92]\n",
      "                v94\n",
      "            else\n",
      "                let v95 : int32 = v92 - v86\n",
      "                let v96 : int32 = v85.[int v95]\n",
      "                v96\n",
      "        v89.[int v92] <- v97\n",
      "        let v98 : int32 = v92 + 1\n",
      "        v90.l0 <- v98\n",
      "        ()\n",
      "    v2.l0 <- v89\n",
      "    let v99 : (int32 []) = v2.l0\n",
      "    let v100 : (int32 []) = [|6|]\n",
      "    let v101 : (int32 []) = method1(v100)\n",
      "    let v102 : int32 = v99.Length\n",
      "    let v103 : int32 = v101.Length\n",
      "    let v104 : int32 = v102 + v103\n",
      "    let v105 : (int32 []) = Array.zeroCreate<int32> (v104)\n",
      "    let v106 : Mut1 = {l0 = 0} : Mut1\n",
      "    while method2(v104, v106) do\n",
      "        let v108 : int32 = v106.l0\n",
      "        let v109 : bool = v108 < v102\n",
      "        let v113 : int32 =\n",
      "            if v109 then\n",
      "                let v110 : int32 = v99.[int v108]\n",
      "                v110\n",
      "            else\n",
      "                let v111 : int32 = v108 - v102\n",
      "                let v112 : int32 = v101.[int v111]\n",
      "                v112\n",
      "        v105.[int v108] <- v113\n",
      "        let v114 : int32 = v108 + 1\n",
      "        v106.l0 <- v114\n",
      "        ()\n",
      "    v2.l0 <- v105\n",
      "    let v115 : (int32 []) = v2.l0\n",
      "    let v116 : (int32 []) = [|7|]\n",
      "    let v117 : (int32 []) = method1(v116)\n",
      "    let v118 : int32 = v115.Length\n",
      "    let v119 : int32 = v117.Length\n",
      "    let v120 : int32 = v118 + v119\n",
      "    let v121 : (int32 []) = Array.zeroCreate<int32> (v120)\n",
      "    let v122 : Mut1 = {l0 = 0} : Mut1\n",
      "    while method2(v120, v122) do\n",
      "        let v124 : int32 = v122.l0\n",
      "        let v125 : bool = v124 < v118\n",
      "        let v129 : int32 =\n",
      "            if v125 then\n",
      "                let v126 : int32 = v115.[int v124]\n",
      "                v126\n",
      "            else\n",
      "                let v127 : int32 = v124 - v118\n",
      "                let v128 : int32 = v117.[int v127]\n",
      "                v128\n",
      "        v121.[int v124] <- v129\n",
      "        let v130 : int32 = v124 + 1\n",
      "        v122.l0 <- v130\n",
      "        ()\n",
      "    v2.l0 <- v121\n",
      "    let v131 : (int32 []) = v2.l0\n",
      "    let v132 : (int32 []) = [|8|]\n",
      "    let v133 : (int32 []) = method1(v132)\n",
      "    let v134 : int32 = v131.Length\n",
      "    let v135 : int32 = v133.Length\n",
      "    let v136 : int32 = v134 + v135\n",
      "    let v137 : (int32 []) = Array.zeroCreate<int32> (v136)\n",
      "    let v138 : Mut1 = {l0 = 0} : Mut1\n",
      "    while method2(v136, v138) do\n",
      "        let v140 : int32 = v138.l0\n",
      "        let v141 : bool = v140 < v134\n",
      "        let v145 : int32 =\n",
      "            if v141 then\n",
      "                let v142 : int32 = v131.[int v140]\n",
      "                v142\n",
      "            else\n",
      "                let v143 : int32 = v140 - v134\n",
      "                let v144 : int32 = v133.[int v143]\n",
      "                v144\n",
      "        v137.[int v140] <- v145\n",
      "        let v146 : int32 = v140 + 1\n",
      "        v138.l0 <- v146\n",
      "        ()\n",
      "    v2.l0 <- v137\n",
      "    let v147 : (int32 []) = v2.l0\n",
      "    let v148 : (int32 []) = [|9|]\n",
      "    let v149 : (int32 []) = method1(v148)\n",
      "    let v150 : int32 = v147.Length\n",
      "    let v151 : int32 = v149.Length\n",
      "    let v152 : int32 = v150 + v151\n",
      "    let v153 : (int32 []) = Array.zeroCreate<int32> (v152)\n",
      "    let v154 : Mut1 = {l0 = 0} : Mut1\n",
      "    while method2(v152, v154) do\n",
      "        let v156 : int32 = v154.l0\n",
      "        let v157 : bool = v156 < v150\n",
      "        let v161 : int32 =\n",
      "            if v157 then\n",
      "                let v158 : int32 = v147.[int v156]\n",
      "                v158\n",
      "            else\n",
      "                let v159 : int32 = v156 - v150\n",
      "                let v160 : int32 = v149.[int v159]\n",
      "                v160\n",
      "        v153.[int v156] <- v161\n",
      "        let v162 : int32 = v156 + 1\n",
      "        v154.l0 <- v162\n",
      "        ()\n",
      "    v2.l0 <- v153\n",
      "    let v163 : (int32 []) = v2.l0\n",
      "    let v164 : (int32 []) = [|0; 1; 2; 3; 4; 5; 6; 7; 8; 9|]\n",
      "    let v165 : (int32 []) = method1(v164)\n",
      "    let v166 : int32 = v163.Length\n",
      "    let v167 : int32 = v165.Length\n",
      "    let v168 : bool = v166 = v167\n",
      "    let v169 : bool = v168 <> true\n",
      "    let v172 : bool =\n",
      "        if v169 then\n",
      "            false\n",
      "        else\n",
      "            let v170 : int32 = 0\n",
      "            method3(v163, v165, v170)\n",
      "    let v174 : bool =\n",
      "        if v172 then\n",
      "            true\n",
      "        else\n",
      "            method4(v172)\n",
      "    let v175 : string = $\"__expect / actual: %A{v163} / expected: %A{v165}\"\n",
      "    let v176 : bool = v174 = false\n",
      "    if v176 then\n",
      "        failwith<unit> v175\n",
      "method0()\n",
      "\n"
     ]
    }
   ],
   "source": [
    "// // test\n",
    "\n",
    "listm.init 10i32 id\n",
    "|> from_list\n",
    "|> fun (x : i32 -> _) => x\n",
    "|> to_array\n",
    "|> _assert_eq (a ;[ 0; 1; 2; 3; 4; 5; 6; 7; 8; 9 ] : _ i32 _)"
   ]
  },
  {
   "cell_type": "markdown",
   "metadata": {},
   "source": [
    "## take_while"
   ]
  },
  {
   "cell_type": "code",
   "execution_count": null,
   "metadata": {
    "dotnet_interactive": {
     "language": "spiral"
    },
    "polyglot_notebook": {
     "kernelName": "spiral"
    }
   },
   "outputs": [
    {
     "name": "stdout",
     "output_type": "stream",
     "text": [
      "()\n",
      "\n"
     ]
    }
   ],
   "source": [
    "inl take_while cond seq =\n",
    "    inl rec loop acc i =\n",
    "        match seq i with\n",
    "        | Some st when cond st i => loop (st :: acc) (i + 1)\n",
    "        | _ => acc |> listm.rev\n",
    "    loop [] 0"
   ]
  },
  {
   "cell_type": "code",
   "execution_count": null,
   "metadata": {
    "dotnet_interactive": {
     "language": "spiral"
    },
    "polyglot_notebook": {
     "kernelName": "spiral"
    }
   },
   "outputs": [
    {
     "name": "stdout",
     "output_type": "stream",
     "text": [
      "let rec method0 () : unit =\n",
      "    let v0 : string = $\"__expect / actual: %A{10} / expected: %A{10}\"\n",
      "    ()\n",
      "method0()\n",
      "\n"
     ]
    }
   ],
   "source": [
    "// // test\n",
    "\n",
    "listm.init 10i32 id\n",
    "|> from_list\n",
    "|> take_while (fun n (_ : i32) => n < 5)\n",
    "|> listm'.sum\n",
    "|> _assert_eq 10"
   ]
  },
  {
   "cell_type": "code",
   "execution_count": null,
   "metadata": {
    "dotnet_interactive": {
     "language": "spiral"
    },
    "polyglot_notebook": {
     "kernelName": "spiral"
    }
   },
   "outputs": [
    {
     "name": "stdout",
     "output_type": "stream",
     "text": [
      "let rec method0 () : unit =\n",
      "    printfn $\"print_and_return / x: {0}\"\n",
      "    printfn $\"print_and_return / x: {1}\"\n",
      "    printfn $\"print_and_return / x: {1}\"\n",
      "    printfn $\"print_and_return / x: {2}\"\n",
      "    printfn $\"print_and_return / x: {1}\"\n",
      "    printfn $\"print_and_return / x: {2}\"\n",
      "    printfn $\"print_and_return / x: {3}\"\n",
      "    printfn $\"print_and_return / x: {1}\"\n",
      "    printfn $\"print_and_return / x: {2}\"\n",
      "    printfn $\"print_and_return / x: {3}\"\n",
      "    printfn $\"print_and_return / x: {4}\"\n",
      "    printfn $\"print_and_return / x: {1}\"\n",
      "    printfn $\"print_and_return / x: {2}\"\n",
      "    printfn $\"print_and_return / x: {3}\"\n",
      "    printfn $\"print_and_return / x: {4}\"\n",
      "    printfn $\"print_and_return / x: {5}\"\n",
      "    let v0 : string = $\"__expect / actual: %A{10} / expected: %A{10}\"\n",
      "    ()\n",
      "method0()\n",
      "\n",
      "print_and_return / x: 0\n",
      "print_and_return / x: 1\n",
      "print_and_return / x: 1\n",
      "print_and_return / x: 2\n",
      "print_and_return / x: 1\n",
      "print_and_return / x: 2\n",
      "print_and_return / x: 3\n",
      "print_and_return / x: 1\n",
      "print_and_return / x: 2\n",
      "print_and_return / x: 3\n",
      "print_and_return / x: 4\n",
      "print_and_return / x: 1\n",
      "print_and_return / x: 2\n",
      "print_and_return / x: 3\n",
      "print_and_return / x: 4\n",
      "print_and_return / x: 5\n"
     ]
    }
   ],
   "source": [
    "// // test\n",
    "\n",
    "stream.new_finite_stream print_and_return 10i32\n",
    "|> flip stream.try_item\n",
    "|> take_while (fun n (_ : i32) => n < 5)\n",
    "|> listm'.sum\n",
    "|> _assert_eq 10"
   ]
  },
  {
   "cell_type": "markdown",
   "metadata": {},
   "source": [
    "## take_while_"
   ]
  },
  {
   "cell_type": "code",
   "execution_count": null,
   "metadata": {
    "dotnet_interactive": {
     "language": "spiral"
    },
    "polyglot_notebook": {
     "kernelName": "spiral"
    }
   },
   "outputs": [
    {
     "name": "stdout",
     "output_type": "stream",
     "text": [
      "()\n",
      "\n"
     ]
    }
   ],
   "source": [
    "inl take_while_ cond seq =\n",
    "    let rec loop acc i =\n",
    "        match seq i with\n",
    "        | Some st when cond st i => loop (st :: acc) (i + 1)\n",
    "        | _ => acc |> listm.rev\n",
    "    loop [] 0"
   ]
  },
  {
   "cell_type": "code",
   "execution_count": null,
   "metadata": {
    "dotnet_interactive": {
     "language": "spiral"
    },
    "polyglot_notebook": {
     "kernelName": "spiral"
    }
   },
   "outputs": [
    {
     "name": "stdout",
     "output_type": "stream",
     "text": [
      "type UH0 =\n",
      "    | UH0_0 of int32 * (unit -> UH0)\n",
      "    | UH0_1\n",
      "and UH1 =\n",
      "    | UH1_0 of int32 * UH1\n",
      "    | UH1_1\n",
      "and [<Struct>] US0 =\n",
      "    | US0_0\n",
      "    | US0_1 of f1_0 : int32\n",
      "let rec closure0 (v0 : int32) () : UH0 =\n",
      "    let v1 : int32 = v0 + 1\n",
      "    method1(v1)\n",
      "and method1 (v0 : int32) : UH0 =\n",
      "    printfn $\"print_and_return / x: {v0}\"\n",
      "    let v1 : (unit -> UH0) = closure0(v0)\n",
      "    UH0_0(v0, v1)\n",
      "and method3 (v0 : int32, v1 : UH0) : US0 =\n",
      "    match v1 with\n",
      "    | UH0_0(v2, v3) -> (* StreamCons *)\n",
      "        let v4 : bool = v0 <= 0\n",
      "        if v4 then\n",
      "            US0_1(v2)\n",
      "        else\n",
      "            let v6 : int32 = v0 - 1\n",
      "            let v7 : UH0 = v3 ()\n",
      "            method3(v6, v7)\n",
      "    | UH0_1 -> (* StreamNil *)\n",
      "        US0_0\n",
      "and method4 (v0 : UH1, v1 : UH1) : UH1 =\n",
      "    match v0 with\n",
      "    | UH1_0(v2, v3) -> (* Cons *)\n",
      "        let v4 : UH1 = UH1_0(v2, v1)\n",
      "        method4(v3, v4)\n",
      "    | UH1_1 -> (* Nil *)\n",
      "        v1\n",
      "and method2 (v0 : UH0, v1 : UH1, v2 : int32) : UH1 =\n",
      "    let v3 : US0 = method3(v2, v0)\n",
      "    match v3 with\n",
      "    | US0_1(v4) -> (* Some *)\n",
      "        let v5 : bool = v4 < 5\n",
      "        if v5 then\n",
      "            let v6 : UH1 = UH1_0(v4, v1)\n",
      "            let v7 : int32 = v2 + 1\n",
      "            method2(v0, v6, v7)\n",
      "        else\n",
      "            let v9 : UH1 = UH1_1\n",
      "            method4(v1, v9)\n",
      "    | _ ->\n",
      "        let v12 : UH1 = UH1_1\n",
      "        method4(v1, v12)\n",
      "and method5 (v0 : UH1, v1 : int32) : int32 =\n",
      "    match v0 with\n",
      "    | UH1_0(v2, v3) -> (* Cons *)\n",
      "        let v4 : int32 = v1 + v2\n",
      "        method5(v3, v4)\n",
      "    | UH1_1 -> (* Nil *)\n",
      "        v1\n",
      "and method6 (v0 : bool) : bool =\n",
      "    v0\n",
      "and method0 () : unit =\n",
      "    let v0 : int32 = 0\n",
      "    let v1 : UH0 = method1(v0)\n",
      "    let v2 : UH1 = UH1_1\n",
      "    let v3 : int32 = 0\n",
      "    let v4 : UH1 = method2(v1, v2, v3)\n",
      "    let v5 : int32 = 0\n",
      "    let v6 : int32 = method5(v4, v5)\n",
      "    let v7 : bool = v6 = 10\n",
      "    let v9 : bool =\n",
      "        if v7 then\n",
      "            true\n",
      "        else\n",
      "            method6(v7)\n",
      "    let v10 : string = $\"__expect / actual: %A{v6} / expected: %A{10}\"\n",
      "    let v11 : bool = v9 = false\n",
      "    if v11 then\n",
      "        failwith<unit> v10\n",
      "method0()\n",
      "\n",
      "print_and_return / x: 0\n",
      "print_and_return / x: 1\n",
      "print_and_return / x: 1\n",
      "print_and_return / x: 2\n",
      "print_and_return / x: 1\n",
      "print_and_return / x: 2\n",
      "print_and_return / x: 3\n",
      "print_and_return / x: 1\n",
      "print_and_return / x: 2\n",
      "print_and_return / x: 3\n",
      "print_and_return / x: 4\n",
      "print_and_return / x: 1\n",
      "print_and_return / x: 2\n",
      "print_and_return / x: 3\n",
      "print_and_return / x: 4\n",
      "print_and_return / x: 5\n"
     ]
    }
   ],
   "source": [
    "// // test\n",
    "\n",
    "stream.new_infinite_stream_ print_and_return\n",
    "|> flip stream.try_item\n",
    "|> take_while_ (fun n (_ : i32) => n < 5i32)\n",
    "|> listm'.sum\n",
    "|> _assert_eq 10"
   ]
  },
  {
   "cell_type": "code",
   "execution_count": null,
   "metadata": {
    "dotnet_interactive": {
     "language": "spiral"
    },
    "polyglot_notebook": {
     "kernelName": "spiral"
    }
   },
   "outputs": [
    {
     "name": "stdout",
     "output_type": "stream",
     "text": [
      "type UH0 =\n",
      "    | UH0_0 of int32 * (unit -> UH0)\n",
      "    | UH0_1\n",
      "and [<Struct>] US0 =\n",
      "    | US0_0 of f0_0 : UH0\n",
      "    | US0_1 of f1_0 : (unit -> UH0)\n",
      "and Mut0 = {mutable l0 : US0}\n",
      "and UH1 =\n",
      "    | UH1_0 of int32 * UH1\n",
      "    | UH1_1\n",
      "and [<Struct>] US1 =\n",
      "    | US1_0\n",
      "    | US1_1 of f1_0 : int32\n",
      "let rec closure0 (v0 : int32) () : UH0 =\n",
      "    let v1 : int32 = v0 + 1\n",
      "    method1(v1)\n",
      "and method1 (v0 : int32) : UH0 =\n",
      "    printfn $\"print_and_return / x: {v0}\"\n",
      "    let v1 : (unit -> UH0) = closure0(v0)\n",
      "    UH0_0(v0, v1)\n",
      "and closure1 (v0 : UH0) () : UH0 =\n",
      "    v0\n",
      "and closure2 (v0 : UH0, v1 : Mut0) () : UH0 =\n",
      "    let v2 : US0 = v1.l0\n",
      "    match v2 with\n",
      "    | US0_0(v3) -> (* Computed *)\n",
      "        v3\n",
      "    | US0_1(v4) -> (* NotComputed *)\n",
      "        let v5 : UH0 = v4 ()\n",
      "        let v12 : UH0 =\n",
      "            match v5 with\n",
      "            | UH0_0(v7, v8) -> (* StreamCons *)\n",
      "                let v9 : (unit -> UH0) = method2(v0, v8)\n",
      "                UH0_0(v7, v9)\n",
      "            | UH0_1 -> (* StreamNil *)\n",
      "                UH0_1\n",
      "        let v13 : US0 = US0_0(v12)\n",
      "        v1.l0 <- v13\n",
      "        v12\n",
      "and method2 (v0 : UH0, v1 : (unit -> UH0)) : (unit -> UH0) =\n",
      "    let v2 : US0 = US0_1(v1)\n",
      "    let v3 : Mut0 = {l0 = v2} : Mut0\n",
      "    closure2(v0, v3)\n",
      "and method4 (v0 : int32, v1 : UH0) : US1 =\n",
      "    match v1 with\n",
      "    | UH0_0(v2, v3) -> (* StreamCons *)\n",
      "        let v4 : bool = v0 <= 0\n",
      "        if v4 then\n",
      "            US1_1(v2)\n",
      "        else\n",
      "            let v6 : int32 = v0 - 1\n",
      "            let v7 : UH0 = v3 ()\n",
      "            method4(v6, v7)\n",
      "    | UH0_1 -> (* StreamNil *)\n",
      "        US1_0\n",
      "and method5 (v0 : UH1, v1 : UH1) : UH1 =\n",
      "    match v0 with\n",
      "    | UH1_0(v2, v3) -> (* Cons *)\n",
      "        let v4 : UH1 = UH1_0(v2, v1)\n",
      "        method5(v3, v4)\n",
      "    | UH1_1 -> (* Nil *)\n",
      "        v1\n",
      "and method3 (v0 : UH0, v1 : UH1, v2 : int32) : UH1 =\n",
      "    let v3 : US1 = method4(v2, v0)\n",
      "    match v3 with\n",
      "    | US1_1(v4) -> (* Some *)\n",
      "        let v5 : bool = v4 < 5\n",
      "        if v5 then\n",
      "            let v6 : UH1 = UH1_0(v4, v1)\n",
      "            let v7 : int32 = v2 + 1\n",
      "            method3(v0, v6, v7)\n",
      "        else\n",
      "            let v9 : UH1 = UH1_1\n",
      "            method5(v1, v9)\n",
      "    | _ ->\n",
      "        let v12 : UH1 = UH1_1\n",
      "        method5(v1, v12)\n",
      "and method6 (v0 : UH1, v1 : int32) : int32 =\n",
      "    match v0 with\n",
      "    | UH1_0(v2, v3) -> (* Cons *)\n",
      "        let v4 : int32 = v1 + v2\n",
      "        method6(v3, v4)\n",
      "    | UH1_1 -> (* Nil *)\n",
      "        v1\n",
      "and method7 (v0 : bool) : bool =\n",
      "    v0\n",
      "and method0 () : unit =\n",
      "    let v0 : int32 = 0\n",
      "    let v1 : UH0 = method1(v0)\n",
      "    let v2 : (unit -> UH0) = closure1(v1)\n",
      "    let v3 : (unit -> UH0) = method2(v1, v2)\n",
      "    let v4 : UH0 = v3 ()\n",
      "    let v5 : UH1 = UH1_1\n",
      "    let v6 : int32 = 0\n",
      "    let v7 : UH1 = method3(v4, v5, v6)\n",
      "    let v8 : int32 = 0\n",
      "    let v9 : int32 = method6(v7, v8)\n",
      "    let v10 : bool = v9 = 10\n",
      "    let v12 : bool =\n",
      "        if v10 then\n",
      "            true\n",
      "        else\n",
      "            method7(v10)\n",
      "    let v13 : string = $\"__expect / actual: %A{v9} / expected: %A{10}\"\n",
      "    let v14 : bool = v12 = false\n",
      "    if v14 then\n",
      "        failwith<unit> v13\n",
      "method0()\n",
      "\n",
      "print_and_return / x: 0\n",
      "print_and_return / x: 1\n",
      "print_and_return / x: 2\n",
      "print_and_return / x: 3\n",
      "print_and_return / x: 4\n",
      "print_and_return / x: 5\n"
     ]
    }
   ],
   "source": [
    "// // test\n",
    "\n",
    "stream.new_infinite_stream_ print_and_return\n",
    "|> stream.memoize\n",
    "|> fun list =>\n",
    "    inl list = list ()\n",
    "    fun n =>\n",
    "        list |> stream.try_item n\n",
    "|> take_while_ (fun n (_ : i32) => n < 5i32)\n",
    "|> listm'.sum\n",
    "|> _assert_eq 10"
   ]
  },
  {
   "cell_type": "code",
   "execution_count": null,
   "metadata": {
    "dotnet_interactive": {
     "language": "spiral"
    },
    "polyglot_notebook": {
     "kernelName": "spiral"
    }
   },
   "outputs": [
    {
     "name": "stdout",
     "output_type": "stream",
     "text": [
      "type UH0 =\n",
      "    | UH0_0 of int32 * (unit -> UH0)\n",
      "    | UH0_1\n",
      "and [<Struct>] US0 =\n",
      "    | US0_0 of f0_0 : UH0\n",
      "    | US0_1 of f1_0 : (unit -> UH0)\n",
      "and Mut0 = {mutable l0 : US0}\n",
      "and UH1 =\n",
      "    | UH1_0 of int32 * UH1\n",
      "    | UH1_1\n",
      "and [<Struct>] US1 =\n",
      "    | US1_0\n",
      "    | US1_1 of f1_0 : int32\n",
      "let rec closure10 () () : UH0 =\n",
      "    UH0_1\n",
      "and closure9 () () : UH0 =\n",
      "    printfn $\"print_and_return / x: {9}\"\n",
      "    let v0 : (unit -> UH0) = closure10()\n",
      "    UH0_0(9, v0)\n",
      "and closure8 () () : UH0 =\n",
      "    printfn $\"print_and_return / x: {8}\"\n",
      "    let v0 : (unit -> UH0) = closure9()\n",
      "    UH0_0(8, v0)\n",
      "and closure7 () () : UH0 =\n",
      "    printfn $\"print_and_return / x: {7}\"\n",
      "    let v0 : (unit -> UH0) = closure8()\n",
      "    UH0_0(7, v0)\n",
      "and closure6 () () : UH0 =\n",
      "    printfn $\"print_and_return / x: {6}\"\n",
      "    let v0 : (unit -> UH0) = closure7()\n",
      "    UH0_0(6, v0)\n",
      "and closure5 () () : UH0 =\n",
      "    printfn $\"print_and_return / x: {5}\"\n",
      "    let v0 : (unit -> UH0) = closure6()\n",
      "    UH0_0(5, v0)\n",
      "and closure4 () () : UH0 =\n",
      "    printfn $\"print_and_return / x: {4}\"\n",
      "    let v0 : (unit -> UH0) = closure5()\n",
      "    UH0_0(4, v0)\n",
      "and closure3 () () : UH0 =\n",
      "    printfn $\"print_and_return / x: {3}\"\n",
      "    let v0 : (unit -> UH0) = closure4()\n",
      "    UH0_0(3, v0)\n",
      "and closure2 () () : UH0 =\n",
      "    printfn $\"print_and_return / x: {2}\"\n",
      "    let v0 : (unit -> UH0) = closure3()\n",
      "    UH0_0(2, v0)\n",
      "and closure1 () () : UH0 =\n",
      "    printfn $\"print_and_return / x: {1}\"\n",
      "    let v0 : (unit -> UH0) = closure2()\n",
      "    UH0_0(1, v0)\n",
      "and closure0 () () : UH0 =\n",
      "    let v0 : (unit -> UH0) = closure1()\n",
      "    UH0_0(0, v0)\n",
      "and closure11 (v0 : Mut0) () : UH0 =\n",
      "    let v1 : US0 = v0.l0\n",
      "    match v1 with\n",
      "    | US0_0(v2) -> (* Computed *)\n",
      "        v2\n",
      "    | US0_1(v3) -> (* NotComputed *)\n",
      "        let v4 : UH0 = v3 ()\n",
      "        let v13 : UH0 =\n",
      "            match v4 with\n",
      "            | UH0_0(v6, v7) -> (* StreamCons *)\n",
      "                let v8 : US0 = US0_1(v7)\n",
      "                let v9 : Mut0 = {l0 = v8} : Mut0\n",
      "                let v10 : (unit -> UH0) = closure11(v9)\n",
      "                UH0_0(v6, v10)\n",
      "            | UH0_1 -> (* StreamNil *)\n",
      "                UH0_1\n",
      "        let v14 : US0 = US0_0(v13)\n",
      "        v0.l0 <- v14\n",
      "        v13\n",
      "and method2 (v0 : int32, v1 : UH0) : US1 =\n",
      "    match v1 with\n",
      "    | UH0_0(v2, v3) -> (* StreamCons *)\n",
      "        let v4 : bool = v0 <= 0\n",
      "        if v4 then\n",
      "            US1_1(v2)\n",
      "        else\n",
      "            let v6 : int32 = v0 - 1\n",
      "            let v7 : UH0 = v3 ()\n",
      "            method2(v6, v7)\n",
      "    | UH0_1 -> (* StreamNil *)\n",
      "        US1_0\n",
      "and method3 (v0 : UH1, v1 : UH1) : UH1 =\n",
      "    match v0 with\n",
      "    | UH1_0(v2, v3) -> (* Cons *)\n",
      "        let v4 : UH1 = UH1_0(v2, v1)\n",
      "        method3(v3, v4)\n",
      "    | UH1_1 -> (* Nil *)\n",
      "        v1\n",
      "and method1 (v0 : UH0, v1 : UH1, v2 : int32) : UH1 =\n",
      "    let v3 : US1 = method2(v2, v0)\n",
      "    match v3 with\n",
      "    | US1_1(v4) -> (* Some *)\n",
      "        let v5 : bool = v4 < 5\n",
      "        if v5 then\n",
      "            let v6 : UH1 = UH1_0(v4, v1)\n",
      "            let v7 : int32 = v2 + 1\n",
      "            method1(v0, v6, v7)\n",
      "        else\n",
      "            let v9 : UH1 = UH1_1\n",
      "            method3(v1, v9)\n",
      "    | _ ->\n",
      "        let v12 : UH1 = UH1_1\n",
      "        method3(v1, v12)\n",
      "and method4 (v0 : UH1, v1 : int32) : int32 =\n",
      "    match v0 with\n",
      "    | UH1_0(v2, v3) -> (* Cons *)\n",
      "        let v4 : int32 = v1 + v2\n",
      "        method4(v3, v4)\n",
      "    | UH1_1 -> (* Nil *)\n",
      "        v1\n",
      "and method5 (v0 : bool) : bool =\n",
      "    v0\n",
      "and method0 () : unit =\n",
      "    printfn $\"print_and_return / x: {0}\"\n",
      "    let v0 : (unit -> UH0) = closure0()\n",
      "    let v1 : US0 = US0_1(v0)\n",
      "    let v2 : Mut0 = {l0 = v1} : Mut0\n",
      "    let v3 : US0 = v2.l0\n",
      "    let v18 : UH0 =\n",
      "        match v3 with\n",
      "        | US0_0(v4) -> (* Computed *)\n",
      "            v4\n",
      "        | US0_1(v5) -> (* NotComputed *)\n",
      "            let v6 : UH0 = v5 ()\n",
      "            let v15 : UH0 =\n",
      "                match v6 with\n",
      "                | UH0_0(v8, v9) -> (* StreamCons *)\n",
      "                    let v10 : US0 = US0_1(v9)\n",
      "                    let v11 : Mut0 = {l0 = v10} : Mut0\n",
      "                    let v12 : (unit -> UH0) = closure11(v11)\n",
      "                    UH0_0(v8, v12)\n",
      "                | UH0_1 -> (* StreamNil *)\n",
      "                    UH0_1\n",
      "            let v16 : US0 = US0_0(v15)\n",
      "            v2.l0 <- v16\n",
      "            v15\n",
      "    let v19 : UH1 = UH1_1\n",
      "    let v20 : int32 = 0\n",
      "    let v21 : UH1 = method1(v18, v19, v20)\n",
      "    let v22 : int32 = 0\n",
      "    let v23 : int32 = method4(v21, v22)\n",
      "    let v24 : bool = v23 = 10\n",
      "    let v26 : bool =\n",
      "        if v24 then\n",
      "            true\n",
      "        else\n",
      "            method5(v24)\n",
      "    let v27 : string = $\"__expect / actual: %A{v23} / expected: %A{10}\"\n",
      "    let v28 : bool = v26 = false\n",
      "    if v28 then\n",
      "        failwith<unit> v27\n",
      "method0()\n",
      "\n",
      "print_and_return / x: 0\n",
      "print_and_return / x: 1\n",
      "print_and_return / x: 2\n",
      "print_and_return / x: 3\n",
      "print_and_return / x: 4\n",
      "print_and_return / x: 5\n"
     ]
    }
   ],
   "source": [
    "// // test\n",
    "\n",
    "stream.new_finite_stream print_and_return 10i32\n",
    "|> stream.memoize\n",
    "|> fun list =>\n",
    "    inl list = list ()\n",
    "    fun n =>\n",
    "        list |> stream.try_item n\n",
    "|> take_while_ (fun n (_ : i32) => n < 5)\n",
    "|> listm'.sum\n",
    "|> _assert_eq 10"
   ]
  },
  {
   "cell_type": "markdown",
   "metadata": {},
   "source": [
    "## memoize"
   ]
  },
  {
   "cell_type": "code",
   "execution_count": null,
   "metadata": {
    "dotnet_interactive": {
     "language": "spiral"
    },
    "polyglot_notebook": {
     "kernelName": "spiral"
    }
   },
   "outputs": [
    {
     "name": "stdout",
     "output_type": "stream",
     "text": [
      "()\n",
      "\n"
     ]
    }
   ],
   "source": [
    "inl memoize seq =\n",
    "    inl state = mut []\n",
    "    fun n =>\n",
    "        match *state |> listm'.try_find (fun (n', _) => n' = n) with\n",
    "        | Some (_, v) => v\n",
    "        | None =>\n",
    "            inl new_state = seq n\n",
    "            state <- (n, new_state) :: *state\n",
    "            new_state\n",
    "\n",
    "inl memoize_ seq =\n",
    "    inl state = mut []\n",
    "    fun n =>\n",
    "        match *state |> listm'.try_find_ (fun (n', _) => n' = n) with\n",
    "        | Some (_, v) => v\n",
    "        | None =>\n",
    "            inl new_state = seq n\n",
    "            state <- (n, new_state) :: *state\n",
    "            new_state"
   ]
  },
  {
   "cell_type": "code",
   "execution_count": null,
   "metadata": {
    "dotnet_interactive": {
     "language": "spiral"
    },
    "polyglot_notebook": {
     "kernelName": "spiral"
    }
   },
   "outputs": [
    {
     "name": "stdout",
     "output_type": "stream",
     "text": [
      "type [<Struct>] US0 =\n",
      "    | US0_0\n",
      "    | US0_1 of f1_0 : int32\n",
      "and UH0 =\n",
      "    | UH0_0 of int32 * US0 * UH0\n",
      "    | UH0_1\n",
      "and Mut0 = {mutable l0 : UH0}\n",
      "and UH1 =\n",
      "    | UH1_0 of int32 * UH1\n",
      "    | UH1_1\n",
      "and [<Struct>] US1 =\n",
      "    | US1_0\n",
      "    | US1_1 of f1_0 : int32 * f1_1 : US0\n",
      "let rec method2 (v0 : int32, v1 : UH0) : US1 =\n",
      "    match v1 with\n",
      "    | UH0_0(v3, v4, v5) -> (* Cons *)\n",
      "        let v6 : bool = v3 = v0\n",
      "        if v6 then\n",
      "            US1_1(v3, v4)\n",
      "        else\n",
      "            method2(v0, v5)\n",
      "    | UH0_1 -> (* Nil *)\n",
      "        US1_0\n",
      "and method3 (v0 : UH1, v1 : UH1) : UH1 =\n",
      "    match v0 with\n",
      "    | UH1_0(v2, v3) -> (* Cons *)\n",
      "        let v4 : UH1 = UH1_0(v2, v1)\n",
      "        method3(v3, v4)\n",
      "    | UH1_1 -> (* Nil *)\n",
      "        v1\n",
      "and method1 (v0 : Mut0, v1 : UH1, v2 : int32) : UH1 =\n",
      "    let v3 : UH0 = v0.l0\n",
      "    let v4 : US1 = method2(v2, v3)\n",
      "    let v12 : US0 =\n",
      "        match v4 with\n",
      "        | US1_0 -> (* None *)\n",
      "            printfn $\"print_and_return / x: {v2}\"\n",
      "            let v7 : UH0 = v0.l0\n",
      "            let v8 : US0 = US0_1(v2)\n",
      "            let v9 : UH0 = UH0_0(v2, v8, v7)\n",
      "            v0.l0 <- v9\n",
      "            US0_1(v2)\n",
      "        | US1_1(v5, v6) -> (* Some *)\n",
      "            v6\n",
      "    match v12 with\n",
      "    | US0_1(v13) -> (* Some *)\n",
      "        let v14 : bool = v13 < 5\n",
      "        if v14 then\n",
      "            let v15 : UH1 = UH1_0(v13, v1)\n",
      "            let v16 : int32 = v2 + 1\n",
      "            method1(v0, v15, v16)\n",
      "        else\n",
      "            let v18 : UH1 = UH1_1\n",
      "            method3(v1, v18)\n",
      "    | _ ->\n",
      "        let v21 : UH1 = UH1_1\n",
      "        method3(v1, v21)\n",
      "and method4 (v0 : UH1, v1 : int32) : int32 =\n",
      "    match v0 with\n",
      "    | UH1_0(v2, v3) -> (* Cons *)\n",
      "        let v4 : int32 = v1 + v2\n",
      "        method4(v3, v4)\n",
      "    | UH1_1 -> (* Nil *)\n",
      "        v1\n",
      "and method5 (v0 : bool) : bool =\n",
      "    v0\n",
      "and method6 (v0 : Mut0, v1 : UH1, v2 : int32) : UH1 =\n",
      "    let v3 : UH0 = v0.l0\n",
      "    let v4 : US1 = method2(v2, v3)\n",
      "    let v12 : US0 =\n",
      "        match v4 with\n",
      "        | US1_0 -> (* None *)\n",
      "            printfn $\"print_and_return / x: {v2}\"\n",
      "            let v7 : UH0 = v0.l0\n",
      "            let v8 : US0 = US0_1(v2)\n",
      "            let v9 : UH0 = UH0_0(v2, v8, v7)\n",
      "            v0.l0 <- v9\n",
      "            US0_1(v2)\n",
      "        | US1_1(v5, v6) -> (* Some *)\n",
      "            v6\n",
      "    match v12 with\n",
      "    | US0_1(v13) -> (* Some *)\n",
      "        let v14 : bool = v13 < 5\n",
      "        if v14 then\n",
      "            let v15 : UH1 = UH1_0(v13, v1)\n",
      "            let v16 : int32 = v2 + 1\n",
      "            method6(v0, v15, v16)\n",
      "        else\n",
      "            let v18 : UH1 = UH1_1\n",
      "            method3(v1, v18)\n",
      "    | _ ->\n",
      "        let v21 : UH1 = UH1_1\n",
      "        method3(v1, v21)\n",
      "and method0 () : unit =\n",
      "    let v0 : UH0 = UH0_1\n",
      "    let v1 : Mut0 = {l0 = v0} : Mut0\n",
      "    let v2 : UH1 = UH1_1\n",
      "    let v3 : int32 = 0\n",
      "    let v4 : UH1 = method1(v1, v2, v3)\n",
      "    let v5 : int32 = 0\n",
      "    let v6 : int32 = method4(v4, v5)\n",
      "    let v7 : bool = v6 = 10\n",
      "    let v9 : bool =\n",
      "        if v7 then\n",
      "            true\n",
      "        else\n",
      "            method5(v7)\n",
      "    let v10 : string = $\"__expect / actual: %A{v6} / expected: %A{10}\"\n",
      "    let v11 : bool = v9 = false\n",
      "    if v11 then\n",
      "        failwith<unit> v10\n",
      "    let v12 : UH1 = UH1_1\n",
      "    let v13 : int32 = 0\n",
      "    let v14 : UH1 = method6(v1, v12, v13)\n",
      "    let v15 : int32 = 0\n",
      "    let v16 : int32 = method4(v14, v15)\n",
      "    let v17 : bool = v16 = 10\n",
      "    let v19 : bool =\n",
      "        if v17 then\n",
      "            true\n",
      "        else\n",
      "            method5(v17)\n",
      "    let v20 : string = $\"__expect / actual: %A{v16} / expected: %A{10}\"\n",
      "    let v21 : bool = v19 = false\n",
      "    if v21 then\n",
      "        failwith<unit> v20\n",
      "method0()\n",
      "\n",
      "print_and_return / x: 0\n",
      "print_and_return / x: 1\n",
      "print_and_return / x: 2\n",
      "print_and_return / x: 3\n",
      "print_and_return / x: 4\n",
      "print_and_return / x: 5\n"
     ]
    }
   ],
   "source": [
    "// // test\n",
    "\n",
    "inl seq =\n",
    "    fun n =>\n",
    "        n |> print_and_return |> Some\n",
    "    |> memoize_\n",
    "\n",
    "seq\n",
    "|> take_while_ (fun n (_ : i32) => n < 5)\n",
    "|> listm'.sum\n",
    "|> _assert_eq 10\n",
    "\n",
    "seq\n",
    "|> take_while_ (fun n _ => n < 5)\n",
    "|> listm'.sum\n",
    "|> _assert_eq 10"
   ]
  },
  {
   "cell_type": "markdown",
   "metadata": {},
   "source": [
    "## iterate"
   ]
  },
  {
   "cell_type": "code",
   "execution_count": null,
   "metadata": {
    "dotnet_interactive": {
     "language": "spiral"
    },
    "polyglot_notebook": {
     "kernelName": "spiral"
    }
   },
   "outputs": [
    {
     "name": "stdout",
     "output_type": "stream",
     "text": [
      "()\n",
      "\n"
     ]
    }
   ],
   "source": [
    "inl iterate f x0 num_steps =\n",
    "    inl rec loop x n =\n",
    "        if n <= 0\n",
    "        then x\n",
    "        else loop (f x) (n - 1)\n",
    "    loop x0 num_steps"
   ]
  },
  {
   "cell_type": "code",
   "execution_count": null,
   "metadata": {
    "dotnet_interactive": {
     "language": "spiral"
    },
    "polyglot_notebook": {
     "kernelName": "spiral"
    }
   },
   "outputs": [
    {
     "name": "stdout",
     "output_type": "stream",
     "text": [
      "let rec method0 () : unit =\n",
      "    let v0 : string = $\"__expect / actual: %A{1024} / expected: %A{1024}\"\n",
      "    ()\n",
      "method0()\n",
      "\n"
     ]
    }
   ],
   "source": [
    "// // test\n",
    "\n",
    "10i32 |> iterate ((*) 2) 1i32\n",
    "|> _assert_eq 1024"
   ]
  },
  {
   "cell_type": "code",
   "execution_count": null,
   "metadata": {
    "dotnet_interactive": {
     "language": "spiral"
    },
    "polyglot_notebook": {
     "kernelName": "spiral"
    }
   },
   "outputs": [
    {
     "name": "stdout",
     "output_type": "stream",
     "text": [
      "()\n",
      "\n"
     ]
    }
   ],
   "source": [
    "inl iterate_ f x0 num_steps =\n",
    "    let rec loop x n =\n",
    "        if n <= 0\n",
    "        then x\n",
    "        else loop (f x) (n - 1)\n",
    "    loop x0 num_steps"
   ]
  },
  {
   "cell_type": "code",
   "execution_count": null,
   "metadata": {
    "dotnet_interactive": {
     "language": "spiral"
    },
    "polyglot_notebook": {
     "kernelName": "spiral"
    }
   },
   "outputs": [
    {
     "name": "stdout",
     "output_type": "stream",
     "text": [
      "let rec method1 (v0 : int32, v1 : int32) : int32 =\n",
      "    let v2 : bool = v1 <= 0\n",
      "    if v2 then\n",
      "        v0\n",
      "    else\n",
      "        let v3 : int32 = 2 * v0\n",
      "        let v4 : int32 = v1 - 1\n",
      "        method1(v3, v4)\n",
      "and method2 (v0 : bool) : bool =\n",
      "    v0\n",
      "and method0 () : unit =\n",
      "    let v0 : int32 = 1\n",
      "    let v1 : int32 = 10\n",
      "    let v2 : int32 = method1(v0, v1)\n",
      "    let v3 : bool = v2 = 1024\n",
      "    let v5 : bool =\n",
      "        if v3 then\n",
      "            true\n",
      "        else\n",
      "            method2(v3)\n",
      "    let v6 : string = $\"__expect / actual: %A{v2} / expected: %A{1024}\"\n",
      "    let v7 : bool = v5 = false\n",
      "    if v7 then\n",
      "        failwith<unit> v6\n",
      "method0()\n",
      "\n"
     ]
    }
   ],
   "source": [
    "// // test\n",
    "\n",
    "10i32 |> iterate_ ((*) 2) 1i32\n",
    "|> _assert_eq 1024"
   ]
  },
  {
   "cell_type": "code",
   "execution_count": null,
   "metadata": {
    "dotnet_interactive": {
     "language": "spiral"
    },
    "polyglot_notebook": {
     "kernelName": "spiral"
    }
   },
   "outputs": [
    {
     "name": "stdout",
     "output_type": "stream",
     "text": [
      "()\n",
      "\n"
     ]
    }
   ],
   "source": [
    "inl iterate' f x0 num_steps =\n",
    "    listm.init num_steps id\n",
    "    |> listm.fold (fun x _ => f x) x0"
   ]
  },
  {
   "cell_type": "code",
   "execution_count": null,
   "metadata": {
    "dotnet_interactive": {
     "language": "spiral"
    },
    "polyglot_notebook": {
     "kernelName": "spiral"
    }
   },
   "outputs": [
    {
     "name": "stdout",
     "output_type": "stream",
     "text": [
      "let rec method0 () : unit =\n",
      "    let v0 : string = $\"__expect / actual: %A{1024} / expected: %A{1024}\"\n",
      "    ()\n",
      "method0()\n",
      "\n"
     ]
    }
   ],
   "source": [
    "// // test\n",
    "\n",
    "10i32 |> iterate' ((*) 2) 1i32\n",
    "|> _assert_eq 1024"
   ]
  },
  {
   "cell_type": "markdown",
   "metadata": {},
   "source": [
    "## find_last"
   ]
  },
  {
   "cell_type": "code",
   "execution_count": null,
   "metadata": {
    "dotnet_interactive": {
     "language": "spiral"
    },
    "polyglot_notebook": {
     "kernelName": "spiral"
    }
   },
   "outputs": [
    {
     "name": "stdout",
     "output_type": "stream",
     "text": [
      "()\n",
      "\n"
     ]
    }
   ],
   "source": [
    "inl find_last forall item result. fold_fn fn target : option result =\n",
    "    fold_fn (fun (item : item) (result : option result) =>\n",
    "        match result with\n",
    "        | None => fn item\n",
    "        | result => result\n",
    "    ) target (None : option result)\n",
    "\n",
    "inl array_find_last forall item result. (fn : item -> option result) (target : a i32 item) : option result =\n",
    "    find_last am.foldBack fn target\n",
    "\n",
    "inl list_find_last forall item result. (fn : item -> option result) (target : list item) : option result =\n",
    "    find_last listm.foldBack fn target"
   ]
  }
 ],
 "metadata": {},
 "nbformat": 4,
 "nbformat_minor": 5
}