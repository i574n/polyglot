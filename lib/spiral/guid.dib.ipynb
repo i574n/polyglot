{
 "cells": [
  {
   "cell_type": "markdown",
   "metadata": {},
   "source": [
    "# guid"
   ]
  },
  {
   "cell_type": "code",
   "execution_count": null,
   "metadata": {
    "dotnet_interactive": {
     "language": "spiral"
    },
    "polyglot_notebook": {
     "kernelName": "spiral"
    }
   },
   "outputs": [],
   "source": [
    "//// test\n",
    "\n",
    "open testing"
   ]
  },
  {
   "cell_type": "markdown",
   "metadata": {},
   "source": [
    "## guid"
   ]
  },
  {
   "cell_type": "markdown",
   "metadata": {},
   "source": [
    "### guid"
   ]
  },
  {
   "cell_type": "code",
   "execution_count": null,
   "metadata": {
    "dotnet_interactive": {
     "language": "spiral"
    },
    "polyglot_notebook": {
     "kernelName": "spiral"
    }
   },
   "outputs": [],
   "source": [
    "nominal guid_python =\n",
    "    `(\n",
    "        global \"import uuid\"\n",
    "        $'' : $'uuid.UUID'\n",
    "    )\n",
    "type guid_switch =\n",
    "    {\n",
    "        Fsharp : $'System.Guid'\n",
    "        Python : guid_python\n",
    "    }\n",
    "nominal guid = $'backend_switch `(guid_switch)'"
   ]
  },
  {
   "cell_type": "markdown",
   "metadata": {},
   "source": [
    "### new_guid"
   ]
  },
  {
   "cell_type": "code",
   "execution_count": null,
   "metadata": {
    "dotnet_interactive": {
     "language": "spiral"
    },
    "polyglot_notebook": {
     "kernelName": "spiral"
    }
   },
   "outputs": [],
   "source": [
    "inl new_guid (x : string) : guid =\n",
    "    x |> convert"
   ]
  },
  {
   "cell_type": "markdown",
   "metadata": {},
   "source": [
    "### new_raw_guid"
   ]
  },
  {
   "cell_type": "code",
   "execution_count": null,
   "metadata": {
    "dotnet_interactive": {
     "language": "spiral"
    },
    "polyglot_notebook": {
     "kernelName": "spiral"
    }
   },
   "outputs": [],
   "source": [
    "inl new_raw_guid () : guid =\n",
    "    backend_switch {\n",
    "        Fsharp = fun () => $'System.Guid.NewGuid' () : guid\n",
    "        Python = fun () => $'uuid.uuid4()' : guid\n",
    "    }"
   ]
  },
  {
   "cell_type": "markdown",
   "metadata": {},
   "source": [
    "### hash_guid"
   ]
  },
  {
   "cell_type": "code",
   "execution_count": null,
   "metadata": {
    "dotnet_interactive": {
     "language": "spiral"
    },
    "polyglot_notebook": {
     "kernelName": "spiral"
    }
   },
   "outputs": [],
   "source": [
    "type hash_guid = guid\n",
    "\n",
    "let hash_guid (~hash : string) : hash_guid =\n",
    "    run_target function\n",
    "        | Rust (Contract) => fun () => null ()\n",
    "        | _ => fun () =>\n",
    "            inl hash = hash |> sm'.pad_left 32i32 '0'\n",
    "            backend_switch {\n",
    "                Fsharp = fun () =>\n",
    "                    $'`hash_guid $\"{!hash.[0..7]}-{!hash.[8..11]}-{!hash.[12..15]}-{!hash.[16..19]}-{!hash.[20..31]}\"' : hash_guid\n",
    "                Python = fun () => $'f\"{!hash[0:8]}-{!hash[8:12]}-{!hash[12:16]}-{!hash[16:20]}-{!hash[20:32]}\"' : hash_guid\n",
    "            }"
   ]
  },
  {
   "cell_type": "code",
   "execution_count": null,
   "metadata": {
    "dotnet_interactive": {
     "language": "spiral"
    },
    "polyglot_notebook": {
     "kernelName": "spiral"
    }
   },
   "outputs": [
    {
     "data": {
      "text/plain": [
       "\n",
       ".py output (Cuda):\n",
       "__assert_eq' / actual: 00000000-0000-0000-0000-000000000000 / expected: 00000000-0000-0000-0000-000000000000\n",
       "\u001B[4;7mTraceback (most recent call last):\u001B[0m\n",
       "__assert_eq' / actual: 12345678-9012-3456-7890-123456789012 / expected: 12345678-9012-3456-7890-123456789012\n",
       "\u001B[4;7m  File \"cupy/cuda/stream.pyx\", line 36, in cupy.cuda.stream._ThreadLocal.get\u001B[0m\n",
       "\u001B[4;7mAttributeError: '_thread._local' object has no attribute 'tls'\u001B[0m\n",
       "\u001B[4;7m\u001B[0m\n",
       "\u001B[4;7mDuring handling of the above exception, another exception occurred:\u001B[0m\n",
       "\u001B[4;7m\u001B[0m\n",
       "\u001B[4;7mTraceback (most recent call last):\u001B[0m\n",
       "\u001B[4;7m  File \"/home/runner/work/polyglot/polyglot/target/spiral_Eval/packages/2a624d9e41158d1eaf1cae26c62273d35a36788b40f4a6aaa020223dfd3e93b6/main.py\", line 125, in <module>\u001B[0m\n",
       "\u001B[4;7m    if __name__ == '__main__': result = main(); None if result is None else print(result)\u001B[0m\n",
       "\u001B[4;7m                                        ^^^^^^\u001B[0m\n",
       "\u001B[4;7m  File \"/home/runner/work/polyglot/polyglot/target/spiral_Eval/packages/2a624d9e41158d1eaf1cae26c62273d35a36788b40f4a6aaa020223dfd3e93b6/main.py\", line 122, in main\u001B[0m\n",
       "\u001B[4;7m    cp.cuda.get_current_stream().synchronize() # This line is here so the `__trap()` calls on the kernel aren't missed.\u001B[0m\n",
       "\u001B[4;7m    ^^^^^^^^^^^^^^^^^^^^^^^^^^^^\u001B[0m\n",
       "\u001B[4;7m  File \"cupy/cuda/stream.pyx\", line 87, in cupy.cuda.stream.get_current_stream\u001B[0m\n",
       "\u001B[4;7m  File \"cupy/cuda/stream.pyx\", line 96, in cupy.cuda.stream.get_current_stream\u001B[0m\n",
       "\u001B[4;7m  File \"cupy/cuda/stream.pyx\", line 38, in cupy.cuda.stream._ThreadLocal.get\u001B[0m\n",
       "\u001B[4;7m  File \"cupy/cuda/stream.pyx\", line 24, in cupy.cuda.stream._ThreadLocal.__init__\u001B[0m\n",
       "\u001B[4;7m  File \"cupy_backends/cuda/api/runtime.pyx\", line 393, in cupy_backends.cuda.api.runtime.getDeviceCount\u001B[0m\n",
       "\u001B[4;7m  File \"cupy_backends/cuda/api/runtime.pyx\", line 146, in cupy_backends.cuda.api.runtime.check_status\u001B[0m\n",
       "\u001B[4;7mcupy_backends.cuda.api.runtime.CUDARuntimeError: cudaErrorInsufficientDriver: CUDA driver version is insufficient for CUDA runtime version\u001B[0m\n",
       "\n",
       "\n",
       ".rs output:\n",
       "__assert_eq' / actual: Guid(00000000-0000-0000-0000-000000000000) / expected: Guid(00000000-0000-0000-0000-000000000000)\n",
       "__assert_eq' / actual: Guid(12345678-9012-3456-7890-123456789012) / expected: Guid(12345678-9012-3456-7890-123456789012)\n",
       "\n",
       "\n",
       ".ts output:\n",
       "__assert_eq' / actual: 00000000-0000-0000-0000-000000000000 / expected: 00000000-0000-0000-0000-000000000000\n",
       "__assert_eq' / actual: 12345678-9012-3456-7890-123456789012 / expected: 12345678-9012-3456-7890-123456789012\n",
       "\n",
       "\n",
       ".py output:\n",
       "__assert_eq' / actual: 00000000-0000-0000-0000-000000000000 / expected: 00000000-0000-0000-0000-000000000000\n",
       "__assert_eq' / actual: 12345678-9012-3456-7890-123456789012 / expected: 12345678-9012-3456-7890-123456789012\n",
       "\n",
       "\n"
      ]
     },
     "metadata": {},
     "output_type": "display_data"
    },
    {
     "name": "stdout",
     "output_type": "stream",
     "text": [
      ".fsx output:\n",
      "__assert_eq' / actual: 00000000-0000-0000-0000-000000000000 / expected: 00000000-0000-0000-0000-000000000000\n",
      "__assert_eq' / actual: 12345678-9012-3456-7890-123456789012 / expected: 12345678-9012-3456-7890-123456789012\n"
     ]
    }
   ],
   "source": [
    "//// test\n",
    "///! fsharp\n",
    "///! cuda\n",
    "///! rust\n",
    "///! typescript\n",
    "///! python\n",
    "\n",
    "\"\"\n",
    "|> hash_guid\n",
    "|> _assert_eq' (new_guid \"00000000-0000-0000-0000-000000000000\")\n",
    "\n",
    "\"123456789012345678901234567890123\"\n",
    "|> hash_guid\n",
    "|> _assert_eq' (new_guid \"12345678-9012-3456-7890-123456789012\")"
   ]
  },
  {
   "cell_type": "markdown",
   "metadata": {},
   "source": [
    "## main"
   ]
  },
  {
   "cell_type": "code",
   "execution_count": null,
   "metadata": {
    "dotnet_interactive": {
     "language": "spiral"
    },
    "polyglot_notebook": {
     "kernelName": "spiral"
    }
   },
   "outputs": [],
   "source": [
    "inl main () =\n",
    "    $'let new_guid x = !new_guid x' : ()\n",
    "    $'let hash_guid x = !hash_guid x' : ()\n",
    "    $'let new_raw_guid x = !new_raw_guid x' : ()"
   ]
  }
 ],
 "metadata": {},
 "nbformat": 4,
 "nbformat_minor": 5
}