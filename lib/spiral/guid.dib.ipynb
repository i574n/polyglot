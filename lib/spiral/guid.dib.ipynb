{
 "cells": [
  {
   "cell_type": "markdown",
   "metadata": {},
   "source": [
    "# guid"
   ]
  },
  {
   "cell_type": "code",
   "execution_count": null,
   "metadata": {
    "dotnet_interactive": {
     "language": "spiral"
    },
    "polyglot_notebook": {
     "kernelName": "spiral"
    }
   },
   "outputs": [],
   "source": [
    "//// test\n",
    "\n",
    "open testing"
   ]
  },
  {
   "cell_type": "markdown",
   "metadata": {},
   "source": [
    "## guid"
   ]
  },
  {
   "cell_type": "markdown",
   "metadata": {},
   "source": [
    "### guid"
   ]
  },
  {
   "cell_type": "code",
   "execution_count": null,
   "metadata": {
    "dotnet_interactive": {
     "language": "spiral"
    },
    "polyglot_notebook": {
     "kernelName": "spiral"
    }
   },
   "outputs": [],
   "source": [
    "nominal guid_python =\n",
    "    `(\n",
    "        global \"import uuid\"\n",
    "        $'' : $'uuid.UUID'\n",
    "    )\n",
    "type guid_switch =\n",
    "    {\n",
    "        Fsharp : $'System.Guid'\n",
    "        Python : guid_python\n",
    "    }\n",
    "nominal guid = $'backend_switch `(guid_switch)'"
   ]
  },
  {
   "cell_type": "markdown",
   "metadata": {},
   "source": [
    "### new_guid"
   ]
  },
  {
   "cell_type": "code",
   "execution_count": null,
   "metadata": {
    "dotnet_interactive": {
     "language": "spiral"
    },
    "polyglot_notebook": {
     "kernelName": "spiral"
    }
   },
   "outputs": [],
   "source": [
    "inl new_guid (x : string) : guid =\n",
    "    run_target_args (fun () => x) function\n",
    "        | Rust (Contract) => fun _ => null ()\n",
    "        | _ => fun x => x |> convert"
   ]
  },
  {
   "cell_type": "markdown",
   "metadata": {},
   "source": [
    "### new_raw_guid"
   ]
  },
  {
   "cell_type": "code",
   "execution_count": null,
   "metadata": {
    "dotnet_interactive": {
     "language": "spiral"
    },
    "polyglot_notebook": {
     "kernelName": "spiral"
    }
   },
   "outputs": [],
   "source": [
    "inl new_raw_guid () : guid =\n",
    "    backend_switch {\n",
    "        Fsharp = fun () => $'System.Guid.NewGuid' () : guid\n",
    "        Python = fun () => $'uuid.uuid4()' : guid\n",
    "    }"
   ]
  },
  {
   "cell_type": "markdown",
   "metadata": {},
   "source": [
    "### hash_guid"
   ]
  },
  {
   "cell_type": "code",
   "execution_count": null,
   "metadata": {
    "dotnet_interactive": {
     "language": "spiral"
    },
    "polyglot_notebook": {
     "kernelName": "spiral"
    }
   },
   "outputs": [],
   "source": [
    "type hash_guid = guid\n",
    "\n",
    "let hash_guid (hash : string) : hash_guid =\n",
    "    run_target_args (fun () => hash) function\n",
    "        | Rust (Contract) => fun _ => null ()\n",
    "        | _ => fun hash =>\n",
    "            inl hash = hash |> sm'.pad_left 32i32 '0'\n",
    "            inl a = hash |> sm'.range (am'.Start 0i32) (am'.End fun _ => 8)\n",
    "            inl b = hash |> sm'.range (am'.Start 8i32) (am'.End fun _ => 12)\n",
    "            inl c = hash |> sm'.range (am'.Start 12i32) (am'.End fun _ => 16)\n",
    "            inl d = hash |> sm'.range (am'.Start 16i32) (am'.End fun _ => 20)\n",
    "            inl e = hash |> sm'.range (am'.Start 20i32) (am'.End fun _ => 32)\n",
    "            $'$\"{!a}-{!b}-{!c}-{!d}-{!e}\"' |> new_guid"
   ]
  },
  {
   "cell_type": "code",
   "execution_count": null,
   "metadata": {
    "dotnet_interactive": {
     "language": "spiral"
    },
    "polyglot_notebook": {
     "kernelName": "spiral"
    }
   },
   "outputs": [
    {
     "data": {
      "text/plain": [
       "\n",
       ".py output (Cuda):\n",
       "__assert_eq' / actual: 00000000-0000-0000-0000-000000000000 / expected: 00000000-0000-0000-0000-000000000000\n",
       "__assert_eq' / actual: 12345678-9012-3456-7890-123456789012 / expected: 12345678-9012-3456-7890-123456789012\n",
       "\n",
       "\n",
       ".rs output:\n",
       "__assert_eq' / actual: Guid(00000000-0000-0000-0000-000000000000) / expected: Guid(00000000-0000-0000-0000-000000000000)\n",
       "__assert_eq' / actual: Guid(12345678-9012-3456-7890-123456789012) / expected: Guid(12345678-9012-3456-7890-123456789012)\n",
       "\n",
       "\n",
       ".ts output:\n",
       "__assert_eq' / actual: 00000000-0000-0000-0000-000000000000 / expected: 00000000-0000-0000-0000-000000000000\n",
       "__assert_eq' / actual: 12345678-9012-3456-7890-123456789012 / expected: 12345678-9012-3456-7890-123456789012\n",
       "\n",
       "\n",
       ".py output:\n",
       "__assert_eq' / actual: 00000000-0000-0000-0000-000000000000 / expected: 00000000-0000-0000-0000-000000000000\n",
       "__assert_eq' / actual: 12345678-9012-3456-7890-123456789012 / expected: 12345678-9012-3456-7890-123456789012\n",
       "\n",
       "\n"
      ]
     },
     "metadata": {},
     "output_type": "display_data"
    },
    {
     "name": "stdout",
     "output_type": "stream",
     "text": [
      ".fsx output:\n",
      "__assert_eq' / actual: 00000000-0000-0000-0000-000000000000 / expected: 00000000-0000-0000-0000-000000000000\n",
      "__assert_eq' / actual: 12345678-9012-3456-7890-123456789012 / expected: 12345678-9012-3456-7890-123456789012\n"
     ]
    }
   ],
   "source": [
    "//// test\n",
    "///! fsharp\n",
    "///! cuda\n",
    "///! rust\n",
    "///! typescript\n",
    "///! python\n",
    "\n",
    "\"\"\n",
    "|> hash_guid\n",
    "|> _assert_eq' (new_guid \"00000000-0000-0000-0000-000000000000\")\n",
    "\n",
    "\"123456789012345678901234567890123\"\n",
    "|> hash_guid\n",
    "|> _assert_eq' (new_guid \"12345678-9012-3456-7890-123456789012\")"
   ]
  },
  {
   "cell_type": "markdown",
   "metadata": {},
   "source": [
    "## main"
   ]
  },
  {
   "cell_type": "code",
   "execution_count": null,
   "metadata": {
    "dotnet_interactive": {
     "language": "spiral"
    },
    "polyglot_notebook": {
     "kernelName": "spiral"
    }
   },
   "outputs": [],
   "source": [
    "inl main () =\n",
    "    $'let new_guid x = !new_guid x' : ()\n",
    "    $'let hash_guid x = !hash_guid x' : ()\n",
    "    $'let new_raw_guid x = !new_raw_guid x' : ()"
   ]
  }
 ],
 "metadata": {},
 "nbformat": 4,
 "nbformat_minor": 5
}