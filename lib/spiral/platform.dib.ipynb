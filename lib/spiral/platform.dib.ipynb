{
 "cells": [
  {
   "cell_type": "markdown",
   "metadata": {},
   "source": [
    "# platform"
   ]
  },
  {
   "cell_type": "code",
   "execution_count": null,
   "metadata": {
    "dotnet_interactive": {
     "language": "spiral"
    },
    "polyglot_notebook": {
     "kernelName": "spiral"
    }
   },
   "outputs": [],
   "source": [
    "open rust.rust_operators"
   ]
  },
  {
   "cell_type": "code",
   "execution_count": null,
   "metadata": {
    "dotnet_interactive": {
     "language": "spiral"
    },
    "polyglot_notebook": {
     "kernelName": "spiral"
    }
   },
   "outputs": [],
   "source": [
    "//// test\n",
    "\n",
    "open testing"
   ]
  },
  {
   "cell_type": "markdown",
   "metadata": {},
   "source": [
    "## fsharp"
   ]
  },
  {
   "cell_type": "markdown",
   "metadata": {},
   "source": [
    "### os_platform"
   ]
  },
  {
   "cell_type": "code",
   "execution_count": null,
   "metadata": {
    "dotnet_interactive": {
     "language": "spiral"
    },
    "polyglot_notebook": {
     "kernelName": "spiral"
    }
   },
   "outputs": [],
   "source": [
    "nominal os_platform' = $'System.Runtime.InteropServices.OSPlatform'\n",
    "\n",
    "union os_platform =\n",
    "    | FreeBSD\n",
    "    | Linux\n",
    "    | OSX\n",
    "    | Windows\n",
    "\n",
    "inl os_platform = function\n",
    "    | FreeBSD => $'`os_platform'.FreeBSD' : os_platform'\n",
    "    | Linux => $'`os_platform'.Linux' : os_platform'\n",
    "    | OSX => $'`os_platform'.OSX' : os_platform'\n",
    "    | Windows => $'`os_platform'.Windows' : os_platform'"
   ]
  },
  {
   "cell_type": "markdown",
   "metadata": {},
   "source": [
    "### run_platform"
   ]
  },
  {
   "cell_type": "code",
   "execution_count": null,
   "metadata": {
    "dotnet_interactive": {
     "language": "spiral"
    },
    "polyglot_notebook": {
     "kernelName": "spiral"
    }
   },
   "outputs": [],
   "source": [
    "inl run_platform forall t. (fn : os_platform -> (() -> t)) : t =\n",
    "    inl result = dyn true\n",
    "    $'let mutable _run_platform_!result : `t option = None '\n",
    "    $'\\n#if _FREEBSD'\n",
    "    fn FreeBSD () |> emit_unit\n",
    "    $'#endif\\n#if _LINUX'\n",
    "    fn Linux () |> emit_unit\n",
    "    $'#endif\\n#if _OSX'\n",
    "    fn OSX () |> emit_unit\n",
    "    $'#endif\\n#if _WINDOWS'\n",
    "    fn Windows () |> emit_unit\n",
    "    $'#endif'\n",
    "    $'|> fun x -> _run_platform_!result <- Some x'\n",
    "    $'match _run_platform_!result with Some x -> x | None -> failwith \"runtime.run_platform / _run_platform_!result=None\"'"
   ]
  },
  {
   "cell_type": "markdown",
   "metadata": {},
   "source": [
    "### is_os_platform"
   ]
  },
  {
   "cell_type": "code",
   "execution_count": null,
   "metadata": {
    "dotnet_interactive": {
     "language": "spiral"
    },
    "polyglot_notebook": {
     "kernelName": "spiral"
    }
   },
   "outputs": [],
   "source": [
    "inl is_os_platform (x : os_platform') : bool =\n",
    "    x |> $'System.Runtime.InteropServices.RuntimeInformation.IsOSPlatform'"
   ]
  },
  {
   "cell_type": "markdown",
   "metadata": {},
   "source": [
    "### is_windows'"
   ]
  },
  {
   "cell_type": "code",
   "execution_count": null,
   "metadata": {
    "dotnet_interactive": {
     "language": "spiral"
    },
    "polyglot_notebook": {
     "kernelName": "spiral"
    }
   },
   "outputs": [],
   "source": [
    "inl is_windows' () : bool =\n",
    "    run_platform function\n",
    "        | Windows => fun () => true\n",
    "        | _ => fun () => false"
   ]
  },
  {
   "cell_type": "markdown",
   "metadata": {},
   "source": [
    "## platform"
   ]
  },
  {
   "cell_type": "markdown",
   "metadata": {},
   "source": [
    "### is_windows"
   ]
  },
  {
   "cell_type": "code",
   "execution_count": null,
   "metadata": {
    "dotnet_interactive": {
     "language": "spiral"
    },
    "polyglot_notebook": {
     "kernelName": "spiral"
    }
   },
   "outputs": [],
   "source": [
    "inl is_windows () : bool =\n",
    "    run_target function\n",
    "        | Rust _ => fun () =>\n",
    "            !\\($'\"cfg\\!(windows)\"')\n",
    "        | Fsharp _ => fun () =>\n",
    "            Windows |> os_platform |> is_os_platform\n",
    "        | target => fun () => failwith $'$\"platform.is_windows / target: {!target}\"'"
   ]
  },
  {
   "cell_type": "markdown",
   "metadata": {},
   "source": [
    "### get_executable_suffix"
   ]
  },
  {
   "cell_type": "code",
   "execution_count": null,
   "metadata": {
    "dotnet_interactive": {
     "language": "spiral"
    },
    "polyglot_notebook": {
     "kernelName": "spiral"
    }
   },
   "outputs": [],
   "source": [
    "inl get_executable_suffix () =\n",
    "    if is_windows ()\n",
    "    then \".exe\"\n",
    "    else \"\""
   ]
  },
  {
   "cell_type": "code",
   "execution_count": null,
   "metadata": {
    "dotnet_interactive": {
     "language": "spiral"
    },
    "polyglot_notebook": {
     "kernelName": "spiral"
    }
   },
   "outputs": [
    {
     "data": {
      "text/plain": []
     },
     "metadata": {},
     "output_type": "display_data"
    }
   ],
   "source": [
    "//// test\n",
    "\n",
    "get_executable_suffix ()"
   ]
  },
  {
   "cell_type": "markdown",
   "metadata": {},
   "source": [
    "## main"
   ]
  },
  {
   "cell_type": "code",
   "execution_count": null,
   "metadata": {
    "dotnet_interactive": {
     "language": "spiral"
    },
    "polyglot_notebook": {
     "kernelName": "spiral"
    }
   },
   "outputs": [],
   "source": [
    "inl main () =\n",
    "    $'let is_windows () = !is_windows ()' : ()\n",
    "    $'let get_executable_suffix () = !get_executable_suffix ()' : ()"
   ]
  }
 ],
 "metadata": {},
 "nbformat": 4,
 "nbformat_minor": 5
}