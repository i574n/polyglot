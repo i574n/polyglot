{
 "cells": [
  {
   "cell_type": "markdown",
   "metadata": {},
   "source": [
    "# math"
   ]
  },
  {
   "cell_type": "code",
   "execution_count": null,
   "metadata": {
    "dotnet_interactive": {
     "language": "spiral"
    },
    "polyglot_notebook": {
     "kernelName": "spiral"
    }
   },
   "outputs": [
    {
     "name": "stdout",
     "output_type": "stream",
     "text": [
      "()\n",
      "\n"
     ]
    }
   ],
   "source": [
    "// // test\n",
    "\n",
    "open testing"
   ]
  },
  {
   "cell_type": "code",
   "execution_count": null,
   "metadata": {
    "dotnet_interactive": {
     "language": "spiral"
    },
    "polyglot_notebook": {
     "kernelName": "spiral"
    }
   },
   "outputs": [
    {
     "name": "stdout",
     "output_type": "stream",
     "text": [
      "let rec method0 () : unit =\n",
      "    let v0 : string = $\"%A{3.1622776601683795}\"\n",
      "    System.Console.WriteLine v0\n",
      "    let v1 : string = $\"__expect / actual: %A{3.1622776601683795} / expected: %A{3.1622776601683795}\"\n",
      "    ()\n",
      "method0()\n",
      "\n",
      "3.16227766\n"
     ]
    }
   ],
   "source": [
    "// // test\n",
    "\n",
    "2 * 2 / 0.4f64 |> sqrt\n",
    "|> _assert_approx_eq None 3.1622776601683795"
   ]
  },
  {
   "cell_type": "code",
   "execution_count": null,
   "metadata": {
    "dotnet_interactive": {
     "language": "spiral"
    },
    "polyglot_notebook": {
     "kernelName": "spiral"
    }
   },
   "outputs": [
    {
     "name": "stdout",
     "output_type": "stream",
     "text": [
      "let rec method0 () : unit =\n",
      "    let v0 : string = $\"%A{0.6666666666666666}\"\n",
      "    System.Console.WriteLine v0\n",
      "    let v1 : string = $\"__expect / actual: %A{0.6666666666666666} / expected: %A{0.6666666666666666}\"\n",
      "    ()\n",
      "method0()\n",
      "\n",
      "0.6666666667\n"
     ]
    }
   ],
   "source": [
    "// // test\n",
    "\n",
    "2f64 / 3\n",
    "|> _assert_approx_eq None 0.6666666666666666"
   ]
  },
  {
   "cell_type": "code",
   "execution_count": null,
   "metadata": {
    "dotnet_interactive": {
     "language": "spiral"
    },
    "polyglot_notebook": {
     "kernelName": "spiral"
    }
   },
   "outputs": [
    {
     "name": "stdout",
     "output_type": "stream",
     "text": [
      "let rec method0 () : unit =\n",
      "    let v0 : string = $\"%A{0.6931471805599453}\"\n",
      "    System.Console.WriteLine v0\n",
      "    let v1 : string = $\"__expect / actual: %A{0.6931471805599453} / expected: %A{0.6931471805599453}\"\n",
      "    ()\n",
      "method0()\n",
      "\n",
      "0.6931471806\n"
     ]
    }
   ],
   "source": [
    "// // test\n",
    "\n",
    "2f64 |> log\n",
    "|> _assert_approx_eq None 0.6931471805599453"
   ]
  },
  {
   "cell_type": "code",
   "execution_count": null,
   "metadata": {
    "dotnet_interactive": {
     "language": "spiral"
    },
    "polyglot_notebook": {
     "kernelName": "spiral"
    }
   },
   "outputs": [
    {
     "name": "stdout",
     "output_type": "stream",
     "text": [
      "let rec method0 () : unit =\n",
      "    let v0 : string = $\"%A{3.141592653589793}\"\n",
      "    System.Console.WriteLine v0\n",
      "    let v1 : string = $\"__expect / actual: %A{3.141592653589793} / expected: %A{3.141592653589793}\"\n",
      "    ()\n",
      "method0()\n",
      "\n",
      "3.141592654\n"
     ]
    }
   ],
   "source": [
    "// // test\n",
    "\n",
    "pi\n",
    "|> _assert_approx_eq None 3.141592653589793f64"
   ]
  },
  {
   "cell_type": "code",
   "execution_count": null,
   "metadata": {
    "dotnet_interactive": {
     "language": "spiral"
    },
    "polyglot_notebook": {
     "kernelName": "spiral"
    }
   },
   "outputs": [
    {
     "name": "stdout",
     "output_type": "stream",
     "text": [
      "let rec method0 () : unit =\n",
      "    let v0 : string = $\"%A{-1.0}\"\n",
      "    System.Console.WriteLine v0\n",
      "    let v1 : string = $\"__expect / actual: %A{-1.0} / expected: %A{-1.0}\"\n",
      "    ()\n",
      "method0()\n",
      "\n",
      "-1.0\n"
     ]
    }
   ],
   "source": [
    "// // test\n",
    "\n",
    "pi |> cos\n",
    "|> _assert_eq -1f64"
   ]
  },
  {
   "cell_type": "code",
   "execution_count": null,
   "metadata": {
    "dotnet_interactive": {
     "language": "spiral"
    },
    "polyglot_notebook": {
     "kernelName": "spiral"
    }
   },
   "outputs": [
    {
     "name": "stdout",
     "output_type": "stream",
     "text": [
      "let rec method0 () : unit =\n",
      "    let v0 : string = $\"%A{-0.5}\"\n",
      "    System.Console.WriteLine v0\n",
      "    let v1 : string = $\"__expect / actual: %A{-0.5} / expected: %A{-0.5}\"\n",
      "    ()\n",
      "method0()\n",
      "\n",
      "-0.5\n"
     ]
    }
   ],
   "source": [
    "// // test\n",
    "\n",
    "pi\n",
    "|> cos\n",
    "|> fun n => n / 2f64\n",
    "|> _assert_approx_eq None -0.5"
   ]
  },
  {
   "cell_type": "code",
   "execution_count": null,
   "metadata": {
    "dotnet_interactive": {
     "language": "spiral"
    },
    "polyglot_notebook": {
     "kernelName": "spiral"
    }
   },
   "outputs": [
    {
     "name": "stdout",
     "output_type": "stream",
     "text": [
      "let rec method0 () : unit =\n",
      "    let v0 : string = $\"%A{6.123233995736766E-17}\"\n",
      "    System.Console.WriteLine v0\n",
      "    let v1 : string = $\"__expect / actual: %A{6.123233995736766E-17} / expected: %A{6.123233995736766E-17}\"\n",
      "    ()\n",
      "method0()\n",
      "\n",
      "6.123233996e-17\n"
     ]
    }
   ],
   "source": [
    "// // test\n",
    "\n",
    "pi / 2 |> cos\n",
    "|> _assert_approx_eq None 0.00000000000000006123233995736766f64"
   ]
  },
  {
   "cell_type": "markdown",
   "metadata": {},
   "source": [
    "## atan2"
   ]
  },
  {
   "cell_type": "code",
   "execution_count": null,
   "metadata": {
    "dotnet_interactive": {
     "language": "spiral"
    },
    "polyglot_notebook": {
     "kernelName": "spiral"
    }
   },
   "outputs": [
    {
     "name": "stdout",
     "output_type": "stream",
     "text": [
      "()\n",
      "\n"
     ]
    }
   ],
   "source": [
    "inl atan2 (y : f64) (x : f64) =\n",
    "    $\"System.Math.Atan2 (!y, !x)\" : f64"
   ]
  },
  {
   "cell_type": "code",
   "execution_count": null,
   "metadata": {
    "dotnet_interactive": {
     "language": "spiral"
    },
    "polyglot_notebook": {
     "kernelName": "spiral"
    }
   },
   "outputs": [
    {
     "name": "stdout",
     "output_type": "stream",
     "text": [
      "let rec method1 (v0 : bool) : bool =\n",
      "    v0\n",
      "and method0 () : unit =\n",
      "    let v0 : float = System.Math.Atan2 (1.0, 0.0)\n",
      "    let v1 : string = $\"%A{v0}\"\n",
      "    System.Console.WriteLine v1\n",
      "    let v2 : bool = v0 = 1.5707963267948966\n",
      "    let v4 : bool =\n",
      "        if v2 then\n",
      "            true\n",
      "        else\n",
      "            method1(v2)\n",
      "    let v5 : string = $\"__expect / actual: %A{v0} / expected: %A{1.5707963267948966}\"\n",
      "    let v6 : bool = v4 = false\n",
      "    if v6 then\n",
      "        failwith<unit> v5\n",
      "method0()\n",
      "\n",
      "1.570796327\n"
     ]
    }
   ],
   "source": [
    "// // test\n",
    "\n",
    "0 |> atan2 1\n",
    "|> _assert_eq 1.5707963267948966"
   ]
  },
  {
   "cell_type": "markdown",
   "metadata": {},
   "source": [
    "## e"
   ]
  },
  {
   "cell_type": "code",
   "execution_count": null,
   "metadata": {
    "dotnet_interactive": {
     "language": "spiral"
    },
    "polyglot_notebook": {
     "kernelName": "spiral"
    }
   },
   "outputs": [
    {
     "name": "stdout",
     "output_type": "stream",
     "text": [
      "()\n",
      "\n"
     ]
    }
   ],
   "source": [
    "inl e () =\n",
    "    exp 1f64"
   ]
  },
  {
   "cell_type": "markdown",
   "metadata": {},
   "source": [
    "## floor"
   ]
  },
  {
   "cell_type": "code",
   "execution_count": null,
   "metadata": {
    "dotnet_interactive": {
     "language": "spiral"
    },
    "polyglot_notebook": {
     "kernelName": "spiral"
    }
   },
   "outputs": [
    {
     "name": "stdout",
     "output_type": "stream",
     "text": [
      "()\n",
      "\n"
     ]
    }
   ],
   "source": [
    "inl floor forall t {float}. (n : t) : t =\n",
    "    n |> $'floor'"
   ]
  },
  {
   "cell_type": "code",
   "execution_count": null,
   "metadata": {
    "dotnet_interactive": {
     "language": "spiral"
    },
    "polyglot_notebook": {
     "kernelName": "spiral"
    }
   },
   "outputs": [
    {
     "name": "stdout",
     "output_type": "stream",
     "text": [
      "let rec method1 (v0 : bool) : bool =\n",
      "    v0\n",
      "and method0 () : unit =\n",
      "    let v0 : (float -> float) = floor\n",
      "    let v1 : float = v0 0.6\n",
      "    let v2 : string = $\"%A{v1}\"\n",
      "    System.Console.WriteLine v2\n",
      "    let v3 : bool = v1 = 0.0\n",
      "    let v5 : bool =\n",
      "        if v3 then\n",
      "            true\n",
      "        else\n",
      "            method1(v3)\n",
      "    let v6 : string = $\"__expect / actual: %A{v1} / expected: %A{0.0}\"\n",
      "    let v7 : bool = v5 = false\n",
      "    if v7 then\n",
      "        failwith<unit> v6\n",
      "method0()\n",
      "\n",
      "0.0\n"
     ]
    }
   ],
   "source": [
    "// // test\n",
    "\n",
    "0.6 |> floor\n",
    "|> _assert_eq 0f64"
   ]
  },
  {
   "cell_type": "markdown",
   "metadata": {},
   "source": [
    "## ceil"
   ]
  },
  {
   "cell_type": "code",
   "execution_count": null,
   "metadata": {
    "dotnet_interactive": {
     "language": "spiral"
    },
    "polyglot_notebook": {
     "kernelName": "spiral"
    }
   },
   "outputs": [
    {
     "name": "stdout",
     "output_type": "stream",
     "text": [
      "()\n",
      "\n"
     ]
    }
   ],
   "source": [
    "inl ceil forall t {float}. (n : t) : t =\n",
    "    n |> $'ceil'"
   ]
  },
  {
   "cell_type": "code",
   "execution_count": null,
   "metadata": {
    "dotnet_interactive": {
     "language": "spiral"
    },
    "polyglot_notebook": {
     "kernelName": "spiral"
    }
   },
   "outputs": [
    {
     "name": "stdout",
     "output_type": "stream",
     "text": [
      "let rec method1 (v0 : bool) : bool =\n",
      "    v0\n",
      "and method0 () : unit =\n",
      "    let v0 : (float -> float) = ceil\n",
      "    let v1 : float = v0 0.6\n",
      "    let v2 : string = $\"%A{v1}\"\n",
      "    System.Console.WriteLine v2\n",
      "    let v3 : bool = v1 = 1.0\n",
      "    let v5 : bool =\n",
      "        if v3 then\n",
      "            true\n",
      "        else\n",
      "            method1(v3)\n",
      "    let v6 : string = $\"__expect / actual: %A{v1} / expected: %A{1.0}\"\n",
      "    let v7 : bool = v5 = false\n",
      "    if v7 then\n",
      "        failwith<unit> v6\n",
      "method0()\n",
      "\n",
      "1.0\n"
     ]
    }
   ],
   "source": [
    "// // test\n",
    "\n",
    "0.6 |> ceil\n",
    "|> _assert_eq 1f64"
   ]
  },
  {
   "cell_type": "markdown",
   "metadata": {},
   "source": [
    "## round"
   ]
  },
  {
   "cell_type": "code",
   "execution_count": null,
   "metadata": {
    "dotnet_interactive": {
     "language": "spiral"
    },
    "polyglot_notebook": {
     "kernelName": "spiral"
    }
   },
   "outputs": [
    {
     "name": "stdout",
     "output_type": "stream",
     "text": [
      "()\n",
      "\n"
     ]
    }
   ],
   "source": [
    "inl round forall t {float}. (n : t) : t =\n",
    "    n |> $'round'"
   ]
  },
  {
   "cell_type": "code",
   "execution_count": null,
   "metadata": {
    "dotnet_interactive": {
     "language": "spiral"
    },
    "polyglot_notebook": {
     "kernelName": "spiral"
    }
   },
   "outputs": [
    {
     "name": "stdout",
     "output_type": "stream",
     "text": [
      "let rec method1 (v0 : bool) : bool =\n",
      "    v0\n",
      "and method0 () : unit =\n",
      "    let v0 : (float -> float) = round\n",
      "    let v1 : float = v0 0.5\n",
      "    let v2 : string = $\"%A{v1}\"\n",
      "    System.Console.WriteLine v2\n",
      "    let v3 : bool = v1 = 0.0\n",
      "    let v5 : bool =\n",
      "        if v3 then\n",
      "            true\n",
      "        else\n",
      "            method1(v3)\n",
      "    let v6 : string = $\"__expect / actual: %A{v1} / expected: %A{0.0}\"\n",
      "    let v7 : bool = v5 = false\n",
      "    if v7 then\n",
      "        failwith<unit> v6\n",
      "    let v8 : (float -> float) = round\n",
      "    let v9 : float = v8 1.5\n",
      "    let v10 : string = $\"%A{v9}\"\n",
      "    System.Console.WriteLine v10\n",
      "    let v11 : bool = v9 = 2.0\n",
      "    let v13 : bool =\n",
      "        if v11 then\n",
      "            true\n",
      "        else\n",
      "            method1(v11)\n",
      "    let v14 : string = $\"__expect / actual: %A{v9} / expected: %A{2.0}\"\n",
      "    let v15 : bool = v13 = false\n",
      "    if v15 then\n",
      "        failwith<unit> v14\n",
      "    let v16 : (float -> float) = round\n",
      "    let v17 : float = v16 2.5\n",
      "    let v18 : string = $\"%A{v17}\"\n",
      "    System.Console.WriteLine v18\n",
      "    let v19 : bool = v17 = 2.0\n",
      "    let v21 : bool =\n",
      "        if v19 then\n",
      "            true\n",
      "        else\n",
      "            method1(v19)\n",
      "    let v22 : string = $\"__expect / actual: %A{v17} / expected: %A{2.0}\"\n",
      "    let v23 : bool = v21 = false\n",
      "    if v23 then\n",
      "        failwith<unit> v22\n",
      "    let v24 : (float -> float) = round\n",
      "    let v25 : float = v24 3.5\n",
      "    let v26 : string = $\"%A{v25}\"\n",
      "    System.Console.WriteLine v26\n",
      "    let v27 : bool = v25 = 4.0\n",
      "    let v29 : bool =\n",
      "        if v27 then\n",
      "            true\n",
      "        else\n",
      "            method1(v27)\n",
      "    let v30 : string = $\"__expect / actual: %A{v25} / expected: %A{4.0}\"\n",
      "    let v31 : bool = v29 = false\n",
      "    if v31 then\n",
      "        failwith<unit> v30\n",
      "method0()\n",
      "\n",
      "0.0\n",
      "2.0\n",
      "2.0\n",
      "4.0\n"
     ]
    }
   ],
   "source": [
    "// // test\n",
    "\n",
    "0.5 |> round\n",
    "|> _assert_eq 0f64\n",
    "\n",
    "1.5 |> round\n",
    "|> _assert_eq 2f64\n",
    "\n",
    "2.5 |> round\n",
    "|> _assert_eq 2f64\n",
    "\n",
    "3.5 |> round\n",
    "|> _assert_eq 4f64"
   ]
  },
  {
   "cell_type": "markdown",
   "metadata": {},
   "source": [
    "## log_base"
   ]
  },
  {
   "cell_type": "code",
   "execution_count": null,
   "metadata": {
    "dotnet_interactive": {
     "language": "spiral"
    },
    "polyglot_notebook": {
     "kernelName": "spiral"
    }
   },
   "outputs": [
    {
     "name": "stdout",
     "output_type": "stream",
     "text": [
      "()\n",
      "\n"
     ]
    }
   ],
   "source": [
    "inl log_base (new_base : f64) (a : f64) =\n",
    "    $\"System.Math.Log (!a, !new_base)\" : f64"
   ]
  },
  {
   "cell_type": "code",
   "execution_count": null,
   "metadata": {
    "dotnet_interactive": {
     "language": "spiral"
    },
    "polyglot_notebook": {
     "kernelName": "spiral"
    }
   },
   "outputs": [
    {
     "name": "stdout",
     "output_type": "stream",
     "text": [
      "let rec method1 (v0 : bool) : bool =\n",
      "    v0\n",
      "and method0 () : unit =\n",
      "    let v0 : float = System.Math.Log (100.0, 10.0)\n",
      "    let v1 : string = $\"%A{v0}\"\n",
      "    System.Console.WriteLine v1\n",
      "    let v2 : bool = v0 = 2.0\n",
      "    let v4 : bool =\n",
      "        if v2 then\n",
      "            true\n",
      "        else\n",
      "            method1(v2)\n",
      "    let v5 : string = $\"__expect / actual: %A{v0} / expected: %A{2.0}\"\n",
      "    let v6 : bool = v4 = false\n",
      "    if v6 then\n",
      "        failwith<unit> v5\n",
      "method0()\n",
      "\n",
      "2.0\n"
     ]
    }
   ],
   "source": [
    "// // test\n",
    "\n",
    "100 |> log_base 10\n",
    "|> _assert_eq 2"
   ]
  },
  {
   "cell_type": "markdown",
   "metadata": {},
   "source": [
    "## round"
   ]
  },
  {
   "cell_type": "code",
   "execution_count": null,
   "metadata": {
    "dotnet_interactive": {
     "language": "spiral"
    },
    "polyglot_notebook": {
     "kernelName": "spiral"
    }
   },
   "outputs": [
    {
     "name": "stdout",
     "output_type": "stream",
     "text": [
      "\n"
     ]
    }
   ],
   "source": [
    "inl round forall t {float}. (x : t) : t =\n",
    "    $\"round !x\""
   ]
  },
  {
   "cell_type": "code",
   "execution_count": null,
   "metadata": {
    "dotnet_interactive": {
     "language": "spiral"
    },
    "polyglot_notebook": {
     "kernelName": "spiral"
    }
   },
   "outputs": [
    {
     "name": "stdout",
     "output_type": "stream",
     "text": [
      "let rec method1 (v0 : bool) : bool =\n",
      "    v0\n",
      "and method0 () : unit =\n",
      "    let v0 : float = round 0.5\n",
      "    let v1 : string = $\"%A{v0}\"\n",
      "    System.Console.WriteLine v1\n",
      "    let v2 : bool = v0 = 0.0\n",
      "    let v4 : bool =\n",
      "        if v2 then\n",
      "            true\n",
      "        else\n",
      "            method1(v2)\n",
      "    let v5 : string = $\"__expect / actual: %A{v0} / expected: %A{0.0}\"\n",
      "    let v6 : bool = v4 = false\n",
      "    if v6 then\n",
      "        failwith<unit> v5\n",
      "method0()\n",
      "\n",
      "0.0\n"
     ]
    }
   ],
   "source": [
    "// // test\n",
    "\n",
    "0.5 |> round\n",
    "|> _assert_eq 0f64"
   ]
  },
  {
   "cell_type": "code",
   "execution_count": null,
   "metadata": {
    "dotnet_interactive": {
     "language": "spiral"
    },
    "polyglot_notebook": {
     "kernelName": "spiral"
    }
   },
   "outputs": [
    {
     "name": "stdout",
     "output_type": "stream",
     "text": [
      "let rec method1 (v0 : bool) : bool =\n",
      "    v0\n",
      "and method0 () : unit =\n",
      "    let v0 : float = round 0.6\n",
      "    let v1 : string = $\"%A{v0}\"\n",
      "    System.Console.WriteLine v1\n",
      "    let v2 : bool = v0 = 1.0\n",
      "    let v4 : bool =\n",
      "        if v2 then\n",
      "            true\n",
      "        else\n",
      "            method1(v2)\n",
      "    let v5 : string = $\"__expect / actual: %A{v0} / expected: %A{1.0}\"\n",
      "    let v6 : bool = v4 = false\n",
      "    if v6 then\n",
      "        failwith<unit> v5\n",
      "method0()\n",
      "\n",
      "1.0\n"
     ]
    }
   ],
   "source": [
    "// // test\n",
    "\n",
    "0.6 |> round\n",
    "|> _assert_eq 1f64"
   ]
  },
  {
   "cell_type": "markdown",
   "metadata": {},
   "source": [
    "## square"
   ]
  },
  {
   "cell_type": "code",
   "execution_count": null,
   "metadata": {
    "dotnet_interactive": {
     "language": "spiral"
    },
    "polyglot_notebook": {
     "kernelName": "spiral"
    }
   },
   "outputs": [
    {
     "name": "stdout",
     "output_type": "stream",
     "text": [
      "()\n",
      "\n"
     ]
    }
   ],
   "source": [
    "inl square x =\n",
    "    x ** 2"
   ]
  },
  {
   "cell_type": "code",
   "execution_count": null,
   "metadata": {
    "dotnet_interactive": {
     "language": "spiral"
    },
    "polyglot_notebook": {
     "kernelName": "spiral"
    }
   },
   "outputs": [
    {
     "name": "stdout",
     "output_type": "stream",
     "text": [
      "\n"
     ]
    }
   ],
   "source": [
    "// // test\n",
    "\n",
    "5f64\n",
    "|> sqrt\n",
    "|> square\n",
    "|> _assert_approx_eq None 5"
   ]
  },
  {
   "cell_type": "code",
   "execution_count": null,
   "metadata": {
    "dotnet_interactive": {
     "language": "spiral"
    },
    "polyglot_notebook": {
     "kernelName": "spiral"
    }
   },
   "outputs": [
    {
     "name": "stdout",
     "output_type": "stream",
     "text": [
      "let rec method0 () : unit =\n",
      "    let v0 : string = $\"%A{7.3890560989306495}\"\n",
      "    System.Console.WriteLine v0\n",
      "    let v1 : string = $\"__expect / actual: %A{7.3890560989306495} / expected: %A{7.3890560989306495}\"\n",
      "    ()\n",
      "method0()\n",
      "\n",
      "7.389056099\n"
     ]
    }
   ],
   "source": [
    "// // test\n",
    "\n",
    "e () |> square\n",
    "|> _assert_approx_eq None 7.3890560989306495"
   ]
  }
 ],
 "metadata": {},
 "nbformat": 4,
 "nbformat_minor": 5
}