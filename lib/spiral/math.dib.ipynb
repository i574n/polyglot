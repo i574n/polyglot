{
 "cells": [
  {
   "cell_type": "markdown",
   "metadata": {},
   "source": [
    "# math"
   ]
  },
  {
   "cell_type": "code",
   "execution_count": null,
   "metadata": {
    "dotnet_interactive": {
     "language": "spiral"
    },
    "polyglot_notebook": {
     "kernelName": "spiral"
    }
   },
   "outputs": [],
   "source": [
    "//// test\n",
    "\n",
    "open testing"
   ]
  },
  {
   "cell_type": "code",
   "execution_count": null,
   "metadata": {
    "dotnet_interactive": {
     "language": "spiral"
    },
    "polyglot_notebook": {
     "kernelName": "spiral"
    }
   },
   "outputs": [
    {
     "name": "stdout",
     "output_type": "stream",
     "text": [
      "assert_approx_eq / actual: 3.16227766 / expected: 3.16227766\n"
     ]
    }
   ],
   "source": [
    "//// test\n",
    "\n",
    "2 * 2 / 0.4f64 |> sqrt\n",
    "|> _assert_approx_eq None 3.1622776601683795"
   ]
  },
  {
   "cell_type": "code",
   "execution_count": null,
   "metadata": {
    "dotnet_interactive": {
     "language": "spiral"
    },
    "polyglot_notebook": {
     "kernelName": "spiral"
    }
   },
   "outputs": [
    {
     "name": "stdout",
     "output_type": "stream",
     "text": [
      "assert_approx_eq / actual: 0.6666666667 / expected: 0.6666666667\n"
     ]
    }
   ],
   "source": [
    "//// test\n",
    "\n",
    "2f64 / 3\n",
    "|> _assert_approx_eq None 0.6666666666666666"
   ]
  },
  {
   "cell_type": "code",
   "execution_count": null,
   "metadata": {
    "dotnet_interactive": {
     "language": "spiral"
    },
    "polyglot_notebook": {
     "kernelName": "spiral"
    }
   },
   "outputs": [
    {
     "name": "stdout",
     "output_type": "stream",
     "text": [
      "assert_approx_eq / actual: 0.6931471806 / expected: 0.6931471806\n"
     ]
    }
   ],
   "source": [
    "//// test\n",
    "\n",
    "2f64 |> log\n",
    "|> _assert_approx_eq None 0.6931471805599453"
   ]
  },
  {
   "cell_type": "code",
   "execution_count": null,
   "metadata": {
    "dotnet_interactive": {
     "language": "spiral"
    },
    "polyglot_notebook": {
     "kernelName": "spiral"
    }
   },
   "outputs": [
    {
     "name": "stdout",
     "output_type": "stream",
     "text": [
      "assert_approx_eq / actual: 3.141592654 / expected: 3.141592654\n"
     ]
    }
   ],
   "source": [
    "//// test\n",
    "\n",
    "pi\n",
    "|> _assert_approx_eq None 3.141592653589793f64"
   ]
  },
  {
   "cell_type": "code",
   "execution_count": null,
   "metadata": {
    "dotnet_interactive": {
     "language": "spiral"
    },
    "polyglot_notebook": {
     "kernelName": "spiral"
    }
   },
   "outputs": [
    {
     "name": "stdout",
     "output_type": "stream",
     "text": [
      "assert_eq / actual: -1.0 / expected: -1.0\n"
     ]
    }
   ],
   "source": [
    "//// test\n",
    "\n",
    "pi |> cos\n",
    "|> _assert_eq -1f64"
   ]
  },
  {
   "cell_type": "code",
   "execution_count": null,
   "metadata": {
    "dotnet_interactive": {
     "language": "spiral"
    },
    "polyglot_notebook": {
     "kernelName": "spiral"
    }
   },
   "outputs": [
    {
     "name": "stdout",
     "output_type": "stream",
     "text": [
      "assert_approx_eq / actual: -0.5 / expected: -0.5\n"
     ]
    }
   ],
   "source": [
    "//// test\n",
    "\n",
    "pi\n",
    "|> cos\n",
    "|> fun n => n / 2f64\n",
    "|> _assert_approx_eq None -0.5"
   ]
  },
  {
   "cell_type": "code",
   "execution_count": null,
   "metadata": {
    "dotnet_interactive": {
     "language": "spiral"
    },
    "polyglot_notebook": {
     "kernelName": "spiral"
    }
   },
   "outputs": [
    {
     "name": "stdout",
     "output_type": "stream",
     "text": [
      "assert_approx_eq / actual: 6.123233996e-17 / expected: 6.123233996e-17\n"
     ]
    }
   ],
   "source": [
    "//// test\n",
    "\n",
    "pi / 2 |> cos\n",
    "|> _assert_approx_eq None 0.00000000000000006123233995736766f64"
   ]
  },
  {
   "cell_type": "markdown",
   "metadata": {},
   "source": [
    "## atan2"
   ]
  },
  {
   "cell_type": "code",
   "execution_count": null,
   "metadata": {
    "dotnet_interactive": {
     "language": "spiral"
    },
    "polyglot_notebook": {
     "kernelName": "spiral"
    }
   },
   "outputs": [],
   "source": [
    "inl atan2 (y : f64) (x : f64) =\n",
    "    $\"System.Math.Atan2 (!y, !x)\" : f64"
   ]
  },
  {
   "cell_type": "code",
   "execution_count": null,
   "metadata": {
    "dotnet_interactive": {
     "language": "spiral"
    },
    "polyglot_notebook": {
     "kernelName": "spiral"
    }
   },
   "outputs": [
    {
     "name": "stdout",
     "output_type": "stream",
     "text": [
      "assert_eq / actual: 1.570796327 / expected: 1.570796327\n"
     ]
    }
   ],
   "source": [
    "//// test\n",
    "\n",
    "0 |> atan2 1\n",
    "|> _assert_eq 1.5707963267948966"
   ]
  },
  {
   "cell_type": "markdown",
   "metadata": {},
   "source": [
    "## e"
   ]
  },
  {
   "cell_type": "code",
   "execution_count": null,
   "metadata": {
    "dotnet_interactive": {
     "language": "spiral"
    },
    "polyglot_notebook": {
     "kernelName": "spiral"
    }
   },
   "outputs": [],
   "source": [
    "inl e () =\n",
    "    exp 1f64"
   ]
  },
  {
   "cell_type": "markdown",
   "metadata": {},
   "source": [
    "## floor"
   ]
  },
  {
   "cell_type": "code",
   "execution_count": null,
   "metadata": {
    "dotnet_interactive": {
     "language": "spiral"
    },
    "polyglot_notebook": {
     "kernelName": "spiral"
    }
   },
   "outputs": [],
   "source": [
    "inl floor forall t {float}. (n : t) : t =\n",
    "    n |> $'floor'"
   ]
  },
  {
   "cell_type": "code",
   "execution_count": null,
   "metadata": {
    "dotnet_interactive": {
     "language": "spiral"
    },
    "polyglot_notebook": {
     "kernelName": "spiral"
    }
   },
   "outputs": [
    {
     "name": "stdout",
     "output_type": "stream",
     "text": [
      "assert_eq / actual: 0.0 / expected: 0.0\n"
     ]
    }
   ],
   "source": [
    "//// test\n",
    "\n",
    "0.6 |> floor\n",
    "|> _assert_eq 0f64"
   ]
  },
  {
   "cell_type": "markdown",
   "metadata": {},
   "source": [
    "## ceil"
   ]
  },
  {
   "cell_type": "code",
   "execution_count": null,
   "metadata": {
    "dotnet_interactive": {
     "language": "spiral"
    },
    "polyglot_notebook": {
     "kernelName": "spiral"
    }
   },
   "outputs": [],
   "source": [
    "inl ceil forall t {float}. (n : t) : t =\n",
    "    n |> $'ceil'"
   ]
  },
  {
   "cell_type": "code",
   "execution_count": null,
   "metadata": {
    "dotnet_interactive": {
     "language": "spiral"
    },
    "polyglot_notebook": {
     "kernelName": "spiral"
    }
   },
   "outputs": [
    {
     "name": "stdout",
     "output_type": "stream",
     "text": [
      "assert_eq / actual: 1.0 / expected: 1.0\n"
     ]
    }
   ],
   "source": [
    "//// test\n",
    "\n",
    "0.6 |> ceil\n",
    "|> _assert_eq 1f64"
   ]
  },
  {
   "cell_type": "markdown",
   "metadata": {},
   "source": [
    "## round"
   ]
  },
  {
   "cell_type": "code",
   "execution_count": null,
   "metadata": {
    "dotnet_interactive": {
     "language": "spiral"
    },
    "polyglot_notebook": {
     "kernelName": "spiral"
    }
   },
   "outputs": [],
   "source": [
    "inl round forall t {float}. (n : t) : t =\n",
    "    n |> $'round'"
   ]
  },
  {
   "cell_type": "code",
   "execution_count": null,
   "metadata": {
    "dotnet_interactive": {
     "language": "spiral"
    },
    "polyglot_notebook": {
     "kernelName": "spiral"
    }
   },
   "outputs": [
    {
     "name": "stdout",
     "output_type": "stream",
     "text": [
      "assert_eq / actual: 0.0 / expected: 0.0\n",
      "assert_eq / actual: 2.0 / expected: 2.0\n",
      "assert_eq / actual: 2.0 / expected: 2.0\n",
      "assert_eq / actual: 4.0 / expected: 4.0\n"
     ]
    }
   ],
   "source": [
    "//// test\n",
    "\n",
    "0.5 |> round\n",
    "|> _assert_eq 0f64\n",
    "\n",
    "1.5 |> round\n",
    "|> _assert_eq 2f64\n",
    "\n",
    "2.5 |> round\n",
    "|> _assert_eq 2f64\n",
    "\n",
    "3.5 |> round\n",
    "|> _assert_eq 4f64"
   ]
  },
  {
   "cell_type": "markdown",
   "metadata": {},
   "source": [
    "## log_base"
   ]
  },
  {
   "cell_type": "code",
   "execution_count": null,
   "metadata": {
    "dotnet_interactive": {
     "language": "spiral"
    },
    "polyglot_notebook": {
     "kernelName": "spiral"
    }
   },
   "outputs": [],
   "source": [
    "inl log_base (new_base : f64) (a : f64) =\n",
    "    $\"System.Math.Log (!a, !new_base)\" : f64"
   ]
  },
  {
   "cell_type": "code",
   "execution_count": null,
   "metadata": {
    "dotnet_interactive": {
     "language": "spiral"
    },
    "polyglot_notebook": {
     "kernelName": "spiral"
    }
   },
   "outputs": [
    {
     "name": "stdout",
     "output_type": "stream",
     "text": [
      "assert_eq / actual: 2.0 / expected: 2.0\n"
     ]
    }
   ],
   "source": [
    "//// test\n",
    "\n",
    "100 |> log_base 10\n",
    "|> _assert_eq 2"
   ]
  },
  {
   "cell_type": "markdown",
   "metadata": {},
   "source": [
    "## round"
   ]
  },
  {
   "cell_type": "code",
   "execution_count": null,
   "metadata": {
    "dotnet_interactive": {
     "language": "spiral"
    },
    "polyglot_notebook": {
     "kernelName": "spiral"
    }
   },
   "outputs": [],
   "source": [
    "inl round forall t {float}. (x : t) : t =\n",
    "    $\"round !x\""
   ]
  },
  {
   "cell_type": "code",
   "execution_count": null,
   "metadata": {
    "dotnet_interactive": {
     "language": "spiral"
    },
    "polyglot_notebook": {
     "kernelName": "spiral"
    }
   },
   "outputs": [
    {
     "name": "stdout",
     "output_type": "stream",
     "text": [
      "assert_eq / actual: 0.0 / expected: 0.0\n"
     ]
    }
   ],
   "source": [
    "//// test\n",
    "\n",
    "0.5 |> round\n",
    "|> _assert_eq 0f64"
   ]
  },
  {
   "cell_type": "code",
   "execution_count": null,
   "metadata": {
    "dotnet_interactive": {
     "language": "spiral"
    },
    "polyglot_notebook": {
     "kernelName": "spiral"
    }
   },
   "outputs": [
    {
     "name": "stdout",
     "output_type": "stream",
     "text": [
      "assert_eq / actual: 1.0 / expected: 1.0\n"
     ]
    }
   ],
   "source": [
    "//// test\n",
    "\n",
    "0.6 |> round\n",
    "|> _assert_eq 1f64"
   ]
  },
  {
   "cell_type": "markdown",
   "metadata": {},
   "source": [
    "## square"
   ]
  },
  {
   "cell_type": "code",
   "execution_count": null,
   "metadata": {
    "dotnet_interactive": {
     "language": "spiral"
    },
    "polyglot_notebook": {
     "kernelName": "spiral"
    }
   },
   "outputs": [],
   "source": [
    "inl square x =\n",
    "    x ** 2"
   ]
  },
  {
   "cell_type": "code",
   "execution_count": null,
   "metadata": {
    "dotnet_interactive": {
     "language": "spiral"
    },
    "polyglot_notebook": {
     "kernelName": "spiral"
    }
   },
   "outputs": [
    {
     "name": "stdout",
     "output_type": "stream",
     "text": [
      "assert_approx_eq / actual: 5.0 / expected: 5.0\n"
     ]
    }
   ],
   "source": [
    "//// test\n",
    "\n",
    "5f64\n",
    "|> sqrt\n",
    "|> square\n",
    "|> _assert_approx_eq None 5"
   ]
  },
  {
   "cell_type": "code",
   "execution_count": null,
   "metadata": {
    "dotnet_interactive": {
     "language": "spiral"
    },
    "polyglot_notebook": {
     "kernelName": "spiral"
    }
   },
   "outputs": [
    {
     "name": "stdout",
     "output_type": "stream",
     "text": [
      "assert_approx_eq / actual: 7.389056099 / expected: 7.389056099\n"
     ]
    }
   ],
   "source": [
    "//// test\n",
    "\n",
    "e () |> square\n",
    "|> _assert_approx_eq None 7.3890560989306495"
   ]
  }
 ],
 "metadata": {},
 "nbformat": 4,
 "nbformat_minor": 5
}