{
 "cells": [
  {
   "cell_type": "markdown",
   "metadata": {},
   "source": [
    "# math"
   ]
  },
  {
   "cell_type": "code",
   "execution_count": null,
   "metadata": {
    "dotnet_interactive": {
     "language": "spiral"
    },
    "polyglot_notebook": {
     "kernelName": "spiral"
    }
   },
   "outputs": [
    {
     "name": "stdout",
     "output_type": "stream",
     "text": [
      "()\n",
      "\n"
     ]
    }
   ],
   "source": [
    "//// test\n",
    "\n",
    "open testing"
   ]
  },
  {
   "cell_type": "code",
   "execution_count": null,
   "metadata": {
    "dotnet_interactive": {
     "language": "spiral"
    },
    "polyglot_notebook": {
     "kernelName": "spiral"
    }
   },
   "outputs": [
    {
     "name": "stdout",
     "output_type": "stream",
     "text": [
      "let rec method0 () : unit =\n",
      "    let v0 : string = \"assert_approx_eq\"\n",
      "    let v1 : string = $\"{v0} / actual: %A{3.1622776601683795} / expected: %A{3.1622776601683795}\"\n",
      "    System.Console.WriteLine v1\n",
      "    ()\n",
      "method0()\n",
      "\n",
      "assert_approx_eq / actual: 3.16227766 / expected: 3.16227766\n"
     ]
    }
   ],
   "source": [
    "//// test\n",
    "\n",
    "2 * 2 / 0.4f64 |> sqrt\n",
    "|> _assert_approx_eq None 3.1622776601683795"
   ]
  },
  {
   "cell_type": "code",
   "execution_count": null,
   "metadata": {
    "dotnet_interactive": {
     "language": "spiral"
    },
    "polyglot_notebook": {
     "kernelName": "spiral"
    }
   },
   "outputs": [
    {
     "name": "stdout",
     "output_type": "stream",
     "text": [
      "let rec method0 () : unit =\n",
      "    let v0 : string = \"assert_approx_eq\"\n",
      "    let v1 : string = $\"{v0} / actual: %A{0.6666666666666666} / expected: %A{0.6666666666666666}\"\n",
      "    System.Console.WriteLine v1\n",
      "    ()\n",
      "method0()\n",
      "\n",
      "assert_approx_eq / actual: 0.6666666667 / expected: 0.6666666667\n"
     ]
    }
   ],
   "source": [
    "//// test\n",
    "\n",
    "2f64 / 3\n",
    "|> _assert_approx_eq None 0.6666666666666666"
   ]
  },
  {
   "cell_type": "code",
   "execution_count": null,
   "metadata": {
    "dotnet_interactive": {
     "language": "spiral"
    },
    "polyglot_notebook": {
     "kernelName": "spiral"
    }
   },
   "outputs": [
    {
     "name": "stdout",
     "output_type": "stream",
     "text": [
      "let rec method0 () : unit =\n",
      "    let v0 : string = \"assert_approx_eq\"\n",
      "    let v1 : string = $\"{v0} / actual: %A{0.6931471805599453} / expected: %A{0.6931471805599453}\"\n",
      "    System.Console.WriteLine v1\n",
      "    ()\n",
      "method0()\n",
      "\n",
      "assert_approx_eq / actual: 0.6931471806 / expected: 0.6931471806\n"
     ]
    }
   ],
   "source": [
    "//// test\n",
    "\n",
    "2f64 |> log\n",
    "|> _assert_approx_eq None 0.6931471805599453"
   ]
  },
  {
   "cell_type": "code",
   "execution_count": null,
   "metadata": {
    "dotnet_interactive": {
     "language": "spiral"
    },
    "polyglot_notebook": {
     "kernelName": "spiral"
    }
   },
   "outputs": [
    {
     "name": "stdout",
     "output_type": "stream",
     "text": [
      "let rec method0 () : unit =\n",
      "    let v0 : string = \"assert_approx_eq\"\n",
      "    let v1 : string = $\"{v0} / actual: %A{3.141592653589793} / expected: %A{3.141592653589793}\"\n",
      "    System.Console.WriteLine v1\n",
      "    ()\n",
      "method0()\n",
      "\n",
      "assert_approx_eq / actual: 3.141592654 / expected: 3.141592654\n"
     ]
    }
   ],
   "source": [
    "//// test\n",
    "\n",
    "pi\n",
    "|> _assert_approx_eq None 3.141592653589793f64"
   ]
  },
  {
   "cell_type": "code",
   "execution_count": null,
   "metadata": {
    "dotnet_interactive": {
     "language": "spiral"
    },
    "polyglot_notebook": {
     "kernelName": "spiral"
    }
   },
   "outputs": [
    {
     "name": "stdout",
     "output_type": "stream",
     "text": [
      "let rec method0 () : unit =\n",
      "    let v0 : string = \"assert_eq\"\n",
      "    let v1 : string = $\"{v0} / actual: %A{-1.0} / expected: %A{-1.0}\"\n",
      "    System.Console.WriteLine v1\n",
      "    ()\n",
      "method0()\n",
      "\n",
      "assert_eq / actual: -1.0 / expected: -1.0\n"
     ]
    }
   ],
   "source": [
    "//// test\n",
    "\n",
    "pi |> cos\n",
    "|> _assert_eq -1f64"
   ]
  },
  {
   "cell_type": "code",
   "execution_count": null,
   "metadata": {
    "dotnet_interactive": {
     "language": "spiral"
    },
    "polyglot_notebook": {
     "kernelName": "spiral"
    }
   },
   "outputs": [
    {
     "name": "stdout",
     "output_type": "stream",
     "text": [
      "let rec method0 () : unit =\n",
      "    let v0 : string = \"assert_approx_eq\"\n",
      "    let v1 : string = $\"{v0} / actual: %A{-0.5} / expected: %A{-0.5}\"\n",
      "    System.Console.WriteLine v1\n",
      "    ()\n",
      "method0()\n",
      "\n",
      "assert_approx_eq / actual: -0.5 / expected: -0.5\n"
     ]
    }
   ],
   "source": [
    "//// test\n",
    "\n",
    "pi\n",
    "|> cos\n",
    "|> fun n => n / 2f64\n",
    "|> _assert_approx_eq None -0.5"
   ]
  },
  {
   "cell_type": "code",
   "execution_count": null,
   "metadata": {
    "dotnet_interactive": {
     "language": "spiral"
    },
    "polyglot_notebook": {
     "kernelName": "spiral"
    }
   },
   "outputs": [
    {
     "name": "stdout",
     "output_type": "stream",
     "text": [
      "let rec method0 () : unit =\n",
      "    let v0 : string = \"assert_approx_eq\"\n",
      "    let v1 : string = $\"{v0} / actual: %A{6.123233995736766E-17} / expected: %A{6.123233995736766E-17}\"\n",
      "    System.Console.WriteLine v1\n",
      "    ()\n",
      "method0()\n",
      "\n",
      "assert_approx_eq / actual: 6.123233996e-17 / expected: 6.123233996e-17\n"
     ]
    }
   ],
   "source": [
    "//// test\n",
    "\n",
    "pi / 2 |> cos\n",
    "|> _assert_approx_eq None 0.00000000000000006123233995736766f64"
   ]
  },
  {
   "cell_type": "markdown",
   "metadata": {},
   "source": [
    "## atan2"
   ]
  },
  {
   "cell_type": "code",
   "execution_count": null,
   "metadata": {
    "dotnet_interactive": {
     "language": "spiral"
    },
    "polyglot_notebook": {
     "kernelName": "spiral"
    }
   },
   "outputs": [
    {
     "name": "stdout",
     "output_type": "stream",
     "text": [
      "()\n",
      "\n"
     ]
    }
   ],
   "source": [
    "inl atan2 (y : f64) (x : f64) =\n",
    "    $\"System.Math.Atan2 (!y, !x)\" : f64"
   ]
  },
  {
   "cell_type": "code",
   "execution_count": null,
   "metadata": {
    "dotnet_interactive": {
     "language": "spiral"
    },
    "polyglot_notebook": {
     "kernelName": "spiral"
    }
   },
   "outputs": [
    {
     "name": "stdout",
     "output_type": "stream",
     "text": [
      "let rec method1 (v0 : bool) : bool =\n",
      "    v0\n",
      "and method0 () : unit =\n",
      "    let v0 : float = System.Math.Atan2 (1.0, 0.0)\n",
      "    let v1 : bool = v0 = 1.5707963267948966\n",
      "    let v3 : bool =\n",
      "        if v1 then\n",
      "            true\n",
      "        else\n",
      "            method1(v1)\n",
      "    let v4 : string = \"assert_eq\"\n",
      "    let v5 : string = $\"{v4} / actual: %A{v0} / expected: %A{1.5707963267948966}\"\n",
      "    System.Console.WriteLine v5\n",
      "    let v6 : bool = v3 = false\n",
      "    if v6 then\n",
      "        failwith<unit> v5\n",
      "method0()\n",
      "\n",
      "assert_eq / actual: 1.570796327 / expected: 1.570796327\n"
     ]
    }
   ],
   "source": [
    "//// test\n",
    "\n",
    "0 |> atan2 1\n",
    "|> _assert_eq 1.5707963267948966"
   ]
  },
  {
   "cell_type": "markdown",
   "metadata": {},
   "source": [
    "## e"
   ]
  },
  {
   "cell_type": "code",
   "execution_count": null,
   "metadata": {
    "dotnet_interactive": {
     "language": "spiral"
    },
    "polyglot_notebook": {
     "kernelName": "spiral"
    }
   },
   "outputs": [
    {
     "name": "stdout",
     "output_type": "stream",
     "text": [
      "()\n",
      "\n"
     ]
    }
   ],
   "source": [
    "inl e () =\n",
    "    exp 1f64"
   ]
  },
  {
   "cell_type": "markdown",
   "metadata": {},
   "source": [
    "## floor"
   ]
  },
  {
   "cell_type": "code",
   "execution_count": null,
   "metadata": {
    "dotnet_interactive": {
     "language": "spiral"
    },
    "polyglot_notebook": {
     "kernelName": "spiral"
    }
   },
   "outputs": [
    {
     "name": "stdout",
     "output_type": "stream",
     "text": [
      "()\n",
      "\n"
     ]
    }
   ],
   "source": [
    "inl floor forall t {float}. (n : t) : t =\n",
    "    n |> $'floor'"
   ]
  },
  {
   "cell_type": "code",
   "execution_count": null,
   "metadata": {
    "dotnet_interactive": {
     "language": "spiral"
    },
    "polyglot_notebook": {
     "kernelName": "spiral"
    }
   },
   "outputs": [
    {
     "name": "stdout",
     "output_type": "stream",
     "text": [
      "let rec method1 (v0 : bool) : bool =\n",
      "    v0\n",
      "and method0 () : unit =\n",
      "    let v0 : (float -> float) = floor\n",
      "    let v1 : float = v0 0.6\n",
      "    let v2 : bool = v1 = 0.0\n",
      "    let v4 : bool =\n",
      "        if v2 then\n",
      "            true\n",
      "        else\n",
      "            method1(v2)\n",
      "    let v5 : string = \"assert_eq\"\n",
      "    let v6 : string = $\"{v5} / actual: %A{v1} / expected: %A{0.0}\"\n",
      "    System.Console.WriteLine v6\n",
      "    let v7 : bool = v4 = false\n",
      "    if v7 then\n",
      "        failwith<unit> v6\n",
      "method0()\n",
      "\n",
      "assert_eq / actual: 0.0 / expected: 0.0\n"
     ]
    }
   ],
   "source": [
    "//// test\n",
    "\n",
    "0.6 |> floor\n",
    "|> _assert_eq 0f64"
   ]
  },
  {
   "cell_type": "markdown",
   "metadata": {},
   "source": [
    "## ceil"
   ]
  },
  {
   "cell_type": "code",
   "execution_count": null,
   "metadata": {
    "dotnet_interactive": {
     "language": "spiral"
    },
    "polyglot_notebook": {
     "kernelName": "spiral"
    }
   },
   "outputs": [
    {
     "name": "stdout",
     "output_type": "stream",
     "text": [
      "()\n",
      "\n"
     ]
    }
   ],
   "source": [
    "inl ceil forall t {float}. (n : t) : t =\n",
    "    n |> $'ceil'"
   ]
  },
  {
   "cell_type": "code",
   "execution_count": null,
   "metadata": {
    "dotnet_interactive": {
     "language": "spiral"
    },
    "polyglot_notebook": {
     "kernelName": "spiral"
    }
   },
   "outputs": [
    {
     "name": "stdout",
     "output_type": "stream",
     "text": [
      "let rec method1 (v0 : bool) : bool =\n",
      "    v0\n",
      "and method0 () : unit =\n",
      "    let v0 : (float -> float) = ceil\n",
      "    let v1 : float = v0 0.6\n",
      "    let v2 : bool = v1 = 1.0\n",
      "    let v4 : bool =\n",
      "        if v2 then\n",
      "            true\n",
      "        else\n",
      "            method1(v2)\n",
      "    let v5 : string = \"assert_eq\"\n",
      "    let v6 : string = $\"{v5} / actual: %A{v1} / expected: %A{1.0}\"\n",
      "    System.Console.WriteLine v6\n",
      "    let v7 : bool = v4 = false\n",
      "    if v7 then\n",
      "        failwith<unit> v6\n",
      "method0()\n",
      "\n",
      "assert_eq / actual: 1.0 / expected: 1.0\n"
     ]
    }
   ],
   "source": [
    "//// test\n",
    "\n",
    "0.6 |> ceil\n",
    "|> _assert_eq 1f64"
   ]
  },
  {
   "cell_type": "markdown",
   "metadata": {},
   "source": [
    "## round"
   ]
  },
  {
   "cell_type": "code",
   "execution_count": null,
   "metadata": {
    "dotnet_interactive": {
     "language": "spiral"
    },
    "polyglot_notebook": {
     "kernelName": "spiral"
    }
   },
   "outputs": [
    {
     "name": "stdout",
     "output_type": "stream",
     "text": [
      "()\n",
      "\n"
     ]
    }
   ],
   "source": [
    "inl round forall t {float}. (n : t) : t =\n",
    "    n |> $'round'"
   ]
  },
  {
   "cell_type": "code",
   "execution_count": null,
   "metadata": {
    "dotnet_interactive": {
     "language": "spiral"
    },
    "polyglot_notebook": {
     "kernelName": "spiral"
    }
   },
   "outputs": [
    {
     "name": "stdout",
     "output_type": "stream",
     "text": [
      "let rec method1 (v0 : bool) : bool =\n",
      "    v0\n",
      "and method0 () : unit =\n",
      "    let v0 : (float -> float) = round\n",
      "    let v1 : float = v0 0.5\n",
      "    let v2 : bool = v1 = 0.0\n",
      "    let v4 : bool =\n",
      "        if v2 then\n",
      "            true\n",
      "        else\n",
      "            method1(v2)\n",
      "    let v5 : string = \"assert_eq\"\n",
      "    let v6 : string = $\"{v5} / actual: %A{v1} / expected: %A{0.0}\"\n",
      "    System.Console.WriteLine v6\n",
      "    let v7 : bool = v4 = false\n",
      "    if v7 then\n",
      "        failwith<unit> v6\n",
      "    let v8 : (float -> float) = round\n",
      "    let v9 : float = v8 1.5\n",
      "    let v10 : bool = v9 = 2.0\n",
      "    let v12 : bool =\n",
      "        if v10 then\n",
      "            true\n",
      "        else\n",
      "            method1(v10)\n",
      "    let v13 : string = $\"{v5} / actual: %A{v9} / expected: %A{2.0}\"\n",
      "    System.Console.WriteLine v13\n",
      "    let v14 : bool = v12 = false\n",
      "    if v14 then\n",
      "        failwith<unit> v13\n",
      "    let v15 : (float -> float) = round\n",
      "    let v16 : float = v15 2.5\n",
      "    let v17 : bool = v16 = 2.0\n",
      "    let v19 : bool =\n",
      "        if v17 then\n",
      "            true\n",
      "        else\n",
      "            method1(v17)\n",
      "    let v20 : string = $\"{v5} / actual: %A{v16} / expected: %A{2.0}\"\n",
      "    System.Console.WriteLine v20\n",
      "    let v21 : bool = v19 = false\n",
      "    if v21 then\n",
      "        failwith<unit> v20\n",
      "    let v22 : (float -> float) = round\n",
      "    let v23 : float = v22 3.5\n",
      "    let v24 : bool = v23 = 4.0\n",
      "    let v26 : bool =\n",
      "        if v24 then\n",
      "            true\n",
      "        else\n",
      "            method1(v24)\n",
      "    let v27 : string = $\"{v5} / actual: %A{v23} / expected: %A{4.0}\"\n",
      "    System.Console.WriteLine v27\n",
      "    let v28 : bool = v26 = false\n",
      "    if v28 then\n",
      "        failwith<unit> v27\n",
      "method0()\n",
      "\n",
      "assert_eq / actual: 0.0 / expected: 0.0\n",
      "assert_eq / actual: 2.0 / expected: 2.0\n",
      "assert_eq / actual: 2.0 / expected: 2.0\n",
      "assert_eq / actual: 4.0 / expected: 4.0\n"
     ]
    }
   ],
   "source": [
    "//// test\n",
    "\n",
    "0.5 |> round\n",
    "|> _assert_eq 0f64\n",
    "\n",
    "1.5 |> round\n",
    "|> _assert_eq 2f64\n",
    "\n",
    "2.5 |> round\n",
    "|> _assert_eq 2f64\n",
    "\n",
    "3.5 |> round\n",
    "|> _assert_eq 4f64"
   ]
  },
  {
   "cell_type": "markdown",
   "metadata": {},
   "source": [
    "## log_base"
   ]
  },
  {
   "cell_type": "code",
   "execution_count": null,
   "metadata": {
    "dotnet_interactive": {
     "language": "spiral"
    },
    "polyglot_notebook": {
     "kernelName": "spiral"
    }
   },
   "outputs": [
    {
     "name": "stdout",
     "output_type": "stream",
     "text": [
      "()\n",
      "\n"
     ]
    }
   ],
   "source": [
    "inl log_base (new_base : f64) (a : f64) =\n",
    "    $\"System.Math.Log (!a, !new_base)\" : f64"
   ]
  },
  {
   "cell_type": "code",
   "execution_count": null,
   "metadata": {
    "dotnet_interactive": {
     "language": "spiral"
    },
    "polyglot_notebook": {
     "kernelName": "spiral"
    }
   },
   "outputs": [
    {
     "name": "stdout",
     "output_type": "stream",
     "text": [
      "let rec method1 (v0 : bool) : bool =\n",
      "    v0\n",
      "and method0 () : unit =\n",
      "    let v0 : float = System.Math.Log (100.0, 10.0)\n",
      "    let v1 : bool = v0 = 2.0\n",
      "    let v3 : bool =\n",
      "        if v1 then\n",
      "            true\n",
      "        else\n",
      "            method1(v1)\n",
      "    let v4 : string = \"assert_eq\"\n",
      "    let v5 : string = $\"{v4} / actual: %A{v0} / expected: %A{2.0}\"\n",
      "    System.Console.WriteLine v5\n",
      "    let v6 : bool = v3 = false\n",
      "    if v6 then\n",
      "        failwith<unit> v5\n",
      "method0()\n",
      "\n",
      "assert_eq / actual: 2.0 / expected: 2.0\n"
     ]
    }
   ],
   "source": [
    "//// test\n",
    "\n",
    "100 |> log_base 10\n",
    "|> _assert_eq 2"
   ]
  },
  {
   "cell_type": "markdown",
   "metadata": {},
   "source": [
    "## round"
   ]
  },
  {
   "cell_type": "code",
   "execution_count": null,
   "metadata": {
    "dotnet_interactive": {
     "language": "spiral"
    },
    "polyglot_notebook": {
     "kernelName": "spiral"
    }
   },
   "outputs": [
    {
     "name": "stdout",
     "output_type": "stream",
     "text": [
      "()\n",
      "\n"
     ]
    }
   ],
   "source": [
    "inl round forall t {float}. (x : t) : t =\n",
    "    $\"round !x\""
   ]
  },
  {
   "cell_type": "code",
   "execution_count": null,
   "metadata": {
    "dotnet_interactive": {
     "language": "spiral"
    },
    "polyglot_notebook": {
     "kernelName": "spiral"
    }
   },
   "outputs": [
    {
     "name": "stdout",
     "output_type": "stream",
     "text": [
      "let rec method1 (v0 : bool) : bool =\n",
      "    v0\n",
      "and method0 () : unit =\n",
      "    let v0 : float = round 0.5\n",
      "    let v1 : bool = v0 = 0.0\n",
      "    let v3 : bool =\n",
      "        if v1 then\n",
      "            true\n",
      "        else\n",
      "            method1(v1)\n",
      "    let v4 : string = \"assert_eq\"\n",
      "    let v5 : string = $\"{v4} / actual: %A{v0} / expected: %A{0.0}\"\n",
      "    System.Console.WriteLine v5\n",
      "    let v6 : bool = v3 = false\n",
      "    if v6 then\n",
      "        failwith<unit> v5\n",
      "method0()\n",
      "\n",
      "assert_eq / actual: 0.0 / expected: 0.0\n"
     ]
    }
   ],
   "source": [
    "//// test\n",
    "\n",
    "0.5 |> round\n",
    "|> _assert_eq 0f64"
   ]
  },
  {
   "cell_type": "code",
   "execution_count": null,
   "metadata": {
    "dotnet_interactive": {
     "language": "spiral"
    },
    "polyglot_notebook": {
     "kernelName": "spiral"
    }
   },
   "outputs": [
    {
     "name": "stdout",
     "output_type": "stream",
     "text": [
      "let rec method1 (v0 : bool) : bool =\n",
      "    v0\n",
      "and method0 () : unit =\n",
      "    let v0 : float = round 0.6\n",
      "    let v1 : bool = v0 = 1.0\n",
      "    let v3 : bool =\n",
      "        if v1 then\n",
      "            true\n",
      "        else\n",
      "            method1(v1)\n",
      "    let v4 : string = \"assert_eq\"\n",
      "    let v5 : string = $\"{v4} / actual: %A{v0} / expected: %A{1.0}\"\n",
      "    System.Console.WriteLine v5\n",
      "    let v6 : bool = v3 = false\n",
      "    if v6 then\n",
      "        failwith<unit> v5\n",
      "method0()\n",
      "\n",
      "assert_eq / actual: 1.0 / expected: 1.0\n"
     ]
    }
   ],
   "source": [
    "//// test\n",
    "\n",
    "0.6 |> round\n",
    "|> _assert_eq 1f64"
   ]
  },
  {
   "cell_type": "markdown",
   "metadata": {},
   "source": [
    "## square"
   ]
  },
  {
   "cell_type": "code",
   "execution_count": null,
   "metadata": {
    "dotnet_interactive": {
     "language": "spiral"
    },
    "polyglot_notebook": {
     "kernelName": "spiral"
    }
   },
   "outputs": [
    {
     "name": "stdout",
     "output_type": "stream",
     "text": [
      "()\n",
      "\n"
     ]
    }
   ],
   "source": [
    "inl square x =\n",
    "    x ** 2"
   ]
  },
  {
   "cell_type": "code",
   "execution_count": null,
   "metadata": {
    "dotnet_interactive": {
     "language": "spiral"
    },
    "polyglot_notebook": {
     "kernelName": "spiral"
    }
   },
   "outputs": [
    {
     "name": "stdout",
     "output_type": "stream",
     "text": [
      "let rec method0 () : unit =\n",
      "    let v0 : string = \"assert_approx_eq\"\n",
      "    let v1 : string = $\"{v0} / actual: %A{5.000000000000001} / expected: %A{5.0}\"\n",
      "    System.Console.WriteLine v1\n",
      "    ()\n",
      "method0()\n",
      "\n",
      "assert_approx_eq / actual: 5.0 / expected: 5.0\n"
     ]
    }
   ],
   "source": [
    "//// test\n",
    "\n",
    "5f64\n",
    "|> sqrt\n",
    "|> square\n",
    "|> _assert_approx_eq None 5"
   ]
  },
  {
   "cell_type": "code",
   "execution_count": null,
   "metadata": {
    "dotnet_interactive": {
     "language": "spiral"
    },
    "polyglot_notebook": {
     "kernelName": "spiral"
    }
   },
   "outputs": [
    {
     "name": "stdout",
     "output_type": "stream",
     "text": [
      "let rec method0 () : unit =\n",
      "    let v0 : string = \"assert_approx_eq\"\n",
      "    let v1 : string = $\"{v0} / actual: %A{7.3890560989306495} / expected: %A{7.3890560989306495}\"\n",
      "    System.Console.WriteLine v1\n",
      "    ()\n",
      "method0()\n",
      "\n",
      "assert_approx_eq / actual: 7.389056099 / expected: 7.389056099\n"
     ]
    }
   ],
   "source": [
    "//// test\n",
    "\n",
    "e () |> square\n",
    "|> _assert_approx_eq None 7.3890560989306495"
   ]
  }
 ],
 "metadata": {},
 "nbformat": 4,
 "nbformat_minor": 5
}