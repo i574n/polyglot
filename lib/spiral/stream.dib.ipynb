{
 "cells": [
  {
   "cell_type": "markdown",
   "metadata": {},
   "source": [
    "# stream"
   ]
  },
  {
   "cell_type": "code",
   "execution_count": null,
   "metadata": {
    "dotnet_interactive": {
     "language": "spiral"
    },
    "polyglot_notebook": {
     "kernelName": "spiral"
    }
   },
   "outputs": [
    {
     "name": "stdout",
     "output_type": "stream",
     "text": [
      "()\n",
      "\n"
     ]
    }
   ],
   "source": [
    "open rust_operators"
   ]
  },
  {
   "cell_type": "code",
   "execution_count": null,
   "metadata": {
    "dotnet_interactive": {
     "language": "spiral"
    },
    "polyglot_notebook": {
     "kernelName": "spiral"
    }
   },
   "outputs": [
    {
     "name": "stdout",
     "output_type": "stream",
     "text": [
      "()\n",
      "\n"
     ]
    }
   ],
   "source": [
    "//// test\n",
    "\n",
    "open testing"
   ]
  },
  {
   "cell_type": "markdown",
   "metadata": {},
   "source": [
    "## types"
   ]
  },
  {
   "cell_type": "code",
   "execution_count": null,
   "metadata": {
    "dotnet_interactive": {
     "language": "spiral"
    },
    "polyglot_notebook": {
     "kernelName": "spiral"
    }
   },
   "outputs": [
    {
     "name": "stdout",
     "output_type": "stream",
     "text": [
      "()\n",
      "\n"
     ]
    }
   ],
   "source": [
    "inl types () =\n",
    "    global \"#if FABLE_COMPILER\\n[<Fable.Core.Erase; Fable.Core.Emit(\\\"async_std::io::BufReader<$0>\\\")>]\\n#endif\\ntype async_std_io_BufReader<'T> = class end\"\n",
    "    global \"#if FABLE_COMPILER\\n[<Fable.Core.Erase; Fable.Core.Emit(\\\"std::io::BufReader<$0>\\\")>]\\n#endif\\ntype std_io_BufReader<'T> = class end\"\n",
    "    global \"#if FABLE_COMPILER\\n[<Fable.Core.Erase; Fable.Core.Emit(\\\"std::io::Error\\\")>]\\n#endif\\ntype std_io_Error = class end\"\n",
    "    global \"#if FABLE_COMPILER\\n[<Fable.Core.Erase; Fable.Core.Emit(\\\"std::io::Lines<$0>\\\")>]\\n#endif\\ntype std_io_Lines<'T> = class end\"\n",
    "    global \"#if FABLE_COMPILER\\n[<Fable.Core.Erase; Fable.Core.Emit(\\\"encoding_rs_io::DecodeReaderBytes<$0, $1>\\\")>]\\n#endif\\ntype encoding_rs_io_DecodeReaderBytes<'T, 'U> = class end\""
   ]
  },
  {
   "cell_type": "markdown",
   "metadata": {},
   "source": [
    "## io_error"
   ]
  },
  {
   "cell_type": "code",
   "execution_count": null,
   "metadata": {
    "dotnet_interactive": {
     "language": "spiral"
    },
    "polyglot_notebook": {
     "kernelName": "spiral"
    }
   },
   "outputs": [
    {
     "name": "stdout",
     "output_type": "stream",
     "text": [
      "()\n",
      "\n"
     ]
    }
   ],
   "source": [
    "nominal io_error = $\"std_io_Error\""
   ]
  },
  {
   "cell_type": "markdown",
   "metadata": {},
   "source": [
    "## buf_reader"
   ]
  },
  {
   "cell_type": "code",
   "execution_count": null,
   "metadata": {
    "dotnet_interactive": {
     "language": "spiral"
    },
    "polyglot_notebook": {
     "kernelName": "spiral"
    }
   },
   "outputs": [
    {
     "name": "stdout",
     "output_type": "stream",
     "text": [
      "()\n",
      "\n"
     ]
    }
   ],
   "source": [
    "nominal buf_reader t = $'std_io_BufReader<`t>'"
   ]
  },
  {
   "cell_type": "markdown",
   "metadata": {},
   "source": [
    "## async_buf_reader"
   ]
  },
  {
   "cell_type": "code",
   "execution_count": null,
   "metadata": {
    "dotnet_interactive": {
     "language": "spiral"
    },
    "polyglot_notebook": {
     "kernelName": "spiral"
    }
   },
   "outputs": [
    {
     "name": "stdout",
     "output_type": "stream",
     "text": [
      "()\n",
      "\n"
     ]
    }
   ],
   "source": [
    "nominal async_buf_reader t = $'async_std_io_BufReader<`t>'"
   ]
  },
  {
   "cell_type": "markdown",
   "metadata": {},
   "source": [
    "## new_buf_reader"
   ]
  },
  {
   "cell_type": "code",
   "execution_count": null,
   "metadata": {
    "dotnet_interactive": {
     "language": "spiral"
    },
    "polyglot_notebook": {
     "kernelName": "spiral"
    }
   },
   "outputs": [
    {
     "name": "stdout",
     "output_type": "stream",
     "text": [
      "()\n",
      "\n"
     ]
    }
   ],
   "source": [
    "inl new_buf_reader forall t. (x : t) : buf_reader t =\n",
    "    !\\($'\"std::io::BufReader::new(!x)\"')"
   ]
  },
  {
   "cell_type": "markdown",
   "metadata": {},
   "source": [
    "## lines"
   ]
  },
  {
   "cell_type": "code",
   "execution_count": null,
   "metadata": {
    "dotnet_interactive": {
     "language": "spiral"
    },
    "polyglot_notebook": {
     "kernelName": "spiral"
    }
   },
   "outputs": [
    {
     "name": "stdout",
     "output_type": "stream",
     "text": [
      "()\n",
      "\n"
     ]
    }
   ],
   "source": [
    "nominal lines t = $'std_io_Lines<`t>'"
   ]
  },
  {
   "cell_type": "markdown",
   "metadata": {},
   "source": [
    "## buf_read_lines"
   ]
  },
  {
   "cell_type": "code",
   "execution_count": null,
   "metadata": {
    "dotnet_interactive": {
     "language": "spiral"
    },
    "polyglot_notebook": {
     "kernelName": "spiral"
    }
   },
   "outputs": [
    {
     "name": "stdout",
     "output_type": "stream",
     "text": [
      "()\n",
      "\n"
     ]
    }
   ],
   "source": [
    "inl buf_read_lines forall t. (buf_reader : buf_reader t) : lines (buf_reader t) =\n",
    "    !\\($'\"std::io::BufRead::lines(!buf_reader)\"')"
   ]
  },
  {
   "cell_type": "markdown",
   "metadata": {},
   "source": [
    "## decode_reader_bytes"
   ]
  },
  {
   "cell_type": "code",
   "execution_count": null,
   "metadata": {
    "dotnet_interactive": {
     "language": "spiral"
    },
    "polyglot_notebook": {
     "kernelName": "spiral"
    }
   },
   "outputs": [
    {
     "name": "stdout",
     "output_type": "stream",
     "text": [
      "()\n",
      "\n"
     ]
    }
   ],
   "source": [
    "nominal decode_reader_bytes t u = $'encoding_rs_io_DecodeReaderBytes<`t, `u>'"
   ]
  },
  {
   "cell_type": "markdown",
   "metadata": {},
   "source": [
    "## decode_reader_bytes_build"
   ]
  },
  {
   "cell_type": "code",
   "execution_count": null,
   "metadata": {
    "dotnet_interactive": {
     "language": "spiral"
    },
    "polyglot_notebook": {
     "kernelName": "spiral"
    }
   },
   "outputs": [
    {
     "name": "stdout",
     "output_type": "stream",
     "text": [
      "()\n",
      "\n"
     ]
    }
   ],
   "source": [
    "inl decode_reader_bytes_build forall t. (x : t) : decode_reader_bytes t (am'.vec u8) =\n",
    "    // !\\($'\"encoding_rs_io::DecodeReaderBytesBuilder::new().encoding(Some(encoding_rs::UTF_8)).build(!x)\"')\n",
    "    // !\\($'\"encoding_rs_io::DecodeReaderBytesBuilder::new().encoding(Some(encoding_rs::UTF_8)).utf8_passthru(true).build(!x)\"')\n",
    "    !\\($'\"encoding_rs_io::DecodeReaderBytesBuilder::new().utf8_passthru(true).build(!x)\"')\n",
    "    // !\\($'\"encoding_rs_io::DecodeReaderBytes::new(!x)\"')"
   ]
  },
  {
   "cell_type": "markdown",
   "metadata": {},
   "source": [
    "## buf_reader_read"
   ]
  },
  {
   "cell_type": "code",
   "execution_count": null,
   "metadata": {
    "dotnet_interactive": {
     "language": "spiral"
    },
    "polyglot_notebook": {
     "kernelName": "spiral"
    }
   },
   "outputs": [
    {
     "name": "stdout",
     "output_type": "stream",
     "text": [
      "()\n",
      "\n"
     ]
    }
   ],
   "source": [
    "inl buf_reader_read forall el dim. (slice : am'.slice' el dim) (buf_reader : buf_reader el) : resultm.result' unativeint io_error =\n",
    "    (!\\($'\"true; let mut !slice = !slice\"') : bool) |> ignore\n",
    "    !\\($'\"std::io::Read::read(&mut !buf_reader, &mut !slice)\"')"
   ]
  },
  {
   "cell_type": "markdown",
   "metadata": {},
   "source": [
    "## stream"
   ]
  },
  {
   "cell_type": "code",
   "execution_count": null,
   "metadata": {
    "dotnet_interactive": {
     "language": "spiral"
    },
    "polyglot_notebook": {
     "kernelName": "spiral"
    }
   },
   "outputs": [
    {
     "name": "stdout",
     "output_type": "stream",
     "text": [
      "()\n",
      "\n"
     ]
    }
   ],
   "source": [
    "union rec stream t =\n",
    "    | StreamCons : t * (() -> stream t)\n",
    "    | StreamNil"
   ]
  },
  {
   "cell_type": "markdown",
   "metadata": {},
   "source": [
    "## fold"
   ]
  },
  {
   "cell_type": "code",
   "execution_count": null,
   "metadata": {
    "dotnet_interactive": {
     "language": "spiral"
    },
    "polyglot_notebook": {
     "kernelName": "spiral"
    }
   },
   "outputs": [
    {
     "name": "stdout",
     "output_type": "stream",
     "text": [
      "()\n",
      "\n"
     ]
    }
   ],
   "source": [
    "inl fold fn init s =\n",
    "    inl rec body acc = function\n",
    "        | StreamCons (st, fn') => loop (fn acc st) (fn' ())\n",
    "        | StreamNil => acc\n",
    "    and inl loop acc = join_body body acc\n",
    "    loop init s"
   ]
  },
  {
   "cell_type": "markdown",
   "metadata": {},
   "source": [
    "## fold_back"
   ]
  },
  {
   "cell_type": "code",
   "execution_count": null,
   "metadata": {
    "dotnet_interactive": {
     "language": "spiral"
    },
    "polyglot_notebook": {
     "kernelName": "spiral"
    }
   },
   "outputs": [
    {
     "name": "stdout",
     "output_type": "stream",
     "text": [
      "()\n",
      "\n"
     ]
    }
   ],
   "source": [
    "inl fold_back fn s init =\n",
    "    inl rec body acc = function\n",
    "        | StreamCons (st, fn') => fn st (loop acc (fn' ()))\n",
    "        | StreamNil => acc\n",
    "    and inl loop acc = join_body body acc\n",
    "    loop init s"
   ]
  },
  {
   "cell_type": "markdown",
   "metadata": {},
   "source": [
    "## to_list"
   ]
  },
  {
   "cell_type": "code",
   "execution_count": null,
   "metadata": {
    "dotnet_interactive": {
     "language": "spiral"
    },
    "polyglot_notebook": {
     "kernelName": "spiral"
    }
   },
   "outputs": [
    {
     "name": "stdout",
     "output_type": "stream",
     "text": [
      "()\n",
      "\n"
     ]
    }
   ],
   "source": [
    "inl to_list s =\n",
    "    (s, [])\n",
    "    ||> fold_back fun x acc =>\n",
    "        x :: acc"
   ]
  },
  {
   "cell_type": "markdown",
   "metadata": {},
   "source": [
    "## rev"
   ]
  },
  {
   "cell_type": "code",
   "execution_count": null,
   "metadata": {
    "dotnet_interactive": {
     "language": "spiral"
    },
    "polyglot_notebook": {
     "kernelName": "spiral"
    }
   },
   "outputs": [
    {
     "name": "stdout",
     "output_type": "stream",
     "text": [
      "()\n",
      "\n"
     ]
    }
   ],
   "source": [
    "inl rev s =\n",
    "    (StreamNil, s)\n",
    "    ||> fold fun s x =>\n",
    "        StreamCons (x, fun () => s)"
   ]
  },
  {
   "cell_type": "markdown",
   "metadata": {},
   "source": [
    "## from_list"
   ]
  },
  {
   "cell_type": "code",
   "execution_count": null,
   "metadata": {
    "dotnet_interactive": {
     "language": "spiral"
    },
    "polyglot_notebook": {
     "kernelName": "spiral"
    }
   },
   "outputs": [
    {
     "name": "stdout",
     "output_type": "stream",
     "text": [
      "()\n",
      "\n"
     ]
    }
   ],
   "source": [
    "inl from_list list =\n",
    "    (list, StreamNil)\n",
    "    ||> listm.foldBack fun x acc =>\n",
    "        StreamCons (x, fun () => acc)"
   ]
  },
  {
   "cell_type": "code",
   "execution_count": null,
   "metadata": {
    "dotnet_interactive": {
     "language": "spiral"
    },
    "polyglot_notebook": {
     "kernelName": "spiral"
    }
   },
   "outputs": [
    {
     "name": "stdout",
     "output_type": "stream",
     "text": [
      "type UH0 =\n",
      "    | UH0_0\n",
      "    | UH0_1 of int32 * UH0\n",
      "let rec method0 () : unit =\n",
      "    let v18 : string = \"assert_eq\"\n",
      "    let v19 : UH0 = UH0_0\n",
      "    let v20 : UH0 = UH0_1(0, v19)\n",
      "    let v21 : UH0 = UH0_1(1, v20)\n",
      "    let v22 : UH0 = UH0_1(2, v21)\n",
      "    let v23 : UH0 = UH0_0\n",
      "    let v24 : UH0 = UH0_1(0, v23)\n",
      "    let v25 : UH0 = UH0_1(1, v24)\n",
      "    let v26 : UH0 = UH0_1(2, v25)\n",
      "    let v27 : string = $\"{v18} / actual: %A{v22} / expected: %A{v26}\"\n",
      "    System.Console.WriteLine v27\n",
      "    ()\n",
      "method0()\n",
      "\n",
      "assert_eq / actual: UH0_1 (2, UH0_1 (1, UH0_1 (0, UH0_0))) / expected: UH0_1 (2, UH0_1 (1, UH0_1 (0, UH0_0)))\n"
     ]
    }
   ],
   "source": [
    "//// test\n",
    "\n",
    "listm.init 3i32 id\n",
    "|> from_list\n",
    "|> rev\n",
    "|> to_list\n",
    "|> _assert_eq [ 2; 1; 0 ]"
   ]
  },
  {
   "cell_type": "markdown",
   "metadata": {},
   "source": [
    "## try_item"
   ]
  },
  {
   "cell_type": "code",
   "execution_count": null,
   "metadata": {
    "dotnet_interactive": {
     "language": "spiral"
    },
    "polyglot_notebook": {
     "kernelName": "spiral"
    }
   },
   "outputs": [
    {
     "name": "stdout",
     "output_type": "stream",
     "text": [
      "()\n",
      "\n"
     ]
    }
   ],
   "source": [
    "inl try_item i s =\n",
    "    inl rec body i = function\n",
    "        | StreamCons (x, _) when i <= 0 => Some x\n",
    "        | StreamCons (_, fn) => loop (i - 1) (fn ())\n",
    "        | StreamNil => None\n",
    "    and inl loop acc s' =\n",
    "        match var_is acc, var_is s' with\n",
    "        | false, false => body acc s'\n",
    "        | _ =>\n",
    "            inl acc = dyn acc\n",
    "            inl s' = dyn s'\n",
    "            join body acc s'\n",
    "    loop i s\n",
    "\n",
    "inl item i =\n",
    "    try_item i >> optionm.value"
   ]
  },
  {
   "cell_type": "code",
   "execution_count": null,
   "metadata": {
    "dotnet_interactive": {
     "language": "spiral"
    },
    "polyglot_notebook": {
     "kernelName": "spiral"
    }
   },
   "outputs": [
    {
     "name": "stdout",
     "output_type": "stream",
     "text": [
      "let rec method0 () : unit =\n",
      "    let v0 : string = \"assert_eq\"\n",
      "    let v1 : string = $\"{v0} / actual: %A{9} / expected: %A{9}\"\n",
      "    System.Console.WriteLine v1\n",
      "    ()\n",
      "method0()\n",
      "\n",
      "assert_eq / actual: 9 / expected: 9\n"
     ]
    }
   ],
   "source": [
    "//// test\n",
    "\n",
    "listm.init 10i32 id\n",
    "|> from_list\n",
    "|> item 9i32\n",
    "|> _assert_eq 9"
   ]
  },
  {
   "cell_type": "markdown",
   "metadata": {},
   "source": [
    "## new_infinite_stream"
   ]
  },
  {
   "cell_type": "code",
   "execution_count": null,
   "metadata": {
    "dotnet_interactive": {
     "language": "spiral"
    },
    "polyglot_notebook": {
     "kernelName": "spiral"
    }
   },
   "outputs": [
    {
     "name": "stdout",
     "output_type": "stream",
     "text": [
      "()\n",
      "\n"
     ]
    }
   ],
   "source": [
    "inl new_infinite_stream fn =\n",
    "    inl rec loop n =\n",
    "        StreamCons (fn n, fun () => loop (n + 1))\n",
    "    loop 0\n",
    "\n",
    "inl new_infinite_stream_ fn =\n",
    "    let rec loop n =\n",
    "        StreamCons (fn n, fun () => loop (n + 1))\n",
    "    loop 0"
   ]
  },
  {
   "cell_type": "code",
   "execution_count": null,
   "metadata": {
    "dotnet_interactive": {
     "language": "spiral"
    },
    "polyglot_notebook": {
     "kernelName": "spiral"
    }
   },
   "outputs": [
    {
     "name": "stdout",
     "output_type": "stream",
     "text": [
      "let rec method0 () : unit =\n",
      "    printfn $\"print_and_return / x: {0}\"\n",
      "    printfn $\"print_and_return / x: {1}\"\n",
      "    printfn $\"print_and_return / x: {2}\"\n",
      "    printfn $\"print_and_return / x: {3}\"\n",
      "    printfn $\"print_and_return / x: {4}\"\n",
      "    let v0 : string = \"assert_eq\"\n",
      "    let v1 : string = $\"{v0} / actual: %A{4} / expected: %A{4}\"\n",
      "    System.Console.WriteLine v1\n",
      "    ()\n",
      "method0()\n",
      "\n",
      "print_and_return / x: 0\n",
      "print_and_return / x: 1\n",
      "print_and_return / x: 2\n",
      "print_and_return / x: 3\n",
      "print_and_return / x: 4\n",
      "assert_eq / actual: 4 / expected: 4\n"
     ]
    }
   ],
   "source": [
    "//// test\n",
    "\n",
    "new_infinite_stream print_and_return\n",
    "|> item 4i32\n",
    "|> _assert_eq 4i32"
   ]
  },
  {
   "cell_type": "markdown",
   "metadata": {},
   "source": [
    "## new_finite_stream"
   ]
  },
  {
   "cell_type": "code",
   "execution_count": null,
   "metadata": {
    "dotnet_interactive": {
     "language": "spiral"
    },
    "polyglot_notebook": {
     "kernelName": "spiral"
    }
   },
   "outputs": [
    {
     "name": "stdout",
     "output_type": "stream",
     "text": [
      "()\n",
      "\n"
     ]
    }
   ],
   "source": [
    "inl new_finite_stream fn max =\n",
    "    inl rec loop n =\n",
    "        if n >= max\n",
    "        then StreamNil\n",
    "        else StreamCons (fn n, fun () => loop (n + 1))\n",
    "    loop 0"
   ]
  },
  {
   "cell_type": "markdown",
   "metadata": {},
   "source": [
    "## memoize"
   ]
  },
  {
   "cell_type": "code",
   "execution_count": null,
   "metadata": {
    "dotnet_interactive": {
     "language": "spiral"
    },
    "polyglot_notebook": {
     "kernelName": "spiral"
    }
   },
   "outputs": [
    {
     "name": "stdout",
     "output_type": "stream",
     "text": [
      "()\n",
      "\n"
     ]
    }
   ],
   "source": [
    "union memoized_stream t =\n",
    "    | NotComputed : () -> stream t\n",
    "    | Computed : stream t\n",
    "\n",
    "inl memoize s =\n",
    "    inl rec body s =\n",
    "        inl state = mut (NotComputed s)\n",
    "        fun () =>\n",
    "            match *state with\n",
    "            | Computed x => x\n",
    "            | NotComputed fn =>\n",
    "                inl new_state =\n",
    "                    match fn () with\n",
    "                    | StreamNil => StreamNil\n",
    "                    | StreamCons (x, fn) => StreamCons (x, loop fn)\n",
    "                state <- Computed new_state\n",
    "                new_state\n",
    "    and inl loop s' = join_body_unit body s s'\n",
    "    loop (fun () => s)"
   ]
  },
  {
   "cell_type": "code",
   "execution_count": null,
   "metadata": {
    "dotnet_interactive": {
     "language": "spiral"
    },
    "polyglot_notebook": {
     "kernelName": "spiral"
    }
   },
   "outputs": [
    {
     "name": "stdout",
     "output_type": "stream",
     "text": [
      "type UH0 =\n",
      "    | UH0_0 of int32 * (unit -> UH0)\n",
      "    | UH0_1\n",
      "and [<Struct>] US0 =\n",
      "    | US0_0 of f0_0 : (unit -> UH0)\n",
      "    | US0_1 of f1_0 : UH0\n",
      "and Mut0 = {mutable l0 : US0}\n",
      "and [<Struct>] US1 =\n",
      "    | US1_0 of f0_0 : int32\n",
      "    | US1_1\n",
      "let rec closure10 () () : UH0 =\n",
      "    UH0_1\n",
      "and closure9 () () : UH0 =\n",
      "    printfn $\"print_and_return / x: {9}\"\n",
      "    let v0 : (unit -> UH0) = closure10()\n",
      "    UH0_0(9, v0)\n",
      "and closure8 () () : UH0 =\n",
      "    printfn $\"print_and_return / x: {8}\"\n",
      "    let v0 : (unit -> UH0) = closure9()\n",
      "    UH0_0(8, v0)\n",
      "and closure7 () () : UH0 =\n",
      "    printfn $\"print_and_return / x: {7}\"\n",
      "    let v0 : (unit -> UH0) = closure8()\n",
      "    UH0_0(7, v0)\n",
      "and closure6 () () : UH0 =\n",
      "    printfn $\"print_and_return / x: {6}\"\n",
      "    let v0 : (unit -> UH0) = closure7()\n",
      "    UH0_0(6, v0)\n",
      "and closure5 () () : UH0 =\n",
      "    printfn $\"print_and_return / x: {5}\"\n",
      "    let v0 : (unit -> UH0) = closure6()\n",
      "    UH0_0(5, v0)\n",
      "and closure4 () () : UH0 =\n",
      "    printfn $\"print_and_return / x: {4}\"\n",
      "    let v0 : (unit -> UH0) = closure5()\n",
      "    UH0_0(4, v0)\n",
      "and closure3 () () : UH0 =\n",
      "    printfn $\"print_and_return / x: {3}\"\n",
      "    let v0 : (unit -> UH0) = closure4()\n",
      "    UH0_0(3, v0)\n",
      "and closure2 () () : UH0 =\n",
      "    printfn $\"print_and_return / x: {2}\"\n",
      "    let v0 : (unit -> UH0) = closure3()\n",
      "    UH0_0(2, v0)\n",
      "and closure1 () () : UH0 =\n",
      "    printfn $\"print_and_return / x: {1}\"\n",
      "    let v0 : (unit -> UH0) = closure2()\n",
      "    UH0_0(1, v0)\n",
      "and closure0 () () : UH0 =\n",
      "    let v0 : (unit -> UH0) = closure1()\n",
      "    UH0_0(0, v0)\n",
      "and closure11 (v0 : Mut0) () : UH0 =\n",
      "    let v1 : US0 = v0.l0\n",
      "    match v1 with\n",
      "    | US0_1(v2) -> (* Computed *)\n",
      "        v2\n",
      "    | US0_0(v3) -> (* NotComputed *)\n",
      "        let v4 : UH0 = v3 ()\n",
      "        let v13 : UH0 =\n",
      "            match v4 with\n",
      "            | UH0_0(v6, v7) -> (* StreamCons *)\n",
      "                let v8 : US0 = US0_0(v7)\n",
      "                let v9 : Mut0 = {l0 = v8} : Mut0\n",
      "                let v10 : (unit -> UH0) = closure11(v9)\n",
      "                UH0_0(v6, v10)\n",
      "            | UH0_1 -> (* StreamNil *)\n",
      "                UH0_1\n",
      "        let v14 : US0 = US0_1(v13)\n",
      "        v0.l0 <- v14\n",
      "        v13\n",
      "and method1 (v0 : int32, v1 : UH0) : US1 =\n",
      "    match v1 with\n",
      "    | UH0_0(v2, v3) -> (* StreamCons *)\n",
      "        let v4 : bool = v0 <= 0\n",
      "        if v4 then\n",
      "            US1_0(v2)\n",
      "        else\n",
      "            let v6 : int32 = v0 - 1\n",
      "            let v7 : UH0 = v3 ()\n",
      "            method1(v6, v7)\n",
      "    | UH0_1 -> (* StreamNil *)\n",
      "        US1_1\n",
      "and method2 (v0 : bool) : bool =\n",
      "    v0\n",
      "and method0 () : unit =\n",
      "    printfn $\"print_and_return / x: {0}\"\n",
      "    let v0 : (unit -> UH0) = closure0()\n",
      "    let v1 : US0 = US0_0(v0)\n",
      "    let v2 : Mut0 = {l0 = v1} : Mut0\n",
      "    let v3 : US0 = v2.l0\n",
      "    let v18 : UH0 =\n",
      "        match v3 with\n",
      "        | US0_1(v4) -> (* Computed *)\n",
      "            v4\n",
      "        | US0_0(v5) -> (* NotComputed *)\n",
      "            let v6 : UH0 = v5 ()\n",
      "            let v15 : UH0 =\n",
      "                match v6 with\n",
      "                | UH0_0(v8, v9) -> (* StreamCons *)\n",
      "                    let v10 : US0 = US0_0(v9)\n",
      "                    let v11 : Mut0 = {l0 = v10} : Mut0\n",
      "                    let v12 : (unit -> UH0) = closure11(v11)\n",
      "                    UH0_0(v8, v12)\n",
      "                | UH0_1 -> (* StreamNil *)\n",
      "                    UH0_1\n",
      "            let v16 : US0 = US0_1(v15)\n",
      "            v2.l0 <- v16\n",
      "            v15\n",
      "    let v19 : int32 = 3\n",
      "    let v20 : US1 = method1(v19, v18)\n",
      "    let v24 : int32 =\n",
      "        match v20 with\n",
      "        | US1_1 -> (* None *)\n",
      "            failwith<int32> \"Option does not have a value.\"\n",
      "        | US1_0(v21) -> (* Some *)\n",
      "            v21\n",
      "    let v25 : bool = v24 = 3\n",
      "    let v27 : bool =\n",
      "        if v25 then\n",
      "            true\n",
      "        else\n",
      "            method2(v25)\n",
      "    let v28 : string = \"assert_eq\"\n",
      "    let v29 : string = $\"{v28} / actual: %A{v24} / expected: %A{3}\"\n",
      "    System.Console.WriteLine v29\n",
      "    let v30 : bool = v27 = false\n",
      "    if v30 then\n",
      "        failwith<unit> v29\n",
      "    let v31 : US0 = v2.l0\n",
      "    let v46 : UH0 =\n",
      "        match v31 with\n",
      "        | US0_1(v32) -> (* Computed *)\n",
      "            v32\n",
      "        | US0_0(v33) -> (* NotComputed *)\n",
      "            let v34 : UH0 = v33 ()\n",
      "            let v43 : UH0 =\n",
      "                match v34 with\n",
      "                | UH0_0(v36, v37) -> (* StreamCons *)\n",
      "                    let v38 : US0 = US0_0(v37)\n",
      "                    let v39 : Mut0 = {l0 = v38} : Mut0\n",
      "                    let v40 : (unit -> UH0) = closure11(v39)\n",
      "                    UH0_0(v36, v40)\n",
      "                | UH0_1 -> (* StreamNil *)\n",
      "                    UH0_1\n",
      "            let v44 : US0 = US0_1(v43)\n",
      "            v2.l0 <- v44\n",
      "            v43\n",
      "    let v47 : int32 = 5\n",
      "    let v48 : US1 = method1(v47, v46)\n",
      "    let v52 : int32 =\n",
      "        match v48 with\n",
      "        | US1_1 -> (* None *)\n",
      "            failwith<int32> \"Option does not have a value.\"\n",
      "        | US1_0(v49) -> (* Some *)\n",
      "            v49\n",
      "    let v53 : bool = v52 = 5\n",
      "    let v55 : bool =\n",
      "        if v53 then\n",
      "            true\n",
      "        else\n",
      "            method2(v53)\n",
      "    let v56 : string = $\"{v28} / actual: %A{v52} / expected: %A{5}\"\n",
      "    System.Console.WriteLine v56\n",
      "    let v57 : bool = v55 = false\n",
      "    if v57 then\n",
      "        failwith<unit> v56\n",
      "method0()\n",
      "\n",
      "print_and_return / x: 0\n",
      "print_and_return / x: 1\n",
      "print_and_return / x: 2\n",
      "print_and_return / x: 3\n",
      "assert_eq / actual: 3 / expected: 3\n",
      "print_and_return / x: 4\n",
      "print_and_return / x: 5\n",
      "assert_eq / actual: 5 / expected: 5\n"
     ]
    }
   ],
   "source": [
    "//// test\n",
    "\n",
    "inl memo_stream = new_finite_stream print_and_return 10 |> memoize\n",
    "\n",
    "memo_stream ()\n",
    "|> item 3i32\n",
    "|> _assert_eq 3i32\n",
    "\n",
    "memo_stream ()\n",
    "|> item 5i32\n",
    "|> _assert_eq 5i32"
   ]
  },
  {
   "cell_type": "code",
   "execution_count": null,
   "metadata": {
    "dotnet_interactive": {
     "language": "spiral"
    },
    "polyglot_notebook": {
     "kernelName": "spiral"
    }
   },
   "outputs": [
    {
     "name": "stdout",
     "output_type": "stream",
     "text": [
      "type UH0 =\n",
      "    | UH0_0 of int32 * (unit -> UH0)\n",
      "    | UH0_1\n",
      "and [<Struct>] US0 =\n",
      "    | US0_0 of f0_0 : (unit -> UH0)\n",
      "    | US0_1 of f1_0 : UH0\n",
      "and Mut0 = {mutable l0 : US0}\n",
      "and [<Struct>] US1 =\n",
      "    | US1_0 of f0_0 : int32\n",
      "    | US1_1\n",
      "let rec closure0 (v0 : int32) () : UH0 =\n",
      "    let v1 : int32 = v0 + 1\n",
      "    method1(v1)\n",
      "and method1 (v0 : int32) : UH0 =\n",
      "    printfn $\"print_and_return / x: {v0}\"\n",
      "    let v1 : (unit -> UH0) = closure0(v0)\n",
      "    UH0_0(v0, v1)\n",
      "and closure1 (v0 : UH0) () : UH0 =\n",
      "    v0\n",
      "and closure2 (v0 : UH0, v1 : Mut0) () : UH0 =\n",
      "    let v2 : US0 = v1.l0\n",
      "    match v2 with\n",
      "    | US0_1(v3) -> (* Computed *)\n",
      "        v3\n",
      "    | US0_0(v4) -> (* NotComputed *)\n",
      "        let v5 : UH0 = v4 ()\n",
      "        let v12 : UH0 =\n",
      "            match v5 with\n",
      "            | UH0_0(v7, v8) -> (* StreamCons *)\n",
      "                let v9 : (unit -> UH0) = method2(v0, v8)\n",
      "                UH0_0(v7, v9)\n",
      "            | UH0_1 -> (* StreamNil *)\n",
      "                UH0_1\n",
      "        let v13 : US0 = US0_1(v12)\n",
      "        v1.l0 <- v13\n",
      "        v12\n",
      "and method2 (v0 : UH0, v1 : (unit -> UH0)) : (unit -> UH0) =\n",
      "    let v2 : US0 = US0_0(v1)\n",
      "    let v3 : Mut0 = {l0 = v2} : Mut0\n",
      "    closure2(v0, v3)\n",
      "and method3 (v0 : int32, v1 : UH0) : US1 =\n",
      "    match v1 with\n",
      "    | UH0_0(v2, v3) -> (* StreamCons *)\n",
      "        let v4 : bool = v0 <= 0\n",
      "        if v4 then\n",
      "            US1_0(v2)\n",
      "        else\n",
      "            let v6 : int32 = v0 - 1\n",
      "            let v7 : UH0 = v3 ()\n",
      "            method3(v6, v7)\n",
      "    | UH0_1 -> (* StreamNil *)\n",
      "        US1_1\n",
      "and method4 (v0 : bool) : bool =\n",
      "    v0\n",
      "and method0 () : unit =\n",
      "    let v0 : int32 = 0\n",
      "    let v1 : UH0 = method1(v0)\n",
      "    let v2 : (unit -> UH0) = closure1(v1)\n",
      "    let v3 : (unit -> UH0) = method2(v1, v2)\n",
      "    let v4 : UH0 = v3 ()\n",
      "    let v5 : int32 = 3\n",
      "    let v6 : US1 = method3(v5, v4)\n",
      "    let v10 : int32 =\n",
      "        match v6 with\n",
      "        | US1_1 -> (* None *)\n",
      "            failwith<int32> \"Option does not have a value.\"\n",
      "        | US1_0(v7) -> (* Some *)\n",
      "            v7\n",
      "    let v11 : bool = v10 = 3\n",
      "    let v13 : bool =\n",
      "        if v11 then\n",
      "            true\n",
      "        else\n",
      "            method4(v11)\n",
      "    let v14 : string = \"assert_eq\"\n",
      "    let v15 : string = $\"{v14} / actual: %A{v10} / expected: %A{3}\"\n",
      "    System.Console.WriteLine v15\n",
      "    let v16 : bool = v13 = false\n",
      "    if v16 then\n",
      "        failwith<unit> v15\n",
      "    let v17 : UH0 = v3 ()\n",
      "    let v18 : int32 = 5\n",
      "    let v19 : US1 = method3(v18, v17)\n",
      "    let v23 : int32 =\n",
      "        match v19 with\n",
      "        | US1_1 -> (* None *)\n",
      "            failwith<int32> \"Option does not have a value.\"\n",
      "        | US1_0(v20) -> (* Some *)\n",
      "            v20\n",
      "    let v24 : bool = v23 = 5\n",
      "    let v26 : bool =\n",
      "        if v24 then\n",
      "            true\n",
      "        else\n",
      "            method4(v24)\n",
      "    let v27 : string = $\"{v14} / actual: %A{v23} / expected: %A{5}\"\n",
      "    System.Console.WriteLine v27\n",
      "    let v28 : bool = v26 = false\n",
      "    if v28 then\n",
      "        failwith<unit> v27\n",
      "method0()\n",
      "\n",
      "print_and_return / x: 0\n",
      "print_and_return / x: 1\n",
      "print_and_return / x: 2\n",
      "print_and_return / x: 3\n",
      "assert_eq / actual: 3 / expected: 3\n",
      "print_and_return / x: 4\n",
      "print_and_return / x: 5\n",
      "assert_eq / actual: 5 / expected: 5\n"
     ]
    }
   ],
   "source": [
    "//// test\n",
    "\n",
    "inl memo_stream = new_infinite_stream_ print_and_return |> memoize\n",
    "\n",
    "memo_stream ()\n",
    "|> item 3i32\n",
    "|> _assert_eq 3i32\n",
    "\n",
    "memo_stream ()\n",
    "|> item 5i32\n",
    "|> _assert_eq 5i32"
   ]
  },
  {
   "cell_type": "markdown",
   "metadata": {},
   "source": [
    "## unfold"
   ]
  },
  {
   "cell_type": "code",
   "execution_count": null,
   "metadata": {
    "dotnet_interactive": {
     "language": "spiral"
    },
    "polyglot_notebook": {
     "kernelName": "spiral"
    }
   },
   "outputs": [
    {
     "name": "stdout",
     "output_type": "stream",
     "text": [
      "()\n",
      "\n"
     ]
    }
   ],
   "source": [
    "inl unfold f x0 =\n",
    "    inl rec body x =\n",
    "        match f x with\n",
    "        | Some (x', y) => StreamCons (x', fun () => loop y)\n",
    "        | None => StreamNil\n",
    "    and inl loop x = join_body_unit body x0 x\n",
    "    loop x0"
   ]
  },
  {
   "cell_type": "markdown",
   "metadata": {},
   "source": [
    "## iterate"
   ]
  },
  {
   "cell_type": "code",
   "execution_count": null,
   "metadata": {
    "dotnet_interactive": {
     "language": "spiral"
    },
    "polyglot_notebook": {
     "kernelName": "spiral"
    }
   },
   "outputs": [
    {
     "name": "stdout",
     "output_type": "stream",
     "text": [
      "()\n",
      "\n"
     ]
    }
   ],
   "source": [
    "inl iterate f =\n",
    "    unfold (fun x => Some (x, f x))"
   ]
  },
  {
   "cell_type": "code",
   "execution_count": null,
   "metadata": {
    "dotnet_interactive": {
     "language": "spiral"
    },
    "polyglot_notebook": {
     "kernelName": "spiral"
    }
   },
   "outputs": [
    {
     "name": "stdout",
     "output_type": "stream",
     "text": [
      "let rec method0 () : unit =\n",
      "    let v0 : string = \"assert_eq\"\n",
      "    let v1 : string = $\"{v0} / actual: %A{1024} / expected: %A{1024}\"\n",
      "    System.Console.WriteLine v1\n",
      "    ()\n",
      "method0()\n",
      "\n",
      "assert_eq / actual: 1024 / expected: 1024\n"
     ]
    }
   ],
   "source": [
    "//// test\n",
    "\n",
    "iterate ((*) 2) 1i32\n",
    "|> item 10i32\n",
    "|> _assert_eq 1024"
   ]
  },
  {
   "cell_type": "markdown",
   "metadata": {},
   "source": [
    "## take_while"
   ]
  },
  {
   "cell_type": "code",
   "execution_count": null,
   "metadata": {
    "dotnet_interactive": {
     "language": "spiral"
    },
    "polyglot_notebook": {
     "kernelName": "spiral"
    }
   },
   "outputs": [
    {
     "name": "stdout",
     "output_type": "stream",
     "text": [
      "()\n",
      "\n"
     ]
    }
   ],
   "source": [
    "inl take_while cond s =\n",
    "    inl rec body i = function\n",
    "        | StreamCons (st, fn) when cond st i => StreamCons (st, fun () => loop (i + 1) (fn ()))\n",
    "        | _ => StreamNil\n",
    "    and inl loop i = join_body body i\n",
    "    loop 0 s"
   ]
  },
  {
   "cell_type": "markdown",
   "metadata": {},
   "source": [
    "## sum"
   ]
  },
  {
   "cell_type": "code",
   "execution_count": null,
   "metadata": {
    "dotnet_interactive": {
     "language": "spiral"
    },
    "polyglot_notebook": {
     "kernelName": "spiral"
    }
   },
   "outputs": [
    {
     "name": "stdout",
     "output_type": "stream",
     "text": [
      "()\n",
      "\n"
     ]
    }
   ],
   "source": [
    "inl sum seq =\n",
    "    seq |> fold (+) 0"
   ]
  },
  {
   "cell_type": "code",
   "execution_count": null,
   "metadata": {
    "dotnet_interactive": {
     "language": "spiral"
    },
    "polyglot_notebook": {
     "kernelName": "spiral"
    }
   },
   "outputs": [
    {
     "name": "stdout",
     "output_type": "stream",
     "text": [
      "let rec method0 () : unit =\n",
      "    let v0 : string = \"assert_eq\"\n",
      "    let v1 : string = $\"{v0} / actual: %A{45} / expected: %A{45}\"\n",
      "    System.Console.WriteLine v1\n",
      "    ()\n",
      "method0()\n",
      "\n",
      "assert_eq / actual: 45 / expected: 45\n"
     ]
    }
   ],
   "source": [
    "//// test\n",
    "\n",
    "listm.init 10i32 id\n",
    "|> from_list\n",
    "|> sum\n",
    "|> _assert_eq 45"
   ]
  },
  {
   "cell_type": "code",
   "execution_count": null,
   "metadata": {
    "dotnet_interactive": {
     "language": "spiral"
    },
    "polyglot_notebook": {
     "kernelName": "spiral"
    }
   },
   "outputs": [
    {
     "name": "stdout",
     "output_type": "stream",
     "text": [
      "let rec method0 () : unit =\n",
      "    printfn $\"print_and_return / x: {0}\"\n",
      "    printfn $\"print_and_return / x: {1}\"\n",
      "    printfn $\"print_and_return / x: {2}\"\n",
      "    printfn $\"print_and_return / x: {3}\"\n",
      "    printfn $\"print_and_return / x: {4}\"\n",
      "    printfn $\"print_and_return / x: {5}\"\n",
      "    let v0 : string = \"assert_eq\"\n",
      "    let v1 : string = $\"{v0} / actual: %A{10} / expected: %A{10}\"\n",
      "    System.Console.WriteLine v1\n",
      "    ()\n",
      "method0()\n",
      "\n",
      "print_and_return / x: 0\n",
      "print_and_return / x: 1\n",
      "print_and_return / x: 2\n",
      "print_and_return / x: 3\n",
      "print_and_return / x: 4\n",
      "print_and_return / x: 5\n",
      "assert_eq / actual: 10 / expected: 10\n"
     ]
    }
   ],
   "source": [
    "//// test\n",
    "\n",
    "new_finite_stream print_and_return 10i32\n",
    "|> take_while (fun n (_ : i32) => n < 5)\n",
    "|> sum\n",
    "|> _assert_eq 10"
   ]
  },
  {
   "cell_type": "code",
   "execution_count": null,
   "metadata": {
    "dotnet_interactive": {
     "language": "spiral"
    },
    "polyglot_notebook": {
     "kernelName": "spiral"
    }
   },
   "outputs": [
    {
     "name": "stdout",
     "output_type": "stream",
     "text": [
      "let rec method0 () : unit =\n",
      "    printfn $\"print_and_return / x: {0}\"\n",
      "    printfn $\"print_and_return / x: {1}\"\n",
      "    printfn $\"print_and_return / x: {2}\"\n",
      "    printfn $\"print_and_return / x: {3}\"\n",
      "    printfn $\"print_and_return / x: {4}\"\n",
      "    printfn $\"print_and_return / x: {5}\"\n",
      "    let v0 : string = \"assert_eq\"\n",
      "    let v1 : string = $\"{v0} / actual: %A{10} / expected: %A{10}\"\n",
      "    System.Console.WriteLine v1\n",
      "    ()\n",
      "method0()\n",
      "\n",
      "print_and_return / x: 0\n",
      "print_and_return / x: 1\n",
      "print_and_return / x: 2\n",
      "print_and_return / x: 3\n",
      "print_and_return / x: 4\n",
      "print_and_return / x: 5\n",
      "assert_eq / actual: 10 / expected: 10\n"
     ]
    }
   ],
   "source": [
    "//// test\n",
    "\n",
    "new_infinite_stream print_and_return\n",
    "|> take_while (fun n (_ : i32) => n < 5i32)\n",
    "|> sum\n",
    "|> _assert_eq 10"
   ]
  },
  {
   "cell_type": "code",
   "execution_count": null,
   "metadata": {
    "dotnet_interactive": {
     "language": "spiral"
    },
    "polyglot_notebook": {
     "kernelName": "spiral"
    }
   },
   "outputs": [
    {
     "name": "stdout",
     "output_type": "stream",
     "text": [
      "type UH0 =\n",
      "    | UH0_0\n",
      "    | UH0_1 of int32 * UH0\n",
      "let rec method0 () : unit =\n",
      "    let v63 : string = \"assert_eq\"\n",
      "    let v64 : UH0 = UH0_0\n",
      "    let v65 : UH0 = UH0_1(279936, v64)\n",
      "    let v66 : UH0 = UH0_1(46656, v65)\n",
      "    let v67 : UH0 = UH0_1(7776, v66)\n",
      "    let v68 : UH0 = UH0_1(1296, v67)\n",
      "    let v69 : UH0 = UH0_1(216, v68)\n",
      "    let v70 : UH0 = UH0_1(36, v69)\n",
      "    let v71 : UH0 = UH0_1(6, v70)\n",
      "    let v72 : UH0 = UH0_1(1, v71)\n",
      "    let v73 : UH0 = UH0_0\n",
      "    let v74 : UH0 = UH0_1(279936, v73)\n",
      "    let v75 : UH0 = UH0_1(46656, v74)\n",
      "    let v76 : UH0 = UH0_1(7776, v75)\n",
      "    let v77 : UH0 = UH0_1(1296, v76)\n",
      "    let v78 : UH0 = UH0_1(216, v77)\n",
      "    let v79 : UH0 = UH0_1(36, v78)\n",
      "    let v80 : UH0 = UH0_1(6, v79)\n",
      "    let v81 : UH0 = UH0_1(1, v80)\n",
      "    let v82 : string = $\"{v63} / actual: %A{v72} / expected: %A{v81}\"\n",
      "    System.Console.WriteLine v82\n",
      "    ()\n",
      "method0()\n",
      "\n",
      "assert_eq / actual: UH0_1\n",
      "  (1,\n",
      "   UH0_1\n",
      "     (6,\n",
      "      UH0_1\n",
      "        (36,\n",
      "         UH0_1\n",
      "           (216,\n",
      "            UH0_1 (1296, UH0_1 (7776, UH0_1 (46656, UH0_1 (279936, UH0_0)))))))) / expected: UH0_1\n",
      "  (1,\n",
      "   UH0_1\n",
      "     (6,\n",
      "      UH0_1\n",
      "        (36,\n",
      "         UH0_1\n",
      "           (216,\n",
      "            UH0_1 (1296, UH0_1 (7776, UH0_1 (46656, UH0_1 (279936, UH0_0))))))))\n"
     ]
    }
   ],
   "source": [
    "//// test\n",
    "\n",
    "iterate ((*) 6) 1i32\n",
    "|> take_while (fun _ i => i <= 7i32)\n",
    "|> to_list\n",
    "|> _assert_eq [ 1i32; 6; 36; 216; 1296; 7776; 46656; 279936 ]"
   ]
  },
  {
   "cell_type": "markdown",
   "metadata": {},
   "source": [
    "## indexed"
   ]
  },
  {
   "cell_type": "code",
   "execution_count": null,
   "metadata": {
    "dotnet_interactive": {
     "language": "spiral"
    },
    "polyglot_notebook": {
     "kernelName": "spiral"
    }
   },
   "outputs": [
    {
     "name": "stdout",
     "output_type": "stream",
     "text": [
      "()\n",
      "\n"
     ]
    }
   ],
   "source": [
    "inl indexed s =\n",
    "    ((StreamNil, 0), s)\n",
    "    ||> fold fun (acc, i) x =>\n",
    "        StreamCons ((i, x), fun () => acc), i + 1\n",
    "    |> fst\n",
    "    |> rev"
   ]
  },
  {
   "cell_type": "code",
   "execution_count": null,
   "metadata": {
    "dotnet_interactive": {
     "language": "spiral"
    },
    "polyglot_notebook": {
     "kernelName": "spiral"
    }
   },
   "outputs": [
    {
     "name": "stdout",
     "output_type": "stream",
     "text": [
      "let rec method0 () : unit =\n",
      "    let v0 : string = \"assert_eq\"\n",
      "    let v1 : string = $\"{v0} / actual: %A{struct (5, 10)} / expected: %A{struct (5, 10)}\"\n",
      "    System.Console.WriteLine v1\n",
      "    ()\n",
      "method0()\n",
      "\n",
      "assert_eq / actual: struct (5, 10) / expected: struct (5, 10)\n"
     ]
    }
   ],
   "source": [
    "//// test\n",
    "\n",
    "listm.init 10i32 ((*) 2)\n",
    "|> from_list\n",
    "|> indexed\n",
    "|> item 5i32\n",
    "|> _assert_eq (5i32, 10i32)"
   ]
  },
  {
   "cell_type": "markdown",
   "metadata": {},
   "source": [
    "## map"
   ]
  },
  {
   "cell_type": "code",
   "execution_count": null,
   "metadata": {
    "dotnet_interactive": {
     "language": "spiral"
    },
    "polyglot_notebook": {
     "kernelName": "spiral"
    }
   },
   "outputs": [
    {
     "name": "stdout",
     "output_type": "stream",
     "text": [
      "()\n",
      "\n"
     ]
    }
   ],
   "source": [
    "inl map fn s =\n",
    "    (s, StreamNil)\n",
    "    ||> fold_back fun x acc =>\n",
    "        StreamCons (fn x, fun () => acc)"
   ]
  },
  {
   "cell_type": "code",
   "execution_count": null,
   "metadata": {
    "dotnet_interactive": {
     "language": "spiral"
    },
    "polyglot_notebook": {
     "kernelName": "spiral"
    }
   },
   "outputs": [
    {
     "name": "stdout",
     "output_type": "stream",
     "text": [
      "let rec method0 () : unit =\n",
      "    let v0 : string = \"assert_eq\"\n",
      "    let v1 : string = $\"{v0} / actual: %A{10} / expected: %A{10}\"\n",
      "    System.Console.WriteLine v1\n",
      "    ()\n",
      "method0()\n",
      "\n",
      "assert_eq / actual: 10 / expected: 10\n"
     ]
    }
   ],
   "source": [
    "//// test\n",
    "\n",
    "listm.init 10i32 id\n",
    "|> from_list\n",
    "|> map ((*) 2)\n",
    "|> item 5i32\n",
    "|> _assert_eq 10i32"
   ]
  },
  {
   "cell_type": "markdown",
   "metadata": {},
   "source": [
    "## zip_with"
   ]
  },
  {
   "cell_type": "code",
   "execution_count": null,
   "metadata": {
    "dotnet_interactive": {
     "language": "spiral"
    },
    "polyglot_notebook": {
     "kernelName": "spiral"
    }
   },
   "outputs": [
    {
     "name": "stdout",
     "output_type": "stream",
     "text": [
      "()\n",
      "\n"
     ]
    }
   ],
   "source": [
    "inl zip_with fn s1 s2 =\n",
    "    inl rec loop s1 s2 =\n",
    "        match s1, s2 with\n",
    "        | StreamCons (st1, fn1), StreamCons (st2, fn2) =>\n",
    "            StreamCons (fn st1 st2, fun () => loop (fn1 ()) (fn2 ()))\n",
    "        | StreamNil, _ | _, StreamNil => StreamNil\n",
    "    loop s1 s2\n",
    "\n",
    "inl zip_with_ fn s1 s2 =\n",
    "    let rec loop s1 s2 =\n",
    "        match s1, s2 with\n",
    "        | StreamCons (st1, fn1), StreamCons (st2, fn2) =>\n",
    "            StreamCons (fn st1 st2, fun () => loop (fn1 ()) (fn2 ()))\n",
    "        | StreamNil, _ | _, StreamNil => StreamNil\n",
    "    loop s1 s2"
   ]
  },
  {
   "cell_type": "code",
   "execution_count": null,
   "metadata": {
    "dotnet_interactive": {
     "language": "spiral"
    },
    "polyglot_notebook": {
     "kernelName": "spiral"
    }
   },
   "outputs": [
    {
     "name": "stdout",
     "output_type": "stream",
     "text": [
      "let rec method0 () : unit =\n",
      "    let v0 : string = \"assert_eq\"\n",
      "    let v1 : string = $\"{v0} / actual: %A{6} / expected: %A{6}\"\n",
      "    System.Console.WriteLine v1\n",
      "    ()\n",
      "method0()\n",
      "\n",
      "assert_eq / actual: 6 / expected: 6\n"
     ]
    }
   ],
   "source": [
    "//// test\n",
    "\n",
    "((listm.init 10i32 id |> from_list), (listm.init 10i32 ((*) 2) |> from_list))\n",
    "||> zip_with (+)\n",
    "|> item 2i32\n",
    "|> _assert_eq 6"
   ]
  },
  {
   "cell_type": "markdown",
   "metadata": {},
   "source": [
    "## zip"
   ]
  },
  {
   "cell_type": "code",
   "execution_count": null,
   "metadata": {
    "dotnet_interactive": {
     "language": "spiral"
    },
    "polyglot_notebook": {
     "kernelName": "spiral"
    }
   },
   "outputs": [
    {
     "name": "stdout",
     "output_type": "stream",
     "text": [
      "()\n",
      "\n"
     ]
    }
   ],
   "source": [
    "inl zip s1 s2 =\n",
    "    zip_with pair s1 s2\n",
    "\n",
    "inl zip_ s1 s2 =\n",
    "    zip_with_ pair s1 s2"
   ]
  },
  {
   "cell_type": "code",
   "execution_count": null,
   "metadata": {
    "dotnet_interactive": {
     "language": "spiral"
    },
    "polyglot_notebook": {
     "kernelName": "spiral"
    }
   },
   "outputs": [
    {
     "name": "stdout",
     "output_type": "stream",
     "text": [
      "let rec method0 () : unit =\n",
      "    let v0 : string = \"assert_eq\"\n",
      "    let v1 : string = $\"{v0} / actual: %A{struct (5, 10)} / expected: %A{struct (5, 10)}\"\n",
      "    System.Console.WriteLine v1\n",
      "    ()\n",
      "method0()\n",
      "\n",
      "assert_eq / actual: struct (5, 10) / expected: struct (5, 10)\n"
     ]
    }
   ],
   "source": [
    "//// test\n",
    "\n",
    "((listm.init 10i32 id |> from_list), (listm.init 10i32 ((*) 2) |> from_list))\n",
    "||> zip\n",
    "|> item 5i32\n",
    "|> _assert_eq (5, 10)"
   ]
  },
  {
   "cell_type": "markdown",
   "metadata": {},
   "source": [
    "## unzip"
   ]
  },
  {
   "cell_type": "code",
   "execution_count": null,
   "metadata": {
    "dotnet_interactive": {
     "language": "spiral"
    },
    "polyglot_notebook": {
     "kernelName": "spiral"
    }
   },
   "outputs": [
    {
     "name": "stdout",
     "output_type": "stream",
     "text": [
      "()\n",
      "\n"
     ]
    }
   ],
   "source": [
    "inl unzip s =\n",
    "    inl rec body s =\n",
    "        match s with\n",
    "        | StreamCons ((x, y), fn) =>\n",
    "            inl xs, ys = loop (fn ())\n",
    "            StreamCons (x, fun () => xs), StreamCons (y, fun () => ys)\n",
    "        | StreamNil => pair StreamNil StreamNil\n",
    "    and inl loop x =\n",
    "        if var_is x |> not\n",
    "        then body x\n",
    "        else\n",
    "            inl x = dyn x\n",
    "            join body x\n",
    "    loop s"
   ]
  },
  {
   "cell_type": "code",
   "execution_count": null,
   "metadata": {
    "dotnet_interactive": {
     "language": "spiral"
    },
    "polyglot_notebook": {
     "kernelName": "spiral"
    }
   },
   "outputs": [
    {
     "name": "stdout",
     "output_type": "stream",
     "text": [
      "let rec method0 () : unit =\n",
      "    let v0 : string = \"assert_eq\"\n",
      "    let v1 : string = $\"{v0} / actual: %A{45} / expected: %A{45}\"\n",
      "    System.Console.WriteLine v1\n",
      "    let v2 : string = $\"{v0} / actual: %A{45} / expected: %A{45}\"\n",
      "    System.Console.WriteLine v2\n",
      "    ()\n",
      "method0()\n",
      "\n",
      "assert_eq / actual: 45 / expected: 45\n",
      "assert_eq / actual: 45 / expected: 45\n"
     ]
    }
   ],
   "source": [
    "//// test\n",
    "\n",
    "listm.init 10i32 id\n",
    "|> listm.map (fun x => x, x)\n",
    "|> from_list\n",
    "|> unzip\n",
    "|> fun x, y =>\n",
    "    x |> sum\n",
    "    |> _assert_eq 45\n",
    "\n",
    "    y |> sum\n",
    "    |> _assert_eq 45"
   ]
  }
 ],
 "metadata": {},
 "nbformat": 4,
 "nbformat_minor": 5
}