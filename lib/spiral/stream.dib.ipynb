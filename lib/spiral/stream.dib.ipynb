{
 "cells": [
  {
   "cell_type": "markdown",
   "metadata": {},
   "source": [
    "# stream"
   ]
  },
  {
   "cell_type": "code",
   "execution_count": null,
   "metadata": {
    "dotnet_interactive": {
     "language": "spiral"
    },
    "polyglot_notebook": {
     "kernelName": "spiral"
    }
   },
   "outputs": [],
   "source": [
    "open rust.rust_operators"
   ]
  },
  {
   "cell_type": "code",
   "execution_count": null,
   "metadata": {
    "dotnet_interactive": {
     "language": "spiral"
    },
    "polyglot_notebook": {
     "kernelName": "spiral"
    }
   },
   "outputs": [],
   "source": [
    "//// test\n",
    "\n",
    "open testing"
   ]
  },
  {
   "cell_type": "markdown",
   "metadata": {},
   "source": [
    "## stream"
   ]
  },
  {
   "cell_type": "markdown",
   "metadata": {},
   "source": [
    "### stream"
   ]
  },
  {
   "cell_type": "code",
   "execution_count": null,
   "metadata": {
    "dotnet_interactive": {
     "language": "spiral"
    },
    "polyglot_notebook": {
     "kernelName": "spiral"
    }
   },
   "outputs": [],
   "source": [
    "union rec stream t =\n",
    "    | StreamCons : t * (() -> stream t)\n",
    "    | StreamNil"
   ]
  },
  {
   "cell_type": "markdown",
   "metadata": {},
   "source": [
    "### fold"
   ]
  },
  {
   "cell_type": "code",
   "execution_count": null,
   "metadata": {
    "dotnet_interactive": {
     "language": "spiral"
    },
    "polyglot_notebook": {
     "kernelName": "spiral"
    }
   },
   "outputs": [],
   "source": [
    "inl fold fn init s =\n",
    "    inl rec body acc = function\n",
    "        | StreamCons (st, fn') => loop (fn acc st) (fn' ())\n",
    "        | StreamNil => acc\n",
    "    and inl loop acc = join_body body acc\n",
    "    loop init s"
   ]
  },
  {
   "cell_type": "markdown",
   "metadata": {},
   "source": [
    "### fold_back"
   ]
  },
  {
   "cell_type": "code",
   "execution_count": null,
   "metadata": {
    "dotnet_interactive": {
     "language": "spiral"
    },
    "polyglot_notebook": {
     "kernelName": "spiral"
    }
   },
   "outputs": [],
   "source": [
    "inl fold_back fn s init =\n",
    "    inl rec body acc = function\n",
    "        | StreamCons (st, fn') => fn st (loop acc (fn' ()))\n",
    "        | StreamNil => acc\n",
    "    and inl loop acc = join_body body acc\n",
    "    loop init s"
   ]
  },
  {
   "cell_type": "markdown",
   "metadata": {},
   "source": [
    "### to_list"
   ]
  },
  {
   "cell_type": "code",
   "execution_count": null,
   "metadata": {
    "dotnet_interactive": {
     "language": "spiral"
    },
    "polyglot_notebook": {
     "kernelName": "spiral"
    }
   },
   "outputs": [],
   "source": [
    "inl to_list s =\n",
    "    (s, [])\n",
    "    ||> fold_back fun x acc =>\n",
    "        x :: acc"
   ]
  },
  {
   "cell_type": "markdown",
   "metadata": {},
   "source": [
    "### rev"
   ]
  },
  {
   "cell_type": "code",
   "execution_count": null,
   "metadata": {
    "dotnet_interactive": {
     "language": "spiral"
    },
    "polyglot_notebook": {
     "kernelName": "spiral"
    }
   },
   "outputs": [],
   "source": [
    "inl rev s =\n",
    "    (StreamNil, s)\n",
    "    ||> fold fun s x =>\n",
    "        StreamCons (x, fun () => s)"
   ]
  },
  {
   "cell_type": "markdown",
   "metadata": {},
   "source": [
    "### from_list"
   ]
  },
  {
   "cell_type": "code",
   "execution_count": null,
   "metadata": {
    "dotnet_interactive": {
     "language": "spiral"
    },
    "polyglot_notebook": {
     "kernelName": "spiral"
    }
   },
   "outputs": [],
   "source": [
    "inl from_list list =\n",
    "    (list, StreamNil)\n",
    "    ||> listm.foldBack fun x acc =>\n",
    "        StreamCons (x, fun () => acc)"
   ]
  },
  {
   "cell_type": "code",
   "execution_count": null,
   "metadata": {
    "dotnet_interactive": {
     "language": "spiral"
    },
    "polyglot_notebook": {
     "kernelName": "spiral"
    }
   },
   "outputs": [
    {
     "name": "stdout",
     "output_type": "stream",
     "text": [
      "__assert_eq / actual: UH0_1 (2, UH0_1 (1, UH0_1 (0, UH0_0))) / expected: UH0_1 (2, UH0_1 (1, UH0_1 (0, UH0_0)))\n"
     ]
    }
   ],
   "source": [
    "//// test\n",
    "\n",
    "listm.init 3i32 id\n",
    "|> from_list\n",
    "|> rev\n",
    "|> to_list\n",
    "|> _assert_eq [ 2; 1; 0 ]"
   ]
  },
  {
   "cell_type": "markdown",
   "metadata": {},
   "source": [
    "### try_item"
   ]
  },
  {
   "cell_type": "code",
   "execution_count": null,
   "metadata": {
    "dotnet_interactive": {
     "language": "spiral"
    },
    "polyglot_notebook": {
     "kernelName": "spiral"
    }
   },
   "outputs": [],
   "source": [
    "inl try_item i s =\n",
    "    inl rec body i = function\n",
    "        | StreamCons (x, _) when i <= 0 => Some x\n",
    "        | StreamCons (_, fn) => loop (i - 1) (fn ())\n",
    "        | StreamNil => None\n",
    "    and inl loop acc s' =\n",
    "        match var_is acc, var_is s' with\n",
    "        | false, false => body acc s'\n",
    "        | _ =>\n",
    "            inl acc = dyn acc\n",
    "            inl s' = dyn s'\n",
    "            join body acc s'\n",
    "    loop i s\n",
    "\n",
    "inl item i =\n",
    "    try_item i >> optionm.value"
   ]
  },
  {
   "cell_type": "code",
   "execution_count": null,
   "metadata": {
    "dotnet_interactive": {
     "language": "spiral"
    },
    "polyglot_notebook": {
     "kernelName": "spiral"
    }
   },
   "outputs": [
    {
     "name": "stdout",
     "output_type": "stream",
     "text": [
      "__assert_eq / actual: 9 / expected: 9\n"
     ]
    }
   ],
   "source": [
    "//// test\n",
    "\n",
    "listm.init 10i32 id\n",
    "|> from_list\n",
    "|> item 9i32\n",
    "|> _assert_eq 9"
   ]
  },
  {
   "cell_type": "markdown",
   "metadata": {},
   "source": [
    "### new_infinite_stream"
   ]
  },
  {
   "cell_type": "code",
   "execution_count": null,
   "metadata": {
    "dotnet_interactive": {
     "language": "spiral"
    },
    "polyglot_notebook": {
     "kernelName": "spiral"
    }
   },
   "outputs": [],
   "source": [
    "inl new_infinite_stream fn =\n",
    "    inl rec loop n =\n",
    "        StreamCons (fn n, fun () => loop (n + 1))\n",
    "    loop 0\n",
    "\n",
    "inl new_infinite_stream_ fn =\n",
    "    let rec loop n =\n",
    "        StreamCons (fn n, fun () => loop (n + 1))\n",
    "    loop 0"
   ]
  },
  {
   "cell_type": "code",
   "execution_count": null,
   "metadata": {
    "dotnet_interactive": {
     "language": "spiral"
    },
    "polyglot_notebook": {
     "kernelName": "spiral"
    }
   },
   "outputs": [
    {
     "name": "stdout",
     "output_type": "stream",
     "text": [
      "print_and_return / x: 0\n",
      "print_and_return / x: 1\n",
      "print_and_return / x: 2\n",
      "print_and_return / x: 3\n",
      "print_and_return / x: 4\n",
      "__assert_eq / actual: 4 / expected: 4\n"
     ]
    }
   ],
   "source": [
    "//// test\n",
    "\n",
    "new_infinite_stream print_and_return\n",
    "|> item 4i32\n",
    "|> _assert_eq 4i32"
   ]
  },
  {
   "cell_type": "markdown",
   "metadata": {},
   "source": [
    "### new_finite_stream"
   ]
  },
  {
   "cell_type": "code",
   "execution_count": null,
   "metadata": {
    "dotnet_interactive": {
     "language": "spiral"
    },
    "polyglot_notebook": {
     "kernelName": "spiral"
    }
   },
   "outputs": [],
   "source": [
    "inl new_finite_stream fn max =\n",
    "    inl rec loop n =\n",
    "        if n >= max\n",
    "        then StreamNil\n",
    "        else StreamCons (fn n, fun () => loop (n + 1))\n",
    "    loop 0"
   ]
  },
  {
   "cell_type": "markdown",
   "metadata": {},
   "source": [
    "### memoize"
   ]
  },
  {
   "cell_type": "code",
   "execution_count": null,
   "metadata": {
    "dotnet_interactive": {
     "language": "spiral"
    },
    "polyglot_notebook": {
     "kernelName": "spiral"
    }
   },
   "outputs": [],
   "source": [
    "union memoized_stream t =\n",
    "    | NotComputed : () -> stream t\n",
    "    | Computed : stream t\n",
    "\n",
    "inl memoize s =\n",
    "    inl rec body s =\n",
    "        inl state = mut (NotComputed s)\n",
    "        fun () =>\n",
    "            match *state with\n",
    "            | Computed x => x\n",
    "            | NotComputed fn =>\n",
    "                inl new_state =\n",
    "                    match fn () with\n",
    "                    | StreamNil => StreamNil\n",
    "                    | StreamCons (x, fn) => StreamCons (x, loop fn)\n",
    "                state <- Computed new_state\n",
    "                new_state\n",
    "    and inl loop s' = join_body_unit body s s'\n",
    "    loop (fun () => s)"
   ]
  },
  {
   "cell_type": "code",
   "execution_count": null,
   "metadata": {
    "dotnet_interactive": {
     "language": "spiral"
    },
    "polyglot_notebook": {
     "kernelName": "spiral"
    }
   },
   "outputs": [
    {
     "name": "stdout",
     "output_type": "stream",
     "text": [
      "print_and_return / x: 0\n",
      "print_and_return / x: 1\n",
      "print_and_return / x: 2\n",
      "print_and_return / x: 3\n",
      "__assert_eq / actual: 3 / expected: 3\n",
      "print_and_return / x: 4\n",
      "print_and_return / x: 5\n",
      "__assert_eq / actual: 5 / expected: 5\n"
     ]
    }
   ],
   "source": [
    "//// test\n",
    "\n",
    "inl memo_stream = new_finite_stream print_and_return 10 |> memoize\n",
    "\n",
    "memo_stream ()\n",
    "|> item 3i32\n",
    "|> _assert_eq 3i32\n",
    "\n",
    "memo_stream ()\n",
    "|> item 5i32\n",
    "|> _assert_eq 5i32"
   ]
  },
  {
   "cell_type": "code",
   "execution_count": null,
   "metadata": {
    "dotnet_interactive": {
     "language": "spiral"
    },
    "polyglot_notebook": {
     "kernelName": "spiral"
    }
   },
   "outputs": [
    {
     "name": "stdout",
     "output_type": "stream",
     "text": [
      "print_and_return / x: 0\n",
      "print_and_return / x: 1\n",
      "print_and_return / x: 2\n",
      "print_and_return / x: 3\n",
      "__assert_eq / actual: 3 / expected: 3\n",
      "print_and_return / x: 4\n",
      "print_and_return / x: 5\n",
      "__assert_eq / actual: 5 / expected: 5\n"
     ]
    }
   ],
   "source": [
    "//// test\n",
    "\n",
    "inl memo_stream = new_infinite_stream_ print_and_return |> memoize\n",
    "\n",
    "memo_stream ()\n",
    "|> item 3i32\n",
    "|> _assert_eq 3i32\n",
    "\n",
    "memo_stream ()\n",
    "|> item 5i32\n",
    "|> _assert_eq 5i32"
   ]
  },
  {
   "cell_type": "markdown",
   "metadata": {},
   "source": [
    "### unfold"
   ]
  },
  {
   "cell_type": "code",
   "execution_count": null,
   "metadata": {
    "dotnet_interactive": {
     "language": "spiral"
    },
    "polyglot_notebook": {
     "kernelName": "spiral"
    }
   },
   "outputs": [],
   "source": [
    "inl unfold f x0 =\n",
    "    inl rec body x =\n",
    "        match f x with\n",
    "        | Some (x', y) => StreamCons (x', fun () => loop y)\n",
    "        | None => StreamNil\n",
    "    and inl loop x = join_body_unit body x0 x\n",
    "    loop x0"
   ]
  },
  {
   "cell_type": "markdown",
   "metadata": {},
   "source": [
    "### iterate"
   ]
  },
  {
   "cell_type": "code",
   "execution_count": null,
   "metadata": {
    "dotnet_interactive": {
     "language": "spiral"
    },
    "polyglot_notebook": {
     "kernelName": "spiral"
    }
   },
   "outputs": [],
   "source": [
    "inl iterate f =\n",
    "    fun x => Some (x, f x)\n",
    "    |> unfold"
   ]
  },
  {
   "cell_type": "code",
   "execution_count": null,
   "metadata": {
    "dotnet_interactive": {
     "language": "spiral"
    },
    "polyglot_notebook": {
     "kernelName": "spiral"
    }
   },
   "outputs": [
    {
     "name": "stdout",
     "output_type": "stream",
     "text": [
      "__assert_eq / actual: 1024 / expected: 1024\n"
     ]
    }
   ],
   "source": [
    "//// test\n",
    "\n",
    "iterate ((*) 2) 1i32\n",
    "|> item 10i32\n",
    "|> _assert_eq 1024"
   ]
  },
  {
   "cell_type": "markdown",
   "metadata": {},
   "source": [
    "### iterate'"
   ]
  },
  {
   "cell_type": "code",
   "execution_count": null,
   "metadata": {
    "dotnet_interactive": {
     "language": "spiral"
    },
    "polyglot_notebook": {
     "kernelName": "spiral"
    }
   },
   "outputs": [],
   "source": [
    "inl iterate_map f m =\n",
    "    fun x =>\n",
    "        m x\n",
    "        |> optionm.map fun x =>\n",
    "            x, f x\n",
    "    |> unfold"
   ]
  },
  {
   "cell_type": "code",
   "execution_count": null,
   "metadata": {
    "dotnet_interactive": {
     "language": "spiral"
    },
    "polyglot_notebook": {
     "kernelName": "spiral"
    }
   },
   "outputs": [
    {
     "name": "stdout",
     "output_type": "stream",
     "text": [
      "__assert_eq / actual: 1024 / expected: 1024\n"
     ]
    }
   ],
   "source": [
    "//// test\n",
    "\n",
    "iterate_map ((*) 2) Some 1i32\n",
    "|> item 10i32\n",
    "|> _assert_eq 1024"
   ]
  },
  {
   "cell_type": "markdown",
   "metadata": {},
   "source": [
    "### take_while"
   ]
  },
  {
   "cell_type": "code",
   "execution_count": null,
   "metadata": {
    "dotnet_interactive": {
     "language": "spiral"
    },
    "polyglot_notebook": {
     "kernelName": "spiral"
    }
   },
   "outputs": [],
   "source": [
    "inl take_while cond s =\n",
    "    inl rec body i = function\n",
    "        | StreamCons (st, fn) when cond st i => StreamCons (st, fun () => loop (i + 1) (fn ()))\n",
    "        | _ => StreamNil\n",
    "    and inl loop i = join_body body i\n",
    "    loop 0 s"
   ]
  },
  {
   "cell_type": "markdown",
   "metadata": {},
   "source": [
    "### sum"
   ]
  },
  {
   "cell_type": "code",
   "execution_count": null,
   "metadata": {
    "dotnet_interactive": {
     "language": "spiral"
    },
    "polyglot_notebook": {
     "kernelName": "spiral"
    }
   },
   "outputs": [],
   "source": [
    "inl sum seq =\n",
    "    seq |> fold (+) 0"
   ]
  },
  {
   "cell_type": "code",
   "execution_count": null,
   "metadata": {
    "dotnet_interactive": {
     "language": "spiral"
    },
    "polyglot_notebook": {
     "kernelName": "spiral"
    }
   },
   "outputs": [
    {
     "name": "stdout",
     "output_type": "stream",
     "text": [
      "__assert_eq / actual: 45 / expected: 45\n"
     ]
    }
   ],
   "source": [
    "//// test\n",
    "\n",
    "listm.init 10i32 id\n",
    "|> from_list\n",
    "|> sum\n",
    "|> _assert_eq 45"
   ]
  },
  {
   "cell_type": "code",
   "execution_count": null,
   "metadata": {
    "dotnet_interactive": {
     "language": "spiral"
    },
    "polyglot_notebook": {
     "kernelName": "spiral"
    }
   },
   "outputs": [
    {
     "name": "stdout",
     "output_type": "stream",
     "text": [
      "print_and_return / x: 0\n",
      "print_and_return / x: 1\n",
      "print_and_return / x: 2\n",
      "print_and_return / x: 3\n",
      "print_and_return / x: 4\n",
      "print_and_return / x: 5\n",
      "__assert_eq / actual: 10 / expected: 10\n"
     ]
    }
   ],
   "source": [
    "//// test\n",
    "\n",
    "new_finite_stream print_and_return 10i32\n",
    "|> take_while (fun n (_ : i32) => n < 5)\n",
    "|> sum\n",
    "|> _assert_eq 10"
   ]
  },
  {
   "cell_type": "code",
   "execution_count": null,
   "metadata": {
    "dotnet_interactive": {
     "language": "spiral"
    },
    "polyglot_notebook": {
     "kernelName": "spiral"
    }
   },
   "outputs": [
    {
     "name": "stdout",
     "output_type": "stream",
     "text": [
      "print_and_return / x: 0\n",
      "print_and_return / x: 1\n",
      "print_and_return / x: 2\n",
      "print_and_return / x: 3\n",
      "print_and_return / x: 4\n",
      "print_and_return / x: 5\n",
      "__assert_eq / actual: 10 / expected: 10\n"
     ]
    }
   ],
   "source": [
    "//// test\n",
    "\n",
    "new_infinite_stream print_and_return\n",
    "|> take_while (fun n (_ : i32) => n < 5i32)\n",
    "|> sum\n",
    "|> _assert_eq 10"
   ]
  },
  {
   "cell_type": "code",
   "execution_count": null,
   "metadata": {
    "dotnet_interactive": {
     "language": "spiral"
    },
    "polyglot_notebook": {
     "kernelName": "spiral"
    }
   },
   "outputs": [
    {
     "name": "stdout",
     "output_type": "stream",
     "text": [
      "__assert_eq / actual: UH0_1\n",
      "  (1,\n",
      "   UH0_1\n",
      "     (6,\n",
      "      UH0_1\n",
      "        (36,\n",
      "         UH0_1\n",
      "           (216,\n",
      "            UH0_1 (1296, UH0_1 (7776, UH0_1 (46656, UH0_1 (279936, UH0_0)))))))) / expected: UH0_1\n",
      "  (1,\n",
      "   UH0_1\n",
      "     (6,\n",
      "      UH0_1\n",
      "        (36,\n",
      "         UH0_1\n",
      "           (216,\n",
      "            UH0_1 (1296, UH0_1 (7776, UH0_1 (46656, UH0_1 (279936, UH0_0))))))))\n"
     ]
    }
   ],
   "source": [
    "//// test\n",
    "\n",
    "iterate ((*) 6) 1i32\n",
    "|> take_while (fun _ i => i <= 7i32)\n",
    "|> to_list\n",
    "|> _assert_eq [ 1i32; 6; 36; 216; 1296; 7776; 46656; 279936 ]"
   ]
  },
  {
   "cell_type": "markdown",
   "metadata": {},
   "source": [
    "### indexed"
   ]
  },
  {
   "cell_type": "code",
   "execution_count": null,
   "metadata": {
    "dotnet_interactive": {
     "language": "spiral"
    },
    "polyglot_notebook": {
     "kernelName": "spiral"
    }
   },
   "outputs": [],
   "source": [
    "inl indexed s =\n",
    "    ((StreamNil, 0), s)\n",
    "    ||> fold fun (acc, i) x =>\n",
    "        StreamCons ((i, x), fun () => acc), i + 1\n",
    "    |> fst\n",
    "    |> rev"
   ]
  },
  {
   "cell_type": "code",
   "execution_count": null,
   "metadata": {
    "dotnet_interactive": {
     "language": "spiral"
    },
    "polyglot_notebook": {
     "kernelName": "spiral"
    }
   },
   "outputs": [
    {
     "name": "stdout",
     "output_type": "stream",
     "text": [
      "__assert_eq / actual: struct (5, 10) / expected: struct (5, 10)\n"
     ]
    }
   ],
   "source": [
    "//// test\n",
    "\n",
    "listm.init 10i32 ((*) 2)\n",
    "|> from_list\n",
    "|> indexed\n",
    "|> item 5i32\n",
    "|> _assert_eq (5i32, 10i32)"
   ]
  },
  {
   "cell_type": "markdown",
   "metadata": {},
   "source": [
    "### map"
   ]
  },
  {
   "cell_type": "code",
   "execution_count": null,
   "metadata": {
    "dotnet_interactive": {
     "language": "spiral"
    },
    "polyglot_notebook": {
     "kernelName": "spiral"
    }
   },
   "outputs": [],
   "source": [
    "inl map fn s =\n",
    "    (s, StreamNil)\n",
    "    ||> fold_back fun x acc =>\n",
    "        StreamCons (fn x, fun () => acc)"
   ]
  },
  {
   "cell_type": "code",
   "execution_count": null,
   "metadata": {
    "dotnet_interactive": {
     "language": "spiral"
    },
    "polyglot_notebook": {
     "kernelName": "spiral"
    }
   },
   "outputs": [
    {
     "name": "stdout",
     "output_type": "stream",
     "text": [
      "__assert_eq / actual: 10 / expected: 10\n"
     ]
    }
   ],
   "source": [
    "//// test\n",
    "\n",
    "listm.init 10i32 id\n",
    "|> from_list\n",
    "|> map ((*) 2)\n",
    "|> item 5i32\n",
    "|> _assert_eq 10i32"
   ]
  },
  {
   "cell_type": "markdown",
   "metadata": {},
   "source": [
    "### zip_with"
   ]
  },
  {
   "cell_type": "code",
   "execution_count": null,
   "metadata": {
    "dotnet_interactive": {
     "language": "spiral"
    },
    "polyglot_notebook": {
     "kernelName": "spiral"
    }
   },
   "outputs": [],
   "source": [
    "inl zip_with fn s1 s2 =\n",
    "    inl rec loop s1 s2 =\n",
    "        match s1, s2 with\n",
    "        | StreamCons (st1, fn1), StreamCons (st2, fn2) =>\n",
    "            StreamCons (fn st1 st2, fun () => loop (fn1 ()) (fn2 ()))\n",
    "        | StreamNil, _ | _, StreamNil => StreamNil\n",
    "    loop s1 s2\n",
    "\n",
    "inl zip_with_ fn s1 s2 =\n",
    "    let rec loop s1 s2 =\n",
    "        match s1, s2 with\n",
    "        | StreamCons (st1, fn1), StreamCons (st2, fn2) =>\n",
    "            StreamCons (fn st1 st2, fun () => loop (fn1 ()) (fn2 ()))\n",
    "        | StreamNil, _ | _, StreamNil => StreamNil\n",
    "    loop s1 s2"
   ]
  },
  {
   "cell_type": "code",
   "execution_count": null,
   "metadata": {
    "dotnet_interactive": {
     "language": "spiral"
    },
    "polyglot_notebook": {
     "kernelName": "spiral"
    }
   },
   "outputs": [
    {
     "name": "stdout",
     "output_type": "stream",
     "text": [
      "__assert_eq / actual: 6 / expected: 6\n"
     ]
    }
   ],
   "source": [
    "//// test\n",
    "\n",
    "((listm.init 10i32 id |> from_list), (listm.init 10i32 ((*) 2) |> from_list))\n",
    "||> zip_with (+)\n",
    "|> item 2i32\n",
    "|> _assert_eq 6"
   ]
  },
  {
   "cell_type": "markdown",
   "metadata": {},
   "source": [
    "### zip"
   ]
  },
  {
   "cell_type": "code",
   "execution_count": null,
   "metadata": {
    "dotnet_interactive": {
     "language": "spiral"
    },
    "polyglot_notebook": {
     "kernelName": "spiral"
    }
   },
   "outputs": [],
   "source": [
    "inl zip s1 s2 =\n",
    "    zip_with pair s1 s2\n",
    "\n",
    "inl zip_ s1 s2 =\n",
    "    zip_with_ pair s1 s2"
   ]
  },
  {
   "cell_type": "code",
   "execution_count": null,
   "metadata": {
    "dotnet_interactive": {
     "language": "spiral"
    },
    "polyglot_notebook": {
     "kernelName": "spiral"
    }
   },
   "outputs": [
    {
     "name": "stdout",
     "output_type": "stream",
     "text": [
      "__assert_eq / actual: struct (5, 10) / expected: struct (5, 10)\n"
     ]
    }
   ],
   "source": [
    "//// test\n",
    "\n",
    "((listm.init 10i32 id |> from_list), (listm.init 10i32 ((*) 2) |> from_list))\n",
    "||> zip\n",
    "|> item 5i32\n",
    "|> _assert_eq (5, 10)"
   ]
  },
  {
   "cell_type": "markdown",
   "metadata": {},
   "source": [
    "### unzip"
   ]
  },
  {
   "cell_type": "code",
   "execution_count": null,
   "metadata": {
    "dotnet_interactive": {
     "language": "spiral"
    },
    "polyglot_notebook": {
     "kernelName": "spiral"
    }
   },
   "outputs": [],
   "source": [
    "inl unzip s =\n",
    "    inl rec body s =\n",
    "        match s with\n",
    "        | StreamCons ((x, y), fn) =>\n",
    "            inl xs, ys = loop (fn ())\n",
    "            StreamCons (x, fun () => xs), StreamCons (y, fun () => ys)\n",
    "        | StreamNil => pair StreamNil StreamNil\n",
    "    and inl loop x =\n",
    "        if var_is x |> not\n",
    "        then body x\n",
    "        else\n",
    "            inl x = dyn x\n",
    "            join body x\n",
    "    loop s"
   ]
  },
  {
   "cell_type": "code",
   "execution_count": null,
   "metadata": {
    "dotnet_interactive": {
     "language": "spiral"
    },
    "polyglot_notebook": {
     "kernelName": "spiral"
    }
   },
   "outputs": [
    {
     "name": "stdout",
     "output_type": "stream",
     "text": [
      "__assert_eq / actual: 45 / expected: 45\n",
      "__assert_eq / actual: 45 / expected: 45\n"
     ]
    }
   ],
   "source": [
    "//// test\n",
    "\n",
    "listm.init 10i32 id\n",
    "|> listm.map (fun x => x, x)\n",
    "|> from_list\n",
    "|> unzip\n",
    "|> fun x, y =>\n",
    "    x |> sum\n",
    "    |> _assert_eq 45\n",
    "\n",
    "    y |> sum\n",
    "    |> _assert_eq 45"
   ]
  },
  {
   "cell_type": "markdown",
   "metadata": {},
   "source": [
    "## rust"
   ]
  },
  {
   "cell_type": "markdown",
   "metadata": {},
   "source": [
    "### io_error"
   ]
  },
  {
   "cell_type": "code",
   "execution_count": null,
   "metadata": {
    "dotnet_interactive": {
     "language": "spiral"
    },
    "polyglot_notebook": {
     "kernelName": "spiral"
    }
   },
   "outputs": [],
   "source": [
    "nominal io_error =\n",
    "    `(\n",
    "        global \"#if FABLE_COMPILER\\n[<Fable.Core.Erase; Fable.Core.Emit(\\\"std::io::Error\\\")>]\\ntype std_io_Error = class end\\n#else\\ntype std_io_Error = string\\n#endif\\n\"\n",
    "        $'' : $'std_io_Error'\n",
    "    )"
   ]
  },
  {
   "cell_type": "markdown",
   "metadata": {},
   "source": [
    "### new_io_error"
   ]
  },
  {
   "cell_type": "code",
   "execution_count": null,
   "metadata": {
    "dotnet_interactive": {
     "language": "spiral"
    },
    "polyglot_notebook": {
     "kernelName": "spiral"
    }
   },
   "outputs": [],
   "source": [
    "inl new_io_error (text : string) : io_error =\n",
    "    run_target_args (fun () => text) function\n",
    "        | Rust _ => fun text =>\n",
    "            !\\\\(text, $'\"std::io::Error::new(std::io::ErrorKind::Other, &*$0)\"')\n",
    "        | _ => fun text => text |> unbox"
   ]
  },
  {
   "cell_type": "markdown",
   "metadata": {},
   "source": [
    "### buf_reader"
   ]
  },
  {
   "cell_type": "code",
   "execution_count": null,
   "metadata": {
    "dotnet_interactive": {
     "language": "spiral"
    },
    "polyglot_notebook": {
     "kernelName": "spiral"
    }
   },
   "outputs": [],
   "source": [
    "nominal buf_reader t =\n",
    "    `(\n",
    "        backend_switch `(()) `({}) {\n",
    "            Fsharp =\n",
    "                (fun () =>\n",
    "                    global \"#if FABLE_COMPILER\\n[<Fable.Core.Erase; Fable.Core.Emit(\\\"std::io::BufReader<$0>\\\")>]\\n#endif\\ntype std_io_BufReader<'T> = class end\"\n",
    "                ) : () -> ()\n",
    "        }\n",
    "        $'' : $'std_io_BufReader<`t>'\n",
    "    )"
   ]
  },
  {
   "cell_type": "markdown",
   "metadata": {},
   "source": [
    "### cursor"
   ]
  },
  {
   "cell_type": "code",
   "execution_count": null,
   "metadata": {
    "dotnet_interactive": {
     "language": "spiral"
    },
    "polyglot_notebook": {
     "kernelName": "spiral"
    }
   },
   "outputs": [],
   "source": [
    "nominal cursor t =\n",
    "    `(\n",
    "        backend_switch `(()) `({}) {\n",
    "            Fsharp =\n",
    "                (fun () =>\n",
    "                    global \"#if FABLE_COMPILER\\n[<Fable.Core.Erase; Fable.Core.Emit(\\\"std::io::Cursor<$0>\\\")>]\\n#endif\\ntype std_io_Cursor<'T> = class end\"\n",
    "                ) : () -> ()\n",
    "        }\n",
    "        $'' : $'std_io_Cursor<`t>'\n",
    "    )"
   ]
  },
  {
   "cell_type": "markdown",
   "metadata": {},
   "source": [
    "### buf_reader_tokio"
   ]
  },
  {
   "cell_type": "code",
   "execution_count": null,
   "metadata": {
    "dotnet_interactive": {
     "language": "spiral"
    },
    "polyglot_notebook": {
     "kernelName": "spiral"
    }
   },
   "outputs": [],
   "source": [
    "nominal buf_reader_tokio t =\n",
    "    `(\n",
    "        global \"#if FABLE_COMPILER\\n[<Fable.Core.Erase; Fable.Core.Emit(\\\"tokio::io::BufReader<$0>\\\")>]\\n#endif\\ntype tokio_io_BufReader<'T> = class end\"\n",
    "        $'' : $'tokio_io_BufReader<`t>'\n",
    "    )"
   ]
  },
  {
   "cell_type": "markdown",
   "metadata": {},
   "source": [
    "### new_buf_reader"
   ]
  },
  {
   "cell_type": "code",
   "execution_count": null,
   "metadata": {
    "dotnet_interactive": {
     "language": "spiral"
    },
    "polyglot_notebook": {
     "kernelName": "spiral"
    }
   },
   "outputs": [],
   "source": [
    "inl new_buf_reader forall t. (x : t) : buf_reader t =\n",
    "    !\\\\(x, $'\"std::io::BufReader::new($0)\"')"
   ]
  },
  {
   "cell_type": "markdown",
   "metadata": {},
   "source": [
    "### new_cursor"
   ]
  },
  {
   "cell_type": "code",
   "execution_count": null,
   "metadata": {
    "dotnet_interactive": {
     "language": "spiral"
    },
    "polyglot_notebook": {
     "kernelName": "spiral"
    }
   },
   "outputs": [],
   "source": [
    "inl new_cursor forall t. (x : t) : cursor t =\n",
    "    !\\($'\"std::io::Cursor::new(!x)\"')"
   ]
  },
  {
   "cell_type": "markdown",
   "metadata": {},
   "source": [
    "### lines"
   ]
  },
  {
   "cell_type": "code",
   "execution_count": null,
   "metadata": {
    "dotnet_interactive": {
     "language": "spiral"
    },
    "polyglot_notebook": {
     "kernelName": "spiral"
    }
   },
   "outputs": [],
   "source": [
    "nominal lines t =\n",
    "    `(\n",
    "        global \"#if FABLE_COMPILER\\n[<Fable.Core.Erase; Fable.Core.Emit(\\\"std::io::Lines<$0>\\\")>]\\n#endif\\ntype std_io_Lines<'T> = class end\"\n",
    "        $'' : $'std_io_Lines<`t>'\n",
    "    )"
   ]
  },
  {
   "cell_type": "markdown",
   "metadata": {},
   "source": [
    "### buf_read_lines"
   ]
  },
  {
   "cell_type": "code",
   "execution_count": null,
   "metadata": {
    "dotnet_interactive": {
     "language": "spiral"
    },
    "polyglot_notebook": {
     "kernelName": "spiral"
    }
   },
   "outputs": [],
   "source": [
    "inl buf_read_lines forall t. (buf_reader : buf_reader t) : lines (buf_reader t) =\n",
    "    !\\($'\"std::io::BufRead::lines(!buf_reader)\"')"
   ]
  },
  {
   "cell_type": "markdown",
   "metadata": {},
   "source": [
    "### decode_reader_bytes"
   ]
  },
  {
   "cell_type": "code",
   "execution_count": null,
   "metadata": {
    "dotnet_interactive": {
     "language": "spiral"
    },
    "polyglot_notebook": {
     "kernelName": "spiral"
    }
   },
   "outputs": [],
   "source": [
    "nominal decode_reader_bytes t u =\n",
    "    `(\n",
    "        global \"#if FABLE_COMPILER\\n[<Fable.Core.Erase; Fable.Core.Emit(\\\"encoding_rs_io::DecodeReaderBytes<$0, $1>\\\")>]\\n#endif\\ntype encoding_rs_io_DecodeReaderBytes<'T, 'U> = class end\"\n",
    "        $'' : $'encoding_rs_io_DecodeReaderBytes<`t, `u>'\n",
    "    )"
   ]
  },
  {
   "cell_type": "markdown",
   "metadata": {},
   "source": [
    "### decode_reader_bytes_build"
   ]
  },
  {
   "cell_type": "code",
   "execution_count": null,
   "metadata": {
    "dotnet_interactive": {
     "language": "spiral"
    },
    "polyglot_notebook": {
     "kernelName": "spiral"
    }
   },
   "outputs": [],
   "source": [
    "inl decode_reader_bytes_build forall t. (x : t) : decode_reader_bytes t (am'.vec u8) =\n",
    "    // !\\($'\"encoding_rs_io::DecodeReaderBytesBuilder::new().encoding(Some(encoding_rs::UTF_8)).build(!x)\"')\n",
    "    // !\\($'\"encoding_rs_io::DecodeReaderBytesBuilder::new().encoding(Some(encoding_rs::UTF_8)).utf8_passthru(true).build(!x)\"')\n",
    "    !\\\\(x, $'\"encoding_rs_io::DecodeReaderBytesBuilder::new().utf8_passthru(true).build($0)\"')\n",
    "    // !\\($'\"encoding_rs_io::DecodeReaderBytes::new(!x)\"')"
   ]
  },
  {
   "cell_type": "markdown",
   "metadata": {},
   "source": [
    "### buf_reader_read"
   ]
  },
  {
   "cell_type": "code",
   "execution_count": null,
   "metadata": {
    "dotnet_interactive": {
     "language": "spiral"
    },
    "polyglot_notebook": {
     "kernelName": "spiral"
    }
   },
   "outputs": [],
   "source": [
    "inl buf_reader_read forall el dim. (slice : am'.slice' el dim) (buf_reader : buf_reader el) : resultm.result' unativeint io_error =\n",
    "    (!\\($'\"true; let mut !slice = !slice\"') : bool) |> ignore\n",
    "    !\\($'\"std::io::Read::read(&mut !buf_reader, &mut !slice)\"')"
   ]
  },
  {
   "cell_type": "markdown",
   "metadata": {},
   "source": [
    "### io_read_by_ref"
   ]
  },
  {
   "cell_type": "code",
   "execution_count": null,
   "metadata": {
    "dotnet_interactive": {
     "language": "spiral"
    },
    "polyglot_notebook": {
     "kernelName": "spiral"
    }
   },
   "outputs": [],
   "source": [
    "inl io_read_by_ref forall t. (lines : lines t) : lines t =\n",
    "    !\\\\(lines, $'\"std::io::Read::by_ref($0)\"')"
   ]
  }
 ],
 "metadata": {},
 "nbformat": 4,
 "nbformat_minor": 5
}