{
 "cells": [
  {
   "cell_type": "markdown",
   "metadata": {},
   "source": [
    "# parsing"
   ]
  },
  {
   "cell_type": "code",
   "execution_count": null,
   "metadata": {
    "dotnet_interactive": {
     "language": "spiral"
    },
    "polyglot_notebook": {
     "kernelName": "spiral"
    }
   },
   "outputs": [],
   "source": [
    "open rust_operators\n",
    "open sm'_operators"
   ]
  },
  {
   "cell_type": "code",
   "execution_count": null,
   "metadata": {
    "dotnet_interactive": {
     "language": "spiral"
    },
    "polyglot_notebook": {
     "kernelName": "spiral"
    }
   },
   "outputs": [],
   "source": [
    "//// test\n",
    "\n",
    "open testing"
   ]
  },
  {
   "cell_type": "markdown",
   "metadata": {},
   "source": [
    "## types"
   ]
  },
  {
   "cell_type": "code",
   "execution_count": null,
   "metadata": {
    "dotnet_interactive": {
     "language": "spiral"
    },
    "polyglot_notebook": {
     "kernelName": "spiral"
    }
   },
   "outputs": [],
   "source": [
    "inl types () =\n",
    "    ()"
   ]
  },
  {
   "cell_type": "code",
   "execution_count": null,
   "metadata": {
    "dotnet_interactive": {
     "language": "spiral"
    },
    "polyglot_notebook": {
     "kernelName": "spiral"
    }
   },
   "outputs": [],
   "source": [
    "inl types () =\n",
    "    types ()"
   ]
  },
  {
   "cell_type": "markdown",
   "metadata": {},
   "source": [
    "## fparsec"
   ]
  },
  {
   "cell_type": "code",
   "execution_count": null,
   "metadata": {
    "dotnet_interactive": {
     "language": "spiral"
    },
    "polyglot_notebook": {
     "kernelName": "spiral"
    }
   },
   "outputs": [],
   "source": [
    "//// test\n",
    "\n",
    "#r \"nuget:FParsec\""
   ]
  },
  {
   "cell_type": "code",
   "execution_count": null,
   "metadata": {
    "dotnet_interactive": {
     "language": "spiral"
    },
    "polyglot_notebook": {
     "kernelName": "spiral"
    }
   },
   "outputs": [],
   "source": [
    "//// test\n",
    "\n",
    "nominal position_ = $'FParsec.Position'\n",
    "nominal parser_error_ = $'FParsec.Error.ParserError'\n",
    "\n",
    "nominal reply_ t = $'FParsec.Reply<`t>'\n",
    "\n",
    "nominal char_stream_ t = $'FParsec.CharStream<`t>'\n",
    "\n",
    "// nominal parser t u = char_stream u -> reply t\n",
    "nominal parser_ t u = $'FParsec.Primitives.Parser<`t, `u>'\n",
    "\n",
    "inl p_char_ forall t. (x : char) : parser_ char t =\n",
    "    x |> $'FParsec.CharParsers.pchar'\n",
    "\n",
    "inl p_string_ forall t. (x : string) : parser_ string t =\n",
    "    x |> $'FParsec.CharParsers.pstring'\n",
    "\n",
    "inl (>>.$) forall t u v. (a : parser_ t v) (b : parser_ u v) : parser_ u v =\n",
    "    b |> $'FParsec.Primitives.(>>.)' a\n",
    "\n",
    "inl (.>>$) forall t u v. (a : parser_ t v) (b : parser_ u v) : parser_ t v =\n",
    "    b |> $'FParsec.Primitives.(.>>)' a\n",
    "\n",
    "inl (.>>.$) forall t u v. (a : parser_ t v) (b : parser_ u v) : parser_ (pair t u) v =\n",
    "    b |> $'FParsec.Primitives.(.>>.)' a\n",
    "\n",
    "inl (>>%$) forall t u v. (a : parser_ t v) (b : u) : parser_ u v =\n",
    "    b |> $'FParsec.Primitives.(>>%)' a\n",
    "\n",
    "inl (>>=$) forall t u v. (a : parser_ t v) (b : t -> parser_ u v) : parser_ u v =\n",
    "    b |> $'FParsec.Primitives.(>>=)' a\n",
    "\n",
    "inl (|>>$) forall t u v. (a : parser_ t v) (b : t -> u) : parser_ u v =\n",
    "    inl b = fun x => x |> b\n",
    "    b |> $'FParsec.Primitives.(|>>)' a\n",
    "\n",
    "inl any_char_ () : parser_ char _ =\n",
    "    $'FParsec.CharParsers.anyChar'\n",
    "\n",
    "inl any_string_ () : parser_ string _ =\n",
    "    $'FParsec.CharParsers.anyString'\n",
    "\n",
    "inl any_string__ (n : i32) : parser_ string _ =\n",
    "    n |> $'FParsec.CharParsers.anyString'\n",
    "\n",
    "inl eof_ () : parser_ () _ =\n",
    "    $'FParsec.CharParsers.eof'\n",
    "\n",
    "inl spaces_ () : parser_ () () =\n",
    "    $'FParsec.CharParsers.spaces'\n",
    "\n",
    "inl spaces1_ () : parser_ () () =\n",
    "    $'FParsec.CharParsers.spaces1'\n",
    "\n",
    "inl (<|>$) forall t u. (a : parser_ t u) (b : parser_ t u) : parser_ t u =\n",
    "    b |> $'FParsec.Primitives.(<|>)' a\n",
    "\n",
    "inl many_satisfy_ forall t. (x : char -> bool) : parser_ string t =\n",
    "    x |> $'FParsec.CharParsers.manySatisfy'\n",
    "\n",
    "inl satisfy_ forall t. (x : char -> bool) : parser_ char t =\n",
    "    x |> $'FParsec.CharParsers.satisfy'\n",
    "\n",
    "inl none_of_ (x : list char) : parser_ char () =\n",
    "    x\n",
    "    |> listm'.box\n",
    "    |> listm'.to_array'\n",
    "    |> $'FParsec.CharParsers.noneOf'\n",
    "\n",
    "inl any_of_ (x : list char) : parser_ char () =\n",
    "    x\n",
    "    |> listm'.box\n",
    "    |> listm'.to_array'\n",
    "    |> $'FParsec.CharParsers.anyOf'\n",
    "\n",
    "inl skip_any_of_ (x : list char) : parser_ () () =\n",
    "    x\n",
    "    |> listm'.box\n",
    "    |> listm'.to_array'\n",
    "    |> $'FParsec.CharParsers.skipAnyOf'\n",
    "\n",
    "inl between_ forall t u v x. (a : parser_ t x) (b : parser_ u x) (c : parser_ v x) : parser_ v x =\n",
    "    c |> $'FParsec.Primitives.between' a b\n",
    "\n",
    "inl many_chars_ forall t. (x : parser_ char t) : parser_ string t =\n",
    "    x |> $'FParsec.CharParsers.manyChars'\n",
    "\n",
    "inl many1_chars_ forall t. (x : parser_ char t) : parser_ string t =\n",
    "    x |> $'FParsec.CharParsers.many1Chars'\n",
    "\n",
    "inl many_strings_ forall t. (x : parser_ string t) : parser_ string t =\n",
    "    x |> $'FParsec.CharParsers.manyStrings'\n",
    "\n",
    "inl skip_any_string_ forall t. (n : i32) : parser_ () t =\n",
    "    n |> $'FParsec.CharParsers.skipAnyString'\n",
    "\n",
    "inl many1_strings_ forall t. (x : parser_ string t) : parser_ string t =\n",
    "    x |> $'FParsec.CharParsers.many1Strings'\n",
    "\n",
    "inl opt_ forall t u. (a : parser_ t u) : parser_ (optionm'.option' t) u =\n",
    "    a |> $'FParsec.Primitives.opt'\n",
    "\n",
    "inl choice_ forall t u. (a : list (parser_ t u)) : parser_ t u =\n",
    "    a\n",
    "    |> listm'.box\n",
    "    |> seq.of_list'\n",
    "    |> $'FParsec.Primitives.choice'\n",
    "\n",
    "inl delay_ forall t u. (fn : () -> parser_ t u) : parser_ t u =\n",
    "    fn |> $'FParsec.Primitives.parse.Delay'\n",
    "\n",
    "inl peek_ forall t u. (a : parser_ t u) : parser_ char u =\n",
    "    $'!a.Peek ()'\n",
    "\n",
    "inl not_followed_by_ forall t u. (a : parser_ t u) : parser_ () u =\n",
    "    a |> $'FParsec.Primitives.notFollowedBy'\n",
    "\n",
    "inl sep_by_ forall t u v. (a : parser_ t v) (b : parser_ u v) : parser_ (listm'.list' t) v =\n",
    "    b |> $'FParsec.Primitives.sepBy' a\n",
    "\n",
    "inl sep_by1_ forall t u v. (a : parser_ t v) (b : parser_ u v) : parser_ (listm'.list' t) v =\n",
    "    b |> $'FParsec.Primitives.sepBy1' a\n",
    "\n",
    "inl sep_end_by_ forall t u v. (a : parser_ t v) (b : parser_ u v) : parser_ (listm'.list' t) v =\n",
    "    b |> $'FParsec.Primitives.sepEndBy' a\n",
    "\n",
    "inl many_ forall t u. (a : parser_ t u) : parser_ (listm'.list' t) u =\n",
    "    a |> $'FParsec.Primitives.many'\n",
    "\n",
    "inl many1_ forall t u. (a : parser_ t u) : parser_ (listm'.list' t) u =\n",
    "    a |> $'FParsec.Primitives.many1'\n",
    "\n",
    "inl many1_satisfy_ forall t. (x : char -> bool) : parser_ string t =\n",
    "    x |> $'FParsec.CharParsers.many1Satisfy'\n",
    "\n",
    "nominal parser_result'_ t u = $'FParsec.CharParsers.ParserResult<`t, `u>'\n",
    "\n",
    "inl run_ forall t. (parser : parser_ t ()) (x : string) : parser_result'_ t () =\n",
    "    x |> $'FParsec.CharParsers.run' parser\n",
    "\n",
    "union parser_result_ t u =\n",
    "    | Success : t * u * position_\n",
    "    | Failure : string * parser_error_ * u\n",
    "\n",
    "inl parser_result_ forall t u. = function\n",
    "    | Success (a, b, c) => $'`(parser_result'_ t u).Success (!a, !b, !c)' : parser_result'_ t u\n",
    "    | Failure (a, b, c) => $'`(parser_result'_ t u).Failure (!a, !b, !c)' : parser_result'_ t u\n",
    "\n",
    "inl parser_result'_ forall t u. (x : parser_result'_ t u) : parser_result_ t u =\n",
    "    $'let mutable _!x = None '\n",
    "    $'match !x with'\n",
    "    $'| FParsec.CharParsers.Success (a, b, c) -> (' : ()\n",
    "    $'(fun () ->'\n",
    "    $'(fun () ->'\n",
    "    (Success ((dyn $'a'), dyn $'b', dyn $'c') : _ t u) |> emit_unit\n",
    "    $')'\n",
    "    $'|> fun x -> x ()'\n",
    "    $') () ) | FParsec.CharParsers.Failure (a, b, c) -> (' : ()\n",
    "    $'(fun () ->'\n",
    "    $'(fun () ->'\n",
    "    (Failure ((dyn $'a'), dyn $'b', dyn $'c') : _ t u) |> emit_unit\n",
    "    $')'\n",
    "    $'|> fun x -> x ()'\n",
    "    $') () )' : ()\n",
    "    $'|> fun x -> _!x <- Some x'\n",
    "    $'match _!x with Some x -> x | None -> failwith \"??? / _!x=None\"'\n",
    "\n",
    "inl parse_ parser input : result _ _ =\n",
    "    match input |> run_ parser |> parser_result'_ with\n",
    "    | Success (result, b, c) => Ok (result, c)\n",
    "    | Failure (error_msg, b, c) => Error (error_msg, b)"
   ]
  },
  {
   "cell_type": "code",
   "execution_count": null,
   "metadata": {
    "dotnet_interactive": {
     "language": "spiral"
    },
    "polyglot_notebook": {
     "kernelName": "spiral"
    }
   },
   "outputs": [
    {
     "name": "stdout",
     "output_type": "stream",
     "text": [
      "\n",
      "input: a b c\n",
      "assert_eq' / actual: [|\"a\"; \"b\"; \"c\"|] / expected: [|\"a\"; \"b\"; \"c\"|]\n",
      "\n",
      "input: e f \"g h\" i\n",
      "assert_eq' / actual: [|\"e\"; \"f\"; \"g h\"; \"i\"|] / expected: [|\"e\"; \"f\"; \"g h\"; \"i\"|]\n",
      "\n",
      "input: \"j k\" \"l\" \"m\"\n",
      "assert_eq' / actual: [|\"j k\"; \"l\"; \"m\"|] / expected: [|\"j k\"; \"l\"; \"m\"|]\n",
      "\n",
      "input: s -t \"u `\"v`\" w\"\n",
      "assert_eq' / actual: [|\"s\"; \"-t\"; \"u `\"v`\" w\"|] / expected: [|\"s\"; \"-t\"; \"u `\"v`\" w\"|]\n",
      "\n",
      "input: n -o \"p \\\"q\\\" r\"\n",
      "assert_eq' / actual: [|\"n\"; \"-o\"; \"p \\\"q\\\" r\"|] / expected: [|\"n\"; \"-o\"; \"p \\\"q\\\" r\"|]\n",
      "\n",
      "input: r -s \"t \\\"u\\\"\"\n",
      "assert_eq' / actual: [|\"r\"; \"-s\"; \"t \\\"u\\\"\"|] / expected: [|\"r\"; \"-s\"; \"t \\\"u\\\"\"|]\n",
      "\n",
      "input: x -y \"$z -a '(b=\\\"c-id=)[a-fA-F0-9]{8}', { `$_[1] + `$d++ }\"\n",
      "assert_eq' / actual: [|\"x\"; \"-y\"; \"$z -a '(b=\\\"c-id=)[a-fA-F0-9]{8}', { `$_[1] + `$d++ }\"|] / expected: [|\"x\"; \"-y\"; \"$z -a '(b=\\\"c-id=)[a-fA-F0-9]{8}', { `$_[1] + `$d++ }\"|]\n",
      "\n",
      "input: e -f \"$g -h '(i=`\"j-id=)[a-fA-F0-9]{8}', { `$_[1] + `$k++ }\"\n",
      "assert_eq' / actual: [|\"e\"; \"-f\"; \"$g -h '(i=`\"j-id=)[a-fA-F0-9]{8}', { `$_[1] + `$k++ }\"|] / expected: [|\"e\"; \"-f\"; \"$g -h '(i=`\"j-id=)[a-fA-F0-9]{8}', { `$_[1] + `$k++ }\"|]\n",
      "\n",
      "input: --l \\\"''' m '''\\\" \n",
      "assert_eq' / actual: [|\"--l\"; \"''' m '''\"|] / expected: [|\"--l\"; \"''' m '''\"|]\n",
      "\n",
      "input: n --o --p q --r \"s:/t u/v.w\" --x \"y:/z.a\" --b c.d \"\\e{f-g}\" h.i \"j (k)\"\n",
      "assert_eq' / actual: [|\"n\"; \"--o\"; \"--p\"; \"q\"; \"--r\"; \"s:/t u/v.w\"; \"--x\"; \"y:/z.a\"; \"--b\"; \"c.d\";\n",
      "  \"\\e{f-g}\"; \"h.i\"; \"j (k)\"|] / expected: [|\"n\"; \"--o\"; \"--p\"; \"q\"; \"--r\"; \"s:/t u/v.w\"; \"--x\"; \"y:/z.a\"; \"--b\"; \"c.d\";\n",
      "  \"\\e{f-g}\"; \"h.i\"; \"j (k)\"|]\n",
      "\n",
      "input: l \"m n:\\o.p\"\n",
      "assert_eq' / actual: [|\"l\"; \"m n:\\o.p\"|] / expected: [|\"l\"; \"m n:\\o.p\"|]\n"
     ]
    }
   ],
   "source": [
    "//// test\n",
    "\n",
    "inl split_args (args : string) : result (array_base (string * position_)) (string * parser_error_) =\n",
    "    inl esc = [ '\\\\'; '`' ]\n",
    "    inl quotes = [ '\"' ]\n",
    "    inl special = esc ++ quotes\n",
    "    inl p_esc_char c =\n",
    "        p_char_ c >>.$ any_char_ () |>>$ fun c' => $'$\"{!c}{!c'}\"'\n",
    "    inl p_word = special |> none_of_ |>>$ sm'.obj_to_string\n",
    "    inl p_plain = special ++ [ ' ' ] |> none_of_ |> many1_chars_\n",
    "    inl p_text = p_word |> many1_strings_\n",
    "    inl p_esc = esc |> listm.map p_esc_char |> choice_\n",
    "    inl p_quoted = (p_word <|>$ p_esc) |> many_ |>>$ (seq.of_list' >> sm'.concat \"\")\n",
    "    inl p_quoted_all = p_quoted |> between_ (p_char_ '\"') (p_char_ '\"')\n",
    "    inl p_esc_root = p_esc |>>$ (fun _ => \"\") >>.$ (p_word |> many_) |>>$ (seq.of_list' >> sm'.concat \"\")\n",
    "    inl p_content = p_plain <|>$ p_quoted_all <|>$ p_esc_root\n",
    "    inl p_args = spaces1_ () |> sep_by_ p_content\n",
    "    args\n",
    "    |> parse_ p_args\n",
    "    |> resultm.map fun (a', b') =>\n",
    "        (\n",
    "            (\n",
    "                a'\n",
    "                |> listm'.to_array'\n",
    "                |> a\n",
    "                |> am.map fun x => x, b'\n",
    "                |> fun (a x : _ i32 _) => x\n",
    "            )\n",
    "        )\n",
    "\n",
    "[\n",
    "    \"a b c\",\n",
    "    ;[ \"a\"; \"b\"; \"c\" ]\n",
    "\n",
    "    \"e f \\\"g h\\\" i\",\n",
    "    ;[ \"e\"; \"f\"; \"g h\"; \"i\" ]\n",
    "\n",
    "    \"\\\"j k\\\" \\\"l\\\" \\\"m\\\"\",\n",
    "    ;[ \"j k\"; \"l\"; \"m\" ]\n",
    "\n",
    "    \"s -t \\\"u \\`\\\"v\\`\\\" w\\\"\",\n",
    "    ;[ \"s\"; \"-t\"; \"u \\`\\\"v\\`\\\" w\" ]\n",
    "\n",
    "    \"n -o \\\"p \\\\\\\"q\\\\\\\" r\\\"\",\n",
    "    ;[ \"n\"; \"-o\"; \"p \\\\\\\"q\\\\\\\" r\" ]\n",
    "\n",
    "    \"r -s \\\"t \\\\\\\"u\\\\\\\"\\\"\",\n",
    "    ;[ \"r\"; \"-s\"; \"t \\\\\\\"u\\\\\\\"\" ]\n",
    "\n",
    "    $'$\"x -y \\\\\\\"$z -a \\'(b=\\\\\\\\\\\\\"c-id=)[a-fA-F0-9]{{8}}\\', {{ \\`$_[1] + \\`$d++ }}\\\\\\\"\"',\n",
    "    ;[ \"x\"; \"-y\"; \"$z -a '(b=\\\\\\\"c-id=)[a-fA-F0-9]{8}', { `$_[1] + `$d++ }\" ]\n",
    "\n",
    "    \"e -f \\\"$g -h '(i=`\\\"j-id=)[a-fA-F0-9]{8}', { `$_[1] + `$k++ }\\\"\",\n",
    "    ;[ \"e\"; \"-f\"; \"$g -h '(i=`\\\"j-id=)[a-fA-F0-9]{8}', { `$_[1] + `$k++ }\" ]\n",
    "    \n",
    "    $'$\"--l \\\\\\\\\\\\\"\\'\\'\\' m \\'\\'\\'\\\\\\\\\\\\\" \"',\n",
    "    ;[ \"--l\"; \"''' m '''\" ]\n",
    "\n",
    "    $'$\"n --o --p q --r \\\\\\\"s:/t u/v.w\\\\\\\" --x \\\\\\\"y:/z.a\\\\\\\" --b c.d \\\\\\\"\\\\\\\\e{{f-g}}\\\\\\\" h.i \\\\\\\"j (k)\\\\\\\"\"',\n",
    "    ;[ \"n\"; \"--o\"; \"--p\"; \"q\"; \"--r\"; \"s:/t u/v.w\"; \"--x\"; \"y:/z.a\"; \"--b\"; \"c.d\"; \"\\\\e{f-g}\"; \"h.i\"; \"j (k)\" ]\n",
    "\n",
    "    $'\\@$\"l \"\"m n:\\\\o.p\"\"\"',\n",
    "    ;[ \"l\"; \"m n:\\\\o.p\" ]\n",
    "]\n",
    "|> listm.rev\n",
    "|> listm.map fun input, expected =>\n",
    "    input\n",
    "    |> split_args\n",
    "    |> fun x =>\n",
    "        try\n",
    "            fun () =>\n",
    "                ($'$\"\\ninput: {!input}\"' : string)\n",
    "                |> console.write_line\n",
    "                x\n",
    "                |> resultm.get\n",
    "                |> am'.map_base fst\n",
    "                |> _assert_eq' expected\n",
    "                false\n",
    "            fun ex =>\n",
    "                ($'$\"error / expected: %A{!expected} / ex: %A{!ex}\"' : string)\n",
    "                |> console.write_line\n",
    "                Some true\n",
    "        |> optionm.value\n",
    "|> listm'.filter id\n",
    "|> function\n",
    "    | [] => ()\n",
    "    | x => failwith $'$\"{!x}\"'"
   ]
  },
  {
   "cell_type": "markdown",
   "metadata": {},
   "source": [
    "## parsing"
   ]
  },
  {
   "cell_type": "markdown",
   "metadata": {},
   "source": [
    "### range"
   ]
  },
  {
   "cell_type": "code",
   "execution_count": null,
   "metadata": {
    "dotnet_interactive": {
     "language": "spiral"
    },
    "polyglot_notebook": {
     "kernelName": "spiral"
    }
   },
   "outputs": [],
   "source": [
    "type range =\n",
    "    {\n",
    "        from : int\n",
    "        to : int\n",
    "    }"
   ]
  },
  {
   "cell_type": "markdown",
   "metadata": {},
   "source": [
    "### position"
   ]
  },
  {
   "cell_type": "code",
   "execution_count": null,
   "metadata": {
    "dotnet_interactive": {
     "language": "spiral"
    },
    "polyglot_notebook": {
     "kernelName": "spiral"
    }
   },
   "outputs": [],
   "source": [
    "type position =\n",
    "    {\n",
    "        line : int\n",
    "        col : int\n",
    "    }"
   ]
  },
  {
   "cell_type": "markdown",
   "metadata": {},
   "source": [
    "### parser_state"
   ]
  },
  {
   "cell_type": "code",
   "execution_count": null,
   "metadata": {
    "dotnet_interactive": {
     "language": "spiral"
    },
    "polyglot_notebook": {
     "kernelName": "spiral"
    }
   },
   "outputs": [],
   "source": [
    "type parser_state =\n",
    "    {\n",
    "        line_text : sm'.string_builder\n",
    "        position : position\n",
    "    }"
   ]
  },
  {
   "cell_type": "markdown",
   "metadata": {},
   "source": [
    "### parser"
   ]
  },
  {
   "cell_type": "code",
   "execution_count": null,
   "metadata": {
    "dotnet_interactive": {
     "language": "spiral"
    },
    "polyglot_notebook": {
     "kernelName": "spiral"
    }
   },
   "outputs": [],
   "source": [
    "type parser t = string * parser_state -> result (t * string * parser_state) string"
   ]
  },
  {
   "cell_type": "markdown",
   "metadata": {},
   "source": [
    "### parse"
   ]
  },
  {
   "cell_type": "code",
   "execution_count": null,
   "metadata": {
    "dotnet_interactive": {
     "language": "spiral"
    },
    "polyglot_notebook": {
     "kernelName": "spiral"
    }
   },
   "outputs": [],
   "source": [
    "inl parse forall t. (p : parser t) (input : string) : result (t * string * parser_state) string =\n",
    "    p (input, { line_text = \"\" |> sm'.string_builder; position = { line = 1; col = 1 } })"
   ]
  },
  {
   "cell_type": "markdown",
   "metadata": {},
   "source": [
    "### inc"
   ]
  },
  {
   "cell_type": "code",
   "execution_count": null,
   "metadata": {
    "dotnet_interactive": {
     "language": "spiral"
    },
    "polyglot_notebook": {
     "kernelName": "spiral"
    }
   },
   "outputs": [],
   "source": [
    "inl inc c (s : parser_state) =\n",
    "    match c with\n",
    "    | '\\n' => { line = s.position.line + 1; col = 1 }\n",
    "    | _ => { s.position with col = s.position.col + 1 }.position"
   ]
  },
  {
   "cell_type": "markdown",
   "metadata": {},
   "source": [
    "### update"
   ]
  },
  {
   "cell_type": "code",
   "execution_count": null,
   "metadata": {
    "dotnet_interactive": {
     "language": "spiral"
    },
    "polyglot_notebook": {
     "kernelName": "spiral"
    }
   },
   "outputs": [],
   "source": [
    "inl update result (s : parser_state) =\n",
    "    (s, result |> sm'.to_char_array |> am'.to_list' |> listm'.unbox)\n",
    "    ||> listm.fold fun s c => { s with\n",
    "        position = s |> inc c\n",
    "        line_text =\n",
    "            match c with\n",
    "            | '\\n' => s.line_text |> sm'.builder_clear\n",
    "            | c => s.line_text |> sm'.builder_append (sm'.obj_to_string c)\n",
    "    }"
   ]
  },
  {
   "cell_type": "markdown",
   "metadata": {},
   "source": [
    "### any_char"
   ]
  },
  {
   "cell_type": "code",
   "execution_count": null,
   "metadata": {
    "dotnet_interactive": {
     "language": "spiral"
    },
    "polyglot_notebook": {
     "kernelName": "spiral"
    }
   },
   "outputs": [],
   "source": [
    "inl any_char () : parser char = function\n",
    "    | \"\", s => Error $'$\"parsing.any_char / unexpected end of input / s: %A{!s}\"'\n",
    "    | x, s =>\n",
    "        inl first_char = x |> sm'.index 0i32\n",
    "        inl rest = x |> sm'.range (am'.Start 1i32) (am'.End id)\n",
    "        in Ok (first_char, rest, s |> update (sm'.obj_to_string first_char))"
   ]
  },
  {
   "cell_type": "code",
   "execution_count": null,
   "metadata": {
    "dotnet_interactive": {
     "language": "spiral"
    },
    "polyglot_notebook": {
     "kernelName": "spiral"
    }
   },
   "outputs": [
    {
     "name": "stdout",
     "output_type": "stream",
     "text": [
      "assert_eq / actual: \"struct ('a', \"bc\", a, 2, 1)\" / expected: \"struct ('a', \"bc\", a, 2, 1)\"\n"
     ]
    }
   ],
   "source": [
    "//// test\n",
    "\n",
    "\"abc\"\n",
    "|> parse (any_char ())\n",
    "|> resultm.get\n",
    "|> sm'.format_debug\n",
    "|> _assert_eq (\n",
    "    ('a', \"bc\", { line_text = \"a\" |> sm'.string_builder; position = { col = 2i32; line = 1i32 } })\n",
    "    |> sm'.format_debug\n",
    ")"
   ]
  },
  {
   "cell_type": "code",
   "execution_count": null,
   "metadata": {
    "dotnet_interactive": {
     "language": "spiral"
    },
    "polyglot_notebook": {
     "kernelName": "spiral"
    }
   },
   "outputs": [
    {
     "name": "stdout",
     "output_type": "stream",
     "text": [
      "assert_eq' / actual: \"struct ('a', (Ln: 1, Col: 2))\" / expected: \"struct ('a', (Ln: 1, Col: 2))\"\n"
     ]
    }
   ],
   "source": [
    "//// test\n",
    "\n",
    "\"abc\"\n",
    "|> parse_ (any_char_ ())\n",
    "|> resultm.get\n",
    "|> sm'.format_debug\n",
    "|> _assert_eq' (('a', ($'FParsec.Position (null, 0, 1, 2)' : position_)) |> sm'.format_debug)"
   ]
  },
  {
   "cell_type": "markdown",
   "metadata": {},
   "source": [
    "### p_char"
   ]
  },
  {
   "cell_type": "code",
   "execution_count": null,
   "metadata": {
    "dotnet_interactive": {
     "language": "spiral"
    },
    "polyglot_notebook": {
     "kernelName": "spiral"
    }
   },
   "outputs": [],
   "source": [
    "inl p_char (c : char) : parser char = function\n",
    "    | \"\", s => Error $'$\"parsing.p_char / unexpected end of input / s: %A{!s}\"'\n",
    "    | input, s =>\n",
    "        inl first_char = input |> sm'.index 0i32\n",
    "        if first_char = c\n",
    "        then Ok (\n",
    "            first_char,\n",
    "            input |> sm'.range (am'.Start 1i32) (am'.End id),\n",
    "            s |> update (sm'.obj_to_string first_char)\n",
    "        )\n",
    "        else\n",
    "            inl { line_text position = { line col } } = s\n",
    "            inl message : string =\n",
    "                inl rest =\n",
    "                    input\n",
    "                    |> sm'.range\n",
    "                        (am'.Start 0i32)\n",
    "                        (am'.End fun l =>\n",
    "                            match (input |> sm'.index_of \"\\n\") - 1 with\n",
    "                            | -2 => l\n",
    "                            | l => l\n",
    "                        )\n",
    "                $'$\"parsing.p_char / expected: \\'{!c}\\' / line: {!line} / col: {!col}\\n{!line_text}{!rest}\"'\n",
    "            inl pointer_line = (sm'.replicate (col - 1) \" \") +. \"^\"\n",
    "            $'$\"{!message}\\n{!pointer_line}\\n\"' |> Error"
   ]
  },
  {
   "cell_type": "code",
   "execution_count": null,
   "metadata": {
    "dotnet_interactive": {
     "language": "spiral"
    },
    "polyglot_notebook": {
     "kernelName": "spiral"
    }
   },
   "outputs": [
    {
     "name": "stdout",
     "output_type": "stream",
     "text": [
      "assert_eq / actual: \"struct ('a', \"bc\", a, 2, 1)\" / expected: \"struct ('a', \"bc\", a, 2, 1)\"\n"
     ]
    }
   ],
   "source": [
    "//// test\n",
    "\n",
    "\"abc\"\n",
    "|> parse (p_char 'a')\n",
    "|> resultm.get\n",
    "|> sm'.format_debug\n",
    "|> _assert_eq (\n",
    "    ('a', \"bc\", { line_text = \"a\" |> sm'.string_builder; position = { col = 2i32; line = 1i32 } })\n",
    "    |> sm'.format_debug\n",
    ")"
   ]
  },
  {
   "cell_type": "code",
   "execution_count": null,
   "metadata": {
    "dotnet_interactive": {
     "language": "spiral"
    },
    "polyglot_notebook": {
     "kernelName": "spiral"
    }
   },
   "outputs": [
    {
     "name": "stdout",
     "output_type": "stream",
     "text": [
      "assert_eq' / actual: \"struct ('a', (Ln: 1, Col: 2))\" / expected: \"struct ('a', (Ln: 1, Col: 2))\"\n"
     ]
    }
   ],
   "source": [
    "//// test\n",
    "\n",
    "\"abc\"\n",
    "|> parse_ (p_char_ 'a')\n",
    "|> resultm.get\n",
    "|> sm'.format_debug\n",
    "|> _assert_eq' (('a', ($'FParsec.Position (null, 0, 1, 2)' : position_)) |> sm'.format_debug)"
   ]
  },
  {
   "cell_type": "markdown",
   "metadata": {},
   "source": [
    "### any_string"
   ]
  },
  {
   "cell_type": "code",
   "execution_count": null,
   "metadata": {
    "dotnet_interactive": {
     "language": "spiral"
    },
    "polyglot_notebook": {
     "kernelName": "spiral"
    }
   },
   "outputs": [],
   "source": [
    "inl any_string length : parser string = fun input, s =>\n",
    "    if sm'.length input < length\n",
    "    then Error $'$\"parsing.any_string / unexpected end of input / s: %A{!s}\"'\n",
    "    else\n",
    "        inl result = input |> sm'.range (am'.Start 0i32) (am'.End fun _ => length - 1)\n",
    "        inl rest = input |> sm'.range (am'.Start length) (am'.End id)\n",
    "        Ok (result, rest, s |> update result)"
   ]
  },
  {
   "cell_type": "code",
   "execution_count": null,
   "metadata": {
    "dotnet_interactive": {
     "language": "spiral"
    },
    "polyglot_notebook": {
     "kernelName": "spiral"
    }
   },
   "outputs": [
    {
     "name": "stdout",
     "output_type": "stream",
     "text": [
      "assert_eq / actual: \"struct (\"abc\", \"def\", abc, 4, 1)\" / expected: \"struct (\"abc\", \"def\", abc, 4, 1)\"\n"
     ]
    }
   ],
   "source": [
    "//// test\n",
    "\n",
    "\"abcdef\"\n",
    "|> parse (any_string 3i32)\n",
    "|> resultm.get\n",
    "|> sm'.format_debug\n",
    "|> _assert_eq (\n",
    "    (\"abc\", \"def\", { line_text = \"abc\" |> sm'.string_builder; position = { col = 4i32; line = 1i32 } })\n",
    "    |> sm'.format_debug\n",
    ")"
   ]
  },
  {
   "cell_type": "code",
   "execution_count": null,
   "metadata": {
    "dotnet_interactive": {
     "language": "spiral"
    },
    "polyglot_notebook": {
     "kernelName": "spiral"
    }
   },
   "outputs": [
    {
     "name": "stdout",
     "output_type": "stream",
     "text": [
      "assert_eq' / actual: \"(abc, (Ln: 1, Col: 4))\" / expected: \"(abc, (Ln: 1, Col: 4))\"\n"
     ]
    }
   ],
   "source": [
    "//// test\n",
    "\n",
    "\"abcdef\"\n",
    "|> parse_ (any_string__ 3)\n",
    "|> resultm.get\n",
    "|> sm'.obj_to_string\n",
    "|> _assert_eq' ((\"abc\", ($'FParsec.Position (null, 0, 1, 4)' : position_)) |> sm'.obj_to_string)"
   ]
  },
  {
   "cell_type": "markdown",
   "metadata": {},
   "source": [
    "### skip_any_string"
   ]
  },
  {
   "cell_type": "code",
   "execution_count": null,
   "metadata": {
    "dotnet_interactive": {
     "language": "spiral"
    },
    "polyglot_notebook": {
     "kernelName": "spiral"
    }
   },
   "outputs": [],
   "source": [
    "inl skip_any_string length : parser () = fun input, s =>\n",
    "    if sm'.length input < length\n",
    "    then Error $'$\"parsing.skip_any_string / unexpected end of input / s: %A{!s}\"'\n",
    "    else Ok (\n",
    "        (),\n",
    "        input |> sm'.range (am'.Start length) (am'.End id),\n",
    "        s |> update (input |> sm'.range (am'.Start 0i32) (am'.End fun _ => length - 1))\n",
    "    )"
   ]
  },
  {
   "cell_type": "code",
   "execution_count": null,
   "metadata": {
    "dotnet_interactive": {
     "language": "spiral"
    },
    "polyglot_notebook": {
     "kernelName": "spiral"
    }
   },
   "outputs": [
    {
     "name": "stdout",
     "output_type": "stream",
     "text": [
      "assert_eq / actual: \"struct (\"def\", abc, 4, 1)\" / expected: \"struct (\"def\", abc, 4, 1)\"\n"
     ]
    }
   ],
   "source": [
    "//// test\n",
    "\n",
    "\"abcdef\"\n",
    "|> parse (skip_any_string 3i32)\n",
    "|> resultm.get\n",
    "|> sm'.format_debug\n",
    "|> _assert_eq (\n",
    "    ((), \"def\", { line_text = \"abc\" |> sm'.string_builder; position = { col = 4i32; line = 1i32 } })\n",
    "    |> sm'.format_debug\n",
    ")"
   ]
  },
  {
   "cell_type": "markdown",
   "metadata": {},
   "source": [
    "### (>>.)"
   ]
  },
  {
   "cell_type": "code",
   "execution_count": null,
   "metadata": {
    "dotnet_interactive": {
     "language": "spiral"
    },
    "polyglot_notebook": {
     "kernelName": "spiral"
    }
   },
   "outputs": [],
   "source": [
    "inl (>>.) forall t u. (a : parser t) (b : parser u) : parser u = fun input, s =>\n",
    "    match a (input, s) with\n",
    "    | Ok (_, rest, s) => b (rest, s)\n",
    "    | Error e => Error e"
   ]
  },
  {
   "cell_type": "code",
   "execution_count": null,
   "metadata": {
    "dotnet_interactive": {
     "language": "spiral"
    },
    "polyglot_notebook": {
     "kernelName": "spiral"
    }
   },
   "outputs": [
    {
     "name": "stdout",
     "output_type": "stream",
     "text": [
      "assert_eq / actual: \"struct ('b', \"c\", ab, 3, 1)\" / expected: \"struct ('b', \"c\", ab, 3, 1)\"\n",
      "assert_eq / actual: US0_1 \"parsing.p_char / expected: 'a' / line: 2 / col: 2\n",
      "def\n",
      " ^\n",
      "\" / expected: US0_1 \"parsing.p_char / expected: 'a' / line: 2 / col: 2\n",
      "def\n",
      " ^\n",
      "\"\n"
     ]
    }
   ],
   "source": [
    "//// test\n",
    "\n",
    "\"abc\"\n",
    "|> parse (p_char 'a' >>. p_char 'b')\n",
    "|> resultm.get\n",
    "|> sm'.format_debug\n",
    "|> _assert_eq (\n",
    "    ('b', \"c\", { line_text = \"ab\" |> sm'.string_builder; position = { col = 3i32; line = 1i32 } })\n",
    "    |> sm'.format_debug\n",
    ")\n",
    "\n",
    "\"abc\\ndef\\nghi\"\n",
    "|> parse (skip_any_string 5i32 >>. p_char 'a')\n",
    "|> _assert_eq (Error \"parsing.p_char / expected: 'a' / line: 2 / col: 2\\ndef\\n ^\\n\")"
   ]
  },
  {
   "cell_type": "code",
   "execution_count": null,
   "metadata": {
    "dotnet_interactive": {
     "language": "spiral"
    },
    "polyglot_notebook": {
     "kernelName": "spiral"
    }
   },
   "outputs": [
    {
     "name": "stdout",
     "output_type": "stream",
     "text": [
      "assert_eq' / actual: \"(b, (Ln: 1, Col: 3))\" / expected: \"(b, (Ln: 1, Col: 3))\"\n"
     ]
    }
   ],
   "source": [
    "//// test\n",
    "\n",
    "\"abc\"\n",
    "|> parse_ (p_char_ 'a' >>.$ p_char_ 'b')\n",
    "|> resultm.get\n",
    "|> sm'.obj_to_string\n",
    "|> _assert_eq' (('b', ($'FParsec.Position (null, 0, 1, 3)' : position_)) |> sm'.obj_to_string)"
   ]
  },
  {
   "cell_type": "code",
   "execution_count": null,
   "metadata": {
    "dotnet_interactive": {
     "language": "spiral"
    },
    "polyglot_notebook": {
     "kernelName": "spiral"
    }
   },
   "outputs": [
    {
     "name": "stdout",
     "output_type": "stream",
     "text": [
      "assert_eq / actual: \"(Error in Ln: 2 Col: 2\n",
      "def\n",
      " ^\n",
      "Expecting: 'a'\n",
      ", Error in Ln: 2 Col: 2\n",
      "Expecting: 'a'\n",
      ")\" / expected: \"(Error in Ln: 2 Col: 2\n",
      "def\n",
      " ^\n",
      "Expecting: 'a'\n",
      ", Error in Ln: 2 Col: 2\n",
      "Expecting: 'a'\n",
      ")\"\n"
     ]
    }
   ],
   "source": [
    "//// test\n",
    "\n",
    "\"abc\\ndef\\nghi\"\n",
    "|> parse_ (skip_any_string_ 5 >>.$ p_char_ 'a')\n",
    "|> resultm.unwrap_err\n",
    "|> sm'.obj_to_string\n",
    "|> sm'.replace \"\\r\\n\" \"\\n\"\n",
    "|> _assert_eq \"(Error in Ln: 2 Col: 2\\ndef\\n ^\\nExpecting: 'a'\\n, Error in Ln: 2 Col: 2\\nExpecting: 'a'\\n)\""
   ]
  },
  {
   "cell_type": "markdown",
   "metadata": {},
   "source": [
    "### none_of"
   ]
  },
  {
   "cell_type": "code",
   "execution_count": null,
   "metadata": {
    "dotnet_interactive": {
     "language": "spiral"
    },
    "polyglot_notebook": {
     "kernelName": "spiral"
    }
   },
   "outputs": [],
   "source": [
    "inl none_of (chars : list char) : parser char = function\n",
    "    | \"\", s =>\n",
    "        inl chars = chars |> listm'.box |> listm'.to_array'\n",
    "        Error $'$\"parsing.none_of / unexpected end of input / chars: %A{!chars} / s: %A{!s}\"'\n",
    "    | x, s =>\n",
    "        inl first_char = x |> sm'.index 0i32\n",
    "        inl rest = x |> sm'.range (am'.Start 1i32) (am'.End id)\n",
    "        if chars |> listm'.exists' ((=) first_char) |> not\n",
    "        then Ok (first_char, rest, s |> update (sm'.obj_to_string first_char))\n",
    "        else\n",
    "            inl chars = chars |> listm'.box |> listm'.to_array'\n",
    "            Error $'$\"parsing.none_of / unexpected char: \\'{!first_char}\\' / chars: %A{!chars} / s: %A{!s}\"'"
   ]
  },
  {
   "cell_type": "code",
   "execution_count": null,
   "metadata": {
    "dotnet_interactive": {
     "language": "spiral"
    },
    "polyglot_notebook": {
     "kernelName": "spiral"
    }
   },
   "outputs": [
    {
     "name": "stdout",
     "output_type": "stream",
     "text": [
      "assert_eq / actual: US1_1\n",
      "  \"parsing.none_of / unexpected char: 'a' / chars: [|'a'; 'b'; 'c'|] / s: struct (, 1, 1)\" / expected: US1_1\n",
      "  \"parsing.none_of / unexpected char: 'a' / chars: [|'a'; 'b'; 'c'|] / s: struct (, 1, 1)\"\n",
      "assert_eq / actual: \"struct ('d', \"ef\", d, 2, 1)\" / expected: \"struct ('d', \"ef\", d, 2, 1)\"\n"
     ]
    }
   ],
   "source": [
    "//// test\n",
    "\n",
    "\"abc\"\n",
    "|> parse (none_of ['a'; 'b'; 'c'])\n",
    "|> _assert_eq (Error \"parsing.none_of / unexpected char: \\'a\\' / chars: [|'a'; 'b'; 'c'|] / s: struct (, 1, 1)\")\n",
    "\n",
    "\"def\"\n",
    "|> parse (none_of ['a'; 'b'; 'c'])\n",
    "|> resultm.get\n",
    "|> sm'.format_debug\n",
    "|> _assert_eq (\n",
    "    ('d', \"ef\", { line_text = \"d\" |> sm'.string_builder; position = { col = 2i32; line = 1i32 } })\n",
    "    |> sm'.format_debug\n",
    ")"
   ]
  },
  {
   "cell_type": "code",
   "execution_count": null,
   "metadata": {
    "dotnet_interactive": {
     "language": "spiral"
    },
    "polyglot_notebook": {
     "kernelName": "spiral"
    }
   },
   "outputs": [
    {
     "name": "stdout",
     "output_type": "stream",
     "text": [
      "assert_eq / actual: \"(Error in Ln: 1 Col: 1\n",
      "abc\n",
      "^\n",
      "Expecting: any char not in ‘abc’\n",
      ", Error in Ln: 1 Col: 1\n",
      "Expecting: any char not in ‘abc’\n",
      ")\" / expected: \"(Error in Ln: 1 Col: 1\n",
      "abc\n",
      "^\n",
      "Expecting: any char not in ‘abc’\n",
      ", Error in Ln: 1 Col: 1\n",
      "Expecting: any char not in ‘abc’\n",
      ")\"\n",
      "assert_eq' / actual: \"(d, (Ln: 1, Col: 2))\" / expected: \"(d, (Ln: 1, Col: 2))\"\n"
     ]
    }
   ],
   "source": [
    "//// test\n",
    "\n",
    "\"abc\"\n",
    "|> parse_ (none_of_ ['a'; 'b'; 'c'])\n",
    "|> resultm.unwrap_err\n",
    "|> sm'.obj_to_string\n",
    "|> sm'.replace \"\\r\\n\" \"\\n\"\n",
    "|> _assert_eq ($'\"(Error in Ln: 1 Col: 1\\nabc\\n^\\nExpecting: any char not in ‘abc’\\n, Error in Ln: 1 Col: 1\\nExpecting: any char not in ‘abc’\\n)\"')\n",
    "\n",
    "\"def\"\n",
    "|> parse_ (none_of_ ['a'; 'b'; 'c'])\n",
    "|> resultm.get\n",
    "|> sm'.obj_to_string\n",
    "|> _assert_eq' (('d', ($'FParsec.Position (null, 0, 1, 2)' : position_)) |> sm'.obj_to_string)"
   ]
  },
  {
   "cell_type": "markdown",
   "metadata": {},
   "source": [
    "### (<|>)"
   ]
  },
  {
   "cell_type": "code",
   "execution_count": null,
   "metadata": {
    "dotnet_interactive": {
     "language": "spiral"
    },
    "polyglot_notebook": {
     "kernelName": "spiral"
    }
   },
   "outputs": [],
   "source": [
    "inl (<|>) forall t. (a : parser t) (b : parser t) : parser t = fun input, s =>\n",
    "    match a (input, s) with\n",
    "    | Ok _ as result => result\n",
    "    | Error _ => b (input, s)"
   ]
  },
  {
   "cell_type": "code",
   "execution_count": null,
   "metadata": {
    "dotnet_interactive": {
     "language": "spiral"
    },
    "polyglot_notebook": {
     "kernelName": "spiral"
    }
   },
   "outputs": [
    {
     "name": "stdout",
     "output_type": "stream",
     "text": [
      "assert_eq / actual: \"struct ('a', \"bc\", a, 2, 1)\" / expected: \"struct ('a', \"bc\", a, 2, 1)\"\n",
      "assert_eq / actual: US0_1 \"parsing.p_char / expected: 'b' / line: 1 / col: 1\n",
      "cba\n",
      "^\n",
      "\" / expected: US0_1 \"parsing.p_char / expected: 'b' / line: 1 / col: 1\n",
      "cba\n",
      "^\n",
      "\"\n"
     ]
    }
   ],
   "source": [
    "//// test\n",
    "\n",
    "\"abc\"\n",
    "|> parse (p_char 'a' <|> p_char 'b')\n",
    "|> resultm.get\n",
    "|> sm'.format_debug\n",
    "|> _assert_eq (\n",
    "    ('a', \"bc\", { line_text = \"a\" |> sm'.string_builder; position = { col = 2i32; line = 1i32 } })\n",
    "    |> sm'.format_debug\n",
    ")\n",
    "\n",
    "\"cba\"\n",
    "|> parse (p_char 'a' <|> p_char 'b')\n",
    "|> _assert_eq (Error \"parsing.p_char / expected: 'b' / line: 1 / col: 1\\ncba\\n^\\n\")"
   ]
  },
  {
   "cell_type": "markdown",
   "metadata": {},
   "source": [
    "### (|>>)"
   ]
  },
  {
   "cell_type": "code",
   "execution_count": null,
   "metadata": {
    "dotnet_interactive": {
     "language": "spiral"
    },
    "polyglot_notebook": {
     "kernelName": "spiral"
    }
   },
   "outputs": [],
   "source": [
    "inl (|>>) p f : parser _ = fun input =>\n",
    "    match p input with\n",
    "    | Ok (result, rest) => Ok (f result, rest)\n",
    "    | Error e => Error e"
   ]
  },
  {
   "cell_type": "code",
   "execution_count": null,
   "metadata": {
    "dotnet_interactive": {
     "language": "spiral"
    },
    "polyglot_notebook": {
     "kernelName": "spiral"
    }
   },
   "outputs": [
    {
     "name": "stdout",
     "output_type": "stream",
     "text": [
      "assert_eq / actual: \"struct ('A', \"bc\", a, 2, 1)\" / expected: \"struct ('A', \"bc\", a, 2, 1)\"\n"
     ]
    }
   ],
   "source": [
    "//// test\n",
    "\n",
    "\"abc\"\n",
    "|> parse (p_char 'a' |>> sm'.char_to_upper)\n",
    "|> resultm.get\n",
    "|> sm'.format_debug\n",
    "|> _assert_eq (\n",
    "    ('A', \"bc\", { line_text = \"a\" |> sm'.string_builder; position = { col = 2i32; line = 1i32 } })\n",
    "    |> sm'.format_debug\n",
    ")"
   ]
  },
  {
   "cell_type": "markdown",
   "metadata": {},
   "source": [
    "### many1_chars"
   ]
  },
  {
   "cell_type": "code",
   "execution_count": null,
   "metadata": {
    "dotnet_interactive": {
     "language": "spiral"
    },
    "polyglot_notebook": {
     "kernelName": "spiral"
    }
   },
   "outputs": [],
   "source": [
    "inl many1_chars p : parser string = fun input =>\n",
    "    match p input with\n",
    "    | Error e => Error e\n",
    "    | Ok (first_result, rest) =>\n",
    "        let rec loop acc input =\n",
    "            match p input with\n",
    "            | Ok (result, rest) => loop (acc +. sm'.obj_to_string result) rest\n",
    "            | Error _ => Ok (acc, input)\n",
    "        loop (sm'.obj_to_string first_result) rest"
   ]
  },
  {
   "cell_type": "code",
   "execution_count": null,
   "metadata": {
    "dotnet_interactive": {
     "language": "spiral"
    },
    "polyglot_notebook": {
     "kernelName": "spiral"
    }
   },
   "outputs": [
    {
     "name": "stdout",
     "output_type": "stream",
     "text": [
      "assert_eq / actual: \"struct (\"aaabb\", \"c\", aaabb, 6, 1)\" / expected: \"struct (\"aaabb\", \"c\", aaabb, 6, 1)\"\n"
     ]
    }
   ],
   "source": [
    "//// test\n",
    "\n",
    "\"aaabbc\"\n",
    "|> parse (many1_chars (p_char 'a' <|> p_char 'b'))\n",
    "|> resultm.get\n",
    "|> sm'.format_debug\n",
    "|> _assert_eq (\n",
    "    (\"aaabb\", \"c\", { line_text = \"aaabb\" |> sm'.string_builder; position = { col = 6i32; line = 1i32 } })\n",
    "    |> sm'.format_debug\n",
    ")"
   ]
  },
  {
   "cell_type": "markdown",
   "metadata": {},
   "source": [
    "### many1"
   ]
  },
  {
   "cell_type": "code",
   "execution_count": null,
   "metadata": {
    "dotnet_interactive": {
     "language": "spiral"
    },
    "polyglot_notebook": {
     "kernelName": "spiral"
    }
   },
   "outputs": [],
   "source": [
    "inl many1 p : parser (list _) = fun input =>\n",
    "    match p input with\n",
    "    | Error e => Error e\n",
    "    | Ok (first_result, rest) =>\n",
    "        let rec loop acc input =\n",
    "            match p input with\n",
    "            | Ok (result, rest) => loop (result :: acc) rest\n",
    "            | Error _ => Ok (listm.rev acc, input)\n",
    "        loop [ first_result ] rest"
   ]
  },
  {
   "cell_type": "code",
   "execution_count": null,
   "metadata": {
    "dotnet_interactive": {
     "language": "spiral"
    },
    "polyglot_notebook": {
     "kernelName": "spiral"
    }
   },
   "outputs": [
    {
     "name": "stdout",
     "output_type": "stream",
     "text": [
      "assert_eq / actual: \"struct (UH0_1 ('a', UH0_1 ('a', UH0_1 ('a', UH0_1 ('b', UH0_1 ('b', UH0_0))))),\n",
      "        \"c\", aaabb, 6, 1)\" / expected: \"struct (UH0_1 ('a', UH0_1 ('a', UH0_1 ('a', UH0_1 ('b', UH0_1 ('b', UH0_0))))),\n",
      "        \"c\", aaabb, 6, 1)\"\n",
      "assert_eq / actual: \"struct (UH0_1 ('b', UH0_0), \"cc\", b, 2, 1)\" / expected: \"struct (UH0_1 ('b', UH0_0), \"cc\", b, 2, 1)\"\n",
      "assert_eq / actual: US0_1 \"parsing.p_char / expected: 'b' / line: 1 / col: 1\n",
      "cba\n",
      "^\n",
      "\" / expected: US0_1 \"parsing.p_char / expected: 'b' / line: 1 / col: 1\n",
      "cba\n",
      "^\n",
      "\"\n"
     ]
    }
   ],
   "source": [
    "//// test\n",
    "\n",
    "\"aaabbc\"\n",
    "|> parse (many1 (p_char 'a' <|> p_char 'b'))\n",
    "|> resultm.get\n",
    "|> sm'.format_debug\n",
    "|> _assert_eq (\n",
    "    (['a'; 'a'; 'a'; 'b'; 'b'], \"c\", { line_text = \"aaabb\" |> sm'.string_builder; position = { col = 6i32; line = 1i32 } })\n",
    "    |> sm'.format_debug\n",
    ")\n",
    "\n",
    "\"bcc\"\n",
    "|> parse (many1 (p_char 'a' <|> p_char 'b'))\n",
    "|> resultm.get\n",
    "|> sm'.format_debug\n",
    "|> _assert_eq (\n",
    "    (['b'], \"cc\", { line_text = \"b\" |> sm'.string_builder; position = { col = 2i32; line = 1i32 } })\n",
    "    |> sm'.format_debug\n",
    ")\n",
    "\n",
    "\"cba\"\n",
    "|> parse (many1 (p_char 'a' <|> p_char 'b'))\n",
    "|> _assert_eq (Error \"parsing.p_char / expected: 'b' / line: 1 / col: 1\\ncba\\n^\\n\")"
   ]
  },
  {
   "cell_type": "markdown",
   "metadata": {},
   "source": [
    "### many1_strings"
   ]
  },
  {
   "cell_type": "code",
   "execution_count": null,
   "metadata": {
    "dotnet_interactive": {
     "language": "spiral"
    },
    "polyglot_notebook": {
     "kernelName": "spiral"
    }
   },
   "outputs": [],
   "source": [
    "inl many1_strings p : parser string = fun input =>\n",
    "    match many1 p input with\n",
    "    | Ok (results, rest) =>\n",
    "        Ok (results |> listm.map sm'.obj_to_string |> listm'.box |> seq.of_list' |> sm'.concat \"\", rest)\n",
    "    | Error e => Error e"
   ]
  },
  {
   "cell_type": "code",
   "execution_count": null,
   "metadata": {
    "dotnet_interactive": {
     "language": "spiral"
    },
    "polyglot_notebook": {
     "kernelName": "spiral"
    }
   },
   "outputs": [
    {
     "name": "stdout",
     "output_type": "stream",
     "text": [
      "assert_eq / actual: \"struct (\"aaabb\", \"c\", aaabb, 6, 1)\" / expected: \"struct (\"aaabb\", \"c\", aaabb, 6, 1)\"\n"
     ]
    }
   ],
   "source": [
    "//// test\n",
    "\n",
    "\"aaabbc\"\n",
    "|> parse (many1_strings (p_char 'a' <|> p_char 'b'))\n",
    "|> resultm.get\n",
    "|> sm'.format_debug\n",
    "|> _assert_eq (\n",
    "    (\"aaabb\", \"c\", { line_text = \"aaabb\" |> sm'.string_builder; position = { col = 6i32; line = 1i32 } })\n",
    "    |> sm'.format_debug\n",
    ")"
   ]
  },
  {
   "cell_type": "markdown",
   "metadata": {},
   "source": [
    "### choice"
   ]
  },
  {
   "cell_type": "code",
   "execution_count": null,
   "metadata": {
    "dotnet_interactive": {
     "language": "spiral"
    },
    "polyglot_notebook": {
     "kernelName": "spiral"
    }
   },
   "outputs": [],
   "source": [
    "inl choice parsers : parser _ = fun input =>\n",
    "    let rec loop = function\n",
    "        | [] => Error \"choice / no parsers succeeded\"\n",
    "        | p :: ps =>\n",
    "            match p input with\n",
    "            | Ok _ as result => result\n",
    "            | Error _ => loop ps\n",
    "    loop parsers"
   ]
  },
  {
   "cell_type": "code",
   "execution_count": null,
   "metadata": {
    "dotnet_interactive": {
     "language": "spiral"
    },
    "polyglot_notebook": {
     "kernelName": "spiral"
    }
   },
   "outputs": [
    {
     "name": "stdout",
     "output_type": "stream",
     "text": [
      "assert_eq / actual: \"struct ('b', \"ca\", b, 2, 1)\" / expected: \"struct ('b', \"ca\", b, 2, 1)\"\n",
      "assert_eq / actual: \"struct ('c', \"ba\", c, 2, 1)\" / expected: \"struct ('c', \"ba\", c, 2, 1)\"\n"
     ]
    }
   ],
   "source": [
    "//// test\n",
    "\n",
    "\"bca\"\n",
    "|> parse (choice [p_char 'a'; p_char 'b'; p_char 'c'])\n",
    "|> resultm.get\n",
    "|> sm'.format_debug\n",
    "|> _assert_eq (\n",
    "    ('b', \"ca\", { line_text = \"b\" |> sm'.string_builder; position = { col = 2i32; line = 1i32 } })\n",
    "    |> sm'.format_debug\n",
    ")\n",
    "\n",
    "\"cba\"\n",
    "|> parse (choice [p_char 'a'; p_char 'b'; p_char 'c'])\n",
    "|> resultm.get\n",
    "|> sm'.format_debug\n",
    "|> _assert_eq (\n",
    "    ('c', \"ba\", { line_text = \"c\" |> sm'.string_builder; position = { col = 2i32; line = 1i32 } })\n",
    "    |> sm'.format_debug\n",
    ")"
   ]
  },
  {
   "cell_type": "markdown",
   "metadata": {},
   "source": [
    "### many"
   ]
  },
  {
   "cell_type": "code",
   "execution_count": null,
   "metadata": {
    "dotnet_interactive": {
     "language": "spiral"
    },
    "polyglot_notebook": {
     "kernelName": "spiral"
    }
   },
   "outputs": [],
   "source": [
    "inl many p : parser (list _) = fun input =>\n",
    "    let rec loop acc input =\n",
    "        match p input with\n",
    "        | Ok (result, rest) => loop (result :: acc) rest\n",
    "        | Error _ => Ok (listm.rev acc, input)\n",
    "    loop [] input"
   ]
  },
  {
   "cell_type": "code",
   "execution_count": null,
   "metadata": {
    "dotnet_interactive": {
     "language": "spiral"
    },
    "polyglot_notebook": {
     "kernelName": "spiral"
    }
   },
   "outputs": [
    {
     "name": "stdout",
     "output_type": "stream",
     "text": [
      "assert_eq / actual: \"struct (UH0_1 ('a', UH0_1 ('a', UH0_1 ('a', UH0_1 ('b', UH0_1 ('b', UH0_0))))),\n",
      "        \"c\", aaabb, 6, 1)\" / expected: \"struct (UH0_1 ('a', UH0_1 ('a', UH0_1 ('a', UH0_1 ('b', UH0_1 ('b', UH0_0))))),\n",
      "        \"c\", aaabb, 6, 1)\"\n"
     ]
    }
   ],
   "source": [
    "//// test\n",
    "\n",
    "\"aaabbc\"\n",
    "|> parse (many (p_char 'a' <|> p_char 'b'))\n",
    "|> resultm.get\n",
    "|> sm'.format_debug\n",
    "|> _assert_eq (\n",
    "    (['a'; 'a'; 'a'; 'b'; 'b'], \"c\", { line_text = \"aaabb\" |> sm'.string_builder; position = { col = 6i32; line = 1i32 } })\n",
    "    |> sm'.format_debug\n",
    ")"
   ]
  },
  {
   "cell_type": "markdown",
   "metadata": {},
   "source": [
    "### between"
   ]
  },
  {
   "cell_type": "code",
   "execution_count": null,
   "metadata": {
    "dotnet_interactive": {
     "language": "spiral"
    },
    "polyglot_notebook": {
     "kernelName": "spiral"
    }
   },
   "outputs": [],
   "source": [
    "inl between p_open p_close p_content : parser _ = fun input =>\n",
    "    match p_open input with\n",
    "    | Ok (_, rest1) =>\n",
    "        match p_content rest1 with\n",
    "        | Ok (result, rest2) =>\n",
    "            match p_close rest2 with\n",
    "            | Ok (_, rest3) => Ok (result, rest3)\n",
    "            | Error e => Error $'$\"between / expected closing delimiter / e: %A{!e} / input: %A{!input} / rest1: %A{!rest1} / rest2: %A{!rest2}\"'\n",
    "        | Error _ => Error \"between / expected content\"\n",
    "    | Error e => Error e"
   ]
  },
  {
   "cell_type": "code",
   "execution_count": null,
   "metadata": {
    "dotnet_interactive": {
     "language": "spiral"
    },
    "polyglot_notebook": {
     "kernelName": "spiral"
    }
   },
   "outputs": [
    {
     "name": "stdout",
     "output_type": "stream",
     "text": [
      "assert_eq / actual: \"struct (\"aaabb\", \"\", [aaabb], 8, 1)\" / expected: \"struct (\"aaabb\", \"\", [aaabb], 8, 1)\"\n",
      "assert_eq / actual: \"\"between / expected closing delimiter / e: \"parsing.p_char / unexpected end of input / s: struct ([aaabb, 7, 1)\" / input: struct (\"[aaabb\", [aaabb, 1, 1) / rest1: struct (\"aaabb\", [aaabb, 2, 1) / rest2: struct (\"\", [aaabb, 7, 1)\"\" / expected: \"\"between / expected closing delimiter / e: \"parsing.p_char / unexpected end of input / s: struct ([aaabb, 7, 1)\" / input: struct (\"[aaabb\", [aaabb, 1, 1) / rest1: struct (\"aaabb\", [aaabb, 2, 1) / rest2: struct (\"\", [aaabb, 7, 1)\"\"\n"
     ]
    }
   ],
   "source": [
    "//// test\n",
    "\n",
    "\"[aaabb]\"\n",
    "|> parse (between (p_char '[') (p_char ']') (many1_chars (p_char 'a' <|> p_char 'b')))\n",
    "|> resultm.get\n",
    "|> sm'.format_debug\n",
    "|> _assert_eq (\n",
    "    (\"aaabb\", \"\", { line_text = \"[aaabb]\" |> sm'.string_builder; position = { col = 8i32; line = 1i32 } })\n",
    "    |> sm'.format_debug\n",
    ")\n",
    "\n",
    "\"[aaabb\"\n",
    "|> parse (between (p_char '[') (p_char ']') (many1_chars (p_char 'a' <|> p_char 'b')))\n",
    "|> resultm.unwrap_err\n",
    "|> sm'.format_debug\n",
    "|> _assert_eq \"\\\"between / expected closing delimiter / e: \\\"parsing.p_char / unexpected end of input / s: struct ([aaabb, 7, 1)\\\" / input: struct (\\\"[aaabb\\\", [aaabb, 1, 1) / rest1: struct (\\\"aaabb\\\", [aaabb, 2, 1) / rest2: struct (\\\"\\\", [aaabb, 7, 1)\\\"\""
   ]
  },
  {
   "cell_type": "markdown",
   "metadata": {},
   "source": [
    "### sep_by"
   ]
  },
  {
   "cell_type": "code",
   "execution_count": null,
   "metadata": {
    "dotnet_interactive": {
     "language": "spiral"
    },
    "polyglot_notebook": {
     "kernelName": "spiral"
    }
   },
   "outputs": [],
   "source": [
    "inl sep_by p sep : parser (list _) = fun input, s =>\n",
    "    let rec loop acc input s =\n",
    "        match p (input, s) with\n",
    "        | Error _ => Ok (acc |> listm.rev, input, s)\n",
    "        | Ok (result, rest, s) =>\n",
    "            match sep (rest, s) with\n",
    "            | Error _ => Ok ((result :: acc) |> listm.rev, rest, s)\n",
    "            | Ok (_, rest, s) => loop (result :: acc) rest s\n",
    "    loop [] input s"
   ]
  },
  {
   "cell_type": "markdown",
   "metadata": {},
   "source": [
    "### span"
   ]
  },
  {
   "cell_type": "code",
   "execution_count": null,
   "metadata": {
    "dotnet_interactive": {
     "language": "spiral"
    },
    "polyglot_notebook": {
     "kernelName": "spiral"
    }
   },
   "outputs": [],
   "source": [
    "inl span pred str =\n",
    "    let rec loop i =\n",
    "        if i >= sm'.length str\n",
    "        then i\n",
    "        elif pred (str |> sm'.index i)\n",
    "        then loop (i + 1)\n",
    "        else i\n",
    "    loop 0"
   ]
  },
  {
   "cell_type": "markdown",
   "metadata": {},
   "source": [
    "### spaces1"
   ]
  },
  {
   "cell_type": "code",
   "execution_count": null,
   "metadata": {
    "dotnet_interactive": {
     "language": "spiral"
    },
    "polyglot_notebook": {
     "kernelName": "spiral"
    }
   },
   "outputs": [],
   "source": [
    "inl spaces1 () : parser () = fun input, s =>\n",
    "    match input |> span fun c => c = ' ' with\n",
    "    | 0i32 => Error \"spaces1 / expected at least one space\"\n",
    "    | n => Ok ((), input |> sm'.range (am'.Start n) (am'.End id), s)"
   ]
  },
  {
   "cell_type": "markdown",
   "metadata": {},
   "source": [
    "### p_digit"
   ]
  },
  {
   "cell_type": "code",
   "execution_count": null,
   "metadata": {
    "dotnet_interactive": {
     "language": "spiral"
    },
    "polyglot_notebook": {
     "kernelName": "spiral"
    }
   },
   "outputs": [],
   "source": [
    "inl p_digit () : parser char = fun input, s =>\n",
    "    match input |> sm'.index 0i32 with\n",
    "    | ('0' | '1' | '2' | '3' | '4' | '5' | '6' | '7' | '8' | '9') as c =>\n",
    "        Ok (c, input |> sm'.range (am'.Start 1i32) (am'.End id), s)\n",
    "    | c => Error $'$\"p_digit / unexpected char: {!c}\"'"
   ]
  },
  {
   "cell_type": "code",
   "execution_count": null,
   "metadata": {
    "dotnet_interactive": {
     "language": "spiral"
    },
    "polyglot_notebook": {
     "kernelName": "spiral"
    }
   },
   "outputs": [
    {
     "name": "stdout",
     "output_type": "stream",
     "text": [
      "assert_eq / actual: \"struct (UH0_1 ('1', UH0_1 ('2', UH0_1 ('3', UH0_0))), \"\", , 1, 1)\" / expected: \"struct (UH0_1 ('1', UH0_1 ('2', UH0_1 ('3', UH0_0))), \"\", , 1, 1)\"\n"
     ]
    }
   ],
   "source": [
    "//// test\n",
    "\n",
    "\"1 2 3\"\n",
    "|> parse (sep_by (p_digit ()) (spaces1 ()))\n",
    "|> resultm.get\n",
    "|> sm'.format_debug\n",
    "|> _assert_eq (\n",
    "    (['1'; '2'; '3'], \"\", { line_text = \"\" |> sm'.string_builder; position = { col = 1i32; line = 1i32 } })\n",
    "    |> sm'.format_debug\n",
    ")"
   ]
  },
  {
   "cell_type": "code",
   "execution_count": null,
   "metadata": {
    "dotnet_interactive": {
     "language": "spiral"
    },
    "polyglot_notebook": {
     "kernelName": "spiral"
    }
   },
   "outputs": [
    {
     "name": "stdout",
     "output_type": "stream",
     "text": [
      "assert_eq / actual: \"struct (UH0_1 ('1', UH0_0), \"a 2\", , 1, 1)\" / expected: \"struct (UH0_1 ('1', UH0_0), \"a 2\", , 1, 1)\"\n"
     ]
    }
   ],
   "source": [
    "//// test\n",
    "\n",
    "\"1 a 2\"\n",
    "|> parse (sep_by (p_digit ()) (spaces1 ()))\n",
    "|> resultm.get\n",
    "|> sm'.format_debug\n",
    "|> _assert_eq (\n",
    "    (['1'], \"a 2\", { line_text = \"\" |> sm'.string_builder; position = { col = 1i32; line = 1i32 } })\n",
    "    |> sm'.format_debug\n",
    ")"
   ]
  }
 ],
 "metadata": {},
 "nbformat": 4,
 "nbformat_minor": 5
}