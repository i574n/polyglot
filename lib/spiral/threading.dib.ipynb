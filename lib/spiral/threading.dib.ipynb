{
 "cells": [
  {
   "cell_type": "markdown",
   "metadata": {},
   "source": [
    "# threading"
   ]
  },
  {
   "cell_type": "code",
   "execution_count": null,
   "metadata": {
    "dotnet_interactive": {
     "language": "spiral"
    },
    "polyglot_notebook": {
     "kernelName": "spiral"
    }
   },
   "outputs": [
    {
     "name": "stdout",
     "output_type": "stream",
     "text": [
      "()\n",
      "\n"
     ]
    }
   ],
   "source": [
    "open rust_operators"
   ]
  },
  {
   "cell_type": "code",
   "execution_count": null,
   "metadata": {
    "dotnet_interactive": {
     "language": "spiral"
    },
    "polyglot_notebook": {
     "kernelName": "spiral"
    }
   },
   "outputs": [
    {
     "name": "stdout",
     "output_type": "stream",
     "text": [
      "()\n",
      "\n"
     ]
    }
   ],
   "source": [
    "//// test\n",
    "\n",
    "open testing"
   ]
  },
  {
   "cell_type": "markdown",
   "metadata": {},
   "source": [
    "## types"
   ]
  },
  {
   "cell_type": "code",
   "execution_count": null,
   "metadata": {
    "dotnet_interactive": {
     "language": "spiral"
    },
    "polyglot_notebook": {
     "kernelName": "spiral"
    }
   },
   "outputs": [
    {
     "name": "stdout",
     "output_type": "stream",
     "text": [
      "()\n",
      "\n"
     ]
    }
   ],
   "source": [
    "inl types () =\n",
    "    global \"#if FABLE_COMPILER\\n[<Fable.Core.Erase; Fable.Core.Emit(\\\"std::thread::JoinHandle<$0>\\\")>]\\n#endif\\ntype std_thread_JoinHandle<'T> = class end\"\n",
    "    global \"#if FABLE_COMPILER\\n[<Fable.Core.Erase; Fable.Core.Emit(\\\"std::sync::Arc<$0>\\\")>]\\n#endif\\ntype std_sync_Arc<'T> = class end\"\n",
    "    global \"#if FABLE_COMPILER\\n[<Fable.Core.Erase; Fable.Core.Emit(\\\"std::sync::Mutex<$0>\\\")>]\\n#endif\\ntype std_sync_Mutex<'T> = class end\"\n",
    "    global \"#if FABLE_COMPILER\\n[<Fable.Core.Erase; Fable.Core.Emit(\\\"std::sync::MutexGuard<$0>\\\")>]\\n#endif\\ntype std_sync_MutexGuard<'T> = class end\"\n",
    "    global \"#if FABLE_COMPILER\\n[<Fable.Core.Erase; Fable.Core.Emit(\\\"std::sync::PoisonError<$0>\\\")>]\\n#endif\\ntype std_sync_PoisonError<'T> = class end\""
   ]
  },
  {
   "cell_type": "markdown",
   "metadata": {},
   "source": [
    "## join_handle"
   ]
  },
  {
   "cell_type": "code",
   "execution_count": null,
   "metadata": {
    "dotnet_interactive": {
     "language": "spiral"
    },
    "polyglot_notebook": {
     "kernelName": "spiral"
    }
   },
   "outputs": [
    {
     "name": "stdout",
     "output_type": "stream",
     "text": [
      "()\n",
      "\n"
     ]
    }
   ],
   "source": [
    "nominal join_handle t = $'std_thread_JoinHandle<`t>'"
   ]
  },
  {
   "cell_type": "markdown",
   "metadata": {},
   "source": [
    "## cancellation_token"
   ]
  },
  {
   "cell_type": "code",
   "execution_count": null,
   "metadata": {
    "dotnet_interactive": {
     "language": "spiral"
    },
    "polyglot_notebook": {
     "kernelName": "spiral"
    }
   },
   "outputs": [
    {
     "name": "stdout",
     "output_type": "stream",
     "text": [
      "()\n",
      "\n"
     ]
    }
   ],
   "source": [
    "nominal cancellation_token = $'System.Threading.CancellationToken'"
   ]
  },
  {
   "cell_type": "markdown",
   "metadata": {},
   "source": [
    "## cancellation_token_source"
   ]
  },
  {
   "cell_type": "code",
   "execution_count": null,
   "metadata": {
    "dotnet_interactive": {
     "language": "spiral"
    },
    "polyglot_notebook": {
     "kernelName": "spiral"
    }
   },
   "outputs": [
    {
     "name": "stdout",
     "output_type": "stream",
     "text": [
      "()\n",
      "\n"
     ]
    }
   ],
   "source": [
    "nominal cancellation_token_source = $'System.Threading.CancellationTokenSource'"
   ]
  },
  {
   "cell_type": "markdown",
   "metadata": {},
   "source": [
    "## cancellation_token_registration"
   ]
  },
  {
   "cell_type": "code",
   "execution_count": null,
   "metadata": {
    "dotnet_interactive": {
     "language": "spiral"
    },
    "polyglot_notebook": {
     "kernelName": "spiral"
    }
   },
   "outputs": [
    {
     "name": "stdout",
     "output_type": "stream",
     "text": [
      "()\n",
      "\n"
     ]
    }
   ],
   "source": [
    "nominal cancellation_token_registration = $'System.Threading.CancellationTokenRegistration'"
   ]
  },
  {
   "cell_type": "markdown",
   "metadata": {},
   "source": [
    "## cancellation_source_token"
   ]
  },
  {
   "cell_type": "code",
   "execution_count": null,
   "metadata": {
    "dotnet_interactive": {
     "language": "spiral"
    },
    "polyglot_notebook": {
     "kernelName": "spiral"
    }
   },
   "outputs": [
    {
     "name": "stdout",
     "output_type": "stream",
     "text": [
      "()\n",
      "\n"
     ]
    }
   ],
   "source": [
    "inl cancellation_source_token (x : cancellation_token_source) : cancellation_token =\n",
    "    $'!x.Token'"
   ]
  },
  {
   "cell_type": "markdown",
   "metadata": {},
   "source": [
    "## cancellation_source_cancel"
   ]
  },
  {
   "cell_type": "code",
   "execution_count": null,
   "metadata": {
    "dotnet_interactive": {
     "language": "spiral"
    },
    "polyglot_notebook": {
     "kernelName": "spiral"
    }
   },
   "outputs": [
    {
     "name": "stdout",
     "output_type": "stream",
     "text": [
      "()\n",
      "\n"
     ]
    }
   ],
   "source": [
    "inl cancellation_source_cancel (x : cancellation_token_source) : () =\n",
    "    run_target function\n",
    "        | Fsharp (Native) => fun () =>\n",
    "            $'!x.Cancel' ()\n",
    "        | _ => fun () => null ()"
   ]
  },
  {
   "cell_type": "markdown",
   "metadata": {},
   "source": [
    "## create_linked_token_source"
   ]
  },
  {
   "cell_type": "code",
   "execution_count": null,
   "metadata": {
    "dotnet_interactive": {
     "language": "spiral"
    },
    "polyglot_notebook": {
     "kernelName": "spiral"
    }
   },
   "outputs": [
    {
     "name": "stdout",
     "output_type": "stream",
     "text": [
      "()\n",
      "\n"
     ]
    }
   ],
   "source": [
    "inl create_linked_token_source (x : array_base cancellation_token) : cancellation_token_source =\n",
    "    x |> $'System.Threading.CancellationTokenSource.CreateLinkedTokenSource'"
   ]
  },
  {
   "cell_type": "markdown",
   "metadata": {},
   "source": [
    "## sleep"
   ]
  },
  {
   "cell_type": "code",
   "execution_count": null,
   "metadata": {
    "dotnet_interactive": {
     "language": "spiral"
    },
    "polyglot_notebook": {
     "kernelName": "spiral"
    }
   },
   "outputs": [
    {
     "name": "stdout",
     "output_type": "stream",
     "text": [
      "()\n",
      "\n"
     ]
    }
   ],
   "source": [
    "inl sleep (duration : date_time.duration) : () =\n",
    "    inl duration = join duration\n",
    "    !\\($'\"std::thread::sleep(!duration)\"')"
   ]
  },
  {
   "cell_type": "markdown",
   "metadata": {},
   "source": [
    "## concurrent_stack"
   ]
  },
  {
   "cell_type": "code",
   "execution_count": null,
   "metadata": {
    "dotnet_interactive": {
     "language": "spiral"
    },
    "polyglot_notebook": {
     "kernelName": "spiral"
    }
   },
   "outputs": [
    {
     "name": "stdout",
     "output_type": "stream",
     "text": [
      "()\n",
      "\n"
     ]
    }
   ],
   "source": [
    "nominal concurrent_stack t = $'System.Collections.Concurrent.ConcurrentStack<`t>'"
   ]
  },
  {
   "cell_type": "markdown",
   "metadata": {},
   "source": [
    "## concurrent_stack_push"
   ]
  },
  {
   "cell_type": "code",
   "execution_count": null,
   "metadata": {
    "dotnet_interactive": {
     "language": "spiral"
    },
    "polyglot_notebook": {
     "kernelName": "spiral"
    }
   },
   "outputs": [
    {
     "name": "stdout",
     "output_type": "stream",
     "text": [
      "()\n",
      "\n"
     ]
    }
   ],
   "source": [
    "inl concurrent_stack_push forall t. (item : t) (stack : concurrent_stack t) : () =\n",
    "    $'!stack.Push' item"
   ]
  },
  {
   "cell_type": "markdown",
   "metadata": {},
   "source": [
    "## token_none"
   ]
  },
  {
   "cell_type": "code",
   "execution_count": null,
   "metadata": {
    "dotnet_interactive": {
     "language": "spiral"
    },
    "polyglot_notebook": {
     "kernelName": "spiral"
    }
   },
   "outputs": [
    {
     "name": "stdout",
     "output_type": "stream",
     "text": [
      "()\n",
      "\n"
     ]
    }
   ],
   "source": [
    "inl token_none () : cancellation_token =\n",
    "    $'`cancellation_token.None'"
   ]
  },
  {
   "cell_type": "markdown",
   "metadata": {},
   "source": [
    "## new_concurrent_stack"
   ]
  },
  {
   "cell_type": "code",
   "execution_count": null,
   "metadata": {
    "dotnet_interactive": {
     "language": "spiral"
    },
    "polyglot_notebook": {
     "kernelName": "spiral"
    }
   },
   "outputs": [
    {
     "name": "stdout",
     "output_type": "stream",
     "text": [
      "()\n",
      "\n"
     ]
    }
   ],
   "source": [
    "inl new_concurrent_stack forall t. () : concurrent_stack t =\n",
    "    $'System.Collections.Concurrent.ConcurrentStack<`t>' ()"
   ]
  },
  {
   "cell_type": "markdown",
   "metadata": {},
   "source": [
    "## token_register"
   ]
  },
  {
   "cell_type": "code",
   "execution_count": null,
   "metadata": {
    "dotnet_interactive": {
     "language": "spiral"
    },
    "polyglot_notebook": {
     "kernelName": "spiral"
    }
   },
   "outputs": [
    {
     "name": "stdout",
     "output_type": "stream",
     "text": [
      "()\n",
      "\n"
     ]
    }
   ],
   "source": [
    "inl token_register (fn : () -> ()) (ct : cancellation_token) : cancellation_token_registration =\n",
    "    fn |> $'!ct.Register'"
   ]
  },
  {
   "cell_type": "markdown",
   "metadata": {},
   "source": [
    "## new_cancellation_token_source"
   ]
  },
  {
   "cell_type": "code",
   "execution_count": null,
   "metadata": {
    "dotnet_interactive": {
     "language": "spiral"
    },
    "polyglot_notebook": {
     "kernelName": "spiral"
    }
   },
   "outputs": [
    {
     "name": "stdout",
     "output_type": "stream",
     "text": [
      "()\n",
      "\n"
     ]
    }
   ],
   "source": [
    "inl new_cancellation_token_source () : cancellation_token_source =\n",
    "    $'new `cancellation_token_source ()'"
   ]
  },
  {
   "cell_type": "code",
   "execution_count": null,
   "metadata": {
    "dotnet_interactive": {
     "language": "spiral"
    },
    "polyglot_notebook": {
     "kernelName": "spiral"
    }
   },
   "outputs": [
    {
     "name": "stdout",
     "output_type": "stream",
     "text": [
      "()\n",
      "\n"
     ]
    }
   ],
   "source": [
    "inl token_cancellation_requested (ct : cancellation_token) : bool =\n",
    "    $'!ct.IsCancellationRequested'"
   ]
  },
  {
   "cell_type": "markdown",
   "metadata": {},
   "source": [
    "## new_disposable_token"
   ]
  },
  {
   "cell_type": "code",
   "execution_count": null,
   "metadata": {
    "dotnet_interactive": {
     "language": "spiral"
    },
    "polyglot_notebook": {
     "kernelName": "spiral"
    }
   },
   "outputs": [
    {
     "name": "stdout",
     "output_type": "stream",
     "text": [
      "()\n",
      "\n"
     ]
    }
   ],
   "source": [
    "inl new_disposable_token (merge_token : optionm'.option' cancellation_token) =\n",
    "    run_target function\n",
    "        | Fsharp (Native) => fun () =>\n",
    "            inl cts = new_cancellation_token_source ()\n",
    "            inl cts =\n",
    "                match merge_token |> optionm'.unbox with\n",
    "                | None => cts\n",
    "                | Some merge_token =>\n",
    "                    create_linked_token_source ;[ cts |> cancellation_source_token; merge_token ]\n",
    "            inl disposable : _ () = new_disposable fun () =>\n",
    "                cts |> cancellation_source_cancel\n",
    "            cts |> cancellation_source_token, disposable\n",
    "        | _ => fun () => null ()"
   ]
  },
  {
   "cell_type": "code",
   "execution_count": null,
   "metadata": {
    "dotnet_interactive": {
     "language": "spiral"
    },
    "polyglot_notebook": {
     "kernelName": "spiral"
    }
   },
   "outputs": [
    {
     "name": "stdout",
     "output_type": "stream",
     "text": [
      "type Disposable (f : unit -> unit) = interface System.IDisposable with member _.Dispose () = f ()\n",
      "type Mut0 = {mutable l0 : int32}\n",
      "and [<Struct>] US0 =\n",
      "    | US0_0 of f0_0 : System.Threading.CancellationToken\n",
      "    | US0_1\n",
      "let rec closure0 (v0 : System.Threading.CancellationTokenSource) () : unit =\n",
      "    let v1 : bool = true\n",
      "    let mutable _v1 : unit option = None \n",
      "    \n",
      "#if FABLE_COMPILER || WASM || CONTRACT\n",
      "    \n",
      "#if FABLE_COMPILER_RUST && !WASM && !CONTRACT\n",
      "    null |> unbox<unit>\n",
      "    () \n",
      "    #endif\n",
      "#if FABLE_COMPILER_RUST && WASM\n",
      "    null |> unbox<unit>\n",
      "    () \n",
      "    #endif\n",
      "#if FABLE_COMPILER_RUST && CONTRACT\n",
      "    null |> unbox<unit>\n",
      "    () \n",
      "    #endif\n",
      "#if FABLE_COMPILER_TYPESCRIPT\n",
      "    null |> unbox<unit>\n",
      "    () \n",
      "    #endif\n",
      "#if FABLE_COMPILER_PYTHON\n",
      "    null |> unbox<unit>\n",
      "    () \n",
      "    #endif\n",
      "#else\n",
      "    let v2 : (unit -> unit) = v0.Cancel\n",
      "    v2 ()\n",
      "    () \n",
      "    #endif\n",
      "    |> fun x -> _v1 <- Some x\n",
      "    _v1.Value\n",
      "    ()\n",
      "and method2 (v0 : System.Threading.CancellationTokenSource) : (unit -> unit) =\n",
      "    closure0(v0)\n",
      "and method1 (v0 : Mut0) : unit =\n",
      "    let v1 : System.Threading.CancellationToken option = None\n",
      "    let v2 : bool = true\n",
      "    let mutable _v2 : struct (System.Threading.CancellationToken * System.IDisposable) option = None \n",
      "    \n",
      "#if FABLE_COMPILER || WASM || CONTRACT\n",
      "    \n",
      "#if FABLE_COMPILER_RUST && !WASM && !CONTRACT\n",
      "    let struct (v3 : System.Threading.CancellationToken, v4 : System.IDisposable) = null |> unbox<struct (System.Threading.CancellationToken * System.IDisposable)>\n",
      "    struct (v3, v4) \n",
      "    #endif\n",
      "#if FABLE_COMPILER_RUST && WASM\n",
      "    let struct (v5 : System.Threading.CancellationToken, v6 : System.IDisposable) = null |> unbox<struct (System.Threading.CancellationToken * System.IDisposable)>\n",
      "    struct (v5, v6) \n",
      "    #endif\n",
      "#if FABLE_COMPILER_RUST && CONTRACT\n",
      "    let struct (v7 : System.Threading.CancellationToken, v8 : System.IDisposable) = null |> unbox<struct (System.Threading.CancellationToken * System.IDisposable)>\n",
      "    struct (v7, v8) \n",
      "    #endif\n",
      "#if FABLE_COMPILER_TYPESCRIPT\n",
      "    let struct (v9 : System.Threading.CancellationToken, v10 : System.IDisposable) = null |> unbox<struct (System.Threading.CancellationToken * System.IDisposable)>\n",
      "    struct (v9, v10) \n",
      "    #endif\n",
      "#if FABLE_COMPILER_PYTHON\n",
      "    let struct (v11 : System.Threading.CancellationToken, v12 : System.IDisposable) = null |> unbox<struct (System.Threading.CancellationToken * System.IDisposable)>\n",
      "    struct (v11, v12) \n",
      "    #endif\n",
      "#else\n",
      "    let v13 : System.Threading.CancellationTokenSource = new System.Threading.CancellationTokenSource ()\n",
      "    let v14 : US0 option = None\n",
      "    let _v14 = ref v14 \n",
      "    match v1 with\n",
      "    | Some x -> (\n",
      "    (fun () ->\n",
      "    (fun () ->\n",
      "    let v15 : System.Threading.CancellationToken = x\n",
      "    let v16 : US0 = US0_0(v15)\n",
      "    v16 \n",
      "    )\n",
      "    |> fun x -> x () |> Some\n",
      "    ) () ) | None -> None\n",
      "    |> fun x -> _v14.Value <- x\n",
      "    let v17 : US0 option = _v14.Value \n",
      "    let v18 : US0 = US0_1\n",
      "    let v19 : US0 = v17 |> Option.defaultValue v18 \n",
      "    let v26 : System.Threading.CancellationTokenSource =\n",
      "        match v19 with\n",
      "        | US0_1 -> (* None *)\n",
      "            v13\n",
      "        | US0_0(v20) -> (* Some *)\n",
      "            let v21 : System.Threading.CancellationToken = v13.Token\n",
      "            let v22 : (System.Threading.CancellationToken []) = [|v21; v20|]\n",
      "            let v23 : ((System.Threading.CancellationToken []) -> System.Threading.CancellationTokenSource) = System.Threading.CancellationTokenSource.CreateLinkedTokenSource\n",
      "            v23 v22\n",
      "    let v27 : bool = true\n",
      "    let mutable _v27 : System.IDisposable option = None \n",
      "    \n",
      "#if FABLE_COMPILER || WASM || CONTRACT\n",
      "    \n",
      "#if FABLE_COMPILER_RUST && !WASM && !CONTRACT\n",
      "    let v28 : (unit -> unit) = closure0(v26)\n",
      "    let v29 : System.IDisposable = new Disposable (fun () -> Fable.Core.RustInterop.emitRustExpr v28 \"$0()\" )\n",
      "    v29 \n",
      "    #endif\n",
      "#if FABLE_COMPILER_RUST && WASM\n",
      "    let v30 : System.IDisposable = new Disposable (fun () -> Fable.Core.RustInterop.emitRustExpr v28 \"$0()\" )\n",
      "    v30 \n",
      "    #endif\n",
      "#if FABLE_COMPILER_RUST && CONTRACT\n",
      "    let v31 : System.IDisposable = new Disposable (fun () -> Fable.Core.RustInterop.emitRustExpr v28 \"$0()\" )\n",
      "    v31 \n",
      "    #endif\n",
      "#if FABLE_COMPILER_TYPESCRIPT\n",
      "    let v32 : System.IDisposable = null |> unbox<System.IDisposable>\n",
      "    v32 \n",
      "    #endif\n",
      "#if FABLE_COMPILER_PYTHON\n",
      "    let v33 : System.IDisposable = null |> unbox<System.IDisposable>\n",
      "    v33 \n",
      "    #endif\n",
      "#else\n",
      "    let v34 : (unit -> unit) = method2(v26)\n",
      "    let v35 : System.IDisposable = { new System.IDisposable with member _.Dispose () = v34 () }\n",
      "    v35 \n",
      "    #endif\n",
      "    |> fun x -> _v27 <- Some x\n",
      "    let v36 : System.IDisposable = _v27.Value\n",
      "    let v37 : System.Threading.CancellationToken = v26.Token\n",
      "    struct (v37, v36) \n",
      "    #endif\n",
      "    |> fun x -> _v2 <- Some x\n",
      "    let struct (v38 : System.Threading.CancellationToken, v39 : System.IDisposable) = _v2.Value\n",
      "    use v39 = v39 \n",
      "    let v40 : System.IDisposable = v39 \n",
      "    let v41 : int32 = v0.l0\n",
      "    let v42 : bool = v38.IsCancellationRequested\n",
      "    let v43 : int32 =\n",
      "        if v42 then\n",
      "            10\n",
      "        else\n",
      "            1\n",
      "    let v44 : int32 = v41 + v43\n",
      "    v0.l0 <- v44\n",
      "    let v45 : bool = true\n",
      "    let mutable _v45 : Async<unit> option = None \n",
      "    \n",
      "#if FABLE_COMPILER || WASM || CONTRACT\n",
      "    \n",
      "#if FABLE_COMPILER_RUST && !WASM && !CONTRACT\n",
      "    let v46 : Async<unit> = null |> unbox<Async<unit>>\n",
      "    v46 \n",
      "    #endif\n",
      "#if FABLE_COMPILER_RUST && WASM\n",
      "    let v47 : Async<unit> = null |> unbox<Async<unit>>\n",
      "    v47 \n",
      "    #endif\n",
      "#if FABLE_COMPILER_RUST && CONTRACT\n",
      "    let v48 : Async<unit> = null |> unbox<Async<unit>>\n",
      "    v48 \n",
      "    #endif\n",
      "#if FABLE_COMPILER_TYPESCRIPT\n",
      "    let v49 : Async<unit> = null |> unbox<Async<unit>>\n",
      "    v49 \n",
      "    #endif\n",
      "#if FABLE_COMPILER_PYTHON\n",
      "    let v50 : Async<unit> = null |> unbox<Async<unit>>\n",
      "    v50 \n",
      "    #endif\n",
      "#else\n",
      "    let v51 : Async<unit> option = None\n",
      "    let mutable _v51 = v51\n",
      "    async {\n",
      "    let v52 : int32 = v0.l0\n",
      "    let v53 : bool = v38.IsCancellationRequested\n",
      "    let v54 : int32 =\n",
      "        if v53 then\n",
      "            10\n",
      "        else\n",
      "            1\n",
      "    let v55 : int32 = v52 + v54\n",
      "    v0.l0 <- v55\n",
      "    }\n",
      "    |> fun x -> _v51 <- Some x\n",
      "    let v56 : Async<unit> = _v51 |> Option.get\n",
      "    v56 \n",
      "    #endif\n",
      "    |> fun x -> _v45 <- Some x\n",
      "    let v57 : Async<unit> = _v45.Value\n",
      "    let v58 : bool = true\n",
      "    let mutable _v58 : unit option = None \n",
      "    \n",
      "#if FABLE_COMPILER || WASM || CONTRACT\n",
      "    \n",
      "#if FABLE_COMPILER_RUST && !WASM && !CONTRACT\n",
      "    null |> unbox<unit>\n",
      "    () \n",
      "    #endif\n",
      "#if FABLE_COMPILER_RUST && WASM\n",
      "    null |> unbox<unit>\n",
      "    () \n",
      "    #endif\n",
      "#if FABLE_COMPILER_RUST && CONTRACT\n",
      "    null |> unbox<unit>\n",
      "    () \n",
      "    #endif\n",
      "#if FABLE_COMPILER_TYPESCRIPT\n",
      "    null |> unbox<unit>\n",
      "    () \n",
      "    #endif\n",
      "#if FABLE_COMPILER_PYTHON\n",
      "    null |> unbox<unit>\n",
      "    () \n",
      "    #endif\n",
      "#else\n",
      "    let v59 : (Async<unit> -> unit) = Async.Start\n",
      "    v59 v57\n",
      "    () \n",
      "    #endif\n",
      "    |> fun x -> _v58 <- Some x\n",
      "    _v58.Value\n",
      "    ()\n",
      "and method3 (v0 : bool) : bool =\n",
      "    v0\n",
      "and method0 () : unit =\n",
      "    let v0 : bool = true\n",
      "    let mutable _v0 : Async<int32> option = None \n",
      "    \n",
      "#if FABLE_COMPILER || WASM || CONTRACT\n",
      "    \n",
      "#if FABLE_COMPILER_RUST && !WASM && !CONTRACT\n",
      "    let v1 : Async<int32> = null |> unbox<Async<int32>>\n",
      "    v1 \n",
      "    #endif\n",
      "#if FABLE_COMPILER_RUST && WASM\n",
      "    let v2 : Async<int32> = null |> unbox<Async<int32>>\n",
      "    v2 \n",
      "    #endif\n",
      "#if FABLE_COMPILER_RUST && CONTRACT\n",
      "    let v3 : Async<int32> = null |> unbox<Async<int32>>\n",
      "    v3 \n",
      "    #endif\n",
      "#if FABLE_COMPILER_TYPESCRIPT\n",
      "    let v4 : Async<int32> = null |> unbox<Async<int32>>\n",
      "    v4 \n",
      "    #endif\n",
      "#if FABLE_COMPILER_PYTHON\n",
      "    let v5 : Async<int32> = null |> unbox<Async<int32>>\n",
      "    v5 \n",
      "    #endif\n",
      "#else\n",
      "    let v6 : Async<int32> option = None\n",
      "    let mutable _v6 = v6\n",
      "    async {\n",
      "    let v7 : Mut0 = {l0 = 0} : Mut0\n",
      "    method1(v7)\n",
      "    let v8 : bool = true\n",
      "    let mutable _v8 : Async<unit> option = None \n",
      "    \n",
      "#if FABLE_COMPILER || WASM || CONTRACT\n",
      "    \n",
      "#if FABLE_COMPILER_RUST && !WASM && !CONTRACT\n",
      "    let v9 : Async<unit> = null |> unbox<Async<unit>>\n",
      "    v9 \n",
      "    #endif\n",
      "#if FABLE_COMPILER_RUST && WASM\n",
      "    let v10 : Async<unit> = null |> unbox<Async<unit>>\n",
      "    v10 \n",
      "    #endif\n",
      "#if FABLE_COMPILER_RUST && CONTRACT\n",
      "    let v11 : Async<unit> = null |> unbox<Async<unit>>\n",
      "    v11 \n",
      "    #endif\n",
      "#if FABLE_COMPILER_TYPESCRIPT\n",
      "    let v12 : Async<unit> = null |> unbox<Async<unit>>\n",
      "    v12 \n",
      "    #endif\n",
      "#if FABLE_COMPILER_PYTHON\n",
      "    let v13 : Async<unit> = null |> unbox<Async<unit>>\n",
      "    v13 \n",
      "    #endif\n",
      "#else\n",
      "    let v14 : (int32 -> Async<unit>) = Async.Sleep\n",
      "    let v15 : Async<unit> = v14 10\n",
      "    v15 \n",
      "    #endif\n",
      "    |> fun x -> _v8 <- Some x\n",
      "    let v16 : Async<unit> = _v8.Value\n",
      "    do! v16 \n",
      "    let v17 : int32 = v7.l0\n",
      "    return v17 \n",
      "    }\n",
      "    |> fun x -> _v6 <- Some x\n",
      "    let v18 : Async<int32> = _v6 |> Option.get\n",
      "    v18 \n",
      "    #endif\n",
      "    |> fun x -> _v0 <- Some x\n",
      "    let v19 : Async<int32> = _v0.Value\n",
      "    let v20 : bool = true\n",
      "    let mutable _v20 : int32 option = None \n",
      "    \n",
      "#if FABLE_COMPILER || WASM || CONTRACT\n",
      "    \n",
      "#if FABLE_COMPILER_RUST && !WASM && !CONTRACT\n",
      "    let v21 : int32 = null |> unbox<int32>\n",
      "    v21 \n",
      "    #endif\n",
      "#if FABLE_COMPILER_RUST && WASM\n",
      "    let v22 : int32 = null |> unbox<int32>\n",
      "    v22 \n",
      "    #endif\n",
      "#if FABLE_COMPILER_RUST && CONTRACT\n",
      "    let v23 : int32 = null |> unbox<int32>\n",
      "    v23 \n",
      "    #endif\n",
      "#if FABLE_COMPILER_TYPESCRIPT\n",
      "    let v24 : int32 = null |> unbox<int32>\n",
      "    v24 \n",
      "    #endif\n",
      "#if FABLE_COMPILER_PYTHON\n",
      "    let v25 : int32 = null |> unbox<int32>\n",
      "    v25 \n",
      "    #endif\n",
      "#else\n",
      "    let v26 : (Async<int32> -> int32) = Async.RunSynchronously\n",
      "    let v27 : int32 = v26 v19\n",
      "    v27 \n",
      "    #endif\n",
      "    |> fun x -> _v20 <- Some x\n",
      "    let v28 : int32 = _v20.Value\n",
      "    let v29 : bool = v28 = 11\n",
      "    let v31 : bool =\n",
      "        if v29 then\n",
      "            true\n",
      "        else\n",
      "            method3(v29)\n",
      "    let v32 : string = \"assert_eq\"\n",
      "    let v33 : string = $\"{v32} / actual: %A{v28} / expected: %A{11}\"\n",
      "    System.Console.WriteLine v33\n",
      "    let v34 : bool = v31 = false\n",
      "    if v34 then\n",
      "        failwith<unit> v33\n",
      "method0()\n",
      "\n",
      "assert_eq / actual: 11 / expected: 11\n"
     ]
    }
   ],
   "source": [
    "//// test\n",
    "\n",
    "inl run fn =\n",
    "    inl token, disposable = new_disposable_token (None |> optionm'.box)\n",
    "    disposable |> use |> ignore\n",
    "    fn token\n",
    "    fun () =>\n",
    "        fn token\n",
    "    |> async.new_async\n",
    "    |> async.start\n",
    "\n",
    "fun () =>\n",
    "    inl counter = mut 0i32\n",
    "\n",
    "    inl fn (token : cancellation_token) =\n",
    "        counter <- *counter + (if token |> token_cancellation_requested then 10 else 1)\n",
    "\n",
    "    join run fn\n",
    "    async.sleep 10 |> async.do\n",
    "    return *counter\n",
    "|> async.new_async_unit\n",
    "|> async.run_synchronously\n",
    "|> _assert_eq 11i32"
   ]
  },
  {
   "cell_type": "markdown",
   "metadata": {},
   "source": [
    "## arc"
   ]
  },
  {
   "cell_type": "code",
   "execution_count": null,
   "metadata": {
    "dotnet_interactive": {
     "language": "spiral"
    },
    "polyglot_notebook": {
     "kernelName": "spiral"
    }
   },
   "outputs": [
    {
     "name": "stdout",
     "output_type": "stream",
     "text": [
      "()\n",
      "\n"
     ]
    }
   ],
   "source": [
    "nominal arc t = $\"std_sync_Arc<`t>\""
   ]
  },
  {
   "cell_type": "markdown",
   "metadata": {},
   "source": [
    "## new_arc"
   ]
  },
  {
   "cell_type": "code",
   "execution_count": null,
   "metadata": {
    "dotnet_interactive": {
     "language": "spiral"
    },
    "polyglot_notebook": {
     "kernelName": "spiral"
    }
   },
   "outputs": [
    {
     "name": "stdout",
     "output_type": "stream",
     "text": [
      "()\n",
      "\n"
     ]
    }
   ],
   "source": [
    "inl new_arc forall t. (x : t) : arc t =\n",
    "    !\\\\(x, $'\"std::sync::Arc::new($0)\"')"
   ]
  },
  {
   "cell_type": "markdown",
   "metadata": {},
   "source": [
    "## mutex"
   ]
  },
  {
   "cell_type": "code",
   "execution_count": null,
   "metadata": {
    "dotnet_interactive": {
     "language": "spiral"
    },
    "polyglot_notebook": {
     "kernelName": "spiral"
    }
   },
   "outputs": [
    {
     "name": "stdout",
     "output_type": "stream",
     "text": [
      "()\n",
      "\n"
     ]
    }
   ],
   "source": [
    "nominal mutex t = $\"std_sync_Mutex<`t>\""
   ]
  },
  {
   "cell_type": "markdown",
   "metadata": {},
   "source": [
    "## new_mutex"
   ]
  },
  {
   "cell_type": "code",
   "execution_count": null,
   "metadata": {
    "dotnet_interactive": {
     "language": "spiral"
    },
    "polyglot_notebook": {
     "kernelName": "spiral"
    }
   },
   "outputs": [
    {
     "name": "stdout",
     "output_type": "stream",
     "text": [
      "()\n",
      "\n"
     ]
    }
   ],
   "source": [
    "inl new_mutex forall t. (x : t) : mutex t =\n",
    "    !\\\\(x, $'\"std::sync::Mutex::new($0)\"')"
   ]
  },
  {
   "cell_type": "markdown",
   "metadata": {},
   "source": [
    "## new_arc_mutex"
   ]
  },
  {
   "cell_type": "code",
   "execution_count": null,
   "metadata": {
    "dotnet_interactive": {
     "language": "spiral"
    },
    "polyglot_notebook": {
     "kernelName": "spiral"
    }
   },
   "outputs": [
    {
     "name": "stdout",
     "output_type": "stream",
     "text": [
      "()\n",
      "\n"
     ]
    }
   ],
   "source": [
    "inl new_arc_mutex forall t. (x : t) : arc (mutex t) =\n",
    "    x |> new_mutex |> new_arc"
   ]
  },
  {
   "cell_type": "markdown",
   "metadata": {},
   "source": [
    "## arc_clone"
   ]
  },
  {
   "cell_type": "code",
   "execution_count": null,
   "metadata": {
    "dotnet_interactive": {
     "language": "spiral"
    },
    "polyglot_notebook": {
     "kernelName": "spiral"
    }
   },
   "outputs": [
    {
     "name": "stdout",
     "output_type": "stream",
     "text": [
      "()\n",
      "\n"
     ]
    }
   ],
   "source": [
    "inl arc_clone forall t. (x : arc t) : arc t =\n",
    "    inl x = join x\n",
    "    !\\($'\"std::sync::Arc::clone(&!x)\"')"
   ]
  },
  {
   "cell_type": "markdown",
   "metadata": {},
   "source": [
    "## mutex_guard"
   ]
  },
  {
   "cell_type": "code",
   "execution_count": null,
   "metadata": {
    "dotnet_interactive": {
     "language": "spiral"
    },
    "polyglot_notebook": {
     "kernelName": "spiral"
    }
   },
   "outputs": [
    {
     "name": "stdout",
     "output_type": "stream",
     "text": [
      "()\n",
      "\n"
     ]
    }
   ],
   "source": [
    "nominal mutex_guard t = $\"std_sync_MutexGuard<`t>\""
   ]
  },
  {
   "cell_type": "markdown",
   "metadata": {},
   "source": [
    "## poison_error"
   ]
  },
  {
   "cell_type": "code",
   "execution_count": null,
   "metadata": {
    "dotnet_interactive": {
     "language": "spiral"
    },
    "polyglot_notebook": {
     "kernelName": "spiral"
    }
   },
   "outputs": [
    {
     "name": "stdout",
     "output_type": "stream",
     "text": [
      "()\n",
      "\n"
     ]
    }
   ],
   "source": [
    "nominal poison_error t = $\"std_sync_PoisonError<`t>\""
   ]
  },
  {
   "cell_type": "markdown",
   "metadata": {},
   "source": [
    "## mutex_lock"
   ]
  },
  {
   "cell_type": "code",
   "execution_count": null,
   "metadata": {
    "dotnet_interactive": {
     "language": "spiral"
    },
    "polyglot_notebook": {
     "kernelName": "spiral"
    }
   },
   "outputs": [
    {
     "name": "stdout",
     "output_type": "stream",
     "text": [
      "()\n",
      "\n"
     ]
    }
   ],
   "source": [
    "inl arc_mutex_lock forall t. (x : arc (mutex t)) : resultm.result' (mutex_guard t) (poison_error (mutex_guard t)) =\n",
    "    !\\\\(x, $'\"$0.lock()\"')"
   ]
  },
  {
   "cell_type": "markdown",
   "metadata": {},
   "source": [
    "## mutex_guard_value"
   ]
  },
  {
   "cell_type": "code",
   "execution_count": null,
   "metadata": {
    "dotnet_interactive": {
     "language": "spiral"
    },
    "polyglot_notebook": {
     "kernelName": "spiral"
    }
   },
   "outputs": [
    {
     "name": "stdout",
     "output_type": "stream",
     "text": [
      "()\n",
      "\n"
     ]
    }
   ],
   "source": [
    "inl mutex_guard_value forall t. (x : mutex_guard t) : rust.ref' t =\n",
    "    !\\\\(x, $'\"&$0\"')"
   ]
  },
  {
   "cell_type": "markdown",
   "metadata": {},
   "source": [
    "## main"
   ]
  },
  {
   "cell_type": "code",
   "execution_count": null,
   "metadata": {
    "dotnet_interactive": {
     "language": "spiral"
    },
    "polyglot_notebook": {
     "kernelName": "spiral"
    }
   },
   "outputs": [
    {
     "name": "stdout",
     "output_type": "stream",
     "text": [
      "#if FABLE_COMPILER\n",
      "[<Fable.Core.Erase; Fable.Core.Emit(\"std::thread::JoinHandle<$0>\")>]\n",
      "#endif\n",
      "type std_thread_JoinHandle<'T> = class end\n",
      "#if FABLE_COMPILER\n",
      "[<Fable.Core.Erase; Fable.Core.Emit(\"std::sync::Arc<$0>\")>]\n",
      "#endif\n",
      "type std_sync_Arc<'T> = class end\n",
      "#if FABLE_COMPILER\n",
      "[<Fable.Core.Erase; Fable.Core.Emit(\"std::sync::Mutex<$0>\")>]\n",
      "#endif\n",
      "type std_sync_Mutex<'T> = class end\n",
      "#if FABLE_COMPILER\n",
      "[<Fable.Core.Erase; Fable.Core.Emit(\"std::sync::MutexGuard<$0>\")>]\n",
      "#endif\n",
      "type std_sync_MutexGuard<'T> = class end\n",
      "#if FABLE_COMPILER\n",
      "[<Fable.Core.Erase; Fable.Core.Emit(\"std::sync::PoisonError<$0>\")>]\n",
      "#endif\n",
      "type std_sync_PoisonError<'T> = class end\n",
      "type Disposable (f : unit -> unit) = interface System.IDisposable with member _.Dispose () = f ()\n",
      "type [<Struct>] US0 =\n",
      "    | US0_0 of f0_0 : System.Threading.CancellationToken\n",
      "    | US0_1\n",
      "let rec closure1 (v0 : System.Threading.CancellationTokenSource) () : unit =\n",
      "    let v1 : bool = true\n",
      "    let mutable _v1 : unit option = None \n",
      "    \n",
      "#if FABLE_COMPILER || WASM || CONTRACT\n",
      "    \n",
      "#if FABLE_COMPILER_RUST && !WASM && !CONTRACT\n",
      "    null |> unbox<unit>\n",
      "    () \n",
      "    #endif\n",
      "#if FABLE_COMPILER_RUST && WASM\n",
      "    null |> unbox<unit>\n",
      "    () \n",
      "    #endif\n",
      "#if FABLE_COMPILER_RUST && CONTRACT\n",
      "    null |> unbox<unit>\n",
      "    () \n",
      "    #endif\n",
      "#if FABLE_COMPILER_TYPESCRIPT\n",
      "    null |> unbox<unit>\n",
      "    () \n",
      "    #endif\n",
      "#if FABLE_COMPILER_PYTHON\n",
      "    null |> unbox<unit>\n",
      "    () \n",
      "    #endif\n",
      "#else\n",
      "    let v2 : (unit -> unit) = v0.Cancel\n",
      "    v2 ()\n",
      "    () \n",
      "    #endif\n",
      "    |> fun x -> _v1 <- Some x\n",
      "    _v1.Value\n",
      "    ()\n",
      "and method0 (v0 : System.Threading.CancellationTokenSource) : (unit -> unit) =\n",
      "    closure1(v0)\n",
      "and closure0 () (v0 : System.Threading.CancellationToken option) : struct (System.Threading.CancellationToken * System.IDisposable) =\n",
      "    let v1 : bool = true\n",
      "    let mutable _v1 : struct (System.Threading.CancellationToken * System.IDisposable) option = None \n",
      "    \n",
      "#if FABLE_COMPILER || WASM || CONTRACT\n",
      "    \n",
      "#if FABLE_COMPILER_RUST && !WASM && !CONTRACT\n",
      "    let struct (v2 : System.Threading.CancellationToken, v3 : System.IDisposable) = null |> unbox<struct (System.Threading.CancellationToken * System.IDisposable)>\n",
      "    struct (v2, v3) \n",
      "    #endif\n",
      "#if FABLE_COMPILER_RUST && WASM\n",
      "    let struct (v4 : System.Threading.CancellationToken, v5 : System.IDisposable) = null |> unbox<struct (System.Threading.CancellationToken * System.IDisposable)>\n",
      "    struct (v4, v5) \n",
      "    #endif\n",
      "#if FABLE_COMPILER_RUST && CONTRACT\n",
      "    let struct (v6 : System.Threading.CancellationToken, v7 : System.IDisposable) = null |> unbox<struct (System.Threading.CancellationToken * System.IDisposable)>\n",
      "    struct (v6, v7) \n",
      "    #endif\n",
      "#if FABLE_COMPILER_TYPESCRIPT\n",
      "    let struct (v8 : System.Threading.CancellationToken, v9 : System.IDisposable) = null |> unbox<struct (System.Threading.CancellationToken * System.IDisposable)>\n",
      "    struct (v8, v9) \n",
      "    #endif\n",
      "#if FABLE_COMPILER_PYTHON\n",
      "    let struct (v10 : System.Threading.CancellationToken, v11 : System.IDisposable) = null |> unbox<struct (System.Threading.CancellationToken * System.IDisposable)>\n",
      "    struct (v10, v11) \n",
      "    #endif\n",
      "#else\n",
      "    let v12 : System.Threading.CancellationTokenSource = new System.Threading.CancellationTokenSource ()\n",
      "    let v13 : US0 option = None\n",
      "    let _v13 = ref v13 \n",
      "    match v0 with\n",
      "    | Some x -> (\n",
      "    (fun () ->\n",
      "    (fun () ->\n",
      "    let v14 : System.Threading.CancellationToken = x\n",
      "    let v15 : US0 = US0_0(v14)\n",
      "    v15 \n",
      "    )\n",
      "    |> fun x -> x () |> Some\n",
      "    ) () ) | None -> None\n",
      "    |> fun x -> _v13.Value <- x\n",
      "    let v16 : US0 option = _v13.Value \n",
      "    let v17 : US0 = US0_1\n",
      "    let v18 : US0 = v16 |> Option.defaultValue v17 \n",
      "    let v25 : System.Threading.CancellationTokenSource =\n",
      "        match v18 with\n",
      "        | US0_1 -> (* None *)\n",
      "            v12\n",
      "        | US0_0(v19) -> (* Some *)\n",
      "            let v20 : System.Threading.CancellationToken = v12.Token\n",
      "            let v21 : (System.Threading.CancellationToken []) = [|v20; v19|]\n",
      "            let v22 : ((System.Threading.CancellationToken []) -> System.Threading.CancellationTokenSource) = System.Threading.CancellationTokenSource.CreateLinkedTokenSource\n",
      "            v22 v21\n",
      "    let v26 : bool = true\n",
      "    let mutable _v26 : System.IDisposable option = None \n",
      "    \n",
      "#if FABLE_COMPILER || WASM || CONTRACT\n",
      "    \n",
      "#if FABLE_COMPILER_RUST && !WASM && !CONTRACT\n",
      "    let v27 : (unit -> unit) = closure1(v25)\n",
      "    let v28 : System.IDisposable = new Disposable (fun () -> Fable.Core.RustInterop.emitRustExpr v27 \"$0()\" )\n",
      "    v28 \n",
      "    #endif\n",
      "#if FABLE_COMPILER_RUST && WASM\n",
      "    let v29 : System.IDisposable = new Disposable (fun () -> Fable.Core.RustInterop.emitRustExpr v27 \"$0()\" )\n",
      "    v29 \n",
      "    #endif\n",
      "#if FABLE_COMPILER_RUST && CONTRACT\n",
      "    let v30 : System.IDisposable = new Disposable (fun () -> Fable.Core.RustInterop.emitRustExpr v27 \"$0()\" )\n",
      "    v30 \n",
      "    #endif\n",
      "#if FABLE_COMPILER_TYPESCRIPT\n",
      "    let v31 : System.IDisposable = null |> unbox<System.IDisposable>\n",
      "    v31 \n",
      "    #endif\n",
      "#if FABLE_COMPILER_PYTHON\n",
      "    let v32 : System.IDisposable = null |> unbox<System.IDisposable>\n",
      "    v32 \n",
      "    #endif\n",
      "#else\n",
      "    let v33 : (unit -> unit) = method0(v25)\n",
      "    let v34 : System.IDisposable = { new System.IDisposable with member _.Dispose () = v33 () }\n",
      "    v34 \n",
      "    #endif\n",
      "    |> fun x -> _v26 <- Some x\n",
      "    let v35 : System.IDisposable = _v26.Value\n",
      "    let v36 : System.Threading.CancellationToken = v25.Token\n",
      "    struct (v36, v35) \n",
      "    #endif\n",
      "    |> fun x -> _v1 <- Some x\n",
      "    let struct (v37 : System.Threading.CancellationToken, v38 : System.IDisposable) = _v1.Value\n",
      "    struct (v37, v38)\n",
      "let v0 : (System.Threading.CancellationToken option -> struct (System.Threading.CancellationToken * System.IDisposable)) = closure0()\n",
      "let new_disposable_token x = v0 x\n",
      "()\n",
      "\n"
     ]
    }
   ],
   "source": [
    "inl main () =\n",
    "    types ()\n",
    "    $\"let new_disposable_token x = !new_disposable_token x\" : ()"
   ]
  }
 ],
 "metadata": {},
 "nbformat": 4,
 "nbformat_minor": 5
}