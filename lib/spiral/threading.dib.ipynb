{
 "cells": [
  {
   "cell_type": "markdown",
   "metadata": {},
   "source": [
    "# threading"
   ]
  },
  {
   "cell_type": "code",
   "execution_count": null,
   "metadata": {
    "dotnet_interactive": {
     "language": "spiral"
    },
    "polyglot_notebook": {
     "kernelName": "spiral"
    }
   },
   "outputs": [
    {
     "name": "stdout",
     "output_type": "stream",
     "text": [
      "()\n",
      "\n"
     ]
    }
   ],
   "source": [
    "open rust_operators"
   ]
  },
  {
   "cell_type": "code",
   "execution_count": null,
   "metadata": {
    "dotnet_interactive": {
     "language": "spiral"
    },
    "polyglot_notebook": {
     "kernelName": "spiral"
    }
   },
   "outputs": [
    {
     "name": "stdout",
     "output_type": "stream",
     "text": [
      "()\n",
      "\n"
     ]
    }
   ],
   "source": [
    "// // test\n",
    "\n",
    "open testing"
   ]
  },
  {
   "cell_type": "markdown",
   "metadata": {},
   "source": [
    "## cancellation_token"
   ]
  },
  {
   "cell_type": "code",
   "execution_count": null,
   "metadata": {
    "dotnet_interactive": {
     "language": "spiral"
    },
    "polyglot_notebook": {
     "kernelName": "spiral"
    }
   },
   "outputs": [
    {
     "name": "stdout",
     "output_type": "stream",
     "text": [
      "()\n",
      "\n"
     ]
    }
   ],
   "source": [
    "nominal cancellation_token = $'System.Threading.CancellationToken'"
   ]
  },
  {
   "cell_type": "markdown",
   "metadata": {},
   "source": [
    "## cancellation_token_source"
   ]
  },
  {
   "cell_type": "code",
   "execution_count": null,
   "metadata": {
    "dotnet_interactive": {
     "language": "spiral"
    },
    "polyglot_notebook": {
     "kernelName": "spiral"
    }
   },
   "outputs": [
    {
     "name": "stdout",
     "output_type": "stream",
     "text": [
      "()\n",
      "\n"
     ]
    }
   ],
   "source": [
    "nominal cancellation_token_source = $'System.Threading.CancellationTokenSource'"
   ]
  },
  {
   "cell_type": "markdown",
   "metadata": {},
   "source": [
    "## cancellation_token_registration"
   ]
  },
  {
   "cell_type": "code",
   "execution_count": null,
   "metadata": {
    "dotnet_interactive": {
     "language": "spiral"
    },
    "polyglot_notebook": {
     "kernelName": "spiral"
    }
   },
   "outputs": [
    {
     "name": "stdout",
     "output_type": "stream",
     "text": [
      "()\n",
      "\n"
     ]
    }
   ],
   "source": [
    "nominal cancellation_token_registration = $'System.Threading.CancellationTokenRegistration'"
   ]
  },
  {
   "cell_type": "markdown",
   "metadata": {},
   "source": [
    "## cancellation_source_token"
   ]
  },
  {
   "cell_type": "code",
   "execution_count": null,
   "metadata": {
    "dotnet_interactive": {
     "language": "spiral"
    },
    "polyglot_notebook": {
     "kernelName": "spiral"
    }
   },
   "outputs": [
    {
     "name": "stdout",
     "output_type": "stream",
     "text": [
      "()\n",
      "\n"
     ]
    }
   ],
   "source": [
    "inl cancellation_source_token (x : cancellation_token_source) : cancellation_token =\n",
    "    $'!x.Token'"
   ]
  },
  {
   "cell_type": "markdown",
   "metadata": {},
   "source": [
    "## cancellation_source_cancel"
   ]
  },
  {
   "cell_type": "code",
   "execution_count": null,
   "metadata": {
    "dotnet_interactive": {
     "language": "spiral"
    },
    "polyglot_notebook": {
     "kernelName": "spiral"
    }
   },
   "outputs": [
    {
     "name": "stdout",
     "output_type": "stream",
     "text": [
      "()\n",
      "\n"
     ]
    }
   ],
   "source": [
    "inl cancellation_source_cancel (x : cancellation_token_source) : () =\n",
    "    run_target function\n",
    "        | Fsharp (Native) => fun () =>\n",
    "            $'!x.Cancel' ()\n",
    "        | _ => fun () => null ()"
   ]
  },
  {
   "cell_type": "markdown",
   "metadata": {},
   "source": [
    "## create_linked_token_source"
   ]
  },
  {
   "cell_type": "code",
   "execution_count": null,
   "metadata": {
    "dotnet_interactive": {
     "language": "spiral"
    },
    "polyglot_notebook": {
     "kernelName": "spiral"
    }
   },
   "outputs": [
    {
     "name": "stdout",
     "output_type": "stream",
     "text": [
      "()\n",
      "\n"
     ]
    }
   ],
   "source": [
    "inl create_linked_token_source (x : array_base cancellation_token) : cancellation_token_source =\n",
    "    x |> $'System.Threading.CancellationTokenSource.CreateLinkedTokenSource'"
   ]
  },
  {
   "cell_type": "markdown",
   "metadata": {},
   "source": [
    "## sleep"
   ]
  },
  {
   "cell_type": "code",
   "execution_count": null,
   "metadata": {
    "dotnet_interactive": {
     "language": "spiral"
    },
    "polyglot_notebook": {
     "kernelName": "spiral"
    }
   },
   "outputs": [
    {
     "name": "stdout",
     "output_type": "stream",
     "text": [
      "()\n",
      "\n"
     ]
    }
   ],
   "source": [
    "inl sleep (duration : date_time.duration) : () =\n",
    "    inl duration = join duration\n",
    "    !\\($'\"std::thread::sleep(!duration)\"')"
   ]
  },
  {
   "cell_type": "markdown",
   "metadata": {},
   "source": [
    "## concurrent_stack"
   ]
  },
  {
   "cell_type": "code",
   "execution_count": null,
   "metadata": {
    "dotnet_interactive": {
     "language": "spiral"
    },
    "polyglot_notebook": {
     "kernelName": "spiral"
    }
   },
   "outputs": [
    {
     "name": "stdout",
     "output_type": "stream",
     "text": [
      "()\n",
      "\n"
     ]
    }
   ],
   "source": [
    "nominal concurrent_stack t = $'System.Collections.Concurrent.ConcurrentStack<`t>'"
   ]
  },
  {
   "cell_type": "markdown",
   "metadata": {},
   "source": [
    "## concurrent_stack_push"
   ]
  },
  {
   "cell_type": "code",
   "execution_count": null,
   "metadata": {
    "dotnet_interactive": {
     "language": "spiral"
    },
    "polyglot_notebook": {
     "kernelName": "spiral"
    }
   },
   "outputs": [
    {
     "name": "stdout",
     "output_type": "stream",
     "text": [
      "()\n",
      "\n"
     ]
    }
   ],
   "source": [
    "inl concurrent_stack_push forall t. (item : t) (stack : concurrent_stack t) : () =\n",
    "    $'!stack.Push' item"
   ]
  },
  {
   "cell_type": "markdown",
   "metadata": {},
   "source": [
    "## token_none"
   ]
  },
  {
   "cell_type": "code",
   "execution_count": null,
   "metadata": {
    "dotnet_interactive": {
     "language": "spiral"
    },
    "polyglot_notebook": {
     "kernelName": "spiral"
    }
   },
   "outputs": [
    {
     "name": "stdout",
     "output_type": "stream",
     "text": [
      "()\n",
      "\n"
     ]
    }
   ],
   "source": [
    "inl token_none () : cancellation_token =\n",
    "    $'`cancellation_token.None'"
   ]
  },
  {
   "cell_type": "markdown",
   "metadata": {},
   "source": [
    "## new_concurrent_stack"
   ]
  },
  {
   "cell_type": "code",
   "execution_count": null,
   "metadata": {
    "dotnet_interactive": {
     "language": "spiral"
    },
    "polyglot_notebook": {
     "kernelName": "spiral"
    }
   },
   "outputs": [
    {
     "name": "stdout",
     "output_type": "stream",
     "text": [
      "()\n",
      "\n"
     ]
    }
   ],
   "source": [
    "inl new_concurrent_stack forall t. () : concurrent_stack t =\n",
    "    $'System.Collections.Concurrent.ConcurrentStack<`t>' ()"
   ]
  },
  {
   "cell_type": "markdown",
   "metadata": {},
   "source": [
    "## token_register"
   ]
  },
  {
   "cell_type": "code",
   "execution_count": null,
   "metadata": {
    "dotnet_interactive": {
     "language": "spiral"
    },
    "polyglot_notebook": {
     "kernelName": "spiral"
    }
   },
   "outputs": [
    {
     "name": "stdout",
     "output_type": "stream",
     "text": [
      "()\n",
      "\n"
     ]
    }
   ],
   "source": [
    "inl token_register (fn : () -> ()) (ct : cancellation_token) : cancellation_token_registration =\n",
    "    fn |> $'!ct.Register'"
   ]
  },
  {
   "cell_type": "markdown",
   "metadata": {},
   "source": [
    "## new_cancellation_token_source"
   ]
  },
  {
   "cell_type": "code",
   "execution_count": null,
   "metadata": {
    "dotnet_interactive": {
     "language": "spiral"
    },
    "polyglot_notebook": {
     "kernelName": "spiral"
    }
   },
   "outputs": [
    {
     "name": "stdout",
     "output_type": "stream",
     "text": [
      "()\n",
      "\n"
     ]
    }
   ],
   "source": [
    "inl new_cancellation_token_source () : cancellation_token_source =\n",
    "    $'new `cancellation_token_source ()'"
   ]
  },
  {
   "cell_type": "code",
   "execution_count": null,
   "metadata": {
    "dotnet_interactive": {
     "language": "spiral"
    },
    "polyglot_notebook": {
     "kernelName": "spiral"
    }
   },
   "outputs": [
    {
     "name": "stdout",
     "output_type": "stream",
     "text": [
      "()\n",
      "\n"
     ]
    }
   ],
   "source": [
    "inl token_cancellation_requested (ct : cancellation_token) : bool =\n",
    "    $'!ct.IsCancellationRequested'"
   ]
  },
  {
   "cell_type": "markdown",
   "metadata": {},
   "source": [
    "## new_disposable_token"
   ]
  },
  {
   "cell_type": "code",
   "execution_count": null,
   "metadata": {
    "dotnet_interactive": {
     "language": "spiral"
    },
    "polyglot_notebook": {
     "kernelName": "spiral"
    }
   },
   "outputs": [
    {
     "name": "stdout",
     "output_type": "stream",
     "text": [
      "()\n",
      "\n"
     ]
    }
   ],
   "source": [
    "inl new_disposable_token (merge_token : optionm'.option' cancellation_token) =\n",
    "    run_target function\n",
    "        | Fsharp (Native) => fun () =>\n",
    "            inl cts = new_cancellation_token_source ()\n",
    "            inl cts =\n",
    "                match merge_token |> optionm'.unbox with\n",
    "                | None => cts\n",
    "                | Some merge_token =>\n",
    "                    create_linked_token_source ;[ cts |> cancellation_source_token; merge_token ]\n",
    "            inl disposable : _ () = new_disposable fun () =>\n",
    "                cts |> cancellation_source_cancel\n",
    "            cts |> cancellation_source_token, disposable\n",
    "        | _ => fun () => null ()"
   ]
  },
  {
   "cell_type": "code",
   "execution_count": null,
   "metadata": {
    "dotnet_interactive": {
     "language": "spiral"
    },
    "polyglot_notebook": {
     "kernelName": "spiral"
    }
   },
   "outputs": [
    {
     "name": "stdout",
     "output_type": "stream",
     "text": [
      "type Mut0 = {mutable l0 : int32}\n",
      "and [<Struct>] US0 =\n",
      "    | US0_0 of f0_0 : System.Threading.CancellationToken\n",
      "    | US0_1\n",
      "let rec closure0 () (v0 : System.Threading.CancellationToken) : US0 =\n",
      "    US0_0(v0)\n",
      "and method2 () : (System.Threading.CancellationToken -> US0) =\n",
      "    closure0()\n",
      "and closure1 (v0 : System.Threading.CancellationTokenSource) () : unit =\n",
      "    let v1 : unit option = None\n",
      "    let v2 : bool = true in let mutable _v1 = v1\n",
      "    #if FABLE_COMPILER_RUST && !WASM && !CONTRACT\n",
      "    null |> unbox<unit>\n",
      "    ()\n",
      "#endif\n",
      "    #if FABLE_COMPILER_RUST && WASM\n",
      "    null |> unbox<unit>\n",
      "    ()\n",
      "#endif\n",
      "    #if FABLE_COMPILER_RUST && CONTRACT\n",
      "    null |> unbox<unit>\n",
      "    ()\n",
      "#endif\n",
      "    #if !FABLE_COMPILER && !FABLE_COMPILER_RUST && !FABLE_COMPILER_TYPESCRIPT && !WASM && !CONTRACT\n",
      "    let v3 : (unit -> unit) = v0.Cancel\n",
      "    v3 ()\n",
      "    ()\n",
      "#endif\n",
      "    #if FABLE_COMPILER_TYPESCRIPT\n",
      "    null |> unbox<unit>\n",
      "    ()\n",
      "#endif\n",
      "    #if FABLE_COMPILER_PYTHON || FABLE_COMPILER_PHP || FABLE_COMPILER_DART\n",
      "    Unchecked.defaultof<unit>\n",
      "    ()\n",
      "#endif\n",
      "    |> fun x -> _v1 <- Some x\n",
      "    _v1.Value\n",
      "    ()\n",
      "and method1 (v0 : Mut0) : unit =\n",
      "    let v1 : System.Threading.CancellationToken option = None\n",
      "    let v2 : struct (System.Threading.CancellationToken * System.IDisposable) option = None\n",
      "    let v3 : bool = true in let mutable _v2 = v2\n",
      "    #if FABLE_COMPILER_RUST && !WASM && !CONTRACT\n",
      "    let struct (v4 : System.Threading.CancellationToken, v5 : System.IDisposable) = null |> unbox<struct (System.Threading.CancellationToken * System.IDisposable)>\n",
      "    struct (v4, v5)\n",
      "#endif\n",
      "    #if FABLE_COMPILER_RUST && WASM\n",
      "    let struct (v6 : System.Threading.CancellationToken, v7 : System.IDisposable) = null |> unbox<struct (System.Threading.CancellationToken * System.IDisposable)>\n",
      "    struct (v6, v7)\n",
      "#endif\n",
      "    #if FABLE_COMPILER_RUST && CONTRACT\n",
      "    let struct (v8 : System.Threading.CancellationToken, v9 : System.IDisposable) = null |> unbox<struct (System.Threading.CancellationToken * System.IDisposable)>\n",
      "    struct (v8, v9)\n",
      "#endif\n",
      "    #if !FABLE_COMPILER && !FABLE_COMPILER_RUST && !FABLE_COMPILER_TYPESCRIPT && !WASM && !CONTRACT\n",
      "    let v10 : System.Threading.CancellationTokenSource = new System.Threading.CancellationTokenSource ()\n",
      "    let v11 : (System.Threading.CancellationToken -> US0) = method2()\n",
      "    let v12 : US0 = US0_1\n",
      "    let v13 : US0 = v1 |> Option.map v11 |> Option.defaultValue v12 \n",
      "    let v20 : System.Threading.CancellationTokenSource =\n",
      "        match v13 with\n",
      "        | US0_1 -> (* None *)\n",
      "            v10\n",
      "        | US0_0(v14) -> (* Some *)\n",
      "            let v15 : System.Threading.CancellationToken = v10.Token\n",
      "            let v16 : (System.Threading.CancellationToken []) = [|v15; v14|]\n",
      "            let v17 : ((System.Threading.CancellationToken []) -> System.Threading.CancellationTokenSource) = System.Threading.CancellationTokenSource.CreateLinkedTokenSource\n",
      "            v17 v16\n",
      "    let v21 : System.IDisposable option = None\n",
      "    let v22 : bool = true in let mutable _v21 = v21\n",
      "    #if FABLE_COMPILER_RUST && !WASM && !CONTRACT\n",
      "    let v23 : System.IDisposable = null |> unbox<System.IDisposable>\n",
      "    v23\n",
      "#endif\n",
      "    #if FABLE_COMPILER_RUST && WASM\n",
      "    let v24 : System.IDisposable = null |> unbox<System.IDisposable>\n",
      "    v24\n",
      "#endif\n",
      "    #if FABLE_COMPILER_RUST && CONTRACT\n",
      "    let v25 : System.IDisposable = null |> unbox<System.IDisposable>\n",
      "    v25\n",
      "#endif\n",
      "    #if !FABLE_COMPILER && !FABLE_COMPILER_RUST && !FABLE_COMPILER_TYPESCRIPT && !WASM && !CONTRACT\n",
      "    let v26 : (unit -> unit) = closure1(v20)\n",
      "    let v27 : System.IDisposable = { new System.IDisposable with member _.Dispose () = v26 () }\n",
      "    v27\n",
      "#endif\n",
      "    #if FABLE_COMPILER_TYPESCRIPT\n",
      "    let v28 : System.IDisposable = null |> unbox<System.IDisposable>\n",
      "    v28\n",
      "#endif\n",
      "    #if FABLE_COMPILER_PYTHON || FABLE_COMPILER_PHP || FABLE_COMPILER_DART\n",
      "    let v29 : System.IDisposable = Unchecked.defaultof<System.IDisposable>\n",
      "    v29\n",
      "#endif\n",
      "    |> fun x -> _v21 <- Some x\n",
      "    let v30 : System.IDisposable = _v21.Value\n",
      "    let v31 : System.Threading.CancellationToken = v20.Token\n",
      "    struct (v31, v30)\n",
      "#endif\n",
      "    #if FABLE_COMPILER_TYPESCRIPT\n",
      "    let struct (v32 : System.Threading.CancellationToken, v33 : System.IDisposable) = null |> unbox<struct (System.Threading.CancellationToken * System.IDisposable)>\n",
      "    struct (v32, v33)\n",
      "#endif\n",
      "    #if FABLE_COMPILER_PYTHON || FABLE_COMPILER_PHP || FABLE_COMPILER_DART\n",
      "    let struct (v34 : System.Threading.CancellationToken, v35 : System.IDisposable) = Unchecked.defaultof<struct (System.Threading.CancellationToken * System.IDisposable)>\n",
      "    struct (v34, v35)\n",
      "#endif\n",
      "    |> fun x -> _v2 <- Some x\n",
      "    let struct (v36 : System.Threading.CancellationToken, v37 : System.IDisposable) = _v2.Value\n",
      "    use v37 = v37 \n",
      "    let v38 : System.IDisposable = v37 \n",
      "    let v39 : int32 = v0.l0\n",
      "    let v40 : bool = v36.IsCancellationRequested\n",
      "    let v41 : int32 =\n",
      "        if v40 then\n",
      "            10\n",
      "        else\n",
      "            1\n",
      "    let v42 : int32 = v39 + v41\n",
      "    v0.l0 <- v42\n",
      "    let v43 : Async<unit> option = None\n",
      "    let v44 : bool = true in let mutable _v43 = v43\n",
      "    #if FABLE_COMPILER_RUST && !WASM && !CONTRACT\n",
      "    let v45 : Async<unit> = null |> unbox<Async<unit>>\n",
      "    v45\n",
      "#endif\n",
      "    #if FABLE_COMPILER_RUST && WASM\n",
      "    let v46 : Async<unit> = null |> unbox<Async<unit>>\n",
      "    v46\n",
      "#endif\n",
      "    #if FABLE_COMPILER_RUST && CONTRACT\n",
      "    let v47 : Async<unit> = null |> unbox<Async<unit>>\n",
      "    v47\n",
      "#endif\n",
      "    #if !FABLE_COMPILER && !FABLE_COMPILER_RUST && !FABLE_COMPILER_TYPESCRIPT && !WASM && !CONTRACT\n",
      "    let v48 : Async<unit> option = None\n",
      "    let mutable _v48 = v48\n",
      "    async {\n",
      "    let v49 : int32 = v0.l0\n",
      "    let v50 : bool = v36.IsCancellationRequested\n",
      "    let v51 : int32 =\n",
      "        if v50 then\n",
      "            10\n",
      "        else\n",
      "            1\n",
      "    let v52 : int32 = v49 + v51\n",
      "    v0.l0 <- v52\n",
      "    }\n",
      "    |> fun x -> _v48 <- Some x\n",
      "    let v53 : Async<unit> = _v48 |> Option.get\n",
      "    v53\n",
      "#endif\n",
      "    #if FABLE_COMPILER_TYPESCRIPT\n",
      "    let v54 : Async<unit> = null |> unbox<Async<unit>>\n",
      "    v54\n",
      "#endif\n",
      "    #if FABLE_COMPILER_PYTHON || FABLE_COMPILER_PHP || FABLE_COMPILER_DART\n",
      "    let v55 : Async<unit> = Unchecked.defaultof<Async<unit>>\n",
      "    v55\n",
      "#endif\n",
      "    |> fun x -> _v43 <- Some x\n",
      "    let v56 : Async<unit> = _v43.Value\n",
      "    let v57 : unit option = None\n",
      "    let v58 : bool = true in let mutable _v57 = v57\n",
      "    #if FABLE_COMPILER_RUST && !WASM && !CONTRACT\n",
      "    null |> unbox<unit>\n",
      "    ()\n",
      "#endif\n",
      "    #if FABLE_COMPILER_RUST && WASM\n",
      "    null |> unbox<unit>\n",
      "    ()\n",
      "#endif\n",
      "    #if FABLE_COMPILER_RUST && CONTRACT\n",
      "    null |> unbox<unit>\n",
      "    ()\n",
      "#endif\n",
      "    #if !FABLE_COMPILER && !FABLE_COMPILER_RUST && !FABLE_COMPILER_TYPESCRIPT && !WASM && !CONTRACT\n",
      "    let v59 : (Async<unit> -> unit) = Async.Start\n",
      "    v59 v56\n",
      "    ()\n",
      "#endif\n",
      "    #if FABLE_COMPILER_TYPESCRIPT\n",
      "    null |> unbox<unit>\n",
      "    ()\n",
      "#endif\n",
      "    #if FABLE_COMPILER_PYTHON || FABLE_COMPILER_PHP || FABLE_COMPILER_DART\n",
      "    Unchecked.defaultof<unit>\n",
      "    ()\n",
      "#endif\n",
      "    |> fun x -> _v57 <- Some x\n",
      "    _v57.Value\n",
      "    ()\n",
      "and method3 (v0 : bool) : bool =\n",
      "    v0\n",
      "and method0 () : unit =\n",
      "    let v0 : Async<int32> option = None\n",
      "    let v1 : bool = true in let mutable _v0 = v0\n",
      "    #if FABLE_COMPILER_RUST && !WASM && !CONTRACT\n",
      "    let v2 : Async<int32> = null |> unbox<Async<int32>>\n",
      "    v2\n",
      "#endif\n",
      "    #if FABLE_COMPILER_RUST && WASM\n",
      "    let v3 : Async<int32> = null |> unbox<Async<int32>>\n",
      "    v3\n",
      "#endif\n",
      "    #if FABLE_COMPILER_RUST && CONTRACT\n",
      "    let v4 : Async<int32> = null |> unbox<Async<int32>>\n",
      "    v4\n",
      "#endif\n",
      "    #if !FABLE_COMPILER && !FABLE_COMPILER_RUST && !FABLE_COMPILER_TYPESCRIPT && !WASM && !CONTRACT\n",
      "    let v5 : Async<int32> option = None\n",
      "    let mutable _v5 = v5\n",
      "    async {\n",
      "    let v6 : Mut0 = {l0 = 0} : Mut0\n",
      "    method1(v6)\n",
      "    let v7 : Async<unit> option = None\n",
      "    let v8 : bool = true in let mutable _v7 = v7\n",
      "    #if FABLE_COMPILER_RUST && !WASM && !CONTRACT\n",
      "    let v9 : Async<unit> = null |> unbox<Async<unit>>\n",
      "    v9\n",
      "#endif\n",
      "    #if FABLE_COMPILER_RUST && WASM\n",
      "    let v10 : Async<unit> = null |> unbox<Async<unit>>\n",
      "    v10\n",
      "#endif\n",
      "    #if FABLE_COMPILER_RUST && CONTRACT\n",
      "    let v11 : Async<unit> = null |> unbox<Async<unit>>\n",
      "    v11\n",
      "#endif\n",
      "    #if !FABLE_COMPILER && !FABLE_COMPILER_RUST && !FABLE_COMPILER_TYPESCRIPT && !WASM && !CONTRACT\n",
      "    let v12 : (int32 -> Async<unit>) = Async.Sleep\n",
      "    let v13 : Async<unit> = v12 10\n",
      "    v13\n",
      "#endif\n",
      "    #if FABLE_COMPILER_TYPESCRIPT\n",
      "    let v14 : Async<unit> = null |> unbox<Async<unit>>\n",
      "    v14\n",
      "#endif\n",
      "    #if FABLE_COMPILER_PYTHON || FABLE_COMPILER_PHP || FABLE_COMPILER_DART\n",
      "    let v15 : Async<unit> = Unchecked.defaultof<Async<unit>>\n",
      "    v15\n",
      "#endif\n",
      "    |> fun x -> _v7 <- Some x\n",
      "    let v16 : Async<unit> = _v7.Value\n",
      "    do! v16 \n",
      "    let v17 : int32 = v6.l0\n",
      "    return v17 \n",
      "    }\n",
      "    |> fun x -> _v5 <- Some x\n",
      "    let v18 : Async<int32> = _v5 |> Option.get\n",
      "    v18\n",
      "#endif\n",
      "    #if FABLE_COMPILER_TYPESCRIPT\n",
      "    let v19 : Async<int32> = null |> unbox<Async<int32>>\n",
      "    v19\n",
      "#endif\n",
      "    #if FABLE_COMPILER_PYTHON || FABLE_COMPILER_PHP || FABLE_COMPILER_DART\n",
      "    let v20 : Async<int32> = Unchecked.defaultof<Async<int32>>\n",
      "    v20\n",
      "#endif\n",
      "    |> fun x -> _v0 <- Some x\n",
      "    let v21 : Async<int32> = _v0.Value\n",
      "    let v22 : int32 option = None\n",
      "    let v23 : bool = true in let mutable _v22 = v22\n",
      "    #if FABLE_COMPILER_RUST && !WASM && !CONTRACT\n",
      "    let v24 : int32 = null |> unbox<int32>\n",
      "    v24\n",
      "#endif\n",
      "    #if FABLE_COMPILER_RUST && WASM\n",
      "    let v25 : int32 = null |> unbox<int32>\n",
      "    v25\n",
      "#endif\n",
      "    #if FABLE_COMPILER_RUST && CONTRACT\n",
      "    let v26 : int32 = null |> unbox<int32>\n",
      "    v26\n",
      "#endif\n",
      "    #if !FABLE_COMPILER && !FABLE_COMPILER_RUST && !FABLE_COMPILER_TYPESCRIPT && !WASM && !CONTRACT\n",
      "    let v27 : (Async<int32> -> int32) = Async.RunSynchronously\n",
      "    let v28 : int32 = v27 v21\n",
      "    v28\n",
      "#endif\n",
      "    #if FABLE_COMPILER_TYPESCRIPT\n",
      "    let v29 : int32 = null |> unbox<int32>\n",
      "    v29\n",
      "#endif\n",
      "    #if FABLE_COMPILER_PYTHON || FABLE_COMPILER_PHP || FABLE_COMPILER_DART\n",
      "    let v30 : int32 = Unchecked.defaultof<int32>\n",
      "    v30\n",
      "#endif\n",
      "    |> fun x -> _v22 <- Some x\n",
      "    let v31 : int32 = _v22.Value\n",
      "    let v32 : string = $\"%A{v31}\"\n",
      "    System.Console.WriteLine v32\n",
      "    let v33 : bool = v31 = 11\n",
      "    let v35 : bool =\n",
      "        if v33 then\n",
      "            true\n",
      "        else\n",
      "            method3(v33)\n",
      "    let v36 : string = $\"__expect / actual: %A{v31} / expected: %A{11}\"\n",
      "    let v37 : bool = v35 = false\n",
      "    if v37 then\n",
      "        failwith<unit> v36\n",
      "method0()\n",
      "\n",
      "11\n"
     ]
    }
   ],
   "source": [
    "// // test\n",
    "\n",
    "inl run fn =\n",
    "    inl token, disposable = new_disposable_token (None |> optionm'.box)\n",
    "    disposable |> use |> ignore\n",
    "    fn token\n",
    "    fun () =>\n",
    "        fn token\n",
    "    |> async.new_async\n",
    "    |> async.start\n",
    "\n",
    "fun () =>\n",
    "    inl counter = mut 0i32\n",
    "\n",
    "    inl fn (token : cancellation_token) =\n",
    "        counter <- *counter + (if token |> token_cancellation_requested then 10 else 1)\n",
    "\n",
    "    join run fn\n",
    "    async.sleep 10 |> async.do\n",
    "    return *counter\n",
    "|> async.new_async_unit\n",
    "|> async.run_synchronously\n",
    "|> _assert_eq 11i32"
   ]
  },
  {
   "cell_type": "markdown",
   "metadata": {},
   "source": [
    "## main"
   ]
  },
  {
   "cell_type": "code",
   "execution_count": null,
   "metadata": {
    "dotnet_interactive": {
     "language": "spiral"
    },
    "polyglot_notebook": {
     "kernelName": "spiral"
    }
   },
   "outputs": [
    {
     "name": "stdout",
     "output_type": "stream",
     "text": [
      "type [<Struct>] US0 =\n",
      "    | US0_0 of f0_0 : System.Threading.CancellationToken\n",
      "    | US0_1\n",
      "let rec closure1 () (v0 : System.Threading.CancellationToken) : US0 =\n",
      "    US0_0(v0)\n",
      "and method0 () : (System.Threading.CancellationToken -> US0) =\n",
      "    closure1()\n",
      "and closure2 (v0 : System.Threading.CancellationTokenSource) () : unit =\n",
      "    let v1 : unit option = None\n",
      "    let v2 : bool = true in let mutable _v1 = v1\n",
      "    #if FABLE_COMPILER_RUST && !WASM && !CONTRACT\n",
      "    null |> unbox<unit>\n",
      "    ()\n",
      "#endif\n",
      "    #if FABLE_COMPILER_RUST && WASM\n",
      "    null |> unbox<unit>\n",
      "    ()\n",
      "#endif\n",
      "    #if FABLE_COMPILER_RUST && CONTRACT\n",
      "    null |> unbox<unit>\n",
      "    ()\n",
      "#endif\n",
      "    #if !FABLE_COMPILER && !FABLE_COMPILER_RUST && !FABLE_COMPILER_TYPESCRIPT && !WASM && !CONTRACT\n",
      "    let v3 : (unit -> unit) = v0.Cancel\n",
      "    v3 ()\n",
      "    ()\n",
      "#endif\n",
      "    #if FABLE_COMPILER_TYPESCRIPT\n",
      "    null |> unbox<unit>\n",
      "    ()\n",
      "#endif\n",
      "    #if FABLE_COMPILER_PYTHON || FABLE_COMPILER_PHP || FABLE_COMPILER_DART\n",
      "    Unchecked.defaultof<unit>\n",
      "    ()\n",
      "#endif\n",
      "    |> fun x -> _v1 <- Some x\n",
      "    _v1.Value\n",
      "    ()\n",
      "and closure0 () (v0 : System.Threading.CancellationToken option) : struct (System.Threading.CancellationToken * System.IDisposable) =\n",
      "    let v1 : struct (System.Threading.CancellationToken * System.IDisposable) option = None\n",
      "    let v2 : bool = true in let mutable _v1 = v1\n",
      "    #if FABLE_COMPILER_RUST && !WASM && !CONTRACT\n",
      "    let struct (v3 : System.Threading.CancellationToken, v4 : System.IDisposable) = null |> unbox<struct (System.Threading.CancellationToken * System.IDisposable)>\n",
      "    struct (v3, v4)\n",
      "#endif\n",
      "    #if FABLE_COMPILER_RUST && WASM\n",
      "    let struct (v5 : System.Threading.CancellationToken, v6 : System.IDisposable) = null |> unbox<struct (System.Threading.CancellationToken * System.IDisposable)>\n",
      "    struct (v5, v6)\n",
      "#endif\n",
      "    #if FABLE_COMPILER_RUST && CONTRACT\n",
      "    let struct (v7 : System.Threading.CancellationToken, v8 : System.IDisposable) = null |> unbox<struct (System.Threading.CancellationToken * System.IDisposable)>\n",
      "    struct (v7, v8)\n",
      "#endif\n",
      "    #if !FABLE_COMPILER && !FABLE_COMPILER_RUST && !FABLE_COMPILER_TYPESCRIPT && !WASM && !CONTRACT\n",
      "    let v9 : System.Threading.CancellationTokenSource = new System.Threading.CancellationTokenSource ()\n",
      "    let v10 : (System.Threading.CancellationToken -> US0) = method0()\n",
      "    let v11 : US0 = US0_1\n",
      "    let v12 : US0 = v0 |> Option.map v10 |> Option.defaultValue v11 \n",
      "    let v19 : System.Threading.CancellationTokenSource =\n",
      "        match v12 with\n",
      "        | US0_1 -> (* None *)\n",
      "            v9\n",
      "        | US0_0(v13) -> (* Some *)\n",
      "            let v14 : System.Threading.CancellationToken = v9.Token\n",
      "            let v15 : (System.Threading.CancellationToken []) = [|v14; v13|]\n",
      "            let v16 : ((System.Threading.CancellationToken []) -> System.Threading.CancellationTokenSource) = System.Threading.CancellationTokenSource.CreateLinkedTokenSource\n",
      "            v16 v15\n",
      "    let v20 : System.IDisposable option = None\n",
      "    let v21 : bool = true in let mutable _v20 = v20\n",
      "    #if FABLE_COMPILER_RUST && !WASM && !CONTRACT\n",
      "    let v22 : System.IDisposable = null |> unbox<System.IDisposable>\n",
      "    v22\n",
      "#endif\n",
      "    #if FABLE_COMPILER_RUST && WASM\n",
      "    let v23 : System.IDisposable = null |> unbox<System.IDisposable>\n",
      "    v23\n",
      "#endif\n",
      "    #if FABLE_COMPILER_RUST && CONTRACT\n",
      "    let v24 : System.IDisposable = null |> unbox<System.IDisposable>\n",
      "    v24\n",
      "#endif\n",
      "    #if !FABLE_COMPILER && !FABLE_COMPILER_RUST && !FABLE_COMPILER_TYPESCRIPT && !WASM && !CONTRACT\n",
      "    let v25 : (unit -> unit) = closure2(v19)\n",
      "    let v26 : System.IDisposable = { new System.IDisposable with member _.Dispose () = v25 () }\n",
      "    v26\n",
      "#endif\n",
      "    #if FABLE_COMPILER_TYPESCRIPT\n",
      "    let v27 : System.IDisposable = null |> unbox<System.IDisposable>\n",
      "    v27\n",
      "#endif\n",
      "    #if FABLE_COMPILER_PYTHON || FABLE_COMPILER_PHP || FABLE_COMPILER_DART\n",
      "    let v28 : System.IDisposable = Unchecked.defaultof<System.IDisposable>\n",
      "    v28\n",
      "#endif\n",
      "    |> fun x -> _v20 <- Some x\n",
      "    let v29 : System.IDisposable = _v20.Value\n",
      "    let v30 : System.Threading.CancellationToken = v19.Token\n",
      "    struct (v30, v29)\n",
      "#endif\n",
      "    #if FABLE_COMPILER_TYPESCRIPT\n",
      "    let struct (v31 : System.Threading.CancellationToken, v32 : System.IDisposable) = null |> unbox<struct (System.Threading.CancellationToken * System.IDisposable)>\n",
      "    struct (v31, v32)\n",
      "#endif\n",
      "    #if FABLE_COMPILER_PYTHON || FABLE_COMPILER_PHP || FABLE_COMPILER_DART\n",
      "    let struct (v33 : System.Threading.CancellationToken, v34 : System.IDisposable) = Unchecked.defaultof<struct (System.Threading.CancellationToken * System.IDisposable)>\n",
      "    struct (v33, v34)\n",
      "#endif\n",
      "    |> fun x -> _v1 <- Some x\n",
      "    let struct (v35 : System.Threading.CancellationToken, v36 : System.IDisposable) = _v1.Value\n",
      "    struct (v35, v36)\n",
      "let v0 : (System.Threading.CancellationToken option -> struct (System.Threading.CancellationToken * System.IDisposable)) = closure0()\n",
      "let new_disposable_token x = v0 x\n",
      "()\n",
      "\n"
     ]
    }
   ],
   "source": [
    "inl main () =\n",
    "    $\"let new_disposable_token x = !new_disposable_token x\" : ()"
   ]
  }
 ],
 "metadata": {},
 "nbformat": 4,
 "nbformat_minor": 5
}