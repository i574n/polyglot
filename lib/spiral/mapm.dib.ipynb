{
 "cells": [
  {
   "cell_type": "markdown",
   "metadata": {},
   "source": [
    "# mapm"
   ]
  },
  {
   "cell_type": "code",
   "execution_count": null,
   "metadata": {
    "dotnet_interactive": {
     "language": "spiral"
    },
    "polyglot_notebook": {
     "kernelName": "spiral"
    }
   },
   "outputs": [],
   "source": [
    "open rust_operators"
   ]
  },
  {
   "cell_type": "markdown",
   "metadata": {},
   "source": [
    "## types"
   ]
  },
  {
   "cell_type": "code",
   "execution_count": null,
   "metadata": {
    "dotnet_interactive": {
     "language": "spiral"
    },
    "polyglot_notebook": {
     "kernelName": "spiral"
    }
   },
   "outputs": [],
   "source": [
    "inl types () =\n",
    "    global \"#if FABLE_COMPILER\\n[<Fable.Core.Erase; Fable.Core.Emit(\\\"std::collections::HashMap<$0, $1>\\\")>]\\n#endif\\ntype std_collections_HashMap<'K, 'V> = class end\"\n",
    "    global \"#if FABLE_COMPILER\\n[<Fable.Core.Erase; Fable.Core.Emit(\\\"std::collections::BTreeMap<$0, $1>\\\")>]\\n#endif\\ntype std_collections_BTreeMap<'K, 'V> = class end\""
   ]
  },
  {
   "cell_type": "markdown",
   "metadata": {},
   "source": [
    "## rust"
   ]
  },
  {
   "cell_type": "markdown",
   "metadata": {},
   "source": [
    "### hash_map"
   ]
  },
  {
   "cell_type": "code",
   "execution_count": null,
   "metadata": {
    "dotnet_interactive": {
     "language": "spiral"
    },
    "polyglot_notebook": {
     "kernelName": "spiral"
    }
   },
   "outputs": [],
   "source": [
    "nominal hash_map k v = $'std_collections_HashMap<`k, `v>'"
   ]
  },
  {
   "cell_type": "markdown",
   "metadata": {},
   "source": [
    "### b_tree_map"
   ]
  },
  {
   "cell_type": "code",
   "execution_count": null,
   "metadata": {
    "dotnet_interactive": {
     "language": "spiral"
    },
    "polyglot_notebook": {
     "kernelName": "spiral"
    }
   },
   "outputs": [],
   "source": [
    "nominal b_tree_map k v = $'std_collections_BTreeMap<`k, `v>'"
   ]
  },
  {
   "cell_type": "markdown",
   "metadata": {},
   "source": [
    "### new_hash_map"
   ]
  },
  {
   "cell_type": "code",
   "execution_count": null,
   "metadata": {
    "dotnet_interactive": {
     "language": "spiral"
    },
    "polyglot_notebook": {
     "kernelName": "spiral"
    }
   },
   "outputs": [],
   "source": [
    "inl new_hash_map () : hash_map _ _ =\n",
    "    !\\($'\"std::collections::HashMap::new()\"')"
   ]
  },
  {
   "cell_type": "markdown",
   "metadata": {},
   "source": [
    "### new_b_tree_map"
   ]
  },
  {
   "cell_type": "code",
   "execution_count": null,
   "metadata": {
    "dotnet_interactive": {
     "language": "spiral"
    },
    "polyglot_notebook": {
     "kernelName": "spiral"
    }
   },
   "outputs": [],
   "source": [
    "inl new_b_tree_map () : b_tree_map _ _ =\n",
    "    !\\($'\"std::collections::BTreeMap::new()\"')"
   ]
  },
  {
   "cell_type": "markdown",
   "metadata": {},
   "source": [
    "### get"
   ]
  },
  {
   "cell_type": "code",
   "execution_count": null,
   "metadata": {
    "dotnet_interactive": {
     "language": "spiral"
    },
    "polyglot_notebook": {
     "kernelName": "spiral"
    }
   },
   "outputs": [],
   "source": [
    "inl get forall k v. (key : k) (map : hash_map k v) : optionm'.option' v =\n",
    "    inl key = join key\n",
    "    !\\\\(map, $'\"std::collections::HashMap::get(&$0, &!key).map(|x| x).cloned()\"')"
   ]
  },
  {
   "cell_type": "markdown",
   "metadata": {},
   "source": [
    "### insert"
   ]
  },
  {
   "cell_type": "code",
   "execution_count": null,
   "metadata": {
    "dotnet_interactive": {
     "language": "spiral"
    },
    "polyglot_notebook": {
     "kernelName": "spiral"
    }
   },
   "outputs": [],
   "source": [
    "inl insert forall k v. (key : k) (value : v) (map : hash_map k v) : optionm'.option' v =\n",
    "    inl key = join key\n",
    "    !\\($'\"let mut !map = !map\"')\n",
    "    !\\($'\"std::collections::HashMap::insert(&mut !map, !key, !value)\"')"
   ]
  },
  {
   "cell_type": "markdown",
   "metadata": {},
   "source": [
    "### map'"
   ]
  },
  {
   "cell_type": "code",
   "execution_count": null,
   "metadata": {
    "dotnet_interactive": {
     "language": "spiral"
    },
    "polyglot_notebook": {
     "kernelName": "spiral"
    }
   },
   "outputs": [],
   "source": [
    "inl map' forall k v w. (fn : v -> w) (map : hash_map k v) : hash_map k w =\n",
    "    !\\\\((map, fn), $'\"$0.into_iter().map(|(k, v)| (k, $1(v))).collect()\"')"
   ]
  },
  {
   "cell_type": "markdown",
   "metadata": {},
   "source": [
    "### hash_map_count"
   ]
  },
  {
   "cell_type": "code",
   "execution_count": null,
   "metadata": {
    "dotnet_interactive": {
     "language": "spiral"
    },
    "polyglot_notebook": {
     "kernelName": "spiral"
    }
   },
   "outputs": [],
   "source": [
    "inl hash_map_count forall k v. (map : hash_map k v) : i32 =\n",
    "    !\\\\(map, $'\"$0.count()\"')"
   ]
  },
  {
   "cell_type": "markdown",
   "metadata": {},
   "source": [
    "### from_vec"
   ]
  },
  {
   "cell_type": "code",
   "execution_count": null,
   "metadata": {
    "dotnet_interactive": {
     "language": "spiral"
    },
    "polyglot_notebook": {
     "kernelName": "spiral"
    }
   },
   "outputs": [],
   "source": [
    "inl from_vec forall k v. (vec : am'.vec (k * v)) : hash_map k v =\n",
    "    !\\($'\"std::collections::HashMap::from_iter(!vec)\"')"
   ]
  },
  {
   "cell_type": "markdown",
   "metadata": {},
   "source": [
    "### from_vec_pairs"
   ]
  },
  {
   "cell_type": "code",
   "execution_count": null,
   "metadata": {
    "dotnet_interactive": {
     "language": "spiral"
    },
    "polyglot_notebook": {
     "kernelName": "spiral"
    }
   },
   "outputs": [],
   "source": [
    "inl from_vec_pairs forall k v. (vec : am'.vec (pair k v)) : hash_map k v =\n",
    "    !\\($'\"std::collections::HashMap::from_iter(!vec.iter().map(|x| x.as_ref()).map(|&(ref k, ref v)| (k.clone(), v.clone())))\"')"
   ]
  },
  {
   "cell_type": "markdown",
   "metadata": {},
   "source": [
    "### b_tree_map_from_vec_pairs"
   ]
  },
  {
   "cell_type": "code",
   "execution_count": null,
   "metadata": {
    "dotnet_interactive": {
     "language": "spiral"
    },
    "polyglot_notebook": {
     "kernelName": "spiral"
    }
   },
   "outputs": [],
   "source": [
    "inl b_tree_map_from_vec_pairs forall k v. (vec : am'.vec (pair k v)) : b_tree_map k v =\n",
    "    !\\($'\"std::collections::BTreeMap::from_iter(!vec.iter().map(|x| x.as_ref()).map(|&(ref k, ref v)| (k.clone(), v.clone())))\"')"
   ]
  },
  {
   "cell_type": "markdown",
   "metadata": {},
   "source": [
    "### from_array"
   ]
  },
  {
   "cell_type": "code",
   "execution_count": null,
   "metadata": {
    "dotnet_interactive": {
     "language": "spiral"
    },
    "polyglot_notebook": {
     "kernelName": "spiral"
    }
   },
   "outputs": [],
   "source": [
    "inl from_array forall k v. (array : array_base (k * v)) : hash_map k v =\n",
    "    array |> am'.to_vec |> from_vec"
   ]
  },
  {
   "cell_type": "markdown",
   "metadata": {},
   "source": [
    "### from_list"
   ]
  },
  {
   "cell_type": "code",
   "execution_count": null,
   "metadata": {
    "dotnet_interactive": {
     "language": "spiral"
    },
    "polyglot_notebook": {
     "kernelName": "spiral"
    }
   },
   "outputs": [],
   "source": [
    "inl from_list forall k v. (list : list (k * v)) : hash_map k v =\n",
    "    inl (a list) : _ i32 _ = list |> listm.toArray\n",
    "    list |> am'.to_vec |> from_vec"
   ]
  },
  {
   "cell_type": "markdown",
   "metadata": {},
   "source": [
    "### to_vec"
   ]
  },
  {
   "cell_type": "code",
   "execution_count": null,
   "metadata": {
    "dotnet_interactive": {
     "language": "spiral"
    },
    "polyglot_notebook": {
     "kernelName": "spiral"
    }
   },
   "outputs": [],
   "source": [
    "inl to_vec forall k v. (map : hash_map k v) : am'.vec (k * v) =\n",
    "    !\\\\(map, $'\"$0.into_iter().map(|(k, v)| (k, v)).collect::<Vec<_>>()\"')"
   ]
  },
  {
   "cell_type": "markdown",
   "metadata": {},
   "source": [
    "## fsharp"
   ]
  },
  {
   "cell_type": "markdown",
   "metadata": {},
   "source": [
    "### map"
   ]
  },
  {
   "cell_type": "code",
   "execution_count": null,
   "metadata": {
    "dotnet_interactive": {
     "language": "spiral"
    },
    "polyglot_notebook": {
     "kernelName": "spiral"
    }
   },
   "outputs": [],
   "source": [
    "nominal map k v = $'Map<`k, `v>'"
   ]
  },
  {
   "cell_type": "markdown",
   "metadata": {},
   "source": [
    "### item"
   ]
  },
  {
   "cell_type": "code",
   "execution_count": null,
   "metadata": {
    "dotnet_interactive": {
     "language": "spiral"
    },
    "polyglot_notebook": {
     "kernelName": "spiral"
    }
   },
   "outputs": [],
   "source": [
    "inl item forall k v. (k : k) (map : map k v) : v =\n",
    "    $'!map.[!k]'"
   ]
  },
  {
   "cell_type": "markdown",
   "metadata": {},
   "source": [
    "### of_array"
   ]
  },
  {
   "cell_type": "code",
   "execution_count": null,
   "metadata": {
    "dotnet_interactive": {
     "language": "spiral"
    },
    "polyglot_notebook": {
     "kernelName": "spiral"
    }
   },
   "outputs": [],
   "source": [
    "inl of_array forall k v. (array : a _ (k * v)) : map k v =\n",
    "    $'!array |> Array.map (fun (struct (a, b)) -> a, b) |> Map.ofArray'"
   ]
  }
 ],
 "metadata": {},
 "nbformat": 4,
 "nbformat_minor": 5
}