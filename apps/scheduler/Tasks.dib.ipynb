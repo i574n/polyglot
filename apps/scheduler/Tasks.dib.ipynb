{
 "cells": [
  {
   "cell_type": "markdown",
   "metadata": {},
   "source": [
    "## Tasks (Polyglot)"
   ]
  },
  {
   "cell_type": "code",
   "execution_count": null,
   "metadata": {
    "dotnet_interactive": {
     "language": "spiral"
    },
    "polyglot_notebook": {
     "kernelName": "spiral"
    }
   },
   "outputs": [],
   "source": [
    "//// test\n",
    "\n",
    "open testing"
   ]
  },
  {
   "cell_type": "markdown",
   "metadata": {},
   "source": [
    "## task_name"
   ]
  },
  {
   "cell_type": "code",
   "execution_count": null,
   "metadata": {
    "dotnet_interactive": {
     "language": "spiral"
    },
    "polyglot_notebook": {
     "kernelName": "spiral"
    }
   },
   "outputs": [],
   "source": [
    "nominal task_name = string"
   ]
  },
  {
   "cell_type": "markdown",
   "metadata": {},
   "source": [
    "## manual_scheduling"
   ]
  },
  {
   "cell_type": "code",
   "execution_count": null,
   "metadata": {
    "dotnet_interactive": {
     "language": "spiral"
    },
    "polyglot_notebook": {
     "kernelName": "spiral"
    }
   },
   "outputs": [],
   "source": [
    "union manual_scheduling =\n",
    "    | WithSuggestion\n",
    "    | WithoutSuggestion"
   ]
  },
  {
   "cell_type": "markdown",
   "metadata": {},
   "source": [
    "## recurrency_offset"
   ]
  },
  {
   "cell_type": "code",
   "execution_count": null,
   "metadata": {
    "dotnet_interactive": {
     "language": "spiral"
    },
    "polyglot_notebook": {
     "kernelName": "spiral"
    }
   },
   "outputs": [],
   "source": [
    "union recurrency_offset =\n",
    "    | Days : i32\n",
    "    | Weeks : i32\n",
    "    | Months : i32"
   ]
  },
  {
   "cell_type": "markdown",
   "metadata": {},
   "source": [
    "## day_of_week"
   ]
  },
  {
   "cell_type": "code",
   "execution_count": null,
   "metadata": {
    "dotnet_interactive": {
     "language": "spiral"
    },
    "polyglot_notebook": {
     "kernelName": "spiral"
    }
   },
   "outputs": [],
   "source": [
    "union day_of_week =\n",
    "    | Sunday\n",
    "    | Monday\n",
    "    | Tuesday\n",
    "    | Wednesday\n",
    "    | Thursday\n",
    "    | Friday\n",
    "    | Saturday"
   ]
  },
  {
   "cell_type": "markdown",
   "metadata": {},
   "source": [
    "## month"
   ]
  },
  {
   "cell_type": "code",
   "execution_count": null,
   "metadata": {
    "dotnet_interactive": {
     "language": "spiral"
    },
    "polyglot_notebook": {
     "kernelName": "spiral"
    }
   },
   "outputs": [],
   "source": [
    "union month =\n",
    "    | January\n",
    "    | February\n",
    "    | March\n",
    "    | April\n",
    "    | May\n",
    "    | June\n",
    "    | July\n",
    "    | August\n",
    "    | September\n",
    "    | October\n",
    "    | November\n",
    "    | December"
   ]
  },
  {
   "cell_type": "markdown",
   "metadata": {},
   "source": [
    "## day"
   ]
  },
  {
   "cell_type": "code",
   "execution_count": null,
   "metadata": {
    "dotnet_interactive": {
     "language": "spiral"
    },
    "polyglot_notebook": {
     "kernelName": "spiral"
    }
   },
   "outputs": [],
   "source": [
    "nominal day = i32"
   ]
  },
  {
   "cell_type": "markdown",
   "metadata": {},
   "source": [
    "## year"
   ]
  },
  {
   "cell_type": "code",
   "execution_count": null,
   "metadata": {
    "dotnet_interactive": {
     "language": "spiral"
    },
    "polyglot_notebook": {
     "kernelName": "spiral"
    }
   },
   "outputs": [],
   "source": [
    "nominal year = i32"
   ]
  },
  {
   "cell_type": "markdown",
   "metadata": {},
   "source": [
    "## fixed_recurrency"
   ]
  },
  {
   "cell_type": "code",
   "execution_count": null,
   "metadata": {
    "dotnet_interactive": {
     "language": "spiral"
    },
    "polyglot_notebook": {
     "kernelName": "spiral"
    }
   },
   "outputs": [],
   "source": [
    "union fixed_recurrency =\n",
    "    | Weekly : day_of_week\n",
    "    | Monthly : day\n",
    "    | Yearly : day * month"
   ]
  },
  {
   "cell_type": "markdown",
   "metadata": {},
   "source": [
    "## recurrency"
   ]
  },
  {
   "cell_type": "code",
   "execution_count": null,
   "metadata": {
    "dotnet_interactive": {
     "language": "spiral"
    },
    "polyglot_notebook": {
     "kernelName": "spiral"
    }
   },
   "outputs": [],
   "source": [
    "union recurrency =\n",
    "    | Offset : recurrency_offset\n",
    "    | Fixed : list fixed_recurrency"
   ]
  },
  {
   "cell_type": "markdown",
   "metadata": {},
   "source": [
    "## scheduling"
   ]
  },
  {
   "cell_type": "code",
   "execution_count": null,
   "metadata": {
    "dotnet_interactive": {
     "language": "spiral"
    },
    "polyglot_notebook": {
     "kernelName": "spiral"
    }
   },
   "outputs": [],
   "source": [
    "union scheduling =\n",
    "    | Manual : manual_scheduling\n",
    "    | Recurrent : recurrency"
   ]
  },
  {
   "cell_type": "markdown",
   "metadata": {},
   "source": [
    "## task"
   ]
  },
  {
   "cell_type": "code",
   "execution_count": null,
   "metadata": {
    "dotnet_interactive": {
     "language": "spiral"
    },
    "polyglot_notebook": {
     "kernelName": "spiral"
    }
   },
   "outputs": [],
   "source": [
    "type task =\n",
    "    {\n",
    "        name : task_name\n",
    "        scheduling : scheduling\n",
    "    }"
   ]
  },
  {
   "cell_type": "markdown",
   "metadata": {},
   "source": [
    "## date"
   ]
  },
  {
   "cell_type": "code",
   "execution_count": null,
   "metadata": {
    "dotnet_interactive": {
     "language": "spiral"
    },
    "polyglot_notebook": {
     "kernelName": "spiral"
    }
   },
   "outputs": [],
   "source": [
    "type date =\n",
    "    {\n",
    "        year : year\n",
    "        month : month\n",
    "        day : day\n",
    "    }"
   ]
  },
  {
   "cell_type": "markdown",
   "metadata": {},
   "source": [
    "## status"
   ]
  },
  {
   "cell_type": "code",
   "execution_count": null,
   "metadata": {
    "dotnet_interactive": {
     "language": "spiral"
    },
    "polyglot_notebook": {
     "kernelName": "spiral"
    }
   },
   "outputs": [],
   "source": [
    "union status =\n",
    "    | Postponed : option ()"
   ]
  },
  {
   "cell_type": "markdown",
   "metadata": {},
   "source": [
    "## event"
   ]
  },
  {
   "cell_type": "code",
   "execution_count": null,
   "metadata": {
    "dotnet_interactive": {
     "language": "spiral"
    },
    "polyglot_notebook": {
     "kernelName": "spiral"
    }
   },
   "outputs": [],
   "source": [
    "type event =\n",
    "    {\n",
    "        date : date\n",
    "        status : status\n",
    "    }"
   ]
  },
  {
   "cell_type": "markdown",
   "metadata": {},
   "source": [
    "## task_template"
   ]
  },
  {
   "cell_type": "code",
   "execution_count": null,
   "metadata": {
    "dotnet_interactive": {
     "language": "spiral"
    },
    "polyglot_notebook": {
     "kernelName": "spiral"
    }
   },
   "outputs": [],
   "source": [
    "type task_template =\n",
    "    {\n",
    "        task : task\n",
    "        events : list event\n",
    "    }"
   ]
  },
  {
   "cell_type": "markdown",
   "metadata": {},
   "source": [
    "## get_tasks (test)"
   ]
  },
  {
   "cell_type": "code",
   "execution_count": null,
   "metadata": {
    "dotnet_interactive": {
     "language": "spiral"
    },
    "polyglot_notebook": {
     "kernelName": "spiral"
    }
   },
   "outputs": [],
   "source": [
    "//// test\n",
    "\n",
    "inl get_tasks () : list task_template =\n",
    "    [\n",
    "        {\n",
    "            task =\n",
    "                {\n",
    "                    name = task_name \"01\"\n",
    "                    scheduling = Manual WithSuggestion\n",
    "                }\n",
    "            events = []\n",
    "        }\n",
    "        {\n",
    "            task =\n",
    "                {\n",
    "                    name = task_name \"02\"\n",
    "                    scheduling = Manual WithSuggestion\n",
    "                }\n",
    "            events = []\n",
    "        }\n",
    "        {\n",
    "            task =\n",
    "                {\n",
    "                    name = task_name \"03\"\n",
    "                    scheduling = Manual WithSuggestion\n",
    "                }\n",
    "            events = []\n",
    "        }\n",
    "    ]"
   ]
  },
  {
   "cell_type": "code",
   "execution_count": null,
   "metadata": {
    "dotnet_interactive": {
     "language": "spiral"
    },
    "polyglot_notebook": {
     "kernelName": "spiral"
    }
   },
   "outputs": [
    {
     "data": {
      "text/plain": [
       ".py output (Cuda):\n",
       "{ name = __assert; actual = 01; expected = UH2_1(v0='01', v1=US1_0(v0=US0_0()), v2=UH1_0(), v3=UH2_1(v0='02', v1=US1_0(v0=US0_0()), v2=UH1_0(), v3=UH2_1(v0='03', v1=US1_0(v0=US0_0()), v2=UH1_0(), v3=UH2_0()))) }\n",
       "\n",
       ".rs output:\n",
       "{ name = __assert; actual = 01; expected = UH2_1(\"01\", US1_0(US0_0), UH1_0, UH2_1(\"02\", US1_0(US0_0), UH1_0, UH2_1(\"03\", US1_0(US0_0), UH1_0, UH2_0))) }\n",
       "\n",
       ".ts output:\n",
       "{ name = __assert; actual = 01; expected = UH2_1 (01, US1_0 US0_0, UH1_0, UH2_1 (02, US1_0 US0_0, UH1_0, UH2_1 (03, US1_0 US0_0, UH1_0, UH2_0))) }\n",
       "\n",
       ".py output:\n",
       "{ name = __assert; actual = 01; expected = UH2_1 (\"01\", US1_0 US0_0, UH1_0, UH2_1 (\"02\", US1_0 US0_0, UH1_0, UH2_1 (\"03\", US1_0 US0_0, UH1_0, UH2_0))) }\n",
       "\n"
      ]
     },
     "metadata": {},
     "output_type": "display_data"
    },
    {
     "name": "stdout",
     "output_type": "stream",
     "text": [
      ".fsx output:\n",
      "{ name = __assert; actual = 01; expected = UH2_1\n",
      "  (\"01\", US1_0 US0_0, UH1_0,\n",
      "   UH2_1 (\"02\", US1_0 US0_0, UH1_0, UH2_1 (\"03\", US1_0 US0_0, UH1_0, UH2_0))) }\n"
     ]
    }
   ],
   "source": [
    "//// test\n",
    "///! fsharp\n",
    "///! cuda\n",
    "///! rust\n",
    "///! typescript\n",
    "///! python\n",
    "\n",
    "get_tasks ()\n",
    "|> sm'.format_debug\n",
    "|> _assert sm'.contains \"01\""
   ]
  },
  {
   "cell_type": "code",
   "execution_count": null,
   "metadata": {
    "dotnet_interactive": {
     "language": "spiral"
    },
    "polyglot_notebook": {
     "kernelName": "spiral"
    }
   },
   "outputs": [
    {
     "data": {
      "text/plain": [
       ".py output (Cuda):\n",
       "{ name = __assert_eq; actual = 01; expected = 01 }\n",
       "\n",
       ".rs output:\n",
       "{ name = __assert_eq; actual = \"01\"; expected = \"01\" }\n",
       "\n",
       ".ts output:\n",
       "{ name = __assert_eq; actual = 01; expected = 01 }\n",
       "\n",
       ".py output:\n",
       "{ name = __assert_eq; actual = 01; expected = 01 }\n",
       "\n"
      ]
     },
     "metadata": {},
     "output_type": "display_data"
    },
    {
     "name": "stdout",
     "output_type": "stream",
     "text": [
      ".fsx output:\n",
      "{ name = __assert_eq; actual = \"01\"; expected = \"01\" }\n"
     ]
    }
   ],
   "source": [
    "//// test\n",
    "///! fsharp\n",
    "///! cuda\n",
    "///! rust\n",
    "///! typescript\n",
    "///! python\n",
    "\n",
    "get_tasks ()\n",
    "|> listm'.try_item 0i32\n",
    "|> fun (Some task) => task.task.name\n",
    "|> _assert_eq (task_name \"01\")"
   ]
  },
  {
   "cell_type": "code",
   "execution_count": null,
   "metadata": {
    "dotnet_interactive": {
     "language": "spiral"
    },
    "polyglot_notebook": {
     "kernelName": "spiral"
    }
   },
   "outputs": [
    {
     "name": "stdout",
     "output_type": "stream",
     "text": [
      "Task Task a \n",
      "01   01   b \n",
      "02   02   c \n",
      "03   03   d \n",
      "          e \n"
     ]
    }
   ],
   "source": [
    "//// test\n",
    "///! fsharp\n",
    "////! cuda\n",
    "////! typescript\n",
    "////! python\n",
    "///// print_code\n",
    "\n",
    "inl print padding cols =\n",
    "    ({ lines = []; last_lines = []; max_acc = 0i32 }, cols)\n",
    "    ||> listm.fold fun { last_lines max_acc } lines =>\n",
    "        inl { count max } =\n",
    "            (lines, { count = 0i32; max = 0i32 })\n",
    "            ||> listm.foldBack fun line { count max } => {\n",
    "                count = count + 1\n",
    "                max =\n",
    "                    inl len = line |> sm'.length\n",
    "                    if len > max\n",
    "                    then len\n",
    "                    else max\n",
    "            }\n",
    "        inl { lines } =\n",
    "            (lines, { lines = []; i = 0i32 })\n",
    "            ||> listm.foldBack fun line { lines i } => {\n",
    "                lines =\n",
    "                    inl last_line =\n",
    "                        last_lines\n",
    "                        |> listm'.try_item (count - i - 1)\n",
    "                        |> optionm'.default_with fun () =>\n",
    "                            \" \" |> sm'.replicate max_acc\n",
    "                    inl line =\n",
    "                        if padding = 0\n",
    "                        then line\n",
    "                        else\n",
    "                            inl padding = \" \" |> sm'.replicate padding\n",
    "                            $'$\"{!line}{!padding}\"'\n",
    "                    inl line = line |> sm'.pad_right (max + padding) ' '\n",
    "                    $'$\"{!last_line}{!line}\"' :: lines\n",
    "                i = i + 1\n",
    "            }\n",
    "        {\n",
    "            lines\n",
    "            last_lines = lines\n",
    "            max_acc = max_acc + max + padding\n",
    "        }\n",
    "    |> fun x => x.lines\n",
    "    |> listm'.box\n",
    "    |> seq.of_list'\n",
    "    |> sm'.concat \"\\n\"\n",
    "\n",
    "inl col () =\n",
    "    [ \"Task\" ]\n",
    "    ++ (\n",
    "        get_tasks ()\n",
    "        |> listm.map fun task =>\n",
    "            inl (task_name name) = task.task.name\n",
    "            name\n",
    "    )\n",
    "\n",
    "inl cols () =\n",
    "    [\n",
    "        col ()\n",
    "        col ()\n",
    "        [ \"a\"; \"b\"; \"c\"; \"d\"; \"e\" ]\n",
    "    ]\n",
    "\n",
    "inl main () =\n",
    "    cols ()\n",
    "    |> print 1i32\n",
    "    |> console.write_line"
   ]
  }
 ],
 "metadata": {},
 "nbformat": 4,
 "nbformat_minor": 5
}