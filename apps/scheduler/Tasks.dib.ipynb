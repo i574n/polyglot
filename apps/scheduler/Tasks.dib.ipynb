{
 "cells": [
  {
   "cell_type": "markdown",
   "metadata": {},
   "source": [
    "## Tasks (Polyglot)"
   ]
  },
  {
   "cell_type": "code",
   "execution_count": null,
   "metadata": {
    "dotnet_interactive": {
     "language": "spiral"
    },
    "polyglot_notebook": {
     "kernelName": "spiral"
    }
   },
   "outputs": [],
   "source": [
    "//// test\n",
    "\n",
    "open testing"
   ]
  },
  {
   "cell_type": "code",
   "execution_count": null,
   "metadata": {
    "dotnet_interactive": {
     "language": "spiral"
    },
    "polyglot_notebook": {
     "kernelName": "spiral"
    }
   },
   "outputs": [],
   "source": [
    "open sm'_operators"
   ]
  },
  {
   "cell_type": "markdown",
   "metadata": {},
   "source": [
    "## task_id"
   ]
  },
  {
   "cell_type": "code",
   "execution_count": null,
   "metadata": {
    "dotnet_interactive": {
     "language": "spiral"
    },
    "polyglot_notebook": {
     "kernelName": "spiral"
    }
   },
   "outputs": [],
   "source": [
    "nominal task_id = string"
   ]
  },
  {
   "cell_type": "markdown",
   "metadata": {},
   "source": [
    "## task_name"
   ]
  },
  {
   "cell_type": "code",
   "execution_count": null,
   "metadata": {
    "dotnet_interactive": {
     "language": "spiral"
    },
    "polyglot_notebook": {
     "kernelName": "spiral"
    }
   },
   "outputs": [],
   "source": [
    "nominal task_name = string"
   ]
  },
  {
   "cell_type": "markdown",
   "metadata": {},
   "source": [
    "## manual_scheduling"
   ]
  },
  {
   "cell_type": "code",
   "execution_count": null,
   "metadata": {
    "dotnet_interactive": {
     "language": "spiral"
    },
    "polyglot_notebook": {
     "kernelName": "spiral"
    }
   },
   "outputs": [],
   "source": [
    "union manual_scheduling =\n",
    "    | WithSuggestion\n",
    "    | WithoutSuggestion"
   ]
  },
  {
   "cell_type": "markdown",
   "metadata": {},
   "source": [
    "## recurrency_offset"
   ]
  },
  {
   "cell_type": "code",
   "execution_count": null,
   "metadata": {
    "dotnet_interactive": {
     "language": "spiral"
    },
    "polyglot_notebook": {
     "kernelName": "spiral"
    }
   },
   "outputs": [],
   "source": [
    "union recurrency_offset =\n",
    "    | Days : int\n",
    "    | Weeks : int\n",
    "    | Months : int"
   ]
  },
  {
   "cell_type": "markdown",
   "metadata": {},
   "source": [
    "## fixed_recurrency"
   ]
  },
  {
   "cell_type": "code",
   "execution_count": null,
   "metadata": {
    "dotnet_interactive": {
     "language": "spiral"
    },
    "polyglot_notebook": {
     "kernelName": "spiral"
    }
   },
   "outputs": [],
   "source": [
    "union fixed_recurrency =\n",
    "    | Weekly : date_time.day_of_week\n",
    "    | Monthly : date_time.day\n",
    "    | Yearly : date_time.day * date_time.month"
   ]
  },
  {
   "cell_type": "markdown",
   "metadata": {},
   "source": [
    "## recurrency"
   ]
  },
  {
   "cell_type": "code",
   "execution_count": null,
   "metadata": {
    "dotnet_interactive": {
     "language": "spiral"
    },
    "polyglot_notebook": {
     "kernelName": "spiral"
    }
   },
   "outputs": [],
   "source": [
    "union recurrency =\n",
    "    | Offset : recurrency_offset\n",
    "    | Fixed : list fixed_recurrency"
   ]
  },
  {
   "cell_type": "markdown",
   "metadata": {},
   "source": [
    "## scheduling"
   ]
  },
  {
   "cell_type": "code",
   "execution_count": null,
   "metadata": {
    "dotnet_interactive": {
     "language": "spiral"
    },
    "polyglot_notebook": {
     "kernelName": "spiral"
    }
   },
   "outputs": [],
   "source": [
    "union scheduling =\n",
    "    | Manual : manual_scheduling\n",
    "    | Recurrent : recurrency"
   ]
  },
  {
   "cell_type": "markdown",
   "metadata": {},
   "source": [
    "## task"
   ]
  },
  {
   "cell_type": "code",
   "execution_count": null,
   "metadata": {
    "dotnet_interactive": {
     "language": "spiral"
    },
    "polyglot_notebook": {
     "kernelName": "spiral"
    }
   },
   "outputs": [],
   "source": [
    "type task =\n",
    "    {\n",
    "        id : task_id\n",
    "        name : task_name\n",
    "        scheduling : scheduling\n",
    "    }"
   ]
  },
  {
   "cell_type": "markdown",
   "metadata": {},
   "source": [
    "## date"
   ]
  },
  {
   "cell_type": "code",
   "execution_count": null,
   "metadata": {
    "dotnet_interactive": {
     "language": "spiral"
    },
    "polyglot_notebook": {
     "kernelName": "spiral"
    }
   },
   "outputs": [],
   "source": [
    "type date =\n",
    "    {\n",
    "        year : date_time.year\n",
    "        month : date_time.month\n",
    "        day : date_time.day\n",
    "    }"
   ]
  },
  {
   "cell_type": "markdown",
   "metadata": {},
   "source": [
    "## status"
   ]
  },
  {
   "cell_type": "code",
   "execution_count": null,
   "metadata": {
    "dotnet_interactive": {
     "language": "spiral"
    },
    "polyglot_notebook": {
     "kernelName": "spiral"
    }
   },
   "outputs": [],
   "source": [
    "union status =\n",
    "    | Postponed : option ()"
   ]
  },
  {
   "cell_type": "markdown",
   "metadata": {},
   "source": [
    "### action"
   ]
  },
  {
   "cell_type": "code",
   "execution_count": null,
   "metadata": {
    "dotnet_interactive": {
     "language": "spiral"
    },
    "polyglot_notebook": {
     "kernelName": "spiral"
    }
   },
   "outputs": [],
   "source": [
    "union action =\n",
    "    | SetDate : date\n",
    "    | AddTask : task\n",
    "    | SetScheduling : task * scheduling\n",
    "    | AddStatus : task * date * status"
   ]
  },
  {
   "cell_type": "markdown",
   "metadata": {},
   "source": [
    "## get_actions (test)"
   ]
  },
  {
   "cell_type": "code",
   "execution_count": null,
   "metadata": {
    "dotnet_interactive": {
     "language": "spiral"
    },
    "polyglot_notebook": {
     "kernelName": "spiral"
    }
   },
   "outputs": [],
   "source": [
    "//// test\n",
    "\n",
    "inl get_actions () : list action =\n",
    "    open date_time\n",
    "    [\n",
    "        SetDate {\n",
    "            year = year 2000\n",
    "            month = February\n",
    "            day = day 29\n",
    "        }\n",
    "        AddTask {\n",
    "            id = task_id \"1\"\n",
    "            name = task_name \"1\"\n",
    "            scheduling = Manual WithSuggestion\n",
    "        }\n",
    "        AddTask {\n",
    "            id = task_id \"02\"\n",
    "            name = task_name \"02\"\n",
    "            scheduling = Manual WithSuggestion\n",
    "        }\n",
    "        AddTask {\n",
    "            id = task_id \"003\"\n",
    "            name = task_name \"003\"\n",
    "            scheduling = Manual WithSuggestion\n",
    "        }\n",
    "    ]"
   ]
  },
  {
   "cell_type": "code",
   "execution_count": null,
   "metadata": {
    "dotnet_interactive": {
     "language": "spiral"
    },
    "polyglot_notebook": {
     "kernelName": "spiral"
    }
   },
   "outputs": [
    {
     "data": {
      "text/plain": [
       ".py output (Python):\n",
       "{ name = __assert; actual = 003; expected = UH1_1(v0=US1_0(v0=2000, v1=US0_1(), v2=29), v1=UH1_1(v0=US1_1(v0='1', v1='1', v2=US2_0(v0=US3_0())), v1=UH1_1(v0=US1_1(v0='02', v1='02', v2=US2_0(v0=US3_0())), v1=UH1_1(v0=US1_1(v0='003', v1='003', v2=US2_0(v0=US3_0())), v1=UH1_0())))) }\n",
       "\n",
       ".rs output:\n",
       "{ name = __assert; actual = 003; expected = UH1_1(US1_0(2000, US0_1, 29), UH1_1(US1_1(\"1\", \"1\", US2_0(US3_0)), UH1_1(US1_1(\"02\", \"02\", US2_0(US3_0)), UH1_1(US1_1(\"003\", \"003\", US2_0(US3_0)), UH1_0)))) }\n",
       "\n",
       ".ts output:\n",
       "{ name = __assert; actual = 003; expected = UH1_1 (US1_0 (2000, US0_1, 29), UH1_1 (US1_1 (1, 1, US2_0 US3_0), UH1_1 (US1_1 (02, 02, US2_0 US3_0), UH1_1 (US1_1 (003, 003, US2_0 US3_0), UH1_0)))) }\n",
       "\n",
       ".py output:\n",
       "{ name = __assert; actual = 003; expected = UH1_1 (US1_0 (2000, US0_1, 29), UH1_1 (US1_1 (\"1\", \"1\", US2_0 US3_0), UH1_1 (US1_1 (\"02\", \"02\", US2_0 US3_0), UH1_1 (US1_1 (\"003\", \"003\", US2_0 US3_0), UH1_0)))) }\n",
       "\n",
       ".gleam output (Gleam):\n",
       "{ name = __assert; actual = 003; expected = Uh1i1(Us1i0(2000, Us0i1, 29), Uh1i1(Us1i1(\"1\", \"1\", Us2i0(Us3i0)), Uh1i1(Us1i1(\"02\", \"02\", Us2i0(Us3i0)), Uh1i1(Us1i1(\"003\", \"003\", Us2i0(Us3i0)), Uh1i0)))) }\n",
       "\n"
      ]
     },
     "metadata": {},
     "output_type": "display_data"
    },
    {
     "name": "stdout",
     "output_type": "stream",
     "text": [
      ".fsx output:\n",
      "{ name = __assert; actual = 003; expected = UH1_1\n",
      "  (US1_0 (2000, US0_1, 29),\n",
      "   UH1_1\n",
      "     (US1_1 (\"1\", \"1\", US2_0 US3_0),\n",
      "      UH1_1\n",
      "        (US1_1 (\"02\", \"02\", US2_0 US3_0),\n",
      "         UH1_1 (US1_1 (\"003\", \"003\", US2_0 US3_0), UH1_0)))) }\n"
     ]
    }
   ],
   "source": [
    "//// test\n",
    "///! gleam\n",
    "///! fsharp\n",
    "///! cuda\n",
    "///! rust\n",
    "///! typescript\n",
    "///! python\n",
    "\n",
    "get_actions ()\n",
    "|> sm'.format_debug\n",
    "|> _assert sm'.contains \"003\""
   ]
  },
  {
   "cell_type": "code",
   "execution_count": null,
   "metadata": {
    "dotnet_interactive": {
     "language": "spiral"
    },
    "polyglot_notebook": {
     "kernelName": "spiral"
    }
   },
   "outputs": [
    {
     "data": {
      "text/plain": [
       ".py output (Python):\n",
       "{ name = __assert_eq; actual = 003; expected = 003 }\n",
       "\n",
       ".rs output:\n",
       "{ name = __assert_eq; actual = \"003\"; expected = \"003\" }\n",
       "\n",
       ".ts output:\n",
       "{ name = __assert_eq; actual = 003; expected = 003 }\n",
       "\n",
       ".py output:\n",
       "{ name = __assert_eq; actual = 003; expected = 003 }\n",
       "\n",
       ".gleam output (Gleam):\n",
       "{ name = __assert_eq; actual = \"003\"; expected = \"003\" }\n",
       "\n"
      ]
     },
     "metadata": {},
     "output_type": "display_data"
    },
    {
     "name": "stdout",
     "output_type": "stream",
     "text": [
      ".fsx output:\n",
      "{ name = __assert_eq; actual = \"003\"; expected = \"003\" }\n"
     ]
    }
   ],
   "source": [
    "//// test\n",
    "///! gleam\n",
    "///! fsharp\n",
    "///! cuda\n",
    "///! rust\n",
    "///! typescript\n",
    "///! python\n",
    "\n",
    "get_actions ()\n",
    "|> listm'.try_item 3i32\n",
    "|> fun (Some action) =>\n",
    "    match action with\n",
    "    | AddTask { name } => name\n",
    "|> _assert_eq (task_name \"003\")"
   ]
  },
  {
   "cell_type": "code",
   "execution_count": null,
   "metadata": {
    "dotnet_interactive": {
     "language": "spiral"
    },
    "polyglot_notebook": {
     "kernelName": "spiral"
    }
   },
   "outputs": [],
   "source": [
    "//// test\n",
    "\n",
    "inl print padding cols =\n",
    "    ({ lines = []; last_lines = []; max_acc = 0i32 }, cols)\n",
    "    ||> listm.fold fun { last_lines max_acc } lines =>\n",
    "        inl { count max } =\n",
    "            (lines, { count = 0i32; max = 0i32 })\n",
    "            ||> listm.foldBack fun line { count max } => {\n",
    "                count = count + 1\n",
    "                max =\n",
    "                    inl len = line |> sm'.length\n",
    "                    if len > max\n",
    "                    then len\n",
    "                    else max\n",
    "            }\n",
    "        inl { lines } =\n",
    "            (lines, { lines = []; i = 0i32 })\n",
    "            ||> listm.foldBack fun line { lines i } => {\n",
    "                lines =\n",
    "                    inl last_line =\n",
    "                        last_lines\n",
    "                        |> listm'.try_item (count - i - 1)\n",
    "                        |> optionm'.default_with fun () =>\n",
    "                            \" \" |> sm'.replicate max_acc\n",
    "                    inl line =\n",
    "                        if padding = 0\n",
    "                        then line\n",
    "                        else\n",
    "                            inl padding = \" \" |> sm'.replicate padding\n",
    "                            line ++# padding\n",
    "                    inl line = line |> sm'.pad_right (max + padding) ' '\n",
    "                    last_line ++# line :: lines\n",
    "                i = i + 1\n",
    "            }\n",
    "        {\n",
    "            lines\n",
    "            last_lines = lines\n",
    "            max_acc = max_acc + max + padding\n",
    "        }\n",
    "    |> fun x => x.lines\n",
    "    |> listm'.box\n",
    "    |> seq.of_list'\n",
    "    |> sm'.concat \"\\n\"\n",
    "\n",
    "inl col () =\n",
    "    [ \"Task\" ]\n",
    "    ++ (\n",
    "        get_actions ()\n",
    "        |> listm.map fun action =>\n",
    "            match action with\n",
    "            | AddTask { name } =>\n",
    "                inl (task_name name) = name\n",
    "                name\n",
    "            | _ => \"\"\n",
    "    )\n",
    "\n",
    "inl cols () =\n",
    "    [\n",
    "        col ()\n",
    "        col ()\n",
    "        [ \"a\"; \"b\"; \"c\"; \"d\"; \"e\" ]\n",
    "    ]"
   ]
  },
  {
   "cell_type": "code",
   "execution_count": null,
   "metadata": {
    "dotnet_interactive": {
     "language": "spiral"
    },
    "polyglot_notebook": {
     "kernelName": "spiral"
    }
   },
   "outputs": [
    {
     "data": {
      "text/plain": [
       "\n",
       ".py output (Python):\n",
       "Task Task a \n",
       "          b \n",
       "1    1    c \n",
       "02   02   d \n",
       "003  003  e \n",
       "\n",
       "\n",
       ".rs output:\n",
       "Task Task a \n",
       "          b \n",
       "1    1    c \n",
       "02   02   d \n",
       "003  003  e \n",
       "\n",
       "\n",
       ".ts output:\n",
       "Task Task a \n",
       "          b \n",
       "1    1    c \n",
       "02   02   d \n",
       "003  003  e \n",
       "\n",
       "\n",
       ".py output:\n",
       "Task Task a \n",
       "          b \n",
       "1    1    c \n",
       "02   02   d \n",
       "003  003  e \n",
       "\n",
       "\n",
       ".gleam output (Gleam):\n",
       "Task Task a \n",
       "          b \n",
       "1    1    c \n",
       "02   02   d \n",
       "003  003  e \n",
       "\n",
       "\n"
      ]
     },
     "metadata": {},
     "output_type": "display_data"
    },
    {
     "name": "stdout",
     "output_type": "stream",
     "text": [
      ".fsx output:\n",
      "Task Task a \n",
      "          b \n",
      "1    1    c \n",
      "02   02   d \n",
      "003  003  e \n"
     ]
    }
   ],
   "source": [
    "//// test\n",
    "///! gleam\n",
    "///! fsharp\n",
    "///! cuda\n",
    "///! rust\n",
    "///! typescript\n",
    "///! python\n",
    "///// print_code\n",
    "\n",
    "cols ()\n",
    "|> print 1i32\n",
    "|> console.write_line"
   ]
  },
  {
   "cell_type": "code",
   "execution_count": null,
   "metadata": {
    "dotnet_interactive": {
     "language": "spiral"
    },
    "polyglot_notebook": {
     "kernelName": "spiral"
    }
   },
   "outputs": [
    {
     "name": "stdout",
     "output_type": "stream",
     "text": [
      "    | 2000               |\n",
      "    | february  | march  |\n",
      "    |sa|su|mo|tu|we|th|fr|\n",
      "    |26|27|28|29|01|02|03|\n",
      "1   |\u001B[97m??\u001B[0m|\u001B[97m??\u001B[0m|\u001B[92m??\u001B[0m|\u001B[93m??\u001B[0m|\u001B[91m??\u001B[0m|\u001B[95m??\u001B[0m|\u001B[96m??\u001B[0m|\n",
      "02  |\u001B[97m??\u001B[0m|\u001B[97m??\u001B[0m|\u001B[92m??\u001B[0m|\u001B[93m??\u001B[0m|\u001B[91m??\u001B[0m|\u001B[95m??\u001B[0m|\u001B[96m??\u001B[0m|\n",
      "003 |\u001B[97m??\u001B[0m|\u001B[97m??\u001B[0m|\u001B[92m??\u001B[0m|\u001B[93m??\u001B[0m|\u001B[91m??\u001B[0m|\u001B[95m??\u001B[0m|\u001B[96m??\u001B[0m|\n"
     ]
    }
   ],
   "source": [
    "//// test\n",
    "\n",
    "inl task_name_width =\n",
    "    (0, get_actions ())\n",
    "    ||> listm.fold fun acc action =>\n",
    "        match action with\n",
    "        | AddTask { name } =>\n",
    "            inl (task_name name) = name\n",
    "            inl l = name |> sm'.length\n",
    "            if l > acc\n",
    "            then l\n",
    "            else acc\n",
    "        | _ => acc\n",
    "    |> (+) 1\n",
    "\n",
    "\n",
    "(\"\" |> sm'.pad_right task_name_width ' ')\n",
    "++# \"|\" ++# \" 2000               \"\n",
    "++# \"|\"\n",
    "|> console.write_line\n",
    "\n",
    "(\"\" |> sm'.pad_right task_name_width ' ')\n",
    "++# \"|\" ++# \" february  \"\n",
    "++# \"|\" ++# \" march  \"\n",
    "++# \"|\"\n",
    "|> console.write_line\n",
    "\n",
    "(\"\" |> sm'.pad_right task_name_width ' ')\n",
    "++# \"|\" ++# \"sa\"\n",
    "++# \"|\" ++# \"su\"\n",
    "++# \"|\" ++# \"mo\"\n",
    "++# \"|\" ++# \"tu\"\n",
    "++# \"|\" ++# \"we\"\n",
    "++# \"|\" ++# \"th\"\n",
    "++# \"|\" ++# \"fr\"\n",
    "++# \"|\"\n",
    "|> console.write_line\n",
    "\n",
    "(\"\" |> sm'.pad_right task_name_width ' ')\n",
    "++# \"|\" ++# \"26\"\n",
    "++# \"|\" ++# \"27\"\n",
    "++# \"|\" ++# \"28\"\n",
    "++# \"|\" ++# \"29\"\n",
    "++# \"|\" ++# \"01\"\n",
    "++# \"|\" ++# \"02\"\n",
    "++# \"|\" ++# \"03\"\n",
    "++# \"|\"\n",
    "|> console.write_line\n",
    "\n",
    "inl lines =\n",
    "    (\"\", get_actions ())\n",
    "    ||> listm.fold fun acc action =>\n",
    "        match action with\n",
    "        | AddTask { name } =>\n",
    "            inl (task_name name) = name\n",
    "            if acc = \"\"\n",
    "            then acc\n",
    "            else acc ++# \"\\n\"\n",
    "            ++# (name |> sm'.pad_right task_name_width ' ')\n",
    "            ++# \"|\" ++# console.color_bright_white () ++# \"??\" ++# console.color_reset ()\n",
    "            ++# \"|\" ++# console.color_bright_white () ++# \"??\" ++# console.color_reset ()\n",
    "            ++# \"|\" ++# console.color_bright_green () ++# \"??\" ++# console.color_reset ()\n",
    "            ++# \"|\" ++# console.color_yellow () ++# \"??\" ++# console.color_reset ()\n",
    "            ++# \"|\" ++# console.color_bright_red () ++# \"??\" ++# console.color_reset ()\n",
    "            ++# \"|\" ++# console.color_bright_magenta () ++# \"??\" ++# console.color_reset ()\n",
    "            ++# \"|\" ++# console.color_bright_cyan () ++# \"??\" ++# console.color_reset ()\n",
    "            ++# \"|\"\n",
    "        | _ => \"\"\n",
    "lines |> console.write_line"
   ]
  }
 ],
 "metadata": {},
 "nbformat": 4,
 "nbformat_minor": 5
}