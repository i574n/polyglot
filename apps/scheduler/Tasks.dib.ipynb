{
 "cells": [
  {
   "cell_type": "markdown",
   "metadata": {},
   "source": [
    "## Tasks (Polyglot)"
   ]
  },
  {
   "cell_type": "code",
   "execution_count": null,
   "metadata": {
    "dotnet_interactive": {
     "language": "spiral"
    },
    "polyglot_notebook": {
     "kernelName": "spiral"
    }
   },
   "outputs": [
    {
     "name": "stdout",
     "output_type": "stream",
     "text": [
      "()\n",
      "\n"
     ]
    }
   ],
   "source": [
    "//// test\n",
    "\n",
    "open testing"
   ]
  },
  {
   "cell_type": "markdown",
   "metadata": {},
   "source": [
    "## types"
   ]
  },
  {
   "cell_type": "code",
   "execution_count": null,
   "metadata": {
    "dotnet_interactive": {
     "language": "spiral"
    },
    "polyglot_notebook": {
     "kernelName": "spiral"
    }
   },
   "outputs": [
    {
     "name": "stdout",
     "output_type": "stream",
     "text": [
      "()\n",
      "\n"
     ]
    }
   ],
   "source": [
    "inl types () =\n",
    "    rust.types ()\n",
    "    sm'.types ()"
   ]
  },
  {
   "cell_type": "markdown",
   "metadata": {},
   "source": [
    "## task_name"
   ]
  },
  {
   "cell_type": "code",
   "execution_count": null,
   "metadata": {
    "dotnet_interactive": {
     "language": "spiral"
    },
    "polyglot_notebook": {
     "kernelName": "spiral"
    }
   },
   "outputs": [
    {
     "name": "stdout",
     "output_type": "stream",
     "text": [
      "()\n",
      "\n"
     ]
    }
   ],
   "source": [
    "nominal task_name = string"
   ]
  },
  {
   "cell_type": "markdown",
   "metadata": {},
   "source": [
    "## manual_scheduling"
   ]
  },
  {
   "cell_type": "code",
   "execution_count": null,
   "metadata": {
    "dotnet_interactive": {
     "language": "spiral"
    },
    "polyglot_notebook": {
     "kernelName": "spiral"
    }
   },
   "outputs": [
    {
     "name": "stdout",
     "output_type": "stream",
     "text": [
      "()\n",
      "\n"
     ]
    }
   ],
   "source": [
    "union manual_scheduling =\n",
    "    | WithSuggestion\n",
    "    | WithoutSuggestion"
   ]
  },
  {
   "cell_type": "markdown",
   "metadata": {},
   "source": [
    "## recurrency_offset"
   ]
  },
  {
   "cell_type": "code",
   "execution_count": null,
   "metadata": {
    "dotnet_interactive": {
     "language": "spiral"
    },
    "polyglot_notebook": {
     "kernelName": "spiral"
    }
   },
   "outputs": [
    {
     "name": "stdout",
     "output_type": "stream",
     "text": [
      "()\n",
      "\n"
     ]
    }
   ],
   "source": [
    "union recurrency_offset =\n",
    "    | Days : i32\n",
    "    | Weeks : i32\n",
    "    | Months : i32"
   ]
  },
  {
   "cell_type": "markdown",
   "metadata": {},
   "source": [
    "## day_of_week"
   ]
  },
  {
   "cell_type": "code",
   "execution_count": null,
   "metadata": {
    "dotnet_interactive": {
     "language": "spiral"
    },
    "polyglot_notebook": {
     "kernelName": "spiral"
    }
   },
   "outputs": [
    {
     "name": "stdout",
     "output_type": "stream",
     "text": [
      "()\n",
      "\n"
     ]
    }
   ],
   "source": [
    "union day_of_week =\n",
    "    | Sunday\n",
    "    | Monday\n",
    "    | Tuesday\n",
    "    | Wednesday\n",
    "    | Thursday\n",
    "    | Friday\n",
    "    | Saturday"
   ]
  },
  {
   "cell_type": "markdown",
   "metadata": {},
   "source": [
    "## month"
   ]
  },
  {
   "cell_type": "code",
   "execution_count": null,
   "metadata": {
    "dotnet_interactive": {
     "language": "spiral"
    },
    "polyglot_notebook": {
     "kernelName": "spiral"
    }
   },
   "outputs": [
    {
     "name": "stdout",
     "output_type": "stream",
     "text": [
      "()\n",
      "\n"
     ]
    }
   ],
   "source": [
    "union month =\n",
    "    | January\n",
    "    | February\n",
    "    | March\n",
    "    | April\n",
    "    | May\n",
    "    | June\n",
    "    | July\n",
    "    | August\n",
    "    | September\n",
    "    | October\n",
    "    | November\n",
    "    | December"
   ]
  },
  {
   "cell_type": "markdown",
   "metadata": {},
   "source": [
    "## day"
   ]
  },
  {
   "cell_type": "code",
   "execution_count": null,
   "metadata": {
    "dotnet_interactive": {
     "language": "spiral"
    },
    "polyglot_notebook": {
     "kernelName": "spiral"
    }
   },
   "outputs": [
    {
     "name": "stdout",
     "output_type": "stream",
     "text": [
      "()\n",
      "\n"
     ]
    }
   ],
   "source": [
    "nominal day = i32"
   ]
  },
  {
   "cell_type": "markdown",
   "metadata": {},
   "source": [
    "## year"
   ]
  },
  {
   "cell_type": "code",
   "execution_count": null,
   "metadata": {
    "dotnet_interactive": {
     "language": "spiral"
    },
    "polyglot_notebook": {
     "kernelName": "spiral"
    }
   },
   "outputs": [
    {
     "name": "stdout",
     "output_type": "stream",
     "text": [
      "()\n",
      "\n"
     ]
    }
   ],
   "source": [
    "nominal year = i32"
   ]
  },
  {
   "cell_type": "markdown",
   "metadata": {},
   "source": [
    "## fixed_recurrency"
   ]
  },
  {
   "cell_type": "code",
   "execution_count": null,
   "metadata": {
    "dotnet_interactive": {
     "language": "spiral"
    },
    "polyglot_notebook": {
     "kernelName": "spiral"
    }
   },
   "outputs": [
    {
     "name": "stdout",
     "output_type": "stream",
     "text": [
      "()\n",
      "\n"
     ]
    }
   ],
   "source": [
    "union fixed_recurrency =\n",
    "    | Weekly : day_of_week\n",
    "    | Monthly : day\n",
    "    | Yearly : day * month"
   ]
  },
  {
   "cell_type": "markdown",
   "metadata": {},
   "source": [
    "## recurrency"
   ]
  },
  {
   "cell_type": "code",
   "execution_count": null,
   "metadata": {
    "dotnet_interactive": {
     "language": "spiral"
    },
    "polyglot_notebook": {
     "kernelName": "spiral"
    }
   },
   "outputs": [
    {
     "name": "stdout",
     "output_type": "stream",
     "text": [
      "()\n",
      "\n"
     ]
    }
   ],
   "source": [
    "union recurrency =\n",
    "    | Offset : recurrency_offset\n",
    "    | Fixed : list fixed_recurrency"
   ]
  },
  {
   "cell_type": "markdown",
   "metadata": {},
   "source": [
    "## scheduling"
   ]
  },
  {
   "cell_type": "code",
   "execution_count": null,
   "metadata": {
    "dotnet_interactive": {
     "language": "spiral"
    },
    "polyglot_notebook": {
     "kernelName": "spiral"
    }
   },
   "outputs": [
    {
     "name": "stdout",
     "output_type": "stream",
     "text": [
      "()\n",
      "\n"
     ]
    }
   ],
   "source": [
    "union scheduling =\n",
    "    | Manual : manual_scheduling\n",
    "    | Recurrent : recurrency"
   ]
  },
  {
   "cell_type": "markdown",
   "metadata": {},
   "source": [
    "## task"
   ]
  },
  {
   "cell_type": "code",
   "execution_count": null,
   "metadata": {
    "dotnet_interactive": {
     "language": "spiral"
    },
    "polyglot_notebook": {
     "kernelName": "spiral"
    }
   },
   "outputs": [
    {
     "name": "stdout",
     "output_type": "stream",
     "text": [
      "()\n",
      "\n"
     ]
    }
   ],
   "source": [
    "type task =\n",
    "    {\n",
    "        name : task_name\n",
    "        scheduling : scheduling\n",
    "    }"
   ]
  },
  {
   "cell_type": "markdown",
   "metadata": {},
   "source": [
    "## date"
   ]
  },
  {
   "cell_type": "code",
   "execution_count": null,
   "metadata": {
    "dotnet_interactive": {
     "language": "spiral"
    },
    "polyglot_notebook": {
     "kernelName": "spiral"
    }
   },
   "outputs": [
    {
     "name": "stdout",
     "output_type": "stream",
     "text": [
      "()\n",
      "\n"
     ]
    }
   ],
   "source": [
    "type date =\n",
    "    {\n",
    "        year : year\n",
    "        month : month\n",
    "        day : day\n",
    "    }"
   ]
  },
  {
   "cell_type": "markdown",
   "metadata": {},
   "source": [
    "## status"
   ]
  },
  {
   "cell_type": "code",
   "execution_count": null,
   "metadata": {
    "dotnet_interactive": {
     "language": "spiral"
    },
    "polyglot_notebook": {
     "kernelName": "spiral"
    }
   },
   "outputs": [
    {
     "name": "stdout",
     "output_type": "stream",
     "text": [
      "()\n",
      "\n"
     ]
    }
   ],
   "source": [
    "union status =\n",
    "    | Postponed : option ()"
   ]
  },
  {
   "cell_type": "markdown",
   "metadata": {},
   "source": [
    "## event"
   ]
  },
  {
   "cell_type": "code",
   "execution_count": null,
   "metadata": {
    "dotnet_interactive": {
     "language": "spiral"
    },
    "polyglot_notebook": {
     "kernelName": "spiral"
    }
   },
   "outputs": [
    {
     "name": "stdout",
     "output_type": "stream",
     "text": [
      "()\n",
      "\n"
     ]
    }
   ],
   "source": [
    "type event =\n",
    "    {\n",
    "        date : date\n",
    "        status : status\n",
    "    }"
   ]
  },
  {
   "cell_type": "markdown",
   "metadata": {},
   "source": [
    "## task_template"
   ]
  },
  {
   "cell_type": "code",
   "execution_count": null,
   "metadata": {
    "dotnet_interactive": {
     "language": "spiral"
    },
    "polyglot_notebook": {
     "kernelName": "spiral"
    }
   },
   "outputs": [
    {
     "name": "stdout",
     "output_type": "stream",
     "text": [
      "()\n",
      "\n"
     ]
    }
   ],
   "source": [
    "type task_template =\n",
    "    {\n",
    "        task : task\n",
    "        events : list event\n",
    "    }"
   ]
  },
  {
   "cell_type": "markdown",
   "metadata": {},
   "source": [
    "## get_tasks (test)"
   ]
  },
  {
   "cell_type": "code",
   "execution_count": null,
   "metadata": {
    "dotnet_interactive": {
     "language": "spiral"
    },
    "polyglot_notebook": {
     "kernelName": "spiral"
    }
   },
   "outputs": [
    {
     "name": "stdout",
     "output_type": "stream",
     "text": [
      "()\n",
      "\n"
     ]
    }
   ],
   "source": [
    "//// test\n",
    "\n",
    "inl get_tasks () : list task_template =\n",
    "    [\n",
    "        {\n",
    "            task =\n",
    "                {\n",
    "                    name = task_name \"01\"\n",
    "                    scheduling = Manual WithSuggestion\n",
    "                }\n",
    "            events = []\n",
    "        }\n",
    "        {\n",
    "            task =\n",
    "                {\n",
    "                    name = task_name \"02\"\n",
    "                    scheduling = Manual WithSuggestion\n",
    "                }\n",
    "            events = []\n",
    "        }\n",
    "        {\n",
    "            task =\n",
    "                {\n",
    "                    name = task_name \"03\"\n",
    "                    scheduling = Manual WithSuggestion\n",
    "                }\n",
    "            events = []\n",
    "        }\n",
    "    ]"
   ]
  },
  {
   "cell_type": "code",
   "execution_count": null,
   "metadata": {
    "dotnet_interactive": {
     "language": "spiral"
    },
    "polyglot_notebook": {
     "kernelName": "spiral"
    }
   },
   "outputs": [
    {
     "data": {
      "text/plain": [
       ".rs output:\n",
       "assert_string_contains / actual: \"01\" / expected: \"UH2_1(\n",
       "    UH0_0,\n",
       "    \"01\",\n",
       "    US4_0(\n",
       "        US3_0,\n",
       "    ),\n",
       "    UH2_1(\n",
       "        UH0_0,\n",
       "        \"02\",\n",
       "        US4_0(\n",
       "            US3_0,\n",
       "        ),\n",
       "        UH2_1(\n",
       "            UH0_0,\n",
       "            \"03\",\n",
       "            US4_0(\n",
       "                US3_0,\n",
       "            ),\n",
       "            UH2_0,\n",
       "        ),\n",
       "    ),\n",
       ")\"\n",
       "\n",
       "\n"
      ]
     },
     "metadata": {},
     "output_type": "display_data"
    },
    {
     "name": "stdout",
     "output_type": "stream",
     "text": [
      ".fsx:\n",
      "#if FABLE_COMPILER\n",
      "[<Fable.Core.Erase; Fable.Core.Emit(\"_\")>]\n",
      "#endif\n",
      "type Any = class end\n",
      "#if FABLE_COMPILER\n",
      "[<Fable.Core.Erase; Fable.Core.Emit(\"Func0<$0>\")>]\n",
      "#endif\n",
      "type Func0<'T> = class end\n",
      "#if FABLE_COMPILER\n",
      "[<Fable.Core.Erase; Fable.Core.Emit(\"Func1<$0, $1>\")>]\n",
      "#endif\n",
      "type Func0<'T, 'U> = class end\n",
      "#if FABLE_COMPILER\n",
      "[<Fable.Core.Erase; Fable.Core.Emit(\"Box<$0>\")>]\n",
      "#endif\n",
      "type Box<'T> = class end\n",
      "#if FABLE_COMPILER\n",
      "[<Fable.Core.Erase; Fable.Core.Emit(\"dyn $0\")>]\n",
      "#endif\n",
      "type Dyn<'T> = class end\n",
      "#if FABLE_COMPILER\n",
      "[<Fable.Core.Erase; Fable.Core.Emit(\"$0 + Send\")>]\n",
      "#endif\n",
      "type Send<'T> = class end\n",
      "#if FABLE_COMPILER\n",
      "[<Fable.Core.Erase; Fable.Core.Emit(\"Fn() -> $0\")>]\n",
      "#endif\n",
      "type Fn<'T> = class end\n",
      "#if FABLE_COMPILER\n",
      "[<Fable.Core.Erase; Fable.Core.Emit(\"Fn()\")>]\n",
      "#endif\n",
      "type FnUnit = class end\n",
      "#if FABLE_COMPILER\n",
      "[<Fable.Core.Erase; Fable.Core.Emit(\"FnOnce() -> $0\")>]\n",
      "#endif\n",
      "type FnOnce<'T> = class end\n",
      "#if FABLE_COMPILER\n",
      "[<Fable.Core.Erase; Fable.Core.Emit(\"Fn($0)\")>]\n",
      "#endif\n",
      "type ActionFn<'T> = class end\n",
      "#if FABLE_COMPILER\n",
      "[<Fable.Core.Erase; Fable.Core.Emit(\"Fn($0, $1)\")>]\n",
      "#endif\n",
      "type ActionFn2<'T, 'U> = class end\n",
      "#if FABLE_COMPILER\n",
      "[<Fable.Core.Erase; Fable.Core.Emit(\"impl $0\")>]\n",
      "#endif\n",
      "type Impl<'T> = class end\n",
      "#if FABLE_COMPILER\n",
      "[<Fable.Core.Erase; Fable.Core.Emit(\"mut $0\")>]\n",
      "#endif\n",
      "type Mut<'T> = class end\n",
      "#if FABLE_COMPILER\n",
      "[<Fable.Core.Erase; Fable.Core.Emit(\"&$0\")>]\n",
      "#endif\n",
      "type Ref<'T> = class end\n",
      "#if FABLE_COMPILER\n",
      "[<Fable.Core.Erase; Fable.Core.Emit(\"&'static $0\")>]\n",
      "#endif\n",
      "type StaticRef<'T> = class end\n",
      "#if FABLE_COMPILER\n",
      "[<Fable.Core.Erase; Fable.Core.Emit(\"MutCell<$0>\")>]\n",
      "#endif\n",
      "type MutCell<'T> = class end\n",
      "#if FABLE_COMPILER\n",
      "[<Fable.Core.Erase; Fable.Core.Emit(\"std::any::Any\")>]\n",
      "#endif\n",
      "type std_any_Any = class end\n",
      "#if FABLE_COMPILER\n",
      "[<Fable.Core.Erase; Fable.Core.Emit(\"std::borrow::Cow<$0>\")>]\n",
      "#endif\n",
      "type std_borrow_Cow<'T> = class end\n",
      "#if FABLE_COMPILER\n",
      "[<Fable.Core.Erase; Fable.Core.Emit(\"std::cell::RefCell<$0>\")>]\n",
      "#endif\n",
      "type std_cell_RefCell<'T> = class end\n",
      "#if FABLE_COMPILER\n",
      "[<Fable.Core.Erase; Fable.Core.Emit(\"std::pin::Pin<$0>\")>]\n",
      "#endif\n",
      "type std_pin_Pin<'T> = class end\n",
      "#if FABLE_COMPILER\n",
      "[<Fable.Core.Erase; Fable.Core.Emit(\"std::rc::Rc<$0>\")>]\n",
      "#endif\n",
      "type std_rc_Rc<'T> = class end\n",
      "#if FABLE_COMPILER\n",
      "[<Fable.Core.Erase; Fable.Core.Emit(\"std::rc::Weak<$0>\")>]\n",
      "#endif\n",
      "type std_rc_Weak<'T> = class end\n",
      "#if FABLE_COMPILER\n",
      "[<Fable.Core.Erase; Fable.Core.Emit(\"std::collections::HashMap<$0, $1>\")>]\n",
      "#endif\n",
      "type std_collections_HashMap<'K, 'V> = class end\n",
      "#if FABLE_COMPILER\n",
      "[<Fable.Core.Erase; Fable.Core.Emit(\"std::collections::BTreeMap<$0, $1>\")>]\n",
      "#endif\n",
      "type std_collections_BTreeMap<'K, 'V> = class end\n",
      "#if FABLE_COMPILER\n",
      "[<Fable.Core.Erase; Fable.Core.Emit(\"str\")>]\n",
      "#endif\n",
      "type Str = class end\n",
      "#if FABLE_COMPILER\n",
      "[<Fable.Core.Erase; Fable.Core.Emit(\"base64::DecodeError\")>]\n",
      "#endif\n",
      "type base64_DecodeError = class end\n",
      "#if FABLE_COMPILER\n",
      "[<Fable.Core.Erase; Fable.Core.Emit(\"borsh::io::Error\")>]\n",
      "#endif\n",
      "type borsh_io_Error = class end\n",
      "#if FABLE_COMPILER\n",
      "[<Fable.Core.Erase; Fable.Core.Emit(\"encoding_rs::Encoding\")>]\n",
      "#endif\n",
      "type encoding_rs_Encoding = class end\n",
      "#if FABLE_COMPILER\n",
      "[<Fable.Core.Erase; Fable.Core.Emit(\"js_sys::JsString\")>]\n",
      "#endif\n",
      "type js_sys_JsString = class end\n",
      "#if FABLE_COMPILER\n",
      "[<Fable.Core.Erase; Fable.Core.Emit(\"serde_json::Error\")>]\n",
      "#endif\n",
      "type serde_json_Error = class end\n",
      "#if FABLE_COMPILER\n",
      "[<Fable.Core.Erase; Fable.Core.Emit(\"serde_json::Value\")>]\n",
      "#endif\n",
      "type serde_json_Value = class end\n",
      "#if FABLE_COMPILER\n",
      "[<Fable.Core.Erase; Fable.Core.Emit(\"serde_wasm_bindgen::Error\")>]\n",
      "#endif\n",
      "type serde_wasm_bindgen_Error = class end\n",
      "#if FABLE_COMPILER\n",
      "[<Fable.Core.Erase; Fable.Core.Emit(\"std::ffi::OsStr\")>]\n",
      "#endif\n",
      "type std_ffi_OsStr = class end\n",
      "#if FABLE_COMPILER\n",
      "[<Fable.Core.Erase; Fable.Core.Emit(\"std::ffi::OsString\")>]\n",
      "#endif\n",
      "type std_ffi_OsString = class end\n",
      "#if FABLE_COMPILER\n",
      "[<Fable.Core.Erase; Fable.Core.Emit(\"std::fmt::Display<$0>\")>]\n",
      "#endif\n",
      "type std_fmt_Display<'T> = class end\n",
      "#if FABLE_COMPILER\n",
      "[<Fable.Core.Erase; Fable.Core.Emit(\"std::str::Utf8Error\")>]\n",
      "#endif\n",
      "type std_str_Utf8Error = class end\n",
      "#if FABLE_COMPILER\n",
      "[<Fable.Core.Erase; Fable.Core.Emit(\"std::string::FromUtf8Error\")>]\n",
      "#endif\n",
      "type std_string_FromUtf8Error = class end\n",
      "#if FABLE_COMPILER\n",
      "[<Fable.Core.Erase; Fable.Core.Emit(\"std::string::String\")>]\n",
      "#endif\n",
      "type std_string_String = class end\n",
      "#if FABLE_COMPILER\n",
      "[<Fable.Core.Erase; Fable.Core.Emit(\"std::slice::Windows<$0>\")>]\n",
      "#endif\n",
      "type std_slice_Windows<'T> = class end\n",
      "#if FABLE_COMPILER\n",
      "[<Fable.Core.Erase; Fable.Core.Emit(\"regex::Regex\")>]\n",
      "#endif\n",
      "type regex_Regex = class end\n",
      "#if FABLE_COMPILER\n",
      "[<Fable.Core.Erase; Fable.Core.Emit(\"regex::Captures\")>]\n",
      "#endif\n",
      "type regex_Captures = class end\n",
      "#if FABLE_COMPILER\n",
      "[<Fable.Core.Erase; Fable.Core.Emit(\"regex::CaptureMatches\")>]\n",
      "#endif\n",
      "type regex_CaptureMatches = class end\n",
      "#if FABLE_COMPILER\n",
      "[<Fable.Core.Erase; Fable.Core.Emit(\"regex::Error\")>]\n",
      "#endif\n",
      "type regex_Error = class end\n",
      "type [<Struct>] US0 =\n",
      "    | US0_0\n",
      "    | US0_1\n",
      "    | US0_2\n",
      "    | US0_3\n",
      "    | US0_4\n",
      "    | US0_5\n",
      "    | US0_6\n",
      "    | US0_7\n",
      "    | US0_8\n",
      "    | US0_9\n",
      "    | US0_10\n",
      "    | US0_11\n",
      "and [<Struct>] US2 =\n",
      "    | US2_0\n",
      "    | US2_1\n",
      "and [<Struct>] US1 =\n",
      "    | US1_0 of f0_0 : US2\n",
      "and UH0 =\n",
      "    | UH0_0\n",
      "    | UH0_1 of int32 * US0 * int32 * US1 * UH0\n",
      "and [<Struct>] US3 =\n",
      "    | US3_0\n",
      "    | US3_1\n",
      "and [<Struct>] US6 =\n",
      "    | US6_0 of f0_0 : int32\n",
      "    | US6_1 of f1_0 : int32\n",
      "    | US6_2 of f2_0 : int32\n",
      "and [<Struct>] US8 =\n",
      "    | US8_0\n",
      "    | US8_1\n",
      "    | US8_2\n",
      "    | US8_3\n",
      "    | US8_4\n",
      "    | US8_5\n",
      "    | US8_6\n",
      "and [<Struct>] US7 =\n",
      "    | US7_0 of f0_0 : US8\n",
      "    | US7_1 of f1_0 : int32\n",
      "    | US7_2 of f2_0 : int32 * f2_1 : US0\n",
      "and UH1 =\n",
      "    | UH1_0\n",
      "    | UH1_1 of US7 * UH1\n",
      "and [<Struct>] US5 =\n",
      "    | US5_0 of f0_0 : US6\n",
      "    | US5_1 of f1_0 : UH1\n",
      "and [<Struct>] US4 =\n",
      "    | US4_0 of f0_0 : US3\n",
      "    | US4_1 of f1_0 : US5\n",
      "and UH2 =\n",
      "    | UH2_0\n",
      "    | UH2_1 of UH0 * string * US4 * UH2\n",
      "let rec method1 (v0 : bool) : bool =\n",
      "    v0\n",
      "and method0 () : unit =\n",
      "    let v0 : bool = true\n",
      "    let mutable _v0 : std_string_String option = None \n",
      "    \n",
      "#if FABLE_COMPILER || WASM || CONTRACT\n",
      "    \n",
      "#if FABLE_COMPILER_RUST && !WASM && !CONTRACT\n",
      "    let v1 : string = \"format!(\\\"{:#?}\\\", $0)\"\n",
      "    let v2 : UH0 = UH0_0\n",
      "    let v3 : string = \"01\"\n",
      "    let v4 : US3 = US3_0\n",
      "    let v5 : US4 = US4_0(v4)\n",
      "    let v6 : UH0 = UH0_0\n",
      "    let v7 : string = \"02\"\n",
      "    let v8 : US3 = US3_0\n",
      "    let v9 : US4 = US4_0(v8)\n",
      "    let v10 : UH0 = UH0_0\n",
      "    let v11 : string = \"03\"\n",
      "    let v12 : US3 = US3_0\n",
      "    let v13 : US4 = US4_0(v12)\n",
      "    let v14 : UH2 = UH2_0\n",
      "    let v15 : UH2 = UH2_1(v10, v11, v13, v14)\n",
      "    let v16 : UH2 = UH2_1(v6, v7, v9, v15)\n",
      "    let v17 : UH2 = UH2_1(v2, v3, v5, v16)\n",
      "    let v18 : std_string_String = Fable.Core.RustInterop.emitRustExpr v17 v1\n",
      "    v18 \n",
      "    #endif\n",
      "#if FABLE_COMPILER_RUST && WASM\n",
      "    let v19 : string = \"format!(\\\"{:#?}\\\", $0)\"\n",
      "    let v20 : UH0 = UH0_0\n",
      "    let v21 : US3 = US3_0\n",
      "    let v22 : US4 = US4_0(v21)\n",
      "    let v23 : UH0 = UH0_0\n",
      "    let v24 : US3 = US3_0\n",
      "    let v25 : US4 = US4_0(v24)\n",
      "    let v26 : UH0 = UH0_0\n",
      "    let v27 : US3 = US3_0\n",
      "    let v28 : US4 = US4_0(v27)\n",
      "    let v29 : UH2 = UH2_0\n",
      "    let v30 : UH2 = UH2_1(v26, v11, v28, v29)\n",
      "    let v31 : UH2 = UH2_1(v23, v7, v25, v30)\n",
      "    let v32 : UH2 = UH2_1(v20, v3, v22, v31)\n",
      "    let v33 : std_string_String = Fable.Core.RustInterop.emitRustExpr v32 v19\n",
      "    v33 \n",
      "    #endif\n",
      "#if FABLE_COMPILER_RUST && CONTRACT\n",
      "    let v34 : string = \"format!(\\\"{:#?}\\\", $0)\"\n",
      "    let v35 : UH0 = UH0_0\n",
      "    let v36 : US3 = US3_0\n",
      "    let v37 : US4 = US4_0(v36)\n",
      "    let v38 : UH0 = UH0_0\n",
      "    let v39 : US3 = US3_0\n",
      "    let v40 : US4 = US4_0(v39)\n",
      "    let v41 : UH0 = UH0_0\n",
      "    let v42 : US3 = US3_0\n",
      "    let v43 : US4 = US4_0(v42)\n",
      "    let v44 : UH2 = UH2_0\n",
      "    let v45 : UH2 = UH2_1(v41, v11, v43, v44)\n",
      "    let v46 : UH2 = UH2_1(v38, v7, v40, v45)\n",
      "    let v47 : UH2 = UH2_1(v35, v3, v37, v46)\n",
      "    let v48 : std_string_String = Fable.Core.RustInterop.emitRustExpr v47 v34\n",
      "    v48 \n",
      "    #endif\n",
      "#if FABLE_COMPILER_TYPESCRIPT\n",
      "    let v49 : std_string_String = null |> unbox<std_string_String>\n",
      "    v49 \n",
      "    #endif\n",
      "#if FABLE_COMPILER_PYTHON\n",
      "    let v50 : std_string_String = null |> unbox<std_string_String>\n",
      "    v50 \n",
      "    #endif\n",
      "#else\n",
      "    let v51 : std_string_String = null |> unbox<std_string_String>\n",
      "    v51 \n",
      "    #endif\n",
      "    |> fun x -> _v0 <- Some x\n",
      "    let v52 : std_string_String = _v0.Value\n",
      "    let v53 : string = \"fable_library_rust::String_::fromString($0)\"\n",
      "    let v54 : string = Fable.Core.RustInterop.emitRustExpr v52 v53\n",
      "    let v55 : bool = v54.Contains v3\n",
      "    let v57 : bool =\n",
      "        if v55 then\n",
      "            true\n",
      "        else\n",
      "            method1(v55)\n",
      "    let v58 : string = \"assert_string_contains\"\n",
      "    let v59 : string = $\"{v58} / actual: %A{v3} / expected: %A{v54}\"\n",
      "    System.Console.WriteLine v59\n",
      "    let v60 : bool = v57 = false\n",
      "    if v60 then\n",
      "        failwith<unit> v59\n",
      "method0()\n",
      "\n",
      "\n",
      ".rs:\n",
      "#![allow(dead_code)]\n",
      "#![allow(non_camel_case_types)]\n",
      "#![allow(non_snake_case)]\n",
      "#![allow(non_upper_case_globals)]\n",
      "#![allow(unreachable_code)]\n",
      "#![allow(unused_attributes)]\n",
      "#![allow(unused_imports)]\n",
      "#![allow(unused_macros)]\n",
      "#![allow(unused_parens)]\n",
      "#![allow(unused_variables)]\n",
      "mod module_ccfa04bf {\n",
      "    pub mod Spiral_eval {\n",
      "        use super::*;\n",
      "        use fable_library_rust::Native_::on_startup;\n",
      "        use fable_library_rust::Native_::LrcPtr;\n",
      "        use fable_library_rust::Native_::MutCell;\n",
      "        use fable_library_rust::Option_::getValue;\n",
      "        use fable_library_rust::String_::contains;\n",
      "        use fable_library_rust::String_::printfn;\n",
      "        use fable_library_rust::String_::sprintf;\n",
      "        use fable_library_rust::String_::string;\n",
      "        #[derive(Clone, Copy, Debug, PartialEq, PartialOrd, Hash, Eq)]\n",
      "        pub enum US0 {\n",
      "            US0_0,\n",
      "            US0_1,\n",
      "            US0_2,\n",
      "            US0_3,\n",
      "            US0_4,\n",
      "            US0_5,\n",
      "            US0_6,\n",
      "            US0_7,\n",
      "            US0_8,\n",
      "            US0_9,\n",
      "            US0_10,\n",
      "            US0_11,\n",
      "        }\n",
      "        impl Spiral_eval::US0 {\n",
      "            pub fn get_IsUS0_0(this_: &MutCell<Spiral_eval::US0>, unitArg: ()) -> bool {\n",
      "                if unreachable!() {\n",
      "                    true\n",
      "                } else {\n",
      "                    false\n",
      "                }\n",
      "            }\n",
      "            pub fn get_IsUS0_1(this_: &MutCell<Spiral_eval::US0>, unitArg: ()) -> bool {\n",
      "                if unreachable!() {\n",
      "                    true\n",
      "                } else {\n",
      "                    false\n",
      "                }\n",
      "            }\n",
      "            pub fn get_IsUS0_2(this_: &MutCell<Spiral_eval::US0>, unitArg: ()) -> bool {\n",
      "                if unreachable!() {\n",
      "                    true\n",
      "                } else {\n",
      "                    false\n",
      "                }\n",
      "            }\n",
      "            pub fn get_IsUS0_3(this_: &MutCell<Spiral_eval::US0>, unitArg: ()) -> bool {\n",
      "                if unreachable!() {\n",
      "                    true\n",
      "                } else {\n",
      "                    false\n",
      "                }\n",
      "            }\n",
      "            pub fn get_IsUS0_4(this_: &MutCell<Spiral_eval::US0>, unitArg: ()) -> bool {\n",
      "                if unreachable!() {\n",
      "                    true\n",
      "                } else {\n",
      "                    false\n",
      "                }\n",
      "            }\n",
      "            pub fn get_IsUS0_5(this_: &MutCell<Spiral_eval::US0>, unitArg: ()) -> bool {\n",
      "                if unreachable!() {\n",
      "                    true\n",
      "                } else {\n",
      "                    false\n",
      "                }\n",
      "            }\n",
      "            pub fn get_IsUS0_6(this_: &MutCell<Spiral_eval::US0>, unitArg: ()) -> bool {\n",
      "                if unreachable!() {\n",
      "                    true\n",
      "                } else {\n",
      "                    false\n",
      "                }\n",
      "            }\n",
      "            pub fn get_IsUS0_7(this_: &MutCell<Spiral_eval::US0>, unitArg: ()) -> bool {\n",
      "                if unreachable!() {\n",
      "                    true\n",
      "                } else {\n",
      "                    false\n",
      "                }\n",
      "            }\n",
      "            pub fn get_IsUS0_8(this_: &MutCell<Spiral_eval::US0>, unitArg: ()) -> bool {\n",
      "                if unreachable!() {\n",
      "                    true\n",
      "                } else {\n",
      "                    false\n",
      "                }\n",
      "            }\n",
      "            pub fn get_IsUS0_9(this_: &MutCell<Spiral_eval::US0>, unitArg: ()) -> bool {\n",
      "                if unreachable!() {\n",
      "                    true\n",
      "                } else {\n",
      "                    false\n",
      "                }\n",
      "            }\n",
      "            pub fn get_IsUS0_10(this_: &MutCell<Spiral_eval::US0>, unitArg: ()) -> bool {\n",
      "                if unreachable!() {\n",
      "                    true\n",
      "                } else {\n",
      "                    false\n",
      "                }\n",
      "            }\n",
      "            pub fn get_IsUS0_11(this_: &MutCell<Spiral_eval::US0>, unitArg: ()) -> bool {\n",
      "                if unreachable!() {\n",
      "                    true\n",
      "                } else {\n",
      "                    false\n",
      "                }\n",
      "            }\n",
      "        }\n",
      "        impl core::fmt::Display for Spiral_eval::US0 {\n",
      "            fn fmt(&self, f: &mut core::fmt::Formatter) -> core::fmt::Result {\n",
      "                write!(f, \"{}\", core::any::type_name::<Self>())\n",
      "            }\n",
      "        }\n",
      "        #[derive(Clone, Copy, Debug, PartialEq, PartialOrd, Hash, Eq)]\n",
      "        pub enum US2 {\n",
      "            US2_0,\n",
      "            US2_1,\n",
      "        }\n",
      "        impl Spiral_eval::US2 {\n",
      "            pub fn get_IsUS2_0(this_: &MutCell<Spiral_eval::US2>, unitArg: ()) -> bool {\n",
      "                if unreachable!() {\n",
      "                    true\n",
      "                } else {\n",
      "                    false\n",
      "                }\n",
      "            }\n",
      "            pub fn get_IsUS2_1(this_: &MutCell<Spiral_eval::US2>, unitArg: ()) -> bool {\n",
      "                if unreachable!() {\n",
      "                    true\n",
      "                } else {\n",
      "                    false\n",
      "                }\n",
      "            }\n",
      "        }\n",
      "        impl core::fmt::Display for Spiral_eval::US2 {\n",
      "            fn fmt(&self, f: &mut core::fmt::Formatter) -> core::fmt::Result {\n",
      "                write!(f, \"{}\", core::any::type_name::<Self>())\n",
      "            }\n",
      "        }\n",
      "        #[derive(Clone, Copy, Debug, PartialEq, PartialOrd, Hash, Eq)]\n",
      "        pub enum US1 {\n",
      "            US1_0(Spiral_eval::US2),\n",
      "        }\n",
      "        impl Spiral_eval::US1 {\n",
      "            pub fn get_IsUS1_0(this_: &MutCell<Spiral_eval::US1>, unitArg: ()) -> bool {\n",
      "                if unreachable!() {\n",
      "                    true\n",
      "                } else {\n",
      "                    false\n",
      "                }\n",
      "            }\n",
      "        }\n",
      "        impl core::fmt::Display for Spiral_eval::US1 {\n",
      "            fn fmt(&self, f: &mut core::fmt::Formatter) -> core::fmt::Result {\n",
      "                write!(f, \"{}\", core::any::type_name::<Self>())\n",
      "            }\n",
      "        }\n",
      "        #[derive(Clone, Debug, PartialEq, PartialOrd, Hash, Eq)]\n",
      "        pub enum UH0 {\n",
      "            UH0_0,\n",
      "            UH0_1(\n",
      "                i32,\n",
      "                Spiral_eval::US0,\n",
      "                i32,\n",
      "                Spiral_eval::US1,\n",
      "                LrcPtr<Spiral_eval::UH0>,\n",
      "            ),\n",
      "        }\n",
      "        impl Spiral_eval::UH0 {\n",
      "            pub fn get_IsUH0_0(this_: LrcPtr<Spiral_eval::UH0>, unitArg: ()) -> bool {\n",
      "                if let Spiral_eval::UH0::UH0_0 = this_.as_ref() {\n",
      "                    true\n",
      "                } else {\n",
      "                    false\n",
      "                }\n",
      "            }\n",
      "            pub fn get_IsUH0_1(this_: LrcPtr<Spiral_eval::UH0>, unitArg: ()) -> bool {\n",
      "                if let Spiral_eval::UH0::UH0_1(\n",
      "                    this__1_0,\n",
      "                    this__1_1,\n",
      "                    this__1_2,\n",
      "                    this__1_3,\n",
      "                    this__1_4,\n",
      "                ) = this_.as_ref()\n",
      "                {\n",
      "                    true\n",
      "                } else {\n",
      "                    false\n",
      "                }\n",
      "            }\n",
      "        }\n",
      "        impl core::fmt::Display for Spiral_eval::UH0 {\n",
      "            fn fmt(&self, f: &mut core::fmt::Formatter) -> core::fmt::Result {\n",
      "                write!(f, \"{}\", core::any::type_name::<Self>())\n",
      "            }\n",
      "        }\n",
      "        #[derive(Clone, Copy, Debug, PartialEq, PartialOrd, Hash, Eq)]\n",
      "        pub enum US3 {\n",
      "            US3_0,\n",
      "            US3_1,\n",
      "        }\n",
      "        impl Spiral_eval::US3 {\n",
      "            pub fn get_IsUS3_0(this_: &MutCell<Spiral_eval::US3>, unitArg: ()) -> bool {\n",
      "                if unreachable!() {\n",
      "                    true\n",
      "                } else {\n",
      "                    false\n",
      "                }\n",
      "            }\n",
      "            pub fn get_IsUS3_1(this_: &MutCell<Spiral_eval::US3>, unitArg: ()) -> bool {\n",
      "                if unreachable!() {\n",
      "                    true\n",
      "                } else {\n",
      "                    false\n",
      "                }\n",
      "            }\n",
      "        }\n",
      "        impl core::fmt::Display for Spiral_eval::US3 {\n",
      "            fn fmt(&self, f: &mut core::fmt::Formatter) -> core::fmt::Result {\n",
      "                write!(f, \"{}\", core::any::type_name::<Self>())\n",
      "            }\n",
      "        }\n",
      "        #[derive(Clone, Copy, Debug, PartialEq, PartialOrd, Hash, Eq)]\n",
      "        pub enum US6 {\n",
      "            US6_0(i32),\n",
      "            US6_1(i32),\n",
      "            US6_2(i32),\n",
      "        }\n",
      "        impl Spiral_eval::US6 {\n",
      "            pub fn get_IsUS6_0(this_: &MutCell<Spiral_eval::US6>, unitArg: ()) -> bool {\n",
      "                if unreachable!() {\n",
      "                    true\n",
      "                } else {\n",
      "                    false\n",
      "                }\n",
      "            }\n",
      "            pub fn get_IsUS6_1(this_: &MutCell<Spiral_eval::US6>, unitArg: ()) -> bool {\n",
      "                if unreachable!() {\n",
      "                    true\n",
      "                } else {\n",
      "                    false\n",
      "                }\n",
      "            }\n",
      "            pub fn get_IsUS6_2(this_: &MutCell<Spiral_eval::US6>, unitArg: ()) -> bool {\n",
      "                if unreachable!() {\n",
      "                    true\n",
      "                } else {\n",
      "                    false\n",
      "                }\n",
      "            }\n",
      "        }\n",
      "        impl core::fmt::Display for Spiral_eval::US6 {\n",
      "            fn fmt(&self, f: &mut core::fmt::Formatter) -> core::fmt::Result {\n",
      "                write!(f, \"{}\", core::any::type_name::<Self>())\n",
      "            }\n",
      "        }\n",
      "        #[derive(Clone, Copy, Debug, PartialEq, PartialOrd, Hash, Eq)]\n",
      "        pub enum US8 {\n",
      "            US8_0,\n",
      "            US8_1,\n",
      "            US8_2,\n",
      "            US8_3,\n",
      "            US8_4,\n",
      "            US8_5,\n",
      "            US8_6,\n",
      "        }\n",
      "        impl Spiral_eval::US8 {\n",
      "            pub fn get_IsUS8_0(this_: &MutCell<Spiral_eval::US8>, unitArg: ()) -> bool {\n",
      "                if unreachable!() {\n",
      "                    true\n",
      "                } else {\n",
      "                    false\n",
      "                }\n",
      "            }\n",
      "            pub fn get_IsUS8_1(this_: &MutCell<Spiral_eval::US8>, unitArg: ()) -> bool {\n",
      "                if unreachable!() {\n",
      "                    true\n",
      "                } else {\n",
      "                    false\n",
      "                }\n",
      "            }\n",
      "            pub fn get_IsUS8_2(this_: &MutCell<Spiral_eval::US8>, unitArg: ()) -> bool {\n",
      "                if unreachable!() {\n",
      "                    true\n",
      "                } else {\n",
      "                    false\n",
      "                }\n",
      "            }\n",
      "            pub fn get_IsUS8_3(this_: &MutCell<Spiral_eval::US8>, unitArg: ()) -> bool {\n",
      "                if unreachable!() {\n",
      "                    true\n",
      "                } else {\n",
      "                    false\n",
      "                }\n",
      "            }\n",
      "            pub fn get_IsUS8_4(this_: &MutCell<Spiral_eval::US8>, unitArg: ()) -> bool {\n",
      "                if unreachable!() {\n",
      "                    true\n",
      "                } else {\n",
      "                    false\n",
      "                }\n",
      "            }\n",
      "            pub fn get_IsUS8_5(this_: &MutCell<Spiral_eval::US8>, unitArg: ()) -> bool {\n",
      "                if unreachable!() {\n",
      "                    true\n",
      "                } else {\n",
      "                    false\n",
      "                }\n",
      "            }\n",
      "            pub fn get_IsUS8_6(this_: &MutCell<Spiral_eval::US8>, unitArg: ()) -> bool {\n",
      "                if unreachable!() {\n",
      "                    true\n",
      "                } else {\n",
      "                    false\n",
      "                }\n",
      "            }\n",
      "        }\n",
      "        impl core::fmt::Display for Spiral_eval::US8 {\n",
      "            fn fmt(&self, f: &mut core::fmt::Formatter) -> core::fmt::Result {\n",
      "                write!(f, \"{}\", core::any::type_name::<Self>())\n",
      "            }\n",
      "        }\n",
      "        #[derive(Clone, Copy, Debug, PartialEq, PartialOrd, Hash, Eq)]\n",
      "        pub enum US7 {\n",
      "            US7_0(Spiral_eval::US8),\n",
      "            US7_1(i32),\n",
      "            US7_2(i32, Spiral_eval::US0),\n",
      "        }\n",
      "        impl Spiral_eval::US7 {\n",
      "            pub fn get_IsUS7_0(this_: &MutCell<Spiral_eval::US7>, unitArg: ()) -> bool {\n",
      "                if unreachable!() {\n",
      "                    true\n",
      "                } else {\n",
      "                    false\n",
      "                }\n",
      "            }\n",
      "            pub fn get_IsUS7_1(this_: &MutCell<Spiral_eval::US7>, unitArg: ()) -> bool {\n",
      "                if unreachable!() {\n",
      "                    true\n",
      "                } else {\n",
      "                    false\n",
      "                }\n",
      "            }\n",
      "            pub fn get_IsUS7_2(this_: &MutCell<Spiral_eval::US7>, unitArg: ()) -> bool {\n",
      "                if unreachable!() {\n",
      "                    true\n",
      "                } else {\n",
      "                    false\n",
      "                }\n",
      "            }\n",
      "        }\n",
      "        impl core::fmt::Display for Spiral_eval::US7 {\n",
      "            fn fmt(&self, f: &mut core::fmt::Formatter) -> core::fmt::Result {\n",
      "                write!(f, \"{}\", core::any::type_name::<Self>())\n",
      "            }\n",
      "        }\n",
      "        #[derive(Clone, Debug, PartialEq, PartialOrd, Hash, Eq)]\n",
      "        pub enum UH1 {\n",
      "            UH1_0,\n",
      "            UH1_1(Spiral_eval::US7, LrcPtr<Spiral_eval::UH1>),\n",
      "        }\n",
      "        impl Spiral_eval::UH1 {\n",
      "            pub fn get_IsUH1_0(this_: LrcPtr<Spiral_eval::UH1>, unitArg: ()) -> bool {\n",
      "                if let Spiral_eval::UH1::UH1_0 = this_.as_ref() {\n",
      "                    true\n",
      "                } else {\n",
      "                    false\n",
      "                }\n",
      "            }\n",
      "            pub fn get_IsUH1_1(this_: LrcPtr<Spiral_eval::UH1>, unitArg: ()) -> bool {\n",
      "                if let Spiral_eval::UH1::UH1_1(this__1_0, this__1_1) = this_.as_ref() {\n",
      "                    true\n",
      "                } else {\n",
      "                    false\n",
      "                }\n",
      "            }\n",
      "        }\n",
      "        impl core::fmt::Display for Spiral_eval::UH1 {\n",
      "            fn fmt(&self, f: &mut core::fmt::Formatter) -> core::fmt::Result {\n",
      "                write!(f, \"{}\", core::any::type_name::<Self>())\n",
      "            }\n",
      "        }\n",
      "        #[derive(Clone, Debug, PartialEq, PartialOrd, Hash, Eq)]\n",
      "        pub enum US5 {\n",
      "            US5_0(Spiral_eval::US6),\n",
      "            US5_1(LrcPtr<Spiral_eval::UH1>),\n",
      "        }\n",
      "        impl Spiral_eval::US5 {\n",
      "            pub fn get_IsUS5_0(this_: &MutCell<Spiral_eval::US5>, unitArg: ()) -> bool {\n",
      "                if unreachable!() {\n",
      "                    true\n",
      "                } else {\n",
      "                    false\n",
      "                }\n",
      "            }\n",
      "            pub fn get_IsUS5_1(this_: &MutCell<Spiral_eval::US5>, unitArg: ()) -> bool {\n",
      "                if unreachable!() {\n",
      "                    true\n",
      "                } else {\n",
      "                    false\n",
      "                }\n",
      "            }\n",
      "        }\n",
      "        impl core::fmt::Display for Spiral_eval::US5 {\n",
      "            fn fmt(&self, f: &mut core::fmt::Formatter) -> core::fmt::Result {\n",
      "                write!(f, \"{}\", core::any::type_name::<Self>())\n",
      "            }\n",
      "        }\n",
      "        #[derive(Clone, Debug, PartialEq, PartialOrd, Hash, Eq)]\n",
      "        pub enum US4 {\n",
      "            US4_0(Spiral_eval::US3),\n",
      "            US4_1(Spiral_eval::US5),\n",
      "        }\n",
      "        impl Spiral_eval::US4 {\n",
      "            pub fn get_IsUS4_0(this_: &MutCell<Spiral_eval::US4>, unitArg: ()) -> bool {\n",
      "                if unreachable!() {\n",
      "                    true\n",
      "                } else {\n",
      "                    false\n",
      "                }\n",
      "            }\n",
      "            pub fn get_IsUS4_1(this_: &MutCell<Spiral_eval::US4>, unitArg: ()) -> bool {\n",
      "                if unreachable!() {\n",
      "                    true\n",
      "                } else {\n",
      "                    false\n",
      "                }\n",
      "            }\n",
      "        }\n",
      "        impl core::fmt::Display for Spiral_eval::US4 {\n",
      "            fn fmt(&self, f: &mut core::fmt::Formatter) -> core::fmt::Result {\n",
      "                write!(f, \"{}\", core::any::type_name::<Self>())\n",
      "            }\n",
      "        }\n",
      "        #[derive(Clone, Debug, PartialEq, PartialOrd, Hash, Eq)]\n",
      "        pub enum UH2 {\n",
      "            UH2_0,\n",
      "            UH2_1(\n",
      "                LrcPtr<Spiral_eval::UH0>,\n",
      "                string,\n",
      "                Spiral_eval::US4,\n",
      "                LrcPtr<Spiral_eval::UH2>,\n",
      "            ),\n",
      "        }\n",
      "        impl Spiral_eval::UH2 {\n",
      "            pub fn get_IsUH2_0(this_: LrcPtr<Spiral_eval::UH2>, unitArg: ()) -> bool {\n",
      "                if let Spiral_eval::UH2::UH2_0 = this_.as_ref() {\n",
      "                    true\n",
      "                } else {\n",
      "                    false\n",
      "                }\n",
      "            }\n",
      "            pub fn get_IsUH2_1(this_: LrcPtr<Spiral_eval::UH2>, unitArg: ()) -> bool {\n",
      "                if let Spiral_eval::UH2::UH2_1(this__1_0, this__1_1, this__1_2, this__1_3) =\n",
      "                    this_.as_ref()\n",
      "                {\n",
      "                    true\n",
      "                } else {\n",
      "                    false\n",
      "                }\n",
      "            }\n",
      "        }\n",
      "        impl core::fmt::Display for Spiral_eval::UH2 {\n",
      "            fn fmt(&self, f: &mut core::fmt::Formatter) -> core::fmt::Result {\n",
      "                write!(f, \"{}\", core::any::type_name::<Self>())\n",
      "            }\n",
      "        }\n",
      "        pub fn method1(v0: bool) -> bool {\n",
      "            v0\n",
      "        }\n",
      "        pub fn method0() {\n",
      "            let _v0: MutCell<Option<std::string::String>> =\n",
      "                MutCell::new(None::<std::string::String>);\n",
      "            {\n",
      "                let x: std::string::String = format!(\n",
      "                    \"{:#?}\",\n",
      "                    LrcPtr::new(Spiral_eval::UH2::UH2_1(\n",
      "                        LrcPtr::new(Spiral_eval::UH0::UH0_0),\n",
      "                        string(\"01\"),\n",
      "                        Spiral_eval::US4::US4_0(Spiral_eval::US3::US3_0),\n",
      "                        LrcPtr::new(Spiral_eval::UH2::UH2_1(\n",
      "                            LrcPtr::new(Spiral_eval::UH0::UH0_0),\n",
      "                            string(\"02\"),\n",
      "                            Spiral_eval::US4::US4_0(Spiral_eval::US3::US3_0),\n",
      "                            LrcPtr::new(Spiral_eval::UH2::UH2_1(\n",
      "                                LrcPtr::new(Spiral_eval::UH0::UH0_0),\n",
      "                                string(\"03\"),\n",
      "                                Spiral_eval::US4::US4_0(Spiral_eval::US3::US3_0),\n",
      "                                LrcPtr::new(Spiral_eval::UH2::UH2_0)\n",
      "                            ))\n",
      "                        ))\n",
      "                    ))\n",
      "                );\n",
      "                _v0.set(Some(x))\n",
      "            }\n",
      "            {\n",
      "                let v52: std::string::String = getValue(_v0.get().clone());\n",
      "                let v54: string = fable_library_rust::String_::fromString(v52);\n",
      "                let v55: bool = contains(v54.clone(), string(\"01\"));\n",
      "                let v57: bool = if v55 { true } else { Spiral_eval::method1(v55) };\n",
      "                let v59: string = sprintf!(\n",
      "                    \"{} / actual: {:?} / expected: {:?}\",\n",
      "                    string(\"assert_string_contains\"),\n",
      "                    string(\"01\"),\n",
      "                    v54\n",
      "                );\n",
      "                printfn!(\"{0}\", v59.clone());\n",
      "                if v57 == false {\n",
      "                    panic!(\"{}\", v59,);\n",
      "                }\n",
      "            }\n",
      "        }\n",
      "        on_startup!(Spiral_eval::method0());\n",
      "    }\n",
      "}\n",
      "pub use module_ccfa04bf::*;\n",
      "\n"
     ]
    }
   ],
   "source": [
    "//// test\n",
    "///! rust\n",
    "\n",
    "types ()\n",
    "get_tasks ()\n",
    "|> sm'.format_pretty'\n",
    "|> sm'.from_std_string\n",
    "|> _assert_string_contains \"01\""
   ]
  },
  {
   "cell_type": "code",
   "execution_count": null,
   "metadata": {
    "dotnet_interactive": {
     "language": "spiral"
    },
    "polyglot_notebook": {
     "kernelName": "spiral"
    }
   },
   "outputs": [
    {
     "data": {
      "text/plain": [
       ".rs output:\n",
       "assert_eq / actual: \"01\" / expected: \"01\"\n",
       "\n",
       "\n"
      ]
     },
     "metadata": {},
     "output_type": "display_data"
    },
    {
     "name": "stdout",
     "output_type": "stream",
     "text": [
      ".fsx:\n",
      "let rec method0 () : unit =\n",
      "    let v3 : string = \"assert_eq\"\n",
      "    let v4 : string = \"01\"\n",
      "    let v5 : string = $\"{v3} / actual: %A{v4} / expected: %A{v4}\"\n",
      "    System.Console.WriteLine v5\n",
      "    ()\n",
      "method0()\n",
      "\n",
      "\n",
      ".rs:\n",
      "#![allow(dead_code)]\n",
      "#![allow(non_camel_case_types)]\n",
      "#![allow(non_snake_case)]\n",
      "#![allow(non_upper_case_globals)]\n",
      "#![allow(unreachable_code)]\n",
      "#![allow(unused_attributes)]\n",
      "#![allow(unused_imports)]\n",
      "#![allow(unused_macros)]\n",
      "#![allow(unused_parens)]\n",
      "#![allow(unused_variables)]\n",
      "mod module_ccfa04bf {\n",
      "    pub mod Spiral_eval {\n",
      "        use super::*;\n",
      "        use fable_library_rust::Native_::on_startup;\n",
      "        use fable_library_rust::String_::printfn;\n",
      "        use fable_library_rust::String_::sprintf;\n",
      "        use fable_library_rust::String_::string;\n",
      "        pub fn method0() {\n",
      "            let v5: string = sprintf!(\n",
      "                \"{} / actual: {:?} / expected: {:?}\",\n",
      "                string(\"assert_eq\"),\n",
      "                string(\"01\"),\n",
      "                string(\"01\")\n",
      "            );\n",
      "            printfn!(\"{0}\", v5);\n",
      "            ()\n",
      "        }\n",
      "        on_startup!(Spiral_eval::method0());\n",
      "    }\n",
      "}\n",
      "pub use module_ccfa04bf::*;\n",
      "\n"
     ]
    }
   ],
   "source": [
    "//// test\n",
    "///! rust\n",
    "\n",
    "get_tasks ()\n",
    "|> listm'.try_item 0i32\n",
    "|> fun (Some task) => task.task.name\n",
    "|> _assert_eq (task_name \"01\")"
   ]
  }
 ],
 "metadata": {},
 "nbformat": 4,
 "nbformat_minor": 5
}