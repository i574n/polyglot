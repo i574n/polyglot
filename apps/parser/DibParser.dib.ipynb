{
 "cells": [
  {
   "cell_type": "markdown",
   "metadata": {},
   "source": [
    "# DibParser (Polyglot)"
   ]
  },
  {
   "cell_type": "code",
   "execution_count": null,
   "metadata": {
    "dotnet_interactive": {
     "language": "fsharp"
    },
    "polyglot_notebook": {
     "kernelName": "fsharp"
    }
   },
   "outputs": [],
   "source": [
    "#!import ../../lib/fsharp/Notebooks.dib\n",
    "#!import ../../lib/fsharp/Testing.dib"
   ]
  },
  {
   "cell_type": "code",
   "execution_count": null,
   "metadata": {
    "dotnet_interactive": {
     "language": "pwsh"
    },
    "polyglot_notebook": {
     "kernelName": "pwsh"
    }
   },
   "outputs": [
    {
     "name": "stdout",
     "output_type": "stream",
     "text": [
      "6.2.2\n"
     ]
    }
   ],
   "source": [
    "ls ~/.nuget/packages/argu"
   ]
  },
  {
   "cell_type": "code",
   "execution_count": null,
   "metadata": {
    "dotnet_interactive": {
     "language": "fsharp"
    },
    "polyglot_notebook": {
     "kernelName": "fsharp"
    }
   },
   "outputs": [],
   "source": [
    "#r @\"../../../../../../../.nuget/packages/fsharp.control.asyncseq/3.2.1/lib/netstandard2.1/FSharp.Control.AsyncSeq.dll\"\n",
    "#r @\"../../../../../../../.nuget/packages/system.reactive/6.0.1-preview.1/lib/net6.0/System.Reactive.dll\"\n",
    "#r @\"../../../../../../../.nuget/packages/system.reactive.linq/6.0.1-preview.1/lib/netstandard2.0/System.Reactive.Linq.dll\"\n",
    "#r @\"../../../../../../../.nuget/packages/argu/6.2.2/lib/netstandard2.0/Argu.dll\"\n",
    "#r @\"../../../../../../../.nuget/packages/system.commandline/2.0.0-beta4.22272.1/lib/net6.0/System.CommandLine.dll\"\n",
    "#r @\"../../../../../../../.nuget/packages/fparsec/2.0.0-beta2/lib/netstandard2.1/FParsec.dll\"\n",
    "#r @\"../../../../../../../.nuget/packages/fparsec/2.0.0-beta2/lib/netstandard2.1/FParsecCS.dll\""
   ]
  },
  {
   "cell_type": "code",
   "execution_count": null,
   "metadata": {
    "dotnet_interactive": {
     "language": "fsharp"
    },
    "polyglot_notebook": {
     "kernelName": "fsharp"
    }
   },
   "outputs": [],
   "source": [
    "#!import ../../lib/spiral/common.fsx\n",
    "#!import ../../lib/spiral/sm.fsx\n",
    "#!import ../../lib/spiral/date_time.fsx\n",
    "#!import ../../lib/spiral/file_system.fsx\n",
    "#!import ../../lib/spiral/lib.fsx\n",
    "#!import ../../lib/fsharp/Common.fs\n",
    "#!import ../../lib/fsharp/CommonFSharp.fs\n",
    "#!import ../../lib/fsharp/Async.fs\n",
    "#!import ../../lib/fsharp/AsyncSeq.fs\n",
    "#!import ../../lib/fsharp/Runtime.fs\n",
    "#!import ../../lib/fsharp/FileSystem.fs"
   ]
  },
  {
   "cell_type": "code",
   "execution_count": null,
   "metadata": {
    "dotnet_interactive": {
     "language": "fsharp"
    },
    "polyglot_notebook": {
     "kernelName": "fsharp"
    }
   },
   "outputs": [],
   "source": [
    "#if !INTERACTIVE\n",
    "open Lib\n",
    "#endif"
   ]
  },
  {
   "cell_type": "code",
   "execution_count": null,
   "metadata": {
    "dotnet_interactive": {
     "language": "fsharp"
    },
    "polyglot_notebook": {
     "kernelName": "fsharp"
    }
   },
   "outputs": [],
   "source": [
    "open Common\n",
    "open FParsec"
   ]
  },
  {
   "cell_type": "markdown",
   "metadata": {},
   "source": [
    "## escapeCell (test)"
   ]
  },
  {
   "cell_type": "code",
   "execution_count": null,
   "metadata": {
    "dotnet_interactive": {
     "language": "fsharp"
    },
    "polyglot_notebook": {
     "kernelName": "fsharp"
    }
   },
   "outputs": [],
   "source": [
    "//// test\n",
    "\n",
    "let inline escapeCell input =\n",
    "    input\n",
    "    |> Sm.split \"\\n\"\n",
    "    |> Array.map (function\n",
    "        | line when line |> Sm.starts_with \"\\\\#!\" || line |> Sm.starts_with \"\\\\#r\" ->\n",
    "            System.Text.RegularExpressions.Regex.Replace (line, \"^\\\\\\\\#\", \"#\")\n",
    "        | line -> line\n",
    "    )\n",
    "    |> Sm.concat \"\\n\""
   ]
  },
  {
   "cell_type": "code",
   "execution_count": null,
   "metadata": {
    "dotnet_interactive": {
     "language": "fsharp"
    },
    "polyglot_notebook": {
     "kernelName": "fsharp"
    }
   },
   "outputs": [
    {
     "name": "stdout",
     "output_type": "stream",
     "text": [
      "a\n",
      "#!magic\n",
      "b\n",
      "\n"
     ]
    }
   ],
   "source": [
    "//// test\n",
    "\n",
    "$\"a{nl}\\\\#!magic{nl}b{nl}\"\n",
    "|> escapeCell\n",
    "|> _assertEqual (\n",
    "    $\"a{nl}#!magic{nl}b{nl}\"\n",
    ")"
   ]
  },
  {
   "cell_type": "markdown",
   "metadata": {},
   "source": [
    "## magicMarker"
   ]
  },
  {
   "cell_type": "code",
   "execution_count": null,
   "metadata": {
    "dotnet_interactive": {
     "language": "fsharp"
    },
    "polyglot_notebook": {
     "kernelName": "fsharp"
    }
   },
   "outputs": [],
   "source": [
    "let magicMarker : Parser<string, unit> = pstring \"#!\""
   ]
  },
  {
   "cell_type": "code",
   "execution_count": null,
   "metadata": {
    "dotnet_interactive": {
     "language": "fsharp"
    },
    "polyglot_notebook": {
     "kernelName": "fsharp"
    }
   },
   "outputs": [
    {
     "name": "stdout",
     "output_type": "stream",
     "text": [
      "Success\n",
      "      Item1: #!\n",
      "      Item2: <null>\n",
      "      Item3: Position\n",
      "        Index: 2\n",
      "        Line: 1\n",
      "        Column: 3\n",
      "        StreamName: \n"
     ]
    }
   ],
   "source": [
    "//// test\n",
    "\n",
    "\"#!magic\"\n",
    "|> run magicMarker\n",
    "|> _assertEqual (\n",
    "    Success (\"#!\", (), Position (\"\", 2, 1, 3))\n",
    ")"
   ]
  },
  {
   "cell_type": "code",
   "execution_count": null,
   "metadata": {
    "dotnet_interactive": {
     "language": "fsharp"
    },
    "polyglot_notebook": {
     "kernelName": "fsharp"
    }
   },
   "outputs": [
    {
     "name": "stdout",
     "output_type": "stream",
     "text": [
      "Failure\n",
      "      Item1: Error in Ln: 1 Col: 1\n",
      "##!magic\n",
      "^\n",
      "Expecting: '#!'\n",
      "\n",
      "      Item2: ParserError\n",
      "        Position: Position\n",
      "          Index: 0\n",
      "          Line: 1\n",
      "          Column: 1\n",
      "          StreamName: \n",
      "        UserState: <null>\n",
      "        Messages: ErrorMessageList\n",
      "          Head: ExpectedString\n",
      "            String: #!\n",
      "            Type: ExpectedString\n",
      "          Tail: <null>\n",
      "      Item3: <null>\n"
     ]
    }
   ],
   "source": [
    "//// test\n",
    "\n",
    "\"##!magic\"\n",
    "|> run magicMarker\n",
    "|> _assertEqual (\n",
    "    Failure (\n",
    "        $\"Error in Ln: 1 Col: 1{nl}##!magic{nl}^{nl}Expecting: '#!'{nl}\",\n",
    "        ParserError (\n",
    "            Position (\"\", 0, 1, 1),\n",
    "            (),\n",
    "            ErrorMessageList (ExpectedString \"#!\")\n",
    "        ),\n",
    "        ()\n",
    "    )\n",
    ")"
   ]
  },
  {
   "cell_type": "markdown",
   "metadata": {},
   "source": [
    "## magicCommand"
   ]
  },
  {
   "cell_type": "code",
   "execution_count": null,
   "metadata": {
    "dotnet_interactive": {
     "language": "fsharp"
    },
    "polyglot_notebook": {
     "kernelName": "fsharp"
    }
   },
   "outputs": [],
   "source": [
    "let magicCommand =\n",
    "    magicMarker\n",
    "    >>. manyTill anyChar newline\n",
    "    |>> (System.String.Concat >> Sm.trim)"
   ]
  },
  {
   "cell_type": "code",
   "execution_count": null,
   "metadata": {
    "dotnet_interactive": {
     "language": "fsharp"
    },
    "polyglot_notebook": {
     "kernelName": "fsharp"
    }
   },
   "outputs": [
    {
     "name": "stdout",
     "output_type": "stream",
     "text": [
      "Success\n",
      "      Item1: magic\n",
      "      Item2: <null>\n",
      "      Item3: Position\n",
      "        Index: 8\n",
      "        Line: 2\n",
      "        Column: 1\n",
      "        StreamName: \n"
     ]
    }
   ],
   "source": [
    "//// test\n",
    "\n",
    "\"#!magic\n",
    "\n",
    "a\"\n",
    "|> run magicCommand\n",
    "|> _assertEqual (\n",
    "    Success (\"magic\", (), Position (\"\", 8, 2, 1))\n",
    ")"
   ]
  },
  {
   "cell_type": "code",
   "execution_count": null,
   "metadata": {
    "dotnet_interactive": {
     "language": "fsharp"
    },
    "polyglot_notebook": {
     "kernelName": "fsharp"
    }
   },
   "outputs": [
    {
     "name": "stdout",
     "output_type": "stream",
     "text": [
      "Failure\n",
      "      Item1: Error in Ln: 1 Col: 1\n",
      " #!magic\n",
      "^\n",
      "Expecting: '#!'\n",
      "\n",
      "      Item2: ParserError\n",
      "        Position: Position\n",
      "          Index: 0\n",
      "          Line: 1\n",
      "          Column: 1\n",
      "          StreamName: \n",
      "        UserState: <null>\n",
      "        Messages: ErrorMessageList\n",
      "          Head: ExpectedString\n",
      "            String: #!\n",
      "            Type: ExpectedString\n",
      "          Tail: <null>\n",
      "      Item3: <null>\n"
     ]
    }
   ],
   "source": [
    "//// test\n",
    "\n",
    "\" #!magic\n",
    "\n",
    "a\"\n",
    "|> run magicCommand\n",
    "|> _assertEqual (\n",
    "    Failure (\n",
    "        $\"Error in Ln: 1 Col: 1{nl} #!magic{nl}^{nl}Expecting: '#!'{nl}\",\n",
    "        ParserError (\n",
    "            Position (\"\", 0, 1, 1),\n",
    "            (),\n",
    "            ErrorMessageList (ExpectedString \"#!\")\n",
    "        ),\n",
    "        ()\n",
    "    )\n",
    ")"
   ]
  },
  {
   "cell_type": "markdown",
   "metadata": {},
   "source": [
    "## content"
   ]
  },
  {
   "cell_type": "code",
   "execution_count": null,
   "metadata": {
    "dotnet_interactive": {
     "language": "fsharp"
    },
    "polyglot_notebook": {
     "kernelName": "fsharp"
    }
   },
   "outputs": [],
   "source": [
    "let content =\n",
    "    (newline >>. magicMarker) <|> (eof >>. preturn \"\")\n",
    "    |> attempt\n",
    "    |> lookAhead\n",
    "    |> manyTill anyChar\n",
    "    |>> (System.String.Concat >> Sm.trim)"
   ]
  },
  {
   "cell_type": "code",
   "execution_count": null,
   "metadata": {
    "dotnet_interactive": {
     "language": "fsharp"
    },
    "polyglot_notebook": {
     "kernelName": "fsharp"
    }
   },
   "outputs": [
    {
     "name": "stdout",
     "output_type": "stream",
     "text": [
      "Success\n",
      "      Item1: #!magic\n",
      "\n",
      "\n",
      "a\n",
      "      Item2: <null>\n",
      "      Item3: Position\n",
      "        Index: 14\n",
      "        Line: 7\n",
      "        Column: 1\n",
      "        StreamName: \n"
     ]
    }
   ],
   "source": [
    "//// test\n",
    "\n",
    "\"#!magic\n",
    "\n",
    "\n",
    "a\n",
    "\n",
    "\n",
    "\"\n",
    "|> run content\n",
    "|> _assertEqual (\n",
    "    Success (\"#!magic\n",
    "\n",
    "\n",
    "a\", (), Position (\"\", 14, 7, 1))\n",
    ")"
   ]
  },
  {
   "cell_type": "markdown",
   "metadata": {},
   "source": [
    "## Block"
   ]
  },
  {
   "cell_type": "code",
   "execution_count": null,
   "metadata": {
    "dotnet_interactive": {
     "language": "fsharp"
    },
    "polyglot_notebook": {
     "kernelName": "fsharp"
    }
   },
   "outputs": [],
   "source": [
    "type Block =\n",
    "    {\n",
    "        magic : string\n",
    "        content : string\n",
    "    }"
   ]
  },
  {
   "cell_type": "markdown",
   "metadata": {},
   "source": [
    "## block"
   ]
  },
  {
   "cell_type": "code",
   "execution_count": null,
   "metadata": {
    "dotnet_interactive": {
     "language": "fsharp"
    },
    "polyglot_notebook": {
     "kernelName": "fsharp"
    }
   },
   "outputs": [],
   "source": [
    "let block =\n",
    "    pipe2\n",
    "        magicCommand\n",
    "        content\n",
    "        (fun magic content ->\n",
    "            {\n",
    "                magic = magic\n",
    "                content = content\n",
    "            })"
   ]
  },
  {
   "cell_type": "code",
   "execution_count": null,
   "metadata": {
    "dotnet_interactive": {
     "language": "fsharp"
    },
    "polyglot_notebook": {
     "kernelName": "fsharp"
    }
   },
   "outputs": [
    {
     "name": "stdout",
     "output_type": "stream",
     "text": [
      "Success\n",
      "      Item1: Block\n",
      "        magic: magic\n",
      "        content: a\n",
      "      Item2: <null>\n",
      "      Item3: Position\n",
      "        Index: 14\n",
      "        Line: 7\n",
      "        Column: 1\n",
      "        StreamName: \n"
     ]
    }
   ],
   "source": [
    "//// test\n",
    "\n",
    "\"#!magic\n",
    "\n",
    "\n",
    "a\n",
    "\n",
    "\n",
    "\"\n",
    "|> run block\n",
    "|> _assertEqual (\n",
    "    Success (\n",
    "        { magic = \"magic\"; content = \"a\" },\n",
    "        (),\n",
    "        Position (\"\", 14, 7, 1)\n",
    "    )\n",
    ")"
   ]
  },
  {
   "cell_type": "markdown",
   "metadata": {},
   "source": [
    "## blocks"
   ]
  },
  {
   "cell_type": "code",
   "execution_count": null,
   "metadata": {
    "dotnet_interactive": {
     "language": "fsharp"
    },
    "polyglot_notebook": {
     "kernelName": "fsharp"
    }
   },
   "outputs": [],
   "source": [
    "let blocks =\n",
    "    skipMany newline\n",
    "    >>. sepEndBy block (skipMany1 newline)"
   ]
  },
  {
   "cell_type": "code",
   "execution_count": null,
   "metadata": {
    "dotnet_interactive": {
     "language": "fsharp"
    },
    "polyglot_notebook": {
     "kernelName": "fsharp"
    }
   },
   "outputs": [
    {
     "name": "stdout",
     "output_type": "stream",
     "text": [
      "Success\n",
      "      Item1: FSharpList<Block>\n",
      "        - magic: magic1\n",
      "          content: a\n",
      "        - magic: magic2\n",
      "          content: b\n",
      "      Item2: <null>\n",
      "      Item3: Position\n",
      "        Index: 26\n",
      "        Line: 9\n",
      "        Column: 1\n",
      "        StreamName: \n"
     ]
    }
   ],
   "source": [
    "//// test\n",
    "\n",
    "\n",
    "\"#!magic1\n",
    "\n",
    "a\n",
    "\n",
    "\\#!magic2\n",
    "\n",
    "b\n",
    "\n",
    "\"\n",
    "|> escapeCell\n",
    "|> run blocks\n",
    "|> _assertEqual (\n",
    "    Success (\n",
    "        [\n",
    "            { magic = \"magic1\"; content = \"a\" }\n",
    "            { magic = \"magic2\"; content = \"b\" }\n",
    "        ],\n",
    "        (),\n",
    "        Position (\"\", 26, 9, 1)\n",
    "    )\n",
    ")"
   ]
  },
  {
   "cell_type": "markdown",
   "metadata": {},
   "source": [
    "## Output"
   ]
  },
  {
   "cell_type": "code",
   "execution_count": null,
   "metadata": {
    "dotnet_interactive": {
     "language": "fsharp"
    },
    "polyglot_notebook": {
     "kernelName": "fsharp"
    }
   },
   "outputs": [],
   "source": [
    "type Output =\n",
    "    | Fs\n",
    "    | Md\n",
    "    | Spi\n",
    "    | Spir\n",
    "\n",
    "let inline kernelOutputs magic =\n",
    "    match magic with\n",
    "    | \"fsharp\" -> [ Fs ]\n",
    "    | \"markdown\" -> [ Md ]\n",
    "    | \"spiral\" -> [ Spi; Spir ]\n",
    "    | _ -> []"
   ]
  },
  {
   "cell_type": "markdown",
   "metadata": {},
   "source": [
    "## formatBlock"
   ]
  },
  {
   "cell_type": "code",
   "execution_count": null,
   "metadata": {
    "dotnet_interactive": {
     "language": "fsharp"
    },
    "polyglot_notebook": {
     "kernelName": "fsharp"
    }
   },
   "outputs": [],
   "source": [
    "let inline formatBlock output (block : Block) =\n",
    "    match output, block with\n",
    "    | output, { magic = \"markdown\"; content = content } ->\n",
    "        let markdownComment =\n",
    "            match output with\n",
    "            | Spi | Spir -> \"// // \"\n",
    "            | Fs -> \"/// \"\n",
    "            | _ -> \"\"\n",
    "        content\n",
    "        |> Sm.split \"\\n\"\n",
    "        |> Array.map (Sm.trim_end [||])\n",
    "        |> Array.filter (Sm.ends_with \" (test)\" >> not)\n",
    "        |> Array.map (function\n",
    "            | \"\" -> markdownComment |> Sm.trim\n",
    "            | line -> System.Text.RegularExpressions.Regex.Replace (line, \"^\\\\s*\", $\"$&{markdownComment}\")\n",
    "        )\n",
    "        |> Sm.concat \"\\n\"\n",
    "    | Fs, { magic = \"fsharp\"; content = content } ->\n",
    "        let trimmedContent = content |> Sm.trim\n",
    "        if trimmedContent |> Sm.starts_with \"//// test\" || trimmedContent |> Sm.starts_with \"//// ignore\"\n",
    "        then \"\"\n",
    "        else\n",
    "            content\n",
    "            |> Sm.split \"\\n\"\n",
    "            |> Array.filter (Sm.trim_start [||] >> Sm.starts_with \"#r\" >> not)\n",
    "            |> Sm.concat \"\\n\"\n",
    "    | (Spi | Spir), { magic = \"spiral\"; content = content } ->\n",
    "        let trimmedContent = content |> Sm.trim\n",
    "        if trimmedContent |> Sm.starts_with \"// // test\" || trimmedContent |> Sm.starts_with \"// // ignore\"\n",
    "        then \"\"\n",
    "        else content\n",
    "    | _ -> \"\""
   ]
  },
  {
   "cell_type": "code",
   "execution_count": null,
   "metadata": {
    "dotnet_interactive": {
     "language": "fsharp"
    },
    "polyglot_notebook": {
     "kernelName": "fsharp"
    }
   },
   "outputs": [
    {
     "name": "stdout",
     "output_type": "stream",
     "text": [
      "/// a\n",
      "///\n",
      "    /// b\n",
      "///\n",
      "/// c\n"
     ]
    }
   ],
   "source": [
    "//// test\n",
    "\n",
    "\"#!markdown\n",
    "\n",
    "\n",
    "a\n",
    "\n",
    "    b\n",
    "\n",
    "c\n",
    "\n",
    "\n",
    "\\#!markdown\n",
    "\n",
    "\n",
    "c\n",
    "\n",
    "\n",
    "\\#!fsharp\n",
    "\n",
    "\n",
    "let a = 1\"\n",
    "|> escapeCell\n",
    "|> run block\n",
    "|> function\n",
    "    | Success (block, _, _) -> formatBlock Fs block\n",
    "    | Failure (msg, _, _) -> failwith msg\n",
    "|> _assertEqual \"/// a\n",
    "///\n",
    "    /// b\n",
    "///\n",
    "/// c\""
   ]
  },
  {
   "cell_type": "markdown",
   "metadata": {},
   "source": [
    "## formatBlocks"
   ]
  },
  {
   "cell_type": "code",
   "execution_count": null,
   "metadata": {
    "dotnet_interactive": {
     "language": "fsharp"
    },
    "polyglot_notebook": {
     "kernelName": "fsharp"
    }
   },
   "outputs": [],
   "source": [
    "let inline formatBlocks output blocks =\n",
    "    blocks\n",
    "    |> List.map (formatBlock output)\n",
    "    |> List.filter ((<>) \"\")\n",
    "    |> Sm.concat \"\\n\\n\"\n",
    "    |> fun s -> s + \"\\n\""
   ]
  },
  {
   "cell_type": "code",
   "execution_count": null,
   "metadata": {
    "dotnet_interactive": {
     "language": "fsharp"
    },
    "polyglot_notebook": {
     "kernelName": "fsharp"
    }
   },
   "outputs": [
    {
     "name": "stdout",
     "output_type": "stream",
     "text": [
      "/// a\n",
      "///\n",
      "/// b\n",
      "\n",
      "/// c\n",
      "\n",
      "let a = 1\n",
      "\n",
      "/// e\n",
      "\n",
      "let a = 3\n",
      "\n"
     ]
    }
   ],
   "source": [
    "//// test\n",
    "\n",
    "\"#!markdown\n",
    "\n",
    "\n",
    "a\n",
    "\n",
    "b\n",
    "\n",
    "\n",
    "\\#!markdown\n",
    "\n",
    "\n",
    "c\n",
    "\n",
    "\n",
    "\\#!fsharp\n",
    "\n",
    "\n",
    "let a = 1\n",
    "\n",
    "\\#!markdown\n",
    "\n",
    "d (test)\n",
    "\n",
    "\\#!fsharp\n",
    "\n",
    "//// test\n",
    "\n",
    "let a = 2\n",
    "\n",
    "\\#!markdown\n",
    "\n",
    "e\n",
    "\n",
    "\\#!fsharp\n",
    "\n",
    "let a = 3\"\n",
    "|> escapeCell\n",
    "|> run blocks\n",
    "|> function\n",
    "    | Success (blocks, _, _) -> formatBlocks Fs blocks\n",
    "    | Failure (msg, _, _) -> failwith msg\n",
    "|> _assertEqual \"/// a\n",
    "///\n",
    "/// b\n",
    "\n",
    "/// c\n",
    "\n",
    "let a = 1\n",
    "\n",
    "/// e\n",
    "\n",
    "let a = 3\n",
    "\""
   ]
  },
  {
   "cell_type": "markdown",
   "metadata": {},
   "source": [
    "## parse"
   ]
  },
  {
   "cell_type": "code",
   "execution_count": null,
   "metadata": {
    "dotnet_interactive": {
     "language": "fsharp"
    },
    "polyglot_notebook": {
     "kernelName": "fsharp"
    }
   },
   "outputs": [],
   "source": [
    "let inline parse output input =\n",
    "    match run blocks input with\n",
    "    | Success (blocks, _, _) ->\n",
    "        let blocks =\n",
    "            blocks\n",
    "            |> List.filter (fun block ->\n",
    "                block.magic |> kernelOutputs |> List.contains output || block.magic = \"markdown\"\n",
    "            )\n",
    "\n",
    "        match blocks with\n",
    "        | { magic = \"markdown\"; content = content } :: _\n",
    "            when output = Fs\n",
    "            && content |> Sm.starts_with \"# \"\n",
    "            && content |> Sm.ends_with \")\"\n",
    "            ->\n",
    "            let inline indentBlock (block : Block) =\n",
    "                { block with\n",
    "                    content =\n",
    "                        block.content\n",
    "                        |> Sm.split \"\\n\"\n",
    "                        |> Array.fold\n",
    "                            (fun (lines, isMultiline) line ->\n",
    "                                let trimmedLine = line |> Sm.trim\n",
    "                                if trimmedLine = \"\"\n",
    "                                then \"\" :: lines, isMultiline\n",
    "                                else\n",
    "                                    let inline singleQuoteLine () =\n",
    "                                        trimmedLine |> Seq.sumBy ((=) '\"' >> System.Convert.ToInt32) = 1\n",
    "                                        && trimmedLine |> Sm.contains @\"'\"\"'\" |> not\n",
    "                                        && trimmedLine |> Sm.ends_with \"{\" |> not\n",
    "                                        && trimmedLine |> Sm.ends_with \"{|\" |> not\n",
    "                                        && trimmedLine |> Sm.starts_with \"}\" |> not\n",
    "                                        && trimmedLine |> Sm.starts_with \"|}\" |> not\n",
    "\n",
    "                                    match isMultiline, trimmedLine |> Sm.split_string [| $\"{q}{q}{q}\" |] with\n",
    "                                    | false, [| _; _ |] ->\n",
    "                                        $\"    {line}\" :: lines, true\n",
    "\n",
    "                                    | true, [| _; _ |] ->\n",
    "                                        line :: lines, false\n",
    "\n",
    "                                    | false, _ when singleQuoteLine () ->\n",
    "                                        $\"    {line}\" :: lines, true\n",
    "\n",
    "                                    | false, _ when line |> Sm.starts_with \"#\" && block.magic = \"fsharp\" ->\n",
    "                                        line :: lines, false\n",
    "\n",
    "                                    | false, _ ->\n",
    "                                        $\"    {line}\" :: lines, false\n",
    "\n",
    "                                    | true, _ when singleQuoteLine () && line |> Sm.starts_with \"    \" ->\n",
    "                                        $\"    {line}\" :: lines, false\n",
    "\n",
    "                                    | true, _ when singleQuoteLine () ->\n",
    "                                        line :: lines, false\n",
    "\n",
    "                                    | true, _ ->\n",
    "                                        line :: lines, true\n",
    "                            )\n",
    "                            ([], false)\n",
    "                        |> fst\n",
    "                        |> List.rev\n",
    "                        |> Sm.concat \"\\n\"\n",
    "                }\n",
    "\n",
    "            let moduleName, namespaceName =\n",
    "                System.Text.RegularExpressions.Regex.Match (content, @\"# (.*) \\((.*)\\)$\")\n",
    "                |> fun m -> m.Groups.[1].Value, m.Groups.[2].Value\n",
    "\n",
    "            let moduleBlock =\n",
    "                {\n",
    "                    magic = \"fsharp\"\n",
    "                    content =\n",
    "                        $\"#if !INTERACTIVE\n",
    "namespace {namespaceName}\n",
    "#endif\n",
    "\n",
    "module {moduleName} =\"\n",
    "                }\n",
    "\n",
    "            blocks\n",
    "            |> List.indexed\n",
    "            |> List.fold\n",
    "                (fun blocks (index, block) ->\n",
    "                    match index with\n",
    "                    | 0 -> blocks\n",
    "                    | 1 -> indentBlock block :: moduleBlock :: blocks\n",
    "                    | _ -> indentBlock block :: blocks\n",
    "                )\n",
    "                []\n",
    "            |> List.rev\n",
    "        | _ -> blocks\n",
    "        |> Result.Ok\n",
    "    | Failure (errorMsg, _, _) -> Result.Error errorMsg"
   ]
  },
  {
   "cell_type": "code",
   "execution_count": null,
   "metadata": {
    "dotnet_interactive": {
     "language": "fsharp"
    },
    "polyglot_notebook": {
     "kernelName": "fsharp"
    }
   },
   "outputs": [],
   "source": [
    "//// test\n",
    "\n",
    "let example1 =\n",
    "    $\"\"\"#!meta\n",
    "\n",
    "{{\"kernelInfo\":{{\"defaultKernelName\":\"fsharp\",\"items\":[{{\"aliases\":[],\"name\":\"fsharp\"}},{{\"aliases\":[],\"name\":\"fsharp\"}}]}}}}\n",
    "\n",
    "\\#!markdown\n",
    "\n",
    "# TestModule (TestNamespace)\n",
    "\n",
    "\\#!fsharp\n",
    "\n",
    "\\#!import file.dib\n",
    "\n",
    "\\#!fsharp\n",
    "\n",
    "\\#r \"nuget:Expecto\"\n",
    "\n",
    "\\#!markdown\n",
    "\n",
    "## ParserLibrary\n",
    "\n",
    "\\#!fsharp\n",
    "\n",
    "open System\n",
    "\n",
    "\\#!markdown\n",
    "\n",
    "## x (test)\n",
    "\n",
    "\\#!fsharp\n",
    "\n",
    "//// ignore\n",
    "\n",
    "let x = 1\n",
    "\n",
    "\\#!spiral\n",
    "\n",
    "// // test\n",
    "\n",
    "inl x = 0i32\n",
    "\n",
    "\\#!spiral\n",
    "\n",
    "inl x = 0i32\n",
    "\n",
    "\\#!markdown\n",
    "\n",
    "### TextInput\n",
    "\n",
    "\\#!fsharp\n",
    "\n",
    "let str1 = \"abc\n",
    "def\"\n",
    "\n",
    "let str2 =\n",
    "    \"abc\\\n",
    "def\"\n",
    "\n",
    "let str3 =\n",
    "    $\"1{{\n",
    "        1\n",
    "    }}1\"\n",
    "\n",
    "let str4 =\n",
    "    $\"1{{({{|\n",
    "        a = 1\n",
    "    |}}).a}}1\"\n",
    "\n",
    "let str5 =\n",
    "    \"abc \\\n",
    "        def\"\n",
    "\n",
    "let x =\n",
    "    match '\"' with\n",
    "    | '\"' -> true\n",
    "    | _ -> false\n",
    "\n",
    "let long1 = {q}{q}{q}a{q}{q}{q}\n",
    "\n",
    "let long2 =\n",
    "    {q}{q}{q}\n",
    "a\n",
    "{q}{q}{q}\n",
    "\n",
    "\\#!fsharp\n",
    "\n",
    "type Position =\n",
    "    {{\n",
    "#if INTERACTIVE\n",
    "        line : string\n",
    "#else\n",
    "        line : int\n",
    "#endif\n",
    "        column : int\n",
    "    }}\"\"\"\n",
    "    |> escapeCell"
   ]
  },
  {
   "cell_type": "code",
   "execution_count": null,
   "metadata": {
    "dotnet_interactive": {
     "language": "fsharp"
    },
    "polyglot_notebook": {
     "kernelName": "fsharp"
    }
   },
   "outputs": [
    {
     "name": "stdout",
     "output_type": "stream",
     "text": [
      "#if !INTERACTIVE\n",
      "namespace TestNamespace\n",
      "#endif\n",
      "\n",
      "module TestModule =\n",
      "\n",
      "    /// ## ParserLibrary\n",
      "\n",
      "    open System\n",
      "\n",
      "    /// ### TextInput\n",
      "\n",
      "    let str1 = \"abc\n",
      "def\"\n",
      "\n",
      "    let str2 =\n",
      "        \"abc\\\n",
      "def\"\n",
      "\n",
      "    let str3 =\n",
      "        $\"1{\n",
      "            1\n",
      "        }1\"\n",
      "\n",
      "    let str4 =\n",
      "        $\"1{({|\n",
      "            a = 1\n",
      "        |}).a}1\"\n",
      "\n",
      "    let str5 =\n",
      "        \"abc \\\n",
      "            def\"\n",
      "\n",
      "    let x =\n",
      "        match '\"' with\n",
      "        | '\"' -> true\n",
      "        | _ -> false\n",
      "\n",
      "    let long1 = \"\"\"a\"\"\"\n",
      "\n",
      "    let long2 =\n",
      "        \"\"\"\n",
      "a\n",
      "\"\"\"\n",
      "\n",
      "    type Position =\n",
      "        {\n",
      "#if INTERACTIVE\n",
      "            line : string\n",
      "#else\n",
      "            line : int\n",
      "#endif\n",
      "            column : int\n",
      "        }\n",
      "\n"
     ]
    }
   ],
   "source": [
    "//// test\n",
    "\n",
    "example1\n",
    "|> parse Fs\n",
    "|> Result.toOption\n",
    "|> Option.get\n",
    "|> (formatBlocks Fs)\n",
    "|> _assertEqual $\"\"\"#if !INTERACTIVE\n",
    "namespace TestNamespace\n",
    "#endif\n",
    "\n",
    "module TestModule =\n",
    "\n",
    "    /// ## ParserLibrary\n",
    "\n",
    "    open System\n",
    "\n",
    "    /// ### TextInput\n",
    "\n",
    "    let str1 = \"abc\n",
    "def\"\n",
    "\n",
    "    let str2 =\n",
    "        \"abc\\\n",
    "def\"\n",
    "\n",
    "    let str3 =\n",
    "        $\"1{{\n",
    "            1\n",
    "        }}1\"\n",
    "\n",
    "    let str4 =\n",
    "        $\"1{{({{|\n",
    "            a = 1\n",
    "        |}}).a}}1\"\n",
    "\n",
    "    let str5 =\n",
    "        \"abc \\\n",
    "            def\"\n",
    "\n",
    "    let x =\n",
    "        match '\"' with\n",
    "        | '\"' -> true\n",
    "        | _ -> false\n",
    "\n",
    "    let long1 = {q}{q}{q}a{q}{q}{q}\n",
    "\n",
    "    let long2 =\n",
    "        {q}{q}{q}\n",
    "a\n",
    "{q}{q}{q}\n",
    "\n",
    "    type Position =\n",
    "        {{\n",
    "#if INTERACTIVE\n",
    "            line : string\n",
    "#else\n",
    "            line : int\n",
    "#endif\n",
    "            column : int\n",
    "        }}\n",
    "\"\"\""
   ]
  },
  {
   "cell_type": "code",
   "execution_count": null,
   "metadata": {
    "dotnet_interactive": {
     "language": "fsharp"
    },
    "polyglot_notebook": {
     "kernelName": "fsharp"
    }
   },
   "outputs": [
    {
     "name": "stdout",
     "output_type": "stream",
     "text": [
      "# TestModule (TestNamespace)\n",
      "\n",
      "## ParserLibrary\n",
      "\n",
      "### TextInput\n",
      "\n"
     ]
    }
   ],
   "source": [
    "//// test\n",
    "\n",
    "example1\n",
    "|> parse Md\n",
    "|> Result.toOption\n",
    "|> Option.get\n",
    "|> (formatBlocks Md)\n",
    "|> _assertEqual \"# TestModule (TestNamespace)\n",
    "\n",
    "## ParserLibrary\n",
    "\n",
    "### TextInput\n",
    "\""
   ]
  },
  {
   "cell_type": "code",
   "execution_count": null,
   "metadata": {
    "dotnet_interactive": {
     "language": "fsharp"
    },
    "polyglot_notebook": {
     "kernelName": "fsharp"
    }
   },
   "outputs": [
    {
     "name": "stdout",
     "output_type": "stream",
     "text": [
      "// // # TestModule (TestNamespace)\n",
      "\n",
      "// // ## ParserLibrary\n",
      "\n",
      "inl x = 0i32\n",
      "\n",
      "// // ### TextInput\n",
      "\n"
     ]
    }
   ],
   "source": [
    "//// test\n",
    "\n",
    "example1\n",
    "|> parse Spi\n",
    "|> Result.toOption\n",
    "|> Option.get\n",
    "|> (formatBlocks Spi)\n",
    "|> _assertEqual \"// // # TestModule (TestNamespace)\n",
    "\n",
    "// // ## ParserLibrary\n",
    "\n",
    "inl x = 0i32\n",
    "\n",
    "// // ### TextInput\n",
    "\""
   ]
  },
  {
   "cell_type": "markdown",
   "metadata": {},
   "source": [
    "## parseDibCode"
   ]
  },
  {
   "cell_type": "code",
   "execution_count": null,
   "metadata": {
    "dotnet_interactive": {
     "language": "fsharp"
    },
    "polyglot_notebook": {
     "kernelName": "fsharp"
    }
   },
   "outputs": [],
   "source": [
    "let inline parseDibCode output file = async {\n",
    "    let getLocals () = $\"output: {output} / file: {file} / {getLocals ()}\"\n",
    "    trace Debug (fun () -> \"parseDibCode\") getLocals\n",
    "    let! input = file |> FileSystem.readAllTextAsync\n",
    "    match parse output input with\n",
    "    | Result.Ok blocks -> return blocks |> formatBlocks output\n",
    "    | Result.Error msg -> return failwith msg\n",
    "}"
   ]
  },
  {
   "cell_type": "markdown",
   "metadata": {},
   "source": [
    "## writeDibCode"
   ]
  },
  {
   "cell_type": "code",
   "execution_count": null,
   "metadata": {
    "dotnet_interactive": {
     "language": "fsharp"
    },
    "polyglot_notebook": {
     "kernelName": "fsharp"
    }
   },
   "outputs": [],
   "source": [
    "let inline writeDibCode output path = async {\n",
    "    let getLocals () = $\"output: {output} / path: {path} / {getLocals ()}\"\n",
    "    trace Debug (fun () -> \"writeDibCode\") getLocals\n",
    "    let! result = parseDibCode output path\n",
    "    let outputPath = path |> Sm.replace \".dib\" $\".{output |> string |> Sm.to_lower}\"\n",
    "    do! result |> FileSystem.writeAllTextAsync outputPath\n",
    "}"
   ]
  },
  {
   "cell_type": "markdown",
   "metadata": {},
   "source": [
    "## Arguments"
   ]
  },
  {
   "cell_type": "code",
   "execution_count": null,
   "metadata": {
    "dotnet_interactive": {
     "language": "fsharp"
    },
    "polyglot_notebook": {
     "kernelName": "fsharp"
    }
   },
   "outputs": [],
   "source": [
    "[<RequireQualifiedAccess>]\n",
    "type Arguments =\n",
    "    | [<Argu.ArguAttributes.MainCommand; Argu.ArguAttributes.Mandatory>]\n",
    "        File of file : string * Output\n",
    "\n",
    "    interface Argu.IArgParserTemplate with\n",
    "        member s.Usage =\n",
    "            match s with\n",
    "            | File _ -> nameof File"
   ]
  },
  {
   "cell_type": "code",
   "execution_count": null,
   "metadata": {
    "dotnet_interactive": {
     "language": "fsharp"
    },
    "polyglot_notebook": {
     "kernelName": "fsharp"
    }
   },
   "outputs": [
    {
     "data": {
      "text/plain": [
       "USAGE: dotnet-repl [--help] <file> <fs|md|spi|spir>\n",
       "\n",
       "FILE:\n",
       "\n",
       "    <file> <fs|md|spi|spir>\n",
       "                          File\n",
       "\n",
       "OPTIONS:\n",
       "\n",
       "    --help                display this list of options.\n"
      ]
     },
     "metadata": {},
     "output_type": "display_data"
    }
   ],
   "source": [
    "//// test\n",
    "\n",
    "Argu.ArgumentParser.Create<Arguments>().PrintUsage ()"
   ]
  },
  {
   "cell_type": "markdown",
   "metadata": {},
   "source": [
    "## main"
   ]
  },
  {
   "cell_type": "code",
   "execution_count": null,
   "metadata": {
    "dotnet_interactive": {
     "language": "fsharp"
    },
    "polyglot_notebook": {
     "kernelName": "fsharp"
    }
   },
   "outputs": [],
   "source": [
    "let main args =\n",
    "    let argsMap = args |> Runtime.parseArgsMap<Arguments>\n",
    "\n",
    "    let files =\n",
    "        argsMap.[nameof Arguments.File]\n",
    "        |> List.map (function\n",
    "            | Arguments.File (path, output) -> path, output\n",
    "        )\n",
    "\n",
    "    files\n",
    "    |> List.map (fun (path, output) -> path |> writeDibCode output)\n",
    "    |> Async.Parallel\n",
    "    |> Async.Ignore\n",
    "    |> Async.runWithTimeout 30000\n",
    "    |> function\n",
    "        | Some () -> 0\n",
    "        | None -> 1"
   ]
  },
  {
   "cell_type": "code",
   "execution_count": null,
   "metadata": {
    "dotnet_interactive": {
     "language": "fsharp"
    },
    "polyglot_notebook": {
     "kernelName": "fsharp"
    }
   },
   "outputs": [
    {
     "data": {
      "text/html": [
       "<div class=\"dni-plaintext\"><pre>0</pre></div><style>\n",
       ".dni-code-hint {\n",
       "    font-style: italic;\n",
       "    overflow: hidden;\n",
       "    white-space: nowrap;\n",
       "}\n",
       ".dni-treeview {\n",
       "    white-space: nowrap;\n",
       "}\n",
       ".dni-treeview td {\n",
       "    vertical-align: top;\n",
       "    text-align: start;\n",
       "}\n",
       "details.dni-treeview {\n",
       "    padding-left: 1em;\n",
       "}\n",
       "table td {\n",
       "    text-align: start;\n",
       "}\n",
       "table tr { \n",
       "    vertical-align: top; \n",
       "    margin: 0em 0px;\n",
       "}\n",
       "table tr td pre \n",
       "{ \n",
       "    vertical-align: top !important; \n",
       "    margin: 0em 0px !important;\n",
       "} \n",
       "table th {\n",
       "    text-align: start;\n",
       "}\n",
       "</style>"
      ]
     },
     "metadata": {},
     "output_type": "display_data"
    },
    {
     "name": "stdout",
     "output_type": "stream",
     "text": [
      "00:00:00 #1 [Debug] writeDibCode / output: Fs / path: DibParser.dib\n",
      "00:00:00 #2 [Debug] parseDibCode / output: Fs / file: DibParser.dib\n"
     ]
    }
   ],
   "source": [
    "//// test\n",
    "\n",
    "let args =\n",
    "    System.Environment.GetEnvironmentVariable \"ARGS\"\n",
    "    |> Runtime.splitArgs\n",
    "    |> Seq.toArray\n",
    "\n",
    "match args with\n",
    "| [||] -> 0\n",
    "| args -> if main args = 0 then 0 else failwith \"main failed\""
   ]
  }
 ],
 "metadata": {},
 "nbformat": 4,
 "nbformat_minor": 5
}