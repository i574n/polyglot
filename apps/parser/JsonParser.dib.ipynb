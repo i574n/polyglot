{
 "cells": [
  {
   "cell_type": "markdown",
   "metadata": {},
   "source": [
    "# JsonParser (Polyglot)"
   ]
  },
  {
   "cell_type": "code",
   "execution_count": null,
   "metadata": {
    "dotnet_interactive": {
     "language": "fsharp"
    },
    "polyglot_notebook": {
     "kernelName": "fsharp"
    }
   },
   "outputs": [],
   "source": [
    "#!import ../../lib/fsharp/Notebooks.dib\n",
    "#!import ../../lib/fsharp/Testing.dib"
   ]
  },
  {
   "cell_type": "code",
   "execution_count": null,
   "metadata": {
    "dotnet_interactive": {
     "language": "fsharp"
    },
    "polyglot_notebook": {
     "kernelName": "fsharp"
    }
   },
   "outputs": [],
   "source": [
    "#!import ../../lib/fsharp/Common.fs\n",
    "#!import Parser.fs"
   ]
  },
  {
   "cell_type": "code",
   "execution_count": null,
   "metadata": {
    "dotnet_interactive": {
     "language": "fsharp"
    },
    "polyglot_notebook": {
     "kernelName": "fsharp"
    }
   },
   "outputs": [],
   "source": [
    "open Common\n",
    "open Parser"
   ]
  },
  {
   "cell_type": "markdown",
   "metadata": {},
   "source": [
    "## JsonParser"
   ]
  },
  {
   "cell_type": "code",
   "execution_count": null,
   "metadata": {
    "dotnet_interactive": {
     "language": "fsharp"
    },
    "polyglot_notebook": {
     "kernelName": "fsharp"
    }
   },
   "outputs": [],
   "source": [
    "(*\n",
    "// --------------------------------\n",
    "JSON spec from http://www.json.org/\n",
    "// --------------------------------\n",
    "\n",
    "The JSON spec is available at [json.org](http://www.json.org/). I'll paraphase it here:\n",
    "\n",
    "* A `value` can be a `string` or a `number` or a `bool` or `null` or an `object` or an `array`.\n",
    "  * These structures can be nested.\n",
    "* A `string` is a sequence of zero or more Unicode characters, wrapped in double quotes, using backslash escapes.\n",
    "* A `number` is very much like a C or Java number, except that the octal and hexadecimal formats are not used.\n",
    "* A `boolean` is the literal `true` or `false`\n",
    "* A `null` is the literal `null`\n",
    "* An `object` is an unordered set of name/value pairs.\n",
    "  * An object begins with { (left brace) and ends with } (right brace).\n",
    "  * Each name is followed by : (colon) and the name/value pairs are separated by , (comma).\n",
    "* An `array` is an ordered collection of values.\n",
    "  * An array begins with [ (left bracket) and ends with ] (right bracket).\n",
    "  * Values are separated by , (comma).\n",
    "* Whitespace can be inserted between any pair of tokens.\n",
    "*)"
   ]
  },
  {
   "cell_type": "code",
   "execution_count": null,
   "metadata": {
    "dotnet_interactive": {
     "language": "fsharp"
    },
    "polyglot_notebook": {
     "kernelName": "fsharp"
    }
   },
   "outputs": [],
   "source": [
    "//// test\n",
    "\n",
    "let inline parserEqual (expected : ParseResult<'a>) (actual : ParseResult<'a * Input>) =\n",
    "    match actual, expected with\n",
    "    | Success (_actual, _), Success _expected ->\n",
    "        printResult actual\n",
    "        _actual |> _assertEqual _expected\n",
    "    | Failure (l1, e1, p1), Failure (l2, e2, p2) when l1 = l2 && e1 = e2 && p1 = p2 ->\n",
    "        printResult actual\n",
    "    | _ ->\n",
    "        printfn $\"Actual: {actual}\"\n",
    "        printfn $\"Expected: {expected}\"\n",
    "        failwith \"Parse failed\"\n",
    "    actual"
   ]
  },
  {
   "cell_type": "markdown",
   "metadata": {},
   "source": [
    "### JValue"
   ]
  },
  {
   "cell_type": "code",
   "execution_count": null,
   "metadata": {
    "dotnet_interactive": {
     "language": "fsharp"
    },
    "polyglot_notebook": {
     "kernelName": "fsharp"
    }
   },
   "outputs": [],
   "source": [
    "type JValue =\n",
    "    | JString of string\n",
    "    | JNumber of float\n",
    "    | JBool   of bool\n",
    "    | JNull\n",
    "    | JObject of Map<string, JValue>\n",
    "    | JArray  of JValue list"
   ]
  },
  {
   "cell_type": "code",
   "execution_count": null,
   "metadata": {
    "dotnet_interactive": {
     "language": "fsharp"
    },
    "polyglot_notebook": {
     "kernelName": "fsharp"
    }
   },
   "outputs": [],
   "source": [
    "let jValue, jValueRef = createParserForwardedToRef<JValue> ()"
   ]
  },
  {
   "cell_type": "markdown",
   "metadata": {},
   "source": [
    "### jNull"
   ]
  },
  {
   "cell_type": "code",
   "execution_count": null,
   "metadata": {
    "dotnet_interactive": {
     "language": "fsharp"
    },
    "polyglot_notebook": {
     "kernelName": "fsharp"
    }
   },
   "outputs": [],
   "source": [
    "let jNull =\n",
    "    pstring \"null\"\n",
    "    >>% JNull\n",
    "    <?> \"null\""
   ]
  },
  {
   "cell_type": "code",
   "execution_count": null,
   "metadata": {
    "dotnet_interactive": {
     "language": "fsharp"
    },
    "polyglot_notebook": {
     "kernelName": "fsharp"
    }
   },
   "outputs": [],
   "source": [
    "//// test\n",
    "\n",
    "jValueRef <|\n",
    "    choice\n",
    "        [\n",
    "            jNull\n",
    "        ]"
   ]
  },
  {
   "cell_type": "code",
   "execution_count": null,
   "metadata": {
    "dotnet_interactive": {
     "language": "fsharp"
    },
    "polyglot_notebook": {
     "kernelName": "fsharp"
    }
   },
   "outputs": [
    {
     "data": {
      "text/html": [
       "<details open=\"open\" class=\"dni-treeview\"><summary><span class=\"dni-code-hint\"><code>Success (JNull, { lines = [|&quot;null&quot;|]\\n                  position = { line = 0\\n                               column = 4 } })</code></span></summary><div><table><thead><tr></tr></thead><tbody><tr><td>Item</td><td><details class=\"dni-treeview\"><summary><span class=\"dni-code-hint\"><code>(JNull, { lines = [|&quot;null&quot;|]\\n  position = { line = 0\\n               column = 4 } })</code></span></summary><div><table><thead><tr></tr></thead><tbody><tr><td>Item1</td><td><details class=\"dni-treeview\"><summary><span class=\"dni-code-hint\"><code>JNull</code></span></summary><div><table><thead><tr></tr></thead><tbody><tr><td>IsJString</td><td><div class=\"dni-plaintext\"><pre>false\n",
       "</pre></div></td></tr><tr><td>IsJNumber</td><td><div class=\"dni-plaintext\"><pre>false\n",
       "</pre></div></td></tr><tr><td>IsJBool</td><td><div class=\"dni-plaintext\"><pre>false\n",
       "</pre></div></td></tr><tr><td>IsJNull</td><td><div class=\"dni-plaintext\"><pre>true\n",
       "</pre></div></td></tr><tr><td>IsJObject</td><td><div class=\"dni-plaintext\"><pre>false\n",
       "</pre></div></td></tr><tr><td>IsJArray</td><td><div class=\"dni-plaintext\"><pre>false\n",
       "</pre></div></td></tr></tbody></table></div></details></td></tr><tr><td>Item2</td><td><details class=\"dni-treeview\"><summary><span class=\"dni-code-hint\"><code>{ lines = [|&quot;null&quot;|]\\n  position = { line = 0\\n               column = 4 } }</code></span></summary><div><table><thead><tr></tr></thead><tbody><tr><td>lines</td><td><div class=\"dni-plaintext\"><pre>[ null ]</pre></div></td></tr><tr><td>position</td><td><details class=\"dni-treeview\"><summary><span class=\"dni-code-hint\"><code>{ line = 0\\n  column = 4 }</code></span></summary><div><table><thead><tr></tr></thead><tbody><tr><td>line</td><td><div class=\"dni-plaintext\"><pre>0\n",
       "</pre></div></td></tr><tr><td>column</td><td><div class=\"dni-plaintext\"><pre>4\n",
       "</pre></div></td></tr></tbody></table></div></details></td></tr></tbody></table></div></details></td></tr></tbody></table></div></details></td></tr><tr><td>IsSuccess</td><td><div class=\"dni-plaintext\"><pre>true\n",
       "</pre></div></td></tr><tr><td>IsFailure</td><td><div class=\"dni-plaintext\"><pre>false\n",
       "</pre></div></td></tr></tbody></table></div></details><style>\n",
       ".dni-code-hint {\n",
       "    font-style: italic;\n",
       "    overflow: hidden;\n",
       "    white-space: nowrap;\n",
       "}\n",
       ".dni-treeview {\n",
       "    white-space: nowrap;\n",
       "}\n",
       ".dni-treeview td {\n",
       "    vertical-align: top;\n",
       "    text-align: start;\n",
       "}\n",
       "details.dni-treeview {\n",
       "    padding-left: 1em;\n",
       "}\n",
       "table td {\n",
       "    text-align: start;\n",
       "}\n",
       "table tr { \n",
       "    vertical-align: top; \n",
       "    margin: 0em 0px;\n",
       "}\n",
       "table tr td pre \n",
       "{ \n",
       "    vertical-align: top !important; \n",
       "    margin: 0em 0px !important;\n",
       "} \n",
       "table th {\n",
       "    text-align: start;\n",
       "}\n",
       "</style>"
      ]
     },
     "metadata": {},
     "output_type": "display_data"
    },
    {
     "name": "stdout",
     "output_type": "stream",
     "text": [
      "JNull\n",
      "JNull\n",
      "\n"
     ]
    }
   ],
   "source": [
    "//// test\n",
    "\n",
    "run jValue \"null\"\n",
    "|> parserEqual (Success JNull)"
   ]
  },
  {
   "cell_type": "code",
   "execution_count": null,
   "metadata": {
    "dotnet_interactive": {
     "language": "fsharp"
    },
    "polyglot_notebook": {
     "kernelName": "fsharp"
    }
   },
   "outputs": [
    {
     "data": {
      "text/html": [
       "<details open=\"open\" class=\"dni-treeview\"><summary><span class=\"dni-code-hint\"><code>Failure (&quot;null&quot;, &quot;Unexpected &#39;p&#39;&quot;, { currentLine = &quot;nulp&quot;\\n                                     line = 0\\n                                     column = 3 })</code></span></summary><div><table><thead><tr></tr></thead><tbody><tr><td>Item1</td><td><div class=\"dni-plaintext\"><pre>&quot;null&quot;\n",
       "</pre></div></td></tr><tr><td>Item2</td><td><div class=\"dni-plaintext\"><pre>&quot;Unexpected &#39;p&#39;&quot;\n",
       "</pre></div></td></tr><tr><td>Item3</td><td><details class=\"dni-treeview\"><summary><span class=\"dni-code-hint\"><code>{ currentLine = &quot;nulp&quot;\\n  line = 0\\n  column = 3 }</code></span></summary><div><table><thead><tr></tr></thead><tbody><tr><td>currentLine</td><td><div class=\"dni-plaintext\"><pre>&quot;nulp&quot;\n",
       "</pre></div></td></tr><tr><td>line</td><td><div class=\"dni-plaintext\"><pre>0\n",
       "</pre></div></td></tr><tr><td>column</td><td><div class=\"dni-plaintext\"><pre>3\n",
       "</pre></div></td></tr></tbody></table></div></details></td></tr><tr><td>IsSuccess</td><td><div class=\"dni-plaintext\"><pre>false\n",
       "</pre></div></td></tr><tr><td>IsFailure</td><td><div class=\"dni-plaintext\"><pre>true\n",
       "</pre></div></td></tr></tbody></table></div></details><style>\n",
       ".dni-code-hint {\n",
       "    font-style: italic;\n",
       "    overflow: hidden;\n",
       "    white-space: nowrap;\n",
       "}\n",
       ".dni-treeview {\n",
       "    white-space: nowrap;\n",
       "}\n",
       ".dni-treeview td {\n",
       "    vertical-align: top;\n",
       "    text-align: start;\n",
       "}\n",
       "details.dni-treeview {\n",
       "    padding-left: 1em;\n",
       "}\n",
       "table td {\n",
       "    text-align: start;\n",
       "}\n",
       "table tr { \n",
       "    vertical-align: top; \n",
       "    margin: 0em 0px;\n",
       "}\n",
       "table tr td pre \n",
       "{ \n",
       "    vertical-align: top !important; \n",
       "    margin: 0em 0px !important;\n",
       "} \n",
       "table th {\n",
       "    text-align: start;\n",
       "}\n",
       "</style>"
      ]
     },
     "metadata": {},
     "output_type": "display_data"
    },
    {
     "name": "stdout",
     "output_type": "stream",
     "text": [
      "Line:0 Col:3 Error parsing null\n",
      "nulp\n",
      "   ^Unexpected 'p'\n"
     ]
    }
   ],
   "source": [
    "//// test\n",
    "\n",
    "run jNull \"nulp\"\n",
    "|> parserEqual (\n",
    "    Failure (\n",
    "        \"null\",\n",
    "        \"Unexpected 'p'\",\n",
    "        { currentLine = \"nulp\"; line = 0; column = 3 }\n",
    "    )\n",
    ")"
   ]
  },
  {
   "cell_type": "markdown",
   "metadata": {},
   "source": [
    "### jBool"
   ]
  },
  {
   "cell_type": "code",
   "execution_count": null,
   "metadata": {
    "dotnet_interactive": {
     "language": "fsharp"
    },
    "polyglot_notebook": {
     "kernelName": "fsharp"
    }
   },
   "outputs": [],
   "source": [
    "let jBool =\n",
    "    let jtrue =\n",
    "        pstring \"true\"\n",
    "        >>% JBool true\n",
    "    let jfalse =\n",
    "        pstring \"false\"\n",
    "        >>% JBool false\n",
    "\n",
    "    jtrue <|> jfalse\n",
    "    <?> \"bool\""
   ]
  },
  {
   "cell_type": "code",
   "execution_count": null,
   "metadata": {
    "dotnet_interactive": {
     "language": "fsharp"
    },
    "polyglot_notebook": {
     "kernelName": "fsharp"
    }
   },
   "outputs": [],
   "source": [
    "//// test\n",
    "\n",
    "jValueRef <|\n",
    "    choice\n",
    "        [\n",
    "            jNull\n",
    "            jBool\n",
    "        ]"
   ]
  },
  {
   "cell_type": "code",
   "execution_count": null,
   "metadata": {
    "dotnet_interactive": {
     "language": "fsharp"
    },
    "polyglot_notebook": {
     "kernelName": "fsharp"
    }
   },
   "outputs": [
    {
     "data": {
      "text/html": [
       "<details open=\"open\" class=\"dni-treeview\"><summary><span class=\"dni-code-hint\"><code>Success (JBool true, { lines = [|&quot;true&quot;|]\\n                       position = { line = 0\\n                                    column = 4 } })</code></span></summary><div><table><thead><tr></tr></thead><tbody><tr><td>Item</td><td><details class=\"dni-treeview\"><summary><span class=\"dni-code-hint\"><code>(JBool true, { lines = [|&quot;true&quot;|]\\n  position = { line = 0\\n               column = 4 } })</code></span></summary><div><table><thead><tr></tr></thead><tbody><tr><td>Item1</td><td><details class=\"dni-treeview\"><summary><span class=\"dni-code-hint\"><code>JBool true</code></span></summary><div><table><thead><tr></tr></thead><tbody><tr><td>Item</td><td><div class=\"dni-plaintext\"><pre>true\n",
       "</pre></div></td></tr><tr><td>IsJString</td><td><div class=\"dni-plaintext\"><pre>false\n",
       "</pre></div></td></tr><tr><td>IsJNumber</td><td><div class=\"dni-plaintext\"><pre>false\n",
       "</pre></div></td></tr><tr><td>IsJBool</td><td><div class=\"dni-plaintext\"><pre>true\n",
       "</pre></div></td></tr><tr><td>IsJNull</td><td><div class=\"dni-plaintext\"><pre>false\n",
       "</pre></div></td></tr><tr><td>IsJObject</td><td><div class=\"dni-plaintext\"><pre>false\n",
       "</pre></div></td></tr><tr><td>IsJArray</td><td><div class=\"dni-plaintext\"><pre>false\n",
       "</pre></div></td></tr></tbody></table></div></details></td></tr><tr><td>Item2</td><td><details class=\"dni-treeview\"><summary><span class=\"dni-code-hint\"><code>{ lines = [|&quot;true&quot;|]\\n  position = { line = 0\\n               column = 4 } }</code></span></summary><div><table><thead><tr></tr></thead><tbody><tr><td>lines</td><td><div class=\"dni-plaintext\"><pre>[ true ]</pre></div></td></tr><tr><td>position</td><td><details class=\"dni-treeview\"><summary><span class=\"dni-code-hint\"><code>{ line = 0\\n  column = 4 }</code></span></summary><div><table><thead><tr></tr></thead><tbody><tr><td>line</td><td><div class=\"dni-plaintext\"><pre>0\n",
       "</pre></div></td></tr><tr><td>column</td><td><div class=\"dni-plaintext\"><pre>4\n",
       "</pre></div></td></tr></tbody></table></div></details></td></tr></tbody></table></div></details></td></tr></tbody></table></div></details></td></tr><tr><td>IsSuccess</td><td><div class=\"dni-plaintext\"><pre>true\n",
       "</pre></div></td></tr><tr><td>IsFailure</td><td><div class=\"dni-plaintext\"><pre>false\n",
       "</pre></div></td></tr></tbody></table></div></details><style>\n",
       ".dni-code-hint {\n",
       "    font-style: italic;\n",
       "    overflow: hidden;\n",
       "    white-space: nowrap;\n",
       "}\n",
       ".dni-treeview {\n",
       "    white-space: nowrap;\n",
       "}\n",
       ".dni-treeview td {\n",
       "    vertical-align: top;\n",
       "    text-align: start;\n",
       "}\n",
       "details.dni-treeview {\n",
       "    padding-left: 1em;\n",
       "}\n",
       "table td {\n",
       "    text-align: start;\n",
       "}\n",
       "table tr { \n",
       "    vertical-align: top; \n",
       "    margin: 0em 0px;\n",
       "}\n",
       "table tr td pre \n",
       "{ \n",
       "    vertical-align: top !important; \n",
       "    margin: 0em 0px !important;\n",
       "} \n",
       "table th {\n",
       "    text-align: start;\n",
       "}\n",
       "</style>"
      ]
     },
     "metadata": {},
     "output_type": "display_data"
    },
    {
     "name": "stdout",
     "output_type": "stream",
     "text": [
      "JBool true\n",
      "JBool true\n",
      "\n"
     ]
    }
   ],
   "source": [
    "//// test\n",
    "\n",
    "run jBool \"true\"\n",
    "|> parserEqual (Success (JBool true))"
   ]
  },
  {
   "cell_type": "code",
   "execution_count": null,
   "metadata": {
    "dotnet_interactive": {
     "language": "fsharp"
    },
    "polyglot_notebook": {
     "kernelName": "fsharp"
    }
   },
   "outputs": [
    {
     "data": {
      "text/html": [
       "<details open=\"open\" class=\"dni-treeview\"><summary><span class=\"dni-code-hint\"><code>Success (JBool false, { lines = [|&quot;false&quot;|]\\n                        position = { line = 0\\n                                     column = 5 } })</code></span></summary><div><table><thead><tr></tr></thead><tbody><tr><td>Item</td><td><details class=\"dni-treeview\"><summary><span class=\"dni-code-hint\"><code>(JBool false, { lines = [|&quot;false&quot;|]\\n  position = { line = 0\\n               column = 5 } })</code></span></summary><div><table><thead><tr></tr></thead><tbody><tr><td>Item1</td><td><details class=\"dni-treeview\"><summary><span class=\"dni-code-hint\"><code>JBool false</code></span></summary><div><table><thead><tr></tr></thead><tbody><tr><td>Item</td><td><div class=\"dni-plaintext\"><pre>false\n",
       "</pre></div></td></tr><tr><td>IsJString</td><td><div class=\"dni-plaintext\"><pre>false\n",
       "</pre></div></td></tr><tr><td>IsJNumber</td><td><div class=\"dni-plaintext\"><pre>false\n",
       "</pre></div></td></tr><tr><td>IsJBool</td><td><div class=\"dni-plaintext\"><pre>true\n",
       "</pre></div></td></tr><tr><td>IsJNull</td><td><div class=\"dni-plaintext\"><pre>false\n",
       "</pre></div></td></tr><tr><td>IsJObject</td><td><div class=\"dni-plaintext\"><pre>false\n",
       "</pre></div></td></tr><tr><td>IsJArray</td><td><div class=\"dni-plaintext\"><pre>false\n",
       "</pre></div></td></tr></tbody></table></div></details></td></tr><tr><td>Item2</td><td><details class=\"dni-treeview\"><summary><span class=\"dni-code-hint\"><code>{ lines = [|&quot;false&quot;|]\\n  position = { line = 0\\n               column = 5 } }</code></span></summary><div><table><thead><tr></tr></thead><tbody><tr><td>lines</td><td><div class=\"dni-plaintext\"><pre>[ false ]</pre></div></td></tr><tr><td>position</td><td><details class=\"dni-treeview\"><summary><span class=\"dni-code-hint\"><code>{ line = 0\\n  column = 5 }</code></span></summary><div><table><thead><tr></tr></thead><tbody><tr><td>line</td><td><div class=\"dni-plaintext\"><pre>0\n",
       "</pre></div></td></tr><tr><td>column</td><td><div class=\"dni-plaintext\"><pre>5\n",
       "</pre></div></td></tr></tbody></table></div></details></td></tr></tbody></table></div></details></td></tr></tbody></table></div></details></td></tr><tr><td>IsSuccess</td><td><div class=\"dni-plaintext\"><pre>true\n",
       "</pre></div></td></tr><tr><td>IsFailure</td><td><div class=\"dni-plaintext\"><pre>false\n",
       "</pre></div></td></tr></tbody></table></div></details><style>\n",
       ".dni-code-hint {\n",
       "    font-style: italic;\n",
       "    overflow: hidden;\n",
       "    white-space: nowrap;\n",
       "}\n",
       ".dni-treeview {\n",
       "    white-space: nowrap;\n",
       "}\n",
       ".dni-treeview td {\n",
       "    vertical-align: top;\n",
       "    text-align: start;\n",
       "}\n",
       "details.dni-treeview {\n",
       "    padding-left: 1em;\n",
       "}\n",
       "table td {\n",
       "    text-align: start;\n",
       "}\n",
       "table tr { \n",
       "    vertical-align: top; \n",
       "    margin: 0em 0px;\n",
       "}\n",
       "table tr td pre \n",
       "{ \n",
       "    vertical-align: top !important; \n",
       "    margin: 0em 0px !important;\n",
       "} \n",
       "table th {\n",
       "    text-align: start;\n",
       "}\n",
       "</style>"
      ]
     },
     "metadata": {},
     "output_type": "display_data"
    },
    {
     "name": "stdout",
     "output_type": "stream",
     "text": [
      "JBool false\n",
      "JBool false\n",
      "\n"
     ]
    }
   ],
   "source": [
    "//// test\n",
    "\n",
    "run jBool \"false\"\n",
    "|> parserEqual (Success (JBool false))"
   ]
  },
  {
   "cell_type": "code",
   "execution_count": null,
   "metadata": {
    "dotnet_interactive": {
     "language": "fsharp"
    },
    "polyglot_notebook": {
     "kernelName": "fsharp"
    }
   },
   "outputs": [
    {
     "data": {
      "text/html": [
       "<details open=\"open\" class=\"dni-treeview\"><summary><span class=\"dni-code-hint\"><code>Failure (&quot;bool&quot;, &quot;Unexpected &#39;t&#39;&quot;, { currentLine = &quot;truX&quot;\\n                                     line = 0\\n                                     column = 0 })</code></span></summary><div><table><thead><tr></tr></thead><tbody><tr><td>Item1</td><td><div class=\"dni-plaintext\"><pre>&quot;bool&quot;\n",
       "</pre></div></td></tr><tr><td>Item2</td><td><div class=\"dni-plaintext\"><pre>&quot;Unexpected &#39;t&#39;&quot;\n",
       "</pre></div></td></tr><tr><td>Item3</td><td><details class=\"dni-treeview\"><summary><span class=\"dni-code-hint\"><code>{ currentLine = &quot;truX&quot;\\n  line = 0\\n  column = 0 }</code></span></summary><div><table><thead><tr></tr></thead><tbody><tr><td>currentLine</td><td><div class=\"dni-plaintext\"><pre>&quot;truX&quot;\n",
       "</pre></div></td></tr><tr><td>line</td><td><div class=\"dni-plaintext\"><pre>0\n",
       "</pre></div></td></tr><tr><td>column</td><td><div class=\"dni-plaintext\"><pre>0\n",
       "</pre></div></td></tr></tbody></table></div></details></td></tr><tr><td>IsSuccess</td><td><div class=\"dni-plaintext\"><pre>false\n",
       "</pre></div></td></tr><tr><td>IsFailure</td><td><div class=\"dni-plaintext\"><pre>true\n",
       "</pre></div></td></tr></tbody></table></div></details><style>\n",
       ".dni-code-hint {\n",
       "    font-style: italic;\n",
       "    overflow: hidden;\n",
       "    white-space: nowrap;\n",
       "}\n",
       ".dni-treeview {\n",
       "    white-space: nowrap;\n",
       "}\n",
       ".dni-treeview td {\n",
       "    vertical-align: top;\n",
       "    text-align: start;\n",
       "}\n",
       "details.dni-treeview {\n",
       "    padding-left: 1em;\n",
       "}\n",
       "table td {\n",
       "    text-align: start;\n",
       "}\n",
       "table tr { \n",
       "    vertical-align: top; \n",
       "    margin: 0em 0px;\n",
       "}\n",
       "table tr td pre \n",
       "{ \n",
       "    vertical-align: top !important; \n",
       "    margin: 0em 0px !important;\n",
       "} \n",
       "table th {\n",
       "    text-align: start;\n",
       "}\n",
       "</style>"
      ]
     },
     "metadata": {},
     "output_type": "display_data"
    },
    {
     "name": "stdout",
     "output_type": "stream",
     "text": [
      "Line:0 Col:0 Error parsing bool\n",
      "truX\n",
      "^Unexpected 't'\n"
     ]
    }
   ],
   "source": [
    "//// test\n",
    "\n",
    "run jBool \"truX\"\n",
    "|> parserEqual (\n",
    "    Failure (\n",
    "        \"bool\",\n",
    "        \"Unexpected 't'\",\n",
    "        { currentLine = \"truX\"; line = 0; column = 0 }\n",
    "    )\n",
    ")"
   ]
  },
  {
   "cell_type": "markdown",
   "metadata": {},
   "source": [
    "### jUnescapedChar"
   ]
  },
  {
   "cell_type": "code",
   "execution_count": null,
   "metadata": {
    "dotnet_interactive": {
     "language": "fsharp"
    },
    "polyglot_notebook": {
     "kernelName": "fsharp"
    }
   },
   "outputs": [],
   "source": [
    "let jUnescapedChar =\n",
    "    satisfy (fun ch -> ch <> '\\\\' && ch <> '\\\"') \"char\""
   ]
  },
  {
   "cell_type": "code",
   "execution_count": null,
   "metadata": {
    "dotnet_interactive": {
     "language": "fsharp"
    },
    "polyglot_notebook": {
     "kernelName": "fsharp"
    }
   },
   "outputs": [
    {
     "data": {
      "text/html": [
       "<details open=\"open\" class=\"dni-treeview\"><summary><span class=\"dni-code-hint\"><code>Success (&#39;a&#39;, { lines = [|&quot;a&quot;|]\\n                position = { line = 0\\n                             column = 1 } })</code></span></summary><div><table><thead><tr></tr></thead><tbody><tr><td>Item</td><td><details class=\"dni-treeview\"><summary><span class=\"dni-code-hint\"><code>(a, { lines = [|&quot;a&quot;|]\\n  position = { line = 0\\n               column = 1 } })</code></span></summary><div><table><thead><tr></tr></thead><tbody><tr><td>Item1</td><td><div class=\"dni-plaintext\"><pre>&#39;a&#39;\n",
       "</pre></div></td></tr><tr><td>Item2</td><td><details class=\"dni-treeview\"><summary><span class=\"dni-code-hint\"><code>{ lines = [|&quot;a&quot;|]\\n  position = { line = 0\\n               column = 1 } }</code></span></summary><div><table><thead><tr></tr></thead><tbody><tr><td>lines</td><td><div class=\"dni-plaintext\"><pre>[ a ]</pre></div></td></tr><tr><td>position</td><td><details class=\"dni-treeview\"><summary><span class=\"dni-code-hint\"><code>{ line = 0\\n  column = 1 }</code></span></summary><div><table><thead><tr></tr></thead><tbody><tr><td>line</td><td><div class=\"dni-plaintext\"><pre>0\n",
       "</pre></div></td></tr><tr><td>column</td><td><div class=\"dni-plaintext\"><pre>1\n",
       "</pre></div></td></tr></tbody></table></div></details></td></tr></tbody></table></div></details></td></tr></tbody></table></div></details></td></tr><tr><td>IsSuccess</td><td><div class=\"dni-plaintext\"><pre>true\n",
       "</pre></div></td></tr><tr><td>IsFailure</td><td><div class=\"dni-plaintext\"><pre>false\n",
       "</pre></div></td></tr></tbody></table></div></details><style>\n",
       ".dni-code-hint {\n",
       "    font-style: italic;\n",
       "    overflow: hidden;\n",
       "    white-space: nowrap;\n",
       "}\n",
       ".dni-treeview {\n",
       "    white-space: nowrap;\n",
       "}\n",
       ".dni-treeview td {\n",
       "    vertical-align: top;\n",
       "    text-align: start;\n",
       "}\n",
       "details.dni-treeview {\n",
       "    padding-left: 1em;\n",
       "}\n",
       "table td {\n",
       "    text-align: start;\n",
       "}\n",
       "table tr { \n",
       "    vertical-align: top; \n",
       "    margin: 0em 0px;\n",
       "}\n",
       "table tr td pre \n",
       "{ \n",
       "    vertical-align: top !important; \n",
       "    margin: 0em 0px !important;\n",
       "} \n",
       "table th {\n",
       "    text-align: start;\n",
       "}\n",
       "</style>"
      ]
     },
     "metadata": {},
     "output_type": "display_data"
    },
    {
     "name": "stdout",
     "output_type": "stream",
     "text": [
      "'a'\n",
      "'a'\n",
      "\n"
     ]
    }
   ],
   "source": [
    "//// test\n",
    "\n",
    "run jUnescapedChar \"a\"\n",
    "|> parserEqual (Success 'a')"
   ]
  },
  {
   "cell_type": "code",
   "execution_count": null,
   "metadata": {
    "dotnet_interactive": {
     "language": "fsharp"
    },
    "polyglot_notebook": {
     "kernelName": "fsharp"
    }
   },
   "outputs": [
    {
     "data": {
      "text/html": [
       "<details open=\"open\" class=\"dni-treeview\"><summary><span class=\"dni-code-hint\"><code>Failure (&quot;char&quot;, &quot;Unexpected &#39;\\&#39;&quot;, { currentLine = &quot;\\&quot;\\n                                     line = 0\\n                                     column = 0 })</code></span></summary><div><table><thead><tr></tr></thead><tbody><tr><td>Item1</td><td><div class=\"dni-plaintext\"><pre>&quot;char&quot;\n",
       "</pre></div></td></tr><tr><td>Item2</td><td><div class=\"dni-plaintext\"><pre>&quot;Unexpected &#39;\\&#39;&quot;\n",
       "</pre></div></td></tr><tr><td>Item3</td><td><details class=\"dni-treeview\"><summary><span class=\"dni-code-hint\"><code>{ currentLine = &quot;\\&quot;\\n  line = 0\\n  column = 0 }</code></span></summary><div><table><thead><tr></tr></thead><tbody><tr><td>currentLine</td><td><div class=\"dni-plaintext\"><pre>&quot;\\&quot;\n",
       "</pre></div></td></tr><tr><td>line</td><td><div class=\"dni-plaintext\"><pre>0\n",
       "</pre></div></td></tr><tr><td>column</td><td><div class=\"dni-plaintext\"><pre>0\n",
       "</pre></div></td></tr></tbody></table></div></details></td></tr><tr><td>IsSuccess</td><td><div class=\"dni-plaintext\"><pre>false\n",
       "</pre></div></td></tr><tr><td>IsFailure</td><td><div class=\"dni-plaintext\"><pre>true\n",
       "</pre></div></td></tr></tbody></table></div></details><style>\n",
       ".dni-code-hint {\n",
       "    font-style: italic;\n",
       "    overflow: hidden;\n",
       "    white-space: nowrap;\n",
       "}\n",
       ".dni-treeview {\n",
       "    white-space: nowrap;\n",
       "}\n",
       ".dni-treeview td {\n",
       "    vertical-align: top;\n",
       "    text-align: start;\n",
       "}\n",
       "details.dni-treeview {\n",
       "    padding-left: 1em;\n",
       "}\n",
       "table td {\n",
       "    text-align: start;\n",
       "}\n",
       "table tr { \n",
       "    vertical-align: top; \n",
       "    margin: 0em 0px;\n",
       "}\n",
       "table tr td pre \n",
       "{ \n",
       "    vertical-align: top !important; \n",
       "    margin: 0em 0px !important;\n",
       "} \n",
       "table th {\n",
       "    text-align: start;\n",
       "}\n",
       "</style>"
      ]
     },
     "metadata": {},
     "output_type": "display_data"
    },
    {
     "name": "stdout",
     "output_type": "stream",
     "text": [
      "Line:0 Col:0 Error parsing char\n",
      "\\\n",
      "^Unexpected '\\'\n"
     ]
    }
   ],
   "source": [
    "//// test\n",
    "\n",
    "run jUnescapedChar \"\\\\\"\n",
    "|> parserEqual (\n",
    "    Failure (\n",
    "        \"char\",\n",
    "        \"Unexpected '\\\\'\",\n",
    "        { currentLine = \"\\\\\"; line = 0; column = 0 }\n",
    "    )\n",
    ")"
   ]
  },
  {
   "cell_type": "markdown",
   "metadata": {},
   "source": [
    "### jEscapedChar"
   ]
  },
  {
   "cell_type": "code",
   "execution_count": null,
   "metadata": {
    "dotnet_interactive": {
     "language": "fsharp"
    },
    "polyglot_notebook": {
     "kernelName": "fsharp"
    }
   },
   "outputs": [],
   "source": [
    "let jEscapedChar =\n",
    "    [\n",
    "        (\"\\\\\\\"\",'\\\"')\n",
    "        (\"\\\\\\\\\",'\\\\')\n",
    "        (\"\\\\/\",'/')\n",
    "        (\"\\\\b\",'\\b')\n",
    "        (\"\\\\f\",'\\f')\n",
    "        (\"\\\\n\",'\\n')\n",
    "        (\"\\\\r\",'\\r')\n",
    "        (\"\\\\t\",'\\t')\n",
    "    ]\n",
    "    |> List.map (fun (toMatch, result) ->\n",
    "        pstring toMatch >>% result\n",
    "    )\n",
    "    |> choice\n",
    "    <?> \"escaped char\""
   ]
  },
  {
   "cell_type": "code",
   "execution_count": null,
   "metadata": {
    "dotnet_interactive": {
     "language": "fsharp"
    },
    "polyglot_notebook": {
     "kernelName": "fsharp"
    }
   },
   "outputs": [
    {
     "data": {
      "text/html": [
       "<details open=\"open\" class=\"dni-treeview\"><summary><span class=\"dni-code-hint\"><code>Success (&#39;\\\\&#39;, { lines = [|&quot;\\\\&quot;|]\\n                 position = { line = 0\\n                              column = 2 } })</code></span></summary><div><table><thead><tr></tr></thead><tbody><tr><td>Item</td><td><details class=\"dni-treeview\"><summary><span class=\"dni-code-hint\"><code>(\\, { lines = [|&quot;\\\\&quot;|]\\n  position = { line = 0\\n               column = 2 } })</code></span></summary><div><table><thead><tr></tr></thead><tbody><tr><td>Item1</td><td><div class=\"dni-plaintext\"><pre>&#39;\\\\&#39;\n",
       "</pre></div></td></tr><tr><td>Item2</td><td><details class=\"dni-treeview\"><summary><span class=\"dni-code-hint\"><code>{ lines = [|&quot;\\\\&quot;|]\\n  position = { line = 0\\n               column = 2 } }</code></span></summary><div><table><thead><tr></tr></thead><tbody><tr><td>lines</td><td><div class=\"dni-plaintext\"><pre>[ \\\\ ]</pre></div></td></tr><tr><td>position</td><td><details class=\"dni-treeview\"><summary><span class=\"dni-code-hint\"><code>{ line = 0\\n  column = 2 }</code></span></summary><div><table><thead><tr></tr></thead><tbody><tr><td>line</td><td><div class=\"dni-plaintext\"><pre>0\n",
       "</pre></div></td></tr><tr><td>column</td><td><div class=\"dni-plaintext\"><pre>2\n",
       "</pre></div></td></tr></tbody></table></div></details></td></tr></tbody></table></div></details></td></tr></tbody></table></div></details></td></tr><tr><td>IsSuccess</td><td><div class=\"dni-plaintext\"><pre>true\n",
       "</pre></div></td></tr><tr><td>IsFailure</td><td><div class=\"dni-plaintext\"><pre>false\n",
       "</pre></div></td></tr></tbody></table></div></details><style>\n",
       ".dni-code-hint {\n",
       "    font-style: italic;\n",
       "    overflow: hidden;\n",
       "    white-space: nowrap;\n",
       "}\n",
       ".dni-treeview {\n",
       "    white-space: nowrap;\n",
       "}\n",
       ".dni-treeview td {\n",
       "    vertical-align: top;\n",
       "    text-align: start;\n",
       "}\n",
       "details.dni-treeview {\n",
       "    padding-left: 1em;\n",
       "}\n",
       "table td {\n",
       "    text-align: start;\n",
       "}\n",
       "table tr { \n",
       "    vertical-align: top; \n",
       "    margin: 0em 0px;\n",
       "}\n",
       "table tr td pre \n",
       "{ \n",
       "    vertical-align: top !important; \n",
       "    margin: 0em 0px !important;\n",
       "} \n",
       "table th {\n",
       "    text-align: start;\n",
       "}\n",
       "</style>"
      ]
     },
     "metadata": {},
     "output_type": "display_data"
    },
    {
     "name": "stdout",
     "output_type": "stream",
     "text": [
      "'\\\\'\n",
      "'\\\\'\n",
      "\n"
     ]
    }
   ],
   "source": [
    "//// test\n",
    "\n",
    "run jEscapedChar \"\\\\\\\\\"\n",
    "|> parserEqual (Success '\\\\')"
   ]
  },
  {
   "cell_type": "code",
   "execution_count": null,
   "metadata": {
    "dotnet_interactive": {
     "language": "fsharp"
    },
    "polyglot_notebook": {
     "kernelName": "fsharp"
    }
   },
   "outputs": [
    {
     "data": {
      "text/html": [
       "<details open=\"open\" class=\"dni-treeview\"><summary><span class=\"dni-code-hint\"><code>Success (&#39;\\009&#39;, { lines = [|&quot;\\t&quot;|]\\n                   position = { line = 0\\n                                column = 2 } })</code></span></summary><div><table><thead><tr></tr></thead><tbody><tr><td>Item</td><td><details class=\"dni-treeview\"><summary><span class=\"dni-code-hint\"><code>(\t, { lines = [|&quot;\\t&quot;|]\\n  position = { line = 0\\n               column = 2 } })</code></span></summary><div><table><thead><tr></tr></thead><tbody><tr><td>Item1</td><td><div class=\"dni-plaintext\"><pre>&#39;\\009&#39;\n",
       "</pre></div></td></tr><tr><td>Item2</td><td><details class=\"dni-treeview\"><summary><span class=\"dni-code-hint\"><code>{ lines = [|&quot;\\t&quot;|]\\n  position = { line = 0\\n               column = 2 } }</code></span></summary><div><table><thead><tr></tr></thead><tbody><tr><td>lines</td><td><div class=\"dni-plaintext\"><pre>[ \\t ]</pre></div></td></tr><tr><td>position</td><td><details class=\"dni-treeview\"><summary><span class=\"dni-code-hint\"><code>{ line = 0\\n  column = 2 }</code></span></summary><div><table><thead><tr></tr></thead><tbody><tr><td>line</td><td><div class=\"dni-plaintext\"><pre>0\n",
       "</pre></div></td></tr><tr><td>column</td><td><div class=\"dni-plaintext\"><pre>2\n",
       "</pre></div></td></tr></tbody></table></div></details></td></tr></tbody></table></div></details></td></tr></tbody></table></div></details></td></tr><tr><td>IsSuccess</td><td><div class=\"dni-plaintext\"><pre>true\n",
       "</pre></div></td></tr><tr><td>IsFailure</td><td><div class=\"dni-plaintext\"><pre>false\n",
       "</pre></div></td></tr></tbody></table></div></details><style>\n",
       ".dni-code-hint {\n",
       "    font-style: italic;\n",
       "    overflow: hidden;\n",
       "    white-space: nowrap;\n",
       "}\n",
       ".dni-treeview {\n",
       "    white-space: nowrap;\n",
       "}\n",
       ".dni-treeview td {\n",
       "    vertical-align: top;\n",
       "    text-align: start;\n",
       "}\n",
       "details.dni-treeview {\n",
       "    padding-left: 1em;\n",
       "}\n",
       "table td {\n",
       "    text-align: start;\n",
       "}\n",
       "table tr { \n",
       "    vertical-align: top; \n",
       "    margin: 0em 0px;\n",
       "}\n",
       "table tr td pre \n",
       "{ \n",
       "    vertical-align: top !important; \n",
       "    margin: 0em 0px !important;\n",
       "} \n",
       "table th {\n",
       "    text-align: start;\n",
       "}\n",
       "</style>"
      ]
     },
     "metadata": {},
     "output_type": "display_data"
    },
    {
     "name": "stdout",
     "output_type": "stream",
     "text": [
      "'\\009'\n",
      "'\\009'\n",
      "\n"
     ]
    }
   ],
   "source": [
    "//// test\n",
    "\n",
    "run jEscapedChar \"\\\\t\"\n",
    "|> parserEqual (Success '\\t')"
   ]
  },
  {
   "cell_type": "code",
   "execution_count": null,
   "metadata": {
    "dotnet_interactive": {
     "language": "fsharp"
    },
    "polyglot_notebook": {
     "kernelName": "fsharp"
    }
   },
   "outputs": [
    {
     "data": {
      "text/html": [
       "<details open=\"open\" class=\"dni-treeview\"><summary><span class=\"dni-code-hint\"><code>Success (&#39;\\\\&#39;, { lines = [|&quot;\\\\&quot;|]\\n                 position = { line = 0\\n                              column = 2 } })</code></span></summary><div><table><thead><tr></tr></thead><tbody><tr><td>Item</td><td><details class=\"dni-treeview\"><summary><span class=\"dni-code-hint\"><code>(\\, { lines = [|&quot;\\\\&quot;|]\\n  position = { line = 0\\n               column = 2 } })</code></span></summary><div><table><thead><tr></tr></thead><tbody><tr><td>Item1</td><td><div class=\"dni-plaintext\"><pre>&#39;\\\\&#39;\n",
       "</pre></div></td></tr><tr><td>Item2</td><td><details class=\"dni-treeview\"><summary><span class=\"dni-code-hint\"><code>{ lines = [|&quot;\\\\&quot;|]\\n  position = { line = 0\\n               column = 2 } }</code></span></summary><div><table><thead><tr></tr></thead><tbody><tr><td>lines</td><td><div class=\"dni-plaintext\"><pre>[ \\\\ ]</pre></div></td></tr><tr><td>position</td><td><details class=\"dni-treeview\"><summary><span class=\"dni-code-hint\"><code>{ line = 0\\n  column = 2 }</code></span></summary><div><table><thead><tr></tr></thead><tbody><tr><td>line</td><td><div class=\"dni-plaintext\"><pre>0\n",
       "</pre></div></td></tr><tr><td>column</td><td><div class=\"dni-plaintext\"><pre>2\n",
       "</pre></div></td></tr></tbody></table></div></details></td></tr></tbody></table></div></details></td></tr></tbody></table></div></details></td></tr><tr><td>IsSuccess</td><td><div class=\"dni-plaintext\"><pre>true\n",
       "</pre></div></td></tr><tr><td>IsFailure</td><td><div class=\"dni-plaintext\"><pre>false\n",
       "</pre></div></td></tr></tbody></table></div></details><style>\n",
       ".dni-code-hint {\n",
       "    font-style: italic;\n",
       "    overflow: hidden;\n",
       "    white-space: nowrap;\n",
       "}\n",
       ".dni-treeview {\n",
       "    white-space: nowrap;\n",
       "}\n",
       ".dni-treeview td {\n",
       "    vertical-align: top;\n",
       "    text-align: start;\n",
       "}\n",
       "details.dni-treeview {\n",
       "    padding-left: 1em;\n",
       "}\n",
       "table td {\n",
       "    text-align: start;\n",
       "}\n",
       "table tr { \n",
       "    vertical-align: top; \n",
       "    margin: 0em 0px;\n",
       "}\n",
       "table tr td pre \n",
       "{ \n",
       "    vertical-align: top !important; \n",
       "    margin: 0em 0px !important;\n",
       "} \n",
       "table th {\n",
       "    text-align: start;\n",
       "}\n",
       "</style>"
      ]
     },
     "metadata": {},
     "output_type": "display_data"
    },
    {
     "name": "stdout",
     "output_type": "stream",
     "text": [
      "'\\\\'\n",
      "'\\\\'\n",
      "\n"
     ]
    }
   ],
   "source": [
    "//// test\n",
    "\n",
    "run jEscapedChar @\"\\\\\"\n",
    "|> parserEqual (Success '\\\\')"
   ]
  },
  {
   "cell_type": "code",
   "execution_count": null,
   "metadata": {
    "dotnet_interactive": {
     "language": "fsharp"
    },
    "polyglot_notebook": {
     "kernelName": "fsharp"
    }
   },
   "outputs": [
    {
     "data": {
      "text/html": [
       "<details open=\"open\" class=\"dni-treeview\"><summary><span class=\"dni-code-hint\"><code>Success (&#39;\\010&#39;, { lines = [|&quot;\\n&quot;|]\\n                   position = { line = 0\\n                                column = 2 } })</code></span></summary><div><table><thead><tr></tr></thead><tbody><tr><td>Item</td><td><details class=\"dni-treeview\"><summary><span class=\"dni-code-hint\"><code>(\\n, { lines = [|&quot;\\n&quot;|]\\n  position = { line = 0\\n               column = 2 } })</code></span></summary><div><table><thead><tr></tr></thead><tbody><tr><td>Item1</td><td><div class=\"dni-plaintext\"><pre>&#39;\\010&#39;\n",
       "</pre></div></td></tr><tr><td>Item2</td><td><details class=\"dni-treeview\"><summary><span class=\"dni-code-hint\"><code>{ lines = [|&quot;\\n&quot;|]\\n  position = { line = 0\\n               column = 2 } }</code></span></summary><div><table><thead><tr></tr></thead><tbody><tr><td>lines</td><td><div class=\"dni-plaintext\"><pre>[ \\n ]</pre></div></td></tr><tr><td>position</td><td><details class=\"dni-treeview\"><summary><span class=\"dni-code-hint\"><code>{ line = 0\\n  column = 2 }</code></span></summary><div><table><thead><tr></tr></thead><tbody><tr><td>line</td><td><div class=\"dni-plaintext\"><pre>0\n",
       "</pre></div></td></tr><tr><td>column</td><td><div class=\"dni-plaintext\"><pre>2\n",
       "</pre></div></td></tr></tbody></table></div></details></td></tr></tbody></table></div></details></td></tr></tbody></table></div></details></td></tr><tr><td>IsSuccess</td><td><div class=\"dni-plaintext\"><pre>true\n",
       "</pre></div></td></tr><tr><td>IsFailure</td><td><div class=\"dni-plaintext\"><pre>false\n",
       "</pre></div></td></tr></tbody></table></div></details><style>\n",
       ".dni-code-hint {\n",
       "    font-style: italic;\n",
       "    overflow: hidden;\n",
       "    white-space: nowrap;\n",
       "}\n",
       ".dni-treeview {\n",
       "    white-space: nowrap;\n",
       "}\n",
       ".dni-treeview td {\n",
       "    vertical-align: top;\n",
       "    text-align: start;\n",
       "}\n",
       "details.dni-treeview {\n",
       "    padding-left: 1em;\n",
       "}\n",
       "table td {\n",
       "    text-align: start;\n",
       "}\n",
       "table tr { \n",
       "    vertical-align: top; \n",
       "    margin: 0em 0px;\n",
       "}\n",
       "table tr td pre \n",
       "{ \n",
       "    vertical-align: top !important; \n",
       "    margin: 0em 0px !important;\n",
       "} \n",
       "table th {\n",
       "    text-align: start;\n",
       "}\n",
       "</style>"
      ]
     },
     "metadata": {},
     "output_type": "display_data"
    },
    {
     "name": "stdout",
     "output_type": "stream",
     "text": [
      "'\\010'\n",
      "'\\010'\n",
      "\n"
     ]
    }
   ],
   "source": [
    "//// test\n",
    "\n",
    "run jEscapedChar @\"\\n\"\n",
    "|> parserEqual (Success '\\n')"
   ]
  },
  {
   "cell_type": "code",
   "execution_count": null,
   "metadata": {
    "dotnet_interactive": {
     "language": "fsharp"
    },
    "polyglot_notebook": {
     "kernelName": "fsharp"
    }
   },
   "outputs": [
    {
     "data": {
      "text/html": [
       "<details open=\"open\" class=\"dni-treeview\"><summary><span class=\"dni-code-hint\"><code>Failure (&quot;escaped char&quot;, &quot;Unexpected &#39;a&#39;&quot;, { currentLine = &quot;a&quot;\\n                                             line = 0\\n                                             column = 0 })</code></span></summary><div><table><thead><tr></tr></thead><tbody><tr><td>Item1</td><td><div class=\"dni-plaintext\"><pre>&quot;escaped char&quot;\n",
       "</pre></div></td></tr><tr><td>Item2</td><td><div class=\"dni-plaintext\"><pre>&quot;Unexpected &#39;a&#39;&quot;\n",
       "</pre></div></td></tr><tr><td>Item3</td><td><details class=\"dni-treeview\"><summary><span class=\"dni-code-hint\"><code>{ currentLine = &quot;a&quot;\\n  line = 0\\n  column = 0 }</code></span></summary><div><table><thead><tr></tr></thead><tbody><tr><td>currentLine</td><td><div class=\"dni-plaintext\"><pre>&quot;a&quot;\n",
       "</pre></div></td></tr><tr><td>line</td><td><div class=\"dni-plaintext\"><pre>0\n",
       "</pre></div></td></tr><tr><td>column</td><td><div class=\"dni-plaintext\"><pre>0\n",
       "</pre></div></td></tr></tbody></table></div></details></td></tr><tr><td>IsSuccess</td><td><div class=\"dni-plaintext\"><pre>false\n",
       "</pre></div></td></tr><tr><td>IsFailure</td><td><div class=\"dni-plaintext\"><pre>true\n",
       "</pre></div></td></tr></tbody></table></div></details><style>\n",
       ".dni-code-hint {\n",
       "    font-style: italic;\n",
       "    overflow: hidden;\n",
       "    white-space: nowrap;\n",
       "}\n",
       ".dni-treeview {\n",
       "    white-space: nowrap;\n",
       "}\n",
       ".dni-treeview td {\n",
       "    vertical-align: top;\n",
       "    text-align: start;\n",
       "}\n",
       "details.dni-treeview {\n",
       "    padding-left: 1em;\n",
       "}\n",
       "table td {\n",
       "    text-align: start;\n",
       "}\n",
       "table tr { \n",
       "    vertical-align: top; \n",
       "    margin: 0em 0px;\n",
       "}\n",
       "table tr td pre \n",
       "{ \n",
       "    vertical-align: top !important; \n",
       "    margin: 0em 0px !important;\n",
       "} \n",
       "table th {\n",
       "    text-align: start;\n",
       "}\n",
       "</style>"
      ]
     },
     "metadata": {},
     "output_type": "display_data"
    },
    {
     "name": "stdout",
     "output_type": "stream",
     "text": [
      "Line:0 Col:0 Error parsing escaped char\n",
      "a\n",
      "^Unexpected 'a'\n"
     ]
    }
   ],
   "source": [
    "//// test\n",
    "\n",
    "run jEscapedChar \"a\"\n",
    "|> parserEqual (\n",
    "    Failure (\n",
    "        \"escaped char\",\n",
    "        \"Unexpected 'a'\",\n",
    "        { currentLine = \"a\"; line = 0; column = 0 }\n",
    "    )\n",
    ")"
   ]
  },
  {
   "cell_type": "markdown",
   "metadata": {},
   "source": [
    "### jUnicodeChar"
   ]
  },
  {
   "cell_type": "code",
   "execution_count": null,
   "metadata": {
    "dotnet_interactive": {
     "language": "fsharp"
    },
    "polyglot_notebook": {
     "kernelName": "fsharp"
    }
   },
   "outputs": [],
   "source": [
    "let jUnicodeChar =\n",
    "    let backslash = pchar '\\\\'\n",
    "    let uChar = pchar 'u'\n",
    "    let hexdigit = anyOf ([ '0' .. '9' ] @ [ 'A' .. 'F' ] @ [ 'a' .. 'f' ])\n",
    "    let fourHexDigits = hexdigit .>>. hexdigit .>>. hexdigit .>>. hexdigit\n",
    "\n",
    "    let inline convertToChar (((h1, h2), h3), h4) =\n",
    "        let str = $\"%c{h1}%c{h2}%c{h3}%c{h4}\"\n",
    "        Int32.Parse (str, Globalization.NumberStyles.HexNumber) |> char\n",
    "\n",
    "    backslash >>. uChar >>. fourHexDigits\n",
    "    |>> convertToChar"
   ]
  },
  {
   "cell_type": "code",
   "execution_count": null,
   "metadata": {
    "dotnet_interactive": {
     "language": "fsharp"
    },
    "polyglot_notebook": {
     "kernelName": "fsharp"
    }
   },
   "outputs": [
    {
     "data": {
      "text/html": [
       "<details open=\"open\" class=\"dni-treeview\"><summary><span class=\"dni-code-hint\"><code>Success (&#39;☺&#39;, { lines = [|&quot;\\u263A&quot;|]\\n                position = { line = 0\\n                             column = 6 } })</code></span></summary><div><table><thead><tr></tr></thead><tbody><tr><td>Item</td><td><details class=\"dni-treeview\"><summary><span class=\"dni-code-hint\"><code>(☺, { lines = [|&quot;\\u263A&quot;|]\\n  position = { line = 0\\n               column = 6 } })</code></span></summary><div><table><thead><tr></tr></thead><tbody><tr><td>Item1</td><td><div class=\"dni-plaintext\"><pre>&#39;☺&#39;\n",
       "</pre></div></td></tr><tr><td>Item2</td><td><details class=\"dni-treeview\"><summary><span class=\"dni-code-hint\"><code>{ lines = [|&quot;\\u263A&quot;|]\\n  position = { line = 0\\n               column = 6 } }</code></span></summary><div><table><thead><tr></tr></thead><tbody><tr><td>lines</td><td><div class=\"dni-plaintext\"><pre>[ \\u263A ]</pre></div></td></tr><tr><td>position</td><td><details class=\"dni-treeview\"><summary><span class=\"dni-code-hint\"><code>{ line = 0\\n  column = 6 }</code></span></summary><div><table><thead><tr></tr></thead><tbody><tr><td>line</td><td><div class=\"dni-plaintext\"><pre>0\n",
       "</pre></div></td></tr><tr><td>column</td><td><div class=\"dni-plaintext\"><pre>6\n",
       "</pre></div></td></tr></tbody></table></div></details></td></tr></tbody></table></div></details></td></tr></tbody></table></div></details></td></tr><tr><td>IsSuccess</td><td><div class=\"dni-plaintext\"><pre>true\n",
       "</pre></div></td></tr><tr><td>IsFailure</td><td><div class=\"dni-plaintext\"><pre>false\n",
       "</pre></div></td></tr></tbody></table></div></details><style>\n",
       ".dni-code-hint {\n",
       "    font-style: italic;\n",
       "    overflow: hidden;\n",
       "    white-space: nowrap;\n",
       "}\n",
       ".dni-treeview {\n",
       "    white-space: nowrap;\n",
       "}\n",
       ".dni-treeview td {\n",
       "    vertical-align: top;\n",
       "    text-align: start;\n",
       "}\n",
       "details.dni-treeview {\n",
       "    padding-left: 1em;\n",
       "}\n",
       "table td {\n",
       "    text-align: start;\n",
       "}\n",
       "table tr { \n",
       "    vertical-align: top; \n",
       "    margin: 0em 0px;\n",
       "}\n",
       "table tr td pre \n",
       "{ \n",
       "    vertical-align: top !important; \n",
       "    margin: 0em 0px !important;\n",
       "} \n",
       "table th {\n",
       "    text-align: start;\n",
       "}\n",
       "</style>"
      ]
     },
     "metadata": {},
     "output_type": "display_data"
    },
    {
     "name": "stdout",
     "output_type": "stream",
     "text": [
      "'☺'\n",
      "'☺'\n",
      "\n"
     ]
    }
   ],
   "source": [
    "//// test\n",
    "\n",
    "run jUnicodeChar \"\\\\u263A\"\n",
    "|> parserEqual (Success '☺')"
   ]
  },
  {
   "cell_type": "markdown",
   "metadata": {},
   "source": [
    "### jString"
   ]
  },
  {
   "cell_type": "code",
   "execution_count": null,
   "metadata": {
    "dotnet_interactive": {
     "language": "fsharp"
    },
    "polyglot_notebook": {
     "kernelName": "fsharp"
    }
   },
   "outputs": [],
   "source": [
    "let quotedString =\n",
    "    let quote = pchar '\\\"' <?> \"quote\"\n",
    "    let jchar = jUnescapedChar <|> jEscapedChar <|> jUnicodeChar\n",
    "\n",
    "    quote >>. manyChars jchar .>> quote"
   ]
  },
  {
   "cell_type": "code",
   "execution_count": null,
   "metadata": {
    "dotnet_interactive": {
     "language": "fsharp"
    },
    "polyglot_notebook": {
     "kernelName": "fsharp"
    }
   },
   "outputs": [],
   "source": [
    "let jString =\n",
    "    quotedString\n",
    "    |>> JString\n",
    "    <?> \"quoted string\""
   ]
  },
  {
   "cell_type": "code",
   "execution_count": null,
   "metadata": {
    "dotnet_interactive": {
     "language": "fsharp"
    },
    "polyglot_notebook": {
     "kernelName": "fsharp"
    }
   },
   "outputs": [],
   "source": [
    "//// test\n",
    "\n",
    "jValueRef <|\n",
    "    choice\n",
    "        [\n",
    "            jNull\n",
    "            jBool\n",
    "            jString\n",
    "        ]"
   ]
  },
  {
   "cell_type": "code",
   "execution_count": null,
   "metadata": {
    "dotnet_interactive": {
     "language": "fsharp"
    },
    "polyglot_notebook": {
     "kernelName": "fsharp"
    }
   },
   "outputs": [
    {
     "data": {
      "text/html": [
       "<details open=\"open\" class=\"dni-treeview\"><summary><span class=\"dni-code-hint\"><code>Success (JString &quot;&quot;, { lines = [|&quot;&quot;&quot;&quot;|]\\n                       position = { line = 0\\n                                    column = 2 } })</code></span></summary><div><table><thead><tr></tr></thead><tbody><tr><td>Item</td><td><details class=\"dni-treeview\"><summary><span class=\"dni-code-hint\"><code>(JString &quot;&quot;, { lines = [|&quot;&quot;&quot;&quot;|]\\n  position = { line = 0\\n               column = 2 } })</code></span></summary><div><table><thead><tr></tr></thead><tbody><tr><td>Item1</td><td><details class=\"dni-treeview\"><summary><span class=\"dni-code-hint\"><code>JString &quot;&quot;</code></span></summary><div><table><thead><tr></tr></thead><tbody><tr><td>Item</td><td><div class=\"dni-plaintext\"><pre>&quot;&quot;\n",
       "</pre></div></td></tr><tr><td>IsJString</td><td><div class=\"dni-plaintext\"><pre>true\n",
       "</pre></div></td></tr><tr><td>IsJNumber</td><td><div class=\"dni-plaintext\"><pre>false\n",
       "</pre></div></td></tr><tr><td>IsJBool</td><td><div class=\"dni-plaintext\"><pre>false\n",
       "</pre></div></td></tr><tr><td>IsJNull</td><td><div class=\"dni-plaintext\"><pre>false\n",
       "</pre></div></td></tr><tr><td>IsJObject</td><td><div class=\"dni-plaintext\"><pre>false\n",
       "</pre></div></td></tr><tr><td>IsJArray</td><td><div class=\"dni-plaintext\"><pre>false\n",
       "</pre></div></td></tr></tbody></table></div></details></td></tr><tr><td>Item2</td><td><details class=\"dni-treeview\"><summary><span class=\"dni-code-hint\"><code>{ lines = [|&quot;&quot;&quot;&quot;|]\\n  position = { line = 0\\n               column = 2 } }</code></span></summary><div><table><thead><tr></tr></thead><tbody><tr><td>lines</td><td><div class=\"dni-plaintext\"><pre>[ &quot;&quot; ]</pre></div></td></tr><tr><td>position</td><td><details class=\"dni-treeview\"><summary><span class=\"dni-code-hint\"><code>{ line = 0\\n  column = 2 }</code></span></summary><div><table><thead><tr></tr></thead><tbody><tr><td>line</td><td><div class=\"dni-plaintext\"><pre>0\n",
       "</pre></div></td></tr><tr><td>column</td><td><div class=\"dni-plaintext\"><pre>2\n",
       "</pre></div></td></tr></tbody></table></div></details></td></tr></tbody></table></div></details></td></tr></tbody></table></div></details></td></tr><tr><td>IsSuccess</td><td><div class=\"dni-plaintext\"><pre>true\n",
       "</pre></div></td></tr><tr><td>IsFailure</td><td><div class=\"dni-plaintext\"><pre>false\n",
       "</pre></div></td></tr></tbody></table></div></details><style>\n",
       ".dni-code-hint {\n",
       "    font-style: italic;\n",
       "    overflow: hidden;\n",
       "    white-space: nowrap;\n",
       "}\n",
       ".dni-treeview {\n",
       "    white-space: nowrap;\n",
       "}\n",
       ".dni-treeview td {\n",
       "    vertical-align: top;\n",
       "    text-align: start;\n",
       "}\n",
       "details.dni-treeview {\n",
       "    padding-left: 1em;\n",
       "}\n",
       "table td {\n",
       "    text-align: start;\n",
       "}\n",
       "table tr { \n",
       "    vertical-align: top; \n",
       "    margin: 0em 0px;\n",
       "}\n",
       "table tr td pre \n",
       "{ \n",
       "    vertical-align: top !important; \n",
       "    margin: 0em 0px !important;\n",
       "} \n",
       "table th {\n",
       "    text-align: start;\n",
       "}\n",
       "</style>"
      ]
     },
     "metadata": {},
     "output_type": "display_data"
    },
    {
     "name": "stdout",
     "output_type": "stream",
     "text": [
      "JString \"\"\n",
      "JString \"\"\n",
      "\n"
     ]
    }
   ],
   "source": [
    "//// test\n",
    "\n",
    "run jString \"\\\"\\\"\"\n",
    "|> parserEqual (Success (JString \"\"))"
   ]
  },
  {
   "cell_type": "code",
   "execution_count": null,
   "metadata": {
    "dotnet_interactive": {
     "language": "fsharp"
    },
    "polyglot_notebook": {
     "kernelName": "fsharp"
    }
   },
   "outputs": [
    {
     "data": {
      "text/html": [
       "<details open=\"open\" class=\"dni-treeview\"><summary><span class=\"dni-code-hint\"><code>Success (JString &quot;a&quot;, { lines = [|&quot;&quot;a&quot;&quot;|]\\n                        position = { line = 0\\n                                     column = 3 } })</code></span></summary><div><table><thead><tr></tr></thead><tbody><tr><td>Item</td><td><details class=\"dni-treeview\"><summary><span class=\"dni-code-hint\"><code>(JString &quot;a&quot;, { lines = [|&quot;&quot;a&quot;&quot;|]\\n  position = { line = 0\\n               column = 3 } })</code></span></summary><div><table><thead><tr></tr></thead><tbody><tr><td>Item1</td><td><details class=\"dni-treeview\"><summary><span class=\"dni-code-hint\"><code>JString &quot;a&quot;</code></span></summary><div><table><thead><tr></tr></thead><tbody><tr><td>Item</td><td><div class=\"dni-plaintext\"><pre>&quot;a&quot;\n",
       "</pre></div></td></tr><tr><td>IsJString</td><td><div class=\"dni-plaintext\"><pre>true\n",
       "</pre></div></td></tr><tr><td>IsJNumber</td><td><div class=\"dni-plaintext\"><pre>false\n",
       "</pre></div></td></tr><tr><td>IsJBool</td><td><div class=\"dni-plaintext\"><pre>false\n",
       "</pre></div></td></tr><tr><td>IsJNull</td><td><div class=\"dni-plaintext\"><pre>false\n",
       "</pre></div></td></tr><tr><td>IsJObject</td><td><div class=\"dni-plaintext\"><pre>false\n",
       "</pre></div></td></tr><tr><td>IsJArray</td><td><div class=\"dni-plaintext\"><pre>false\n",
       "</pre></div></td></tr></tbody></table></div></details></td></tr><tr><td>Item2</td><td><details class=\"dni-treeview\"><summary><span class=\"dni-code-hint\"><code>{ lines = [|&quot;&quot;a&quot;&quot;|]\\n  position = { line = 0\\n               column = 3 } }</code></span></summary><div><table><thead><tr></tr></thead><tbody><tr><td>lines</td><td><div class=\"dni-plaintext\"><pre>[ &quot;a&quot; ]</pre></div></td></tr><tr><td>position</td><td><details class=\"dni-treeview\"><summary><span class=\"dni-code-hint\"><code>{ line = 0\\n  column = 3 }</code></span></summary><div><table><thead><tr></tr></thead><tbody><tr><td>line</td><td><div class=\"dni-plaintext\"><pre>0\n",
       "</pre></div></td></tr><tr><td>column</td><td><div class=\"dni-plaintext\"><pre>3\n",
       "</pre></div></td></tr></tbody></table></div></details></td></tr></tbody></table></div></details></td></tr></tbody></table></div></details></td></tr><tr><td>IsSuccess</td><td><div class=\"dni-plaintext\"><pre>true\n",
       "</pre></div></td></tr><tr><td>IsFailure</td><td><div class=\"dni-plaintext\"><pre>false\n",
       "</pre></div></td></tr></tbody></table></div></details><style>\n",
       ".dni-code-hint {\n",
       "    font-style: italic;\n",
       "    overflow: hidden;\n",
       "    white-space: nowrap;\n",
       "}\n",
       ".dni-treeview {\n",
       "    white-space: nowrap;\n",
       "}\n",
       ".dni-treeview td {\n",
       "    vertical-align: top;\n",
       "    text-align: start;\n",
       "}\n",
       "details.dni-treeview {\n",
       "    padding-left: 1em;\n",
       "}\n",
       "table td {\n",
       "    text-align: start;\n",
       "}\n",
       "table tr { \n",
       "    vertical-align: top; \n",
       "    margin: 0em 0px;\n",
       "}\n",
       "table tr td pre \n",
       "{ \n",
       "    vertical-align: top !important; \n",
       "    margin: 0em 0px !important;\n",
       "} \n",
       "table th {\n",
       "    text-align: start;\n",
       "}\n",
       "</style>"
      ]
     },
     "metadata": {},
     "output_type": "display_data"
    },
    {
     "name": "stdout",
     "output_type": "stream",
     "text": [
      "JString \"a\"\n",
      "JString \"a\"\n",
      "\n"
     ]
    }
   ],
   "source": [
    "//// test\n",
    "\n",
    "run jString \"\\\"a\\\"\"\n",
    "|> parserEqual (Success (JString \"a\"))"
   ]
  },
  {
   "cell_type": "code",
   "execution_count": null,
   "metadata": {
    "dotnet_interactive": {
     "language": "fsharp"
    },
    "polyglot_notebook": {
     "kernelName": "fsharp"
    }
   },
   "outputs": [
    {
     "data": {
      "text/html": [
       "<details open=\"open\" class=\"dni-treeview\"><summary><span class=\"dni-code-hint\"><code>Success (JString &quot;ab&quot;, { lines = [|&quot;&quot;ab&quot;&quot;|]\\n                         position = { line = 0\\n                                      column = 4 } })</code></span></summary><div><table><thead><tr></tr></thead><tbody><tr><td>Item</td><td><details class=\"dni-treeview\"><summary><span class=\"dni-code-hint\"><code>(JString &quot;ab&quot;, { lines = [|&quot;&quot;ab&quot;&quot;|]\\n  position = { line = 0\\n               column = 4 } })</code></span></summary><div><table><thead><tr></tr></thead><tbody><tr><td>Item1</td><td><details class=\"dni-treeview\"><summary><span class=\"dni-code-hint\"><code>JString &quot;ab&quot;</code></span></summary><div><table><thead><tr></tr></thead><tbody><tr><td>Item</td><td><div class=\"dni-plaintext\"><pre>&quot;ab&quot;\n",
       "</pre></div></td></tr><tr><td>IsJString</td><td><div class=\"dni-plaintext\"><pre>true\n",
       "</pre></div></td></tr><tr><td>IsJNumber</td><td><div class=\"dni-plaintext\"><pre>false\n",
       "</pre></div></td></tr><tr><td>IsJBool</td><td><div class=\"dni-plaintext\"><pre>false\n",
       "</pre></div></td></tr><tr><td>IsJNull</td><td><div class=\"dni-plaintext\"><pre>false\n",
       "</pre></div></td></tr><tr><td>IsJObject</td><td><div class=\"dni-plaintext\"><pre>false\n",
       "</pre></div></td></tr><tr><td>IsJArray</td><td><div class=\"dni-plaintext\"><pre>false\n",
       "</pre></div></td></tr></tbody></table></div></details></td></tr><tr><td>Item2</td><td><details class=\"dni-treeview\"><summary><span class=\"dni-code-hint\"><code>{ lines = [|&quot;&quot;ab&quot;&quot;|]\\n  position = { line = 0\\n               column = 4 } }</code></span></summary><div><table><thead><tr></tr></thead><tbody><tr><td>lines</td><td><div class=\"dni-plaintext\"><pre>[ &quot;ab&quot; ]</pre></div></td></tr><tr><td>position</td><td><details class=\"dni-treeview\"><summary><span class=\"dni-code-hint\"><code>{ line = 0\\n  column = 4 }</code></span></summary><div><table><thead><tr></tr></thead><tbody><tr><td>line</td><td><div class=\"dni-plaintext\"><pre>0\n",
       "</pre></div></td></tr><tr><td>column</td><td><div class=\"dni-plaintext\"><pre>4\n",
       "</pre></div></td></tr></tbody></table></div></details></td></tr></tbody></table></div></details></td></tr></tbody></table></div></details></td></tr><tr><td>IsSuccess</td><td><div class=\"dni-plaintext\"><pre>true\n",
       "</pre></div></td></tr><tr><td>IsFailure</td><td><div class=\"dni-plaintext\"><pre>false\n",
       "</pre></div></td></tr></tbody></table></div></details><style>\n",
       ".dni-code-hint {\n",
       "    font-style: italic;\n",
       "    overflow: hidden;\n",
       "    white-space: nowrap;\n",
       "}\n",
       ".dni-treeview {\n",
       "    white-space: nowrap;\n",
       "}\n",
       ".dni-treeview td {\n",
       "    vertical-align: top;\n",
       "    text-align: start;\n",
       "}\n",
       "details.dni-treeview {\n",
       "    padding-left: 1em;\n",
       "}\n",
       "table td {\n",
       "    text-align: start;\n",
       "}\n",
       "table tr { \n",
       "    vertical-align: top; \n",
       "    margin: 0em 0px;\n",
       "}\n",
       "table tr td pre \n",
       "{ \n",
       "    vertical-align: top !important; \n",
       "    margin: 0em 0px !important;\n",
       "} \n",
       "table th {\n",
       "    text-align: start;\n",
       "}\n",
       "</style>"
      ]
     },
     "metadata": {},
     "output_type": "display_data"
    },
    {
     "name": "stdout",
     "output_type": "stream",
     "text": [
      "JString \"ab\"\n",
      "JString \"ab\"\n",
      "\n"
     ]
    }
   ],
   "source": [
    "//// test\n",
    "\n",
    "run jString \"\\\"ab\\\"\"\n",
    "|> parserEqual (Success (JString \"ab\"))"
   ]
  },
  {
   "cell_type": "code",
   "execution_count": null,
   "metadata": {
    "dotnet_interactive": {
     "language": "fsharp"
    },
    "polyglot_notebook": {
     "kernelName": "fsharp"
    }
   },
   "outputs": [
    {
     "data": {
      "text/html": [
       "<details open=\"open\" class=\"dni-treeview\"><summary><span class=\"dni-code-hint\"><code>Success (JString &quot;ab\tde&quot;, { lines = [|&quot;&quot;ab\\tde&quot;&quot;|]\\n                            position = { line = 0\\n                                         column = 8 } })</code></span></summary><div><table><thead><tr></tr></thead><tbody><tr><td>Item</td><td><details class=\"dni-treeview\"><summary><span class=\"dni-code-hint\"><code>(JString &quot;ab\tde&quot;, { lines = [|&quot;&quot;ab\\tde&quot;&quot;|]\\n  position = { line = 0\\n               column = 8 } })</code></span></summary><div><table><thead><tr></tr></thead><tbody><tr><td>Item1</td><td><details class=\"dni-treeview\"><summary><span class=\"dni-code-hint\"><code>JString &quot;ab\tde&quot;</code></span></summary><div><table><thead><tr></tr></thead><tbody><tr><td>Item</td><td><div class=\"dni-plaintext\"><pre>&quot;ab\tde&quot;\n",
       "</pre></div></td></tr><tr><td>IsJString</td><td><div class=\"dni-plaintext\"><pre>true\n",
       "</pre></div></td></tr><tr><td>IsJNumber</td><td><div class=\"dni-plaintext\"><pre>false\n",
       "</pre></div></td></tr><tr><td>IsJBool</td><td><div class=\"dni-plaintext\"><pre>false\n",
       "</pre></div></td></tr><tr><td>IsJNull</td><td><div class=\"dni-plaintext\"><pre>false\n",
       "</pre></div></td></tr><tr><td>IsJObject</td><td><div class=\"dni-plaintext\"><pre>false\n",
       "</pre></div></td></tr><tr><td>IsJArray</td><td><div class=\"dni-plaintext\"><pre>false\n",
       "</pre></div></td></tr></tbody></table></div></details></td></tr><tr><td>Item2</td><td><details class=\"dni-treeview\"><summary><span class=\"dni-code-hint\"><code>{ lines = [|&quot;&quot;ab\\tde&quot;&quot;|]\\n  position = { line = 0\\n               column = 8 } }</code></span></summary><div><table><thead><tr></tr></thead><tbody><tr><td>lines</td><td><div class=\"dni-plaintext\"><pre>[ &quot;ab\\tde&quot; ]</pre></div></td></tr><tr><td>position</td><td><details class=\"dni-treeview\"><summary><span class=\"dni-code-hint\"><code>{ line = 0\\n  column = 8 }</code></span></summary><div><table><thead><tr></tr></thead><tbody><tr><td>line</td><td><div class=\"dni-plaintext\"><pre>0\n",
       "</pre></div></td></tr><tr><td>column</td><td><div class=\"dni-plaintext\"><pre>8\n",
       "</pre></div></td></tr></tbody></table></div></details></td></tr></tbody></table></div></details></td></tr></tbody></table></div></details></td></tr><tr><td>IsSuccess</td><td><div class=\"dni-plaintext\"><pre>true\n",
       "</pre></div></td></tr><tr><td>IsFailure</td><td><div class=\"dni-plaintext\"><pre>false\n",
       "</pre></div></td></tr></tbody></table></div></details><style>\n",
       ".dni-code-hint {\n",
       "    font-style: italic;\n",
       "    overflow: hidden;\n",
       "    white-space: nowrap;\n",
       "}\n",
       ".dni-treeview {\n",
       "    white-space: nowrap;\n",
       "}\n",
       ".dni-treeview td {\n",
       "    vertical-align: top;\n",
       "    text-align: start;\n",
       "}\n",
       "details.dni-treeview {\n",
       "    padding-left: 1em;\n",
       "}\n",
       "table td {\n",
       "    text-align: start;\n",
       "}\n",
       "table tr { \n",
       "    vertical-align: top; \n",
       "    margin: 0em 0px;\n",
       "}\n",
       "table tr td pre \n",
       "{ \n",
       "    vertical-align: top !important; \n",
       "    margin: 0em 0px !important;\n",
       "} \n",
       "table th {\n",
       "    text-align: start;\n",
       "}\n",
       "</style>"
      ]
     },
     "metadata": {},
     "output_type": "display_data"
    },
    {
     "name": "stdout",
     "output_type": "stream",
     "text": [
      "JString \"ab\tde\"\n",
      "JString \"ab\tde\"\n",
      "\n"
     ]
    }
   ],
   "source": [
    "//// test\n",
    "\n",
    "run jString \"\\\"ab\\\\tde\\\"\"\n",
    "|> parserEqual (Success (JString \"ab\\tde\"))"
   ]
  },
  {
   "cell_type": "code",
   "execution_count": null,
   "metadata": {
    "dotnet_interactive": {
     "language": "fsharp"
    },
    "polyglot_notebook": {
     "kernelName": "fsharp"
    }
   },
   "outputs": [
    {
     "data": {
      "text/html": [
       "<details open=\"open\" class=\"dni-treeview\"><summary><span class=\"dni-code-hint\"><code>Success (JString &quot;ab☺de&quot;, { lines = [|&quot;&quot;ab\\u263Ade&quot;&quot;|]\\n                            position = { line = 0\\n                                         column = 12 } })</code></span></summary><div><table><thead><tr></tr></thead><tbody><tr><td>Item</td><td><details class=\"dni-treeview\"><summary><span class=\"dni-code-hint\"><code>(JString &quot;ab☺de&quot;, { lines = [|&quot;&quot;ab\\u263Ade&quot;&quot;|]\\n  position = { line = 0\\n               column = 12 } })</code></span></summary><div><table><thead><tr></tr></thead><tbody><tr><td>Item1</td><td><details class=\"dni-treeview\"><summary><span class=\"dni-code-hint\"><code>JString &quot;ab☺de&quot;</code></span></summary><div><table><thead><tr></tr></thead><tbody><tr><td>Item</td><td><div class=\"dni-plaintext\"><pre>&quot;ab☺de&quot;\n",
       "</pre></div></td></tr><tr><td>IsJString</td><td><div class=\"dni-plaintext\"><pre>true\n",
       "</pre></div></td></tr><tr><td>IsJNumber</td><td><div class=\"dni-plaintext\"><pre>false\n",
       "</pre></div></td></tr><tr><td>IsJBool</td><td><div class=\"dni-plaintext\"><pre>false\n",
       "</pre></div></td></tr><tr><td>IsJNull</td><td><div class=\"dni-plaintext\"><pre>false\n",
       "</pre></div></td></tr><tr><td>IsJObject</td><td><div class=\"dni-plaintext\"><pre>false\n",
       "</pre></div></td></tr><tr><td>IsJArray</td><td><div class=\"dni-plaintext\"><pre>false\n",
       "</pre></div></td></tr></tbody></table></div></details></td></tr><tr><td>Item2</td><td><details class=\"dni-treeview\"><summary><span class=\"dni-code-hint\"><code>{ lines = [|&quot;&quot;ab\\u263Ade&quot;&quot;|]\\n  position = { line = 0\\n               column = 12 } }</code></span></summary><div><table><thead><tr></tr></thead><tbody><tr><td>lines</td><td><div class=\"dni-plaintext\"><pre>[ &quot;ab\\u263Ade&quot; ]</pre></div></td></tr><tr><td>position</td><td><details class=\"dni-treeview\"><summary><span class=\"dni-code-hint\"><code>{ line = 0\\n  column = 12 }</code></span></summary><div><table><thead><tr></tr></thead><tbody><tr><td>line</td><td><div class=\"dni-plaintext\"><pre>0\n",
       "</pre></div></td></tr><tr><td>column</td><td><div class=\"dni-plaintext\"><pre>12\n",
       "</pre></div></td></tr></tbody></table></div></details></td></tr></tbody></table></div></details></td></tr></tbody></table></div></details></td></tr><tr><td>IsSuccess</td><td><div class=\"dni-plaintext\"><pre>true\n",
       "</pre></div></td></tr><tr><td>IsFailure</td><td><div class=\"dni-plaintext\"><pre>false\n",
       "</pre></div></td></tr></tbody></table></div></details><style>\n",
       ".dni-code-hint {\n",
       "    font-style: italic;\n",
       "    overflow: hidden;\n",
       "    white-space: nowrap;\n",
       "}\n",
       ".dni-treeview {\n",
       "    white-space: nowrap;\n",
       "}\n",
       ".dni-treeview td {\n",
       "    vertical-align: top;\n",
       "    text-align: start;\n",
       "}\n",
       "details.dni-treeview {\n",
       "    padding-left: 1em;\n",
       "}\n",
       "table td {\n",
       "    text-align: start;\n",
       "}\n",
       "table tr { \n",
       "    vertical-align: top; \n",
       "    margin: 0em 0px;\n",
       "}\n",
       "table tr td pre \n",
       "{ \n",
       "    vertical-align: top !important; \n",
       "    margin: 0em 0px !important;\n",
       "} \n",
       "table th {\n",
       "    text-align: start;\n",
       "}\n",
       "</style>"
      ]
     },
     "metadata": {},
     "output_type": "display_data"
    },
    {
     "name": "stdout",
     "output_type": "stream",
     "text": [
      "JString \"ab☺de\"\n",
      "JString \"ab☺de\"\n",
      "\n"
     ]
    }
   ],
   "source": [
    "//// test\n",
    "\n",
    "run jString \"\\\"ab\\\\u263Ade\\\"\"\n",
    "|> parserEqual (Success (JString \"ab☺de\"))"
   ]
  },
  {
   "cell_type": "markdown",
   "metadata": {},
   "source": [
    "### jNumber"
   ]
  },
  {
   "cell_type": "code",
   "execution_count": null,
   "metadata": {
    "dotnet_interactive": {
     "language": "fsharp"
    },
    "polyglot_notebook": {
     "kernelName": "fsharp"
    }
   },
   "outputs": [],
   "source": [
    "let jNumber =\n",
    "    let optSign = opt (pchar '-')\n",
    "\n",
    "    let zero = pstring \"0\"\n",
    "\n",
    "    let digitOneNine =\n",
    "        satisfy (fun ch -> Char.IsDigit ch && ch <> '0') \"1-9\"\n",
    "\n",
    "    let digit =\n",
    "        satisfy Char.IsDigit \"digit\"\n",
    "\n",
    "    let point = pchar '.'\n",
    "\n",
    "    let e = pchar 'e' <|> pchar 'E'\n",
    "\n",
    "    let optPlusMinus = opt (pchar '-' <|> pchar '+')\n",
    "\n",
    "    let nonZeroInt =\n",
    "        digitOneNine .>>. manyChars digit\n",
    "        |>> fun (first, rest) -> string first + rest\n",
    "\n",
    "    let intPart = zero <|> nonZeroInt\n",
    "\n",
    "    let fractionPart = point >>. manyChars1 digit\n",
    "\n",
    "    let exponentPart = e >>. optPlusMinus .>>. manyChars1 digit\n",
    "\n",
    "    let inline (|>?) opt f =\n",
    "        match opt with\n",
    "        | None -> \"\"\n",
    "        | Some x -> f x\n",
    "\n",
    "    let inline convertToJNumber (((optSign, intPart), fractionPart), expPart) =\n",
    "        let signStr =\n",
    "            optSign\n",
    "            |>? string\n",
    "\n",
    "        let fractionPartStr =\n",
    "            fractionPart\n",
    "            |>? (fun digits -> \".\" + digits)\n",
    "\n",
    "        let expPartStr =\n",
    "            expPart\n",
    "            |>? fun (optSign, digits) ->\n",
    "                let sign = optSign |>? string\n",
    "                \"e\" + sign + digits\n",
    "\n",
    "        (signStr + intPart + fractionPartStr + expPartStr)\n",
    "        |> float\n",
    "        |> JNumber\n",
    "\n",
    "    optSign .>>. intPart .>>. opt fractionPart .>>. opt exponentPart\n",
    "    |>> convertToJNumber\n",
    "    <?> \"number\""
   ]
  },
  {
   "cell_type": "code",
   "execution_count": null,
   "metadata": {
    "dotnet_interactive": {
     "language": "fsharp"
    },
    "polyglot_notebook": {
     "kernelName": "fsharp"
    }
   },
   "outputs": [],
   "source": [
    "//// test\n",
    "\n",
    "jValueRef <|\n",
    "    choice\n",
    "        [\n",
    "            jNull\n",
    "            jBool\n",
    "            jString\n",
    "            jNumber\n",
    "        ]"
   ]
  },
  {
   "cell_type": "code",
   "execution_count": null,
   "metadata": {
    "dotnet_interactive": {
     "language": "fsharp"
    },
    "polyglot_notebook": {
     "kernelName": "fsharp"
    }
   },
   "outputs": [
    {
     "data": {
      "text/html": [
       "<details open=\"open\" class=\"dni-treeview\"><summary><span class=\"dni-code-hint\"><code>Success (JNumber 123.0, { lines = [|&quot;123&quot;|]\\n                          position = { line = 0\\n                                       column = 3 } })</code></span></summary><div><table><thead><tr></tr></thead><tbody><tr><td>Item</td><td><details class=\"dni-treeview\"><summary><span class=\"dni-code-hint\"><code>(JNumber 123.0, { lines = [|&quot;123&quot;|]\\n  position = { line = 0\\n               column = 3 } })</code></span></summary><div><table><thead><tr></tr></thead><tbody><tr><td>Item1</td><td><details class=\"dni-treeview\"><summary><span class=\"dni-code-hint\"><code>JNumber 123.0</code></span></summary><div><table><thead><tr></tr></thead><tbody><tr><td>Item</td><td><div class=\"dni-plaintext\"><pre>123.0\n",
       "</pre></div></td></tr><tr><td>IsJString</td><td><div class=\"dni-plaintext\"><pre>false\n",
       "</pre></div></td></tr><tr><td>IsJNumber</td><td><div class=\"dni-plaintext\"><pre>true\n",
       "</pre></div></td></tr><tr><td>IsJBool</td><td><div class=\"dni-plaintext\"><pre>false\n",
       "</pre></div></td></tr><tr><td>IsJNull</td><td><div class=\"dni-plaintext\"><pre>false\n",
       "</pre></div></td></tr><tr><td>IsJObject</td><td><div class=\"dni-plaintext\"><pre>false\n",
       "</pre></div></td></tr><tr><td>IsJArray</td><td><div class=\"dni-plaintext\"><pre>false\n",
       "</pre></div></td></tr></tbody></table></div></details></td></tr><tr><td>Item2</td><td><details class=\"dni-treeview\"><summary><span class=\"dni-code-hint\"><code>{ lines = [|&quot;123&quot;|]\\n  position = { line = 0\\n               column = 3 } }</code></span></summary><div><table><thead><tr></tr></thead><tbody><tr><td>lines</td><td><div class=\"dni-plaintext\"><pre>[ 123 ]</pre></div></td></tr><tr><td>position</td><td><details class=\"dni-treeview\"><summary><span class=\"dni-code-hint\"><code>{ line = 0\\n  column = 3 }</code></span></summary><div><table><thead><tr></tr></thead><tbody><tr><td>line</td><td><div class=\"dni-plaintext\"><pre>0\n",
       "</pre></div></td></tr><tr><td>column</td><td><div class=\"dni-plaintext\"><pre>3\n",
       "</pre></div></td></tr></tbody></table></div></details></td></tr></tbody></table></div></details></td></tr></tbody></table></div></details></td></tr><tr><td>IsSuccess</td><td><div class=\"dni-plaintext\"><pre>true\n",
       "</pre></div></td></tr><tr><td>IsFailure</td><td><div class=\"dni-plaintext\"><pre>false\n",
       "</pre></div></td></tr></tbody></table></div></details><style>\n",
       ".dni-code-hint {\n",
       "    font-style: italic;\n",
       "    overflow: hidden;\n",
       "    white-space: nowrap;\n",
       "}\n",
       ".dni-treeview {\n",
       "    white-space: nowrap;\n",
       "}\n",
       ".dni-treeview td {\n",
       "    vertical-align: top;\n",
       "    text-align: start;\n",
       "}\n",
       "details.dni-treeview {\n",
       "    padding-left: 1em;\n",
       "}\n",
       "table td {\n",
       "    text-align: start;\n",
       "}\n",
       "table tr { \n",
       "    vertical-align: top; \n",
       "    margin: 0em 0px;\n",
       "}\n",
       "table tr td pre \n",
       "{ \n",
       "    vertical-align: top !important; \n",
       "    margin: 0em 0px !important;\n",
       "} \n",
       "table th {\n",
       "    text-align: start;\n",
       "}\n",
       "</style>"
      ]
     },
     "metadata": {},
     "output_type": "display_data"
    },
    {
     "name": "stdout",
     "output_type": "stream",
     "text": [
      "JNumber 123.0\n",
      "JNumber 123.0\n",
      "\n"
     ]
    }
   ],
   "source": [
    "//// test\n",
    "\n",
    "run jNumber \"123\"\n",
    "|> parserEqual (Success (JNumber 123.0))"
   ]
  },
  {
   "cell_type": "code",
   "execution_count": null,
   "metadata": {
    "dotnet_interactive": {
     "language": "fsharp"
    },
    "polyglot_notebook": {
     "kernelName": "fsharp"
    }
   },
   "outputs": [
    {
     "data": {
      "text/html": [
       "<details open=\"open\" class=\"dni-treeview\"><summary><span class=\"dni-code-hint\"><code>Success (JNumber -123.0, { lines = [|&quot;-123&quot;|]\\n                           position = { line = 0\\n                                        column = 4 } })</code></span></summary><div><table><thead><tr></tr></thead><tbody><tr><td>Item</td><td><details class=\"dni-treeview\"><summary><span class=\"dni-code-hint\"><code>(JNumber -123.0, { lines = [|&quot;-123&quot;|]\\n  position = { line = 0\\n               column = 4 } })</code></span></summary><div><table><thead><tr></tr></thead><tbody><tr><td>Item1</td><td><details class=\"dni-treeview\"><summary><span class=\"dni-code-hint\"><code>JNumber -123.0</code></span></summary><div><table><thead><tr></tr></thead><tbody><tr><td>Item</td><td><div class=\"dni-plaintext\"><pre>-123.0\n",
       "</pre></div></td></tr><tr><td>IsJString</td><td><div class=\"dni-plaintext\"><pre>false\n",
       "</pre></div></td></tr><tr><td>IsJNumber</td><td><div class=\"dni-plaintext\"><pre>true\n",
       "</pre></div></td></tr><tr><td>IsJBool</td><td><div class=\"dni-plaintext\"><pre>false\n",
       "</pre></div></td></tr><tr><td>IsJNull</td><td><div class=\"dni-plaintext\"><pre>false\n",
       "</pre></div></td></tr><tr><td>IsJObject</td><td><div class=\"dni-plaintext\"><pre>false\n",
       "</pre></div></td></tr><tr><td>IsJArray</td><td><div class=\"dni-plaintext\"><pre>false\n",
       "</pre></div></td></tr></tbody></table></div></details></td></tr><tr><td>Item2</td><td><details class=\"dni-treeview\"><summary><span class=\"dni-code-hint\"><code>{ lines = [|&quot;-123&quot;|]\\n  position = { line = 0\\n               column = 4 } }</code></span></summary><div><table><thead><tr></tr></thead><tbody><tr><td>lines</td><td><div class=\"dni-plaintext\"><pre>[ -123 ]</pre></div></td></tr><tr><td>position</td><td><details class=\"dni-treeview\"><summary><span class=\"dni-code-hint\"><code>{ line = 0\\n  column = 4 }</code></span></summary><div><table><thead><tr></tr></thead><tbody><tr><td>line</td><td><div class=\"dni-plaintext\"><pre>0\n",
       "</pre></div></td></tr><tr><td>column</td><td><div class=\"dni-plaintext\"><pre>4\n",
       "</pre></div></td></tr></tbody></table></div></details></td></tr></tbody></table></div></details></td></tr></tbody></table></div></details></td></tr><tr><td>IsSuccess</td><td><div class=\"dni-plaintext\"><pre>true\n",
       "</pre></div></td></tr><tr><td>IsFailure</td><td><div class=\"dni-plaintext\"><pre>false\n",
       "</pre></div></td></tr></tbody></table></div></details><style>\n",
       ".dni-code-hint {\n",
       "    font-style: italic;\n",
       "    overflow: hidden;\n",
       "    white-space: nowrap;\n",
       "}\n",
       ".dni-treeview {\n",
       "    white-space: nowrap;\n",
       "}\n",
       ".dni-treeview td {\n",
       "    vertical-align: top;\n",
       "    text-align: start;\n",
       "}\n",
       "details.dni-treeview {\n",
       "    padding-left: 1em;\n",
       "}\n",
       "table td {\n",
       "    text-align: start;\n",
       "}\n",
       "table tr { \n",
       "    vertical-align: top; \n",
       "    margin: 0em 0px;\n",
       "}\n",
       "table tr td pre \n",
       "{ \n",
       "    vertical-align: top !important; \n",
       "    margin: 0em 0px !important;\n",
       "} \n",
       "table th {\n",
       "    text-align: start;\n",
       "}\n",
       "</style>"
      ]
     },
     "metadata": {},
     "output_type": "display_data"
    },
    {
     "name": "stdout",
     "output_type": "stream",
     "text": [
      "JNumber -123.0\n",
      "JNumber -123.0\n",
      "\n"
     ]
    }
   ],
   "source": [
    "//// test\n",
    "\n",
    "run jNumber \"-123\"\n",
    "|> parserEqual (Success (JNumber -123.0))"
   ]
  },
  {
   "cell_type": "code",
   "execution_count": null,
   "metadata": {
    "dotnet_interactive": {
     "language": "fsharp"
    },
    "polyglot_notebook": {
     "kernelName": "fsharp"
    }
   },
   "outputs": [
    {
     "data": {
      "text/html": [
       "<details open=\"open\" class=\"dni-treeview\"><summary><span class=\"dni-code-hint\"><code>Success (JNumber 123.4, { lines = [|&quot;123.4&quot;|]\\n                          position = { line = 0\\n                                       column = 5 } })</code></span></summary><div><table><thead><tr></tr></thead><tbody><tr><td>Item</td><td><details class=\"dni-treeview\"><summary><span class=\"dni-code-hint\"><code>(JNumber 123.4, { lines = [|&quot;123.4&quot;|]\\n  position = { line = 0\\n               column = 5 } })</code></span></summary><div><table><thead><tr></tr></thead><tbody><tr><td>Item1</td><td><details class=\"dni-treeview\"><summary><span class=\"dni-code-hint\"><code>JNumber 123.4</code></span></summary><div><table><thead><tr></tr></thead><tbody><tr><td>Item</td><td><div class=\"dni-plaintext\"><pre>123.4\n",
       "</pre></div></td></tr><tr><td>IsJString</td><td><div class=\"dni-plaintext\"><pre>false\n",
       "</pre></div></td></tr><tr><td>IsJNumber</td><td><div class=\"dni-plaintext\"><pre>true\n",
       "</pre></div></td></tr><tr><td>IsJBool</td><td><div class=\"dni-plaintext\"><pre>false\n",
       "</pre></div></td></tr><tr><td>IsJNull</td><td><div class=\"dni-plaintext\"><pre>false\n",
       "</pre></div></td></tr><tr><td>IsJObject</td><td><div class=\"dni-plaintext\"><pre>false\n",
       "</pre></div></td></tr><tr><td>IsJArray</td><td><div class=\"dni-plaintext\"><pre>false\n",
       "</pre></div></td></tr></tbody></table></div></details></td></tr><tr><td>Item2</td><td><details class=\"dni-treeview\"><summary><span class=\"dni-code-hint\"><code>{ lines = [|&quot;123.4&quot;|]\\n  position = { line = 0\\n               column = 5 } }</code></span></summary><div><table><thead><tr></tr></thead><tbody><tr><td>lines</td><td><div class=\"dni-plaintext\"><pre>[ 123.4 ]</pre></div></td></tr><tr><td>position</td><td><details class=\"dni-treeview\"><summary><span class=\"dni-code-hint\"><code>{ line = 0\\n  column = 5 }</code></span></summary><div><table><thead><tr></tr></thead><tbody><tr><td>line</td><td><div class=\"dni-plaintext\"><pre>0\n",
       "</pre></div></td></tr><tr><td>column</td><td><div class=\"dni-plaintext\"><pre>5\n",
       "</pre></div></td></tr></tbody></table></div></details></td></tr></tbody></table></div></details></td></tr></tbody></table></div></details></td></tr><tr><td>IsSuccess</td><td><div class=\"dni-plaintext\"><pre>true\n",
       "</pre></div></td></tr><tr><td>IsFailure</td><td><div class=\"dni-plaintext\"><pre>false\n",
       "</pre></div></td></tr></tbody></table></div></details><style>\n",
       ".dni-code-hint {\n",
       "    font-style: italic;\n",
       "    overflow: hidden;\n",
       "    white-space: nowrap;\n",
       "}\n",
       ".dni-treeview {\n",
       "    white-space: nowrap;\n",
       "}\n",
       ".dni-treeview td {\n",
       "    vertical-align: top;\n",
       "    text-align: start;\n",
       "}\n",
       "details.dni-treeview {\n",
       "    padding-left: 1em;\n",
       "}\n",
       "table td {\n",
       "    text-align: start;\n",
       "}\n",
       "table tr { \n",
       "    vertical-align: top; \n",
       "    margin: 0em 0px;\n",
       "}\n",
       "table tr td pre \n",
       "{ \n",
       "    vertical-align: top !important; \n",
       "    margin: 0em 0px !important;\n",
       "} \n",
       "table th {\n",
       "    text-align: start;\n",
       "}\n",
       "</style>"
      ]
     },
     "metadata": {},
     "output_type": "display_data"
    },
    {
     "name": "stdout",
     "output_type": "stream",
     "text": [
      "JNumber 123.4\n",
      "JNumber 123.4\n",
      "\n"
     ]
    }
   ],
   "source": [
    "//// test\n",
    "\n",
    "run jNumber \"123.4\"\n",
    "|> parserEqual (Success (JNumber 123.4))"
   ]
  },
  {
   "cell_type": "code",
   "execution_count": null,
   "metadata": {
    "dotnet_interactive": {
     "language": "fsharp"
    },
    "polyglot_notebook": {
     "kernelName": "fsharp"
    }
   },
   "outputs": [
    {
     "data": {
      "text/html": [
       "<details open=\"open\" class=\"dni-treeview\"><summary><span class=\"dni-code-hint\"><code>Success (JNumber -123.0, { lines = [|&quot;-123.&quot;|]\\n                           position = { line = 0\\n                                        column = 4 } })</code></span></summary><div><table><thead><tr></tr></thead><tbody><tr><td>Item</td><td><details class=\"dni-treeview\"><summary><span class=\"dni-code-hint\"><code>(JNumber -123.0, { lines = [|&quot;-123.&quot;|]\\n  position = { line = 0\\n               column = 4 } })</code></span></summary><div><table><thead><tr></tr></thead><tbody><tr><td>Item1</td><td><details class=\"dni-treeview\"><summary><span class=\"dni-code-hint\"><code>JNumber -123.0</code></span></summary><div><table><thead><tr></tr></thead><tbody><tr><td>Item</td><td><div class=\"dni-plaintext\"><pre>-123.0\n",
       "</pre></div></td></tr><tr><td>IsJString</td><td><div class=\"dni-plaintext\"><pre>false\n",
       "</pre></div></td></tr><tr><td>IsJNumber</td><td><div class=\"dni-plaintext\"><pre>true\n",
       "</pre></div></td></tr><tr><td>IsJBool</td><td><div class=\"dni-plaintext\"><pre>false\n",
       "</pre></div></td></tr><tr><td>IsJNull</td><td><div class=\"dni-plaintext\"><pre>false\n",
       "</pre></div></td></tr><tr><td>IsJObject</td><td><div class=\"dni-plaintext\"><pre>false\n",
       "</pre></div></td></tr><tr><td>IsJArray</td><td><div class=\"dni-plaintext\"><pre>false\n",
       "</pre></div></td></tr></tbody></table></div></details></td></tr><tr><td>Item2</td><td><details class=\"dni-treeview\"><summary><span class=\"dni-code-hint\"><code>{ lines = [|&quot;-123.&quot;|]\\n  position = { line = 0\\n               column = 4 } }</code></span></summary><div><table><thead><tr></tr></thead><tbody><tr><td>lines</td><td><div class=\"dni-plaintext\"><pre>[ -123. ]</pre></div></td></tr><tr><td>position</td><td><details class=\"dni-treeview\"><summary><span class=\"dni-code-hint\"><code>{ line = 0\\n  column = 4 }</code></span></summary><div><table><thead><tr></tr></thead><tbody><tr><td>line</td><td><div class=\"dni-plaintext\"><pre>0\n",
       "</pre></div></td></tr><tr><td>column</td><td><div class=\"dni-plaintext\"><pre>4\n",
       "</pre></div></td></tr></tbody></table></div></details></td></tr></tbody></table></div></details></td></tr></tbody></table></div></details></td></tr><tr><td>IsSuccess</td><td><div class=\"dni-plaintext\"><pre>true\n",
       "</pre></div></td></tr><tr><td>IsFailure</td><td><div class=\"dni-plaintext\"><pre>false\n",
       "</pre></div></td></tr></tbody></table></div></details><style>\n",
       ".dni-code-hint {\n",
       "    font-style: italic;\n",
       "    overflow: hidden;\n",
       "    white-space: nowrap;\n",
       "}\n",
       ".dni-treeview {\n",
       "    white-space: nowrap;\n",
       "}\n",
       ".dni-treeview td {\n",
       "    vertical-align: top;\n",
       "    text-align: start;\n",
       "}\n",
       "details.dni-treeview {\n",
       "    padding-left: 1em;\n",
       "}\n",
       "table td {\n",
       "    text-align: start;\n",
       "}\n",
       "table tr { \n",
       "    vertical-align: top; \n",
       "    margin: 0em 0px;\n",
       "}\n",
       "table tr td pre \n",
       "{ \n",
       "    vertical-align: top !important; \n",
       "    margin: 0em 0px !important;\n",
       "} \n",
       "table th {\n",
       "    text-align: start;\n",
       "}\n",
       "</style>"
      ]
     },
     "metadata": {},
     "output_type": "display_data"
    },
    {
     "name": "stdout",
     "output_type": "stream",
     "text": [
      "JNumber -123.0\n",
      "JNumber -123.0\n",
      "\n"
     ]
    }
   ],
   "source": [
    "//// test\n",
    "\n",
    "run jNumber \"-123.\"\n",
    "|> parserEqual (Success (JNumber -123.0))"
   ]
  },
  {
   "cell_type": "code",
   "execution_count": null,
   "metadata": {
    "dotnet_interactive": {
     "language": "fsharp"
    },
    "polyglot_notebook": {
     "kernelName": "fsharp"
    }
   },
   "outputs": [
    {
     "data": {
      "text/html": [
       "<details open=\"open\" class=\"dni-treeview\"><summary><span class=\"dni-code-hint\"><code>Success (JNumber 0.0, { lines = [|&quot;00.1&quot;|]\\n                        position = { line = 0\\n                                     column = 1 } })</code></span></summary><div><table><thead><tr></tr></thead><tbody><tr><td>Item</td><td><details class=\"dni-treeview\"><summary><span class=\"dni-code-hint\"><code>(JNumber 0.0, { lines = [|&quot;00.1&quot;|]\\n  position = { line = 0\\n               column = 1 } })</code></span></summary><div><table><thead><tr></tr></thead><tbody><tr><td>Item1</td><td><details class=\"dni-treeview\"><summary><span class=\"dni-code-hint\"><code>JNumber 0.0</code></span></summary><div><table><thead><tr></tr></thead><tbody><tr><td>Item</td><td><div class=\"dni-plaintext\"><pre>0.0\n",
       "</pre></div></td></tr><tr><td>IsJString</td><td><div class=\"dni-plaintext\"><pre>false\n",
       "</pre></div></td></tr><tr><td>IsJNumber</td><td><div class=\"dni-plaintext\"><pre>true\n",
       "</pre></div></td></tr><tr><td>IsJBool</td><td><div class=\"dni-plaintext\"><pre>false\n",
       "</pre></div></td></tr><tr><td>IsJNull</td><td><div class=\"dni-plaintext\"><pre>false\n",
       "</pre></div></td></tr><tr><td>IsJObject</td><td><div class=\"dni-plaintext\"><pre>false\n",
       "</pre></div></td></tr><tr><td>IsJArray</td><td><div class=\"dni-plaintext\"><pre>false\n",
       "</pre></div></td></tr></tbody></table></div></details></td></tr><tr><td>Item2</td><td><details class=\"dni-treeview\"><summary><span class=\"dni-code-hint\"><code>{ lines = [|&quot;00.1&quot;|]\\n  position = { line = 0\\n               column = 1 } }</code></span></summary><div><table><thead><tr></tr></thead><tbody><tr><td>lines</td><td><div class=\"dni-plaintext\"><pre>[ 00.1 ]</pre></div></td></tr><tr><td>position</td><td><details class=\"dni-treeview\"><summary><span class=\"dni-code-hint\"><code>{ line = 0\\n  column = 1 }</code></span></summary><div><table><thead><tr></tr></thead><tbody><tr><td>line</td><td><div class=\"dni-plaintext\"><pre>0\n",
       "</pre></div></td></tr><tr><td>column</td><td><div class=\"dni-plaintext\"><pre>1\n",
       "</pre></div></td></tr></tbody></table></div></details></td></tr></tbody></table></div></details></td></tr></tbody></table></div></details></td></tr><tr><td>IsSuccess</td><td><div class=\"dni-plaintext\"><pre>true\n",
       "</pre></div></td></tr><tr><td>IsFailure</td><td><div class=\"dni-plaintext\"><pre>false\n",
       "</pre></div></td></tr></tbody></table></div></details><style>\n",
       ".dni-code-hint {\n",
       "    font-style: italic;\n",
       "    overflow: hidden;\n",
       "    white-space: nowrap;\n",
       "}\n",
       ".dni-treeview {\n",
       "    white-space: nowrap;\n",
       "}\n",
       ".dni-treeview td {\n",
       "    vertical-align: top;\n",
       "    text-align: start;\n",
       "}\n",
       "details.dni-treeview {\n",
       "    padding-left: 1em;\n",
       "}\n",
       "table td {\n",
       "    text-align: start;\n",
       "}\n",
       "table tr { \n",
       "    vertical-align: top; \n",
       "    margin: 0em 0px;\n",
       "}\n",
       "table tr td pre \n",
       "{ \n",
       "    vertical-align: top !important; \n",
       "    margin: 0em 0px !important;\n",
       "} \n",
       "table th {\n",
       "    text-align: start;\n",
       "}\n",
       "</style>"
      ]
     },
     "metadata": {},
     "output_type": "display_data"
    },
    {
     "name": "stdout",
     "output_type": "stream",
     "text": [
      "JNumber 0.0\n",
      "JNumber 0.0\n",
      "\n"
     ]
    }
   ],
   "source": [
    "//// test\n",
    "\n",
    "run jNumber \"00.1\"\n",
    "|> parserEqual (Success (JNumber 0.0))"
   ]
  },
  {
   "cell_type": "code",
   "execution_count": null,
   "metadata": {
    "dotnet_interactive": {
     "language": "fsharp"
    },
    "polyglot_notebook": {
     "kernelName": "fsharp"
    }
   },
   "outputs": [],
   "source": [
    "//// test\n",
    "\n",
    "let jNumber_ = jNumber .>> spaces1"
   ]
  },
  {
   "cell_type": "code",
   "execution_count": null,
   "metadata": {
    "dotnet_interactive": {
     "language": "fsharp"
    },
    "polyglot_notebook": {
     "kernelName": "fsharp"
    }
   },
   "outputs": [
    {
     "data": {
      "text/html": [
       "<details open=\"open\" class=\"dni-treeview\"><summary><span class=\"dni-code-hint\"><code>Success (JNumber 123.0, { lines = [|&quot;123&quot;|]\\n                          position = { line = 1\\n                                       column = 0 } })</code></span></summary><div><table><thead><tr></tr></thead><tbody><tr><td>Item</td><td><details class=\"dni-treeview\"><summary><span class=\"dni-code-hint\"><code>(JNumber 123.0, { lines = [|&quot;123&quot;|]\\n  position = { line = 1\\n               column = 0 } })</code></span></summary><div><table><thead><tr></tr></thead><tbody><tr><td>Item1</td><td><details class=\"dni-treeview\"><summary><span class=\"dni-code-hint\"><code>JNumber 123.0</code></span></summary><div><table><thead><tr></tr></thead><tbody><tr><td>Item</td><td><div class=\"dni-plaintext\"><pre>123.0\n",
       "</pre></div></td></tr><tr><td>IsJString</td><td><div class=\"dni-plaintext\"><pre>false\n",
       "</pre></div></td></tr><tr><td>IsJNumber</td><td><div class=\"dni-plaintext\"><pre>true\n",
       "</pre></div></td></tr><tr><td>IsJBool</td><td><div class=\"dni-plaintext\"><pre>false\n",
       "</pre></div></td></tr><tr><td>IsJNull</td><td><div class=\"dni-plaintext\"><pre>false\n",
       "</pre></div></td></tr><tr><td>IsJObject</td><td><div class=\"dni-plaintext\"><pre>false\n",
       "</pre></div></td></tr><tr><td>IsJArray</td><td><div class=\"dni-plaintext\"><pre>false\n",
       "</pre></div></td></tr></tbody></table></div></details></td></tr><tr><td>Item2</td><td><details class=\"dni-treeview\"><summary><span class=\"dni-code-hint\"><code>{ lines = [|&quot;123&quot;|]\\n  position = { line = 1\\n               column = 0 } }</code></span></summary><div><table><thead><tr></tr></thead><tbody><tr><td>lines</td><td><div class=\"dni-plaintext\"><pre>[ 123 ]</pre></div></td></tr><tr><td>position</td><td><details class=\"dni-treeview\"><summary><span class=\"dni-code-hint\"><code>{ line = 1\\n  column = 0 }</code></span></summary><div><table><thead><tr></tr></thead><tbody><tr><td>line</td><td><div class=\"dni-plaintext\"><pre>1\n",
       "</pre></div></td></tr><tr><td>column</td><td><div class=\"dni-plaintext\"><pre>0\n",
       "</pre></div></td></tr></tbody></table></div></details></td></tr></tbody></table></div></details></td></tr></tbody></table></div></details></td></tr><tr><td>IsSuccess</td><td><div class=\"dni-plaintext\"><pre>true\n",
       "</pre></div></td></tr><tr><td>IsFailure</td><td><div class=\"dni-plaintext\"><pre>false\n",
       "</pre></div></td></tr></tbody></table></div></details><style>\n",
       ".dni-code-hint {\n",
       "    font-style: italic;\n",
       "    overflow: hidden;\n",
       "    white-space: nowrap;\n",
       "}\n",
       ".dni-treeview {\n",
       "    white-space: nowrap;\n",
       "}\n",
       ".dni-treeview td {\n",
       "    vertical-align: top;\n",
       "    text-align: start;\n",
       "}\n",
       "details.dni-treeview {\n",
       "    padding-left: 1em;\n",
       "}\n",
       "table td {\n",
       "    text-align: start;\n",
       "}\n",
       "table tr { \n",
       "    vertical-align: top; \n",
       "    margin: 0em 0px;\n",
       "}\n",
       "table tr td pre \n",
       "{ \n",
       "    vertical-align: top !important; \n",
       "    margin: 0em 0px !important;\n",
       "} \n",
       "table th {\n",
       "    text-align: start;\n",
       "}\n",
       "</style>"
      ]
     },
     "metadata": {},
     "output_type": "display_data"
    },
    {
     "name": "stdout",
     "output_type": "stream",
     "text": [
      "JNumber 123.0\n",
      "JNumber 123.0\n",
      "\n"
     ]
    }
   ],
   "source": [
    "//// test\n",
    "\n",
    "run jNumber_ \"123\"\n",
    "|> parserEqual (Success (JNumber 123.0))"
   ]
  },
  {
   "cell_type": "code",
   "execution_count": null,
   "metadata": {
    "dotnet_interactive": {
     "language": "fsharp"
    },
    "polyglot_notebook": {
     "kernelName": "fsharp"
    }
   },
   "outputs": [
    {
     "data": {
      "text/html": [
       "<details open=\"open\" class=\"dni-treeview\"><summary><span class=\"dni-code-hint\"><code>Success (JNumber -123.0, { lines = [|&quot;-123&quot;|]\\n                           position = { line = 1\\n                                        column = 0 } })</code></span></summary><div><table><thead><tr></tr></thead><tbody><tr><td>Item</td><td><details class=\"dni-treeview\"><summary><span class=\"dni-code-hint\"><code>(JNumber -123.0, { lines = [|&quot;-123&quot;|]\\n  position = { line = 1\\n               column = 0 } })</code></span></summary><div><table><thead><tr></tr></thead><tbody><tr><td>Item1</td><td><details class=\"dni-treeview\"><summary><span class=\"dni-code-hint\"><code>JNumber -123.0</code></span></summary><div><table><thead><tr></tr></thead><tbody><tr><td>Item</td><td><div class=\"dni-plaintext\"><pre>-123.0\n",
       "</pre></div></td></tr><tr><td>IsJString</td><td><div class=\"dni-plaintext\"><pre>false\n",
       "</pre></div></td></tr><tr><td>IsJNumber</td><td><div class=\"dni-plaintext\"><pre>true\n",
       "</pre></div></td></tr><tr><td>IsJBool</td><td><div class=\"dni-plaintext\"><pre>false\n",
       "</pre></div></td></tr><tr><td>IsJNull</td><td><div class=\"dni-plaintext\"><pre>false\n",
       "</pre></div></td></tr><tr><td>IsJObject</td><td><div class=\"dni-plaintext\"><pre>false\n",
       "</pre></div></td></tr><tr><td>IsJArray</td><td><div class=\"dni-plaintext\"><pre>false\n",
       "</pre></div></td></tr></tbody></table></div></details></td></tr><tr><td>Item2</td><td><details class=\"dni-treeview\"><summary><span class=\"dni-code-hint\"><code>{ lines = [|&quot;-123&quot;|]\\n  position = { line = 1\\n               column = 0 } }</code></span></summary><div><table><thead><tr></tr></thead><tbody><tr><td>lines</td><td><div class=\"dni-plaintext\"><pre>[ -123 ]</pre></div></td></tr><tr><td>position</td><td><details class=\"dni-treeview\"><summary><span class=\"dni-code-hint\"><code>{ line = 1\\n  column = 0 }</code></span></summary><div><table><thead><tr></tr></thead><tbody><tr><td>line</td><td><div class=\"dni-plaintext\"><pre>1\n",
       "</pre></div></td></tr><tr><td>column</td><td><div class=\"dni-plaintext\"><pre>0\n",
       "</pre></div></td></tr></tbody></table></div></details></td></tr></tbody></table></div></details></td></tr></tbody></table></div></details></td></tr><tr><td>IsSuccess</td><td><div class=\"dni-plaintext\"><pre>true\n",
       "</pre></div></td></tr><tr><td>IsFailure</td><td><div class=\"dni-plaintext\"><pre>false\n",
       "</pre></div></td></tr></tbody></table></div></details><style>\n",
       ".dni-code-hint {\n",
       "    font-style: italic;\n",
       "    overflow: hidden;\n",
       "    white-space: nowrap;\n",
       "}\n",
       ".dni-treeview {\n",
       "    white-space: nowrap;\n",
       "}\n",
       ".dni-treeview td {\n",
       "    vertical-align: top;\n",
       "    text-align: start;\n",
       "}\n",
       "details.dni-treeview {\n",
       "    padding-left: 1em;\n",
       "}\n",
       "table td {\n",
       "    text-align: start;\n",
       "}\n",
       "table tr { \n",
       "    vertical-align: top; \n",
       "    margin: 0em 0px;\n",
       "}\n",
       "table tr td pre \n",
       "{ \n",
       "    vertical-align: top !important; \n",
       "    margin: 0em 0px !important;\n",
       "} \n",
       "table th {\n",
       "    text-align: start;\n",
       "}\n",
       "</style>"
      ]
     },
     "metadata": {},
     "output_type": "display_data"
    },
    {
     "name": "stdout",
     "output_type": "stream",
     "text": [
      "JNumber -123.0\n",
      "JNumber -123.0\n",
      "\n"
     ]
    }
   ],
   "source": [
    "//// test\n",
    "\n",
    "run jNumber_ \"-123\"\n",
    "|> parserEqual (Success (JNumber -123.0))"
   ]
  },
  {
   "cell_type": "code",
   "execution_count": null,
   "metadata": {
    "dotnet_interactive": {
     "language": "fsharp"
    },
    "polyglot_notebook": {
     "kernelName": "fsharp"
    }
   },
   "outputs": [
    {
     "data": {
      "text/html": [
       "<details open=\"open\" class=\"dni-treeview\"><summary><span class=\"dni-code-hint\"><code>Failure\\n  (&quot;number andThen many1 whitespace&quot;, &quot;Unexpected &#39;.&#39;&quot;, { currentLine = &quot;-123.&quot;\\n                                                          line = 0\\n                                                          column = 4 })</code></span></summary><div><table><thead><tr></tr></thead><tbody><tr><td>Item1</td><td><div class=\"dni-plaintext\"><pre>&quot;number andThen many1 whitespace&quot;\n",
       "</pre></div></td></tr><tr><td>Item2</td><td><div class=\"dni-plaintext\"><pre>&quot;Unexpected &#39;.&#39;&quot;\n",
       "</pre></div></td></tr><tr><td>Item3</td><td><details class=\"dni-treeview\"><summary><span class=\"dni-code-hint\"><code>{ currentLine = &quot;-123.&quot;\\n  line = 0\\n  column = 4 }</code></span></summary><div><table><thead><tr></tr></thead><tbody><tr><td>currentLine</td><td><div class=\"dni-plaintext\"><pre>&quot;-123.&quot;\n",
       "</pre></div></td></tr><tr><td>line</td><td><div class=\"dni-plaintext\"><pre>0\n",
       "</pre></div></td></tr><tr><td>column</td><td><div class=\"dni-plaintext\"><pre>4\n",
       "</pre></div></td></tr></tbody></table></div></details></td></tr><tr><td>IsSuccess</td><td><div class=\"dni-plaintext\"><pre>false\n",
       "</pre></div></td></tr><tr><td>IsFailure</td><td><div class=\"dni-plaintext\"><pre>true\n",
       "</pre></div></td></tr></tbody></table></div></details><style>\n",
       ".dni-code-hint {\n",
       "    font-style: italic;\n",
       "    overflow: hidden;\n",
       "    white-space: nowrap;\n",
       "}\n",
       ".dni-treeview {\n",
       "    white-space: nowrap;\n",
       "}\n",
       ".dni-treeview td {\n",
       "    vertical-align: top;\n",
       "    text-align: start;\n",
       "}\n",
       "details.dni-treeview {\n",
       "    padding-left: 1em;\n",
       "}\n",
       "table td {\n",
       "    text-align: start;\n",
       "}\n",
       "table tr { \n",
       "    vertical-align: top; \n",
       "    margin: 0em 0px;\n",
       "}\n",
       "table tr td pre \n",
       "{ \n",
       "    vertical-align: top !important; \n",
       "    margin: 0em 0px !important;\n",
       "} \n",
       "table th {\n",
       "    text-align: start;\n",
       "}\n",
       "</style>"
      ]
     },
     "metadata": {},
     "output_type": "display_data"
    },
    {
     "name": "stdout",
     "output_type": "stream",
     "text": [
      "Line:0 Col:4 Error parsing number andThen many1 whitespace\n",
      "-123.\n",
      "    ^Unexpected '.'\n"
     ]
    }
   ],
   "source": [
    "//// test\n",
    "\n",
    "run jNumber_ \"-123.\"\n",
    "|> parserEqual (\n",
    "    Failure (\n",
    "        \"number andThen many1 whitespace\",\n",
    "        \"Unexpected '.'\",\n",
    "        { currentLine = \"-123.\"; line = 0; column = 4 }\n",
    "    )\n",
    ")"
   ]
  },
  {
   "cell_type": "code",
   "execution_count": null,
   "metadata": {
    "dotnet_interactive": {
     "language": "fsharp"
    },
    "polyglot_notebook": {
     "kernelName": "fsharp"
    }
   },
   "outputs": [
    {
     "data": {
      "text/html": [
       "<details open=\"open\" class=\"dni-treeview\"><summary><span class=\"dni-code-hint\"><code>Success (JNumber 123.4, { lines = [|&quot;123.4&quot;|]\\n                          position = { line = 1\\n                                       column = 0 } })</code></span></summary><div><table><thead><tr></tr></thead><tbody><tr><td>Item</td><td><details class=\"dni-treeview\"><summary><span class=\"dni-code-hint\"><code>(JNumber 123.4, { lines = [|&quot;123.4&quot;|]\\n  position = { line = 1\\n               column = 0 } })</code></span></summary><div><table><thead><tr></tr></thead><tbody><tr><td>Item1</td><td><details class=\"dni-treeview\"><summary><span class=\"dni-code-hint\"><code>JNumber 123.4</code></span></summary><div><table><thead><tr></tr></thead><tbody><tr><td>Item</td><td><div class=\"dni-plaintext\"><pre>123.4\n",
       "</pre></div></td></tr><tr><td>IsJString</td><td><div class=\"dni-plaintext\"><pre>false\n",
       "</pre></div></td></tr><tr><td>IsJNumber</td><td><div class=\"dni-plaintext\"><pre>true\n",
       "</pre></div></td></tr><tr><td>IsJBool</td><td><div class=\"dni-plaintext\"><pre>false\n",
       "</pre></div></td></tr><tr><td>IsJNull</td><td><div class=\"dni-plaintext\"><pre>false\n",
       "</pre></div></td></tr><tr><td>IsJObject</td><td><div class=\"dni-plaintext\"><pre>false\n",
       "</pre></div></td></tr><tr><td>IsJArray</td><td><div class=\"dni-plaintext\"><pre>false\n",
       "</pre></div></td></tr></tbody></table></div></details></td></tr><tr><td>Item2</td><td><details class=\"dni-treeview\"><summary><span class=\"dni-code-hint\"><code>{ lines = [|&quot;123.4&quot;|]\\n  position = { line = 1\\n               column = 0 } }</code></span></summary><div><table><thead><tr></tr></thead><tbody><tr><td>lines</td><td><div class=\"dni-plaintext\"><pre>[ 123.4 ]</pre></div></td></tr><tr><td>position</td><td><details class=\"dni-treeview\"><summary><span class=\"dni-code-hint\"><code>{ line = 1\\n  column = 0 }</code></span></summary><div><table><thead><tr></tr></thead><tbody><tr><td>line</td><td><div class=\"dni-plaintext\"><pre>1\n",
       "</pre></div></td></tr><tr><td>column</td><td><div class=\"dni-plaintext\"><pre>0\n",
       "</pre></div></td></tr></tbody></table></div></details></td></tr></tbody></table></div></details></td></tr></tbody></table></div></details></td></tr><tr><td>IsSuccess</td><td><div class=\"dni-plaintext\"><pre>true\n",
       "</pre></div></td></tr><tr><td>IsFailure</td><td><div class=\"dni-plaintext\"><pre>false\n",
       "</pre></div></td></tr></tbody></table></div></details><style>\n",
       ".dni-code-hint {\n",
       "    font-style: italic;\n",
       "    overflow: hidden;\n",
       "    white-space: nowrap;\n",
       "}\n",
       ".dni-treeview {\n",
       "    white-space: nowrap;\n",
       "}\n",
       ".dni-treeview td {\n",
       "    vertical-align: top;\n",
       "    text-align: start;\n",
       "}\n",
       "details.dni-treeview {\n",
       "    padding-left: 1em;\n",
       "}\n",
       "table td {\n",
       "    text-align: start;\n",
       "}\n",
       "table tr { \n",
       "    vertical-align: top; \n",
       "    margin: 0em 0px;\n",
       "}\n",
       "table tr td pre \n",
       "{ \n",
       "    vertical-align: top !important; \n",
       "    margin: 0em 0px !important;\n",
       "} \n",
       "table th {\n",
       "    text-align: start;\n",
       "}\n",
       "</style>"
      ]
     },
     "metadata": {},
     "output_type": "display_data"
    },
    {
     "name": "stdout",
     "output_type": "stream",
     "text": [
      "JNumber 123.4\n",
      "JNumber 123.4\n",
      "\n"
     ]
    }
   ],
   "source": [
    "//// test\n",
    "\n",
    "run jNumber_ \"123.4\"\n",
    "|> parserEqual (Success (JNumber 123.4))"
   ]
  },
  {
   "cell_type": "code",
   "execution_count": null,
   "metadata": {
    "dotnet_interactive": {
     "language": "fsharp"
    },
    "polyglot_notebook": {
     "kernelName": "fsharp"
    }
   },
   "outputs": [
    {
     "data": {
      "text/html": [
       "<details open=\"open\" class=\"dni-treeview\"><summary><span class=\"dni-code-hint\"><code>Failure\\n  (&quot;number andThen many1 whitespace&quot;, &quot;Unexpected &#39;0&#39;&quot;, { currentLine = &quot;00.4&quot;\\n                                                          line = 0\\n                                                          column = 1 })</code></span></summary><div><table><thead><tr></tr></thead><tbody><tr><td>Item1</td><td><div class=\"dni-plaintext\"><pre>&quot;number andThen many1 whitespace&quot;\n",
       "</pre></div></td></tr><tr><td>Item2</td><td><div class=\"dni-plaintext\"><pre>&quot;Unexpected &#39;0&#39;&quot;\n",
       "</pre></div></td></tr><tr><td>Item3</td><td><details class=\"dni-treeview\"><summary><span class=\"dni-code-hint\"><code>{ currentLine = &quot;00.4&quot;\\n  line = 0\\n  column = 1 }</code></span></summary><div><table><thead><tr></tr></thead><tbody><tr><td>currentLine</td><td><div class=\"dni-plaintext\"><pre>&quot;00.4&quot;\n",
       "</pre></div></td></tr><tr><td>line</td><td><div class=\"dni-plaintext\"><pre>0\n",
       "</pre></div></td></tr><tr><td>column</td><td><div class=\"dni-plaintext\"><pre>1\n",
       "</pre></div></td></tr></tbody></table></div></details></td></tr><tr><td>IsSuccess</td><td><div class=\"dni-plaintext\"><pre>false\n",
       "</pre></div></td></tr><tr><td>IsFailure</td><td><div class=\"dni-plaintext\"><pre>true\n",
       "</pre></div></td></tr></tbody></table></div></details><style>\n",
       ".dni-code-hint {\n",
       "    font-style: italic;\n",
       "    overflow: hidden;\n",
       "    white-space: nowrap;\n",
       "}\n",
       ".dni-treeview {\n",
       "    white-space: nowrap;\n",
       "}\n",
       ".dni-treeview td {\n",
       "    vertical-align: top;\n",
       "    text-align: start;\n",
       "}\n",
       "details.dni-treeview {\n",
       "    padding-left: 1em;\n",
       "}\n",
       "table td {\n",
       "    text-align: start;\n",
       "}\n",
       "table tr { \n",
       "    vertical-align: top; \n",
       "    margin: 0em 0px;\n",
       "}\n",
       "table tr td pre \n",
       "{ \n",
       "    vertical-align: top !important; \n",
       "    margin: 0em 0px !important;\n",
       "} \n",
       "table th {\n",
       "    text-align: start;\n",
       "}\n",
       "</style>"
      ]
     },
     "metadata": {},
     "output_type": "display_data"
    },
    {
     "name": "stdout",
     "output_type": "stream",
     "text": [
      "Line:0 Col:1 Error parsing number andThen many1 whitespace\n",
      "00.4\n",
      " ^Unexpected '0'\n"
     ]
    }
   ],
   "source": [
    "//// test\n",
    "\n",
    "run jNumber_ \"00.4\"\n",
    "|> parserEqual (\n",
    "    Failure (\n",
    "        \"number andThen many1 whitespace\",\n",
    "        \"Unexpected '0'\",\n",
    "        { currentLine = \"00.4\"; line = 0; column = 1 }\n",
    "    )\n",
    ")"
   ]
  },
  {
   "cell_type": "code",
   "execution_count": null,
   "metadata": {
    "dotnet_interactive": {
     "language": "fsharp"
    },
    "polyglot_notebook": {
     "kernelName": "fsharp"
    }
   },
   "outputs": [
    {
     "data": {
      "text/html": [
       "<details open=\"open\" class=\"dni-treeview\"><summary><span class=\"dni-code-hint\"><code>Success (JNumber 1230000.0, { lines = [|&quot;123e4&quot;|]\\n                              position = { line = 1\\n                                           column = 0 } })</code></span></summary><div><table><thead><tr></tr></thead><tbody><tr><td>Item</td><td><details class=\"dni-treeview\"><summary><span class=\"dni-code-hint\"><code>(JNumber 1230000.0, { lines = [|&quot;123e4&quot;|]\\n  position = { line = 1\\n               column = 0 } })</code></span></summary><div><table><thead><tr></tr></thead><tbody><tr><td>Item1</td><td><details class=\"dni-treeview\"><summary><span class=\"dni-code-hint\"><code>JNumber 1230000.0</code></span></summary><div><table><thead><tr></tr></thead><tbody><tr><td>Item</td><td><div class=\"dni-plaintext\"><pre>1230000.0\n",
       "</pre></div></td></tr><tr><td>IsJString</td><td><div class=\"dni-plaintext\"><pre>false\n",
       "</pre></div></td></tr><tr><td>IsJNumber</td><td><div class=\"dni-plaintext\"><pre>true\n",
       "</pre></div></td></tr><tr><td>IsJBool</td><td><div class=\"dni-plaintext\"><pre>false\n",
       "</pre></div></td></tr><tr><td>IsJNull</td><td><div class=\"dni-plaintext\"><pre>false\n",
       "</pre></div></td></tr><tr><td>IsJObject</td><td><div class=\"dni-plaintext\"><pre>false\n",
       "</pre></div></td></tr><tr><td>IsJArray</td><td><div class=\"dni-plaintext\"><pre>false\n",
       "</pre></div></td></tr></tbody></table></div></details></td></tr><tr><td>Item2</td><td><details class=\"dni-treeview\"><summary><span class=\"dni-code-hint\"><code>{ lines = [|&quot;123e4&quot;|]\\n  position = { line = 1\\n               column = 0 } }</code></span></summary><div><table><thead><tr></tr></thead><tbody><tr><td>lines</td><td><div class=\"dni-plaintext\"><pre>[ 123e4 ]</pre></div></td></tr><tr><td>position</td><td><details class=\"dni-treeview\"><summary><span class=\"dni-code-hint\"><code>{ line = 1\\n  column = 0 }</code></span></summary><div><table><thead><tr></tr></thead><tbody><tr><td>line</td><td><div class=\"dni-plaintext\"><pre>1\n",
       "</pre></div></td></tr><tr><td>column</td><td><div class=\"dni-plaintext\"><pre>0\n",
       "</pre></div></td></tr></tbody></table></div></details></td></tr></tbody></table></div></details></td></tr></tbody></table></div></details></td></tr><tr><td>IsSuccess</td><td><div class=\"dni-plaintext\"><pre>true\n",
       "</pre></div></td></tr><tr><td>IsFailure</td><td><div class=\"dni-plaintext\"><pre>false\n",
       "</pre></div></td></tr></tbody></table></div></details><style>\n",
       ".dni-code-hint {\n",
       "    font-style: italic;\n",
       "    overflow: hidden;\n",
       "    white-space: nowrap;\n",
       "}\n",
       ".dni-treeview {\n",
       "    white-space: nowrap;\n",
       "}\n",
       ".dni-treeview td {\n",
       "    vertical-align: top;\n",
       "    text-align: start;\n",
       "}\n",
       "details.dni-treeview {\n",
       "    padding-left: 1em;\n",
       "}\n",
       "table td {\n",
       "    text-align: start;\n",
       "}\n",
       "table tr { \n",
       "    vertical-align: top; \n",
       "    margin: 0em 0px;\n",
       "}\n",
       "table tr td pre \n",
       "{ \n",
       "    vertical-align: top !important; \n",
       "    margin: 0em 0px !important;\n",
       "} \n",
       "table th {\n",
       "    text-align: start;\n",
       "}\n",
       "</style>"
      ]
     },
     "metadata": {},
     "output_type": "display_data"
    },
    {
     "name": "stdout",
     "output_type": "stream",
     "text": [
      "JNumber 1230000.0\n",
      "JNumber 1230000.0\n",
      "\n"
     ]
    }
   ],
   "source": [
    "//// test\n",
    "\n",
    "run jNumber_ \"123e4\"\n",
    "|> parserEqual (Success (JNumber 1230000.0))"
   ]
  },
  {
   "cell_type": "code",
   "execution_count": null,
   "metadata": {
    "dotnet_interactive": {
     "language": "fsharp"
    },
    "polyglot_notebook": {
     "kernelName": "fsharp"
    }
   },
   "outputs": [
    {
     "data": {
      "text/html": [
       "<details open=\"open\" class=\"dni-treeview\"><summary><span class=\"dni-code-hint\"><code>Success (JNumber 12340000.0, { lines = [|&quot;123.4e5&quot;|]\\n                               position = { line = 1\\n                                            column = 0 } })</code></span></summary><div><table><thead><tr></tr></thead><tbody><tr><td>Item</td><td><details class=\"dni-treeview\"><summary><span class=\"dni-code-hint\"><code>(JNumber 12340000.0, { lines = [|&quot;123.4e5&quot;|]\\n  position = { line = 1\\n               column = 0 } })</code></span></summary><div><table><thead><tr></tr></thead><tbody><tr><td>Item1</td><td><details class=\"dni-treeview\"><summary><span class=\"dni-code-hint\"><code>JNumber 12340000.0</code></span></summary><div><table><thead><tr></tr></thead><tbody><tr><td>Item</td><td><div class=\"dni-plaintext\"><pre>12340000.0\n",
       "</pre></div></td></tr><tr><td>IsJString</td><td><div class=\"dni-plaintext\"><pre>false\n",
       "</pre></div></td></tr><tr><td>IsJNumber</td><td><div class=\"dni-plaintext\"><pre>true\n",
       "</pre></div></td></tr><tr><td>IsJBool</td><td><div class=\"dni-plaintext\"><pre>false\n",
       "</pre></div></td></tr><tr><td>IsJNull</td><td><div class=\"dni-plaintext\"><pre>false\n",
       "</pre></div></td></tr><tr><td>IsJObject</td><td><div class=\"dni-plaintext\"><pre>false\n",
       "</pre></div></td></tr><tr><td>IsJArray</td><td><div class=\"dni-plaintext\"><pre>false\n",
       "</pre></div></td></tr></tbody></table></div></details></td></tr><tr><td>Item2</td><td><details class=\"dni-treeview\"><summary><span class=\"dni-code-hint\"><code>{ lines = [|&quot;123.4e5&quot;|]\\n  position = { line = 1\\n               column = 0 } }</code></span></summary><div><table><thead><tr></tr></thead><tbody><tr><td>lines</td><td><div class=\"dni-plaintext\"><pre>[ 123.4e5 ]</pre></div></td></tr><tr><td>position</td><td><details class=\"dni-treeview\"><summary><span class=\"dni-code-hint\"><code>{ line = 1\\n  column = 0 }</code></span></summary><div><table><thead><tr></tr></thead><tbody><tr><td>line</td><td><div class=\"dni-plaintext\"><pre>1\n",
       "</pre></div></td></tr><tr><td>column</td><td><div class=\"dni-plaintext\"><pre>0\n",
       "</pre></div></td></tr></tbody></table></div></details></td></tr></tbody></table></div></details></td></tr></tbody></table></div></details></td></tr><tr><td>IsSuccess</td><td><div class=\"dni-plaintext\"><pre>true\n",
       "</pre></div></td></tr><tr><td>IsFailure</td><td><div class=\"dni-plaintext\"><pre>false\n",
       "</pre></div></td></tr></tbody></table></div></details><style>\n",
       ".dni-code-hint {\n",
       "    font-style: italic;\n",
       "    overflow: hidden;\n",
       "    white-space: nowrap;\n",
       "}\n",
       ".dni-treeview {\n",
       "    white-space: nowrap;\n",
       "}\n",
       ".dni-treeview td {\n",
       "    vertical-align: top;\n",
       "    text-align: start;\n",
       "}\n",
       "details.dni-treeview {\n",
       "    padding-left: 1em;\n",
       "}\n",
       "table td {\n",
       "    text-align: start;\n",
       "}\n",
       "table tr { \n",
       "    vertical-align: top; \n",
       "    margin: 0em 0px;\n",
       "}\n",
       "table tr td pre \n",
       "{ \n",
       "    vertical-align: top !important; \n",
       "    margin: 0em 0px !important;\n",
       "} \n",
       "table th {\n",
       "    text-align: start;\n",
       "}\n",
       "</style>"
      ]
     },
     "metadata": {},
     "output_type": "display_data"
    },
    {
     "name": "stdout",
     "output_type": "stream",
     "text": [
      "JNumber 12340000.0\n",
      "JNumber 12340000.0\n",
      "\n"
     ]
    }
   ],
   "source": [
    "//// test\n",
    "\n",
    "run jNumber_ \"123.4e5\"\n",
    "|> parserEqual (Success (JNumber 12340000.0))"
   ]
  },
  {
   "cell_type": "code",
   "execution_count": null,
   "metadata": {
    "dotnet_interactive": {
     "language": "fsharp"
    },
    "polyglot_notebook": {
     "kernelName": "fsharp"
    }
   },
   "outputs": [
    {
     "data": {
      "text/html": [
       "<details open=\"open\" class=\"dni-treeview\"><summary><span class=\"dni-code-hint\"><code>Success (JNumber 0.001234, { lines = [|&quot;123.4e-5&quot;|]\\n                             position = { line = 1\\n                                          column = 0 } })</code></span></summary><div><table><thead><tr></tr></thead><tbody><tr><td>Item</td><td><details class=\"dni-treeview\"><summary><span class=\"dni-code-hint\"><code>(JNumber 0.001234, { lines = [|&quot;123.4e-5&quot;|]\\n  position = { line = 1\\n               column = 0 } })</code></span></summary><div><table><thead><tr></tr></thead><tbody><tr><td>Item1</td><td><details class=\"dni-treeview\"><summary><span class=\"dni-code-hint\"><code>JNumber 0.001234</code></span></summary><div><table><thead><tr></tr></thead><tbody><tr><td>Item</td><td><div class=\"dni-plaintext\"><pre>0.001234\n",
       "</pre></div></td></tr><tr><td>IsJString</td><td><div class=\"dni-plaintext\"><pre>false\n",
       "</pre></div></td></tr><tr><td>IsJNumber</td><td><div class=\"dni-plaintext\"><pre>true\n",
       "</pre></div></td></tr><tr><td>IsJBool</td><td><div class=\"dni-plaintext\"><pre>false\n",
       "</pre></div></td></tr><tr><td>IsJNull</td><td><div class=\"dni-plaintext\"><pre>false\n",
       "</pre></div></td></tr><tr><td>IsJObject</td><td><div class=\"dni-plaintext\"><pre>false\n",
       "</pre></div></td></tr><tr><td>IsJArray</td><td><div class=\"dni-plaintext\"><pre>false\n",
       "</pre></div></td></tr></tbody></table></div></details></td></tr><tr><td>Item2</td><td><details class=\"dni-treeview\"><summary><span class=\"dni-code-hint\"><code>{ lines = [|&quot;123.4e-5&quot;|]\\n  position = { line = 1\\n               column = 0 } }</code></span></summary><div><table><thead><tr></tr></thead><tbody><tr><td>lines</td><td><div class=\"dni-plaintext\"><pre>[ 123.4e-5 ]</pre></div></td></tr><tr><td>position</td><td><details class=\"dni-treeview\"><summary><span class=\"dni-code-hint\"><code>{ line = 1\\n  column = 0 }</code></span></summary><div><table><thead><tr></tr></thead><tbody><tr><td>line</td><td><div class=\"dni-plaintext\"><pre>1\n",
       "</pre></div></td></tr><tr><td>column</td><td><div class=\"dni-plaintext\"><pre>0\n",
       "</pre></div></td></tr></tbody></table></div></details></td></tr></tbody></table></div></details></td></tr></tbody></table></div></details></td></tr><tr><td>IsSuccess</td><td><div class=\"dni-plaintext\"><pre>true\n",
       "</pre></div></td></tr><tr><td>IsFailure</td><td><div class=\"dni-plaintext\"><pre>false\n",
       "</pre></div></td></tr></tbody></table></div></details><style>\n",
       ".dni-code-hint {\n",
       "    font-style: italic;\n",
       "    overflow: hidden;\n",
       "    white-space: nowrap;\n",
       "}\n",
       ".dni-treeview {\n",
       "    white-space: nowrap;\n",
       "}\n",
       ".dni-treeview td {\n",
       "    vertical-align: top;\n",
       "    text-align: start;\n",
       "}\n",
       "details.dni-treeview {\n",
       "    padding-left: 1em;\n",
       "}\n",
       "table td {\n",
       "    text-align: start;\n",
       "}\n",
       "table tr { \n",
       "    vertical-align: top; \n",
       "    margin: 0em 0px;\n",
       "}\n",
       "table tr td pre \n",
       "{ \n",
       "    vertical-align: top !important; \n",
       "    margin: 0em 0px !important;\n",
       "} \n",
       "table th {\n",
       "    text-align: start;\n",
       "}\n",
       "</style>"
      ]
     },
     "metadata": {},
     "output_type": "display_data"
    },
    {
     "name": "stdout",
     "output_type": "stream",
     "text": [
      "JNumber 0.001234\n",
      "JNumber 0.001234\n",
      "\n"
     ]
    }
   ],
   "source": [
    "//// test\n",
    "\n",
    "run jNumber_ \"123.4e-5\"\n",
    "|> parserEqual (Success (JNumber 0.001234))"
   ]
  },
  {
   "cell_type": "markdown",
   "metadata": {},
   "source": [
    "### jArray"
   ]
  },
  {
   "cell_type": "code",
   "execution_count": null,
   "metadata": {
    "dotnet_interactive": {
     "language": "fsharp"
    },
    "polyglot_notebook": {
     "kernelName": "fsharp"
    }
   },
   "outputs": [],
   "source": [
    "let jArray =\n",
    "    let left = pchar '[' .>> spaces\n",
    "    let right = pchar ']' .>> spaces\n",
    "    let comma = pchar ',' .>> spaces\n",
    "    let value = jValue .>> spaces\n",
    "\n",
    "    let values = sepBy value comma\n",
    "\n",
    "    between left values right\n",
    "    |>> JArray\n",
    "    <?> \"array\""
   ]
  },
  {
   "cell_type": "code",
   "execution_count": null,
   "metadata": {
    "dotnet_interactive": {
     "language": "fsharp"
    },
    "polyglot_notebook": {
     "kernelName": "fsharp"
    }
   },
   "outputs": [],
   "source": [
    "//// test\n",
    "\n",
    "jValueRef <|\n",
    "    choice\n",
    "        [\n",
    "            jNull\n",
    "            jBool\n",
    "            jString\n",
    "            jNumber\n",
    "            jArray\n",
    "        ]"
   ]
  },
  {
   "cell_type": "code",
   "execution_count": null,
   "metadata": {
    "dotnet_interactive": {
     "language": "fsharp"
    },
    "polyglot_notebook": {
     "kernelName": "fsharp"
    }
   },
   "outputs": [
    {
     "data": {
      "text/html": [
       "<details open=\"open\" class=\"dni-treeview\"><summary><span class=\"dni-code-hint\"><code>Success (JArray [JNumber 1.0; JNumber 2.0], { lines = [|&quot;[ 1, 2 ]&quot;|]\\n                                              position = { line = 1\\n                                                           column = 0 } })</code></span></summary><div><table><thead><tr></tr></thead><tbody><tr><td>Item</td><td><details class=\"dni-treeview\"><summary><span class=\"dni-code-hint\"><code>(JArray [JNumber 1.0; JNumber 2.0], { lines = [|&quot;[ 1, 2 ]&quot;|]\\n  position = { line = 1\\n               column = 0 } })</code></span></summary><div><table><thead><tr></tr></thead><tbody><tr><td>Item1</td><td><details class=\"dni-treeview\"><summary><span class=\"dni-code-hint\"><code>JArray [JNumber 1.0; JNumber 2.0]</code></span></summary><div><table><thead><tr></tr></thead><tbody><tr><td>Item</td><td><table><thead><tr><th><i>index</i></th><th>value</th></tr></thead><tbody><tr><td>0</td><td><details class=\"dni-treeview\"><summary><span class=\"dni-code-hint\"><code>JNumber 1.0</code></span></summary><div><table><thead><tr></tr></thead><tbody><tr><td>Item</td><td><div class=\"dni-plaintext\"><pre>1.0\n",
       "</pre></div></td></tr><tr><td>IsJString</td><td><div class=\"dni-plaintext\"><pre>false\n",
       "</pre></div></td></tr><tr><td>IsJNumber</td><td><div class=\"dni-plaintext\"><pre>true\n",
       "</pre></div></td></tr><tr><td>IsJBool</td><td><div class=\"dni-plaintext\"><pre>false\n",
       "</pre></div></td></tr><tr><td>IsJNull</td><td><div class=\"dni-plaintext\"><pre>false\n",
       "</pre></div></td></tr><tr><td>IsJObject</td><td><div class=\"dni-plaintext\"><pre>false\n",
       "</pre></div></td></tr><tr><td>IsJArray</td><td><div class=\"dni-plaintext\"><pre>false\n",
       "</pre></div></td></tr></tbody></table></div></details></td></tr><tr><td>1</td><td><details class=\"dni-treeview\"><summary><span class=\"dni-code-hint\"><code>JNumber 2.0</code></span></summary><div><table><thead><tr></tr></thead><tbody><tr><td>Item</td><td><div class=\"dni-plaintext\"><pre>2.0\n",
       "</pre></div></td></tr><tr><td>IsJString</td><td><div class=\"dni-plaintext\"><pre>false\n",
       "</pre></div></td></tr><tr><td>IsJNumber</td><td><div class=\"dni-plaintext\"><pre>true\n",
       "</pre></div></td></tr><tr><td>IsJBool</td><td><div class=\"dni-plaintext\"><pre>false\n",
       "</pre></div></td></tr><tr><td>IsJNull</td><td><div class=\"dni-plaintext\"><pre>false\n",
       "</pre></div></td></tr><tr><td>IsJObject</td><td><div class=\"dni-plaintext\"><pre>false\n",
       "</pre></div></td></tr><tr><td>IsJArray</td><td><div class=\"dni-plaintext\"><pre>false\n",
       "</pre></div></td></tr></tbody></table></div></details></td></tr></tbody></table></td></tr><tr><td>IsJString</td><td><div class=\"dni-plaintext\"><pre>false\n",
       "</pre></div></td></tr><tr><td>IsJNumber</td><td><div class=\"dni-plaintext\"><pre>false\n",
       "</pre></div></td></tr><tr><td>IsJBool</td><td><div class=\"dni-plaintext\"><pre>false\n",
       "</pre></div></td></tr><tr><td>IsJNull</td><td><div class=\"dni-plaintext\"><pre>false\n",
       "</pre></div></td></tr><tr><td>IsJObject</td><td><div class=\"dni-plaintext\"><pre>false\n",
       "</pre></div></td></tr><tr><td>IsJArray</td><td><div class=\"dni-plaintext\"><pre>true\n",
       "</pre></div></td></tr></tbody></table></div></details></td></tr><tr><td>Item2</td><td><details class=\"dni-treeview\"><summary><span class=\"dni-code-hint\"><code>{ lines = [|&quot;[ 1, 2 ]&quot;|]\\n  position = { line = 1\\n               column = 0 } }</code></span></summary><div><table><thead><tr></tr></thead><tbody><tr><td>lines</td><td><div class=\"dni-plaintext\"><pre>[ [ 1, 2 ] ]</pre></div></td></tr><tr><td>position</td><td><details class=\"dni-treeview\"><summary><span class=\"dni-code-hint\"><code>{ line = 1\\n  column = 0 }</code></span></summary><div><table><thead><tr></tr></thead><tbody><tr><td>line</td><td><div class=\"dni-plaintext\"><pre>1\n",
       "</pre></div></td></tr><tr><td>column</td><td><div class=\"dni-plaintext\"><pre>0\n",
       "</pre></div></td></tr></tbody></table></div></details></td></tr></tbody></table></div></details></td></tr></tbody></table></div></details></td></tr><tr><td>IsSuccess</td><td><div class=\"dni-plaintext\"><pre>true\n",
       "</pre></div></td></tr><tr><td>IsFailure</td><td><div class=\"dni-plaintext\"><pre>false\n",
       "</pre></div></td></tr></tbody></table></div></details><style>\n",
       ".dni-code-hint {\n",
       "    font-style: italic;\n",
       "    overflow: hidden;\n",
       "    white-space: nowrap;\n",
       "}\n",
       ".dni-treeview {\n",
       "    white-space: nowrap;\n",
       "}\n",
       ".dni-treeview td {\n",
       "    vertical-align: top;\n",
       "    text-align: start;\n",
       "}\n",
       "details.dni-treeview {\n",
       "    padding-left: 1em;\n",
       "}\n",
       "table td {\n",
       "    text-align: start;\n",
       "}\n",
       "table tr { \n",
       "    vertical-align: top; \n",
       "    margin: 0em 0px;\n",
       "}\n",
       "table tr td pre \n",
       "{ \n",
       "    vertical-align: top !important; \n",
       "    margin: 0em 0px !important;\n",
       "} \n",
       "table th {\n",
       "    text-align: start;\n",
       "}\n",
       "</style>"
      ]
     },
     "metadata": {},
     "output_type": "display_data"
    },
    {
     "name": "stdout",
     "output_type": "stream",
     "text": [
      "JArray [JNumber 1.0; JNumber 2.0]\n",
      "JArray [JNumber 1.0; JNumber 2.0]\n",
      "\n"
     ]
    }
   ],
   "source": [
    "//// test\n",
    "\n",
    "run jArray \"[ 1, 2 ]\"\n",
    "|> parserEqual (Success (JArray [ JNumber 1.0; JNumber 2.0 ]))"
   ]
  },
  {
   "cell_type": "code",
   "execution_count": null,
   "metadata": {
    "dotnet_interactive": {
     "language": "fsharp"
    },
    "polyglot_notebook": {
     "kernelName": "fsharp"
    }
   },
   "outputs": [
    {
     "data": {
      "text/html": [
       "<details open=\"open\" class=\"dni-treeview\"><summary><span class=\"dni-code-hint\"><code>Failure (&quot;array&quot;, &quot;Unexpected &#39;,&#39;&quot;, { currentLine = &quot;[ 1, 2, ]&quot;\\n                                      line = 0\\n                                      column = 6 })</code></span></summary><div><table><thead><tr></tr></thead><tbody><tr><td>Item1</td><td><div class=\"dni-plaintext\"><pre>&quot;array&quot;\n",
       "</pre></div></td></tr><tr><td>Item2</td><td><div class=\"dni-plaintext\"><pre>&quot;Unexpected &#39;,&#39;&quot;\n",
       "</pre></div></td></tr><tr><td>Item3</td><td><details class=\"dni-treeview\"><summary><span class=\"dni-code-hint\"><code>{ currentLine = &quot;[ 1, 2, ]&quot;\\n  line = 0\\n  column = 6 }</code></span></summary><div><table><thead><tr></tr></thead><tbody><tr><td>currentLine</td><td><div class=\"dni-plaintext\"><pre>&quot;[ 1, 2, ]&quot;\n",
       "</pre></div></td></tr><tr><td>line</td><td><div class=\"dni-plaintext\"><pre>0\n",
       "</pre></div></td></tr><tr><td>column</td><td><div class=\"dni-plaintext\"><pre>6\n",
       "</pre></div></td></tr></tbody></table></div></details></td></tr><tr><td>IsSuccess</td><td><div class=\"dni-plaintext\"><pre>false\n",
       "</pre></div></td></tr><tr><td>IsFailure</td><td><div class=\"dni-plaintext\"><pre>true\n",
       "</pre></div></td></tr></tbody></table></div></details><style>\n",
       ".dni-code-hint {\n",
       "    font-style: italic;\n",
       "    overflow: hidden;\n",
       "    white-space: nowrap;\n",
       "}\n",
       ".dni-treeview {\n",
       "    white-space: nowrap;\n",
       "}\n",
       ".dni-treeview td {\n",
       "    vertical-align: top;\n",
       "    text-align: start;\n",
       "}\n",
       "details.dni-treeview {\n",
       "    padding-left: 1em;\n",
       "}\n",
       "table td {\n",
       "    text-align: start;\n",
       "}\n",
       "table tr { \n",
       "    vertical-align: top; \n",
       "    margin: 0em 0px;\n",
       "}\n",
       "table tr td pre \n",
       "{ \n",
       "    vertical-align: top !important; \n",
       "    margin: 0em 0px !important;\n",
       "} \n",
       "table th {\n",
       "    text-align: start;\n",
       "}\n",
       "</style>"
      ]
     },
     "metadata": {},
     "output_type": "display_data"
    },
    {
     "name": "stdout",
     "output_type": "stream",
     "text": [
      "Line:0 Col:6 Error parsing array\n",
      "[ 1, 2, ]\n",
      "      ^Unexpected ','\n"
     ]
    }
   ],
   "source": [
    "//// test\n",
    "\n",
    "run jArray \"[ 1, 2, ]\"\n",
    "|> parserEqual (\n",
    "    Failure (\n",
    "        \"array\",\n",
    "        \"Unexpected ','\",\n",
    "        { currentLine = \"[ 1, 2, ]\"; line = 0; column = 6 }\n",
    "    )\n",
    ")"
   ]
  },
  {
   "cell_type": "markdown",
   "metadata": {},
   "source": [
    "### jObject"
   ]
  },
  {
   "cell_type": "code",
   "execution_count": null,
   "metadata": {
    "dotnet_interactive": {
     "language": "fsharp"
    },
    "polyglot_notebook": {
     "kernelName": "fsharp"
    }
   },
   "outputs": [],
   "source": [
    "let jObject =\n",
    "    let left = spaces >>. pchar '{' .>> spaces\n",
    "    let right = pchar '}' .>> spaces\n",
    "    let colon = pchar ':' .>> spaces\n",
    "    let comma = pchar ',' .>> spaces\n",
    "    let key = quotedString .>> spaces\n",
    "    let value = jValue .>> spaces\n",
    "\n",
    "    let keyValue = (key .>> colon) .>>. value\n",
    "    let keyValues = sepBy keyValue comma\n",
    "\n",
    "    between left keyValues right\n",
    "    |>> Map.ofList\n",
    "    |>> JObject\n",
    "    <?> \"object\""
   ]
  },
  {
   "cell_type": "code",
   "execution_count": null,
   "metadata": {
    "dotnet_interactive": {
     "language": "fsharp"
    },
    "polyglot_notebook": {
     "kernelName": "fsharp"
    }
   },
   "outputs": [],
   "source": [
    "jValueRef <|\n",
    "    choice\n",
    "        [\n",
    "            jNull\n",
    "            jBool\n",
    "            jString\n",
    "            jNumber\n",
    "            jArray\n",
    "            jObject\n",
    "        ]"
   ]
  },
  {
   "cell_type": "code",
   "execution_count": null,
   "metadata": {
    "dotnet_interactive": {
     "language": "fsharp"
    },
    "polyglot_notebook": {
     "kernelName": "fsharp"
    }
   },
   "outputs": [
    {
     "data": {
      "text/html": [
       "<details open=\"open\" class=\"dni-treeview\"><summary><span class=\"dni-code-hint\"><code>Success\\n  (JObject (map [(&quot;a&quot;, JNumber 1.0); (&quot;b&quot;, JNumber 2.0)]),\\n   { lines = [|&quot;{ &quot;a&quot;:1, &quot;b&quot;  :  2 }&quot;|]\\n     position = { line = 1\\n                  column = 0 } })</code></span></summary><div><table><thead><tr></tr></thead><tbody><tr><td>Item</td><td><details class=\"dni-treeview\"><summary><span class=\"dni-code-hint\"><code>(JObject (map [(&quot;a&quot;, JNumber 1.0); (&quot;b&quot;, JNumber 2.0)]), { lines = [|&quot;{ &quot;a&quot;:1, &quot;b&quot;  :  2 }&quot;|]\\n  position = { line = 1\\n               column = 0 } })</code></span></summary><div><table><thead><tr></tr></thead><tbody><tr><td>Item1</td><td><details class=\"dni-treeview\"><summary><span class=\"dni-code-hint\"><code>JObject (map [(&quot;a&quot;, JNumber 1.0); (&quot;b&quot;, JNumber 2.0)])</code></span></summary><div><table><thead><tr></tr></thead><tbody><tr><td>Item</td><td><table><thead><tr><th><i>key</i></th><th>value</th></tr></thead><tbody><tr><td><div class=\"dni-plaintext\"><pre>&quot;a&quot;\n",
       "</pre></div></td><td><details class=\"dni-treeview\"><summary><span class=\"dni-code-hint\"><code>JNumber 1.0</code></span></summary><div><table><thead><tr></tr></thead><tbody><tr><td>Item</td><td><div class=\"dni-plaintext\"><pre>1.0\n",
       "</pre></div></td></tr><tr><td>IsJString</td><td><div class=\"dni-plaintext\"><pre>false\n",
       "</pre></div></td></tr><tr><td>IsJNumber</td><td><div class=\"dni-plaintext\"><pre>true\n",
       "</pre></div></td></tr><tr><td>IsJBool</td><td><div class=\"dni-plaintext\"><pre>false\n",
       "</pre></div></td></tr><tr><td>IsJNull</td><td><div class=\"dni-plaintext\"><pre>false\n",
       "</pre></div></td></tr><tr><td>IsJObject</td><td><div class=\"dni-plaintext\"><pre>false\n",
       "</pre></div></td></tr><tr><td>IsJArray</td><td><div class=\"dni-plaintext\"><pre>false\n",
       "</pre></div></td></tr></tbody></table></div></details></td></tr><tr><td><div class=\"dni-plaintext\"><pre>&quot;b&quot;\n",
       "</pre></div></td><td><details class=\"dni-treeview\"><summary><span class=\"dni-code-hint\"><code>JNumber 2.0</code></span></summary><div><table><thead><tr></tr></thead><tbody><tr><td>Item</td><td><div class=\"dni-plaintext\"><pre>2.0\n",
       "</pre></div></td></tr><tr><td>IsJString</td><td><div class=\"dni-plaintext\"><pre>false\n",
       "</pre></div></td></tr><tr><td>IsJNumber</td><td><div class=\"dni-plaintext\"><pre>true\n",
       "</pre></div></td></tr><tr><td>IsJBool</td><td><div class=\"dni-plaintext\"><pre>false\n",
       "</pre></div></td></tr><tr><td>IsJNull</td><td><div class=\"dni-plaintext\"><pre>false\n",
       "</pre></div></td></tr><tr><td>IsJObject</td><td><div class=\"dni-plaintext\"><pre>false\n",
       "</pre></div></td></tr><tr><td>IsJArray</td><td><div class=\"dni-plaintext\"><pre>false\n",
       "</pre></div></td></tr></tbody></table></div></details></td></tr></tbody></table></td></tr><tr><td>IsJString</td><td><div class=\"dni-plaintext\"><pre>false\n",
       "</pre></div></td></tr><tr><td>IsJNumber</td><td><div class=\"dni-plaintext\"><pre>false\n",
       "</pre></div></td></tr><tr><td>IsJBool</td><td><div class=\"dni-plaintext\"><pre>false\n",
       "</pre></div></td></tr><tr><td>IsJNull</td><td><div class=\"dni-plaintext\"><pre>false\n",
       "</pre></div></td></tr><tr><td>IsJObject</td><td><div class=\"dni-plaintext\"><pre>true\n",
       "</pre></div></td></tr><tr><td>IsJArray</td><td><div class=\"dni-plaintext\"><pre>false\n",
       "</pre></div></td></tr></tbody></table></div></details></td></tr><tr><td>Item2</td><td><details class=\"dni-treeview\"><summary><span class=\"dni-code-hint\"><code>{ lines = [|&quot;{ &quot;a&quot;:1, &quot;b&quot;  :  2 }&quot;|]\\n  position = { line = 1\\n               column = 0 } }</code></span></summary><div><table><thead><tr></tr></thead><tbody><tr><td>lines</td><td><div class=\"dni-plaintext\"><pre>[ { &quot;a&quot;:1, &quot;b&quot;  :  2 } ]</pre></div></td></tr><tr><td>position</td><td><details class=\"dni-treeview\"><summary><span class=\"dni-code-hint\"><code>{ line = 1\\n  column = 0 }</code></span></summary><div><table><thead><tr></tr></thead><tbody><tr><td>line</td><td><div class=\"dni-plaintext\"><pre>1\n",
       "</pre></div></td></tr><tr><td>column</td><td><div class=\"dni-plaintext\"><pre>0\n",
       "</pre></div></td></tr></tbody></table></div></details></td></tr></tbody></table></div></details></td></tr></tbody></table></div></details></td></tr><tr><td>IsSuccess</td><td><div class=\"dni-plaintext\"><pre>true\n",
       "</pre></div></td></tr><tr><td>IsFailure</td><td><div class=\"dni-plaintext\"><pre>false\n",
       "</pre></div></td></tr></tbody></table></div></details><style>\n",
       ".dni-code-hint {\n",
       "    font-style: italic;\n",
       "    overflow: hidden;\n",
       "    white-space: nowrap;\n",
       "}\n",
       ".dni-treeview {\n",
       "    white-space: nowrap;\n",
       "}\n",
       ".dni-treeview td {\n",
       "    vertical-align: top;\n",
       "    text-align: start;\n",
       "}\n",
       "details.dni-treeview {\n",
       "    padding-left: 1em;\n",
       "}\n",
       "table td {\n",
       "    text-align: start;\n",
       "}\n",
       "table tr { \n",
       "    vertical-align: top; \n",
       "    margin: 0em 0px;\n",
       "}\n",
       "table tr td pre \n",
       "{ \n",
       "    vertical-align: top !important; \n",
       "    margin: 0em 0px !important;\n",
       "} \n",
       "table th {\n",
       "    text-align: start;\n",
       "}\n",
       "</style>"
      ]
     },
     "metadata": {},
     "output_type": "display_data"
    },
    {
     "name": "stdout",
     "output_type": "stream",
     "text": [
      "JObject (map [(\"a\", JNumber 1.0); (\"b\", JNumber 2.0)])\n",
      "JObject (map [(\"a\", JNumber 1.0); (\"b\", JNumber 2.0)])\n",
      "\n"
     ]
    }
   ],
   "source": [
    "//// test\n",
    "\n",
    "run jObject \"\"\"{ \"a\":1, \"b\"  :  2 }\"\"\"\n",
    "|> parserEqual (\n",
    "    Success (\n",
    "        JObject (\n",
    "            Map.ofList [\n",
    "                \"a\", JNumber 1.0\n",
    "                \"b\", JNumber 2.0\n",
    "            ]\n",
    "        )\n",
    "    )\n",
    ")"
   ]
  },
  {
   "cell_type": "code",
   "execution_count": null,
   "metadata": {
    "dotnet_interactive": {
     "language": "fsharp"
    },
    "polyglot_notebook": {
     "kernelName": "fsharp"
    }
   },
   "outputs": [
    {
     "data": {
      "text/html": [
       "<details open=\"open\" class=\"dni-treeview\"><summary><span class=\"dni-code-hint\"><code>Failure (&quot;object&quot;, &quot;Unexpected &#39;,&#39;&quot;, { currentLine = &quot;{ &quot;a&quot;:1, &quot;b&quot;  :  2, }&quot;\\n                                       line = 0\\n                                       column = 18 })</code></span></summary><div><table><thead><tr></tr></thead><tbody><tr><td>Item1</td><td><div class=\"dni-plaintext\"><pre>&quot;object&quot;\n",
       "</pre></div></td></tr><tr><td>Item2</td><td><div class=\"dni-plaintext\"><pre>&quot;Unexpected &#39;,&#39;&quot;\n",
       "</pre></div></td></tr><tr><td>Item3</td><td><details class=\"dni-treeview\"><summary><span class=\"dni-code-hint\"><code>{ currentLine = &quot;{ &quot;a&quot;:1, &quot;b&quot;  :  2, }&quot;\\n  line = 0\\n  column = 18 }</code></span></summary><div><table><thead><tr></tr></thead><tbody><tr><td>currentLine</td><td><div class=\"dni-plaintext\"><pre>&quot;{ &quot;a&quot;:1, &quot;b&quot;  :  2, }&quot;\n",
       "</pre></div></td></tr><tr><td>line</td><td><div class=\"dni-plaintext\"><pre>0\n",
       "</pre></div></td></tr><tr><td>column</td><td><div class=\"dni-plaintext\"><pre>18\n",
       "</pre></div></td></tr></tbody></table></div></details></td></tr><tr><td>IsSuccess</td><td><div class=\"dni-plaintext\"><pre>false\n",
       "</pre></div></td></tr><tr><td>IsFailure</td><td><div class=\"dni-plaintext\"><pre>true\n",
       "</pre></div></td></tr></tbody></table></div></details><style>\n",
       ".dni-code-hint {\n",
       "    font-style: italic;\n",
       "    overflow: hidden;\n",
       "    white-space: nowrap;\n",
       "}\n",
       ".dni-treeview {\n",
       "    white-space: nowrap;\n",
       "}\n",
       ".dni-treeview td {\n",
       "    vertical-align: top;\n",
       "    text-align: start;\n",
       "}\n",
       "details.dni-treeview {\n",
       "    padding-left: 1em;\n",
       "}\n",
       "table td {\n",
       "    text-align: start;\n",
       "}\n",
       "table tr { \n",
       "    vertical-align: top; \n",
       "    margin: 0em 0px;\n",
       "}\n",
       "table tr td pre \n",
       "{ \n",
       "    vertical-align: top !important; \n",
       "    margin: 0em 0px !important;\n",
       "} \n",
       "table th {\n",
       "    text-align: start;\n",
       "}\n",
       "</style>"
      ]
     },
     "metadata": {},
     "output_type": "display_data"
    },
    {
     "name": "stdout",
     "output_type": "stream",
     "text": [
      "Line:0 Col:18 Error parsing object\n",
      "{ \"a\":1, \"b\"  :  2, }\n",
      "                  ^Unexpected ','\n"
     ]
    }
   ],
   "source": [
    "//// test\n",
    "\n",
    "run jObject \"\"\"{ \"a\":1, \"b\"  :  2, }\"\"\"\n",
    "|> parserEqual (\n",
    "    Failure (\n",
    "        \"object\",\n",
    "        \"Unexpected ','\",\n",
    "        { currentLine = \"\"\"{ \"a\":1, \"b\"  :  2, }\"\"\"; line = 0; column = 18 }\n",
    "    )\n",
    ")"
   ]
  },
  {
   "cell_type": "markdown",
   "metadata": {},
   "source": [
    "### jValue"
   ]
  },
  {
   "cell_type": "code",
   "execution_count": null,
   "metadata": {
    "dotnet_interactive": {
     "language": "fsharp"
    },
    "polyglot_notebook": {
     "kernelName": "fsharp"
    }
   },
   "outputs": [
    {
     "data": {
      "text/html": [
       "<details open=\"open\" class=\"dni-treeview\"><summary><span class=\"dni-code-hint\"><code>Success\\n  (JObject\\n     (map\\n        [(&quot;bday&quot;,\\n          JObject\\n            (map\\n               [(&quot;day&quot;, JNumber 25.0); (&quot;month&quot;, JNumber 12.0);\\n                (&quot;year&quot;, JNumber 2001.0)])); (&quot;emptyArray&quot;, JArray []);\\n         (&quot;emptyObject&quot;, JObject (map []));\\n         (&quot;favouriteColors&quot;, ...</code></span></summary><div><table><thead><tr></tr></thead><tbody><tr><td>Item</td><td><details class=\"dni-treeview\"><summary><span class=\"dni-code-hint\"><code>(JObject\\n  (map\\n     [(&quot;bday&quot;,\\n       JObject\\n         (map\\n            [(&quot;day&quot;, JNumber 25.0); (&quot;month&quot;, JNumber 12.0);\\n             (&quot;year&quot;, JNumber 2001.0)])); (&quot;emptyArray&quot;, JArray []);\\n      (&quot;emptyObject&quot;, JObject (map []));\\n      (&quot;favouriteColors&quot;, JArray [JString &quot;blue&quot;; JString &quot;gr...</code></span></summary><div><table><thead><tr></tr></thead><tbody><tr><td>Item1</td><td><details class=\"dni-treeview\"><summary><span class=\"dni-code-hint\"><code>JObject\\n  (map\\n     [(&quot;bday&quot;,\\n       JObject\\n         (map\\n            [(&quot;day&quot;, JNumber 25.0); (&quot;month&quot;, JNumber 12.0);\\n             (&quot;year&quot;, JNumber 2001.0)])); (&quot;emptyArray&quot;, JArray []);\\n      (&quot;emptyObject&quot;, JObject (map []));\\n      (&quot;favouriteColors&quot;, JArray [JString &quot;blue&quot;; JString &quot;gre...</code></span></summary><div><table><thead><tr></tr></thead><tbody><tr><td>Item</td><td><table><thead><tr><th><i>key</i></th><th><i>type</i></th><th>value</th></tr></thead><tbody><tr><td><div class=\"dni-plaintext\"><pre>&quot;bday&quot;\n",
       "</pre></div></td><td>FSI_0026+JValue+JObject\n",
       "</td><td><details class=\"dni-treeview\"><summary><span class=\"dni-code-hint\"><code>JObject\\n  (map\\n     [(&quot;day&quot;, JNumber 25.0); (&quot;month&quot;, JNumber 12.0); (&quot;year&quot;, JNumber 2001.0)])</code></span></summary><div><table><thead><tr></tr></thead><tbody><tr><td>Item</td><td><table><thead><tr><th><i>key</i></th><th>value</th></tr></thead><tbody><tr><td><div class=\"dni-plaintext\"><pre>&quot;day&quot;\n",
       "</pre></div></td><td>JNumber 25.0</td></tr><tr><td><div class=\"dni-plaintext\"><pre>&quot;month&quot;\n",
       "</pre></div></td><td>JNumber 12.0</td></tr><tr><td><div class=\"dni-plaintext\"><pre>&quot;year&quot;\n",
       "</pre></div></td><td>JNumber 2001.0</td></tr></tbody></table></td></tr><tr><td>IsJString</td><td><div class=\"dni-plaintext\"><pre>false\n",
       "</pre></div></td></tr><tr><td>IsJNumber</td><td><div class=\"dni-plaintext\"><pre>false\n",
       "</pre></div></td></tr><tr><td>IsJBool</td><td><div class=\"dni-plaintext\"><pre>false\n",
       "</pre></div></td></tr><tr><td>IsJNull</td><td><div class=\"dni-plaintext\"><pre>false\n",
       "</pre></div></td></tr><tr><td>IsJObject</td><td><div class=\"dni-plaintext\"><pre>true\n",
       "</pre></div></td></tr><tr><td>IsJArray</td><td><div class=\"dni-plaintext\"><pre>false\n",
       "</pre></div></td></tr></tbody></table></div></details></td></tr><tr><td><div class=\"dni-plaintext\"><pre>&quot;emptyArray&quot;\n",
       "</pre></div></td><td>FSI_0026+JValue+JArray\n",
       "</td><td><details class=\"dni-treeview\"><summary><span class=\"dni-code-hint\"><code>JArray []</code></span></summary><div><table><thead><tr></tr></thead><tbody><tr><td>Item</td><td><i>(empty)</i></td></tr><tr><td>IsJString</td><td><div class=\"dni-plaintext\"><pre>false\n",
       "</pre></div></td></tr><tr><td>IsJNumber</td><td><div class=\"dni-plaintext\"><pre>false\n",
       "</pre></div></td></tr><tr><td>IsJBool</td><td><div class=\"dni-plaintext\"><pre>false\n",
       "</pre></div></td></tr><tr><td>IsJNull</td><td><div class=\"dni-plaintext\"><pre>false\n",
       "</pre></div></td></tr><tr><td>IsJObject</td><td><div class=\"dni-plaintext\"><pre>false\n",
       "</pre></div></td></tr><tr><td>IsJArray</td><td><div class=\"dni-plaintext\"><pre>true\n",
       "</pre></div></td></tr></tbody></table></div></details></td></tr><tr><td><div class=\"dni-plaintext\"><pre>&quot;emptyObject&quot;\n",
       "</pre></div></td><td>FSI_0026+JValue+JObject\n",
       "</td><td><details class=\"dni-treeview\"><summary><span class=\"dni-code-hint\"><code>JObject (map [])</code></span></summary><div><table><thead><tr></tr></thead><tbody><tr><td>Item</td><td><i>(empty)</i></td></tr><tr><td>IsJString</td><td><div class=\"dni-plaintext\"><pre>false\n",
       "</pre></div></td></tr><tr><td>IsJNumber</td><td><div class=\"dni-plaintext\"><pre>false\n",
       "</pre></div></td></tr><tr><td>IsJBool</td><td><div class=\"dni-plaintext\"><pre>false\n",
       "</pre></div></td></tr><tr><td>IsJNull</td><td><div class=\"dni-plaintext\"><pre>false\n",
       "</pre></div></td></tr><tr><td>IsJObject</td><td><div class=\"dni-plaintext\"><pre>true\n",
       "</pre></div></td></tr><tr><td>IsJArray</td><td><div class=\"dni-plaintext\"><pre>false\n",
       "</pre></div></td></tr></tbody></table></div></details></td></tr><tr><td><div class=\"dni-plaintext\"><pre>&quot;favouriteColors&quot;\n",
       "</pre></div></td><td>FSI_0026+JValue+JArray\n",
       "</td><td><details class=\"dni-treeview\"><summary><span class=\"dni-code-hint\"><code>JArray [JString &quot;blue&quot;; JString &quot;green&quot;]</code></span></summary><div><table><thead><tr></tr></thead><tbody><tr><td>Item</td><td><table><thead><tr><th><i>index</i></th><th>value</th></tr></thead><tbody><tr><td>0</td><td>JString \"blue\"</td></tr><tr><td>1</td><td>JString \"green\"</td></tr></tbody></table></td></tr><tr><td>IsJString</td><td><div class=\"dni-plaintext\"><pre>false\n",
       "</pre></div></td></tr><tr><td>IsJNumber</td><td><div class=\"dni-plaintext\"><pre>false\n",
       "</pre></div></td></tr><tr><td>IsJBool</td><td><div class=\"dni-plaintext\"><pre>false\n",
       "</pre></div></td></tr><tr><td>IsJNull</td><td><div class=\"dni-plaintext\"><pre>false\n",
       "</pre></div></td></tr><tr><td>IsJObject</td><td><div class=\"dni-plaintext\"><pre>false\n",
       "</pre></div></td></tr><tr><td>IsJArray</td><td><div class=\"dni-plaintext\"><pre>true\n",
       "</pre></div></td></tr></tbody></table></div></details></td></tr><tr><td><div class=\"dni-plaintext\"><pre>&quot;isMale&quot;\n",
       "</pre></div></td><td>FSI_0026+JValue+JBool\n",
       "</td><td><details class=\"dni-treeview\"><summary><span class=\"dni-code-hint\"><code>JBool true</code></span></summary><div><table><thead><tr></tr></thead><tbody><tr><td>Item</td><td><div class=\"dni-plaintext\"><pre>true\n",
       "</pre></div></td></tr><tr><td>IsJString</td><td><div class=\"dni-plaintext\"><pre>false\n",
       "</pre></div></td></tr><tr><td>IsJNumber</td><td><div class=\"dni-plaintext\"><pre>false\n",
       "</pre></div></td></tr><tr><td>IsJBool</td><td><div class=\"dni-plaintext\"><pre>true\n",
       "</pre></div></td></tr><tr><td>IsJNull</td><td><div class=\"dni-plaintext\"><pre>false\n",
       "</pre></div></td></tr><tr><td>IsJObject</td><td><div class=\"dni-plaintext\"><pre>false\n",
       "</pre></div></td></tr><tr><td>IsJArray</td><td><div class=\"dni-plaintext\"><pre>false\n",
       "</pre></div></td></tr></tbody></table></div></details></td></tr><tr><td><div class=\"dni-plaintext\"><pre>&quot;name&quot;\n",
       "</pre></div></td><td>FSI_0026+JValue+JString\n",
       "</td><td><details class=\"dni-treeview\"><summary><span class=\"dni-code-hint\"><code>JString &quot;Scott&quot;</code></span></summary><div><table><thead><tr></tr></thead><tbody><tr><td>Item</td><td><div class=\"dni-plaintext\"><pre>&quot;Scott&quot;\n",
       "</pre></div></td></tr><tr><td>IsJString</td><td><div class=\"dni-plaintext\"><pre>true\n",
       "</pre></div></td></tr><tr><td>IsJNumber</td><td><div class=\"dni-plaintext\"><pre>false\n",
       "</pre></div></td></tr><tr><td>IsJBool</td><td><div class=\"dni-plaintext\"><pre>false\n",
       "</pre></div></td></tr><tr><td>IsJNull</td><td><div class=\"dni-plaintext\"><pre>false\n",
       "</pre></div></td></tr><tr><td>IsJObject</td><td><div class=\"dni-plaintext\"><pre>false\n",
       "</pre></div></td></tr><tr><td>IsJArray</td><td><div class=\"dni-plaintext\"><pre>false\n",
       "</pre></div></td></tr></tbody></table></div></details></td></tr></tbody></table></td></tr><tr><td>IsJString</td><td><div class=\"dni-plaintext\"><pre>false\n",
       "</pre></div></td></tr><tr><td>IsJNumber</td><td><div class=\"dni-plaintext\"><pre>false\n",
       "</pre></div></td></tr><tr><td>IsJBool</td><td><div class=\"dni-plaintext\"><pre>false\n",
       "</pre></div></td></tr><tr><td>IsJNull</td><td><div class=\"dni-plaintext\"><pre>false\n",
       "</pre></div></td></tr><tr><td>IsJObject</td><td><div class=\"dni-plaintext\"><pre>true\n",
       "</pre></div></td></tr><tr><td>IsJArray</td><td><div class=\"dni-plaintext\"><pre>false\n",
       "</pre></div></td></tr></tbody></table></div></details></td></tr><tr><td>Item2</td><td><details class=\"dni-treeview\"><summary><span class=\"dni-code-hint\"><code>{ lines =\\n   [|&quot;{&quot;; &quot;    &quot;name&quot; : &quot;Scott&quot;,&quot;; &quot;    &quot;isMale&quot; : true,&quot;;\\n     &quot;    &quot;bday&quot; : {&quot;year&quot;:2001, &quot;month&quot;:12, &quot;day&quot;:25 },&quot;;\\n     &quot;    &quot;favouriteColors&quot; : [&quot;blue&quot;, &quot;green&quot;],&quot;; &quot;    &quot;emptyArray&quot; : [],&quot;;\\n     &quot;    &quot;emptyObject&quot; : {}&quot;; &quot;}&quot;|]\\n  position = { line = 8\\n               column = 0 } ...</code></span></summary><div><table><thead><tr></tr></thead><tbody><tr><td>lines</td><td><div class=\"dni-plaintext\"><pre>[ {,     &quot;name&quot; : &quot;Scott&quot;,,     &quot;isMale&quot; : true,,     &quot;bday&quot; : {&quot;year&quot;:2001, &quot;month&quot;:12, &quot;day&quot;:25 },,     &quot;favouriteColors&quot; : [&quot;blue&quot;, &quot;green&quot;],,     &quot;emptyArray&quot; : [],,     &quot;emptyObject&quot; : {}, } ]</pre></div></td></tr><tr><td>position</td><td><details class=\"dni-treeview\"><summary><span class=\"dni-code-hint\"><code>{ line = 8\\n  column = 0 }</code></span></summary><div><table><thead><tr></tr></thead><tbody><tr><td>line</td><td><div class=\"dni-plaintext\"><pre>8\n",
       "</pre></div></td></tr><tr><td>column</td><td><div class=\"dni-plaintext\"><pre>0\n",
       "</pre></div></td></tr></tbody></table></div></details></td></tr></tbody></table></div></details></td></tr></tbody></table></div></details></td></tr><tr><td>IsSuccess</td><td><div class=\"dni-plaintext\"><pre>true\n",
       "</pre></div></td></tr><tr><td>IsFailure</td><td><div class=\"dni-plaintext\"><pre>false\n",
       "</pre></div></td></tr></tbody></table></div></details><style>\n",
       ".dni-code-hint {\n",
       "    font-style: italic;\n",
       "    overflow: hidden;\n",
       "    white-space: nowrap;\n",
       "}\n",
       ".dni-treeview {\n",
       "    white-space: nowrap;\n",
       "}\n",
       ".dni-treeview td {\n",
       "    vertical-align: top;\n",
       "    text-align: start;\n",
       "}\n",
       "details.dni-treeview {\n",
       "    padding-left: 1em;\n",
       "}\n",
       "table td {\n",
       "    text-align: start;\n",
       "}\n",
       "table tr { \n",
       "    vertical-align: top; \n",
       "    margin: 0em 0px;\n",
       "}\n",
       "table tr td pre \n",
       "{ \n",
       "    vertical-align: top !important; \n",
       "    margin: 0em 0px !important;\n",
       "} \n",
       "table th {\n",
       "    text-align: start;\n",
       "}\n",
       "</style>"
      ]
     },
     "metadata": {},
     "output_type": "display_data"
    },
    {
     "name": "stdout",
     "output_type": "stream",
     "text": [
      "JObject\n",
      "  (map\n",
      "     [(\"bday\",\n",
      "       JObject\n",
      "         (map\n",
      "            [(\"day\", JNumber 25.0); (\"month\", JNumber 12.0);\n",
      "             (\"year\", JNumber 2001.0)])); (\"emptyArray\", JArray []);\n",
      "      (\"emptyObject\", JObject (map []));\n",
      "      (\"favouriteColors\", JArray [JString \"blue\"; JString \"green\"]);\n",
      "      (\"isMale\", JBool true); (\"name\", JString \"Scott\")])\n",
      "JObject\n",
      "  (map\n",
      "     [(\"bday\", JObject (map [(\"day\", JNumber 25.0); (\"month\", JNumber 12.0); (\"year\", JNumber 2001.0)]));\n",
      "      (\"emptyArray\", JArray []); (\"emptyObject\", JObject (map []));\n",
      "      (\"favouriteColors\", JArray [JString \"blue\"; JString \"green\"]); (\"isMale\", JBool true); (\"name\", JString \"Scott\")])\n",
      "\n"
     ]
    }
   ],
   "source": [
    "//// test\n",
    "\n",
    "let example1 = \"\"\"{\n",
    "    \"name\" : \"Scott\",\n",
    "    \"isMale\" : true,\n",
    "    \"bday\" : {\"year\":2001, \"month\":12, \"day\":25 },\n",
    "    \"favouriteColors\" : [\"blue\", \"green\"],\n",
    "    \"emptyArray\" : [],\n",
    "    \"emptyObject\" : {}\n",
    "}\"\"\"\n",
    "run jValue example1\n",
    "|> parserEqual (\n",
    "    Success (\n",
    "        JObject (\n",
    "            Map.ofList [\n",
    "                \"name\", JString \"Scott\"\n",
    "                \"isMale\", JBool true\n",
    "                \"bday\", JObject (\n",
    "                    Map.ofList [\n",
    "                        \"year\", JNumber 2001.0\n",
    "                        \"month\", JNumber 12.0\n",
    "                        \"day\", JNumber 25.0\n",
    "                    ]\n",
    "                )\n",
    "                \"favouriteColors\", JArray [ JString \"blue\"; JString \"green\" ]\n",
    "                \"emptyArray\", JArray []\n",
    "                \"emptyObject\", JObject Map.empty\n",
    "            ]\n",
    "        )\n",
    "    )\n",
    ")"
   ]
  },
  {
   "cell_type": "code",
   "execution_count": null,
   "metadata": {
    "dotnet_interactive": {
     "language": "fsharp"
    },
    "polyglot_notebook": {
     "kernelName": "fsharp"
    }
   },
   "outputs": [
    {
     "data": {
      "text/html": [
       "<details open=\"open\" class=\"dni-treeview\"><summary><span class=\"dni-code-hint\"><code>Success\\n  (JObject\\n     (map\\n        [(&quot;widget&quot;,\\n          JObject\\n            (map\\n               [(&quot;debug&quot;, JString &quot;on&quot;);\\n                (&quot;image&quot;,\\n                 JObject\\n                   (map\\n                      [(&quot;alignment&quot;, JString &quot;center&quot;);\\n                       (&quot;hOffset&quot;...</code></span></summary><div><table><thead><tr></tr></thead><tbody><tr><td>Item</td><td><details class=\"dni-treeview\"><summary><span class=\"dni-code-hint\"><code>(JObject\\n  (map\\n     [(&quot;widget&quot;,\\n       JObject\\n         (map\\n            [(&quot;debug&quot;, JString &quot;on&quot;);\\n             (&quot;image&quot;,\\n              JObject\\n                (map\\n                   [(&quot;alignment&quot;, JString &quot;center&quot;); (&quot;hOffset&quot;, JNumber 250.0);\\n                    (&quot;name&quot;, JString &quot;sun1&quot;...</code></span></summary><div><table><thead><tr></tr></thead><tbody><tr><td>Item1</td><td><details class=\"dni-treeview\"><summary><span class=\"dni-code-hint\"><code>JObject\\n  (map\\n     [(&quot;widget&quot;,\\n       JObject\\n         (map\\n            [(&quot;debug&quot;, JString &quot;on&quot;);\\n             (&quot;image&quot;,\\n              JObject\\n                (map\\n                   [(&quot;alignment&quot;, JString &quot;center&quot;); (&quot;hOffset&quot;, JNumber 250.0);\\n                    (&quot;name&quot;, JString &quot;sun1&quot;)...</code></span></summary><div><table><thead><tr></tr></thead><tbody><tr><td>Item</td><td><table><thead><tr><th><i>key</i></th><th>value</th></tr></thead><tbody><tr><td><div class=\"dni-plaintext\"><pre>&quot;widget&quot;\n",
       "</pre></div></td><td><details class=\"dni-treeview\"><summary><span class=\"dni-code-hint\"><code>JObject\\n  (map\\n     [(&quot;debug&quot;, JString &quot;on&quot;);\\n      (&quot;image&quot;,\\n       JObject\\n         (map\\n            [(&quot;alignment&quot;, JString &quot;center&quot;); (&quot;hOffset&quot;, JNumber 250.0);\\n             (&quot;name&quot;, JString &quot;sun1&quot;); (&quot;src&quot;, JString &quot;Images/Sun.png&quot;);\\n             (&quot;vOffset&quot;, JNumber 250.0)]));\\n      (&quot;...</code></span></summary><div><table><thead><tr></tr></thead><tbody><tr><td>Item</td><td><table><thead><tr><th><i>key</i></th><th><i>type</i></th><th>value</th></tr></thead><tbody><tr><td><div class=\"dni-plaintext\"><pre>&quot;debug&quot;\n",
       "</pre></div></td><td>FSI_0026+JValue+JString</td><td>JString \"on\"</td></tr><tr><td><div class=\"dni-plaintext\"><pre>&quot;image&quot;\n",
       "</pre></div></td><td>FSI_0026+JValue+JObject</td><td>JObject\n",
       "  (map\n",
       "     [(\"alignment\", JString \"center\"); (\"hOffset\", JNumber 250.0);\n",
       "      (\"name\", JString \"sun1\"); (\"src\", JString \"Images/Sun.png\");\n",
       "      (\"vOffset\", JNumber 250.0)])</td></tr><tr><td><div class=\"dni-plaintext\"><pre>&quot;text&quot;\n",
       "</pre></div></td><td>FSI_0026+JValue+JObject</td><td>JObject\n",
       "  (map\n",
       "     [(\"alignment\", JString \"center\"); (\"data\", JString \"Click Here\");\n",
       "      (\"hOffset\", JNumber 250.0); (\"name\", JString \"text1\");\n",
       "      (\"onMouseUp\", JString \"sun1.opacity = (sun1.opacity / 100) * 90;\");\n",
       "      (\"size\", JNumber 36.0); (\"style\", JString \"bold\");\n",
       "      (\"vOffset\", JNumber 100.0)])</td></tr><tr><td><div class=\"dni-plaintext\"><pre>&quot;window&quot;\n",
       "</pre></div></td><td>FSI_0026+JValue+JObject</td><td>JObject\n",
       "  (map\n",
       "     [(\"height\", JNumber 500.0); (\"name\", JString \"main_window\");\n",
       "      (\"title\", JString \"Sample Konfabulator Widget\"); (\"width\", JNumber 500.0)])</td></tr></tbody></table></td></tr><tr><td>IsJString</td><td><div class=\"dni-plaintext\"><pre>false\n",
       "</pre></div></td></tr><tr><td>IsJNumber</td><td><div class=\"dni-plaintext\"><pre>false\n",
       "</pre></div></td></tr><tr><td>IsJBool</td><td><div class=\"dni-plaintext\"><pre>false\n",
       "</pre></div></td></tr><tr><td>IsJNull</td><td><div class=\"dni-plaintext\"><pre>false\n",
       "</pre></div></td></tr><tr><td>IsJObject</td><td><div class=\"dni-plaintext\"><pre>true\n",
       "</pre></div></td></tr><tr><td>IsJArray</td><td><div class=\"dni-plaintext\"><pre>false\n",
       "</pre></div></td></tr></tbody></table></div></details></td></tr></tbody></table></td></tr><tr><td>IsJString</td><td><div class=\"dni-plaintext\"><pre>false\n",
       "</pre></div></td></tr><tr><td>IsJNumber</td><td><div class=\"dni-plaintext\"><pre>false\n",
       "</pre></div></td></tr><tr><td>IsJBool</td><td><div class=\"dni-plaintext\"><pre>false\n",
       "</pre></div></td></tr><tr><td>IsJNull</td><td><div class=\"dni-plaintext\"><pre>false\n",
       "</pre></div></td></tr><tr><td>IsJObject</td><td><div class=\"dni-plaintext\"><pre>true\n",
       "</pre></div></td></tr><tr><td>IsJArray</td><td><div class=\"dni-plaintext\"><pre>false\n",
       "</pre></div></td></tr></tbody></table></div></details></td></tr><tr><td>Item2</td><td><details class=\"dni-treeview\"><summary><span class=\"dni-code-hint\"><code>{ lines =\\n   [|&quot;{&quot;widget&quot;: {&quot;; &quot;    &quot;debug&quot;: &quot;on&quot;,&quot;; &quot;    &quot;window&quot;: {&quot;;\\n     &quot;        &quot;title&quot;: &quot;Sample Konfabulator Widget&quot;,&quot;;\\n     &quot;        &quot;name&quot;: &quot;main_window&quot;,&quot;; &quot;        &quot;width&quot;: 500,&quot;;\\n     &quot;        &quot;height&quot;: 500&quot;; &quot;    },&quot;; &quot;    &quot;image&quot;: {&quot;;\\n     &quot;        &quot;src&quot;: &quot;Images/Sun.png&quot;,&quot;; &quot;    ...</code></span></summary><div><table><thead><tr></tr></thead><tbody><tr><td>lines</td><td><div class=\"dni-plaintext\"><pre>[ {&quot;widget&quot;: {,     &quot;debug&quot;: &quot;on&quot;,,     &quot;window&quot;: {,         &quot;title&quot;: &quot;Sample Konfabulator Widget&quot;,,         &quot;name&quot;: &quot;main_window&quot;,,         &quot;width&quot;: 500,,         &quot;height&quot;: 500,     },,     &quot;image&quot;: {,         &quot;src&quot;: &quot;Images/Sun.png&quot;,,         &quot;name&quot;: &quot;sun1&quot;,,         &quot;hOffset&quot;: 250,,         &quot;vOffset&quot;: 250,,         &quot;alignment&quot;: &quot;center&quot;,     },,     &quot;text&quot;: {,         &quot;data&quot;: &quot;Click Here&quot;,,         &quot;size&quot;: 36,,         &quot;style&quot;: &quot;bold&quot;,,         &quot;name&quot;: &quot;text1&quot;,,         &quot;hOffset&quot;: 250,,         &quot;vOffset&quot;: 100,,         &quot;alignment&quot;: &quot;center&quot;,,         &quot;onMouseUp&quot;: &quot;sun1.opacity = (sun1.opacity / 100) * 90;&quot;,     }, }} ]</pre></div></td></tr><tr><td>position</td><td><details class=\"dni-treeview\"><summary><span class=\"dni-code-hint\"><code>{ line = 26\\n  column = 0 }</code></span></summary><div><table><thead><tr></tr></thead><tbody><tr><td>line</td><td><div class=\"dni-plaintext\"><pre>26\n",
       "</pre></div></td></tr><tr><td>column</td><td><div class=\"dni-plaintext\"><pre>0\n",
       "</pre></div></td></tr></tbody></table></div></details></td></tr></tbody></table></div></details></td></tr></tbody></table></div></details></td></tr><tr><td>IsSuccess</td><td><div class=\"dni-plaintext\"><pre>true\n",
       "</pre></div></td></tr><tr><td>IsFailure</td><td><div class=\"dni-plaintext\"><pre>false\n",
       "</pre></div></td></tr></tbody></table></div></details><style>\n",
       ".dni-code-hint {\n",
       "    font-style: italic;\n",
       "    overflow: hidden;\n",
       "    white-space: nowrap;\n",
       "}\n",
       ".dni-treeview {\n",
       "    white-space: nowrap;\n",
       "}\n",
       ".dni-treeview td {\n",
       "    vertical-align: top;\n",
       "    text-align: start;\n",
       "}\n",
       "details.dni-treeview {\n",
       "    padding-left: 1em;\n",
       "}\n",
       "table td {\n",
       "    text-align: start;\n",
       "}\n",
       "table tr { \n",
       "    vertical-align: top; \n",
       "    margin: 0em 0px;\n",
       "}\n",
       "table tr td pre \n",
       "{ \n",
       "    vertical-align: top !important; \n",
       "    margin: 0em 0px !important;\n",
       "} \n",
       "table th {\n",
       "    text-align: start;\n",
       "}\n",
       "</style>"
      ]
     },
     "metadata": {},
     "output_type": "display_data"
    },
    {
     "name": "stdout",
     "output_type": "stream",
     "text": [
      "JObject\n",
      "  (map\n",
      "     [(\"widget\",\n",
      "       JObject\n",
      "         (map\n",
      "            [(\"debug\", JString \"on\");\n",
      "             (\"image\",\n",
      "              JObject\n",
      "                (map\n",
      "                   [(\"alignment\", JString \"center\"); (\"hOffset\", JNumber 250.0);\n",
      "                    (\"name\", JString \"sun1\"); (\"src\", JString \"Images/Sun.png\");\n",
      "                    (\"vOffset\", JNumber 250.0)]));\n",
      "             (\"text\",\n",
      "              JObject\n",
      "                (map\n",
      "                   [(\"alignment\", JString \"center\");\n",
      "                    (\"data\", JString \"Click Here\"); (\"hOffset\", JNumber 250.0);\n",
      "                    (\"name\", JString \"text1\");\n",
      "                    (\"onMouseUp\",\n",
      "                     JString \"sun1.opacity = (sun1.opacity / 100) * 90;\");\n",
      "                    (\"size\", JNumber 36.0); (\"style\", JString \"bold\");\n",
      "                    (\"vOffset\", JNumber 100.0)]));\n",
      "             (\"window\",\n",
      "              JObject\n",
      "                (map\n",
      "                   [(\"height\", JNumber 500.0); (\"name\", JString \"main_window\");\n",
      "                    (\"title\", JString \"Sample Konfabulator Widget\");\n",
      "                    (\"width\", JNumber 500.0)]))]))])\n",
      "JObject\n",
      "  (map\n",
      "     [(\"widget\",\n",
      "       JObject\n",
      "         (map\n",
      "            [(\"debug\", JString \"on\");\n",
      "             (\"image\",\n",
      "              JObject\n",
      "                (map\n",
      "                   [(\"alignment\", JString \"center\"); (\"hOffset\", JNumber 250.0); (\"name\", JString \"sun1\");\n",
      "                    (\"src\", JString \"Images/Sun.png\"); (\"vOffset\", JNumber 250.0)]));\n",
      "             (\"text\",\n",
      "              JObject\n",
      "                (map\n",
      "                   [(\"alignment\", JString \"center\"); (\"data\", JString \"Click Here\"); (\"hOffset\", JNumber 250.0);\n",
      "                    (\"name\", JString \"text1\"); (\"onMouseUp\", JString \"sun1.opacity = (sun1.opacity / 100) * 90;\");\n",
      "                    (\"size\", JNumber 36.0); (\"style\", JString \"bold\"); (\"vOffset\", JNumber 100.0)]));\n",
      "             (\"window\",\n",
      "              JObject\n",
      "                (map\n",
      "                   [(\"height\", JNumber 500.0); (\"name\", JString \"main_window\");\n",
      "                    (\"title\", JString \"Sample Konfabulator Widget\"); (\"width\", JNumber 500.0)]))]))])\n",
      "\n"
     ]
    }
   ],
   "source": [
    "//// test\n",
    "\n",
    "let example2 = \"\"\"{\"widget\": {\n",
    "    \"debug\": \"on\",\n",
    "    \"window\": {\n",
    "        \"title\": \"Sample Konfabulator Widget\",\n",
    "        \"name\": \"main_window\",\n",
    "        \"width\": 500,\n",
    "        \"height\": 500\n",
    "    },\n",
    "    \"image\": {\n",
    "        \"src\": \"Images/Sun.png\",\n",
    "        \"name\": \"sun1\",\n",
    "        \"hOffset\": 250,\n",
    "        \"vOffset\": 250,\n",
    "        \"alignment\": \"center\"\n",
    "    },\n",
    "    \"text\": {\n",
    "        \"data\": \"Click Here\",\n",
    "        \"size\": 36,\n",
    "        \"style\": \"bold\",\n",
    "        \"name\": \"text1\",\n",
    "        \"hOffset\": 250,\n",
    "        \"vOffset\": 100,\n",
    "        \"alignment\": \"center\",\n",
    "        \"onMouseUp\": \"sun1.opacity = (sun1.opacity / 100) * 90;\"\n",
    "    }\n",
    "}}\"\"\"\n",
    "\n",
    "run jValue example2\n",
    "|> parserEqual (\n",
    "    Success (\n",
    "        JObject (\n",
    "            Map.ofList [\n",
    "                \"widget\", JObject (\n",
    "                    Map.ofList [\n",
    "                        \"debug\", JString \"on\"\n",
    "                        \"window\", JObject (\n",
    "                            Map.ofList [\n",
    "                                \"title\", JString \"Sample Konfabulator Widget\"\n",
    "                                \"name\", JString \"main_window\"\n",
    "                                \"width\", JNumber 500.0\n",
    "                                \"height\", JNumber 500.0\n",
    "                            ]\n",
    "                        )\n",
    "                        \"image\", JObject (\n",
    "                            Map.ofList [\n",
    "                                \"src\", JString \"Images/Sun.png\"\n",
    "                                \"name\", JString \"sun1\"\n",
    "                                \"hOffset\", JNumber 250.0\n",
    "                                \"vOffset\", JNumber 250.0\n",
    "                                \"alignment\", JString \"center\"\n",
    "                            ]\n",
    "                        )\n",
    "                        \"text\", JObject (\n",
    "                            Map.ofList [\n",
    "                                \"data\", JString \"Click Here\"\n",
    "                                \"size\", JNumber 36.0\n",
    "                                \"style\", JString \"bold\"\n",
    "                                \"name\", JString \"text1\"\n",
    "                                \"hOffset\", JNumber 250.0\n",
    "                                \"vOffset\", JNumber 100.0\n",
    "                                \"alignment\", JString \"center\"\n",
    "                                \"onMouseUp\", JString \"sun1.opacity = (sun1.opacity / 100) * 90;\"\n",
    "                            ]\n",
    "                        )\n",
    "                    ]\n",
    "                )\n",
    "            ]\n",
    "        )\n",
    "    )\n",
    ")"
   ]
  },
  {
   "cell_type": "code",
   "execution_count": null,
   "metadata": {
    "dotnet_interactive": {
     "language": "fsharp"
    },
    "polyglot_notebook": {
     "kernelName": "fsharp"
    }
   },
   "outputs": [
    {
     "data": {
      "text/html": [
       "<details open=\"open\" class=\"dni-treeview\"><summary><span class=\"dni-code-hint\"><code>Success\\n  (JObject\\n     (map\\n        [(&quot;array&quot;,\\n          JArray\\n            [JNumber 1.0; JNumber 2.0; JNumber 3.0; JNumber 4.0; JNumber 5.0]);\\n         (&quot;boolean&quot;, JBool true); (&quot;emptyArray&quot;, JArray []);\\n         (&quot;emptyObject&quot;, JObject (map []));\\n         (&quot;escapedString&quot;, JString &quot;This s...</code></span></summary><div><table><thead><tr></tr></thead><tbody><tr><td>Item</td><td><details class=\"dni-treeview\"><summary><span class=\"dni-code-hint\"><code>(JObject\\n  (map\\n     [(&quot;array&quot;,\\n       JArray [JNumber 1.0; JNumber 2.0; JNumber 3.0; JNumber 4.0; JNumber 5.0]);\\n      (&quot;boolean&quot;, JBool true); (&quot;emptyArray&quot;, JArray []);\\n      (&quot;emptyObject&quot;, JObject (map []));\\n      (&quot;escapedString&quot;, JString &quot;This string contains \\/\\\\\\b\\f\\n\\r\\t\\&quot;\\&#39;&quot;);\\n    ...</code></span></summary><div><table><thead><tr></tr></thead><tbody><tr><td>Item1</td><td><details class=\"dni-treeview\"><summary><span class=\"dni-code-hint\"><code>JObject\\n  (map\\n     [(&quot;array&quot;,\\n       JArray [JNumber 1.0; JNumber 2.0; JNumber 3.0; JNumber 4.0; JNumber 5.0]);\\n      (&quot;boolean&quot;, JBool true); (&quot;emptyArray&quot;, JArray []);\\n      (&quot;emptyObject&quot;, JObject (map []));\\n      (&quot;escapedString&quot;, JString &quot;This string contains \\/\\\\\\b\\f\\n\\r\\t\\&quot;\\&#39;&quot;);\\n     ...</code></span></summary><div><table><thead><tr></tr></thead><tbody><tr><td>Item</td><td><table><thead><tr><th><i>key</i></th><th><i>type</i></th><th>value</th></tr></thead><tbody><tr><td><div class=\"dni-plaintext\"><pre>&quot;array&quot;\n",
       "</pre></div></td><td>FSI_0026+JValue+JArray\n",
       "</td><td><details class=\"dni-treeview\"><summary><span class=\"dni-code-hint\"><code>JArray [JNumber 1.0; JNumber 2.0; JNumber 3.0; JNumber 4.0; JNumber 5.0]</code></span></summary><div><table><thead><tr></tr></thead><tbody><tr><td>Item</td><td><table><thead><tr><th><i>index</i></th><th>value</th></tr></thead><tbody><tr><td>0</td><td>JNumber 1.0</td></tr><tr><td>1</td><td>JNumber 2.0</td></tr><tr><td>2</td><td>JNumber 3.0</td></tr><tr><td>3</td><td>JNumber 4.0</td></tr><tr><td>4</td><td>JNumber 5.0</td></tr></tbody></table></td></tr><tr><td>IsJString</td><td><div class=\"dni-plaintext\"><pre>false\n",
       "</pre></div></td></tr><tr><td>IsJNumber</td><td><div class=\"dni-plaintext\"><pre>false\n",
       "</pre></div></td></tr><tr><td>IsJBool</td><td><div class=\"dni-plaintext\"><pre>false\n",
       "</pre></div></td></tr><tr><td>IsJNull</td><td><div class=\"dni-plaintext\"><pre>false\n",
       "</pre></div></td></tr><tr><td>IsJObject</td><td><div class=\"dni-plaintext\"><pre>false\n",
       "</pre></div></td></tr><tr><td>IsJArray</td><td><div class=\"dni-plaintext\"><pre>true\n",
       "</pre></div></td></tr></tbody></table></div></details></td></tr><tr><td><div class=\"dni-plaintext\"><pre>&quot;boolean&quot;\n",
       "</pre></div></td><td>FSI_0026+JValue+JBool\n",
       "</td><td><details class=\"dni-treeview\"><summary><span class=\"dni-code-hint\"><code>JBool true</code></span></summary><div><table><thead><tr></tr></thead><tbody><tr><td>Item</td><td><div class=\"dni-plaintext\"><pre>true\n",
       "</pre></div></td></tr><tr><td>IsJString</td><td><div class=\"dni-plaintext\"><pre>false\n",
       "</pre></div></td></tr><tr><td>IsJNumber</td><td><div class=\"dni-plaintext\"><pre>false\n",
       "</pre></div></td></tr><tr><td>IsJBool</td><td><div class=\"dni-plaintext\"><pre>true\n",
       "</pre></div></td></tr><tr><td>IsJNull</td><td><div class=\"dni-plaintext\"><pre>false\n",
       "</pre></div></td></tr><tr><td>IsJObject</td><td><div class=\"dni-plaintext\"><pre>false\n",
       "</pre></div></td></tr><tr><td>IsJArray</td><td><div class=\"dni-plaintext\"><pre>false\n",
       "</pre></div></td></tr></tbody></table></div></details></td></tr><tr><td><div class=\"dni-plaintext\"><pre>&quot;emptyArray&quot;\n",
       "</pre></div></td><td>FSI_0026+JValue+JArray\n",
       "</td><td><details class=\"dni-treeview\"><summary><span class=\"dni-code-hint\"><code>JArray []</code></span></summary><div><table><thead><tr></tr></thead><tbody><tr><td>Item</td><td><i>(empty)</i></td></tr><tr><td>IsJString</td><td><div class=\"dni-plaintext\"><pre>false\n",
       "</pre></div></td></tr><tr><td>IsJNumber</td><td><div class=\"dni-plaintext\"><pre>false\n",
       "</pre></div></td></tr><tr><td>IsJBool</td><td><div class=\"dni-plaintext\"><pre>false\n",
       "</pre></div></td></tr><tr><td>IsJNull</td><td><div class=\"dni-plaintext\"><pre>false\n",
       "</pre></div></td></tr><tr><td>IsJObject</td><td><div class=\"dni-plaintext\"><pre>false\n",
       "</pre></div></td></tr><tr><td>IsJArray</td><td><div class=\"dni-plaintext\"><pre>true\n",
       "</pre></div></td></tr></tbody></table></div></details></td></tr><tr><td><div class=\"dni-plaintext\"><pre>&quot;emptyObject&quot;\n",
       "</pre></div></td><td>FSI_0026+JValue+JObject\n",
       "</td><td><details class=\"dni-treeview\"><summary><span class=\"dni-code-hint\"><code>JObject (map [])</code></span></summary><div><table><thead><tr></tr></thead><tbody><tr><td>Item</td><td><i>(empty)</i></td></tr><tr><td>IsJString</td><td><div class=\"dni-plaintext\"><pre>false\n",
       "</pre></div></td></tr><tr><td>IsJNumber</td><td><div class=\"dni-plaintext\"><pre>false\n",
       "</pre></div></td></tr><tr><td>IsJBool</td><td><div class=\"dni-plaintext\"><pre>false\n",
       "</pre></div></td></tr><tr><td>IsJNull</td><td><div class=\"dni-plaintext\"><pre>false\n",
       "</pre></div></td></tr><tr><td>IsJObject</td><td><div class=\"dni-plaintext\"><pre>true\n",
       "</pre></div></td></tr><tr><td>IsJArray</td><td><div class=\"dni-plaintext\"><pre>false\n",
       "</pre></div></td></tr></tbody></table></div></details></td></tr><tr><td><div class=\"dni-plaintext\"><pre>&quot;escapedString&quot;\n",
       "</pre></div></td><td>FSI_0026+JValue+JString\n",
       "</td><td><details class=\"dni-treeview\"><summary><span class=\"dni-code-hint\"><code>JString &quot;This string contains \\/\\\\\\b\\f\\n\\r\\t\\&quot;\\&#39;&quot;</code></span></summary><div><table><thead><tr></tr></thead><tbody><tr><td>Item</td><td><div class=\"dni-plaintext\"><pre>&quot;This string contains \\/\\\\\\b\\f\\n\\r\\t\\&quot;\\&#39;&quot;\n",
       "</pre></div></td></tr><tr><td>IsJString</td><td><div class=\"dni-plaintext\"><pre>true\n",
       "</pre></div></td></tr><tr><td>IsJNumber</td><td><div class=\"dni-plaintext\"><pre>false\n",
       "</pre></div></td></tr><tr><td>IsJBool</td><td><div class=\"dni-plaintext\"><pre>false\n",
       "</pre></div></td></tr><tr><td>IsJNull</td><td><div class=\"dni-plaintext\"><pre>false\n",
       "</pre></div></td></tr><tr><td>IsJObject</td><td><div class=\"dni-plaintext\"><pre>false\n",
       "</pre></div></td></tr><tr><td>IsJArray</td><td><div class=\"dni-plaintext\"><pre>false\n",
       "</pre></div></td></tr></tbody></table></div></details></td></tr><tr><td><div class=\"dni-plaintext\"><pre>&quot;nestedArrays&quot;\n",
       "</pre></div></td><td>FSI_0026+JValue+JArray\n",
       "</td><td><details class=\"dni-treeview\"><summary><span class=\"dni-code-hint\"><code>JArray\\n  [JArray [JNumber 1.0; JNumber 2.0; JNumber 3.0];\\n   JArray [JNumber 4.0; JNumber 5.0; JNumber 6.0]]</code></span></summary><div><table><thead><tr></tr></thead><tbody><tr><td>Item</td><td><table><thead><tr><th><i>index</i></th><th>value</th></tr></thead><tbody><tr><td>0</td><td>JArray [JNumber 1.0; JNumber 2.0; JNumber 3.0]</td></tr><tr><td>1</td><td>JArray [JNumber 4.0; JNumber 5.0; JNumber 6.0]</td></tr></tbody></table></td></tr><tr><td>IsJString</td><td><div class=\"dni-plaintext\"><pre>false\n",
       "</pre></div></td></tr><tr><td>IsJNumber</td><td><div class=\"dni-plaintext\"><pre>false\n",
       "</pre></div></td></tr><tr><td>IsJBool</td><td><div class=\"dni-plaintext\"><pre>false\n",
       "</pre></div></td></tr><tr><td>IsJNull</td><td><div class=\"dni-plaintext\"><pre>false\n",
       "</pre></div></td></tr><tr><td>IsJObject</td><td><div class=\"dni-plaintext\"><pre>false\n",
       "</pre></div></td></tr><tr><td>IsJArray</td><td><div class=\"dni-plaintext\"><pre>true\n",
       "</pre></div></td></tr></tbody></table></div></details></td></tr><tr><td><div class=\"dni-plaintext\"><pre>&quot;nestedObjects&quot;\n",
       "</pre></div></td><td>FSI_0026+JValue+JArray\n",
       "</td><td><details class=\"dni-treeview\"><summary><span class=\"dni-code-hint\"><code>JArray\\n  [JObject (map [(&quot;age&quot;, JNumber 25.0); (&quot;name&quot;, JString &quot;Alice&quot;)]);\\n   JObject (map [(&quot;age&quot;, JNumber 30.0); (&quot;name&quot;, JString &quot;Bob&quot;)])]</code></span></summary><div><table><thead><tr></tr></thead><tbody><tr><td>Item</td><td><table><thead><tr><th><i>index</i></th><th>value</th></tr></thead><tbody><tr><td>0</td><td>JObject (map [(\"age\", JNumber 25.0); (\"name\", JString \"Alice\")])</td></tr><tr><td>1</td><td>JObject (map [(\"age\", JNumber 30.0); (\"name\", JString \"Bob\")])</td></tr></tbody></table></td></tr><tr><td>IsJString</td><td><div class=\"dni-plaintext\"><pre>false\n",
       "</pre></div></td></tr><tr><td>IsJNumber</td><td><div class=\"dni-plaintext\"><pre>false\n",
       "</pre></div></td></tr><tr><td>IsJBool</td><td><div class=\"dni-plaintext\"><pre>false\n",
       "</pre></div></td></tr><tr><td>IsJNull</td><td><div class=\"dni-plaintext\"><pre>false\n",
       "</pre></div></td></tr><tr><td>IsJObject</td><td><div class=\"dni-plaintext\"><pre>false\n",
       "</pre></div></td></tr><tr><td>IsJArray</td><td><div class=\"dni-plaintext\"><pre>true\n",
       "</pre></div></td></tr></tbody></table></div></details></td></tr><tr><td><div class=\"dni-plaintext\"><pre>&quot;nullValue&quot;\n",
       "</pre></div></td><td>FSI_0026+JValue\n",
       "</td><td><details class=\"dni-treeview\"><summary><span class=\"dni-code-hint\"><code>JNull</code></span></summary><div><table><thead><tr></tr></thead><tbody><tr><td>IsJString</td><td><div class=\"dni-plaintext\"><pre>false\n",
       "</pre></div></td></tr><tr><td>IsJNumber</td><td><div class=\"dni-plaintext\"><pre>false\n",
       "</pre></div></td></tr><tr><td>IsJBool</td><td><div class=\"dni-plaintext\"><pre>false\n",
       "</pre></div></td></tr><tr><td>IsJNull</td><td><div class=\"dni-plaintext\"><pre>true\n",
       "</pre></div></td></tr><tr><td>IsJObject</td><td><div class=\"dni-plaintext\"><pre>false\n",
       "</pre></div></td></tr><tr><td>IsJArray</td><td><div class=\"dni-plaintext\"><pre>false\n",
       "</pre></div></td></tr></tbody></table></div></details></td></tr><tr><td><div class=\"dni-plaintext\"><pre>&quot;number&quot;\n",
       "</pre></div></td><td>FSI_0026+JValue+JNumber\n",
       "</td><td><details class=\"dni-treeview\"><summary><span class=\"dni-code-hint\"><code>JNumber 42.0</code></span></summary><div><table><thead><tr></tr></thead><tbody><tr><td>Item</td><td><div class=\"dni-plaintext\"><pre>42.0\n",
       "</pre></div></td></tr><tr><td>IsJString</td><td><div class=\"dni-plaintext\"><pre>false\n",
       "</pre></div></td></tr><tr><td>IsJNumber</td><td><div class=\"dni-plaintext\"><pre>true\n",
       "</pre></div></td></tr><tr><td>IsJBool</td><td><div class=\"dni-plaintext\"><pre>false\n",
       "</pre></div></td></tr><tr><td>IsJNull</td><td><div class=\"dni-plaintext\"><pre>false\n",
       "</pre></div></td></tr><tr><td>IsJObject</td><td><div class=\"dni-plaintext\"><pre>false\n",
       "</pre></div></td></tr><tr><td>IsJArray</td><td><div class=\"dni-plaintext\"><pre>false\n",
       "</pre></div></td></tr></tbody></table></div></details></td></tr><tr><td><div class=\"dni-plaintext\"><pre>&quot;object&quot;\n",
       "</pre></div></td><td>FSI_0026+JValue+JObject\n",
       "</td><td><details class=\"dni-treeview\"><summary><span class=\"dni-code-hint\"><code>JObject\\n  (map\\n     [(&quot;nestedArray&quot;, JArray [JString &quot;a&quot;; JString &quot;b&quot;; JString &quot;c&quot;]);\\n      (&quot;nestedBoolean&quot;, JBool false); (&quot;nestedNull&quot;, JNull);\\n      (&quot;nestedNumber&quot;, JNumber 3.14);\\n      (&quot;nestedObject&quot;,\\n       JObject (map [(&quot;nestedProperty&quot;, JString &quot;Nested Object Value&quot;)]));\\n      (&quot;ne...</code></span></summary><div><table><thead><tr></tr></thead><tbody><tr><td>Item</td><td><table><thead><tr><th><i>key</i></th><th><i>type</i></th><th>value</th></tr></thead><tbody><tr><td><div class=\"dni-plaintext\"><pre>&quot;nestedArray&quot;\n",
       "</pre></div></td><td>FSI_0026+JValue+JArray</td><td>JArray [JString \"a\"; JString \"b\"; JString \"c\"]</td></tr><tr><td><div class=\"dni-plaintext\"><pre>&quot;nestedBoolean&quot;\n",
       "</pre></div></td><td>FSI_0026+JValue+JBool</td><td>JBool false</td></tr><tr><td><div class=\"dni-plaintext\"><pre>&quot;nestedNull&quot;\n",
       "</pre></div></td><td>FSI_0026+JValue</td><td>JNull</td></tr><tr><td><div class=\"dni-plaintext\"><pre>&quot;nestedNumber&quot;\n",
       "</pre></div></td><td>FSI_0026+JValue+JNumber</td><td>JNumber 3.14</td></tr><tr><td><div class=\"dni-plaintext\"><pre>&quot;nestedObject&quot;\n",
       "</pre></div></td><td>FSI_0026+JValue+JObject</td><td>JObject (map [(\"nestedProperty\", JString \"Nested Object Value\")])</td></tr><tr><td><div class=\"dni-plaintext\"><pre>&quot;nestedString&quot;\n",
       "</pre></div></td><td>FSI_0026+JValue+JString</td><td>JString \"Nested Value\"</td></tr></tbody></table></td></tr><tr><td>IsJString</td><td><div class=\"dni-plaintext\"><pre>false\n",
       "</pre></div></td></tr><tr><td>IsJNumber</td><td><div class=\"dni-plaintext\"><pre>false\n",
       "</pre></div></td></tr><tr><td>IsJBool</td><td><div class=\"dni-plaintext\"><pre>false\n",
       "</pre></div></td></tr><tr><td>IsJNull</td><td><div class=\"dni-plaintext\"><pre>false\n",
       "</pre></div></td></tr><tr><td>IsJObject</td><td><div class=\"dni-plaintext\"><pre>true\n",
       "</pre></div></td></tr><tr><td>IsJArray</td><td><div class=\"dni-plaintext\"><pre>false\n",
       "</pre></div></td></tr></tbody></table></div></details></td></tr><tr><td><div class=\"dni-plaintext\"><pre>&quot;scientificNumber&quot;\n",
       "</pre></div></td><td>FSI_0026+JValue+JNumber\n",
       "</td><td><details class=\"dni-treeview\"><summary><span class=\"dni-code-hint\"><code>JNumber 3.14e-10</code></span></summary><div><table><thead><tr></tr></thead><tbody><tr><td>Item</td><td><div class=\"dni-plaintext\"><pre>3.14e-10\n",
       "</pre></div></td></tr><tr><td>IsJString</td><td><div class=\"dni-plaintext\"><pre>false\n",
       "</pre></div></td></tr><tr><td>IsJNumber</td><td><div class=\"dni-plaintext\"><pre>true\n",
       "</pre></div></td></tr><tr><td>IsJBool</td><td><div class=\"dni-plaintext\"><pre>false\n",
       "</pre></div></td></tr><tr><td>IsJNull</td><td><div class=\"dni-plaintext\"><pre>false\n",
       "</pre></div></td></tr><tr><td>IsJObject</td><td><div class=\"dni-plaintext\"><pre>false\n",
       "</pre></div></td></tr><tr><td>IsJArray</td><td><div class=\"dni-plaintext\"><pre>false\n",
       "</pre></div></td></tr></tbody></table></div></details></td></tr><tr><td><div class=\"dni-plaintext\"><pre>&quot;specialCharacters&quot;\n",
       "</pre></div></td><td>FSI_0026+JValue+JString\n",
       "</td><td><details class=\"dni-treeview\"><summary><span class=\"dni-code-hint\"><code>JString &quot;!@#$%^&amp;*()&quot;</code></span></summary><div><table><thead><tr></tr></thead><tbody><tr><td>Item</td><td><div class=\"dni-plaintext\"><pre>&quot;!@#$%^&amp;*()&quot;\n",
       "</pre></div></td></tr><tr><td>IsJString</td><td><div class=\"dni-plaintext\"><pre>true\n",
       "</pre></div></td></tr><tr><td>IsJNumber</td><td><div class=\"dni-plaintext\"><pre>false\n",
       "</pre></div></td></tr><tr><td>IsJBool</td><td><div class=\"dni-plaintext\"><pre>false\n",
       "</pre></div></td></tr><tr><td>IsJNull</td><td><div class=\"dni-plaintext\"><pre>false\n",
       "</pre></div></td></tr><tr><td>IsJObject</td><td><div class=\"dni-plaintext\"><pre>false\n",
       "</pre></div></td></tr><tr><td>IsJArray</td><td><div class=\"dni-plaintext\"><pre>false\n",
       "</pre></div></td></tr></tbody></table></div></details></td></tr><tr><td><div class=\"dni-plaintext\"><pre>&quot;string&quot;\n",
       "</pre></div></td><td>FSI_0026+JValue+JString\n",
       "</td><td><details class=\"dni-treeview\"><summary><span class=\"dni-code-hint\"><code>JString &quot;Hello, &quot;World&quot;!&quot;</code></span></summary><div><table><thead><tr></tr></thead><tbody><tr><td>Item</td><td><div class=\"dni-plaintext\"><pre>&quot;Hello, &quot;World&quot;!&quot;\n",
       "</pre></div></td></tr><tr><td>IsJString</td><td><div class=\"dni-plaintext\"><pre>true\n",
       "</pre></div></td></tr><tr><td>IsJNumber</td><td><div class=\"dni-plaintext\"><pre>false\n",
       "</pre></div></td></tr><tr><td>IsJBool</td><td><div class=\"dni-plaintext\"><pre>false\n",
       "</pre></div></td></tr><tr><td>IsJNull</td><td><div class=\"dni-plaintext\"><pre>false\n",
       "</pre></div></td></tr><tr><td>IsJObject</td><td><div class=\"dni-plaintext\"><pre>false\n",
       "</pre></div></td></tr><tr><td>IsJArray</td><td><div class=\"dni-plaintext\"><pre>false\n",
       "</pre></div></td></tr></tbody></table></div></details></td></tr><tr><td><div class=\"dni-plaintext\"><pre>&quot;unicodeString1&quot;\n",
       "</pre></div></td><td>FSI_0026+JValue+JString\n",
       "</td><td><details class=\"dni-treeview\"><summary><span class=\"dni-code-hint\"><code>JString &quot;프리마&quot;</code></span></summary><div><table><thead><tr></tr></thead><tbody><tr><td>Item</td><td><div class=\"dni-plaintext\"><pre>&quot;프리마&quot;\n",
       "</pre></div></td></tr><tr><td>IsJString</td><td><div class=\"dni-plaintext\"><pre>true\n",
       "</pre></div></td></tr><tr><td>IsJNumber</td><td><div class=\"dni-plaintext\"><pre>false\n",
       "</pre></div></td></tr><tr><td>IsJBool</td><td><div class=\"dni-plaintext\"><pre>false\n",
       "</pre></div></td></tr><tr><td>IsJNull</td><td><div class=\"dni-plaintext\"><pre>false\n",
       "</pre></div></td></tr><tr><td>IsJObject</td><td><div class=\"dni-plaintext\"><pre>false\n",
       "</pre></div></td></tr><tr><td>IsJArray</td><td><div class=\"dni-plaintext\"><pre>false\n",
       "</pre></div></td></tr></tbody></table></div></details></td></tr><tr><td><div class=\"dni-plaintext\"><pre>&quot;unicodeString2&quot;\n",
       "</pre></div></td><td>FSI_0026+JValue+JString\n",
       "</td><td><details class=\"dni-treeview\"><summary><span class=\"dni-code-hint\"><code>JString &quot;Hello, &quot;World&quot;!&quot;</code></span></summary><div><table><thead><tr></tr></thead><tbody><tr><td>Item</td><td><div class=\"dni-plaintext\"><pre>&quot;Hello, &quot;World&quot;!&quot;\n",
       "</pre></div></td></tr><tr><td>IsJString</td><td><div class=\"dni-plaintext\"><pre>true\n",
       "</pre></div></td></tr><tr><td>IsJNumber</td><td><div class=\"dni-plaintext\"><pre>false\n",
       "</pre></div></td></tr><tr><td>IsJBool</td><td><div class=\"dni-plaintext\"><pre>false\n",
       "</pre></div></td></tr><tr><td>IsJNull</td><td><div class=\"dni-plaintext\"><pre>false\n",
       "</pre></div></td></tr><tr><td>IsJObject</td><td><div class=\"dni-plaintext\"><pre>false\n",
       "</pre></div></td></tr><tr><td>IsJArray</td><td><div class=\"dni-plaintext\"><pre>false\n",
       "</pre></div></td></tr></tbody></table></div></details></td></tr></tbody></table></td></tr><tr><td>IsJString</td><td><div class=\"dni-plaintext\"><pre>false\n",
       "</pre></div></td></tr><tr><td>IsJNumber</td><td><div class=\"dni-plaintext\"><pre>false\n",
       "</pre></div></td></tr><tr><td>IsJBool</td><td><div class=\"dni-plaintext\"><pre>false\n",
       "</pre></div></td></tr><tr><td>IsJNull</td><td><div class=\"dni-plaintext\"><pre>false\n",
       "</pre></div></td></tr><tr><td>IsJObject</td><td><div class=\"dni-plaintext\"><pre>true\n",
       "</pre></div></td></tr><tr><td>IsJArray</td><td><div class=\"dni-plaintext\"><pre>false\n",
       "</pre></div></td></tr></tbody></table></div></details></td></tr><tr><td>Item2</td><td><details class=\"dni-treeview\"><summary><span class=\"dni-code-hint\"><code>{ lines =\\n   [|&quot;{&quot;; &quot;  &quot;string&quot;: &quot;Hello, \\&quot;World\\&quot;!&quot;,&quot;;\\n     &quot;  &quot;escapedString&quot;: &quot;This string contains \\\\/\\\\\\\\\\\\b\\\\f\\\\n\\\\r\\\\t\\\\\\&quot;\\\\&#39;&quot;,&quot;;\\n     &quot;  &quot;number&quot;: 42,&quot;; &quot;  &quot;scientificNumber&quot;: 3.14e-10,&quot;; &quot;  &quot;boolean&quot;: true,&quot;;\\n     &quot;  &quot;nullValue&quot;: null,&quot;; &quot;  &quot;array&quot;: [1, 2, 3, 4, 5],&quot;;\\n     &quot;  &quot;unicodeS...</code></span></summary><div><table><thead><tr></tr></thead><tbody><tr><td>lines</td><td><div class=\"dni-plaintext\"><pre>[ {,   &quot;string&quot;: &quot;Hello, \\&quot;World\\&quot;!&quot;,,   &quot;escapedString&quot;: &quot;This string contains \\\\/\\\\\\\\\\\\b\\\\f\\\\n\\\\r\\\\t\\\\\\&quot;\\\\&#39;&quot;,,   &quot;number&quot;: 42,,   &quot;scientificNumber&quot;: 3.14e-10,,   &quot;boolean&quot;: true,,   &quot;nullValue&quot;: null,,   &quot;array&quot;: [1, 2, 3, 4, 5],,   &quot;unicodeString1&quot;: &quot;프리마&quot;,,   &quot;unicodeString2&quot;: &quot;\\u0048\\u0065\\u006C\\u006C\\u006F, \\u0022\\u0057\\u006F\\u0072\\u006C\\u0064\\u0022!&quot;,,   &quot;specialCharacters&quot;: &quot;!@#$%^&amp;*()&quot;,,   &quot;emptyArray&quot;: [],,   &quot;emptyObject&quot;: {},,   &quot;nestedArrays&quot;: [[1, 2, 3], [4, 5, 6]],,   &quot;object&quot;: {,     &quot;nestedString&quot;: &quot;Nested Value&quot;,,     &quot;nestedNumber&quot;: 3.14,,     &quot;nestedBoolean&quot;: false,,     &quot;nestedNull&quot;: null,,     &quot;nestedArray&quot;: [&quot;a&quot;, &quot;b&quot;, &quot;c&quot;],,     &quot;nestedObject&quot;: {,       &quot;nestedProperty&quot;: &quot;Nested Object Value&quot;,     },   },,   &quot;nestedObjects&quot;: [,     {&quot;name&quot;: &quot;Alice&quot;, &quot;age&quot;: 25},,     {&quot;name&quot;: &quot;Bob&quot;, &quot;age&quot;: 30},   ], } ]</pre></div></td></tr><tr><td>position</td><td><details class=\"dni-treeview\"><summary><span class=\"dni-code-hint\"><code>{ line = 29\\n  column = 0 }</code></span></summary><div><table><thead><tr></tr></thead><tbody><tr><td>line</td><td><div class=\"dni-plaintext\"><pre>29\n",
       "</pre></div></td></tr><tr><td>column</td><td><div class=\"dni-plaintext\"><pre>0\n",
       "</pre></div></td></tr></tbody></table></div></details></td></tr></tbody></table></div></details></td></tr></tbody></table></div></details></td></tr><tr><td>IsSuccess</td><td><div class=\"dni-plaintext\"><pre>true\n",
       "</pre></div></td></tr><tr><td>IsFailure</td><td><div class=\"dni-plaintext\"><pre>false\n",
       "</pre></div></td></tr></tbody></table></div></details><style>\n",
       ".dni-code-hint {\n",
       "    font-style: italic;\n",
       "    overflow: hidden;\n",
       "    white-space: nowrap;\n",
       "}\n",
       ".dni-treeview {\n",
       "    white-space: nowrap;\n",
       "}\n",
       ".dni-treeview td {\n",
       "    vertical-align: top;\n",
       "    text-align: start;\n",
       "}\n",
       "details.dni-treeview {\n",
       "    padding-left: 1em;\n",
       "}\n",
       "table td {\n",
       "    text-align: start;\n",
       "}\n",
       "table tr { \n",
       "    vertical-align: top; \n",
       "    margin: 0em 0px;\n",
       "}\n",
       "table tr td pre \n",
       "{ \n",
       "    vertical-align: top !important; \n",
       "    margin: 0em 0px !important;\n",
       "} \n",
       "table th {\n",
       "    text-align: start;\n",
       "}\n",
       "</style>"
      ]
     },
     "metadata": {},
     "output_type": "display_data"
    },
    {
     "name": "stdout",
     "output_type": "stream",
     "text": [
      "JObject\n",
      "  (map\n",
      "     [(\"array\",\n",
      "       JArray [JNumber 1.0; JNumber 2.0; JNumber 3.0; JNumber 4.0; JNumber 5.0]);\n",
      "      (\"boolean\", JBool true); (\"emptyArray\", JArray []);\n",
      "      (\"emptyObject\", JObject (map []));\n",
      "      (\"escapedString\", JString \"This string contains \\/\\\\\\b\\f\\n\\r\\t\\\"\\'\");\n",
      "      (\"nestedArrays\",\n",
      "       JArray\n",
      "         [JArray [JNumber 1.0; JNumber 2.0; JNumber 3.0];\n",
      "          JArray [JNumber 4.0; JNumber 5.0; JNumber 6.0]]);\n",
      "      (\"nestedObjects\",\n",
      "       JArray\n",
      "         [JObject (map [(\"age\", JNumber 25.0); (\"name\", JString \"Alice\")]);\n",
      "          JObject (map [(\"age\", JNumber 30.0); (\"name\", JString \"Bob\")])]);\n",
      "      (\"nullValue\", JNull); (\"number\", JNumber 42.0); ...])\n",
      "JObject\n",
      "  (map\n",
      "     [(\"array\", JArray [JNumber 1.0; JNumber 2.0; JNumber 3.0; JNumber 4.0; JNumber 5.0]); (\"boolean\", JBool true);\n",
      "      (\"emptyArray\", JArray []); (\"emptyObject\", JObject (map []));\n",
      "      (\"escapedString\", JString \"This string contains \\/\\\\\\b\\f\\n\\r\\t\\\"\\'\");\n",
      "      (\"nestedArrays\",\n",
      "       JArray [JArray [JNumber 1.0; JNumber 2.0; JNumber 3.0]; JArray [JNumber 4.0; JNumber 5.0; JNumber 6.0]]);\n",
      "      (\"nestedObjects\",\n",
      "       JArray\n",
      "         [JObject (map [(\"age\", JNumber 25.0); (\"name\", JString \"Alice\")]);\n",
      "          JObject (map [(\"age\", JNumber 30.0); (\"name\", JString \"Bob\")])]); (\"nullValue\", JNull);\n",
      "      (\"number\", JNumber 42.0); ...])\n",
      "\n"
     ]
    }
   ],
   "source": [
    "//// test\n",
    "\n",
    "let example3 = \"\"\"{\n",
    "  \"string\": \"Hello, \\\"World\\\"!\",\n",
    "  \"escapedString\": \"This string contains \\\\/\\\\\\\\\\\\b\\\\f\\\\n\\\\r\\\\t\\\\\\\"\\\\'\",\n",
    "  \"number\": 42,\n",
    "  \"scientificNumber\": 3.14e-10,\n",
    "  \"boolean\": true,\n",
    "  \"nullValue\": null,\n",
    "  \"array\": [1, 2, 3, 4, 5],\n",
    "  \"unicodeString1\": \"프리마\",\n",
    "  \"unicodeString2\": \"\\u0048\\u0065\\u006C\\u006C\\u006F, \\u0022\\u0057\\u006F\\u0072\\u006C\\u0064\\u0022!\",\n",
    "  \"specialCharacters\": \"!@#$%^&*()\",\n",
    "  \"emptyArray\": [],\n",
    "  \"emptyObject\": {},\n",
    "  \"nestedArrays\": [[1, 2, 3], [4, 5, 6]],\n",
    "  \"object\": {\n",
    "    \"nestedString\": \"Nested Value\",\n",
    "    \"nestedNumber\": 3.14,\n",
    "    \"nestedBoolean\": false,\n",
    "    \"nestedNull\": null,\n",
    "    \"nestedArray\": [\"a\", \"b\", \"c\"],\n",
    "    \"nestedObject\": {\n",
    "      \"nestedProperty\": \"Nested Object Value\"\n",
    "    }\n",
    "  },\n",
    "  \"nestedObjects\": [\n",
    "    {\"name\": \"Alice\", \"age\": 25},\n",
    "    {\"name\": \"Bob\", \"age\": 30}\n",
    "  ]\n",
    "}\"\"\"\n",
    "run jValue example3\n",
    "|> parserEqual (\n",
    "    Success (\n",
    "        JObject (\n",
    "            Map.ofList [\n",
    "                \"string\", JString @\"Hello, \"\"World\"\"!\"\n",
    "                \"escapedString\", JString @\"This string contains \\/\\\\\\b\\f\\n\\r\\t\\\"\"\\'\"\n",
    "                \"number\", JNumber 42.0\n",
    "                \"scientificNumber\", JNumber 3.14e-10\n",
    "                \"boolean\", JBool true\n",
    "                \"nullValue\", JNull\n",
    "                \"array\", JArray [\n",
    "                    JNumber 1.0; JNumber 2.0; JNumber 3.0; JNumber 4.0; JNumber 5.0\n",
    "                ]\n",
    "                \"unicodeString1\", JString \"프리마\"\n",
    "                \"unicodeString2\", JString @\"Hello, \"\"World\"\"!\"\n",
    "                \"specialCharacters\", JString \"!@#$%^&*()\"\n",
    "                \"emptyArray\", JArray []\n",
    "                \"emptyObject\", JObject Map.empty\n",
    "                \"nestedArrays\", JArray [\n",
    "                    JArray [ JNumber 1.0; JNumber 2.0; JNumber 3.0 ]\n",
    "                    JArray [ JNumber 4.0; JNumber 5.0; JNumber 6.0 ]\n",
    "                ]\n",
    "                \"object\", JObject (\n",
    "                    Map.ofList [\n",
    "                        \"nestedString\", JString \"Nested Value\"\n",
    "                        \"nestedNumber\", JNumber 3.14\n",
    "                        \"nestedBoolean\", JBool false\n",
    "                        \"nestedNull\", JNull\n",
    "                        \"nestedArray\", JArray [JString \"a\"; JString \"b\"; JString \"c\"]\n",
    "                        \"nestedObject\", JObject (\n",
    "                            Map.ofList [\n",
    "                                \"nestedProperty\", JString \"Nested Object Value\"\n",
    "                            ]\n",
    "                        )\n",
    "                    ]\n",
    "                )\n",
    "                \"nestedObjects\", JArray [\n",
    "                  JObject (Map.ofList [ \"name\", JString \"Alice\"; \"age\", JNumber 25.0 ])\n",
    "                  JObject (Map.ofList [ \"name\", JString \"Bob\"; \"age\", JNumber 30.0 ])\n",
    "                ]\n",
    "            ]\n",
    "        )\n",
    "    )\n",
    ")"
   ]
  }
 ],
 "metadata": {},
 "nbformat": 4,
 "nbformat_minor": 5
}