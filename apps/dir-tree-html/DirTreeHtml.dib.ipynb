{
 "cells": [
  {
   "cell_type": "markdown",
   "metadata": {},
   "source": [
    "# DirTreeHtml (Polyglot)"
   ]
  },
  {
   "cell_type": "code",
   "execution_count": null,
   "metadata": {
    "dotnet_interactive": {
     "language": "fsharp"
    },
    "polyglot_notebook": {
     "kernelName": "fsharp"
    }
   },
   "outputs": [],
   "source": [
    "#r @\"../../../../../../../.nuget/packages/fsharp.control.asyncseq/3.2.1/lib/netstandard2.1/FSharp.Control.AsyncSeq.dll\"\n",
    "#r @\"../../../../../../../.nuget/packages/system.reactive/6.0.1-preview.1/lib/net6.0/System.Reactive.dll\"\n",
    "#r @\"../../../../../../../.nuget/packages/system.reactive.linq/6.0.1-preview.1/lib/netstandard2.0/System.Reactive.Linq.dll\"\n",
    "#r @\"../../../../../../../.nuget/packages/argu/6.2.2/lib/netstandard2.0/Argu.dll\"\n",
    "#r @\"../../../../../../../.nuget/packages/falco.markup/1.1.1/lib/netstandard2.0/Falco.Markup.dll\""
   ]
  },
  {
   "cell_type": "code",
   "execution_count": null,
   "metadata": {
    "dotnet_interactive": {
     "language": "fsharp"
    },
    "polyglot_notebook": {
     "kernelName": "fsharp"
    }
   },
   "outputs": [],
   "source": [
    "#!import ../../lib/fsharp/Notebooks.dib\n",
    "#!import ../../lib/fsharp/Testing.dib"
   ]
  },
  {
   "cell_type": "code",
   "execution_count": null,
   "metadata": {
    "dotnet_interactive": {
     "language": "fsharp"
    },
    "polyglot_notebook": {
     "kernelName": "fsharp"
    }
   },
   "outputs": [],
   "source": [
    "#!import ../../lib/fsharp/Common.fs\n",
    "#!import ../../lib/fsharp/CommonFSharp.fs\n",
    "#!import ../../lib/fsharp/Async.fs\n",
    "#!import ../../lib/fsharp/AsyncSeq.fs\n",
    "#!import ../../lib/fsharp/Runtime.fs\n",
    "#!import ../../lib/fsharp/FileSystem.fs"
   ]
  },
  {
   "cell_type": "code",
   "execution_count": null,
   "metadata": {
    "dotnet_interactive": {
     "language": "fsharp"
    },
    "polyglot_notebook": {
     "kernelName": "fsharp"
    }
   },
   "outputs": [],
   "source": [
    "#if !INTERACTIVE\n",
    "open Lib\n",
    "#endif"
   ]
  },
  {
   "cell_type": "code",
   "execution_count": null,
   "metadata": {
    "dotnet_interactive": {
     "language": "fsharp"
    },
    "polyglot_notebook": {
     "kernelName": "fsharp"
    }
   },
   "outputs": [],
   "source": [
    "open SpiralFileSystem.Operators\n",
    "open Falco.Markup"
   ]
  },
  {
   "cell_type": "code",
   "execution_count": null,
   "metadata": {
    "dotnet_interactive": {
     "language": "fsharp"
    },
    "polyglot_notebook": {
     "kernelName": "fsharp"
    }
   },
   "outputs": [],
   "source": [
    "type FileSystemNode =\n",
    "    | File of string * string * int64\n",
    "    | Folder of string * string * FileSystemNode list\n",
    "    | Root of FileSystemNode list\n",
    "\n",
    "let rec scanDirectory isRoot (basePath : string) (path : string) =\n",
    "    let relativePath =\n",
    "        path\n",
    "        |> SpiralSm.replace basePath \"\"\n",
    "        |> SpiralSm.replace \"\\\\\" \"/\"\n",
    "        |> SpiralSm.replace \"//\" \"/\"\n",
    "        |> SpiralSm.trim_start [| '/' |]\n",
    "\n",
    "    let directories =\n",
    "        path\n",
    "        |> System.IO.Directory.GetDirectories\n",
    "        |> Array.toList\n",
    "        |> List.sort\n",
    "        |> List.map (scanDirectory false basePath)\n",
    "    let files =\n",
    "        path\n",
    "        |> System.IO.Directory.GetFiles\n",
    "        |> Array.toList\n",
    "        |> List.sort\n",
    "        |> List.map (fun f -> File (System.IO.Path.GetFileName f, relativePath, System.IO.FileInfo(f).Length))\n",
    "\n",
    "    let children = directories @ files\n",
    "    if isRoot\n",
    "    then Root children\n",
    "    else Folder (path |> System.IO.Path.GetFileName, relativePath, children)\n",
    "\n",
    "let rec generateHtml fsNode =\n",
    "    let sizeLabel size =\n",
    "        match float size with\n",
    "        | size when size > 1024.0 * 1024.0 -> $\"%.2f{size / 1024.0 / 1024.0} MB\"\n",
    "        | size when size > 1024.0 -> $\"%.2f{size / 1024.0} KB\"\n",
    "        | size -> $\"%.2f{size} B\"\n",
    "    match fsNode with\n",
    "    | File (fileName, relativePath, size) ->\n",
    "        Elem.div [] [\n",
    "            Text.raw \"&#128196; \"\n",
    "            Elem.a [\n",
    "                Attr.href $\"\"\"{relativePath}{if relativePath = \"\" then \"\" else \"/\"}{fileName}\"\"\"\n",
    "            ] [\n",
    "                Text.raw fileName\n",
    "            ]\n",
    "            Elem.span [] [\n",
    "                Text.raw $\" ({size |> sizeLabel})\"\n",
    "            ]\n",
    "        ]\n",
    "    | Folder (folderName, relativePath, children) ->\n",
    "        let size =\n",
    "            let rec loop children =\n",
    "                children\n",
    "                |> List.sumBy (function\n",
    "                    | File (_, _, size) -> size\n",
    "                    | Folder (_, _, children)\n",
    "                    | Root children -> loop children\n",
    "                )\n",
    "            loop children\n",
    "        Elem.details [\n",
    "            Attr.open' \"true\"\n",
    "        ] [\n",
    "            Elem.summary [] [\n",
    "                Text.raw \"&#128194; \"\n",
    "                Elem.a [\n",
    "                    Attr.href relativePath\n",
    "                ] [\n",
    "                    Text.raw folderName\n",
    "                ]\n",
    "                Elem.span [] [\n",
    "                    Text.raw $\" ({size |> sizeLabel})\"\n",
    "                ]\n",
    "            ]\n",
    "            Elem.div [] [\n",
    "                yield! children |> List.map generateHtml\n",
    "            ]\n",
    "        ]\n",
    "    | Root children ->\n",
    "        Elem.div [] [\n",
    "            yield! children |> List.map generateHtml\n",
    "        ]\n",
    "\n",
    "let generateHtmlForFileSystem root =\n",
    "    $\"\"\"<!DOCTYPE html>\n",
    "<html lang=\"en\">\n",
    "<head>\n",
    "  <meta charset=\"UTF-8\">\n",
    "  <style>\n",
    "body {{\n",
    "    background-color: #222;\n",
    "    color: #ccc;\n",
    "}}\n",
    "a {{\n",
    "  color: #777;\n",
    "  font-size: 15px;\n",
    "}}\n",
    "span {{\n",
    "  font-size: 11px;\n",
    "}}\n",
    "div > div {{\n",
    "  padding-left: 10px;\n",
    "}}\n",
    "details > div {{\n",
    "  padding-left: 19px;\n",
    "}}\n",
    "  </style>\n",
    "</head>\n",
    "<body>\n",
    "  {root |> generateHtml |> renderNode}\n",
    "</body>\n",
    "</html>\n",
    "\"\"\""
   ]
  },
  {
   "cell_type": "code",
   "execution_count": null,
   "metadata": {
    "dotnet_interactive": {
     "language": "fsharp"
    },
    "polyglot_notebook": {
     "kernelName": "fsharp"
    }
   },
   "outputs": [
    {
     "data": {
      "text/html": [
       "<!DOCTYPE html>\n",
       "<html lang=\"en\">\n",
       "<head>\n",
       "  <meta charset=\"UTF-8\">\n",
       "  <style>\n",
       "body {\n",
       "    background-color: #222;\n",
       "    color: #ccc;\n",
       "}\n",
       "a {\n",
       "  color: #777;\n",
       "  font-size: 15px;\n",
       "}\n",
       "span {\n",
       "  font-size: 11px;\n",
       "}\n",
       "div > div {\n",
       "  padding-left: 10px;\n",
       "}\n",
       "details > div {\n",
       "  padding-left: 19px;\n",
       "}\n",
       "  </style>\n",
       "</head>\n",
       "<body>\n",
       "  <div><details open=\"true\"><summary>&#128194; <a href=\"_.root\">_.root</a><span> (10.00 B)</span></summary><div><details open=\"true\"><summary>&#128194; <a href=\"_.root/3\">3</a><span> (6.00 B)</span></summary><div><details open=\"true\"><summary>&#128194; <a href=\"_.root/3/2\">2</a><span> (3.00 B)</span></summary><div><details open=\"true\"><summary>&#128194; <a href=\"_.root/3/2/1\">1</a><span> (1.00 B)</span></summary><div><div>&#128196; <a href=\"_.root/3/2/1/file.txt\">file.txt</a><span> (1.00 B)</span></div></div></details><div>&#128196; <a href=\"_.root/3/2/file.txt\">file.txt</a><span> (2.00 B)</span></div></div></details><div>&#128196; <a href=\"_.root/3/file.txt\">file.txt</a><span> (3.00 B)</span></div></div></details><div>&#128196; <a href=\"_.root/file.txt\">file.txt</a><span> (4.00 B)</span></div></div></details></div>\n",
       "</body>\n",
       "</html>\n"
      ]
     },
     "metadata": {},
     "output_type": "display_data"
    },
    {
     "name": "stdout",
     "output_type": "stream",
     "text": [
      "\"<!DOCTYPE html>\n",
      "<html lang=\"en\">\n",
      "<head>\n",
      "  <meta charset=\"UTF-8\">\n",
      "  <style>\n",
      "body {\n",
      "    background-color: #222;\n",
      "    color: #ccc;\n",
      "}\n",
      "a {\n",
      "  color: #777;\n",
      "  font-size: 15px;\n",
      "}\n",
      "span {\n",
      "  font-size: 11px;\n",
      "}\n",
      "div > div {\n",
      "  padding-left: 10px;\n",
      "}\n",
      "details > div {\n",
      "  padding-left: 19px;\n",
      "}\n",
      "  </style>\n",
      "</head>\n",
      "<body>\n",
      "  <div><details open=\"true\"><summary>&#128194; <a href=\"_.root\">_.root</a><span> (10.00 B)</span></summary><div><details open=\"true\"><summary>&#128194; <a href=\"_.root/3\">3</a><span> (6.00 B)</span></summary><div><details open=\"true\"><summary>&#128194; <a href=\"_.root/3/2\">2</a><span> (3.00 B)</span></summary><div><details open=\"true\"><summary>&#128194; <a href=\"_.root/3/2/1\">1</a><span> (1.00 B)</span></summary><div><div>&#128196; <a href=\"_.root/3/2/1/file.txt\">file.txt</a><span> (1.00 B)</span></div></div></details><div>&#128196; <a href=\"_.root/3/2/file.txt\">file.txt</a><span> (2.00 B)</span></div></div></details><div>&#128196; <a href=\"_.root/3/file.txt\">file.txt</a><span> (3.00 B)</span></div></div></details><div>&#128196; <a href=\"_.root/file.txt\">file.txt</a><span> (4.00 B)</span></div></div></details></div>\n",
      "</body>\n",
      "</html>\n",
      "\"\n",
      "\n"
     ]
    }
   ],
   "source": [
    "//// test\n",
    "\n",
    "let struct (tempFolder, disposable) = SpiralFileSystem.create_temp_directory ()\n",
    "let rec loop d n = async {\n",
    "    if n >= 0 then\n",
    "        tempFolder </> d |> System.IO.Directory.CreateDirectory |> ignore\n",
    "        do!\n",
    "            n\n",
    "            |> string\n",
    "            |> String.replicate (n + 1)\n",
    "            |> SpiralFileSystem.write_all_text_async (tempFolder </> d </> $\"file.txt\")\n",
    "        do! loop $\"{d}/{n}\" (n - 1)\n",
    "}\n",
    "loop \"_.root\" 3\n",
    "|> Async.RunSynchronously\n",
    "\n",
    "let html =\n",
    "    scanDirectory true tempFolder tempFolder\n",
    "    |> generateHtmlForFileSystem\n",
    "\n",
    "html\n",
    "|> _assertEqual \"\"\"<!DOCTYPE html>\n",
    "<html lang=\"en\">\n",
    "<head>\n",
    "  <meta charset=\"UTF-8\">\n",
    "  <style>\n",
    "body {\n",
    "    background-color: #222;\n",
    "    color: #ccc;\n",
    "}\n",
    "a {\n",
    "  color: #777;\n",
    "  font-size: 15px;\n",
    "}\n",
    "span {\n",
    "  font-size: 11px;\n",
    "}\n",
    "div > div {\n",
    "  padding-left: 10px;\n",
    "}\n",
    "details > div {\n",
    "  padding-left: 19px;\n",
    "}\n",
    "  </style>\n",
    "</head>\n",
    "<body>\n",
    "  <div><details open=\"true\"><summary>&#128194; <a href=\"_.root\">_.root</a><span> (10.00 B)</span></summary><div><details open=\"true\"><summary>&#128194; <a href=\"_.root/3\">3</a><span> (6.00 B)</span></summary><div><details open=\"true\"><summary>&#128194; <a href=\"_.root/3/2\">2</a><span> (3.00 B)</span></summary><div><details open=\"true\"><summary>&#128194; <a href=\"_.root/3/2/1\">1</a><span> (1.00 B)</span></summary><div><div>&#128196; <a href=\"_.root/3/2/1/file.txt\">file.txt</a><span> (1.00 B)</span></div></div></details><div>&#128196; <a href=\"_.root/3/2/file.txt\">file.txt</a><span> (2.00 B)</span></div></div></details><div>&#128196; <a href=\"_.root/3/file.txt\">file.txt</a><span> (3.00 B)</span></div></div></details><div>&#128196; <a href=\"_.root/file.txt\">file.txt</a><span> (4.00 B)</span></div></div></details></div>\n",
    "</body>\n",
    "</html>\n",
    "\"\"\"\n",
    "\n",
    "disposable.Dispose ()\n",
    "\n",
    "html |> Microsoft.DotNet.Interactive.Formatting.Html.ToHtmlContent"
   ]
  },
  {
   "cell_type": "markdown",
   "metadata": {},
   "source": [
    "## Arguments"
   ]
  },
  {
   "cell_type": "code",
   "execution_count": null,
   "metadata": {
    "dotnet_interactive": {
     "language": "fsharp"
    },
    "polyglot_notebook": {
     "kernelName": "fsharp"
    }
   },
   "outputs": [],
   "source": [
    "[<RequireQualifiedAccess>]\n",
    "type Arguments =\n",
    "    | [<Argu.ArguAttributes.ExactlyOnce>] Dir of string\n",
    "    | [<Argu.ArguAttributes.ExactlyOnce>] Html of string\n",
    "\n",
    "    interface Argu.IArgParserTemplate with\n",
    "        member s.Usage =\n",
    "            match s with\n",
    "            | Dir _ -> nameof Dir\n",
    "            | Html _ -> nameof Html"
   ]
  },
  {
   "cell_type": "code",
   "execution_count": null,
   "metadata": {
    "dotnet_interactive": {
     "language": "fsharp"
    },
    "polyglot_notebook": {
     "kernelName": "fsharp"
    }
   },
   "outputs": [
    {
     "data": {
      "text/plain": [
       "\"USAGE: dotnet-repl [--help] --dir <string> --html <string>\n",
       "\n",
       "OPTIONS:\n",
       "\n",
       "    --dir <string>        Dir\n",
       "    --html <string>       Html\n",
       "    --help                display this list of options.\n",
       "\"\n"
      ]
     },
     "metadata": {},
     "output_type": "display_data"
    }
   ],
   "source": [
    "//// test\n",
    "\n",
    "Argu.ArgumentParser.Create<Arguments>().PrintUsage ()"
   ]
  },
  {
   "cell_type": "markdown",
   "metadata": {},
   "source": [
    "## main"
   ]
  },
  {
   "cell_type": "code",
   "execution_count": null,
   "metadata": {
    "dotnet_interactive": {
     "language": "fsharp"
    },
    "polyglot_notebook": {
     "kernelName": "fsharp"
    }
   },
   "outputs": [],
   "source": [
    "let main args =\n",
    "    let argsMap = args |> Runtime.parseArgsMap<Arguments>\n",
    "\n",
    "    let dir =\n",
    "        match argsMap.[nameof Arguments.Dir] with\n",
    "        | [ Arguments.Dir dir ] -> Some dir\n",
    "        | _ -> None\n",
    "        |> Option.get\n",
    "\n",
    "    let htmlPath =\n",
    "        match argsMap.[nameof Arguments.Html] with\n",
    "        | [ Arguments.Html html ] -> Some html\n",
    "        | _ -> None\n",
    "        |> Option.get\n",
    "\n",
    "    let fileSystem = scanDirectory true dir dir\n",
    "    let html = generateHtmlForFileSystem fileSystem\n",
    "\n",
    "    html |> SpiralFileSystem.write_all_text_async htmlPath\n",
    "    |> Async.runWithTimeout 30000\n",
    "    |> function\n",
    "        | Some () -> 0\n",
    "        | None -> 1"
   ]
  },
  {
   "cell_type": "code",
   "execution_count": null,
   "metadata": {
    "dotnet_interactive": {
     "language": "fsharp"
    },
    "polyglot_notebook": {
     "kernelName": "fsharp"
    }
   },
   "outputs": [
    {
     "data": {
      "text/html": [
       "<div class=\"dni-plaintext\"><pre>0\n",
       "</pre></div><style>\n",
       ".dni-code-hint {\n",
       "    font-style: italic;\n",
       "    overflow: hidden;\n",
       "    white-space: nowrap;\n",
       "}\n",
       ".dni-treeview {\n",
       "    white-space: nowrap;\n",
       "}\n",
       ".dni-treeview td {\n",
       "    vertical-align: top;\n",
       "    text-align: start;\n",
       "}\n",
       "details.dni-treeview {\n",
       "    padding-left: 1em;\n",
       "}\n",
       "table td {\n",
       "    text-align: start;\n",
       "}\n",
       "table tr { \n",
       "    vertical-align: top; \n",
       "    margin: 0em 0px;\n",
       "}\n",
       "table tr td pre \n",
       "{ \n",
       "    vertical-align: top !important; \n",
       "    margin: 0em 0px !important;\n",
       "} \n",
       "table th {\n",
       "    text-align: start;\n",
       "}\n",
       "</style>"
      ]
     },
     "metadata": {},
     "output_type": "display_data"
    }
   ],
   "source": [
    "//// test\n",
    "\n",
    "let args =\n",
    "    System.Environment.GetEnvironmentVariable \"ARGS\"\n",
    "    |> SpiralRuntime.split_args\n",
    "    |> Seq.toArray\n",
    "\n",
    "match args with\n",
    "| [||] -> 0\n",
    "| args -> if main args = 0 then 0 else failwith \"main failed\""
   ]
  }
 ],
 "metadata": {},
 "nbformat": 4,
 "nbformat_minor": 5
}