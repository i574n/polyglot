{
 "cells": [
  {
   "cell_type": "markdown",
   "metadata": {},
   "source": [
    "# spiral_builder"
   ]
  },
  {
   "cell_type": "code",
   "execution_count": null,
   "metadata": {
    "dotnet_interactive": {
     "language": "spiral"
    },
    "polyglot_notebook": {
     "kernelName": "spiral"
    }
   },
   "outputs": [],
   "source": [
    "open file_system_operators\n",
    "open rust_operators\n",
    "open sm'_operators"
   ]
  },
  {
   "cell_type": "code",
   "execution_count": null,
   "metadata": {
    "dotnet_interactive": {
     "language": "spiral"
    },
    "polyglot_notebook": {
     "kernelName": "spiral"
    }
   },
   "outputs": [],
   "source": [
    "//// test\n",
    "\n",
    "open testing"
   ]
  },
  {
   "cell_type": "markdown",
   "metadata": {},
   "source": [
    "## types"
   ]
  },
  {
   "cell_type": "code",
   "execution_count": null,
   "metadata": {
    "dotnet_interactive": {
     "language": "spiral"
    },
    "polyglot_notebook": {
     "kernelName": "spiral"
    }
   },
   "outputs": [],
   "source": [
    "inl types () =\n",
    "    env.types ()\n",
    "    file_system.types ()\n",
    "    runtime.types ()\n",
    "    rust.types ()\n",
    "    sm'.types ()"
   ]
  },
  {
   "cell_type": "markdown",
   "metadata": {},
   "source": [
    "## get_args"
   ]
  },
  {
   "cell_type": "code",
   "execution_count": null,
   "metadata": {
    "dotnet_interactive": {
     "language": "spiral"
    },
    "polyglot_notebook": {
     "kernelName": "spiral"
    }
   },
   "outputs": [],
   "source": [
    "inl get_args () =\n",
    "    {\n",
    "        fsharp = \"fsharp\", {\n",
    "            path = \"path\", 'p'\n",
    "            package_dir = \"package-dir\", 'd'\n",
    "            args = \"args\", 'a'\n",
    "        }\n",
    "        rust = \"rust\", {\n",
    "            deps = \"deps\", 'd'\n",
    "        }\n",
    "        dib = \"dib\", {\n",
    "            path = \"path\", 'p'\n",
    "            retries = \"retries\", 'r'\n",
    "            working_directory = \"working_directory\", 'w'\n",
    "        }\n",
    "        trace_level = \"trace-level\", 't'\n",
    "    }"
   ]
  },
  {
   "cell_type": "markdown",
   "metadata": {},
   "source": [
    "## get_command"
   ]
  },
  {
   "cell_type": "code",
   "execution_count": null,
   "metadata": {
    "dotnet_interactive": {
     "language": "spiral"
    },
    "polyglot_notebook": {
     "kernelName": "spiral"
    }
   },
   "outputs": [],
   "source": [
    "let get_command () =\n",
    "    ##\"command\"\n",
    "    |> runtime.new_command\n",
    "    |> runtime.command_init_arg (get_args () .trace_level) (\n",
    "        real runtime.arg_union `trace_level ignore\n",
    "    )\n",
    "    |> runtime.command_subcommand_required true\n",
    "    |> runtime.command_subcommand (\n",
    "        ##(get_args () .fsharp |> fst)\n",
    "        |> runtime.new_command\n",
    "        |> runtime.command_init_arg ((get_args () .fsharp |> snd).path) (\n",
    "            runtime.arg_required true\n",
    "        )\n",
    "        |> runtime.command_init_arg ((get_args () .fsharp |> snd).package_dir) (\n",
    "            runtime.arg_required true\n",
    "        )\n",
    "        |> runtime.command_init_arg ((get_args () .fsharp |> snd).args) (\n",
    "            id\n",
    "        )\n",
    "    )\n",
    "    |> runtime.command_subcommand (\n",
    "        ##(get_args () .rust |> fst)\n",
    "        |> runtime.new_command\n",
    "        |> runtime.command_init_arg ((get_args () .rust |> snd).deps) (\n",
    "            runtime.arg_value_names ;[ ##\"NAME\"; ##\"VERSION\" ]\n",
    "            >> runtime.arg_num_args_range (\n",
    "                runtime.new_value_range\n",
    "                    (am'.Start (1i32 |> unativeint))\n",
    "                    (am'.End id)\n",
    "            )\n",
    "            >> runtime.arg_action runtime.Append\n",
    "        )\n",
    "    )\n",
    "    |> runtime.command_subcommand (\n",
    "        ##(get_args () .dib |> fst)\n",
    "        |> runtime.new_command\n",
    "        |> runtime.command_init_arg ((get_args () .dib |> snd).path) (\n",
    "            runtime.arg_required true\n",
    "            // >> runtime.arg_value_parser (runtime.value_parser_path_buf ())\n",
    "        )\n",
    "        |> runtime.command_init_arg ((get_args () .dib |> snd).retries) (\n",
    "            runtime.arg_value_parser (runtime.value_parser_expr \"u8\")\n",
    "        )\n",
    "        |> runtime.command_init_arg ((get_args () .dib |> snd).working_directory) (\n",
    "            id\n",
    "        )\n",
    "    )"
   ]
  },
  {
   "cell_type": "markdown",
   "metadata": {},
   "source": [
    "## get_workspace_cargo_toml_content"
   ]
  },
  {
   "cell_type": "code",
   "execution_count": null,
   "metadata": {
    "dotnet_interactive": {
     "language": "spiral"
    },
    "polyglot_notebook": {
     "kernelName": "spiral"
    }
   },
   "outputs": [],
   "source": [
    "inl get_workspace_cargo_toml_content () : string =\n",
    "    $'$\"\"\"[workspace]\\nresolver = \"2\"\\nmembers = [\"packages/*\"]\\n\\n[workspace.dependencies]\\nfable_library_rust = {{ path = \\\"../../../../../lib/rust/fable/fable_modules/fable-library-rust\\\", default-features = false, features = [\\\"static_do_bindings\\\", \\\"datetime\\\", \\\"guid\\\", \\\"threaded\\\"] }}\\ninline_colorization = \\\"~0.1\\\"\\n\\n\"\"\"'"
   ]
  },
  {
   "cell_type": "markdown",
   "metadata": {},
   "source": [
    "## get_cargo_toml_content"
   ]
  },
  {
   "cell_type": "code",
   "execution_count": null,
   "metadata": {
    "dotnet_interactive": {
     "language": "spiral"
    },
    "polyglot_notebook": {
     "kernelName": "spiral"
    }
   },
   "outputs": [],
   "source": [
    "inl get_cargo_toml_content { hash deps } : string =\n",
    "    $'$\"\"\"[package]\\nname = \\\"spiral_builder_{!hash}\\\"\\nversion = \"0.0.1\"\\nedition = \"2021\"\\n\\n[dependencies]\\nfable_library_rust = {{ workspace = true }}\\ninline_colorization = {{ workspace = true }}\\n{!deps}\\n\\n[[bin]]\\nname = \\\"spiral_builder_{!hash}\\\"\\npath = \\\"spiral_eval.rs\\\" \"\"\"'"
   ]
  },
  {
   "cell_type": "markdown",
   "metadata": {},
   "source": [
    "## process_dib"
   ]
  },
  {
   "cell_type": "code",
   "execution_count": null,
   "metadata": {
    "dotnet_interactive": {
     "language": "spiral"
    },
    "polyglot_notebook": {
     "kernelName": "spiral"
    }
   },
   "outputs": [],
   "source": [
    "inl process_dib { path retries working_directory } =\n",
    "    inl exit_code, repl_result =\n",
    "        let rec loop retry =\n",
    "            inl exit_code, repl_result =\n",
    "                runtime.execution_options fun x => { x with\n",
    "                    command = $'$\"dotnet repl --exit-after-run --run \\\\\\\"{!path}\\\\\\\" --output-path \\\\\\\"{!path}.ipynb\\\\\\\"\"'\n",
    "                    environment_variables = ;[ \"AUTOMATION\", \"True\" ]\n",
    "                    trace = false\n",
    "                    working_directory\n",
    "                }\n",
    "                |> runtime.execute_with_options\n",
    "            \n",
    "            if exit_code = 0 || retry >= retries\n",
    "            then exit_code, repl_result\n",
    "            else\n",
    "                trace Debug\n",
    "                    fun () => $'\"spiral_builder.run / repl error\"'\n",
    "                    fun () => $'$\"exit_code: {!exit_code} / retry: {!retry}/{!retries} / repl_result: {!repl_result} / {!_locals ()}\"'\n",
    "                loop (retry + 1)\n",
    "        loop 1\n",
    "\n",
    "    inl exit_code, result =\n",
    "        if exit_code <>. 0\n",
    "        then exit_code, repl_result\n",
    "        else\n",
    "            inl exit_code, jupyter_result =\n",
    "                runtime.execution_options fun x => { x with\n",
    "                    command = $'$\"jupyter nbconvert \\\\\\\"{!path}.ipynb\\\\\\\" --to html --HTMLExporter.theme=dark\"'\n",
    "                }\n",
    "                |> runtime.execute_with_options\n",
    "\n",
    "            trace Debug\n",
    "                fun () => $'\"spiral_builder.run / dib / jupyter nbconvert\"'\n",
    "                fun () => $'$\"exit_code: {!exit_code} / jupyter_result.Length: {!jupyter_result.Length} / {!_locals ()}\"'\n",
    "\n",
    "            if exit_code <>. 0\n",
    "            then exit_code, $'$\"repl_result: {!repl_result}\\n\\njupyter_result: {!jupyter_result}\"'\n",
    "            else\n",
    "                inl exit_code, pwsh_replace_html_result =\n",
    "                    inl path = path |> sm'.replace \"'\" \"''\"\n",
    "                    runtime.execution_options fun x => { x with\n",
    "                        command = $'$\"pwsh -c \\\\\\\"$counter = 1; $path = \\'{!path}.html\\'; (Get-Content $path -Raw) -replace \\'(id=\\\\\\\\\\\\\"cell-id=)[a-fA-F0-9]{{8}}\\', {{ $_.Groups[1].Value + $counter++ }} | Set-Content $path\\\\\\\"\"'\n",
    "                    }\n",
    "                    |> runtime.execute_with_options\n",
    "\n",
    "                trace Debug\n",
    "                    fun () => $'\"spiral_builder.run / dib / html cell ids\"'\n",
    "                    fun () => $'$\"exit_code: {!exit_code} / pwsh_replace_html_result.Length: {!pwsh_replace_html_result.Length} / {!_locals ()}\"'\n",
    "\n",
    "                $'$\"{!path}.html\"'\n",
    "                |> file_system.read_all_text\n",
    "                |> sm'.replace \"\\r\\n\" \"\\n\"\n",
    "                |> file_system.write_all_text $'$\"{!path}.html\"'\n",
    "\n",
    "                $'$\"{!path}.ipynb\"'\n",
    "                |> file_system.read_all_text\n",
    "                |> sm'.replace \"\\\\r\\\\n\" \"\\\\n\"\n",
    "                |> file_system.write_all_text $'$\"{!path}.ipynb\"'\n",
    "\n",
    "                exit_code, $'$\"repl_result: {!repl_result}\\n\\njupyter_result: {!jupyter_result}\\n\\npwsh_replace_html_result: {!pwsh_replace_html_result}\"'\n",
    "\n",
    "    trace Debug\n",
    "        fun () => $'\"spiral_builder.run / dib\"'\n",
    "        fun () => $'$\"exit_code: {!exit_code} / result.Length: {!result.Length} / {!_locals ()}\"'\n",
    "\n",
    "    if exit_code <>. 0\n",
    "    then failwith $'$\"spiral_builder.run / dib / exit_code: {!exit_code} / result: {!result} / {!_locals ()}\"'\n",
    "    ;[\n",
    "        \"stdio\",\n",
    "        result\n",
    "    ]"
   ]
  },
  {
   "cell_type": "markdown",
   "metadata": {},
   "source": [
    "## process_fsharp"
   ]
  },
  {
   "cell_type": "code",
   "execution_count": null,
   "metadata": {
    "dotnet_interactive": {
     "language": "spiral"
    },
    "polyglot_notebook": {
     "kernelName": "spiral"
    }
   },
   "outputs": [],
   "source": [
    "inl process_fsharp { path package_dir deps } =\n",
    "    inl path = path |> file_system.get_full_path\n",
    "    inl package_dir = package_dir |> file_system.get_full_path\n",
    "    inl hash = package_dir |> file_system.get_file_name\n",
    "\n",
    "    inl deps =\n",
    "        deps\n",
    "        |> am'.vec_map fun dep =>\n",
    "            inl dep = dep |> sm'.from_std_string\n",
    "            if dep |> sm'.contains \"=\"\n",
    "            then dep\n",
    "            else $'$\"{!dep}=\\\\\"*\\\\\"\"'\n",
    "        |> am'.from_vec\n",
    "        |> fun x => x : _ i32 _\n",
    "        |> seq.of_array'\n",
    "        |> sm'.concat \"\\n\"\n",
    "\n",
    "    ;[\n",
    "        \"cargo_toml_content\",\n",
    "        get_cargo_toml_content { hash deps }\n",
    "\n",
    "        \"workspace_cargo_toml_content\",\n",
    "        get_workspace_cargo_toml_content ()\n",
    "    ]"
   ]
  },
  {
   "cell_type": "markdown",
   "metadata": {},
   "source": [
    "## run"
   ]
  },
  {
   "cell_type": "code",
   "execution_count": null,
   "metadata": {
    "dotnet_interactive": {
     "language": "spiral"
    },
    "polyglot_notebook": {
     "kernelName": "spiral"
    }
   },
   "outputs": [],
   "source": [
    "let rec run (matches : runtime.arg_matches) : async.future_pin (resultm.result' string string) =\n",
    "    fun () =>\n",
    "        match matches |> runtime.matches_subcommand |> optionm'.unbox with\n",
    "        | Some (subcommand, arg_matches)\n",
    "                when sm'.from_std_string subcommand = (get_args () .fsharp |> fst) =>\n",
    "            inl path =\n",
    "                arg_matches\n",
    "                |> runtime.matches_get_one ((get_args () .fsharp |> snd).path |> fst)\n",
    "                |> optionm'.unbox\n",
    "                |> optionm.value\n",
    "                |> sm'.from_std_string\n",
    "\n",
    "            inl package_dir =\n",
    "                arg_matches\n",
    "                |> runtime.matches_get_one ((get_args () .fsharp |> snd).package_dir |> fst)\n",
    "                |> optionm'.unbox\n",
    "                |> optionm.value\n",
    "                |> sm'.from_std_string\n",
    "\n",
    "            inl args =\n",
    "                arg_matches\n",
    "                |> runtime.matches_get_one ((get_args () .fsharp |> snd).args |> fst)\n",
    "                |> optionm'.unbox\n",
    "                |> optionm.map sm'.from_std_string\n",
    "            \n",
    "            inl result =\n",
    "                match args with\n",
    "                | Some args =>\n",
    "                    get_command ()\n",
    "                    |> runtime.command_get_matches_from ($'$\"_ {!args}\"' |> runtime.split_args)\n",
    "                    |> run\n",
    "                    |> async.block_on\n",
    "                    |> resultm.unwrap'\n",
    "                | None => \"{}\"\n",
    "                |> sm'.deserialize\n",
    "                |> resultm.unwrap'\n",
    "            \n",
    "            inl deps =\n",
    "                result\n",
    "                |> mapm.get (\"deps\" |> sm'.to_std_string)\n",
    "                |> optionm'.unwrap\n",
    "                |> sm'.from_std_string\n",
    "                |> sm'.deserialize\n",
    "                |> resultm.unwrap'\n",
    "\n",
    "            process_fsharp { path package_dir deps }\n",
    "\n",
    "        | Some (subcommand, arg_matches)\n",
    "                when sm'.from_std_string subcommand = (get_args () .rust |> fst) =>\n",
    "            inl deps : am'.vec sm'.std_string =\n",
    "                arg_matches\n",
    "                |> runtime.matches_get_many ((get_args () .rust |> snd).deps |> fst)\n",
    "                |> optionm'.unbox\n",
    "                |> optionm'.default_value (;[] |> am'.to_vec)\n",
    "\n",
    "            ;[\n",
    "                \"deps\",\n",
    "                deps |> sm'.serialize |> resultm.unwrap' |> sm'.from_std_string\n",
    "            ]\n",
    "\n",
    "        | Some (subcommand, arg_matches)\n",
    "            when sm'.from_std_string subcommand = (get_args () .dib |> fst)\n",
    "            =>\n",
    "            inl path =\n",
    "                arg_matches\n",
    "                |> runtime.matches_get_one ((get_args () .dib |> snd).path |> fst)\n",
    "                |> optionm'.map'' (\n",
    "                    sm'.from_std_string\n",
    "                    >> file_system.absolute_path\n",
    "                )\n",
    "                |> optionm'.unwrap\n",
    "\n",
    "            inl retries =\n",
    "                arg_matches\n",
    "                |> runtime.matches_get_one ((get_args () .dib |> snd).retries |> fst)\n",
    "                |> optionm'.default_value' 1u8\n",
    "\n",
    "            inl working_directory : optionm'.option' string =\n",
    "                arg_matches\n",
    "                |> runtime.matches_get_one ((get_args () .dib |> snd).working_directory |> fst)\n",
    "\n",
    "            process_dib { path retries working_directory }\n",
    "\n",
    "        | Some (subcommand, arg_matches) =>\n",
    "            trace Debug\n",
    "                fun () => $'\"spiral_builder.run\"'\n",
    "                fun () => $'$\"subcommand: {!subcommand} / {!_locals ()}\"'\n",
    "\n",
    "            ;[]\n",
    "        | _ => ;[]\n",
    "        |> am'.to_vec\n",
    "        |> am'.vec_map' fun k, v =>\n",
    "            new_pair (sm'.to_std_string k) (sm'.to_std_string v)\n",
    "        |> mapm.b_tree_map_from_vec_pairs\n",
    "        |> sm'.serialize\n",
    "        |> resultm.map_error' (sm'.format' >> sm'.from_std_string)\n",
    "        |> resultm.map' sm'.from_std_string\n",
    "    |> async.future_init (3, 2) 1"
   ]
  },
  {
   "cell_type": "code",
   "execution_count": null,
   "metadata": {
    "dotnet_interactive": {
     "language": "spiral"
    },
    "polyglot_notebook": {
     "kernelName": "spiral"
    }
   },
   "outputs": [
    {
     "data": {
      "text/plain": [
       "assert_eq / actual: \"{\"cargo_toml_content\":\"[package]\\nname = \\\"spiral_builder_d\\\"\\nversion = \\\"0.0.1\\\"\\nedition = \\\"2021\\\"\\n\\n[dependencies]\\nfable_library_rust = { workspace = true }\\ninline_colorization = { workspace = true }\\n\\n\\n[[bin]]\\nname = \\\"spiral_builder_d\\\"\\npath = \\\"spiral_eval.rs\\\" \",\"workspace_cargo_toml_content\":\"[workspace]\\nresolver = \\\"2\\\"\\nmembers = [\\\"packages/*\\\"]\\n\\n[workspace.dependencies]\\nfable_library_rust = { path = \\\"../../../../../lib/rust/fable/fable_modules/fable-library-rust\\\", default-features = false, features = [\\\"static_do_bindings\\\", \\\"datetime\\\", \\\"guid\\\", \\\"threaded\\\"] }\\ninline_colorization = \\\"~0.1\\\"\\n\\n\"}\" / expected: \"{\"cargo_toml_content\":\"[package]\\nname = \\\"spiral_builder_d\\\"\\nversion = \\\"0.0.1\\\"\\nedition = \\\"2021\\\"\\n\\n[dependencies]\\nfable_library_rust = { workspace = true }\\ninline_colorization = { workspace = true }\\n\\n\\n[[bin]]\\nname = \\\"spiral_builder_d\\\"\\npath = \\\"spiral_eval.rs\\\" \",\"workspace_cargo_toml_content\":\"[workspace]\\nresolver = \\\"2\\\"\\nmembers = [\\\"packages/*\\\"]\\n\\n[workspace.dependencies]\\nfable_library_rust = { path = \\\"../../../../../lib/rust/fable/fable_modules/fable-library-rust\\\", default-features = false, features = [\\\"static_do_bindings\\\", \\\"datetime\\\", \\\"guid\\\", \\\"threaded\\\"] }\\ninline_colorization = \\\"~0.1\\\"\\n\\n\"}\"\n"
      ]
     },
     "metadata": {},
     "output_type": "display_data"
    }
   ],
   "source": [
    "//// test\n",
    "///! rust -d clap encoding encoding_rs encoding_rs_io futures-lite regex serde_json\n",
    "\n",
    "types ()\n",
    "get_command ()\n",
    "|> runtime.command_get_matches_from ($'$\"_ fsharp -p p -d d -a rust\"' |> runtime.split_args)\n",
    "|> run\n",
    "|> async.block_on\n",
    "|> resultm.unwrap'\n",
    "|> _assert_eq (\n",
    "    ;[\n",
    "        \"cargo_toml_content\",\n",
    "        get_cargo_toml_content { hash = \"d\"; deps = \"\" }\n",
    "\n",
    "        \"workspace_cargo_toml_content\",\n",
    "        get_workspace_cargo_toml_content ()\n",
    "    ]\n",
    "    |> am'.to_vec\n",
    "    |> am'.vec_map' fun k, v =>\n",
    "        new_pair (sm'.to_std_string k) (sm'.to_std_string v)\n",
    "    |> mapm.b_tree_map_from_vec_pairs\n",
    "    |> sm'.serialize\n",
    "    |> resultm.unwrap'\n",
    "    |> sm'.from_std_string\n",
    ")"
   ]
  },
  {
   "cell_type": "code",
   "execution_count": null,
   "metadata": {
    "dotnet_interactive": {
     "language": "spiral"
    },
    "polyglot_notebook": {
     "kernelName": "spiral"
    }
   },
   "outputs": [
    {
     "data": {
      "text/plain": [
       "assert_eq / actual: \"{\"cargo_toml_content\":\"[package]\\nname = \\\"spiral_builder_d\\\"\\nversion = \\\"0.0.1\\\"\\nedition = \\\"2021\\\"\\n\\n[dependencies]\\nfable_library_rust = { workspace = true }\\ninline_colorization = { workspace = true }\\na=\\\"*\\\"\\nb='1'\\n\\n[[bin]]\\nname = \\\"spiral_builder_d\\\"\\npath = \\\"spiral_eval.rs\\\" \",\"workspace_cargo_toml_content\":\"[workspace]\\nresolver = \\\"2\\\"\\nmembers = [\\\"packages/*\\\"]\\n\\n[workspace.dependencies]\\nfable_library_rust = { path = \\\"../../../../../lib/rust/fable/fable_modules/fable-library-rust\\\", default-features = false, features = [\\\"static_do_bindings\\\", \\\"datetime\\\", \\\"guid\\\", \\\"threaded\\\"] }\\ninline_colorization = \\\"~0.1\\\"\\n\\n\"}\" / expected: \"{\"cargo_toml_content\":\"[package]\\nname = \\\"spiral_builder_d\\\"\\nversion = \\\"0.0.1\\\"\\nedition = \\\"2021\\\"\\n\\n[dependencies]\\nfable_library_rust = { workspace = true }\\ninline_colorization = { workspace = true }\\na=\\\"*\\\"\\nb='1'\\n\\n[[bin]]\\nname = \\\"spiral_builder_d\\\"\\npath = \\\"spiral_eval.rs\\\" \",\"workspace_cargo_toml_content\":\"[workspace]\\nresolver = \\\"2\\\"\\nmembers = [\\\"packages/*\\\"]\\n\\n[workspace.dependencies]\\nfable_library_rust = { path = \\\"../../../../../lib/rust/fable/fable_modules/fable-library-rust\\\", default-features = false, features = [\\\"static_do_bindings\\\", \\\"datetime\\\", \\\"guid\\\", \\\"threaded\\\"] }\\ninline_colorization = \\\"~0.1\\\"\\n\\n\"}\"\n"
      ]
     },
     "metadata": {},
     "output_type": "display_data"
    }
   ],
   "source": [
    "//// test\n",
    "///! rust -d clap encoding encoding_rs encoding_rs_io futures-lite regex serde_json\n",
    "\n",
    "types ()\n",
    "get_command ()\n",
    "|> runtime.command_get_matches_from ($'$\"_ fsharp -p p -d d -a \\\\\\\"rust --deps a b=\\'1\\'\\\\\\\"\"' |> runtime.split_args)\n",
    "|> run\n",
    "|> async.block_on\n",
    "|> resultm.unwrap'\n",
    "|> _assert_eq (\n",
    "    ;[\n",
    "        \"cargo_toml_content\",\n",
    "        get_cargo_toml_content { hash = \"d\"; deps = \"a=\\\"*\\\"\\nb=\\'1\\'\" }\n",
    "\n",
    "        \"workspace_cargo_toml_content\",\n",
    "        get_workspace_cargo_toml_content ()\n",
    "    ]\n",
    "    |> am'.to_vec\n",
    "    |> am'.vec_map' fun k, v =>\n",
    "        new_pair (sm'.to_std_string k) (sm'.to_std_string v)\n",
    "    |> mapm.b_tree_map_from_vec_pairs\n",
    "    |> sm'.serialize\n",
    "    |> resultm.unwrap'\n",
    "    |> sm'.from_std_string\n",
    ")"
   ]
  },
  {
   "cell_type": "code",
   "execution_count": null,
   "metadata": {
    "dotnet_interactive": {
     "language": "spiral"
    },
    "polyglot_notebook": {
     "kernelName": "spiral"
    }
   },
   "outputs": [
    {
     "data": {
      "text/plain": [
       "00:00:00 \u001B[90mverbose\u001B[39m #1 file_system.create_directory / dir: /tmp/!spiral_builder_4ef00f6acebbad689ea1dac775e1be28b588f2181fe1e3f823786e4fd9798832/20240515-1628-2535-0320-00000003c5f1\n",
       "00:00:00 \u001B[94m  debug\u001B[39m #2 runtime.execute_with_options / file_name: dotnet / arguments: [\"repl\", \"--exit-after-run\", \"--run\", \"/tmp/!spiral_builder_4ef00f6acebbad689ea1dac775e1be28b588f2181fe1e3f823786e4fd9798832/20240515-1628-2535-0320-00000003c5f1/test.dib\", \"--output-path\", \"/tmp/!spiral_builder_4ef00f6acebbad689ea1dac775e1be28b588f2181fe1e3f823786e4fd9798832/20240515-1628-2535-0320-00000003c5f1/test.dib.ipynb\"] / options: (None, \"dotnet repl --exit-after-run --run \"/tmp/!spiral_builder_4ef00f6acebbad689ea1dac775e1be28b588f2181fe1e3f823786e4fd9798832/20240515-1628-2535-0320-00000003c5f1/test.dib\" --output-path \"/tmp/!spiral_builder_4ef00f6acebbad689ea1dac775e1be28b588f2181fe1e3f823786e4fd9798832/20240515-1628-2535-0320-00000003c5f1/test.dib.ipynb\"\", Array(MutCell([(\"AUTOMATION\", \"True\")])), None, None, false, None)\n",
       "\n",
       "\u001B[38;5;103m── fsharp ──────────────────────────────────────────────────────────────────────\u001B[0m\n",
       "3 - 6\n",
       "\n",
       "\u001B[38;5;103m── fsharp - import ─────────────────────────────────────────────────────────────\u001B[0m\n",
       "#r \n",
       "\"/home/runner/.nuget/packages/dotnet-repl/0.1.204/tools/net7.0/any/Microsoft.Asp\n",
       "NetCore.Html.Abstractions.dll\"\n",
       "#r \n",
       "\"/home/runner/.nuget/packages/dotnet-repl/0.1.204/tools/net7.0/any/Microsoft.Dot\n",
       "Net.Interactive.dll\"\n",
       "#r \n",
       "\"/home/runner/.nuget/packages/dotnet-repl/0.1.204/tools/net7.0/any/Microsoft.Dot\n",
       "Net.Interactive.FSharp.dll\"\n",
       "#r \n",
       "\"/home/runner/.nuget/packages/dotnet-repl/0.1.204/tools/net7.0/any/Microsoft.Dot\n",
       "Net.Interactive.Formatting.dll\"\n",
       "open System\n",
       "open System.IO\n",
       "open System.Text\n",
       "open Microsoft.DotNet.Interactive.Formatting\n",
       "\n",
       "\u001B[38;5;103m── fsharp - import ─────────────────────────────────────────────────────────────\u001B[0m\n",
       "#r \n",
       "\"/home/runner/.nuget/packages/dotnet-repl/0.1.204/tools/net7.0/any/Microsoft.Dot\n",
       "Net.Interactive.FSharp.dll\"\n",
       "open Microsoft.DotNet.Interactive.FSharp.FSharpKernelHelpers\n",
       "#r \n",
       "\"/home/runner/.nuget/packages/dotnet-repl/0.1.204/tools/net7.0/any/Microsoft.Dot\n",
       "Net.Interactive.dll\"\n",
       "open type Microsoft.DotNet.Interactive.Kernel\n",
       "\n",
       "\u001B[38;5;103m── fsharp - import ─────────────────────────────────────────────────────────────\u001B[0m\n",
       "Formatter.Register(fun(x: obj)(writer: TextWriter)->fprintfn writer \"%120A\" x)\n",
       "\n",
       "\u001B[38;5;103m── fsharp - import ─────────────────────────────────────────────────────────────\u001B[0m\n",
       "Formatter.Register(fun(x: System.Collections.IEnumerable)(writer: \n",
       "TextWriter)->fprintfn writer \"%120A\" x)\n",
       "\n",
       "\u001B[38;5;2m╭─[ 2.94s - return value ]─────────────────────────────────────────────────────╮\u001B[0m\n",
       "\u001B[38;5;2m│\u001B[0m <div class=\"dni-plaintext\"><pre>-3                                           \u001B[38;5;2m│\u001B[0m\n",
       "\u001B[38;5;2m│\u001B[0m </pre></div><style>                                                          \u001B[38;5;2m│\u001B[0m\n",
       "\u001B[38;5;2m│\u001B[0m .dni-code-hint {                                                             \u001B[38;5;2m│\u001B[0m\n",
       "\u001B[38;5;2m│\u001B[0m     font-style: italic;                                                      \u001B[38;5;2m│\u001B[0m\n",
       "\u001B[38;5;2m│\u001B[0m     overflow: hidden;                                                        \u001B[38;5;2m│\u001B[0m\n",
       "\u001B[38;5;2m│\u001B[0m     white-space: nowrap;                                                     \u001B[38;5;2m│\u001B[0m\n",
       "\u001B[38;5;2m│\u001B[0m }                                                                            \u001B[38;5;2m│\u001B[0m\n",
       "\u001B[38;5;2m│\u001B[0m .dni-treeview {                                                              \u001B[38;5;2m│\u001B[0m\n",
       "\u001B[38;5;2m│\u001B[0m     white-space: nowrap;                                                     \u001B[38;5;2m│\u001B[0m\n",
       "\u001B[38;5;2m│\u001B[0m }                                                                            \u001B[38;5;2m│\u001B[0m\n",
       "\u001B[38;5;2m│\u001B[0m .dni-treeview td {                                                           \u001B[38;5;2m│\u001B[0m\n",
       "\u001B[38;5;2m│\u001B[0m     vertical-align: top;                                                     \u001B[38;5;2m│\u001B[0m\n",
       "\u001B[38;5;2m│\u001B[0m     text-align: start;                                                       \u001B[38;5;2m│\u001B[0m\n",
       "\u001B[38;5;2m│\u001B[0m }                                                                            \u001B[38;5;2m│\u001B[0m\n",
       "\u001B[38;5;2m│\u001B[0m details.dni-treeview {                                                       \u001B[38;5;2m│\u001B[0m\n",
       "\u001B[38;5;2m│\u001B[0m     padding-left: 1em;                                                       \u001B[38;5;2m│\u001B[0m\n",
       "\u001B[38;5;2m│\u001B[0m }                                                                            \u001B[38;5;2m│\u001B[0m\n",
       "\u001B[38;5;2m│\u001B[0m table td {                                                                   \u001B[38;5;2m│\u001B[0m\n",
       "\u001B[38;5;2m│\u001B[0m     text-align: start;                                                       \u001B[38;5;2m│\u001B[0m\n",
       "\u001B[38;5;2m│\u001B[0m }                                                                            \u001B[38;5;2m│\u001B[0m\n",
       "\u001B[38;5;2m│\u001B[0m table tr {                                                                   \u001B[38;5;2m│\u001B[0m\n",
       "\u001B[38;5;2m│\u001B[0m     vertical-align: top;                                                     \u001B[38;5;2m│\u001B[0m\n",
       "\u001B[38;5;2m│\u001B[0m     margin: 0em 0px;                                                         \u001B[38;5;2m│\u001B[0m\n",
       "\u001B[38;5;2m│\u001B[0m }                                                                            \u001B[38;5;2m│\u001B[0m\n",
       "\u001B[38;5;2m│\u001B[0m table tr td pre                                                              \u001B[38;5;2m│\u001B[0m\n",
       "\u001B[38;5;2m│\u001B[0m {                                                                            \u001B[38;5;2m│\u001B[0m\n",
       "\u001B[38;5;2m│\u001B[0m     vertical-align: top !important;                                          \u001B[38;5;2m│\u001B[0m\n",
       "\u001B[38;5;2m│\u001B[0m     margin: 0em 0px !important;                                              \u001B[38;5;2m│\u001B[0m\n",
       "\u001B[38;5;2m│\u001B[0m }                                                                            \u001B[38;5;2m│\u001B[0m\n",
       "\u001B[38;5;2m│\u001B[0m table th {                                                                   \u001B[38;5;2m│\u001B[0m\n",
       "\u001B[38;5;2m│\u001B[0m     text-align: start;                                                       \u001B[38;5;2m│\u001B[0m\n",
       "\u001B[38;5;2m│\u001B[0m }                                                                            \u001B[38;5;2m│\u001B[0m\n",
       "\u001B[38;5;2m│\u001B[0m </style>                                                                     \u001B[38;5;2m│\u001B[0m\n",
       "\u001B[38;5;2m╰──────────────────────────────────────────────────────────────────────────────╯\u001B[0m\n",
       "00:00:04 \u001B[90mverbose\u001B[39m #3 runtime.execute_with_options / result / exit_code: 0 / std_trace.Length: 5263\n",
       "00:00:04 \u001B[94m  debug\u001B[39m #4 runtime.execute_with_options / file_name: jupyter / arguments: [\"nbconvert\", \"/tmp/!spiral_builder_4ef00f6acebbad689ea1dac775e1be28b588f2181fe1e3f823786e4fd9798832/20240515-1628-2535-0320-00000003c5f1/test.dib.ipynb\", \"--to\", \"html\", \"--HTMLExporter.theme=dark\"] / options: (None, \"jupyter nbconvert \"/tmp/!spiral_builder_4ef00f6acebbad689ea1dac775e1be28b588f2181fe1e3f823786e4fd9798832/20240515-1628-2535-0320-00000003c5f1/test.dib.ipynb\" --to html --HTMLExporter.theme=dark\", Array(MutCell([])), None, None, true, None)\n",
       "00:00:05 \u001B[90mverbose\u001B[39m #5 \\e[4;7m[NbConvertApp] Converting notebook /tmp/!spiral_builder_4ef00f6acebbad689ea1dac775e1be28b588f2181fe1e3f823786e4fd9798832/20240515-1628-2535-0320-00000003c5f1/test.dib.ipynb to html\\e[0m\n",
       "00:00:05 \u001B[90mverbose\u001B[39m #6 \\e[4;7m/opt/hostedtoolcache/Python/3.12.3/x64/lib/python3.12/site-packages/nbformat/__init__.py:96: MissingIDFieldWarning: Cell is missing an id field, this will become a hard error in future nbformat versions. You may want to use `normalize()` on your notebooks before validations (available since nbformat 5.1.4). Previous versions of nbformat are fixing this issue transparently, and will stop doing so in the future.\\e[0m\n",
       "00:00:05 \u001B[90mverbose\u001B[39m #7 \\e[4;7m  validate(nb)\\e[0m\n",
       "00:00:05 \u001B[90mverbose\u001B[39m #8 \\e[4;7m/opt/hostedtoolcache/Python/3.12.3/x64/lib/python3.12/site-packages/nbconvert/filters/highlight.py:71: UserWarning: IPython3 lexer unavailable, falling back on Python 3\\e[0m\n",
       "00:00:05 \u001B[90mverbose\u001B[39m #9 \\e[4;7m  return _pygments_highlight(\\e[0m\n",
       "00:00:05 \u001B[90mverbose\u001B[39m #10 \\e[4;7m[NbConvertApp] Writing 271458 bytes to /tmp/!spiral_builder_4ef00f6acebbad689ea1dac775e1be28b588f2181fe1e3f823786e4fd9798832/20240515-1628-2535-0320-00000003c5f1/test.dib.html\\e[0m\n",
       "00:00:05 \u001B[90mverbose\u001B[39m #11 runtime.execute_with_options / result / exit_code: 0 / std_trace.Length: 984\n",
       "00:00:05 \u001B[94m  debug\u001B[39m #12 spiral_builder.run / dib / jupyter nbconvert / exit_code: 0 / jupyter_result.Length: 984\n",
       "00:00:05 \u001B[94m  debug\u001B[39m #13 runtime.execute_with_options / file_name: pwsh / arguments: [\"-c\", \"$counter = 1; $path = '/tmp/!spiral_builder_4ef00f6acebbad689ea1dac775e1be28b588f2181fe1e3f823786e4fd9798832/20240515-1628-2535-0320-00000003c5f1/test.dib.html'; (Get-Content $path -Raw) -replace '(id=\\\\\\\"cell-id=)[a-fA-F0-9]{8}', { $_.Groups[1].Value + $counter++ } | Set-Content $path\"] / options: (None, \"pwsh -c \"$counter = 1; $path = '/tmp/!spiral_builder_4ef00f6acebbad689ea1dac775e1be28b588f2181fe1e3f823786e4fd9798832/20240515-1628-2535-0320-00000003c5f1/test.dib.html'; (Get-Content $path -Raw) -replace '(id=\\\"cell-id=)[a-fA-F0-9]{8}', { $_.Groups[1].Value + $counter++ } | Set-Content $path\"\", Array(MutCell([])), None, None, true, None)\n",
       "00:00:05 \u001B[90mverbose\u001B[39m #14 runtime.execute_with_options / result / exit_code: 0 / std_trace.Length: 0\n",
       "00:00:05 \u001B[94m  debug\u001B[39m #15 spiral_builder.run / dib / html cell ids / exit_code: 0 / pwsh_replace_html_result.Length: 0\n",
       "00:00:05 \u001B[94m  debug\u001B[39m #16 spiral_builder.run / dib / exit_code: 0 / result.Length: 6306\n"
      ]
     },
     "metadata": {},
     "output_type": "display_data"
    }
   ],
   "source": [
    "//// test\n",
    "///! rust -d chrono clap encoding encoding_rs encoding_rs_io futures-lite regex serde_json\n",
    "\n",
    "types ()\n",
    "inl temp_folder, disposable = file_system.create_temp_directory ()\n",
    "inl file_name = \"test.dib\"\n",
    "inl path = temp_folder </> file_name |> file_system.normalize_path\n",
    "\n",
    "\"#!meta\\n\\n{\\\"kernelInfo\\\":{\\\"defaultKernelName\\\":\\\"fsharp\\\",\\\"items\\\":[]}}\\n\\n#!fsharp\\n\\n3 - 6\"\n",
    "|> file_system.write_all_text path\n",
    "\n",
    "get_command ()\n",
    "|> runtime.command_get_matches_from ($'$\"_ dib -p {!path}\"' |> runtime.split_args)\n",
    "|> run\n",
    "|> async.block_on\n",
    "|> resultm.unwrap'\n",
    "|> __assert_string_contains false \"<pre>-3 \"\n",
    "\n",
    "$'$\"{!path}.html\"'\n",
    "|> file_system.read_all_text\n",
    "|> __assert_string_contains false \"\\\"cell-id=1\\\"\"\n",
    "\n",
    "disposable |> use |> ignore"
   ]
  },
  {
   "cell_type": "markdown",
   "metadata": {},
   "source": [
    "## tests"
   ]
  },
  {
   "cell_type": "code",
   "execution_count": null,
   "metadata": {
    "dotnet_interactive": {
     "language": "spiral"
    },
    "polyglot_notebook": {
     "kernelName": "spiral"
    }
   },
   "outputs": [],
   "source": [
    "inl tests () =\n",
    "    rust.run_tests [\n",
    "        \"verify_app\", fun _ =>\n",
    "            get_command () |> runtime.command_debug_assert\n",
    "    ]"
   ]
  },
  {
   "cell_type": "markdown",
   "metadata": {},
   "source": [
    "## main"
   ]
  },
  {
   "cell_type": "code",
   "execution_count": null,
   "metadata": {
    "dotnet_interactive": {
     "language": "spiral"
    },
    "polyglot_notebook": {
     "kernelName": "spiral"
    }
   },
   "outputs": [],
   "source": [
    "///! \n",
    "\n",
    "inl main (args : array_base string) =\n",
    "    inl trace_state = get_trace_state_or_init None\n",
    "\n",
    "    inl command = get_command ()\n",
    "    inl arg_matches = command |> runtime.command_get_matches\n",
    "    \n",
    "    inl trace_level =\n",
    "        arg_matches\n",
    "        |> runtime.matches_get_one (get_args () .trace_level |> fst)\n",
    "        |> optionm'.unbox\n",
    "        |> optionm.map sm'.from_std_string\n",
    "\n",
    "    inl trace_state_level = trace_state.level\n",
    "    match trace_level with\n",
    "    | Some trace_level =>\n",
    "        inl trace_state_level = trace_state.level\n",
    "        trace_state_level <- trace_level |> of_string\n",
    "    | None => ()\n",
    "\n",
    "    trace Debug\n",
    "        fun () => $'$\"spiral_builder.main\"'\n",
    "        fun () => $'$\"args: {!args} / {!_locals ()}\"'\n",
    "\n",
    "    inl result =\n",
    "        arg_matches\n",
    "        |> run\n",
    "        |> async.block_on\n",
    "        |> resultm.unwrap'\n",
    "\n",
    "    if *trace_state_level = Info\n",
    "    then result |> console.write_line\n",
    "\n",
    "    0i32\n",
    "\n",
    "inl main () =\n",
    "    types ()\n",
    "    $\"let tests () = !tests ()\" : ()\n",
    "    $\"let main args = !main args\" : ()"
   ]
  }
 ],
 "metadata": {},
 "nbformat": 4,
 "nbformat_minor": 5
}