{
 "cells": [
  {
   "cell_type": "markdown",
   "metadata": {},
   "source": [
    "# Supervisor (Polyglot)"
   ]
  },
  {
   "cell_type": "code",
   "execution_count": null,
   "metadata": {
    "dotnet_interactive": {
     "language": "fsharp"
    },
    "polyglot_notebook": {
     "kernelName": "fsharp"
    }
   },
   "outputs": [],
   "source": [
    "#r @\"../../../../../../../.nuget/packages/fsharp.control.asyncseq/3.2.1/lib/netstandard2.1/FSharp.Control.AsyncSeq.dll\"\n",
    "#r @\"../../../../../../../.nuget/packages/system.reactive/6.0.1-preview.1/lib/net6.0/System.Reactive.dll\"\n",
    "#r @\"../../../../../../../.nuget/packages/system.reactive.linq/6.0.1-preview.1/lib/netstandard2.0/System.Reactive.Linq.dll\"\n",
    "#r @\"../../../../../../../.nuget/packages/argu/6.2.2/lib/netstandard2.0/Argu.dll\"\n",
    "#r @\"../../../../../../../.nuget/packages/system.commandline/2.0.0-beta4.22272.1/lib/net6.0/System.CommandLine.dll\"\n",
    "#r @\"../../../../../../../.nuget/packages/microsoft.aspnetcore.http.connections.common/7.0.0/lib/net7.0/Microsoft.AspNetCore.Http.Connections.Common.dll\"\n",
    "#r @\"../../../../../../../.nuget/packages/microsoft.aspnetcore.http.connections.client/7.0.0/lib/net7.0/Microsoft.AspNetCore.Http.Connections.Client.dll\"\n",
    "#r @\"../../../../../../../.nuget/packages/microsoft.aspnetcore.signalr.common/7.0.0/lib/net7.0/Microsoft.AspNetCore.SignalR.Common.dll\"\n",
    "#r @\"../../../../../../../.nuget/packages/microsoft.aspnetcore.signalr.client/7.0.0/lib/net7.0/Microsoft.AspNetCore.SignalR.Client.dll\"\n",
    "#r @\"../../../../../../../.nuget/packages/microsoft.aspnetcore.signalr.client.core/7.0.0/lib/net7.0/Microsoft.AspNetCore.SignalR.Client.Core.dll\"\n",
    "#r @\"../../../../../../../.nuget/packages/fsharp.json/0.4.1/lib/netstandard2.0/FSharp.Json.dll\""
   ]
  },
  {
   "cell_type": "code",
   "execution_count": null,
   "metadata": {
    "dotnet_interactive": {
     "language": "fsharp"
    },
    "polyglot_notebook": {
     "kernelName": "fsharp"
    }
   },
   "outputs": [],
   "source": [
    "#!import ../../lib/fsharp/Notebooks.dib\n",
    "#!import ../../lib/fsharp/Testing.dib"
   ]
  },
  {
   "cell_type": "code",
   "execution_count": null,
   "metadata": {
    "dotnet_interactive": {
     "language": "fsharp"
    },
    "polyglot_notebook": {
     "kernelName": "fsharp"
    }
   },
   "outputs": [],
   "source": [
    "#!import ../../lib/fsharp/Common.fs\n",
    "#!import ../../lib/fsharp/CommonFSharp.fs\n",
    "#!import ../../lib/fsharp/Async.fs\n",
    "#!import ../../lib/fsharp/AsyncSeq.fs\n",
    "#!import ../../lib/fsharp/Runtime.fs\n",
    "#!import ../../lib/fsharp/FileSystem.fs"
   ]
  },
  {
   "cell_type": "code",
   "execution_count": null,
   "metadata": {
    "dotnet_interactive": {
     "language": "fsharp"
    },
    "polyglot_notebook": {
     "kernelName": "fsharp"
    }
   },
   "outputs": [],
   "source": [
    "#if !INTERACTIVE\n",
    "open Lib\n",
    "#endif"
   ]
  },
  {
   "cell_type": "code",
   "execution_count": null,
   "metadata": {
    "dotnet_interactive": {
     "language": "fsharp"
    },
    "polyglot_notebook": {
     "kernelName": "fsharp"
    }
   },
   "outputs": [],
   "source": [
    "open Common\n",
    "open SpiralFileSystem.Operators\n",
    "open Microsoft.AspNetCore.SignalR.Client"
   ]
  },
  {
   "cell_type": "markdown",
   "metadata": {},
   "source": [
    "## sendJson"
   ]
  },
  {
   "cell_type": "code",
   "execution_count": null,
   "metadata": {
    "dotnet_interactive": {
     "language": "fsharp"
    },
    "polyglot_notebook": {
     "kernelName": "fsharp"
    }
   },
   "outputs": [],
   "source": [
    "let inline sendJson (port : int) (json : string) = async {\n",
    "    let! portOpen = SpiralNetworking.test_port_open port\n",
    "    if portOpen then\n",
    "        try\n",
    "            let connection = HubConnectionBuilder().WithUrl($\"http://127.0.0.1:{port}\").Build()\n",
    "            do! connection.StartAsync () |> Async.AwaitTask\n",
    "            let! result = connection.InvokeAsync<string>(\"ClientToServerMsg\", json) |> Async.AwaitTask\n",
    "            do! connection.StopAsync () |> Async.AwaitTask\n",
    "            trace Debug (fun () -> $\"sendJson / port: {port} / json: {json} / result.Length: {result |> Option.ofObj |> Option.map String.length}\") getLocals\n",
    "            return Some result\n",
    "        with ex ->\n",
    "            trace Critical (fun () -> $\"sendJson / port: {port} / json: {json} / ex: {ex |> SpiralSm.format_exception}\") getLocals\n",
    "            return None\n",
    "    else\n",
    "        trace Debug (fun () -> \"sendJson / error: port not open\") getLocals\n",
    "        return None\n",
    "}"
   ]
  },
  {
   "cell_type": "markdown",
   "metadata": {},
   "source": [
    "## sendObj"
   ]
  },
  {
   "cell_type": "code",
   "execution_count": null,
   "metadata": {
    "dotnet_interactive": {
     "language": "fsharp"
    },
    "polyglot_notebook": {
     "kernelName": "fsharp"
    }
   },
   "outputs": [],
   "source": [
    "let inline sendObj port obj =\n",
    "    obj\n",
    "    |> System.Text.Json.JsonSerializer.Serialize\n",
    "    |> sendJson port"
   ]
  },
  {
   "cell_type": "markdown",
   "metadata": {},
   "source": [
    "## awaitCompiler"
   ]
  },
  {
   "cell_type": "code",
   "execution_count": null,
   "metadata": {
    "dotnet_interactive": {
     "language": "fsharp"
    },
    "polyglot_notebook": {
     "kernelName": "fsharp"
    }
   },
   "outputs": [],
   "source": [
    "type VSCPos = {| line : int; character : int |}\n",
    "type VSCRange = VSCPos * VSCPos\n",
    "type RString = VSCRange * string\n",
    "type TracedError = {| trace : string list; message : string |}\n",
    "type ClientErrorsRes =\n",
    "    | FatalError of string\n",
    "    | TracedError of TracedError\n",
    "    | PackageErrors of {| uri : string; errors : RString list |}\n",
    "    | TokenizerErrors of {| uri : string; errors : RString list |}\n",
    "    | ParserErrors of {| uri : string; errors : RString list |}\n",
    "    | TypeErrors of {| uri : string; errors : RString list |}"
   ]
  },
  {
   "cell_type": "code",
   "execution_count": null,
   "metadata": {
    "dotnet_interactive": {
     "language": "fsharp"
    },
    "polyglot_notebook": {
     "kernelName": "fsharp"
    }
   },
   "outputs": [],
   "source": [
    "let repositoryRoot = SpiralFileSystem.get_repository_root ()"
   ]
  },
  {
   "cell_type": "code",
   "execution_count": null,
   "metadata": {
    "dotnet_interactive": {
     "language": "fsharp"
    },
    "polyglot_notebook": {
     "kernelName": "fsharp"
    }
   },
   "outputs": [],
   "source": [
    "let inline awaitCompiler port cancellationToken = async {\n",
    "    let struct (ct, disposable) = cancellationToken |> SpiralThreading.new_disposable_token\n",
    "    let! ct = ct |> SpiralAsync.merge_cancellation_token_with_default_async\n",
    "\n",
    "    let compiler = MailboxProcessor.Start (fun inbox -> async {\n",
    "        let! availablePort = SpiralNetworking.get_available_port (Some 60) port\n",
    "        if availablePort <> port then\n",
    "            inbox.Post (port, false)\n",
    "        else\n",
    "            let compilerPath =\n",
    "                repositoryRoot </> \"deps/The-Spiral-Language/The Spiral Language 2/artifacts/bin/The Spiral Language 2/release\"\n",
    "                |> System.IO.Path.GetFullPath\n",
    "\n",
    "            let dllPath = compilerPath </> \"Spiral.dll\"\n",
    "\n",
    "            let command = $@\"dotnet \"\"{dllPath}\"\" --port {availablePort} --default-int i32 --default-float f64\"\n",
    "            let onLine = fun struct (_, line, _) -> async {\n",
    "                if line |> SpiralSm.contains $\"Server bound to: http://localhost:{availablePort}\" then\n",
    "                    do! SpiralNetworking.wait_for_port_access (Some 500) true availablePort |> Async.Ignore\n",
    "\n",
    "                    let rec loop retry = async {\n",
    "                        let getLocals () = $\"port: {availablePort} / retry: {retry} / {getLocals ()}\"\n",
    "                        try\n",
    "                            let pingObj = {| Ping = true |}\n",
    "                            let! pingResult = pingObj |> sendObj availablePort\n",
    "                            trace Verbose (fun () -> $\"awaitCompiler / Ping / result: {pingResult}\") getLocals\n",
    "                        with ex ->\n",
    "                            trace Verbose (fun () -> $\"awaitCompiler / Ping / ex: {ex |> SpiralSm.format_exception}\") getLocals\n",
    "                            do! Async.Sleep 10\n",
    "                            do! loop (retry + 1)\n",
    "                    }\n",
    "                    do! loop 0\n",
    "                    inbox.Post (availablePort, true)\n",
    "            }\n",
    "\n",
    "            let! exitCode, result =\n",
    "                SpiralRuntime.execute_with_options_async struct (Some ct, command, Some onLine, Some repositoryRoot)\n",
    "\n",
    "            trace Debug (fun () -> $\"awaitCompiler / exitCode: {exitCode} / result: {result}\") getLocals\n",
    "            disposable.Dispose ()\n",
    "    }, ct)\n",
    "\n",
    "    let! serverPort, managed = compiler.Receive ()\n",
    "\n",
    "    let connection = HubConnectionBuilder().WithUrl($\"http://127.0.0.1:{serverPort}\").Build ()\n",
    "    do! connection.StartAsync () |> Async.AwaitTask\n",
    "\n",
    "    let event = Event<_> ()\n",
    "    let disposable' = connection.On<string> (\"ServerToClientMsg\", event.Trigger)\n",
    "    let stream =\n",
    "        FSharp.Control.AsyncSeq.unfoldAsync\n",
    "            (fun () -> async {\n",
    "                let! msg = event.Publish |> Async.AwaitEvent\n",
    "                return Some (msg |> FSharp.Json.Json.deserialize<ClientErrorsRes>, ())\n",
    "            })\n",
    "            ()\n",
    "\n",
    "    let disposable' =\n",
    "        new_disposable (fun () ->\n",
    "            async {\n",
    "                disposable'.Dispose ()\n",
    "                do! connection.StopAsync () |> Async.AwaitTask\n",
    "                disposable.Dispose ()\n",
    "                if managed\n",
    "                then do! SpiralNetworking.wait_for_port_access (Some 2000) false serverPort |> Async.Ignore\n",
    "            }\n",
    "            |> Async.RunSynchronously\n",
    "        )\n",
    "\n",
    "    return\n",
    "        serverPort,\n",
    "        stream,\n",
    "        ct,\n",
    "        disposable'\n",
    "}"
   ]
  },
  {
   "cell_type": "markdown",
   "metadata": {},
   "source": [
    "## getFileUri"
   ]
  },
  {
   "cell_type": "code",
   "execution_count": null,
   "metadata": {
    "dotnet_interactive": {
     "language": "fsharp"
    },
    "polyglot_notebook": {
     "kernelName": "fsharp"
    }
   },
   "outputs": [],
   "source": [
    "let inline getFileUri (path : string) =\n",
    "    let path =\n",
    "        if SpiralRuntime.is_windows () |> not\n",
    "        then path\n",
    "        else $\"{path.[0] |> System.Char.ToLower}{path.[1..]}\" |> SpiralSm.replace \"\\\\\" \"/\"\n",
    "    $\"file:///{path |> SpiralSm.trim_start [| '/' |]}\""
   ]
  },
  {
   "cell_type": "markdown",
   "metadata": {},
   "source": [
    "## getFilePathFromUri"
   ]
  },
  {
   "cell_type": "code",
   "execution_count": null,
   "metadata": {
    "dotnet_interactive": {
     "language": "fsharp"
    },
    "polyglot_notebook": {
     "kernelName": "fsharp"
    }
   },
   "outputs": [],
   "source": [
    "let inline getFilePathFromUri uri =\n",
    "    match System.Uri.TryCreate (uri, System.UriKind.Absolute) with\n",
    "    | true, uri -> uri.AbsolutePath |> System.IO.Path.GetFullPath\n",
    "    | _ -> failwith \"invalid uri\""
   ]
  },
  {
   "cell_type": "markdown",
   "metadata": {},
   "source": [
    "## getCompilerPort"
   ]
  },
  {
   "cell_type": "code",
   "execution_count": null,
   "metadata": {
    "dotnet_interactive": {
     "language": "fsharp"
    },
    "polyglot_notebook": {
     "kernelName": "fsharp"
    }
   },
   "outputs": [],
   "source": [
    "let inline getCompilerPort () =\n",
    "    13805"
   ]
  },
  {
   "cell_type": "markdown",
   "metadata": {},
   "source": [
    "## serialize_obj"
   ]
  },
  {
   "cell_type": "code",
   "execution_count": null,
   "metadata": {
    "dotnet_interactive": {
     "language": "fsharp"
    },
    "polyglot_notebook": {
     "kernelName": "fsharp"
    }
   },
   "outputs": [],
   "source": [
    "    let serializeObj obj =\n",
    "        obj\n",
    "        |> FSharp.Json.Json.serialize\n",
    "        |> SpiralSm.replace \"\\\\\\\\\" \"\\\\\"\n",
    "        |> SpiralSm.replace \"\\\\r\\\\n\" \"\\n\"\n",
    "        |> SpiralSm.replace \"\\\\n\" \"\\n\""
   ]
  },
  {
   "cell_type": "markdown",
   "metadata": {},
   "source": [
    "## buildFile"
   ]
  },
  {
   "cell_type": "code",
   "execution_count": null,
   "metadata": {
    "dotnet_interactive": {
     "language": "fsharp"
    },
    "polyglot_notebook": {
     "kernelName": "fsharp"
    }
   },
   "outputs": [],
   "source": [
    "let inline buildFile timeout port cancellationToken path = async {\n",
    "    let fullPath = path |> System.IO.Path.GetFullPath\n",
    "    let fileDir = fullPath |> System.IO.Path.GetDirectoryName\n",
    "    let fileName = fullPath |> System.IO.Path.GetFileNameWithoutExtension\n",
    "    let! code = fullPath |> SpiralFileSystem.read_all_text_async\n",
    "\n",
    "    let stream, disposable = fileDir |> FileSystem.watchDirectory (fun _ -> false)\n",
    "    use _ = disposable\n",
    "\n",
    "    let struct (token, disposable) = SpiralThreading.new_disposable_token cancellationToken\n",
    "    use _ = disposable\n",
    "\n",
    "    let! serverPort, errors, ct, disposable = awaitCompiler port (Some token)\n",
    "    use _ = disposable\n",
    "\n",
    "    let fsxContentSeq =\n",
    "        stream\n",
    "        |> FSharp.Control.AsyncSeq.chooseAsync (function\n",
    "            | _, (FileSystem.FileSystemChange.Changed (path, _))\n",
    "                when (path |> System.IO.Path.GetFileName) = $\"{fileName}.fsx\"\n",
    "                ->\n",
    "                    fileDir </> path |> SpiralFileSystem.read_all_text_retry_async\n",
    "            | _ -> None |> Async.init\n",
    "        )\n",
    "        |> FSharp.Control.AsyncSeq.map (fun content ->\n",
    "            Some (content |> SpiralSm.replace \"\\r\\n\" \"\\n\"), None\n",
    "        )\n",
    "\n",
    "    let inline printErrorData (data : {| uri : string; errors : RString list |}) =\n",
    "        let fileName = data.uri |> System.IO.Path.GetFileName\n",
    "        let errors =\n",
    "            data.errors\n",
    "            |> List.map snd\n",
    "            |> SpiralSm.concat \"\\n\"\n",
    "        $\"{fileName}:\\n{errors}\"\n",
    "\n",
    "    let errorsSeq =\n",
    "        errors\n",
    "        |> FSharp.Control.AsyncSeq.choose (fun error ->\n",
    "            match error with\n",
    "            | FatalError message ->\n",
    "                Some (message, error)\n",
    "            | TracedError data ->\n",
    "                Some (data.message, error)\n",
    "            | PackageErrors data when data.errors |> List.isEmpty |> not ->\n",
    "                Some (data |> printErrorData, error)\n",
    "            | TokenizerErrors data when data.errors |> List.isEmpty |> not ->\n",
    "                Some (data |> printErrorData, error)\n",
    "            | ParserErrors data when data.errors |> List.isEmpty |> not ->\n",
    "                Some (data |> printErrorData, error)\n",
    "            | TypeErrors data when data.errors |> List.isEmpty |> not ->\n",
    "                Some (data |> printErrorData, error)\n",
    "            | _ -> None\n",
    "        )\n",
    "        |> FSharp.Control.AsyncSeq.map (fun (message, error) ->\n",
    "            None, Some (message, error)\n",
    "        )\n",
    "\n",
    "    let timerSeq =\n",
    "        1000\n",
    "        |> FSharp.Control.AsyncSeq.intervalMs\n",
    "        |> FSharp.Control.AsyncSeq.map (fun _ -> None, None)\n",
    "\n",
    "    let outputSeq =\n",
    "        [ fsxContentSeq; errorsSeq; timerSeq ]\n",
    "        |> FSharp.Control.AsyncSeq.mergeAll\n",
    "\n",
    "    let! outputChild =\n",
    "        ((None, [], 0), outputSeq)\n",
    "        ||> FSharp.Control.AsyncSeq.scan (\n",
    "            fun (fsxContentResult, errors, typeErrorCount) (fsxContent, error) ->\n",
    "                match fsxContent, error with\n",
    "                | Some fsxContent, None -> Some fsxContent, errors, typeErrorCount\n",
    "                | None, Some (_, FatalError \"File main has a type error somewhere in its path.\") ->\n",
    "                    fsxContentResult, errors, typeErrorCount + 1\n",
    "                | None, Some error -> fsxContentResult, error :: errors, typeErrorCount\n",
    "                | None, None when typeErrorCount >= 1 ->\n",
    "                    fsxContentResult, errors, typeErrorCount + 1\n",
    "                | _ -> fsxContentResult, errors, typeErrorCount\n",
    "        )\n",
    "        |> FSharp.Control.AsyncSeq.takeWhileInclusive (fun (fsxContent, errors, typeErrorCount) ->\n",
    "            trace Debug (fun () -> $\"buildFile / takeWhileInclusive / fsxContent: {fsxContent |> Option.defaultValue System.String.Empty |> SpiralSm.ellipsis_end 400} / errors: {errors |> serializeObj} / typeErrorCount: {typeErrorCount}\") getLocals\n",
    "#if INTERACTIVE\n",
    "            let errorWait = 2\n",
    "#else\n",
    "            let errorWait = 5\n",
    "#endif\n",
    "            match fsxContent, errors with\n",
    "            | None, [] when typeErrorCount > errorWait -> false\n",
    "            | None, [] -> true\n",
    "            | _ -> false\n",
    "        )\n",
    "        |> FSharp.Control.AsyncSeq.tryLast\n",
    "        |> Async.withCancellationToken ct\n",
    "        |> Async.catch\n",
    "        |> Async.runWithTimeoutAsync timeout\n",
    "        |> Async.StartChild\n",
    "\n",
    "    let fileOpenObj = {| FileOpen = {| uri = fullPath |> getFileUri; spiText = code |} |}\n",
    "    let! _fileOpenResult = fileOpenObj |> sendObj serverPort\n",
    "\n",
    "    do! Async.Sleep 60\n",
    "\n",
    "    let buildFileObj = {| BuildFile = {| uri = fullPath |> getFileUri; backend = \"Fsharp\" |} |}\n",
    "    let! _buildFileResult = buildFileObj |> sendObj serverPort\n",
    "\n",
    "    return!\n",
    "        outputChild\n",
    "        |> Async.map (function\n",
    "            | Some (Ok (Some (message, errors, _))) ->\n",
    "                message, errors |> List.distinct |> List.rev\n",
    "            | Some (Error ex) ->\n",
    "                trace Critical (fun () -> $\"buildFile / error: {ex |> serializeObj}\") getLocals\n",
    "                None, []\n",
    "            | _ -> None, []\n",
    "        )\n",
    "}"
   ]
  },
  {
   "cell_type": "markdown",
   "metadata": {},
   "source": [
    "## persistCode"
   ]
  },
  {
   "cell_type": "code",
   "execution_count": null,
   "metadata": {
    "dotnet_interactive": {
     "language": "fsharp"
    },
    "polyglot_notebook": {
     "kernelName": "fsharp"
    }
   },
   "outputs": [],
   "source": [
    "let inline persistCode code = async {\n",
    "    let targetDir = repositoryRoot </> \"target/polyglot/spiral_eval\"\n",
    "\n",
    "    let packagesDir = targetDir </> \"packages\"\n",
    "\n",
    "    let hashHex = code |> SpiralCrypto.hash_text\n",
    "\n",
    "    let codeDir = packagesDir </> hashHex\n",
    "\n",
    "    codeDir |> System.IO.Directory.CreateDirectory |> ignore\n",
    "\n",
    "    let mainPath = codeDir </> \"main.spi\"\n",
    "    do! code |> SpiralFileSystem.write_all_text_exists mainPath\n",
    "\n",
    "    let spiprojPath = codeDir </> \"package.spiproj\"\n",
    "    let spiprojCode =\n",
    "        $\"\"\"packageDir: {repositoryRoot </> \"lib\"}\n",
    "packages:\n",
    "    |core-\n",
    "    spiral-\n",
    "modules:\n",
    "    main\n",
    "\"\"\"\n",
    "    do! spiprojCode |> SpiralFileSystem.write_all_text_exists spiprojPath\n",
    "\n",
    "    return mainPath\n",
    "}"
   ]
  },
  {
   "cell_type": "markdown",
   "metadata": {},
   "source": [
    "## buildCode"
   ]
  },
  {
   "cell_type": "code",
   "execution_count": null,
   "metadata": {
    "dotnet_interactive": {
     "language": "fsharp"
    },
    "polyglot_notebook": {
     "kernelName": "fsharp"
    }
   },
   "outputs": [],
   "source": [
    "let inline buildCode timeout cancellationToken code = async {\n",
    "    let! mainPath = persistCode code\n",
    "    let port = getCompilerPort ()\n",
    "    return! mainPath |> buildFile timeout port cancellationToken\n",
    "}"
   ]
  },
  {
   "cell_type": "code",
   "execution_count": null,
   "metadata": {
    "dotnet_interactive": {
     "language": "fsharp"
    },
    "polyglot_notebook": {
     "kernelName": "fsharp"
    }
   },
   "outputs": [],
   "source": [
    "//// test\n",
    "\n",
    "let buildCode timeout cancellationToken code = buildCode timeout cancellationToken code"
   ]
  },
  {
   "cell_type": "code",
   "execution_count": null,
   "metadata": {
    "dotnet_interactive": {
     "language": "fsharp"
    },
    "polyglot_notebook": {
     "kernelName": "fsharp"
    }
   },
   "outputs": [
    {
     "name": "stdout",
     "output_type": "stream",
     "text": [
      "00:00:06 verbose #1 test_port_open / ex: System.AggregateException: One or more errors occurred. (Connection refused)\n",
      "00:00:06 debug #1 execute_with_options_async / options: struct (Some System.Threading.CancellationToken,\n",
      "        \"dotnet \"/home/runner/work/polyglot/polyglot/deps/The-Spiral-Language/The Spiral Language 2/artifacts/bin/The Spiral Language 2/release/Spiral.dll\" --port 13805 --default-int i32 --default-float f64\",\n",
      "        Some <fun:buildCode@3-314>, Some \"/home/runner/work/polyglot/polyglot\")\n",
      "00:00:07 verbose #2 test_port_open / ex: System.AggregateException: One or more errors occurred. (Connection refused)\n",
      "00:00:06 verbose #2 > pwd: /home/runner/work/polyglot/polyglot\n",
      "00:00:06 verbose #3 > dllPath: /home/runner/work/polyglot/polyglot/deps/The-Spiral-Language/The Spiral Language 2/artifacts/bin/The Spiral Language 2/release\n",
      "00:00:06 verbose #4 > targetDir: /home/runner/work/polyglot/polyglot/target/polyglot/spiral_eval\n",
      "00:00:07 verbose #3 wait_for_port_access / port: 13805 / retry: 0\n",
      "00:00:07 verbose #4 test_port_open / ex: System.AggregateException: One or more errors occurred. (Connection refused)\n",
      "00:00:07 verbose #5 test_port_open / ex: System.AggregateException: One or more errors occurred. (Connection refused)\n",
      "00:00:07 verbose #6 test_port_open / ex: System.AggregateException: One or more errors occurred. (Connection refused)\n",
      "00:00:07 verbose #7 test_port_open / ex: System.AggregateException: One or more errors occurred. (Connection refused)\n",
      "00:00:07 verbose #8 test_port_open / ex: System.AggregateException: One or more errors occurred. (Connection refused)\n",
      "00:00:07 verbose #9 test_port_open / ex: System.AggregateException: One or more errors occurred. (Connection refused)\n",
      "00:00:07 verbose #10 test_port_open / ex: System.AggregateException: One or more errors occurred. (Connection refused)\n",
      "00:00:07 verbose #11 test_port_open / ex: System.AggregateException: One or more errors occurred. (Connection refused)\n",
      "00:00:07 verbose #12 test_port_open / ex: System.AggregateException: One or more errors occurred. (Connection refused)\n",
      "00:00:07 verbose #13 test_port_open / ex: System.AggregateException: One or more errors occurred. (Connection refused)\n",
      "00:00:07 verbose #14 test_port_open / ex: System.AggregateException: One or more errors occurred. (Connection refused)\n",
      "00:00:07 verbose #15 test_port_open / ex: System.AggregateException: One or more errors occurred. (Connection refused)\n",
      "00:00:07 verbose #16 test_port_open / ex: System.AggregateException: One or more errors occurred. (Connection refused)\n",
      "00:00:07 verbose #17 test_port_open / ex: System.AggregateException: One or more errors occurred. (Connection refused)\n",
      "00:00:07 verbose #18 test_port_open / ex: System.AggregateException: One or more errors occurred. (Connection refused)\n",
      "00:00:07 verbose #19 test_port_open / ex: System.AggregateException: One or more errors occurred. (Connection refused)\n",
      "00:00:07 verbose #20 test_port_open / ex: System.AggregateException: One or more errors occurred. (Connection refused)\n",
      "00:00:07 verbose #21 test_port_open / ex: System.AggregateException: One or more errors occurred. (Connection refused)\n",
      "00:00:07 verbose #22 test_port_open / ex: System.AggregateException: One or more errors occurred. (Connection refused)\n",
      "00:00:07 verbose #23 test_port_open / ex: System.AggregateException: One or more errors occurred. (Connection refused)\n",
      "00:00:07 verbose #24 test_port_open / ex: System.AggregateException: One or more errors occurred. (Connection refused)\n",
      "00:00:07 verbose #25 test_port_open / ex: System.AggregateException: One or more errors occurred. (Connection refused)\n",
      "00:00:06 verbose #5 > Starting the Spiral Server. It is bound to: http://localhost:13805\n",
      "00:00:07 verbose #26 test_port_open / ex: System.AggregateException: One or more errors occurred. (Connection refused)\n",
      "00:00:07 verbose #27 test_port_open / ex: System.AggregateException: One or more errors occurred. (Connection refused)\n",
      "00:00:07 verbose #28 test_port_open / ex: System.AggregateException: One or more errors occurred. (Connection refused)\n",
      "00:00:07 verbose #29 test_port_open / ex: System.AggregateException: One or more errors occurred. (Connection refused)\n",
      "00:00:05 debug #1 sendJson / port: 13805 / json: {\"Ping\":true} / result.Length:\n",
      "00:00:05 verbose #2 awaitCompiler / Ping / result: Some(null) / port: 13805 / retry: 0\n",
      "00:00:06 verbose #6 > Server bound to: http://localhost:13805\n",
      "00:00:05 debug #3 buildFile / takeWhileInclusive / fsxContent:  / errors: [] / typeErrorCount: 0\n",
      "00:00:05 debug #4 buildFile / takeWhileInclusive / fsxContent:  / errors: [] / typeErrorCount: 0\n",
      "00:00:05 debug #5 sendJson / port: 13805 / json: {\"FileOpen\":{\"spiText\":\"inl app () =\\n    console.write_line \\u0022text\\u0022\\n    1i32\\n\\ninl main () =\\n    app\\n    |\\u003E dyn\\n    |\\u003E ignore\\n\",\"uri\":\"file:///home/runner/work/polyglot/polyglot/target/polyglot/spiral_eval/packages/0ad2ee90a0886647a7d9c334e1811a0c3ae5599125952e30eba9d5e3b57a56e0/main.spi\"}} / result.Length:\n",
      "00:00:05 debug #6 sendJson / port: 13805 / json: {\"BuildFile\":{\"backend\":\"Fsharp\",\"uri\":\"file:///home/runner/work/polyglot/polyglot/target/polyglot/spiral_eval/packages/0ad2ee90a0886647a7d9c334e1811a0c3ae5599125952e30eba9d5e3b57a56e0/main.spi\"}} / result.Length:\n",
      "00:00:07 verbose #7 > Building /home/runner/work/polyglot/polyglot/target/polyglot/spiral_eval/packages/0ad2ee90a0886647a7d9c334e1811a0c3ae5599125952e30eba9d5e3b57a56e0/main.spi\n",
      "00:00:06 debug #7 buildFile / takeWhileInclusive / fsxContent:  / errors: [] / typeErrorCount: 0\n",
      "00:00:07 debug #8 buildFile / takeWhileInclusive / fsxContent: let rec closure0 () () : int32 =\n",
      "    let v0 : string = \"text\"\n",
      "    System.Console.WriteLine v0\n",
      "    1\n",
      "let v0 : (unit -> int32) = closure0()\n",
      "()\n",
      " / errors: [] / typeErrorCount: 0\n",
      "00:00:09 verbose #30 wait_for_port_access / port: 13805 / retry: 0\n",
      "00:00:09 verbose #31 test_port_open / ex: System.AggregateException: One or more errors occurred. (Connection refused)\n",
      "00:00:07 debug #9 watchWithFilter / Disposing watch stream / filter: FileName, LastWrite\n",
      "FSharpOption<Tuple<FSharpOption<String>,FSharpList<String>>>\n",
      "      Value:       - FSharpOption<String>\n",
      "          Value: let rec closure0 () () : int32 =\n",
      "    let v0 : string = \"text\"\n",
      "    System.Console.WriteLine v0\n",
      "    1\n",
      "let v0 : (unit -> int32) = closure0()\n",
      "()\n",
      "\n",
      "      - [  ]\n"
     ]
    }
   ],
   "source": [
    "//// test\n",
    "\n",
    "\"\"\"inl app () =\n",
    "    console.write_line \"text\"\n",
    "    1i32\n",
    "\n",
    "inl main () =\n",
    "    app\n",
    "    |> dyn\n",
    "    |> ignore\n",
    "\"\"\"\n",
    "|> buildCode 15000 None\n",
    "|> Async.runWithTimeout 15000\n",
    "|> Option.map (fun (fsxContent, errors) -> fsxContent, errors |> List.map fst)\n",
    "|> _assertEqual (\n",
    "    Some (\n",
    "        Some \"\"\"let rec closure0 () () : int32 =\n",
    "    let v0 : string = \"text\"\n",
    "    System.Console.WriteLine v0\n",
    "    1\n",
    "let v0 : (unit -> int32) = closure0()\n",
    "()\n",
    "\"\"\",\n",
    "        []\n",
    "    )\n",
    ")"
   ]
  },
  {
   "cell_type": "code",
   "execution_count": null,
   "metadata": {
    "dotnet_interactive": {
     "language": "fsharp"
    },
    "polyglot_notebook": {
     "kernelName": "fsharp"
    }
   },
   "outputs": [
    {
     "name": "stdout",
     "output_type": "stream",
     "text": [
      "00:00:09 verbose #32 test_port_open / ex: System.AggregateException: One or more errors occurred. (Connection refused)\n",
      "00:00:08 debug #8 execute_with_options_async / options: struct (Some System.Threading.CancellationToken,\n",
      "        \"dotnet \"/home/runner/work/polyglot/polyglot/deps/The-Spiral-Language/The Spiral Language 2/artifacts/bin/The Spiral Language 2/release/Spiral.dll\" --port 13805 --default-int i32 --default-float f64\",\n",
      "        Some <fun:buildCode@3-314>, Some \"/home/runner/work/polyglot/polyglot\")\n",
      "00:00:09 verbose #9 > pwd: /home/runner/work/polyglot/polyglot\n",
      "00:00:10 verbose #33 test_port_open / ex: System.AggregateException: One or more errors occurred. (Connection refused)\n",
      "00:00:10 verbose #34 wait_for_port_access / port: 13805 / retry: 0\n",
      "00:00:09 verbose #10 > dllPath: /home/runner/work/polyglot/polyglot/deps/The-Spiral-Language/The Spiral Language 2/artifacts/bin/The Spiral Language 2/release\n",
      "00:00:09 verbose #11 > targetDir: /home/runner/work/polyglot/polyglot/target/polyglot/spiral_eval\n",
      "00:00:10 verbose #35 test_port_open / ex: System.AggregateException: One or more errors occurred. (Connection refused)\n",
      "00:00:10 verbose #36 test_port_open / ex: System.AggregateException: One or more errors occurred. (Connection refused)\n",
      "00:00:10 verbose #37 test_port_open / ex: System.AggregateException: One or more errors occurred. (Connection refused)\n",
      "00:00:10 verbose #38 test_port_open / ex: System.AggregateException: One or more errors occurred. (Connection refused)\n",
      "00:00:10 verbose #39 test_port_open / ex: System.AggregateException: One or more errors occurred. (Connection refused)\n",
      "00:00:10 verbose #40 test_port_open / ex: System.AggregateException: One or more errors occurred. (Connection refused)\n",
      "00:00:10 verbose #41 test_port_open / ex: System.AggregateException: One or more errors occurred. (Connection refused)\n",
      "00:00:10 verbose #42 test_port_open / ex: System.AggregateException: One or more errors occurred. (Connection refused)\n",
      "00:00:10 verbose #43 test_port_open / ex: System.AggregateException: One or more errors occurred. (Connection refused)\n",
      "00:00:10 verbose #44 test_port_open / ex: System.AggregateException: One or more errors occurred. (Connection refused)\n",
      "00:00:10 verbose #45 test_port_open / ex: System.AggregateException: One or more errors occurred. (Connection refused)\n",
      "00:00:10 verbose #46 test_port_open / ex: System.AggregateException: One or more errors occurred. (Connection refused)\n",
      "00:00:10 verbose #47 test_port_open / ex: System.AggregateException: One or more errors occurred. (Connection refused)\n",
      "00:00:10 verbose #48 test_port_open / ex: System.AggregateException: One or more errors occurred. (Connection refused)\n",
      "00:00:10 verbose #49 test_port_open / ex: System.AggregateException: One or more errors occurred. (Connection refused)\n",
      "00:00:10 verbose #50 test_port_open / ex: System.AggregateException: One or more errors occurred. (Connection refused)\n",
      "00:00:10 verbose #51 test_port_open / ex: System.AggregateException: One or more errors occurred. (Connection refused)\n",
      "00:00:10 verbose #52 test_port_open / ex: System.AggregateException: One or more errors occurred. (Connection refused)\n",
      "00:00:10 verbose #53 test_port_open / ex: System.AggregateException: One or more errors occurred. (Connection refused)\n",
      "00:00:10 verbose #54 test_port_open / ex: System.AggregateException: One or more errors occurred. (Connection refused)\n",
      "00:00:09 verbose #12 > Starting the Spiral Server. It is bound to: http://localhost:13805\n",
      "00:00:10 verbose #55 test_port_open / ex: System.AggregateException: One or more errors occurred. (Connection refused)\n",
      "00:00:10 verbose #56 test_port_open / ex: System.AggregateException: One or more errors occurred. (Connection refused)\n",
      "00:00:10 verbose #57 test_port_open / ex: System.AggregateException: One or more errors occurred. (Connection refused)\n",
      "00:00:10 verbose #58 test_port_open / ex: System.AggregateException: One or more errors occurred. (Connection refused)\n",
      "00:00:08 debug #10 sendJson / port: 13805 / json: {\"Ping\":true} / result.Length:\n",
      "00:00:08 verbose #11 awaitCompiler / Ping / result: Some(null) / port: 13805 / retry: 0\n",
      "00:00:09 verbose #13 > Server bound to: http://localhost:13805\n",
      "00:00:08 debug #12 buildFile / takeWhileInclusive / fsxContent:  / errors: [] / typeErrorCount: 0\n",
      "00:00:08 debug #13 buildFile / takeWhileInclusive / fsxContent:  / errors: [] / typeErrorCount: 0\n",
      "00:00:08 debug #14 sendJson / port: 13805 / json: {\"FileOpen\":{\"spiText\":\"\",\"uri\":\"file:///home/runner/work/polyglot/polyglot/target/polyglot/spiral_eval/packages/e3b0c44298fc1c149afbf4c8996fb92427ae41e4649b934ca495991b7852b855/main.spi\"}} / result.Length:\n",
      "00:00:08 debug #15 sendJson / port: 13805 / json: {\"BuildFile\":{\"backend\":\"Fsharp\",\"uri\":\"file:///home/runner/work/polyglot/polyglot/target/polyglot/spiral_eval/packages/e3b0c44298fc1c149afbf4c8996fb92427ae41e4649b934ca495991b7852b855/main.spi\"}} / result.Length:\n",
      "00:00:09 verbose #14 > Building /home/runner/work/polyglot/polyglot/target/polyglot/spiral_eval/packages/e3b0c44298fc1c149afbf4c8996fb92427ae41e4649b934ca495991b7852b855/main.spi\n",
      "00:00:09 debug #16 buildFile / takeWhileInclusive / fsxContent:  / errors: [] / typeErrorCount: 0\n",
      "00:00:11 verbose #15 > Cannot find `main` in file main.\n",
      "00:00:11 verbose #16 > Build skipped for /home/runner/work/polyglot/polyglot/target/polyglot/spiral_eval/packages/e3b0c44298fc1c149afbf4c8996fb92427ae41e4649b934ca495991b7852b855/main.spi\n",
      "00:00:10 debug #17 buildFile / takeWhileInclusive / fsxContent:  / errors: [] / typeErrorCount: 0\n",
      "00:00:12 verbose #17 > 00:00:03 verbose #1 Eval.parentAsyncChild / parentProcessId: 0\n",
      "00:00:11 debug #18 buildFile / takeWhileInclusive / fsxContent:  / errors: [] / typeErrorCount: 0\n",
      "00:00:12 debug #19 buildFile / takeWhileInclusive / fsxContent:  / errors: [] / typeErrorCount: 0\n",
      "00:00:13 debug #20 buildFile / takeWhileInclusive / fsxContent:  / errors: [] / typeErrorCount: 0\n",
      "00:00:14 debug #21 buildFile / takeWhileInclusive / fsxContent:  / errors: [] / typeErrorCount: 0\n",
      "00:00:15 debug #22 buildFile / takeWhileInclusive / fsxContent:  / errors: [] / typeErrorCount: 0\n",
      "00:00:16 debug #23 buildFile / takeWhileInclusive / fsxContent:  / errors: [] / typeErrorCount: 0\n",
      "00:00:17 debug #24 buildFile / takeWhileInclusive / fsxContent:  / errors: [] / typeErrorCount: 0\n",
      "00:00:19 verbose #59 wait_for_port_access / port: 13805 / retry: 0\n",
      "00:00:19 verbose #60 test_port_open / ex: System.AggregateException: One or more errors occurred. (Connection refused)\n",
      "00:00:17 debug #25 watchWithFilter / Disposing watch stream / filter: FileName, LastWrite\n",
      "00:00:17 debug #26 runWithTimeoutChildAsync / timeout: 10000\n",
      "<null>\n"
     ]
    }
   ],
   "source": [
    "//// test\n",
    "\n",
    "\"\"\n",
    "|> buildCode 10000 None\n",
    "|> Async.runWithTimeout 10000\n",
    "|> _assertEqual None"
   ]
  },
  {
   "cell_type": "code",
   "execution_count": null,
   "metadata": {
    "dotnet_interactive": {
     "language": "fsharp"
    },
    "polyglot_notebook": {
     "kernelName": "fsharp"
    }
   },
   "outputs": [
    {
     "name": "stdout",
     "output_type": "stream",
     "text": [
      "00:00:19 verbose #61 test_port_open / ex: System.AggregateException: One or more errors occurred. (Connection refused)\n",
      "00:00:19 debug #18 execute_with_options_async / options: struct (Some System.Threading.CancellationToken,\n",
      "        \"dotnet \"/home/runner/work/polyglot/polyglot/deps/The-Spiral-Language/The Spiral Language 2/artifacts/bin/The Spiral Language 2/release/Spiral.dll\" --port 13805 --default-int i32 --default-float f64\",\n",
      "        Some <fun:buildCode@3-314>, Some \"/home/runner/work/polyglot/polyglot\")\n",
      "00:00:19 verbose #19 > pwd: /home/runner/work/polyglot/polyglot\n",
      "00:00:20 verbose #62 test_port_open / ex: System.AggregateException: One or more errors occurred. (Connection refused)\n",
      "00:00:20 verbose #63 wait_for_port_access / port: 13805 / retry: 0\n",
      "00:00:19 verbose #20 > dllPath: /home/runner/work/polyglot/polyglot/deps/The-Spiral-Language/The Spiral Language 2/artifacts/bin/The Spiral Language 2/release\n",
      "00:00:19 verbose #21 > targetDir: /home/runner/work/polyglot/polyglot/target/polyglot/spiral_eval\n",
      "00:00:20 verbose #64 test_port_open / ex: System.AggregateException: One or more errors occurred. (Connection refused)\n",
      "00:00:20 verbose #65 test_port_open / ex: System.AggregateException: One or more errors occurred. (Connection refused)\n",
      "00:00:20 verbose #66 test_port_open / ex: System.AggregateException: One or more errors occurred. (Connection refused)\n",
      "00:00:20 verbose #67 test_port_open / ex: System.AggregateException: One or more errors occurred. (Connection refused)\n",
      "00:00:20 verbose #68 test_port_open / ex: System.AggregateException: One or more errors occurred. (Connection refused)\n",
      "00:00:20 verbose #69 test_port_open / ex: System.AggregateException: One or more errors occurred. (Connection refused)\n",
      "00:00:20 verbose #70 test_port_open / ex: System.AggregateException: One or more errors occurred. (Connection refused)\n",
      "00:00:20 verbose #71 test_port_open / ex: System.AggregateException: One or more errors occurred. (Connection refused)\n",
      "00:00:20 verbose #72 test_port_open / ex: System.AggregateException: One or more errors occurred. (Connection refused)\n",
      "00:00:20 verbose #73 test_port_open / ex: System.AggregateException: One or more errors occurred. (Connection refused)\n",
      "00:00:20 verbose #74 test_port_open / ex: System.AggregateException: One or more errors occurred. (Connection refused)\n",
      "00:00:20 verbose #75 test_port_open / ex: System.AggregateException: One or more errors occurred. (Connection refused)\n",
      "00:00:20 verbose #76 test_port_open / ex: System.AggregateException: One or more errors occurred. (Connection refused)\n",
      "00:00:20 verbose #77 test_port_open / ex: System.AggregateException: One or more errors occurred. (Connection refused)\n",
      "00:00:20 verbose #78 test_port_open / ex: System.AggregateException: One or more errors occurred. (Connection refused)\n",
      "00:00:20 verbose #79 test_port_open / ex: System.AggregateException: One or more errors occurred. (Connection refused)\n",
      "00:00:20 verbose #80 test_port_open / ex: System.AggregateException: One or more errors occurred. (Connection refused)\n",
      "00:00:20 verbose #81 test_port_open / ex: System.AggregateException: One or more errors occurred. (Connection refused)\n",
      "00:00:20 verbose #82 test_port_open / ex: System.AggregateException: One or more errors occurred. (Connection refused)\n",
      "00:00:20 verbose #83 test_port_open / ex: System.AggregateException: One or more errors occurred. (Connection refused)\n",
      "00:00:19 verbose #22 > Starting the Spiral Server. It is bound to: http://localhost:13805\n",
      "00:00:20 verbose #84 test_port_open / ex: System.AggregateException: One or more errors occurred. (Connection refused)\n",
      "00:00:20 verbose #85 test_port_open / ex: System.AggregateException: One or more errors occurred. (Connection refused)\n",
      "00:00:20 verbose #86 test_port_open / ex: System.AggregateException: One or more errors occurred. (Connection refused)\n",
      "00:00:20 verbose #87 test_port_open / ex: System.AggregateException: One or more errors occurred. (Connection refused)\n",
      "00:00:18 debug #27 sendJson / port: 13805 / json: {\"Ping\":true} / result.Length:\n",
      "00:00:18 verbose #28 awaitCompiler / Ping / result: Some(null) / port: 13805 / retry: 0\n",
      "00:00:19 verbose #23 > Server bound to: http://localhost:13805\n",
      "00:00:18 debug #29 buildFile / takeWhileInclusive / fsxContent:  / errors: [] / typeErrorCount: 0\n",
      "00:00:18 debug #30 buildFile / takeWhileInclusive / fsxContent:  / errors: [] / typeErrorCount: 0\n",
      "00:00:18 debug #31 sendJson / port: 13805 / json: {\"FileOpen\":{\"spiText\":\"inl app () =\\n    0i32\\n\\ninl a = 1\\n\\ninl main () =\\n    app\\n    |\\u003E dyn\\n    |\\u003E ignore\\n\",\"uri\":\"file:///home/runner/work/polyglot/polyglot/target/polyglot/spiral_eval/packages/348c96764a8f66af39dd3ea799f5e487a51761b1e220b84a7038f033a002a481/main.spi\"}} / result.Length:\n",
      "00:00:18 debug #32 sendJson / port: 13805 / json: {\"BuildFile\":{\"backend\":\"Fsharp\",\"uri\":\"file:///home/runner/work/polyglot/polyglot/target/polyglot/spiral_eval/packages/348c96764a8f66af39dd3ea799f5e487a51761b1e220b84a7038f033a002a481/main.spi\"}} / result.Length:\n",
      "00:00:20 verbose #24 > Building /home/runner/work/polyglot/polyglot/target/polyglot/spiral_eval/packages/348c96764a8f66af39dd3ea799f5e487a51761b1e220b84a7038f033a002a481/main.spi\n",
      "00:00:18 debug #33 buildFile / takeWhileInclusive / fsxContent:  / errors: [\n",
      "  [\n",
      "    \"main.spi:\n",
      "Global inl/let statements should all return functions known at parse time.\",\n",
      "    {\n",
      "      \"ParserErrors\": {\n",
      "        \"errors\": [\n",
      "          [\n",
      "            [\n",
      "              {\n",
      "                \"character\": 0,\n",
      "                \"line\": 3\n",
      "              },\n",
      "              {\n",
      "                \"character\": 9,\n",
      "                \"line\": 3\n",
      "              }\n",
      "            ],\n",
      "            \"Global inl/let statements should all return functions known at parse time.\"\n",
      "          ]\n",
      "        ],\n",
      "        \"uri\": \"file:///home/runner/work/polyglot/polyglot/target/polyglot/spiral_eval/packages/348c96764a8f66af39dd3ea799f5e487a51761b1e220b84a7038f033a002a481/main.spi\"\n",
      "      }\n",
      "    }\n",
      "  ]\n",
      "] / typeErrorCount: 0\n",
      "00:00:21 verbose #88 wait_for_port_access / port: 13805 / retry: 0\n",
      "00:00:21 verbose #89 test_port_open / ex: System.AggregateException: One or more errors occurred. (Connection refused)\n",
      "00:00:18 debug #34 watchWithFilter / Disposing watch stream / filter: FileName, LastWrite\n",
      "FSharpOption<Tuple<FSharpOption<String>,FSharpList<String>>>\n",
      "      Value:       - <null>\n",
      "      - [ main.spi:\n",
      "Global inl/let statements should all return functions known at parse time. ]\n"
     ]
    }
   ],
   "source": [
    "//// test\n",
    "\n",
    "\"inl app () =\n",
    "    0i32\n",
    "\n",
    "inl a = 1\n",
    "\n",
    "inl main () =\n",
    "    app\n",
    "    |> dyn\n",
    "    |> ignore\n",
    "\"\n",
    "|> buildCode 10000 None\n",
    "|> Async.runWithTimeout 10000\n",
    "|> Option.map (fun (fsxContent, errors) -> fsxContent, errors |> List.map fst)\n",
    "|> _assertEqual (\n",
    "    Some (\n",
    "        None,\n",
    "        [ \"main.spi:\n",
    "Global inl/let statements should all return functions known at parse time.\" ]\n",
    "    )\n",
    ")"
   ]
  },
  {
   "cell_type": "code",
   "execution_count": null,
   "metadata": {
    "dotnet_interactive": {
     "language": "fsharp"
    },
    "polyglot_notebook": {
     "kernelName": "fsharp"
    }
   },
   "outputs": [
    {
     "name": "stdout",
     "output_type": "stream",
     "text": [
      "00:00:21 verbose #90 test_port_open / ex: System.AggregateException: One or more errors occurred. (Connection refused)\n",
      "00:00:20 debug #25 execute_with_options_async / options: struct (Some System.Threading.CancellationToken,\n",
      "        \"dotnet \"/home/runner/work/polyglot/polyglot/deps/The-Spiral-Language/The Spiral Language 2/artifacts/bin/The Spiral Language 2/release/Spiral.dll\" --port 13805 --default-int i32 --default-float f64\",\n",
      "        Some <fun:buildCode@3-314>, Some \"/home/runner/work/polyglot/polyglot\")\n",
      "00:00:20 verbose #26 > pwd: /home/runner/work/polyglot/polyglot\n",
      "00:00:21 verbose #91 test_port_open / ex: System.AggregateException: One or more errors occurred. (Connection refused)\n",
      "00:00:21 verbose #92 wait_for_port_access / port: 13805 / retry: 0\n",
      "00:00:20 verbose #27 > dllPath: /home/runner/work/polyglot/polyglot/deps/The-Spiral-Language/The Spiral Language 2/artifacts/bin/The Spiral Language 2/release\n",
      "00:00:20 verbose #28 > targetDir: /home/runner/work/polyglot/polyglot/target/polyglot/spiral_eval\n",
      "00:00:21 verbose #93 test_port_open / ex: System.AggregateException: One or more errors occurred. (Connection refused)\n",
      "00:00:21 verbose #94 test_port_open / ex: System.AggregateException: One or more errors occurred. (Connection refused)\n",
      "00:00:21 verbose #95 test_port_open / ex: System.AggregateException: One or more errors occurred. (Connection refused)\n",
      "00:00:21 verbose #96 test_port_open / ex: System.AggregateException: One or more errors occurred. (Connection refused)\n",
      "00:00:21 verbose #97 test_port_open / ex: System.AggregateException: One or more errors occurred. (Connection refused)\n",
      "00:00:21 verbose #98 test_port_open / ex: System.AggregateException: One or more errors occurred. (Connection refused)\n",
      "00:00:21 verbose #99 test_port_open / ex: System.AggregateException: One or more errors occurred. (Connection refused)\n",
      "00:00:21 verbose #100 test_port_open / ex: System.AggregateException: One or more errors occurred. (Connection refused)\n",
      "00:00:21 verbose #101 test_port_open / ex: System.AggregateException: One or more errors occurred. (Connection refused)\n",
      "00:00:21 verbose #102 test_port_open / ex: System.AggregateException: One or more errors occurred. (Connection refused)\n",
      "00:00:21 verbose #103 test_port_open / ex: System.AggregateException: One or more errors occurred. (Connection refused)\n",
      "00:00:21 verbose #104 test_port_open / ex: System.AggregateException: One or more errors occurred. (Connection refused)\n",
      "00:00:21 verbose #105 test_port_open / ex: System.AggregateException: One or more errors occurred. (Connection refused)\n",
      "00:00:21 verbose #106 test_port_open / ex: System.AggregateException: One or more errors occurred. (Connection refused)\n",
      "00:00:21 verbose #107 test_port_open / ex: System.AggregateException: One or more errors occurred. (Connection refused)\n",
      "00:00:21 verbose #108 test_port_open / ex: System.AggregateException: One or more errors occurred. (Connection refused)\n",
      "00:00:21 verbose #109 test_port_open / ex: System.AggregateException: One or more errors occurred. (Connection refused)\n",
      "00:00:21 verbose #110 test_port_open / ex: System.AggregateException: One or more errors occurred. (Connection refused)\n",
      "00:00:21 verbose #111 test_port_open / ex: System.AggregateException: One or more errors occurred. (Connection refused)\n",
      "00:00:21 verbose #112 test_port_open / ex: System.AggregateException: One or more errors occurred. (Connection refused)\n",
      "00:00:20 verbose #29 > Starting the Spiral Server. It is bound to: http://localhost:13805\n",
      "00:00:21 verbose #113 test_port_open / ex: System.AggregateException: One or more errors occurred. (Connection refused)\n",
      "00:00:21 verbose #114 test_port_open / ex: System.AggregateException: One or more errors occurred. (Connection refused)\n",
      "00:00:21 verbose #115 test_port_open / ex: System.AggregateException: One or more errors occurred. (Connection refused)\n",
      "00:00:21 verbose #116 test_port_open / ex: System.AggregateException: One or more errors occurred. (Connection refused)\n",
      "00:00:19 debug #35 sendJson / port: 13805 / json: {\"Ping\":true} / result.Length:\n",
      "00:00:19 verbose #36 awaitCompiler / Ping / result: Some(null) / port: 13805 / retry: 0\n",
      "00:00:20 verbose #30 > Server bound to: http://localhost:13805\n",
      "00:00:19 debug #37 buildFile / takeWhileInclusive / fsxContent:  / errors: [] / typeErrorCount: 0\n",
      "00:00:19 debug #38 buildFile / takeWhileInclusive / fsxContent:  / errors: [] / typeErrorCount: 0\n",
      "00:00:19 debug #39 sendJson / port: 13805 / json: {\"FileOpen\":{\"spiText\":\"inl main () =\\n    1i32 / 0i32\\n\",\"uri\":\"file:///home/runner/work/polyglot/polyglot/target/polyglot/spiral_eval/packages/232df6d862bb0667133bf3fbc55c0b33286bde4b85cdb17fe93dda9c433ec620/main.spi\"}} / result.Length:\n",
      "00:00:19 debug #40 sendJson / port: 13805 / json: {\"BuildFile\":{\"backend\":\"Fsharp\",\"uri\":\"file:///home/runner/work/polyglot/polyglot/target/polyglot/spiral_eval/packages/232df6d862bb0667133bf3fbc55c0b33286bde4b85cdb17fe93dda9c433ec620/main.spi\"}} / result.Length:\n",
      "00:00:21 verbose #31 > Building /home/runner/work/polyglot/polyglot/target/polyglot/spiral_eval/packages/232df6d862bb0667133bf3fbc55c0b33286bde4b85cdb17fe93dda9c433ec620/main.spi\n",
      "00:00:20 debug #41 buildFile / takeWhileInclusive / fsxContent:  / errors: [] / typeErrorCount: 0\n",
      "00:00:21 debug #42 buildFile / takeWhileInclusive / fsxContent:  / errors: [\n",
      "  [\n",
      "    \"An attempt to divide by zero has been detected at compile time.\",\n",
      "    {\n",
      "      \"TracedError\": {\n",
      "        \"message\": \"An attempt to divide by zero has been detected at compile time.\",\n",
      "        \"trace\": [\n",
      "          \"Error trace on line: 1, column: 10 in module: /home/runner/work/polyglot/polyglot/target/polyglot/spiral_eval/packages/232df6d862bb0667133bf3fbc55c0b33286bde4b85cdb17fe93dda9c433ec620/main.spi.\n",
      "inl main () =\n",
      "         ^\n",
      "\",\n",
      "          \"Error trace on line: 2, column: 5 in module: /home/runner/work/polyglot/polyglot/target/polyglot/spiral_eval/packages/232df6d862bb0667133bf3fbc55c0b33286bde4b85cdb17fe93dda9c433ec620/main.spi.\n",
      "    1i32 / 0i32\n",
      "    ^\n",
      "\"\n",
      "        ]\n",
      "      }\n",
      "    }\n",
      "  ]\n",
      "] / typeErrorCount: 0\n",
      "00:00:23 verbose #117 wait_for_port_access / port: 13805 / retry: 0\n",
      "00:00:23 verbose #118 test_port_open / ex: System.AggregateException: One or more errors occurred. (Connection refused)\n",
      "00:00:21 debug #43 watchWithFilter / Disposing watch stream / filter: FileName, LastWrite\n",
      "FSharpOption<Tuple<FSharpOption<String>,FSharpList<String>>>\n",
      "      Value:       - <null>\n",
      "      - [ An attempt to divide by zero has been detected at compile time. ]\n"
     ]
    }
   ],
   "source": [
    "//// test\n",
    "\n",
    "\"\"\"inl main () =\n",
    "    1i32 / 0i32\n",
    "\"\"\"\n",
    "|> buildCode 10000 None\n",
    "|> Async.runWithTimeout 10000\n",
    "|> Option.map (fun (fsxContent, errors) -> fsxContent, errors |> List.map fst)\n",
    "|> _assertEqual (\n",
    "    Some (\n",
    "        None,\n",
    "        [ \"An attempt to divide by zero has been detected at compile time.\" ]\n",
    "    )\n",
    ")"
   ]
  },
  {
   "cell_type": "code",
   "execution_count": null,
   "metadata": {
    "dotnet_interactive": {
     "language": "fsharp"
    },
    "polyglot_notebook": {
     "kernelName": "fsharp"
    }
   },
   "outputs": [
    {
     "name": "stdout",
     "output_type": "stream",
     "text": [
      "00:00:23 verbose #119 test_port_open / ex: System.AggregateException: One or more errors occurred. (Connection refused)\n",
      "00:00:22 debug #32 execute_with_options_async / options: struct (Some System.Threading.CancellationToken,\n",
      "        \"dotnet \"/home/runner/work/polyglot/polyglot/deps/The-Spiral-Language/The Spiral Language 2/artifacts/bin/The Spiral Language 2/release/Spiral.dll\" --port 13805 --default-int i32 --default-float f64\",\n",
      "        Some <fun:buildCode@3-314>, Some \"/home/runner/work/polyglot/polyglot\")\n",
      "00:00:22 verbose #33 > pwd: /home/runner/work/polyglot/polyglot\n",
      "00:00:23 verbose #120 test_port_open / ex: System.AggregateException: One or more errors occurred. (Connection refused)\n",
      "00:00:23 verbose #121 wait_for_port_access / port: 13805 / retry: 0\n",
      "00:00:22 verbose #34 > dllPath: /home/runner/work/polyglot/polyglot/deps/The-Spiral-Language/The Spiral Language 2/artifacts/bin/The Spiral Language 2/release\n",
      "00:00:22 verbose #35 > targetDir: /home/runner/work/polyglot/polyglot/target/polyglot/spiral_eval\n",
      "00:00:23 verbose #122 test_port_open / ex: System.AggregateException: One or more errors occurred. (Connection refused)\n",
      "00:00:23 verbose #123 test_port_open / ex: System.AggregateException: One or more errors occurred. (Connection refused)\n",
      "00:00:23 verbose #124 test_port_open / ex: System.AggregateException: One or more errors occurred. (Connection refused)\n",
      "00:00:23 verbose #125 test_port_open / ex: System.AggregateException: One or more errors occurred. (Connection refused)\n",
      "00:00:23 verbose #126 test_port_open / ex: System.AggregateException: One or more errors occurred. (Connection refused)\n",
      "00:00:23 verbose #127 test_port_open / ex: System.AggregateException: One or more errors occurred. (Connection refused)\n",
      "00:00:23 verbose #128 test_port_open / ex: System.AggregateException: One or more errors occurred. (Connection refused)\n",
      "00:00:23 verbose #129 test_port_open / ex: System.AggregateException: One or more errors occurred. (Connection refused)\n",
      "00:00:23 verbose #130 test_port_open / ex: System.AggregateException: One or more errors occurred. (Connection refused)\n",
      "00:00:23 verbose #131 test_port_open / ex: System.AggregateException: One or more errors occurred. (Connection refused)\n",
      "00:00:23 verbose #132 test_port_open / ex: System.AggregateException: One or more errors occurred. (Connection refused)\n",
      "00:00:23 verbose #133 test_port_open / ex: System.AggregateException: One or more errors occurred. (Connection refused)\n",
      "00:00:23 verbose #134 test_port_open / ex: System.AggregateException: One or more errors occurred. (Connection refused)\n",
      "00:00:23 verbose #135 test_port_open / ex: System.AggregateException: One or more errors occurred. (Connection refused)\n",
      "00:00:23 verbose #136 test_port_open / ex: System.AggregateException: One or more errors occurred. (Connection refused)\n",
      "00:00:23 verbose #137 test_port_open / ex: System.AggregateException: One or more errors occurred. (Connection refused)\n",
      "00:00:24 verbose #138 test_port_open / ex: System.AggregateException: One or more errors occurred. (Connection refused)\n",
      "00:00:24 verbose #139 test_port_open / ex: System.AggregateException: One or more errors occurred. (Connection refused)\n",
      "00:00:24 verbose #140 test_port_open / ex: System.AggregateException: One or more errors occurred. (Connection refused)\n",
      "00:00:24 verbose #141 test_port_open / ex: System.AggregateException: One or more errors occurred. (Connection refused)\n",
      "00:00:24 verbose #142 test_port_open / ex: System.AggregateException: One or more errors occurred. (Connection refused)\n",
      "00:00:24 verbose #143 test_port_open / ex: System.AggregateException: One or more errors occurred. (Connection refused)\n",
      "00:00:24 verbose #144 test_port_open / ex: System.AggregateException: One or more errors occurred. (Connection refused)\n",
      "00:00:23 verbose #36 > Starting the Spiral Server. It is bound to: http://localhost:13805\n",
      "00:00:24 verbose #145 test_port_open / ex: System.AggregateException: One or more errors occurred. (Connection refused)\n",
      "00:00:24 verbose #146 test_port_open / ex: System.AggregateException: One or more errors occurred. (Connection refused)\n",
      "00:00:21 debug #44 sendJson / port: 13805 / json: {\"Ping\":true} / result.Length:\n",
      "00:00:21 verbose #45 awaitCompiler / Ping / result: Some(null) / port: 13805 / retry: 0\n",
      "00:00:23 verbose #37 > Server bound to: http://localhost:13805\n",
      "00:00:21 debug #46 buildFile / takeWhileInclusive / fsxContent:  / errors: [] / typeErrorCount: 0\n",
      "00:00:21 debug #47 buildFile / takeWhileInclusive / fsxContent:  / errors: [] / typeErrorCount: 0\n",
      "00:00:21 debug #48 sendJson / port: 13805 / json: {\"FileOpen\":{\"spiText\":\"inl main () =\\n    1 \\u002B \\u0022\\u0022\\n\",\"uri\":\"file:///home/runner/work/polyglot/polyglot/target/polyglot/spiral_eval/packages/2278923ce88b0e473e77d4d93e25afa6e5e4f5efe803982e504cc198d4c4d82d/main.spi\"}} / result.Length:\n",
      "00:00:21 debug #49 sendJson / port: 13805 / json: {\"BuildFile\":{\"backend\":\"Fsharp\",\"uri\":\"file:///home/runner/work/polyglot/polyglot/target/polyglot/spiral_eval/packages/2278923ce88b0e473e77d4d93e25afa6e5e4f5efe803982e504cc198d4c4d82d/main.spi\"}} / result.Length:\n",
      "00:00:23 verbose #38 > Building /home/runner/work/polyglot/polyglot/target/polyglot/spiral_eval/packages/2278923ce88b0e473e77d4d93e25afa6e5e4f5efe803982e504cc198d4c4d82d/main.spi\n",
      "00:00:22 debug #50 buildFile / takeWhileInclusive / fsxContent:  / errors: [] / typeErrorCount: 0\n",
      "00:00:23 debug #51 buildFile / takeWhileInclusive / fsxContent:  / errors: [] / typeErrorCount: 1\n",
      "00:00:23 debug #52 buildFile / takeWhileInclusive / fsxContent:  / errors: [\n",
      "  [\n",
      "    \"main.spi:\n",
      "Constraint satisfaction error.\n",
      "Got: string\n",
      "Fails to satisfy: number\",\n",
      "    {\n",
      "      \"TypeErrors\": {\n",
      "        \"errors\": [\n",
      "          [\n",
      "            [\n",
      "              {\n",
      "                \"character\": 8,\n",
      "                \"line\": 1\n",
      "              },\n",
      "              {\n",
      "                \"character\": 10,\n",
      "                \"line\": 1\n",
      "              }\n",
      "            ],\n",
      "            \"Constraint satisfaction error.\n",
      "Got: string\n",
      "Fails to satisfy: number\"\n",
      "          ]\n",
      "        ],\n",
      "        \"uri\": \"file:///home/runner/work/polyglot/polyglot/target/polyglot/spiral_eval/packages/2278923ce88b0e473e77d4d93e25afa6e5e4f5efe803982e504cc198d4c4d82d/main.spi\"\n",
      "      }\n",
      "    }\n",
      "  ]\n",
      "] / typeErrorCount: 1\n",
      "00:00:25 verbose #147 wait_for_port_access / port: 13805 / retry: 0\n",
      "00:00:25 verbose #148 test_port_open / ex: System.AggregateException: One or more errors occurred. (Connection refused)\n",
      "00:00:23 debug #53 watchWithFilter / Disposing watch stream / filter: FileName, LastWrite\n",
      "FSharpOption<Tuple<FSharpOption<String>,FSharpList<String>>>\n",
      "      Value:       - <null>\n",
      "      - [ main.spi:\n",
      "Constraint satisfaction error.\n",
      "Got: string\n",
      "Fails to satisfy: number ]\n"
     ]
    }
   ],
   "source": [
    "//// test\n",
    "\n",
    "\"\"\"inl main () =\n",
    "    1 + \"\"\n",
    "\"\"\"\n",
    "|> buildCode 10000 None\n",
    "|> Async.runWithTimeout 10000\n",
    "|> Option.map (fun (fsxContent, errors) -> fsxContent, errors |> List.map fst)\n",
    "|> _assertEqual (\n",
    "    Some (\n",
    "        None,\n",
    "        [\n",
    "            \"main.spi:\n",
    "Constraint satisfaction error.\n",
    "Got: string\n",
    "Fails to satisfy: number\"\n",
    "        ]\n",
    "    )\n",
    ")"
   ]
  },
  {
   "cell_type": "code",
   "execution_count": null,
   "metadata": {
    "dotnet_interactive": {
     "language": "fsharp"
    },
    "polyglot_notebook": {
     "kernelName": "fsharp"
    }
   },
   "outputs": [
    {
     "name": "stdout",
     "output_type": "stream",
     "text": [
      "00:00:25 verbose #149 test_port_open / ex: System.AggregateException: One or more errors occurred. (Connection refused)\n",
      "00:00:24 debug #39 execute_with_options_async / options: struct (Some System.Threading.CancellationToken,\n",
      "        \"dotnet \"/home/runner/work/polyglot/polyglot/deps/The-Spiral-Language/The Spiral Language 2/artifacts/bin/The Spiral Language 2/release/Spiral.dll\" --port 13805 --default-int i32 --default-float f64\",\n",
      "        Some <fun:buildCode@3-314>, Some \"/home/runner/work/polyglot/polyglot\")\n",
      "00:00:25 verbose #40 > pwd: /home/runner/work/polyglot/polyglot\n",
      "00:00:25 verbose #150 test_port_open / ex: System.AggregateException: One or more errors occurred. (Connection refused)\n",
      "00:00:25 verbose #151 wait_for_port_access / port: 13805 / retry: 0\n",
      "00:00:25 verbose #41 > dllPath: /home/runner/work/polyglot/polyglot/deps/The-Spiral-Language/The Spiral Language 2/artifacts/bin/The Spiral Language 2/release\n",
      "00:00:25 verbose #42 > targetDir: /home/runner/work/polyglot/polyglot/target/polyglot/spiral_eval\n",
      "00:00:26 verbose #152 test_port_open / ex: System.AggregateException: One or more errors occurred. (Connection refused)\n",
      "00:00:26 verbose #153 test_port_open / ex: System.AggregateException: One or more errors occurred. (Connection refused)\n",
      "00:00:26 verbose #154 test_port_open / ex: System.AggregateException: One or more errors occurred. (Connection refused)\n",
      "00:00:26 verbose #155 test_port_open / ex: System.AggregateException: One or more errors occurred. (Connection refused)\n",
      "00:00:26 verbose #156 test_port_open / ex: System.AggregateException: One or more errors occurred. (Connection refused)\n",
      "00:00:26 verbose #157 test_port_open / ex: System.AggregateException: One or more errors occurred. (Connection refused)\n",
      "00:00:26 verbose #158 test_port_open / ex: System.AggregateException: One or more errors occurred. (Connection refused)\n",
      "00:00:26 verbose #159 test_port_open / ex: System.AggregateException: One or more errors occurred. (Connection refused)\n",
      "00:00:26 verbose #160 test_port_open / ex: System.AggregateException: One or more errors occurred. (Connection refused)\n",
      "00:00:26 verbose #161 test_port_open / ex: System.AggregateException: One or more errors occurred. (Connection refused)\n",
      "00:00:26 verbose #162 test_port_open / ex: System.AggregateException: One or more errors occurred. (Connection refused)\n",
      "00:00:26 verbose #163 test_port_open / ex: System.AggregateException: One or more errors occurred. (Connection refused)\n",
      "00:00:26 verbose #164 test_port_open / ex: System.AggregateException: One or more errors occurred. (Connection refused)\n",
      "00:00:26 verbose #165 test_port_open / ex: System.AggregateException: One or more errors occurred. (Connection refused)\n",
      "00:00:26 verbose #166 test_port_open / ex: System.AggregateException: One or more errors occurred. (Connection refused)\n",
      "00:00:26 verbose #167 test_port_open / ex: System.AggregateException: One or more errors occurred. (Connection refused)\n",
      "00:00:26 verbose #168 test_port_open / ex: System.AggregateException: One or more errors occurred. (Connection refused)\n",
      "00:00:26 verbose #169 test_port_open / ex: System.AggregateException: One or more errors occurred. (Connection refused)\n",
      "00:00:26 verbose #170 test_port_open / ex: System.AggregateException: One or more errors occurred. (Connection refused)\n",
      "00:00:26 verbose #171 test_port_open / ex: System.AggregateException: One or more errors occurred. (Connection refused)\n",
      "00:00:25 verbose #43 > Starting the Spiral Server. It is bound to: http://localhost:13805\n",
      "00:00:26 verbose #172 test_port_open / ex: System.AggregateException: One or more errors occurred. (Connection refused)\n",
      "00:00:26 verbose #173 test_port_open / ex: System.AggregateException: One or more errors occurred. (Connection refused)\n",
      "00:00:26 verbose #174 test_port_open / ex: System.AggregateException: One or more errors occurred. (Connection refused)\n",
      "00:00:23 debug #54 sendJson / port: 13805 / json: {\"Ping\":true} / result.Length:\n",
      "00:00:23 verbose #55 awaitCompiler / Ping / result: Some(null) / port: 13805 / retry: 0\n",
      "00:00:25 verbose #44 > Server bound to: http://localhost:13805\n",
      "00:00:23 debug #56 buildFile / takeWhileInclusive / fsxContent:  / errors: [] / typeErrorCount: 0\n",
      "00:00:23 debug #57 buildFile / takeWhileInclusive / fsxContent:  / errors: [] / typeErrorCount: 0\n",
      "00:00:23 debug #58 sendJson / port: 13805 / json: {\"FileOpen\":{\"spiText\":\"inl main () =\\n    x \\u002B y\\n\",\"uri\":\"file:///home/runner/work/polyglot/polyglot/target/polyglot/spiral_eval/packages/5d8d0e66f59ab13f3bfd8d88f05ce13771ab005b08581d99225216170ba6489b/main.spi\"}} / result.Length:\n",
      "00:00:24 debug #59 sendJson / port: 13805 / json: {\"BuildFile\":{\"backend\":\"Fsharp\",\"uri\":\"file:///home/runner/work/polyglot/polyglot/target/polyglot/spiral_eval/packages/5d8d0e66f59ab13f3bfd8d88f05ce13771ab005b08581d99225216170ba6489b/main.spi\"}} / result.Length:\n",
      "00:00:25 verbose #45 > Building /home/runner/work/polyglot/polyglot/target/polyglot/spiral_eval/packages/5d8d0e66f59ab13f3bfd8d88f05ce13771ab005b08581d99225216170ba6489b/main.spi\n",
      "00:00:24 debug #60 buildFile / takeWhileInclusive / fsxContent:  / errors: [] / typeErrorCount: 0\n",
      "00:00:25 debug #61 buildFile / takeWhileInclusive / fsxContent:  / errors: [] / typeErrorCount: 1\n",
      "00:00:25 debug #62 buildFile / takeWhileInclusive / fsxContent:  / errors: [\n",
      "  [\n",
      "    \"main.spi:\n",
      "Unbound variable: x.\n",
      "Unbound variable: y.\",\n",
      "    {\n",
      "      \"TypeErrors\": {\n",
      "        \"errors\": [\n",
      "          [\n",
      "            [\n",
      "              {\n",
      "                \"character\": 4,\n",
      "                \"line\": 1\n",
      "              },\n",
      "              {\n",
      "                \"character\": 5,\n",
      "                \"line\": 1\n",
      "              }\n",
      "            ],\n",
      "            \"Unbound variable: x.\"\n",
      "          ],\n",
      "          [\n",
      "            [\n",
      "              {\n",
      "                \"character\": 8,\n",
      "                \"line\": 1\n",
      "              },\n",
      "              {\n",
      "                \"character\": 9,\n",
      "                \"line\": 1\n",
      "              }\n",
      "            ],\n",
      "            \"Unbound variable: y.\"\n",
      "          ]\n",
      "        ],\n",
      "        \"uri\": \"file:///home/runner/work/polyglot/polyglot/target/polyglot/spiral_eval/packages/5d8d0e66f59ab13f3bfd8d88f05ce13771ab005b08581d99225216170ba6489b/main.spi\"\n",
      "      }\n",
      "    }\n",
      "  ]\n",
      "] / typeErrorCount: 1\n",
      "00:00:27 verbose #175 wait_for_port_access / port: 13805 / retry: 0\n",
      "00:00:27 verbose #176 test_port_open / ex: System.AggregateException: One or more errors occurred. (Connection refused)\n",
      "00:00:25 debug #63 watchWithFilter / Disposing watch stream / filter: FileName, LastWrite\n",
      "FSharpOption<Tuple<FSharpOption<String>,FSharpList<String>>>\n",
      "      Value:       - <null>\n",
      "      - [ main.spi:\n",
      "Unbound variable: x.\n",
      "Unbound variable: y. ]\n"
     ]
    }
   ],
   "source": [
    "//// test\n",
    "\n",
    "\"\"\"inl main () =\n",
    "    x + y\n",
    "\"\"\"\n",
    "|> buildCode 10000 None\n",
    "|> Async.runWithTimeout 10000\n",
    "|> Option.map (fun (fsxContent, errors) -> fsxContent, errors |> List.map fst)\n",
    "|> _assertEqual (\n",
    "    Some (\n",
    "        None,\n",
    "        [\n",
    "            \"main.spi:\n",
    "Unbound variable: x.\n",
    "Unbound variable: y.\"\n",
    "        ]\n",
    "    )\n",
    ")"
   ]
  },
  {
   "cell_type": "code",
   "execution_count": null,
   "metadata": {
    "dotnet_interactive": {
     "language": "fsharp"
    },
    "polyglot_notebook": {
     "kernelName": "fsharp"
    }
   },
   "outputs": [
    {
     "name": "stdout",
     "output_type": "stream",
     "text": [
      "00:00:27 verbose #177 test_port_open / ex: System.AggregateException: One or more errors occurred. (Connection refused)\n",
      "00:00:26 debug #46 execute_with_options_async / options: struct (Some System.Threading.CancellationToken,\n",
      "        \"dotnet \"/home/runner/work/polyglot/polyglot/deps/The-Spiral-Language/The Spiral Language 2/artifacts/bin/The Spiral Language 2/release/Spiral.dll\" --port 13805 --default-int i32 --default-float f64\",\n",
      "        Some <fun:buildCode@3-314>, Some \"/home/runner/work/polyglot/polyglot\")\n",
      "00:00:27 verbose #47 > pwd: /home/runner/work/polyglot/polyglot\n",
      "00:00:28 verbose #178 test_port_open / ex: System.AggregateException: One or more errors occurred. (Connection refused)\n",
      "00:00:28 verbose #179 wait_for_port_access / port: 13805 / retry: 0\n",
      "00:00:27 verbose #48 > dllPath: /home/runner/work/polyglot/polyglot/deps/The-Spiral-Language/The Spiral Language 2/artifacts/bin/The Spiral Language 2/release\n",
      "00:00:27 verbose #49 > targetDir: /home/runner/work/polyglot/polyglot/target/polyglot/spiral_eval\n",
      "00:00:28 verbose #180 test_port_open / ex: System.AggregateException: One or more errors occurred. (Connection refused)\n",
      "00:00:28 verbose #181 test_port_open / ex: System.AggregateException: One or more errors occurred. (Connection refused)\n",
      "00:00:28 verbose #182 test_port_open / ex: System.AggregateException: One or more errors occurred. (Connection refused)\n",
      "00:00:28 verbose #183 test_port_open / ex: System.AggregateException: One or more errors occurred. (Connection refused)\n",
      "00:00:28 verbose #184 test_port_open / ex: System.AggregateException: One or more errors occurred. (Connection refused)\n",
      "00:00:28 verbose #185 test_port_open / ex: System.AggregateException: One or more errors occurred. (Connection refused)\n",
      "00:00:28 verbose #186 test_port_open / ex: System.AggregateException: One or more errors occurred. (Connection refused)\n",
      "00:00:28 verbose #187 test_port_open / ex: System.AggregateException: One or more errors occurred. (Connection refused)\n",
      "00:00:28 verbose #188 test_port_open / ex: System.AggregateException: One or more errors occurred. (Connection refused)\n",
      "00:00:28 verbose #189 test_port_open / ex: System.AggregateException: One or more errors occurred. (Connection refused)\n",
      "00:00:28 verbose #190 test_port_open / ex: System.AggregateException: One or more errors occurred. (Connection refused)\n",
      "00:00:28 verbose #191 test_port_open / ex: System.AggregateException: One or more errors occurred. (Connection refused)\n",
      "00:00:28 verbose #192 test_port_open / ex: System.AggregateException: One or more errors occurred. (Connection refused)\n",
      "00:00:28 verbose #193 test_port_open / ex: System.AggregateException: One or more errors occurred. (Connection refused)\n",
      "00:00:28 verbose #194 test_port_open / ex: System.AggregateException: One or more errors occurred. (Connection refused)\n",
      "00:00:28 verbose #195 test_port_open / ex: System.AggregateException: One or more errors occurred. (Connection refused)\n",
      "00:00:28 verbose #196 test_port_open / ex: System.AggregateException: One or more errors occurred. (Connection refused)\n",
      "00:00:28 verbose #197 test_port_open / ex: System.AggregateException: One or more errors occurred. (Connection refused)\n",
      "00:00:28 verbose #198 test_port_open / ex: System.AggregateException: One or more errors occurred. (Connection refused)\n",
      "00:00:28 verbose #199 test_port_open / ex: System.AggregateException: One or more errors occurred. (Connection refused)\n",
      "00:00:28 verbose #200 test_port_open / ex: System.AggregateException: One or more errors occurred. (Connection refused)\n",
      "00:00:27 verbose #50 > Starting the Spiral Server. It is bound to: http://localhost:13805\n",
      "00:00:28 verbose #201 test_port_open / ex: System.AggregateException: One or more errors occurred. (Connection refused)\n",
      "00:00:28 verbose #202 test_port_open / ex: System.AggregateException: One or more errors occurred. (Connection refused)\n",
      "00:00:28 verbose #203 test_port_open / ex: System.AggregateException: One or more errors occurred. (Connection refused)\n",
      "00:00:26 debug #64 sendJson / port: 13805 / json: {\"Ping\":true} / result.Length:\n",
      "00:00:26 verbose #65 awaitCompiler / Ping / result: Some(null) / port: 13805 / retry: 0\n",
      "00:00:27 verbose #51 > Server bound to: http://localhost:13805\n",
      "00:00:26 debug #66 buildFile / takeWhileInclusive / fsxContent:  / errors: [] / typeErrorCount: 0\n",
      "00:00:26 debug #67 buildFile / takeWhileInclusive / fsxContent:  / errors: [] / typeErrorCount: 0\n",
      "00:00:26 debug #68 sendJson / port: 13805 / json: {\"FileOpen\":{\"spiText\":\"union a =\\n    | B\\n    | c\\n\\ninl main () =\\n    ()\\n\",\"uri\":\"file:///home/runner/work/polyglot/polyglot/target/polyglot/spiral_eval/packages/e711a7af82ac8ecfc9df9208c576e0745b2b4e6fbb3a46a168b4c4f56921eb3a/main.spi\"}} / result.Length:\n",
      "00:00:26 debug #69 sendJson / port: 13805 / json: {\"BuildFile\":{\"backend\":\"Fsharp\",\"uri\":\"file:///home/runner/work/polyglot/polyglot/target/polyglot/spiral_eval/packages/e711a7af82ac8ecfc9df9208c576e0745b2b4e6fbb3a46a168b4c4f56921eb3a/main.spi\"}} / result.Length:\n",
      "00:00:27 verbose #52 > Building /home/runner/work/polyglot/polyglot/target/polyglot/spiral_eval/packages/e711a7af82ac8ecfc9df9208c576e0745b2b4e6fbb3a46a168b4c4f56921eb3a/main.spi\n",
      "00:00:26 debug #70 buildFile / takeWhileInclusive / fsxContent:  / errors: [\n",
      "  [\n",
      "    \"main.spi:\n",
      "Expected: uppercase variable\",\n",
      "    {\n",
      "      \"ParserErrors\": {\n",
      "        \"errors\": [\n",
      "          [\n",
      "            [\n",
      "              {\n",
      "                \"character\": 6,\n",
      "                \"line\": 2\n",
      "              },\n",
      "              {\n",
      "                \"character\": 7,\n",
      "                \"line\": 2\n",
      "              }\n",
      "            ],\n",
      "            \"Expected: uppercase variable\"\n",
      "          ]\n",
      "        ],\n",
      "        \"uri\": \"file:///home/runner/work/polyglot/polyglot/target/polyglot/spiral_eval/packages/e711a7af82ac8ecfc9df9208c576e0745b2b4e6fbb3a46a168b4c4f56921eb3a/main.spi\"\n",
      "      }\n",
      "    }\n",
      "  ]\n",
      "] / typeErrorCount: 0\n",
      "00:00:28 verbose #204 wait_for_port_access / port: 13805 / retry: 0\n",
      "00:00:28 verbose #205 test_port_open / ex: System.AggregateException: One or more errors occurred. (Connection refused)\n",
      "00:00:26 debug #71 watchWithFilter / Disposing watch stream / filter: FileName, LastWrite\n",
      "FSharpOption<Tuple<FSharpOption<String>,FSharpList<String>>>\n",
      "      Value:       - <null>\n",
      "      - [ main.spi:\n",
      "Expected: uppercase variable ]\n"
     ]
    }
   ],
   "source": [
    "//// test\n",
    "\n",
    "\"\"\"union a =\n",
    "    | B\n",
    "    | c\n",
    "\n",
    "inl main () =\n",
    "    ()\n",
    "\"\"\"\n",
    "|> buildCode 10000 None\n",
    "|> Async.runWithTimeout 10000\n",
    "|> Option.map (fun (fsxContent, errors) -> fsxContent, errors |> List.map fst)\n",
    "|> _assertEqual (\n",
    "    Some (\n",
    "        None,\n",
    "        [ \"main.spi:\n",
    "Expected: uppercase variable\" ]\n",
    "    )\n",
    ")"
   ]
  },
  {
   "cell_type": "code",
   "execution_count": null,
   "metadata": {
    "dotnet_interactive": {
     "language": "fsharp"
    },
    "polyglot_notebook": {
     "kernelName": "fsharp"
    }
   },
   "outputs": [
    {
     "name": "stdout",
     "output_type": "stream",
     "text": [
      "00:00:29 verbose #206 test_port_open / ex: System.AggregateException: One or more errors occurred. (Connection refused)\n",
      "00:00:28 debug #53 execute_with_options_async / options: struct (Some System.Threading.CancellationToken,\n",
      "        \"dotnet \"/home/runner/work/polyglot/polyglot/deps/The-Spiral-Language/The Spiral Language 2/artifacts/bin/The Spiral Language 2/release/Spiral.dll\" --port 13805 --default-int i32 --default-float f64\",\n",
      "        Some <fun:buildCode@3-314>, Some \"/home/runner/work/polyglot/polyglot\")\n",
      "00:00:28 verbose #54 > pwd: /home/runner/work/polyglot/polyglot\n",
      "00:00:29 verbose #207 test_port_open / ex: System.AggregateException: One or more errors occurred. (Connection refused)\n",
      "00:00:29 verbose #208 wait_for_port_access / port: 13805 / retry: 0\n",
      "00:00:28 verbose #55 > dllPath: /home/runner/work/polyglot/polyglot/deps/The-Spiral-Language/The Spiral Language 2/artifacts/bin/The Spiral Language 2/release\n",
      "00:00:28 verbose #56 > targetDir: /home/runner/work/polyglot/polyglot/target/polyglot/spiral_eval\n",
      "00:00:29 verbose #209 test_port_open / ex: System.AggregateException: One or more errors occurred. (Connection refused)\n",
      "00:00:29 verbose #210 test_port_open / ex: System.AggregateException: One or more errors occurred. (Connection refused)\n",
      "00:00:29 verbose #211 test_port_open / ex: System.AggregateException: One or more errors occurred. (Connection refused)\n",
      "00:00:29 verbose #212 test_port_open / ex: System.AggregateException: One or more errors occurred. (Connection refused)\n",
      "00:00:29 verbose #213 test_port_open / ex: System.AggregateException: One or more errors occurred. (Connection refused)\n",
      "00:00:29 verbose #214 test_port_open / ex: System.AggregateException: One or more errors occurred. (Connection refused)\n",
      "00:00:29 verbose #215 test_port_open / ex: System.AggregateException: One or more errors occurred. (Connection refused)\n",
      "00:00:29 verbose #216 test_port_open / ex: System.AggregateException: One or more errors occurred. (Connection refused)\n",
      "00:00:29 verbose #217 test_port_open / ex: System.AggregateException: One or more errors occurred. (Connection refused)\n",
      "00:00:29 verbose #218 test_port_open / ex: System.AggregateException: One or more errors occurred. (Connection refused)\n",
      "00:00:29 verbose #219 test_port_open / ex: System.AggregateException: One or more errors occurred. (Connection refused)\n",
      "00:00:29 verbose #220 test_port_open / ex: System.AggregateException: One or more errors occurred. (Connection refused)\n",
      "00:00:29 verbose #221 test_port_open / ex: System.AggregateException: One or more errors occurred. (Connection refused)\n",
      "00:00:29 verbose #222 test_port_open / ex: System.AggregateException: One or more errors occurred. (Connection refused)\n",
      "00:00:29 verbose #223 test_port_open / ex: System.AggregateException: One or more errors occurred. (Connection refused)\n",
      "00:00:29 verbose #224 test_port_open / ex: System.AggregateException: One or more errors occurred. (Connection refused)\n",
      "00:00:29 verbose #225 test_port_open / ex: System.AggregateException: One or more errors occurred. (Connection refused)\n",
      "00:00:29 verbose #226 test_port_open / ex: System.AggregateException: One or more errors occurred. (Connection refused)\n",
      "00:00:29 verbose #227 test_port_open / ex: System.AggregateException: One or more errors occurred. (Connection refused)\n",
      "00:00:29 verbose #228 test_port_open / ex: System.AggregateException: One or more errors occurred. (Connection refused)\n",
      "00:00:28 verbose #57 > Starting the Spiral Server. It is bound to: http://localhost:13805\n",
      "00:00:29 verbose #229 test_port_open / ex: System.AggregateException: One or more errors occurred. (Connection refused)\n",
      "00:00:29 verbose #230 test_port_open / ex: System.AggregateException: One or more errors occurred. (Connection refused)\n",
      "00:00:29 verbose #231 test_port_open / ex: System.AggregateException: One or more errors occurred. (Connection refused)\n",
      "00:00:27 debug #72 sendJson / port: 13805 / json: {\"Ping\":true} / result.Length:\n",
      "00:00:27 verbose #73 awaitCompiler / Ping / result: Some(null) / port: 13805 / retry: 0\n",
      "00:00:28 verbose #58 > Server bound to: http://localhost:13805\n",
      "00:00:27 debug #74 buildFile / takeWhileInclusive / fsxContent:  / errors: [] / typeErrorCount: 0\n",
      "00:00:27 debug #75 buildFile / takeWhileInclusive / fsxContent:  / errors: [] / typeErrorCount: 0\n",
      "00:00:27 debug #76 sendJson / port: 13805 / json: {\"FileOpen\":{\"spiText\":\"\\n/// abc\\ninl main () =\\n    ()\\n\",\"uri\":\"file:///home/runner/work/polyglot/polyglot/target/polyglot/spiral_eval/packages/e83597a8ca85933ec91ea140faca562c6789f98f5348e641a1c44c73de804631/main.spi\"}} / result.Length:\n",
      "00:00:27 debug #77 sendJson / port: 13805 / json: {\"BuildFile\":{\"backend\":\"Fsharp\",\"uri\":\"file:///home/runner/work/polyglot/polyglot/target/polyglot/spiral_eval/packages/e83597a8ca85933ec91ea140faca562c6789f98f5348e641a1c44c73de804631/main.spi\"}} / result.Length:\n",
      "00:00:27 debug #78 buildFile / takeWhileInclusive / fsxContent:  / errors: [\n",
      "  [\n",
      "    \"main.spi:\n",
      "Expected: whitespace\",\n",
      "    {\n",
      "      \"TokenizerErrors\": {\n",
      "        \"errors\": [\n",
      "          [\n",
      "            [\n",
      "              {\n",
      "                \"character\": 2,\n",
      "                \"line\": 1\n",
      "              },\n",
      "              {\n",
      "                \"character\": 3,\n",
      "                \"line\": 1\n",
      "              }\n",
      "            ],\n",
      "            \"Expected: whitespace\"\n",
      "          ]\n",
      "        ],\n",
      "        \"uri\": \"file:///home/runner/work/polyglot/polyglot/target/polyglot/spiral_eval/packages/e83597a8ca85933ec91ea140faca562c6789f98f5348e641a1c44c73de804631/main.spi\"\n",
      "      }\n",
      "    }\n",
      "  ]\n",
      "] / typeErrorCount: 0\n",
      "00:00:29 verbose #232 wait_for_port_access / port: 13805 / retry: 0\n",
      "00:00:29 verbose #233 test_port_open / ex: System.AggregateException: One or more errors occurred. (Connection refused)\n",
      "00:00:27 debug #79 watchWithFilter / Disposing watch stream / filter: FileName, LastWrite\n",
      "FSharpOption<Tuple<FSharpOption<String>,FSharpList<String>>>\n",
      "      Value:       - <null>\n",
      "      - [ main.spi:\n",
      "Expected: whitespace ]\n"
     ]
    }
   ],
   "source": [
    "//// test\n",
    "\n",
    "\"\"\"\n",
    "/// abc\n",
    "inl main () =\n",
    "    ()\n",
    "\"\"\"\n",
    "|> buildCode 10000 None\n",
    "|> Async.runWithTimeout 10000\n",
    "|> Option.map (fun (fsxContent, errors) -> fsxContent, errors |> List.map fst)\n",
    "|> _assertEqual (\n",
    "    Some (\n",
    "        None,\n",
    "        [ \"main.spi:\n",
    "Expected: whitespace\" ]\n",
    "    )\n",
    ")"
   ]
  },
  {
   "cell_type": "code",
   "execution_count": null,
   "metadata": {
    "dotnet_interactive": {
     "language": "fsharp"
    },
    "polyglot_notebook": {
     "kernelName": "fsharp"
    }
   },
   "outputs": [
    {
     "name": "stdout",
     "output_type": "stream",
     "text": [
      "00:00:30 verbose #234 test_port_open / ex: System.AggregateException: One or more errors occurred. (Connection refused)\n",
      "00:00:29 debug #59 execute_with_options_async / options: struct (Some System.Threading.CancellationToken,\n",
      "        \"dotnet \"/home/runner/work/polyglot/polyglot/deps/The-Spiral-Language/The Spiral Language 2/artifacts/bin/The Spiral Language 2/release/Spiral.dll\" --port 13805 --default-int i32 --default-float f64\",\n",
      "        Some <fun:buildCode@3-314>, Some \"/home/runner/work/polyglot/polyglot\")\n",
      "00:00:29 verbose #60 > pwd: /home/runner/work/polyglot/polyglot\n",
      "00:00:30 verbose #235 test_port_open / ex: System.AggregateException: One or more errors occurred. (Connection refused)\n",
      "00:00:30 verbose #236 wait_for_port_access / port: 13805 / retry: 0\n",
      "00:00:29 verbose #61 > dllPath: /home/runner/work/polyglot/polyglot/deps/The-Spiral-Language/The Spiral Language 2/artifacts/bin/The Spiral Language 2/release\n",
      "00:00:29 verbose #62 > targetDir: /home/runner/work/polyglot/polyglot/target/polyglot/spiral_eval\n",
      "00:00:30 verbose #237 test_port_open / ex: System.AggregateException: One or more errors occurred. (Connection refused)\n",
      "00:00:30 verbose #238 test_port_open / ex: System.AggregateException: One or more errors occurred. (Connection refused)\n",
      "00:00:30 verbose #239 test_port_open / ex: System.AggregateException: One or more errors occurred. (Connection refused)\n",
      "00:00:30 verbose #240 test_port_open / ex: System.AggregateException: One or more errors occurred. (Connection refused)\n",
      "00:00:30 verbose #241 test_port_open / ex: System.AggregateException: One or more errors occurred. (Connection refused)\n",
      "00:00:30 verbose #242 test_port_open / ex: System.AggregateException: One or more errors occurred. (Connection refused)\n",
      "00:00:30 verbose #243 test_port_open / ex: System.AggregateException: One or more errors occurred. (Connection refused)\n",
      "00:00:30 verbose #244 test_port_open / ex: System.AggregateException: One or more errors occurred. (Connection refused)\n",
      "00:00:30 verbose #245 test_port_open / ex: System.AggregateException: One or more errors occurred. (Connection refused)\n",
      "00:00:30 verbose #246 test_port_open / ex: System.AggregateException: One or more errors occurred. (Connection refused)\n",
      "00:00:30 verbose #247 test_port_open / ex: System.AggregateException: One or more errors occurred. (Connection refused)\n",
      "00:00:30 verbose #248 test_port_open / ex: System.AggregateException: One or more errors occurred. (Connection refused)\n",
      "00:00:30 verbose #249 test_port_open / ex: System.AggregateException: One or more errors occurred. (Connection refused)\n",
      "00:00:30 verbose #250 test_port_open / ex: System.AggregateException: One or more errors occurred. (Connection refused)\n",
      "00:00:30 verbose #251 test_port_open / ex: System.AggregateException: One or more errors occurred. (Connection refused)\n",
      "00:00:30 verbose #252 test_port_open / ex: System.AggregateException: One or more errors occurred. (Connection refused)\n",
      "00:00:30 verbose #253 test_port_open / ex: System.AggregateException: One or more errors occurred. (Connection refused)\n",
      "00:00:30 verbose #254 test_port_open / ex: System.AggregateException: One or more errors occurred. (Connection refused)\n",
      "00:00:30 verbose #255 test_port_open / ex: System.AggregateException: One or more errors occurred. (Connection refused)\n",
      "00:00:29 verbose #63 > Starting the Spiral Server. It is bound to: http://localhost:13805\n",
      "00:00:30 verbose #256 test_port_open / ex: System.AggregateException: One or more errors occurred. (Connection refused)\n",
      "00:00:30 verbose #257 test_port_open / ex: System.AggregateException: One or more errors occurred. (Connection refused)\n",
      "00:00:30 verbose #258 test_port_open / ex: System.AggregateException: One or more errors occurred. (Connection refused)\n",
      "00:00:30 verbose #259 test_port_open / ex: System.AggregateException: One or more errors occurred. (Connection refused)\n",
      "00:00:28 debug #80 sendJson / port: 13805 / json: {\"Ping\":true} / result.Length:\n",
      "00:00:28 verbose #81 awaitCompiler / Ping / result: Some(null) / port: 13805 / retry: 0\n",
      "00:00:29 verbose #64 > Server bound to: http://localhost:13805\n",
      "00:00:28 debug #82 buildFile / takeWhileInclusive / fsxContent:  / errors: [] / typeErrorCount: 0\n",
      "00:00:28 debug #83 buildFile / takeWhileInclusive / fsxContent:  / errors: [] / typeErrorCount: 0\n",
      "00:00:28 debug #84 sendJson / port: 13805 / json: {\"FileOpen\":{\"spiText\":\"\\ninl main () =\\n    real\\n        inl real_unbox forall a. (obj : a) : a =\\n            typecase obj with\\n            | _ =\\u003E obj\\n        real_unbox ()\\n    ()\\n\",\"uri\":\"file:///home/runner/work/polyglot/polyglot/target/polyglot/spiral_eval/packages/a2aa158e3d25dde470018a814a2045bf437bae1760d98ab33335c72b076d4d50/main.spi\"}} / result.Length:\n",
      "00:00:28 debug #85 sendJson / port: 13805 / json: {\"BuildFile\":{\"backend\":\"Fsharp\",\"uri\":\"file:///home/runner/work/polyglot/polyglot/target/polyglot/spiral_eval/packages/a2aa158e3d25dde470018a814a2045bf437bae1760d98ab33335c72b076d4d50/main.spi\"}} / result.Length:\n",
      "00:00:30 verbose #65 > Building /home/runner/work/polyglot/polyglot/target/polyglot/spiral_eval/packages/a2aa158e3d25dde470018a814a2045bf437bae1760d98ab33335c72b076d4d50/main.spi\n",
      "00:00:29 debug #86 buildFile / takeWhileInclusive / fsxContent:  / errors: [] / typeErrorCount: 0\n",
      "00:00:30 debug #87 buildFile / takeWhileInclusive / fsxContent:  / errors: [\n",
      "  [\n",
      "    \"Cannot apply a forall with a term.\",\n",
      "    {\n",
      "      \"TracedError\": {\n",
      "        \"message\": \"Cannot apply a forall with a term.\",\n",
      "        \"trace\": [\n",
      "          \"Error trace on line: 2, column: 10 in module: /home/runner/work/polyglot/polyglot/target/polyglot/spiral_eval/packages/a2aa158e3d25dde470018a814a2045bf437bae1760d98ab33335c72b076d4d50/main.spi.\n",
      "inl main () =\n",
      "         ^\n",
      "\",\n",
      "          \"Error trace on line: 4, column: 9 in module: /home/runner/work/polyglot/polyglot/target/polyglot/spiral_eval/packages/a2aa158e3d25dde470018a814a2045bf437bae1760d98ab33335c72b076d4d50/main.spi.\n",
      "        inl real_unbox forall a. (obj : a) : a =\n",
      "        ^\n",
      "\",\n",
      "          \"Error trace on line: 7, column: 9 in module: /home/runner/work/polyglot/polyglot/target/polyglot/spiral_eval/packages/a2aa158e3d25dde470018a814a2045bf437bae1760d98ab33335c72b076d4d50/main.spi.\n",
      "        real_unbox ()\n",
      "        ^\n",
      "\"\n",
      "        ]\n",
      "      }\n",
      "    }\n",
      "  ]\n",
      "] / typeErrorCount: 0\n",
      "00:00:32 verbose #260 wait_for_port_access / port: 13805 / retry: 0\n",
      "00:00:32 verbose #261 test_port_open / ex: System.AggregateException: One or more errors occurred. (Connection refused)\n",
      "00:00:30 debug #88 watchWithFilter / Disposing watch stream / filter: FileName, LastWrite\n",
      "FSharpOption<Tuple<FSharpOption<String>,FSharpList<String>>>\n",
      "      Value:       - <null>\n",
      "      - [ Cannot apply a forall with a term. ]\n"
     ]
    }
   ],
   "source": [
    "//// test\n",
    "\n",
    "\"\"\"\n",
    "inl main () =\n",
    "    real\n",
    "        inl real_unbox forall a. (obj : a) : a =\n",
    "            typecase obj with\n",
    "            | _ => obj\n",
    "        real_unbox ()\n",
    "    ()\n",
    "\"\"\"\n",
    "|> buildCode 10000 None\n",
    "|> Async.runWithTimeout 10000\n",
    "|> Option.map (fun (fsxContent, errors) -> fsxContent, errors |> List.map fst)\n",
    "|> _assertEqual (\n",
    "    Some (\n",
    "        None,\n",
    "        [ \"Cannot apply a forall with a term.\" ]\n",
    "    )\n",
    ")"
   ]
  },
  {
   "cell_type": "code",
   "execution_count": null,
   "metadata": {
    "dotnet_interactive": {
     "language": "fsharp"
    },
    "polyglot_notebook": {
     "kernelName": "fsharp"
    }
   },
   "outputs": [
    {
     "name": "stdout",
     "output_type": "stream",
     "text": [
      "00:00:32 verbose #262 test_port_open / ex: System.AggregateException: One or more errors occurred. (Connection refused)\n",
      "00:00:31 debug #66 execute_with_options_async / options: struct (Some System.Threading.CancellationToken,\n",
      "        \"dotnet \"/home/runner/work/polyglot/polyglot/deps/The-Spiral-Language/The Spiral Language 2/artifacts/bin/The Spiral Language 2/release/Spiral.dll\" --port 13805 --default-int i32 --default-float f64\",\n",
      "        Some <fun:buildCode@3-314>, Some \"/home/runner/work/polyglot/polyglot\")\n",
      "00:00:31 verbose #67 > pwd: /home/runner/work/polyglot/polyglot\n",
      "00:00:32 verbose #263 test_port_open / ex: System.AggregateException: One or more errors occurred. (Connection refused)\n",
      "00:00:32 verbose #264 wait_for_port_access / port: 13805 / retry: 0\n",
      "00:00:31 verbose #68 > dllPath: /home/runner/work/polyglot/polyglot/deps/The-Spiral-Language/The Spiral Language 2/artifacts/bin/The Spiral Language 2/release\n",
      "00:00:31 verbose #69 > targetDir: /home/runner/work/polyglot/polyglot/target/polyglot/spiral_eval\n",
      "00:00:32 verbose #265 test_port_open / ex: System.AggregateException: One or more errors occurred. (Connection refused)\n",
      "00:00:32 verbose #266 test_port_open / ex: System.AggregateException: One or more errors occurred. (Connection refused)\n",
      "00:00:32 verbose #267 test_port_open / ex: System.AggregateException: One or more errors occurred. (Connection refused)\n",
      "00:00:32 verbose #268 test_port_open / ex: System.AggregateException: One or more errors occurred. (Connection refused)\n",
      "00:00:32 verbose #269 test_port_open / ex: System.AggregateException: One or more errors occurred. (Connection refused)\n",
      "00:00:32 verbose #270 test_port_open / ex: System.AggregateException: One or more errors occurred. (Connection refused)\n",
      "00:00:32 verbose #271 test_port_open / ex: System.AggregateException: One or more errors occurred. (Connection refused)\n",
      "00:00:32 verbose #272 test_port_open / ex: System.AggregateException: One or more errors occurred. (Connection refused)\n",
      "00:00:32 verbose #273 test_port_open / ex: System.AggregateException: One or more errors occurred. (Connection refused)\n",
      "00:00:32 verbose #274 test_port_open / ex: System.AggregateException: One or more errors occurred. (Connection refused)\n",
      "00:00:32 verbose #275 test_port_open / ex: System.AggregateException: One or more errors occurred. (Connection refused)\n",
      "00:00:32 verbose #276 test_port_open / ex: System.AggregateException: One or more errors occurred. (Connection refused)\n",
      "00:00:32 verbose #277 test_port_open / ex: System.AggregateException: One or more errors occurred. (Connection refused)\n",
      "00:00:32 verbose #278 test_port_open / ex: System.AggregateException: One or more errors occurred. (Connection refused)\n",
      "00:00:32 verbose #279 test_port_open / ex: System.AggregateException: One or more errors occurred. (Connection refused)\n",
      "00:00:33 verbose #280 test_port_open / ex: System.AggregateException: One or more errors occurred. (Connection refused)\n",
      "00:00:33 verbose #281 test_port_open / ex: System.AggregateException: One or more errors occurred. (Connection refused)\n",
      "00:00:33 verbose #282 test_port_open / ex: System.AggregateException: One or more errors occurred. (Connection refused)\n",
      "00:00:33 verbose #283 test_port_open / ex: System.AggregateException: One or more errors occurred. (Connection refused)\n",
      "00:00:32 verbose #70 > Starting the Spiral Server. It is bound to: http://localhost:13805\n",
      "00:00:33 verbose #284 test_port_open / ex: System.AggregateException: One or more errors occurred. (Connection refused)\n",
      "00:00:33 verbose #285 test_port_open / ex: System.AggregateException: One or more errors occurred. (Connection refused)\n",
      "00:00:33 verbose #286 test_port_open / ex: System.AggregateException: One or more errors occurred. (Connection refused)\n",
      "00:00:30 debug #89 sendJson / port: 13805 / json: {\"Ping\":true} / result.Length:\n",
      "00:00:30 verbose #90 awaitCompiler / Ping / result: Some(null) / port: 13805 / retry: 0\n",
      "00:00:32 verbose #71 > Server bound to: http://localhost:13805\n",
      "00:00:30 debug #91 buildFile / takeWhileInclusive / fsxContent:  / errors: [] / typeErrorCount: 0\n",
      "00:00:30 debug #92 buildFile / takeWhileInclusive / fsxContent:  / errors: [] / typeErrorCount: 0\n",
      "00:00:30 debug #93 sendJson / port: 13805 / json: {\"FileOpen\":{\"spiText\":\"\\ninl main () =\\n    real\\n        inl real_unbox forall a. (obj : a) : a =\\n            typecase obj with\\n            | _ =\\u003E obj\\n        real_unbox \\u0060i32 1\\n\",\"uri\":\"file:///home/runner/work/polyglot/polyglot/target/polyglot/spiral_eval/packages/84eca3865a0cfc1afd28f49a38d395e9b89071527b4bda759de7cfb116593b3e/main.spi\"}} / result.Length:\n",
      "00:00:30 debug #94 sendJson / port: 13805 / json: {\"BuildFile\":{\"backend\":\"Fsharp\",\"uri\":\"file:///home/runner/work/polyglot/polyglot/target/polyglot/spiral_eval/packages/84eca3865a0cfc1afd28f49a38d395e9b89071527b4bda759de7cfb116593b3e/main.spi\"}} / result.Length:\n",
      "00:00:32 verbose #72 > Building /home/runner/work/polyglot/polyglot/target/polyglot/spiral_eval/packages/84eca3865a0cfc1afd28f49a38d395e9b89071527b4bda759de7cfb116593b3e/main.spi\n",
      "00:00:31 debug #95 buildFile / takeWhileInclusive / fsxContent:  / errors: [] / typeErrorCount: 0\n",
      "00:00:32 debug #96 buildFile / takeWhileInclusive / fsxContent:  / errors: [\n",
      "  [\n",
      "    \"The main function should not have a forall.\",\n",
      "    {\n",
      "      \"TracedError\": {\n",
      "        \"message\": \"The main function should not have a forall.\",\n",
      "        \"trace\": []\n",
      "      }\n",
      "    }\n",
      "  ]\n",
      "] / typeErrorCount: 0\n",
      "00:00:34 verbose #287 wait_for_port_access / port: 13805 / retry: 0\n",
      "00:00:34 verbose #288 test_port_open / ex: System.AggregateException: One or more errors occurred. (Connection refused)\n",
      "00:00:32 debug #97 watchWithFilter / Disposing watch stream / filter: FileName, LastWrite\n",
      "FSharpOption<Tuple<FSharpOption<String>,FSharpList<String>>>\n",
      "      Value:       - <null>\n",
      "      - [ The main function should not have a forall. ]\n"
     ]
    }
   ],
   "source": [
    "//// test\n",
    "\n",
    "\"\"\"\n",
    "inl main () =\n",
    "    real\n",
    "        inl real_unbox forall a. (obj : a) : a =\n",
    "            typecase obj with\n",
    "            | _ => obj\n",
    "        real_unbox `i32 1\n",
    "\"\"\"\n",
    "|> buildCode 10000 None\n",
    "|> Async.runWithTimeout 10000\n",
    "|> Option.map (fun (fsxContent, errors) -> fsxContent, errors |> List.map fst)\n",
    "|> _assertEqual (\n",
    "    Some (\n",
    "        None,\n",
    "        [ \"The main function should not have a forall.\" ]\n",
    "    )\n",
    ")"
   ]
  },
  {
   "cell_type": "code",
   "execution_count": null,
   "metadata": {
    "dotnet_interactive": {
     "language": "fsharp"
    },
    "polyglot_notebook": {
     "kernelName": "fsharp"
    }
   },
   "outputs": [
    {
     "name": "stdout",
     "output_type": "stream",
     "text": [
      "00:00:34 verbose #289 test_port_open / ex: System.AggregateException: One or more errors occurred. (Connection refused)\n",
      "00:00:33 debug #73 execute_with_options_async / options: struct (Some System.Threading.CancellationToken,\n",
      "        \"dotnet \"/home/runner/work/polyglot/polyglot/deps/The-Spiral-Language/The Spiral Language 2/artifacts/bin/The Spiral Language 2/release/Spiral.dll\" --port 13805 --default-int i32 --default-float f64\",\n",
      "        Some <fun:buildCode@3-314>, Some \"/home/runner/work/polyglot/polyglot\")\n",
      "00:00:34 verbose #74 > pwd: /home/runner/work/polyglot/polyglot\n",
      "00:00:35 verbose #290 test_port_open / ex: System.AggregateException: One or more errors occurred. (Connection refused)\n",
      "00:00:35 verbose #291 wait_for_port_access / port: 13805 / retry: 0\n",
      "00:00:34 verbose #75 > dllPath: /home/runner/work/polyglot/polyglot/deps/The-Spiral-Language/The Spiral Language 2/artifacts/bin/The Spiral Language 2/release\n",
      "00:00:34 verbose #76 > targetDir: /home/runner/work/polyglot/polyglot/target/polyglot/spiral_eval\n",
      "00:00:35 verbose #292 test_port_open / ex: System.AggregateException: One or more errors occurred. (Connection refused)\n",
      "00:00:35 verbose #293 test_port_open / ex: System.AggregateException: One or more errors occurred. (Connection refused)\n",
      "00:00:35 verbose #294 test_port_open / ex: System.AggregateException: One or more errors occurred. (Connection refused)\n",
      "00:00:35 verbose #295 test_port_open / ex: System.AggregateException: One or more errors occurred. (Connection refused)\n",
      "00:00:35 verbose #296 test_port_open / ex: System.AggregateException: One or more errors occurred. (Connection refused)\n",
      "00:00:35 verbose #297 test_port_open / ex: System.AggregateException: One or more errors occurred. (Connection refused)\n",
      "00:00:35 verbose #298 test_port_open / ex: System.AggregateException: One or more errors occurred. (Connection refused)\n",
      "00:00:35 verbose #299 test_port_open / ex: System.AggregateException: One or more errors occurred. (Connection refused)\n",
      "00:00:35 verbose #300 test_port_open / ex: System.AggregateException: One or more errors occurred. (Connection refused)\n",
      "00:00:35 verbose #301 test_port_open / ex: System.AggregateException: One or more errors occurred. (Connection refused)\n",
      "00:00:35 verbose #302 test_port_open / ex: System.AggregateException: One or more errors occurred. (Connection refused)\n",
      "00:00:35 verbose #303 test_port_open / ex: System.AggregateException: One or more errors occurred. (Connection refused)\n",
      "00:00:35 verbose #304 test_port_open / ex: System.AggregateException: One or more errors occurred. (Connection refused)\n",
      "00:00:35 verbose #305 test_port_open / ex: System.AggregateException: One or more errors occurred. (Connection refused)\n",
      "00:00:35 verbose #306 test_port_open / ex: System.AggregateException: One or more errors occurred. (Connection refused)\n",
      "00:00:35 verbose #307 test_port_open / ex: System.AggregateException: One or more errors occurred. (Connection refused)\n",
      "00:00:35 verbose #308 test_port_open / ex: System.AggregateException: One or more errors occurred. (Connection refused)\n",
      "00:00:35 verbose #309 test_port_open / ex: System.AggregateException: One or more errors occurred. (Connection refused)\n",
      "00:00:35 verbose #310 test_port_open / ex: System.AggregateException: One or more errors occurred. (Connection refused)\n",
      "00:00:35 verbose #311 test_port_open / ex: System.AggregateException: One or more errors occurred. (Connection refused)\n",
      "00:00:34 verbose #77 > Starting the Spiral Server. It is bound to: http://localhost:13805\n",
      "00:00:35 verbose #312 test_port_open / ex: System.AggregateException: One or more errors occurred. (Connection refused)\n",
      "00:00:35 verbose #313 test_port_open / ex: System.AggregateException: One or more errors occurred. (Connection refused)\n",
      "00:00:35 verbose #314 test_port_open / ex: System.AggregateException: One or more errors occurred. (Connection refused)\n",
      "00:00:33 debug #98 sendJson / port: 13805 / json: {\"Ping\":true} / result.Length:\n",
      "00:00:33 verbose #99 awaitCompiler / Ping / result: Some(null) / port: 13805 / retry: 0\n",
      "00:00:34 verbose #78 > Server bound to: http://localhost:13805\n",
      "00:00:33 debug #100 buildFile / takeWhileInclusive / fsxContent:  / errors: [] / typeErrorCount: 0\n",
      "00:00:33 debug #101 buildFile / takeWhileInclusive / fsxContent:  / errors: [] / typeErrorCount: 0\n",
      "00:00:33 debug #102 sendJson / port: 13805 / json: {\"FileOpen\":{\"spiText\":\"\\ninl init_series start end inc =\\n    inl total : f64 = conv ((end - start) / inc) \\u002B 1\\n    listm.init total (conv \\u003E\\u003E (*) inc \\u003E\\u003E (\\u002B) start) : list f64\\n\\ntype integration = (f64 -\\u003E f64) -\\u003E f64 -\\u003E f64 -\\u003E f64\\n\\ninl integral dt : integration =\\n    fun f a b =\\u003E\\n        init_series (a \\u002B dt / 2) (b - dt / 2) dt\\n        |\\u003E listm.map (f \\u003E\\u003E (*) dt)\\n        |\\u003E listm.fold (\\u002B) 0\\n\\ninl main () =\\n    integral 0.1 (fun x =\\u003E x ** 2) 0 1\\n\",\"uri\":\"file:///home/runner/work/polyglot/polyglot/target/polyglot/spiral_eval/packages/c0932fdbf60389c2ae8b78bb5443994f2d0ecdc6c6e7dfddf408cecaa050d294/main.spi\"}} / result.Length:\n",
      "00:00:33 debug #103 sendJson / port: 13805 / json: {\"BuildFile\":{\"backend\":\"Fsharp\",\"uri\":\"file:///home/runner/work/polyglot/polyglot/target/polyglot/spiral_eval/packages/c0932fdbf60389c2ae8b78bb5443994f2d0ecdc6c6e7dfddf408cecaa050d294/main.spi\"}} / result.Length:\n",
      "00:00:34 verbose #79 > Building /home/runner/work/polyglot/polyglot/target/polyglot/spiral_eval/packages/c0932fdbf60389c2ae8b78bb5443994f2d0ecdc6c6e7dfddf408cecaa050d294/main.spi\n",
      "00:00:34 debug #104 buildFile / takeWhileInclusive / fsxContent:  / errors: [] / typeErrorCount: 0\n",
      "00:00:34 debug #105 buildFile / takeWhileInclusive / fsxContent: 0.3325000000000001\n",
      " / errors: [] / typeErrorCount: 0\n",
      "00:00:37 verbose #315 wait_for_port_access / port: 13805 / retry: 0\n",
      "00:00:37 verbose #316 test_port_open / ex: System.AggregateException: One or more errors occurred. (Connection refused)\n",
      "00:00:34 debug #106 watchWithFilter / Disposing watch stream / filter: FileName, LastWrite\n",
      "FSharpOption<Tuple<FSharpOption<String>,FSharpList<String>>>\n",
      "      Value:       - FSharpOption<String>\n",
      "          Value: 0.3325000000000001\n",
      "\n",
      "      - [  ]\n"
     ]
    }
   ],
   "source": [
    "//// test\n",
    "\n",
    "\"\"\"\n",
    "inl init_series start end inc =\n",
    "    inl total : f64 = conv ((end - start) / inc) + 1\n",
    "    listm.init total (conv >> (*) inc >> (+) start) : list f64\n",
    "\n",
    "type integration = (f64 -> f64) -> f64 -> f64 -> f64\n",
    "\n",
    "inl integral dt : integration =\n",
    "    fun f a b =>\n",
    "        init_series (a + dt / 2) (b - dt / 2) dt\n",
    "        |> listm.map (f >> (*) dt)\n",
    "        |> listm.fold (+) 0\n",
    "\n",
    "inl main () =\n",
    "    integral 0.1 (fun x => x ** 2) 0 1\n",
    "\"\"\"\n",
    "|> buildCode 10000 None\n",
    "|> Async.runWithTimeout 10000\n",
    "|> Option.map (fun (fsxContent, errors) -> fsxContent, errors |> List.map fst)\n",
    "|> _assertEqual (\n",
    "    Some (\n",
    "        Some \"0.3325000000000001\\n\",\n",
    "        []\n",
    "    )\n",
    ")"
   ]
  },
  {
   "cell_type": "code",
   "execution_count": null,
   "metadata": {
    "dotnet_interactive": {
     "language": "fsharp"
    },
    "polyglot_notebook": {
     "kernelName": "fsharp"
    }
   },
   "outputs": [
    {
     "name": "stdout",
     "output_type": "stream",
     "text": [
      "00:00:37 verbose #317 test_port_open / ex: System.AggregateException: One or more errors occurred. (Connection refused)\n",
      "00:00:36 debug #80 execute_with_options_async / options: struct (Some System.Threading.CancellationToken,\n",
      "        \"dotnet \"/home/runner/work/polyglot/polyglot/deps/The-Spiral-Language/The Spiral Language 2/artifacts/bin/The Spiral Language 2/release/Spiral.dll\" --port 13805 --default-int i32 --default-float f64\",\n",
      "        Some <fun:buildCode@3-314>, Some \"/home/runner/work/polyglot/polyglot\")\n",
      "00:00:36 verbose #81 > pwd: /home/runner/work/polyglot/polyglot\n",
      "00:00:37 verbose #318 test_port_open / ex: System.AggregateException: One or more errors occurred. (Connection refused)\n",
      "00:00:37 verbose #319 wait_for_port_access / port: 13805 / retry: 0\n",
      "00:00:36 verbose #82 > dllPath: /home/runner/work/polyglot/polyglot/deps/The-Spiral-Language/The Spiral Language 2/artifacts/bin/The Spiral Language 2/release\n",
      "00:00:36 verbose #83 > targetDir: /home/runner/work/polyglot/polyglot/target/polyglot/spiral_eval\n",
      "00:00:37 verbose #320 test_port_open / ex: System.AggregateException: One or more errors occurred. (Connection refused)\n",
      "00:00:37 verbose #321 test_port_open / ex: System.AggregateException: One or more errors occurred. (Connection refused)\n",
      "00:00:37 verbose #322 test_port_open / ex: System.AggregateException: One or more errors occurred. (Connection refused)\n",
      "00:00:37 verbose #323 test_port_open / ex: System.AggregateException: One or more errors occurred. (Connection refused)\n",
      "00:00:37 verbose #324 test_port_open / ex: System.AggregateException: One or more errors occurred. (Connection refused)\n",
      "00:00:37 verbose #325 test_port_open / ex: System.AggregateException: One or more errors occurred. (Connection refused)\n",
      "00:00:37 verbose #326 test_port_open / ex: System.AggregateException: One or more errors occurred. (Connection refused)\n",
      "00:00:37 verbose #327 test_port_open / ex: System.AggregateException: One or more errors occurred. (Connection refused)\n",
      "00:00:37 verbose #328 test_port_open / ex: System.AggregateException: One or more errors occurred. (Connection refused)\n",
      "00:00:37 verbose #329 test_port_open / ex: System.AggregateException: One or more errors occurred. (Connection refused)\n",
      "00:00:37 verbose #330 test_port_open / ex: System.AggregateException: One or more errors occurred. (Connection refused)\n",
      "00:00:37 verbose #331 test_port_open / ex: System.AggregateException: One or more errors occurred. (Connection refused)\n",
      "00:00:37 verbose #332 test_port_open / ex: System.AggregateException: One or more errors occurred. (Connection refused)\n",
      "00:00:37 verbose #333 test_port_open / ex: System.AggregateException: One or more errors occurred. (Connection refused)\n",
      "00:00:37 verbose #334 test_port_open / ex: System.AggregateException: One or more errors occurred. (Connection refused)\n",
      "00:00:37 verbose #335 test_port_open / ex: System.AggregateException: One or more errors occurred. (Connection refused)\n",
      "00:00:37 verbose #336 test_port_open / ex: System.AggregateException: One or more errors occurred. (Connection refused)\n",
      "00:00:37 verbose #337 test_port_open / ex: System.AggregateException: One or more errors occurred. (Connection refused)\n",
      "00:00:37 verbose #338 test_port_open / ex: System.AggregateException: One or more errors occurred. (Connection refused)\n",
      "00:00:36 verbose #84 > Starting the Spiral Server. It is bound to: http://localhost:13805\n",
      "00:00:37 verbose #339 test_port_open / ex: System.AggregateException: One or more errors occurred. (Connection refused)\n",
      "00:00:37 verbose #340 test_port_open / ex: System.AggregateException: One or more errors occurred. (Connection refused)\n",
      "00:00:37 verbose #341 test_port_open / ex: System.AggregateException: One or more errors occurred. (Connection refused)\n",
      "00:00:37 verbose #342 test_port_open / ex: System.AggregateException: One or more errors occurred. (Connection refused)\n",
      "00:00:35 debug #107 sendJson / port: 13805 / json: {\"Ping\":true} / result.Length:\n",
      "00:00:35 verbose #108 awaitCompiler / Ping / result: Some(null) / port: 13805 / retry: 0\n",
      "00:00:37 verbose #85 > Server bound to: http://localhost:13805\n",
      "00:00:35 debug #109 buildFile / takeWhileInclusive / fsxContent:  / errors: [] / typeErrorCount: 0\n",
      "00:00:35 debug #110 buildFile / takeWhileInclusive / fsxContent:  / errors: [] / typeErrorCount: 0\n",
      "00:00:35 debug #111 sendJson / port: 13805 / json: {\"FileOpen\":{\"spiText\":\"\\ninl init_series start end inc =\\n    inl total : f64 = conv ((end - start) / inc) \\u002B 1\\n    listm.init total (conv \\u003E\\u003E (*) inc \\u003E\\u003E (\\u002B) start) : list f64\\n\\ntype integration = (f64 -\\u003E f64) -\\u003E f64 -\\u003E f64 -\\u003E f64\\n\\ninl integral dt : integration =\\n    fun f a b =\\u003E\\n        init_series (a \\u002B dt / 2) (b - dt / 2) dt\\n        |\\u003E listm.map (f \\u003E\\u003E (*) dt)\\n        |\\u003E listm.fold (\\u002B) 0\\n\\ninl main () =\\n    integral 0.01 (fun x =\\u003E x ** 2) 0 1\\n\",\"uri\":\"file:///home/runner/work/polyglot/polyglot/target/polyglot/spiral_eval/packages/355c36b6d259fe6b1c7527aa9b475ca37914ad348c4a239687383dcd0daeed2c/main.spi\"}} / result.Length:\n",
      "00:00:35 debug #112 sendJson / port: 13805 / json: {\"BuildFile\":{\"backend\":\"Fsharp\",\"uri\":\"file:///home/runner/work/polyglot/polyglot/target/polyglot/spiral_eval/packages/355c36b6d259fe6b1c7527aa9b475ca37914ad348c4a239687383dcd0daeed2c/main.spi\"}} / result.Length:\n",
      "00:00:37 verbose #86 > Building /home/runner/work/polyglot/polyglot/target/polyglot/spiral_eval/packages/355c36b6d259fe6b1c7527aa9b475ca37914ad348c4a239687383dcd0daeed2c/main.spi\n",
      "00:00:36 debug #113 buildFile / takeWhileInclusive / fsxContent:  / errors: [] / typeErrorCount: 0\n",
      "00:00:37 debug #114 buildFile / takeWhileInclusive / fsxContent: 0.33332500000000004\n",
      " / errors: [] / typeErrorCount: 0\n",
      "00:00:39 verbose #343 wait_for_port_access / port: 13805 / retry: 0\n",
      "00:00:39 verbose #344 test_port_open / ex: System.AggregateException: One or more errors occurred. (Connection refused)\n",
      "00:00:37 debug #115 watchWithFilter / Disposing watch stream / filter: FileName, LastWrite\n",
      "FSharpOption<Tuple<FSharpOption<String>,FSharpList<String>>>\n",
      "      Value:       - FSharpOption<String>\n",
      "          Value: 0.33332500000000004\n",
      "\n",
      "      - [  ]\n"
     ]
    }
   ],
   "source": [
    "//// test\n",
    "\n",
    "\"\"\"\n",
    "inl init_series start end inc =\n",
    "    inl total : f64 = conv ((end - start) / inc) + 1\n",
    "    listm.init total (conv >> (*) inc >> (+) start) : list f64\n",
    "\n",
    "type integration = (f64 -> f64) -> f64 -> f64 -> f64\n",
    "\n",
    "inl integral dt : integration =\n",
    "    fun f a b =>\n",
    "        init_series (a + dt / 2) (b - dt / 2) dt\n",
    "        |> listm.map (f >> (*) dt)\n",
    "        |> listm.fold (+) 0\n",
    "\n",
    "inl main () =\n",
    "    integral 0.01 (fun x => x ** 2) 0 1\n",
    "\"\"\"\n",
    "|> buildCode 10000 None\n",
    "|> Async.runWithTimeout 10000\n",
    "|> Option.map (fun (fsxContent, errors) -> fsxContent, errors |> List.map fst)\n",
    "|> _assertEqual (\n",
    "    Some (\n",
    "        Some \"0.33332500000000004\\n\",\n",
    "        []\n",
    "    )\n",
    ")\n",
    "// |> _assertEqual None\n",
    "// |> fun x -> printfn $\"{x.ToDisplayString ()}\""
   ]
  },
  {
   "cell_type": "markdown",
   "metadata": {},
   "source": [
    "## getFileTokenRange"
   ]
  },
  {
   "cell_type": "code",
   "execution_count": null,
   "metadata": {
    "dotnet_interactive": {
     "language": "fsharp"
    },
    "polyglot_notebook": {
     "kernelName": "fsharp"
    }
   },
   "outputs": [],
   "source": [
    "let inline getFileTokenRange port cancellationToken path = async {\n",
    "    let fullPath = path |> System.IO.Path.GetFullPath\n",
    "    let! code = fullPath |> SpiralFileSystem.read_all_text_async\n",
    "    let lines = code |> SpiralSm.split \"\\n\"\n",
    "\n",
    "    let struct (token, disposable) = SpiralThreading.new_disposable_token cancellationToken\n",
    "    use _ = disposable\n",
    "\n",
    "    let! serverPort, _errors, ct, disposable =\n",
    "        match port with\n",
    "        | Some port -> awaitCompiler port (Some token)\n",
    "        | None -> (getCompilerPort (), FSharp.Control.AsyncSeq.empty, token, new_disposable id) |> Async.init\n",
    "    use _ = disposable\n",
    "\n",
    "    let fileOpenObj = {| FileOpen = {| uri = fullPath |> getFileUri; spiText = code |} |}\n",
    "    let! _fileOpenResult = fileOpenObj |> sendObj serverPort\n",
    "\n",
    "    let fileTokenRangeObj =\n",
    "        {|\n",
    "            FileTokenRange =\n",
    "                {|\n",
    "                    uri = fullPath |> getFileUri\n",
    "                    range =\n",
    "                        [|\n",
    "                            {| line = 0; character = 0 |}\n",
    "                            {| line = lines.Length - 1; character = lines.[lines.Length - 1].Length |}\n",
    "                        |]\n",
    "                |}\n",
    "        |}\n",
    "    let! fileTokenRangeResult =\n",
    "        fileTokenRangeObj\n",
    "        |> sendObj serverPort\n",
    "        |> Async.withCancellationToken ct\n",
    "\n",
    "    return fileTokenRangeResult |> Option.map FSharp.Json.Json.deserialize<int array>\n",
    "}"
   ]
  },
  {
   "cell_type": "markdown",
   "metadata": {},
   "source": [
    "## getCodeTokenRange"
   ]
  },
  {
   "cell_type": "code",
   "execution_count": null,
   "metadata": {
    "dotnet_interactive": {
     "language": "fsharp"
    },
    "polyglot_notebook": {
     "kernelName": "fsharp"
    }
   },
   "outputs": [],
   "source": [
    "let inline getCodeTokenRange cancellationToken code = async {\n",
    "    let! mainPath = persistCode code\n",
    "    let port = getCompilerPort ()\n",
    "    return! mainPath |> getFileTokenRange (Some port) cancellationToken\n",
    "}"
   ]
  },
  {
   "cell_type": "code",
   "execution_count": null,
   "metadata": {
    "dotnet_interactive": {
     "language": "fsharp"
    },
    "polyglot_notebook": {
     "kernelName": "fsharp"
    }
   },
   "outputs": [
    {
     "name": "stdout",
     "output_type": "stream",
     "text": [
      "00:00:40 verbose #345 test_port_open / ex: System.AggregateException: One or more errors occurred. (Connection refused)\n",
      "00:00:39 debug #87 execute_with_options_async / options: struct (Some System.Threading.CancellationToken,\n",
      "        \"dotnet \"/home/runner/work/polyglot/polyglot/deps/The-Spiral-Language/The Spiral Language 2/artifacts/bin/The Spiral Language 2/release/Spiral.dll\" --port 13805 --default-int i32 --default-float f64\",\n",
      "        Some <fun:it@4-196>, Some \"/home/runner/work/polyglot/polyglot\")\n",
      "00:00:40 verbose #88 > pwd: /home/runner/work/polyglot/polyglot\n",
      "00:00:40 verbose #89 > dllPath: /home/runner/work/polyglot/polyglot/deps/The-Spiral-Language/The Spiral Language 2/artifacts/bin/The Spiral Language 2/release\n",
      "00:00:40 verbose #90 > targetDir: /home/runner/work/polyglot/polyglot/target/polyglot/spiral_eval\n",
      "00:00:41 verbose #346 test_port_open / ex: System.AggregateException: One or more errors occurred. (Connection refused)\n",
      "00:00:41 verbose #347 wait_for_port_access / port: 13805 / retry: 0\n",
      "00:00:41 verbose #348 test_port_open / ex: System.AggregateException: One or more errors occurred. (Connection refused)\n",
      "00:00:41 verbose #349 test_port_open / ex: System.AggregateException: One or more errors occurred. (Connection refused)\n",
      "00:00:41 verbose #350 test_port_open / ex: System.AggregateException: One or more errors occurred. (Connection refused)\n",
      "00:00:41 verbose #351 test_port_open / ex: System.AggregateException: One or more errors occurred. (Connection refused)\n",
      "00:00:41 verbose #352 test_port_open / ex: System.AggregateException: One or more errors occurred. (Connection refused)\n",
      "00:00:41 verbose #353 test_port_open / ex: System.AggregateException: One or more errors occurred. (Connection refused)\n",
      "00:00:41 verbose #354 test_port_open / ex: System.AggregateException: One or more errors occurred. (Connection refused)\n",
      "00:00:41 verbose #355 test_port_open / ex: System.AggregateException: One or more errors occurred. (Connection refused)\n",
      "00:00:41 verbose #356 test_port_open / ex: System.AggregateException: One or more errors occurred. (Connection refused)\n",
      "00:00:41 verbose #357 test_port_open / ex: System.AggregateException: One or more errors occurred. (Connection refused)\n",
      "00:00:41 verbose #358 test_port_open / ex: System.AggregateException: One or more errors occurred. (Connection refused)\n",
      "00:00:41 verbose #359 test_port_open / ex: System.AggregateException: One or more errors occurred. (Connection refused)\n",
      "00:00:41 verbose #360 test_port_open / ex: System.AggregateException: One or more errors occurred. (Connection refused)\n",
      "00:00:41 verbose #361 test_port_open / ex: System.AggregateException: One or more errors occurred. (Connection refused)\n",
      "00:00:41 verbose #362 test_port_open / ex: System.AggregateException: One or more errors occurred. (Connection refused)\n",
      "00:00:41 verbose #363 test_port_open / ex: System.AggregateException: One or more errors occurred. (Connection refused)\n",
      "00:00:41 verbose #364 test_port_open / ex: System.AggregateException: One or more errors occurred. (Connection refused)\n",
      "00:00:41 verbose #365 test_port_open / ex: System.AggregateException: One or more errors occurred. (Connection refused)\n",
      "00:00:41 verbose #366 test_port_open / ex: System.AggregateException: One or more errors occurred. (Connection refused)\n",
      "00:00:41 verbose #367 test_port_open / ex: System.AggregateException: One or more errors occurred. (Connection refused)\n",
      "00:00:41 verbose #368 test_port_open / ex: System.AggregateException: One or more errors occurred. (Connection refused)\n",
      "00:00:40 verbose #91 > Starting the Spiral Server. It is bound to: http://localhost:13805\n",
      "00:00:41 verbose #369 test_port_open / ex: System.AggregateException: One or more errors occurred. (Connection refused)\n",
      "00:00:41 verbose #370 test_port_open / ex: System.AggregateException: One or more errors occurred. (Connection refused)\n",
      "00:00:41 verbose #371 test_port_open / ex: System.AggregateException: One or more errors occurred. (Connection refused)\n",
      "00:00:39 debug #116 sendJson / port: 13805 / json: {\"Ping\":true} / result.Length:\n",
      "00:00:39 verbose #117 awaitCompiler / Ping / result: Some(null) / port: 13805 / retry: 0\n",
      "00:00:40 verbose #92 > Server bound to: http://localhost:13805\n",
      "00:00:39 debug #118 sendJson / port: 13805 / json: {\"FileOpen\":{\"spiText\":\"inl main () = ()\",\"uri\":\"file:///home/runner/work/polyglot/polyglot/target/polyglot/spiral_eval/packages/fb6c8d45c45c5bed6706c564f1573e80b77a3923967ce83cb69737ce2ce5040c/main.spi\"}} / result.Length:\n",
      "00:00:39 debug #119 sendJson / port: 13805 / json: {\"FileTokenRange\":{\"range\":[{\"character\":0,\"line\":0},{\"character\":16,\"line\":0}],\"uri\":\"file:///home/runner/work/polyglot/polyglot/target/polyglot/spiral_eval/packages/fb6c8d45c45c5bed6706c564f1573e80b77a3923967ce83cb69737ce2ce5040c/main.spi\"}} / result.Length: Some(177)\n",
      "00:00:41 verbose #372 wait_for_port_access / port: 13805 / retry: 0\n",
      "00:00:41 verbose #373 test_port_open / ex: System.AggregateException: One or more errors occurred. (Connection refused)\n",
      "FSharpOption<Int32[]>\n",
      "      Value: [ 0, 0, 3, 7, 0, 0, 4, 4, 0, 0, 0, 5, 1, 8, 0, 0, 1, 1, 8, 0, 0, 2, 1, 4, 0, 0, 2, 1, 8, 0, 0, 1, 1, 8, 0 ]\n"
     ]
    }
   ],
   "source": [
    "//// test\n",
    "\n",
    "\"\"\"inl main () = ()\"\"\"\n",
    "|> getCodeTokenRange None\n",
    "|> Async.runWithTimeout 10000\n",
    "|> Option.flatten\n",
    "|> _assertEqual (Some [| 0; 0; 3; 7; 0; 0; 4; 4; 0; 0; 0; 5; 1; 8; 0; 0; 1; 1; 8; 0; 0; 2; 1; 4; 0; 0;\n",
    "2; 1; 8; 0; 0; 1; 1; 8; 0 |])"
   ]
  },
  {
   "cell_type": "code",
   "execution_count": null,
   "metadata": {
    "dotnet_interactive": {
     "language": "fsharp"
    },
    "polyglot_notebook": {
     "kernelName": "fsharp"
    }
   },
   "outputs": [
    {
     "name": "stdout",
     "output_type": "stream",
     "text": [
      "00:00:42 verbose #374 test_port_open / ex: System.AggregateException: One or more errors occurred. (Connection refused)\n",
      "00:00:41 debug #93 execute_with_options_async / options: struct (Some System.Threading.CancellationToken,\n",
      "        \"dotnet \"/home/runner/work/polyglot/polyglot/deps/The-Spiral-Language/The Spiral Language 2/artifacts/bin/The Spiral Language 2/release/Spiral.dll\" --port 13805 --default-int i32 --default-float f64\",\n",
      "        Some <fun:it@4-343>, Some \"/home/runner/work/polyglot/polyglot\")\n",
      "00:00:41 verbose #94 > pwd: /home/runner/work/polyglot/polyglot\n",
      "00:00:41 verbose #95 > dllPath: /home/runner/work/polyglot/polyglot/deps/The-Spiral-Language/The Spiral Language 2/artifacts/bin/The Spiral Language 2/release\n",
      "00:00:41 verbose #96 > targetDir: /home/runner/work/polyglot/polyglot/target/polyglot/spiral_eval\n",
      "00:00:42 verbose #375 test_port_open / ex: System.AggregateException: One or more errors occurred. (Connection refused)\n",
      "00:00:42 verbose #376 wait_for_port_access / port: 13805 / retry: 0\n",
      "00:00:42 verbose #377 test_port_open / ex: System.AggregateException: One or more errors occurred. (Connection refused)\n",
      "00:00:42 verbose #378 test_port_open / ex: System.AggregateException: One or more errors occurred. (Connection refused)\n",
      "00:00:42 verbose #379 test_port_open / ex: System.AggregateException: One or more errors occurred. (Connection refused)\n",
      "00:00:42 verbose #380 test_port_open / ex: System.AggregateException: One or more errors occurred. (Connection refused)\n",
      "00:00:42 verbose #381 test_port_open / ex: System.AggregateException: One or more errors occurred. (Connection refused)\n",
      "00:00:42 verbose #382 test_port_open / ex: System.AggregateException: One or more errors occurred. (Connection refused)\n",
      "00:00:42 verbose #383 test_port_open / ex: System.AggregateException: One or more errors occurred. (Connection refused)\n",
      "00:00:42 verbose #384 test_port_open / ex: System.AggregateException: One or more errors occurred. (Connection refused)\n",
      "00:00:42 verbose #385 test_port_open / ex: System.AggregateException: One or more errors occurred. (Connection refused)\n",
      "00:00:42 verbose #386 test_port_open / ex: System.AggregateException: One or more errors occurred. (Connection refused)\n",
      "00:00:42 verbose #387 test_port_open / ex: System.AggregateException: One or more errors occurred. (Connection refused)\n",
      "00:00:42 verbose #388 test_port_open / ex: System.AggregateException: One or more errors occurred. (Connection refused)\n",
      "00:00:42 verbose #389 test_port_open / ex: System.AggregateException: One or more errors occurred. (Connection refused)\n",
      "00:00:42 verbose #390 test_port_open / ex: System.AggregateException: One or more errors occurred. (Connection refused)\n",
      "00:00:42 verbose #391 test_port_open / ex: System.AggregateException: One or more errors occurred. (Connection refused)\n",
      "00:00:42 verbose #392 test_port_open / ex: System.AggregateException: One or more errors occurred. (Connection refused)\n",
      "00:00:42 verbose #393 test_port_open / ex: System.AggregateException: One or more errors occurred. (Connection refused)\n",
      "00:00:42 verbose #394 test_port_open / ex: System.AggregateException: One or more errors occurred. (Connection refused)\n",
      "00:00:42 verbose #395 test_port_open / ex: System.AggregateException: One or more errors occurred. (Connection refused)\n",
      "00:00:41 verbose #97 > Starting the Spiral Server. It is bound to: http://localhost:13805\n",
      "00:00:42 verbose #396 test_port_open / ex: System.AggregateException: One or more errors occurred. (Connection refused)\n",
      "00:00:42 verbose #397 test_port_open / ex: System.AggregateException: One or more errors occurred. (Connection refused)\n",
      "00:00:42 verbose #398 test_port_open / ex: System.AggregateException: One or more errors occurred. (Connection refused)\n",
      "00:00:40 debug #120 sendJson / port: 13805 / json: {\"Ping\":true} / result.Length:\n",
      "00:00:40 verbose #121 awaitCompiler / Ping / result: Some(null) / port: 13805 / retry: 0\n",
      "00:00:42 verbose #98 > Server bound to: http://localhost:13805\n",
      "00:00:40 debug #122 sendJson / port: 13805 / json: {\"FileOpen\":{\"spiText\":\"inl main () = 1i32\",\"uri\":\"file:///home/runner/work/polyglot/polyglot/target/polyglot/spiral_eval/packages/9df95a2f18642bd8d2f682f6edb6cef45c30ca9c616b33ebb0e5577eed14871c/main.spi\"}} / result.Length:\n",
      "00:00:40 debug #123 sendJson / port: 13805 / json: {\"FileTokenRange\":{\"range\":[{\"character\":0,\"line\":0},{\"character\":18,\"line\":0}],\"uri\":\"file:///home/runner/work/polyglot/polyglot/target/polyglot/spiral_eval/packages/9df95a2f18642bd8d2f682f6edb6cef45c30ca9c616b33ebb0e5577eed14871c/main.spi\"}} / result.Length: Some(178)\n",
      "00:00:43 verbose #399 wait_for_port_access / port: 13805 / retry: 0\n",
      "00:00:43 verbose #400 test_port_open / ex: System.AggregateException: One or more errors occurred. (Connection refused)\n",
      "FSharpOption<Int32[]>\n",
      "      Value: [ 0, 0, 3, 7, 0, 0, 4, 4, 0, 0, 0, 5, 1, 8, 0, 0, 1, 1, 8, 0, 0, 2, 1, 4, 0, 0, 2, 1, 3, 0, 0, 1, 3, 12, 0 ]\n"
     ]
    }
   ],
   "source": [
    "//// test\n",
    "\n",
    "\"\"\"inl main () = 1i32\"\"\"\n",
    "|> getCodeTokenRange None\n",
    "|> Async.runWithTimeout 10000\n",
    "|> Option.flatten\n",
    "|> _assertEqual (Some [| 0; 0; 3; 7; 0; 0; 4; 4; 0; 0; 0; 5; 1; 8; 0; 0; 1; 1; 8; 0; 0; 2; 1; 4; 0; 0;\n",
    "2; 1; 3; 0; 0; 1; 3; 12; 0 |])"
   ]
  },
  {
   "cell_type": "markdown",
   "metadata": {},
   "source": [
    "## Arguments"
   ]
  },
  {
   "cell_type": "code",
   "execution_count": null,
   "metadata": {
    "dotnet_interactive": {
     "language": "fsharp"
    },
    "polyglot_notebook": {
     "kernelName": "fsharp"
    }
   },
   "outputs": [],
   "source": [
    "[<RequireQualifiedAccess>]\n",
    "type Arguments =\n",
    "    | Build_File of string * string\n",
    "    | File_Token_Range of string * string\n",
    "    | Execute_Command of string\n",
    "    | [<Argu.ArguAttributes.Unique>] Timeout of int\n",
    "    | [<Argu.ArguAttributes.Unique>] Port of int\n",
    "    | [<Argu.ArguAttributes.Unique>] Parallel\n",
    "\n",
    "    interface Argu.IArgParserTemplate with\n",
    "        member s.Usage =\n",
    "            match s with\n",
    "            | Build_File _ -> nameof Build_File\n",
    "            | File_Token_Range _ -> nameof File_Token_Range\n",
    "            | Execute_Command _ -> nameof Execute_Command\n",
    "            | Timeout _ -> nameof Timeout\n",
    "            | Port _ -> nameof Port\n",
    "            | Parallel -> nameof Parallel"
   ]
  },
  {
   "cell_type": "code",
   "execution_count": null,
   "metadata": {
    "dotnet_interactive": {
     "language": "fsharp"
    },
    "polyglot_notebook": {
     "kernelName": "fsharp"
    }
   },
   "outputs": [
    {
     "data": {
      "text/plain": [
       "USAGE: dotnet-repl [--help] [--build-file <string> <string>]\n",
       "                   [--file-token-range <string> <string>]\n",
       "                   [--execute-command <string>] [--timeout <int>] [--port <int>]\n",
       "                   [--parallel]\n",
       "\n",
       "OPTIONS:\n",
       "\n",
       "    --build-file <string> <string>\n",
       "                          Build_File\n",
       "    --file-token-range <string> <string>\n",
       "                          File_Token_Range\n",
       "    --execute-command <string>\n",
       "                          Execute_Command\n",
       "    --timeout <int>       Timeout\n",
       "    --port <int>          Port\n",
       "    --parallel            Parallel\n",
       "    --help                display this list of options.\n"
      ]
     },
     "metadata": {},
     "output_type": "display_data"
    }
   ],
   "source": [
    "//// test\n",
    "\n",
    "Argu.ArgumentParser.Create<Arguments>().PrintUsage ()"
   ]
  },
  {
   "cell_type": "markdown",
   "metadata": {},
   "source": [
    "## main"
   ]
  },
  {
   "cell_type": "code",
   "execution_count": null,
   "metadata": {
    "dotnet_interactive": {
     "language": "fsharp"
    },
    "polyglot_notebook": {
     "kernelName": "fsharp"
    }
   },
   "outputs": [],
   "source": [
    "let main args =\n",
    "    let argsMap = args |> Runtime.parseArgsMap<Arguments>\n",
    "\n",
    "    let buildFileActions =\n",
    "        argsMap\n",
    "        |> Map.tryFind (nameof Arguments.Build_File)\n",
    "        |> Option.defaultValue []\n",
    "        |> List.choose (function\n",
    "            | Arguments.Build_File (inputPath, outputPath) -> Some (inputPath, outputPath)\n",
    "            | _ -> None\n",
    "        )\n",
    "\n",
    "    let fileTokenRangeActions =\n",
    "        argsMap\n",
    "        |> Map.tryFind (nameof Arguments.File_Token_Range)\n",
    "        |> Option.defaultValue []\n",
    "        |> List.choose (function\n",
    "            | Arguments.File_Token_Range (inputPath, outputPath) -> Some (inputPath, outputPath)\n",
    "            | _ -> None\n",
    "        )\n",
    "\n",
    "    let executeCommandActions =\n",
    "        argsMap\n",
    "        |> Map.tryFind (nameof Arguments.Execute_Command)\n",
    "        |> Option.defaultValue []\n",
    "        |> List.choose (function\n",
    "            | Arguments.Execute_Command command -> Some command\n",
    "            | _ -> None\n",
    "        )\n",
    "\n",
    "    let timeout =\n",
    "        match argsMap |> Map.tryFind (nameof Arguments.Timeout) with\n",
    "        | Some [ Arguments.Timeout timeout ] -> timeout\n",
    "        | _ -> 60000 * 60\n",
    "\n",
    "    let port =\n",
    "        match argsMap |> Map.tryFind (nameof Arguments.Port) with\n",
    "        | Some [ Arguments.Port port ] -> Some port\n",
    "        | _ -> None\n",
    "\n",
    "    let isParallel = argsMap |> Map.containsKey (nameof Arguments.Parallel)\n",
    "\n",
    "    async {\n",
    "        let port = port |> Option.defaultWith getCompilerPort\n",
    "        let struct (localToken, disposable) = SpiralThreading.new_disposable_token None\n",
    "        let! serverPort, _errors, compilerToken, disposable = awaitCompiler port (Some localToken)\n",
    "        use _ = disposable\n",
    "\n",
    "        let buildFileAsync =\n",
    "            buildFileActions\n",
    "            |> List.map (fun (inputPath, outputPath) -> async {\n",
    "                let! outputCode, errors = inputPath |> buildFile timeout serverPort None\n",
    "\n",
    "                errors\n",
    "                |> List.map snd\n",
    "                |> List.iter (fun error ->\n",
    "                    trace Critical (fun () -> $\"main / error: {error |> serializeObj}\") getLocals\n",
    "                )\n",
    "\n",
    "                match outputCode with\n",
    "                | Some outputCode ->\n",
    "                    do! outputCode |> SpiralFileSystem.write_all_text_async outputPath\n",
    "                    return 0\n",
    "                | None ->\n",
    "                    return 1\n",
    "            })\n",
    "\n",
    "        let fileTokenRangeAsync =\n",
    "            fileTokenRangeActions\n",
    "            |> List.map (fun (inputPath, outputPath) -> async {\n",
    "                let! tokenRange = inputPath |> getFileTokenRange (Some serverPort) None\n",
    "                match tokenRange with\n",
    "                | Some tokenRange ->\n",
    "                    do! tokenRange |> FSharp.Json.Json.serialize |> SpiralFileSystem.write_all_text_async outputPath\n",
    "                    return 0\n",
    "                | None ->\n",
    "                    return 1\n",
    "            })\n",
    "\n",
    "        let executeCommandAsync =\n",
    "            executeCommandActions\n",
    "            |> List.map (fun command -> async {\n",
    "                let! exitCode, result =\n",
    "                    SpiralRuntime.execute_with_options_async struct (Some compilerToken, command, None, None)\n",
    "\n",
    "                trace Debug (fun () -> $\"main / executeCommand / exitCode: {exitCode}\") getLocals\n",
    "\n",
    "                return exitCode\n",
    "            })\n",
    "\n",
    "        return!\n",
    "            [| buildFileAsync; fileTokenRangeAsync; executeCommandAsync |]\n",
    "            |> Seq.collect id\n",
    "            |> fun x ->\n",
    "                if isParallel\n",
    "                then Async.Parallel (x, float System.Environment.ProcessorCount * 0.51 |> ceil |> int)\n",
    "                else Async.Sequential x\n",
    "            |> Async.map Array.sum\n",
    "    }\n",
    "    |> Async.runWithTimeout timeout\n",
    "    |> Option.defaultValue 1"
   ]
  },
  {
   "cell_type": "code",
   "execution_count": null,
   "metadata": {
    "dotnet_interactive": {
     "language": "fsharp"
    },
    "polyglot_notebook": {
     "kernelName": "fsharp"
    }
   },
   "outputs": [
    {
     "data": {
      "text/html": [
       "<div class=\"dni-plaintext\"><pre>0</pre></div><style>\n",
       ".dni-code-hint {\n",
       "    font-style: italic;\n",
       "    overflow: hidden;\n",
       "    white-space: nowrap;\n",
       "}\n",
       ".dni-treeview {\n",
       "    white-space: nowrap;\n",
       "}\n",
       ".dni-treeview td {\n",
       "    vertical-align: top;\n",
       "    text-align: start;\n",
       "}\n",
       "details.dni-treeview {\n",
       "    padding-left: 1em;\n",
       "}\n",
       "table td {\n",
       "    text-align: start;\n",
       "}\n",
       "table tr { \n",
       "    vertical-align: top; \n",
       "    margin: 0em 0px;\n",
       "}\n",
       "table tr td pre \n",
       "{ \n",
       "    vertical-align: top !important; \n",
       "    margin: 0em 0px !important;\n",
       "} \n",
       "table th {\n",
       "    text-align: start;\n",
       "}\n",
       "</style>"
      ]
     },
     "metadata": {},
     "output_type": "display_data"
    }
   ],
   "source": [
    "//// test\n",
    "\n",
    "let args =\n",
    "    System.Environment.GetEnvironmentVariable \"ARGS\"\n",
    "    |> Runtime.splitArgs\n",
    "    |> Seq.toArray\n",
    "\n",
    "match args with\n",
    "| [||] -> 0\n",
    "| args -> if main args = 0 then 0 else failwith \"main failed\""
   ]
  }
 ],
 "metadata": {},
 "nbformat": 4,
 "nbformat_minor": 5
}