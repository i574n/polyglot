{
 "cells": [
  {
   "cell_type": "markdown",
   "metadata": {},
   "source": [
    "# Supervisor (Polyglot)"
   ]
  },
  {
   "cell_type": "code",
   "execution_count": null,
   "metadata": {
    "dotnet_interactive": {
     "language": "fsharp"
    },
    "polyglot_notebook": {
     "kernelName": "fsharp"
    }
   },
   "outputs": [],
   "source": [
    "#!import ../../lib/fsharp/Notebooks.dib\n",
    "#!import ../../lib/fsharp/Testing.dib"
   ]
  },
  {
   "cell_type": "code",
   "execution_count": null,
   "metadata": {
    "dotnet_interactive": {
     "language": "fsharp"
    },
    "polyglot_notebook": {
     "kernelName": "fsharp"
    }
   },
   "outputs": [],
   "source": [
    "#r @\"../../../../../../../.nuget/packages/fsharp.control.asyncseq/3.2.1/lib/netstandard2.1/FSharp.Control.AsyncSeq.dll\"\n",
    "#r @\"../../../../../../../.nuget/packages/system.reactive/6.0.1-preview.1/lib/net6.0/System.Reactive.dll\"\n",
    "#r @\"../../../../../../../.nuget/packages/system.reactive.linq/6.0.1-preview.1/lib/netstandard2.0/System.Reactive.Linq.dll\"\n",
    "#r @\"../../../../../../../.nuget/packages/argu/6.1.5/lib/netstandard2.0/Argu.dll\"\n",
    "#r @\"../../../../../../../.nuget/packages/system.commandline/2.0.0-beta4.22272.1/lib/net6.0/System.CommandLine.dll\"\n",
    "#r @\"../../../../../../../.nuget/packages/microsoft.aspnetcore.http.connections.common/7.0.0/lib/net7.0/Microsoft.AspNetCore.Http.Connections.Common.dll\"\n",
    "#r @\"../../../../../../../.nuget/packages/microsoft.aspnetcore.http.connections.client/7.0.0/lib/net7.0/Microsoft.AspNetCore.Http.Connections.Client.dll\"\n",
    "#r @\"../../../../../../../.nuget/packages/microsoft.aspnetcore.signalr.common/7.0.0/lib/net7.0/Microsoft.AspNetCore.SignalR.Common.dll\"\n",
    "#r @\"../../../../../../../.nuget/packages/microsoft.aspnetcore.signalr.client/7.0.0/lib/net7.0/Microsoft.AspNetCore.SignalR.Client.dll\"\n",
    "#r @\"../../../../../../../.nuget/packages/microsoft.aspnetcore.signalr.client.core/7.0.0/lib/net7.0/Microsoft.AspNetCore.SignalR.Client.Core.dll\"\n",
    "#r @\"../../../../../../../.nuget/packages/fsharp.json/0.4.1/lib/netstandard2.0/FSharp.Json.dll\""
   ]
  },
  {
   "cell_type": "code",
   "execution_count": null,
   "metadata": {
    "dotnet_interactive": {
     "language": "fsharp"
    },
    "polyglot_notebook": {
     "kernelName": "fsharp"
    }
   },
   "outputs": [],
   "source": [
    "#!import ../../lib/fsharp/Common.fs\n",
    "#!import ../../lib/fsharp/CommonFSharp.fs\n",
    "#!import ../../lib/fsharp/Threading.fs\n",
    "#!import ../../lib/fsharp/Async.fs\n",
    "#!import ../../lib/fsharp/AsyncSeq.fs\n",
    "#!import ../../lib/fsharp/Networking.fs\n",
    "#!import ../../lib/fsharp/Runtime.fs\n",
    "#!import ../../lib/fsharp/FileSystem.fs"
   ]
  },
  {
   "cell_type": "code",
   "execution_count": null,
   "metadata": {
    "dotnet_interactive": {
     "language": "fsharp"
    },
    "polyglot_notebook": {
     "kernelName": "fsharp"
    }
   },
   "outputs": [],
   "source": [
    "open Common\n",
    "open FileSystem.Operators\n",
    "open Microsoft.AspNetCore.SignalR.Client"
   ]
  },
  {
   "cell_type": "markdown",
   "metadata": {},
   "source": [
    "## sendJson"
   ]
  },
  {
   "cell_type": "code",
   "execution_count": null,
   "metadata": {
    "dotnet_interactive": {
     "language": "fsharp"
    },
    "polyglot_notebook": {
     "kernelName": "fsharp"
    }
   },
   "outputs": [],
   "source": [
    "let inline sendJson (port : int) (json : string) = async {\n",
    "    let! portOpen = Networking.testPortOpen port\n",
    "    if portOpen then\n",
    "        try\n",
    "            let connection = HubConnectionBuilder().WithUrl($\"http://127.0.0.1:{port}\").Build()\n",
    "            do! connection.StartAsync () |> Async.AwaitTask\n",
    "            let! result = connection.InvokeAsync<string>(\"ClientToServerMsg\", json) |> Async.AwaitTask\n",
    "            do! connection.StopAsync () |> Async.AwaitTask\n",
    "            trace Debug (fun () -> $\"sendJson / port: {port} / json: {json} / result.Length: {result |> Option.ofObj |> Option.map String.length}\") getLocals\n",
    "            return Some result\n",
    "        with ex ->\n",
    "            trace Critical (fun () -> $\"sendJson / port: {port} / json: {json} / ex: {ex |> printException}\") getLocals\n",
    "            return None\n",
    "    else\n",
    "        trace Debug (fun () -> \"sendJson / error: port not open\") getLocals\n",
    "        return None\n",
    "}"
   ]
  },
  {
   "cell_type": "markdown",
   "metadata": {},
   "source": [
    "## sendObj"
   ]
  },
  {
   "cell_type": "code",
   "execution_count": null,
   "metadata": {
    "dotnet_interactive": {
     "language": "fsharp"
    },
    "polyglot_notebook": {
     "kernelName": "fsharp"
    }
   },
   "outputs": [],
   "source": [
    "let inline sendObj port obj =\n",
    "    obj\n",
    "    |> System.Text.Json.JsonSerializer.Serialize\n",
    "    |> sendJson port"
   ]
  },
  {
   "cell_type": "markdown",
   "metadata": {},
   "source": [
    "## awaitCompiler"
   ]
  },
  {
   "cell_type": "code",
   "execution_count": null,
   "metadata": {
    "dotnet_interactive": {
     "language": "fsharp"
    },
    "polyglot_notebook": {
     "kernelName": "fsharp"
    }
   },
   "outputs": [],
   "source": [
    "type VSCPos = {| line : int; character : int |}\n",
    "type VSCRange = VSCPos * VSCPos\n",
    "type RString = VSCRange * string\n",
    "type TracedError = {| trace : string list; message : string |}\n",
    "type ClientErrorsRes =\n",
    "    | FatalError of string\n",
    "    | TracedError of TracedError\n",
    "    | PackageErrors of {| uri : string; errors : RString list |}\n",
    "    | TokenizerErrors of {| uri : string; errors : RString list |}\n",
    "    | ParserErrors of {| uri : string; errors : RString list |}\n",
    "    | TypeErrors of {| uri : string; errors : RString list |}"
   ]
  },
  {
   "cell_type": "code",
   "execution_count": null,
   "metadata": {
    "dotnet_interactive": {
     "language": "fsharp"
    },
    "polyglot_notebook": {
     "kernelName": "fsharp"
    }
   },
   "outputs": [],
   "source": [
    "let inline awaitCompiler port cancellationToken = async {\n",
    "    let! ct =\n",
    "        cancellationToken\n",
    "        |> Option.defaultValue System.Threading.CancellationToken.None\n",
    "        |> Async.mergeCancellationTokenWithDefaultAsync\n",
    "    \n",
    "    let cts = new System.Threading.CancellationTokenSource ()\n",
    "\n",
    "    let compiler = MailboxProcessor.Start (fun inbox -> async {\n",
    "        let! availablePort = Networking.getAvailablePort (Some 60) port\n",
    "        if availablePort <> port then\n",
    "            inbox.Post port\n",
    "        else\n",
    "            let repositoryRoot = FileSystem.getSourceDirectory () |> FileSystem.findParent \".paket\" false\n",
    "\n",
    "            let compilerPath =\n",
    "                repositoryRoot </> \"deps/The-Spiral-Language/The Spiral Language 2/artifacts/bin/The Spiral Language 2/release\"\n",
    "                |> System.IO.Path.GetFullPath\n",
    "\n",
    "            let dllPath = compilerPath </> \"Spiral.dll\"\n",
    "\n",
    "            let! exitCode, result =\n",
    "                Runtime.executeWithOptionsAsync\n",
    "                    {\n",
    "                        Command = $@\"dotnet \"\"{dllPath}\"\" port={availablePort}\"\n",
    "                        CancellationToken = Some ct\n",
    "                        WorkingDirectory = None\n",
    "                        OnLine = Some <| fun { Line = line } -> async {\n",
    "                            if line |> String.contains $\"Server bound to: http://localhost:{availablePort}\" then\n",
    "                                do! Networking.waitForPortAccess (Some 500) true availablePort |> Async.Ignore\n",
    "\n",
    "                                let rec loop retry = async {\n",
    "                                    let getLocals () = $\"port: {availablePort} / retry: {retry} / {getLocals ()}\"\n",
    "                                    try\n",
    "                                        let pingObj = {| Ping = true |}\n",
    "                                        let! pingResult = pingObj |> sendObj availablePort\n",
    "                                        trace Verbose (fun () -> $\"awaitCompiler / Ping / result: {pingResult}\") getLocals\n",
    "                                    with ex ->\n",
    "                                        trace Verbose (fun () -> $\"awaitCompiler / Ping / ex: {ex |> printException}\") getLocals\n",
    "                                        do! Async.Sleep 10\n",
    "                                        do! loop (retry + 1)\n",
    "                                }\n",
    "                                do! loop 0\n",
    "                                inbox.Post availablePort\n",
    "                        }\n",
    "                    }\n",
    "            trace Debug (fun () -> $\"awaitCompiler / exitCode: {exitCode} / result: {result}\") getLocals\n",
    "            cts.Cancel ()\n",
    "    }, ct)\n",
    "\n",
    "    let! serverPort = compiler.Receive ()\n",
    "\n",
    "    let connection = HubConnectionBuilder().WithUrl($\"http://127.0.0.1:{serverPort}\").Build ()\n",
    "    do! connection.StartAsync () |> Async.AwaitTask\n",
    "\n",
    "    let event = Event<_> ()\n",
    "    let disposable = connection.On<string> (\"ServerToClientMsg\", event.Trigger)\n",
    "    let stream =\n",
    "        FSharp.Control.AsyncSeq.unfoldAsync\n",
    "            (fun () -> async {\n",
    "                let! msg = event.Publish |> Async.AwaitEvent\n",
    "                return Some (msg |> FSharp.Json.Json.deserialize<ClientErrorsRes>, ())\n",
    "            })\n",
    "            ()\n",
    "\n",
    "    let disposable =\n",
    "        newDisposable (fun () ->\n",
    "            disposable.Dispose ()\n",
    "            connection.StopAsync () |> Async.AwaitTask |> Async.StartImmediate\n",
    "        )\n",
    "\n",
    "    return\n",
    "        serverPort,\n",
    "        stream,\n",
    "        cts.Token,\n",
    "        disposable\n",
    "}"
   ]
  },
  {
   "cell_type": "markdown",
   "metadata": {},
   "source": [
    "## getFileUri"
   ]
  },
  {
   "cell_type": "code",
   "execution_count": null,
   "metadata": {
    "dotnet_interactive": {
     "language": "fsharp"
    },
    "polyglot_notebook": {
     "kernelName": "fsharp"
    }
   },
   "outputs": [],
   "source": [
    "let inline getFileUri path =\n",
    "    $\"file:///{path |> String.trimStart [| '/' |]}\""
   ]
  },
  {
   "cell_type": "code",
   "execution_count": null,
   "metadata": {
    "dotnet_interactive": {
     "language": "fsharp"
    },
    "polyglot_notebook": {
     "kernelName": "fsharp"
    }
   },
   "outputs": [],
   "source": [
    "let inline getFilePathFromUri uri =\n",
    "    match System.Uri.TryCreate (uri, System.UriKind.Absolute) with\n",
    "    | true, uri -> uri.AbsolutePath |> System.IO.Path.GetFullPath\n",
    "    | _ -> failwith \"invalid uri\""
   ]
  },
  {
   "cell_type": "code",
   "execution_count": null,
   "metadata": {
    "dotnet_interactive": {
     "language": "fsharp"
    },
    "polyglot_notebook": {
     "kernelName": "fsharp"
    }
   },
   "outputs": [],
   "source": [
    "let inline getCompilerPort () =\n",
    "    13805"
   ]
  },
  {
   "cell_type": "markdown",
   "metadata": {},
   "source": [
    "## buildFile"
   ]
  },
  {
   "cell_type": "code",
   "execution_count": null,
   "metadata": {
    "dotnet_interactive": {
     "language": "fsharp"
    },
    "polyglot_notebook": {
     "kernelName": "fsharp"
    }
   },
   "outputs": [],
   "source": [
    "let inline buildFile timeout port cancellationToken path = async {\n",
    "    let fullPath = path |> System.IO.Path.GetFullPath\n",
    "    let fileDir = fullPath |> System.IO.Path.GetDirectoryName\n",
    "    let fileName = fullPath |> System.IO.Path.GetFileNameWithoutExtension\n",
    "    let! code = fullPath |> FileSystem.readAllTextAsync\n",
    "\n",
    "    let eventFilter = function\n",
    "        | FileSystem.FileSystemChange.Changed (path, _) when path = $\"{fileName}.fsx\" -> true\n",
    "        | _ -> false\n",
    "\n",
    "    let stream, disposable = fileDir |> FileSystem.watchDirectory eventFilter\n",
    "    use _ = disposable\n",
    "\n",
    "    let token, disposable = Threading.newDisposableToken cancellationToken\n",
    "    use _ = disposable\n",
    "\n",
    "    let! serverPort, errors, ct, disposable = awaitCompiler port (Some token)\n",
    "    use _ = disposable\n",
    "\n",
    "    let fsxContentSeq =\n",
    "        stream\n",
    "        |> FSharp.Control.AsyncSeq.choose (function\n",
    "            | _, (FileSystem.FileSystemChange.Changed (path, Some content) as event)\n",
    "                when event |> eventFilter\n",
    "                ->\n",
    "                Some content\n",
    "            | _ -> None\n",
    "        )\n",
    "        |> FSharp.Control.AsyncSeq.map (fun content ->\n",
    "            Some (content |> String.replace \"\\r\\n\" \"\\n\"), None\n",
    "        )\n",
    "\n",
    "    let inline printErrorData (data : {| uri : string; errors : RString list |}) =\n",
    "        let fileName = data.uri |> System.IO.Path.GetFileName\n",
    "        let errors =\n",
    "            data.errors\n",
    "            |> List.map snd\n",
    "            |> String.concat \"\\n\"\n",
    "        $\"{fileName}:\\n{errors}\"\n",
    "\n",
    "    let errorsSeq =\n",
    "        errors\n",
    "        |> FSharp.Control.AsyncSeq.choose (fun error ->\n",
    "            match error with\n",
    "            | FatalError message ->\n",
    "                Some (message, error)\n",
    "            | TracedError data ->\n",
    "                Some (data.message, error)\n",
    "            | PackageErrors data when data.errors |> List.isEmpty |> not ->\n",
    "                Some (data |> printErrorData, error)\n",
    "            | TokenizerErrors data when data.errors |> List.isEmpty |> not ->\n",
    "                Some (data |> printErrorData, error)\n",
    "            | ParserErrors data when data.errors |> List.isEmpty |> not ->\n",
    "                Some (data |> printErrorData, error)\n",
    "            | TypeErrors data when data.errors |> List.isEmpty |> not ->\n",
    "                Some (data |> printErrorData, error)\n",
    "            | _ -> None\n",
    "        )\n",
    "        |> FSharp.Control.AsyncSeq.map (fun (message, error) ->\n",
    "            None, Some (message, error)\n",
    "        )\n",
    "    \n",
    "    let timerSeq =\n",
    "        1000\n",
    "        |> FSharp.Control.AsyncSeq.intervalMs\n",
    "        |> FSharp.Control.AsyncSeq.map (fun _ -> None, None)\n",
    "\n",
    "    let outputSeq =\n",
    "        [ fsxContentSeq; errorsSeq; timerSeq ]\n",
    "        |> FSharp.Control.AsyncSeq.mergeAll\n",
    "\n",
    "    let! outputChild =\n",
    "        ((None, [], 0), outputSeq)\n",
    "        ||> FSharp.Control.AsyncSeq.scan (\n",
    "            fun (fsxContentResult, errors, typeErrorCount) (fsxContent, error) ->\n",
    "                match fsxContent, error with\n",
    "                | Some fsxContent, None -> Some fsxContent, errors, typeErrorCount\n",
    "                | None, Some (_, FatalError \"File main has a type error somewhere in its path.\") ->\n",
    "                    fsxContentResult, errors, typeErrorCount + 1\n",
    "                | None, Some error -> fsxContentResult, error :: errors, typeErrorCount\n",
    "                | None, None when typeErrorCount >= 1 ->\n",
    "                    fsxContentResult, errors, typeErrorCount + 1\n",
    "                | _ -> fsxContentResult, errors, typeErrorCount\n",
    "        )\n",
    "        |> FSharp.Control.AsyncSeq.takeWhileInclusive (fun (fsxContent, errors, typeErrorCount) ->\n",
    "            trace Debug (fun () -> $\"buildFile / takeWhileInclusive / fsxContent: {fsxContent |> Option.defaultValue System.String.Empty |> String.ellipsis 750} / errors: {errors} / typeErrorCount: {typeErrorCount}\") getLocals\n",
    "            match fsxContent, errors with\n",
    "            | None, [] when typeErrorCount > 2 -> false\n",
    "            | None, [] -> true\n",
    "            | _ -> false\n",
    "        )\n",
    "        |> FSharp.Control.AsyncSeq.tryLast\n",
    "        |> Async.withCancellationToken ct\n",
    "        |> Async.catch\n",
    "        |> Async.runWithTimeoutAsync timeout\n",
    "        |> Async.StartChild\n",
    "\n",
    "    let fileOpenObj = {| FileOpen = {| uri = fullPath |> getFileUri; spiText = code |} |}\n",
    "    let! _fileOpenResult = fileOpenObj |> sendObj serverPort\n",
    "\n",
    "    do! Async.Sleep 60\n",
    "\n",
    "    let buildFileObj = {| BuildFile = {| uri = fullPath |> getFileUri; backend = \"Fsharp\" |} |}\n",
    "    let! _buildFileResult = buildFileObj |> sendObj serverPort\n",
    "\n",
    "    return!\n",
    "        outputChild\n",
    "        |> Async.map (function\n",
    "            | Some (Ok (Some (message, errors, _))) -> message, errors |> List.distinct |> List.rev\n",
    "            | Some (Error ex) ->\n",
    "                trace Critical (fun () -> $\"buildFile / error: {ex |> printException}\") getLocals\n",
    "                None, []\n",
    "            | _ -> None, []\n",
    "        )\n",
    "}"
   ]
  },
  {
   "cell_type": "markdown",
   "metadata": {},
   "source": [
    "## persistCode"
   ]
  },
  {
   "cell_type": "code",
   "execution_count": null,
   "metadata": {
    "dotnet_interactive": {
     "language": "fsharp"
    },
    "polyglot_notebook": {
     "kernelName": "fsharp"
    }
   },
   "outputs": [],
   "source": [
    "let inline persistCode code = async {\n",
    "    let tempDir = FileSystem.createTempDirectory ()\n",
    "\n",
    "    let mainPath = tempDir </> \"main.spi\"\n",
    "    do! code |> FileSystem.writeAllTextAsync mainPath\n",
    "\n",
    "    let repositoryRoot = FileSystem.getSourceDirectory () |> FileSystem.findParent \".paket\" false\n",
    "\n",
    "    let spiprojPath = tempDir </> \"package.spiproj\"\n",
    "    let spiprojCode =\n",
    "        $\"\"\"packageDir: {repositoryRoot </> \"lib\"}\n",
    "packages:\n",
    "    |core-\n",
    "    spiral-\n",
    "modules:\n",
    "    main\n",
    "\"\"\"\n",
    "    do! spiprojCode |> FileSystem.writeAllTextAsync spiprojPath\n",
    "\n",
    "    let disposable = newDisposable (fun () ->\n",
    "        ()\n",
    "        // tempDir |> FileSystem.deleteDirectoryAsync |> Async.Ignore |> Async.RunSynchronously\n",
    "    )\n",
    "\n",
    "    return mainPath, disposable\n",
    "}"
   ]
  },
  {
   "cell_type": "markdown",
   "metadata": {},
   "source": [
    "## buildCode"
   ]
  },
  {
   "cell_type": "code",
   "execution_count": null,
   "metadata": {
    "dotnet_interactive": {
     "language": "fsharp"
    },
    "polyglot_notebook": {
     "kernelName": "fsharp"
    }
   },
   "outputs": [],
   "source": [
    "let inline buildCode timeout cancellationToken code = async {\n",
    "    let! mainPath, disposable = persistCode code\n",
    "    use _ = disposable\n",
    "    let port = getCompilerPort ()\n",
    "    return! mainPath |> buildFile timeout port cancellationToken\n",
    "}"
   ]
  },
  {
   "cell_type": "code",
   "execution_count": null,
   "metadata": {
    "dotnet_interactive": {
     "language": "fsharp"
    },
    "polyglot_notebook": {
     "kernelName": "fsharp"
    }
   },
   "outputs": [],
   "source": [
    "//// test\n",
    "\n",
    "let buildCode timeout cancellationToken code = buildCode timeout cancellationToken code"
   ]
  },
  {
   "cell_type": "code",
   "execution_count": null,
   "metadata": {
    "dotnet_interactive": {
     "language": "fsharp"
    },
    "polyglot_notebook": {
     "kernelName": "fsharp"
    }
   },
   "outputs": [
    {
     "name": "stdout",
     "output_type": "stream",
     "text": [
      "00:00:00 #1 [Verbose] testPortOpen / ex: System.AggregateException: One or more errors occurred. (Connection refused)\n",
      "00:00:00 #2 [Debug] executeAsync / options: { Command =\n",
      "   \"dotnet \"/home/runner/work/polyglot/polyglot/deps/The-Spiral-Language/The Spiral Language 2/artifacts/bin/The Spiral Language 2/release/Spiral.dll\" port=13805\"\n",
      "  WorkingDirectory = None\n",
      "  CancellationToken = Some System.Threading.CancellationToken\n",
      "  OnLine = Some <fun:buildCode@3-983> }\n",
      "00:00:00 #3 [Verbose] > pwd: /home/runner/work/polyglot/polyglot/apps/spiral\n",
      "00:00:00 #4 [Verbose] > dll_path: /home/runner/work/polyglot/polyglot/deps/The-Spiral-Language/The Spiral Language 2/artifacts/bin/The Spiral Language 2/release\n",
      "00:00:00 #5 [Verbose] testPortOpen / ex: System.AggregateException: One or more errors occurred. (Connection refused)\n",
      "00:00:00 #6 [Verbose] waitForPortAccess / port: 13805 / retry: 0\n",
      "00:00:00 #7 [Verbose] testPortOpen / ex: System.AggregateException: One or more errors occurred. (Connection refused)\n",
      "00:00:00 #8 [Verbose] testPortOpen / ex: System.AggregateException: One or more errors occurred. (Connection refused)\n",
      "00:00:00 #9 [Verbose] testPortOpen / ex: System.AggregateException: One or more errors occurred. (Connection refused)\n",
      "00:00:00 #10 [Verbose] testPortOpen / ex: System.AggregateException: One or more errors occurred. (Connection refused)\n",
      "00:00:00 #11 [Verbose] testPortOpen / ex: System.AggregateException: One or more errors occurred. (Connection refused)\n",
      "00:00:00 #12 [Verbose] testPortOpen / ex: System.AggregateException: One or more errors occurred. (Connection refused)\n",
      "00:00:00 #13 [Verbose] testPortOpen / ex: System.AggregateException: One or more errors occurred. (Connection refused)\n",
      "00:00:00 #14 [Verbose] testPortOpen / ex: System.AggregateException: One or more errors occurred. (Connection refused)\n",
      "00:00:00 #15 [Verbose] testPortOpen / ex: System.AggregateException: One or more errors occurred. (Connection refused)\n",
      "00:00:00 #16 [Verbose] testPortOpen / ex: System.AggregateException: One or more errors occurred. (Connection refused)\n",
      "00:00:00 #17 [Verbose] testPortOpen / ex: System.AggregateException: One or more errors occurred. (Connection refused)\n",
      "00:00:00 #18 [Verbose] testPortOpen / ex: System.AggregateException: One or more errors occurred. (Connection refused)\n",
      "00:00:00 #19 [Verbose] testPortOpen / ex: System.AggregateException: One or more errors occurred. (Connection refused)\n",
      "00:00:00 #20 [Verbose] testPortOpen / ex: System.AggregateException: One or more errors occurred. (Connection refused)\n",
      "00:00:00 #21 [Verbose] testPortOpen / ex: System.AggregateException: One or more errors occurred. (Connection refused)\n",
      "00:00:00 #22 [Verbose] testPortOpen / ex: System.AggregateException: One or more errors occurred. (Connection refused)\n",
      "00:00:00 #23 [Verbose] testPortOpen / ex: System.AggregateException: One or more errors occurred. (Connection refused)\n",
      "00:00:00 #24 [Verbose] testPortOpen / ex: System.AggregateException: One or more errors occurred. (Connection refused)\n",
      "00:00:00 #25 [Verbose] testPortOpen / ex: System.AggregateException: One or more errors occurred. (Connection refused)\n",
      "00:00:00 #26 [Verbose] testPortOpen / ex: System.AggregateException: One or more errors occurred. (Connection refused)\n",
      "00:00:00 #27 [Verbose] testPortOpen / ex: System.AggregateException: One or more errors occurred. (Connection refused)\n",
      "00:00:00 #28 [Verbose] testPortOpen / ex: System.AggregateException: One or more errors occurred. (Connection refused)\n",
      "00:00:00 #29 [Verbose] testPortOpen / ex: System.AggregateException: One or more errors occurred. (Connection refused)\n",
      "00:00:00 #30 [Verbose] testPortOpen / ex: System.AggregateException: One or more errors occurred. (Connection refused)\n",
      "00:00:00 #31 [Verbose] testPortOpen / ex: System.AggregateException: One or more errors occurred. (Connection refused)\n",
      "00:00:01 #32 [Verbose] testPortOpen / ex: System.AggregateException: One or more errors occurred. (Connection refused)\n",
      "00:00:01 #33 [Verbose] testPortOpen / ex: System.AggregateException: One or more errors occurred. (Connection refused)\n",
      "00:00:01 #34 [Verbose] testPortOpen / ex: System.AggregateException: One or more errors occurred. (Connection refused)\n",
      "00:00:01 #35 [Verbose] testPortOpen / ex: System.AggregateException: One or more errors occurred. (Connection refused)\n",
      "00:00:01 #36 [Verbose] testPortOpen / ex: System.AggregateException: One or more errors occurred. (Connection refused)\n",
      "00:00:01 #37 [Verbose] testPortOpen / ex: System.AggregateException: One or more errors occurred. (Connection refused)\n",
      "00:00:01 #38 [Verbose] testPortOpen / ex: System.AggregateException: One or more errors occurred. (Connection refused)\n",
      "00:00:01 #39 [Verbose] testPortOpen / ex: System.AggregateException: One or more errors occurred. (Connection refused)\n",
      "00:00:01 #40 [Verbose] testPortOpen / ex: System.AggregateException: One or more errors occurred. (Connection refused)\n",
      "00:00:01 #41 [Verbose] testPortOpen / ex: System.AggregateException: One or more errors occurred. (Connection refused)\n",
      "00:00:01 #42 [Verbose] testPortOpen / ex: System.AggregateException: One or more errors occurred. (Connection refused)\n",
      "00:00:01 #43 [Verbose] testPortOpen / ex: System.AggregateException: One or more errors occurred. (Connection refused)\n",
      "00:00:01 #44 [Verbose] testPortOpen / ex: System.AggregateException: One or more errors occurred. (Connection refused)\n",
      "00:00:01 #45 [Verbose] testPortOpen / ex: System.AggregateException: One or more errors occurred. (Connection refused)\n",
      "00:00:01 #46 [Verbose] testPortOpen / ex: System.AggregateException: One or more errors occurred. (Connection refused)\n",
      "00:00:01 #47 [Verbose] testPortOpen / ex: System.AggregateException: One or more errors occurred. (Connection refused)\n",
      "00:00:01 #48 [Verbose] testPortOpen / ex: System.AggregateException: One or more errors occurred. (Connection refused)\n",
      "00:00:01 #49 [Verbose] testPortOpen / ex: System.AggregateException: One or more errors occurred. (Connection refused)\n",
      "00:00:01 #50 [Verbose] testPortOpen / ex: System.AggregateException: One or more errors occurred. (Connection refused)\n",
      "00:00:01 #51 [Verbose] testPortOpen / ex: System.AggregateException: One or more errors occurred. (Connection refused)\n",
      "00:00:01 #52 [Verbose] testPortOpen / ex: System.AggregateException: One or more errors occurred. (Connection refused)\n",
      "00:00:01 #53 [Verbose] testPortOpen / ex: System.AggregateException: One or more errors occurred. (Connection refused)\n",
      "00:00:01 #54 [Verbose] testPortOpen / ex: System.AggregateException: One or more errors occurred. (Connection refused)\n",
      "00:00:01 #55 [Verbose] testPortOpen / ex: System.AggregateException: One or more errors occurred. (Connection refused)\n",
      "00:00:01 #56 [Verbose] testPortOpen / ex: System.AggregateException: One or more errors occurred. (Connection refused)\n",
      "00:00:01 #57 [Verbose] testPortOpen / ex: System.AggregateException: One or more errors occurred. (Connection refused)\n",
      "00:00:01 #58 [Verbose] testPortOpen / ex: System.AggregateException: One or more errors occurred. (Connection refused)\n",
      "00:00:01 #59 [Verbose] testPortOpen / ex: System.AggregateException: One or more errors occurred. (Connection refused)\n",
      "00:00:01 #60 [Verbose] testPortOpen / ex: System.AggregateException: One or more errors occurred. (Connection refused)\n",
      "00:00:01 #61 [Verbose] testPortOpen / ex: System.AggregateException: One or more errors occurred. (Connection refused)\n",
      "00:00:01 #62 [Verbose] testPortOpen / ex: System.AggregateException: One or more errors occurred. (Connection refused)\n",
      "00:00:01 #63 [Verbose] testPortOpen / ex: System.AggregateException: One or more errors occurred. (Connection refused)\n",
      "00:00:01 #64 [Verbose] testPortOpen / ex: System.AggregateException: One or more errors occurred. (Connection refused)\n",
      "00:00:01 #65 [Verbose] testPortOpen / ex: System.AggregateException: One or more errors occurred. (Connection refused)\n",
      "00:00:01 #66 [Verbose] testPortOpen / ex: System.AggregateException: One or more errors occurred. (Connection refused)\n",
      "00:00:01 #67 [Verbose] testPortOpen / ex: System.AggregateException: One or more errors occurred. (Connection refused)\n",
      "00:00:01 #68 [Verbose] testPortOpen / ex: System.AggregateException: One or more errors occurred. (Connection refused)\n",
      "00:00:01 #69 [Verbose] testPortOpen / ex: System.AggregateException: One or more errors occurred. (Connection refused)\n",
      "00:00:01 #70 [Verbose] testPortOpen / ex: System.AggregateException: One or more errors occurred. (Connection refused)\n",
      "00:00:01 #71 [Verbose] testPortOpen / ex: System.AggregateException: One or more errors occurred. (Connection refused)\n",
      "00:00:01 #72 [Verbose] testPortOpen / ex: System.AggregateException: One or more errors occurred. (Connection refused)\n",
      "00:00:01 #73 [Debug] sendJson / port: 13805 / json: {\"Ping\":true} / result.Length:\n",
      "00:00:01 #74 [Verbose] awaitCompiler / Ping / result: Some(null) / port: 13805 / retry: 0\n",
      "00:00:01 #75 [Verbose] > Server bound to: http://localhost:13805\n",
      "00:00:01 #76 [Debug] buildFile / takeWhileInclusive / fsxContent:  / errors: [] / typeErrorCount: 0\n",
      "00:00:01 #77 [Debug] buildFile / takeWhileInclusive / fsxContent:  / errors: [] / typeErrorCount: 0\n",
      "00:00:01 #78 [Debug] sendJson / port: 13805 / json: {\"FileOpen\":{\"spiText\":\"inl app () =\\n    console.write_line \\u0022text\\u0022\\n    1i32\\n\\ninl main () =\\n    app\\n    |\\u003E dyn\\n    |\\u003E ignore\\n\",\"uri\":\"file:///tmp/!dotnet-repl/20240213-1035-0866-6600-62f763dd0c66/main.spi\"}} / result.Length:\n",
      "00:00:02 #79 [Debug] sendJson / port: 13805 / json: {\"BuildFile\":{\"backend\":\"Fsharp\",\"uri\":\"file:///tmp/!dotnet-repl/20240213-1035-0866-6600-62f763dd0c66/main.spi\"}} / result.Length:\n",
      "00:00:02 #80 [Verbose] > Building /tmp/!dotnet-repl/20240213-1035-0866-6600-62f763dd0c66/main.spi\n",
      "00:00:02 #81 [Debug] buildFile / takeWhileInclusive / fsxContent:  / errors: [] / typeErrorCount: 0\n",
      "00:00:03 #82 [Debug] buildFile / takeWhileInclusive / fsxContent: let rec closure0 () () : int32 =\n",
      "    let v0 : string = \"text\"\n",
      "    System.Console.WriteLine v0\n",
      "    1\n",
      "let v0 : (unit -> int32) = closure0()\n",
      "()\n",
      " / errors: [] / typeErrorCount: 0\n",
      "00:00:03 #83 [Debug] watchWithFilter / Disposing watch stream / filter: FileName, LastWrite\n",
      "FSharpOption<Tuple<FSharpOption<String>,FSharpList<String>>>\n",
      "      Value:       - FSharpOption<String>\n",
      "          Value: let rec closure0 () () : int32 =\n",
      "    let v0 : string = \"text\"\n",
      "    System.Console.WriteLine v0\n",
      "    1\n",
      "let v0 : (unit -> int32) = closure0()\n",
      "()\n",
      "\n",
      "      - [  ]\n"
     ]
    }
   ],
   "source": [
    "//// test\n",
    "\n",
    "\"\"\"inl app () =\n",
    "    console.write_line \"text\"\n",
    "    1i32\n",
    "\n",
    "inl main () =\n",
    "    app\n",
    "    |> dyn\n",
    "    |> ignore\n",
    "\"\"\"\n",
    "|> buildCode 15000 None\n",
    "|> Async.runWithTimeout 15000\n",
    "|> Option.map (fun (fsxContent, errors) -> fsxContent, errors |> List.map fst)\n",
    "|> _equal (\n",
    "    Some (\n",
    "        Some \"\"\"let rec closure0 () () : int32 =\n",
    "    let v0 : string = \"text\"\n",
    "    System.Console.WriteLine v0\n",
    "    1\n",
    "let v0 : (unit -> int32) = closure0()\n",
    "()\n",
    "\"\"\",\n",
    "        []\n",
    "    )\n",
    ")"
   ]
  },
  {
   "cell_type": "code",
   "execution_count": null,
   "metadata": {
    "dotnet_interactive": {
     "language": "fsharp"
    },
    "polyglot_notebook": {
     "kernelName": "fsharp"
    }
   },
   "outputs": [
    {
     "name": "stdout",
     "output_type": "stream",
     "text": [
      "00:00:03 #84 [Verbose] testPortOpen / ex: System.AggregateException: One or more errors occurred. (Connection refused)\n",
      "00:00:03 #85 [Debug] executeAsync / options: { Command =\n",
      "   \"dotnet \"/home/runner/work/polyglot/polyglot/deps/The-Spiral-Language/The Spiral Language 2/artifacts/bin/The Spiral Language 2/release/Spiral.dll\" port=13805\"\n",
      "  WorkingDirectory = None\n",
      "  CancellationToken = Some System.Threading.CancellationToken\n",
      "  OnLine = Some <fun:buildCode@3-983> }\n",
      "00:00:03 #86 [Verbose] > pwd: /home/runner/work/polyglot/polyglot/apps/spiral\n",
      "00:00:03 #87 [Verbose] testPortOpen / ex: System.AggregateException: One or more errors occurred. (Connection refused)\n",
      "00:00:03 #88 [Verbose] waitForPortAccess / port: 13805 / retry: 0\n",
      "00:00:03 #89 [Verbose] > dll_path: /home/runner/work/polyglot/polyglot/deps/The-Spiral-Language/The Spiral Language 2/artifacts/bin/The Spiral Language 2/release\n",
      "00:00:03 #90 [Verbose] testPortOpen / ex: System.AggregateException: One or more errors occurred. (Connection refused)\n",
      "00:00:03 #91 [Verbose] testPortOpen / ex: System.AggregateException: One or more errors occurred. (Connection refused)\n",
      "00:00:03 #92 [Verbose] testPortOpen / ex: System.AggregateException: One or more errors occurred. (Connection refused)\n",
      "00:00:03 #93 [Verbose] testPortOpen / ex: System.AggregateException: One or more errors occurred. (Connection refused)\n",
      "00:00:03 #94 [Verbose] testPortOpen / ex: System.AggregateException: One or more errors occurred. (Connection refused)\n",
      "00:00:03 #95 [Verbose] testPortOpen / ex: System.AggregateException: One or more errors occurred. (Connection refused)\n",
      "00:00:03 #96 [Verbose] testPortOpen / ex: System.AggregateException: One or more errors occurred. (Connection refused)\n",
      "00:00:03 #97 [Verbose] testPortOpen / ex: System.AggregateException: One or more errors occurred. (Connection refused)\n",
      "00:00:03 #98 [Verbose] testPortOpen / ex: System.AggregateException: One or more errors occurred. (Connection refused)\n",
      "00:00:03 #99 [Debug] sendJson / port: 13805 / json: {\"Ping\":true} / result.Length:\n",
      "00:00:03 #100 [Verbose] awaitCompiler / Ping / result: Some(null) / port: 13805 / retry: 0\n",
      "00:00:03 #101 [Verbose] > Server bound to: http://localhost:13805\n",
      "00:00:03 #102 [Debug] buildFile / takeWhileInclusive / fsxContent:  / errors: [] / typeErrorCount: 0\n",
      "00:00:03 #103 [Debug] buildFile / takeWhileInclusive / fsxContent:  / errors: [] / typeErrorCount: 0\n",
      "00:00:03 #104 [Debug] sendJson / port: 13805 / json: {\"FileOpen\":{\"spiText\":\"\",\"uri\":\"file:///tmp/!dotnet-repl/20240213-1035-1208-0862-00ac23432526/main.spi\"}} / result.Length:\n",
      "00:00:03 #105 [Debug] sendJson / port: 13805 / json: {\"BuildFile\":{\"backend\":\"Fsharp\",\"uri\":\"file:///tmp/!dotnet-repl/20240213-1035-1208-0862-00ac23432526/main.spi\"}} / result.Length:\n",
      "00:00:04 #106 [Verbose] > Building /tmp/!dotnet-repl/20240213-1035-1208-0862-00ac23432526/main.spi\n",
      "00:00:04 #107 [Debug] buildFile / takeWhileInclusive / fsxContent:  / errors: [] / typeErrorCount: 0\n",
      "00:00:04 #108 [Verbose] > Cannot find `main` in file main.\n",
      "00:00:04 #109 [Verbose] > Build skipped for /tmp/!dotnet-repl/20240213-1035-1208-0862-00ac23432526/main.spi\n",
      "00:00:05 #110 [Debug] buildFile / takeWhileInclusive / fsxContent:  / errors: [] / typeErrorCount: 0\n",
      "00:00:06 #111 [Debug] buildFile / takeWhileInclusive / fsxContent:  / errors: [] / typeErrorCount: 0\n",
      "00:00:07 #112 [Debug] buildFile / takeWhileInclusive / fsxContent:  / errors: [] / typeErrorCount: 0\n",
      "00:00:08 #113 [Debug] buildFile / takeWhileInclusive / fsxContent:  / errors: [] / typeErrorCount: 0\n",
      "00:00:09 #114 [Debug] buildFile / takeWhileInclusive / fsxContent:  / errors: [] / typeErrorCount: 0\n",
      "00:00:10 #115 [Debug] buildFile / takeWhileInclusive / fsxContent:  / errors: [] / typeErrorCount: 0\n",
      "00:00:11 #116 [Debug] buildFile / takeWhileInclusive / fsxContent:  / errors: [] / typeErrorCount: 0\n",
      "00:00:12 #117 [Debug] buildFile / takeWhileInclusive / fsxContent:  / errors: [] / typeErrorCount: 0\n",
      "00:00:13 #118 [Debug] runWithTimeoutAsync / timeout: 10000\n",
      "00:00:13 #119 [Debug] watchWithFilter / Disposing watch stream / filter: FileName, LastWrite\n",
      "<null>\n"
     ]
    }
   ],
   "source": [
    "//// test\n",
    "\n",
    "\"\"\n",
    "|> buildCode 10000 None\n",
    "|> Async.runWithTimeout 10000\n",
    "|> _equal None"
   ]
  },
  {
   "cell_type": "code",
   "execution_count": null,
   "metadata": {
    "dotnet_interactive": {
     "language": "fsharp"
    },
    "polyglot_notebook": {
     "kernelName": "fsharp"
    }
   },
   "outputs": [
    {
     "name": "stdout",
     "output_type": "stream",
     "text": [
      "00:00:13 #120 [Verbose] testPortOpen / ex: System.AggregateException: One or more errors occurred. (Connection refused)\n",
      "00:00:13 #121 [Debug] executeAsync / options: { Command =\n",
      "   \"dotnet \"/home/runner/work/polyglot/polyglot/deps/The-Spiral-Language/The Spiral Language 2/artifacts/bin/The Spiral Language 2/release/Spiral.dll\" port=13805\"\n",
      "  WorkingDirectory = None\n",
      "  CancellationToken = Some System.Threading.CancellationToken\n",
      "  OnLine = Some <fun:buildCode@3-983> }\n",
      "00:00:13 #122 [Verbose] > pwd: /home/runner/work/polyglot/polyglot/apps/spiral\n",
      "00:00:13 #123 [Verbose] testPortOpen / ex: System.AggregateException: One or more errors occurred. (Connection refused)\n",
      "00:00:13 #124 [Verbose] waitForPortAccess / port: 13805 / retry: 0\n",
      "00:00:13 #125 [Verbose] > dll_path: /home/runner/work/polyglot/polyglot/deps/The-Spiral-Language/The Spiral Language 2/artifacts/bin/The Spiral Language 2/release\n",
      "00:00:13 #126 [Verbose] testPortOpen / ex: System.AggregateException: One or more errors occurred. (Connection refused)\n",
      "00:00:13 #127 [Verbose] testPortOpen / ex: System.AggregateException: One or more errors occurred. (Connection refused)\n",
      "00:00:13 #128 [Verbose] testPortOpen / ex: System.AggregateException: One or more errors occurred. (Connection refused)\n",
      "00:00:13 #129 [Verbose] testPortOpen / ex: System.AggregateException: One or more errors occurred. (Connection refused)\n",
      "00:00:13 #130 [Verbose] testPortOpen / ex: System.AggregateException: One or more errors occurred. (Connection refused)\n",
      "00:00:13 #131 [Verbose] testPortOpen / ex: System.AggregateException: One or more errors occurred. (Connection refused)\n",
      "00:00:13 #132 [Verbose] testPortOpen / ex: System.AggregateException: One or more errors occurred. (Connection refused)\n",
      "00:00:13 #133 [Verbose] testPortOpen / ex: System.AggregateException: One or more errors occurred. (Connection refused)\n",
      "00:00:13 #134 [Verbose] testPortOpen / ex: System.AggregateException: One or more errors occurred. (Connection refused)\n",
      "00:00:13 #135 [Verbose] testPortOpen / ex: System.AggregateException: One or more errors occurred. (Connection refused)\n",
      "00:00:13 #138 [Debug] sendJson / port: 13805 / json: {\"Ping\":true} / result.Length:\n",
      "00:00:13 #139 [Verbose] awaitCompiler / Ping / result: Some(null) / port: 13805 / retry: 0\n",
      "00:00:13 #140 [Verbose] > Server bound to: http://localhost:13805\n",
      "00:00:13 #141 [Debug] buildFile / takeWhileInclusive / fsxContent:  / errors: [] / typeErrorCount: 0\n",
      "00:00:13 #142 [Debug] buildFile / takeWhileInclusive / fsxContent:  / errors: [] / typeErrorCount: 0\n",
      "00:00:13 #143 [Debug] sendJson / port: 13805 / json: {\"FileOpen\":{\"spiText\":\"inl app () =\\n    0i32\\n\\ninl a = 1\\n\\ninl main () =\\n    app\\n    |\\u003E dyn\\n    |\\u003E ignore\\n\",\"uri\":\"file:///tmp/!dotnet-repl/20240213-1035-2220-2015-2db21c5db675/main.spi\"}} / result.Length:\n",
      "00:00:13 #144 [Debug] sendJson / port: 13805 / json: {\"BuildFile\":{\"backend\":\"Fsharp\",\"uri\":\"file:///tmp/!dotnet-repl/20240213-1035-2220-2015-2db21c5db675/main.spi\"}} / result.Length:\n",
      "00:00:14 #145 [Verbose] > Building /tmp/!dotnet-repl/20240213-1035-2220-2015-2db21c5db675/main.spi\n",
      "00:00:14 #146 [Debug] buildFile / takeWhileInclusive / fsxContent:  / errors: [(main.spi:\n",
      "Global inl/let statements should all return functions known at parse time., ParserErrors\n",
      "  { errors =\n",
      "     [(({ character = 0\n",
      "          line = 3 }, { character = 9\n",
      "                        line = 3 }),\n",
      "       \"Global inl/let statements should all return functions known at parse time.\")]\n",
      "    uri =\n",
      "     \"file:///tmp/!dotnet-repl/20240213-1035-2220-2015-2db21c5db675/main.spi\" })] / typeErrorCount: 0\n",
      "00:00:14 #147 [Debug] watchWithFilter / Disposing watch stream / filter: FileName, LastWrite\n",
      "FSharpOption<Tuple<FSharpOption<String>,FSharpList<String>>>\n",
      "      Value:       - <null>\n",
      "      - [ main.spi:\n",
      "Global inl/let statements should all return functions known at parse time. ]\n"
     ]
    }
   ],
   "source": [
    "//// test\n",
    "\n",
    "\"inl app () =\n",
    "    0i32\n",
    "\n",
    "inl a = 1\n",
    "\n",
    "inl main () =\n",
    "    app\n",
    "    |> dyn\n",
    "    |> ignore\n",
    "\"\n",
    "|> buildCode 10000 None\n",
    "|> Async.runWithTimeout 10000\n",
    "|> Option.map (fun (fsxContent, errors) -> fsxContent, errors |> List.map fst)\n",
    "|> _equal (\n",
    "    Some (\n",
    "        None,\n",
    "        [ \"main.spi:\n",
    "Global inl/let statements should all return functions known at parse time.\" ]\n",
    "    )\n",
    ")"
   ]
  },
  {
   "cell_type": "code",
   "execution_count": null,
   "metadata": {
    "dotnet_interactive": {
     "language": "fsharp"
    },
    "polyglot_notebook": {
     "kernelName": "fsharp"
    }
   },
   "outputs": [
    {
     "name": "stdout",
     "output_type": "stream",
     "text": [
      "00:00:14 #148 [Verbose] testPortOpen / ex: System.AggregateException: One or more errors occurred. (Connection refused)\n",
      "00:00:14 #149 [Debug] executeAsync / options: { Command =\n",
      "   \"dotnet \"/home/runner/work/polyglot/polyglot/deps/The-Spiral-Language/The Spiral Language 2/artifacts/bin/The Spiral Language 2/release/Spiral.dll\" port=13805\"\n",
      "  WorkingDirectory = None\n",
      "  CancellationToken = Some System.Threading.CancellationToken\n",
      "  OnLine = Some <fun:buildCode@3-983> }\n",
      "00:00:14 #150 [Verbose] > pwd: /home/runner/work/polyglot/polyglot/apps/spiral\n",
      "00:00:14 #151 [Verbose] testPortOpen / ex: System.AggregateException: One or more errors occurred. (Connection refused)\n",
      "00:00:14 #152 [Verbose] waitForPortAccess / port: 13805 / retry: 0\n",
      "00:00:14 #153 [Verbose] > dll_path: /home/runner/work/polyglot/polyglot/deps/The-Spiral-Language/The Spiral Language 2/artifacts/bin/The Spiral Language 2/release\n",
      "00:00:14 #154 [Verbose] testPortOpen / ex: System.AggregateException: One or more errors occurred. (Connection refused)\n",
      "00:00:14 #155 [Verbose] testPortOpen / ex: System.AggregateException: One or more errors occurred. (Connection refused)\n",
      "00:00:14 #156 [Verbose] testPortOpen / ex: System.AggregateException: One or more errors occurred. (Connection refused)\n",
      "00:00:14 #157 [Verbose] testPortOpen / ex: System.AggregateException: One or more errors occurred. (Connection refused)\n",
      "00:00:14 #158 [Verbose] testPortOpen / ex: System.AggregateException: One or more errors occurred. (Connection refused)\n",
      "00:00:14 #159 [Verbose] testPortOpen / ex: System.AggregateException: One or more errors occurred. (Connection refused)\n",
      "00:00:14 #160 [Verbose] testPortOpen / ex: System.AggregateException: One or more errors occurred. (Connection refused)\n",
      "00:00:14 #161 [Verbose] testPortOpen / ex: System.AggregateException: One or more errors occurred. (Connection refused)\n",
      "00:00:14 #162 [Verbose] testPortOpen / ex: System.AggregateException: One or more errors occurred. (Connection refused)\n",
      "00:00:14 #164 [Debug] sendJson / port: 13805 / json: {\"Ping\":true} / result.Length:\n",
      "00:00:14 #165 [Verbose] awaitCompiler / Ping / result: Some(null) / port: 13805 / retry: 0\n",
      "00:00:14 #166 [Verbose] > Server bound to: http://localhost:13805\n",
      "00:00:14 #167 [Debug] buildFile / takeWhileInclusive / fsxContent:  / errors: [] / typeErrorCount: 0\n",
      "00:00:14 #168 [Debug] buildFile / takeWhileInclusive / fsxContent:  / errors: [] / typeErrorCount: 0\n",
      "00:00:14 #169 [Debug] sendJson / port: 13805 / json: {\"FileOpen\":{\"spiText\":\"inl main () =\\n    1i32 / 0i32\\n\",\"uri\":\"file:///tmp/!dotnet-repl/20240213-1035-2318-1859-199780823ab1/main.spi\"}} / result.Length:\n",
      "00:00:14 #170 [Debug] sendJson / port: 13805 / json: {\"BuildFile\":{\"backend\":\"Fsharp\",\"uri\":\"file:///tmp/!dotnet-repl/20240213-1035-2318-1859-199780823ab1/main.spi\"}} / result.Length:\n",
      "00:00:15 #171 [Verbose] > Building /tmp/!dotnet-repl/20240213-1035-2318-1859-199780823ab1/main.spi\n",
      "00:00:15 #173 [Debug] buildFile / takeWhileInclusive / fsxContent:  / errors: [] / typeErrorCount: 0\n",
      "00:00:16 #174 [Debug] buildFile / takeWhileInclusive / fsxContent:  / errors: [(An attempt to divide by zero has been detected at compile time., TracedError\n",
      "  { message = \"An attempt to divide by zero has been detected at compile time.\"\n",
      "    trace =\n",
      "     [\"Error trace on line: 1, column: 10 in module: /tmp/!dotnet-repl/20240213-1035-2318-1859-199780823ab1/main.spi.\n",
      "inl main () =\n",
      "         ^\n",
      "\";\n",
      "      \"Error trace on line: 2, column: 5 in module: /tmp/!dotnet-repl/20240213-1035-2318-1859-199780823ab1/main.spi.\n",
      "    1i32 / 0i32\n",
      "    ^\n",
      "\"] })] / typeErrorCount: 0\n",
      "00:00:16 #175 [Debug] watchWithFilter / Disposing watch stream / filter: FileName, LastWrite\n",
      "FSharpOption<Tuple<FSharpOption<String>,FSharpList<String>>>\n",
      "      Value:       - <null>\n",
      "      - [ An attempt to divide by zero has been detected at compile time. ]\n"
     ]
    }
   ],
   "source": [
    "//// test\n",
    "\n",
    "\"\"\"inl main () =\n",
    "    1i32 / 0i32\n",
    "\"\"\"\n",
    "|> buildCode 10000 None\n",
    "|> Async.runWithTimeout 10000\n",
    "|> Option.map (fun (fsxContent, errors) -> fsxContent, errors |> List.map fst)\n",
    "|> _equal (\n",
    "    Some (\n",
    "        None,\n",
    "        [ \"An attempt to divide by zero has been detected at compile time.\" ]\n",
    "    )\n",
    ")"
   ]
  },
  {
   "cell_type": "code",
   "execution_count": null,
   "metadata": {
    "dotnet_interactive": {
     "language": "fsharp"
    },
    "polyglot_notebook": {
     "kernelName": "fsharp"
    }
   },
   "outputs": [
    {
     "name": "stdout",
     "output_type": "stream",
     "text": [
      "00:00:16 #176 [Verbose] testPortOpen / ex: System.AggregateException: One or more errors occurred. (Connection refused)\n",
      "00:00:16 #177 [Debug] executeAsync / options: { Command =\n",
      "   \"dotnet \"/home/runner/work/polyglot/polyglot/deps/The-Spiral-Language/The Spiral Language 2/artifacts/bin/The Spiral Language 2/release/Spiral.dll\" port=13805\"\n",
      "  WorkingDirectory = None\n",
      "  CancellationToken = Some System.Threading.CancellationToken\n",
      "  OnLine = Some <fun:buildCode@3-983> }\n",
      "00:00:16 #178 [Verbose] > pwd: /home/runner/work/polyglot/polyglot/apps/spiral\n",
      "00:00:16 #179 [Verbose] testPortOpen / ex: System.AggregateException: One or more errors occurred. (Connection refused)\n",
      "00:00:16 #180 [Verbose] waitForPortAccess / port: 13805 / retry: 0\n",
      "00:00:16 #181 [Verbose] > dll_path: /home/runner/work/polyglot/polyglot/deps/The-Spiral-Language/The Spiral Language 2/artifacts/bin/The Spiral Language 2/release\n",
      "00:00:16 #182 [Verbose] testPortOpen / ex: System.AggregateException: One or more errors occurred. (Connection refused)\n",
      "00:00:16 #183 [Verbose] testPortOpen / ex: System.AggregateException: One or more errors occurred. (Connection refused)\n",
      "00:00:16 #184 [Verbose] testPortOpen / ex: System.AggregateException: One or more errors occurred. (Connection refused)\n",
      "00:00:16 #185 [Verbose] testPortOpen / ex: System.AggregateException: One or more errors occurred. (Connection refused)\n",
      "00:00:16 #186 [Verbose] testPortOpen / ex: System.AggregateException: One or more errors occurred. (Connection refused)\n",
      "00:00:16 #187 [Verbose] testPortOpen / ex: System.AggregateException: One or more errors occurred. (Connection refused)\n",
      "00:00:16 #188 [Verbose] testPortOpen / ex: System.AggregateException: One or more errors occurred. (Connection refused)\n",
      "00:00:16 #189 [Verbose] testPortOpen / ex: System.AggregateException: One or more errors occurred. (Connection refused)\n",
      "00:00:16 #190 [Verbose] testPortOpen / ex: System.AggregateException: One or more errors occurred. (Connection refused)\n",
      "00:00:16 #191 [Debug] sendJson / port: 13805 / json: {\"Ping\":true} / result.Length:\n",
      "00:00:16 #192 [Verbose] awaitCompiler / Ping / result: Some(null) / port: 13805 / retry: 0\n",
      "00:00:16 #193 [Verbose] > Server bound to: http://localhost:13805\n",
      "00:00:16 #194 [Debug] buildFile / takeWhileInclusive / fsxContent:  / errors: [] / typeErrorCount: 0\n",
      "00:00:16 #195 [Debug] buildFile / takeWhileInclusive / fsxContent:  / errors: [] / typeErrorCount: 0\n",
      "00:00:16 #196 [Debug] sendJson / port: 13805 / json: {\"FileOpen\":{\"spiText\":\"inl main () =\\n    1 \\u002B \\u0022\\u0022\\n\",\"uri\":\"file:///tmp/!dotnet-repl/20240213-1035-2491-9133-9fcd3c9ff430/main.spi\"}} / result.Length:\n",
      "00:00:16 #197 [Debug] sendJson / port: 13805 / json: {\"BuildFile\":{\"backend\":\"Fsharp\",\"uri\":\"file:///tmp/!dotnet-repl/20240213-1035-2491-9133-9fcd3c9ff430/main.spi\"}} / result.Length:\n",
      "00:00:16 #199 [Verbose] > Building /tmp/!dotnet-repl/20240213-1035-2491-9133-9fcd3c9ff430/main.spi\n",
      "00:00:17 #200 [Debug] buildFile / takeWhileInclusive / fsxContent:  / errors: [] / typeErrorCount: 0\n",
      "00:00:17 #201 [Debug] buildFile / takeWhileInclusive / fsxContent:  / errors: [] / typeErrorCount: 1\n",
      "00:00:17 #202 [Debug] buildFile / takeWhileInclusive / fsxContent:  / errors: [(main.spi:\n",
      "Constraint satisfaction error.\n",
      "Got: string\n",
      "Fails to satisfy: number, TypeErrors\n",
      "  { errors =\n",
      "     [(({ character = 8\n",
      "          line = 1 }, { character = 10\n",
      "                        line = 1 }),\n",
      "       \"Constraint satisfaction error.\n",
      "Got: string\n",
      "Fails to satisfy: number\")]\n",
      "    uri =\n",
      "     \"file:///tmp/!dotnet-repl/20240213-1035-2491-9133-9fcd3c9ff430/main.spi\" })] / typeErrorCount: 1\n",
      "00:00:17 #203 [Debug] watchWithFilter / Disposing watch stream / filter: FileName, LastWrite\n",
      "FSharpOption<Tuple<FSharpOption<String>,FSharpList<String>>>\n",
      "      Value:       - <null>\n",
      "      - [ main.spi:\n",
      "Constraint satisfaction error.\n",
      "Got: string\n",
      "Fails to satisfy: number ]\n"
     ]
    }
   ],
   "source": [
    "//// test\n",
    "\n",
    "\"\"\"inl main () =\n",
    "    1 + \"\"\n",
    "\"\"\"\n",
    "|> buildCode 10000 None\n",
    "|> Async.runWithTimeout 10000\n",
    "|> Option.map (fun (fsxContent, errors) -> fsxContent, errors |> List.map fst)\n",
    "|> _equal (\n",
    "    Some (\n",
    "        None,\n",
    "        [\n",
    "            \"main.spi:\n",
    "Constraint satisfaction error.\n",
    "Got: string\n",
    "Fails to satisfy: number\"\n",
    "        ]\n",
    "    )\n",
    ")"
   ]
  },
  {
   "cell_type": "code",
   "execution_count": null,
   "metadata": {
    "dotnet_interactive": {
     "language": "fsharp"
    },
    "polyglot_notebook": {
     "kernelName": "fsharp"
    }
   },
   "outputs": [
    {
     "name": "stdout",
     "output_type": "stream",
     "text": [
      "00:00:17 #204 [Verbose] testPortOpen / ex: System.AggregateException: One or more errors occurred. (Connection refused)\n",
      "00:00:17 #205 [Debug] executeAsync / options: { Command =\n",
      "   \"dotnet \"/home/runner/work/polyglot/polyglot/deps/The-Spiral-Language/The Spiral Language 2/artifacts/bin/The Spiral Language 2/release/Spiral.dll\" port=13805\"\n",
      "  WorkingDirectory = None\n",
      "  CancellationToken = Some System.Threading.CancellationToken\n",
      "  OnLine = Some <fun:buildCode@3-983> }\n",
      "00:00:17 #207 [Verbose] > pwd: /home/runner/work/polyglot/polyglot/apps/spiral\n",
      "00:00:17 #208 [Verbose] testPortOpen / ex: System.AggregateException: One or more errors occurred. (Connection refused)\n",
      "00:00:17 #209 [Verbose] waitForPortAccess / port: 13805 / retry: 0\n",
      "00:00:17 #210 [Verbose] > dll_path: /home/runner/work/polyglot/polyglot/deps/The-Spiral-Language/The Spiral Language 2/artifacts/bin/The Spiral Language 2/release\n",
      "00:00:17 #211 [Verbose] testPortOpen / ex: System.AggregateException: One or more errors occurred. (Connection refused)\n",
      "00:00:17 #212 [Verbose] testPortOpen / ex: System.AggregateException: One or more errors occurred. (Connection refused)\n",
      "00:00:17 #213 [Verbose] testPortOpen / ex: System.AggregateException: One or more errors occurred. (Connection refused)\n",
      "00:00:17 #214 [Verbose] testPortOpen / ex: System.AggregateException: One or more errors occurred. (Connection refused)\n",
      "00:00:17 #215 [Verbose] testPortOpen / ex: System.AggregateException: One or more errors occurred. (Connection refused)\n",
      "00:00:17 #216 [Verbose] testPortOpen / ex: System.AggregateException: One or more errors occurred. (Connection refused)\n",
      "00:00:17 #217 [Verbose] testPortOpen / ex: System.AggregateException: One or more errors occurred. (Connection refused)\n",
      "00:00:17 #218 [Verbose] testPortOpen / ex: System.AggregateException: One or more errors occurred. (Connection refused)\n",
      "00:00:17 #219 [Verbose] testPortOpen / ex: System.AggregateException: One or more errors occurred. (Connection refused)\n",
      "00:00:18 #220 [Debug] sendJson / port: 13805 / json: {\"Ping\":true} / result.Length:\n",
      "00:00:18 #221 [Verbose] awaitCompiler / Ping / result: Some(null) / port: 13805 / retry: 0\n",
      "00:00:18 #222 [Verbose] > Server bound to: http://localhost:13805\n",
      "00:00:18 #223 [Debug] buildFile / takeWhileInclusive / fsxContent:  / errors: [] / typeErrorCount: 0\n",
      "00:00:18 #224 [Debug] buildFile / takeWhileInclusive / fsxContent:  / errors: [] / typeErrorCount: 0\n",
      "00:00:18 #225 [Debug] sendJson / port: 13805 / json: {\"FileOpen\":{\"spiText\":\"inl main () =\\n    x \\u002B y\\n\",\"uri\":\"file:///tmp/!dotnet-repl/20240213-1035-2644-4481-4afc6691fbc0/main.spi\"}} / result.Length:\n",
      "00:00:18 #226 [Debug] sendJson / port: 13805 / json: {\"BuildFile\":{\"backend\":\"Fsharp\",\"uri\":\"file:///tmp/!dotnet-repl/20240213-1035-2644-4481-4afc6691fbc0/main.spi\"}} / result.Length:\n",
      "00:00:18 #227 [Verbose] > Building /tmp/!dotnet-repl/20240213-1035-2644-4481-4afc6691fbc0/main.spi\n",
      "00:00:19 #229 [Debug] buildFile / takeWhileInclusive / fsxContent:  / errors: [] / typeErrorCount: 0\n",
      "00:00:19 #230 [Debug] buildFile / takeWhileInclusive / fsxContent:  / errors: [] / typeErrorCount: 1\n",
      "00:00:19 #231 [Debug] buildFile / takeWhileInclusive / fsxContent:  / errors: [(main.spi:\n",
      "Unbound variable: x.\n",
      "Unbound variable: y., TypeErrors\n",
      "  { errors =\n",
      "     [(({ character = 4\n",
      "          line = 1 }, { character = 5\n",
      "                        line = 1 }), \"Unbound variable: x.\");\n",
      "      (({ character = 8\n",
      "          line = 1 }, { character = 9\n",
      "                        line = 1 }), \"Unbound variable: y.\")]\n",
      "    uri =\n",
      "     \"file:///tmp/!dotnet-repl/20240213-1035-2644-4481-4afc6691fbc0/main.spi\" })] / typeErrorCount: 1\n",
      "00:00:19 #232 [Debug] watchWithFilter / Disposing watch stream / filter: FileName, LastWrite\n",
      "FSharpOption<Tuple<FSharpOption<String>,FSharpList<String>>>\n",
      "      Value:       - <null>\n",
      "      - [ main.spi:\n",
      "Unbound variable: x.\n",
      "Unbound variable: y. ]\n"
     ]
    }
   ],
   "source": [
    "//// test\n",
    "\n",
    "\"\"\"inl main () =\n",
    "    x + y\n",
    "\"\"\"\n",
    "|> buildCode 10000 None\n",
    "|> Async.runWithTimeout 10000\n",
    "|> Option.map (fun (fsxContent, errors) -> fsxContent, errors |> List.map fst)\n",
    "|> _equal (\n",
    "    Some (\n",
    "        None,\n",
    "        [\n",
    "            \"main.spi:\n",
    "Unbound variable: x.\n",
    "Unbound variable: y.\"\n",
    "        ]\n",
    "    )\n",
    ")"
   ]
  },
  {
   "cell_type": "code",
   "execution_count": null,
   "metadata": {
    "dotnet_interactive": {
     "language": "fsharp"
    },
    "polyglot_notebook": {
     "kernelName": "fsharp"
    }
   },
   "outputs": [
    {
     "name": "stdout",
     "output_type": "stream",
     "text": [
      "00:00:19 #233 [Verbose] testPortOpen / ex: System.AggregateException: One or more errors occurred. (Connection refused)\n",
      "00:00:19 #234 [Debug] executeAsync / options: { Command =\n",
      "   \"dotnet \"/home/runner/work/polyglot/polyglot/deps/The-Spiral-Language/The Spiral Language 2/artifacts/bin/The Spiral Language 2/release/Spiral.dll\" port=13805\"\n",
      "  WorkingDirectory = None\n",
      "  CancellationToken = Some System.Threading.CancellationToken\n",
      "  OnLine = Some <fun:buildCode@3-983> }\n",
      "00:00:19 #235 [Verbose] > pwd: /home/runner/work/polyglot/polyglot/apps/spiral\n",
      "00:00:19 #236 [Verbose] testPortOpen / ex: System.AggregateException: One or more errors occurred. (Connection refused)\n",
      "00:00:19 #237 [Verbose] waitForPortAccess / port: 13805 / retry: 0\n",
      "00:00:19 #238 [Verbose] > dll_path: /home/runner/work/polyglot/polyglot/deps/The-Spiral-Language/The Spiral Language 2/artifacts/bin/The Spiral Language 2/release\n",
      "00:00:19 #239 [Verbose] testPortOpen / ex: System.AggregateException: One or more errors occurred. (Connection refused)\n",
      "00:00:19 #240 [Verbose] testPortOpen / ex: System.AggregateException: One or more errors occurred. (Connection refused)\n",
      "00:00:19 #241 [Verbose] testPortOpen / ex: System.AggregateException: One or more errors occurred. (Connection refused)\n",
      "00:00:19 #242 [Verbose] testPortOpen / ex: System.AggregateException: One or more errors occurred. (Connection refused)\n",
      "00:00:19 #243 [Verbose] testPortOpen / ex: System.AggregateException: One or more errors occurred. (Connection refused)\n",
      "00:00:19 #244 [Verbose] testPortOpen / ex: System.AggregateException: One or more errors occurred. (Connection refused)\n",
      "00:00:19 #245 [Verbose] testPortOpen / ex: System.AggregateException: One or more errors occurred. (Connection refused)\n",
      "00:00:19 #246 [Verbose] testPortOpen / ex: System.AggregateException: One or more errors occurred. (Connection refused)\n",
      "00:00:19 #247 [Verbose] testPortOpen / ex: System.AggregateException: One or more errors occurred. (Connection refused)\n",
      "00:00:19 #248 [Debug] sendJson / port: 13805 / json: {\"Ping\":true} / result.Length:\n",
      "00:00:19 #249 [Verbose] awaitCompiler / Ping / result: Some(null) / port: 13805 / retry: 0\n",
      "00:00:19 #250 [Verbose] > Server bound to: http://localhost:13805\n",
      "00:00:19 #251 [Debug] buildFile / takeWhileInclusive / fsxContent:  / errors: [] / typeErrorCount: 0\n",
      "00:00:19 #252 [Debug] buildFile / takeWhileInclusive / fsxContent:  / errors: [] / typeErrorCount: 0\n",
      "00:00:19 #253 [Debug] sendJson / port: 13805 / json: {\"FileOpen\":{\"spiText\":\"union a =\\n    | B\\n    | c\\n\\ninl main () =\\n    ()\\n\",\"uri\":\"file:///tmp/!dotnet-repl/20240213-1035-2795-9550-914429b31d36/main.spi\"}} / result.Length:\n",
      "00:00:19 #254 [Debug] sendJson / port: 13805 / json: {\"BuildFile\":{\"backend\":\"Fsharp\",\"uri\":\"file:///tmp/!dotnet-repl/20240213-1035-2795-9550-914429b31d36/main.spi\"}} / result.Length:\n",
      "00:00:19 #256 [Verbose] > Building /tmp/!dotnet-repl/20240213-1035-2795-9550-914429b31d36/main.spi\n",
      "00:00:20 #257 [Debug] buildFile / takeWhileInclusive / fsxContent:  / errors: [(main.spi:\n",
      "Expected: uppercase variable, ParserErrors\n",
      "  { errors = [(({ character = 6\n",
      "                  line = 2 }, { character = 7\n",
      "                                line = 2 }), \"Expected: uppercase variable\")]\n",
      "    uri =\n",
      "     \"file:///tmp/!dotnet-repl/20240213-1035-2795-9550-914429b31d36/main.spi\" })] / typeErrorCount: 0\n",
      "00:00:20 #258 [Debug] watchWithFilter / Disposing watch stream / filter: FileName, LastWrite\n",
      "FSharpOption<Tuple<FSharpOption<String>,FSharpList<String>>>\n",
      "      Value:       - <null>\n",
      "      - [ main.spi:\n",
      "Expected: uppercase variable ]\n"
     ]
    }
   ],
   "source": [
    "//// test\n",
    "\n",
    "\"\"\"union a =\n",
    "    | B\n",
    "    | c\n",
    "\n",
    "inl main () =\n",
    "    ()\n",
    "\"\"\"\n",
    "|> buildCode 10000 None\n",
    "|> Async.runWithTimeout 10000\n",
    "|> Option.map (fun (fsxContent, errors) -> fsxContent, errors |> List.map fst)\n",
    "|> _equal (\n",
    "    Some (\n",
    "        None,\n",
    "        [ \"main.spi:\n",
    "Expected: uppercase variable\" ]\n",
    "    )\n",
    ")"
   ]
  },
  {
   "cell_type": "code",
   "execution_count": null,
   "metadata": {
    "dotnet_interactive": {
     "language": "fsharp"
    },
    "polyglot_notebook": {
     "kernelName": "fsharp"
    }
   },
   "outputs": [
    {
     "name": "stdout",
     "output_type": "stream",
     "text": [
      "00:00:20 #259 [Verbose] testPortOpen / ex: System.AggregateException: One or more errors occurred. (Connection refused)\n",
      "00:00:20 #260 [Debug] executeAsync / options: { Command =\n",
      "   \"dotnet \"/home/runner/work/polyglot/polyglot/deps/The-Spiral-Language/The Spiral Language 2/artifacts/bin/The Spiral Language 2/release/Spiral.dll\" port=13805\"\n",
      "  WorkingDirectory = None\n",
      "  CancellationToken = Some System.Threading.CancellationToken\n",
      "  OnLine = Some <fun:buildCode@3-983> }\n",
      "00:00:20 #261 [Verbose] > pwd: /home/runner/work/polyglot/polyglot/apps/spiral\n",
      "00:00:20 #262 [Verbose] testPortOpen / ex: System.AggregateException: One or more errors occurred. (Connection refused)\n",
      "00:00:20 #263 [Verbose] waitForPortAccess / port: 13805 / retry: 0\n",
      "00:00:20 #264 [Verbose] > dll_path: /home/runner/work/polyglot/polyglot/deps/The-Spiral-Language/The Spiral Language 2/artifacts/bin/The Spiral Language 2/release\n",
      "00:00:20 #265 [Verbose] testPortOpen / ex: System.AggregateException: One or more errors occurred. (Connection refused)\n",
      "00:00:20 #266 [Verbose] testPortOpen / ex: System.AggregateException: One or more errors occurred. (Connection refused)\n",
      "00:00:20 #267 [Verbose] testPortOpen / ex: System.AggregateException: One or more errors occurred. (Connection refused)\n",
      "00:00:20 #268 [Verbose] testPortOpen / ex: System.AggregateException: One or more errors occurred. (Connection refused)\n",
      "00:00:20 #269 [Verbose] testPortOpen / ex: System.AggregateException: One or more errors occurred. (Connection refused)\n",
      "00:00:20 #270 [Verbose] testPortOpen / ex: System.AggregateException: One or more errors occurred. (Connection refused)\n",
      "00:00:20 #271 [Verbose] testPortOpen / ex: System.AggregateException: One or more errors occurred. (Connection refused)\n",
      "00:00:20 #272 [Verbose] testPortOpen / ex: System.AggregateException: One or more errors occurred. (Connection refused)\n",
      "00:00:20 #273 [Verbose] testPortOpen / ex: System.AggregateException: One or more errors occurred. (Connection refused)\n",
      "00:00:20 #274 [Verbose] testPortOpen / ex: System.AggregateException: One or more errors occurred. (Connection refused)\n",
      "00:00:20 #275 [Debug] sendJson / port: 13805 / json: {\"Ping\":true} / result.Length:\n",
      "00:00:20 #276 [Verbose] awaitCompiler / Ping / result: Some(null) / port: 13805 / retry: 0\n",
      "00:00:20 #277 [Verbose] > Server bound to: http://localhost:13805\n",
      "00:00:20 #278 [Debug] buildFile / takeWhileInclusive / fsxContent:  / errors: [] / typeErrorCount: 0\n",
      "00:00:20 #279 [Debug] buildFile / takeWhileInclusive / fsxContent:  / errors: [] / typeErrorCount: 0\n",
      "00:00:20 #280 [Debug] sendJson / port: 13805 / json: {\"FileOpen\":{\"spiText\":\"\\n/// abc\\ninl main () =\\n    ()\\n\",\"uri\":\"file:///tmp/!dotnet-repl/20240213-1035-2885-8583-8f43f8f9d82c/main.spi\"}} / result.Length:\n",
      "00:00:20 #281 [Debug] sendJson / port: 13805 / json: {\"BuildFile\":{\"backend\":\"Fsharp\",\"uri\":\"file:///tmp/!dotnet-repl/20240213-1035-2885-8583-8f43f8f9d82c/main.spi\"}} / result.Length:\n",
      "00:00:20 #283 [Debug] buildFile / takeWhileInclusive / fsxContent:  / errors: [(main.spi:\n",
      "Expected: whitespace, TokenizerErrors\n",
      "  { errors = [(({ character = 2\n",
      "                  line = 1 }, { character = 3\n",
      "                                line = 1 }), \"Expected: whitespace\")]\n",
      "    uri =\n",
      "     \"file:///tmp/!dotnet-repl/20240213-1035-2885-8583-8f43f8f9d82c/main.spi\" })] / typeErrorCount: 0\n",
      "00:00:20 #284 [Debug] watchWithFilter / Disposing watch stream / filter: FileName, LastWrite\n",
      "FSharpOption<Tuple<FSharpOption<String>,FSharpList<String>>>\n",
      "      Value:       - <null>\n",
      "      - [ main.spi:\n",
      "Expected: whitespace ]\n"
     ]
    }
   ],
   "source": [
    "//// test\n",
    "\n",
    "\"\"\"\n",
    "/// abc\n",
    "inl main () =\n",
    "    ()\n",
    "\"\"\"\n",
    "|> buildCode 10000 None\n",
    "|> Async.runWithTimeout 10000\n",
    "|> Option.map (fun (fsxContent, errors) -> fsxContent, errors |> List.map fst)\n",
    "|> _equal (\n",
    "    Some (\n",
    "        None,\n",
    "        [ \"main.spi:\n",
    "Expected: whitespace\" ]\n",
    "    )\n",
    ")"
   ]
  },
  {
   "cell_type": "code",
   "execution_count": null,
   "metadata": {
    "dotnet_interactive": {
     "language": "fsharp"
    },
    "polyglot_notebook": {
     "kernelName": "fsharp"
    }
   },
   "outputs": [
    {
     "name": "stdout",
     "output_type": "stream",
     "text": [
      "00:00:20 #285 [Verbose] testPortOpen / ex: System.AggregateException: One or more errors occurred. (Connection refused)\n",
      "00:00:20 #286 [Debug] executeAsync / options: { Command =\n",
      "   \"dotnet \"/home/runner/work/polyglot/polyglot/deps/The-Spiral-Language/The Spiral Language 2/artifacts/bin/The Spiral Language 2/release/Spiral.dll\" port=13805\"\n",
      "  WorkingDirectory = None\n",
      "  CancellationToken = Some System.Threading.CancellationToken\n",
      "  OnLine = Some <fun:buildCode@3-983> }\n",
      "00:00:21 #287 [Verbose] > pwd: /home/runner/work/polyglot/polyglot/apps/spiral\n",
      "00:00:21 #288 [Verbose] testPortOpen / ex: System.AggregateException: One or more errors occurred. (Connection refused)\n",
      "00:00:21 #289 [Verbose] waitForPortAccess / port: 13805 / retry: 0\n",
      "00:00:21 #290 [Verbose] > dll_path: /home/runner/work/polyglot/polyglot/deps/The-Spiral-Language/The Spiral Language 2/artifacts/bin/The Spiral Language 2/release\n",
      "00:00:21 #291 [Verbose] testPortOpen / ex: System.AggregateException: One or more errors occurred. (Connection refused)\n",
      "00:00:21 #292 [Verbose] testPortOpen / ex: System.AggregateException: One or more errors occurred. (Connection refused)\n",
      "00:00:21 #293 [Verbose] testPortOpen / ex: System.AggregateException: One or more errors occurred. (Connection refused)\n",
      "00:00:21 #294 [Verbose] testPortOpen / ex: System.AggregateException: One or more errors occurred. (Connection refused)\n",
      "00:00:21 #295 [Verbose] testPortOpen / ex: System.AggregateException: One or more errors occurred. (Connection refused)\n",
      "00:00:21 #296 [Verbose] testPortOpen / ex: System.AggregateException: One or more errors occurred. (Connection refused)\n",
      "00:00:21 #297 [Verbose] testPortOpen / ex: System.AggregateException: One or more errors occurred. (Connection refused)\n",
      "00:00:21 #298 [Verbose] testPortOpen / ex: System.AggregateException: One or more errors occurred. (Connection refused)\n",
      "00:00:21 #299 [Verbose] testPortOpen / ex: System.AggregateException: One or more errors occurred. (Connection refused)\n",
      "00:00:21 #300 [Debug] sendJson / port: 13805 / json: {\"Ping\":true} / result.Length:\n",
      "00:00:21 #301 [Verbose] awaitCompiler / Ping / result: Some(null) / port: 13805 / retry: 0\n",
      "00:00:21 #302 [Verbose] > Server bound to: http://localhost:13805\n",
      "00:00:21 #303 [Debug] buildFile / takeWhileInclusive / fsxContent:  / errors: [] / typeErrorCount: 0\n",
      "00:00:21 #304 [Debug] buildFile / takeWhileInclusive / fsxContent:  / errors: [] / typeErrorCount: 0\n",
      "00:00:21 #305 [Debug] sendJson / port: 13805 / json: {\"FileOpen\":{\"spiText\":\"\\ninl main () =\\n    real\\n        inl real_unbox forall a. (obj : a) : a =\\n            typecase obj with\\n            | _ =\\u003E obj\\n        real_unbox ()\\n    ()\\n\",\"uri\":\"file:///tmp/!dotnet-repl/20240213-1035-2960-6033-665f9883583b/main.spi\"}} / result.Length:\n",
      "00:00:21 #306 [Debug] sendJson / port: 13805 / json: {\"BuildFile\":{\"backend\":\"Fsharp\",\"uri\":\"file:///tmp/!dotnet-repl/20240213-1035-2960-6033-665f9883583b/main.spi\"}} / result.Length:\n",
      "00:00:21 #307 [Verbose] > Building /tmp/!dotnet-repl/20240213-1035-2960-6033-665f9883583b/main.spi\n",
      "00:00:22 #309 [Debug] buildFile / takeWhileInclusive / fsxContent:  / errors: [] / typeErrorCount: 0\n",
      "00:00:22 #310 [Debug] buildFile / takeWhileInclusive / fsxContent:  / errors: [(Cannot apply a forall with a term., TracedError\n",
      "  { message = \"Cannot apply a forall with a term.\"\n",
      "    trace =\n",
      "     [\"Error trace on line: 2, column: 10 in module: /tmp/!dotnet-repl/20240213-1035-2960-6033-665f9883583b/main.spi.\n",
      "inl main () =\n",
      "         ^\n",
      "\";\n",
      "      \"Error trace on line: 4, column: 9 in module: /tmp/!dotnet-repl/20240213-1035-2960-6033-665f9883583b/main.spi.\n",
      "        inl real_unbox forall a. (obj : a) : a =\n",
      "        ^\n",
      "\";\n",
      "      \"Error trace on line: 7, column: 9 in module: /tmp/!dotnet-repl/20240213-1035-2960-6033-665f9883583b/main.spi.\n",
      "        real_unbox ()\n",
      "        ^\n",
      "\"] })] / typeErrorCount: 0\n",
      "00:00:22 #311 [Debug] watchWithFilter / Disposing watch stream / filter: FileName, LastWrite\n",
      "FSharpOption<Tuple<FSharpOption<String>,FSharpList<String>>>\n",
      "      Value:       - <null>\n",
      "      - [ Cannot apply a forall with a term. ]\n"
     ]
    }
   ],
   "source": [
    "//// test\n",
    "\n",
    "\"\"\"\n",
    "inl main () =\n",
    "    real\n",
    "        inl real_unbox forall a. (obj : a) : a =\n",
    "            typecase obj with\n",
    "            | _ => obj\n",
    "        real_unbox ()\n",
    "    ()\n",
    "\"\"\"\n",
    "|> buildCode 10000 None\n",
    "|> Async.runWithTimeout 10000\n",
    "|> Option.map (fun (fsxContent, errors) -> fsxContent, errors |> List.map fst)\n",
    "|> _equal (\n",
    "    Some (\n",
    "        None,\n",
    "        [ \"Cannot apply a forall with a term.\" ]\n",
    "    )\n",
    ")"
   ]
  },
  {
   "cell_type": "code",
   "execution_count": null,
   "metadata": {
    "dotnet_interactive": {
     "language": "fsharp"
    },
    "polyglot_notebook": {
     "kernelName": "fsharp"
    }
   },
   "outputs": [
    {
     "name": "stdout",
     "output_type": "stream",
     "text": [
      "00:00:22 #312 [Verbose] testPortOpen / ex: System.AggregateException: One or more errors occurred. (Connection refused)\n",
      "00:00:22 #313 [Debug] executeAsync / options: { Command =\n",
      "   \"dotnet \"/home/runner/work/polyglot/polyglot/deps/The-Spiral-Language/The Spiral Language 2/artifacts/bin/The Spiral Language 2/release/Spiral.dll\" port=13805\"\n",
      "  WorkingDirectory = None\n",
      "  CancellationToken = Some System.Threading.CancellationToken\n",
      "  OnLine = Some <fun:buildCode@3-983> }\n",
      "00:00:22 #315 [Verbose] > pwd: /home/runner/work/polyglot/polyglot/apps/spiral\n",
      "00:00:22 #316 [Verbose] testPortOpen / ex: System.AggregateException: One or more errors occurred. (Connection refused)\n",
      "00:00:22 #317 [Verbose] waitForPortAccess / port: 13805 / retry: 0\n",
      "00:00:22 #318 [Verbose] > dll_path: /home/runner/work/polyglot/polyglot/deps/The-Spiral-Language/The Spiral Language 2/artifacts/bin/The Spiral Language 2/release\n",
      "00:00:22 #319 [Verbose] testPortOpen / ex: System.AggregateException: One or more errors occurred. (Connection refused)\n",
      "00:00:22 #320 [Verbose] testPortOpen / ex: System.AggregateException: One or more errors occurred. (Connection refused)\n",
      "00:00:22 #321 [Verbose] testPortOpen / ex: System.AggregateException: One or more errors occurred. (Connection refused)\n",
      "00:00:22 #322 [Verbose] testPortOpen / ex: System.AggregateException: One or more errors occurred. (Connection refused)\n",
      "00:00:22 #323 [Verbose] testPortOpen / ex: System.AggregateException: One or more errors occurred. (Connection refused)\n",
      "00:00:22 #324 [Verbose] testPortOpen / ex: System.AggregateException: One or more errors occurred. (Connection refused)\n",
      "00:00:22 #325 [Verbose] testPortOpen / ex: System.AggregateException: One or more errors occurred. (Connection refused)\n",
      "00:00:22 #326 [Verbose] testPortOpen / ex: System.AggregateException: One or more errors occurred. (Connection refused)\n",
      "00:00:23 #327 [Debug] runWithTimeoutAsync / timeout: 500\n",
      "00:00:23 #328 [Debug] sendJson / port: 13805 / json: {\"Ping\":true} / result.Length:\n",
      "00:00:23 #329 [Verbose] awaitCompiler / Ping / result: Some(null) / port: 13805 / retry: 0\n",
      "00:00:23 #330 [Verbose] > Server bound to: http://localhost:13805\n",
      "00:00:23 #331 [Debug] buildFile / takeWhileInclusive / fsxContent:  / errors: [] / typeErrorCount: 0\n",
      "00:00:23 #332 [Debug] buildFile / takeWhileInclusive / fsxContent:  / errors: [] / typeErrorCount: 0\n",
      "00:00:23 #333 [Debug] sendJson / port: 13805 / json: {\"FileOpen\":{\"spiText\":\"\\ninl main () =\\n    real\\n        inl real_unbox forall a. (obj : a) : a =\\n            typecase obj with\\n            | _ =\\u003E obj\\n        real_unbox \\u0060i32 1\\n\",\"uri\":\"file:///tmp/!dotnet-repl/20240213-1035-3136-3673-3be3de120e35/main.spi\"}} / result.Length:\n",
      "00:00:23 #334 [Debug] sendJson / port: 13805 / json: {\"BuildFile\":{\"backend\":\"Fsharp\",\"uri\":\"file:///tmp/!dotnet-repl/20240213-1035-3136-3673-3be3de120e35/main.spi\"}} / result.Length:\n",
      "00:00:23 #336 [Verbose] > Building /tmp/!dotnet-repl/20240213-1035-3136-3673-3be3de120e35/main.spi\n",
      "00:00:24 #337 [Debug] buildFile / takeWhileInclusive / fsxContent:  / errors: [] / typeErrorCount: 0\n",
      "00:00:24 #338 [Debug] buildFile / takeWhileInclusive / fsxContent:  / errors: [(The main function should not have a forall., TracedError { message = \"The main function should not have a forall.\"\n",
      "              trace = [] })] / typeErrorCount: 0\n",
      "00:00:24 #339 [Debug] watchWithFilter / Disposing watch stream / filter: FileName, LastWrite\n",
      "FSharpOption<Tuple<FSharpOption<String>,FSharpList<String>>>\n",
      "      Value:       - <null>\n",
      "      - [ The main function should not have a forall. ]\n"
     ]
    }
   ],
   "source": [
    "//// test\n",
    "\n",
    "\"\"\"\n",
    "inl main () =\n",
    "    real\n",
    "        inl real_unbox forall a. (obj : a) : a =\n",
    "            typecase obj with\n",
    "            | _ => obj\n",
    "        real_unbox `i32 1\n",
    "\"\"\"\n",
    "|> buildCode 10000 None\n",
    "|> Async.runWithTimeout 10000\n",
    "|> Option.map (fun (fsxContent, errors) -> fsxContent, errors |> List.map fst)\n",
    "|> _equal (\n",
    "    Some (\n",
    "        None,\n",
    "        [ \"The main function should not have a forall.\" ]\n",
    "    )\n",
    ")"
   ]
  },
  {
   "cell_type": "code",
   "execution_count": null,
   "metadata": {
    "dotnet_interactive": {
     "language": "fsharp"
    },
    "polyglot_notebook": {
     "kernelName": "fsharp"
    }
   },
   "outputs": [
    {
     "name": "stdout",
     "output_type": "stream",
     "text": [
      "00:00:24 #341 [Verbose] testPortOpen / ex: System.AggregateException: One or more errors occurred. (Connection refused)\n",
      "00:00:24 #342 [Debug] executeAsync / options: { Command =\n",
      "   \"dotnet \"/home/runner/work/polyglot/polyglot/deps/The-Spiral-Language/The Spiral Language 2/artifacts/bin/The Spiral Language 2/release/Spiral.dll\" port=13805\"\n",
      "  WorkingDirectory = None\n",
      "  CancellationToken = Some System.Threading.CancellationToken\n",
      "  OnLine = Some <fun:buildCode@3-983> }\n",
      "00:00:24 #343 [Verbose] > pwd: /home/runner/work/polyglot/polyglot/apps/spiral\n",
      "00:00:24 #344 [Verbose] testPortOpen / ex: System.AggregateException: One or more errors occurred. (Connection refused)\n",
      "00:00:24 #345 [Verbose] waitForPortAccess / port: 13805 / retry: 0\n",
      "00:00:24 #346 [Verbose] > dll_path: /home/runner/work/polyglot/polyglot/deps/The-Spiral-Language/The Spiral Language 2/artifacts/bin/The Spiral Language 2/release\n",
      "00:00:24 #347 [Verbose] testPortOpen / ex: System.AggregateException: One or more errors occurred. (Connection refused)\n",
      "00:00:24 #348 [Verbose] testPortOpen / ex: System.AggregateException: One or more errors occurred. (Connection refused)\n",
      "00:00:24 #349 [Verbose] testPortOpen / ex: System.AggregateException: One or more errors occurred. (Connection refused)\n",
      "00:00:24 #350 [Verbose] testPortOpen / ex: System.AggregateException: One or more errors occurred. (Connection refused)\n",
      "00:00:24 #351 [Verbose] testPortOpen / ex: System.AggregateException: One or more errors occurred. (Connection refused)\n",
      "00:00:24 #352 [Verbose] testPortOpen / ex: System.AggregateException: One or more errors occurred. (Connection refused)\n",
      "00:00:24 #353 [Verbose] testPortOpen / ex: System.AggregateException: One or more errors occurred. (Connection refused)\n",
      "00:00:24 #354 [Verbose] testPortOpen / ex: System.AggregateException: One or more errors occurred. (Connection refused)\n",
      "00:00:24 #355 [Verbose] testPortOpen / ex: System.AggregateException: One or more errors occurred. (Connection refused)\n",
      "00:00:25 #356 [Debug] sendJson / port: 13805 / json: {\"Ping\":true} / result.Length:\n",
      "00:00:25 #357 [Verbose] awaitCompiler / Ping / result: Some(null) / port: 13805 / retry: 0\n",
      "00:00:25 #358 [Verbose] > Server bound to: http://localhost:13805\n",
      "00:00:25 #359 [Debug] buildFile / takeWhileInclusive / fsxContent:  / errors: [] / typeErrorCount: 0\n",
      "00:00:25 #360 [Debug] buildFile / takeWhileInclusive / fsxContent:  / errors: [] / typeErrorCount: 0\n",
      "00:00:25 #361 [Debug] sendJson / port: 13805 / json: {\"FileOpen\":{\"spiText\":\"\\ninl init_series start end inc =\\n    inl total : f64 = conv ((end - start) / inc) \\u002B 1\\n    listm.init total (conv \\u003E\\u003E (*) inc \\u003E\\u003E (\\u002B) start) : list f64\\n\\ntype integration = (f64 -\\u003E f64) -\\u003E f64 -\\u003E f64 -\\u003E f64\\n\\ninl integral dt : integration =\\n    fun f a b =\\u003E\\n        init_series (a \\u002B dt / 2) (b - dt / 2) dt\\n        |\\u003E listm.map (f \\u003E\\u003E (*) dt)\\n        |\\u003E listm.fold (\\u002B) 0\\n\\ninl main () =\\n    integral 0.1 (fun x =\\u003E x ** 2) 0 1\\n\",\"uri\":\"file:///tmp/!dotnet-repl/20240213-1035-3348-4824-4fb06cec6594/main.spi\"}} / result.Length:\n",
      "00:00:25 #362 [Debug] sendJson / port: 13805 / json: {\"BuildFile\":{\"backend\":\"Fsharp\",\"uri\":\"file:///tmp/!dotnet-repl/20240213-1035-3348-4824-4fb06cec6594/main.spi\"}} / result.Length:\n",
      "00:00:25 #363 [Verbose] > Building /tmp/!dotnet-repl/20240213-1035-3348-4824-4fb06cec6594/main.spi\n",
      "00:00:26 #365 [Debug] buildFile / takeWhileInclusive / fsxContent:  / errors: [] / typeErrorCount: 0\n",
      "00:00:26 #366 [Debug] buildFile / takeWhileInclusive / fsxContent: 0.3325000000000001\n",
      " / errors: [] / typeErrorCount: 0\n",
      "00:00:26 #367 [Debug] watchWithFilter / Disposing watch stream / filter: FileName, LastWrite\n",
      "FSharpOption<Tuple<FSharpOption<String>,FSharpList<String>>>\n",
      "      Value:       - FSharpOption<String>\n",
      "          Value: 0.3325000000000001\n",
      "\n",
      "      - [  ]\n"
     ]
    }
   ],
   "source": [
    "//// test\n",
    "\n",
    "\"\"\"\n",
    "inl init_series start end inc =\n",
    "    inl total : f64 = conv ((end - start) / inc) + 1\n",
    "    listm.init total (conv >> (*) inc >> (+) start) : list f64\n",
    "\n",
    "type integration = (f64 -> f64) -> f64 -> f64 -> f64\n",
    "\n",
    "inl integral dt : integration =\n",
    "    fun f a b =>\n",
    "        init_series (a + dt / 2) (b - dt / 2) dt\n",
    "        |> listm.map (f >> (*) dt)\n",
    "        |> listm.fold (+) 0\n",
    "\n",
    "inl main () =\n",
    "    integral 0.1 (fun x => x ** 2) 0 1\n",
    "\"\"\"\n",
    "|> buildCode 10000 None\n",
    "|> Async.runWithTimeout 10000\n",
    "|> Option.map (fun (fsxContent, errors) -> fsxContent, errors |> List.map fst)\n",
    "|> _equal (\n",
    "    Some (\n",
    "        Some \"0.3325000000000001\\n\",\n",
    "        []\n",
    "    )\n",
    ")"
   ]
  },
  {
   "cell_type": "code",
   "execution_count": null,
   "metadata": {
    "dotnet_interactive": {
     "language": "fsharp"
    },
    "polyglot_notebook": {
     "kernelName": "fsharp"
    }
   },
   "outputs": [
    {
     "data": {
      "text/html": [
       "<details open=\"open\" class=\"dni-treeview\"><summary><span class=\"dni-code-hint\"><code>Some((Some(0.33332500000000004\\n), []))</code></span></summary><div><table><thead><tr></tr></thead><tbody><tr><td>Value</td><td><details class=\"dni-treeview\"><summary><span class=\"dni-code-hint\"><code>(Some(0.33332500000000004\\n), [])</code></span></summary><div><table><thead><tr></tr></thead><tbody><tr><td>Item1</td><td><details class=\"dni-treeview\"><summary><span class=\"dni-code-hint\"><code>Some(0.33332500000000004\\n)</code></span></summary><div><table><thead><tr></tr></thead><tbody><tr><td>Value</td><td><div class=\"dni-plaintext\"><pre>0.33332500000000004\n",
       "</pre></div></td></tr></tbody></table></div></details></td></tr><tr><td>Item2</td><td><div class=\"dni-plaintext\"><pre>[  ]</pre></div></td></tr></tbody></table></div></details></td></tr></tbody></table></div></details><style>\n",
       ".dni-code-hint {\n",
       "    font-style: italic;\n",
       "    overflow: hidden;\n",
       "    white-space: nowrap;\n",
       "}\n",
       ".dni-treeview {\n",
       "    white-space: nowrap;\n",
       "}\n",
       ".dni-treeview td {\n",
       "    vertical-align: top;\n",
       "    text-align: start;\n",
       "}\n",
       "details.dni-treeview {\n",
       "    padding-left: 1em;\n",
       "}\n",
       "table td {\n",
       "    text-align: start;\n",
       "}\n",
       "table tr { \n",
       "    vertical-align: top; \n",
       "    margin: 0em 0px;\n",
       "}\n",
       "table tr td pre \n",
       "{ \n",
       "    vertical-align: top !important; \n",
       "    margin: 0em 0px !important;\n",
       "} \n",
       "table th {\n",
       "    text-align: start;\n",
       "}\n",
       "</style>"
      ]
     },
     "metadata": {},
     "output_type": "display_data"
    },
    {
     "name": "stdout",
     "output_type": "stream",
     "text": [
      "00:00:26 #368 [Verbose] testPortOpen / ex: System.AggregateException: One or more errors occurred. (Connection refused)\n",
      "00:00:26 #369 [Debug] executeAsync / options: { Command =\n",
      "   \"dotnet \"/home/runner/work/polyglot/polyglot/deps/The-Spiral-Language/The Spiral Language 2/artifacts/bin/The Spiral Language 2/release/Spiral.dll\" port=13805\"\n",
      "  WorkingDirectory = None\n",
      "  CancellationToken = Some System.Threading.CancellationToken\n",
      "  OnLine = Some <fun:buildCode@3-983> }\n",
      "00:00:26 #370 [Verbose] > pwd: /home/runner/work/polyglot/polyglot/apps/spiral\n",
      "00:00:26 #371 [Verbose] testPortOpen / ex: System.AggregateException: One or more errors occurred. (Connection refused)\n",
      "00:00:26 #372 [Verbose] waitForPortAccess / port: 13805 / retry: 0\n",
      "00:00:26 #373 [Verbose] > dll_path: /home/runner/work/polyglot/polyglot/deps/The-Spiral-Language/The Spiral Language 2/artifacts/bin/The Spiral Language 2/release\n",
      "00:00:26 #374 [Verbose] testPortOpen / ex: System.AggregateException: One or more errors occurred. (Connection refused)\n",
      "00:00:26 #375 [Verbose] testPortOpen / ex: System.AggregateException: One or more errors occurred. (Connection refused)\n",
      "00:00:26 #376 [Verbose] testPortOpen / ex: System.AggregateException: One or more errors occurred. (Connection refused)\n",
      "00:00:26 #377 [Verbose] testPortOpen / ex: System.AggregateException: One or more errors occurred. (Connection refused)\n",
      "00:00:26 #378 [Verbose] testPortOpen / ex: System.AggregateException: One or more errors occurred. (Connection refused)\n",
      "00:00:26 #379 [Verbose] testPortOpen / ex: System.AggregateException: One or more errors occurred. (Connection refused)\n",
      "00:00:26 #380 [Verbose] testPortOpen / ex: System.AggregateException: One or more errors occurred. (Connection refused)\n",
      "00:00:26 #381 [Verbose] testPortOpen / ex: System.AggregateException: One or more errors occurred. (Connection refused)\n",
      "00:00:26 #382 [Verbose] testPortOpen / ex: System.AggregateException: One or more errors occurred. (Connection refused)\n",
      "00:00:26 #384 [Debug] sendJson / port: 13805 / json: {\"Ping\":true} / result.Length:\n",
      "00:00:26 #385 [Verbose] awaitCompiler / Ping / result: Some(null) / port: 13805 / retry: 0\n",
      "00:00:26 #386 [Verbose] > Server bound to: http://localhost:13805\n",
      "00:00:26 #387 [Debug] buildFile / takeWhileInclusive / fsxContent:  / errors: [] / typeErrorCount: 0\n",
      "00:00:26 #388 [Debug] buildFile / takeWhileInclusive / fsxContent:  / errors: [] / typeErrorCount: 0\n",
      "00:00:26 #389 [Debug] sendJson / port: 13805 / json: {\"FileOpen\":{\"spiText\":\"\\ninl init_series start end inc =\\n    inl total : f64 = conv ((end - start) / inc) \\u002B 1\\n    listm.init total (conv \\u003E\\u003E (*) inc \\u003E\\u003E (\\u002B) start) : list f64\\n\\ntype integration = (f64 -\\u003E f64) -\\u003E f64 -\\u003E f64 -\\u003E f64\\n\\ninl integral dt : integration =\\n    fun f a b =\\u003E\\n        init_series (a \\u002B dt / 2) (b - dt / 2) dt\\n        |\\u003E listm.map (f \\u003E\\u003E (*) dt)\\n        |\\u003E listm.fold (\\u002B) 0\\n\\ninl main () =\\n    integral 0.01 (fun x =\\u003E x ** 2) 0 1\\n\",\"uri\":\"file:///tmp/!dotnet-repl/20240213-1035-3523-2360-21146a5b97d8/main.spi\"}} / result.Length:\n",
      "00:00:26 #390 [Debug] sendJson / port: 13805 / json: {\"BuildFile\":{\"backend\":\"Fsharp\",\"uri\":\"file:///tmp/!dotnet-repl/20240213-1035-3523-2360-21146a5b97d8/main.spi\"}} / result.Length:\n",
      "00:00:27 #391 [Verbose] > Building /tmp/!dotnet-repl/20240213-1035-3523-2360-21146a5b97d8/main.spi\n",
      "00:00:27 #393 [Debug] buildFile / takeWhileInclusive / fsxContent:  / errors: [] / typeErrorCount: 0\n",
      "00:00:28 #394 [Debug] buildFile / takeWhileInclusive / fsxContent: 0.33332500000000004\n",
      " / errors: [] / typeErrorCount: 0\n",
      "00:00:28 #395 [Debug] watchWithFilter / Disposing watch stream / filter: FileName, LastWrite\n"
     ]
    }
   ],
   "source": [
    "//// test\n",
    "\n",
    "\"\"\"\n",
    "inl init_series start end inc =\n",
    "    inl total : f64 = conv ((end - start) / inc) + 1\n",
    "    listm.init total (conv >> (*) inc >> (+) start) : list f64\n",
    "\n",
    "type integration = (f64 -> f64) -> f64 -> f64 -> f64\n",
    "\n",
    "inl integral dt : integration =\n",
    "    fun f a b =>\n",
    "        init_series (a + dt / 2) (b - dt / 2) dt\n",
    "        |> listm.map (f >> (*) dt)\n",
    "        |> listm.fold (+) 0\n",
    "\n",
    "inl main () =\n",
    "    integral 0.01 (fun x => x ** 2) 0 1\n",
    "\"\"\"\n",
    "|> buildCode 10000 None\n",
    "|> Async.runWithTimeout 10000\n",
    "|> Option.map (fun (fsxContent, errors) -> fsxContent, errors |> List.map fst)\n",
    "// |> _equal None\n",
    "// |> fun x -> printfn $\"{x.ToDisplayString ()}\""
   ]
  },
  {
   "cell_type": "markdown",
   "metadata": {},
   "source": [
    "## getFileTokenRange"
   ]
  },
  {
   "cell_type": "code",
   "execution_count": null,
   "metadata": {
    "dotnet_interactive": {
     "language": "fsharp"
    },
    "polyglot_notebook": {
     "kernelName": "fsharp"
    }
   },
   "outputs": [],
   "source": [
    "let inline getFileTokenRange port cancellationToken path = async {\n",
    "    let fullPath = path |> System.IO.Path.GetFullPath\n",
    "    let! code = fullPath |> FileSystem.readAllTextAsync\n",
    "    let lines = code |> String.split [| '\\n' |]\n",
    "\n",
    "    let token, disposable = Threading.newDisposableToken cancellationToken\n",
    "    use _ = disposable\n",
    "\n",
    "    let! serverPort, _errors, ct, disposable = awaitCompiler port (Some token)\n",
    "    use _ = disposable\n",
    "\n",
    "    let fileOpenObj = {| FileOpen = {| uri = fullPath |> getFileUri; spiText = code |} |}\n",
    "    let! _fileOpenResult = fileOpenObj |> sendObj serverPort\n",
    "\n",
    "    let fileTokenRangeObj =\n",
    "        {|\n",
    "            FileTokenRange =\n",
    "                {|\n",
    "                    uri = fullPath |> getFileUri\n",
    "                    range =\n",
    "                        [|\n",
    "                            {| line = 0; character = 0 |}\n",
    "                            {| line = lines.Length - 1; character = lines.[lines.Length - 1].Length |}\n",
    "                        |]\n",
    "                |}\n",
    "        |}\n",
    "    let! fileTokenRangeResult =\n",
    "        fileTokenRangeObj\n",
    "        |> sendObj serverPort\n",
    "        |> Async.withCancellationToken ct\n",
    "\n",
    "    return fileTokenRangeResult |> Option.map FSharp.Json.Json.deserialize<int array>\n",
    "}"
   ]
  },
  {
   "cell_type": "markdown",
   "metadata": {},
   "source": [
    "## getCodeTokenRange"
   ]
  },
  {
   "cell_type": "code",
   "execution_count": null,
   "metadata": {
    "dotnet_interactive": {
     "language": "fsharp"
    },
    "polyglot_notebook": {
     "kernelName": "fsharp"
    }
   },
   "outputs": [],
   "source": [
    "let inline getCodeTokenRange cancellationToken code = async {\n",
    "    let! mainPath, disposable = persistCode code\n",
    "    use _ = disposable\n",
    "    let port = getCompilerPort ()\n",
    "    return! mainPath |> getFileTokenRange port cancellationToken\n",
    "}"
   ]
  },
  {
   "cell_type": "code",
   "execution_count": null,
   "metadata": {
    "dotnet_interactive": {
     "language": "fsharp"
    },
    "polyglot_notebook": {
     "kernelName": "fsharp"
    }
   },
   "outputs": [
    {
     "name": "stdout",
     "output_type": "stream",
     "text": [
      "00:00:32 #400 [Verbose] testPortOpen / ex: System.AggregateException: One or more errors occurred. (Connection refused)\n",
      "00:00:32 #401 [Debug] executeAsync / options: { Command =\n",
      "   \"dotnet \"/home/runner/work/polyglot/polyglot/deps/The-Spiral-Language/The Spiral Language 2/artifacts/bin/The Spiral Language 2/release/Spiral.dll\" port=13805\"\n",
      "  WorkingDirectory = None\n",
      "  CancellationToken = Some System.Threading.CancellationToken\n",
      "  OnLine = Some <fun:it@4-434> }\n",
      "00:00:32 #402 [Verbose] > pwd: /home/runner/work/polyglot/polyglot/apps/spiral\n",
      "00:00:32 #403 [Verbose] > dll_path: /home/runner/work/polyglot/polyglot/deps/The-Spiral-Language/The Spiral Language 2/artifacts/bin/The Spiral Language 2/release\n",
      "00:00:32 #404 [Verbose] testPortOpen / ex: System.AggregateException: One or more errors occurred. (Connection refused)\n",
      "00:00:32 #405 [Verbose] waitForPortAccess / port: 13805 / retry: 0\n",
      "00:00:32 #406 [Verbose] testPortOpen / ex: System.AggregateException: One or more errors occurred. (Connection refused)\n",
      "00:00:32 #407 [Verbose] testPortOpen / ex: System.AggregateException: One or more errors occurred. (Connection refused)\n",
      "00:00:32 #408 [Verbose] testPortOpen / ex: System.AggregateException: One or more errors occurred. (Connection refused)\n",
      "00:00:32 #409 [Verbose] testPortOpen / ex: System.AggregateException: One or more errors occurred. (Connection refused)\n",
      "00:00:32 #410 [Verbose] testPortOpen / ex: System.AggregateException: One or more errors occurred. (Connection refused)\n",
      "00:00:32 #411 [Verbose] testPortOpen / ex: System.AggregateException: One or more errors occurred. (Connection refused)\n",
      "00:00:32 #412 [Verbose] testPortOpen / ex: System.AggregateException: One or more errors occurred. (Connection refused)\n",
      "00:00:32 #413 [Verbose] testPortOpen / ex: System.AggregateException: One or more errors occurred. (Connection refused)\n",
      "00:00:32 #415 [Debug] sendJson / port: 13805 / json: {\"Ping\":true} / result.Length:\n",
      "00:00:32 #416 [Verbose] awaitCompiler / Ping / result: Some(null) / port: 13805 / retry: 0\n",
      "00:00:32 #417 [Verbose] > Server bound to: http://localhost:13805\n",
      "00:00:32 #418 [Debug] sendJson / port: 13805 / json: {\"FileOpen\":{\"spiText\":\"inl main () = ()\",\"uri\":\"file:///tmp/!dotnet-repl/20240213-1035-4129-2935-27ab19a95d3b/main.spi\"}} / result.Length:\n",
      "00:00:33 #419 [Debug] sendJson / port: 13805 / json: {\"FileTokenRange\":{\"range\":[{\"character\":0,\"line\":0},{\"character\":16,\"line\":0}],\"uri\":\"file:///tmp/!dotnet-repl/20240213-1035-4129-2935-27ab19a95d3b/main.spi\"}} / result.Length: Some(177)\n",
      "FSharpOption<Int32[]>\n",
      "      Value: [ 0, 0, 3, 7, 0, 0, 4, 4, 0, 0, 0, 5, 1, 8, 0, 0, 1, 1, 8, 0, 0, 2, 1, 4, 0, 0, 2, 1, 8, 0, 0, 1, 1, 8, 0 ]\n"
     ]
    }
   ],
   "source": [
    "//// test\n",
    "\n",
    "\"\"\"inl main () = ()\"\"\"\n",
    "|> getCodeTokenRange None\n",
    "|> Async.runWithTimeout 10000\n",
    "|> Option.flatten\n",
    "|> _equal (Some [| 0; 0; 3; 7; 0; 0; 4; 4; 0; 0; 0; 5; 1; 8; 0; 0; 1; 1; 8; 0; 0; 2; 1; 4; 0; 0;\n",
    "2; 1; 8; 0; 0; 1; 1; 8; 0 |])"
   ]
  },
  {
   "cell_type": "code",
   "execution_count": null,
   "metadata": {
    "dotnet_interactive": {
     "language": "fsharp"
    },
    "polyglot_notebook": {
     "kernelName": "fsharp"
    }
   },
   "outputs": [
    {
     "name": "stdout",
     "output_type": "stream",
     "text": [
      "00:00:34 #421 [Verbose] testPortOpen / ex: System.AggregateException: One or more errors occurred. (Connection refused)\n",
      "00:00:34 #423 [Debug] executeAsync / options: { Command =\n",
      "   \"dotnet \"/home/runner/work/polyglot/polyglot/deps/The-Spiral-Language/The Spiral Language 2/artifacts/bin/The Spiral Language 2/release/Spiral.dll\" port=13805\"\n",
      "  WorkingDirectory = None\n",
      "  CancellationToken = Some System.Threading.CancellationToken\n",
      "  OnLine = Some <fun:it@4-801> }\n",
      "00:00:35 #424 [Verbose] > pwd: /home/runner/work/polyglot/polyglot/apps/spiral\n",
      "00:00:35 #425 [Verbose] > dll_path: /home/runner/work/polyglot/polyglot/deps/The-Spiral-Language/The Spiral Language 2/artifacts/bin/The Spiral Language 2/release\n",
      "00:00:35 #426 [Verbose] testPortOpen / ex: System.AggregateException: One or more errors occurred. (Connection refused)\n",
      "00:00:35 #427 [Verbose] waitForPortAccess / port: 13805 / retry: 0\n",
      "00:00:35 #428 [Verbose] testPortOpen / ex: System.AggregateException: One or more errors occurred. (Connection refused)\n",
      "00:00:35 #429 [Verbose] testPortOpen / ex: System.AggregateException: One or more errors occurred. (Connection refused)\n",
      "00:00:35 #430 [Verbose] testPortOpen / ex: System.AggregateException: One or more errors occurred. (Connection refused)\n",
      "00:00:35 #431 [Verbose] testPortOpen / ex: System.AggregateException: One or more errors occurred. (Connection refused)\n",
      "00:00:35 #432 [Verbose] testPortOpen / ex: System.AggregateException: One or more errors occurred. (Connection refused)\n",
      "00:00:35 #433 [Verbose] testPortOpen / ex: System.AggregateException: One or more errors occurred. (Connection refused)\n",
      "00:00:35 #434 [Verbose] testPortOpen / ex: System.AggregateException: One or more errors occurred. (Connection refused)\n",
      "00:00:35 #435 [Verbose] testPortOpen / ex: System.AggregateException: One or more errors occurred. (Connection refused)\n",
      "00:00:35 #436 [Debug] sendJson / port: 13805 / json: {\"Ping\":true} / result.Length:\n",
      "00:00:35 #437 [Verbose] awaitCompiler / Ping / result: Some(null) / port: 13805 / retry: 0\n",
      "00:00:35 #438 [Verbose] > Server bound to: http://localhost:13805\n",
      "00:00:35 #439 [Debug] sendJson / port: 13805 / json: {\"FileOpen\":{\"spiText\":\"inl main () = 1i32\",\"uri\":\"file:///tmp/!dotnet-repl/20240213-1035-4367-6719-62c06584b8e7/main.spi\"}} / result.Length:\n",
      "00:00:35 #440 [Debug] sendJson / port: 13805 / json: {\"FileTokenRange\":{\"range\":[{\"character\":0,\"line\":0},{\"character\":18,\"line\":0}],\"uri\":\"file:///tmp/!dotnet-repl/20240213-1035-4367-6719-62c06584b8e7/main.spi\"}} / result.Length: Some(178)\n",
      "FSharpOption<Int32[]>\n",
      "      Value: [ 0, 0, 3, 7, 0, 0, 4, 4, 0, 0, 0, 5, 1, 8, 0, 0, 1, 1, 8, 0, 0, 2, 1, 4, 0, 0, 2, 1, 3, 0, 0, 1, 3, 12, 0 ]\n"
     ]
    }
   ],
   "source": [
    "//// test\n",
    "\n",
    "\"\"\"inl main () = 1i32\"\"\"\n",
    "|> getCodeTokenRange None\n",
    "|> Async.runWithTimeout 10000\n",
    "|> Option.flatten\n",
    "|> _equal (Some [| 0; 0; 3; 7; 0; 0; 4; 4; 0; 0; 0; 5; 1; 8; 0; 0; 1; 1; 8; 0; 0; 2; 1; 4; 0; 0;\n",
    "2; 1; 3; 0; 0; 1; 3; 12; 0 |])"
   ]
  },
  {
   "cell_type": "markdown",
   "metadata": {},
   "source": [
    "## Arguments"
   ]
  },
  {
   "cell_type": "code",
   "execution_count": null,
   "metadata": {
    "dotnet_interactive": {
     "language": "fsharp"
    },
    "polyglot_notebook": {
     "kernelName": "fsharp"
    }
   },
   "outputs": [],
   "source": [
    "[<RequireQualifiedAccess>]\n",
    "type Arguments =\n",
    "    | Build_File of string * string\n",
    "    | File_Token_Range of string * string\n",
    "    | Execute_Command of string\n",
    "    | Timeout of int\n",
    "    | Port of int\n",
    "\n",
    "    interface Argu.IArgParserTemplate with\n",
    "        member s.Usage =\n",
    "            match s with\n",
    "            | Build_File _ -> nameof Build_File\n",
    "            | File_Token_Range _ -> nameof File_Token_Range\n",
    "            | Execute_Command _ -> nameof Execute_Command\n",
    "            | Timeout _ -> nameof Timeout\n",
    "            | Port _ -> nameof Port"
   ]
  },
  {
   "cell_type": "code",
   "execution_count": null,
   "metadata": {
    "dotnet_interactive": {
     "language": "fsharp"
    },
    "polyglot_notebook": {
     "kernelName": "fsharp"
    }
   },
   "outputs": [
    {
     "data": {
      "text/plain": [
       "USAGE: dotnet [--help] [--build-file <string> <string>]\n",
       "              [--file-token-range <string> <string>]\n",
       "              [--execute-command <string>] [--timeout <int>] [--port <int>]\n",
       "\n",
       "OPTIONS:\n",
       "\n",
       "    --build-file <string> <string>\n",
       "                          Build_File\n",
       "    --file-token-range <string> <string>\n",
       "                          File_Token_Range\n",
       "    --execute-command <string>\n",
       "                          Execute_Command\n",
       "    --timeout <int>       Timeout\n",
       "    --port <int>          Port\n",
       "    --help                display this list of options.\n"
      ]
     },
     "metadata": {},
     "output_type": "display_data"
    }
   ],
   "source": [
    "//// test\n",
    "\n",
    "Argu.ArgumentParser.Create<Arguments>().PrintUsage ()"
   ]
  },
  {
   "cell_type": "markdown",
   "metadata": {},
   "source": [
    "## main"
   ]
  },
  {
   "cell_type": "code",
   "execution_count": null,
   "metadata": {
    "dotnet_interactive": {
     "language": "fsharp"
    },
    "polyglot_notebook": {
     "kernelName": "fsharp"
    }
   },
   "outputs": [],
   "source": [
    "let main args =\n",
    "    let argsMap = args |> Runtime.parseArgsMap<Arguments>\n",
    "\n",
    "    let buildFileActions =\n",
    "        argsMap\n",
    "        |> Map.tryFind (nameof Arguments.Build_File)\n",
    "        |> Option.defaultValue []\n",
    "        |> List.choose (function\n",
    "            | Arguments.Build_File (inputPath, outputPath) -> Some (inputPath, outputPath)\n",
    "            | _ -> None\n",
    "        )\n",
    "\n",
    "    let fileTokenRangeActions =\n",
    "        argsMap\n",
    "        |> Map.tryFind (nameof Arguments.File_Token_Range)\n",
    "        |> Option.defaultValue []\n",
    "        |> List.choose (function\n",
    "            | Arguments.File_Token_Range (inputPath, outputPath) -> Some (inputPath, outputPath)\n",
    "            | _ -> None\n",
    "        )\n",
    "\n",
    "    let executeCommandActions =\n",
    "        argsMap\n",
    "        |> Map.tryFind (nameof Arguments.Execute_Command)\n",
    "        |> Option.defaultValue []\n",
    "        |> List.choose (function\n",
    "            | Arguments.Execute_Command command -> Some command\n",
    "            | _ -> None\n",
    "        )\n",
    "\n",
    "    let timeout =\n",
    "        match argsMap |> Map.tryFind (nameof Arguments.Timeout) with\n",
    "        | Some [ Arguments.Timeout timeout ] -> timeout\n",
    "        | _ -> 60000 * 60\n",
    "\n",
    "    let port =\n",
    "        match argsMap |> Map.tryFind (nameof Arguments.Port) with\n",
    "        | Some [ Arguments.Port port ] -> Some port\n",
    "        | _ -> None\n",
    "\n",
    "    async {\n",
    "        let! buildFileResult =\n",
    "            buildFileActions\n",
    "            |> List.map (fun (inputPath, outputPath) -> async {\n",
    "                let port = port |> Option.defaultWith getCompilerPort\n",
    "                let! outputCode, errors = inputPath |> buildFile timeout port None\n",
    "                \n",
    "                errors\n",
    "                |> List.map snd\n",
    "                |> List.iter (fun error ->\n",
    "                    trace Critical (fun () -> $\"main / error: {error}\") getLocals\n",
    "                )\n",
    "\n",
    "                match outputCode with\n",
    "                | Some outputCode ->\n",
    "                    do! outputCode |> FileSystem.writeAllTextAsync outputPath\n",
    "                    return 0\n",
    "                | None ->\n",
    "                    return 1\n",
    "            })\n",
    "            |> Async.Sequential\n",
    "\n",
    "        let! fileTokenRangeResult =\n",
    "            fileTokenRangeActions\n",
    "            |> List.map (fun (inputPath, outputPath) -> async {\n",
    "                let port = port |> Option.defaultWith getCompilerPort\n",
    "                let! tokenRange = inputPath |> getFileTokenRange port None\n",
    "                match tokenRange with\n",
    "                | Some tokenRange ->\n",
    "                    do! tokenRange |> FSharp.Json.Json.serialize |> FileSystem.writeAllTextAsync outputPath\n",
    "                    return 0\n",
    "                | None ->\n",
    "                    return 1\n",
    "            })\n",
    "            |> Async.Sequential\n",
    "        \n",
    "        let! executeCommandResult =\n",
    "            executeCommandActions\n",
    "            |> List.map (fun command -> async {\n",
    "                let port = port |> Option.defaultWith getCompilerPort\n",
    "\n",
    "                let localToken, disposable = Threading.newDisposableToken None\n",
    "                use _ = disposable\n",
    "\n",
    "                let! serverPort, _errors, compilerToken, disposable = awaitCompiler port (Some localToken)\n",
    "                use _ = disposable\n",
    "                \n",
    "                let! exitCode, result =\n",
    "                    Runtime.executeWithOptionsAsync\n",
    "                        {\n",
    "                            Command = command\n",
    "                            CancellationToken = Some compilerToken\n",
    "                            WorkingDirectory = None\n",
    "                            OnLine = None\n",
    "                        }\n",
    "\n",
    "                trace Debug (fun () -> $\"main / executeCommand / exitCode: {exitCode}\") getLocals\n",
    "\n",
    "                return exitCode\n",
    "            })\n",
    "            |> Async.Sequential\n",
    "            \n",
    "        return\n",
    "            [| buildFileResult; fileTokenRangeResult; executeCommandResult |]\n",
    "            |> Array.collect id\n",
    "            |> Array.sum\n",
    "    }\n",
    "    |> Async.runWithTimeout timeout\n",
    "    |> Option.defaultValue 1"
   ]
  },
  {
   "cell_type": "code",
   "execution_count": null,
   "metadata": {
    "dotnet_interactive": {
     "language": "fsharp"
    },
    "polyglot_notebook": {
     "kernelName": "fsharp"
    }
   },
   "outputs": [
    {
     "data": {
      "text/html": [
       "<div class=\"dni-plaintext\"><pre>0</pre></div><style>\n",
       ".dni-code-hint {\n",
       "    font-style: italic;\n",
       "    overflow: hidden;\n",
       "    white-space: nowrap;\n",
       "}\n",
       ".dni-treeview {\n",
       "    white-space: nowrap;\n",
       "}\n",
       ".dni-treeview td {\n",
       "    vertical-align: top;\n",
       "    text-align: start;\n",
       "}\n",
       "details.dni-treeview {\n",
       "    padding-left: 1em;\n",
       "}\n",
       "table td {\n",
       "    text-align: start;\n",
       "}\n",
       "table tr { \n",
       "    vertical-align: top; \n",
       "    margin: 0em 0px;\n",
       "}\n",
       "table tr td pre \n",
       "{ \n",
       "    vertical-align: top !important; \n",
       "    margin: 0em 0px !important;\n",
       "} \n",
       "table th {\n",
       "    text-align: start;\n",
       "}\n",
       "</style>"
      ]
     },
     "metadata": {},
     "output_type": "display_data"
    }
   ],
   "source": [
    "//// test\n",
    "\n",
    "let args =\n",
    "    System.Environment.GetEnvironmentVariable \"ARGS\"\n",
    "    |> Runtime.splitArgs\n",
    "    |> Seq.toArray\n",
    "\n",
    "match args with\n",
    "| [||] -> 0\n",
    "| args -> if main args = 0 then 0 else failwith \"main failed\""
   ]
  }
 ],
 "metadata": {},
 "nbformat": 4,
 "nbformat_minor": 5
}