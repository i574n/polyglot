{
 "cells": [
  {
   "cell_type": "markdown",
   "metadata": {},
   "source": [
    "# Supervisor (Polyglot)"
   ]
  },
  {
   "cell_type": "code",
   "execution_count": null,
   "metadata": {
    "dotnet_interactive": {
     "language": "fsharp"
    },
    "polyglot_notebook": {
     "kernelName": "fsharp"
    }
   },
   "outputs": [],
   "source": [
    "#!import ../../lib/fsharp/Notebooks.dib\n",
    "#!import ../../lib/fsharp/Testing.dib"
   ]
  },
  {
   "cell_type": "code",
   "execution_count": null,
   "metadata": {
    "dotnet_interactive": {
     "language": "fsharp"
    },
    "polyglot_notebook": {
     "kernelName": "fsharp"
    }
   },
   "outputs": [],
   "source": [
    "#r @\"../../../../../../../.nuget/packages/fsharp.control.asyncseq/3.2.1/lib/netstandard2.1/FSharp.Control.AsyncSeq.dll\"\n",
    "#r @\"../../../../../../../.nuget/packages/system.reactive/6.0.1-preview.1/lib/net6.0/System.Reactive.dll\"\n",
    "#r @\"../../../../../../../.nuget/packages/system.reactive.linq/6.0.1-preview.1/lib/netstandard2.0/System.Reactive.Linq.dll\"\n",
    "#r @\"../../../../../../../.nuget/packages/argu/6.2.2/lib/netstandard2.0/Argu.dll\"\n",
    "#r @\"../../../../../../../.nuget/packages/system.commandline/2.0.0-beta4.22272.1/lib/net6.0/System.CommandLine.dll\"\n",
    "#r @\"../../../../../../../.nuget/packages/microsoft.aspnetcore.http.connections.common/7.0.0/lib/net7.0/Microsoft.AspNetCore.Http.Connections.Common.dll\"\n",
    "#r @\"../../../../../../../.nuget/packages/microsoft.aspnetcore.http.connections.client/7.0.0/lib/net7.0/Microsoft.AspNetCore.Http.Connections.Client.dll\"\n",
    "#r @\"../../../../../../../.nuget/packages/microsoft.aspnetcore.signalr.common/7.0.0/lib/net7.0/Microsoft.AspNetCore.SignalR.Common.dll\"\n",
    "#r @\"../../../../../../../.nuget/packages/microsoft.aspnetcore.signalr.client/7.0.0/lib/net7.0/Microsoft.AspNetCore.SignalR.Client.dll\"\n",
    "#r @\"../../../../../../../.nuget/packages/microsoft.aspnetcore.signalr.client.core/7.0.0/lib/net7.0/Microsoft.AspNetCore.SignalR.Client.Core.dll\"\n",
    "#r @\"../../../../../../../.nuget/packages/fsharp.json/0.4.1/lib/netstandard2.0/FSharp.Json.dll\""
   ]
  },
  {
   "cell_type": "code",
   "execution_count": null,
   "metadata": {
    "dotnet_interactive": {
     "language": "fsharp"
    },
    "polyglot_notebook": {
     "kernelName": "fsharp"
    }
   },
   "outputs": [],
   "source": [
    "#!import ../../lib/fsharp/Common.fs\n",
    "#!import ../../lib/fsharp/CommonFSharp.fs\n",
    "#!import ../../lib/fsharp/Threading.fs\n",
    "#!import ../../lib/fsharp/Async.fs\n",
    "#!import ../../lib/fsharp/AsyncSeq.fs\n",
    "#!import ../../lib/fsharp/Networking.fs\n",
    "#!import ../../lib/fsharp/Runtime.fs\n",
    "#!import ../../lib/fsharp/FileSystem.fs"
   ]
  },
  {
   "cell_type": "code",
   "execution_count": null,
   "metadata": {
    "dotnet_interactive": {
     "language": "fsharp"
    },
    "polyglot_notebook": {
     "kernelName": "fsharp"
    }
   },
   "outputs": [],
   "source": [
    "open Common\n",
    "open FileSystem.Operators\n",
    "open Microsoft.AspNetCore.SignalR.Client"
   ]
  },
  {
   "cell_type": "markdown",
   "metadata": {},
   "source": [
    "## sendJson"
   ]
  },
  {
   "cell_type": "code",
   "execution_count": null,
   "metadata": {
    "dotnet_interactive": {
     "language": "fsharp"
    },
    "polyglot_notebook": {
     "kernelName": "fsharp"
    }
   },
   "outputs": [],
   "source": [
    "let inline sendJson (port : int) (json : string) = async {\n",
    "    let! portOpen = Networking.testPortOpen port\n",
    "    if portOpen then\n",
    "        try\n",
    "            let connection = HubConnectionBuilder().WithUrl($\"http://127.0.0.1:{port}\").Build()\n",
    "            do! connection.StartAsync () |> Async.AwaitTask\n",
    "            let! result = connection.InvokeAsync<string>(\"ClientToServerMsg\", json) |> Async.AwaitTask\n",
    "            do! connection.StopAsync () |> Async.AwaitTask\n",
    "            trace Debug (fun () -> $\"sendJson / port: {port} / json: {json} / result.Length: {result |> Option.ofObj |> Option.map String.length}\") getLocals\n",
    "            return Some result\n",
    "        with ex ->\n",
    "            trace Critical (fun () -> $\"sendJson / port: {port} / json: {json} / ex: {ex |> printException}\") getLocals\n",
    "            return None\n",
    "    else\n",
    "        trace Debug (fun () -> \"sendJson / error: port not open\") getLocals\n",
    "        return None\n",
    "}"
   ]
  },
  {
   "cell_type": "markdown",
   "metadata": {},
   "source": [
    "## sendObj"
   ]
  },
  {
   "cell_type": "code",
   "execution_count": null,
   "metadata": {
    "dotnet_interactive": {
     "language": "fsharp"
    },
    "polyglot_notebook": {
     "kernelName": "fsharp"
    }
   },
   "outputs": [],
   "source": [
    "let inline sendObj port obj =\n",
    "    obj\n",
    "    |> System.Text.Json.JsonSerializer.Serialize\n",
    "    |> sendJson port"
   ]
  },
  {
   "cell_type": "markdown",
   "metadata": {},
   "source": [
    "## awaitCompiler"
   ]
  },
  {
   "cell_type": "code",
   "execution_count": null,
   "metadata": {
    "dotnet_interactive": {
     "language": "fsharp"
    },
    "polyglot_notebook": {
     "kernelName": "fsharp"
    }
   },
   "outputs": [],
   "source": [
    "type VSCPos = {| line : int; character : int |}\n",
    "type VSCRange = VSCPos * VSCPos\n",
    "type RString = VSCRange * string\n",
    "type TracedError = {| trace : string list; message : string |}\n",
    "type ClientErrorsRes =\n",
    "    | FatalError of string\n",
    "    | TracedError of TracedError\n",
    "    | PackageErrors of {| uri : string; errors : RString list |}\n",
    "    | TokenizerErrors of {| uri : string; errors : RString list |}\n",
    "    | ParserErrors of {| uri : string; errors : RString list |}\n",
    "    | TypeErrors of {| uri : string; errors : RString list |}"
   ]
  },
  {
   "cell_type": "code",
   "execution_count": null,
   "metadata": {
    "dotnet_interactive": {
     "language": "fsharp"
    },
    "polyglot_notebook": {
     "kernelName": "fsharp"
    }
   },
   "outputs": [],
   "source": [
    "let inline awaitCompiler port cancellationToken = async {\n",
    "    let! ct =\n",
    "        cancellationToken\n",
    "        |> Option.defaultValue System.Threading.CancellationToken.None\n",
    "        |> Async.mergeCancellationTokenWithDefaultAsync\n",
    "\n",
    "    let cts = new System.Threading.CancellationTokenSource ()\n",
    "\n",
    "    let compiler = MailboxProcessor.Start (fun inbox -> async {\n",
    "        let! availablePort = Networking.getAvailablePort (Some 60) port\n",
    "        if availablePort <> port then\n",
    "            inbox.Post port\n",
    "        else\n",
    "            let repositoryRoot = FileSystem.getSourceDirectory () |> FileSystem.findParent \".paket\" false\n",
    "\n",
    "            let compilerPath =\n",
    "                repositoryRoot </> \"deps/The-Spiral-Language/The Spiral Language 2/artifacts/bin/The Spiral Language 2/release\"\n",
    "                |> System.IO.Path.GetFullPath\n",
    "\n",
    "            let dllPath = compilerPath </> \"Spiral.dll\"\n",
    "\n",
    "            let! exitCode, result =\n",
    "                Runtime.executeWithOptionsAsync\n",
    "                    {\n",
    "                        Command = $@\"dotnet \"\"{dllPath}\"\" --port {availablePort} --default-int i32 --default-float f64\"\n",
    "                        CancellationToken = Some ct\n",
    "                        WorkingDirectory = None\n",
    "                        OnLine = Some <| fun { Line = line } -> async {\n",
    "                            if line |> String.contains $\"Server bound to: http://localhost:{availablePort}\" then\n",
    "                                do! Networking.waitForPortAccess (Some 500) true availablePort |> Async.Ignore\n",
    "\n",
    "                                let rec loop retry = async {\n",
    "                                    let getLocals () = $\"port: {availablePort} / retry: {retry} / {getLocals ()}\"\n",
    "                                    try\n",
    "                                        let pingObj = {| Ping = true |}\n",
    "                                        let! pingResult = pingObj |> sendObj availablePort\n",
    "                                        trace Verbose (fun () -> $\"awaitCompiler / Ping / result: {pingResult}\") getLocals\n",
    "                                    with ex ->\n",
    "                                        trace Verbose (fun () -> $\"awaitCompiler / Ping / ex: {ex |> printException}\") getLocals\n",
    "                                        do! Async.Sleep 10\n",
    "                                        do! loop (retry + 1)\n",
    "                                }\n",
    "                                do! loop 0\n",
    "                                inbox.Post availablePort\n",
    "                        }\n",
    "                    }\n",
    "            trace Debug (fun () -> $\"awaitCompiler / exitCode: {exitCode} / result: {result}\") getLocals\n",
    "            cts.Cancel ()\n",
    "    }, ct)\n",
    "\n",
    "    let! serverPort = compiler.Receive ()\n",
    "\n",
    "    let connection = HubConnectionBuilder().WithUrl($\"http://127.0.0.1:{serverPort}\").Build ()\n",
    "    do! connection.StartAsync () |> Async.AwaitTask\n",
    "\n",
    "    let event = Event<_> ()\n",
    "    let disposable = connection.On<string> (\"ServerToClientMsg\", event.Trigger)\n",
    "    let stream =\n",
    "        FSharp.Control.AsyncSeq.unfoldAsync\n",
    "            (fun () -> async {\n",
    "                let! msg = event.Publish |> Async.AwaitEvent\n",
    "                return Some (msg |> FSharp.Json.Json.deserialize<ClientErrorsRes>, ())\n",
    "            })\n",
    "            ()\n",
    "\n",
    "    let disposable =\n",
    "        newDisposable (fun () ->\n",
    "            disposable.Dispose ()\n",
    "            connection.StopAsync () |> Async.AwaitTask |> Async.StartImmediate\n",
    "        )\n",
    "\n",
    "    return\n",
    "        serverPort,\n",
    "        stream,\n",
    "        cts.Token,\n",
    "        disposable\n",
    "}"
   ]
  },
  {
   "cell_type": "markdown",
   "metadata": {},
   "source": [
    "## getFileUri"
   ]
  },
  {
   "cell_type": "code",
   "execution_count": null,
   "metadata": {
    "dotnet_interactive": {
     "language": "fsharp"
    },
    "polyglot_notebook": {
     "kernelName": "fsharp"
    }
   },
   "outputs": [],
   "source": [
    "let inline getFileUri (path : string) =\n",
    "    let path =\n",
    "        if Runtime.isWindows () |> not\n",
    "        then path\n",
    "        else $\"{path.[0] |> System.Char.ToLower}{path.[1..]}\" |> String.replace \"\\\\\" \"/\"\n",
    "    $\"file:///{path |> String.trimStart [| '/' |]}\""
   ]
  },
  {
   "cell_type": "code",
   "execution_count": null,
   "metadata": {
    "dotnet_interactive": {
     "language": "fsharp"
    },
    "polyglot_notebook": {
     "kernelName": "fsharp"
    }
   },
   "outputs": [],
   "source": [
    "let inline getFilePathFromUri uri =\n",
    "    match System.Uri.TryCreate (uri, System.UriKind.Absolute) with\n",
    "    | true, uri -> uri.AbsolutePath |> System.IO.Path.GetFullPath\n",
    "    | _ -> failwith \"invalid uri\""
   ]
  },
  {
   "cell_type": "code",
   "execution_count": null,
   "metadata": {
    "dotnet_interactive": {
     "language": "fsharp"
    },
    "polyglot_notebook": {
     "kernelName": "fsharp"
    }
   },
   "outputs": [],
   "source": [
    "let inline getCompilerPort () =\n",
    "    13805"
   ]
  },
  {
   "cell_type": "markdown",
   "metadata": {},
   "source": [
    "## serialize_obj"
   ]
  },
  {
   "cell_type": "code",
   "execution_count": null,
   "metadata": {
    "dotnet_interactive": {
     "language": "fsharp"
    },
    "polyglot_notebook": {
     "kernelName": "fsharp"
    }
   },
   "outputs": [],
   "source": [
    "    let serializeObj obj =\n",
    "        obj\n",
    "        |> FSharp.Json.Json.serialize\n",
    "        |> String.replace \"\\\\\\\\\" \"\\\\\"\n",
    "        |> String.replace \"\\\\r\\\\n\" \"\\n\"\n",
    "        |> String.replace \"\\\\n\" \"\\n\""
   ]
  },
  {
   "cell_type": "markdown",
   "metadata": {},
   "source": [
    "## buildFile"
   ]
  },
  {
   "cell_type": "code",
   "execution_count": null,
   "metadata": {
    "dotnet_interactive": {
     "language": "fsharp"
    },
    "polyglot_notebook": {
     "kernelName": "fsharp"
    }
   },
   "outputs": [],
   "source": [
    "let inline buildFile timeout port cancellationToken path = async {\n",
    "    let fullPath = path |> System.IO.Path.GetFullPath\n",
    "    let fileDir = fullPath |> System.IO.Path.GetDirectoryName\n",
    "    let fileName = fullPath |> System.IO.Path.GetFileNameWithoutExtension\n",
    "    let! code = fullPath |> FileSystem.readAllTextAsync\n",
    "\n",
    "    let eventFilter = function\n",
    "        | FileSystem.FileSystemChange.Changed (path, _) when path = $\"{fileName}.fsx\" -> true\n",
    "        | _ -> false\n",
    "\n",
    "    let stream, disposable = fileDir |> FileSystem.watchDirectory eventFilter\n",
    "    use _ = disposable\n",
    "\n",
    "    let token, disposable = Threading.newDisposableToken cancellationToken\n",
    "    use _ = disposable\n",
    "\n",
    "    let! serverPort, errors, ct, disposable = awaitCompiler port (Some token)\n",
    "    use _ = disposable\n",
    "\n",
    "    let fsxContentSeq =\n",
    "        stream\n",
    "        |> FSharp.Control.AsyncSeq.choose (function\n",
    "            | _, (FileSystem.FileSystemChange.Changed (path, Some content) as event)\n",
    "                when event |> eventFilter\n",
    "                ->\n",
    "                Some content\n",
    "            | _ -> None\n",
    "        )\n",
    "        |> FSharp.Control.AsyncSeq.map (fun content ->\n",
    "            Some (content |> String.replace \"\\r\\n\" \"\\n\"), None\n",
    "        )\n",
    "\n",
    "    let inline printErrorData (data : {| uri : string; errors : RString list |}) =\n",
    "        let fileName = data.uri |> System.IO.Path.GetFileName\n",
    "        let errors =\n",
    "            data.errors\n",
    "            |> List.map snd\n",
    "            |> String.concat \"\\n\"\n",
    "        $\"{fileName}:\\n{errors}\"\n",
    "\n",
    "    let errorsSeq =\n",
    "        errors\n",
    "        |> FSharp.Control.AsyncSeq.choose (fun error ->\n",
    "            match error with\n",
    "            | FatalError message ->\n",
    "                Some (message, error)\n",
    "            | TracedError data ->\n",
    "                Some (data.message, error)\n",
    "            | PackageErrors data when data.errors |> List.isEmpty |> not ->\n",
    "                Some (data |> printErrorData, error)\n",
    "            | TokenizerErrors data when data.errors |> List.isEmpty |> not ->\n",
    "                Some (data |> printErrorData, error)\n",
    "            | ParserErrors data when data.errors |> List.isEmpty |> not ->\n",
    "                Some (data |> printErrorData, error)\n",
    "            | TypeErrors data when data.errors |> List.isEmpty |> not ->\n",
    "                Some (data |> printErrorData, error)\n",
    "            | _ -> None\n",
    "        )\n",
    "        |> FSharp.Control.AsyncSeq.map (fun (message, error) ->\n",
    "            None, Some (message, error)\n",
    "        )\n",
    "\n",
    "    let timerSeq =\n",
    "        1000\n",
    "        |> FSharp.Control.AsyncSeq.intervalMs\n",
    "        |> FSharp.Control.AsyncSeq.map (fun _ -> None, None)\n",
    "\n",
    "    let outputSeq =\n",
    "        [ fsxContentSeq; errorsSeq; timerSeq ]\n",
    "        |> FSharp.Control.AsyncSeq.mergeAll\n",
    "\n",
    "    let! outputChild =\n",
    "        ((None, [], 0), outputSeq)\n",
    "        ||> FSharp.Control.AsyncSeq.scan (\n",
    "            fun (fsxContentResult, errors, typeErrorCount) (fsxContent, error) ->\n",
    "                match fsxContent, error with\n",
    "                | Some fsxContent, None -> Some fsxContent, errors, typeErrorCount\n",
    "                | None, Some (_, FatalError \"File main has a type error somewhere in its path.\") ->\n",
    "                    fsxContentResult, errors, typeErrorCount + 1\n",
    "                | None, Some error -> fsxContentResult, error :: errors, typeErrorCount\n",
    "                | None, None when typeErrorCount >= 1 ->\n",
    "                    fsxContentResult, errors, typeErrorCount + 1\n",
    "                | _ -> fsxContentResult, errors, typeErrorCount\n",
    "        )\n",
    "        |> FSharp.Control.AsyncSeq.takeWhileInclusive (fun (fsxContent, errors, typeErrorCount) ->\n",
    "            trace Debug (fun () -> $\"buildFile / takeWhileInclusive / fsxContent: {fsxContent |> Option.defaultValue System.String.Empty |> String.ellipsis 750} / errors: {errors |> serializeObj} / typeErrorCount: {typeErrorCount}\") getLocals\n",
    "            match fsxContent, errors with\n",
    "            | None, [] when typeErrorCount > 2 -> false\n",
    "            | None, [] -> true\n",
    "            | _ -> false\n",
    "        )\n",
    "        |> FSharp.Control.AsyncSeq.tryLast\n",
    "        |> Async.withCancellationToken ct\n",
    "        |> Async.catch\n",
    "        |> Async.runWithTimeoutAsync timeout\n",
    "        |> Async.StartChild\n",
    "\n",
    "    let fileOpenObj = {| FileOpen = {| uri = fullPath |> getFileUri; spiText = code |} |}\n",
    "    let! _fileOpenResult = fileOpenObj |> sendObj serverPort\n",
    "\n",
    "    do! Async.Sleep 60\n",
    "\n",
    "    let buildFileObj = {| BuildFile = {| uri = fullPath |> getFileUri; backend = \"Fsharp\" |} |}\n",
    "    let! _buildFileResult = buildFileObj |> sendObj serverPort\n",
    "\n",
    "    return!\n",
    "        outputChild\n",
    "        |> Async.map (function\n",
    "            | Some (Ok (Some (message, errors, _))) ->\n",
    "                message, errors |> List.distinct |> List.rev\n",
    "            | Some (Error ex) ->\n",
    "                trace Critical (fun () -> $\"buildFile / error: {ex |> serializeObj}\") getLocals\n",
    "                None, []\n",
    "            | _ -> None, []\n",
    "        )\n",
    "}"
   ]
  },
  {
   "cell_type": "markdown",
   "metadata": {},
   "source": [
    "## persistCode"
   ]
  },
  {
   "cell_type": "code",
   "execution_count": null,
   "metadata": {
    "dotnet_interactive": {
     "language": "fsharp"
    },
    "polyglot_notebook": {
     "kernelName": "fsharp"
    }
   },
   "outputs": [],
   "source": [
    "let inline persistCode code = async {\n",
    "    let tempDir = FileSystem.createTempDirectory ()\n",
    "\n",
    "    let mainPath = tempDir </> \"main.spi\"\n",
    "    do! code |> FileSystem.writeAllTextAsync mainPath\n",
    "\n",
    "    let repositoryRoot = FileSystem.getSourceDirectory () |> FileSystem.findParent \".paket\" false\n",
    "\n",
    "    let spiprojPath = tempDir </> \"package.spiproj\"\n",
    "    let spiprojCode =\n",
    "        $\"\"\"packageDir: {repositoryRoot </> \"lib\"}\n",
    "packages:\n",
    "    |core-\n",
    "    spiral-\n",
    "modules:\n",
    "    main\n",
    "\"\"\"\n",
    "    do! spiprojCode |> FileSystem.writeAllTextAsync spiprojPath\n",
    "\n",
    "    let disposable = newDisposable (fun () ->\n",
    "        ()\n",
    "        // tempDir |> FileSystem.deleteDirectoryAsync |> Async.Ignore |> Async.RunSynchronously\n",
    "    )\n",
    "\n",
    "    return mainPath, disposable\n",
    "}"
   ]
  },
  {
   "cell_type": "markdown",
   "metadata": {},
   "source": [
    "## buildCode"
   ]
  },
  {
   "cell_type": "code",
   "execution_count": null,
   "metadata": {
    "dotnet_interactive": {
     "language": "fsharp"
    },
    "polyglot_notebook": {
     "kernelName": "fsharp"
    }
   },
   "outputs": [],
   "source": [
    "let inline buildCode timeout cancellationToken code = async {\n",
    "    let! mainPath, disposable = persistCode code\n",
    "    use _ = disposable\n",
    "    let port = getCompilerPort ()\n",
    "    return! mainPath |> buildFile timeout port cancellationToken\n",
    "}"
   ]
  },
  {
   "cell_type": "code",
   "execution_count": null,
   "metadata": {
    "dotnet_interactive": {
     "language": "fsharp"
    },
    "polyglot_notebook": {
     "kernelName": "fsharp"
    }
   },
   "outputs": [],
   "source": [
    "//// test\n",
    "\n",
    "let buildCode timeout cancellationToken code = buildCode timeout cancellationToken code"
   ]
  },
  {
   "cell_type": "code",
   "execution_count": null,
   "metadata": {
    "dotnet_interactive": {
     "language": "fsharp"
    },
    "polyglot_notebook": {
     "kernelName": "fsharp"
    }
   },
   "outputs": [
    {
     "name": "stdout",
     "output_type": "stream",
     "text": [
      "00:00:00 #1 [Verbose] testPortOpen / ex: System.AggregateException: One or more errors occurred. (Connection refused)\n",
      "00:00:00 #2 [Debug] executeAsync / options: { Command =\n",
      "   \"dotnet \"/home/runner/work/polyglot/polyglot/deps/The-Spiral-Language/The Spiral Language 2/artifacts/bin/The Spiral Language 2/release/Spiral.dll\" --port 13805 --default-int i32 --default-float f64\"\n",
      "  WorkingDirectory = None\n",
      "  CancellationToken = Some System.Threading.CancellationToken\n",
      "  OnLine = Some <fun:buildCode@3-1005> }\n",
      "00:00:00 #3 [Verbose] > pwd: /home/runner/work/polyglot/polyglot/apps/spiral\n",
      "00:00:00 #4 [Verbose] > dll_path: /home/runner/work/polyglot/polyglot/deps/The-Spiral-Language/The Spiral Language 2/artifacts/bin/The Spiral Language 2/release\n",
      "00:00:00 #5 [Verbose] testPortOpen / ex: System.AggregateException: One or more errors occurred. (Connection refused)\n",
      "00:00:00 #6 [Verbose] waitForPortAccess / port: 13805 / retry: 0\n",
      "00:00:00 #7 [Verbose] testPortOpen / ex: System.AggregateException: One or more errors occurred. (Connection refused)\n",
      "00:00:00 #8 [Verbose] testPortOpen / ex: System.AggregateException: One or more errors occurred. (Connection refused)\n",
      "00:00:00 #9 [Verbose] testPortOpen / ex: System.AggregateException: One or more errors occurred. (Connection refused)\n",
      "00:00:00 #10 [Verbose] testPortOpen / ex: System.AggregateException: One or more errors occurred. (Connection refused)\n",
      "00:00:00 #11 [Verbose] testPortOpen / ex: System.AggregateException: One or more errors occurred. (Connection refused)\n",
      "00:00:00 #12 [Verbose] testPortOpen / ex: System.AggregateException: One or more errors occurred. (Connection refused)\n",
      "00:00:00 #13 [Verbose] > Starting the Spiral Server. It is bound to: http://localhost:13805\n",
      "00:00:00 #14 [Verbose] testPortOpen / ex: System.AggregateException: One or more errors occurred. (Connection refused)\n",
      "00:00:00 #15 [Verbose] testPortOpen / ex: System.AggregateException: One or more errors occurred. (Connection refused)\n",
      "00:00:00 #16 [Debug] sendJson / port: 13805 / json: {\"Ping\":true} / result.Length:\n",
      "00:00:00 #17 [Verbose] awaitCompiler / Ping / result: Some(null) / port: 13805 / retry: 0\n",
      "00:00:00 #18 [Verbose] > Server bound to: http://localhost:13805\n",
      "00:00:00 #19 [Debug] buildFile / takeWhileInclusive / fsxContent:  / errors: [] / typeErrorCount: 0\n",
      "00:00:00 #20 [Debug] buildFile / takeWhileInclusive / fsxContent:  / errors: [] / typeErrorCount: 0\n",
      "00:00:00 #21 [Debug] sendJson / port: 13805 / json: {\"FileOpen\":{\"spiText\":\"inl app () =\\n    console.write_line \\u0022text\\u0022\\n    1i32\\n\\ninl main () =\\n    app\\n    |\\u003E dyn\\n    |\\u003E ignore\\n\",\"uri\":\"file:///tmp/!dotnet-repl/20240325-1505-2419-1948-17f910d0809f/main.spi\"}} / result.Length:\n",
      "00:00:00 #22 [Debug] sendJson / port: 13805 / json: {\"BuildFile\":{\"backend\":\"Fsharp\",\"uri\":\"file:///tmp/!dotnet-repl/20240325-1505-2419-1948-17f910d0809f/main.spi\"}} / result.Length:\n",
      "00:00:01 #23 [Verbose] > Building /tmp/!dotnet-repl/20240325-1505-2419-1948-17f910d0809f/main.spi\n",
      "00:00:01 #24 [Debug] buildFile / takeWhileInclusive / fsxContent:  / errors: [] / typeErrorCount: 0\n",
      "00:00:02 #25 [Debug] buildFile / takeWhileInclusive / fsxContent: let rec closure0 () () : int32 =\n",
      "    let v0 : string = \"text\"\n",
      "    System.Console.WriteLine v0\n",
      "    1\n",
      "let v0 : (unit -> int32) = closure0()\n",
      "()\n",
      " / errors: [] / typeErrorCount: 0\n",
      "00:00:02 #26 [Debug] watchWithFilter / Disposing watch stream / filter: FileName, LastWrite\n",
      "FSharpOption<Tuple<FSharpOption<String>,FSharpList<String>>>\n",
      "      Value:       - FSharpOption<String>\n",
      "          Value: let rec closure0 () () : int32 =\n",
      "    let v0 : string = \"text\"\n",
      "    System.Console.WriteLine v0\n",
      "    1\n",
      "let v0 : (unit -> int32) = closure0()\n",
      "()\n",
      "\n",
      "      - [  ]\n"
     ]
    }
   ],
   "source": [
    "//// test\n",
    "\n",
    "\"\"\"inl app () =\n",
    "    console.write_line \"text\"\n",
    "    1i32\n",
    "\n",
    "inl main () =\n",
    "    app\n",
    "    |> dyn\n",
    "    |> ignore\n",
    "\"\"\"\n",
    "|> buildCode 15000 None\n",
    "|> Async.runWithTimeout 15000\n",
    "|> Option.map (fun (fsxContent, errors) -> fsxContent, errors |> List.map fst)\n",
    "|> _assertEqual (\n",
    "    Some (\n",
    "        Some \"\"\"let rec closure0 () () : int32 =\n",
    "    let v0 : string = \"text\"\n",
    "    System.Console.WriteLine v0\n",
    "    1\n",
    "let v0 : (unit -> int32) = closure0()\n",
    "()\n",
    "\"\"\",\n",
    "        []\n",
    "    )\n",
    ")"
   ]
  },
  {
   "cell_type": "code",
   "execution_count": null,
   "metadata": {
    "dotnet_interactive": {
     "language": "fsharp"
    },
    "polyglot_notebook": {
     "kernelName": "fsharp"
    }
   },
   "outputs": [
    {
     "name": "stdout",
     "output_type": "stream",
     "text": [
      "00:00:02 #27 [Verbose] testPortOpen / ex: System.AggregateException: One or more errors occurred. (Connection refused)\n",
      "00:00:02 #28 [Debug] executeAsync / options: { Command =\n",
      "   \"dotnet \"/home/runner/work/polyglot/polyglot/deps/The-Spiral-Language/The Spiral Language 2/artifacts/bin/The Spiral Language 2/release/Spiral.dll\" --port 13805 --default-int i32 --default-float f64\"\n",
      "  WorkingDirectory = None\n",
      "  CancellationToken = Some System.Threading.CancellationToken\n",
      "  OnLine = Some <fun:buildCode@3-1005> }\n",
      "00:00:02 #29 [Verbose] > pwd: /home/runner/work/polyglot/polyglot/apps/spiral\n",
      "00:00:02 #30 [Verbose] > dll_path: /home/runner/work/polyglot/polyglot/deps/The-Spiral-Language/The Spiral Language 2/artifacts/bin/The Spiral Language 2/release\n",
      "00:00:02 #31 [Verbose] testPortOpen / ex: System.AggregateException: One or more errors occurred. (Connection refused)\n",
      "00:00:02 #32 [Verbose] waitForPortAccess / port: 13805 / retry: 0\n",
      "00:00:02 #33 [Verbose] testPortOpen / ex: System.AggregateException: One or more errors occurred. (Connection refused)\n",
      "00:00:02 #34 [Verbose] testPortOpen / ex: System.AggregateException: One or more errors occurred. (Connection refused)\n",
      "00:00:02 #35 [Verbose] testPortOpen / ex: System.AggregateException: One or more errors occurred. (Connection refused)\n",
      "00:00:02 #36 [Verbose] testPortOpen / ex: System.AggregateException: One or more errors occurred. (Connection refused)\n",
      "00:00:02 #37 [Verbose] testPortOpen / ex: System.AggregateException: One or more errors occurred. (Connection refused)\n",
      "00:00:02 #38 [Verbose] testPortOpen / ex: System.AggregateException: One or more errors occurred. (Connection refused)\n",
      "00:00:02 #39 [Verbose] > Starting the Spiral Server. It is bound to: http://localhost:13805\n",
      "00:00:02 #40 [Verbose] testPortOpen / ex: System.AggregateException: One or more errors occurred. (Connection refused)\n",
      "00:00:02 #41 [Verbose] testPortOpen / ex: System.AggregateException: One or more errors occurred. (Connection refused)\n",
      "00:00:02 #42 [Debug] sendJson / port: 13805 / json: {\"Ping\":true} / result.Length:\n",
      "00:00:02 #43 [Verbose] awaitCompiler / Ping / result: Some(null) / port: 13805 / retry: 0\n",
      "00:00:02 #44 [Verbose] > Server bound to: http://localhost:13805\n",
      "00:00:02 #45 [Debug] buildFile / takeWhileInclusive / fsxContent:  / errors: [] / typeErrorCount: 0\n",
      "00:00:02 #46 [Debug] buildFile / takeWhileInclusive / fsxContent:  / errors: [] / typeErrorCount: 0\n",
      "00:00:02 #47 [Debug] sendJson / port: 13805 / json: {\"FileOpen\":{\"spiText\":\"\",\"uri\":\"file:///tmp/!dotnet-repl/20240325-1505-2663-6376-635dfcb60b64/main.spi\"}} / result.Length:\n",
      "00:00:02 #48 [Debug] sendJson / port: 13805 / json: {\"BuildFile\":{\"backend\":\"Fsharp\",\"uri\":\"file:///tmp/!dotnet-repl/20240325-1505-2663-6376-635dfcb60b64/main.spi\"}} / result.Length:\n",
      "00:00:03 #49 [Verbose] > Building /tmp/!dotnet-repl/20240325-1505-2663-6376-635dfcb60b64/main.spi\n",
      "00:00:03 #50 [Debug] buildFile / takeWhileInclusive / fsxContent:  / errors: [] / typeErrorCount: 0\n",
      "00:00:04 #51 [Verbose] > Cannot find `main` in file main.\n",
      "00:00:04 #52 [Verbose] > Build skipped for /tmp/!dotnet-repl/20240325-1505-2663-6376-635dfcb60b64/main.spi\n",
      "00:00:04 #53 [Debug] buildFile / takeWhileInclusive / fsxContent:  / errors: [] / typeErrorCount: 0\n",
      "00:00:05 #54 [Debug] buildFile / takeWhileInclusive / fsxContent:  / errors: [] / typeErrorCount: 0\n",
      "00:00:06 #55 [Debug] buildFile / takeWhileInclusive / fsxContent:  / errors: [] / typeErrorCount: 0\n",
      "00:00:07 #56 [Debug] buildFile / takeWhileInclusive / fsxContent:  / errors: [] / typeErrorCount: 0\n",
      "00:00:08 #57 [Debug] buildFile / takeWhileInclusive / fsxContent:  / errors: [] / typeErrorCount: 0\n",
      "00:00:09 #58 [Debug] buildFile / takeWhileInclusive / fsxContent:  / errors: [] / typeErrorCount: 0\n",
      "00:00:10 #59 [Debug] buildFile / takeWhileInclusive / fsxContent:  / errors: [] / typeErrorCount: 0\n",
      "00:00:11 #60 [Debug] buildFile / takeWhileInclusive / fsxContent:  / errors: [] / typeErrorCount: 0\n",
      "00:00:12 #61 [Debug] runWithTimeoutAsync / timeout: 10000\n",
      "00:00:12 #62 [Debug] watchWithFilter / Disposing watch stream / filter: FileName, LastWrite\n",
      "<null>\n"
     ]
    }
   ],
   "source": [
    "//// test\n",
    "\n",
    "\"\"\n",
    "|> buildCode 10000 None\n",
    "|> Async.runWithTimeout 10000\n",
    "|> _assertEqual None"
   ]
  },
  {
   "cell_type": "code",
   "execution_count": null,
   "metadata": {
    "dotnet_interactive": {
     "language": "fsharp"
    },
    "polyglot_notebook": {
     "kernelName": "fsharp"
    }
   },
   "outputs": [
    {
     "name": "stdout",
     "output_type": "stream",
     "text": [
      "00:00:12 #63 [Verbose] testPortOpen / ex: System.AggregateException: One or more errors occurred. (Connection refused)\n",
      "00:00:12 #64 [Debug] executeAsync / options: { Command =\n",
      "   \"dotnet \"/home/runner/work/polyglot/polyglot/deps/The-Spiral-Language/The Spiral Language 2/artifacts/bin/The Spiral Language 2/release/Spiral.dll\" --port 13805 --default-int i32 --default-float f64\"\n",
      "  WorkingDirectory = None\n",
      "  CancellationToken = Some System.Threading.CancellationToken\n",
      "  OnLine = Some <fun:buildCode@3-1005> }\n",
      "00:00:12 #65 [Verbose] > pwd: /home/runner/work/polyglot/polyglot/apps/spiral\n",
      "00:00:12 #66 [Verbose] testPortOpen / ex: System.AggregateException: One or more errors occurred. (Connection refused)\n",
      "00:00:12 #67 [Verbose] waitForPortAccess / port: 13805 / retry: 0\n",
      "00:00:12 #68 [Verbose] > dll_path: /home/runner/work/polyglot/polyglot/deps/The-Spiral-Language/The Spiral Language 2/artifacts/bin/The Spiral Language 2/release\n",
      "00:00:12 #69 [Verbose] testPortOpen / ex: System.AggregateException: One or more errors occurred. (Connection refused)\n",
      "00:00:12 #70 [Verbose] testPortOpen / ex: System.AggregateException: One or more errors occurred. (Connection refused)\n",
      "00:00:12 #71 [Verbose] testPortOpen / ex: System.AggregateException: One or more errors occurred. (Connection refused)\n",
      "00:00:12 #72 [Verbose] testPortOpen / ex: System.AggregateException: One or more errors occurred. (Connection refused)\n",
      "00:00:12 #73 [Verbose] testPortOpen / ex: System.AggregateException: One or more errors occurred. (Connection refused)\n",
      "00:00:12 #74 [Verbose] testPortOpen / ex: System.AggregateException: One or more errors occurred. (Connection refused)\n",
      "00:00:12 #75 [Verbose] testPortOpen / ex: System.AggregateException: One or more errors occurred. (Connection refused)\n",
      "00:00:12 #76 [Verbose] > Starting the Spiral Server. It is bound to: http://localhost:13805\n",
      "00:00:12 #79 [Verbose] testPortOpen / ex: System.AggregateException: One or more errors occurred. (Connection refused)\n",
      "00:00:12 #80 [Verbose] testPortOpen / ex: System.AggregateException: One or more errors occurred. (Connection refused)\n",
      "00:00:13 #81 [Debug] sendJson / port: 13805 / json: {\"Ping\":true} / result.Length:\n",
      "00:00:13 #82 [Verbose] awaitCompiler / Ping / result: Some(null) / port: 13805 / retry: 0\n",
      "00:00:13 #83 [Verbose] > Server bound to: http://localhost:13805\n",
      "00:00:13 #84 [Debug] buildFile / takeWhileInclusive / fsxContent:  / errors: [] / typeErrorCount: 0\n",
      "00:00:13 #85 [Debug] buildFile / takeWhileInclusive / fsxContent:  / errors: [] / typeErrorCount: 0\n",
      "00:00:13 #86 [Debug] sendJson / port: 13805 / json: {\"FileOpen\":{\"spiText\":\"inl app () =\\n    0i32\\n\\ninl a = 1\\n\\ninl main () =\\n    app\\n    |\\u003E dyn\\n    |\\u003E ignore\\n\",\"uri\":\"file:///tmp/!dotnet-repl/20240325-1505-3679-7943-73c03d58cd08/main.spi\"}} / result.Length:\n",
      "00:00:13 #87 [Debug] sendJson / port: 13805 / json: {\"BuildFile\":{\"backend\":\"Fsharp\",\"uri\":\"file:///tmp/!dotnet-repl/20240325-1505-3679-7943-73c03d58cd08/main.spi\"}} / result.Length:\n",
      "00:00:13 #88 [Verbose] > Building /tmp/!dotnet-repl/20240325-1505-3679-7943-73c03d58cd08/main.spi\n",
      "00:00:13 #89 [Debug] buildFile / takeWhileInclusive / fsxContent:  / errors: [\n",
      "  [\n",
      "    \"main.spi:\n",
      "Global inl/let statements should all return functions known at parse time.\",\n",
      "    {\n",
      "      \"ParserErrors\": {\n",
      "        \"errors\": [\n",
      "          [\n",
      "            [\n",
      "              {\n",
      "                \"character\": 0,\n",
      "                \"line\": 3\n",
      "              },\n",
      "              {\n",
      "                \"character\": 9,\n",
      "                \"line\": 3\n",
      "              }\n",
      "            ],\n",
      "            \"Global inl/let statements should all return functions known at parse time.\"\n",
      "          ]\n",
      "        ],\n",
      "        \"uri\": \"file:///tmp/!dotnet-repl/20240325-1505-3679-7943-73c03d58cd08/main.spi\"\n",
      "      }\n",
      "    }\n",
      "  ]\n",
      "] / typeErrorCount: 0\n",
      "00:00:13 #90 [Debug] watchWithFilter / Disposing watch stream / filter: FileName, LastWrite\n",
      "FSharpOption<Tuple<FSharpOption<String>,FSharpList<String>>>\n",
      "      Value:       - <null>\n",
      "      - [ main.spi:\n",
      "Global inl/let statements should all return functions known at parse time. ]\n"
     ]
    }
   ],
   "source": [
    "//// test\n",
    "\n",
    "\"inl app () =\n",
    "    0i32\n",
    "\n",
    "inl a = 1\n",
    "\n",
    "inl main () =\n",
    "    app\n",
    "    |> dyn\n",
    "    |> ignore\n",
    "\"\n",
    "|> buildCode 10000 None\n",
    "|> Async.runWithTimeout 10000\n",
    "|> Option.map (fun (fsxContent, errors) -> fsxContent, errors |> List.map fst)\n",
    "|> _assertEqual (\n",
    "    Some (\n",
    "        None,\n",
    "        [ \"main.spi:\n",
    "Global inl/let statements should all return functions known at parse time.\" ]\n",
    "    )\n",
    ")"
   ]
  },
  {
   "cell_type": "code",
   "execution_count": null,
   "metadata": {
    "dotnet_interactive": {
     "language": "fsharp"
    },
    "polyglot_notebook": {
     "kernelName": "fsharp"
    }
   },
   "outputs": [
    {
     "name": "stdout",
     "output_type": "stream",
     "text": [
      "00:00:13 #91 [Verbose] testPortOpen / ex: System.AggregateException: One or more errors occurred. (Connection refused)\n",
      "00:00:13 #92 [Debug] executeAsync / options: { Command =\n",
      "   \"dotnet \"/home/runner/work/polyglot/polyglot/deps/The-Spiral-Language/The Spiral Language 2/artifacts/bin/The Spiral Language 2/release/Spiral.dll\" --port 13805 --default-int i32 --default-float f64\"\n",
      "  WorkingDirectory = None\n",
      "  CancellationToken = Some System.Threading.CancellationToken\n",
      "  OnLine = Some <fun:buildCode@3-1005> }\n",
      "00:00:13 #93 [Verbose] > pwd: /home/runner/work/polyglot/polyglot/apps/spiral\n",
      "00:00:13 #94 [Verbose] testPortOpen / ex: System.AggregateException: One or more errors occurred. (Connection refused)\n",
      "00:00:13 #95 [Verbose] waitForPortAccess / port: 13805 / retry: 0\n",
      "00:00:13 #96 [Verbose] > dll_path: /home/runner/work/polyglot/polyglot/deps/The-Spiral-Language/The Spiral Language 2/artifacts/bin/The Spiral Language 2/release\n",
      "00:00:13 #97 [Verbose] testPortOpen / ex: System.AggregateException: One or more errors occurred. (Connection refused)\n",
      "00:00:13 #98 [Verbose] testPortOpen / ex: System.AggregateException: One or more errors occurred. (Connection refused)\n",
      "00:00:13 #100 [Verbose] testPortOpen / ex: System.AggregateException: One or more errors occurred. (Connection refused)\n",
      "00:00:13 #101 [Verbose] testPortOpen / ex: System.AggregateException: One or more errors occurred. (Connection refused)\n",
      "00:00:13 #102 [Verbose] testPortOpen / ex: System.AggregateException: One or more errors occurred. (Connection refused)\n",
      "00:00:13 #103 [Verbose] testPortOpen / ex: System.AggregateException: One or more errors occurred. (Connection refused)\n",
      "00:00:13 #104 [Verbose] testPortOpen / ex: System.AggregateException: One or more errors occurred. (Connection refused)\n",
      "00:00:13 #105 [Verbose] > Starting the Spiral Server. It is bound to: http://localhost:13805\n",
      "00:00:13 #106 [Verbose] testPortOpen / ex: System.AggregateException: One or more errors occurred. (Connection refused)\n",
      "00:00:14 #107 [Debug] sendJson / port: 13805 / json: {\"Ping\":true} / result.Length:\n",
      "00:00:14 #108 [Verbose] awaitCompiler / Ping / result: Some(null) / port: 13805 / retry: 0\n",
      "00:00:14 #109 [Verbose] > Server bound to: http://localhost:13805\n",
      "00:00:14 #110 [Debug] buildFile / takeWhileInclusive / fsxContent:  / errors: [] / typeErrorCount: 0\n",
      "00:00:14 #111 [Debug] buildFile / takeWhileInclusive / fsxContent:  / errors: [] / typeErrorCount: 0\n",
      "00:00:14 #112 [Debug] sendJson / port: 13805 / json: {\"FileOpen\":{\"spiText\":\"inl main () =\\n    1i32 / 0i32\\n\",\"uri\":\"file:///tmp/!dotnet-repl/20240325-1505-3786-8671-872499beff88/main.spi\"}} / result.Length:\n",
      "00:00:14 #113 [Debug] sendJson / port: 13805 / json: {\"BuildFile\":{\"backend\":\"Fsharp\",\"uri\":\"file:///tmp/!dotnet-repl/20240325-1505-3786-8671-872499beff88/main.spi\"}} / result.Length:\n",
      "00:00:14 #114 [Verbose] > Building /tmp/!dotnet-repl/20240325-1505-3786-8671-872499beff88/main.spi\n",
      "00:00:15 #116 [Debug] buildFile / takeWhileInclusive / fsxContent:  / errors: [] / typeErrorCount: 0\n",
      "00:00:15 #117 [Debug] buildFile / takeWhileInclusive / fsxContent:  / errors: [\n",
      "  [\n",
      "    \"An attempt to divide by zero has been detected at compile time.\",\n",
      "    {\n",
      "      \"TracedError\": {\n",
      "        \"message\": \"An attempt to divide by zero has been detected at compile time.\",\n",
      "        \"trace\": [\n",
      "          \"Error trace on line: 1, column: 10 in module: /tmp/!dotnet-repl/20240325-1505-3786-8671-872499beff88/main.spi.\n",
      "inl main () =\n",
      "         ^\n",
      "\",\n",
      "          \"Error trace on line: 2, column: 5 in module: /tmp/!dotnet-repl/20240325-1505-3786-8671-872499beff88/main.spi.\n",
      "    1i32 / 0i32\n",
      "    ^\n",
      "\"\n",
      "        ]\n",
      "      }\n",
      "    }\n",
      "  ]\n",
      "] / typeErrorCount: 0\n",
      "00:00:15 #118 [Debug] watchWithFilter / Disposing watch stream / filter: FileName, LastWrite\n",
      "FSharpOption<Tuple<FSharpOption<String>,FSharpList<String>>>\n",
      "      Value:       - <null>\n",
      "      - [ An attempt to divide by zero has been detected at compile time. ]\n"
     ]
    }
   ],
   "source": [
    "//// test\n",
    "\n",
    "\"\"\"inl main () =\n",
    "    1i32 / 0i32\n",
    "\"\"\"\n",
    "|> buildCode 10000 None\n",
    "|> Async.runWithTimeout 10000\n",
    "|> Option.map (fun (fsxContent, errors) -> fsxContent, errors |> List.map fst)\n",
    "|> _assertEqual (\n",
    "    Some (\n",
    "        None,\n",
    "        [ \"An attempt to divide by zero has been detected at compile time.\" ]\n",
    "    )\n",
    ")"
   ]
  },
  {
   "cell_type": "code",
   "execution_count": null,
   "metadata": {
    "dotnet_interactive": {
     "language": "fsharp"
    },
    "polyglot_notebook": {
     "kernelName": "fsharp"
    }
   },
   "outputs": [
    {
     "name": "stdout",
     "output_type": "stream",
     "text": [
      "00:00:15 #119 [Verbose] testPortOpen / ex: System.AggregateException: One or more errors occurred. (Connection refused)\n",
      "00:00:15 #120 [Debug] executeAsync / options: { Command =\n",
      "   \"dotnet \"/home/runner/work/polyglot/polyglot/deps/The-Spiral-Language/The Spiral Language 2/artifacts/bin/The Spiral Language 2/release/Spiral.dll\" --port 13805 --default-int i32 --default-float f64\"\n",
      "  WorkingDirectory = None\n",
      "  CancellationToken = Some System.Threading.CancellationToken\n",
      "  OnLine = Some <fun:buildCode@3-1005> }\n",
      "00:00:15 #122 [Verbose] > pwd: /home/runner/work/polyglot/polyglot/apps/spiral\n",
      "00:00:15 #123 [Verbose] testPortOpen / ex: System.AggregateException: One or more errors occurred. (Connection refused)\n",
      "00:00:15 #124 [Verbose] waitForPortAccess / port: 13805 / retry: 0\n",
      "00:00:15 #125 [Verbose] > dll_path: /home/runner/work/polyglot/polyglot/deps/The-Spiral-Language/The Spiral Language 2/artifacts/bin/The Spiral Language 2/release\n",
      "00:00:15 #126 [Verbose] testPortOpen / ex: System.AggregateException: One or more errors occurred. (Connection refused)\n",
      "00:00:15 #127 [Verbose] testPortOpen / ex: System.AggregateException: One or more errors occurred. (Connection refused)\n",
      "00:00:15 #128 [Verbose] testPortOpen / ex: System.AggregateException: One or more errors occurred. (Connection refused)\n",
      "00:00:15 #129 [Verbose] testPortOpen / ex: System.AggregateException: One or more errors occurred. (Connection refused)\n",
      "00:00:15 #130 [Verbose] testPortOpen / ex: System.AggregateException: One or more errors occurred. (Connection refused)\n",
      "00:00:16 #131 [Verbose] testPortOpen / ex: System.AggregateException: One or more errors occurred. (Connection refused)\n",
      "00:00:16 #132 [Verbose] > Starting the Spiral Server. It is bound to: http://localhost:13805\n",
      "00:00:16 #133 [Verbose] testPortOpen / ex: System.AggregateException: One or more errors occurred. (Connection refused)\n",
      "00:00:16 #134 [Verbose] testPortOpen / ex: System.AggregateException: One or more errors occurred. (Connection refused)\n",
      "00:00:16 #135 [Debug] sendJson / port: 13805 / json: {\"Ping\":true} / result.Length:\n",
      "00:00:16 #136 [Verbose] awaitCompiler / Ping / result: Some(null) / port: 13805 / retry: 0\n",
      "00:00:16 #137 [Verbose] > Server bound to: http://localhost:13805\n",
      "00:00:16 #138 [Debug] buildFile / takeWhileInclusive / fsxContent:  / errors: [] / typeErrorCount: 0\n",
      "00:00:16 #139 [Debug] buildFile / takeWhileInclusive / fsxContent:  / errors: [] / typeErrorCount: 0\n",
      "00:00:16 #140 [Debug] sendJson / port: 13805 / json: {\"FileOpen\":{\"spiText\":\"inl main () =\\n    1 \\u002B \\u0022\\u0022\\n\",\"uri\":\"file:///tmp/!dotnet-repl/20240325-1505-3992-9269-905f541cb6c7/main.spi\"}} / result.Length:\n",
      "00:00:16 #141 [Debug] sendJson / port: 13805 / json: {\"BuildFile\":{\"backend\":\"Fsharp\",\"uri\":\"file:///tmp/!dotnet-repl/20240325-1505-3992-9269-905f541cb6c7/main.spi\"}} / result.Length:\n",
      "00:00:16 #142 [Verbose] > Building /tmp/!dotnet-repl/20240325-1505-3992-9269-905f541cb6c7/main.spi\n",
      "00:00:17 #144 [Debug] buildFile / takeWhileInclusive / fsxContent:  / errors: [] / typeErrorCount: 0\n",
      "00:00:17 #145 [Debug] buildFile / takeWhileInclusive / fsxContent:  / errors: [] / typeErrorCount: 1\n",
      "00:00:17 #146 [Debug] buildFile / takeWhileInclusive / fsxContent:  / errors: [\n",
      "  [\n",
      "    \"main.spi:\n",
      "Constraint satisfaction error.\n",
      "Got: string\n",
      "Fails to satisfy: number\",\n",
      "    {\n",
      "      \"TypeErrors\": {\n",
      "        \"errors\": [\n",
      "          [\n",
      "            [\n",
      "              {\n",
      "                \"character\": 8,\n",
      "                \"line\": 1\n",
      "              },\n",
      "              {\n",
      "                \"character\": 10,\n",
      "                \"line\": 1\n",
      "              }\n",
      "            ],\n",
      "            \"Constraint satisfaction error.\n",
      "Got: string\n",
      "Fails to satisfy: number\"\n",
      "          ]\n",
      "        ],\n",
      "        \"uri\": \"file:///tmp/!dotnet-repl/20240325-1505-3992-9269-905f541cb6c7/main.spi\"\n",
      "      }\n",
      "    }\n",
      "  ]\n",
      "] / typeErrorCount: 1\n",
      "00:00:17 #147 [Debug] watchWithFilter / Disposing watch stream / filter: FileName, LastWrite\n",
      "FSharpOption<Tuple<FSharpOption<String>,FSharpList<String>>>\n",
      "      Value:       - <null>\n",
      "      - [ main.spi:\n",
      "Constraint satisfaction error.\n",
      "Got: string\n",
      "Fails to satisfy: number ]\n"
     ]
    }
   ],
   "source": [
    "//// test\n",
    "\n",
    "\"\"\"inl main () =\n",
    "    1 + \"\"\n",
    "\"\"\"\n",
    "|> buildCode 10000 None\n",
    "|> Async.runWithTimeout 10000\n",
    "|> Option.map (fun (fsxContent, errors) -> fsxContent, errors |> List.map fst)\n",
    "|> _assertEqual (\n",
    "    Some (\n",
    "        None,\n",
    "        [\n",
    "            \"main.spi:\n",
    "Constraint satisfaction error.\n",
    "Got: string\n",
    "Fails to satisfy: number\"\n",
    "        ]\n",
    "    )\n",
    ")"
   ]
  },
  {
   "cell_type": "code",
   "execution_count": null,
   "metadata": {
    "dotnet_interactive": {
     "language": "fsharp"
    },
    "polyglot_notebook": {
     "kernelName": "fsharp"
    }
   },
   "outputs": [
    {
     "name": "stdout",
     "output_type": "stream",
     "text": [
      "00:00:17 #148 [Verbose] testPortOpen / ex: System.AggregateException: One or more errors occurred. (Connection refused)\n",
      "00:00:17 #149 [Debug] executeAsync / options: { Command =\n",
      "   \"dotnet \"/home/runner/work/polyglot/polyglot/deps/The-Spiral-Language/The Spiral Language 2/artifacts/bin/The Spiral Language 2/release/Spiral.dll\" --port 13805 --default-int i32 --default-float f64\"\n",
      "  WorkingDirectory = None\n",
      "  CancellationToken = Some System.Threading.CancellationToken\n",
      "  OnLine = Some <fun:buildCode@3-1005> }\n",
      "00:00:17 #150 [Verbose] > pwd: /home/runner/work/polyglot/polyglot/apps/spiral\n",
      "00:00:17 #151 [Verbose] testPortOpen / ex: System.AggregateException: One or more errors occurred. (Connection refused)\n",
      "00:00:17 #152 [Verbose] waitForPortAccess / port: 13805 / retry: 0\n",
      "00:00:17 #153 [Verbose] > dll_path: /home/runner/work/polyglot/polyglot/deps/The-Spiral-Language/The Spiral Language 2/artifacts/bin/The Spiral Language 2/release\n",
      "00:00:17 #154 [Verbose] testPortOpen / ex: System.AggregateException: One or more errors occurred. (Connection refused)\n",
      "00:00:17 #155 [Verbose] testPortOpen / ex: System.AggregateException: One or more errors occurred. (Connection refused)\n",
      "00:00:17 #156 [Verbose] testPortOpen / ex: System.AggregateException: One or more errors occurred. (Connection refused)\n",
      "00:00:17 #157 [Verbose] testPortOpen / ex: System.AggregateException: One or more errors occurred. (Connection refused)\n",
      "00:00:17 #158 [Verbose] testPortOpen / ex: System.AggregateException: One or more errors occurred. (Connection refused)\n",
      "00:00:17 #159 [Verbose] testPortOpen / ex: System.AggregateException: One or more errors occurred. (Connection refused)\n",
      "00:00:17 #160 [Verbose] > Starting the Spiral Server. It is bound to: http://localhost:13805\n",
      "00:00:17 #161 [Verbose] testPortOpen / ex: System.AggregateException: One or more errors occurred. (Connection refused)\n",
      "00:00:17 #162 [Verbose] testPortOpen / ex: System.AggregateException: One or more errors occurred. (Connection refused)\n",
      "00:00:17 #163 [Verbose] testPortOpen / ex: System.AggregateException: One or more errors occurred. (Connection refused)\n",
      "00:00:17 #165 [Debug] sendJson / port: 13805 / json: {\"Ping\":true} / result.Length:\n",
      "00:00:17 #166 [Verbose] awaitCompiler / Ping / result: Some(null) / port: 13805 / retry: 0\n",
      "00:00:17 #167 [Verbose] > Server bound to: http://localhost:13805\n",
      "00:00:17 #168 [Debug] buildFile / takeWhileInclusive / fsxContent:  / errors: [] / typeErrorCount: 0\n",
      "00:00:17 #169 [Debug] buildFile / takeWhileInclusive / fsxContent:  / errors: [] / typeErrorCount: 0\n",
      "00:00:17 #170 [Debug] sendJson / port: 13805 / json: {\"FileOpen\":{\"spiText\":\"inl main () =\\n    x \\u002B y\\n\",\"uri\":\"file:///tmp/!dotnet-repl/20240325-1505-4165-6516-627ba4586b21/main.spi\"}} / result.Length:\n",
      "00:00:17 #171 [Debug] sendJson / port: 13805 / json: {\"BuildFile\":{\"backend\":\"Fsharp\",\"uri\":\"file:///tmp/!dotnet-repl/20240325-1505-4165-6516-627ba4586b21/main.spi\"}} / result.Length:\n",
      "00:00:18 #172 [Verbose] > Building /tmp/!dotnet-repl/20240325-1505-4165-6516-627ba4586b21/main.spi\n",
      "00:00:18 #174 [Debug] buildFile / takeWhileInclusive / fsxContent:  / errors: [] / typeErrorCount: 0\n",
      "00:00:19 #175 [Debug] buildFile / takeWhileInclusive / fsxContent:  / errors: [] / typeErrorCount: 1\n",
      "00:00:19 #176 [Debug] buildFile / takeWhileInclusive / fsxContent:  / errors: [\n",
      "  [\n",
      "    \"main.spi:\n",
      "Unbound variable: x.\n",
      "Unbound variable: y.\",\n",
      "    {\n",
      "      \"TypeErrors\": {\n",
      "        \"errors\": [\n",
      "          [\n",
      "            [\n",
      "              {\n",
      "                \"character\": 4,\n",
      "                \"line\": 1\n",
      "              },\n",
      "              {\n",
      "                \"character\": 5,\n",
      "                \"line\": 1\n",
      "              }\n",
      "            ],\n",
      "            \"Unbound variable: x.\"\n",
      "          ],\n",
      "          [\n",
      "            [\n",
      "              {\n",
      "                \"character\": 8,\n",
      "                \"line\": 1\n",
      "              },\n",
      "              {\n",
      "                \"character\": 9,\n",
      "                \"line\": 1\n",
      "              }\n",
      "            ],\n",
      "            \"Unbound variable: y.\"\n",
      "          ]\n",
      "        ],\n",
      "        \"uri\": \"file:///tmp/!dotnet-repl/20240325-1505-4165-6516-627ba4586b21/main.spi\"\n",
      "      }\n",
      "    }\n",
      "  ]\n",
      "] / typeErrorCount: 1\n",
      "00:00:19 #177 [Debug] watchWithFilter / Disposing watch stream / filter: FileName, LastWrite\n",
      "FSharpOption<Tuple<FSharpOption<String>,FSharpList<String>>>\n",
      "      Value:       - <null>\n",
      "      - [ main.spi:\n",
      "Unbound variable: x.\n",
      "Unbound variable: y. ]\n"
     ]
    }
   ],
   "source": [
    "//// test\n",
    "\n",
    "\"\"\"inl main () =\n",
    "    x + y\n",
    "\"\"\"\n",
    "|> buildCode 10000 None\n",
    "|> Async.runWithTimeout 10000\n",
    "|> Option.map (fun (fsxContent, errors) -> fsxContent, errors |> List.map fst)\n",
    "|> _assertEqual (\n",
    "    Some (\n",
    "        None,\n",
    "        [\n",
    "            \"main.spi:\n",
    "Unbound variable: x.\n",
    "Unbound variable: y.\"\n",
    "        ]\n",
    "    )\n",
    ")"
   ]
  },
  {
   "cell_type": "code",
   "execution_count": null,
   "metadata": {
    "dotnet_interactive": {
     "language": "fsharp"
    },
    "polyglot_notebook": {
     "kernelName": "fsharp"
    }
   },
   "outputs": [
    {
     "name": "stdout",
     "output_type": "stream",
     "text": [
      "00:00:19 #178 [Verbose] testPortOpen / ex: System.AggregateException: One or more errors occurred. (Connection refused)\n",
      "00:00:19 #179 [Debug] executeAsync / options: { Command =\n",
      "   \"dotnet \"/home/runner/work/polyglot/polyglot/deps/The-Spiral-Language/The Spiral Language 2/artifacts/bin/The Spiral Language 2/release/Spiral.dll\" --port 13805 --default-int i32 --default-float f64\"\n",
      "  WorkingDirectory = None\n",
      "  CancellationToken = Some System.Threading.CancellationToken\n",
      "  OnLine = Some <fun:buildCode@3-1005> }\n",
      "00:00:19 #180 [Verbose] > pwd: /home/runner/work/polyglot/polyglot/apps/spiral\n",
      "00:00:19 #181 [Verbose] testPortOpen / ex: System.AggregateException: One or more errors occurred. (Connection refused)\n",
      "00:00:19 #182 [Verbose] waitForPortAccess / port: 13805 / retry: 0\n",
      "00:00:19 #183 [Verbose] > dll_path: /home/runner/work/polyglot/polyglot/deps/The-Spiral-Language/The Spiral Language 2/artifacts/bin/The Spiral Language 2/release\n",
      "00:00:19 #184 [Verbose] testPortOpen / ex: System.AggregateException: One or more errors occurred. (Connection refused)\n",
      "00:00:19 #185 [Verbose] testPortOpen / ex: System.AggregateException: One or more errors occurred. (Connection refused)\n",
      "00:00:19 #186 [Verbose] testPortOpen / ex: System.AggregateException: One or more errors occurred. (Connection refused)\n",
      "00:00:19 #187 [Verbose] testPortOpen / ex: System.AggregateException: One or more errors occurred. (Connection refused)\n",
      "00:00:19 #188 [Verbose] testPortOpen / ex: System.AggregateException: One or more errors occurred. (Connection refused)\n",
      "00:00:19 #189 [Verbose] testPortOpen / ex: System.AggregateException: One or more errors occurred. (Connection refused)\n",
      "00:00:19 #190 [Verbose] > Starting the Spiral Server. It is bound to: http://localhost:13805\n",
      "00:00:19 #191 [Verbose] testPortOpen / ex: System.AggregateException: One or more errors occurred. (Connection refused)\n",
      "00:00:19 #192 [Verbose] testPortOpen / ex: System.AggregateException: One or more errors occurred. (Connection refused)\n",
      "00:00:19 #193 [Verbose] testPortOpen / ex: System.AggregateException: One or more errors occurred. (Connection refused)\n",
      "00:00:19 #194 [Debug] sendJson / port: 13805 / json: {\"Ping\":true} / result.Length:\n",
      "00:00:19 #195 [Verbose] awaitCompiler / Ping / result: Some(null) / port: 13805 / retry: 0\n",
      "00:00:19 #196 [Verbose] > Server bound to: http://localhost:13805\n",
      "00:00:19 #197 [Debug] buildFile / takeWhileInclusive / fsxContent:  / errors: [] / typeErrorCount: 0\n",
      "00:00:19 #198 [Debug] buildFile / takeWhileInclusive / fsxContent:  / errors: [] / typeErrorCount: 0\n",
      "00:00:19 #199 [Debug] sendJson / port: 13805 / json: {\"FileOpen\":{\"spiText\":\"union a =\\n    | B\\n    | c\\n\\ninl main () =\\n    ()\\n\",\"uri\":\"file:///tmp/!dotnet-repl/20240325-1505-4341-4175-412584d0e733/main.spi\"}} / result.Length:\n",
      "00:00:19 #200 [Debug] sendJson / port: 13805 / json: {\"BuildFile\":{\"backend\":\"Fsharp\",\"uri\":\"file:///tmp/!dotnet-repl/20240325-1505-4341-4175-412584d0e733/main.spi\"}} / result.Length:\n",
      "00:00:19 #202 [Verbose] > Building /tmp/!dotnet-repl/20240325-1505-4341-4175-412584d0e733/main.spi\n",
      "00:00:20 #203 [Debug] buildFile / takeWhileInclusive / fsxContent:  / errors: [\n",
      "  [\n",
      "    \"main.spi:\n",
      "Expected: uppercase variable\",\n",
      "    {\n",
      "      \"ParserErrors\": {\n",
      "        \"errors\": [\n",
      "          [\n",
      "            [\n",
      "              {\n",
      "                \"character\": 6,\n",
      "                \"line\": 2\n",
      "              },\n",
      "              {\n",
      "                \"character\": 7,\n",
      "                \"line\": 2\n",
      "              }\n",
      "            ],\n",
      "            \"Expected: uppercase variable\"\n",
      "          ]\n",
      "        ],\n",
      "        \"uri\": \"file:///tmp/!dotnet-repl/20240325-1505-4341-4175-412584d0e733/main.spi\"\n",
      "      }\n",
      "    }\n",
      "  ]\n",
      "] / typeErrorCount: 0\n",
      "00:00:20 #204 [Debug] watchWithFilter / Disposing watch stream / filter: FileName, LastWrite\n",
      "FSharpOption<Tuple<FSharpOption<String>,FSharpList<String>>>\n",
      "      Value:       - <null>\n",
      "      - [ main.spi:\n",
      "Expected: uppercase variable ]\n"
     ]
    }
   ],
   "source": [
    "//// test\n",
    "\n",
    "\"\"\"union a =\n",
    "    | B\n",
    "    | c\n",
    "\n",
    "inl main () =\n",
    "    ()\n",
    "\"\"\"\n",
    "|> buildCode 10000 None\n",
    "|> Async.runWithTimeout 10000\n",
    "|> Option.map (fun (fsxContent, errors) -> fsxContent, errors |> List.map fst)\n",
    "|> _assertEqual (\n",
    "    Some (\n",
    "        None,\n",
    "        [ \"main.spi:\n",
    "Expected: uppercase variable\" ]\n",
    "    )\n",
    ")"
   ]
  },
  {
   "cell_type": "code",
   "execution_count": null,
   "metadata": {
    "dotnet_interactive": {
     "language": "fsharp"
    },
    "polyglot_notebook": {
     "kernelName": "fsharp"
    }
   },
   "outputs": [
    {
     "name": "stdout",
     "output_type": "stream",
     "text": [
      "00:00:20 #205 [Verbose] testPortOpen / ex: System.AggregateException: One or more errors occurred. (Connection refused)\n",
      "00:00:20 #206 [Debug] executeAsync / options: { Command =\n",
      "   \"dotnet \"/home/runner/work/polyglot/polyglot/deps/The-Spiral-Language/The Spiral Language 2/artifacts/bin/The Spiral Language 2/release/Spiral.dll\" --port 13805 --default-int i32 --default-float f64\"\n",
      "  WorkingDirectory = None\n",
      "  CancellationToken = Some System.Threading.CancellationToken\n",
      "  OnLine = Some <fun:buildCode@3-1005> }\n",
      "00:00:20 #207 [Verbose] > pwd: /home/runner/work/polyglot/polyglot/apps/spiral\n",
      "00:00:20 #208 [Verbose] testPortOpen / ex: System.AggregateException: One or more errors occurred. (Connection refused)\n",
      "00:00:20 #209 [Verbose] waitForPortAccess / port: 13805 / retry: 0\n",
      "00:00:20 #210 [Verbose] > dll_path: /home/runner/work/polyglot/polyglot/deps/The-Spiral-Language/The Spiral Language 2/artifacts/bin/The Spiral Language 2/release\n",
      "00:00:20 #211 [Verbose] testPortOpen / ex: System.AggregateException: One or more errors occurred. (Connection refused)\n",
      "00:00:20 #212 [Verbose] testPortOpen / ex: System.AggregateException: One or more errors occurred. (Connection refused)\n",
      "00:00:20 #213 [Verbose] testPortOpen / ex: System.AggregateException: One or more errors occurred. (Connection refused)\n",
      "00:00:20 #214 [Verbose] testPortOpen / ex: System.AggregateException: One or more errors occurred. (Connection refused)\n",
      "00:00:20 #215 [Verbose] testPortOpen / ex: System.AggregateException: One or more errors occurred. (Connection refused)\n",
      "00:00:20 #216 [Verbose] testPortOpen / ex: System.AggregateException: One or more errors occurred. (Connection refused)\n",
      "00:00:20 #217 [Verbose] > Starting the Spiral Server. It is bound to: http://localhost:13805\n",
      "00:00:20 #218 [Verbose] testPortOpen / ex: System.AggregateException: One or more errors occurred. (Connection refused)\n",
      "00:00:20 #219 [Verbose] testPortOpen / ex: System.AggregateException: One or more errors occurred. (Connection refused)\n",
      "00:00:20 #220 [Debug] sendJson / port: 13805 / json: {\"Ping\":true} / result.Length:\n",
      "00:00:20 #221 [Verbose] awaitCompiler / Ping / result: Some(null) / port: 13805 / retry: 0\n",
      "00:00:20 #222 [Verbose] > Server bound to: http://localhost:13805\n",
      "00:00:20 #223 [Debug] buildFile / takeWhileInclusive / fsxContent:  / errors: [] / typeErrorCount: 0\n",
      "00:00:20 #224 [Debug] buildFile / takeWhileInclusive / fsxContent:  / errors: [] / typeErrorCount: 0\n",
      "00:00:20 #225 [Debug] sendJson / port: 13805 / json: {\"FileOpen\":{\"spiText\":\"\\n/// abc\\ninl main () =\\n    ()\\n\",\"uri\":\"file:///tmp/!dotnet-repl/20240325-1505-4442-4254-4086149244cb/main.spi\"}} / result.Length:\n",
      "00:00:20 #226 [Debug] sendJson / port: 13805 / json: {\"BuildFile\":{\"backend\":\"Fsharp\",\"uri\":\"file:///tmp/!dotnet-repl/20240325-1505-4442-4254-4086149244cb/main.spi\"}} / result.Length:\n",
      "00:00:20 #228 [Debug] buildFile / takeWhileInclusive / fsxContent:  / errors: [\n",
      "  [\n",
      "    \"main.spi:\n",
      "Expected: whitespace\",\n",
      "    {\n",
      "      \"TokenizerErrors\": {\n",
      "        \"errors\": [\n",
      "          [\n",
      "            [\n",
      "              {\n",
      "                \"character\": 2,\n",
      "                \"line\": 1\n",
      "              },\n",
      "              {\n",
      "                \"character\": 3,\n",
      "                \"line\": 1\n",
      "              }\n",
      "            ],\n",
      "            \"Expected: whitespace\"\n",
      "          ]\n",
      "        ],\n",
      "        \"uri\": \"file:///tmp/!dotnet-repl/20240325-1505-4442-4254-4086149244cb/main.spi\"\n",
      "      }\n",
      "    }\n",
      "  ]\n",
      "] / typeErrorCount: 0\n",
      "00:00:20 #229 [Debug] watchWithFilter / Disposing watch stream / filter: FileName, LastWrite\n",
      "FSharpOption<Tuple<FSharpOption<String>,FSharpList<String>>>\n",
      "      Value:       - <null>\n",
      "      - [ main.spi:\n",
      "Expected: whitespace ]\n"
     ]
    }
   ],
   "source": [
    "//// test\n",
    "\n",
    "\"\"\"\n",
    "/// abc\n",
    "inl main () =\n",
    "    ()\n",
    "\"\"\"\n",
    "|> buildCode 10000 None\n",
    "|> Async.runWithTimeout 10000\n",
    "|> Option.map (fun (fsxContent, errors) -> fsxContent, errors |> List.map fst)\n",
    "|> _assertEqual (\n",
    "    Some (\n",
    "        None,\n",
    "        [ \"main.spi:\n",
    "Expected: whitespace\" ]\n",
    "    )\n",
    ")"
   ]
  },
  {
   "cell_type": "code",
   "execution_count": null,
   "metadata": {
    "dotnet_interactive": {
     "language": "fsharp"
    },
    "polyglot_notebook": {
     "kernelName": "fsharp"
    }
   },
   "outputs": [
    {
     "name": "stdout",
     "output_type": "stream",
     "text": [
      "00:00:21 #230 [Verbose] testPortOpen / ex: System.AggregateException: One or more errors occurred. (Connection refused)\n",
      "00:00:21 #231 [Debug] executeAsync / options: { Command =\n",
      "   \"dotnet \"/home/runner/work/polyglot/polyglot/deps/The-Spiral-Language/The Spiral Language 2/artifacts/bin/The Spiral Language 2/release/Spiral.dll\" --port 13805 --default-int i32 --default-float f64\"\n",
      "  WorkingDirectory = None\n",
      "  CancellationToken = Some System.Threading.CancellationToken\n",
      "  OnLine = Some <fun:buildCode@3-1005> }\n",
      "00:00:21 #232 [Verbose] > pwd: /home/runner/work/polyglot/polyglot/apps/spiral\n",
      "00:00:21 #233 [Verbose] testPortOpen / ex: System.AggregateException: One or more errors occurred. (Connection refused)\n",
      "00:00:21 #234 [Verbose] waitForPortAccess / port: 13805 / retry: 0\n",
      "00:00:21 #235 [Verbose] > dll_path: /home/runner/work/polyglot/polyglot/deps/The-Spiral-Language/The Spiral Language 2/artifacts/bin/The Spiral Language 2/release\n",
      "00:00:21 #236 [Verbose] testPortOpen / ex: System.AggregateException: One or more errors occurred. (Connection refused)\n",
      "00:00:21 #237 [Verbose] testPortOpen / ex: System.AggregateException: One or more errors occurred. (Connection refused)\n",
      "00:00:21 #238 [Verbose] testPortOpen / ex: System.AggregateException: One or more errors occurred. (Connection refused)\n",
      "00:00:21 #239 [Verbose] testPortOpen / ex: System.AggregateException: One or more errors occurred. (Connection refused)\n",
      "00:00:21 #240 [Verbose] testPortOpen / ex: System.AggregateException: One or more errors occurred. (Connection refused)\n",
      "00:00:21 #241 [Verbose] testPortOpen / ex: System.AggregateException: One or more errors occurred. (Connection refused)\n",
      "00:00:21 #242 [Verbose] > Starting the Spiral Server. It is bound to: http://localhost:13805\n",
      "00:00:21 #243 [Verbose] testPortOpen / ex: System.AggregateException: One or more errors occurred. (Connection refused)\n",
      "00:00:21 #244 [Verbose] testPortOpen / ex: System.AggregateException: One or more errors occurred. (Connection refused)\n",
      "00:00:21 #245 [Debug] sendJson / port: 13805 / json: {\"Ping\":true} / result.Length:\n",
      "00:00:21 #246 [Verbose] awaitCompiler / Ping / result: Some(null) / port: 13805 / retry: 0\n",
      "00:00:21 #247 [Verbose] > Server bound to: http://localhost:13805\n",
      "00:00:21 #248 [Debug] buildFile / takeWhileInclusive / fsxContent:  / errors: [] / typeErrorCount: 0\n",
      "00:00:21 #249 [Debug] buildFile / takeWhileInclusive / fsxContent:  / errors: [] / typeErrorCount: 0\n",
      "00:00:21 #250 [Debug] sendJson / port: 13805 / json: {\"FileOpen\":{\"spiText\":\"\\ninl main () =\\n    real\\n        inl real_unbox forall a. (obj : a) : a =\\n            typecase obj with\\n            | _ =\\u003E obj\\n        real_unbox ()\\n    ()\\n\",\"uri\":\"file:///tmp/!dotnet-repl/20240325-1505-4533-3327-3f2f0f492667/main.spi\"}} / result.Length:\n",
      "00:00:21 #251 [Debug] sendJson / port: 13805 / json: {\"BuildFile\":{\"backend\":\"Fsharp\",\"uri\":\"file:///tmp/!dotnet-repl/20240325-1505-4533-3327-3f2f0f492667/main.spi\"}} / result.Length:\n",
      "00:00:21 #252 [Verbose] > Building /tmp/!dotnet-repl/20240325-1505-4533-3327-3f2f0f492667/main.spi\n",
      "00:00:22 #254 [Debug] buildFile / takeWhileInclusive / fsxContent:  / errors: [] / typeErrorCount: 0\n",
      "00:00:22 #256 [Debug] buildFile / takeWhileInclusive / fsxContent:  / errors: [\n",
      "  [\n",
      "    \"Cannot apply a forall with a term.\",\n",
      "    {\n",
      "      \"TracedError\": {\n",
      "        \"message\": \"Cannot apply a forall with a term.\",\n",
      "        \"trace\": [\n",
      "          \"Error trace on line: 2, column: 10 in module: /tmp/!dotnet-repl/20240325-1505-4533-3327-3f2f0f492667/main.spi.\n",
      "inl main () =\n",
      "         ^\n",
      "\",\n",
      "          \"Error trace on line: 4, column: 9 in module: /tmp/!dotnet-repl/20240325-1505-4533-3327-3f2f0f492667/main.spi.\n",
      "        inl real_unbox forall a. (obj : a) : a =\n",
      "        ^\n",
      "\",\n",
      "          \"Error trace on line: 7, column: 9 in module: /tmp/!dotnet-repl/20240325-1505-4533-3327-3f2f0f492667/main.spi.\n",
      "        real_unbox ()\n",
      "        ^\n",
      "\"\n",
      "        ]\n",
      "      }\n",
      "    }\n",
      "  ]\n",
      "] / typeErrorCount: 0\n",
      "00:00:22 #257 [Debug] watchWithFilter / Disposing watch stream / filter: FileName, LastWrite\n",
      "FSharpOption<Tuple<FSharpOption<String>,FSharpList<String>>>\n",
      "      Value:       - <null>\n",
      "      - [ Cannot apply a forall with a term. ]\n"
     ]
    }
   ],
   "source": [
    "//// test\n",
    "\n",
    "\"\"\"\n",
    "inl main () =\n",
    "    real\n",
    "        inl real_unbox forall a. (obj : a) : a =\n",
    "            typecase obj with\n",
    "            | _ => obj\n",
    "        real_unbox ()\n",
    "    ()\n",
    "\"\"\"\n",
    "|> buildCode 10000 None\n",
    "|> Async.runWithTimeout 10000\n",
    "|> Option.map (fun (fsxContent, errors) -> fsxContent, errors |> List.map fst)\n",
    "|> _assertEqual (\n",
    "    Some (\n",
    "        None,\n",
    "        [ \"Cannot apply a forall with a term.\" ]\n",
    "    )\n",
    ")"
   ]
  },
  {
   "cell_type": "code",
   "execution_count": null,
   "metadata": {
    "dotnet_interactive": {
     "language": "fsharp"
    },
    "polyglot_notebook": {
     "kernelName": "fsharp"
    }
   },
   "outputs": [
    {
     "name": "stdout",
     "output_type": "stream",
     "text": [
      "00:00:23 #258 [Verbose] testPortOpen / ex: System.AggregateException: One or more errors occurred. (Connection refused)\n",
      "00:00:23 #259 [Debug] executeAsync / options: { Command =\n",
      "   \"dotnet \"/home/runner/work/polyglot/polyglot/deps/The-Spiral-Language/The Spiral Language 2/artifacts/bin/The Spiral Language 2/release/Spiral.dll\" --port 13805 --default-int i32 --default-float f64\"\n",
      "  WorkingDirectory = None\n",
      "  CancellationToken = Some System.Threading.CancellationToken\n",
      "  OnLine = Some <fun:buildCode@3-1005> }\n",
      "00:00:23 #260 [Verbose] > pwd: /home/runner/work/polyglot/polyglot/apps/spiral\n",
      "00:00:23 #261 [Verbose] testPortOpen / ex: System.AggregateException: One or more errors occurred. (Connection refused)\n",
      "00:00:23 #262 [Verbose] waitForPortAccess / port: 13805 / retry: 0\n",
      "00:00:23 #263 [Verbose] > dll_path: /home/runner/work/polyglot/polyglot/deps/The-Spiral-Language/The Spiral Language 2/artifacts/bin/The Spiral Language 2/release\n",
      "00:00:23 #264 [Verbose] testPortOpen / ex: System.AggregateException: One or more errors occurred. (Connection refused)\n",
      "00:00:23 #265 [Verbose] testPortOpen / ex: System.AggregateException: One or more errors occurred. (Connection refused)\n",
      "00:00:23 #266 [Verbose] testPortOpen / ex: System.AggregateException: One or more errors occurred. (Connection refused)\n",
      "00:00:23 #267 [Verbose] testPortOpen / ex: System.AggregateException: One or more errors occurred. (Connection refused)\n",
      "00:00:23 #268 [Verbose] testPortOpen / ex: System.AggregateException: One or more errors occurred. (Connection refused)\n",
      "00:00:23 #269 [Verbose] testPortOpen / ex: System.AggregateException: One or more errors occurred. (Connection refused)\n",
      "00:00:23 #270 [Verbose] > Starting the Spiral Server. It is bound to: http://localhost:13805\n",
      "00:00:23 #271 [Verbose] testPortOpen / ex: System.AggregateException: One or more errors occurred. (Connection refused)\n",
      "00:00:23 #272 [Verbose] testPortOpen / ex: System.AggregateException: One or more errors occurred. (Connection refused)\n",
      "00:00:23 #273 [Debug] sendJson / port: 13805 / json: {\"Ping\":true} / result.Length:\n",
      "00:00:23 #274 [Verbose] awaitCompiler / Ping / result: Some(null) / port: 13805 / retry: 0\n",
      "00:00:23 #275 [Verbose] > Server bound to: http://localhost:13805\n",
      "00:00:23 #276 [Debug] buildFile / takeWhileInclusive / fsxContent:  / errors: [] / typeErrorCount: 0\n",
      "00:00:23 #277 [Debug] buildFile / takeWhileInclusive / fsxContent:  / errors: [] / typeErrorCount: 0\n",
      "00:00:23 #278 [Debug] sendJson / port: 13805 / json: {\"FileOpen\":{\"spiText\":\"\\ninl main () =\\n    real\\n        inl real_unbox forall a. (obj : a) : a =\\n            typecase obj with\\n            | _ =\\u003E obj\\n        real_unbox \\u0060i32 1\\n\",\"uri\":\"file:///tmp/!dotnet-repl/20240325-1505-4733-3394-3af0bc269403/main.spi\"}} / result.Length:\n",
      "00:00:23 #279 [Debug] sendJson / port: 13805 / json: {\"BuildFile\":{\"backend\":\"Fsharp\",\"uri\":\"file:///tmp/!dotnet-repl/20240325-1505-4733-3394-3af0bc269403/main.spi\"}} / result.Length:\n",
      "00:00:23 #280 [Verbose] > Building /tmp/!dotnet-repl/20240325-1505-4733-3394-3af0bc269403/main.spi\n",
      "00:00:24 #282 [Debug] buildFile / takeWhileInclusive / fsxContent:  / errors: [] / typeErrorCount: 0\n",
      "00:00:24 #283 [Debug] buildFile / takeWhileInclusive / fsxContent:  / errors: [\n",
      "  [\n",
      "    \"The main function should not have a forall.\",\n",
      "    {\n",
      "      \"TracedError\": {\n",
      "        \"message\": \"The main function should not have a forall.\",\n",
      "        \"trace\": []\n",
      "      }\n",
      "    }\n",
      "  ]\n",
      "] / typeErrorCount: 0\n",
      "00:00:24 #284 [Debug] watchWithFilter / Disposing watch stream / filter: FileName, LastWrite\n",
      "FSharpOption<Tuple<FSharpOption<String>,FSharpList<String>>>\n",
      "      Value:       - <null>\n",
      "      - [ The main function should not have a forall. ]\n"
     ]
    }
   ],
   "source": [
    "//// test\n",
    "\n",
    "\"\"\"\n",
    "inl main () =\n",
    "    real\n",
    "        inl real_unbox forall a. (obj : a) : a =\n",
    "            typecase obj with\n",
    "            | _ => obj\n",
    "        real_unbox `i32 1\n",
    "\"\"\"\n",
    "|> buildCode 10000 None\n",
    "|> Async.runWithTimeout 10000\n",
    "|> Option.map (fun (fsxContent, errors) -> fsxContent, errors |> List.map fst)\n",
    "|> _assertEqual (\n",
    "    Some (\n",
    "        None,\n",
    "        [ \"The main function should not have a forall.\" ]\n",
    "    )\n",
    ")"
   ]
  },
  {
   "cell_type": "code",
   "execution_count": null,
   "metadata": {
    "dotnet_interactive": {
     "language": "fsharp"
    },
    "polyglot_notebook": {
     "kernelName": "fsharp"
    }
   },
   "outputs": [
    {
     "name": "stdout",
     "output_type": "stream",
     "text": [
      "00:00:24 #286 [Verbose] testPortOpen / ex: System.AggregateException: One or more errors occurred. (Connection refused)\n",
      "00:00:24 #287 [Debug] executeAsync / options: { Command =\n",
      "   \"dotnet \"/home/runner/work/polyglot/polyglot/deps/The-Spiral-Language/The Spiral Language 2/artifacts/bin/The Spiral Language 2/release/Spiral.dll\" --port 13805 --default-int i32 --default-float f64\"\n",
      "  WorkingDirectory = None\n",
      "  CancellationToken = Some System.Threading.CancellationToken\n",
      "  OnLine = Some <fun:buildCode@3-1005> }\n",
      "00:00:25 #288 [Verbose] > pwd: /home/runner/work/polyglot/polyglot/apps/spiral\n",
      "00:00:25 #289 [Verbose] testPortOpen / ex: System.AggregateException: One or more errors occurred. (Connection refused)\n",
      "00:00:25 #290 [Verbose] waitForPortAccess / port: 13805 / retry: 0\n",
      "00:00:25 #291 [Verbose] > dll_path: /home/runner/work/polyglot/polyglot/deps/The-Spiral-Language/The Spiral Language 2/artifacts/bin/The Spiral Language 2/release\n",
      "00:00:25 #292 [Verbose] testPortOpen / ex: System.AggregateException: One or more errors occurred. (Connection refused)\n",
      "00:00:25 #293 [Verbose] testPortOpen / ex: System.AggregateException: One or more errors occurred. (Connection refused)\n",
      "00:00:25 #294 [Verbose] testPortOpen / ex: System.AggregateException: One or more errors occurred. (Connection refused)\n",
      "00:00:25 #295 [Verbose] testPortOpen / ex: System.AggregateException: One or more errors occurred. (Connection refused)\n",
      "00:00:25 #296 [Verbose] testPortOpen / ex: System.AggregateException: One or more errors occurred. (Connection refused)\n",
      "00:00:25 #297 [Verbose] testPortOpen / ex: System.AggregateException: One or more errors occurred. (Connection refused)\n",
      "00:00:25 #298 [Verbose] > Starting the Spiral Server. It is bound to: http://localhost:13805\n",
      "00:00:25 #299 [Verbose] testPortOpen / ex: System.AggregateException: One or more errors occurred. (Connection refused)\n",
      "00:00:25 #300 [Verbose] testPortOpen / ex: System.AggregateException: One or more errors occurred. (Connection refused)\n",
      "00:00:25 #301 [Verbose] testPortOpen / ex: System.AggregateException: One or more errors occurred. (Connection refused)\n",
      "00:00:25 #302 [Debug] sendJson / port: 13805 / json: {\"Ping\":true} / result.Length:\n",
      "00:00:25 #303 [Verbose] awaitCompiler / Ping / result: Some(null) / port: 13805 / retry: 0\n",
      "00:00:25 #304 [Verbose] > Server bound to: http://localhost:13805\n",
      "00:00:25 #305 [Debug] buildFile / takeWhileInclusive / fsxContent:  / errors: [] / typeErrorCount: 0\n",
      "00:00:25 #306 [Debug] buildFile / takeWhileInclusive / fsxContent:  / errors: [] / typeErrorCount: 0\n",
      "00:00:25 #307 [Debug] sendJson / port: 13805 / json: {\"FileOpen\":{\"spiText\":\"\\ninl init_series start end inc =\\n    inl total : f64 = conv ((end - start) / inc) \\u002B 1\\n    listm.init total (conv \\u003E\\u003E (*) inc \\u003E\\u003E (\\u002B) start) : list f64\\n\\ntype integration = (f64 -\\u003E f64) -\\u003E f64 -\\u003E f64 -\\u003E f64\\n\\ninl integral dt : integration =\\n    fun f a b =\\u003E\\n        init_series (a \\u002B dt / 2) (b - dt / 2) dt\\n        |\\u003E listm.map (f \\u003E\\u003E (*) dt)\\n        |\\u003E listm.fold (\\u002B) 0\\n\\ninl main () =\\n    integral 0.1 (fun x =\\u003E x ** 2) 0 1\\n\",\"uri\":\"file:///tmp/!dotnet-repl/20240325-1505-4919-1906-1b2bb2b9fd00/main.spi\"}} / result.Length:\n",
      "00:00:25 #308 [Debug] sendJson / port: 13805 / json: {\"BuildFile\":{\"backend\":\"Fsharp\",\"uri\":\"file:///tmp/!dotnet-repl/20240325-1505-4919-1906-1b2bb2b9fd00/main.spi\"}} / result.Length:\n",
      "00:00:25 #309 [Verbose] > Building /tmp/!dotnet-repl/20240325-1505-4919-1906-1b2bb2b9fd00/main.spi\n",
      "00:00:26 #311 [Debug] buildFile / takeWhileInclusive / fsxContent:  / errors: [] / typeErrorCount: 0\n",
      "00:00:26 #312 [Debug] buildFile / takeWhileInclusive / fsxContent: 0.3325000000000001\n",
      " / errors: [] / typeErrorCount: 0\n",
      "00:00:26 #313 [Debug] watchWithFilter / Disposing watch stream / filter: FileName, LastWrite\n",
      "FSharpOption<Tuple<FSharpOption<String>,FSharpList<String>>>\n",
      "      Value:       - FSharpOption<String>\n",
      "          Value: 0.3325000000000001\n",
      "\n",
      "      - [  ]\n"
     ]
    }
   ],
   "source": [
    "//// test\n",
    "\n",
    "\"\"\"\n",
    "inl init_series start end inc =\n",
    "    inl total : f64 = conv ((end - start) / inc) + 1\n",
    "    listm.init total (conv >> (*) inc >> (+) start) : list f64\n",
    "\n",
    "type integration = (f64 -> f64) -> f64 -> f64 -> f64\n",
    "\n",
    "inl integral dt : integration =\n",
    "    fun f a b =>\n",
    "        init_series (a + dt / 2) (b - dt / 2) dt\n",
    "        |> listm.map (f >> (*) dt)\n",
    "        |> listm.fold (+) 0\n",
    "\n",
    "inl main () =\n",
    "    integral 0.1 (fun x => x ** 2) 0 1\n",
    "\"\"\"\n",
    "|> buildCode 10000 None\n",
    "|> Async.runWithTimeout 10000\n",
    "|> Option.map (fun (fsxContent, errors) -> fsxContent, errors |> List.map fst)\n",
    "|> _assertEqual (\n",
    "    Some (\n",
    "        Some \"0.3325000000000001\\n\",\n",
    "        []\n",
    "    )\n",
    ")"
   ]
  },
  {
   "cell_type": "code",
   "execution_count": null,
   "metadata": {
    "dotnet_interactive": {
     "language": "fsharp"
    },
    "polyglot_notebook": {
     "kernelName": "fsharp"
    }
   },
   "outputs": [
    {
     "name": "stdout",
     "output_type": "stream",
     "text": [
      "00:00:27 #315 [Verbose] testPortOpen / ex: System.AggregateException: One or more errors occurred. (Connection refused)\n",
      "00:00:27 #316 [Debug] executeAsync / options: { Command =\n",
      "   \"dotnet \"/home/runner/work/polyglot/polyglot/deps/The-Spiral-Language/The Spiral Language 2/artifacts/bin/The Spiral Language 2/release/Spiral.dll\" --port 13805 --default-int i32 --default-float f64\"\n",
      "  WorkingDirectory = None\n",
      "  CancellationToken = Some System.Threading.CancellationToken\n",
      "  OnLine = Some <fun:buildCode@3-1005> }\n",
      "00:00:27 #317 [Verbose] > pwd: /home/runner/work/polyglot/polyglot/apps/spiral\n",
      "00:00:27 #318 [Verbose] testPortOpen / ex: System.AggregateException: One or more errors occurred. (Connection refused)\n",
      "00:00:27 #319 [Verbose] waitForPortAccess / port: 13805 / retry: 0\n",
      "00:00:27 #320 [Verbose] > dll_path: /home/runner/work/polyglot/polyglot/deps/The-Spiral-Language/The Spiral Language 2/artifacts/bin/The Spiral Language 2/release\n",
      "00:00:27 #321 [Verbose] testPortOpen / ex: System.AggregateException: One or more errors occurred. (Connection refused)\n",
      "00:00:27 #322 [Verbose] testPortOpen / ex: System.AggregateException: One or more errors occurred. (Connection refused)\n",
      "00:00:27 #323 [Verbose] testPortOpen / ex: System.AggregateException: One or more errors occurred. (Connection refused)\n",
      "00:00:27 #324 [Verbose] testPortOpen / ex: System.AggregateException: One or more errors occurred. (Connection refused)\n",
      "00:00:27 #325 [Verbose] testPortOpen / ex: System.AggregateException: One or more errors occurred. (Connection refused)\n",
      "00:00:27 #326 [Verbose] testPortOpen / ex: System.AggregateException: One or more errors occurred. (Connection refused)\n",
      "00:00:27 #327 [Verbose] > Starting the Spiral Server. It is bound to: http://localhost:13805\n",
      "00:00:27 #328 [Verbose] testPortOpen / ex: System.AggregateException: One or more errors occurred. (Connection refused)\n",
      "00:00:27 #329 [Verbose] testPortOpen / ex: System.AggregateException: One or more errors occurred. (Connection refused)\n",
      "00:00:27 #330 [Debug] sendJson / port: 13805 / json: {\"Ping\":true} / result.Length:\n",
      "00:00:27 #331 [Verbose] awaitCompiler / Ping / result: Some(null) / port: 13805 / retry: 0\n",
      "00:00:27 #332 [Verbose] > Server bound to: http://localhost:13805\n",
      "00:00:27 #333 [Debug] buildFile / takeWhileInclusive / fsxContent:  / errors: [] / typeErrorCount: 0\n",
      "00:00:27 #334 [Debug] buildFile / takeWhileInclusive / fsxContent:  / errors: [] / typeErrorCount: 0\n",
      "00:00:27 #335 [Debug] sendJson / port: 13805 / json: {\"FileOpen\":{\"spiText\":\"\\ninl init_series start end inc =\\n    inl total : f64 = conv ((end - start) / inc) \\u002B 1\\n    listm.init total (conv \\u003E\\u003E (*) inc \\u003E\\u003E (\\u002B) start) : list f64\\n\\ntype integration = (f64 -\\u003E f64) -\\u003E f64 -\\u003E f64 -\\u003E f64\\n\\ninl integral dt : integration =\\n    fun f a b =\\u003E\\n        init_series (a \\u002B dt / 2) (b - dt / 2) dt\\n        |\\u003E listm.map (f \\u003E\\u003E (*) dt)\\n        |\\u003E listm.fold (\\u002B) 0\\n\\ninl main () =\\n    integral 0.01 (fun x =\\u003E x ** 2) 0 1\\n\",\"uri\":\"file:///tmp/!dotnet-repl/20240325-1505-5125-2567-2dfab24fa7c9/main.spi\"}} / result.Length:\n",
      "00:00:27 #336 [Debug] sendJson / port: 13805 / json: {\"BuildFile\":{\"backend\":\"Fsharp\",\"uri\":\"file:///tmp/!dotnet-repl/20240325-1505-5125-2567-2dfab24fa7c9/main.spi\"}} / result.Length:\n",
      "00:00:27 #337 [Verbose] > Building /tmp/!dotnet-repl/20240325-1505-5125-2567-2dfab24fa7c9/main.spi\n",
      "00:00:28 #339 [Debug] buildFile / takeWhileInclusive / fsxContent:  / errors: [] / typeErrorCount: 0\n",
      "00:00:28 #340 [Debug] buildFile / takeWhileInclusive / fsxContent: 0.33332500000000004\n",
      " / errors: [] / typeErrorCount: 0\n",
      "00:00:28 #341 [Debug] watchWithFilter / Disposing watch stream / filter: FileName, LastWrite\n",
      "FSharpOption<Tuple<FSharpOption<String>,FSharpList<String>>>\n",
      "      Value:       - FSharpOption<String>\n",
      "          Value: 0.33332500000000004\n",
      "\n",
      "      - [  ]\n"
     ]
    }
   ],
   "source": [
    "//// test\n",
    "\n",
    "\"\"\"\n",
    "inl init_series start end inc =\n",
    "    inl total : f64 = conv ((end - start) / inc) + 1\n",
    "    listm.init total (conv >> (*) inc >> (+) start) : list f64\n",
    "\n",
    "type integration = (f64 -> f64) -> f64 -> f64 -> f64\n",
    "\n",
    "inl integral dt : integration =\n",
    "    fun f a b =>\n",
    "        init_series (a + dt / 2) (b - dt / 2) dt\n",
    "        |> listm.map (f >> (*) dt)\n",
    "        |> listm.fold (+) 0\n",
    "\n",
    "inl main () =\n",
    "    integral 0.01 (fun x => x ** 2) 0 1\n",
    "\"\"\"\n",
    "|> buildCode 10000 None\n",
    "|> Async.runWithTimeout 10000\n",
    "|> Option.map (fun (fsxContent, errors) -> fsxContent, errors |> List.map fst)\n",
    "|> _assertEqual (\n",
    "    Some (\n",
    "        Some \"0.33332500000000004\\n\",\n",
    "        []\n",
    "    )\n",
    ")\n",
    "// |> _assertEqual None\n",
    "// |> fun x -> printfn $\"{x.ToDisplayString ()}\""
   ]
  },
  {
   "cell_type": "markdown",
   "metadata": {},
   "source": [
    "## getFileTokenRange"
   ]
  },
  {
   "cell_type": "code",
   "execution_count": null,
   "metadata": {
    "dotnet_interactive": {
     "language": "fsharp"
    },
    "polyglot_notebook": {
     "kernelName": "fsharp"
    }
   },
   "outputs": [],
   "source": [
    "let inline getFileTokenRange port cancellationToken path = async {\n",
    "    let fullPath = path |> System.IO.Path.GetFullPath\n",
    "    let! code = fullPath |> FileSystem.readAllTextAsync\n",
    "    let lines = code |> String.split [| '\\n' |]\n",
    "\n",
    "    let token, disposable = Threading.newDisposableToken cancellationToken\n",
    "    use _ = disposable\n",
    "\n",
    "    let! serverPort, _errors, ct, disposable = awaitCompiler port (Some token)\n",
    "    use _ = disposable\n",
    "\n",
    "    let fileOpenObj = {| FileOpen = {| uri = fullPath |> getFileUri; spiText = code |} |}\n",
    "    let! _fileOpenResult = fileOpenObj |> sendObj serverPort\n",
    "\n",
    "    let fileTokenRangeObj =\n",
    "        {|\n",
    "            FileTokenRange =\n",
    "                {|\n",
    "                    uri = fullPath |> getFileUri\n",
    "                    range =\n",
    "                        [|\n",
    "                            {| line = 0; character = 0 |}\n",
    "                            {| line = lines.Length - 1; character = lines.[lines.Length - 1].Length |}\n",
    "                        |]\n",
    "                |}\n",
    "        |}\n",
    "    let! fileTokenRangeResult =\n",
    "        fileTokenRangeObj\n",
    "        |> sendObj serverPort\n",
    "        |> Async.withCancellationToken ct\n",
    "\n",
    "    return fileTokenRangeResult |> Option.map FSharp.Json.Json.deserialize<int array>\n",
    "}"
   ]
  },
  {
   "cell_type": "markdown",
   "metadata": {},
   "source": [
    "## getCodeTokenRange"
   ]
  },
  {
   "cell_type": "code",
   "execution_count": null,
   "metadata": {
    "dotnet_interactive": {
     "language": "fsharp"
    },
    "polyglot_notebook": {
     "kernelName": "fsharp"
    }
   },
   "outputs": [],
   "source": [
    "let inline getCodeTokenRange cancellationToken code = async {\n",
    "    let! mainPath, disposable = persistCode code\n",
    "    use _ = disposable\n",
    "    let port = getCompilerPort ()\n",
    "    return! mainPath |> getFileTokenRange port cancellationToken\n",
    "}"
   ]
  },
  {
   "cell_type": "code",
   "execution_count": null,
   "metadata": {
    "dotnet_interactive": {
     "language": "fsharp"
    },
    "polyglot_notebook": {
     "kernelName": "fsharp"
    }
   },
   "outputs": [
    {
     "name": "stdout",
     "output_type": "stream",
     "text": [
      "00:00:33 #347 [Verbose] testPortOpen / ex: System.AggregateException: One or more errors occurred. (Connection refused)\n",
      "00:00:33 #348 [Debug] executeAsync / options: { Command =\n",
      "   \"dotnet \"/home/runner/work/polyglot/polyglot/deps/The-Spiral-Language/The Spiral Language 2/artifacts/bin/The Spiral Language 2/release/Spiral.dll\" --port 13805 --default-int i32 --default-float f64\"\n",
      "  WorkingDirectory = None\n",
      "  CancellationToken = Some System.Threading.CancellationToken\n",
      "  OnLine = Some <fun:it@4-434> }\n",
      "00:00:33 #349 [Verbose] > pwd: /home/runner/work/polyglot/polyglot/apps/spiral\n",
      "00:00:33 #350 [Verbose] > dll_path: /home/runner/work/polyglot/polyglot/deps/The-Spiral-Language/The Spiral Language 2/artifacts/bin/The Spiral Language 2/release\n",
      "00:00:33 #351 [Verbose] testPortOpen / ex: System.AggregateException: One or more errors occurred. (Connection refused)\n",
      "00:00:33 #352 [Verbose] waitForPortAccess / port: 13805 / retry: 0\n",
      "00:00:33 #353 [Verbose] testPortOpen / ex: System.AggregateException: One or more errors occurred. (Connection refused)\n",
      "00:00:33 #354 [Verbose] testPortOpen / ex: System.AggregateException: One or more errors occurred. (Connection refused)\n",
      "00:00:33 #355 [Verbose] testPortOpen / ex: System.AggregateException: One or more errors occurred. (Connection refused)\n",
      "00:00:33 #356 [Verbose] testPortOpen / ex: System.AggregateException: One or more errors occurred. (Connection refused)\n",
      "00:00:33 #357 [Verbose] testPortOpen / ex: System.AggregateException: One or more errors occurred. (Connection refused)\n",
      "00:00:33 #358 [Verbose] testPortOpen / ex: System.AggregateException: One or more errors occurred. (Connection refused)\n",
      "00:00:33 #359 [Verbose] > Starting the Spiral Server. It is bound to: http://localhost:13805\n",
      "00:00:33 #360 [Verbose] testPortOpen / ex: System.AggregateException: One or more errors occurred. (Connection refused)\n",
      "00:00:33 #361 [Verbose] testPortOpen / ex: System.AggregateException: One or more errors occurred. (Connection refused)\n",
      "00:00:34 #363 [Debug] sendJson / port: 13805 / json: {\"Ping\":true} / result.Length:\n",
      "00:00:34 #364 [Verbose] awaitCompiler / Ping / result: Some(null) / port: 13805 / retry: 0\n",
      "00:00:34 #365 [Verbose] > Server bound to: http://localhost:13805\n",
      "00:00:34 #366 [Debug] sendJson / port: 13805 / json: {\"FileOpen\":{\"spiText\":\"inl main () = ()\",\"uri\":\"file:///tmp/!dotnet-repl/20240325-1505-5781-8157-80d98641d870/main.spi\"}} / result.Length:\n",
      "00:00:34 #367 [Debug] sendJson / port: 13805 / json: {\"FileTokenRange\":{\"range\":[{\"character\":0,\"line\":0},{\"character\":16,\"line\":0}],\"uri\":\"file:///tmp/!dotnet-repl/20240325-1505-5781-8157-80d98641d870/main.spi\"}} / result.Length: Some(177)\n",
      "FSharpOption<Int32[]>\n",
      "      Value: [ 0, 0, 3, 7, 0, 0, 4, 4, 0, 0, 0, 5, 1, 8, 0, 0, 1, 1, 8, 0, 0, 2, 1, 4, 0, 0, 2, 1, 8, 0, 0, 1, 1, 8, 0 ]\n"
     ]
    }
   ],
   "source": [
    "//// test\n",
    "\n",
    "\"\"\"inl main () = ()\"\"\"\n",
    "|> getCodeTokenRange None\n",
    "|> Async.runWithTimeout 10000\n",
    "|> Option.flatten\n",
    "|> _assertEqual (Some [| 0; 0; 3; 7; 0; 0; 4; 4; 0; 0; 0; 5; 1; 8; 0; 0; 1; 1; 8; 0; 0; 2; 1; 4; 0; 0;\n",
    "2; 1; 8; 0; 0; 1; 1; 8; 0 |])"
   ]
  },
  {
   "cell_type": "code",
   "execution_count": null,
   "metadata": {
    "dotnet_interactive": {
     "language": "fsharp"
    },
    "polyglot_notebook": {
     "kernelName": "fsharp"
    }
   },
   "outputs": [
    {
     "name": "stdout",
     "output_type": "stream",
     "text": [
      "00:00:36 #370 [Verbose] testPortOpen / ex: System.AggregateException: One or more errors occurred. (Connection refused)\n",
      "00:00:36 #371 [Debug] executeAsync / options: { Command =\n",
      "   \"dotnet \"/home/runner/work/polyglot/polyglot/deps/The-Spiral-Language/The Spiral Language 2/artifacts/bin/The Spiral Language 2/release/Spiral.dll\" --port 13805 --default-int i32 --default-float f64\"\n",
      "  WorkingDirectory = None\n",
      "  CancellationToken = Some System.Threading.CancellationToken\n",
      "  OnLine = Some <fun:it@4-801> }\n",
      "00:00:36 #372 [Verbose] > pwd: /home/runner/work/polyglot/polyglot/apps/spiral\n",
      "00:00:36 #373 [Verbose] > dll_path: /home/runner/work/polyglot/polyglot/deps/The-Spiral-Language/The Spiral Language 2/artifacts/bin/The Spiral Language 2/release\n",
      "00:00:36 #374 [Verbose] testPortOpen / ex: System.AggregateException: One or more errors occurred. (Connection refused)\n",
      "00:00:36 #375 [Verbose] waitForPortAccess / port: 13805 / retry: 0\n",
      "00:00:36 #376 [Verbose] testPortOpen / ex: System.AggregateException: One or more errors occurred. (Connection refused)\n",
      "00:00:36 #377 [Verbose] testPortOpen / ex: System.AggregateException: One or more errors occurred. (Connection refused)\n",
      "00:00:36 #378 [Verbose] testPortOpen / ex: System.AggregateException: One or more errors occurred. (Connection refused)\n",
      "00:00:36 #379 [Verbose] testPortOpen / ex: System.AggregateException: One or more errors occurred. (Connection refused)\n",
      "00:00:36 #380 [Verbose] testPortOpen / ex: System.AggregateException: One or more errors occurred. (Connection refused)\n",
      "00:00:36 #381 [Verbose] testPortOpen / ex: System.AggregateException: One or more errors occurred. (Connection refused)\n",
      "00:00:36 #382 [Verbose] > Starting the Spiral Server. It is bound to: http://localhost:13805\n",
      "00:00:36 #383 [Verbose] testPortOpen / ex: System.AggregateException: One or more errors occurred. (Connection refused)\n",
      "00:00:36 #384 [Verbose] testPortOpen / ex: System.AggregateException: One or more errors occurred. (Connection refused)\n",
      "00:00:36 #385 [Debug] sendJson / port: 13805 / json: {\"Ping\":true} / result.Length:\n",
      "00:00:36 #386 [Verbose] awaitCompiler / Ping / result: Some(null) / port: 13805 / retry: 0\n",
      "00:00:36 #387 [Verbose] > Server bound to: http://localhost:13805\n",
      "00:00:36 #388 [Debug] sendJson / port: 13805 / json: {\"FileOpen\":{\"spiText\":\"inl main () = 1i32\",\"uri\":\"file:///tmp/!dotnet-repl/20240325-1506-0043-4365-43e0fd69fb51/main.spi\"}} / result.Length:\n",
      "00:00:37 #389 [Debug] sendJson / port: 13805 / json: {\"FileTokenRange\":{\"range\":[{\"character\":0,\"line\":0},{\"character\":18,\"line\":0}],\"uri\":\"file:///tmp/!dotnet-repl/20240325-1506-0043-4365-43e0fd69fb51/main.spi\"}} / result.Length: Some(178)\n",
      "FSharpOption<Int32[]>\n",
      "      Value: [ 0, 0, 3, 7, 0, 0, 4, 4, 0, 0, 0, 5, 1, 8, 0, 0, 1, 1, 8, 0, 0, 2, 1, 4, 0, 0, 2, 1, 3, 0, 0, 1, 3, 12, 0 ]\n"
     ]
    }
   ],
   "source": [
    "//// test\n",
    "\n",
    "\"\"\"inl main () = 1i32\"\"\"\n",
    "|> getCodeTokenRange None\n",
    "|> Async.runWithTimeout 10000\n",
    "|> Option.flatten\n",
    "|> _assertEqual (Some [| 0; 0; 3; 7; 0; 0; 4; 4; 0; 0; 0; 5; 1; 8; 0; 0; 1; 1; 8; 0; 0; 2; 1; 4; 0; 0;\n",
    "2; 1; 3; 0; 0; 1; 3; 12; 0 |])"
   ]
  },
  {
   "cell_type": "markdown",
   "metadata": {},
   "source": [
    "## Arguments"
   ]
  },
  {
   "cell_type": "code",
   "execution_count": null,
   "metadata": {
    "dotnet_interactive": {
     "language": "fsharp"
    },
    "polyglot_notebook": {
     "kernelName": "fsharp"
    }
   },
   "outputs": [],
   "source": [
    "[<RequireQualifiedAccess>]\n",
    "type Arguments =\n",
    "    | Build_File of string * string\n",
    "    | File_Token_Range of string * string\n",
    "    | Execute_Command of string\n",
    "    | Timeout of int\n",
    "    | Port of int\n",
    "\n",
    "    interface Argu.IArgParserTemplate with\n",
    "        member s.Usage =\n",
    "            match s with\n",
    "            | Build_File _ -> nameof Build_File\n",
    "            | File_Token_Range _ -> nameof File_Token_Range\n",
    "            | Execute_Command _ -> nameof Execute_Command\n",
    "            | Timeout _ -> nameof Timeout\n",
    "            | Port _ -> nameof Port"
   ]
  },
  {
   "cell_type": "code",
   "execution_count": null,
   "metadata": {
    "dotnet_interactive": {
     "language": "fsharp"
    },
    "polyglot_notebook": {
     "kernelName": "fsharp"
    }
   },
   "outputs": [
    {
     "data": {
      "text/plain": [
       "USAGE: dotnet-repl [--help] [--build-file <string> <string>]\n",
       "                   [--file-token-range <string> <string>]\n",
       "                   [--execute-command <string>] [--timeout <int>] [--port <int>]\n",
       "\n",
       "OPTIONS:\n",
       "\n",
       "    --build-file <string> <string>\n",
       "                          Build_File\n",
       "    --file-token-range <string> <string>\n",
       "                          File_Token_Range\n",
       "    --execute-command <string>\n",
       "                          Execute_Command\n",
       "    --timeout <int>       Timeout\n",
       "    --port <int>          Port\n",
       "    --help                display this list of options.\n"
      ]
     },
     "metadata": {},
     "output_type": "display_data"
    }
   ],
   "source": [
    "//// test\n",
    "\n",
    "Argu.ArgumentParser.Create<Arguments>().PrintUsage ()"
   ]
  },
  {
   "cell_type": "markdown",
   "metadata": {},
   "source": [
    "## main"
   ]
  },
  {
   "cell_type": "code",
   "execution_count": null,
   "metadata": {
    "dotnet_interactive": {
     "language": "fsharp"
    },
    "polyglot_notebook": {
     "kernelName": "fsharp"
    }
   },
   "outputs": [],
   "source": [
    "let main args =\n",
    "    let argsMap = args |> Runtime.parseArgsMap<Arguments>\n",
    "\n",
    "    let buildFileActions =\n",
    "        argsMap\n",
    "        |> Map.tryFind (nameof Arguments.Build_File)\n",
    "        |> Option.defaultValue []\n",
    "        |> List.choose (function\n",
    "            | Arguments.Build_File (inputPath, outputPath) -> Some (inputPath, outputPath)\n",
    "            | _ -> None\n",
    "        )\n",
    "\n",
    "    let fileTokenRangeActions =\n",
    "        argsMap\n",
    "        |> Map.tryFind (nameof Arguments.File_Token_Range)\n",
    "        |> Option.defaultValue []\n",
    "        |> List.choose (function\n",
    "            | Arguments.File_Token_Range (inputPath, outputPath) -> Some (inputPath, outputPath)\n",
    "            | _ -> None\n",
    "        )\n",
    "\n",
    "    let executeCommandActions =\n",
    "        argsMap\n",
    "        |> Map.tryFind (nameof Arguments.Execute_Command)\n",
    "        |> Option.defaultValue []\n",
    "        |> List.choose (function\n",
    "            | Arguments.Execute_Command command -> Some command\n",
    "            | _ -> None\n",
    "        )\n",
    "\n",
    "    let timeout =\n",
    "        match argsMap |> Map.tryFind (nameof Arguments.Timeout) with\n",
    "        | Some [ Arguments.Timeout timeout ] -> timeout\n",
    "        | _ -> 60000 * 60\n",
    "\n",
    "    let port =\n",
    "        match argsMap |> Map.tryFind (nameof Arguments.Port) with\n",
    "        | Some [ Arguments.Port port ] -> Some port\n",
    "        | _ -> None\n",
    "\n",
    "    async {\n",
    "        let! buildFileResult =\n",
    "            buildFileActions\n",
    "            |> List.map (fun (inputPath, outputPath) -> async {\n",
    "                let port = port |> Option.defaultWith getCompilerPort\n",
    "                let! outputCode, errors = inputPath |> buildFile timeout port None\n",
    "\n",
    "                errors\n",
    "                |> List.map snd\n",
    "                |> List.iter (fun error ->\n",
    "                    trace Critical (fun () -> $\"main / error: {error |> serializeObj}\") getLocals\n",
    "                )\n",
    "\n",
    "                match outputCode with\n",
    "                | Some outputCode ->\n",
    "                    do! outputCode |> FileSystem.writeAllTextAsync outputPath\n",
    "                    return 0\n",
    "                | None ->\n",
    "                    return 1\n",
    "            })\n",
    "            |> Async.Sequential\n",
    "\n",
    "        let! fileTokenRangeResult =\n",
    "            fileTokenRangeActions\n",
    "            |> List.map (fun (inputPath, outputPath) -> async {\n",
    "                let port = port |> Option.defaultWith getCompilerPort\n",
    "                let! tokenRange = inputPath |> getFileTokenRange port None\n",
    "                match tokenRange with\n",
    "                | Some tokenRange ->\n",
    "                    do! tokenRange |> FSharp.Json.Json.serialize |> FileSystem.writeAllTextAsync outputPath\n",
    "                    return 0\n",
    "                | None ->\n",
    "                    return 1\n",
    "            })\n",
    "            |> Async.Sequential\n",
    "\n",
    "        let! executeCommandResult =\n",
    "            executeCommandActions\n",
    "            |> List.map (fun command -> async {\n",
    "                let port = port |> Option.defaultWith getCompilerPort\n",
    "\n",
    "                let localToken, disposable = Threading.newDisposableToken None\n",
    "                use _ = disposable\n",
    "\n",
    "                let! serverPort, _errors, compilerToken, disposable = awaitCompiler port (Some localToken)\n",
    "                use _ = disposable\n",
    "\n",
    "                let! exitCode, result =\n",
    "                    Runtime.executeWithOptionsAsync\n",
    "                        {\n",
    "                            Command = command\n",
    "                            CancellationToken = Some compilerToken\n",
    "                            WorkingDirectory = None\n",
    "                            OnLine = None\n",
    "                        }\n",
    "\n",
    "                trace Debug (fun () -> $\"main / executeCommand / exitCode: {exitCode}\") getLocals\n",
    "\n",
    "                return exitCode\n",
    "            })\n",
    "            |> Async.Sequential\n",
    "\n",
    "        return\n",
    "            [| buildFileResult; fileTokenRangeResult; executeCommandResult |]\n",
    "            |> Array.collect id\n",
    "            |> Array.sum\n",
    "    }\n",
    "    |> Async.runWithTimeout timeout\n",
    "    |> Option.defaultValue 1"
   ]
  },
  {
   "cell_type": "code",
   "execution_count": null,
   "metadata": {
    "dotnet_interactive": {
     "language": "fsharp"
    },
    "polyglot_notebook": {
     "kernelName": "fsharp"
    }
   },
   "outputs": [
    {
     "data": {
      "text/html": [
       "<div class=\"dni-plaintext\"><pre>0</pre></div><style>\n",
       ".dni-code-hint {\n",
       "    font-style: italic;\n",
       "    overflow: hidden;\n",
       "    white-space: nowrap;\n",
       "}\n",
       ".dni-treeview {\n",
       "    white-space: nowrap;\n",
       "}\n",
       ".dni-treeview td {\n",
       "    vertical-align: top;\n",
       "    text-align: start;\n",
       "}\n",
       "details.dni-treeview {\n",
       "    padding-left: 1em;\n",
       "}\n",
       "table td {\n",
       "    text-align: start;\n",
       "}\n",
       "table tr { \n",
       "    vertical-align: top; \n",
       "    margin: 0em 0px;\n",
       "}\n",
       "table tr td pre \n",
       "{ \n",
       "    vertical-align: top !important; \n",
       "    margin: 0em 0px !important;\n",
       "} \n",
       "table th {\n",
       "    text-align: start;\n",
       "}\n",
       "</style>"
      ]
     },
     "metadata": {},
     "output_type": "display_data"
    }
   ],
   "source": [
    "//// test\n",
    "\n",
    "let args =\n",
    "    System.Environment.GetEnvironmentVariable \"ARGS\"\n",
    "    |> Runtime.splitArgs\n",
    "    |> Seq.toArray\n",
    "\n",
    "match args with\n",
    "| [||] -> 0\n",
    "| args -> if main args = 0 then 0 else failwith \"main failed\""
   ]
  }
 ],
 "metadata": {},
 "nbformat": 4,
 "nbformat_minor": 5
}