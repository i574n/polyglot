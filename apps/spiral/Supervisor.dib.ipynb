{
 "cells": [
  {
   "cell_type": "markdown",
   "metadata": {},
   "source": [
    "# Supervisor (Polyglot)"
   ]
  },
  {
   "cell_type": "code",
   "execution_count": null,
   "metadata": {
    "dotnet_interactive": {
     "language": "fsharp"
    },
    "polyglot_notebook": {
     "kernelName": "fsharp"
    }
   },
   "outputs": [],
   "source": [
    "#!import ../../lib/fsharp/Notebooks.dib\n",
    "#!import ../../lib/fsharp/Testing.dib"
   ]
  },
  {
   "cell_type": "code",
   "execution_count": null,
   "metadata": {
    "dotnet_interactive": {
     "language": "fsharp"
    },
    "polyglot_notebook": {
     "kernelName": "fsharp"
    }
   },
   "outputs": [],
   "source": [
    "#r @\"../../../../../../../.nuget/packages/fsharp.control.asyncseq/3.2.1/lib/netstandard2.1/FSharp.Control.AsyncSeq.dll\"\n",
    "#r @\"../../../../../../../.nuget/packages/system.reactive/6.0.1-preview.1/lib/net6.0/System.Reactive.dll\"\n",
    "#r @\"../../../../../../../.nuget/packages/system.reactive.linq/6.0.1-preview.1/lib/netstandard2.0/System.Reactive.Linq.dll\"\n",
    "#r @\"../../../../../../../.nuget/packages/argu/6.1.5/lib/netstandard2.0/Argu.dll\"\n",
    "#r @\"../../../../../../../.nuget/packages/system.commandline/2.0.0-beta4.22272.1/lib/net6.0/System.CommandLine.dll\"\n",
    "#r @\"../../../../../../../.nuget/packages/microsoft.aspnetcore.http.connections.common/7.0.0/lib/net7.0/Microsoft.AspNetCore.Http.Connections.Common.dll\"\n",
    "#r @\"../../../../../../../.nuget/packages/microsoft.aspnetcore.http.connections.client/7.0.0/lib/net7.0/Microsoft.AspNetCore.Http.Connections.Client.dll\"\n",
    "#r @\"../../../../../../../.nuget/packages/microsoft.aspnetcore.signalr.common/7.0.0/lib/net7.0/Microsoft.AspNetCore.SignalR.Common.dll\"\n",
    "#r @\"../../../../../../../.nuget/packages/microsoft.aspnetcore.signalr.client/7.0.0/lib/net7.0/Microsoft.AspNetCore.SignalR.Client.dll\"\n",
    "#r @\"../../../../../../../.nuget/packages/microsoft.aspnetcore.signalr.client.core/7.0.0/lib/net7.0/Microsoft.AspNetCore.SignalR.Client.Core.dll\"\n",
    "#r @\"../../../../../../../.nuget/packages/fsharp.json/0.4.1/lib/netstandard2.0/FSharp.Json.dll\""
   ]
  },
  {
   "cell_type": "code",
   "execution_count": null,
   "metadata": {
    "dotnet_interactive": {
     "language": "fsharp"
    },
    "polyglot_notebook": {
     "kernelName": "fsharp"
    }
   },
   "outputs": [],
   "source": [
    "#!import ../../lib/fsharp/Common.fs\n",
    "#!import ../../lib/fsharp/CommonFSharp.fs\n",
    "#!import ../../lib/fsharp/Threading.fs\n",
    "#!import ../../lib/fsharp/Async.fs\n",
    "#!import ../../lib/fsharp/AsyncSeq.fs\n",
    "#!import ../../lib/fsharp/Networking.fs\n",
    "#!import ../../lib/fsharp/Runtime.fs\n",
    "#!import ../../lib/fsharp/FileSystem.fs"
   ]
  },
  {
   "cell_type": "code",
   "execution_count": null,
   "metadata": {
    "dotnet_interactive": {
     "language": "fsharp"
    },
    "polyglot_notebook": {
     "kernelName": "fsharp"
    }
   },
   "outputs": [],
   "source": [
    "open Common\n",
    "open FileSystem.Operators\n",
    "open Microsoft.AspNetCore.SignalR.Client"
   ]
  },
  {
   "cell_type": "markdown",
   "metadata": {},
   "source": [
    "## sendJson"
   ]
  },
  {
   "cell_type": "code",
   "execution_count": null,
   "metadata": {
    "dotnet_interactive": {
     "language": "fsharp"
    },
    "polyglot_notebook": {
     "kernelName": "fsharp"
    }
   },
   "outputs": [],
   "source": [
    "let inline sendJson (port : int) (json : string) = async {\n",
    "    let! portOpen = Networking.testPortOpen port\n",
    "    if portOpen then\n",
    "        try\n",
    "            let connection = HubConnectionBuilder().WithUrl($\"http://127.0.0.1:{port}\").Build()\n",
    "            do! connection.StartAsync () |> Async.AwaitTask\n",
    "            let! result = connection.InvokeAsync<string>(\"ClientToServerMsg\", json) |> Async.AwaitTask\n",
    "            do! connection.StopAsync () |> Async.AwaitTask\n",
    "            trace Debug (fun () -> $\"sendJson / port: {port} / json: {json} / result.Length: {result |> Option.ofObj |> Option.map String.length}\") getLocals\n",
    "            return Some result\n",
    "        with ex ->\n",
    "            trace Critical (fun () -> $\"sendJson / port: {port} / json: {json} / ex: {ex |> printException}\") getLocals\n",
    "            return None\n",
    "    else\n",
    "        trace Debug (fun () -> \"sendJson / error: port not open\") getLocals\n",
    "        return None\n",
    "}"
   ]
  },
  {
   "cell_type": "markdown",
   "metadata": {},
   "source": [
    "## sendObj"
   ]
  },
  {
   "cell_type": "code",
   "execution_count": null,
   "metadata": {
    "dotnet_interactive": {
     "language": "fsharp"
    },
    "polyglot_notebook": {
     "kernelName": "fsharp"
    }
   },
   "outputs": [],
   "source": [
    "let inline sendObj port obj =\n",
    "    obj\n",
    "    |> System.Text.Json.JsonSerializer.Serialize\n",
    "    |> sendJson port"
   ]
  },
  {
   "cell_type": "markdown",
   "metadata": {},
   "source": [
    "## awaitCompiler"
   ]
  },
  {
   "cell_type": "code",
   "execution_count": null,
   "metadata": {
    "dotnet_interactive": {
     "language": "fsharp"
    },
    "polyglot_notebook": {
     "kernelName": "fsharp"
    }
   },
   "outputs": [],
   "source": [
    "type VSCPos = {| line : int; character : int |}\n",
    "type VSCRange = VSCPos * VSCPos\n",
    "type RString = VSCRange * string\n",
    "type TracedError = {| trace : string list; message : string |}\n",
    "type ClientErrorsRes =\n",
    "    | FatalError of string\n",
    "    | TracedError of TracedError\n",
    "    | PackageErrors of {| uri : string; errors : RString list |}\n",
    "    | TokenizerErrors of {| uri : string; errors : RString list |}\n",
    "    | ParserErrors of {| uri : string; errors : RString list |}\n",
    "    | TypeErrors of {| uri : string; errors : RString list |}"
   ]
  },
  {
   "cell_type": "code",
   "execution_count": null,
   "metadata": {
    "dotnet_interactive": {
     "language": "fsharp"
    },
    "polyglot_notebook": {
     "kernelName": "fsharp"
    }
   },
   "outputs": [],
   "source": [
    "let inline awaitCompiler port cancellationToken = async {\n",
    "    let! ct =\n",
    "        cancellationToken\n",
    "        |> Option.defaultValue System.Threading.CancellationToken.None\n",
    "        |> Async.mergeCancellationTokenWithDefaultAsync\n",
    "    \n",
    "    let cts = new System.Threading.CancellationTokenSource ()\n",
    "\n",
    "    let compiler = MailboxProcessor.Start (fun inbox -> async {\n",
    "        let! availablePort = Networking.getAvailablePort (Some 60) port\n",
    "        if availablePort <> port then\n",
    "            inbox.Post port\n",
    "        else\n",
    "            let repositoryRoot = FileSystem.getSourceDirectory () |> FileSystem.findParent \".paket\" false\n",
    "\n",
    "            let compilerPath =\n",
    "                repositoryRoot </> \"deps/The-Spiral-Language/The Spiral Language 2/artifacts/bin/The Spiral Language 2/release\"\n",
    "                |> System.IO.Path.GetFullPath\n",
    "\n",
    "            let dllPath = compilerPath </> \"Spiral.dll\"\n",
    "\n",
    "            let! exitCode, result =\n",
    "                Runtime.executeWithOptionsAsync\n",
    "                    {\n",
    "                        Command = $@\"dotnet \"\"{dllPath}\"\" port={availablePort}\"\n",
    "                        CancellationToken = Some ct\n",
    "                        WorkingDirectory = None\n",
    "                        OnLine = Some <| fun { Line = line } -> async {\n",
    "                            if line |> String.contains $\"Server bound to: http://localhost:{availablePort}\" then\n",
    "                                do! Networking.waitForPortAccess (Some 500) true availablePort |> Async.Ignore\n",
    "\n",
    "                                let rec loop retry = async {\n",
    "                                    let getLocals () = $\"port: {availablePort} / retry: {retry} / {getLocals ()}\"\n",
    "                                    try\n",
    "                                        let pingObj = {| Ping = true |}\n",
    "                                        let! pingResult = pingObj |> sendObj availablePort\n",
    "                                        trace Verbose (fun () -> $\"awaitCompiler / Ping / result: {pingResult}\") getLocals\n",
    "                                    with ex ->\n",
    "                                        trace Verbose (fun () -> $\"awaitCompiler / Ping / ex: {ex |> printException}\") getLocals\n",
    "                                        do! Async.Sleep 10\n",
    "                                        do! loop (retry + 1)\n",
    "                                }\n",
    "                                do! loop 0\n",
    "                                inbox.Post availablePort\n",
    "                        }\n",
    "                    }\n",
    "            trace Debug (fun () -> $\"awaitCompiler / exitCode: {exitCode} / result: {result}\") getLocals\n",
    "            cts.Cancel ()\n",
    "    }, ct)\n",
    "\n",
    "    let! serverPort = compiler.Receive ()\n",
    "\n",
    "    let connection = HubConnectionBuilder().WithUrl($\"http://127.0.0.1:{serverPort}\").Build ()\n",
    "    do! connection.StartAsync () |> Async.AwaitTask\n",
    "\n",
    "    let event = Event<_> ()\n",
    "    let disposable = connection.On<string> (\"ServerToClientMsg\", event.Trigger)\n",
    "    let stream =\n",
    "        FSharp.Control.AsyncSeq.unfoldAsync\n",
    "            (fun () -> async {\n",
    "                let! msg = event.Publish |> Async.AwaitEvent\n",
    "                return Some (msg |> FSharp.Json.Json.deserialize<ClientErrorsRes>, ())\n",
    "            })\n",
    "            ()\n",
    "\n",
    "    let disposable =\n",
    "        newDisposable (fun () ->\n",
    "            disposable.Dispose ()\n",
    "            connection.StopAsync () |> Async.AwaitTask |> Async.StartImmediate\n",
    "        )\n",
    "\n",
    "    return\n",
    "        serverPort,\n",
    "        stream,\n",
    "        cts.Token,\n",
    "        disposable\n",
    "}"
   ]
  },
  {
   "cell_type": "markdown",
   "metadata": {},
   "source": [
    "## getFileUri"
   ]
  },
  {
   "cell_type": "code",
   "execution_count": null,
   "metadata": {
    "dotnet_interactive": {
     "language": "fsharp"
    },
    "polyglot_notebook": {
     "kernelName": "fsharp"
    }
   },
   "outputs": [],
   "source": [
    "let inline getFileUri path =\n",
    "    $\"file:///{path |> String.trimStart [| '/' |]}\""
   ]
  },
  {
   "cell_type": "code",
   "execution_count": null,
   "metadata": {
    "dotnet_interactive": {
     "language": "fsharp"
    },
    "polyglot_notebook": {
     "kernelName": "fsharp"
    }
   },
   "outputs": [],
   "source": [
    "let inline getFilePathFromUri uri =\n",
    "    match System.Uri.TryCreate (uri, System.UriKind.Absolute) with\n",
    "    | true, uri -> uri.AbsolutePath |> System.IO.Path.GetFullPath\n",
    "    | _ -> failwith \"invalid uri\""
   ]
  },
  {
   "cell_type": "code",
   "execution_count": null,
   "metadata": {
    "dotnet_interactive": {
     "language": "fsharp"
    },
    "polyglot_notebook": {
     "kernelName": "fsharp"
    }
   },
   "outputs": [],
   "source": [
    "let inline getCompilerPort () =\n",
    "    13805"
   ]
  },
  {
   "cell_type": "markdown",
   "metadata": {},
   "source": [
    "## buildFile"
   ]
  },
  {
   "cell_type": "code",
   "execution_count": null,
   "metadata": {
    "dotnet_interactive": {
     "language": "fsharp"
    },
    "polyglot_notebook": {
     "kernelName": "fsharp"
    }
   },
   "outputs": [],
   "source": [
    "let inline buildFile timeout port cancellationToken path = async {\n",
    "    let fullPath = path |> System.IO.Path.GetFullPath\n",
    "    let fileDir = fullPath |> System.IO.Path.GetDirectoryName\n",
    "    let fileName = fullPath |> System.IO.Path.GetFileNameWithoutExtension\n",
    "    let! code = fullPath |> FileSystem.readAllTextAsync\n",
    "\n",
    "    let eventFilter = function\n",
    "        | FileSystem.FileSystemChange.Changed (path, _) when path = $\"{fileName}.fsx\" -> true\n",
    "        | _ -> false\n",
    "\n",
    "    let stream, disposable = fileDir |> FileSystem.watchDirectory eventFilter\n",
    "    use _ = disposable\n",
    "\n",
    "    let token, disposable = Threading.newDisposableToken cancellationToken\n",
    "    use _ = disposable\n",
    "\n",
    "    let! serverPort, errors, ct, disposable = awaitCompiler port (Some token)\n",
    "    use _ = disposable\n",
    "\n",
    "    let fsxContentSeq =\n",
    "        stream\n",
    "        |> FSharp.Control.AsyncSeq.choose (function\n",
    "            | _, (FileSystem.FileSystemChange.Changed (path, Some content) as event)\n",
    "                when event |> eventFilter\n",
    "                ->\n",
    "                Some content\n",
    "            | _ -> None\n",
    "        )\n",
    "        |> FSharp.Control.AsyncSeq.map (fun content ->\n",
    "            Some (content |> String.replace \"\\r\\n\" \"\\n\"), None\n",
    "        )\n",
    "\n",
    "    let inline printErrorData (data : {| uri : string; errors : RString list |}) =\n",
    "        let fileName = data.uri |> System.IO.Path.GetFileName\n",
    "        let errors =\n",
    "            data.errors\n",
    "            |> List.map snd\n",
    "            |> String.concat \"\\n\"\n",
    "        $\"{fileName}:\\n{errors}\"\n",
    "\n",
    "    let errorsSeq =\n",
    "        errors\n",
    "        |> FSharp.Control.AsyncSeq.choose (fun error ->\n",
    "            match error with\n",
    "            | FatalError message ->\n",
    "                Some (message, error)\n",
    "            | TracedError data ->\n",
    "                Some (data.message, error)\n",
    "            | PackageErrors data when data.errors |> List.isEmpty |> not ->\n",
    "                Some (data |> printErrorData, error)\n",
    "            | TokenizerErrors data when data.errors |> List.isEmpty |> not ->\n",
    "                Some (data |> printErrorData, error)\n",
    "            | ParserErrors data when data.errors |> List.isEmpty |> not ->\n",
    "                Some (data |> printErrorData, error)\n",
    "            | TypeErrors data when data.errors |> List.isEmpty |> not ->\n",
    "                Some (data |> printErrorData, error)\n",
    "            | _ -> None\n",
    "        )\n",
    "        |> FSharp.Control.AsyncSeq.map (fun (message, error) ->\n",
    "            None, Some (message, error)\n",
    "        )\n",
    "    \n",
    "    let timerSeq =\n",
    "        1000\n",
    "        |> FSharp.Control.AsyncSeq.intervalMs\n",
    "        |> FSharp.Control.AsyncSeq.map (fun _ -> None, None)\n",
    "\n",
    "    let outputSeq =\n",
    "        [ fsxContentSeq; errorsSeq; timerSeq ]\n",
    "        |> FSharp.Control.AsyncSeq.mergeAll\n",
    "\n",
    "    let! outputChild =\n",
    "        ((None, [], 0), outputSeq)\n",
    "        ||> FSharp.Control.AsyncSeq.scan (\n",
    "            fun (fsxContentResult, errors, typeErrorCount) (fsxContent, error) ->\n",
    "                match fsxContent, error with\n",
    "                | Some fsxContent, None -> Some fsxContent, errors, typeErrorCount\n",
    "                | None, Some (_, FatalError \"File main has a type error somewhere in its path.\") ->\n",
    "                    fsxContentResult, errors, typeErrorCount + 1\n",
    "                | None, Some error -> fsxContentResult, error :: errors, typeErrorCount\n",
    "                | None, None when typeErrorCount >= 1 ->\n",
    "                    fsxContentResult, errors, typeErrorCount + 1\n",
    "                | _ -> fsxContentResult, errors, typeErrorCount\n",
    "        )\n",
    "        |> FSharp.Control.AsyncSeq.takeWhileInclusive (fun (fsxContent, errors, typeErrorCount) ->\n",
    "            trace Debug (fun () -> $\"buildFile / takeWhileInclusive / fsxContent: {fsxContent |> Option.defaultValue System.String.Empty |> String.ellipsis 750} / errors: {errors} / typeErrorCount: {typeErrorCount}\") getLocals\n",
    "            match fsxContent, errors with\n",
    "            | None, [] when typeErrorCount > 2 -> false\n",
    "            | None, [] -> true\n",
    "            | _ -> false\n",
    "        )\n",
    "        |> FSharp.Control.AsyncSeq.tryLast\n",
    "        |> Async.withCancellationToken ct\n",
    "        |> Async.catch\n",
    "        |> Async.runWithTimeoutAsync timeout\n",
    "        |> Async.StartChild\n",
    "\n",
    "    let fileOpenObj = {| FileOpen = {| uri = fullPath |> getFileUri; spiText = code |} |}\n",
    "    let! _fileOpenResult = fileOpenObj |> sendObj serverPort\n",
    "\n",
    "    do! Async.Sleep 60\n",
    "\n",
    "    let buildFileObj = {| BuildFile = {| uri = fullPath |> getFileUri; backend = \"Fsharp\" |} |}\n",
    "    let! _buildFileResult = buildFileObj |> sendObj serverPort\n",
    "\n",
    "    return!\n",
    "        outputChild\n",
    "        |> Async.map (function\n",
    "            | Some (Ok (Some (message, errors, _))) -> message, errors |> List.distinct |> List.rev\n",
    "            | Some (Error ex) ->\n",
    "                trace Critical (fun () -> $\"buildFile / error: {ex |> printException}\") getLocals\n",
    "                None, []\n",
    "            | _ -> None, []\n",
    "        )\n",
    "}"
   ]
  },
  {
   "cell_type": "markdown",
   "metadata": {},
   "source": [
    "## persistCode"
   ]
  },
  {
   "cell_type": "code",
   "execution_count": null,
   "metadata": {
    "dotnet_interactive": {
     "language": "fsharp"
    },
    "polyglot_notebook": {
     "kernelName": "fsharp"
    }
   },
   "outputs": [],
   "source": [
    "let inline persistCode code = async {\n",
    "    let tempDir = FileSystem.createTempDirectory ()\n",
    "\n",
    "    let mainPath = tempDir </> \"main.spi\"\n",
    "    do! code |> FileSystem.writeAllTextAsync mainPath\n",
    "\n",
    "    let repositoryRoot = FileSystem.getSourceDirectory () |> FileSystem.findParent \".paket\" false\n",
    "\n",
    "    let spiprojPath = tempDir </> \"package.spiproj\"\n",
    "    let spiprojCode =\n",
    "        $\"\"\"packageDir: {repositoryRoot </> \"lib\"}\n",
    "packages:\n",
    "    |core-\n",
    "    spiral-\n",
    "modules:\n",
    "    main\n",
    "\"\"\"\n",
    "    do! spiprojCode |> FileSystem.writeAllTextAsync spiprojPath\n",
    "\n",
    "    let disposable = newDisposable (fun () ->\n",
    "        ()\n",
    "        // tempDir |> FileSystem.deleteDirectoryAsync |> Async.Ignore |> Async.RunSynchronously\n",
    "    )\n",
    "\n",
    "    return mainPath, disposable\n",
    "}"
   ]
  },
  {
   "cell_type": "markdown",
   "metadata": {},
   "source": [
    "## buildCode"
   ]
  },
  {
   "cell_type": "code",
   "execution_count": null,
   "metadata": {
    "dotnet_interactive": {
     "language": "fsharp"
    },
    "polyglot_notebook": {
     "kernelName": "fsharp"
    }
   },
   "outputs": [],
   "source": [
    "let inline buildCode timeout cancellationToken code = async {\n",
    "    let! mainPath, disposable = persistCode code\n",
    "    use _ = disposable\n",
    "    let port = getCompilerPort ()\n",
    "    return! mainPath |> buildFile timeout port cancellationToken\n",
    "}"
   ]
  },
  {
   "cell_type": "code",
   "execution_count": null,
   "metadata": {
    "dotnet_interactive": {
     "language": "fsharp"
    },
    "polyglot_notebook": {
     "kernelName": "fsharp"
    }
   },
   "outputs": [],
   "source": [
    "//// test\n",
    "\n",
    "let buildCode timeout cancellationToken code = buildCode timeout cancellationToken code"
   ]
  },
  {
   "cell_type": "code",
   "execution_count": null,
   "metadata": {
    "dotnet_interactive": {
     "language": "fsharp"
    },
    "polyglot_notebook": {
     "kernelName": "fsharp"
    }
   },
   "outputs": [
    {
     "name": "stdout",
     "output_type": "stream",
     "text": [
      "00:00:00 #1 [Verbose] testPortOpen / ex: System.AggregateException: One or more errors occurred. (Connection refused)\n",
      "00:00:00 #2 [Debug] executeAsync / options: { Command =\n",
      "   \"dotnet \"/home/runner/work/polyglot/polyglot/deps/The-Spiral-Language/The Spiral Language 2/artifacts/bin/The Spiral Language 2/release/Spiral.dll\" port=13805\"\n",
      "  WorkingDirectory = None\n",
      "  CancellationToken = Some System.Threading.CancellationToken\n",
      "  OnLine = Some <fun:buildCode@3-983> }\n",
      "00:00:00 #3 [Verbose] > pwd: /home/runner/work/polyglot/polyglot/apps/spiral\n",
      "00:00:00 #4 [Verbose] > dll_path: /home/runner/work/polyglot/polyglot/deps/The-Spiral-Language/The Spiral Language 2/artifacts/bin/The Spiral Language 2/release\n",
      "00:00:00 #5 [Verbose] testPortOpen / ex: System.AggregateException: One or more errors occurred. (Connection refused)\n",
      "00:00:00 #6 [Verbose] waitForPortAccess / port: 13805 / retry: 0\n",
      "00:00:00 #7 [Verbose] testPortOpen / ex: System.AggregateException: One or more errors occurred. (Connection refused)\n",
      "00:00:00 #8 [Verbose] testPortOpen / ex: System.AggregateException: One or more errors occurred. (Connection refused)\n",
      "00:00:00 #9 [Verbose] testPortOpen / ex: System.AggregateException: One or more errors occurred. (Connection refused)\n",
      "00:00:00 #10 [Verbose] testPortOpen / ex: System.AggregateException: One or more errors occurred. (Connection refused)\n",
      "00:00:00 #11 [Verbose] testPortOpen / ex: System.AggregateException: One or more errors occurred. (Connection refused)\n",
      "00:00:00 #12 [Verbose] testPortOpen / ex: System.AggregateException: One or more errors occurred. (Connection refused)\n",
      "00:00:00 #13 [Verbose] testPortOpen / ex: System.AggregateException: One or more errors occurred. (Connection refused)\n",
      "00:00:00 #14 [Verbose] testPortOpen / ex: System.AggregateException: One or more errors occurred. (Connection refused)\n",
      "00:00:00 #15 [Verbose] testPortOpen / ex: System.AggregateException: One or more errors occurred. (Connection refused)\n",
      "00:00:00 #16 [Verbose] testPortOpen / ex: System.AggregateException: One or more errors occurred. (Connection refused)\n",
      "00:00:00 #17 [Verbose] testPortOpen / ex: System.AggregateException: One or more errors occurred. (Connection refused)\n",
      "00:00:00 #18 [Debug] sendJson / port: 13805 / json: {\"Ping\":true} / result.Length:\n",
      "00:00:00 #19 [Verbose] awaitCompiler / Ping / result: Some(null) / port: 13805 / retry: 0\n",
      "00:00:00 #20 [Verbose] > Server bound to: http://localhost:13805\n",
      "00:00:00 #21 [Debug] buildFile / takeWhileInclusive / fsxContent:  / errors: [] / typeErrorCount: 0\n",
      "00:00:00 #22 [Debug] buildFile / takeWhileInclusive / fsxContent:  / errors: [] / typeErrorCount: 0\n",
      "00:00:00 #23 [Debug] sendJson / port: 13805 / json: {\"FileOpen\":{\"spiText\":\"inl app () =\\n    console.write_line \\u0022text\\u0022\\n    1i32\\n\\ninl main () =\\n    app\\n    |\\u003E dyn\\n    |\\u003E ignore\\n\",\"uri\":\"file:///tmp/!dotnet-repl/20240215-2304-5756-5630-5c347c67b80d/main.spi\"}} / result.Length:\n",
      "00:00:00 #24 [Debug] sendJson / port: 13805 / json: {\"BuildFile\":{\"backend\":\"Fsharp\",\"uri\":\"file:///tmp/!dotnet-repl/20240215-2304-5756-5630-5c347c67b80d/main.spi\"}} / result.Length:\n",
      "00:00:00 #25 [Verbose] > Building /tmp/!dotnet-repl/20240215-2304-5756-5630-5c347c67b80d/main.spi\n",
      "00:00:01 #26 [Debug] buildFile / takeWhileInclusive / fsxContent:  / errors: [] / typeErrorCount: 0\n",
      "00:00:01 #27 [Debug] buildFile / takeWhileInclusive / fsxContent: let rec closure0 () () : int32 =\n",
      "    let v0 : string = \"text\"\n",
      "    System.Console.WriteLine v0\n",
      "    1\n",
      "let v0 : (unit -> int32) = closure0()\n",
      "()\n",
      " / errors: [] / typeErrorCount: 0\n",
      "00:00:02 #28 [Debug] watchWithFilter / Disposing watch stream / filter: FileName, LastWrite\n",
      "FSharpOption<Tuple<FSharpOption<String>,FSharpList<String>>>\n",
      "      Value:       - FSharpOption<String>\n",
      "          Value: let rec closure0 () () : int32 =\n",
      "    let v0 : string = \"text\"\n",
      "    System.Console.WriteLine v0\n",
      "    1\n",
      "let v0 : (unit -> int32) = closure0()\n",
      "()\n",
      "\n",
      "      - [  ]\n"
     ]
    }
   ],
   "source": [
    "//// test\n",
    "\n",
    "\"\"\"inl app () =\n",
    "    console.write_line \"text\"\n",
    "    1i32\n",
    "\n",
    "inl main () =\n",
    "    app\n",
    "    |> dyn\n",
    "    |> ignore\n",
    "\"\"\"\n",
    "|> buildCode 15000 None\n",
    "|> Async.runWithTimeout 15000\n",
    "|> Option.map (fun (fsxContent, errors) -> fsxContent, errors |> List.map fst)\n",
    "|> _equal (\n",
    "    Some (\n",
    "        Some \"\"\"let rec closure0 () () : int32 =\n",
    "    let v0 : string = \"text\"\n",
    "    System.Console.WriteLine v0\n",
    "    1\n",
    "let v0 : (unit -> int32) = closure0()\n",
    "()\n",
    "\"\"\",\n",
    "        []\n",
    "    )\n",
    ")"
   ]
  },
  {
   "cell_type": "code",
   "execution_count": null,
   "metadata": {
    "dotnet_interactive": {
     "language": "fsharp"
    },
    "polyglot_notebook": {
     "kernelName": "fsharp"
    }
   },
   "outputs": [
    {
     "name": "stdout",
     "output_type": "stream",
     "text": [
      "00:00:02 #29 [Verbose] testPortOpen / ex: System.AggregateException: One or more errors occurred. (Connection refused)\n",
      "00:00:02 #30 [Debug] executeAsync / options: { Command =\n",
      "   \"dotnet \"/home/runner/work/polyglot/polyglot/deps/The-Spiral-Language/The Spiral Language 2/artifacts/bin/The Spiral Language 2/release/Spiral.dll\" port=13805\"\n",
      "  WorkingDirectory = None\n",
      "  CancellationToken = Some System.Threading.CancellationToken\n",
      "  OnLine = Some <fun:buildCode@3-983> }\n",
      "00:00:02 #31 [Verbose] > pwd: /home/runner/work/polyglot/polyglot/apps/spiral\n",
      "00:00:02 #32 [Verbose] testPortOpen / ex: System.AggregateException: One or more errors occurred. (Connection refused)\n",
      "00:00:02 #33 [Verbose] waitForPortAccess / port: 13805 / retry: 0\n",
      "00:00:02 #34 [Verbose] > dll_path: /home/runner/work/polyglot/polyglot/deps/The-Spiral-Language/The Spiral Language 2/artifacts/bin/The Spiral Language 2/release\n",
      "00:00:02 #35 [Verbose] testPortOpen / ex: System.AggregateException: One or more errors occurred. (Connection refused)\n",
      "00:00:02 #36 [Verbose] testPortOpen / ex: System.AggregateException: One or more errors occurred. (Connection refused)\n",
      "00:00:02 #37 [Verbose] testPortOpen / ex: System.AggregateException: One or more errors occurred. (Connection refused)\n",
      "00:00:02 #38 [Verbose] testPortOpen / ex: System.AggregateException: One or more errors occurred. (Connection refused)\n",
      "00:00:02 #39 [Verbose] testPortOpen / ex: System.AggregateException: One or more errors occurred. (Connection refused)\n",
      "00:00:02 #40 [Verbose] testPortOpen / ex: System.AggregateException: One or more errors occurred. (Connection refused)\n",
      "00:00:02 #41 [Verbose] testPortOpen / ex: System.AggregateException: One or more errors occurred. (Connection refused)\n",
      "00:00:02 #42 [Verbose] testPortOpen / ex: System.AggregateException: One or more errors occurred. (Connection refused)\n",
      "00:00:02 #43 [Verbose] testPortOpen / ex: System.AggregateException: One or more errors occurred. (Connection refused)\n",
      "00:00:02 #44 [Debug] sendJson / port: 13805 / json: {\"Ping\":true} / result.Length:\n",
      "00:00:02 #45 [Verbose] awaitCompiler / Ping / result: Some(null) / port: 13805 / retry: 0\n",
      "00:00:02 #46 [Verbose] > Server bound to: http://localhost:13805\n",
      "00:00:02 #47 [Debug] buildFile / takeWhileInclusive / fsxContent:  / errors: [] / typeErrorCount: 0\n",
      "00:00:02 #48 [Debug] buildFile / takeWhileInclusive / fsxContent:  / errors: [] / typeErrorCount: 0\n",
      "00:00:02 #49 [Debug] sendJson / port: 13805 / json: {\"FileOpen\":{\"spiText\":\"\",\"uri\":\"file:///tmp/!dotnet-repl/20240215-2304-5973-7370-7991e803ab9e/main.spi\"}} / result.Length:\n",
      "00:00:02 #50 [Debug] sendJson / port: 13805 / json: {\"BuildFile\":{\"backend\":\"Fsharp\",\"uri\":\"file:///tmp/!dotnet-repl/20240215-2304-5973-7370-7991e803ab9e/main.spi\"}} / result.Length:\n",
      "00:00:02 #51 [Verbose] > Building /tmp/!dotnet-repl/20240215-2304-5973-7370-7991e803ab9e/main.spi\n",
      "00:00:03 #52 [Debug] buildFile / takeWhileInclusive / fsxContent:  / errors: [] / typeErrorCount: 0\n",
      "00:00:03 #53 [Verbose] > Cannot find `main` in file main.\n",
      "00:00:03 #54 [Verbose] > Build skipped for /tmp/!dotnet-repl/20240215-2304-5973-7370-7991e803ab9e/main.spi\n",
      "00:00:04 #55 [Debug] buildFile / takeWhileInclusive / fsxContent:  / errors: [] / typeErrorCount: 0\n",
      "00:00:05 #56 [Debug] buildFile / takeWhileInclusive / fsxContent:  / errors: [] / typeErrorCount: 0\n",
      "00:00:06 #57 [Debug] buildFile / takeWhileInclusive / fsxContent:  / errors: [] / typeErrorCount: 0\n",
      "00:00:07 #58 [Debug] buildFile / takeWhileInclusive / fsxContent:  / errors: [] / typeErrorCount: 0\n",
      "00:00:08 #59 [Debug] buildFile / takeWhileInclusive / fsxContent:  / errors: [] / typeErrorCount: 0\n",
      "00:00:09 #60 [Debug] buildFile / takeWhileInclusive / fsxContent:  / errors: [] / typeErrorCount: 0\n",
      "00:00:10 #61 [Debug] buildFile / takeWhileInclusive / fsxContent:  / errors: [] / typeErrorCount: 0\n",
      "00:00:11 #62 [Debug] buildFile / takeWhileInclusive / fsxContent:  / errors: [] / typeErrorCount: 0\n",
      "00:00:12 #63 [Debug] runWithTimeoutAsync / timeout: 10000\n",
      "00:00:12 #64 [Debug] watchWithFilter / Disposing watch stream / filter: FileName, LastWrite\n",
      "<null>\n"
     ]
    }
   ],
   "source": [
    "//// test\n",
    "\n",
    "\"\"\n",
    "|> buildCode 10000 None\n",
    "|> Async.runWithTimeout 10000\n",
    "|> _equal None"
   ]
  },
  {
   "cell_type": "code",
   "execution_count": null,
   "metadata": {
    "dotnet_interactive": {
     "language": "fsharp"
    },
    "polyglot_notebook": {
     "kernelName": "fsharp"
    }
   },
   "outputs": [
    {
     "name": "stdout",
     "output_type": "stream",
     "text": [
      "00:00:12 #65 [Verbose] testPortOpen / ex: System.AggregateException: One or more errors occurred. (Connection refused)\n",
      "00:00:12 #66 [Debug] executeAsync / options: { Command =\n",
      "   \"dotnet \"/home/runner/work/polyglot/polyglot/deps/The-Spiral-Language/The Spiral Language 2/artifacts/bin/The Spiral Language 2/release/Spiral.dll\" port=13805\"\n",
      "  WorkingDirectory = None\n",
      "  CancellationToken = Some System.Threading.CancellationToken\n",
      "  OnLine = Some <fun:buildCode@3-983> }\n",
      "00:00:12 #67 [Verbose] > pwd: /home/runner/work/polyglot/polyglot/apps/spiral\n",
      "00:00:12 #68 [Verbose] testPortOpen / ex: System.AggregateException: One or more errors occurred. (Connection refused)\n",
      "00:00:12 #69 [Verbose] waitForPortAccess / port: 13805 / retry: 0\n",
      "00:00:12 #70 [Verbose] > dll_path: /home/runner/work/polyglot/polyglot/deps/The-Spiral-Language/The Spiral Language 2/artifacts/bin/The Spiral Language 2/release\n",
      "00:00:12 #71 [Verbose] testPortOpen / ex: System.AggregateException: One or more errors occurred. (Connection refused)\n",
      "00:00:12 #72 [Verbose] testPortOpen / ex: System.AggregateException: One or more errors occurred. (Connection refused)\n",
      "00:00:12 #73 [Verbose] testPortOpen / ex: System.AggregateException: One or more errors occurred. (Connection refused)\n",
      "00:00:12 #74 [Verbose] testPortOpen / ex: System.AggregateException: One or more errors occurred. (Connection refused)\n",
      "00:00:12 #75 [Verbose] testPortOpen / ex: System.AggregateException: One or more errors occurred. (Connection refused)\n",
      "00:00:12 #76 [Verbose] testPortOpen / ex: System.AggregateException: One or more errors occurred. (Connection refused)\n",
      "00:00:12 #77 [Verbose] testPortOpen / ex: System.AggregateException: One or more errors occurred. (Connection refused)\n",
      "00:00:12 #78 [Verbose] testPortOpen / ex: System.AggregateException: One or more errors occurred. (Connection refused)\n",
      "00:00:12 #79 [Verbose] testPortOpen / ex: System.AggregateException: One or more errors occurred. (Connection refused)\n",
      "00:00:12 #82 [Debug] sendJson / port: 13805 / json: {\"Ping\":true} / result.Length:\n",
      "00:00:12 #83 [Verbose] awaitCompiler / Ping / result: Some(null) / port: 13805 / retry: 0\n",
      "00:00:12 #84 [Verbose] > Server bound to: http://localhost:13805\n",
      "00:00:12 #85 [Debug] buildFile / takeWhileInclusive / fsxContent:  / errors: [] / typeErrorCount: 0\n",
      "00:00:12 #86 [Debug] buildFile / takeWhileInclusive / fsxContent:  / errors: [] / typeErrorCount: 0\n",
      "00:00:12 #87 [Debug] sendJson / port: 13805 / json: {\"FileOpen\":{\"spiText\":\"inl app () =\\n    0i32\\n\\ninl a = 1\\n\\ninl main () =\\n    app\\n    |\\u003E dyn\\n    |\\u003E ignore\\n\",\"uri\":\"file:///tmp/!dotnet-repl/20240215-2305-0985-8530-860e67469eb9/main.spi\"}} / result.Length:\n",
      "00:00:12 #88 [Debug] sendJson / port: 13805 / json: {\"BuildFile\":{\"backend\":\"Fsharp\",\"uri\":\"file:///tmp/!dotnet-repl/20240215-2305-0985-8530-860e67469eb9/main.spi\"}} / result.Length:\n",
      "00:00:13 #89 [Verbose] > Building /tmp/!dotnet-repl/20240215-2305-0985-8530-860e67469eb9/main.spi\n",
      "00:00:13 #90 [Debug] buildFile / takeWhileInclusive / fsxContent:  / errors: [(main.spi:\n",
      "Global inl/let statements should all return functions known at parse time., ParserErrors\n",
      "  { errors =\n",
      "     [(({ character = 0\n",
      "          line = 3 }, { character = 9\n",
      "                        line = 3 }),\n",
      "       \"Global inl/let statements should all return functions known at parse time.\")]\n",
      "    uri =\n",
      "     \"file:///tmp/!dotnet-repl/20240215-2305-0985-8530-860e67469eb9/main.spi\" })] / typeErrorCount: 0\n",
      "00:00:13 #91 [Debug] watchWithFilter / Disposing watch stream / filter: FileName, LastWrite\n",
      "FSharpOption<Tuple<FSharpOption<String>,FSharpList<String>>>\n",
      "      Value:       - <null>\n",
      "      - [ main.spi:\n",
      "Global inl/let statements should all return functions known at parse time. ]\n"
     ]
    }
   ],
   "source": [
    "//// test\n",
    "\n",
    "\"inl app () =\n",
    "    0i32\n",
    "\n",
    "inl a = 1\n",
    "\n",
    "inl main () =\n",
    "    app\n",
    "    |> dyn\n",
    "    |> ignore\n",
    "\"\n",
    "|> buildCode 10000 None\n",
    "|> Async.runWithTimeout 10000\n",
    "|> Option.map (fun (fsxContent, errors) -> fsxContent, errors |> List.map fst)\n",
    "|> _equal (\n",
    "    Some (\n",
    "        None,\n",
    "        [ \"main.spi:\n",
    "Global inl/let statements should all return functions known at parse time.\" ]\n",
    "    )\n",
    ")"
   ]
  },
  {
   "cell_type": "code",
   "execution_count": null,
   "metadata": {
    "dotnet_interactive": {
     "language": "fsharp"
    },
    "polyglot_notebook": {
     "kernelName": "fsharp"
    }
   },
   "outputs": [
    {
     "name": "stdout",
     "output_type": "stream",
     "text": [
      "00:00:13 #92 [Verbose] testPortOpen / ex: System.AggregateException: One or more errors occurred. (Connection refused)\n",
      "00:00:13 #93 [Debug] executeAsync / options: { Command =\n",
      "   \"dotnet \"/home/runner/work/polyglot/polyglot/deps/The-Spiral-Language/The Spiral Language 2/artifacts/bin/The Spiral Language 2/release/Spiral.dll\" port=13805\"\n",
      "  WorkingDirectory = None\n",
      "  CancellationToken = Some System.Threading.CancellationToken\n",
      "  OnLine = Some <fun:buildCode@3-983> }\n",
      "00:00:13 #94 [Verbose] > pwd: /home/runner/work/polyglot/polyglot/apps/spiral\n",
      "00:00:13 #95 [Verbose] testPortOpen / ex: System.AggregateException: One or more errors occurred. (Connection refused)\n",
      "00:00:13 #96 [Verbose] waitForPortAccess / port: 13805 / retry: 0\n",
      "00:00:13 #97 [Verbose] > dll_path: /home/runner/work/polyglot/polyglot/deps/The-Spiral-Language/The Spiral Language 2/artifacts/bin/The Spiral Language 2/release\n",
      "00:00:13 #98 [Verbose] testPortOpen / ex: System.AggregateException: One or more errors occurred. (Connection refused)\n",
      "00:00:13 #99 [Verbose] testPortOpen / ex: System.AggregateException: One or more errors occurred. (Connection refused)\n",
      "00:00:13 #100 [Verbose] testPortOpen / ex: System.AggregateException: One or more errors occurred. (Connection refused)\n",
      "00:00:13 #101 [Verbose] testPortOpen / ex: System.AggregateException: One or more errors occurred. (Connection refused)\n",
      "00:00:13 #102 [Verbose] testPortOpen / ex: System.AggregateException: One or more errors occurred. (Connection refused)\n",
      "00:00:13 #103 [Verbose] testPortOpen / ex: System.AggregateException: One or more errors occurred. (Connection refused)\n",
      "00:00:13 #104 [Verbose] testPortOpen / ex: System.AggregateException: One or more errors occurred. (Connection refused)\n",
      "00:00:13 #105 [Verbose] testPortOpen / ex: System.AggregateException: One or more errors occurred. (Connection refused)\n",
      "00:00:13 #106 [Verbose] testPortOpen / ex: System.AggregateException: One or more errors occurred. (Connection refused)\n",
      "00:00:13 #108 [Debug] sendJson / port: 13805 / json: {\"Ping\":true} / result.Length:\n",
      "00:00:13 #109 [Verbose] awaitCompiler / Ping / result: Some(null) / port: 13805 / retry: 0\n",
      "00:00:13 #110 [Verbose] > Server bound to: http://localhost:13805\n",
      "00:00:13 #111 [Debug] buildFile / takeWhileInclusive / fsxContent:  / errors: [] / typeErrorCount: 0\n",
      "00:00:13 #112 [Debug] buildFile / takeWhileInclusive / fsxContent:  / errors: [] / typeErrorCount: 0\n",
      "00:00:13 #113 [Debug] sendJson / port: 13805 / json: {\"FileOpen\":{\"spiText\":\"inl main () =\\n    1i32 / 0i32\\n\",\"uri\":\"file:///tmp/!dotnet-repl/20240215-2305-1085-8505-8d88ab3acef3/main.spi\"}} / result.Length:\n",
      "00:00:13 #114 [Debug] sendJson / port: 13805 / json: {\"BuildFile\":{\"backend\":\"Fsharp\",\"uri\":\"file:///tmp/!dotnet-repl/20240215-2305-1085-8505-8d88ab3acef3/main.spi\"}} / result.Length:\n",
      "00:00:13 #115 [Verbose] > Building /tmp/!dotnet-repl/20240215-2305-1085-8505-8d88ab3acef3/main.spi\n",
      "00:00:14 #117 [Debug] buildFile / takeWhileInclusive / fsxContent:  / errors: [] / typeErrorCount: 0\n",
      "00:00:14 #118 [Debug] buildFile / takeWhileInclusive / fsxContent:  / errors: [(An attempt to divide by zero has been detected at compile time., TracedError\n",
      "  { message = \"An attempt to divide by zero has been detected at compile time.\"\n",
      "    trace =\n",
      "     [\"Error trace on line: 1, column: 10 in module: /tmp/!dotnet-repl/20240215-2305-1085-8505-8d88ab3acef3/main.spi.\n",
      "inl main () =\n",
      "         ^\n",
      "\";\n",
      "      \"Error trace on line: 2, column: 5 in module: /tmp/!dotnet-repl/20240215-2305-1085-8505-8d88ab3acef3/main.spi.\n",
      "    1i32 / 0i32\n",
      "    ^\n",
      "\"] })] / typeErrorCount: 0\n",
      "00:00:14 #119 [Debug] watchWithFilter / Disposing watch stream / filter: FileName, LastWrite\n",
      "FSharpOption<Tuple<FSharpOption<String>,FSharpList<String>>>\n",
      "      Value:       - <null>\n",
      "      - [ An attempt to divide by zero has been detected at compile time. ]\n"
     ]
    }
   ],
   "source": [
    "//// test\n",
    "\n",
    "\"\"\"inl main () =\n",
    "    1i32 / 0i32\n",
    "\"\"\"\n",
    "|> buildCode 10000 None\n",
    "|> Async.runWithTimeout 10000\n",
    "|> Option.map (fun (fsxContent, errors) -> fsxContent, errors |> List.map fst)\n",
    "|> _equal (\n",
    "    Some (\n",
    "        None,\n",
    "        [ \"An attempt to divide by zero has been detected at compile time.\" ]\n",
    "    )\n",
    ")"
   ]
  },
  {
   "cell_type": "code",
   "execution_count": null,
   "metadata": {
    "dotnet_interactive": {
     "language": "fsharp"
    },
    "polyglot_notebook": {
     "kernelName": "fsharp"
    }
   },
   "outputs": [
    {
     "name": "stdout",
     "output_type": "stream",
     "text": [
      "00:00:14 #120 [Verbose] testPortOpen / ex: System.AggregateException: One or more errors occurred. (Connection refused)\n",
      "00:00:14 #121 [Debug] executeAsync / options: { Command =\n",
      "   \"dotnet \"/home/runner/work/polyglot/polyglot/deps/The-Spiral-Language/The Spiral Language 2/artifacts/bin/The Spiral Language 2/release/Spiral.dll\" port=13805\"\n",
      "  WorkingDirectory = None\n",
      "  CancellationToken = Some System.Threading.CancellationToken\n",
      "  OnLine = Some <fun:buildCode@3-983> }\n",
      "00:00:15 #122 [Verbose] > pwd: /home/runner/work/polyglot/polyglot/apps/spiral\n",
      "00:00:15 #123 [Verbose] testPortOpen / ex: System.AggregateException: One or more errors occurred. (Connection refused)\n",
      "00:00:15 #124 [Verbose] waitForPortAccess / port: 13805 / retry: 0\n",
      "00:00:15 #125 [Verbose] > dll_path: /home/runner/work/polyglot/polyglot/deps/The-Spiral-Language/The Spiral Language 2/artifacts/bin/The Spiral Language 2/release\n",
      "00:00:15 #126 [Verbose] testPortOpen / ex: System.AggregateException: One or more errors occurred. (Connection refused)\n",
      "00:00:15 #127 [Verbose] testPortOpen / ex: System.AggregateException: One or more errors occurred. (Connection refused)\n",
      "00:00:15 #128 [Verbose] testPortOpen / ex: System.AggregateException: One or more errors occurred. (Connection refused)\n",
      "00:00:15 #129 [Verbose] testPortOpen / ex: System.AggregateException: One or more errors occurred. (Connection refused)\n",
      "00:00:15 #130 [Verbose] testPortOpen / ex: System.AggregateException: One or more errors occurred. (Connection refused)\n",
      "00:00:15 #131 [Verbose] testPortOpen / ex: System.AggregateException: One or more errors occurred. (Connection refused)\n",
      "00:00:15 #132 [Verbose] testPortOpen / ex: System.AggregateException: One or more errors occurred. (Connection refused)\n",
      "00:00:15 #133 [Verbose] testPortOpen / ex: System.AggregateException: One or more errors occurred. (Connection refused)\n",
      "00:00:15 #134 [Verbose] testPortOpen / ex: System.AggregateException: One or more errors occurred. (Connection refused)\n",
      "00:00:15 #135 [Verbose] testPortOpen / ex: System.AggregateException: One or more errors occurred. (Connection refused)\n",
      "00:00:15 #136 [Debug] sendJson / port: 13805 / json: {\"Ping\":true} / result.Length:\n",
      "00:00:15 #137 [Verbose] awaitCompiler / Ping / result: Some(null) / port: 13805 / retry: 0\n",
      "00:00:15 #138 [Verbose] > Server bound to: http://localhost:13805\n",
      "00:00:15 #139 [Debug] buildFile / takeWhileInclusive / fsxContent:  / errors: [] / typeErrorCount: 0\n",
      "00:00:15 #140 [Debug] buildFile / takeWhileInclusive / fsxContent:  / errors: [] / typeErrorCount: 0\n",
      "00:00:15 #141 [Debug] sendJson / port: 13805 / json: {\"FileOpen\":{\"spiText\":\"inl main () =\\n    1 \\u002B \\u0022\\u0022\\n\",\"uri\":\"file:///tmp/!dotnet-repl/20240215-2305-1254-5484-5845608135d9/main.spi\"}} / result.Length:\n",
      "00:00:15 #142 [Debug] sendJson / port: 13805 / json: {\"BuildFile\":{\"backend\":\"Fsharp\",\"uri\":\"file:///tmp/!dotnet-repl/20240215-2305-1254-5484-5845608135d9/main.spi\"}} / result.Length:\n",
      "00:00:15 #144 [Verbose] > Building /tmp/!dotnet-repl/20240215-2305-1254-5484-5845608135d9/main.spi\n",
      "00:00:16 #145 [Debug] buildFile / takeWhileInclusive / fsxContent:  / errors: [] / typeErrorCount: 0\n",
      "00:00:16 #146 [Debug] buildFile / takeWhileInclusive / fsxContent:  / errors: [] / typeErrorCount: 1\n",
      "00:00:16 #147 [Debug] buildFile / takeWhileInclusive / fsxContent:  / errors: [(main.spi:\n",
      "Constraint satisfaction error.\n",
      "Got: string\n",
      "Fails to satisfy: number, TypeErrors\n",
      "  { errors =\n",
      "     [(({ character = 8\n",
      "          line = 1 }, { character = 10\n",
      "                        line = 1 }),\n",
      "       \"Constraint satisfaction error.\n",
      "Got: string\n",
      "Fails to satisfy: number\")]\n",
      "    uri =\n",
      "     \"file:///tmp/!dotnet-repl/20240215-2305-1254-5484-5845608135d9/main.spi\" })] / typeErrorCount: 1\n",
      "00:00:16 #148 [Debug] watchWithFilter / Disposing watch stream / filter: FileName, LastWrite\n",
      "FSharpOption<Tuple<FSharpOption<String>,FSharpList<String>>>\n",
      "      Value:       - <null>\n",
      "      - [ main.spi:\n",
      "Constraint satisfaction error.\n",
      "Got: string\n",
      "Fails to satisfy: number ]\n"
     ]
    }
   ],
   "source": [
    "//// test\n",
    "\n",
    "\"\"\"inl main () =\n",
    "    1 + \"\"\n",
    "\"\"\"\n",
    "|> buildCode 10000 None\n",
    "|> Async.runWithTimeout 10000\n",
    "|> Option.map (fun (fsxContent, errors) -> fsxContent, errors |> List.map fst)\n",
    "|> _equal (\n",
    "    Some (\n",
    "        None,\n",
    "        [\n",
    "            \"main.spi:\n",
    "Constraint satisfaction error.\n",
    "Got: string\n",
    "Fails to satisfy: number\"\n",
    "        ]\n",
    "    )\n",
    ")"
   ]
  },
  {
   "cell_type": "code",
   "execution_count": null,
   "metadata": {
    "dotnet_interactive": {
     "language": "fsharp"
    },
    "polyglot_notebook": {
     "kernelName": "fsharp"
    }
   },
   "outputs": [
    {
     "name": "stdout",
     "output_type": "stream",
     "text": [
      "00:00:16 #149 [Verbose] testPortOpen / ex: System.AggregateException: One or more errors occurred. (Connection refused)\n",
      "00:00:16 #150 [Debug] executeAsync / options: { Command =\n",
      "   \"dotnet \"/home/runner/work/polyglot/polyglot/deps/The-Spiral-Language/The Spiral Language 2/artifacts/bin/The Spiral Language 2/release/Spiral.dll\" port=13805\"\n",
      "  WorkingDirectory = None\n",
      "  CancellationToken = Some System.Threading.CancellationToken\n",
      "  OnLine = Some <fun:buildCode@3-983> }\n",
      "00:00:16 #152 [Verbose] > pwd: /home/runner/work/polyglot/polyglot/apps/spiral\n",
      "00:00:16 #153 [Verbose] testPortOpen / ex: System.AggregateException: One or more errors occurred. (Connection refused)\n",
      "00:00:16 #154 [Verbose] waitForPortAccess / port: 13805 / retry: 0\n",
      "00:00:16 #155 [Verbose] > dll_path: /home/runner/work/polyglot/polyglot/deps/The-Spiral-Language/The Spiral Language 2/artifacts/bin/The Spiral Language 2/release\n",
      "00:00:16 #156 [Verbose] testPortOpen / ex: System.AggregateException: One or more errors occurred. (Connection refused)\n",
      "00:00:16 #157 [Verbose] testPortOpen / ex: System.AggregateException: One or more errors occurred. (Connection refused)\n",
      "00:00:16 #158 [Verbose] testPortOpen / ex: System.AggregateException: One or more errors occurred. (Connection refused)\n",
      "00:00:16 #159 [Verbose] testPortOpen / ex: System.AggregateException: One or more errors occurred. (Connection refused)\n",
      "00:00:16 #160 [Verbose] testPortOpen / ex: System.AggregateException: One or more errors occurred. (Connection refused)\n",
      "00:00:16 #161 [Verbose] testPortOpen / ex: System.AggregateException: One or more errors occurred. (Connection refused)\n",
      "00:00:16 #162 [Verbose] testPortOpen / ex: System.AggregateException: One or more errors occurred. (Connection refused)\n",
      "00:00:16 #163 [Verbose] testPortOpen / ex: System.AggregateException: One or more errors occurred. (Connection refused)\n",
      "00:00:16 #164 [Verbose] testPortOpen / ex: System.AggregateException: One or more errors occurred. (Connection refused)\n",
      "00:00:16 #165 [Verbose] testPortOpen / ex: System.AggregateException: One or more errors occurred. (Connection refused)\n",
      "00:00:16 #166 [Debug] sendJson / port: 13805 / json: {\"Ping\":true} / result.Length:\n",
      "00:00:16 #167 [Verbose] awaitCompiler / Ping / result: Some(null) / port: 13805 / retry: 0\n",
      "00:00:16 #168 [Verbose] > Server bound to: http://localhost:13805\n",
      "00:00:16 #169 [Debug] buildFile / takeWhileInclusive / fsxContent:  / errors: [] / typeErrorCount: 0\n",
      "00:00:16 #170 [Debug] buildFile / takeWhileInclusive / fsxContent:  / errors: [] / typeErrorCount: 0\n",
      "00:00:16 #171 [Debug] sendJson / port: 13805 / json: {\"FileOpen\":{\"spiText\":\"inl main () =\\n    x \\u002B y\\n\",\"uri\":\"file:///tmp/!dotnet-repl/20240215-2305-1411-1196-1747deb29cd7/main.spi\"}} / result.Length:\n",
      "00:00:16 #172 [Debug] sendJson / port: 13805 / json: {\"BuildFile\":{\"backend\":\"Fsharp\",\"uri\":\"file:///tmp/!dotnet-repl/20240215-2305-1411-1196-1747deb29cd7/main.spi\"}} / result.Length:\n",
      "00:00:17 #173 [Verbose] > Building /tmp/!dotnet-repl/20240215-2305-1411-1196-1747deb29cd7/main.spi\n",
      "00:00:17 #175 [Debug] buildFile / takeWhileInclusive / fsxContent:  / errors: [] / typeErrorCount: 0\n",
      "00:00:17 #176 [Debug] buildFile / takeWhileInclusive / fsxContent:  / errors: [] / typeErrorCount: 1\n",
      "00:00:17 #177 [Debug] buildFile / takeWhileInclusive / fsxContent:  / errors: [(main.spi:\n",
      "Unbound variable: x.\n",
      "Unbound variable: y., TypeErrors\n",
      "  { errors =\n",
      "     [(({ character = 4\n",
      "          line = 1 }, { character = 5\n",
      "                        line = 1 }), \"Unbound variable: x.\");\n",
      "      (({ character = 8\n",
      "          line = 1 }, { character = 9\n",
      "                        line = 1 }), \"Unbound variable: y.\")]\n",
      "    uri =\n",
      "     \"file:///tmp/!dotnet-repl/20240215-2305-1411-1196-1747deb29cd7/main.spi\" })] / typeErrorCount: 1\n",
      "00:00:17 #178 [Debug] watchWithFilter / Disposing watch stream / filter: FileName, LastWrite\n",
      "FSharpOption<Tuple<FSharpOption<String>,FSharpList<String>>>\n",
      "      Value:       - <null>\n",
      "      - [ main.spi:\n",
      "Unbound variable: x.\n",
      "Unbound variable: y. ]\n"
     ]
    }
   ],
   "source": [
    "//// test\n",
    "\n",
    "\"\"\"inl main () =\n",
    "    x + y\n",
    "\"\"\"\n",
    "|> buildCode 10000 None\n",
    "|> Async.runWithTimeout 10000\n",
    "|> Option.map (fun (fsxContent, errors) -> fsxContent, errors |> List.map fst)\n",
    "|> _equal (\n",
    "    Some (\n",
    "        None,\n",
    "        [\n",
    "            \"main.spi:\n",
    "Unbound variable: x.\n",
    "Unbound variable: y.\"\n",
    "        ]\n",
    "    )\n",
    ")"
   ]
  },
  {
   "cell_type": "code",
   "execution_count": null,
   "metadata": {
    "dotnet_interactive": {
     "language": "fsharp"
    },
    "polyglot_notebook": {
     "kernelName": "fsharp"
    }
   },
   "outputs": [
    {
     "name": "stdout",
     "output_type": "stream",
     "text": [
      "00:00:18 #179 [Verbose] testPortOpen / ex: System.AggregateException: One or more errors occurred. (Connection refused)\n",
      "00:00:18 #180 [Debug] executeAsync / options: { Command =\n",
      "   \"dotnet \"/home/runner/work/polyglot/polyglot/deps/The-Spiral-Language/The Spiral Language 2/artifacts/bin/The Spiral Language 2/release/Spiral.dll\" port=13805\"\n",
      "  WorkingDirectory = None\n",
      "  CancellationToken = Some System.Threading.CancellationToken\n",
      "  OnLine = Some <fun:buildCode@3-983> }\n",
      "00:00:18 #181 [Verbose] > pwd: /home/runner/work/polyglot/polyglot/apps/spiral\n",
      "00:00:18 #182 [Verbose] testPortOpen / ex: System.AggregateException: One or more errors occurred. (Connection refused)\n",
      "00:00:18 #183 [Verbose] waitForPortAccess / port: 13805 / retry: 0\n",
      "00:00:18 #184 [Verbose] > dll_path: /home/runner/work/polyglot/polyglot/deps/The-Spiral-Language/The Spiral Language 2/artifacts/bin/The Spiral Language 2/release\n",
      "00:00:18 #185 [Verbose] testPortOpen / ex: System.AggregateException: One or more errors occurred. (Connection refused)\n",
      "00:00:18 #186 [Verbose] testPortOpen / ex: System.AggregateException: One or more errors occurred. (Connection refused)\n",
      "00:00:18 #187 [Verbose] testPortOpen / ex: System.AggregateException: One or more errors occurred. (Connection refused)\n",
      "00:00:18 #188 [Verbose] testPortOpen / ex: System.AggregateException: One or more errors occurred. (Connection refused)\n",
      "00:00:18 #189 [Verbose] testPortOpen / ex: System.AggregateException: One or more errors occurred. (Connection refused)\n",
      "00:00:18 #190 [Verbose] testPortOpen / ex: System.AggregateException: One or more errors occurred. (Connection refused)\n",
      "00:00:18 #191 [Verbose] testPortOpen / ex: System.AggregateException: One or more errors occurred. (Connection refused)\n",
      "00:00:18 #192 [Verbose] testPortOpen / ex: System.AggregateException: One or more errors occurred. (Connection refused)\n",
      "00:00:18 #193 [Verbose] testPortOpen / ex: System.AggregateException: One or more errors occurred. (Connection refused)\n",
      "00:00:18 #194 [Verbose] testPortOpen / ex: System.AggregateException: One or more errors occurred. (Connection refused)\n",
      "00:00:18 #195 [Debug] sendJson / port: 13805 / json: {\"Ping\":true} / result.Length:\n",
      "00:00:18 #196 [Verbose] awaitCompiler / Ping / result: Some(null) / port: 13805 / retry: 0\n",
      "00:00:18 #197 [Verbose] > Server bound to: http://localhost:13805\n",
      "00:00:18 #198 [Debug] buildFile / takeWhileInclusive / fsxContent:  / errors: [] / typeErrorCount: 0\n",
      "00:00:18 #199 [Debug] buildFile / takeWhileInclusive / fsxContent:  / errors: [] / typeErrorCount: 0\n",
      "00:00:18 #200 [Debug] sendJson / port: 13805 / json: {\"FileOpen\":{\"spiText\":\"union a =\\n    | B\\n    | c\\n\\ninl main () =\\n    ()\\n\",\"uri\":\"file:///tmp/!dotnet-repl/20240215-2305-1565-6522-661c6a38ade8/main.spi\"}} / result.Length:\n",
      "00:00:18 #201 [Debug] sendJson / port: 13805 / json: {\"BuildFile\":{\"backend\":\"Fsharp\",\"uri\":\"file:///tmp/!dotnet-repl/20240215-2305-1565-6522-661c6a38ade8/main.spi\"}} / result.Length:\n",
      "00:00:18 #203 [Verbose] > Building /tmp/!dotnet-repl/20240215-2305-1565-6522-661c6a38ade8/main.spi\n",
      "00:00:18 #204 [Debug] buildFile / takeWhileInclusive / fsxContent:  / errors: [(main.spi:\n",
      "Expected: uppercase variable, ParserErrors\n",
      "  { errors = [(({ character = 6\n",
      "                  line = 2 }, { character = 7\n",
      "                                line = 2 }), \"Expected: uppercase variable\")]\n",
      "    uri =\n",
      "     \"file:///tmp/!dotnet-repl/20240215-2305-1565-6522-661c6a38ade8/main.spi\" })] / typeErrorCount: 0\n",
      "00:00:18 #205 [Debug] watchWithFilter / Disposing watch stream / filter: FileName, LastWrite\n",
      "FSharpOption<Tuple<FSharpOption<String>,FSharpList<String>>>\n",
      "      Value:       - <null>\n",
      "      - [ main.spi:\n",
      "Expected: uppercase variable ]\n"
     ]
    }
   ],
   "source": [
    "//// test\n",
    "\n",
    "\"\"\"union a =\n",
    "    | B\n",
    "    | c\n",
    "\n",
    "inl main () =\n",
    "    ()\n",
    "\"\"\"\n",
    "|> buildCode 10000 None\n",
    "|> Async.runWithTimeout 10000\n",
    "|> Option.map (fun (fsxContent, errors) -> fsxContent, errors |> List.map fst)\n",
    "|> _equal (\n",
    "    Some (\n",
    "        None,\n",
    "        [ \"main.spi:\n",
    "Expected: uppercase variable\" ]\n",
    "    )\n",
    ")"
   ]
  },
  {
   "cell_type": "code",
   "execution_count": null,
   "metadata": {
    "dotnet_interactive": {
     "language": "fsharp"
    },
    "polyglot_notebook": {
     "kernelName": "fsharp"
    }
   },
   "outputs": [
    {
     "name": "stdout",
     "output_type": "stream",
     "text": [
      "00:00:18 #206 [Verbose] testPortOpen / ex: System.AggregateException: One or more errors occurred. (Connection refused)\n",
      "00:00:18 #207 [Debug] executeAsync / options: { Command =\n",
      "   \"dotnet \"/home/runner/work/polyglot/polyglot/deps/The-Spiral-Language/The Spiral Language 2/artifacts/bin/The Spiral Language 2/release/Spiral.dll\" port=13805\"\n",
      "  WorkingDirectory = None\n",
      "  CancellationToken = Some System.Threading.CancellationToken\n",
      "  OnLine = Some <fun:buildCode@3-983> }\n",
      "00:00:19 #208 [Verbose] > pwd: /home/runner/work/polyglot/polyglot/apps/spiral\n",
      "00:00:19 #209 [Verbose] testPortOpen / ex: System.AggregateException: One or more errors occurred. (Connection refused)\n",
      "00:00:19 #210 [Verbose] waitForPortAccess / port: 13805 / retry: 0\n",
      "00:00:19 #211 [Verbose] > dll_path: /home/runner/work/polyglot/polyglot/deps/The-Spiral-Language/The Spiral Language 2/artifacts/bin/The Spiral Language 2/release\n",
      "00:00:19 #212 [Verbose] testPortOpen / ex: System.AggregateException: One or more errors occurred. (Connection refused)\n",
      "00:00:19 #213 [Verbose] testPortOpen / ex: System.AggregateException: One or more errors occurred. (Connection refused)\n",
      "00:00:19 #214 [Verbose] testPortOpen / ex: System.AggregateException: One or more errors occurred. (Connection refused)\n",
      "00:00:19 #215 [Verbose] testPortOpen / ex: System.AggregateException: One or more errors occurred. (Connection refused)\n",
      "00:00:19 #216 [Verbose] testPortOpen / ex: System.AggregateException: One or more errors occurred. (Connection refused)\n",
      "00:00:19 #217 [Verbose] testPortOpen / ex: System.AggregateException: One or more errors occurred. (Connection refused)\n",
      "00:00:19 #218 [Verbose] testPortOpen / ex: System.AggregateException: One or more errors occurred. (Connection refused)\n",
      "00:00:19 #219 [Verbose] testPortOpen / ex: System.AggregateException: One or more errors occurred. (Connection refused)\n",
      "00:00:19 #220 [Verbose] testPortOpen / ex: System.AggregateException: One or more errors occurred. (Connection refused)\n",
      "00:00:19 #221 [Debug] sendJson / port: 13805 / json: {\"Ping\":true} / result.Length:\n",
      "00:00:19 #222 [Verbose] awaitCompiler / Ping / result: Some(null) / port: 13805 / retry: 0\n",
      "00:00:19 #223 [Verbose] > Server bound to: http://localhost:13805\n",
      "00:00:19 #224 [Debug] buildFile / takeWhileInclusive / fsxContent:  / errors: [] / typeErrorCount: 0\n",
      "00:00:19 #225 [Debug] buildFile / takeWhileInclusive / fsxContent:  / errors: [] / typeErrorCount: 0\n",
      "00:00:19 #226 [Debug] sendJson / port: 13805 / json: {\"FileOpen\":{\"spiText\":\"\\n/// abc\\ninl main () =\\n    ()\\n\",\"uri\":\"file:///tmp/!dotnet-repl/20240215-2305-1657-5720-51257e21a9c3/main.spi\"}} / result.Length:\n",
      "00:00:19 #227 [Debug] sendJson / port: 13805 / json: {\"BuildFile\":{\"backend\":\"Fsharp\",\"uri\":\"file:///tmp/!dotnet-repl/20240215-2305-1657-5720-51257e21a9c3/main.spi\"}} / result.Length:\n",
      "00:00:19 #229 [Debug] buildFile / takeWhileInclusive / fsxContent:  / errors: [(main.spi:\n",
      "Expected: whitespace, TokenizerErrors\n",
      "  { errors = [(({ character = 2\n",
      "                  line = 1 }, { character = 3\n",
      "                                line = 1 }), \"Expected: whitespace\")]\n",
      "    uri =\n",
      "     \"file:///tmp/!dotnet-repl/20240215-2305-1657-5720-51257e21a9c3/main.spi\" })] / typeErrorCount: 0\n",
      "00:00:19 #230 [Debug] watchWithFilter / Disposing watch stream / filter: FileName, LastWrite\n",
      "FSharpOption<Tuple<FSharpOption<String>,FSharpList<String>>>\n",
      "      Value:       - <null>\n",
      "      - [ main.spi:\n",
      "Expected: whitespace ]\n"
     ]
    }
   ],
   "source": [
    "//// test\n",
    "\n",
    "\"\"\"\n",
    "/// abc\n",
    "inl main () =\n",
    "    ()\n",
    "\"\"\"\n",
    "|> buildCode 10000 None\n",
    "|> Async.runWithTimeout 10000\n",
    "|> Option.map (fun (fsxContent, errors) -> fsxContent, errors |> List.map fst)\n",
    "|> _equal (\n",
    "    Some (\n",
    "        None,\n",
    "        [ \"main.spi:\n",
    "Expected: whitespace\" ]\n",
    "    )\n",
    ")"
   ]
  },
  {
   "cell_type": "code",
   "execution_count": null,
   "metadata": {
    "dotnet_interactive": {
     "language": "fsharp"
    },
    "polyglot_notebook": {
     "kernelName": "fsharp"
    }
   },
   "outputs": [
    {
     "name": "stdout",
     "output_type": "stream",
     "text": [
      "00:00:19 #231 [Verbose] testPortOpen / ex: System.AggregateException: One or more errors occurred. (Connection refused)\n",
      "00:00:19 #232 [Debug] executeAsync / options: { Command =\n",
      "   \"dotnet \"/home/runner/work/polyglot/polyglot/deps/The-Spiral-Language/The Spiral Language 2/artifacts/bin/The Spiral Language 2/release/Spiral.dll\" port=13805\"\n",
      "  WorkingDirectory = None\n",
      "  CancellationToken = Some System.Threading.CancellationToken\n",
      "  OnLine = Some <fun:buildCode@3-983> }\n",
      "00:00:19 #233 [Verbose] > pwd: /home/runner/work/polyglot/polyglot/apps/spiral\n",
      "00:00:19 #234 [Verbose] testPortOpen / ex: System.AggregateException: One or more errors occurred. (Connection refused)\n",
      "00:00:19 #235 [Verbose] waitForPortAccess / port: 13805 / retry: 0\n",
      "00:00:19 #236 [Verbose] > dll_path: /home/runner/work/polyglot/polyglot/deps/The-Spiral-Language/The Spiral Language 2/artifacts/bin/The Spiral Language 2/release\n",
      "00:00:19 #237 [Verbose] testPortOpen / ex: System.AggregateException: One or more errors occurred. (Connection refused)\n",
      "00:00:19 #238 [Verbose] testPortOpen / ex: System.AggregateException: One or more errors occurred. (Connection refused)\n",
      "00:00:19 #239 [Verbose] testPortOpen / ex: System.AggregateException: One or more errors occurred. (Connection refused)\n",
      "00:00:19 #240 [Verbose] testPortOpen / ex: System.AggregateException: One or more errors occurred. (Connection refused)\n",
      "00:00:19 #241 [Verbose] testPortOpen / ex: System.AggregateException: One or more errors occurred. (Connection refused)\n",
      "00:00:19 #242 [Verbose] testPortOpen / ex: System.AggregateException: One or more errors occurred. (Connection refused)\n",
      "00:00:19 #243 [Verbose] testPortOpen / ex: System.AggregateException: One or more errors occurred. (Connection refused)\n",
      "00:00:19 #244 [Verbose] testPortOpen / ex: System.AggregateException: One or more errors occurred. (Connection refused)\n",
      "00:00:19 #245 [Verbose] testPortOpen / ex: System.AggregateException: One or more errors occurred. (Connection refused)\n",
      "00:00:19 #246 [Verbose] testPortOpen / ex: System.AggregateException: One or more errors occurred. (Connection refused)\n",
      "00:00:20 #247 [Debug] sendJson / port: 13805 / json: {\"Ping\":true} / result.Length:\n",
      "00:00:20 #248 [Verbose] awaitCompiler / Ping / result: Some(null) / port: 13805 / retry: 0\n",
      "00:00:20 #249 [Verbose] > Server bound to: http://localhost:13805\n",
      "00:00:20 #250 [Debug] buildFile / takeWhileInclusive / fsxContent:  / errors: [] / typeErrorCount: 0\n",
      "00:00:20 #251 [Debug] buildFile / takeWhileInclusive / fsxContent:  / errors: [] / typeErrorCount: 0\n",
      "00:00:20 #252 [Debug] sendJson / port: 13805 / json: {\"FileOpen\":{\"spiText\":\"\\ninl main () =\\n    real\\n        inl real_unbox forall a. (obj : a) : a =\\n            typecase obj with\\n            | _ =\\u003E obj\\n        real_unbox ()\\n    ()\\n\",\"uri\":\"file:///tmp/!dotnet-repl/20240215-2305-1736-3665-392a65afb817/main.spi\"}} / result.Length:\n",
      "00:00:20 #253 [Debug] sendJson / port: 13805 / json: {\"BuildFile\":{\"backend\":\"Fsharp\",\"uri\":\"file:///tmp/!dotnet-repl/20240215-2305-1736-3665-392a65afb817/main.spi\"}} / result.Length:\n",
      "00:00:20 #254 [Verbose] > Building /tmp/!dotnet-repl/20240215-2305-1736-3665-392a65afb817/main.spi\n",
      "00:00:21 #256 [Debug] buildFile / takeWhileInclusive / fsxContent:  / errors: [] / typeErrorCount: 0\n",
      "00:00:21 #257 [Debug] buildFile / takeWhileInclusive / fsxContent:  / errors: [(Cannot apply a forall with a term., TracedError\n",
      "  { message = \"Cannot apply a forall with a term.\"\n",
      "    trace =\n",
      "     [\"Error trace on line: 2, column: 10 in module: /tmp/!dotnet-repl/20240215-2305-1736-3665-392a65afb817/main.spi.\n",
      "inl main () =\n",
      "         ^\n",
      "\";\n",
      "      \"Error trace on line: 4, column: 9 in module: /tmp/!dotnet-repl/20240215-2305-1736-3665-392a65afb817/main.spi.\n",
      "        inl real_unbox forall a. (obj : a) : a =\n",
      "        ^\n",
      "\";\n",
      "      \"Error trace on line: 7, column: 9 in module: /tmp/!dotnet-repl/20240215-2305-1736-3665-392a65afb817/main.spi.\n",
      "        real_unbox ()\n",
      "        ^\n",
      "\"] })] / typeErrorCount: 0\n",
      "00:00:21 #258 [Debug] watchWithFilter / Disposing watch stream / filter: FileName, LastWrite\n",
      "FSharpOption<Tuple<FSharpOption<String>,FSharpList<String>>>\n",
      "      Value:       - <null>\n",
      "      - [ Cannot apply a forall with a term. ]\n"
     ]
    }
   ],
   "source": [
    "//// test\n",
    "\n",
    "\"\"\"\n",
    "inl main () =\n",
    "    real\n",
    "        inl real_unbox forall a. (obj : a) : a =\n",
    "            typecase obj with\n",
    "            | _ => obj\n",
    "        real_unbox ()\n",
    "    ()\n",
    "\"\"\"\n",
    "|> buildCode 10000 None\n",
    "|> Async.runWithTimeout 10000\n",
    "|> Option.map (fun (fsxContent, errors) -> fsxContent, errors |> List.map fst)\n",
    "|> _equal (\n",
    "    Some (\n",
    "        None,\n",
    "        [ \"Cannot apply a forall with a term.\" ]\n",
    "    )\n",
    ")"
   ]
  },
  {
   "cell_type": "code",
   "execution_count": null,
   "metadata": {
    "dotnet_interactive": {
     "language": "fsharp"
    },
    "polyglot_notebook": {
     "kernelName": "fsharp"
    }
   },
   "outputs": [
    {
     "name": "stdout",
     "output_type": "stream",
     "text": [
      "00:00:21 #260 [Verbose] testPortOpen / ex: System.AggregateException: One or more errors occurred. (Connection refused)\n",
      "00:00:21 #261 [Debug] executeAsync / options: { Command =\n",
      "   \"dotnet \"/home/runner/work/polyglot/polyglot/deps/The-Spiral-Language/The Spiral Language 2/artifacts/bin/The Spiral Language 2/release/Spiral.dll\" port=13805\"\n",
      "  WorkingDirectory = None\n",
      "  CancellationToken = Some System.Threading.CancellationToken\n",
      "  OnLine = Some <fun:buildCode@3-983> }\n",
      "00:00:21 #262 [Verbose] > pwd: /home/runner/work/polyglot/polyglot/apps/spiral\n",
      "00:00:21 #263 [Verbose] testPortOpen / ex: System.AggregateException: One or more errors occurred. (Connection refused)\n",
      "00:00:21 #264 [Verbose] waitForPortAccess / port: 13805 / retry: 0\n",
      "00:00:21 #265 [Verbose] > dll_path: /home/runner/work/polyglot/polyglot/deps/The-Spiral-Language/The Spiral Language 2/artifacts/bin/The Spiral Language 2/release\n",
      "00:00:21 #266 [Verbose] testPortOpen / ex: System.AggregateException: One or more errors occurred. (Connection refused)\n",
      "00:00:21 #267 [Verbose] testPortOpen / ex: System.AggregateException: One or more errors occurred. (Connection refused)\n",
      "00:00:21 #268 [Verbose] testPortOpen / ex: System.AggregateException: One or more errors occurred. (Connection refused)\n",
      "00:00:21 #269 [Verbose] testPortOpen / ex: System.AggregateException: One or more errors occurred. (Connection refused)\n",
      "00:00:21 #270 [Verbose] testPortOpen / ex: System.AggregateException: One or more errors occurred. (Connection refused)\n",
      "00:00:21 #271 [Verbose] testPortOpen / ex: System.AggregateException: One or more errors occurred. (Connection refused)\n",
      "00:00:21 #272 [Verbose] testPortOpen / ex: System.AggregateException: One or more errors occurred. (Connection refused)\n",
      "00:00:21 #273 [Verbose] testPortOpen / ex: System.AggregateException: One or more errors occurred. (Connection refused)\n",
      "00:00:21 #274 [Verbose] testPortOpen / ex: System.AggregateException: One or more errors occurred. (Connection refused)\n",
      "00:00:21 #275 [Debug] sendJson / port: 13805 / json: {\"Ping\":true} / result.Length:\n",
      "00:00:21 #276 [Verbose] awaitCompiler / Ping / result: Some(null) / port: 13805 / retry: 0\n",
      "00:00:21 #277 [Verbose] > Server bound to: http://localhost:13805\n",
      "00:00:21 #278 [Debug] buildFile / takeWhileInclusive / fsxContent:  / errors: [] / typeErrorCount: 0\n",
      "00:00:21 #279 [Debug] buildFile / takeWhileInclusive / fsxContent:  / errors: [] / typeErrorCount: 0\n",
      "00:00:21 #280 [Debug] sendJson / port: 13805 / json: {\"FileOpen\":{\"spiText\":\"\\ninl main () =\\n    real\\n        inl real_unbox forall a. (obj : a) : a =\\n            typecase obj with\\n            | _ =\\u003E obj\\n        real_unbox \\u0060i32 1\\n\",\"uri\":\"file:///tmp/!dotnet-repl/20240215-2305-1918-1858-186fc62caf12/main.spi\"}} / result.Length:\n",
      "00:00:22 #281 [Debug] sendJson / port: 13805 / json: {\"BuildFile\":{\"backend\":\"Fsharp\",\"uri\":\"file:///tmp/!dotnet-repl/20240215-2305-1918-1858-186fc62caf12/main.spi\"}} / result.Length:\n",
      "00:00:22 #282 [Verbose] > Building /tmp/!dotnet-repl/20240215-2305-1918-1858-186fc62caf12/main.spi\n",
      "00:00:22 #284 [Debug] buildFile / takeWhileInclusive / fsxContent:  / errors: [] / typeErrorCount: 0\n",
      "00:00:23 #285 [Debug] buildFile / takeWhileInclusive / fsxContent:  / errors: [(The main function should not have a forall., TracedError { message = \"The main function should not have a forall.\"\n",
      "              trace = [] })] / typeErrorCount: 0\n",
      "00:00:23 #286 [Debug] watchWithFilter / Disposing watch stream / filter: FileName, LastWrite\n",
      "FSharpOption<Tuple<FSharpOption<String>,FSharpList<String>>>\n",
      "      Value:       - <null>\n",
      "      - [ The main function should not have a forall. ]\n"
     ]
    }
   ],
   "source": [
    "//// test\n",
    "\n",
    "\"\"\"\n",
    "inl main () =\n",
    "    real\n",
    "        inl real_unbox forall a. (obj : a) : a =\n",
    "            typecase obj with\n",
    "            | _ => obj\n",
    "        real_unbox `i32 1\n",
    "\"\"\"\n",
    "|> buildCode 10000 None\n",
    "|> Async.runWithTimeout 10000\n",
    "|> Option.map (fun (fsxContent, errors) -> fsxContent, errors |> List.map fst)\n",
    "|> _equal (\n",
    "    Some (\n",
    "        None,\n",
    "        [ \"The main function should not have a forall.\" ]\n",
    "    )\n",
    ")"
   ]
  },
  {
   "cell_type": "code",
   "execution_count": null,
   "metadata": {
    "dotnet_interactive": {
     "language": "fsharp"
    },
    "polyglot_notebook": {
     "kernelName": "fsharp"
    }
   },
   "outputs": [
    {
     "name": "stdout",
     "output_type": "stream",
     "text": [
      "00:00:23 #287 [Verbose] testPortOpen / ex: System.AggregateException: One or more errors occurred. (Connection refused)\n",
      "00:00:23 #288 [Debug] executeAsync / options: { Command =\n",
      "   \"dotnet \"/home/runner/work/polyglot/polyglot/deps/The-Spiral-Language/The Spiral Language 2/artifacts/bin/The Spiral Language 2/release/Spiral.dll\" port=13805\"\n",
      "  WorkingDirectory = None\n",
      "  CancellationToken = Some System.Threading.CancellationToken\n",
      "  OnLine = Some <fun:buildCode@3-983> }\n",
      "00:00:23 #289 [Verbose] > pwd: /home/runner/work/polyglot/polyglot/apps/spiral\n",
      "00:00:23 #290 [Verbose] testPortOpen / ex: System.AggregateException: One or more errors occurred. (Connection refused)\n",
      "00:00:23 #291 [Verbose] waitForPortAccess / port: 13805 / retry: 0\n",
      "00:00:23 #292 [Verbose] > dll_path: /home/runner/work/polyglot/polyglot/deps/The-Spiral-Language/The Spiral Language 2/artifacts/bin/The Spiral Language 2/release\n",
      "00:00:23 #293 [Verbose] testPortOpen / ex: System.AggregateException: One or more errors occurred. (Connection refused)\n",
      "00:00:23 #294 [Verbose] testPortOpen / ex: System.AggregateException: One or more errors occurred. (Connection refused)\n",
      "00:00:23 #295 [Verbose] testPortOpen / ex: System.AggregateException: One or more errors occurred. (Connection refused)\n",
      "00:00:23 #296 [Verbose] testPortOpen / ex: System.AggregateException: One or more errors occurred. (Connection refused)\n",
      "00:00:23 #297 [Verbose] testPortOpen / ex: System.AggregateException: One or more errors occurred. (Connection refused)\n",
      "00:00:23 #298 [Verbose] testPortOpen / ex: System.AggregateException: One or more errors occurred. (Connection refused)\n",
      "00:00:23 #299 [Verbose] testPortOpen / ex: System.AggregateException: One or more errors occurred. (Connection refused)\n",
      "00:00:23 #300 [Verbose] testPortOpen / ex: System.AggregateException: One or more errors occurred. (Connection refused)\n",
      "00:00:23 #301 [Verbose] testPortOpen / ex: System.AggregateException: One or more errors occurred. (Connection refused)\n",
      "00:00:23 #302 [Verbose] testPortOpen / ex: System.AggregateException: One or more errors occurred. (Connection refused)\n",
      "00:00:23 #303 [Verbose] testPortOpen / ex: System.AggregateException: One or more errors occurred. (Connection refused)\n",
      "00:00:23 #305 [Debug] sendJson / port: 13805 / json: {\"Ping\":true} / result.Length:\n",
      "00:00:23 #306 [Verbose] awaitCompiler / Ping / result: Some(null) / port: 13805 / retry: 0\n",
      "00:00:23 #307 [Verbose] > Server bound to: http://localhost:13805\n",
      "00:00:23 #308 [Debug] buildFile / takeWhileInclusive / fsxContent:  / errors: [] / typeErrorCount: 0\n",
      "00:00:23 #309 [Debug] buildFile / takeWhileInclusive / fsxContent:  / errors: [] / typeErrorCount: 0\n",
      "00:00:23 #310 [Debug] sendJson / port: 13805 / json: {\"FileOpen\":{\"spiText\":\"\\ninl init_series start end inc =\\n    inl total : f64 = conv ((end - start) / inc) \\u002B 1\\n    listm.init total (conv \\u003E\\u003E (*) inc \\u003E\\u003E (\\u002B) start) : list f64\\n\\ntype integration = (f64 -\\u003E f64) -\\u003E f64 -\\u003E f64 -\\u003E f64\\n\\ninl integral dt : integration =\\n    fun f a b =\\u003E\\n        init_series (a \\u002B dt / 2) (b - dt / 2) dt\\n        |\\u003E listm.map (f \\u003E\\u003E (*) dt)\\n        |\\u003E listm.fold (\\u002B) 0\\n\\ninl main () =\\n    integral 0.1 (fun x =\\u003E x ** 2) 0 1\\n\",\"uri\":\"file:///tmp/!dotnet-repl/20240215-2305-2084-8473-81f231cc73b4/main.spi\"}} / result.Length:\n",
      "00:00:23 #311 [Debug] sendJson / port: 13805 / json: {\"BuildFile\":{\"backend\":\"Fsharp\",\"uri\":\"file:///tmp/!dotnet-repl/20240215-2305-2084-8473-81f231cc73b4/main.spi\"}} / result.Length:\n",
      "00:00:23 #312 [Verbose] > Building /tmp/!dotnet-repl/20240215-2305-2084-8473-81f231cc73b4/main.spi\n",
      "00:00:24 #314 [Debug] buildFile / takeWhileInclusive / fsxContent:  / errors: [] / typeErrorCount: 0\n",
      "00:00:24 #315 [Debug] buildFile / takeWhileInclusive / fsxContent: 0.3325000000000001\n",
      " / errors: [] / typeErrorCount: 0\n",
      "00:00:24 #316 [Debug] watchWithFilter / Disposing watch stream / filter: FileName, LastWrite\n",
      "FSharpOption<Tuple<FSharpOption<String>,FSharpList<String>>>\n",
      "      Value:       - FSharpOption<String>\n",
      "          Value: 0.3325000000000001\n",
      "\n",
      "      - [  ]\n"
     ]
    }
   ],
   "source": [
    "//// test\n",
    "\n",
    "\"\"\"\n",
    "inl init_series start end inc =\n",
    "    inl total : f64 = conv ((end - start) / inc) + 1\n",
    "    listm.init total (conv >> (*) inc >> (+) start) : list f64\n",
    "\n",
    "type integration = (f64 -> f64) -> f64 -> f64 -> f64\n",
    "\n",
    "inl integral dt : integration =\n",
    "    fun f a b =>\n",
    "        init_series (a + dt / 2) (b - dt / 2) dt\n",
    "        |> listm.map (f >> (*) dt)\n",
    "        |> listm.fold (+) 0\n",
    "\n",
    "inl main () =\n",
    "    integral 0.1 (fun x => x ** 2) 0 1\n",
    "\"\"\"\n",
    "|> buildCode 10000 None\n",
    "|> Async.runWithTimeout 10000\n",
    "|> Option.map (fun (fsxContent, errors) -> fsxContent, errors |> List.map fst)\n",
    "|> _equal (\n",
    "    Some (\n",
    "        Some \"0.3325000000000001\\n\",\n",
    "        []\n",
    "    )\n",
    ")"
   ]
  },
  {
   "cell_type": "code",
   "execution_count": null,
   "metadata": {
    "dotnet_interactive": {
     "language": "fsharp"
    },
    "polyglot_notebook": {
     "kernelName": "fsharp"
    }
   },
   "outputs": [
    {
     "data": {
      "text/html": [
       "<details open=\"open\" class=\"dni-treeview\"><summary><span class=\"dni-code-hint\"><code>Some((Some(0.33332500000000004\\n), []))</code></span></summary><div><table><thead><tr></tr></thead><tbody><tr><td>Value</td><td><details class=\"dni-treeview\"><summary><span class=\"dni-code-hint\"><code>(Some(0.33332500000000004\\n), [])</code></span></summary><div><table><thead><tr></tr></thead><tbody><tr><td>Item1</td><td><details class=\"dni-treeview\"><summary><span class=\"dni-code-hint\"><code>Some(0.33332500000000004\\n)</code></span></summary><div><table><thead><tr></tr></thead><tbody><tr><td>Value</td><td><div class=\"dni-plaintext\"><pre>0.33332500000000004\n",
       "</pre></div></td></tr></tbody></table></div></details></td></tr><tr><td>Item2</td><td><div class=\"dni-plaintext\"><pre>[  ]</pre></div></td></tr></tbody></table></div></details></td></tr></tbody></table></div></details><style>\n",
       ".dni-code-hint {\n",
       "    font-style: italic;\n",
       "    overflow: hidden;\n",
       "    white-space: nowrap;\n",
       "}\n",
       ".dni-treeview {\n",
       "    white-space: nowrap;\n",
       "}\n",
       ".dni-treeview td {\n",
       "    vertical-align: top;\n",
       "    text-align: start;\n",
       "}\n",
       "details.dni-treeview {\n",
       "    padding-left: 1em;\n",
       "}\n",
       "table td {\n",
       "    text-align: start;\n",
       "}\n",
       "table tr { \n",
       "    vertical-align: top; \n",
       "    margin: 0em 0px;\n",
       "}\n",
       "table tr td pre \n",
       "{ \n",
       "    vertical-align: top !important; \n",
       "    margin: 0em 0px !important;\n",
       "} \n",
       "table th {\n",
       "    text-align: start;\n",
       "}\n",
       "</style>"
      ]
     },
     "metadata": {},
     "output_type": "display_data"
    },
    {
     "name": "stdout",
     "output_type": "stream",
     "text": [
      "00:00:25 #317 [Verbose] testPortOpen / ex: System.AggregateException: One or more errors occurred. (Connection refused)\n",
      "00:00:25 #318 [Debug] executeAsync / options: { Command =\n",
      "   \"dotnet \"/home/runner/work/polyglot/polyglot/deps/The-Spiral-Language/The Spiral Language 2/artifacts/bin/The Spiral Language 2/release/Spiral.dll\" port=13805\"\n",
      "  WorkingDirectory = None\n",
      "  CancellationToken = Some System.Threading.CancellationToken\n",
      "  OnLine = Some <fun:buildCode@3-983> }\n",
      "00:00:25 #319 [Verbose] > pwd: /home/runner/work/polyglot/polyglot/apps/spiral\n",
      "00:00:25 #320 [Verbose] testPortOpen / ex: System.AggregateException: One or more errors occurred. (Connection refused)\n",
      "00:00:25 #321 [Verbose] waitForPortAccess / port: 13805 / retry: 0\n",
      "00:00:25 #322 [Verbose] > dll_path: /home/runner/work/polyglot/polyglot/deps/The-Spiral-Language/The Spiral Language 2/artifacts/bin/The Spiral Language 2/release\n",
      "00:00:25 #323 [Verbose] testPortOpen / ex: System.AggregateException: One or more errors occurred. (Connection refused)\n",
      "00:00:25 #324 [Verbose] testPortOpen / ex: System.AggregateException: One or more errors occurred. (Connection refused)\n",
      "00:00:25 #325 [Verbose] testPortOpen / ex: System.AggregateException: One or more errors occurred. (Connection refused)\n",
      "00:00:25 #326 [Verbose] testPortOpen / ex: System.AggregateException: One or more errors occurred. (Connection refused)\n",
      "00:00:25 #327 [Verbose] testPortOpen / ex: System.AggregateException: One or more errors occurred. (Connection refused)\n",
      "00:00:25 #328 [Verbose] testPortOpen / ex: System.AggregateException: One or more errors occurred. (Connection refused)\n",
      "00:00:25 #329 [Verbose] testPortOpen / ex: System.AggregateException: One or more errors occurred. (Connection refused)\n",
      "00:00:25 #330 [Verbose] testPortOpen / ex: System.AggregateException: One or more errors occurred. (Connection refused)\n",
      "00:00:25 #331 [Verbose] testPortOpen / ex: System.AggregateException: One or more errors occurred. (Connection refused)\n",
      "00:00:25 #332 [Verbose] testPortOpen / ex: System.AggregateException: One or more errors occurred. (Connection refused)\n",
      "00:00:25 #333 [Debug] sendJson / port: 13805 / json: {\"Ping\":true} / result.Length:\n",
      "00:00:25 #334 [Verbose] awaitCompiler / Ping / result: Some(null) / port: 13805 / retry: 0\n",
      "00:00:25 #335 [Verbose] > Server bound to: http://localhost:13805\n",
      "00:00:25 #336 [Debug] buildFile / takeWhileInclusive / fsxContent:  / errors: [] / typeErrorCount: 0\n",
      "00:00:25 #337 [Debug] buildFile / takeWhileInclusive / fsxContent:  / errors: [] / typeErrorCount: 0\n",
      "00:00:25 #338 [Debug] sendJson / port: 13805 / json: {\"FileOpen\":{\"spiText\":\"\\ninl init_series start end inc =\\n    inl total : f64 = conv ((end - start) / inc) \\u002B 1\\n    listm.init total (conv \\u003E\\u003E (*) inc \\u003E\\u003E (\\u002B) start) : list f64\\n\\ntype integration = (f64 -\\u003E f64) -\\u003E f64 -\\u003E f64 -\\u003E f64\\n\\ninl integral dt : integration =\\n    fun f a b =\\u003E\\n        init_series (a \\u002B dt / 2) (b - dt / 2) dt\\n        |\\u003E listm.map (f \\u003E\\u003E (*) dt)\\n        |\\u003E listm.fold (\\u002B) 0\\n\\ninl main () =\\n    integral 0.01 (fun x =\\u003E x ** 2) 0 1\\n\",\"uri\":\"file:///tmp/!dotnet-repl/20240215-2305-2264-6446-6a397447ad0f/main.spi\"}} / result.Length:\n",
      "00:00:25 #339 [Debug] sendJson / port: 13805 / json: {\"BuildFile\":{\"backend\":\"Fsharp\",\"uri\":\"file:///tmp/!dotnet-repl/20240215-2305-2264-6446-6a397447ad0f/main.spi\"}} / result.Length:\n",
      "00:00:25 #341 [Verbose] > Building /tmp/!dotnet-repl/20240215-2305-2264-6446-6a397447ad0f/main.spi\n",
      "00:00:26 #342 [Debug] buildFile / takeWhileInclusive / fsxContent:  / errors: [] / typeErrorCount: 0\n",
      "00:00:26 #344 [Debug] buildFile / takeWhileInclusive / fsxContent: 0.33332500000000004\n",
      " / errors: [] / typeErrorCount: 0\n",
      "00:00:26 #345 [Debug] watchWithFilter / Disposing watch stream / filter: FileName, LastWrite\n"
     ]
    }
   ],
   "source": [
    "//// test\n",
    "\n",
    "\"\"\"\n",
    "inl init_series start end inc =\n",
    "    inl total : f64 = conv ((end - start) / inc) + 1\n",
    "    listm.init total (conv >> (*) inc >> (+) start) : list f64\n",
    "\n",
    "type integration = (f64 -> f64) -> f64 -> f64 -> f64\n",
    "\n",
    "inl integral dt : integration =\n",
    "    fun f a b =>\n",
    "        init_series (a + dt / 2) (b - dt / 2) dt\n",
    "        |> listm.map (f >> (*) dt)\n",
    "        |> listm.fold (+) 0\n",
    "\n",
    "inl main () =\n",
    "    integral 0.01 (fun x => x ** 2) 0 1\n",
    "\"\"\"\n",
    "|> buildCode 10000 None\n",
    "|> Async.runWithTimeout 10000\n",
    "|> Option.map (fun (fsxContent, errors) -> fsxContent, errors |> List.map fst)\n",
    "// |> _equal None\n",
    "// |> fun x -> printfn $\"{x.ToDisplayString ()}\""
   ]
  },
  {
   "cell_type": "markdown",
   "metadata": {},
   "source": [
    "## getFileTokenRange"
   ]
  },
  {
   "cell_type": "code",
   "execution_count": null,
   "metadata": {
    "dotnet_interactive": {
     "language": "fsharp"
    },
    "polyglot_notebook": {
     "kernelName": "fsharp"
    }
   },
   "outputs": [],
   "source": [
    "let inline getFileTokenRange port cancellationToken path = async {\n",
    "    let fullPath = path |> System.IO.Path.GetFullPath\n",
    "    let! code = fullPath |> FileSystem.readAllTextAsync\n",
    "    let lines = code |> String.split [| '\\n' |]\n",
    "\n",
    "    let token, disposable = Threading.newDisposableToken cancellationToken\n",
    "    use _ = disposable\n",
    "\n",
    "    let! serverPort, _errors, ct, disposable = awaitCompiler port (Some token)\n",
    "    use _ = disposable\n",
    "\n",
    "    let fileOpenObj = {| FileOpen = {| uri = fullPath |> getFileUri; spiText = code |} |}\n",
    "    let! _fileOpenResult = fileOpenObj |> sendObj serverPort\n",
    "\n",
    "    let fileTokenRangeObj =\n",
    "        {|\n",
    "            FileTokenRange =\n",
    "                {|\n",
    "                    uri = fullPath |> getFileUri\n",
    "                    range =\n",
    "                        [|\n",
    "                            {| line = 0; character = 0 |}\n",
    "                            {| line = lines.Length - 1; character = lines.[lines.Length - 1].Length |}\n",
    "                        |]\n",
    "                |}\n",
    "        |}\n",
    "    let! fileTokenRangeResult =\n",
    "        fileTokenRangeObj\n",
    "        |> sendObj serverPort\n",
    "        |> Async.withCancellationToken ct\n",
    "\n",
    "    return fileTokenRangeResult |> Option.map FSharp.Json.Json.deserialize<int array>\n",
    "}"
   ]
  },
  {
   "cell_type": "markdown",
   "metadata": {},
   "source": [
    "## getCodeTokenRange"
   ]
  },
  {
   "cell_type": "code",
   "execution_count": null,
   "metadata": {
    "dotnet_interactive": {
     "language": "fsharp"
    },
    "polyglot_notebook": {
     "kernelName": "fsharp"
    }
   },
   "outputs": [],
   "source": [
    "let inline getCodeTokenRange cancellationToken code = async {\n",
    "    let! mainPath, disposable = persistCode code\n",
    "    use _ = disposable\n",
    "    let port = getCompilerPort ()\n",
    "    return! mainPath |> getFileTokenRange port cancellationToken\n",
    "}"
   ]
  },
  {
   "cell_type": "code",
   "execution_count": null,
   "metadata": {
    "dotnet_interactive": {
     "language": "fsharp"
    },
    "polyglot_notebook": {
     "kernelName": "fsharp"
    }
   },
   "outputs": [
    {
     "name": "stdout",
     "output_type": "stream",
     "text": [
      "00:00:31 #350 [Verbose] testPortOpen / ex: System.AggregateException: One or more errors occurred. (Connection refused)\n",
      "00:00:31 #351 [Debug] executeAsync / options: { Command =\n",
      "   \"dotnet \"/home/runner/work/polyglot/polyglot/deps/The-Spiral-Language/The Spiral Language 2/artifacts/bin/The Spiral Language 2/release/Spiral.dll\" port=13805\"\n",
      "  WorkingDirectory = None\n",
      "  CancellationToken = Some System.Threading.CancellationToken\n",
      "  OnLine = Some <fun:it@4-434> }\n",
      "00:00:31 #352 [Verbose] > pwd: /home/runner/work/polyglot/polyglot/apps/spiral\n",
      "00:00:31 #353 [Verbose] > dll_path: /home/runner/work/polyglot/polyglot/deps/The-Spiral-Language/The Spiral Language 2/artifacts/bin/The Spiral Language 2/release\n",
      "00:00:31 #354 [Verbose] testPortOpen / ex: System.AggregateException: One or more errors occurred. (Connection refused)\n",
      "00:00:31 #355 [Verbose] waitForPortAccess / port: 13805 / retry: 0\n",
      "00:00:31 #356 [Verbose] testPortOpen / ex: System.AggregateException: One or more errors occurred. (Connection refused)\n",
      "00:00:31 #357 [Verbose] testPortOpen / ex: System.AggregateException: One or more errors occurred. (Connection refused)\n",
      "00:00:31 #358 [Verbose] testPortOpen / ex: System.AggregateException: One or more errors occurred. (Connection refused)\n",
      "00:00:31 #359 [Verbose] testPortOpen / ex: System.AggregateException: One or more errors occurred. (Connection refused)\n",
      "00:00:31 #360 [Verbose] testPortOpen / ex: System.AggregateException: One or more errors occurred. (Connection refused)\n",
      "00:00:31 #361 [Verbose] testPortOpen / ex: System.AggregateException: One or more errors occurred. (Connection refused)\n",
      "00:00:31 #362 [Verbose] testPortOpen / ex: System.AggregateException: One or more errors occurred. (Connection refused)\n",
      "00:00:31 #363 [Verbose] testPortOpen / ex: System.AggregateException: One or more errors occurred. (Connection refused)\n",
      "00:00:31 #364 [Debug] sendJson / port: 13805 / json: {\"Ping\":true} / result.Length:\n",
      "00:00:31 #365 [Verbose] awaitCompiler / Ping / result: Some(null) / port: 13805 / retry: 0\n",
      "00:00:31 #366 [Verbose] > Server bound to: http://localhost:13805\n",
      "00:00:31 #367 [Debug] sendJson / port: 13805 / json: {\"FileOpen\":{\"spiText\":\"inl main () = ()\",\"uri\":\"file:///tmp/!dotnet-repl/20240215-2305-2884-8488-823936ccf4a4/main.spi\"}} / result.Length:\n",
      "00:00:32 #369 [Debug] sendJson / port: 13805 / json: {\"FileTokenRange\":{\"range\":[{\"character\":0,\"line\":0},{\"character\":16,\"line\":0}],\"uri\":\"file:///tmp/!dotnet-repl/20240215-2305-2884-8488-823936ccf4a4/main.spi\"}} / result.Length: Some(177)\n",
      "FSharpOption<Int32[]>\n",
      "      Value: [ 0, 0, 3, 7, 0, 0, 4, 4, 0, 0, 0, 5, 1, 8, 0, 0, 1, 1, 8, 0, 0, 2, 1, 4, 0, 0, 2, 1, 8, 0, 0, 1, 1, 8, 0 ]\n"
     ]
    }
   ],
   "source": [
    "//// test\n",
    "\n",
    "\"\"\"inl main () = ()\"\"\"\n",
    "|> getCodeTokenRange None\n",
    "|> Async.runWithTimeout 10000\n",
    "|> Option.flatten\n",
    "|> _equal (Some [| 0; 0; 3; 7; 0; 0; 4; 4; 0; 0; 0; 5; 1; 8; 0; 0; 1; 1; 8; 0; 0; 2; 1; 4; 0; 0;\n",
    "2; 1; 8; 0; 0; 1; 1; 8; 0 |])"
   ]
  },
  {
   "cell_type": "code",
   "execution_count": null,
   "metadata": {
    "dotnet_interactive": {
     "language": "fsharp"
    },
    "polyglot_notebook": {
     "kernelName": "fsharp"
    }
   },
   "outputs": [
    {
     "name": "stdout",
     "output_type": "stream",
     "text": [
      "00:00:33 #372 [Verbose] testPortOpen / ex: System.AggregateException: One or more errors occurred. (Connection refused)\n",
      "00:00:33 #373 [Debug] executeAsync / options: { Command =\n",
      "   \"dotnet \"/home/runner/work/polyglot/polyglot/deps/The-Spiral-Language/The Spiral Language 2/artifacts/bin/The Spiral Language 2/release/Spiral.dll\" port=13805\"\n",
      "  WorkingDirectory = None\n",
      "  CancellationToken = Some System.Threading.CancellationToken\n",
      "  OnLine = Some <fun:it@4-801> }\n",
      "00:00:33 #374 [Verbose] > pwd: /home/runner/work/polyglot/polyglot/apps/spiral\n",
      "00:00:33 #375 [Verbose] > dll_path: /home/runner/work/polyglot/polyglot/deps/The-Spiral-Language/The Spiral Language 2/artifacts/bin/The Spiral Language 2/release\n",
      "00:00:33 #376 [Verbose] testPortOpen / ex: System.AggregateException: One or more errors occurred. (Connection refused)\n",
      "00:00:33 #377 [Verbose] waitForPortAccess / port: 13805 / retry: 0\n",
      "00:00:33 #378 [Verbose] testPortOpen / ex: System.AggregateException: One or more errors occurred. (Connection refused)\n",
      "00:00:33 #379 [Verbose] testPortOpen / ex: System.AggregateException: One or more errors occurred. (Connection refused)\n",
      "00:00:33 #380 [Verbose] testPortOpen / ex: System.AggregateException: One or more errors occurred. (Connection refused)\n",
      "00:00:33 #381 [Verbose] testPortOpen / ex: System.AggregateException: One or more errors occurred. (Connection refused)\n",
      "00:00:33 #382 [Verbose] testPortOpen / ex: System.AggregateException: One or more errors occurred. (Connection refused)\n",
      "00:00:34 #383 [Verbose] testPortOpen / ex: System.AggregateException: One or more errors occurred. (Connection refused)\n",
      "00:00:34 #384 [Verbose] testPortOpen / ex: System.AggregateException: One or more errors occurred. (Connection refused)\n",
      "00:00:34 #385 [Verbose] testPortOpen / ex: System.AggregateException: One or more errors occurred. (Connection refused)\n",
      "00:00:34 #386 [Debug] sendJson / port: 13805 / json: {\"Ping\":true} / result.Length:\n",
      "00:00:34 #387 [Verbose] awaitCompiler / Ping / result: Some(null) / port: 13805 / retry: 0\n",
      "00:00:34 #388 [Verbose] > Server bound to: http://localhost:13805\n",
      "00:00:34 #389 [Debug] sendJson / port: 13805 / json: {\"FileOpen\":{\"spiText\":\"inl main () = 1i32\",\"uri\":\"file:///tmp/!dotnet-repl/20240215-2305-3139-3941-30a9e65c595f/main.spi\"}} / result.Length:\n",
      "00:00:34 #390 [Debug] sendJson / port: 13805 / json: {\"FileTokenRange\":{\"range\":[{\"character\":0,\"line\":0},{\"character\":18,\"line\":0}],\"uri\":\"file:///tmp/!dotnet-repl/20240215-2305-3139-3941-30a9e65c595f/main.spi\"}} / result.Length: Some(178)\n",
      "FSharpOption<Int32[]>\n",
      "      Value: [ 0, 0, 3, 7, 0, 0, 4, 4, 0, 0, 0, 5, 1, 8, 0, 0, 1, 1, 8, 0, 0, 2, 1, 4, 0, 0, 2, 1, 3, 0, 0, 1, 3, 12, 0 ]\n"
     ]
    }
   ],
   "source": [
    "//// test\n",
    "\n",
    "\"\"\"inl main () = 1i32\"\"\"\n",
    "|> getCodeTokenRange None\n",
    "|> Async.runWithTimeout 10000\n",
    "|> Option.flatten\n",
    "|> _equal (Some [| 0; 0; 3; 7; 0; 0; 4; 4; 0; 0; 0; 5; 1; 8; 0; 0; 1; 1; 8; 0; 0; 2; 1; 4; 0; 0;\n",
    "2; 1; 3; 0; 0; 1; 3; 12; 0 |])"
   ]
  },
  {
   "cell_type": "markdown",
   "metadata": {},
   "source": [
    "## Arguments"
   ]
  },
  {
   "cell_type": "code",
   "execution_count": null,
   "metadata": {
    "dotnet_interactive": {
     "language": "fsharp"
    },
    "polyglot_notebook": {
     "kernelName": "fsharp"
    }
   },
   "outputs": [],
   "source": [
    "[<RequireQualifiedAccess>]\n",
    "type Arguments =\n",
    "    | Build_File of string * string\n",
    "    | File_Token_Range of string * string\n",
    "    | Execute_Command of string\n",
    "    | Timeout of int\n",
    "    | Port of int\n",
    "\n",
    "    interface Argu.IArgParserTemplate with\n",
    "        member s.Usage =\n",
    "            match s with\n",
    "            | Build_File _ -> nameof Build_File\n",
    "            | File_Token_Range _ -> nameof File_Token_Range\n",
    "            | Execute_Command _ -> nameof Execute_Command\n",
    "            | Timeout _ -> nameof Timeout\n",
    "            | Port _ -> nameof Port"
   ]
  },
  {
   "cell_type": "code",
   "execution_count": null,
   "metadata": {
    "dotnet_interactive": {
     "language": "fsharp"
    },
    "polyglot_notebook": {
     "kernelName": "fsharp"
    }
   },
   "outputs": [
    {
     "data": {
      "text/plain": [
       "USAGE: dotnet [--help] [--build-file <string> <string>]\n",
       "              [--file-token-range <string> <string>]\n",
       "              [--execute-command <string>] [--timeout <int>] [--port <int>]\n",
       "\n",
       "OPTIONS:\n",
       "\n",
       "    --build-file <string> <string>\n",
       "                          Build_File\n",
       "    --file-token-range <string> <string>\n",
       "                          File_Token_Range\n",
       "    --execute-command <string>\n",
       "                          Execute_Command\n",
       "    --timeout <int>       Timeout\n",
       "    --port <int>          Port\n",
       "    --help                display this list of options.\n"
      ]
     },
     "metadata": {},
     "output_type": "display_data"
    }
   ],
   "source": [
    "//// test\n",
    "\n",
    "Argu.ArgumentParser.Create<Arguments>().PrintUsage ()"
   ]
  },
  {
   "cell_type": "markdown",
   "metadata": {},
   "source": [
    "## main"
   ]
  },
  {
   "cell_type": "code",
   "execution_count": null,
   "metadata": {
    "dotnet_interactive": {
     "language": "fsharp"
    },
    "polyglot_notebook": {
     "kernelName": "fsharp"
    }
   },
   "outputs": [],
   "source": [
    "let main args =\n",
    "    let argsMap = args |> Runtime.parseArgsMap<Arguments>\n",
    "\n",
    "    let buildFileActions =\n",
    "        argsMap\n",
    "        |> Map.tryFind (nameof Arguments.Build_File)\n",
    "        |> Option.defaultValue []\n",
    "        |> List.choose (function\n",
    "            | Arguments.Build_File (inputPath, outputPath) -> Some (inputPath, outputPath)\n",
    "            | _ -> None\n",
    "        )\n",
    "\n",
    "    let fileTokenRangeActions =\n",
    "        argsMap\n",
    "        |> Map.tryFind (nameof Arguments.File_Token_Range)\n",
    "        |> Option.defaultValue []\n",
    "        |> List.choose (function\n",
    "            | Arguments.File_Token_Range (inputPath, outputPath) -> Some (inputPath, outputPath)\n",
    "            | _ -> None\n",
    "        )\n",
    "\n",
    "    let executeCommandActions =\n",
    "        argsMap\n",
    "        |> Map.tryFind (nameof Arguments.Execute_Command)\n",
    "        |> Option.defaultValue []\n",
    "        |> List.choose (function\n",
    "            | Arguments.Execute_Command command -> Some command\n",
    "            | _ -> None\n",
    "        )\n",
    "\n",
    "    let timeout =\n",
    "        match argsMap |> Map.tryFind (nameof Arguments.Timeout) with\n",
    "        | Some [ Arguments.Timeout timeout ] -> timeout\n",
    "        | _ -> 60000 * 60\n",
    "\n",
    "    let port =\n",
    "        match argsMap |> Map.tryFind (nameof Arguments.Port) with\n",
    "        | Some [ Arguments.Port port ] -> Some port\n",
    "        | _ -> None\n",
    "\n",
    "    async {\n",
    "        let! buildFileResult =\n",
    "            buildFileActions\n",
    "            |> List.map (fun (inputPath, outputPath) -> async {\n",
    "                let port = port |> Option.defaultWith getCompilerPort\n",
    "                let! outputCode, errors = inputPath |> buildFile timeout port None\n",
    "                \n",
    "                errors\n",
    "                |> List.map snd\n",
    "                |> List.iter (fun error ->\n",
    "                    trace Critical (fun () -> $\"main / error: {error}\") getLocals\n",
    "                )\n",
    "\n",
    "                match outputCode with\n",
    "                | Some outputCode ->\n",
    "                    do! outputCode |> FileSystem.writeAllTextAsync outputPath\n",
    "                    return 0\n",
    "                | None ->\n",
    "                    return 1\n",
    "            })\n",
    "            |> Async.Sequential\n",
    "\n",
    "        let! fileTokenRangeResult =\n",
    "            fileTokenRangeActions\n",
    "            |> List.map (fun (inputPath, outputPath) -> async {\n",
    "                let port = port |> Option.defaultWith getCompilerPort\n",
    "                let! tokenRange = inputPath |> getFileTokenRange port None\n",
    "                match tokenRange with\n",
    "                | Some tokenRange ->\n",
    "                    do! tokenRange |> FSharp.Json.Json.serialize |> FileSystem.writeAllTextAsync outputPath\n",
    "                    return 0\n",
    "                | None ->\n",
    "                    return 1\n",
    "            })\n",
    "            |> Async.Sequential\n",
    "        \n",
    "        let! executeCommandResult =\n",
    "            executeCommandActions\n",
    "            |> List.map (fun command -> async {\n",
    "                let port = port |> Option.defaultWith getCompilerPort\n",
    "\n",
    "                let localToken, disposable = Threading.newDisposableToken None\n",
    "                use _ = disposable\n",
    "\n",
    "                let! serverPort, _errors, compilerToken, disposable = awaitCompiler port (Some localToken)\n",
    "                use _ = disposable\n",
    "                \n",
    "                let! exitCode, result =\n",
    "                    Runtime.executeWithOptionsAsync\n",
    "                        {\n",
    "                            Command = command\n",
    "                            CancellationToken = Some compilerToken\n",
    "                            WorkingDirectory = None\n",
    "                            OnLine = None\n",
    "                        }\n",
    "\n",
    "                trace Debug (fun () -> $\"main / executeCommand / exitCode: {exitCode}\") getLocals\n",
    "\n",
    "                return exitCode\n",
    "            })\n",
    "            |> Async.Sequential\n",
    "            \n",
    "        return\n",
    "            [| buildFileResult; fileTokenRangeResult; executeCommandResult |]\n",
    "            |> Array.collect id\n",
    "            |> Array.sum\n",
    "    }\n",
    "    |> Async.runWithTimeout timeout\n",
    "    |> Option.defaultValue 1"
   ]
  },
  {
   "cell_type": "code",
   "execution_count": null,
   "metadata": {
    "dotnet_interactive": {
     "language": "fsharp"
    },
    "polyglot_notebook": {
     "kernelName": "fsharp"
    }
   },
   "outputs": [
    {
     "data": {
      "text/html": [
       "<div class=\"dni-plaintext\"><pre>0</pre></div><style>\n",
       ".dni-code-hint {\n",
       "    font-style: italic;\n",
       "    overflow: hidden;\n",
       "    white-space: nowrap;\n",
       "}\n",
       ".dni-treeview {\n",
       "    white-space: nowrap;\n",
       "}\n",
       ".dni-treeview td {\n",
       "    vertical-align: top;\n",
       "    text-align: start;\n",
       "}\n",
       "details.dni-treeview {\n",
       "    padding-left: 1em;\n",
       "}\n",
       "table td {\n",
       "    text-align: start;\n",
       "}\n",
       "table tr { \n",
       "    vertical-align: top; \n",
       "    margin: 0em 0px;\n",
       "}\n",
       "table tr td pre \n",
       "{ \n",
       "    vertical-align: top !important; \n",
       "    margin: 0em 0px !important;\n",
       "} \n",
       "table th {\n",
       "    text-align: start;\n",
       "}\n",
       "</style>"
      ]
     },
     "metadata": {},
     "output_type": "display_data"
    }
   ],
   "source": [
    "//// test\n",
    "\n",
    "let args =\n",
    "    System.Environment.GetEnvironmentVariable \"ARGS\"\n",
    "    |> Runtime.splitArgs\n",
    "    |> Seq.toArray\n",
    "\n",
    "match args with\n",
    "| [||] -> 0\n",
    "| args -> if main args = 0 then 0 else failwith \"main failed\""
   ]
  }
 ],
 "metadata": {},
 "nbformat": 4,
 "nbformat_minor": 5
}