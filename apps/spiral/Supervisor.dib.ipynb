{
 "cells": [
  {
   "cell_type": "markdown",
   "metadata": {},
   "source": [
    "# Supervisor (Polyglot)"
   ]
  },
  {
   "cell_type": "code",
   "execution_count": null,
   "metadata": {
    "dotnet_interactive": {
     "language": "fsharp"
    },
    "polyglot_notebook": {
     "kernelName": "fsharp"
    }
   },
   "outputs": [],
   "source": [
    "#!import ../../lib/fsharp/Notebooks.dib\n",
    "#!import ../../lib/fsharp/Testing.dib"
   ]
  },
  {
   "cell_type": "code",
   "execution_count": null,
   "metadata": {
    "dotnet_interactive": {
     "language": "fsharp"
    },
    "polyglot_notebook": {
     "kernelName": "fsharp"
    }
   },
   "outputs": [],
   "source": [
    "#r @\"../../../../../../../.nuget/packages/fsharp.control.asyncseq/3.2.1/lib/netstandard2.1/FSharp.Control.AsyncSeq.dll\"\n",
    "#r @\"../../../../../../../.nuget/packages/system.reactive/6.0.1-preview.1/lib/net6.0/System.Reactive.dll\"\n",
    "#r @\"../../../../../../../.nuget/packages/system.reactive.linq/6.0.1-preview.1/lib/netstandard2.0/System.Reactive.Linq.dll\"\n",
    "#r @\"../../../../../../../.nuget/packages/argu/6.2.2/lib/netstandard2.0/Argu.dll\"\n",
    "#r @\"../../../../../../../.nuget/packages/system.commandline/2.0.0-beta4.22272.1/lib/net6.0/System.CommandLine.dll\"\n",
    "#r @\"../../../../../../../.nuget/packages/microsoft.aspnetcore.http.connections.common/7.0.0/lib/net7.0/Microsoft.AspNetCore.Http.Connections.Common.dll\"\n",
    "#r @\"../../../../../../../.nuget/packages/microsoft.aspnetcore.http.connections.client/7.0.0/lib/net7.0/Microsoft.AspNetCore.Http.Connections.Client.dll\"\n",
    "#r @\"../../../../../../../.nuget/packages/microsoft.aspnetcore.signalr.common/7.0.0/lib/net7.0/Microsoft.AspNetCore.SignalR.Common.dll\"\n",
    "#r @\"../../../../../../../.nuget/packages/microsoft.aspnetcore.signalr.client/7.0.0/lib/net7.0/Microsoft.AspNetCore.SignalR.Client.dll\"\n",
    "#r @\"../../../../../../../.nuget/packages/microsoft.aspnetcore.signalr.client.core/7.0.0/lib/net7.0/Microsoft.AspNetCore.SignalR.Client.Core.dll\"\n",
    "#r @\"../../../../../../../.nuget/packages/fsharp.json/0.4.1/lib/netstandard2.0/FSharp.Json.dll\""
   ]
  },
  {
   "cell_type": "code",
   "execution_count": null,
   "metadata": {
    "dotnet_interactive": {
     "language": "fsharp"
    },
    "polyglot_notebook": {
     "kernelName": "fsharp"
    }
   },
   "outputs": [],
   "source": [
    "#!import ../../lib/spiral/common.fsx\n",
    "#!import ../../lib/spiral/sm.fsx\n",
    "#!import ../../lib/spiral/date_time.fsx\n",
    "#!import ../../lib/spiral/file_system.fsx\n",
    "#!import ../../lib/spiral/lib.fsx\n",
    "#!import ../../lib/fsharp/Common.fs\n",
    "#!import ../../lib/fsharp/CommonFSharp.fs\n",
    "#!import ../../lib/fsharp/Threading.fs\n",
    "#!import ../../lib/fsharp/Async.fs\n",
    "#!import ../../lib/fsharp/AsyncSeq.fs\n",
    "#!import ../../lib/fsharp/Networking.fs\n",
    "#!import ../../lib/fsharp/Runtime.fs\n",
    "#!import ../../lib/fsharp/FileSystem.fs"
   ]
  },
  {
   "cell_type": "code",
   "execution_count": null,
   "metadata": {
    "dotnet_interactive": {
     "language": "fsharp"
    },
    "polyglot_notebook": {
     "kernelName": "fsharp"
    }
   },
   "outputs": [],
   "source": [
    "#if !INTERACTIVE\n",
    "open Lib\n",
    "#endif"
   ]
  },
  {
   "cell_type": "code",
   "execution_count": null,
   "metadata": {
    "dotnet_interactive": {
     "language": "fsharp"
    },
    "polyglot_notebook": {
     "kernelName": "fsharp"
    }
   },
   "outputs": [],
   "source": [
    "open Common\n",
    "open SpiralFileSystem.Operators\n",
    "open Microsoft.AspNetCore.SignalR.Client"
   ]
  },
  {
   "cell_type": "markdown",
   "metadata": {},
   "source": [
    "## sendJson"
   ]
  },
  {
   "cell_type": "code",
   "execution_count": null,
   "metadata": {
    "dotnet_interactive": {
     "language": "fsharp"
    },
    "polyglot_notebook": {
     "kernelName": "fsharp"
    }
   },
   "outputs": [],
   "source": [
    "let inline sendJson (port : int) (json : string) = async {\n",
    "    let! portOpen = Networking.testPortOpen port\n",
    "    if portOpen then\n",
    "        try\n",
    "            let connection = HubConnectionBuilder().WithUrl($\"http://127.0.0.1:{port}\").Build()\n",
    "            do! connection.StartAsync () |> Async.AwaitTask\n",
    "            let! result = connection.InvokeAsync<string>(\"ClientToServerMsg\", json) |> Async.AwaitTask\n",
    "            do! connection.StopAsync () |> Async.AwaitTask\n",
    "            trace Debug (fun () -> $\"sendJson / port: {port} / json: {json} / result.Length: {result |> Option.ofObj |> Option.map String.length}\") getLocals\n",
    "            return Some result\n",
    "        with ex ->\n",
    "            trace Critical (fun () -> $\"sendJson / port: {port} / json: {json} / ex: {ex |> SpiralSm.format_exception}\") getLocals\n",
    "            return None\n",
    "    else\n",
    "        trace Debug (fun () -> \"sendJson / error: port not open\") getLocals\n",
    "        return None\n",
    "}"
   ]
  },
  {
   "cell_type": "markdown",
   "metadata": {},
   "source": [
    "## sendObj"
   ]
  },
  {
   "cell_type": "code",
   "execution_count": null,
   "metadata": {
    "dotnet_interactive": {
     "language": "fsharp"
    },
    "polyglot_notebook": {
     "kernelName": "fsharp"
    }
   },
   "outputs": [],
   "source": [
    "let inline sendObj port obj =\n",
    "    obj\n",
    "    |> System.Text.Json.JsonSerializer.Serialize\n",
    "    |> sendJson port"
   ]
  },
  {
   "cell_type": "markdown",
   "metadata": {},
   "source": [
    "## awaitCompiler"
   ]
  },
  {
   "cell_type": "code",
   "execution_count": null,
   "metadata": {
    "dotnet_interactive": {
     "language": "fsharp"
    },
    "polyglot_notebook": {
     "kernelName": "fsharp"
    }
   },
   "outputs": [],
   "source": [
    "type VSCPos = {| line : int; character : int |}\n",
    "type VSCRange = VSCPos * VSCPos\n",
    "type RString = VSCRange * string\n",
    "type TracedError = {| trace : string list; message : string |}\n",
    "type ClientErrorsRes =\n",
    "    | FatalError of string\n",
    "    | TracedError of TracedError\n",
    "    | PackageErrors of {| uri : string; errors : RString list |}\n",
    "    | TokenizerErrors of {| uri : string; errors : RString list |}\n",
    "    | ParserErrors of {| uri : string; errors : RString list |}\n",
    "    | TypeErrors of {| uri : string; errors : RString list |}"
   ]
  },
  {
   "cell_type": "code",
   "execution_count": null,
   "metadata": {
    "dotnet_interactive": {
     "language": "fsharp"
    },
    "polyglot_notebook": {
     "kernelName": "fsharp"
    }
   },
   "outputs": [],
   "source": [
    "let inline awaitCompiler port cancellationToken = async {\n",
    "    let ct, disposable = cancellationToken |> Threading.newDisposableToken\n",
    "    let! ct = ct |> Async.mergeCancellationTokenWithDefaultAsync\n",
    "\n",
    "    let compiler = MailboxProcessor.Start (fun inbox -> async {\n",
    "        let! availablePort = Networking.getAvailablePort (Some 60) port\n",
    "        if availablePort <> port then\n",
    "            inbox.Post (port, false)\n",
    "        else\n",
    "            let repositoryRoot = SpiralFileSystem.get_source_directory () |> SpiralFileSystem.find_parent \".paket\" false\n",
    "\n",
    "            let compilerPath =\n",
    "                repositoryRoot </> \"deps/The-Spiral-Language/The Spiral Language 2/artifacts/bin/The Spiral Language 2/release\"\n",
    "                |> System.IO.Path.GetFullPath\n",
    "\n",
    "            let dllPath = compilerPath </> \"Spiral.dll\"\n",
    "\n",
    "            let! exitCode, result =\n",
    "                Runtime.executeWithOptionsAsync\n",
    "                    {\n",
    "                        Command = $@\"dotnet \"\"{dllPath}\"\" --port {availablePort} --default-int i32 --default-float f64\"\n",
    "                        CancellationToken = Some ct\n",
    "                        WorkingDirectory = None\n",
    "                        OnLine = Some <| fun { Line = line } -> async {\n",
    "                            if line |> SpiralSm.contains $\"Server bound to: http://localhost:{availablePort}\" then\n",
    "                                do! Networking.waitForPortAccess (Some 500) true availablePort |> Async.Ignore\n",
    "\n",
    "                                let rec loop retry = async {\n",
    "                                    let getLocals () = $\"port: {availablePort} / retry: {retry} / {getLocals ()}\"\n",
    "                                    try\n",
    "                                        let pingObj = {| Ping = true |}\n",
    "                                        let! pingResult = pingObj |> sendObj availablePort\n",
    "                                        trace Verbose (fun () -> $\"awaitCompiler / Ping / result: {pingResult}\") getLocals\n",
    "                                    with ex ->\n",
    "                                        trace Verbose (fun () -> $\"awaitCompiler / Ping / ex: {ex |> SpiralSm.format_exception}\") getLocals\n",
    "                                        do! Async.Sleep 10\n",
    "                                        do! loop (retry + 1)\n",
    "                                }\n",
    "                                do! loop 0\n",
    "                                inbox.Post (availablePort, true)\n",
    "                        }\n",
    "                    }\n",
    "            trace Debug (fun () -> $\"awaitCompiler / exitCode: {exitCode} / result: {result}\") getLocals\n",
    "            disposable.Dispose ()\n",
    "    }, ct)\n",
    "\n",
    "    let! serverPort, managed = compiler.Receive ()\n",
    "\n",
    "    let connection = HubConnectionBuilder().WithUrl($\"http://127.0.0.1:{serverPort}\").Build ()\n",
    "    do! connection.StartAsync () |> Async.AwaitTask\n",
    "\n",
    "    let event = Event<_> ()\n",
    "    let disposable' = connection.On<string> (\"ServerToClientMsg\", event.Trigger)\n",
    "    let stream =\n",
    "        FSharp.Control.AsyncSeq.unfoldAsync\n",
    "            (fun () -> async {\n",
    "                let! msg = event.Publish |> Async.AwaitEvent\n",
    "                return Some (msg |> FSharp.Json.Json.deserialize<ClientErrorsRes>, ())\n",
    "            })\n",
    "            ()\n",
    "\n",
    "    let disposable' =\n",
    "        new_disposable (fun () ->\n",
    "            async {\n",
    "                disposable'.Dispose ()\n",
    "                do! connection.StopAsync () |> Async.AwaitTask\n",
    "                disposable.Dispose ()\n",
    "                if managed\n",
    "                then do! Networking.waitForPortAccess (Some 2000) false serverPort |> Async.Ignore\n",
    "            }\n",
    "            |> Async.RunSynchronously\n",
    "        )\n",
    "\n",
    "    return\n",
    "        serverPort,\n",
    "        stream,\n",
    "        ct,\n",
    "        disposable'\n",
    "}"
   ]
  },
  {
   "cell_type": "markdown",
   "metadata": {},
   "source": [
    "## getFileUri"
   ]
  },
  {
   "cell_type": "code",
   "execution_count": null,
   "metadata": {
    "dotnet_interactive": {
     "language": "fsharp"
    },
    "polyglot_notebook": {
     "kernelName": "fsharp"
    }
   },
   "outputs": [],
   "source": [
    "let inline getFileUri (path : string) =\n",
    "    let path =\n",
    "        if Runtime.isWindows () |> not\n",
    "        then path\n",
    "        else $\"{path.[0] |> System.Char.ToLower}{path.[1..]}\" |> SpiralSm.replace \"\\\\\" \"/\"\n",
    "    $\"file:///{path |> SpiralSm.trim_start [| '/' |]}\""
   ]
  },
  {
   "cell_type": "code",
   "execution_count": null,
   "metadata": {
    "dotnet_interactive": {
     "language": "fsharp"
    },
    "polyglot_notebook": {
     "kernelName": "fsharp"
    }
   },
   "outputs": [],
   "source": [
    "let inline getFilePathFromUri uri =\n",
    "    match System.Uri.TryCreate (uri, System.UriKind.Absolute) with\n",
    "    | true, uri -> uri.AbsolutePath |> System.IO.Path.GetFullPath\n",
    "    | _ -> failwith \"invalid uri\""
   ]
  },
  {
   "cell_type": "code",
   "execution_count": null,
   "metadata": {
    "dotnet_interactive": {
     "language": "fsharp"
    },
    "polyglot_notebook": {
     "kernelName": "fsharp"
    }
   },
   "outputs": [],
   "source": [
    "let inline getCompilerPort () =\n",
    "    13805"
   ]
  },
  {
   "cell_type": "markdown",
   "metadata": {},
   "source": [
    "## serialize_obj"
   ]
  },
  {
   "cell_type": "code",
   "execution_count": null,
   "metadata": {
    "dotnet_interactive": {
     "language": "fsharp"
    },
    "polyglot_notebook": {
     "kernelName": "fsharp"
    }
   },
   "outputs": [],
   "source": [
    "    let serializeObj obj =\n",
    "        obj\n",
    "        |> FSharp.Json.Json.serialize\n",
    "        |> SpiralSm.replace \"\\\\\\\\\" \"\\\\\"\n",
    "        |> SpiralSm.replace \"\\\\r\\\\n\" \"\\n\"\n",
    "        |> SpiralSm.replace \"\\\\n\" \"\\n\""
   ]
  },
  {
   "cell_type": "markdown",
   "metadata": {},
   "source": [
    "## buildFile"
   ]
  },
  {
   "cell_type": "code",
   "execution_count": null,
   "metadata": {
    "dotnet_interactive": {
     "language": "fsharp"
    },
    "polyglot_notebook": {
     "kernelName": "fsharp"
    }
   },
   "outputs": [],
   "source": [
    "let inline buildFile timeout port cancellationToken path = async {\n",
    "    let fullPath = path |> System.IO.Path.GetFullPath\n",
    "    let fileDir = fullPath |> System.IO.Path.GetDirectoryName\n",
    "    let fileName = fullPath |> System.IO.Path.GetFileNameWithoutExtension\n",
    "    let! code = fullPath |> FileSystem.readAllTextAsync\n",
    "\n",
    "    let eventFilter = function\n",
    "        | FileSystem.FileSystemChange.Changed (path, _) when path = $\"{fileName}.fsx\" -> true\n",
    "        | _ -> false\n",
    "\n",
    "    let stream, disposable = fileDir |> FileSystem.watchDirectory eventFilter\n",
    "    use _ = disposable\n",
    "\n",
    "    let token, disposable = Threading.newDisposableToken cancellationToken\n",
    "    use _ = disposable\n",
    "\n",
    "    let! serverPort, errors, ct, disposable = awaitCompiler port (Some token)\n",
    "    use _ = disposable\n",
    "\n",
    "    let fsxContentSeq =\n",
    "        stream\n",
    "        |> FSharp.Control.AsyncSeq.choose (function\n",
    "            | _, (FileSystem.FileSystemChange.Changed (path, Some content) as event)\n",
    "                when event |> eventFilter\n",
    "                ->\n",
    "                Some content\n",
    "            | _ -> None\n",
    "        )\n",
    "        |> FSharp.Control.AsyncSeq.map (fun content ->\n",
    "            Some (content |> SpiralSm.replace \"\\r\\n\" \"\\n\"), None\n",
    "        )\n",
    "\n",
    "    let inline printErrorData (data : {| uri : string; errors : RString list |}) =\n",
    "        let fileName = data.uri |> System.IO.Path.GetFileName\n",
    "        let errors =\n",
    "            data.errors\n",
    "            |> List.map snd\n",
    "            |> SpiralSm.concat \"\\n\"\n",
    "        $\"{fileName}:\\n{errors}\"\n",
    "\n",
    "    let errorsSeq =\n",
    "        errors\n",
    "        |> FSharp.Control.AsyncSeq.choose (fun error ->\n",
    "            match error with\n",
    "            | FatalError message ->\n",
    "                Some (message, error)\n",
    "            | TracedError data ->\n",
    "                Some (data.message, error)\n",
    "            | PackageErrors data when data.errors |> List.isEmpty |> not ->\n",
    "                Some (data |> printErrorData, error)\n",
    "            | TokenizerErrors data when data.errors |> List.isEmpty |> not ->\n",
    "                Some (data |> printErrorData, error)\n",
    "            | ParserErrors data when data.errors |> List.isEmpty |> not ->\n",
    "                Some (data |> printErrorData, error)\n",
    "            | TypeErrors data when data.errors |> List.isEmpty |> not ->\n",
    "                Some (data |> printErrorData, error)\n",
    "            | _ -> None\n",
    "        )\n",
    "        |> FSharp.Control.AsyncSeq.map (fun (message, error) ->\n",
    "            None, Some (message, error)\n",
    "        )\n",
    "\n",
    "    let timerSeq =\n",
    "        1000\n",
    "        |> FSharp.Control.AsyncSeq.intervalMs\n",
    "        |> FSharp.Control.AsyncSeq.map (fun _ -> None, None)\n",
    "\n",
    "    let outputSeq =\n",
    "        [ fsxContentSeq; errorsSeq; timerSeq ]\n",
    "        |> FSharp.Control.AsyncSeq.mergeAll\n",
    "\n",
    "    let! outputChild =\n",
    "        ((None, [], 0), outputSeq)\n",
    "        ||> FSharp.Control.AsyncSeq.scan (\n",
    "            fun (fsxContentResult, errors, typeErrorCount) (fsxContent, error) ->\n",
    "                match fsxContent, error with\n",
    "                | Some fsxContent, None -> Some fsxContent, errors, typeErrorCount\n",
    "                | None, Some (_, FatalError \"File main has a type error somewhere in its path.\") ->\n",
    "                    fsxContentResult, errors, typeErrorCount + 1\n",
    "                | None, Some error -> fsxContentResult, error :: errors, typeErrorCount\n",
    "                | None, None when typeErrorCount >= 1 ->\n",
    "                    fsxContentResult, errors, typeErrorCount + 1\n",
    "                | _ -> fsxContentResult, errors, typeErrorCount\n",
    "        )\n",
    "        |> FSharp.Control.AsyncSeq.takeWhileInclusive (fun (fsxContent, errors, typeErrorCount) ->\n",
    "            trace Debug (fun () -> $\"buildFile / takeWhileInclusive / fsxContent: {fsxContent |> Option.defaultValue System.String.Empty |> SpiralSm.ellipsis 750} / errors: {errors |> serializeObj} / typeErrorCount: {typeErrorCount}\") getLocals\n",
    "#if INTERACTIVE\n",
    "            let errorWait = 2\n",
    "#else\n",
    "            let errorWait = 10\n",
    "#endif\n",
    "            match fsxContent, errors with\n",
    "            | None, [] when typeErrorCount > errorWait -> false\n",
    "            | None, [] -> true\n",
    "            | _ -> false\n",
    "        )\n",
    "        |> FSharp.Control.AsyncSeq.tryLast\n",
    "        |> Async.withCancellationToken ct\n",
    "        |> Async.catch\n",
    "        |> Async.runWithTimeoutAsync timeout\n",
    "        |> Async.StartChild\n",
    "\n",
    "    let fileOpenObj = {| FileOpen = {| uri = fullPath |> getFileUri; spiText = code |} |}\n",
    "    let! _fileOpenResult = fileOpenObj |> sendObj serverPort\n",
    "\n",
    "    do! Async.Sleep 60\n",
    "\n",
    "    let buildFileObj = {| BuildFile = {| uri = fullPath |> getFileUri; backend = \"Fsharp\" |} |}\n",
    "    let! _buildFileResult = buildFileObj |> sendObj serverPort\n",
    "\n",
    "    return!\n",
    "        outputChild\n",
    "        |> Async.map (function\n",
    "            | Some (Ok (Some (message, errors, _))) ->\n",
    "                message, errors |> List.distinct |> List.rev\n",
    "            | Some (Error ex) ->\n",
    "                trace Critical (fun () -> $\"buildFile / error: {ex |> serializeObj}\") getLocals\n",
    "                None, []\n",
    "            | _ -> None, []\n",
    "        )\n",
    "}"
   ]
  },
  {
   "cell_type": "markdown",
   "metadata": {},
   "source": [
    "## persistCode"
   ]
  },
  {
   "cell_type": "code",
   "execution_count": null,
   "metadata": {
    "dotnet_interactive": {
     "language": "fsharp"
    },
    "polyglot_notebook": {
     "kernelName": "fsharp"
    }
   },
   "outputs": [],
   "source": [
    "let inline persistCode code = async {\n",
    "    let tempDir = SpiralFileSystem.create_temp_directory ()\n",
    "\n",
    "    let mainPath = tempDir </> \"main.spi\"\n",
    "    do! code |> FileSystem.writeAllTextAsync mainPath\n",
    "\n",
    "    let repositoryRoot = SpiralFileSystem.get_source_directory () |> SpiralFileSystem.find_parent \".paket\" false\n",
    "\n",
    "    let spiprojPath = tempDir </> \"package.spiproj\"\n",
    "    let spiprojCode =\n",
    "        $\"\"\"packageDir: {repositoryRoot </> \"lib\"}\n",
    "packages:\n",
    "    |core-\n",
    "    spiral-\n",
    "modules:\n",
    "    main\n",
    "\"\"\"\n",
    "    do! spiprojCode |> FileSystem.writeAllTextAsync spiprojPath\n",
    "\n",
    "    let disposable = new_disposable (fun () ->\n",
    "        ()\n",
    "        // tempDir |> FileSystem.deleteDirectoryAsync |> Async.Ignore |> Async.RunSynchronously\n",
    "    )\n",
    "\n",
    "    return mainPath, disposable\n",
    "}"
   ]
  },
  {
   "cell_type": "markdown",
   "metadata": {},
   "source": [
    "## buildCode"
   ]
  },
  {
   "cell_type": "code",
   "execution_count": null,
   "metadata": {
    "dotnet_interactive": {
     "language": "fsharp"
    },
    "polyglot_notebook": {
     "kernelName": "fsharp"
    }
   },
   "outputs": [],
   "source": [
    "let inline buildCode timeout cancellationToken code = async {\n",
    "    let! mainPath, disposable = persistCode code\n",
    "    use _ = disposable\n",
    "    let port = getCompilerPort ()\n",
    "    return! mainPath |> buildFile timeout port cancellationToken\n",
    "}"
   ]
  },
  {
   "cell_type": "code",
   "execution_count": null,
   "metadata": {
    "dotnet_interactive": {
     "language": "fsharp"
    },
    "polyglot_notebook": {
     "kernelName": "fsharp"
    }
   },
   "outputs": [],
   "source": [
    "//// test\n",
    "\n",
    "let buildCode timeout cancellationToken code = buildCode timeout cancellationToken code"
   ]
  },
  {
   "cell_type": "code",
   "execution_count": null,
   "metadata": {
    "dotnet_interactive": {
     "language": "fsharp"
    },
    "polyglot_notebook": {
     "kernelName": "fsharp"
    }
   },
   "outputs": [
    {
     "name": "stdout",
     "output_type": "stream",
     "text": [
      "00:00:00 #1 [Verbose] testPortOpen / ex: System.AggregateException: One or more errors occurred. (Connection refused)\n",
      "00:00:00 #2 [Debug] executeAsync / options: { Command =\n",
      "   \"dotnet \"/home/runner/work/polyglot/polyglot/deps/The-Spiral-Language/The Spiral Language 2/artifacts/bin/The Spiral Language 2/release/Spiral.dll\" --port 13805 --default-int i32 --default-float f64\"\n",
      "  WorkingDirectory = None\n",
      "  CancellationToken = Some System.Threading.CancellationToken\n",
      "  OnLine = Some <fun:buildCode@3-910> }\n",
      "00:00:00 #3 [Verbose] > pwd: /home/runner/work/polyglot/polyglot/apps/spiral\n",
      "00:00:00 #4 [Verbose] > dll_path: /home/runner/work/polyglot/polyglot/deps/The-Spiral-Language/The Spiral Language 2/artifacts/bin/The Spiral Language 2/release\n",
      "00:00:00 #5 [Verbose] testPortOpen / ex: System.AggregateException: One or more errors occurred. (Connection refused)\n",
      "00:00:00 #6 [Verbose] waitForPortAccess / port: 13805 / retry: 0\n",
      "00:00:00 #7 [Verbose] testPortOpen / ex: System.AggregateException: One or more errors occurred. (Connection refused)\n",
      "00:00:00 #8 [Verbose] testPortOpen / ex: System.AggregateException: One or more errors occurred. (Connection refused)\n",
      "00:00:00 #9 [Verbose] testPortOpen / ex: System.AggregateException: One or more errors occurred. (Connection refused)\n",
      "00:00:00 #10 [Verbose] testPortOpen / ex: System.AggregateException: One or more errors occurred. (Connection refused)\n",
      "00:00:00 #11 [Verbose] testPortOpen / ex: System.AggregateException: One or more errors occurred. (Connection refused)\n",
      "00:00:00 #12 [Verbose] > Starting the Spiral Server. It is bound to: http://localhost:13805\n",
      "00:00:00 #13 [Verbose] testPortOpen / ex: System.AggregateException: One or more errors occurred. (Connection refused)\n",
      "00:00:00 #14 [Verbose] testPortOpen / ex: System.AggregateException: One or more errors occurred. (Connection refused)\n",
      "00:00:00 #15 [Debug] sendJson / port: 13805 / json: {\"Ping\":true} / result.Length:\n",
      "00:00:00 #16 [Verbose] awaitCompiler / Ping / result: Some(null) / port: 13805 / retry: 0\n",
      "00:00:00 #17 [Verbose] > Server bound to: http://localhost:13805\n",
      "00:00:00 #18 [Debug] buildFile / takeWhileInclusive / fsxContent:  / errors: [] / typeErrorCount: 0\n",
      "00:00:00 #19 [Debug] buildFile / takeWhileInclusive / fsxContent:  / errors: [] / typeErrorCount: 0\n",
      "00:00:00 #20 [Debug] sendJson / port: 13805 / json: {\"FileOpen\":{\"spiText\":\"inl app () =\\n    console.write_line \\u0022text\\u0022\\n    1i32\\n\\ninl main () =\\n    app\\n    |\\u003E dyn\\n    |\\u003E ignore\\n\",\"uri\":\"file:///tmp/!dotnet-repl/20240406-0213-2581-8190-885b8c7acada/main.spi\"}} / result.Length:\n",
      "00:00:00 #21 [Debug] sendJson / port: 13805 / json: {\"BuildFile\":{\"backend\":\"Fsharp\",\"uri\":\"file:///tmp/!dotnet-repl/20240406-0213-2581-8190-885b8c7acada/main.spi\"}} / result.Length:\n",
      "00:00:00 #22 [Verbose] > Building /tmp/!dotnet-repl/20240406-0213-2581-8190-885b8c7acada/main.spi\n",
      "00:00:01 #23 [Debug] buildFile / takeWhileInclusive / fsxContent:  / errors: [] / typeErrorCount: 0\n",
      "00:00:02 #24 [Debug] buildFile / takeWhileInclusive / fsxContent: let rec closure0 () () : int32 =\n",
      "    let v0 : string = \"text\"\n",
      "    System.Console.WriteLine v0\n",
      "    1\n",
      "let v0 : (unit -> int32) = closure0()\n",
      "()\n",
      " / errors: [] / typeErrorCount: 0\n",
      "00:00:02 #25 [Verbose] waitForPortAccess / port: 13805 / retry: 0\n",
      "00:00:02 #26 [Verbose] testPortOpen / ex: System.AggregateException: One or more errors occurred. (Connection refused)\n",
      "00:00:02 #27 [Debug] watchWithFilter / Disposing watch stream / filter: FileName, LastWrite\n",
      "FSharpOption<Tuple<FSharpOption<String>,FSharpList<String>>>\n",
      "      Value:       - FSharpOption<String>\n",
      "          Value: let rec closure0 () () : int32 =\n",
      "    let v0 : string = \"text\"\n",
      "    System.Console.WriteLine v0\n",
      "    1\n",
      "let v0 : (unit -> int32) = closure0()\n",
      "()\n",
      "\n",
      "      - [  ]\n"
     ]
    }
   ],
   "source": [
    "//// test\n",
    "\n",
    "\"\"\"inl app () =\n",
    "    console.write_line \"text\"\n",
    "    1i32\n",
    "\n",
    "inl main () =\n",
    "    app\n",
    "    |> dyn\n",
    "    |> ignore\n",
    "\"\"\"\n",
    "|> buildCode 15000 None\n",
    "|> Async.runWithTimeout 15000\n",
    "|> Option.map (fun (fsxContent, errors) -> fsxContent, errors |> List.map fst)\n",
    "|> _assertEqual (\n",
    "    Some (\n",
    "        Some \"\"\"let rec closure0 () () : int32 =\n",
    "    let v0 : string = \"text\"\n",
    "    System.Console.WriteLine v0\n",
    "    1\n",
    "let v0 : (unit -> int32) = closure0()\n",
    "()\n",
    "\"\"\",\n",
    "        []\n",
    "    )\n",
    ")"
   ]
  },
  {
   "cell_type": "code",
   "execution_count": null,
   "metadata": {
    "dotnet_interactive": {
     "language": "fsharp"
    },
    "polyglot_notebook": {
     "kernelName": "fsharp"
    }
   },
   "outputs": [
    {
     "name": "stdout",
     "output_type": "stream",
     "text": [
      "00:00:02 #28 [Verbose] testPortOpen / ex: System.AggregateException: One or more errors occurred. (Connection refused)\n",
      "00:00:02 #29 [Debug] executeAsync / options: { Command =\n",
      "   \"dotnet \"/home/runner/work/polyglot/polyglot/deps/The-Spiral-Language/The Spiral Language 2/artifacts/bin/The Spiral Language 2/release/Spiral.dll\" --port 13805 --default-int i32 --default-float f64\"\n",
      "  WorkingDirectory = None\n",
      "  CancellationToken = Some System.Threading.CancellationToken\n",
      "  OnLine = Some <fun:buildCode@3-910> }\n",
      "00:00:02 #30 [Verbose] > pwd: /home/runner/work/polyglot/polyglot/apps/spiral\n",
      "00:00:02 #31 [Verbose] > dll_path: /home/runner/work/polyglot/polyglot/deps/The-Spiral-Language/The Spiral Language 2/artifacts/bin/The Spiral Language 2/release\n",
      "00:00:02 #32 [Verbose] testPortOpen / ex: System.AggregateException: One or more errors occurred. (Connection refused)\n",
      "00:00:02 #33 [Verbose] waitForPortAccess / port: 13805 / retry: 0\n",
      "00:00:02 #34 [Verbose] testPortOpen / ex: System.AggregateException: One or more errors occurred. (Connection refused)\n",
      "00:00:02 #35 [Verbose] testPortOpen / ex: System.AggregateException: One or more errors occurred. (Connection refused)\n",
      "00:00:02 #36 [Verbose] testPortOpen / ex: System.AggregateException: One or more errors occurred. (Connection refused)\n",
      "00:00:02 #37 [Verbose] testPortOpen / ex: System.AggregateException: One or more errors occurred. (Connection refused)\n",
      "00:00:02 #38 [Verbose] testPortOpen / ex: System.AggregateException: One or more errors occurred. (Connection refused)\n",
      "00:00:02 #39 [Verbose] testPortOpen / ex: System.AggregateException: One or more errors occurred. (Connection refused)\n",
      "00:00:02 #40 [Verbose] > Starting the Spiral Server. It is bound to: http://localhost:13805\n",
      "00:00:02 #41 [Verbose] testPortOpen / ex: System.AggregateException: One or more errors occurred. (Connection refused)\n",
      "00:00:02 #42 [Verbose] testPortOpen / ex: System.AggregateException: One or more errors occurred. (Connection refused)\n",
      "00:00:03 #43 [Debug] sendJson / port: 13805 / json: {\"Ping\":true} / result.Length:\n",
      "00:00:03 #44 [Verbose] awaitCompiler / Ping / result: Some(null) / port: 13805 / retry: 0\n",
      "00:00:03 #45 [Verbose] > Server bound to: http://localhost:13805\n",
      "00:00:03 #46 [Debug] buildFile / takeWhileInclusive / fsxContent:  / errors: [] / typeErrorCount: 0\n",
      "00:00:03 #47 [Debug] buildFile / takeWhileInclusive / fsxContent:  / errors: [] / typeErrorCount: 0\n",
      "00:00:03 #48 [Debug] sendJson / port: 13805 / json: {\"FileOpen\":{\"spiText\":\"\",\"uri\":\"file:///tmp/!dotnet-repl/20240406-0213-2844-4487-42c2ba3da1d1/main.spi\"}} / result.Length:\n",
      "00:00:03 #49 [Debug] sendJson / port: 13805 / json: {\"BuildFile\":{\"backend\":\"Fsharp\",\"uri\":\"file:///tmp/!dotnet-repl/20240406-0213-2844-4487-42c2ba3da1d1/main.spi\"}} / result.Length:\n",
      "00:00:03 #50 [Verbose] > Building /tmp/!dotnet-repl/20240406-0213-2844-4487-42c2ba3da1d1/main.spi\n",
      "00:00:04 #51 [Debug] buildFile / takeWhileInclusive / fsxContent:  / errors: [] / typeErrorCount: 0\n",
      "00:00:04 #52 [Verbose] > Cannot find `main` in file main.\n",
      "00:00:04 #53 [Verbose] > Build skipped for /tmp/!dotnet-repl/20240406-0213-2844-4487-42c2ba3da1d1/main.spi\n",
      "00:00:05 #54 [Debug] buildFile / takeWhileInclusive / fsxContent:  / errors: [] / typeErrorCount: 0\n",
      "00:00:06 #55 [Debug] buildFile / takeWhileInclusive / fsxContent:  / errors: [] / typeErrorCount: 0\n",
      "00:00:07 #56 [Debug] buildFile / takeWhileInclusive / fsxContent:  / errors: [] / typeErrorCount: 0\n",
      "00:00:08 #57 [Debug] buildFile / takeWhileInclusive / fsxContent:  / errors: [] / typeErrorCount: 0\n",
      "00:00:09 #58 [Debug] buildFile / takeWhileInclusive / fsxContent:  / errors: [] / typeErrorCount: 0\n",
      "00:00:10 #59 [Debug] buildFile / takeWhileInclusive / fsxContent:  / errors: [] / typeErrorCount: 0\n",
      "00:00:11 #60 [Debug] buildFile / takeWhileInclusive / fsxContent:  / errors: [] / typeErrorCount: 0\n",
      "00:00:12 #61 [Debug] buildFile / takeWhileInclusive / fsxContent:  / errors: [] / typeErrorCount: 0\n",
      "00:00:12 #62 [Verbose] waitForPortAccess / port: 13805 / retry: 0\n",
      "00:00:12 #63 [Verbose] testPortOpen / ex: System.AggregateException: One or more errors occurred. (Connection refused)\n",
      "00:00:12 #64 [Debug] watchWithFilter / Disposing watch stream / filter: FileName, LastWrite\n",
      "00:00:12 #65 [Debug] runWithTimeoutChildAsync / timeout: 10000\n",
      "<null>\n"
     ]
    }
   ],
   "source": [
    "//// test\n",
    "\n",
    "\"\"\n",
    "|> buildCode 10000 None\n",
    "|> Async.runWithTimeout 10000\n",
    "|> _assertEqual None"
   ]
  },
  {
   "cell_type": "code",
   "execution_count": null,
   "metadata": {
    "dotnet_interactive": {
     "language": "fsharp"
    },
    "polyglot_notebook": {
     "kernelName": "fsharp"
    }
   },
   "outputs": [
    {
     "name": "stdout",
     "output_type": "stream",
     "text": [
      "00:00:12 #66 [Verbose] testPortOpen / ex: System.AggregateException: One or more errors occurred. (Connection refused)\n",
      "00:00:12 #67 [Debug] executeAsync / options: { Command =\n",
      "   \"dotnet \"/home/runner/work/polyglot/polyglot/deps/The-Spiral-Language/The Spiral Language 2/artifacts/bin/The Spiral Language 2/release/Spiral.dll\" --port 13805 --default-int i32 --default-float f64\"\n",
      "  WorkingDirectory = None\n",
      "  CancellationToken = Some System.Threading.CancellationToken\n",
      "  OnLine = Some <fun:buildCode@3-910> }\n",
      "00:00:12 #68 [Verbose] > pwd: /home/runner/work/polyglot/polyglot/apps/spiral\n",
      "00:00:12 #69 [Verbose] > dll_path: /home/runner/work/polyglot/polyglot/deps/The-Spiral-Language/The Spiral Language 2/artifacts/bin/The Spiral Language 2/release\n",
      "00:00:12 #70 [Verbose] testPortOpen / ex: System.AggregateException: One or more errors occurred. (Connection refused)\n",
      "00:00:12 #71 [Verbose] waitForPortAccess / port: 13805 / retry: 0\n",
      "00:00:12 #72 [Verbose] testPortOpen / ex: System.AggregateException: One or more errors occurred. (Connection refused)\n",
      "00:00:12 #73 [Verbose] testPortOpen / ex: System.AggregateException: One or more errors occurred. (Connection refused)\n",
      "00:00:12 #74 [Verbose] testPortOpen / ex: System.AggregateException: One or more errors occurred. (Connection refused)\n",
      "00:00:12 #75 [Verbose] testPortOpen / ex: System.AggregateException: One or more errors occurred. (Connection refused)\n",
      "00:00:12 #76 [Verbose] testPortOpen / ex: System.AggregateException: One or more errors occurred. (Connection refused)\n",
      "00:00:13 #77 [Verbose] testPortOpen / ex: System.AggregateException: One or more errors occurred. (Connection refused)\n",
      "00:00:13 #78 [Verbose] > Starting the Spiral Server. It is bound to: http://localhost:13805\n",
      "00:00:13 #79 [Verbose] testPortOpen / ex: System.AggregateException: One or more errors occurred. (Connection refused)\n",
      "00:00:13 #80 [Verbose] testPortOpen / ex: System.AggregateException: One or more errors occurred. (Connection refused)\n",
      "00:00:13 #81 [Debug] sendJson / port: 13805 / json: {\"Ping\":true} / result.Length:\n",
      "00:00:13 #82 [Verbose] awaitCompiler / Ping / result: Some(null) / port: 13805 / retry: 0\n",
      "00:00:13 #83 [Verbose] > Server bound to: http://localhost:13805\n",
      "00:00:13 #84 [Debug] buildFile / takeWhileInclusive / fsxContent:  / errors: [] / typeErrorCount: 0\n",
      "00:00:13 #85 [Debug] buildFile / takeWhileInclusive / fsxContent:  / errors: [] / typeErrorCount: 0\n",
      "00:00:13 #86 [Debug] sendJson / port: 13805 / json: {\"FileOpen\":{\"spiText\":\"inl app () =\\n    0i32\\n\\ninl a = 1\\n\\ninl main () =\\n    app\\n    |\\u003E dyn\\n    |\\u003E ignore\\n\",\"uri\":\"file:///tmp/!dotnet-repl/20240406-0213-3855-5563-5cacec3ac8b5/main.spi\"}} / result.Length:\n",
      "00:00:13 #87 [Debug] sendJson / port: 13805 / json: {\"BuildFile\":{\"backend\":\"Fsharp\",\"uri\":\"file:///tmp/!dotnet-repl/20240406-0213-3855-5563-5cacec3ac8b5/main.spi\"}} / result.Length:\n",
      "00:00:13 #88 [Verbose] > Building /tmp/!dotnet-repl/20240406-0213-3855-5563-5cacec3ac8b5/main.spi\n",
      "00:00:13 #89 [Debug] buildFile / takeWhileInclusive / fsxContent:  / errors: [\n",
      "  [\n",
      "    \"main.spi:\n",
      "Global inl/let statements should all return functions known at parse time.\",\n",
      "    {\n",
      "      \"ParserErrors\": {\n",
      "        \"errors\": [\n",
      "          [\n",
      "            [\n",
      "              {\n",
      "                \"character\": 0,\n",
      "                \"line\": 3\n",
      "              },\n",
      "              {\n",
      "                \"character\": 9,\n",
      "                \"line\": 3\n",
      "              }\n",
      "            ],\n",
      "            \"Global inl/let statements should all return functions known at parse time.\"\n",
      "          ]\n",
      "        ],\n",
      "        \"uri\": \"file:///tmp/!dotnet-repl/20240406-0213-3855-5563-5cacec3ac8b5/main.spi\"\n",
      "      }\n",
      "    }\n",
      "  ]\n",
      "] / typeErrorCount: 0\n",
      "00:00:13 #90 [Verbose] waitForPortAccess / port: 13805 / retry: 0\n",
      "00:00:13 #91 [Verbose] testPortOpen / ex: System.AggregateException: One or more errors occurred. (Connection refused)\n",
      "00:00:13 #92 [Debug] watchWithFilter / Disposing watch stream / filter: FileName, LastWrite\n",
      "FSharpOption<Tuple<FSharpOption<String>,FSharpList<String>>>\n",
      "      Value:       - <null>\n",
      "      - [ main.spi:\n",
      "Global inl/let statements should all return functions known at parse time. ]\n"
     ]
    }
   ],
   "source": [
    "//// test\n",
    "\n",
    "\"inl app () =\n",
    "    0i32\n",
    "\n",
    "inl a = 1\n",
    "\n",
    "inl main () =\n",
    "    app\n",
    "    |> dyn\n",
    "    |> ignore\n",
    "\"\n",
    "|> buildCode 10000 None\n",
    "|> Async.runWithTimeout 10000\n",
    "|> Option.map (fun (fsxContent, errors) -> fsxContent, errors |> List.map fst)\n",
    "|> _assertEqual (\n",
    "    Some (\n",
    "        None,\n",
    "        [ \"main.spi:\n",
    "Global inl/let statements should all return functions known at parse time.\" ]\n",
    "    )\n",
    ")"
   ]
  },
  {
   "cell_type": "code",
   "execution_count": null,
   "metadata": {
    "dotnet_interactive": {
     "language": "fsharp"
    },
    "polyglot_notebook": {
     "kernelName": "fsharp"
    }
   },
   "outputs": [
    {
     "name": "stdout",
     "output_type": "stream",
     "text": [
      "00:00:13 #93 [Verbose] testPortOpen / ex: System.AggregateException: One or more errors occurred. (Connection refused)\n",
      "00:00:13 #94 [Debug] executeAsync / options: { Command =\n",
      "   \"dotnet \"/home/runner/work/polyglot/polyglot/deps/The-Spiral-Language/The Spiral Language 2/artifacts/bin/The Spiral Language 2/release/Spiral.dll\" --port 13805 --default-int i32 --default-float f64\"\n",
      "  WorkingDirectory = None\n",
      "  CancellationToken = Some System.Threading.CancellationToken\n",
      "  OnLine = Some <fun:buildCode@3-910> }\n",
      "00:00:13 #95 [Verbose] > pwd: /home/runner/work/polyglot/polyglot/apps/spiral\n",
      "00:00:13 #96 [Verbose] testPortOpen / ex: System.AggregateException: One or more errors occurred. (Connection refused)\n",
      "00:00:13 #97 [Verbose] waitForPortAccess / port: 13805 / retry: 0\n",
      "00:00:13 #98 [Verbose] > dll_path: /home/runner/work/polyglot/polyglot/deps/The-Spiral-Language/The Spiral Language 2/artifacts/bin/The Spiral Language 2/release\n",
      "00:00:13 #99 [Verbose] testPortOpen / ex: System.AggregateException: One or more errors occurred. (Connection refused)\n",
      "00:00:13 #100 [Verbose] testPortOpen / ex: System.AggregateException: One or more errors occurred. (Connection refused)\n",
      "00:00:13 #101 [Verbose] testPortOpen / ex: System.AggregateException: One or more errors occurred. (Connection refused)\n",
      "00:00:14 #102 [Verbose] testPortOpen / ex: System.AggregateException: One or more errors occurred. (Connection refused)\n",
      "00:00:14 #103 [Verbose] testPortOpen / ex: System.AggregateException: One or more errors occurred. (Connection refused)\n",
      "00:00:14 #104 [Verbose] testPortOpen / ex: System.AggregateException: One or more errors occurred. (Connection refused)\n",
      "00:00:14 #105 [Verbose] > Starting the Spiral Server. It is bound to: http://localhost:13805\n",
      "00:00:14 #106 [Verbose] testPortOpen / ex: System.AggregateException: One or more errors occurred. (Connection refused)\n",
      "00:00:14 #107 [Verbose] testPortOpen / ex: System.AggregateException: One or more errors occurred. (Connection refused)\n",
      "00:00:14 #108 [Debug] sendJson / port: 13805 / json: {\"Ping\":true} / result.Length:\n",
      "00:00:14 #109 [Verbose] awaitCompiler / Ping / result: Some(null) / port: 13805 / retry: 0\n",
      "00:00:14 #110 [Verbose] > Server bound to: http://localhost:13805\n",
      "00:00:14 #111 [Debug] buildFile / takeWhileInclusive / fsxContent:  / errors: [] / typeErrorCount: 0\n",
      "00:00:14 #112 [Debug] buildFile / takeWhileInclusive / fsxContent:  / errors: [] / typeErrorCount: 0\n",
      "00:00:14 #113 [Debug] sendJson / port: 13805 / json: {\"FileOpen\":{\"spiText\":\"inl main () =\\n    1i32 / 0i32\\n\",\"uri\":\"file:///tmp/!dotnet-repl/20240406-0213-3957-5767-5a9df837333b/main.spi\"}} / result.Length:\n",
      "00:00:14 #114 [Debug] sendJson / port: 13805 / json: {\"BuildFile\":{\"backend\":\"Fsharp\",\"uri\":\"file:///tmp/!dotnet-repl/20240406-0213-3957-5767-5a9df837333b/main.spi\"}} / result.Length:\n",
      "00:00:14 #115 [Verbose] > Building /tmp/!dotnet-repl/20240406-0213-3957-5767-5a9df837333b/main.spi\n",
      "00:00:15 #116 [Debug] buildFile / takeWhileInclusive / fsxContent:  / errors: [] / typeErrorCount: 0\n",
      "00:00:15 #117 [Debug] buildFile / takeWhileInclusive / fsxContent:  / errors: [\n",
      "  [\n",
      "    \"An attempt to divide by zero has been detected at compile time.\",\n",
      "    {\n",
      "      \"TracedError\": {\n",
      "        \"message\": \"An attempt to divide by zero has been detected at compile time.\",\n",
      "        \"trace\": [\n",
      "          \"Error trace on line: 1, column: 10 in module: /tmp/!dotnet-repl/20240406-0213-3957-5767-5a9df837333b/main.spi.\n",
      "inl main () =\n",
      "         ^\n",
      "\",\n",
      "          \"Error trace on line: 2, column: 5 in module: /tmp/!dotnet-repl/20240406-0213-3957-5767-5a9df837333b/main.spi.\n",
      "    1i32 / 0i32\n",
      "    ^\n",
      "\"\n",
      "        ]\n",
      "      }\n",
      "    }\n",
      "  ]\n",
      "] / typeErrorCount: 0\n",
      "00:00:15 #118 [Verbose] waitForPortAccess / port: 13805 / retry: 0\n",
      "00:00:15 #119 [Verbose] testPortOpen / ex: System.AggregateException: One or more errors occurred. (Connection refused)\n",
      "00:00:15 #120 [Debug] watchWithFilter / Disposing watch stream / filter: FileName, LastWrite\n",
      "FSharpOption<Tuple<FSharpOption<String>,FSharpList<String>>>\n",
      "      Value:       - <null>\n",
      "      - [ An attempt to divide by zero has been detected at compile time. ]\n"
     ]
    }
   ],
   "source": [
    "//// test\n",
    "\n",
    "\"\"\"inl main () =\n",
    "    1i32 / 0i32\n",
    "\"\"\"\n",
    "|> buildCode 10000 None\n",
    "|> Async.runWithTimeout 10000\n",
    "|> Option.map (fun (fsxContent, errors) -> fsxContent, errors |> List.map fst)\n",
    "|> _assertEqual (\n",
    "    Some (\n",
    "        None,\n",
    "        [ \"An attempt to divide by zero has been detected at compile time.\" ]\n",
    "    )\n",
    ")"
   ]
  },
  {
   "cell_type": "code",
   "execution_count": null,
   "metadata": {
    "dotnet_interactive": {
     "language": "fsharp"
    },
    "polyglot_notebook": {
     "kernelName": "fsharp"
    }
   },
   "outputs": [
    {
     "name": "stdout",
     "output_type": "stream",
     "text": [
      "00:00:15 #121 [Verbose] testPortOpen / ex: System.AggregateException: One or more errors occurred. (Connection refused)\n",
      "00:00:15 #122 [Debug] executeAsync / options: { Command =\n",
      "   \"dotnet \"/home/runner/work/polyglot/polyglot/deps/The-Spiral-Language/The Spiral Language 2/artifacts/bin/The Spiral Language 2/release/Spiral.dll\" --port 13805 --default-int i32 --default-float f64\"\n",
      "  WorkingDirectory = None\n",
      "  CancellationToken = Some System.Threading.CancellationToken\n",
      "  OnLine = Some <fun:buildCode@3-910> }\n",
      "00:00:15 #123 [Verbose] > pwd: /home/runner/work/polyglot/polyglot/apps/spiral\n",
      "00:00:15 #124 [Verbose] > dll_path: /home/runner/work/polyglot/polyglot/deps/The-Spiral-Language/The Spiral Language 2/artifacts/bin/The Spiral Language 2/release\n",
      "00:00:15 #125 [Verbose] testPortOpen / ex: System.AggregateException: One or more errors occurred. (Connection refused)\n",
      "00:00:15 #126 [Verbose] waitForPortAccess / port: 13805 / retry: 0\n",
      "00:00:15 #127 [Verbose] testPortOpen / ex: System.AggregateException: One or more errors occurred. (Connection refused)\n",
      "00:00:15 #128 [Verbose] testPortOpen / ex: System.AggregateException: One or more errors occurred. (Connection refused)\n",
      "00:00:15 #129 [Verbose] testPortOpen / ex: System.AggregateException: One or more errors occurred. (Connection refused)\n",
      "00:00:16 #130 [Verbose] testPortOpen / ex: System.AggregateException: One or more errors occurred. (Connection refused)\n",
      "00:00:16 #131 [Verbose] testPortOpen / ex: System.AggregateException: One or more errors occurred. (Connection refused)\n",
      "00:00:16 #132 [Verbose] testPortOpen / ex: System.AggregateException: One or more errors occurred. (Connection refused)\n",
      "00:00:16 #133 [Verbose] > Starting the Spiral Server. It is bound to: http://localhost:13805\n",
      "00:00:16 #134 [Verbose] testPortOpen / ex: System.AggregateException: One or more errors occurred. (Connection refused)\n",
      "00:00:16 #135 [Verbose] testPortOpen / ex: System.AggregateException: One or more errors occurred. (Connection refused)\n",
      "00:00:16 #136 [Debug] sendJson / port: 13805 / json: {\"Ping\":true} / result.Length:\n",
      "00:00:16 #137 [Verbose] awaitCompiler / Ping / result: Some(null) / port: 13805 / retry: 0\n",
      "00:00:16 #138 [Verbose] > Server bound to: http://localhost:13805\n",
      "00:00:16 #139 [Debug] buildFile / takeWhileInclusive / fsxContent:  / errors: [] / typeErrorCount: 0\n",
      "00:00:16 #140 [Debug] buildFile / takeWhileInclusive / fsxContent:  / errors: [] / typeErrorCount: 0\n",
      "00:00:16 #141 [Debug] sendJson / port: 13805 / json: {\"FileOpen\":{\"spiText\":\"inl main () =\\n    1 \\u002B \\u0022\\u0022\\n\",\"uri\":\"file:///tmp/!dotnet-repl/20240406-0213-4158-5894-59798a1ccaac/main.spi\"}} / result.Length:\n",
      "00:00:16 #142 [Debug] sendJson / port: 13805 / json: {\"BuildFile\":{\"backend\":\"Fsharp\",\"uri\":\"file:///tmp/!dotnet-repl/20240406-0213-4158-5894-59798a1ccaac/main.spi\"}} / result.Length:\n",
      "00:00:16 #143 [Verbose] > Building /tmp/!dotnet-repl/20240406-0213-4158-5894-59798a1ccaac/main.spi\n",
      "00:00:17 #144 [Debug] buildFile / takeWhileInclusive / fsxContent:  / errors: [] / typeErrorCount: 0\n",
      "00:00:17 #145 [Debug] buildFile / takeWhileInclusive / fsxContent:  / errors: [] / typeErrorCount: 1\n",
      "00:00:17 #146 [Debug] buildFile / takeWhileInclusive / fsxContent:  / errors: [\n",
      "  [\n",
      "    \"main.spi:\n",
      "Constraint satisfaction error.\n",
      "Got: string\n",
      "Fails to satisfy: number\",\n",
      "    {\n",
      "      \"TypeErrors\": {\n",
      "        \"errors\": [\n",
      "          [\n",
      "            [\n",
      "              {\n",
      "                \"character\": 8,\n",
      "                \"line\": 1\n",
      "              },\n",
      "              {\n",
      "                \"character\": 10,\n",
      "                \"line\": 1\n",
      "              }\n",
      "            ],\n",
      "            \"Constraint satisfaction error.\n",
      "Got: string\n",
      "Fails to satisfy: number\"\n",
      "          ]\n",
      "        ],\n",
      "        \"uri\": \"file:///tmp/!dotnet-repl/20240406-0213-4158-5894-59798a1ccaac/main.spi\"\n",
      "      }\n",
      "    }\n",
      "  ]\n",
      "] / typeErrorCount: 1\n",
      "00:00:17 #147 [Verbose] waitForPortAccess / port: 13805 / retry: 0\n",
      "00:00:17 #148 [Verbose] testPortOpen / ex: System.AggregateException: One or more errors occurred. (Connection refused)\n",
      "00:00:17 #149 [Debug] watchWithFilter / Disposing watch stream / filter: FileName, LastWrite\n",
      "FSharpOption<Tuple<FSharpOption<String>,FSharpList<String>>>\n",
      "      Value:       - <null>\n",
      "      - [ main.spi:\n",
      "Constraint satisfaction error.\n",
      "Got: string\n",
      "Fails to satisfy: number ]\n"
     ]
    }
   ],
   "source": [
    "//// test\n",
    "\n",
    "\"\"\"inl main () =\n",
    "    1 + \"\"\n",
    "\"\"\"\n",
    "|> buildCode 10000 None\n",
    "|> Async.runWithTimeout 10000\n",
    "|> Option.map (fun (fsxContent, errors) -> fsxContent, errors |> List.map fst)\n",
    "|> _assertEqual (\n",
    "    Some (\n",
    "        None,\n",
    "        [\n",
    "            \"main.spi:\n",
    "Constraint satisfaction error.\n",
    "Got: string\n",
    "Fails to satisfy: number\"\n",
    "        ]\n",
    "    )\n",
    ")"
   ]
  },
  {
   "cell_type": "code",
   "execution_count": null,
   "metadata": {
    "dotnet_interactive": {
     "language": "fsharp"
    },
    "polyglot_notebook": {
     "kernelName": "fsharp"
    }
   },
   "outputs": [
    {
     "name": "stdout",
     "output_type": "stream",
     "text": [
      "00:00:17 #150 [Verbose] testPortOpen / ex: System.AggregateException: One or more errors occurred. (Connection refused)\n",
      "00:00:17 #151 [Debug] executeAsync / options: { Command =\n",
      "   \"dotnet \"/home/runner/work/polyglot/polyglot/deps/The-Spiral-Language/The Spiral Language 2/artifacts/bin/The Spiral Language 2/release/Spiral.dll\" --port 13805 --default-int i32 --default-float f64\"\n",
      "  WorkingDirectory = None\n",
      "  CancellationToken = Some System.Threading.CancellationToken\n",
      "  OnLine = Some <fun:buildCode@3-910> }\n",
      "00:00:17 #152 [Verbose] > pwd: /home/runner/work/polyglot/polyglot/apps/spiral\n",
      "00:00:17 #153 [Verbose] testPortOpen / ex: System.AggregateException: One or more errors occurred. (Connection refused)\n",
      "00:00:17 #154 [Verbose] waitForPortAccess / port: 13805 / retry: 0\n",
      "00:00:17 #155 [Verbose] > dll_path: /home/runner/work/polyglot/polyglot/deps/The-Spiral-Language/The Spiral Language 2/artifacts/bin/The Spiral Language 2/release\n",
      "00:00:17 #156 [Verbose] testPortOpen / ex: System.AggregateException: One or more errors occurred. (Connection refused)\n",
      "00:00:17 #157 [Verbose] testPortOpen / ex: System.AggregateException: One or more errors occurred. (Connection refused)\n",
      "00:00:17 #158 [Verbose] testPortOpen / ex: System.AggregateException: One or more errors occurred. (Connection refused)\n",
      "00:00:17 #159 [Verbose] testPortOpen / ex: System.AggregateException: One or more errors occurred. (Connection refused)\n",
      "00:00:17 #160 [Verbose] testPortOpen / ex: System.AggregateException: One or more errors occurred. (Connection refused)\n",
      "00:00:17 #161 [Verbose] testPortOpen / ex: System.AggregateException: One or more errors occurred. (Connection refused)\n",
      "00:00:17 #162 [Verbose] > Starting the Spiral Server. It is bound to: http://localhost:13805\n",
      "00:00:17 #163 [Verbose] testPortOpen / ex: System.AggregateException: One or more errors occurred. (Connection refused)\n",
      "00:00:17 #164 [Verbose] testPortOpen / ex: System.AggregateException: One or more errors occurred. (Connection refused)\n",
      "00:00:17 #165 [Debug] sendJson / port: 13805 / json: {\"Ping\":true} / result.Length:\n",
      "00:00:17 #166 [Verbose] awaitCompiler / Ping / result: Some(null) / port: 13805 / retry: 0\n",
      "00:00:17 #167 [Verbose] > Server bound to: http://localhost:13805\n",
      "00:00:17 #168 [Debug] buildFile / takeWhileInclusive / fsxContent:  / errors: [] / typeErrorCount: 0\n",
      "00:00:17 #169 [Debug] buildFile / takeWhileInclusive / fsxContent:  / errors: [] / typeErrorCount: 0\n",
      "00:00:17 #170 [Debug] sendJson / port: 13805 / json: {\"FileOpen\":{\"spiText\":\"inl main () =\\n    x \\u002B y\\n\",\"uri\":\"file:///tmp/!dotnet-repl/20240406-0213-4337-3734-30fbcf85195e/main.spi\"}} / result.Length:\n",
      "00:00:18 #171 [Debug] sendJson / port: 13805 / json: {\"BuildFile\":{\"backend\":\"Fsharp\",\"uri\":\"file:///tmp/!dotnet-repl/20240406-0213-4337-3734-30fbcf85195e/main.spi\"}} / result.Length:\n",
      "00:00:18 #172 [Verbose] > Building /tmp/!dotnet-repl/20240406-0213-4337-3734-30fbcf85195e/main.spi\n",
      "00:00:18 #173 [Debug] buildFile / takeWhileInclusive / fsxContent:  / errors: [] / typeErrorCount: 0\n",
      "00:00:19 #174 [Debug] buildFile / takeWhileInclusive / fsxContent:  / errors: [] / typeErrorCount: 1\n",
      "00:00:19 #175 [Debug] buildFile / takeWhileInclusive / fsxContent:  / errors: [\n",
      "  [\n",
      "    \"main.spi:\n",
      "Unbound variable: x.\n",
      "Unbound variable: y.\",\n",
      "    {\n",
      "      \"TypeErrors\": {\n",
      "        \"errors\": [\n",
      "          [\n",
      "            [\n",
      "              {\n",
      "                \"character\": 4,\n",
      "                \"line\": 1\n",
      "              },\n",
      "              {\n",
      "                \"character\": 5,\n",
      "                \"line\": 1\n",
      "              }\n",
      "            ],\n",
      "            \"Unbound variable: x.\"\n",
      "          ],\n",
      "          [\n",
      "            [\n",
      "              {\n",
      "                \"character\": 8,\n",
      "                \"line\": 1\n",
      "              },\n",
      "              {\n",
      "                \"character\": 9,\n",
      "                \"line\": 1\n",
      "              }\n",
      "            ],\n",
      "            \"Unbound variable: y.\"\n",
      "          ]\n",
      "        ],\n",
      "        \"uri\": \"file:///tmp/!dotnet-repl/20240406-0213-4337-3734-30fbcf85195e/main.spi\"\n",
      "      }\n",
      "    }\n",
      "  ]\n",
      "] / typeErrorCount: 1\n",
      "00:00:19 #176 [Verbose] waitForPortAccess / port: 13805 / retry: 0\n",
      "00:00:19 #177 [Verbose] testPortOpen / ex: System.AggregateException: One or more errors occurred. (Connection refused)\n",
      "00:00:19 #178 [Debug] watchWithFilter / Disposing watch stream / filter: FileName, LastWrite\n",
      "FSharpOption<Tuple<FSharpOption<String>,FSharpList<String>>>\n",
      "      Value:       - <null>\n",
      "      - [ main.spi:\n",
      "Unbound variable: x.\n",
      "Unbound variable: y. ]\n"
     ]
    }
   ],
   "source": [
    "//// test\n",
    "\n",
    "\"\"\"inl main () =\n",
    "    x + y\n",
    "\"\"\"\n",
    "|> buildCode 10000 None\n",
    "|> Async.runWithTimeout 10000\n",
    "|> Option.map (fun (fsxContent, errors) -> fsxContent, errors |> List.map fst)\n",
    "|> _assertEqual (\n",
    "    Some (\n",
    "        None,\n",
    "        [\n",
    "            \"main.spi:\n",
    "Unbound variable: x.\n",
    "Unbound variable: y.\"\n",
    "        ]\n",
    "    )\n",
    ")"
   ]
  },
  {
   "cell_type": "code",
   "execution_count": null,
   "metadata": {
    "dotnet_interactive": {
     "language": "fsharp"
    },
    "polyglot_notebook": {
     "kernelName": "fsharp"
    }
   },
   "outputs": [
    {
     "name": "stdout",
     "output_type": "stream",
     "text": [
      "00:00:19 #179 [Verbose] testPortOpen / ex: System.AggregateException: One or more errors occurred. (Connection refused)\n",
      "00:00:19 #180 [Debug] executeAsync / options: { Command =\n",
      "   \"dotnet \"/home/runner/work/polyglot/polyglot/deps/The-Spiral-Language/The Spiral Language 2/artifacts/bin/The Spiral Language 2/release/Spiral.dll\" --port 13805 --default-int i32 --default-float f64\"\n",
      "  WorkingDirectory = None\n",
      "  CancellationToken = Some System.Threading.CancellationToken\n",
      "  OnLine = Some <fun:buildCode@3-910> }\n",
      "00:00:19 #181 [Verbose] > pwd: /home/runner/work/polyglot/polyglot/apps/spiral\n",
      "00:00:19 #182 [Verbose] testPortOpen / ex: System.AggregateException: One or more errors occurred. (Connection refused)\n",
      "00:00:19 #183 [Verbose] > dll_path: /home/runner/work/polyglot/polyglot/deps/The-Spiral-Language/The Spiral Language 2/artifacts/bin/The Spiral Language 2/release\n",
      "00:00:19 #184 [Verbose] waitForPortAccess / port: 13805 / retry: 0\n",
      "00:00:19 #185 [Verbose] testPortOpen / ex: System.AggregateException: One or more errors occurred. (Connection refused)\n",
      "00:00:19 #186 [Verbose] testPortOpen / ex: System.AggregateException: One or more errors occurred. (Connection refused)\n",
      "00:00:19 #187 [Verbose] testPortOpen / ex: System.AggregateException: One or more errors occurred. (Connection refused)\n",
      "00:00:19 #188 [Verbose] testPortOpen / ex: System.AggregateException: One or more errors occurred. (Connection refused)\n",
      "00:00:19 #189 [Verbose] testPortOpen / ex: System.AggregateException: One or more errors occurred. (Connection refused)\n",
      "00:00:19 #190 [Verbose] testPortOpen / ex: System.AggregateException: One or more errors occurred. (Connection refused)\n",
      "00:00:19 #191 [Verbose] > Starting the Spiral Server. It is bound to: http://localhost:13805\n",
      "00:00:19 #192 [Verbose] testPortOpen / ex: System.AggregateException: One or more errors occurred. (Connection refused)\n",
      "00:00:19 #193 [Verbose] testPortOpen / ex: System.AggregateException: One or more errors occurred. (Connection refused)\n",
      "00:00:19 #194 [Debug] sendJson / port: 13805 / json: {\"Ping\":true} / result.Length:\n",
      "00:00:19 #195 [Verbose] awaitCompiler / Ping / result: Some(null) / port: 13805 / retry: 0\n",
      "00:00:19 #196 [Verbose] > Server bound to: http://localhost:13805\n",
      "00:00:19 #197 [Debug] buildFile / takeWhileInclusive / fsxContent:  / errors: [] / typeErrorCount: 0\n",
      "00:00:19 #198 [Debug] buildFile / takeWhileInclusive / fsxContent:  / errors: [] / typeErrorCount: 0\n",
      "00:00:19 #199 [Debug] sendJson / port: 13805 / json: {\"FileOpen\":{\"spiText\":\"union a =\\n    | B\\n    | c\\n\\ninl main () =\\n    ()\\n\",\"uri\":\"file:///tmp/!dotnet-repl/20240406-0213-4509-0974-0c1e653cf641/main.spi\"}} / result.Length:\n",
      "00:00:19 #200 [Debug] sendJson / port: 13805 / json: {\"BuildFile\":{\"backend\":\"Fsharp\",\"uri\":\"file:///tmp/!dotnet-repl/20240406-0213-4509-0974-0c1e653cf641/main.spi\"}} / result.Length:\n",
      "00:00:19 #201 [Verbose] > Building /tmp/!dotnet-repl/20240406-0213-4509-0974-0c1e653cf641/main.spi\n",
      "00:00:20 #202 [Debug] buildFile / takeWhileInclusive / fsxContent:  / errors: [\n",
      "  [\n",
      "    \"main.spi:\n",
      "Expected: uppercase variable\",\n",
      "    {\n",
      "      \"ParserErrors\": {\n",
      "        \"errors\": [\n",
      "          [\n",
      "            [\n",
      "              {\n",
      "                \"character\": 6,\n",
      "                \"line\": 2\n",
      "              },\n",
      "              {\n",
      "                \"character\": 7,\n",
      "                \"line\": 2\n",
      "              }\n",
      "            ],\n",
      "            \"Expected: uppercase variable\"\n",
      "          ]\n",
      "        ],\n",
      "        \"uri\": \"file:///tmp/!dotnet-repl/20240406-0213-4509-0974-0c1e653cf641/main.spi\"\n",
      "      }\n",
      "    }\n",
      "  ]\n",
      "] / typeErrorCount: 0\n",
      "00:00:20 #203 [Verbose] waitForPortAccess / port: 13805 / retry: 0\n",
      "00:00:20 #204 [Verbose] testPortOpen / ex: System.AggregateException: One or more errors occurred. (Connection refused)\n",
      "00:00:20 #205 [Debug] watchWithFilter / Disposing watch stream / filter: FileName, LastWrite\n",
      "FSharpOption<Tuple<FSharpOption<String>,FSharpList<String>>>\n",
      "      Value:       - <null>\n",
      "      - [ main.spi:\n",
      "Expected: uppercase variable ]\n"
     ]
    }
   ],
   "source": [
    "//// test\n",
    "\n",
    "\"\"\"union a =\n",
    "    | B\n",
    "    | c\n",
    "\n",
    "inl main () =\n",
    "    ()\n",
    "\"\"\"\n",
    "|> buildCode 10000 None\n",
    "|> Async.runWithTimeout 10000\n",
    "|> Option.map (fun (fsxContent, errors) -> fsxContent, errors |> List.map fst)\n",
    "|> _assertEqual (\n",
    "    Some (\n",
    "        None,\n",
    "        [ \"main.spi:\n",
    "Expected: uppercase variable\" ]\n",
    "    )\n",
    ")"
   ]
  },
  {
   "cell_type": "code",
   "execution_count": null,
   "metadata": {
    "dotnet_interactive": {
     "language": "fsharp"
    },
    "polyglot_notebook": {
     "kernelName": "fsharp"
    }
   },
   "outputs": [
    {
     "name": "stdout",
     "output_type": "stream",
     "text": [
      "00:00:20 #206 [Verbose] testPortOpen / ex: System.AggregateException: One or more errors occurred. (Connection refused)\n",
      "00:00:20 #207 [Debug] executeAsync / options: { Command =\n",
      "   \"dotnet \"/home/runner/work/polyglot/polyglot/deps/The-Spiral-Language/The Spiral Language 2/artifacts/bin/The Spiral Language 2/release/Spiral.dll\" --port 13805 --default-int i32 --default-float f64\"\n",
      "  WorkingDirectory = None\n",
      "  CancellationToken = Some System.Threading.CancellationToken\n",
      "  OnLine = Some <fun:buildCode@3-910> }\n",
      "00:00:20 #208 [Verbose] > pwd: /home/runner/work/polyglot/polyglot/apps/spiral\n",
      "00:00:20 #209 [Verbose] testPortOpen / ex: System.AggregateException: One or more errors occurred. (Connection refused)\n",
      "00:00:20 #210 [Verbose] > dll_path: /home/runner/work/polyglot/polyglot/deps/The-Spiral-Language/The Spiral Language 2/artifacts/bin/The Spiral Language 2/release\n",
      "00:00:20 #211 [Verbose] waitForPortAccess / port: 13805 / retry: 0\n",
      "00:00:20 #212 [Verbose] testPortOpen / ex: System.AggregateException: One or more errors occurred. (Connection refused)\n",
      "00:00:20 #213 [Verbose] testPortOpen / ex: System.AggregateException: One or more errors occurred. (Connection refused)\n",
      "00:00:20 #214 [Verbose] testPortOpen / ex: System.AggregateException: One or more errors occurred. (Connection refused)\n",
      "00:00:20 #215 [Verbose] testPortOpen / ex: System.AggregateException: One or more errors occurred. (Connection refused)\n",
      "00:00:20 #216 [Verbose] testPortOpen / ex: System.AggregateException: One or more errors occurred. (Connection refused)\n",
      "00:00:20 #217 [Verbose] testPortOpen / ex: System.AggregateException: One or more errors occurred. (Connection refused)\n",
      "00:00:20 #218 [Verbose] > Starting the Spiral Server. It is bound to: http://localhost:13805\n",
      "00:00:20 #219 [Verbose] testPortOpen / ex: System.AggregateException: One or more errors occurred. (Connection refused)\n",
      "00:00:20 #220 [Verbose] testPortOpen / ex: System.AggregateException: One or more errors occurred. (Connection refused)\n",
      "00:00:20 #221 [Debug] sendJson / port: 13805 / json: {\"Ping\":true} / result.Length:\n",
      "00:00:20 #222 [Verbose] awaitCompiler / Ping / result: Some(null) / port: 13805 / retry: 0\n",
      "00:00:20 #223 [Verbose] > Server bound to: http://localhost:13805\n",
      "00:00:20 #224 [Debug] buildFile / takeWhileInclusive / fsxContent:  / errors: [] / typeErrorCount: 0\n",
      "00:00:20 #225 [Debug] buildFile / takeWhileInclusive / fsxContent:  / errors: [] / typeErrorCount: 0\n",
      "00:00:20 #226 [Debug] sendJson / port: 13805 / json: {\"FileOpen\":{\"spiText\":\"\\n/// abc\\ninl main () =\\n    ()\\n\",\"uri\":\"file:///tmp/!dotnet-repl/20240406-0213-4605-0506-05c9627aed7b/main.spi\"}} / result.Length:\n",
      "00:00:20 #227 [Debug] sendJson / port: 13805 / json: {\"BuildFile\":{\"backend\":\"Fsharp\",\"uri\":\"file:///tmp/!dotnet-repl/20240406-0213-4605-0506-05c9627aed7b/main.spi\"}} / result.Length:\n",
      "00:00:20 #228 [Debug] buildFile / takeWhileInclusive / fsxContent:  / errors: [\n",
      "  [\n",
      "    \"main.spi:\n",
      "Expected: whitespace\",\n",
      "    {\n",
      "      \"TokenizerErrors\": {\n",
      "        \"errors\": [\n",
      "          [\n",
      "            [\n",
      "              {\n",
      "                \"character\": 2,\n",
      "                \"line\": 1\n",
      "              },\n",
      "              {\n",
      "                \"character\": 3,\n",
      "                \"line\": 1\n",
      "              }\n",
      "            ],\n",
      "            \"Expected: whitespace\"\n",
      "          ]\n",
      "        ],\n",
      "        \"uri\": \"file:///tmp/!dotnet-repl/20240406-0213-4605-0506-05c9627aed7b/main.spi\"\n",
      "      }\n",
      "    }\n",
      "  ]\n",
      "] / typeErrorCount: 0\n",
      "00:00:20 #229 [Verbose] waitForPortAccess / port: 13805 / retry: 0\n",
      "00:00:20 #230 [Verbose] testPortOpen / ex: System.AggregateException: One or more errors occurred. (Connection refused)\n",
      "00:00:20 #231 [Debug] watchWithFilter / Disposing watch stream / filter: FileName, LastWrite\n",
      "FSharpOption<Tuple<FSharpOption<String>,FSharpList<String>>>\n",
      "      Value:       - <null>\n",
      "      - [ main.spi:\n",
      "Expected: whitespace ]\n"
     ]
    }
   ],
   "source": [
    "//// test\n",
    "\n",
    "\"\"\"\n",
    "/// abc\n",
    "inl main () =\n",
    "    ()\n",
    "\"\"\"\n",
    "|> buildCode 10000 None\n",
    "|> Async.runWithTimeout 10000\n",
    "|> Option.map (fun (fsxContent, errors) -> fsxContent, errors |> List.map fst)\n",
    "|> _assertEqual (\n",
    "    Some (\n",
    "        None,\n",
    "        [ \"main.spi:\n",
    "Expected: whitespace\" ]\n",
    "    )\n",
    ")"
   ]
  },
  {
   "cell_type": "code",
   "execution_count": null,
   "metadata": {
    "dotnet_interactive": {
     "language": "fsharp"
    },
    "polyglot_notebook": {
     "kernelName": "fsharp"
    }
   },
   "outputs": [
    {
     "name": "stdout",
     "output_type": "stream",
     "text": [
      "00:00:21 #232 [Verbose] testPortOpen / ex: System.AggregateException: One or more errors occurred. (Connection refused)\n",
      "00:00:21 #233 [Debug] executeAsync / options: { Command =\n",
      "   \"dotnet \"/home/runner/work/polyglot/polyglot/deps/The-Spiral-Language/The Spiral Language 2/artifacts/bin/The Spiral Language 2/release/Spiral.dll\" --port 13805 --default-int i32 --default-float f64\"\n",
      "  WorkingDirectory = None\n",
      "  CancellationToken = Some System.Threading.CancellationToken\n",
      "  OnLine = Some <fun:buildCode@3-910> }\n",
      "00:00:21 #234 [Verbose] > pwd: /home/runner/work/polyglot/polyglot/apps/spiral\n",
      "00:00:21 #235 [Verbose] testPortOpen / ex: System.AggregateException: One or more errors occurred. (Connection refused)\n",
      "00:00:21 #236 [Verbose] > dll_path: /home/runner/work/polyglot/polyglot/deps/The-Spiral-Language/The Spiral Language 2/artifacts/bin/The Spiral Language 2/release\n",
      "00:00:21 #237 [Verbose] waitForPortAccess / port: 13805 / retry: 0\n",
      "00:00:21 #238 [Verbose] testPortOpen / ex: System.AggregateException: One or more errors occurred. (Connection refused)\n",
      "00:00:21 #239 [Verbose] testPortOpen / ex: System.AggregateException: One or more errors occurred. (Connection refused)\n",
      "00:00:21 #240 [Verbose] testPortOpen / ex: System.AggregateException: One or more errors occurred. (Connection refused)\n",
      "00:00:21 #241 [Verbose] testPortOpen / ex: System.AggregateException: One or more errors occurred. (Connection refused)\n",
      "00:00:21 #242 [Verbose] testPortOpen / ex: System.AggregateException: One or more errors occurred. (Connection refused)\n",
      "00:00:21 #243 [Verbose] testPortOpen / ex: System.AggregateException: One or more errors occurred. (Connection refused)\n",
      "00:00:21 #244 [Verbose] > Starting the Spiral Server. It is bound to: http://localhost:13805\n",
      "00:00:21 #245 [Verbose] testPortOpen / ex: System.AggregateException: One or more errors occurred. (Connection refused)\n",
      "00:00:21 #246 [Verbose] testPortOpen / ex: System.AggregateException: One or more errors occurred. (Connection refused)\n",
      "00:00:21 #247 [Debug] sendJson / port: 13805 / json: {\"Ping\":true} / result.Length:\n",
      "00:00:21 #248 [Verbose] awaitCompiler / Ping / result: Some(null) / port: 13805 / retry: 0\n",
      "00:00:21 #249 [Verbose] > Server bound to: http://localhost:13805\n",
      "00:00:21 #250 [Debug] buildFile / takeWhileInclusive / fsxContent:  / errors: [] / typeErrorCount: 0\n",
      "00:00:21 #251 [Debug] buildFile / takeWhileInclusive / fsxContent:  / errors: [] / typeErrorCount: 0\n",
      "00:00:21 #252 [Debug] sendJson / port: 13805 / json: {\"FileOpen\":{\"spiText\":\"\\ninl main () =\\n    real\\n        inl real_unbox forall a. (obj : a) : a =\\n            typecase obj with\\n            | _ =\\u003E obj\\n        real_unbox ()\\n    ()\\n\",\"uri\":\"file:///tmp/!dotnet-repl/20240406-0213-4690-9065-96570e87c6a9/main.spi\"}} / result.Length:\n",
      "00:00:21 #253 [Debug] sendJson / port: 13805 / json: {\"BuildFile\":{\"backend\":\"Fsharp\",\"uri\":\"file:///tmp/!dotnet-repl/20240406-0213-4690-9065-96570e87c6a9/main.spi\"}} / result.Length:\n",
      "00:00:21 #254 [Verbose] > Building /tmp/!dotnet-repl/20240406-0213-4690-9065-96570e87c6a9/main.spi\n",
      "00:00:22 #255 [Debug] buildFile / takeWhileInclusive / fsxContent:  / errors: [] / typeErrorCount: 0\n",
      "00:00:22 #256 [Debug] buildFile / takeWhileInclusive / fsxContent:  / errors: [\n",
      "  [\n",
      "    \"Cannot apply a forall with a term.\",\n",
      "    {\n",
      "      \"TracedError\": {\n",
      "        \"message\": \"Cannot apply a forall with a term.\",\n",
      "        \"trace\": [\n",
      "          \"Error trace on line: 2, column: 10 in module: /tmp/!dotnet-repl/20240406-0213-4690-9065-96570e87c6a9/main.spi.\n",
      "inl main () =\n",
      "         ^\n",
      "\",\n",
      "          \"Error trace on line: 4, column: 9 in module: /tmp/!dotnet-repl/20240406-0213-4690-9065-96570e87c6a9/main.spi.\n",
      "        inl real_unbox forall a. (obj : a) : a =\n",
      "        ^\n",
      "\",\n",
      "          \"Error trace on line: 7, column: 9 in module: /tmp/!dotnet-repl/20240406-0213-4690-9065-96570e87c6a9/main.spi.\n",
      "        real_unbox ()\n",
      "        ^\n",
      "\"\n",
      "        ]\n",
      "      }\n",
      "    }\n",
      "  ]\n",
      "] / typeErrorCount: 0\n",
      "00:00:22 #257 [Verbose] waitForPortAccess / port: 13805 / retry: 0\n",
      "00:00:23 #258 [Verbose] testPortOpen / ex: System.AggregateException: One or more errors occurred. (Connection refused)\n",
      "00:00:23 #259 [Debug] watchWithFilter / Disposing watch stream / filter: FileName, LastWrite\n",
      "FSharpOption<Tuple<FSharpOption<String>,FSharpList<String>>>\n",
      "      Value:       - <null>\n",
      "      - [ Cannot apply a forall with a term. ]\n"
     ]
    }
   ],
   "source": [
    "//// test\n",
    "\n",
    "\"\"\"\n",
    "inl main () =\n",
    "    real\n",
    "        inl real_unbox forall a. (obj : a) : a =\n",
    "            typecase obj with\n",
    "            | _ => obj\n",
    "        real_unbox ()\n",
    "    ()\n",
    "\"\"\"\n",
    "|> buildCode 10000 None\n",
    "|> Async.runWithTimeout 10000\n",
    "|> Option.map (fun (fsxContent, errors) -> fsxContent, errors |> List.map fst)\n",
    "|> _assertEqual (\n",
    "    Some (\n",
    "        None,\n",
    "        [ \"Cannot apply a forall with a term.\" ]\n",
    "    )\n",
    ")"
   ]
  },
  {
   "cell_type": "code",
   "execution_count": null,
   "metadata": {
    "dotnet_interactive": {
     "language": "fsharp"
    },
    "polyglot_notebook": {
     "kernelName": "fsharp"
    }
   },
   "outputs": [
    {
     "name": "stdout",
     "output_type": "stream",
     "text": [
      "00:00:23 #260 [Verbose] testPortOpen / ex: System.AggregateException: One or more errors occurred. (Connection refused)\n",
      "00:00:23 #261 [Debug] executeAsync / options: { Command =\n",
      "   \"dotnet \"/home/runner/work/polyglot/polyglot/deps/The-Spiral-Language/The Spiral Language 2/artifacts/bin/The Spiral Language 2/release/Spiral.dll\" --port 13805 --default-int i32 --default-float f64\"\n",
      "  WorkingDirectory = None\n",
      "  CancellationToken = Some System.Threading.CancellationToken\n",
      "  OnLine = Some <fun:buildCode@3-910> }\n",
      "00:00:23 #262 [Verbose] > pwd: /home/runner/work/polyglot/polyglot/apps/spiral\n",
      "00:00:23 #263 [Verbose] testPortOpen / ex: System.AggregateException: One or more errors occurred. (Connection refused)\n",
      "00:00:23 #264 [Verbose] > dll_path: /home/runner/work/polyglot/polyglot/deps/The-Spiral-Language/The Spiral Language 2/artifacts/bin/The Spiral Language 2/release\n",
      "00:00:23 #265 [Verbose] waitForPortAccess / port: 13805 / retry: 0\n",
      "00:00:23 #266 [Verbose] testPortOpen / ex: System.AggregateException: One or more errors occurred. (Connection refused)\n",
      "00:00:23 #267 [Verbose] testPortOpen / ex: System.AggregateException: One or more errors occurred. (Connection refused)\n",
      "00:00:23 #268 [Verbose] testPortOpen / ex: System.AggregateException: One or more errors occurred. (Connection refused)\n",
      "00:00:23 #269 [Verbose] testPortOpen / ex: System.AggregateException: One or more errors occurred. (Connection refused)\n",
      "00:00:23 #270 [Verbose] testPortOpen / ex: System.AggregateException: One or more errors occurred. (Connection refused)\n",
      "00:00:23 #271 [Verbose] testPortOpen / ex: System.AggregateException: One or more errors occurred. (Connection refused)\n",
      "00:00:23 #272 [Verbose] > Starting the Spiral Server. It is bound to: http://localhost:13805\n",
      "00:00:23 #273 [Verbose] testPortOpen / ex: System.AggregateException: One or more errors occurred. (Connection refused)\n",
      "00:00:23 #274 [Verbose] testPortOpen / ex: System.AggregateException: One or more errors occurred. (Connection refused)\n",
      "00:00:23 #275 [Debug] sendJson / port: 13805 / json: {\"Ping\":true} / result.Length:\n",
      "00:00:23 #276 [Verbose] awaitCompiler / Ping / result: Some(null) / port: 13805 / retry: 0\n",
      "00:00:23 #277 [Verbose] > Server bound to: http://localhost:13805\n",
      "00:00:23 #278 [Debug] buildFile / takeWhileInclusive / fsxContent:  / errors: [] / typeErrorCount: 0\n",
      "00:00:23 #279 [Debug] buildFile / takeWhileInclusive / fsxContent:  / errors: [] / typeErrorCount: 0\n",
      "00:00:23 #280 [Debug] sendJson / port: 13805 / json: {\"FileOpen\":{\"spiText\":\"\\ninl main () =\\n    real\\n        inl real_unbox forall a. (obj : a) : a =\\n            typecase obj with\\n            | _ =\\u003E obj\\n        real_unbox \\u0060i32 1\\n\",\"uri\":\"file:///tmp/!dotnet-repl/20240406-0213-4893-9303-9a1bcad1b08c/main.spi\"}} / result.Length:\n",
      "00:00:23 #281 [Debug] sendJson / port: 13805 / json: {\"BuildFile\":{\"backend\":\"Fsharp\",\"uri\":\"file:///tmp/!dotnet-repl/20240406-0213-4893-9303-9a1bcad1b08c/main.spi\"}} / result.Length:\n",
      "00:00:23 #282 [Verbose] > Building /tmp/!dotnet-repl/20240406-0213-4893-9303-9a1bcad1b08c/main.spi\n",
      "00:00:24 #283 [Debug] buildFile / takeWhileInclusive / fsxContent:  / errors: [] / typeErrorCount: 0\n",
      "00:00:24 #284 [Debug] buildFile / takeWhileInclusive / fsxContent:  / errors: [\n",
      "  [\n",
      "    \"The main function should not have a forall.\",\n",
      "    {\n",
      "      \"TracedError\": {\n",
      "        \"message\": \"The main function should not have a forall.\",\n",
      "        \"trace\": []\n",
      "      }\n",
      "    }\n",
      "  ]\n",
      "] / typeErrorCount: 0\n",
      "00:00:24 #285 [Verbose] waitForPortAccess / port: 13805 / retry: 0\n",
      "00:00:24 #286 [Verbose] testPortOpen / ex: System.AggregateException: One or more errors occurred. (Connection refused)\n",
      "00:00:24 #287 [Debug] watchWithFilter / Disposing watch stream / filter: FileName, LastWrite\n",
      "FSharpOption<Tuple<FSharpOption<String>,FSharpList<String>>>\n",
      "      Value:       - <null>\n",
      "      - [ The main function should not have a forall. ]\n"
     ]
    }
   ],
   "source": [
    "//// test\n",
    "\n",
    "\"\"\"\n",
    "inl main () =\n",
    "    real\n",
    "        inl real_unbox forall a. (obj : a) : a =\n",
    "            typecase obj with\n",
    "            | _ => obj\n",
    "        real_unbox `i32 1\n",
    "\"\"\"\n",
    "|> buildCode 10000 None\n",
    "|> Async.runWithTimeout 10000\n",
    "|> Option.map (fun (fsxContent, errors) -> fsxContent, errors |> List.map fst)\n",
    "|> _assertEqual (\n",
    "    Some (\n",
    "        None,\n",
    "        [ \"The main function should not have a forall.\" ]\n",
    "    )\n",
    ")"
   ]
  },
  {
   "cell_type": "code",
   "execution_count": null,
   "metadata": {
    "dotnet_interactive": {
     "language": "fsharp"
    },
    "polyglot_notebook": {
     "kernelName": "fsharp"
    }
   },
   "outputs": [
    {
     "name": "stdout",
     "output_type": "stream",
     "text": [
      "00:00:24 #288 [Verbose] testPortOpen / ex: System.AggregateException: One or more errors occurred. (Connection refused)\n",
      "00:00:24 #289 [Debug] executeAsync / options: { Command =\n",
      "   \"dotnet \"/home/runner/work/polyglot/polyglot/deps/The-Spiral-Language/The Spiral Language 2/artifacts/bin/The Spiral Language 2/release/Spiral.dll\" --port 13805 --default-int i32 --default-float f64\"\n",
      "  WorkingDirectory = None\n",
      "  CancellationToken = Some System.Threading.CancellationToken\n",
      "  OnLine = Some <fun:buildCode@3-910> }\n",
      "00:00:25 #290 [Verbose] > pwd: /home/runner/work/polyglot/polyglot/apps/spiral\n",
      "00:00:25 #291 [Verbose] testPortOpen / ex: System.AggregateException: One or more errors occurred. (Connection refused)\n",
      "00:00:25 #292 [Verbose] waitForPortAccess / port: 13805 / retry: 0\n",
      "00:00:25 #293 [Verbose] > dll_path: /home/runner/work/polyglot/polyglot/deps/The-Spiral-Language/The Spiral Language 2/artifacts/bin/The Spiral Language 2/release\n",
      "00:00:25 #294 [Verbose] testPortOpen / ex: System.AggregateException: One or more errors occurred. (Connection refused)\n",
      "00:00:25 #295 [Verbose] testPortOpen / ex: System.AggregateException: One or more errors occurred. (Connection refused)\n",
      "00:00:25 #296 [Verbose] testPortOpen / ex: System.AggregateException: One or more errors occurred. (Connection refused)\n",
      "00:00:25 #297 [Verbose] testPortOpen / ex: System.AggregateException: One or more errors occurred. (Connection refused)\n",
      "00:00:25 #298 [Verbose] testPortOpen / ex: System.AggregateException: One or more errors occurred. (Connection refused)\n",
      "00:00:25 #299 [Verbose] testPortOpen / ex: System.AggregateException: One or more errors occurred. (Connection refused)\n",
      "00:00:25 #300 [Verbose] > Starting the Spiral Server. It is bound to: http://localhost:13805\n",
      "00:00:25 #301 [Verbose] testPortOpen / ex: System.AggregateException: One or more errors occurred. (Connection refused)\n",
      "00:00:25 #302 [Verbose] testPortOpen / ex: System.AggregateException: One or more errors occurred. (Connection refused)\n",
      "00:00:25 #303 [Debug] sendJson / port: 13805 / json: {\"Ping\":true} / result.Length:\n",
      "00:00:25 #304 [Verbose] awaitCompiler / Ping / result: Some(null) / port: 13805 / retry: 0\n",
      "00:00:25 #305 [Verbose] > Server bound to: http://localhost:13805\n",
      "00:00:25 #306 [Debug] buildFile / takeWhileInclusive / fsxContent:  / errors: [] / typeErrorCount: 0\n",
      "00:00:25 #307 [Debug] buildFile / takeWhileInclusive / fsxContent:  / errors: [] / typeErrorCount: 0\n",
      "00:00:25 #308 [Debug] sendJson / port: 13805 / json: {\"FileOpen\":{\"spiText\":\"\\ninl init_series start end inc =\\n    inl total : f64 = conv ((end - start) / inc) \\u002B 1\\n    listm.init total (conv \\u003E\\u003E (*) inc \\u003E\\u003E (\\u002B) start) : list f64\\n\\ntype integration = (f64 -\\u003E f64) -\\u003E f64 -\\u003E f64 -\\u003E f64\\n\\ninl integral dt : integration =\\n    fun f a b =\\u003E\\n        init_series (a \\u002B dt / 2) (b - dt / 2) dt\\n        |\\u003E listm.map (f \\u003E\\u003E (*) dt)\\n        |\\u003E listm.fold (\\u002B) 0\\n\\ninl main () =\\n    integral 0.1 (fun x =\\u003E x ** 2) 0 1\\n\",\"uri\":\"file:///tmp/!dotnet-repl/20240406-0213-5081-8106-8ec875dcd244/main.spi\"}} / result.Length:\n",
      "00:00:25 #309 [Debug] sendJson / port: 13805 / json: {\"BuildFile\":{\"backend\":\"Fsharp\",\"uri\":\"file:///tmp/!dotnet-repl/20240406-0213-5081-8106-8ec875dcd244/main.spi\"}} / result.Length:\n",
      "00:00:25 #310 [Verbose] > Building /tmp/!dotnet-repl/20240406-0213-5081-8106-8ec875dcd244/main.spi\n",
      "00:00:26 #311 [Debug] buildFile / takeWhileInclusive / fsxContent:  / errors: [] / typeErrorCount: 0\n",
      "00:00:26 #312 [Debug] buildFile / takeWhileInclusive / fsxContent: 0.3325000000000001\n",
      " / errors: [] / typeErrorCount: 0\n",
      "00:00:26 #313 [Verbose] waitForPortAccess / port: 13805 / retry: 0\n",
      "00:00:26 #314 [Verbose] testPortOpen / ex: System.AggregateException: One or more errors occurred. (Connection refused)\n",
      "00:00:26 #315 [Debug] watchWithFilter / Disposing watch stream / filter: FileName, LastWrite\n",
      "FSharpOption<Tuple<FSharpOption<String>,FSharpList<String>>>\n",
      "      Value:       - FSharpOption<String>\n",
      "          Value: 0.3325000000000001\n",
      "\n",
      "      - [  ]\n"
     ]
    }
   ],
   "source": [
    "//// test\n",
    "\n",
    "\"\"\"\n",
    "inl init_series start end inc =\n",
    "    inl total : f64 = conv ((end - start) / inc) + 1\n",
    "    listm.init total (conv >> (*) inc >> (+) start) : list f64\n",
    "\n",
    "type integration = (f64 -> f64) -> f64 -> f64 -> f64\n",
    "\n",
    "inl integral dt : integration =\n",
    "    fun f a b =>\n",
    "        init_series (a + dt / 2) (b - dt / 2) dt\n",
    "        |> listm.map (f >> (*) dt)\n",
    "        |> listm.fold (+) 0\n",
    "\n",
    "inl main () =\n",
    "    integral 0.1 (fun x => x ** 2) 0 1\n",
    "\"\"\"\n",
    "|> buildCode 10000 None\n",
    "|> Async.runWithTimeout 10000\n",
    "|> Option.map (fun (fsxContent, errors) -> fsxContent, errors |> List.map fst)\n",
    "|> _assertEqual (\n",
    "    Some (\n",
    "        Some \"0.3325000000000001\\n\",\n",
    "        []\n",
    "    )\n",
    ")"
   ]
  },
  {
   "cell_type": "code",
   "execution_count": null,
   "metadata": {
    "dotnet_interactive": {
     "language": "fsharp"
    },
    "polyglot_notebook": {
     "kernelName": "fsharp"
    }
   },
   "outputs": [
    {
     "name": "stdout",
     "output_type": "stream",
     "text": [
      "00:00:27 #316 [Verbose] testPortOpen / ex: System.AggregateException: One or more errors occurred. (Connection refused)\n",
      "00:00:27 #317 [Debug] executeAsync / options: { Command =\n",
      "   \"dotnet \"/home/runner/work/polyglot/polyglot/deps/The-Spiral-Language/The Spiral Language 2/artifacts/bin/The Spiral Language 2/release/Spiral.dll\" --port 13805 --default-int i32 --default-float f64\"\n",
      "  WorkingDirectory = None\n",
      "  CancellationToken = Some System.Threading.CancellationToken\n",
      "  OnLine = Some <fun:buildCode@3-910> }\n",
      "00:00:27 #318 [Verbose] > pwd: /home/runner/work/polyglot/polyglot/apps/spiral\n",
      "00:00:27 #319 [Verbose] testPortOpen / ex: System.AggregateException: One or more errors occurred. (Connection refused)\n",
      "00:00:27 #320 [Verbose] waitForPortAccess / port: 13805 / retry: 0\n",
      "00:00:27 #321 [Verbose] > dll_path: /home/runner/work/polyglot/polyglot/deps/The-Spiral-Language/The Spiral Language 2/artifacts/bin/The Spiral Language 2/release\n",
      "00:00:27 #322 [Verbose] testPortOpen / ex: System.AggregateException: One or more errors occurred. (Connection refused)\n",
      "00:00:27 #323 [Verbose] testPortOpen / ex: System.AggregateException: One or more errors occurred. (Connection refused)\n",
      "00:00:27 #324 [Verbose] testPortOpen / ex: System.AggregateException: One or more errors occurred. (Connection refused)\n",
      "00:00:27 #325 [Verbose] testPortOpen / ex: System.AggregateException: One or more errors occurred. (Connection refused)\n",
      "00:00:27 #326 [Verbose] testPortOpen / ex: System.AggregateException: One or more errors occurred. (Connection refused)\n",
      "00:00:27 #327 [Verbose] testPortOpen / ex: System.AggregateException: One or more errors occurred. (Connection refused)\n",
      "00:00:27 #328 [Verbose] > Starting the Spiral Server. It is bound to: http://localhost:13805\n",
      "00:00:27 #329 [Verbose] testPortOpen / ex: System.AggregateException: One or more errors occurred. (Connection refused)\n",
      "00:00:27 #330 [Verbose] testPortOpen / ex: System.AggregateException: One or more errors occurred. (Connection refused)\n",
      "00:00:27 #331 [Debug] sendJson / port: 13805 / json: {\"Ping\":true} / result.Length:\n",
      "00:00:27 #332 [Verbose] awaitCompiler / Ping / result: Some(null) / port: 13805 / retry: 0\n",
      "00:00:27 #333 [Verbose] > Server bound to: http://localhost:13805\n",
      "00:00:27 #334 [Debug] buildFile / takeWhileInclusive / fsxContent:  / errors: [] / typeErrorCount: 0\n",
      "00:00:27 #335 [Debug] buildFile / takeWhileInclusive / fsxContent:  / errors: [] / typeErrorCount: 0\n",
      "00:00:27 #336 [Debug] sendJson / port: 13805 / json: {\"FileOpen\":{\"spiText\":\"\\ninl init_series start end inc =\\n    inl total : f64 = conv ((end - start) / inc) \\u002B 1\\n    listm.init total (conv \\u003E\\u003E (*) inc \\u003E\\u003E (\\u002B) start) : list f64\\n\\ntype integration = (f64 -\\u003E f64) -\\u003E f64 -\\u003E f64 -\\u003E f64\\n\\ninl integral dt : integration =\\n    fun f a b =\\u003E\\n        init_series (a \\u002B dt / 2) (b - dt / 2) dt\\n        |\\u003E listm.map (f \\u003E\\u003E (*) dt)\\n        |\\u003E listm.fold (\\u002B) 0\\n\\ninl main () =\\n    integral 0.01 (fun x =\\u003E x ** 2) 0 1\\n\",\"uri\":\"file:///tmp/!dotnet-repl/20240406-0213-5286-8669-8f2b22148bfd/main.spi\"}} / result.Length:\n",
      "00:00:27 #337 [Debug] sendJson / port: 13805 / json: {\"BuildFile\":{\"backend\":\"Fsharp\",\"uri\":\"file:///tmp/!dotnet-repl/20240406-0213-5286-8669-8f2b22148bfd/main.spi\"}} / result.Length:\n",
      "00:00:27 #338 [Verbose] > Building /tmp/!dotnet-repl/20240406-0213-5286-8669-8f2b22148bfd/main.spi\n",
      "00:00:28 #339 [Debug] buildFile / takeWhileInclusive / fsxContent:  / errors: [] / typeErrorCount: 0\n",
      "00:00:28 #340 [Debug] buildFile / takeWhileInclusive / fsxContent: 0.33332500000000004\n",
      " / errors: [] / typeErrorCount: 0\n",
      "00:00:28 #341 [Verbose] waitForPortAccess / port: 13805 / retry: 0\n",
      "00:00:28 #342 [Verbose] testPortOpen / ex: System.AggregateException: One or more errors occurred. (Connection refused)\n",
      "00:00:28 #343 [Debug] watchWithFilter / Disposing watch stream / filter: FileName, LastWrite\n",
      "FSharpOption<Tuple<FSharpOption<String>,FSharpList<String>>>\n",
      "      Value:       - FSharpOption<String>\n",
      "          Value: 0.33332500000000004\n",
      "\n",
      "      - [  ]\n"
     ]
    }
   ],
   "source": [
    "//// test\n",
    "\n",
    "\"\"\"\n",
    "inl init_series start end inc =\n",
    "    inl total : f64 = conv ((end - start) / inc) + 1\n",
    "    listm.init total (conv >> (*) inc >> (+) start) : list f64\n",
    "\n",
    "type integration = (f64 -> f64) -> f64 -> f64 -> f64\n",
    "\n",
    "inl integral dt : integration =\n",
    "    fun f a b =>\n",
    "        init_series (a + dt / 2) (b - dt / 2) dt\n",
    "        |> listm.map (f >> (*) dt)\n",
    "        |> listm.fold (+) 0\n",
    "\n",
    "inl main () =\n",
    "    integral 0.01 (fun x => x ** 2) 0 1\n",
    "\"\"\"\n",
    "|> buildCode 10000 None\n",
    "|> Async.runWithTimeout 10000\n",
    "|> Option.map (fun (fsxContent, errors) -> fsxContent, errors |> List.map fst)\n",
    "|> _assertEqual (\n",
    "    Some (\n",
    "        Some \"0.33332500000000004\\n\",\n",
    "        []\n",
    "    )\n",
    ")\n",
    "// |> _assertEqual None\n",
    "// |> fun x -> printfn $\"{x.ToDisplayString ()}\""
   ]
  },
  {
   "cell_type": "markdown",
   "metadata": {},
   "source": [
    "## getFileTokenRange"
   ]
  },
  {
   "cell_type": "code",
   "execution_count": null,
   "metadata": {
    "dotnet_interactive": {
     "language": "fsharp"
    },
    "polyglot_notebook": {
     "kernelName": "fsharp"
    }
   },
   "outputs": [],
   "source": [
    "let inline getFileTokenRange port cancellationToken path = async {\n",
    "    let fullPath = path |> System.IO.Path.GetFullPath\n",
    "    let! code = fullPath |> FileSystem.readAllTextAsync\n",
    "    let lines = code |> SpiralSm.split \"\\n\"\n",
    "\n",
    "    let token, disposable = Threading.newDisposableToken cancellationToken\n",
    "    use _ = disposable\n",
    "\n",
    "    let! serverPort, _errors, ct, disposable = awaitCompiler port (Some token)\n",
    "    use _ = disposable\n",
    "\n",
    "    let fileOpenObj = {| FileOpen = {| uri = fullPath |> getFileUri; spiText = code |} |}\n",
    "    let! _fileOpenResult = fileOpenObj |> sendObj serverPort\n",
    "\n",
    "    let fileTokenRangeObj =\n",
    "        {|\n",
    "            FileTokenRange =\n",
    "                {|\n",
    "                    uri = fullPath |> getFileUri\n",
    "                    range =\n",
    "                        [|\n",
    "                            {| line = 0; character = 0 |}\n",
    "                            {| line = lines.Length - 1; character = lines.[lines.Length - 1].Length |}\n",
    "                        |]\n",
    "                |}\n",
    "        |}\n",
    "    let! fileTokenRangeResult =\n",
    "        fileTokenRangeObj\n",
    "        |> sendObj serverPort\n",
    "        |> Async.withCancellationToken ct\n",
    "\n",
    "    return fileTokenRangeResult |> Option.map FSharp.Json.Json.deserialize<int array>\n",
    "}"
   ]
  },
  {
   "cell_type": "markdown",
   "metadata": {},
   "source": [
    "## getCodeTokenRange"
   ]
  },
  {
   "cell_type": "code",
   "execution_count": null,
   "metadata": {
    "dotnet_interactive": {
     "language": "fsharp"
    },
    "polyglot_notebook": {
     "kernelName": "fsharp"
    }
   },
   "outputs": [],
   "source": [
    "let inline getCodeTokenRange cancellationToken code = async {\n",
    "    let! mainPath, disposable = persistCode code\n",
    "    use _ = disposable\n",
    "    let port = getCompilerPort ()\n",
    "    return! mainPath |> getFileTokenRange port cancellationToken\n",
    "}"
   ]
  },
  {
   "cell_type": "code",
   "execution_count": null,
   "metadata": {
    "dotnet_interactive": {
     "language": "fsharp"
    },
    "polyglot_notebook": {
     "kernelName": "fsharp"
    }
   },
   "outputs": [
    {
     "name": "stdout",
     "output_type": "stream",
     "text": [
      "00:00:33 #344 [Verbose] testPortOpen / ex: System.AggregateException: One or more errors occurred. (Connection refused)\n",
      "00:00:33 #345 [Debug] executeAsync / options: { Command =\n",
      "   \"dotnet \"/home/runner/work/polyglot/polyglot/deps/The-Spiral-Language/The Spiral Language 2/artifacts/bin/The Spiral Language 2/release/Spiral.dll\" --port 13805 --default-int i32 --default-float f64\"\n",
      "  WorkingDirectory = None\n",
      "  CancellationToken = Some System.Threading.CancellationToken\n",
      "  OnLine = Some <fun:it@4-239> }\n",
      "00:00:33 #346 [Verbose] > pwd: /home/runner/work/polyglot/polyglot/apps/spiral\n",
      "00:00:33 #347 [Verbose] > dll_path: /home/runner/work/polyglot/polyglot/deps/The-Spiral-Language/The Spiral Language 2/artifacts/bin/The Spiral Language 2/release\n",
      "00:00:33 #348 [Verbose] testPortOpen / ex: System.AggregateException: One or more errors occurred. (Connection refused)\n",
      "00:00:33 #349 [Verbose] waitForPortAccess / port: 13805 / retry: 0\n",
      "00:00:33 #350 [Verbose] testPortOpen / ex: System.AggregateException: One or more errors occurred. (Connection refused)\n",
      "00:00:33 #351 [Verbose] testPortOpen / ex: System.AggregateException: One or more errors occurred. (Connection refused)\n",
      "00:00:33 #352 [Verbose] testPortOpen / ex: System.AggregateException: One or more errors occurred. (Connection refused)\n",
      "00:00:33 #353 [Verbose] testPortOpen / ex: System.AggregateException: One or more errors occurred. (Connection refused)\n",
      "00:00:33 #354 [Verbose] testPortOpen / ex: System.AggregateException: One or more errors occurred. (Connection refused)\n",
      "00:00:33 #355 [Verbose] > Starting the Spiral Server. It is bound to: http://localhost:13805\n",
      "00:00:33 #356 [Verbose] testPortOpen / ex: System.AggregateException: One or more errors occurred. (Connection refused)\n",
      "00:00:33 #357 [Verbose] testPortOpen / ex: System.AggregateException: One or more errors occurred. (Connection refused)\n",
      "00:00:33 #358 [Debug] sendJson / port: 13805 / json: {\"Ping\":true} / result.Length:\n",
      "00:00:33 #359 [Verbose] awaitCompiler / Ping / result: Some(null) / port: 13805 / retry: 0\n",
      "00:00:33 #360 [Verbose] > Server bound to: http://localhost:13805\n",
      "00:00:33 #361 [Debug] sendJson / port: 13805 / json: {\"FileOpen\":{\"spiText\":\"inl main () = ()\",\"uri\":\"file:///tmp/!dotnet-repl/20240406-0213-5929-2966-222da69a616a/main.spi\"}} / result.Length:\n",
      "00:00:34 #362 [Debug] sendJson / port: 13805 / json: {\"FileTokenRange\":{\"range\":[{\"character\":0,\"line\":0},{\"character\":16,\"line\":0}],\"uri\":\"file:///tmp/!dotnet-repl/20240406-0213-5929-2966-222da69a616a/main.spi\"}} / result.Length: Some(177)\n",
      "00:00:34 #363 [Verbose] waitForPortAccess / port: 13805 / retry: 0\n",
      "00:00:34 #364 [Verbose] testPortOpen / ex: System.AggregateException: One or more errors occurred. (Connection refused)\n",
      "FSharpOption<Int32[]>\n",
      "      Value: [ 0, 0, 3, 7, 0, 0, 4, 4, 0, 0, 0, 5, 1, 8, 0, 0, 1, 1, 8, 0, 0, 2, 1, 4, 0, 0, 2, 1, 8, 0, 0, 1, 1, 8, 0 ]\n"
     ]
    }
   ],
   "source": [
    "//// test\n",
    "\n",
    "\"\"\"inl main () = ()\"\"\"\n",
    "|> getCodeTokenRange None\n",
    "|> Async.runWithTimeout 10000\n",
    "|> Option.flatten\n",
    "|> _assertEqual (Some [| 0; 0; 3; 7; 0; 0; 4; 4; 0; 0; 0; 5; 1; 8; 0; 0; 1; 1; 8; 0; 0; 2; 1; 4; 0; 0;\n",
    "2; 1; 8; 0; 0; 1; 1; 8; 0 |])"
   ]
  },
  {
   "cell_type": "code",
   "execution_count": null,
   "metadata": {
    "dotnet_interactive": {
     "language": "fsharp"
    },
    "polyglot_notebook": {
     "kernelName": "fsharp"
    }
   },
   "outputs": [
    {
     "name": "stdout",
     "output_type": "stream",
     "text": [
      "00:00:35 #365 [Verbose] testPortOpen / ex: System.AggregateException: One or more errors occurred. (Connection refused)\n",
      "00:00:35 #366 [Debug] executeAsync / options: { Command =\n",
      "   \"dotnet \"/home/runner/work/polyglot/polyglot/deps/The-Spiral-Language/The Spiral Language 2/artifacts/bin/The Spiral Language 2/release/Spiral.dll\" --port 13805 --default-int i32 --default-float f64\"\n",
      "  WorkingDirectory = None\n",
      "  CancellationToken = Some System.Threading.CancellationToken\n",
      "  OnLine = Some <fun:it@4-610> }\n",
      "00:00:36 #367 [Verbose] > pwd: /home/runner/work/polyglot/polyglot/apps/spiral\n",
      "00:00:36 #368 [Verbose] > dll_path: /home/runner/work/polyglot/polyglot/deps/The-Spiral-Language/The Spiral Language 2/artifacts/bin/The Spiral Language 2/release\n",
      "00:00:36 #369 [Verbose] testPortOpen / ex: System.AggregateException: One or more errors occurred. (Connection refused)\n",
      "00:00:36 #370 [Verbose] waitForPortAccess / port: 13805 / retry: 0\n",
      "00:00:36 #371 [Verbose] testPortOpen / ex: System.AggregateException: One or more errors occurred. (Connection refused)\n",
      "00:00:36 #372 [Verbose] testPortOpen / ex: System.AggregateException: One or more errors occurred. (Connection refused)\n",
      "00:00:36 #373 [Verbose] testPortOpen / ex: System.AggregateException: One or more errors occurred. (Connection refused)\n",
      "00:00:36 #374 [Verbose] testPortOpen / ex: System.AggregateException: One or more errors occurred. (Connection refused)\n",
      "00:00:36 #375 [Verbose] testPortOpen / ex: System.AggregateException: One or more errors occurred. (Connection refused)\n",
      "00:00:36 #376 [Verbose] > Starting the Spiral Server. It is bound to: http://localhost:13805\n",
      "00:00:36 #377 [Verbose] testPortOpen / ex: System.AggregateException: One or more errors occurred. (Connection refused)\n",
      "00:00:36 #378 [Verbose] testPortOpen / ex: System.AggregateException: One or more errors occurred. (Connection refused)\n",
      "00:00:36 #379 [Debug] sendJson / port: 13805 / json: {\"Ping\":true} / result.Length:\n",
      "00:00:36 #380 [Verbose] awaitCompiler / Ping / result: Some(null) / port: 13805 / retry: 0\n",
      "00:00:36 #381 [Verbose] > Server bound to: http://localhost:13805\n",
      "00:00:36 #382 [Debug] sendJson / port: 13805 / json: {\"FileOpen\":{\"spiText\":\"inl main () = 1i32\",\"uri\":\"file:///tmp/!dotnet-repl/20240406-0214-0182-8222-8e6bd42c4d03/main.spi\"}} / result.Length:\n",
      "00:00:36 #383 [Debug] sendJson / port: 13805 / json: {\"FileTokenRange\":{\"range\":[{\"character\":0,\"line\":0},{\"character\":18,\"line\":0}],\"uri\":\"file:///tmp/!dotnet-repl/20240406-0214-0182-8222-8e6bd42c4d03/main.spi\"}} / result.Length: Some(178)\n",
      "00:00:36 #384 [Verbose] waitForPortAccess / port: 13805 / retry: 0\n",
      "00:00:36 #385 [Verbose] testPortOpen / ex: System.AggregateException: One or more errors occurred. (Connection refused)\n",
      "FSharpOption<Int32[]>\n",
      "      Value: [ 0, 0, 3, 7, 0, 0, 4, 4, 0, 0, 0, 5, 1, 8, 0, 0, 1, 1, 8, 0, 0, 2, 1, 4, 0, 0, 2, 1, 3, 0, 0, 1, 3, 12, 0 ]\n"
     ]
    }
   ],
   "source": [
    "//// test\n",
    "\n",
    "\"\"\"inl main () = 1i32\"\"\"\n",
    "|> getCodeTokenRange None\n",
    "|> Async.runWithTimeout 10000\n",
    "|> Option.flatten\n",
    "|> _assertEqual (Some [| 0; 0; 3; 7; 0; 0; 4; 4; 0; 0; 0; 5; 1; 8; 0; 0; 1; 1; 8; 0; 0; 2; 1; 4; 0; 0;\n",
    "2; 1; 3; 0; 0; 1; 3; 12; 0 |])"
   ]
  },
  {
   "cell_type": "markdown",
   "metadata": {},
   "source": [
    "## Arguments"
   ]
  },
  {
   "cell_type": "code",
   "execution_count": null,
   "metadata": {
    "dotnet_interactive": {
     "language": "fsharp"
    },
    "polyglot_notebook": {
     "kernelName": "fsharp"
    }
   },
   "outputs": [],
   "source": [
    "[<RequireQualifiedAccess>]\n",
    "type Arguments =\n",
    "    | Build_File of string * string\n",
    "    | File_Token_Range of string * string\n",
    "    | Execute_Command of string\n",
    "    | [<Argu.ArguAttributes.Unique>] Timeout of int\n",
    "    | [<Argu.ArguAttributes.Unique>] Port of int\n",
    "    | [<Argu.ArguAttributes.Unique>] Parallel\n",
    "\n",
    "    interface Argu.IArgParserTemplate with\n",
    "        member s.Usage =\n",
    "            match s with\n",
    "            | Build_File _ -> nameof Build_File\n",
    "            | File_Token_Range _ -> nameof File_Token_Range\n",
    "            | Execute_Command _ -> nameof Execute_Command\n",
    "            | Timeout _ -> nameof Timeout\n",
    "            | Port _ -> nameof Port\n",
    "            | Parallel -> nameof Parallel"
   ]
  },
  {
   "cell_type": "code",
   "execution_count": null,
   "metadata": {
    "dotnet_interactive": {
     "language": "fsharp"
    },
    "polyglot_notebook": {
     "kernelName": "fsharp"
    }
   },
   "outputs": [
    {
     "data": {
      "text/plain": [
       "USAGE: dotnet-repl [--help] [--build-file <string> <string>]\n",
       "                   [--file-token-range <string> <string>]\n",
       "                   [--execute-command <string>] [--timeout <int>] [--port <int>]\n",
       "                   [--parallel]\n",
       "\n",
       "OPTIONS:\n",
       "\n",
       "    --build-file <string> <string>\n",
       "                          Build_File\n",
       "    --file-token-range <string> <string>\n",
       "                          File_Token_Range\n",
       "    --execute-command <string>\n",
       "                          Execute_Command\n",
       "    --timeout <int>       Timeout\n",
       "    --port <int>          Port\n",
       "    --parallel            Parallel\n",
       "    --help                display this list of options.\n"
      ]
     },
     "metadata": {},
     "output_type": "display_data"
    }
   ],
   "source": [
    "//// test\n",
    "\n",
    "Argu.ArgumentParser.Create<Arguments>().PrintUsage ()"
   ]
  },
  {
   "cell_type": "markdown",
   "metadata": {},
   "source": [
    "## main"
   ]
  },
  {
   "cell_type": "code",
   "execution_count": null,
   "metadata": {
    "dotnet_interactive": {
     "language": "fsharp"
    },
    "polyglot_notebook": {
     "kernelName": "fsharp"
    }
   },
   "outputs": [],
   "source": [
    "let main args =\n",
    "    let argsMap = args |> Runtime.parseArgsMap<Arguments>\n",
    "\n",
    "    let buildFileActions =\n",
    "        argsMap\n",
    "        |> Map.tryFind (nameof Arguments.Build_File)\n",
    "        |> Option.defaultValue []\n",
    "        |> List.choose (function\n",
    "            | Arguments.Build_File (inputPath, outputPath) -> Some (inputPath, outputPath)\n",
    "            | _ -> None\n",
    "        )\n",
    "\n",
    "    let fileTokenRangeActions =\n",
    "        argsMap\n",
    "        |> Map.tryFind (nameof Arguments.File_Token_Range)\n",
    "        |> Option.defaultValue []\n",
    "        |> List.choose (function\n",
    "            | Arguments.File_Token_Range (inputPath, outputPath) -> Some (inputPath, outputPath)\n",
    "            | _ -> None\n",
    "        )\n",
    "\n",
    "    let executeCommandActions =\n",
    "        argsMap\n",
    "        |> Map.tryFind (nameof Arguments.Execute_Command)\n",
    "        |> Option.defaultValue []\n",
    "        |> List.choose (function\n",
    "            | Arguments.Execute_Command command -> Some command\n",
    "            | _ -> None\n",
    "        )\n",
    "\n",
    "    let timeout =\n",
    "        match argsMap |> Map.tryFind (nameof Arguments.Timeout) with\n",
    "        | Some [ Arguments.Timeout timeout ] -> timeout\n",
    "        | _ -> 60000 * 60\n",
    "\n",
    "    let port =\n",
    "        match argsMap |> Map.tryFind (nameof Arguments.Port) with\n",
    "        | Some [ Arguments.Port port ] -> Some port\n",
    "        | _ -> None\n",
    "\n",
    "    let isParallel = argsMap |> Map.containsKey (nameof Arguments.Parallel)\n",
    "\n",
    "    async {\n",
    "        let port = port |> Option.defaultWith getCompilerPort\n",
    "        let localToken, disposable = Threading.newDisposableToken None\n",
    "        let! serverPort, _errors, compilerToken, disposable = awaitCompiler port (Some localToken)\n",
    "        use _ = disposable\n",
    "\n",
    "        let buildFileAsync =\n",
    "            buildFileActions\n",
    "            |> List.map (fun (inputPath, outputPath) -> async {\n",
    "                let! outputCode, errors = inputPath |> buildFile timeout serverPort None\n",
    "\n",
    "                errors\n",
    "                |> List.map snd\n",
    "                |> List.iter (fun error ->\n",
    "                    trace Critical (fun () -> $\"main / error: {error |> serializeObj}\") getLocals\n",
    "                )\n",
    "\n",
    "                match outputCode with\n",
    "                | Some outputCode ->\n",
    "                    do! outputCode |> FileSystem.writeAllTextAsync outputPath\n",
    "                    return 0\n",
    "                | None ->\n",
    "                    return 1\n",
    "            })\n",
    "\n",
    "        let fileTokenRangeAsync =\n",
    "            fileTokenRangeActions\n",
    "            |> List.map (fun (inputPath, outputPath) -> async {\n",
    "                let! tokenRange = inputPath |> getFileTokenRange serverPort None\n",
    "                match tokenRange with\n",
    "                | Some tokenRange ->\n",
    "                    do! tokenRange |> FSharp.Json.Json.serialize |> FileSystem.writeAllTextAsync outputPath\n",
    "                    return 0\n",
    "                | None ->\n",
    "                    return 1\n",
    "            })\n",
    "\n",
    "        let executeCommandAsync =\n",
    "            executeCommandActions\n",
    "            |> List.map (fun command -> async {\n",
    "                let! exitCode, result =\n",
    "                    Runtime.executeWithOptionsAsync\n",
    "                        {\n",
    "                            Command = command\n",
    "                            CancellationToken = Some compilerToken\n",
    "                            WorkingDirectory = None\n",
    "                            OnLine = None\n",
    "                        }\n",
    "\n",
    "                trace Debug (fun () -> $\"main / executeCommand / exitCode: {exitCode}\") getLocals\n",
    "\n",
    "                return exitCode\n",
    "            })\n",
    "\n",
    "        return!\n",
    "            [| buildFileAsync; fileTokenRangeAsync; executeCommandAsync |]\n",
    "            |> Seq.collect id\n",
    "            |> fun x ->\n",
    "                if isParallel\n",
    "                then Async.Parallel (x, float System.Environment.ProcessorCount * 0.75 |> ceil |> int)\n",
    "                else Async.Sequential x\n",
    "            |> Async.map Array.sum\n",
    "    }\n",
    "    |> Async.runWithTimeout timeout\n",
    "    |> Option.defaultValue 1"
   ]
  },
  {
   "cell_type": "code",
   "execution_count": null,
   "metadata": {
    "dotnet_interactive": {
     "language": "fsharp"
    },
    "polyglot_notebook": {
     "kernelName": "fsharp"
    }
   },
   "outputs": [
    {
     "data": {
      "text/html": [
       "<div class=\"dni-plaintext\"><pre>0</pre></div><style>\n",
       ".dni-code-hint {\n",
       "    font-style: italic;\n",
       "    overflow: hidden;\n",
       "    white-space: nowrap;\n",
       "}\n",
       ".dni-treeview {\n",
       "    white-space: nowrap;\n",
       "}\n",
       ".dni-treeview td {\n",
       "    vertical-align: top;\n",
       "    text-align: start;\n",
       "}\n",
       "details.dni-treeview {\n",
       "    padding-left: 1em;\n",
       "}\n",
       "table td {\n",
       "    text-align: start;\n",
       "}\n",
       "table tr { \n",
       "    vertical-align: top; \n",
       "    margin: 0em 0px;\n",
       "}\n",
       "table tr td pre \n",
       "{ \n",
       "    vertical-align: top !important; \n",
       "    margin: 0em 0px !important;\n",
       "} \n",
       "table th {\n",
       "    text-align: start;\n",
       "}\n",
       "</style>"
      ]
     },
     "metadata": {},
     "output_type": "display_data"
    }
   ],
   "source": [
    "//// test\n",
    "\n",
    "let args =\n",
    "    System.Environment.GetEnvironmentVariable \"ARGS\"\n",
    "    |> Runtime.splitArgs\n",
    "    |> Seq.toArray\n",
    "\n",
    "match args with\n",
    "| [||] -> 0\n",
    "| args -> if main args = 0 then 0 else failwith \"main failed\""
   ]
  }
 ],
 "metadata": {},
 "nbformat": 4,
 "nbformat_minor": 5
}