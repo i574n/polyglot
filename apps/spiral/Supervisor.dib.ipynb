{
 "cells": [
  {
   "cell_type": "markdown",
   "metadata": {},
   "source": [
    "# Supervisor (Polyglot)"
   ]
  },
  {
   "cell_type": "code",
   "execution_count": null,
   "metadata": {
    "dotnet_interactive": {
     "language": "fsharp"
    },
    "polyglot_notebook": {
     "kernelName": "fsharp"
    }
   },
   "outputs": [],
   "source": [
    "#!import ../../lib/fsharp/Notebooks.dib\n",
    "#!import ../../lib/fsharp/Testing.dib"
   ]
  },
  {
   "cell_type": "code",
   "execution_count": null,
   "metadata": {
    "dotnet_interactive": {
     "language": "fsharp"
    },
    "polyglot_notebook": {
     "kernelName": "fsharp"
    }
   },
   "outputs": [],
   "source": [
    "#r @\"../../../../../../../.nuget/packages/fsharp.control.asyncseq/3.2.1/lib/netstandard2.1/FSharp.Control.AsyncSeq.dll\"\n",
    "#r @\"../../../../../../../.nuget/packages/system.reactive/6.0.1-preview.1/lib/net6.0/System.Reactive.dll\"\n",
    "#r @\"../../../../../../../.nuget/packages/system.reactive.linq/6.0.1-preview.1/lib/netstandard2.0/System.Reactive.Linq.dll\"\n",
    "#r @\"../../../../../../../.nuget/packages/argu/6.2.2/lib/netstandard2.0/Argu.dll\"\n",
    "#r @\"../../../../../../../.nuget/packages/system.commandline/2.0.0-beta4.22272.1/lib/net6.0/System.CommandLine.dll\"\n",
    "#r @\"../../../../../../../.nuget/packages/microsoft.aspnetcore.http.connections.common/7.0.0/lib/net7.0/Microsoft.AspNetCore.Http.Connections.Common.dll\"\n",
    "#r @\"../../../../../../../.nuget/packages/microsoft.aspnetcore.http.connections.client/7.0.0/lib/net7.0/Microsoft.AspNetCore.Http.Connections.Client.dll\"\n",
    "#r @\"../../../../../../../.nuget/packages/microsoft.aspnetcore.signalr.common/7.0.0/lib/net7.0/Microsoft.AspNetCore.SignalR.Common.dll\"\n",
    "#r @\"../../../../../../../.nuget/packages/microsoft.aspnetcore.signalr.client/7.0.0/lib/net7.0/Microsoft.AspNetCore.SignalR.Client.dll\"\n",
    "#r @\"../../../../../../../.nuget/packages/microsoft.aspnetcore.signalr.client.core/7.0.0/lib/net7.0/Microsoft.AspNetCore.SignalR.Client.Core.dll\"\n",
    "#r @\"../../../../../../../.nuget/packages/fsharp.json/0.4.1/lib/netstandard2.0/FSharp.Json.dll\""
   ]
  },
  {
   "cell_type": "code",
   "execution_count": null,
   "metadata": {
    "dotnet_interactive": {
     "language": "fsharp"
    },
    "polyglot_notebook": {
     "kernelName": "fsharp"
    }
   },
   "outputs": [],
   "source": [
    "#!import ../../lib/fsharp/Common.fs\n",
    "#!import ../../lib/fsharp/CommonFSharp.fs\n",
    "#!import ../../lib/fsharp/Threading.fs\n",
    "#!import ../../lib/fsharp/Async.fs\n",
    "#!import ../../lib/fsharp/AsyncSeq.fs\n",
    "#!import ../../lib/fsharp/Networking.fs\n",
    "#!import ../../lib/fsharp/Runtime.fs\n",
    "#!import ../../lib/fsharp/FileSystem.fs"
   ]
  },
  {
   "cell_type": "code",
   "execution_count": null,
   "metadata": {
    "dotnet_interactive": {
     "language": "fsharp"
    },
    "polyglot_notebook": {
     "kernelName": "fsharp"
    }
   },
   "outputs": [],
   "source": [
    "open Common\n",
    "open FileSystem.Operators\n",
    "open Microsoft.AspNetCore.SignalR.Client"
   ]
  },
  {
   "cell_type": "markdown",
   "metadata": {},
   "source": [
    "## sendJson"
   ]
  },
  {
   "cell_type": "code",
   "execution_count": null,
   "metadata": {
    "dotnet_interactive": {
     "language": "fsharp"
    },
    "polyglot_notebook": {
     "kernelName": "fsharp"
    }
   },
   "outputs": [],
   "source": [
    "let inline sendJson (port : int) (json : string) = async {\n",
    "    let! portOpen = Networking.testPortOpen port\n",
    "    if portOpen then\n",
    "        try\n",
    "            let connection = HubConnectionBuilder().WithUrl($\"http://127.0.0.1:{port}\").Build()\n",
    "            do! connection.StartAsync () |> Async.AwaitTask\n",
    "            let! result = connection.InvokeAsync<string>(\"ClientToServerMsg\", json) |> Async.AwaitTask\n",
    "            do! connection.StopAsync () |> Async.AwaitTask\n",
    "            trace Debug (fun () -> $\"sendJson / port: {port} / json: {json} / result.Length: {result |> Option.ofObj |> Option.map String.length}\") getLocals\n",
    "            return Some result\n",
    "        with ex ->\n",
    "            trace Critical (fun () -> $\"sendJson / port: {port} / json: {json} / ex: {ex |> printException}\") getLocals\n",
    "            return None\n",
    "    else\n",
    "        trace Debug (fun () -> \"sendJson / error: port not open\") getLocals\n",
    "        return None\n",
    "}"
   ]
  },
  {
   "cell_type": "markdown",
   "metadata": {},
   "source": [
    "## sendObj"
   ]
  },
  {
   "cell_type": "code",
   "execution_count": null,
   "metadata": {
    "dotnet_interactive": {
     "language": "fsharp"
    },
    "polyglot_notebook": {
     "kernelName": "fsharp"
    }
   },
   "outputs": [],
   "source": [
    "let inline sendObj port obj =\n",
    "    obj\n",
    "    |> System.Text.Json.JsonSerializer.Serialize\n",
    "    |> sendJson port"
   ]
  },
  {
   "cell_type": "markdown",
   "metadata": {},
   "source": [
    "## awaitCompiler"
   ]
  },
  {
   "cell_type": "code",
   "execution_count": null,
   "metadata": {
    "dotnet_interactive": {
     "language": "fsharp"
    },
    "polyglot_notebook": {
     "kernelName": "fsharp"
    }
   },
   "outputs": [],
   "source": [
    "type VSCPos = {| line : int; character : int |}\n",
    "type VSCRange = VSCPos * VSCPos\n",
    "type RString = VSCRange * string\n",
    "type TracedError = {| trace : string list; message : string |}\n",
    "type ClientErrorsRes =\n",
    "    | FatalError of string\n",
    "    | TracedError of TracedError\n",
    "    | PackageErrors of {| uri : string; errors : RString list |}\n",
    "    | TokenizerErrors of {| uri : string; errors : RString list |}\n",
    "    | ParserErrors of {| uri : string; errors : RString list |}\n",
    "    | TypeErrors of {| uri : string; errors : RString list |}"
   ]
  },
  {
   "cell_type": "code",
   "execution_count": null,
   "metadata": {
    "dotnet_interactive": {
     "language": "fsharp"
    },
    "polyglot_notebook": {
     "kernelName": "fsharp"
    }
   },
   "outputs": [],
   "source": [
    "let inline awaitCompiler port cancellationToken = async {\n",
    "    let! ct =\n",
    "        cancellationToken\n",
    "        |> Option.defaultValue System.Threading.CancellationToken.None\n",
    "        |> Async.mergeCancellationTokenWithDefaultAsync\n",
    "\n",
    "    let cts = new System.Threading.CancellationTokenSource ()\n",
    "\n",
    "    let compiler = MailboxProcessor.Start (fun inbox -> async {\n",
    "        let! availablePort = Networking.getAvailablePort (Some 60) port\n",
    "        if availablePort <> port then\n",
    "            inbox.Post port\n",
    "        else\n",
    "            let repositoryRoot = FileSystem.getSourceDirectory () |> FileSystem.findParent \".paket\" false\n",
    "\n",
    "            let compilerPath =\n",
    "                repositoryRoot </> \"deps/The-Spiral-Language/The Spiral Language 2/artifacts/bin/The Spiral Language 2/release\"\n",
    "                |> System.IO.Path.GetFullPath\n",
    "\n",
    "            let dllPath = compilerPath </> \"Spiral.dll\"\n",
    "\n",
    "            let! exitCode, result =\n",
    "                Runtime.executeWithOptionsAsync\n",
    "                    {\n",
    "                        Command = $@\"dotnet \"\"{dllPath}\"\" --port {availablePort} --default-int i32 --default-float f64\"\n",
    "                        CancellationToken = Some ct\n",
    "                        WorkingDirectory = None\n",
    "                        OnLine = Some <| fun { Line = line } -> async {\n",
    "                            if line |> String.contains $\"Server bound to: http://localhost:{availablePort}\" then\n",
    "                                do! Networking.waitForPortAccess (Some 500) true availablePort |> Async.Ignore\n",
    "\n",
    "                                let rec loop retry = async {\n",
    "                                    let getLocals () = $\"port: {availablePort} / retry: {retry} / {getLocals ()}\"\n",
    "                                    try\n",
    "                                        let pingObj = {| Ping = true |}\n",
    "                                        let! pingResult = pingObj |> sendObj availablePort\n",
    "                                        trace Verbose (fun () -> $\"awaitCompiler / Ping / result: {pingResult}\") getLocals\n",
    "                                    with ex ->\n",
    "                                        trace Verbose (fun () -> $\"awaitCompiler / Ping / ex: {ex |> printException}\") getLocals\n",
    "                                        do! Async.Sleep 10\n",
    "                                        do! loop (retry + 1)\n",
    "                                }\n",
    "                                do! loop 0\n",
    "                                inbox.Post availablePort\n",
    "                        }\n",
    "                    }\n",
    "            trace Debug (fun () -> $\"awaitCompiler / exitCode: {exitCode} / result: {result}\") getLocals\n",
    "            cts.Cancel ()\n",
    "    }, ct)\n",
    "\n",
    "    let! serverPort = compiler.Receive ()\n",
    "\n",
    "    let connection = HubConnectionBuilder().WithUrl($\"http://127.0.0.1:{serverPort}\").Build ()\n",
    "    do! connection.StartAsync () |> Async.AwaitTask\n",
    "\n",
    "    let event = Event<_> ()\n",
    "    let disposable = connection.On<string> (\"ServerToClientMsg\", event.Trigger)\n",
    "    let stream =\n",
    "        FSharp.Control.AsyncSeq.unfoldAsync\n",
    "            (fun () -> async {\n",
    "                let! msg = event.Publish |> Async.AwaitEvent\n",
    "                return Some (msg |> FSharp.Json.Json.deserialize<ClientErrorsRes>, ())\n",
    "            })\n",
    "            ()\n",
    "\n",
    "    let disposable =\n",
    "        newDisposable (fun () ->\n",
    "            disposable.Dispose ()\n",
    "            connection.StopAsync () |> Async.AwaitTask |> Async.StartImmediate\n",
    "        )\n",
    "\n",
    "    return\n",
    "        serverPort,\n",
    "        stream,\n",
    "        cts.Token,\n",
    "        disposable\n",
    "}"
   ]
  },
  {
   "cell_type": "markdown",
   "metadata": {},
   "source": [
    "## getFileUri"
   ]
  },
  {
   "cell_type": "code",
   "execution_count": null,
   "metadata": {
    "dotnet_interactive": {
     "language": "fsharp"
    },
    "polyglot_notebook": {
     "kernelName": "fsharp"
    }
   },
   "outputs": [],
   "source": [
    "let inline getFileUri (path : string) =\n",
    "    let path =\n",
    "        if Runtime.isWindows () |> not\n",
    "        then path\n",
    "        else $\"{path.[0] |> System.Char.ToLower}{path.[1..]}\" |> String.replace \"\\\\\" \"/\"\n",
    "    $\"file:///{path |> String.trimStart [| '/' |]}\""
   ]
  },
  {
   "cell_type": "code",
   "execution_count": null,
   "metadata": {
    "dotnet_interactive": {
     "language": "fsharp"
    },
    "polyglot_notebook": {
     "kernelName": "fsharp"
    }
   },
   "outputs": [],
   "source": [
    "let inline getFilePathFromUri uri =\n",
    "    match System.Uri.TryCreate (uri, System.UriKind.Absolute) with\n",
    "    | true, uri -> uri.AbsolutePath |> System.IO.Path.GetFullPath\n",
    "    | _ -> failwith \"invalid uri\""
   ]
  },
  {
   "cell_type": "code",
   "execution_count": null,
   "metadata": {
    "dotnet_interactive": {
     "language": "fsharp"
    },
    "polyglot_notebook": {
     "kernelName": "fsharp"
    }
   },
   "outputs": [],
   "source": [
    "let inline getCompilerPort () =\n",
    "    13805"
   ]
  },
  {
   "cell_type": "markdown",
   "metadata": {},
   "source": [
    "## serialize_obj"
   ]
  },
  {
   "cell_type": "code",
   "execution_count": null,
   "metadata": {
    "dotnet_interactive": {
     "language": "fsharp"
    },
    "polyglot_notebook": {
     "kernelName": "fsharp"
    }
   },
   "outputs": [],
   "source": [
    "    let serializeObj obj =\n",
    "        obj\n",
    "        |> FSharp.Json.Json.serialize\n",
    "        |> String.replace \"\\\\\\\\\" \"\\\\\"\n",
    "        |> String.replace \"\\\\r\\\\n\" \"\\n\"\n",
    "        |> String.replace \"\\\\n\" \"\\n\""
   ]
  },
  {
   "cell_type": "markdown",
   "metadata": {},
   "source": [
    "## buildFile"
   ]
  },
  {
   "cell_type": "code",
   "execution_count": null,
   "metadata": {
    "dotnet_interactive": {
     "language": "fsharp"
    },
    "polyglot_notebook": {
     "kernelName": "fsharp"
    }
   },
   "outputs": [],
   "source": [
    "let inline buildFile timeout port cancellationToken path = async {\n",
    "    let fullPath = path |> System.IO.Path.GetFullPath\n",
    "    let fileDir = fullPath |> System.IO.Path.GetDirectoryName\n",
    "    let fileName = fullPath |> System.IO.Path.GetFileNameWithoutExtension\n",
    "    let! code = fullPath |> FileSystem.readAllTextAsync\n",
    "\n",
    "    let eventFilter = function\n",
    "        | FileSystem.FileSystemChange.Changed (path, _) when path = $\"{fileName}.fsx\" -> true\n",
    "        | _ -> false\n",
    "\n",
    "    let stream, disposable = fileDir |> FileSystem.watchDirectory eventFilter\n",
    "    use _ = disposable\n",
    "\n",
    "    let token, disposable = Threading.newDisposableToken cancellationToken\n",
    "    use _ = disposable\n",
    "\n",
    "    let! serverPort, errors, ct, disposable = awaitCompiler port (Some token)\n",
    "    use _ = disposable\n",
    "\n",
    "    let fsxContentSeq =\n",
    "        stream\n",
    "        |> FSharp.Control.AsyncSeq.choose (function\n",
    "            | _, (FileSystem.FileSystemChange.Changed (path, Some content) as event)\n",
    "                when event |> eventFilter\n",
    "                ->\n",
    "                Some content\n",
    "            | _ -> None\n",
    "        )\n",
    "        |> FSharp.Control.AsyncSeq.map (fun content ->\n",
    "            Some (content |> String.replace \"\\r\\n\" \"\\n\"), None\n",
    "        )\n",
    "\n",
    "    let inline printErrorData (data : {| uri : string; errors : RString list |}) =\n",
    "        let fileName = data.uri |> System.IO.Path.GetFileName\n",
    "        let errors =\n",
    "            data.errors\n",
    "            |> List.map snd\n",
    "            |> String.concat \"\\n\"\n",
    "        $\"{fileName}:\\n{errors}\"\n",
    "\n",
    "    let errorsSeq =\n",
    "        errors\n",
    "        |> FSharp.Control.AsyncSeq.choose (fun error ->\n",
    "            match error with\n",
    "            | FatalError message ->\n",
    "                Some (message, error)\n",
    "            | TracedError data ->\n",
    "                Some (data.message, error)\n",
    "            | PackageErrors data when data.errors |> List.isEmpty |> not ->\n",
    "                Some (data |> printErrorData, error)\n",
    "            | TokenizerErrors data when data.errors |> List.isEmpty |> not ->\n",
    "                Some (data |> printErrorData, error)\n",
    "            | ParserErrors data when data.errors |> List.isEmpty |> not ->\n",
    "                Some (data |> printErrorData, error)\n",
    "            | TypeErrors data when data.errors |> List.isEmpty |> not ->\n",
    "                Some (data |> printErrorData, error)\n",
    "            | _ -> None\n",
    "        )\n",
    "        |> FSharp.Control.AsyncSeq.map (fun (message, error) ->\n",
    "            None, Some (message, error)\n",
    "        )\n",
    "\n",
    "    let timerSeq =\n",
    "        1000\n",
    "        |> FSharp.Control.AsyncSeq.intervalMs\n",
    "        |> FSharp.Control.AsyncSeq.map (fun _ -> None, None)\n",
    "\n",
    "    let outputSeq =\n",
    "        [ fsxContentSeq; errorsSeq; timerSeq ]\n",
    "        |> FSharp.Control.AsyncSeq.mergeAll\n",
    "\n",
    "    let! outputChild =\n",
    "        ((None, [], 0), outputSeq)\n",
    "        ||> FSharp.Control.AsyncSeq.scan (\n",
    "            fun (fsxContentResult, errors, typeErrorCount) (fsxContent, error) ->\n",
    "                match fsxContent, error with\n",
    "                | Some fsxContent, None -> Some fsxContent, errors, typeErrorCount\n",
    "                | None, Some (_, FatalError \"File main has a type error somewhere in its path.\") ->\n",
    "                    fsxContentResult, errors, typeErrorCount + 1\n",
    "                | None, Some error -> fsxContentResult, error :: errors, typeErrorCount\n",
    "                | None, None when typeErrorCount >= 1 ->\n",
    "                    fsxContentResult, errors, typeErrorCount + 1\n",
    "                | _ -> fsxContentResult, errors, typeErrorCount\n",
    "        )\n",
    "        |> FSharp.Control.AsyncSeq.takeWhileInclusive (fun (fsxContent, errors, typeErrorCount) ->\n",
    "            trace Debug (fun () -> $\"buildFile / takeWhileInclusive / fsxContent: {fsxContent |> Option.defaultValue System.String.Empty |> String.ellipsis 750} / errors: {errors |> serializeObj} / typeErrorCount: {typeErrorCount}\") getLocals\n",
    "            match fsxContent, errors with\n",
    "            | None, [] when typeErrorCount > 2 -> false\n",
    "            | None, [] -> true\n",
    "            | _ -> false\n",
    "        )\n",
    "        |> FSharp.Control.AsyncSeq.tryLast\n",
    "        |> Async.withCancellationToken ct\n",
    "        |> Async.catch\n",
    "        |> Async.runWithTimeoutAsync timeout\n",
    "        |> Async.StartChild\n",
    "\n",
    "    let fileOpenObj = {| FileOpen = {| uri = fullPath |> getFileUri; spiText = code |} |}\n",
    "    let! _fileOpenResult = fileOpenObj |> sendObj serverPort\n",
    "\n",
    "    do! Async.Sleep 60\n",
    "\n",
    "    let buildFileObj = {| BuildFile = {| uri = fullPath |> getFileUri; backend = \"Fsharp\" |} |}\n",
    "    let! _buildFileResult = buildFileObj |> sendObj serverPort\n",
    "\n",
    "    return!\n",
    "        outputChild\n",
    "        |> Async.map (function\n",
    "            | Some (Ok (Some (message, errors, _))) ->\n",
    "                message, errors |> List.distinct |> List.rev\n",
    "            | Some (Error ex) ->\n",
    "                trace Critical (fun () -> $\"buildFile / error: {ex |> serializeObj}\") getLocals\n",
    "                None, []\n",
    "            | _ -> None, []\n",
    "        )\n",
    "}"
   ]
  },
  {
   "cell_type": "markdown",
   "metadata": {},
   "source": [
    "## persistCode"
   ]
  },
  {
   "cell_type": "code",
   "execution_count": null,
   "metadata": {
    "dotnet_interactive": {
     "language": "fsharp"
    },
    "polyglot_notebook": {
     "kernelName": "fsharp"
    }
   },
   "outputs": [],
   "source": [
    "let inline persistCode code = async {\n",
    "    let tempDir = FileSystem.createTempDirectory ()\n",
    "\n",
    "    let mainPath = tempDir </> \"main.spi\"\n",
    "    do! code |> FileSystem.writeAllTextAsync mainPath\n",
    "\n",
    "    let repositoryRoot = FileSystem.getSourceDirectory () |> FileSystem.findParent \".paket\" false\n",
    "\n",
    "    let spiprojPath = tempDir </> \"package.spiproj\"\n",
    "    let spiprojCode =\n",
    "        $\"\"\"packageDir: {repositoryRoot </> \"lib\"}\n",
    "packages:\n",
    "    |core-\n",
    "    spiral-\n",
    "modules:\n",
    "    main\n",
    "\"\"\"\n",
    "    do! spiprojCode |> FileSystem.writeAllTextAsync spiprojPath\n",
    "\n",
    "    let disposable = newDisposable (fun () ->\n",
    "        ()\n",
    "        // tempDir |> FileSystem.deleteDirectoryAsync |> Async.Ignore |> Async.RunSynchronously\n",
    "    )\n",
    "\n",
    "    return mainPath, disposable\n",
    "}"
   ]
  },
  {
   "cell_type": "markdown",
   "metadata": {},
   "source": [
    "## buildCode"
   ]
  },
  {
   "cell_type": "code",
   "execution_count": null,
   "metadata": {
    "dotnet_interactive": {
     "language": "fsharp"
    },
    "polyglot_notebook": {
     "kernelName": "fsharp"
    }
   },
   "outputs": [],
   "source": [
    "let inline buildCode timeout cancellationToken code = async {\n",
    "    let! mainPath, disposable = persistCode code\n",
    "    use _ = disposable\n",
    "    let port = getCompilerPort ()\n",
    "    return! mainPath |> buildFile timeout port cancellationToken\n",
    "}"
   ]
  },
  {
   "cell_type": "code",
   "execution_count": null,
   "metadata": {
    "dotnet_interactive": {
     "language": "fsharp"
    },
    "polyglot_notebook": {
     "kernelName": "fsharp"
    }
   },
   "outputs": [],
   "source": [
    "//// test\n",
    "\n",
    "let buildCode timeout cancellationToken code = buildCode timeout cancellationToken code"
   ]
  },
  {
   "cell_type": "code",
   "execution_count": null,
   "metadata": {
    "dotnet_interactive": {
     "language": "fsharp"
    },
    "polyglot_notebook": {
     "kernelName": "fsharp"
    }
   },
   "outputs": [
    {
     "name": "stdout",
     "output_type": "stream",
     "text": [
      "00:00:00 #1 [Verbose] testPortOpen / ex: System.AggregateException: One or more errors occurred. (Connection refused)\n",
      "00:00:00 #2 [Debug] executeAsync / options: { Command =\n",
      "   \"dotnet \"/home/runner/work/polyglot/polyglot/deps/The-Spiral-Language/The Spiral Language 2/artifacts/bin/The Spiral Language 2/release/Spiral.dll\" --port 13805 --default-int i32 --default-float f64\"\n",
      "  WorkingDirectory = None\n",
      "  CancellationToken = Some System.Threading.CancellationToken\n",
      "  OnLine = Some <fun:buildCode@3-1005> }\n",
      "00:00:00 #3 [Verbose] > pwd: /home/runner/work/polyglot/polyglot/apps/spiral\n",
      "00:00:00 #4 [Verbose] > dll_path: /home/runner/work/polyglot/polyglot/deps/The-Spiral-Language/The Spiral Language 2/artifacts/bin/The Spiral Language 2/release\n",
      "00:00:00 #5 [Verbose] testPortOpen / ex: System.AggregateException: One or more errors occurred. (Connection refused)\n",
      "00:00:00 #6 [Verbose] waitForPortAccess / port: 13805 / retry: 0\n",
      "00:00:00 #7 [Verbose] testPortOpen / ex: System.AggregateException: One or more errors occurred. (Connection refused)\n",
      "00:00:00 #8 [Verbose] testPortOpen / ex: System.AggregateException: One or more errors occurred. (Connection refused)\n",
      "00:00:00 #9 [Verbose] testPortOpen / ex: System.AggregateException: One or more errors occurred. (Connection refused)\n",
      "00:00:00 #10 [Verbose] testPortOpen / ex: System.AggregateException: One or more errors occurred. (Connection refused)\n",
      "00:00:00 #11 [Verbose] testPortOpen / ex: System.AggregateException: One or more errors occurred. (Connection refused)\n",
      "00:00:00 #12 [Verbose] testPortOpen / ex: System.AggregateException: One or more errors occurred. (Connection refused)\n",
      "00:00:00 #13 [Verbose] testPortOpen / ex: System.AggregateException: One or more errors occurred. (Connection refused)\n",
      "00:00:00 #14 [Verbose] > Starting the Spiral Server. It is bound to: http://localhost:13805\n",
      "00:00:00 #15 [Verbose] testPortOpen / ex: System.AggregateException: One or more errors occurred. (Connection refused)\n",
      "00:00:00 #16 [Verbose] testPortOpen / ex: System.AggregateException: One or more errors occurred. (Connection refused)\n",
      "00:00:00 #17 [Debug] sendJson / port: 13805 / json: {\"Ping\":true} / result.Length:\n",
      "00:00:00 #18 [Verbose] awaitCompiler / Ping / result: Some(null) / port: 13805 / retry: 0\n",
      "00:00:00 #19 [Verbose] > Server bound to: http://localhost:13805\n",
      "00:00:00 #20 [Debug] buildFile / takeWhileInclusive / fsxContent:  / errors: [] / typeErrorCount: 0\n",
      "00:00:00 #21 [Debug] buildFile / takeWhileInclusive / fsxContent:  / errors: [] / typeErrorCount: 0\n",
      "00:00:00 #22 [Debug] sendJson / port: 13805 / json: {\"FileOpen\":{\"spiText\":\"inl app () =\\n    console.write_line \\u0022text\\u0022\\n    1i32\\n\\ninl main () =\\n    app\\n    |\\u003E dyn\\n    |\\u003E ignore\\n\",\"uri\":\"file:///tmp/!dotnet-repl/20240315-1151-5905-0599-055d10a49037/main.spi\"}} / result.Length:\n",
      "00:00:00 #23 [Debug] sendJson / port: 13805 / json: {\"BuildFile\":{\"backend\":\"Fsharp\",\"uri\":\"file:///tmp/!dotnet-repl/20240315-1151-5905-0599-055d10a49037/main.spi\"}} / result.Length:\n",
      "00:00:01 #24 [Verbose] > Building /tmp/!dotnet-repl/20240315-1151-5905-0599-055d10a49037/main.spi\n",
      "00:00:01 #25 [Debug] buildFile / takeWhileInclusive / fsxContent:  / errors: [] / typeErrorCount: 0\n",
      "00:00:02 #26 [Debug] buildFile / takeWhileInclusive / fsxContent: let rec closure0 () () : int32 =\n",
      "    let v0 : string = \"text\"\n",
      "    System.Console.WriteLine v0\n",
      "    1\n",
      "let v0 : (unit -> int32) = closure0()\n",
      "()\n",
      " / errors: [] / typeErrorCount: 0\n",
      "00:00:02 #27 [Debug] watchWithFilter / Disposing watch stream / filter: FileName, LastWrite\n",
      "FSharpOption<Tuple<FSharpOption<String>,FSharpList<String>>>\n",
      "      Value:       - FSharpOption<String>\n",
      "          Value: let rec closure0 () () : int32 =\n",
      "    let v0 : string = \"text\"\n",
      "    System.Console.WriteLine v0\n",
      "    1\n",
      "let v0 : (unit -> int32) = closure0()\n",
      "()\n",
      "\n",
      "      - [  ]\n"
     ]
    }
   ],
   "source": [
    "//// test\n",
    "\n",
    "\"\"\"inl app () =\n",
    "    console.write_line \"text\"\n",
    "    1i32\n",
    "\n",
    "inl main () =\n",
    "    app\n",
    "    |> dyn\n",
    "    |> ignore\n",
    "\"\"\"\n",
    "|> buildCode 15000 None\n",
    "|> Async.runWithTimeout 15000\n",
    "|> Option.map (fun (fsxContent, errors) -> fsxContent, errors |> List.map fst)\n",
    "|> _equal (\n",
    "    Some (\n",
    "        Some \"\"\"let rec closure0 () () : int32 =\n",
    "    let v0 : string = \"text\"\n",
    "    System.Console.WriteLine v0\n",
    "    1\n",
    "let v0 : (unit -> int32) = closure0()\n",
    "()\n",
    "\"\"\",\n",
    "        []\n",
    "    )\n",
    ")"
   ]
  },
  {
   "cell_type": "code",
   "execution_count": null,
   "metadata": {
    "dotnet_interactive": {
     "language": "fsharp"
    },
    "polyglot_notebook": {
     "kernelName": "fsharp"
    }
   },
   "outputs": [
    {
     "name": "stdout",
     "output_type": "stream",
     "text": [
      "00:00:02 #28 [Verbose] testPortOpen / ex: System.AggregateException: One or more errors occurred. (Connection refused)\n",
      "00:00:02 #29 [Debug] executeAsync / options: { Command =\n",
      "   \"dotnet \"/home/runner/work/polyglot/polyglot/deps/The-Spiral-Language/The Spiral Language 2/artifacts/bin/The Spiral Language 2/release/Spiral.dll\" --port 13805 --default-int i32 --default-float f64\"\n",
      "  WorkingDirectory = None\n",
      "  CancellationToken = Some System.Threading.CancellationToken\n",
      "  OnLine = Some <fun:buildCode@3-1005> }\n",
      "00:00:02 #30 [Verbose] > pwd: /home/runner/work/polyglot/polyglot/apps/spiral\n",
      "00:00:02 #31 [Verbose] > dll_path: /home/runner/work/polyglot/polyglot/deps/The-Spiral-Language/The Spiral Language 2/artifacts/bin/The Spiral Language 2/release\n",
      "00:00:02 #32 [Verbose] testPortOpen / ex: System.AggregateException: One or more errors occurred. (Connection refused)\n",
      "00:00:02 #33 [Verbose] waitForPortAccess / port: 13805 / retry: 0\n",
      "00:00:02 #34 [Verbose] testPortOpen / ex: System.AggregateException: One or more errors occurred. (Connection refused)\n",
      "00:00:02 #35 [Verbose] testPortOpen / ex: System.AggregateException: One or more errors occurred. (Connection refused)\n",
      "00:00:02 #36 [Verbose] testPortOpen / ex: System.AggregateException: One or more errors occurred. (Connection refused)\n",
      "00:00:02 #37 [Verbose] testPortOpen / ex: System.AggregateException: One or more errors occurred. (Connection refused)\n",
      "00:00:02 #38 [Verbose] testPortOpen / ex: System.AggregateException: One or more errors occurred. (Connection refused)\n",
      "00:00:02 #39 [Verbose] testPortOpen / ex: System.AggregateException: One or more errors occurred. (Connection refused)\n",
      "00:00:02 #40 [Verbose] testPortOpen / ex: System.AggregateException: One or more errors occurred. (Connection refused)\n",
      "00:00:02 #41 [Verbose] > Starting the Spiral Server. It is bound to: http://localhost:13805\n",
      "00:00:02 #42 [Verbose] testPortOpen / ex: System.AggregateException: One or more errors occurred. (Connection refused)\n",
      "00:00:03 #43 [Debug] runWithTimeoutAsync / timeout: 500\n",
      "00:00:03 #44 [Debug] sendJson / port: 13805 / json: {\"Ping\":true} / result.Length:\n",
      "00:00:03 #45 [Verbose] awaitCompiler / Ping / result: Some(null) / port: 13805 / retry: 0\n",
      "00:00:03 #46 [Verbose] > Server bound to: http://localhost:13805\n",
      "00:00:03 #47 [Debug] buildFile / takeWhileInclusive / fsxContent:  / errors: [] / typeErrorCount: 0\n",
      "00:00:03 #48 [Debug] buildFile / takeWhileInclusive / fsxContent:  / errors: [] / typeErrorCount: 0\n",
      "00:00:03 #49 [Debug] sendJson / port: 13805 / json: {\"FileOpen\":{\"spiText\":\"\",\"uri\":\"file:///tmp/!dotnet-repl/20240315-1152-0154-5459-5e5565e77ccd/main.spi\"}} / result.Length:\n",
      "00:00:03 #50 [Debug] sendJson / port: 13805 / json: {\"BuildFile\":{\"backend\":\"Fsharp\",\"uri\":\"file:///tmp/!dotnet-repl/20240315-1152-0154-5459-5e5565e77ccd/main.spi\"}} / result.Length:\n",
      "00:00:03 #51 [Verbose] > Building /tmp/!dotnet-repl/20240315-1152-0154-5459-5e5565e77ccd/main.spi\n",
      "00:00:04 #52 [Debug] buildFile / takeWhileInclusive / fsxContent:  / errors: [] / typeErrorCount: 0\n",
      "00:00:04 #53 [Verbose] > Cannot find `main` in file main.\n",
      "00:00:04 #54 [Verbose] > Build skipped for /tmp/!dotnet-repl/20240315-1152-0154-5459-5e5565e77ccd/main.spi\n",
      "00:00:05 #55 [Debug] buildFile / takeWhileInclusive / fsxContent:  / errors: [] / typeErrorCount: 0\n",
      "00:00:06 #56 [Debug] buildFile / takeWhileInclusive / fsxContent:  / errors: [] / typeErrorCount: 0\n",
      "00:00:07 #57 [Debug] buildFile / takeWhileInclusive / fsxContent:  / errors: [] / typeErrorCount: 0\n",
      "00:00:08 #58 [Debug] buildFile / takeWhileInclusive / fsxContent:  / errors: [] / typeErrorCount: 0\n",
      "00:00:09 #59 [Debug] buildFile / takeWhileInclusive / fsxContent:  / errors: [] / typeErrorCount: 0\n",
      "00:00:10 #60 [Debug] buildFile / takeWhileInclusive / fsxContent:  / errors: [] / typeErrorCount: 0\n",
      "00:00:11 #61 [Debug] buildFile / takeWhileInclusive / fsxContent:  / errors: [] / typeErrorCount: 0\n",
      "00:00:12 #62 [Debug] runWithTimeoutAsync / timeout: 10000\n",
      "00:00:12 #63 [Debug] watchWithFilter / Disposing watch stream / filter: FileName, LastWrite\n",
      "<null>\n"
     ]
    }
   ],
   "source": [
    "//// test\n",
    "\n",
    "\"\"\n",
    "|> buildCode 10000 None\n",
    "|> Async.runWithTimeout 10000\n",
    "|> _equal None"
   ]
  },
  {
   "cell_type": "code",
   "execution_count": null,
   "metadata": {
    "dotnet_interactive": {
     "language": "fsharp"
    },
    "polyglot_notebook": {
     "kernelName": "fsharp"
    }
   },
   "outputs": [
    {
     "name": "stdout",
     "output_type": "stream",
     "text": [
      "00:00:12 #65 [Verbose] testPortOpen / ex: System.AggregateException: One or more errors occurred. (Connection refused)\n",
      "00:00:12 #66 [Debug] executeAsync / options: { Command =\n",
      "   \"dotnet \"/home/runner/work/polyglot/polyglot/deps/The-Spiral-Language/The Spiral Language 2/artifacts/bin/The Spiral Language 2/release/Spiral.dll\" --port 13805 --default-int i32 --default-float f64\"\n",
      "  WorkingDirectory = None\n",
      "  CancellationToken = Some System.Threading.CancellationToken\n",
      "  OnLine = Some <fun:buildCode@3-1005> }\n",
      "00:00:12 #67 [Verbose] > pwd: /home/runner/work/polyglot/polyglot/apps/spiral\n",
      "00:00:12 #68 [Verbose] testPortOpen / ex: System.AggregateException: One or more errors occurred. (Connection refused)\n",
      "00:00:12 #69 [Verbose] waitForPortAccess / port: 13805 / retry: 0\n",
      "00:00:12 #70 [Verbose] > dll_path: /home/runner/work/polyglot/polyglot/deps/The-Spiral-Language/The Spiral Language 2/artifacts/bin/The Spiral Language 2/release\n",
      "00:00:12 #71 [Verbose] testPortOpen / ex: System.AggregateException: One or more errors occurred. (Connection refused)\n",
      "00:00:12 #72 [Verbose] testPortOpen / ex: System.AggregateException: One or more errors occurred. (Connection refused)\n",
      "00:00:12 #73 [Verbose] testPortOpen / ex: System.AggregateException: One or more errors occurred. (Connection refused)\n",
      "00:00:12 #74 [Verbose] testPortOpen / ex: System.AggregateException: One or more errors occurred. (Connection refused)\n",
      "00:00:12 #75 [Verbose] testPortOpen / ex: System.AggregateException: One or more errors occurred. (Connection refused)\n",
      "00:00:12 #76 [Verbose] testPortOpen / ex: System.AggregateException: One or more errors occurred. (Connection refused)\n",
      "00:00:12 #77 [Verbose] testPortOpen / ex: System.AggregateException: One or more errors occurred. (Connection refused)\n",
      "00:00:12 #78 [Verbose] testPortOpen / ex: System.AggregateException: One or more errors occurred. (Connection refused)\n",
      "00:00:12 #79 [Verbose] > Starting the Spiral Server. It is bound to: http://localhost:13805\n",
      "00:00:12 #80 [Verbose] testPortOpen / ex: System.AggregateException: One or more errors occurred. (Connection refused)\n",
      "00:00:12 #81 [Verbose] testPortOpen / ex: System.AggregateException: One or more errors occurred. (Connection refused)\n",
      "00:00:12 #82 [Verbose] testPortOpen / ex: System.AggregateException: One or more errors occurred. (Connection refused)\n",
      "00:00:13 #83 [Debug] sendJson / port: 13805 / json: {\"Ping\":true} / result.Length:\n",
      "00:00:13 #84 [Verbose] awaitCompiler / Ping / result: Some(null) / port: 13805 / retry: 0\n",
      "00:00:13 #85 [Verbose] > Server bound to: http://localhost:13805\n",
      "00:00:13 #86 [Debug] buildFile / takeWhileInclusive / fsxContent:  / errors: [] / typeErrorCount: 0\n",
      "00:00:13 #87 [Debug] buildFile / takeWhileInclusive / fsxContent:  / errors: [] / typeErrorCount: 0\n",
      "00:00:13 #88 [Debug] sendJson / port: 13805 / json: {\"FileOpen\":{\"spiText\":\"inl app () =\\n    0i32\\n\\ninl a = 1\\n\\ninl main () =\\n    app\\n    |\\u003E dyn\\n    |\\u003E ignore\\n\",\"uri\":\"file:///tmp/!dotnet-repl/20240315-1152-1167-6729-66dd00eb5877/main.spi\"}} / result.Length:\n",
      "00:00:13 #89 [Debug] sendJson / port: 13805 / json: {\"BuildFile\":{\"backend\":\"Fsharp\",\"uri\":\"file:///tmp/!dotnet-repl/20240315-1152-1167-6729-66dd00eb5877/main.spi\"}} / result.Length:\n",
      "00:00:13 #91 [Verbose] > Building /tmp/!dotnet-repl/20240315-1152-1167-6729-66dd00eb5877/main.spi\n",
      "00:00:13 #93 [Debug] buildFile / takeWhileInclusive / fsxContent:  / errors: [\n",
      "  [\n",
      "    \"main.spi:\n",
      "Global inl/let statements should all return functions known at parse time.\",\n",
      "    {\n",
      "      \"ParserErrors\": {\n",
      "        \"errors\": [\n",
      "          [\n",
      "            [\n",
      "              {\n",
      "                \"character\": 0,\n",
      "                \"line\": 3\n",
      "              },\n",
      "              {\n",
      "                \"character\": 9,\n",
      "                \"line\": 3\n",
      "              }\n",
      "            ],\n",
      "            \"Global inl/let statements should all return functions known at parse time.\"\n",
      "          ]\n",
      "        ],\n",
      "        \"uri\": \"file:///tmp/!dotnet-repl/20240315-1152-1167-6729-66dd00eb5877/main.spi\"\n",
      "      }\n",
      "    }\n",
      "  ]\n",
      "] / typeErrorCount: 0\n",
      "00:00:13 #94 [Debug] watchWithFilter / Disposing watch stream / filter: FileName, LastWrite\n",
      "FSharpOption<Tuple<FSharpOption<String>,FSharpList<String>>>\n",
      "      Value:       - <null>\n",
      "      - [ main.spi:\n",
      "Global inl/let statements should all return functions known at parse time. ]\n"
     ]
    }
   ],
   "source": [
    "//// test\n",
    "\n",
    "\"inl app () =\n",
    "    0i32\n",
    "\n",
    "inl a = 1\n",
    "\n",
    "inl main () =\n",
    "    app\n",
    "    |> dyn\n",
    "    |> ignore\n",
    "\"\n",
    "|> buildCode 10000 None\n",
    "|> Async.runWithTimeout 10000\n",
    "|> Option.map (fun (fsxContent, errors) -> fsxContent, errors |> List.map fst)\n",
    "|> _equal (\n",
    "    Some (\n",
    "        None,\n",
    "        [ \"main.spi:\n",
    "Global inl/let statements should all return functions known at parse time.\" ]\n",
    "    )\n",
    ")"
   ]
  },
  {
   "cell_type": "code",
   "execution_count": null,
   "metadata": {
    "dotnet_interactive": {
     "language": "fsharp"
    },
    "polyglot_notebook": {
     "kernelName": "fsharp"
    }
   },
   "outputs": [
    {
     "name": "stdout",
     "output_type": "stream",
     "text": [
      "00:00:13 #95 [Verbose] testPortOpen / ex: System.AggregateException: One or more errors occurred. (Connection refused)\n",
      "00:00:13 #96 [Debug] executeAsync / options: { Command =\n",
      "   \"dotnet \"/home/runner/work/polyglot/polyglot/deps/The-Spiral-Language/The Spiral Language 2/artifacts/bin/The Spiral Language 2/release/Spiral.dll\" --port 13805 --default-int i32 --default-float f64\"\n",
      "  WorkingDirectory = None\n",
      "  CancellationToken = Some System.Threading.CancellationToken\n",
      "  OnLine = Some <fun:buildCode@3-1005> }\n",
      "00:00:13 #97 [Verbose] > pwd: /home/runner/work/polyglot/polyglot/apps/spiral\n",
      "00:00:13 #98 [Verbose] testPortOpen / ex: System.AggregateException: One or more errors occurred. (Connection refused)\n",
      "00:00:13 #99 [Verbose] > dll_path: /home/runner/work/polyglot/polyglot/deps/The-Spiral-Language/The Spiral Language 2/artifacts/bin/The Spiral Language 2/release\n",
      "00:00:13 #100 [Verbose] waitForPortAccess / port: 13805 / retry: 0\n",
      "00:00:13 #101 [Verbose] testPortOpen / ex: System.AggregateException: One or more errors occurred. (Connection refused)\n",
      "00:00:13 #102 [Verbose] testPortOpen / ex: System.AggregateException: One or more errors occurred. (Connection refused)\n",
      "00:00:13 #103 [Verbose] testPortOpen / ex: System.AggregateException: One or more errors occurred. (Connection refused)\n",
      "00:00:14 #104 [Verbose] testPortOpen / ex: System.AggregateException: One or more errors occurred. (Connection refused)\n",
      "00:00:14 #105 [Verbose] testPortOpen / ex: System.AggregateException: One or more errors occurred. (Connection refused)\n",
      "00:00:14 #106 [Verbose] testPortOpen / ex: System.AggregateException: One or more errors occurred. (Connection refused)\n",
      "00:00:14 #107 [Verbose] testPortOpen / ex: System.AggregateException: One or more errors occurred. (Connection refused)\n",
      "00:00:14 #108 [Verbose] > Starting the Spiral Server. It is bound to: http://localhost:13805\n",
      "00:00:14 #109 [Verbose] testPortOpen / ex: System.AggregateException: One or more errors occurred. (Connection refused)\n",
      "00:00:14 #110 [Verbose] testPortOpen / ex: System.AggregateException: One or more errors occurred. (Connection refused)\n",
      "00:00:14 #111 [Debug] sendJson / port: 13805 / json: {\"Ping\":true} / result.Length:\n",
      "00:00:14 #112 [Verbose] awaitCompiler / Ping / result: Some(null) / port: 13805 / retry: 0\n",
      "00:00:14 #113 [Verbose] > Server bound to: http://localhost:13805\n",
      "00:00:14 #114 [Debug] buildFile / takeWhileInclusive / fsxContent:  / errors: [] / typeErrorCount: 0\n",
      "00:00:14 #115 [Debug] buildFile / takeWhileInclusive / fsxContent:  / errors: [] / typeErrorCount: 0\n",
      "00:00:14 #116 [Debug] sendJson / port: 13805 / json: {\"FileOpen\":{\"spiText\":\"inl main () =\\n    1i32 / 0i32\\n\",\"uri\":\"file:///tmp/!dotnet-repl/20240315-1152-1280-8056-88b67f4fed4e/main.spi\"}} / result.Length:\n",
      "00:00:14 #117 [Debug] sendJson / port: 13805 / json: {\"BuildFile\":{\"backend\":\"Fsharp\",\"uri\":\"file:///tmp/!dotnet-repl/20240315-1152-1280-8056-88b67f4fed4e/main.spi\"}} / result.Length:\n",
      "00:00:14 #119 [Verbose] > Building /tmp/!dotnet-repl/20240315-1152-1280-8056-88b67f4fed4e/main.spi\n",
      "00:00:15 #120 [Debug] buildFile / takeWhileInclusive / fsxContent:  / errors: [] / typeErrorCount: 0\n",
      "00:00:15 #122 [Debug] buildFile / takeWhileInclusive / fsxContent:  / errors: [\n",
      "  [\n",
      "    \"An attempt to divide by zero has been detected at compile time.\",\n",
      "    {\n",
      "      \"TracedError\": {\n",
      "        \"message\": \"An attempt to divide by zero has been detected at compile time.\",\n",
      "        \"trace\": [\n",
      "          \"Error trace on line: 1, column: 10 in module: /tmp/!dotnet-repl/20240315-1152-1280-8056-88b67f4fed4e/main.spi.\n",
      "inl main () =\n",
      "         ^\n",
      "\",\n",
      "          \"Error trace on line: 2, column: 5 in module: /tmp/!dotnet-repl/20240315-1152-1280-8056-88b67f4fed4e/main.spi.\n",
      "    1i32 / 0i32\n",
      "    ^\n",
      "\"\n",
      "        ]\n",
      "      }\n",
      "    }\n",
      "  ]\n",
      "] / typeErrorCount: 0\n",
      "00:00:15 #123 [Debug] watchWithFilter / Disposing watch stream / filter: FileName, LastWrite\n",
      "FSharpOption<Tuple<FSharpOption<String>,FSharpList<String>>>\n",
      "      Value:       - <null>\n",
      "      - [ An attempt to divide by zero has been detected at compile time. ]\n"
     ]
    }
   ],
   "source": [
    "//// test\n",
    "\n",
    "\"\"\"inl main () =\n",
    "    1i32 / 0i32\n",
    "\"\"\"\n",
    "|> buildCode 10000 None\n",
    "|> Async.runWithTimeout 10000\n",
    "|> Option.map (fun (fsxContent, errors) -> fsxContent, errors |> List.map fst)\n",
    "|> _equal (\n",
    "    Some (\n",
    "        None,\n",
    "        [ \"An attempt to divide by zero has been detected at compile time.\" ]\n",
    "    )\n",
    ")"
   ]
  },
  {
   "cell_type": "code",
   "execution_count": null,
   "metadata": {
    "dotnet_interactive": {
     "language": "fsharp"
    },
    "polyglot_notebook": {
     "kernelName": "fsharp"
    }
   },
   "outputs": [
    {
     "name": "stdout",
     "output_type": "stream",
     "text": [
      "00:00:15 #124 [Verbose] testPortOpen / ex: System.AggregateException: One or more errors occurred. (Connection refused)\n",
      "00:00:15 #125 [Debug] executeAsync / options: { Command =\n",
      "   \"dotnet \"/home/runner/work/polyglot/polyglot/deps/The-Spiral-Language/The Spiral Language 2/artifacts/bin/The Spiral Language 2/release/Spiral.dll\" --port 13805 --default-int i32 --default-float f64\"\n",
      "  WorkingDirectory = None\n",
      "  CancellationToken = Some System.Threading.CancellationToken\n",
      "  OnLine = Some <fun:buildCode@3-1005> }\n",
      "00:00:16 #126 [Verbose] > pwd: /home/runner/work/polyglot/polyglot/apps/spiral\n",
      "00:00:16 #127 [Verbose] testPortOpen / ex: System.AggregateException: One or more errors occurred. (Connection refused)\n",
      "00:00:16 #128 [Verbose] waitForPortAccess / port: 13805 / retry: 0\n",
      "00:00:16 #129 [Verbose] > dll_path: /home/runner/work/polyglot/polyglot/deps/The-Spiral-Language/The Spiral Language 2/artifacts/bin/The Spiral Language 2/release\n",
      "00:00:16 #130 [Verbose] testPortOpen / ex: System.AggregateException: One or more errors occurred. (Connection refused)\n",
      "00:00:16 #131 [Verbose] testPortOpen / ex: System.AggregateException: One or more errors occurred. (Connection refused)\n",
      "00:00:16 #132 [Verbose] testPortOpen / ex: System.AggregateException: One or more errors occurred. (Connection refused)\n",
      "00:00:16 #133 [Verbose] testPortOpen / ex: System.AggregateException: One or more errors occurred. (Connection refused)\n",
      "00:00:16 #134 [Verbose] testPortOpen / ex: System.AggregateException: One or more errors occurred. (Connection refused)\n",
      "00:00:16 #135 [Verbose] testPortOpen / ex: System.AggregateException: One or more errors occurred. (Connection refused)\n",
      "00:00:16 #136 [Verbose] testPortOpen / ex: System.AggregateException: One or more errors occurred. (Connection refused)\n",
      "00:00:16 #137 [Verbose] > Starting the Spiral Server. It is bound to: http://localhost:13805\n",
      "00:00:16 #138 [Verbose] testPortOpen / ex: System.AggregateException: One or more errors occurred. (Connection refused)\n",
      "00:00:16 #139 [Verbose] testPortOpen / ex: System.AggregateException: One or more errors occurred. (Connection refused)\n",
      "00:00:16 #140 [Verbose] testPortOpen / ex: System.AggregateException: One or more errors occurred. (Connection refused)\n",
      "00:00:16 #141 [Debug] sendJson / port: 13805 / json: {\"Ping\":true} / result.Length:\n",
      "00:00:16 #142 [Verbose] awaitCompiler / Ping / result: Some(null) / port: 13805 / retry: 0\n",
      "00:00:16 #143 [Verbose] > Server bound to: http://localhost:13805\n",
      "00:00:16 #144 [Debug] buildFile / takeWhileInclusive / fsxContent:  / errors: [] / typeErrorCount: 0\n",
      "00:00:16 #145 [Debug] buildFile / takeWhileInclusive / fsxContent:  / errors: [] / typeErrorCount: 0\n",
      "00:00:16 #146 [Debug] sendJson / port: 13805 / json: {\"FileOpen\":{\"spiText\":\"inl main () =\\n    1 \\u002B \\u0022\\u0022\\n\",\"uri\":\"file:///tmp/!dotnet-repl/20240315-1152-1487-8733-8a356c3aa518/main.spi\"}} / result.Length:\n",
      "00:00:16 #147 [Debug] sendJson / port: 13805 / json: {\"BuildFile\":{\"backend\":\"Fsharp\",\"uri\":\"file:///tmp/!dotnet-repl/20240315-1152-1487-8733-8a356c3aa518/main.spi\"}} / result.Length:\n",
      "00:00:16 #149 [Verbose] > Building /tmp/!dotnet-repl/20240315-1152-1487-8733-8a356c3aa518/main.spi\n",
      "00:00:17 #150 [Debug] buildFile / takeWhileInclusive / fsxContent:  / errors: [] / typeErrorCount: 0\n",
      "00:00:17 #152 [Debug] buildFile / takeWhileInclusive / fsxContent:  / errors: [] / typeErrorCount: 1\n",
      "00:00:17 #153 [Debug] buildFile / takeWhileInclusive / fsxContent:  / errors: [\n",
      "  [\n",
      "    \"main.spi:\n",
      "Constraint satisfaction error.\n",
      "Got: string\n",
      "Fails to satisfy: number\",\n",
      "    {\n",
      "      \"TypeErrors\": {\n",
      "        \"errors\": [\n",
      "          [\n",
      "            [\n",
      "              {\n",
      "                \"character\": 8,\n",
      "                \"line\": 1\n",
      "              },\n",
      "              {\n",
      "                \"character\": 10,\n",
      "                \"line\": 1\n",
      "              }\n",
      "            ],\n",
      "            \"Constraint satisfaction error.\n",
      "Got: string\n",
      "Fails to satisfy: number\"\n",
      "          ]\n",
      "        ],\n",
      "        \"uri\": \"file:///tmp/!dotnet-repl/20240315-1152-1487-8733-8a356c3aa518/main.spi\"\n",
      "      }\n",
      "    }\n",
      "  ]\n",
      "] / typeErrorCount: 1\n",
      "00:00:17 #154 [Debug] watchWithFilter / Disposing watch stream / filter: FileName, LastWrite\n",
      "FSharpOption<Tuple<FSharpOption<String>,FSharpList<String>>>\n",
      "      Value:       - <null>\n",
      "      - [ main.spi:\n",
      "Constraint satisfaction error.\n",
      "Got: string\n",
      "Fails to satisfy: number ]\n"
     ]
    }
   ],
   "source": [
    "//// test\n",
    "\n",
    "\"\"\"inl main () =\n",
    "    1 + \"\"\n",
    "\"\"\"\n",
    "|> buildCode 10000 None\n",
    "|> Async.runWithTimeout 10000\n",
    "|> Option.map (fun (fsxContent, errors) -> fsxContent, errors |> List.map fst)\n",
    "|> _equal (\n",
    "    Some (\n",
    "        None,\n",
    "        [\n",
    "            \"main.spi:\n",
    "Constraint satisfaction error.\n",
    "Got: string\n",
    "Fails to satisfy: number\"\n",
    "        ]\n",
    "    )\n",
    ")"
   ]
  },
  {
   "cell_type": "code",
   "execution_count": null,
   "metadata": {
    "dotnet_interactive": {
     "language": "fsharp"
    },
    "polyglot_notebook": {
     "kernelName": "fsharp"
    }
   },
   "outputs": [
    {
     "name": "stdout",
     "output_type": "stream",
     "text": [
      "00:00:17 #155 [Verbose] testPortOpen / ex: System.AggregateException: One or more errors occurred. (Connection refused)\n",
      "00:00:17 #156 [Debug] executeAsync / options: { Command =\n",
      "   \"dotnet \"/home/runner/work/polyglot/polyglot/deps/The-Spiral-Language/The Spiral Language 2/artifacts/bin/The Spiral Language 2/release/Spiral.dll\" --port 13805 --default-int i32 --default-float f64\"\n",
      "  WorkingDirectory = None\n",
      "  CancellationToken = Some System.Threading.CancellationToken\n",
      "  OnLine = Some <fun:buildCode@3-1005> }\n",
      "00:00:17 #157 [Verbose] > pwd: /home/runner/work/polyglot/polyglot/apps/spiral\n",
      "00:00:17 #158 [Verbose] testPortOpen / ex: System.AggregateException: One or more errors occurred. (Connection refused)\n",
      "00:00:17 #159 [Verbose] waitForPortAccess / port: 13805 / retry: 0\n",
      "00:00:17 #160 [Verbose] > dll_path: /home/runner/work/polyglot/polyglot/deps/The-Spiral-Language/The Spiral Language 2/artifacts/bin/The Spiral Language 2/release\n",
      "00:00:17 #161 [Verbose] testPortOpen / ex: System.AggregateException: One or more errors occurred. (Connection refused)\n",
      "00:00:17 #162 [Verbose] testPortOpen / ex: System.AggregateException: One or more errors occurred. (Connection refused)\n",
      "00:00:17 #163 [Verbose] testPortOpen / ex: System.AggregateException: One or more errors occurred. (Connection refused)\n",
      "00:00:17 #164 [Verbose] testPortOpen / ex: System.AggregateException: One or more errors occurred. (Connection refused)\n",
      "00:00:17 #165 [Verbose] testPortOpen / ex: System.AggregateException: One or more errors occurred. (Connection refused)\n",
      "00:00:17 #166 [Verbose] testPortOpen / ex: System.AggregateException: One or more errors occurred. (Connection refused)\n",
      "00:00:17 #167 [Verbose] testPortOpen / ex: System.AggregateException: One or more errors occurred. (Connection refused)\n",
      "00:00:17 #168 [Verbose] > Starting the Spiral Server. It is bound to: http://localhost:13805\n",
      "00:00:17 #169 [Verbose] testPortOpen / ex: System.AggregateException: One or more errors occurred. (Connection refused)\n",
      "00:00:17 #170 [Verbose] testPortOpen / ex: System.AggregateException: One or more errors occurred. (Connection refused)\n",
      "00:00:18 #171 [Debug] sendJson / port: 13805 / json: {\"Ping\":true} / result.Length:\n",
      "00:00:18 #172 [Verbose] awaitCompiler / Ping / result: Some(null) / port: 13805 / retry: 0\n",
      "00:00:18 #173 [Verbose] > Server bound to: http://localhost:13805\n",
      "00:00:18 #174 [Debug] buildFile / takeWhileInclusive / fsxContent:  / errors: [] / typeErrorCount: 0\n",
      "00:00:18 #175 [Debug] buildFile / takeWhileInclusive / fsxContent:  / errors: [] / typeErrorCount: 0\n",
      "00:00:18 #176 [Debug] sendJson / port: 13805 / json: {\"FileOpen\":{\"spiText\":\"inl main () =\\n    x \\u002B y\\n\",\"uri\":\"file:///tmp/!dotnet-repl/20240315-1152-1673-7327-79a7ee3b5c16/main.spi\"}} / result.Length:\n",
      "00:00:18 #177 [Debug] sendJson / port: 13805 / json: {\"BuildFile\":{\"backend\":\"Fsharp\",\"uri\":\"file:///tmp/!dotnet-repl/20240315-1152-1673-7327-79a7ee3b5c16/main.spi\"}} / result.Length:\n",
      "00:00:18 #178 [Verbose] > Building /tmp/!dotnet-repl/20240315-1152-1673-7327-79a7ee3b5c16/main.spi\n",
      "00:00:19 #180 [Debug] buildFile / takeWhileInclusive / fsxContent:  / errors: [] / typeErrorCount: 0\n",
      "00:00:19 #181 [Debug] buildFile / takeWhileInclusive / fsxContent:  / errors: [] / typeErrorCount: 1\n",
      "00:00:19 #182 [Debug] buildFile / takeWhileInclusive / fsxContent:  / errors: [\n",
      "  [\n",
      "    \"main.spi:\n",
      "Unbound variable: x.\n",
      "Unbound variable: y.\",\n",
      "    {\n",
      "      \"TypeErrors\": {\n",
      "        \"errors\": [\n",
      "          [\n",
      "            [\n",
      "              {\n",
      "                \"character\": 4,\n",
      "                \"line\": 1\n",
      "              },\n",
      "              {\n",
      "                \"character\": 5,\n",
      "                \"line\": 1\n",
      "              }\n",
      "            ],\n",
      "            \"Unbound variable: x.\"\n",
      "          ],\n",
      "          [\n",
      "            [\n",
      "              {\n",
      "                \"character\": 8,\n",
      "                \"line\": 1\n",
      "              },\n",
      "              {\n",
      "                \"character\": 9,\n",
      "                \"line\": 1\n",
      "              }\n",
      "            ],\n",
      "            \"Unbound variable: y.\"\n",
      "          ]\n",
      "        ],\n",
      "        \"uri\": \"file:///tmp/!dotnet-repl/20240315-1152-1673-7327-79a7ee3b5c16/main.spi\"\n",
      "      }\n",
      "    }\n",
      "  ]\n",
      "] / typeErrorCount: 1\n",
      "00:00:19 #183 [Debug] watchWithFilter / Disposing watch stream / filter: FileName, LastWrite\n",
      "FSharpOption<Tuple<FSharpOption<String>,FSharpList<String>>>\n",
      "      Value:       - <null>\n",
      "      - [ main.spi:\n",
      "Unbound variable: x.\n",
      "Unbound variable: y. ]\n"
     ]
    }
   ],
   "source": [
    "//// test\n",
    "\n",
    "\"\"\"inl main () =\n",
    "    x + y\n",
    "\"\"\"\n",
    "|> buildCode 10000 None\n",
    "|> Async.runWithTimeout 10000\n",
    "|> Option.map (fun (fsxContent, errors) -> fsxContent, errors |> List.map fst)\n",
    "|> _equal (\n",
    "    Some (\n",
    "        None,\n",
    "        [\n",
    "            \"main.spi:\n",
    "Unbound variable: x.\n",
    "Unbound variable: y.\"\n",
    "        ]\n",
    "    )\n",
    ")"
   ]
  },
  {
   "cell_type": "code",
   "execution_count": null,
   "metadata": {
    "dotnet_interactive": {
     "language": "fsharp"
    },
    "polyglot_notebook": {
     "kernelName": "fsharp"
    }
   },
   "outputs": [
    {
     "name": "stdout",
     "output_type": "stream",
     "text": [
      "00:00:19 #184 [Verbose] testPortOpen / ex: System.AggregateException: One or more errors occurred. (Connection refused)\n",
      "00:00:19 #185 [Debug] executeAsync / options: { Command =\n",
      "   \"dotnet \"/home/runner/work/polyglot/polyglot/deps/The-Spiral-Language/The Spiral Language 2/artifacts/bin/The Spiral Language 2/release/Spiral.dll\" --port 13805 --default-int i32 --default-float f64\"\n",
      "  WorkingDirectory = None\n",
      "  CancellationToken = Some System.Threading.CancellationToken\n",
      "  OnLine = Some <fun:buildCode@3-1005> }\n",
      "00:00:19 #187 [Verbose] > pwd: /home/runner/work/polyglot/polyglot/apps/spiral\n",
      "00:00:19 #188 [Verbose] testPortOpen / ex: System.AggregateException: One or more errors occurred. (Connection refused)\n",
      "00:00:19 #189 [Verbose] waitForPortAccess / port: 13805 / retry: 0\n",
      "00:00:19 #190 [Verbose] > dll_path: /home/runner/work/polyglot/polyglot/deps/The-Spiral-Language/The Spiral Language 2/artifacts/bin/The Spiral Language 2/release\n",
      "00:00:19 #191 [Verbose] testPortOpen / ex: System.AggregateException: One or more errors occurred. (Connection refused)\n",
      "00:00:19 #192 [Verbose] testPortOpen / ex: System.AggregateException: One or more errors occurred. (Connection refused)\n",
      "00:00:19 #193 [Verbose] testPortOpen / ex: System.AggregateException: One or more errors occurred. (Connection refused)\n",
      "00:00:19 #194 [Verbose] testPortOpen / ex: System.AggregateException: One or more errors occurred. (Connection refused)\n",
      "00:00:19 #195 [Verbose] testPortOpen / ex: System.AggregateException: One or more errors occurred. (Connection refused)\n",
      "00:00:19 #196 [Verbose] testPortOpen / ex: System.AggregateException: One or more errors occurred. (Connection refused)\n",
      "00:00:19 #197 [Verbose] testPortOpen / ex: System.AggregateException: One or more errors occurred. (Connection refused)\n",
      "00:00:19 #198 [Verbose] > Starting the Spiral Server. It is bound to: http://localhost:13805\n",
      "00:00:19 #199 [Verbose] testPortOpen / ex: System.AggregateException: One or more errors occurred. (Connection refused)\n",
      "00:00:19 #200 [Verbose] testPortOpen / ex: System.AggregateException: One or more errors occurred. (Connection refused)\n",
      "00:00:19 #201 [Debug] sendJson / port: 13805 / json: {\"Ping\":true} / result.Length:\n",
      "00:00:19 #202 [Verbose] awaitCompiler / Ping / result: Some(null) / port: 13805 / retry: 0\n",
      "00:00:19 #203 [Verbose] > Server bound to: http://localhost:13805\n",
      "00:00:19 #204 [Debug] buildFile / takeWhileInclusive / fsxContent:  / errors: [] / typeErrorCount: 0\n",
      "00:00:19 #205 [Debug] buildFile / takeWhileInclusive / fsxContent:  / errors: [] / typeErrorCount: 0\n",
      "00:00:19 #206 [Debug] sendJson / port: 13805 / json: {\"FileOpen\":{\"spiText\":\"union a =\\n    | B\\n    | c\\n\\ninl main () =\\n    ()\\n\",\"uri\":\"file:///tmp/!dotnet-repl/20240315-1152-1850-5010-520e3f7fc3b5/main.spi\"}} / result.Length:\n",
      "00:00:20 #207 [Debug] sendJson / port: 13805 / json: {\"BuildFile\":{\"backend\":\"Fsharp\",\"uri\":\"file:///tmp/!dotnet-repl/20240315-1152-1850-5010-520e3f7fc3b5/main.spi\"}} / result.Length:\n",
      "00:00:20 #208 [Verbose] > Building /tmp/!dotnet-repl/20240315-1152-1850-5010-520e3f7fc3b5/main.spi\n",
      "00:00:20 #209 [Debug] buildFile / takeWhileInclusive / fsxContent:  / errors: [\n",
      "  [\n",
      "    \"main.spi:\n",
      "Expected: uppercase variable\",\n",
      "    {\n",
      "      \"ParserErrors\": {\n",
      "        \"errors\": [\n",
      "          [\n",
      "            [\n",
      "              {\n",
      "                \"character\": 6,\n",
      "                \"line\": 2\n",
      "              },\n",
      "              {\n",
      "                \"character\": 7,\n",
      "                \"line\": 2\n",
      "              }\n",
      "            ],\n",
      "            \"Expected: uppercase variable\"\n",
      "          ]\n",
      "        ],\n",
      "        \"uri\": \"file:///tmp/!dotnet-repl/20240315-1152-1850-5010-520e3f7fc3b5/main.spi\"\n",
      "      }\n",
      "    }\n",
      "  ]\n",
      "] / typeErrorCount: 0\n",
      "00:00:20 #210 [Debug] watchWithFilter / Disposing watch stream / filter: FileName, LastWrite\n",
      "FSharpOption<Tuple<FSharpOption<String>,FSharpList<String>>>\n",
      "      Value:       - <null>\n",
      "      - [ main.spi:\n",
      "Expected: uppercase variable ]\n"
     ]
    }
   ],
   "source": [
    "//// test\n",
    "\n",
    "\"\"\"union a =\n",
    "    | B\n",
    "    | c\n",
    "\n",
    "inl main () =\n",
    "    ()\n",
    "\"\"\"\n",
    "|> buildCode 10000 None\n",
    "|> Async.runWithTimeout 10000\n",
    "|> Option.map (fun (fsxContent, errors) -> fsxContent, errors |> List.map fst)\n",
    "|> _equal (\n",
    "    Some (\n",
    "        None,\n",
    "        [ \"main.spi:\n",
    "Expected: uppercase variable\" ]\n",
    "    )\n",
    ")"
   ]
  },
  {
   "cell_type": "code",
   "execution_count": null,
   "metadata": {
    "dotnet_interactive": {
     "language": "fsharp"
    },
    "polyglot_notebook": {
     "kernelName": "fsharp"
    }
   },
   "outputs": [
    {
     "name": "stdout",
     "output_type": "stream",
     "text": [
      "00:00:20 #211 [Verbose] testPortOpen / ex: System.AggregateException: One or more errors occurred. (Connection refused)\n",
      "00:00:20 #212 [Debug] executeAsync / options: { Command =\n",
      "   \"dotnet \"/home/runner/work/polyglot/polyglot/deps/The-Spiral-Language/The Spiral Language 2/artifacts/bin/The Spiral Language 2/release/Spiral.dll\" --port 13805 --default-int i32 --default-float f64\"\n",
      "  WorkingDirectory = None\n",
      "  CancellationToken = Some System.Threading.CancellationToken\n",
      "  OnLine = Some <fun:buildCode@3-1005> }\n",
      "00:00:20 #214 [Verbose] > pwd: /home/runner/work/polyglot/polyglot/apps/spiral\n",
      "00:00:20 #215 [Verbose] testPortOpen / ex: System.AggregateException: One or more errors occurred. (Connection refused)\n",
      "00:00:20 #216 [Verbose] waitForPortAccess / port: 13805 / retry: 0\n",
      "00:00:20 #217 [Verbose] > dll_path: /home/runner/work/polyglot/polyglot/deps/The-Spiral-Language/The Spiral Language 2/artifacts/bin/The Spiral Language 2/release\n",
      "00:00:20 #218 [Verbose] testPortOpen / ex: System.AggregateException: One or more errors occurred. (Connection refused)\n",
      "00:00:20 #219 [Verbose] testPortOpen / ex: System.AggregateException: One or more errors occurred. (Connection refused)\n",
      "00:00:20 #220 [Verbose] testPortOpen / ex: System.AggregateException: One or more errors occurred. (Connection refused)\n",
      "00:00:20 #221 [Verbose] testPortOpen / ex: System.AggregateException: One or more errors occurred. (Connection refused)\n",
      "00:00:20 #222 [Verbose] testPortOpen / ex: System.AggregateException: One or more errors occurred. (Connection refused)\n",
      "00:00:20 #223 [Verbose] testPortOpen / ex: System.AggregateException: One or more errors occurred. (Connection refused)\n",
      "00:00:20 #224 [Verbose] testPortOpen / ex: System.AggregateException: One or more errors occurred. (Connection refused)\n",
      "00:00:20 #225 [Verbose] > Starting the Spiral Server. It is bound to: http://localhost:13805\n",
      "00:00:20 #226 [Verbose] testPortOpen / ex: System.AggregateException: One or more errors occurred. (Connection refused)\n",
      "00:00:20 #227 [Verbose] testPortOpen / ex: System.AggregateException: One or more errors occurred. (Connection refused)\n",
      "00:00:20 #228 [Debug] sendJson / port: 13805 / json: {\"Ping\":true} / result.Length:\n",
      "00:00:20 #229 [Verbose] awaitCompiler / Ping / result: Some(null) / port: 13805 / retry: 0\n",
      "00:00:20 #230 [Verbose] > Server bound to: http://localhost:13805\n",
      "00:00:20 #231 [Debug] buildFile / takeWhileInclusive / fsxContent:  / errors: [] / typeErrorCount: 0\n",
      "00:00:20 #232 [Debug] buildFile / takeWhileInclusive / fsxContent:  / errors: [] / typeErrorCount: 0\n",
      "00:00:20 #233 [Debug] sendJson / port: 13805 / json: {\"FileOpen\":{\"spiText\":\"\\n/// abc\\ninl main () =\\n    ()\\n\",\"uri\":\"file:///tmp/!dotnet-repl/20240315-1152-1953-5357-53d3ef9fb66e/main.spi\"}} / result.Length:\n",
      "00:00:21 #234 [Debug] sendJson / port: 13805 / json: {\"BuildFile\":{\"backend\":\"Fsharp\",\"uri\":\"file:///tmp/!dotnet-repl/20240315-1152-1953-5357-53d3ef9fb66e/main.spi\"}} / result.Length:\n",
      "00:00:21 #235 [Debug] buildFile / takeWhileInclusive / fsxContent:  / errors: [\n",
      "  [\n",
      "    \"main.spi:\n",
      "Expected: whitespace\",\n",
      "    {\n",
      "      \"TokenizerErrors\": {\n",
      "        \"errors\": [\n",
      "          [\n",
      "            [\n",
      "              {\n",
      "                \"character\": 2,\n",
      "                \"line\": 1\n",
      "              },\n",
      "              {\n",
      "                \"character\": 3,\n",
      "                \"line\": 1\n",
      "              }\n",
      "            ],\n",
      "            \"Expected: whitespace\"\n",
      "          ]\n",
      "        ],\n",
      "        \"uri\": \"file:///tmp/!dotnet-repl/20240315-1152-1953-5357-53d3ef9fb66e/main.spi\"\n",
      "      }\n",
      "    }\n",
      "  ]\n",
      "] / typeErrorCount: 0\n",
      "00:00:21 #236 [Debug] watchWithFilter / Disposing watch stream / filter: FileName, LastWrite\n",
      "FSharpOption<Tuple<FSharpOption<String>,FSharpList<String>>>\n",
      "      Value:       - <null>\n",
      "      - [ main.spi:\n",
      "Expected: whitespace ]\n"
     ]
    }
   ],
   "source": [
    "//// test\n",
    "\n",
    "\"\"\"\n",
    "/// abc\n",
    "inl main () =\n",
    "    ()\n",
    "\"\"\"\n",
    "|> buildCode 10000 None\n",
    "|> Async.runWithTimeout 10000\n",
    "|> Option.map (fun (fsxContent, errors) -> fsxContent, errors |> List.map fst)\n",
    "|> _equal (\n",
    "    Some (\n",
    "        None,\n",
    "        [ \"main.spi:\n",
    "Expected: whitespace\" ]\n",
    "    )\n",
    ")"
   ]
  },
  {
   "cell_type": "code",
   "execution_count": null,
   "metadata": {
    "dotnet_interactive": {
     "language": "fsharp"
    },
    "polyglot_notebook": {
     "kernelName": "fsharp"
    }
   },
   "outputs": [
    {
     "name": "stdout",
     "output_type": "stream",
     "text": [
      "00:00:21 #237 [Verbose] testPortOpen / ex: System.AggregateException: One or more errors occurred. (Connection refused)\n",
      "00:00:21 #238 [Debug] executeAsync / options: { Command =\n",
      "   \"dotnet \"/home/runner/work/polyglot/polyglot/deps/The-Spiral-Language/The Spiral Language 2/artifacts/bin/The Spiral Language 2/release/Spiral.dll\" --port 13805 --default-int i32 --default-float f64\"\n",
      "  WorkingDirectory = None\n",
      "  CancellationToken = Some System.Threading.CancellationToken\n",
      "  OnLine = Some <fun:buildCode@3-1005> }\n",
      "00:00:21 #240 [Verbose] > pwd: /home/runner/work/polyglot/polyglot/apps/spiral\n",
      "00:00:21 #241 [Verbose] testPortOpen / ex: System.AggregateException: One or more errors occurred. (Connection refused)\n",
      "00:00:21 #242 [Verbose] waitForPortAccess / port: 13805 / retry: 0\n",
      "00:00:21 #243 [Verbose] > dll_path: /home/runner/work/polyglot/polyglot/deps/The-Spiral-Language/The Spiral Language 2/artifacts/bin/The Spiral Language 2/release\n",
      "00:00:21 #244 [Verbose] testPortOpen / ex: System.AggregateException: One or more errors occurred. (Connection refused)\n",
      "00:00:21 #245 [Verbose] testPortOpen / ex: System.AggregateException: One or more errors occurred. (Connection refused)\n",
      "00:00:21 #246 [Verbose] testPortOpen / ex: System.AggregateException: One or more errors occurred. (Connection refused)\n",
      "00:00:21 #247 [Verbose] testPortOpen / ex: System.AggregateException: One or more errors occurred. (Connection refused)\n",
      "00:00:21 #248 [Verbose] testPortOpen / ex: System.AggregateException: One or more errors occurred. (Connection refused)\n",
      "00:00:21 #249 [Verbose] testPortOpen / ex: System.AggregateException: One or more errors occurred. (Connection refused)\n",
      "00:00:21 #250 [Verbose] testPortOpen / ex: System.AggregateException: One or more errors occurred. (Connection refused)\n",
      "00:00:21 #251 [Verbose] > Starting the Spiral Server. It is bound to: http://localhost:13805\n",
      "00:00:21 #252 [Verbose] testPortOpen / ex: System.AggregateException: One or more errors occurred. (Connection refused)\n",
      "00:00:21 #253 [Verbose] testPortOpen / ex: System.AggregateException: One or more errors occurred. (Connection refused)\n",
      "00:00:21 #254 [Debug] sendJson / port: 13805 / json: {\"Ping\":true} / result.Length:\n",
      "00:00:21 #255 [Verbose] awaitCompiler / Ping / result: Some(null) / port: 13805 / retry: 0\n",
      "00:00:21 #256 [Verbose] > Server bound to: http://localhost:13805\n",
      "00:00:21 #257 [Debug] buildFile / takeWhileInclusive / fsxContent:  / errors: [] / typeErrorCount: 0\n",
      "00:00:21 #258 [Debug] buildFile / takeWhileInclusive / fsxContent:  / errors: [] / typeErrorCount: 0\n",
      "00:00:21 #259 [Debug] sendJson / port: 13805 / json: {\"FileOpen\":{\"spiText\":\"\\ninl main () =\\n    real\\n        inl real_unbox forall a. (obj : a) : a =\\n            typecase obj with\\n            | _ =\\u003E obj\\n        real_unbox ()\\n    ()\\n\",\"uri\":\"file:///tmp/!dotnet-repl/20240315-1152-2049-4993-479e2a7fc1cb/main.spi\"}} / result.Length:\n",
      "00:00:21 #260 [Debug] sendJson / port: 13805 / json: {\"BuildFile\":{\"backend\":\"Fsharp\",\"uri\":\"file:///tmp/!dotnet-repl/20240315-1152-2049-4993-479e2a7fc1cb/main.spi\"}} / result.Length:\n",
      "00:00:22 #261 [Verbose] > Building /tmp/!dotnet-repl/20240315-1152-2049-4993-479e2a7fc1cb/main.spi\n",
      "00:00:22 #263 [Debug] buildFile / takeWhileInclusive / fsxContent:  / errors: [] / typeErrorCount: 0\n",
      "00:00:23 #264 [Debug] buildFile / takeWhileInclusive / fsxContent:  / errors: [\n",
      "  [\n",
      "    \"Cannot apply a forall with a term.\",\n",
      "    {\n",
      "      \"TracedError\": {\n",
      "        \"message\": \"Cannot apply a forall with a term.\",\n",
      "        \"trace\": [\n",
      "          \"Error trace on line: 2, column: 10 in module: /tmp/!dotnet-repl/20240315-1152-2049-4993-479e2a7fc1cb/main.spi.\n",
      "inl main () =\n",
      "         ^\n",
      "\",\n",
      "          \"Error trace on line: 4, column: 9 in module: /tmp/!dotnet-repl/20240315-1152-2049-4993-479e2a7fc1cb/main.spi.\n",
      "        inl real_unbox forall a. (obj : a) : a =\n",
      "        ^\n",
      "\",\n",
      "          \"Error trace on line: 7, column: 9 in module: /tmp/!dotnet-repl/20240315-1152-2049-4993-479e2a7fc1cb/main.spi.\n",
      "        real_unbox ()\n",
      "        ^\n",
      "\"\n",
      "        ]\n",
      "      }\n",
      "    }\n",
      "  ]\n",
      "] / typeErrorCount: 0\n",
      "00:00:23 #265 [Debug] watchWithFilter / Disposing watch stream / filter: FileName, LastWrite\n",
      "FSharpOption<Tuple<FSharpOption<String>,FSharpList<String>>>\n",
      "      Value:       - <null>\n",
      "      - [ Cannot apply a forall with a term. ]\n"
     ]
    }
   ],
   "source": [
    "//// test\n",
    "\n",
    "\"\"\"\n",
    "inl main () =\n",
    "    real\n",
    "        inl real_unbox forall a. (obj : a) : a =\n",
    "            typecase obj with\n",
    "            | _ => obj\n",
    "        real_unbox ()\n",
    "    ()\n",
    "\"\"\"\n",
    "|> buildCode 10000 None\n",
    "|> Async.runWithTimeout 10000\n",
    "|> Option.map (fun (fsxContent, errors) -> fsxContent, errors |> List.map fst)\n",
    "|> _equal (\n",
    "    Some (\n",
    "        None,\n",
    "        [ \"Cannot apply a forall with a term.\" ]\n",
    "    )\n",
    ")"
   ]
  },
  {
   "cell_type": "code",
   "execution_count": null,
   "metadata": {
    "dotnet_interactive": {
     "language": "fsharp"
    },
    "polyglot_notebook": {
     "kernelName": "fsharp"
    }
   },
   "outputs": [
    {
     "name": "stdout",
     "output_type": "stream",
     "text": [
      "00:00:23 #266 [Verbose] testPortOpen / ex: System.AggregateException: One or more errors occurred. (Connection refused)\n",
      "00:00:23 #267 [Debug] executeAsync / options: { Command =\n",
      "   \"dotnet \"/home/runner/work/polyglot/polyglot/deps/The-Spiral-Language/The Spiral Language 2/artifacts/bin/The Spiral Language 2/release/Spiral.dll\" --port 13805 --default-int i32 --default-float f64\"\n",
      "  WorkingDirectory = None\n",
      "  CancellationToken = Some System.Threading.CancellationToken\n",
      "  OnLine = Some <fun:buildCode@3-1005> }\n",
      "00:00:23 #269 [Verbose] > pwd: /home/runner/work/polyglot/polyglot/apps/spiral\n",
      "00:00:23 #270 [Verbose] testPortOpen / ex: System.AggregateException: One or more errors occurred. (Connection refused)\n",
      "00:00:23 #271 [Verbose] waitForPortAccess / port: 13805 / retry: 0\n",
      "00:00:23 #272 [Verbose] > dll_path: /home/runner/work/polyglot/polyglot/deps/The-Spiral-Language/The Spiral Language 2/artifacts/bin/The Spiral Language 2/release\n",
      "00:00:23 #273 [Verbose] testPortOpen / ex: System.AggregateException: One or more errors occurred. (Connection refused)\n",
      "00:00:23 #274 [Verbose] testPortOpen / ex: System.AggregateException: One or more errors occurred. (Connection refused)\n",
      "00:00:23 #275 [Verbose] testPortOpen / ex: System.AggregateException: One or more errors occurred. (Connection refused)\n",
      "00:00:23 #276 [Verbose] testPortOpen / ex: System.AggregateException: One or more errors occurred. (Connection refused)\n",
      "00:00:23 #277 [Verbose] testPortOpen / ex: System.AggregateException: One or more errors occurred. (Connection refused)\n",
      "00:00:23 #278 [Verbose] testPortOpen / ex: System.AggregateException: One or more errors occurred. (Connection refused)\n",
      "00:00:23 #279 [Verbose] testPortOpen / ex: System.AggregateException: One or more errors occurred. (Connection refused)\n",
      "00:00:23 #280 [Verbose] > Starting the Spiral Server. It is bound to: http://localhost:13805\n",
      "00:00:23 #281 [Verbose] testPortOpen / ex: System.AggregateException: One or more errors occurred. (Connection refused)\n",
      "00:00:23 #282 [Verbose] testPortOpen / ex: System.AggregateException: One or more errors occurred. (Connection refused)\n",
      "00:00:23 #283 [Debug] sendJson / port: 13805 / json: {\"Ping\":true} / result.Length:\n",
      "00:00:23 #284 [Verbose] awaitCompiler / Ping / result: Some(null) / port: 13805 / retry: 0\n",
      "00:00:23 #285 [Verbose] > Server bound to: http://localhost:13805\n",
      "00:00:23 #286 [Debug] buildFile / takeWhileInclusive / fsxContent:  / errors: [] / typeErrorCount: 0\n",
      "00:00:23 #287 [Debug] buildFile / takeWhileInclusive / fsxContent:  / errors: [] / typeErrorCount: 0\n",
      "00:00:23 #288 [Debug] sendJson / port: 13805 / json: {\"FileOpen\":{\"spiText\":\"\\ninl main () =\\n    real\\n        inl real_unbox forall a. (obj : a) : a =\\n            typecase obj with\\n            | _ =\\u003E obj\\n        real_unbox \\u0060i32 1\\n\",\"uri\":\"file:///tmp/!dotnet-repl/20240315-1152-2255-5535-5cea58565cd3/main.spi\"}} / result.Length:\n",
      "00:00:24 #289 [Debug] sendJson / port: 13805 / json: {\"BuildFile\":{\"backend\":\"Fsharp\",\"uri\":\"file:///tmp/!dotnet-repl/20240315-1152-2255-5535-5cea58565cd3/main.spi\"}} / result.Length:\n",
      "00:00:24 #290 [Verbose] > Building /tmp/!dotnet-repl/20240315-1152-2255-5535-5cea58565cd3/main.spi\n",
      "00:00:24 #292 [Debug] buildFile / takeWhileInclusive / fsxContent:  / errors: [] / typeErrorCount: 0\n",
      "00:00:25 #293 [Debug] buildFile / takeWhileInclusive / fsxContent:  / errors: [\n",
      "  [\n",
      "    \"The main function should not have a forall.\",\n",
      "    {\n",
      "      \"TracedError\": {\n",
      "        \"message\": \"The main function should not have a forall.\",\n",
      "        \"trace\": []\n",
      "      }\n",
      "    }\n",
      "  ]\n",
      "] / typeErrorCount: 0\n",
      "00:00:25 #294 [Debug] watchWithFilter / Disposing watch stream / filter: FileName, LastWrite\n",
      "FSharpOption<Tuple<FSharpOption<String>,FSharpList<String>>>\n",
      "      Value:       - <null>\n",
      "      - [ The main function should not have a forall. ]\n"
     ]
    }
   ],
   "source": [
    "//// test\n",
    "\n",
    "\"\"\"\n",
    "inl main () =\n",
    "    real\n",
    "        inl real_unbox forall a. (obj : a) : a =\n",
    "            typecase obj with\n",
    "            | _ => obj\n",
    "        real_unbox `i32 1\n",
    "\"\"\"\n",
    "|> buildCode 10000 None\n",
    "|> Async.runWithTimeout 10000\n",
    "|> Option.map (fun (fsxContent, errors) -> fsxContent, errors |> List.map fst)\n",
    "|> _equal (\n",
    "    Some (\n",
    "        None,\n",
    "        [ \"The main function should not have a forall.\" ]\n",
    "    )\n",
    ")"
   ]
  },
  {
   "cell_type": "code",
   "execution_count": null,
   "metadata": {
    "dotnet_interactive": {
     "language": "fsharp"
    },
    "polyglot_notebook": {
     "kernelName": "fsharp"
    }
   },
   "outputs": [
    {
     "name": "stdout",
     "output_type": "stream",
     "text": [
      "00:00:25 #295 [Verbose] testPortOpen / ex: System.AggregateException: One or more errors occurred. (Connection refused)\n",
      "00:00:25 #296 [Debug] executeAsync / options: { Command =\n",
      "   \"dotnet \"/home/runner/work/polyglot/polyglot/deps/The-Spiral-Language/The Spiral Language 2/artifacts/bin/The Spiral Language 2/release/Spiral.dll\" --port 13805 --default-int i32 --default-float f64\"\n",
      "  WorkingDirectory = None\n",
      "  CancellationToken = Some System.Threading.CancellationToken\n",
      "  OnLine = Some <fun:buildCode@3-1005> }\n",
      "00:00:25 #298 [Verbose] > pwd: /home/runner/work/polyglot/polyglot/apps/spiral\n",
      "00:00:25 #299 [Verbose] testPortOpen / ex: System.AggregateException: One or more errors occurred. (Connection refused)\n",
      "00:00:25 #300 [Verbose] waitForPortAccess / port: 13805 / retry: 0\n",
      "00:00:25 #301 [Verbose] > dll_path: /home/runner/work/polyglot/polyglot/deps/The-Spiral-Language/The Spiral Language 2/artifacts/bin/The Spiral Language 2/release\n",
      "00:00:25 #302 [Verbose] testPortOpen / ex: System.AggregateException: One or more errors occurred. (Connection refused)\n",
      "00:00:25 #303 [Verbose] testPortOpen / ex: System.AggregateException: One or more errors occurred. (Connection refused)\n",
      "00:00:25 #304 [Verbose] testPortOpen / ex: System.AggregateException: One or more errors occurred. (Connection refused)\n",
      "00:00:25 #305 [Verbose] testPortOpen / ex: System.AggregateException: One or more errors occurred. (Connection refused)\n",
      "00:00:25 #306 [Verbose] testPortOpen / ex: System.AggregateException: One or more errors occurred. (Connection refused)\n",
      "00:00:25 #307 [Verbose] testPortOpen / ex: System.AggregateException: One or more errors occurred. (Connection refused)\n",
      "00:00:25 #308 [Verbose] testPortOpen / ex: System.AggregateException: One or more errors occurred. (Connection refused)\n",
      "00:00:25 #309 [Verbose] > Starting the Spiral Server. It is bound to: http://localhost:13805\n",
      "00:00:25 #310 [Verbose] testPortOpen / ex: System.AggregateException: One or more errors occurred. (Connection refused)\n",
      "00:00:25 #311 [Verbose] testPortOpen / ex: System.AggregateException: One or more errors occurred. (Connection refused)\n",
      "00:00:25 #312 [Debug] sendJson / port: 13805 / json: {\"Ping\":true} / result.Length:\n",
      "00:00:25 #313 [Verbose] awaitCompiler / Ping / result: Some(null) / port: 13805 / retry: 0\n",
      "00:00:25 #314 [Verbose] > Server bound to: http://localhost:13805\n",
      "00:00:25 #315 [Debug] buildFile / takeWhileInclusive / fsxContent:  / errors: [] / typeErrorCount: 0\n",
      "00:00:25 #316 [Debug] buildFile / takeWhileInclusive / fsxContent:  / errors: [] / typeErrorCount: 0\n",
      "00:00:25 #317 [Debug] sendJson / port: 13805 / json: {\"FileOpen\":{\"spiText\":\"\\ninl init_series start end inc =\\n    inl total : f64 = conv ((end - start) / inc) \\u002B 1\\n    listm.init total (conv \\u003E\\u003E (*) inc \\u003E\\u003E (\\u002B) start) : list f64\\n\\ntype integration = (f64 -\\u003E f64) -\\u003E f64 -\\u003E f64 -\\u003E f64\\n\\ninl integral dt : integration =\\n    fun f a b =\\u003E\\n        init_series (a \\u002B dt / 2) (b - dt / 2) dt\\n        |\\u003E listm.map (f \\u003E\\u003E (*) dt)\\n        |\\u003E listm.fold (\\u002B) 0\\n\\ninl main () =\\n    integral 0.1 (fun x =\\u003E x ** 2) 0 1\\n\",\"uri\":\"file:///tmp/!dotnet-repl/20240315-1152-2442-4287-4d30caf2bd02/main.spi\"}} / result.Length:\n",
      "00:00:25 #318 [Debug] sendJson / port: 13805 / json: {\"BuildFile\":{\"backend\":\"Fsharp\",\"uri\":\"file:///tmp/!dotnet-repl/20240315-1152-2442-4287-4d30caf2bd02/main.spi\"}} / result.Length:\n",
      "00:00:26 #319 [Verbose] > Building /tmp/!dotnet-repl/20240315-1152-2442-4287-4d30caf2bd02/main.spi\n",
      "00:00:26 #321 [Debug] buildFile / takeWhileInclusive / fsxContent:  / errors: [] / typeErrorCount: 0\n",
      "00:00:27 #322 [Debug] buildFile / takeWhileInclusive / fsxContent: 0.3325000000000001\n",
      " / errors: [] / typeErrorCount: 0\n",
      "00:00:27 #323 [Debug] watchWithFilter / Disposing watch stream / filter: FileName, LastWrite\n",
      "FSharpOption<Tuple<FSharpOption<String>,FSharpList<String>>>\n",
      "      Value:       - FSharpOption<String>\n",
      "          Value: 0.3325000000000001\n",
      "\n",
      "      - [  ]\n"
     ]
    }
   ],
   "source": [
    "//// test\n",
    "\n",
    "\"\"\"\n",
    "inl init_series start end inc =\n",
    "    inl total : f64 = conv ((end - start) / inc) + 1\n",
    "    listm.init total (conv >> (*) inc >> (+) start) : list f64\n",
    "\n",
    "type integration = (f64 -> f64) -> f64 -> f64 -> f64\n",
    "\n",
    "inl integral dt : integration =\n",
    "    fun f a b =>\n",
    "        init_series (a + dt / 2) (b - dt / 2) dt\n",
    "        |> listm.map (f >> (*) dt)\n",
    "        |> listm.fold (+) 0\n",
    "\n",
    "inl main () =\n",
    "    integral 0.1 (fun x => x ** 2) 0 1\n",
    "\"\"\"\n",
    "|> buildCode 10000 None\n",
    "|> Async.runWithTimeout 10000\n",
    "|> Option.map (fun (fsxContent, errors) -> fsxContent, errors |> List.map fst)\n",
    "|> _equal (\n",
    "    Some (\n",
    "        Some \"0.3325000000000001\\n\",\n",
    "        []\n",
    "    )\n",
    ")"
   ]
  },
  {
   "cell_type": "code",
   "execution_count": null,
   "metadata": {
    "dotnet_interactive": {
     "language": "fsharp"
    },
    "polyglot_notebook": {
     "kernelName": "fsharp"
    }
   },
   "outputs": [
    {
     "data": {
      "text/html": [
       "<details open=\"open\" class=\"dni-treeview\"><summary><span class=\"dni-code-hint\"><code>Some((Some(0.33332500000000004\\n), []))</code></span></summary><div><table><thead><tr></tr></thead><tbody><tr><td>Value</td><td><details class=\"dni-treeview\"><summary><span class=\"dni-code-hint\"><code>(Some(0.33332500000000004\\n), [])</code></span></summary><div><table><thead><tr></tr></thead><tbody><tr><td>Item1</td><td><details class=\"dni-treeview\"><summary><span class=\"dni-code-hint\"><code>Some(0.33332500000000004\\n)</code></span></summary><div><table><thead><tr></tr></thead><tbody><tr><td>Value</td><td><div class=\"dni-plaintext\"><pre>0.33332500000000004\n",
       "</pre></div></td></tr></tbody></table></div></details></td></tr><tr><td>Item2</td><td><div class=\"dni-plaintext\"><pre>[  ]</pre></div></td></tr></tbody></table></div></details></td></tr></tbody></table></div></details><style>\n",
       ".dni-code-hint {\n",
       "    font-style: italic;\n",
       "    overflow: hidden;\n",
       "    white-space: nowrap;\n",
       "}\n",
       ".dni-treeview {\n",
       "    white-space: nowrap;\n",
       "}\n",
       ".dni-treeview td {\n",
       "    vertical-align: top;\n",
       "    text-align: start;\n",
       "}\n",
       "details.dni-treeview {\n",
       "    padding-left: 1em;\n",
       "}\n",
       "table td {\n",
       "    text-align: start;\n",
       "}\n",
       "table tr { \n",
       "    vertical-align: top; \n",
       "    margin: 0em 0px;\n",
       "}\n",
       "table tr td pre \n",
       "{ \n",
       "    vertical-align: top !important; \n",
       "    margin: 0em 0px !important;\n",
       "} \n",
       "table th {\n",
       "    text-align: start;\n",
       "}\n",
       "</style>"
      ]
     },
     "metadata": {},
     "output_type": "display_data"
    },
    {
     "name": "stdout",
     "output_type": "stream",
     "text": [
      "00:00:27 #324 [Verbose] testPortOpen / ex: System.AggregateException: One or more errors occurred. (Connection refused)\n",
      "00:00:27 #325 [Debug] executeAsync / options: { Command =\n",
      "   \"dotnet \"/home/runner/work/polyglot/polyglot/deps/The-Spiral-Language/The Spiral Language 2/artifacts/bin/The Spiral Language 2/release/Spiral.dll\" --port 13805 --default-int i32 --default-float f64\"\n",
      "  WorkingDirectory = None\n",
      "  CancellationToken = Some System.Threading.CancellationToken\n",
      "  OnLine = Some <fun:buildCode@3-1005> }\n",
      "00:00:27 #327 [Verbose] > pwd: /home/runner/work/polyglot/polyglot/apps/spiral\n",
      "00:00:27 #328 [Verbose] testPortOpen / ex: System.AggregateException: One or more errors occurred. (Connection refused)\n",
      "00:00:27 #329 [Verbose] waitForPortAccess / port: 13805 / retry: 0\n",
      "00:00:27 #330 [Verbose] > dll_path: /home/runner/work/polyglot/polyglot/deps/The-Spiral-Language/The Spiral Language 2/artifacts/bin/The Spiral Language 2/release\n",
      "00:00:27 #331 [Verbose] testPortOpen / ex: System.AggregateException: One or more errors occurred. (Connection refused)\n",
      "00:00:27 #332 [Verbose] testPortOpen / ex: System.AggregateException: One or more errors occurred. (Connection refused)\n",
      "00:00:27 #333 [Verbose] testPortOpen / ex: System.AggregateException: One or more errors occurred. (Connection refused)\n",
      "00:00:27 #334 [Verbose] testPortOpen / ex: System.AggregateException: One or more errors occurred. (Connection refused)\n",
      "00:00:27 #335 [Verbose] testPortOpen / ex: System.AggregateException: One or more errors occurred. (Connection refused)\n",
      "00:00:27 #336 [Verbose] testPortOpen / ex: System.AggregateException: One or more errors occurred. (Connection refused)\n",
      "00:00:27 #337 [Verbose] testPortOpen / ex: System.AggregateException: One or more errors occurred. (Connection refused)\n",
      "00:00:27 #338 [Verbose] > Starting the Spiral Server. It is bound to: http://localhost:13805\n",
      "00:00:27 #339 [Verbose] testPortOpen / ex: System.AggregateException: One or more errors occurred. (Connection refused)\n",
      "00:00:27 #340 [Verbose] testPortOpen / ex: System.AggregateException: One or more errors occurred. (Connection refused)\n",
      "00:00:27 #341 [Debug] sendJson / port: 13805 / json: {\"Ping\":true} / result.Length:\n",
      "00:00:27 #342 [Verbose] awaitCompiler / Ping / result: Some(null) / port: 13805 / retry: 0\n",
      "00:00:27 #343 [Verbose] > Server bound to: http://localhost:13805\n",
      "00:00:27 #344 [Debug] buildFile / takeWhileInclusive / fsxContent:  / errors: [] / typeErrorCount: 0\n",
      "00:00:27 #345 [Debug] buildFile / takeWhileInclusive / fsxContent:  / errors: [] / typeErrorCount: 0\n",
      "00:00:27 #346 [Debug] sendJson / port: 13805 / json: {\"FileOpen\":{\"spiText\":\"\\ninl init_series start end inc =\\n    inl total : f64 = conv ((end - start) / inc) \\u002B 1\\n    listm.init total (conv \\u003E\\u003E (*) inc \\u003E\\u003E (\\u002B) start) : list f64\\n\\ntype integration = (f64 -\\u003E f64) -\\u003E f64 -\\u003E f64 -\\u003E f64\\n\\ninl integral dt : integration =\\n    fun f a b =\\u003E\\n        init_series (a \\u002B dt / 2) (b - dt / 2) dt\\n        |\\u003E listm.map (f \\u003E\\u003E (*) dt)\\n        |\\u003E listm.fold (\\u002B) 0\\n\\ninl main () =\\n    integral 0.01 (fun x =\\u003E x ** 2) 0 1\\n\",\"uri\":\"file:///tmp/!dotnet-repl/20240315-1152-2651-5116-553aa5961447/main.spi\"}} / result.Length:\n",
      "00:00:28 #347 [Debug] sendJson / port: 13805 / json: {\"BuildFile\":{\"backend\":\"Fsharp\",\"uri\":\"file:///tmp/!dotnet-repl/20240315-1152-2651-5116-553aa5961447/main.spi\"}} / result.Length:\n",
      "00:00:28 #348 [Verbose] > Building /tmp/!dotnet-repl/20240315-1152-2651-5116-553aa5961447/main.spi\n",
      "00:00:28 #350 [Debug] buildFile / takeWhileInclusive / fsxContent:  / errors: [] / typeErrorCount: 0\n",
      "00:00:29 #351 [Debug] buildFile / takeWhileInclusive / fsxContent: 0.33332500000000004\n",
      " / errors: [] / typeErrorCount: 0\n",
      "00:00:29 #352 [Debug] watchWithFilter / Disposing watch stream / filter: FileName, LastWrite\n"
     ]
    }
   ],
   "source": [
    "//// test\n",
    "\n",
    "\"\"\"\n",
    "inl init_series start end inc =\n",
    "    inl total : f64 = conv ((end - start) / inc) + 1\n",
    "    listm.init total (conv >> (*) inc >> (+) start) : list f64\n",
    "\n",
    "type integration = (f64 -> f64) -> f64 -> f64 -> f64\n",
    "\n",
    "inl integral dt : integration =\n",
    "    fun f a b =>\n",
    "        init_series (a + dt / 2) (b - dt / 2) dt\n",
    "        |> listm.map (f >> (*) dt)\n",
    "        |> listm.fold (+) 0\n",
    "\n",
    "inl main () =\n",
    "    integral 0.01 (fun x => x ** 2) 0 1\n",
    "\"\"\"\n",
    "|> buildCode 10000 None\n",
    "|> Async.runWithTimeout 10000\n",
    "|> Option.map (fun (fsxContent, errors) -> fsxContent, errors |> List.map fst)\n",
    "// |> _equal None\n",
    "// |> fun x -> printfn $\"{x.ToDisplayString ()}\""
   ]
  },
  {
   "cell_type": "markdown",
   "metadata": {},
   "source": [
    "## getFileTokenRange"
   ]
  },
  {
   "cell_type": "code",
   "execution_count": null,
   "metadata": {
    "dotnet_interactive": {
     "language": "fsharp"
    },
    "polyglot_notebook": {
     "kernelName": "fsharp"
    }
   },
   "outputs": [],
   "source": [
    "let inline getFileTokenRange port cancellationToken path = async {\n",
    "    let fullPath = path |> System.IO.Path.GetFullPath\n",
    "    let! code = fullPath |> FileSystem.readAllTextAsync\n",
    "    let lines = code |> String.split [| '\\n' |]\n",
    "\n",
    "    let token, disposable = Threading.newDisposableToken cancellationToken\n",
    "    use _ = disposable\n",
    "\n",
    "    let! serverPort, _errors, ct, disposable = awaitCompiler port (Some token)\n",
    "    use _ = disposable\n",
    "\n",
    "    let fileOpenObj = {| FileOpen = {| uri = fullPath |> getFileUri; spiText = code |} |}\n",
    "    let! _fileOpenResult = fileOpenObj |> sendObj serverPort\n",
    "\n",
    "    let fileTokenRangeObj =\n",
    "        {|\n",
    "            FileTokenRange =\n",
    "                {|\n",
    "                    uri = fullPath |> getFileUri\n",
    "                    range =\n",
    "                        [|\n",
    "                            {| line = 0; character = 0 |}\n",
    "                            {| line = lines.Length - 1; character = lines.[lines.Length - 1].Length |}\n",
    "                        |]\n",
    "                |}\n",
    "        |}\n",
    "    let! fileTokenRangeResult =\n",
    "        fileTokenRangeObj\n",
    "        |> sendObj serverPort\n",
    "        |> Async.withCancellationToken ct\n",
    "\n",
    "    return fileTokenRangeResult |> Option.map FSharp.Json.Json.deserialize<int array>\n",
    "}"
   ]
  },
  {
   "cell_type": "markdown",
   "metadata": {},
   "source": [
    "## getCodeTokenRange"
   ]
  },
  {
   "cell_type": "code",
   "execution_count": null,
   "metadata": {
    "dotnet_interactive": {
     "language": "fsharp"
    },
    "polyglot_notebook": {
     "kernelName": "fsharp"
    }
   },
   "outputs": [],
   "source": [
    "let inline getCodeTokenRange cancellationToken code = async {\n",
    "    let! mainPath, disposable = persistCode code\n",
    "    use _ = disposable\n",
    "    let port = getCompilerPort ()\n",
    "    return! mainPath |> getFileTokenRange port cancellationToken\n",
    "}"
   ]
  },
  {
   "cell_type": "code",
   "execution_count": null,
   "metadata": {
    "dotnet_interactive": {
     "language": "fsharp"
    },
    "polyglot_notebook": {
     "kernelName": "fsharp"
    }
   },
   "outputs": [
    {
     "name": "stdout",
     "output_type": "stream",
     "text": [
      "00:00:34 #358 [Verbose] testPortOpen / ex: System.AggregateException: One or more errors occurred. (Connection refused)\n",
      "00:00:34 #359 [Debug] executeAsync / options: { Command =\n",
      "   \"dotnet \"/home/runner/work/polyglot/polyglot/deps/The-Spiral-Language/The Spiral Language 2/artifacts/bin/The Spiral Language 2/release/Spiral.dll\" --port 13805 --default-int i32 --default-float f64\"\n",
      "  WorkingDirectory = None\n",
      "  CancellationToken = Some System.Threading.CancellationToken\n",
      "  OnLine = Some <fun:it@4-434> }\n",
      "00:00:34 #360 [Verbose] > pwd: /home/runner/work/polyglot/polyglot/apps/spiral\n",
      "00:00:34 #361 [Verbose] > dll_path: /home/runner/work/polyglot/polyglot/deps/The-Spiral-Language/The Spiral Language 2/artifacts/bin/The Spiral Language 2/release\n",
      "00:00:34 #362 [Verbose] testPortOpen / ex: System.AggregateException: One or more errors occurred. (Connection refused)\n",
      "00:00:34 #363 [Verbose] waitForPortAccess / port: 13805 / retry: 0\n",
      "00:00:34 #364 [Verbose] testPortOpen / ex: System.AggregateException: One or more errors occurred. (Connection refused)\n",
      "00:00:34 #365 [Verbose] testPortOpen / ex: System.AggregateException: One or more errors occurred. (Connection refused)\n",
      "00:00:34 #366 [Verbose] testPortOpen / ex: System.AggregateException: One or more errors occurred. (Connection refused)\n",
      "00:00:34 #367 [Verbose] testPortOpen / ex: System.AggregateException: One or more errors occurred. (Connection refused)\n",
      "00:00:34 #368 [Verbose] testPortOpen / ex: System.AggregateException: One or more errors occurred. (Connection refused)\n",
      "00:00:34 #369 [Verbose] testPortOpen / ex: System.AggregateException: One or more errors occurred. (Connection refused)\n",
      "00:00:34 #370 [Verbose] > Starting the Spiral Server. It is bound to: http://localhost:13805\n",
      "00:00:34 #371 [Verbose] testPortOpen / ex: System.AggregateException: One or more errors occurred. (Connection refused)\n",
      "00:00:34 #372 [Verbose] testPortOpen / ex: System.AggregateException: One or more errors occurred. (Connection refused)\n",
      "00:00:34 #373 [Debug] sendJson / port: 13805 / json: {\"Ping\":true} / result.Length:\n",
      "00:00:34 #374 [Verbose] awaitCompiler / Ping / result: Some(null) / port: 13805 / retry: 0\n",
      "00:00:34 #375 [Verbose] > Server bound to: http://localhost:13805\n",
      "00:00:34 #377 [Debug] sendJson / port: 13805 / json: {\"FileOpen\":{\"spiText\":\"inl main () = ()\",\"uri\":\"file:///tmp/!dotnet-repl/20240315-1152-3326-2606-204893b1e387/main.spi\"}} / result.Length:\n",
      "00:00:35 #378 [Debug] sendJson / port: 13805 / json: {\"FileTokenRange\":{\"range\":[{\"character\":0,\"line\":0},{\"character\":16,\"line\":0}],\"uri\":\"file:///tmp/!dotnet-repl/20240315-1152-3326-2606-204893b1e387/main.spi\"}} / result.Length: Some(177)\n",
      "FSharpOption<Int32[]>\n",
      "      Value: [ 0, 0, 3, 7, 0, 0, 4, 4, 0, 0, 0, 5, 1, 8, 0, 0, 1, 1, 8, 0, 0, 2, 1, 4, 0, 0, 2, 1, 8, 0, 0, 1, 1, 8, 0 ]\n"
     ]
    }
   ],
   "source": [
    "//// test\n",
    "\n",
    "\"\"\"inl main () = ()\"\"\"\n",
    "|> getCodeTokenRange None\n",
    "|> Async.runWithTimeout 10000\n",
    "|> Option.flatten\n",
    "|> _equal (Some [| 0; 0; 3; 7; 0; 0; 4; 4; 0; 0; 0; 5; 1; 8; 0; 0; 1; 1; 8; 0; 0; 2; 1; 4; 0; 0;\n",
    "2; 1; 8; 0; 0; 1; 1; 8; 0 |])"
   ]
  },
  {
   "cell_type": "code",
   "execution_count": null,
   "metadata": {
    "dotnet_interactive": {
     "language": "fsharp"
    },
    "polyglot_notebook": {
     "kernelName": "fsharp"
    }
   },
   "outputs": [
    {
     "name": "stdout",
     "output_type": "stream",
     "text": [
      "00:00:36 #381 [Verbose] testPortOpen / ex: System.AggregateException: One or more errors occurred. (Connection refused)\n",
      "00:00:36 #382 [Debug] executeAsync / options: { Command =\n",
      "   \"dotnet \"/home/runner/work/polyglot/polyglot/deps/The-Spiral-Language/The Spiral Language 2/artifacts/bin/The Spiral Language 2/release/Spiral.dll\" --port 13805 --default-int i32 --default-float f64\"\n",
      "  WorkingDirectory = None\n",
      "  CancellationToken = Some System.Threading.CancellationToken\n",
      "  OnLine = Some <fun:it@4-801> }\n",
      "00:00:37 #383 [Verbose] > pwd: /home/runner/work/polyglot/polyglot/apps/spiral\n",
      "00:00:37 #384 [Verbose] > dll_path: /home/runner/work/polyglot/polyglot/deps/The-Spiral-Language/The Spiral Language 2/artifacts/bin/The Spiral Language 2/release\n",
      "00:00:37 #385 [Verbose] testPortOpen / ex: System.AggregateException: One or more errors occurred. (Connection refused)\n",
      "00:00:37 #386 [Verbose] waitForPortAccess / port: 13805 / retry: 0\n",
      "00:00:37 #387 [Verbose] testPortOpen / ex: System.AggregateException: One or more errors occurred. (Connection refused)\n",
      "00:00:37 #388 [Verbose] testPortOpen / ex: System.AggregateException: One or more errors occurred. (Connection refused)\n",
      "00:00:37 #389 [Verbose] testPortOpen / ex: System.AggregateException: One or more errors occurred. (Connection refused)\n",
      "00:00:37 #390 [Verbose] testPortOpen / ex: System.AggregateException: One or more errors occurred. (Connection refused)\n",
      "00:00:37 #391 [Verbose] testPortOpen / ex: System.AggregateException: One or more errors occurred. (Connection refused)\n",
      "00:00:37 #392 [Verbose] testPortOpen / ex: System.AggregateException: One or more errors occurred. (Connection refused)\n",
      "00:00:37 #393 [Verbose] > Starting the Spiral Server. It is bound to: http://localhost:13805\n",
      "00:00:37 #394 [Verbose] testPortOpen / ex: System.AggregateException: One or more errors occurred. (Connection refused)\n",
      "00:00:37 #395 [Verbose] testPortOpen / ex: System.AggregateException: One or more errors occurred. (Connection refused)\n",
      "00:00:37 #396 [Debug] sendJson / port: 13805 / json: {\"Ping\":true} / result.Length:\n",
      "00:00:37 #397 [Verbose] awaitCompiler / Ping / result: Some(null) / port: 13805 / retry: 0\n",
      "00:00:37 #398 [Verbose] > Server bound to: http://localhost:13805\n",
      "00:00:37 #399 [Debug] sendJson / port: 13805 / json: {\"FileOpen\":{\"spiText\":\"inl main () = 1i32\",\"uri\":\"file:///tmp/!dotnet-repl/20240315-1152-3586-8695-8e578b973b28/main.spi\"}} / result.Length:\n",
      "00:00:37 #400 [Debug] sendJson / port: 13805 / json: {\"FileTokenRange\":{\"range\":[{\"character\":0,\"line\":0},{\"character\":18,\"line\":0}],\"uri\":\"file:///tmp/!dotnet-repl/20240315-1152-3586-8695-8e578b973b28/main.spi\"}} / result.Length: Some(178)\n",
      "FSharpOption<Int32[]>\n",
      "      Value: [ 0, 0, 3, 7, 0, 0, 4, 4, 0, 0, 0, 5, 1, 8, 0, 0, 1, 1, 8, 0, 0, 2, 1, 4, 0, 0, 2, 1, 3, 0, 0, 1, 3, 12, 0 ]\n"
     ]
    }
   ],
   "source": [
    "//// test\n",
    "\n",
    "\"\"\"inl main () = 1i32\"\"\"\n",
    "|> getCodeTokenRange None\n",
    "|> Async.runWithTimeout 10000\n",
    "|> Option.flatten\n",
    "|> _equal (Some [| 0; 0; 3; 7; 0; 0; 4; 4; 0; 0; 0; 5; 1; 8; 0; 0; 1; 1; 8; 0; 0; 2; 1; 4; 0; 0;\n",
    "2; 1; 3; 0; 0; 1; 3; 12; 0 |])"
   ]
  },
  {
   "cell_type": "markdown",
   "metadata": {},
   "source": [
    "## Arguments"
   ]
  },
  {
   "cell_type": "code",
   "execution_count": null,
   "metadata": {
    "dotnet_interactive": {
     "language": "fsharp"
    },
    "polyglot_notebook": {
     "kernelName": "fsharp"
    }
   },
   "outputs": [],
   "source": [
    "[<RequireQualifiedAccess>]\n",
    "type Arguments =\n",
    "    | Build_File of string * string\n",
    "    | File_Token_Range of string * string\n",
    "    | Execute_Command of string\n",
    "    | Timeout of int\n",
    "    | Port of int\n",
    "\n",
    "    interface Argu.IArgParserTemplate with\n",
    "        member s.Usage =\n",
    "            match s with\n",
    "            | Build_File _ -> nameof Build_File\n",
    "            | File_Token_Range _ -> nameof File_Token_Range\n",
    "            | Execute_Command _ -> nameof Execute_Command\n",
    "            | Timeout _ -> nameof Timeout\n",
    "            | Port _ -> nameof Port"
   ]
  },
  {
   "cell_type": "code",
   "execution_count": null,
   "metadata": {
    "dotnet_interactive": {
     "language": "fsharp"
    },
    "polyglot_notebook": {
     "kernelName": "fsharp"
    }
   },
   "outputs": [
    {
     "data": {
      "text/plain": [
       "USAGE: dotnet-repl [--help] [--build-file <string> <string>]\n",
       "                   [--file-token-range <string> <string>]\n",
       "                   [--execute-command <string>] [--timeout <int>] [--port <int>]\n",
       "\n",
       "OPTIONS:\n",
       "\n",
       "    --build-file <string> <string>\n",
       "                          Build_File\n",
       "    --file-token-range <string> <string>\n",
       "                          File_Token_Range\n",
       "    --execute-command <string>\n",
       "                          Execute_Command\n",
       "    --timeout <int>       Timeout\n",
       "    --port <int>          Port\n",
       "    --help                display this list of options.\n"
      ]
     },
     "metadata": {},
     "output_type": "display_data"
    }
   ],
   "source": [
    "//// test\n",
    "\n",
    "Argu.ArgumentParser.Create<Arguments>().PrintUsage ()"
   ]
  },
  {
   "cell_type": "markdown",
   "metadata": {},
   "source": [
    "## main"
   ]
  },
  {
   "cell_type": "code",
   "execution_count": null,
   "metadata": {
    "dotnet_interactive": {
     "language": "fsharp"
    },
    "polyglot_notebook": {
     "kernelName": "fsharp"
    }
   },
   "outputs": [],
   "source": [
    "let main args =\n",
    "    let argsMap = args |> Runtime.parseArgsMap<Arguments>\n",
    "\n",
    "    let buildFileActions =\n",
    "        argsMap\n",
    "        |> Map.tryFind (nameof Arguments.Build_File)\n",
    "        |> Option.defaultValue []\n",
    "        |> List.choose (function\n",
    "            | Arguments.Build_File (inputPath, outputPath) -> Some (inputPath, outputPath)\n",
    "            | _ -> None\n",
    "        )\n",
    "\n",
    "    let fileTokenRangeActions =\n",
    "        argsMap\n",
    "        |> Map.tryFind (nameof Arguments.File_Token_Range)\n",
    "        |> Option.defaultValue []\n",
    "        |> List.choose (function\n",
    "            | Arguments.File_Token_Range (inputPath, outputPath) -> Some (inputPath, outputPath)\n",
    "            | _ -> None\n",
    "        )\n",
    "\n",
    "    let executeCommandActions =\n",
    "        argsMap\n",
    "        |> Map.tryFind (nameof Arguments.Execute_Command)\n",
    "        |> Option.defaultValue []\n",
    "        |> List.choose (function\n",
    "            | Arguments.Execute_Command command -> Some command\n",
    "            | _ -> None\n",
    "        )\n",
    "\n",
    "    let timeout =\n",
    "        match argsMap |> Map.tryFind (nameof Arguments.Timeout) with\n",
    "        | Some [ Arguments.Timeout timeout ] -> timeout\n",
    "        | _ -> 60000 * 60\n",
    "\n",
    "    let port =\n",
    "        match argsMap |> Map.tryFind (nameof Arguments.Port) with\n",
    "        | Some [ Arguments.Port port ] -> Some port\n",
    "        | _ -> None\n",
    "\n",
    "    async {\n",
    "        let! buildFileResult =\n",
    "            buildFileActions\n",
    "            |> List.map (fun (inputPath, outputPath) -> async {\n",
    "                let port = port |> Option.defaultWith getCompilerPort\n",
    "                let! outputCode, errors = inputPath |> buildFile timeout port None\n",
    "\n",
    "                errors\n",
    "                |> List.map snd\n",
    "                |> List.iter (fun error ->\n",
    "                    trace Critical (fun () -> $\"main / error: {error |> serializeObj}\") getLocals\n",
    "                )\n",
    "\n",
    "                match outputCode with\n",
    "                | Some outputCode ->\n",
    "                    do! outputCode |> FileSystem.writeAllTextAsync outputPath\n",
    "                    return 0\n",
    "                | None ->\n",
    "                    return 1\n",
    "            })\n",
    "            |> Async.Sequential\n",
    "\n",
    "        let! fileTokenRangeResult =\n",
    "            fileTokenRangeActions\n",
    "            |> List.map (fun (inputPath, outputPath) -> async {\n",
    "                let port = port |> Option.defaultWith getCompilerPort\n",
    "                let! tokenRange = inputPath |> getFileTokenRange port None\n",
    "                match tokenRange with\n",
    "                | Some tokenRange ->\n",
    "                    do! tokenRange |> FSharp.Json.Json.serialize |> FileSystem.writeAllTextAsync outputPath\n",
    "                    return 0\n",
    "                | None ->\n",
    "                    return 1\n",
    "            })\n",
    "            |> Async.Sequential\n",
    "\n",
    "        let! executeCommandResult =\n",
    "            executeCommandActions\n",
    "            |> List.map (fun command -> async {\n",
    "                let port = port |> Option.defaultWith getCompilerPort\n",
    "\n",
    "                let localToken, disposable = Threading.newDisposableToken None\n",
    "                use _ = disposable\n",
    "\n",
    "                let! serverPort, _errors, compilerToken, disposable = awaitCompiler port (Some localToken)\n",
    "                use _ = disposable\n",
    "\n",
    "                let! exitCode, result =\n",
    "                    Runtime.executeWithOptionsAsync\n",
    "                        {\n",
    "                            Command = command\n",
    "                            CancellationToken = Some compilerToken\n",
    "                            WorkingDirectory = None\n",
    "                            OnLine = None\n",
    "                        }\n",
    "\n",
    "                trace Debug (fun () -> $\"main / executeCommand / exitCode: {exitCode}\") getLocals\n",
    "\n",
    "                return exitCode\n",
    "            })\n",
    "            |> Async.Sequential\n",
    "\n",
    "        return\n",
    "            [| buildFileResult; fileTokenRangeResult; executeCommandResult |]\n",
    "            |> Array.collect id\n",
    "            |> Array.sum\n",
    "    }\n",
    "    |> Async.runWithTimeout timeout\n",
    "    |> Option.defaultValue 1"
   ]
  },
  {
   "cell_type": "code",
   "execution_count": null,
   "metadata": {
    "dotnet_interactive": {
     "language": "fsharp"
    },
    "polyglot_notebook": {
     "kernelName": "fsharp"
    }
   },
   "outputs": [
    {
     "data": {
      "text/html": [
       "<div class=\"dni-plaintext\"><pre>0</pre></div><style>\n",
       ".dni-code-hint {\n",
       "    font-style: italic;\n",
       "    overflow: hidden;\n",
       "    white-space: nowrap;\n",
       "}\n",
       ".dni-treeview {\n",
       "    white-space: nowrap;\n",
       "}\n",
       ".dni-treeview td {\n",
       "    vertical-align: top;\n",
       "    text-align: start;\n",
       "}\n",
       "details.dni-treeview {\n",
       "    padding-left: 1em;\n",
       "}\n",
       "table td {\n",
       "    text-align: start;\n",
       "}\n",
       "table tr { \n",
       "    vertical-align: top; \n",
       "    margin: 0em 0px;\n",
       "}\n",
       "table tr td pre \n",
       "{ \n",
       "    vertical-align: top !important; \n",
       "    margin: 0em 0px !important;\n",
       "} \n",
       "table th {\n",
       "    text-align: start;\n",
       "}\n",
       "</style>"
      ]
     },
     "metadata": {},
     "output_type": "display_data"
    }
   ],
   "source": [
    "//// test\n",
    "\n",
    "let args =\n",
    "    System.Environment.GetEnvironmentVariable \"ARGS\"\n",
    "    |> Runtime.splitArgs\n",
    "    |> Seq.toArray\n",
    "\n",
    "match args with\n",
    "| [||] -> 0\n",
    "| args -> if main args = 0 then 0 else failwith \"main failed\""
   ]
  }
 ],
 "metadata": {},
 "nbformat": 4,
 "nbformat_minor": 5
}