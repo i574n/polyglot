{
 "cells": [
  {
   "cell_type": "markdown",
   "metadata": {},
   "source": [
    "# Supervisor (Polyglot)"
   ]
  },
  {
   "cell_type": "code",
   "execution_count": null,
   "metadata": {
    "dotnet_interactive": {
     "language": "fsharp"
    },
    "polyglot_notebook": {
     "kernelName": "fsharp"
    }
   },
   "outputs": [],
   "source": [
    "#r @\"../../../../../../../.nuget/packages/fsharp.control.asyncseq/3.2.1/lib/netstandard2.1/FSharp.Control.AsyncSeq.dll\"\n",
    "#r @\"../../../../../../../.nuget/packages/system.reactive/6.0.1-preview.1/lib/net6.0/System.Reactive.dll\"\n",
    "#r @\"../../../../../../../.nuget/packages/system.reactive.linq/6.0.1-preview.1/lib/netstandard2.0/System.Reactive.Linq.dll\"\n",
    "#r @\"../../../../../../../.nuget/packages/argu/6.2.2/lib/netstandard2.0/Argu.dll\"\n",
    "#r @\"../../../../../../../.nuget/packages/microsoft.aspnetcore.http.connections.common/7.0.0/lib/net7.0/Microsoft.AspNetCore.Http.Connections.Common.dll\"\n",
    "#r @\"../../../../../../../.nuget/packages/microsoft.aspnetcore.http.connections.client/7.0.0/lib/net7.0/Microsoft.AspNetCore.Http.Connections.Client.dll\"\n",
    "#r @\"../../../../../../../.nuget/packages/microsoft.aspnetcore.signalr.common/7.0.0/lib/net7.0/Microsoft.AspNetCore.SignalR.Common.dll\"\n",
    "#r @\"../../../../../../../.nuget/packages/microsoft.aspnetcore.signalr.client/7.0.0/lib/net7.0/Microsoft.AspNetCore.SignalR.Client.dll\"\n",
    "#r @\"../../../../../../../.nuget/packages/microsoft.aspnetcore.signalr.client.core/7.0.0/lib/net7.0/Microsoft.AspNetCore.SignalR.Client.Core.dll\"\n",
    "#r @\"../../../../../../../.nuget/packages/fsharp.json/0.4.1/lib/netstandard2.0/FSharp.Json.dll\""
   ]
  },
  {
   "cell_type": "code",
   "execution_count": null,
   "metadata": {
    "dotnet_interactive": {
     "language": "fsharp"
    },
    "polyglot_notebook": {
     "kernelName": "fsharp"
    }
   },
   "outputs": [],
   "source": [
    "#!import ../../lib/fsharp/Notebooks.dib\n",
    "#!import ../../lib/fsharp/Testing.dib"
   ]
  },
  {
   "cell_type": "code",
   "execution_count": null,
   "metadata": {
    "dotnet_interactive": {
     "language": "fsharp"
    },
    "polyglot_notebook": {
     "kernelName": "fsharp"
    }
   },
   "outputs": [],
   "source": [
    "#!import ../../lib/fsharp/Common.fs\n",
    "#!import ../../lib/fsharp/CommonFSharp.fs\n",
    "#!import ../../lib/fsharp/Async.fs\n",
    "#!import ../../lib/fsharp/AsyncSeq.fs\n",
    "#!import ../../lib/fsharp/Runtime.fs\n",
    "#!import ../../lib/fsharp/FileSystem.fs"
   ]
  },
  {
   "cell_type": "code",
   "execution_count": null,
   "metadata": {
    "dotnet_interactive": {
     "language": "fsharp"
    },
    "polyglot_notebook": {
     "kernelName": "fsharp"
    }
   },
   "outputs": [],
   "source": [
    "#if !INTERACTIVE\n",
    "open Lib\n",
    "#endif"
   ]
  },
  {
   "cell_type": "code",
   "execution_count": null,
   "metadata": {
    "dotnet_interactive": {
     "language": "fsharp"
    },
    "polyglot_notebook": {
     "kernelName": "fsharp"
    }
   },
   "outputs": [],
   "source": [
    "open Common\n",
    "open SpiralFileSystem.Operators\n",
    "open Microsoft.AspNetCore.SignalR.Client"
   ]
  },
  {
   "cell_type": "markdown",
   "metadata": {},
   "source": [
    "## sendJson"
   ]
  },
  {
   "cell_type": "code",
   "execution_count": null,
   "metadata": {
    "dotnet_interactive": {
     "language": "fsharp"
    },
    "polyglot_notebook": {
     "kernelName": "fsharp"
    }
   },
   "outputs": [],
   "source": [
    "let inline sendJson (port : int) (json : string) = async {\n",
    "    let host = \"127.0.0.1\"\n",
    "    let! portOpen = SpiralNetworking.test_port_open host port\n",
    "    if portOpen then\n",
    "        try\n",
    "            let connection = HubConnectionBuilder().WithUrl($\"http://{host}:{port}\").Build()\n",
    "            do! connection.StartAsync () |> Async.AwaitTask\n",
    "            let! result = connection.InvokeAsync<string>(\"ClientToServerMsg\", json) |> Async.AwaitTask\n",
    "            do! connection.StopAsync () |> Async.AwaitTask\n",
    "            trace Verbose (fun () -> $\"Supervisor.sendJson / port: {port} / json: {json |> SpiralSm.ellipsis_end 200} / result: {result |> Option.ofObj |> Option.map (SpiralSm.ellipsis_end 200)}\") _locals\n",
    "            return Some result\n",
    "        with ex ->\n",
    "            trace Critical (fun () -> $\"Supervisor.sendJson / port: {port} / json: {json |> SpiralSm.ellipsis_end 200} / ex: {ex |> SpiralSm.format_exception}\") _locals\n",
    "            return None\n",
    "    else\n",
    "        trace Debug (fun () -> \"Supervisor.sendJson / port: {port} / error: port not open\") _locals\n",
    "        return None\n",
    "}"
   ]
  },
  {
   "cell_type": "markdown",
   "metadata": {},
   "source": [
    "## sendObj"
   ]
  },
  {
   "cell_type": "code",
   "execution_count": null,
   "metadata": {
    "dotnet_interactive": {
     "language": "fsharp"
    },
    "polyglot_notebook": {
     "kernelName": "fsharp"
    }
   },
   "outputs": [],
   "source": [
    "let inline sendObj port obj =\n",
    "    obj\n",
    "    |> System.Text.Json.JsonSerializer.Serialize\n",
    "    |> sendJson port"
   ]
  },
  {
   "cell_type": "markdown",
   "metadata": {},
   "source": [
    "## awaitCompiler"
   ]
  },
  {
   "cell_type": "code",
   "execution_count": null,
   "metadata": {
    "dotnet_interactive": {
     "language": "fsharp"
    },
    "polyglot_notebook": {
     "kernelName": "fsharp"
    }
   },
   "outputs": [],
   "source": [
    "type VSCPos = {| line : int; character : int |}\n",
    "type VSCRange = VSCPos * VSCPos\n",
    "type RString = VSCRange * string\n",
    "type TracedError = {| trace : string list; message : string |}\n",
    "type ClientErrorsRes =\n",
    "    | FatalError of string\n",
    "    | TracedError of TracedError\n",
    "    | PackageErrors of {| uri : string; errors : RString list |}\n",
    "    | TokenizerErrors of {| uri : string; errors : RString list |}\n",
    "    | ParserErrors of {| uri : string; errors : RString list |}\n",
    "    | TypeErrors of {| uri : string; errors : RString list |}"
   ]
  },
  {
   "cell_type": "code",
   "execution_count": null,
   "metadata": {
    "dotnet_interactive": {
     "language": "fsharp"
    },
    "polyglot_notebook": {
     "kernelName": "fsharp"
    }
   },
   "outputs": [],
   "source": [
    "let workspaceRoot = SpiralFileSystem.get_workspace_root ()"
   ]
  },
  {
   "cell_type": "code",
   "execution_count": null,
   "metadata": {
    "dotnet_interactive": {
     "language": "fsharp"
    },
    "polyglot_notebook": {
     "kernelName": "fsharp"
    }
   },
   "outputs": [],
   "source": [
    "let inline awaitCompiler port cancellationToken = async {\n",
    "    let host = \"127.0.0.1\"\n",
    "    let struct (ct, disposable) = cancellationToken |> SpiralThreading.new_disposable_token\n",
    "    let! ct = ct |> SpiralAsync.merge_cancellation_token_with_default_async\n",
    "\n",
    "    let compiler = MailboxProcessor.Start (fun inbox -> async {\n",
    "        let! availablePort = SpiralNetworking.get_available_port (Some 500) host port\n",
    "        if availablePort <> port then\n",
    "            inbox.Post (port, false)\n",
    "        else\n",
    "            let compilerPath =\n",
    "                workspaceRoot </> \"deps/The-Spiral-Language/The Spiral Language 2/artifacts/bin/The Spiral Language 2/release\"\n",
    "                |> System.IO.Path.GetFullPath\n",
    "\n",
    "            let dllPath = compilerPath </> \"Spiral.dll\"\n",
    "\n",
    "            let! exitCode, result =\n",
    "                SpiralRuntime.execution_options (fun x ->\n",
    "                    { x with\n",
    "                        l0 = Some ct\n",
    "                        l1 = $@\"dotnet \"\"{dllPath}\"\" --port {availablePort} --default-int i32 --default-float f64\"\n",
    "                        l3 = Some (fun struct (_, line, _) -> async {\n",
    "                            if line |> SpiralSm.contains $\"System.IO.IOException: Failed to bind to address http://{host}:{port}: address already in use.\" then\n",
    "                                inbox.Post (port, false)\n",
    "\n",
    "                            if line |> SpiralSm.contains $\"Server bound to: http://localhost:{availablePort}\" then\n",
    "                                let rec loop retry = async {\n",
    "                                    do!\n",
    "                                        SpiralNetworking.wait_for_port_access (Some 100) true host availablePort\n",
    "                                        |> Async.runWithTimeoutAsync 2000\n",
    "                                        |> Async.Ignore\n",
    "\n",
    "                                    let _locals () = $\"port: {availablePort} / retry: {retry} / {_locals ()}\"\n",
    "                                    try\n",
    "                                        let pingObj = {| Ping = true |}\n",
    "                                        let! pingResult = pingObj |> sendObj availablePort\n",
    "                                        trace Verbose (fun () -> $\"awaitCompiler / Ping / result: '{pingResult}'\") _locals\n",
    "\n",
    "                                        inbox.Post (availablePort, true)\n",
    "                                    with ex ->\n",
    "                                        trace Verbose (fun () -> $\"awaitCompiler / Ping / ex: {ex |> SpiralSm.format_exception}\") _locals\n",
    "                                        do! Async.Sleep 10\n",
    "                                        do! loop (retry + 1)\n",
    "                                }\n",
    "                                do! loop 0\n",
    "                        })\n",
    "                        l6 = Some workspaceRoot\n",
    "                    }\n",
    "                )\n",
    "                |> SpiralRuntime.execute_with_options_async\n",
    "\n",
    "            trace Debug (fun () -> $\"awaitCompiler / exitCode: {exitCode} / result: {result}\") _locals\n",
    "            disposable.Dispose ()\n",
    "    }, ct)\n",
    "\n",
    "    let! serverPort, managed = compiler.Receive ()\n",
    "\n",
    "    let connection = HubConnectionBuilder().WithUrl($\"http://{host}:{serverPort}\").Build ()\n",
    "    do! connection.StartAsync () |> Async.AwaitTask\n",
    "\n",
    "    let event = Event<_> ()\n",
    "    let disposable' = connection.On<string> (\"ServerToClientMsg\", event.Trigger)\n",
    "    let stream =\n",
    "        FSharp.Control.AsyncSeq.unfoldAsync\n",
    "            (fun () -> async {\n",
    "                let! msg = event.Publish |> Async.AwaitEvent\n",
    "                return Some (msg |> FSharp.Json.Json.deserialize<ClientErrorsRes>, ())\n",
    "            })\n",
    "            ()\n",
    "\n",
    "    let disposable' =\n",
    "        new_disposable (fun () ->\n",
    "            async {\n",
    "                disposable'.Dispose ()\n",
    "                do! connection.StopAsync () |> Async.AwaitTask\n",
    "                disposable.Dispose ()\n",
    "                if managed\n",
    "                then do!\n",
    "                    SpiralNetworking.wait_for_port_access (Some 100) false host serverPort\n",
    "                    |> Async.runWithTimeoutAsync 2000\n",
    "                    |> Async.Ignore\n",
    "            }\n",
    "            |> Async.RunSynchronously\n",
    "        )\n",
    "\n",
    "    return\n",
    "        serverPort,\n",
    "        stream,\n",
    "        ct,\n",
    "        disposable'\n",
    "}"
   ]
  },
  {
   "cell_type": "markdown",
   "metadata": {},
   "source": [
    "## getFilePathFromUri"
   ]
  },
  {
   "cell_type": "code",
   "execution_count": null,
   "metadata": {
    "dotnet_interactive": {
     "language": "fsharp"
    },
    "polyglot_notebook": {
     "kernelName": "fsharp"
    }
   },
   "outputs": [],
   "source": [
    "let inline getFilePathFromUri uri =\n",
    "    match System.Uri.TryCreate (uri, System.UriKind.Absolute) with\n",
    "    | true, uri -> uri.AbsolutePath |> System.IO.Path.GetFullPath\n",
    "    | _ -> failwith \"invalid uri\""
   ]
  },
  {
   "cell_type": "markdown",
   "metadata": {},
   "source": [
    "## getCompilerPort"
   ]
  },
  {
   "cell_type": "code",
   "execution_count": null,
   "metadata": {
    "dotnet_interactive": {
     "language": "fsharp"
    },
    "polyglot_notebook": {
     "kernelName": "fsharp"
    }
   },
   "outputs": [],
   "source": [
    "let inline getCompilerPort () =\n",
    "    13805"
   ]
  },
  {
   "cell_type": "markdown",
   "metadata": {},
   "source": [
    "## serialize_obj"
   ]
  },
  {
   "cell_type": "code",
   "execution_count": null,
   "metadata": {
    "dotnet_interactive": {
     "language": "fsharp"
    },
    "polyglot_notebook": {
     "kernelName": "fsharp"
    }
   },
   "outputs": [],
   "source": [
    "    let serializeObj obj =\n",
    "        obj\n",
    "        |> FSharp.Json.Json.serialize\n",
    "        |> SpiralSm.replace \"\\\\\\\\\" \"\\\\\"\n",
    "        |> SpiralSm.replace \"\\\\r\\\\n\" \"\\n\"\n",
    "        |> SpiralSm.replace \"\\\\n\" \"\\n\""
   ]
  },
  {
   "cell_type": "markdown",
   "metadata": {},
   "source": [
    "## buildFile"
   ]
  },
  {
   "cell_type": "code",
   "execution_count": null,
   "metadata": {
    "dotnet_interactive": {
     "language": "fsharp"
    },
    "polyglot_notebook": {
     "kernelName": "fsharp"
    }
   },
   "outputs": [],
   "source": [
    "let inline buildFile timeout port cancellationToken path = async {\n",
    "    let fullPath = path |> System.IO.Path.GetFullPath\n",
    "    let fileDir = fullPath |> System.IO.Path.GetDirectoryName\n",
    "    let fileName = fullPath |> System.IO.Path.GetFileNameWithoutExtension\n",
    "    let! code = fullPath |> SpiralFileSystem.read_all_text_async\n",
    "\n",
    "    let stream, disposable = fileDir |> FileSystem.watchDirectory (fun _ -> false)\n",
    "    use _ = disposable\n",
    "\n",
    "    let struct (token, disposable) = SpiralThreading.new_disposable_token cancellationToken\n",
    "    use _ = disposable\n",
    "\n",
    "    let! serverPort, errors, ct, disposable = awaitCompiler port (Some token)\n",
    "    use _ = disposable\n",
    "\n",
    "    let fsxContentSeq =\n",
    "        stream\n",
    "        |> FSharp.Control.AsyncSeq.chooseAsync (function\n",
    "            | _, (FileSystem.FileSystemChange.Changed (path, _))\n",
    "                when (path |> System.IO.Path.GetFileName) = $\"{fileName}.fsx\"\n",
    "                ->\n",
    "                    fileDir </> path |> SpiralFileSystem.read_all_text_retry_async\n",
    "            | _ -> None |> Async.init\n",
    "        )\n",
    "        |> FSharp.Control.AsyncSeq.map (fun content ->\n",
    "            Some (content |> SpiralSm.replace \"\\r\\n\" \"\\n\"), None\n",
    "        )\n",
    "\n",
    "    let inline printErrorData (data : {| uri : string; errors : RString list |}) =\n",
    "        let fileName = data.uri |> System.IO.Path.GetFileName\n",
    "        let errors =\n",
    "            data.errors\n",
    "            |> List.map snd\n",
    "            |> SpiralSm.concat \"\\n\"\n",
    "        $\"{fileName}:\\n{errors}\"\n",
    "\n",
    "    let errorsSeq =\n",
    "        errors\n",
    "        |> FSharp.Control.AsyncSeq.choose (fun error ->\n",
    "            match error with\n",
    "            | FatalError message ->\n",
    "                Some (message, error)\n",
    "            | TracedError data ->\n",
    "                Some (data.message, error)\n",
    "            | PackageErrors data when data.errors |> List.isEmpty |> not ->\n",
    "                Some (data |> printErrorData, error)\n",
    "            | TokenizerErrors data when data.errors |> List.isEmpty |> not ->\n",
    "                Some (data |> printErrorData, error)\n",
    "            | ParserErrors data when data.errors |> List.isEmpty |> not ->\n",
    "                Some (data |> printErrorData, error)\n",
    "            | TypeErrors data when data.errors |> List.isEmpty |> not ->\n",
    "                Some (data |> printErrorData, error)\n",
    "            | _ -> None\n",
    "        )\n",
    "        |> FSharp.Control.AsyncSeq.map (fun (message, error) ->\n",
    "            None, Some (message, error)\n",
    "        )\n",
    "\n",
    "    let timerSeq =\n",
    "        1000\n",
    "        |> FSharp.Control.AsyncSeq.intervalMs\n",
    "        |> FSharp.Control.AsyncSeq.map (fun _ -> None, None)\n",
    "\n",
    "    let outputSeq =\n",
    "        [ fsxContentSeq; errorsSeq; timerSeq ]\n",
    "        |> FSharp.Control.AsyncSeq.mergeAll\n",
    "\n",
    "    let! outputChild =\n",
    "        ((None, [], 0), outputSeq)\n",
    "        ||> FSharp.Control.AsyncSeq.scan (\n",
    "            fun (fsxContentResult, errors, typeErrorCount) (fsxContent, error) ->\n",
    "                match fsxContent, error with\n",
    "                | Some fsxContent, None -> Some fsxContent, errors, typeErrorCount\n",
    "                | None, Some (_, FatalError \"File main has a type error somewhere in its path.\") ->\n",
    "                    fsxContentResult, errors, typeErrorCount + 1\n",
    "                | None, Some error -> fsxContentResult, error :: errors, typeErrorCount\n",
    "                | None, None when typeErrorCount >= 1 ->\n",
    "                    fsxContentResult, errors, typeErrorCount + 1\n",
    "                | _ -> fsxContentResult, errors, typeErrorCount\n",
    "        )\n",
    "        |> FSharp.Control.AsyncSeq.takeWhileInclusive (fun (fsxContent, errors, typeErrorCount) ->\n",
    "            trace Debug (fun () -> $\"buildFile / takeWhileInclusive / path: {path} / fsxContent: {fsxContent |> Option.defaultValue System.String.Empty |> SpiralSm.ellipsis_end 400} / errors: {errors |> serializeObj} / typeErrorCount: {typeErrorCount}\") _locals\n",
    "#if INTERACTIVE\n",
    "            let errorWait = 2\n",
    "#else\n",
    "            let errorWait = 4\n",
    "#endif\n",
    "            match fsxContent, errors with\n",
    "            | None, [] when typeErrorCount > errorWait -> false\n",
    "            | None, [] -> true\n",
    "            | _ -> false\n",
    "        )\n",
    "        |> FSharp.Control.AsyncSeq.tryLast\n",
    "        |> Async.withCancellationToken ct\n",
    "        |> Async.catch\n",
    "        |> Async.runWithTimeoutAsync timeout\n",
    "        |> Async.StartChild\n",
    "\n",
    "    let fullPathUri = fullPath |> SpiralFileSystem.normalize_path |> SpiralFileSystem.new_file_uri\n",
    "\n",
    "    let fileOpenObj = {| FileOpen = {| uri = fullPathUri; spiText = code |} |}\n",
    "    let! _fileOpenResult = fileOpenObj |> sendObj serverPort\n",
    "\n",
    "    // do! Async.Sleep 60\n",
    "\n",
    "    let buildFileObj = {| BuildFile = {| uri = fullPathUri; backend = \"Fsharp\" |} |}\n",
    "    let! _buildFileResult = buildFileObj |> sendObj serverPort\n",
    "\n",
    "    let! result =\n",
    "        outputChild\n",
    "        |> Async.map (function\n",
    "            | Some (Ok (Some (fsxCode, errors, _))) ->\n",
    "                fsxCode, errors |> List.distinct |> List.rev\n",
    "            | Some (Error ex) ->\n",
    "                trace Critical (fun () -> $\"buildFile / error: {ex |> serializeObj}\") _locals\n",
    "                None, []\n",
    "            | _ -> None, []\n",
    "        )\n",
    "\n",
    "    if fileDir |> SpiralSm.starts_with (workspaceRoot </> \"target\") then\n",
    "        let fileDirUri = fileDir |> SpiralFileSystem.normalize_path |> SpiralFileSystem.new_file_uri\n",
    "        let fileDeleteObj = {| FileDelete = {| uris = [| fileDirUri |] |} |}\n",
    "        let! _fileDeleteResult = fileDeleteObj |> sendObj serverPort\n",
    "        ()\n",
    "\n",
    "    let fsxPath = fileDir </> $\"{fileName}.fsx\"\n",
    "    return fsxPath, result\n",
    "}"
   ]
  },
  {
   "cell_type": "markdown",
   "metadata": {},
   "source": [
    "## persistCode"
   ]
  },
  {
   "cell_type": "code",
   "execution_count": null,
   "metadata": {
    "dotnet_interactive": {
     "language": "fsharp"
    },
    "polyglot_notebook": {
     "kernelName": "fsharp"
    }
   },
   "outputs": [],
   "source": [
    "let inline persistCode code = async {\n",
    "    let targetDir = workspaceRoot </> \"target/polyglot/spiral_eval\"\n",
    "\n",
    "    let packagesDir = targetDir </> \"packages\"\n",
    "\n",
    "    let hashHex = code |> SpiralCrypto.hash_text\n",
    "\n",
    "    let codeDir = packagesDir </> hashHex\n",
    "\n",
    "    let mainPath = codeDir </> \"main.spi\"\n",
    "\n",
    "    codeDir |> System.IO.Directory.CreateDirectory |> ignore\n",
    "\n",
    "    do! code |> SpiralFileSystem.write_all_text_exists mainPath\n",
    "\n",
    "    let spiprojPath = codeDir </> \"package.spiproj\"\n",
    "    let spiprojCode =\n",
    "        $\"\"\"packageDir: {workspaceRoot </> \"lib\"}\n",
    "packages:\n",
    "    |core-\n",
    "    spiral-\n",
    "modules:\n",
    "    main\n",
    "\"\"\"\n",
    "    do! spiprojCode |> SpiralFileSystem.write_all_text_exists spiprojPath\n",
    "\n",
    "    let fsxPath = codeDir </> \"main.fsx\"\n",
    "\n",
    "    if fsxPath |> System.IO.File.Exists |> not\n",
    "    then return mainPath, None\n",
    "    else\n",
    "        let! oldCode = mainPath |> SpiralFileSystem.read_all_text_async\n",
    "        if oldCode <> code\n",
    "        then return mainPath, None\n",
    "        else\n",
    "            let! fsxCode = fsxPath |> SpiralFileSystem.read_all_text_async\n",
    "            return mainPath, Some (fsxPath, fsxCode |> SpiralSm.replace \"\\r\\n\" \"\\n\")\n",
    "}"
   ]
  },
  {
   "cell_type": "markdown",
   "metadata": {},
   "source": [
    "## buildCode"
   ]
  },
  {
   "cell_type": "code",
   "execution_count": null,
   "metadata": {
    "dotnet_interactive": {
     "language": "fsharp"
    },
    "polyglot_notebook": {
     "kernelName": "fsharp"
    }
   },
   "outputs": [],
   "source": [
    "let inline buildCode timeout cancellationToken code = async {\n",
    "    let! mainPath, fsx = code |> persistCode\n",
    "    match fsx with\n",
    "    | Some (fsxPath, fsxCode) -> return mainPath, (fsxPath, Some fsxCode), []\n",
    "    | None ->\n",
    "        let port = getCompilerPort ()\n",
    "        let! fsxPath, (fsxCode, errors) = mainPath |> buildFile timeout port cancellationToken\n",
    "        return mainPath, (fsxPath, fsxCode), errors\n",
    "}"
   ]
  },
  {
   "cell_type": "code",
   "execution_count": null,
   "metadata": {
    "dotnet_interactive": {
     "language": "fsharp"
    },
    "polyglot_notebook": {
     "kernelName": "fsharp"
    }
   },
   "outputs": [],
   "source": [
    "//// test\n",
    "\n",
    "let buildCode timeout cancellationToken code = buildCode timeout cancellationToken code"
   ]
  },
  {
   "cell_type": "code",
   "execution_count": null,
   "metadata": {
    "dotnet_interactive": {
     "language": "fsharp"
    },
    "polyglot_notebook": {
     "kernelName": "fsharp"
    }
   },
   "outputs": [
    {
     "name": "stdout",
     "output_type": "stream",
     "text": [
      "00:00:09 verbose #1 networking.test_port_open / port: 13805 / ex: System.AggregateException: One or more errors occurred. (Connection refused)\n",
      "00:00:07   debug #1 execute_with_options_async / options: struct (Some System.Threading.CancellationToken,\n",
      "        \"dotnet \"/home/runner/work/polyglot/polyglot/deps/The-Spiral-Language/The Spiral Language 2/artifacts/bin/The Spiral Language 2/release/Spiral.dll\" --port 13805 --default-int i32 --default-float f64\",\n",
      "        [||], Some <fun:buildCode@3-398>, None, true,\n",
      "        Some \"/home/runner/work/polyglot/polyglot\")\n",
      "00:00:09 verbose #2 networking.test_port_open / port: 13805 / ex: System.AggregateException: One or more errors occurred. (Connection refused)\n",
      "00:00:09 verbose #3 networking.wait_for_port_access / port: 13805 / retry: 0 / timeout: Some 100 / status: True\n",
      "00:00:08 verbose #2 > 00:00:00   debug #1 pwd: /home/runner/work/polyglot/polyglot\n",
      "00:00:08 verbose #3 > 00:00:00   debug #2 dllPath: /home/runner/work/polyglot/polyglot/deps/The-Spiral-Language/The Spiral Language 2/artifacts/bin/The Spiral Language 2/release\n",
      "00:00:08 verbose #4 > 00:00:00   debug #3 targetDir: /home/runner/work/polyglot/polyglot/target/polyglot/spiral_eval\n",
      "00:00:09 verbose #4 networking.test_port_open / port: 13805 / ex: System.AggregateException: One or more errors occurred. (Connection refused)\n",
      "00:00:09 verbose #5 networking.test_port_open / port: 13805 / ex: System.AggregateException: One or more errors occurred. (Connection refused)\n",
      "00:00:09 verbose #6 networking.test_port_open / port: 13805 / ex: System.AggregateException: One or more errors occurred. (Connection refused)\n",
      "00:00:09 verbose #7 networking.test_port_open / port: 13805 / ex: System.AggregateException: One or more errors occurred. (Connection refused)\n",
      "00:00:09 verbose #8 networking.test_port_open / port: 13805 / ex: System.AggregateException: One or more errors occurred. (Connection refused)\n",
      "00:00:09 verbose #9 networking.test_port_open / port: 13805 / ex: System.AggregateException: One or more errors occurred. (Connection refused)\n",
      "00:00:09 verbose #10 networking.test_port_open / port: 13805 / ex: System.AggregateException: One or more errors occurred. (Connection refused)\n",
      "00:00:09 verbose #11 networking.test_port_open / port: 13805 / ex: System.AggregateException: One or more errors occurred. (Connection refused)\n",
      "00:00:09 verbose #12 networking.test_port_open / port: 13805 / ex: System.AggregateException: One or more errors occurred. (Connection refused)\n",
      "00:00:09 verbose #13 networking.test_port_open / port: 13805 / ex: System.AggregateException: One or more errors occurred. (Connection refused)\n",
      "00:00:09 verbose #14 networking.test_port_open / port: 13805 / ex: System.AggregateException: One or more errors occurred. (Connection refused)\n",
      "00:00:09 verbose #15 networking.test_port_open / port: 13805 / ex: System.AggregateException: One or more errors occurred. (Connection refused)\n",
      "00:00:09 verbose #16 networking.test_port_open / port: 13805 / ex: System.AggregateException: One or more errors occurred. (Connection refused)\n",
      "00:00:09 verbose #17 networking.test_port_open / port: 13805 / ex: System.AggregateException: One or more errors occurred. (Connection refused)\n",
      "00:00:09 verbose #18 networking.test_port_open / port: 13805 / ex: System.AggregateException: One or more errors occurred. (Connection refused)\n",
      "00:00:09 verbose #19 networking.test_port_open / port: 13805 / ex: System.AggregateException: One or more errors occurred. (Connection refused)\n",
      "00:00:09 verbose #20 networking.test_port_open / port: 13805 / ex: System.AggregateException: One or more errors occurred. (Connection refused)\n",
      "00:00:09 verbose #21 networking.test_port_open / port: 13805 / ex: System.AggregateException: One or more errors occurred. (Connection refused)\n",
      "00:00:09 verbose #22 networking.test_port_open / port: 13805 / ex: System.AggregateException: One or more errors occurred. (Connection refused)\n",
      "00:00:09 verbose #23 networking.test_port_open / port: 13805 / ex: System.AggregateException: One or more errors occurred. (Connection refused)\n",
      "00:00:09 verbose #24 networking.test_port_open / port: 13805 / ex: System.AggregateException: One or more errors occurred. (Connection refused)\n",
      "00:00:09 verbose #25 networking.test_port_open / port: 13805 / ex: System.AggregateException: One or more errors occurred. (Connection refused)\n",
      "00:00:09 verbose #26 networking.test_port_open / port: 13805 / ex: System.AggregateException: One or more errors occurred. (Connection refused)\n",
      "00:00:09 verbose #27 networking.test_port_open / port: 13805 / ex: System.AggregateException: One or more errors occurred. (Connection refused)\n",
      "00:00:08 verbose #5 > Starting the Spiral Server. It is bound to: http://localhost:13805\n",
      "00:00:09 verbose #28 networking.test_port_open / port: 13805 / ex: System.AggregateException: One or more errors occurred. (Connection refused)\n",
      "00:00:09 verbose #29 networking.test_port_open / port: 13805 / ex: System.AggregateException: One or more errors occurred. (Connection refused)\n",
      "00:00:09 verbose #30 networking.test_port_open / port: 13805 / ex: System.AggregateException: One or more errors occurred. (Connection refused)\n",
      "00:00:09 verbose #31 networking.test_port_open / port: 13805 / ex: System.AggregateException: One or more errors occurred. (Connection refused)\n",
      "00:00:06 verbose #1 Supervisor.sendJson / port: 13805 / json: {\"Ping\":true} / result:\n",
      "00:00:06 verbose #2 awaitCompiler / Ping / result: 'Some(null)' / port: 13805 / retry: 0\n",
      "00:00:08 verbose #6 > Server bound to: http://localhost:13805\n",
      "00:00:06   debug #3 buildFile / takeWhileInclusive / path: /home/runner/work/polyglot/polyglot/target/polyglot/spiral_eval/packages/0ad2ee90a0886647a7d9c334e1811a0c3ae5599125952e30eba9d5e3b57a56e0/main.spi / fsxContent:  / errors: [] / typeErrorCount: 0\n",
      "00:00:06   debug #4 buildFile / takeWhileInclusive / path: /home/runner/work/polyglot/polyglot/target/polyglot/spiral_eval/packages/0ad2ee90a0886647a7d9c334e1811a0c3ae5599125952e30eba9d5e3b57a56e0/main.spi / fsxContent:  / errors: [] / typeErrorCount: 0\n",
      "00:00:06 verbose #5 Supervisor.sendJson / port: 13805 / json: {\"FileOpen\":{\"spiText\":\"inl app () =\\n    console.write_line \\u0022text\\u0022\\n    1i32\\n\\ninl main ...ot/spiral_eval/packages/0ad2ee90a0886647a7d9c334e1811a0c3ae5599125952e30eba9d5e3b57a56e0/main.spi\"}} / result:\n",
      "00:00:06 verbose #6 Supervisor.sendJson / port: 13805 / json: {\"BuildFile\":{\"backend\":\"Fsharp\",\"uri\":\"file:///home/runner/work/polyglot/polyglot/target/polyglot/spiral_eval/packages/0ad2ee90a0886647a7d9c334e1811a0c3ae5599125952e30eba9d5e3b57a56e0/main.spi\"}} / result:\n",
      "00:00:09 verbose #7 > 00:00:01   debug #4 Supervisor.supervisor_server.BuildFile / file: /home/runner/work/polyglot/polyglot/target/polyglot/spiral_eval/packages/0ad2ee90a0886647a7d9c334e1811a0c3ae5599125952e30eba9d5e3b57a56e0/main.spi\n",
      "00:00:07   debug #7 buildFile / takeWhileInclusive / path: /home/runner/work/polyglot/polyglot/target/polyglot/spiral_eval/packages/0ad2ee90a0886647a7d9c334e1811a0c3ae5599125952e30eba9d5e3b57a56e0/main.spi / fsxContent:  / errors: [] / typeErrorCount: 0\n",
      "00:00:08   debug #8 buildFile / takeWhileInclusive / path: /home/runner/work/polyglot/polyglot/target/polyglot/spiral_eval/packages/0ad2ee90a0886647a7d9c334e1811a0c3ae5599125952e30eba9d5e3b57a56e0/main.spi / fsxContent:  / errors: [] / typeErrorCount: 0\n",
      "00:00:08   debug #9 buildFile / takeWhileInclusive / path: /home/runner/work/polyglot/polyglot/target/polyglot/spiral_eval/packages/0ad2ee90a0886647a7d9c334e1811a0c3ae5599125952e30eba9d5e3b57a56e0/main.spi / fsxContent: let rec closure0 () () : int32 =\n",
      "    let v0 : (string -> unit) = System.Console.WriteLine\n",
      "    let v1 : string = \"text\"\n",
      "    v0 v1\n",
      "    1\n",
      "let v0 : (unit -> int32) = closure0()\n",
      "()\n",
      " / errors: [] / typeErrorCount: 0\n",
      "00:00:08 verbose #10 Supervisor.sendJson / port: 13805 / json: {\"FileDelete\":{\"uris\":[\"file:///home/runner/work/polyglot/polyglot/target/polyglot/spiral_eval/packages/0ad2ee90a0886647a7d9c334e1811a0c3ae5599125952e30eba9d5e3b57a56e0\"]}} / result:\n",
      "00:00:12 verbose #32 networking.wait_for_port_access / port: 13805 / retry: 0 / timeout: Some 100 / status: False\n",
      "00:00:12 verbose #33 networking.test_port_open / port: 13805 / ex: System.AggregateException: One or more errors occurred. (Connection refused)\n",
      "00:00:08   debug #11 watchWithFilter / Disposing watch stream / filter: FileName, LastWrite\n",
      "Some\n",
      "  (Some\n",
      "     \"let rec closure0 () () : int32 =\n",
      "    let v0 : (string -> unit) = System.Console.WriteLine\n",
      "    let v1 : string = \"text\"\n",
      "    v0 v1\n",
      "    1\n",
      "let v0 : (unit -> int32) = closure0()\n",
      "()\n",
      "\",\n",
      "   [])\n",
      "\n"
     ]
    }
   ],
   "source": [
    "//// test\n",
    "\n",
    "\"\"\"inl app () =\n",
    "    console.write_line \"text\"\n",
    "    1i32\n",
    "\n",
    "inl main () =\n",
    "    app\n",
    "    |> dyn\n",
    "    |> ignore\n",
    "\"\"\"\n",
    "|> buildCode 15000 None\n",
    "|> Async.runWithTimeout 15000\n",
    "|> Option.map (fun (_, (_, fsxContent), errors) -> fsxContent, errors |> List.map fst)\n",
    "|> _assertEqual (\n",
    "    Some (\n",
    "        Some \"\"\"let rec closure0 () () : int32 =\n",
    "    let v0 : (string -> unit) = System.Console.WriteLine\n",
    "    let v1 : string = \"text\"\n",
    "    v0 v1\n",
    "    1\n",
    "let v0 : (unit -> int32) = closure0()\n",
    "()\n",
    "\"\"\",\n",
    "        []\n",
    "    )\n",
    ")"
   ]
  },
  {
   "cell_type": "code",
   "execution_count": null,
   "metadata": {
    "dotnet_interactive": {
     "language": "fsharp"
    },
    "polyglot_notebook": {
     "kernelName": "fsharp"
    }
   },
   "outputs": [
    {
     "name": "stdout",
     "output_type": "stream",
     "text": [
      "00:00:12 verbose #34 networking.test_port_open / port: 13805 / ex: System.AggregateException: One or more errors occurred. (Connection refused)\n",
      "00:00:11   debug #8 execute_with_options_async / options: struct (Some System.Threading.CancellationToken,\n",
      "        \"dotnet \"/home/runner/work/polyglot/polyglot/deps/The-Spiral-Language/The Spiral Language 2/artifacts/bin/The Spiral Language 2/release/Spiral.dll\" --port 13805 --default-int i32 --default-float f64\",\n",
      "        [||], Some <fun:buildCode@3-398>, None, true,\n",
      "        Some \"/home/runner/work/polyglot/polyglot\")\n",
      "00:00:12 verbose #35 networking.test_port_open / port: 13805 / ex: System.AggregateException: One or more errors occurred. (Connection refused)\n",
      "00:00:12 verbose #36 networking.wait_for_port_access / port: 13805 / retry: 0 / timeout: Some 100 / status: True\n",
      "00:00:12 verbose #37 networking.test_port_open / port: 13805 / ex: System.AggregateException: One or more errors occurred. (Connection refused)\n",
      "00:00:11 verbose #9 > 00:00:00   debug #1 pwd: /home/runner/work/polyglot/polyglot\n",
      "00:00:11 verbose #10 > 00:00:00   debug #2 dllPath: /home/runner/work/polyglot/polyglot/deps/The-Spiral-Language/The Spiral Language 2/artifacts/bin/The Spiral Language 2/release\n",
      "00:00:11 verbose #11 > 00:00:00   debug #3 targetDir: /home/runner/work/polyglot/polyglot/target/polyglot/spiral_eval\n",
      "00:00:12 verbose #38 networking.test_port_open / port: 13805 / ex: System.AggregateException: One or more errors occurred. (Connection refused)\n",
      "00:00:12 verbose #39 networking.test_port_open / port: 13805 / ex: System.AggregateException: One or more errors occurred. (Connection refused)\n",
      "00:00:12 verbose #40 networking.test_port_open / port: 13805 / ex: System.AggregateException: One or more errors occurred. (Connection refused)\n",
      "00:00:12 verbose #41 networking.test_port_open / port: 13805 / ex: System.AggregateException: One or more errors occurred. (Connection refused)\n",
      "00:00:12 verbose #42 networking.test_port_open / port: 13805 / ex: System.AggregateException: One or more errors occurred. (Connection refused)\n",
      "00:00:12 verbose #43 networking.test_port_open / port: 13805 / ex: System.AggregateException: One or more errors occurred. (Connection refused)\n",
      "00:00:12 verbose #44 networking.test_port_open / port: 13805 / ex: System.AggregateException: One or more errors occurred. (Connection refused)\n",
      "00:00:12 verbose #45 networking.test_port_open / port: 13805 / ex: System.AggregateException: One or more errors occurred. (Connection refused)\n",
      "00:00:12 verbose #46 networking.test_port_open / port: 13805 / ex: System.AggregateException: One or more errors occurred. (Connection refused)\n",
      "00:00:12 verbose #47 networking.test_port_open / port: 13805 / ex: System.AggregateException: One or more errors occurred. (Connection refused)\n",
      "00:00:12 verbose #48 networking.test_port_open / port: 13805 / ex: System.AggregateException: One or more errors occurred. (Connection refused)\n",
      "00:00:12 verbose #49 networking.test_port_open / port: 13805 / ex: System.AggregateException: One or more errors occurred. (Connection refused)\n",
      "00:00:12 verbose #50 networking.test_port_open / port: 13805 / ex: System.AggregateException: One or more errors occurred. (Connection refused)\n",
      "00:00:12 verbose #51 networking.test_port_open / port: 13805 / ex: System.AggregateException: One or more errors occurred. (Connection refused)\n",
      "00:00:12 verbose #52 networking.test_port_open / port: 13805 / ex: System.AggregateException: One or more errors occurred. (Connection refused)\n",
      "00:00:12 verbose #53 networking.test_port_open / port: 13805 / ex: System.AggregateException: One or more errors occurred. (Connection refused)\n",
      "00:00:13 verbose #54 networking.test_port_open / port: 13805 / ex: System.AggregateException: One or more errors occurred. (Connection refused)\n",
      "00:00:13 verbose #55 networking.test_port_open / port: 13805 / ex: System.AggregateException: One or more errors occurred. (Connection refused)\n",
      "00:00:13 verbose #56 networking.test_port_open / port: 13805 / ex: System.AggregateException: One or more errors occurred. (Connection refused)\n",
      "00:00:13 verbose #57 networking.test_port_open / port: 13805 / ex: System.AggregateException: One or more errors occurred. (Connection refused)\n",
      "00:00:13 verbose #58 networking.test_port_open / port: 13805 / ex: System.AggregateException: One or more errors occurred. (Connection refused)\n",
      "00:00:13 verbose #59 networking.test_port_open / port: 13805 / ex: System.AggregateException: One or more errors occurred. (Connection refused)\n",
      "00:00:11 verbose #12 > Starting the Spiral Server. It is bound to: http://localhost:13805\n",
      "00:00:13 verbose #60 networking.test_port_open / port: 13805 / ex: System.AggregateException: One or more errors occurred. (Connection refused)\n",
      "00:00:13 verbose #61 networking.test_port_open / port: 13805 / ex: System.AggregateException: One or more errors occurred. (Connection refused)\n",
      "00:00:09 verbose #12 Supervisor.sendJson / port: 13805 / json: {\"Ping\":true} / result:\n",
      "00:00:09 verbose #13 awaitCompiler / Ping / result: 'Some(null)' / port: 13805 / retry: 0\n",
      "00:00:11 verbose #13 > Server bound to: http://localhost:13805\n",
      "00:00:09   debug #14 buildFile / takeWhileInclusive / path: /home/runner/work/polyglot/polyglot/target/polyglot/spiral_eval/packages/e3b0c44298fc1c149afbf4c8996fb92427ae41e4649b934ca495991b7852b855/main.spi / fsxContent:  / errors: [] / typeErrorCount: 0\n",
      "00:00:09   debug #15 buildFile / takeWhileInclusive / path: /home/runner/work/polyglot/polyglot/target/polyglot/spiral_eval/packages/e3b0c44298fc1c149afbf4c8996fb92427ae41e4649b934ca495991b7852b855/main.spi / fsxContent:  / errors: [] / typeErrorCount: 0\n",
      "00:00:09 verbose #16 Supervisor.sendJson / port: 13805 / json: {\"FileOpen\":{\"spiText\":\"\",\"uri\":\"file:///home/runner/work/polyglot/polyglot/target/polyglot/spiral_eval/packages/e3b0c44298fc1c149afbf4c8996fb92427ae41e4649b934ca495991b7852b855/main.spi\"}} / result:\n",
      "00:00:09 verbose #17 Supervisor.sendJson / port: 13805 / json: {\"BuildFile\":{\"backend\":\"Fsharp\",\"uri\":\"file:///home/runner/work/polyglot/polyglot/target/polyglot/spiral_eval/packages/e3b0c44298fc1c149afbf4c8996fb92427ae41e4649b934ca495991b7852b855/main.spi\"}} / result:\n",
      "00:00:12 verbose #14 > 00:00:00   debug #4 Supervisor.supervisor_server.BuildFile / file: /home/runner/work/polyglot/polyglot/target/polyglot/spiral_eval/packages/e3b0c44298fc1c149afbf4c8996fb92427ae41e4649b934ca495991b7852b855/main.spi\n",
      "00:00:10   debug #18 buildFile / takeWhileInclusive / path: /home/runner/work/polyglot/polyglot/target/polyglot/spiral_eval/packages/e3b0c44298fc1c149afbf4c8996fb92427ae41e4649b934ca495991b7852b855/main.spi / fsxContent:  / errors: [] / typeErrorCount: 0\n",
      "00:00:13 verbose #15 > Cannot find `main` in file main.\n",
      "00:00:13 verbose #16 > 00:00:02   debug #5 Supervisor.supervisor_server.BuildFile.handle_build_result.BuildSkip / file: /home/runner/work/polyglot/polyglot/target/polyglot/spiral_eval/packages/e3b0c44298fc1c149afbf4c8996fb92427ae41e4649b934ca495991b7852b855/main.spi\n",
      "00:00:11   debug #19 buildFile / takeWhileInclusive / path: /home/runner/work/polyglot/polyglot/target/polyglot/spiral_eval/packages/e3b0c44298fc1c149afbf4c8996fb92427ae41e4649b934ca495991b7852b855/main.spi / fsxContent:  / errors: [] / typeErrorCount: 0\n",
      "00:00:12   debug #20 buildFile / takeWhileInclusive / path: /home/runner/work/polyglot/polyglot/target/polyglot/spiral_eval/packages/e3b0c44298fc1c149afbf4c8996fb92427ae41e4649b934ca495991b7852b855/main.spi / fsxContent:  / errors: [] / typeErrorCount: 0\n",
      "00:00:13   debug #21 buildFile / takeWhileInclusive / path: /home/runner/work/polyglot/polyglot/target/polyglot/spiral_eval/packages/e3b0c44298fc1c149afbf4c8996fb92427ae41e4649b934ca495991b7852b855/main.spi / fsxContent:  / errors: [] / typeErrorCount: 0\n",
      "00:00:14   debug #22 buildFile / takeWhileInclusive / path: /home/runner/work/polyglot/polyglot/target/polyglot/spiral_eval/packages/e3b0c44298fc1c149afbf4c8996fb92427ae41e4649b934ca495991b7852b855/main.spi / fsxContent:  / errors: [] / typeErrorCount: 0\n",
      "00:00:15   debug #23 buildFile / takeWhileInclusive / path: /home/runner/work/polyglot/polyglot/target/polyglot/spiral_eval/packages/e3b0c44298fc1c149afbf4c8996fb92427ae41e4649b934ca495991b7852b855/main.spi / fsxContent:  / errors: [] / typeErrorCount: 0\n",
      "00:00:16   debug #24 buildFile / takeWhileInclusive / path: /home/runner/work/polyglot/polyglot/target/polyglot/spiral_eval/packages/e3b0c44298fc1c149afbf4c8996fb92427ae41e4649b934ca495991b7852b855/main.spi / fsxContent:  / errors: [] / typeErrorCount: 0\n",
      "00:00:17   debug #25 buildFile / takeWhileInclusive / path: /home/runner/work/polyglot/polyglot/target/polyglot/spiral_eval/packages/e3b0c44298fc1c149afbf4c8996fb92427ae41e4649b934ca495991b7852b855/main.spi / fsxContent:  / errors: [] / typeErrorCount: 0\n",
      "00:00:18   debug #26 buildFile / takeWhileInclusive / path: /home/runner/work/polyglot/polyglot/target/polyglot/spiral_eval/packages/e3b0c44298fc1c149afbf4c8996fb92427ae41e4649b934ca495991b7852b855/main.spi / fsxContent:  / errors: [] / typeErrorCount: 0\n",
      "00:00:22 verbose #62 networking.wait_for_port_access / port: 13805 / retry: 0 / timeout: Some 100 / status: False\n",
      "00:00:22 verbose #63 networking.test_port_open / port: 13805 / ex: System.AggregateException: One or more errors occurred. (Connection refused)\n",
      "00:00:19   debug #27 watchWithFilter / Disposing watch stream / filter: FileName, LastWrite\n",
      "00:00:19   debug #28 runWithTimeoutAsync / timeout: 10000\n",
      "<null>\n",
      "\n"
     ]
    }
   ],
   "source": [
    "//// test\n",
    "\n",
    "\"\"\n",
    "|> buildCode 10000 None\n",
    "|> Async.runWithTimeout 10000\n",
    "|> _assertEqual None"
   ]
  },
  {
   "cell_type": "code",
   "execution_count": null,
   "metadata": {
    "dotnet_interactive": {
     "language": "fsharp"
    },
    "polyglot_notebook": {
     "kernelName": "fsharp"
    }
   },
   "outputs": [
    {
     "name": "stdout",
     "output_type": "stream",
     "text": [
      "00:00:22 verbose #64 networking.test_port_open / port: 13805 / ex: System.AggregateException: One or more errors occurred. (Connection refused)\n",
      "00:00:21   debug #17 execute_with_options_async / options: struct (Some System.Threading.CancellationToken,\n",
      "        \"dotnet \"/home/runner/work/polyglot/polyglot/deps/The-Spiral-Language/The Spiral Language 2/artifacts/bin/The Spiral Language 2/release/Spiral.dll\" --port 13805 --default-int i32 --default-float f64\",\n",
      "        [||], Some <fun:buildCode@3-398>, None, true,\n",
      "        Some \"/home/runner/work/polyglot/polyglot\")\n",
      "00:00:22 verbose #65 networking.test_port_open / port: 13805 / ex: System.AggregateException: One or more errors occurred. (Connection refused)\n",
      "00:00:22 verbose #66 networking.wait_for_port_access / port: 13805 / retry: 0 / timeout: Some 100 / status: True\n",
      "00:00:22 verbose #67 networking.test_port_open / port: 13805 / ex: System.AggregateException: One or more errors occurred. (Connection refused)\n",
      "00:00:21 verbose #18 > 00:00:00   debug #1 pwd: /home/runner/work/polyglot/polyglot\n",
      "00:00:21 verbose #19 > 00:00:00   debug #2 dllPath: /home/runner/work/polyglot/polyglot/deps/The-Spiral-Language/The Spiral Language 2/artifacts/bin/The Spiral Language 2/release\n",
      "00:00:21 verbose #20 > 00:00:00   debug #3 targetDir: /home/runner/work/polyglot/polyglot/target/polyglot/spiral_eval\n",
      "00:00:23 verbose #68 networking.test_port_open / port: 13805 / ex: System.AggregateException: One or more errors occurred. (Connection refused)\n",
      "00:00:23 verbose #69 networking.test_port_open / port: 13805 / ex: System.AggregateException: One or more errors occurred. (Connection refused)\n",
      "00:00:23 verbose #70 networking.test_port_open / port: 13805 / ex: System.AggregateException: One or more errors occurred. (Connection refused)\n",
      "00:00:23 verbose #71 networking.test_port_open / port: 13805 / ex: System.AggregateException: One or more errors occurred. (Connection refused)\n",
      "00:00:23 verbose #72 networking.test_port_open / port: 13805 / ex: System.AggregateException: One or more errors occurred. (Connection refused)\n",
      "00:00:23 verbose #73 networking.test_port_open / port: 13805 / ex: System.AggregateException: One or more errors occurred. (Connection refused)\n",
      "00:00:23 verbose #74 networking.test_port_open / port: 13805 / ex: System.AggregateException: One or more errors occurred. (Connection refused)\n",
      "00:00:23 verbose #75 networking.test_port_open / port: 13805 / ex: System.AggregateException: One or more errors occurred. (Connection refused)\n",
      "00:00:23 verbose #76 networking.test_port_open / port: 13805 / ex: System.AggregateException: One or more errors occurred. (Connection refused)\n",
      "00:00:23 verbose #77 networking.test_port_open / port: 13805 / ex: System.AggregateException: One or more errors occurred. (Connection refused)\n",
      "00:00:23 verbose #78 networking.test_port_open / port: 13805 / ex: System.AggregateException: One or more errors occurred. (Connection refused)\n",
      "00:00:23 verbose #79 networking.test_port_open / port: 13805 / ex: System.AggregateException: One or more errors occurred. (Connection refused)\n",
      "00:00:23 verbose #80 networking.test_port_open / port: 13805 / ex: System.AggregateException: One or more errors occurred. (Connection refused)\n",
      "00:00:23 verbose #81 networking.test_port_open / port: 13805 / ex: System.AggregateException: One or more errors occurred. (Connection refused)\n",
      "00:00:23 verbose #82 networking.test_port_open / port: 13805 / ex: System.AggregateException: One or more errors occurred. (Connection refused)\n",
      "00:00:23 verbose #83 networking.test_port_open / port: 13805 / ex: System.AggregateException: One or more errors occurred. (Connection refused)\n",
      "00:00:23 verbose #84 networking.test_port_open / port: 13805 / ex: System.AggregateException: One or more errors occurred. (Connection refused)\n",
      "00:00:23 verbose #85 networking.test_port_open / port: 13805 / ex: System.AggregateException: One or more errors occurred. (Connection refused)\n",
      "00:00:23 verbose #86 networking.test_port_open / port: 13805 / ex: System.AggregateException: One or more errors occurred. (Connection refused)\n",
      "00:00:23 verbose #87 networking.test_port_open / port: 13805 / ex: System.AggregateException: One or more errors occurred. (Connection refused)\n",
      "00:00:23 verbose #88 networking.test_port_open / port: 13805 / ex: System.AggregateException: One or more errors occurred. (Connection refused)\n",
      "00:00:21 verbose #21 > Starting the Spiral Server. It is bound to: http://localhost:13805\n",
      "00:00:23 verbose #89 networking.test_port_open / port: 13805 / ex: System.AggregateException: One or more errors occurred. (Connection refused)\n",
      "00:00:23 verbose #90 networking.test_port_open / port: 13805 / ex: System.AggregateException: One or more errors occurred. (Connection refused)\n",
      "00:00:23 verbose #91 networking.test_port_open / port: 13805 / ex: System.AggregateException: One or more errors occurred. (Connection refused)\n",
      "00:00:19 verbose #29 Supervisor.sendJson / port: 13805 / json: {\"Ping\":true} / result:\n",
      "00:00:19 verbose #30 awaitCompiler / Ping / result: 'Some(null)' / port: 13805 / retry: 0\n",
      "00:00:21 verbose #22 > Server bound to: http://localhost:13805\n",
      "00:00:19   debug #31 buildFile / takeWhileInclusive / path: /home/runner/work/polyglot/polyglot/target/polyglot/spiral_eval/packages/232df6d862bb0667133bf3fbc55c0b33286bde4b85cdb17fe93dda9c433ec620/main.spi / fsxContent:  / errors: [] / typeErrorCount: 0\n",
      "00:00:19   debug #32 buildFile / takeWhileInclusive / path: /home/runner/work/polyglot/polyglot/target/polyglot/spiral_eval/packages/232df6d862bb0667133bf3fbc55c0b33286bde4b85cdb17fe93dda9c433ec620/main.spi / fsxContent:  / errors: [] / typeErrorCount: 0\n",
      "00:00:19 verbose #33 Supervisor.sendJson / port: 13805 / json: {\"FileOpen\":{\"spiText\":\"inl main () =\\n    1i32 / 0i32\\n\",\"uri\":\"file:///home/runner/work/polyglot/p...ot/spiral_eval/packages/232df6d862bb0667133bf3fbc55c0b33286bde4b85cdb17fe93dda9c433ec620/main.spi\"}} / result:\n",
      "00:00:19 verbose #34 Supervisor.sendJson / port: 13805 / json: {\"BuildFile\":{\"backend\":\"Fsharp\",\"uri\":\"file:///home/runner/work/polyglot/polyglot/target/polyglot/spiral_eval/packages/232df6d862bb0667133bf3fbc55c0b33286bde4b85cdb17fe93dda9c433ec620/main.spi\"}} / result:\n",
      "00:00:22 verbose #23 > 00:00:00   debug #4 Supervisor.supervisor_server.BuildFile / file: /home/runner/work/polyglot/polyglot/target/polyglot/spiral_eval/packages/232df6d862bb0667133bf3fbc55c0b33286bde4b85cdb17fe93dda9c433ec620/main.spi\n",
      "00:00:20   debug #35 buildFile / takeWhileInclusive / path: /home/runner/work/polyglot/polyglot/target/polyglot/spiral_eval/packages/232df6d862bb0667133bf3fbc55c0b33286bde4b85cdb17fe93dda9c433ec620/main.spi / fsxContent:  / errors: [] / typeErrorCount: 0\n",
      "00:00:21   debug #36 buildFile / takeWhileInclusive / path: /home/runner/work/polyglot/polyglot/target/polyglot/spiral_eval/packages/232df6d862bb0667133bf3fbc55c0b33286bde4b85cdb17fe93dda9c433ec620/main.spi / fsxContent:  / errors: [\n",
      "  [\n",
      "    \"An attempt to divide by zero has been detected at compile time.\",\n",
      "    {\n",
      "      \"TracedError\": {\n",
      "        \"message\": \"An attempt to divide by zero has been detected at compile time.\",\n",
      "        \"trace\": [\n",
      "          \"Error trace on line: 1, column: 10 in module: /home/runner/work/polyglot/polyglot/target/polyglot/spiral_eval/packages/232df6d862bb0667133bf3fbc55c0b33286bde4b85cdb17fe93dda9c433ec620/main.spi.\n",
      "inl main () =\n",
      "         ^\n",
      "\",\n",
      "          \"Error trace on line: 2, column: 5 in module: /home/runner/work/polyglot/polyglot/target/polyglot/spiral_eval/packages/232df6d862bb0667133bf3fbc55c0b33286bde4b85cdb17fe93dda9c433ec620/main.spi.\n",
      "    1i32 / 0i32\n",
      "    ^\n",
      "\"\n",
      "        ]\n",
      "      }\n",
      "    }\n",
      "  ]\n",
      "] / typeErrorCount: 0\n",
      "00:00:21 verbose #37 Supervisor.sendJson / port: 13805 / json: {\"FileDelete\":{\"uris\":[\"file:///home/runner/work/polyglot/polyglot/target/polyglot/spiral_eval/packages/232df6d862bb0667133bf3fbc55c0b33286bde4b85cdb17fe93dda9c433ec620\"]}} / result:\n",
      "00:00:25 verbose #92 networking.wait_for_port_access / port: 13805 / retry: 0 / timeout: Some 100 / status: False\n",
      "00:00:25 verbose #93 networking.test_port_open / port: 13805 / ex: System.AggregateException: One or more errors occurred. (Connection refused)\n",
      "00:00:21   debug #38 watchWithFilter / Disposing watch stream / filter: FileName, LastWrite\n",
      "Some (None, [\"An attempt to divide by zero has been detected at compile time.\"])\n",
      "\n"
     ]
    }
   ],
   "source": [
    "//// test\n",
    "\n",
    "\"\"\"inl main () =\n",
    "    1i32 / 0i32\n",
    "\"\"\"\n",
    "|> buildCode 10000 None\n",
    "|> Async.runWithTimeout 10000\n",
    "|> Option.map (fun (_, (_, fsxContent), errors) -> fsxContent, errors |> List.map fst)\n",
    "|> _assertEqual (\n",
    "    Some (\n",
    "        None,\n",
    "        [ \"An attempt to divide by zero has been detected at compile time.\" ]\n",
    "    )\n",
    ")"
   ]
  },
  {
   "cell_type": "code",
   "execution_count": null,
   "metadata": {
    "dotnet_interactive": {
     "language": "fsharp"
    },
    "polyglot_notebook": {
     "kernelName": "fsharp"
    }
   },
   "outputs": [
    {
     "name": "stdout",
     "output_type": "stream",
     "text": [
      "00:00:25 verbose #94 networking.test_port_open / port: 13805 / ex: System.AggregateException: One or more errors occurred. (Connection refused)\n",
      "00:00:24   debug #24 execute_with_options_async / options: struct (Some System.Threading.CancellationToken,\n",
      "        \"dotnet \"/home/runner/work/polyglot/polyglot/deps/The-Spiral-Language/The Spiral Language 2/artifacts/bin/The Spiral Language 2/release/Spiral.dll\" --port 13805 --default-int i32 --default-float f64\",\n",
      "        [||], Some <fun:buildCode@3-398>, None, true,\n",
      "        Some \"/home/runner/work/polyglot/polyglot\")\n",
      "00:00:25 verbose #95 networking.test_port_open / port: 13805 / ex: System.AggregateException: One or more errors occurred. (Connection refused)\n",
      "00:00:25 verbose #96 networking.wait_for_port_access / port: 13805 / retry: 0 / timeout: Some 100 / status: True\n",
      "00:00:25 verbose #97 networking.test_port_open / port: 13805 / ex: System.AggregateException: One or more errors occurred. (Connection refused)\n",
      "00:00:24 verbose #25 > 00:00:00   debug #1 pwd: /home/runner/work/polyglot/polyglot\n",
      "00:00:24 verbose #26 > 00:00:00   debug #2 dllPath: /home/runner/work/polyglot/polyglot/deps/The-Spiral-Language/The Spiral Language 2/artifacts/bin/The Spiral Language 2/release\n",
      "00:00:24 verbose #27 > 00:00:00   debug #3 targetDir: /home/runner/work/polyglot/polyglot/target/polyglot/spiral_eval\n",
      "00:00:25 verbose #98 networking.test_port_open / port: 13805 / ex: System.AggregateException: One or more errors occurred. (Connection refused)\n",
      "00:00:25 verbose #99 networking.test_port_open / port: 13805 / ex: System.AggregateException: One or more errors occurred. (Connection refused)\n",
      "00:00:25 verbose #100 networking.test_port_open / port: 13805 / ex: System.AggregateException: One or more errors occurred. (Connection refused)\n",
      "00:00:25 verbose #101 networking.test_port_open / port: 13805 / ex: System.AggregateException: One or more errors occurred. (Connection refused)\n",
      "00:00:25 verbose #102 networking.test_port_open / port: 13805 / ex: System.AggregateException: One or more errors occurred. (Connection refused)\n",
      "00:00:25 verbose #103 networking.test_port_open / port: 13805 / ex: System.AggregateException: One or more errors occurred. (Connection refused)\n",
      "00:00:25 verbose #104 networking.test_port_open / port: 13805 / ex: System.AggregateException: One or more errors occurred. (Connection refused)\n",
      "00:00:25 verbose #105 networking.test_port_open / port: 13805 / ex: System.AggregateException: One or more errors occurred. (Connection refused)\n",
      "00:00:25 verbose #106 networking.test_port_open / port: 13805 / ex: System.AggregateException: One or more errors occurred. (Connection refused)\n",
      "00:00:25 verbose #107 networking.test_port_open / port: 13805 / ex: System.AggregateException: One or more errors occurred. (Connection refused)\n",
      "00:00:25 verbose #108 networking.test_port_open / port: 13805 / ex: System.AggregateException: One or more errors occurred. (Connection refused)\n",
      "00:00:25 verbose #109 networking.test_port_open / port: 13805 / ex: System.AggregateException: One or more errors occurred. (Connection refused)\n",
      "00:00:26 verbose #110 networking.test_port_open / port: 13805 / ex: System.AggregateException: One or more errors occurred. (Connection refused)\n",
      "00:00:26 verbose #111 networking.test_port_open / port: 13805 / ex: System.AggregateException: One or more errors occurred. (Connection refused)\n",
      "00:00:26 verbose #112 networking.test_port_open / port: 13805 / ex: System.AggregateException: One or more errors occurred. (Connection refused)\n",
      "00:00:26 verbose #113 networking.test_port_open / port: 13805 / ex: System.AggregateException: One or more errors occurred. (Connection refused)\n",
      "00:00:26 verbose #114 networking.test_port_open / port: 13805 / ex: System.AggregateException: One or more errors occurred. (Connection refused)\n",
      "00:00:26 verbose #115 networking.test_port_open / port: 13805 / ex: System.AggregateException: One or more errors occurred. (Connection refused)\n",
      "00:00:26 verbose #116 networking.test_port_open / port: 13805 / ex: System.AggregateException: One or more errors occurred. (Connection refused)\n",
      "00:00:26 verbose #117 networking.test_port_open / port: 13805 / ex: System.AggregateException: One or more errors occurred. (Connection refused)\n",
      "00:00:26 verbose #118 networking.test_port_open / port: 13805 / ex: System.AggregateException: One or more errors occurred. (Connection refused)\n",
      "00:00:24 verbose #28 > Starting the Spiral Server. It is bound to: http://localhost:13805\n",
      "00:00:26 verbose #119 networking.test_port_open / port: 13805 / ex: System.AggregateException: One or more errors occurred. (Connection refused)\n",
      "00:00:26 verbose #120 networking.test_port_open / port: 13805 / ex: System.AggregateException: One or more errors occurred. (Connection refused)\n",
      "00:00:26 verbose #121 networking.test_port_open / port: 13805 / ex: System.AggregateException: One or more errors occurred. (Connection refused)\n",
      "00:00:22 verbose #39 Supervisor.sendJson / port: 13805 / json: {\"Ping\":true} / result:\n",
      "00:00:22 verbose #40 awaitCompiler / Ping / result: 'Some(null)' / port: 13805 / retry: 0\n",
      "00:00:24 verbose #29 > Server bound to: http://localhost:13805\n",
      "00:00:22   debug #41 buildFile / takeWhileInclusive / path: /home/runner/work/polyglot/polyglot/target/polyglot/spiral_eval/packages/2278923ce88b0e473e77d4d93e25afa6e5e4f5efe803982e504cc198d4c4d82d/main.spi / fsxContent:  / errors: [] / typeErrorCount: 0\n",
      "00:00:22   debug #42 buildFile / takeWhileInclusive / path: /home/runner/work/polyglot/polyglot/target/polyglot/spiral_eval/packages/2278923ce88b0e473e77d4d93e25afa6e5e4f5efe803982e504cc198d4c4d82d/main.spi / fsxContent:  / errors: [] / typeErrorCount: 0\n",
      "00:00:22 verbose #43 Supervisor.sendJson / port: 13805 / json: {\"FileOpen\":{\"spiText\":\"inl main () =\\n    1 \\u002B \\u0022\\u0022\\n\",\"uri\":\"file:///home/runner/work/...ot/spiral_eval/packages/2278923ce88b0e473e77d4d93e25afa6e5e4f5efe803982e504cc198d4c4d82d/main.spi\"}} / result:\n",
      "00:00:22 verbose #44 Supervisor.sendJson / port: 13805 / json: {\"BuildFile\":{\"backend\":\"Fsharp\",\"uri\":\"file:///home/runner/work/polyglot/polyglot/target/polyglot/spiral_eval/packages/2278923ce88b0e473e77d4d93e25afa6e5e4f5efe803982e504cc198d4c4d82d/main.spi\"}} / result:\n",
      "00:00:25 verbose #30 > 00:00:00   debug #4 Supervisor.supervisor_server.BuildFile / file: /home/runner/work/polyglot/polyglot/target/polyglot/spiral_eval/packages/2278923ce88b0e473e77d4d93e25afa6e5e4f5efe803982e504cc198d4c4d82d/main.spi\n",
      "00:00:23   debug #45 buildFile / takeWhileInclusive / path: /home/runner/work/polyglot/polyglot/target/polyglot/spiral_eval/packages/2278923ce88b0e473e77d4d93e25afa6e5e4f5efe803982e504cc198d4c4d82d/main.spi / fsxContent:  / errors: [] / typeErrorCount: 0\n",
      "00:00:24   debug #46 buildFile / takeWhileInclusive / path: /home/runner/work/polyglot/polyglot/target/polyglot/spiral_eval/packages/2278923ce88b0e473e77d4d93e25afa6e5e4f5efe803982e504cc198d4c4d82d/main.spi / fsxContent:  / errors: [] / typeErrorCount: 1\n",
      "00:00:24   debug #47 buildFile / takeWhileInclusive / path: /home/runner/work/polyglot/polyglot/target/polyglot/spiral_eval/packages/2278923ce88b0e473e77d4d93e25afa6e5e4f5efe803982e504cc198d4c4d82d/main.spi / fsxContent:  / errors: [\n",
      "  [\n",
      "    \"main.spi:\n",
      "Constraint satisfaction error.\n",
      "Got: string\n",
      "Fails to satisfy: number\",\n",
      "    {\n",
      "      \"TypeErrors\": {\n",
      "        \"errors\": [\n",
      "          [\n",
      "            [\n",
      "              {\n",
      "                \"character\": 8,\n",
      "                \"line\": 1\n",
      "              },\n",
      "              {\n",
      "                \"character\": 10,\n",
      "                \"line\": 1\n",
      "              }\n",
      "            ],\n",
      "            \"Constraint satisfaction error.\n",
      "Got: string\n",
      "Fails to satisfy: number\"\n",
      "          ]\n",
      "        ],\n",
      "        \"uri\": \"file:///home/runner/work/polyglot/polyglot/target/polyglot/spiral_eval/packages/2278923ce88b0e473e77d4d93e25afa6e5e4f5efe803982e504cc198d4c4d82d/main.spi\"\n",
      "      }\n",
      "    }\n",
      "  ]\n",
      "] / typeErrorCount: 1\n",
      "00:00:24 verbose #48 Supervisor.sendJson / port: 13805 / json: {\"FileDelete\":{\"uris\":[\"file:///home/runner/work/polyglot/polyglot/target/polyglot/spiral_eval/packages/2278923ce88b0e473e77d4d93e25afa6e5e4f5efe803982e504cc198d4c4d82d\"]}} / result:\n",
      "00:00:27 verbose #122 networking.wait_for_port_access / port: 13805 / retry: 0 / timeout: Some 100 / status: False\n",
      "00:00:27 verbose #123 networking.test_port_open / port: 13805 / ex: System.AggregateException: One or more errors occurred. (Connection refused)\n",
      "00:00:24   debug #49 watchWithFilter / Disposing watch stream / filter: FileName, LastWrite\n",
      "Some (None, [\"main.spi:\n",
      "Constraint satisfaction error.\n",
      "Got: string\n",
      "Fails to satisfy: number\"])\n",
      "\n"
     ]
    }
   ],
   "source": [
    "//// test\n",
    "\n",
    "\"\"\"inl main () =\n",
    "    1 + \"\"\n",
    "\"\"\"\n",
    "|> buildCode 10000 None\n",
    "|> Async.runWithTimeout 10000\n",
    "|> Option.map (fun (_, (_, fsxContent), errors) -> fsxContent, errors |> List.map fst)\n",
    "|> _assertEqual (\n",
    "    Some (\n",
    "        None,\n",
    "        [\n",
    "            \"main.spi:\n",
    "Constraint satisfaction error.\n",
    "Got: string\n",
    "Fails to satisfy: number\"\n",
    "        ]\n",
    "    )\n",
    ")"
   ]
  },
  {
   "cell_type": "code",
   "execution_count": null,
   "metadata": {
    "dotnet_interactive": {
     "language": "fsharp"
    },
    "polyglot_notebook": {
     "kernelName": "fsharp"
    }
   },
   "outputs": [
    {
     "name": "stdout",
     "output_type": "stream",
     "text": [
      "00:00:28 verbose #124 networking.test_port_open / port: 13805 / ex: System.AggregateException: One or more errors occurred. (Connection refused)\n",
      "00:00:26   debug #31 execute_with_options_async / options: struct (Some System.Threading.CancellationToken,\n",
      "        \"dotnet \"/home/runner/work/polyglot/polyglot/deps/The-Spiral-Language/The Spiral Language 2/artifacts/bin/The Spiral Language 2/release/Spiral.dll\" --port 13805 --default-int i32 --default-float f64\",\n",
      "        [||], Some <fun:buildCode@3-398>, None, true,\n",
      "        Some \"/home/runner/work/polyglot/polyglot\")\n",
      "00:00:28 verbose #125 networking.test_port_open / port: 13805 / ex: System.AggregateException: One or more errors occurred. (Connection refused)\n",
      "00:00:28 verbose #126 networking.wait_for_port_access / port: 13805 / retry: 0 / timeout: Some 100 / status: True\n",
      "00:00:28 verbose #127 networking.test_port_open / port: 13805 / ex: System.AggregateException: One or more errors occurred. (Connection refused)\n",
      "00:00:26 verbose #32 > 00:00:00   debug #1 pwd: /home/runner/work/polyglot/polyglot\n",
      "00:00:26 verbose #33 > 00:00:00   debug #2 dllPath: /home/runner/work/polyglot/polyglot/deps/The-Spiral-Language/The Spiral Language 2/artifacts/bin/The Spiral Language 2/release\n",
      "00:00:26 verbose #34 > 00:00:00   debug #3 targetDir: /home/runner/work/polyglot/polyglot/target/polyglot/spiral_eval\n",
      "00:00:28 verbose #128 networking.test_port_open / port: 13805 / ex: System.AggregateException: One or more errors occurred. (Connection refused)\n",
      "00:00:28 verbose #129 networking.test_port_open / port: 13805 / ex: System.AggregateException: One or more errors occurred. (Connection refused)\n",
      "00:00:28 verbose #130 networking.test_port_open / port: 13805 / ex: System.AggregateException: One or more errors occurred. (Connection refused)\n",
      "00:00:28 verbose #131 networking.test_port_open / port: 13805 / ex: System.AggregateException: One or more errors occurred. (Connection refused)\n",
      "00:00:28 verbose #132 networking.test_port_open / port: 13805 / ex: System.AggregateException: One or more errors occurred. (Connection refused)\n",
      "00:00:28 verbose #133 networking.test_port_open / port: 13805 / ex: System.AggregateException: One or more errors occurred. (Connection refused)\n",
      "00:00:28 verbose #134 networking.test_port_open / port: 13805 / ex: System.AggregateException: One or more errors occurred. (Connection refused)\n",
      "00:00:28 verbose #135 networking.test_port_open / port: 13805 / ex: System.AggregateException: One or more errors occurred. (Connection refused)\n",
      "00:00:28 verbose #136 networking.test_port_open / port: 13805 / ex: System.AggregateException: One or more errors occurred. (Connection refused)\n",
      "00:00:28 verbose #137 networking.test_port_open / port: 13805 / ex: System.AggregateException: One or more errors occurred. (Connection refused)\n",
      "00:00:28 verbose #138 networking.test_port_open / port: 13805 / ex: System.AggregateException: One or more errors occurred. (Connection refused)\n",
      "00:00:28 verbose #139 networking.test_port_open / port: 13805 / ex: System.AggregateException: One or more errors occurred. (Connection refused)\n",
      "00:00:28 verbose #140 networking.test_port_open / port: 13805 / ex: System.AggregateException: One or more errors occurred. (Connection refused)\n",
      "00:00:28 verbose #141 networking.test_port_open / port: 13805 / ex: System.AggregateException: One or more errors occurred. (Connection refused)\n",
      "00:00:28 verbose #142 networking.test_port_open / port: 13805 / ex: System.AggregateException: One or more errors occurred. (Connection refused)\n",
      "00:00:28 verbose #143 networking.test_port_open / port: 13805 / ex: System.AggregateException: One or more errors occurred. (Connection refused)\n",
      "00:00:28 verbose #144 networking.test_port_open / port: 13805 / ex: System.AggregateException: One or more errors occurred. (Connection refused)\n",
      "00:00:28 verbose #145 networking.test_port_open / port: 13805 / ex: System.AggregateException: One or more errors occurred. (Connection refused)\n",
      "00:00:28 verbose #146 networking.test_port_open / port: 13805 / ex: System.AggregateException: One or more errors occurred. (Connection refused)\n",
      "00:00:28 verbose #147 networking.test_port_open / port: 13805 / ex: System.AggregateException: One or more errors occurred. (Connection refused)\n",
      "00:00:28 verbose #148 networking.test_port_open / port: 13805 / ex: System.AggregateException: One or more errors occurred. (Connection refused)\n",
      "00:00:27 verbose #35 > Starting the Spiral Server. It is bound to: http://localhost:13805\n",
      "00:00:28 verbose #149 networking.test_port_open / port: 13805 / ex: System.AggregateException: One or more errors occurred. (Connection refused)\n",
      "00:00:28 verbose #150 networking.test_port_open / port: 13805 / ex: System.AggregateException: One or more errors occurred. (Connection refused)\n",
      "00:00:28 verbose #151 networking.test_port_open / port: 13805 / ex: System.AggregateException: One or more errors occurred. (Connection refused)\n",
      "00:00:25 verbose #50 Supervisor.sendJson / port: 13805 / json: {\"Ping\":true} / result:\n",
      "00:00:25 verbose #51 awaitCompiler / Ping / result: 'Some(null)' / port: 13805 / retry: 0\n",
      "00:00:27 verbose #36 > Server bound to: http://localhost:13805\n",
      "00:00:25   debug #52 buildFile / takeWhileInclusive / path: /home/runner/work/polyglot/polyglot/target/polyglot/spiral_eval/packages/5d8d0e66f59ab13f3bfd8d88f05ce13771ab005b08581d99225216170ba6489b/main.spi / fsxContent:  / errors: [] / typeErrorCount: 0\n",
      "00:00:25   debug #53 buildFile / takeWhileInclusive / path: /home/runner/work/polyglot/polyglot/target/polyglot/spiral_eval/packages/5d8d0e66f59ab13f3bfd8d88f05ce13771ab005b08581d99225216170ba6489b/main.spi / fsxContent:  / errors: [] / typeErrorCount: 0\n",
      "00:00:25 verbose #54 Supervisor.sendJson / port: 13805 / json: {\"FileOpen\":{\"spiText\":\"inl main () =\\n    x \\u002B y\\n\",\"uri\":\"file:///home/runner/work/polyglot/po...ot/spiral_eval/packages/5d8d0e66f59ab13f3bfd8d88f05ce13771ab005b08581d99225216170ba6489b/main.spi\"}} / result:\n",
      "00:00:25 verbose #55 Supervisor.sendJson / port: 13805 / json: {\"BuildFile\":{\"backend\":\"Fsharp\",\"uri\":\"file:///home/runner/work/polyglot/polyglot/target/polyglot/spiral_eval/packages/5d8d0e66f59ab13f3bfd8d88f05ce13771ab005b08581d99225216170ba6489b/main.spi\"}} / result:\n",
      "00:00:27 verbose #37 > 00:00:00   debug #4 Supervisor.supervisor_server.BuildFile / file: /home/runner/work/polyglot/polyglot/target/polyglot/spiral_eval/packages/5d8d0e66f59ab13f3bfd8d88f05ce13771ab005b08581d99225216170ba6489b/main.spi\n",
      "00:00:26   debug #56 buildFile / takeWhileInclusive / path: /home/runner/work/polyglot/polyglot/target/polyglot/spiral_eval/packages/5d8d0e66f59ab13f3bfd8d88f05ce13771ab005b08581d99225216170ba6489b/main.spi / fsxContent:  / errors: [] / typeErrorCount: 0\n",
      "00:00:26   debug #57 buildFile / takeWhileInclusive / path: /home/runner/work/polyglot/polyglot/target/polyglot/spiral_eval/packages/5d8d0e66f59ab13f3bfd8d88f05ce13771ab005b08581d99225216170ba6489b/main.spi / fsxContent:  / errors: [] / typeErrorCount: 1\n",
      "00:00:26   debug #58 buildFile / takeWhileInclusive / path: /home/runner/work/polyglot/polyglot/target/polyglot/spiral_eval/packages/5d8d0e66f59ab13f3bfd8d88f05ce13771ab005b08581d99225216170ba6489b/main.spi / fsxContent:  / errors: [\n",
      "  [\n",
      "    \"main.spi:\n",
      "Unbound variable: x.\n",
      "Unbound variable: y.\",\n",
      "    {\n",
      "      \"TypeErrors\": {\n",
      "        \"errors\": [\n",
      "          [\n",
      "            [\n",
      "              {\n",
      "                \"character\": 4,\n",
      "                \"line\": 1\n",
      "              },\n",
      "              {\n",
      "                \"character\": 5,\n",
      "                \"line\": 1\n",
      "              }\n",
      "            ],\n",
      "            \"Unbound variable: x.\"\n",
      "          ],\n",
      "          [\n",
      "            [\n",
      "              {\n",
      "                \"character\": 8,\n",
      "                \"line\": 1\n",
      "              },\n",
      "              {\n",
      "                \"character\": 9,\n",
      "                \"line\": 1\n",
      "              }\n",
      "            ],\n",
      "            \"Unbound variable: y.\"\n",
      "          ]\n",
      "        ],\n",
      "        \"uri\": \"file:///home/runner/work/polyglot/polyglot/target/polyglot/spiral_eval/packages/5d8d0e66f59ab13f3bfd8d88f05ce13771ab005b08581d99225216170ba6489b/main.spi\"\n",
      "      }\n",
      "    }\n",
      "  ]\n",
      "] / typeErrorCount: 1\n",
      "00:00:26 verbose #59 Supervisor.sendJson / port: 13805 / json: {\"FileDelete\":{\"uris\":[\"file:///home/runner/work/polyglot/polyglot/target/polyglot/spiral_eval/packages/5d8d0e66f59ab13f3bfd8d88f05ce13771ab005b08581d99225216170ba6489b\"]}} / result:\n",
      "00:00:30 verbose #152 networking.wait_for_port_access / port: 13805 / retry: 0 / timeout: Some 100 / status: False\n",
      "00:00:30 verbose #153 networking.test_port_open / port: 13805 / ex: System.AggregateException: One or more errors occurred. (Connection refused)\n",
      "00:00:26   debug #60 watchWithFilter / Disposing watch stream / filter: FileName, LastWrite\n",
      "Some (None, [\"main.spi:\n",
      "Unbound variable: x.\n",
      "Unbound variable: y.\"])\n",
      "\n"
     ]
    }
   ],
   "source": [
    "//// test\n",
    "\n",
    "\"\"\"inl main () =\n",
    "    x + y\n",
    "\"\"\"\n",
    "|> buildCode 10000 None\n",
    "|> Async.runWithTimeout 10000\n",
    "|> Option.map (fun (_, (_, fsxContent), errors) -> fsxContent, errors |> List.map fst)\n",
    "|> _assertEqual (\n",
    "    Some (\n",
    "        None,\n",
    "        [\n",
    "            \"main.spi:\n",
    "Unbound variable: x.\n",
    "Unbound variable: y.\"\n",
    "        ]\n",
    "    )\n",
    ")"
   ]
  },
  {
   "cell_type": "code",
   "execution_count": null,
   "metadata": {
    "dotnet_interactive": {
     "language": "fsharp"
    },
    "polyglot_notebook": {
     "kernelName": "fsharp"
    }
   },
   "outputs": [
    {
     "name": "stdout",
     "output_type": "stream",
     "text": [
      "00:00:30 verbose #154 networking.test_port_open / port: 13805 / ex: System.AggregateException: One or more errors occurred. (Connection refused)\n",
      "00:00:28   debug #38 execute_with_options_async / options: struct (Some System.Threading.CancellationToken,\n",
      "        \"dotnet \"/home/runner/work/polyglot/polyglot/deps/The-Spiral-Language/The Spiral Language 2/artifacts/bin/The Spiral Language 2/release/Spiral.dll\" --port 13805 --default-int i32 --default-float f64\",\n",
      "        [||], Some <fun:buildCode@3-398>, None, true,\n",
      "        Some \"/home/runner/work/polyglot/polyglot\")\n",
      "00:00:30 verbose #155 networking.test_port_open / port: 13805 / ex: System.AggregateException: One or more errors occurred. (Connection refused)\n",
      "00:00:30 verbose #156 networking.wait_for_port_access / port: 13805 / retry: 0 / timeout: Some 100 / status: True\n",
      "00:00:30 verbose #157 networking.test_port_open / port: 13805 / ex: System.AggregateException: One or more errors occurred. (Connection refused)\n",
      "00:00:29 verbose #39 > 00:00:00   debug #1 pwd: /home/runner/work/polyglot/polyglot\n",
      "00:00:29 verbose #40 > 00:00:00   debug #2 dllPath: /home/runner/work/polyglot/polyglot/deps/The-Spiral-Language/The Spiral Language 2/artifacts/bin/The Spiral Language 2/release\n",
      "00:00:29 verbose #41 > 00:00:00   debug #3 targetDir: /home/runner/work/polyglot/polyglot/target/polyglot/spiral_eval\n",
      "00:00:30 verbose #158 networking.test_port_open / port: 13805 / ex: System.AggregateException: One or more errors occurred. (Connection refused)\n",
      "00:00:30 verbose #159 networking.test_port_open / port: 13805 / ex: System.AggregateException: One or more errors occurred. (Connection refused)\n",
      "00:00:30 verbose #160 networking.test_port_open / port: 13805 / ex: System.AggregateException: One or more errors occurred. (Connection refused)\n",
      "00:00:30 verbose #161 networking.test_port_open / port: 13805 / ex: System.AggregateException: One or more errors occurred. (Connection refused)\n",
      "00:00:30 verbose #162 networking.test_port_open / port: 13805 / ex: System.AggregateException: One or more errors occurred. (Connection refused)\n",
      "00:00:30 verbose #163 networking.test_port_open / port: 13805 / ex: System.AggregateException: One or more errors occurred. (Connection refused)\n",
      "00:00:30 verbose #164 networking.test_port_open / port: 13805 / ex: System.AggregateException: One or more errors occurred. (Connection refused)\n",
      "00:00:30 verbose #165 networking.test_port_open / port: 13805 / ex: System.AggregateException: One or more errors occurred. (Connection refused)\n",
      "00:00:30 verbose #166 networking.test_port_open / port: 13805 / ex: System.AggregateException: One or more errors occurred. (Connection refused)\n",
      "00:00:30 verbose #167 networking.test_port_open / port: 13805 / ex: System.AggregateException: One or more errors occurred. (Connection refused)\n",
      "00:00:30 verbose #168 networking.test_port_open / port: 13805 / ex: System.AggregateException: One or more errors occurred. (Connection refused)\n",
      "00:00:30 verbose #169 networking.test_port_open / port: 13805 / ex: System.AggregateException: One or more errors occurred. (Connection refused)\n",
      "00:00:30 verbose #170 networking.test_port_open / port: 13805 / ex: System.AggregateException: One or more errors occurred. (Connection refused)\n",
      "00:00:30 verbose #171 networking.test_port_open / port: 13805 / ex: System.AggregateException: One or more errors occurred. (Connection refused)\n",
      "00:00:30 verbose #172 networking.test_port_open / port: 13805 / ex: System.AggregateException: One or more errors occurred. (Connection refused)\n",
      "00:00:30 verbose #173 networking.test_port_open / port: 13805 / ex: System.AggregateException: One or more errors occurred. (Connection refused)\n",
      "00:00:30 verbose #174 networking.test_port_open / port: 13805 / ex: System.AggregateException: One or more errors occurred. (Connection refused)\n",
      "00:00:30 verbose #175 networking.test_port_open / port: 13805 / ex: System.AggregateException: One or more errors occurred. (Connection refused)\n",
      "00:00:30 verbose #176 networking.test_port_open / port: 13805 / ex: System.AggregateException: One or more errors occurred. (Connection refused)\n",
      "00:00:31 verbose #177 networking.test_port_open / port: 13805 / ex: System.AggregateException: One or more errors occurred. (Connection refused)\n",
      "00:00:29 verbose #42 > Starting the Spiral Server. It is bound to: http://localhost:13805\n",
      "00:00:31 verbose #178 networking.test_port_open / port: 13805 / ex: System.AggregateException: One or more errors occurred. (Connection refused)\n",
      "00:00:31 verbose #179 networking.test_port_open / port: 13805 / ex: System.AggregateException: One or more errors occurred. (Connection refused)\n",
      "00:00:31 verbose #180 networking.test_port_open / port: 13805 / ex: System.AggregateException: One or more errors occurred. (Connection refused)\n",
      "00:00:27 verbose #61 Supervisor.sendJson / port: 13805 / json: {\"Ping\":true} / result:\n",
      "00:00:27 verbose #62 awaitCompiler / Ping / result: 'Some(null)' / port: 13805 / retry: 0\n",
      "00:00:29 verbose #43 > Server bound to: http://localhost:13805\n",
      "00:00:27   debug #63 buildFile / takeWhileInclusive / path: /home/runner/work/polyglot/polyglot/target/polyglot/spiral_eval/packages/a2aa158e3d25dde470018a814a2045bf437bae1760d98ab33335c72b076d4d50/main.spi / fsxContent:  / errors: [] / typeErrorCount: 0\n",
      "00:00:27   debug #64 buildFile / takeWhileInclusive / path: /home/runner/work/polyglot/polyglot/target/polyglot/spiral_eval/packages/a2aa158e3d25dde470018a814a2045bf437bae1760d98ab33335c72b076d4d50/main.spi / fsxContent:  / errors: [] / typeErrorCount: 0\n",
      "00:00:27 verbose #65 Supervisor.sendJson / port: 13805 / json: {\"FileOpen\":{\"spiText\":\"\\ninl main () =\\n    real\\n        inl real_unbox forall a. (obj : a) : a =\\...ot/spiral_eval/packages/a2aa158e3d25dde470018a814a2045bf437bae1760d98ab33335c72b076d4d50/main.spi\"}} / result:\n",
      "00:00:27 verbose #66 Supervisor.sendJson / port: 13805 / json: {\"BuildFile\":{\"backend\":\"Fsharp\",\"uri\":\"file:///home/runner/work/polyglot/polyglot/target/polyglot/spiral_eval/packages/a2aa158e3d25dde470018a814a2045bf437bae1760d98ab33335c72b076d4d50/main.spi\"}} / result:\n",
      "00:00:29 verbose #44 > 00:00:00   debug #4 Supervisor.supervisor_server.BuildFile / file: /home/runner/work/polyglot/polyglot/target/polyglot/spiral_eval/packages/a2aa158e3d25dde470018a814a2045bf437bae1760d98ab33335c72b076d4d50/main.spi\n",
      "00:00:28   debug #67 buildFile / takeWhileInclusive / path: /home/runner/work/polyglot/polyglot/target/polyglot/spiral_eval/packages/a2aa158e3d25dde470018a814a2045bf437bae1760d98ab33335c72b076d4d50/main.spi / fsxContent:  / errors: [] / typeErrorCount: 0\n",
      "00:00:29   debug #68 buildFile / takeWhileInclusive / path: /home/runner/work/polyglot/polyglot/target/polyglot/spiral_eval/packages/a2aa158e3d25dde470018a814a2045bf437bae1760d98ab33335c72b076d4d50/main.spi / fsxContent:  / errors: [\n",
      "  [\n",
      "    \"Cannot apply a forall with a term.\",\n",
      "    {\n",
      "      \"TracedError\": {\n",
      "        \"message\": \"Cannot apply a forall with a term.\",\n",
      "        \"trace\": [\n",
      "          \"Error trace on line: 2, column: 10 in module: /home/runner/work/polyglot/polyglot/target/polyglot/spiral_eval/packages/a2aa158e3d25dde470018a814a2045bf437bae1760d98ab33335c72b076d4d50/main.spi.\n",
      "inl main () =\n",
      "         ^\n",
      "\",\n",
      "          \"Error trace on line: 4, column: 9 in module: /home/runner/work/polyglot/polyglot/target/polyglot/spiral_eval/packages/a2aa158e3d25dde470018a814a2045bf437bae1760d98ab33335c72b076d4d50/main.spi.\n",
      "        inl real_unbox forall a. (obj : a) : a =\n",
      "        ^\n",
      "\",\n",
      "          \"Error trace on line: 7, column: 9 in module: /home/runner/work/polyglot/polyglot/target/polyglot/spiral_eval/packages/a2aa158e3d25dde470018a814a2045bf437bae1760d98ab33335c72b076d4d50/main.spi.\n",
      "        real_unbox ()\n",
      "        ^\n",
      "\"\n",
      "        ]\n",
      "      }\n",
      "    }\n",
      "  ]\n",
      "] / typeErrorCount: 0\n",
      "00:00:29 verbose #69 Supervisor.sendJson / port: 13805 / json: {\"FileDelete\":{\"uris\":[\"file:///home/runner/work/polyglot/polyglot/target/polyglot/spiral_eval/packages/a2aa158e3d25dde470018a814a2045bf437bae1760d98ab33335c72b076d4d50\"]}} / result:\n",
      "00:00:33 verbose #181 networking.wait_for_port_access / port: 13805 / retry: 0 / timeout: Some 100 / status: False\n",
      "00:00:33 verbose #182 networking.test_port_open / port: 13805 / ex: System.AggregateException: One or more errors occurred. (Connection refused)\n",
      "00:00:29   debug #70 watchWithFilter / Disposing watch stream / filter: FileName, LastWrite\n",
      "Some (None, [\"Cannot apply a forall with a term.\"])\n",
      "\n"
     ]
    }
   ],
   "source": [
    "//// test\n",
    "\n",
    "\"\"\"\n",
    "inl main () =\n",
    "    real\n",
    "        inl real_unbox forall a. (obj : a) : a =\n",
    "            typecase obj with\n",
    "            | _ => obj\n",
    "        real_unbox ()\n",
    "    ()\n",
    "\"\"\"\n",
    "|> buildCode 10000 None\n",
    "|> Async.runWithTimeout 10000\n",
    "|> Option.map (fun (_, (_, fsxContent), errors) -> fsxContent, errors |> List.map fst)\n",
    "|> _assertEqual (\n",
    "    Some (\n",
    "        None,\n",
    "        [ \"Cannot apply a forall with a term.\" ]\n",
    "    )\n",
    ")"
   ]
  },
  {
   "cell_type": "code",
   "execution_count": null,
   "metadata": {
    "dotnet_interactive": {
     "language": "fsharp"
    },
    "polyglot_notebook": {
     "kernelName": "fsharp"
    }
   },
   "outputs": [
    {
     "name": "stdout",
     "output_type": "stream",
     "text": [
      "00:00:33 verbose #183 networking.test_port_open / port: 13805 / ex: System.AggregateException: One or more errors occurred. (Connection refused)\n",
      "00:00:31   debug #45 execute_with_options_async / options: struct (Some System.Threading.CancellationToken,\n",
      "        \"dotnet \"/home/runner/work/polyglot/polyglot/deps/The-Spiral-Language/The Spiral Language 2/artifacts/bin/The Spiral Language 2/release/Spiral.dll\" --port 13805 --default-int i32 --default-float f64\",\n",
      "        [||], Some <fun:buildCode@3-398>, None, true,\n",
      "        Some \"/home/runner/work/polyglot/polyglot\")\n",
      "00:00:33 verbose #184 networking.test_port_open / port: 13805 / ex: System.AggregateException: One or more errors occurred. (Connection refused)\n",
      "00:00:33 verbose #185 networking.wait_for_port_access / port: 13805 / retry: 0 / timeout: Some 100 / status: True\n",
      "00:00:33 verbose #186 networking.test_port_open / port: 13805 / ex: System.AggregateException: One or more errors occurred. (Connection refused)\n",
      "00:00:32 verbose #46 > 00:00:00   debug #1 pwd: /home/runner/work/polyglot/polyglot\n",
      "00:00:32 verbose #47 > 00:00:00   debug #2 dllPath: /home/runner/work/polyglot/polyglot/deps/The-Spiral-Language/The Spiral Language 2/artifacts/bin/The Spiral Language 2/release\n",
      "00:00:32 verbose #48 > 00:00:00   debug #3 targetDir: /home/runner/work/polyglot/polyglot/target/polyglot/spiral_eval\n",
      "00:00:33 verbose #187 networking.test_port_open / port: 13805 / ex: System.AggregateException: One or more errors occurred. (Connection refused)\n",
      "00:00:33 verbose #188 networking.test_port_open / port: 13805 / ex: System.AggregateException: One or more errors occurred. (Connection refused)\n",
      "00:00:33 verbose #189 networking.test_port_open / port: 13805 / ex: System.AggregateException: One or more errors occurred. (Connection refused)\n",
      "00:00:33 verbose #190 networking.test_port_open / port: 13805 / ex: System.AggregateException: One or more errors occurred. (Connection refused)\n",
      "00:00:33 verbose #191 networking.test_port_open / port: 13805 / ex: System.AggregateException: One or more errors occurred. (Connection refused)\n",
      "00:00:33 verbose #192 networking.test_port_open / port: 13805 / ex: System.AggregateException: One or more errors occurred. (Connection refused)\n",
      "00:00:33 verbose #193 networking.test_port_open / port: 13805 / ex: System.AggregateException: One or more errors occurred. (Connection refused)\n",
      "00:00:33 verbose #194 networking.test_port_open / port: 13805 / ex: System.AggregateException: One or more errors occurred. (Connection refused)\n",
      "00:00:33 verbose #195 networking.test_port_open / port: 13805 / ex: System.AggregateException: One or more errors occurred. (Connection refused)\n",
      "00:00:33 verbose #196 networking.test_port_open / port: 13805 / ex: System.AggregateException: One or more errors occurred. (Connection refused)\n",
      "00:00:33 verbose #197 networking.test_port_open / port: 13805 / ex: System.AggregateException: One or more errors occurred. (Connection refused)\n",
      "00:00:33 verbose #198 networking.test_port_open / port: 13805 / ex: System.AggregateException: One or more errors occurred. (Connection refused)\n",
      "00:00:33 verbose #199 networking.test_port_open / port: 13805 / ex: System.AggregateException: One or more errors occurred. (Connection refused)\n",
      "00:00:33 verbose #200 networking.test_port_open / port: 13805 / ex: System.AggregateException: One or more errors occurred. (Connection refused)\n",
      "00:00:33 verbose #201 networking.test_port_open / port: 13805 / ex: System.AggregateException: One or more errors occurred. (Connection refused)\n",
      "00:00:33 verbose #202 networking.test_port_open / port: 13805 / ex: System.AggregateException: One or more errors occurred. (Connection refused)\n",
      "00:00:33 verbose #203 networking.test_port_open / port: 13805 / ex: System.AggregateException: One or more errors occurred. (Connection refused)\n",
      "00:00:33 verbose #204 networking.test_port_open / port: 13805 / ex: System.AggregateException: One or more errors occurred. (Connection refused)\n",
      "00:00:33 verbose #205 networking.test_port_open / port: 13805 / ex: System.AggregateException: One or more errors occurred. (Connection refused)\n",
      "00:00:33 verbose #206 networking.test_port_open / port: 13805 / ex: System.AggregateException: One or more errors occurred. (Connection refused)\n",
      "00:00:32 verbose #49 > Starting the Spiral Server. It is bound to: http://localhost:13805\n",
      "00:00:33 verbose #207 networking.test_port_open / port: 13805 / ex: System.AggregateException: One or more errors occurred. (Connection refused)\n",
      "00:00:33 verbose #208 networking.test_port_open / port: 13805 / ex: System.AggregateException: One or more errors occurred. (Connection refused)\n",
      "00:00:33 verbose #209 networking.test_port_open / port: 13805 / ex: System.AggregateException: One or more errors occurred. (Connection refused)\n",
      "00:00:30 verbose #71 Supervisor.sendJson / port: 13805 / json: {\"Ping\":true} / result:\n",
      "00:00:30 verbose #72 awaitCompiler / Ping / result: 'Some(null)' / port: 13805 / retry: 0\n",
      "00:00:32 verbose #50 > Server bound to: http://localhost:13805\n",
      "00:00:30   debug #73 buildFile / takeWhileInclusive / path: /home/runner/work/polyglot/polyglot/target/polyglot/spiral_eval/packages/84eca3865a0cfc1afd28f49a38d395e9b89071527b4bda759de7cfb116593b3e/main.spi / fsxContent:  / errors: [] / typeErrorCount: 0\n",
      "00:00:30   debug #74 buildFile / takeWhileInclusive / path: /home/runner/work/polyglot/polyglot/target/polyglot/spiral_eval/packages/84eca3865a0cfc1afd28f49a38d395e9b89071527b4bda759de7cfb116593b3e/main.spi / fsxContent:  / errors: [] / typeErrorCount: 0\n",
      "00:00:30 verbose #75 Supervisor.sendJson / port: 13805 / json: {\"FileOpen\":{\"spiText\":\"\\ninl main () =\\n    real\\n        inl real_unbox forall a. (obj : a) : a =\\...ot/spiral_eval/packages/84eca3865a0cfc1afd28f49a38d395e9b89071527b4bda759de7cfb116593b3e/main.spi\"}} / result:\n",
      "00:00:30 verbose #76 Supervisor.sendJson / port: 13805 / json: {\"BuildFile\":{\"backend\":\"Fsharp\",\"uri\":\"file:///home/runner/work/polyglot/polyglot/target/polyglot/spiral_eval/packages/84eca3865a0cfc1afd28f49a38d395e9b89071527b4bda759de7cfb116593b3e/main.spi\"}} / result:\n",
      "00:00:32 verbose #51 > 00:00:00   debug #4 Supervisor.supervisor_server.BuildFile / file: /home/runner/work/polyglot/polyglot/target/polyglot/spiral_eval/packages/84eca3865a0cfc1afd28f49a38d395e9b89071527b4bda759de7cfb116593b3e/main.spi\n",
      "00:00:31   debug #77 buildFile / takeWhileInclusive / path: /home/runner/work/polyglot/polyglot/target/polyglot/spiral_eval/packages/84eca3865a0cfc1afd28f49a38d395e9b89071527b4bda759de7cfb116593b3e/main.spi / fsxContent:  / errors: [] / typeErrorCount: 0\n",
      "00:00:32   debug #78 buildFile / takeWhileInclusive / path: /home/runner/work/polyglot/polyglot/target/polyglot/spiral_eval/packages/84eca3865a0cfc1afd28f49a38d395e9b89071527b4bda759de7cfb116593b3e/main.spi / fsxContent:  / errors: [\n",
      "  [\n",
      "    \"The main function should not have a forall.\",\n",
      "    {\n",
      "      \"TracedError\": {\n",
      "        \"message\": \"The main function should not have a forall.\",\n",
      "        \"trace\": []\n",
      "      }\n",
      "    }\n",
      "  ]\n",
      "] / typeErrorCount: 0\n",
      "00:00:32 verbose #79 Supervisor.sendJson / port: 13805 / json: {\"FileDelete\":{\"uris\":[\"file:///home/runner/work/polyglot/polyglot/target/polyglot/spiral_eval/packages/84eca3865a0cfc1afd28f49a38d395e9b89071527b4bda759de7cfb116593b3e\"]}} / result:\n",
      "00:00:35 verbose #210 networking.wait_for_port_access / port: 13805 / retry: 0 / timeout: Some 100 / status: False\n",
      "00:00:35 verbose #211 networking.test_port_open / port: 13805 / ex: System.AggregateException: One or more errors occurred. (Connection refused)\n",
      "00:00:32   debug #80 watchWithFilter / Disposing watch stream / filter: FileName, LastWrite\n",
      "Some (None, [\"The main function should not have a forall.\"])\n",
      "\n"
     ]
    }
   ],
   "source": [
    "//// test\n",
    "\n",
    "\"\"\"\n",
    "inl main () =\n",
    "    real\n",
    "        inl real_unbox forall a. (obj : a) : a =\n",
    "            typecase obj with\n",
    "            | _ => obj\n",
    "        real_unbox `i32 1\n",
    "\"\"\"\n",
    "|> buildCode 10000 None\n",
    "|> Async.runWithTimeout 10000\n",
    "|> Option.map (fun (_, (_, fsxContent), errors) -> fsxContent, errors |> List.map fst)\n",
    "|> _assertEqual (\n",
    "    Some (\n",
    "        None,\n",
    "        [ \"The main function should not have a forall.\" ]\n",
    "    )\n",
    ")"
   ]
  },
  {
   "cell_type": "code",
   "execution_count": null,
   "metadata": {
    "dotnet_interactive": {
     "language": "fsharp"
    },
    "polyglot_notebook": {
     "kernelName": "fsharp"
    }
   },
   "outputs": [
    {
     "name": "stdout",
     "output_type": "stream",
     "text": [
      "00:00:35 verbose #212 networking.test_port_open / port: 13805 / ex: System.AggregateException: One or more errors occurred. (Connection refused)\n",
      "00:00:34   debug #52 execute_with_options_async / options: struct (Some System.Threading.CancellationToken,\n",
      "        \"dotnet \"/home/runner/work/polyglot/polyglot/deps/The-Spiral-Language/The Spiral Language 2/artifacts/bin/The Spiral Language 2/release/Spiral.dll\" --port 13805 --default-int i32 --default-float f64\",\n",
      "        [||], Some <fun:buildCode@3-398>, None, true,\n",
      "        Some \"/home/runner/work/polyglot/polyglot\")\n",
      "00:00:36 verbose #213 networking.test_port_open / port: 13805 / ex: System.AggregateException: One or more errors occurred. (Connection refused)\n",
      "00:00:36 verbose #214 networking.wait_for_port_access / port: 13805 / retry: 0 / timeout: Some 100 / status: True\n",
      "00:00:36 verbose #215 networking.test_port_open / port: 13805 / ex: System.AggregateException: One or more errors occurred. (Connection refused)\n",
      "00:00:34 verbose #53 > 00:00:00   debug #1 pwd: /home/runner/work/polyglot/polyglot\n",
      "00:00:34 verbose #54 > 00:00:00   debug #2 dllPath: /home/runner/work/polyglot/polyglot/deps/The-Spiral-Language/The Spiral Language 2/artifacts/bin/The Spiral Language 2/release\n",
      "00:00:34 verbose #55 > 00:00:00   debug #3 targetDir: /home/runner/work/polyglot/polyglot/target/polyglot/spiral_eval\n",
      "00:00:36 verbose #216 networking.test_port_open / port: 13805 / ex: System.AggregateException: One or more errors occurred. (Connection refused)\n",
      "00:00:36 verbose #217 networking.test_port_open / port: 13805 / ex: System.AggregateException: One or more errors occurred. (Connection refused)\n",
      "00:00:36 verbose #218 networking.test_port_open / port: 13805 / ex: System.AggregateException: One or more errors occurred. (Connection refused)\n",
      "00:00:36 verbose #219 networking.test_port_open / port: 13805 / ex: System.AggregateException: One or more errors occurred. (Connection refused)\n",
      "00:00:36 verbose #220 networking.test_port_open / port: 13805 / ex: System.AggregateException: One or more errors occurred. (Connection refused)\n",
      "00:00:36 verbose #221 networking.test_port_open / port: 13805 / ex: System.AggregateException: One or more errors occurred. (Connection refused)\n",
      "00:00:36 verbose #222 networking.test_port_open / port: 13805 / ex: System.AggregateException: One or more errors occurred. (Connection refused)\n",
      "00:00:36 verbose #223 networking.test_port_open / port: 13805 / ex: System.AggregateException: One or more errors occurred. (Connection refused)\n",
      "00:00:36 verbose #224 networking.test_port_open / port: 13805 / ex: System.AggregateException: One or more errors occurred. (Connection refused)\n",
      "00:00:36 verbose #225 networking.test_port_open / port: 13805 / ex: System.AggregateException: One or more errors occurred. (Connection refused)\n",
      "00:00:36 verbose #226 networking.test_port_open / port: 13805 / ex: System.AggregateException: One or more errors occurred. (Connection refused)\n",
      "00:00:36 verbose #227 networking.test_port_open / port: 13805 / ex: System.AggregateException: One or more errors occurred. (Connection refused)\n",
      "00:00:36 verbose #228 networking.test_port_open / port: 13805 / ex: System.AggregateException: One or more errors occurred. (Connection refused)\n",
      "00:00:36 verbose #229 networking.test_port_open / port: 13805 / ex: System.AggregateException: One or more errors occurred. (Connection refused)\n",
      "00:00:36 verbose #230 networking.test_port_open / port: 13805 / ex: System.AggregateException: One or more errors occurred. (Connection refused)\n",
      "00:00:36 verbose #231 networking.test_port_open / port: 13805 / ex: System.AggregateException: One or more errors occurred. (Connection refused)\n",
      "00:00:36 verbose #232 networking.test_port_open / port: 13805 / ex: System.AggregateException: One or more errors occurred. (Connection refused)\n",
      "00:00:36 verbose #233 networking.test_port_open / port: 13805 / ex: System.AggregateException: One or more errors occurred. (Connection refused)\n",
      "00:00:36 verbose #234 networking.test_port_open / port: 13805 / ex: System.AggregateException: One or more errors occurred. (Connection refused)\n",
      "00:00:36 verbose #235 networking.test_port_open / port: 13805 / ex: System.AggregateException: One or more errors occurred. (Connection refused)\n",
      "00:00:36 verbose #236 networking.test_port_open / port: 13805 / ex: System.AggregateException: One or more errors occurred. (Connection refused)\n",
      "00:00:34 verbose #56 > Starting the Spiral Server. It is bound to: http://localhost:13805\n",
      "00:00:36 verbose #237 networking.test_port_open / port: 13805 / ex: System.AggregateException: One or more errors occurred. (Connection refused)\n",
      "00:00:36 verbose #238 networking.test_port_open / port: 13805 / ex: System.AggregateException: One or more errors occurred. (Connection refused)\n",
      "00:00:36 verbose #239 networking.test_port_open / port: 13805 / ex: System.AggregateException: One or more errors occurred. (Connection refused)\n",
      "00:00:33 verbose #81 Supervisor.sendJson / port: 13805 / json: {\"Ping\":true} / result:\n",
      "00:00:33 verbose #82 awaitCompiler / Ping / result: 'Some(null)' / port: 13805 / retry: 0\n",
      "00:00:35 verbose #57 > Server bound to: http://localhost:13805\n",
      "00:00:33   debug #83 buildFile / takeWhileInclusive / path: /home/runner/work/polyglot/polyglot/target/polyglot/spiral_eval/packages/c0932fdbf60389c2ae8b78bb5443994f2d0ecdc6c6e7dfddf408cecaa050d294/main.spi / fsxContent:  / errors: [] / typeErrorCount: 0\n",
      "00:00:33   debug #84 buildFile / takeWhileInclusive / path: /home/runner/work/polyglot/polyglot/target/polyglot/spiral_eval/packages/c0932fdbf60389c2ae8b78bb5443994f2d0ecdc6c6e7dfddf408cecaa050d294/main.spi / fsxContent:  / errors: [] / typeErrorCount: 0\n",
      "00:00:33 verbose #85 Supervisor.sendJson / port: 13805 / json: {\"FileOpen\":{\"spiText\":\"\\ninl init_series start end inc =\\n    inl total : f64 = conv ((end - start)...ot/spiral_eval/packages/c0932fdbf60389c2ae8b78bb5443994f2d0ecdc6c6e7dfddf408cecaa050d294/main.spi\"}} / result:\n",
      "00:00:33 verbose #86 Supervisor.sendJson / port: 13805 / json: {\"BuildFile\":{\"backend\":\"Fsharp\",\"uri\":\"file:///home/runner/work/polyglot/polyglot/target/polyglot/spiral_eval/packages/c0932fdbf60389c2ae8b78bb5443994f2d0ecdc6c6e7dfddf408cecaa050d294/main.spi\"}} / result:\n",
      "00:00:35 verbose #58 > 00:00:00   debug #4 Supervisor.supervisor_server.BuildFile / file: /home/runner/work/polyglot/polyglot/target/polyglot/spiral_eval/packages/c0932fdbf60389c2ae8b78bb5443994f2d0ecdc6c6e7dfddf408cecaa050d294/main.spi\n",
      "00:00:34   debug #87 buildFile / takeWhileInclusive / path: /home/runner/work/polyglot/polyglot/target/polyglot/spiral_eval/packages/c0932fdbf60389c2ae8b78bb5443994f2d0ecdc6c6e7dfddf408cecaa050d294/main.spi / fsxContent:  / errors: [] / typeErrorCount: 0\n",
      "00:00:35   debug #88 buildFile / takeWhileInclusive / path: /home/runner/work/polyglot/polyglot/target/polyglot/spiral_eval/packages/c0932fdbf60389c2ae8b78bb5443994f2d0ecdc6c6e7dfddf408cecaa050d294/main.spi / fsxContent: 0.3325000000000001\n",
      " / errors: [] / typeErrorCount: 0\n",
      "00:00:35 verbose #89 Supervisor.sendJson / port: 13805 / json: {\"FileDelete\":{\"uris\":[\"file:///home/runner/work/polyglot/polyglot/target/polyglot/spiral_eval/packages/c0932fdbf60389c2ae8b78bb5443994f2d0ecdc6c6e7dfddf408cecaa050d294\"]}} / result:\n",
      "00:00:38 verbose #240 networking.wait_for_port_access / port: 13805 / retry: 0 / timeout: Some 100 / status: False\n",
      "00:00:38 verbose #241 networking.test_port_open / port: 13805 / ex: System.AggregateException: One or more errors occurred. (Connection refused)\n",
      "00:00:35   debug #90 watchWithFilter / Disposing watch stream / filter: FileName, LastWrite\n",
      "Some (Some \"0.3325000000000001\n",
      "\", [])\n",
      "\n"
     ]
    }
   ],
   "source": [
    "//// test\n",
    "\n",
    "\"\"\"\n",
    "inl init_series start end inc =\n",
    "    inl total : f64 = conv ((end - start) / inc) + 1\n",
    "    listm.init total (conv >> (*) inc >> (+) start) : list f64\n",
    "\n",
    "type integration = (f64 -> f64) -> f64 -> f64 -> f64\n",
    "\n",
    "inl integral dt : integration =\n",
    "    fun f a b =>\n",
    "        init_series (a + dt / 2) (b - dt / 2) dt\n",
    "        |> listm.map (f >> (*) dt)\n",
    "        |> listm.fold (+) 0\n",
    "\n",
    "inl main () =\n",
    "    integral 0.1 (fun x => x ** 2) 0 1\n",
    "\"\"\"\n",
    "|> buildCode 10000 None\n",
    "|> Async.runWithTimeout 10000\n",
    "|> Option.map (fun (_, (_, fsxContent), errors) -> fsxContent, errors |> List.map fst)\n",
    "|> _assertEqual (\n",
    "    Some (\n",
    "        Some \"0.3325000000000001\\n\",\n",
    "        []\n",
    "    )\n",
    ")"
   ]
  },
  {
   "cell_type": "code",
   "execution_count": null,
   "metadata": {
    "dotnet_interactive": {
     "language": "fsharp"
    },
    "polyglot_notebook": {
     "kernelName": "fsharp"
    }
   },
   "outputs": [
    {
     "name": "stdout",
     "output_type": "stream",
     "text": [
      "00:00:38 verbose #242 networking.test_port_open / port: 13805 / ex: System.AggregateException: One or more errors occurred. (Connection refused)\n",
      "00:00:37   debug #59 execute_with_options_async / options: struct (Some System.Threading.CancellationToken,\n",
      "        \"dotnet \"/home/runner/work/polyglot/polyglot/deps/The-Spiral-Language/The Spiral Language 2/artifacts/bin/The Spiral Language 2/release/Spiral.dll\" --port 13805 --default-int i32 --default-float f64\",\n",
      "        [||], Some <fun:buildCode@3-398>, None, true,\n",
      "        Some \"/home/runner/work/polyglot/polyglot\")\n",
      "00:00:39 verbose #243 networking.test_port_open / port: 13805 / ex: System.AggregateException: One or more errors occurred. (Connection refused)\n",
      "00:00:39 verbose #244 networking.wait_for_port_access / port: 13805 / retry: 0 / timeout: Some 100 / status: True\n",
      "00:00:39 verbose #245 networking.test_port_open / port: 13805 / ex: System.AggregateException: One or more errors occurred. (Connection refused)\n",
      "00:00:37 verbose #60 > 00:00:00   debug #1 pwd: /home/runner/work/polyglot/polyglot\n",
      "00:00:37 verbose #61 > 00:00:00   debug #2 dllPath: /home/runner/work/polyglot/polyglot/deps/The-Spiral-Language/The Spiral Language 2/artifacts/bin/The Spiral Language 2/release\n",
      "00:00:37 verbose #62 > 00:00:00   debug #3 targetDir: /home/runner/work/polyglot/polyglot/target/polyglot/spiral_eval\n",
      "00:00:39 verbose #246 networking.test_port_open / port: 13805 / ex: System.AggregateException: One or more errors occurred. (Connection refused)\n",
      "00:00:39 verbose #247 networking.test_port_open / port: 13805 / ex: System.AggregateException: One or more errors occurred. (Connection refused)\n",
      "00:00:39 verbose #248 networking.test_port_open / port: 13805 / ex: System.AggregateException: One or more errors occurred. (Connection refused)\n",
      "00:00:39 verbose #249 networking.test_port_open / port: 13805 / ex: System.AggregateException: One or more errors occurred. (Connection refused)\n",
      "00:00:39 verbose #250 networking.test_port_open / port: 13805 / ex: System.AggregateException: One or more errors occurred. (Connection refused)\n",
      "00:00:39 verbose #251 networking.test_port_open / port: 13805 / ex: System.AggregateException: One or more errors occurred. (Connection refused)\n",
      "00:00:39 verbose #252 networking.test_port_open / port: 13805 / ex: System.AggregateException: One or more errors occurred. (Connection refused)\n",
      "00:00:39 verbose #253 networking.test_port_open / port: 13805 / ex: System.AggregateException: One or more errors occurred. (Connection refused)\n",
      "00:00:39 verbose #254 networking.test_port_open / port: 13805 / ex: System.AggregateException: One or more errors occurred. (Connection refused)\n",
      "00:00:39 verbose #255 networking.test_port_open / port: 13805 / ex: System.AggregateException: One or more errors occurred. (Connection refused)\n",
      "00:00:39 verbose #256 networking.test_port_open / port: 13805 / ex: System.AggregateException: One or more errors occurred. (Connection refused)\n",
      "00:00:39 verbose #257 networking.test_port_open / port: 13805 / ex: System.AggregateException: One or more errors occurred. (Connection refused)\n",
      "00:00:39 verbose #258 networking.test_port_open / port: 13805 / ex: System.AggregateException: One or more errors occurred. (Connection refused)\n",
      "00:00:39 verbose #259 networking.test_port_open / port: 13805 / ex: System.AggregateException: One or more errors occurred. (Connection refused)\n",
      "00:00:39 verbose #260 networking.test_port_open / port: 13805 / ex: System.AggregateException: One or more errors occurred. (Connection refused)\n",
      "00:00:39 verbose #261 networking.test_port_open / port: 13805 / ex: System.AggregateException: One or more errors occurred. (Connection refused)\n",
      "00:00:39 verbose #262 networking.test_port_open / port: 13805 / ex: System.AggregateException: One or more errors occurred. (Connection refused)\n",
      "00:00:39 verbose #263 networking.test_port_open / port: 13805 / ex: System.AggregateException: One or more errors occurred. (Connection refused)\n",
      "00:00:39 verbose #264 networking.test_port_open / port: 13805 / ex: System.AggregateException: One or more errors occurred. (Connection refused)\n",
      "00:00:39 verbose #265 networking.test_port_open / port: 13805 / ex: System.AggregateException: One or more errors occurred. (Connection refused)\n",
      "00:00:39 verbose #266 networking.test_port_open / port: 13805 / ex: System.AggregateException: One or more errors occurred. (Connection refused)\n",
      "00:00:37 verbose #63 > Starting the Spiral Server. It is bound to: http://localhost:13805\n",
      "00:00:39 verbose #267 networking.test_port_open / port: 13805 / ex: System.AggregateException: One or more errors occurred. (Connection refused)\n",
      "00:00:39 verbose #268 networking.test_port_open / port: 13805 / ex: System.AggregateException: One or more errors occurred. (Connection refused)\n",
      "00:00:39 verbose #269 networking.test_port_open / port: 13805 / ex: System.AggregateException: One or more errors occurred. (Connection refused)\n",
      "00:00:35 verbose #91 Supervisor.sendJson / port: 13805 / json: {\"Ping\":true} / result:\n",
      "00:00:35 verbose #92 awaitCompiler / Ping / result: 'Some(null)' / port: 13805 / retry: 0\n",
      "00:00:37 verbose #64 > Server bound to: http://localhost:13805\n",
      "00:00:35   debug #93 buildFile / takeWhileInclusive / path: /home/runner/work/polyglot/polyglot/target/polyglot/spiral_eval/packages/355c36b6d259fe6b1c7527aa9b475ca37914ad348c4a239687383dcd0daeed2c/main.spi / fsxContent:  / errors: [] / typeErrorCount: 0\n",
      "00:00:35   debug #94 buildFile / takeWhileInclusive / path: /home/runner/work/polyglot/polyglot/target/polyglot/spiral_eval/packages/355c36b6d259fe6b1c7527aa9b475ca37914ad348c4a239687383dcd0daeed2c/main.spi / fsxContent:  / errors: [] / typeErrorCount: 0\n",
      "00:00:35 verbose #95 Supervisor.sendJson / port: 13805 / json: {\"FileOpen\":{\"spiText\":\"\\ninl init_series start end inc =\\n    inl total : f64 = conv ((end - start)...ot/spiral_eval/packages/355c36b6d259fe6b1c7527aa9b475ca37914ad348c4a239687383dcd0daeed2c/main.spi\"}} / result:\n",
      "00:00:35 verbose #96 Supervisor.sendJson / port: 13805 / json: {\"BuildFile\":{\"backend\":\"Fsharp\",\"uri\":\"file:///home/runner/work/polyglot/polyglot/target/polyglot/spiral_eval/packages/355c36b6d259fe6b1c7527aa9b475ca37914ad348c4a239687383dcd0daeed2c/main.spi\"}} / result:\n",
      "00:00:38 verbose #65 > 00:00:00   debug #4 Supervisor.supervisor_server.BuildFile / file: /home/runner/work/polyglot/polyglot/target/polyglot/spiral_eval/packages/355c36b6d259fe6b1c7527aa9b475ca37914ad348c4a239687383dcd0daeed2c/main.spi\n",
      "00:00:36   debug #97 buildFile / takeWhileInclusive / path: /home/runner/work/polyglot/polyglot/target/polyglot/spiral_eval/packages/355c36b6d259fe6b1c7527aa9b475ca37914ad348c4a239687383dcd0daeed2c/main.spi / fsxContent:  / errors: [] / typeErrorCount: 0\n",
      "00:00:37   debug #98 buildFile / takeWhileInclusive / path: /home/runner/work/polyglot/polyglot/target/polyglot/spiral_eval/packages/355c36b6d259fe6b1c7527aa9b475ca37914ad348c4a239687383dcd0daeed2c/main.spi / fsxContent: 0.33332500000000004\n",
      " / errors: [] / typeErrorCount: 0\n",
      "00:00:37 verbose #99 Supervisor.sendJson / port: 13805 / json: {\"FileDelete\":{\"uris\":[\"file:///home/runner/work/polyglot/polyglot/target/polyglot/spiral_eval/packages/355c36b6d259fe6b1c7527aa9b475ca37914ad348c4a239687383dcd0daeed2c\"]}} / result:\n",
      "00:00:41 verbose #270 networking.wait_for_port_access / port: 13805 / retry: 0 / timeout: Some 100 / status: False\n",
      "00:00:41 verbose #271 networking.test_port_open / port: 13805 / ex: System.AggregateException: One or more errors occurred. (Connection refused)\n",
      "00:00:37   debug #100 watchWithFilter / Disposing watch stream / filter: FileName, LastWrite\n",
      "Some (Some \"0.33332500000000004\n",
      "\", [])\n",
      "\n"
     ]
    }
   ],
   "source": [
    "//// test\n",
    "\n",
    "\"\"\"\n",
    "inl init_series start end inc =\n",
    "    inl total : f64 = conv ((end - start) / inc) + 1\n",
    "    listm.init total (conv >> (*) inc >> (+) start) : list f64\n",
    "\n",
    "type integration = (f64 -> f64) -> f64 -> f64 -> f64\n",
    "\n",
    "inl integral dt : integration =\n",
    "    fun f a b =>\n",
    "        init_series (a + dt / 2) (b - dt / 2) dt\n",
    "        |> listm.map (f >> (*) dt)\n",
    "        |> listm.fold (+) 0\n",
    "\n",
    "inl main () =\n",
    "    integral 0.01 (fun x => x ** 2) 0 1\n",
    "\"\"\"\n",
    "|> buildCode 10000 None\n",
    "|> Async.runWithTimeout 10000\n",
    "|> Option.map (fun (_, (_, fsxContent), errors) -> fsxContent, errors |> List.map fst)\n",
    "|> _assertEqual (\n",
    "    Some (\n",
    "        Some \"0.33332500000000004\\n\",\n",
    "        []\n",
    "    )\n",
    ")\n",
    "// |> _assertEqual None\n",
    "// |> fun x -> printfn $\"{x.ToDisplayString ()}\""
   ]
  },
  {
   "cell_type": "markdown",
   "metadata": {},
   "source": [
    "## getFileTokenRange"
   ]
  },
  {
   "cell_type": "code",
   "execution_count": null,
   "metadata": {
    "dotnet_interactive": {
     "language": "fsharp"
    },
    "polyglot_notebook": {
     "kernelName": "fsharp"
    }
   },
   "outputs": [],
   "source": [
    "let inline getFileTokenRange port cancellationToken path = async {\n",
    "    let fullPath = path |> System.IO.Path.GetFullPath\n",
    "    let! code = fullPath |> SpiralFileSystem.read_all_text_async\n",
    "    let lines = code |> SpiralSm.split \"\\n\"\n",
    "\n",
    "    let struct (token, disposable) = SpiralThreading.new_disposable_token cancellationToken\n",
    "    use _ = disposable\n",
    "\n",
    "    let! serverPort, _errors, ct, disposable =\n",
    "        match port with\n",
    "        | Some port -> awaitCompiler port (Some token)\n",
    "        | None -> (getCompilerPort (), FSharp.Control.AsyncSeq.empty, token, new_disposable id) |> Async.init\n",
    "    use _ = disposable\n",
    "\n",
    "    let fullPathUri = fullPath |> SpiralFileSystem.normalize_path |> SpiralFileSystem.new_file_uri\n",
    "\n",
    "    let fileOpenObj = {| FileOpen = {| uri = fullPathUri; spiText = code |} |}\n",
    "    let! _fileOpenResult = fileOpenObj |> sendObj serverPort\n",
    "\n",
    "    // do! Async.Sleep 60\n",
    "\n",
    "    let fileTokenRangeObj =\n",
    "        {|\n",
    "            FileTokenRange =\n",
    "                {|\n",
    "                    uri = fullPathUri\n",
    "                    range =\n",
    "                        [|\n",
    "                            {| line = 0; character = 0 |}\n",
    "                            {| line = lines.Length - 1; character = lines.[lines.Length - 1].Length |}\n",
    "                        |]\n",
    "                |}\n",
    "        |}\n",
    "    let! fileTokenRangeResult =\n",
    "        fileTokenRangeObj\n",
    "        |> sendObj serverPort\n",
    "        |> Async.withCancellationToken ct\n",
    "\n",
    "    let fileDir = fullPath |> System.IO.Path.GetDirectoryName\n",
    "    if fileDir |> SpiralSm.starts_with (workspaceRoot </> \"target\") then\n",
    "        let fileDirUri = fileDir |> SpiralFileSystem.normalize_path |> SpiralFileSystem.new_file_uri\n",
    "        let fileDeleteObj = {| FileDelete = {| uris = [| fileDirUri |] |} |}\n",
    "        let! _fileDeleteResult = fileDeleteObj |> sendObj serverPort\n",
    "        ()\n",
    "\n",
    "    return fileTokenRangeResult |> Option.map FSharp.Json.Json.deserialize<int array>\n",
    "}"
   ]
  },
  {
   "cell_type": "markdown",
   "metadata": {},
   "source": [
    "## getCodeTokenRange"
   ]
  },
  {
   "cell_type": "code",
   "execution_count": null,
   "metadata": {
    "dotnet_interactive": {
     "language": "fsharp"
    },
    "polyglot_notebook": {
     "kernelName": "fsharp"
    }
   },
   "outputs": [],
   "source": [
    "let inline getCodeTokenRange cancellationToken code = async {\n",
    "    let! mainPath, _ = persistCode code\n",
    "\n",
    "    let codeDir = mainPath |> System.IO.Path.GetDirectoryName\n",
    "    let tokensPath = codeDir </> \"tokens.json\"\n",
    "    let! tokens = async {\n",
    "        if tokensPath |> System.IO.File.Exists |> not\n",
    "        then return None\n",
    "        else\n",
    "            let! text = tokensPath |> SpiralFileSystem.read_all_text_async\n",
    "\n",
    "            return\n",
    "                if text.Length > 2\n",
    "                then text |> FSharp.Json.Json.deserialize<int array> |> Some\n",
    "                else None\n",
    "    }\n",
    "    match tokens with\n",
    "    | Some tokens -> return tokens |> Some\n",
    "    | None ->\n",
    "        let port = getCompilerPort ()\n",
    "        return! mainPath |> getFileTokenRange (Some port) cancellationToken\n",
    "}"
   ]
  },
  {
   "cell_type": "code",
   "execution_count": null,
   "metadata": {
    "dotnet_interactive": {
     "language": "fsharp"
    },
    "polyglot_notebook": {
     "kernelName": "fsharp"
    }
   },
   "outputs": [
    {
     "name": "stdout",
     "output_type": "stream",
     "text": [
      "00:00:43 verbose #272 networking.test_port_open / port: 13805 / ex: System.AggregateException: One or more errors occurred. (Connection refused)\n",
      "00:00:42   debug #66 execute_with_options_async / options: struct (Some System.Threading.CancellationToken,\n",
      "        \"dotnet \"/home/runner/work/polyglot/polyglot/deps/The-Spiral-Language/The Spiral Language 2/artifacts/bin/The Spiral Language 2/release/Spiral.dll\" --port 13805 --default-int i32 --default-float f64\",\n",
      "        [||], Some <fun:it@4-167>, None, true,\n",
      "        Some \"/home/runner/work/polyglot/polyglot\")\n",
      "00:00:43 verbose #273 networking.test_port_open / port: 13805 / ex: System.AggregateException: One or more errors occurred. (Connection refused)\n",
      "00:00:43 verbose #274 networking.wait_for_port_access / port: 13805 / retry: 0 / timeout: Some 100 / status: True\n",
      "00:00:43 verbose #275 networking.test_port_open / port: 13805 / ex: System.AggregateException: One or more errors occurred. (Connection refused)\n",
      "00:00:42 verbose #67 > 00:00:00   debug #1 pwd: /home/runner/work/polyglot/polyglot\n",
      "00:00:42 verbose #68 > 00:00:00   debug #2 dllPath: /home/runner/work/polyglot/polyglot/deps/The-Spiral-Language/The Spiral Language 2/artifacts/bin/The Spiral Language 2/release\n",
      "00:00:42 verbose #69 > 00:00:00   debug #3 targetDir: /home/runner/work/polyglot/polyglot/target/polyglot/spiral_eval\n",
      "00:00:43 verbose #276 networking.test_port_open / port: 13805 / ex: System.AggregateException: One or more errors occurred. (Connection refused)\n",
      "00:00:43 verbose #277 networking.test_port_open / port: 13805 / ex: System.AggregateException: One or more errors occurred. (Connection refused)\n",
      "00:00:43 verbose #278 networking.test_port_open / port: 13805 / ex: System.AggregateException: One or more errors occurred. (Connection refused)\n",
      "00:00:43 verbose #279 networking.test_port_open / port: 13805 / ex: System.AggregateException: One or more errors occurred. (Connection refused)\n",
      "00:00:43 verbose #280 networking.test_port_open / port: 13805 / ex: System.AggregateException: One or more errors occurred. (Connection refused)\n",
      "00:00:43 verbose #281 networking.test_port_open / port: 13805 / ex: System.AggregateException: One or more errors occurred. (Connection refused)\n",
      "00:00:43 verbose #282 networking.test_port_open / port: 13805 / ex: System.AggregateException: One or more errors occurred. (Connection refused)\n",
      "00:00:43 verbose #283 networking.test_port_open / port: 13805 / ex: System.AggregateException: One or more errors occurred. (Connection refused)\n",
      "00:00:43 verbose #284 networking.test_port_open / port: 13805 / ex: System.AggregateException: One or more errors occurred. (Connection refused)\n",
      "00:00:43 verbose #285 networking.test_port_open / port: 13805 / ex: System.AggregateException: One or more errors occurred. (Connection refused)\n",
      "00:00:44 verbose #286 networking.test_port_open / port: 13805 / ex: System.AggregateException: One or more errors occurred. (Connection refused)\n",
      "00:00:44 verbose #287 networking.test_port_open / port: 13805 / ex: System.AggregateException: One or more errors occurred. (Connection refused)\n",
      "00:00:44 verbose #288 networking.test_port_open / port: 13805 / ex: System.AggregateException: One or more errors occurred. (Connection refused)\n",
      "00:00:44 verbose #289 networking.test_port_open / port: 13805 / ex: System.AggregateException: One or more errors occurred. (Connection refused)\n",
      "00:00:44 verbose #290 networking.test_port_open / port: 13805 / ex: System.AggregateException: One or more errors occurred. (Connection refused)\n",
      "00:00:44 verbose #291 networking.test_port_open / port: 13805 / ex: System.AggregateException: One or more errors occurred. (Connection refused)\n",
      "00:00:44 verbose #292 networking.test_port_open / port: 13805 / ex: System.AggregateException: One or more errors occurred. (Connection refused)\n",
      "00:00:44 verbose #293 networking.test_port_open / port: 13805 / ex: System.AggregateException: One or more errors occurred. (Connection refused)\n",
      "00:00:44 verbose #294 networking.test_port_open / port: 13805 / ex: System.AggregateException: One or more errors occurred. (Connection refused)\n",
      "00:00:44 verbose #295 networking.test_port_open / port: 13805 / ex: System.AggregateException: One or more errors occurred. (Connection refused)\n",
      "00:00:44 verbose #296 networking.test_port_open / port: 13805 / ex: System.AggregateException: One or more errors occurred. (Connection refused)\n",
      "00:00:42 verbose #70 > Starting the Spiral Server. It is bound to: http://localhost:13805\n",
      "00:00:44 verbose #297 networking.test_port_open / port: 13805 / ex: System.AggregateException: One or more errors occurred. (Connection refused)\n",
      "00:00:44 verbose #298 networking.test_port_open / port: 13805 / ex: System.AggregateException: One or more errors occurred. (Connection refused)\n",
      "00:00:44 verbose #299 networking.test_port_open / port: 13805 / ex: System.AggregateException: One or more errors occurred. (Connection refused)\n",
      "00:00:40 verbose #101 Supervisor.sendJson / port: 13805 / json: {\"Ping\":true} / result:\n",
      "00:00:40 verbose #102 awaitCompiler / Ping / result: 'Some(null)' / port: 13805 / retry: 0\n",
      "00:00:42 verbose #71 > Server bound to: http://localhost:13805\n",
      "00:00:40 verbose #103 Supervisor.sendJson / port: 13805 / json: {\"FileOpen\":{\"spiText\":\"inl main () = ()\",\"uri\":\"file:///home/runner/work/polyglot/polyglot/target/p...ot/spiral_eval/packages/fb6c8d45c45c5bed6706c564f1573e80b77a3923967ce83cb69737ce2ce5040c/main.spi\"}} / result:\n",
      "00:00:41 verbose #104 Supervisor.sendJson / port: 13805 / json: {\"FileTokenRange\":{\"range\":[{\"character\":0,\"line\":0},{\"character\":16,\"line\":0}],\"uri\":\"file:///home/...ot/spiral_eval/packages/fb6c8d45c45c5bed6706c564f1573e80b77a3923967ce83cb69737ce2ce5040c/main.spi\"}} / result: Some([\n",
      "  0,\n",
      "  0,\n",
      "  3,\n",
      "  7,\n",
      "  0,\n",
      "  0,\n",
      "  4,\n",
      "  4,\n",
      "  0,\n",
      "  0,\n",
      "  0,\n",
      "  5,\n",
      "  1,\n",
      "  8,\n",
      "  0,\n",
      "  0,\n",
      "  1,\n",
      "  1,\n",
      "  8,\n",
      "  0,\n",
      "  0,\n",
      "  2,\n",
      "  1,\n",
      "  4,\n",
      "  0,\n",
      "  0,\n",
      "  2,\n",
      "  1,\n",
      "  8,\n",
      "  0,\n",
      "  0,\n",
      "  1,\n",
      "  1,\n",
      "  8,\n",
      "  0\n",
      "])\n",
      "00:00:41 verbose #105 Supervisor.sendJson / port: 13805 / json: {\"FileDelete\":{\"uris\":[\"file:///home/runner/work/polyglot/polyglot/target/polyglot/spiral_eval/packages/fb6c8d45c45c5bed6706c564f1573e80b77a3923967ce83cb69737ce2ce5040c\"]}} / result:\n",
      "00:00:44 verbose #300 networking.wait_for_port_access / port: 13805 / retry: 0 / timeout: Some 100 / status: False\n",
      "00:00:44 verbose #301 networking.test_port_open / port: 13805 / ex: System.AggregateException: One or more errors occurred. (Connection refused)\n",
      "Some [|0; 0; 3; 7; 0; 0; 4; 4; 0; 0; 0; 5; 1; 8; 0; 0; 1; 1; 8; 0; 0; 2; 1; 4; 0; 0; 2; 1; 8; 0; 0; 1; 1; 8; 0|]\n",
      "\n"
     ]
    }
   ],
   "source": [
    "//// test\n",
    "\n",
    "\"\"\"inl main () = ()\"\"\"\n",
    "|> getCodeTokenRange None\n",
    "|> Async.runWithTimeout 10000\n",
    "|> Option.flatten\n",
    "|> _assertEqual (Some [| 0; 0; 3; 7; 0; 0; 4; 4; 0; 0; 0; 5; 1; 8; 0; 0; 1; 1; 8; 0; 0; 2; 1; 4; 0; 0;\n",
    "2; 1; 8; 0; 0; 1; 1; 8; 0 |])"
   ]
  },
  {
   "cell_type": "code",
   "execution_count": null,
   "metadata": {
    "dotnet_interactive": {
     "language": "fsharp"
    },
    "polyglot_notebook": {
     "kernelName": "fsharp"
    }
   },
   "outputs": [
    {
     "name": "stdout",
     "output_type": "stream",
     "text": [
      "00:00:45 verbose #302 networking.test_port_open / port: 13805 / ex: System.AggregateException: One or more errors occurred. (Connection refused)\n",
      "00:00:44   debug #72 execute_with_options_async / options: struct (Some System.Threading.CancellationToken,\n",
      "        \"dotnet \"/home/runner/work/polyglot/polyglot/deps/The-Spiral-Language/The Spiral Language 2/artifacts/bin/The Spiral Language 2/release/Spiral.dll\" --port 13805 --default-int i32 --default-float f64\",\n",
      "        [||], Some <fun:it@4-387>, None, true,\n",
      "        Some \"/home/runner/work/polyglot/polyglot\")\n",
      "00:00:45 verbose #303 networking.test_port_open / port: 13805 / ex: System.AggregateException: One or more errors occurred. (Connection refused)\n",
      "00:00:45 verbose #304 networking.wait_for_port_access / port: 13805 / retry: 0 / timeout: Some 100 / status: True\n",
      "00:00:45 verbose #305 networking.test_port_open / port: 13805 / ex: System.AggregateException: One or more errors occurred. (Connection refused)\n",
      "00:00:44 verbose #73 > 00:00:00   debug #1 pwd: /home/runner/work/polyglot/polyglot\n",
      "00:00:44 verbose #74 > 00:00:00   debug #2 dllPath: /home/runner/work/polyglot/polyglot/deps/The-Spiral-Language/The Spiral Language 2/artifacts/bin/The Spiral Language 2/release\n",
      "00:00:44 verbose #75 > 00:00:00   debug #3 targetDir: /home/runner/work/polyglot/polyglot/target/polyglot/spiral_eval\n",
      "00:00:45 verbose #306 networking.test_port_open / port: 13805 / ex: System.AggregateException: One or more errors occurred. (Connection refused)\n",
      "00:00:45 verbose #307 networking.test_port_open / port: 13805 / ex: System.AggregateException: One or more errors occurred. (Connection refused)\n",
      "00:00:45 verbose #308 networking.test_port_open / port: 13805 / ex: System.AggregateException: One or more errors occurred. (Connection refused)\n",
      "00:00:45 verbose #309 networking.test_port_open / port: 13805 / ex: System.AggregateException: One or more errors occurred. (Connection refused)\n",
      "00:00:45 verbose #310 networking.test_port_open / port: 13805 / ex: System.AggregateException: One or more errors occurred. (Connection refused)\n",
      "00:00:45 verbose #311 networking.test_port_open / port: 13805 / ex: System.AggregateException: One or more errors occurred. (Connection refused)\n",
      "00:00:45 verbose #312 networking.test_port_open / port: 13805 / ex: System.AggregateException: One or more errors occurred. (Connection refused)\n",
      "00:00:45 verbose #313 networking.test_port_open / port: 13805 / ex: System.AggregateException: One or more errors occurred. (Connection refused)\n",
      "00:00:45 verbose #314 networking.test_port_open / port: 13805 / ex: System.AggregateException: One or more errors occurred. (Connection refused)\n",
      "00:00:45 verbose #315 networking.test_port_open / port: 13805 / ex: System.AggregateException: One or more errors occurred. (Connection refused)\n",
      "00:00:46 verbose #316 networking.test_port_open / port: 13805 / ex: System.AggregateException: One or more errors occurred. (Connection refused)\n",
      "00:00:46 verbose #317 networking.test_port_open / port: 13805 / ex: System.AggregateException: One or more errors occurred. (Connection refused)\n",
      "00:00:46 verbose #318 networking.test_port_open / port: 13805 / ex: System.AggregateException: One or more errors occurred. (Connection refused)\n",
      "00:00:46 verbose #319 networking.test_port_open / port: 13805 / ex: System.AggregateException: One or more errors occurred. (Connection refused)\n",
      "00:00:46 verbose #320 networking.test_port_open / port: 13805 / ex: System.AggregateException: One or more errors occurred. (Connection refused)\n",
      "00:00:46 verbose #321 networking.test_port_open / port: 13805 / ex: System.AggregateException: One or more errors occurred. (Connection refused)\n",
      "00:00:46 verbose #322 networking.test_port_open / port: 13805 / ex: System.AggregateException: One or more errors occurred. (Connection refused)\n",
      "00:00:46 verbose #323 networking.test_port_open / port: 13805 / ex: System.AggregateException: One or more errors occurred. (Connection refused)\n",
      "00:00:46 verbose #324 networking.test_port_open / port: 13805 / ex: System.AggregateException: One or more errors occurred. (Connection refused)\n",
      "00:00:46 verbose #325 networking.test_port_open / port: 13805 / ex: System.AggregateException: One or more errors occurred. (Connection refused)\n",
      "00:00:44 verbose #76 > Starting the Spiral Server. It is bound to: http://localhost:13805\n",
      "00:00:46 verbose #326 networking.test_port_open / port: 13805 / ex: System.AggregateException: One or more errors occurred. (Connection refused)\n",
      "00:00:46 verbose #327 networking.test_port_open / port: 13805 / ex: System.AggregateException: One or more errors occurred. (Connection refused)\n",
      "00:00:46 verbose #328 networking.test_port_open / port: 13805 / ex: System.AggregateException: One or more errors occurred. (Connection refused)\n",
      "00:00:42 verbose #106 Supervisor.sendJson / port: 13805 / json: {\"Ping\":true} / result:\n",
      "00:00:42 verbose #107 awaitCompiler / Ping / result: 'Some(null)' / port: 13805 / retry: 0\n",
      "00:00:44 verbose #77 > Server bound to: http://localhost:13805\n",
      "00:00:42 verbose #108 Supervisor.sendJson / port: 13805 / json: {\"FileOpen\":{\"spiText\":\"inl main () = 1i32\",\"uri\":\"file:///home/runner/work/polyglot/polyglot/target...ot/spiral_eval/packages/9df95a2f18642bd8d2f682f6edb6cef45c30ca9c616b33ebb0e5577eed14871c/main.spi\"}} / result:\n",
      "00:00:43 verbose #109 Supervisor.sendJson / port: 13805 / json: {\"FileTokenRange\":{\"range\":[{\"character\":0,\"line\":0},{\"character\":18,\"line\":0}],\"uri\":\"file:///home/...ot/spiral_eval/packages/9df95a2f18642bd8d2f682f6edb6cef45c30ca9c616b33ebb0e5577eed14871c/main.spi\"}} / result: Some([\n",
      "  0,\n",
      "  0,\n",
      "  3,\n",
      "  7,\n",
      "  0,\n",
      "  0,\n",
      "  4,\n",
      "  4,\n",
      "  0,\n",
      "  0,\n",
      "  0,\n",
      "  5,\n",
      "  1,\n",
      "  8,\n",
      "  0,\n",
      "  0,\n",
      "  1,\n",
      "  1,\n",
      "  8,\n",
      "  0,\n",
      "  0,\n",
      "  2,\n",
      "  1,\n",
      "  4,\n",
      "  0,\n",
      "  0,\n",
      "  2,\n",
      "  1,\n",
      "  3,\n",
      "  0,\n",
      "  0,\n",
      "  1,\n",
      "  3,\n",
      "  12,\n",
      "  0\n",
      "])\n",
      "00:00:43 verbose #110 Supervisor.sendJson / port: 13805 / json: {\"FileDelete\":{\"uris\":[\"file:///home/runner/work/polyglot/polyglot/target/polyglot/spiral_eval/packages/9df95a2f18642bd8d2f682f6edb6cef45c30ca9c616b33ebb0e5577eed14871c\"]}} / result:\n",
      "00:00:46 verbose #329 networking.wait_for_port_access / port: 13805 / retry: 0 / timeout: Some 100 / status: False\n",
      "00:00:46 verbose #330 networking.test_port_open / port: 13805 / ex: System.AggregateException: One or more errors occurred. (Connection refused)\n",
      "Some [|0; 0; 3; 7; 0; 0; 4; 4; 0; 0; 0; 5; 1; 8; 0; 0; 1; 1; 8; 0; 0; 2; 1; 4; 0; 0; 2; 1; 3; 0; 0; 1; 3; 12; 0|]\n",
      "\n"
     ]
    }
   ],
   "source": [
    "//// test\n",
    "\n",
    "\"\"\"inl main () = 1i32\"\"\"\n",
    "|> getCodeTokenRange None\n",
    "|> Async.runWithTimeout 10000\n",
    "|> Option.flatten\n",
    "|> _assertEqual (Some [| 0; 0; 3; 7; 0; 0; 4; 4; 0; 0; 0; 5; 1; 8; 0; 0; 1; 1; 8; 0; 0; 2; 1; 4; 0; 0;\n",
    "2; 1; 3; 0; 0; 1; 3; 12; 0 |])"
   ]
  },
  {
   "cell_type": "markdown",
   "metadata": {},
   "source": [
    "## Arguments"
   ]
  },
  {
   "cell_type": "code",
   "execution_count": null,
   "metadata": {
    "dotnet_interactive": {
     "language": "fsharp"
    },
    "polyglot_notebook": {
     "kernelName": "fsharp"
    }
   },
   "outputs": [],
   "source": [
    "[<RequireQualifiedAccess>]\n",
    "type Arguments =\n",
    "    | Build_File of string * string\n",
    "    | File_Token_Range of string * string\n",
    "    | Execute_Command of string\n",
    "    | [<Argu.ArguAttributes.Unique>] Timeout of int\n",
    "    | [<Argu.ArguAttributes.Unique>] Port of int\n",
    "    | [<Argu.ArguAttributes.Unique>] Parallel\n",
    "    | [<Argu.ArguAttributes.Unique>] Exit_On_Error\n",
    "\n",
    "    interface Argu.IArgParserTemplate with\n",
    "        member s.Usage =\n",
    "            match s with\n",
    "            | Build_File _ -> nameof Build_File\n",
    "            | File_Token_Range _ -> nameof File_Token_Range\n",
    "            | Execute_Command _ -> nameof Execute_Command\n",
    "            | Timeout _ -> nameof Timeout\n",
    "            | Port _ -> nameof Port\n",
    "            | Parallel -> nameof Parallel\n",
    "            | Exit_On_Error-> nameof Exit_On_Error"
   ]
  },
  {
   "cell_type": "code",
   "execution_count": null,
   "metadata": {
    "dotnet_interactive": {
     "language": "fsharp"
    },
    "polyglot_notebook": {
     "kernelName": "fsharp"
    }
   },
   "outputs": [
    {
     "data": {
      "text/plain": [
       "\"USAGE: dotnet-repl [--help] [--build-file <string> <string>]\n",
       "                   [--file-token-range <string> <string>]\n",
       "                   [--execute-command <string>] [--timeout <int>] [--port <int>]\n",
       "                   [--parallel] [--exit-on-error]\n",
       "\n",
       "OPTIONS:\n",
       "\n",
       "    --build-file <string> <string>\n",
       "                          Build_File\n",
       "    --file-token-range <string> <string>\n",
       "                          File_Token_Range\n",
       "    --execute-command <string>\n",
       "                          Execute_Command\n",
       "    --timeout <int>       Timeout\n",
       "    --port <int>          Port\n",
       "    --parallel            Parallel\n",
       "    --exit-on-error       Exit_On_Error\n",
       "    --help                display this list of options.\n",
       "\"\n"
      ]
     },
     "metadata": {},
     "output_type": "display_data"
    }
   ],
   "source": [
    "//// test\n",
    "\n",
    "Argu.ArgumentParser.Create<Arguments>().PrintUsage ()"
   ]
  },
  {
   "cell_type": "markdown",
   "metadata": {},
   "source": [
    "## main"
   ]
  },
  {
   "cell_type": "code",
   "execution_count": null,
   "metadata": {
    "dotnet_interactive": {
     "language": "fsharp"
    },
    "polyglot_notebook": {
     "kernelName": "fsharp"
    }
   },
   "outputs": [],
   "source": [
    "let main args =\n",
    "    let argsMap = args |> Runtime.parseArgsMap<Arguments>\n",
    "\n",
    "    let buildFileActions =\n",
    "        argsMap\n",
    "        |> Map.tryFind (nameof Arguments.Build_File)\n",
    "        |> Option.defaultValue []\n",
    "        |> List.choose (function\n",
    "            | Arguments.Build_File (inputPath, outputPath) -> Some (inputPath, outputPath)\n",
    "            | _ -> None\n",
    "        )\n",
    "\n",
    "    let fileTokenRangeActions =\n",
    "        argsMap\n",
    "        |> Map.tryFind (nameof Arguments.File_Token_Range)\n",
    "        |> Option.defaultValue []\n",
    "        |> List.choose (function\n",
    "            | Arguments.File_Token_Range (inputPath, outputPath) -> Some (inputPath, outputPath)\n",
    "            | _ -> None\n",
    "        )\n",
    "\n",
    "    let executeCommandActions =\n",
    "        argsMap\n",
    "        |> Map.tryFind (nameof Arguments.Execute_Command)\n",
    "        |> Option.defaultValue []\n",
    "        |> List.choose (function\n",
    "            | Arguments.Execute_Command command -> Some command\n",
    "            | _ -> None\n",
    "        )\n",
    "\n",
    "    let timeout =\n",
    "        match argsMap |> Map.tryFind (nameof Arguments.Timeout) with\n",
    "        | Some [ Arguments.Timeout timeout ] -> timeout\n",
    "        | _ -> 60000 * 60\n",
    "\n",
    "    let port =\n",
    "        match argsMap |> Map.tryFind (nameof Arguments.Port) with\n",
    "        | Some [ Arguments.Port port ] -> Some port\n",
    "        | _ -> None\n",
    "\n",
    "    let isParallel = argsMap |> Map.containsKey (nameof Arguments.Parallel)\n",
    "\n",
    "    let isExitOnError = argsMap |> Map.containsKey (nameof Arguments.Exit_On_Error)\n",
    "\n",
    "    async {\n",
    "        let port = port |> Option.defaultWith getCompilerPort\n",
    "        let struct (localToken, disposable) = SpiralThreading.new_disposable_token None\n",
    "        let! serverPort, _errors, compilerToken, disposable = awaitCompiler port (Some localToken)\n",
    "        use _ = disposable\n",
    "\n",
    "        let buildFileAsync =\n",
    "            buildFileActions\n",
    "            |> List.map (fun (inputPath, outputPath) -> async {\n",
    "                let! _fsxPath, (outputCode, errors) = inputPath |> buildFile timeout serverPort None\n",
    "\n",
    "                errors\n",
    "                |> List.map snd\n",
    "                |> List.iter (fun error ->\n",
    "                    trace Critical (fun () -> $\"main / error: {error |> serializeObj}\") _locals\n",
    "                )\n",
    "\n",
    "                match outputCode with\n",
    "                | Some outputCode ->\n",
    "                    do! outputCode |> SpiralFileSystem.write_all_text_async outputPath\n",
    "                    return 0\n",
    "                | None ->\n",
    "                    if isExitOnError\n",
    "                    then System.Environment.Exit 1\n",
    "\n",
    "                    return 1\n",
    "            })\n",
    "\n",
    "        let fileTokenRangeAsync =\n",
    "            fileTokenRangeActions\n",
    "            |> List.map (fun (inputPath, outputPath) -> async {\n",
    "                let! tokenRange = inputPath |> getFileTokenRange (Some serverPort) None\n",
    "                match tokenRange with\n",
    "                | Some tokenRange ->\n",
    "                    do! tokenRange |> FSharp.Json.Json.serialize |> SpiralFileSystem.write_all_text_async outputPath\n",
    "                    return 0\n",
    "                | None ->\n",
    "                    if isExitOnError\n",
    "                    then System.Environment.Exit 1\n",
    "\n",
    "                    return 1\n",
    "            })\n",
    "\n",
    "        let executeCommandAsync =\n",
    "            executeCommandActions\n",
    "            |> List.map (fun command -> async {\n",
    "                let! exitCode, result =\n",
    "                    SpiralRuntime.execution_options (fun x ->\n",
    "                        { x with\n",
    "                            l0 = Some compilerToken\n",
    "                            l1 = command\n",
    "                        }\n",
    "                    )\n",
    "                    |> SpiralRuntime.execute_with_options_async\n",
    "\n",
    "                trace Debug (fun () -> $\"main / executeCommand / exitCode: {exitCode} / command: {command}\") _locals\n",
    "\n",
    "                if isExitOnError && exitCode > 0\n",
    "                then System.Environment.Exit exitCode\n",
    "\n",
    "                return exitCode\n",
    "            })\n",
    "\n",
    "        return!\n",
    "            [| buildFileAsync; fileTokenRangeAsync; executeCommandAsync |]\n",
    "            |> Seq.collect id\n",
    "            |> fun x ->\n",
    "                if isParallel\n",
    "                then Async.Parallel (x, float System.Environment.ProcessorCount * 0.51 |> ceil |> int)\n",
    "                else Async.Sequential x\n",
    "            |> Async.map Array.sum\n",
    "    }\n",
    "    |> Async.runWithTimeout timeout\n",
    "    |> Option.defaultValue 1"
   ]
  },
  {
   "cell_type": "code",
   "execution_count": null,
   "metadata": {
    "dotnet_interactive": {
     "language": "fsharp"
    },
    "polyglot_notebook": {
     "kernelName": "fsharp"
    }
   },
   "outputs": [
    {
     "data": {
      "text/html": [
       "<div class=\"dni-plaintext\"><pre>0\n",
       "</pre></div><style>\n",
       ".dni-code-hint {\n",
       "    font-style: italic;\n",
       "    overflow: hidden;\n",
       "    white-space: nowrap;\n",
       "}\n",
       ".dni-treeview {\n",
       "    white-space: nowrap;\n",
       "}\n",
       ".dni-treeview td {\n",
       "    vertical-align: top;\n",
       "    text-align: start;\n",
       "}\n",
       "details.dni-treeview {\n",
       "    padding-left: 1em;\n",
       "}\n",
       "table td {\n",
       "    text-align: start;\n",
       "}\n",
       "table tr { \n",
       "    vertical-align: top; \n",
       "    margin: 0em 0px;\n",
       "}\n",
       "table tr td pre \n",
       "{ \n",
       "    vertical-align: top !important; \n",
       "    margin: 0em 0px !important;\n",
       "} \n",
       "table th {\n",
       "    text-align: start;\n",
       "}\n",
       "</style>"
      ]
     },
     "metadata": {},
     "output_type": "display_data"
    }
   ],
   "source": [
    "//// test\n",
    "\n",
    "let args =\n",
    "    System.Environment.GetEnvironmentVariable \"ARGS\"\n",
    "    |> SpiralRuntime.split_args\n",
    "    |> Seq.toArray\n",
    "\n",
    "match args with\n",
    "| [||] -> 0\n",
    "| args -> if main args = 0 then 0 else failwith \"main failed\""
   ]
  }
 ],
 "metadata": {},
 "nbformat": 4,
 "nbformat_minor": 5
}