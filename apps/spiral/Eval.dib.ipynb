{
 "cells": [
  {
   "cell_type": "markdown",
   "metadata": {},
   "source": [
    "# Eval (Polyglot)"
   ]
  },
  {
   "cell_type": "code",
   "execution_count": null,
   "metadata": {
    "dotnet_interactive": {
     "language": "fsharp"
    },
    "polyglot_notebook": {
     "kernelName": "fsharp"
    }
   },
   "outputs": [],
   "source": [
    "#r @\"../../../../../../../.nuget/packages/fsharp.control.asyncseq/3.2.1/lib/netstandard2.1/FSharp.Control.AsyncSeq.dll\"\n",
    "#r @\"../../../../../../../.nuget/packages/system.reactive/6.0.1-preview.1/lib/net6.0/System.Reactive.dll\"\n",
    "#r @\"../../../../../../../.nuget/packages/system.reactive.linq/6.0.1-preview.1/lib/netstandard2.0/System.Reactive.Linq.dll\"\n",
    "#r @\"../../../../../../../.nuget/packages/argu/6.2.4/lib/netstandard2.0/Argu.dll\"\n",
    "#r @\"../../../../../../../.nuget/packages/microsoft.aspnetcore.http.connections.common/7.0.0/lib/net7.0/Microsoft.AspNetCore.Http.Connections.Common.dll\"\n",
    "#r @\"../../../../../../../.nuget/packages/microsoft.aspnetcore.http.connections.client/7.0.0/lib/net7.0/Microsoft.AspNetCore.Http.Connections.Client.dll\"\n",
    "#r @\"../../../../../../../.nuget/packages/microsoft.aspnetcore.signalr.common/7.0.0/lib/net7.0/Microsoft.AspNetCore.SignalR.Common.dll\"\n",
    "#r @\"../../../../../../../.nuget/packages/microsoft.aspnetcore.signalr.client/7.0.0/lib/net7.0/Microsoft.AspNetCore.SignalR.Client.dll\"\n",
    "#r @\"../../../../../../../.nuget/packages/microsoft.aspnetcore.signalr.client.core/7.0.0/lib/net7.0/Microsoft.AspNetCore.SignalR.Client.Core.dll\"\n",
    "#r @\"../../../../../../../.nuget/packages/fsharp.json/0.4.1/lib/netstandard2.0/FSharp.Json.dll\"\n",
    "#r @\"../../../../../../../.nuget/packages/system.management/7.0.0/lib/netstandard2.0/System.Management.dll\""
   ]
  },
  {
   "cell_type": "code",
   "execution_count": null,
   "metadata": {
    "dotnet_interactive": {
     "language": "fsharp"
    },
    "polyglot_notebook": {
     "kernelName": "fsharp"
    }
   },
   "outputs": [],
   "source": [
    "#!import ../../lib/fsharp/Notebooks.dib\n",
    "#!import ../../lib/fsharp/Testing.dib"
   ]
  },
  {
   "cell_type": "code",
   "execution_count": null,
   "metadata": {
    "dotnet_interactive": {
     "language": "fsharp"
    },
    "polyglot_notebook": {
     "kernelName": "fsharp"
    }
   },
   "outputs": [],
   "source": [
    "#!import ../../lib/fsharp/Common.fs\n",
    "#!import ../../lib/fsharp/CommonFSharp.fs\n",
    "#!import ../../lib/fsharp/Async.fs\n",
    "#!import ../../lib/fsharp/AsyncSeq.fs\n",
    "#!import ../../lib/fsharp/Runtime.fs\n",
    "#!import ../../lib/fsharp/FileSystem.fs\n",
    "\n",
    "#!import ../../apps/builder/Builder.fs\n",
    "#!import ../../apps/spiral/Supervisor.fs"
   ]
  },
  {
   "cell_type": "code",
   "execution_count": null,
   "metadata": {
    "dotnet_interactive": {
     "language": "fsharp"
    },
    "polyglot_notebook": {
     "kernelName": "fsharp"
    }
   },
   "outputs": [],
   "source": [
    "#if !INTERACTIVE\n",
    "open Lib\n",
    "#endif"
   ]
  },
  {
   "cell_type": "code",
   "execution_count": null,
   "metadata": {
    "dotnet_interactive": {
     "language": "fsharp"
    },
    "polyglot_notebook": {
     "kernelName": "fsharp"
    }
   },
   "outputs": [],
   "source": [
    "open Common\n",
    "open SpiralFileSystem.Operators\n",
    "open Microsoft.AspNetCore.SignalR.Client"
   ]
  },
  {
   "cell_type": "code",
   "execution_count": null,
   "metadata": {
    "dotnet_interactive": {
     "language": "fsharp"
    },
    "polyglot_notebook": {
     "kernelName": "fsharp"
    }
   },
   "outputs": [],
   "source": [
    "open System\n",
    "open System.Collections.Generic\n",
    "open System.IO\n",
    "open System.Text\n",
    "open System.Threading"
   ]
  },
  {
   "cell_type": "markdown",
   "metadata": {},
   "source": [
    "## mapErrors"
   ]
  },
  {
   "cell_type": "code",
   "execution_count": null,
   "metadata": {
    "dotnet_interactive": {
     "language": "fsharp"
    },
    "polyglot_notebook": {
     "kernelName": "fsharp"
    }
   },
   "outputs": [],
   "source": [
    "let inline mapErrors (severity, errors, lastTopLevelIndex) allCode =\n",
    "    let allCodeLineLength =\n",
    "        allCode |> SpiralSm.split \"\\n\" |> Array.length\n",
    "\n",
    "    errors\n",
    "    |> List.map (fun (_, error) ->\n",
    "        match error with\n",
    "        | Supervisor.FatalError message ->\n",
    "            (\n",
    "                severity, message, 0, (\"\", (0, 0), (0, 0))\n",
    "            )\n",
    "            |> List.singleton\n",
    "        | Supervisor.TracedError data ->\n",
    "            data.trace\n",
    "            |> List.truncate 5\n",
    "            |> List.append [ data.message ]\n",
    "            |> List.map (fun message ->\n",
    "                (\n",
    "                    severity, message, 0, (\"\", (0, 0), (0, 0))\n",
    "                )\n",
    "            )\n",
    "        | Supervisor.PackageErrors data\n",
    "        | Supervisor.TokenizerErrors data\n",
    "        | Supervisor.ParserErrors data\n",
    "        | Supervisor.TypeErrors data ->\n",
    "            data.errors\n",
    "            |> List.filter (fun ((rangeStart, _), _) ->\n",
    "                trace Debug (fun () -> $\"Eval.mapErrors / rangeStart.line: {rangeStart.line} / lastTopLevelIndex: {lastTopLevelIndex} / allCodeLineLength: {allCodeLineLength} / filtered: {rangeStart.line > allCodeLineLength}\") _locals\n",
    "                rangeStart.line > allCodeLineLength\n",
    "            )\n",
    "            |> List.map (fun ((rangeStart, rangeEnd), message) ->\n",
    "                (\n",
    "                    severity,\n",
    "                    message,\n",
    "                    0,\n",
    "                    (\n",
    "                        (data.uri |> System.IO.Path.GetFileName),\n",
    "                        (\n",
    "                            (match lastTopLevelIndex with\n",
    "                            | Some i when rangeStart.line >= i + allCodeLineLength + 3 ->\n",
    "                                rangeStart.line - allCodeLineLength - 2\n",
    "                            | _ -> rangeStart.line - allCodeLineLength),\n",
    "                            (match lastTopLevelIndex with\n",
    "                            | Some i when rangeStart.line >= i + allCodeLineLength + 3 ->\n",
    "                                rangeStart.character - 4\n",
    "                            | _ -> rangeStart.character)\n",
    "                        ),\n",
    "                        (\n",
    "                            (match lastTopLevelIndex with\n",
    "                            | Some i when rangeStart.line >= i + allCodeLineLength + 3 ->\n",
    "                                rangeEnd.line - allCodeLineLength - 2\n",
    "                            | _ -> rangeEnd.line - allCodeLineLength),\n",
    "                            (match lastTopLevelIndex with\n",
    "                            | Some i when rangeStart.line >= i + allCodeLineLength + 3 ->\n",
    "                                rangeEnd.character - 4\n",
    "                            | _ -> rangeEnd.character)\n",
    "                        )\n",
    "                    )\n",
    "                )\n",
    "            )\n",
    "    )\n",
    "    |> List.collect id\n",
    "    |> List.toArray"
   ]
  },
  {
   "cell_type": "markdown",
   "metadata": {},
   "source": [
    "### workspaceRoot"
   ]
  },
  {
   "cell_type": "code",
   "execution_count": null,
   "metadata": {
    "dotnet_interactive": {
     "language": "fsharp"
    },
    "polyglot_notebook": {
     "kernelName": "fsharp"
    }
   },
   "outputs": [],
   "source": [
    "let workspaceRoot = SpiralFileSystem.get_workspace_root ()"
   ]
  },
  {
   "cell_type": "markdown",
   "metadata": {},
   "source": [
    "### targetDir"
   ]
  },
  {
   "cell_type": "code",
   "execution_count": null,
   "metadata": {
    "dotnet_interactive": {
     "language": "fsharp"
    },
    "polyglot_notebook": {
     "kernelName": "fsharp"
    }
   },
   "outputs": [],
   "source": [
    "let targetDir = workspaceRoot </> \"target/spiral_Eval\"\n",
    "[ targetDir ]\n",
    "|> List.iter (fun dir -> if Directory.Exists dir |> not then Directory.CreateDirectory dir |> ignore)"
   ]
  },
  {
   "cell_type": "markdown",
   "metadata": {},
   "source": [
    "### assemblyName"
   ]
  },
  {
   "cell_type": "code",
   "execution_count": null,
   "metadata": {
    "dotnet_interactive": {
     "language": "fsharp"
    },
    "polyglot_notebook": {
     "kernelName": "fsharp"
    }
   },
   "outputs": [],
   "source": [
    "let assemblyName = Reflection.Assembly.GetEntryAssembly().GetName().Name"
   ]
  },
  {
   "cell_type": "markdown",
   "metadata": {},
   "source": [
    "## allCode"
   ]
  },
  {
   "cell_type": "code",
   "execution_count": null,
   "metadata": {
    "dotnet_interactive": {
     "language": "fsharp"
    },
    "polyglot_notebook": {
     "kernelName": "fsharp"
    }
   },
   "outputs": [],
   "source": [
    "let mutable allCode = \"\""
   ]
  },
  {
   "cell_type": "markdown",
   "metadata": {},
   "source": [
    "### allPackages"
   ]
  },
  {
   "cell_type": "code",
   "execution_count": null,
   "metadata": {
    "dotnet_interactive": {
     "language": "fsharp"
    },
    "polyglot_notebook": {
     "kernelName": "fsharp"
    }
   },
   "outputs": [],
   "source": [
    "let mutable allPackages : string [] = [||]"
   ]
  },
  {
   "cell_type": "markdown",
   "metadata": {},
   "source": [
    "## allCodeReal"
   ]
  },
  {
   "cell_type": "code",
   "execution_count": null,
   "metadata": {
    "dotnet_interactive": {
     "language": "fsharp"
    },
    "polyglot_notebook": {
     "kernelName": "fsharp"
    }
   },
   "outputs": [],
   "source": [
    "let mutable allCodeReal = \"\""
   ]
  },
  {
   "cell_type": "markdown",
   "metadata": {},
   "source": [
    "## traceToggle"
   ]
  },
  {
   "cell_type": "code",
   "execution_count": null,
   "metadata": {
    "dotnet_interactive": {
     "language": "fsharp"
    },
    "polyglot_notebook": {
     "kernelName": "fsharp"
    }
   },
   "outputs": [],
   "source": [
    "let mutable traceToggle = false"
   ]
  },
  {
   "cell_type": "markdown",
   "metadata": {},
   "source": [
    "## getParentProcessId"
   ]
  },
  {
   "cell_type": "code",
   "execution_count": null,
   "metadata": {
    "dotnet_interactive": {
     "language": "fsharp"
    },
    "polyglot_notebook": {
     "kernelName": "fsharp"
    }
   },
   "outputs": [],
   "source": [
    "let getParentProcessId () =\n",
    "    if SpiralPlatform.is_windows () |> not\n",
    "    then 0u\n",
    "    else\n",
    "        let pid = System.Diagnostics.Process.GetCurrentProcess().Id\n",
    "        let query = $\"SELECT ParentProcessId FROM Win32_Process WHERE ProcessId = {pid}\"\n",
    "        use searcher = new System.Management.ManagementObjectSearcher (query)\n",
    "        use results = searcher.Get ()\n",
    "        let data = results |> Seq.cast<System.Management.ManagementObject>\n",
    "        if data |> Seq.isEmpty\n",
    "        then 0u\n",
    "        else data |> Seq.head |> (fun mo -> mo.[\"ParentProcessId\"] :?> uint32)"
   ]
  },
  {
   "cell_type": "markdown",
   "metadata": {},
   "source": [
    "## startTokenRangeWatcher"
   ]
  },
  {
   "cell_type": "code",
   "execution_count": null,
   "metadata": {
    "dotnet_interactive": {
     "language": "fsharp"
    },
    "polyglot_notebook": {
     "kernelName": "fsharp"
    }
   },
   "outputs": [],
   "source": [
    "let inline startTokenRangeWatcher () =\n",
    "    if [ \"dotnet-repl\" ] |> List.contains assemblyName |> not then\n",
    "        let tokensDir = targetDir </> \"tokens\"\n",
    "\n",
    "        [ tokensDir ]\n",
    "        |> List.iter (fun dir -> if Directory.Exists dir |> not then Directory.CreateDirectory dir |> ignore)\n",
    "\n",
    "        let stream, disposable = FileSystem.watchDirectory (fun _ -> false) tokensDir\n",
    "\n",
    "        try\n",
    "            let existingFilesChild =\n",
    "                tokensDir\n",
    "                |> System.IO.Directory.GetDirectories\n",
    "                |> Array.map (fun codeDir -> async {\n",
    "                    try\n",
    "                        let tokensPath = codeDir </> \"tokens.json\"\n",
    "                        if tokensPath |> File.Exists |> not then\n",
    "                            let spiralCodePath = codeDir </> \"main.spi\"\n",
    "                            let spiralRealCodePath = codeDir </> \"main_real.spir\"\n",
    "                            let spiralExists = spiralCodePath |> System.IO.File.Exists\n",
    "                            let spiralRealExists = spiralRealCodePath |> System.IO.File.Exists\n",
    "                            if spiralExists |> not && spiralRealExists |> not\n",
    "                            then do! codeDir |> SpiralFileSystem.delete_directory_async |> Async.Ignore\n",
    "                            else\n",
    "                                let! tokens =\n",
    "                                    if spiralExists then spiralCodePath else spiralRealCodePath\n",
    "                                    |> Supervisor.getFileTokenRange None None\n",
    "                                match tokens with\n",
    "                                | Some tokens ->\n",
    "                                    do!\n",
    "                                        tokens\n",
    "                                        |> FSharp.Json.Json.serialize\n",
    "                                        |> SpiralFileSystem.write_all_text_async tokensPath\n",
    "                                | None ->\n",
    "                                    trace Verbose (fun () -> $\"Eval.startTokenRangeWatcher / GetDirectories / tokens: None\") _locals\n",
    "                    with ex ->\n",
    "                        trace Critical (fun () -> $\"Eval.startTokenRangeWatcher / GetDirectories / ex: {ex |> SpiralSm.format_exception}\") _locals\n",
    "                })\n",
    "                |> Async.Parallel\n",
    "                |> Async.Ignore\n",
    "\n",
    "            let streamAsyncChild =\n",
    "                stream\n",
    "                |> FSharp.Control.AsyncSeq.iterAsyncParallel (fun (ticks, event) ->\n",
    "                    match event with\n",
    "                    | FileSystem.FileSystemChange.Changed (codePath, _)\n",
    "                        when [ \"main.spi\"; \"main_real.spir\" ]\n",
    "                            |> List.contains (System.IO.Path.GetFileName codePath)\n",
    "                        ->\n",
    "                        async {\n",
    "                            let hashDir = codePath |> System.IO.Directory.GetParent\n",
    "                            let hashHex = hashDir.Name\n",
    "                            let codePath = tokensDir </> codePath\n",
    "                            let tokensPath = tokensDir </> hashHex </> \"tokens.json\"\n",
    "                            // do! Async.Sleep 30\n",
    "                            let rec loop retry = async {\n",
    "                                let! tokens = codePath |> Supervisor.getFileTokenRange None None\n",
    "                                if retry = 3 || tokens <> Some [||]\n",
    "                                then return tokens, retry\n",
    "                                else\n",
    "                                    trace Debug\n",
    "                                        (fun () -> $\"Eval.startTokenRangeWatcher / iterAsyncParallel\")\n",
    "                                        (fun () -> $\"retry: {retry} / tokens: %A{tokens}\")\n",
    "                                    do! Async.Sleep 30\n",
    "                                    return! loop (retry + 1)\n",
    "                            }\n",
    "                            let! tokens, retries = loop 1\n",
    "                            match tokens with\n",
    "                            | Some tokens ->\n",
    "                                do!\n",
    "                                    tokens\n",
    "                                    |> FSharp.Json.Json.serialize\n",
    "                                    |> SpiralFileSystem.write_all_text_exists tokensPath\n",
    "                            | None ->\n",
    "                                trace Debug\n",
    "                                    (fun () -> $\"Eval.startTokenRangeWatcher / iterAsyncParallel\")\n",
    "                                    (fun () -> $\"retries: {retries} / tokens: {tokens}\")\n",
    "                        }\n",
    "                        |> Async.retryAsync 3\n",
    "                        |> Async.map (Result.toOption >> Option.defaultValue ())\n",
    "                    | _ -> () |> Async.init\n",
    "                )\n",
    "\n",
    "            let parentAsyncChild = async {\n",
    "                let parentProcessId = getParentProcessId ()\n",
    "                trace Verbose\n",
    "                    (fun () -> \"Eval.parentAsyncChild\")\n",
    "                    (fun () -> $\"parentProcessId: {parentProcessId} / {_locals ()}\")\n",
    "\n",
    "                if parentProcessId > 0u then\n",
    "                    let parentProcess = parentProcessId |> int |> System.Diagnostics.Process.GetProcessById\n",
    "                    do! parentProcess.WaitForExitAsync () |> Async.AwaitTask\n",
    "                    trace Debug\n",
    "                        (fun () -> \"Eval.parentAsyncChild / Parent process has exited. Performing cleanup...\")\n",
    "                        (fun () -> $\"{_locals ()}\")\n",
    "                    System.Threading.Thread.Sleep 1000\n",
    "                    System.Environment.Exit 1\n",
    "            }\n",
    "\n",
    "            async {\n",
    "                do! Async.Sleep 3000\n",
    "                existingFilesChild |> Async.StartImmediate\n",
    "                streamAsyncChild |> Async.Start\n",
    "                parentAsyncChild |> Async.Start\n",
    "            }\n",
    "            |> Async.Start\n",
    "        with ex ->\n",
    "            trace Critical (fun () -> $\"Eval.startTokenRangeWatcher / ex: {ex |> SpiralSm.format_exception}\") _locals\n",
    "\n",
    "        disposable\n",
    "    else new_disposable (fun () -> ())"
   ]
  },
  {
   "cell_type": "markdown",
   "metadata": {},
   "source": [
    "## startCommandsWatcher"
   ]
  },
  {
   "cell_type": "code",
   "execution_count": null,
   "metadata": {
    "dotnet_interactive": {
     "language": "fsharp"
    },
    "polyglot_notebook": {
     "kernelName": "fsharp"
    }
   },
   "outputs": [],
   "source": [
    "let startCommandsWatcher (uriServer : string) =\n",
    "    let commandsDir = targetDir </> \"eval_commands\"\n",
    "    let commandHistoryDir = targetDir </> \"eval_command_history\"\n",
    "    [ commandsDir; commandHistoryDir ]\n",
    "    |> List.iter (fun dir -> if Directory.Exists dir |> not then Directory.CreateDirectory dir |> ignore)\n",
    "\n",
    "    Directory.EnumerateFiles commandsDir |> Seq.iter File.Delete\n",
    "\n",
    "    let stream, disposable =\n",
    "        commandsDir\n",
    "        |> FileSystem.watchDirectory (function\n",
    "            | FileSystem.FileSystemChange.Created _ -> true\n",
    "            | _ -> false\n",
    "        )\n",
    "\n",
    "    let connection = HubConnectionBuilder().WithUrl(uriServer).Build()\n",
    "    connection.StartAsync() |> Async.AwaitTask |> Async.Start\n",
    "    // let _ = connection.On<string>(\"ServerToClientMsg\", fun x ->\n",
    "    //     printfn $\"ServerToClientMsg: '{x}'\"\n",
    "    // )\n",
    "\n",
    "    stream\n",
    "    |> FSharp.Control.AsyncSeq.iterAsyncParallel (fun (ticks, event) -> async {\n",
    "        let _locals () = $\"ticks: {ticks} / event: {event} / {_locals ()}\"\n",
    "        trace Verbose (fun () -> \"Eval.startCommandsWatcher / iterAsyncParallel\") _locals\n",
    "\n",
    "        match event with\n",
    "        | FileSystem.FileSystemChange.Created (path, Some json) ->\n",
    "            try\n",
    "                let fullPath = commandsDir </> path\n",
    "                let! result = connection.InvokeAsync<string>(\"ClientToServerMsg\", json) |> Async.AwaitTask\n",
    "                let commandHistoryPath = commandHistoryDir </> path\n",
    "                do! fullPath |> SpiralFileSystem.move_file_async commandHistoryPath |> Async.Ignore\n",
    "                if result |> SpiralSm.trim |> String.length > 0 then\n",
    "                    let resultPath = commandHistoryDir </> $\"{Path.GetFileNameWithoutExtension path}_result.json\"\n",
    "                    do! result |> SpiralFileSystem.write_all_text_async resultPath\n",
    "            with ex ->\n",
    "                let _locals () = $\"ex: {ex |> SpiralSm.format_exception} / {_locals ()}\"\n",
    "                trace Critical (fun () -> \"Eval.startCommandsWatcher / iterAsyncParallel\") _locals\n",
    "        | _ -> ()\n",
    "    })\n",
    "    |> Async.StartChild\n",
    "    |> Async.Ignore\n",
    "    |> Async.Start\n",
    "\n",
    "    new_disposable (fun () ->\n",
    "        disposable.Dispose ()\n",
    "    )"
   ]
  },
  {
   "cell_type": "markdown",
   "metadata": {},
   "source": [
    "## prepareSpiral"
   ]
  },
  {
   "cell_type": "code",
   "execution_count": null,
   "metadata": {
    "dotnet_interactive": {
     "language": "fsharp"
    },
    "polyglot_notebook": {
     "kernelName": "fsharp"
    }
   },
   "outputs": [],
   "source": [
    "let prepareSpiral rawCellCode lines =\n",
    "    let lastBlock =\n",
    "        lines\n",
    "        |> Array.tryFindBack (fun line ->\n",
    "            line |> String.length > 0\n",
    "            && line.[0] <> ' '\n",
    "        )\n",
    "\n",
    "    let hasMain =\n",
    "        lastBlock\n",
    "        |> Option.exists (fun line ->\n",
    "            line |> SpiralSm.starts_with \"inl main \"\n",
    "            || line |> SpiralSm.starts_with \"let main \"\n",
    "        )\n",
    "\n",
    "    if hasMain\n",
    "    then rawCellCode, None\n",
    "    else\n",
    "        let lastTopLevelIndex, _ =\n",
    "            (lines |> Array.indexed, (None, false))\n",
    "            ||> Array.foldBack (fun (i, line) (lastTopLevelIndex, finished) ->\n",
    "                // trace Verbose (fun () -> $\"Eval.prepareSpiral / i: {i} / line: '{line}' / lastTopLevelIndex: {lastTopLevelIndex} / finished: {finished}\") _locals\n",
    "                match line with\n",
    "                | _ when finished -> lastTopLevelIndex, true\n",
    "                | \"\" -> lastTopLevelIndex, false\n",
    "                | line when\n",
    "                    line |> SpiralSm.starts_with \" \"\n",
    "                    || line |> SpiralSm.starts_with \"// \" -> lastTopLevelIndex, false\n",
    "                | line when\n",
    "                    line |> SpiralSm.starts_with \"open \"\n",
    "                    || line |> SpiralSm.starts_with \"prototype \"\n",
    "                    || line |> SpiralSm.starts_with \"instance \"\n",
    "                    || line |> SpiralSm.starts_with \"type \"\n",
    "                    || line |> SpiralSm.starts_with \"union \"\n",
    "                    || line |> SpiralSm.starts_with \"nominal \" -> lastTopLevelIndex, true\n",
    "                | line when\n",
    "                    line |> SpiralSm.starts_with \"inl \"\n",
    "                    || line |> SpiralSm.starts_with \"and \"\n",
    "                    || line |> SpiralSm.starts_with \"let \" ->\n",
    "                    let m =\n",
    "                        System.Text.RegularExpressions.Regex.Match (\n",
    "                            line,\n",
    "                            @\"^(?:and +)?(inl|let) +((?:[{( ]*)?[~\\(\\w]+[\\w\\d']*(?:|[\\w\\d']+[ }]*(?:&? *[\\w\\d']*\\))?| *[~\\w][\\w\\d']*\\)|, *[~\\w][\\w\\d']*)) +[:=](?! +function)\"\n",
    "                        )\n",
    "                    trace Verbose (fun () -> $\"Eval.prepareSpi / m: '{m}' / m.Groups.Count: {m.Groups.Count}\") _locals\n",
    "                    if m.Groups.Count = 3\n",
    "                    then Some i, false\n",
    "                    else lastTopLevelIndex, true\n",
    "                | _ -> Some i, false\n",
    "            )\n",
    "        let code =\n",
    "            match lastTopLevelIndex with\n",
    "            | Some lastTopLevelIndex ->\n",
    "                lines\n",
    "                |> Array.mapi (fun i line ->\n",
    "                    match i with\n",
    "                    | i when i < lastTopLevelIndex -> line\n",
    "                    | i when i = lastTopLevelIndex -> $\"\\nlet main () =\\n    {line}\"\n",
    "                    | _ when line |> SpiralSm.trim = \"\" -> \"\"\n",
    "                    | _ -> $\"    {line}\"\n",
    "                )\n",
    "                |> SpiralSm.concat \"\\n\"\n",
    "            | None -> $\"{rawCellCode}\\n\\ninl main () = ()\\n\"\n",
    "        code, lastTopLevelIndex"
   ]
  },
  {
   "cell_type": "markdown",
   "metadata": {},
   "source": [
    "## processSpiralOutput"
   ]
  },
  {
   "cell_type": "code",
   "execution_count": null,
   "metadata": {
    "dotnet_interactive": {
     "language": "fsharp"
    },
    "polyglot_notebook": {
     "kernelName": "fsharp"
    }
   },
   "outputs": [],
   "source": [
    "let processSpiralOutput\n",
    "    (props : {|\n",
    "        printCode: bool\n",
    "        traceLevel: TraceLevel\n",
    "        builderCommands: string array\n",
    "        lastTopLevelIndex: int option\n",
    "        backend: Supervisor.Backend\n",
    "        cancellationToken: _\n",
    "        spiralErrors: _\n",
    "        code: string\n",
    "        outputPath: string\n",
    "        isReal: bool\n",
    "    |})\n",
    "    = async {\n",
    "    let inline _trace (fn : unit -> string) =\n",
    "        if props.traceLevel = Verbose\n",
    "        then trace Info (fun () -> $\"Eval.processSpiralOutput / props: {props |> FSharp.Json.Json.serialize |> SpiralSm.ellipsis_end 400} / {fn ()}\") _locals\n",
    "        else fn () |> System.Console.WriteLine\n",
    "\n",
    "    if props.printCode && props.backend <> Supervisor.Cuda then\n",
    "        let ext = props.outputPath |> System.IO.Path.GetExtension\n",
    "        _trace (fun () -> if props.builderCommands.Length > 0 then $\"{ext}:\\n{props.code}\\n\" else props.code)\n",
    "\n",
    "    let workspaceRootExternal =\n",
    "        let currentDir = System.IO.Directory.GetCurrentDirectory () |> SpiralSm.to_lower\n",
    "        let workspaceRoot = workspaceRoot |> SpiralSm.to_lower\n",
    "        if currentDir |> SpiralSm.starts_with workspaceRoot\n",
    "        then None\n",
    "        else Some workspaceRoot\n",
    "\n",
    "    let! spiralBuilderResults =\n",
    "        match props.builderCommands, props.lastTopLevelIndex with\n",
    "        | [||], _ | _, None -> [||] |> Async.init\n",
    "        | builderCommands, _ ->\n",
    "            builderCommands\n",
    "            |> Array.map (fun builderCommand ->\n",
    "                let path =\n",
    "                    workspaceRoot </> $@\"workspace/target/release/spiral_builder{SpiralPlatform.get_executable_suffix ()}\"\n",
    "                    |> System.IO.Path.GetFullPath\n",
    "                let commands =\n",
    "                    if props.backend = Supervisor.Fsharp\n",
    "                        && (\n",
    "                            builderCommand |> SpiralSm.starts_with \"rust\"\n",
    "                            || builderCommand |> SpiralSm.starts_with \"typescript\"\n",
    "                            || builderCommand |> SpiralSm.starts_with \"python\"\n",
    "                        )\n",
    "                    then [| $\"{path} fable --fs-path \\\"{props.outputPath}\\\" --command \\\"{builderCommand}\\\"\" |]\n",
    "                    elif props.backend = Supervisor.Cuda\n",
    "                        && builderCommand |> SpiralSm.starts_with \"cuda\"\n",
    "                    then [| $\"{path} {builderCommand} --py-path \\\"{props.outputPath}\\\"\" |]\n",
    "                    else [||]\n",
    "                builderCommand, commands\n",
    "            )\n",
    "            |> Array.filter (fun (_, commands) -> commands.Length > 0)\n",
    "            |> Array.collect (fun (builderCommand, commands) ->\n",
    "                commands\n",
    "                |> Array.map (fun command -> async {\n",
    "                    let! exitCode, result =\n",
    "                        SpiralRuntime.execution_options (fun x ->\n",
    "                            { x with\n",
    "                                l0 = command\n",
    "                                l1 = props.cancellationToken\n",
    "                                l2 = [|\n",
    "                                    \"AUTOMATION\", assemblyName = \"dotnet-repl\" |> string\n",
    "                                    \"TRACE_LEVEL\", $\"%A{if props.printCode then props.traceLevel else Info}\"\n",
    "                                |]\n",
    "                                l6 = workspaceRootExternal\n",
    "                            }\n",
    "                        )\n",
    "                        |> SpiralRuntime.execute_with_options_async\n",
    "                    trace Debug\n",
    "                        (fun () -> $\"Eval.processSpiralOutput / spiral_builder\")\n",
    "                        (fun () -> $\"exitCode: {exitCode} / builderCommand: {builderCommand} / command: {command} / result: {result |> SpiralSm.ellipsis_end 400} / {_locals ()}\")\n",
    "                    return\n",
    "                        if exitCode = 0\n",
    "                        then {| code = result; eval = false; builderCommand = builderCommand |} |> Ok\n",
    "                        else result |> Error\n",
    "                })\n",
    "            )\n",
    "            |> Async.Parallel\n",
    "\n",
    "    let hasEval =\n",
    "        props.backend = Supervisor.Fsharp\n",
    "        && props.builderCommands |> Array.exists (fun x -> x |> SpiralSm.starts_with \"fsharp\")\n",
    "\n",
    "    let outputResult =\n",
    "        if props.builderCommands.Length > 0 && not hasEval\n",
    "        then None\n",
    "        else\n",
    "            let code =\n",
    "                if props.builderCommands.Length > 1\n",
    "                then\n",
    "                    let header = \"System.Console.WriteLine \\\".fsx output:\\\"\\n\"\n",
    "                    $\"{header}{props.code}\"\n",
    "                else props.code\n",
    "            Some (Ok [ {| code = code; eval = true; builderCommand = \"\" |} ])\n",
    "\n",
    "    match outputResult, spiralBuilderResults with\n",
    "    | Some outputResult, [||] ->\n",
    "        return outputResult, [||]\n",
    "    | None, [||] ->\n",
    "        return Ok [ {| code = \"()\"; eval = true; builderCommand = \"\" |} ], [||]\n",
    "    | _, spiralBuilderResults ->\n",
    "        try\n",
    "            let spiralResults =\n",
    "                match outputResult with\n",
    "                | Some (Ok code) ->\n",
    "                    spiralBuilderResults\n",
    "                    |> Array.append (code |> List.map Ok |> List.toArray)\n",
    "                | _ -> spiralBuilderResults\n",
    "            let codes =\n",
    "                spiralResults\n",
    "                |> Array.map (fun spiralBuilderResult' ->\n",
    "                    let commandResult, errors =\n",
    "                        match spiralBuilderResult' with\n",
    "                        | Ok result when result.eval = false ->\n",
    "                            let result' =\n",
    "                                result.code\n",
    "                                |> FSharp.Json.Json.deserialize<Map<string,string>>\n",
    "                            let result =\n",
    "                                match result' |> Map.tryFind \"command_result\" with\n",
    "                                | Some result'' ->\n",
    "                                    result''\n",
    "                                    |> FSharp.Json.Json.deserialize<Map<string,string>>\n",
    "                                    |> Map.add \"builderCommand\" result.builderCommand\n",
    "                                | None -> Map.empty\n",
    "                            result, [||]\n",
    "                        | Ok result when result.eval = true ->\n",
    "                            let result =\n",
    "                                [\n",
    "                                    \"extension\", \"fsx\"\n",
    "                                    \"code\", result.code\n",
    "                                    \"output\", \"\"\n",
    "                                ]\n",
    "                                |> Map.ofList\n",
    "                            result, [||]\n",
    "                        | Error error ->\n",
    "                            Map.empty,\n",
    "                            [|\n",
    "                                (\n",
    "                                    TraceLevel.Critical, $\"Eval.processSpiralOutput / evalResult error / errors[0] / outputPath: {props.outputPath} / builderCommands: %A{props.builderCommands} / spiralBuilderResult': %A{spiralBuilderResult'} / error: %A{error}\", 0, (\"\", (0, 0), (0, 0))\n",
    "                                )\n",
    "                            |]\n",
    "                        | _ ->\n",
    "                            Map.empty, [||]\n",
    "\n",
    "                    if errors |> Array.isEmpty |> not\n",
    "                    then Error (Exception $\"Eval.processSpiralOutput / evalResult errors / Exception / commandResult: %A{commandResult}\"), errors\n",
    "                    else\n",
    "                        let extension = commandResult.[\"extension\"]\n",
    "                        let code = commandResult.[\"code\"]\n",
    "                        let output = commandResult.[\"output\"]\n",
    "                        let builderCommand =\n",
    "                            commandResult\n",
    "                            |> Map.tryFind \"builderCommand\"\n",
    "                            |> Option.defaultValue \"\"\n",
    "\n",
    "                        let backendInfo =\n",
    "                            match props.backend, builderCommand with\n",
    "                            | Supervisor.Fsharp, builderCommand\n",
    "                                when builderCommand |> SpiralSm.contains \" \" -> $\" ({builderCommand})\"\n",
    "                            | Supervisor.Fsharp, _ -> \"\"\n",
    "                            | _ -> $\" ({props.backend})\"\n",
    "\n",
    "                        let eval = output = \"\" && extension = \"fsx\"\n",
    "\n",
    "                        if props.printCode && not eval\n",
    "                        then _trace (fun () -> $\"\"\".{extension}{backendInfo}:{'\\n'}{code}\"\"\")\n",
    "\n",
    "                        trace Debug\n",
    "                            (fun () -> $\"Eval.processSpiralOutput / result\")\n",
    "                            (fun () -> $\"builderCommand: {builderCommand} / extension: {extension} / commandResult: {commandResult |> FSharp.Json.Json.serialize |> SpiralSm.ellipsis_end 400}/ {_locals ()}\")\n",
    "\n",
    "                        let code =\n",
    "                            if props.printCode\n",
    "                                || spiralResults.Length > 1\n",
    "                                || props.builderCommands.Length > 1\n",
    "                            then\n",
    "                                if eval\n",
    "                                then code\n",
    "                                else\n",
    "                                    let header = $\".{extension} output{backendInfo}:\\n\"\n",
    "                                    $\"\"\"{if output |> SpiralSm.contains \"\\n\" then \"\\n\" else \"\"}{header}{output}\"\"\"\n",
    "                            elif eval\n",
    "                            then code\n",
    "                            else output\n",
    "                        Ok {| code = code; eval = eval; builderCommand = builderCommand |}, [||]\n",
    "                )\n",
    "            trace Debug\n",
    "                (fun () -> $\"Eval.processSpiralOutput / codes\")\n",
    "                (fun () ->\n",
    "                    let props = {| props with cancellationToken = None |}\n",
    "                    $\"codes: {codes |> FSharp.Json.Json.serialize |> SpiralSm.ellipsis_end 400} / spiralResults: {spiralResults |> FSharp.Json.Json.serialize |> SpiralSm.ellipsis_end 400} / spiralBuilderResults: {spiralBuilderResults |> FSharp.Json.Json.serialize |> SpiralSm.ellipsis_end 400} / props: {props |> FSharp.Json.Json.serialize |> SpiralSm.ellipsis_end 400} / {_locals ()}\")\n",
    "            return\n",
    "                (((Ok []), [||]), codes)\n",
    "                ||> Array.fold (fun (acc_code, acc_errors) (code, errors) ->\n",
    "                    match code, acc_code with\n",
    "                    | Ok code, Ok acc_code ->\n",
    "                        let errors =\n",
    "                            acc_errors\n",
    "                            |> Array.append errors\n",
    "                            |> Array.append props.spiralErrors\n",
    "                        let errors =\n",
    "                            if errors |> Array.isEmpty\n",
    "                            then errors\n",
    "                            else\n",
    "                                let code = $\"%A{code}\"\n",
    "                                errors\n",
    "                                |> Array.append [|\n",
    "                                    TraceLevel.Critical, $\"Eval.processSpiralOutput / errors / errors[-1] / outputPath: {props.outputPath} / builderCommands: %A{props.builderCommands} / code: {code |> SpiralSm.ellipsis_end 400}\", 0, (\"\", (0, 0), (0, 0))\n",
    "                                |]\n",
    "                        Ok (code :: acc_code), errors\n",
    "                    | Error ex, _\n",
    "                    | _, Error ex ->\n",
    "                        Error (Exception $\"Eval.processSpiralOutput / -1 / Exception / spiralBuilderResults: %A{spiralBuilderResults} / ex: {ex |> SpiralSm.format_exception}\"),\n",
    "                        acc_errors |> Array.append errors\n",
    "                )\n",
    "        with ex ->\n",
    "            trace Critical (fun () -> $\"Eval.processSpiralOutput / try 2 ex / spiralBuilderResults: %A{spiralBuilderResults} / ex: {ex |> SpiralSm.format_exception}\") _locals\n",
    "            return\n",
    "                Error (Exception $\"Eval.processSpiralOutput / try 2 ex / Exception / spiralBuilderResults: %A{spiralBuilderResults} / ex: {ex |> SpiralSm.format_exception}\"),\n",
    "                [|\n",
    "                    (\n",
    "                        TraceLevel.Critical, $\"Eval.processSpiralOutput / try 2 ex / errors[0] / spiralBuilderResults: %A{spiralBuilderResults} / ex: {ex |> SpiralSm.format_exception}\", 0, (\"\", (0, 0), (0, 0))\n",
    "                    )\n",
    "                |]\n",
    "}"
   ]
  },
  {
   "cell_type": "markdown",
   "metadata": {},
   "source": [
    "## tryGetPropertyValue"
   ]
  },
  {
   "cell_type": "code",
   "execution_count": null,
   "metadata": {
    "dotnet_interactive": {
     "language": "fsharp"
    },
    "polyglot_notebook": {
     "kernelName": "fsharp"
    }
   },
   "outputs": [],
   "source": [
    "let tryGetPropertyValue (propertyName: string) (obj: obj) =\n",
    "    let objType = obj.GetType ()\n",
    "    let propertyInfo = propertyName |> objType.GetProperty\n",
    "    if propertyInfo <> null\n",
    "    then propertyInfo.GetValue (obj, null) |> Some\n",
    "    else None"
   ]
  },
  {
   "cell_type": "markdown",
   "metadata": {},
   "source": [
    "## evalAsync"
   ]
  },
  {
   "cell_type": "code",
   "execution_count": null,
   "metadata": {
    "dotnet_interactive": {
     "language": "fsharp"
    },
    "polyglot_notebook": {
     "kernelName": "fsharp"
    }
   },
   "outputs": [],
   "source": [
    "let rec evalAsync\n",
    "    retry\n",
    "    (props : {|\n",
    "        rawCellCode: _\n",
    "        lines: _\n",
    "        isReal: _\n",
    "        builderCommands: _ array\n",
    "        isCache: _\n",
    "        timeout: _\n",
    "        cancellationToken: _\n",
    "        printCode: _\n",
    "        traceLevel: _\n",
    "        fsi_eval: _\n",
    "    |})\n",
    "    = async {\n",
    "    try\n",
    "        let cellCode, lastTopLevelIndex = prepareSpiral props.rawCellCode props.lines\n",
    "        let newAllCode =\n",
    "            if props.isReal\n",
    "            then $\"{allCodeReal}\\n\\n{cellCode}\"\n",
    "            else $\"{allCode}\\n\\n{cellCode}\"\n",
    "\n",
    "        let buildBackends =\n",
    "            if props.builderCommands.Length = 0\n",
    "            then [| Supervisor.Fsharp |]\n",
    "            else\n",
    "                props.builderCommands\n",
    "                |> Array.map (fun x ->\n",
    "                    if x |> SpiralSm.starts_with \"cuda\"\n",
    "                    then Supervisor.Cuda\n",
    "                    else Supervisor.Fsharp\n",
    "                )\n",
    "                |> Array.distinct\n",
    "\n",
    "        trace Verbose\n",
    "            (fun () -> $\"Eval.eval\")\n",
    "            (fun () -> $\"lastTopLevelIndex: {lastTopLevelIndex} / builderCommands: %A{props.builderCommands} / buildBackends: %A{buildBackends} / isReal: {props.isReal} / {_locals ()}\")\n",
    "\n",
    "        let! buildCodeResults =\n",
    "            buildBackends\n",
    "            |> Array.map (fun backend -> async {\n",
    "                let! result =\n",
    "                    if props.isReal\n",
    "                    then Supervisor.Spir newAllCode\n",
    "                    else\n",
    "                        Supervisor.Spi\n",
    "                            (newAllCode, if allCodeReal = \"\" then None else Some allCodeReal)\n",
    "                    |> Supervisor.buildCode backend allPackages props.isCache props.timeout props.cancellationToken\n",
    "                return backend, result\n",
    "            })\n",
    "            |> Async.Parallel\n",
    "            |> Async.catch\n",
    "            |> Async.runWithTimeoutAsync props.timeout\n",
    "\n",
    "        match buildCodeResults with\n",
    "        | Some (Ok buildCodeResults) ->\n",
    "            let! result, errors =\n",
    "                ((Ok [], [||]), buildCodeResults)\n",
    "                ||> Async.fold (fun acc buildCodeResult -> async {\n",
    "                    match buildCodeResult with\n",
    "                    | backend, (_, (outputPath, Some code), spiralErrors) ->\n",
    "                        let spiralErrors =\n",
    "                            mapErrors (Warning, spiralErrors, lastTopLevelIndex) allCode\n",
    "                        let! result =\n",
    "                            processSpiralOutput\n",
    "                                {|\n",
    "                                    printCode = props.printCode\n",
    "                                    traceLevel = props.traceLevel\n",
    "                                    builderCommands = props.builderCommands\n",
    "                                    lastTopLevelIndex = lastTopLevelIndex\n",
    "                                    backend = backend\n",
    "                                    cancellationToken = props.cancellationToken\n",
    "                                    spiralErrors = spiralErrors\n",
    "                                    code = code\n",
    "                                    outputPath = outputPath\n",
    "                                    isReal = props.isReal\n",
    "                                |}\n",
    "                        match result, acc with\n",
    "                        | (Ok code, errors), (Ok acc_code, acc_errors) ->\n",
    "                            return Ok (acc_code @ code), acc_errors |> Array.append errors\n",
    "                        | (Error ex, errors), _ | _, (Error ex, errors) ->\n",
    "                            return\n",
    "                                Error (Exception $\"Eval.evalAsync / processSpiralOutput / Exception / buildCodeResult: %A{buildCodeResult |> FSharp.Json.Json.serialize |> SpiralSm.ellipsis_end 400} / ex: {ex |> SpiralSm.format_exception}\"),\n",
    "                                errors |> Array.append errors\n",
    "                    | _, (_, _, errors) when errors |> List.isEmpty |> not ->\n",
    "                        return errors.[0] |> fst |> Exception |> Error,\n",
    "                        mapErrors (TraceLevel.Critical, errors, lastTopLevelIndex) allCode\n",
    "                    | _ -> return acc\n",
    "                })\n",
    "            let cancellationToken = defaultArg props.cancellationToken System.Threading.CancellationToken.None\n",
    "            match result, errors with\n",
    "            | Ok code, [||] ->\n",
    "                let code, eval =\n",
    "                    code\n",
    "                    |> List.map (fun code ->\n",
    "                        if code.eval\n",
    "                        then None, Some code.code\n",
    "                        else Some code.code, None\n",
    "                    )\n",
    "                    |> List.unzip\n",
    "                let code = code |> List.choose id\n",
    "                let eval = eval |> List.choose id\n",
    "\n",
    "                trace Debug\n",
    "                    (fun () -> $\"Eval.eval\")\n",
    "                    (fun () -> $\"eval: {eval |> FSharp.Json.Json.serialize |> SpiralSm.ellipsis_end 400} / code: {code |> FSharp.Json.Json.serialize |> SpiralSm.ellipsis_end 400} / {_locals ()}\")\n",
    "\n",
    "                let ch, errors =\n",
    "                    match eval, code with\n",
    "                    | [], [] ->\n",
    "                        Choice2Of2 (Exception $\"Eval.evalAsync / eval=[] / code=[] / buildCodeResults: %A{buildCodeResults} / code: %A{code}\"), errors\n",
    "                    | [ eval ], [] ->\n",
    "                        let ch, errors2 = props.fsi_eval eval cancellationToken\n",
    "                        let errors =\n",
    "                            errors2\n",
    "                            // |> Array.map (fun (e1, e2, e3, _) ->\n",
    "                            //     (e1, e2, e3, (\"\", (0, 0), (0, 0)))\n",
    "                            // )\n",
    "                            |> Array.append errors\n",
    "                        ch, errors\n",
    "                    | [], _ ->\n",
    "                        let code = code |> List.rev |> String.concat \"\\n\\n\"\n",
    "                        let code =\n",
    "                            if props.printCode\n",
    "                            then $\"\\\"\\\"\\\"{code}\\n\\n\\\"\\\"\\\"\"\n",
    "                            else $\"\\\"\\\"\\\"{code}\\n\\\"\\\"\\\"\"\n",
    "                        let ch, errors2 = props.fsi_eval code cancellationToken\n",
    "                        let errors =\n",
    "                            errors2\n",
    "                            // |> Array.map (fun (e1, e2, e3, _) ->\n",
    "                            //     (e1, e2, e3, (\"\", (0, 0), (0, 0)))\n",
    "                            // )\n",
    "                            |> Array.append errors\n",
    "                        ch, errors\n",
    "                    | _ ->\n",
    "                        let code, errors =\n",
    "                            ((Ok (code |> List.rev), [||]), eval)\n",
    "                            ||> List.fold (fun (acc, acc_errors) eval ->\n",
    "                                match acc with\n",
    "                                | Error ch -> Error ch, acc_errors\n",
    "                                | Ok acc ->\n",
    "                                    let ch, errors = props.fsi_eval eval cancellationToken\n",
    "                                    let errors =\n",
    "                                        errors\n",
    "                                        // |> Array.map (fun (e1, e2, e3, _) ->\n",
    "                                        //     (e1, e2, e3, (\"\", (0, 0), (0, 0)))\n",
    "                                        // )\n",
    "                                        |> Array.append acc_errors\n",
    "                                    match ch with\n",
    "                                    | Choice1Of2 v ->\n",
    "                                        let v =\n",
    "                                            v\n",
    "                                            |> tryGetPropertyValue \"ReflectionValue\"\n",
    "                                            |> Option.map (fun x -> $\"%A{x}\")\n",
    "                                            |> Option.defaultValue \"\"\n",
    "                                        Ok (v :: acc), errors\n",
    "                                    | Choice2Of2 ex ->\n",
    "                                        trace Critical (fun () -> $\"Eval.evalAsync / fsi_eval fold Choice error / buildCodeResults: %A{buildCodeResults} / ex: {ex |> SpiralSm.format_exception}\") _locals\n",
    "                                        Error ch, errors\n",
    "                            )\n",
    "                        match code with\n",
    "                        | Error ch -> ch, errors\n",
    "                        | Ok code ->\n",
    "                            let code =\n",
    "                                code\n",
    "                                |> List.filter ((<>) \"\")\n",
    "                                |> String.concat \"\\n\\n\"\n",
    "\n",
    "                            let code =\n",
    "                                if props.builderCommands.Length > 0 && eval.Length = 0\n",
    "                                then code\n",
    "                                elif code |> SpiralSm.contains \"\\n\\n\\n\"\n",
    "                                then $\"{code}\\n\\n\"\n",
    "                                else $\"{code}\\n\"\n",
    "\n",
    "                            let code =\n",
    "                                if props.printCode\n",
    "                                then $\"\\\"\\\"\\\"{code}\\n\\n\\n\\\"\\\"\\\"\"\n",
    "                                else $\"\\\"\\\"\\\"{code}\\n\\\"\\\"\\\"\"\n",
    "                            let ch, errors2 = props.fsi_eval code cancellationToken\n",
    "                            let errors =\n",
    "                                errors2\n",
    "                                // |> Array.map (fun (e1, e2, e3, _) ->\n",
    "                                //     (e1, e2, e3, (\"\", (0, 0), (0, 0)))\n",
    "                                // )\n",
    "                                |> Array.append errors\n",
    "                            ch, errors\n",
    "                match ch with\n",
    "                | Choice1Of2 v ->\n",
    "                    if props.isReal\n",
    "                    then allCodeReal <- newAllCode\n",
    "                    else allCode <- newAllCode\n",
    "                    return Ok(v), errors\n",
    "                | Choice2Of2 ex ->\n",
    "                    return\n",
    "                        Error (Exception $\"Eval.evalAsync / -2 / Exception / ex: {ex |> SpiralSm.format_exception} / buildCodeResults: {buildCodeResults |> FSharp.Json.Json.serialize |> SpiralSm.ellipsis_end 400}\"),\n",
    "                        errors\n",
    "            | Ok code, errors ->\n",
    "                return\n",
    "                    Error (Exception \"Eval.evalAsync / errors / buildCodeResults: %A{buildCodeResults} / code: %A{code}\"),\n",
    "                    errors\n",
    "            | Error ex, errors ->\n",
    "                let ex = ex |> SpiralSm.format_exception\n",
    "                if retry <= 3 && ex |> SpiralSm.contains \"Expected one of: inl, let, union, nominal, prototype, type, instance, and, open\"\n",
    "                then return! evalAsync (retry + 1) props\n",
    "                else\n",
    "                    return\n",
    "                        Error (Exception $\"Eval.evalAsync / -1 / Exception / ex: {ex} / buildCodeResults: {buildCodeResults |> FSharp.Json.Json.serialize |> SpiralSm.ellipsis_end 1500}\"),\n",
    "                        errors\n",
    "        | Some (Error ex) ->\n",
    "            trace Critical (fun () -> $\"Eval.evalAsync / buildCodeResults Error / buildCodeResults: %A{buildCodeResults} / ex: {ex |> SpiralSm.format_exception}\") _locals\n",
    "            return\n",
    "                Error (Exception $\"Eval.evalAsync / buildCodeResults Error / Exception / buildCodeResults: %A{buildCodeResults} / ex: {ex |> SpiralSm.format_exception}\"),\n",
    "                [|\n",
    "                    (\n",
    "                        TraceLevel.Critical, $\"Eval.evalAsync / buildCodeResults Error / errors[0] / ex: {ex |> SpiralSm.format_exception} / buildCodeResults: %A{buildCodeResults}\", 0, (\"\", (0, 0), (0, 0))\n",
    "                    )\n",
    "                |]\n",
    "        | _ ->\n",
    "            return\n",
    "                Error (Exception $\"Eval.evalAsync / buildCodeResults / Exception / buildCodeResults: %A{buildCodeResults}\"),\n",
    "                [|\n",
    "                    (\n",
    "                        TraceLevel.Critical, $\"Eval.evalAsync / buildCodeResults / errors[0] / buildCodeResults: %A{buildCodeResults}\", 0, (\"\", (0, 0), (0, 0))\n",
    "                    )\n",
    "                |]\n",
    "    with ex ->\n",
    "        trace Critical (fun () -> $\"Eval.evalAsync / try 1 ex / ex: {ex |> SpiralSm.format_exception} / lines: %A{props.lines}\") _locals\n",
    "        return\n",
    "            Error (Exception $\"Eval.evalAsync / try 1 ex / Exception / ex: {ex |> SpiralSm.format_exception} / lines: %A{props.lines}\"),\n",
    "            [|\n",
    "                (\n",
    "                    TraceLevel.Critical, $\"Eval.evalAsync / try 1 ex / errors[0] / ex: {ex |> SpiralSm.format_exception} / lines: %A{props.lines}\", 0, (\"\", (0, 0), (0, 0))\n",
    "                )\n",
    "            |]\n",
    "}"
   ]
  },
  {
   "cell_type": "markdown",
   "metadata": {},
   "source": [
    "## eval"
   ]
  },
  {
   "cell_type": "code",
   "execution_count": null,
   "metadata": {
    "dotnet_interactive": {
     "language": "fsharp"
    },
    "polyglot_notebook": {
     "kernelName": "fsharp"
    }
   },
   "outputs": [],
   "source": [
    "let inline eval\n",
    "    (fsi_eval:\n",
    "        string\n",
    "        -> System.Threading.CancellationToken\n",
    "        -> Choice<'a, Exception> * (TraceLevel * string * int * (string * (int * int) * (int * int))) array)\n",
    "    (cancellationToken: Option<System.Threading.CancellationToken>)\n",
    "    (code: string)\n",
    "    =\n",
    "    trace Verbose\n",
    "        (fun () -> $\"Eval.eval\")\n",
    "        (fun () -> $\"code: {code |> SpiralSm.ellipsis_end 400} / {_locals ()}\")\n",
    "\n",
    "    let rawCellCode =\n",
    "        code |> SpiralSm.replace \"\\r\\n\" \"\\n\"\n",
    "\n",
    "    let lines = rawCellCode |> SpiralSm.split \"\\n\"\n",
    "\n",
    "    if lines |> Array.exists (fun line -> line |> SpiralSm.starts_with \"#r \" && line |> SpiralSm.ends_with \"\\\"\") then\n",
    "        let cancellationToken = defaultArg cancellationToken System.Threading.CancellationToken.None\n",
    "        let ch, errors = fsi_eval code cancellationToken\n",
    "        trace Verbose (fun () -> $\"Eval.eval / fsi_eval 1 / ch: %A{ch} / errors: {errors}\") _locals\n",
    "        match ch with\n",
    "        | Choice1Of2 v -> Ok(v), errors\n",
    "        | Choice2Of2 ex -> Error(ex), errors\n",
    "    else\n",
    "        let builderCommands =\n",
    "            lines\n",
    "            |> Array.choose (fun line ->\n",
    "                if line |> SpiralSm.starts_with \"///! \"\n",
    "                then line |> SpiralSm.split \"///! \" |> Array.tryItem 1\n",
    "                else None\n",
    "            )\n",
    "\n",
    "        let packages =\n",
    "            lines\n",
    "            |> Array.choose (fun line ->\n",
    "                if line |> SpiralSm.starts_with \"//// package=\"\n",
    "                then line |> SpiralSm.split \"=\" |> Array.skip 1 |> SpiralSm.concat \"\" |> Some\n",
    "                else None\n",
    "            )\n",
    "        \n",
    "        allPackages <- packages |> Array.append allPackages |> Array.distinct\n",
    "\n",
    "        let timeout =\n",
    "            lines\n",
    "            |> Array.tryPick (fun line ->\n",
    "                if line |> SpiralSm.starts_with \"//// timeout=\"\n",
    "                then line |> SpiralSm.split \"=\" |> Array.tryItem 1 |> Option.map int\n",
    "                else None\n",
    "            )\n",
    "            |> Option.defaultValue (60000 * 60)\n",
    "\n",
    "        let boolArg def command =\n",
    "            lines\n",
    "            |> Array.tryPick (fun line ->\n",
    "                let text = $\"//// {command}\"\n",
    "                match line.[0..text.Length-1], line.[text.Length..] with\n",
    "                | head, \"\" when head = text ->\n",
    "                    Some true\n",
    "                | head, _ when head = text ->\n",
    "                    line |> SpiralSm.split \"=\" |> Array.tryItem 1 |> Option.map ((<>) \"false\")\n",
    "                | _ -> None\n",
    "            )\n",
    "            |> Option.defaultValue def\n",
    "\n",
    "        let printCode = \"print_code\" |> boolArg false\n",
    "        let isTraceToggle = \"trace_toggle\" |> boolArg false\n",
    "        let isTrace = \"trace\" |> boolArg false\n",
    "        let isCache = \"cache\" |> boolArg false\n",
    "        let isReal = \"real\" |> boolArg false\n",
    "\n",
    "        if isTraceToggle\n",
    "        then traceToggle <- not traceToggle\n",
    "\n",
    "        let oldLevel = get_trace_level ()\n",
    "        let traceLevel =\n",
    "            if isTrace || traceToggle\n",
    "            then Verbose\n",
    "            else Info\n",
    "        traceLevel\n",
    "        |> to_trace_level\n",
    "        |> set_trace_level\n",
    "        use _ = (new_disposable (fun () ->\n",
    "            oldLevel |> set_trace_level\n",
    "        ))\n",
    "\n",
    "        evalAsync 1\n",
    "            {|\n",
    "                rawCellCode = rawCellCode\n",
    "                lines = lines\n",
    "                isReal = isReal\n",
    "                builderCommands = builderCommands\n",
    "                isCache = isCache\n",
    "                timeout = timeout\n",
    "                cancellationToken = cancellationToken\n",
    "                printCode = printCode\n",
    "                traceLevel = traceLevel\n",
    "                fsi_eval = fsi_eval\n",
    "            |}\n",
    "        |> Async.runWithTimeout timeout\n",
    "        |> Option.defaultValue (\n",
    "            Error (Exception $\"Eval.eval / Async.runWithTimeout / Exception / timeout: {timeout} / lines: %A{lines}\"),\n",
    "            [|\n",
    "                (\n",
    "                    TraceLevel.Critical, $\"Eval.eval / Async.runWithTimeout / errors[0] / timeout: {timeout} / lines: %A{lines}\", 0, (\"\", (0, 0), (0, 0))\n",
    "                )\n",
    "            |]\n",
    "        )"
   ]
  }
 ],
 "metadata": {},
 "nbformat": 4,
 "nbformat_minor": 5
}