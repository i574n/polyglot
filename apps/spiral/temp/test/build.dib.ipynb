{
 "cells": [
  {
   "cell_type": "markdown",
   "metadata": {},
   "source": [
    "# test"
   ]
  },
  {
   "cell_type": "markdown",
   "metadata": {},
   "source": [
    "## include scripts"
   ]
  },
  {
   "cell_type": "markdown",
   "metadata": {},
   "source": [
    "### include notebook core"
   ]
  },
  {
   "cell_type": "code",
   "execution_count": null,
   "metadata": {
    "dotnet_interactive": {
     "language": "pwsh"
    },
    "polyglot_notebook": {
     "kernelName": "pwsh"
    }
   },
   "outputs": [],
   "source": [
    ". ../../../../scripts/nbs_header.ps1"
   ]
  },
  {
   "cell_type": "markdown",
   "metadata": {},
   "source": [
    "### Include core functions script"
   ]
  },
  {
   "cell_type": "code",
   "execution_count": null,
   "metadata": {
    "dotnet_interactive": {
     "language": "pwsh"
    },
    "polyglot_notebook": {
     "kernelName": "pwsh"
    }
   },
   "outputs": [],
   "source": [
    ". ../../../../scripts/core.ps1"
   ]
  },
  {
   "cell_type": "markdown",
   "metadata": {},
   "source": [
    "### Include spiral library"
   ]
  },
  {
   "cell_type": "code",
   "execution_count": null,
   "metadata": {
    "dotnet_interactive": {
     "language": "pwsh"
    },
    "polyglot_notebook": {
     "kernelName": "pwsh"
    }
   },
   "outputs": [],
   "source": [
    ". ../../../../lib/spiral/lib.ps1"
   ]
  },
  {
   "cell_type": "markdown",
   "metadata": {},
   "source": [
    "## execute project commands"
   ]
  },
  {
   "cell_type": "markdown",
   "metadata": {},
   "source": [
    "### run notebook with retries using spiral supervisor"
   ]
  },
  {
   "cell_type": "code",
   "execution_count": null,
   "metadata": {
    "dotnet_interactive": {
     "language": "pwsh"
    },
    "polyglot_notebook": {
     "kernelName": "pwsh"
    }
   },
   "outputs": [
    {
     "name": "stdout",
     "output_type": "stream",
     "text": [
      "00:00:00 \u001B[90mv\u001B[0m #1 networking.test_port_open / { port = 13806; ex = System.AggregateException: One or more errors occurred. (Connection refused) }\n",
      "00:00:00 \u001B[94md\u001B[0m #1 runtime.execute_with_options_async / { file_name = ../../../../workspace/target/release/spiral_builder; arguments = US1_0 \"dib --path test.dib --retries 3\"; options = { command = ../../../../workspace/target/release/spiral_builder dib --path test.dib --retries 3; cancellation_token = Some System.Threading.CancellationToken; environment_variables = [||]; on_line = None; stdin = None; trace = true; working_directory = None } }\n",
      "00:00:00 \u001B[90mv\u001B[0m #2 > 00:00:00 \u001B[94md\u001B[39m #1 spiral_builder.main / { args = Array(MutCell([\"dib\", \"--path\", \"test.dib\", \"--retries\", \"3\"])) }\n",
      "00:00:00 \u001B[90mv\u001B[0m #3 > 00:00:00 \u001B[94md\u001B[39m #2 runtime.execute_with_options / { file_name = dotnet; arguments = [\"repl\", \"--exit-after-run\", \"--run\", \"/home/runner/work/polyglot/polyglot/apps/spiral/temp/test/test.dib\", \"--output-path\", \"/home/runner/work/polyglot/polyglot/apps/spiral/temp/test/test.dib.ipynb\"]; options = { command = dotnet repl --exit-after-run --run \"/home/runner/work/polyglot/polyglot/apps/spiral/temp/test/test.dib\" --output-path \"/home/runner/work/polyglot/polyglot/apps/spiral/temp/test/test.dib.ipynb\"; cancellation_token = None; environment_variables = Array(MutCell([(\"TRACE_LEVEL\", \"Verbose\"), (\"AUTOMATION\", \"True\")])); on_line = None; stdin = None; trace = false; working_directory = None } }\n",
      "00:00:02 \u001B[90mv\u001B[0m #4 > >\n",
      "00:00:02 \u001B[90mv\u001B[0m #5 > > \u001B[38;5;103m── markdown ────────────────────────────────────────────────────────────────────\u001B[0m\n",
      "00:00:02 \u001B[90mv\u001B[0m #6 > > \u001B[38;5;103m╭──────────────────────────────────────────────────────────────────────────────╮\u001B[0m\n",
      "00:00:02 \u001B[90mv\u001B[0m #7 > > \u001B[38;5;103m│\u001B[0m # test (Polyglot)                                                            \u001B[38;5;103m│\u001B[0m\n",
      "00:00:02 \u001B[90mv\u001B[0m #8 > > \u001B[38;5;103m╰──────────────────────────────────────────────────────────────────────────────╯\u001B[0m\n",
      "00:00:04 \u001B[90mv\u001B[0m #9 > >\n",
      "00:00:04 \u001B[90mv\u001B[0m #10 > > \u001B[38;5;103m── spiral ──────────────────────────────────────────────────────────────────────\u001B[0m\n",
      "00:00:04 \u001B[90mv\u001B[0m #11 > > //// test\n",
      "00:00:04 \u001B[90mv\u001B[0m #12 > >\n",
      "00:00:04 \u001B[90mv\u001B[0m #13 > > open testing\n",
      "00:00:08 \u001B[90mv\u001B[0m #14 > >\n",
      "00:00:08 \u001B[90mv\u001B[0m #15 > > \u001B[38;5;103m── spiral ──────────────────────────────────────────────────────────────────────\u001B[0m\n",
      "00:00:08 \u001B[90mv\u001B[0m #16 > > nominal i = ()\n",
      "00:00:08 \u001B[90mv\u001B[0m #17 > > nominal e = ()\n",
      "00:00:08 \u001B[90mv\u001B[0m #18 > > nominal s = ()\n",
      "00:00:08 \u001B[90mv\u001B[0m #19 > > nominal n = ()\n",
      "00:00:08 \u001B[90mv\u001B[0m #20 > > nominal t = ()\n",
      "00:00:08 \u001B[90mv\u001B[0m #21 > > nominal f = ()\n",
      "00:00:08 \u001B[90mv\u001B[0m #22 > > nominal j = ()\n",
      "00:00:08 \u001B[90mv\u001B[0m #23 > > nominal p = ()\n",
      "00:00:08 \u001B[90mv\u001B[0m #24 > >\n",
      "00:00:08 \u001B[90mv\u001B[0m #25 > > union sensing =\n",
      "00:00:08 \u001B[90mv\u001B[0m #26 > >     | Si : s * i\n",
      "00:00:08 \u001B[90mv\u001B[0m #27 > >     | Se : s * e\n",
      "00:00:08 \u001B[90mv\u001B[0m #28 > >\n",
      "00:00:08 \u001B[90mv\u001B[0m #29 > > union intuition =\n",
      "00:00:08 \u001B[90mv\u001B[0m #30 > >     | Ni : n * i\n",
      "00:00:08 \u001B[90mv\u001B[0m #31 > >     | Ne : n * e\n",
      "00:00:08 \u001B[90mv\u001B[0m #32 > >\n",
      "00:00:08 \u001B[90mv\u001B[0m #33 > > union thinking =\n",
      "00:00:08 \u001B[90mv\u001B[0m #34 > >     | Ti : t * i\n",
      "00:00:08 \u001B[90mv\u001B[0m #35 > >     | Te : t * e\n",
      "00:00:08 \u001B[90mv\u001B[0m #36 > >\n",
      "00:00:08 \u001B[90mv\u001B[0m #37 > > union feeling =\n",
      "00:00:08 \u001B[90mv\u001B[0m #38 > >     | Fi : f * i\n",
      "00:00:08 \u001B[90mv\u001B[0m #39 > >     | Fe : f * e\n",
      "00:00:08 \u001B[90mv\u001B[0m #40 > >\n",
      "00:00:08 \u001B[90mv\u001B[0m #41 > > union function_stack =\n",
      "00:00:08 \u001B[90mv\u001B[0m #42 > >     | FS : sensing * intuition * thinking * feeling\n",
      "00:00:08 \u001B[90mv\u001B[0m #43 > >\n",
      "00:00:08 \u001B[90mv\u001B[0m #44 > > union personality_type =\n",
      "00:00:08 \u001B[90mv\u001B[0m #45 > >     | ISTJ : i * s * t * j * function_stack\n",
      "00:00:08 \u001B[90mv\u001B[0m #46 > >     | ISFJ : i * s * f * j * function_stack\n",
      "00:00:08 \u001B[90mv\u001B[0m #47 > >     | INFJ : i * n * f * j * function_stack\n",
      "00:00:08 \u001B[90mv\u001B[0m #48 > >     | INTJ : i * n * t * j * function_stack\n",
      "00:00:08 \u001B[90mv\u001B[0m #49 > >     | ISTP : i * s * t * p * function_stack\n",
      "00:00:08 \u001B[90mv\u001B[0m #50 > >     | ISFP : i * s * f * p * function_stack\n",
      "00:00:08 \u001B[90mv\u001B[0m #51 > >     | INFP : i * n * f * p * function_stack\n",
      "00:00:08 \u001B[90mv\u001B[0m #52 > >     | INTP : i * n * t * p * function_stack\n",
      "00:00:08 \u001B[90mv\u001B[0m #53 > >     | ESTP : e * s * t * p * function_stack\n",
      "00:00:08 \u001B[90mv\u001B[0m #54 > >     | ESFP : e * s * f * p * function_stack\n",
      "00:00:08 \u001B[90mv\u001B[0m #55 > >     | ENFP : e * n * f * p * function_stack\n",
      "00:00:08 \u001B[90mv\u001B[0m #56 > >     | ENTP : e * n * t * p * function_stack\n",
      "00:00:08 \u001B[90mv\u001B[0m #57 > >     | ESTJ : e * s * t * j * function_stack\n",
      "00:00:08 \u001B[90mv\u001B[0m #58 > >     | ESFJ : e * s * f * j * function_stack\n",
      "00:00:08 \u001B[90mv\u001B[0m #59 > >     | ENFJ : e * n * f * j * function_stack\n",
      "00:00:08 \u001B[90mv\u001B[0m #60 > >     | ENTJ : e * n * t * j * function_stack\n",
      "00:00:08 \u001B[90mv\u001B[0m #61 > >\n",
      "00:00:08 \u001B[90mv\u001B[0m #62 > >\n",
      "00:00:08 \u001B[90mv\u001B[0m #63 > > inl main () =\n",
      "00:00:08 \u001B[90mv\u001B[0m #64 > >     inl istj_stack = FS ((Si (s, i)), Ne (n, e), (Te (t, e)), (Fi (f, i)))\n",
      "00:00:08 \u001B[90mv\u001B[0m #65 > >     inl istj_personality = ISTJ (i, s, t, j, istj_stack)\n",
      "00:00:08 \u001B[90mv\u001B[0m #66 > >     // inl isfj_stack = FS ((Si (s, i)), Ne (n, e), (Fe (f, e)), (Ti (t, i)))\n",
      "00:00:08 \u001B[90mv\u001B[0m #67 > >     // inl isfj_personality = ISFJ (i, s, f, j, isfj_stack)\n",
      "00:00:08 \u001B[90mv\u001B[0m #68 > >\n",
      "00:00:08 \u001B[90mv\u001B[0m #69 > >     ;[[\n",
      "00:00:08 \u001B[90mv\u001B[0m #70 > >         istj_personality\n",
      "00:00:08 \u001B[90mv\u001B[0m #71 > >     ]]\n",
      "00:00:08 \u001B[90mv\u001B[0m #72 > >     |> fun x => $'$\"%A{!x}\"' : string\n",
      "00:00:08 \u001B[90mv\u001B[0m #73 > >     |> console.write_line\n",
      "00:00:08 \u001B[90mv\u001B[0m #74 > >\n",
      "00:00:08 \u001B[90mv\u001B[0m #75 > > inl main () =\n",
      "00:00:08 \u001B[90mv\u001B[0m #76 > >     $'!main ()' : ()\n",
      "00:00:10 \u001B[90mv\u001B[0m #77 > >\n",
      "00:00:10 \u001B[90mv\u001B[0m #78 > > \u001B[38;5;2m╭─[ 1.35s - stdout ]───────────────────────────────────────────────────────────╮\u001B[0m\n",
      "00:00:10 \u001B[90mv\u001B[0m #79 > > \u001B[38;5;2m│\u001B[0m [|US5_0 (US4_0 (US0_0, US1_1, US2_1, US3_0))|]                               \u001B[38;5;2m│\u001B[0m\n",
      "00:00:10 \u001B[90mv\u001B[0m #80 > > \u001B[38;5;2m│\u001B[0m                                                                              \u001B[38;5;2m│\u001B[0m\n",
      "00:00:10 \u001B[90mv\u001B[0m #81 > > \u001B[38;5;2m╰──────────────────────────────────────────────────────────────────────────────╯\u001B[0m\n",
      "00:00:11 \u001B[90mv\u001B[0m #82 > >\n",
      "00:00:11 \u001B[90mv\u001B[0m #83 > > \u001B[38;5;103m── fsharp ──────────────────────────────────────────────────────────────────────\u001B[0m\n",
      "00:00:11 \u001B[90mv\u001B[0m #84 > > type PhonologicalFeature =\n",
      "00:00:11 \u001B[90mv\u001B[0m #85 > >     | VowelFeature of\n",
      "00:00:11 \u001B[90mv\u001B[0m #86 > >         height: Height\n",
      "00:00:11 \u001B[90mv\u001B[0m #87 > >         * backness: Backness\n",
      "00:00:11 \u001B[90mv\u001B[0m #88 > >         * roundedness: Roundedness\n",
      "00:00:11 \u001B[90mv\u001B[0m #89 > >         * tone: Option<Tone>\n",
      "00:00:11 \u001B[90mv\u001B[0m #90 > >         * stress: Option<Stress>\n",
      "00:00:11 \u001B[90mv\u001B[0m #91 > >         * length: Option<Length>\n",
      "00:00:11 \u001B[90mv\u001B[0m #92 > >     | ConsonantFeature of\n",
      "00:00:11 \u001B[90mv\u001B[0m #93 > >         place: PlaceOfArticulation\n",
      "00:00:11 \u001B[90mv\u001B[0m #94 > >         * manner: MannerOfArticulation\n",
      "00:00:11 \u001B[90mv\u001B[0m #95 > >         * voicing: Voicing\n",
      "00:00:11 \u001B[90mv\u001B[0m #96 > >         * length: Option<Length>\n",
      "00:00:11 \u001B[90mv\u001B[0m #97 > >     | VowelHarmonyFeature\n",
      "00:00:11 \u001B[90mv\u001B[0m #98 > >     | PitchAccentFeature\n",
      "00:00:11 \u001B[90mv\u001B[0m #99 > >\n",
      "00:00:11 \u001B[90mv\u001B[0m #100 > > and Stress = Primary | Secondary\n",
      "00:00:11 \u001B[90mv\u001B[0m #101 > > and Length = Long | Short | HalfLong\n",
      "00:00:11 \u001B[90mv\u001B[0m #102 > >\n",
      "00:00:11 \u001B[90mv\u001B[0m #103 > > and Height =\n",
      "00:00:11 \u001B[90mv\u001B[0m #104 > >     | High | NearHigh | HighMid\n",
      "00:00:11 \u001B[90mv\u001B[0m #105 > >     | Mid | LowMid | NearLow\n",
      "00:00:11 \u001B[90mv\u001B[0m #106 > >     | Low\n",
      "00:00:11 \u001B[90mv\u001B[0m #107 > >\n",
      "00:00:11 \u001B[90mv\u001B[0m #108 > > and Backness = Front | Central | Back\n",
      "00:00:11 \u001B[90mv\u001B[0m #109 > >\n",
      "00:00:11 \u001B[90mv\u001B[0m #110 > > and Roundedness = Rounded | Unrounded\n",
      "00:00:11 \u001B[90mv\u001B[0m #111 > >\n",
      "00:00:11 \u001B[90mv\u001B[0m #112 > > and PlaceOfArticulation =\n",
      "00:00:11 \u001B[90mv\u001B[0m #113 > >     | Bilabial | Labiodental | Dental\n",
      "00:00:11 \u001B[90mv\u001B[0m #114 > >     | Alveolar | Postalveolar | Retroflex\n",
      "00:00:11 \u001B[90mv\u001B[0m #115 > >     | Palatal | Velar | Uvular\n",
      "00:00:11 \u001B[90mv\u001B[0m #116 > >     | Pharyngeal | Epiglottal | Glottal\n",
      "00:00:11 \u001B[90mv\u001B[0m #117 > >\n",
      "00:00:11 \u001B[90mv\u001B[0m #118 > > and MannerOfArticulation =\n",
      "00:00:11 \u001B[90mv\u001B[0m #119 > >     | Plosive | Nasal | Trill\n",
      "00:00:11 \u001B[90mv\u001B[0m #120 > >     | TapOrFlap | Fricative | LateralFricative\n",
      "00:00:11 \u001B[90mv\u001B[0m #121 > >     | Approximant | LateralApproximant\n",
      "00:00:11 \u001B[90mv\u001B[0m #122 > >\n",
      "00:00:11 \u001B[90mv\u001B[0m #123 > > and Voicing = Voiced | Voiceless\n",
      "00:00:11 \u001B[90mv\u001B[0m #124 > >\n",
      "00:00:11 \u001B[90mv\u001B[0m #125 > > and SecondaryArticulation =\n",
      "00:00:11 \u001B[90mv\u001B[0m #126 > >     | Labialization | Palatalization | Velarization\n",
      "00:00:11 \u001B[90mv\u001B[0m #127 > >     | Pharyngealization | Aspiration\n",
      "00:00:11 \u001B[90mv\u001B[0m #128 > >\n",
      "00:00:11 \u001B[90mv\u001B[0m #129 > > and Tone =\n",
      "00:00:11 \u001B[90mv\u001B[0m #130 > >     | LevelTone of int\n",
      "00:00:11 \u001B[90mv\u001B[0m #131 > >     | ContourTone of int list\n",
      "00:00:11 \u001B[90mv\u001B[0m #132 > >\n",
      "00:00:11 \u001B[90mv\u001B[0m #133 > > and MorphologicalFeature =\n",
      "00:00:11 \u001B[90mv\u001B[0m #134 > >     | RootFeature of string\n",
      "00:00:11 \u001B[90mv\u001B[0m #135 > >     | AffixFeature of AffixType * string\n",
      "00:00:11 \u001B[90mv\u001B[0m #136 > >     | IncorporationFeature of string * MorphologicalFeature\n",
      "00:00:11 \u001B[90mv\u001B[0m #137 > >     | NonConcatenativePattern of string * string\n",
      "00:00:11 \u001B[90mv\u001B[0m #138 > >     | AgglutinativeAffixFeature of AgglutinativeAffixType * string\n",
      "00:00:11 \u001B[90mv\u001B[0m #139 > >     | HonorificFeature of HonorificType * string\n",
      "00:00:11 \u001B[90mv\u001B[0m #140 > >\n",
      "00:00:11 \u001B[90mv\u001B[0m #141 > > and AgglutinativeAffixType = Suffix | Prefix\n",
      "00:00:11 \u001B[90mv\u001B[0m #142 > >\n",
      "00:00:11 \u001B[90mv\u001B[0m #143 > > and HonorificType = VerbHonorific | NounHonorific\n",
      "00:00:11 \u001B[90mv\u001B[0m #144 > >\n",
      "00:00:11 \u001B[90mv\u001B[0m #145 > > and AffixType =\n",
      "00:00:11 \u001B[90mv\u001B[0m #146 > >     | Prefix | Suffix | Infix\n",
      "00:00:11 \u001B[90mv\u001B[0m #147 > >     | Circumfix\n",
      "00:00:11 \u001B[90mv\u001B[0m #148 > >\n",
      "00:00:11 \u001B[90mv\u001B[0m #149 > > type SyntacticFeature =\n",
      "00:00:11 \u001B[90mv\u001B[0m #150 > >     | WordFeature of MorphologicalFeature list * LexicalCategory\n",
      "00:00:11 \u001B[90mv\u001B[0m #151 > >     | PhraseFeature of PhraseType * SyntacticFeature list\n",
      "00:00:11 \u001B[90mv\u001B[0m #152 > >     | GrammaticalRelation of GrammaticalRelationType * SyntacticFeature list\n",
      "00:00:11 \u001B[90mv\u001B[0m #153 > >     | SOVOrderFeature\n",
      "00:00:11 \u001B[90mv\u001B[0m #154 > >     | TopicCommentFeature\n",
      "00:00:11 \u001B[90mv\u001B[0m #155 > >\n",
      "00:00:11 \u001B[90mv\u001B[0m #156 > > and GrammaticalRelationType =\n",
      "00:00:11 \u001B[90mv\u001B[0m #157 > >     | Ergative | Absolutive | Nominative\n",
      "00:00:11 \u001B[90mv\u001B[0m #158 > >     | Accusative\n",
      "00:00:11 \u001B[90mv\u001B[0m #159 > >\n",
      "00:00:11 \u001B[90mv\u001B[0m #160 > > and LexicalCategory =\n",
      "00:00:11 \u001B[90mv\u001B[0m #161 > >     | Noun | Verb | Adjective\n",
      "00:00:11 \u001B[90mv\u001B[0m #162 > >     | Adverb | Pronoun | Preposition\n",
      "00:00:11 \u001B[90mv\u001B[0m #163 > >     | Conjunction | Determiner | Interjection\n",
      "00:00:11 \u001B[90mv\u001B[0m #164 > >\n",
      "00:00:11 \u001B[90mv\u001B[0m #165 > > and PhraseType =\n",
      "00:00:11 \u001B[90mv\u001B[0m #166 > >     | NP | VP | AP\n",
      "00:00:11 \u001B[90mv\u001B[0m #167 > >     | PP | CP\n",
      "00:00:11 \u001B[90mv\u001B[0m #168 > >\n",
      "00:00:11 \u001B[90mv\u001B[0m #169 > > and SemanticFeature =\n",
      "00:00:11 \u001B[90mv\u001B[0m #170 > >     | Meaning of string\n",
      "00:00:11 \u001B[90mv\u001B[0m #171 > >     | SemanticRole of SemanticRoleType * SemanticFeature\n",
      "00:00:11 \u001B[90mv\u001B[0m #172 > >\n",
      "00:00:11 \u001B[90mv\u001B[0m #173 > > and SemanticRoleType =\n",
      "00:00:11 \u001B[90mv\u001B[0m #174 > >     | Agent | Patient | Instrument\n",
      "00:00:11 \u001B[90mv\u001B[0m #175 > >     | Location | Time | Cause\n",
      "00:00:11 \u001B[90mv\u001B[0m #176 > >\n",
      "00:00:11 \u001B[90mv\u001B[0m #177 > > and PragmaticFeature =\n",
      "00:00:11 \u001B[90mv\u001B[0m #178 > >     | UseContext of string\n",
      "00:00:11 \u001B[90mv\u001B[0m #179 > >     | PolitenessLevel of Politeness\n",
      "00:00:11 \u001B[90mv\u001B[0m #180 > >     | SpeechAct of SpeechActType\n",
      "00:00:11 \u001B[90mv\u001B[0m #181 > >     | SpeechLevel of SpeechLevelType\n",
      "00:00:11 \u001B[90mv\u001B[0m #182 > >\n",
      "00:00:11 \u001B[90mv\u001B[0m #183 > > and Politeness = Formal | Informal | Neutral\n",
      "00:00:11 \u001B[90mv\u001B[0m #184 > >\n",
      "00:00:11 \u001B[90mv\u001B[0m #185 > > and SpeechActType =\n",
      "00:00:11 \u001B[90mv\u001B[0m #186 > >     | Assertive | Directive | Commissive\n",
      "00:00:11 \u001B[90mv\u001B[0m #187 > >     | Expressive | Declarative\n",
      "00:00:11 \u001B[90mv\u001B[0m #188 > >\n",
      "00:00:11 \u001B[90mv\u001B[0m #189 > > and SpeechLevelType =\n",
      "00:00:11 \u001B[90mv\u001B[0m #190 > >     | FormalHigh | FormalLow | InformalHigh\n",
      "00:00:11 \u001B[90mv\u001B[0m #191 > >     | InformalLow | Neutral\n",
      "00:00:11 \u001B[90mv\u001B[0m #192 > >\n",
      "00:00:11 \u001B[90mv\u001B[0m #193 > > type LinguisticFeature =\n",
      "00:00:11 \u001B[90mv\u001B[0m #194 > >     | Phonological of PhonologicalFeature\n",
      "00:00:11 \u001B[90mv\u001B[0m #195 > >     | Morphological of MorphologicalFeature\n",
      "00:00:11 \u001B[90mv\u001B[0m #196 > >     | Syntactic of SyntacticFeature\n",
      "00:00:11 \u001B[90mv\u001B[0m #197 > >     | Semantic of SemanticFeature\n",
      "00:00:11 \u001B[90mv\u001B[0m #198 > >     | Pragmatic of PragmaticFeature\n",
      "00:00:11 \u001B[90mv\u001B[0m #199 > >\n",
      "00:00:11 \u001B[90mv\u001B[0m #200 > > type LanguageConstruct =\n",
      "00:00:11 \u001B[90mv\u001B[0m #201 > >     | LanguageElement of LinguisticFeature\n",
      "00:00:11 \u001B[90mv\u001B[0m #202 > >     | LanguageStructure of LanguageConstruct list\n",
      "00:00:11 \u001B[90mv\u001B[0m #203 > >     | TranslationElement of TranslationFeature\n",
      "00:00:11 \u001B[90mv\u001B[0m #204 > >\n",
      "00:00:11 \u001B[90mv\u001B[0m #205 > > and TranslationFeature =\n",
      "00:00:11 \u001B[90mv\u001B[0m #206 > >     | LinkedPhonological of PhonologicalFeature * PhonologicalFeature\n",
      "00:00:11 \u001B[90mv\u001B[0m #207 > >     | LinkedMorphological of MorphologicalFeature * MorphologicalFeature\n",
      "00:00:11 \u001B[90mv\u001B[0m #208 > >     | LinkedSyntactic of SyntacticFeature * SyntacticFeature\n",
      "00:00:11 \u001B[90mv\u001B[0m #209 > >     | LinkedSemantic of SemanticFeature * SemanticFeature\n",
      "00:00:11 \u001B[90mv\u001B[0m #210 > >\n",
      "00:00:11 \u001B[90mv\u001B[0m #211 > > type Discourse = DiscourseUnit of LanguageConstruct list\n",
      "00:00:11 \u001B[90mv\u001B[0m #212 > >\n",
      "00:00:11 \u001B[90mv\u001B[0m #213 > > type LanguageModel =\n",
      "00:00:11 \u001B[90mv\u001B[0m #214 > >     | Model of discourse: Discourse\n",
      "00:00:11 \u001B[90mv\u001B[0m #215 > >\n",
      "00:00:11 \u001B[90mv\u001B[0m #216 > > \u001B[38;5;103m── fsharp ──────────────────────────────────────────────────────────────────────\u001B[0m\n",
      "00:00:11 \u001B[90mv\u001B[0m #217 > > let testEnglish =\n",
      "00:00:11 \u001B[90mv\u001B[0m #218 > >     Model(\n",
      "00:00:11 \u001B[90mv\u001B[0m #219 > >         DiscourseUnit [[\n",
      "00:00:11 \u001B[90mv\u001B[0m #220 > >             LanguageElement (Phonological (ConsonantFeature (Alveolar, Nasal,\n",
      "00:00:11 \u001B[90mv\u001B[0m #221 > > Voiced, Some(HalfLong))));\n",
      "00:00:11 \u001B[90mv\u001B[0m #222 > >             LanguageElement (Phonological (VowelFeature (High, Front, Unrounded,\n",
      "00:00:11 \u001B[90mv\u001B[0m #223 > > Some(LevelTone 1), Some(Primary), Some(Short))));\n",
      "00:00:11 \u001B[90mv\u001B[0m #224 > >             LanguageElement (Phonological (VowelFeature (Low, Front, Unrounded,\n",
      "00:00:11 \u001B[90mv\u001B[0m #225 > > Some(LevelTone 2), Some(Secondary), Some(Long))));\n",
      "00:00:11 \u001B[90mv\u001B[0m #226 > >             LanguageElement (Phonological (ConsonantFeature (Velar, Plosive,\n",
      "00:00:11 \u001B[90mv\u001B[0m #227 > > Voiceless, Some(HalfLong))));\n",
      "00:00:11 \u001B[90mv\u001B[0m #228 > >             LanguageElement (Morphological (RootFeature \"I\"));\n",
      "00:00:11 \u001B[90mv\u001B[0m #229 > >             LanguageElement (Morphological (RootFeature \"see\"));\n",
      "00:00:11 \u001B[90mv\u001B[0m #230 > >             LanguageElement (Morphological (RootFeature \"a\"));\n",
      "00:00:11 \u001B[90mv\u001B[0m #231 > >             LanguageElement (Morphological (RootFeature \"cat\"));\n",
      "00:00:11 \u001B[90mv\u001B[0m #232 > >             LanguageElement (Syntactic (PhraseFeature (NP, [[WordFeature\n",
      "00:00:11 \u001B[90mv\u001B[0m #233 > > ([[RootFeature \"I\"]], Pronoun)]])));\n",
      "00:00:11 \u001B[90mv\u001B[0m #234 > >             LanguageElement (Syntactic (PhraseFeature (VP, [[WordFeature\n",
      "00:00:11 \u001B[90mv\u001B[0m #235 > > ([[RootFeature \"see\"]], Verb)]])));\n",
      "00:00:11 \u001B[90mv\u001B[0m #236 > >             LanguageElement (Syntactic (PhraseFeature (NP, [[WordFeature\n",
      "00:00:11 \u001B[90mv\u001B[0m #237 > > ([[RootFeature \"a\"; RootFeature \"cat\"]], Noun)]])));\n",
      "00:00:11 \u001B[90mv\u001B[0m #238 > >             LanguageElement (Semantic (Meaning \"Perception act of a feline by\n",
      "00:00:11 \u001B[90mv\u001B[0m #239 > > the speaker\"));\n",
      "00:00:11 \u001B[90mv\u001B[0m #240 > >             LanguageElement (Pragmatic (UseContext \"Statement of an action being\n",
      "00:00:11 \u001B[90mv\u001B[0m #241 > > observed\"))\n",
      "00:00:11 \u001B[90mv\u001B[0m #242 > >         ]]\n",
      "00:00:11 \u001B[90mv\u001B[0m #243 > >     )\n",
      "00:00:11 \u001B[90mv\u001B[0m #244 > >\n",
      "00:00:11 \u001B[90mv\u001B[0m #245 > > let testPortuguese =\n",
      "00:00:11 \u001B[90mv\u001B[0m #246 > >     Model(\n",
      "00:00:11 \u001B[90mv\u001B[0m #247 > >         DiscourseUnit [[\n",
      "00:00:11 \u001B[90mv\u001B[0m #248 > >             LanguageElement (Phonological (VowelFeature (High, Front, Unrounded,\n",
      "00:00:11 \u001B[90mv\u001B[0m #249 > > Some(LevelTone 1), Some(Primary), Some(Short))));\n",
      "00:00:11 \u001B[90mv\u001B[0m #250 > >             LanguageElement (Phonological (VowelFeature (Low, Front, Unrounded,\n",
      "00:00:11 \u001B[90mv\u001B[0m #251 > > Some(LevelTone 2), Some(Secondary), Some(Long))));\n",
      "00:00:11 \u001B[90mv\u001B[0m #252 > >             LanguageElement (Phonological (VowelFeature (Mid, Back, Rounded,\n",
      "00:00:11 \u001B[90mv\u001B[0m #253 > > Some(LevelTone 3), Some(Primary), Some(Short))));\n",
      "00:00:11 \u001B[90mv\u001B[0m #254 > >             LanguageElement (Phonological (ConsonantFeature (Velar, Plosive,\n",
      "00:00:11 \u001B[90mv\u001B[0m #255 > > Voiceless, Some(HalfLong))));\n",
      "00:00:11 \u001B[90mv\u001B[0m #256 > >             LanguageElement (Morphological (RootFeature \"Eu\"));\n",
      "00:00:11 \u001B[90mv\u001B[0m #257 > >             LanguageElement (Morphological (RootFeature \"ver\" |> ignore;\n",
      "00:00:11 \u001B[90mv\u001B[0m #258 > > AffixFeature (Suffix, \"o\")));\n",
      "00:00:11 \u001B[90mv\u001B[0m #259 > >             LanguageElement (Morphological (RootFeature \"um\"));\n",
      "00:00:11 \u001B[90mv\u001B[0m #260 > >             LanguageElement (Morphological (RootFeature \"gato\"));\n",
      "00:00:11 \u001B[90mv\u001B[0m #261 > >             LanguageElement (Syntactic (PhraseFeature (NP, [[WordFeature\n",
      "00:00:11 \u001B[90mv\u001B[0m #262 > > ([[RootFeature \"Eu\"]], Pronoun)]])));\n",
      "00:00:11 \u001B[90mv\u001B[0m #263 > >             LanguageElement (Syntactic (PhraseFeature (VP, [[WordFeature\n",
      "00:00:11 \u001B[90mv\u001B[0m #264 > > ([[RootFeature \"vejo\"]], Verb)]])));\n",
      "00:00:11 \u001B[90mv\u001B[0m #265 > >             LanguageElement (Syntactic (PhraseFeature (NP, [[WordFeature\n",
      "00:00:11 \u001B[90mv\u001B[0m #266 > > ([[RootFeature \"um\"; RootFeature \"gato\"]], Noun)]])));\n",
      "00:00:11 \u001B[90mv\u001B[0m #267 > >             LanguageElement (Semantic (Meaning \"Ação de percepção de um felino\n",
      "00:00:11 \u001B[90mv\u001B[0m #268 > > pelo falante\"));\n",
      "00:00:11 \u001B[90mv\u001B[0m #269 > >             LanguageElement (Pragmatic (UseContext \"Declaração de uma ação sendo\n",
      "00:00:11 \u001B[90mv\u001B[0m #270 > > observada\"))\n",
      "00:00:11 \u001B[90mv\u001B[0m #271 > >         ]]\n",
      "00:00:11 \u001B[90mv\u001B[0m #272 > >     )\n",
      "00:00:11 \u001B[90mv\u001B[0m #273 > >\n",
      "00:00:11 \u001B[90mv\u001B[0m #274 > > let testKorean =\n",
      "00:00:11 \u001B[90mv\u001B[0m #275 > >     Model(\n",
      "00:00:11 \u001B[90mv\u001B[0m #276 > >         DiscourseUnit [[\n",
      "00:00:11 \u001B[90mv\u001B[0m #277 > >             LanguageElement (Phonological (ConsonantFeature (Alveolar, Nasal,\n",
      "00:00:11 \u001B[90mv\u001B[0m #278 > > Voiced, Some(Short))));\n",
      "00:00:11 \u001B[90mv\u001B[0m #279 > >             LanguageElement (Phonological (VowelFeature (High, Back, Rounded,\n",
      "00:00:11 \u001B[90mv\u001B[0m #280 > > None, None, Some(Short))));\n",
      "00:00:11 \u001B[90mv\u001B[0m #281 > >             LanguageElement (Phonological (VowelFeature (Mid, Front, Unrounded,\n",
      "00:00:11 \u001B[90mv\u001B[0m #282 > > None, None, Some(Long))));\n",
      "00:00:11 \u001B[90mv\u001B[0m #283 > >             LanguageElement (Phonological (ConsonantFeature (Bilabial, Plosive,\n",
      "00:00:11 \u001B[90mv\u001B[0m #284 > > Voiceless, Some(Short))));\n",
      "00:00:11 \u001B[90mv\u001B[0m #285 > >             LanguageElement (Morphological (RootFeature \"나\"));\n",
      "00:00:11 \u001B[90mv\u001B[0m #286 > >             LanguageElement (Morphological (RootFeature \"보다\"));\n",
      "00:00:11 \u001B[90mv\u001B[0m #287 > >             LanguageElement (Morphological (AffixFeature (Suffix, \"아\")));\n",
      "00:00:11 \u001B[90mv\u001B[0m #288 > >             LanguageElement (Morphological (RootFeature \"고양이\"));\n",
      "00:00:11 \u001B[90mv\u001B[0m #289 > >             LanguageElement (Syntactic (PhraseFeature (NP, [[WordFeature\n",
      "00:00:11 \u001B[90mv\u001B[0m #290 > > ([[RootFeature \"나\"]], Pronoun)]])));\n",
      "00:00:11 \u001B[90mv\u001B[0m #291 > >             LanguageElement (Syntactic (PhraseFeature (VP, [[WordFeature\n",
      "00:00:11 \u001B[90mv\u001B[0m #292 > > ([[RootFeature \"보다\"; AffixFeature (Suffix, \"아\")]], Verb)]])));\n",
      "00:00:11 \u001B[90mv\u001B[0m #293 > >             LanguageElement (Syntactic (PhraseFeature (NP, [[WordFeature\n",
      "00:00:11 \u001B[90mv\u001B[0m #294 > > ([[RootFeature \"고양이\"]], Noun)]])));\n",
      "00:00:11 \u001B[90mv\u001B[0m #295 > >             LanguageElement (Semantic (Meaning \"화자에 의한 고양이의 관찰\n",
      "00:00:11 \u001B[90mv\u001B[0m #296 > > 행위\"));\n",
      "00:00:11 \u001B[90mv\u001B[0m #297 > >             LanguageElement (Pragmatic (UseContext \"관찰되고 있는 행동의 진술\"))\n",
      "00:00:11 \u001B[90mv\u001B[0m #298 > >         ]]\n",
      "00:00:11 \u001B[90mv\u001B[0m #299 > >     )\n",
      "00:00:11 \u001B[90mv\u001B[0m #300 > >\n",
      "00:00:11 \u001B[90mv\u001B[0m #301 > > \u001B[38;5;103m── markdown ────────────────────────────────────────────────────────────────────\u001B[0m\n",
      "00:00:11 \u001B[90mv\u001B[0m #302 > > \u001B[38;5;103m╭──────────────────────────────────────────────────────────────────────────────╮\u001B[0m\n",
      "00:00:11 \u001B[90mv\u001B[0m #303 > > \u001B[38;5;103m│\u001B[0m ## main                                                                      \u001B[38;5;103m│\u001B[0m\n",
      "00:00:11 \u001B[90mv\u001B[0m #304 > > \u001B[38;5;103m╰──────────────────────────────────────────────────────────────────────────────╯\u001B[0m\n",
      "00:00:11 \u001B[90mv\u001B[0m #305 > >\n",
      "00:00:11 \u001B[90mv\u001B[0m #306 > > \u001B[38;5;103m── spiral ──────────────────────────────────────────────────────────────────────\u001B[0m\n",
      "00:00:11 \u001B[90mv\u001B[0m #307 > > inl main (_args : array_base string) =\n",
      "00:00:11 \u001B[90mv\u001B[0m #308 > >     0i32\n",
      "00:00:11 \u001B[90mv\u001B[0m #309 > >\n",
      "00:00:11 \u001B[90mv\u001B[0m #310 > > inl main () =\n",
      "00:00:11 \u001B[90mv\u001B[0m #311 > >     $'let main args = !main args' : ()\n",
      "00:00:12 \u001B[90mv\u001B[0m #312 > >\n",
      "00:00:12 \u001B[90mv\u001B[0m #313 > > \u001B[38;5;103m── spiral ──────────────────────────────────────────────────────────────────────\u001B[0m\n",
      "00:00:12 \u001B[90mv\u001B[0m #314 > > inl app () =\n",
      "00:00:12 \u001B[90mv\u001B[0m #315 > >     \"test\" |> console.write_line\n",
      "00:00:12 \u001B[90mv\u001B[0m #316 > >     0i32\n",
      "00:00:12 \u001B[90mv\u001B[0m #317 > >\n",
      "00:00:12 \u001B[90mv\u001B[0m #318 > > inl main () =\n",
      "00:00:12 \u001B[90mv\u001B[0m #319 > >     print_static \"<test>\"\n",
      "00:00:12 \u001B[90mv\u001B[0m #320 > >\n",
      "00:00:12 \u001B[90mv\u001B[0m #321 > >     app\n",
      "00:00:12 \u001B[90mv\u001B[0m #322 > >     |> dyn\n",
      "00:00:12 \u001B[90mv\u001B[0m #323 > >     |> ignore\n",
      "00:00:12 \u001B[90mv\u001B[0m #324 > >\n",
      "00:00:12 \u001B[90mv\u001B[0m #325 > >     print_static \"</test>\"\n",
      "00:00:12 \u001B[90mv\u001B[0m #326 > 00:00:11 \u001B[90mv\u001B[39m #3 runtime.execute_with_options / result / { exit_code = 0; std_trace_length = 11263 }\n",
      "00:00:12 \u001B[90mv\u001B[0m #327 > 00:00:11 \u001B[94md\u001B[39m #4 runtime.execute_with_options / { file_name = jupyter; arguments = [\"nbconvert\", \"/home/runner/work/polyglot/polyglot/apps/spiral/temp/test/test.dib.ipynb\", \"--to\", \"html\", \"--HTMLExporter.theme=dark\"]; options = { command = jupyter nbconvert \"/home/runner/work/polyglot/polyglot/apps/spiral/temp/test/test.dib.ipynb\" --to html --HTMLExporter.theme=dark; cancellation_token = None; environment_variables = Array(MutCell([])); on_line = None; stdin = None; trace = true; working_directory = None } }\n",
      "00:00:13 \u001B[90mv\u001B[0m #328 > 00:00:12 \u001B[90mv\u001B[39m #5 ! [NbConvertApp] Converting notebook /home/runner/work/polyglot/polyglot/apps/spiral/temp/test/test.dib.ipynb to html\n",
      "00:00:13 \u001B[90mv\u001B[0m #329 > 00:00:12 \u001B[90mv\u001B[39m #6 ! /opt/hostedtoolcache/Python/3.12.7/x64/lib/python3.12/site-packages/nbformat/__init__.py:96: MissingIDFieldWarning: Cell is missing an id field, this will become a hard error in future nbformat versions. You may want to use `normalize()` on your notebooks before validations (available since nbformat 5.1.4). Previous versions of nbformat are fixing this issue transparently, and will stop doing so in the future.\n",
      "00:00:13 \u001B[90mv\u001B[0m #330 > 00:00:12 \u001B[90mv\u001B[39m #7 !   validate(nb)\n",
      "00:00:13 \u001B[90mv\u001B[0m #331 > 00:00:12 \u001B[90mv\u001B[39m #8 ! /opt/hostedtoolcache/Python/3.12.7/x64/lib/python3.12/site-packages/nbconvert/filters/highlight.py:71: UserWarning: IPython3 lexer unavailable, falling back on Python 3\n",
      "00:00:13 \u001B[90mv\u001B[0m #332 > 00:00:12 \u001B[90mv\u001B[39m #9 !   return _pygments_highlight(\n",
      "00:00:13 \u001B[90mv\u001B[0m #333 > 00:00:13 \u001B[90mv\u001B[39m #10 ! [NbConvertApp] Writing 318991 bytes to /home/runner/work/polyglot/polyglot/apps/spiral/temp/test/test.dib.html\n",
      "00:00:13 \u001B[90mv\u001B[0m #334 > 00:00:13 \u001B[90mv\u001B[39m #11 runtime.execute_with_options / result / { exit_code = 0; std_trace_length = 914 }\n",
      "00:00:13 \u001B[90mv\u001B[0m #335 > 00:00:13 \u001B[94md\u001B[39m #12 spiral_builder.run / dib / jupyter nbconvert / { exit_code = 0; jupyter_result_length = 914 }\n",
      "00:00:13 \u001B[90mv\u001B[0m #336 > 00:00:13 \u001B[94md\u001B[39m #13 runtime.execute_with_options / { file_name = pwsh; arguments = [\"-c\", \"$counter = 1; $path = '/home/runner/work/polyglot/polyglot/apps/spiral/temp/test/test.dib.html'; (Get-Content $path -Raw) -replace '(id=\\\\\\\"cell-id=)[a-fA-F0-9]{8}', { $_.Groups[1].Value + $counter++ } | Set-Content $path\"]; options = { command = pwsh -c \"$counter = 1; $path = '/home/runner/work/polyglot/polyglot/apps/spiral/temp/test/test.dib.html'; (Get-Content $path -Raw) -replace '(id=\\\"cell-id=)[a-fA-F0-9]{8}', { $_.Groups[1].Value + $counter++ } | Set-Content $path\"; cancellation_token = None; environment_variables = Array(MutCell([])); on_line = None; stdin = None; trace = true; working_directory = None } }\n",
      "00:00:14 \u001B[90mv\u001B[0m #337 > 00:00:13 \u001B[90mv\u001B[39m #14 runtime.execute_with_options / result / { exit_code = 0; std_trace_length = 0 }\n",
      "00:00:14 \u001B[90mv\u001B[0m #338 > 00:00:13 \u001B[94md\u001B[39m #15 spiral_builder.run / dib / html cell ids / { exit_code = 0; pwsh_replace_html_result_length = 0 }\n",
      "00:00:14 \u001B[90mv\u001B[0m #339 > 00:00:13 \u001B[94md\u001B[39m #16 spiral_builder.run / dib / { exit_code = 0; result_length = 12236 }\n",
      "00:00:14 \u001B[94md\u001B[0m #340 runtime.execute_with_options_async / { exit_code = 0; output_length = 15637 }\n",
      "00:00:14 \u001B[94md\u001B[0m #1 main / executeCommand / exitCode: 0 / command: ../../../../workspace/target/release/spiral_builder dib --path test.dib --retries 3\n"
     ]
    }
   ],
   "source": [
    "{ . ../../../../apps/spiral/dist/Supervisor$(_exe) --execute-command \"../../../../workspace/target/release/spiral_builder$(_exe) dib --path test.dib --retries 3\" } | Invoke-Block"
   ]
  },
  {
   "cell_type": "markdown",
   "metadata": {},
   "source": [
    "### parse the .dib file into .spi format with dibparser"
   ]
  },
  {
   "cell_type": "code",
   "execution_count": null,
   "metadata": {
    "dotnet_interactive": {
     "language": "pwsh"
    },
    "polyglot_notebook": {
     "kernelName": "pwsh"
    }
   },
   "outputs": [
    {
     "name": "stdout",
     "output_type": "stream",
     "text": [
      "00:00:00 \u001B[94md\u001B[0m #1 writeDibCode / output: Spi / path: test.dib\n",
      "00:00:00 \u001B[94md\u001B[0m #2 parseDibCode / output: Spi / file: test.dib\n"
     ]
    }
   ],
   "source": [
    "{ . ../../../../apps/parser/dist/DibParser$(_exe) test.dib spi } | Invoke-Block"
   ]
  },
  {
   "cell_type": "markdown",
   "metadata": {},
   "source": [
    "### build .fsx file from .spi using supervisor"
   ]
  },
  {
   "cell_type": "code",
   "execution_count": null,
   "metadata": {
    "dotnet_interactive": {
     "language": "pwsh"
    },
    "polyglot_notebook": {
     "kernelName": "pwsh"
    }
   },
   "outputs": [
    {
     "name": "stdout",
     "output_type": "stream",
     "text": [
      "00:00:00 \u001B[90mv\u001B[0m #1 networking.test_port_open / { port = 13806; ex = System.AggregateException: One or more errors occurred. (Connection refused) }\n",
      "00:00:00 \u001B[90mv\u001B[0m #2 networking.test_port_open / { port = 13806; ex = System.AggregateException: One or more errors occurred. (Connection refused) }\n",
      "00:00:00 \u001B[94md\u001B[0m #1 Supervisor.buildFile / takeWhileInclusive / outputContent:\n",
      " / errors: [] / typeErrorCount: 0 / retry: 0 / path: test.spi\n",
      "00:00:00 \u001B[94md\u001B[0m #2 Supervisor.buildFile / AsyncSeq.scan / outputContent:\n",
      " / errors: [] / outputContentResult:  / typeErrorCount: 0 / retry: 0 / error:  / path: test.spi\n",
      "00:00:00 \u001B[94md\u001B[0m #3 Supervisor.buildFile / takeWhileInclusive / outputContent:\n",
      " / errors: [] / typeErrorCount: 0 / retry: 0 / path: test.spi\n",
      "00:00:00 \u001B[90mv\u001B[0m #4 Supervisor.sendJson / port: 13805 / json: {\"FileOpen\":{\"spiText\":\"/// # test (Polyglot)\\nnominal i = ()\\nnominal e = ()\\nnominal s = ()\\nnomin...t\\u003E\\u0022\\n\",\"uri\":\"file:///home/runner/work/polyglot/polyglot/apps/spiral/temp/test/test.spi\"}} / result:\n",
      "00:00:00 \u001B[90mv\u001B[0m #5 Supervisor.sendJson / port: 13805 / json: {\"BuildFile\":{\"backend\":\"Fsharp\",\"uri\":\"file:///home/runner/work/polyglot/polyglot/apps/spiral/temp/test/test.spi\"}} / result:\n",
      "00:00:01 \u001B[94md\u001B[0m #6 Supervisor.buildFile / AsyncSeq.scan / outputContent:\n",
      "let rec closure1 () () : unit =\n",
      "    let v0 : (string -> unit) = System.Console.WriteLine\n",
      "    let v1 : string = \"test\"\n",
      "    v0 v1\n",
      "and closure0 () () : i...t v0 : unit = ()\n",
      "    let v1 : (unit -> unit) = closure1()\n",
      "    let v2 : unit = (fun () -> v1 (); v0) ()\n",
      "    0\n",
      "let v0 : (unit -> int32) = closure0()\n",
      "()\n",
      " / errors: [] / outputContentResult:  / typeErrorCount: 0 / retry: 0 / error:  / path: test.spi\n",
      "00:00:01 \u001B[94md\u001B[0m #7 Supervisor.buildFile / takeWhileInclusive / outputContent:\n",
      "let rec closure1 () () : unit =\n",
      "    let v0 : (string -> unit) = System.Console.WriteLine\n",
      "    let v1 : string = \"test\"\n",
      "    v0 v1\n",
      "and closure0 () () : i...t v0 : unit = ()\n",
      "    let v1 : (unit -> unit) = closure1()\n",
      "    let v2 : unit = (fun () -> v1 (); v0) ()\n",
      "    0\n",
      "let v0 : (unit -> int32) = closure0()\n",
      "()\n",
      " / errors: [] / typeErrorCount: 0 / retry: 0 / path: test.spi\n",
      "00:00:01 \u001B[94md\u001B[0m #8 FileSystem.watchWithFilter / Disposing watch stream / filter: FileName, LastWrite\n"
     ]
    }
   ],
   "source": [
    "{ . ../../../../apps/spiral/dist/Supervisor$(_exe) --build-file test.spi test.fsx } | Invoke-Block"
   ]
  },
  {
   "cell_type": "markdown",
   "metadata": {},
   "source": [
    "## compile and format the project"
   ]
  },
  {
   "cell_type": "markdown",
   "metadata": {},
   "source": [
    "### compile project with fable targeting optimized rust"
   ]
  },
  {
   "cell_type": "code",
   "execution_count": null,
   "metadata": {
    "dotnet_interactive": {
     "language": "pwsh"
    },
    "polyglot_notebook": {
     "kernelName": "pwsh"
    }
   },
   "outputs": [
    {
     "name": "stdout",
     "output_type": "stream",
     "text": [
      "\u001B[37mFable 4.21.0: F# to Rust compiler (status: alpha)\n",
      "\u001B[37m\n",
      "Thanks to the contributor! @inosik\n",
      "\u001B[37mStand with Ukraine! https://standwithukraine.com.ua/\n",
      "\n",
      "\u001B[37mParsing test.fsproj...\n",
      "\u001B[37m.> dotnet restore test.fable-temp.csproj -p:FABLE_COMPILER=true -p:FABLE_COMPILER_4=true -p:FABLE_COMPILER_RUST=true\n",
      "  Determining projects to restore...\n",
      "  Paket version 8.1.0-alpha004+7aa412f49b32de979c3d5acde07e88e6d47c965b\n",
      "  The last full restore is still up to date. Nothing left to do.\n",
      "  Total time taken: 0 milliseconds\n",
      "  Paket version 8.1.0-alpha004+7aa412f49b32de979c3d5acde07e88e6d47c965b\n",
      "  Restoring /home/runner/work/polyglot/polyglot/apps/spiral/temp/test/test.fable-temp.csproj\n",
      "  Starting restore process.\n",
      "  Total time taken: 0 milliseconds\n",
      "  Restored /home/runner/work/polyglot/polyglot/apps/spiral/temp/test/test.fable-temp.csproj (in 257 ms).\n",
      "\u001B[37m.> dotnet restore /home/runner/work/polyglot/polyglot/apps/spiral/temp/test/test.fsproj\n",
      "  Determining projects to restore...\n",
      "  Restored /home/runner/work/polyglot/polyglot/apps/spiral/temp/test/test.fsproj (in 273 ms).\n",
      "\u001B[37mProject and references (1 source files) parsed in 4848ms\n",
      "\n",
      "\u001B[37mStarted Fable compilation...\n",
      "\u001B[37m\n",
      "Fable compilation finished in 1070ms\n",
      "\n",
      "\u001B[33m./test.fsx(11,0): (11,2) warning FABLE: For Rust, support for F# static and module do bindings is disabled by default. It can be enabled with the 'static_do_bindings' feature. Use at your own risk!\n"
     ]
    }
   ],
   "source": [
    "dotnet fable --optimize --lang rs --extension .rs"
   ]
  },
  {
   "cell_type": "markdown",
   "metadata": {},
   "source": [
    "### fix formatting issues in the .rs file using regex and set-content"
   ]
  },
  {
   "cell_type": "code",
   "execution_count": null,
   "metadata": {
    "dotnet_interactive": {
     "language": "pwsh"
    },
    "polyglot_notebook": {
     "kernelName": "pwsh"
    }
   },
   "outputs": [],
   "source": [
    "(Get-Content test.rs) `\n",
    "    -replace [regex]::Escape(\"),);\"), \"));\" `\n",
    "    | FixRust `\n",
    "| Set-Content test.rs"
   ]
  },
  {
   "cell_type": "markdown",
   "metadata": {},
   "source": [
    "### format the rust code using cargo fmt"
   ]
  },
  {
   "cell_type": "code",
   "execution_count": null,
   "metadata": {
    "dotnet_interactive": {
     "language": "pwsh"
    },
    "polyglot_notebook": {
     "kernelName": "pwsh"
    }
   },
   "outputs": [],
   "source": [
    "cargo fmt --"
   ]
  },
  {
   "cell_type": "markdown",
   "metadata": {},
   "source": [
    "## build and test the project"
   ]
  },
  {
   "cell_type": "markdown",
   "metadata": {},
   "source": [
    "### build the project in release mode using nightly rust compiler"
   ]
  },
  {
   "cell_type": "code",
   "execution_count": null,
   "metadata": {
    "dotnet_interactive": {
     "language": "pwsh"
    },
    "polyglot_notebook": {
     "kernelName": "pwsh"
    }
   },
   "outputs": [
    {
     "name": "stdout",
     "output_type": "stream",
     "text": [
      "\u001B[31;1m\u001B[1m\u001B[32m   Compiling\u001B[0m syn v2.0.79\u001B[0m\n",
      "\u001B[31;1m\u001B[1m\u001B[32m   Compiling\u001B[0m linux-raw-sys v0.4.14\u001B[0m\n",
      "\u001B[31;1m\u001B[1m\u001B[32m   Compiling\u001B[0m rand_core v0.6.4\u001B[0m\n",
      "\u001B[31;1m\u001B[1m\u001B[32m   Compiling\u001B[0m num-traits v0.2.19\u001B[0m\n",
      "\u001B[31;1m\u001B[1m\u001B[32m   Compiling\u001B[0m once_cell v1.20.2\u001B[0m\n",
      "\u001B[31;1m\u001B[1m\u001B[32m   Compiling\u001B[0m libm v0.2.8\u001B[0m\n",
      "\u001B[31;1m\u001B[1m\u001B[32m   Compiling\u001B[0m rustix v0.38.37\u001B[0m\n",
      "\u001B[31;1m\u001B[1m\u001B[32m   Compiling\u001B[0m wait-timeout v0.2.0\u001B[0m\n",
      "\u001B[31;1m\u001B[1m\u001B[32m   Compiling\u001B[0m bit-vec v0.6.3\u001B[0m\n",
      "\u001B[31;1m\u001B[1m\u001B[32m   Compiling\u001B[0m quick-error v1.2.3\u001B[0m\n",
      "\u001B[31;1m\u001B[1m\u001B[32m   Compiling\u001B[0m bit-set v0.5.3\u001B[0m\n",
      "\u001B[31;1m\u001B[1m\u001B[32m   Compiling\u001B[0m rand_xorshift v0.3.0\u001B[0m\n",
      "\u001B[31;1m\u001B[1m\u001B[32m   Compiling\u001B[0m memchr v2.7.4\u001B[0m\n",
      "\u001B[31;1m\u001B[1m\u001B[32m   Compiling\u001B[0m unarray v0.1.4\u001B[0m\n",
      "\u001B[31;1m\u001B[1m\u001B[32m   Compiling\u001B[0m nom v7.1.3\u001B[0m\n",
      "\u001B[31;1m\u001B[1m\u001B[32m   Compiling\u001B[0m fable_library_rust v0.1.0 (/home/runner/work/polyglot/polyglot/lib/rust/fable/fable_modules/fable-library-rust)\u001B[0m\n",
      "\u001B[31;1m\u001B[1m\u001B[32m   Compiling\u001B[0m zerocopy-derive v0.7.35\u001B[0m\n",
      "\u001B[31;1m\u001B[1m\u001B[32m   Compiling\u001B[0m tempfile v3.13.0\u001B[0m\n",
      "\u001B[31;1m\u001B[1m\u001B[32m   Compiling\u001B[0m rusty-fork v0.3.0\u001B[0m\n",
      "\u001B[31;1m\u001B[1m\u001B[32m   Compiling\u001B[0m zerocopy v0.7.35\u001B[0m\n",
      "\u001B[31;1m\u001B[1m\u001B[32m   Compiling\u001B[0m thiserror-impl v1.0.64\u001B[0m\n",
      "\u001B[31;1m\u001B[1m\u001B[32m   Compiling\u001B[0m ppv-lite86 v0.2.20\u001B[0m\n",
      "\u001B[31;1m\u001B[1m\u001B[32m   Compiling\u001B[0m rand_chacha v0.3.1\u001B[0m\n",
      "\u001B[31;1m\u001B[1m\u001B[32m   Compiling\u001B[0m thiserror v1.0.64\u001B[0m\n",
      "\u001B[31;1m\u001B[1m\u001B[32m   Compiling\u001B[0m rand v0.8.5\u001B[0m\n",
      "\u001B[31;1m\u001B[1m\u001B[32m   Compiling\u001B[0m proptest v1.5.0\u001B[0m\n",
      "\u001B[31;1m\u001B[1m\u001B[32m   Compiling\u001B[0m spiral_temp_test v0.0.1 (/home/runner/work/polyglot/polyglot/apps/spiral/temp/test)\u001B[0m\n",
      "\u001B[31;1m\u001B[0m\u001B[1m\u001B[33mwarning\u001B[0m\u001B[0m\u001B[1m: struct `Cart` is never constructed\u001B[0m\u001B[0m\n",
      "\u001B[31;1m\u001B[0m  \u001B[0m\u001B[0m\u001B[1m\u001B[38;5;12m--> \u001B[0m\u001B[0m/home/runner/work/polyglot/polyglot/apps/spiral/temp/test/./main.rs:41:8\u001B[0m\u001B[0m\n",
      "\u001B[31;1m\u001B[0m   \u001B[0m\u001B[0m\u001B[1m\u001B[38;5;12m|\u001B[0m\u001B[0m\n",
      "\u001B[31;1m\u001B[0m\u001B[1m\u001B[38;5;12m41\u001B[0m\u001B[0m \u001B[0m\u001B[0m\u001B[1m\u001B[38;5;12m|\u001B[0m\u001B[0m \u001B[0m\u001B[0mstruct Cart {\u001B[0m\u001B[0m\n",
      "\u001B[31;1m\u001B[0m   \u001B[0m\u001B[0m\u001B[1m\u001B[38;5;12m|\u001B[0m\u001B[0m        \u001B[0m\u001B[0m\u001B[1m\u001B[33m^^^^\u001B[0m\u001B[0m\n",
      "\u001B[31;1m\u001B[0m   \u001B[0m\u001B[0m\u001B[1m\u001B[38;5;12m|\u001B[0m\u001B[0m\n",
      "\u001B[31;1m\u001B[0m   \u001B[0m\u001B[0m\u001B[1m\u001B[38;5;12m= \u001B[0m\u001B[0m\u001B[1mnote\u001B[0m\u001B[0m: `#[warn(dead_code)]` on by default\u001B[0m\u001B[0m\n",
      "\u001B[31;1m\u001B[0m\n",
      "\u001B[31;1m\u001B[0m\u001B[1m\u001B[33mwarning\u001B[0m\u001B[0m\u001B[1m: associated items `new`, `add_item`, and `remove_item` are never used\u001B[0m\u001B[0m\n",
      "\u001B[31;1m\u001B[0m  \u001B[0m\u001B[0m\u001B[1m\u001B[38;5;12m--> \u001B[0m\u001B[0m/home/runner/work/polyglot/polyglot/apps/spiral/temp/test/./main.rs:46:8\u001B[0m\u001B[0m\n",
      "\u001B[31;1m\u001B[0m   \u001B[0m\u001B[0m\u001B[1m\u001B[38;5;12m|\u001B[0m\u001B[0m\n",
      "\u001B[31;1m\u001B[0m\u001B[1m\u001B[38;5;12m45\u001B[0m\u001B[0m \u001B[0m\u001B[0m\u001B[1m\u001B[38;5;12m|\u001B[0m\u001B[0m \u001B[0m\u001B[0mimpl Cart {\u001B[0m\u001B[0m\n",
      "\u001B[31;1m\u001B[0m   \u001B[0m\u001B[0m\u001B[1m\u001B[38;5;12m|\u001B[0m\u001B[0m \u001B[0m\u001B[0m\u001B[1m\u001B[38;5;12m---------\u001B[0m\u001B[0m \u001B[0m\u001B[0m\u001B[1m\u001B[38;5;12massociated items in this implementation\u001B[0m\u001B[0m\n",
      "\u001B[31;1m\u001B[0m\u001B[1m\u001B[38;5;12m46\u001B[0m\u001B[0m \u001B[0m\u001B[0m\u001B[1m\u001B[38;5;12m|\u001B[0m\u001B[0m \u001B[0m\u001B[0m    fn new() -> Cart {\u001B[0m\u001B[0m\n",
      "\u001B[31;1m\u001B[0m   \u001B[0m\u001B[0m\u001B[1m\u001B[38;5;12m|\u001B[0m\u001B[0m        \u001B[0m\u001B[0m\u001B[1m\u001B[33m^^^\u001B[0m\u001B[0m\n",
      "\u001B[31;1m\u001B[0m\u001B[1m\u001B[38;5;12m...\u001B[0m\u001B[0m\n",
      "\u001B[31;1m\u001B[0m\u001B[1m\u001B[38;5;12m50\u001B[0m\u001B[0m \u001B[0m\u001B[0m\u001B[1m\u001B[38;5;12m|\u001B[0m\u001B[0m \u001B[0m\u001B[0m    fn add_item(&mut self, item: Item) {\u001B[0m\u001B[0m\n",
      "\u001B[31;1m\u001B[0m   \u001B[0m\u001B[0m\u001B[1m\u001B[38;5;12m|\u001B[0m\u001B[0m        \u001B[0m\u001B[0m\u001B[1m\u001B[33m^^^^^^^^\u001B[0m\u001B[0m\n",
      "\u001B[31;1m\u001B[0m\u001B[1m\u001B[38;5;12m...\u001B[0m\u001B[0m\n",
      "\u001B[31;1m\u001B[0m\u001B[1m\u001B[38;5;12m56\u001B[0m\u001B[0m \u001B[0m\u001B[0m\u001B[1m\u001B[38;5;12m|\u001B[0m\u001B[0m \u001B[0m\u001B[0m    fn remove_item(&mut self, item: &Item) {\u001B[0m\u001B[0m\n",
      "\u001B[31;1m\u001B[0m   \u001B[0m\u001B[0m\u001B[1m\u001B[38;5;12m|\u001B[0m\u001B[0m        \u001B[0m\u001B[0m\u001B[1m\u001B[33m^^^^^^^^^^^\u001B[0m\u001B[0m\n",
      "\u001B[31;1m\u001B[0m\n",
      "\u001B[31;1m\u001B[0m\u001B[1m\u001B[33mwarning\u001B[0m\u001B[0m\u001B[1m: function `parse_comment` is never used\u001B[0m\u001B[0m\n",
      "\u001B[31;1m\u001B[0m   \u001B[0m\u001B[0m\u001B[1m\u001B[38;5;12m--> \u001B[0m\u001B[0m/home/runner/work/polyglot/polyglot/apps/spiral/temp/test/./main.rs:124:4\u001B[0m\u001B[0m\n",
      "\u001B[31;1m\u001B[0m    \u001B[0m\u001B[0m\u001B[1m\u001B[38;5;12m|\u001B[0m\u001B[0m\n",
      "\u001B[31;1m\u001B[0m\u001B[1m\u001B[38;5;12m124\u001B[0m\u001B[0m \u001B[0m\u001B[0m\u001B[1m\u001B[38;5;12m|\u001B[0m\u001B[0m \u001B[0m\u001B[0mfn parse_comment(input: &str) -> IResult<&str, SpiralToken> {\u001B[0m\u001B[0m\n",
      "\u001B[31;1m\u001B[0m    \u001B[0m\u001B[0m\u001B[1m\u001B[38;5;12m|\u001B[0m\u001B[0m    \u001B[0m\u001B[0m\u001B[1m\u001B[33m^^^^^^^^^^^^^\u001B[0m\u001B[0m\n",
      "\u001B[31;1m\u001B[0m\n",
      "\u001B[31;1m\u001B[0m\u001B[1m\u001B[33mwarning\u001B[0m\u001B[0m\u001B[1m: function `parse_string` is never used\u001B[0m\u001B[0m\n",
      "\u001B[31;1m\u001B[0m   \u001B[0m\u001B[0m\u001B[1m\u001B[38;5;12m--> \u001B[0m\u001B[0m/home/runner/work/polyglot/polyglot/apps/spiral/temp/test/./main.rs:130:4\u001B[0m\u001B[0m\n",
      "\u001B[31;1m\u001B[0m    \u001B[0m\u001B[0m\u001B[1m\u001B[38;5;12m|\u001B[0m\u001B[0m\n",
      "\u001B[31;1m\u001B[0m\u001B[1m\u001B[38;5;12m130\u001B[0m\u001B[0m \u001B[0m\u001B[0m\u001B[1m\u001B[38;5;12m|\u001B[0m\u001B[0m \u001B[0m\u001B[0mfn parse_string(input: &str) -> IResult<&str, SpiralToken> {\u001B[0m\u001B[0m\n",
      "\u001B[31;1m\u001B[0m    \u001B[0m\u001B[0m\u001B[1m\u001B[38;5;12m|\u001B[0m\u001B[0m    \u001B[0m\u001B[0m\u001B[1m\u001B[33m^^^^^^^^^^^^\u001B[0m\u001B[0m\n",
      "\u001B[31;1m\u001B[0m\n",
      "\u001B[31;1m\u001B[0m\u001B[1m\u001B[33mwarning\u001B[0m\u001B[0m\u001B[1m: function `parse_identifier` is never used\u001B[0m\u001B[0m\n",
      "\u001B[31;1m\u001B[0m   \u001B[0m\u001B[0m\u001B[1m\u001B[38;5;12m--> \u001B[0m\u001B[0m/home/runner/work/polyglot/polyglot/apps/spiral/temp/test/./main.rs:145:4\u001B[0m\u001B[0m\n",
      "\u001B[31;1m\u001B[0m    \u001B[0m\u001B[0m\u001B[1m\u001B[38;5;12m|\u001B[0m\u001B[0m\n",
      "\u001B[31;1m\u001B[0m\u001B[1m\u001B[38;5;12m145\u001B[0m\u001B[0m \u001B[0m\u001B[0m\u001B[1m\u001B[38;5;12m|\u001B[0m\u001B[0m \u001B[0m\u001B[0mfn parse_identifier(input: &str) -> IResult<&str, SpiralToken> {\u001B[0m\u001B[0m\n",
      "\u001B[31;1m\u001B[0m    \u001B[0m\u001B[0m\u001B[1m\u001B[38;5;12m|\u001B[0m\u001B[0m    \u001B[0m\u001B[0m\u001B[1m\u001B[33m^^^^^^^^^^^^^^^^\u001B[0m\u001B[0m\n",
      "\u001B[31;1m\u001B[0m\n",
      "\u001B[31;1m\u001B[0m\u001B[1m\u001B[33mwarning\u001B[0m\u001B[0m\u001B[1m: function `parse_integer` is never used\u001B[0m\u001B[0m\n",
      "\u001B[31;1m\u001B[0m   \u001B[0m\u001B[0m\u001B[1m\u001B[38;5;12m--> \u001B[0m\u001B[0m/home/runner/work/polyglot/polyglot/apps/spiral/temp/test/./main.rs:157:4\u001B[0m\u001B[0m\n",
      "\u001B[31;1m\u001B[0m    \u001B[0m\u001B[0m\u001B[1m\u001B[38;5;12m|\u001B[0m\u001B[0m\n",
      "\u001B[31;1m\u001B[0m\u001B[1m\u001B[38;5;12m157\u001B[0m\u001B[0m \u001B[0m\u001B[0m\u001B[1m\u001B[38;5;12m|\u001B[0m\u001B[0m \u001B[0m\u001B[0mfn parse_integer(input: &str) -> IResult<&str, SpiralToken> {\u001B[0m\u001B[0m\n",
      "\u001B[31;1m\u001B[0m    \u001B[0m\u001B[0m\u001B[1m\u001B[38;5;12m|\u001B[0m\u001B[0m    \u001B[0m\u001B[0m\u001B[1m\u001B[33m^^^^^^^^^^^^^\u001B[0m\u001B[0m\n",
      "\u001B[31;1m\u001B[0m\n",
      "\u001B[31;1m\u001B[0m\u001B[1m\u001B[33mwarning\u001B[0m\u001B[0m\u001B[1m: function `parse_operator` is never used\u001B[0m\u001B[0m\n",
      "\u001B[31;1m\u001B[0m   \u001B[0m\u001B[0m\u001B[1m\u001B[38;5;12m--> \u001B[0m\u001B[0m/home/runner/work/polyglot/polyglot/apps/spiral/temp/test/./main.rs:165:4\u001B[0m\u001B[0m\n",
      "\u001B[31;1m\u001B[0m    \u001B[0m\u001B[0m\u001B[1m\u001B[38;5;12m|\u001B[0m\u001B[0m\n",
      "\u001B[31;1m\u001B[0m\u001B[1m\u001B[38;5;12m165\u001B[0m\u001B[0m \u001B[0m\u001B[0m\u001B[1m\u001B[38;5;12m|\u001B[0m\u001B[0m \u001B[0m\u001B[0mfn parse_operator(input: &str) -> IResult<&str, SpiralToken> {\u001B[0m\u001B[0m\n",
      "\u001B[31;1m\u001B[0m    \u001B[0m\u001B[0m\u001B[1m\u001B[38;5;12m|\u001B[0m\u001B[0m    \u001B[0m\u001B[0m\u001B[1m\u001B[33m^^^^^^^^^^^^^^\u001B[0m\u001B[0m\n",
      "\u001B[31;1m\u001B[0m\n",
      "\u001B[31;1m\u001B[0m\u001B[1m\u001B[33mwarning\u001B[0m\u001B[0m\u001B[1m: function `parse_token` is never used\u001B[0m\u001B[0m\n",
      "\u001B[31;1m\u001B[0m   \u001B[0m\u001B[0m\u001B[1m\u001B[38;5;12m--> \u001B[0m\u001B[0m/home/runner/work/polyglot/polyglot/apps/spiral/temp/test/./main.rs:170:4\u001B[0m\u001B[0m\n",
      "\u001B[31;1m\u001B[0m    \u001B[0m\u001B[0m\u001B[1m\u001B[38;5;12m|\u001B[0m\u001B[0m\n",
      "\u001B[31;1m\u001B[0m\u001B[1m\u001B[38;5;12m170\u001B[0m\u001B[0m \u001B[0m\u001B[0m\u001B[1m\u001B[38;5;12m|\u001B[0m\u001B[0m \u001B[0m\u001B[0mfn parse_token(input: &str) -> IResult<&str, SpiralToken> {\u001B[0m\u001B[0m\n",
      "\u001B[31;1m\u001B[0m    \u001B[0m\u001B[0m\u001B[1m\u001B[38;5;12m|\u001B[0m\u001B[0m    \u001B[0m\u001B[0m\u001B[1m\u001B[33m^^^^^^^^^^^\u001B[0m\u001B[0m\n",
      "\u001B[31;1m\u001B[0m\n",
      "\u001B[31;1m\u001B[0m\u001B[1m\u001B[33mwarning\u001B[0m\u001B[0m\u001B[1m: function `format_token` is never used\u001B[0m\u001B[0m\n",
      "\u001B[31;1m\u001B[0m   \u001B[0m\u001B[0m\u001B[1m\u001B[38;5;12m--> \u001B[0m\u001B[0m/home/runner/work/polyglot/polyglot/apps/spiral/temp/test/./main.rs:180:4\u001B[0m\u001B[0m\n",
      "\u001B[31;1m\u001B[0m    \u001B[0m\u001B[0m\u001B[1m\u001B[38;5;12m|\u001B[0m\u001B[0m\n",
      "\u001B[31;1m\u001B[0m\u001B[1m\u001B[38;5;12m180\u001B[0m\u001B[0m \u001B[0m\u001B[0m\u001B[1m\u001B[38;5;12m|\u001B[0m\u001B[0m \u001B[0m\u001B[0mfn format_token(token: &SpiralToken) -> String {\u001B[0m\u001B[0m\n",
      "\u001B[31;1m\u001B[0m    \u001B[0m\u001B[0m\u001B[1m\u001B[38;5;12m|\u001B[0m\u001B[0m    \u001B[0m\u001B[0m\u001B[1m\u001B[33m^^^^^^^^^^^^\u001B[0m\u001B[0m\n",
      "\u001B[31;1m\u001B[0m\n",
      "\u001B[31;1m\u001B[0m\u001B[1m\u001B[33mwarning\u001B[0m\u001B[0m\u001B[1m: function `parse_expression` is never used\u001B[0m\u001B[0m\n",
      "\u001B[31;1m\u001B[0m   \u001B[0m\u001B[0m\u001B[1m\u001B[38;5;12m--> \u001B[0m\u001B[0m/home/runner/work/polyglot/polyglot/apps/spiral/temp/test/./main.rs:201:4\u001B[0m\u001B[0m\n",
      "\u001B[31;1m\u001B[0m    \u001B[0m\u001B[0m\u001B[1m\u001B[38;5;12m|\u001B[0m\u001B[0m\n",
      "\u001B[31;1m\u001B[0m\u001B[1m\u001B[38;5;12m201\u001B[0m\u001B[0m \u001B[0m\u001B[0m\u001B[1m\u001B[38;5;12m|\u001B[0m\u001B[0m \u001B[0m\u001B[0mfn parse_expression(input: &str) -> IResult<&str, SpiralToken> {\u001B[0m\u001B[0m\n",
      "\u001B[31;1m\u001B[0m    \u001B[0m\u001B[0m\u001B[1m\u001B[38;5;12m|\u001B[0m\u001B[0m    \u001B[0m\u001B[0m\u001B[1m\u001B[33m^^^^^^^^^^^^^^^^\u001B[0m\u001B[0m\n",
      "\u001B[31;1m\u001B[0m\n",
      "\u001B[31;1m\u001B[1m\u001B[33mwarning\u001B[0m\u001B[1m:\u001B[0m `spiral_temp_test` (bin \"spiral_temp_test\") generated 10 warnings\u001B[0m\n",
      "\u001B[31;1m\u001B[1m\u001B[32m    Finished\u001B[0m `release` profile [optimized] target(s) in 11.53s\u001B[0m\n"
     ]
    }
   ],
   "source": [
    "cargo build --release"
   ]
  },
  {
   "cell_type": "markdown",
   "metadata": {},
   "source": [
    "### run release tests with output enabled"
   ]
  },
  {
   "cell_type": "code",
   "execution_count": null,
   "metadata": {
    "dotnet_interactive": {
     "language": "pwsh"
    },
    "polyglot_notebook": {
     "kernelName": "pwsh"
    }
   },
   "outputs": [
    {
     "name": "stdout",
     "output_type": "stream",
     "text": [
      "\u001B[31;1m\u001B[1m\u001B[32m   Compiling\u001B[0m linux-raw-sys v0.4.14\u001B[0m\n",
      "\u001B[31;1m\u001B[1m\u001B[32m   Compiling\u001B[0m bitflags v2.6.0\u001B[0m\n",
      "\u001B[31;1m\u001B[1m\u001B[32m   Compiling\u001B[0m zerocopy v0.7.35\u001B[0m\n",
      "\u001B[31;1m\u001B[1m\u001B[32m   Compiling\u001B[0m fastrand v2.1.1\u001B[0m\n",
      "\u001B[31;1m\u001B[1m\u001B[32m   Compiling\u001B[0m once_cell v1.20.2\u001B[0m\n",
      "\u001B[31;1m\u001B[1m\u001B[32m   Compiling\u001B[0m wait-timeout v0.2.0\u001B[0m\n",
      "\u001B[31;1m\u001B[1m\u001B[32m   Compiling\u001B[0m bit-vec v0.6.3\u001B[0m\n",
      "\u001B[31;1m\u001B[1m\u001B[32m   Compiling\u001B[0m rustix v0.38.37\u001B[0m\n",
      "\u001B[31;1m\u001B[1m\u001B[32m   Compiling\u001B[0m quick-error v1.2.3\u001B[0m\n",
      "\u001B[31;1m\u001B[1m\u001B[32m   Compiling\u001B[0m fnv v1.0.7\u001B[0m\n",
      "\u001B[31;1m\u001B[1m\u001B[32m   Compiling\u001B[0m bit-set v0.5.3\u001B[0m\n",
      "\u001B[31;1m\u001B[1m\u001B[32m   Compiling\u001B[0m num-traits v0.2.19\u001B[0m\n",
      "\u001B[31;1m\u001B[1m\u001B[32m   Compiling\u001B[0m ppv-lite86 v0.2.20\u001B[0m\n",
      "\u001B[31;1m\u001B[1m\u001B[32m   Compiling\u001B[0m rand_xorshift v0.3.0\u001B[0m\n",
      "\u001B[31;1m\u001B[1m\u001B[32m   Compiling\u001B[0m unarray v0.1.4\u001B[0m\n",
      "\u001B[31;1m\u001B[1m\u001B[32m   Compiling\u001B[0m memchr v2.7.4\u001B[0m\n",
      "\u001B[31;1m\u001B[1m\u001B[32m   Compiling\u001B[0m rand_chacha v0.3.1\u001B[0m\n",
      "\u001B[31;1m\u001B[1m\u001B[32m   Compiling\u001B[0m rand v0.8.5\u001B[0m\n",
      "\u001B[31;1m\u001B[1m\u001B[32m   Compiling\u001B[0m minimal-lexical v0.2.1\u001B[0m\n",
      "\u001B[31;1m\u001B[1m\u001B[32m   Compiling\u001B[0m lazy_static v1.5.0\u001B[0m\n",
      "\u001B[31;1m\u001B[1m\u001B[32m   Compiling\u001B[0m fable_library_rust v0.1.0 (/home/runner/work/polyglot/polyglot/lib/rust/fable/fable_modules/fable-library-rust)\u001B[0m\n",
      "\u001B[31;1m\u001B[1m\u001B[32m   Compiling\u001B[0m nom v7.1.3\u001B[0m\n",
      "\u001B[31;1m\u001B[1m\u001B[32m   Compiling\u001B[0m thiserror v1.0.64\u001B[0m\n",
      "\u001B[31;1m\u001B[1m\u001B[32m   Compiling\u001B[0m tempfile v3.13.0\u001B[0m\n",
      "\u001B[31;1m\u001B[1m\u001B[32m   Compiling\u001B[0m rusty-fork v0.3.0\u001B[0m\n",
      "\u001B[31;1m\u001B[1m\u001B[32m   Compiling\u001B[0m proptest v1.5.0\u001B[0m\n",
      "\u001B[31;1m\u001B[1m\u001B[32m   Compiling\u001B[0m spiral_temp_test v0.0.1 (/home/runner/work/polyglot/polyglot/apps/spiral/temp/test)\u001B[0m\n",
      "\u001B[31;1m\u001B[1m\u001B[32m    Finished\u001B[0m `release` profile [optimized] target(s) in 16.09s\u001B[0m\n",
      "\u001B[31;1m\u001B[1m\u001B[32m     Running\u001B[0m unittests main.rs (/home/runner/work/polyglot/polyglot/workspace/target/release/deps/spiral_temp_test-14bb6dec0267d27e)\u001B[0m\n",
      "\n",
      "running 3 tests\n",
      "test test_parse_number ... ok\n",
      "test prop_parse_format_idempotent ... ok\n",
      "test adding_and_then_removing_an_item_from_the_cart_leaves_the_cart_unchanged ... ok\n",
      "\n",
      "successes:\n",
      "\n",
      "---- prop_parse_format_idempotent stdout ----\n",
      "input=Identifier(\"PziIelKkZLKj53j85LMqhrLmdD\")\n",
      "input=StringLiteral(\"v0\")\n",
      "input=Operator(\"+\")\n",
      "input=Operator(\"(\")\n",
      "input=Operator(\"(\")\n",
      "input=StringLiteral(\"L#A=(sf.tH<.*J{(@/p\")\n",
      "input=Operator(\"*\")\n",
      "input=Identifier(\"pbI4FgNMxDsP8NrArpA\")\n",
      "input=Operator(\"/\")\n",
      "input=Integer(-5478316305832185447)\n",
      "input=StringLiteral(\"tT.'./XRu(4=w#\")\n",
      "input=Integer(8692564945639739818)\n",
      "input=Comment(\"UA.~.O*j!yLNi`=c#:`X{e/A\")\n",
      "input=Identifier(\"ivFoBpQhn6bGJ0wxK4\")\n",
      "input=Identifier(\"JbfLYph9mr82\")\n",
      "input=StringLiteral(\"8cprXy*BrN`/u) &9/*'+U=/B:`Q\")\n",
      "input=Integer(3170583819342074680)\n",
      "input=Comment(\"Rh'.\\\"$b=CE>&)IQjE.(;Nehk&3#&\")\n",
      "input=Operator(\"+\")\n",
      "input=Identifier(\"qmn7BtFyX\")\n",
      "input=Comment(\"U=1^kJ>|)-{1%n &/|J!6.$?&N+s\")\n",
      "input=StringLiteral(\"\")\n",
      "input=Integer(2141947547351741465)\n",
      "input=Identifier(\"lT\")\n",
      "input=Identifier(\"c1A6qk\")\n",
      "input=Operator(\"+\")\n",
      "input=Identifier(\"Kp30DXGU409c6B8x2DqLxjm47n1pPL\")\n",
      "input=Comment(\"tR?\")\n",
      "input=Integer(294528429850566007)\n",
      "input=Operator(\"(\")\n",
      "input=Identifier(\"MZD6a1ce6E9I\")\n",
      "input=Comment(\"`D$L)'unw#x({q\")\n",
      "input=StringLiteral(\"Z\")\n",
      "input=StringLiteral(\"n$u3y:%?.@M?D:w{O\")\n",
      "input=Integer(6518146959318073367)\n",
      "input=Comment(\",.&n*$p?7?:\\\\`&=&\\\\!R%LW\")\n",
      "input=Comment(\"aZ*&`V'*Z\")\n",
      "input=Identifier(\"uqe05Tf\")\n",
      "input=Comment(\"/12&/&\\\"WLIn]y{l'{yw0@\")\n",
      "input=Integer(2852882922788690936)\n",
      "input=StringLiteral(\"Tu)`Z|'<RwLK`$L/8=hU3?\")\n",
      "input=Comment(\"\\\"N\")\n",
      "input=Comment(\"f%\")\n",
      "input=StringLiteral(\"6bo<Y*c]<?Qp PT3<|ct\")\n",
      "input=Identifier(\"XIXQcSCETR9RZM73FNsC9Bv\")\n",
      "input=Comment(\"x?J1{3`1N@m]f:`\\\"Dk%-u.b;4>:UuB%\")\n",
      "input=Integer(-6576141777584346)\n",
      "input=Integer(184584218574810550)\n",
      "input=Operator(\"-\")\n",
      "input=Comment(\"i\\\"*M}c$%*`9V,*D@h\\\\w(by\\\"tK-dP#K:v\")\n",
      "input=Operator(\"/\")\n",
      "input=Comment(\":CQh[E'Fz`L\\\"m'BHKAT:%.T&kY#ys\")\n",
      "input=Operator(\")\")\n",
      "input=Identifier(\"Qy1ns0Kw8t9l7ejv1f3Yh2\")\n",
      "input=Operator(\"-\")\n",
      "input=Operator(\"=\")\n",
      "input=StringLiteral(\"\")\n",
      "input=StringLiteral(\"}vS\")\n",
      "input=Integer(2347171366377846292)\n",
      "input=Comment(\"@K'+M:ETm{Yd\\\"\\\"peED$?v<i6\\\"\\\"%c\")\n",
      "input=Integer(7387069936365776555)\n",
      "input=StringLiteral(\"u={o%g\")\n",
      "input=StringLiteral(\"XX$,NzzsSy7TO>*:q\")\n",
      "input=Integer(-2489957339687317086)\n",
      "input=Operator(\"-\")\n",
      "input=StringLiteral(\"n{\")\n",
      "input=Comment(\"3'%b\\\"%{so/7\\\\N\")\n",
      "input=Integer(1102208294530081171)\n",
      "input=StringLiteral(\"*B0L$G=TdP#?`.*m\")\n",
      "input=Comment(\"$Gopa=aZ]\")\n",
      "input=StringLiteral(\"M(&WakGWial:U)*M<nkPu#:>*=}.p\")\n",
      "input=Identifier(\"j93zV1C05L\")\n",
      "input=Comment(\"KS\\\\~jQ{?<;F?\")\n",
      "input=Comment(\"/6&L/Oo&P'\")\n",
      "input=Comment(\"\\\"\")\n",
      "input=Operator(\"=\")\n",
      "input=Integer(-2268341046218843563)\n",
      "input=StringLiteral(\"9hl7]+H.3E@$c\")\n",
      "input=StringLiteral(\"EBO'2ef?:xLbDp{=*%'{Q?+8(:PT\")\n",
      "input=Operator(\"(\")\n",
      "input=Integer(406578598169303136)\n",
      "input=Identifier(\"ox0GF6N4QstPAQ7z67kI\")\n",
      "input=StringLiteral(\"L/`$)t*1]\")\n",
      "input=Comment(\"{vY;Q^,'/WCyX~4;$;c~*h_&?o'.T\")\n",
      "input=Operator(\"-\")\n",
      "input=Identifier(\"a53q2l10GCBayTIwd9eWgAo3u81BnGb\")\n",
      "input=StringLiteral(\"k3`a[w%;.'F*Z%`|}{d8.QRp&.\")\n",
      "input=Integer(-973018849309415908)\n",
      "input=Integer(3370076167562162168)\n",
      "input=Comment(\"*9/\")\n",
      "input=Identifier(\"C4DxZWvQazg1aP92B1cDZjGQ9bQjC\")\n",
      "input=Integer(5611808751663231753)\n",
      "input=Integer(-940165071305414502)\n",
      "input=Comment(\"{`T{Q\")\n",
      "input=Integer(-139588963316227779)\n",
      "input=Comment(\"l/5{?\")\n",
      "input=Identifier(\"D3\")\n",
      "input=Comment(\"3m?\\\\=CI%/#<Vrp\\\"i<%/^Y7%<*+#%g<Z:\")\n",
      "input=Identifier(\"X6sBhv8D\")\n",
      "input=Integer(-2013869351510648388)\n",
      "input=Integer(7119843698941500637)\n",
      "input=StringLiteral(\")8'O]&I*$GO:k6uqI1Cpu0N'\")\n",
      "input=Identifier(\"M8jgaJHN6W3dF06O\")\n",
      "input=Integer(4393045966361884043)\n",
      "input=Operator(\"+\")\n",
      "input=Comment(\"lHL<`:$U/](>'p.g8?:d\\\\J'\\\"\")\n",
      "input=Comment(\"x4OB=o\")\n",
      "input=Integer(-708511958931296413)\n",
      "input=StringLiteral(\"V2miR{^?-<!|aC}<T[0AJlj $$6c\")\n",
      "input=Identifier(\"l1FgLOfJXf81b9rWWBhoWAhbDRq4721v5\")\n",
      "input=Integer(-381663803056800105)\n",
      "input=Operator(\"*\")\n",
      "input=Identifier(\"tRy235ka\")\n",
      "input=Comment(\"<\\\"J$$;OwR\")\n",
      "input=Identifier(\"oY8weCx2Yh04NS9ui9KLYuceS4dKq\")\n",
      "input=Identifier(\"YBJtEdcU6UyfyjqKmppqYnirbxE8gMj\")\n",
      "input=Identifier(\"JuAmnE4\")\n",
      "input=Integer(692880776017297927)\n",
      "input=Comment(\".slcbX{{\")\n",
      "input=Operator(\"=\")\n",
      "input=StringLiteral(\"G60F#M7$'\")\n",
      "input=Comment(\"lo$^'K:Fv/|:<\")\n",
      "input=Comment(\"la''kf1}\\\\$&i$' \\\\]$$&f\\\"%\")\n",
      "input=Integer(-6599371345697961042)\n",
      "input=Comment(\"?fYz;\\\\F&/&`4$.C\")\n",
      "input=Integer(2738375347282828910)\n",
      "input=Identifier(\"o227v8Y0T70G8sgW2081\")\n",
      "input=Operator(\"-\")\n",
      "input=Operator(\")\")\n",
      "input=Comment(\".F^\\\\3:dl:(,b+F/il=Gs3&y\")\n",
      "input=Integer(4514613659152309333)\n",
      "input=Operator(\"*\")\n",
      "input=Integer(5877964783881560830)\n",
      "input=Integer(1220679241776072513)\n",
      "input=Operator(\"+\")\n",
      "input=Identifier(\"FI6EnI2w4jWthx70As7937k\")\n",
      "input=StringLiteral(\"nu|!s/=aa\")\n",
      "input=Operator(\"-\")\n",
      "input=StringLiteral(\"\")\n",
      "input=Operator(\"/\")\n",
      "input=Integer(-7167520927209351666)\n",
      "input=StringLiteral(\"q/{(X*iD*|D[$)p~Ta+}Q'.oy\")\n",
      "input=Identifier(\"FIK9y6s3LagCHkRfodC4yEKto6lP09\")\n",
      "input=Comment(\"Bc{ox$p{z$hKtX@\\\\.\\\"0]&~\")\n",
      "input=Identifier(\"An66DgvIulLD53zzr\")\n",
      "input=Comment(\"Z s{k4/Osi%hn&`i91#x/<\")\n",
      "input=StringLiteral(\"<^w9%#sGt$w$BB{!`l4a(:BA.=/Q4\")\n",
      "input=StringLiteral(\"`:MO#@}h}%?oO<i3&Oy=Bp\")\n",
      "input=Comment(\"#/VR??6Ti\\\"'`\\\"c30e$cV\")\n",
      "input=Comment(\"l<.l%56K/K3d:*Dc=+n<46==\")\n",
      "input=StringLiteral(\"w`$F?h>uHots|*$?.1/;':(^#;3\")\n",
      "input=Comment(\"A*V?2 GX'>N,&Bf\")\n",
      "input=Identifier(\"ZBc4mq6mahthJd2m53\")\n",
      "input=Comment(\"fkL\")\n",
      "input=Identifier(\"W8rlK9Szv44nUX6Dp\")\n",
      "input=StringLiteral(\"PZ%1hBO=$1B(W+/:0OS&/8\")\n",
      "input=StringLiteral(\"1*^eE>c'r='Lz>3gv&;b-=<%}w*&.m\")\n",
      "input=StringLiteral(\"_:=F<pV=-v6p28@.}XV*$*F7.w?G;{_\")\n",
      "input=StringLiteral(\"sc0pu%=Y.U8a~U?W{?C0vU:<+<>2`Al\")\n",
      "input=StringLiteral(\"`'F\")\n",
      "input=StringLiteral(\"&j2aQ\")\n",
      "input=StringLiteral(\"` Lco-\")\n",
      "input=Comment(\"\\\"-V\")\n",
      "input=StringLiteral(\"l</?lz$=<!$1Oa(2/-ya>Ay''i/:[\")\n",
      "input=Integer(5165468947184769047)\n",
      "input=Operator(\"/\")\n",
      "input=Identifier(\"cMiYKmE3qyzO\")\n",
      "input=Operator(\")\")\n",
      "input=Integer(-2290055855881989317)\n",
      "input=Comment(\"'@?\")\n",
      "input=StringLiteral(\"z/ZP-{p%c'\")\n",
      "input=Identifier(\"xb6GQ\")\n",
      "input=Comment(\"c?TVod.\")\n",
      "input=Identifier(\"C\")\n",
      "input=Integer(2899761979519003347)\n",
      "input=Operator(\"-\")\n",
      "input=StringLiteral(\"~KBSzeV-C<vh=zHy/4WZe&]Kn,\")\n",
      "input=StringLiteral(\"B$-U.Z%s*e{_mumkQ.\")\n",
      "input=Identifier(\"MpL8xaYCbrQmnjys07N77SzFOIIyf\")\n",
      "input=Operator(\"=\")\n",
      "input=Identifier(\"HiUsCPwxGDmG\")\n",
      "input=Operator(\"+\")\n",
      "input=Operator(\"*\")\n",
      "input=Identifier(\"nsPL\")\n",
      "input=Comment(\"3%`z&Z)$q$\")\n",
      "input=Identifier(\"JiMl82tOL7Q36xGweyJg47RvZ3GD\")\n",
      "input=Comment(\"t?]$p065WI5Xw{NG}\\\\Nv6:tG{4p|\\\\?:\")\n",
      "input=Comment(\"\")\n",
      "input=Identifier(\"bsh56Q4nMI1t5\")\n",
      "input=Operator(\"*\")\n",
      "input=Operator(\"(\")\n",
      "input=Identifier(\"C14J\")\n",
      "input=Comment(\"Ou6</+A%(T_%\\\\`8$SD$],ka:2)/'/S\")\n",
      "input=Comment(\"$'`.5lDO/='D1?Mu|6z*.KJ\")\n",
      "input=Identifier(\"vH9Nf1gDZXxK9V7EAbAqBv0S\")\n",
      "input=Comment(\"ZL<\")\n",
      "input=Comment(\"9?Y8^.\")\n",
      "input=Operator(\"/\")\n",
      "input=Integer(75644181100013590)\n",
      "input=Comment(\"}^{]`cz<kVEs/=<\")\n",
      "input=StringLiteral(\"<b{rs9=/URG,oz:HsCjW*}b8:f0&u\")\n",
      "input=Operator(\")\")\n",
      "input=Operator(\"-\")\n",
      "input=Operator(\"/\")\n",
      "input=Identifier(\"QvLkmx0XeTTEPtK2e\")\n",
      "input=Comment(\":\")\n",
      "input=Operator(\")\")\n",
      "input=Operator(\"/\")\n",
      "input=StringLiteral(\"`?<52/KNOamS]r%{?J%l~;%V?NN1N3a\")\n",
      "input=Comment(\"wWI\")\n",
      "input=StringLiteral(\"VD3\")\n",
      "input=Operator(\"=\")\n",
      "input=Comment(\"u34{=B#+'/~.9\")\n",
      "input=Comment(\"ic/d-bt`\")\n",
      "input=Operator(\"-\")\n",
      "input=Operator(\"/\")\n",
      "input=Identifier(\"j6Qw0WJiWJFr0Lh48\")\n",
      "input=Comment(\"{\\\"&?'kb{=D@.=4p%6Vvg:C\")\n",
      "input=Identifier(\"yYU7P2kTww712lZyZ2c3hQo1Zc1V\")\n",
      "input=Operator(\"=\")\n",
      "input=Integer(3527890007213848933)\n",
      "input=StringLiteral(\"w \")\n",
      "input=Integer(-7745030071205390096)\n",
      "input=Identifier(\"GYi0hQWal6Oi7EdGqQIb6diSgJ\")\n",
      "input=Identifier(\"gQani11itQWCT\")\n",
      "input=Operator(\"=\")\n",
      "input=Identifier(\"eaxKJ0hjIf4NxJFDL52LaJUQE\")\n",
      "input=StringLiteral(\"0Kvp`<<)2\")\n",
      "input=Integer(-3040156196816320740)\n",
      "input=Operator(\"(\")\n",
      "input=Comment(\"DS5&e_\")\n",
      "input=Integer(8515183903244467108)\n",
      "input=StringLiteral(\"$(yObR%x\")\n",
      "input=Comment(\"1GK\\\\6@ =5O\")\n",
      "input=Comment(\"\\\"8\\\\%4({) \\\\\")\n",
      "input=Integer(5726825146560544338)\n",
      "input=Integer(6352867484064793930)\n",
      "input=StringLiteral(\"SkP*'?{'N*[`{KL'4-EpfhQ.qdW\")\n",
      "input=Identifier(\"c601n8H\")\n",
      "input=Comment(\"/Y7cgCN31#$'w?1Dw?^6n?%\")\n",
      "input=StringLiteral(\",.Ff.n&%*+k<pfQ~[zbJ$-f\")\n",
      "input=Comment(\">CxD'&7.&@(O?{|_n\\\"/k{:%?v\\\"6.?.\")\n",
      "input=Identifier(\"BMge5614hUB51fBl9\")\n",
      "input=StringLiteral(\"yvG_/f@%{*?*\")\n",
      "input=Integer(5263115065266620367)\n",
      "input=Integer(5979474950163750556)\n",
      "input=Integer(993932016265561208)\n",
      "input=Operator(\"*\")\n",
      "input=Identifier(\"KoYOjFnG3XZPk05mnff7yu45Y0ksN4N\")\n",
      "input=Identifier(\"LV5e46X44NRH712akI3Ylm93Tj\")\n",
      "input=Integer(-8811057330527764239)\n",
      "input=StringLiteral(\"?-V/jIAki/n2b2<+>MQ9il:n?\")\n",
      "input=Integer(6970701832136167056)\n",
      "input=StringLiteral(\"zs`W.qEt;*8e${[`}[/&<<<\")\n",
      "input=Comment(\"{(//bL'R~nC\")\n",
      "input=StringLiteral(\"~U=`%Cb-*\")\n",
      "\n",
      "\n",
      "successes:\n",
      "    adding_and_then_removing_an_item_from_the_cart_leaves_the_cart_unchanged\n",
      "    prop_parse_format_idempotent\n",
      "    test_parse_number\n",
      "\n",
      "test result: ok. 3 passed; 0 failed; 0 ignored; 0 measured; 0 filtered out; finished in 0.07s\n",
      "\n"
     ]
    }
   ],
   "source": [
    "{ cargo test --release -- --show-output } | Invoke-Block"
   ]
  },
  {
   "cell_type": "markdown",
   "metadata": {},
   "source": [
    "### execute the binary in release mode"
   ]
  },
  {
   "cell_type": "code",
   "execution_count": null,
   "metadata": {
    "dotnet_interactive": {
     "language": "pwsh"
    },
    "polyglot_notebook": {
     "kernelName": "pwsh"
    }
   },
   "outputs": [
    {
     "name": "stdout",
     "output_type": "stream",
     "text": [
      "app=test\n"
     ]
    }
   ],
   "source": [
    "{ . $ScriptDir/../../../../workspace/target/release/spiral_temp_test$(_exe) } | Invoke-Block"
   ]
  }
 ],
 "metadata": {},
 "nbformat": 4,
 "nbformat_minor": 5
}