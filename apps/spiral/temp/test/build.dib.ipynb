{
 "cells": [
  {
   "cell_type": "markdown",
   "metadata": {},
   "source": [
    "# test"
   ]
  },
  {
   "cell_type": "markdown",
   "metadata": {},
   "source": [
    "## include scripts"
   ]
  },
  {
   "cell_type": "markdown",
   "metadata": {},
   "source": [
    "### include notebook core"
   ]
  },
  {
   "cell_type": "code",
   "execution_count": null,
   "metadata": {
    "dotnet_interactive": {
     "language": "pwsh"
    },
    "polyglot_notebook": {
     "kernelName": "pwsh"
    }
   },
   "outputs": [],
   "source": [
    ". ../../../../scripts/nbs_header.ps1"
   ]
  },
  {
   "cell_type": "markdown",
   "metadata": {},
   "source": [
    "### Include core functions script"
   ]
  },
  {
   "cell_type": "code",
   "execution_count": null,
   "metadata": {
    "dotnet_interactive": {
     "language": "pwsh"
    },
    "polyglot_notebook": {
     "kernelName": "pwsh"
    }
   },
   "outputs": [],
   "source": [
    ". ../../../../scripts/core.ps1"
   ]
  },
  {
   "cell_type": "markdown",
   "metadata": {},
   "source": [
    "### Include spiral library"
   ]
  },
  {
   "cell_type": "code",
   "execution_count": null,
   "metadata": {
    "dotnet_interactive": {
     "language": "pwsh"
    },
    "polyglot_notebook": {
     "kernelName": "pwsh"
    }
   },
   "outputs": [],
   "source": [
    ". ../../../../deps/spiral/lib/spiral/lib.ps1"
   ]
  },
  {
   "cell_type": "markdown",
   "metadata": {},
   "source": [
    "## execute project commands"
   ]
  },
  {
   "cell_type": "markdown",
   "metadata": {},
   "source": [
    "### run notebook with retries using spiral supervisor"
   ]
  },
  {
   "cell_type": "code",
   "execution_count": null,
   "metadata": {
    "dotnet_interactive": {
     "language": "pwsh"
    },
    "polyglot_notebook": {
     "kernelName": "pwsh"
    }
   },
   "outputs": [
    {
     "name": "stdout",
     "output_type": "stream",
     "text": [
      "00:00:00 \u001B[94md\u001B[0m #1 runtime.execute_with_options_async / { file_name = ../../../../deps/spiral/workspace/target/release/spiral; arguments = US5_0 \"dib --path test.dib --retries 3\"; options = { command = ../../../../deps/spiral/workspace/target/release/spiral dib --path test.dib --retries 3; cancellation_token = Some System.Threading.CancellationToken; environment_variables = [||]; on_line = None; stdin = None; trace = true; working_directory = None } }\n",
      "00:00:14 \u001B[94md\u001B[0m #2 runtime.execute_with_options_async / { exit_code = 0; output_length = 32177; options = { command = ../../../../deps/spiral/workspace/target/release/spiral dib --path test.dib --retries 3; cancellation_token = Some System.Threading.CancellationToken; environment_variables = [||]; on_line = None; stdin = None; trace = true; working_directory = None } }\n",
      "00:00:14 \u001B[94md\u001B[0m #1 main / executeCommand / exitCode: 0 / command: ../../../../deps/spiral/workspace/target/release/spiral dib --path test.dib --retries 3\n"
     ]
    }
   ],
   "source": [
    "{ . ../../../../apps/spiral/dist/Supervisor$(_exe) --execute-command \"../../../../deps/spiral/workspace/target/release/spiral$(_exe) dib --path test.dib --retries 3\" } | Invoke-Block"
   ]
  },
  {
   "cell_type": "markdown",
   "metadata": {},
   "source": [
    "### parse the .dib file into .spi format with dibparser"
   ]
  },
  {
   "cell_type": "code",
   "execution_count": null,
   "metadata": {
    "dotnet_interactive": {
     "language": "pwsh"
    },
    "polyglot_notebook": {
     "kernelName": "pwsh"
    }
   },
   "outputs": [
    {
     "name": "stdout",
     "output_type": "stream",
     "text": [
      "00:00:00 \u001B[94md\u001B[0m #1 writeDibCode / output: Spi / path: test.dib\n",
      "00:00:00 \u001B[94md\u001B[0m #2 parseDibCode / output: Spi / file: test.dib\n"
     ]
    }
   ],
   "source": [
    "{ . ../../../../apps/parser/dist/DibParser$(_exe) test.dib spi } | Invoke-Block"
   ]
  },
  {
   "cell_type": "markdown",
   "metadata": {},
   "source": [
    "### build .fsx file from .spi using supervisor"
   ]
  },
  {
   "cell_type": "code",
   "execution_count": null,
   "metadata": {
    "dotnet_interactive": {
     "language": "pwsh"
    },
    "polyglot_notebook": {
     "kernelName": "pwsh"
    }
   },
   "outputs": [
    {
     "name": "stdout",
     "output_type": "stream",
     "text": [
      "<test>\n",
      "</test>\n"
     ]
    }
   ],
   "source": [
    "{ . ../../../../apps/spiral/dist/Supervisor$(_exe) --build-file test.spi test.fsx } | Invoke-Block"
   ]
  },
  {
   "cell_type": "markdown",
   "metadata": {},
   "source": [
    "## compile and format the project"
   ]
  },
  {
   "cell_type": "markdown",
   "metadata": {},
   "source": [
    "### compile project with fable targeting optimized rust"
   ]
  },
  {
   "cell_type": "code",
   "execution_count": null,
   "metadata": {
    "dotnet_interactive": {
     "language": "pwsh"
    },
    "polyglot_notebook": {
     "kernelName": "pwsh"
    }
   },
   "outputs": [
    {
     "name": "stdout",
     "output_type": "stream",
     "text": [
      "\u001B[37mFable 5.0.0-alpha.9: F# to Rust compiler (status: alpha)\n",
      "\u001B[37m\n",
      "Thanks to the contributor! @inchingforward\n",
      "\u001B[37mStand with Ukraine! https://standwithukraine.com.ua/\n",
      "\n",
      "\u001B[37mParsing test.fsproj...\n",
      "\u001B[37mProject and references (1 source files) parsed in 2385ms\n",
      "\n",
      "\u001B[37mStarted Fable compilation...\n",
      "\u001B[37m\n",
      "Fable compilation finished in 1131ms\n",
      "\n",
      "\u001B[33m./test.fsx(11,0): (11,2) warning FABLE: For Rust, support for F# static and module do bindings is disabled by default. It can be enabled with the 'static_do_bindings' feature. Use at your own risk!\n"
     ]
    }
   ],
   "source": [
    "dotnet fable --optimize --lang rs --extension .rs"
   ]
  },
  {
   "cell_type": "markdown",
   "metadata": {},
   "source": [
    "### fix formatting issues in the .rs file using regex and set-content"
   ]
  },
  {
   "cell_type": "code",
   "execution_count": null,
   "metadata": {
    "dotnet_interactive": {
     "language": "pwsh"
    },
    "polyglot_notebook": {
     "kernelName": "pwsh"
    }
   },
   "outputs": [],
   "source": [
    "(Get-Content test.rs) `\n",
    "    -replace [regex]::Escape(\"),);\"), \"));\" `\n",
    "    | FixRust `\n",
    "| Set-Content test.rs"
   ]
  },
  {
   "cell_type": "markdown",
   "metadata": {},
   "source": [
    "### format the rust code using cargo fmt"
   ]
  },
  {
   "cell_type": "code",
   "execution_count": null,
   "metadata": {
    "dotnet_interactive": {
     "language": "pwsh"
    },
    "polyglot_notebook": {
     "kernelName": "pwsh"
    }
   },
   "outputs": [],
   "source": [
    "cargo fmt --"
   ]
  },
  {
   "cell_type": "markdown",
   "metadata": {},
   "source": [
    "## build and test the project"
   ]
  },
  {
   "cell_type": "markdown",
   "metadata": {},
   "source": [
    "### build the project in release mode using nightly rust compiler"
   ]
  },
  {
   "cell_type": "code",
   "execution_count": null,
   "metadata": {
    "dotnet_interactive": {
     "language": "pwsh"
    },
    "polyglot_notebook": {
     "kernelName": "pwsh"
    }
   },
   "outputs": [
    {
     "name": "stdout",
     "output_type": "stream",
     "text": [
      "\u001B[31;1m\u001B[1m\u001B[32m   Compiling\u001B[0m byteorder v1.5.0\u001B[0m\n",
      "\u001B[31;1m\u001B[1m\u001B[32m   Compiling\u001B[0m syn v2.0.90\u001B[0m\n",
      "\u001B[31;1m\u001B[1m\u001B[32m   Compiling\u001B[0m linux-raw-sys v0.4.14\u001B[0m\n",
      "\u001B[31;1m\u001B[1m\u001B[32m   Compiling\u001B[0m getrandom v0.2.15\u001B[0m\n",
      "\u001B[31;1m\u001B[1m\u001B[32m   Compiling\u001B[0m num-traits v0.2.19\u001B[0m\n",
      "\u001B[31;1m\u001B[1m\u001B[32m   Compiling\u001B[0m rand_core v0.6.4\u001B[0m\n",
      "\u001B[31;1m\u001B[1m\u001B[32m   Compiling\u001B[0m once_cell v1.20.2\u001B[0m\n",
      "\u001B[31;1m\u001B[1m\u001B[32m   Compiling\u001B[0m libm v0.2.11\u001B[0m\n",
      "\u001B[31;1m\u001B[1m\u001B[32m   Compiling\u001B[0m rustix v0.38.42\u001B[0m\n",
      "\u001B[31;1m\u001B[1m\u001B[32m   Compiling\u001B[0m wait-timeout v0.2.0\u001B[0m\n",
      "\u001B[31;1m\u001B[1m\u001B[32m   Compiling\u001B[0m quick-error v1.2.3\u001B[0m\n",
      "\u001B[31;1m\u001B[1m\u001B[32m   Compiling\u001B[0m bit-vec v0.6.3\u001B[0m\n",
      "\u001B[31;1m\u001B[1m\u001B[32m   Compiling\u001B[0m bit-set v0.5.3\u001B[0m\n",
      "\u001B[31;1m\u001B[1m\u001B[32m   Compiling\u001B[0m rand_xorshift v0.3.0\u001B[0m\n",
      "\u001B[31;1m\u001B[1m\u001B[32m   Compiling\u001B[0m memchr v2.7.4\u001B[0m\n",
      "\u001B[31;1m\u001B[1m\u001B[32m   Compiling\u001B[0m unarray v0.1.4\u001B[0m\n",
      "\u001B[31;1m\u001B[1m\u001B[32m   Compiling\u001B[0m nom v7.1.3\u001B[0m\n",
      "\u001B[31;1m\u001B[1m\u001B[32m   Compiling\u001B[0m fable_library_rust v0.1.0 (/home/runner/work/polyglot/polyglot/lib/rust/fable/fable_modules/fable-library-rust)\u001B[0m\n",
      "\u001B[31;1m\u001B[1m\u001B[32m   Compiling\u001B[0m zerocopy-derive v0.7.35\u001B[0m\n",
      "\u001B[31;1m\u001B[1m\u001B[32m   Compiling\u001B[0m tempfile v3.14.0\u001B[0m\n",
      "\u001B[31;1m\u001B[1m\u001B[32m   Compiling\u001B[0m rusty-fork v0.3.0\u001B[0m\n",
      "\u001B[31;1m\u001B[1m\u001B[32m   Compiling\u001B[0m zerocopy v0.7.35\u001B[0m\n",
      "\u001B[31;1m\u001B[1m\u001B[32m   Compiling\u001B[0m thiserror-impl v1.0.69\u001B[0m\n",
      "\u001B[31;1m\u001B[1m\u001B[32m   Compiling\u001B[0m ppv-lite86 v0.2.20\u001B[0m\n",
      "\u001B[31;1m\u001B[1m\u001B[32m   Compiling\u001B[0m rand_chacha v0.3.1\u001B[0m\n",
      "\u001B[31;1m\u001B[1m\u001B[32m   Compiling\u001B[0m rand v0.8.5\u001B[0m\n",
      "\u001B[31;1m\u001B[1m\u001B[32m   Compiling\u001B[0m thiserror v1.0.69\u001B[0m\n",
      "\u001B[31;1m\u001B[1m\u001B[32m   Compiling\u001B[0m proptest v1.5.0\u001B[0m\n",
      "\u001B[31;1m\u001B[1m\u001B[32m   Compiling\u001B[0m spiral_temp_test v0.0.1 (/home/runner/work/polyglot/polyglot/apps/spiral/temp/test)\u001B[0m\n",
      "\u001B[31;1m\u001B[1m\u001B[32m    Finished\u001B[0m `release` profile [optimized] target(s) in 11.19s\u001B[0m\n"
     ]
    }
   ],
   "source": [
    "cargo build --release"
   ]
  },
  {
   "cell_type": "markdown",
   "metadata": {},
   "source": [
    "### run release tests with output enabled"
   ]
  },
  {
   "cell_type": "code",
   "execution_count": null,
   "metadata": {
    "dotnet_interactive": {
     "language": "pwsh"
    },
    "polyglot_notebook": {
     "kernelName": "pwsh"
    }
   },
   "outputs": [
    {
     "name": "stdout",
     "output_type": "stream",
     "text": [
      "\u001B[31;1m\u001B[1m\u001B[32m   Compiling\u001B[0m zerocopy v0.7.35\u001B[0m\n",
      "\u001B[31;1m\u001B[1m\u001B[32m   Compiling\u001B[0m linux-raw-sys v0.4.14\u001B[0m\n",
      "\u001B[31;1m\u001B[1m\u001B[32m   Compiling\u001B[0m bitflags v2.6.0\u001B[0m\n",
      "\u001B[31;1m\u001B[1m\u001B[32m   Compiling\u001B[0m fastrand v2.3.0\u001B[0m\n",
      "\u001B[31;1m\u001B[1m\u001B[32m   Compiling\u001B[0m once_cell v1.20.2\u001B[0m\n",
      "\u001B[31;1m\u001B[1m\u001B[32m   Compiling\u001B[0m wait-timeout v0.2.0\u001B[0m\n",
      "\u001B[31;1m\u001B[1m\u001B[32m   Compiling\u001B[0m rustix v0.38.42\u001B[0m\n",
      "\u001B[31;1m\u001B[1m\u001B[32m   Compiling\u001B[0m quick-error v1.2.3\u001B[0m\n",
      "\u001B[31;1m\u001B[1m\u001B[32m   Compiling\u001B[0m fnv v1.0.7\u001B[0m\n",
      "\u001B[31;1m\u001B[1m\u001B[32m   Compiling\u001B[0m bit-vec v0.6.3\u001B[0m\n",
      "\u001B[31;1m\u001B[1m\u001B[32m   Compiling\u001B[0m num-traits v0.2.19\u001B[0m\n",
      "\u001B[31;1m\u001B[1m\u001B[32m   Compiling\u001B[0m ppv-lite86 v0.2.20\u001B[0m\n",
      "\u001B[31;1m\u001B[1m\u001B[32m   Compiling\u001B[0m bit-set v0.5.3\u001B[0m\n",
      "\u001B[31;1m\u001B[1m\u001B[32m   Compiling\u001B[0m rand_xorshift v0.3.0\u001B[0m\n",
      "\u001B[31;1m\u001B[1m\u001B[32m   Compiling\u001B[0m memchr v2.7.4\u001B[0m\n",
      "\u001B[31;1m\u001B[1m\u001B[32m   Compiling\u001B[0m rand_chacha v0.3.1\u001B[0m\n",
      "\u001B[31;1m\u001B[1m\u001B[32m   Compiling\u001B[0m rand v0.8.5\u001B[0m\n",
      "\u001B[31;1m\u001B[1m\u001B[32m   Compiling\u001B[0m minimal-lexical v0.2.1\u001B[0m\n",
      "\u001B[31;1m\u001B[1m\u001B[32m   Compiling\u001B[0m unarray v0.1.4\u001B[0m\n",
      "\u001B[31;1m\u001B[1m\u001B[32m   Compiling\u001B[0m lazy_static v1.5.0\u001B[0m\n",
      "\u001B[31;1m\u001B[1m\u001B[32m   Compiling\u001B[0m nom v7.1.3\u001B[0m\n",
      "\u001B[31;1m\u001B[1m\u001B[32m   Compiling\u001B[0m fable_library_rust v0.1.0 (/home/runner/work/polyglot/polyglot/lib/rust/fable/fable_modules/fable-library-rust)\u001B[0m\n",
      "\u001B[31;1m\u001B[1m\u001B[32m   Compiling\u001B[0m thiserror v1.0.69\u001B[0m\n",
      "\u001B[31;1m\u001B[1m\u001B[32m   Compiling\u001B[0m tempfile v3.14.0\u001B[0m\n",
      "\u001B[31;1m\u001B[1m\u001B[32m   Compiling\u001B[0m rusty-fork v0.3.0\u001B[0m\n",
      "\u001B[31;1m\u001B[1m\u001B[32m   Compiling\u001B[0m proptest v1.5.0\u001B[0m\n",
      "\u001B[31;1m\u001B[1m\u001B[32m   Compiling\u001B[0m spiral_temp_test v0.0.1 (/home/runner/work/polyglot/polyglot/apps/spiral/temp/test)\u001B[0m\n",
      "\u001B[31;1m\u001B[1m\u001B[32m    Finished\u001B[0m `release` profile [optimized] target(s) in 15.08s\u001B[0m\n",
      "\u001B[31;1m\u001B[1m\u001B[32m     Running\u001B[0m unittests main.rs (/home/runner/work/polyglot/polyglot/workspace/target/release/deps/spiral_temp_test-be45c853cf37e114)\u001B[0m\n",
      "\n",
      "running 3 tests\n",
      "test test_parse_number ... ok\n",
      "test prop_parse_format_idempotent ... ok\n",
      "test adding_and_then_removing_an_item_from_the_cart_leaves_the_cart_unchanged ... ok\n",
      "\n",
      "successes:\n",
      "\n",
      "---- prop_parse_format_idempotent stdout ----\n",
      "input=StringLiteral(\"IwT~^~T\")\n",
      "input=StringLiteral(\"cz=,%v@b=$d,;'^'\")\n",
      "input=StringLiteral(\"_N?*mr{?%%=C/`Su\")\n",
      "input=StringLiteral(\"N%yQYq$={D]W7=?c0=%\")\n",
      "input=Operator(\"+\")\n",
      "input=StringLiteral(\"@BN$*UQ=O&\")\n",
      "input=StringLiteral(\"r.1eB>Y1E>vn&{4kc!7FxnGJ:k,~%?\")\n",
      "input=Integer(-206812096835225483)\n",
      "input=StringLiteral(\"DU<<$M/:%*[.{.x*R(K@U\")\n",
      "input=Integer(-6408113812235507225)\n",
      "input=Comment(\"\")\n",
      "input=Comment(\"=\")\n",
      "input=Comment(\"={$<o.CVB,1&VN$b'd?]Ij*M5ue#{}/\")\n",
      "input=Integer(490778782491546275)\n",
      "input=Identifier(\"D2QZghA\")\n",
      "input=Comment(\"N<%~m$0Y:d\")\n",
      "input=Identifier(\"xM8cFc2Srx1\")\n",
      "input=StringLiteral(\"464X#/7z&x7=@SGG?U=\")\n",
      "input=Comment(\"z+/9%;\")\n",
      "input=Identifier(\"aSvrVw5ReKRWzppEnE\")\n",
      "input=StringLiteral(\"u[\")\n",
      "input=Integer(-6799460692785417915)\n",
      "input=Integer(8429361298037008328)\n",
      "input=Integer(-6208887938339473657)\n",
      "input=StringLiteral(\"w.HN&Xu*/ <&`{,u',SA.j.f\")\n",
      "input=Operator(\"*\")\n",
      "input=Operator(\"=\")\n",
      "input=Identifier(\"b8061J3fNRUibyrL\")\n",
      "input=Comment(\"\\\"WMDO=\")\n",
      "input=Operator(\"(\")\n",
      "input=StringLiteral(\"U%7zPLtP1m2Y7i\")\n",
      "input=StringLiteral(\"7t-Uh'*dh&\")\n",
      "input=Integer(6230411819948790368)\n",
      "input=Identifier(\"HXyeGrkfgnPV\")\n",
      "input=Integer(-3764533782193199806)\n",
      "input=Comment(\"|K\\\"xo`#!%sq*t<\")\n",
      "input=Operator(\"=\")\n",
      "input=Comment(\"?XkmYApZ;+Y*A/\\\"T(g2y\")\n",
      "input=Integer(-6441832785116898114)\n",
      "input=StringLiteral(\"QKv{aD3\")\n",
      "input=Identifier(\"OZOMf3evN2egs5FK3Rh2ix\")\n",
      "input=Integer(2258411637815714447)\n",
      "input=Operator(\"=\")\n",
      "input=Identifier(\"u\")\n",
      "input=Operator(\"/\")\n",
      "input=Operator(\"=\")\n",
      "input=StringLiteral(\"|iKQH)C={t|1ED0<<]9V$i%O?G[S%?`\")\n",
      "input=Comment(\"5=C\")\n",
      "input=StringLiteral(\"J<OWS~knQ{?zi=DJg|/')SUjx?{Oy=z`\")\n",
      "input=StringLiteral(\"]<(s.750':8'v=7[&8\")\n",
      "input=Integer(1617063255492551580)\n",
      "input=Integer(6232616205166373255)\n",
      "input=StringLiteral(\",/ym]h'lk\")\n",
      "input=Comment(\"1%p=mz}TNg&=&y\")\n",
      "input=Integer(-5719860665759449750)\n",
      "input=Integer(7700279410051733359)\n",
      "input=Integer(-970026659356376900)\n",
      "input=StringLiteral(\"$\")\n",
      "input=Comment(\"!Fms._Rr=Jvb`fz\\\"\")\n",
      "input=StringLiteral(\"is_:bQ 0\")\n",
      "input=Comment(\"ia$.b$cQus?q9TCB[=-q'u\")\n",
      "input=StringLiteral(\"Pr.$I=t?{%R,I9QoeS\")\n",
      "input=StringLiteral(\"JfVx8iOo\")\n",
      "input=Integer(4722502703497185990)\n",
      "input=Operator(\"=\")\n",
      "input=StringLiteral(\"vxr?PA5{m+/<IaXZ-'#R\")\n",
      "input=Comment(\"%Fi&/y@UxA`tnEvJMys?,Z>.qj&\")\n",
      "input=Operator(\"(\")\n",
      "input=Comment(\"0`#$QqKWkI/n76XL\\\"\")\n",
      "input=Comment(\"`ia*s?4jd,c0&}\")\n",
      "input=StringLiteral(\"H`fi2{.K\")\n",
      "input=Identifier(\"C1jsQ7dvfbCrc0g87AyV\")\n",
      "input=Identifier(\"NfTGXU\")\n",
      "input=Comment(\"$nF$.rC<9Av'A9iU2%=i4\\\\5M\")\n",
      "input=Comment(\".NV^I4b=3?S<T&:$<8R$|Y:(.:?[B\")\n",
      "input=StringLiteral(\"&/zvXi$kVxf:&%5,8.%%!6'U`1\")\n",
      "input=StringLiteral(\"{Cr2A6{E\")\n",
      "input=StringLiteral(\"EXn:Y'f*%r@*s2WVQdLy^:bR7y#`S\")\n",
      "input=Integer(-1848437500646311825)\n",
      "input=Comment(\"^*^r${H\\\"\\\\1ii\\\"N$aovhnF|p.jj!\\\"3Paf\")\n",
      "input=StringLiteral(\"`\")\n",
      "input=Identifier(\"fQ4yT\")\n",
      "input=StringLiteral(\"o?;_tN*2YfqT{{ I%`%A|PpPjL`+DI\")\n",
      "input=Integer(-5549384303695081777)\n",
      "input=Identifier(\"G72lIWuI3yJd8jzU155a2AGM5\")\n",
      "input=Operator(\"=\")\n",
      "input=Integer(-3226412535248940307)\n",
      "input=Operator(\"*\")\n",
      "input=Operator(\"(\")\n",
      "input=Integer(7933948572427170331)\n",
      "input=Comment(\".`\")\n",
      "input=StringLiteral(\"?w{A_c/?[=OnoP\")\n",
      "input=StringLiteral(\"&c@z${&&4mhD.FvA:\")\n",
      "input=Operator(\"+\")\n",
      "input=Integer(5767409666418688375)\n",
      "input=Operator(\"*\")\n",
      "input=Comment(\"\\\"?Cvy:\")\n",
      "input=Identifier(\"UXxqhpbb3PxiV\")\n",
      "input=Operator(\"+\")\n",
      "input=Integer(5392244349523634989)\n",
      "input=StringLiteral(\"|.T\")\n",
      "input=Integer(-5329582928846881047)\n",
      "input=Operator(\"=\")\n",
      "input=StringLiteral(\".T*# %`t/W$'b28]=<{G8#e8'$<:\")\n",
      "input=Identifier(\"NB\")\n",
      "input=Comment(\"(y/\")\n",
      "input=Operator(\"=\")\n",
      "input=Integer(4501011138153249629)\n",
      "input=StringLiteral(\"/ac?FVJ#/A'R{3Nl/?p<`[~`{=cC`.\")\n",
      "input=Integer(-5241919272888169287)\n",
      "input=Comment(\"Qtk2-,B&P?C$x{\")\n",
      "input=Integer(-6277212280126242956)\n",
      "input=Integer(8117778665045936498)\n",
      "input=StringLiteral(\"7.p &7:-%<&S*D\")\n",
      "input=Comment(\"JD%f^(<3'Zb;\")\n",
      "input=Identifier(\"Y1QLTQ57P2pE30iUN3Xv2f61OzSK8\")\n",
      "input=StringLiteral(\"`L:D:)&d- 1hS^*+<$;99u@*~Vw:o^\")\n",
      "input=Comment(\"C:(\")\n",
      "input=Comment(\"r<;<A&D^B%6aI\")\n",
      "input=Comment(\"\")\n",
      "input=Integer(-8217973406971602595)\n",
      "input=Integer(-7737749329101599941)\n",
      "input=Comment(\"!/$;tn{\\\"[3h3@rZS!fzR{*?\")\n",
      "input=StringLiteral(\"}Hk2H bF\")\n",
      "input=Comment(\"o{4}[+#`w\\\"+/v*ny)6Z-2DDPk\")\n",
      "input=Operator(\"/\")\n",
      "input=Identifier(\"P27Mjj9X6y\")\n",
      "input=StringLiteral(\"=Rm^:)</gvv`Hr%}HN\")\n",
      "input=Identifier(\"FfCE1u9J6O6Gn18O\")\n",
      "input=Identifier(\"yXs9225dQ3Q442jF6s2m4lNIvRClQ\")\n",
      "input=Operator(\"-\")\n",
      "input=Operator(\"*\")\n",
      "input=Integer(3772494068495115209)\n",
      "input=Identifier(\"Po2l45t0z\")\n",
      "input=Integer(-4964367226377758121)\n",
      "input=Operator(\")\")\n",
      "input=Operator(\"+\")\n",
      "input=Identifier(\"hBkH\")\n",
      "input=Operator(\"+\")\n",
      "input=StringLiteral(\"\")\n",
      "input=Integer(1445939168640723576)\n",
      "input=StringLiteral(\"&dB>[V^,/Z80=hab!:\")\n",
      "input=Integer(6998937995144945190)\n",
      "input=Operator(\"*\")\n",
      "input=Identifier(\"RFhtWcU0rnN7Fz57I6kO0uynzmA4Ophu3\")\n",
      "input=Identifier(\"wBhp581dInacm5w\")\n",
      "input=StringLiteral(\"%O#<,G:==na&;\")\n",
      "input=Identifier(\"hLE2X75e28Cs2wT6GWtQRC3C2GUw\")\n",
      "input=Integer(1793797927421906128)\n",
      "input=StringLiteral(\")# h?7lGlRm<}.oX3'+5&\")\n",
      "input=Integer(-3181967331457311174)\n",
      "input=Comment(\"'SO+/2*<X<l.!}w\\\\?z%{u$\")\n",
      "input=Integer(1218018956961075578)\n",
      "input=Operator(\"+\")\n",
      "input=Comment(\"7l`Dq`=`VP.E%b-B~t?6`:3N%X_=g{\\\"\")\n",
      "input=Operator(\"/\")\n",
      "input=StringLiteral(\"'A5+*&_`*$ybU0<\")\n",
      "input=Operator(\"=\")\n",
      "input=Integer(-3257827259473202289)\n",
      "input=Identifier(\"U73ucap\")\n",
      "input=Integer(-2999021567288914925)\n",
      "input=Operator(\"+\")\n",
      "input=Operator(\")\")\n",
      "input=StringLiteral(\"|8=Hu:$hv2o>Me\")\n",
      "input=Operator(\")\")\n",
      "input=StringLiteral(\":$E<Q0|v<GX%*v%A`7Xsy|=cHU\")\n",
      "input=Operator(\"-\")\n",
      "input=StringLiteral(\"m&:_*!:/5`$J5's[qkb5\")\n",
      "input=StringLiteral(\"u:{&.0w=pa(}\")\n",
      "input=Integer(-4131972027426820240)\n",
      "input=Identifier(\"vFk380kb\")\n",
      "input=Comment(\"zm&yhB.YA]$f.<cI0oJ`K<`3%`\")\n",
      "input=Operator(\"(\")\n",
      "input=Identifier(\"wgFjAtBuOyE0D4l8nK20lUYtL\")\n",
      "input=Comment(\"-='$\")\n",
      "input=Integer(-1401997764539441818)\n",
      "input=StringLiteral(\"y:D<YaF:r{p<$*5u1qG.B\")\n",
      "input=Integer(9201832403815192323)\n",
      "input=Integer(-5104119832941860589)\n",
      "input=Identifier(\"aVQ0iv15jm6i\")\n",
      "input=Integer(-5959856462103571808)\n",
      "input=StringLiteral(\"sn@q?jxb.R,F\")\n",
      "input=Operator(\"=\")\n",
      "input=Operator(\"=\")\n",
      "input=Identifier(\"rF4IO0Z3Qmc1qpdGfa9jmC0E34v3Zz\")\n",
      "input=Identifier(\"tbTpxy0\")\n",
      "input=Identifier(\"hCkHIfJx8TwGSaV\")\n",
      "input=StringLiteral(\"r_$&K%*|*QO]`'9c/&LDo6t$v|M$\")\n",
      "input=Identifier(\"XFleQp250Ahvp8xQoY178iBumhy7Qc\")\n",
      "input=Comment(\"#H\\\\b,E`F6V\")\n",
      "input=Identifier(\"Fyi0N81vpwX669rbRcHFG\")\n",
      "input=Integer(1990333865166426385)\n",
      "input=Integer(4565710334694150908)\n",
      "input=Operator(\"(\")\n",
      "input=Comment(\"%`{V{NiP:-yG;[ :e.\\\\Rz^T8;||`Q&\")\n",
      "input=StringLiteral(\"L\")\n",
      "input=Identifier(\"PR2FCELNw\")\n",
      "input=Comment(\"'}TMg\")\n",
      "input=Integer(-4934143338964241730)\n",
      "input=StringLiteral(\"`-|Q$I@=%AtUD/]7gfG/*|`:vIW'x:`\")\n",
      "input=Integer(-2503562199258524913)\n",
      "input=Identifier(\"gW2srHCHOw\")\n",
      "input=StringLiteral(\"|2'<%\")\n",
      "input=Comment(\"d\")\n",
      "input=Comment(\"\\\"$$Y;]m.~P\\\\OSc+J\\\"8b]_x4p[5?p?#\")\n",
      "input=Integer(-7606283443294499961)\n",
      "input=Operator(\"+\")\n",
      "input=Comment(\"\\\"7{\\\"=g#K1{?QE~uG|'a%DRF\\\\{6r\")\n",
      "input=Integer(-7738891457704869801)\n",
      "input=Comment(\"s..=2R\")\n",
      "input=Operator(\"(\")\n",
      "input=Integer(-1430108078565476329)\n",
      "input=Comment(\"K|cw?:#Cj_{P+t4E{<.>\\\"2|Z..MAu%*$\")\n",
      "input=Identifier(\"SVJlvn6z6ShshyBD1df6z\")\n",
      "input=Integer(-8512771913911313065)\n",
      "input=Integer(7107062465923611416)\n",
      "input=Integer(-4377778381768804086)\n",
      "input=StringLiteral(\"IeM2hs&Ae.'%$=9ac'O'z\")\n",
      "input=Integer(5601931370343677544)\n",
      "input=Identifier(\"Gx00GV5E4Z\")\n",
      "input=Identifier(\"cjPaVo22taCVYddfs\")\n",
      "input=Operator(\"+\")\n",
      "input=Integer(8648357996096600738)\n",
      "input=StringLiteral(\"<n%=$F$GHV5?y32\")\n",
      "input=Comment(\"*f\\\\pRQ\\\"(<)\\\\N?\\\"m:cHs@<QU13o*A{c%&\")\n",
      "input=Identifier(\"ymFjIhy6mItMj0X\")\n",
      "input=Integer(-118416394182912167)\n",
      "input=Identifier(\"QE64b6JSGt5MC55pi5PgV2kQ7zp08\")\n",
      "input=Identifier(\"cbnJBmA4p\")\n",
      "input=Identifier(\"d3vdB0sNKn32LHF50boKhb8\")\n",
      "input=Identifier(\"u7UnyoK31uJk5lkQmpct82cG7C4y6Yo\")\n",
      "input=StringLiteral(\"{AaY<ba''G%V5^>-,87FYcF8o/H\")\n",
      "input=StringLiteral(\"-v<6.kDZ5``VE[*F*:dLF(c(%\")\n",
      "input=Integer(-7430157678292546430)\n",
      "input=Integer(-7297278760429738852)\n",
      "input=Identifier(\"kMLh\")\n",
      "input=StringLiteral(\"E\")\n",
      "input=Identifier(\"dOhD\")\n",
      "input=StringLiteral(\"NvF=`A=%2Xb/3G=3{\")\n",
      "input=Operator(\"=\")\n",
      "input=Comment(\"-W6G/H*<w=.{7pm\\\"ro\\\\?m\")\n",
      "input=Operator(\"/\")\n",
      "input=Identifier(\"R2X06U87s65Zxjd9t16Fg8m\")\n",
      "input=Integer(-968509854483361075)\n",
      "input=Comment(\"E\\\\jER{Bu\\\\ -[$WEb4#=\")\n",
      "input=Integer(1999151263376189365)\n",
      "input=Integer(-3822863966604989914)\n",
      "input=Identifier(\"Ej9a1B1EfJq0\")\n",
      "input=Comment(\"'vg`#1b*VFO!V%?\")\n",
      "input=Identifier(\"sFm1uJY1YJL53QSUyZsa\")\n",
      "input=Operator(\")\")\n",
      "input=Comment(\"%0tG]'O\")\n",
      "input=Operator(\"+\")\n",
      "input=Operator(\"/\")\n",
      "input=Comment(\">B9{e2/%`Q\")\n",
      "input=StringLiteral(\"/&/Y;*~d=Ewv~'uF&UTg::8uE\")\n",
      "\n",
      "\n",
      "successes:\n",
      "    adding_and_then_removing_an_item_from_the_cart_leaves_the_cart_unchanged\n",
      "    prop_parse_format_idempotent\n",
      "    test_parse_number\n",
      "\n",
      "test result: ok. 3 passed; 0 failed; 0 ignored; 0 measured; 0 filtered out; finished in 0.06s\n",
      "\n"
     ]
    }
   ],
   "source": [
    "{ cargo test --release -- --show-output } | Invoke-Block"
   ]
  },
  {
   "cell_type": "markdown",
   "metadata": {},
   "source": [
    "### execute the binary in release mode"
   ]
  },
  {
   "cell_type": "code",
   "execution_count": null,
   "metadata": {
    "dotnet_interactive": {
     "language": "pwsh"
    },
    "polyglot_notebook": {
     "kernelName": "pwsh"
    }
   },
   "outputs": [
    {
     "name": "stdout",
     "output_type": "stream",
     "text": [
      "app=test\n"
     ]
    }
   ],
   "source": [
    "{ . $ScriptDir/../../../../workspace/target/release/spiral_temp_test$(_exe) } | Invoke-Block"
   ]
  }
 ],
 "metadata": {},
 "nbformat": 4,
 "nbformat_minor": 5
}