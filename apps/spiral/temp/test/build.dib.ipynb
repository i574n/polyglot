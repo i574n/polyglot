{
 "cells": [
  {
   "cell_type": "markdown",
   "metadata": {},
   "source": [
    "# test"
   ]
  },
  {
   "cell_type": "markdown",
   "metadata": {},
   "source": [
    "## include scripts"
   ]
  },
  {
   "cell_type": "markdown",
   "metadata": {},
   "source": [
    "### include notebook core"
   ]
  },
  {
   "cell_type": "code",
   "execution_count": null,
   "metadata": {
    "dotnet_interactive": {
     "language": "pwsh"
    },
    "polyglot_notebook": {
     "kernelName": "pwsh"
    }
   },
   "outputs": [],
   "source": [
    ". ../../../../scripts/nbs_header.ps1"
   ]
  },
  {
   "cell_type": "markdown",
   "metadata": {},
   "source": [
    "### Include core functions script"
   ]
  },
  {
   "cell_type": "code",
   "execution_count": null,
   "metadata": {
    "dotnet_interactive": {
     "language": "pwsh"
    },
    "polyglot_notebook": {
     "kernelName": "pwsh"
    }
   },
   "outputs": [],
   "source": [
    ". ../../../../scripts/core.ps1"
   ]
  },
  {
   "cell_type": "markdown",
   "metadata": {},
   "source": [
    "### Include spiral library"
   ]
  },
  {
   "cell_type": "code",
   "execution_count": null,
   "metadata": {
    "dotnet_interactive": {
     "language": "pwsh"
    },
    "polyglot_notebook": {
     "kernelName": "pwsh"
    }
   },
   "outputs": [],
   "source": [
    ". ../../../../deps/spiral/lib/spiral/lib.ps1"
   ]
  },
  {
   "cell_type": "markdown",
   "metadata": {},
   "source": [
    "## execute project commands"
   ]
  },
  {
   "cell_type": "markdown",
   "metadata": {},
   "source": [
    "### run notebook with retries using spiral supervisor"
   ]
  },
  {
   "cell_type": "code",
   "execution_count": null,
   "metadata": {
    "dotnet_interactive": {
     "language": "pwsh"
    },
    "polyglot_notebook": {
     "kernelName": "pwsh"
    }
   },
   "outputs": [
    {
     "name": "stdout",
     "output_type": "stream",
     "text": [
      "00:00:00 \u001B[94md\u001B[0m #1 runtime.execute_with_options_async / { file_name = ../../../../deps/spiral/workspace/target/release/spiral; arguments = US5_0 \"dib --path test.dib --retries 3\"; options = { command = ../../../../deps/spiral/workspace/target/release/spiral dib --path test.dib --retries 3; cancellation_token = Some System.Threading.CancellationToken; environment_variables = [||]; on_line = None; stdin = None; trace = true; working_directory = None } }\n",
      "00:00:13 \u001B[94md\u001B[0m #2 runtime.execute_with_options_async / { exit_code = 0; output_length = 32177; options = { command = ../../../../deps/spiral/workspace/target/release/spiral dib --path test.dib --retries 3; cancellation_token = Some System.Threading.CancellationToken; environment_variables = [||]; on_line = None; stdin = None; trace = true; working_directory = None } }\n",
      "00:00:13 \u001B[94md\u001B[0m #1 main / executeCommand / exitCode: 0 / command: ../../../../deps/spiral/workspace/target/release/spiral dib --path test.dib --retries 3\n"
     ]
    }
   ],
   "source": [
    "{ . ../../../../apps/spiral/dist/Supervisor$(_exe) --execute-command \"../../../../deps/spiral/workspace/target/release/spiral$(_exe) dib --path test.dib --retries 3\" } | Invoke-Block"
   ]
  },
  {
   "cell_type": "markdown",
   "metadata": {},
   "source": [
    "### parse the .dib file into .spi format with dibparser"
   ]
  },
  {
   "cell_type": "code",
   "execution_count": null,
   "metadata": {
    "dotnet_interactive": {
     "language": "pwsh"
    },
    "polyglot_notebook": {
     "kernelName": "pwsh"
    }
   },
   "outputs": [
    {
     "name": "stdout",
     "output_type": "stream",
     "text": [
      "00:00:00 \u001B[94md\u001B[0m #1 writeDibCode / output: Spi / path: test.dib\n",
      "00:00:00 \u001B[94md\u001B[0m #2 parseDibCode / output: Spi / file: test.dib\n"
     ]
    }
   ],
   "source": [
    "{ . ../../../../apps/parser/dist/DibParser$(_exe) test.dib spi } | Invoke-Block"
   ]
  },
  {
   "cell_type": "markdown",
   "metadata": {},
   "source": [
    "### build .fsx file from .spi using supervisor"
   ]
  },
  {
   "cell_type": "code",
   "execution_count": null,
   "metadata": {
    "dotnet_interactive": {
     "language": "pwsh"
    },
    "polyglot_notebook": {
     "kernelName": "pwsh"
    }
   },
   "outputs": [
    {
     "name": "stdout",
     "output_type": "stream",
     "text": [
      "<test>\n",
      "</test>\n"
     ]
    }
   ],
   "source": [
    "{ . ../../../../apps/spiral/dist/Supervisor$(_exe) --build-file test.spi test.fsx } | Invoke-Block"
   ]
  },
  {
   "cell_type": "markdown",
   "metadata": {},
   "source": [
    "## compile and format the project"
   ]
  },
  {
   "cell_type": "markdown",
   "metadata": {},
   "source": [
    "### compile project with fable targeting optimized rust"
   ]
  },
  {
   "cell_type": "code",
   "execution_count": null,
   "metadata": {
    "dotnet_interactive": {
     "language": "pwsh"
    },
    "polyglot_notebook": {
     "kernelName": "pwsh"
    }
   },
   "outputs": [
    {
     "name": "stdout",
     "output_type": "stream",
     "text": [
      "\u001B[37mFable 5.0.0-alpha.9: F# to Rust compiler (status: alpha)\n",
      "\u001B[37m\n",
      "Thanks to the contributor! @worldbeater\n",
      "\u001B[37mStand with Ukraine! https://standwithukraine.com.ua/\n",
      "\n",
      "\u001B[37mParsing test.fsproj...\n",
      "\u001B[37mProject and references (1 source files) parsed in 2524ms\n",
      "\n",
      "\u001B[37mStarted Fable compilation...\n",
      "\u001B[37m\n",
      "Fable compilation finished in 1138ms\n",
      "\n",
      "\u001B[33m./test.fsx(11,0): (11,2) warning FABLE: For Rust, support for F# static and module do bindings is disabled by default. It can be enabled with the 'static_do_bindings' feature. Use at your own risk!\n"
     ]
    }
   ],
   "source": [
    "dotnet fable --optimize --lang rs --extension .rs"
   ]
  },
  {
   "cell_type": "markdown",
   "metadata": {},
   "source": [
    "### fix formatting issues in the .rs file using regex and set-content"
   ]
  },
  {
   "cell_type": "code",
   "execution_count": null,
   "metadata": {
    "dotnet_interactive": {
     "language": "pwsh"
    },
    "polyglot_notebook": {
     "kernelName": "pwsh"
    }
   },
   "outputs": [],
   "source": [
    "(Get-Content test.rs) `\n",
    "    -replace [regex]::Escape(\"),);\"), \"));\" `\n",
    "    | FixRust `\n",
    "| Set-Content test.rs"
   ]
  },
  {
   "cell_type": "markdown",
   "metadata": {},
   "source": [
    "### format the rust code using cargo fmt"
   ]
  },
  {
   "cell_type": "code",
   "execution_count": null,
   "metadata": {
    "dotnet_interactive": {
     "language": "pwsh"
    },
    "polyglot_notebook": {
     "kernelName": "pwsh"
    }
   },
   "outputs": [],
   "source": [
    "cargo fmt --"
   ]
  },
  {
   "cell_type": "markdown",
   "metadata": {},
   "source": [
    "## build and test the project"
   ]
  },
  {
   "cell_type": "markdown",
   "metadata": {},
   "source": [
    "### build the project in release mode using nightly rust compiler"
   ]
  },
  {
   "cell_type": "code",
   "execution_count": null,
   "metadata": {
    "dotnet_interactive": {
     "language": "pwsh"
    },
    "polyglot_notebook": {
     "kernelName": "pwsh"
    }
   },
   "outputs": [
    {
     "name": "stdout",
     "output_type": "stream",
     "text": [
      "\u001B[31;1m\u001B[1m\u001B[32m   Compiling\u001B[0m byteorder v1.5.0\u001B[0m\n",
      "\u001B[31;1m\u001B[1m\u001B[32m   Compiling\u001B[0m syn v2.0.90\u001B[0m\n",
      "\u001B[31;1m\u001B[1m\u001B[32m   Compiling\u001B[0m getrandom v0.2.15\u001B[0m\n",
      "\u001B[31;1m\u001B[1m\u001B[32m   Compiling\u001B[0m linux-raw-sys v0.4.14\u001B[0m\n",
      "\u001B[31;1m\u001B[1m\u001B[32m   Compiling\u001B[0m rand_core v0.6.4\u001B[0m\n",
      "\u001B[31;1m\u001B[1m\u001B[32m   Compiling\u001B[0m num-traits v0.2.19\u001B[0m\n",
      "\u001B[31;1m\u001B[1m\u001B[32m   Compiling\u001B[0m once_cell v1.20.2\u001B[0m\n",
      "\u001B[31;1m\u001B[1m\u001B[32m   Compiling\u001B[0m rustix v0.38.42\u001B[0m\n",
      "\u001B[31;1m\u001B[1m\u001B[32m   Compiling\u001B[0m libm v0.2.11\u001B[0m\n",
      "\u001B[31;1m\u001B[1m\u001B[32m   Compiling\u001B[0m wait-timeout v0.2.0\u001B[0m\n",
      "\u001B[31;1m\u001B[1m\u001B[32m   Compiling\u001B[0m quick-error v1.2.3\u001B[0m\n",
      "\u001B[31;1m\u001B[1m\u001B[32m   Compiling\u001B[0m bit-vec v0.6.3\u001B[0m\n",
      "\u001B[31;1m\u001B[1m\u001B[32m   Compiling\u001B[0m bit-set v0.5.3\u001B[0m\n",
      "\u001B[31;1m\u001B[1m\u001B[32m   Compiling\u001B[0m rand_xorshift v0.3.0\u001B[0m\n",
      "\u001B[31;1m\u001B[1m\u001B[32m   Compiling\u001B[0m memchr v2.7.4\u001B[0m\n",
      "\u001B[31;1m\u001B[1m\u001B[32m   Compiling\u001B[0m unarray v0.1.4\u001B[0m\n",
      "\u001B[31;1m\u001B[1m\u001B[32m   Compiling\u001B[0m nom v7.1.3\u001B[0m\n",
      "\u001B[31;1m\u001B[1m\u001B[32m   Compiling\u001B[0m tempfile v3.14.0\u001B[0m\n",
      "\u001B[31;1m\u001B[1m\u001B[32m   Compiling\u001B[0m zerocopy-derive v0.7.35\u001B[0m\n",
      "\u001B[31;1m\u001B[1m\u001B[32m   Compiling\u001B[0m thiserror-impl v1.0.69\u001B[0m\n",
      "\u001B[31;1m\u001B[1m\u001B[32m   Compiling\u001B[0m rusty-fork v0.3.0\u001B[0m\n",
      "\u001B[31;1m\u001B[1m\u001B[32m   Compiling\u001B[0m fable_library_rust v0.1.0 (/home/runner/work/polyglot/polyglot/lib/rust/fable/fable_modules/fable-library-rust)\u001B[0m\n",
      "\u001B[31;1m\u001B[1m\u001B[32m   Compiling\u001B[0m zerocopy v0.7.35\u001B[0m\n",
      "\u001B[31;1m\u001B[1m\u001B[32m   Compiling\u001B[0m thiserror v1.0.69\u001B[0m\n",
      "\u001B[31;1m\u001B[1m\u001B[32m   Compiling\u001B[0m ppv-lite86 v0.2.20\u001B[0m\n",
      "\u001B[31;1m\u001B[1m\u001B[32m   Compiling\u001B[0m rand_chacha v0.3.1\u001B[0m\n",
      "\u001B[31;1m\u001B[1m\u001B[32m   Compiling\u001B[0m rand v0.8.5\u001B[0m\n",
      "\u001B[31;1m\u001B[1m\u001B[32m   Compiling\u001B[0m proptest v1.5.0\u001B[0m\n",
      "\u001B[31;1m\u001B[1m\u001B[32m   Compiling\u001B[0m spiral_temp_test v0.0.1 (/home/runner/work/polyglot/polyglot/apps/spiral/temp/test)\u001B[0m\n",
      "\u001B[31;1m\u001B[1m\u001B[32m    Finished\u001B[0m `release` profile [optimized] target(s) in 10.62s\u001B[0m\n"
     ]
    }
   ],
   "source": [
    "cargo build --release"
   ]
  },
  {
   "cell_type": "markdown",
   "metadata": {},
   "source": [
    "### run release tests with output enabled"
   ]
  },
  {
   "cell_type": "code",
   "execution_count": null,
   "metadata": {
    "dotnet_interactive": {
     "language": "pwsh"
    },
    "polyglot_notebook": {
     "kernelName": "pwsh"
    }
   },
   "outputs": [
    {
     "name": "stdout",
     "output_type": "stream",
     "text": [
      "\u001B[31;1m\u001B[1m\u001B[32m   Compiling\u001B[0m bitflags v2.6.0\u001B[0m\n",
      "\u001B[31;1m\u001B[1m\u001B[32m   Compiling\u001B[0m linux-raw-sys v0.4.14\u001B[0m\n",
      "\u001B[31;1m\u001B[1m\u001B[32m   Compiling\u001B[0m zerocopy v0.7.35\u001B[0m\n",
      "\u001B[31;1m\u001B[1m\u001B[32m   Compiling\u001B[0m fastrand v2.3.0\u001B[0m\n",
      "\u001B[31;1m\u001B[1m\u001B[32m   Compiling\u001B[0m once_cell v1.20.2\u001B[0m\n",
      "\u001B[31;1m\u001B[1m\u001B[32m   Compiling\u001B[0m wait-timeout v0.2.0\u001B[0m\n",
      "\u001B[31;1m\u001B[1m\u001B[32m   Compiling\u001B[0m fnv v1.0.7\u001B[0m\n",
      "\u001B[31;1m\u001B[1m\u001B[32m   Compiling\u001B[0m rustix v0.38.42\u001B[0m\n",
      "\u001B[31;1m\u001B[1m\u001B[32m   Compiling\u001B[0m quick-error v1.2.3\u001B[0m\n",
      "\u001B[31;1m\u001B[1m\u001B[32m   Compiling\u001B[0m bit-vec v0.6.3\u001B[0m\n",
      "\u001B[31;1m\u001B[1m\u001B[32m   Compiling\u001B[0m num-traits v0.2.19\u001B[0m\n",
      "\u001B[31;1m\u001B[1m\u001B[32m   Compiling\u001B[0m ppv-lite86 v0.2.20\u001B[0m\n",
      "\u001B[31;1m\u001B[1m\u001B[32m   Compiling\u001B[0m bit-set v0.5.3\u001B[0m\n",
      "\u001B[31;1m\u001B[1m\u001B[32m   Compiling\u001B[0m rand_xorshift v0.3.0\u001B[0m\n",
      "\u001B[31;1m\u001B[1m\u001B[32m   Compiling\u001B[0m memchr v2.7.4\u001B[0m\n",
      "\u001B[31;1m\u001B[1m\u001B[32m   Compiling\u001B[0m rand_chacha v0.3.1\u001B[0m\n",
      "\u001B[31;1m\u001B[1m\u001B[32m   Compiling\u001B[0m rand v0.8.5\u001B[0m\n",
      "\u001B[31;1m\u001B[1m\u001B[32m   Compiling\u001B[0m unarray v0.1.4\u001B[0m\n",
      "\u001B[31;1m\u001B[1m\u001B[32m   Compiling\u001B[0m minimal-lexical v0.2.1\u001B[0m\n",
      "\u001B[31;1m\u001B[1m\u001B[32m   Compiling\u001B[0m lazy_static v1.5.0\u001B[0m\n",
      "\u001B[31;1m\u001B[1m\u001B[32m   Compiling\u001B[0m nom v7.1.3\u001B[0m\n",
      "\u001B[31;1m\u001B[1m\u001B[32m   Compiling\u001B[0m fable_library_rust v0.1.0 (/home/runner/work/polyglot/polyglot/lib/rust/fable/fable_modules/fable-library-rust)\u001B[0m\n",
      "\u001B[31;1m\u001B[1m\u001B[32m   Compiling\u001B[0m thiserror v1.0.69\u001B[0m\n",
      "\u001B[31;1m\u001B[1m\u001B[32m   Compiling\u001B[0m tempfile v3.14.0\u001B[0m\n",
      "\u001B[31;1m\u001B[1m\u001B[32m   Compiling\u001B[0m rusty-fork v0.3.0\u001B[0m\n",
      "\u001B[31;1m\u001B[1m\u001B[32m   Compiling\u001B[0m proptest v1.5.0\u001B[0m\n",
      "\u001B[31;1m\u001B[1m\u001B[32m   Compiling\u001B[0m spiral_temp_test v0.0.1 (/home/runner/work/polyglot/polyglot/apps/spiral/temp/test)\u001B[0m\n",
      "\u001B[31;1m\u001B[1m\u001B[32m    Finished\u001B[0m `release` profile [optimized] target(s) in 15.01s\u001B[0m\n",
      "\u001B[31;1m\u001B[1m\u001B[32m     Running\u001B[0m unittests main.rs (/home/runner/work/polyglot/polyglot/workspace/target/release/deps/spiral_temp_test-be45c853cf37e114)\u001B[0m\n",
      "\n",
      "running 3 tests\n",
      "test test_parse_number ... ok\n",
      "test prop_parse_format_idempotent ... ok\n",
      "test adding_and_then_removing_an_item_from_the_cart_leaves_the_cart_unchanged ... ok\n",
      "\n",
      "successes:\n",
      "\n",
      "---- prop_parse_format_idempotent stdout ----\n",
      "input=Integer(268713793792914716)\n",
      "input=Operator(\"-\")\n",
      "input=Operator(\"/\")\n",
      "input=Comment(\"5B\")\n",
      "input=StringLiteral(\"kpcU`\")\n",
      "input=Identifier(\"C4Q2uTowS4JXT\")\n",
      "input=Comment(\":sEY\")\n",
      "input=Operator(\"(\")\n",
      "input=Operator(\"-\")\n",
      "input=Integer(719455038188218200)\n",
      "input=Integer(3604911723451723941)\n",
      "input=Comment(\"!'UeUj*!*ykw?]e:Wt<F`*!'M9|u*=\")\n",
      "input=Integer(-6166056613361781163)\n",
      "input=Comment(\"GkJ:9Ar&/S!{H\\\\6*=)DIuv+!C9R\")\n",
      "input=Operator(\"=\")\n",
      "input=Identifier(\"Dgk2MQsZuu7mIuB3B5Q247Bl\")\n",
      "input=StringLiteral(\";{+=8V@1:SB6k:vW3n\")\n",
      "input=StringLiteral(\"Y&K~?BI?%tlRdC@/'%!y:']\")\n",
      "input=Integer(5747817668036982523)\n",
      "input=Comment(\"\\\"(?7?Bb`<\\\\\")\n",
      "input=Identifier(\"Zo6y5n8d27wf8B\")\n",
      "input=StringLiteral(\"eM2r0Go=~cct~{}<*!|=wG6GYq\")\n",
      "input=Identifier(\"NA9WuAxeb\")\n",
      "input=Operator(\"*\")\n",
      "input=Integer(8554094792558867230)\n",
      "input=Integer(8757162914857859912)\n",
      "input=StringLiteral(\"5T~%<+DB0Z#'n>\")\n",
      "input=StringLiteral(\"27&DKU/@T`W\")\n",
      "input=Integer(3544673328983164303)\n",
      "input=Operator(\"(\")\n",
      "input=Identifier(\"Ce9Y1fiV457d8IDQ5teNseqUQQv7\")\n",
      "input=Identifier(\"j8490sji0EZF6C8KB5ey2igUX67OXkS\")\n",
      "input=Identifier(\"j2nY20ONZ9F1mES6JwA0J\")\n",
      "input=Identifier(\"d6zTnohzlueO2jq0YS24a4x\")\n",
      "input=Operator(\"(\")\n",
      "input=StringLiteral(\"c<6AY(ju-{h-Z{O.\")\n",
      "input=Comment(\"%\")\n",
      "input=StringLiteral(\"=v%U{K3)\")\n",
      "input=Identifier(\"MHFh8Ul8vSO2o5w1\")\n",
      "input=Identifier(\"b7d78e9YSiLta0r1Hl8Q\")\n",
      "input=StringLiteral(\"6%C\")\n",
      "input=StringLiteral(\"<\")\n",
      "input=Identifier(\"P3i2iE1h3M7OdA88N329F7Otl2dR\")\n",
      "input=Identifier(\"DUfARwVfNW\")\n",
      "input=Operator(\")\")\n",
      "input=Identifier(\"QY4yM6D4\")\n",
      "input=Comment(\"`=F&?.u\")\n",
      "input=Operator(\")\")\n",
      "input=Operator(\"/\")\n",
      "input=Integer(-5264309058920270376)\n",
      "input=Operator(\")\")\n",
      "input=Integer(6196595009972552866)\n",
      "input=Identifier(\"zg01DFZvUFtTb5kzTGLf8xS7\")\n",
      "input=Identifier(\"IKffXw16k5EkQalBorU\")\n",
      "input=Operator(\"=\")\n",
      "input=Identifier(\"nPhS5AwFCiwv9udLgYKmVN7BgE\")\n",
      "input=StringLiteral(\"Cb$^t/`pb${*?d\")\n",
      "input=Operator(\")\")\n",
      "input=Identifier(\"gyleQ\")\n",
      "input=Comment(\"&a=B_;/^lB Xw?<\\\\6%`Bj/eoZ}\")\n",
      "input=Comment(\"m9p;v?:\\\\E3MWU`=j:L?L$UR&Wo\\\"]\")\n",
      "input=Comment(\"|0@Eb: ]\\\\{&P=H$13zsY\\\\`#-/%O#-\")\n",
      "input=Operator(\"/\")\n",
      "input=Comment(\"N5_%D9\")\n",
      "input=StringLiteral(\"h?\")\n",
      "input=Comment(\"%>{!g<.<b\\\\oXW'\\\"Z+Qq?9B\")\n",
      "input=StringLiteral(\"@/?w\")\n",
      "input=Comment(\"/<=bj\")\n",
      "input=Operator(\"+\")\n",
      "input=Comment(\"u?^{`:`z.\\\"./C{\")\n",
      "input=Integer(-651194591289141847)\n",
      "input=Identifier(\"pY139\")\n",
      "input=Operator(\"*\")\n",
      "input=Identifier(\"ju0yn0CUMe3m5cXRxv5\")\n",
      "input=Operator(\"/\")\n",
      "input=Comment(\"A\\\\$:/$4<\\\",kD{/u[.3.\")\n",
      "input=Comment(\"(;`N].&`L?Y=n/p[:80^?.c~)\")\n",
      "input=Identifier(\"J7HR8rbVjv9xxj1zh7\")\n",
      "input=StringLiteral(\"Q&9c$j\")\n",
      "input=Comment(\"?k\")\n",
      "input=Integer(8979465669041224878)\n",
      "input=Operator(\"/\")\n",
      "input=StringLiteral(\";7.T62/,[r=`i;/= %W)l/Cq\")\n",
      "input=Identifier(\"W7\")\n",
      "input=Identifier(\"hC\")\n",
      "input=Operator(\"(\")\n",
      "input=StringLiteral(\"zXB=\")\n",
      "input=Identifier(\"y7NJO\")\n",
      "input=Operator(\"(\")\n",
      "input=Integer(-2390340129050698336)\n",
      "input=Integer(-6715579902307386437)\n",
      "input=Operator(\"/\")\n",
      "input=StringLiteral(\"6(55=yk={{pcXO/{g&`:.zc7`ubE\")\n",
      "input=StringLiteral(\"i\")\n",
      "input=Identifier(\"KDvGSY\")\n",
      "input=Operator(\"=\")\n",
      "input=Identifier(\"fJNU89k\")\n",
      "input=Integer(-2548137239960186936)\n",
      "input=Integer(-487513825005623258)\n",
      "input=Comment(\"T/k`2yk(gcl`^U<'x*m{/YH`1=\")\n",
      "input=Integer(-6693953514739551479)\n",
      "input=Comment(\".z =d56`]LA'D_rzhL'=<6$\\\\\")\n",
      "input=Integer(-5890525564598880732)\n",
      "input=Operator(\")\")\n",
      "input=Operator(\"/\")\n",
      "input=Comment(\"#.:/Qw[.9BI[&.\")\n",
      "input=StringLiteral(\"\")\n",
      "input=Integer(-4854347537765009607)\n",
      "input=StringLiteral(\"%jB:s<*wbd{&h&Ad*)'<APlC}p&`F\")\n",
      "input=Integer(3106736397154882839)\n",
      "input=Comment(\"wP</(1GX/[y>.Q2r?%m$_?*J\")\n",
      "input=StringLiteral(\"A`NY%'?<E{S1V)'$4'_{B&8.%&%:j\")\n",
      "input=Identifier(\"b3sWmU3LYbWSd\")\n",
      "input=Operator(\"*\")\n",
      "input=StringLiteral(\"<=%b\")\n",
      "input=Operator(\")\")\n",
      "input=Operator(\"+\")\n",
      "input=Comment(\"%!wW=%\\\"$x\")\n",
      "input=Operator(\"/\")\n",
      "input=Identifier(\"jULXOO5TL1x757tMCoW8Z\")\n",
      "input=Comment(\"R9:<~^I~?W~]XT*eNfY&E3Zw\\\\=+WiD\")\n",
      "input=Operator(\"=\")\n",
      "input=Integer(-2600310144709344407)\n",
      "input=StringLiteral(\"A=w*f*\")\n",
      "input=Integer(8040348748935395213)\n",
      "input=Operator(\"*\")\n",
      "input=Identifier(\"CRr758gYH0B0y8jhILNG04\")\n",
      "input=Comment(\"?](\")\n",
      "input=StringLiteral(\"z*t O*/<h%&5rq$?w]~2%k::.*.<Nv\")\n",
      "input=Integer(-587681833454179997)\n",
      "input=Identifier(\"nvU\")\n",
      "input=Comment(\"'\")\n",
      "input=StringLiteral(\"l <\")\n",
      "input=Operator(\"(\")\n",
      "input=StringLiteral(\"lt`Ft=p$PAw`eW2.aS.:&TK<\")\n",
      "input=Integer(6479582859607239754)\n",
      "input=Integer(-7431198943358752649)\n",
      "input=Identifier(\"WJ2uo87S8I76P7o015OiUhbFO\")\n",
      "input=StringLiteral(\"kRf/a5aT+3/3*/IMp&p.N\")\n",
      "input=Identifier(\"QH024krpTmplG6m3RGczI9l37n1m\")\n",
      "input=Identifier(\"J2lU8\")\n",
      "input=Integer(6259439995308414852)\n",
      "input=Comment(\"sa-\")\n",
      "input=Integer(2329166032297354335)\n",
      "input=Integer(-963480156133162624)\n",
      "input=Operator(\"-\")\n",
      "input=Operator(\"-\")\n",
      "input=Integer(-6792656092846068172)\n",
      "input=StringLiteral(\"#_p'VzcC8dwkc=VI\")\n",
      "input=Integer(6590845768630397026)\n",
      "input=Identifier(\"w2B5B\")\n",
      "input=Integer(-6305579305891982698)\n",
      "input=StringLiteral(\"%oq`&{e-{r52|']w?%a$$\")\n",
      "input=Comment(\">C@\")\n",
      "input=Operator(\"*\")\n",
      "input=Identifier(\"pV4KsXmctq7C183FARU\")\n",
      "input=StringLiteral(\"E\")\n",
      "input=Operator(\"(\")\n",
      "input=StringLiteral(\"7'a\")\n",
      "input=StringLiteral(\"f(mO.$;`i4m*jVW'5PvW\")\n",
      "input=Comment(\"`kvi%Ok=Tr{*m<Q$b<#$+A\")\n",
      "input=Operator(\"+\")\n",
      "input=Integer(1630197857742083106)\n",
      "input=Integer(-1586036346402032999)\n",
      "input=StringLiteral(\"Q%sb/H/7K&/Wi-&Tu+C6$\")\n",
      "input=Identifier(\"Y6A8C4xVT\")\n",
      "input=Operator(\"*\")\n",
      "input=Operator(\")\")\n",
      "input=Comment(\"*'y'|0?n`+`)m<c6/i?_l:g`1t\")\n",
      "input=Integer(-4735980124640598189)\n",
      "input=Integer(-8414264148114100893)\n",
      "input=Integer(-2657216724244258025)\n",
      "input=Operator(\")\")\n",
      "input=Identifier(\"T5AvkHkWF75wSMjOypc79jPduor437w0V\")\n",
      "input=Identifier(\"jv23vnVbyDoIkii4Zi3ID07x\")\n",
      "input=StringLiteral(\"+!]o'f039`leqGx<Bu&=f.WFK\")\n",
      "input=Operator(\")\")\n",
      "input=Identifier(\"H1x29TER32c1MG0dhwaMld\")\n",
      "input=Comment(\"u^B}&\")\n",
      "input=Identifier(\"om729eYALsNjq3IoO4LaAMxuG9i14D\")\n",
      "input=Identifier(\"E7bMqU57O\")\n",
      "input=Operator(\")\")\n",
      "input=Identifier(\"lE1o9ejsS8XFBWXea53JWi3Q\")\n",
      "input=StringLiteral(\"&==?^F'+H`/(`c&%Q5 \")\n",
      "input=Identifier(\"lnz1fbv2Gg\")\n",
      "input=Comment(\"\\\"R`Y@;fU'p{M/%?<$.$p3KV'.|\")\n",
      "input=Integer(1719138696418654237)\n",
      "input=StringLiteral(\"F[`/{0k#\")\n",
      "input=Comment(\"\")\n",
      "input=StringLiteral(\"^M$H|5@.9<D#B~q<=c#ay\")\n",
      "input=Operator(\"+\")\n",
      "input=Identifier(\"T08TBtJN\")\n",
      "input=StringLiteral(\"K.5eL|d$3]R(.j eN{7$`\")\n",
      "input=Comment(\"f\\\\-_d9.\\\">vQ!2*h\\\"b/&]\")\n",
      "input=Operator(\"=\")\n",
      "input=Identifier(\"c639VcDPCNrbVrSkmjDV0l\")\n",
      "input=Identifier(\"o989DJWXT47t\")\n",
      "input=Operator(\"+\")\n",
      "input=StringLiteral(\"A<^{%z%.5ox;ITas69Or.HA]Z\")\n",
      "input=Operator(\"*\")\n",
      "input=StringLiteral(\"DD/Iupb&x(`\")\n",
      "input=Integer(-2289891379027397796)\n",
      "input=Operator(\"*\")\n",
      "input=StringLiteral(\"{;[N{d$!_VTz2%~$H=HJ:^tuI+1\")\n",
      "input=Integer(-5486612292109050088)\n",
      "input=Operator(\"=\")\n",
      "input=Comment(\"&1R6I0c6+wd*f'\")\n",
      "input=Integer(8903843239435658325)\n",
      "input=Comment(\"7]fo?:'%<%iGt]zC%\\\\ySj[\")\n",
      "input=Comment(\"g'<`'V\\\"N=G_o]i!`J$O@Qr\")\n",
      "input=Integer(-6983731579991860203)\n",
      "input=StringLiteral(\"FJ=)U<j9&:^3s/J3m^v4%%yQrI/0\")\n",
      "input=Identifier(\"dKGweWJI\")\n",
      "input=Operator(\"/\")\n",
      "input=StringLiteral(\"J3Fj`*gjOo1x$q*|x`q'Lm`\")\n",
      "input=Integer(-5400531463232210536)\n",
      "input=Comment(\"8!bk\\\"I\\\"n+$`c!X8-;s:&;\")\n",
      "input=Operator(\"/\")\n",
      "input=Operator(\"(\")\n",
      "input=Integer(-3247387684206839115)\n",
      "input=StringLiteral(\"y{L<:=/nX1t< q\")\n",
      "input=Identifier(\"gDvvbe7p5T1Jmw7D0gCh0J93vcVSq\")\n",
      "input=Identifier(\"e3jj9UAZMN4sRbg3segM\")\n",
      "input=Operator(\"(\")\n",
      "input=Identifier(\"t8nt94L1lo0MDqW1D1Ry6X\")\n",
      "input=Integer(-6466486676540404601)\n",
      "input=Integer(-3634637841059090675)\n",
      "input=Integer(5704273149342325064)\n",
      "input=Integer(5122517894066513269)\n",
      "input=Integer(-4311537572653410194)\n",
      "input=Operator(\"+\")\n",
      "input=StringLiteral(\"%J'K$'\")\n",
      "input=Operator(\"+\")\n",
      "input=Identifier(\"OpZWDwbjQ38kh3nAUFsECM\")\n",
      "input=Integer(-7600506794691708818)\n",
      "input=Comment(\"s``;' =,%E\")\n",
      "input=Identifier(\"J6awzC5vl4T5ucA69H9Mr\")\n",
      "input=Operator(\"+\")\n",
      "input=Identifier(\"q5N64B40D6uRphnBxUFKUizOS1W\")\n",
      "input=Integer(-5939871259582828360)\n",
      "input=Operator(\"/\")\n",
      "input=Comment(\"uS8~k*NwG54A\")\n",
      "input=StringLiteral(\"8|J6|NB(\")\n",
      "input=Operator(\"+\")\n",
      "input=Operator(\"-\")\n",
      "input=StringLiteral(\"8*]vC\")\n",
      "input=Identifier(\"IKuXlHgxQ\")\n",
      "input=Identifier(\"afhYcbSV3\")\n",
      "input=StringLiteral(\"&3'hF4!<$3bCx%xe=7!E@/`KK|%\")\n",
      "input=Identifier(\"XK8G73wcb7Bu644pE8s6\")\n",
      "input=Operator(\"/\")\n",
      "input=Integer(4571787764961968861)\n",
      "input=Operator(\"+\")\n",
      "input=Identifier(\"Y7sKSg7U9Y92i\")\n",
      "input=Identifier(\"wx\")\n",
      "input=Comment(\"&$3\")\n",
      "\n",
      "\n",
      "successes:\n",
      "    adding_and_then_removing_an_item_from_the_cart_leaves_the_cart_unchanged\n",
      "    prop_parse_format_idempotent\n",
      "    test_parse_number\n",
      "\n",
      "test result: ok. 3 passed; 0 failed; 0 ignored; 0 measured; 0 filtered out; finished in 0.07s\n",
      "\n"
     ]
    }
   ],
   "source": [
    "{ cargo test --release -- --show-output } | Invoke-Block"
   ]
  },
  {
   "cell_type": "markdown",
   "metadata": {},
   "source": [
    "### execute the binary in release mode"
   ]
  },
  {
   "cell_type": "code",
   "execution_count": null,
   "metadata": {
    "dotnet_interactive": {
     "language": "pwsh"
    },
    "polyglot_notebook": {
     "kernelName": "pwsh"
    }
   },
   "outputs": [
    {
     "name": "stdout",
     "output_type": "stream",
     "text": [
      "app=test\n"
     ]
    }
   ],
   "source": [
    "{ . $ScriptDir/../../../../workspace/target/release/spiral_temp_test$(_exe) } | Invoke-Block"
   ]
  }
 ],
 "metadata": {},
 "nbformat": 4,
 "nbformat_minor": 5
}