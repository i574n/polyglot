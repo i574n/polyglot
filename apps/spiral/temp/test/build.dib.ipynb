{
 "cells": [
  {
   "cell_type": "markdown",
   "metadata": {},
   "source": [
    "# test"
   ]
  },
  {
   "cell_type": "markdown",
   "metadata": {},
   "source": [
    "## include scripts"
   ]
  },
  {
   "cell_type": "markdown",
   "metadata": {},
   "source": [
    "### include notebook core"
   ]
  },
  {
   "cell_type": "code",
   "execution_count": null,
   "metadata": {
    "dotnet_interactive": {
     "language": "pwsh"
    },
    "polyglot_notebook": {
     "kernelName": "pwsh"
    }
   },
   "outputs": [],
   "source": [
    ". ../../../../scripts/nbs_header.ps1"
   ]
  },
  {
   "cell_type": "markdown",
   "metadata": {},
   "source": [
    "### Include core functions script"
   ]
  },
  {
   "cell_type": "code",
   "execution_count": null,
   "metadata": {
    "dotnet_interactive": {
     "language": "pwsh"
    },
    "polyglot_notebook": {
     "kernelName": "pwsh"
    }
   },
   "outputs": [],
   "source": [
    ". ../../../../scripts/core.ps1"
   ]
  },
  {
   "cell_type": "markdown",
   "metadata": {},
   "source": [
    "### Include spiral library"
   ]
  },
  {
   "cell_type": "code",
   "execution_count": null,
   "metadata": {
    "dotnet_interactive": {
     "language": "pwsh"
    },
    "polyglot_notebook": {
     "kernelName": "pwsh"
    }
   },
   "outputs": [],
   "source": [
    ". ../../../../deps/spiral/lib/spiral/lib.ps1"
   ]
  },
  {
   "cell_type": "markdown",
   "metadata": {},
   "source": [
    "## execute project commands"
   ]
  },
  {
   "cell_type": "markdown",
   "metadata": {},
   "source": [
    "### run notebook with retries using spiral supervisor"
   ]
  },
  {
   "cell_type": "code",
   "execution_count": null,
   "metadata": {
    "dotnet_interactive": {
     "language": "pwsh"
    },
    "polyglot_notebook": {
     "kernelName": "pwsh"
    }
   },
   "outputs": [
    {
     "name": "stdout",
     "output_type": "stream",
     "text": [
      "00:00:00 \u001B[94md\u001B[0m #1 runtime.execute_with_options_async / { file_name = ../../../../deps/spiral/workspace/target/release/spiral; arguments = US5_0 \"dib --path test.dib --retries 3\"; options = { command = ../../../../deps/spiral/workspace/target/release/spiral dib --path test.dib --retries 3; cancellation_token = Some System.Threading.CancellationToken; environment_variables = [||]; on_line = None; stdin = None; trace = true; working_directory = None } }\n",
      "00:00:12 \u001B[94md\u001B[0m #2 runtime.execute_with_options_async / { exit_code = 0; output_length = 32177; options = { command = ../../../../deps/spiral/workspace/target/release/spiral dib --path test.dib --retries 3; cancellation_token = Some System.Threading.CancellationToken; environment_variables = [||]; on_line = None; stdin = None; trace = true; working_directory = None } }\n",
      "00:00:12 \u001B[94md\u001B[0m #1 main / executeCommand / exitCode: 0 / command: ../../../../deps/spiral/workspace/target/release/spiral dib --path test.dib --retries 3\n"
     ]
    }
   ],
   "source": [
    "{ . ../../../../apps/spiral/dist/Supervisor$(_exe) --execute-command \"../../../../deps/spiral/workspace/target/release/spiral$(_exe) dib --path test.dib --retries 3\" } | Invoke-Block"
   ]
  },
  {
   "cell_type": "markdown",
   "metadata": {},
   "source": [
    "### parse the .dib file into .spi format with dibparser"
   ]
  },
  {
   "cell_type": "code",
   "execution_count": null,
   "metadata": {
    "dotnet_interactive": {
     "language": "pwsh"
    },
    "polyglot_notebook": {
     "kernelName": "pwsh"
    }
   },
   "outputs": [
    {
     "name": "stdout",
     "output_type": "stream",
     "text": [
      "00:00:00 \u001B[94md\u001B[0m #1 writeDibCode / output: Spi / path: test.dib\n",
      "00:00:00 \u001B[94md\u001B[0m #2 parseDibCode / output: Spi / file: test.dib\n"
     ]
    }
   ],
   "source": [
    "{ . ../../../../apps/parser/dist/DibParser$(_exe) test.dib spi } | Invoke-Block"
   ]
  },
  {
   "cell_type": "markdown",
   "metadata": {},
   "source": [
    "### build .fsx file from .spi using supervisor"
   ]
  },
  {
   "cell_type": "code",
   "execution_count": null,
   "metadata": {
    "dotnet_interactive": {
     "language": "pwsh"
    },
    "polyglot_notebook": {
     "kernelName": "pwsh"
    }
   },
   "outputs": [
    {
     "name": "stdout",
     "output_type": "stream",
     "text": [
      "<test>\n",
      "</test>\n"
     ]
    }
   ],
   "source": [
    "{ . ../../../../apps/spiral/dist/Supervisor$(_exe) --build-file test.spi test.fsx } | Invoke-Block"
   ]
  },
  {
   "cell_type": "markdown",
   "metadata": {},
   "source": [
    "## compile and format the project"
   ]
  },
  {
   "cell_type": "markdown",
   "metadata": {},
   "source": [
    "### compile project with fable targeting optimized rust"
   ]
  },
  {
   "cell_type": "code",
   "execution_count": null,
   "metadata": {
    "dotnet_interactive": {
     "language": "pwsh"
    },
    "polyglot_notebook": {
     "kernelName": "pwsh"
    }
   },
   "outputs": [
    {
     "name": "stdout",
     "output_type": "stream",
     "text": [
      "\u001B[37mFable 5.0.0-alpha.9: F# to Rust compiler (status: alpha)\n",
      "\u001B[37m\n",
      "Thanks to the contributor! @johannesegger\n",
      "\u001B[37mStand with Ukraine! https://standwithukraine.com.ua/\n",
      "\n",
      "\u001B[37mParsing test.fsproj...\n",
      "\u001B[37mProject and references (1 source files) parsed in 2387ms\n",
      "\n",
      "\u001B[37mStarted Fable compilation...\n",
      "\u001B[37m\n",
      "Fable compilation finished in 1127ms\n",
      "\n",
      "\u001B[33m./test.fsx(11,0): (11,2) warning FABLE: For Rust, support for F# static and module do bindings is disabled by default. It can be enabled with the 'static_do_bindings' feature. Use at your own risk!\n"
     ]
    }
   ],
   "source": [
    "dotnet fable --optimize --lang rs --extension .rs"
   ]
  },
  {
   "cell_type": "markdown",
   "metadata": {},
   "source": [
    "### fix formatting issues in the .rs file using regex and set-content"
   ]
  },
  {
   "cell_type": "code",
   "execution_count": null,
   "metadata": {
    "dotnet_interactive": {
     "language": "pwsh"
    },
    "polyglot_notebook": {
     "kernelName": "pwsh"
    }
   },
   "outputs": [],
   "source": [
    "(Get-Content test.rs) `\n",
    "    -replace [regex]::Escape(\"),);\"), \"));\" `\n",
    "    | FixRust `\n",
    "| Set-Content test.rs"
   ]
  },
  {
   "cell_type": "markdown",
   "metadata": {},
   "source": [
    "### format the rust code using cargo fmt"
   ]
  },
  {
   "cell_type": "code",
   "execution_count": null,
   "metadata": {
    "dotnet_interactive": {
     "language": "pwsh"
    },
    "polyglot_notebook": {
     "kernelName": "pwsh"
    }
   },
   "outputs": [],
   "source": [
    "cargo fmt --"
   ]
  },
  {
   "cell_type": "markdown",
   "metadata": {},
   "source": [
    "## build and test the project"
   ]
  },
  {
   "cell_type": "markdown",
   "metadata": {},
   "source": [
    "### build the project in release mode using nightly rust compiler"
   ]
  },
  {
   "cell_type": "code",
   "execution_count": null,
   "metadata": {
    "dotnet_interactive": {
     "language": "pwsh"
    },
    "polyglot_notebook": {
     "kernelName": "pwsh"
    }
   },
   "outputs": [
    {
     "name": "stdout",
     "output_type": "stream",
     "text": [
      "\u001B[31;1m\u001B[1m\u001B[32m   Compiling\u001B[0m byteorder v1.5.0\u001B[0m\n",
      "\u001B[31;1m\u001B[1m\u001B[32m   Compiling\u001B[0m syn v2.0.90\u001B[0m\n",
      "\u001B[31;1m\u001B[1m\u001B[32m   Compiling\u001B[0m getrandom v0.2.15\u001B[0m\n",
      "\u001B[31;1m\u001B[1m\u001B[32m   Compiling\u001B[0m linux-raw-sys v0.4.14\u001B[0m\n",
      "\u001B[31;1m\u001B[1m\u001B[32m   Compiling\u001B[0m rand_core v0.6.4\u001B[0m\n",
      "\u001B[31;1m\u001B[1m\u001B[32m   Compiling\u001B[0m num-traits v0.2.19\u001B[0m\n",
      "\u001B[31;1m\u001B[1m\u001B[32m   Compiling\u001B[0m once_cell v1.20.2\u001B[0m\n",
      "\u001B[31;1m\u001B[1m\u001B[32m   Compiling\u001B[0m rustix v0.38.42\u001B[0m\n",
      "\u001B[31;1m\u001B[1m\u001B[32m   Compiling\u001B[0m libm v0.2.11\u001B[0m\n",
      "\u001B[31;1m\u001B[1m\u001B[32m   Compiling\u001B[0m wait-timeout v0.2.0\u001B[0m\n",
      "\u001B[31;1m\u001B[1m\u001B[32m   Compiling\u001B[0m bit-vec v0.6.3\u001B[0m\n",
      "\u001B[31;1m\u001B[1m\u001B[32m   Compiling\u001B[0m quick-error v1.2.3\u001B[0m\n",
      "\u001B[31;1m\u001B[1m\u001B[32m   Compiling\u001B[0m bit-set v0.5.3\u001B[0m\n",
      "\u001B[31;1m\u001B[1m\u001B[32m   Compiling\u001B[0m rand_xorshift v0.3.0\u001B[0m\n",
      "\u001B[31;1m\u001B[1m\u001B[32m   Compiling\u001B[0m memchr v2.7.4\u001B[0m\n",
      "\u001B[31;1m\u001B[1m\u001B[32m   Compiling\u001B[0m unarray v0.1.4\u001B[0m\n",
      "\u001B[31;1m\u001B[1m\u001B[32m   Compiling\u001B[0m tempfile v3.14.0\u001B[0m\n",
      "\u001B[31;1m\u001B[1m\u001B[32m   Compiling\u001B[0m nom v7.1.3\u001B[0m\n",
      "\u001B[31;1m\u001B[1m\u001B[32m   Compiling\u001B[0m zerocopy-derive v0.7.35\u001B[0m\n",
      "\u001B[31;1m\u001B[1m\u001B[32m   Compiling\u001B[0m thiserror-impl v1.0.69\u001B[0m\n",
      "\u001B[31;1m\u001B[1m\u001B[32m   Compiling\u001B[0m rusty-fork v0.3.0\u001B[0m\n",
      "\u001B[31;1m\u001B[1m\u001B[32m   Compiling\u001B[0m fable_library_rust v0.1.0 (/home/runner/work/polyglot/polyglot/lib/rust/fable/fable_modules/fable-library-rust)\u001B[0m\n",
      "\u001B[31;1m\u001B[1m\u001B[32m   Compiling\u001B[0m zerocopy v0.7.35\u001B[0m\n",
      "\u001B[31;1m\u001B[1m\u001B[32m   Compiling\u001B[0m thiserror v1.0.69\u001B[0m\n",
      "\u001B[31;1m\u001B[1m\u001B[32m   Compiling\u001B[0m ppv-lite86 v0.2.20\u001B[0m\n",
      "\u001B[31;1m\u001B[1m\u001B[32m   Compiling\u001B[0m rand_chacha v0.3.1\u001B[0m\n",
      "\u001B[31;1m\u001B[1m\u001B[32m   Compiling\u001B[0m rand v0.8.5\u001B[0m\n",
      "\u001B[31;1m\u001B[1m\u001B[32m   Compiling\u001B[0m proptest v1.5.0\u001B[0m\n",
      "\u001B[31;1m\u001B[1m\u001B[32m   Compiling\u001B[0m spiral_temp_test v0.0.1 (/home/runner/work/polyglot/polyglot/apps/spiral/temp/test)\u001B[0m\n",
      "\u001B[31;1m\u001B[1m\u001B[32m    Finished\u001B[0m `release` profile [optimized] target(s) in 10.32s\u001B[0m\n"
     ]
    }
   ],
   "source": [
    "cargo build --release"
   ]
  },
  {
   "cell_type": "markdown",
   "metadata": {},
   "source": [
    "### run release tests with output enabled"
   ]
  },
  {
   "cell_type": "code",
   "execution_count": null,
   "metadata": {
    "dotnet_interactive": {
     "language": "pwsh"
    },
    "polyglot_notebook": {
     "kernelName": "pwsh"
    }
   },
   "outputs": [
    {
     "name": "stdout",
     "output_type": "stream",
     "text": [
      "\u001B[31;1m\u001B[1m\u001B[32m   Compiling\u001B[0m bitflags v2.6.0\u001B[0m\n",
      "\u001B[31;1m\u001B[1m\u001B[32m   Compiling\u001B[0m zerocopy v0.7.35\u001B[0m\n",
      "\u001B[31;1m\u001B[1m\u001B[32m   Compiling\u001B[0m linux-raw-sys v0.4.14\u001B[0m\n",
      "\u001B[31;1m\u001B[1m\u001B[32m   Compiling\u001B[0m fastrand v2.3.0\u001B[0m\n",
      "\u001B[31;1m\u001B[1m\u001B[32m   Compiling\u001B[0m once_cell v1.20.2\u001B[0m\n",
      "\u001B[31;1m\u001B[1m\u001B[32m   Compiling\u001B[0m wait-timeout v0.2.0\u001B[0m\n",
      "\u001B[31;1m\u001B[1m\u001B[32m   Compiling\u001B[0m rustix v0.38.42\u001B[0m\n",
      "\u001B[31;1m\u001B[1m\u001B[32m   Compiling\u001B[0m fnv v1.0.7\u001B[0m\n",
      "\u001B[31;1m\u001B[1m\u001B[32m   Compiling\u001B[0m bit-vec v0.6.3\u001B[0m\n",
      "\u001B[31;1m\u001B[1m\u001B[32m   Compiling\u001B[0m quick-error v1.2.3\u001B[0m\n",
      "\u001B[31;1m\u001B[1m\u001B[32m   Compiling\u001B[0m ppv-lite86 v0.2.20\u001B[0m\n",
      "\u001B[31;1m\u001B[1m\u001B[32m   Compiling\u001B[0m bit-set v0.5.3\u001B[0m\n",
      "\u001B[31;1m\u001B[1m\u001B[32m   Compiling\u001B[0m num-traits v0.2.19\u001B[0m\n",
      "\u001B[31;1m\u001B[1m\u001B[32m   Compiling\u001B[0m rand_xorshift v0.3.0\u001B[0m\n",
      "\u001B[31;1m\u001B[1m\u001B[32m   Compiling\u001B[0m unarray v0.1.4\u001B[0m\n",
      "\u001B[31;1m\u001B[1m\u001B[32m   Compiling\u001B[0m memchr v2.7.4\u001B[0m\n",
      "\u001B[31;1m\u001B[1m\u001B[32m   Compiling\u001B[0m rand_chacha v0.3.1\u001B[0m\n",
      "\u001B[31;1m\u001B[1m\u001B[32m   Compiling\u001B[0m rand v0.8.5\u001B[0m\n",
      "\u001B[31;1m\u001B[1m\u001B[32m   Compiling\u001B[0m minimal-lexical v0.2.1\u001B[0m\n",
      "\u001B[31;1m\u001B[1m\u001B[32m   Compiling\u001B[0m lazy_static v1.5.0\u001B[0m\n",
      "\u001B[31;1m\u001B[1m\u001B[32m   Compiling\u001B[0m fable_library_rust v0.1.0 (/home/runner/work/polyglot/polyglot/lib/rust/fable/fable_modules/fable-library-rust)\u001B[0m\n",
      "\u001B[31;1m\u001B[1m\u001B[32m   Compiling\u001B[0m nom v7.1.3\u001B[0m\n",
      "\u001B[31;1m\u001B[1m\u001B[32m   Compiling\u001B[0m thiserror v1.0.69\u001B[0m\n",
      "\u001B[31;1m\u001B[1m\u001B[32m   Compiling\u001B[0m tempfile v3.14.0\u001B[0m\n",
      "\u001B[31;1m\u001B[1m\u001B[32m   Compiling\u001B[0m rusty-fork v0.3.0\u001B[0m\n",
      "\u001B[31;1m\u001B[1m\u001B[32m   Compiling\u001B[0m proptest v1.5.0\u001B[0m\n",
      "\u001B[31;1m\u001B[1m\u001B[32m   Compiling\u001B[0m spiral_temp_test v0.0.1 (/home/runner/work/polyglot/polyglot/apps/spiral/temp/test)\u001B[0m\n",
      "\u001B[31;1m\u001B[1m\u001B[32m    Finished\u001B[0m `release` profile [optimized] target(s) in 14.71s\u001B[0m\n",
      "\u001B[31;1m\u001B[1m\u001B[32m     Running\u001B[0m unittests main.rs (/home/runner/work/polyglot/polyglot/workspace/target/release/deps/spiral_temp_test-be45c853cf37e114)\u001B[0m\n",
      "\n",
      "running 3 tests\n",
      "test test_parse_number ... ok\n",
      "test prop_parse_format_idempotent ... ok\n",
      "test adding_and_then_removing_an_item_from_the_cart_leaves_the_cart_unchanged ... ok\n",
      "\n",
      "successes:\n",
      "\n",
      "---- prop_parse_format_idempotent stdout ----\n",
      "input=Operator(\"/\")\n",
      "input=StringLiteral(\"*d:?\")\n",
      "input=Integer(1760348501472278027)\n",
      "input=StringLiteral(\".&`%P{&7`%6G~7Z\")\n",
      "input=StringLiteral(\"gU.E$.<*3(=,=;v6'#M'Jk[2h*\")\n",
      "input=Integer(-9011381345419841181)\n",
      "input=StringLiteral(\"(vuY(4Q]=k>n:L&=*<LC\")\n",
      "input=Comment(\"^np:=>j/<b?^\\\\VeQ?<\")\n",
      "input=Integer(7497392264721212265)\n",
      "input=Comment(\"\")\n",
      "input=StringLiteral(\"[~j=?M`/&`&.~/\")\n",
      "input=Operator(\"=\")\n",
      "input=Integer(4849804146431192128)\n",
      "input=StringLiteral(\"H5YlX\")\n",
      "input=StringLiteral(\"\")\n",
      "input=Integer(-2208610720248921377)\n",
      "input=StringLiteral(\"$sL#kR`bDmv&%}`(G'V/z+:p~[`.%w\")\n",
      "input=Operator(\"/\")\n",
      "input=Identifier(\"hMe8AQ\")\n",
      "input=StringLiteral(\"Wk^`.CM\")\n",
      "input=Identifier(\"QqwacxIZ\")\n",
      "input=Integer(1025560840017642571)\n",
      "input=Integer(-917471953487233814)\n",
      "input=StringLiteral(\":j6~F/`:dbC&,[um88\")\n",
      "input=Identifier(\"QCJxo2\")\n",
      "input=Operator(\"/\")\n",
      "input=Identifier(\"GlVO2rTb4l9jkq41qEpj3\")\n",
      "input=StringLiteral(\"%U4\")\n",
      "input=Operator(\"*\")\n",
      "input=Integer(-6625255453623022779)\n",
      "input=Operator(\"+\")\n",
      "input=Operator(\")\")\n",
      "input=Comment(\"oEE|.'r\\\\>+{:&$;<x:qAO\")\n",
      "input=Identifier(\"W0QIHLFB0SR\")\n",
      "input=StringLiteral(\"n?'=*$pa'.\")\n",
      "input=Operator(\"*\")\n",
      "input=Identifier(\"lakZ0G1pfl2lyXuTLHDJnflAe9w\")\n",
      "input=Integer(-3337946423433872445)\n",
      "input=Identifier(\"Hnqwq1v1o9Xeh5S\")\n",
      "input=Identifier(\"epOQ5R51mn23Zgpolf54\")\n",
      "input=Identifier(\"UitJY2L7Uc5e846He1vrM7whI9xT3Mf\")\n",
      "input=Identifier(\"C2G12RANYC1FKzAP7y3e4s22YGprKC7e\")\n",
      "input=Operator(\"/\")\n",
      "input=Integer(-5148920844483100307)\n",
      "input=Operator(\"+\")\n",
      "input=StringLiteral(\"G7XF.ev{/+nVP{`*k:.*:<WP<c\")\n",
      "input=Integer(-4822230663797980478)\n",
      "input=Comment(\"{Lg{Ifq\\\\!Rx(]'\")\n",
      "input=Identifier(\"DM8aDT75a9P\")\n",
      "input=Comment(\"#0_v\")\n",
      "input=Integer(-1905142557645931293)\n",
      "input=Comment(\"4&mp&(.?|YDj8\")\n",
      "input=Operator(\"*\")\n",
      "input=Comment(\"5\\\"?=on<bnLH?mK*=FplIycp<t\")\n",
      "input=Operator(\"/\")\n",
      "input=Operator(\"=\")\n",
      "input=Integer(-2262697624866249897)\n",
      "input=Integer(1796190790873249775)\n",
      "input=Integer(-2313301293182528041)\n",
      "input=Comment(\"c #.e{8\\\"w8R2_`QTX~Z_ZZY`~r\")\n",
      "input=Operator(\"-\")\n",
      "input=Identifier(\"ZTJ93onY45cA3M082E2GyvdNebTs\")\n",
      "input=Identifier(\"L18eKpq12LCFG4h4WqLLkjL6s88Spt\")\n",
      "input=Comment(\"=-(!Q&\")\n",
      "input=Integer(2378972844910670361)\n",
      "input=Integer(8347682191216086970)\n",
      "input=Identifier(\"O7pGl\")\n",
      "input=Operator(\"=\")\n",
      "input=Comment(\"=>qRx?nanQ;w%yyT\")\n",
      "input=Operator(\"+\")\n",
      "input=Operator(\"/\")\n",
      "input=Operator(\"(\")\n",
      "input=Identifier(\"dJmJ2GZLe00uh4LHXH2\")\n",
      "input=Operator(\"*\")\n",
      "input=Comment(\"\\\"%H/!\")\n",
      "input=Comment(\"aH:a*h<3p`gw<fyE{K8H+\\\"f_5\")\n",
      "input=Integer(-11475406497917766)\n",
      "input=Comment(\"s3wY{`{^Pew\")\n",
      "input=Integer(8878087790725660250)\n",
      "input=Operator(\"=\")\n",
      "input=Operator(\"/\")\n",
      "input=StringLiteral(\"CB:7_w>*{RJ/c19?ld}YN\")\n",
      "input=Operator(\"-\")\n",
      "input=Comment(\"J&{\\\":?cb=?p<]th?\")\n",
      "input=Integer(-3935539701738112857)\n",
      "input=Operator(\"-\")\n",
      "input=Integer(5733621454238717762)\n",
      "input=Integer(-1508356970248732086)\n",
      "input=Identifier(\"jf37A0wJKTyMn8\")\n",
      "input=Operator(\"/\")\n",
      "input=Identifier(\"WHagY421qQKrTwx9op\")\n",
      "input=StringLiteral(\"QSm|5$&sRY{<c.QyX^GLz*'n9v`\")\n",
      "input=Integer(765259343121169343)\n",
      "input=Identifier(\"mMLSTcS4FHfp3Da1AY1iI\")\n",
      "input=Identifier(\"kMM5TnW50RCMSTJa9FZSLWq7\")\n",
      "input=Integer(2023368470288180082)\n",
      "input=Integer(8579141348227414447)\n",
      "input=Comment(\"<\")\n",
      "input=Integer(6820477670445573179)\n",
      "input=Comment(\"=|z/TI<@s\")\n",
      "input=Integer(-5921531595314715873)\n",
      "input=Operator(\"(\")\n",
      "input=Operator(\"(\")\n",
      "input=Integer(-6322633326561645277)\n",
      "input=Identifier(\"AkYHsEO1b0NQPZkHuu0dMk1At60SjPT\")\n",
      "input=Operator(\"=\")\n",
      "input=Operator(\"/\")\n",
      "input=StringLiteral(\"<%K.pwv.G/'blFX[J\")\n",
      "input=Comment(\"F`*jM\")\n",
      "input=Integer(3859841236089922406)\n",
      "input=StringLiteral(\"`8bCs-]f@fVx</PovpC?>JC:/Pr9\")\n",
      "input=StringLiteral(\"\")\n",
      "input=StringLiteral(\"|7z{``;c |H}$^<0NFer1o!s\")\n",
      "input=StringLiteral(\"S-.uB?\")\n",
      "input=Integer(345848517558155847)\n",
      "input=Identifier(\"peoQvqEGjFq1DAgMXZzzlAN9ENP6cgfdL\")\n",
      "input=Identifier(\"td\")\n",
      "input=Identifier(\"SyTR1ADTIvC54Sl22Jgu\")\n",
      "input=Comment(\"j$>c<\\\"M.)R\\\"ke?o/%<j5]\\\"n>5Y:&\")\n",
      "input=Operator(\"=\")\n",
      "input=Integer(-8963733262373801548)\n",
      "input=Integer(3442580639227815249)\n",
      "input=Integer(-3080584705660551283)\n",
      "input=Integer(773951846940238166)\n",
      "input=Operator(\")\")\n",
      "input=StringLiteral(\"M}.-e<a;7`' )%%:={LP>xE?:XH\")\n",
      "input=Operator(\")\")\n",
      "input=Integer(-785948943352421802)\n",
      "input=Identifier(\"uEpCgTrn940Wc62M853DzCE7zPgGd46\")\n",
      "input=StringLiteral(\"vCL[~$o 0]s\")\n",
      "input=StringLiteral(\":-& fM\")\n",
      "input=StringLiteral(\"<Hl. '.;W56Q/`Wb<<\")\n",
      "input=Operator(\"+\")\n",
      "input=StringLiteral(\"I:7H<$5*3*'vZ.iC^a@Sq%*Qez:\")\n",
      "input=Integer(1036806856842956665)\n",
      "input=StringLiteral(\"P`&*+3lA5<.%,3?.JyIr\")\n",
      "input=StringLiteral(\"?E1~'s<7zbha9NOp-,b!9Z2\")\n",
      "input=Operator(\")\")\n",
      "input=StringLiteral(\"N'OTk/&fy|EV&{%y>U9{[cQoJ/<{4^<\")\n",
      "input=Operator(\"-\")\n",
      "input=Integer(3140821214635203463)\n",
      "input=Integer(-6351803020387998621)\n",
      "input=StringLiteral(\".='`D/sU*v+&j`*?|/`Vr/c3\")\n",
      "input=Identifier(\"BZFQNFo6v8ZFvd\")\n",
      "input=Operator(\")\")\n",
      "input=Operator(\"+\")\n",
      "input=StringLiteral(\"V.t==mz<JC?`{$x4s_/\")\n",
      "input=Identifier(\"c3y7lrOU5\")\n",
      "input=Operator(\"/\")\n",
      "input=Comment(\"Z`y\")\n",
      "input=Operator(\"/\")\n",
      "input=Operator(\"*\")\n",
      "input=Comment(\"c?jy\")\n",
      "input=StringLiteral(\"i'`]u#S@xnVE<E0T)}=/@y*rjj\")\n",
      "input=StringLiteral(\"*=aBp<J&&B%*b|< \")\n",
      "input=Identifier(\"Nmz68bjR5gHIh826VLHss074W19meE1P\")\n",
      "input=Comment(\"*{D\")\n",
      "input=Identifier(\"hVNjksM73IYMPHMWKqhF2Pn\")\n",
      "input=Comment(\"koQ{;<xZ`:`5x5)a{{[uqf G\")\n",
      "input=StringLiteral(\"\")\n",
      "input=Operator(\"=\")\n",
      "input=Identifier(\"bzf2ThBVFCV7nfcYRvVASO0\")\n",
      "input=StringLiteral(\"l:4v_?w/'u\")\n",
      "input=Operator(\"+\")\n",
      "input=Comment(\"\")\n",
      "input=Identifier(\"H\")\n",
      "input=StringLiteral(\"%NG`C%?oJCe$u{'\")\n",
      "input=StringLiteral(\"DR.$*<f<<xlVA`8L::FY \")\n",
      "input=StringLiteral(\"oW&:q ?{A%ihXaah=i\")\n",
      "input=Comment(\"Zqz=6F>f0Zq.r.=q1:ba./\")\n",
      "input=StringLiteral(\"O&\")\n",
      "input=StringLiteral(\"?< o{*`TT>$n`V?l'&bjE7w;6OX&?s\")\n",
      "input=StringLiteral(\"[HTLK<$:'?&)*3&/\")\n",
      "input=Operator(\")\")\n",
      "input=StringLiteral(\"O5c\")\n",
      "input=Comment(\"VN/\\\"|u&a_'2Be#n?N{YmD'N=}]=8U\\\\q8\")\n",
      "input=StringLiteral(\"2M(Pp?mp#z_j[_.U*r6t*bNmRv.HgpR\")\n",
      "input=Integer(-3062788840958252729)\n",
      "input=Operator(\"(\")\n",
      "input=Operator(\"(\")\n",
      "input=Identifier(\"qWeu5YcXEk89K8e9FZASjSWA3arVPF\")\n",
      "input=Comment(\"$/\\\"b&.~q!\")\n",
      "input=Identifier(\"I8kOa2ys0ge83\")\n",
      "input=Identifier(\"WjKLJ4\")\n",
      "input=Identifier(\"R1F8be0\")\n",
      "input=Comment(\"m\\\"/=\\\\){l]m$eKQ%:h61\")\n",
      "input=Comment(\"b'|5.:\")\n",
      "input=Identifier(\"RP0EoG1ssf3iPQa81aPn9b53j75V94\")\n",
      "input=Operator(\")\")\n",
      "input=Integer(5390549521363410471)\n",
      "input=Identifier(\"Um\")\n",
      "input=StringLiteral(\"x`F9YR&^\")\n",
      "input=Integer(1282316538625940872)\n",
      "input=Operator(\"*\")\n",
      "input=Identifier(\"ypNEC2Cf1hWoPMPcvdFkG97XcFPQ\")\n",
      "input=Integer(252638039635835352)\n",
      "input=Operator(\"+\")\n",
      "input=Operator(\"*\")\n",
      "input=Comment(\"[?M\\\\,^{KN&\\\"f4'x9\")\n",
      "input=Comment(\"m.<-`yd2aSB/%23s\")\n",
      "input=Comment(\"M1?k*%%\\\"@F\\\"=Y<o\")\n",
      "input=StringLiteral(\"%4w/LN&/:Q2::0&$`J>3<mI[\")\n",
      "input=StringLiteral(\"x.mGMOuKe@Z;A.*d)\")\n",
      "input=Integer(-499900247404982712)\n",
      "input=Integer(8330356495172895202)\n",
      "input=StringLiteral(\"<$?ipX2?.H_/iM-.-xB*Hl[|//]ua\")\n",
      "input=StringLiteral(\"sd.*NY\")\n",
      "input=Comment(\"F\")\n",
      "input=Comment(\"+`X\\\",{,.e?8|?=FF\\\\?\")\n",
      "input=Integer(-2164747370286591277)\n",
      "input=Identifier(\"gM98JZV2zQdAB\")\n",
      "input=Identifier(\"zDmQ75sOeCnsA4G\")\n",
      "input=Comment(\"z9#Is\\\"`8J*V\")\n",
      "input=Integer(1607015554044386325)\n",
      "input=Integer(485453049789547560)\n",
      "input=Operator(\"(\")\n",
      "input=Comment(\"?u`A2>\\\"&X{,8&c4\")\n",
      "input=Identifier(\"Z0zgyM1W1FDSF35h\")\n",
      "input=StringLiteral(\":7c8;*`?`EE9<f'I:x&%&_&3)uC8?=\")\n",
      "input=Comment(\"1\\\\T`~&/`&r1`jsdE=_.gb*&'e\")\n",
      "input=Comment(\"Zho$tvxAB/\")\n",
      "input=StringLiteral(\"6:Q`-K0A5A-lR\")\n",
      "input=Operator(\"=\")\n",
      "input=Comment(\".\\\":\")\n",
      "input=Identifier(\"TVqtH2HxNw\")\n",
      "input=Identifier(\"y\")\n",
      "input=StringLiteral(\"L[9t+E?^=:Bl|.^5&a%4F(\")\n",
      "input=Integer(-2751439155363178349)\n",
      "input=StringLiteral(\"4[.,_<hpd\")\n",
      "input=StringLiteral(\"D`kJ=;?Breb%>c~u740*|{]%/)L?`\")\n",
      "input=Operator(\"-\")\n",
      "input=Comment(\":5gKiLe=?${9')v?aG-%sVJmZ]i=fC \")\n",
      "input=StringLiteral(\"[.@Dv=m{'wuu%1k\")\n",
      "input=Comment(\"x/\")\n",
      "input=Integer(-8715008715154490848)\n",
      "input=Operator(\"=\")\n",
      "input=Operator(\"*\")\n",
      "input=StringLiteral(\"9e\")\n",
      "input=StringLiteral(\"tw,{'S/%HHmC>|C/TdU)3\")\n",
      "input=Identifier(\"xxei3B7IqTEK\")\n",
      "input=Operator(\")\")\n",
      "input=Identifier(\"sA6jy7yn0jJoA\")\n",
      "input=Operator(\"(\")\n",
      "input=Identifier(\"WxlNgm2x7fgVf4RBke0Wv91reJY8O\")\n",
      "input=Identifier(\"N57fjQH0xxRViF1xVBwPe2X4\")\n",
      "input=StringLiteral(\"5YE\")\n",
      "input=StringLiteral(\"R\")\n",
      "input=Operator(\"(\")\n",
      "input=Identifier(\"MMI0yqCtt17c0Nelg\")\n",
      "input=Integer(-52291843891302722)\n",
      "input=Comment(\"d][Q]XOF^$\")\n",
      "input=StringLiteral(\"\")\n",
      "input=Operator(\"+\")\n",
      "input=Integer(-3590066843755515210)\n",
      "input=StringLiteral(\"u\")\n",
      "input=Integer(7052205113441212674)\n",
      "\n",
      "\n",
      "successes:\n",
      "    adding_and_then_removing_an_item_from_the_cart_leaves_the_cart_unchanged\n",
      "    prop_parse_format_idempotent\n",
      "    test_parse_number\n",
      "\n",
      "test result: ok. 3 passed; 0 failed; 0 ignored; 0 measured; 0 filtered out; finished in 0.07s\n",
      "\n"
     ]
    }
   ],
   "source": [
    "{ cargo test --release -- --show-output } | Invoke-Block"
   ]
  },
  {
   "cell_type": "markdown",
   "metadata": {},
   "source": [
    "### execute the binary in release mode"
   ]
  },
  {
   "cell_type": "code",
   "execution_count": null,
   "metadata": {
    "dotnet_interactive": {
     "language": "pwsh"
    },
    "polyglot_notebook": {
     "kernelName": "pwsh"
    }
   },
   "outputs": [
    {
     "name": "stdout",
     "output_type": "stream",
     "text": [
      "app=test\n"
     ]
    }
   ],
   "source": [
    "{ . $ScriptDir/../../../../workspace/target/release/spiral_temp_test$(_exe) } | Invoke-Block"
   ]
  }
 ],
 "metadata": {},
 "nbformat": 4,
 "nbformat_minor": 5
}