{
 "cells": [
  {
   "cell_type": "markdown",
   "metadata": {},
   "source": [
    "# test"
   ]
  },
  {
   "cell_type": "markdown",
   "metadata": {},
   "source": [
    "## include scripts"
   ]
  },
  {
   "cell_type": "markdown",
   "metadata": {},
   "source": [
    "### include notebook core"
   ]
  },
  {
   "cell_type": "code",
   "execution_count": null,
   "metadata": {
    "dotnet_interactive": {
     "language": "pwsh"
    },
    "polyglot_notebook": {
     "kernelName": "pwsh"
    }
   },
   "outputs": [],
   "source": [
    ". ../../../../scripts/nbs_header.ps1"
   ]
  },
  {
   "cell_type": "markdown",
   "metadata": {},
   "source": [
    "### Include core functions script"
   ]
  },
  {
   "cell_type": "code",
   "execution_count": null,
   "metadata": {
    "dotnet_interactive": {
     "language": "pwsh"
    },
    "polyglot_notebook": {
     "kernelName": "pwsh"
    }
   },
   "outputs": [],
   "source": [
    ". ../../../../scripts/core.ps1"
   ]
  },
  {
   "cell_type": "markdown",
   "metadata": {},
   "source": [
    "### Include spiral library"
   ]
  },
  {
   "cell_type": "code",
   "execution_count": null,
   "metadata": {
    "dotnet_interactive": {
     "language": "pwsh"
    },
    "polyglot_notebook": {
     "kernelName": "pwsh"
    }
   },
   "outputs": [],
   "source": [
    ". ../../../../lib/spiral/lib.ps1"
   ]
  },
  {
   "cell_type": "markdown",
   "metadata": {},
   "source": [
    "## execute project commands"
   ]
  },
  {
   "cell_type": "markdown",
   "metadata": {},
   "source": [
    "### run notebook with retries using spiral supervisor"
   ]
  },
  {
   "cell_type": "code",
   "execution_count": null,
   "metadata": {
    "dotnet_interactive": {
     "language": "pwsh"
    },
    "polyglot_notebook": {
     "kernelName": "pwsh"
    }
   },
   "outputs": [
    {
     "name": "stdout",
     "output_type": "stream",
     "text": [
      "00:00:00 \u001B[90mv\u001B[0m #1 networking.test_port_open / { port = 13806; ex = System.AggregateException: One or more errors occurred. (Connection refused) }\n",
      "00:00:00 \u001B[94md\u001B[0m #1 runtime.execute_with_options_async / { file_name = ../../../../workspace/target/release/spiral_builder; arguments = US5_0 \"dib --path test.dib --retries 3\"; options = { command = ../../../../workspace/target/release/spiral_builder dib --path test.dib --retries 3; cancellation_token = Some System.Threading.CancellationToken; environment_variables = [||]; on_line = None; stdin = None; trace = true; working_directory = None } }\n",
      "00:00:00 \u001B[90mv\u001B[0m #2 > 00:00:00 \u001B[94md\u001B[39m #1 spiral_builder.main / { args = Array(MutCell([\"dib\", \"--path\", \"test.dib\", \"--retries\", \"3\"])) }\n",
      "00:00:00 \u001B[90mv\u001B[0m #3 > 00:00:00 \u001B[94md\u001B[39m #2 runtime.execute_with_options / { file_name = dotnet; arguments = [\"repl\", \"--exit-after-run\", \"--run\", \"/home/runner/work/polyglot/polyglot/apps/spiral/temp/test/test.dib\", \"--output-path\", \"/home/runner/work/polyglot/polyglot/apps/spiral/temp/test/test.dib.ipynb\"]; options = { command = dotnet repl --exit-after-run --run \"/home/runner/work/polyglot/polyglot/apps/spiral/temp/test/test.dib\" --output-path \"/home/runner/work/polyglot/polyglot/apps/spiral/temp/test/test.dib.ipynb\"; cancellation_token = None; environment_variables = Array(MutCell([(\"TRACE_LEVEL\", \"Verbose\"), (\"AUTOMATION\", \"True\")])); on_line = None; stdin = None; trace = false; working_directory = None } }\n",
      "00:00:02 \u001B[90mv\u001B[0m #4 > >\n",
      "00:00:02 \u001B[90mv\u001B[0m #5 > > \u001B[38;5;103m── markdown ────────────────────────────────────────────────────────────────────\u001B[0m\n",
      "00:00:02 \u001B[90mv\u001B[0m #6 > > \u001B[38;5;103m╭──────────────────────────────────────────────────────────────────────────────╮\u001B[0m\n",
      "00:00:02 \u001B[90mv\u001B[0m #7 > > \u001B[38;5;103m│\u001B[0m # test (Polyglot)                                                            \u001B[38;5;103m│\u001B[0m\n",
      "00:00:02 \u001B[90mv\u001B[0m #8 > > \u001B[38;5;103m╰──────────────────────────────────────────────────────────────────────────────╯\u001B[0m\n",
      "00:00:04 \u001B[90mv\u001B[0m #9 > >\n",
      "00:00:04 \u001B[90mv\u001B[0m #10 > > \u001B[38;5;103m── spiral ──────────────────────────────────────────────────────────────────────\u001B[0m\n",
      "00:00:04 \u001B[90mv\u001B[0m #11 > > //// test\n",
      "00:00:04 \u001B[90mv\u001B[0m #12 > >\n",
      "00:00:04 \u001B[90mv\u001B[0m #13 > > open testing\n",
      "00:00:08 \u001B[90mv\u001B[0m #14 > >\n",
      "00:00:08 \u001B[90mv\u001B[0m #15 > > \u001B[38;5;103m── spiral ──────────────────────────────────────────────────────────────────────\u001B[0m\n",
      "00:00:08 \u001B[90mv\u001B[0m #16 > > nominal i = ()\n",
      "00:00:08 \u001B[90mv\u001B[0m #17 > > nominal e = ()\n",
      "00:00:08 \u001B[90mv\u001B[0m #18 > > nominal s = ()\n",
      "00:00:08 \u001B[90mv\u001B[0m #19 > > nominal n = ()\n",
      "00:00:08 \u001B[90mv\u001B[0m #20 > > nominal t = ()\n",
      "00:00:08 \u001B[90mv\u001B[0m #21 > > nominal f = ()\n",
      "00:00:08 \u001B[90mv\u001B[0m #22 > > nominal j = ()\n",
      "00:00:08 \u001B[90mv\u001B[0m #23 > > nominal p = ()\n",
      "00:00:08 \u001B[90mv\u001B[0m #24 > >\n",
      "00:00:08 \u001B[90mv\u001B[0m #25 > > union sensing =\n",
      "00:00:08 \u001B[90mv\u001B[0m #26 > >     | Si : s * i\n",
      "00:00:08 \u001B[90mv\u001B[0m #27 > >     | Se : s * e\n",
      "00:00:08 \u001B[90mv\u001B[0m #28 > >\n",
      "00:00:08 \u001B[90mv\u001B[0m #29 > > union intuition =\n",
      "00:00:08 \u001B[90mv\u001B[0m #30 > >     | Ni : n * i\n",
      "00:00:08 \u001B[90mv\u001B[0m #31 > >     | Ne : n * e\n",
      "00:00:08 \u001B[90mv\u001B[0m #32 > >\n",
      "00:00:08 \u001B[90mv\u001B[0m #33 > > union thinking =\n",
      "00:00:08 \u001B[90mv\u001B[0m #34 > >     | Ti : t * i\n",
      "00:00:08 \u001B[90mv\u001B[0m #35 > >     | Te : t * e\n",
      "00:00:08 \u001B[90mv\u001B[0m #36 > >\n",
      "00:00:08 \u001B[90mv\u001B[0m #37 > > union feeling =\n",
      "00:00:08 \u001B[90mv\u001B[0m #38 > >     | Fi : f * i\n",
      "00:00:08 \u001B[90mv\u001B[0m #39 > >     | Fe : f * e\n",
      "00:00:08 \u001B[90mv\u001B[0m #40 > >\n",
      "00:00:08 \u001B[90mv\u001B[0m #41 > > union function_stack =\n",
      "00:00:08 \u001B[90mv\u001B[0m #42 > >     | FS : sensing * intuition * thinking * feeling\n",
      "00:00:08 \u001B[90mv\u001B[0m #43 > >\n",
      "00:00:08 \u001B[90mv\u001B[0m #44 > > union personality_type =\n",
      "00:00:08 \u001B[90mv\u001B[0m #45 > >     | ISTJ : i * s * t * j * function_stack\n",
      "00:00:08 \u001B[90mv\u001B[0m #46 > >     | ISFJ : i * s * f * j * function_stack\n",
      "00:00:08 \u001B[90mv\u001B[0m #47 > >     | INFJ : i * n * f * j * function_stack\n",
      "00:00:08 \u001B[90mv\u001B[0m #48 > >     | INTJ : i * n * t * j * function_stack\n",
      "00:00:08 \u001B[90mv\u001B[0m #49 > >     | ISTP : i * s * t * p * function_stack\n",
      "00:00:08 \u001B[90mv\u001B[0m #50 > >     | ISFP : i * s * f * p * function_stack\n",
      "00:00:08 \u001B[90mv\u001B[0m #51 > >     | INFP : i * n * f * p * function_stack\n",
      "00:00:08 \u001B[90mv\u001B[0m #52 > >     | INTP : i * n * t * p * function_stack\n",
      "00:00:08 \u001B[90mv\u001B[0m #53 > >     | ESTP : e * s * t * p * function_stack\n",
      "00:00:08 \u001B[90mv\u001B[0m #54 > >     | ESFP : e * s * f * p * function_stack\n",
      "00:00:08 \u001B[90mv\u001B[0m #55 > >     | ENFP : e * n * f * p * function_stack\n",
      "00:00:08 \u001B[90mv\u001B[0m #56 > >     | ENTP : e * n * t * p * function_stack\n",
      "00:00:08 \u001B[90mv\u001B[0m #57 > >     | ESTJ : e * s * t * j * function_stack\n",
      "00:00:08 \u001B[90mv\u001B[0m #58 > >     | ESFJ : e * s * f * j * function_stack\n",
      "00:00:08 \u001B[90mv\u001B[0m #59 > >     | ENFJ : e * n * f * j * function_stack\n",
      "00:00:08 \u001B[90mv\u001B[0m #60 > >     | ENTJ : e * n * t * j * function_stack\n",
      "00:00:08 \u001B[90mv\u001B[0m #61 > >\n",
      "00:00:08 \u001B[90mv\u001B[0m #62 > >\n",
      "00:00:08 \u001B[90mv\u001B[0m #63 > > inl main () =\n",
      "00:00:08 \u001B[90mv\u001B[0m #64 > >     inl istj_stack = FS ((Si (s, i)), Ne (n, e), (Te (t, e)), (Fi (f, i)))\n",
      "00:00:08 \u001B[90mv\u001B[0m #65 > >     inl istj_personality = ISTJ (i, s, t, j, istj_stack)\n",
      "00:00:08 \u001B[90mv\u001B[0m #66 > >     // inl isfj_stack = FS ((Si (s, i)), Ne (n, e), (Fe (f, e)), (Ti (t, i)))\n",
      "00:00:08 \u001B[90mv\u001B[0m #67 > >     // inl isfj_personality = ISFJ (i, s, f, j, isfj_stack)\n",
      "00:00:08 \u001B[90mv\u001B[0m #68 > >\n",
      "00:00:08 \u001B[90mv\u001B[0m #69 > >     ;[[\n",
      "00:00:08 \u001B[90mv\u001B[0m #70 > >         istj_personality\n",
      "00:00:08 \u001B[90mv\u001B[0m #71 > >     ]]\n",
      "00:00:08 \u001B[90mv\u001B[0m #72 > >     |> fun x => $'$\"%A{!x}\"' : string\n",
      "00:00:08 \u001B[90mv\u001B[0m #73 > >     |> console.write_line\n",
      "00:00:08 \u001B[90mv\u001B[0m #74 > >\n",
      "00:00:08 \u001B[90mv\u001B[0m #75 > > inl main () =\n",
      "00:00:08 \u001B[90mv\u001B[0m #76 > >     $'!main ()' : ()\n",
      "00:00:09 \u001B[90mv\u001B[0m #77 > >\n",
      "00:00:09 \u001B[90mv\u001B[0m #78 > > \u001B[38;5;2m╭─[ 1.36s - stdout ]───────────────────────────────────────────────────────────╮\u001B[0m\n",
      "00:00:09 \u001B[90mv\u001B[0m #79 > > \u001B[38;5;2m│\u001B[0m [|US5_0 (US4_0 (US0_0, US1_1, US2_1, US3_0))|]                               \u001B[38;5;2m│\u001B[0m\n",
      "00:00:09 \u001B[90mv\u001B[0m #80 > > \u001B[38;5;2m│\u001B[0m                                                                              \u001B[38;5;2m│\u001B[0m\n",
      "00:00:09 \u001B[90mv\u001B[0m #81 > > \u001B[38;5;2m╰──────────────────────────────────────────────────────────────────────────────╯\u001B[0m\n",
      "00:00:10 \u001B[90mv\u001B[0m #82 > >\n",
      "00:00:10 \u001B[90mv\u001B[0m #83 > > \u001B[38;5;103m── fsharp ──────────────────────────────────────────────────────────────────────\u001B[0m\n",
      "00:00:10 \u001B[90mv\u001B[0m #84 > > type PhonologicalFeature =\n",
      "00:00:10 \u001B[90mv\u001B[0m #85 > >     | VowelFeature of\n",
      "00:00:10 \u001B[90mv\u001B[0m #86 > >         height: Height\n",
      "00:00:10 \u001B[90mv\u001B[0m #87 > >         * backness: Backness\n",
      "00:00:10 \u001B[90mv\u001B[0m #88 > >         * roundedness: Roundedness\n",
      "00:00:10 \u001B[90mv\u001B[0m #89 > >         * tone: Option<Tone>\n",
      "00:00:10 \u001B[90mv\u001B[0m #90 > >         * stress: Option<Stress>\n",
      "00:00:10 \u001B[90mv\u001B[0m #91 > >         * length: Option<Length>\n",
      "00:00:10 \u001B[90mv\u001B[0m #92 > >     | ConsonantFeature of\n",
      "00:00:10 \u001B[90mv\u001B[0m #93 > >         place: PlaceOfArticulation\n",
      "00:00:10 \u001B[90mv\u001B[0m #94 > >         * manner: MannerOfArticulation\n",
      "00:00:10 \u001B[90mv\u001B[0m #95 > >         * voicing: Voicing\n",
      "00:00:10 \u001B[90mv\u001B[0m #96 > >         * length: Option<Length>\n",
      "00:00:10 \u001B[90mv\u001B[0m #97 > >     | VowelHarmonyFeature\n",
      "00:00:10 \u001B[90mv\u001B[0m #98 > >     | PitchAccentFeature\n",
      "00:00:10 \u001B[90mv\u001B[0m #99 > >\n",
      "00:00:10 \u001B[90mv\u001B[0m #100 > > and Stress = Primary | Secondary\n",
      "00:00:10 \u001B[90mv\u001B[0m #101 > > and Length = Long | Short | HalfLong\n",
      "00:00:10 \u001B[90mv\u001B[0m #102 > >\n",
      "00:00:10 \u001B[90mv\u001B[0m #103 > > and Height =\n",
      "00:00:10 \u001B[90mv\u001B[0m #104 > >     | High | NearHigh | HighMid\n",
      "00:00:10 \u001B[90mv\u001B[0m #105 > >     | Mid | LowMid | NearLow\n",
      "00:00:10 \u001B[90mv\u001B[0m #106 > >     | Low\n",
      "00:00:10 \u001B[90mv\u001B[0m #107 > >\n",
      "00:00:10 \u001B[90mv\u001B[0m #108 > > and Backness = Front | Central | Back\n",
      "00:00:10 \u001B[90mv\u001B[0m #109 > >\n",
      "00:00:10 \u001B[90mv\u001B[0m #110 > > and Roundedness = Rounded | Unrounded\n",
      "00:00:10 \u001B[90mv\u001B[0m #111 > >\n",
      "00:00:10 \u001B[90mv\u001B[0m #112 > > and PlaceOfArticulation =\n",
      "00:00:10 \u001B[90mv\u001B[0m #113 > >     | Bilabial | Labiodental | Dental\n",
      "00:00:10 \u001B[90mv\u001B[0m #114 > >     | Alveolar | Postalveolar | Retroflex\n",
      "00:00:10 \u001B[90mv\u001B[0m #115 > >     | Palatal | Velar | Uvular\n",
      "00:00:10 \u001B[90mv\u001B[0m #116 > >     | Pharyngeal | Epiglottal | Glottal\n",
      "00:00:10 \u001B[90mv\u001B[0m #117 > >\n",
      "00:00:10 \u001B[90mv\u001B[0m #118 > > and MannerOfArticulation =\n",
      "00:00:10 \u001B[90mv\u001B[0m #119 > >     | Plosive | Nasal | Trill\n",
      "00:00:10 \u001B[90mv\u001B[0m #120 > >     | TapOrFlap | Fricative | LateralFricative\n",
      "00:00:10 \u001B[90mv\u001B[0m #121 > >     | Approximant | LateralApproximant\n",
      "00:00:10 \u001B[90mv\u001B[0m #122 > >\n",
      "00:00:10 \u001B[90mv\u001B[0m #123 > > and Voicing = Voiced | Voiceless\n",
      "00:00:10 \u001B[90mv\u001B[0m #124 > >\n",
      "00:00:10 \u001B[90mv\u001B[0m #125 > > and SecondaryArticulation =\n",
      "00:00:10 \u001B[90mv\u001B[0m #126 > >     | Labialization | Palatalization | Velarization\n",
      "00:00:10 \u001B[90mv\u001B[0m #127 > >     | Pharyngealization | Aspiration\n",
      "00:00:10 \u001B[90mv\u001B[0m #128 > >\n",
      "00:00:10 \u001B[90mv\u001B[0m #129 > > and Tone =\n",
      "00:00:10 \u001B[90mv\u001B[0m #130 > >     | LevelTone of int\n",
      "00:00:10 \u001B[90mv\u001B[0m #131 > >     | ContourTone of int list\n",
      "00:00:10 \u001B[90mv\u001B[0m #132 > >\n",
      "00:00:10 \u001B[90mv\u001B[0m #133 > > and MorphologicalFeature =\n",
      "00:00:10 \u001B[90mv\u001B[0m #134 > >     | RootFeature of string\n",
      "00:00:10 \u001B[90mv\u001B[0m #135 > >     | AffixFeature of AffixType * string\n",
      "00:00:10 \u001B[90mv\u001B[0m #136 > >     | IncorporationFeature of string * MorphologicalFeature\n",
      "00:00:10 \u001B[90mv\u001B[0m #137 > >     | NonConcatenativePattern of string * string\n",
      "00:00:10 \u001B[90mv\u001B[0m #138 > >     | AgglutinativeAffixFeature of AgglutinativeAffixType * string\n",
      "00:00:10 \u001B[90mv\u001B[0m #139 > >     | HonorificFeature of HonorificType * string\n",
      "00:00:10 \u001B[90mv\u001B[0m #140 > >\n",
      "00:00:10 \u001B[90mv\u001B[0m #141 > > and AgglutinativeAffixType = Suffix | Prefix\n",
      "00:00:10 \u001B[90mv\u001B[0m #142 > >\n",
      "00:00:10 \u001B[90mv\u001B[0m #143 > > and HonorificType = VerbHonorific | NounHonorific\n",
      "00:00:10 \u001B[90mv\u001B[0m #144 > >\n",
      "00:00:10 \u001B[90mv\u001B[0m #145 > > and AffixType =\n",
      "00:00:10 \u001B[90mv\u001B[0m #146 > >     | Prefix | Suffix | Infix\n",
      "00:00:10 \u001B[90mv\u001B[0m #147 > >     | Circumfix\n",
      "00:00:10 \u001B[90mv\u001B[0m #148 > >\n",
      "00:00:10 \u001B[90mv\u001B[0m #149 > > type SyntacticFeature =\n",
      "00:00:10 \u001B[90mv\u001B[0m #150 > >     | WordFeature of MorphologicalFeature list * LexicalCategory\n",
      "00:00:10 \u001B[90mv\u001B[0m #151 > >     | PhraseFeature of PhraseType * SyntacticFeature list\n",
      "00:00:10 \u001B[90mv\u001B[0m #152 > >     | GrammaticalRelation of GrammaticalRelationType * SyntacticFeature list\n",
      "00:00:10 \u001B[90mv\u001B[0m #153 > >     | SOVOrderFeature\n",
      "00:00:10 \u001B[90mv\u001B[0m #154 > >     | TopicCommentFeature\n",
      "00:00:10 \u001B[90mv\u001B[0m #155 > >\n",
      "00:00:10 \u001B[90mv\u001B[0m #156 > > and GrammaticalRelationType =\n",
      "00:00:10 \u001B[90mv\u001B[0m #157 > >     | Ergative | Absolutive | Nominative\n",
      "00:00:10 \u001B[90mv\u001B[0m #158 > >     | Accusative\n",
      "00:00:10 \u001B[90mv\u001B[0m #159 > >\n",
      "00:00:10 \u001B[90mv\u001B[0m #160 > > and LexicalCategory =\n",
      "00:00:10 \u001B[90mv\u001B[0m #161 > >     | Noun | Verb | Adjective\n",
      "00:00:10 \u001B[90mv\u001B[0m #162 > >     | Adverb | Pronoun | Preposition\n",
      "00:00:10 \u001B[90mv\u001B[0m #163 > >     | Conjunction | Determiner | Interjection\n",
      "00:00:10 \u001B[90mv\u001B[0m #164 > >\n",
      "00:00:10 \u001B[90mv\u001B[0m #165 > > and PhraseType =\n",
      "00:00:10 \u001B[90mv\u001B[0m #166 > >     | NP | VP | AP\n",
      "00:00:10 \u001B[90mv\u001B[0m #167 > >     | PP | CP\n",
      "00:00:10 \u001B[90mv\u001B[0m #168 > >\n",
      "00:00:10 \u001B[90mv\u001B[0m #169 > > and SemanticFeature =\n",
      "00:00:10 \u001B[90mv\u001B[0m #170 > >     | Meaning of string\n",
      "00:00:10 \u001B[90mv\u001B[0m #171 > >     | SemanticRole of SemanticRoleType * SemanticFeature\n",
      "00:00:10 \u001B[90mv\u001B[0m #172 > >\n",
      "00:00:10 \u001B[90mv\u001B[0m #173 > > and SemanticRoleType =\n",
      "00:00:10 \u001B[90mv\u001B[0m #174 > >     | Agent | Patient | Instrument\n",
      "00:00:10 \u001B[90mv\u001B[0m #175 > >     | Location | Time | Cause\n",
      "00:00:10 \u001B[90mv\u001B[0m #176 > >\n",
      "00:00:10 \u001B[90mv\u001B[0m #177 > > and PragmaticFeature =\n",
      "00:00:10 \u001B[90mv\u001B[0m #178 > >     | UseContext of string\n",
      "00:00:10 \u001B[90mv\u001B[0m #179 > >     | PolitenessLevel of Politeness\n",
      "00:00:10 \u001B[90mv\u001B[0m #180 > >     | SpeechAct of SpeechActType\n",
      "00:00:10 \u001B[90mv\u001B[0m #181 > >     | SpeechLevel of SpeechLevelType\n",
      "00:00:10 \u001B[90mv\u001B[0m #182 > >\n",
      "00:00:10 \u001B[90mv\u001B[0m #183 > > and Politeness = Formal | Informal | Neutral\n",
      "00:00:10 \u001B[90mv\u001B[0m #184 > >\n",
      "00:00:10 \u001B[90mv\u001B[0m #185 > > and SpeechActType =\n",
      "00:00:10 \u001B[90mv\u001B[0m #186 > >     | Assertive | Directive | Commissive\n",
      "00:00:10 \u001B[90mv\u001B[0m #187 > >     | Expressive | Declarative\n",
      "00:00:10 \u001B[90mv\u001B[0m #188 > >\n",
      "00:00:10 \u001B[90mv\u001B[0m #189 > > and SpeechLevelType =\n",
      "00:00:10 \u001B[90mv\u001B[0m #190 > >     | FormalHigh | FormalLow | InformalHigh\n",
      "00:00:10 \u001B[90mv\u001B[0m #191 > >     | InformalLow | Neutral\n",
      "00:00:10 \u001B[90mv\u001B[0m #192 > >\n",
      "00:00:10 \u001B[90mv\u001B[0m #193 > > type LinguisticFeature =\n",
      "00:00:10 \u001B[90mv\u001B[0m #194 > >     | Phonological of PhonologicalFeature\n",
      "00:00:10 \u001B[90mv\u001B[0m #195 > >     | Morphological of MorphologicalFeature\n",
      "00:00:10 \u001B[90mv\u001B[0m #196 > >     | Syntactic of SyntacticFeature\n",
      "00:00:10 \u001B[90mv\u001B[0m #197 > >     | Semantic of SemanticFeature\n",
      "00:00:10 \u001B[90mv\u001B[0m #198 > >     | Pragmatic of PragmaticFeature\n",
      "00:00:10 \u001B[90mv\u001B[0m #199 > >\n",
      "00:00:10 \u001B[90mv\u001B[0m #200 > > type LanguageConstruct =\n",
      "00:00:10 \u001B[90mv\u001B[0m #201 > >     | LanguageElement of LinguisticFeature\n",
      "00:00:10 \u001B[90mv\u001B[0m #202 > >     | LanguageStructure of LanguageConstruct list\n",
      "00:00:10 \u001B[90mv\u001B[0m #203 > >     | TranslationElement of TranslationFeature\n",
      "00:00:10 \u001B[90mv\u001B[0m #204 > >\n",
      "00:00:10 \u001B[90mv\u001B[0m #205 > > and TranslationFeature =\n",
      "00:00:10 \u001B[90mv\u001B[0m #206 > >     | LinkedPhonological of PhonologicalFeature * PhonologicalFeature\n",
      "00:00:10 \u001B[90mv\u001B[0m #207 > >     | LinkedMorphological of MorphologicalFeature * MorphologicalFeature\n",
      "00:00:10 \u001B[90mv\u001B[0m #208 > >     | LinkedSyntactic of SyntacticFeature * SyntacticFeature\n",
      "00:00:10 \u001B[90mv\u001B[0m #209 > >     | LinkedSemantic of SemanticFeature * SemanticFeature\n",
      "00:00:10 \u001B[90mv\u001B[0m #210 > >\n",
      "00:00:10 \u001B[90mv\u001B[0m #211 > > type Discourse = DiscourseUnit of LanguageConstruct list\n",
      "00:00:10 \u001B[90mv\u001B[0m #212 > >\n",
      "00:00:10 \u001B[90mv\u001B[0m #213 > > type LanguageModel =\n",
      "00:00:10 \u001B[90mv\u001B[0m #214 > >     | Model of discourse: Discourse\n",
      "00:00:11 \u001B[90mv\u001B[0m #215 > >\n",
      "00:00:11 \u001B[90mv\u001B[0m #216 > > \u001B[38;5;103m── fsharp ──────────────────────────────────────────────────────────────────────\u001B[0m\n",
      "00:00:11 \u001B[90mv\u001B[0m #217 > > let testEnglish =\n",
      "00:00:11 \u001B[90mv\u001B[0m #218 > >     Model(\n",
      "00:00:11 \u001B[90mv\u001B[0m #219 > >         DiscourseUnit [[\n",
      "00:00:11 \u001B[90mv\u001B[0m #220 > >             LanguageElement (Phonological (ConsonantFeature (Alveolar, Nasal,\n",
      "00:00:11 \u001B[90mv\u001B[0m #221 > > Voiced, Some(HalfLong))));\n",
      "00:00:11 \u001B[90mv\u001B[0m #222 > >             LanguageElement (Phonological (VowelFeature (High, Front, Unrounded,\n",
      "00:00:11 \u001B[90mv\u001B[0m #223 > > Some(LevelTone 1), Some(Primary), Some(Short))));\n",
      "00:00:11 \u001B[90mv\u001B[0m #224 > >             LanguageElement (Phonological (VowelFeature (Low, Front, Unrounded,\n",
      "00:00:11 \u001B[90mv\u001B[0m #225 > > Some(LevelTone 2), Some(Secondary), Some(Long))));\n",
      "00:00:11 \u001B[90mv\u001B[0m #226 > >             LanguageElement (Phonological (ConsonantFeature (Velar, Plosive,\n",
      "00:00:11 \u001B[90mv\u001B[0m #227 > > Voiceless, Some(HalfLong))));\n",
      "00:00:11 \u001B[90mv\u001B[0m #228 > >             LanguageElement (Morphological (RootFeature \"I\"));\n",
      "00:00:11 \u001B[90mv\u001B[0m #229 > >             LanguageElement (Morphological (RootFeature \"see\"));\n",
      "00:00:11 \u001B[90mv\u001B[0m #230 > >             LanguageElement (Morphological (RootFeature \"a\"));\n",
      "00:00:11 \u001B[90mv\u001B[0m #231 > >             LanguageElement (Morphological (RootFeature \"cat\"));\n",
      "00:00:11 \u001B[90mv\u001B[0m #232 > >             LanguageElement (Syntactic (PhraseFeature (NP, [[WordFeature\n",
      "00:00:11 \u001B[90mv\u001B[0m #233 > > ([[RootFeature \"I\"]], Pronoun)]])));\n",
      "00:00:11 \u001B[90mv\u001B[0m #234 > >             LanguageElement (Syntactic (PhraseFeature (VP, [[WordFeature\n",
      "00:00:11 \u001B[90mv\u001B[0m #235 > > ([[RootFeature \"see\"]], Verb)]])));\n",
      "00:00:11 \u001B[90mv\u001B[0m #236 > >             LanguageElement (Syntactic (PhraseFeature (NP, [[WordFeature\n",
      "00:00:11 \u001B[90mv\u001B[0m #237 > > ([[RootFeature \"a\"; RootFeature \"cat\"]], Noun)]])));\n",
      "00:00:11 \u001B[90mv\u001B[0m #238 > >             LanguageElement (Semantic (Meaning \"Perception act of a feline by\n",
      "00:00:11 \u001B[90mv\u001B[0m #239 > > the speaker\"));\n",
      "00:00:11 \u001B[90mv\u001B[0m #240 > >             LanguageElement (Pragmatic (UseContext \"Statement of an action being\n",
      "00:00:11 \u001B[90mv\u001B[0m #241 > > observed\"))\n",
      "00:00:11 \u001B[90mv\u001B[0m #242 > >         ]]\n",
      "00:00:11 \u001B[90mv\u001B[0m #243 > >     )\n",
      "00:00:11 \u001B[90mv\u001B[0m #244 > >\n",
      "00:00:11 \u001B[90mv\u001B[0m #245 > > let testPortuguese =\n",
      "00:00:11 \u001B[90mv\u001B[0m #246 > >     Model(\n",
      "00:00:11 \u001B[90mv\u001B[0m #247 > >         DiscourseUnit [[\n",
      "00:00:11 \u001B[90mv\u001B[0m #248 > >             LanguageElement (Phonological (VowelFeature (High, Front, Unrounded,\n",
      "00:00:11 \u001B[90mv\u001B[0m #249 > > Some(LevelTone 1), Some(Primary), Some(Short))));\n",
      "00:00:11 \u001B[90mv\u001B[0m #250 > >             LanguageElement (Phonological (VowelFeature (Low, Front, Unrounded,\n",
      "00:00:11 \u001B[90mv\u001B[0m #251 > > Some(LevelTone 2), Some(Secondary), Some(Long))));\n",
      "00:00:11 \u001B[90mv\u001B[0m #252 > >             LanguageElement (Phonological (VowelFeature (Mid, Back, Rounded,\n",
      "00:00:11 \u001B[90mv\u001B[0m #253 > > Some(LevelTone 3), Some(Primary), Some(Short))));\n",
      "00:00:11 \u001B[90mv\u001B[0m #254 > >             LanguageElement (Phonological (ConsonantFeature (Velar, Plosive,\n",
      "00:00:11 \u001B[90mv\u001B[0m #255 > > Voiceless, Some(HalfLong))));\n",
      "00:00:11 \u001B[90mv\u001B[0m #256 > >             LanguageElement (Morphological (RootFeature \"Eu\"));\n",
      "00:00:11 \u001B[90mv\u001B[0m #257 > >             LanguageElement (Morphological (RootFeature \"ver\" |> ignore;\n",
      "00:00:11 \u001B[90mv\u001B[0m #258 > > AffixFeature (Suffix, \"o\")));\n",
      "00:00:11 \u001B[90mv\u001B[0m #259 > >             LanguageElement (Morphological (RootFeature \"um\"));\n",
      "00:00:11 \u001B[90mv\u001B[0m #260 > >             LanguageElement (Morphological (RootFeature \"gato\"));\n",
      "00:00:11 \u001B[90mv\u001B[0m #261 > >             LanguageElement (Syntactic (PhraseFeature (NP, [[WordFeature\n",
      "00:00:11 \u001B[90mv\u001B[0m #262 > > ([[RootFeature \"Eu\"]], Pronoun)]])));\n",
      "00:00:11 \u001B[90mv\u001B[0m #263 > >             LanguageElement (Syntactic (PhraseFeature (VP, [[WordFeature\n",
      "00:00:11 \u001B[90mv\u001B[0m #264 > > ([[RootFeature \"vejo\"]], Verb)]])));\n",
      "00:00:11 \u001B[90mv\u001B[0m #265 > >             LanguageElement (Syntactic (PhraseFeature (NP, [[WordFeature\n",
      "00:00:11 \u001B[90mv\u001B[0m #266 > > ([[RootFeature \"um\"; RootFeature \"gato\"]], Noun)]])));\n",
      "00:00:11 \u001B[90mv\u001B[0m #267 > >             LanguageElement (Semantic (Meaning \"Ação de percepção de um felino\n",
      "00:00:11 \u001B[90mv\u001B[0m #268 > > pelo falante\"));\n",
      "00:00:11 \u001B[90mv\u001B[0m #269 > >             LanguageElement (Pragmatic (UseContext \"Declaração de uma ação sendo\n",
      "00:00:11 \u001B[90mv\u001B[0m #270 > > observada\"))\n",
      "00:00:11 \u001B[90mv\u001B[0m #271 > >         ]]\n",
      "00:00:11 \u001B[90mv\u001B[0m #272 > >     )\n",
      "00:00:11 \u001B[90mv\u001B[0m #273 > >\n",
      "00:00:11 \u001B[90mv\u001B[0m #274 > > let testKorean =\n",
      "00:00:11 \u001B[90mv\u001B[0m #275 > >     Model(\n",
      "00:00:11 \u001B[90mv\u001B[0m #276 > >         DiscourseUnit [[\n",
      "00:00:11 \u001B[90mv\u001B[0m #277 > >             LanguageElement (Phonological (ConsonantFeature (Alveolar, Nasal,\n",
      "00:00:11 \u001B[90mv\u001B[0m #278 > > Voiced, Some(Short))));\n",
      "00:00:11 \u001B[90mv\u001B[0m #279 > >             LanguageElement (Phonological (VowelFeature (High, Back, Rounded,\n",
      "00:00:11 \u001B[90mv\u001B[0m #280 > > None, None, Some(Short))));\n",
      "00:00:11 \u001B[90mv\u001B[0m #281 > >             LanguageElement (Phonological (VowelFeature (Mid, Front, Unrounded,\n",
      "00:00:11 \u001B[90mv\u001B[0m #282 > > None, None, Some(Long))));\n",
      "00:00:11 \u001B[90mv\u001B[0m #283 > >             LanguageElement (Phonological (ConsonantFeature (Bilabial, Plosive,\n",
      "00:00:11 \u001B[90mv\u001B[0m #284 > > Voiceless, Some(Short))));\n",
      "00:00:11 \u001B[90mv\u001B[0m #285 > >             LanguageElement (Morphological (RootFeature \"나\"));\n",
      "00:00:11 \u001B[90mv\u001B[0m #286 > >             LanguageElement (Morphological (RootFeature \"보다\"));\n",
      "00:00:11 \u001B[90mv\u001B[0m #287 > >             LanguageElement (Morphological (AffixFeature (Suffix, \"아\")));\n",
      "00:00:11 \u001B[90mv\u001B[0m #288 > >             LanguageElement (Morphological (RootFeature \"고양이\"));\n",
      "00:00:11 \u001B[90mv\u001B[0m #289 > >             LanguageElement (Syntactic (PhraseFeature (NP, [[WordFeature\n",
      "00:00:11 \u001B[90mv\u001B[0m #290 > > ([[RootFeature \"나\"]], Pronoun)]])));\n",
      "00:00:11 \u001B[90mv\u001B[0m #291 > >             LanguageElement (Syntactic (PhraseFeature (VP, [[WordFeature\n",
      "00:00:11 \u001B[90mv\u001B[0m #292 > > ([[RootFeature \"보다\"; AffixFeature (Suffix, \"아\")]], Verb)]])));\n",
      "00:00:11 \u001B[90mv\u001B[0m #293 > >             LanguageElement (Syntactic (PhraseFeature (NP, [[WordFeature\n",
      "00:00:11 \u001B[90mv\u001B[0m #294 > > ([[RootFeature \"고양이\"]], Noun)]])));\n",
      "00:00:11 \u001B[90mv\u001B[0m #295 > >             LanguageElement (Semantic (Meaning \"화자에 의한 고양이의 관찰\n",
      "00:00:11 \u001B[90mv\u001B[0m #296 > > 행위\"));\n",
      "00:00:11 \u001B[90mv\u001B[0m #297 > >             LanguageElement (Pragmatic (UseContext \"관찰되고 있는 행동의 진술\"))\n",
      "00:00:11 \u001B[90mv\u001B[0m #298 > >         ]]\n",
      "00:00:11 \u001B[90mv\u001B[0m #299 > >     )\n",
      "00:00:11 \u001B[90mv\u001B[0m #300 > >\n",
      "00:00:11 \u001B[90mv\u001B[0m #301 > > \u001B[38;5;103m── markdown ────────────────────────────────────────────────────────────────────\u001B[0m\n",
      "00:00:11 \u001B[90mv\u001B[0m #302 > > \u001B[38;5;103m╭──────────────────────────────────────────────────────────────────────────────╮\u001B[0m\n",
      "00:00:11 \u001B[90mv\u001B[0m #303 > > \u001B[38;5;103m│\u001B[0m ## main                                                                      \u001B[38;5;103m│\u001B[0m\n",
      "00:00:11 \u001B[90mv\u001B[0m #304 > > \u001B[38;5;103m╰──────────────────────────────────────────────────────────────────────────────╯\u001B[0m\n",
      "00:00:11 \u001B[90mv\u001B[0m #305 > >\n",
      "00:00:11 \u001B[90mv\u001B[0m #306 > > \u001B[38;5;103m── spiral ──────────────────────────────────────────────────────────────────────\u001B[0m\n",
      "00:00:11 \u001B[90mv\u001B[0m #307 > > inl main (_args : array_base string) =\n",
      "00:00:11 \u001B[90mv\u001B[0m #308 > >     0i32\n",
      "00:00:11 \u001B[90mv\u001B[0m #309 > >\n",
      "00:00:11 \u001B[90mv\u001B[0m #310 > > inl main () =\n",
      "00:00:11 \u001B[90mv\u001B[0m #311 > >     $'let main args = !main args' : ()\n",
      "00:00:11 \u001B[90mv\u001B[0m #312 > >\n",
      "00:00:11 \u001B[90mv\u001B[0m #313 > > \u001B[38;5;103m── spiral ──────────────────────────────────────────────────────────────────────\u001B[0m\n",
      "00:00:11 \u001B[90mv\u001B[0m #314 > > inl app () =\n",
      "00:00:11 \u001B[90mv\u001B[0m #315 > >     \"test\" |> console.write_line\n",
      "00:00:11 \u001B[90mv\u001B[0m #316 > >     0i32\n",
      "00:00:11 \u001B[90mv\u001B[0m #317 > >\n",
      "00:00:11 \u001B[90mv\u001B[0m #318 > > inl main () =\n",
      "00:00:11 \u001B[90mv\u001B[0m #319 > >     print_static \"<test>\"\n",
      "00:00:11 \u001B[90mv\u001B[0m #320 > >\n",
      "00:00:11 \u001B[90mv\u001B[0m #321 > >     app\n",
      "00:00:11 \u001B[90mv\u001B[0m #322 > >     |> dyn\n",
      "00:00:11 \u001B[90mv\u001B[0m #323 > >     |> ignore\n",
      "00:00:11 \u001B[90mv\u001B[0m #324 > >\n",
      "00:00:11 \u001B[90mv\u001B[0m #325 > >     print_static \"</test>\"\n",
      "00:00:12 \u001B[90mv\u001B[0m #326 > 00:00:11 \u001B[90mv\u001B[39m #3 runtime.execute_with_options / result / { exit_code = 0; std_trace_length = 11263 }\n",
      "00:00:12 \u001B[90mv\u001B[0m #327 > 00:00:11 \u001B[94md\u001B[39m #4 runtime.execute_with_options / { file_name = jupyter; arguments = [\"nbconvert\", \"/home/runner/work/polyglot/polyglot/apps/spiral/temp/test/test.dib.ipynb\", \"--to\", \"html\", \"--HTMLExporter.theme=dark\"]; options = { command = jupyter nbconvert \"/home/runner/work/polyglot/polyglot/apps/spiral/temp/test/test.dib.ipynb\" --to html --HTMLExporter.theme=dark; cancellation_token = None; environment_variables = Array(MutCell([])); on_line = None; stdin = None; trace = true; working_directory = None } }\n",
      "00:00:12 \u001B[90mv\u001B[0m #328 > 00:00:12 \u001B[90mv\u001B[39m #5 ! [NbConvertApp] Converting notebook /home/runner/work/polyglot/polyglot/apps/spiral/temp/test/test.dib.ipynb to html\n",
      "00:00:12 \u001B[90mv\u001B[0m #329 > 00:00:12 \u001B[90mv\u001B[39m #6 ! /opt/hostedtoolcache/Python/3.12.7/x64/lib/python3.12/site-packages/nbformat/__init__.py:96: MissingIDFieldWarning: Cell is missing an id field, this will become a hard error in future nbformat versions. You may want to use `normalize()` on your notebooks before validations (available since nbformat 5.1.4). Previous versions of nbformat are fixing this issue transparently, and will stop doing so in the future.\n",
      "00:00:12 \u001B[90mv\u001B[0m #330 > 00:00:12 \u001B[90mv\u001B[39m #7 !   validate(nb)\n",
      "00:00:13 \u001B[90mv\u001B[0m #331 > 00:00:12 \u001B[90mv\u001B[39m #8 ! /opt/hostedtoolcache/Python/3.12.7/x64/lib/python3.12/site-packages/nbconvert/filters/highlight.py:71: UserWarning: IPython3 lexer unavailable, falling back on Python 3\n",
      "00:00:13 \u001B[90mv\u001B[0m #332 > 00:00:12 \u001B[90mv\u001B[39m #9 !   return _pygments_highlight(\n",
      "00:00:13 \u001B[90mv\u001B[0m #333 > 00:00:12 \u001B[90mv\u001B[39m #10 ! [NbConvertApp] Writing 318991 bytes to /home/runner/work/polyglot/polyglot/apps/spiral/temp/test/test.dib.html\n",
      "00:00:13 \u001B[90mv\u001B[0m #334 > 00:00:12 \u001B[90mv\u001B[39m #11 runtime.execute_with_options / result / { exit_code = 0; std_trace_length = 914 }\n",
      "00:00:13 \u001B[90mv\u001B[0m #335 > 00:00:12 \u001B[94md\u001B[39m #12 spiral_builder.run / dib / jupyter nbconvert / { exit_code = 0; jupyter_result_length = 914 }\n",
      "00:00:13 \u001B[90mv\u001B[0m #336 > 00:00:12 \u001B[94md\u001B[39m #13 runtime.execute_with_options / { file_name = pwsh; arguments = [\"-c\", \"$counter = 1; $path = '/home/runner/work/polyglot/polyglot/apps/spiral/temp/test/test.dib.html'; (Get-Content $path -Raw) -replace '(id=\\\\\\\"cell-id=)[a-fA-F0-9]{8}', { $_.Groups[1].Value + $counter++ } | Set-Content $path\"]; options = { command = pwsh -c \"$counter = 1; $path = '/home/runner/work/polyglot/polyglot/apps/spiral/temp/test/test.dib.html'; (Get-Content $path -Raw) -replace '(id=\\\"cell-id=)[a-fA-F0-9]{8}', { $_.Groups[1].Value + $counter++ } | Set-Content $path\"; cancellation_token = None; environment_variables = Array(MutCell([])); on_line = None; stdin = None; trace = true; working_directory = None } }\n",
      "00:00:13 \u001B[90mv\u001B[0m #337 > 00:00:13 \u001B[90mv\u001B[39m #14 runtime.execute_with_options / result / { exit_code = 0; std_trace_length = 0 }\n",
      "00:00:13 \u001B[90mv\u001B[0m #338 > 00:00:13 \u001B[94md\u001B[39m #15 spiral_builder.run / dib / html cell ids / { exit_code = 0; pwsh_replace_html_result_length = 0 }\n",
      "00:00:13 \u001B[90mv\u001B[0m #339 > 00:00:13 \u001B[94md\u001B[39m #16 spiral_builder.run / dib / { exit_code = 0; result_length = 12236 }\n",
      "00:00:13 \u001B[94md\u001B[0m #340 runtime.execute_with_options_async / { exit_code = 0; output_length = 15637 }\n",
      "00:00:13 \u001B[94md\u001B[0m #1 main / executeCommand / exitCode: 0 / command: ../../../../workspace/target/release/spiral_builder dib --path test.dib --retries 3\n"
     ]
    }
   ],
   "source": [
    "{ . ../../../../apps/spiral/dist/Supervisor$(_exe) --execute-command \"../../../../workspace/target/release/spiral_builder$(_exe) dib --path test.dib --retries 3\" } | Invoke-Block"
   ]
  },
  {
   "cell_type": "markdown",
   "metadata": {},
   "source": [
    "### parse the .dib file into .spi format with dibparser"
   ]
  },
  {
   "cell_type": "code",
   "execution_count": null,
   "metadata": {
    "dotnet_interactive": {
     "language": "pwsh"
    },
    "polyglot_notebook": {
     "kernelName": "pwsh"
    }
   },
   "outputs": [
    {
     "name": "stdout",
     "output_type": "stream",
     "text": [
      "00:00:00 \u001B[94md\u001B[0m #1 writeDibCode / output: Spi / path: test.dib\n",
      "00:00:00 \u001B[94md\u001B[0m #2 parseDibCode / output: Spi / file: test.dib\n"
     ]
    }
   ],
   "source": [
    "{ . ../../../../apps/parser/dist/DibParser$(_exe) test.dib spi } | Invoke-Block"
   ]
  },
  {
   "cell_type": "markdown",
   "metadata": {},
   "source": [
    "### build .fsx file from .spi using supervisor"
   ]
  },
  {
   "cell_type": "code",
   "execution_count": null,
   "metadata": {
    "dotnet_interactive": {
     "language": "pwsh"
    },
    "polyglot_notebook": {
     "kernelName": "pwsh"
    }
   },
   "outputs": [
    {
     "name": "stdout",
     "output_type": "stream",
     "text": [
      "00:00:00 \u001B[90mv\u001B[0m #1 networking.test_port_open / { port = 13806; ex = System.AggregateException: One or more errors occurred. (Connection refused) }\n",
      "00:00:00 \u001B[90mv\u001B[0m #2 networking.test_port_open / { port = 13806; ex = System.AggregateException: One or more errors occurred. (Connection refused) }\n",
      "00:00:00 \u001B[94md\u001B[0m #1 Supervisor.buildFile / takeWhileInclusive / outputContent:\n",
      " / errors: [] / typeErrorCount: 0 / retry: 0 / path: test.spi\n",
      "00:00:00 \u001B[94md\u001B[0m #2 Supervisor.buildFile / AsyncSeq.scan / outputContent:\n",
      " / errors: [] / outputContentResult:  / typeErrorCount: 0 / retry: 0 / error:  / path: test.spi\n",
      "00:00:00 \u001B[94md\u001B[0m #3 Supervisor.buildFile / takeWhileInclusive / outputContent:\n",
      " / errors: [] / typeErrorCount: 0 / retry: 0 / path: test.spi\n",
      "00:00:00 \u001B[90mv\u001B[0m #4 Supervisor.sendJson / port: 13805 / json: {\"FileOpen\":{\"spiText\":\"/// # test (Polyglot)\\nnominal i = ()\\nnominal e = ()\\nnominal s = ()\\nnomin...t\\u003E\\u0022\\n\",\"uri\":\"file:///home/runner/work/polyglot/polyglot/apps/spiral/temp/test/test.spi\"}} / result:\n",
      "00:00:00 \u001B[90mv\u001B[0m #5 Supervisor.sendJson / port: 13805 / json: {\"BuildFile\":{\"backend\":\"Fsharp\",\"uri\":\"file:///home/runner/work/polyglot/polyglot/apps/spiral/temp/test/test.spi\"}} / result:\n",
      "00:00:01 \u001B[94md\u001B[0m #6 Supervisor.buildFile / AsyncSeq.scan / outputContent:\n",
      "let rec closure1 () () : unit =\n",
      "    let v0 : (string -> unit) = System.Console.WriteLine\n",
      "    let v1 : string = \"test\"\n",
      "    v0 v1\n",
      "and closure0 () () : i...t v0 : unit = ()\n",
      "    let v1 : (unit -> unit) = closure1()\n",
      "    let v2 : unit = (fun () -> v1 (); v0) ()\n",
      "    0\n",
      "let v0 : (unit -> int32) = closure0()\n",
      "()\n",
      " / errors: [] / outputContentResult:  / typeErrorCount: 0 / retry: 0 / error:  / path: test.spi\n",
      "00:00:01 \u001B[94md\u001B[0m #7 Supervisor.buildFile / takeWhileInclusive / outputContent:\n",
      "let rec closure1 () () : unit =\n",
      "    let v0 : (string -> unit) = System.Console.WriteLine\n",
      "    let v1 : string = \"test\"\n",
      "    v0 v1\n",
      "and closure0 () () : i...t v0 : unit = ()\n",
      "    let v1 : (unit -> unit) = closure1()\n",
      "    let v2 : unit = (fun () -> v1 (); v0) ()\n",
      "    0\n",
      "let v0 : (unit -> int32) = closure0()\n",
      "()\n",
      " / errors: [] / typeErrorCount: 0 / retry: 0 / path: test.spi\n",
      "00:00:01 \u001B[94md\u001B[0m #8 FileSystem.watchWithFilter / Disposing watch stream / filter: FileName, LastWrite\n"
     ]
    }
   ],
   "source": [
    "{ . ../../../../apps/spiral/dist/Supervisor$(_exe) --build-file test.spi test.fsx } | Invoke-Block"
   ]
  },
  {
   "cell_type": "markdown",
   "metadata": {},
   "source": [
    "## compile and format the project"
   ]
  },
  {
   "cell_type": "markdown",
   "metadata": {},
   "source": [
    "### compile project with fable targeting optimized rust"
   ]
  },
  {
   "cell_type": "code",
   "execution_count": null,
   "metadata": {
    "dotnet_interactive": {
     "language": "pwsh"
    },
    "polyglot_notebook": {
     "kernelName": "pwsh"
    }
   },
   "outputs": [
    {
     "name": "stdout",
     "output_type": "stream",
     "text": [
      "\u001B[37mFable 4.21.0: F# to Rust compiler (status: alpha)\n",
      "\u001B[37m\n",
      "Thanks to the contributor! @bentayloruk\n",
      "\u001B[37mStand with Ukraine! https://standwithukraine.com.ua/\n",
      "\n",
      "\u001B[37mParsing test.fsproj...\n",
      "\u001B[37m.> dotnet restore test.fable-temp.csproj -p:FABLE_COMPILER=true -p:FABLE_COMPILER_4=true -p:FABLE_COMPILER_RUST=true\n",
      "  Determining projects to restore...\n",
      "  Paket version 8.1.0-alpha004+7aa412f49b32de979c3d5acde07e88e6d47c965b\n",
      "  The last full restore is still up to date. Nothing left to do.\n",
      "  Total time taken: 0 milliseconds\n",
      "  Paket version 8.1.0-alpha004+7aa412f49b32de979c3d5acde07e88e6d47c965b\n",
      "  Restoring /home/runner/work/polyglot/polyglot/apps/spiral/temp/test/test.fable-temp.csproj\n",
      "  Starting restore process.\n",
      "  Total time taken: 0 milliseconds\n",
      "  Restored /home/runner/work/polyglot/polyglot/apps/spiral/temp/test/test.fable-temp.csproj (in 274 ms).\n",
      "\u001B[37m.> dotnet restore /home/runner/work/polyglot/polyglot/apps/spiral/temp/test/test.fsproj\n",
      "  Determining projects to restore...\n",
      "  Restored /home/runner/work/polyglot/polyglot/apps/spiral/temp/test/test.fsproj (in 250 ms).\n",
      "\u001B[37mProject and references (1 source files) parsed in 4567ms\n",
      "\n",
      "\u001B[37mStarted Fable compilation...\n",
      "\u001B[37m\n",
      "Fable compilation finished in 1080ms\n",
      "\n",
      "\u001B[33m./test.fsx(11,0): (11,2) warning FABLE: For Rust, support for F# static and module do bindings is disabled by default. It can be enabled with the 'static_do_bindings' feature. Use at your own risk!\n"
     ]
    }
   ],
   "source": [
    "dotnet fable --optimize --lang rs --extension .rs"
   ]
  },
  {
   "cell_type": "markdown",
   "metadata": {},
   "source": [
    "### fix formatting issues in the .rs file using regex and set-content"
   ]
  },
  {
   "cell_type": "code",
   "execution_count": null,
   "metadata": {
    "dotnet_interactive": {
     "language": "pwsh"
    },
    "polyglot_notebook": {
     "kernelName": "pwsh"
    }
   },
   "outputs": [],
   "source": [
    "(Get-Content test.rs) `\n",
    "    -replace [regex]::Escape(\"),);\"), \"));\" `\n",
    "    | FixRust `\n",
    "| Set-Content test.rs"
   ]
  },
  {
   "cell_type": "markdown",
   "metadata": {},
   "source": [
    "### format the rust code using cargo fmt"
   ]
  },
  {
   "cell_type": "code",
   "execution_count": null,
   "metadata": {
    "dotnet_interactive": {
     "language": "pwsh"
    },
    "polyglot_notebook": {
     "kernelName": "pwsh"
    }
   },
   "outputs": [],
   "source": [
    "cargo fmt --"
   ]
  },
  {
   "cell_type": "markdown",
   "metadata": {},
   "source": [
    "## build and test the project"
   ]
  },
  {
   "cell_type": "markdown",
   "metadata": {},
   "source": [
    "### build the project in release mode using nightly rust compiler"
   ]
  },
  {
   "cell_type": "code",
   "execution_count": null,
   "metadata": {
    "dotnet_interactive": {
     "language": "pwsh"
    },
    "polyglot_notebook": {
     "kernelName": "pwsh"
    }
   },
   "outputs": [
    {
     "name": "stdout",
     "output_type": "stream",
     "text": [
      "\u001B[31;1m\u001B[1m\u001B[32m   Compiling\u001B[0m syn v2.0.87\u001B[0m\n",
      "\u001B[31;1m\u001B[1m\u001B[32m   Compiling\u001B[0m linux-raw-sys v0.4.14\u001B[0m\n",
      "\u001B[31;1m\u001B[1m\u001B[32m   Compiling\u001B[0m rand_core v0.6.4\u001B[0m\n",
      "\u001B[31;1m\u001B[1m\u001B[32m   Compiling\u001B[0m num-traits v0.2.19\u001B[0m\n",
      "\u001B[31;1m\u001B[1m\u001B[32m   Compiling\u001B[0m once_cell v1.20.2\u001B[0m\n",
      "\u001B[31;1m\u001B[1m\u001B[32m   Compiling\u001B[0m libm v0.2.11\u001B[0m\n",
      "\u001B[31;1m\u001B[1m\u001B[32m   Compiling\u001B[0m rustix v0.38.40\u001B[0m\n",
      "\u001B[31;1m\u001B[1m\u001B[32m   Compiling\u001B[0m wait-timeout v0.2.0\u001B[0m\n",
      "\u001B[31;1m\u001B[1m\u001B[32m   Compiling\u001B[0m bit-vec v0.6.3\u001B[0m\n",
      "\u001B[31;1m\u001B[1m\u001B[32m   Compiling\u001B[0m quick-error v1.2.3\u001B[0m\n",
      "\u001B[31;1m\u001B[1m\u001B[32m   Compiling\u001B[0m bit-set v0.5.3\u001B[0m\n",
      "\u001B[31;1m\u001B[1m\u001B[32m   Compiling\u001B[0m rand_xorshift v0.3.0\u001B[0m\n",
      "\u001B[31;1m\u001B[1m\u001B[32m   Compiling\u001B[0m memchr v2.7.4\u001B[0m\n",
      "\u001B[31;1m\u001B[1m\u001B[32m   Compiling\u001B[0m unarray v0.1.4\u001B[0m\n",
      "\u001B[31;1m\u001B[1m\u001B[32m   Compiling\u001B[0m nom v7.1.3\u001B[0m\n",
      "\u001B[31;1m\u001B[1m\u001B[32m   Compiling\u001B[0m fable_library_rust v0.1.0 (/home/runner/work/polyglot/polyglot/lib/rust/fable/fable_modules/fable-library-rust)\u001B[0m\n",
      "\u001B[31;1m\u001B[1m\u001B[32m   Compiling\u001B[0m zerocopy-derive v0.7.35\u001B[0m\n",
      "\u001B[31;1m\u001B[1m\u001B[32m   Compiling\u001B[0m tempfile v3.14.0\u001B[0m\n",
      "\u001B[31;1m\u001B[1m\u001B[32m   Compiling\u001B[0m rusty-fork v0.3.0\u001B[0m\n",
      "\u001B[31;1m\u001B[1m\u001B[32m   Compiling\u001B[0m zerocopy v0.7.35\u001B[0m\n",
      "\u001B[31;1m\u001B[1m\u001B[32m   Compiling\u001B[0m thiserror-impl v1.0.69\u001B[0m\n",
      "\u001B[31;1m\u001B[1m\u001B[32m   Compiling\u001B[0m ppv-lite86 v0.2.20\u001B[0m\n",
      "\u001B[31;1m\u001B[1m\u001B[32m   Compiling\u001B[0m rand_chacha v0.3.1\u001B[0m\n",
      "\u001B[31;1m\u001B[1m\u001B[32m   Compiling\u001B[0m thiserror v1.0.69\u001B[0m\n",
      "\u001B[31;1m\u001B[1m\u001B[32m   Compiling\u001B[0m rand v0.8.5\u001B[0m\n",
      "\u001B[31;1m\u001B[1m\u001B[32m   Compiling\u001B[0m proptest v1.5.0\u001B[0m\n",
      "\u001B[31;1m\u001B[1m\u001B[32m   Compiling\u001B[0m spiral_temp_test v0.0.1 (/home/runner/work/polyglot/polyglot/apps/spiral/temp/test)\u001B[0m\n",
      "\u001B[31;1m\u001B[1m\u001B[32m    Finished\u001B[0m `release` profile [optimized] target(s) in 10.89s\u001B[0m\n"
     ]
    }
   ],
   "source": [
    "cargo build --release"
   ]
  },
  {
   "cell_type": "markdown",
   "metadata": {},
   "source": [
    "### run release tests with output enabled"
   ]
  },
  {
   "cell_type": "code",
   "execution_count": null,
   "metadata": {
    "dotnet_interactive": {
     "language": "pwsh"
    },
    "polyglot_notebook": {
     "kernelName": "pwsh"
    }
   },
   "outputs": [
    {
     "name": "stdout",
     "output_type": "stream",
     "text": [
      "\u001B[31;1m\u001B[1m\u001B[32m   Compiling\u001B[0m bitflags v2.6.0\u001B[0m\n",
      "\u001B[31;1m\u001B[1m\u001B[32m   Compiling\u001B[0m zerocopy v0.7.35\u001B[0m\n",
      "\u001B[31;1m\u001B[1m\u001B[32m   Compiling\u001B[0m linux-raw-sys v0.4.14\u001B[0m\n",
      "\u001B[31;1m\u001B[1m\u001B[32m   Compiling\u001B[0m fastrand v2.2.0\u001B[0m\n",
      "\u001B[31;1m\u001B[1m\u001B[32m   Compiling\u001B[0m once_cell v1.20.2\u001B[0m\n",
      "\u001B[31;1m\u001B[1m\u001B[32m   Compiling\u001B[0m wait-timeout v0.2.0\u001B[0m\n",
      "\u001B[31;1m\u001B[1m\u001B[32m   Compiling\u001B[0m fnv v1.0.7\u001B[0m\n",
      "\u001B[31;1m\u001B[1m\u001B[32m   Compiling\u001B[0m bit-vec v0.6.3\u001B[0m\n",
      "\u001B[31;1m\u001B[1m\u001B[32m   Compiling\u001B[0m rustix v0.38.40\u001B[0m\n",
      "\u001B[31;1m\u001B[1m\u001B[32m   Compiling\u001B[0m quick-error v1.2.3\u001B[0m\n",
      "\u001B[31;1m\u001B[1m\u001B[32m   Compiling\u001B[0m bit-set v0.5.3\u001B[0m\n",
      "\u001B[31;1m\u001B[1m\u001B[32m   Compiling\u001B[0m num-traits v0.2.19\u001B[0m\n",
      "\u001B[31;1m\u001B[1m\u001B[32m   Compiling\u001B[0m ppv-lite86 v0.2.20\u001B[0m\n",
      "\u001B[31;1m\u001B[1m\u001B[32m   Compiling\u001B[0m rand_xorshift v0.3.0\u001B[0m\n",
      "\u001B[31;1m\u001B[1m\u001B[32m   Compiling\u001B[0m lazy_static v1.5.0\u001B[0m\n",
      "\u001B[31;1m\u001B[1m\u001B[32m   Compiling\u001B[0m memchr v2.7.4\u001B[0m\n",
      "\u001B[31;1m\u001B[1m\u001B[32m   Compiling\u001B[0m rand_chacha v0.3.1\u001B[0m\n",
      "\u001B[31;1m\u001B[1m\u001B[32m   Compiling\u001B[0m rand v0.8.5\u001B[0m\n",
      "\u001B[31;1m\u001B[1m\u001B[32m   Compiling\u001B[0m minimal-lexical v0.2.1\u001B[0m\n",
      "\u001B[31;1m\u001B[1m\u001B[32m   Compiling\u001B[0m unarray v0.1.4\u001B[0m\n",
      "\u001B[31;1m\u001B[1m\u001B[32m   Compiling\u001B[0m fable_library_rust v0.1.0 (/home/runner/work/polyglot/polyglot/lib/rust/fable/fable_modules/fable-library-rust)\u001B[0m\n",
      "\u001B[31;1m\u001B[1m\u001B[32m   Compiling\u001B[0m tempfile v3.14.0\u001B[0m\n",
      "\u001B[31;1m\u001B[1m\u001B[32m   Compiling\u001B[0m nom v7.1.3\u001B[0m\n",
      "\u001B[31;1m\u001B[1m\u001B[32m   Compiling\u001B[0m rusty-fork v0.3.0\u001B[0m\n",
      "\u001B[31;1m\u001B[1m\u001B[32m   Compiling\u001B[0m proptest v1.5.0\u001B[0m\n",
      "\u001B[31;1m\u001B[1m\u001B[32m   Compiling\u001B[0m thiserror v1.0.69\u001B[0m\n",
      "\u001B[31;1m\u001B[1m\u001B[32m   Compiling\u001B[0m spiral_temp_test v0.0.1 (/home/runner/work/polyglot/polyglot/apps/spiral/temp/test)\u001B[0m\n",
      "\u001B[31;1m\u001B[1m\u001B[32m    Finished\u001B[0m `release` profile [optimized] target(s) in 15.34s\u001B[0m\n",
      "\u001B[31;1m\u001B[1m\u001B[32m     Running\u001B[0m unittests main.rs (/home/runner/work/polyglot/polyglot/workspace/target/release/deps/spiral_temp_test-ffe7013bf4ab966d)\u001B[0m\n",
      "\n",
      "running 3 tests\n",
      "test test_parse_number ... ok\n",
      "test prop_parse_format_idempotent ... ok\n",
      "test adding_and_then_removing_an_item_from_the_cart_leaves_the_cart_unchanged ... ok\n",
      "\n",
      "successes:\n",
      "\n",
      "---- prop_parse_format_idempotent stdout ----\n",
      "input=Integer(-152379866062992469)\n",
      "input=Integer(-417955125935540047)\n",
      "input=StringLiteral(\"8SO~0u<W{I1Z?UYL<`LET>\")\n",
      "input=StringLiteral(\"g=j@D=: %=?`G0]a0i.$w~<-}``\")\n",
      "input=Operator(\"+\")\n",
      "input=Integer(2556822441329497376)\n",
      "input=Operator(\"(\")\n",
      "input=Identifier(\"m3lM2AC9hzhxw47k\")\n",
      "input=Identifier(\"omOHj3J8zndfzfUY2183Qk0\")\n",
      "input=Identifier(\"F2Gp60EJ\")\n",
      "input=Identifier(\"KKs\")\n",
      "input=Operator(\"-\")\n",
      "input=Integer(-3697349538142396557)\n",
      "input=Comment(\"?sxVZJld<3z.lA{_oB?v\")\n",
      "input=Comment(\"557`b/ :b,?-^=.7/9J\\\"\\\"iX<\")\n",
      "input=StringLiteral(\"W{\")\n",
      "input=Identifier(\"TX8qvB0489\")\n",
      "input=StringLiteral(\"%#\")\n",
      "input=Integer(1612883019081089781)\n",
      "input=Identifier(\"D03O\")\n",
      "input=Integer(-1566661829938462100)\n",
      "input=Identifier(\"V67lj\")\n",
      "input=Identifier(\"AQxzr6DratWr5J\")\n",
      "input=Comment(\"k\")\n",
      "input=Integer(3823346160378293224)\n",
      "input=Integer(-4808868457945227795)\n",
      "input=Integer(-7700351490949395982)\n",
      "input=Identifier(\"hxh9\")\n",
      "input=Operator(\"*\")\n",
      "input=Operator(\"/\")\n",
      "input=Identifier(\"jTAu6391ITxm99bE\")\n",
      "input=StringLiteral(\"vh%6\")\n",
      "input=Identifier(\"U6l88yobI61\")\n",
      "input=Comment(\"\")\n",
      "input=StringLiteral(\"()`u;D\")\n",
      "input=Identifier(\"waqW07Ql7Q6P3hYVc58\")\n",
      "input=Identifier(\"i00WJSI4j7WEl\")\n",
      "input=Integer(-3204794391219512061)\n",
      "input=StringLiteral(\"G+'` K$]6oZr<.Y*\")\n",
      "input=StringLiteral(\"a+o{zAxqLP.{[?R+<{`bE*P@Uy~KWL/<\")\n",
      "input=Integer(5130851729797516716)\n",
      "input=StringLiteral(\"'&$R3ua$`4e5.A,p\")\n",
      "input=Integer(-2906966685804469508)\n",
      "input=Comment(\".Fj4@%P;)mYC2{\")\n",
      "input=StringLiteral(\"?P6.</H\")\n",
      "input=Identifier(\"nKbPlBsux\")\n",
      "input=Integer(-2503013653078049768)\n",
      "input=StringLiteral(\"0uX.<'/^mM-0Cbo_`&K\")\n",
      "input=Comment(\"wJ/_h\\\\Na&L\")\n",
      "input=Identifier(\"o52bJWb8gMfwWUHvfRtep2wZ\")\n",
      "input=Identifier(\"H0ZKrw25SG\")\n",
      "input=StringLiteral(\":''/=q;{^&x1EHE`w<*:w84/IJ5-/*.\")\n",
      "input=StringLiteral(\"a/ki  U.Qv:QY0%N\")\n",
      "input=Integer(241310290632150272)\n",
      "input=StringLiteral(\"oo}(X.?*t=]P?|LBR4jx.$q\")\n",
      "input=Integer(844428038739548681)\n",
      "input=Identifier(\"Dkk7ek7mKK10k\")\n",
      "input=Identifier(\"dGVtOBNJ711Rh4829Lw\")\n",
      "input=Comment(\"$n\")\n",
      "input=Integer(-6771835282067788277)\n",
      "input=StringLiteral(\"!]|{;\")\n",
      "input=StringLiteral(\"@':Hn|IB* '*z::./B/TA\")\n",
      "input=Integer(-7797940707177088246)\n",
      "input=Comment(\"cc$Zl }l?v._>\\\\Mci.F/\")\n",
      "input=Identifier(\"sP3um0\")\n",
      "input=Identifier(\"e4OlgBG\")\n",
      "input=Identifier(\"PVpAo2A\")\n",
      "input=Comment(\"w'LIjfp})l$!&/k,M.bf.N5~\")\n",
      "input=Operator(\"(\")\n",
      "input=Integer(7729093488935236849)\n",
      "input=Comment(\"&`/{?\")\n",
      "input=Identifier(\"wMv4d6R2TrHtW3hOzAf\")\n",
      "input=Identifier(\"A20\")\n",
      "input=Integer(944416407722536682)\n",
      "input=Operator(\"*\")\n",
      "input=StringLiteral(\"&'\")\n",
      "input=Comment(\"e}DTB}H?`M{7%o\")\n",
      "input=StringLiteral(\"k/X: okEY=:kq/\")\n",
      "input=Identifier(\"g3i\")\n",
      "input=Integer(3004530379378096743)\n",
      "input=Identifier(\"XhPEIYCz6tWLL21zGzpwDakW6mzZXa\")\n",
      "input=Integer(6325495952622151927)\n",
      "input=StringLiteral(\"{e}}*~|k'<}yRrdjMs\")\n",
      "input=Integer(6155076150746526531)\n",
      "input=Integer(-4109280468466508635)\n",
      "input=Integer(6180297963168012808)\n",
      "input=StringLiteral(\"zU-/gAe\")\n",
      "input=Identifier(\"HoBHY8emeRp0GKq5c2pklPejUkRzOlHnK\")\n",
      "input=Identifier(\"U0psbKF71J84wN03aW37p9Z4Jlf7AT\")\n",
      "input=Comment(\"K=303KM@?t$/J5%]@W5j.41{$Q>\\\"\")\n",
      "input=Integer(5227798510485678789)\n",
      "input=Operator(\"-\")\n",
      "input=Identifier(\"K95rmmo5716iWF465LUg8Whx7k\")\n",
      "input=Operator(\"=\")\n",
      "input=Operator(\"=\")\n",
      "input=Comment(\"M=f*\")\n",
      "input=Identifier(\"NEx95gEET9ksw2l88yyA\")\n",
      "input=StringLiteral(\"EAT-\")\n",
      "input=Integer(-7376593090276883303)\n",
      "input=Operator(\"+\")\n",
      "input=Identifier(\"Unw7Uld78M\")\n",
      "input=Operator(\"/\")\n",
      "input=StringLiteral(\"aU`*v&.@U__%$a$\")\n",
      "input=Identifier(\"yrpWX601l2KTVzp3A0SF29NS\")\n",
      "input=StringLiteral(\"$F;k,*X=??F<uE)y5.inA\")\n",
      "input=Identifier(\"iEA1GW25rp5d3c4Z2xa5jsuX34Q4t0dHv\")\n",
      "input=StringLiteral(\"`bCP#}{,Zu{gZ#\")\n",
      "input=Identifier(\"r4eNPd0T4dBnHJnTWQB2lw\")\n",
      "input=Operator(\")\")\n",
      "input=Comment(\"{-=\")\n",
      "input=Comment(\"j*$6\")\n",
      "input=Identifier(\"vR5Rfq86r8F8Jeg8swc2C6nfo3rlp\")\n",
      "input=StringLiteral(\"$?{Q:%5C)Lr O\")\n",
      "input=Comment(\"b\")\n",
      "input=StringLiteral(\"US/UF{tM&{V<K`v).'{h.\")\n",
      "input=Operator(\")\")\n",
      "input=StringLiteral(\"Tw$V`Ef=\")\n",
      "input=Integer(2086881663090574942)\n",
      "input=Integer(-625976473156118893)\n",
      "input=Identifier(\"kRLWP22TY7S8h3\")\n",
      "input=Operator(\"/\")\n",
      "input=Integer(5392856890347426341)\n",
      "input=Comment(\";?7>*4^~NRDS%v&]R<$$=Te:H_#;N?T\")\n",
      "input=Identifier(\"KV4i2\")\n",
      "input=Comment(\":<@IFk=:;?_%ep\")\n",
      "input=Identifier(\"wn\")\n",
      "input=StringLiteral(\".K.u:HSG!Y`gQ'2-NwF+J5>\")\n",
      "input=Operator(\"+\")\n",
      "input=StringLiteral(\"8KULBc&5j&%#.&R:y\")\n",
      "input=StringLiteral(\"4M^`%`/8Lyo)'G&&:N${a$\")\n",
      "input=StringLiteral(\"P.zxpl&n.U+``_&>*+;br $ /i\")\n",
      "input=Operator(\")\")\n",
      "input=Operator(\"*\")\n",
      "input=Operator(\"*\")\n",
      "input=Comment(\"_q9nkZ\")\n",
      "input=Operator(\"/\")\n",
      "input=StringLiteral(\"\")\n",
      "input=Identifier(\"BC9JKBZULam4HNQ1znKo3ao2z\")\n",
      "input=Identifier(\"CfhuQ7a21I6xKCQvNCCmW1d\")\n",
      "input=Operator(\"(\")\n",
      "input=Integer(-722811650404791463)\n",
      "input=Operator(\"-\")\n",
      "input=Comment(\"M{KQMQ`1:\")\n",
      "input=Identifier(\"Fee2Q2QGXRt2SwoaIJpLA6Q\")\n",
      "input=Identifier(\"BitL7iy8XtBp9sDSao6B\")\n",
      "input=Comment(\"]yE]C:k*$`U3g'Z:~`j$\\\\~'Js=t/\")\n",
      "input=StringLiteral(\"HhTl~bC[*KNwQ+;$Ag`\")\n",
      "input=Identifier(\"g38Tng67l3UTFbT\")\n",
      "input=Integer(-3921768318017163623)\n",
      "input=Identifier(\"W5XQcAe54994TYcq6fp\")\n",
      "input=Integer(6927287128541271033)\n",
      "input=Operator(\"=\")\n",
      "input=Identifier(\"k2y42J68P0vRfRQITA9M\")\n",
      "input=Identifier(\"auUwxuZE\")\n",
      "input=Operator(\"(\")\n",
      "input=Integer(9112003633009703930)\n",
      "input=StringLiteral(\"/@wfe.<=]<D'|&WQ/BD]`Inb(qu21<G\")\n",
      "input=Comment(\"/y\\\\*@c.\")\n",
      "input=Operator(\"/\")\n",
      "input=StringLiteral(\"D=d`y'&[--K{&:{\")\n",
      "input=Integer(1910977814322249850)\n",
      "input=Integer(-6098003101252700431)\n",
      "input=Integer(-3330538747136394000)\n",
      "input=Identifier(\"Ydh9\")\n",
      "input=Comment(\"FFc[Rym.S\\\\3zJ \")\n",
      "input=Operator(\"=\")\n",
      "input=Identifier(\"thh2kWDym09ad6\")\n",
      "input=Comment(\"JFC1XXym40stC<Pod]DvfPYBX$>`_\")\n",
      "input=Identifier(\"C5g\")\n",
      "input=StringLiteral(\" `':KaxE.\")\n",
      "input=StringLiteral(\"gTYm+u=P'r{?J$=9\")\n",
      "input=StringLiteral(\"~xu\")\n",
      "input=StringLiteral(\"GcU$U'GP.v=T][{=f0y/`:\")\n",
      "input=Comment(\".m3%^] \\\"{)t?'9.=|e/\")\n",
      "input=Identifier(\"qV31byRTU1WV0yvASgNp\")\n",
      "input=Identifier(\"GJxK0MG0kx315R67YsX4\")\n",
      "input=Integer(-5448859396859796348)\n",
      "input=Operator(\"=\")\n",
      "input=Integer(7709373310260645432)\n",
      "input=Identifier(\"YMs3g1T5u\")\n",
      "input=Identifier(\"GnamDOmpiJw801Ybi4Tx7pk63pHA48iY\")\n",
      "input=Operator(\"=\")\n",
      "input=StringLiteral(\"of1u$Qt?.`\")\n",
      "input=StringLiteral(\"i{o']Q)1<?Z/@,Q:t91~ev]U.\")\n",
      "input=Comment(\"pp=<C&&=c?.u{%g$l^'.~=,\\\\h`,5YD\")\n",
      "input=Operator(\")\")\n",
      "input=Identifier(\"b2J6K80Q4C0Q6sEPr9F9FdpZKS\")\n",
      "input=Integer(-3934204457653802513)\n",
      "input=Integer(6046548896606381146)\n",
      "input=Integer(7892529935282684531)\n",
      "input=Comment(\"0L!\")\n",
      "input=Operator(\")\")\n",
      "input=Comment(\"@5{_g%U/<:7'aS<&\\\"Ke\\\\.mU1fC)Gp6!\")\n",
      "input=Identifier(\"LP\")\n",
      "input=StringLiteral(\"a{ok\")\n",
      "input=StringLiteral(\">7}aHUHrj{b-SrG\")\n",
      "input=Integer(5938288827495352087)\n",
      "input=Operator(\"+\")\n",
      "input=Operator(\"/\")\n",
      "input=Integer(-8379533222039111064)\n",
      "input=Identifier(\"UVXBQS0IQ3CaeGGx11POGt16dGhBU7sJ\")\n",
      "input=Operator(\"/\")\n",
      "input=StringLiteral(\"=^\")\n",
      "input=Comment(\"[K!\\\\\")\n",
      "input=Identifier(\"NRbwLKpm5ns0JsZP725iw\")\n",
      "input=Integer(-2220603960856354181)\n",
      "input=Integer(-3579045062557175733)\n",
      "input=StringLiteral(\"SDh[@h\")\n",
      "input=StringLiteral(\"{o#%$#v5c/bxM=VIVl{c;.\")\n",
      "input=Comment(\"\")\n",
      "input=Integer(444522346732368302)\n",
      "input=Comment(\"h=\")\n",
      "input=StringLiteral(\"jz?/:t$f5B*%8&PMkx\")\n",
      "input=Operator(\"*\")\n",
      "input=Identifier(\"dEKVt\")\n",
      "input=StringLiteral(\"_*h\")\n",
      "input=Operator(\"+\")\n",
      "input=Operator(\"/\")\n",
      "input=Identifier(\"iRaIuA7IQEQ4zSxPD1DKbA\")\n",
      "input=Integer(6388627132929941123)\n",
      "input=StringLiteral(\"f5'2/7:=/\")\n",
      "input=Comment(\"\")\n",
      "input=Integer(-5474959796022436017)\n",
      "input=Identifier(\"SgtQDq5k8fF6Rs6necth3ma0\")\n",
      "input=StringLiteral(\"J_P$xi\")\n",
      "input=Integer(-2949180660920875667)\n",
      "input=Identifier(\"xXiyMI0eM3ra2sIOaUWvy\")\n",
      "input=Integer(839339511438652084)\n",
      "input=Integer(7317972367922489281)\n",
      "input=Operator(\"=\")\n",
      "input=Comment(\"bpZ\\\\$</g.<=r4/W?.2!ij9.s\")\n",
      "input=Integer(-2229451879764923439)\n",
      "input=StringLiteral(\"&<F0`K\")\n",
      "input=Integer(-8076616973002161449)\n",
      "input=Integer(3913377679617212901)\n",
      "input=Integer(5941584011117154132)\n",
      "input=StringLiteral(\".xdQ`:TJ%'H0!#D%1s<&<ft,0.&Hh\")\n",
      "input=Integer(-3191962877111331826)\n",
      "input=Operator(\"(\")\n",
      "input=Identifier(\"OkYsqDZnTzLpO\")\n",
      "input=Integer(-3937242128352713468)\n",
      "input=Comment(\"e&'=pv<.9liglI@s'\\\\\")\n",
      "input=StringLiteral(\"2A)o%mH|\")\n",
      "input=StringLiteral(\"-e]DKr=56<.a}.lOL/6cJ*h\")\n",
      "input=Identifier(\"skcgis67xo3Ad2EhV42N\")\n",
      "input=Operator(\"=\")\n",
      "input=Integer(-80945268544836457)\n",
      "input=Comment(\";J C{`?f'g=;?dAM?\")\n",
      "input=Operator(\"=\")\n",
      "input=StringLiteral(\"a&\")\n",
      "input=Integer(1262626563602710496)\n",
      "input=Integer(-5025387870765592217)\n",
      "input=Identifier(\"KnRE3O2a43YSNN\")\n",
      "input=Integer(4056888931387141022)\n",
      "input=Integer(1927096338550164719)\n",
      "input=Operator(\"=\")\n",
      "\n",
      "\n",
      "successes:\n",
      "    adding_and_then_removing_an_item_from_the_cart_leaves_the_cart_unchanged\n",
      "    prop_parse_format_idempotent\n",
      "    test_parse_number\n",
      "\n",
      "test result: ok. 3 passed; 0 failed; 0 ignored; 0 measured; 0 filtered out; finished in 0.07s\n",
      "\n"
     ]
    }
   ],
   "source": [
    "{ cargo test --release -- --show-output } | Invoke-Block"
   ]
  },
  {
   "cell_type": "markdown",
   "metadata": {},
   "source": [
    "### execute the binary in release mode"
   ]
  },
  {
   "cell_type": "code",
   "execution_count": null,
   "metadata": {
    "dotnet_interactive": {
     "language": "pwsh"
    },
    "polyglot_notebook": {
     "kernelName": "pwsh"
    }
   },
   "outputs": [
    {
     "name": "stdout",
     "output_type": "stream",
     "text": [
      "app=test\n"
     ]
    }
   ],
   "source": [
    "{ . $ScriptDir/../../../../workspace/target/release/spiral_temp_test$(_exe) } | Invoke-Block"
   ]
  }
 ],
 "metadata": {},
 "nbformat": 4,
 "nbformat_minor": 5
}