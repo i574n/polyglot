{
 "cells": [
  {
   "cell_type": "markdown",
   "metadata": {},
   "source": [
    "# test"
   ]
  },
  {
   "cell_type": "markdown",
   "metadata": {},
   "source": [
    "## include scripts"
   ]
  },
  {
   "cell_type": "markdown",
   "metadata": {},
   "source": [
    "### include notebook core"
   ]
  },
  {
   "cell_type": "code",
   "execution_count": null,
   "metadata": {
    "dotnet_interactive": {
     "language": "pwsh"
    },
    "polyglot_notebook": {
     "kernelName": "pwsh"
    }
   },
   "outputs": [],
   "source": [
    ". ../../../../scripts/nbs_header.ps1"
   ]
  },
  {
   "cell_type": "markdown",
   "metadata": {},
   "source": [
    "### Include core functions script"
   ]
  },
  {
   "cell_type": "code",
   "execution_count": null,
   "metadata": {
    "dotnet_interactive": {
     "language": "pwsh"
    },
    "polyglot_notebook": {
     "kernelName": "pwsh"
    }
   },
   "outputs": [],
   "source": [
    ". ../../../../scripts/core.ps1"
   ]
  },
  {
   "cell_type": "markdown",
   "metadata": {},
   "source": [
    "### Include spiral library"
   ]
  },
  {
   "cell_type": "code",
   "execution_count": null,
   "metadata": {
    "dotnet_interactive": {
     "language": "pwsh"
    },
    "polyglot_notebook": {
     "kernelName": "pwsh"
    }
   },
   "outputs": [],
   "source": [
    ". ../../../../deps/spiral/lib/spiral/lib.ps1"
   ]
  },
  {
   "cell_type": "markdown",
   "metadata": {},
   "source": [
    "## execute project commands"
   ]
  },
  {
   "cell_type": "markdown",
   "metadata": {},
   "source": [
    "### run notebook with retries using spiral supervisor"
   ]
  },
  {
   "cell_type": "code",
   "execution_count": null,
   "metadata": {
    "dotnet_interactive": {
     "language": "pwsh"
    },
    "polyglot_notebook": {
     "kernelName": "pwsh"
    }
   },
   "outputs": [
    {
     "name": "stdout",
     "output_type": "stream",
     "text": [
      "00:00:00 \u001B[94md\u001B[0m #1 runtime.execute_with_options_async / { file_name = ../../../../deps/spiral/workspace/target/release/spiral; arguments = US5_0 \"dib --path test.dib --retries 3\"; options = { command = ../../../../deps/spiral/workspace/target/release/spiral dib --path test.dib --retries 3; cancellation_token = Some System.Threading.CancellationToken; environment_variables = [||]; on_line = None; stdin = None; trace = true; working_directory = None } }\n",
      "00:00:13 \u001B[94md\u001B[0m #2 runtime.execute_with_options_async / { exit_code = 0; output_length = 32177; options = { command = ../../../../deps/spiral/workspace/target/release/spiral dib --path test.dib --retries 3; cancellation_token = Some System.Threading.CancellationToken; environment_variables = [||]; on_line = None; stdin = None; trace = true; working_directory = None } }\n",
      "00:00:13 \u001B[94md\u001B[0m #1 main / executeCommand / exitCode: 0 / command: ../../../../deps/spiral/workspace/target/release/spiral dib --path test.dib --retries 3\n"
     ]
    }
   ],
   "source": [
    "{ . ../../../../apps/spiral/dist/Supervisor$(_exe) --execute-command \"../../../../deps/spiral/workspace/target/release/spiral$(_exe) dib --path test.dib --retries 3\" } | Invoke-Block"
   ]
  },
  {
   "cell_type": "markdown",
   "metadata": {},
   "source": [
    "### parse the .dib file into .spi format with dibparser"
   ]
  },
  {
   "cell_type": "code",
   "execution_count": null,
   "metadata": {
    "dotnet_interactive": {
     "language": "pwsh"
    },
    "polyglot_notebook": {
     "kernelName": "pwsh"
    }
   },
   "outputs": [
    {
     "name": "stdout",
     "output_type": "stream",
     "text": [
      "00:00:00 \u001B[94md\u001B[0m #1 writeDibCode / output: Spi / path: test.dib\n",
      "00:00:00 \u001B[94md\u001B[0m #2 parseDibCode / output: Spi / file: test.dib\n"
     ]
    }
   ],
   "source": [
    "{ . ../../../../apps/parser/dist/DibParser$(_exe) test.dib spi } | Invoke-Block"
   ]
  },
  {
   "cell_type": "markdown",
   "metadata": {},
   "source": [
    "### build .fsx file from .spi using supervisor"
   ]
  },
  {
   "cell_type": "code",
   "execution_count": null,
   "metadata": {
    "dotnet_interactive": {
     "language": "pwsh"
    },
    "polyglot_notebook": {
     "kernelName": "pwsh"
    }
   },
   "outputs": [
    {
     "name": "stdout",
     "output_type": "stream",
     "text": [
      "<test>\n",
      "</test>\n"
     ]
    }
   ],
   "source": [
    "{ . ../../../../apps/spiral/dist/Supervisor$(_exe) --build-file test.spi test.fsx } | Invoke-Block"
   ]
  },
  {
   "cell_type": "markdown",
   "metadata": {},
   "source": [
    "## compile and format the project"
   ]
  },
  {
   "cell_type": "markdown",
   "metadata": {},
   "source": [
    "### compile project with fable targeting optimized rust"
   ]
  },
  {
   "cell_type": "code",
   "execution_count": null,
   "metadata": {
    "dotnet_interactive": {
     "language": "pwsh"
    },
    "polyglot_notebook": {
     "kernelName": "pwsh"
    }
   },
   "outputs": [
    {
     "name": "stdout",
     "output_type": "stream",
     "text": [
      "\u001B[37mFable 5.0.0-alpha.9: F# to Rust compiler (status: alpha)\n",
      "\u001B[37m\n",
      "Thanks to the contributor! @irium\n",
      "\u001B[37mStand with Ukraine! https://standwithukraine.com.ua/\n",
      "\n",
      "\u001B[37mParsing test.fsproj...\n",
      "\u001B[37mProject and references (1 source files) parsed in 2443ms\n",
      "\n",
      "\u001B[37mStarted Fable compilation...\n",
      "\u001B[37m\n",
      "Fable compilation finished in 1150ms\n",
      "\n",
      "\u001B[33m./test.fsx(11,0): (11,2) warning FABLE: For Rust, support for F# static and module do bindings is disabled by default. It can be enabled with the 'static_do_bindings' feature. Use at your own risk!\n"
     ]
    }
   ],
   "source": [
    "dotnet fable --optimize --lang rs --extension .rs"
   ]
  },
  {
   "cell_type": "markdown",
   "metadata": {},
   "source": [
    "### fix formatting issues in the .rs file using regex and set-content"
   ]
  },
  {
   "cell_type": "code",
   "execution_count": null,
   "metadata": {
    "dotnet_interactive": {
     "language": "pwsh"
    },
    "polyglot_notebook": {
     "kernelName": "pwsh"
    }
   },
   "outputs": [],
   "source": [
    "(Get-Content test.rs) `\n",
    "    -replace [regex]::Escape(\"),);\"), \"));\" `\n",
    "    | FixRust `\n",
    "| Set-Content test.rs"
   ]
  },
  {
   "cell_type": "markdown",
   "metadata": {},
   "source": [
    "### format the rust code using cargo fmt"
   ]
  },
  {
   "cell_type": "code",
   "execution_count": null,
   "metadata": {
    "dotnet_interactive": {
     "language": "pwsh"
    },
    "polyglot_notebook": {
     "kernelName": "pwsh"
    }
   },
   "outputs": [],
   "source": [
    "cargo fmt --"
   ]
  },
  {
   "cell_type": "markdown",
   "metadata": {},
   "source": [
    "## build and test the project"
   ]
  },
  {
   "cell_type": "markdown",
   "metadata": {},
   "source": [
    "### build the project in release mode using nightly rust compiler"
   ]
  },
  {
   "cell_type": "code",
   "execution_count": null,
   "metadata": {
    "dotnet_interactive": {
     "language": "pwsh"
    },
    "polyglot_notebook": {
     "kernelName": "pwsh"
    }
   },
   "outputs": [
    {
     "name": "stdout",
     "output_type": "stream",
     "text": [
      "\u001B[31;1m\u001B[1m\u001B[32m   Compiling\u001B[0m byteorder v1.5.0\u001B[0m\n",
      "\u001B[31;1m\u001B[1m\u001B[32m   Compiling\u001B[0m linux-raw-sys v0.4.14\u001B[0m\n",
      "\u001B[31;1m\u001B[1m\u001B[32m   Compiling\u001B[0m syn v2.0.90\u001B[0m\n",
      "\u001B[31;1m\u001B[1m\u001B[32m   Compiling\u001B[0m getrandom v0.2.15\u001B[0m\n",
      "\u001B[31;1m\u001B[1m\u001B[32m   Compiling\u001B[0m rand_core v0.6.4\u001B[0m\n",
      "\u001B[31;1m\u001B[1m\u001B[32m   Compiling\u001B[0m num-traits v0.2.19\u001B[0m\n",
      "\u001B[31;1m\u001B[1m\u001B[32m   Compiling\u001B[0m once_cell v1.20.2\u001B[0m\n",
      "\u001B[31;1m\u001B[1m\u001B[32m   Compiling\u001B[0m libm v0.2.11\u001B[0m\n",
      "\u001B[31;1m\u001B[1m\u001B[32m   Compiling\u001B[0m rustix v0.38.42\u001B[0m\n",
      "\u001B[31;1m\u001B[1m\u001B[32m   Compiling\u001B[0m wait-timeout v0.2.0\u001B[0m\n",
      "\u001B[31;1m\u001B[1m\u001B[32m   Compiling\u001B[0m quick-error v1.2.3\u001B[0m\n",
      "\u001B[31;1m\u001B[1m\u001B[32m   Compiling\u001B[0m bit-vec v0.6.3\u001B[0m\n",
      "\u001B[31;1m\u001B[1m\u001B[32m   Compiling\u001B[0m bit-set v0.5.3\u001B[0m\n",
      "\u001B[31;1m\u001B[1m\u001B[32m   Compiling\u001B[0m rand_xorshift v0.3.0\u001B[0m\n",
      "\u001B[31;1m\u001B[1m\u001B[32m   Compiling\u001B[0m unarray v0.1.4\u001B[0m\n",
      "\u001B[31;1m\u001B[1m\u001B[32m   Compiling\u001B[0m memchr v2.7.4\u001B[0m\n",
      "\u001B[31;1m\u001B[1m\u001B[32m   Compiling\u001B[0m nom v7.1.3\u001B[0m\n",
      "\u001B[31;1m\u001B[1m\u001B[32m   Compiling\u001B[0m tempfile v3.14.0\u001B[0m\n",
      "\u001B[31;1m\u001B[1m\u001B[32m   Compiling\u001B[0m zerocopy-derive v0.7.35\u001B[0m\n",
      "\u001B[31;1m\u001B[1m\u001B[32m   Compiling\u001B[0m thiserror-impl v1.0.69\u001B[0m\n",
      "\u001B[31;1m\u001B[1m\u001B[32m   Compiling\u001B[0m rusty-fork v0.3.0\u001B[0m\n",
      "\u001B[31;1m\u001B[1m\u001B[32m   Compiling\u001B[0m fable_library_rust v0.1.0 (/home/runner/work/polyglot/polyglot/lib/rust/fable/fable_modules/fable-library-rust)\u001B[0m\n",
      "\u001B[31;1m\u001B[1m\u001B[32m   Compiling\u001B[0m zerocopy v0.7.35\u001B[0m\n",
      "\u001B[31;1m\u001B[1m\u001B[32m   Compiling\u001B[0m thiserror v1.0.69\u001B[0m\n",
      "\u001B[31;1m\u001B[1m\u001B[32m   Compiling\u001B[0m ppv-lite86 v0.2.20\u001B[0m\n",
      "\u001B[31;1m\u001B[1m\u001B[32m   Compiling\u001B[0m rand_chacha v0.3.1\u001B[0m\n",
      "\u001B[31;1m\u001B[1m\u001B[32m   Compiling\u001B[0m rand v0.8.5\u001B[0m\n",
      "\u001B[31;1m\u001B[1m\u001B[32m   Compiling\u001B[0m proptest v1.5.0\u001B[0m\n",
      "\u001B[31;1m\u001B[1m\u001B[32m   Compiling\u001B[0m spiral_temp_test v0.0.1 (/home/runner/work/polyglot/polyglot/apps/spiral/temp/test)\u001B[0m\n",
      "\u001B[31;1m\u001B[1m\u001B[32m    Finished\u001B[0m `release` profile [optimized] target(s) in 11.00s\u001B[0m\n"
     ]
    }
   ],
   "source": [
    "cargo build --release"
   ]
  },
  {
   "cell_type": "markdown",
   "metadata": {},
   "source": [
    "### run release tests with output enabled"
   ]
  },
  {
   "cell_type": "code",
   "execution_count": null,
   "metadata": {
    "dotnet_interactive": {
     "language": "pwsh"
    },
    "polyglot_notebook": {
     "kernelName": "pwsh"
    }
   },
   "outputs": [
    {
     "name": "stdout",
     "output_type": "stream",
     "text": [
      "\u001B[31;1m\u001B[1m\u001B[32m   Compiling\u001B[0m bitflags v2.6.0\u001B[0m\n",
      "\u001B[31;1m\u001B[1m\u001B[32m   Compiling\u001B[0m zerocopy v0.7.35\u001B[0m\n",
      "\u001B[31;1m\u001B[1m\u001B[32m   Compiling\u001B[0m linux-raw-sys v0.4.14\u001B[0m\n",
      "\u001B[31;1m\u001B[1m\u001B[32m   Compiling\u001B[0m fastrand v2.3.0\u001B[0m\n",
      "\u001B[31;1m\u001B[1m\u001B[32m   Compiling\u001B[0m once_cell v1.20.2\u001B[0m\n",
      "\u001B[31;1m\u001B[1m\u001B[32m   Compiling\u001B[0m wait-timeout v0.2.0\u001B[0m\n",
      "\u001B[31;1m\u001B[1m\u001B[32m   Compiling\u001B[0m fnv v1.0.7\u001B[0m\n",
      "\u001B[31;1m\u001B[1m\u001B[32m   Compiling\u001B[0m rustix v0.38.42\u001B[0m\n",
      "\u001B[31;1m\u001B[1m\u001B[32m   Compiling\u001B[0m quick-error v1.2.3\u001B[0m\n",
      "\u001B[31;1m\u001B[1m\u001B[32m   Compiling\u001B[0m bit-vec v0.6.3\u001B[0m\n",
      "\u001B[31;1m\u001B[1m\u001B[32m   Compiling\u001B[0m num-traits v0.2.19\u001B[0m\n",
      "\u001B[31;1m\u001B[1m\u001B[32m   Compiling\u001B[0m ppv-lite86 v0.2.20\u001B[0m\n",
      "\u001B[31;1m\u001B[1m\u001B[32m   Compiling\u001B[0m bit-set v0.5.3\u001B[0m\n",
      "\u001B[31;1m\u001B[1m\u001B[32m   Compiling\u001B[0m rand_xorshift v0.3.0\u001B[0m\n",
      "\u001B[31;1m\u001B[1m\u001B[32m   Compiling\u001B[0m lazy_static v1.5.0\u001B[0m\n",
      "\u001B[31;1m\u001B[1m\u001B[32m   Compiling\u001B[0m minimal-lexical v0.2.1\u001B[0m\n",
      "\u001B[31;1m\u001B[1m\u001B[32m   Compiling\u001B[0m rand_chacha v0.3.1\u001B[0m\n",
      "\u001B[31;1m\u001B[1m\u001B[32m   Compiling\u001B[0m memchr v2.7.4\u001B[0m\n",
      "\u001B[31;1m\u001B[1m\u001B[32m   Compiling\u001B[0m rand v0.8.5\u001B[0m\n",
      "\u001B[31;1m\u001B[1m\u001B[32m   Compiling\u001B[0m unarray v0.1.4\u001B[0m\n",
      "\u001B[31;1m\u001B[1m\u001B[32m   Compiling\u001B[0m fable_library_rust v0.1.0 (/home/runner/work/polyglot/polyglot/lib/rust/fable/fable_modules/fable-library-rust)\u001B[0m\n",
      "\u001B[31;1m\u001B[1m\u001B[32m   Compiling\u001B[0m nom v7.1.3\u001B[0m\n",
      "\u001B[31;1m\u001B[1m\u001B[32m   Compiling\u001B[0m thiserror v1.0.69\u001B[0m\n",
      "\u001B[31;1m\u001B[1m\u001B[32m   Compiling\u001B[0m tempfile v3.14.0\u001B[0m\n",
      "\u001B[31;1m\u001B[1m\u001B[32m   Compiling\u001B[0m rusty-fork v0.3.0\u001B[0m\n",
      "\u001B[31;1m\u001B[1m\u001B[32m   Compiling\u001B[0m proptest v1.5.0\u001B[0m\n",
      "\u001B[31;1m\u001B[1m\u001B[32m   Compiling\u001B[0m spiral_temp_test v0.0.1 (/home/runner/work/polyglot/polyglot/apps/spiral/temp/test)\u001B[0m\n",
      "\u001B[31;1m\u001B[1m\u001B[32m    Finished\u001B[0m `release` profile [optimized] target(s) in 15.81s\u001B[0m\n",
      "\u001B[31;1m\u001B[1m\u001B[32m     Running\u001B[0m unittests main.rs (/home/runner/work/polyglot/polyglot/workspace/target/release/deps/spiral_temp_test-be45c853cf37e114)\u001B[0m\n",
      "\n",
      "running 3 tests\n",
      "test test_parse_number ... ok\n",
      "test prop_parse_format_idempotent ... ok\n",
      "test adding_and_then_removing_an_item_from_the_cart_leaves_the_cart_unchanged ... ok\n",
      "\n",
      "successes:\n",
      "\n",
      "---- prop_parse_format_idempotent stdout ----\n",
      "input=StringLiteral(\"XsQc.I7*&?y$h{#{V%d`d)me.{/2{=|\")\n",
      "input=Integer(6271310053943472210)\n",
      "input=Comment(\"1{[$rn)R#=#jAh\")\n",
      "input=Operator(\")\")\n",
      "input=Operator(\"/\")\n",
      "input=Comment(\",+!\\\"3UmL_\\\"L%SYwd] $aH^_hu\\\\:V<Q\")\n",
      "input=Comment(\">E/&{3`\\\"%'#e$4nQ&5oVf\\\\XS76'^\\\"k%W\")\n",
      "input=Comment(\"Mv?\\\"Fg%\\\\x-e{s/Xf?,Q~NOMQ.}%%Gmig\")\n",
      "input=Integer(5645420796806278430)\n",
      "input=Operator(\"*\")\n",
      "input=Identifier(\"xIrW1C6\")\n",
      "input=Identifier(\"AjGppraEsAmtKWjoTY4Xtwc0\")\n",
      "input=Integer(-621221256850730339)\n",
      "input=Comment(\"\\\"t\\\\.=p4D\")\n",
      "input=Comment(\"<`#/B:g'.*o8@WK:e3uz..Q$i?w,\")\n",
      "input=StringLiteral(\":]\")\n",
      "input=Integer(-7079431529623587189)\n",
      "input=Comment(\"\\\\' /B\\\\/i&T^:,/7/}\")\n",
      "input=Identifier(\"MD8xV1wi83sc1CQ1lly8hsbcCycsid8V0\")\n",
      "input=Operator(\")\")\n",
      "input=Operator(\"-\")\n",
      "input=Comment(\"/yX``JF&ZH\\\\'T39\\\\Sd?/sL\")\n",
      "input=Integer(-7483199546474782345)\n",
      "input=StringLiteral(\"*)1<{Fz|u\")\n",
      "input=StringLiteral(\"~vIATp\")\n",
      "input=Integer(-5970188452289013489)\n",
      "input=Comment(\"s<a<)'G^J8w@SNuqR:Ei6\\\"g(I?xo,\")\n",
      "input=Integer(1794044179342781379)\n",
      "input=StringLiteral(\"Z)1.-{s4N:~y&`8`97+*4\")\n",
      "input=Operator(\"+\")\n",
      "input=Operator(\"(\")\n",
      "input=Comment(\";8UOyAY$<nfTTO7\")\n",
      "input=Operator(\"*\")\n",
      "input=Identifier(\"dZ4yxdm5B3t2DNzFkoAOpmv\")\n",
      "input=Operator(\"=\")\n",
      "input=Integer(5681093179298042627)\n",
      "input=StringLiteral(\"=6NJ*'x`~Bfy%\")\n",
      "input=Identifier(\"h80pm3Io3PMZ6kJXJuhtKb3xTS7672Ph\")\n",
      "input=Identifier(\"eZO9epO2kgnUf33tE74bIj\")\n",
      "input=Integer(-8723779781569352750)\n",
      "input=Operator(\"-\")\n",
      "input=Identifier(\"jCeZ9Bd2hFx565FVQTppm\")\n",
      "input=Integer(-6970486356567426856)\n",
      "input=Integer(3595780824073919312)\n",
      "input=Integer(2372379974403686008)\n",
      "input=Integer(7113243000688329689)\n",
      "input=Integer(8294364553245476610)\n",
      "input=StringLiteral(\"8Pcn5&<'(3::/Z`<@/)h;n oR/b\")\n",
      "input=StringLiteral(\"I\")\n",
      "input=Identifier(\"rr437TaEiEWCQIJO9gJ2zXW3F7We\")\n",
      "input=Identifier(\"jpafDg18cVtcN8\")\n",
      "input=Operator(\"-\")\n",
      "input=Comment(\"q*'.cCKbM}x9#u\\\"@=c$wp`#8\\\\qv%Z\")\n",
      "input=Integer(8682371470826390959)\n",
      "input=StringLiteral(\",c{E@`257!*.*Cn\")\n",
      "input=Integer(-2173036530495790652)\n",
      "input=Identifier(\"p\")\n",
      "input=Identifier(\"X3NJVeVvRIPzcdd404hNE5pTOCacW\")\n",
      "input=Identifier(\"qPGA8\")\n",
      "input=StringLiteral(\",NAh$\")\n",
      "input=StringLiteral(\"oo/.((rBwB'%0.z<`:+r/EB&b0\")\n",
      "input=Comment(\"3Mn\")\n",
      "input=Comment(\":<>=?%2ICi=My_*NW/*e0+Q{3K\")\n",
      "input=StringLiteral(\"<gJ{NWo/KT{\")\n",
      "input=Identifier(\"u20338PnHgJ9\")\n",
      "input=Operator(\"*\")\n",
      "input=StringLiteral(\"p=,T*/w~rHTk\")\n",
      "input=Integer(6939063112386615467)\n",
      "input=StringLiteral(\"&4b/$%ni?dG2g\")\n",
      "input=Operator(\"-\")\n",
      "input=Operator(\")\")\n",
      "input=Integer(227314743236105605)\n",
      "input=StringLiteral(\"$@'\")\n",
      "input=Integer(-2570423404519807444)\n",
      "input=Comment(\"I\")\n",
      "input=Comment(\"qu\")\n",
      "input=Comment(\"/Q\\\"k+8|&W{$C('[=N:x%\")\n",
      "input=StringLiteral(\"A[X7r&uBT4@]P$c{i:Nm&@B-W=/N{o\")\n",
      "input=Identifier(\"S53e5zaTW6bOY9\")\n",
      "input=StringLiteral(\"=%<:%[..'*dJu*c%05X\")\n",
      "input=Comment(\"n<\\\\.%^h7a:@`5SROPT_1_Z\")\n",
      "input=Comment(\"C\\\\b<G:$^Wwe.e@'7?Zr:/W{pyxp;9he=\")\n",
      "input=StringLiteral(\"uqb*`s1bHW:*:'S8l&ZTq&%J5<?V/9/\")\n",
      "input=Integer(-2388485681532829657)\n",
      "input=Identifier(\"ejqQ8Wn3jY5S4TW31T6wJylcbwB\")\n",
      "input=Operator(\"*\")\n",
      "input=Identifier(\"Z0E130F1aRfgdhw2ANJ8lraSE2M\")\n",
      "input=Operator(\"-\")\n",
      "input=StringLiteral(\"'*0]&_%3X=A+<3?kAg0?f0N6@@'\")\n",
      "input=Operator(\"*\")\n",
      "input=Integer(-2452351120306757198)\n",
      "input=StringLiteral(\".#~_q\")\n",
      "input=StringLiteral(\"Yc/-@0&**!%#K\")\n",
      "input=Comment(\"6*2\\\",/%`ZO57='{Z\")\n",
      "input=StringLiteral(\"<EVr.b$Ud]I*p.p-u,{_F/&b#sSe=:\")\n",
      "input=Integer(-7201223741298221829)\n",
      "input=Operator(\"(\")\n",
      "input=Identifier(\"xoaEVOdMigkdOdx65X709qI5YQL3ZPv5o\")\n",
      "input=Identifier(\"LselcLeAbTa9Re287\")\n",
      "input=Operator(\"*\")\n",
      "input=Identifier(\"hE42w5RSPB51JjCzs3e6pcLiY5i2\")\n",
      "input=Integer(-8635083034903145073)\n",
      "input=Integer(6459736485454366875)\n",
      "input=Identifier(\"O41Pi66V\")\n",
      "input=Operator(\"*\")\n",
      "input=Identifier(\"V5PlB68f0H20otv\")\n",
      "input=Integer(7333678428282853856)\n",
      "input=Operator(\"(\")\n",
      "input=Comment(\"ptV&+UP-p0*: Fgx.oT1n?`%\\\"=\")\n",
      "input=Integer(-4623848208123645410)\n",
      "input=Identifier(\"J3AgeB\")\n",
      "input=Comment(\"\")\n",
      "input=Integer(-2413584999655374023)\n",
      "input=StringLiteral(\"US%:eF/URtQ'VrbcUweP/t0?yF&:\")\n",
      "input=Operator(\"*\")\n",
      "input=Operator(\"+\")\n",
      "input=Comment(\"-a%JHyR\\\"Z5UXJ3{-%\")\n",
      "input=StringLiteral(\"=M`'K-*nWD#E>]'ODgq*K DW`g*=\")\n",
      "input=Operator(\"-\")\n",
      "input=StringLiteral(\"/=Q7%C\")\n",
      "input=StringLiteral(\"mS>]A\")\n",
      "input=Comment(\":uY%v'.k.u'cB\")\n",
      "input=Integer(-7925453325829988117)\n",
      "input=Comment(\"IL~w`$\\\\?hI\\\"'sQ\\\\~-.\")\n",
      "input=StringLiteral(\"z5y).'Ya<r*\")\n",
      "input=Integer(-7365406797312975871)\n",
      "input=Integer(-7230682566709410006)\n",
      "input=StringLiteral(\"T`Y+'D`&8%-i<T='G|V,`A_H.\")\n",
      "input=StringLiteral(\"<&<B=M'I7/.\")\n",
      "input=Integer(-3001173310347212694)\n",
      "input=Comment(\"{?'a4:\")\n",
      "input=Integer(120497514849354596)\n",
      "input=Identifier(\"mG9c57elw1SCagdgL1U0\")\n",
      "input=Comment(\"B=w'Y==a(?`*T!\")\n",
      "input=Operator(\"-\")\n",
      "input=Identifier(\"Zir77PR7zHV9UbY66tBA\")\n",
      "input=Integer(-278536501783112046)\n",
      "input=Comment(\"R\\\\,*@m:$2/G=={\")\n",
      "input=Operator(\"-\")\n",
      "input=Integer(-9056118226370785750)\n",
      "input=Comment(\"3/hp!tS`:P\\\\cw{$B}m$r?^.\")\n",
      "input=Operator(\"(\")\n",
      "input=Operator(\"+\")\n",
      "input=Integer(8560825782624644203)\n",
      "input=Operator(\"*\")\n",
      "input=StringLiteral(\"/{:YA8FU$&'%*pO2?=\")\n",
      "input=Operator(\"/\")\n",
      "input=StringLiteral(\"KC8}=N/\")\n",
      "input=Integer(6684874667454749806)\n",
      "input=Identifier(\"D1to45gGfhc\")\n",
      "input=Operator(\"(\")\n",
      "input=Integer(4623447641721594168)\n",
      "input=StringLiteral(\"rE&APG@n%4Bt';*{``n*?\")\n",
      "input=Identifier(\"SXmrdTcD6kRDC4ZegCspSvYzc\")\n",
      "input=Integer(6769484650215180668)\n",
      "input=Operator(\"(\")\n",
      "input=StringLiteral(\"*knj&Q+8&i!-Df3r/#J`:Y;lL\")\n",
      "input=Comment(\"=&vTe\\\"&`y<'x\")\n",
      "input=Comment(\"s'IV3j=[.$w&UT\")\n",
      "input=Comment(\"n'-./Q)z&f,W`v81%bS%v~G`a<S-)<\")\n",
      "input=StringLiteral(\"0'3<\")\n",
      "input=Comment(\"<Pl\")\n",
      "input=Operator(\"/\")\n",
      "input=Integer(3778080515387500154)\n",
      "input=Integer(8782303841763165233)\n",
      "input=Identifier(\"CQOWnl62\")\n",
      "input=Operator(\"(\")\n",
      "input=Operator(\"-\")\n",
      "input=StringLiteral(\".CHuMI:=?/(.j%=?/:v{}V$X<4b\")\n",
      "input=Integer(-480135443406753352)\n",
      "input=Integer(4680898599194926605)\n",
      "input=StringLiteral(\"x%/1&J.9\")\n",
      "input=Integer(-7057725010065270041)\n",
      "input=StringLiteral(\"f.>cyn</:j/3*$EMk9%hs:5;W<{\")\n",
      "input=Operator(\"=\")\n",
      "input=Operator(\"+\")\n",
      "input=Integer(-7663952964483070221)\n",
      "input=Identifier(\"ZvWmo730KRotK\")\n",
      "input=Comment(\"iI-\\\"y=%fn3%T \")\n",
      "input=Identifier(\"eUU3x78IEbYFeqmGxH\")\n",
      "input=Comment(\"+\")\n",
      "input=Identifier(\"Vu2XLWk5kRgK\")\n",
      "input=Integer(6165264282994110915)\n",
      "input=Integer(6720624816223618448)\n",
      "input=Comment(\";fmv=={$Evb\")\n",
      "input=Integer(1462171087119774485)\n",
      "input=Operator(\"/\")\n",
      "input=Integer(-3085399733502628908)\n",
      "input=Operator(\")\")\n",
      "input=StringLiteral(\"w.lY.\")\n",
      "input=Integer(1632200298469602265)\n",
      "input=Comment(\"\")\n",
      "input=Operator(\"/\")\n",
      "input=Comment(\"{$\\\\Sf@J@PX@*J'Afa@r\")\n",
      "input=Integer(4269408166232493416)\n",
      "input=StringLiteral(\" ?{o'\")\n",
      "input=Identifier(\"r26g9x\")\n",
      "input=Operator(\"(\")\n",
      "input=Identifier(\"SWr7fj1te7fWPDNvws6q2N6697\")\n",
      "input=Comment(\"Jeca/y'ix4?@1?K\")\n",
      "input=Operator(\"/\")\n",
      "input=Comment(\"\")\n",
      "input=StringLiteral(\"'/tx'nk=\")\n",
      "input=Integer(-7711489377266704091)\n",
      "input=Operator(\"*\")\n",
      "input=Identifier(\"vW0luCkm520vT808\")\n",
      "input=Integer(8702126075737093271)\n",
      "input=Operator(\"+\")\n",
      "input=Integer(-6610871133461734260)\n",
      "input=StringLiteral(\"j;dZ0?G<Md9&`J/\")\n",
      "input=Integer(4256088686355293116)\n",
      "input=Comment(\"*\")\n",
      "input=Operator(\")\")\n",
      "input=Operator(\"(\")\n",
      "input=Operator(\"=\")\n",
      "input=Operator(\"*\")\n",
      "input=Integer(6332395886666441895)\n",
      "input=Comment(\"7Jw&Z\\\"HB\\\\1'mf\")\n",
      "input=Comment(\"N*&w\\\\Wfg$K&fWgm'%C)2sA:aW1q{\\\\:h\")\n",
      "input=Integer(3291532569324504230)\n",
      "input=Integer(7301660841771754696)\n",
      "input=StringLiteral(\"L?T38_:|\")\n",
      "input=Integer(-4306596885233937115)\n",
      "input=StringLiteral(\"|.z%Fk*|H+2\")\n",
      "input=Identifier(\"g6VMU18lLmmuVTaL1vWYWo1W\")\n",
      "input=Identifier(\"V4\")\n",
      "input=Comment(\"G&(,a;`<J0l)PwO`\\\\r/\")\n",
      "input=Integer(8898188089742135164)\n",
      "input=Operator(\"+\")\n",
      "input=Comment(\"AL`cI?~Y\\\"=Y{\\\\]!W%d[<<x9}\")\n",
      "input=Identifier(\"ktKAC670mVy6sPCP7joT5URW3v0J\")\n",
      "input=Integer(-5553866444176424696)\n",
      "input=Integer(-2102844131613048862)\n",
      "input=Integer(-8736167674880565147)\n",
      "input=Comment(\"|~OW%.6y%L\\\"14E\")\n",
      "input=StringLiteral(\"X@kkE|j'<_\")\n",
      "input=Comment(\"C%ql$(gi\\\"s4$C&3?s8\")\n",
      "input=Operator(\"+\")\n",
      "input=StringLiteral(\"yw'}'`uFat&9>OyXC\")\n",
      "input=Comment(\"3\\\"_+&&8sOud\")\n",
      "input=Operator(\"+\")\n",
      "input=Identifier(\"KIZJgcwM3F0tT3UwyQIRJ5OuxPg5WWd\")\n",
      "input=StringLiteral(\"\")\n",
      "input=Identifier(\"m8Q0yV1Vpo1\")\n",
      "input=Integer(-6978047458588097397)\n",
      "input=Comment(\"<\\\\8}V.{'/fC5./_Z#Kg&?wE&K=]\\\\o?\")\n",
      "input=Integer(2088156302347546550)\n",
      "input=Identifier(\"w6VlOyW8ln0AbEmR30ch69wm5GCI1cFz2\")\n",
      "input=StringLiteral(\",`b;=/s`<woVSI7+:SyInP\")\n",
      "input=Comment(\"?|`?0q*]}a>]5,~*8$da^LvZK\\\"~1r\")\n",
      "input=Comment(\"bN/ JQ$'${:<G\\\"'{j:%\\\\r@;/bH.ei,\")\n",
      "input=StringLiteral(\"Ib*{>dim{a?6H34J`*EVFH?X.+U\")\n",
      "input=Identifier(\"O8ap7\")\n",
      "input=Operator(\"-\")\n",
      "input=Comment(\"F?z\\\\ =U_\\\"v)D**&ho$\")\n",
      "input=Operator(\"/\")\n",
      "\n",
      "\n",
      "successes:\n",
      "    adding_and_then_removing_an_item_from_the_cart_leaves_the_cart_unchanged\n",
      "    prop_parse_format_idempotent\n",
      "    test_parse_number\n",
      "\n",
      "test result: ok. 3 passed; 0 failed; 0 ignored; 0 measured; 0 filtered out; finished in 0.07s\n",
      "\n"
     ]
    }
   ],
   "source": [
    "{ cargo test --release -- --show-output } | Invoke-Block"
   ]
  },
  {
   "cell_type": "markdown",
   "metadata": {},
   "source": [
    "### execute the binary in release mode"
   ]
  },
  {
   "cell_type": "code",
   "execution_count": null,
   "metadata": {
    "dotnet_interactive": {
     "language": "pwsh"
    },
    "polyglot_notebook": {
     "kernelName": "pwsh"
    }
   },
   "outputs": [
    {
     "name": "stdout",
     "output_type": "stream",
     "text": [
      "app=test\n"
     ]
    }
   ],
   "source": [
    "{ . $ScriptDir/../../../../workspace/target/release/spiral_temp_test$(_exe) } | Invoke-Block"
   ]
  }
 ],
 "metadata": {},
 "nbformat": 4,
 "nbformat_minor": 5
}