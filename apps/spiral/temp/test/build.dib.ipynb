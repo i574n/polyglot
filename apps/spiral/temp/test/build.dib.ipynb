{
 "cells": [
  {
   "cell_type": "markdown",
   "metadata": {},
   "source": [
    "# test"
   ]
  },
  {
   "cell_type": "markdown",
   "metadata": {},
   "source": [
    "## include scripts"
   ]
  },
  {
   "cell_type": "markdown",
   "metadata": {},
   "source": [
    "### include notebook core"
   ]
  },
  {
   "cell_type": "code",
   "execution_count": null,
   "metadata": {
    "dotnet_interactive": {
     "language": "pwsh"
    },
    "polyglot_notebook": {
     "kernelName": "pwsh"
    }
   },
   "outputs": [],
   "source": [
    ". ../../../../scripts/nbs_header.ps1"
   ]
  },
  {
   "cell_type": "markdown",
   "metadata": {},
   "source": [
    "### Include core functions script"
   ]
  },
  {
   "cell_type": "code",
   "execution_count": null,
   "metadata": {
    "dotnet_interactive": {
     "language": "pwsh"
    },
    "polyglot_notebook": {
     "kernelName": "pwsh"
    }
   },
   "outputs": [],
   "source": [
    ". ../../../../scripts/core.ps1"
   ]
  },
  {
   "cell_type": "markdown",
   "metadata": {},
   "source": [
    "### Include spiral library"
   ]
  },
  {
   "cell_type": "code",
   "execution_count": null,
   "metadata": {
    "dotnet_interactive": {
     "language": "pwsh"
    },
    "polyglot_notebook": {
     "kernelName": "pwsh"
    }
   },
   "outputs": [],
   "source": [
    ". ../../../../lib/spiral/lib.ps1"
   ]
  },
  {
   "cell_type": "markdown",
   "metadata": {},
   "source": [
    "## execute project commands"
   ]
  },
  {
   "cell_type": "markdown",
   "metadata": {},
   "source": [
    "### run notebook with retries using spiral supervisor"
   ]
  },
  {
   "cell_type": "code",
   "execution_count": null,
   "metadata": {
    "dotnet_interactive": {
     "language": "pwsh"
    },
    "polyglot_notebook": {
     "kernelName": "pwsh"
    }
   },
   "outputs": [
    {
     "name": "stdout",
     "output_type": "stream",
     "text": [
      "00:00:00 \u001B[90mverbose\u001B[0m #1 networking.test_port_open / { port = 13806; ex = System.AggregateException: One or more errors occurred. (Connection refused) }\n",
      "00:00:00 \u001B[94m  debug\u001B[0m #1 runtime.execute_with_options_async / { options = { command = ../../../../workspace/target/release/spiral_builder dib --path test.dib --retries 3; cancellation_token = Some System.Threading.CancellationToken; environment_variables = [||]; on_line = None; stdin = None; trace = true; working_directory = None } }\n",
      "00:00:00 \u001B[90mverbose\u001B[0m #2 > 00:00:00 \u001B[94m  debug\u001B[39m #1 spiral_builder.main / { args = Array(MutCell([\"dib\", \"--path\", \"test.dib\", \"--retries\", \"3\"])) }\n",
      "00:00:00 \u001B[90mverbose\u001B[0m #3 > 00:00:00 \u001B[94m  debug\u001B[39m #2 runtime.execute_with_options / { file_name = dotnet; arguments = [\"repl\", \"--exit-after-run\", \"--run\", \"/home/runner/work/polyglot/polyglot/apps/spiral/temp/test/test.dib\", \"--output-path\", \"/home/runner/work/polyglot/polyglot/apps/spiral/temp/test/test.dib.ipynb\"]; options = { command = dotnet repl --exit-after-run --run \"/home/runner/work/polyglot/polyglot/apps/spiral/temp/test/test.dib\" --output-path \"/home/runner/work/polyglot/polyglot/apps/spiral/temp/test/test.dib.ipynb\"; cancellation_token = None; environment_variables = Array(MutCell([(\"TRACE_LEVEL\", \"Verbose\"), (\"AUTOMATION\", \"True\")])); on_line = None; stdin = None; trace = false; working_directory = None } }\n",
      "00:00:02 \u001B[90mverbose\u001B[0m #4 > >\n",
      "00:00:02 \u001B[90mverbose\u001B[0m #5 > > \u001B[38;5;103m── markdown ────────────────────────────────────────────────────────────────────\u001B[0m\n",
      "00:00:02 \u001B[90mverbose\u001B[0m #6 > > \u001B[38;5;103m╭──────────────────────────────────────────────────────────────────────────────╮\u001B[0m\n",
      "00:00:02 \u001B[90mverbose\u001B[0m #7 > > \u001B[38;5;103m│\u001B[0m # test (Polyglot)                                                            \u001B[38;5;103m│\u001B[0m\n",
      "00:00:02 \u001B[90mverbose\u001B[0m #8 > > \u001B[38;5;103m╰──────────────────────────────────────────────────────────────────────────────╯\u001B[0m\n",
      "00:00:04 \u001B[90mverbose\u001B[0m #9 > >\n",
      "00:00:04 \u001B[90mverbose\u001B[0m #10 > > \u001B[38;5;103m── spiral ──────────────────────────────────────────────────────────────────────\u001B[0m\n",
      "00:00:04 \u001B[90mverbose\u001B[0m #11 > > //// test\n",
      "00:00:04 \u001B[90mverbose\u001B[0m #12 > >\n",
      "00:00:04 \u001B[90mverbose\u001B[0m #13 > > open testing\n",
      "00:00:07 \u001B[90mverbose\u001B[0m #14 > >\n",
      "00:00:07 \u001B[90mverbose\u001B[0m #15 > > \u001B[38;5;103m── spiral ──────────────────────────────────────────────────────────────────────\u001B[0m\n",
      "00:00:07 \u001B[90mverbose\u001B[0m #16 > > nominal i = ()\n",
      "00:00:07 \u001B[90mverbose\u001B[0m #17 > > nominal e = ()\n",
      "00:00:07 \u001B[90mverbose\u001B[0m #18 > > nominal s = ()\n",
      "00:00:07 \u001B[90mverbose\u001B[0m #19 > > nominal n = ()\n",
      "00:00:07 \u001B[90mverbose\u001B[0m #20 > > nominal t = ()\n",
      "00:00:07 \u001B[90mverbose\u001B[0m #21 > > nominal f = ()\n",
      "00:00:07 \u001B[90mverbose\u001B[0m #22 > > nominal j = ()\n",
      "00:00:07 \u001B[90mverbose\u001B[0m #23 > > nominal p = ()\n",
      "00:00:07 \u001B[90mverbose\u001B[0m #24 > >\n",
      "00:00:07 \u001B[90mverbose\u001B[0m #25 > > union sensing =\n",
      "00:00:07 \u001B[90mverbose\u001B[0m #26 > >     | Si : s * i\n",
      "00:00:07 \u001B[90mverbose\u001B[0m #27 > >     | Se : s * e\n",
      "00:00:07 \u001B[90mverbose\u001B[0m #28 > >\n",
      "00:00:07 \u001B[90mverbose\u001B[0m #29 > > union intuition =\n",
      "00:00:07 \u001B[90mverbose\u001B[0m #30 > >     | Ni : n * i\n",
      "00:00:07 \u001B[90mverbose\u001B[0m #31 > >     | Ne : n * e\n",
      "00:00:07 \u001B[90mverbose\u001B[0m #32 > >\n",
      "00:00:07 \u001B[90mverbose\u001B[0m #33 > > union thinking =\n",
      "00:00:07 \u001B[90mverbose\u001B[0m #34 > >     | Ti : t * i\n",
      "00:00:07 \u001B[90mverbose\u001B[0m #35 > >     | Te : t * e\n",
      "00:00:07 \u001B[90mverbose\u001B[0m #36 > >\n",
      "00:00:07 \u001B[90mverbose\u001B[0m #37 > > union feeling =\n",
      "00:00:07 \u001B[90mverbose\u001B[0m #38 > >     | Fi : f * i\n",
      "00:00:07 \u001B[90mverbose\u001B[0m #39 > >     | Fe : f * e\n",
      "00:00:07 \u001B[90mverbose\u001B[0m #40 > >\n",
      "00:00:07 \u001B[90mverbose\u001B[0m #41 > > union function_stack =\n",
      "00:00:07 \u001B[90mverbose\u001B[0m #42 > >     | FS : sensing * intuition * thinking * feeling\n",
      "00:00:07 \u001B[90mverbose\u001B[0m #43 > >\n",
      "00:00:07 \u001B[90mverbose\u001B[0m #44 > > union personality_type =\n",
      "00:00:07 \u001B[90mverbose\u001B[0m #45 > >     | ISTJ : i * s * t * j * function_stack\n",
      "00:00:07 \u001B[90mverbose\u001B[0m #46 > >     | ISFJ : i * s * f * j * function_stack\n",
      "00:00:07 \u001B[90mverbose\u001B[0m #47 > >     | INFJ : i * n * f * j * function_stack\n",
      "00:00:07 \u001B[90mverbose\u001B[0m #48 > >     | INTJ : i * n * t * j * function_stack\n",
      "00:00:07 \u001B[90mverbose\u001B[0m #49 > >     | ISTP : i * s * t * p * function_stack\n",
      "00:00:07 \u001B[90mverbose\u001B[0m #50 > >     | ISFP : i * s * f * p * function_stack\n",
      "00:00:07 \u001B[90mverbose\u001B[0m #51 > >     | INFP : i * n * f * p * function_stack\n",
      "00:00:07 \u001B[90mverbose\u001B[0m #52 > >     | INTP : i * n * t * p * function_stack\n",
      "00:00:07 \u001B[90mverbose\u001B[0m #53 > >     | ESTP : e * s * t * p * function_stack\n",
      "00:00:07 \u001B[90mverbose\u001B[0m #54 > >     | ESFP : e * s * f * p * function_stack\n",
      "00:00:07 \u001B[90mverbose\u001B[0m #55 > >     | ENFP : e * n * f * p * function_stack\n",
      "00:00:07 \u001B[90mverbose\u001B[0m #56 > >     | ENTP : e * n * t * p * function_stack\n",
      "00:00:07 \u001B[90mverbose\u001B[0m #57 > >     | ESTJ : e * s * t * j * function_stack\n",
      "00:00:07 \u001B[90mverbose\u001B[0m #58 > >     | ESFJ : e * s * f * j * function_stack\n",
      "00:00:07 \u001B[90mverbose\u001B[0m #59 > >     | ENFJ : e * n * f * j * function_stack\n",
      "00:00:07 \u001B[90mverbose\u001B[0m #60 > >     | ENTJ : e * n * t * j * function_stack\n",
      "00:00:07 \u001B[90mverbose\u001B[0m #61 > >\n",
      "00:00:07 \u001B[90mverbose\u001B[0m #62 > >\n",
      "00:00:07 \u001B[90mverbose\u001B[0m #63 > > inl main () =\n",
      "00:00:07 \u001B[90mverbose\u001B[0m #64 > >     inl istj_stack = FS ((Si (s, i)), Ne (n, e), (Te (t, e)), (Fi (f, i)))\n",
      "00:00:07 \u001B[90mverbose\u001B[0m #65 > >     inl istj_personality = ISTJ (i, s, t, j, istj_stack)\n",
      "00:00:07 \u001B[90mverbose\u001B[0m #66 > >     // inl isfj_stack = FS ((Si (s, i)), Ne (n, e), (Fe (f, e)), (Ti (t, i)))\n",
      "00:00:07 \u001B[90mverbose\u001B[0m #67 > >     // inl isfj_personality = ISFJ (i, s, f, j, isfj_stack)\n",
      "00:00:07 \u001B[90mverbose\u001B[0m #68 > >\n",
      "00:00:07 \u001B[90mverbose\u001B[0m #69 > >     ;[[\n",
      "00:00:07 \u001B[90mverbose\u001B[0m #70 > >         istj_personality\n",
      "00:00:07 \u001B[90mverbose\u001B[0m #71 > >     ]]\n",
      "00:00:07 \u001B[90mverbose\u001B[0m #72 > >     |> fun x => $'$\"%A{!x}\"' : string\n",
      "00:00:07 \u001B[90mverbose\u001B[0m #73 > >     |> console.write_line\n",
      "00:00:07 \u001B[90mverbose\u001B[0m #74 > >\n",
      "00:00:07 \u001B[90mverbose\u001B[0m #75 > > inl main () =\n",
      "00:00:07 \u001B[90mverbose\u001B[0m #76 > >     $'!main ()' : ()\n",
      "00:00:09 \u001B[90mverbose\u001B[0m #77 > >\n",
      "00:00:09 \u001B[90mverbose\u001B[0m #78 > > \u001B[38;5;2m╭─[ 1.16s - stdout ]───────────────────────────────────────────────────────────╮\u001B[0m\n",
      "00:00:09 \u001B[90mverbose\u001B[0m #79 > > \u001B[38;5;2m│\u001B[0m [|US5_0 (US4_0 (US0_0, US1_1, US2_1, US3_0))|]                               \u001B[38;5;2m│\u001B[0m\n",
      "00:00:09 \u001B[90mverbose\u001B[0m #80 > > \u001B[38;5;2m│\u001B[0m                                                                              \u001B[38;5;2m│\u001B[0m\n",
      "00:00:09 \u001B[90mverbose\u001B[0m #81 > > \u001B[38;5;2m╰──────────────────────────────────────────────────────────────────────────────╯\u001B[0m\n",
      "00:00:09 \u001B[90mverbose\u001B[0m #82 > >\n",
      "00:00:09 \u001B[90mverbose\u001B[0m #83 > > \u001B[38;5;103m── fsharp ──────────────────────────────────────────────────────────────────────\u001B[0m\n",
      "00:00:09 \u001B[90mverbose\u001B[0m #84 > > type PhonologicalFeature =\n",
      "00:00:09 \u001B[90mverbose\u001B[0m #85 > >     | VowelFeature of\n",
      "00:00:09 \u001B[90mverbose\u001B[0m #86 > >         height: Height\n",
      "00:00:09 \u001B[90mverbose\u001B[0m #87 > >         * backness: Backness\n",
      "00:00:09 \u001B[90mverbose\u001B[0m #88 > >         * roundedness: Roundedness\n",
      "00:00:09 \u001B[90mverbose\u001B[0m #89 > >         * tone: Option<Tone>\n",
      "00:00:09 \u001B[90mverbose\u001B[0m #90 > >         * stress: Option<Stress>\n",
      "00:00:09 \u001B[90mverbose\u001B[0m #91 > >         * length: Option<Length>\n",
      "00:00:09 \u001B[90mverbose\u001B[0m #92 > >     | ConsonantFeature of\n",
      "00:00:09 \u001B[90mverbose\u001B[0m #93 > >         place: PlaceOfArticulation\n",
      "00:00:09 \u001B[90mverbose\u001B[0m #94 > >         * manner: MannerOfArticulation\n",
      "00:00:09 \u001B[90mverbose\u001B[0m #95 > >         * voicing: Voicing\n",
      "00:00:09 \u001B[90mverbose\u001B[0m #96 > >         * length: Option<Length>\n",
      "00:00:09 \u001B[90mverbose\u001B[0m #97 > >     | VowelHarmonyFeature\n",
      "00:00:09 \u001B[90mverbose\u001B[0m #98 > >     | PitchAccentFeature\n",
      "00:00:09 \u001B[90mverbose\u001B[0m #99 > >\n",
      "00:00:09 \u001B[90mverbose\u001B[0m #100 > > and Stress = Primary | Secondary\n",
      "00:00:09 \u001B[90mverbose\u001B[0m #101 > > and Length = Long | Short | HalfLong\n",
      "00:00:09 \u001B[90mverbose\u001B[0m #102 > >\n",
      "00:00:09 \u001B[90mverbose\u001B[0m #103 > > and Height =\n",
      "00:00:09 \u001B[90mverbose\u001B[0m #104 > >     | High | NearHigh | HighMid\n",
      "00:00:09 \u001B[90mverbose\u001B[0m #105 > >     | Mid | LowMid | NearLow\n",
      "00:00:09 \u001B[90mverbose\u001B[0m #106 > >     | Low\n",
      "00:00:09 \u001B[90mverbose\u001B[0m #107 > >\n",
      "00:00:09 \u001B[90mverbose\u001B[0m #108 > > and Backness = Front | Central | Back\n",
      "00:00:09 \u001B[90mverbose\u001B[0m #109 > >\n",
      "00:00:09 \u001B[90mverbose\u001B[0m #110 > > and Roundedness = Rounded | Unrounded\n",
      "00:00:09 \u001B[90mverbose\u001B[0m #111 > >\n",
      "00:00:09 \u001B[90mverbose\u001B[0m #112 > > and PlaceOfArticulation =\n",
      "00:00:09 \u001B[90mverbose\u001B[0m #113 > >     | Bilabial | Labiodental | Dental\n",
      "00:00:09 \u001B[90mverbose\u001B[0m #114 > >     | Alveolar | Postalveolar | Retroflex\n",
      "00:00:09 \u001B[90mverbose\u001B[0m #115 > >     | Palatal | Velar | Uvular\n",
      "00:00:09 \u001B[90mverbose\u001B[0m #116 > >     | Pharyngeal | Epiglottal | Glottal\n",
      "00:00:09 \u001B[90mverbose\u001B[0m #117 > >\n",
      "00:00:09 \u001B[90mverbose\u001B[0m #118 > > and MannerOfArticulation =\n",
      "00:00:09 \u001B[90mverbose\u001B[0m #119 > >     | Plosive | Nasal | Trill\n",
      "00:00:09 \u001B[90mverbose\u001B[0m #120 > >     | TapOrFlap | Fricative | LateralFricative\n",
      "00:00:09 \u001B[90mverbose\u001B[0m #121 > >     | Approximant | LateralApproximant\n",
      "00:00:09 \u001B[90mverbose\u001B[0m #122 > >\n",
      "00:00:09 \u001B[90mverbose\u001B[0m #123 > > and Voicing = Voiced | Voiceless\n",
      "00:00:09 \u001B[90mverbose\u001B[0m #124 > >\n",
      "00:00:09 \u001B[90mverbose\u001B[0m #125 > > and SecondaryArticulation =\n",
      "00:00:09 \u001B[90mverbose\u001B[0m #126 > >     | Labialization | Palatalization | Velarization\n",
      "00:00:09 \u001B[90mverbose\u001B[0m #127 > >     | Pharyngealization | Aspiration\n",
      "00:00:09 \u001B[90mverbose\u001B[0m #128 > >\n",
      "00:00:09 \u001B[90mverbose\u001B[0m #129 > > and Tone =\n",
      "00:00:09 \u001B[90mverbose\u001B[0m #130 > >     | LevelTone of int\n",
      "00:00:09 \u001B[90mverbose\u001B[0m #131 > >     | ContourTone of int list\n",
      "00:00:09 \u001B[90mverbose\u001B[0m #132 > >\n",
      "00:00:09 \u001B[90mverbose\u001B[0m #133 > > and MorphologicalFeature =\n",
      "00:00:09 \u001B[90mverbose\u001B[0m #134 > >     | RootFeature of string\n",
      "00:00:09 \u001B[90mverbose\u001B[0m #135 > >     | AffixFeature of AffixType * string\n",
      "00:00:09 \u001B[90mverbose\u001B[0m #136 > >     | IncorporationFeature of string * MorphologicalFeature\n",
      "00:00:09 \u001B[90mverbose\u001B[0m #137 > >     | NonConcatenativePattern of string * string\n",
      "00:00:09 \u001B[90mverbose\u001B[0m #138 > >     | AgglutinativeAffixFeature of AgglutinativeAffixType * string\n",
      "00:00:09 \u001B[90mverbose\u001B[0m #139 > >     | HonorificFeature of HonorificType * string\n",
      "00:00:09 \u001B[90mverbose\u001B[0m #140 > >\n",
      "00:00:09 \u001B[90mverbose\u001B[0m #141 > > and AgglutinativeAffixType = Suffix | Prefix\n",
      "00:00:09 \u001B[90mverbose\u001B[0m #142 > >\n",
      "00:00:09 \u001B[90mverbose\u001B[0m #143 > > and HonorificType = VerbHonorific | NounHonorific\n",
      "00:00:09 \u001B[90mverbose\u001B[0m #144 > >\n",
      "00:00:09 \u001B[90mverbose\u001B[0m #145 > > and AffixType =\n",
      "00:00:09 \u001B[90mverbose\u001B[0m #146 > >     | Prefix | Suffix | Infix\n",
      "00:00:09 \u001B[90mverbose\u001B[0m #147 > >     | Circumfix\n",
      "00:00:09 \u001B[90mverbose\u001B[0m #148 > >\n",
      "00:00:09 \u001B[90mverbose\u001B[0m #149 > > type SyntacticFeature =\n",
      "00:00:09 \u001B[90mverbose\u001B[0m #150 > >     | WordFeature of MorphologicalFeature list * LexicalCategory\n",
      "00:00:09 \u001B[90mverbose\u001B[0m #151 > >     | PhraseFeature of PhraseType * SyntacticFeature list\n",
      "00:00:09 \u001B[90mverbose\u001B[0m #152 > >     | GrammaticalRelation of GrammaticalRelationType * SyntacticFeature list\n",
      "00:00:09 \u001B[90mverbose\u001B[0m #153 > >     | SOVOrderFeature\n",
      "00:00:09 \u001B[90mverbose\u001B[0m #154 > >     | TopicCommentFeature\n",
      "00:00:09 \u001B[90mverbose\u001B[0m #155 > >\n",
      "00:00:09 \u001B[90mverbose\u001B[0m #156 > > and GrammaticalRelationType =\n",
      "00:00:09 \u001B[90mverbose\u001B[0m #157 > >     | Ergative | Absolutive | Nominative\n",
      "00:00:09 \u001B[90mverbose\u001B[0m #158 > >     | Accusative\n",
      "00:00:09 \u001B[90mverbose\u001B[0m #159 > >\n",
      "00:00:09 \u001B[90mverbose\u001B[0m #160 > > and LexicalCategory =\n",
      "00:00:09 \u001B[90mverbose\u001B[0m #161 > >     | Noun | Verb | Adjective\n",
      "00:00:09 \u001B[90mverbose\u001B[0m #162 > >     | Adverb | Pronoun | Preposition\n",
      "00:00:09 \u001B[90mverbose\u001B[0m #163 > >     | Conjunction | Determiner | Interjection\n",
      "00:00:09 \u001B[90mverbose\u001B[0m #164 > >\n",
      "00:00:09 \u001B[90mverbose\u001B[0m #165 > > and PhraseType =\n",
      "00:00:09 \u001B[90mverbose\u001B[0m #166 > >     | NP | VP | AP\n",
      "00:00:09 \u001B[90mverbose\u001B[0m #167 > >     | PP | CP\n",
      "00:00:09 \u001B[90mverbose\u001B[0m #168 > >\n",
      "00:00:09 \u001B[90mverbose\u001B[0m #169 > > and SemanticFeature =\n",
      "00:00:09 \u001B[90mverbose\u001B[0m #170 > >     | Meaning of string\n",
      "00:00:09 \u001B[90mverbose\u001B[0m #171 > >     | SemanticRole of SemanticRoleType * SemanticFeature\n",
      "00:00:09 \u001B[90mverbose\u001B[0m #172 > >\n",
      "00:00:09 \u001B[90mverbose\u001B[0m #173 > > and SemanticRoleType =\n",
      "00:00:09 \u001B[90mverbose\u001B[0m #174 > >     | Agent | Patient | Instrument\n",
      "00:00:09 \u001B[90mverbose\u001B[0m #175 > >     | Location | Time | Cause\n",
      "00:00:09 \u001B[90mverbose\u001B[0m #176 > >\n",
      "00:00:09 \u001B[90mverbose\u001B[0m #177 > > and PragmaticFeature =\n",
      "00:00:09 \u001B[90mverbose\u001B[0m #178 > >     | UseContext of string\n",
      "00:00:09 \u001B[90mverbose\u001B[0m #179 > >     | PolitenessLevel of Politeness\n",
      "00:00:09 \u001B[90mverbose\u001B[0m #180 > >     | SpeechAct of SpeechActType\n",
      "00:00:09 \u001B[90mverbose\u001B[0m #181 > >     | SpeechLevel of SpeechLevelType\n",
      "00:00:09 \u001B[90mverbose\u001B[0m #182 > >\n",
      "00:00:09 \u001B[90mverbose\u001B[0m #183 > > and Politeness = Formal | Informal | Neutral\n",
      "00:00:09 \u001B[90mverbose\u001B[0m #184 > >\n",
      "00:00:09 \u001B[90mverbose\u001B[0m #185 > > and SpeechActType =\n",
      "00:00:09 \u001B[90mverbose\u001B[0m #186 > >     | Assertive | Directive | Commissive\n",
      "00:00:09 \u001B[90mverbose\u001B[0m #187 > >     | Expressive | Declarative\n",
      "00:00:09 \u001B[90mverbose\u001B[0m #188 > >\n",
      "00:00:09 \u001B[90mverbose\u001B[0m #189 > > and SpeechLevelType =\n",
      "00:00:09 \u001B[90mverbose\u001B[0m #190 > >     | FormalHigh | FormalLow | InformalHigh\n",
      "00:00:09 \u001B[90mverbose\u001B[0m #191 > >     | InformalLow | Neutral\n",
      "00:00:09 \u001B[90mverbose\u001B[0m #192 > >\n",
      "00:00:09 \u001B[90mverbose\u001B[0m #193 > > type LinguisticFeature =\n",
      "00:00:09 \u001B[90mverbose\u001B[0m #194 > >     | Phonological of PhonologicalFeature\n",
      "00:00:09 \u001B[90mverbose\u001B[0m #195 > >     | Morphological of MorphologicalFeature\n",
      "00:00:09 \u001B[90mverbose\u001B[0m #196 > >     | Syntactic of SyntacticFeature\n",
      "00:00:09 \u001B[90mverbose\u001B[0m #197 > >     | Semantic of SemanticFeature\n",
      "00:00:09 \u001B[90mverbose\u001B[0m #198 > >     | Pragmatic of PragmaticFeature\n",
      "00:00:09 \u001B[90mverbose\u001B[0m #199 > >\n",
      "00:00:09 \u001B[90mverbose\u001B[0m #200 > > type LanguageConstruct =\n",
      "00:00:09 \u001B[90mverbose\u001B[0m #201 > >     | LanguageElement of LinguisticFeature\n",
      "00:00:09 \u001B[90mverbose\u001B[0m #202 > >     | LanguageStructure of LanguageConstruct list\n",
      "00:00:09 \u001B[90mverbose\u001B[0m #203 > >     | TranslationElement of TranslationFeature\n",
      "00:00:09 \u001B[90mverbose\u001B[0m #204 > >\n",
      "00:00:09 \u001B[90mverbose\u001B[0m #205 > > and TranslationFeature =\n",
      "00:00:09 \u001B[90mverbose\u001B[0m #206 > >     | LinkedPhonological of PhonologicalFeature * PhonologicalFeature\n",
      "00:00:09 \u001B[90mverbose\u001B[0m #207 > >     | LinkedMorphological of MorphologicalFeature * MorphologicalFeature\n",
      "00:00:09 \u001B[90mverbose\u001B[0m #208 > >     | LinkedSyntactic of SyntacticFeature * SyntacticFeature\n",
      "00:00:09 \u001B[90mverbose\u001B[0m #209 > >     | LinkedSemantic of SemanticFeature * SemanticFeature\n",
      "00:00:09 \u001B[90mverbose\u001B[0m #210 > >\n",
      "00:00:09 \u001B[90mverbose\u001B[0m #211 > > type Discourse = DiscourseUnit of LanguageConstruct list\n",
      "00:00:09 \u001B[90mverbose\u001B[0m #212 > >\n",
      "00:00:09 \u001B[90mverbose\u001B[0m #213 > > type LanguageModel =\n",
      "00:00:09 \u001B[90mverbose\u001B[0m #214 > >     | Model of discourse: Discourse\n",
      "00:00:10 \u001B[90mverbose\u001B[0m #215 > >\n",
      "00:00:10 \u001B[90mverbose\u001B[0m #216 > > \u001B[38;5;103m── fsharp ──────────────────────────────────────────────────────────────────────\u001B[0m\n",
      "00:00:10 \u001B[90mverbose\u001B[0m #217 > > let testEnglish =\n",
      "00:00:10 \u001B[90mverbose\u001B[0m #218 > >     Model(\n",
      "00:00:10 \u001B[90mverbose\u001B[0m #219 > >         DiscourseUnit [[\n",
      "00:00:10 \u001B[90mverbose\u001B[0m #220 > >             LanguageElement (Phonological (ConsonantFeature (Alveolar, Nasal,\n",
      "00:00:10 \u001B[90mverbose\u001B[0m #221 > > Voiced, Some(HalfLong))));\n",
      "00:00:10 \u001B[90mverbose\u001B[0m #222 > >             LanguageElement (Phonological (VowelFeature (High, Front, Unrounded,\n",
      "00:00:10 \u001B[90mverbose\u001B[0m #223 > > Some(LevelTone 1), Some(Primary), Some(Short))));\n",
      "00:00:10 \u001B[90mverbose\u001B[0m #224 > >             LanguageElement (Phonological (VowelFeature (Low, Front, Unrounded,\n",
      "00:00:10 \u001B[90mverbose\u001B[0m #225 > > Some(LevelTone 2), Some(Secondary), Some(Long))));\n",
      "00:00:10 \u001B[90mverbose\u001B[0m #226 > >             LanguageElement (Phonological (ConsonantFeature (Velar, Plosive,\n",
      "00:00:10 \u001B[90mverbose\u001B[0m #227 > > Voiceless, Some(HalfLong))));\n",
      "00:00:10 \u001B[90mverbose\u001B[0m #228 > >             LanguageElement (Morphological (RootFeature \"I\"));\n",
      "00:00:10 \u001B[90mverbose\u001B[0m #229 > >             LanguageElement (Morphological (RootFeature \"see\"));\n",
      "00:00:10 \u001B[90mverbose\u001B[0m #230 > >             LanguageElement (Morphological (RootFeature \"a\"));\n",
      "00:00:10 \u001B[90mverbose\u001B[0m #231 > >             LanguageElement (Morphological (RootFeature \"cat\"));\n",
      "00:00:10 \u001B[90mverbose\u001B[0m #232 > >             LanguageElement (Syntactic (PhraseFeature (NP, [[WordFeature\n",
      "00:00:10 \u001B[90mverbose\u001B[0m #233 > > ([[RootFeature \"I\"]], Pronoun)]])));\n",
      "00:00:10 \u001B[90mverbose\u001B[0m #234 > >             LanguageElement (Syntactic (PhraseFeature (VP, [[WordFeature\n",
      "00:00:10 \u001B[90mverbose\u001B[0m #235 > > ([[RootFeature \"see\"]], Verb)]])));\n",
      "00:00:10 \u001B[90mverbose\u001B[0m #236 > >             LanguageElement (Syntactic (PhraseFeature (NP, [[WordFeature\n",
      "00:00:10 \u001B[90mverbose\u001B[0m #237 > > ([[RootFeature \"a\"; RootFeature \"cat\"]], Noun)]])));\n",
      "00:00:10 \u001B[90mverbose\u001B[0m #238 > >             LanguageElement (Semantic (Meaning \"Perception act of a feline by\n",
      "00:00:10 \u001B[90mverbose\u001B[0m #239 > > the speaker\"));\n",
      "00:00:10 \u001B[90mverbose\u001B[0m #240 > >             LanguageElement (Pragmatic (UseContext \"Statement of an action being\n",
      "00:00:10 \u001B[90mverbose\u001B[0m #241 > > observed\"))\n",
      "00:00:10 \u001B[90mverbose\u001B[0m #242 > >         ]]\n",
      "00:00:10 \u001B[90mverbose\u001B[0m #243 > >     )\n",
      "00:00:10 \u001B[90mverbose\u001B[0m #244 > >\n",
      "00:00:10 \u001B[90mverbose\u001B[0m #245 > > let testPortuguese =\n",
      "00:00:10 \u001B[90mverbose\u001B[0m #246 > >     Model(\n",
      "00:00:10 \u001B[90mverbose\u001B[0m #247 > >         DiscourseUnit [[\n",
      "00:00:10 \u001B[90mverbose\u001B[0m #248 > >             LanguageElement (Phonological (VowelFeature (High, Front, Unrounded,\n",
      "00:00:10 \u001B[90mverbose\u001B[0m #249 > > Some(LevelTone 1), Some(Primary), Some(Short))));\n",
      "00:00:10 \u001B[90mverbose\u001B[0m #250 > >             LanguageElement (Phonological (VowelFeature (Low, Front, Unrounded,\n",
      "00:00:10 \u001B[90mverbose\u001B[0m #251 > > Some(LevelTone 2), Some(Secondary), Some(Long))));\n",
      "00:00:10 \u001B[90mverbose\u001B[0m #252 > >             LanguageElement (Phonological (VowelFeature (Mid, Back, Rounded,\n",
      "00:00:10 \u001B[90mverbose\u001B[0m #253 > > Some(LevelTone 3), Some(Primary), Some(Short))));\n",
      "00:00:10 \u001B[90mverbose\u001B[0m #254 > >             LanguageElement (Phonological (ConsonantFeature (Velar, Plosive,\n",
      "00:00:10 \u001B[90mverbose\u001B[0m #255 > > Voiceless, Some(HalfLong))));\n",
      "00:00:10 \u001B[90mverbose\u001B[0m #256 > >             LanguageElement (Morphological (RootFeature \"Eu\"));\n",
      "00:00:10 \u001B[90mverbose\u001B[0m #257 > >             LanguageElement (Morphological (RootFeature \"ver\" |> ignore;\n",
      "00:00:10 \u001B[90mverbose\u001B[0m #258 > > AffixFeature (Suffix, \"o\")));\n",
      "00:00:10 \u001B[90mverbose\u001B[0m #259 > >             LanguageElement (Morphological (RootFeature \"um\"));\n",
      "00:00:10 \u001B[90mverbose\u001B[0m #260 > >             LanguageElement (Morphological (RootFeature \"gato\"));\n",
      "00:00:10 \u001B[90mverbose\u001B[0m #261 > >             LanguageElement (Syntactic (PhraseFeature (NP, [[WordFeature\n",
      "00:00:10 \u001B[90mverbose\u001B[0m #262 > > ([[RootFeature \"Eu\"]], Pronoun)]])));\n",
      "00:00:10 \u001B[90mverbose\u001B[0m #263 > >             LanguageElement (Syntactic (PhraseFeature (VP, [[WordFeature\n",
      "00:00:10 \u001B[90mverbose\u001B[0m #264 > > ([[RootFeature \"vejo\"]], Verb)]])));\n",
      "00:00:10 \u001B[90mverbose\u001B[0m #265 > >             LanguageElement (Syntactic (PhraseFeature (NP, [[WordFeature\n",
      "00:00:10 \u001B[90mverbose\u001B[0m #266 > > ([[RootFeature \"um\"; RootFeature \"gato\"]], Noun)]])));\n",
      "00:00:10 \u001B[90mverbose\u001B[0m #267 > >             LanguageElement (Semantic (Meaning \"Ação de percepção de um felino\n",
      "00:00:10 \u001B[90mverbose\u001B[0m #268 > > pelo falante\"));\n",
      "00:00:10 \u001B[90mverbose\u001B[0m #269 > >             LanguageElement (Pragmatic (UseContext \"Declaração de uma ação sendo\n",
      "00:00:10 \u001B[90mverbose\u001B[0m #270 > > observada\"))\n",
      "00:00:10 \u001B[90mverbose\u001B[0m #271 > >         ]]\n",
      "00:00:10 \u001B[90mverbose\u001B[0m #272 > >     )\n",
      "00:00:10 \u001B[90mverbose\u001B[0m #273 > >\n",
      "00:00:10 \u001B[90mverbose\u001B[0m #274 > > let testKorean =\n",
      "00:00:10 \u001B[90mverbose\u001B[0m #275 > >     Model(\n",
      "00:00:10 \u001B[90mverbose\u001B[0m #276 > >         DiscourseUnit [[\n",
      "00:00:10 \u001B[90mverbose\u001B[0m #277 > >             LanguageElement (Phonological (ConsonantFeature (Alveolar, Nasal,\n",
      "00:00:10 \u001B[90mverbose\u001B[0m #278 > > Voiced, Some(Short))));\n",
      "00:00:10 \u001B[90mverbose\u001B[0m #279 > >             LanguageElement (Phonological (VowelFeature (High, Back, Rounded,\n",
      "00:00:10 \u001B[90mverbose\u001B[0m #280 > > None, None, Some(Short))));\n",
      "00:00:10 \u001B[90mverbose\u001B[0m #281 > >             LanguageElement (Phonological (VowelFeature (Mid, Front, Unrounded,\n",
      "00:00:10 \u001B[90mverbose\u001B[0m #282 > > None, None, Some(Long))));\n",
      "00:00:10 \u001B[90mverbose\u001B[0m #283 > >             LanguageElement (Phonological (ConsonantFeature (Bilabial, Plosive,\n",
      "00:00:10 \u001B[90mverbose\u001B[0m #284 > > Voiceless, Some(Short))));\n",
      "00:00:10 \u001B[90mverbose\u001B[0m #285 > >             LanguageElement (Morphological (RootFeature \"나\"));\n",
      "00:00:10 \u001B[90mverbose\u001B[0m #286 > >             LanguageElement (Morphological (RootFeature \"보다\"));\n",
      "00:00:10 \u001B[90mverbose\u001B[0m #287 > >             LanguageElement (Morphological (AffixFeature (Suffix, \"아\")));\n",
      "00:00:10 \u001B[90mverbose\u001B[0m #288 > >             LanguageElement (Morphological (RootFeature \"고양이\"));\n",
      "00:00:10 \u001B[90mverbose\u001B[0m #289 > >             LanguageElement (Syntactic (PhraseFeature (NP, [[WordFeature\n",
      "00:00:10 \u001B[90mverbose\u001B[0m #290 > > ([[RootFeature \"나\"]], Pronoun)]])));\n",
      "00:00:10 \u001B[90mverbose\u001B[0m #291 > >             LanguageElement (Syntactic (PhraseFeature (VP, [[WordFeature\n",
      "00:00:10 \u001B[90mverbose\u001B[0m #292 > > ([[RootFeature \"보다\"; AffixFeature (Suffix, \"아\")]], Verb)]])));\n",
      "00:00:10 \u001B[90mverbose\u001B[0m #293 > >             LanguageElement (Syntactic (PhraseFeature (NP, [[WordFeature\n",
      "00:00:10 \u001B[90mverbose\u001B[0m #294 > > ([[RootFeature \"고양이\"]], Noun)]])));\n",
      "00:00:10 \u001B[90mverbose\u001B[0m #295 > >             LanguageElement (Semantic (Meaning \"화자에 의한 고양이의 관찰\n",
      "00:00:10 \u001B[90mverbose\u001B[0m #296 > > 행위\"));\n",
      "00:00:10 \u001B[90mverbose\u001B[0m #297 > >             LanguageElement (Pragmatic (UseContext \"관찰되고 있는 행동의 진술\"))\n",
      "00:00:10 \u001B[90mverbose\u001B[0m #298 > >         ]]\n",
      "00:00:10 \u001B[90mverbose\u001B[0m #299 > >     )\n",
      "00:00:10 \u001B[90mverbose\u001B[0m #300 > >\n",
      "00:00:10 \u001B[90mverbose\u001B[0m #301 > > \u001B[38;5;103m── markdown ────────────────────────────────────────────────────────────────────\u001B[0m\n",
      "00:00:10 \u001B[90mverbose\u001B[0m #302 > > \u001B[38;5;103m╭──────────────────────────────────────────────────────────────────────────────╮\u001B[0m\n",
      "00:00:10 \u001B[90mverbose\u001B[0m #303 > > \u001B[38;5;103m│\u001B[0m ## main                                                                      \u001B[38;5;103m│\u001B[0m\n",
      "00:00:10 \u001B[90mverbose\u001B[0m #304 > > \u001B[38;5;103m╰──────────────────────────────────────────────────────────────────────────────╯\u001B[0m\n",
      "00:00:10 \u001B[90mverbose\u001B[0m #305 > >\n",
      "00:00:10 \u001B[90mverbose\u001B[0m #306 > > \u001B[38;5;103m── spiral ──────────────────────────────────────────────────────────────────────\u001B[0m\n",
      "00:00:10 \u001B[90mverbose\u001B[0m #307 > > inl main (_args : array_base string) =\n",
      "00:00:10 \u001B[90mverbose\u001B[0m #308 > >     0i32\n",
      "00:00:10 \u001B[90mverbose\u001B[0m #309 > >\n",
      "00:00:10 \u001B[90mverbose\u001B[0m #310 > > inl main () =\n",
      "00:00:10 \u001B[90mverbose\u001B[0m #311 > >     $'let main args = !main args' : ()\n",
      "00:00:10 \u001B[90mverbose\u001B[0m #312 > >\n",
      "00:00:10 \u001B[90mverbose\u001B[0m #313 > > \u001B[38;5;103m── spiral ──────────────────────────────────────────────────────────────────────\u001B[0m\n",
      "00:00:10 \u001B[90mverbose\u001B[0m #314 > > inl app () =\n",
      "00:00:10 \u001B[90mverbose\u001B[0m #315 > >     \"test\" |> console.write_line\n",
      "00:00:10 \u001B[90mverbose\u001B[0m #316 > >     0i32\n",
      "00:00:10 \u001B[90mverbose\u001B[0m #317 > >\n",
      "00:00:10 \u001B[90mverbose\u001B[0m #318 > > inl main () =\n",
      "00:00:10 \u001B[90mverbose\u001B[0m #319 > >     print_static \"<test>\"\n",
      "00:00:10 \u001B[90mverbose\u001B[0m #320 > >\n",
      "00:00:10 \u001B[90mverbose\u001B[0m #321 > >     app\n",
      "00:00:10 \u001B[90mverbose\u001B[0m #322 > >     |> dyn\n",
      "00:00:10 \u001B[90mverbose\u001B[0m #323 > >     |> ignore\n",
      "00:00:10 \u001B[90mverbose\u001B[0m #324 > >\n",
      "00:00:10 \u001B[90mverbose\u001B[0m #325 > >     print_static \"</test>\"\n",
      "00:00:11 \u001B[90mverbose\u001B[0m #326 > 00:00:10 \u001B[90mverbose\u001B[39m #3 runtime.execute_with_options / result / { exit_code = 0; std_trace_length = 11263 }\n",
      "00:00:11 \u001B[90mverbose\u001B[0m #327 > 00:00:10 \u001B[94m  debug\u001B[39m #4 runtime.execute_with_options / { file_name = jupyter; arguments = [\"nbconvert\", \"/home/runner/work/polyglot/polyglot/apps/spiral/temp/test/test.dib.ipynb\", \"--to\", \"html\", \"--HTMLExporter.theme=dark\"]; options = { command = jupyter nbconvert \"/home/runner/work/polyglot/polyglot/apps/spiral/temp/test/test.dib.ipynb\" --to html --HTMLExporter.theme=dark; cancellation_token = None; environment_variables = Array(MutCell([])); on_line = None; stdin = None; trace = true; working_directory = None } }\n",
      "00:00:11 \u001B[90mverbose\u001B[0m #328 > 00:00:11 \u001B[90mverbose\u001B[39m #5 ! [NbConvertApp] Converting notebook /home/runner/work/polyglot/polyglot/apps/spiral/temp/test/test.dib.ipynb to html\n",
      "00:00:11 \u001B[90mverbose\u001B[0m #329 > 00:00:11 \u001B[90mverbose\u001B[39m #6 ! /opt/hostedtoolcache/Python/3.12.4/x64/lib/python3.12/site-packages/nbformat/__init__.py:96: MissingIDFieldWarning: Cell is missing an id field, this will become a hard error in future nbformat versions. You may want to use `normalize()` on your notebooks before validations (available since nbformat 5.1.4). Previous versions of nbformat are fixing this issue transparently, and will stop doing so in the future.\n",
      "00:00:11 \u001B[90mverbose\u001B[0m #330 > 00:00:11 \u001B[90mverbose\u001B[39m #7 !   validate(nb)\n",
      "00:00:12 \u001B[90mverbose\u001B[0m #331 > 00:00:11 \u001B[90mverbose\u001B[39m #8 ! /opt/hostedtoolcache/Python/3.12.4/x64/lib/python3.12/site-packages/nbconvert/filters/highlight.py:71: UserWarning: IPython3 lexer unavailable, falling back on Python 3\n",
      "00:00:12 \u001B[90mverbose\u001B[0m #332 > 00:00:11 \u001B[90mverbose\u001B[39m #9 !   return _pygments_highlight(\n",
      "00:00:12 \u001B[90mverbose\u001B[0m #333 > 00:00:12 \u001B[90mverbose\u001B[39m #10 ! [NbConvertApp] Writing 318991 bytes to /home/runner/work/polyglot/polyglot/apps/spiral/temp/test/test.dib.html\n",
      "00:00:12 \u001B[90mverbose\u001B[0m #334 > 00:00:12 \u001B[90mverbose\u001B[39m #11 runtime.execute_with_options / result / { exit_code = 0; std_trace_length = 914 }\n",
      "00:00:12 \u001B[90mverbose\u001B[0m #335 > 00:00:12 \u001B[94m  debug\u001B[39m #12 spiral_builder.run / dib / jupyter nbconvert / { exit_code = 0; jupyter_result_length = 914 }\n",
      "00:00:12 \u001B[90mverbose\u001B[0m #336 > 00:00:12 \u001B[94m  debug\u001B[39m #13 runtime.execute_with_options / { file_name = pwsh; arguments = [\"-c\", \"$counter = 1; $path = '/home/runner/work/polyglot/polyglot/apps/spiral/temp/test/test.dib.html'; (Get-Content $path -Raw) -replace '(id=\\\\\\\"cell-id=)[a-fA-F0-9]{8}', { $_.Groups[1].Value + $counter++ } | Set-Content $path\"]; options = { command = pwsh -c \"$counter = 1; $path = '/home/runner/work/polyglot/polyglot/apps/spiral/temp/test/test.dib.html'; (Get-Content $path -Raw) -replace '(id=\\\"cell-id=)[a-fA-F0-9]{8}', { $_.Groups[1].Value + $counter++ } | Set-Content $path\"; cancellation_token = None; environment_variables = Array(MutCell([])); on_line = None; stdin = None; trace = true; working_directory = None } }\n",
      "00:00:13 \u001B[90mverbose\u001B[0m #337 > 00:00:12 \u001B[90mverbose\u001B[39m #14 runtime.execute_with_options / result / { exit_code = 0; std_trace_length = 0 }\n",
      "00:00:13 \u001B[90mverbose\u001B[0m #338 > 00:00:12 \u001B[94m  debug\u001B[39m #15 spiral_builder.run / dib / html cell ids / { exit_code = 0; pwsh_replace_html_result_length = 0 }\n",
      "00:00:13 \u001B[90mverbose\u001B[0m #339 > 00:00:12 \u001B[94m  debug\u001B[39m #16 spiral_builder.run / dib / { exit_code = 0; result_length = 12236 }\n",
      "00:00:13 \u001B[94m  debug\u001B[0m #340 runtime.execute_with_options_async / { exit_code = 0; output_length = 15733 }\n",
      "00:00:13 \u001B[94m  debug\u001B[0m #1 main / executeCommand / exitCode: 0 / command: ../../../../workspace/target/release/spiral_builder dib --path test.dib --retries 3\n"
     ]
    }
   ],
   "source": [
    "{ . ../../../../apps/spiral/dist/Supervisor$(_exe) --execute-command \"../../../../workspace/target/release/spiral_builder$(_exe) dib --path test.dib --retries 3\" } | Invoke-Block"
   ]
  },
  {
   "cell_type": "markdown",
   "metadata": {},
   "source": [
    "### parse the .dib file into .spi format with dibparser"
   ]
  },
  {
   "cell_type": "code",
   "execution_count": null,
   "metadata": {
    "dotnet_interactive": {
     "language": "pwsh"
    },
    "polyglot_notebook": {
     "kernelName": "pwsh"
    }
   },
   "outputs": [
    {
     "name": "stdout",
     "output_type": "stream",
     "text": [
      "00:00:00 \u001B[94m  debug\u001B[0m #1 writeDibCode / output: Spi / path: test.dib\n",
      "00:00:00 \u001B[94m  debug\u001B[0m #2 parseDibCode / output: Spi / file: test.dib\n"
     ]
    }
   ],
   "source": [
    "{ . ../../../../apps/parser/dist/DibParser$(_exe) test.dib spi } | Invoke-Block"
   ]
  },
  {
   "cell_type": "markdown",
   "metadata": {},
   "source": [
    "### build .fsx file from .spi using supervisor"
   ]
  },
  {
   "cell_type": "code",
   "execution_count": null,
   "metadata": {
    "dotnet_interactive": {
     "language": "pwsh"
    },
    "polyglot_notebook": {
     "kernelName": "pwsh"
    }
   },
   "outputs": [
    {
     "name": "stdout",
     "output_type": "stream",
     "text": [
      "00:00:00 \u001B[90mverbose\u001B[0m #1 networking.test_port_open / { port = 13806; ex = System.AggregateException: One or more errors occurred. (Connection refused) }\n",
      "00:00:00 \u001B[90mverbose\u001B[0m #2 networking.test_port_open / { port = 13806; ex = System.AggregateException: One or more errors occurred. (Connection refused) }\n",
      "00:00:00 \u001B[94m  debug\u001B[0m #1 Supervisor.buildFile / takeWhileInclusive / outputContent:\n",
      " / errors: [] / typeErrorCount: 0 / retry: 0 / path: test.spi\n",
      "00:00:00 \u001B[94m  debug\u001B[0m #2 Supervisor.buildFile / AsyncSeq.scan / outputContent:\n",
      " / errors: [] / outputContentResult:  / typeErrorCount: 0 / retry: 0 / error:  / path: test.spi\n",
      "00:00:00 \u001B[94m  debug\u001B[0m #3 Supervisor.buildFile / takeWhileInclusive / outputContent:\n",
      " / errors: [] / typeErrorCount: 0 / retry: 0 / path: test.spi\n",
      "00:00:00 \u001B[90mverbose\u001B[0m #4 Supervisor.sendJson / port: 13805 / json: {\"FileOpen\":{\"spiText\":\"/// # test (Polyglot)\\nnominal i = ()\\nnominal e = ()\\nnominal s = ()\\nnomin...t\\u003E\\u0022\\n\",\"uri\":\"file:///home/runner/work/polyglot/polyglot/apps/spiral/temp/test/test.spi\"}} / result:\n",
      "00:00:00 \u001B[90mverbose\u001B[0m #5 Supervisor.sendJson / port: 13805 / json: {\"BuildFile\":{\"backend\":\"Fsharp\",\"uri\":\"file:///home/runner/work/polyglot/polyglot/apps/spiral/temp/test/test.spi\"}} / result:\n",
      "00:00:01 \u001B[94m  debug\u001B[0m #6 Supervisor.buildFile / AsyncSeq.scan / outputContent:\n",
      "let rec closure0 () () : int32 =\n",
      "    let v2 : (string -> unit) = System.Console.WriteLine\n",
      "    let v3 : string = \"test\"\n",
      "    v2 v3\n",
      "    0\n",
      "let v0 : (unit -> int32) = closure0()\n",
      "()\n",
      " / errors: [] / outputContentResult:  / typeErrorCount: 0 / retry: 0 / error:  / path: test.spi\n",
      "00:00:01 \u001B[94m  debug\u001B[0m #7 Supervisor.buildFile / takeWhileInclusive / outputContent:\n",
      "let rec closure0 () () : int32 =\n",
      "    let v2 : (string -> unit) = System.Console.WriteLine\n",
      "    let v3 : string = \"test\"\n",
      "    v2 v3\n",
      "    0\n",
      "let v0 : (unit -> int32) = closure0()\n",
      "()\n",
      " / errors: [] / typeErrorCount: 0 / retry: 0 / path: test.spi\n",
      "00:00:01 \u001B[94m  debug\u001B[0m #8 FileSystem.watchWithFilter / Disposing watch stream / filter: FileName, LastWrite\n"
     ]
    }
   ],
   "source": [
    "{ . ../../../../apps/spiral/dist/Supervisor$(_exe) --build-file test.spi test.fsx } | Invoke-Block"
   ]
  },
  {
   "cell_type": "markdown",
   "metadata": {},
   "source": [
    "## compile and format the project"
   ]
  },
  {
   "cell_type": "markdown",
   "metadata": {},
   "source": [
    "### compile project with fable targeting optimized rust"
   ]
  },
  {
   "cell_type": "code",
   "execution_count": null,
   "metadata": {
    "dotnet_interactive": {
     "language": "pwsh"
    },
    "polyglot_notebook": {
     "kernelName": "pwsh"
    }
   },
   "outputs": [
    {
     "name": "stdout",
     "output_type": "stream",
     "text": [
      "\u001B[37mFable 4.19.3: F# to Rust compiler (status: alpha)\n",
      "\u001B[37m\n",
      "Thanks to the contributor! @dgchurchill\n",
      "\u001B[37mStand with Ukraine! https://standwithukraine.com.ua/\n",
      "\n",
      "\u001B[37mParsing test.fsproj...\n",
      "\u001B[37m.> dotnet restore test.fable-temp.csproj -p:FABLE_COMPILER=true -p:FABLE_COMPILER_4=true -p:FABLE_COMPILER_RUST=true\n",
      "  Determining projects to restore...\n",
      "  Paket version 8.1.0-alpha004+7aa412f49b32de979c3d5acde07e88e6d47c965b\n",
      "  The last full restore is still up to date. Nothing left to do.\n",
      "  Total time taken: 0 milliseconds\n",
      "  Paket version 8.1.0-alpha004+7aa412f49b32de979c3d5acde07e88e6d47c965b\n",
      "  Restoring /home/runner/work/polyglot/polyglot/apps/spiral/temp/test/test.fable-temp.csproj\n",
      "  Starting restore process.\n",
      "  Total time taken: 0 milliseconds\n",
      "  Restored /home/runner/work/polyglot/polyglot/apps/spiral/temp/test/test.fable-temp.csproj (in 311 ms).\n",
      "\u001B[37m.> dotnet restore /home/runner/work/polyglot/polyglot/apps/spiral/temp/test/test.fsproj\n",
      "  Determining projects to restore...\n",
      "  Restored /home/runner/work/polyglot/polyglot/apps/spiral/temp/test/test.fsproj (in 261 ms).\n",
      "\u001B[37mProject and references (1 source files) parsed in 4798ms\n",
      "\n",
      "\u001B[37mStarted Fable compilation...\n",
      "\u001B[37m\n",
      "Fable compilation finished in 1014ms\n",
      "\n",
      "\u001B[33m./test.fsx(7,0): (7,2) warning FABLE: For Rust, support for F# static and module do bindings is disabled by default. It can be enabled with the 'static_do_bindings' feature. Use at your own risk!\n"
     ]
    }
   ],
   "source": [
    "dotnet fable --optimize --lang rs --extension .rs"
   ]
  },
  {
   "cell_type": "markdown",
   "metadata": {},
   "source": [
    "### fix formatting issues in the .rs file using regex and set-content"
   ]
  },
  {
   "cell_type": "code",
   "execution_count": null,
   "metadata": {
    "dotnet_interactive": {
     "language": "pwsh"
    },
    "polyglot_notebook": {
     "kernelName": "pwsh"
    }
   },
   "outputs": [],
   "source": [
    "(Get-Content test.rs) `\n",
    "    -replace [regex]::Escape(\"),);\"), \"));\" `\n",
    "    | FixRust `\n",
    "| Set-Content test.rs"
   ]
  },
  {
   "cell_type": "markdown",
   "metadata": {},
   "source": [
    "### format the rust code using cargo fmt"
   ]
  },
  {
   "cell_type": "code",
   "execution_count": null,
   "metadata": {
    "dotnet_interactive": {
     "language": "pwsh"
    },
    "polyglot_notebook": {
     "kernelName": "pwsh"
    }
   },
   "outputs": [],
   "source": [
    "cargo fmt --"
   ]
  },
  {
   "cell_type": "markdown",
   "metadata": {},
   "source": [
    "## build and test the project"
   ]
  },
  {
   "cell_type": "markdown",
   "metadata": {},
   "source": [
    "### build the project in release mode using nightly rust compiler"
   ]
  },
  {
   "cell_type": "code",
   "execution_count": null,
   "metadata": {
    "dotnet_interactive": {
     "language": "pwsh"
    },
    "polyglot_notebook": {
     "kernelName": "pwsh"
    }
   },
   "outputs": [
    {
     "name": "stdout",
     "output_type": "stream",
     "text": [
      "\u001B[31;1m\u001B[1m\u001B[32m   Compiling\u001B[0m linux-raw-sys v0.4.14\u001B[0m\n",
      "\u001B[31;1m\u001B[1m\u001B[32m   Compiling\u001B[0m rand_core v0.6.4\u001B[0m\n",
      "\u001B[31;1m\u001B[1m\u001B[32m   Compiling\u001B[0m num-traits v0.2.19\u001B[0m\n",
      "\u001B[31;1m\u001B[1m\u001B[32m   Compiling\u001B[0m syn v2.0.70\u001B[0m\n",
      "\u001B[31;1m\u001B[1m\u001B[32m   Compiling\u001B[0m rand_chacha v0.3.1\u001B[0m\n",
      "\u001B[31;1m\u001B[1m\u001B[32m   Compiling\u001B[0m libm v0.2.8\u001B[0m\n",
      "\u001B[31;1m\u001B[1m\u001B[32m   Compiling\u001B[0m rustix v0.38.34\u001B[0m\n",
      "\u001B[31;1m\u001B[1m\u001B[32m   Compiling\u001B[0m wait-timeout v0.2.0\u001B[0m\n",
      "\u001B[31;1m\u001B[1m\u001B[32m   Compiling\u001B[0m quick-error v1.2.3\u001B[0m\n",
      "\u001B[31;1m\u001B[1m\u001B[32m   Compiling\u001B[0m bit-vec v0.6.3\u001B[0m\n",
      "\u001B[31;1m\u001B[1m\u001B[32m   Compiling\u001B[0m bit-set v0.5.3\u001B[0m\n",
      "\u001B[31;1m\u001B[1m\u001B[32m   Compiling\u001B[0m rand v0.8.5\u001B[0m\n",
      "\u001B[31;1m\u001B[1m\u001B[32m   Compiling\u001B[0m rand_xorshift v0.3.0\u001B[0m\n",
      "\u001B[31;1m\u001B[1m\u001B[32m   Compiling\u001B[0m memchr v2.7.4\u001B[0m\n",
      "\u001B[31;1m\u001B[1m\u001B[32m   Compiling\u001B[0m unarray v0.1.4\u001B[0m\n",
      "\u001B[31;1m\u001B[1m\u001B[32m   Compiling\u001B[0m lazy_static v1.5.0\u001B[0m\n",
      "\u001B[31;1m\u001B[1m\u001B[32m   Compiling\u001B[0m fable_library_rust v0.1.0 (/home/runner/work/polyglot/polyglot/lib/rust/fable/fable_modules/fable-library-rust)\u001B[0m\n",
      "\u001B[31;1m\u001B[1m\u001B[32m   Compiling\u001B[0m tempfile v3.10.1\u001B[0m\n",
      "\u001B[31;1m\u001B[1m\u001B[32m   Compiling\u001B[0m nom v7.1.3\u001B[0m\n",
      "\u001B[31;1m\u001B[1m\u001B[32m   Compiling\u001B[0m thiserror-impl v1.0.61\u001B[0m\n",
      "\u001B[31;1m\u001B[1m\u001B[32m   Compiling\u001B[0m rusty-fork v0.3.0\u001B[0m\n",
      "\u001B[31;1m\u001B[1m\u001B[32m   Compiling\u001B[0m proptest v1.4.0\u001B[0m\n",
      "\u001B[31;1m\u001B[1m\u001B[32m   Compiling\u001B[0m thiserror v1.0.61\u001B[0m\n",
      "\u001B[31;1m\u001B[1m\u001B[32m   Compiling\u001B[0m spiral_temp_test v0.0.1 (/home/runner/work/polyglot/polyglot/apps/spiral/temp/test)\u001B[0m\n",
      "\u001B[31;1m\u001B[0m\u001B[1m\u001B[33mwarning\u001B[0m\u001B[0m\u001B[1m: enum `Item` is never used\u001B[0m\u001B[0m\n",
      "\u001B[31;1m\u001B[0m  \u001B[0m\u001B[0m\u001B[1m\u001B[38;5;12m--> \u001B[0m\u001B[0m/home/runner/work/polyglot/polyglot/apps/spiral/temp/test/./main.rs:16:6\u001B[0m\u001B[0m\n",
      "\u001B[31;1m\u001B[0m   \u001B[0m\u001B[0m\u001B[1m\u001B[38;5;12m|\u001B[0m\u001B[0m\n",
      "\u001B[31;1m\u001B[0m\u001B[1m\u001B[38;5;12m16\u001B[0m\u001B[0m \u001B[0m\u001B[0m\u001B[1m\u001B[38;5;12m|\u001B[0m\u001B[0m \u001B[0m\u001B[0menum Item {\u001B[0m\u001B[0m\n",
      "\u001B[31;1m\u001B[0m   \u001B[0m\u001B[0m\u001B[1m\u001B[38;5;12m|\u001B[0m\u001B[0m      \u001B[0m\u001B[0m\u001B[1m\u001B[33m^^^^\u001B[0m\u001B[0m\n",
      "\u001B[31;1m\u001B[0m   \u001B[0m\u001B[0m\u001B[1m\u001B[38;5;12m|\u001B[0m\u001B[0m\n",
      "\u001B[31;1m\u001B[0m   \u001B[0m\u001B[0m\u001B[1m\u001B[38;5;12m= \u001B[0m\u001B[0m\u001B[1mnote\u001B[0m\u001B[0m: `#[warn(dead_code)]` on by default\u001B[0m\u001B[0m\n",
      "\u001B[31;1m\u001B[0m\n",
      "\u001B[31;1m\u001B[0m\u001B[1m\u001B[33mwarning\u001B[0m\u001B[0m\u001B[1m: struct `Cart` is never constructed\u001B[0m\u001B[0m\n",
      "\u001B[31;1m\u001B[0m  \u001B[0m\u001B[0m\u001B[1m\u001B[38;5;12m--> \u001B[0m\u001B[0m/home/runner/work/polyglot/polyglot/apps/spiral/temp/test/./main.rs:41:8\u001B[0m\u001B[0m\n",
      "\u001B[31;1m\u001B[0m   \u001B[0m\u001B[0m\u001B[1m\u001B[38;5;12m|\u001B[0m\u001B[0m\n",
      "\u001B[31;1m\u001B[0m\u001B[1m\u001B[38;5;12m41\u001B[0m\u001B[0m \u001B[0m\u001B[0m\u001B[1m\u001B[38;5;12m|\u001B[0m\u001B[0m \u001B[0m\u001B[0mstruct Cart {\u001B[0m\u001B[0m\n",
      "\u001B[31;1m\u001B[0m   \u001B[0m\u001B[0m\u001B[1m\u001B[38;5;12m|\u001B[0m\u001B[0m        \u001B[0m\u001B[0m\u001B[1m\u001B[33m^^^^\u001B[0m\u001B[0m\n",
      "\u001B[31;1m\u001B[0m\n",
      "\u001B[31;1m\u001B[0m\u001B[1m\u001B[33mwarning\u001B[0m\u001B[0m\u001B[1m: associated items `new`, `add_item`, and `remove_item` are never used\u001B[0m\u001B[0m\n",
      "\u001B[31;1m\u001B[0m  \u001B[0m\u001B[0m\u001B[1m\u001B[38;5;12m--> \u001B[0m\u001B[0m/home/runner/work/polyglot/polyglot/apps/spiral/temp/test/./main.rs:46:8\u001B[0m\u001B[0m\n",
      "\u001B[31;1m\u001B[0m   \u001B[0m\u001B[0m\u001B[1m\u001B[38;5;12m|\u001B[0m\u001B[0m\n",
      "\u001B[31;1m\u001B[0m\u001B[1m\u001B[38;5;12m45\u001B[0m\u001B[0m \u001B[0m\u001B[0m\u001B[1m\u001B[38;5;12m|\u001B[0m\u001B[0m \u001B[0m\u001B[0mimpl Cart {\u001B[0m\u001B[0m\n",
      "\u001B[31;1m\u001B[0m   \u001B[0m\u001B[0m\u001B[1m\u001B[38;5;12m|\u001B[0m\u001B[0m \u001B[0m\u001B[0m\u001B[1m\u001B[38;5;12m---------\u001B[0m\u001B[0m \u001B[0m\u001B[0m\u001B[1m\u001B[38;5;12massociated items in this implementation\u001B[0m\u001B[0m\n",
      "\u001B[31;1m\u001B[0m\u001B[1m\u001B[38;5;12m46\u001B[0m\u001B[0m \u001B[0m\u001B[0m\u001B[1m\u001B[38;5;12m|\u001B[0m\u001B[0m \u001B[0m\u001B[0m    fn new() -> Cart {\u001B[0m\u001B[0m\n",
      "\u001B[31;1m\u001B[0m   \u001B[0m\u001B[0m\u001B[1m\u001B[38;5;12m|\u001B[0m\u001B[0m        \u001B[0m\u001B[0m\u001B[1m\u001B[33m^^^\u001B[0m\u001B[0m\n",
      "\u001B[31;1m\u001B[0m\u001B[1m\u001B[38;5;12m...\u001B[0m\u001B[0m\n",
      "\u001B[31;1m\u001B[0m\u001B[1m\u001B[38;5;12m50\u001B[0m\u001B[0m \u001B[0m\u001B[0m\u001B[1m\u001B[38;5;12m|\u001B[0m\u001B[0m \u001B[0m\u001B[0m    fn add_item(&mut self, item: Item) {\u001B[0m\u001B[0m\n",
      "\u001B[31;1m\u001B[0m   \u001B[0m\u001B[0m\u001B[1m\u001B[38;5;12m|\u001B[0m\u001B[0m        \u001B[0m\u001B[0m\u001B[1m\u001B[33m^^^^^^^^\u001B[0m\u001B[0m\n",
      "\u001B[31;1m\u001B[0m\u001B[1m\u001B[38;5;12m...\u001B[0m\u001B[0m\n",
      "\u001B[31;1m\u001B[0m\u001B[1m\u001B[38;5;12m56\u001B[0m\u001B[0m \u001B[0m\u001B[0m\u001B[1m\u001B[38;5;12m|\u001B[0m\u001B[0m \u001B[0m\u001B[0m    fn remove_item(&mut self, item: &Item) {\u001B[0m\u001B[0m\n",
      "\u001B[31;1m\u001B[0m   \u001B[0m\u001B[0m\u001B[1m\u001B[38;5;12m|\u001B[0m\u001B[0m        \u001B[0m\u001B[0m\u001B[1m\u001B[33m^^^^^^^^^^^\u001B[0m\u001B[0m\n",
      "\u001B[31;1m\u001B[0m\n",
      "\u001B[31;1m\u001B[0m\u001B[1m\u001B[33mwarning\u001B[0m\u001B[0m\u001B[1m: function `parse_comment` is never used\u001B[0m\u001B[0m\n",
      "\u001B[31;1m\u001B[0m   \u001B[0m\u001B[0m\u001B[1m\u001B[38;5;12m--> \u001B[0m\u001B[0m/home/runner/work/polyglot/polyglot/apps/spiral/temp/test/./main.rs:124:4\u001B[0m\u001B[0m\n",
      "\u001B[31;1m\u001B[0m    \u001B[0m\u001B[0m\u001B[1m\u001B[38;5;12m|\u001B[0m\u001B[0m\n",
      "\u001B[31;1m\u001B[0m\u001B[1m\u001B[38;5;12m124\u001B[0m\u001B[0m \u001B[0m\u001B[0m\u001B[1m\u001B[38;5;12m|\u001B[0m\u001B[0m \u001B[0m\u001B[0mfn parse_comment(input: &str) -> IResult<&str, SpiralToken> {\u001B[0m\u001B[0m\n",
      "\u001B[31;1m\u001B[0m    \u001B[0m\u001B[0m\u001B[1m\u001B[38;5;12m|\u001B[0m\u001B[0m    \u001B[0m\u001B[0m\u001B[1m\u001B[33m^^^^^^^^^^^^^\u001B[0m\u001B[0m\n",
      "\u001B[31;1m\u001B[0m\n",
      "\u001B[31;1m\u001B[0m\u001B[1m\u001B[33mwarning\u001B[0m\u001B[0m\u001B[1m: function `parse_string` is never used\u001B[0m\u001B[0m\n",
      "\u001B[31;1m\u001B[0m   \u001B[0m\u001B[0m\u001B[1m\u001B[38;5;12m--> \u001B[0m\u001B[0m/home/runner/work/polyglot/polyglot/apps/spiral/temp/test/./main.rs:130:4\u001B[0m\u001B[0m\n",
      "\u001B[31;1m\u001B[0m    \u001B[0m\u001B[0m\u001B[1m\u001B[38;5;12m|\u001B[0m\u001B[0m\n",
      "\u001B[31;1m\u001B[0m\u001B[1m\u001B[38;5;12m130\u001B[0m\u001B[0m \u001B[0m\u001B[0m\u001B[1m\u001B[38;5;12m|\u001B[0m\u001B[0m \u001B[0m\u001B[0mfn parse_string(input: &str) -> IResult<&str, SpiralToken> {\u001B[0m\u001B[0m\n",
      "\u001B[31;1m\u001B[0m    \u001B[0m\u001B[0m\u001B[1m\u001B[38;5;12m|\u001B[0m\u001B[0m    \u001B[0m\u001B[0m\u001B[1m\u001B[33m^^^^^^^^^^^^\u001B[0m\u001B[0m\n",
      "\u001B[31;1m\u001B[0m\n",
      "\u001B[31;1m\u001B[0m\u001B[1m\u001B[33mwarning\u001B[0m\u001B[0m\u001B[1m: function `parse_identifier` is never used\u001B[0m\u001B[0m\n",
      "\u001B[31;1m\u001B[0m   \u001B[0m\u001B[0m\u001B[1m\u001B[38;5;12m--> \u001B[0m\u001B[0m/home/runner/work/polyglot/polyglot/apps/spiral/temp/test/./main.rs:145:4\u001B[0m\u001B[0m\n",
      "\u001B[31;1m\u001B[0m    \u001B[0m\u001B[0m\u001B[1m\u001B[38;5;12m|\u001B[0m\u001B[0m\n",
      "\u001B[31;1m\u001B[0m\u001B[1m\u001B[38;5;12m145\u001B[0m\u001B[0m \u001B[0m\u001B[0m\u001B[1m\u001B[38;5;12m|\u001B[0m\u001B[0m \u001B[0m\u001B[0mfn parse_identifier(input: &str) -> IResult<&str, SpiralToken> {\u001B[0m\u001B[0m\n",
      "\u001B[31;1m\u001B[0m    \u001B[0m\u001B[0m\u001B[1m\u001B[38;5;12m|\u001B[0m\u001B[0m    \u001B[0m\u001B[0m\u001B[1m\u001B[33m^^^^^^^^^^^^^^^^\u001B[0m\u001B[0m\n",
      "\u001B[31;1m\u001B[0m\n",
      "\u001B[31;1m\u001B[0m\u001B[1m\u001B[33mwarning\u001B[0m\u001B[0m\u001B[1m: function `parse_integer` is never used\u001B[0m\u001B[0m\n",
      "\u001B[31;1m\u001B[0m   \u001B[0m\u001B[0m\u001B[1m\u001B[38;5;12m--> \u001B[0m\u001B[0m/home/runner/work/polyglot/polyglot/apps/spiral/temp/test/./main.rs:157:4\u001B[0m\u001B[0m\n",
      "\u001B[31;1m\u001B[0m    \u001B[0m\u001B[0m\u001B[1m\u001B[38;5;12m|\u001B[0m\u001B[0m\n",
      "\u001B[31;1m\u001B[0m\u001B[1m\u001B[38;5;12m157\u001B[0m\u001B[0m \u001B[0m\u001B[0m\u001B[1m\u001B[38;5;12m|\u001B[0m\u001B[0m \u001B[0m\u001B[0mfn parse_integer(input: &str) -> IResult<&str, SpiralToken> {\u001B[0m\u001B[0m\n",
      "\u001B[31;1m\u001B[0m    \u001B[0m\u001B[0m\u001B[1m\u001B[38;5;12m|\u001B[0m\u001B[0m    \u001B[0m\u001B[0m\u001B[1m\u001B[33m^^^^^^^^^^^^^\u001B[0m\u001B[0m\n",
      "\u001B[31;1m\u001B[0m\n",
      "\u001B[31;1m\u001B[0m\u001B[1m\u001B[33mwarning\u001B[0m\u001B[0m\u001B[1m: function `parse_operator` is never used\u001B[0m\u001B[0m\n",
      "\u001B[31;1m\u001B[0m   \u001B[0m\u001B[0m\u001B[1m\u001B[38;5;12m--> \u001B[0m\u001B[0m/home/runner/work/polyglot/polyglot/apps/spiral/temp/test/./main.rs:165:4\u001B[0m\u001B[0m\n",
      "\u001B[31;1m\u001B[0m    \u001B[0m\u001B[0m\u001B[1m\u001B[38;5;12m|\u001B[0m\u001B[0m\n",
      "\u001B[31;1m\u001B[0m\u001B[1m\u001B[38;5;12m165\u001B[0m\u001B[0m \u001B[0m\u001B[0m\u001B[1m\u001B[38;5;12m|\u001B[0m\u001B[0m \u001B[0m\u001B[0mfn parse_operator(input: &str) -> IResult<&str, SpiralToken> {\u001B[0m\u001B[0m\n",
      "\u001B[31;1m\u001B[0m    \u001B[0m\u001B[0m\u001B[1m\u001B[38;5;12m|\u001B[0m\u001B[0m    \u001B[0m\u001B[0m\u001B[1m\u001B[33m^^^^^^^^^^^^^^\u001B[0m\u001B[0m\n",
      "\u001B[31;1m\u001B[0m\n",
      "\u001B[31;1m\u001B[0m\u001B[1m\u001B[33mwarning\u001B[0m\u001B[0m\u001B[1m: function `parse_token` is never used\u001B[0m\u001B[0m\n",
      "\u001B[31;1m\u001B[0m   \u001B[0m\u001B[0m\u001B[1m\u001B[38;5;12m--> \u001B[0m\u001B[0m/home/runner/work/polyglot/polyglot/apps/spiral/temp/test/./main.rs:170:4\u001B[0m\u001B[0m\n",
      "\u001B[31;1m\u001B[0m    \u001B[0m\u001B[0m\u001B[1m\u001B[38;5;12m|\u001B[0m\u001B[0m\n",
      "\u001B[31;1m\u001B[0m\u001B[1m\u001B[38;5;12m170\u001B[0m\u001B[0m \u001B[0m\u001B[0m\u001B[1m\u001B[38;5;12m|\u001B[0m\u001B[0m \u001B[0m\u001B[0mfn parse_token(input: &str) -> IResult<&str, SpiralToken> {\u001B[0m\u001B[0m\n",
      "\u001B[31;1m\u001B[0m    \u001B[0m\u001B[0m\u001B[1m\u001B[38;5;12m|\u001B[0m\u001B[0m    \u001B[0m\u001B[0m\u001B[1m\u001B[33m^^^^^^^^^^^\u001B[0m\u001B[0m\n",
      "\u001B[31;1m\u001B[0m\n",
      "\u001B[31;1m\u001B[0m\u001B[1m\u001B[33mwarning\u001B[0m\u001B[0m\u001B[1m: function `format_token` is never used\u001B[0m\u001B[0m\n",
      "\u001B[31;1m\u001B[0m   \u001B[0m\u001B[0m\u001B[1m\u001B[38;5;12m--> \u001B[0m\u001B[0m/home/runner/work/polyglot/polyglot/apps/spiral/temp/test/./main.rs:180:4\u001B[0m\u001B[0m\n",
      "\u001B[31;1m\u001B[0m    \u001B[0m\u001B[0m\u001B[1m\u001B[38;5;12m|\u001B[0m\u001B[0m\n",
      "\u001B[31;1m\u001B[0m\u001B[1m\u001B[38;5;12m180\u001B[0m\u001B[0m \u001B[0m\u001B[0m\u001B[1m\u001B[38;5;12m|\u001B[0m\u001B[0m \u001B[0m\u001B[0mfn format_token(token: &SpiralToken) -> String {\u001B[0m\u001B[0m\n",
      "\u001B[31;1m\u001B[0m    \u001B[0m\u001B[0m\u001B[1m\u001B[38;5;12m|\u001B[0m\u001B[0m    \u001B[0m\u001B[0m\u001B[1m\u001B[33m^^^^^^^^^^^^\u001B[0m\u001B[0m\n",
      "\u001B[31;1m\u001B[0m\n",
      "\u001B[31;1m\u001B[0m\u001B[1m\u001B[33mwarning\u001B[0m\u001B[0m\u001B[1m: function `parse_expression` is never used\u001B[0m\u001B[0m\n",
      "\u001B[31;1m\u001B[0m   \u001B[0m\u001B[0m\u001B[1m\u001B[38;5;12m--> \u001B[0m\u001B[0m/home/runner/work/polyglot/polyglot/apps/spiral/temp/test/./main.rs:201:4\u001B[0m\u001B[0m\n",
      "\u001B[31;1m\u001B[0m    \u001B[0m\u001B[0m\u001B[1m\u001B[38;5;12m|\u001B[0m\u001B[0m\n",
      "\u001B[31;1m\u001B[0m\u001B[1m\u001B[38;5;12m201\u001B[0m\u001B[0m \u001B[0m\u001B[0m\u001B[1m\u001B[38;5;12m|\u001B[0m\u001B[0m \u001B[0m\u001B[0mfn parse_expression(input: &str) -> IResult<&str, SpiralToken> {\u001B[0m\u001B[0m\n",
      "\u001B[31;1m\u001B[0m    \u001B[0m\u001B[0m\u001B[1m\u001B[38;5;12m|\u001B[0m\u001B[0m    \u001B[0m\u001B[0m\u001B[1m\u001B[33m^^^^^^^^^^^^^^^^\u001B[0m\u001B[0m\n",
      "\u001B[31;1m\u001B[0m\n",
      "\u001B[31;1m\u001B[1m\u001B[33mwarning\u001B[0m\u001B[1m:\u001B[0m `spiral_temp_test` (bin \"spiral_temp_test\") generated 11 warnings\u001B[0m\n",
      "\u001B[31;1m\u001B[1m\u001B[32m    Finished\u001B[0m `release` profile [optimized] target(s) in 10.10s\u001B[0m\n"
     ]
    }
   ],
   "source": [
    "cargo +nightly build --release"
   ]
  },
  {
   "cell_type": "markdown",
   "metadata": {},
   "source": [
    "### run release tests with output enabled"
   ]
  },
  {
   "cell_type": "code",
   "execution_count": null,
   "metadata": {
    "dotnet_interactive": {
     "language": "pwsh"
    },
    "polyglot_notebook": {
     "kernelName": "pwsh"
    }
   },
   "outputs": [
    {
     "name": "stdout",
     "output_type": "stream",
     "text": [
      "\u001B[31;1m\u001B[1m\u001B[32m   Compiling\u001B[0m bitflags v2.6.0\u001B[0m\n",
      "\u001B[31;1m\u001B[1m\u001B[32m   Compiling\u001B[0m linux-raw-sys v0.4.14\u001B[0m\n",
      "\u001B[31;1m\u001B[1m\u001B[32m   Compiling\u001B[0m fastrand v2.1.0\u001B[0m\n",
      "\u001B[31;1m\u001B[1m\u001B[32m   Compiling\u001B[0m wait-timeout v0.2.0\u001B[0m\n",
      "\u001B[31;1m\u001B[1m\u001B[32m   Compiling\u001B[0m bit-vec v0.6.3\u001B[0m\n",
      "\u001B[31;1m\u001B[1m\u001B[32m   Compiling\u001B[0m fnv v1.0.7\u001B[0m\n",
      "\u001B[31;1m\u001B[1m\u001B[32m   Compiling\u001B[0m quick-error v1.2.3\u001B[0m\n",
      "\u001B[31;1m\u001B[1m\u001B[32m   Compiling\u001B[0m num-traits v0.2.19\u001B[0m\n",
      "\u001B[31;1m\u001B[1m\u001B[32m   Compiling\u001B[0m bit-set v0.5.3\u001B[0m\n",
      "\u001B[31;1m\u001B[1m\u001B[32m   Compiling\u001B[0m rand v0.8.5\u001B[0m\n",
      "\u001B[31;1m\u001B[1m\u001B[32m   Compiling\u001B[0m rustix v0.38.34\u001B[0m\n",
      "\u001B[31;1m\u001B[1m\u001B[32m   Compiling\u001B[0m rand_xorshift v0.3.0\u001B[0m\n",
      "\u001B[31;1m\u001B[1m\u001B[32m   Compiling\u001B[0m minimal-lexical v0.2.1\u001B[0m\n",
      "\u001B[31;1m\u001B[1m\u001B[32m   Compiling\u001B[0m unarray v0.1.4\u001B[0m\n",
      "\u001B[31;1m\u001B[1m\u001B[32m   Compiling\u001B[0m memchr v2.7.4\u001B[0m\n",
      "\u001B[31;1m\u001B[1m\u001B[32m   Compiling\u001B[0m fable_library_rust v0.1.0 (/home/runner/work/polyglot/polyglot/lib/rust/fable/fable_modules/fable-library-rust)\u001B[0m\n",
      "\u001B[31;1m\u001B[1m\u001B[32m   Compiling\u001B[0m thiserror v1.0.61\u001B[0m\n",
      "\u001B[31;1m\u001B[1m\u001B[32m   Compiling\u001B[0m nom v7.1.3\u001B[0m\n",
      "\u001B[31;1m\u001B[1m\u001B[32m   Compiling\u001B[0m tempfile v3.10.1\u001B[0m\n",
      "\u001B[31;1m\u001B[1m\u001B[32m   Compiling\u001B[0m rusty-fork v0.3.0\u001B[0m\n",
      "\u001B[31;1m\u001B[1m\u001B[32m   Compiling\u001B[0m proptest v1.4.0\u001B[0m\n",
      "\u001B[31;1m\u001B[1m\u001B[32m   Compiling\u001B[0m spiral_temp_test v0.0.1 (/home/runner/work/polyglot/polyglot/apps/spiral/temp/test)\u001B[0m\n",
      "\u001B[31;1m\u001B[1m\u001B[32m    Finished\u001B[0m `release` profile [optimized] target(s) in 15.47s\u001B[0m\n",
      "\u001B[31;1m\u001B[1m\u001B[32m     Running\u001B[0m unittests main.rs (/home/runner/work/polyglot/polyglot/workspace/target/release/deps/spiral_temp_test-9729c70fad95199d)\u001B[0m\n",
      "\n",
      "running 3 tests\n",
      "test test_parse_number ... ok\n",
      "test prop_parse_format_idempotent ... ok\n",
      "test adding_and_then_removing_an_item_from_the_cart_leaves_the_cart_unchanged ... ok\n",
      "\n",
      "successes:\n",
      "\n",
      "---- prop_parse_format_idempotent stdout ----\n",
      "input=Integer(-5419300434446937872)\n",
      "input=Operator(\"=\")\n",
      "input=Identifier(\"H0QthNT4oCjEhx5B75991cbzIC8sg0o\")\n",
      "input=Integer(-7711043169127226769)\n",
      "input=Operator(\"/\")\n",
      "input=Comment(\"$eT>+q`3{|ykA./??&>&\")\n",
      "input=Operator(\"-\")\n",
      "input=Integer(2525758468579450166)\n",
      "input=StringLiteral(\"k/`\")\n",
      "input=StringLiteral(\"t&f#w7&|T{u.0<uU0QC..K')=N&$\")\n",
      "input=Integer(80573006180038212)\n",
      "input=StringLiteral(\"`1t%0qS@l'r^;xG'K?{\")\n",
      "input=Operator(\")\")\n",
      "input=StringLiteral(\"A?\")\n",
      "input=Operator(\"=\")\n",
      "input=Integer(-7059856423083336699)\n",
      "input=Comment(\"SIp0\")\n",
      "input=Operator(\")\")\n",
      "input=StringLiteral(\"$AY]bwgi8.`Lstqt({FS'@O\")\n",
      "input=StringLiteral(\"{#$|%#v\")\n",
      "input=Integer(-2817708970610950379)\n",
      "input=Operator(\"+\")\n",
      "input=StringLiteral(\"?@q8eN=w q<c$/@?).m`E$l&\")\n",
      "input=Identifier(\"To5nLbIdeYEUhz22i2TIdcnX3V4BLS0L\")\n",
      "input=Operator(\"-\")\n",
      "input=Integer(-7339791821463065574)\n",
      "input=Comment(\"`<x_s$.9`&SUqY8p=cMc\\\\w3&vJM\\\\m\")\n",
      "input=Operator(\"/\")\n",
      "input=Integer(1606941758251742833)\n",
      "input=Identifier(\"oufCGgzGG022i\")\n",
      "input=Comment(\"(-Iov?X*Y{K749{2F&py*c^'=A\\\\-<\")\n",
      "input=Comment(\"DB<zfdyJ\")\n",
      "input=StringLiteral(\"d .<aJ+'Io-wq`;{\")\n",
      "input=StringLiteral(\"Y\")\n",
      "input=Operator(\"*\")\n",
      "input=StringLiteral(\"c<~8'J[3Wx.&W:RT<-`G,0%x2:0:\")\n",
      "input=Operator(\"-\")\n",
      "input=Comment(\"&`lPe\")\n",
      "input=Identifier(\"Mxw0q208U\")\n",
      "input=StringLiteral(\"9\")\n",
      "input=Comment(\"\\\\q($4T /T]k%$?_ zg<PovK\")\n",
      "input=StringLiteral(\"\")\n",
      "input=Comment(\"<=*ny?X=?d)-bW=`frcp(+\")\n",
      "input=Operator(\"=\")\n",
      "input=Identifier(\"ex\")\n",
      "input=Operator(\"*\")\n",
      "input=Comment(\"Ed/SxVc`{&E>i{O<\")\n",
      "input=Integer(2467313258750340070)\n",
      "input=Identifier(\"juCd5gkycZ4sWWimu19\")\n",
      "input=Comment(\".'=l;P3E=:j[s\\\\\")\n",
      "input=Operator(\"+\")\n",
      "input=Comment(\"\\\\*O|q'/'Zz&.AM;|UoB9O4\\\"\\\"'@'o\")\n",
      "input=StringLiteral(\"?.<yob`M\")\n",
      "input=Integer(-2425462223062368267)\n",
      "input=StringLiteral(\"P3d?Q$B:azw<9tH(|uW(*${\")\n",
      "input=StringLiteral(\":O~*!ESXw{3_=5C{.d;{M,W3/ZP\")\n",
      "input=StringLiteral(\"=CG<+WPO+F+r~9=`5M\")\n",
      "input=Comment(\"e;2pV-f{\\\".\\\">wp+\")\n",
      "input=Operator(\"*\")\n",
      "input=StringLiteral(\"ycQR&vb8Q'??w:'\")\n",
      "input=StringLiteral(\"']%2]oR:.}K?DO\")\n",
      "input=Integer(6215879950368468414)\n",
      "input=Identifier(\"rGHr916uv\")\n",
      "input=Comment(\"?\\\\K@K2.T:\\\\p+_<HSU\")\n",
      "input=Comment(\"sG/\\\"d$`^Una,j<b/9%:'`r-\\\"uO$*%`?\")\n",
      "input=Identifier(\"hEDj9de28cNq\")\n",
      "input=StringLiteral(\"{qN{A''y.8T*ZXYF~c^`?=%Bx\")\n",
      "input=Identifier(\"WVYVn7nE76gSkq\")\n",
      "input=Operator(\"+\")\n",
      "input=Identifier(\"R5My87j1BE2\")\n",
      "input=Integer(3848909655968555101)\n",
      "input=Operator(\"(\")\n",
      "input=Integer(-854997079860654830)\n",
      "input=Operator(\"/\")\n",
      "input=Integer(-1914966559351644624)\n",
      "input=Identifier(\"lqQZb5BjT4GrHv37ONQakkvuxaDj9w\")\n",
      "input=Operator(\"/\")\n",
      "input=Identifier(\"eo3I\")\n",
      "input=StringLiteral(\"'\")\n",
      "input=Identifier(\"C9nmzs4hGWKfjj3OOcNZ2pxcJFqt1gQ\")\n",
      "input=StringLiteral(\"h)`ss=c2@IK{Ry\")\n",
      "input=Comment(\"\")\n",
      "input=Identifier(\"Ka5vWS7w92yggoxuiFc\")\n",
      "input=Identifier(\"z17586UyB7YLB4Z\")\n",
      "input=Comment(\"<U}${9:o\")\n",
      "input=Integer(-2836116695655083137)\n",
      "input=Integer(-518066952689223569)\n",
      "input=Operator(\"/\")\n",
      "input=Integer(2432959894757377087)\n",
      "input=Comment(\"G7GU]<!n9|\\\\:~QKH\")\n",
      "input=Identifier(\"zdUzVPby7gMSJ6RbxR9is363zqvehb1Y\")\n",
      "input=Operator(\"(\")\n",
      "input=Identifier(\"Bq\")\n",
      "input=Comment(\"h.:<C<B?r{\")\n",
      "input=Identifier(\"Fa\")\n",
      "input=Operator(\"/\")\n",
      "input=Operator(\"(\")\n",
      "input=Identifier(\"EmnQ19wS\")\n",
      "input=StringLiteral(\":u\")\n",
      "input=Comment(\"_W{Un]A-`YV$2q_9/`\\\\0v\\\\2:$B\")\n",
      "input=Operator(\"*\")\n",
      "input=Comment(\"7F'=rR%6\")\n",
      "input=Integer(4590833643143140866)\n",
      "input=Operator(\"+\")\n",
      "input=StringLiteral(\"'x1X_ml<9'07:{/%I-`\")\n",
      "input=Identifier(\"f3P0f3Jn5lpIqq5YtdYS4244RGJM390\")\n",
      "input=Integer(2170476575844332965)\n",
      "input=Comment(\"BECB\\\"?7<$g+L.y'-}T[/\")\n",
      "input=Integer(-7968276391294531740)\n",
      "input=Operator(\"(\")\n",
      "input=Operator(\"=\")\n",
      "input=Integer(4172650754091713059)\n",
      "input=Integer(8944050257255226052)\n",
      "input=StringLiteral(\"BxX<frZ-:&`{g`H$4%_/js:QpH\")\n",
      "input=Integer(4784325716767425167)\n",
      "input=Identifier(\"SivYsCe1Iz5WLh\")\n",
      "input=Comment(\"E~.m{h]T8k i:R.Wf\")\n",
      "input=StringLiteral(\"Z1?93Po[|J+<V$&?%XD/`&E&@w$By\")\n",
      "input=Integer(-6122250996087263107)\n",
      "input=Operator(\"(\")\n",
      "input=Operator(\"+\")\n",
      "input=StringLiteral(\"wI*czUH=u||=\")\n",
      "input=Identifier(\"QS0K7KdG2FlOG6J2IUlPNS0AEp684kP\")\n",
      "input=StringLiteral(\"4y6&P?9lNiabsU\")\n",
      "input=StringLiteral(\"l\")\n",
      "input=StringLiteral(\"X+!1.N?SiD?<CoN.w/a8:ma\")\n",
      "input=Identifier(\"ydj3xk\")\n",
      "input=Operator(\"*\")\n",
      "input=Identifier(\"bqu0T\")\n",
      "input=Operator(\"(\")\n",
      "input=Comment(\"<?c*! 5C7U'4\\\"?s**W<'`\")\n",
      "input=Comment(\"l`6`,,s\\\\?<'$/qpG B,\\\"\")\n",
      "input=Operator(\"(\")\n",
      "input=Identifier(\"kuW\")\n",
      "input=StringLiteral(\")GPf-_CQ%YgEpg2Imgj`6g]j<<y<?}U\")\n",
      "input=Identifier(\"x56nFL2zWFmuq5mDqU9TrqypfjN6\")\n",
      "input=Integer(2061830720990466491)\n",
      "input=Comment(\"\")\n",
      "input=Integer(-4291977334507857440)\n",
      "input=Identifier(\"fqaJw4025kUcnd4hmFF4le1Pr96OmPvvp\")\n",
      "input=Identifier(\"LTTQjCR4tGe3M\")\n",
      "input=Integer(-4815064930766963160)\n",
      "input=StringLiteral(\"\")\n",
      "input=StringLiteral(\"stG'Np\")\n",
      "input=Integer(-5206979412463386834)\n",
      "input=Comment(\"`\\\\%Z\\\\I}nQO)<`ra+x4#}\\\"\\\\\")\n",
      "input=Identifier(\"kSpsa41pi\")\n",
      "input=Identifier(\"Z5RtQSxgB5cWCa9e3x3qF7GJ0Y\")\n",
      "input=Comment(\"`?<\")\n",
      "input=Integer(-7347375917699763099)\n",
      "input=Operator(\"/\")\n",
      "input=Comment(\"4VC:\\\"%H&%9{Tf.\")\n",
      "input=StringLiteral(\"%O(@v*51=q?$|#{c\")\n",
      "input=StringLiteral(\"L$E$:\")\n",
      "input=Comment(\"oMJ%9vb@szG{b=\")\n",
      "input=Operator(\"*\")\n",
      "input=Identifier(\"vtFU5kC\")\n",
      "input=Comment(\"!X,X]*`@rl]IdOA$rd&@v4:'\")\n",
      "input=Operator(\"(\")\n",
      "input=Operator(\"*\")\n",
      "input=Integer(-4628354062945525927)\n",
      "input=StringLiteral(\"mS6(:fl'&x4GH`:4\")\n",
      "input=Identifier(\"a7Z\")\n",
      "input=Integer(-7513010534015745852)\n",
      "input=Operator(\"+\")\n",
      "input=Operator(\")\")\n",
      "input=Operator(\"=\")\n",
      "input=StringLiteral(\"/o;\")\n",
      "input=Integer(-6099510066267357762)\n",
      "input=StringLiteral(\"%'~L/C{<$wMkb$%<TU2g'r1ni&/o):\")\n",
      "input=Operator(\"/\")\n",
      "input=StringLiteral(\"$j$I om%=\")\n",
      "input=Integer(474025072833767478)\n",
      "input=Integer(5058436496695796977)\n",
      "input=Identifier(\"u3Nrgk89o\")\n",
      "input=Integer(-6199301687666853640)\n",
      "input=Integer(3045425547762353448)\n",
      "input=StringLiteral(\"p:\")\n",
      "input=Integer(-6085268053124362495)\n",
      "input=Identifier(\"XjG\")\n",
      "input=Identifier(\"Fv6Bdr2iQXr306MOGI\")\n",
      "input=Identifier(\"VPhQxdw0qKUseBB3YVDV\")\n",
      "input=Identifier(\"NSO05ajmI3yurXYu\")\n",
      "input=Operator(\"-\")\n",
      "input=Operator(\"-\")\n",
      "input=Integer(-3118029858960778708)\n",
      "input=Identifier(\"CPQ2Dk\")\n",
      "input=Integer(-2442894367291602695)\n",
      "input=StringLiteral(\"RthvFv&A~n:TL<l1??2>%v`;b!+j\")\n",
      "input=Operator(\"+\")\n",
      "input=Integer(-6068569228322809490)\n",
      "input=Identifier(\"tw9v56kuiX353qZcB3\")\n",
      "input=StringLiteral(\"5^k?nz@s'@=C|/:.9{a7 u[*aa)\")\n",
      "input=Integer(3013187688652003141)\n",
      "input=Identifier(\"vx4MfC68dFbH8\")\n",
      "input=Operator(\"=\")\n",
      "input=Operator(\"/\")\n",
      "input=Integer(-6718904396798413414)\n",
      "input=Operator(\"(\")\n",
      "input=Comment(\"S\\\"yY0wZ4Hc!{<\\\\f5I*%(#Y`%Vcb&\")\n",
      "input=Integer(-1241146361011266073)\n",
      "input=Integer(1782915424864705455)\n",
      "input=StringLiteral(\".+m@8Pnhj:V^53&i0s4SE/sL.\")\n",
      "input=Comment(\"?eAZ4\")\n",
      "input=StringLiteral(\"h 4p`);SNIr%=WqbY<qm&[\")\n",
      "input=Comment(\"$<!\\\"'v6 P(E=Xo\\\\xCU'K\")\n",
      "input=Identifier(\"Wrka9RtEb8c78JBvG628gd4\")\n",
      "input=Integer(420643838545669383)\n",
      "input=Identifier(\"fPh8qHn\")\n",
      "input=StringLiteral(\">6#qEP/W0(:Y`-,R{6*jDD?\")\n",
      "input=StringLiteral(\"Vn'H:w. %'4B)eM$s`e/)/'LPt\")\n",
      "input=StringLiteral(\"}U'/?Gx<F-./+nP\")\n",
      "input=Operator(\"(\")\n",
      "input=Integer(-1130012727670058931)\n",
      "input=Operator(\"-\")\n",
      "input=Comment(\"F:5^x\")\n",
      "input=Integer(2278165720454435705)\n",
      "input=StringLiteral(\":g<`%|[EiS]7t;<[%'BIvxd*\")\n",
      "input=Comment(\"x{,_{A*T<v/UR/&U/zfCPwls\")\n",
      "input=StringLiteral(\"LrFh8jWo*`c<7&3L^Me/!^v$f}/'Jfy\")\n",
      "input=Comment(\"pW'k}/w=(E:`{*T<i|.mlQ{Mm!cx.\")\n",
      "input=Identifier(\"xnx8eD8A5I55\")\n",
      "input=Identifier(\"n97z3dR6v0\")\n",
      "input=Operator(\"*\")\n",
      "input=StringLiteral(\"DE%\")\n",
      "input=Comment(\"1rGlm./@Y&={H\\\"\\\\fx\\\\D H&J\\\\{*:\")\n",
      "input=StringLiteral(\"z=s:\")\n",
      "input=Identifier(\"lh6N6IAF3o9rFt\")\n",
      "input=Identifier(\"tg20Qs2k0Gl\")\n",
      "input=Integer(-2343035925957167155)\n",
      "input=StringLiteral(\"aU\")\n",
      "input=Operator(\"=\")\n",
      "input=Integer(1460389338056587314)\n",
      "input=StringLiteral(\"h4.~;%2Q$?0Aq&U?]oU<.=*d,ZS`\")\n",
      "input=StringLiteral(\"_dhE**<ao., &,1Ei\")\n",
      "input=Identifier(\"Vj8gY3Ll846nLT7KLyi\")\n",
      "input=Operator(\")\")\n",
      "input=Integer(-5952844745061990081)\n",
      "input=StringLiteral(\">`=?].*~~:\")\n",
      "input=StringLiteral(\"r\")\n",
      "input=StringLiteral(\"Xiv#Jk&\")\n",
      "input=Identifier(\"dCgxq7jq9utzc7\")\n",
      "input=Identifier(\"g1EFvQ\")\n",
      "input=Operator(\"-\")\n",
      "input=Comment(\"$/=\\\"8B'\\\\}C>/MD(HGs2'yVz''{@]<\\\\U\")\n",
      "input=Operator(\"/\")\n",
      "input=Integer(4642997427923077173)\n",
      "input=Integer(-5930858957680788660)\n",
      "input=Comment(\"Z=x|{vwJW*G*0?{D0, :ces\")\n",
      "input=Identifier(\"YUYeV1TegF\")\n",
      "input=Operator(\")\")\n",
      "input=Operator(\"(\")\n",
      "input=Operator(\"+\")\n",
      "input=Comment(\"??OP}]q.Im9vO/&*\\\\+mv$\")\n",
      "input=Operator(\"*\")\n",
      "input=Comment(\"1/'\")\n",
      "\n",
      "\n",
      "successes:\n",
      "    adding_and_then_removing_an_item_from_the_cart_leaves_the_cart_unchanged\n",
      "    prop_parse_format_idempotent\n",
      "    test_parse_number\n",
      "\n",
      "test result: ok. 3 passed; 0 failed; 0 ignored; 0 measured; 0 filtered out; finished in 0.07s\n",
      "\n"
     ]
    }
   ],
   "source": [
    "{ cargo +nightly test --release -- --show-output } | Invoke-Block"
   ]
  },
  {
   "cell_type": "markdown",
   "metadata": {},
   "source": [
    "### execute the binary in release mode"
   ]
  },
  {
   "cell_type": "code",
   "execution_count": null,
   "metadata": {
    "dotnet_interactive": {
     "language": "pwsh"
    },
    "polyglot_notebook": {
     "kernelName": "pwsh"
    }
   },
   "outputs": [
    {
     "name": "stdout",
     "output_type": "stream",
     "text": [
      "app=test\n"
     ]
    }
   ],
   "source": [
    "{ . $ScriptDir/../../../../workspace/target/release/spiral_temp_test$(_exe) } | Invoke-Block"
   ]
  }
 ],
 "metadata": {},
 "nbformat": 4,
 "nbformat_minor": 5
}