{
 "cells": [
  {
   "cell_type": "markdown",
   "metadata": {},
   "source": [
    "# test"
   ]
  },
  {
   "cell_type": "markdown",
   "metadata": {},
   "source": [
    "## include scripts"
   ]
  },
  {
   "cell_type": "markdown",
   "metadata": {},
   "source": [
    "### include notebook core"
   ]
  },
  {
   "cell_type": "code",
   "execution_count": null,
   "metadata": {
    "dotnet_interactive": {
     "language": "pwsh"
    },
    "polyglot_notebook": {
     "kernelName": "pwsh"
    }
   },
   "outputs": [],
   "source": [
    ". ../../../../scripts/nbs_header.ps1"
   ]
  },
  {
   "cell_type": "markdown",
   "metadata": {},
   "source": [
    "### Include core functions script"
   ]
  },
  {
   "cell_type": "code",
   "execution_count": null,
   "metadata": {
    "dotnet_interactive": {
     "language": "pwsh"
    },
    "polyglot_notebook": {
     "kernelName": "pwsh"
    }
   },
   "outputs": [],
   "source": [
    ". ../../../../scripts/core.ps1"
   ]
  },
  {
   "cell_type": "markdown",
   "metadata": {},
   "source": [
    "### Include spiral library"
   ]
  },
  {
   "cell_type": "code",
   "execution_count": null,
   "metadata": {
    "dotnet_interactive": {
     "language": "pwsh"
    },
    "polyglot_notebook": {
     "kernelName": "pwsh"
    }
   },
   "outputs": [],
   "source": [
    ". ../../../../lib/spiral/lib.ps1"
   ]
  },
  {
   "cell_type": "markdown",
   "metadata": {},
   "source": [
    "## execute project commands"
   ]
  },
  {
   "cell_type": "markdown",
   "metadata": {},
   "source": [
    "### run notebook with retries using spiral supervisor"
   ]
  },
  {
   "cell_type": "code",
   "execution_count": null,
   "metadata": {
    "dotnet_interactive": {
     "language": "pwsh"
    },
    "polyglot_notebook": {
     "kernelName": "pwsh"
    }
   },
   "outputs": [
    {
     "name": "stdout",
     "output_type": "stream",
     "text": [
      "00:00:00 \u001B[90mverbose\u001B[0m #1 networking.test_port_open / { port = 13806; ex = System.AggregateException: One or more errors occurred. (Connection refused) }\n",
      "00:00:00 \u001B[94m  debug\u001B[0m #1 runtime.execute_with_options_async / { options = { command = ../../../../workspace/target/release/spiral_builder dib --path test.dib --retries 3; cancellation_token = Some System.Threading.CancellationToken; environment_variables = [||]; on_line = None; stdin = None; trace = true; working_directory = None } }\n",
      "00:00:00 \u001B[90mverbose\u001B[0m #2 > 00:00:00 \u001B[94m  debug\u001B[39m #1 spiral_builder.main / { args = Array(MutCell([\"dib\", \"--path\", \"test.dib\", \"--retries\", \"3\"])) }\n",
      "00:00:00 \u001B[90mverbose\u001B[0m #3 > 00:00:00 \u001B[94m  debug\u001B[39m #2 runtime.execute_with_options / { file_name = dotnet; arguments = [\"repl\", \"--exit-after-run\", \"--run\", \"/home/runner/work/polyglot/polyglot/apps/spiral/temp/test/test.dib\", \"--output-path\", \"/home/runner/work/polyglot/polyglot/apps/spiral/temp/test/test.dib.ipynb\"]; options = { command = dotnet repl --exit-after-run --run \"/home/runner/work/polyglot/polyglot/apps/spiral/temp/test/test.dib\" --output-path \"/home/runner/work/polyglot/polyglot/apps/spiral/temp/test/test.dib.ipynb\"; cancellation_token = None; environment_variables = Array(MutCell([(\"TRACE_LEVEL\", \"Verbose\"), (\"AUTOMATION\", \"True\")])); on_line = None; stdin = None; trace = false; working_directory = None } }\n",
      "00:00:02 \u001B[90mverbose\u001B[0m #4 > >\n",
      "00:00:02 \u001B[90mverbose\u001B[0m #5 > > \u001B[38;5;103m── markdown ────────────────────────────────────────────────────────────────────\u001B[0m\n",
      "00:00:02 \u001B[90mverbose\u001B[0m #6 > > \u001B[38;5;103m╭──────────────────────────────────────────────────────────────────────────────╮\u001B[0m\n",
      "00:00:02 \u001B[90mverbose\u001B[0m #7 > > \u001B[38;5;103m│\u001B[0m # test (Polyglot)                                                            \u001B[38;5;103m│\u001B[0m\n",
      "00:00:02 \u001B[90mverbose\u001B[0m #8 > > \u001B[38;5;103m╰──────────────────────────────────────────────────────────────────────────────╯\u001B[0m\n",
      "00:00:04 \u001B[90mverbose\u001B[0m #9 > >\n",
      "00:00:04 \u001B[90mverbose\u001B[0m #10 > > \u001B[38;5;103m── spiral ──────────────────────────────────────────────────────────────────────\u001B[0m\n",
      "00:00:04 \u001B[90mverbose\u001B[0m #11 > > //// test\n",
      "00:00:04 \u001B[90mverbose\u001B[0m #12 > >\n",
      "00:00:04 \u001B[90mverbose\u001B[0m #13 > > open testing\n",
      "00:00:07 \u001B[90mverbose\u001B[0m #14 > >\n",
      "00:00:07 \u001B[90mverbose\u001B[0m #15 > > \u001B[38;5;103m── spiral ──────────────────────────────────────────────────────────────────────\u001B[0m\n",
      "00:00:07 \u001B[90mverbose\u001B[0m #16 > > nominal i = ()\n",
      "00:00:07 \u001B[90mverbose\u001B[0m #17 > > nominal e = ()\n",
      "00:00:07 \u001B[90mverbose\u001B[0m #18 > > nominal s = ()\n",
      "00:00:07 \u001B[90mverbose\u001B[0m #19 > > nominal n = ()\n",
      "00:00:07 \u001B[90mverbose\u001B[0m #20 > > nominal t = ()\n",
      "00:00:07 \u001B[90mverbose\u001B[0m #21 > > nominal f = ()\n",
      "00:00:07 \u001B[90mverbose\u001B[0m #22 > > nominal j = ()\n",
      "00:00:07 \u001B[90mverbose\u001B[0m #23 > > nominal p = ()\n",
      "00:00:07 \u001B[90mverbose\u001B[0m #24 > >\n",
      "00:00:07 \u001B[90mverbose\u001B[0m #25 > > union sensing =\n",
      "00:00:07 \u001B[90mverbose\u001B[0m #26 > >     | Si : s * i\n",
      "00:00:07 \u001B[90mverbose\u001B[0m #27 > >     | Se : s * e\n",
      "00:00:07 \u001B[90mverbose\u001B[0m #28 > >\n",
      "00:00:07 \u001B[90mverbose\u001B[0m #29 > > union intuition =\n",
      "00:00:07 \u001B[90mverbose\u001B[0m #30 > >     | Ni : n * i\n",
      "00:00:07 \u001B[90mverbose\u001B[0m #31 > >     | Ne : n * e\n",
      "00:00:07 \u001B[90mverbose\u001B[0m #32 > >\n",
      "00:00:07 \u001B[90mverbose\u001B[0m #33 > > union thinking =\n",
      "00:00:07 \u001B[90mverbose\u001B[0m #34 > >     | Ti : t * i\n",
      "00:00:07 \u001B[90mverbose\u001B[0m #35 > >     | Te : t * e\n",
      "00:00:07 \u001B[90mverbose\u001B[0m #36 > >\n",
      "00:00:07 \u001B[90mverbose\u001B[0m #37 > > union feeling =\n",
      "00:00:07 \u001B[90mverbose\u001B[0m #38 > >     | Fi : f * i\n",
      "00:00:07 \u001B[90mverbose\u001B[0m #39 > >     | Fe : f * e\n",
      "00:00:07 \u001B[90mverbose\u001B[0m #40 > >\n",
      "00:00:07 \u001B[90mverbose\u001B[0m #41 > > union function_stack =\n",
      "00:00:07 \u001B[90mverbose\u001B[0m #42 > >     | FS : sensing * intuition * thinking * feeling\n",
      "00:00:07 \u001B[90mverbose\u001B[0m #43 > >\n",
      "00:00:07 \u001B[90mverbose\u001B[0m #44 > > union personality_type =\n",
      "00:00:07 \u001B[90mverbose\u001B[0m #45 > >     | ISTJ : i * s * t * j * function_stack\n",
      "00:00:07 \u001B[90mverbose\u001B[0m #46 > >     | ISFJ : i * s * f * j * function_stack\n",
      "00:00:07 \u001B[90mverbose\u001B[0m #47 > >     | INFJ : i * n * f * j * function_stack\n",
      "00:00:07 \u001B[90mverbose\u001B[0m #48 > >     | INTJ : i * n * t * j * function_stack\n",
      "00:00:07 \u001B[90mverbose\u001B[0m #49 > >     | ISTP : i * s * t * p * function_stack\n",
      "00:00:07 \u001B[90mverbose\u001B[0m #50 > >     | ISFP : i * s * f * p * function_stack\n",
      "00:00:07 \u001B[90mverbose\u001B[0m #51 > >     | INFP : i * n * f * p * function_stack\n",
      "00:00:07 \u001B[90mverbose\u001B[0m #52 > >     | INTP : i * n * t * p * function_stack\n",
      "00:00:07 \u001B[90mverbose\u001B[0m #53 > >     | ESTP : e * s * t * p * function_stack\n",
      "00:00:07 \u001B[90mverbose\u001B[0m #54 > >     | ESFP : e * s * f * p * function_stack\n",
      "00:00:07 \u001B[90mverbose\u001B[0m #55 > >     | ENFP : e * n * f * p * function_stack\n",
      "00:00:07 \u001B[90mverbose\u001B[0m #56 > >     | ENTP : e * n * t * p * function_stack\n",
      "00:00:07 \u001B[90mverbose\u001B[0m #57 > >     | ESTJ : e * s * t * j * function_stack\n",
      "00:00:07 \u001B[90mverbose\u001B[0m #58 > >     | ESFJ : e * s * f * j * function_stack\n",
      "00:00:07 \u001B[90mverbose\u001B[0m #59 > >     | ENFJ : e * n * f * j * function_stack\n",
      "00:00:07 \u001B[90mverbose\u001B[0m #60 > >     | ENTJ : e * n * t * j * function_stack\n",
      "00:00:07 \u001B[90mverbose\u001B[0m #61 > >\n",
      "00:00:07 \u001B[90mverbose\u001B[0m #62 > >\n",
      "00:00:07 \u001B[90mverbose\u001B[0m #63 > > inl main () =\n",
      "00:00:07 \u001B[90mverbose\u001B[0m #64 > >     inl istj_stack = FS ((Si (s, i)), Ne (n, e), (Te (t, e)), (Fi (f, i)))\n",
      "00:00:07 \u001B[90mverbose\u001B[0m #65 > >     inl istj_personality = ISTJ (i, s, t, j, istj_stack)\n",
      "00:00:07 \u001B[90mverbose\u001B[0m #66 > >     // inl isfj_stack = FS ((Si (s, i)), Ne (n, e), (Fe (f, e)), (Ti (t, i)))\n",
      "00:00:07 \u001B[90mverbose\u001B[0m #67 > >     // inl isfj_personality = ISFJ (i, s, f, j, isfj_stack)\n",
      "00:00:07 \u001B[90mverbose\u001B[0m #68 > >\n",
      "00:00:07 \u001B[90mverbose\u001B[0m #69 > >     ;[[\n",
      "00:00:07 \u001B[90mverbose\u001B[0m #70 > >         istj_personality\n",
      "00:00:07 \u001B[90mverbose\u001B[0m #71 > >     ]]\n",
      "00:00:07 \u001B[90mverbose\u001B[0m #72 > >     |> fun x => $'$\"%A{!x}\"' : string\n",
      "00:00:07 \u001B[90mverbose\u001B[0m #73 > >     |> console.write_line\n",
      "00:00:07 \u001B[90mverbose\u001B[0m #74 > >\n",
      "00:00:07 \u001B[90mverbose\u001B[0m #75 > > inl main () =\n",
      "00:00:07 \u001B[90mverbose\u001B[0m #76 > >     $'!main ()' : ()\n",
      "00:00:08 \u001B[90mverbose\u001B[0m #77 > >\n",
      "00:00:08 \u001B[90mverbose\u001B[0m #78 > > \u001B[38;5;2m╭─[ 1.16s - stdout ]───────────────────────────────────────────────────────────╮\u001B[0m\n",
      "00:00:08 \u001B[90mverbose\u001B[0m #79 > > \u001B[38;5;2m│\u001B[0m [|US5_0 (US4_0 (US0_0, US1_1, US2_1, US3_0))|]                               \u001B[38;5;2m│\u001B[0m\n",
      "00:00:08 \u001B[90mverbose\u001B[0m #80 > > \u001B[38;5;2m│\u001B[0m                                                                              \u001B[38;5;2m│\u001B[0m\n",
      "00:00:08 \u001B[90mverbose\u001B[0m #81 > > \u001B[38;5;2m╰──────────────────────────────────────────────────────────────────────────────╯\u001B[0m\n",
      "00:00:09 \u001B[90mverbose\u001B[0m #82 > >\n",
      "00:00:09 \u001B[90mverbose\u001B[0m #83 > > \u001B[38;5;103m── fsharp ──────────────────────────────────────────────────────────────────────\u001B[0m\n",
      "00:00:09 \u001B[90mverbose\u001B[0m #84 > > type PhonologicalFeature =\n",
      "00:00:09 \u001B[90mverbose\u001B[0m #85 > >     | VowelFeature of\n",
      "00:00:09 \u001B[90mverbose\u001B[0m #86 > >         height: Height\n",
      "00:00:09 \u001B[90mverbose\u001B[0m #87 > >         * backness: Backness\n",
      "00:00:09 \u001B[90mverbose\u001B[0m #88 > >         * roundedness: Roundedness\n",
      "00:00:09 \u001B[90mverbose\u001B[0m #89 > >         * tone: Option<Tone>\n",
      "00:00:09 \u001B[90mverbose\u001B[0m #90 > >         * stress: Option<Stress>\n",
      "00:00:09 \u001B[90mverbose\u001B[0m #91 > >         * length: Option<Length>\n",
      "00:00:09 \u001B[90mverbose\u001B[0m #92 > >     | ConsonantFeature of\n",
      "00:00:09 \u001B[90mverbose\u001B[0m #93 > >         place: PlaceOfArticulation\n",
      "00:00:09 \u001B[90mverbose\u001B[0m #94 > >         * manner: MannerOfArticulation\n",
      "00:00:09 \u001B[90mverbose\u001B[0m #95 > >         * voicing: Voicing\n",
      "00:00:09 \u001B[90mverbose\u001B[0m #96 > >         * length: Option<Length>\n",
      "00:00:09 \u001B[90mverbose\u001B[0m #97 > >     | VowelHarmonyFeature\n",
      "00:00:09 \u001B[90mverbose\u001B[0m #98 > >     | PitchAccentFeature\n",
      "00:00:09 \u001B[90mverbose\u001B[0m #99 > >\n",
      "00:00:09 \u001B[90mverbose\u001B[0m #100 > > and Stress = Primary | Secondary\n",
      "00:00:09 \u001B[90mverbose\u001B[0m #101 > > and Length = Long | Short | HalfLong\n",
      "00:00:09 \u001B[90mverbose\u001B[0m #102 > >\n",
      "00:00:09 \u001B[90mverbose\u001B[0m #103 > > and Height =\n",
      "00:00:09 \u001B[90mverbose\u001B[0m #104 > >     | High | NearHigh | HighMid\n",
      "00:00:09 \u001B[90mverbose\u001B[0m #105 > >     | Mid | LowMid | NearLow\n",
      "00:00:09 \u001B[90mverbose\u001B[0m #106 > >     | Low\n",
      "00:00:09 \u001B[90mverbose\u001B[0m #107 > >\n",
      "00:00:09 \u001B[90mverbose\u001B[0m #108 > > and Backness = Front | Central | Back\n",
      "00:00:09 \u001B[90mverbose\u001B[0m #109 > >\n",
      "00:00:09 \u001B[90mverbose\u001B[0m #110 > > and Roundedness = Rounded | Unrounded\n",
      "00:00:09 \u001B[90mverbose\u001B[0m #111 > >\n",
      "00:00:09 \u001B[90mverbose\u001B[0m #112 > > and PlaceOfArticulation =\n",
      "00:00:09 \u001B[90mverbose\u001B[0m #113 > >     | Bilabial | Labiodental | Dental\n",
      "00:00:09 \u001B[90mverbose\u001B[0m #114 > >     | Alveolar | Postalveolar | Retroflex\n",
      "00:00:09 \u001B[90mverbose\u001B[0m #115 > >     | Palatal | Velar | Uvular\n",
      "00:00:09 \u001B[90mverbose\u001B[0m #116 > >     | Pharyngeal | Epiglottal | Glottal\n",
      "00:00:09 \u001B[90mverbose\u001B[0m #117 > >\n",
      "00:00:09 \u001B[90mverbose\u001B[0m #118 > > and MannerOfArticulation =\n",
      "00:00:09 \u001B[90mverbose\u001B[0m #119 > >     | Plosive | Nasal | Trill\n",
      "00:00:09 \u001B[90mverbose\u001B[0m #120 > >     | TapOrFlap | Fricative | LateralFricative\n",
      "00:00:09 \u001B[90mverbose\u001B[0m #121 > >     | Approximant | LateralApproximant\n",
      "00:00:09 \u001B[90mverbose\u001B[0m #122 > >\n",
      "00:00:09 \u001B[90mverbose\u001B[0m #123 > > and Voicing = Voiced | Voiceless\n",
      "00:00:09 \u001B[90mverbose\u001B[0m #124 > >\n",
      "00:00:09 \u001B[90mverbose\u001B[0m #125 > > and SecondaryArticulation =\n",
      "00:00:09 \u001B[90mverbose\u001B[0m #126 > >     | Labialization | Palatalization | Velarization\n",
      "00:00:09 \u001B[90mverbose\u001B[0m #127 > >     | Pharyngealization | Aspiration\n",
      "00:00:09 \u001B[90mverbose\u001B[0m #128 > >\n",
      "00:00:09 \u001B[90mverbose\u001B[0m #129 > > and Tone =\n",
      "00:00:09 \u001B[90mverbose\u001B[0m #130 > >     | LevelTone of int\n",
      "00:00:09 \u001B[90mverbose\u001B[0m #131 > >     | ContourTone of int list\n",
      "00:00:09 \u001B[90mverbose\u001B[0m #132 > >\n",
      "00:00:09 \u001B[90mverbose\u001B[0m #133 > > and MorphologicalFeature =\n",
      "00:00:09 \u001B[90mverbose\u001B[0m #134 > >     | RootFeature of string\n",
      "00:00:09 \u001B[90mverbose\u001B[0m #135 > >     | AffixFeature of AffixType * string\n",
      "00:00:09 \u001B[90mverbose\u001B[0m #136 > >     | IncorporationFeature of string * MorphologicalFeature\n",
      "00:00:09 \u001B[90mverbose\u001B[0m #137 > >     | NonConcatenativePattern of string * string\n",
      "00:00:09 \u001B[90mverbose\u001B[0m #138 > >     | AgglutinativeAffixFeature of AgglutinativeAffixType * string\n",
      "00:00:09 \u001B[90mverbose\u001B[0m #139 > >     | HonorificFeature of HonorificType * string\n",
      "00:00:09 \u001B[90mverbose\u001B[0m #140 > >\n",
      "00:00:09 \u001B[90mverbose\u001B[0m #141 > > and AgglutinativeAffixType = Suffix | Prefix\n",
      "00:00:09 \u001B[90mverbose\u001B[0m #142 > >\n",
      "00:00:09 \u001B[90mverbose\u001B[0m #143 > > and HonorificType = VerbHonorific | NounHonorific\n",
      "00:00:09 \u001B[90mverbose\u001B[0m #144 > >\n",
      "00:00:09 \u001B[90mverbose\u001B[0m #145 > > and AffixType =\n",
      "00:00:09 \u001B[90mverbose\u001B[0m #146 > >     | Prefix | Suffix | Infix\n",
      "00:00:09 \u001B[90mverbose\u001B[0m #147 > >     | Circumfix\n",
      "00:00:09 \u001B[90mverbose\u001B[0m #148 > >\n",
      "00:00:09 \u001B[90mverbose\u001B[0m #149 > > type SyntacticFeature =\n",
      "00:00:09 \u001B[90mverbose\u001B[0m #150 > >     | WordFeature of MorphologicalFeature list * LexicalCategory\n",
      "00:00:09 \u001B[90mverbose\u001B[0m #151 > >     | PhraseFeature of PhraseType * SyntacticFeature list\n",
      "00:00:09 \u001B[90mverbose\u001B[0m #152 > >     | GrammaticalRelation of GrammaticalRelationType * SyntacticFeature list\n",
      "00:00:09 \u001B[90mverbose\u001B[0m #153 > >     | SOVOrderFeature\n",
      "00:00:09 \u001B[90mverbose\u001B[0m #154 > >     | TopicCommentFeature\n",
      "00:00:09 \u001B[90mverbose\u001B[0m #155 > >\n",
      "00:00:09 \u001B[90mverbose\u001B[0m #156 > > and GrammaticalRelationType =\n",
      "00:00:09 \u001B[90mverbose\u001B[0m #157 > >     | Ergative | Absolutive | Nominative\n",
      "00:00:09 \u001B[90mverbose\u001B[0m #158 > >     | Accusative\n",
      "00:00:09 \u001B[90mverbose\u001B[0m #159 > >\n",
      "00:00:09 \u001B[90mverbose\u001B[0m #160 > > and LexicalCategory =\n",
      "00:00:09 \u001B[90mverbose\u001B[0m #161 > >     | Noun | Verb | Adjective\n",
      "00:00:09 \u001B[90mverbose\u001B[0m #162 > >     | Adverb | Pronoun | Preposition\n",
      "00:00:09 \u001B[90mverbose\u001B[0m #163 > >     | Conjunction | Determiner | Interjection\n",
      "00:00:09 \u001B[90mverbose\u001B[0m #164 > >\n",
      "00:00:09 \u001B[90mverbose\u001B[0m #165 > > and PhraseType =\n",
      "00:00:09 \u001B[90mverbose\u001B[0m #166 > >     | NP | VP | AP\n",
      "00:00:09 \u001B[90mverbose\u001B[0m #167 > >     | PP | CP\n",
      "00:00:09 \u001B[90mverbose\u001B[0m #168 > >\n",
      "00:00:09 \u001B[90mverbose\u001B[0m #169 > > and SemanticFeature =\n",
      "00:00:09 \u001B[90mverbose\u001B[0m #170 > >     | Meaning of string\n",
      "00:00:09 \u001B[90mverbose\u001B[0m #171 > >     | SemanticRole of SemanticRoleType * SemanticFeature\n",
      "00:00:09 \u001B[90mverbose\u001B[0m #172 > >\n",
      "00:00:09 \u001B[90mverbose\u001B[0m #173 > > and SemanticRoleType =\n",
      "00:00:09 \u001B[90mverbose\u001B[0m #174 > >     | Agent | Patient | Instrument\n",
      "00:00:09 \u001B[90mverbose\u001B[0m #175 > >     | Location | Time | Cause\n",
      "00:00:09 \u001B[90mverbose\u001B[0m #176 > >\n",
      "00:00:09 \u001B[90mverbose\u001B[0m #177 > > and PragmaticFeature =\n",
      "00:00:09 \u001B[90mverbose\u001B[0m #178 > >     | UseContext of string\n",
      "00:00:09 \u001B[90mverbose\u001B[0m #179 > >     | PolitenessLevel of Politeness\n",
      "00:00:09 \u001B[90mverbose\u001B[0m #180 > >     | SpeechAct of SpeechActType\n",
      "00:00:09 \u001B[90mverbose\u001B[0m #181 > >     | SpeechLevel of SpeechLevelType\n",
      "00:00:09 \u001B[90mverbose\u001B[0m #182 > >\n",
      "00:00:09 \u001B[90mverbose\u001B[0m #183 > > and Politeness = Formal | Informal | Neutral\n",
      "00:00:09 \u001B[90mverbose\u001B[0m #184 > >\n",
      "00:00:09 \u001B[90mverbose\u001B[0m #185 > > and SpeechActType =\n",
      "00:00:09 \u001B[90mverbose\u001B[0m #186 > >     | Assertive | Directive | Commissive\n",
      "00:00:09 \u001B[90mverbose\u001B[0m #187 > >     | Expressive | Declarative\n",
      "00:00:09 \u001B[90mverbose\u001B[0m #188 > >\n",
      "00:00:09 \u001B[90mverbose\u001B[0m #189 > > and SpeechLevelType =\n",
      "00:00:09 \u001B[90mverbose\u001B[0m #190 > >     | FormalHigh | FormalLow | InformalHigh\n",
      "00:00:09 \u001B[90mverbose\u001B[0m #191 > >     | InformalLow | Neutral\n",
      "00:00:09 \u001B[90mverbose\u001B[0m #192 > >\n",
      "00:00:09 \u001B[90mverbose\u001B[0m #193 > > type LinguisticFeature =\n",
      "00:00:09 \u001B[90mverbose\u001B[0m #194 > >     | Phonological of PhonologicalFeature\n",
      "00:00:09 \u001B[90mverbose\u001B[0m #195 > >     | Morphological of MorphologicalFeature\n",
      "00:00:09 \u001B[90mverbose\u001B[0m #196 > >     | Syntactic of SyntacticFeature\n",
      "00:00:09 \u001B[90mverbose\u001B[0m #197 > >     | Semantic of SemanticFeature\n",
      "00:00:09 \u001B[90mverbose\u001B[0m #198 > >     | Pragmatic of PragmaticFeature\n",
      "00:00:09 \u001B[90mverbose\u001B[0m #199 > >\n",
      "00:00:09 \u001B[90mverbose\u001B[0m #200 > > type LanguageConstruct =\n",
      "00:00:09 \u001B[90mverbose\u001B[0m #201 > >     | LanguageElement of LinguisticFeature\n",
      "00:00:09 \u001B[90mverbose\u001B[0m #202 > >     | LanguageStructure of LanguageConstruct list\n",
      "00:00:09 \u001B[90mverbose\u001B[0m #203 > >     | TranslationElement of TranslationFeature\n",
      "00:00:09 \u001B[90mverbose\u001B[0m #204 > >\n",
      "00:00:09 \u001B[90mverbose\u001B[0m #205 > > and TranslationFeature =\n",
      "00:00:09 \u001B[90mverbose\u001B[0m #206 > >     | LinkedPhonological of PhonologicalFeature * PhonologicalFeature\n",
      "00:00:09 \u001B[90mverbose\u001B[0m #207 > >     | LinkedMorphological of MorphologicalFeature * MorphologicalFeature\n",
      "00:00:09 \u001B[90mverbose\u001B[0m #208 > >     | LinkedSyntactic of SyntacticFeature * SyntacticFeature\n",
      "00:00:09 \u001B[90mverbose\u001B[0m #209 > >     | LinkedSemantic of SemanticFeature * SemanticFeature\n",
      "00:00:09 \u001B[90mverbose\u001B[0m #210 > >\n",
      "00:00:09 \u001B[90mverbose\u001B[0m #211 > > type Discourse = DiscourseUnit of LanguageConstruct list\n",
      "00:00:09 \u001B[90mverbose\u001B[0m #212 > >\n",
      "00:00:09 \u001B[90mverbose\u001B[0m #213 > > type LanguageModel =\n",
      "00:00:09 \u001B[90mverbose\u001B[0m #214 > >     | Model of discourse: Discourse\n",
      "00:00:10 \u001B[90mverbose\u001B[0m #215 > >\n",
      "00:00:10 \u001B[90mverbose\u001B[0m #216 > > \u001B[38;5;103m── fsharp ──────────────────────────────────────────────────────────────────────\u001B[0m\n",
      "00:00:10 \u001B[90mverbose\u001B[0m #217 > > let testEnglish =\n",
      "00:00:10 \u001B[90mverbose\u001B[0m #218 > >     Model(\n",
      "00:00:10 \u001B[90mverbose\u001B[0m #219 > >         DiscourseUnit [[\n",
      "00:00:10 \u001B[90mverbose\u001B[0m #220 > >             LanguageElement (Phonological (ConsonantFeature (Alveolar, Nasal,\n",
      "00:00:10 \u001B[90mverbose\u001B[0m #221 > > Voiced, Some(HalfLong))));\n",
      "00:00:10 \u001B[90mverbose\u001B[0m #222 > >             LanguageElement (Phonological (VowelFeature (High, Front, Unrounded,\n",
      "00:00:10 \u001B[90mverbose\u001B[0m #223 > > Some(LevelTone 1), Some(Primary), Some(Short))));\n",
      "00:00:10 \u001B[90mverbose\u001B[0m #224 > >             LanguageElement (Phonological (VowelFeature (Low, Front, Unrounded,\n",
      "00:00:10 \u001B[90mverbose\u001B[0m #225 > > Some(LevelTone 2), Some(Secondary), Some(Long))));\n",
      "00:00:10 \u001B[90mverbose\u001B[0m #226 > >             LanguageElement (Phonological (ConsonantFeature (Velar, Plosive,\n",
      "00:00:10 \u001B[90mverbose\u001B[0m #227 > > Voiceless, Some(HalfLong))));\n",
      "00:00:10 \u001B[90mverbose\u001B[0m #228 > >             LanguageElement (Morphological (RootFeature \"I\"));\n",
      "00:00:10 \u001B[90mverbose\u001B[0m #229 > >             LanguageElement (Morphological (RootFeature \"see\"));\n",
      "00:00:10 \u001B[90mverbose\u001B[0m #230 > >             LanguageElement (Morphological (RootFeature \"a\"));\n",
      "00:00:10 \u001B[90mverbose\u001B[0m #231 > >             LanguageElement (Morphological (RootFeature \"cat\"));\n",
      "00:00:10 \u001B[90mverbose\u001B[0m #232 > >             LanguageElement (Syntactic (PhraseFeature (NP, [[WordFeature\n",
      "00:00:10 \u001B[90mverbose\u001B[0m #233 > > ([[RootFeature \"I\"]], Pronoun)]])));\n",
      "00:00:10 \u001B[90mverbose\u001B[0m #234 > >             LanguageElement (Syntactic (PhraseFeature (VP, [[WordFeature\n",
      "00:00:10 \u001B[90mverbose\u001B[0m #235 > > ([[RootFeature \"see\"]], Verb)]])));\n",
      "00:00:10 \u001B[90mverbose\u001B[0m #236 > >             LanguageElement (Syntactic (PhraseFeature (NP, [[WordFeature\n",
      "00:00:10 \u001B[90mverbose\u001B[0m #237 > > ([[RootFeature \"a\"; RootFeature \"cat\"]], Noun)]])));\n",
      "00:00:10 \u001B[90mverbose\u001B[0m #238 > >             LanguageElement (Semantic (Meaning \"Perception act of a feline by\n",
      "00:00:10 \u001B[90mverbose\u001B[0m #239 > > the speaker\"));\n",
      "00:00:10 \u001B[90mverbose\u001B[0m #240 > >             LanguageElement (Pragmatic (UseContext \"Statement of an action being\n",
      "00:00:10 \u001B[90mverbose\u001B[0m #241 > > observed\"))\n",
      "00:00:10 \u001B[90mverbose\u001B[0m #242 > >         ]]\n",
      "00:00:10 \u001B[90mverbose\u001B[0m #243 > >     )\n",
      "00:00:10 \u001B[90mverbose\u001B[0m #244 > >\n",
      "00:00:10 \u001B[90mverbose\u001B[0m #245 > > let testPortuguese =\n",
      "00:00:10 \u001B[90mverbose\u001B[0m #246 > >     Model(\n",
      "00:00:10 \u001B[90mverbose\u001B[0m #247 > >         DiscourseUnit [[\n",
      "00:00:10 \u001B[90mverbose\u001B[0m #248 > >             LanguageElement (Phonological (VowelFeature (High, Front, Unrounded,\n",
      "00:00:10 \u001B[90mverbose\u001B[0m #249 > > Some(LevelTone 1), Some(Primary), Some(Short))));\n",
      "00:00:10 \u001B[90mverbose\u001B[0m #250 > >             LanguageElement (Phonological (VowelFeature (Low, Front, Unrounded,\n",
      "00:00:10 \u001B[90mverbose\u001B[0m #251 > > Some(LevelTone 2), Some(Secondary), Some(Long))));\n",
      "00:00:10 \u001B[90mverbose\u001B[0m #252 > >             LanguageElement (Phonological (VowelFeature (Mid, Back, Rounded,\n",
      "00:00:10 \u001B[90mverbose\u001B[0m #253 > > Some(LevelTone 3), Some(Primary), Some(Short))));\n",
      "00:00:10 \u001B[90mverbose\u001B[0m #254 > >             LanguageElement (Phonological (ConsonantFeature (Velar, Plosive,\n",
      "00:00:10 \u001B[90mverbose\u001B[0m #255 > > Voiceless, Some(HalfLong))));\n",
      "00:00:10 \u001B[90mverbose\u001B[0m #256 > >             LanguageElement (Morphological (RootFeature \"Eu\"));\n",
      "00:00:10 \u001B[90mverbose\u001B[0m #257 > >             LanguageElement (Morphological (RootFeature \"ver\" |> ignore;\n",
      "00:00:10 \u001B[90mverbose\u001B[0m #258 > > AffixFeature (Suffix, \"o\")));\n",
      "00:00:10 \u001B[90mverbose\u001B[0m #259 > >             LanguageElement (Morphological (RootFeature \"um\"));\n",
      "00:00:10 \u001B[90mverbose\u001B[0m #260 > >             LanguageElement (Morphological (RootFeature \"gato\"));\n",
      "00:00:10 \u001B[90mverbose\u001B[0m #261 > >             LanguageElement (Syntactic (PhraseFeature (NP, [[WordFeature\n",
      "00:00:10 \u001B[90mverbose\u001B[0m #262 > > ([[RootFeature \"Eu\"]], Pronoun)]])));\n",
      "00:00:10 \u001B[90mverbose\u001B[0m #263 > >             LanguageElement (Syntactic (PhraseFeature (VP, [[WordFeature\n",
      "00:00:10 \u001B[90mverbose\u001B[0m #264 > > ([[RootFeature \"vejo\"]], Verb)]])));\n",
      "00:00:10 \u001B[90mverbose\u001B[0m #265 > >             LanguageElement (Syntactic (PhraseFeature (NP, [[WordFeature\n",
      "00:00:10 \u001B[90mverbose\u001B[0m #266 > > ([[RootFeature \"um\"; RootFeature \"gato\"]], Noun)]])));\n",
      "00:00:10 \u001B[90mverbose\u001B[0m #267 > >             LanguageElement (Semantic (Meaning \"Ação de percepção de um felino\n",
      "00:00:10 \u001B[90mverbose\u001B[0m #268 > > pelo falante\"));\n",
      "00:00:10 \u001B[90mverbose\u001B[0m #269 > >             LanguageElement (Pragmatic (UseContext \"Declaração de uma ação sendo\n",
      "00:00:10 \u001B[90mverbose\u001B[0m #270 > > observada\"))\n",
      "00:00:10 \u001B[90mverbose\u001B[0m #271 > >         ]]\n",
      "00:00:10 \u001B[90mverbose\u001B[0m #272 > >     )\n",
      "00:00:10 \u001B[90mverbose\u001B[0m #273 > >\n",
      "00:00:10 \u001B[90mverbose\u001B[0m #274 > > let testKorean =\n",
      "00:00:10 \u001B[90mverbose\u001B[0m #275 > >     Model(\n",
      "00:00:10 \u001B[90mverbose\u001B[0m #276 > >         DiscourseUnit [[\n",
      "00:00:10 \u001B[90mverbose\u001B[0m #277 > >             LanguageElement (Phonological (ConsonantFeature (Alveolar, Nasal,\n",
      "00:00:10 \u001B[90mverbose\u001B[0m #278 > > Voiced, Some(Short))));\n",
      "00:00:10 \u001B[90mverbose\u001B[0m #279 > >             LanguageElement (Phonological (VowelFeature (High, Back, Rounded,\n",
      "00:00:10 \u001B[90mverbose\u001B[0m #280 > > None, None, Some(Short))));\n",
      "00:00:10 \u001B[90mverbose\u001B[0m #281 > >             LanguageElement (Phonological (VowelFeature (Mid, Front, Unrounded,\n",
      "00:00:10 \u001B[90mverbose\u001B[0m #282 > > None, None, Some(Long))));\n",
      "00:00:10 \u001B[90mverbose\u001B[0m #283 > >             LanguageElement (Phonological (ConsonantFeature (Bilabial, Plosive,\n",
      "00:00:10 \u001B[90mverbose\u001B[0m #284 > > Voiceless, Some(Short))));\n",
      "00:00:10 \u001B[90mverbose\u001B[0m #285 > >             LanguageElement (Morphological (RootFeature \"나\"));\n",
      "00:00:10 \u001B[90mverbose\u001B[0m #286 > >             LanguageElement (Morphological (RootFeature \"보다\"));\n",
      "00:00:10 \u001B[90mverbose\u001B[0m #287 > >             LanguageElement (Morphological (AffixFeature (Suffix, \"아\")));\n",
      "00:00:10 \u001B[90mverbose\u001B[0m #288 > >             LanguageElement (Morphological (RootFeature \"고양이\"));\n",
      "00:00:10 \u001B[90mverbose\u001B[0m #289 > >             LanguageElement (Syntactic (PhraseFeature (NP, [[WordFeature\n",
      "00:00:10 \u001B[90mverbose\u001B[0m #290 > > ([[RootFeature \"나\"]], Pronoun)]])));\n",
      "00:00:10 \u001B[90mverbose\u001B[0m #291 > >             LanguageElement (Syntactic (PhraseFeature (VP, [[WordFeature\n",
      "00:00:10 \u001B[90mverbose\u001B[0m #292 > > ([[RootFeature \"보다\"; AffixFeature (Suffix, \"아\")]], Verb)]])));\n",
      "00:00:10 \u001B[90mverbose\u001B[0m #293 > >             LanguageElement (Syntactic (PhraseFeature (NP, [[WordFeature\n",
      "00:00:10 \u001B[90mverbose\u001B[0m #294 > > ([[RootFeature \"고양이\"]], Noun)]])));\n",
      "00:00:10 \u001B[90mverbose\u001B[0m #295 > >             LanguageElement (Semantic (Meaning \"화자에 의한 고양이의 관찰\n",
      "00:00:10 \u001B[90mverbose\u001B[0m #296 > > 행위\"));\n",
      "00:00:10 \u001B[90mverbose\u001B[0m #297 > >             LanguageElement (Pragmatic (UseContext \"관찰되고 있는 행동의 진술\"))\n",
      "00:00:10 \u001B[90mverbose\u001B[0m #298 > >         ]]\n",
      "00:00:10 \u001B[90mverbose\u001B[0m #299 > >     )\n",
      "00:00:10 \u001B[90mverbose\u001B[0m #300 > >\n",
      "00:00:10 \u001B[90mverbose\u001B[0m #301 > > \u001B[38;5;103m── markdown ────────────────────────────────────────────────────────────────────\u001B[0m\n",
      "00:00:10 \u001B[90mverbose\u001B[0m #302 > > \u001B[38;5;103m╭──────────────────────────────────────────────────────────────────────────────╮\u001B[0m\n",
      "00:00:10 \u001B[90mverbose\u001B[0m #303 > > \u001B[38;5;103m│\u001B[0m ## main                                                                      \u001B[38;5;103m│\u001B[0m\n",
      "00:00:10 \u001B[90mverbose\u001B[0m #304 > > \u001B[38;5;103m╰──────────────────────────────────────────────────────────────────────────────╯\u001B[0m\n",
      "00:00:10 \u001B[90mverbose\u001B[0m #305 > >\n",
      "00:00:10 \u001B[90mverbose\u001B[0m #306 > > \u001B[38;5;103m── spiral ──────────────────────────────────────────────────────────────────────\u001B[0m\n",
      "00:00:10 \u001B[90mverbose\u001B[0m #307 > > inl main (_args : array_base string) =\n",
      "00:00:10 \u001B[90mverbose\u001B[0m #308 > >     0i32\n",
      "00:00:10 \u001B[90mverbose\u001B[0m #309 > >\n",
      "00:00:10 \u001B[90mverbose\u001B[0m #310 > > inl main () =\n",
      "00:00:10 \u001B[90mverbose\u001B[0m #311 > >     $'let main args = !main args' : ()\n",
      "00:00:10 \u001B[90mverbose\u001B[0m #312 > >\n",
      "00:00:10 \u001B[90mverbose\u001B[0m #313 > > \u001B[38;5;103m── spiral ──────────────────────────────────────────────────────────────────────\u001B[0m\n",
      "00:00:10 \u001B[90mverbose\u001B[0m #314 > > inl app () =\n",
      "00:00:10 \u001B[90mverbose\u001B[0m #315 > >     \"test\" |> console.write_line\n",
      "00:00:10 \u001B[90mverbose\u001B[0m #316 > >     0i32\n",
      "00:00:10 \u001B[90mverbose\u001B[0m #317 > >\n",
      "00:00:10 \u001B[90mverbose\u001B[0m #318 > > inl main () =\n",
      "00:00:10 \u001B[90mverbose\u001B[0m #319 > >     print_static \"<test>\"\n",
      "00:00:10 \u001B[90mverbose\u001B[0m #320 > >\n",
      "00:00:10 \u001B[90mverbose\u001B[0m #321 > >     app\n",
      "00:00:10 \u001B[90mverbose\u001B[0m #322 > >     |> dyn\n",
      "00:00:10 \u001B[90mverbose\u001B[0m #323 > >     |> ignore\n",
      "00:00:10 \u001B[90mverbose\u001B[0m #324 > >\n",
      "00:00:10 \u001B[90mverbose\u001B[0m #325 > >     print_static \"</test>\"\n",
      "00:00:11 \u001B[90mverbose\u001B[0m #326 > 00:00:10 \u001B[90mverbose\u001B[39m #3 runtime.execute_with_options / result / { exit_code = 0; std_trace_length = 11263 }\n",
      "00:00:11 \u001B[90mverbose\u001B[0m #327 > 00:00:10 \u001B[94m  debug\u001B[39m #4 runtime.execute_with_options / { file_name = jupyter; arguments = [\"nbconvert\", \"/home/runner/work/polyglot/polyglot/apps/spiral/temp/test/test.dib.ipynb\", \"--to\", \"html\", \"--HTMLExporter.theme=dark\"]; options = { command = jupyter nbconvert \"/home/runner/work/polyglot/polyglot/apps/spiral/temp/test/test.dib.ipynb\" --to html --HTMLExporter.theme=dark; cancellation_token = None; environment_variables = Array(MutCell([])); on_line = None; stdin = None; trace = true; working_directory = None } }\n",
      "00:00:11 \u001B[90mverbose\u001B[0m #328 > 00:00:11 \u001B[90mverbose\u001B[39m #5 ! [NbConvertApp] Converting notebook /home/runner/work/polyglot/polyglot/apps/spiral/temp/test/test.dib.ipynb to html\n",
      "00:00:11 \u001B[90mverbose\u001B[0m #329 > 00:00:11 \u001B[90mverbose\u001B[39m #6 ! /opt/hostedtoolcache/Python/3.12.4/x64/lib/python3.12/site-packages/nbformat/__init__.py:96: MissingIDFieldWarning: Cell is missing an id field, this will become a hard error in future nbformat versions. You may want to use `normalize()` on your notebooks before validations (available since nbformat 5.1.4). Previous versions of nbformat are fixing this issue transparently, and will stop doing so in the future.\n",
      "00:00:11 \u001B[90mverbose\u001B[0m #330 > 00:00:11 \u001B[90mverbose\u001B[39m #7 !   validate(nb)\n",
      "00:00:12 \u001B[90mverbose\u001B[0m #331 > 00:00:11 \u001B[90mverbose\u001B[39m #8 ! /opt/hostedtoolcache/Python/3.12.4/x64/lib/python3.12/site-packages/nbconvert/filters/highlight.py:71: UserWarning: IPython3 lexer unavailable, falling back on Python 3\n",
      "00:00:12 \u001B[90mverbose\u001B[0m #332 > 00:00:11 \u001B[90mverbose\u001B[39m #9 !   return _pygments_highlight(\n",
      "00:00:12 \u001B[90mverbose\u001B[0m #333 > 00:00:11 \u001B[90mverbose\u001B[39m #10 ! [NbConvertApp] Writing 318991 bytes to /home/runner/work/polyglot/polyglot/apps/spiral/temp/test/test.dib.html\n",
      "00:00:12 \u001B[90mverbose\u001B[0m #334 > 00:00:11 \u001B[90mverbose\u001B[39m #11 runtime.execute_with_options / result / { exit_code = 0; std_trace_length = 914 }\n",
      "00:00:12 \u001B[90mverbose\u001B[0m #335 > 00:00:11 \u001B[94m  debug\u001B[39m #12 spiral_builder.run / dib / jupyter nbconvert / { exit_code = 0; jupyter_result_length = 914 }\n",
      "00:00:12 \u001B[90mverbose\u001B[0m #336 > 00:00:11 \u001B[94m  debug\u001B[39m #13 runtime.execute_with_options / { file_name = pwsh; arguments = [\"-c\", \"$counter = 1; $path = '/home/runner/work/polyglot/polyglot/apps/spiral/temp/test/test.dib.html'; (Get-Content $path -Raw) -replace '(id=\\\\\\\"cell-id=)[a-fA-F0-9]{8}', { $_.Groups[1].Value + $counter++ } | Set-Content $path\"]; options = { command = pwsh -c \"$counter = 1; $path = '/home/runner/work/polyglot/polyglot/apps/spiral/temp/test/test.dib.html'; (Get-Content $path -Raw) -replace '(id=\\\"cell-id=)[a-fA-F0-9]{8}', { $_.Groups[1].Value + $counter++ } | Set-Content $path\"; cancellation_token = None; environment_variables = Array(MutCell([])); on_line = None; stdin = None; trace = true; working_directory = None } }\n",
      "00:00:12 \u001B[90mverbose\u001B[0m #337 > 00:00:12 \u001B[90mverbose\u001B[39m #14 runtime.execute_with_options / result / { exit_code = 0; std_trace_length = 0 }\n",
      "00:00:12 \u001B[90mverbose\u001B[0m #338 > 00:00:12 \u001B[94m  debug\u001B[39m #15 spiral_builder.run / dib / html cell ids / { exit_code = 0; pwsh_replace_html_result_length = 0 }\n",
      "00:00:12 \u001B[90mverbose\u001B[0m #339 > 00:00:12 \u001B[94m  debug\u001B[39m #16 spiral_builder.run / dib / { exit_code = 0; result_length = 12236 }\n",
      "00:00:12 \u001B[94m  debug\u001B[0m #340 runtime.execute_with_options_async / { exit_code = 0; output_length = 15733 }\n",
      "00:00:12 \u001B[94m  debug\u001B[0m #1 main / executeCommand / exitCode: 0 / command: ../../../../workspace/target/release/spiral_builder dib --path test.dib --retries 3\n"
     ]
    }
   ],
   "source": [
    "{ . ../../../../apps/spiral/dist/Supervisor$(_exe) --execute-command \"../../../../workspace/target/release/spiral_builder$(_exe) dib --path test.dib --retries 3\" } | Invoke-Block"
   ]
  },
  {
   "cell_type": "markdown",
   "metadata": {},
   "source": [
    "### parse the .dib file into .spi format with dibparser"
   ]
  },
  {
   "cell_type": "code",
   "execution_count": null,
   "metadata": {
    "dotnet_interactive": {
     "language": "pwsh"
    },
    "polyglot_notebook": {
     "kernelName": "pwsh"
    }
   },
   "outputs": [
    {
     "name": "stdout",
     "output_type": "stream",
     "text": [
      "00:00:00 \u001B[94m  debug\u001B[0m #1 writeDibCode / output: Spi / path: test.dib\n",
      "00:00:00 \u001B[94m  debug\u001B[0m #2 parseDibCode / output: Spi / file: test.dib\n"
     ]
    }
   ],
   "source": [
    "{ . ../../../../apps/parser/dist/DibParser$(_exe) test.dib spi } | Invoke-Block"
   ]
  },
  {
   "cell_type": "markdown",
   "metadata": {},
   "source": [
    "### build .fsx file from .spi using supervisor"
   ]
  },
  {
   "cell_type": "code",
   "execution_count": null,
   "metadata": {
    "dotnet_interactive": {
     "language": "pwsh"
    },
    "polyglot_notebook": {
     "kernelName": "pwsh"
    }
   },
   "outputs": [
    {
     "name": "stdout",
     "output_type": "stream",
     "text": [
      "00:00:00 \u001B[90mverbose\u001B[0m #1 networking.test_port_open / { port = 13806; ex = System.AggregateException: One or more errors occurred. (Connection refused) }\n",
      "00:00:00 \u001B[90mverbose\u001B[0m #2 networking.test_port_open / { port = 13806; ex = System.AggregateException: One or more errors occurred. (Connection refused) }\n",
      "00:00:00 \u001B[94m  debug\u001B[0m #1 Supervisor.buildFile / takeWhileInclusive / outputContent:\n",
      " / errors: [] / typeErrorCount: 0 / retry: 0 / path: test.spi\n",
      "00:00:00 \u001B[94m  debug\u001B[0m #2 Supervisor.buildFile / AsyncSeq.scan / outputContent:\n",
      " / errors: [] / outputContentResult:  / typeErrorCount: 0 / retry: 0 / error:  / path: test.spi\n",
      "00:00:00 \u001B[94m  debug\u001B[0m #3 Supervisor.buildFile / takeWhileInclusive / outputContent:\n",
      " / errors: [] / typeErrorCount: 0 / retry: 0 / path: test.spi\n",
      "00:00:00 \u001B[90mverbose\u001B[0m #4 Supervisor.sendJson / port: 13805 / json: {\"FileOpen\":{\"spiText\":\"/// # test (Polyglot)\\nnominal i = ()\\nnominal e = ()\\nnominal s = ()\\nnomin...t\\u003E\\u0022\\n\",\"uri\":\"file:///home/runner/work/polyglot/polyglot/apps/spiral/temp/test/test.spi\"}} / result:\n",
      "00:00:00 \u001B[90mverbose\u001B[0m #5 Supervisor.sendJson / port: 13805 / json: {\"BuildFile\":{\"backend\":\"Fsharp\",\"uri\":\"file:///home/runner/work/polyglot/polyglot/apps/spiral/temp/test/test.spi\"}} / result:\n",
      "00:00:00 \u001B[94m  debug\u001B[0m #6 Supervisor.buildFile / AsyncSeq.scan / outputContent:\n",
      "let rec closure0 () () : int32 =\n",
      "    let v2 : (string -> unit) = System.Console.WriteLine\n",
      "    let v3 : string = \"test\"\n",
      "    v2 v3\n",
      "    0\n",
      "let v0 : (unit -> int32) = closure0()\n",
      "()\n",
      " / errors: [] / outputContentResult:  / typeErrorCount: 0 / retry: 0 / error:  / path: test.spi\n",
      "00:00:00 \u001B[94m  debug\u001B[0m #7 Supervisor.buildFile / takeWhileInclusive / outputContent:\n",
      "let rec closure0 () () : int32 =\n",
      "    let v2 : (string -> unit) = System.Console.WriteLine\n",
      "    let v3 : string = \"test\"\n",
      "    v2 v3\n",
      "    0\n",
      "let v0 : (unit -> int32) = closure0()\n",
      "()\n",
      " / errors: [] / typeErrorCount: 0 / retry: 0 / path: test.spi\n",
      "00:00:00 \u001B[94m  debug\u001B[0m #8 FileSystem.watchWithFilter / Disposing watch stream / filter: FileName, LastWrite\n"
     ]
    }
   ],
   "source": [
    "{ . ../../../../apps/spiral/dist/Supervisor$(_exe) --build-file test.spi test.fsx } | Invoke-Block"
   ]
  },
  {
   "cell_type": "markdown",
   "metadata": {},
   "source": [
    "## compile and format the project"
   ]
  },
  {
   "cell_type": "markdown",
   "metadata": {},
   "source": [
    "### compile project with fable targeting optimized rust"
   ]
  },
  {
   "cell_type": "code",
   "execution_count": null,
   "metadata": {
    "dotnet_interactive": {
     "language": "pwsh"
    },
    "polyglot_notebook": {
     "kernelName": "pwsh"
    }
   },
   "outputs": [
    {
     "name": "stdout",
     "output_type": "stream",
     "text": [
      "\u001B[37mFable 4.19.3: F# to Rust compiler (status: alpha)\n",
      "\u001B[37m\n",
      "Thanks to the contributor! @devcrafting\n",
      "\u001B[37mStand with Ukraine! https://standwithukraine.com.ua/\n",
      "\n",
      "\u001B[37mParsing test.fsproj...\n",
      "\u001B[37m.> dotnet restore test.fable-temp.csproj -p:FABLE_COMPILER=true -p:FABLE_COMPILER_4=true -p:FABLE_COMPILER_RUST=true\n",
      "  Determining projects to restore...\n",
      "  Paket version 8.1.0-alpha004+7aa412f49b32de979c3d5acde07e88e6d47c965b\n",
      "  The last full restore is still up to date. Nothing left to do.\n",
      "  Total time taken: 0 milliseconds\n",
      "  Paket version 8.1.0-alpha004+7aa412f49b32de979c3d5acde07e88e6d47c965b\n",
      "  Restoring /home/runner/work/polyglot/polyglot/apps/spiral/temp/test/test.fable-temp.csproj\n",
      "  Starting restore process.\n",
      "  Total time taken: 0 milliseconds\n",
      "  Restored /home/runner/work/polyglot/polyglot/apps/spiral/temp/test/test.fable-temp.csproj (in 310 ms).\n",
      "\u001B[37m.> dotnet restore /home/runner/work/polyglot/polyglot/apps/spiral/temp/test/test.fsproj\n",
      "  Determining projects to restore...\n",
      "  Restored /home/runner/work/polyglot/polyglot/apps/spiral/temp/test/test.fsproj (in 256 ms).\n",
      "\u001B[37mProject and references (1 source files) parsed in 4844ms\n",
      "\n",
      "\u001B[37mStarted Fable compilation...\n",
      "\u001B[37m\n",
      "Fable compilation finished in 1043ms\n",
      "\n",
      "\u001B[33m./test.fsx(7,0): (7,2) warning FABLE: For Rust, support for F# static and module do bindings is disabled by default. It can be enabled with the 'static_do_bindings' feature. Use at your own risk!\n"
     ]
    }
   ],
   "source": [
    "dotnet fable --optimize --lang rs --extension .rs"
   ]
  },
  {
   "cell_type": "markdown",
   "metadata": {},
   "source": [
    "### fix formatting issues in the .rs file using regex and set-content"
   ]
  },
  {
   "cell_type": "code",
   "execution_count": null,
   "metadata": {
    "dotnet_interactive": {
     "language": "pwsh"
    },
    "polyglot_notebook": {
     "kernelName": "pwsh"
    }
   },
   "outputs": [],
   "source": [
    "(Get-Content test.rs) `\n",
    "    -replace [regex]::Escape(\"),);\"), \"));\" `\n",
    "    | FixRust `\n",
    "| Set-Content test.rs"
   ]
  },
  {
   "cell_type": "markdown",
   "metadata": {},
   "source": [
    "### format the rust code using cargo fmt"
   ]
  },
  {
   "cell_type": "code",
   "execution_count": null,
   "metadata": {
    "dotnet_interactive": {
     "language": "pwsh"
    },
    "polyglot_notebook": {
     "kernelName": "pwsh"
    }
   },
   "outputs": [],
   "source": [
    "cargo fmt --"
   ]
  },
  {
   "cell_type": "markdown",
   "metadata": {},
   "source": [
    "## build and test the project"
   ]
  },
  {
   "cell_type": "markdown",
   "metadata": {},
   "source": [
    "### build the project in release mode using nightly rust compiler"
   ]
  },
  {
   "cell_type": "code",
   "execution_count": null,
   "metadata": {
    "dotnet_interactive": {
     "language": "pwsh"
    },
    "polyglot_notebook": {
     "kernelName": "pwsh"
    }
   },
   "outputs": [
    {
     "name": "stdout",
     "output_type": "stream",
     "text": [
      "\u001B[31;1m\u001B[1m\u001B[32m   Compiling\u001B[0m rand_core v0.6.4\u001B[0m\n",
      "\u001B[31;1m\u001B[1m\u001B[32m   Compiling\u001B[0m linux-raw-sys v0.4.14\u001B[0m\n",
      "\u001B[31;1m\u001B[1m\u001B[32m   Compiling\u001B[0m num-traits v0.2.19\u001B[0m\n",
      "\u001B[31;1m\u001B[1m\u001B[32m   Compiling\u001B[0m libm v0.2.8\u001B[0m\n",
      "\u001B[31;1m\u001B[1m\u001B[32m   Compiling\u001B[0m rand_chacha v0.3.1\u001B[0m\n",
      "\u001B[31;1m\u001B[1m\u001B[32m   Compiling\u001B[0m syn v2.0.70\u001B[0m\n",
      "\u001B[31;1m\u001B[1m\u001B[32m   Compiling\u001B[0m rustix v0.38.34\u001B[0m\n",
      "\u001B[31;1m\u001B[1m\u001B[32m   Compiling\u001B[0m wait-timeout v0.2.0\u001B[0m\n",
      "\u001B[31;1m\u001B[1m\u001B[32m   Compiling\u001B[0m bit-vec v0.6.3\u001B[0m\n",
      "\u001B[31;1m\u001B[1m\u001B[32m   Compiling\u001B[0m quick-error v1.2.3\u001B[0m\n",
      "\u001B[31;1m\u001B[1m\u001B[32m   Compiling\u001B[0m bit-set v0.5.3\u001B[0m\n",
      "\u001B[31;1m\u001B[1m\u001B[32m   Compiling\u001B[0m rand v0.8.5\u001B[0m\n",
      "\u001B[31;1m\u001B[1m\u001B[32m   Compiling\u001B[0m rand_xorshift v0.3.0\u001B[0m\n",
      "\u001B[31;1m\u001B[1m\u001B[32m   Compiling\u001B[0m lazy_static v1.5.0\u001B[0m\n",
      "\u001B[31;1m\u001B[1m\u001B[32m   Compiling\u001B[0m memchr v2.7.4\u001B[0m\n",
      "\u001B[31;1m\u001B[1m\u001B[32m   Compiling\u001B[0m unarray v0.1.4\u001B[0m\n",
      "\u001B[31;1m\u001B[1m\u001B[32m   Compiling\u001B[0m fable_library_rust v0.1.0 (/home/runner/work/polyglot/polyglot/lib/rust/fable/fable_modules/fable-library-rust)\u001B[0m\n",
      "\u001B[31;1m\u001B[1m\u001B[32m   Compiling\u001B[0m tempfile v3.10.1\u001B[0m\n",
      "\u001B[31;1m\u001B[1m\u001B[32m   Compiling\u001B[0m nom v7.1.3\u001B[0m\n",
      "\u001B[31;1m\u001B[1m\u001B[32m   Compiling\u001B[0m thiserror-impl v1.0.61\u001B[0m\n",
      "\u001B[31;1m\u001B[1m\u001B[32m   Compiling\u001B[0m rusty-fork v0.3.0\u001B[0m\n",
      "\u001B[31;1m\u001B[1m\u001B[32m   Compiling\u001B[0m proptest v1.4.0\u001B[0m\n",
      "\u001B[31;1m\u001B[1m\u001B[32m   Compiling\u001B[0m thiserror v1.0.61\u001B[0m\n",
      "\u001B[31;1m\u001B[1m\u001B[32m   Compiling\u001B[0m spiral_temp_test v0.0.1 (/home/runner/work/polyglot/polyglot/apps/spiral/temp/test)\u001B[0m\n",
      "\u001B[31;1m\u001B[0m\u001B[1m\u001B[33mwarning\u001B[0m\u001B[0m\u001B[1m: enum `Item` is never used\u001B[0m\u001B[0m\n",
      "\u001B[31;1m\u001B[0m  \u001B[0m\u001B[0m\u001B[1m\u001B[38;5;12m--> \u001B[0m\u001B[0m/home/runner/work/polyglot/polyglot/apps/spiral/temp/test/./main.rs:16:6\u001B[0m\u001B[0m\n",
      "\u001B[31;1m\u001B[0m   \u001B[0m\u001B[0m\u001B[1m\u001B[38;5;12m|\u001B[0m\u001B[0m\n",
      "\u001B[31;1m\u001B[0m\u001B[1m\u001B[38;5;12m16\u001B[0m\u001B[0m \u001B[0m\u001B[0m\u001B[1m\u001B[38;5;12m|\u001B[0m\u001B[0m \u001B[0m\u001B[0menum Item {\u001B[0m\u001B[0m\n",
      "\u001B[31;1m\u001B[0m   \u001B[0m\u001B[0m\u001B[1m\u001B[38;5;12m|\u001B[0m\u001B[0m      \u001B[0m\u001B[0m\u001B[1m\u001B[33m^^^^\u001B[0m\u001B[0m\n",
      "\u001B[31;1m\u001B[0m   \u001B[0m\u001B[0m\u001B[1m\u001B[38;5;12m|\u001B[0m\u001B[0m\n",
      "\u001B[31;1m\u001B[0m   \u001B[0m\u001B[0m\u001B[1m\u001B[38;5;12m= \u001B[0m\u001B[0m\u001B[1mnote\u001B[0m\u001B[0m: `#[warn(dead_code)]` on by default\u001B[0m\u001B[0m\n",
      "\u001B[31;1m\u001B[0m\n",
      "\u001B[31;1m\u001B[0m\u001B[1m\u001B[33mwarning\u001B[0m\u001B[0m\u001B[1m: struct `Cart` is never constructed\u001B[0m\u001B[0m\n",
      "\u001B[31;1m\u001B[0m  \u001B[0m\u001B[0m\u001B[1m\u001B[38;5;12m--> \u001B[0m\u001B[0m/home/runner/work/polyglot/polyglot/apps/spiral/temp/test/./main.rs:41:8\u001B[0m\u001B[0m\n",
      "\u001B[31;1m\u001B[0m   \u001B[0m\u001B[0m\u001B[1m\u001B[38;5;12m|\u001B[0m\u001B[0m\n",
      "\u001B[31;1m\u001B[0m\u001B[1m\u001B[38;5;12m41\u001B[0m\u001B[0m \u001B[0m\u001B[0m\u001B[1m\u001B[38;5;12m|\u001B[0m\u001B[0m \u001B[0m\u001B[0mstruct Cart {\u001B[0m\u001B[0m\n",
      "\u001B[31;1m\u001B[0m   \u001B[0m\u001B[0m\u001B[1m\u001B[38;5;12m|\u001B[0m\u001B[0m        \u001B[0m\u001B[0m\u001B[1m\u001B[33m^^^^\u001B[0m\u001B[0m\n",
      "\u001B[31;1m\u001B[0m\n",
      "\u001B[31;1m\u001B[0m\u001B[1m\u001B[33mwarning\u001B[0m\u001B[0m\u001B[1m: associated items `new`, `add_item`, and `remove_item` are never used\u001B[0m\u001B[0m\n",
      "\u001B[31;1m\u001B[0m  \u001B[0m\u001B[0m\u001B[1m\u001B[38;5;12m--> \u001B[0m\u001B[0m/home/runner/work/polyglot/polyglot/apps/spiral/temp/test/./main.rs:46:8\u001B[0m\u001B[0m\n",
      "\u001B[31;1m\u001B[0m   \u001B[0m\u001B[0m\u001B[1m\u001B[38;5;12m|\u001B[0m\u001B[0m\n",
      "\u001B[31;1m\u001B[0m\u001B[1m\u001B[38;5;12m45\u001B[0m\u001B[0m \u001B[0m\u001B[0m\u001B[1m\u001B[38;5;12m|\u001B[0m\u001B[0m \u001B[0m\u001B[0mimpl Cart {\u001B[0m\u001B[0m\n",
      "\u001B[31;1m\u001B[0m   \u001B[0m\u001B[0m\u001B[1m\u001B[38;5;12m|\u001B[0m\u001B[0m \u001B[0m\u001B[0m\u001B[1m\u001B[38;5;12m---------\u001B[0m\u001B[0m \u001B[0m\u001B[0m\u001B[1m\u001B[38;5;12massociated items in this implementation\u001B[0m\u001B[0m\n",
      "\u001B[31;1m\u001B[0m\u001B[1m\u001B[38;5;12m46\u001B[0m\u001B[0m \u001B[0m\u001B[0m\u001B[1m\u001B[38;5;12m|\u001B[0m\u001B[0m \u001B[0m\u001B[0m    fn new() -> Cart {\u001B[0m\u001B[0m\n",
      "\u001B[31;1m\u001B[0m   \u001B[0m\u001B[0m\u001B[1m\u001B[38;5;12m|\u001B[0m\u001B[0m        \u001B[0m\u001B[0m\u001B[1m\u001B[33m^^^\u001B[0m\u001B[0m\n",
      "\u001B[31;1m\u001B[0m\u001B[1m\u001B[38;5;12m...\u001B[0m\u001B[0m\n",
      "\u001B[31;1m\u001B[0m\u001B[1m\u001B[38;5;12m50\u001B[0m\u001B[0m \u001B[0m\u001B[0m\u001B[1m\u001B[38;5;12m|\u001B[0m\u001B[0m \u001B[0m\u001B[0m    fn add_item(&mut self, item: Item) {\u001B[0m\u001B[0m\n",
      "\u001B[31;1m\u001B[0m   \u001B[0m\u001B[0m\u001B[1m\u001B[38;5;12m|\u001B[0m\u001B[0m        \u001B[0m\u001B[0m\u001B[1m\u001B[33m^^^^^^^^\u001B[0m\u001B[0m\n",
      "\u001B[31;1m\u001B[0m\u001B[1m\u001B[38;5;12m...\u001B[0m\u001B[0m\n",
      "\u001B[31;1m\u001B[0m\u001B[1m\u001B[38;5;12m56\u001B[0m\u001B[0m \u001B[0m\u001B[0m\u001B[1m\u001B[38;5;12m|\u001B[0m\u001B[0m \u001B[0m\u001B[0m    fn remove_item(&mut self, item: &Item) {\u001B[0m\u001B[0m\n",
      "\u001B[31;1m\u001B[0m   \u001B[0m\u001B[0m\u001B[1m\u001B[38;5;12m|\u001B[0m\u001B[0m        \u001B[0m\u001B[0m\u001B[1m\u001B[33m^^^^^^^^^^^\u001B[0m\u001B[0m\n",
      "\u001B[31;1m\u001B[0m\n",
      "\u001B[31;1m\u001B[0m\u001B[1m\u001B[33mwarning\u001B[0m\u001B[0m\u001B[1m: function `parse_comment` is never used\u001B[0m\u001B[0m\n",
      "\u001B[31;1m\u001B[0m   \u001B[0m\u001B[0m\u001B[1m\u001B[38;5;12m--> \u001B[0m\u001B[0m/home/runner/work/polyglot/polyglot/apps/spiral/temp/test/./main.rs:124:4\u001B[0m\u001B[0m\n",
      "\u001B[31;1m\u001B[0m    \u001B[0m\u001B[0m\u001B[1m\u001B[38;5;12m|\u001B[0m\u001B[0m\n",
      "\u001B[31;1m\u001B[0m\u001B[1m\u001B[38;5;12m124\u001B[0m\u001B[0m \u001B[0m\u001B[0m\u001B[1m\u001B[38;5;12m|\u001B[0m\u001B[0m \u001B[0m\u001B[0mfn parse_comment(input: &str) -> IResult<&str, SpiralToken> {\u001B[0m\u001B[0m\n",
      "\u001B[31;1m\u001B[0m    \u001B[0m\u001B[0m\u001B[1m\u001B[38;5;12m|\u001B[0m\u001B[0m    \u001B[0m\u001B[0m\u001B[1m\u001B[33m^^^^^^^^^^^^^\u001B[0m\u001B[0m\n",
      "\u001B[31;1m\u001B[0m\n",
      "\u001B[31;1m\u001B[0m\u001B[1m\u001B[33mwarning\u001B[0m\u001B[0m\u001B[1m: function `parse_string` is never used\u001B[0m\u001B[0m\n",
      "\u001B[31;1m\u001B[0m   \u001B[0m\u001B[0m\u001B[1m\u001B[38;5;12m--> \u001B[0m\u001B[0m/home/runner/work/polyglot/polyglot/apps/spiral/temp/test/./main.rs:130:4\u001B[0m\u001B[0m\n",
      "\u001B[31;1m\u001B[0m    \u001B[0m\u001B[0m\u001B[1m\u001B[38;5;12m|\u001B[0m\u001B[0m\n",
      "\u001B[31;1m\u001B[0m\u001B[1m\u001B[38;5;12m130\u001B[0m\u001B[0m \u001B[0m\u001B[0m\u001B[1m\u001B[38;5;12m|\u001B[0m\u001B[0m \u001B[0m\u001B[0mfn parse_string(input: &str) -> IResult<&str, SpiralToken> {\u001B[0m\u001B[0m\n",
      "\u001B[31;1m\u001B[0m    \u001B[0m\u001B[0m\u001B[1m\u001B[38;5;12m|\u001B[0m\u001B[0m    \u001B[0m\u001B[0m\u001B[1m\u001B[33m^^^^^^^^^^^^\u001B[0m\u001B[0m\n",
      "\u001B[31;1m\u001B[0m\n",
      "\u001B[31;1m\u001B[0m\u001B[1m\u001B[33mwarning\u001B[0m\u001B[0m\u001B[1m: function `parse_identifier` is never used\u001B[0m\u001B[0m\n",
      "\u001B[31;1m\u001B[0m   \u001B[0m\u001B[0m\u001B[1m\u001B[38;5;12m--> \u001B[0m\u001B[0m/home/runner/work/polyglot/polyglot/apps/spiral/temp/test/./main.rs:145:4\u001B[0m\u001B[0m\n",
      "\u001B[31;1m\u001B[0m    \u001B[0m\u001B[0m\u001B[1m\u001B[38;5;12m|\u001B[0m\u001B[0m\n",
      "\u001B[31;1m\u001B[0m\u001B[1m\u001B[38;5;12m145\u001B[0m\u001B[0m \u001B[0m\u001B[0m\u001B[1m\u001B[38;5;12m|\u001B[0m\u001B[0m \u001B[0m\u001B[0mfn parse_identifier(input: &str) -> IResult<&str, SpiralToken> {\u001B[0m\u001B[0m\n",
      "\u001B[31;1m\u001B[0m    \u001B[0m\u001B[0m\u001B[1m\u001B[38;5;12m|\u001B[0m\u001B[0m    \u001B[0m\u001B[0m\u001B[1m\u001B[33m^^^^^^^^^^^^^^^^\u001B[0m\u001B[0m\n",
      "\u001B[31;1m\u001B[0m\n",
      "\u001B[31;1m\u001B[0m\u001B[1m\u001B[33mwarning\u001B[0m\u001B[0m\u001B[1m: function `parse_integer` is never used\u001B[0m\u001B[0m\n",
      "\u001B[31;1m\u001B[0m   \u001B[0m\u001B[0m\u001B[1m\u001B[38;5;12m--> \u001B[0m\u001B[0m/home/runner/work/polyglot/polyglot/apps/spiral/temp/test/./main.rs:157:4\u001B[0m\u001B[0m\n",
      "\u001B[31;1m\u001B[0m    \u001B[0m\u001B[0m\u001B[1m\u001B[38;5;12m|\u001B[0m\u001B[0m\n",
      "\u001B[31;1m\u001B[0m\u001B[1m\u001B[38;5;12m157\u001B[0m\u001B[0m \u001B[0m\u001B[0m\u001B[1m\u001B[38;5;12m|\u001B[0m\u001B[0m \u001B[0m\u001B[0mfn parse_integer(input: &str) -> IResult<&str, SpiralToken> {\u001B[0m\u001B[0m\n",
      "\u001B[31;1m\u001B[0m    \u001B[0m\u001B[0m\u001B[1m\u001B[38;5;12m|\u001B[0m\u001B[0m    \u001B[0m\u001B[0m\u001B[1m\u001B[33m^^^^^^^^^^^^^\u001B[0m\u001B[0m\n",
      "\u001B[31;1m\u001B[0m\n",
      "\u001B[31;1m\u001B[0m\u001B[1m\u001B[33mwarning\u001B[0m\u001B[0m\u001B[1m: function `parse_operator` is never used\u001B[0m\u001B[0m\n",
      "\u001B[31;1m\u001B[0m   \u001B[0m\u001B[0m\u001B[1m\u001B[38;5;12m--> \u001B[0m\u001B[0m/home/runner/work/polyglot/polyglot/apps/spiral/temp/test/./main.rs:165:4\u001B[0m\u001B[0m\n",
      "\u001B[31;1m\u001B[0m    \u001B[0m\u001B[0m\u001B[1m\u001B[38;5;12m|\u001B[0m\u001B[0m\n",
      "\u001B[31;1m\u001B[0m\u001B[1m\u001B[38;5;12m165\u001B[0m\u001B[0m \u001B[0m\u001B[0m\u001B[1m\u001B[38;5;12m|\u001B[0m\u001B[0m \u001B[0m\u001B[0mfn parse_operator(input: &str) -> IResult<&str, SpiralToken> {\u001B[0m\u001B[0m\n",
      "\u001B[31;1m\u001B[0m    \u001B[0m\u001B[0m\u001B[1m\u001B[38;5;12m|\u001B[0m\u001B[0m    \u001B[0m\u001B[0m\u001B[1m\u001B[33m^^^^^^^^^^^^^^\u001B[0m\u001B[0m\n",
      "\u001B[31;1m\u001B[0m\n",
      "\u001B[31;1m\u001B[0m\u001B[1m\u001B[33mwarning\u001B[0m\u001B[0m\u001B[1m: function `parse_token` is never used\u001B[0m\u001B[0m\n",
      "\u001B[31;1m\u001B[0m   \u001B[0m\u001B[0m\u001B[1m\u001B[38;5;12m--> \u001B[0m\u001B[0m/home/runner/work/polyglot/polyglot/apps/spiral/temp/test/./main.rs:170:4\u001B[0m\u001B[0m\n",
      "\u001B[31;1m\u001B[0m    \u001B[0m\u001B[0m\u001B[1m\u001B[38;5;12m|\u001B[0m\u001B[0m\n",
      "\u001B[31;1m\u001B[0m\u001B[1m\u001B[38;5;12m170\u001B[0m\u001B[0m \u001B[0m\u001B[0m\u001B[1m\u001B[38;5;12m|\u001B[0m\u001B[0m \u001B[0m\u001B[0mfn parse_token(input: &str) -> IResult<&str, SpiralToken> {\u001B[0m\u001B[0m\n",
      "\u001B[31;1m\u001B[0m    \u001B[0m\u001B[0m\u001B[1m\u001B[38;5;12m|\u001B[0m\u001B[0m    \u001B[0m\u001B[0m\u001B[1m\u001B[33m^^^^^^^^^^^\u001B[0m\u001B[0m\n",
      "\u001B[31;1m\u001B[0m\n",
      "\u001B[31;1m\u001B[0m\u001B[1m\u001B[33mwarning\u001B[0m\u001B[0m\u001B[1m: function `format_token` is never used\u001B[0m\u001B[0m\n",
      "\u001B[31;1m\u001B[0m   \u001B[0m\u001B[0m\u001B[1m\u001B[38;5;12m--> \u001B[0m\u001B[0m/home/runner/work/polyglot/polyglot/apps/spiral/temp/test/./main.rs:180:4\u001B[0m\u001B[0m\n",
      "\u001B[31;1m\u001B[0m    \u001B[0m\u001B[0m\u001B[1m\u001B[38;5;12m|\u001B[0m\u001B[0m\n",
      "\u001B[31;1m\u001B[0m\u001B[1m\u001B[38;5;12m180\u001B[0m\u001B[0m \u001B[0m\u001B[0m\u001B[1m\u001B[38;5;12m|\u001B[0m\u001B[0m \u001B[0m\u001B[0mfn format_token(token: &SpiralToken) -> String {\u001B[0m\u001B[0m\n",
      "\u001B[31;1m\u001B[0m    \u001B[0m\u001B[0m\u001B[1m\u001B[38;5;12m|\u001B[0m\u001B[0m    \u001B[0m\u001B[0m\u001B[1m\u001B[33m^^^^^^^^^^^^\u001B[0m\u001B[0m\n",
      "\u001B[31;1m\u001B[0m\n",
      "\u001B[31;1m\u001B[0m\u001B[1m\u001B[33mwarning\u001B[0m\u001B[0m\u001B[1m: function `parse_expression` is never used\u001B[0m\u001B[0m\n",
      "\u001B[31;1m\u001B[0m   \u001B[0m\u001B[0m\u001B[1m\u001B[38;5;12m--> \u001B[0m\u001B[0m/home/runner/work/polyglot/polyglot/apps/spiral/temp/test/./main.rs:201:4\u001B[0m\u001B[0m\n",
      "\u001B[31;1m\u001B[0m    \u001B[0m\u001B[0m\u001B[1m\u001B[38;5;12m|\u001B[0m\u001B[0m\n",
      "\u001B[31;1m\u001B[0m\u001B[1m\u001B[38;5;12m201\u001B[0m\u001B[0m \u001B[0m\u001B[0m\u001B[1m\u001B[38;5;12m|\u001B[0m\u001B[0m \u001B[0m\u001B[0mfn parse_expression(input: &str) -> IResult<&str, SpiralToken> {\u001B[0m\u001B[0m\n",
      "\u001B[31;1m\u001B[0m    \u001B[0m\u001B[0m\u001B[1m\u001B[38;5;12m|\u001B[0m\u001B[0m    \u001B[0m\u001B[0m\u001B[1m\u001B[33m^^^^^^^^^^^^^^^^\u001B[0m\u001B[0m\n",
      "\u001B[31;1m\u001B[0m\n",
      "\u001B[31;1m\u001B[1m\u001B[33mwarning\u001B[0m\u001B[1m:\u001B[0m `spiral_temp_test` (bin \"spiral_temp_test\") generated 11 warnings\u001B[0m\n",
      "\u001B[31;1m\u001B[1m\u001B[32m    Finished\u001B[0m `release` profile [optimized] target(s) in 10.10s\u001B[0m\n"
     ]
    }
   ],
   "source": [
    "cargo +nightly build --release"
   ]
  },
  {
   "cell_type": "markdown",
   "metadata": {},
   "source": [
    "### run release tests with output enabled"
   ]
  },
  {
   "cell_type": "code",
   "execution_count": null,
   "metadata": {
    "dotnet_interactive": {
     "language": "pwsh"
    },
    "polyglot_notebook": {
     "kernelName": "pwsh"
    }
   },
   "outputs": [
    {
     "name": "stdout",
     "output_type": "stream",
     "text": [
      "\u001B[31;1m\u001B[1m\u001B[32m   Compiling\u001B[0m bitflags v2.6.0\u001B[0m\n",
      "\u001B[31;1m\u001B[1m\u001B[32m   Compiling\u001B[0m linux-raw-sys v0.4.14\u001B[0m\n",
      "\u001B[31;1m\u001B[1m\u001B[32m   Compiling\u001B[0m fastrand v2.1.0\u001B[0m\n",
      "\u001B[31;1m\u001B[1m\u001B[32m   Compiling\u001B[0m wait-timeout v0.2.0\u001B[0m\n",
      "\u001B[31;1m\u001B[1m\u001B[32m   Compiling\u001B[0m bit-vec v0.6.3\u001B[0m\n",
      "\u001B[31;1m\u001B[1m\u001B[32m   Compiling\u001B[0m quick-error v1.2.3\u001B[0m\n",
      "\u001B[31;1m\u001B[1m\u001B[32m   Compiling\u001B[0m fnv v1.0.7\u001B[0m\n",
      "\u001B[31;1m\u001B[1m\u001B[32m   Compiling\u001B[0m bit-set v0.5.3\u001B[0m\n",
      "\u001B[31;1m\u001B[1m\u001B[32m   Compiling\u001B[0m num-traits v0.2.19\u001B[0m\n",
      "\u001B[31;1m\u001B[1m\u001B[32m   Compiling\u001B[0m rand v0.8.5\u001B[0m\n",
      "\u001B[31;1m\u001B[1m\u001B[32m   Compiling\u001B[0m rustix v0.38.34\u001B[0m\n",
      "\u001B[31;1m\u001B[1m\u001B[32m   Compiling\u001B[0m rand_xorshift v0.3.0\u001B[0m\n",
      "\u001B[31;1m\u001B[1m\u001B[32m   Compiling\u001B[0m memchr v2.7.4\u001B[0m\n",
      "\u001B[31;1m\u001B[1m\u001B[32m   Compiling\u001B[0m minimal-lexical v0.2.1\u001B[0m\n",
      "\u001B[31;1m\u001B[1m\u001B[32m   Compiling\u001B[0m unarray v0.1.4\u001B[0m\n",
      "\u001B[31;1m\u001B[1m\u001B[32m   Compiling\u001B[0m fable_library_rust v0.1.0 (/home/runner/work/polyglot/polyglot/lib/rust/fable/fable_modules/fable-library-rust)\u001B[0m\n",
      "\u001B[31;1m\u001B[1m\u001B[32m   Compiling\u001B[0m nom v7.1.3\u001B[0m\n",
      "\u001B[31;1m\u001B[1m\u001B[32m   Compiling\u001B[0m thiserror v1.0.61\u001B[0m\n",
      "\u001B[31;1m\u001B[1m\u001B[32m   Compiling\u001B[0m tempfile v3.10.1\u001B[0m\n",
      "\u001B[31;1m\u001B[1m\u001B[32m   Compiling\u001B[0m rusty-fork v0.3.0\u001B[0m\n",
      "\u001B[31;1m\u001B[1m\u001B[32m   Compiling\u001B[0m proptest v1.4.0\u001B[0m\n",
      "\u001B[31;1m\u001B[1m\u001B[32m   Compiling\u001B[0m spiral_temp_test v0.0.1 (/home/runner/work/polyglot/polyglot/apps/spiral/temp/test)\u001B[0m\n",
      "\u001B[31;1m\u001B[1m\u001B[32m    Finished\u001B[0m `release` profile [optimized] target(s) in 15.75s\u001B[0m\n",
      "\u001B[31;1m\u001B[1m\u001B[32m     Running\u001B[0m unittests main.rs (/home/runner/work/polyglot/polyglot/workspace/target/release/deps/spiral_temp_test-9729c70fad95199d)\u001B[0m\n",
      "\n",
      "running 3 tests\n",
      "test test_parse_number ... ok\n",
      "test prop_parse_format_idempotent ... ok\n",
      "test adding_and_then_removing_an_item_from_the_cart_leaves_the_cart_unchanged ... ok\n",
      "\n",
      "successes:\n",
      "\n",
      "---- prop_parse_format_idempotent stdout ----\n",
      "input=Operator(\"=\")\n",
      "input=StringLiteral(\"_`'($Rq{>cy5U\")\n",
      "input=Integer(-1535308232869577000)\n",
      "input=Comment(\"*<g&2:@'{{/'~\")\n",
      "input=Integer(5367885305750010098)\n",
      "input=Comment(\"={:%w.Z<?</&$\\\\R^E.\\\"xH`\")\n",
      "input=StringLiteral(\"?/MFzeO'r_(xkEp:=XD0'fD8~a{1N\")\n",
      "input=Operator(\")\")\n",
      "input=Identifier(\"Fb80X33G6z6L4o09wDR2Ky3x9k7\")\n",
      "input=Operator(\"(\")\n",
      "input=Comment(\"zGU0A*cE]\\\\5%-q_)\")\n",
      "input=Comment(\"9:i2*=\\\\@/p3C\")\n",
      "input=Integer(-5227817765927473920)\n",
      "input=Integer(-1446158669271827464)\n",
      "input=Integer(-2696079818998026140)\n",
      "input=StringLiteral(\"%/A.I\")\n",
      "input=StringLiteral(\"'<c~?<=_'@]'K\")\n",
      "input=Identifier(\"VJ3tjS6DhhXrl58cT8\")\n",
      "input=Operator(\"/\")\n",
      "input=Integer(4362927597705140926)\n",
      "input=Integer(4794825320377498777)\n",
      "input=Comment(\"*#{Ho\\\\iXr*+s&Fjm`'9d\")\n",
      "input=StringLiteral(\"39E~#?/mu8\")\n",
      "input=Integer(-4965531411524924769)\n",
      "input=StringLiteral(\"`T.+12P`$CDv=7M'<\")\n",
      "input=Comment(\"a?N\\\"\\\":5h(/R5K*.&f`0HD9\")\n",
      "input=Identifier(\"fjN99Dz7oO34BXl\")\n",
      "input=Integer(-7666373561225732109)\n",
      "input=StringLiteral(\"u8e*Y\")\n",
      "input=Comment(\"jay#w8aJQ6{\")\n",
      "input=StringLiteral(\"_c;}Ep)q&`(v<=g\")\n",
      "input=Comment(\"[?ra7O)r=`G/\\\"V?F8*W\\\"j<PqFg&r_h=G\")\n",
      "input=Integer(9062175009724475418)\n",
      "input=Operator(\")\")\n",
      "input=Identifier(\"NwfAdubdvoUQFZv0rTA8g4qiJ0\")\n",
      "input=Identifier(\"aKmLoXem8SB9nZ13AQfboZAW\")\n",
      "input=Comment(\"@dr\")\n",
      "input=Operator(\"/\")\n",
      "input=Operator(\"(\")\n",
      "input=Identifier(\"G4h6x\")\n",
      "input=Identifier(\"Y7R4aac5yTgzTMi7nX4I\")\n",
      "input=Integer(7859553869950003707)\n",
      "input=Operator(\"-\")\n",
      "input=Comment(\"h%K:i$\\\\`4Jr\\\\Q/<{&{d&\")\n",
      "input=Identifier(\"sJZ4fRtFJzErC2wd\")\n",
      "input=StringLiteral(\"b*.;AR\")\n",
      "input=Identifier(\"I085fPELftL7CSLL1EOGnZ3jM2L9Rs2\")\n",
      "input=StringLiteral(\"|C:E&&9/JHh)$0v:&*7@.0xH\")\n",
      "input=Comment(\"h,]\")\n",
      "input=Integer(8425693063162125078)\n",
      "input=Operator(\"*\")\n",
      "input=Comment(\"*Lsu<%/\")\n",
      "input=Operator(\"-\")\n",
      "input=Identifier(\"x\")\n",
      "input=Identifier(\"J7bA1PAz\")\n",
      "input=Identifier(\"A\")\n",
      "input=Integer(-4103859071198733419)\n",
      "input=Integer(1659585943977443933)\n",
      "input=Comment(\"b\")\n",
      "input=Comment(\"*(n\\\"8&=IA'fB'2c*3J\")\n",
      "input=Identifier(\"c\")\n",
      "input=Integer(5974268184173475577)\n",
      "input=Comment(\"$Uh?#&Ie9Wpwx<04'`-9x\\\\CS|\")\n",
      "input=Identifier(\"ihsDsHM364sAL3fXhAsk0BMNA175jDV\")\n",
      "input=Identifier(\"i\")\n",
      "input=Comment(\"'_<Nre?v\\\\JMN{$Xt/$zUHvi\")\n",
      "input=Integer(7818159141813171311)\n",
      "input=Identifier(\"mCiSOj5VT31o\")\n",
      "input=Operator(\")\")\n",
      "input=Identifier(\"nXS5F210Is9tbaaE\")\n",
      "input=Comment(\"% MD4@\")\n",
      "input=Comment(\"*u]'=/n4vFJQ.Pz%.@ \")\n",
      "input=Operator(\"+\")\n",
      "input=Operator(\"=\")\n",
      "input=Integer(5594952801041670832)\n",
      "input=StringLiteral(\"rc%\")\n",
      "input=StringLiteral(\"Q,[X(O<Ec7<{X'q?Pu-[/h\")\n",
      "input=Identifier(\"djFn7Id9hCnLxnkEAum99PrX3\")\n",
      "input=Operator(\"-\")\n",
      "input=Identifier(\"zmYMgW\")\n",
      "input=StringLiteral(\"f'`b:12D\")\n",
      "input=Identifier(\"YBmenb3oBSQm3K\")\n",
      "input=Operator(\")\")\n",
      "input=Integer(116170479016232112)\n",
      "input=Identifier(\"QYLJcnxL11ih5e\")\n",
      "input=StringLiteral(\"/Dn~'&T7<\")\n",
      "input=Integer(5534228472819117267)\n",
      "input=Operator(\"(\")\n",
      "input=StringLiteral(\"#K';)<{O:G%r,>\")\n",
      "input=Identifier(\"A425V2rUwtmTZSLqbW2JKg0qQ9k\")\n",
      "input=Operator(\"(\")\n",
      "input=StringLiteral(\"_%l]b$L7%)zm>%*<9n:/\")\n",
      "input=Identifier(\"ApfbDT4XYk1dJa7k3y1sYn7xzC0QZx4uA\")\n",
      "input=Comment(\"\\\\1'b}.$/%/Reu{=#/\")\n",
      "input=Comment(\" \\\"k\\\"Cw\")\n",
      "input=Comment(\"\\\\:K6^>Z<=D\\\"LCg!CV*\")\n",
      "input=Comment(\"zPP{\\\":;e(ul&`H/\")\n",
      "input=Comment(\"\")\n",
      "input=Operator(\"-\")\n",
      "input=Operator(\"*\")\n",
      "input=StringLiteral(\"!;:7g_m:;wk?`.*#I1 ;yo.%.cN6\")\n",
      "input=StringLiteral(\"s=K?*C%'TNPqOf\")\n",
      "input=Integer(3102626800400966823)\n",
      "input=Integer(5921503343608744617)\n",
      "input=Comment(\"K=2pn;c\")\n",
      "input=Comment(\"*Cw_1Q9{\\\"T$f\")\n",
      "input=Identifier(\"Cw3tjDtV5ODlFq9YFY4750N4w\")\n",
      "input=Integer(-3525398986422638806)\n",
      "input=StringLiteral(\"; %9X{A*^~%~d$3.5'H7G\")\n",
      "input=Comment(\"]''dk*\")\n",
      "input=Operator(\"(\")\n",
      "input=Operator(\"=\")\n",
      "input=Comment(\"\\\"\\\"^1=']A|9pPuK8CkSO.[gU(&\")\n",
      "input=Integer(-8403808290340326541)\n",
      "input=StringLiteral(\"o$DRD_vS%l?\")\n",
      "input=StringLiteral(\"3n/Mw'>rSbs)jYU;%,Urq8bOb`0\")\n",
      "input=Operator(\"-\")\n",
      "input=Operator(\"-\")\n",
      "input=Integer(-3564985260796086230)\n",
      "input=Integer(-5255751279814337061)\n",
      "input=Operator(\"(\")\n",
      "input=Operator(\"+\")\n",
      "input=Comment(\"or%&&_E%N'R?-BP{R>0iN@.6Sxd)23\")\n",
      "input=Identifier(\"f9Sfnc6dGCNtb4x\")\n",
      "input=Integer(821654462432245070)\n",
      "input=Operator(\"/\")\n",
      "input=StringLiteral(\"wiH'*oD`i$&AF,s5W\")\n",
      "input=Comment(\".q N5wg[UT\")\n",
      "input=Identifier(\"jlD98TE372JMRlM759WcxO0MlK\")\n",
      "input=Operator(\"-\")\n",
      "input=Comment(\"aZ:gB.=Jq&k`O\")\n",
      "input=Operator(\"+\")\n",
      "input=Identifier(\"oi6qJ52R7\")\n",
      "input=Identifier(\"NHXjZJ8yvXc1iAuS\")\n",
      "input=Identifier(\"I9ttVgQ\")\n",
      "input=Identifier(\"bY\")\n",
      "input=Operator(\"(\")\n",
      "input=Comment(\"&%?q\\\\;revd*6Fhh8-kB3\")\n",
      "input=StringLiteral(\"UaB>*!+G{s`AV\")\n",
      "input=Operator(\"-\")\n",
      "input=StringLiteral(\"$-d]?(?'Hx$:yN5<(7!\")\n",
      "input=Integer(-3223636360278407872)\n",
      "input=Comment(\".zCZ5rF/Xa9&0rH[}\")\n",
      "input=Operator(\"/\")\n",
      "input=Integer(-1483281463149029447)\n",
      "input=Operator(\"/\")\n",
      "input=Operator(\")\")\n",
      "input=Comment(\"'/K'j*i4JF\\\"%zxL9\\\":P*nU'HF`MjU3s\")\n",
      "input=Identifier(\"XFH6UXMH87zCP0WJ0rSQKdfHLm\")\n",
      "input=StringLiteral(\":sS\")\n",
      "input=Comment(\"7#+8w&*J}'`3W\")\n",
      "input=Identifier(\"u7F\")\n",
      "input=Operator(\"(\")\n",
      "input=Identifier(\"U4Q\")\n",
      "input=Comment(\"6:C'Jq%P<0LD%:g:RM\")\n",
      "input=StringLiteral(\"S8'*+tI?_gM/D^G0\")\n",
      "input=Comment(\"~ol{\")\n",
      "input=Operator(\"+\")\n",
      "input=Operator(\"-\")\n",
      "input=Identifier(\"Enph9LT0oBS7oIQlAiMg4LfK9Z\")\n",
      "input=StringLiteral(\"GX{i;<IX*jf(p'Dn\")\n",
      "input=Integer(-6872605189781600891)\n",
      "input=Identifier(\"AX9xDwTMU4UZEflmHXS88YmQj7Cg\")\n",
      "input=StringLiteral(\">Q[.\")\n",
      "input=Integer(-6144406034900517411)\n",
      "input=StringLiteral(\"c %jQXE{:M?#&=M~Mf=l.M\")\n",
      "input=StringLiteral(\"'vev.1h8c`?.$Yaxua-?{o%;'=_iJ\")\n",
      "input=Comment(\"Z\\\\F\\\\C/:g5u\\\"Q7oS\\\"?xLLot-{;h\")\n",
      "input=Integer(-315585276815976390)\n",
      "input=Operator(\"(\")\n",
      "input=Comment(\"n?O?/.|:l#?y\")\n",
      "input=StringLiteral(\"kN]!;?fVjxy|'c=*z6/Xd3$&.yIG$\")\n",
      "input=Comment(\"\\\\#3P\\\"\\\\;Bz&{Ec\")\n",
      "input=StringLiteral(\"PlAl&b<`y<03l{7ON[CK9?\")\n",
      "input=Identifier(\"bUA8lub9RLQ\")\n",
      "input=Operator(\"(\")\n",
      "input=Integer(2216546496368161281)\n",
      "input=Identifier(\"VgAKUA9N8xNdl5F635LGIb4o5E82q3g\")\n",
      "input=Comment(\"*=.\")\n",
      "input=StringLiteral(\"=d<(S&fN{x~frvP\")\n",
      "input=Operator(\"/\")\n",
      "input=StringLiteral(\"%|3Q%a':GRrgpO%mTO~ 6*!&?F\")\n",
      "input=Comment(\"O)\\\"*`?DsC;~qP?`ID=mq?30&`rjq=4OT\")\n",
      "input=StringLiteral(\"?YH>Ud5jU}/{\")\n",
      "input=Identifier(\"nGU6nz0aLiOswUDszy\")\n",
      "input=Identifier(\"meJ0Hm9iEjvGfelcH5Xz\")\n",
      "input=StringLiteral(\"^.(/\")\n",
      "input=Operator(\")\")\n",
      "input=Integer(-206507543507634698)\n",
      "input=Comment(\"/|=SjL?Y3]iG+UbF<ZwP4f/!:U*\")\n",
      "input=StringLiteral(\"k&*3y,Zo<.8:9\")\n",
      "input=Comment(\"3=:pG\\\\\")\n",
      "input=StringLiteral(\"#'%-IF#/a$<=gN\")\n",
      "input=Identifier(\"TP7hKx7574dZFtCXR\")\n",
      "input=Comment(\"\\\"4'ZO`u:mi\")\n",
      "input=Operator(\")\")\n",
      "input=StringLiteral(\"=`mI]e\")\n",
      "input=Operator(\"-\")\n",
      "input=Identifier(\"zGq57jXr\")\n",
      "input=Identifier(\"WRJlzy7BSc\")\n",
      "input=StringLiteral(\">&C$(j*@Gzotk0_V`v:'$d ne_\")\n",
      "input=Operator(\"+\")\n",
      "input=Integer(-8879293528999075363)\n",
      "input=StringLiteral(\"z{0^=UQc[jl<V|j\")\n",
      "input=StringLiteral(\"{5:w=O-=$o)bX~em%8}rP\")\n",
      "input=Operator(\")\")\n",
      "input=StringLiteral(\"=#ru}@BS;*XUX:8 *{>*a\")\n",
      "input=Integer(-8986087872247829726)\n",
      "input=Operator(\")\")\n",
      "input=StringLiteral(\"Wa~h($mM,`jh 8iw*#j{^<1\")\n",
      "input=Comment(\".Zk<]8,2=6\\\"$g&dy$!'{\")\n",
      "input=Identifier(\"yhnMZNpB2kP\")\n",
      "input=Identifier(\"sk1ZHY31\")\n",
      "input=StringLiteral(\"/8wL,GI<11v@\")\n",
      "input=Comment(\"&~&F:b\\\",/l~T=`UrA#$A.&`._9?N\")\n",
      "input=StringLiteral(\"v!Yq[:(X//u@)s&jgro^?xu\")\n",
      "input=Identifier(\"aV3L0KJniDX\")\n",
      "input=Identifier(\"B\")\n",
      "input=Operator(\"-\")\n",
      "input=StringLiteral(\"|Tp`<*&Rc@<\")\n",
      "input=Integer(3356616360936523434)\n",
      "input=Identifier(\"V3SxR6jxjmm7yJRaAqZG3i\")\n",
      "input=Operator(\"/\")\n",
      "input=Operator(\"(\")\n",
      "input=StringLiteral(\"']f=c:D7Y.G1Zg7&_z:\")\n",
      "input=Integer(4364649378815357725)\n",
      "input=Comment(\"5%5JCY\\\\r\")\n",
      "input=Operator(\"-\")\n",
      "input=StringLiteral(\"f=_&Ja*%R'/\")\n",
      "input=Integer(9022414058374624786)\n",
      "input=Operator(\")\")\n",
      "input=Comment(\"!**v\\\\mm$OM4v%@&\")\n",
      "input=StringLiteral(\".j{v\")\n",
      "input=StringLiteral(\"U{O!4' :'.:GrZwZ>I`)=*a=?a*bl?A\")\n",
      "input=Comment(\"2b9:U/4|'8Xx\\\"SD4<i%$Zy(w\")\n",
      "input=StringLiteral(\"'EREu:=M&+\")\n",
      "input=StringLiteral(\"=$kG`i$/%'s:;W#* {*KW;*<\")\n",
      "input=Identifier(\"mL69V4\")\n",
      "input=Integer(874601104308232673)\n",
      "input=Integer(7172181960716847816)\n",
      "input=StringLiteral(\"HF)&'K{%&]',F'~<+IAy$pP`<Q='s{\")\n",
      "input=StringLiteral(\"fI=4DF(|R8y'{!&f,r`}/n?r}XS\")\n",
      "input=Comment(\"=_5%yB@<N%&I+m{r{6R7ia}:L=[udj\\\"=\")\n",
      "input=Comment(\"e\\\"m*BP+h7>\")\n",
      "input=StringLiteral(\"5{q{ZBQ**7P/*_%w\")\n",
      "input=Operator(\"/\")\n",
      "input=StringLiteral(\">h$tK5R^#&ck\")\n",
      "input=Comment(\"<\\\"!`wWM]W=uWFmA_O\")\n",
      "input=Identifier(\"DRzqEf7ke5H4j\")\n",
      "input=Comment(\"?\")\n",
      "input=Identifier(\"b9vo960IlS3FC64\")\n",
      "input=StringLiteral(\"P$_JTW?:3`?\")\n",
      "input=Integer(3741544246950197241)\n",
      "input=Integer(4589677295749907547)\n",
      "input=Identifier(\"yuyI34p343lrGO4tDYUO\")\n",
      "input=StringLiteral(\"<.p=sq**;p.<'zZP%\")\n",
      "\n",
      "\n",
      "successes:\n",
      "    adding_and_then_removing_an_item_from_the_cart_leaves_the_cart_unchanged\n",
      "    prop_parse_format_idempotent\n",
      "    test_parse_number\n",
      "\n",
      "test result: ok. 3 passed; 0 failed; 0 ignored; 0 measured; 0 filtered out; finished in 0.07s\n",
      "\n"
     ]
    }
   ],
   "source": [
    "{ cargo +nightly test --release -- --show-output } | Invoke-Block"
   ]
  },
  {
   "cell_type": "markdown",
   "metadata": {},
   "source": [
    "### execute the binary in release mode"
   ]
  },
  {
   "cell_type": "code",
   "execution_count": null,
   "metadata": {
    "dotnet_interactive": {
     "language": "pwsh"
    },
    "polyglot_notebook": {
     "kernelName": "pwsh"
    }
   },
   "outputs": [
    {
     "name": "stdout",
     "output_type": "stream",
     "text": [
      "app=test\n"
     ]
    }
   ],
   "source": [
    "{ . $ScriptDir/../../../../workspace/target/release/spiral_temp_test$(_exe) } | Invoke-Block"
   ]
  }
 ],
 "metadata": {},
 "nbformat": 4,
 "nbformat_minor": 5
}