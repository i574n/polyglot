{
 "cells": [
  {
   "cell_type": "markdown",
   "metadata": {},
   "source": [
    "# test"
   ]
  },
  {
   "cell_type": "markdown",
   "metadata": {},
   "source": [
    "## include scripts"
   ]
  },
  {
   "cell_type": "markdown",
   "metadata": {},
   "source": [
    "### include notebook core"
   ]
  },
  {
   "cell_type": "code",
   "execution_count": null,
   "metadata": {
    "dotnet_interactive": {
     "language": "pwsh"
    },
    "polyglot_notebook": {
     "kernelName": "pwsh"
    }
   },
   "outputs": [],
   "source": [
    ". ../../../../scripts/nbs_header.ps1"
   ]
  },
  {
   "cell_type": "markdown",
   "metadata": {},
   "source": [
    "### Include core functions script"
   ]
  },
  {
   "cell_type": "code",
   "execution_count": null,
   "metadata": {
    "dotnet_interactive": {
     "language": "pwsh"
    },
    "polyglot_notebook": {
     "kernelName": "pwsh"
    }
   },
   "outputs": [],
   "source": [
    ". ../../../../scripts/core.ps1"
   ]
  },
  {
   "cell_type": "markdown",
   "metadata": {},
   "source": [
    "### Include spiral library"
   ]
  },
  {
   "cell_type": "code",
   "execution_count": null,
   "metadata": {
    "dotnet_interactive": {
     "language": "pwsh"
    },
    "polyglot_notebook": {
     "kernelName": "pwsh"
    }
   },
   "outputs": [],
   "source": [
    ". ../../../../deps/spiral/lib/spiral/lib.ps1"
   ]
  },
  {
   "cell_type": "markdown",
   "metadata": {},
   "source": [
    "## execute project commands"
   ]
  },
  {
   "cell_type": "markdown",
   "metadata": {},
   "source": [
    "### run notebook with retries using spiral supervisor"
   ]
  },
  {
   "cell_type": "code",
   "execution_count": null,
   "metadata": {
    "dotnet_interactive": {
     "language": "pwsh"
    },
    "polyglot_notebook": {
     "kernelName": "pwsh"
    }
   },
   "outputs": [
    {
     "name": "stdout",
     "output_type": "stream",
     "text": [
      "00:00:00 \u001B[94md\u001B[0m #1 runtime.execute_with_options_async / { file_name = ../../../../deps/spiral/workspace/target/release/spiral; arguments = US5_0 \"dib --path test.dib --retries 3\"; options = { command = ../../../../deps/spiral/workspace/target/release/spiral dib --path test.dib --retries 3; cancellation_token = Some System.Threading.CancellationToken; environment_variables = [||]; on_line = None; stdin = None; trace = true; working_directory = None } }\n",
      "00:00:12 \u001B[94md\u001B[0m #2 runtime.execute_with_options_async / { exit_code = 0; output_length = 32177; options = { command = ../../../../deps/spiral/workspace/target/release/spiral dib --path test.dib --retries 3; cancellation_token = Some System.Threading.CancellationToken; environment_variables = [||]; on_line = None; stdin = None; trace = true; working_directory = None } }\n",
      "00:00:12 \u001B[94md\u001B[0m #1 main / executeCommand / exitCode: 0 / command: ../../../../deps/spiral/workspace/target/release/spiral dib --path test.dib --retries 3\n"
     ]
    }
   ],
   "source": [
    "{ . ../../../../apps/spiral/dist/Supervisor$(_exe) --execute-command \"../../../../deps/spiral/workspace/target/release/spiral$(_exe) dib --path test.dib --retries 3\" } | Invoke-Block"
   ]
  },
  {
   "cell_type": "markdown",
   "metadata": {},
   "source": [
    "### parse the .dib file into .spi format with dibparser"
   ]
  },
  {
   "cell_type": "code",
   "execution_count": null,
   "metadata": {
    "dotnet_interactive": {
     "language": "pwsh"
    },
    "polyglot_notebook": {
     "kernelName": "pwsh"
    }
   },
   "outputs": [
    {
     "name": "stdout",
     "output_type": "stream",
     "text": [
      "00:00:00 \u001B[94md\u001B[0m #1 writeDibCode / output: Spi / path: test.dib\n",
      "00:00:00 \u001B[94md\u001B[0m #2 parseDibCode / output: Spi / file: test.dib\n"
     ]
    }
   ],
   "source": [
    "{ . ../../../../apps/parser/dist/DibParser$(_exe) test.dib spi } | Invoke-Block"
   ]
  },
  {
   "cell_type": "markdown",
   "metadata": {},
   "source": [
    "### build .fsx file from .spi using supervisor"
   ]
  },
  {
   "cell_type": "code",
   "execution_count": null,
   "metadata": {
    "dotnet_interactive": {
     "language": "pwsh"
    },
    "polyglot_notebook": {
     "kernelName": "pwsh"
    }
   },
   "outputs": [
    {
     "name": "stdout",
     "output_type": "stream",
     "text": [
      "<test>\n",
      "</test>\n"
     ]
    }
   ],
   "source": [
    "{ . ../../../../apps/spiral/dist/Supervisor$(_exe) --build-file test.spi test.fsx } | Invoke-Block"
   ]
  },
  {
   "cell_type": "markdown",
   "metadata": {},
   "source": [
    "## compile and format the project"
   ]
  },
  {
   "cell_type": "markdown",
   "metadata": {},
   "source": [
    "### compile project with fable targeting optimized rust"
   ]
  },
  {
   "cell_type": "code",
   "execution_count": null,
   "metadata": {
    "dotnet_interactive": {
     "language": "pwsh"
    },
    "polyglot_notebook": {
     "kernelName": "pwsh"
    }
   },
   "outputs": [
    {
     "name": "stdout",
     "output_type": "stream",
     "text": [
      "\u001B[37mFable 5.0.0-alpha.9: F# to Rust compiler (status: alpha)\n",
      "\u001B[37m\n",
      "Thanks to the contributor! @damonmcminn\n",
      "\u001B[37mStand with Ukraine! https://standwithukraine.com.ua/\n",
      "\n",
      "\u001B[37mParsing test.fsproj...\n",
      "\u001B[37mProject and references (1 source files) parsed in 2357ms\n",
      "\n",
      "\u001B[37mStarted Fable compilation...\n",
      "\u001B[37m\n",
      "Fable compilation finished in 1118ms\n",
      "\n",
      "\u001B[33m./test.fsx(11,0): (11,2) warning FABLE: For Rust, support for F# static and module do bindings is disabled by default. It can be enabled with the 'static_do_bindings' feature. Use at your own risk!\n"
     ]
    }
   ],
   "source": [
    "dotnet fable --optimize --lang rs --extension .rs"
   ]
  },
  {
   "cell_type": "markdown",
   "metadata": {},
   "source": [
    "### fix formatting issues in the .rs file using regex and set-content"
   ]
  },
  {
   "cell_type": "code",
   "execution_count": null,
   "metadata": {
    "dotnet_interactive": {
     "language": "pwsh"
    },
    "polyglot_notebook": {
     "kernelName": "pwsh"
    }
   },
   "outputs": [],
   "source": [
    "(Get-Content test.rs) `\n",
    "    -replace [regex]::Escape(\"),);\"), \"));\" `\n",
    "    | FixRust `\n",
    "| Set-Content test.rs"
   ]
  },
  {
   "cell_type": "markdown",
   "metadata": {},
   "source": [
    "### format the rust code using cargo fmt"
   ]
  },
  {
   "cell_type": "code",
   "execution_count": null,
   "metadata": {
    "dotnet_interactive": {
     "language": "pwsh"
    },
    "polyglot_notebook": {
     "kernelName": "pwsh"
    }
   },
   "outputs": [],
   "source": [
    "cargo fmt --"
   ]
  },
  {
   "cell_type": "markdown",
   "metadata": {},
   "source": [
    "## build and test the project"
   ]
  },
  {
   "cell_type": "markdown",
   "metadata": {},
   "source": [
    "### build the project in release mode using nightly rust compiler"
   ]
  },
  {
   "cell_type": "code",
   "execution_count": null,
   "metadata": {
    "dotnet_interactive": {
     "language": "pwsh"
    },
    "polyglot_notebook": {
     "kernelName": "pwsh"
    }
   },
   "outputs": [
    {
     "name": "stdout",
     "output_type": "stream",
     "text": [
      "\u001B[31;1m\u001B[1m\u001B[32m   Compiling\u001B[0m byteorder v1.5.0\u001B[0m\n",
      "\u001B[31;1m\u001B[1m\u001B[32m   Compiling\u001B[0m syn v2.0.90\u001B[0m\n",
      "\u001B[31;1m\u001B[1m\u001B[32m   Compiling\u001B[0m getrandom v0.2.15\u001B[0m\n",
      "\u001B[31;1m\u001B[1m\u001B[32m   Compiling\u001B[0m linux-raw-sys v0.4.14\u001B[0m\n",
      "\u001B[31;1m\u001B[1m\u001B[32m   Compiling\u001B[0m num-traits v0.2.19\u001B[0m\n",
      "\u001B[31;1m\u001B[1m\u001B[32m   Compiling\u001B[0m rand_core v0.6.4\u001B[0m\n",
      "\u001B[31;1m\u001B[1m\u001B[32m   Compiling\u001B[0m once_cell v1.20.2\u001B[0m\n",
      "\u001B[31;1m\u001B[1m\u001B[32m   Compiling\u001B[0m rustix v0.38.42\u001B[0m\n",
      "\u001B[31;1m\u001B[1m\u001B[32m   Compiling\u001B[0m libm v0.2.11\u001B[0m\n",
      "\u001B[31;1m\u001B[1m\u001B[32m   Compiling\u001B[0m wait-timeout v0.2.0\u001B[0m\n",
      "\u001B[31;1m\u001B[1m\u001B[32m   Compiling\u001B[0m quick-error v1.2.3\u001B[0m\n",
      "\u001B[31;1m\u001B[1m\u001B[32m   Compiling\u001B[0m bit-vec v0.6.3\u001B[0m\n",
      "\u001B[31;1m\u001B[1m\u001B[32m   Compiling\u001B[0m bit-set v0.5.3\u001B[0m\n",
      "\u001B[31;1m\u001B[1m\u001B[32m   Compiling\u001B[0m rand_xorshift v0.3.0\u001B[0m\n",
      "\u001B[31;1m\u001B[1m\u001B[32m   Compiling\u001B[0m unarray v0.1.4\u001B[0m\n",
      "\u001B[31;1m\u001B[1m\u001B[32m   Compiling\u001B[0m memchr v2.7.4\u001B[0m\n",
      "\u001B[31;1m\u001B[1m\u001B[32m   Compiling\u001B[0m fable_library_rust v0.1.0 (/home/runner/work/polyglot/polyglot/lib/rust/fable/fable_modules/fable-library-rust)\u001B[0m\n",
      "\u001B[31;1m\u001B[1m\u001B[32m   Compiling\u001B[0m tempfile v3.14.0\u001B[0m\n",
      "\u001B[31;1m\u001B[1m\u001B[32m   Compiling\u001B[0m rusty-fork v0.3.0\u001B[0m\n",
      "\u001B[31;1m\u001B[1m\u001B[32m   Compiling\u001B[0m zerocopy-derive v0.7.35\u001B[0m\n",
      "\u001B[31;1m\u001B[1m\u001B[32m   Compiling\u001B[0m thiserror-impl v1.0.69\u001B[0m\n",
      "\u001B[31;1m\u001B[1m\u001B[32m   Compiling\u001B[0m nom v7.1.3\u001B[0m\n",
      "\u001B[31;1m\u001B[1m\u001B[32m   Compiling\u001B[0m zerocopy v0.7.35\u001B[0m\n",
      "\u001B[31;1m\u001B[1m\u001B[32m   Compiling\u001B[0m thiserror v1.0.69\u001B[0m\n",
      "\u001B[31;1m\u001B[1m\u001B[32m   Compiling\u001B[0m ppv-lite86 v0.2.20\u001B[0m\n",
      "\u001B[31;1m\u001B[1m\u001B[32m   Compiling\u001B[0m rand_chacha v0.3.1\u001B[0m\n",
      "\u001B[31;1m\u001B[1m\u001B[32m   Compiling\u001B[0m rand v0.8.5\u001B[0m\n",
      "\u001B[31;1m\u001B[1m\u001B[32m   Compiling\u001B[0m proptest v1.5.0\u001B[0m\n",
      "\u001B[31;1m\u001B[1m\u001B[32m   Compiling\u001B[0m spiral_temp_test v0.0.1 (/home/runner/work/polyglot/polyglot/apps/spiral/temp/test)\u001B[0m\n",
      "\u001B[31;1m\u001B[1m\u001B[32m    Finished\u001B[0m `release` profile [optimized] target(s) in 10.52s\u001B[0m\n"
     ]
    }
   ],
   "source": [
    "cargo build --release"
   ]
  },
  {
   "cell_type": "markdown",
   "metadata": {},
   "source": [
    "### run release tests with output enabled"
   ]
  },
  {
   "cell_type": "code",
   "execution_count": null,
   "metadata": {
    "dotnet_interactive": {
     "language": "pwsh"
    },
    "polyglot_notebook": {
     "kernelName": "pwsh"
    }
   },
   "outputs": [
    {
     "name": "stdout",
     "output_type": "stream",
     "text": [
      "\u001B[31;1m\u001B[1m\u001B[32m   Compiling\u001B[0m linux-raw-sys v0.4.14\u001B[0m\n",
      "\u001B[31;1m\u001B[1m\u001B[32m   Compiling\u001B[0m zerocopy v0.7.35\u001B[0m\n",
      "\u001B[31;1m\u001B[1m\u001B[32m   Compiling\u001B[0m bitflags v2.6.0\u001B[0m\n",
      "\u001B[31;1m\u001B[1m\u001B[32m   Compiling\u001B[0m fastrand v2.3.0\u001B[0m\n",
      "\u001B[31;1m\u001B[1m\u001B[32m   Compiling\u001B[0m once_cell v1.20.2\u001B[0m\n",
      "\u001B[31;1m\u001B[1m\u001B[32m   Compiling\u001B[0m wait-timeout v0.2.0\u001B[0m\n",
      "\u001B[31;1m\u001B[1m\u001B[32m   Compiling\u001B[0m bit-vec v0.6.3\u001B[0m\n",
      "\u001B[31;1m\u001B[1m\u001B[32m   Compiling\u001B[0m rustix v0.38.42\u001B[0m\n",
      "\u001B[31;1m\u001B[1m\u001B[32m   Compiling\u001B[0m fnv v1.0.7\u001B[0m\n",
      "\u001B[31;1m\u001B[1m\u001B[32m   Compiling\u001B[0m quick-error v1.2.3\u001B[0m\n",
      "\u001B[31;1m\u001B[1m\u001B[32m   Compiling\u001B[0m bit-set v0.5.3\u001B[0m\n",
      "\u001B[31;1m\u001B[1m\u001B[32m   Compiling\u001B[0m num-traits v0.2.19\u001B[0m\n",
      "\u001B[31;1m\u001B[1m\u001B[32m   Compiling\u001B[0m ppv-lite86 v0.2.20\u001B[0m\n",
      "\u001B[31;1m\u001B[1m\u001B[32m   Compiling\u001B[0m rand_xorshift v0.3.0\u001B[0m\n",
      "\u001B[31;1m\u001B[1m\u001B[32m   Compiling\u001B[0m unarray v0.1.4\u001B[0m\n",
      "\u001B[31;1m\u001B[1m\u001B[32m   Compiling\u001B[0m memchr v2.7.4\u001B[0m\n",
      "\u001B[31;1m\u001B[1m\u001B[32m   Compiling\u001B[0m rand_chacha v0.3.1\u001B[0m\n",
      "\u001B[31;1m\u001B[1m\u001B[32m   Compiling\u001B[0m rand v0.8.5\u001B[0m\n",
      "\u001B[31;1m\u001B[1m\u001B[32m   Compiling\u001B[0m lazy_static v1.5.0\u001B[0m\n",
      "\u001B[31;1m\u001B[1m\u001B[32m   Compiling\u001B[0m minimal-lexical v0.2.1\u001B[0m\n",
      "\u001B[31;1m\u001B[1m\u001B[32m   Compiling\u001B[0m nom v7.1.3\u001B[0m\n",
      "\u001B[31;1m\u001B[1m\u001B[32m   Compiling\u001B[0m fable_library_rust v0.1.0 (/home/runner/work/polyglot/polyglot/lib/rust/fable/fable_modules/fable-library-rust)\u001B[0m\n",
      "\u001B[31;1m\u001B[1m\u001B[32m   Compiling\u001B[0m tempfile v3.14.0\u001B[0m\n",
      "\u001B[31;1m\u001B[1m\u001B[32m   Compiling\u001B[0m rusty-fork v0.3.0\u001B[0m\n",
      "\u001B[31;1m\u001B[1m\u001B[32m   Compiling\u001B[0m proptest v1.5.0\u001B[0m\n",
      "\u001B[31;1m\u001B[1m\u001B[32m   Compiling\u001B[0m thiserror v1.0.69\u001B[0m\n",
      "\u001B[31;1m\u001B[1m\u001B[32m   Compiling\u001B[0m spiral_temp_test v0.0.1 (/home/runner/work/polyglot/polyglot/apps/spiral/temp/test)\u001B[0m\n",
      "\u001B[31;1m\u001B[1m\u001B[32m    Finished\u001B[0m `release` profile [optimized] target(s) in 14.69s\u001B[0m\n",
      "\u001B[31;1m\u001B[1m\u001B[32m     Running\u001B[0m unittests main.rs (/home/runner/work/polyglot/polyglot/workspace/target/release/deps/spiral_temp_test-be45c853cf37e114)\u001B[0m\n",
      "\n",
      "running 3 tests\n",
      "test test_parse_number ... ok\n",
      "test prop_parse_format_idempotent ... ok\n",
      "test adding_and_then_removing_an_item_from_the_cart_leaves_the_cart_unchanged ... ok\n",
      "\n",
      "successes:\n",
      "\n",
      "---- prop_parse_format_idempotent stdout ----\n",
      "input=Integer(2100492683764630084)\n",
      "input=StringLiteral(\"L=Q%{@HxjH%=:'b$c?}O=fi5#&9l7=\")\n",
      "input=Comment(\"l!K:IS3X`!J?\")\n",
      "input=StringLiteral(\"*UZT80nu>`y.L]KD2`<<}fW8hvOQ:$*\")\n",
      "input=Integer(-4417722737649588580)\n",
      "input=Integer(-2724087754636855448)\n",
      "input=Identifier(\"o5kbK4gkr68\")\n",
      "input=Identifier(\"wk6z2BaVUNNhsnw3P0X2Pf\")\n",
      "input=Comment(\"(\")\n",
      "input=Comment(\"<<\\\"qe=`CWf\")\n",
      "input=Operator(\"-\")\n",
      "input=Comment(\"7_*L<ry&$ZJ<ye>L'-VO/)\")\n",
      "input=StringLiteral(\"=../<E7\")\n",
      "input=Operator(\"+\")\n",
      "input=StringLiteral(\"=9)*7yT< y=fPM,*a3^e\")\n",
      "input=Operator(\"=\")\n",
      "input=Comment(\"$)8.A:'+\")\n",
      "input=Comment(\"Q'z]=sF\\\\czu\")\n",
      "input=StringLiteral(\"Klhgd>]Z$%SX:K:V.q{LEF/=h>`.$G-\")\n",
      "input=Comment(\"%~`J?wX{:Em= :{\\\\*%'-aT]2)N_.z\")\n",
      "input=Comment(\"YD~%i*1P~:.v*\")\n",
      "input=Identifier(\"XnT112MRy\")\n",
      "input=Identifier(\"n054R\")\n",
      "input=StringLiteral(\"*&g=otMy{ku$&3?!$/t%{\")\n",
      "input=Integer(-3220827147136870288)\n",
      "input=Integer(708463346777562350)\n",
      "input=StringLiteral(\"6U*.%?y7Yk?GVj>+Pk*N[=\")\n",
      "input=Identifier(\"GLT1t29JzTmMR3Cqt9k7tOYgFzkVZL\")\n",
      "input=Operator(\"-\")\n",
      "input=Integer(-8454461898473987867)\n",
      "input=Integer(5827299841713857915)\n",
      "input=StringLiteral(\"qaSY\")\n",
      "input=Integer(3218030409569279736)\n",
      "input=Integer(3485299076098663330)\n",
      "input=Integer(4882205983194562527)\n",
      "input=Identifier(\"Qt2rFk3je\")\n",
      "input=StringLiteral(\"?V<sT7w<FK[bgH#MZc`@{/v/<\")\n",
      "input=StringLiteral(\"?$&kmRy}`.=%P4bhn!h5%?3\")\n",
      "input=Identifier(\"j9\")\n",
      "input=Identifier(\"f5RyKd\")\n",
      "input=Operator(\"(\")\n",
      "input=Operator(\"-\")\n",
      "input=Integer(-1032056292269637946)\n",
      "input=Integer(-6208919022008890500)\n",
      "input=Integer(-244692359154210953)\n",
      "input=StringLiteral(\"!C/EBnU5K^WL`-$`=<S+qk0@\")\n",
      "input=StringLiteral(\"*1W=[2;0?D/N!\")\n",
      "input=Operator(\"+\")\n",
      "input=Identifier(\"d6XxzJf0tW1ZcwfUW08nh5qoJWgzn\")\n",
      "input=Comment(\"o$U\\\"LQ:q*<58?*2!y=TNcq8=*a:\\\\u/'\")\n",
      "input=Comment(\"!4{VQ@.UBFvR\\\"2{)}P%K$\")\n",
      "input=Comment(\"JiUXR.?l<'0yFy<5]/\")\n",
      "input=Comment(\",\")\n",
      "input=Comment(\"\\\"\\\"&_Tk%.<*61L#::\\\\.AQETQ<n^'5\")\n",
      "input=Operator(\"(\")\n",
      "input=Integer(-2636164563722710681)\n",
      "input=Integer(4356476259906829478)\n",
      "input=StringLiteral(\"?h*\")\n",
      "input=Identifier(\"KwToMDY0\")\n",
      "input=Operator(\"/\")\n",
      "input=Comment(\"~m$<k*;$OkST\")\n",
      "input=Operator(\"(\")\n",
      "input=Integer(-8050610388632896957)\n",
      "input=Operator(\"/\")\n",
      "input=Identifier(\"Wu9\")\n",
      "input=Comment(\"mE%K9><.\")\n",
      "input=StringLiteral(\"ulI*oJG::[o(`]!NtXI2{A\")\n",
      "input=StringLiteral(\"<wmJoFak|dW{*{C<wm&'?a*)<v{8\")\n",
      "input=Integer(-4489582534426892333)\n",
      "input=StringLiteral(\"<ab[7EYLKM`2XPX'4*g`{K3\")\n",
      "input=Comment(\"?E\\\\M(9^7O6\\\"/\")\n",
      "input=Integer(643483917746293524)\n",
      "input=Comment(\"[K=s:.mX2UU2\")\n",
      "input=Integer(5184917252535483604)\n",
      "input=Integer(-6726806465719953495)\n",
      "input=StringLiteral(\"ghzM?OG{{~%r):N/8=$3i\")\n",
      "input=Integer(2181796029485259380)\n",
      "input=Comment(\"&5'pp\\\\!n&DJ%bv6u+U7\\\\J&<]7<\")\n",
      "input=Comment(\"`l!:~{kVDr|pgt0;!e=`AC\")\n",
      "input=Identifier(\"ZqEL6AdEUbWeTfz\")\n",
      "input=Operator(\")\")\n",
      "input=Comment(\"h(E/A=R}s`nc`z~{/:`V%+/:%{<BuY\")\n",
      "input=Identifier(\"G0RqFTasqsK10G5v48Z42nhAqzr789\")\n",
      "input=StringLiteral(\"Csb\")\n",
      "input=StringLiteral(\",Qt.7`-61G^\")\n",
      "input=Comment(\"1p\")\n",
      "input=StringLiteral(\"{hL<A\")\n",
      "input=Operator(\"/\")\n",
      "input=StringLiteral(\"TKw:N_&c&*\")\n",
      "input=Comment(\".f!EBZhCk-M3,\\\\\")\n",
      "input=Operator(\"-\")\n",
      "input=Integer(-4609815509143303601)\n",
      "input=Operator(\"=\")\n",
      "input=Integer(-3001005426156683770)\n",
      "input=Identifier(\"Jkaupk54xCctSR4l4Mjvu5EACAjMKzPdM\")\n",
      "input=Operator(\"(\")\n",
      "input=Identifier(\"DnUFkz8xGZx\")\n",
      "input=Integer(-6156120133414529419)\n",
      "input=Comment(\"oN%`H$NO{}f\\\";T<9\\\" O\\\\#~\")\n",
      "input=Identifier(\"p6eumzGTq4IJp307r4Cd8r51WdU35e\")\n",
      "input=Identifier(\"kyNs5YkMPQsN0P7QdoQ11z2E2Q\")\n",
      "input=Operator(\"=\")\n",
      "input=Comment(\"%/cv(!\")\n",
      "input=Operator(\"-\")\n",
      "input=Comment(\"MfX^~%E`z`[/c1z).DPp\")\n",
      "input=Comment(\"k5$U'=|hHzxFl>)<&a7?T$*`a<}zJ\")\n",
      "input=StringLiteral(\".%k_JBv`e{Ti33(4:<e1jHQw\")\n",
      "input=Comment(\"`:$cX{7'-/yOrXpamxG)Fg*Wm'?%::F\")\n",
      "input=Integer(513154594319529211)\n",
      "input=Identifier(\"C\")\n",
      "input=Operator(\"+\")\n",
      "input=Operator(\"/\")\n",
      "input=Identifier(\"Dhc13e88bPfVjY3nErOpaeWoA7IAXGv\")\n",
      "input=Identifier(\"NFEGcEydZFn1isQD64mA\")\n",
      "input=Integer(-2553282119089482014)\n",
      "input=Identifier(\"rAOX5kwaVExB8HKUecDL3iKxdmQ7n3\")\n",
      "input=StringLiteral(\"V*<n/*OkErCm*|``<{.X_:<\")\n",
      "input=Comment(\"!Tq\\\"*:<38%j@?.w0Q~2w\")\n",
      "input=Operator(\"*\")\n",
      "input=StringLiteral(\"ST?dm{?ESV=@P\")\n",
      "input=Comment(\"}t%)q$$<\\\"H*@=A%PE`:\")\n",
      "input=StringLiteral(\"<&kE&/:C4.cNiH{)GL&&p/\")\n",
      "input=Identifier(\"z3smKs9qIWB236piOeefXi95YYeJr\")\n",
      "input=Operator(\"=\")\n",
      "input=Identifier(\"tXbw9s8myQQ7lVG7ew29\")\n",
      "input=Comment(\"6Y&tk[\\\\uQj}%@W1%6MyDn:.$$<7k+g?^\")\n",
      "input=Comment(\"c![.c)~\")\n",
      "input=Integer(-8965714544725140351)\n",
      "input=Comment(\"qY/'Ep:-!$#DD2*TFw{DM3\")\n",
      "input=Identifier(\"P10bXDBwf1Sa2EjqTHRmNuDRHfVKJ1\")\n",
      "input=Identifier(\"rg6Xjjn59bZVbLH18M6\")\n",
      "input=Comment(\"g=E|b\\\"\\\\]Hv&UNl-D\")\n",
      "input=Comment(\"//K/&C*`GQaa0PKL18+9P~y\")\n",
      "input=Identifier(\"Vu8L1\")\n",
      "input=Operator(\"/\")\n",
      "input=Integer(-1722922525371201368)\n",
      "input=Operator(\"=\")\n",
      "input=Comment(\"i#g=E*}3?/?}u#W\\\\\")\n",
      "input=Comment(\"LS*0:</%*\\\"]\")\n",
      "input=StringLiteral(\"hZd|4R~b&(!|x*=J='ZD\")\n",
      "input=Identifier(\"bLNysn7n1P6rk7ItkXs\")\n",
      "input=Comment(\"n.;$'=Wj*f@>%<'HNy\\\\)T0\")\n",
      "input=Comment(\"-/(1\\\\~bz\\\\J`C.H`g\\\\r7z?b><^\")\n",
      "input=Identifier(\"oM1DuP320X5uFXt7khv76i6ByuWw8mHv\")\n",
      "input=Identifier(\"gP3ibIh8LjnZxmQv9R306yGYQnz7\")\n",
      "input=Comment(\"9{~&&\")\n",
      "input=Operator(\"=\")\n",
      "input=Operator(\"*\")\n",
      "input=Identifier(\"rju43Qrne03b8\")\n",
      "input=Comment(\":V?j\")\n",
      "input=Integer(515812150399535823)\n",
      "input=Identifier(\"ykau5Y381O13CEB3wIxqpP39\")\n",
      "input=Integer(5488026207108745346)\n",
      "input=StringLiteral(\"./Q=/=7W$C)Kkv>\")\n",
      "input=Comment(\"%.]dqF=ae.x-\")\n",
      "input=Integer(2380853638834172609)\n",
      "input=Operator(\"+\")\n",
      "input=Comment(\"`rHP_#65oAP:.`LXX<:1\")\n",
      "input=Identifier(\"bP3DYUYiaDgek3F9\")\n",
      "input=Comment(\"mx&7s3\\\"X?.XiZ_?a1%jm{meF.Ue\")\n",
      "input=Operator(\"/\")\n",
      "input=Integer(-6993290341497751000)\n",
      "input=Operator(\"+\")\n",
      "input=Operator(\"*\")\n",
      "input=Comment(\"b1%k\\\\TrB<\\\"T\")\n",
      "input=Comment(\"W<'wztiYh?'Bj8.\")\n",
      "input=StringLiteral(\"D'{T.a$5Qa1~`FZFq]:q9}~`8mx|<.\")\n",
      "input=Integer(8900957333673293672)\n",
      "input=Integer(7906188066159847444)\n",
      "input=Identifier(\"swP775pD810G\")\n",
      "input=Comment(\"X\\\\JA{\\\\M?)IM/,ARl\")\n",
      "input=Operator(\")\")\n",
      "input=StringLiteral(\" \")\n",
      "input=Operator(\"/\")\n",
      "input=Comment(\"\\\\/zv`\")\n",
      "input=StringLiteral(\"J>ocDx-Ji{<\")\n",
      "input=Integer(1379876977942607975)\n",
      "input=Comment(\"&\\\\8J$gA%\\\\'Y\")\n",
      "input=Identifier(\"dpn1gAnMuO2btZBqJkT13E6\")\n",
      "input=Integer(3452930282139686064)\n",
      "input=Integer(5511771942740213039)\n",
      "input=Comment(\"% n`..|=\")\n",
      "input=Operator(\"=\")\n",
      "input=Identifier(\"np0lznMyu38I3mYAl10PpW1ER51d\")\n",
      "input=Comment(\"$&?e.+<lsf*?I{KR)oY'%H:3@\")\n",
      "input=Operator(\"/\")\n",
      "input=Integer(-874955967531813407)\n",
      "input=Identifier(\"bWPdRPCyzlRp4XIlwH\")\n",
      "input=StringLiteral(\"hj\")\n",
      "input=StringLiteral(\"\")\n",
      "input=Comment(\"^.:=.V^%/$*d}\")\n",
      "input=Operator(\"+\")\n",
      "input=Comment(\"~>q$/{9tX[<`so[OQb/P7,/zWm{9U \")\n",
      "input=Operator(\"=\")\n",
      "input=StringLiteral(\"q-5wM%`+I.Y8V\")\n",
      "input=Identifier(\"jGTkQNsLqGp\")\n",
      "input=Comment(\"/po:<{6?{g\\\"<B:u\\\"NB(\")\n",
      "input=Identifier(\"U65F8ExbfzjnfTa4\")\n",
      "input=Comment(\"r{D%H\")\n",
      "input=Operator(\"=\")\n",
      "input=Integer(-7219765378554026282)\n",
      "input=Operator(\"+\")\n",
      "input=Operator(\")\")\n",
      "input=Comment(\"_:g]}O/+*=.\\\"q-c\\\\9{;9-H/431\")\n",
      "input=Identifier(\"C4t0ircag8QW5sFS\")\n",
      "input=Operator(\")\")\n",
      "input=Operator(\"=\")\n",
      "input=Operator(\"(\")\n",
      "input=Identifier(\"wiHOP9Fbi2NM8p0f8Tdq\")\n",
      "input=StringLiteral(\"/mD`\")\n",
      "input=Integer(-7532209290188919943)\n",
      "input=Operator(\"(\")\n",
      "input=Comment(\"q|v+7.C[i(%4KxYx6${=;'$8x\")\n",
      "input=StringLiteral(\"/'VW{t\")\n",
      "input=Identifier(\"iNkq9LV08kWs41BaQ5081gw\")\n",
      "input=Comment(\"Zelb`O&b?(~cgJ&DA*\\\"7*/l~'\\\\E\")\n",
      "input=Comment(\"\\\\upX4:/[\")\n",
      "input=StringLiteral(\"'?u=d#W..&sQg-|\")\n",
      "input=StringLiteral(\"IQm A&-5;l\")\n",
      "input=StringLiteral(\"(`ab}zE'&/`fkXim2PnWB$%\")\n",
      "input=Comment(\"yu`g2\\\"&&\")\n",
      "input=Operator(\"(\")\n",
      "input=Operator(\"(\")\n",
      "input=Identifier(\"O\")\n",
      "input=Comment(\"i/79$6$mw.?\\\"-\")\n",
      "input=Comment(\"`VF|qW?F/Zs*<OC9//=a|Y\\\"\")\n",
      "input=Operator(\"*\")\n",
      "input=Comment(\"\\\\\\\"\\\"*\\\\AU'\\\"#R7&l~Hfv`\")\n",
      "input=Identifier(\"IgnggIKg6SCj40yFr86\")\n",
      "input=Comment(\"*??V@?/? {\")\n",
      "input=Comment(\"bm4\")\n",
      "input=Integer(-7956509875108719323)\n",
      "input=StringLiteral(\"@:/kw{o&zc\")\n",
      "input=Integer(-3614795348013333756)\n",
      "input=Operator(\"+\")\n",
      "input=Operator(\"=\")\n",
      "input=Integer(5041898711504150062)\n",
      "input=Integer(-6300097500271341271)\n",
      "input=StringLiteral(\"s}@t$CKI4<<i0WE%+G)\")\n",
      "input=Integer(1388740060526513923)\n",
      "input=Operator(\"/\")\n",
      "input=Integer(4315143016429126887)\n",
      "input=Integer(-882311342553511875)\n",
      "input=Integer(6699515686864791106)\n",
      "input=Operator(\")\")\n",
      "input=StringLiteral(\"@O{t9)$%:J&*B=/\")\n",
      "input=Comment(\"~/\\\"I^{\\\"9\")\n",
      "input=StringLiteral(\"3Qe2=;sJ],:),qe,1`\")\n",
      "input=Comment(\"s25DTFGQ$\\\\*q:0Y&Y$ti\\\"[L-`{K:\")\n",
      "input=Operator(\"(\")\n",
      "input=Identifier(\"ItQtKzcro6enIZGHZl8is5c4g9lH4mud\")\n",
      "input=StringLiteral(\"{#}2&<1E&\")\n",
      "input=Integer(2902467152615809610)\n",
      "input=Operator(\")\")\n",
      "input=StringLiteral(\"Mg~{$8>,T)P?,`x?.Y<*VMa}&.\")\n",
      "input=Integer(-804425356058005656)\n",
      "\n",
      "\n",
      "successes:\n",
      "    adding_and_then_removing_an_item_from_the_cart_leaves_the_cart_unchanged\n",
      "    prop_parse_format_idempotent\n",
      "    test_parse_number\n",
      "\n",
      "test result: ok. 3 passed; 0 failed; 0 ignored; 0 measured; 0 filtered out; finished in 0.07s\n",
      "\n"
     ]
    }
   ],
   "source": [
    "{ cargo test --release -- --show-output } | Invoke-Block"
   ]
  },
  {
   "cell_type": "markdown",
   "metadata": {},
   "source": [
    "### execute the binary in release mode"
   ]
  },
  {
   "cell_type": "code",
   "execution_count": null,
   "metadata": {
    "dotnet_interactive": {
     "language": "pwsh"
    },
    "polyglot_notebook": {
     "kernelName": "pwsh"
    }
   },
   "outputs": [
    {
     "name": "stdout",
     "output_type": "stream",
     "text": [
      "app=test\n"
     ]
    }
   ],
   "source": [
    "{ . $ScriptDir/../../../../workspace/target/release/spiral_temp_test$(_exe) } | Invoke-Block"
   ]
  }
 ],
 "metadata": {},
 "nbformat": 4,
 "nbformat_minor": 5
}