{
 "cells": [
  {
   "cell_type": "markdown",
   "metadata": {},
   "source": [
    "# test"
   ]
  },
  {
   "cell_type": "markdown",
   "metadata": {},
   "source": [
    "## include scripts"
   ]
  },
  {
   "cell_type": "markdown",
   "metadata": {},
   "source": [
    "### include notebook core"
   ]
  },
  {
   "cell_type": "code",
   "execution_count": null,
   "metadata": {
    "dotnet_interactive": {
     "language": "pwsh"
    },
    "polyglot_notebook": {
     "kernelName": "pwsh"
    }
   },
   "outputs": [],
   "source": [
    ". ../../../../scripts/nbs_header.ps1"
   ]
  },
  {
   "cell_type": "markdown",
   "metadata": {},
   "source": [
    "### Include core functions script"
   ]
  },
  {
   "cell_type": "code",
   "execution_count": null,
   "metadata": {
    "dotnet_interactive": {
     "language": "pwsh"
    },
    "polyglot_notebook": {
     "kernelName": "pwsh"
    }
   },
   "outputs": [],
   "source": [
    ". ../../../../scripts/core.ps1"
   ]
  },
  {
   "cell_type": "markdown",
   "metadata": {},
   "source": [
    "### Include spiral library"
   ]
  },
  {
   "cell_type": "code",
   "execution_count": null,
   "metadata": {
    "dotnet_interactive": {
     "language": "pwsh"
    },
    "polyglot_notebook": {
     "kernelName": "pwsh"
    }
   },
   "outputs": [],
   "source": [
    ". ../../../../lib/spiral/lib.ps1"
   ]
  },
  {
   "cell_type": "markdown",
   "metadata": {},
   "source": [
    "## execute project commands"
   ]
  },
  {
   "cell_type": "markdown",
   "metadata": {},
   "source": [
    "### run notebook with retries using spiral supervisor"
   ]
  },
  {
   "cell_type": "code",
   "execution_count": null,
   "metadata": {
    "dotnet_interactive": {
     "language": "pwsh"
    },
    "polyglot_notebook": {
     "kernelName": "pwsh"
    }
   },
   "outputs": [
    {
     "name": "stdout",
     "output_type": "stream",
     "text": [
      "00:00:00 \u001B[90mverbose\u001B[0m #1 networking.test_port_open / { port = 13806; ex = System.AggregateException: One or more errors occurred. (Connection refused) }\n",
      "00:00:00 \u001B[94m  debug\u001B[0m #1 runtime.execute_with_options_async / { options = { command = ../../../../workspace/target/release/spiral_builder dib --path test.dib --retries 3; cancellation_token = Some System.Threading.CancellationToken; environment_variables = [||]; on_line = None; stdin = None; trace = true; working_directory = None } }\n",
      "00:00:00 \u001B[90mverbose\u001B[0m #2 > 00:00:00 \u001B[94m  debug\u001B[39m #1 spiral_builder.main / { args = Array(MutCell([\"dib\", \"--path\", \"test.dib\", \"--retries\", \"3\"])) }\n",
      "00:00:00 \u001B[90mverbose\u001B[0m #3 > 00:00:00 \u001B[94m  debug\u001B[39m #2 runtime.execute_with_options / { file_name = dotnet; arguments = [\"repl\", \"--exit-after-run\", \"--run\", \"/home/runner/work/polyglot/polyglot/apps/spiral/temp/test/test.dib\", \"--output-path\", \"/home/runner/work/polyglot/polyglot/apps/spiral/temp/test/test.dib.ipynb\"]; options = { command = dotnet repl --exit-after-run --run \"/home/runner/work/polyglot/polyglot/apps/spiral/temp/test/test.dib\" --output-path \"/home/runner/work/polyglot/polyglot/apps/spiral/temp/test/test.dib.ipynb\"; cancellation_token = None; environment_variables = Array(MutCell([(\"TRACE_LEVEL\", \"Verbose\"), (\"AUTOMATION\", \"True\")])); on_line = None; stdin = None; trace = false; working_directory = None } }\n",
      "00:00:02 \u001B[90mverbose\u001B[0m #4 > >\n",
      "00:00:02 \u001B[90mverbose\u001B[0m #5 > > \u001B[38;5;103m── markdown ────────────────────────────────────────────────────────────────────\u001B[0m\n",
      "00:00:02 \u001B[90mverbose\u001B[0m #6 > > \u001B[38;5;103m╭──────────────────────────────────────────────────────────────────────────────╮\u001B[0m\n",
      "00:00:02 \u001B[90mverbose\u001B[0m #7 > > \u001B[38;5;103m│\u001B[0m # test (Polyglot)                                                            \u001B[38;5;103m│\u001B[0m\n",
      "00:00:02 \u001B[90mverbose\u001B[0m #8 > > \u001B[38;5;103m╰──────────────────────────────────────────────────────────────────────────────╯\u001B[0m\n",
      "00:00:04 \u001B[90mverbose\u001B[0m #9 > >\n",
      "00:00:04 \u001B[90mverbose\u001B[0m #10 > > \u001B[38;5;103m── spiral ──────────────────────────────────────────────────────────────────────\u001B[0m\n",
      "00:00:04 \u001B[90mverbose\u001B[0m #11 > > //// test\n",
      "00:00:04 \u001B[90mverbose\u001B[0m #12 > >\n",
      "00:00:04 \u001B[90mverbose\u001B[0m #13 > > open testing\n",
      "00:00:07 \u001B[90mverbose\u001B[0m #14 > >\n",
      "00:00:07 \u001B[90mverbose\u001B[0m #15 > > \u001B[38;5;103m── spiral ──────────────────────────────────────────────────────────────────────\u001B[0m\n",
      "00:00:07 \u001B[90mverbose\u001B[0m #16 > > nominal i = ()\n",
      "00:00:07 \u001B[90mverbose\u001B[0m #17 > > nominal e = ()\n",
      "00:00:07 \u001B[90mverbose\u001B[0m #18 > > nominal s = ()\n",
      "00:00:07 \u001B[90mverbose\u001B[0m #19 > > nominal n = ()\n",
      "00:00:07 \u001B[90mverbose\u001B[0m #20 > > nominal t = ()\n",
      "00:00:07 \u001B[90mverbose\u001B[0m #21 > > nominal f = ()\n",
      "00:00:07 \u001B[90mverbose\u001B[0m #22 > > nominal j = ()\n",
      "00:00:07 \u001B[90mverbose\u001B[0m #23 > > nominal p = ()\n",
      "00:00:07 \u001B[90mverbose\u001B[0m #24 > >\n",
      "00:00:07 \u001B[90mverbose\u001B[0m #25 > > union sensing =\n",
      "00:00:07 \u001B[90mverbose\u001B[0m #26 > >     | Si : s * i\n",
      "00:00:07 \u001B[90mverbose\u001B[0m #27 > >     | Se : s * e\n",
      "00:00:07 \u001B[90mverbose\u001B[0m #28 > >\n",
      "00:00:07 \u001B[90mverbose\u001B[0m #29 > > union intuition =\n",
      "00:00:07 \u001B[90mverbose\u001B[0m #30 > >     | Ni : n * i\n",
      "00:00:07 \u001B[90mverbose\u001B[0m #31 > >     | Ne : n * e\n",
      "00:00:07 \u001B[90mverbose\u001B[0m #32 > >\n",
      "00:00:07 \u001B[90mverbose\u001B[0m #33 > > union thinking =\n",
      "00:00:07 \u001B[90mverbose\u001B[0m #34 > >     | Ti : t * i\n",
      "00:00:07 \u001B[90mverbose\u001B[0m #35 > >     | Te : t * e\n",
      "00:00:07 \u001B[90mverbose\u001B[0m #36 > >\n",
      "00:00:07 \u001B[90mverbose\u001B[0m #37 > > union feeling =\n",
      "00:00:07 \u001B[90mverbose\u001B[0m #38 > >     | Fi : f * i\n",
      "00:00:07 \u001B[90mverbose\u001B[0m #39 > >     | Fe : f * e\n",
      "00:00:07 \u001B[90mverbose\u001B[0m #40 > >\n",
      "00:00:07 \u001B[90mverbose\u001B[0m #41 > > union function_stack =\n",
      "00:00:07 \u001B[90mverbose\u001B[0m #42 > >     | FS : sensing * intuition * thinking * feeling\n",
      "00:00:07 \u001B[90mverbose\u001B[0m #43 > >\n",
      "00:00:07 \u001B[90mverbose\u001B[0m #44 > > union personality_type =\n",
      "00:00:07 \u001B[90mverbose\u001B[0m #45 > >     | ISTJ : i * s * t * j * function_stack\n",
      "00:00:07 \u001B[90mverbose\u001B[0m #46 > >     | ISFJ : i * s * f * j * function_stack\n",
      "00:00:07 \u001B[90mverbose\u001B[0m #47 > >     | INFJ : i * n * f * j * function_stack\n",
      "00:00:07 \u001B[90mverbose\u001B[0m #48 > >     | INTJ : i * n * t * j * function_stack\n",
      "00:00:07 \u001B[90mverbose\u001B[0m #49 > >     | ISTP : i * s * t * p * function_stack\n",
      "00:00:07 \u001B[90mverbose\u001B[0m #50 > >     | ISFP : i * s * f * p * function_stack\n",
      "00:00:07 \u001B[90mverbose\u001B[0m #51 > >     | INFP : i * n * f * p * function_stack\n",
      "00:00:07 \u001B[90mverbose\u001B[0m #52 > >     | INTP : i * n * t * p * function_stack\n",
      "00:00:07 \u001B[90mverbose\u001B[0m #53 > >     | ESTP : e * s * t * p * function_stack\n",
      "00:00:07 \u001B[90mverbose\u001B[0m #54 > >     | ESFP : e * s * f * p * function_stack\n",
      "00:00:07 \u001B[90mverbose\u001B[0m #55 > >     | ENFP : e * n * f * p * function_stack\n",
      "00:00:07 \u001B[90mverbose\u001B[0m #56 > >     | ENTP : e * n * t * p * function_stack\n",
      "00:00:07 \u001B[90mverbose\u001B[0m #57 > >     | ESTJ : e * s * t * j * function_stack\n",
      "00:00:07 \u001B[90mverbose\u001B[0m #58 > >     | ESFJ : e * s * f * j * function_stack\n",
      "00:00:07 \u001B[90mverbose\u001B[0m #59 > >     | ENFJ : e * n * f * j * function_stack\n",
      "00:00:07 \u001B[90mverbose\u001B[0m #60 > >     | ENTJ : e * n * t * j * function_stack\n",
      "00:00:07 \u001B[90mverbose\u001B[0m #61 > >\n",
      "00:00:07 \u001B[90mverbose\u001B[0m #62 > >\n",
      "00:00:07 \u001B[90mverbose\u001B[0m #63 > > inl main () =\n",
      "00:00:07 \u001B[90mverbose\u001B[0m #64 > >     inl istj_stack = FS ((Si (s, i)), Ne (n, e), (Te (t, e)), (Fi (f, i)))\n",
      "00:00:07 \u001B[90mverbose\u001B[0m #65 > >     inl istj_personality = ISTJ (i, s, t, j, istj_stack)\n",
      "00:00:07 \u001B[90mverbose\u001B[0m #66 > >     // inl isfj_stack = FS ((Si (s, i)), Ne (n, e), (Fe (f, e)), (Ti (t, i)))\n",
      "00:00:07 \u001B[90mverbose\u001B[0m #67 > >     // inl isfj_personality = ISFJ (i, s, f, j, isfj_stack)\n",
      "00:00:07 \u001B[90mverbose\u001B[0m #68 > >\n",
      "00:00:07 \u001B[90mverbose\u001B[0m #69 > >     ;[[\n",
      "00:00:07 \u001B[90mverbose\u001B[0m #70 > >         istj_personality\n",
      "00:00:07 \u001B[90mverbose\u001B[0m #71 > >     ]]\n",
      "00:00:07 \u001B[90mverbose\u001B[0m #72 > >     |> fun x => $'$\"%A{!x}\"' : string\n",
      "00:00:07 \u001B[90mverbose\u001B[0m #73 > >     |> console.write_line\n",
      "00:00:07 \u001B[90mverbose\u001B[0m #74 > >\n",
      "00:00:07 \u001B[90mverbose\u001B[0m #75 > > inl main () =\n",
      "00:00:07 \u001B[90mverbose\u001B[0m #76 > >     $'!main ()' : ()\n",
      "00:00:08 \u001B[90mverbose\u001B[0m #77 > >\n",
      "00:00:08 \u001B[90mverbose\u001B[0m #78 > > \u001B[38;5;2m╭─[ 1.41s - stdout ]───────────────────────────────────────────────────────────╮\u001B[0m\n",
      "00:00:08 \u001B[90mverbose\u001B[0m #79 > > \u001B[38;5;2m│\u001B[0m [|US5_0 (US4_0 (US0_0, US1_1, US2_1, US3_0))|]                               \u001B[38;5;2m│\u001B[0m\n",
      "00:00:08 \u001B[90mverbose\u001B[0m #80 > > \u001B[38;5;2m│\u001B[0m                                                                              \u001B[38;5;2m│\u001B[0m\n",
      "00:00:08 \u001B[90mverbose\u001B[0m #81 > > \u001B[38;5;2m╰──────────────────────────────────────────────────────────────────────────────╯\u001B[0m\n",
      "00:00:09 \u001B[90mverbose\u001B[0m #82 > >\n",
      "00:00:09 \u001B[90mverbose\u001B[0m #83 > > \u001B[38;5;103m── fsharp ──────────────────────────────────────────────────────────────────────\u001B[0m\n",
      "00:00:09 \u001B[90mverbose\u001B[0m #84 > > type PhonologicalFeature =\n",
      "00:00:09 \u001B[90mverbose\u001B[0m #85 > >     | VowelFeature of\n",
      "00:00:09 \u001B[90mverbose\u001B[0m #86 > >         height: Height\n",
      "00:00:09 \u001B[90mverbose\u001B[0m #87 > >         * backness: Backness\n",
      "00:00:09 \u001B[90mverbose\u001B[0m #88 > >         * roundedness: Roundedness\n",
      "00:00:09 \u001B[90mverbose\u001B[0m #89 > >         * tone: Option<Tone>\n",
      "00:00:09 \u001B[90mverbose\u001B[0m #90 > >         * stress: Option<Stress>\n",
      "00:00:09 \u001B[90mverbose\u001B[0m #91 > >         * length: Option<Length>\n",
      "00:00:09 \u001B[90mverbose\u001B[0m #92 > >     | ConsonantFeature of\n",
      "00:00:09 \u001B[90mverbose\u001B[0m #93 > >         place: PlaceOfArticulation\n",
      "00:00:09 \u001B[90mverbose\u001B[0m #94 > >         * manner: MannerOfArticulation\n",
      "00:00:09 \u001B[90mverbose\u001B[0m #95 > >         * voicing: Voicing\n",
      "00:00:09 \u001B[90mverbose\u001B[0m #96 > >         * length: Option<Length>\n",
      "00:00:09 \u001B[90mverbose\u001B[0m #97 > >     | VowelHarmonyFeature\n",
      "00:00:09 \u001B[90mverbose\u001B[0m #98 > >     | PitchAccentFeature\n",
      "00:00:09 \u001B[90mverbose\u001B[0m #99 > >\n",
      "00:00:09 \u001B[90mverbose\u001B[0m #100 > > and Stress = Primary | Secondary\n",
      "00:00:09 \u001B[90mverbose\u001B[0m #101 > > and Length = Long | Short | HalfLong\n",
      "00:00:09 \u001B[90mverbose\u001B[0m #102 > >\n",
      "00:00:09 \u001B[90mverbose\u001B[0m #103 > > and Height =\n",
      "00:00:09 \u001B[90mverbose\u001B[0m #104 > >     | High | NearHigh | HighMid\n",
      "00:00:09 \u001B[90mverbose\u001B[0m #105 > >     | Mid | LowMid | NearLow\n",
      "00:00:09 \u001B[90mverbose\u001B[0m #106 > >     | Low\n",
      "00:00:09 \u001B[90mverbose\u001B[0m #107 > >\n",
      "00:00:09 \u001B[90mverbose\u001B[0m #108 > > and Backness = Front | Central | Back\n",
      "00:00:09 \u001B[90mverbose\u001B[0m #109 > >\n",
      "00:00:09 \u001B[90mverbose\u001B[0m #110 > > and Roundedness = Rounded | Unrounded\n",
      "00:00:09 \u001B[90mverbose\u001B[0m #111 > >\n",
      "00:00:09 \u001B[90mverbose\u001B[0m #112 > > and PlaceOfArticulation =\n",
      "00:00:09 \u001B[90mverbose\u001B[0m #113 > >     | Bilabial | Labiodental | Dental\n",
      "00:00:09 \u001B[90mverbose\u001B[0m #114 > >     | Alveolar | Postalveolar | Retroflex\n",
      "00:00:09 \u001B[90mverbose\u001B[0m #115 > >     | Palatal | Velar | Uvular\n",
      "00:00:09 \u001B[90mverbose\u001B[0m #116 > >     | Pharyngeal | Epiglottal | Glottal\n",
      "00:00:09 \u001B[90mverbose\u001B[0m #117 > >\n",
      "00:00:09 \u001B[90mverbose\u001B[0m #118 > > and MannerOfArticulation =\n",
      "00:00:09 \u001B[90mverbose\u001B[0m #119 > >     | Plosive | Nasal | Trill\n",
      "00:00:09 \u001B[90mverbose\u001B[0m #120 > >     | TapOrFlap | Fricative | LateralFricative\n",
      "00:00:09 \u001B[90mverbose\u001B[0m #121 > >     | Approximant | LateralApproximant\n",
      "00:00:09 \u001B[90mverbose\u001B[0m #122 > >\n",
      "00:00:09 \u001B[90mverbose\u001B[0m #123 > > and Voicing = Voiced | Voiceless\n",
      "00:00:09 \u001B[90mverbose\u001B[0m #124 > >\n",
      "00:00:09 \u001B[90mverbose\u001B[0m #125 > > and SecondaryArticulation =\n",
      "00:00:09 \u001B[90mverbose\u001B[0m #126 > >     | Labialization | Palatalization | Velarization\n",
      "00:00:09 \u001B[90mverbose\u001B[0m #127 > >     | Pharyngealization | Aspiration\n",
      "00:00:09 \u001B[90mverbose\u001B[0m #128 > >\n",
      "00:00:09 \u001B[90mverbose\u001B[0m #129 > > and Tone =\n",
      "00:00:09 \u001B[90mverbose\u001B[0m #130 > >     | LevelTone of int\n",
      "00:00:09 \u001B[90mverbose\u001B[0m #131 > >     | ContourTone of int list\n",
      "00:00:09 \u001B[90mverbose\u001B[0m #132 > >\n",
      "00:00:09 \u001B[90mverbose\u001B[0m #133 > > and MorphologicalFeature =\n",
      "00:00:09 \u001B[90mverbose\u001B[0m #134 > >     | RootFeature of string\n",
      "00:00:09 \u001B[90mverbose\u001B[0m #135 > >     | AffixFeature of AffixType * string\n",
      "00:00:09 \u001B[90mverbose\u001B[0m #136 > >     | IncorporationFeature of string * MorphologicalFeature\n",
      "00:00:09 \u001B[90mverbose\u001B[0m #137 > >     | NonConcatenativePattern of string * string\n",
      "00:00:09 \u001B[90mverbose\u001B[0m #138 > >     | AgglutinativeAffixFeature of AgglutinativeAffixType * string\n",
      "00:00:09 \u001B[90mverbose\u001B[0m #139 > >     | HonorificFeature of HonorificType * string\n",
      "00:00:09 \u001B[90mverbose\u001B[0m #140 > >\n",
      "00:00:09 \u001B[90mverbose\u001B[0m #141 > > and AgglutinativeAffixType = Suffix | Prefix\n",
      "00:00:09 \u001B[90mverbose\u001B[0m #142 > >\n",
      "00:00:09 \u001B[90mverbose\u001B[0m #143 > > and HonorificType = VerbHonorific | NounHonorific\n",
      "00:00:09 \u001B[90mverbose\u001B[0m #144 > >\n",
      "00:00:09 \u001B[90mverbose\u001B[0m #145 > > and AffixType =\n",
      "00:00:09 \u001B[90mverbose\u001B[0m #146 > >     | Prefix | Suffix | Infix\n",
      "00:00:09 \u001B[90mverbose\u001B[0m #147 > >     | Circumfix\n",
      "00:00:09 \u001B[90mverbose\u001B[0m #148 > >\n",
      "00:00:09 \u001B[90mverbose\u001B[0m #149 > > type SyntacticFeature =\n",
      "00:00:09 \u001B[90mverbose\u001B[0m #150 > >     | WordFeature of MorphologicalFeature list * LexicalCategory\n",
      "00:00:09 \u001B[90mverbose\u001B[0m #151 > >     | PhraseFeature of PhraseType * SyntacticFeature list\n",
      "00:00:09 \u001B[90mverbose\u001B[0m #152 > >     | GrammaticalRelation of GrammaticalRelationType * SyntacticFeature list\n",
      "00:00:09 \u001B[90mverbose\u001B[0m #153 > >     | SOVOrderFeature\n",
      "00:00:09 \u001B[90mverbose\u001B[0m #154 > >     | TopicCommentFeature\n",
      "00:00:09 \u001B[90mverbose\u001B[0m #155 > >\n",
      "00:00:09 \u001B[90mverbose\u001B[0m #156 > > and GrammaticalRelationType =\n",
      "00:00:09 \u001B[90mverbose\u001B[0m #157 > >     | Ergative | Absolutive | Nominative\n",
      "00:00:09 \u001B[90mverbose\u001B[0m #158 > >     | Accusative\n",
      "00:00:09 \u001B[90mverbose\u001B[0m #159 > >\n",
      "00:00:09 \u001B[90mverbose\u001B[0m #160 > > and LexicalCategory =\n",
      "00:00:09 \u001B[90mverbose\u001B[0m #161 > >     | Noun | Verb | Adjective\n",
      "00:00:09 \u001B[90mverbose\u001B[0m #162 > >     | Adverb | Pronoun | Preposition\n",
      "00:00:09 \u001B[90mverbose\u001B[0m #163 > >     | Conjunction | Determiner | Interjection\n",
      "00:00:09 \u001B[90mverbose\u001B[0m #164 > >\n",
      "00:00:09 \u001B[90mverbose\u001B[0m #165 > > and PhraseType =\n",
      "00:00:09 \u001B[90mverbose\u001B[0m #166 > >     | NP | VP | AP\n",
      "00:00:09 \u001B[90mverbose\u001B[0m #167 > >     | PP | CP\n",
      "00:00:09 \u001B[90mverbose\u001B[0m #168 > >\n",
      "00:00:09 \u001B[90mverbose\u001B[0m #169 > > and SemanticFeature =\n",
      "00:00:09 \u001B[90mverbose\u001B[0m #170 > >     | Meaning of string\n",
      "00:00:09 \u001B[90mverbose\u001B[0m #171 > >     | SemanticRole of SemanticRoleType * SemanticFeature\n",
      "00:00:09 \u001B[90mverbose\u001B[0m #172 > >\n",
      "00:00:09 \u001B[90mverbose\u001B[0m #173 > > and SemanticRoleType =\n",
      "00:00:09 \u001B[90mverbose\u001B[0m #174 > >     | Agent | Patient | Instrument\n",
      "00:00:09 \u001B[90mverbose\u001B[0m #175 > >     | Location | Time | Cause\n",
      "00:00:09 \u001B[90mverbose\u001B[0m #176 > >\n",
      "00:00:09 \u001B[90mverbose\u001B[0m #177 > > and PragmaticFeature =\n",
      "00:00:09 \u001B[90mverbose\u001B[0m #178 > >     | UseContext of string\n",
      "00:00:09 \u001B[90mverbose\u001B[0m #179 > >     | PolitenessLevel of Politeness\n",
      "00:00:09 \u001B[90mverbose\u001B[0m #180 > >     | SpeechAct of SpeechActType\n",
      "00:00:09 \u001B[90mverbose\u001B[0m #181 > >     | SpeechLevel of SpeechLevelType\n",
      "00:00:09 \u001B[90mverbose\u001B[0m #182 > >\n",
      "00:00:09 \u001B[90mverbose\u001B[0m #183 > > and Politeness = Formal | Informal | Neutral\n",
      "00:00:09 \u001B[90mverbose\u001B[0m #184 > >\n",
      "00:00:09 \u001B[90mverbose\u001B[0m #185 > > and SpeechActType =\n",
      "00:00:09 \u001B[90mverbose\u001B[0m #186 > >     | Assertive | Directive | Commissive\n",
      "00:00:09 \u001B[90mverbose\u001B[0m #187 > >     | Expressive | Declarative\n",
      "00:00:09 \u001B[90mverbose\u001B[0m #188 > >\n",
      "00:00:09 \u001B[90mverbose\u001B[0m #189 > > and SpeechLevelType =\n",
      "00:00:09 \u001B[90mverbose\u001B[0m #190 > >     | FormalHigh | FormalLow | InformalHigh\n",
      "00:00:09 \u001B[90mverbose\u001B[0m #191 > >     | InformalLow | Neutral\n",
      "00:00:09 \u001B[90mverbose\u001B[0m #192 > >\n",
      "00:00:09 \u001B[90mverbose\u001B[0m #193 > > type LinguisticFeature =\n",
      "00:00:09 \u001B[90mverbose\u001B[0m #194 > >     | Phonological of PhonologicalFeature\n",
      "00:00:09 \u001B[90mverbose\u001B[0m #195 > >     | Morphological of MorphologicalFeature\n",
      "00:00:09 \u001B[90mverbose\u001B[0m #196 > >     | Syntactic of SyntacticFeature\n",
      "00:00:09 \u001B[90mverbose\u001B[0m #197 > >     | Semantic of SemanticFeature\n",
      "00:00:09 \u001B[90mverbose\u001B[0m #198 > >     | Pragmatic of PragmaticFeature\n",
      "00:00:09 \u001B[90mverbose\u001B[0m #199 > >\n",
      "00:00:09 \u001B[90mverbose\u001B[0m #200 > > type LanguageConstruct =\n",
      "00:00:09 \u001B[90mverbose\u001B[0m #201 > >     | LanguageElement of LinguisticFeature\n",
      "00:00:09 \u001B[90mverbose\u001B[0m #202 > >     | LanguageStructure of LanguageConstruct list\n",
      "00:00:09 \u001B[90mverbose\u001B[0m #203 > >     | TranslationElement of TranslationFeature\n",
      "00:00:09 \u001B[90mverbose\u001B[0m #204 > >\n",
      "00:00:09 \u001B[90mverbose\u001B[0m #205 > > and TranslationFeature =\n",
      "00:00:09 \u001B[90mverbose\u001B[0m #206 > >     | LinkedPhonological of PhonologicalFeature * PhonologicalFeature\n",
      "00:00:09 \u001B[90mverbose\u001B[0m #207 > >     | LinkedMorphological of MorphologicalFeature * MorphologicalFeature\n",
      "00:00:09 \u001B[90mverbose\u001B[0m #208 > >     | LinkedSyntactic of SyntacticFeature * SyntacticFeature\n",
      "00:00:09 \u001B[90mverbose\u001B[0m #209 > >     | LinkedSemantic of SemanticFeature * SemanticFeature\n",
      "00:00:09 \u001B[90mverbose\u001B[0m #210 > >\n",
      "00:00:09 \u001B[90mverbose\u001B[0m #211 > > type Discourse = DiscourseUnit of LanguageConstruct list\n",
      "00:00:09 \u001B[90mverbose\u001B[0m #212 > >\n",
      "00:00:09 \u001B[90mverbose\u001B[0m #213 > > type LanguageModel =\n",
      "00:00:09 \u001B[90mverbose\u001B[0m #214 > >     | Model of discourse: Discourse\n",
      "00:00:10 \u001B[90mverbose\u001B[0m #215 > >\n",
      "00:00:10 \u001B[90mverbose\u001B[0m #216 > > \u001B[38;5;103m── fsharp ──────────────────────────────────────────────────────────────────────\u001B[0m\n",
      "00:00:10 \u001B[90mverbose\u001B[0m #217 > > let testEnglish =\n",
      "00:00:10 \u001B[90mverbose\u001B[0m #218 > >     Model(\n",
      "00:00:10 \u001B[90mverbose\u001B[0m #219 > >         DiscourseUnit [[\n",
      "00:00:10 \u001B[90mverbose\u001B[0m #220 > >             LanguageElement (Phonological (ConsonantFeature (Alveolar, Nasal,\n",
      "00:00:10 \u001B[90mverbose\u001B[0m #221 > > Voiced, Some(HalfLong))));\n",
      "00:00:10 \u001B[90mverbose\u001B[0m #222 > >             LanguageElement (Phonological (VowelFeature (High, Front, Unrounded,\n",
      "00:00:10 \u001B[90mverbose\u001B[0m #223 > > Some(LevelTone 1), Some(Primary), Some(Short))));\n",
      "00:00:10 \u001B[90mverbose\u001B[0m #224 > >             LanguageElement (Phonological (VowelFeature (Low, Front, Unrounded,\n",
      "00:00:10 \u001B[90mverbose\u001B[0m #225 > > Some(LevelTone 2), Some(Secondary), Some(Long))));\n",
      "00:00:10 \u001B[90mverbose\u001B[0m #226 > >             LanguageElement (Phonological (ConsonantFeature (Velar, Plosive,\n",
      "00:00:10 \u001B[90mverbose\u001B[0m #227 > > Voiceless, Some(HalfLong))));\n",
      "00:00:10 \u001B[90mverbose\u001B[0m #228 > >             LanguageElement (Morphological (RootFeature \"I\"));\n",
      "00:00:10 \u001B[90mverbose\u001B[0m #229 > >             LanguageElement (Morphological (RootFeature \"see\"));\n",
      "00:00:10 \u001B[90mverbose\u001B[0m #230 > >             LanguageElement (Morphological (RootFeature \"a\"));\n",
      "00:00:10 \u001B[90mverbose\u001B[0m #231 > >             LanguageElement (Morphological (RootFeature \"cat\"));\n",
      "00:00:10 \u001B[90mverbose\u001B[0m #232 > >             LanguageElement (Syntactic (PhraseFeature (NP, [[WordFeature\n",
      "00:00:10 \u001B[90mverbose\u001B[0m #233 > > ([[RootFeature \"I\"]], Pronoun)]])));\n",
      "00:00:10 \u001B[90mverbose\u001B[0m #234 > >             LanguageElement (Syntactic (PhraseFeature (VP, [[WordFeature\n",
      "00:00:10 \u001B[90mverbose\u001B[0m #235 > > ([[RootFeature \"see\"]], Verb)]])));\n",
      "00:00:10 \u001B[90mverbose\u001B[0m #236 > >             LanguageElement (Syntactic (PhraseFeature (NP, [[WordFeature\n",
      "00:00:10 \u001B[90mverbose\u001B[0m #237 > > ([[RootFeature \"a\"; RootFeature \"cat\"]], Noun)]])));\n",
      "00:00:10 \u001B[90mverbose\u001B[0m #238 > >             LanguageElement (Semantic (Meaning \"Perception act of a feline by\n",
      "00:00:10 \u001B[90mverbose\u001B[0m #239 > > the speaker\"));\n",
      "00:00:10 \u001B[90mverbose\u001B[0m #240 > >             LanguageElement (Pragmatic (UseContext \"Statement of an action being\n",
      "00:00:10 \u001B[90mverbose\u001B[0m #241 > > observed\"))\n",
      "00:00:10 \u001B[90mverbose\u001B[0m #242 > >         ]]\n",
      "00:00:10 \u001B[90mverbose\u001B[0m #243 > >     )\n",
      "00:00:10 \u001B[90mverbose\u001B[0m #244 > >\n",
      "00:00:10 \u001B[90mverbose\u001B[0m #245 > > let testPortuguese =\n",
      "00:00:10 \u001B[90mverbose\u001B[0m #246 > >     Model(\n",
      "00:00:10 \u001B[90mverbose\u001B[0m #247 > >         DiscourseUnit [[\n",
      "00:00:10 \u001B[90mverbose\u001B[0m #248 > >             LanguageElement (Phonological (VowelFeature (High, Front, Unrounded,\n",
      "00:00:10 \u001B[90mverbose\u001B[0m #249 > > Some(LevelTone 1), Some(Primary), Some(Short))));\n",
      "00:00:10 \u001B[90mverbose\u001B[0m #250 > >             LanguageElement (Phonological (VowelFeature (Low, Front, Unrounded,\n",
      "00:00:10 \u001B[90mverbose\u001B[0m #251 > > Some(LevelTone 2), Some(Secondary), Some(Long))));\n",
      "00:00:10 \u001B[90mverbose\u001B[0m #252 > >             LanguageElement (Phonological (VowelFeature (Mid, Back, Rounded,\n",
      "00:00:10 \u001B[90mverbose\u001B[0m #253 > > Some(LevelTone 3), Some(Primary), Some(Short))));\n",
      "00:00:10 \u001B[90mverbose\u001B[0m #254 > >             LanguageElement (Phonological (ConsonantFeature (Velar, Plosive,\n",
      "00:00:10 \u001B[90mverbose\u001B[0m #255 > > Voiceless, Some(HalfLong))));\n",
      "00:00:10 \u001B[90mverbose\u001B[0m #256 > >             LanguageElement (Morphological (RootFeature \"Eu\"));\n",
      "00:00:10 \u001B[90mverbose\u001B[0m #257 > >             LanguageElement (Morphological (RootFeature \"ver\" |> ignore;\n",
      "00:00:10 \u001B[90mverbose\u001B[0m #258 > > AffixFeature (Suffix, \"o\")));\n",
      "00:00:10 \u001B[90mverbose\u001B[0m #259 > >             LanguageElement (Morphological (RootFeature \"um\"));\n",
      "00:00:10 \u001B[90mverbose\u001B[0m #260 > >             LanguageElement (Morphological (RootFeature \"gato\"));\n",
      "00:00:10 \u001B[90mverbose\u001B[0m #261 > >             LanguageElement (Syntactic (PhraseFeature (NP, [[WordFeature\n",
      "00:00:10 \u001B[90mverbose\u001B[0m #262 > > ([[RootFeature \"Eu\"]], Pronoun)]])));\n",
      "00:00:10 \u001B[90mverbose\u001B[0m #263 > >             LanguageElement (Syntactic (PhraseFeature (VP, [[WordFeature\n",
      "00:00:10 \u001B[90mverbose\u001B[0m #264 > > ([[RootFeature \"vejo\"]], Verb)]])));\n",
      "00:00:10 \u001B[90mverbose\u001B[0m #265 > >             LanguageElement (Syntactic (PhraseFeature (NP, [[WordFeature\n",
      "00:00:10 \u001B[90mverbose\u001B[0m #266 > > ([[RootFeature \"um\"; RootFeature \"gato\"]], Noun)]])));\n",
      "00:00:10 \u001B[90mverbose\u001B[0m #267 > >             LanguageElement (Semantic (Meaning \"Ação de percepção de um felino\n",
      "00:00:10 \u001B[90mverbose\u001B[0m #268 > > pelo falante\"));\n",
      "00:00:10 \u001B[90mverbose\u001B[0m #269 > >             LanguageElement (Pragmatic (UseContext \"Declaração de uma ação sendo\n",
      "00:00:10 \u001B[90mverbose\u001B[0m #270 > > observada\"))\n",
      "00:00:10 \u001B[90mverbose\u001B[0m #271 > >         ]]\n",
      "00:00:10 \u001B[90mverbose\u001B[0m #272 > >     )\n",
      "00:00:10 \u001B[90mverbose\u001B[0m #273 > >\n",
      "00:00:10 \u001B[90mverbose\u001B[0m #274 > > let testKorean =\n",
      "00:00:10 \u001B[90mverbose\u001B[0m #275 > >     Model(\n",
      "00:00:10 \u001B[90mverbose\u001B[0m #276 > >         DiscourseUnit [[\n",
      "00:00:10 \u001B[90mverbose\u001B[0m #277 > >             LanguageElement (Phonological (ConsonantFeature (Alveolar, Nasal,\n",
      "00:00:10 \u001B[90mverbose\u001B[0m #278 > > Voiced, Some(Short))));\n",
      "00:00:10 \u001B[90mverbose\u001B[0m #279 > >             LanguageElement (Phonological (VowelFeature (High, Back, Rounded,\n",
      "00:00:10 \u001B[90mverbose\u001B[0m #280 > > None, None, Some(Short))));\n",
      "00:00:10 \u001B[90mverbose\u001B[0m #281 > >             LanguageElement (Phonological (VowelFeature (Mid, Front, Unrounded,\n",
      "00:00:10 \u001B[90mverbose\u001B[0m #282 > > None, None, Some(Long))));\n",
      "00:00:10 \u001B[90mverbose\u001B[0m #283 > >             LanguageElement (Phonological (ConsonantFeature (Bilabial, Plosive,\n",
      "00:00:10 \u001B[90mverbose\u001B[0m #284 > > Voiceless, Some(Short))));\n",
      "00:00:10 \u001B[90mverbose\u001B[0m #285 > >             LanguageElement (Morphological (RootFeature \"나\"));\n",
      "00:00:10 \u001B[90mverbose\u001B[0m #286 > >             LanguageElement (Morphological (RootFeature \"보다\"));\n",
      "00:00:10 \u001B[90mverbose\u001B[0m #287 > >             LanguageElement (Morphological (AffixFeature (Suffix, \"아\")));\n",
      "00:00:10 \u001B[90mverbose\u001B[0m #288 > >             LanguageElement (Morphological (RootFeature \"고양이\"));\n",
      "00:00:10 \u001B[90mverbose\u001B[0m #289 > >             LanguageElement (Syntactic (PhraseFeature (NP, [[WordFeature\n",
      "00:00:10 \u001B[90mverbose\u001B[0m #290 > > ([[RootFeature \"나\"]], Pronoun)]])));\n",
      "00:00:10 \u001B[90mverbose\u001B[0m #291 > >             LanguageElement (Syntactic (PhraseFeature (VP, [[WordFeature\n",
      "00:00:10 \u001B[90mverbose\u001B[0m #292 > > ([[RootFeature \"보다\"; AffixFeature (Suffix, \"아\")]], Verb)]])));\n",
      "00:00:10 \u001B[90mverbose\u001B[0m #293 > >             LanguageElement (Syntactic (PhraseFeature (NP, [[WordFeature\n",
      "00:00:10 \u001B[90mverbose\u001B[0m #294 > > ([[RootFeature \"고양이\"]], Noun)]])));\n",
      "00:00:10 \u001B[90mverbose\u001B[0m #295 > >             LanguageElement (Semantic (Meaning \"화자에 의한 고양이의 관찰\n",
      "00:00:10 \u001B[90mverbose\u001B[0m #296 > > 행위\"));\n",
      "00:00:10 \u001B[90mverbose\u001B[0m #297 > >             LanguageElement (Pragmatic (UseContext \"관찰되고 있는 행동의 진술\"))\n",
      "00:00:10 \u001B[90mverbose\u001B[0m #298 > >         ]]\n",
      "00:00:10 \u001B[90mverbose\u001B[0m #299 > >     )\n",
      "00:00:10 \u001B[90mverbose\u001B[0m #300 > >\n",
      "00:00:10 \u001B[90mverbose\u001B[0m #301 > > \u001B[38;5;103m── markdown ────────────────────────────────────────────────────────────────────\u001B[0m\n",
      "00:00:10 \u001B[90mverbose\u001B[0m #302 > > \u001B[38;5;103m╭──────────────────────────────────────────────────────────────────────────────╮\u001B[0m\n",
      "00:00:10 \u001B[90mverbose\u001B[0m #303 > > \u001B[38;5;103m│\u001B[0m ## main                                                                      \u001B[38;5;103m│\u001B[0m\n",
      "00:00:10 \u001B[90mverbose\u001B[0m #304 > > \u001B[38;5;103m╰──────────────────────────────────────────────────────────────────────────────╯\u001B[0m\n",
      "00:00:10 \u001B[90mverbose\u001B[0m #305 > >\n",
      "00:00:10 \u001B[90mverbose\u001B[0m #306 > > \u001B[38;5;103m── spiral ──────────────────────────────────────────────────────────────────────\u001B[0m\n",
      "00:00:10 \u001B[90mverbose\u001B[0m #307 > > inl main (_args : array_base string) =\n",
      "00:00:10 \u001B[90mverbose\u001B[0m #308 > >     0i32\n",
      "00:00:10 \u001B[90mverbose\u001B[0m #309 > >\n",
      "00:00:10 \u001B[90mverbose\u001B[0m #310 > > inl main () =\n",
      "00:00:10 \u001B[90mverbose\u001B[0m #311 > >     $'let main args = !main args' : ()\n",
      "00:00:10 \u001B[90mverbose\u001B[0m #312 > >\n",
      "00:00:10 \u001B[90mverbose\u001B[0m #313 > > \u001B[38;5;103m── spiral ──────────────────────────────────────────────────────────────────────\u001B[0m\n",
      "00:00:10 \u001B[90mverbose\u001B[0m #314 > > inl app () =\n",
      "00:00:10 \u001B[90mverbose\u001B[0m #315 > >     \"test\" |> console.write_line\n",
      "00:00:10 \u001B[90mverbose\u001B[0m #316 > >     0i32\n",
      "00:00:10 \u001B[90mverbose\u001B[0m #317 > >\n",
      "00:00:10 \u001B[90mverbose\u001B[0m #318 > > inl main () =\n",
      "00:00:10 \u001B[90mverbose\u001B[0m #319 > >     print_static \"<test>\"\n",
      "00:00:10 \u001B[90mverbose\u001B[0m #320 > >\n",
      "00:00:10 \u001B[90mverbose\u001B[0m #321 > >     app\n",
      "00:00:10 \u001B[90mverbose\u001B[0m #322 > >     |> dyn\n",
      "00:00:10 \u001B[90mverbose\u001B[0m #323 > >     |> ignore\n",
      "00:00:10 \u001B[90mverbose\u001B[0m #324 > >\n",
      "00:00:10 \u001B[90mverbose\u001B[0m #325 > >     print_static \"</test>\"\n",
      "00:00:11 \u001B[90mverbose\u001B[0m #326 > 00:00:10 \u001B[90mverbose\u001B[39m #3 runtime.execute_with_options / result / { exit_code = 0; std_trace_length = 11263 }\n",
      "00:00:11 \u001B[90mverbose\u001B[0m #327 > 00:00:10 \u001B[94m  debug\u001B[39m #4 runtime.execute_with_options / { file_name = jupyter; arguments = [\"nbconvert\", \"/home/runner/work/polyglot/polyglot/apps/spiral/temp/test/test.dib.ipynb\", \"--to\", \"html\", \"--HTMLExporter.theme=dark\"]; options = { command = jupyter nbconvert \"/home/runner/work/polyglot/polyglot/apps/spiral/temp/test/test.dib.ipynb\" --to html --HTMLExporter.theme=dark; cancellation_token = None; environment_variables = Array(MutCell([])); on_line = None; stdin = None; trace = true; working_directory = None } }\n",
      "00:00:11 \u001B[90mverbose\u001B[0m #328 > 00:00:11 \u001B[90mverbose\u001B[39m #5 ! [NbConvertApp] Converting notebook /home/runner/work/polyglot/polyglot/apps/spiral/temp/test/test.dib.ipynb to html\n",
      "00:00:11 \u001B[90mverbose\u001B[0m #329 > 00:00:11 \u001B[90mverbose\u001B[39m #6 ! /opt/hostedtoolcache/Python/3.12.4/x64/lib/python3.12/site-packages/nbformat/__init__.py:96: MissingIDFieldWarning: Cell is missing an id field, this will become a hard error in future nbformat versions. You may want to use `normalize()` on your notebooks before validations (available since nbformat 5.1.4). Previous versions of nbformat are fixing this issue transparently, and will stop doing so in the future.\n",
      "00:00:11 \u001B[90mverbose\u001B[0m #330 > 00:00:11 \u001B[90mverbose\u001B[39m #7 !   validate(nb)\n",
      "00:00:12 \u001B[90mverbose\u001B[0m #331 > 00:00:11 \u001B[90mverbose\u001B[39m #8 ! /opt/hostedtoolcache/Python/3.12.4/x64/lib/python3.12/site-packages/nbconvert/filters/highlight.py:71: UserWarning: IPython3 lexer unavailable, falling back on Python 3\n",
      "00:00:12 \u001B[90mverbose\u001B[0m #332 > 00:00:11 \u001B[90mverbose\u001B[39m #9 !   return _pygments_highlight(\n",
      "00:00:12 \u001B[90mverbose\u001B[0m #333 > 00:00:11 \u001B[90mverbose\u001B[39m #10 ! [NbConvertApp] Writing 318991 bytes to /home/runner/work/polyglot/polyglot/apps/spiral/temp/test/test.dib.html\n",
      "00:00:12 \u001B[90mverbose\u001B[0m #334 > 00:00:12 \u001B[90mverbose\u001B[39m #11 runtime.execute_with_options / result / { exit_code = 0; std_trace_length = 914 }\n",
      "00:00:12 \u001B[90mverbose\u001B[0m #335 > 00:00:12 \u001B[94m  debug\u001B[39m #12 spiral_builder.run / dib / jupyter nbconvert / { exit_code = 0; jupyter_result_length = 914 }\n",
      "00:00:12 \u001B[90mverbose\u001B[0m #336 > 00:00:12 \u001B[94m  debug\u001B[39m #13 runtime.execute_with_options / { file_name = pwsh; arguments = [\"-c\", \"$counter = 1; $path = '/home/runner/work/polyglot/polyglot/apps/spiral/temp/test/test.dib.html'; (Get-Content $path -Raw) -replace '(id=\\\\\\\"cell-id=)[a-fA-F0-9]{8}', { $_.Groups[1].Value + $counter++ } | Set-Content $path\"]; options = { command = pwsh -c \"$counter = 1; $path = '/home/runner/work/polyglot/polyglot/apps/spiral/temp/test/test.dib.html'; (Get-Content $path -Raw) -replace '(id=\\\"cell-id=)[a-fA-F0-9]{8}', { $_.Groups[1].Value + $counter++ } | Set-Content $path\"; cancellation_token = None; environment_variables = Array(MutCell([])); on_line = None; stdin = None; trace = true; working_directory = None } }\n",
      "00:00:12 \u001B[90mverbose\u001B[0m #337 > 00:00:12 \u001B[90mverbose\u001B[39m #14 runtime.execute_with_options / result / { exit_code = 0; std_trace_length = 0 }\n",
      "00:00:12 \u001B[90mverbose\u001B[0m #338 > 00:00:12 \u001B[94m  debug\u001B[39m #15 spiral_builder.run / dib / html cell ids / { exit_code = 0; pwsh_replace_html_result_length = 0 }\n",
      "00:00:12 \u001B[90mverbose\u001B[0m #339 > 00:00:12 \u001B[94m  debug\u001B[39m #16 spiral_builder.run / dib / { exit_code = 0; result_length = 12236 }\n",
      "00:00:12 \u001B[94m  debug\u001B[0m #340 runtime.execute_with_options_async / { exit_code = 0; output_length = 15733 }\n",
      "00:00:12 \u001B[94m  debug\u001B[0m #1 main / executeCommand / exitCode: 0 / command: ../../../../workspace/target/release/spiral_builder dib --path test.dib --retries 3\n"
     ]
    }
   ],
   "source": [
    "{ . ../../../../apps/spiral/dist/Supervisor$(_exe) --execute-command \"../../../../workspace/target/release/spiral_builder$(_exe) dib --path test.dib --retries 3\" } | Invoke-Block"
   ]
  },
  {
   "cell_type": "markdown",
   "metadata": {},
   "source": [
    "### parse the .dib file into .spi format with dibparser"
   ]
  },
  {
   "cell_type": "code",
   "execution_count": null,
   "metadata": {
    "dotnet_interactive": {
     "language": "pwsh"
    },
    "polyglot_notebook": {
     "kernelName": "pwsh"
    }
   },
   "outputs": [
    {
     "name": "stdout",
     "output_type": "stream",
     "text": [
      "00:00:00 \u001B[94m  debug\u001B[0m #1 writeDibCode / output: Spi / path: test.dib\n",
      "00:00:00 \u001B[94m  debug\u001B[0m #2 parseDibCode / output: Spi / file: test.dib\n"
     ]
    }
   ],
   "source": [
    "{ . ../../../../apps/parser/dist/DibParser$(_exe) test.dib spi } | Invoke-Block"
   ]
  },
  {
   "cell_type": "markdown",
   "metadata": {},
   "source": [
    "### build .fsx file from .spi using supervisor"
   ]
  },
  {
   "cell_type": "code",
   "execution_count": null,
   "metadata": {
    "dotnet_interactive": {
     "language": "pwsh"
    },
    "polyglot_notebook": {
     "kernelName": "pwsh"
    }
   },
   "outputs": [
    {
     "name": "stdout",
     "output_type": "stream",
     "text": [
      "00:00:00 \u001B[90mverbose\u001B[0m #1 networking.test_port_open / { port = 13806; ex = System.AggregateException: One or more errors occurred. (Connection refused) }\n",
      "00:00:00 \u001B[90mverbose\u001B[0m #2 networking.test_port_open / { port = 13806; ex = System.AggregateException: One or more errors occurred. (Connection refused) }\n",
      "00:00:00 \u001B[94m  debug\u001B[0m #1 Supervisor.buildFile / takeWhileInclusive / outputContent:  / errors: [] / typeErrorCount: 0 / retry: 0 / path: test.spi\n",
      "00:00:00 \u001B[94m  debug\u001B[0m #2 Supervisor.buildFile / AsyncSeq.scan / outputContent:  / errors: [] / outputContentResult:  / typeErrorCount: 0 / retry: 0 / error:  / path: test.spi\n",
      "00:00:00 \u001B[94m  debug\u001B[0m #3 Supervisor.buildFile / takeWhileInclusive / outputContent:  / errors: [] / typeErrorCount: 0 / retry: 0 / path: test.spi\n",
      "00:00:00 \u001B[90mverbose\u001B[0m #4 Supervisor.sendJson / port: 13805 / json: {\"FileOpen\":{\"spiText\":\"/// # test (Polyglot)\\nnominal i = ()\\nnominal e = ()\\nnominal s = ()\\nnomin...t\\u003E\\u0022\\n\",\"uri\":\"file:///home/runner/work/polyglot/polyglot/apps/spiral/temp/test/test.spi\"}} / result:\n",
      "00:00:00 \u001B[90mverbose\u001B[0m #5 Supervisor.sendJson / port: 13805 / json: {\"BuildFile\":{\"backend\":\"Fsharp\",\"uri\":\"file:///home/runner/work/polyglot/polyglot/apps/spiral/temp/test/test.spi\"}} / result:\n",
      "00:00:00 \u001B[94m  debug\u001B[0m #6 Supervisor.buildFile / AsyncSeq.scan / outputContent: let rec closure0 () () : int32 =\n",
      "    let v0 : (string -> unit) = System.Console.WriteLine\n",
      "    let v1 : string = \"test\"\n",
      "    v0 v1\n",
      "    0\n",
      "let v0 : (unit -> int32) = closure0()\n",
      "()\n",
      " / errors: [] / outputContentResult:  / typeErrorCount: 0 / retry: 0 / error:  / path: test.spi\n",
      "00:00:00 \u001B[94m  debug\u001B[0m #7 Supervisor.buildFile / takeWhileInclusive / outputContent: let rec closure0 () () : int32 =\n",
      "    let v0 : (string -> unit) = System.Console.WriteLine\n",
      "    let v1 : string = \"test\"\n",
      "    v0 v1\n",
      "    0\n",
      "let v0 : (unit -> int32) = closure0()\n",
      "()\n",
      " / errors: [] / typeErrorCount: 0 / retry: 0 / path: test.spi\n",
      "00:00:01 \u001B[94m  debug\u001B[0m #8 FileSystem.watchWithFilter / Disposing watch stream / filter: FileName, LastWrite\n"
     ]
    }
   ],
   "source": [
    "{ . ../../../../apps/spiral/dist/Supervisor$(_exe) --build-file test.spi test.fsx } | Invoke-Block"
   ]
  },
  {
   "cell_type": "markdown",
   "metadata": {},
   "source": [
    "## compile and format the project"
   ]
  },
  {
   "cell_type": "markdown",
   "metadata": {},
   "source": [
    "### compile project with fable targeting optimized rust"
   ]
  },
  {
   "cell_type": "code",
   "execution_count": null,
   "metadata": {
    "dotnet_interactive": {
     "language": "pwsh"
    },
    "polyglot_notebook": {
     "kernelName": "pwsh"
    }
   },
   "outputs": [
    {
     "name": "stdout",
     "output_type": "stream",
     "text": [
      "\u001B[37mFable 4.17.0: F# to Rust compiler (status: alpha)\n",
      "\u001B[37m\n",
      "Thanks to the contributor! @fsoikin\n",
      "\u001B[37mStand with Ukraine! https://standwithukraine.com.ua/\n",
      "\n",
      "\u001B[37mParsing test.fsproj...\n",
      "\u001B[37m.> dotnet restore test.fable-temp.csproj -p:FABLE_COMPILER=true -p:FABLE_COMPILER_4=true -p:FABLE_COMPILER_RUST=true\n",
      "  Determining projects to restore...\n",
      "  Paket version 8.1.0-alpha002+df391903d7590864c0bba48fdc34b50ddcc94cc2\n",
      "  The last full restore is still up to date. Nothing left to do.\n",
      "  Total time taken: 0 milliseconds\n",
      "  Paket version 8.1.0-alpha002+df391903d7590864c0bba48fdc34b50ddcc94cc2\n",
      "  Restoring /home/runner/work/polyglot/polyglot/apps/spiral/temp/test/test.fable-temp.csproj\n",
      "  Starting restore process.\n",
      "  Total time taken: 0 milliseconds\n",
      "  Restored /home/runner/work/polyglot/polyglot/apps/spiral/temp/test/test.fable-temp.csproj (in 257 ms).\n",
      "\u001B[37m.> dotnet restore /home/runner/work/polyglot/polyglot/apps/spiral/temp/test/test.fsproj\n",
      "  Determining projects to restore...\n",
      "  Restored /home/runner/work/polyglot/polyglot/apps/spiral/temp/test/test.fsproj (in 245 ms).\n",
      "\u001B[37mProject and references (1 source files) parsed in 4854ms\n",
      "\n",
      "\u001B[37mStarted Fable compilation...\n",
      "\u001B[37m\n",
      "Fable compilation finished in 995ms\n",
      "\n",
      "\u001B[33m./test.fsx(7,0): (7,2) warning FABLE: For Rust, support for F# static and module do bindings is disabled by default. It can be enabled with the 'static_do_bindings' feature. Use at your own risk!\n"
     ]
    }
   ],
   "source": [
    "dotnet fable --optimize --lang rs --extension .rs"
   ]
  },
  {
   "cell_type": "markdown",
   "metadata": {},
   "source": [
    "### fix formatting issues in the .rs file using regex and set-content"
   ]
  },
  {
   "cell_type": "code",
   "execution_count": null,
   "metadata": {
    "dotnet_interactive": {
     "language": "pwsh"
    },
    "polyglot_notebook": {
     "kernelName": "pwsh"
    }
   },
   "outputs": [],
   "source": [
    "(Get-Content test.rs) `\n",
    "    -replace [regex]::Escape(\"),);\"), \"));\" `\n",
    "    | FixRust `\n",
    "| Set-Content test.rs"
   ]
  },
  {
   "cell_type": "markdown",
   "metadata": {},
   "source": [
    "### format the rust code using cargo fmt"
   ]
  },
  {
   "cell_type": "code",
   "execution_count": null,
   "metadata": {
    "dotnet_interactive": {
     "language": "pwsh"
    },
    "polyglot_notebook": {
     "kernelName": "pwsh"
    }
   },
   "outputs": [],
   "source": [
    "cargo fmt --"
   ]
  },
  {
   "cell_type": "markdown",
   "metadata": {},
   "source": [
    "## build and test the project"
   ]
  },
  {
   "cell_type": "markdown",
   "metadata": {},
   "source": [
    "### build the project in release mode using nightly rust compiler"
   ]
  },
  {
   "cell_type": "code",
   "execution_count": null,
   "metadata": {
    "dotnet_interactive": {
     "language": "pwsh"
    },
    "polyglot_notebook": {
     "kernelName": "pwsh"
    }
   },
   "outputs": [
    {
     "name": "stdout",
     "output_type": "stream",
     "text": [
      "\u001B[31;1m\u001B[1m\u001B[32m   Compiling\u001B[0m linux-raw-sys v0.4.14\u001B[0m\n",
      "\u001B[31;1m\u001B[1m\u001B[32m   Compiling\u001B[0m num-traits v0.2.19\u001B[0m\n",
      "\u001B[31;1m\u001B[1m\u001B[32m   Compiling\u001B[0m rand_chacha v0.3.1\u001B[0m\n",
      "\u001B[31;1m\u001B[1m\u001B[32m   Compiling\u001B[0m syn v2.0.68\u001B[0m\n",
      "\u001B[31;1m\u001B[1m\u001B[32m   Compiling\u001B[0m libm v0.2.8\u001B[0m\n",
      "\u001B[31;1m\u001B[1m\u001B[32m   Compiling\u001B[0m rustix v0.38.34\u001B[0m\n",
      "\u001B[31;1m\u001B[1m\u001B[32m   Compiling\u001B[0m wait-timeout v0.2.0\u001B[0m\n",
      "\u001B[31;1m\u001B[1m\u001B[32m   Compiling\u001B[0m bit-vec v0.6.3\u001B[0m\n",
      "\u001B[31;1m\u001B[1m\u001B[32m   Compiling\u001B[0m quick-error v1.2.3\u001B[0m\n",
      "\u001B[31;1m\u001B[1m\u001B[32m   Compiling\u001B[0m bit-set v0.5.3\u001B[0m\n",
      "\u001B[31;1m\u001B[1m\u001B[32m   Compiling\u001B[0m rand v0.8.5\u001B[0m\n",
      "\u001B[31;1m\u001B[1m\u001B[32m   Compiling\u001B[0m rand_xorshift v0.3.0\u001B[0m\n",
      "\u001B[31;1m\u001B[1m\u001B[32m   Compiling\u001B[0m memchr v2.7.4\u001B[0m\n",
      "\u001B[31;1m\u001B[1m\u001B[32m   Compiling\u001B[0m lazy_static v1.5.0\u001B[0m\n",
      "\u001B[31;1m\u001B[1m\u001B[32m   Compiling\u001B[0m unarray v0.1.4\u001B[0m\n",
      "\u001B[31;1m\u001B[1m\u001B[32m   Compiling\u001B[0m fable_library_rust v0.1.0 (/home/runner/work/polyglot/polyglot/lib/rust/fable/fable_modules/fable-library-rust)\u001B[0m\n",
      "\u001B[31;1m\u001B[1m\u001B[32m   Compiling\u001B[0m tempfile v3.10.1\u001B[0m\n",
      "\u001B[31;1m\u001B[1m\u001B[32m   Compiling\u001B[0m nom v7.1.3\u001B[0m\n",
      "\u001B[31;1m\u001B[1m\u001B[32m   Compiling\u001B[0m thiserror-impl v1.0.61\u001B[0m\n",
      "\u001B[31;1m\u001B[1m\u001B[32m   Compiling\u001B[0m rusty-fork v0.3.0\u001B[0m\n",
      "\u001B[31;1m\u001B[1m\u001B[32m   Compiling\u001B[0m proptest v1.4.0\u001B[0m\n",
      "\u001B[31;1m\u001B[1m\u001B[32m   Compiling\u001B[0m thiserror v1.0.61\u001B[0m\n",
      "\u001B[31;1m\u001B[1m\u001B[32m   Compiling\u001B[0m spiral_temp_test v0.0.1 (/home/runner/work/polyglot/polyglot/apps/spiral/temp/test)\u001B[0m\n",
      "\u001B[31;1m\u001B[0m\u001B[1m\u001B[33mwarning\u001B[0m\u001B[0m\u001B[1m: struct `Cart` is never constructed\u001B[0m\u001B[0m\n",
      "\u001B[31;1m\u001B[0m  \u001B[0m\u001B[0m\u001B[1m\u001B[38;5;12m--> \u001B[0m\u001B[0m/home/runner/work/polyglot/polyglot/apps/spiral/temp/test/./main.rs:41:8\u001B[0m\u001B[0m\n",
      "\u001B[31;1m\u001B[0m   \u001B[0m\u001B[0m\u001B[1m\u001B[38;5;12m|\u001B[0m\u001B[0m\n",
      "\u001B[31;1m\u001B[0m\u001B[1m\u001B[38;5;12m41\u001B[0m\u001B[0m \u001B[0m\u001B[0m\u001B[1m\u001B[38;5;12m|\u001B[0m\u001B[0m \u001B[0m\u001B[0mstruct Cart {\u001B[0m\u001B[0m\n",
      "\u001B[31;1m\u001B[0m   \u001B[0m\u001B[0m\u001B[1m\u001B[38;5;12m|\u001B[0m\u001B[0m        \u001B[0m\u001B[0m\u001B[1m\u001B[33m^^^^\u001B[0m\u001B[0m\n",
      "\u001B[31;1m\u001B[0m   \u001B[0m\u001B[0m\u001B[1m\u001B[38;5;12m|\u001B[0m\u001B[0m\n",
      "\u001B[31;1m\u001B[0m   \u001B[0m\u001B[0m\u001B[1m\u001B[38;5;12m= \u001B[0m\u001B[0m\u001B[1mnote\u001B[0m\u001B[0m: `#[warn(dead_code)]` on by default\u001B[0m\u001B[0m\n",
      "\u001B[31;1m\u001B[0m\n",
      "\u001B[31;1m\u001B[0m\u001B[1m\u001B[33mwarning\u001B[0m\u001B[0m\u001B[1m: associated items `new`, `add_item`, and `remove_item` are never used\u001B[0m\u001B[0m\n",
      "\u001B[31;1m\u001B[0m  \u001B[0m\u001B[0m\u001B[1m\u001B[38;5;12m--> \u001B[0m\u001B[0m/home/runner/work/polyglot/polyglot/apps/spiral/temp/test/./main.rs:46:8\u001B[0m\u001B[0m\n",
      "\u001B[31;1m\u001B[0m   \u001B[0m\u001B[0m\u001B[1m\u001B[38;5;12m|\u001B[0m\u001B[0m\n",
      "\u001B[31;1m\u001B[0m\u001B[1m\u001B[38;5;12m45\u001B[0m\u001B[0m \u001B[0m\u001B[0m\u001B[1m\u001B[38;5;12m|\u001B[0m\u001B[0m \u001B[0m\u001B[0mimpl Cart {\u001B[0m\u001B[0m\n",
      "\u001B[31;1m\u001B[0m   \u001B[0m\u001B[0m\u001B[1m\u001B[38;5;12m|\u001B[0m\u001B[0m \u001B[0m\u001B[0m\u001B[1m\u001B[38;5;12m---------\u001B[0m\u001B[0m \u001B[0m\u001B[0m\u001B[1m\u001B[38;5;12massociated items in this implementation\u001B[0m\u001B[0m\n",
      "\u001B[31;1m\u001B[0m\u001B[1m\u001B[38;5;12m46\u001B[0m\u001B[0m \u001B[0m\u001B[0m\u001B[1m\u001B[38;5;12m|\u001B[0m\u001B[0m \u001B[0m\u001B[0m    fn new() -> Cart {\u001B[0m\u001B[0m\n",
      "\u001B[31;1m\u001B[0m   \u001B[0m\u001B[0m\u001B[1m\u001B[38;5;12m|\u001B[0m\u001B[0m        \u001B[0m\u001B[0m\u001B[1m\u001B[33m^^^\u001B[0m\u001B[0m\n",
      "\u001B[31;1m\u001B[0m\u001B[1m\u001B[38;5;12m...\u001B[0m\u001B[0m\n",
      "\u001B[31;1m\u001B[0m\u001B[1m\u001B[38;5;12m50\u001B[0m\u001B[0m \u001B[0m\u001B[0m\u001B[1m\u001B[38;5;12m|\u001B[0m\u001B[0m \u001B[0m\u001B[0m    fn add_item(&mut self, item: Item) {\u001B[0m\u001B[0m\n",
      "\u001B[31;1m\u001B[0m   \u001B[0m\u001B[0m\u001B[1m\u001B[38;5;12m|\u001B[0m\u001B[0m        \u001B[0m\u001B[0m\u001B[1m\u001B[33m^^^^^^^^\u001B[0m\u001B[0m\n",
      "\u001B[31;1m\u001B[0m\u001B[1m\u001B[38;5;12m...\u001B[0m\u001B[0m\n",
      "\u001B[31;1m\u001B[0m\u001B[1m\u001B[38;5;12m56\u001B[0m\u001B[0m \u001B[0m\u001B[0m\u001B[1m\u001B[38;5;12m|\u001B[0m\u001B[0m \u001B[0m\u001B[0m    fn remove_item(&mut self, item: &Item) {\u001B[0m\u001B[0m\n",
      "\u001B[31;1m\u001B[0m   \u001B[0m\u001B[0m\u001B[1m\u001B[38;5;12m|\u001B[0m\u001B[0m        \u001B[0m\u001B[0m\u001B[1m\u001B[33m^^^^^^^^^^^\u001B[0m\u001B[0m\n",
      "\u001B[31;1m\u001B[0m\n",
      "\u001B[31;1m\u001B[0m\u001B[1m\u001B[33mwarning\u001B[0m\u001B[0m\u001B[1m: function `parse_comment` is never used\u001B[0m\u001B[0m\n",
      "\u001B[31;1m\u001B[0m   \u001B[0m\u001B[0m\u001B[1m\u001B[38;5;12m--> \u001B[0m\u001B[0m/home/runner/work/polyglot/polyglot/apps/spiral/temp/test/./main.rs:124:4\u001B[0m\u001B[0m\n",
      "\u001B[31;1m\u001B[0m    \u001B[0m\u001B[0m\u001B[1m\u001B[38;5;12m|\u001B[0m\u001B[0m\n",
      "\u001B[31;1m\u001B[0m\u001B[1m\u001B[38;5;12m124\u001B[0m\u001B[0m \u001B[0m\u001B[0m\u001B[1m\u001B[38;5;12m|\u001B[0m\u001B[0m \u001B[0m\u001B[0mfn parse_comment(input: &str) -> IResult<&str, SpiralToken> {\u001B[0m\u001B[0m\n",
      "\u001B[31;1m\u001B[0m    \u001B[0m\u001B[0m\u001B[1m\u001B[38;5;12m|\u001B[0m\u001B[0m    \u001B[0m\u001B[0m\u001B[1m\u001B[33m^^^^^^^^^^^^^\u001B[0m\u001B[0m\n",
      "\u001B[31;1m\u001B[0m\n",
      "\u001B[31;1m\u001B[0m\u001B[1m\u001B[33mwarning\u001B[0m\u001B[0m\u001B[1m: function `parse_string` is never used\u001B[0m\u001B[0m\n",
      "\u001B[31;1m\u001B[0m   \u001B[0m\u001B[0m\u001B[1m\u001B[38;5;12m--> \u001B[0m\u001B[0m/home/runner/work/polyglot/polyglot/apps/spiral/temp/test/./main.rs:130:4\u001B[0m\u001B[0m\n",
      "\u001B[31;1m\u001B[0m    \u001B[0m\u001B[0m\u001B[1m\u001B[38;5;12m|\u001B[0m\u001B[0m\n",
      "\u001B[31;1m\u001B[0m\u001B[1m\u001B[38;5;12m130\u001B[0m\u001B[0m \u001B[0m\u001B[0m\u001B[1m\u001B[38;5;12m|\u001B[0m\u001B[0m \u001B[0m\u001B[0mfn parse_string(input: &str) -> IResult<&str, SpiralToken> {\u001B[0m\u001B[0m\n",
      "\u001B[31;1m\u001B[0m    \u001B[0m\u001B[0m\u001B[1m\u001B[38;5;12m|\u001B[0m\u001B[0m    \u001B[0m\u001B[0m\u001B[1m\u001B[33m^^^^^^^^^^^^\u001B[0m\u001B[0m\n",
      "\u001B[31;1m\u001B[0m\n",
      "\u001B[31;1m\u001B[0m\u001B[1m\u001B[33mwarning\u001B[0m\u001B[0m\u001B[1m: function `parse_identifier` is never used\u001B[0m\u001B[0m\n",
      "\u001B[31;1m\u001B[0m   \u001B[0m\u001B[0m\u001B[1m\u001B[38;5;12m--> \u001B[0m\u001B[0m/home/runner/work/polyglot/polyglot/apps/spiral/temp/test/./main.rs:145:4\u001B[0m\u001B[0m\n",
      "\u001B[31;1m\u001B[0m    \u001B[0m\u001B[0m\u001B[1m\u001B[38;5;12m|\u001B[0m\u001B[0m\n",
      "\u001B[31;1m\u001B[0m\u001B[1m\u001B[38;5;12m145\u001B[0m\u001B[0m \u001B[0m\u001B[0m\u001B[1m\u001B[38;5;12m|\u001B[0m\u001B[0m \u001B[0m\u001B[0mfn parse_identifier(input: &str) -> IResult<&str, SpiralToken> {\u001B[0m\u001B[0m\n",
      "\u001B[31;1m\u001B[0m    \u001B[0m\u001B[0m\u001B[1m\u001B[38;5;12m|\u001B[0m\u001B[0m    \u001B[0m\u001B[0m\u001B[1m\u001B[33m^^^^^^^^^^^^^^^^\u001B[0m\u001B[0m\n",
      "\u001B[31;1m\u001B[0m\n",
      "\u001B[31;1m\u001B[0m\u001B[1m\u001B[33mwarning\u001B[0m\u001B[0m\u001B[1m: function `parse_integer` is never used\u001B[0m\u001B[0m\n",
      "\u001B[31;1m\u001B[0m   \u001B[0m\u001B[0m\u001B[1m\u001B[38;5;12m--> \u001B[0m\u001B[0m/home/runner/work/polyglot/polyglot/apps/spiral/temp/test/./main.rs:157:4\u001B[0m\u001B[0m\n",
      "\u001B[31;1m\u001B[0m    \u001B[0m\u001B[0m\u001B[1m\u001B[38;5;12m|\u001B[0m\u001B[0m\n",
      "\u001B[31;1m\u001B[0m\u001B[1m\u001B[38;5;12m157\u001B[0m\u001B[0m \u001B[0m\u001B[0m\u001B[1m\u001B[38;5;12m|\u001B[0m\u001B[0m \u001B[0m\u001B[0mfn parse_integer(input: &str) -> IResult<&str, SpiralToken> {\u001B[0m\u001B[0m\n",
      "\u001B[31;1m\u001B[0m    \u001B[0m\u001B[0m\u001B[1m\u001B[38;5;12m|\u001B[0m\u001B[0m    \u001B[0m\u001B[0m\u001B[1m\u001B[33m^^^^^^^^^^^^^\u001B[0m\u001B[0m\n",
      "\u001B[31;1m\u001B[0m\n",
      "\u001B[31;1m\u001B[0m\u001B[1m\u001B[33mwarning\u001B[0m\u001B[0m\u001B[1m: function `parse_operator` is never used\u001B[0m\u001B[0m\n",
      "\u001B[31;1m\u001B[0m   \u001B[0m\u001B[0m\u001B[1m\u001B[38;5;12m--> \u001B[0m\u001B[0m/home/runner/work/polyglot/polyglot/apps/spiral/temp/test/./main.rs:165:4\u001B[0m\u001B[0m\n",
      "\u001B[31;1m\u001B[0m    \u001B[0m\u001B[0m\u001B[1m\u001B[38;5;12m|\u001B[0m\u001B[0m\n",
      "\u001B[31;1m\u001B[0m\u001B[1m\u001B[38;5;12m165\u001B[0m\u001B[0m \u001B[0m\u001B[0m\u001B[1m\u001B[38;5;12m|\u001B[0m\u001B[0m \u001B[0m\u001B[0mfn parse_operator(input: &str) -> IResult<&str, SpiralToken> {\u001B[0m\u001B[0m\n",
      "\u001B[31;1m\u001B[0m    \u001B[0m\u001B[0m\u001B[1m\u001B[38;5;12m|\u001B[0m\u001B[0m    \u001B[0m\u001B[0m\u001B[1m\u001B[33m^^^^^^^^^^^^^^\u001B[0m\u001B[0m\n",
      "\u001B[31;1m\u001B[0m\n",
      "\u001B[31;1m\u001B[0m\u001B[1m\u001B[33mwarning\u001B[0m\u001B[0m\u001B[1m: function `parse_token` is never used\u001B[0m\u001B[0m\n",
      "\u001B[31;1m\u001B[0m   \u001B[0m\u001B[0m\u001B[1m\u001B[38;5;12m--> \u001B[0m\u001B[0m/home/runner/work/polyglot/polyglot/apps/spiral/temp/test/./main.rs:170:4\u001B[0m\u001B[0m\n",
      "\u001B[31;1m\u001B[0m    \u001B[0m\u001B[0m\u001B[1m\u001B[38;5;12m|\u001B[0m\u001B[0m\n",
      "\u001B[31;1m\u001B[0m\u001B[1m\u001B[38;5;12m170\u001B[0m\u001B[0m \u001B[0m\u001B[0m\u001B[1m\u001B[38;5;12m|\u001B[0m\u001B[0m \u001B[0m\u001B[0mfn parse_token(input: &str) -> IResult<&str, SpiralToken> {\u001B[0m\u001B[0m\n",
      "\u001B[31;1m\u001B[0m    \u001B[0m\u001B[0m\u001B[1m\u001B[38;5;12m|\u001B[0m\u001B[0m    \u001B[0m\u001B[0m\u001B[1m\u001B[33m^^^^^^^^^^^\u001B[0m\u001B[0m\n",
      "\u001B[31;1m\u001B[0m\n",
      "\u001B[31;1m\u001B[0m\u001B[1m\u001B[33mwarning\u001B[0m\u001B[0m\u001B[1m: function `format_token` is never used\u001B[0m\u001B[0m\n",
      "\u001B[31;1m\u001B[0m   \u001B[0m\u001B[0m\u001B[1m\u001B[38;5;12m--> \u001B[0m\u001B[0m/home/runner/work/polyglot/polyglot/apps/spiral/temp/test/./main.rs:180:4\u001B[0m\u001B[0m\n",
      "\u001B[31;1m\u001B[0m    \u001B[0m\u001B[0m\u001B[1m\u001B[38;5;12m|\u001B[0m\u001B[0m\n",
      "\u001B[31;1m\u001B[0m\u001B[1m\u001B[38;5;12m180\u001B[0m\u001B[0m \u001B[0m\u001B[0m\u001B[1m\u001B[38;5;12m|\u001B[0m\u001B[0m \u001B[0m\u001B[0mfn format_token(token: &SpiralToken) -> String {\u001B[0m\u001B[0m\n",
      "\u001B[31;1m\u001B[0m    \u001B[0m\u001B[0m\u001B[1m\u001B[38;5;12m|\u001B[0m\u001B[0m    \u001B[0m\u001B[0m\u001B[1m\u001B[33m^^^^^^^^^^^^\u001B[0m\u001B[0m\n",
      "\u001B[31;1m\u001B[0m\n",
      "\u001B[31;1m\u001B[0m\u001B[1m\u001B[33mwarning\u001B[0m\u001B[0m\u001B[1m: function `parse_expression` is never used\u001B[0m\u001B[0m\n",
      "\u001B[31;1m\u001B[0m   \u001B[0m\u001B[0m\u001B[1m\u001B[38;5;12m--> \u001B[0m\u001B[0m/home/runner/work/polyglot/polyglot/apps/spiral/temp/test/./main.rs:201:4\u001B[0m\u001B[0m\n",
      "\u001B[31;1m\u001B[0m    \u001B[0m\u001B[0m\u001B[1m\u001B[38;5;12m|\u001B[0m\u001B[0m\n",
      "\u001B[31;1m\u001B[0m\u001B[1m\u001B[38;5;12m201\u001B[0m\u001B[0m \u001B[0m\u001B[0m\u001B[1m\u001B[38;5;12m|\u001B[0m\u001B[0m \u001B[0m\u001B[0mfn parse_expression(input: &str) -> IResult<&str, SpiralToken> {\u001B[0m\u001B[0m\n",
      "\u001B[31;1m\u001B[0m    \u001B[0m\u001B[0m\u001B[1m\u001B[38;5;12m|\u001B[0m\u001B[0m    \u001B[0m\u001B[0m\u001B[1m\u001B[33m^^^^^^^^^^^^^^^^\u001B[0m\u001B[0m\n",
      "\u001B[31;1m\u001B[0m\n",
      "\u001B[31;1m\u001B[1m\u001B[33mwarning\u001B[0m\u001B[1m:\u001B[0m `spiral_temp_test` (bin \"spiral_temp_test\") generated 10 warnings\u001B[0m\n",
      "\u001B[31;1m\u001B[1m\u001B[32m    Finished\u001B[0m `release` profile [optimized] target(s) in 9.72s\u001B[0m\n"
     ]
    }
   ],
   "source": [
    "cargo +nightly build --release"
   ]
  },
  {
   "cell_type": "markdown",
   "metadata": {},
   "source": [
    "### run release tests with output enabled"
   ]
  },
  {
   "cell_type": "code",
   "execution_count": null,
   "metadata": {
    "dotnet_interactive": {
     "language": "pwsh"
    },
    "polyglot_notebook": {
     "kernelName": "pwsh"
    }
   },
   "outputs": [
    {
     "name": "stdout",
     "output_type": "stream",
     "text": [
      "\u001B[31;1m\u001B[1m\u001B[32m   Compiling\u001B[0m bitflags v2.5.0\u001B[0m\n",
      "\u001B[31;1m\u001B[1m\u001B[32m   Compiling\u001B[0m linux-raw-sys v0.4.14\u001B[0m\n",
      "\u001B[31;1m\u001B[1m\u001B[32m   Compiling\u001B[0m fastrand v2.1.0\u001B[0m\n",
      "\u001B[31;1m\u001B[1m\u001B[32m   Compiling\u001B[0m wait-timeout v0.2.0\u001B[0m\n",
      "\u001B[31;1m\u001B[1m\u001B[32m   Compiling\u001B[0m quick-error v1.2.3\u001B[0m\n",
      "\u001B[31;1m\u001B[1m\u001B[32m   Compiling\u001B[0m fnv v1.0.7\u001B[0m\n",
      "\u001B[31;1m\u001B[1m\u001B[32m   Compiling\u001B[0m bit-vec v0.6.3\u001B[0m\n",
      "\u001B[31;1m\u001B[1m\u001B[32m   Compiling\u001B[0m num-traits v0.2.19\u001B[0m\n",
      "\u001B[31;1m\u001B[1m\u001B[32m   Compiling\u001B[0m rand v0.8.5\u001B[0m\n",
      "\u001B[31;1m\u001B[1m\u001B[32m   Compiling\u001B[0m bit-set v0.5.3\u001B[0m\n",
      "\u001B[31;1m\u001B[1m\u001B[32m   Compiling\u001B[0m rustix v0.38.34\u001B[0m\n",
      "\u001B[31;1m\u001B[1m\u001B[32m   Compiling\u001B[0m rand_xorshift v0.3.0\u001B[0m\n",
      "\u001B[31;1m\u001B[1m\u001B[32m   Compiling\u001B[0m memchr v2.7.4\u001B[0m\n",
      "\u001B[31;1m\u001B[1m\u001B[32m   Compiling\u001B[0m unarray v0.1.4\u001B[0m\n",
      "\u001B[31;1m\u001B[1m\u001B[32m   Compiling\u001B[0m minimal-lexical v0.2.1\u001B[0m\n",
      "\u001B[31;1m\u001B[1m\u001B[32m   Compiling\u001B[0m fable_library_rust v0.1.0 (/home/runner/work/polyglot/polyglot/lib/rust/fable/fable_modules/fable-library-rust)\u001B[0m\n",
      "\u001B[31;1m\u001B[1m\u001B[32m   Compiling\u001B[0m nom v7.1.3\u001B[0m\n",
      "\u001B[31;1m\u001B[1m\u001B[32m   Compiling\u001B[0m thiserror v1.0.61\u001B[0m\n",
      "\u001B[31;1m\u001B[1m\u001B[32m   Compiling\u001B[0m tempfile v3.10.1\u001B[0m\n",
      "\u001B[31;1m\u001B[1m\u001B[32m   Compiling\u001B[0m rusty-fork v0.3.0\u001B[0m\n",
      "\u001B[31;1m\u001B[1m\u001B[32m   Compiling\u001B[0m proptest v1.4.0\u001B[0m\n",
      "\u001B[31;1m\u001B[1m\u001B[32m   Compiling\u001B[0m spiral_temp_test v0.0.1 (/home/runner/work/polyglot/polyglot/apps/spiral/temp/test)\u001B[0m\n",
      "\u001B[31;1m\u001B[1m\u001B[32m    Finished\u001B[0m `release` profile [optimized] target(s) in 15.23s\u001B[0m\n",
      "\u001B[31;1m\u001B[1m\u001B[32m     Running\u001B[0m unittests main.rs (/home/runner/work/polyglot/polyglot/workspace/target/release/deps/spiral_temp_test-e5af33a5c220fa36)\u001B[0m\n",
      "\n",
      "running 3 tests\n",
      "test test_parse_number ... ok\n",
      "test prop_parse_format_idempotent ... ok\n",
      "test adding_and_then_removing_an_item_from_the_cart_leaves_the_cart_unchanged ... ok\n",
      "\n",
      "successes:\n",
      "\n",
      "---- prop_parse_format_idempotent stdout ----\n",
      "input=Operator(\"+\")\n",
      "input=Operator(\"+\")\n",
      "input=StringLiteral(\"xj/|`.h.%ik$+z\")\n",
      "input=Comment(\"/X%Z*'%\\\"\\\"l)Be`L\\\"9\\\\1.a`b\")\n",
      "input=Integer(697949462422357552)\n",
      "input=Identifier(\"vYHaaRH\")\n",
      "input=Operator(\"/\")\n",
      "input=Integer(2930678731322759069)\n",
      "input=Integer(-8612545094950479961)\n",
      "input=Operator(\"+\")\n",
      "input=Identifier(\"pTHfzkP9cj83EljiB0PS8\")\n",
      "input=Identifier(\"Za3blqsX3JdH4REMAgpEEeqUwM0A56viI\")\n",
      "input=Operator(\"=\")\n",
      "input=Comment(\"l\\\"aeT%\\\\1lXt:lTwr<tqe\\\\w<+]$<,mSz\")\n",
      "input=Integer(3488622253763173868)\n",
      "input=StringLiteral(\"V~akB(:H*hw\")\n",
      "input=Identifier(\"YGGS7Vk1i12MvAWuqOt4P6DQO5p\")\n",
      "input=Comment(\"M\")\n",
      "input=Integer(-703568139565133799)\n",
      "input=StringLiteral(\">}q7**?J^|$b<&/\")\n",
      "input=Integer(8119972429924883184)\n",
      "input=Operator(\"-\")\n",
      "input=Identifier(\"H0BSV4RYN3bQ6011TOMn3hFaRc\")\n",
      "input=StringLiteral(\",(EwZ?4.@#-\")\n",
      "input=Integer(3523214674962475655)\n",
      "input=Integer(-8033149229540543710)\n",
      "input=Operator(\"+\")\n",
      "input=Operator(\"*\")\n",
      "input=Comment(\"QU_3%+~UH~ovV)f|29pT+$?{*!.n${c.\")\n",
      "input=Identifier(\"L4ka1\")\n",
      "input=Integer(8316659566650140200)\n",
      "input=Identifier(\"fudx\")\n",
      "input=Identifier(\"k0jLc8RhP58q1hag6aP9e45cu1h18y6\")\n",
      "input=Integer(8536420298136177600)\n",
      "input=StringLiteral(\" Eau$:2:x'NSE7<oWLg'Hs' $\")\n",
      "input=Operator(\"-\")\n",
      "input=Integer(7240088026295320284)\n",
      "input=Identifier(\"ZvSzVNch4Gq\")\n",
      "input=StringLiteral(\"`Mym/B?i{o&:/$?a7'Et#oH/%\")\n",
      "input=StringLiteral(\"h[#g`j\")\n",
      "input=Comment(\"~35)9-{u$`n*I07\")\n",
      "input=Operator(\"=\")\n",
      "input=StringLiteral(\"401KX$`%?%n\")\n",
      "input=Integer(-6274884755943766238)\n",
      "input=StringLiteral(\"2lU#U&6?I?ae<YGh#\")\n",
      "input=Comment(\"m@6$^wR\\\\`MC/b2.Z&t|p4{\")\n",
      "input=Integer(5361436101865016722)\n",
      "input=Comment(\"qdb;qC`JGg*<6%S*UA,Q:Bdw\\\\lc.{\")\n",
      "input=Comment(\"*'s}9<=\")\n",
      "input=Identifier(\"eEQYD4\")\n",
      "input=StringLiteral(\"K,B]x/*O+rEVQq]%=`(6e\")\n",
      "input=Integer(-3353722457352841366)\n",
      "input=Integer(7373418262685548545)\n",
      "input=Comment(\"<:::qy\")\n",
      "input=StringLiteral(\"g=U%3r*cW7?p/'*mUjy c'$mRG\")\n",
      "input=Integer(-8406498535707930072)\n",
      "input=Operator(\"-\")\n",
      "input=Operator(\"+\")\n",
      "input=Integer(-6956843393088853853)\n",
      "input=Identifier(\"CErAYMxydg420R6sCMNz17ma\")\n",
      "input=Identifier(\"Ann9lrYW4ss5H51AO7x8oJn2541\")\n",
      "input=StringLiteral(\"6huA#=8:^5=7XtU94lj_w{z'D\")\n",
      "input=Integer(3746186199451219613)\n",
      "input=StringLiteral(\"&4N-dD'%Ia~;E](:e`~n%9\")\n",
      "input=Operator(\"+\")\n",
      "input=Operator(\"/\")\n",
      "input=StringLiteral(\"7A8pK1|]MmwL>mHCI|tD\")\n",
      "input=Operator(\"/\")\n",
      "input=Operator(\"+\")\n",
      "input=Comment(\"<=GpS}KY'G\")\n",
      "input=Identifier(\"yNj\")\n",
      "input=Identifier(\"B4K\")\n",
      "input=Identifier(\"a\")\n",
      "input=StringLiteral(\"9DlZ);HV&WK`4N)=T\")\n",
      "input=Identifier(\"waq5nlP92B69S88KF9X0tXdpYssdpB1\")\n",
      "input=Identifier(\"b0u8di8LzIDL3c\")\n",
      "input=Identifier(\"CZDltD1R0t4O3L55GFhFI6\")\n",
      "input=Integer(-491313228259483483)\n",
      "input=Operator(\"(\")\n",
      "input=Integer(3559329803568301659)\n",
      "input=Comment(\"d._v==({\")\n",
      "input=StringLiteral(\"+6{GD?'{1C=.&mP\")\n",
      "input=Identifier(\"azhLHRiuVV\")\n",
      "input=Integer(-8378803931799094510)\n",
      "input=StringLiteral(\"=u{%_J=/:\")\n",
      "input=StringLiteral(\"x\")\n",
      "input=Integer(5680471134641161000)\n",
      "input=StringLiteral(\"=-0;<-ek<(6A*hn~e<&R!X?tbk/IM'~\")\n",
      "input=Comment(\"Y$n9*,f\")\n",
      "input=Comment(\"n=l~\")\n",
      "input=Integer(1940316916725932144)\n",
      "input=Integer(-8630257111101881601)\n",
      "input=Comment(\"X{o 1&z.FgZE$-_1$`F$1hFZ{\")\n",
      "input=Comment(\"FI%G\")\n",
      "input=Identifier(\"F7Um4aogYNhKoK41M81rhUdgMxmW9l\")\n",
      "input=Identifier(\"bqF20XMHy\")\n",
      "input=Comment(\"i\\\\\\\\,m[-t'.\\\"2P3y31N\")\n",
      "input=Integer(6689490030034545610)\n",
      "input=Integer(-6259793056993443483)\n",
      "input=Integer(-2550295251301589053)\n",
      "input=Comment(\"cqf[RQdN(/$\")\n",
      "input=StringLiteral(\"%zobZ2`>..'z1x,*i`zZx.Y4;Sp\")\n",
      "input=Identifier(\"y2K\")\n",
      "input=Comment(\"\")\n",
      "input=Comment(\":<GlB\\\":'*\\\"Dmd&+;09/J{BQ,$`w\")\n",
      "input=Integer(-6423609347794542518)\n",
      "input=Operator(\"/\")\n",
      "input=StringLiteral(\"ca!{AyE/?GnXg#W9PA?R=P=:\")\n",
      "input=Operator(\"*\")\n",
      "input=Integer(4360208805875229326)\n",
      "input=Operator(\"=\")\n",
      "input=StringLiteral(\"{s<R<{y\")\n",
      "input=Comment(\"'{Y5& b'\\\\g\")\n",
      "input=Operator(\")\")\n",
      "input=StringLiteral(\"'{oC3e>Z'tE;'Nu/f'&ul4)$(i&w\")\n",
      "input=Identifier(\"ST45r3nf5ortyjS46kUFJ5982\")\n",
      "input=Integer(-8653598749823714860)\n",
      "input=StringLiteral(\"9+?N{\")\n",
      "input=Comment(\"e1|M %\\\\P2z'695fm<5\")\n",
      "input=Comment(\".d`{H&@YHRd${^I:W(2$AH3BL\")\n",
      "input=Comment(\"^`/IB&\\\\Y\")\n",
      "input=Comment(\"6Yd&{.:\")\n",
      "input=StringLiteral(\"B$wD?_wjx/sp/t5Hf+Y{mGuS\")\n",
      "input=Integer(-9150180383263003301)\n",
      "input=Comment(\"e@[ $r+15\")\n",
      "input=Operator(\"/\")\n",
      "input=StringLiteral(\"2:Nh/}5eRvqQ.sg8m\")\n",
      "input=Identifier(\"L0EW3cLOoT0gC6QcEOxt0so\")\n",
      "input=Identifier(\"rW\")\n",
      "input=Identifier(\"K9itF7QMK2N\")\n",
      "input=Identifier(\"gBB1RB0n8gaIOVIv9PQ\")\n",
      "input=Identifier(\"OlqlFvwRxG9my79i4fafUl9A8h6\")\n",
      "input=Identifier(\"eWW8dsB6p5Xh04hD272m585MSp4UcsI7z\")\n",
      "input=Comment(\"*\\\\xBaMG<\\\\*\\\")\\\\uTm_'v%Hl\")\n",
      "input=Comment(\"4DH{[`Mz$}L!I<v:-.Y8\\\"\\\"zud%p\")\n",
      "input=Integer(-2970666555380753139)\n",
      "input=Identifier(\"U6Th9GFH7iAr6RzDm0S2c\")\n",
      "input=Identifier(\"j0sGndF3A8CKtkMS5kBDzq\")\n",
      "input=Integer(-4709552190530488002)\n",
      "input=Integer(-2559191171242471493)\n",
      "input=Identifier(\"M22nYC9628SRhy2121yhw6\")\n",
      "input=Integer(5888094092494214515)\n",
      "input=Integer(-5694215976854350188)\n",
      "input=Operator(\"(\")\n",
      "input=Comment(\"=m^J>5aOO&?s#*R*#y*-s.M3l&zx'}/\")\n",
      "input=StringLiteral(\"<0tZ{7`>hI':9&\")\n",
      "input=Comment(\"T473aV^U2\\\"c.f)l*'|(g4G|/c<uC\")\n",
      "input=Integer(1803469714477825690)\n",
      "input=Integer(-4085372380626315554)\n",
      "input=Identifier(\"mejI117k2VSdKpKW67g28VJIzNQrTFaIP\")\n",
      "input=Integer(-5451925135630681849)\n",
      "input=Operator(\"(\")\n",
      "input=StringLiteral(\"mB_*U9=Tq`i#k{`NxK9[R<Sp'*.'X\")\n",
      "input=Operator(\")\")\n",
      "input=Integer(2793524326651855220)\n",
      "input=StringLiteral(\"='y=VD/}}O?:W9GQjdE!J\")\n",
      "input=Comment(\"=6@5XU%&\\\\BH\\\\?#b\\\"<|)Q\")\n",
      "input=Operator(\"-\")\n",
      "input=Operator(\"=\")\n",
      "input=Operator(\"=\")\n",
      "input=Integer(-1629852376988562312)\n",
      "input=Identifier(\"jno1AdyxPQJGzwfn01lqz4cAsV2RI\")\n",
      "input=Identifier(\"jRkqM7Ti4QJ\")\n",
      "input=Operator(\"=\")\n",
      "input=Identifier(\"LED6oN5ou\")\n",
      "input=Integer(-1484548300498453006)\n",
      "input=Comment(\"aYT/</X*:PU}:-0='\\\"b~nk\")\n",
      "input=Integer(-4855087384469767130)\n",
      "input=Operator(\"/\")\n",
      "input=Comment(\"Y*)\")\n",
      "input=Identifier(\"YDcq1dryQ84OiT9t1y2026gBthI5Z\")\n",
      "input=Identifier(\"rC8hLHuSP4k40ONrmY0s6E7VLcINfv6n\")\n",
      "input=Integer(-8119489201788255966)\n",
      "input=Comment(\"X<cO.+w&H:P?NlsO\\\"jOMf>6\")\n",
      "input=Comment(\"^ab)[{\\\"w7\")\n",
      "input=Integer(-666029658155637651)\n",
      "input=Operator(\"=\")\n",
      "input=Comment(\"+{'+M*~\")\n",
      "input=StringLiteral(\"&}I$!''?`^:k$ D6h hfxgz`'\")\n",
      "input=Operator(\"*\")\n",
      "input=Integer(5525560771394424312)\n",
      "input=StringLiteral(\".7:,LTQm?0O|hVs<utRm7wS([1cw\")\n",
      "input=StringLiteral(\"8L;%#4N\")\n",
      "input=Identifier(\"wfd7fWVphSPSEYG\")\n",
      "input=Operator(\"/\")\n",
      "input=Operator(\"=\")\n",
      "input=Identifier(\"U53Aizsfz38moKvVC5\")\n",
      "input=Identifier(\"UrnI34fEUqOi5d8A2hVke035r5D1IPz\")\n",
      "input=Comment(\"&WvkB\")\n",
      "input=Identifier(\"nMwm525n9dgx\")\n",
      "input=Comment(\"YW\")\n",
      "input=Operator(\"*\")\n",
      "input=Identifier(\"yBjsT4BvIjrcSSbiwZhizy720G\")\n",
      "input=Operator(\"*\")\n",
      "input=Operator(\"+\")\n",
      "input=Identifier(\"RVc\")\n",
      "input=Comment(\"*4*<W<% ?{8n^:ar9nc$w=DE$\")\n",
      "input=StringLiteral(\"G{h</*(/&=qy+'%q'c?`j!\")\n",
      "input=Integer(-8660851748963619882)\n",
      "input=Identifier(\"vj20SoK8GG0xTBxQ5PZl41gefyy8Wc85\")\n",
      "input=Integer(830670735915423913)\n",
      "input=Integer(-7862471517095069148)\n",
      "input=StringLiteral(\"*\")\n",
      "input=Operator(\"+\")\n",
      "input=Identifier(\"TV9iprlG5MR4J681e7Wt\")\n",
      "input=Identifier(\"I28MTZ99U3g5VwgVXVenbKqqYK\")\n",
      "input=StringLiteral(\"m?\")\n",
      "input=Comment(\"=T`dpIg?.$GB\")\n",
      "input=Comment(\"K]?/[Ls1XkN.xBarl2{IO@C&I.1BY_u\")\n",
      "input=Integer(8221740165616637542)\n",
      "input=Comment(\"T&=Trp|\\\"GgK\\\"I\")\n",
      "input=StringLiteral(\"==<?w\")\n",
      "input=Operator(\"=\")\n",
      "input=Comment(\"\\\\.C</'=*M\")\n",
      "input=Integer(-8497400010810212730)\n",
      "input=Integer(7842071403454368183)\n",
      "input=Integer(-4704973787852506078)\n",
      "input=Integer(5653589216610721729)\n",
      "input=Operator(\")\")\n",
      "input=Comment(\"9$<_$>IN<=M?IVp'k#@&_=2\")\n",
      "input=Operator(\"(\")\n",
      "input=StringLiteral(\"r'qCE{JQ&w}Qlg<2R%731\")\n",
      "input=Comment(\"8/nz\")\n",
      "input=Integer(-7170460915207359854)\n",
      "input=StringLiteral(\"'}VE?PS2NS%[5:{8l`/Jw?u@g3 |\")\n",
      "input=Operator(\"*\")\n",
      "input=Integer(8443783392511734655)\n",
      "input=StringLiteral(\"[6bFqqcAnEc&M$>0>#:f^l& rg'\")\n",
      "input=StringLiteral(\"N?,kCt&.*6{DPM?zVPkz^.F?\")\n",
      "input=Comment(\"{I1?V%c<*'\")\n",
      "input=StringLiteral(\"Jz%)d-R{(s%\")\n",
      "input=Integer(-3847797012030566096)\n",
      "input=StringLiteral(\"<t_B9\")\n",
      "input=Operator(\"+\")\n",
      "input=Operator(\"/\")\n",
      "input=Identifier(\"p5n05zRw6r64K\")\n",
      "input=Comment(\"&%6Y~(`N7'EE\\\"e\\\\\")\n",
      "input=Identifier(\"lhLN47RzJzu1ckUjtJsPq6xH16\")\n",
      "input=Operator(\"(\")\n",
      "input=Comment(\"<\")\n",
      "input=Identifier(\"Vfj7BiioWdtpBo1on5A8JU\")\n",
      "input=StringLiteral(\"%iT(`KB\")\n",
      "input=Comment(\"!&&/`.@hr:jAZ4G]`X\")\n",
      "input=Identifier(\"oF\")\n",
      "input=StringLiteral(\"\")\n",
      "input=Identifier(\"b5yDAOm0fV7qDIFPt43Q\")\n",
      "input=Integer(3917656880869686485)\n",
      "input=Identifier(\"IZf\")\n",
      "input=Integer(-691793273098490938)\n",
      "input=Integer(7403877339797891201)\n",
      "input=Identifier(\"T4l4Pn8Dt07AWVZCnRdc\")\n",
      "input=Identifier(\"eNL0H88ASqMpwO7xgVuS2p\")\n",
      "input=Integer(7117346721337035540)\n",
      "input=Operator(\"/\")\n",
      "input=Operator(\"-\")\n",
      "input=Operator(\"*\")\n",
      "\n",
      "\n",
      "successes:\n",
      "    adding_and_then_removing_an_item_from_the_cart_leaves_the_cart_unchanged\n",
      "    prop_parse_format_idempotent\n",
      "    test_parse_number\n",
      "\n",
      "test result: ok. 3 passed; 0 failed; 0 ignored; 0 measured; 0 filtered out; finished in 0.08s\n",
      "\n"
     ]
    }
   ],
   "source": [
    "{ cargo +nightly test --release -- --show-output } | Invoke-Block"
   ]
  },
  {
   "cell_type": "markdown",
   "metadata": {},
   "source": [
    "### execute the binary in release mode"
   ]
  },
  {
   "cell_type": "code",
   "execution_count": null,
   "metadata": {
    "dotnet_interactive": {
     "language": "pwsh"
    },
    "polyglot_notebook": {
     "kernelName": "pwsh"
    }
   },
   "outputs": [
    {
     "name": "stdout",
     "output_type": "stream",
     "text": [
      "app=test\n"
     ]
    }
   ],
   "source": [
    "{ . $ScriptDir/../../../../workspace/target/release/spiral_temp_test$(_exe) } | Invoke-Block"
   ]
  }
 ],
 "metadata": {},
 "nbformat": 4,
 "nbformat_minor": 5
}