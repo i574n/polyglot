{
 "cells": [
  {
   "cell_type": "markdown",
   "metadata": {},
   "source": [
    "# test"
   ]
  },
  {
   "cell_type": "markdown",
   "metadata": {},
   "source": [
    "## include scripts"
   ]
  },
  {
   "cell_type": "markdown",
   "metadata": {},
   "source": [
    "### include notebook core"
   ]
  },
  {
   "cell_type": "code",
   "execution_count": null,
   "metadata": {
    "dotnet_interactive": {
     "language": "pwsh"
    },
    "polyglot_notebook": {
     "kernelName": "pwsh"
    }
   },
   "outputs": [],
   "source": [
    ". ../../../../scripts/nbs_header.ps1"
   ]
  },
  {
   "cell_type": "markdown",
   "metadata": {},
   "source": [
    "### Include core functions script"
   ]
  },
  {
   "cell_type": "code",
   "execution_count": null,
   "metadata": {
    "dotnet_interactive": {
     "language": "pwsh"
    },
    "polyglot_notebook": {
     "kernelName": "pwsh"
    }
   },
   "outputs": [],
   "source": [
    ". ../../../../scripts/core.ps1"
   ]
  },
  {
   "cell_type": "markdown",
   "metadata": {},
   "source": [
    "### Include spiral library"
   ]
  },
  {
   "cell_type": "code",
   "execution_count": null,
   "metadata": {
    "dotnet_interactive": {
     "language": "pwsh"
    },
    "polyglot_notebook": {
     "kernelName": "pwsh"
    }
   },
   "outputs": [],
   "source": [
    ". ../../../../lib/spiral/lib.ps1"
   ]
  },
  {
   "cell_type": "markdown",
   "metadata": {},
   "source": [
    "## execute project commands"
   ]
  },
  {
   "cell_type": "markdown",
   "metadata": {},
   "source": [
    "### run notebook with retries using spiral supervisor"
   ]
  },
  {
   "cell_type": "code",
   "execution_count": null,
   "metadata": {
    "dotnet_interactive": {
     "language": "pwsh"
    },
    "polyglot_notebook": {
     "kernelName": "pwsh"
    }
   },
   "outputs": [
    {
     "name": "stdout",
     "output_type": "stream",
     "text": [
      "00:00:00 \u001B[90mv\u001B[0m #1 networking.test_port_open / { port = 13806; ex = System.AggregateException: One or more errors occurred. (Connection refused) }\n",
      "00:00:00 \u001B[94md\u001B[0m #1 runtime.execute_with_options_async / { file_name = ../../../../workspace/target/release/spiral_builder; arguments = US5_0 \"dib --path test.dib --retries 3\"; options = { command = ../../../../workspace/target/release/spiral_builder dib --path test.dib --retries 3; cancellation_token = Some System.Threading.CancellationToken; environment_variables = [||]; on_line = None; stdin = None; trace = true; working_directory = None } }\n",
      "00:00:00 \u001B[90mv\u001B[0m #2 > 00:00:00 \u001B[94md\u001B[39m #1 spiral_builder.main / { args = Array(MutCell([\"dib\", \"--path\", \"test.dib\", \"--retries\", \"3\"])) }\n",
      "00:00:00 \u001B[90mv\u001B[0m #3 > 00:00:00 \u001B[94md\u001B[39m #2 runtime.execute_with_options / { file_name = dotnet; arguments = [\"repl\", \"--exit-after-run\", \"--run\", \"/home/runner/work/polyglot/polyglot/apps/spiral/temp/test/test.dib\", \"--output-path\", \"/home/runner/work/polyglot/polyglot/apps/spiral/temp/test/test.dib.ipynb\"]; options = { command = dotnet repl --exit-after-run --run \"/home/runner/work/polyglot/polyglot/apps/spiral/temp/test/test.dib\" --output-path \"/home/runner/work/polyglot/polyglot/apps/spiral/temp/test/test.dib.ipynb\"; cancellation_token = None; environment_variables = Array(MutCell([(\"TRACE_LEVEL\", \"Verbose\"), (\"AUTOMATION\", \"True\")])); on_line = None; stdin = None; trace = false; working_directory = None } }\n",
      "00:00:01 \u001B[90mv\u001B[0m #4 > >\n",
      "00:00:01 \u001B[90mv\u001B[0m #5 > > \u001B[38;5;103m── markdown ────────────────────────────────────────────────────────────────────\u001B[0m\n",
      "00:00:01 \u001B[90mv\u001B[0m #6 > > \u001B[38;5;103m╭──────────────────────────────────────────────────────────────────────────────╮\u001B[0m\n",
      "00:00:01 \u001B[90mv\u001B[0m #7 > > \u001B[38;5;103m│\u001B[0m # test (Polyglot)                                                            \u001B[38;5;103m│\u001B[0m\n",
      "00:00:01 \u001B[90mv\u001B[0m #8 > > \u001B[38;5;103m╰──────────────────────────────────────────────────────────────────────────────╯\u001B[0m\n",
      "00:00:04 \u001B[90mv\u001B[0m #9 > >\n",
      "00:00:04 \u001B[90mv\u001B[0m #10 > > \u001B[38;5;103m── spiral ──────────────────────────────────────────────────────────────────────\u001B[0m\n",
      "00:00:04 \u001B[90mv\u001B[0m #11 > > //// test\n",
      "00:00:04 \u001B[90mv\u001B[0m #12 > >\n",
      "00:00:04 \u001B[90mv\u001B[0m #13 > > open testing\n",
      "00:00:08 \u001B[90mv\u001B[0m #14 > >\n",
      "00:00:08 \u001B[90mv\u001B[0m #15 > > \u001B[38;5;103m── spiral ──────────────────────────────────────────────────────────────────────\u001B[0m\n",
      "00:00:08 \u001B[90mv\u001B[0m #16 > > nominal i = ()\n",
      "00:00:08 \u001B[90mv\u001B[0m #17 > > nominal e = ()\n",
      "00:00:08 \u001B[90mv\u001B[0m #18 > > nominal s = ()\n",
      "00:00:08 \u001B[90mv\u001B[0m #19 > > nominal n = ()\n",
      "00:00:08 \u001B[90mv\u001B[0m #20 > > nominal t = ()\n",
      "00:00:08 \u001B[90mv\u001B[0m #21 > > nominal f = ()\n",
      "00:00:08 \u001B[90mv\u001B[0m #22 > > nominal j = ()\n",
      "00:00:08 \u001B[90mv\u001B[0m #23 > > nominal p = ()\n",
      "00:00:08 \u001B[90mv\u001B[0m #24 > >\n",
      "00:00:08 \u001B[90mv\u001B[0m #25 > > union sensing =\n",
      "00:00:08 \u001B[90mv\u001B[0m #26 > >     | Si : s * i\n",
      "00:00:08 \u001B[90mv\u001B[0m #27 > >     | Se : s * e\n",
      "00:00:08 \u001B[90mv\u001B[0m #28 > >\n",
      "00:00:08 \u001B[90mv\u001B[0m #29 > > union intuition =\n",
      "00:00:08 \u001B[90mv\u001B[0m #30 > >     | Ni : n * i\n",
      "00:00:08 \u001B[90mv\u001B[0m #31 > >     | Ne : n * e\n",
      "00:00:08 \u001B[90mv\u001B[0m #32 > >\n",
      "00:00:08 \u001B[90mv\u001B[0m #33 > > union thinking =\n",
      "00:00:08 \u001B[90mv\u001B[0m #34 > >     | Ti : t * i\n",
      "00:00:08 \u001B[90mv\u001B[0m #35 > >     | Te : t * e\n",
      "00:00:08 \u001B[90mv\u001B[0m #36 > >\n",
      "00:00:08 \u001B[90mv\u001B[0m #37 > > union feeling =\n",
      "00:00:08 \u001B[90mv\u001B[0m #38 > >     | Fi : f * i\n",
      "00:00:08 \u001B[90mv\u001B[0m #39 > >     | Fe : f * e\n",
      "00:00:08 \u001B[90mv\u001B[0m #40 > >\n",
      "00:00:08 \u001B[90mv\u001B[0m #41 > > union function_stack =\n",
      "00:00:08 \u001B[90mv\u001B[0m #42 > >     | FS : sensing * intuition * thinking * feeling\n",
      "00:00:08 \u001B[90mv\u001B[0m #43 > >\n",
      "00:00:08 \u001B[90mv\u001B[0m #44 > > union personality_type =\n",
      "00:00:08 \u001B[90mv\u001B[0m #45 > >     | ISTJ : i * s * t * j * function_stack\n",
      "00:00:08 \u001B[90mv\u001B[0m #46 > >     | ISFJ : i * s * f * j * function_stack\n",
      "00:00:08 \u001B[90mv\u001B[0m #47 > >     | INFJ : i * n * f * j * function_stack\n",
      "00:00:08 \u001B[90mv\u001B[0m #48 > >     | INTJ : i * n * t * j * function_stack\n",
      "00:00:08 \u001B[90mv\u001B[0m #49 > >     | ISTP : i * s * t * p * function_stack\n",
      "00:00:08 \u001B[90mv\u001B[0m #50 > >     | ISFP : i * s * f * p * function_stack\n",
      "00:00:08 \u001B[90mv\u001B[0m #51 > >     | INFP : i * n * f * p * function_stack\n",
      "00:00:08 \u001B[90mv\u001B[0m #52 > >     | INTP : i * n * t * p * function_stack\n",
      "00:00:08 \u001B[90mv\u001B[0m #53 > >     | ESTP : e * s * t * p * function_stack\n",
      "00:00:08 \u001B[90mv\u001B[0m #54 > >     | ESFP : e * s * f * p * function_stack\n",
      "00:00:08 \u001B[90mv\u001B[0m #55 > >     | ENFP : e * n * f * p * function_stack\n",
      "00:00:08 \u001B[90mv\u001B[0m #56 > >     | ENTP : e * n * t * p * function_stack\n",
      "00:00:08 \u001B[90mv\u001B[0m #57 > >     | ESTJ : e * s * t * j * function_stack\n",
      "00:00:08 \u001B[90mv\u001B[0m #58 > >     | ESFJ : e * s * f * j * function_stack\n",
      "00:00:08 \u001B[90mv\u001B[0m #59 > >     | ENFJ : e * n * f * j * function_stack\n",
      "00:00:08 \u001B[90mv\u001B[0m #60 > >     | ENTJ : e * n * t * j * function_stack\n",
      "00:00:08 \u001B[90mv\u001B[0m #61 > >\n",
      "00:00:08 \u001B[90mv\u001B[0m #62 > >\n",
      "00:00:08 \u001B[90mv\u001B[0m #63 > > inl main () =\n",
      "00:00:08 \u001B[90mv\u001B[0m #64 > >     inl istj_stack = FS ((Si (s, i)), Ne (n, e), (Te (t, e)), (Fi (f, i)))\n",
      "00:00:08 \u001B[90mv\u001B[0m #65 > >     inl istj_personality = ISTJ (i, s, t, j, istj_stack)\n",
      "00:00:08 \u001B[90mv\u001B[0m #66 > >     // inl isfj_stack = FS ((Si (s, i)), Ne (n, e), (Fe (f, e)), (Ti (t, i)))\n",
      "00:00:08 \u001B[90mv\u001B[0m #67 > >     // inl isfj_personality = ISFJ (i, s, f, j, isfj_stack)\n",
      "00:00:08 \u001B[90mv\u001B[0m #68 > >\n",
      "00:00:08 \u001B[90mv\u001B[0m #69 > >     ;[[\n",
      "00:00:08 \u001B[90mv\u001B[0m #70 > >         istj_personality\n",
      "00:00:08 \u001B[90mv\u001B[0m #71 > >     ]]\n",
      "00:00:08 \u001B[90mv\u001B[0m #72 > >     |> fun x => $'$\"%A{!x}\"' : string\n",
      "00:00:08 \u001B[90mv\u001B[0m #73 > >     |> console.write_line\n",
      "00:00:08 \u001B[90mv\u001B[0m #74 > >\n",
      "00:00:08 \u001B[90mv\u001B[0m #75 > > inl main () =\n",
      "00:00:08 \u001B[90mv\u001B[0m #76 > >     $'!main ()' : ()\n",
      "00:00:09 \u001B[90mv\u001B[0m #77 > >\n",
      "00:00:09 \u001B[90mv\u001B[0m #78 > > \u001B[38;5;2m╭─[ 1.35s - stdout ]───────────────────────────────────────────────────────────╮\u001B[0m\n",
      "00:00:09 \u001B[90mv\u001B[0m #79 > > \u001B[38;5;2m│\u001B[0m [|US5_0 (US4_0 (US0_0, US1_1, US2_1, US3_0))|]                               \u001B[38;5;2m│\u001B[0m\n",
      "00:00:09 \u001B[90mv\u001B[0m #80 > > \u001B[38;5;2m│\u001B[0m                                                                              \u001B[38;5;2m│\u001B[0m\n",
      "00:00:09 \u001B[90mv\u001B[0m #81 > > \u001B[38;5;2m╰──────────────────────────────────────────────────────────────────────────────╯\u001B[0m\n",
      "00:00:10 \u001B[90mv\u001B[0m #82 > >\n",
      "00:00:10 \u001B[90mv\u001B[0m #83 > > \u001B[38;5;103m── fsharp ──────────────────────────────────────────────────────────────────────\u001B[0m\n",
      "00:00:10 \u001B[90mv\u001B[0m #84 > > type PhonologicalFeature =\n",
      "00:00:10 \u001B[90mv\u001B[0m #85 > >     | VowelFeature of\n",
      "00:00:10 \u001B[90mv\u001B[0m #86 > >         height: Height\n",
      "00:00:10 \u001B[90mv\u001B[0m #87 > >         * backness: Backness\n",
      "00:00:10 \u001B[90mv\u001B[0m #88 > >         * roundedness: Roundedness\n",
      "00:00:10 \u001B[90mv\u001B[0m #89 > >         * tone: Option<Tone>\n",
      "00:00:10 \u001B[90mv\u001B[0m #90 > >         * stress: Option<Stress>\n",
      "00:00:10 \u001B[90mv\u001B[0m #91 > >         * length: Option<Length>\n",
      "00:00:10 \u001B[90mv\u001B[0m #92 > >     | ConsonantFeature of\n",
      "00:00:10 \u001B[90mv\u001B[0m #93 > >         place: PlaceOfArticulation\n",
      "00:00:10 \u001B[90mv\u001B[0m #94 > >         * manner: MannerOfArticulation\n",
      "00:00:10 \u001B[90mv\u001B[0m #95 > >         * voicing: Voicing\n",
      "00:00:10 \u001B[90mv\u001B[0m #96 > >         * length: Option<Length>\n",
      "00:00:10 \u001B[90mv\u001B[0m #97 > >     | VowelHarmonyFeature\n",
      "00:00:10 \u001B[90mv\u001B[0m #98 > >     | PitchAccentFeature\n",
      "00:00:10 \u001B[90mv\u001B[0m #99 > >\n",
      "00:00:10 \u001B[90mv\u001B[0m #100 > > and Stress = Primary | Secondary\n",
      "00:00:10 \u001B[90mv\u001B[0m #101 > > and Length = Long | Short | HalfLong\n",
      "00:00:10 \u001B[90mv\u001B[0m #102 > >\n",
      "00:00:10 \u001B[90mv\u001B[0m #103 > > and Height =\n",
      "00:00:10 \u001B[90mv\u001B[0m #104 > >     | High | NearHigh | HighMid\n",
      "00:00:10 \u001B[90mv\u001B[0m #105 > >     | Mid | LowMid | NearLow\n",
      "00:00:10 \u001B[90mv\u001B[0m #106 > >     | Low\n",
      "00:00:10 \u001B[90mv\u001B[0m #107 > >\n",
      "00:00:10 \u001B[90mv\u001B[0m #108 > > and Backness = Front | Central | Back\n",
      "00:00:10 \u001B[90mv\u001B[0m #109 > >\n",
      "00:00:10 \u001B[90mv\u001B[0m #110 > > and Roundedness = Rounded | Unrounded\n",
      "00:00:10 \u001B[90mv\u001B[0m #111 > >\n",
      "00:00:10 \u001B[90mv\u001B[0m #112 > > and PlaceOfArticulation =\n",
      "00:00:10 \u001B[90mv\u001B[0m #113 > >     | Bilabial | Labiodental | Dental\n",
      "00:00:10 \u001B[90mv\u001B[0m #114 > >     | Alveolar | Postalveolar | Retroflex\n",
      "00:00:10 \u001B[90mv\u001B[0m #115 > >     | Palatal | Velar | Uvular\n",
      "00:00:10 \u001B[90mv\u001B[0m #116 > >     | Pharyngeal | Epiglottal | Glottal\n",
      "00:00:10 \u001B[90mv\u001B[0m #117 > >\n",
      "00:00:10 \u001B[90mv\u001B[0m #118 > > and MannerOfArticulation =\n",
      "00:00:10 \u001B[90mv\u001B[0m #119 > >     | Plosive | Nasal | Trill\n",
      "00:00:10 \u001B[90mv\u001B[0m #120 > >     | TapOrFlap | Fricative | LateralFricative\n",
      "00:00:10 \u001B[90mv\u001B[0m #121 > >     | Approximant | LateralApproximant\n",
      "00:00:10 \u001B[90mv\u001B[0m #122 > >\n",
      "00:00:10 \u001B[90mv\u001B[0m #123 > > and Voicing = Voiced | Voiceless\n",
      "00:00:10 \u001B[90mv\u001B[0m #124 > >\n",
      "00:00:10 \u001B[90mv\u001B[0m #125 > > and SecondaryArticulation =\n",
      "00:00:10 \u001B[90mv\u001B[0m #126 > >     | Labialization | Palatalization | Velarization\n",
      "00:00:10 \u001B[90mv\u001B[0m #127 > >     | Pharyngealization | Aspiration\n",
      "00:00:10 \u001B[90mv\u001B[0m #128 > >\n",
      "00:00:10 \u001B[90mv\u001B[0m #129 > > and Tone =\n",
      "00:00:10 \u001B[90mv\u001B[0m #130 > >     | LevelTone of int\n",
      "00:00:10 \u001B[90mv\u001B[0m #131 > >     | ContourTone of int list\n",
      "00:00:10 \u001B[90mv\u001B[0m #132 > >\n",
      "00:00:10 \u001B[90mv\u001B[0m #133 > > and MorphologicalFeature =\n",
      "00:00:10 \u001B[90mv\u001B[0m #134 > >     | RootFeature of string\n",
      "00:00:10 \u001B[90mv\u001B[0m #135 > >     | AffixFeature of AffixType * string\n",
      "00:00:10 \u001B[90mv\u001B[0m #136 > >     | IncorporationFeature of string * MorphologicalFeature\n",
      "00:00:10 \u001B[90mv\u001B[0m #137 > >     | NonConcatenativePattern of string * string\n",
      "00:00:10 \u001B[90mv\u001B[0m #138 > >     | AgglutinativeAffixFeature of AgglutinativeAffixType * string\n",
      "00:00:10 \u001B[90mv\u001B[0m #139 > >     | HonorificFeature of HonorificType * string\n",
      "00:00:10 \u001B[90mv\u001B[0m #140 > >\n",
      "00:00:10 \u001B[90mv\u001B[0m #141 > > and AgglutinativeAffixType = Suffix | Prefix\n",
      "00:00:10 \u001B[90mv\u001B[0m #142 > >\n",
      "00:00:10 \u001B[90mv\u001B[0m #143 > > and HonorificType = VerbHonorific | NounHonorific\n",
      "00:00:10 \u001B[90mv\u001B[0m #144 > >\n",
      "00:00:10 \u001B[90mv\u001B[0m #145 > > and AffixType =\n",
      "00:00:10 \u001B[90mv\u001B[0m #146 > >     | Prefix | Suffix | Infix\n",
      "00:00:10 \u001B[90mv\u001B[0m #147 > >     | Circumfix\n",
      "00:00:10 \u001B[90mv\u001B[0m #148 > >\n",
      "00:00:10 \u001B[90mv\u001B[0m #149 > > type SyntacticFeature =\n",
      "00:00:10 \u001B[90mv\u001B[0m #150 > >     | WordFeature of MorphologicalFeature list * LexicalCategory\n",
      "00:00:10 \u001B[90mv\u001B[0m #151 > >     | PhraseFeature of PhraseType * SyntacticFeature list\n",
      "00:00:10 \u001B[90mv\u001B[0m #152 > >     | GrammaticalRelation of GrammaticalRelationType * SyntacticFeature list\n",
      "00:00:10 \u001B[90mv\u001B[0m #153 > >     | SOVOrderFeature\n",
      "00:00:10 \u001B[90mv\u001B[0m #154 > >     | TopicCommentFeature\n",
      "00:00:10 \u001B[90mv\u001B[0m #155 > >\n",
      "00:00:10 \u001B[90mv\u001B[0m #156 > > and GrammaticalRelationType =\n",
      "00:00:10 \u001B[90mv\u001B[0m #157 > >     | Ergative | Absolutive | Nominative\n",
      "00:00:10 \u001B[90mv\u001B[0m #158 > >     | Accusative\n",
      "00:00:10 \u001B[90mv\u001B[0m #159 > >\n",
      "00:00:10 \u001B[90mv\u001B[0m #160 > > and LexicalCategory =\n",
      "00:00:10 \u001B[90mv\u001B[0m #161 > >     | Noun | Verb | Adjective\n",
      "00:00:10 \u001B[90mv\u001B[0m #162 > >     | Adverb | Pronoun | Preposition\n",
      "00:00:10 \u001B[90mv\u001B[0m #163 > >     | Conjunction | Determiner | Interjection\n",
      "00:00:10 \u001B[90mv\u001B[0m #164 > >\n",
      "00:00:10 \u001B[90mv\u001B[0m #165 > > and PhraseType =\n",
      "00:00:10 \u001B[90mv\u001B[0m #166 > >     | NP | VP | AP\n",
      "00:00:10 \u001B[90mv\u001B[0m #167 > >     | PP | CP\n",
      "00:00:10 \u001B[90mv\u001B[0m #168 > >\n",
      "00:00:10 \u001B[90mv\u001B[0m #169 > > and SemanticFeature =\n",
      "00:00:10 \u001B[90mv\u001B[0m #170 > >     | Meaning of string\n",
      "00:00:10 \u001B[90mv\u001B[0m #171 > >     | SemanticRole of SemanticRoleType * SemanticFeature\n",
      "00:00:10 \u001B[90mv\u001B[0m #172 > >\n",
      "00:00:10 \u001B[90mv\u001B[0m #173 > > and SemanticRoleType =\n",
      "00:00:10 \u001B[90mv\u001B[0m #174 > >     | Agent | Patient | Instrument\n",
      "00:00:10 \u001B[90mv\u001B[0m #175 > >     | Location | Time | Cause\n",
      "00:00:10 \u001B[90mv\u001B[0m #176 > >\n",
      "00:00:10 \u001B[90mv\u001B[0m #177 > > and PragmaticFeature =\n",
      "00:00:10 \u001B[90mv\u001B[0m #178 > >     | UseContext of string\n",
      "00:00:10 \u001B[90mv\u001B[0m #179 > >     | PolitenessLevel of Politeness\n",
      "00:00:10 \u001B[90mv\u001B[0m #180 > >     | SpeechAct of SpeechActType\n",
      "00:00:10 \u001B[90mv\u001B[0m #181 > >     | SpeechLevel of SpeechLevelType\n",
      "00:00:10 \u001B[90mv\u001B[0m #182 > >\n",
      "00:00:10 \u001B[90mv\u001B[0m #183 > > and Politeness = Formal | Informal | Neutral\n",
      "00:00:10 \u001B[90mv\u001B[0m #184 > >\n",
      "00:00:10 \u001B[90mv\u001B[0m #185 > > and SpeechActType =\n",
      "00:00:10 \u001B[90mv\u001B[0m #186 > >     | Assertive | Directive | Commissive\n",
      "00:00:10 \u001B[90mv\u001B[0m #187 > >     | Expressive | Declarative\n",
      "00:00:10 \u001B[90mv\u001B[0m #188 > >\n",
      "00:00:10 \u001B[90mv\u001B[0m #189 > > and SpeechLevelType =\n",
      "00:00:10 \u001B[90mv\u001B[0m #190 > >     | FormalHigh | FormalLow | InformalHigh\n",
      "00:00:10 \u001B[90mv\u001B[0m #191 > >     | InformalLow | Neutral\n",
      "00:00:10 \u001B[90mv\u001B[0m #192 > >\n",
      "00:00:10 \u001B[90mv\u001B[0m #193 > > type LinguisticFeature =\n",
      "00:00:10 \u001B[90mv\u001B[0m #194 > >     | Phonological of PhonologicalFeature\n",
      "00:00:10 \u001B[90mv\u001B[0m #195 > >     | Morphological of MorphologicalFeature\n",
      "00:00:10 \u001B[90mv\u001B[0m #196 > >     | Syntactic of SyntacticFeature\n",
      "00:00:10 \u001B[90mv\u001B[0m #197 > >     | Semantic of SemanticFeature\n",
      "00:00:10 \u001B[90mv\u001B[0m #198 > >     | Pragmatic of PragmaticFeature\n",
      "00:00:10 \u001B[90mv\u001B[0m #199 > >\n",
      "00:00:10 \u001B[90mv\u001B[0m #200 > > type LanguageConstruct =\n",
      "00:00:10 \u001B[90mv\u001B[0m #201 > >     | LanguageElement of LinguisticFeature\n",
      "00:00:10 \u001B[90mv\u001B[0m #202 > >     | LanguageStructure of LanguageConstruct list\n",
      "00:00:10 \u001B[90mv\u001B[0m #203 > >     | TranslationElement of TranslationFeature\n",
      "00:00:10 \u001B[90mv\u001B[0m #204 > >\n",
      "00:00:10 \u001B[90mv\u001B[0m #205 > > and TranslationFeature =\n",
      "00:00:10 \u001B[90mv\u001B[0m #206 > >     | LinkedPhonological of PhonologicalFeature * PhonologicalFeature\n",
      "00:00:10 \u001B[90mv\u001B[0m #207 > >     | LinkedMorphological of MorphologicalFeature * MorphologicalFeature\n",
      "00:00:10 \u001B[90mv\u001B[0m #208 > >     | LinkedSyntactic of SyntacticFeature * SyntacticFeature\n",
      "00:00:10 \u001B[90mv\u001B[0m #209 > >     | LinkedSemantic of SemanticFeature * SemanticFeature\n",
      "00:00:10 \u001B[90mv\u001B[0m #210 > >\n",
      "00:00:10 \u001B[90mv\u001B[0m #211 > > type Discourse = DiscourseUnit of LanguageConstruct list\n",
      "00:00:10 \u001B[90mv\u001B[0m #212 > >\n",
      "00:00:10 \u001B[90mv\u001B[0m #213 > > type LanguageModel =\n",
      "00:00:10 \u001B[90mv\u001B[0m #214 > >     | Model of discourse: Discourse\n",
      "00:00:10 \u001B[90mv\u001B[0m #215 > >\n",
      "00:00:10 \u001B[90mv\u001B[0m #216 > > \u001B[38;5;103m── fsharp ──────────────────────────────────────────────────────────────────────\u001B[0m\n",
      "00:00:10 \u001B[90mv\u001B[0m #217 > > let testEnglish =\n",
      "00:00:10 \u001B[90mv\u001B[0m #218 > >     Model(\n",
      "00:00:10 \u001B[90mv\u001B[0m #219 > >         DiscourseUnit [[\n",
      "00:00:10 \u001B[90mv\u001B[0m #220 > >             LanguageElement (Phonological (ConsonantFeature (Alveolar, Nasal,\n",
      "00:00:10 \u001B[90mv\u001B[0m #221 > > Voiced, Some(HalfLong))));\n",
      "00:00:10 \u001B[90mv\u001B[0m #222 > >             LanguageElement (Phonological (VowelFeature (High, Front, Unrounded,\n",
      "00:00:10 \u001B[90mv\u001B[0m #223 > > Some(LevelTone 1), Some(Primary), Some(Short))));\n",
      "00:00:10 \u001B[90mv\u001B[0m #224 > >             LanguageElement (Phonological (VowelFeature (Low, Front, Unrounded,\n",
      "00:00:10 \u001B[90mv\u001B[0m #225 > > Some(LevelTone 2), Some(Secondary), Some(Long))));\n",
      "00:00:10 \u001B[90mv\u001B[0m #226 > >             LanguageElement (Phonological (ConsonantFeature (Velar, Plosive,\n",
      "00:00:10 \u001B[90mv\u001B[0m #227 > > Voiceless, Some(HalfLong))));\n",
      "00:00:10 \u001B[90mv\u001B[0m #228 > >             LanguageElement (Morphological (RootFeature \"I\"));\n",
      "00:00:10 \u001B[90mv\u001B[0m #229 > >             LanguageElement (Morphological (RootFeature \"see\"));\n",
      "00:00:10 \u001B[90mv\u001B[0m #230 > >             LanguageElement (Morphological (RootFeature \"a\"));\n",
      "00:00:10 \u001B[90mv\u001B[0m #231 > >             LanguageElement (Morphological (RootFeature \"cat\"));\n",
      "00:00:10 \u001B[90mv\u001B[0m #232 > >             LanguageElement (Syntactic (PhraseFeature (NP, [[WordFeature\n",
      "00:00:10 \u001B[90mv\u001B[0m #233 > > ([[RootFeature \"I\"]], Pronoun)]])));\n",
      "00:00:10 \u001B[90mv\u001B[0m #234 > >             LanguageElement (Syntactic (PhraseFeature (VP, [[WordFeature\n",
      "00:00:10 \u001B[90mv\u001B[0m #235 > > ([[RootFeature \"see\"]], Verb)]])));\n",
      "00:00:10 \u001B[90mv\u001B[0m #236 > >             LanguageElement (Syntactic (PhraseFeature (NP, [[WordFeature\n",
      "00:00:10 \u001B[90mv\u001B[0m #237 > > ([[RootFeature \"a\"; RootFeature \"cat\"]], Noun)]])));\n",
      "00:00:10 \u001B[90mv\u001B[0m #238 > >             LanguageElement (Semantic (Meaning \"Perception act of a feline by\n",
      "00:00:10 \u001B[90mv\u001B[0m #239 > > the speaker\"));\n",
      "00:00:10 \u001B[90mv\u001B[0m #240 > >             LanguageElement (Pragmatic (UseContext \"Statement of an action being\n",
      "00:00:10 \u001B[90mv\u001B[0m #241 > > observed\"))\n",
      "00:00:10 \u001B[90mv\u001B[0m #242 > >         ]]\n",
      "00:00:10 \u001B[90mv\u001B[0m #243 > >     )\n",
      "00:00:10 \u001B[90mv\u001B[0m #244 > >\n",
      "00:00:10 \u001B[90mv\u001B[0m #245 > > let testPortuguese =\n",
      "00:00:10 \u001B[90mv\u001B[0m #246 > >     Model(\n",
      "00:00:10 \u001B[90mv\u001B[0m #247 > >         DiscourseUnit [[\n",
      "00:00:10 \u001B[90mv\u001B[0m #248 > >             LanguageElement (Phonological (VowelFeature (High, Front, Unrounded,\n",
      "00:00:10 \u001B[90mv\u001B[0m #249 > > Some(LevelTone 1), Some(Primary), Some(Short))));\n",
      "00:00:10 \u001B[90mv\u001B[0m #250 > >             LanguageElement (Phonological (VowelFeature (Low, Front, Unrounded,\n",
      "00:00:10 \u001B[90mv\u001B[0m #251 > > Some(LevelTone 2), Some(Secondary), Some(Long))));\n",
      "00:00:10 \u001B[90mv\u001B[0m #252 > >             LanguageElement (Phonological (VowelFeature (Mid, Back, Rounded,\n",
      "00:00:10 \u001B[90mv\u001B[0m #253 > > Some(LevelTone 3), Some(Primary), Some(Short))));\n",
      "00:00:10 \u001B[90mv\u001B[0m #254 > >             LanguageElement (Phonological (ConsonantFeature (Velar, Plosive,\n",
      "00:00:10 \u001B[90mv\u001B[0m #255 > > Voiceless, Some(HalfLong))));\n",
      "00:00:10 \u001B[90mv\u001B[0m #256 > >             LanguageElement (Morphological (RootFeature \"Eu\"));\n",
      "00:00:10 \u001B[90mv\u001B[0m #257 > >             LanguageElement (Morphological (RootFeature \"ver\" |> ignore;\n",
      "00:00:10 \u001B[90mv\u001B[0m #258 > > AffixFeature (Suffix, \"o\")));\n",
      "00:00:10 \u001B[90mv\u001B[0m #259 > >             LanguageElement (Morphological (RootFeature \"um\"));\n",
      "00:00:10 \u001B[90mv\u001B[0m #260 > >             LanguageElement (Morphological (RootFeature \"gato\"));\n",
      "00:00:10 \u001B[90mv\u001B[0m #261 > >             LanguageElement (Syntactic (PhraseFeature (NP, [[WordFeature\n",
      "00:00:10 \u001B[90mv\u001B[0m #262 > > ([[RootFeature \"Eu\"]], Pronoun)]])));\n",
      "00:00:10 \u001B[90mv\u001B[0m #263 > >             LanguageElement (Syntactic (PhraseFeature (VP, [[WordFeature\n",
      "00:00:10 \u001B[90mv\u001B[0m #264 > > ([[RootFeature \"vejo\"]], Verb)]])));\n",
      "00:00:10 \u001B[90mv\u001B[0m #265 > >             LanguageElement (Syntactic (PhraseFeature (NP, [[WordFeature\n",
      "00:00:10 \u001B[90mv\u001B[0m #266 > > ([[RootFeature \"um\"; RootFeature \"gato\"]], Noun)]])));\n",
      "00:00:10 \u001B[90mv\u001B[0m #267 > >             LanguageElement (Semantic (Meaning \"Ação de percepção de um felino\n",
      "00:00:10 \u001B[90mv\u001B[0m #268 > > pelo falante\"));\n",
      "00:00:10 \u001B[90mv\u001B[0m #269 > >             LanguageElement (Pragmatic (UseContext \"Declaração de uma ação sendo\n",
      "00:00:10 \u001B[90mv\u001B[0m #270 > > observada\"))\n",
      "00:00:10 \u001B[90mv\u001B[0m #271 > >         ]]\n",
      "00:00:10 \u001B[90mv\u001B[0m #272 > >     )\n",
      "00:00:10 \u001B[90mv\u001B[0m #273 > >\n",
      "00:00:10 \u001B[90mv\u001B[0m #274 > > let testKorean =\n",
      "00:00:10 \u001B[90mv\u001B[0m #275 > >     Model(\n",
      "00:00:10 \u001B[90mv\u001B[0m #276 > >         DiscourseUnit [[\n",
      "00:00:10 \u001B[90mv\u001B[0m #277 > >             LanguageElement (Phonological (ConsonantFeature (Alveolar, Nasal,\n",
      "00:00:10 \u001B[90mv\u001B[0m #278 > > Voiced, Some(Short))));\n",
      "00:00:10 \u001B[90mv\u001B[0m #279 > >             LanguageElement (Phonological (VowelFeature (High, Back, Rounded,\n",
      "00:00:10 \u001B[90mv\u001B[0m #280 > > None, None, Some(Short))));\n",
      "00:00:10 \u001B[90mv\u001B[0m #281 > >             LanguageElement (Phonological (VowelFeature (Mid, Front, Unrounded,\n",
      "00:00:10 \u001B[90mv\u001B[0m #282 > > None, None, Some(Long))));\n",
      "00:00:10 \u001B[90mv\u001B[0m #283 > >             LanguageElement (Phonological (ConsonantFeature (Bilabial, Plosive,\n",
      "00:00:10 \u001B[90mv\u001B[0m #284 > > Voiceless, Some(Short))));\n",
      "00:00:10 \u001B[90mv\u001B[0m #285 > >             LanguageElement (Morphological (RootFeature \"나\"));\n",
      "00:00:10 \u001B[90mv\u001B[0m #286 > >             LanguageElement (Morphological (RootFeature \"보다\"));\n",
      "00:00:10 \u001B[90mv\u001B[0m #287 > >             LanguageElement (Morphological (AffixFeature (Suffix, \"아\")));\n",
      "00:00:10 \u001B[90mv\u001B[0m #288 > >             LanguageElement (Morphological (RootFeature \"고양이\"));\n",
      "00:00:10 \u001B[90mv\u001B[0m #289 > >             LanguageElement (Syntactic (PhraseFeature (NP, [[WordFeature\n",
      "00:00:10 \u001B[90mv\u001B[0m #290 > > ([[RootFeature \"나\"]], Pronoun)]])));\n",
      "00:00:10 \u001B[90mv\u001B[0m #291 > >             LanguageElement (Syntactic (PhraseFeature (VP, [[WordFeature\n",
      "00:00:10 \u001B[90mv\u001B[0m #292 > > ([[RootFeature \"보다\"; AffixFeature (Suffix, \"아\")]], Verb)]])));\n",
      "00:00:10 \u001B[90mv\u001B[0m #293 > >             LanguageElement (Syntactic (PhraseFeature (NP, [[WordFeature\n",
      "00:00:10 \u001B[90mv\u001B[0m #294 > > ([[RootFeature \"고양이\"]], Noun)]])));\n",
      "00:00:10 \u001B[90mv\u001B[0m #295 > >             LanguageElement (Semantic (Meaning \"화자에 의한 고양이의 관찰\n",
      "00:00:10 \u001B[90mv\u001B[0m #296 > > 행위\"));\n",
      "00:00:10 \u001B[90mv\u001B[0m #297 > >             LanguageElement (Pragmatic (UseContext \"관찰되고 있는 행동의 진술\"))\n",
      "00:00:10 \u001B[90mv\u001B[0m #298 > >         ]]\n",
      "00:00:10 \u001B[90mv\u001B[0m #299 > >     )\n",
      "00:00:10 \u001B[90mv\u001B[0m #300 > >\n",
      "00:00:10 \u001B[90mv\u001B[0m #301 > > \u001B[38;5;103m── markdown ────────────────────────────────────────────────────────────────────\u001B[0m\n",
      "00:00:10 \u001B[90mv\u001B[0m #302 > > \u001B[38;5;103m╭──────────────────────────────────────────────────────────────────────────────╮\u001B[0m\n",
      "00:00:10 \u001B[90mv\u001B[0m #303 > > \u001B[38;5;103m│\u001B[0m ## main                                                                      \u001B[38;5;103m│\u001B[0m\n",
      "00:00:10 \u001B[90mv\u001B[0m #304 > > \u001B[38;5;103m╰──────────────────────────────────────────────────────────────────────────────╯\u001B[0m\n",
      "00:00:10 \u001B[90mv\u001B[0m #305 > >\n",
      "00:00:10 \u001B[90mv\u001B[0m #306 > > \u001B[38;5;103m── spiral ──────────────────────────────────────────────────────────────────────\u001B[0m\n",
      "00:00:10 \u001B[90mv\u001B[0m #307 > > inl main (_args : array_base string) =\n",
      "00:00:10 \u001B[90mv\u001B[0m #308 > >     0i32\n",
      "00:00:10 \u001B[90mv\u001B[0m #309 > >\n",
      "00:00:10 \u001B[90mv\u001B[0m #310 > > inl main () =\n",
      "00:00:10 \u001B[90mv\u001B[0m #311 > >     $'let main args = !main args' : ()\n",
      "00:00:11 \u001B[90mv\u001B[0m #312 > >\n",
      "00:00:11 \u001B[90mv\u001B[0m #313 > > \u001B[38;5;103m── spiral ──────────────────────────────────────────────────────────────────────\u001B[0m\n",
      "00:00:11 \u001B[90mv\u001B[0m #314 > > inl app () =\n",
      "00:00:11 \u001B[90mv\u001B[0m #315 > >     \"test\" |> console.write_line\n",
      "00:00:11 \u001B[90mv\u001B[0m #316 > >     0i32\n",
      "00:00:11 \u001B[90mv\u001B[0m #317 > >\n",
      "00:00:11 \u001B[90mv\u001B[0m #318 > > inl main () =\n",
      "00:00:11 \u001B[90mv\u001B[0m #319 > >     print_static \"<test>\"\n",
      "00:00:11 \u001B[90mv\u001B[0m #320 > >\n",
      "00:00:11 \u001B[90mv\u001B[0m #321 > >     app\n",
      "00:00:11 \u001B[90mv\u001B[0m #322 > >     |> dyn\n",
      "00:00:11 \u001B[90mv\u001B[0m #323 > >     |> ignore\n",
      "00:00:11 \u001B[90mv\u001B[0m #324 > >\n",
      "00:00:11 \u001B[90mv\u001B[0m #325 > >     print_static \"</test>\"\n",
      "00:00:11 \u001B[90mv\u001B[0m #326 > 00:00:10 \u001B[90mv\u001B[39m #3 runtime.execute_with_options / result / { exit_code = 0; std_trace_length = 11263 }\n",
      "00:00:11 \u001B[90mv\u001B[0m #327 > 00:00:10 \u001B[94md\u001B[39m #4 runtime.execute_with_options / { file_name = jupyter; arguments = [\"nbconvert\", \"/home/runner/work/polyglot/polyglot/apps/spiral/temp/test/test.dib.ipynb\", \"--to\", \"html\", \"--HTMLExporter.theme=dark\"]; options = { command = jupyter nbconvert \"/home/runner/work/polyglot/polyglot/apps/spiral/temp/test/test.dib.ipynb\" --to html --HTMLExporter.theme=dark; cancellation_token = None; environment_variables = Array(MutCell([])); on_line = None; stdin = None; trace = true; working_directory = None } }\n",
      "00:00:12 \u001B[90mv\u001B[0m #328 > 00:00:11 \u001B[90mv\u001B[39m #5 ! [NbConvertApp] Converting notebook /home/runner/work/polyglot/polyglot/apps/spiral/temp/test/test.dib.ipynb to html\n",
      "00:00:12 \u001B[90mv\u001B[0m #329 > 00:00:11 \u001B[90mv\u001B[39m #6 ! /opt/hostedtoolcache/Python/3.12.8/x64/lib/python3.12/site-packages/nbformat/__init__.py:96: MissingIDFieldWarning: Cell is missing an id field, this will become a hard error in future nbformat versions. You may want to use `normalize()` on your notebooks before validations (available since nbformat 5.1.4). Previous versions of nbformat are fixing this issue transparently, and will stop doing so in the future.\n",
      "00:00:12 \u001B[90mv\u001B[0m #330 > 00:00:11 \u001B[90mv\u001B[39m #7 !   validate(nb)\n",
      "00:00:12 \u001B[90mv\u001B[0m #331 > 00:00:12 \u001B[90mv\u001B[39m #8 ! /opt/hostedtoolcache/Python/3.12.8/x64/lib/python3.12/site-packages/nbconvert/filters/highlight.py:71: UserWarning: IPython3 lexer unavailable, falling back on Python 3\n",
      "00:00:12 \u001B[90mv\u001B[0m #332 > 00:00:12 \u001B[90mv\u001B[39m #9 !   return _pygments_highlight(\n",
      "00:00:12 \u001B[90mv\u001B[0m #333 > 00:00:12 \u001B[90mv\u001B[39m #10 ! [NbConvertApp] Writing 318991 bytes to /home/runner/work/polyglot/polyglot/apps/spiral/temp/test/test.dib.html\n",
      "00:00:12 \u001B[90mv\u001B[0m #334 > 00:00:12 \u001B[90mv\u001B[39m #11 runtime.execute_with_options / result / { exit_code = 0; std_trace_length = 914 }\n",
      "00:00:12 \u001B[90mv\u001B[0m #335 > 00:00:12 \u001B[94md\u001B[39m #12 spiral_builder.run / dib / jupyter nbconvert / { exit_code = 0; jupyter_result_length = 914 }\n",
      "00:00:12 \u001B[90mv\u001B[0m #336 > 00:00:12 \u001B[94md\u001B[39m #13 runtime.execute_with_options / { file_name = pwsh; arguments = [\"-c\", \"$counter = 1; $path = '/home/runner/work/polyglot/polyglot/apps/spiral/temp/test/test.dib.html'; (Get-Content $path -Raw) -replace '(id=\\\\\\\"cell-id=)[a-fA-F0-9]{8}', { $_.Groups[1].Value + $counter++ } | Set-Content $path\"]; options = { command = pwsh -c \"$counter = 1; $path = '/home/runner/work/polyglot/polyglot/apps/spiral/temp/test/test.dib.html'; (Get-Content $path -Raw) -replace '(id=\\\"cell-id=)[a-fA-F0-9]{8}', { $_.Groups[1].Value + $counter++ } | Set-Content $path\"; cancellation_token = None; environment_variables = Array(MutCell([])); on_line = None; stdin = None; trace = true; working_directory = None } }\n",
      "00:00:13 \u001B[90mv\u001B[0m #337 > 00:00:12 \u001B[90mv\u001B[39m #14 runtime.execute_with_options / result / { exit_code = 0; std_trace_length = 0 }\n",
      "00:00:13 \u001B[90mv\u001B[0m #338 > 00:00:12 \u001B[94md\u001B[39m #15 spiral_builder.run / dib / html cell ids / { exit_code = 0; pwsh_replace_html_result_length = 0 }\n",
      "00:00:13 \u001B[90mv\u001B[0m #339 > 00:00:12 \u001B[94md\u001B[39m #16 spiral_builder.run / dib / { exit_code = 0; result_length = 12236 }\n",
      "00:00:13 \u001B[94md\u001B[0m #340 runtime.execute_with_options_async / { exit_code = 0; output_length = 15637 }\n",
      "00:00:13 \u001B[94md\u001B[0m #1 main / executeCommand / exitCode: 0 / command: ../../../../workspace/target/release/spiral_builder dib --path test.dib --retries 3\n"
     ]
    }
   ],
   "source": [
    "{ . ../../../../apps/spiral/dist/Supervisor$(_exe) --execute-command \"../../../../workspace/target/release/spiral_builder$(_exe) dib --path test.dib --retries 3\" } | Invoke-Block"
   ]
  },
  {
   "cell_type": "markdown",
   "metadata": {},
   "source": [
    "### parse the .dib file into .spi format with dibparser"
   ]
  },
  {
   "cell_type": "code",
   "execution_count": null,
   "metadata": {
    "dotnet_interactive": {
     "language": "pwsh"
    },
    "polyglot_notebook": {
     "kernelName": "pwsh"
    }
   },
   "outputs": [
    {
     "name": "stdout",
     "output_type": "stream",
     "text": [
      "00:00:00 \u001B[94md\u001B[0m #1 writeDibCode / output: Spi / path: test.dib\n",
      "00:00:00 \u001B[94md\u001B[0m #2 parseDibCode / output: Spi / file: test.dib\n"
     ]
    }
   ],
   "source": [
    "{ . ../../../../apps/parser/dist/DibParser$(_exe) test.dib spi } | Invoke-Block"
   ]
  },
  {
   "cell_type": "markdown",
   "metadata": {},
   "source": [
    "### build .fsx file from .spi using supervisor"
   ]
  },
  {
   "cell_type": "code",
   "execution_count": null,
   "metadata": {
    "dotnet_interactive": {
     "language": "pwsh"
    },
    "polyglot_notebook": {
     "kernelName": "pwsh"
    }
   },
   "outputs": [
    {
     "name": "stdout",
     "output_type": "stream",
     "text": [
      "00:00:00 \u001B[90mv\u001B[0m #1 networking.test_port_open / { port = 13806; ex = System.AggregateException: One or more errors occurred. (Connection refused) }\n",
      "00:00:00 \u001B[90mv\u001B[0m #2 networking.test_port_open / { port = 13806; ex = System.AggregateException: One or more errors occurred. (Connection refused) }\n",
      "00:00:00 \u001B[94md\u001B[0m #1 Supervisor.buildFile / takeWhileInclusive / path: test.spi / errors: [] / typeErrorCount: 0 / retry: 0 / outputContent:\n",
      "\n",
      "00:00:00 \u001B[94md\u001B[0m #2 Supervisor.buildFile / AsyncSeq.scan / path: test.spi / errors: [] / outputContentResult:  / typeErrorCount: 0 / retry: 0 / error:  / outputContent:\n",
      "\n",
      "00:00:00 \u001B[94md\u001B[0m #3 Supervisor.buildFile / takeWhileInclusive / path: test.spi / errors: [] / typeErrorCount: 0 / retry: 0 / outputContent:\n",
      "\n",
      "00:00:00 \u001B[90mv\u001B[0m #4 Supervisor.sendJson / port: 13805 / json: {\"FileOpen\":{\"spiText\":\"/// # test (Polyglot)\\nnominal i = ()\\nnominal e = ()\\nnominal s = ()\\nnomin...t\\u003E\\u0022\\n\",\"uri\":\"file:///home/runner/work/polyglot/polyglot/apps/spiral/temp/test/test.spi\"}} / result:\n",
      "00:00:00 \u001B[90mv\u001B[0m #5 Supervisor.sendJson / port: 13805 / json: {\"BuildFile\":{\"backend\":\"Fsharp\",\"uri\":\"file:///home/runner/work/polyglot/polyglot/apps/spiral/temp/test/test.spi\"}} / result:\n",
      "00:00:00 \u001B[94md\u001B[0m #6 Supervisor.buildFile / AsyncSeq.scan / path: test.spi / errors: [] / outputContentResult:  / typeErrorCount: 0 / retry: 0 / error:  / outputContent:\n",
      "let rec closure1 () () : unit =\n",
      "    let v0 : (string -> unit) = System.Console.WriteLine\n",
      "    let v1 : string = \"test\"\n",
      "    v0 v1\n",
      "and closure0 () () : int32 =\n",
      "    let v0 : unit = ()\n",
      "    let v1 : (unit -> unit) = closure1()\n",
      "    let v2 : unit = (fun () -> v1 (); v0) ()\n",
      "    0\n",
      "let v0 : (unit -> int32) = closure0()\n",
      "()\n",
      "\n",
      "00:00:00 \u001B[94md\u001B[0m #7 Supervisor.buildFile / takeWhileInclusive / path: test.spi / errors: [] / typeErrorCount: 0 / retry: 0 / outputContent:\n",
      "let rec closure1 () () : unit =\n",
      "    let v0 : (string -> unit) = System.Console.WriteLine\n",
      "    let v1 : string = \"test\"\n",
      "    v0 v1\n",
      "and closure0 () () : int32 =\n",
      "    let v0 : unit = ()\n",
      "    let v1 : (unit -> unit) = closure1()\n",
      "    let v2 : unit = (fun () -> v1 (); v0) ()\n",
      "    0\n",
      "let v0 : (unit -> int32) = closure0()\n",
      "()\n",
      "\n",
      "00:00:00 \u001B[94md\u001B[0m #8 FileSystem.watchWithFilter / Disposing watch stream / filter: FileName, LastWrite\n"
     ]
    }
   ],
   "source": [
    "{ . ../../../../apps/spiral/dist/Supervisor$(_exe) --build-file test.spi test.fsx } | Invoke-Block"
   ]
  },
  {
   "cell_type": "markdown",
   "metadata": {},
   "source": [
    "## compile and format the project"
   ]
  },
  {
   "cell_type": "markdown",
   "metadata": {},
   "source": [
    "### compile project with fable targeting optimized rust"
   ]
  },
  {
   "cell_type": "code",
   "execution_count": null,
   "metadata": {
    "dotnet_interactive": {
     "language": "pwsh"
    },
    "polyglot_notebook": {
     "kernelName": "pwsh"
    }
   },
   "outputs": [
    {
     "name": "stdout",
     "output_type": "stream",
     "text": [
      "\u001B[37mFable 5.0.0-alpha.2: F# to Rust compiler (status: alpha)\n",
      "\u001B[37m\n",
      "Thanks to the contributor! @cboudereau\n",
      "\u001B[37mStand with Ukraine! https://standwithukraine.com.ua/\n",
      "\n",
      "\u001B[37mParsing test.fsproj...\n",
      "\u001B[37mProject and references (1 source files) parsed in 2418ms\n",
      "\n",
      "\u001B[37mStarted Fable compilation...\n",
      "\u001B[37m\n",
      "Fable compilation finished in 1088ms\n",
      "\n",
      "\u001B[33m./test.fsx(11,0): (11,2) warning FABLE: For Rust, support for F# static and module do bindings is disabled by default. It can be enabled with the 'static_do_bindings' feature. Use at your own risk!\n"
     ]
    }
   ],
   "source": [
    "dotnet fable --optimize --lang rs --extension .rs"
   ]
  },
  {
   "cell_type": "markdown",
   "metadata": {},
   "source": [
    "### fix formatting issues in the .rs file using regex and set-content"
   ]
  },
  {
   "cell_type": "code",
   "execution_count": null,
   "metadata": {
    "dotnet_interactive": {
     "language": "pwsh"
    },
    "polyglot_notebook": {
     "kernelName": "pwsh"
    }
   },
   "outputs": [],
   "source": [
    "(Get-Content test.rs) `\n",
    "    -replace [regex]::Escape(\"),);\"), \"));\" `\n",
    "    | FixRust `\n",
    "| Set-Content test.rs"
   ]
  },
  {
   "cell_type": "markdown",
   "metadata": {},
   "source": [
    "### format the rust code using cargo fmt"
   ]
  },
  {
   "cell_type": "code",
   "execution_count": null,
   "metadata": {
    "dotnet_interactive": {
     "language": "pwsh"
    },
    "polyglot_notebook": {
     "kernelName": "pwsh"
    }
   },
   "outputs": [],
   "source": [
    "cargo fmt --"
   ]
  },
  {
   "cell_type": "markdown",
   "metadata": {},
   "source": [
    "## build and test the project"
   ]
  },
  {
   "cell_type": "markdown",
   "metadata": {},
   "source": [
    "### build the project in release mode using nightly rust compiler"
   ]
  },
  {
   "cell_type": "code",
   "execution_count": null,
   "metadata": {
    "dotnet_interactive": {
     "language": "pwsh"
    },
    "polyglot_notebook": {
     "kernelName": "pwsh"
    }
   },
   "outputs": [
    {
     "name": "stdout",
     "output_type": "stream",
     "text": [
      "\u001B[31;1m\u001B[1m\u001B[32m   Compiling\u001B[0m syn v2.0.90\u001B[0m\n",
      "\u001B[31;1m\u001B[1m\u001B[32m   Compiling\u001B[0m getrandom v0.2.15\u001B[0m\n",
      "\u001B[31;1m\u001B[1m\u001B[32m   Compiling\u001B[0m linux-raw-sys v0.4.14\u001B[0m\n",
      "\u001B[31;1m\u001B[1m\u001B[32m   Compiling\u001B[0m num-traits v0.2.19\u001B[0m\n",
      "\u001B[31;1m\u001B[1m\u001B[32m   Compiling\u001B[0m rand_core v0.6.4\u001B[0m\n",
      "\u001B[31;1m\u001B[1m\u001B[32m   Compiling\u001B[0m once_cell v1.20.2\u001B[0m\n",
      "\u001B[31;1m\u001B[1m\u001B[32m   Compiling\u001B[0m libm v0.2.11\u001B[0m\n",
      "\u001B[31;1m\u001B[1m\u001B[32m   Compiling\u001B[0m rustix v0.38.42\u001B[0m\n",
      "\u001B[31;1m\u001B[1m\u001B[32m   Compiling\u001B[0m wait-timeout v0.2.0\u001B[0m\n",
      "\u001B[31;1m\u001B[1m\u001B[32m   Compiling\u001B[0m bit-vec v0.6.3\u001B[0m\n",
      "\u001B[31;1m\u001B[1m\u001B[32m   Compiling\u001B[0m quick-error v1.2.3\u001B[0m\n",
      "\u001B[31;1m\u001B[1m\u001B[32m   Compiling\u001B[0m bit-set v0.5.3\u001B[0m\n",
      "\u001B[31;1m\u001B[1m\u001B[32m   Compiling\u001B[0m rand_xorshift v0.3.0\u001B[0m\n",
      "\u001B[31;1m\u001B[1m\u001B[32m   Compiling\u001B[0m unarray v0.1.4\u001B[0m\n",
      "\u001B[31;1m\u001B[1m\u001B[32m   Compiling\u001B[0m memchr v2.7.4\u001B[0m\n",
      "\u001B[31;1m\u001B[1m\u001B[32m   Compiling\u001B[0m nom v7.1.3\u001B[0m\n",
      "\u001B[31;1m\u001B[1m\u001B[32m   Compiling\u001B[0m tempfile v3.14.0\u001B[0m\n",
      "\u001B[31;1m\u001B[1m\u001B[32m   Compiling\u001B[0m rusty-fork v0.3.0\u001B[0m\n",
      "\u001B[31;1m\u001B[1m\u001B[32m   Compiling\u001B[0m zerocopy-derive v0.7.35\u001B[0m\n",
      "\u001B[31;1m\u001B[1m\u001B[32m   Compiling\u001B[0m thiserror-impl v1.0.69\u001B[0m\n",
      "\u001B[31;1m\u001B[1m\u001B[32m   Compiling\u001B[0m fable_library_rust v0.1.0 (/home/runner/work/polyglot/polyglot/lib/rust/fable/fable_modules/fable-library-rust)\u001B[0m\n",
      "\u001B[31;1m\u001B[1m\u001B[32m   Compiling\u001B[0m zerocopy v0.7.35\u001B[0m\n",
      "\u001B[31;1m\u001B[1m\u001B[32m   Compiling\u001B[0m thiserror v1.0.69\u001B[0m\n",
      "\u001B[31;1m\u001B[1m\u001B[32m   Compiling\u001B[0m ppv-lite86 v0.2.20\u001B[0m\n",
      "\u001B[31;1m\u001B[1m\u001B[32m   Compiling\u001B[0m rand_chacha v0.3.1\u001B[0m\n",
      "\u001B[31;1m\u001B[1m\u001B[32m   Compiling\u001B[0m rand v0.8.5\u001B[0m\n",
      "\u001B[31;1m\u001B[1m\u001B[32m   Compiling\u001B[0m proptest v1.5.0\u001B[0m\n",
      "\u001B[31;1m\u001B[1m\u001B[32m   Compiling\u001B[0m spiral_temp_test v0.0.1 (/home/runner/work/polyglot/polyglot/apps/spiral/temp/test)\u001B[0m\n",
      "\u001B[31;1m\u001B[1m\u001B[32m    Finished\u001B[0m `release` profile [optimized] target(s) in 10.76s\u001B[0m\n"
     ]
    }
   ],
   "source": [
    "cargo build --release"
   ]
  },
  {
   "cell_type": "markdown",
   "metadata": {},
   "source": [
    "### run release tests with output enabled"
   ]
  },
  {
   "cell_type": "code",
   "execution_count": null,
   "metadata": {
    "dotnet_interactive": {
     "language": "pwsh"
    },
    "polyglot_notebook": {
     "kernelName": "pwsh"
    }
   },
   "outputs": [
    {
     "name": "stdout",
     "output_type": "stream",
     "text": [
      "\u001B[31;1m\u001B[1m\u001B[32m   Compiling\u001B[0m bitflags v2.6.0\u001B[0m\n",
      "\u001B[31;1m\u001B[1m\u001B[32m   Compiling\u001B[0m linux-raw-sys v0.4.14\u001B[0m\n",
      "\u001B[31;1m\u001B[1m\u001B[32m   Compiling\u001B[0m zerocopy v0.7.35\u001B[0m\n",
      "\u001B[31;1m\u001B[1m\u001B[32m   Compiling\u001B[0m fastrand v2.3.0\u001B[0m\n",
      "\u001B[31;1m\u001B[1m\u001B[32m   Compiling\u001B[0m once_cell v1.20.2\u001B[0m\n",
      "\u001B[31;1m\u001B[1m\u001B[32m   Compiling\u001B[0m wait-timeout v0.2.0\u001B[0m\n",
      "\u001B[31;1m\u001B[1m\u001B[32m   Compiling\u001B[0m bit-vec v0.6.3\u001B[0m\n",
      "\u001B[31;1m\u001B[1m\u001B[32m   Compiling\u001B[0m rustix v0.38.42\u001B[0m\n",
      "\u001B[31;1m\u001B[1m\u001B[32m   Compiling\u001B[0m quick-error v1.2.3\u001B[0m\n",
      "\u001B[31;1m\u001B[1m\u001B[32m   Compiling\u001B[0m fnv v1.0.7\u001B[0m\n",
      "\u001B[31;1m\u001B[1m\u001B[32m   Compiling\u001B[0m bit-set v0.5.3\u001B[0m\n",
      "\u001B[31;1m\u001B[1m\u001B[32m   Compiling\u001B[0m num-traits v0.2.19\u001B[0m\n",
      "\u001B[31;1m\u001B[1m\u001B[32m   Compiling\u001B[0m ppv-lite86 v0.2.20\u001B[0m\n",
      "\u001B[31;1m\u001B[1m\u001B[32m   Compiling\u001B[0m rand_xorshift v0.3.0\u001B[0m\n",
      "\u001B[31;1m\u001B[1m\u001B[32m   Compiling\u001B[0m memchr v2.7.4\u001B[0m\n",
      "\u001B[31;1m\u001B[1m\u001B[32m   Compiling\u001B[0m rand_chacha v0.3.1\u001B[0m\n",
      "\u001B[31;1m\u001B[1m\u001B[32m   Compiling\u001B[0m rand v0.8.5\u001B[0m\n",
      "\u001B[31;1m\u001B[1m\u001B[32m   Compiling\u001B[0m unarray v0.1.4\u001B[0m\n",
      "\u001B[31;1m\u001B[1m\u001B[32m   Compiling\u001B[0m lazy_static v1.5.0\u001B[0m\n",
      "\u001B[31;1m\u001B[1m\u001B[32m   Compiling\u001B[0m minimal-lexical v0.2.1\u001B[0m\n",
      "\u001B[31;1m\u001B[1m\u001B[32m   Compiling\u001B[0m fable_library_rust v0.1.0 (/home/runner/work/polyglot/polyglot/lib/rust/fable/fable_modules/fable-library-rust)\u001B[0m\n",
      "\u001B[31;1m\u001B[1m\u001B[32m   Compiling\u001B[0m nom v7.1.3\u001B[0m\n",
      "\u001B[31;1m\u001B[1m\u001B[32m   Compiling\u001B[0m thiserror v1.0.69\u001B[0m\n",
      "\u001B[31;1m\u001B[1m\u001B[32m   Compiling\u001B[0m tempfile v3.14.0\u001B[0m\n",
      "\u001B[31;1m\u001B[1m\u001B[32m   Compiling\u001B[0m rusty-fork v0.3.0\u001B[0m\n",
      "\u001B[31;1m\u001B[1m\u001B[32m   Compiling\u001B[0m proptest v1.5.0\u001B[0m\n",
      "\u001B[31;1m\u001B[1m\u001B[32m   Compiling\u001B[0m spiral_temp_test v0.0.1 (/home/runner/work/polyglot/polyglot/apps/spiral/temp/test)\u001B[0m\n",
      "\u001B[31;1m\u001B[1m\u001B[32m    Finished\u001B[0m `release` profile [optimized] target(s) in 15.18s\u001B[0m\n",
      "\u001B[31;1m\u001B[1m\u001B[32m     Running\u001B[0m unittests main.rs (/home/runner/work/polyglot/polyglot/workspace/target/release/deps/spiral_temp_test-87f487a4cc8a01e4)\u001B[0m\n",
      "\n",
      "running 3 tests\n",
      "test test_parse_number ... ok\n",
      "test prop_parse_format_idempotent ... ok\n",
      "test adding_and_then_removing_an_item_from_the_cart_leaves_the_cart_unchanged ... ok\n",
      "\n",
      "successes:\n",
      "\n",
      "---- prop_parse_format_idempotent stdout ----\n",
      "input=Identifier(\"inWE3Ct8OCWH5YUFk8gAU5Rc1ZVf\")\n",
      "input=Operator(\"-\")\n",
      "input=Integer(7343167174317335757)\n",
      "input=StringLiteral(\"r:B:$Q*#H=YGSH:''``-$RRa\")\n",
      "input=Comment(\"z>.!\\\"<$]\")\n",
      "input=StringLiteral(\"hA?$%=*$vpQ%..=`#\")\n",
      "input=StringLiteral(\"L8]7?,s$a=O5(lic`eF=wj%5l%K2B/,'\")\n",
      "input=Operator(\"+\")\n",
      "input=Identifier(\"Hn9V4Nmct3c2dn\")\n",
      "input=Comment(\"A!<?\\\"k\\\"T&[<8\")\n",
      "input=Comment(\"`9M AY+`}y4\\\\`txU\")\n",
      "input=Operator(\")\")\n",
      "input=Operator(\")\")\n",
      "input=StringLiteral(\"]&ZhY=8-'0ine$%\")\n",
      "input=Identifier(\"PaMC7ALND\")\n",
      "input=Identifier(\"DG\")\n",
      "input=Identifier(\"ubsPX\")\n",
      "input=Integer(-8163230209249165820)\n",
      "input=Identifier(\"rA3H6PG5S89BD673wkVbr37ZJdBb8\")\n",
      "input=Identifier(\"ZHZG6NcoBUVIjHeTZGmrN0oo\")\n",
      "input=Integer(3947796867146488042)\n",
      "input=Integer(4230206094487129796)\n",
      "input=Integer(-51373578168900791)\n",
      "input=Integer(-1535449717922044051)\n",
      "input=Comment(\"5g}TBucH&\")\n",
      "input=StringLiteral(\"%N*Z\")\n",
      "input=Integer(1331846714084621242)\n",
      "input=Comment(\"lsI,ob<sFlS{? Sy6 Zg[\\\"n/)F.\")\n",
      "input=Comment(\"CTp/8*&cbQ[$8&..%@A'{e\")\n",
      "input=Operator(\"(\")\n",
      "input=Comment(\"%RJ{0vB  {.^vW@\")\n",
      "input=Integer(-2706700615433852742)\n",
      "input=StringLiteral(\"I/${j{=GGf'yUUlUmU/h7&\")\n",
      "input=Identifier(\"TErWJXuGPXzz\")\n",
      "input=Integer(5350716330422332970)\n",
      "input=StringLiteral(\"?m'\")\n",
      "input=Integer(-284373596183763272)\n",
      "input=StringLiteral(\",9CO?0}*+|lMx[TbX#3<L%:k?\")\n",
      "input=Operator(\"-\")\n",
      "input=Operator(\"=\")\n",
      "input=Integer(4843734341896165767)\n",
      "input=Comment(\"]%OaL=-?7*`.\")\n",
      "input=StringLiteral(\"CT?2|?q*}OYpIl%p5X<0?a\")\n",
      "input=Comment(\"rlNSCO\")\n",
      "input=Identifier(\"cv1EyHSCHb\")\n",
      "input=Comment(\"jDrRBPwoUA:(':$=T-..\")\n",
      "input=Integer(-7468957894197927748)\n",
      "input=Operator(\"*\")\n",
      "input=Integer(1730125373467986326)\n",
      "input=Comment(\"V\\\\'_%RGpE{f6/_7~&yp.Z \")\n",
      "input=Integer(-7294015189015680508)\n",
      "input=Integer(109007694931292567)\n",
      "input=Integer(-9171260052222661363)\n",
      "input=Operator(\"*\")\n",
      "input=Identifier(\"Kkj7fzYyXwW7C2CFkZZU9nH2uoZp\")\n",
      "input=Comment(\"Jq.6\\\\:J+\\\"\\\\\\\"i2`)Nk%]/]|Hl\")\n",
      "input=Comment(\"\\\\f?D:G\\\\<s&lFQFOzS/\\\"U\\\\K\")\n",
      "input=Identifier(\"uUcgfblvlGw245DMkC40\")\n",
      "input=StringLiteral(\"~%bd`//T(I<.{p:B&g_#hW\")\n",
      "input=Identifier(\"Zrv4AD9d26BaQl0\")\n",
      "input=Comment(\".-bv&?!W{n':=b,d&s<j?#S'k{f\")\n",
      "input=Comment(\"?6\\\"Fdvu\\\"``!\\\"\")\n",
      "input=Operator(\"=\")\n",
      "input=Operator(\"=\")\n",
      "input=Integer(175762895301658484)\n",
      "input=StringLiteral(\"cmO&hC0%Z&q.1%8/=*%G>5T.\")\n",
      "input=Integer(-176738976989140291)\n",
      "input=Identifier(\"oZUQdYF5SCukz6aZ\")\n",
      "input=Comment(\":UU%\")\n",
      "input=Identifier(\"KSw5xv9QRpf7TYxdVj\")\n",
      "input=Integer(2489724830550375427)\n",
      "input=Comment(\"(W@\\\"rYk/4\")\n",
      "input=Identifier(\"r7243b8fMc6Bn846cn1De7H\")\n",
      "input=Comment(\"}J?\\\"MbpY_O`\")\n",
      "input=Identifier(\"VVOyx32nj2Eo15FDe0p\")\n",
      "input=Operator(\")\")\n",
      "input=Integer(-1402768068914060556)\n",
      "input=Comment(\"*\\\\^>C/F?m?/)I/'Z4~v`%$=KW[?/y/\")\n",
      "input=Identifier(\"QU1L693C8HR45N\")\n",
      "input=Operator(\"+\")\n",
      "input=Integer(4607240719228960314)\n",
      "input=Comment(\"O\\\"$S`\")\n",
      "input=Identifier(\"q5z81W7TuOVz3A4\")\n",
      "input=Identifier(\"ZCAp03O171mTB66AK7VDxatXgy4hTkS\")\n",
      "input=Comment(\"/ha:$;JN{=$\")\n",
      "input=StringLiteral(\"R$<b''lP:.\")\n",
      "input=Identifier(\"Kqr1pX78ts2hE\")\n",
      "input=Integer(-469344315736340405)\n",
      "input=Operator(\"-\")\n",
      "input=Integer(-2114569398470456152)\n",
      "input=Identifier(\"YGT37O2cyBSnDZOKQu9f0w\")\n",
      "input=Operator(\"+\")\n",
      "input=Identifier(\"gX5tg8lP86FEg\")\n",
      "input=Integer(-6796436786786870774)\n",
      "input=StringLiteral(\".h_&q'/\")\n",
      "input=Operator(\"(\")\n",
      "input=Operator(\"=\")\n",
      "input=Integer(5386378452960985346)\n",
      "input=Comment(\")Ye<8{v#7{eV`=B*'25,:Fdt<-?4$&{6\")\n",
      "input=Operator(\"/\")\n",
      "input=Comment(\"f%M.%>g^{B<$?c'S[EkCV1[fV2?('\")\n",
      "input=Integer(-1466938957864962486)\n",
      "input=Comment(\"=.b'/b<9/Pg$s%FXF0;\")\n",
      "input=Comment(\" *\")\n",
      "input=Identifier(\"hPRd3oZaiYXpDAXXX7OG2olpstWg9z37\")\n",
      "input=Comment(\"o;8$?7?^b^^%qjERN=k`\\\\ %\")\n",
      "input=StringLiteral(\"/<8M?.QB.-=;H3.`ygQ+uW+sPeU%4\")\n",
      "input=StringLiteral(\"l\")\n",
      "input=Identifier(\"tOhVuUICnE6y1ngYvp17RujR615raVT\")\n",
      "input=StringLiteral(\"Q`g:K-a.Yr0XUXu53?.R}c*\")\n",
      "input=Operator(\")\")\n",
      "input=Operator(\"(\")\n",
      "input=Integer(-9040392974143841253)\n",
      "input=Operator(\"*\")\n",
      "input=Operator(\")\")\n",
      "input=StringLiteral(\"$718/{tDm:%e`V$/DFX`=!*.:=Y`)\")\n",
      "input=Operator(\"-\")\n",
      "input=Identifier(\"G\")\n",
      "input=Integer(3777643047111191247)\n",
      "input=Integer(247271692149656770)\n",
      "input=Integer(-8476069158617483858)\n",
      "input=Comment(\"#Vk'ed/tU:W^'?~d\")\n",
      "input=Operator(\"(\")\n",
      "input=Operator(\"+\")\n",
      "input=Operator(\")\")\n",
      "input=Comment(\"&o$S\")\n",
      "input=StringLiteral(\"4TT0bls>7;\")\n",
      "input=StringLiteral(\")l][\")\n",
      "input=Operator(\"=\")\n",
      "input=Integer(3202896161499671630)\n",
      "input=StringLiteral(\"zr?!?B%&z=?r,6Dx?o\")\n",
      "input=Identifier(\"dfZ7tskbbE38rVUFA4BTds8E\")\n",
      "input=Identifier(\"ioEOaf\")\n",
      "input=Identifier(\"q3Od3dej3Fv9iBuFjOJ4NYdh5ylz4\")\n",
      "input=Operator(\"+\")\n",
      "input=Operator(\"(\")\n",
      "input=Identifier(\"ZPC1a60p2Mgy4rx7Od9id417Yv9P\")\n",
      "input=StringLiteral(\"YjZ4L&[Y%#:S?+~dcV/+$#T\")\n",
      "input=Operator(\"/\")\n",
      "input=Operator(\"+\")\n",
      "input=StringLiteral(\"Z${KBJ<Bg{\")\n",
      "input=Integer(-8430937387212739945)\n",
      "input=StringLiteral(\"^Re.=K'&}0!^V`]%`L_k{?&R/d=[E:Z\")\n",
      "input=Comment(\"G\\\\'z<2%O\")\n",
      "input=Identifier(\"CILRyRuR\")\n",
      "input=Integer(-8072870881460146245)\n",
      "input=Comment(\"_<Nx!}I!5K9`=Y?;\")\n",
      "input=StringLiteral(\"'/Cr.n:M$|uxW\")\n",
      "input=Operator(\"=\")\n",
      "input=Comment(\"\\\")S\")\n",
      "input=Comment(\"{O{t.%&&?MP$~^R:$9]\")\n",
      "input=StringLiteral(\"p%ob%<'\")\n",
      "input=Operator(\"=\")\n",
      "input=Operator(\"=\")\n",
      "input=Identifier(\"EkF05m9XFhsvYMrAfzNOk3U\")\n",
      "input=Identifier(\"Q0huw5mYRMBv\")\n",
      "input=Operator(\"=\")\n",
      "input=Operator(\")\")\n",
      "input=Operator(\"*\")\n",
      "input=Comment(\"0Hz6V|Wximqg`%ohg,1L]%WG-N\")\n",
      "input=StringLiteral(\"~\")\n",
      "input=Comment(\"agJ?UVA<h,UD<\\\">\")\n",
      "input=Identifier(\"HYz8bR534t8X4sL0z34623l\")\n",
      "input=Comment(\"<3/\\\\ t)Dv!|\\\\ND:c]6XG\")\n",
      "input=Integer(6581024346055846760)\n",
      "input=Integer(7778675717021586675)\n",
      "input=StringLiteral(\"k54/gi\")\n",
      "input=Comment(\"l*%Yb:\")\n",
      "input=Integer(-8826574871475201276)\n",
      "input=Operator(\"(\")\n",
      "input=Comment(\"/lc{FO;z*.*`}!y2?gS/.z\")\n",
      "input=Comment(\"U'.l\")\n",
      "input=Integer(2096497051007381407)\n",
      "input=Identifier(\"HrHCyl6F3t0FH\")\n",
      "input=Identifier(\"vk0szWULi8kQOfZoxIg5Sp\")\n",
      "input=Identifier(\"FSZEOcaR3UE758prWhXd\")\n",
      "input=Integer(6248474898678507848)\n",
      "input=StringLiteral(\"|'`?H`:3f<\")\n",
      "input=Operator(\"=\")\n",
      "input=Comment(\"^`R\")\n",
      "input=Integer(-5252582301037088967)\n",
      "input=StringLiteral(\"i+a_87D\")\n",
      "input=Operator(\"=\")\n",
      "input=Identifier(\"i3iNpCPbrbBvKSsC67\")\n",
      "input=Identifier(\"E6RwMAcI\")\n",
      "input=Integer(809737816809942654)\n",
      "input=Identifier(\"EpB73RCGWqV3jh\")\n",
      "input=StringLiteral(\"pzUI_&</%H'4bwv?.`}=<\")\n",
      "input=Operator(\"=\")\n",
      "input=Operator(\")\")\n",
      "input=StringLiteral(\"|'R:Wn=V~%@X{%.~PY$1eQEwp/<%@ut\")\n",
      "input=Integer(5453904620561274532)\n",
      "input=Comment(\"DIFI)9FZf\")\n",
      "input=Identifier(\"TD\")\n",
      "input=Comment(\"b+\")\n",
      "input=Operator(\"(\")\n",
      "input=Integer(-7158966381892426496)\n",
      "input=StringLiteral(\"\")\n",
      "input=Comment(\"`?idoWm?z\")\n",
      "input=Integer(-9156236672417947392)\n",
      "input=Operator(\"*\")\n",
      "input=Integer(-6521115477218695918)\n",
      "input=Operator(\"-\")\n",
      "input=Operator(\"*\")\n",
      "input=Comment(\"Nh/{6u]%F!%)!B.h*<yd&)WY6X=\")\n",
      "input=Integer(-2464291843360603552)\n",
      "input=StringLiteral(\"%B\")\n",
      "input=StringLiteral(\"t.Td_^TC`+.qPhP=$<v.A$b\")\n",
      "input=Comment(\"<R%rNYViwy/&F-*G~Qs$*<f.UK\")\n",
      "input=StringLiteral(\"G=\")\n",
      "input=Operator(\"*\")\n",
      "input=Comment(\";Pp='QJ5I^+%%x=g.Aik\\\\\\\\\")\n",
      "input=Identifier(\"D1dH05GR6\")\n",
      "input=Operator(\")\")\n",
      "input=Operator(\"+\")\n",
      "input=StringLiteral(\"QYorA~$:@m9{JC'EqGv:(W.x}\")\n",
      "input=Operator(\"(\")\n",
      "input=Integer(-6843299465616902340)\n",
      "input=Integer(-9203752587484119994)\n",
      "input=Identifier(\"ZfAhnR8G424H63SCJo9i0SY8bRo83\")\n",
      "input=Comment(\"/\\\\*?89\\\\H:*Q{'\")\n",
      "input=Identifier(\"O8PM48\")\n",
      "input=Identifier(\"dXTI97DFRbAgBpzim35\")\n",
      "input=Comment(\"&:uz]&^{xE}rr{\")\n",
      "input=Comment(\"A^=t:t\\\"hZ`x(&/u\\\\`dF.%{p%7?p9G\\\"\")\n",
      "input=StringLiteral(\"{D3$\")\n",
      "input=Integer(8310027109802599524)\n",
      "input=Identifier(\"pce1ILYFl0Gcfrp123KBz2YVR46sD8cUM\")\n",
      "input=StringLiteral(\"-&x<&\")\n",
      "input=Operator(\"(\")\n",
      "input=Operator(\"*\")\n",
      "input=Integer(7451388128920977354)\n",
      "input=StringLiteral(\"Q'4v<eK=1/*6;l-{1>_/\")\n",
      "input=StringLiteral(\"w.F0`=6lKT05*^ ^*P<&0xId7OC\")\n",
      "input=Identifier(\"h7hFFnZn8MVLR0\")\n",
      "input=Integer(5542535773679102198)\n",
      "input=Identifier(\"G3nT0KkXLec9RPM0sn8Pa1BkWQxWX6qT\")\n",
      "input=Operator(\"+\")\n",
      "input=Integer(-3016242010626187370)\n",
      "input=Comment(\">Ev}=;!`;pgT\\\\<$tl!LBmA?\")\n",
      "input=Operator(\"(\")\n",
      "input=Integer(5285615630174154415)\n",
      "input=Identifier(\"fIb5nWCua5NZ\")\n",
      "input=Comment(\"*.Mb_*:y-lP:`D{,LX\\\"<::,`.W\")\n",
      "input=Identifier(\"e41yw8S7gBT1TDIJ246637\")\n",
      "input=Identifier(\"u2t43pbXhI8mMBO3891\")\n",
      "input=Comment(\"j*YQaJ?8:{6*^BK(:MGbpk T\")\n",
      "input=StringLiteral(\"7`R&.$^T}'M]w\")\n",
      "input=Comment(\"`?u<\")\n",
      "input=Integer(4932840439060797377)\n",
      "input=Identifier(\"TNIx3xnaFit\")\n",
      "input=StringLiteral(\"{9m{H&/b$>$KR\")\n",
      "input=Comment(\"?c<~7F]'}/{\")\n",
      "input=StringLiteral(\"H\")\n",
      "input=Comment(\"`.`\")\n",
      "input=Identifier(\"vIv72KlZwNRX0G8T\")\n",
      "\n",
      "\n",
      "successes:\n",
      "    adding_and_then_removing_an_item_from_the_cart_leaves_the_cart_unchanged\n",
      "    prop_parse_format_idempotent\n",
      "    test_parse_number\n",
      "\n",
      "test result: ok. 3 passed; 0 failed; 0 ignored; 0 measured; 0 filtered out; finished in 0.08s\n",
      "\n"
     ]
    }
   ],
   "source": [
    "{ cargo test --release -- --show-output } | Invoke-Block"
   ]
  },
  {
   "cell_type": "markdown",
   "metadata": {},
   "source": [
    "### execute the binary in release mode"
   ]
  },
  {
   "cell_type": "code",
   "execution_count": null,
   "metadata": {
    "dotnet_interactive": {
     "language": "pwsh"
    },
    "polyglot_notebook": {
     "kernelName": "pwsh"
    }
   },
   "outputs": [
    {
     "name": "stdout",
     "output_type": "stream",
     "text": [
      "app=test\n"
     ]
    }
   ],
   "source": [
    "{ . $ScriptDir/../../../../workspace/target/release/spiral_temp_test$(_exe) } | Invoke-Block"
   ]
  }
 ],
 "metadata": {},
 "nbformat": 4,
 "nbformat_minor": 5
}