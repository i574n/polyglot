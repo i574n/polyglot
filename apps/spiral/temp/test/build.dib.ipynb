{
 "cells": [
  {
   "cell_type": "markdown",
   "metadata": {},
   "source": [
    "# test"
   ]
  },
  {
   "cell_type": "markdown",
   "metadata": {},
   "source": [
    "## include scripts"
   ]
  },
  {
   "cell_type": "markdown",
   "metadata": {},
   "source": [
    "### include notebook core"
   ]
  },
  {
   "cell_type": "code",
   "execution_count": null,
   "metadata": {
    "dotnet_interactive": {
     "language": "pwsh"
    },
    "polyglot_notebook": {
     "kernelName": "pwsh"
    }
   },
   "outputs": [],
   "source": [
    ". ../../../../scripts/nbs_header.ps1"
   ]
  },
  {
   "cell_type": "markdown",
   "metadata": {},
   "source": [
    "### Include core functions script"
   ]
  },
  {
   "cell_type": "code",
   "execution_count": null,
   "metadata": {
    "dotnet_interactive": {
     "language": "pwsh"
    },
    "polyglot_notebook": {
     "kernelName": "pwsh"
    }
   },
   "outputs": [],
   "source": [
    ". ../../../../scripts/core.ps1"
   ]
  },
  {
   "cell_type": "markdown",
   "metadata": {},
   "source": [
    "### Include spiral library"
   ]
  },
  {
   "cell_type": "code",
   "execution_count": null,
   "metadata": {
    "dotnet_interactive": {
     "language": "pwsh"
    },
    "polyglot_notebook": {
     "kernelName": "pwsh"
    }
   },
   "outputs": [],
   "source": [
    ". ../../../../deps/spiral/lib/spiral/lib.ps1"
   ]
  },
  {
   "cell_type": "markdown",
   "metadata": {},
   "source": [
    "## execute project commands"
   ]
  },
  {
   "cell_type": "markdown",
   "metadata": {},
   "source": [
    "### run notebook with retries using spiral supervisor"
   ]
  },
  {
   "cell_type": "code",
   "execution_count": null,
   "metadata": {
    "dotnet_interactive": {
     "language": "pwsh"
    },
    "polyglot_notebook": {
     "kernelName": "pwsh"
    }
   },
   "outputs": [
    {
     "name": "stdout",
     "output_type": "stream",
     "text": [
      "00:00:00 \u001B[94md\u001B[0m #1 runtime.execute_with_options_async / { file_name = ../../../../deps/spiral/workspace/target/release/spiral; arguments = US5_0 \"dib --path test.dib --retries 3\"; options = { command = ../../../../deps/spiral/workspace/target/release/spiral dib --path test.dib --retries 3; cancellation_token = Some System.Threading.CancellationToken; environment_variables = [||]; on_line = None; stdin = None; trace = true; working_directory = None } }\n",
      "00:00:13 \u001B[94md\u001B[0m #2 runtime.execute_with_options_async / { exit_code = 0; output_length = 32177; options = { command = ../../../../deps/spiral/workspace/target/release/spiral dib --path test.dib --retries 3; cancellation_token = Some System.Threading.CancellationToken; environment_variables = [||]; on_line = None; stdin = None; trace = true; working_directory = None } }\n",
      "00:00:13 \u001B[94md\u001B[0m #1 main / executeCommand / exitCode: 0 / command: ../../../../deps/spiral/workspace/target/release/spiral dib --path test.dib --retries 3\n"
     ]
    }
   ],
   "source": [
    "{ . ../../../../apps/spiral/dist/Supervisor$(_exe) --execute-command \"../../../../deps/spiral/workspace/target/release/spiral$(_exe) dib --path test.dib --retries 3\" } | Invoke-Block"
   ]
  },
  {
   "cell_type": "markdown",
   "metadata": {},
   "source": [
    "### parse the .dib file into .spi format with dibparser"
   ]
  },
  {
   "cell_type": "code",
   "execution_count": null,
   "metadata": {
    "dotnet_interactive": {
     "language": "pwsh"
    },
    "polyglot_notebook": {
     "kernelName": "pwsh"
    }
   },
   "outputs": [
    {
     "name": "stdout",
     "output_type": "stream",
     "text": [
      "00:00:00 \u001B[94md\u001B[0m #1 writeDibCode / output: Spi / path: test.dib\n",
      "00:00:00 \u001B[94md\u001B[0m #2 parseDibCode / output: Spi / file: test.dib\n"
     ]
    }
   ],
   "source": [
    "{ . ../../../../apps/parser/dist/DibParser$(_exe) test.dib spi } | Invoke-Block"
   ]
  },
  {
   "cell_type": "markdown",
   "metadata": {},
   "source": [
    "### build .fsx file from .spi using supervisor"
   ]
  },
  {
   "cell_type": "code",
   "execution_count": null,
   "metadata": {
    "dotnet_interactive": {
     "language": "pwsh"
    },
    "polyglot_notebook": {
     "kernelName": "pwsh"
    }
   },
   "outputs": [
    {
     "name": "stdout",
     "output_type": "stream",
     "text": [
      "<test>\n",
      "</test>\n"
     ]
    }
   ],
   "source": [
    "{ . ../../../../apps/spiral/dist/Supervisor$(_exe) --build-file test.spi test.fsx } | Invoke-Block"
   ]
  },
  {
   "cell_type": "markdown",
   "metadata": {},
   "source": [
    "## compile and format the project"
   ]
  },
  {
   "cell_type": "markdown",
   "metadata": {},
   "source": [
    "### compile project with fable targeting optimized rust"
   ]
  },
  {
   "cell_type": "code",
   "execution_count": null,
   "metadata": {
    "dotnet_interactive": {
     "language": "pwsh"
    },
    "polyglot_notebook": {
     "kernelName": "pwsh"
    }
   },
   "outputs": [
    {
     "name": "stdout",
     "output_type": "stream",
     "text": [
      "\u001B[37mFable 5.0.0-alpha.9: F# to Rust compiler (status: alpha)\n",
      "\u001B[37m\n",
      "Thanks to the contributor! @jwosty\n",
      "\u001B[37mStand with Ukraine! https://standwithukraine.com.ua/\n",
      "\n",
      "\u001B[37mParsing test.fsproj...\n",
      "\u001B[37mProject and references (1 source files) parsed in 2478ms\n",
      "\n",
      "\u001B[37mStarted Fable compilation...\n",
      "\u001B[37m\n",
      "Fable compilation finished in 1129ms\n",
      "\n",
      "\u001B[33m./test.fsx(11,0): (11,2) warning FABLE: For Rust, support for F# static and module do bindings is disabled by default. It can be enabled with the 'static_do_bindings' feature. Use at your own risk!\n"
     ]
    }
   ],
   "source": [
    "dotnet fable --optimize --lang rs --extension .rs"
   ]
  },
  {
   "cell_type": "markdown",
   "metadata": {},
   "source": [
    "### fix formatting issues in the .rs file using regex and set-content"
   ]
  },
  {
   "cell_type": "code",
   "execution_count": null,
   "metadata": {
    "dotnet_interactive": {
     "language": "pwsh"
    },
    "polyglot_notebook": {
     "kernelName": "pwsh"
    }
   },
   "outputs": [],
   "source": [
    "(Get-Content test.rs) `\n",
    "    -replace [regex]::Escape(\"),);\"), \"));\" `\n",
    "    | FixRust `\n",
    "| Set-Content test.rs"
   ]
  },
  {
   "cell_type": "markdown",
   "metadata": {},
   "source": [
    "### format the rust code using cargo fmt"
   ]
  },
  {
   "cell_type": "code",
   "execution_count": null,
   "metadata": {
    "dotnet_interactive": {
     "language": "pwsh"
    },
    "polyglot_notebook": {
     "kernelName": "pwsh"
    }
   },
   "outputs": [],
   "source": [
    "cargo fmt --"
   ]
  },
  {
   "cell_type": "markdown",
   "metadata": {},
   "source": [
    "## build and test the project"
   ]
  },
  {
   "cell_type": "markdown",
   "metadata": {},
   "source": [
    "### build the project in release mode using nightly rust compiler"
   ]
  },
  {
   "cell_type": "code",
   "execution_count": null,
   "metadata": {
    "dotnet_interactive": {
     "language": "pwsh"
    },
    "polyglot_notebook": {
     "kernelName": "pwsh"
    }
   },
   "outputs": [
    {
     "name": "stdout",
     "output_type": "stream",
     "text": [
      "\u001B[31;1m\u001B[1m\u001B[32m   Compiling\u001B[0m byteorder v1.5.0\u001B[0m\n",
      "\u001B[31;1m\u001B[1m\u001B[32m   Compiling\u001B[0m syn v2.0.90\u001B[0m\n",
      "\u001B[31;1m\u001B[1m\u001B[32m   Compiling\u001B[0m getrandom v0.2.15\u001B[0m\n",
      "\u001B[31;1m\u001B[1m\u001B[32m   Compiling\u001B[0m linux-raw-sys v0.4.14\u001B[0m\n",
      "\u001B[31;1m\u001B[1m\u001B[32m   Compiling\u001B[0m rand_core v0.6.4\u001B[0m\n",
      "\u001B[31;1m\u001B[1m\u001B[32m   Compiling\u001B[0m num-traits v0.2.19\u001B[0m\n",
      "\u001B[31;1m\u001B[1m\u001B[32m   Compiling\u001B[0m once_cell v1.20.2\u001B[0m\n",
      "\u001B[31;1m\u001B[1m\u001B[32m   Compiling\u001B[0m libm v0.2.11\u001B[0m\n",
      "\u001B[31;1m\u001B[1m\u001B[32m   Compiling\u001B[0m wait-timeout v0.2.0\u001B[0m\n",
      "\u001B[31;1m\u001B[1m\u001B[32m   Compiling\u001B[0m rustix v0.38.42\u001B[0m\n",
      "\u001B[31;1m\u001B[1m\u001B[32m   Compiling\u001B[0m bit-vec v0.6.3\u001B[0m\n",
      "\u001B[31;1m\u001B[1m\u001B[32m   Compiling\u001B[0m quick-error v1.2.3\u001B[0m\n",
      "\u001B[31;1m\u001B[1m\u001B[32m   Compiling\u001B[0m bit-set v0.5.3\u001B[0m\n",
      "\u001B[31;1m\u001B[1m\u001B[32m   Compiling\u001B[0m rand_xorshift v0.3.0\u001B[0m\n",
      "\u001B[31;1m\u001B[1m\u001B[32m   Compiling\u001B[0m memchr v2.7.4\u001B[0m\n",
      "\u001B[31;1m\u001B[1m\u001B[32m   Compiling\u001B[0m unarray v0.1.4\u001B[0m\n",
      "\u001B[31;1m\u001B[1m\u001B[32m   Compiling\u001B[0m nom v7.1.3\u001B[0m\n",
      "\u001B[31;1m\u001B[1m\u001B[32m   Compiling\u001B[0m fable_library_rust v0.1.0 (/home/runner/work/polyglot/polyglot/lib/rust/fable/fable_modules/fable-library-rust)\u001B[0m\n",
      "\u001B[31;1m\u001B[1m\u001B[32m   Compiling\u001B[0m zerocopy-derive v0.7.35\u001B[0m\n",
      "\u001B[31;1m\u001B[1m\u001B[32m   Compiling\u001B[0m tempfile v3.14.0\u001B[0m\n",
      "\u001B[31;1m\u001B[1m\u001B[32m   Compiling\u001B[0m zerocopy v0.7.35\u001B[0m\n",
      "\u001B[31;1m\u001B[1m\u001B[32m   Compiling\u001B[0m rusty-fork v0.3.0\u001B[0m\n",
      "\u001B[31;1m\u001B[1m\u001B[32m   Compiling\u001B[0m thiserror-impl v1.0.69\u001B[0m\n",
      "\u001B[31;1m\u001B[1m\u001B[32m   Compiling\u001B[0m ppv-lite86 v0.2.20\u001B[0m\n",
      "\u001B[31;1m\u001B[1m\u001B[32m   Compiling\u001B[0m rand_chacha v0.3.1\u001B[0m\n",
      "\u001B[31;1m\u001B[1m\u001B[32m   Compiling\u001B[0m rand v0.8.5\u001B[0m\n",
      "\u001B[31;1m\u001B[1m\u001B[32m   Compiling\u001B[0m thiserror v1.0.69\u001B[0m\n",
      "\u001B[31;1m\u001B[1m\u001B[32m   Compiling\u001B[0m proptest v1.5.0\u001B[0m\n",
      "\u001B[31;1m\u001B[1m\u001B[32m   Compiling\u001B[0m spiral_temp_test v0.0.1 (/home/runner/work/polyglot/polyglot/apps/spiral/temp/test)\u001B[0m\n",
      "\u001B[31;1m\u001B[1m\u001B[32m    Finished\u001B[0m `release` profile [optimized] target(s) in 10.75s\u001B[0m\n"
     ]
    }
   ],
   "source": [
    "cargo build --release"
   ]
  },
  {
   "cell_type": "markdown",
   "metadata": {},
   "source": [
    "### run release tests with output enabled"
   ]
  },
  {
   "cell_type": "code",
   "execution_count": null,
   "metadata": {
    "dotnet_interactive": {
     "language": "pwsh"
    },
    "polyglot_notebook": {
     "kernelName": "pwsh"
    }
   },
   "outputs": [
    {
     "name": "stdout",
     "output_type": "stream",
     "text": [
      "\u001B[31;1m\u001B[1m\u001B[32m   Compiling\u001B[0m bitflags v2.6.0\u001B[0m\n",
      "\u001B[31;1m\u001B[1m\u001B[32m   Compiling\u001B[0m zerocopy v0.7.35\u001B[0m\n",
      "\u001B[31;1m\u001B[1m\u001B[32m   Compiling\u001B[0m linux-raw-sys v0.4.14\u001B[0m\n",
      "\u001B[31;1m\u001B[1m\u001B[32m   Compiling\u001B[0m once_cell v1.20.2\u001B[0m\n",
      "\u001B[31;1m\u001B[1m\u001B[32m   Compiling\u001B[0m fastrand v2.3.0\u001B[0m\n",
      "\u001B[31;1m\u001B[1m\u001B[32m   Compiling\u001B[0m wait-timeout v0.2.0\u001B[0m\n",
      "\u001B[31;1m\u001B[1m\u001B[32m   Compiling\u001B[0m fnv v1.0.7\u001B[0m\n",
      "\u001B[31;1m\u001B[1m\u001B[32m   Compiling\u001B[0m rustix v0.38.42\u001B[0m\n",
      "\u001B[31;1m\u001B[1m\u001B[32m   Compiling\u001B[0m quick-error v1.2.3\u001B[0m\n",
      "\u001B[31;1m\u001B[1m\u001B[32m   Compiling\u001B[0m bit-vec v0.6.3\u001B[0m\n",
      "\u001B[31;1m\u001B[1m\u001B[32m   Compiling\u001B[0m num-traits v0.2.19\u001B[0m\n",
      "\u001B[31;1m\u001B[1m\u001B[32m   Compiling\u001B[0m ppv-lite86 v0.2.20\u001B[0m\n",
      "\u001B[31;1m\u001B[1m\u001B[32m   Compiling\u001B[0m bit-set v0.5.3\u001B[0m\n",
      "\u001B[31;1m\u001B[1m\u001B[32m   Compiling\u001B[0m rand_xorshift v0.3.0\u001B[0m\n",
      "\u001B[31;1m\u001B[1m\u001B[32m   Compiling\u001B[0m memchr v2.7.4\u001B[0m\n",
      "\u001B[31;1m\u001B[1m\u001B[32m   Compiling\u001B[0m rand_chacha v0.3.1\u001B[0m\n",
      "\u001B[31;1m\u001B[1m\u001B[32m   Compiling\u001B[0m rand v0.8.5\u001B[0m\n",
      "\u001B[31;1m\u001B[1m\u001B[32m   Compiling\u001B[0m unarray v0.1.4\u001B[0m\n",
      "\u001B[31;1m\u001B[1m\u001B[32m   Compiling\u001B[0m lazy_static v1.5.0\u001B[0m\n",
      "\u001B[31;1m\u001B[1m\u001B[32m   Compiling\u001B[0m minimal-lexical v0.2.1\u001B[0m\n",
      "\u001B[31;1m\u001B[1m\u001B[32m   Compiling\u001B[0m fable_library_rust v0.1.0 (/home/runner/work/polyglot/polyglot/lib/rust/fable/fable_modules/fable-library-rust)\u001B[0m\n",
      "\u001B[31;1m\u001B[1m\u001B[32m   Compiling\u001B[0m nom v7.1.3\u001B[0m\n",
      "\u001B[31;1m\u001B[1m\u001B[32m   Compiling\u001B[0m thiserror v1.0.69\u001B[0m\n",
      "\u001B[31;1m\u001B[1m\u001B[32m   Compiling\u001B[0m tempfile v3.14.0\u001B[0m\n",
      "\u001B[31;1m\u001B[1m\u001B[32m   Compiling\u001B[0m rusty-fork v0.3.0\u001B[0m\n",
      "\u001B[31;1m\u001B[1m\u001B[32m   Compiling\u001B[0m proptest v1.5.0\u001B[0m\n",
      "\u001B[31;1m\u001B[1m\u001B[32m   Compiling\u001B[0m spiral_temp_test v0.0.1 (/home/runner/work/polyglot/polyglot/apps/spiral/temp/test)\u001B[0m\n",
      "\u001B[31;1m\u001B[1m\u001B[32m    Finished\u001B[0m `release` profile [optimized] target(s) in 15.14s\u001B[0m\n",
      "\u001B[31;1m\u001B[1m\u001B[32m     Running\u001B[0m unittests main.rs (/home/runner/work/polyglot/polyglot/workspace/target/release/deps/spiral_temp_test-be45c853cf37e114)\u001B[0m\n",
      "\n",
      "running 3 tests\n",
      "test test_parse_number ... ok\n",
      "test prop_parse_format_idempotent ... ok\n",
      "test adding_and_then_removing_an_item_from_the_cart_leaves_the_cart_unchanged ... ok\n",
      "\n",
      "successes:\n",
      "\n",
      "---- prop_parse_format_idempotent stdout ----\n",
      "input=Identifier(\"l8JO\")\n",
      "input=Comment(\"=%u[B83'D\")\n",
      "input=StringLiteral(\"nb?Q]<]s8^MYv!\")\n",
      "input=Identifier(\"e359x6pg7rZ9\")\n",
      "input=StringLiteral(\":jNhM%a:?x9R?2/S&<7~*'c=<X/t\")\n",
      "input=Operator(\"(\")\n",
      "input=Integer(6531652877947499410)\n",
      "input=Identifier(\"GxF\")\n",
      "input=StringLiteral(\"{|?Derb=^.>;=3vr=.\")\n",
      "input=Operator(\"=\")\n",
      "input=Comment(\"C V.R\\\"QX$J&|\\\"\\\"JI=:\")\n",
      "input=Comment(\"O$Oa.$\\\"\\\\d`\\\\3p%`&!8?4,=J*@7R$\")\n",
      "input=Comment(\"f'&I{j\")\n",
      "input=StringLiteral(\"$\")\n",
      "input=Integer(1084598921196365673)\n",
      "input=Operator(\"-\")\n",
      "input=Identifier(\"Jv\")\n",
      "input=Operator(\"(\")\n",
      "input=StringLiteral(\"vL<./+lk`,~[-{?L:cZ,O1`F%}P&\")\n",
      "input=Integer(-4228347883320248875)\n",
      "input=Identifier(\"I5Wlw25Ye8KVM1CyqT1cJKZfwNfaU\")\n",
      "input=Integer(1545467962454944903)\n",
      "input=Operator(\"(\")\n",
      "input=Comment(\"5^PL@iP1=?45D:\")\n",
      "input=Comment(\"3Ad$*Hh$B*&{,f\")\n",
      "input=Operator(\"-\")\n",
      "input=Comment(\"**.Cq{l'J[\\\\0=%mo6#$.FB:=?`\")\n",
      "input=StringLiteral(\"~^zQt=)~GJWa %@.\")\n",
      "input=Identifier(\"freA85E3Ire0mUEg7PUg\")\n",
      "input=Comment(\"o<`.\")\n",
      "input=Comment(\"0FmG?\")\n",
      "input=Operator(\"*\")\n",
      "input=Operator(\")\")\n",
      "input=Comment(\"h<7$nZ7.l;V,:'?r;O%'\")\n",
      "input=StringLiteral(\"a4 0B{;UV6*x\")\n",
      "input=Identifier(\"tKh1cB8xQG3RMAAGp0U56\")\n",
      "input=Comment(\"'\")\n",
      "input=Comment(\"f$Uq\\\"'\\\\r6&^/-Q##w/S:`&\")\n",
      "input=Comment(\"ioU%iR.{{XZZ$`E*Y</^W\")\n",
      "input=Identifier(\"mAfj18Q3AzkJ3fj5TofJ3ZdL7dO48\")\n",
      "input=Integer(-7732261256767325027)\n",
      "input=Identifier(\"Hre1uar0TeggJOR81Br44WkAGlxWVBI\")\n",
      "input=Identifier(\"y053DEo72YMe9Lr34V9X9f8m5274\")\n",
      "input=Identifier(\"Z\")\n",
      "input=Comment(\"=\")\n",
      "input=Identifier(\"soG9N9GTIJq5EaLPiM2\")\n",
      "input=Identifier(\"HaG9igBiIo30\")\n",
      "input=StringLiteral(\"?<d.$'?CrX'6GNJmO7$ZDU=c\")\n",
      "input=Comment(\"=I<)~rb%Idz.\")\n",
      "input=Identifier(\"AAURoHUmh7QJ5KecQ7k6LSB\")\n",
      "input=Comment(\",!;\\\"!FNN\")\n",
      "input=Identifier(\"ycINw54Jq0nq54n\")\n",
      "input=StringLiteral(\"l=/cNq:%m%<$p:!PyqZ*6Xf?%dK*rX\")\n",
      "input=Integer(8807566786880261309)\n",
      "input=Operator(\"*\")\n",
      "input=Comment(\"0CdN$:.&UCV=\")\n",
      "input=Identifier(\"M7SzddXwm\")\n",
      "input=Identifier(\"yVVd0sA87I987apU7wj3tQLXCIIHv39q\")\n",
      "input=Identifier(\"Sz8DhcewG068zrcV6JFS\")\n",
      "input=Operator(\"+\")\n",
      "input=Comment(\"ZBKV$AUJzb.182\\\\`\\\\*\")\n",
      "input=Comment(\">e%.c*<&=afj\")\n",
      "input=StringLiteral(\"{'n/u$m1gPg1Ed'h*\")\n",
      "input=StringLiteral(\".HvH<\")\n",
      "input=Integer(-1530832338541582588)\n",
      "input=Comment(\"lj -=7*SduQ\")\n",
      "input=Identifier(\"r6Y438jbKg4\")\n",
      "input=Comment(\"\\\"l:k\")\n",
      "input=Comment(\"\")\n",
      "input=StringLiteral(\"?\")\n",
      "input=Comment(\"Z*E-\\\"L^+.,-Q/\\\\'?u%!5q3N\\\"Q\")\n",
      "input=Operator(\"-\")\n",
      "input=Comment(\"=?=V$OuT_H\")\n",
      "input=Operator(\"/\")\n",
      "input=Integer(6961708591890728135)\n",
      "input=Operator(\"(\")\n",
      "input=Identifier(\"db4\")\n",
      "input=Comment(\"hV:l%J>\\\\Ra[<U8<?p.\\\"\")\n",
      "input=Operator(\"-\")\n",
      "input=StringLiteral(\"nI*z4/<Hc,z='{1aeNu$*d/.<%_\")\n",
      "input=StringLiteral(\"'<s^knx%F{\")\n",
      "input=Identifier(\"ve63133PUOvRsCUb6o7X\")\n",
      "input=StringLiteral(\"$]?*MS@`5`A4i\")\n",
      "input=Comment(\"mp?b4u~\")\n",
      "input=Integer(1238446478200088076)\n",
      "input=Identifier(\"c8tN\")\n",
      "input=Integer(72012329001880911)\n",
      "input=Integer(-8606209081724826466)\n",
      "input=Comment(\"%.fH?OBl&:.%&%%`)q@&NqJ\")\n",
      "input=StringLiteral(\"\")\n",
      "input=Integer(1491978477851233281)\n",
      "input=Integer(3904967932606406669)\n",
      "input=Identifier(\"oRMKVAkYx4\")\n",
      "input=Comment(\"%>-m&G}\")\n",
      "input=Comment(\"7a{$*f<V%/>%~:m*<\")\n",
      "input=Comment(\".WI&G\")\n",
      "input=Operator(\")\")\n",
      "input=Comment(\"WKE<9%=9\\\"kBHTDLe\")\n",
      "input=Integer(4190793885089151605)\n",
      "input=Identifier(\"rG\")\n",
      "input=Operator(\"(\")\n",
      "input=StringLiteral(\"7u{|i9d%arltO91vE,w'w:d8\")\n",
      "input=StringLiteral(\"P:'F'U$.`k`T``n+lr7:)\")\n",
      "input=Comment(\"\\\"HROU*h.tX$D\")\n",
      "input=StringLiteral(\"e:-6?>=N$=:Hs)/.@C=.f'dq\")\n",
      "input=Integer(2121022174171972416)\n",
      "input=Integer(-6929726833892185392)\n",
      "input=Identifier(\"aFr25\")\n",
      "input=StringLiteral(\"TQP3.`)r'$J/\")\n",
      "input=Identifier(\"D2sPAMURHLZ1MM\")\n",
      "input=Comment(\")UY3{!3\")\n",
      "input=Operator(\"=\")\n",
      "input=Identifier(\"SB9\")\n",
      "input=Operator(\"=\")\n",
      "input=Comment(\"}x/%p*R&~/*.FTF**D.b<Hm\")\n",
      "input=Integer(1312742856307883840)\n",
      "input=Identifier(\"CP4sSUdpfPjM6UowCXHdflL6y\")\n",
      "input=Comment(\"Qr/X`46s`` d2`\")\n",
      "input=Identifier(\"N2SI3qQRjdjRwT2Hr3pzIyQS27Vy5RD\")\n",
      "input=Identifier(\"keIAgFBbud0BGl\")\n",
      "input=Identifier(\"A03Hyt4Iht893xDH4HEZ2lVmun\")\n",
      "input=Identifier(\"r5uWYb68Pd8xoikDXxWg0oqFCyz3\")\n",
      "input=Integer(5200271085072195781)\n",
      "input=Identifier(\"czko6xvJStdRDR1nf5j4ACfq\")\n",
      "input=StringLiteral(\"196{/(&NOYT<w\")\n",
      "input=Identifier(\"j802n7kC\")\n",
      "input=Comment(\":eY`UR{H'q,#[3'{^^: `^B=.\")\n",
      "input=Integer(-8827639437945689528)\n",
      "input=Identifier(\"Q71YdtD3bdXdBs4crO9C\")\n",
      "input=Integer(-8300282863799700937)\n",
      "input=Operator(\"-\")\n",
      "input=StringLiteral(\"*zmr?3Pt3?~V$`#. P}V'$:'`w?/\")\n",
      "input=Integer(-7913461090310381787)\n",
      "input=Identifier(\"C1Ge37PZ275bGBmVbkL279\")\n",
      "input=Comment(\"lEy`YG\\\\=ksT(Y'e`6?.%lOUTQ&9Ub\")\n",
      "input=Integer(830732720204727692)\n",
      "input=Operator(\"/\")\n",
      "input=StringLiteral(\"^{:Kax&&TW\")\n",
      "input=Operator(\"/\")\n",
      "input=Operator(\"/\")\n",
      "input=Comment(\"*i`'&(o}<75:FcK00&dxx$nc*RLY%\")\n",
      "input=StringLiteral(\"%~u4-D-[&'\")\n",
      "input=Comment(\"ajI&S\")\n",
      "input=Comment(\"C3L`!Y `.<.'-:';$.Q\")\n",
      "input=Identifier(\"G56x5Rc8PoyC9U0CidKAt\")\n",
      "input=Operator(\"-\")\n",
      "input=Identifier(\"I9\")\n",
      "input=Operator(\"/\")\n",
      "input=Operator(\"(\")\n",
      "input=Integer(-76836388772371360)\n",
      "input=StringLiteral(\"+=`Src2Or'M.\")\n",
      "input=Comment(\";>L~zdB*a=6b%y'/3/\\\"=l/%/w$?$+{D?\")\n",
      "input=StringLiteral(\".H?q@;y R\")\n",
      "input=Operator(\"*\")\n",
      "input=Integer(503591168542363231)\n",
      "input=Operator(\"=\")\n",
      "input=Operator(\"*\")\n",
      "input=StringLiteral(\"+Sm(e6.Ig_aLb:aw*^BI:mC<\")\n",
      "input=StringLiteral(\"%M/t\")\n",
      "input=Identifier(\"cRiTJs\")\n",
      "input=Comment(\"*`3}\\\\X\\\\]R()w\\\\`%a\")\n",
      "input=Comment(\"Mc>h5`$?r/NrdI0rNn'f4=Xt{5^?`|us\")\n",
      "input=Operator(\"(\")\n",
      "input=Integer(355132262670710462)\n",
      "input=Operator(\"(\")\n",
      "input=Identifier(\"US\")\n",
      "input=Operator(\"-\")\n",
      "input=StringLiteral(\"!n`gD0vi:a+0ZI}<Q$M'{` M7\")\n",
      "input=Identifier(\"lLZOGO7PVd1VrvE8E3\")\n",
      "input=Operator(\"-\")\n",
      "input=Identifier(\"yL84Ll367B\")\n",
      "input=Identifier(\"OwxNaGCd3k\")\n",
      "input=Integer(3161996705380811424)\n",
      "input=Comment(\"?:;E\")\n",
      "input=Identifier(\"QX2yKnsE1nHhlnEt\")\n",
      "input=Integer(-8769469350218055937)\n",
      "input=StringLiteral(\"Kan?u/ne'4*<w{Y?6$`'kW\")\n",
      "input=Integer(1792424648234466563)\n",
      "input=Integer(3378546572852466129)\n",
      "input=Integer(-3269506182212168816)\n",
      "input=Identifier(\"z0hHU2oV3V4cEcD6hK4FPhCCkjvo4p\")\n",
      "input=StringLiteral(\"F*j7{Hs7H`&==+Np~UTs0s^*sl\")\n",
      "input=Identifier(\"vYK70BFL8fo\")\n",
      "input=Integer(-3929827328463617262)\n",
      "input=Identifier(\"OjaouRpNF0g2ry1f66bn6LX3\")\n",
      "input=Integer(-2598372728574802010)\n",
      "input=Integer(4202477334480061740)\n",
      "input=Integer(5020302188407272852)\n",
      "input=Identifier(\"gAtXnzXw\")\n",
      "input=Comment(\"_\")\n",
      "input=Identifier(\"DB5z4WrQ9EwwJd1Ms1HzYxqI5\")\n",
      "input=Operator(\")\")\n",
      "input=Integer(6778436284259634819)\n",
      "input=Integer(5725838547240129624)\n",
      "input=Identifier(\"PJTeIZ07T09jHdKFF537b3wl2p8f\")\n",
      "input=Comment(\"_V'U'`Tjg\\\"\\\"W,hJt:b*b4p$<E/m9F.':\")\n",
      "input=Identifier(\"CC3Y3ZfQp3IKT2qjI5J\")\n",
      "input=Integer(-1631247991591857241)\n",
      "input=StringLiteral(\"@'Q4:62%e'yl[m${gtfo&.R&*W#:!e#\")\n",
      "input=Operator(\"/\")\n",
      "input=Comment(\"4cH2&\")\n",
      "input=Operator(\"+\")\n",
      "input=StringLiteral(\"XYMV\")\n",
      "input=Comment(\"numST6vUI2)5>HW<uy@YR=\")\n",
      "input=Operator(\"-\")\n",
      "input=Comment(\"*U:$~r}Fw&psV*+\")\n",
      "input=Identifier(\"F78Xxx4UN3J6M6rSpsC293Y\")\n",
      "input=Identifier(\"tIaiR\")\n",
      "input=Identifier(\"zUCn82TUXG\")\n",
      "input=Operator(\"=\")\n",
      "input=StringLiteral(\"2W.:>??r(Q<*tG1y\")\n",
      "input=Operator(\"+\")\n",
      "input=Identifier(\"xqU59T956747SP3L5QX0igZ\")\n",
      "input=Comment(\"AlVV<K6Cv\\\\<vQ8\\\"Iz7$6:cfyNaSIl\")\n",
      "input=Operator(\"-\")\n",
      "input=Comment(\"./`'=\\\\\\\"%WY}?Yb&\")\n",
      "input=Operator(\")\")\n",
      "input=Operator(\"+\")\n",
      "input=Identifier(\"YYMByn0PL1gzl72br4b8Et3raVdcc\")\n",
      "input=Comment(\"!`W?qEX?)[`(w$kY$U'~N#/\\\\HN*\")\n",
      "input=Operator(\"+\")\n",
      "input=Comment(\")c{<[w..|S*@2S%3\\\"\\\"{8{\")\n",
      "input=Operator(\")\")\n",
      "input=StringLiteral(\"$bGiec_5<gH{qvx):~Q/\")\n",
      "input=Operator(\"(\")\n",
      "input=Integer(-6475625156640170585)\n",
      "input=Identifier(\"F3EFhbtewtYBGJ81BjgnLVpZ\")\n",
      "input=StringLiteral(\"Z3$yCx)9[aQU5[?9\")\n",
      "input=StringLiteral(\"*4$!`$?%<jzo+&,;+v,-pNlhS\")\n",
      "input=StringLiteral(\"ax.m[Sp:N6\")\n",
      "input=Operator(\"*\")\n",
      "input=Identifier(\"ZAsDT6A\")\n",
      "input=StringLiteral(\"p[L${&IV5q\")\n",
      "input=StringLiteral(\"*%'H.6M<(4)g(mD$$1'{k2\")\n",
      "input=Operator(\"+\")\n",
      "input=StringLiteral(\"?I</<?I:_.hcR N'!=F)wG,$d.7_&fI\")\n",
      "input=Identifier(\"zj2JAF0PTS5\")\n",
      "input=Integer(1682583346409767581)\n",
      "input=Operator(\"+\")\n",
      "input=Operator(\")\")\n",
      "input=Operator(\"/\")\n",
      "input=Integer(-2495523814568743580)\n",
      "input=Integer(2201089947430145039)\n",
      "input=Operator(\"*\")\n",
      "input=Integer(9215606151126497946)\n",
      "input=Integer(5361300920779922426)\n",
      "input=Integer(7259261868956976488)\n",
      "input=Identifier(\"YM3WE\")\n",
      "input=Comment(\"%vuao|M);\\\"1\\\"`?TA1vA<H%\")\n",
      "input=Integer(-8176906939439870501)\n",
      "input=Identifier(\"FB\")\n",
      "input=Comment(\"KC`:?E\\\"[]63&(\\\\!J_iWc+Ff8e za?$\")\n",
      "input=Operator(\")\")\n",
      "input=StringLiteral(\"&;=i'G{c7?$wfl{2sdd+l'HHtS$\")\n",
      "input=Operator(\"-\")\n",
      "input=Identifier(\"i1cq1UHUXXCSi0Yccdkq\")\n",
      "\n",
      "\n",
      "successes:\n",
      "    adding_and_then_removing_an_item_from_the_cart_leaves_the_cart_unchanged\n",
      "    prop_parse_format_idempotent\n",
      "    test_parse_number\n",
      "\n",
      "test result: ok. 3 passed; 0 failed; 0 ignored; 0 measured; 0 filtered out; finished in 0.07s\n",
      "\n"
     ]
    }
   ],
   "source": [
    "{ cargo test --release -- --show-output } | Invoke-Block"
   ]
  },
  {
   "cell_type": "markdown",
   "metadata": {},
   "source": [
    "### execute the binary in release mode"
   ]
  },
  {
   "cell_type": "code",
   "execution_count": null,
   "metadata": {
    "dotnet_interactive": {
     "language": "pwsh"
    },
    "polyglot_notebook": {
     "kernelName": "pwsh"
    }
   },
   "outputs": [
    {
     "name": "stdout",
     "output_type": "stream",
     "text": [
      "app=test\n"
     ]
    }
   ],
   "source": [
    "{ . $ScriptDir/../../../../workspace/target/release/spiral_temp_test$(_exe) } | Invoke-Block"
   ]
  }
 ],
 "metadata": {},
 "nbformat": 4,
 "nbformat_minor": 5
}