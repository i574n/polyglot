{
 "cells": [
  {
   "cell_type": "markdown",
   "metadata": {},
   "source": [
    "# test (Polyglot)"
   ]
  },
  {
   "cell_type": "code",
   "execution_count": null,
   "metadata": {
    "dotnet_interactive": {
     "language": "spiral"
    },
    "polyglot_notebook": {
     "kernelName": "spiral"
    }
   },
   "outputs": [],
   "source": [
    "//// test\n",
    "\n",
    "open testing"
   ]
  },
  {
   "cell_type": "code",
   "execution_count": null,
   "metadata": {
    "dotnet_interactive": {
     "language": "spiral"
    },
    "polyglot_notebook": {
     "kernelName": "spiral"
    }
   },
   "outputs": [
    {
     "name": "stdout",
     "output_type": "stream",
     "text": [
      "[|US5_0 (US4_0 (US0_0, US1_1, US2_1, US3_0))|]\n"
     ]
    }
   ],
   "source": [
    "nominal i = ()\n",
    "nominal e = ()\n",
    "nominal s = ()\n",
    "nominal n = ()\n",
    "nominal t = ()\n",
    "nominal f = ()\n",
    "nominal j = ()\n",
    "nominal p = ()\n",
    "\n",
    "union sensing =\n",
    "    | Si : s * i\n",
    "    | Se : s * e\n",
    "\n",
    "union intuition =\n",
    "    | Ni : n * i\n",
    "    | Ne : n * e\n",
    "\n",
    "union thinking =\n",
    "    | Ti : t * i\n",
    "    | Te : t * e\n",
    "\n",
    "union feeling =\n",
    "    | Fi : f * i\n",
    "    | Fe : f * e\n",
    "\n",
    "union function_stack =\n",
    "    | FS : sensing * intuition * thinking * feeling\n",
    "\n",
    "union personality_type =\n",
    "    | ISTJ : i * s * t * j * function_stack\n",
    "    | ISFJ : i * s * f * j * function_stack\n",
    "    | INFJ : i * n * f * j * function_stack\n",
    "    | INTJ : i * n * t * j * function_stack\n",
    "    | ISTP : i * s * t * p * function_stack\n",
    "    | ISFP : i * s * f * p * function_stack\n",
    "    | INFP : i * n * f * p * function_stack\n",
    "    | INTP : i * n * t * p * function_stack\n",
    "    | ESTP : e * s * t * p * function_stack\n",
    "    | ESFP : e * s * f * p * function_stack\n",
    "    | ENFP : e * n * f * p * function_stack\n",
    "    | ENTP : e * n * t * p * function_stack\n",
    "    | ESTJ : e * s * t * j * function_stack\n",
    "    | ESFJ : e * s * f * j * function_stack\n",
    "    | ENFJ : e * n * f * j * function_stack\n",
    "    | ENTJ : e * n * t * j * function_stack\n",
    "\n",
    "\n",
    "inl main () =\n",
    "    inl istj_stack = FS ((Si (s, i)), Ne (n, e), (Te (t, e)), (Fi (f, i)))\n",
    "    inl istj_personality = ISTJ (i, s, t, j, istj_stack)\n",
    "    // inl isfj_stack = FS ((Si (s, i)), Ne (n, e), (Fe (f, e)), (Ti (t, i)))\n",
    "    // inl isfj_personality = ISFJ (i, s, f, j, isfj_stack)\n",
    "\n",
    "    ;[\n",
    "        istj_personality\n",
    "    ]\n",
    "    |> fun x => $'$\"%A{!x}\"' : string\n",
    "    |> console.write_line\n",
    "\n",
    "inl main () =\n",
    "    $'!main ()' : ()"
   ]
  },
  {
   "cell_type": "code",
   "execution_count": null,
   "metadata": {
    "dotnet_interactive": {
     "language": "fsharp"
    },
    "polyglot_notebook": {
     "kernelName": "fsharp"
    }
   },
   "outputs": [],
   "source": [
    "type PhonologicalFeature =\n",
    "    | VowelFeature of\n",
    "        height: Height\n",
    "        * backness: Backness\n",
    "        * roundedness: Roundedness\n",
    "        * tone: Option<Tone>\n",
    "        * stress: Option<Stress>\n",
    "        * length: Option<Length>\n",
    "    | ConsonantFeature of\n",
    "        place: PlaceOfArticulation\n",
    "        * manner: MannerOfArticulation\n",
    "        * voicing: Voicing\n",
    "        * length: Option<Length>\n",
    "    | VowelHarmonyFeature\n",
    "    | PitchAccentFeature\n",
    "\n",
    "and Stress = Primary | Secondary\n",
    "and Length = Long | Short | HalfLong\n",
    "\n",
    "and Height =\n",
    "    | High | NearHigh | HighMid\n",
    "    | Mid | LowMid | NearLow\n",
    "    | Low\n",
    "\n",
    "and Backness = Front | Central | Back\n",
    "\n",
    "and Roundedness = Rounded | Unrounded\n",
    "\n",
    "and PlaceOfArticulation =\n",
    "    | Bilabial | Labiodental | Dental\n",
    "    | Alveolar | Postalveolar | Retroflex\n",
    "    | Palatal | Velar | Uvular\n",
    "    | Pharyngeal | Epiglottal | Glottal\n",
    "\n",
    "and MannerOfArticulation =\n",
    "    | Plosive | Nasal | Trill\n",
    "    | TapOrFlap | Fricative | LateralFricative\n",
    "    | Approximant | LateralApproximant\n",
    "\n",
    "and Voicing = Voiced | Voiceless\n",
    "\n",
    "and SecondaryArticulation =\n",
    "    | Labialization | Palatalization | Velarization\n",
    "    | Pharyngealization | Aspiration\n",
    "\n",
    "and Tone =\n",
    "    | LevelTone of int\n",
    "    | ContourTone of int list\n",
    "\n",
    "and MorphologicalFeature =\n",
    "    | RootFeature of string\n",
    "    | AffixFeature of AffixType * string\n",
    "    | IncorporationFeature of string * MorphologicalFeature\n",
    "    | NonConcatenativePattern of string * string\n",
    "    | AgglutinativeAffixFeature of AgglutinativeAffixType * string\n",
    "    | HonorificFeature of HonorificType * string\n",
    "\n",
    "and AgglutinativeAffixType = Suffix | Prefix\n",
    "\n",
    "and HonorificType = VerbHonorific | NounHonorific\n",
    "\n",
    "and AffixType =\n",
    "    | Prefix | Suffix | Infix\n",
    "    | Circumfix\n",
    "\n",
    "type SyntacticFeature =\n",
    "    | WordFeature of MorphologicalFeature list * LexicalCategory\n",
    "    | PhraseFeature of PhraseType * SyntacticFeature list\n",
    "    | GrammaticalRelation of GrammaticalRelationType * SyntacticFeature list\n",
    "    | SOVOrderFeature\n",
    "    | TopicCommentFeature\n",
    "\n",
    "and GrammaticalRelationType =\n",
    "    | Ergative | Absolutive | Nominative\n",
    "    | Accusative\n",
    "\n",
    "and LexicalCategory =\n",
    "    | Noun | Verb | Adjective\n",
    "    | Adverb | Pronoun | Preposition\n",
    "    | Conjunction | Determiner | Interjection\n",
    "\n",
    "and PhraseType =\n",
    "    | NP | VP | AP\n",
    "    | PP | CP\n",
    "\n",
    "and SemanticFeature =\n",
    "    | Meaning of string\n",
    "    | SemanticRole of SemanticRoleType * SemanticFeature\n",
    "\n",
    "and SemanticRoleType =\n",
    "    | Agent | Patient | Instrument\n",
    "    | Location | Time | Cause\n",
    "\n",
    "and PragmaticFeature =\n",
    "    | UseContext of string\n",
    "    | PolitenessLevel of Politeness\n",
    "    | SpeechAct of SpeechActType\n",
    "    | SpeechLevel of SpeechLevelType\n",
    "\n",
    "and Politeness = Formal | Informal | Neutral\n",
    "\n",
    "and SpeechActType =\n",
    "    | Assertive | Directive | Commissive\n",
    "    | Expressive | Declarative\n",
    "\n",
    "and SpeechLevelType =\n",
    "    | FormalHigh | FormalLow | InformalHigh\n",
    "    | InformalLow | Neutral\n",
    "\n",
    "type LinguisticFeature =\n",
    "    | Phonological of PhonologicalFeature\n",
    "    | Morphological of MorphologicalFeature\n",
    "    | Syntactic of SyntacticFeature\n",
    "    | Semantic of SemanticFeature\n",
    "    | Pragmatic of PragmaticFeature\n",
    "\n",
    "type LanguageConstruct =\n",
    "    | LanguageElement of LinguisticFeature\n",
    "    | LanguageStructure of LanguageConstruct list\n",
    "    | TranslationElement of TranslationFeature\n",
    "\n",
    "and TranslationFeature =\n",
    "    | LinkedPhonological of PhonologicalFeature * PhonologicalFeature\n",
    "    | LinkedMorphological of MorphologicalFeature * MorphologicalFeature\n",
    "    | LinkedSyntactic of SyntacticFeature * SyntacticFeature\n",
    "    | LinkedSemantic of SemanticFeature * SemanticFeature\n",
    "\n",
    "type Discourse = DiscourseUnit of LanguageConstruct list\n",
    "\n",
    "type LanguageModel =\n",
    "    | Model of discourse: Discourse"
   ]
  },
  {
   "cell_type": "code",
   "execution_count": null,
   "metadata": {
    "dotnet_interactive": {
     "language": "fsharp"
    },
    "polyglot_notebook": {
     "kernelName": "fsharp"
    }
   },
   "outputs": [],
   "source": [
    "let testEnglish =\n",
    "    Model(\n",
    "        DiscourseUnit [\n",
    "            LanguageElement (Phonological (ConsonantFeature (Alveolar, Nasal, Voiced, Some(HalfLong))));\n",
    "            LanguageElement (Phonological (VowelFeature (High, Front, Unrounded, Some(LevelTone 1), Some(Primary), Some(Short))));\n",
    "            LanguageElement (Phonological (VowelFeature (Low, Front, Unrounded, Some(LevelTone 2), Some(Secondary), Some(Long))));\n",
    "            LanguageElement (Phonological (ConsonantFeature (Velar, Plosive, Voiceless, Some(HalfLong))));\n",
    "            LanguageElement (Morphological (RootFeature \"I\"));\n",
    "            LanguageElement (Morphological (RootFeature \"see\"));\n",
    "            LanguageElement (Morphological (RootFeature \"a\"));\n",
    "            LanguageElement (Morphological (RootFeature \"cat\"));\n",
    "            LanguageElement (Syntactic (PhraseFeature (NP, [WordFeature ([RootFeature \"I\"], Pronoun)])));\n",
    "            LanguageElement (Syntactic (PhraseFeature (VP, [WordFeature ([RootFeature \"see\"], Verb)])));\n",
    "            LanguageElement (Syntactic (PhraseFeature (NP, [WordFeature ([RootFeature \"a\"; RootFeature \"cat\"], Noun)])));\n",
    "            LanguageElement (Semantic (Meaning \"Perception act of a feline by the speaker\"));\n",
    "            LanguageElement (Pragmatic (UseContext \"Statement of an action being observed\"))\n",
    "        ]\n",
    "    )\n",
    "\n",
    "let testPortuguese =\n",
    "    Model(\n",
    "        DiscourseUnit [\n",
    "            LanguageElement (Phonological (VowelFeature (High, Front, Unrounded, Some(LevelTone 1), Some(Primary), Some(Short))));\n",
    "            LanguageElement (Phonological (VowelFeature (Low, Front, Unrounded, Some(LevelTone 2), Some(Secondary), Some(Long))));\n",
    "            LanguageElement (Phonological (VowelFeature (Mid, Back, Rounded, Some(LevelTone 3), Some(Primary), Some(Short))));\n",
    "            LanguageElement (Phonological (ConsonantFeature (Velar, Plosive, Voiceless, Some(HalfLong))));\n",
    "            LanguageElement (Morphological (RootFeature \"Eu\"));\n",
    "            LanguageElement (Morphological (RootFeature \"ver\" |> ignore; AffixFeature (Suffix, \"o\")));\n",
    "            LanguageElement (Morphological (RootFeature \"um\"));\n",
    "            LanguageElement (Morphological (RootFeature \"gato\"));\n",
    "            LanguageElement (Syntactic (PhraseFeature (NP, [WordFeature ([RootFeature \"Eu\"], Pronoun)])));\n",
    "            LanguageElement (Syntactic (PhraseFeature (VP, [WordFeature ([RootFeature \"vejo\"], Verb)])));\n",
    "            LanguageElement (Syntactic (PhraseFeature (NP, [WordFeature ([RootFeature \"um\"; RootFeature \"gato\"], Noun)])));\n",
    "            LanguageElement (Semantic (Meaning \"Ação de percepção de um felino pelo falante\"));\n",
    "            LanguageElement (Pragmatic (UseContext \"Declaração de uma ação sendo observada\"))\n",
    "        ]\n",
    "    )\n",
    "\n",
    "let testKorean =\n",
    "    Model(\n",
    "        DiscourseUnit [\n",
    "            LanguageElement (Phonological (ConsonantFeature (Alveolar, Nasal, Voiced, Some(Short))));\n",
    "            LanguageElement (Phonological (VowelFeature (High, Back, Rounded, None, None, Some(Short))));\n",
    "            LanguageElement (Phonological (VowelFeature (Mid, Front, Unrounded, None, None, Some(Long))));\n",
    "            LanguageElement (Phonological (ConsonantFeature (Bilabial, Plosive, Voiceless, Some(Short))));\n",
    "            LanguageElement (Morphological (RootFeature \"나\"));\n",
    "            LanguageElement (Morphological (RootFeature \"보다\"));\n",
    "            LanguageElement (Morphological (AffixFeature (Suffix, \"아\")));\n",
    "            LanguageElement (Morphological (RootFeature \"고양이\"));\n",
    "            LanguageElement (Syntactic (PhraseFeature (NP, [WordFeature ([RootFeature \"나\"], Pronoun)])));\n",
    "            LanguageElement (Syntactic (PhraseFeature (VP, [WordFeature ([RootFeature \"보다\"; AffixFeature (Suffix, \"아\")], Verb)])));\n",
    "            LanguageElement (Syntactic (PhraseFeature (NP, [WordFeature ([RootFeature \"고양이\"], Noun)])));\n",
    "            LanguageElement (Semantic (Meaning \"화자에 의한 고양이의 관찰 행위\"));\n",
    "            LanguageElement (Pragmatic (UseContext \"관찰되고 있는 행동의 진술\"))\n",
    "        ]\n",
    "    )"
   ]
  },
  {
   "cell_type": "markdown",
   "metadata": {},
   "source": [
    "## main"
   ]
  },
  {
   "cell_type": "code",
   "execution_count": null,
   "metadata": {
    "dotnet_interactive": {
     "language": "spiral"
    },
    "polyglot_notebook": {
     "kernelName": "spiral"
    }
   },
   "outputs": [],
   "source": [
    "inl main (_args : array_base string) =\n",
    "    0i32\n",
    "\n",
    "inl main () =\n",
    "    $'let main args = !main args' : ()"
   ]
  },
  {
   "cell_type": "code",
   "execution_count": null,
   "metadata": {
    "dotnet_interactive": {
     "language": "spiral"
    },
    "polyglot_notebook": {
     "kernelName": "spiral"
    }
   },
   "outputs": [],
   "source": [
    "inl app () =\n",
    "    \"test\" |> console.write_line\n",
    "    0i32\n",
    "\n",
    "inl main () =\n",
    "    print_static \"<test>\"\n",
    "\n",
    "    app\n",
    "    |> dyn\n",
    "    |> ignore\n",
    "\n",
    "    print_static \"</test>\""
   ]
  }
 ],
 "metadata": {},
 "nbformat": 4,
 "nbformat_minor": 5
}