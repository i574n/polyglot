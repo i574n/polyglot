{
 "cells": [
  {
   "cell_type": "markdown",
   "metadata": {},
   "source": [
    "# spiral_wasm"
   ]
  },
  {
   "cell_type": "code",
   "execution_count": null,
   "metadata": {
    "dotnet_interactive": {
     "language": "spiral"
    },
    "polyglot_notebook": {
     "kernelName": "spiral"
    }
   },
   "outputs": [],
   "source": [
    "open rust.rust_operators\n",
    "open rust\n",
    "open sm'_operators"
   ]
  },
  {
   "cell_type": "markdown",
   "metadata": {},
   "source": [
    "## spiral_wasm"
   ]
  },
  {
   "cell_type": "markdown",
   "metadata": {},
   "source": [
    "### get_args"
   ]
  },
  {
   "cell_type": "code",
   "execution_count": null,
   "metadata": {
    "dotnet_interactive": {
     "language": "spiral"
    },
    "polyglot_notebook": {
     "kernelName": "spiral"
    }
   },
   "outputs": [],
   "source": [
    "inl get_args () =\n",
    "    {\n",
    "        exception = \"exception\", 'e'\n",
    "        trace_level = \"trace_level\", 't'\n",
    "        wasm = \"wasm\", 'w'\n",
    "    }"
   ]
  },
  {
   "cell_type": "markdown",
   "metadata": {},
   "source": [
    "### get_command"
   ]
  },
  {
   "cell_type": "code",
   "execution_count": null,
   "metadata": {
    "dotnet_interactive": {
     "language": "spiral"
    },
    "polyglot_notebook": {
     "kernelName": "spiral"
    }
   },
   "outputs": [],
   "source": [
    "let get_command () =\n",
    "    ##\"command\"\n",
    "    |> runtime.new_command\n",
    "    |> runtime.command_args_override_self true\n",
    "    |> runtime.command_init_arg (get_args () .exception) (\n",
    "        runtime.arg_num_args_range (\n",
    "            runtime.new_value_range\n",
    "                true\n",
    "                (am'.End id)\n",
    "                (am'.End fun _ => (1i32 |> convert : unativeint))\n",
    "        )\n",
    "        >> runtime.arg_require_equals true\n",
    "        >> runtime.arg_default_missing_value \"\"\n",
    "    )\n",
    "    |> runtime.command_init_arg (get_args () .trace_level) (\n",
    "        real runtime.arg_union `trace_level ignore\n",
    "    )\n",
    "    |> runtime.command_init_arg (get_args () .wasm) (\n",
    "        runtime.arg_required true\n",
    "    )"
   ]
  },
  {
   "cell_type": "markdown",
   "metadata": {},
   "source": [
    "### run"
   ]
  },
  {
   "cell_type": "code",
   "execution_count": null,
   "metadata": {
    "dotnet_interactive": {
     "language": "spiral"
    },
    "polyglot_notebook": {
     "kernelName": "spiral"
    }
   },
   "outputs": [],
   "source": [
    "let rec run\n",
    "    (matches : runtime.arg_matches)\n",
    "    : async.future_pin (\n",
    "        resultm.result'\n",
    "            u8\n",
    "            resultm.anyhow_error\n",
    "    )\n",
    "    =\n",
    "    fun () =>\n",
    "        inl wasm_path =\n",
    "            matches\n",
    "            |> runtime.matches_get_one (get_args () .wasm |> fst)\n",
    "            |> optionm'.unbox\n",
    "            |> optionm.value\n",
    "            |> sm'.from_std_string\n",
    "\n",
    "        trace Verbose (fun () => \"spiral_wasm.run\") fun () => { wasm_path }\n",
    "\n",
    "        inl wasm = wasm_path |> file_system.read |> resultm.try'\n",
    "\n",
    "        let fn (retry : u8) =\n",
    "            fun () =>\n",
    "                inl worker = near_workspaces.sandbox_worker () |> resultm.try'\n",
    "                inl contract = worker |> near_workspaces.dev_deploy wasm |> async.await |> resultm.try'\n",
    "\n",
    "                trace Verbose (fun () => \"spiral_wasm.run\") fun () => { retry worker contract }\n",
    "\n",
    "                inl result =\n",
    "                    contract\n",
    "                    |> near_workspaces.call \"state_main\"\n",
    "                    |> near_workspaces.gas (near_workspaces.from_tgas 300)\n",
    "                    |> near_workspaces.transact\n",
    "                    |> async.await\n",
    "                    |> resultm.try'\n",
    "\n",
    "                trace Verbose (fun () => \"spiral_wasm.run\") fun () => { retry result }\n",
    "\n",
    "                result\n",
    "                |> near_workspaces.logs\n",
    "                |> am'.vec_map sm'.ref_to_std_string\n",
    "                |> am'.vec_for_each console.write_line\n",
    "\n",
    "                trace_raw Info (fun () => \" \")\n",
    "                result |> near_workspaces.print_usd retry\n",
    "\n",
    "                inl result2 = result |> near_workspaces.into_result\n",
    "\n",
    "                trace Verbose (fun () => \"spiral_wasm.run\") fun () => { result2 }\n",
    "\n",
    "                inl receipt_failures = result |> near_workspaces.receipt_failures\n",
    "                inl receipt_failures_len = receipt_failures |> am'.vec_len |> i32\n",
    "\n",
    "                trace Verbose\n",
    "                    fun () => \"spiral_wasm.run\"\n",
    "                    fun () => { receipt_failures_len receipt_failures }\n",
    "\n",
    "                inl receipt_outcomes = result |> near_workspaces.receipt_outcomes\n",
    "                inl receipt_outcomes_len = receipt_outcomes |> am'.vec_len |> i32\n",
    "\n",
    "                trace Verbose\n",
    "                    fun () => \"spiral_wasm.run\"\n",
    "                    fun () => { receipt_outcomes_len receipt_outcomes }\n",
    "\n",
    "                inl json = result |> near_workspaces.json\n",
    "\n",
    "                trace Verbose (fun () => \"spiral_wasm.run\") fun () => { json }\n",
    "\n",
    "                inl borsh = result |> near_workspaces.borsh\n",
    "\n",
    "                trace Verbose (fun () => \"spiral_wasm.run\") fun () => { borsh }\n",
    "\n",
    "                inl error = { receipt_outcomes_len retry receipt_failures } |> sm'.format\n",
    "                if receipt_failures_len > 0\n",
    "                then (Ok (Some error) : _ _ resultm.anyhow_error) |> resultm.box\n",
    "                elif receipt_outcomes_len > 1\n",
    "                then (Ok None : _ _ resultm.anyhow_error) |> resultm.box\n",
    "                else error |> resultm.anyhow_error |> resultm.err\n",
    "            |> async.new_future_move\n",
    "\n",
    "        let rec loop (retry : u8) =\n",
    "            inl max = 30\n",
    "            inl init (error : _ string) =\n",
    "                fun () =>\n",
    "                    { retry error }\n",
    "                |> async.new_future_move\n",
    "            fun () =>\n",
    "                if retry >= max then\n",
    "                        init None\n",
    "                        |> async.await\n",
    "                        |> Error\n",
    "                else\n",
    "                    inl result =\n",
    "                        fn retry\n",
    "                        |> async.await\n",
    "                        |> resultm.map_error' sm'.format'\n",
    "                        |> resultm.unbox\n",
    "                    match result with\n",
    "                    | Ok (None) =>\n",
    "                        init None\n",
    "                        |> async.await\n",
    "                        |> Ok\n",
    "                    | Ok (Some error) =>\n",
    "                        trace Critical (fun () => \"spiral_wasm.run / Ok (Some error)\") fun () => { retry error }\n",
    "                        init (Some error)\n",
    "                        |> async.await\n",
    "                        |> Error\n",
    "                    | Error error =>\n",
    "                        trace Warning (fun () => \"spiral_wasm.run / Error error\") fun () => { retry error }\n",
    "                        trace_raw Warning (fun () => \"\\n\")\n",
    "                        loop (retry + 1) |> async.await\n",
    "            |> async.new_future_move\n",
    "        inl retries = loop 1 |> async.await\n",
    "\n",
    "        trace Verbose (fun () => \"spiral_wasm.run\") fun () => { retries }\n",
    "\n",
    "        match retries with\n",
    "        | Ok { retry } => Ok retry |> resultm.box\n",
    "        | Error { retry error } => { retries error } |> sm'.format |> resultm.anyhow_error |> resultm.err\n",
    "\n",
    "    |> async.new_future_move"
   ]
  },
  {
   "cell_type": "markdown",
   "metadata": {},
   "source": [
    "### main"
   ]
  },
  {
   "cell_type": "code",
   "execution_count": null,
   "metadata": {
    "dotnet_interactive": {
     "language": "spiral"
    },
    "polyglot_notebook": {
     "kernelName": "spiral"
    }
   },
   "outputs": [],
   "source": [
    "///! _\n",
    "\n",
    "inl main (args : array_base string) =\n",
    "    inl command = get_command ()\n",
    "    inl arg_matches = command |> runtime.command_get_matches\n",
    "\n",
    "    inl trace_level =\n",
    "        arg_matches\n",
    "        |> runtime.matches_get_one (get_args () .trace_level |> fst)\n",
    "        |> optionm'.unbox\n",
    "        |> optionm.map (\n",
    "            sm'.from_std_string\n",
    "            >> reflection.union_try_pick\n",
    "        )\n",
    "        |> optionm'.flatten\n",
    "        |> optionm'.default_value Verbose\n",
    "\n",
    "    inl trace_state = get_trace_state_or_init (Some trace_level)\n",
    "\n",
    "    trace Verbose\n",
    "        fun () => \"spiral_wasm.main\"\n",
    "        fun () => { args }\n",
    "\n",
    "    inl exception =\n",
    "        arg_matches\n",
    "        |> runtime.matches_get_one (get_args () .exception |> fst)\n",
    "        |> optionm'.map (sm'.from_std_string >> sm'.trim_start [ '\\\\' ] >> sm'.trim_end [ '\\\\' ])\n",
    "        |> optionm'.unbox\n",
    "\n",
    "    inl result =\n",
    "        arg_matches\n",
    "        |> run\n",
    "        |> async.block_on\n",
    "        |> resultm.map_error' sm'.format'\n",
    "\n",
    "    match result |> resultm.unbox, exception with\n",
    "    | Ok retries, Some exception =>\n",
    "        ($'$\"spiral_wasm.main / retries: {!retries} / exception: \\'{!exception}\\'\"' : string)\n",
    "        |> resultm.err |> resultm.unwrap'\n",
    "    | Error _error, Some (\"\") =>\n",
    "        ()\n",
    "    | Error error, Some exception when error |> sm'.from_std_string |> sm'.contains exception =>\n",
    "        ()\n",
    "    | Error error, Some exception =>\n",
    "        ($'$\"spiral_wasm.main / exception: \\'{!exception}\\' / error: {!error}\"' : string)\n",
    "        |> resultm.err |> resultm.unwrap'\n",
    "    | Ok _retries, _ =>\n",
    "        ()\n",
    "    | Error _error, _ =>\n",
    "        result |> resultm.unwrap' |> ignore\n",
    "\n",
    "    0i32\n",
    "\n",
    "inl main () =\n",
    "    $'let main args = !main args' : ()"
   ]
  }
 ],
 "metadata": {},
 "nbformat": 4,
 "nbformat_minor": 5
}