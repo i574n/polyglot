{
 "cells": [
  {
   "cell_type": "markdown",
   "metadata": {},
   "source": [
    "# spiral_wasm"
   ]
  },
  {
   "cell_type": "code",
   "execution_count": null,
   "metadata": {
    "dotnet_interactive": {
     "language": "spiral"
    },
    "polyglot_notebook": {
     "kernelName": "spiral"
    }
   },
   "outputs": [],
   "source": [
    "open rust.rust_operators\n",
    "open rust\n",
    "open sm'_operators"
   ]
  },
  {
   "cell_type": "markdown",
   "metadata": {},
   "source": [
    "## spiral_wasm"
   ]
  },
  {
   "cell_type": "markdown",
   "metadata": {},
   "source": [
    "### get_args"
   ]
  },
  {
   "cell_type": "code",
   "execution_count": null,
   "metadata": {
    "dotnet_interactive": {
     "language": "spiral"
    },
    "polyglot_notebook": {
     "kernelName": "spiral"
    }
   },
   "outputs": [],
   "source": [
    "inl get_args () =\n",
    "    {\n",
    "        wasm = \"wasm\", 'w'\n",
    "    }"
   ]
  },
  {
   "cell_type": "markdown",
   "metadata": {},
   "source": [
    "### get_command"
   ]
  },
  {
   "cell_type": "code",
   "execution_count": null,
   "metadata": {
    "dotnet_interactive": {
     "language": "spiral"
    },
    "polyglot_notebook": {
     "kernelName": "spiral"
    }
   },
   "outputs": [],
   "source": [
    "let get_command () =\n",
    "    ##\"command\"\n",
    "    |> runtime.new_command\n",
    "    |> runtime.command_init_arg (get_args () .wasm) (\n",
    "        runtime.arg_required true\n",
    "    )"
   ]
  },
  {
   "cell_type": "markdown",
   "metadata": {},
   "source": [
    "### anyhow_result"
   ]
  },
  {
   "cell_type": "code",
   "execution_count": null,
   "metadata": {
    "dotnet_interactive": {
     "language": "spiral"
    },
    "polyglot_notebook": {
     "kernelName": "spiral"
    }
   },
   "outputs": [],
   "source": [
    "nominal anyhow_result t =\n",
    "    `(\n",
    "        global \"#if FABLE_COMPILER\\n[<Fable.Core.Erase; Fable.Core.Emit(\\\"anyhow::Result<$0>\\\")>]\\n#endif\\ntype anyhow_Result<'T> = class end\"\n",
    "        $'' : $'anyhow_Result<`t>'\n",
    "    )"
   ]
  },
  {
   "cell_type": "markdown",
   "metadata": {},
   "source": [
    "### anyhow_error"
   ]
  },
  {
   "cell_type": "code",
   "execution_count": null,
   "metadata": {
    "dotnet_interactive": {
     "language": "spiral"
    },
    "polyglot_notebook": {
     "kernelName": "spiral"
    }
   },
   "outputs": [],
   "source": [
    "nominal anyhow_error =\n",
    "    `(\n",
    "        global \"#if FABLE_COMPILER\\n[<Fable.Core.Erase; Fable.Core.Emit(\\\"anyhow::Error\\\")>]\\n#endif\\ntype anyhow_Error = class end\"\n",
    "        $'' : $'anyhow_Error'\n",
    "    )\n",
    "\n",
    "inl anyhow_error error =\n",
    "    !\\\\(error, $'\"anyhow::anyhow\\!($0)\"')"
   ]
  },
  {
   "cell_type": "markdown",
   "metadata": {},
   "source": [
    "### near_workspaces_error"
   ]
  },
  {
   "cell_type": "code",
   "execution_count": null,
   "metadata": {
    "dotnet_interactive": {
     "language": "spiral"
    },
    "polyglot_notebook": {
     "kernelName": "spiral"
    }
   },
   "outputs": [],
   "source": [
    "nominal near_workspaces_error =\n",
    "    `(\n",
    "        global \"#if FABLE_COMPILER\\n[<Fable.Core.Erase; Fable.Core.Emit(\\\"near_workspaces::error::Error\\\")>]\\n#endif\\ntype near_workspaces_error_Error = class end\"\n",
    "        $'' : $'near_workspaces_error_Error'\n",
    "    )"
   ]
  },
  {
   "cell_type": "markdown",
   "metadata": {},
   "source": [
    "### sandbox"
   ]
  },
  {
   "cell_type": "code",
   "execution_count": null,
   "metadata": {
    "dotnet_interactive": {
     "language": "spiral"
    },
    "polyglot_notebook": {
     "kernelName": "spiral"
    }
   },
   "outputs": [],
   "source": [
    "nominal sandbox =\n",
    "    `(\n",
    "        global \"#if FABLE_COMPILER\\n[<Fable.Core.Erase; Fable.Core.Emit(\\\"near_workspaces::network::Sandbox\\\")>]\\n#endif\\ntype near_workspaces_network_Sandbox = class end\"\n",
    "        $'' : $'near_workspaces_network_Sandbox'\n",
    "    )"
   ]
  },
  {
   "cell_type": "markdown",
   "metadata": {},
   "source": [
    "### worker"
   ]
  },
  {
   "cell_type": "code",
   "execution_count": null,
   "metadata": {
    "dotnet_interactive": {
     "language": "spiral"
    },
    "polyglot_notebook": {
     "kernelName": "spiral"
    }
   },
   "outputs": [],
   "source": [
    "nominal worker t =\n",
    "    `(\n",
    "        global \"#if FABLE_COMPILER\\n[<Fable.Core.Erase; Fable.Core.Emit(\\\"near_workspaces::Worker<$0>\\\")>]\\n#endif\\ntype near_workspaces_Worker<'T> = class end\"\n",
    "        $'' : $'near_workspaces_Worker<`t>'\n",
    "    )"
   ]
  },
  {
   "cell_type": "markdown",
   "metadata": {},
   "source": [
    "### contract"
   ]
  },
  {
   "cell_type": "code",
   "execution_count": null,
   "metadata": {
    "dotnet_interactive": {
     "language": "spiral"
    },
    "polyglot_notebook": {
     "kernelName": "spiral"
    }
   },
   "outputs": [],
   "source": [
    "nominal contract =\n",
    "    `(\n",
    "        global \"#if FABLE_COMPILER\\n[<Fable.Core.Erase; Fable.Core.Emit(\\\"near_workspaces::Contract\\\")>]\\n#endif\\ntype near_workspaces_Contract = class end\"\n",
    "        $'' : $'near_workspaces_Contract'\n",
    "    )"
   ]
  },
  {
   "cell_type": "markdown",
   "metadata": {},
   "source": [
    "### call_transaction"
   ]
  },
  {
   "cell_type": "code",
   "execution_count": null,
   "metadata": {
    "dotnet_interactive": {
     "language": "spiral"
    },
    "polyglot_notebook": {
     "kernelName": "spiral"
    }
   },
   "outputs": [],
   "source": [
    "nominal call_transaction =\n",
    "    `(\n",
    "        global \"#if FABLE_COMPILER\\n[<Fable.Core.Erase; Fable.Core.Emit(\\\"near_workspaces::operations::CallTransaction\\\")>]\\n#endif\\ntype near_workspaces_operations_CallTransaction = class end\"\n",
    "        $'' : $'near_workspaces_operations_CallTransaction'\n",
    "    )"
   ]
  },
  {
   "cell_type": "markdown",
   "metadata": {},
   "source": [
    "### execution_final_result"
   ]
  },
  {
   "cell_type": "code",
   "execution_count": null,
   "metadata": {
    "dotnet_interactive": {
     "language": "spiral"
    },
    "polyglot_notebook": {
     "kernelName": "spiral"
    }
   },
   "outputs": [],
   "source": [
    "nominal execution_final_result =\n",
    "    `(\n",
    "        global \"#if FABLE_COMPILER\\n[<Fable.Core.Erase; Fable.Core.Emit(\\\"near_workspaces::result::ExecutionFinalResult\\\")>]\\n#endif\\ntype near_workspaces_result_ExecutionFinalResult = class end\"\n",
    "        $'' : $'near_workspaces_result_ExecutionFinalResult'\n",
    "    )"
   ]
  },
  {
   "cell_type": "markdown",
   "metadata": {},
   "source": [
    "### execution_result"
   ]
  },
  {
   "cell_type": "code",
   "execution_count": null,
   "metadata": {
    "dotnet_interactive": {
     "language": "spiral"
    },
    "polyglot_notebook": {
     "kernelName": "spiral"
    }
   },
   "outputs": [],
   "source": [
    "nominal execution_result t =\n",
    "    `(\n",
    "        global \"#if FABLE_COMPILER\\n[<Fable.Core.Erase; Fable.Core.Emit(\\\"near_workspaces::result::ExecutionResult<$0>\\\")>]\\n#endif\\ntype near_workspaces_result_ExecutionResult<'T> = class end\"\n",
    "        $'' : $'near_workspaces_result_ExecutionResult<`t>'\n",
    "    )"
   ]
  },
  {
   "cell_type": "markdown",
   "metadata": {},
   "source": [
    "### result_value"
   ]
  },
  {
   "cell_type": "code",
   "execution_count": null,
   "metadata": {
    "dotnet_interactive": {
     "language": "spiral"
    },
    "polyglot_notebook": {
     "kernelName": "spiral"
    }
   },
   "outputs": [],
   "source": [
    "nominal result_value =\n",
    "    `(\n",
    "        global \"#if FABLE_COMPILER\\n[<Fable.Core.Erase; Fable.Core.Emit(\\\"near_workspaces::result::Value\\\")>]\\n#endif\\ntype near_workspaces_result_Value = class end\"\n",
    "        $'' : $'near_workspaces_result_Value'\n",
    "    )"
   ]
  },
  {
   "cell_type": "markdown",
   "metadata": {},
   "source": [
    "### tx_execution_error"
   ]
  },
  {
   "cell_type": "code",
   "execution_count": null,
   "metadata": {
    "dotnet_interactive": {
     "language": "spiral"
    },
    "polyglot_notebook": {
     "kernelName": "spiral"
    }
   },
   "outputs": [],
   "source": [
    "nominal tx_execution_error =\n",
    "    `(\n",
    "        global \"#if FABLE_COMPILER\\n[<Fable.Core.Erase; Fable.Core.Emit(\\\"near_primitives::errors::TxExecutionError\\\")>]\\n#endif\\ntype near_primitives_errors_TxExecutionError = class end\"\n",
    "        $'' : $'near_primitives_errors_TxExecutionError'\n",
    "    )"
   ]
  },
  {
   "cell_type": "markdown",
   "metadata": {},
   "source": [
    "### execution_outcome"
   ]
  },
  {
   "cell_type": "code",
   "execution_count": null,
   "metadata": {
    "dotnet_interactive": {
     "language": "spiral"
    },
    "polyglot_notebook": {
     "kernelName": "spiral"
    }
   },
   "outputs": [],
   "source": [
    "nominal execution_outcome =\n",
    "    `(\n",
    "        global \"#if FABLE_COMPILER\\n[<Fable.Core.Erase; Fable.Core.Emit(\\\"near_workspaces::result::ExecutionOutcome\\\")>]\\n#endif\\ntype near_workspaces_result_ExecutionOutcome = class end\"\n",
    "        $'' : $'near_workspaces_result_ExecutionOutcome'\n",
    "    )"
   ]
  },
  {
   "cell_type": "markdown",
   "metadata": {},
   "source": [
    "### main_async"
   ]
  },
  {
   "cell_type": "code",
   "execution_count": null,
   "metadata": {
    "dotnet_interactive": {
     "language": "spiral"
    },
    "polyglot_notebook": {
     "kernelName": "spiral"
    }
   },
   "outputs": [],
   "source": [
    "inl main_async () =\n",
    "    !\\($'\"} //\"') : ()\n",
    "\n",
    "    !\\($'\"fn print_usd(result: near_workspaces::result::ExecutionFinalResult) { //\"') : ()\n",
    "    !\\($'\"  const NEAR_PRICE_IN_USD: f64 = 6.68; //\"') : ()\n",
    "\n",
    "    !\\($'\"  fn gas_to_usd(gas: u64) -> f64 { //\"') : ()\n",
    "    !\\($'\"    (gas as f64) / 1e16 * NEAR_PRICE_IN_USD //\"') : ()\n",
    "    !\\($'\"  } //\"') : ()\n",
    "\n",
    "    !\\($'\"  fn tokens_to_usd(tokens: u128) -> f64 { //\"') : ()\n",
    "    !\\($'\"    (tokens as f64) / 1e24 * NEAR_PRICE_IN_USD //\"') : ()\n",
    "    !\\($'\"  } //\"') : ()\n",
    "\n",
    "    !\\($'\"  println\\!(\\\\\\\"gas_to_usd(result.total_gas_burnt.as_gas()): {:.6} ({:#?})\\\\\\\", //\"') : ()\n",
    "    !\\($'\"    gas_to_usd(result.total_gas_burnt.as_gas()), //\"') : ()\n",
    "    !\\($'\"    result.total_gas_burnt.as_gas() //\"') : ()\n",
    "    !\\($'\"  ); //\"') : ()\n",
    "\n",
    "    !\\($'\"  result.outcomes().iter().for_each(|outcome| { //\"') : ()\n",
    "    !\\($'\"    println\\!(\\\\\\\"outcome (success: {:#?}):\\\\\\\", outcome.is_success()); //\"') : ()\n",
    "    !\\($'\"    println\\!( //\"') : ()\n",
    "    !\\($'\"      \\\\\\\"  gas_to_usd(outcome.gas_burnt.as_gas()): {:.6} ({:#?})\\\\\\\", //\"') : ()\n",
    "    !\\($'\"      gas_to_usd(outcome.gas_burnt.as_gas()), //\"') : ()\n",
    "    !\\($'\"      outcome.gas_burnt.as_gas() //\"') : ()\n",
    "    !\\($'\"    ); //\"') : ()\n",
    "    !\\($'\"    println\\!( //\"') : ()\n",
    "    !\\($'\"      \\\\\\\"  tokens_to_usd(outcome.tokens_burnt.as_yoctonear()): {:.6} ({:#?})\\\\\\\", //\"') : ()\n",
    "    !\\($'\"      tokens_to_usd(outcome.tokens_burnt.as_yoctonear()), //\"') : ()\n",
    "    !\\($'\"      outcome.tokens_burnt.as_yoctonear() //\"') : ()\n",
    "    !\\($'\"    ); //\"') : ()\n",
    "    !\\($'\"  }); //\"') : ()\n",
    "\n",
    "    !\\($'\"} //\"') : ()\n",
    "\n",
    "    !\\($'\"fn _main() { //\"') : ()"
   ]
  },
  {
   "cell_type": "markdown",
   "metadata": {},
   "source": [
    "### sandbox_worker"
   ]
  },
  {
   "cell_type": "code",
   "execution_count": null,
   "metadata": {
    "dotnet_interactive": {
     "language": "spiral"
    },
    "polyglot_notebook": {
     "kernelName": "spiral"
    }
   },
   "outputs": [],
   "source": [
    "inl sandbox_worker () : resultm.result' (worker sandbox) near_workspaces_error =\n",
    "    !\\($'\"near_workspaces::sandbox().await\"')"
   ]
  },
  {
   "cell_type": "markdown",
   "metadata": {},
   "source": [
    "### dev_deploy"
   ]
  },
  {
   "cell_type": "code",
   "execution_count": null,
   "metadata": {
    "dotnet_interactive": {
     "language": "spiral"
    },
    "polyglot_notebook": {
     "kernelName": "spiral"
    }
   },
   "outputs": [],
   "source": [
    "inl dev_deploy\n",
    "    (wasm : am'.vec u8)\n",
    "    (worker : worker sandbox)\n",
    "    : async.future_pin (resultm.result' contract near_workspaces_error)\n",
    "    =\n",
    "    !\\\\(worker, $'\"Box::pin($0.dev_deploy(&!wasm))\"')"
   ]
  },
  {
   "cell_type": "markdown",
   "metadata": {},
   "source": [
    "### call"
   ]
  },
  {
   "cell_type": "code",
   "execution_count": null,
   "metadata": {
    "dotnet_interactive": {
     "language": "spiral"
    },
    "polyglot_notebook": {
     "kernelName": "spiral"
    }
   },
   "outputs": [],
   "source": [
    "inl call (fn_name : string) (contract : contract) : call_transaction =\n",
    "    !\\\\((contract, fn_name), $'\"$0.call(&*$1)\"')"
   ]
  },
  {
   "cell_type": "markdown",
   "metadata": {},
   "source": [
    "### transact"
   ]
  },
  {
   "cell_type": "code",
   "execution_count": null,
   "metadata": {
    "dotnet_interactive": {
     "language": "spiral"
    },
    "polyglot_notebook": {
     "kernelName": "spiral"
    }
   },
   "outputs": [],
   "source": [
    "inl transact\n",
    "    (call : call_transaction)\n",
    "    : async.future_pin (resultm.result' execution_final_result near_workspaces_error)\n",
    "    =\n",
    "    !\\($'\"Box::pin(!call.transact())\"')"
   ]
  },
  {
   "cell_type": "markdown",
   "metadata": {},
   "source": [
    "### logs"
   ]
  },
  {
   "cell_type": "code",
   "execution_count": null,
   "metadata": {
    "dotnet_interactive": {
     "language": "spiral"
    },
    "polyglot_notebook": {
     "kernelName": "spiral"
    }
   },
   "outputs": [],
   "source": [
    "inl logs (result : execution_final_result) : am'.vec (rust.ref sm'.str) =\n",
    "    !\\($'\"!result.logs()\"')"
   ]
  },
  {
   "cell_type": "markdown",
   "metadata": {},
   "source": [
    "### into_result"
   ]
  },
  {
   "cell_type": "code",
   "execution_count": null,
   "metadata": {
    "dotnet_interactive": {
     "language": "spiral"
    },
    "polyglot_notebook": {
     "kernelName": "spiral"
    }
   },
   "outputs": [],
   "source": [
    "inl into_result\n",
    "    (result : execution_final_result)\n",
    "    : resultm.result' (execution_result result_value) (execution_result tx_execution_error)\n",
    "    =\n",
    "    !\\\\(result, $'\"$0.into_result()\"')"
   ]
  },
  {
   "cell_type": "markdown",
   "metadata": {},
   "source": [
    "### receipt_failures"
   ]
  },
  {
   "cell_type": "code",
   "execution_count": null,
   "metadata": {
    "dotnet_interactive": {
     "language": "spiral"
    },
    "polyglot_notebook": {
     "kernelName": "spiral"
    }
   },
   "outputs": [],
   "source": [
    "inl receipt_failures (result : execution_final_result) : am'.vec (rust.ref execution_outcome) =\n",
    "    inl result = join result\n",
    "    !\\($'\"!result.receipt_failures()\"')"
   ]
  },
  {
   "cell_type": "markdown",
   "metadata": {},
   "source": [
    "### receipt_outcomes"
   ]
  },
  {
   "cell_type": "code",
   "execution_count": null,
   "metadata": {
    "dotnet_interactive": {
     "language": "spiral"
    },
    "polyglot_notebook": {
     "kernelName": "spiral"
    }
   },
   "outputs": [],
   "source": [
    "inl receipt_outcomes (result : execution_final_result) : rust.ref (am'.slice execution_outcome) =\n",
    "    inl result = join result\n",
    "    !\\($'\"!result.receipt_outcomes()\"')"
   ]
  },
  {
   "cell_type": "markdown",
   "metadata": {},
   "source": [
    "### json"
   ]
  },
  {
   "cell_type": "code",
   "execution_count": null,
   "metadata": {
    "dotnet_interactive": {
     "language": "spiral"
    },
    "polyglot_notebook": {
     "kernelName": "spiral"
    }
   },
   "outputs": [],
   "source": [
    "inl json (result : execution_final_result) : resultm.result' sm'.std_string near_workspaces_error =\n",
    "    !\\\\(result, $'\"$0.json()\"')"
   ]
  },
  {
   "cell_type": "markdown",
   "metadata": {},
   "source": [
    "### borsh"
   ]
  },
  {
   "cell_type": "code",
   "execution_count": null,
   "metadata": {
    "dotnet_interactive": {
     "language": "spiral"
    },
    "polyglot_notebook": {
     "kernelName": "spiral"
    }
   },
   "outputs": [],
   "source": [
    "inl borsh (result : execution_final_result) : resultm.result' sm'.std_string near_workspaces_error =\n",
    "    !\\\\(result, $'\"$0.borsh()\"')"
   ]
  },
  {
   "cell_type": "markdown",
   "metadata": {},
   "source": [
    "### run"
   ]
  },
  {
   "cell_type": "code",
   "execution_count": null,
   "metadata": {
    "dotnet_interactive": {
     "language": "spiral"
    },
    "polyglot_notebook": {
     "kernelName": "spiral"
    }
   },
   "outputs": [],
   "source": [
    "let rec run (matches : runtime.arg_matches) : async.future_pin (resultm.result' () anyhow_error) =\n",
    "    fun () =>\n",
    "        inl wasm_path =\n",
    "            matches\n",
    "            |> runtime.matches_get_one (get_args () .wasm |> fst)\n",
    "            |> optionm'.unbox\n",
    "            |> optionm.value\n",
    "            |> sm'.from_std_string\n",
    "\n",
    "        trace Debug (fun () => \"run\") fun () => { wasm_path }\n",
    "\n",
    "        inl wasm = wasm_path |> file_system.read |> resultm.try'\n",
    "\n",
    "        inl worker = sandbox_worker () |> resultm.try'\n",
    "        trace Debug (fun () => \"\") fun () => { worker }\n",
    "\n",
    "        inl contract = worker |> dev_deploy wasm |> async.await |> resultm.try'\n",
    "        trace Debug (fun () => \"\") fun () => { contract }\n",
    "\n",
    "        inl result = contract |> call \"state_main\" |> transact |> async.await |> resultm.try'\n",
    "        trace Debug (fun () => \"\") fun () => { result }\n",
    "\n",
    "        result |> logs |> am'.vec_map sm'.ref_to_std_string |> am'.vec_for_each console.write_line\n",
    "\n",
    "        (!\\($'\"  true; println\\!(\\\\\\\"\\\\\\\\n\\\\\\\\n state_main transact result: {:#?}\\\\\\\", !result.clone()); //\"') : bool) |> ignore\n",
    "\n",
    "        (!\\($'\"  true; println\\!(\\\\\\\"\\\\\\\\n\\\\\\\\n print_usd:\\\\\\\"); //\"') : bool) |> ignore\n",
    "        (!\\($'\"  true; print_usd(!result.clone()); //\"') : bool) |> ignore\n",
    "\n",
    "        inl result2 = result |> into_result\n",
    "        trace Debug (fun () => \"\") fun () => { result2 }\n",
    "\n",
    "        inl receipt_failures = result |> receipt_failures\n",
    "        trace Debug (fun () => \"\") fun () => { receipt_failures }\n",
    "\n",
    "        inl receipt_outcomes = result |> receipt_outcomes\n",
    "        trace Debug (fun () => \"\") fun () => { receipt_outcomes }\n",
    "\n",
    "        inl json = result |> json\n",
    "        trace Debug (fun () => \"\") fun () => { json }\n",
    "\n",
    "        inl borsh = result |> borsh\n",
    "        trace Debug (fun () => \"\") fun () => { borsh }\n",
    "\n",
    "        (!\\($'\"  true; println\\!(\\\\\\\"\\\\\\\\n\\\\\\\\n worker: {:#?}\\\\\\\", !worker); //\"') : bool) |> ignore\n",
    "        (!\\($'\"  true; println\\!(\\\\\\\"\\\\\\\\n\\\\\\\\n contract: {:#?}\\\\\\\", !contract); //\"') : bool) |> ignore\n",
    "\n",
    "        if (receipt_failures |> am'.vec_len |> i32) = 0\n",
    "        then Ok () |> resultm.box\n",
    "        else \"<error>\" |> anyhow_error |> resultm.err\n",
    "    |> async.new_future_move"
   ]
  },
  {
   "cell_type": "markdown",
   "metadata": {},
   "source": [
    "### main"
   ]
  },
  {
   "cell_type": "code",
   "execution_count": null,
   "metadata": {
    "dotnet_interactive": {
     "language": "spiral"
    },
    "polyglot_notebook": {
     "kernelName": "spiral"
    }
   },
   "outputs": [],
   "source": [
    "///! _\n",
    "\n",
    "inl main (args : array_base string) =\n",
    "    inl trace_state = get_trace_state_or_init None\n",
    "\n",
    "    trace Debug\n",
    "        fun () => $'$\"spiral_wasm.main\"'\n",
    "        fun () => { args }\n",
    "\n",
    "    inl command = get_command ()\n",
    "    inl arg_matches = command |> runtime.command_get_matches\n",
    "\n",
    "    arg_matches\n",
    "    |> run\n",
    "    |> async.block_on\n",
    "    |> resultm.unwrap'\n",
    "\n",
    "    0i32\n",
    "\n",
    "inl main () =\n",
    "    $'!main_async |> ignore' : ()\n",
    "    $'let main args = !main args' : ()"
   ]
  }
 ],
 "metadata": {},
 "nbformat": 4,
 "nbformat_minor": 5
}