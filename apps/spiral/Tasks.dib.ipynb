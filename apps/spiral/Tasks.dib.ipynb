{
 "cells": [
  {
   "cell_type": "markdown",
   "metadata": {},
   "source": [
    "## Tasks (Polyglot)"
   ]
  },
  {
   "cell_type": "code",
   "execution_count": null,
   "metadata": {
    "dotnet_interactive": {
     "language": "spiral"
    },
    "polyglot_notebook": {
     "kernelName": "spiral"
    }
   },
   "outputs": [
    {
     "name": "stdout",
     "output_type": "stream",
     "text": [
      "()\n",
      "\n"
     ]
    }
   ],
   "source": [
    "// // test\n",
    "\n",
    "open testing"
   ]
  },
  {
   "cell_type": "code",
   "execution_count": null,
   "metadata": {
    "dotnet_interactive": {
     "language": "spiral"
    },
    "polyglot_notebook": {
     "kernelName": "spiral"
    }
   },
   "outputs": [
    {
     "name": "stdout",
     "output_type": "stream",
     "text": [
      "()\n",
      "\n"
     ]
    }
   ],
   "source": [
    "inl types () =\n",
    "    global \"[<Fable.Core.Erase; Fable.Core.Emit(\\\"std::string::String\\\")>] type std_string_String = class end\"\n",
    "    global \"[<Fable.Core.Erase; Fable.Core.Emit(\\\"&$0\\\")>] type Ref<'T> = class end\"\n",
    "    global \"[<Fable.Core.Erase; Fable.Core.Emit(\\\"str\\\")>] type Str = class end\"\n",
    "\n",
    "inl emit_expr forall a t. (args : a) (code : string) : t =\n",
    "    real\n",
    "        $\"Fable.Core.RustInterop.emitRustExpr !args !code\" : t\n",
    "\n",
    "\n",
    "nominal std_string = $\"std_string_String\"\n",
    "nominal ref' t = $\"Ref<`t>\"\n",
    "nominal str = $\"Str\"\n",
    "\n",
    "inl format_debug forall t. (x : t) : std_string =\n",
    "    real\n",
    "        emit_expr `t `std_string x \"format!(\\\"{:?}\\\", $0)\"\n",
    "\n",
    "inl format_pretty forall t. (x : t) : std_string =\n",
    "    real\n",
    "        emit_expr `t `std_string x \"format!(\\\"{:#?}\\\", $0)\"\n",
    "\n",
    "inl to_std_string (str : ref' str) : std_string =\n",
    "    // inl str = join str\n",
    "    // // emit_expr () $\"\\\"!str.to_string()\\\"\"\n",
    "    // // emit_expr () $\"\\\"alloc::string::to_string(!str)\\\"\"\n",
    "    // emit_expr str \"($0).to_string()\"\n",
    "    emit_expr str $\"\\\"String::from(core::ops::Deref::deref($0))\\\"\"\n",
    "    // emit_expr str $\"\\\"String::from(*$0)\\\"\"\n",
    "    // emit_expr () $\"\\\"String::from(!str)\\\"\"\n",
    "\n",
    "inl format forall t. (x : t) : std_string =\n",
    "    real\n",
    "        inl result : std_string =\n",
    "            typecase t with\n",
    "            | string => to_std_string x\n",
    "            | std_string => x\n",
    "            | _ => format_pretty `t x\n",
    "        result\n",
    "\n",
    "inl raw_string_literal (s : string) : ref' str =\n",
    "    emit_expr () $\"\\\"r#\\\\\\\"\\\" + !s + \\\"\\\\\\\"#\\\"\"\n",
    "\n",
    "inl (~#) (s : string) : ref' str =\n",
    "    raw_string_literal s"
   ]
  },
  {
   "cell_type": "code",
   "execution_count": null,
   "metadata": {
    "dotnet_interactive": {
     "language": "spiral"
    },
    "polyglot_notebook": {
     "kernelName": "spiral"
    }
   },
   "outputs": [
    {
     "name": "stdout",
     "output_type": "stream",
     "text": [
      "()\n",
      "\n"
     ]
    }
   ],
   "source": [
    "nominal task_name = string\n",
    "\n",
    "union manual_scheduling =\n",
    "    | WithSuggestion\n",
    "    | WithoutSuggestion\n",
    "\n",
    "union recurrency_offset =\n",
    "    | Days : i32\n",
    "    | Weeks : i32\n",
    "    | Months : i32\n",
    "\n",
    "union day_of_week =\n",
    "    | Sunday\n",
    "    | Monday\n",
    "    | Tuesday\n",
    "    | Wednesday\n",
    "    | Thursday\n",
    "    | Friday\n",
    "    | Saturday\n",
    "\n",
    "union month =\n",
    "    | January\n",
    "    | February\n",
    "    | March\n",
    "    | April\n",
    "    | May\n",
    "    | June\n",
    "    | July\n",
    "    | August\n",
    "    | September\n",
    "    | October\n",
    "    | November\n",
    "    | December\n",
    "\n",
    "nominal day = i32\n",
    "nominal year = i32\n",
    "\n",
    "union fixed_recurrency =\n",
    "    | Weekly : day_of_week\n",
    "    | Monthly : day\n",
    "    | Yearly : day * month\n",
    "\n",
    "union recurrency =\n",
    "    | Offset : recurrency_offset\n",
    "    | Fixed : list fixed_recurrency\n",
    "\n",
    "union scheduling =\n",
    "    | Manual : manual_scheduling\n",
    "    | Recurrent : recurrency\n",
    "\n",
    "type task =\n",
    "    {\n",
    "        name : task_name\n",
    "        scheduling : scheduling\n",
    "    }\n",
    "\n",
    "type date =\n",
    "    {\n",
    "        year : year\n",
    "        month : month\n",
    "        day : day\n",
    "    }\n",
    "\n",
    "union status =\n",
    "    | Postponed : option ()\n",
    "\n",
    "type event =\n",
    "    {\n",
    "        date : date\n",
    "        status : status\n",
    "    }\n",
    "\n",
    "type task_template =\n",
    "    {\n",
    "        task : task\n",
    "        events : list event\n",
    "    }"
   ]
  },
  {
   "cell_type": "code",
   "execution_count": null,
   "metadata": {
    "dotnet_interactive": {
     "language": "spiral"
    },
    "polyglot_notebook": {
     "kernelName": "spiral"
    }
   },
   "outputs": [
    {
     "data": {
      "text/plain": [
       ".rs output:\n",
       "\n"
      ]
     },
     "metadata": {},
     "output_type": "display_data"
    },
    {
     "name": "stdout",
     "output_type": "stream",
     "text": [
      "\n",
      ".fsx:\n",
      "[<Fable.Core.Erase; Fable.Core.Emit(\"std::string::String\")>] type std_string_String = class end\n",
      "[<Fable.Core.Erase; Fable.Core.Emit(\"&$0\")>] type Ref<'T> = class end\n",
      "[<Fable.Core.Erase; Fable.Core.Emit(\"str\")>] type Str = class end\n",
      "let rec method0 () : unit =\n",
      "    ()\n",
      "method0()\n",
      "\n",
      ".rs:\n",
      "#![allow(dead_code,)]\n",
      "#![allow(non_camel_case_types,)]\n",
      "#![allow(non_snake_case,)]\n",
      "#![allow(non_upper_case_globals,)]\n",
      "#![allow(unreachable_code,)]\n",
      "#![allow(unused_attributes,)]\n",
      "#![allow(unused_imports,)]\n",
      "#![allow(unused_macros,)]\n",
      "#![allow(unused_parens,)]\n",
      "#![allow(unused_variables,)]\n",
      "mod module_e32d1f60 {\n",
      "    pub mod Fs_rs {\n",
      "        use super::*;\n",
      "        use fable_library_rust::Native_::on_startup;\n",
      "        pub fn method0() { (); }\n",
      "        on_startup!(Fs_rs::method0());\n",
      "    }\n",
      "}\n",
      "pub use module_e32d1f60::*;\n",
      "\n"
     ]
    }
   ],
   "source": [
    "// // test\n",
    "// // rust=\n",
    "\n",
    "types ()"
   ]
  },
  {
   "cell_type": "code",
   "execution_count": null,
   "metadata": {
    "dotnet_interactive": {
     "language": "spiral"
    },
    "polyglot_notebook": {
     "kernelName": "spiral"
    }
   },
   "outputs": [
    {
     "data": {
      "text/plain": [
       ".rs output:\n",
       "UH2_0(\n",
       "    UH0_1,\n",
       "    \"01\",\n",
       "    US4_0(\n",
       "        US3_0,\n",
       "    ),\n",
       "    UH2_0(\n",
       "        UH0_1,\n",
       "        \"02\",\n",
       "        US4_0(\n",
       "            US3_0,\n",
       "        ),\n",
       "        UH2_0(\n",
       "            UH0_1,\n",
       "            \"03\",\n",
       "            US4_0(\n",
       "                US3_0,\n",
       "            ),\n",
       "            UH2_1,\n",
       "        ),\n",
       "    ),\n",
       ")\n"
      ]
     },
     "metadata": {},
     "output_type": "display_data"
    },
    {
     "name": "stdout",
     "output_type": "stream",
     "text": [
      "\n",
      ".fsx:\n",
      "[<Fable.Core.Erase; Fable.Core.Emit(\"std::string::String\")>] type std_string_String = class end\n",
      "[<Fable.Core.Erase; Fable.Core.Emit(\"&$0\")>] type Ref<'T> = class end\n",
      "[<Fable.Core.Erase; Fable.Core.Emit(\"str\")>] type Str = class end\n",
      "type [<Struct>] US0 =\n",
      "    | US0_0\n",
      "    | US0_1\n",
      "    | US0_2\n",
      "    | US0_3\n",
      "    | US0_4\n",
      "    | US0_5\n",
      "    | US0_6\n",
      "    | US0_7\n",
      "    | US0_8\n",
      "    | US0_9\n",
      "    | US0_10\n",
      "    | US0_11\n",
      "and [<Struct>] US2 =\n",
      "    | US2_0\n",
      "    | US2_1\n",
      "and [<Struct>] US1 =\n",
      "    | US1_0 of f0_0 : US2\n",
      "and UH0 =\n",
      "    | UH0_0 of int32 * US0 * int32 * US1 * UH0\n",
      "    | UH0_1\n",
      "and [<Struct>] US3 =\n",
      "    | US3_0\n",
      "    | US3_1\n",
      "and [<Struct>] US7 =\n",
      "    | US7_0\n",
      "    | US7_1\n",
      "    | US7_2\n",
      "    | US7_3\n",
      "    | US7_4\n",
      "    | US7_5\n",
      "    | US7_6\n",
      "and [<Struct>] US6 =\n",
      "    | US6_0 of f0_0 : int32\n",
      "    | US6_1 of f1_0 : US7\n",
      "    | US6_2 of f2_0 : int32 * f2_1 : US0\n",
      "and UH1 =\n",
      "    | UH1_0 of US6 * UH1\n",
      "    | UH1_1\n",
      "and [<Struct>] US8 =\n",
      "    | US8_0 of f0_0 : int32\n",
      "    | US8_1 of f1_0 : int32\n",
      "    | US8_2 of f2_0 : int32\n",
      "and [<Struct>] US5 =\n",
      "    | US5_0 of f0_0 : UH1\n",
      "    | US5_1 of f1_0 : US8\n",
      "and [<Struct>] US4 =\n",
      "    | US4_0 of f0_0 : US3\n",
      "    | US4_1 of f1_0 : US5\n",
      "and UH2 =\n",
      "    | UH2_0 of UH0 * string * US4 * UH2\n",
      "    | UH2_1\n",
      "let rec method0 () : unit =\n",
      "    let v0 : UH0 = UH0_1\n",
      "    let v1 : string = \"01\"\n",
      "    let v2 : US3 = US3_0\n",
      "    let v3 : US4 = US4_0(v2)\n",
      "    let v4 : UH0 = UH0_1\n",
      "    let v5 : string = \"02\"\n",
      "    let v6 : US3 = US3_0\n",
      "    let v7 : US4 = US4_0(v6)\n",
      "    let v8 : UH0 = UH0_1\n",
      "    let v9 : string = \"03\"\n",
      "    let v10 : US3 = US3_0\n",
      "    let v11 : US4 = US4_0(v10)\n",
      "    let v12 : UH2 = UH2_1\n",
      "    let v13 : UH2 = UH2_0(v8, v9, v11, v12)\n",
      "    let v14 : UH2 = UH2_0(v4, v5, v7, v13)\n",
      "    let v15 : UH2 = UH2_0(v0, v1, v3, v14)\n",
      "    let v16 : string = \"format!(\\\"{:#?}\\\", $0)\"\n",
      "    let v17 : std_string_String = Fable.Core.RustInterop.emitRustExpr v15 v16\n",
      "    System.Console.WriteLine v17\n",
      "    ()\n",
      "method0()\n",
      "\n",
      ".rs:\n",
      "#![allow(dead_code,)]\n",
      "#![allow(non_camel_case_types,)]\n",
      "#![allow(non_snake_case,)]\n",
      "#![allow(non_upper_case_globals,)]\n",
      "#![allow(unreachable_code,)]\n",
      "#![allow(unused_attributes,)]\n",
      "#![allow(unused_imports,)]\n",
      "#![allow(unused_macros,)]\n",
      "#![allow(unused_parens,)]\n",
      "#![allow(unused_variables,)]\n",
      "mod module_e32d1f60 {\n",
      "    pub mod Fs_rs {\n",
      "        use super::*;\n",
      "        use fable_library_rust::Native_::Any;\n",
      "        use fable_library_rust::Native_::LrcPtr;\n",
      "        use fable_library_rust::Native_::on_startup;\n",
      "        use fable_library_rust::String_::string;\n",
      "        #[derive(Clone, Copy, Debug, PartialEq, PartialOrd, Hash, Eq, Ord,)]\n",
      "        pub enum US0 {\n",
      "            US0_0,\n",
      "            US0_1,\n",
      "            US0_2,\n",
      "            US0_3,\n",
      "            US0_4,\n",
      "            US0_5,\n",
      "            US0_6,\n",
      "            US0_7,\n",
      "            US0_8,\n",
      "            US0_9,\n",
      "            US0_10,\n",
      "            US0_11,\n",
      "        }\n",
      "        impl core::fmt::Display for Fs_rs::US0 {\n",
      "            fn fmt(&self, f: &mut core::fmt::Formatter) -> core::fmt::Result {\n",
      "                write!(f, \"{}\", core::any::type_name::<Self>())\n",
      "            }\n",
      "        }\n",
      "        #[derive(Clone, Copy, Debug, PartialEq, PartialOrd, Hash, Eq, Ord,)]\n",
      "        pub enum US2 { US2_0, US2_1, }\n",
      "        impl core::fmt::Display for Fs_rs::US2 {\n",
      "            fn fmt(&self, f: &mut core::fmt::Formatter) -> core::fmt::Result {\n",
      "                write!(f, \"{}\", core::any::type_name::<Self>())\n",
      "            }\n",
      "        }\n",
      "        #[derive(Clone, Copy, Debug, PartialEq, PartialOrd, Hash, Eq, Ord,)]\n",
      "        pub enum US1 { US1_0(Fs_rs::US2), }\n",
      "        impl core::fmt::Display for Fs_rs::US1 {\n",
      "            fn fmt(&self, f: &mut core::fmt::Formatter) -> core::fmt::Result {\n",
      "                write!(f, \"{}\", core::any::type_name::<Self>())\n",
      "            }\n",
      "        }\n",
      "        #[derive(Clone, Debug, PartialEq, PartialOrd, Hash, Eq, Ord,)]\n",
      "        pub enum UH0 {\n",
      "            UH0_0(i32, Fs_rs::US0, i32, Fs_rs::US1, LrcPtr<Fs_rs::UH0>),\n",
      "            UH0_1,\n",
      "        }\n",
      "        impl core::fmt::Display for Fs_rs::UH0 {\n",
      "            fn fmt(&self, f: &mut core::fmt::Formatter) -> core::fmt::Result {\n",
      "                write!(f, \"{}\", core::any::type_name::<Self>())\n",
      "            }\n",
      "        }\n",
      "        #[derive(Clone, Copy, Debug, PartialEq, PartialOrd, Hash, Eq, Ord,)]\n",
      "        pub enum US3 { US3_0, US3_1, }\n",
      "        impl core::fmt::Display for Fs_rs::US3 {\n",
      "            fn fmt(&self, f: &mut core::fmt::Formatter) -> core::fmt::Result {\n",
      "                write!(f, \"{}\", core::any::type_name::<Self>())\n",
      "            }\n",
      "        }\n",
      "        #[derive(Clone, Copy, Debug, PartialEq, PartialOrd, Hash, Eq, Ord,)]\n",
      "        pub enum US7 { US7_0, US7_1, US7_2, US7_3, US7_4, US7_5, US7_6, }\n",
      "        impl core::fmt::Display for Fs_rs::US7 {\n",
      "            fn fmt(&self, f: &mut core::fmt::Formatter) -> core::fmt::Result {\n",
      "                write!(f, \"{}\", core::any::type_name::<Self>())\n",
      "            }\n",
      "        }\n",
      "        #[derive(Clone, Copy, Debug, PartialEq, PartialOrd, Hash, Eq, Ord,)]\n",
      "        pub enum US6 {\n",
      "            US6_0(i32),\n",
      "            US6_1(Fs_rs::US7),\n",
      "            US6_2(i32, Fs_rs::US0),\n",
      "        }\n",
      "        impl core::fmt::Display for Fs_rs::US6 {\n",
      "            fn fmt(&self, f: &mut core::fmt::Formatter) -> core::fmt::Result {\n",
      "                write!(f, \"{}\", core::any::type_name::<Self>())\n",
      "            }\n",
      "        }\n",
      "        #[derive(Clone, Debug, PartialEq, PartialOrd, Hash, Eq, Ord,)]\n",
      "        pub enum UH1 { UH1_0(Fs_rs::US6, LrcPtr<Fs_rs::UH1>), UH1_1, }\n",
      "        impl core::fmt::Display for Fs_rs::UH1 {\n",
      "            fn fmt(&self, f: &mut core::fmt::Formatter) -> core::fmt::Result {\n",
      "                write!(f, \"{}\", core::any::type_name::<Self>())\n",
      "            }\n",
      "        }\n",
      "        #[derive(Clone, Copy, Debug, PartialEq, PartialOrd, Hash, Eq, Ord,)]\n",
      "        pub enum US8 { US8_0(i32), US8_1(i32), US8_2(i32), }\n",
      "        impl core::fmt::Display for Fs_rs::US8 {\n",
      "            fn fmt(&self, f: &mut core::fmt::Formatter) -> core::fmt::Result {\n",
      "                write!(f, \"{}\", core::any::type_name::<Self>())\n",
      "            }\n",
      "        }\n",
      "        #[derive(Clone, Debug, PartialEq, PartialOrd, Hash, Eq, Ord,)]\n",
      "        pub enum US5 { US5_0(LrcPtr<Fs_rs::UH1>), US5_1(Fs_rs::US8), }\n",
      "        impl core::fmt::Display for Fs_rs::US5 {\n",
      "            fn fmt(&self, f: &mut core::fmt::Formatter) -> core::fmt::Result {\n",
      "                write!(f, \"{}\", core::any::type_name::<Self>())\n",
      "            }\n",
      "        }\n",
      "        #[derive(Clone, Debug, PartialEq, PartialOrd, Hash, Eq, Ord,)]\n",
      "        pub enum US4 { US4_0(Fs_rs::US3), US4_1(Fs_rs::US5), }\n",
      "        impl core::fmt::Display for Fs_rs::US4 {\n",
      "            fn fmt(&self, f: &mut core::fmt::Formatter) -> core::fmt::Result {\n",
      "                write!(f, \"{}\", core::any::type_name::<Self>())\n",
      "            }\n",
      "        }\n",
      "        #[derive(Clone, Debug, PartialEq, PartialOrd, Hash, Eq, Ord,)]\n",
      "        pub enum UH2 {\n",
      "            UH2_0(LrcPtr<Fs_rs::UH0>, string, Fs_rs::US4, LrcPtr<Fs_rs::UH2>),\n",
      "            UH2_1,\n",
      "        }\n",
      "        impl core::fmt::Display for Fs_rs::UH2 {\n",
      "            fn fmt(&self, f: &mut core::fmt::Formatter) -> core::fmt::Result {\n",
      "                write!(f, \"{}\", core::any::type_name::<Self>())\n",
      "            }\n",
      "        }\n",
      "        pub fn method0() {\n",
      "            let v17: std::string::String =\n",
      "                format!(\"{:#?}\", &LrcPtr::new(Fs_rs::UH2::UH2_0(LrcPtr::new(Fs_rs::UH0::UH0_1),\n",
      "                                                                string(\"01\"),\n",
      "                                                                Fs_rs::US4::US4_0(Fs_rs::US3::US3_0),\n",
      "                                                                LrcPtr::new(Fs_rs::UH2::UH2_0(LrcPtr::new(Fs_rs::UH0::UH0_1),\n",
      "                                                                                              string(\"02\"),\n",
      "                                                                                              Fs_rs::US4::US4_0(Fs_rs::US3::US3_0),\n",
      "                                                                                              LrcPtr::new(Fs_rs::UH2::UH2_0(LrcPtr::new(Fs_rs::UH0::UH0_1),\n",
      "                                                                                                                            string(\"03\"),\n",
      "                                                                                                                            Fs_rs::US4::US4_0(Fs_rs::US3::US3_0),\n",
      "                                                                                                                            LrcPtr::new(Fs_rs::UH2::UH2_1))))))));\n",
      "            println!(\"{0}\", &v17,);\n",
      "            ()\n",
      "        }\n",
      "        on_startup!(Fs_rs::method0());\n",
      "    }\n",
      "}\n",
      "pub use module_e32d1f60::*;\n",
      "\n"
     ]
    }
   ],
   "source": [
    "// // test\n",
    "// // rust=\n",
    "\n",
    "inl get_tasks () : list task_template =\n",
    "    [\n",
    "        {\n",
    "            task =\n",
    "                {\n",
    "                    name = task_name \"01\"\n",
    "                    scheduling = Manual WithSuggestion\n",
    "                }\n",
    "            events = []\n",
    "        }\n",
    "        {\n",
    "            task =\n",
    "                {\n",
    "                    name = task_name \"02\"\n",
    "                    scheduling = Manual WithSuggestion\n",
    "                }\n",
    "            events = []\n",
    "        }\n",
    "        {\n",
    "            task =\n",
    "                {\n",
    "                    name = task_name \"03\"\n",
    "                    scheduling = Manual WithSuggestion\n",
    "                }\n",
    "            events = []\n",
    "        }\n",
    "    ]\n",
    "\n",
    "types ()\n",
    "get_tasks () |> format_pretty |> console.write_line"
   ]
  },
  {
   "cell_type": "code",
   "execution_count": null,
   "metadata": {
    "dotnet_interactive": {
     "language": "spiral"
    },
    "polyglot_notebook": {
     "kernelName": "spiral"
    }
   },
   "outputs": [
    {
     "data": {
      "text/plain": [
       ".rs output:\n",
       "\n"
      ]
     },
     "metadata": {},
     "output_type": "display_data"
    },
    {
     "name": "stdout",
     "output_type": "stream",
     "text": [
      "\n",
      ".fsx:\n",
      "let rec method0 () : unit =\n",
      "    let v0 : string = \"01\"\n",
      "    let v1 : string = $\"__expect / actual: %A{v0} / expected: %A{v0}\"\n",
      "    ()\n",
      "method0()\n",
      "\n",
      ".rs:\n",
      "#![allow(dead_code,)]\n",
      "#![allow(non_camel_case_types,)]\n",
      "#![allow(non_snake_case,)]\n",
      "#![allow(non_upper_case_globals,)]\n",
      "#![allow(unreachable_code,)]\n",
      "#![allow(unused_attributes,)]\n",
      "#![allow(unused_imports,)]\n",
      "#![allow(unused_macros,)]\n",
      "#![allow(unused_parens,)]\n",
      "#![allow(unused_variables,)]\n",
      "mod module_e32d1f60 {\n",
      "    pub mod Fs_rs {\n",
      "        use super::*;\n",
      "        use fable_library_rust::Native_::Any;\n",
      "        use fable_library_rust::Native_::on_startup;\n",
      "        use fable_library_rust::String_::sprintf;\n",
      "        use fable_library_rust::String_::string;\n",
      "        pub fn method0() {\n",
      "            let v1: string =\n",
      "                sprintf!(\"__expect / actual: {:?} / expected: {:?}\",\n",
      "                         &string(\"01\"), &string(\"01\"));\n",
      "            ()\n",
      "        }\n",
      "        on_startup!(Fs_rs::method0());\n",
      "    }\n",
      "}\n",
      "pub use module_e32d1f60::*;\n",
      "\n"
     ]
    }
   ],
   "source": [
    "// // test\n",
    "// // rust=\n",
    "\n",
    "get_tasks ()\n",
    "|> listm'.try_item 0i32\n",
    "|> fun (Some task) => task.task.name\n",
    "|> _equal (task_name \"01\")"
   ]
  },
  {
   "cell_type": "code",
   "execution_count": null,
   "metadata": {
    "dotnet_interactive": {
     "language": "spiral"
    },
    "polyglot_notebook": {
     "kernelName": "spiral"
    }
   },
   "outputs": [
    {
     "name": "stdout",
     "output_type": "stream",
     "text": [
      "let rec method0 () : unit =\n",
      "    ()\n",
      "method0()\n",
      "\n"
     ]
    }
   ],
   "source": [
    "// // test\n",
    "\n",
    "()"
   ]
  }
 ],
 "metadata": {},
 "nbformat": 4,
 "nbformat_minor": 5
}