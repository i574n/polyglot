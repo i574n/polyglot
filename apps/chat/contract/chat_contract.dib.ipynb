{
 "cells": [
  {
   "cell_type": "markdown",
   "metadata": {},
   "source": [
    "# chat_contract"
   ]
  },
  {
   "cell_type": "code",
   "execution_count": null,
   "metadata": {
    "dotnet_interactive": {
     "language": "spiral"
    },
    "polyglot_notebook": {
     "kernelName": "spiral"
    }
   },
   "outputs": [],
   "source": [
    "open rust\n",
    "open rust.rust_operators"
   ]
  },
  {
   "cell_type": "code",
   "execution_count": null,
   "metadata": {
    "dotnet_interactive": {
     "language": "spiral"
    },
    "polyglot_notebook": {
     "kernelName": "spiral"
    }
   },
   "outputs": [],
   "source": [
    "//// test\n",
    "\n",
    "open testing"
   ]
  },
  {
   "cell_type": "markdown",
   "metadata": {},
   "source": [
    "## chat_contract"
   ]
  },
  {
   "cell_type": "markdown",
   "metadata": {},
   "source": [
    "### state"
   ]
  },
  {
   "cell_type": "code",
   "execution_count": null,
   "metadata": {
    "dotnet_interactive": {
     "language": "spiral"
    },
    "polyglot_notebook": {
     "kernelName": "spiral"
    }
   },
   "outputs": [],
   "source": [
    "type state =\n",
    "    {\n",
    "        version : u32\n",
    "        alias_map : near.lookup_map sm'.std_string (mapm.hash_map near.account_id (u64 * u32))\n",
    "        account_map : near.lookup_map near.account_id sm'.std_string\n",
    "    }"
   ]
  },
  {
   "cell_type": "code",
   "execution_count": null,
   "metadata": {
    "dotnet_interactive": {
     "language": "spiral"
    },
    "polyglot_notebook": {
     "kernelName": "spiral"
    }
   },
   "outputs": [
    {
     "data": {
      "text/plain": [
       "08:24:22 \u001B[94m  debug\u001B[39m #1 spiral_wasm.print_usd / { retry = 1; total_gas_burnt_usd = +0.000957; total_gas_burnt = 1432554003351 }\n",
       "08:24:22 \u001B[94m  debug\u001B[39m #2 spiral_wasm.print_usd / outcome / { is_success = true; gas_burnt_usd = +0.000206; tokens_burnt_usd = +0.000206; gas_burnt = 308081859340; tokens_burnt = 30808185934000000000 }\n",
       "08:24:22 \u001B[94m  debug\u001B[39m #3 spiral_wasm.print_usd / outcome / { is_success = true; gas_burnt_usd = +0.000602; tokens_burnt_usd = +0.000602; gas_burnt = 901289581511; tokens_burnt = 90128958151100000000 }\n",
       "08:24:22 \u001B[94m  debug\u001B[39m #4 spiral_wasm.print_usd / outcome / { is_success = true; gas_burnt_usd = +0.000149; tokens_burnt_usd = +0.000000; gas_burnt = 223182562500; tokens_burnt = 0 }\n"
      ]
     },
     "metadata": {},
     "output_type": "display_data"
    }
   ],
   "source": [
    "//// test\n",
    "///! rust -c\n",
    "\n",
    "()"
   ]
  },
  {
   "cell_type": "markdown",
   "metadata": {},
   "source": [
    "### new"
   ]
  },
  {
   "cell_type": "code",
   "execution_count": null,
   "metadata": {
    "dotnet_interactive": {
     "language": "spiral"
    },
    "polyglot_notebook": {
     "kernelName": "spiral"
    }
   },
   "outputs": [],
   "source": [
    "inl new () : state =\n",
    "    {\n",
    "        version = 1\n",
    "        alias_map = \"l\" |> sm'.byte_slice |> near.new_lookup_map\n",
    "        account_map = \"c\" |> sm'.byte_slice |> near.new_lookup_map\n",
    "    }"
   ]
  },
  {
   "cell_type": "code",
   "execution_count": null,
   "metadata": {
    "dotnet_interactive": {
     "language": "spiral"
    },
    "polyglot_notebook": {
     "kernelName": "spiral"
    }
   },
   "outputs": [
    {
     "data": {
      "text/plain": [
       "00:00:00 \u001B[90mverbose\u001B[39m #1 chat_contract / { state = { version = 1; alias_map = LookupMap {\n",
       "    prefix: [\n",
       "        108,\n",
       "    ],\n",
       "}; account_map = LookupMap {\n",
       "    prefix: [\n",
       "        99,\n",
       "    ],\n",
       "} } }\n",
       "08:24:35 \u001B[94m  debug\u001B[39m #1 spiral_wasm.print_usd / { retry = 1; total_gas_burnt_usd = +0.001087; total_gas_burnt = 1627680388694 }\n",
       "08:24:35 \u001B[94m  debug\u001B[39m #2 spiral_wasm.print_usd / outcome / { is_success = true; gas_burnt_usd = +0.000206; tokens_burnt_usd = +0.000206; gas_burnt = 308081859340; tokens_burnt = 30808185934000000000 }\n",
       "08:24:35 \u001B[94m  debug\u001B[39m #3 spiral_wasm.print_usd / outcome / { is_success = true; gas_burnt_usd = +0.000881; tokens_burnt_usd = +0.000881; gas_burnt = 1319598529354; tokens_burnt = 131959852935400000000 }\n",
       "08:24:35 \u001B[33mwarning\u001B[39m #4 spiral_wasm.run / Error error / { retry = 1; error = \"{ receipt_failures = []; receipt_outcomes_len = 1; retry = 1 }\" }\n",
       "00:00:00 \u001B[90mverbose\u001B[39m #1 chat_contract / { state = { version = 1; alias_map = LookupMap {\n",
       "    prefix: [\n",
       "        108,\n",
       "    ],\n",
       "}; account_map = LookupMap {\n",
       "    prefix: [\n",
       "        99,\n",
       "    ],\n",
       "} } }\n",
       "08:24:43 \u001B[94m  debug\u001B[39m #5 spiral_wasm.print_usd / { retry = 2; total_gas_burnt_usd = +0.001087; total_gas_burnt = 1627680388694 }\n",
       "08:24:43 \u001B[94m  debug\u001B[39m #6 spiral_wasm.print_usd / outcome / { is_success = true; gas_burnt_usd = +0.000206; tokens_burnt_usd = +0.000206; gas_burnt = 308081859340; tokens_burnt = 30808185934000000000 }\n",
       "08:24:43 \u001B[94m  debug\u001B[39m #7 spiral_wasm.print_usd / outcome / { is_success = true; gas_burnt_usd = +0.000881; tokens_burnt_usd = +0.000881; gas_burnt = 1319598529354; tokens_burnt = 131959852935400000000 }\n",
       "08:24:43 \u001B[33mwarning\u001B[39m #8 spiral_wasm.run / Error error / { retry = 2; error = \"{ receipt_failures = []; receipt_outcomes_len = 1; retry = 2 }\" }\n",
       "00:00:00 \u001B[90mverbose\u001B[39m #1 chat_contract / { state = { version = 1; alias_map = LookupMap {\n",
       "    prefix: [\n",
       "        108,\n",
       "    ],\n",
       "}; account_map = LookupMap {\n",
       "    prefix: [\n",
       "        99,\n",
       "    ],\n",
       "} } }\n",
       "08:24:51 \u001B[94m  debug\u001B[39m #9 spiral_wasm.print_usd / { retry = 3; total_gas_burnt_usd = +0.001087; total_gas_burnt = 1627680388694 }\n",
       "08:24:51 \u001B[94m  debug\u001B[39m #10 spiral_wasm.print_usd / outcome / { is_success = true; gas_burnt_usd = +0.000206; tokens_burnt_usd = +0.000206; gas_burnt = 308081859340; tokens_burnt = 30808185934000000000 }\n",
       "08:24:51 \u001B[94m  debug\u001B[39m #11 spiral_wasm.print_usd / outcome / { is_success = true; gas_burnt_usd = +0.000881; tokens_burnt_usd = +0.000881; gas_burnt = 1319598529354; tokens_burnt = 131959852935400000000 }\n",
       "08:24:51 \u001B[33mwarning\u001B[39m #12 spiral_wasm.run / Error error / { retry = 3; error = \"{ receipt_failures = []; receipt_outcomes_len = 1; retry = 3 }\" }\n",
       "00:00:00 \u001B[90mverbose\u001B[39m #1 chat_contract / { state = { version = 1; alias_map = LookupMap {\n",
       "    prefix: [\n",
       "        108,\n",
       "    ],\n",
       "}; account_map = LookupMap {\n",
       "    prefix: [\n",
       "        99,\n",
       "    ],\n",
       "} } }\n",
       "08:24:58 \u001B[94m  debug\u001B[39m #13 spiral_wasm.print_usd / { retry = 4; total_gas_burnt_usd = +0.001087; total_gas_burnt = 1627680388694 }\n",
       "08:24:58 \u001B[94m  debug\u001B[39m #14 spiral_wasm.print_usd / outcome / { is_success = true; gas_burnt_usd = +0.000206; tokens_burnt_usd = +0.000206; gas_burnt = 308081859340; tokens_burnt = 30808185934000000000 }\n",
       "08:24:58 \u001B[94m  debug\u001B[39m #15 spiral_wasm.print_usd / outcome / { is_success = true; gas_burnt_usd = +0.000881; tokens_burnt_usd = +0.000881; gas_burnt = 1319598529354; tokens_burnt = 131959852935400000000 }\n",
       "08:24:58 \u001B[33mwarning\u001B[39m #16 spiral_wasm.run / Error error / { retry = 4; error = \"{ receipt_failures = []; receipt_outcomes_len = 1; retry = 4 }\" }\n",
       "00:00:00 \u001B[90mverbose\u001B[39m #1 chat_contract / { state = { version = 1; alias_map = LookupMap {\n",
       "    prefix: [\n",
       "        108,\n",
       "    ],\n",
       "}; account_map = LookupMap {\n",
       "    prefix: [\n",
       "        99,\n",
       "    ],\n",
       "} } }\n",
       "08:25:06 \u001B[94m  debug\u001B[39m #17 spiral_wasm.print_usd / { retry = 5; total_gas_burnt_usd = +0.001087; total_gas_burnt = 1627680388694 }\n",
       "08:25:06 \u001B[94m  debug\u001B[39m #18 spiral_wasm.print_usd / outcome / { is_success = true; gas_burnt_usd = +0.000206; tokens_burnt_usd = +0.000206; gas_burnt = 308081859340; tokens_burnt = 30808185934000000000 }\n",
       "08:25:06 \u001B[94m  debug\u001B[39m #19 spiral_wasm.print_usd / outcome / { is_success = true; gas_burnt_usd = +0.000881; tokens_burnt_usd = +0.000881; gas_burnt = 1319598529354; tokens_burnt = 131959852935400000000 }\n",
       "08:25:06 \u001B[33mwarning\u001B[39m #20 spiral_wasm.run / Error error / { retry = 5; error = \"{ receipt_failures = []; receipt_outcomes_len = 1; retry = 5 }\" }\n",
       "00:00:00 \u001B[90mverbose\u001B[39m #1 chat_contract / { state = { version = 1; alias_map = LookupMap {\n",
       "    prefix: [\n",
       "        108,\n",
       "    ],\n",
       "}; account_map = LookupMap {\n",
       "    prefix: [\n",
       "        99,\n",
       "    ],\n",
       "} } }\n",
       "08:25:12 \u001B[94m  debug\u001B[39m #21 spiral_wasm.print_usd / { retry = 6; total_gas_burnt_usd = +0.001087; total_gas_burnt = 1627680388694 }\n",
       "08:25:12 \u001B[94m  debug\u001B[39m #22 spiral_wasm.print_usd / outcome / { is_success = true; gas_burnt_usd = +0.000206; tokens_burnt_usd = +0.000206; gas_burnt = 308081859340; tokens_burnt = 30808185934000000000 }\n",
       "08:25:12 \u001B[94m  debug\u001B[39m #23 spiral_wasm.print_usd / outcome / { is_success = true; gas_burnt_usd = +0.000881; tokens_burnt_usd = +0.000881; gas_burnt = 1319598529354; tokens_burnt = 131959852935400000000 }\n",
       "08:25:12 \u001B[33mwarning\u001B[39m #24 spiral_wasm.run / Error error / { retry = 6; error = \"{ receipt_failures = []; receipt_outcomes_len = 1; retry = 6 }\" }\n",
       "00:00:00 \u001B[90mverbose\u001B[39m #1 chat_contract / { state = { version = 1; alias_map = LookupMap {\n",
       "    prefix: [\n",
       "        108,\n",
       "    ],\n",
       "}; account_map = LookupMap {\n",
       "    prefix: [\n",
       "        99,\n",
       "    ],\n",
       "} } }\n",
       "08:25:20 \u001B[94m  debug\u001B[39m #25 spiral_wasm.print_usd / { retry = 7; total_gas_burnt_usd = +0.001087; total_gas_burnt = 1627680388694 }\n",
       "08:25:20 \u001B[94m  debug\u001B[39m #26 spiral_wasm.print_usd / outcome / { is_success = true; gas_burnt_usd = +0.000206; tokens_burnt_usd = +0.000206; gas_burnt = 308081859340; tokens_burnt = 30808185934000000000 }\n",
       "08:25:20 \u001B[94m  debug\u001B[39m #27 spiral_wasm.print_usd / outcome / { is_success = true; gas_burnt_usd = +0.000881; tokens_burnt_usd = +0.000881; gas_burnt = 1319598529354; tokens_burnt = 131959852935400000000 }\n",
       "08:25:20 \u001B[33mwarning\u001B[39m #28 spiral_wasm.run / Error error / { retry = 7; error = \"{ receipt_failures = []; receipt_outcomes_len = 1; retry = 7 }\" }\n",
       "00:00:00 \u001B[90mverbose\u001B[39m #1 chat_contract / { state = { version = 1; alias_map = LookupMap {\n",
       "    prefix: [\n",
       "        108,\n",
       "    ],\n",
       "}; account_map = LookupMap {\n",
       "    prefix: [\n",
       "        99,\n",
       "    ],\n",
       "} } }\n",
       "08:25:26 \u001B[94m  debug\u001B[39m #29 spiral_wasm.print_usd / { retry = 8; total_gas_burnt_usd = +0.001236; total_gas_burnt = 1850862951194 }\n",
       "08:25:26 \u001B[94m  debug\u001B[39m #30 spiral_wasm.print_usd / outcome / { is_success = true; gas_burnt_usd = +0.000206; tokens_burnt_usd = +0.000206; gas_burnt = 308081859340; tokens_burnt = 30808185934000000000 }\n",
       "08:25:26 \u001B[94m  debug\u001B[39m #31 spiral_wasm.print_usd / outcome / { is_success = true; gas_burnt_usd = +0.000881; tokens_burnt_usd = +0.000881; gas_burnt = 1319598529354; tokens_burnt = 131959852935400000000 }\n",
       "08:25:26 \u001B[94m  debug\u001B[39m #32 spiral_wasm.print_usd / outcome / { is_success = true; gas_burnt_usd = +0.000149; tokens_burnt_usd = +0.000000; gas_burnt = 223182562500; tokens_burnt = 0 }\n"
      ]
     },
     "metadata": {},
     "output_type": "display_data"
    }
   ],
   "source": [
    "//// test\n",
    "///! rust -c\n",
    "\n",
    "inl state = new ()\n",
    "trace Verbose (fun () => \"chat_contract\") fun () => { state }"
   ]
  },
  {
   "cell_type": "markdown",
   "metadata": {},
   "source": [
    "### is_valid_alias"
   ]
  },
  {
   "cell_type": "code",
   "execution_count": null,
   "metadata": {
    "dotnet_interactive": {
     "language": "spiral"
    },
    "polyglot_notebook": {
     "kernelName": "spiral"
    }
   },
   "outputs": [],
   "source": [
    "inl is_valid_alias (alias : sm'.std_string) : bool =\n",
    "    inl alias' = alias |> sm'.from_std_string\n",
    "    inl alias_len = alias' |> sm'.length\n",
    "\n",
    "    alias_len > 0i32\n",
    "        && alias_len < 64\n",
    "        && (alias' |> sm'.starts_with \"-\" |> not)\n",
    "        && (alias' |> sm'.ends_with \"-\" |> not)\n",
    "        && (alias' |> sm'.as_str |> sm'.chars |> iter.all (fun c => (c |> sm'.char_is_alphanumeric) || c = '-'))"
   ]
  },
  {
   "cell_type": "code",
   "execution_count": null,
   "metadata": {
    "dotnet_interactive": {
     "language": "spiral"
    },
    "polyglot_notebook": {
     "kernelName": "spiral"
    }
   },
   "outputs": [
    {
     "data": {
      "text/plain": [
       "08:25:38 \u001B[94m  debug\u001B[39m #1 spiral_wasm.print_usd / { retry = 1; total_gas_burnt_usd = +0.000822; total_gas_burnt = 1230938483168 }\n",
       "08:25:38 \u001B[94m  debug\u001B[39m #2 spiral_wasm.print_usd / outcome / { is_success = true; gas_burnt_usd = +0.000206; tokens_burnt_usd = +0.000206; gas_burnt = 308081859340; tokens_burnt = 30808185934000000000 }\n",
       "08:25:38 \u001B[94m  debug\u001B[39m #3 spiral_wasm.print_usd / outcome / { is_success = true; gas_burnt_usd = +0.000616; tokens_burnt_usd = +0.000616; gas_burnt = 922856623828; tokens_burnt = 92285662382800000000 }\n",
       "08:25:39 \u001B[33mwarning\u001B[39m #4 spiral_wasm.run / Error error / { retry = 1; error = \"{ receipt_failures = []; receipt_outcomes_len = 1; retry = 1 }\" }\n",
       "08:25:46 \u001B[94m  debug\u001B[39m #5 spiral_wasm.print_usd / { retry = 2; total_gas_burnt_usd = +0.000971; total_gas_burnt = 1454121045668 }\n",
       "08:25:46 \u001B[94m  debug\u001B[39m #6 spiral_wasm.print_usd / outcome / { is_success = true; gas_burnt_usd = +0.000206; tokens_burnt_usd = +0.000206; gas_burnt = 308081859340; tokens_burnt = 30808185934000000000 }\n",
       "08:25:46 \u001B[94m  debug\u001B[39m #7 spiral_wasm.print_usd / outcome / { is_success = true; gas_burnt_usd = +0.000616; tokens_burnt_usd = +0.000616; gas_burnt = 922856623828; tokens_burnt = 92285662382800000000 }\n",
       "08:25:46 \u001B[94m  debug\u001B[39m #8 spiral_wasm.print_usd / outcome / { is_success = true; gas_burnt_usd = +0.000149; tokens_burnt_usd = +0.000000; gas_burnt = 223182562500; tokens_burnt = 0 }\n"
      ]
     },
     "metadata": {},
     "output_type": "display_data"
    }
   ],
   "source": [
    "//// test\n",
    "///! rust -c\n",
    "\n",
    "\"\"\n",
    "|> sm'.to_std_string\n",
    "|> is_valid_alias\n",
    "|> _assert_eq false"
   ]
  },
  {
   "cell_type": "code",
   "execution_count": null,
   "metadata": {
    "dotnet_interactive": {
     "language": "spiral"
    },
    "polyglot_notebook": {
     "kernelName": "spiral"
    }
   },
   "outputs": [
    {
     "data": {
      "text/plain": [
       "08:25:58 \u001B[94m  debug\u001B[39m #1 spiral_wasm.print_usd / { retry = 1; total_gas_burnt_usd = +0.000973; total_gas_burnt = 1456087363091 }\n",
       "08:25:58 \u001B[94m  debug\u001B[39m #2 spiral_wasm.print_usd / outcome / { is_success = true; gas_burnt_usd = +0.000206; tokens_burnt_usd = +0.000206; gas_burnt = 308081859340; tokens_burnt = 30808185934000000000 }\n",
       "08:25:58 \u001B[94m  debug\u001B[39m #3 spiral_wasm.print_usd / outcome / { is_success = true; gas_burnt_usd = +0.000618; tokens_burnt_usd = +0.000618; gas_burnt = 924822941251; tokens_burnt = 92482294125100000000 }\n",
       "08:25:58 \u001B[94m  debug\u001B[39m #4 spiral_wasm.print_usd / outcome / { is_success = true; gas_burnt_usd = +0.000149; tokens_burnt_usd = +0.000000; gas_burnt = 223182562500; tokens_burnt = 0 }\n"
      ]
     },
     "metadata": {},
     "output_type": "display_data"
    }
   ],
   "source": [
    "//// test\n",
    "///! rust -c\n",
    "\n",
    "\"a-\"\n",
    "|> sm'.to_std_string\n",
    "|> is_valid_alias\n",
    "|> _assert_eq false"
   ]
  },
  {
   "cell_type": "code",
   "execution_count": null,
   "metadata": {
    "dotnet_interactive": {
     "language": "spiral"
    },
    "polyglot_notebook": {
     "kernelName": "spiral"
    }
   },
   "outputs": [
    {
     "data": {
      "text/plain": [
       "08:26:10 \u001B[94m  debug\u001B[39m #1 spiral_wasm.print_usd / { retry = 1; total_gas_burnt_usd = +0.000974; total_gas_burnt = 1457681122890 }\n",
       "08:26:10 \u001B[94m  debug\u001B[39m #2 spiral_wasm.print_usd / outcome / { is_success = true; gas_burnt_usd = +0.000206; tokens_burnt_usd = +0.000206; gas_burnt = 308081859340; tokens_burnt = 30808185934000000000 }\n",
       "08:26:10 \u001B[94m  debug\u001B[39m #3 spiral_wasm.print_usd / outcome / { is_success = true; gas_burnt_usd = +0.000619; tokens_burnt_usd = +0.000619; gas_burnt = 926416701050; tokens_burnt = 92641670105000000000 }\n",
       "08:26:10 \u001B[94m  debug\u001B[39m #4 spiral_wasm.print_usd / outcome / { is_success = true; gas_burnt_usd = +0.000149; tokens_burnt_usd = +0.000000; gas_burnt = 223182562500; tokens_burnt = 0 }\n"
      ]
     },
     "metadata": {},
     "output_type": "display_data"
    }
   ],
   "source": [
    "//// test\n",
    "///! rust -c\n",
    "\n",
    "\"a-a\"\n",
    "|> sm'.to_std_string\n",
    "|> is_valid_alias\n",
    "|> _assert_eq true"
   ]
  },
  {
   "cell_type": "markdown",
   "metadata": {},
   "source": [
    "### generate_cid"
   ]
  },
  {
   "cell_type": "code",
   "execution_count": null,
   "metadata": {
    "dotnet_interactive": {
     "language": "spiral"
    },
    "polyglot_notebook": {
     "kernelName": "spiral"
    }
   },
   "outputs": [],
   "source": [
    "inl generate_cid (content : am'.vec u8) : sm'.std_string =\n",
    "    !\\($'\"  fn encode_u64(value: u64) -> Vec<u8> { //\"') : ()\n",
    "    !\\($'\"    let mut buffer = unsigned_varint::encode::u64_buffer(); //\"') : ()\n",
    "    !\\($'\"    unsigned_varint::encode::u64(value, &mut buffer).to_vec() //\"') : ()\n",
    "    !\\($'\"  } //\"') : ()\n",
    "\n",
    "    !\\($'\"  fn sha256_hash(content: &[u8]) -> Vec<u8> { //\"') : ()\n",
    "    !\\($'\"    let mut hasher: sha2::Sha256 = sha2::Digest::new(); //\"') : ()\n",
    "    !\\($'\"    sha2::Digest::update(&mut hasher, content); //\"') : ()\n",
    "    !\\($'\"    sha2::Digest::finalize(hasher).to_vec() //\"') : ()\n",
    "    !\\($'\"  } //\"') : ()\n",
    "\n",
    "    !\\($'\"  let version: u8 = 1; //\"') : ()\n",
    "    !\\($'\"  let codec_raw: u64 = 0x55; //\"') : ()\n",
    "\n",
    "    !\\($'\"  let codec_bytes = encode_u64(codec_raw); //\"') : ()\n",
    "    !\\($'\"  let hash_result = sha256_hash(&!content); //\"') : ()\n",
    "    !\\($'\"  let multihash = std::iter::once(0x12) //\"') : ()\n",
    "    !\\($'\"    .chain(std::iter::once(32)) //\"') : ()\n",
    "    !\\($'\"    .chain(hash_result.into_iter()) //\"') : ()\n",
    "    !\\($'\"    .collect(); //\"') : ()\n",
    "    !\\($'\"  let cid_bytes = [vec\\![version], codec_bytes, multihash].concat(); //\"') : ()\n",
    "    !\\($'\"  let result = multibase::encode(multibase::Base::Base32Lower, &cid_bytes); //\"') : ()\n",
    "    !\\($'\"result\"')"
   ]
  },
  {
   "cell_type": "code",
   "execution_count": null,
   "metadata": {
    "dotnet_interactive": {
     "language": "spiral"
    },
    "polyglot_notebook": {
     "kernelName": "spiral"
    }
   },
   "outputs": [
    {
     "data": {
      "text/plain": [
       "08:26:22 \u001B[94m  debug\u001B[39m #1 spiral_wasm.print_usd / { retry = 1; total_gas_burnt_usd = +0.001025; total_gas_burnt = 1535005758238 }\n",
       "08:26:22 \u001B[94m  debug\u001B[39m #2 spiral_wasm.print_usd / outcome / { is_success = true; gas_burnt_usd = +0.000206; tokens_burnt_usd = +0.000206; gas_burnt = 308081859340; tokens_burnt = 30808185934000000000 }\n",
       "08:26:22 \u001B[94m  debug\u001B[39m #3 spiral_wasm.print_usd / outcome / { is_success = true; gas_burnt_usd = +0.000670; tokens_burnt_usd = +0.000670; gas_burnt = 1003741336398; tokens_burnt = 100374133639800000000 }\n",
       "08:26:22 \u001B[94m  debug\u001B[39m #4 spiral_wasm.print_usd / outcome / { is_success = true; gas_burnt_usd = +0.000149; tokens_burnt_usd = +0.000000; gas_burnt = 223182562500; tokens_burnt = 0 }\n"
      ]
     },
     "metadata": {},
     "output_type": "display_data"
    }
   ],
   "source": [
    "//// test\n",
    "///! rust -c -d multibase sha2 unsigned-varint\n",
    "\n",
    ";[]\n",
    "|> am'.to_vec\n",
    "|> generate_cid\n",
    "|> sm'.from_std_string\n",
    "|> _assert_eq \"bafkreihdwdcefgh4dqkjv67uzcmw7ojee6xedzdetojuzjevtenxquvyku\""
   ]
  },
  {
   "cell_type": "markdown",
   "metadata": {},
   "source": [
    "### claim_alias"
   ]
  },
  {
   "cell_type": "code",
   "execution_count": null,
   "metadata": {
    "dotnet_interactive": {
     "language": "spiral"
    },
    "polyglot_notebook": {
     "kernelName": "spiral"
    }
   },
   "outputs": [],
   "source": [
    "inl claim_alias (state : rust.ref (rust.mut' state)) (alias : sm'.std_string) : () =\n",
    "    inl account_map : rust.ref (rust.mut' (near.lookup_map near.account_id sm'.std_string)) =\n",
    "        !\\($'$\"&mut !state.2\"')\n",
    "\n",
    "    inl alias_map : rust.ref (rust.mut' (near.lookup_map sm'.std_string (mapm.hash_map near.account_id (u64 * u32)))) =\n",
    "        !\\($'$\"&mut !state.1\"')\n",
    "\n",
    "    !\\($'\"  let account_id = near_sdk::env::signer_account_id(); //\"') : ()\n",
    "    !\\($'\"  let timestamp = near_sdk::env::block_timestamp(); //\"') : ()\n",
    "\n",
    "    !\\($'\"  near_sdk::log\\!( //\"') : ()\n",
    "    !\\($'\"    \\\\\\\"{}\\\\\\\", //\"') : ()\n",
    "    !\\($'\"    format\\!( //\"') : ()\n",
    "    !\\($'\"      \\\\\\\"claim_alias \"') : ()\n",
    "    !\\($'\"            alias: {!alias:#?} \"') : ()\n",
    "    !\\($'\"            account_id: {account_id:#?} \"') : ()\n",
    "    !\\($'\"            timestamp: {timestamp:#?}\\\\\\\" //\"') : ()\n",
    "    !\\($'\"    ) //\"') : ()\n",
    "    !\\($'\"  ); //\"') : ()\n",
    "\n",
    "    inl is_valid_alias = join is_valid_alias\n",
    "    !\\($'\"  if \\!!is_valid_alias(!alias.clone()) { //\"') : ()\n",
    "    !\\($'\"    near_sdk::env::panic_str(\\\\\\\"Invalid alias\\\\\\\"); //\"') : ()\n",
    "    !\\($'\"  } //\"') : ()\n",
    "\n",
    "    !\\($'\"  if let Some(previous_alias) = !account_map.get(&account_id) { //\"') : ()\n",
    "    !\\($'\"    if *previous_alias == !alias { //\"') : ()\n",
    "    !\\($'\"      near_sdk::log\\!(\\\\\\\"{}\\\\\\\", \\\\\\\"Alias already claimed\\\\\\\"); //\"') : ()\n",
    "    !\\($'\"      return; //\"') : ()\n",
    "    !\\($'\"    } //\"') : ()\n",
    "\n",
    "    !\\($'\"    !alias_map //\"') : ()\n",
    "    !\\($'\"      .get_mut(previous_alias) //\"') : ()\n",
    "    !\\($'\"      .unwrap() //\"') : ()\n",
    "    !\\($'\"      .remove(&account_id); //\"') : ()\n",
    "    !\\($'\"  } //\"') : ()\n",
    "\n",
    "    !\\($'\"  !account_map.insert(account_id.clone(), !alias.clone()); //\"') : ()\n",
    "\n",
    "    !\\($'\"  let new_alias_account_map = match !alias_map.get(&!alias) { //\"') : ()\n",
    "    !\\($'\"    None => { //\"') : ()\n",
    "    !\\($'\"      let mut new_map = std::collections::HashMap::new(); //\"') : ()\n",
    "    !\\($'\"      new_map.insert(account_id, (timestamp, 0u32)); //\"') : ()\n",
    "    !\\($'\"      new_map //\"') : ()\n",
    "    !\\($'\"    } //\"') : ()\n",
    "    !\\($'\"    Some(accounts) => { //\"') : ()\n",
    "    !\\($'\"      let mut accounts_vec = accounts.iter().collect::<Vec<_>>(); //\"') : ()\n",
    "    !\\($'\"      accounts_vec.sort_unstable_by_key(|(_, (_, index))| index); //\"') : ()\n",
    "    !\\($'\"      let mut new_map = accounts_vec //\"') : ()\n",
    "    !\\($'\"        .iter() //\"') : ()\n",
    "    !\\($'\"        .enumerate() //\"') : ()\n",
    "    !\\($'\"        .map(|(i, (account_id, (timestamp, _)))| { //\"') : ()\n",
    "    !\\($'\"          ((*account_id).clone(), (*timestamp, i as u32)) //\"') : ()\n",
    "    !\\($'\"        }) //\"') : ()\n",
    "    !\\($'\"        .collect::<std::collections::HashMap<_, _>>(); //\"') : ()\n",
    "    !\\($'\"      new_map.insert(account_id, (timestamp, accounts_vec.len() as u32)); //\"') : ()\n",
    "    !\\($'\"      new_map //\"') : ()\n",
    "    !\\($'\"    } //\"') : ()\n",
    "    !\\($'\"  }; //\"') : ()\n",
    "\n",
    "    !\\($'\"  !alias_map.insert(!alias, new_alias_account_map); //\"') : ()"
   ]
  },
  {
   "cell_type": "code",
   "execution_count": null,
   "metadata": {
    "dotnet_interactive": {
     "language": "spiral"
    },
    "polyglot_notebook": {
     "kernelName": "spiral"
    }
   },
   "outputs": [
    {
     "data": {
      "text/plain": [
       "claim_alias ;\n",
       "                        alias: \"alias1\" ;\n",
       "                        account_id: AccountId(\n",
       "    \"dev-20240906122633-59792448370297\",\n",
       ") ;\n",
       "                        timestamp: 1725625594840566870\n",
       "08:26:35 \u001B[94m  debug\u001B[39m #1 spiral_wasm.print_usd / { retry = 1; total_gas_burnt_usd = +0.001282; total_gas_burnt = 1918830993174 }\n",
       "08:26:35 \u001B[94m  debug\u001B[39m #2 spiral_wasm.print_usd / outcome / { is_success = true; gas_burnt_usd = +0.000206; tokens_burnt_usd = +0.000206; gas_burnt = 308081859340; tokens_burnt = 30808185934000000000 }\n",
       "08:26:35 \u001B[94m  debug\u001B[39m #3 spiral_wasm.print_usd / outcome / { is_success = true; gas_burnt_usd = +0.000927; tokens_burnt_usd = +0.000927; gas_burnt = 1387566571334; tokens_burnt = 138756657133400000000 }\n",
       "08:26:35 \u001B[94m  debug\u001B[39m #4 spiral_wasm.print_usd / outcome / { is_success = true; gas_burnt_usd = +0.000149; tokens_burnt_usd = +0.000000; gas_burnt = 223182562500; tokens_burnt = 0 }\n"
      ]
     },
     "metadata": {},
     "output_type": "display_data"
    }
   ],
   "source": [
    "//// test\n",
    "///! rust -c\n",
    "\n",
    "\"alias1\"\n",
    "|> sm'.to_std_string\n",
    "|> claim_alias (\n",
    "    inl state = new ()\n",
    "    inl version = state.version\n",
    "    inl alias_map = state.alias_map\n",
    "    inl account_map = state.account_map\n",
    "    !\\\\(version, $'$\"&mut ($0, !alias_map, !account_map)\"')\n",
    ")"
   ]
  },
  {
   "cell_type": "code",
   "execution_count": null,
   "metadata": {
    "dotnet_interactive": {
     "language": "spiral"
    },
    "polyglot_notebook": {
     "kernelName": "spiral"
    }
   },
   "outputs": [
    {
     "data": {
      "text/plain": [
       "claim_alias ;\n",
       "                        alias: \"\" ;\n",
       "                        account_id: AccountId(\n",
       "    \"dev-20240906122645-86344620166282\",\n",
       ") ;\n",
       "                        timestamp: 1725625607101517862\n",
       "08:26:47 \u001B[94m  debug\u001B[39m #1 spiral_wasm.print_usd / { retry = 1; total_gas_burnt_usd = +0.001066; total_gas_burnt = 1596474108994 }\n",
       "08:26:47 \u001B[94m  debug\u001B[39m #2 spiral_wasm.print_usd / outcome / { is_success = true; gas_burnt_usd = +0.000206; tokens_burnt_usd = +0.000206; gas_burnt = 308081859340; tokens_burnt = 30808185934000000000 }\n",
       "08:26:47 \u001B[94m  debug\u001B[39m #3 spiral_wasm.print_usd / outcome / { is_success = false; gas_burnt_usd = +0.000712; tokens_burnt_usd = +0.000712; gas_burnt = 1065209687154; tokens_burnt = 106520968715400000000 }\n",
       "08:26:47 \u001B[94m  debug\u001B[39m #4 spiral_wasm.print_usd / outcome / { is_success = true; gas_burnt_usd = +0.000149; tokens_burnt_usd = +0.000000; gas_burnt = 223182562500; tokens_burnt = 0 }\n",
       "08:26:47 \u001B[91mcritical\u001B[39m #5 spiral_wasm.run / Ok (Some error) / { retry = 1; error = { receipt_failures = [\n",
       "    ExecutionOutcome {\n",
       "        transaction_hash: 36knEAShcArvmUtpArx8FpaUcxqM5Y6agKhHvcmiEMsP,\n",
       "        block_hash: CsV9PfRdt1q8FJExVu1vjDB3QnznYTVhKzdd1M6sHd6L,\n",
       "        logs: [\n",
       "            \"claim_alias ;\\n                        alias: \\\"\\\" ;\\n                        account_id: AccountId(\\n    \\\"dev-20240906122645-86344620166282\\\",\\n) ;\\n                        timestamp: 1725625607101517862\",\n",
       "        ],\n",
       "        receipt_ids: [\n",
       "            D61XzhcYMKMd4bDm2Ey5nQnqAR181z5Mbd9CdGdArLuk,\n",
       "        ],\n",
       "        gas_burnt: NearGas {\n",
       "            inner: 1065209687154,\n",
       "        },\n",
       "        tokens_burnt: NearToken {\n",
       "            inner: 106520968715400000000,\n",
       "        },\n",
       "        executor_id: AccountId(\n",
       "            \"dev-20240906122645-86344620166282\",\n",
       "        ),\n",
       "        status: Failure(ActionError(ActionError { index: Some(0), kind: FunctionCallError(ExecutionError(\"Smart contract panicked: Invalid alias\")) })),\n",
       "    },\n",
       "]; receipt_outcomes_len = 2; retry = 1 } }\n"
      ]
     },
     "metadata": {},
     "output_type": "display_data"
    }
   ],
   "source": [
    "//// test\n",
    "///! rust -c=-e\n",
    "\n",
    "\"\"\n",
    "|> sm'.to_std_string\n",
    "|> claim_alias (\n",
    "    inl state = new ()\n",
    "    inl version = state.version\n",
    "    inl alias_map = state.alias_map\n",
    "    inl account_map = state.account_map\n",
    "    !\\\\(version, $'$\"&mut ($0, !alias_map, !account_map)\"')\n",
    ")"
   ]
  },
  {
   "cell_type": "markdown",
   "metadata": {},
   "source": [
    "### main"
   ]
  },
  {
   "cell_type": "code",
   "execution_count": null,
   "metadata": {
    "dotnet_interactive": {
     "language": "spiral"
    },
    "polyglot_notebook": {
     "kernelName": "spiral"
    }
   },
   "outputs": [],
   "source": [
    "///! _\n",
    "\n",
    "inl main () =\n",
    "    !\\($'\"} //\"') : ()\n",
    "\n",
    "    !\\($'\"#[near_sdk::near_bindgen] //\"') : ()\n",
    "\n",
    "    !\\($'\"#[derive( //\"') : ()\n",
    "    !\\($'\"  near_sdk::PanicOnDefault, //\"') : ()\n",
    "    !\\($'\"  borsh::BorshDeserialize, //\"') : ()\n",
    "    !\\($'\"  borsh::BorshSerialize, //\"') : ()\n",
    "    !\\($'\")] //\"') : ()\n",
    "\n",
    "    !\\($'\"pub struct State ( //\"') : ()\n",
    "\n",
    "    !\\($'\"/*\"') : ()\n",
    "    (null () : rust.type_emit state) |> ignore\n",
    "    !\\($'\"*/ )\"') : ()\n",
    "\n",
    "    inl new_ () =\n",
    "        !\\($'\"#[init] //\"') : ()\n",
    "        !\\($'\"pub fn new() -> Self { // 1\"') : ()\n",
    "\n",
    "        (!\\($'\"true; /*\"') : bool) |> ignore\n",
    "\n",
    "        (null () : rust.type_emit ()) |> ignore\n",
    "\n",
    "        (!\\($'\"true; */\"') : bool) |> ignore\n",
    "\n",
    "        inl result = new ()\n",
    "        $'let _result = !result in _result |> (fun x -> Fable.Core.RustInterop.emitRustExpr x $\"Self($0) // x\") // 2' : ()\n",
    "\n",
    "        !\\($'\"} // 2.\"') : ()\n",
    "\n",
    "        !\\($'\"} // 1.\"') : ()\n",
    "\n",
    "        2\n",
    "\n",
    "    inl is_valid_alias () =\n",
    "        !\\($'\"fn is_valid_alias(alias: String) -> bool { //\"') : ()\n",
    "        inl alias = !\\($'$\"alias\"')\n",
    "        inl result = alias |> is_valid_alias\n",
    "        $'let _result = !result in _result |> (fun x -> Fable.Core.RustInterop.emitRustExpr x \"$0 }\") // 2' : ()\n",
    "        !\\($'\"} //\"') : ()\n",
    "        1\n",
    "\n",
    "    inl generate_cid () =\n",
    "        !\\($'\"pub fn generate_cid( //\"') : ()\n",
    "        !\\($'\"  &self, //\"') : ()\n",
    "        !\\($'\"  content: Vec<u8>, //\"') : ()\n",
    "        !\\($'\") -> String { //\"') : ()\n",
    "        inl content = !\\($'$\"content\"')\n",
    "        inl result = generate_cid content\n",
    "        $'let _result = !result in _result |> (fun x -> Fable.Core.RustInterop.emitRustExpr x \"$0 }\") // 2' : ()\n",
    "        !\\($'\"} //\"') : ()\n",
    "        2\n",
    "\n",
    "    inl generate_cid_borsh () =\n",
    "        !\\($'\"#[result_serializer(borsh)] //\"') : ()\n",
    "        !\\($'\"pub fn generate_cid_borsh( //\"') : ()\n",
    "        !\\($'\"  &self, //\"') : ()\n",
    "        !\\($'\"  #[serializer(borsh)] content: Vec<u8>, //\"') : ()\n",
    "        !\\($'\") -> String { //\"') : ()\n",
    "        !\\($'\"  self.generate_cid(content) //\"') : ()\n",
    "        !\\($'\"} //\"') : ()\n",
    "        1\n",
    "\n",
    "    inl claim_alias () =\n",
    "        !\\($'\"pub fn claim_alias( //\"') : ()\n",
    "        !\\($'\"  &mut self, //\"') : ()\n",
    "        !\\($'\"  alias: String, //\"') : ()\n",
    "        !\\($'\") { //\"') : ()\n",
    "        \n",
    "        inl state = !\\($'$\"&mut self.0\"')\n",
    "        inl alias = !\\($'$\"alias\"')\n",
    "        \n",
    "        inl result = claim_alias state alias\n",
    "\n",
    "        !\\($'\"} //\"') : ()\n",
    "\n",
    "        !\\($'\"} //\"') : ()\n",
    "\n",
    "        !\\($'\"} //\"') : ()\n",
    "\n",
    "        3\n",
    "\n",
    "    inl get_account_info () =\n",
    "        !\\($'\"pub fn get_account_info( //\"') : ()\n",
    "        !\\($'\"  &self, //\"') : ()\n",
    "        !\\($'\"  account_id: near_sdk::AccountId, //\"') : ()\n",
    "        !\\($'\") -> Option<(String, (u64, u32))> { //\"') : ()\n",
    "\n",
    "        inl account_map : rust.ref (near.lookup_map near.account_id sm'.std_string) =\n",
    "            !\\($'$\"&self.0.2\"')\n",
    "\n",
    "        inl alias_map : rust.ref (near.lookup_map sm'.std_string (mapm.hash_map near.account_id (u64 * u32))) =\n",
    "            !\\($'$\"&self.0.1\"')\n",
    "\n",
    "        !\\($'\"  near_sdk::log\\!( //\"') : ()\n",
    "        !\\($'\"    \\\\\\\"{}\\\\\\\", //\"') : ()\n",
    "        !\\($'\"    format\\!(\\\\\\\"get_account_info / account_id: {account_id:#?}\\\\\\\") //\"') : ()\n",
    "        !\\($'\"  ); //\"') : ()\n",
    "\n",
    "        !\\($'\"  !account_map.get(&account_id).and_then(|alias| { //\"') : ()\n",
    "        !\\($'\"    !alias_map //\"') : ()\n",
    "        !\\($'\"      .get(alias) //\"') : ()\n",
    "        !\\($'\"      .map(|accounts| (alias.clone(), *accounts.get(&account_id).unwrap())) //\"') : ()\n",
    "        !\\($'\"  }) //\"') : ()\n",
    "        !\\($'\"} //\"') : ()\n",
    "\n",
    "        !\\($'\"} //\"') : ()\n",
    "\n",
    "        2\n",
    "\n",
    "    inl get_alias_map () =\n",
    "        !\\($'\"pub fn get_alias_map( //\"') : ()\n",
    "        !\\($'\"  &self, //\"') : ()\n",
    "        !\\($'\"  alias: String, //\"') : ()\n",
    "        !\\($'\") -> Option<std::collections::HashMap<near_sdk::AccountId, (u64, u32)>> { //\"') : ()\n",
    "\n",
    "        inl alias_map : rust.ref (near.lookup_map sm'.std_string (mapm.hash_map near.account_id (u64 * u32))) =\n",
    "            !\\($'$\"&self.0.1\"')\n",
    "\n",
    "        !\\($'\"  near_sdk::log\\!( //\"') : ()\n",
    "        !\\($'\"    \\\\\\\"{}\\\\\\\", //\"') : ()\n",
    "        !\\($'\"    format\\!(\\\\\\\"get_alias_map / alias: {alias:#?}\\\\\\\") //\"') : ()\n",
    "        !\\($'\"  ); //\"') : ()\n",
    "\n",
    "        !\\($'\"  !alias_map.get(&alias).cloned() //\"') : ()\n",
    "        !\\($'\"} //\"') : ()\n",
    "\n",
    "        !\\($'\"} //\"') : ()\n",
    "\n",
    "        2\n",
    "\n",
    "    inl get_alias_map_borsh () =\n",
    "        !\\($'\"#[result_serializer(borsh)] //\"') : ()\n",
    "        !\\($'\"pub fn get_alias_map_borsh( //\"') : ()\n",
    "        !\\($'\"  &self, //\"') : ()\n",
    "        !\\($'\"  #[serializer(borsh)] alias: String, //\"') : ()\n",
    "        !\\($'\") -> Option<std::collections::HashMap<near_sdk::AccountId, (u64, u32)>> { //\"') : ()\n",
    "        !\\($'\"  self.get_alias_map(alias) //\"') : ()\n",
    "        !\\($'\"} //\"') : ()\n",
    "        1\n",
    "\n",
    "    inl fns =\n",
    "        [\n",
    "            new_\n",
    "            is_valid_alias\n",
    "            generate_cid\n",
    "            generate_cid_borsh\n",
    "            claim_alias\n",
    "            get_account_info\n",
    "            get_alias_map\n",
    "            get_alias_map_borsh\n",
    "        ]\n",
    "\n",
    "    inl rec loop acc fns i =\n",
    "        match fns with\n",
    "        | [] => acc\n",
    "        | x :: xs =>\n",
    "            !\\($'\"#[near_sdk::near_bindgen] //\"') : ()\n",
    "            !\\($'\"impl State { //\"') : ()\n",
    "            inl n = x ()\n",
    "            !\\($'\"} /* c\"') : ()\n",
    "            inl rec loop' i' =\n",
    "                if i' <> 1 // <= n\n",
    "                then (!\\($'\"true; */ // ???? / i: !i / i\\': !i' / acc: !acc / n: !n\"') : bool) |> ignore\n",
    "                else\n",
    "                    (!\\($'\"true; // ??? / i: !i / i\\': !i' / acc: !acc / n: !n\"') : bool) |> ignore\n",
    "                    loop' (i' + 1)\n",
    "            loop' 1u8\n",
    "            loop (acc + n) xs (i + 1)\n",
    "    inl n = loop 0u8 fns 1u8\n",
    "\n",
    "\n",
    "    // !\\($'\"/* a\"') : ()\n",
    "\n",
    "    // !\\($'\"} // b\"') : ()\n",
    "\n",
    "    !\\($'\"fn _main() //\"') : ()\n",
    "    !\\($'\"{ //\"') : ()\n",
    "\n",
    "    inl rec loop' i' =\n",
    "        if i' <= n\n",
    "        then\n",
    "            (!\\($'\"true; { (); // ?? / i\\': !i' / n: !n\"') : bool) |> ignore\n",
    "            loop' (i' + 1)\n",
    "        else\n",
    "            (!\\($'\"true; { { (); // ? / i\\': !i' / n: !n\"') : bool) |> ignore\n",
    "            // (!\\($'\"true; */ // ?? / i\\': !i' / n: !n\"') : bool) |> ignore\n",
    "    loop' 1u8\n",
    "\n",
    "inl main () =\n",
    "    $'!main |> ignore' : ()"
   ]
  }
 ],
 "metadata": {},
 "nbformat": 4,
 "nbformat_minor": 5
}