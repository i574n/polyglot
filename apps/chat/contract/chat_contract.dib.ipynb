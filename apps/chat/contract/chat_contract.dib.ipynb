{
 "cells": [
  {
   "cell_type": "markdown",
   "metadata": {},
   "source": [
    "# chat_contract"
   ]
  },
  {
   "cell_type": "code",
   "execution_count": null,
   "metadata": {
    "dotnet_interactive": {
     "language": "spiral"
    },
    "polyglot_notebook": {
     "kernelName": "spiral"
    }
   },
   "outputs": [],
   "source": [
    "open rust\n",
    "open rust.rust_operators"
   ]
  },
  {
   "cell_type": "code",
   "execution_count": null,
   "metadata": {
    "dotnet_interactive": {
     "language": "spiral"
    },
    "polyglot_notebook": {
     "kernelName": "spiral"
    }
   },
   "outputs": [],
   "source": [
    "//// test\n",
    "\n",
    "open testing"
   ]
  },
  {
   "cell_type": "markdown",
   "metadata": {},
   "source": [
    "## chat_contract"
   ]
  },
  {
   "cell_type": "markdown",
   "metadata": {},
   "source": [
    "### state"
   ]
  },
  {
   "cell_type": "code",
   "execution_count": null,
   "metadata": {
    "dotnet_interactive": {
     "language": "spiral"
    },
    "polyglot_notebook": {
     "kernelName": "spiral"
    }
   },
   "outputs": [],
   "source": [
    "type state =\n",
    "    {\n",
    "        version : u32\n",
    "        account_set : near.iterable_set near.account_id\n",
    "        alias_set : near.iterable_set sm'.std_string\n",
    "        account_map : near.lookup_map near.account_id sm'.std_string\n",
    "        alias_map : near.lookup_map sm'.std_string (mapm.hash_map near.account_id (u64 * u32))\n",
    "    }"
   ]
  },
  {
   "cell_type": "code",
   "execution_count": null,
   "metadata": {
    "dotnet_interactive": {
     "language": "spiral"
    },
    "polyglot_notebook": {
     "kernelName": "spiral"
    }
   },
   "outputs": [
    {
     "data": {
      "text/plain": [
       " \n",
       "00:00:05 \u001B[92mi\u001B[39m #2 near_workspaces.print_usd / { retry = 1; total_gas_burnt_usd = +0.000808; total_gas_burnt = 1209371440851 }\n",
       "00:00:05 \u001B[92mi\u001B[39m #3 near_workspaces.print_usd / outcome / { is_success = true; gas_burnt_usd = +0.000206; tokens_burnt_usd = +0.000206; gas_burnt = 308081859340; tokens_burnt = 30808185934000000000 }\n",
       "00:00:05 \u001B[92mi\u001B[39m #4 near_workspaces.print_usd / outcome / { is_success = true; gas_burnt_usd = +0.000602; tokens_burnt_usd = +0.000602; gas_burnt = 901289581511; tokens_burnt = 90128958151100000000 }\n",
       "00:00:05 \u001B[33mw\u001B[39m #5 spiral_wasm.run / Error error / { retry = 1; error = \"{ receipt_outcomes_len = 1; retry = 1; receipt_failures = [] }\" }\n",
       "\n",
       "\n",
       " \n",
       "00:00:18 \u001B[92mi\u001B[39m #8 near_workspaces.print_usd / { retry = 2; total_gas_burnt_usd = +0.000957; total_gas_burnt = 1432554003351 }\n",
       "00:00:18 \u001B[92mi\u001B[39m #9 near_workspaces.print_usd / outcome / { is_success = true; gas_burnt_usd = +0.000206; tokens_burnt_usd = +0.000206; gas_burnt = 308081859340; tokens_burnt = 30808185934000000000 }\n",
       "00:00:18 \u001B[92mi\u001B[39m #10 near_workspaces.print_usd / outcome / { is_success = true; gas_burnt_usd = +0.000602; tokens_burnt_usd = +0.000602; gas_burnt = 901289581511; tokens_burnt = 90128958151100000000 }\n",
       "00:00:18 \u001B[92mi\u001B[39m #11 near_workspaces.print_usd / outcome / { is_success = true; gas_burnt_usd = +0.000149; tokens_burnt_usd = +0.000000; gas_burnt = 223182562500; tokens_burnt = 0 }\n"
      ]
     },
     "metadata": {},
     "output_type": "display_data"
    }
   ],
   "source": [
    "//// test\n",
    "///! rust -c\n",
    "\n",
    "()"
   ]
  },
  {
   "cell_type": "code",
   "execution_count": null,
   "metadata": {
    "dotnet_interactive": {
     "language": "spiral"
    },
    "polyglot_notebook": {
     "kernelName": "spiral"
    }
   },
   "outputs": [
    {
     "data": {
      "text/plain": [
       " \n",
       "00:00:08 \u001B[92mi\u001B[39m #2 near_workspaces.print_usd / { retry = 1; total_gas_burnt_usd = +0.001032; total_gas_burnt = 1545362460366 }\n",
       "00:00:08 \u001B[92mi\u001B[39m #3 near_workspaces.print_usd / outcome / { is_success = true; gas_burnt_usd = +0.000206; tokens_burnt_usd = +0.000206; gas_burnt = 308081859340; tokens_burnt = 30808185934000000000 }\n",
       "00:00:08 \u001B[92mi\u001B[39m #4 near_workspaces.print_usd / outcome / { is_success = true; gas_burnt_usd = +0.000677; tokens_burnt_usd = +0.000677; gas_burnt = 1014098038526; tokens_burnt = 101409803852600000000 }\n",
       "00:00:08 \u001B[92mi\u001B[39m #5 near_workspaces.print_usd / outcome / { is_success = true; gas_burnt_usd = +0.000149; tokens_burnt_usd = +0.000000; gas_burnt = 223182562500; tokens_burnt = 0 }\n"
      ]
     },
     "metadata": {},
     "output_type": "display_data"
    }
   ],
   "source": [
    "//// test\n",
    "///! rust -c\n",
    "\n",
    "trace Verbose (fun () => \"\") id"
   ]
  },
  {
   "cell_type": "markdown",
   "metadata": {},
   "source": [
    "### new"
   ]
  },
  {
   "cell_type": "code",
   "execution_count": null,
   "metadata": {
    "dotnet_interactive": {
     "language": "spiral"
    },
    "polyglot_notebook": {
     "kernelName": "spiral"
    }
   },
   "outputs": [],
   "source": [
    "inl new () : state =\n",
    "    {\n",
    "        version = 2\n",
    "        account_set = \"account_set\" |> sm'.byte_slice |> near.new_iterable_set\n",
    "        alias_set = \"alias_set\" |> sm'.byte_slice |> near.new_iterable_set\n",
    "        account_map = \"account_map\" |> sm'.byte_slice |> near.new_lookup_map\n",
    "        alias_map = \"alias_map\" |> sm'.byte_slice |> near.new_lookup_map\n",
    "\n",
    "    }"
   ]
  },
  {
   "cell_type": "code",
   "execution_count": null,
   "metadata": {
    "dotnet_interactive": {
     "language": "spiral"
    },
    "polyglot_notebook": {
     "kernelName": "spiral"
    }
   },
   "outputs": [
    {
     "data": {
      "text/plain": [
       "00:00:00 \u001B[90mv\u001B[39m #1 chat_contract / { state = (2, IterableSet { elements: Vector { len: 0, prefix: [97, 99, 99, 111, 117, 110, 116, 95, 115, 101, 116, 118] }, index: LookupMap { prefix: [97, 99, 99, 111, 117, 110, 116, 95, 115, 101, 116, 109] } }, IterableSet { elements: Vector { len: 0, prefix: [97, 108, 105, 97, 115, 95, 115, 101, 116, 118] }, index: LookupMap { prefix: [97, 108, 105, 97, 115, 95, 115, 101, 116, 109] } }, LookupMap { prefix: [97, 99, 99, 111, 117, 110, 116, 95, 109, 97, 112] }, LookupMap { prefix: [97, 108, 105, 97, 115, 95, 109, 97, 112] }) }\n",
       " \n",
       "00:00:10 \u001B[92mi\u001B[39m #2 near_workspaces.print_usd / { retry = 1; total_gas_burnt_usd = +0.001333; total_gas_burnt = 1995329366949 }\n",
       "00:00:10 \u001B[92mi\u001B[39m #3 near_workspaces.print_usd / outcome / { is_success = true; gas_burnt_usd = +0.000206; tokens_burnt_usd = +0.000206; gas_burnt = 308081859340; tokens_burnt = 30808185934000000000 }\n",
       "00:00:10 \u001B[92mi\u001B[39m #4 near_workspaces.print_usd / outcome / { is_success = true; gas_burnt_usd = +0.001127; tokens_burnt_usd = +0.001127; gas_burnt = 1687247507609; tokens_burnt = 168724750760900000000 }\n",
       "00:00:10 \u001B[33mw\u001B[39m #5 spiral_wasm.run / Error error / { retry = 1; error = \"{ receipt_outcomes_len = 1; retry = 1; receipt_failures = [] }\" }\n",
       "\n",
       "\n",
       "00:00:00 \u001B[90mv\u001B[39m #1 chat_contract / { state = (2, IterableSet { elements: Vector { len: 0, prefix: [97, 99, 99, 111, 117, 110, 116, 95, 115, 101, 116, 118] }, index: LookupMap { prefix: [97, 99, 99, 111, 117, 110, 116, 95, 115, 101, 116, 109] } }, IterableSet { elements: Vector { len: 0, prefix: [97, 108, 105, 97, 115, 95, 115, 101, 116, 118] }, index: LookupMap { prefix: [97, 108, 105, 97, 115, 95, 115, 101, 116, 109] } }, LookupMap { prefix: [97, 99, 99, 111, 117, 110, 116, 95, 109, 97, 112] }, LookupMap { prefix: [97, 108, 105, 97, 115, 95, 109, 97, 112] }) }\n",
       " \n",
       "00:00:16 \u001B[92mi\u001B[39m #8 near_workspaces.print_usd / { retry = 2; total_gas_burnt_usd = +0.001333; total_gas_burnt = 1995329366949 }\n",
       "00:00:16 \u001B[92mi\u001B[39m #9 near_workspaces.print_usd / outcome / { is_success = true; gas_burnt_usd = +0.000206; tokens_burnt_usd = +0.000206; gas_burnt = 308081859340; tokens_burnt = 30808185934000000000 }\n",
       "00:00:16 \u001B[92mi\u001B[39m #10 near_workspaces.print_usd / outcome / { is_success = true; gas_burnt_usd = +0.001127; tokens_burnt_usd = +0.001127; gas_burnt = 1687247507609; tokens_burnt = 168724750760900000000 }\n",
       "00:00:16 \u001B[33mw\u001B[39m #11 spiral_wasm.run / Error error / { retry = 2; error = \"{ receipt_outcomes_len = 1; retry = 2; receipt_failures = [] }\" }\n",
       "\n",
       "\n",
       "00:00:00 \u001B[90mv\u001B[39m #1 chat_contract / { state = (2, IterableSet { elements: Vector { len: 0, prefix: [97, 99, 99, 111, 117, 110, 116, 95, 115, 101, 116, 118] }, index: LookupMap { prefix: [97, 99, 99, 111, 117, 110, 116, 95, 115, 101, 116, 109] } }, IterableSet { elements: Vector { len: 0, prefix: [97, 108, 105, 97, 115, 95, 115, 101, 116, 118] }, index: LookupMap { prefix: [97, 108, 105, 97, 115, 95, 115, 101, 116, 109] } }, LookupMap { prefix: [97, 99, 99, 111, 117, 110, 116, 95, 109, 97, 112] }, LookupMap { prefix: [97, 108, 105, 97, 115, 95, 109, 97, 112] }) }\n",
       " \n",
       "00:00:25 \u001B[92mi\u001B[39m #14 near_workspaces.print_usd / { retry = 3; total_gas_burnt_usd = +0.001333; total_gas_burnt = 1995329366949 }\n",
       "00:00:25 \u001B[92mi\u001B[39m #15 near_workspaces.print_usd / outcome / { is_success = true; gas_burnt_usd = +0.000206; tokens_burnt_usd = +0.000206; gas_burnt = 308081859340; tokens_burnt = 30808185934000000000 }\n",
       "00:00:25 \u001B[92mi\u001B[39m #16 near_workspaces.print_usd / outcome / { is_success = true; gas_burnt_usd = +0.001127; tokens_burnt_usd = +0.001127; gas_burnt = 1687247507609; tokens_burnt = 168724750760900000000 }\n",
       "00:00:25 \u001B[33mw\u001B[39m #17 spiral_wasm.run / Error error / { retry = 3; error = \"{ receipt_outcomes_len = 1; retry = 3; receipt_failures = [] }\" }\n",
       "\n",
       "\n",
       "00:00:00 \u001B[90mv\u001B[39m #1 chat_contract / { state = (2, IterableSet { elements: Vector { len: 0, prefix: [97, 99, 99, 111, 117, 110, 116, 95, 115, 101, 116, 118] }, index: LookupMap { prefix: [97, 99, 99, 111, 117, 110, 116, 95, 115, 101, 116, 109] } }, IterableSet { elements: Vector { len: 0, prefix: [97, 108, 105, 97, 115, 95, 115, 101, 116, 118] }, index: LookupMap { prefix: [97, 108, 105, 97, 115, 95, 115, 101, 116, 109] } }, LookupMap { prefix: [97, 99, 99, 111, 117, 110, 116, 95, 109, 97, 112] }, LookupMap { prefix: [97, 108, 105, 97, 115, 95, 109, 97, 112] }) }\n",
       " \n",
       "00:00:32 \u001B[92mi\u001B[39m #20 near_workspaces.print_usd / { retry = 4; total_gas_burnt_usd = +0.001482; total_gas_burnt = 2218511929449 }\n",
       "00:00:32 \u001B[92mi\u001B[39m #21 near_workspaces.print_usd / outcome / { is_success = true; gas_burnt_usd = +0.000206; tokens_burnt_usd = +0.000206; gas_burnt = 308081859340; tokens_burnt = 30808185934000000000 }\n",
       "00:00:32 \u001B[92mi\u001B[39m #22 near_workspaces.print_usd / outcome / { is_success = true; gas_burnt_usd = +0.001127; tokens_burnt_usd = +0.001127; gas_burnt = 1687247507609; tokens_burnt = 168724750760900000000 }\n",
       "00:00:32 \u001B[92mi\u001B[39m #23 near_workspaces.print_usd / outcome / { is_success = true; gas_burnt_usd = +0.000149; tokens_burnt_usd = +0.000000; gas_burnt = 223182562500; tokens_burnt = 0 }\n"
      ]
     },
     "metadata": {},
     "output_type": "display_data"
    }
   ],
   "source": [
    "//// test\n",
    "///! rust -c\n",
    "\n",
    "inl state = new ()\n",
    "trace Verbose (fun () => \"chat_contract\") fun () => { state = state |> sm'.format_debug }\n",
    "trace Verbose (fun () => \"\") id"
   ]
  },
  {
   "cell_type": "markdown",
   "metadata": {},
   "source": [
    "### is_valid_alias"
   ]
  },
  {
   "cell_type": "code",
   "execution_count": null,
   "metadata": {
    "dotnet_interactive": {
     "language": "spiral"
    },
    "polyglot_notebook": {
     "kernelName": "spiral"
    }
   },
   "outputs": [],
   "source": [
    "inl is_valid_alias (alias : sm'.std_string) : bool =\n",
    "    inl alias' = alias |> sm'.from_std_string\n",
    "    inl alias_len = alias' |> sm'.length\n",
    "\n",
    "    alias_len > 0i32\n",
    "        && alias_len < 64\n",
    "        && (alias' |> sm'.starts_with \"-\" |> not)\n",
    "        && (alias' |> sm'.ends_with \"-\" |> not)\n",
    "        && (alias' |> sm'.as_str |> sm'.chars |> iter.all (fun c => (c |> sm'.char_is_alphanumeric) || c = '-'))"
   ]
  },
  {
   "cell_type": "code",
   "execution_count": null,
   "metadata": {
    "dotnet_interactive": {
     "language": "spiral"
    },
    "polyglot_notebook": {
     "kernelName": "spiral"
    }
   },
   "outputs": [
    {
     "data": {
      "text/plain": [
       " \n",
       "00:00:08 \u001B[92mi\u001B[39m #2 near_workspaces.print_usd / { retry = 1; total_gas_burnt_usd = +0.000822; total_gas_burnt = 1230938483168 }\n",
       "00:00:08 \u001B[92mi\u001B[39m #3 near_workspaces.print_usd / outcome / { is_success = true; gas_burnt_usd = +0.000206; tokens_burnt_usd = +0.000206; gas_burnt = 308081859340; tokens_burnt = 30808185934000000000 }\n",
       "00:00:08 \u001B[92mi\u001B[39m #4 near_workspaces.print_usd / outcome / { is_success = true; gas_burnt_usd = +0.000616; tokens_burnt_usd = +0.000616; gas_burnt = 922856623828; tokens_burnt = 92285662382800000000 }\n",
       "00:00:08 \u001B[33mw\u001B[39m #5 spiral_wasm.run / Error error / { retry = 1; error = \"{ receipt_outcomes_len = 1; retry = 1; receipt_failures = [] }\" }\n",
       "\n",
       "\n",
       " \n",
       "00:00:17 \u001B[92mi\u001B[39m #8 near_workspaces.print_usd / { retry = 2; total_gas_burnt_usd = +0.000822; total_gas_burnt = 1230938483168 }\n",
       "00:00:17 \u001B[92mi\u001B[39m #9 near_workspaces.print_usd / outcome / { is_success = true; gas_burnt_usd = +0.000206; tokens_burnt_usd = +0.000206; gas_burnt = 308081859340; tokens_burnt = 30808185934000000000 }\n",
       "00:00:17 \u001B[92mi\u001B[39m #10 near_workspaces.print_usd / outcome / { is_success = true; gas_burnt_usd = +0.000616; tokens_burnt_usd = +0.000616; gas_burnt = 922856623828; tokens_burnt = 92285662382800000000 }\n",
       "00:00:17 \u001B[33mw\u001B[39m #11 spiral_wasm.run / Error error / { retry = 2; error = \"{ receipt_outcomes_len = 1; retry = 2; receipt_failures = [] }\" }\n",
       "\n",
       "\n",
       " \n",
       "00:00:25 \u001B[92mi\u001B[39m #14 near_workspaces.print_usd / { retry = 3; total_gas_burnt_usd = +0.000822; total_gas_burnt = 1230938483168 }\n",
       "00:00:25 \u001B[92mi\u001B[39m #15 near_workspaces.print_usd / outcome / { is_success = true; gas_burnt_usd = +0.000206; tokens_burnt_usd = +0.000206; gas_burnt = 308081859340; tokens_burnt = 30808185934000000000 }\n",
       "00:00:25 \u001B[92mi\u001B[39m #16 near_workspaces.print_usd / outcome / { is_success = true; gas_burnt_usd = +0.000616; tokens_burnt_usd = +0.000616; gas_burnt = 922856623828; tokens_burnt = 92285662382800000000 }\n",
       "00:00:25 \u001B[33mw\u001B[39m #17 spiral_wasm.run / Error error / { retry = 3; error = \"{ receipt_outcomes_len = 1; retry = 3; receipt_failures = [] }\" }\n",
       "\n",
       "\n",
       " \n",
       "00:00:32 \u001B[92mi\u001B[39m #20 near_workspaces.print_usd / { retry = 4; total_gas_burnt_usd = +0.000822; total_gas_burnt = 1230938483168 }\n",
       "00:00:32 \u001B[92mi\u001B[39m #21 near_workspaces.print_usd / outcome / { is_success = true; gas_burnt_usd = +0.000206; tokens_burnt_usd = +0.000206; gas_burnt = 308081859340; tokens_burnt = 30808185934000000000 }\n",
       "00:00:32 \u001B[92mi\u001B[39m #22 near_workspaces.print_usd / outcome / { is_success = true; gas_burnt_usd = +0.000616; tokens_burnt_usd = +0.000616; gas_burnt = 922856623828; tokens_burnt = 92285662382800000000 }\n",
       "00:00:32 \u001B[33mw\u001B[39m #23 spiral_wasm.run / Error error / { retry = 4; error = \"{ receipt_outcomes_len = 1; retry = 4; receipt_failures = [] }\" }\n",
       "\n",
       "\n",
       " \n",
       "00:00:39 \u001B[92mi\u001B[39m #26 near_workspaces.print_usd / { retry = 5; total_gas_burnt_usd = +0.000822; total_gas_burnt = 1230938483168 }\n",
       "00:00:39 \u001B[92mi\u001B[39m #27 near_workspaces.print_usd / outcome / { is_success = true; gas_burnt_usd = +0.000206; tokens_burnt_usd = +0.000206; gas_burnt = 308081859340; tokens_burnt = 30808185934000000000 }\n",
       "00:00:39 \u001B[92mi\u001B[39m #28 near_workspaces.print_usd / outcome / { is_success = true; gas_burnt_usd = +0.000616; tokens_burnt_usd = +0.000616; gas_burnt = 922856623828; tokens_burnt = 92285662382800000000 }\n",
       "00:00:39 \u001B[33mw\u001B[39m #29 spiral_wasm.run / Error error / { retry = 5; error = \"{ receipt_outcomes_len = 1; retry = 5; receipt_failures = [] }\" }\n",
       "\n",
       "\n",
       " \n",
       "00:00:47 \u001B[92mi\u001B[39m #32 near_workspaces.print_usd / { retry = 6; total_gas_burnt_usd = +0.000822; total_gas_burnt = 1230938483168 }\n",
       "00:00:47 \u001B[92mi\u001B[39m #33 near_workspaces.print_usd / outcome / { is_success = true; gas_burnt_usd = +0.000206; tokens_burnt_usd = +0.000206; gas_burnt = 308081859340; tokens_burnt = 30808185934000000000 }\n",
       "00:00:47 \u001B[92mi\u001B[39m #34 near_workspaces.print_usd / outcome / { is_success = true; gas_burnt_usd = +0.000616; tokens_burnt_usd = +0.000616; gas_burnt = 922856623828; tokens_burnt = 92285662382800000000 }\n",
       "00:00:47 \u001B[33mw\u001B[39m #35 spiral_wasm.run / Error error / { retry = 6; error = \"{ receipt_outcomes_len = 1; retry = 6; receipt_failures = [] }\" }\n",
       "\n",
       "\n",
       " \n",
       "00:00:54 \u001B[92mi\u001B[39m #38 near_workspaces.print_usd / { retry = 7; total_gas_burnt_usd = +0.000971; total_gas_burnt = 1454121045668 }\n",
       "00:00:54 \u001B[92mi\u001B[39m #39 near_workspaces.print_usd / outcome / { is_success = true; gas_burnt_usd = +0.000206; tokens_burnt_usd = +0.000206; gas_burnt = 308081859340; tokens_burnt = 30808185934000000000 }\n",
       "00:00:54 \u001B[92mi\u001B[39m #40 near_workspaces.print_usd / outcome / { is_success = true; gas_burnt_usd = +0.000616; tokens_burnt_usd = +0.000616; gas_burnt = 922856623828; tokens_burnt = 92285662382800000000 }\n",
       "00:00:54 \u001B[92mi\u001B[39m #41 near_workspaces.print_usd / outcome / { is_success = true; gas_burnt_usd = +0.000149; tokens_burnt_usd = +0.000000; gas_burnt = 223182562500; tokens_burnt = 0 }\n"
      ]
     },
     "metadata": {},
     "output_type": "display_data"
    }
   ],
   "source": [
    "//// test\n",
    "///! rust -c\n",
    "\n",
    "\"\"\n",
    "|> sm'.to_std_string\n",
    "|> is_valid_alias\n",
    "|> _assert_eq false"
   ]
  },
  {
   "cell_type": "code",
   "execution_count": null,
   "metadata": {
    "dotnet_interactive": {
     "language": "spiral"
    },
    "polyglot_notebook": {
     "kernelName": "spiral"
    }
   },
   "outputs": [
    {
     "data": {
      "text/plain": [
       " \n",
       "00:00:05 \u001B[92mi\u001B[39m #2 near_workspaces.print_usd / { retry = 1; total_gas_burnt_usd = +0.000824; total_gas_burnt = 1232904800591 }\n",
       "00:00:05 \u001B[92mi\u001B[39m #3 near_workspaces.print_usd / outcome / { is_success = true; gas_burnt_usd = +0.000206; tokens_burnt_usd = +0.000206; gas_burnt = 308081859340; tokens_burnt = 30808185934000000000 }\n",
       "00:00:05 \u001B[92mi\u001B[39m #4 near_workspaces.print_usd / outcome / { is_success = true; gas_burnt_usd = +0.000618; tokens_burnt_usd = +0.000618; gas_burnt = 924822941251; tokens_burnt = 92482294125100000000 }\n",
       "00:00:05 \u001B[33mw\u001B[39m #5 spiral_wasm.run / Error error / { retry = 1; error = \"{ receipt_outcomes_len = 1; retry = 1; receipt_failures = [] }\" }\n",
       "\n",
       "\n",
       " \n",
       "00:00:11 \u001B[92mi\u001B[39m #8 near_workspaces.print_usd / { retry = 2; total_gas_burnt_usd = +0.000824; total_gas_burnt = 1232904800591 }\n",
       "00:00:11 \u001B[92mi\u001B[39m #9 near_workspaces.print_usd / outcome / { is_success = true; gas_burnt_usd = +0.000206; tokens_burnt_usd = +0.000206; gas_burnt = 308081859340; tokens_burnt = 30808185934000000000 }\n",
       "00:00:11 \u001B[92mi\u001B[39m #10 near_workspaces.print_usd / outcome / { is_success = true; gas_burnt_usd = +0.000618; tokens_burnt_usd = +0.000618; gas_burnt = 924822941251; tokens_burnt = 92482294125100000000 }\n",
       "00:00:11 \u001B[33mw\u001B[39m #11 spiral_wasm.run / Error error / { retry = 2; error = \"{ receipt_outcomes_len = 1; retry = 2; receipt_failures = [] }\" }\n",
       "\n",
       "\n",
       " \n",
       "00:00:21 \u001B[92mi\u001B[39m #14 near_workspaces.print_usd / { retry = 3; total_gas_burnt_usd = +0.000824; total_gas_burnt = 1232904800591 }\n",
       "00:00:21 \u001B[92mi\u001B[39m #15 near_workspaces.print_usd / outcome / { is_success = true; gas_burnt_usd = +0.000206; tokens_burnt_usd = +0.000206; gas_burnt = 308081859340; tokens_burnt = 30808185934000000000 }\n",
       "00:00:21 \u001B[92mi\u001B[39m #16 near_workspaces.print_usd / outcome / { is_success = true; gas_burnt_usd = +0.000618; tokens_burnt_usd = +0.000618; gas_burnt = 924822941251; tokens_burnt = 92482294125100000000 }\n",
       "00:00:21 \u001B[33mw\u001B[39m #17 spiral_wasm.run / Error error / { retry = 3; error = \"{ receipt_outcomes_len = 1; retry = 3; receipt_failures = [] }\" }\n",
       "\n",
       "\n",
       " \n",
       "00:00:30 \u001B[92mi\u001B[39m #20 near_workspaces.print_usd / { retry = 4; total_gas_burnt_usd = +0.000824; total_gas_burnt = 1232904800591 }\n",
       "00:00:30 \u001B[92mi\u001B[39m #21 near_workspaces.print_usd / outcome / { is_success = true; gas_burnt_usd = +0.000206; tokens_burnt_usd = +0.000206; gas_burnt = 308081859340; tokens_burnt = 30808185934000000000 }\n",
       "00:00:30 \u001B[92mi\u001B[39m #22 near_workspaces.print_usd / outcome / { is_success = true; gas_burnt_usd = +0.000618; tokens_burnt_usd = +0.000618; gas_burnt = 924822941251; tokens_burnt = 92482294125100000000 }\n",
       "00:00:30 \u001B[33mw\u001B[39m #23 spiral_wasm.run / Error error / { retry = 4; error = \"{ receipt_outcomes_len = 1; retry = 4; receipt_failures = [] }\" }\n",
       "\n",
       "\n",
       " \n",
       "00:00:39 \u001B[92mi\u001B[39m #26 near_workspaces.print_usd / { retry = 5; total_gas_burnt_usd = +0.000824; total_gas_burnt = 1232904800591 }\n",
       "00:00:39 \u001B[92mi\u001B[39m #27 near_workspaces.print_usd / outcome / { is_success = true; gas_burnt_usd = +0.000206; tokens_burnt_usd = +0.000206; gas_burnt = 308081859340; tokens_burnt = 30808185934000000000 }\n",
       "00:00:39 \u001B[92mi\u001B[39m #28 near_workspaces.print_usd / outcome / { is_success = true; gas_burnt_usd = +0.000618; tokens_burnt_usd = +0.000618; gas_burnt = 924822941251; tokens_burnt = 92482294125100000000 }\n",
       "00:00:39 \u001B[33mw\u001B[39m #29 spiral_wasm.run / Error error / { retry = 5; error = \"{ receipt_outcomes_len = 1; retry = 5; receipt_failures = [] }\" }\n",
       "\n",
       "\n",
       " \n",
       "00:00:46 \u001B[92mi\u001B[39m #32 near_workspaces.print_usd / { retry = 6; total_gas_burnt_usd = +0.000973; total_gas_burnt = 1456087363091 }\n",
       "00:00:46 \u001B[92mi\u001B[39m #33 near_workspaces.print_usd / outcome / { is_success = true; gas_burnt_usd = +0.000206; tokens_burnt_usd = +0.000206; gas_burnt = 308081859340; tokens_burnt = 30808185934000000000 }\n",
       "00:00:46 \u001B[92mi\u001B[39m #34 near_workspaces.print_usd / outcome / { is_success = true; gas_burnt_usd = +0.000618; tokens_burnt_usd = +0.000618; gas_burnt = 924822941251; tokens_burnt = 92482294125100000000 }\n",
       "00:00:46 \u001B[92mi\u001B[39m #35 near_workspaces.print_usd / outcome / { is_success = true; gas_burnt_usd = +0.000149; tokens_burnt_usd = +0.000000; gas_burnt = 223182562500; tokens_burnt = 0 }\n"
      ]
     },
     "metadata": {},
     "output_type": "display_data"
    }
   ],
   "source": [
    "//// test\n",
    "///! rust -c\n",
    "\n",
    "\"a-\"\n",
    "|> sm'.to_std_string\n",
    "|> is_valid_alias\n",
    "|> _assert_eq false"
   ]
  },
  {
   "cell_type": "code",
   "execution_count": null,
   "metadata": {
    "dotnet_interactive": {
     "language": "spiral"
    },
    "polyglot_notebook": {
     "kernelName": "spiral"
    }
   },
   "outputs": [
    {
     "data": {
      "text/plain": [
       " \n",
       "00:00:07 \u001B[92mi\u001B[39m #2 near_workspaces.print_usd / { retry = 1; total_gas_burnt_usd = +0.000825; total_gas_burnt = 1234498560390 }\n",
       "00:00:07 \u001B[92mi\u001B[39m #3 near_workspaces.print_usd / outcome / { is_success = true; gas_burnt_usd = +0.000206; tokens_burnt_usd = +0.000206; gas_burnt = 308081859340; tokens_burnt = 30808185934000000000 }\n",
       "00:00:07 \u001B[92mi\u001B[39m #4 near_workspaces.print_usd / outcome / { is_success = true; gas_burnt_usd = +0.000619; tokens_burnt_usd = +0.000619; gas_burnt = 926416701050; tokens_burnt = 92641670105000000000 }\n",
       "00:00:07 \u001B[33mw\u001B[39m #5 spiral_wasm.run / Error error / { retry = 1; error = \"{ receipt_outcomes_len = 1; retry = 1; receipt_failures = [] }\" }\n",
       "\n",
       "\n",
       " \n",
       "00:00:14 \u001B[92mi\u001B[39m #8 near_workspaces.print_usd / { retry = 2; total_gas_burnt_usd = +0.000974; total_gas_burnt = 1457681122890 }\n",
       "00:00:14 \u001B[92mi\u001B[39m #9 near_workspaces.print_usd / outcome / { is_success = true; gas_burnt_usd = +0.000206; tokens_burnt_usd = +0.000206; gas_burnt = 308081859340; tokens_burnt = 30808185934000000000 }\n",
       "00:00:14 \u001B[92mi\u001B[39m #10 near_workspaces.print_usd / outcome / { is_success = true; gas_burnt_usd = +0.000619; tokens_burnt_usd = +0.000619; gas_burnt = 926416701050; tokens_burnt = 92641670105000000000 }\n",
       "00:00:14 \u001B[92mi\u001B[39m #11 near_workspaces.print_usd / outcome / { is_success = true; gas_burnt_usd = +0.000149; tokens_burnt_usd = +0.000000; gas_burnt = 223182562500; tokens_burnt = 0 }\n"
      ]
     },
     "metadata": {},
     "output_type": "display_data"
    }
   ],
   "source": [
    "//// test\n",
    "///! rust -c\n",
    "\n",
    "\"a-a\"\n",
    "|> sm'.to_std_string\n",
    "|> is_valid_alias\n",
    "|> _assert_eq true"
   ]
  },
  {
   "cell_type": "markdown",
   "metadata": {},
   "source": [
    "### generate_cid"
   ]
  },
  {
   "cell_type": "code",
   "execution_count": null,
   "metadata": {
    "dotnet_interactive": {
     "language": "spiral"
    },
    "polyglot_notebook": {
     "kernelName": "spiral"
    }
   },
   "outputs": [],
   "source": [
    "inl generate_cid (content : am'.vec u8) : sm'.std_string =\n",
    "    !\\($'\"  fn encode_u64(value: u64) -> Vec<u8> { //\"') : ()\n",
    "    !\\($'\"    let mut buffer = unsigned_varint::encode::u64_buffer(); //\"') : ()\n",
    "    !\\($'\"    unsigned_varint::encode::u64(value, &mut buffer).to_vec() //\"') : ()\n",
    "    !\\($'\"  } //\"') : ()\n",
    "\n",
    "    !\\($'\"  fn sha256_hash(content: &[u8]) -> Vec<u8> { //\"') : ()\n",
    "    !\\($'\"    let mut hasher: sha2::Sha256 = sha2::Digest::new(); //\"') : ()\n",
    "    !\\($'\"    sha2::Digest::update(&mut hasher, content); //\"') : ()\n",
    "    !\\($'\"    sha2::Digest::finalize(hasher).to_vec() //\"') : ()\n",
    "    !\\($'\"  } //\"') : ()\n",
    "\n",
    "    !\\($'\"  let version: u8 = 1; //\"') : ()\n",
    "    !\\($'\"  let codec_raw: u64 = 0x55; //\"') : ()\n",
    "\n",
    "    !\\($'\"  let codec_bytes = encode_u64(codec_raw); //\"') : ()\n",
    "    !\\($'\"  let hash_result = sha256_hash(&!content); //\"') : ()\n",
    "    !\\($'\"  let multihash = std::iter::once(0x12) //\"') : ()\n",
    "    !\\($'\"    .chain(std::iter::once(32)) //\"') : ()\n",
    "    !\\($'\"    .chain(hash_result.into_iter()) //\"') : ()\n",
    "    !\\($'\"    .collect(); //\"') : ()\n",
    "    !\\($'\"  let cid_bytes = [vec\\![version], codec_bytes, multihash].concat(); //\"') : ()\n",
    "    !\\($'\"  let result = multibase::encode(multibase::Base::Base32Lower, &cid_bytes); //\"') : ()\n",
    "    !\\($'\"result\"')"
   ]
  },
  {
   "cell_type": "code",
   "execution_count": null,
   "metadata": {
    "dotnet_interactive": {
     "language": "spiral"
    },
    "polyglot_notebook": {
     "kernelName": "spiral"
    }
   },
   "outputs": [
    {
     "data": {
      "text/plain": [
       " \n",
       "00:00:08 \u001B[92mi\u001B[39m #2 near_workspaces.print_usd / { retry = 1; total_gas_burnt_usd = +0.001025; total_gas_burnt = 1535005758238 }\n",
       "00:00:08 \u001B[92mi\u001B[39m #3 near_workspaces.print_usd / outcome / { is_success = true; gas_burnt_usd = +0.000206; tokens_burnt_usd = +0.000206; gas_burnt = 308081859340; tokens_burnt = 30808185934000000000 }\n",
       "00:00:08 \u001B[92mi\u001B[39m #4 near_workspaces.print_usd / outcome / { is_success = true; gas_burnt_usd = +0.000670; tokens_burnt_usd = +0.000670; gas_burnt = 1003741336398; tokens_burnt = 100374133639800000000 }\n",
       "00:00:08 \u001B[92mi\u001B[39m #5 near_workspaces.print_usd / outcome / { is_success = true; gas_burnt_usd = +0.000149; tokens_burnt_usd = +0.000000; gas_burnt = 223182562500; tokens_burnt = 0 }\n"
      ]
     },
     "metadata": {},
     "output_type": "display_data"
    }
   ],
   "source": [
    "//// test\n",
    "///! rust -c -d multibase sha2 unsigned-varint\n",
    "\n",
    ";[]\n",
    "|> am'.to_vec\n",
    "|> generate_cid\n",
    "|> sm'.from_std_string\n",
    "|> _assert_eq \"bafkreihdwdcefgh4dqkjv67uzcmw7ojee6xedzdetojuzjevtenxquvyku\""
   ]
  },
  {
   "cell_type": "markdown",
   "metadata": {},
   "source": [
    "### claim_alias"
   ]
  },
  {
   "cell_type": "code",
   "execution_count": null,
   "metadata": {
    "dotnet_interactive": {
     "language": "spiral"
    },
    "polyglot_notebook": {
     "kernelName": "spiral"
    }
   },
   "outputs": [],
   "source": [
    "inl claim_alias (state : rust.ref (rust.mut' state)) (alias : sm'.std_string) : () =\n",
    "    inl account_set : rust.ref (rust.mut' (near.iterable_set near.account_id)) =\n",
    "        !\\($'$\"&mut !state.1\"')\n",
    "\n",
    "    inl alias_set : rust.ref (rust.mut' (near.iterable_set sm'.std_string)) =\n",
    "        !\\($'$\"&mut !state.2\"')\n",
    "\n",
    "    inl account_map : rust.ref (rust.mut' (near.lookup_map near.account_id sm'.std_string)) =\n",
    "        !\\($'$\"&mut !state.3\"')\n",
    "\n",
    "    inl alias_map : rust.ref (rust.mut' (near.lookup_map sm'.std_string (mapm.hash_map near.account_id (u64 * u32)))) =\n",
    "        !\\($'$\"&mut !state.4\"')\n",
    "\n",
    "    inl signer_account_id = near.signer_account_id ()\n",
    "    inl predecessor_account_id = near.predecessor_account_id ()\n",
    "    inl block_timestamp = near.block_timestamp ()\n",
    "\n",
    "    trace Debug\n",
    "        fun () => \"chat_contract.claim_alias\"\n",
    "        fun () => {\n",
    "            alias\n",
    "            block_timestamp\n",
    "            signer_account_id = signer_account_id |> sm'.to_string\n",
    "            predecessor_account_id = predecessor_account_id |> sm'.to_string\n",
    "        }\n",
    "\n",
    "    if alias |> is_valid_alias |> not\n",
    "    then near.panic_str \"chat_contract.claim_alias / invalid alias\" . true\n",
    "    else false\n",
    "    |> ignore\n",
    "    \n",
    "    inl account_alias =\n",
    "        account_map\n",
    "        |> near.lookup_get signer_account_id\n",
    "        |> optionm'.cloned\n",
    "\n",
    "    match account_alias |> optionm'.unbox with\n",
    "    | Some account_alias when account_alias =. alias =>\n",
    "        trace Warning\n",
    "            fun () => \"chat_contract.claim_alias / alias already claimed\"\n",
    "            fun () => { account_alias = account_alias |> sm'.format_debug }\n",
    "    | account_alias' =>\n",
    "        trace Debug\n",
    "            fun () => \"chat_contract.claim_alias\"\n",
    "            fun () => { account_alias = account_alias |> sm'.format_debug }\n",
    "\n",
    "        match account_alias' with\n",
    "        | Some account_alias =>\n",
    "            !\\($'\"    !alias_map //\"') : ()\n",
    "            !\\($'\"      .get_mut(&!account_alias) //\"') : ()\n",
    "            !\\($'\"      .unwrap() //\"') : ()\n",
    "            !\\\\(signer_account_id, $'\"      .remove(&$0); //\"') : ()\n",
    "        | None => ()\n",
    "\n",
    "        !\\\\((signer_account_id, alias), $'\"  !account_map.insert($0.clone(), $1.clone()); //\"') : ()\n",
    "\n",
    "        account_set |> near.iterable_set_insert signer_account_id |> ignore\n",
    "        alias_set |> near.iterable_set_insert alias |> ignore\n",
    "\n",
    "        !\\\\(alias, $'\"  let new_alias_account_map = match !alias_map.get(&$0) { //\"') : ()\n",
    "        !\\($'\"    None => { //\"') : ()\n",
    "        !\\($'\"      let mut new_map = std::collections::HashMap::new(); //\"') : ()\n",
    "        !\\\\((signer_account_id, block_timestamp), $'\"      new_map.insert($0, ($1, 0u32)); //\"') : ()\n",
    "        !\\($'\"      new_map //\"') : ()\n",
    "        !\\($'\"    } //\"') : ()\n",
    "        !\\($'\"    Some(accounts) => { //\"') : ()\n",
    "        !\\($'\"      let mut accounts_vec = accounts.iter().collect::<Vec<_>>(); //\"') : ()\n",
    "        !\\($'\"      accounts_vec.sort_unstable_by_key(|(_, (_, index))| index); //\"') : ()\n",
    "        !\\($'\"      let mut new_map = accounts_vec //\"') : ()\n",
    "        !\\($'\"        .iter() //\"') : ()\n",
    "        !\\($'\"        .enumerate() //\"') : ()\n",
    "        !\\($'\"        .map(|(i, (signer_account_id, (timestamp, _)))| { //\"') : ()\n",
    "        !\\($'\"          ((*signer_account_id).clone(), (*timestamp, i as u32)) //\"') : ()\n",
    "        !\\($'\"        }) //\"') : ()\n",
    "        !\\($'\"        .collect::<std::collections::HashMap<_, _>>(); //\"') : ()\n",
    "        !\\\\(signer_account_id, $'\"      new_map.insert($0, (!block_timestamp, accounts_vec.len() as u32)); //\"') : ()\n",
    "        !\\($'\"      new_map //\"') : ()\n",
    "        !\\($'\"    } //\"') : ()\n",
    "        !\\($'\"  }; //\"') : ()\n",
    "\n",
    "        !\\\\(alias, $'\"  !alias_map.insert($0, new_alias_account_map); //\"') : ()"
   ]
  },
  {
   "cell_type": "code",
   "execution_count": null,
   "metadata": {
    "dotnet_interactive": {
     "language": "spiral"
    },
    "polyglot_notebook": {
     "kernelName": "spiral"
    }
   },
   "outputs": [
    {
     "data": {
      "text/plain": [
       "00:00:00 \u001B[94md\u001B[39m #1 chat_contract.claim_alias / { alias = \"alias1\"; block_timestamp = 1728003081516023687; signer_account_id = \"dev-20241004005120-96618896672455\"; predecessor_account_id = \"dev-20241004005120-96618896672455\" }\n",
       "00:00:00 \u001B[94md\u001B[39m #2 chat_contract.claim_alias / { account_alias = None }\n",
       "00:00:00 \u001B[90mv\u001B[39m #3 chat_contract / { state = (2, IterableSet { elements: Vector { len: 1, prefix: [97, 99, 99, 111, 117, 110, 116, 95, 115, 101, 116, 118] }, index: LookupMap { prefix: [97, 99, 99, 111, 117, 110, 116, 95, 115, 101, 116, 109] } }, IterableSet { elements: Vector { len: 1, prefix: [97, 108, 105, 97, 115, 95, 115, 101, 116, 118] }, index: LookupMap { prefix: [97, 108, 105, 97, 115, 95, 115, 101, 116, 109] } }, LookupMap { prefix: [97, 99, 99, 111, 117, 110, 116, 95, 109, 97, 112] }, LookupMap { prefix: [97, 108, 105, 97, 115, 95, 109, 97, 112] }) }\n",
       " \n",
       "00:00:07 \u001B[92mi\u001B[39m #2 near_workspaces.print_usd / { retry = 1; total_gas_burnt_usd = +0.002551; total_gas_burnt = 3818730562666 }\n",
       "00:00:07 \u001B[92mi\u001B[39m #3 near_workspaces.print_usd / outcome / { is_success = true; gas_burnt_usd = +0.000206; tokens_burnt_usd = +0.000206; gas_burnt = 308081859340; tokens_burnt = 30808185934000000000 }\n",
       "00:00:07 \u001B[92mi\u001B[39m #4 near_workspaces.print_usd / outcome / { is_success = true; gas_burnt_usd = +0.002345; tokens_burnt_usd = +0.002345; gas_burnt = 3510648703326; tokens_burnt = 351064870332600000000 }\n",
       "00:00:07 \u001B[33mw\u001B[39m #5 spiral_wasm.run / Error error / { retry = 1; error = \"{ receipt_outcomes_len = 1; retry = 1; receipt_failures = [] }\" }\n",
       "\n",
       "\n",
       "00:00:00 \u001B[94md\u001B[39m #1 chat_contract.claim_alias / { alias = \"alias1\"; block_timestamp = 1728003088655800729; signer_account_id = \"dev-20241004005127-45469855385063\"; predecessor_account_id = \"dev-20241004005127-45469855385063\" }\n",
       "00:00:00 \u001B[94md\u001B[39m #2 chat_contract.claim_alias / { account_alias = None }\n",
       "00:00:00 \u001B[90mv\u001B[39m #3 chat_contract / { state = (2, IterableSet { elements: Vector { len: 1, prefix: [97, 99, 99, 111, 117, 110, 116, 95, 115, 101, 116, 118] }, index: LookupMap { prefix: [97, 99, 99, 111, 117, 110, 116, 95, 115, 101, 116, 109] } }, IterableSet { elements: Vector { len: 1, prefix: [97, 108, 105, 97, 115, 95, 115, 101, 116, 118] }, index: LookupMap { prefix: [97, 108, 105, 97, 115, 95, 115, 101, 116, 109] } }, LookupMap { prefix: [97, 99, 99, 111, 117, 110, 116, 95, 109, 97, 112] }, LookupMap { prefix: [97, 108, 105, 97, 115, 95, 109, 97, 112] }) }\n",
       " \n",
       "00:00:14 \u001B[92mi\u001B[39m #8 near_workspaces.print_usd / { retry = 2; total_gas_burnt_usd = +0.002700; total_gas_burnt = 4041913125166 }\n",
       "00:00:14 \u001B[92mi\u001B[39m #9 near_workspaces.print_usd / outcome / { is_success = true; gas_burnt_usd = +0.000206; tokens_burnt_usd = +0.000206; gas_burnt = 308081859340; tokens_burnt = 30808185934000000000 }\n",
       "00:00:14 \u001B[92mi\u001B[39m #10 near_workspaces.print_usd / outcome / { is_success = true; gas_burnt_usd = +0.002345; tokens_burnt_usd = +0.002345; gas_burnt = 3510648703326; tokens_burnt = 351064870332600000000 }\n",
       "00:00:14 \u001B[92mi\u001B[39m #11 near_workspaces.print_usd / outcome / { is_success = true; gas_burnt_usd = +0.000149; tokens_burnt_usd = +0.000000; gas_burnt = 223182562500; tokens_burnt = 0 }\n"
      ]
     },
     "metadata": {},
     "output_type": "display_data"
    }
   ],
   "source": [
    "//// test\n",
    "///! rust -c\n",
    "\n",
    "inl state = new ()\n",
    "inl version = state.version\n",
    "inl account_set = state.account_set\n",
    "inl alias_set = state.alias_set\n",
    "inl account_map = state.account_map\n",
    "inl alias_map = state.alias_map\n",
    "inl version = join version\n",
    "inl account_set = join account_set\n",
    "inl alias_set = join alias_set\n",
    "inl account_map = join account_map\n",
    "inl alias_map = join alias_map\n",
    "inl state : rust.ref (rust.mut' state) =\n",
    "    !\\\\(\n",
    "        version,\n",
    "        $'$\"&mut ($0, !account_set, !alias_set, !account_map, !alias_map)\"'\n",
    "    )\n",
    "\n",
    "\"alias1\"\n",
    "|> sm'.to_std_string\n",
    "|> claim_alias state\n",
    "\n",
    "trace Verbose\n",
    "    fun () => \"chat_contract\"\n",
    "    fun () => { state = state |> sm'.format_debug }\n",
    "\n",
    "trace Debug (fun () => \"\") id"
   ]
  },
  {
   "cell_type": "code",
   "execution_count": null,
   "metadata": {
    "dotnet_interactive": {
     "language": "spiral"
    },
    "polyglot_notebook": {
     "kernelName": "spiral"
    }
   },
   "outputs": [
    {
     "data": {
      "text/plain": [
       " \n",
       "00:00:06 \u001B[92mi\u001B[39m #2 near_workspaces.print_usd / { retry = 1; total_gas_burnt_usd = +0.001312; total_gas_burnt = 1964710590586 }\n",
       "00:00:06 \u001B[92mi\u001B[39m #3 near_workspaces.print_usd / outcome / { is_success = true; gas_burnt_usd = +0.000206; tokens_burnt_usd = +0.000206; gas_burnt = 308081859340; tokens_burnt = 30808185934000000000 }\n",
       "00:00:06 \u001B[92mi\u001B[39m #4 near_workspaces.print_usd / outcome / { is_success = false; gas_burnt_usd = +0.000958; tokens_burnt_usd = +0.000958; gas_burnt = 1433446168746; tokens_burnt = 143344616874600000000 }\n",
       "00:00:06 \u001B[92mi\u001B[39m #5 near_workspaces.print_usd / outcome / { is_success = true; gas_burnt_usd = +0.000149; tokens_burnt_usd = +0.000000; gas_burnt = 223182562500; tokens_burnt = 0 }\n",
       "00:00:06 \u001B[91mc\u001B[39m #6 spiral_wasm.run / Ok (Some error) / { retry = 1; error = { receipt_outcomes_len = 2; retry = 1; receipt_failures = [\n",
       "    ExecutionOutcome {\n",
       "        transaction_hash: 54dysVBjtkefLuuJ7PnWXfbJs81XUzACBPJu45mcXnUn,\n",
       "        block_hash: 4pg9xcK4p9ReDXNKvkhYgArYAvZKwGDavYcWWdJriYk5,\n",
       "        logs: [],\n",
       "        receipt_ids: [\n",
       "            5cuEz26LpXp617igLg5F3QNxT3QTnTfjyv1qm6Ksizdq,\n",
       "        ],\n",
       "        gas_burnt: NearGas {\n",
       "            inner: 1433446168746,\n",
       "        },\n",
       "        tokens_burnt: NearToken {\n",
       "            inner: 143344616874600000000,\n",
       "        },\n",
       "        executor_id: AccountId(\n",
       "            \"dev-20241004005148-28385603414663\",\n",
       "        ),\n",
       "        status: Failure(ActionError(ActionError { index: Some(0), kind: FunctionCallError(ExecutionError(\"Smart contract panicked: chat_contract.claim_alias / invalid alias\")) })),\n",
       "    },\n",
       "] } }\n"
      ]
     },
     "metadata": {},
     "output_type": "display_data"
    }
   ],
   "source": [
    "//// test\n",
    "///! rust \\\"-c=-e=\\\\\\\"chat_contract.claim_alias / invalid alias\\\\\\\"\\\"\n",
    "\n",
    "\"\"\n",
    "|> sm'.to_std_string\n",
    "|> claim_alias (\n",
    "    inl state = new ()\n",
    "    inl version = state.version\n",
    "    inl account_set = state.account_set\n",
    "    inl alias_set = state.alias_set\n",
    "    inl account_map = state.account_map\n",
    "    inl alias_map = state.alias_map\n",
    "    !\\\\(version, $'$\"&mut ($0, !account_set, !alias_set, !account_map, !alias_map)\"')\n",
    ")\n",
    "trace Debug (fun () => \"\") id"
   ]
  },
  {
   "cell_type": "code",
   "execution_count": null,
   "metadata": {
    "dotnet_interactive": {
     "language": "spiral"
    },
    "polyglot_notebook": {
     "kernelName": "spiral"
    }
   },
   "outputs": [
    {
     "data": {
      "text/plain": [
       "00:00:00 \u001B[94md\u001B[39m #1 chat_contract.claim_alias / { alias = \"alias1\"; block_timestamp = 1728003145318231352; signer_account_id = \"dev-20241004005223-55469869785031\"; predecessor_account_id = \"dev-20241004005223-55469869785031\" }\n",
       "00:00:00 \u001B[94md\u001B[39m #2 chat_contract.claim_alias / { account_alias = None }\n",
       "00:00:00 \u001B[94md\u001B[39m #3 chat_contract.claim_alias / { alias = \"alias1\"; block_timestamp = 1728003145318231352; signer_account_id = \"dev-20241004005223-55469869785031\"; predecessor_account_id = \"dev-20241004005223-55469869785031\" }\n",
       "00:00:00 \u001B[94md\u001B[39m #4 chat_contract.claim_alias / { account_alias = Some(\"alias1\") }\n",
       "00:00:00 \u001B[94md\u001B[39m #5 chat_contract.claim_alias / { alias = \"alias1\"; block_timestamp = 1728003145318231352; signer_account_id = \"dev-20241004005223-55469869785031\"; predecessor_account_id = \"dev-20241004005223-55469869785031\" }\n",
       "00:00:00 \u001B[94md\u001B[39m #6 chat_contract.claim_alias / { account_alias = Some(\"alias1\") }\n",
       "00:00:00 \u001B[90mv\u001B[39m #7 chat_contract / { state = (2, IterableSet { elements: Vector { len: 1, prefix: [97, 99, 99, 111, 117, 110, 116, 95, 115, 101, 116, 118] }, index: LookupMap { prefix: [97, 99, 99, 111, 117, 110, 116, 95, 115, 101, 116, 109] } }, IterableSet { elements: Vector { len: 1, prefix: [97, 108, 105, 97, 115, 95, 115, 101, 116, 118] }, index: LookupMap { prefix: [97, 108, 105, 97, 115, 95, 115, 101, 116, 109] } }, LookupMap { prefix: [97, 99, 99, 111, 117, 110, 116, 95, 109, 97, 112] }, LookupMap { prefix: [97, 108, 105, 97, 115, 95, 109, 97, 112] }) }\n",
       " \n",
       "00:00:12 \u001B[92mi\u001B[39m #2 near_workspaces.print_usd / { retry = 1; total_gas_burnt_usd = +0.004254; total_gas_burnt = 6367744163711 }\n",
       "00:00:12 \u001B[92mi\u001B[39m #3 near_workspaces.print_usd / outcome / { is_success = true; gas_burnt_usd = +0.000206; tokens_burnt_usd = +0.000206; gas_burnt = 308081859340; tokens_burnt = 30808185934000000000 }\n",
       "00:00:12 \u001B[92mi\u001B[39m #4 near_workspaces.print_usd / outcome / { is_success = true; gas_burnt_usd = +0.004048; tokens_burnt_usd = +0.004048; gas_burnt = 6059662304371; tokens_burnt = 605966230437100000000 }\n",
       "00:00:12 \u001B[33mw\u001B[39m #5 spiral_wasm.run / Error error / { retry = 1; error = \"{ receipt_outcomes_len = 1; retry = 1; receipt_failures = [] }\" }\n",
       "\n",
       "\n",
       "00:00:00 \u001B[94md\u001B[39m #1 chat_contract.claim_alias / { alias = \"alias1\"; block_timestamp = 1728003154945729696; signer_account_id = \"dev-20241004005233-41118624329743\"; predecessor_account_id = \"dev-20241004005233-41118624329743\" }\n",
       "00:00:00 \u001B[94md\u001B[39m #2 chat_contract.claim_alias / { account_alias = None }\n",
       "00:00:00 \u001B[94md\u001B[39m #3 chat_contract.claim_alias / { alias = \"alias1\"; block_timestamp = 1728003154945729696; signer_account_id = \"dev-20241004005233-41118624329743\"; predecessor_account_id = \"dev-20241004005233-41118624329743\" }\n",
       "00:00:00 \u001B[94md\u001B[39m #4 chat_contract.claim_alias / { account_alias = Some(\"alias1\") }\n",
       "00:00:00 \u001B[94md\u001B[39m #5 chat_contract.claim_alias / { alias = \"alias1\"; block_timestamp = 1728003154945729696; signer_account_id = \"dev-20241004005233-41118624329743\"; predecessor_account_id = \"dev-20241004005233-41118624329743\" }\n",
       "00:00:00 \u001B[94md\u001B[39m #6 chat_contract.claim_alias / { account_alias = Some(\"alias1\") }\n",
       "00:00:00 \u001B[90mv\u001B[39m #7 chat_contract / { state = (2, IterableSet { elements: Vector { len: 1, prefix: [97, 99, 99, 111, 117, 110, 116, 95, 115, 101, 116, 118] }, index: LookupMap { prefix: [97, 99, 99, 111, 117, 110, 116, 95, 115, 101, 116, 109] } }, IterableSet { elements: Vector { len: 1, prefix: [97, 108, 105, 97, 115, 95, 115, 101, 116, 118] }, index: LookupMap { prefix: [97, 108, 105, 97, 115, 95, 115, 101, 116, 109] } }, LookupMap { prefix: [97, 99, 99, 111, 117, 110, 116, 95, 109, 97, 112] }, LookupMap { prefix: [97, 108, 105, 97, 115, 95, 109, 97, 112] }) }\n",
       " \n",
       "00:00:21 \u001B[92mi\u001B[39m #8 near_workspaces.print_usd / { retry = 2; total_gas_burnt_usd = +0.004254; total_gas_burnt = 6367744163711 }\n",
       "00:00:21 \u001B[92mi\u001B[39m #9 near_workspaces.print_usd / outcome / { is_success = true; gas_burnt_usd = +0.000206; tokens_burnt_usd = +0.000206; gas_burnt = 308081859340; tokens_burnt = 30808185934000000000 }\n",
       "00:00:21 \u001B[92mi\u001B[39m #10 near_workspaces.print_usd / outcome / { is_success = true; gas_burnt_usd = +0.004048; tokens_burnt_usd = +0.004048; gas_burnt = 6059662304371; tokens_burnt = 605966230437100000000 }\n",
       "00:00:21 \u001B[33mw\u001B[39m #11 spiral_wasm.run / Error error / { retry = 2; error = \"{ receipt_outcomes_len = 1; retry = 2; receipt_failures = [] }\" }\n",
       "\n",
       "\n",
       "00:00:00 \u001B[94md\u001B[39m #1 chat_contract.claim_alias / { alias = \"alias1\"; block_timestamp = 1728003160016712869; signer_account_id = \"dev-20241004005238-38503720477824\"; predecessor_account_id = \"dev-20241004005238-38503720477824\" }\n",
       "00:00:00 \u001B[94md\u001B[39m #2 chat_contract.claim_alias / { account_alias = None }\n",
       "00:00:00 \u001B[94md\u001B[39m #3 chat_contract.claim_alias / { alias = \"alias1\"; block_timestamp = 1728003160016712869; signer_account_id = \"dev-20241004005238-38503720477824\"; predecessor_account_id = \"dev-20241004005238-38503720477824\" }\n",
       "00:00:00 \u001B[94md\u001B[39m #4 chat_contract.claim_alias / { account_alias = Some(\"alias1\") }\n",
       "00:00:00 \u001B[94md\u001B[39m #5 chat_contract.claim_alias / { alias = \"alias1\"; block_timestamp = 1728003160016712869; signer_account_id = \"dev-20241004005238-38503720477824\"; predecessor_account_id = \"dev-20241004005238-38503720477824\" }\n",
       "00:00:00 \u001B[94md\u001B[39m #6 chat_contract.claim_alias / { account_alias = Some(\"alias1\") }\n",
       "00:00:00 \u001B[90mv\u001B[39m #7 chat_contract / { state = (2, IterableSet { elements: Vector { len: 1, prefix: [97, 99, 99, 111, 117, 110, 116, 95, 115, 101, 116, 118] }, index: LookupMap { prefix: [97, 99, 99, 111, 117, 110, 116, 95, 115, 101, 116, 109] } }, IterableSet { elements: Vector { len: 1, prefix: [97, 108, 105, 97, 115, 95, 115, 101, 116, 118] }, index: LookupMap { prefix: [97, 108, 105, 97, 115, 95, 115, 101, 116, 109] } }, LookupMap { prefix: [97, 99, 99, 111, 117, 110, 116, 95, 109, 97, 112] }, LookupMap { prefix: [97, 108, 105, 97, 115, 95, 109, 97, 112] }) }\n",
       " \n",
       "00:00:26 \u001B[92mi\u001B[39m #14 near_workspaces.print_usd / { retry = 3; total_gas_burnt_usd = +0.004403; total_gas_burnt = 6590926726211 }\n",
       "00:00:26 \u001B[92mi\u001B[39m #15 near_workspaces.print_usd / outcome / { is_success = true; gas_burnt_usd = +0.000206; tokens_burnt_usd = +0.000206; gas_burnt = 308081859340; tokens_burnt = 30808185934000000000 }\n",
       "00:00:26 \u001B[92mi\u001B[39m #16 near_workspaces.print_usd / outcome / { is_success = true; gas_burnt_usd = +0.004048; tokens_burnt_usd = +0.004048; gas_burnt = 6059662304371; tokens_burnt = 605966230437100000000 }\n",
       "00:00:26 \u001B[92mi\u001B[39m #17 near_workspaces.print_usd / outcome / { is_success = true; gas_burnt_usd = +0.000149; tokens_burnt_usd = +0.000000; gas_burnt = 223182562500; tokens_burnt = 0 }\n"
      ]
     },
     "metadata": {},
     "output_type": "display_data"
    }
   ],
   "source": [
    "//// test\n",
    "///! rust -cd borsh\n",
    "\n",
    "inl state = new ()\n",
    "inl version = state.version\n",
    "inl account_set = state.account_set\n",
    "inl alias_set = state.alias_set\n",
    "inl account_map = state.account_map\n",
    "inl alias_map = state.alias_map\n",
    "inl version = join version\n",
    "inl account_set = join account_set\n",
    "inl alias_set = join alias_set\n",
    "inl account_map = join account_map\n",
    "inl alias_map = join alias_map\n",
    "inl state =\n",
    "    inl state = state\n",
    "    // inl state = state |> rust.new_rc\n",
    "    // inl state' = state |> sm'.format'\n",
    "    // trace Verbose (fun () => \"chat_contract\") fun () => { state' }\n",
    "\n",
    "    // inl version = rust.rc_unwrap_or_clone state .version\n",
    "    // inl alias_map = rust.rc_unwrap_or_clone state .alias_map\n",
    "    // inl account_map = rust.rc_unwrap_or_clone state .account_map\n",
    "\n",
    "    !\\\\(\n",
    "        (\n",
    "            version,\n",
    "            account_map,\n",
    "            alias_map\n",
    "        ),\n",
    "        $'$\"&mut ($0, !account_set, !alias_set, !account_map, !alias_map)\"'\n",
    "    )\n",
    "\n",
    "\"alias1\"\n",
    "|> sm'.to_std_string\n",
    "|> claim_alias state\n",
    "\n",
    "\"alias1\"\n",
    "|> sm'.to_std_string\n",
    "|> claim_alias state\n",
    "\n",
    "\"alias1\"\n",
    "|> sm'.to_std_string\n",
    "|> claim_alias state\n",
    "\n",
    "trace Verbose\n",
    "    fun () => \"chat_contract\"\n",
    "    fun () => { state = state |> sm'.format_debug }\n",
    "\n",
    "trace Debug (fun () => \"\") id"
   ]
  },
  {
   "cell_type": "markdown",
   "metadata": {},
   "source": [
    "### get_account_info"
   ]
  },
  {
   "cell_type": "code",
   "execution_count": null,
   "metadata": {
    "dotnet_interactive": {
     "language": "spiral"
    },
    "polyglot_notebook": {
     "kernelName": "spiral"
    }
   },
   "outputs": [],
   "source": [
    "inl get_account_info\n",
    "    (state : rust.ref state)\n",
    "    (account_id : near.account_id)\n",
    "    : optionm'.option' (sm'.std_string * (u64 * u32))\n",
    "    =\n",
    "    inl account_map : rust.ref (near.lookup_map near.account_id sm'.std_string) =\n",
    "        !\\($'$\"&!state.2\"')\n",
    "\n",
    "    inl alias_map : rust.ref (near.lookup_map sm'.std_string (mapm.hash_map near.account_id (u64 * u32))) =\n",
    "        !\\($'$\"&!state.1\"')\n",
    "\n",
    "    !\\\\(account_id, $'\"let result = !account_map.get(&$0).and_then(|alias| { //\"') : ()\n",
    "    !\\($'\"    !alias_map //\"') : ()\n",
    "    !\\($'\"      .get(alias) //\"') : ()\n",
    "    !\\($'\"      .map(|accounts| { //\"') : ()\n",
    "    !\\($'\"          let result = (alias.clone(), *accounts.get(&!account_id).unwrap()); //\"') : ()\n",
    "    !\\($'\"          (result.0, result.1.0, result.1.1) //\"') : ()\n",
    "    !\\($'\"      }) //\"') : ()\n",
    "    !\\($'\"}); //\"') : ()\n",
    "\n",
    "    inl result = !\\($'\"result\"')\n",
    "\n",
    "    trace Debug\n",
    "        fun () => \"chat_contract.get_account_info\"\n",
    "        fun () => { account_id result }\n",
    "\n",
    "    trace Debug (fun () => \"\") id\n",
    "\n",
    "    result"
   ]
  },
  {
   "cell_type": "markdown",
   "metadata": {},
   "source": [
    "### main"
   ]
  },
  {
   "cell_type": "code",
   "execution_count": null,
   "metadata": {
    "dotnet_interactive": {
     "language": "spiral"
    },
    "polyglot_notebook": {
     "kernelName": "spiral"
    }
   },
   "outputs": [],
   "source": [
    "///! _\n",
    "\n",
    "inl main () =\n",
    "    !\\($'\"} //\"') : ()\n",
    "\n",
    "    !\\($'\"#[near_sdk::near_bindgen] //\"') : ()\n",
    "\n",
    "    !\\($'\"#[derive( //\"') : ()\n",
    "    !\\($'\"  near_sdk::PanicOnDefault, //\"') : ()\n",
    "    !\\($'\"  borsh::BorshDeserialize, //\"') : ()\n",
    "    !\\($'\"  borsh::BorshSerialize, //\"') : ()\n",
    "    !\\($'\")] //\"') : ()\n",
    "\n",
    "    !\\($'\"pub struct State ( //\"') : ()\n",
    "\n",
    "    !\\($'\"/*\"') : ()\n",
    "    (null () : rust.type_emit state) |> ignore\n",
    "    !\\($'\"*/ )\"') : ()\n",
    "\n",
    "    inl new_ () =\n",
    "        !\\($'\"#[init] //\"') : ()\n",
    "        !\\($'\"pub fn new() -> Self { // 1\"') : ()\n",
    "\n",
    "        (!\\($'\"true; /*\"') : bool) |> ignore\n",
    "\n",
    "        (null () : rust.type_emit ()) |> ignore\n",
    "\n",
    "        (!\\($'\"true; */\"') : bool) |> ignore\n",
    "\n",
    "        inl result = new ()\n",
    "\n",
    "        $'let _result = !result in _result |> (fun x -> Fable.Core.RustInterop.emitRustExpr x $\"Self($0) // x\") // 2' : ()\n",
    "\n",
    "        !\\($'\"} // 2.\"') : ()\n",
    "\n",
    "        !\\($'\"} // 1.\"') : ()\n",
    "\n",
    "        2\n",
    "\n",
    "    inl is_valid_alias () =\n",
    "        !\\($'\"fn is_valid_alias(alias: String) -> bool { //\"') : ()\n",
    "        inl alias = !\\($'$\"alias\"')\n",
    "        inl result = alias |> is_valid_alias\n",
    "        $'let _result = !result in _result |> (fun x -> Fable.Core.RustInterop.emitRustExpr x \"$0 }\") // 2' : ()\n",
    "        !\\($'\"} //\"') : ()\n",
    "        1\n",
    "\n",
    "    inl generate_cid () =\n",
    "        !\\($'\"pub fn generate_cid( //\"') : ()\n",
    "        !\\($'\"  &self, //\"') : ()\n",
    "        !\\($'\"  content: Vec<u8>, //\"') : ()\n",
    "        !\\($'\") -> String { //\"') : ()\n",
    "        inl content = !\\($'$\"content\"')\n",
    "        inl result = generate_cid content\n",
    "        $'let _result = !result in _result |> (fun x -> Fable.Core.RustInterop.emitRustExpr x \"$0 }\") // 2' : ()\n",
    "        !\\($'\"} //\"') : ()\n",
    "        2\n",
    "\n",
    "    inl generate_cid_borsh () =\n",
    "        !\\($'\"#[result_serializer(borsh)] //\"') : ()\n",
    "        !\\($'\"pub fn generate_cid_borsh( //\"') : ()\n",
    "        !\\($'\"  &self, //\"') : ()\n",
    "        !\\($'\"  #[serializer(borsh)] content: Vec<u8>, //\"') : ()\n",
    "        !\\($'\") -> String { //\"') : ()\n",
    "        !\\($'\"  self.generate_cid(content) //\"') : ()\n",
    "        !\\($'\"} //\"') : ()\n",
    "        1\n",
    "\n",
    "    inl claim_alias () =\n",
    "        !\\($'\"pub fn claim_alias( //\"') : ()\n",
    "        !\\($'\"  &mut self, //\"') : ()\n",
    "        !\\($'\"  alias: String, //\"') : ()\n",
    "        !\\($'\") { //\"') : ()\n",
    "        \n",
    "        inl state = !\\($'$\"&mut self.0\"')\n",
    "        inl alias = !\\($'$\"alias\"')\n",
    "        \n",
    "        inl result = claim_alias state alias\n",
    "        trace Debug (fun () => \"\") (join id)\n",
    "\n",
    "        !\\($'\"} //\"') : ()\n",
    "\n",
    "        !\\($'\"} //\"') : ()\n",
    "\n",
    "        !\\($'\"} //\"') : ()\n",
    "\n",
    "        3\n",
    "\n",
    "    inl get_account_info () =\n",
    "        !\\($'\"pub fn get_account_info( //\"') : ()\n",
    "        !\\($'\"  &self, //\"') : ()\n",
    "        !\\($'\"  account_id: near_sdk::AccountId, //\"') : ()\n",
    "        !\\($'\") -> Option<(String, u64, u32)> { //\"') : ()\n",
    "\n",
    "        inl state = !\\($'$\"&self.0\"')\n",
    "        inl account_id : near.account_id = !\\($'$\"account_id\"')\n",
    "\n",
    "        inl result = account_id |> get_account_info state\n",
    "        $'let _result = !result in _result |> (fun x -> Fable.Core.RustInterop.emitRustExpr x \"$0 } // 4\") // 3' : ()\n",
    "\n",
    "        !\\($'\"} // 2\"') : ()\n",
    "\n",
    "        !\\($'\"} // 1\"') : ()\n",
    "\n",
    "        2\n",
    "\n",
    "    inl get_alias_map () =\n",
    "        !\\($'\"pub fn get_alias_map( //\"') : ()\n",
    "        !\\($'\"  &self, //\"') : ()\n",
    "        !\\($'\"  alias: String, //\"') : ()\n",
    "        !\\($'\") -> Option<std::collections::HashMap<near_sdk::AccountId, (u64, u32)>> { //\"') : ()\n",
    "\n",
    "        inl alias_map : rust.ref (near.lookup_map sm'.std_string (mapm.hash_map near.account_id (u64 * u32))) =\n",
    "            !\\($'$\"&self.0.1\"')\n",
    "\n",
    "        inl alias : sm'.std_string = !\\($'$\"alias\"')\n",
    "\n",
    "        trace Debug\n",
    "            fun () => $'$\"chat_contract.get_alias_map\"'\n",
    "            fun () => { alias }\n",
    "\n",
    "        trace Debug (fun () => \"\") (join id)\n",
    "\n",
    "        !\\\\(alias, $'\"  !alias_map.get(&$0).cloned() //\"') : ()\n",
    "        !\\($'\"} //\"') : ()\n",
    "\n",
    "        !\\($'\"} //\"') : ()\n",
    "\n",
    "        2\n",
    "\n",
    "    inl get_alias_map_borsh () =\n",
    "        !\\($'\"#[result_serializer(borsh)] //\"') : ()\n",
    "        !\\($'\"pub fn get_alias_map_borsh( //\"') : ()\n",
    "        !\\($'\"  &self, //\"') : ()\n",
    "        !\\($'\"  #[serializer(borsh)] alias: String, //\"') : ()\n",
    "        !\\($'\") -> Option<std::collections::HashMap<near_sdk::AccountId, (u64, u32)>> { //\"') : ()\n",
    "        !\\($'\"  self.get_alias_map(alias) //\"') : ()\n",
    "        !\\($'\"} //\"') : ()\n",
    "        1\n",
    "\n",
    "    inl fns =\n",
    "        [\n",
    "            new_\n",
    "            is_valid_alias\n",
    "            generate_cid\n",
    "            generate_cid_borsh\n",
    "            claim_alias\n",
    "            get_account_info\n",
    "            get_alias_map\n",
    "            get_alias_map_borsh\n",
    "        ]\n",
    "\n",
    "    inl rec loop acc fns i =\n",
    "        match fns with\n",
    "        | [] => acc\n",
    "        | x :: xs =>\n",
    "            !\\($'\"#[near_sdk::near_bindgen] //\"') : ()\n",
    "            !\\($'\"impl State { //\"') : ()\n",
    "            inl n = x ()\n",
    "            !\\($'\"} /* c\"') : ()\n",
    "            inl rec loop' i' =\n",
    "                if i' <> 1 // <= n\n",
    "                then (!\\($'\"true; */ // ???? / i: !i / i\\': !i' / acc: !acc / n: !n\"') : bool) |> ignore\n",
    "                else\n",
    "                    (!\\($'\"true; // ??? / i: !i / i\\': !i' / acc: !acc / n: !n\"') : bool) |> ignore\n",
    "                    loop' (i' + 1)\n",
    "            loop' 1u8\n",
    "            loop (acc + n) xs (i + 1)\n",
    "    inl n = loop 0u8 fns 1u8\n",
    "\n",
    "\n",
    "    // !\\($'\"/* a\"') : ()\n",
    "\n",
    "    // !\\($'\"} // b\"') : ()\n",
    "\n",
    "    !\\($'\"fn _main() //\"') : ()\n",
    "    !\\($'\"{ { //\"') : ()\n",
    "\n",
    "    inl rec loop' i' =\n",
    "        if i' <= n\n",
    "        then\n",
    "            (!\\($'\"true; { (); // ?? / i\\': !i' / n: !n\"') : bool) |> ignore\n",
    "            loop' (i' + 1)\n",
    "        else\n",
    "            (!\\($'\"true; { { (); // ? / i\\': !i' / n: !n\"') : bool) |> ignore\n",
    "            // (!\\($'\"true; */ // ?? / i\\': !i' / n: !n\"') : bool) |> ignore\n",
    "    loop' 1u8\n",
    "\n",
    "inl main () =\n",
    "    $'!main |> ignore' : ()"
   ]
  }
 ],
 "metadata": {},
 "nbformat": 4,
 "nbformat_minor": 5
}