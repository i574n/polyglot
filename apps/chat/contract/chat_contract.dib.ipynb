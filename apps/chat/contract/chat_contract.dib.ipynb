{
 "cells": [
  {
   "cell_type": "markdown",
   "metadata": {},
   "source": [
    "# chat_contract"
   ]
  },
  {
   "cell_type": "code",
   "execution_count": null,
   "metadata": {
    "dotnet_interactive": {
     "language": "spiral"
    },
    "polyglot_notebook": {
     "kernelName": "spiral"
    }
   },
   "outputs": [],
   "source": [
    "open rust\n",
    "open rust.rust_operators"
   ]
  },
  {
   "cell_type": "code",
   "execution_count": null,
   "metadata": {
    "dotnet_interactive": {
     "language": "spiral"
    },
    "polyglot_notebook": {
     "kernelName": "spiral"
    }
   },
   "outputs": [],
   "source": [
    "//// test\n",
    "\n",
    "open testing"
   ]
  },
  {
   "cell_type": "markdown",
   "metadata": {},
   "source": [
    "## chat_contract"
   ]
  },
  {
   "cell_type": "markdown",
   "metadata": {},
   "source": [
    "### lookup_map"
   ]
  },
  {
   "cell_type": "code",
   "execution_count": null,
   "metadata": {
    "dotnet_interactive": {
     "language": "spiral"
    },
    "polyglot_notebook": {
     "kernelName": "spiral"
    }
   },
   "outputs": [],
   "source": [
    "nominal lookup_map k v =\n",
    "    `(\n",
    "        global \"#if FABLE_COMPILER\\n[<Fable.Core.Erase; Fable.Core.Emit(\\\"near_sdk::store::LookupMap<$0, $1>\\\")>]\\n#endif\\ntype near_sdk_store_LookupMap<'K, 'V> = class end\"\n",
    "        $'' : $'near_sdk_store_LookupMap<`k, `v>'\n",
    "    )"
   ]
  },
  {
   "cell_type": "markdown",
   "metadata": {},
   "source": [
    "### account_id"
   ]
  },
  {
   "cell_type": "code",
   "execution_count": null,
   "metadata": {
    "dotnet_interactive": {
     "language": "spiral"
    },
    "polyglot_notebook": {
     "kernelName": "spiral"
    }
   },
   "outputs": [],
   "source": [
    "nominal account_id =\n",
    "    `(\n",
    "        global \"#if FABLE_COMPILER\\n[<Fable.Core.Erase; Fable.Core.Emit(\\\"near_sdk::AccountId\\\")>]\\n#endif\\ntype near_sdk_AccountId = class end\"\n",
    "        $'' : $'near_sdk_AccountId'\n",
    "    )"
   ]
  },
  {
   "cell_type": "markdown",
   "metadata": {},
   "source": [
    "### state"
   ]
  },
  {
   "cell_type": "code",
   "execution_count": null,
   "metadata": {
    "dotnet_interactive": {
     "language": "spiral"
    },
    "polyglot_notebook": {
     "kernelName": "spiral"
    }
   },
   "outputs": [],
   "source": [
    "type state =\n",
    "    {\n",
    "        version : u32\n",
    "        alias_map : lookup_map sm'.std_string (mapm.hash_map account_id (u64 * u32))\n",
    "        account_map : lookup_map account_id sm'.std_string\n",
    "    }"
   ]
  },
  {
   "cell_type": "markdown",
   "metadata": {},
   "source": [
    "### byte_slice"
   ]
  },
  {
   "cell_type": "code",
   "execution_count": null,
   "metadata": {
    "dotnet_interactive": {
     "language": "spiral"
    },
    "polyglot_notebook": {
     "kernelName": "spiral"
    }
   },
   "outputs": [],
   "source": [
    "inl byte_slice (s : string) : rust.ref (am'.slice u8) =\n",
    "    !\\($'\"b\\\\\\\"\" + !s + \"\\\\\\\"\"')"
   ]
  },
  {
   "cell_type": "markdown",
   "metadata": {},
   "source": [
    "### new_lookup_map"
   ]
  },
  {
   "cell_type": "code",
   "execution_count": null,
   "metadata": {
    "dotnet_interactive": {
     "language": "spiral"
    },
    "polyglot_notebook": {
     "kernelName": "spiral"
    }
   },
   "outputs": [],
   "source": [
    "inl new_lookup_map prefix =\n",
    "    !\\($'\"near_sdk::store::LookupMap::new(!prefix)\"')"
   ]
  },
  {
   "cell_type": "markdown",
   "metadata": {},
   "source": [
    "### new"
   ]
  },
  {
   "cell_type": "code",
   "execution_count": null,
   "metadata": {
    "dotnet_interactive": {
     "language": "spiral"
    },
    "polyglot_notebook": {
     "kernelName": "spiral"
    }
   },
   "outputs": [],
   "source": [
    "inl new () : state =\n",
    "    {\n",
    "        version = 1\n",
    "        alias_map = \"l\" |> byte_slice |> new_lookup_map\n",
    "        account_map = \"c\" |> byte_slice |> new_lookup_map\n",
    "    }"
   ]
  },
  {
   "cell_type": "code",
   "execution_count": null,
   "metadata": {
    "dotnet_interactive": {
     "language": "spiral"
    },
    "polyglot_notebook": {
     "kernelName": "spiral"
    }
   },
   "outputs": [
    {
     "data": {
      "text/plain": [
       "17:13:43 \u001B[94m  debug\u001B[39m #1 spiral_wasm.main / { args = Array(MutCell([\"-w\", \"target/spiral_builder/spiral_builder/target/wasm32-unknown-unknown/release/spiral_builder_c0f87336371062b89d2cb7853e0a8bd194cb13cba56b55c742ec289f0faefde4.wasm\"])) }\n",
       "17:13:43 \u001B[94m  debug\u001B[39m #2 run / { wasm_path = target/spiral_builder/spiral_builder/target/wasm32-unknown-unknown/release/spiral_builder_c0f87336371062b89d2cb7853e0a8bd194cb13cba56b55c742ec289f0faefde4.wasm }\n",
       "17:13:48 \u001B[94m  debug\u001B[39m #3  / { worker = Worker {\n",
       "    workspace: Sandbox {\n",
       "        root_id: AccountId(\n",
       "            \"test.near\",\n",
       "        ),\n",
       "        rpc_url: Url {\n",
       "            scheme: \"http\",\n",
       "            cannot_be_a_base: false,\n",
       "            username: \"\",\n",
       "            password: None,\n",
       "            host: Some(\n",
       "                Ipv4(\n",
       "                    127.0.0.1,\n",
       "                ),\n",
       "            ),\n",
       "            port: Some(\n",
       "                60743,\n",
       "            ),\n",
       "            path: \"/\",\n",
       "            query: None,\n",
       "            fragment: None,\n",
       "        },\n",
       "        rpc_port: Some(\n",
       "            60743,\n",
       "        ),\n",
       "        net_port: Some(\n",
       "            60829,\n",
       "        ),\n",
       "        version: Some(\n",
       "            \"1.40.0/7dd0b5993577f592be15eb102e5a3da37be66271\",\n",
       "        ),\n",
       "    },\n",
       "} }\n",
       "17:13:49 \u001B[94m  debug\u001B[39m #4  / { contract = Contract {\n",
       "    id: AccountId(\n",
       "        \"dev-20240806201348-51399836934806\",\n",
       "    ),\n",
       "} }\n",
       "17:13:49 \u001B[94m  debug\u001B[39m #5  / { result = ExecutionFinalResult {\n",
       "    total_gas_burnt: NearGas {\n",
       "        inner: 1780317909962,\n",
       "    },\n",
       "    transaction: ExecutionOutcome {\n",
       "        transaction_hash: AQvfsqPjLT3MAgeuvW6Rt6h2kweVHH5A2TtVMRvH2gt5,\n",
       "        block_hash: 3YzQLGKKHMLCi8JHxzzNRHRUAhyavhrx48eqY2GTjd4L,\n",
       "        logs: [],\n",
       "        receipt_ids: [\n",
       "            4jXnBK2tHu8o7FWXuF4HTkFiwbDgz9DdDkkDNKZyRh4h,\n",
       "        ],\n",
       "        gas_burnt: NearGas {\n",
       "            inner: 308081859340,\n",
       "        },\n",
       "        tokens_burnt: NearToken {\n",
       "            inner: 30808185934000000000,\n",
       "        },\n",
       "        executor_id: AccountId(\n",
       "            \"dev-20240806201348-51399836934806\",\n",
       "        ),\n",
       "        status: SuccessReceiptId(4jXnBK2tHu8o7FWXuF4HTkFiwbDgz9DdDkkDNKZyRh4h),\n",
       "    },\n",
       "    receipts: [\n",
       "        ExecutionOutcome {\n",
       "            transaction_hash: 4jXnBK2tHu8o7FWXuF4HTkFiwbDgz9DdDkkDNKZyRh4h,\n",
       "            block_hash: 3YzQLGKKHMLCi8JHxzzNRHRUAhyavhrx48eqY2GTjd4L,\n",
       "            logs: [\n",
       "                \"00:00:00 \\u{1b}[90mverbose\\u{1b}[39m #1 trace / { trace1 = 1; trace2 = 2 }\",\n",
       "                \"00:00:00 \\u{1b}[90mverbose\\u{1b}[39m #2 trace / { state = { version = 1; alias_map = LookupMap {\\n    prefix: [\\n        108,\\n    ],\\n}; account_map = LookupMap {\\n    prefix: [\\n        99,\\n    ],\\n} } }\",\n",
       "            ],\n",
       "            receipt_ids: [\n",
       "                H7zuhxkQuxaxFUyP729Djkr4R7EHMbFtJ4x5TERrGiBR,\n",
       "            ],\n",
       "            gas_burnt: NearGas {\n",
       "                inner: 1472236050622,\n",
       "            },\n",
       "            tokens_burnt: NearToken {\n",
       "                inner: 147223605062200000000,\n",
       "            },\n",
       "            executor_id: AccountId(\n",
       "                \"dev-20240806201348-51399836934806\",\n",
       "            ),\n",
       "            status: SuccessValue(''),\n",
       "        },\n",
       "    ],\n",
       "    status: SuccessValue(''),\n",
       "} }\n",
       "00:00:00 \u001B[90mverbose\u001B[39m #1 trace / { trace1 = 1; trace2 = 2 }\n",
       "00:00:00 \u001B[90mverbose\u001B[39m #2 trace / { state = { version = 1; alias_map = LookupMap {\n",
       "    prefix: [\n",
       "        108,\n",
       "    ],\n",
       "}; account_map = LookupMap {\n",
       "    prefix: [\n",
       "        99,\n",
       "    ],\n",
       "} } }\n",
       "\n",
       "\n",
       " state_main transact result: ExecutionFinalResult {\n",
       "    total_gas_burnt: NearGas {\n",
       "        inner: 1780317909962,\n",
       "    },\n",
       "    transaction: ExecutionOutcome {\n",
       "        transaction_hash: AQvfsqPjLT3MAgeuvW6Rt6h2kweVHH5A2TtVMRvH2gt5,\n",
       "        block_hash: 3YzQLGKKHMLCi8JHxzzNRHRUAhyavhrx48eqY2GTjd4L,\n",
       "        logs: [],\n",
       "        receipt_ids: [\n",
       "            4jXnBK2tHu8o7FWXuF4HTkFiwbDgz9DdDkkDNKZyRh4h,\n",
       "        ],\n",
       "        gas_burnt: NearGas {\n",
       "            inner: 308081859340,\n",
       "        },\n",
       "        tokens_burnt: NearToken {\n",
       "            inner: 30808185934000000000,\n",
       "        },\n",
       "        executor_id: AccountId(\n",
       "            \"dev-20240806201348-51399836934806\",\n",
       "        ),\n",
       "        status: SuccessReceiptId(4jXnBK2tHu8o7FWXuF4HTkFiwbDgz9DdDkkDNKZyRh4h),\n",
       "    },\n",
       "    receipts: [\n",
       "        ExecutionOutcome {\n",
       "            transaction_hash: 4jXnBK2tHu8o7FWXuF4HTkFiwbDgz9DdDkkDNKZyRh4h,\n",
       "            block_hash: 3YzQLGKKHMLCi8JHxzzNRHRUAhyavhrx48eqY2GTjd4L,\n",
       "            logs: [\n",
       "                \"00:00:00 \\u{1b}[90mverbose\\u{1b}[39m #1 trace / { trace1 = 1; trace2 = 2 }\",\n",
       "                \"00:00:00 \\u{1b}[90mverbose\\u{1b}[39m #2 trace / { state = { version = 1; alias_map = LookupMap {\\n    prefix: [\\n        108,\\n    ],\\n}; account_map = LookupMap {\\n    prefix: [\\n        99,\\n    ],\\n} } }\",\n",
       "            ],\n",
       "            receipt_ids: [\n",
       "                H7zuhxkQuxaxFUyP729Djkr4R7EHMbFtJ4x5TERrGiBR,\n",
       "            ],\n",
       "            gas_burnt: NearGas {\n",
       "                inner: 1472236050622,\n",
       "            },\n",
       "            tokens_burnt: NearToken {\n",
       "                inner: 147223605062200000000,\n",
       "            },\n",
       "            executor_id: AccountId(\n",
       "                \"dev-20240806201348-51399836934806\",\n",
       "            ),\n",
       "            status: SuccessValue(''),\n",
       "        },\n",
       "    ],\n",
       "    status: SuccessValue(''),\n",
       "}\n",
       "\n",
       "\n",
       " print_usd:\n",
       "gas_to_usd(result.total_gas_burnt.as_gas()): 0.001189 (1780317909962)\n",
       "outcome (success: true):\n",
       "  gas_to_usd(outcome.gas_burnt.as_gas()): 0.000206 (308081859340)\n",
       "  tokens_to_usd(outcome.tokens_burnt.as_yoctonear()): 0.000206 (30808185934000000000)\n",
       "outcome (success: true):\n",
       "  gas_to_usd(outcome.gas_burnt.as_gas()): 0.000983 (1472236050622)\n",
       "  tokens_to_usd(outcome.tokens_burnt.as_yoctonear()): 0.000983 (147223605062200000000)\n",
       "17:13:49 \u001B[94m  debug\u001B[39m #6  / { result2 = Ok(\n",
       "    ExecutionResult {\n",
       "        total_gas_burnt: NearGas {\n",
       "            inner: 1780317909962,\n",
       "        },\n",
       "        transaction: ExecutionOutcome {\n",
       "            transaction_hash: AQvfsqPjLT3MAgeuvW6Rt6h2kweVHH5A2TtVMRvH2gt5,\n",
       "            block_hash: 3YzQLGKKHMLCi8JHxzzNRHRUAhyavhrx48eqY2GTjd4L,\n",
       "            logs: [],\n",
       "            receipt_ids: [\n",
       "                4jXnBK2tHu8o7FWXuF4HTkFiwbDgz9DdDkkDNKZyRh4h,\n",
       "            ],\n",
       "            gas_burnt: NearGas {\n",
       "                inner: 308081859340,\n",
       "            },\n",
       "            tokens_burnt: NearToken {\n",
       "                inner: 30808185934000000000,\n",
       "            },\n",
       "            executor_id: AccountId(\n",
       "                \"dev-20240806201348-51399836934806\",\n",
       "            ),\n",
       "            status: SuccessReceiptId(4jXnBK2tHu8o7FWXuF4HTkFiwbDgz9DdDkkDNKZyRh4h),\n",
       "        },\n",
       "        receipts: [\n",
       "            ExecutionOutcome {\n",
       "                transaction_hash: 4jXnBK2tHu8o7FWXuF4HTkFiwbDgz9DdDkkDNKZyRh4h,\n",
       "                block_hash: 3YzQLGKKHMLCi8JHxzzNRHRUAhyavhrx48eqY2GTjd4L,\n",
       "                logs: [\n",
       "                    \"00:00:00 \\u{1b}[90mverbose\\u{1b}[39m #1 trace / { trace1 = 1; trace2 = 2 }\",\n",
       "                    \"00:00:00 \\u{1b}[90mverbose\\u{1b}[39m #2 trace / { state = { version = 1; alias_map = LookupMap {\\n    prefix: [\\n        108,\\n    ],\\n}; account_map = LookupMap {\\n    prefix: [\\n        99,\\n    ],\\n} } }\",\n",
       "                ],\n",
       "                receipt_ids: [\n",
       "                    H7zuhxkQuxaxFUyP729Djkr4R7EHMbFtJ4x5TERrGiBR,\n",
       "                ],\n",
       "                gas_burnt: NearGas {\n",
       "                    inner: 1472236050622,\n",
       "                },\n",
       "                tokens_burnt: NearToken {\n",
       "                    inner: 147223605062200000000,\n",
       "                },\n",
       "                executor_id: AccountId(\n",
       "                    \"dev-20240806201348-51399836934806\",\n",
       "                ),\n",
       "                status: SuccessValue(''),\n",
       "            },\n",
       "        ],\n",
       "        value: Value {\n",
       "            repr: \"\",\n",
       "        },\n",
       "    },\n",
       ") }\n",
       "17:13:49 \u001B[94m  debug\u001B[39m #7  / { receipt_failures = [] }\n",
       "17:13:49 \u001B[94m  debug\u001B[39m #8  / { receipt_outcomes = [\n",
       "    ExecutionOutcome {\n",
       "        transaction_hash: 4jXnBK2tHu8o7FWXuF4HTkFiwbDgz9DdDkkDNKZyRh4h,\n",
       "        block_hash: 3YzQLGKKHMLCi8JHxzzNRHRUAhyavhrx48eqY2GTjd4L,\n",
       "        logs: [\n",
       "            \"00:00:00 \\u{1b}[90mverbose\\u{1b}[39m #1 trace / { trace1 = 1; trace2 = 2 }\",\n",
       "            \"00:00:00 \\u{1b}[90mverbose\\u{1b}[39m #2 trace / { state = { version = 1; alias_map = LookupMap {\\n    prefix: [\\n        108,\\n    ],\\n}; account_map = LookupMap {\\n    prefix: [\\n        99,\\n    ],\\n} } }\",\n",
       "        ],\n",
       "        receipt_ids: [\n",
       "            H7zuhxkQuxaxFUyP729Djkr4R7EHMbFtJ4x5TERrGiBR,\n",
       "        ],\n",
       "        gas_burnt: NearGas {\n",
       "            inner: 1472236050622,\n",
       "        },\n",
       "        tokens_burnt: NearToken {\n",
       "            inner: 147223605062200000000,\n",
       "        },\n",
       "        executor_id: AccountId(\n",
       "            \"dev-20240806201348-51399836934806\",\n",
       "        ),\n",
       "        status: SuccessValue(''),\n",
       "    },\n",
       "] }\n",
       "17:13:49 \u001B[94m  debug\u001B[39m #9  / { json = Err(\n",
       "    Error {\n",
       "        repr: Custom {\n",
       "            kind: DataConversion,\n",
       "            error: \"the function call returned an empty value, which cannot be parsed as JSON\",\n",
       "        },\n",
       "    },\n",
       ") }\n",
       "17:13:49 \u001B[94m  debug\u001B[39m #10  / { borsh = Err(\n",
       "    Error {\n",
       "        repr: Custom {\n",
       "            kind: DataConversion,\n",
       "            error: Custom {\n",
       "                kind: InvalidData,\n",
       "                error: \"Unexpected length of input\",\n",
       "            },\n",
       "        },\n",
       "    },\n",
       ") }\n",
       "\n",
       "\n",
       " worker: Worker {\n",
       "    workspace: Sandbox {\n",
       "        root_id: AccountId(\n",
       "            \"test.near\",\n",
       "        ),\n",
       "        rpc_url: Url {\n",
       "            scheme: \"http\",\n",
       "            cannot_be_a_base: false,\n",
       "            username: \"\",\n",
       "            password: None,\n",
       "            host: Some(\n",
       "                Ipv4(\n",
       "                    127.0.0.1,\n",
       "                ),\n",
       "            ),\n",
       "            port: Some(\n",
       "                60743,\n",
       "            ),\n",
       "            path: \"/\",\n",
       "            query: None,\n",
       "            fragment: None,\n",
       "        },\n",
       "        rpc_port: Some(\n",
       "            60743,\n",
       "        ),\n",
       "        net_port: Some(\n",
       "            60829,\n",
       "        ),\n",
       "        version: Some(\n",
       "            \"1.40.0/7dd0b5993577f592be15eb102e5a3da37be66271\",\n",
       "        ),\n",
       "    },\n",
       "}\n",
       "\n",
       "\n",
       " contract: Contract {\n",
       "    id: AccountId(\n",
       "        \"dev-20240806201348-51399836934806\",\n",
       "    ),\n",
       "}\n"
      ]
     },
     "metadata": {},
     "output_type": "display_data"
    }
   ],
   "source": [
    "//// test\n",
    "///! rust -c\n",
    "\n",
    "inl state = new () |> sm'.format\n",
    "trace Verbose (fun () => \"trace\") fun () => { trace1 = 1i32; trace2 = \"2\" }\n",
    "trace Verbose (fun () => \"trace\") fun () => { state }"
   ]
  },
  {
   "cell_type": "markdown",
   "metadata": {},
   "source": [
    "### main"
   ]
  },
  {
   "cell_type": "code",
   "execution_count": null,
   "metadata": {
    "dotnet_interactive": {
     "language": "spiral"
    },
    "polyglot_notebook": {
     "kernelName": "spiral"
    }
   },
   "outputs": [],
   "source": [
    "///! _\n",
    "\n",
    "// inl is_valid_alias (alias : rust.ref sm'.str) : bool =\n",
    "//     str_len alias > 0\n",
    "//     && str_len alias < 64\n",
    "//     && alias |> sm'.starts_with \"-\"\n",
    "//     && alias |> sm'.ends_with \"-\"\n",
    "//     && alias |> sm'.chars |>\n",
    "\n",
    "inl main () =\n",
    "    !\\($'\"} //\"') : ()\n",
    "\n",
    "    !\\($'\"#[near_sdk::near_bindgen] //\"') : ()\n",
    "\n",
    "    !\\($'\"#[derive( //\"') : ()\n",
    "    !\\($'\"  near_sdk::PanicOnDefault, //\"') : ()\n",
    "    !\\($'\"  borsh::BorshDeserialize, //\"') : ()\n",
    "    !\\($'\"  borsh::BorshSerialize, //\"') : ()\n",
    "    !\\($'\")] //\"') : ()\n",
    "\n",
    "    !\\($'\"pub struct State { //\"') : ()\n",
    "    !\\($'\"} //\"') : ()\n",
    "\n",
    "\n",
    "    !\\($'\"#[near_sdk::near_bindgen] //\"') : ()\n",
    "    !\\($'\"impl State { //\"') : ()\n",
    "\n",
    "    !\\($'\"#[init] //\"') : ()\n",
    "    !\\($'\"pub fn new() -> Self { //\"') : ()\n",
    "    !\\($'\"  Self { //\"') : ()\n",
    "    !\\($'\"  } //\"') : ()\n",
    "    !\\($'\"} //\"') : ()\n",
    "\n",
    "    !\\($'\"#[result_serializer(borsh)] //\"') : ()\n",
    "    !\\($'\"pub fn generate_cid_borsh( //\"') : ()\n",
    "    !\\($'\"  &self, //\"') : ()\n",
    "    !\\($'\"  #[serializer(borsh)] content: Vec<u8>, //\"') : ()\n",
    "    !\\($'\") -> String { //\"') : ()\n",
    "    !\\($'\"\\\\\\\"\\\\\\\".to_string() //\"') : ()\n",
    "    !\\($'\"} //\"') : ()\n",
    "\n",
    "    !\\($'\"pub fn claim_alias( //\"') : ()\n",
    "    !\\($'\"  &mut self, //\"') : ()\n",
    "    !\\($'\"  alias: String, //\"') : ()\n",
    "    !\\($'\") { //\"') : ()\n",
    "    !\\($'\"} //\"') : ()\n",
    "\n",
    "    !\\($'\"pub fn get_account_info( //\"') : ()\n",
    "    !\\($'\"  &self, //\"') : ()\n",
    "    !\\($'\"  account_id: near_sdk::AccountId, //\"') : ()\n",
    "    !\\($'\") -> Option<(String, (u64, u32))> { //\"') : ()\n",
    "    !\\($'\"None //\"') : ()\n",
    "    !\\($'\"} //\"') : ()\n",
    "\n",
    "    !\\($'\"pub fn get_alias_map( //\"') : ()\n",
    "    !\\($'\"  &self, //\"') : ()\n",
    "    !\\($'\"  alias: String, //\"') : ()\n",
    "    !\\($'\") -> Option<std::collections::HashMap<near_sdk::AccountId, (u64, u32)>> { //\"') : ()\n",
    "    !\\($'\"None //\"') : ()\n",
    "    !\\($'\"} //\"') : ()\n",
    "\n",
    "    !\\($'\"#[result_serializer(borsh)] //\"') : ()\n",
    "    !\\($'\"pub fn get_alias_map_borsh( //\"') : ()\n",
    "    !\\($'\"  &self, //\"') : ()\n",
    "    !\\($'\"  #[serializer(borsh)] alias: String, //\"') : ()\n",
    "    !\\($'\") -> Option<std::collections::HashMap<near_sdk::AccountId, (u64, u32)>> { //\"') : ()\n",
    "    !\\($'\"None //\"') : ()\n",
    "    !\\($'\"} //\"') : ()\n",
    "\n",
    "    !\\($'\"} //\"') : ()\n",
    "\n",
    "    !\\($'\"fn _main() { //\"') : ()\n",
    "\n",
    "inl main () =\n",
    "    $'!main |> ignore' : ()"
   ]
  }
 ],
 "metadata": {},
 "nbformat": 4,
 "nbformat_minor": 5
}