{
 "cells": [
  {
   "cell_type": "markdown",
   "metadata": {},
   "source": [
    "# chat_contract"
   ]
  },
  {
   "cell_type": "code",
   "execution_count": null,
   "metadata": {
    "dotnet_interactive": {
     "language": "spiral"
    },
    "polyglot_notebook": {
     "kernelName": "spiral"
    }
   },
   "outputs": [],
   "source": [
    "open rust\n",
    "open rust.rust_operators"
   ]
  },
  {
   "cell_type": "code",
   "execution_count": null,
   "metadata": {
    "dotnet_interactive": {
     "language": "spiral"
    },
    "polyglot_notebook": {
     "kernelName": "spiral"
    }
   },
   "outputs": [],
   "source": [
    "//// test\n",
    "\n",
    "open testing"
   ]
  },
  {
   "cell_type": "markdown",
   "metadata": {},
   "source": [
    "## chat_contract"
   ]
  },
  {
   "cell_type": "markdown",
   "metadata": {},
   "source": [
    "### lookup_map"
   ]
  },
  {
   "cell_type": "code",
   "execution_count": null,
   "metadata": {
    "dotnet_interactive": {
     "language": "spiral"
    },
    "polyglot_notebook": {
     "kernelName": "spiral"
    }
   },
   "outputs": [],
   "source": [
    "nominal lookup_map k v =\n",
    "    `(\n",
    "        global \"#if FABLE_COMPILER\\n[<Fable.Core.Erase; Fable.Core.Emit(\\\"near_sdk::store::LookupMap<$0, $1>\\\")>]\\n#endif\\ntype near_sdk_store_LookupMap<'K, 'V> = class end\"\n",
    "        $'' : $'near_sdk_store_LookupMap<`k, `v>'\n",
    "    )"
   ]
  },
  {
   "cell_type": "markdown",
   "metadata": {},
   "source": [
    "### account_id"
   ]
  },
  {
   "cell_type": "code",
   "execution_count": null,
   "metadata": {
    "dotnet_interactive": {
     "language": "spiral"
    },
    "polyglot_notebook": {
     "kernelName": "spiral"
    }
   },
   "outputs": [],
   "source": [
    "nominal account_id =\n",
    "    `(\n",
    "        global \"#if FABLE_COMPILER\\n[<Fable.Core.Erase; Fable.Core.Emit(\\\"near_sdk::AccountId\\\")>]\\n#endif\\ntype near_sdk_AccountId = class end\"\n",
    "        $'' : $'near_sdk_AccountId'\n",
    "    )"
   ]
  },
  {
   "cell_type": "markdown",
   "metadata": {},
   "source": [
    "### state"
   ]
  },
  {
   "cell_type": "code",
   "execution_count": null,
   "metadata": {
    "dotnet_interactive": {
     "language": "spiral"
    },
    "polyglot_notebook": {
     "kernelName": "spiral"
    }
   },
   "outputs": [],
   "source": [
    "type state =\n",
    "    {\n",
    "        version : u32\n",
    "        alias_map : lookup_map sm'.std_string (mapm.hash_map account_id (u64 * u32))\n",
    "        account_map : lookup_map account_id sm'.std_string\n",
    "    }"
   ]
  },
  {
   "cell_type": "markdown",
   "metadata": {},
   "source": [
    "### byte_slice"
   ]
  },
  {
   "cell_type": "code",
   "execution_count": null,
   "metadata": {
    "dotnet_interactive": {
     "language": "spiral"
    },
    "polyglot_notebook": {
     "kernelName": "spiral"
    }
   },
   "outputs": [],
   "source": [
    "inl byte_slice (s : string) : rust.ref (am'.slice u8) =\n",
    "    !\\($'\"b\\\\\\\"\" + !s + \"\\\\\\\"\"')"
   ]
  },
  {
   "cell_type": "markdown",
   "metadata": {},
   "source": [
    "### new_lookup_map"
   ]
  },
  {
   "cell_type": "code",
   "execution_count": null,
   "metadata": {
    "dotnet_interactive": {
     "language": "spiral"
    },
    "polyglot_notebook": {
     "kernelName": "spiral"
    }
   },
   "outputs": [],
   "source": [
    "inl new_lookup_map prefix =\n",
    "    !\\($'\"near_sdk::store::LookupMap::new(!prefix)\"')"
   ]
  },
  {
   "cell_type": "markdown",
   "metadata": {},
   "source": [
    "### new"
   ]
  },
  {
   "cell_type": "code",
   "execution_count": null,
   "metadata": {
    "dotnet_interactive": {
     "language": "spiral"
    },
    "polyglot_notebook": {
     "kernelName": "spiral"
    }
   },
   "outputs": [],
   "source": [
    "inl new () : state =\n",
    "    {\n",
    "        version = 1\n",
    "        alias_map = \"l\" |> byte_slice |> new_lookup_map\n",
    "        account_map = \"c\" |> byte_slice |> new_lookup_map\n",
    "    }"
   ]
  },
  {
   "cell_type": "code",
   "execution_count": null,
   "metadata": {
    "dotnet_interactive": {
     "language": "spiral"
    },
    "polyglot_notebook": {
     "kernelName": "spiral"
    }
   },
   "outputs": [
    {
     "data": {
      "text/plain": [
       "00:00:00 \u001B[90mverbose\u001B[39m #1 trace / { trace1 = 1; trace2 = 2 }\n",
       "00:00:00 \u001B[90mverbose\u001B[39m #2 trace / { state = { version = 1; alias_map = LookupMap {\n",
       "    prefix: [\n",
       "        108,\n",
       "    ],\n",
       "}; account_map = LookupMap {\n",
       "    prefix: [\n",
       "        99,\n",
       "    ],\n",
       "} } }\n",
       "14:58:46 \u001B[94m  debug\u001B[39m #1 spiral_wasm.print_usd / { total_gas_burnt_usd = +0.001188; total_gas_burnt = 1778680544885 }\n",
       "14:58:46 \u001B[94m  debug\u001B[39m #2 spiral_wasm.print_usd / outcome / { is_success = true; gas_burnt_usd = +0.000206; tokens_burnt_usd = +0.000206; gas_burnt = 308081859340; tokens_burnt = 30808185934000000000 }\n",
       "14:58:46 \u001B[94m  debug\u001B[39m #3 spiral_wasm.print_usd / outcome / { is_success = true; gas_burnt_usd = +0.000982; tokens_burnt_usd = +0.000982; gas_burnt = 1470598685545; tokens_burnt = 147059868554500000000 }\n"
      ]
     },
     "metadata": {},
     "output_type": "display_data"
    }
   ],
   "source": [
    "//// test\n",
    "///! rust -c\n",
    "\n",
    "inl state = new () |> sm'.format\n",
    "trace Verbose (fun () => \"trace\") fun () => { trace1 = 1i32; trace2 = \"2\" }\n",
    "trace Verbose (fun () => \"trace\") fun () => { state }"
   ]
  },
  {
   "cell_type": "code",
   "execution_count": null,
   "metadata": {
    "dotnet_interactive": {
     "language": "spiral"
    },
    "polyglot_notebook": {
     "kernelName": "spiral"
    }
   },
   "outputs": [
    {
     "data": {
      "text/plain": [
       "14:58:54 \u001B[90mverbose\u001B[39m #1 spiral_wasm.main / { args = Array(MutCell([\"-t\", \"Debug\", \"-w\", \"target/spiral_builder/spiral_builder/target/wasm32-unknown-unknown/release/spiral_builder_2b1d83505df324fd0d511813811dc2cb8f99c0037aa8125e056f404f3aefca55.wasm\", \"-t=Verbose\"])) }\n",
       "14:58:54 \u001B[90mverbose\u001B[39m #2 spiral_wasm.run / { wasm_path = target/spiral_builder/spiral_builder/target/wasm32-unknown-unknown/release/spiral_builder_2b1d83505df324fd0d511813811dc2cb8f99c0037aa8125e056f404f3aefca55.wasm }\n",
       "14:58:56 \u001B[90mverbose\u001B[39m #3 spiral_wasm.run / { worker = Worker {\n",
       "    workspace: Sandbox {\n",
       "        root_id: AccountId(\n",
       "            \"test.near\",\n",
       "        ),\n",
       "        rpc_url: Url {\n",
       "            scheme: \"http\",\n",
       "            cannot_be_a_base: false,\n",
       "            username: \"\",\n",
       "            password: None,\n",
       "            host: Some(\n",
       "                Ipv4(\n",
       "                    127.0.0.1,\n",
       "                ),\n",
       "            ),\n",
       "            port: Some(\n",
       "                60827,\n",
       "            ),\n",
       "            path: \"/\",\n",
       "            query: None,\n",
       "            fragment: None,\n",
       "        },\n",
       "        rpc_port: Some(\n",
       "            60827,\n",
       "        ),\n",
       "        net_port: Some(\n",
       "            60817,\n",
       "        ),\n",
       "        version: Some(\n",
       "            \"1.40.0/7dd0b5993577f592be15eb102e5a3da37be66271\",\n",
       "        ),\n",
       "    },\n",
       "} }\n",
       "14:58:57 \u001B[90mverbose\u001B[39m #4 spiral_wasm.run / { contract = Contract {\n",
       "    id: AccountId(\n",
       "        \"dev-20240822175856-47650502035559\",\n",
       "    ),\n",
       "} }\n",
       "14:58:58 \u001B[90mverbose\u001B[39m #5 spiral_wasm.run / { result = ExecutionFinalResult {\n",
       "    total_gas_burnt: NearGas {\n",
       "        inner: 1778680544885,\n",
       "    },\n",
       "    transaction: ExecutionOutcome {\n",
       "        transaction_hash: 2ANvyEoag9h5mpJhFTf4oPLr9L5QKiKs7ABiFPPF5zYQ,\n",
       "        block_hash: 2zaqX2bswWF1aePjSmFGoTB7GiZ684MGq2wDLC35iHUK,\n",
       "        logs: [],\n",
       "        receipt_ids: [\n",
       "            3vFKLjYv7myRS2jXpzEtiVzKuJyT7dn7zVjunYTtDE6B,\n",
       "        ],\n",
       "        gas_burnt: NearGas {\n",
       "            inner: 308081859340,\n",
       "        },\n",
       "        tokens_burnt: NearToken {\n",
       "            inner: 30808185934000000000,\n",
       "        },\n",
       "        executor_id: AccountId(\n",
       "            \"dev-20240822175856-47650502035559\",\n",
       "        ),\n",
       "        status: SuccessReceiptId(3vFKLjYv7myRS2jXpzEtiVzKuJyT7dn7zVjunYTtDE6B),\n",
       "    },\n",
       "    receipts: [\n",
       "        ExecutionOutcome {\n",
       "            transaction_hash: 3vFKLjYv7myRS2jXpzEtiVzKuJyT7dn7zVjunYTtDE6B,\n",
       "            block_hash: 2zaqX2bswWF1aePjSmFGoTB7GiZ684MGq2wDLC35iHUK,\n",
       "            logs: [\n",
       "                \"00:00:00 \\u{1b}[90mverbose\\u{1b}[39m #1 trace / { trace1 = 1; trace2 = 2 }\",\n",
       "                \"00:00:00 \\u{1b}[90mverbose\\u{1b}[39m #2 trace / { state = { version = 1; alias_map = LookupMap {\\n    prefix: [\\n        108,\\n    ],\\n}; account_map = LookupMap {\\n    prefix: [\\n        99,\\n    ],\\n} } }\",\n",
       "            ],\n",
       "            receipt_ids: [\n",
       "                DTRsdf7gBYhBLReYZ1M2iBwpAMNyW7s3rhHnx2x2jsr5,\n",
       "            ],\n",
       "            gas_burnt: NearGas {\n",
       "                inner: 1470598685545,\n",
       "            },\n",
       "            tokens_burnt: NearToken {\n",
       "                inner: 147059868554500000000,\n",
       "            },\n",
       "            executor_id: AccountId(\n",
       "                \"dev-20240822175856-47650502035559\",\n",
       "            ),\n",
       "            status: SuccessValue(''),\n",
       "        },\n",
       "    ],\n",
       "    status: SuccessValue(''),\n",
       "} }\n",
       "00:00:00 \u001B[90mverbose\u001B[39m #1 trace / { trace1 = 1; trace2 = 2 }\n",
       "00:00:00 \u001B[90mverbose\u001B[39m #2 trace / { state = { version = 1; alias_map = LookupMap {\n",
       "    prefix: [\n",
       "        108,\n",
       "    ],\n",
       "}; account_map = LookupMap {\n",
       "    prefix: [\n",
       "        99,\n",
       "    ],\n",
       "} } }\n",
       "14:58:58 \u001B[94m  debug\u001B[39m #6 spiral_wasm.print_usd / { total_gas_burnt_usd = +0.001188; total_gas_burnt = 1778680544885 }\n",
       "14:58:58 \u001B[94m  debug\u001B[39m #7 spiral_wasm.print_usd / outcome / { is_success = true; gas_burnt_usd = +0.000206; tokens_burnt_usd = +0.000206; gas_burnt = 308081859340; tokens_burnt = 30808185934000000000 }\n",
       "14:58:58 \u001B[94m  debug\u001B[39m #8 spiral_wasm.print_usd / outcome / { is_success = true; gas_burnt_usd = +0.000982; tokens_burnt_usd = +0.000982; gas_burnt = 1470598685545; tokens_burnt = 147059868554500000000 }\n",
       "14:58:58 \u001B[90mverbose\u001B[39m #9 spiral_wasm.run / { result2 = Ok(\n",
       "    ExecutionResult {\n",
       "        total_gas_burnt: NearGas {\n",
       "            inner: 1778680544885,\n",
       "        },\n",
       "        transaction: ExecutionOutcome {\n",
       "            transaction_hash: 2ANvyEoag9h5mpJhFTf4oPLr9L5QKiKs7ABiFPPF5zYQ,\n",
       "            block_hash: 2zaqX2bswWF1aePjSmFGoTB7GiZ684MGq2wDLC35iHUK,\n",
       "            logs: [],\n",
       "            receipt_ids: [\n",
       "                3vFKLjYv7myRS2jXpzEtiVzKuJyT7dn7zVjunYTtDE6B,\n",
       "            ],\n",
       "            gas_burnt: NearGas {\n",
       "                inner: 308081859340,\n",
       "            },\n",
       "            tokens_burnt: NearToken {\n",
       "                inner: 30808185934000000000,\n",
       "            },\n",
       "            executor_id: AccountId(\n",
       "                \"dev-20240822175856-47650502035559\",\n",
       "            ),\n",
       "            status: SuccessReceiptId(3vFKLjYv7myRS2jXpzEtiVzKuJyT7dn7zVjunYTtDE6B),\n",
       "        },\n",
       "        receipts: [\n",
       "            ExecutionOutcome {\n",
       "                transaction_hash: 3vFKLjYv7myRS2jXpzEtiVzKuJyT7dn7zVjunYTtDE6B,\n",
       "                block_hash: 2zaqX2bswWF1aePjSmFGoTB7GiZ684MGq2wDLC35iHUK,\n",
       "                logs: [\n",
       "                    \"00:00:00 \\u{1b}[90mverbose\\u{1b}[39m #1 trace / { trace1 = 1; trace2 = 2 }\",\n",
       "                    \"00:00:00 \\u{1b}[90mverbose\\u{1b}[39m #2 trace / { state = { version = 1; alias_map = LookupMap {\\n    prefix: [\\n        108,\\n    ],\\n}; account_map = LookupMap {\\n    prefix: [\\n        99,\\n    ],\\n} } }\",\n",
       "                ],\n",
       "                receipt_ids: [\n",
       "                    DTRsdf7gBYhBLReYZ1M2iBwpAMNyW7s3rhHnx2x2jsr5,\n",
       "                ],\n",
       "                gas_burnt: NearGas {\n",
       "                    inner: 1470598685545,\n",
       "                },\n",
       "                tokens_burnt: NearToken {\n",
       "                    inner: 147059868554500000000,\n",
       "                },\n",
       "                executor_id: AccountId(\n",
       "                    \"dev-20240822175856-47650502035559\",\n",
       "                ),\n",
       "                status: SuccessValue(''),\n",
       "            },\n",
       "        ],\n",
       "        value: Value {\n",
       "            repr: \"\",\n",
       "        },\n",
       "    },\n",
       ") }\n",
       "14:58:58 \u001B[90mverbose\u001B[39m #10 spiral_wasm.run / { receipt_failures = [] }\n",
       "14:58:58 \u001B[90mverbose\u001B[39m #11 spiral_wasm.run / { receipt_outcomes = [\n",
       "    ExecutionOutcome {\n",
       "        transaction_hash: 3vFKLjYv7myRS2jXpzEtiVzKuJyT7dn7zVjunYTtDE6B,\n",
       "        block_hash: 2zaqX2bswWF1aePjSmFGoTB7GiZ684MGq2wDLC35iHUK,\n",
       "        logs: [\n",
       "            \"00:00:00 \\u{1b}[90mverbose\\u{1b}[39m #1 trace / { trace1 = 1; trace2 = 2 }\",\n",
       "            \"00:00:00 \\u{1b}[90mverbose\\u{1b}[39m #2 trace / { state = { version = 1; alias_map = LookupMap {\\n    prefix: [\\n        108,\\n    ],\\n}; account_map = LookupMap {\\n    prefix: [\\n        99,\\n    ],\\n} } }\",\n",
       "        ],\n",
       "        receipt_ids: [\n",
       "            DTRsdf7gBYhBLReYZ1M2iBwpAMNyW7s3rhHnx2x2jsr5,\n",
       "        ],\n",
       "        gas_burnt: NearGas {\n",
       "            inner: 1470598685545,\n",
       "        },\n",
       "        tokens_burnt: NearToken {\n",
       "            inner: 147059868554500000000,\n",
       "        },\n",
       "        executor_id: AccountId(\n",
       "            \"dev-20240822175856-47650502035559\",\n",
       "        ),\n",
       "        status: SuccessValue(''),\n",
       "    },\n",
       "] }\n",
       "14:58:58 \u001B[90mverbose\u001B[39m #12 spiral_wasm.run / { json = Err(\n",
       "    Error {\n",
       "        repr: Custom {\n",
       "            kind: DataConversion,\n",
       "            error: \"the function call returned an empty value, which cannot be parsed as JSON\",\n",
       "        },\n",
       "    },\n",
       ") }\n",
       "14:58:58 \u001B[90mverbose\u001B[39m #13 spiral_wasm.run / { borsh = Err(\n",
       "    Error {\n",
       "        repr: Custom {\n",
       "            kind: DataConversion,\n",
       "            error: Custom {\n",
       "                kind: InvalidData,\n",
       "                error: \"Unexpected length of input\",\n",
       "            },\n",
       "        },\n",
       "    },\n",
       ") }\n"
      ]
     },
     "metadata": {},
     "output_type": "display_data"
    }
   ],
   "source": [
    "//// test\n",
    "///! rust -c=-t=Verbose\n",
    "\n",
    "inl state = new () |> sm'.format\n",
    "trace Verbose (fun () => \"trace\") fun () => { trace1 = 1i32; trace2 = \"2\" }\n",
    "trace Verbose (fun () => \"trace\") fun () => { state }"
   ]
  },
  {
   "cell_type": "markdown",
   "metadata": {},
   "source": [
    "### main"
   ]
  },
  {
   "cell_type": "code",
   "execution_count": null,
   "metadata": {
    "dotnet_interactive": {
     "language": "spiral"
    },
    "polyglot_notebook": {
     "kernelName": "spiral"
    }
   },
   "outputs": [],
   "source": [
    "///! _\n",
    "\n",
    "// inl is_valid_alias (alias : rust.ref sm'.str) : bool =\n",
    "//     str_len alias > 0\n",
    "//     && str_len alias < 64\n",
    "//     && alias |> sm'.starts_with \"-\"\n",
    "//     && alias |> sm'.ends_with \"-\"\n",
    "//     && alias |> sm'.chars |>\n",
    "\n",
    "inl main () =\n",
    "    !\\($'\"} //\"') : ()\n",
    "\n",
    "    !\\($'\"#[near_sdk::near_bindgen] //\"') : ()\n",
    "\n",
    "    !\\($'\"#[derive( //\"') : ()\n",
    "    !\\($'\"  near_sdk::PanicOnDefault, //\"') : ()\n",
    "    !\\($'\"  borsh::BorshDeserialize, //\"') : ()\n",
    "    !\\($'\"  borsh::BorshSerialize, //\"') : ()\n",
    "    !\\($'\")] //\"') : ()\n",
    "\n",
    "    !\\($'\"pub struct State { //\"') : ()\n",
    "    !\\($'\"} //\"') : ()\n",
    "\n",
    "\n",
    "    !\\($'\"#[near_sdk::near_bindgen] //\"') : ()\n",
    "    !\\($'\"impl State { //\"') : ()\n",
    "\n",
    "    !\\($'\"#[init] //\"') : ()\n",
    "    !\\($'\"pub fn new() -> Self { //\"') : ()\n",
    "    !\\($'\"  Self { //\"') : ()\n",
    "    !\\($'\"  } //\"') : ()\n",
    "    !\\($'\"} //\"') : ()\n",
    "\n",
    "    !\\($'\"#[result_serializer(borsh)] //\"') : ()\n",
    "    !\\($'\"pub fn generate_cid_borsh( //\"') : ()\n",
    "    !\\($'\"  &self, //\"') : ()\n",
    "    !\\($'\"  #[serializer(borsh)] content: Vec<u8>, //\"') : ()\n",
    "    !\\($'\") -> String { //\"') : ()\n",
    "    !\\($'\"\\\\\\\"\\\\\\\".to_string() //\"') : ()\n",
    "    !\\($'\"} //\"') : ()\n",
    "\n",
    "    !\\($'\"pub fn claim_alias( //\"') : ()\n",
    "    !\\($'\"  &mut self, //\"') : ()\n",
    "    !\\($'\"  alias: String, //\"') : ()\n",
    "    !\\($'\") { //\"') : ()\n",
    "    !\\($'\"} //\"') : ()\n",
    "\n",
    "    !\\($'\"pub fn get_account_info( //\"') : ()\n",
    "    !\\($'\"  &self, //\"') : ()\n",
    "    !\\($'\"  account_id: near_sdk::AccountId, //\"') : ()\n",
    "    !\\($'\") -> Option<(String, (u64, u32))> { //\"') : ()\n",
    "    !\\($'\"None //\"') : ()\n",
    "    !\\($'\"} //\"') : ()\n",
    "\n",
    "    !\\($'\"pub fn get_alias_map( //\"') : ()\n",
    "    !\\($'\"  &self, //\"') : ()\n",
    "    !\\($'\"  alias: String, //\"') : ()\n",
    "    !\\($'\") -> Option<std::collections::HashMap<near_sdk::AccountId, (u64, u32)>> { //\"') : ()\n",
    "    !\\($'\"None //\"') : ()\n",
    "    !\\($'\"} //\"') : ()\n",
    "\n",
    "    !\\($'\"#[result_serializer(borsh)] //\"') : ()\n",
    "    !\\($'\"pub fn get_alias_map_borsh( //\"') : ()\n",
    "    !\\($'\"  &self, //\"') : ()\n",
    "    !\\($'\"  #[serializer(borsh)] alias: String, //\"') : ()\n",
    "    !\\($'\") -> Option<std::collections::HashMap<near_sdk::AccountId, (u64, u32)>> { //\"') : ()\n",
    "    !\\($'\"None //\"') : ()\n",
    "    !\\($'\"} //\"') : ()\n",
    "\n",
    "    !\\($'\"} //\"') : ()\n",
    "\n",
    "    !\\($'\"fn _main() { //\"') : ()\n",
    "\n",
    "inl main () =\n",
    "    $'!main |> ignore' : ()"
   ]
  }
 ],
 "metadata": {},
 "nbformat": 4,
 "nbformat_minor": 5
}