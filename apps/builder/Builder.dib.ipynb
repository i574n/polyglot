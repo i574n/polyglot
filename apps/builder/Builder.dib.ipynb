{
 "cells": [
  {
   "cell_type": "markdown",
   "metadata": {},
   "source": [
    "# Builder (Polyglot)"
   ]
  },
  {
   "cell_type": "code",
   "execution_count": null,
   "metadata": {
    "dotnet_interactive": {
     "language": "fsharp"
    },
    "polyglot_notebook": {
     "kernelName": "fsharp"
    }
   },
   "outputs": [],
   "source": [
    "#r @\"../../../../../../../.nuget/packages/fsharp.control.asyncseq/3.2.1/lib/netstandard2.1/FSharp.Control.AsyncSeq.dll\"\n",
    "#r @\"../../../../../../../.nuget/packages/system.reactive/6.0.1-preview.1/lib/net6.0/System.Reactive.dll\"\n",
    "#r @\"../../../../../../../.nuget/packages/system.reactive.linq/6.0.1-preview.1/lib/netstandard2.0/System.Reactive.Linq.dll\"\n",
    "#r @\"../../../../../../../.nuget/packages/argu/6.2.4/lib/netstandard2.0/Argu.dll\""
   ]
  },
  {
   "cell_type": "code",
   "execution_count": null,
   "metadata": {
    "dotnet_interactive": {
     "language": "fsharp"
    },
    "polyglot_notebook": {
     "kernelName": "fsharp"
    }
   },
   "outputs": [],
   "source": [
    "#!import ../../lib/fsharp/Notebooks.dib\n",
    "#!import ../../lib/fsharp/Testing.dib"
   ]
  },
  {
   "cell_type": "code",
   "execution_count": null,
   "metadata": {
    "dotnet_interactive": {
     "language": "fsharp"
    },
    "polyglot_notebook": {
     "kernelName": "fsharp"
    }
   },
   "outputs": [],
   "source": [
    "#!import ../../lib/fsharp/Common.fs\n",
    "#!import ../../lib/fsharp/CommonFSharp.fs\n",
    "#!import ../../lib/fsharp/Async.fs\n",
    "#!import ../../lib/fsharp/AsyncSeq.fs\n",
    "#!import ../../lib/fsharp/Runtime.fs\n",
    "#!import ../../lib/fsharp/FileSystem.fs"
   ]
  },
  {
   "cell_type": "code",
   "execution_count": null,
   "metadata": {
    "dotnet_interactive": {
     "language": "fsharp"
    },
    "polyglot_notebook": {
     "kernelName": "fsharp"
    }
   },
   "outputs": [],
   "source": [
    "#if !INTERACTIVE\n",
    "open Lib\n",
    "#endif"
   ]
  },
  {
   "cell_type": "code",
   "execution_count": null,
   "metadata": {
    "dotnet_interactive": {
     "language": "fsharp"
    },
    "polyglot_notebook": {
     "kernelName": "fsharp"
    }
   },
   "outputs": [],
   "source": [
    "open Common\n",
    "open SpiralFileSystem.Operators"
   ]
  },
  {
   "cell_type": "markdown",
   "metadata": {},
   "source": [
    "## buildProject"
   ]
  },
  {
   "cell_type": "code",
   "execution_count": null,
   "metadata": {
    "dotnet_interactive": {
     "language": "fsharp"
    },
    "polyglot_notebook": {
     "kernelName": "fsharp"
    }
   },
   "outputs": [],
   "source": [
    "let inline buildProject runtime outputDir path = async {\n",
    "    let fullPath = path |> System.IO.Path.GetFullPath\n",
    "    let fileDir = fullPath |> System.IO.Path.GetDirectoryName\n",
    "    let extension = fullPath |> System.IO.Path.GetExtension\n",
    "\n",
    "    trace Debug\n",
    "        (fun () -> \"buildProject\")\n",
    "        (fun () -> $\"fullPath: {fullPath} / {_locals ()}\")\n",
    "\n",
    "    match extension with\n",
    "    | \".fsproj\" -> ()\n",
    "    | _ -> failwith \"Invalid project file\"\n",
    "\n",
    "    let runtimes =\n",
    "        runtime\n",
    "        |> Option.map List.singleton\n",
    "        |> Option.defaultValue [ \"linux-x64\"; \"win-x64\" ]\n",
    "\n",
    "    let outputDir = outputDir |> Option.defaultValue \"dist\"\n",
    "\n",
    "    return!\n",
    "        runtimes\n",
    "        |> List.map (fun runtime -> async {\n",
    "            let command = $@\"dotnet publish \"\"{path}\"\" --configuration Release --output \"\"{outputDir}\"\" --runtime {runtime}\"\n",
    "            let! exitCode, _result =\n",
    "                SpiralRuntime.execution_options (fun x ->\n",
    "                    { x with\n",
    "                        l0 = command\n",
    "                        l6 = Some fileDir\n",
    "                    }\n",
    "                )\n",
    "                |> SpiralRuntime.execute_with_options_async\n",
    "            return exitCode\n",
    "        })\n",
    "        |> Async.Sequential\n",
    "        |> Async.map Array.sum\n",
    "}"
   ]
  },
  {
   "cell_type": "markdown",
   "metadata": {},
   "source": [
    "## persistCodeProject"
   ]
  },
  {
   "cell_type": "code",
   "execution_count": null,
   "metadata": {
    "dotnet_interactive": {
     "language": "fsharp"
    },
    "polyglot_notebook": {
     "kernelName": "fsharp"
    }
   },
   "outputs": [],
   "source": [
    "let inline persistCodeProject packages modules name hash code = async {\n",
    "    trace Debug\n",
    "        (fun () -> \"persistCodeProject\")\n",
    "        (fun () -> $\"packages: {packages} / modules: {modules} / name: {name} / hash: {hash} / code.Length: {code |> String.length} / {_locals ()}\")\n",
    "\n",
    "    let workspaceRoot = SpiralFileSystem.get_workspace_root ()\n",
    "\n",
    "    let targetDir =\n",
    "        let targetDir = workspaceRoot </> \"target/Builder\" </> name\n",
    "        match hash with\n",
    "        | Some hash -> targetDir </> \"packages\" </> hash\n",
    "        | None -> targetDir\n",
    "    targetDir |> System.IO.Directory.CreateDirectory |> ignore\n",
    "\n",
    "    let filePath = targetDir </> $\"{name}.fs\" |> System.IO.Path.GetFullPath\n",
    "    do! code |> SpiralFileSystem.write_all_text_exists filePath\n",
    "\n",
    "    let modulesCode =\n",
    "        modules\n",
    "        |> List.map (fun path -> $\"\"\"<Compile Include=\"{workspaceRoot </> path}\" />\"\"\")\n",
    "        |> SpiralSm.concat \"\\n        \"\n",
    "\n",
    "    let fsprojPath = targetDir </> $\"{name}.fsproj\"\n",
    "    let fsprojCode = $\"\"\"<Project Sdk=\"Microsoft.NET.Sdk\">\n",
    "    <PropertyGroup>\n",
    "        <TargetFramework>net9.0</TargetFramework>\n",
    "        <LangVersion>preview</LangVersion>\n",
    "        <RollForward>Major</RollForward>\n",
    "        <TargetLatestRuntimePatch>true</TargetLatestRuntimePatch>\n",
    "        <PublishAot>false</PublishAot>\n",
    "        <PublishTrimmed>false</PublishTrimmed>\n",
    "        <PublishSingleFile>true</PublishSingleFile>\n",
    "        <SelfContained>true</SelfContained>\n",
    "        <Version>0.0.1-alpha.1</Version>\n",
    "        <OutputType>Exe</OutputType>\n",
    "    </PropertyGroup>\n",
    "\n",
    "    <PropertyGroup Condition=\"$([MSBuild]::IsOSPlatform('FreeBSD'))\">\n",
    "        <DefineConstants>_FREEBSD</DefineConstants>\n",
    "    </PropertyGroup>\n",
    "\n",
    "    <PropertyGroup Condition=\"$([MSBuild]::IsOSPlatform('Linux'))\">\n",
    "        <DefineConstants>_LINUX</DefineConstants>\n",
    "    </PropertyGroup>\n",
    "\n",
    "    <PropertyGroup Condition=\"$([MSBuild]::IsOSPlatform('OSX'))\">\n",
    "        <DefineConstants>_OSX</DefineConstants>\n",
    "    </PropertyGroup>\n",
    "\n",
    "    <PropertyGroup Condition=\"$([MSBuild]::IsOSPlatform('Windows'))\">\n",
    "        <DefineConstants>_WINDOWS</DefineConstants>\n",
    "    </PropertyGroup>\n",
    "\n",
    "    <ItemGroup>\n",
    "        {modulesCode}\n",
    "        <Compile Include=\"{filePath}\" />\n",
    "    </ItemGroup>\n",
    "\n",
    "    <Import Project=\"{workspaceRoot}/.paket/Paket.Restore.targets\" />\n",
    "</Project>\n",
    "\"\"\"\n",
    "    do! fsprojCode |> SpiralFileSystem.write_all_text_exists fsprojPath\n",
    "\n",
    "    let paketReferencesPath = targetDir </> \"paket.references\"\n",
    "    let paketReferencesCode =\n",
    "        \"FSharp.Core\" :: packages\n",
    "        |> SpiralSm.concat \"\\n\"\n",
    "    do! paketReferencesCode |> SpiralFileSystem.write_all_text_exists paketReferencesPath\n",
    "\n",
    "    return fsprojPath\n",
    "}"
   ]
  },
  {
   "cell_type": "markdown",
   "metadata": {},
   "source": [
    "## buildCode"
   ]
  },
  {
   "cell_type": "code",
   "execution_count": null,
   "metadata": {
    "dotnet_interactive": {
     "language": "fsharp"
    },
    "polyglot_notebook": {
     "kernelName": "fsharp"
    }
   },
   "outputs": [],
   "source": [
    "let inline buildCode runtime packages modules outputDir name code = async {\n",
    "    let! fsprojPath = code |> persistCodeProject packages modules name None\n",
    "    let! exitCode = fsprojPath |> buildProject runtime outputDir\n",
    "    if exitCode <> 0 then\n",
    "        let! fsprojText = fsprojPath |> SpiralFileSystem.read_all_text_async\n",
    "        trace Critical\n",
    "            (fun () -> \"buildCode\")\n",
    "            (fun () -> $\"code: {code |> SpiralSm.ellipsis_end 400} / fsprojText: {fsprojText} / {_locals ()}\")\n",
    "    return exitCode\n",
    "}"
   ]
  },
  {
   "cell_type": "code",
   "execution_count": null,
   "metadata": {
    "dotnet_interactive": {
     "language": "fsharp"
    },
    "polyglot_notebook": {
     "kernelName": "fsharp"
    }
   },
   "outputs": [
    {
     "name": "stdout",
     "output_type": "stream",
     "text": [
      "00:00:02 \u001B[94md\u001B[0m #1 persistCodeProject / packages: [] / modules: [] / name: test1 / hash:  / code.Length: 15\n",
      "00:00:02 \u001B[94md\u001B[0m #2 buildProject / fullPath: /home/runner/work/polyglot/polyglot/target/Builder/test1/test1.fsproj\n",
      "00:00:04 \u001B[94md\u001B[0m #1 runtime.execute_with_options_async / { file_name = dotnet; arguments = US5_0\n",
      "  \"publish \"/home/runner/work/polyglot/polyglot/target/Builder/test1/test1.fsproj\" --configuration Release --output \"dist\" --runtime linux-x64\"; options = { command = dotnet publish \"/home/runner/work/polyglot/polyglot/target/Builder/test1/test1.fsproj\" --configuration Release --output \"dist\" --runtime linux-x64; cancellation_token = None; environment_variables = [||]; on_line = None; stdin = None; trace = true; working_directory = Some \"/home/runner/work/polyglot/polyglot/target/Builder/test1\" } }\n",
      "00:00:05 \u001B[90mv\u001B[0m #2 > MSBuild version 17.10.0-preview-24101-01+07fd5d51f for .NET\n",
      "00:00:05 \u001B[90mv\u001B[0m #3 >   Determining projects to restore...\n",
      "00:00:05 \u001B[90mv\u001B[0m #4 >   Paket version 8.1.0-alpha004+7aa412f49b32de979c3d5acde07e88e6d47c965b\n",
      "00:00:05 \u001B[90mv\u001B[0m #5 >   The last full restore is still up to date. Nothing left to do.\n",
      "00:00:05 \u001B[90mv\u001B[0m #6 >   Total time taken: 0 milliseconds\n",
      "00:00:06 \u001B[90mv\u001B[0m #7 >   Paket version 8.1.0-alpha004+7aa412f49b32de979c3d5acde07e88e6d47c965b\n",
      "00:00:06 \u001B[90mv\u001B[0m #8 >   Restoring /home/runner/work/polyglot/polyglot/target/Builder/test1/test1.fsproj\n",
      "00:00:06 \u001B[90mv\u001B[0m #9 >   Starting restore process.\n",
      "00:00:06 \u001B[90mv\u001B[0m #10 >   Total time taken: 0 milliseconds\n",
      "00:00:09 \u001B[90mv\u001B[0m #11 >   Restored /home/runner/work/polyglot/polyglot/target/Builder/test1/test1.fsproj (in 1.92 sec).\n",
      "00:00:09 \u001B[90mv\u001B[0m #12 > /usr/share/dotnet/sdk/9.0.100-preview.1.24101.2/Sdks/Microsoft.NET.Sdk/targets/Microsoft.NET.RuntimeIdentifierInference.targets(313,5): message NETSDK1057: You are using a preview version of .NET. See: https://aka.ms/dotnet-support-policy [/home/runner/work/polyglot/polyglot/target/Builder/test1/test1.fsproj]\n",
      "00:00:10 \u001B[90mv\u001B[0m #13 > /home/runner/work/polyglot/polyglot/target/Builder/test1/test1.fs(1,16): warning FS0988: Main module of program is empty: nothing will happen when it is run [/home/runner/work/polyglot/polyglot/target/Builder/test1/test1.fsproj]\n",
      "00:00:10 \u001B[90mv\u001B[0m #14 >   test1 -> /home/runner/work/polyglot/polyglot/target/Builder/test1/bin/Release/net9.0/linux-x64/test1.dll\n",
      "00:00:11 \u001B[90mv\u001B[0m #15 >   test1 -> /home/runner/work/polyglot/polyglot/target/Builder/test1/dist\n",
      "00:00:11 \u001B[94md\u001B[0m #16 runtime.execute_with_options_async / { exit_code = 0; output_length = 1302 }\n",
      "00:00:11 \u001B[94md\u001B[0m #17 runtime.execute_with_options_async / { file_name = dotnet; arguments = US5_0\n",
      "  \"publish \"/home/runner/work/polyglot/polyglot/target/Builder/test1/test1.fsproj\" --configuration Release --output \"dist\" --runtime win-x64\"; options = { command = dotnet publish \"/home/runner/work/polyglot/polyglot/target/Builder/test1/test1.fsproj\" --configuration Release --output \"dist\" --runtime win-x64; cancellation_token = None; environment_variables = [||]; on_line = None; stdin = None; trace = true; working_directory = Some \"/home/runner/work/polyglot/polyglot/target/Builder/test1\" } }\n",
      "00:00:11 \u001B[90mv\u001B[0m #18 > MSBuild version 17.10.0-preview-24101-01+07fd5d51f for .NET\n",
      "00:00:11 \u001B[90mv\u001B[0m #19 >   Determining projects to restore...\n",
      "00:00:15 \u001B[90mv\u001B[0m #20 >   Restored /home/runner/work/polyglot/polyglot/target/Builder/test1/test1.fsproj (in 2.97 sec).\n",
      "00:00:15 \u001B[90mv\u001B[0m #21 > /usr/share/dotnet/sdk/9.0.100-preview.1.24101.2/Sdks/Microsoft.NET.Sdk/targets/Microsoft.NET.RuntimeIdentifierInference.targets(313,5): message NETSDK1057: You are using a preview version of .NET. See: https://aka.ms/dotnet-support-policy [/home/runner/work/polyglot/polyglot/target/Builder/test1/test1.fsproj]\n",
      "00:00:16 \u001B[90mv\u001B[0m #22 > /home/runner/work/polyglot/polyglot/target/Builder/test1/test1.fs(1,16): warning FS0988: Main module of program is empty: nothing will happen when it is run [/home/runner/work/polyglot/polyglot/target/Builder/test1/test1.fsproj]\n",
      "00:00:16 \u001B[90mv\u001B[0m #23 >   test1 -> /home/runner/work/polyglot/polyglot/target/Builder/test1/bin/Release/net9.0/win-x64/test1.dll\n",
      "00:00:17 \u001B[90mv\u001B[0m #24 >   test1 -> /home/runner/work/polyglot/polyglot/target/Builder/test1/dist\n",
      "00:00:17 \u001B[94md\u001B[0m #25 runtime.execute_with_options_async / { exit_code = 0; output_length = 911 }\n",
      "Some 0\n",
      "\n"
     ]
    }
   ],
   "source": [
    "//// test\n",
    "\n",
    "\"1 + 1 |> ignore\"\n",
    "|> buildCode None [] [] None \"test1\"\n",
    "|> Async.runWithTimeout 180000\n",
    "|> _assertEqual (Some 0)"
   ]
  },
  {
   "cell_type": "code",
   "execution_count": null,
   "metadata": {
    "dotnet_interactive": {
     "language": "fsharp"
    },
    "polyglot_notebook": {
     "kernelName": "fsharp"
    }
   },
   "outputs": [
    {
     "name": "stdout",
     "output_type": "stream",
     "text": [
      "00:00:14 \u001B[94md\u001B[0m #3 persistCodeProject / packages: [] / modules: [] / name: test2 / hash:  / code.Length: 15\n",
      "00:00:14 \u001B[94md\u001B[0m #4 buildProject / fullPath: /home/runner/work/polyglot/polyglot/target/Builder/test2/test2.fsproj\n",
      "00:00:17 \u001B[94md\u001B[0m #26 runtime.execute_with_options_async / { file_name = dotnet; arguments = US5_0\n",
      "  \"publish \"/home/runner/work/polyglot/polyglot/target/Builder/test2/test2.fsproj\" --configuration Release --output \"dist\" --runtime linux-x64\"; options = { command = dotnet publish \"/home/runner/work/polyglot/polyglot/target/Builder/test2/test2.fsproj\" --configuration Release --output \"dist\" --runtime linux-x64; cancellation_token = None; environment_variables = [||]; on_line = None; stdin = None; trace = true; working_directory = Some \"/home/runner/work/polyglot/polyglot/target/Builder/test2\" } }\n",
      "00:00:17 \u001B[90mv\u001B[0m #27 > MSBuild version 17.10.0-preview-24101-01+07fd5d51f for .NET\n",
      "00:00:18 \u001B[90mv\u001B[0m #28 >   Determining projects to restore...\n",
      "00:00:18 \u001B[90mv\u001B[0m #29 >   Paket version 8.1.0-alpha004+7aa412f49b32de979c3d5acde07e88e6d47c965b\n",
      "00:00:18 \u001B[90mv\u001B[0m #30 >   The last full restore is still up to date. Nothing left to do.\n",
      "00:00:18 \u001B[90mv\u001B[0m #31 >   Total time taken: 0 milliseconds\n",
      "00:00:18 \u001B[90mv\u001B[0m #32 >   Paket version 8.1.0-alpha004+7aa412f49b32de979c3d5acde07e88e6d47c965b\n",
      "00:00:18 \u001B[90mv\u001B[0m #33 >   Restoring /home/runner/work/polyglot/polyglot/target/Builder/test2/test2.fsproj\n",
      "00:00:19 \u001B[90mv\u001B[0m #34 >   Starting restore process.\n",
      "00:00:19 \u001B[90mv\u001B[0m #35 >   Total time taken: 0 milliseconds\n",
      "00:00:19 \u001B[90mv\u001B[0m #36 >   Restored /home/runner/work/polyglot/polyglot/target/Builder/test2/test2.fsproj (in 257 ms).\n",
      "00:00:19 \u001B[90mv\u001B[0m #37 > /usr/share/dotnet/sdk/9.0.100-preview.1.24101.2/Sdks/Microsoft.NET.Sdk/targets/Microsoft.NET.RuntimeIdentifierInference.targets(313,5): message NETSDK1057: You are using a preview version of .NET. See: https://aka.ms/dotnet-support-policy [/home/runner/work/polyglot/polyglot/target/Builder/test2/test2.fsproj]\n",
      "00:00:20 \u001B[90mv\u001B[0m #38 > /home/runner/work/polyglot/polyglot/target/Builder/test2/test2.fs(1,5): error FS0039: The value or constructor 'a' is not defined. [/home/runner/work/polyglot/polyglot/target/Builder/test2/test2.fsproj]\n",
      "00:00:20 \u001B[94md\u001B[0m #39 runtime.execute_with_options_async / { exit_code = 1; output_length = 1093 }\n",
      "00:00:20 \u001B[94md\u001B[0m #40 runtime.execute_with_options_async / { file_name = dotnet; arguments = US5_0\n",
      "  \"publish \"/home/runner/work/polyglot/polyglot/target/Builder/test2/test2.fsproj\" --configuration Release --output \"dist\" --runtime win-x64\"; options = { command = dotnet publish \"/home/runner/work/polyglot/polyglot/target/Builder/test2/test2.fsproj\" --configuration Release --output \"dist\" --runtime win-x64; cancellation_token = None; environment_variables = [||]; on_line = None; stdin = None; trace = true; working_directory = Some \"/home/runner/work/polyglot/polyglot/target/Builder/test2\" } }\n",
      "00:00:21 \u001B[90mv\u001B[0m #41 > MSBuild version 17.10.0-preview-24101-01+07fd5d51f for .NET\n",
      "00:00:21 \u001B[90mv\u001B[0m #42 >   Determining projects to restore...\n",
      "00:00:22 \u001B[90mv\u001B[0m #43 >   Restored /home/runner/work/polyglot/polyglot/target/Builder/test2/test2.fsproj (in 252 ms).\n",
      "00:00:22 \u001B[90mv\u001B[0m #44 > /usr/share/dotnet/sdk/9.0.100-preview.1.24101.2/Sdks/Microsoft.NET.Sdk/targets/Microsoft.NET.RuntimeIdentifierInference.targets(313,5): message NETSDK1057: You are using a preview version of .NET. See: https://aka.ms/dotnet-support-policy [/home/runner/work/polyglot/polyglot/target/Builder/test2/test2.fsproj]\n",
      "00:00:23 \u001B[90mv\u001B[0m #45 > /home/runner/work/polyglot/polyglot/target/Builder/test2/test2.fs(1,5): error FS0039: The value or constructor 'a' is not defined. [/home/runner/work/polyglot/polyglot/target/Builder/test2/test2.fsproj]\n",
      "00:00:23 \u001B[94md\u001B[0m #46 runtime.execute_with_options_async / { exit_code = 1; output_length = 704 }\n",
      "00:00:20 \u001B[91mc\u001B[0m #5 buildCode / code: 1 + a |> ignore / fsprojText: <Project Sdk=\"Microsoft.NET.Sdk\">\n",
      "    <PropertyGroup>\n",
      "        <TargetFramework>net9.0</TargetFramework>\n",
      "        <LangVersion>preview</LangVersion>\n",
      "        <RollForward>Major</RollForward>\n",
      "        <TargetLatestRuntimePatch>true</TargetLatestRuntimePatch>\n",
      "        <PublishAot>false</PublishAot>\n",
      "        <PublishTrimmed>false</PublishTrimmed>\n",
      "        <PublishSingleFile>true</PublishSingleFile>\n",
      "        <SelfContained>true</SelfContained>\n",
      "        <Version>0.0.1-alpha.1</Version>\n",
      "        <OutputType>Exe</OutputType>\n",
      "    </PropertyGroup>\n",
      "\n",
      "    <PropertyGroup Condition=\"$([MSBuild]::IsOSPlatform('FreeBSD'))\">\n",
      "        <DefineConstants>_FREEBSD</DefineConstants>\n",
      "    </PropertyGroup>\n",
      "\n",
      "    <PropertyGroup Condition=\"$([MSBuild]::IsOSPlatform('Linux'))\">\n",
      "        <DefineConstants>_LINUX</DefineConstants>\n",
      "    </PropertyGroup>\n",
      "\n",
      "    <PropertyGroup Condition=\"$([MSBuild]::IsOSPlatform('OSX'))\">\n",
      "        <DefineConstants>_OSX</DefineConstants>\n",
      "    </PropertyGroup>\n",
      "\n",
      "    <PropertyGroup Condition=\"$([MSBuild]::IsOSPlatform('Windows'))\">\n",
      "        <DefineConstants>_WINDOWS</DefineConstants>\n",
      "    </PropertyGroup>\n",
      "\n",
      "    <ItemGroup>\n",
      "        \n",
      "        <Compile Include=\"/home/runner/work/polyglot/polyglot/target/Builder/test2/test2.fs\" />\n",
      "    </ItemGroup>\n",
      "\n",
      "    <Import Project=\"/home/runner/work/polyglot/polyglot/.paket/Paket.Restore.targets\" />\n",
      "</Project>\n",
      "\n",
      "Some 2\n",
      "\n"
     ]
    }
   ],
   "source": [
    "//// test\n",
    "\n",
    "\"1 + a |> ignore\"\n",
    "|> buildCode None [] [] None \"test2\"\n",
    "|> Async.runWithTimeout 180000\n",
    "|> _assertEqual (Some 2)"
   ]
  },
  {
   "cell_type": "markdown",
   "metadata": {},
   "source": [
    "## readFile"
   ]
  },
  {
   "cell_type": "code",
   "execution_count": null,
   "metadata": {
    "dotnet_interactive": {
     "language": "fsharp"
    },
    "polyglot_notebook": {
     "kernelName": "fsharp"
    }
   },
   "outputs": [],
   "source": [
    "let inline readFile path = async {\n",
    "    let! code = path |> SpiralFileSystem.read_all_text_async\n",
    "\n",
    "    let code = System.Text.RegularExpressions.Regex.Replace (\n",
    "        code,\n",
    "        @\"( *)(let\\s+main\\s+.*?\\s*=)\",\n",
    "        fun m -> m.Groups.[1].Value + \"[<EntryPoint>]\\n\" + m.Groups.[1].Value + m.Groups.[2].Value\n",
    "    )\n",
    "\n",
    "    let codeTrim = code |> SpiralSm.trim_end [||]\n",
    "    return\n",
    "        if codeTrim |> SpiralSm.ends_with \"\\n()\"\n",
    "        then codeTrim |> SpiralSm.slice 0 ((codeTrim |> String.length) - 3)\n",
    "        else code\n",
    "}"
   ]
  },
  {
   "cell_type": "markdown",
   "metadata": {},
   "source": [
    "## buildFile"
   ]
  },
  {
   "cell_type": "code",
   "execution_count": null,
   "metadata": {
    "dotnet_interactive": {
     "language": "fsharp"
    },
    "polyglot_notebook": {
     "kernelName": "fsharp"
    }
   },
   "outputs": [],
   "source": [
    "let inline buildFile runtime packages modules path = async {\n",
    "    let fullPath = path |> System.IO.Path.GetFullPath\n",
    "    let dir = fullPath |> System.IO.Path.GetDirectoryName\n",
    "    let name = fullPath |> System.IO.Path.GetFileNameWithoutExtension\n",
    "    let! code = fullPath |> readFile\n",
    "    return! code |> buildCode runtime packages modules (dir </> \"dist\" |> Some) name\n",
    "}"
   ]
  },
  {
   "cell_type": "markdown",
   "metadata": {},
   "source": [
    "## persistFile"
   ]
  },
  {
   "cell_type": "code",
   "execution_count": null,
   "metadata": {
    "dotnet_interactive": {
     "language": "fsharp"
    },
    "polyglot_notebook": {
     "kernelName": "fsharp"
    }
   },
   "outputs": [],
   "source": [
    "let inline persistFile packages modules path = async {\n",
    "    let fullPath = path |> System.IO.Path.GetFullPath\n",
    "    let name = fullPath |> System.IO.Path.GetFileNameWithoutExtension\n",
    "    let! code = fullPath |> readFile\n",
    "    return! code |> persistCodeProject packages modules name None\n",
    "}"
   ]
  },
  {
   "cell_type": "markdown",
   "metadata": {},
   "source": [
    "## Arguments"
   ]
  },
  {
   "cell_type": "code",
   "execution_count": null,
   "metadata": {
    "dotnet_interactive": {
     "language": "fsharp"
    },
    "polyglot_notebook": {
     "kernelName": "fsharp"
    }
   },
   "outputs": [],
   "source": [
    "[<RequireQualifiedAccess>]\n",
    "type Arguments =\n",
    "    | [<Argu.ArguAttributes.MainCommand; Argu.ArguAttributes.ExactlyOnce>] Path of path : string\n",
    "    | [<Argu.ArguAttributes.Unique>] Packages of packages : string list\n",
    "    | [<Argu.ArguAttributes.Unique>] Modules of modules : string list\n",
    "    | [<Argu.ArguAttributes.Unique>] Runtime of runtime : string\n",
    "    | [<Argu.ArguAttributes.Unique>] Persist_Only\n",
    "\n",
    "    interface Argu.IArgParserTemplate with\n",
    "        member s.Usage =\n",
    "            match s with\n",
    "            | Path _ -> nameof Path\n",
    "            | Packages _ -> nameof Packages\n",
    "            | Modules _ -> nameof Modules\n",
    "            | Runtime _ -> nameof Runtime\n",
    "            | Persist_Only -> nameof Persist_Only"
   ]
  },
  {
   "cell_type": "code",
   "execution_count": null,
   "metadata": {
    "dotnet_interactive": {
     "language": "fsharp"
    },
    "polyglot_notebook": {
     "kernelName": "fsharp"
    }
   },
   "outputs": [
    {
     "data": {
      "text/plain": [
       "\"USAGE: dotnet-repl [--help] [--packages [<packages>...]]\n",
       "                   [--modules [<modules>...]] [--runtime <runtime>]\n",
       "                   [--persist-only] <path>\n",
       "\n",
       "PATH:\n",
       "\n",
       "    <path>                Path\n",
       "\n",
       "OPTIONS:\n",
       "\n",
       "    --packages [<packages>...]\n",
       "                          Packages\n",
       "    --modules [<modules>...]\n",
       "                          Modules\n",
       "    --runtime <runtime>   Runtime\n",
       "    --persist-only        Persist_Only\n",
       "    --help                display this list of options.\n",
       "\"\n"
      ]
     },
     "metadata": {},
     "output_type": "display_data"
    }
   ],
   "source": [
    "//// test\n",
    "\n",
    "Argu.ArgumentParser.Create<Arguments>().PrintUsage ()"
   ]
  },
  {
   "cell_type": "markdown",
   "metadata": {},
   "source": [
    "## main"
   ]
  },
  {
   "cell_type": "code",
   "execution_count": null,
   "metadata": {
    "dotnet_interactive": {
     "language": "fsharp"
    },
    "polyglot_notebook": {
     "kernelName": "fsharp"
    }
   },
   "outputs": [],
   "source": [
    "let main args =\n",
    "    let argsMap = args |> Runtime.parseArgsMap<Arguments>\n",
    "\n",
    "    let path =\n",
    "        match argsMap.[nameof Arguments.Path] with\n",
    "        | [ Arguments.Path path ] -> Some path\n",
    "        | _ -> None\n",
    "        |> Option.get\n",
    "\n",
    "    let packages =\n",
    "        match argsMap |> Map.tryFind (nameof Arguments.Packages) with\n",
    "        | Some [ Arguments.Packages packages ] -> packages\n",
    "        | _ -> []\n",
    "\n",
    "    let modules =\n",
    "        match argsMap |> Map.tryFind (nameof Arguments.Modules) with\n",
    "        | Some [ Arguments.Modules modules ] -> modules\n",
    "        | _ -> []\n",
    "\n",
    "    let runtime =\n",
    "        match argsMap |> Map.tryFind (nameof Arguments.Runtime) with\n",
    "        | Some [ Arguments.Runtime runtime ] -> Some runtime\n",
    "        | _ -> None\n",
    "\n",
    "    let persistOnly = argsMap |> Map.containsKey (nameof Arguments.Persist_Only)\n",
    "\n",
    "    if persistOnly\n",
    "    then path |> persistFile packages modules |> Async.map (fun _ -> 0)\n",
    "    else path |> buildFile runtime packages modules\n",
    "    |> Async.runWithTimeout (60000 * 60)\n",
    "    |> function\n",
    "        | Some exitCode -> exitCode\n",
    "        | None -> 1"
   ]
  },
  {
   "cell_type": "code",
   "execution_count": null,
   "metadata": {
    "dotnet_interactive": {
     "language": "fsharp"
    },
    "polyglot_notebook": {
     "kernelName": "fsharp"
    }
   },
   "outputs": [
    {
     "data": {
      "text/html": [
       "<div class=\"dni-plaintext\"><pre>0\n",
       "</pre></div><style>\n",
       ".dni-code-hint {\n",
       "    font-style: italic;\n",
       "    overflow: hidden;\n",
       "    white-space: nowrap;\n",
       "}\n",
       ".dni-treeview {\n",
       "    white-space: nowrap;\n",
       "}\n",
       ".dni-treeview td {\n",
       "    vertical-align: top;\n",
       "    text-align: start;\n",
       "}\n",
       "details.dni-treeview {\n",
       "    padding-left: 1em;\n",
       "}\n",
       "table td {\n",
       "    text-align: start;\n",
       "}\n",
       "table tr { \n",
       "    vertical-align: top; \n",
       "    margin: 0em 0px;\n",
       "}\n",
       "table tr td pre \n",
       "{ \n",
       "    vertical-align: top !important; \n",
       "    margin: 0em 0px !important;\n",
       "} \n",
       "table th {\n",
       "    text-align: start;\n",
       "}\n",
       "</style>"
      ]
     },
     "metadata": {},
     "output_type": "display_data"
    },
    {
     "name": "stdout",
     "output_type": "stream",
     "text": [
      "00:00:20 \u001B[94md\u001B[0m #6 persistCodeProject / packages: [Argu; FSharp.Control.AsyncSeq; System.Reactive.Linq] / modules: [lib/spiral/common.fsx; lib/spiral/sm.fsx; lib/spiral/crypto.fsx; ... ] / name: Builder / hash:  / code.Length: 8210\n",
      "00:00:20 \u001B[94md\u001B[0m #7 buildProject / fullPath: /home/runner/work/polyglot/polyglot/target/Builder/Builder/Builder.fsproj\n",
      "00:00:23 \u001B[94md\u001B[0m #47 runtime.execute_with_options_async / { file_name = dotnet; arguments = US5_0\n",
      "  \"publish \"/home/runner/work/polyglot/polyglot/target/Builder/Builder/Builder.fsproj\" --configuration Release --output \"/home/runner/work/polyglot/polyglot/apps/builder/dist\" --runtime linux-x64\"; options = { command = dotnet publish \"/home/runner/work/polyglot/polyglot/target/Builder/Builder/Builder.fsproj\" --configuration Release --output \"/home/runner/work/polyglot/polyglot/apps/builder/dist\" --runtime linux-x64; cancellation_token = None; environment_variables = [||]; on_line = None; stdin = None; trace = true; working_directory = Some \"/home/runner/work/polyglot/polyglot/target/Builder/Builder\" } }\n",
      "00:00:23 \u001B[90mv\u001B[0m #48 > MSBuild version 17.10.0-preview-24101-01+07fd5d51f for .NET\n",
      "00:00:24 \u001B[90mv\u001B[0m #49 >   Determining projects to restore...\n",
      "00:00:24 \u001B[90mv\u001B[0m #50 >   Paket version 8.1.0-alpha004+7aa412f49b32de979c3d5acde07e88e6d47c965b\n",
      "00:00:24 \u001B[90mv\u001B[0m #51 >   The last full restore is still up to date. Nothing left to do.\n",
      "00:00:24 \u001B[90mv\u001B[0m #52 >   Total time taken: 0 milliseconds\n",
      "00:00:24 \u001B[90mv\u001B[0m #53 >   Paket version 8.1.0-alpha004+7aa412f49b32de979c3d5acde07e88e6d47c965b\n",
      "00:00:25 \u001B[90mv\u001B[0m #54 >   Restoring /home/runner/work/polyglot/polyglot/target/Builder/Builder/Builder.fsproj\n",
      "00:00:25 \u001B[90mv\u001B[0m #55 >   Starting restore process.\n",
      "00:00:25 \u001B[90mv\u001B[0m #56 >   Total time taken: 0 milliseconds\n",
      "00:00:26 \u001B[90mv\u001B[0m #57 >   Restored /home/runner/work/polyglot/polyglot/target/Builder/Builder/Builder.fsproj (in 288 ms).\n",
      "00:00:26 \u001B[90mv\u001B[0m #58 > /usr/share/dotnet/sdk/9.0.100-preview.1.24101.2/Sdks/Microsoft.NET.Sdk/targets/Microsoft.NET.RuntimeIdentifierInference.targets(313,5): message NETSDK1057: You are using a preview version of .NET. See: https://aka.ms/dotnet-support-policy [/home/runner/work/polyglot/polyglot/target/Builder/Builder/Builder.fsproj]\n",
      "00:00:35 \u001B[90mv\u001B[0m #59 >   Builder -> /home/runner/work/polyglot/polyglot/target/Builder/Builder/bin/Release/net9.0/linux-x64/Builder.dll\n",
      "00:00:35 \u001B[90mv\u001B[0m #60 >   Builder -> /home/runner/work/polyglot/polyglot/apps/builder/dist\n",
      "00:00:35 \u001B[94md\u001B[0m #61 runtime.execute_with_options_async / { exit_code = 0; output_length = 1083 }\n"
     ]
    }
   ],
   "source": [
    "//// test\n",
    "\n",
    "let args =\n",
    "    System.Environment.GetEnvironmentVariable \"ARGS\"\n",
    "    |> SpiralRuntime.split_args\n",
    "    |> Result.toArray\n",
    "    |> Array.collect id\n",
    "\n",
    "match args with\n",
    "| [||] -> 0\n",
    "| args -> if main args = 0 then 0 else failwith \"main failed\""
   ]
  }
 ],
 "metadata": {},
 "nbformat": 4,
 "nbformat_minor": 5
}