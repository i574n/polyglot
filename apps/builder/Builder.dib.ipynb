{
 "cells": [
  {
   "cell_type": "markdown",
   "metadata": {},
   "source": [
    "# Builder (Polyglot)"
   ]
  },
  {
   "cell_type": "code",
   "execution_count": null,
   "metadata": {
    "dotnet_interactive": {
     "language": "fsharp"
    },
    "polyglot_notebook": {
     "kernelName": "fsharp"
    }
   },
   "outputs": [],
   "source": [
    "#!import ../../lib/fsharp/Notebooks.dib\n",
    "#!import ../../lib/fsharp/Testing.dib"
   ]
  },
  {
   "cell_type": "code",
   "execution_count": null,
   "metadata": {
    "dotnet_interactive": {
     "language": "fsharp"
    },
    "polyglot_notebook": {
     "kernelName": "fsharp"
    }
   },
   "outputs": [],
   "source": [
    "#r @\"../../../../../../../.nuget/packages/fsharp.control.asyncseq/3.2.1/lib/netstandard2.1/FSharp.Control.AsyncSeq.dll\"\n",
    "#r @\"../../../../../../../.nuget/packages/system.reactive/6.0.1-preview.1/lib/net6.0/System.Reactive.dll\"\n",
    "#r @\"../../../../../../../.nuget/packages/system.reactive.linq/6.0.1-preview.1/lib/netstandard2.0/System.Reactive.Linq.dll\"\n",
    "#r @\"../../../../../../../.nuget/packages/argu/6.1.5/lib/netstandard2.0/Argu.dll\"\n",
    "#r @\"../../../../../../../.nuget/packages/system.commandline/2.0.0-beta4.22272.1/lib/net6.0/System.CommandLine.dll\""
   ]
  },
  {
   "cell_type": "code",
   "execution_count": null,
   "metadata": {
    "dotnet_interactive": {
     "language": "fsharp"
    },
    "polyglot_notebook": {
     "kernelName": "fsharp"
    }
   },
   "outputs": [],
   "source": [
    "#!import ../../lib/fsharp/Common.fs\n",
    "#!import ../../lib/fsharp/CommonFSharp.fs\n",
    "#!import ../../lib/fsharp/Async.fs\n",
    "#!import ../../lib/fsharp/AsyncSeq.fs\n",
    "#!import ../../lib/fsharp/Networking.fs\n",
    "#!import ../../lib/fsharp/Runtime.fs\n",
    "#!import ../../lib/fsharp/FileSystem.fs"
   ]
  },
  {
   "cell_type": "code",
   "execution_count": null,
   "metadata": {
    "dotnet_interactive": {
     "language": "fsharp"
    },
    "polyglot_notebook": {
     "kernelName": "fsharp"
    }
   },
   "outputs": [],
   "source": [
    "open Common\n",
    "open FileSystem.Operators"
   ]
  },
  {
   "cell_type": "markdown",
   "metadata": {},
   "source": [
    "## buildProject"
   ]
  },
  {
   "cell_type": "code",
   "execution_count": null,
   "metadata": {
    "dotnet_interactive": {
     "language": "fsharp"
    },
    "polyglot_notebook": {
     "kernelName": "fsharp"
    }
   },
   "outputs": [],
   "source": [
    "let inline buildProject runtime outputDir path = async {\n",
    "    let fullPath = path |> System.IO.Path.GetFullPath\n",
    "    let fileDir = fullPath |> System.IO.Path.GetDirectoryName\n",
    "    let extension = fullPath |> System.IO.Path.GetExtension\n",
    "\n",
    "    let getLocals () = $\"fullPath: {fullPath} / {getLocals ()}\"\n",
    "    trace Debug (fun () -> \"buildProject\") getLocals\n",
    "\n",
    "    match extension with\n",
    "    | \".fsproj\" -> ()\n",
    "    | _ -> failwith \"Invalid project file\"\n",
    "\n",
    "    let runtimes =\n",
    "        runtime\n",
    "        |> Option.map List.singleton\n",
    "        |> Option.defaultValue [ \"linux-x64\"; \"win-x64\" ]\n",
    "    \n",
    "    let outputDir = outputDir |> Option.defaultValue \"dist\"\n",
    "\n",
    "    return!\n",
    "        runtimes\n",
    "        |> List.map (fun runtime -> async {\n",
    "            let! exitCode, _result =\n",
    "                Runtime.executeWithOptionsAsync\n",
    "                    {\n",
    "                        Command = $@\"dotnet publish \"\"{path}\"\" --configuration Release --output \"\"{outputDir}\"\" --runtime {runtime}\"\n",
    "                        CancellationToken = None\n",
    "                        OnLine = None\n",
    "                        WorkingDirectory = Some fileDir\n",
    "                    }\n",
    "\n",
    "            return exitCode\n",
    "        })\n",
    "        |> Async.Sequential\n",
    "        |> Async.map Array.sum\n",
    "}"
   ]
  },
  {
   "cell_type": "markdown",
   "metadata": {},
   "source": [
    "## persistCodeProject"
   ]
  },
  {
   "cell_type": "code",
   "execution_count": null,
   "metadata": {
    "dotnet_interactive": {
     "language": "fsharp"
    },
    "polyglot_notebook": {
     "kernelName": "fsharp"
    }
   },
   "outputs": [],
   "source": [
    "let inline persistCodeProject packages modules name code = async {\n",
    "    let getLocals () = $\"packages: {packages} / modules: {modules} / name: {name} / code.Length: {code |> String.length} / {getLocals ()}\"\n",
    "    trace Debug (fun () -> \"persistCodeProject\") getLocals\n",
    "\n",
    "    let repositoryRoot = FileSystem.getSourceDirectory () |> FileSystem.findParent \".paket\" false\n",
    "\n",
    "    let targetDir = repositoryRoot </> \"target/polyglot/builder\" </> name\n",
    "    System.IO.Directory.CreateDirectory targetDir |> ignore\n",
    "\n",
    "    let filePath = targetDir </> $\"{name}.fs\" |> System.IO.Path.GetFullPath\n",
    "    do! code |> FileSystem.writeAllTextExists filePath\n",
    "\n",
    "    let modulesCode =\n",
    "        modules\n",
    "        |> List.map (fun path -> $\"\"\"<Compile Include=\"{repositoryRoot </> path}\" />\"\"\")\n",
    "        |> String.concat \"\\n        \"\n",
    "\n",
    "    let fsprojPath = targetDir </> $\"{name}.fsproj\"\n",
    "    let fsprojCode = $\"\"\"<Project Sdk=\"Microsoft.NET.Sdk\">\n",
    "    <PropertyGroup>\n",
    "        <TargetFramework>net8.0</TargetFramework>\n",
    "        <LangVersion>preview</LangVersion>\n",
    "        <RollForward>Major</RollForward>\n",
    "        <TargetLatestRuntimePatch>true</TargetLatestRuntimePatch>\n",
    "        <PublishAot>false</PublishAot>\n",
    "        <PublishTrimmed>false</PublishTrimmed>\n",
    "        <PublishSingleFile>true</PublishSingleFile>\n",
    "        <SelfContained>true</SelfContained>\n",
    "        <Version>0.0.1-alpha.1</Version>\n",
    "        <OutputType>Exe</OutputType>\n",
    "    </PropertyGroup>\n",
    "\n",
    "    <ItemGroup>\n",
    "        {modulesCode}\n",
    "        <Compile Include=\"{filePath}\" />\n",
    "    </ItemGroup>\n",
    "\n",
    "    <Import Project=\"{repositoryRoot}/.paket/Paket.Restore.targets\" />\n",
    "</Project>\n",
    "\"\"\"\n",
    "    do! fsprojCode |> FileSystem.writeAllTextExists fsprojPath\n",
    "\n",
    "    let paketReferencesPath = targetDir </> \"paket.references\"\n",
    "    let paketReferencesCode =\n",
    "        \"FSharp.Core\" :: packages\n",
    "        |> String.concat \"\\n\"\n",
    "    do! paketReferencesCode |> FileSystem.writeAllTextExists paketReferencesPath\n",
    "\n",
    "    return fsprojPath\n",
    "}"
   ]
  },
  {
   "cell_type": "markdown",
   "metadata": {},
   "source": [
    "## buildCode"
   ]
  },
  {
   "cell_type": "code",
   "execution_count": null,
   "metadata": {
    "dotnet_interactive": {
     "language": "fsharp"
    },
    "polyglot_notebook": {
     "kernelName": "fsharp"
    }
   },
   "outputs": [],
   "source": [
    "let inline buildCode runtime packages modules outputDir name code = async {\n",
    "    let! fsprojPath = code |> persistCodeProject packages modules name\n",
    "    return! fsprojPath |> buildProject runtime outputDir\n",
    "}"
   ]
  },
  {
   "cell_type": "code",
   "execution_count": null,
   "metadata": {
    "dotnet_interactive": {
     "language": "fsharp"
    },
    "polyglot_notebook": {
     "kernelName": "fsharp"
    }
   },
   "outputs": [
    {
     "name": "stdout",
     "output_type": "stream",
     "text": [
      "00:00:00 #1 [Debug] persistCodeProject / packages: [] / modules: [] / name: test1 / code.Length: 5\n",
      "00:00:00 #2 [Debug] buildProject / fullPath: /home/runner/work/polyglot/polyglot/target/polyglot/builder/test1/test1.fsproj\n",
      "00:00:00 #3 [Debug] executeAsync / options: { Command =\n",
      "   \"dotnet publish \"/home/runner/work/polyglot/polyglot/target/polyglot/builder/test1/test1.fsproj\" --configuration Release --output \"dist\" --runtime linux-x64\"\n",
      "  WorkingDirectory =\n",
      "   Some \"/home/runner/work/polyglot/polyglot/target/polyglot/builder/test1\"\n",
      "  CancellationToken = None\n",
      "  OnLine = None }\n",
      "00:00:00 #4 [Verbose] > MSBuild version 17.9.4+90725d08d for .NET\n",
      "00:00:00 #5 [Verbose] >   Determining projects to restore...\n",
      "00:00:02 #6 [Verbose] >   Restored /home/runner/work/polyglot/polyglot/target/polyglot/builder/test1/test1.fsproj (in 1.8 sec).\n",
      "00:00:03 #7 [Verbose] > /home/runner/work/polyglot/polyglot/target/polyglot/builder/test1/test1.fs(1,1): warning FS0020: The result of this expression has type 'int' and is implicitly ignored. Consider using 'ignore' to discard this value explicitly, e.g. 'expr |> ignore', or 'let' to bind the result to a name, e.g. 'let result = expr'. [/home/runner/work/polyglot/polyglot/target/polyglot/builder/test1/test1.fsproj]\n",
      "00:00:04 #8 [Verbose] > /home/runner/work/polyglot/polyglot/target/polyglot/builder/test1/test1.fs(1,6): warning FS0988: Main module of program is empty: nothing will happen when it is run [/home/runner/work/polyglot/polyglot/target/polyglot/builder/test1/test1.fsproj]\n",
      "00:00:04 #9 [Verbose] >   test1 -> /home/runner/work/polyglot/polyglot/target/polyglot/builder/test1/bin/Release/net8.0/linux-x64/test1.dll\n",
      "00:00:04 #10 [Verbose] >   test1 -> /home/runner/work/polyglot/polyglot/target/polyglot/builder/test1/dist\n",
      "00:00:04 #11 [Debug] executeAsync / exitCode: 0 / output.Length: 1023\n",
      "00:00:04 #12 [Debug] executeAsync / options: { Command =\n",
      "   \"dotnet publish \"/home/runner/work/polyglot/polyglot/target/polyglot/builder/test1/test1.fsproj\" --configuration Release --output \"dist\" --runtime win-x64\"\n",
      "  WorkingDirectory =\n",
      "   Some \"/home/runner/work/polyglot/polyglot/target/polyglot/builder/test1\"\n",
      "  CancellationToken = None\n",
      "  OnLine = None }\n",
      "00:00:05 #13 [Verbose] > MSBuild version 17.9.4+90725d08d for .NET\n",
      "00:00:05 #14 [Verbose] >   Determining projects to restore...\n",
      "00:00:07 #15 [Verbose] >   Restored /home/runner/work/polyglot/polyglot/target/polyglot/builder/test1/test1.fsproj (in 1.47 sec).\n",
      "00:00:08 #16 [Verbose] > /home/runner/work/polyglot/polyglot/target/polyglot/builder/test1/test1.fs(1,1): warning FS0020: The result of this expression has type 'int' and is implicitly ignored. Consider using 'ignore' to discard this value explicitly, e.g. 'expr |> ignore', or 'let' to bind the result to a name, e.g. 'let result = expr'. [/home/runner/work/polyglot/polyglot/target/polyglot/builder/test1/test1.fsproj]\n",
      "00:00:08 #17 [Verbose] > /home/runner/work/polyglot/polyglot/target/polyglot/builder/test1/test1.fs(1,6): warning FS0988: Main module of program is empty: nothing will happen when it is run [/home/runner/work/polyglot/polyglot/target/polyglot/builder/test1/test1.fsproj]\n",
      "00:00:08 #18 [Verbose] >   test1 -> /home/runner/work/polyglot/polyglot/target/polyglot/builder/test1/bin/Release/net8.0/win-x64/test1.dll\n",
      "00:00:09 #19 [Verbose] >   test1 -> /home/runner/work/polyglot/polyglot/target/polyglot/builder/test1/dist\n",
      "00:00:09 #20 [Debug] executeAsync / exitCode: 0 / output.Length: 1022\n",
      "FSharpOption<Int32>\n",
      "      Value: 0\n"
     ]
    }
   ],
   "source": [
    "//// test\n",
    "\n",
    "\"1 + 1\"\n",
    "|> buildCode None [] [] None \"test1\"\n",
    "|> Async.runWithTimeout 60000\n",
    "|> _equal (Some 0)"
   ]
  },
  {
   "cell_type": "code",
   "execution_count": null,
   "metadata": {
    "dotnet_interactive": {
     "language": "fsharp"
    },
    "polyglot_notebook": {
     "kernelName": "fsharp"
    }
   },
   "outputs": [
    {
     "name": "stdout",
     "output_type": "stream",
     "text": [
      "00:00:09 #21 [Debug] persistCodeProject / packages: [] / modules: [] / name: test2 / code.Length: 5\n",
      "00:00:09 #22 [Debug] buildProject / fullPath: /home/runner/work/polyglot/polyglot/target/polyglot/builder/test2/test2.fsproj\n",
      "00:00:09 #23 [Debug] executeAsync / options: { Command =\n",
      "   \"dotnet publish \"/home/runner/work/polyglot/polyglot/target/polyglot/builder/test2/test2.fsproj\" --configuration Release --output \"dist\" --runtime linux-x64\"\n",
      "  WorkingDirectory =\n",
      "   Some \"/home/runner/work/polyglot/polyglot/target/polyglot/builder/test2\"\n",
      "  CancellationToken = None\n",
      "  OnLine = None }\n",
      "00:00:09 #24 [Verbose] > MSBuild version 17.9.4+90725d08d for .NET\n",
      "00:00:10 #25 [Verbose] >   Determining projects to restore...\n",
      "00:00:10 #26 [Verbose] >   Restored /home/runner/work/polyglot/polyglot/target/polyglot/builder/test2/test2.fsproj (in 252 ms).\n",
      "00:00:12 #27 [Verbose] > /home/runner/work/polyglot/polyglot/target/polyglot/builder/test2/test2.fs(1,5): error FS0039: The value or constructor 'a' is not defined. [/home/runner/work/polyglot/polyglot/target/polyglot/builder/test2/test2.fsproj]\n",
      "00:00:12 #28 [Debug] executeAsync / exitCode: 1 / output.Length: 402\n",
      "00:00:12 #29 [Debug] executeAsync / options: { Command =\n",
      "   \"dotnet publish \"/home/runner/work/polyglot/polyglot/target/polyglot/builder/test2/test2.fsproj\" --configuration Release --output \"dist\" --runtime win-x64\"\n",
      "  WorkingDirectory =\n",
      "   Some \"/home/runner/work/polyglot/polyglot/target/polyglot/builder/test2\"\n",
      "  CancellationToken = None\n",
      "  OnLine = None }\n",
      "00:00:12 #30 [Verbose] > MSBuild version 17.9.4+90725d08d for .NET\n",
      "00:00:12 #31 [Verbose] >   Determining projects to restore...\n",
      "00:00:13 #32 [Verbose] >   Restored /home/runner/work/polyglot/polyglot/target/polyglot/builder/test2/test2.fsproj (in 246 ms).\n",
      "00:00:14 #33 [Verbose] > /home/runner/work/polyglot/polyglot/target/polyglot/builder/test2/test2.fs(1,5): error FS0039: The value or constructor 'a' is not defined. [/home/runner/work/polyglot/polyglot/target/polyglot/builder/test2/test2.fsproj]\n",
      "00:00:14 #34 [Debug] executeAsync / exitCode: 1 / output.Length: 402\n",
      "FSharpOption<Int32>\n",
      "      Value: 2\n"
     ]
    }
   ],
   "source": [
    "//// test\n",
    "\n",
    "\"1 + a\"\n",
    "|> buildCode None [] [] None \"test2\"\n",
    "|> Async.runWithTimeout 60000\n",
    "|> _equal (Some 2)"
   ]
  },
  {
   "cell_type": "markdown",
   "metadata": {},
   "source": [
    "## readFile"
   ]
  },
  {
   "cell_type": "code",
   "execution_count": null,
   "metadata": {
    "dotnet_interactive": {
     "language": "fsharp"
    },
    "polyglot_notebook": {
     "kernelName": "fsharp"
    }
   },
   "outputs": [],
   "source": [
    "let inline readFile path = async {\n",
    "    let! code = path |> FileSystem.readAllTextAsync\n",
    "\n",
    "    let code = System.Text.RegularExpressions.Regex.Replace (\n",
    "        code,\n",
    "        @\"( *)(let\\s+main\\s+.*?\\s*=)\",\n",
    "        fun m -> m.Groups.[1].Value + \"[<EntryPoint>]\\n\" + m.Groups.[1].Value + m.Groups.[2].Value\n",
    "    )\n",
    "\n",
    "    let codeTrim = code |> String.trimEnd [||]\n",
    "    return\n",
    "        if codeTrim |> String.endsWith \"\\n()\"\n",
    "        then codeTrim |> String.substring 0 ((codeTrim |> String.length) - 2)\n",
    "        else code\n",
    "}"
   ]
  },
  {
   "cell_type": "markdown",
   "metadata": {},
   "source": [
    "## buildFile"
   ]
  },
  {
   "cell_type": "code",
   "execution_count": null,
   "metadata": {
    "dotnet_interactive": {
     "language": "fsharp"
    },
    "polyglot_notebook": {
     "kernelName": "fsharp"
    }
   },
   "outputs": [],
   "source": [
    "let inline buildFile runtime packages modules path = async {\n",
    "    let fullPath = path |> System.IO.Path.GetFullPath\n",
    "    let dir = fullPath |> System.IO.Path.GetDirectoryName\n",
    "    let name = fullPath |> System.IO.Path.GetFileNameWithoutExtension\n",
    "    let! code = fullPath |> readFile\n",
    "    return! code |> buildCode runtime packages modules (dir </> \"dist\" |> Some) name\n",
    "}"
   ]
  },
  {
   "cell_type": "markdown",
   "metadata": {},
   "source": [
    "## persistFile"
   ]
  },
  {
   "cell_type": "code",
   "execution_count": null,
   "metadata": {
    "dotnet_interactive": {
     "language": "fsharp"
    },
    "polyglot_notebook": {
     "kernelName": "fsharp"
    }
   },
   "outputs": [],
   "source": [
    "let inline persistFile packages modules path = async {\n",
    "    let fullPath = path |> System.IO.Path.GetFullPath\n",
    "    let name = fullPath |> System.IO.Path.GetFileNameWithoutExtension\n",
    "    let! code = fullPath |> readFile\n",
    "    return! code |> persistCodeProject packages modules name\n",
    "}"
   ]
  },
  {
   "cell_type": "markdown",
   "metadata": {},
   "source": [
    "## Arguments"
   ]
  },
  {
   "cell_type": "code",
   "execution_count": null,
   "metadata": {
    "dotnet_interactive": {
     "language": "fsharp"
    },
    "polyglot_notebook": {
     "kernelName": "fsharp"
    }
   },
   "outputs": [],
   "source": [
    "[<RequireQualifiedAccess>]\n",
    "type Arguments =\n",
    "    | [<Argu.ArguAttributes.MainCommand; Argu.ArguAttributes.ExactlyOnce>] Path of path : string\n",
    "    | [<Argu.ArguAttributes.Unique>] Packages of packages : string list\n",
    "    | [<Argu.ArguAttributes.Unique>] Modules of modules : string list\n",
    "    | [<Argu.ArguAttributes.Unique>] Runtime of runtime : string\n",
    "    | [<Argu.ArguAttributes.Unique>] Persist_Only\n",
    "\n",
    "    interface Argu.IArgParserTemplate with\n",
    "        member s.Usage =\n",
    "            match s with\n",
    "            | Path _ -> nameof Path\n",
    "            | Packages _ -> nameof Packages\n",
    "            | Modules _ -> nameof Modules\n",
    "            | Runtime _ -> nameof Runtime\n",
    "            | Persist_Only -> nameof Persist_Only"
   ]
  },
  {
   "cell_type": "code",
   "execution_count": null,
   "metadata": {
    "dotnet_interactive": {
     "language": "fsharp"
    },
    "polyglot_notebook": {
     "kernelName": "fsharp"
    }
   },
   "outputs": [
    {
     "data": {
      "text/plain": [
       "USAGE: dotnet [--help] [--packages [<packages>...]] [--modules [<modules>...]]\n",
       "              [--runtime <runtime>] [--persist-only] <path>\n",
       "\n",
       "PATH:\n",
       "\n",
       "    <path>                Path\n",
       "\n",
       "OPTIONS:\n",
       "\n",
       "    --packages [<packages>...]\n",
       "                          Packages\n",
       "    --modules [<modules>...]\n",
       "                          Modules\n",
       "    --runtime <runtime>   Runtime\n",
       "    --persist-only        Persist_Only\n",
       "    --help                display this list of options.\n"
      ]
     },
     "metadata": {},
     "output_type": "display_data"
    }
   ],
   "source": [
    "//// test\n",
    "\n",
    "Argu.ArgumentParser.Create<Arguments>().PrintUsage ()"
   ]
  },
  {
   "cell_type": "markdown",
   "metadata": {},
   "source": [
    "## main"
   ]
  },
  {
   "cell_type": "code",
   "execution_count": null,
   "metadata": {
    "dotnet_interactive": {
     "language": "fsharp"
    },
    "polyglot_notebook": {
     "kernelName": "fsharp"
    }
   },
   "outputs": [],
   "source": [
    "let main args =\n",
    "    let argsMap = args |> Runtime.parseArgsMap<Arguments>\n",
    "\n",
    "    let path =\n",
    "        match argsMap.[nameof Arguments.Path] with\n",
    "        | [ Arguments.Path path ] -> Some path\n",
    "        | _ -> None\n",
    "        |> Option.get\n",
    "\n",
    "    let packages =\n",
    "        match argsMap |> Map.tryFind (nameof Arguments.Packages) with\n",
    "        | Some [ Arguments.Packages packages ] -> packages\n",
    "        | _ -> []\n",
    "\n",
    "    let modules =\n",
    "        match argsMap |> Map.tryFind (nameof Arguments.Modules) with\n",
    "        | Some [ Arguments.Modules modules ] -> modules\n",
    "        | _ -> []\n",
    "\n",
    "    let runtime =\n",
    "        match argsMap |> Map.tryFind (nameof Arguments.Runtime) with\n",
    "        | Some [ Arguments.Runtime runtime ] -> Some runtime\n",
    "        | _ -> None\n",
    "\n",
    "    let persistOnly = argsMap |> Map.containsKey (nameof Arguments.Persist_Only)\n",
    "\n",
    "    if persistOnly\n",
    "    then path |> persistFile packages modules |> Async.map (fun _ -> 0)\n",
    "    else path |> buildFile runtime packages modules\n",
    "    |> Async.runWithTimeout 60000\n",
    "    |> function\n",
    "        | Some exitCode -> exitCode\n",
    "        | None -> 1"
   ]
  },
  {
   "cell_type": "code",
   "execution_count": null,
   "metadata": {
    "dotnet_interactive": {
     "language": "fsharp"
    },
    "polyglot_notebook": {
     "kernelName": "fsharp"
    }
   },
   "outputs": [
    {
     "data": {
      "text/html": [
       "<div class=\"dni-plaintext\"><pre>0</pre></div><style>\n",
       ".dni-code-hint {\n",
       "    font-style: italic;\n",
       "    overflow: hidden;\n",
       "    white-space: nowrap;\n",
       "}\n",
       ".dni-treeview {\n",
       "    white-space: nowrap;\n",
       "}\n",
       ".dni-treeview td {\n",
       "    vertical-align: top;\n",
       "    text-align: start;\n",
       "}\n",
       "details.dni-treeview {\n",
       "    padding-left: 1em;\n",
       "}\n",
       "table td {\n",
       "    text-align: start;\n",
       "}\n",
       "table tr { \n",
       "    vertical-align: top; \n",
       "    margin: 0em 0px;\n",
       "}\n",
       "table tr td pre \n",
       "{ \n",
       "    vertical-align: top !important; \n",
       "    margin: 0em 0px !important;\n",
       "} \n",
       "table th {\n",
       "    text-align: start;\n",
       "}\n",
       "</style>"
      ]
     },
     "metadata": {},
     "output_type": "display_data"
    },
    {
     "name": "stdout",
     "output_type": "stream",
     "text": [
      "00:00:15 #35 [Debug] persistCodeProject / packages: [Argu; FSharp.Control.AsyncSeq; System.CommandLine; ... ] / modules: [lib/fsharp/Common.fs; lib/fsharp/CommonFSharp.fs; lib/fsharp/Async.fs; ... ] / name: Builder / code.Length: 7079\n",
      "00:00:15 #36 [Debug] buildProject / fullPath: /home/runner/work/polyglot/polyglot/target/polyglot/builder/Builder/Builder.fsproj\n",
      "00:00:15 #37 [Debug] executeAsync / options: { Command =\n",
      "   \"dotnet publish \"/home/runner/work/polyglot/polyglot/target/polyglot/builder/Builder/Builder.fsproj\" --configuration Release --output \"/home/runner/work/polyglot/polyglot/apps/builder/dist\" --runtime linux-x64\"\n",
      "  WorkingDirectory =\n",
      "   Some \"/home/runner/work/polyglot/polyglot/target/polyglot/builder/Builder\"\n",
      "  CancellationToken = None\n",
      "  OnLine = None }\n",
      "00:00:15 #38 [Verbose] > MSBuild version 17.9.4+90725d08d for .NET\n",
      "00:00:15 #39 [Verbose] >   Determining projects to restore...\n",
      "00:00:16 #40 [Verbose] >   Paket version 8.0.0-alpha002+6339fce88f07b4d959d03b78330fdb5a6d936483\n",
      "00:00:16 #41 [Verbose] >   The last full restore is still up to date. Nothing left to do.\n",
      "00:00:16 #42 [Verbose] >   Total time taken: 0 milliseconds\n",
      "00:00:16 #43 [Verbose] >   Paket version 8.0.0-alpha002+6339fce88f07b4d959d03b78330fdb5a6d936483\n",
      "00:00:17 #44 [Verbose] >   Restoring /home/runner/work/polyglot/polyglot/target/polyglot/builder/Builder/Builder.fsproj\n",
      "00:00:17 #45 [Verbose] >   Starting restore process.\n",
      "00:00:17 #46 [Verbose] >   Total time taken: 0 milliseconds\n",
      "00:00:17 #47 [Verbose] >   Restored /home/runner/work/polyglot/polyglot/target/polyglot/builder/Builder/Builder.fsproj (in 284 ms).\n",
      "00:00:22 #48 [Verbose] >   Builder -> /home/runner/work/polyglot/polyglot/target/polyglot/builder/Builder/bin/Release/net8.0/linux-x64/Builder.dll\n",
      "00:00:22 #49 [Verbose] >   Builder -> /home/runner/work/polyglot/polyglot/apps/builder/dist\n",
      "00:00:22 #50 [Debug] executeAsync / exitCode: 0 / output.Length: 777\n",
      "00:00:22 #51 [Debug] executeAsync / options: { Command =\n",
      "   \"dotnet publish \"/home/runner/work/polyglot/polyglot/target/polyglot/builder/Builder/Builder.fsproj\" --configuration Release --output \"/home/runner/work/polyglot/polyglot/apps/builder/dist\" --runtime win-x64\"\n",
      "  WorkingDirectory =\n",
      "   Some \"/home/runner/work/polyglot/polyglot/target/polyglot/builder/Builder\"\n",
      "  CancellationToken = None\n",
      "  OnLine = None }\n",
      "00:00:23 #52 [Verbose] > MSBuild version 17.9.4+90725d08d for .NET\n",
      "00:00:23 #53 [Verbose] >   Determining projects to restore...\n",
      "00:00:24 #54 [Verbose] >   Restored /home/runner/work/polyglot/polyglot/target/polyglot/builder/Builder/Builder.fsproj (in 278 ms).\n",
      "00:00:28 #55 [Verbose] >   Builder -> /home/runner/work/polyglot/polyglot/target/polyglot/builder/Builder/bin/Release/net8.0/win-x64/Builder.dll\n",
      "00:00:28 #56 [Verbose] >   Builder -> /home/runner/work/polyglot/polyglot/apps/builder/dist\n",
      "00:00:28 #57 [Debug] executeAsync / exitCode: 0 / output.Length: 373\n"
     ]
    }
   ],
   "source": [
    "//// test\n",
    "\n",
    "let args =\n",
    "    System.Environment.GetEnvironmentVariable \"ARGS\"\n",
    "    |> Runtime.splitArgs\n",
    "    |> Seq.toArray\n",
    "\n",
    "match args with\n",
    "| [||] -> 0\n",
    "| args -> if main args = 0 then 0 else failwith \"main failed\""
   ]
  }
 ],
 "metadata": {},
 "nbformat": 4,
 "nbformat_minor": 5
}